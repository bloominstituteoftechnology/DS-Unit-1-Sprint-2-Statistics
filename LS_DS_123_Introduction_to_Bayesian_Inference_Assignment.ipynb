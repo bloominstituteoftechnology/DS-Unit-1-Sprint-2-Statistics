{
  "nbformat": 4,
  "nbformat_minor": 0,
  "metadata": {
    "colab": {
      "name": "LS_DS_123_Introduction_to_Bayesian_Inference_Assignment.ipynb",
      "provenance": [],
      "collapsed_sections": [],
      "include_colab_link": true
    },
    "kernelspec": {
      "name": "python3",
      "display_name": "Python 3"
    }
  },
  "cells": [
    {
      "cell_type": "markdown",
      "metadata": {
        "id": "view-in-github",
        "colab_type": "text"
      },
      "source": [
        "<a href=\"https://colab.research.google.com/github/RAV10K1/DS-Unit-1-Sprint-2-Statistics/blob/master/LS_DS_123_Introduction_to_Bayesian_Inference_Assignment.ipynb\" target=\"_parent\"><img src=\"https://colab.research.google.com/assets/colab-badge.svg\" alt=\"Open In Colab\"/></a>"
      ]
    },
    {
      "cell_type": "markdown",
      "metadata": {
        "id": "H7OLbevlbd_Z",
        "colab_type": "text"
      },
      "source": [
        "# Lambda School Data Science Module 123\n",
        "\n",
        "## Introduction to Bayesian Inference\n",
        "\n",
        "\n"
      ]
    },
    {
      "cell_type": "markdown",
      "metadata": {
        "id": "P-DzzRk5bf0z",
        "colab_type": "text"
      },
      "source": [
        "## Assignment - Code it up!\n",
        "\n",
        "We used pure math to apply Bayes Theorem to drug tests. Now write Python code to reproduce the results! This is purposefully open ended - you'll have to think about how you should represent probabilities and events. You can and should look things up.\n",
        "\n",
        "Specific goals/targets:\n",
        "\n",
        "### 1) Write a function \n",
        "\n",
        "`def prob_drunk_given_positive(prob_drunk_prior, false_positive_rate):` \n",
        "\n",
        "You should only truly need these two values in order to apply Bayes Theorem. In this example, imagine that individuals are taking a breathalyzer test with an 8% false positive rate, a 100% true positive rate, and that our prior belief about drunk driving in the population is 1/1000. \n",
        " - What is the probability that a person is drunk after one positive breathalyzer test?\n",
        " - What is the probability that a person is drunk after two positive breathalyzer tests?\n",
        " - How many positive breathalyzer tests are needed in order to have a probability that's greater than 95% that a person is drunk beyond the legal limit?\n",
        "\n",
        "### 2) Explore `scipy.stats.bayes_mvs`  \n",
        "Read its documentation, and experiment with it on data you've tested in other ways earlier this week.\n",
        " - Create a visualization comparing the results of a Bayesian approach to a traditional/frequentist approach. (with a large sample size they should look close to identical, however, take this opportunity to practice visualizing condfidence intervals in general. The following are some potential ways that you could visualize confidence intervals on your graph:\n",
        "  - [Matplotlib Error Bars](https://matplotlib.org/3.1.1/api/_as_gen/matplotlib.pyplot.errorbar.html)\n",
        "  - [Seaborn barplot with error bars](https://seaborn.pydata.org/generated/seaborn.barplot.html)\n",
        "  - [Vertical ines to show bounds of confidence interval](https://www.simplypsychology.org/confidence-interval.jpg)\n",
        "  - [Confidence Intervals on Box Plots](https://matplotlib.org/3.1.1/api/_as_gen/matplotlib.axes.Axes.boxplot.html)\n",
        "\n",
        "### 3) In your own words, summarize the difference between Bayesian and Frequentist statistics\n",
        "\n",
        "If you're unsure where to start, check out [this blog post of Bayes theorem with Python](https://dataconomy.com/2015/02/introduction-to-bayes-theorem-with-python/).\n",
        "\n"
      ]
    },
    {
      "cell_type": "markdown",
      "metadata": {
        "id": "nx5KOBKRg3tf",
        "colab_type": "text"
      },
      "source": [
        "# 1) Bayesian Inference"
      ]
    },
    {
      "cell_type": "code",
      "metadata": {
        "id": "xSbYGvScg21_",
        "colab_type": "code",
        "colab": {}
      },
      "source": [
        "# Creating function to calculate Bayesian inference\n",
        "def prob_drunk_given_pos(prob_drunk_prior, false_pos_rate, true_pos_rate, num_of_tests):\n",
        "  posterior_prob = prob_drunk_prior\n",
        "  for test in range(0, num_of_tests):\n",
        "    p_drunk = posterior_prob\n",
        "    p_not_drunk = (1-p_drunk)\n",
        "    p_pos_given_drunk = true_pos_rate\n",
        "    p_pos_given_not_drunk = false_pos_rate \n",
        "    posterior_prob = (p_pos_given_drunk*p_drunk)/((p_pos_given_drunk*p_drunk) + (p_pos_given_not_drunk*p_not_drunk))\n",
        "  return posterior_prob  "
      ],
      "execution_count": 0,
      "outputs": []
    },
    {
      "cell_type": "markdown",
      "metadata": {
        "id": "CveC-Yazmsbu",
        "colab_type": "text"
      },
      "source": [
        "### Probability that a person is drunk after one positive test:"
      ]
    },
    {
      "cell_type": "code",
      "metadata": {
        "id": "Uh7ubLdCmrDg",
        "colab_type": "code",
        "outputId": "ed02a935-ea41-4c0e-ad24-a1d67c80c782",
        "colab": {
          "base_uri": "https://localhost:8080/",
          "height": 35
        }
      },
      "source": [
        "print(f'Probability that the person is drunk after one test: {prob_drunk_given_pos(0.001, 0.08, 1, 1)*100}%')"
      ],
      "execution_count": 24,
      "outputs": [
        {
          "output_type": "stream",
          "text": [
            "Probability that the person is drunk after one test: 1.2357884330202669%\n"
          ],
          "name": "stdout"
        }
      ]
    },
    {
      "cell_type": "markdown",
      "metadata": {
        "id": "S_ll4JQHnysT",
        "colab_type": "text"
      },
      "source": [
        "### Probability that a person is drunk after two tests:"
      ]
    },
    {
      "cell_type": "code",
      "metadata": {
        "id": "sh6Qs4yVn7YL",
        "colab_type": "code",
        "outputId": "e4c93e29-4e55-42f0-f786-7d97a2c64487",
        "colab": {
          "base_uri": "https://localhost:8080/",
          "height": 35
        }
      },
      "source": [
        "print(f'Probability that the person is drunk after two tests: {prob_drunk_given_pos(0.001, 0.08, 1, 2)*100}%')"
      ],
      "execution_count": 25,
      "outputs": [
        {
          "output_type": "stream",
          "text": [
            "Probability that the person is drunk after two tests: 13.525210993291495%\n"
          ],
          "name": "stdout"
        }
      ]
    },
    {
      "cell_type": "markdown",
      "metadata": {
        "id": "1HNY21DCoLwR",
        "colab_type": "text"
      },
      "source": [
        "### No. of breathalyzer tests needed to determine minimum probability of 95% that a person is drunk:"
      ]
    },
    {
      "cell_type": "code",
      "metadata": {
        "id": "sNWEVKI7oeBe",
        "colab_type": "code",
        "outputId": "93ddc48e-e7d9-4153-9ea3-fef3fb400d34",
        "colab": {
          "base_uri": "https://localhost:8080/",
          "height": 35
        }
      },
      "source": [
        "# 4 tests are required to determine drunkeness with 95% probability.\n",
        "prob_drunk_given_pos(0.001, 0.08,1,4)*100"
      ],
      "execution_count": 26,
      "outputs": [
        {
          "output_type": "execute_result",
          "data": {
            "text/plain": [
              "96.06895076105054"
            ]
          },
          "metadata": {
            "tags": []
          },
          "execution_count": 26
        }
      ]
    },
    {
      "cell_type": "markdown",
      "metadata": {
        "id": "w9JdGsHZ-WTB",
        "colab_type": "text"
      },
      "source": [
        "# 2) Exploring scipy.stats.bayes_mvs (Optional)"
      ]
    },
    {
      "cell_type": "code",
      "metadata": {
        "id": "jtd9r-QUo05c",
        "colab_type": "code",
        "colab": {
          "base_uri": "https://localhost:8080/",
          "height": 35
        },
        "outputId": "8d4bb5c1-e484-4e8d-eb66-e090631df493"
      },
      "source": [
        "# Using scipy.stats Bayeseian function on Titanic dataset (Used in stretch goal below)\n",
        "stats.bayes_mvs(df_titanic['Survived'])[0]"
      ],
      "execution_count": 82,
      "outputs": [
        {
          "output_type": "execute_result",
          "data": {
            "text/plain": [
              "Mean(statistic=0.3855693348365276, minmax=(0.35864453947958164, 0.4124941301934736))"
            ]
          },
          "metadata": {
            "tags": []
          },
          "execution_count": 82
        }
      ]
    },
    {
      "cell_type": "markdown",
      "metadata": {
        "id": "pRp1L2LzAkSy",
        "colab_type": "text"
      },
      "source": [
        "# 3) Difference Between Bayesian and Frequentist Statistics"
      ]
    },
    {
      "cell_type": "markdown",
      "metadata": {
        "id": "2M3RpHe6Lg7w",
        "colab_type": "text"
      },
      "source": [
        "* Bayesan statistics is an approach that applies probabilities to statistical questions.\n",
        "* Whereas frequentist statistics approaches problems by trying to eliminate uncertainty by providing estimates, Bayesian statistics instead preserves uncertainty but updates prior beliefs based on new evidence.\n",
        "* The following example on coinflips illustrates these two approaches. Firstly, frequentist statistics is used to calculate the confidence intervals of the coinflips. Then the same is calculated using Bayesian inference.\n"
      ]
    },
    {
      "cell_type": "code",
      "metadata": {
        "id": "u1OvkyokAtXJ",
        "colab_type": "code",
        "colab": {}
      },
      "source": [
        "# Importing libraries\n",
        "import random\n",
        "import scipy.stats as stats\n",
        "import numpy as np"
      ],
      "execution_count": 0,
      "outputs": []
    },
    {
      "cell_type": "code",
      "metadata": {
        "id": "h1hs6B6yR5-C",
        "colab_type": "code",
        "colab": {}
      },
      "source": [
        "# Setting random seed\n",
        "np.random.seed(seed=42)"
      ],
      "execution_count": 0,
      "outputs": []
    },
    {
      "cell_type": "code",
      "metadata": {
        "id": "fxC5yrDdR6II",
        "colab_type": "code",
        "colab": {}
      },
      "source": [
        "# Generating event space for 10,000 coinflips\n",
        "coin_flips = np.random.binomial(n=1, p=0.5, size=10000)"
      ],
      "execution_count": 0,
      "outputs": []
    },
    {
      "cell_type": "code",
      "metadata": {
        "id": "tj-T3PkcS6wy",
        "colab_type": "code",
        "outputId": "98fff0af-b5c3-4d92-934b-c25b999f6262",
        "colab": {
          "base_uri": "https://localhost:8080/",
          "height": 35
        }
      },
      "source": [
        "# Calculating sample mean\n",
        "np.mean(coin_flips)"
      ],
      "execution_count": 30,
      "outputs": [
        {
          "output_type": "execute_result",
          "data": {
            "text/plain": [
              "0.4924"
            ]
          },
          "metadata": {
            "tags": []
          },
          "execution_count": 30
        }
      ]
    },
    {
      "cell_type": "markdown",
      "metadata": {
        "id": "R0GnLP-_WGX-",
        "colab_type": "text"
      },
      "source": [
        "### Using Frequentist Approach"
      ]
    },
    {
      "cell_type": "code",
      "metadata": {
        "id": "NC5fp0qfS67r",
        "colab_type": "code",
        "outputId": "7f51cff7-201b-45ea-de06-be2a24037f47",
        "colab": {
          "base_uri": "https://localhost:8080/",
          "height": 35
        }
      },
      "source": [
        "# Calculating confidence intervals using scipy.stats function at 95% confidence level (alpha).\n",
        "CI_freq = stats.t.interval(0.95, len(coin_flips), \n",
        "                           loc=np.mean(coin_flips), \n",
        "                           scale=stats.sem(coin_flips))\n",
        "CI_freq"
      ],
      "execution_count": 31,
      "outputs": [
        {
          "output_type": "execute_result",
          "data": {
            "text/plain": [
              "(0.4825996360477385, 0.5022003639522615)"
            ]
          },
          "metadata": {
            "tags": []
          },
          "execution_count": 31
        }
      ]
    },
    {
      "cell_type": "markdown",
      "metadata": {
        "id": "TOJ9TDjIUMJH",
        "colab_type": "text"
      },
      "source": [
        "* This shows that given a sample mean of 0.49, we can tell with 95% confidence that the population mean falls between 0.48 and 0.50  "
      ]
    },
    {
      "cell_type": "markdown",
      "metadata": {
        "id": "aJB_5ciGWOPF",
        "colab_type": "text"
      },
      "source": [
        "### Using Bayesian Approach"
      ]
    },
    {
      "cell_type": "code",
      "metadata": {
        "id": "r7Ytu59uUmGR",
        "colab_type": "code",
        "outputId": "46780eea-d860-4d93-c646-1152a213569e",
        "colab": {
          "base_uri": "https://localhost:8080/",
          "height": 35
        }
      },
      "source": [
        "# Calculating the confidence intervals using Bayesian inference at the same confidence level of 95%.\n",
        "CI_bayes = stats.bayes_mvs(coin_flips, alpha=0.95)\n",
        "CI_bayes[0][1]"
      ],
      "execution_count": 32,
      "outputs": [
        {
          "output_type": "execute_result",
          "data": {
            "text/plain": [
              "(0.48260131221789343, 0.5021986877821066)"
            ]
          },
          "metadata": {
            "tags": []
          },
          "execution_count": 32
        }
      ]
    },
    {
      "cell_type": "code",
      "metadata": {
        "id": "0fO1Y61uUmA1",
        "colab_type": "code",
        "outputId": "7b3d143f-a611-43f8-8ea2-b43a78a68cc7",
        "colab": {
          "base_uri": "https://localhost:8080/",
          "height": 70
        }
      },
      "source": [
        "# Checking if both values are exactly equal.\n",
        "print(f'Confidence Intervals Frequentist : {CI_freq}')\n",
        "print(f'Confidence Intervals Bayesian : {CI_bayes[0][1]}')\n",
        "print(f'Are the values equal? : {CI_freq == CI_bayes[0][1]}')"
      ],
      "execution_count": 33,
      "outputs": [
        {
          "output_type": "stream",
          "text": [
            "Confidence Intervals Frequentist : (0.4825996360477385, 0.5022003639522615)\n",
            "Confidence Intervals Bayesian : (0.48260131221789343, 0.5021986877821066)\n",
            "Are the values equal? : False\n"
          ],
          "name": "stdout"
        }
      ]
    },
    {
      "cell_type": "markdown",
      "metadata": {
        "id": "OmGtB64wXVsp",
        "colab_type": "text"
      },
      "source": [
        "* Although both values are similar, it can be seen that they begin to diverge after the second decimal but tend to be approximately close. This is illustrated in the following KDE plot. "
      ]
    },
    {
      "cell_type": "code",
      "metadata": {
        "id": "DrZ9Vbm7XUFr",
        "colab_type": "code",
        "outputId": "51bc844a-bc44-4237-efc1-0e28ca201b2e",
        "colab": {
          "base_uri": "https://localhost:8080/",
          "height": 268
        }
      },
      "source": [
        "# Plotting the Kernel Density Estimates for Both Approaches\n",
        "# Frequentist approach depicted in red\n",
        "# Bayesian approach depicted in blue\n",
        "# The sample mean is depicted by a black vertical line.\n",
        "import seaborn as sns\n",
        "import matplotlib.pyplot as plt\n",
        "\n",
        "sns.kdeplot(coin_flips)\n",
        "plt.axvline(x=CI_freq[0], color='red')\n",
        "plt.axvline(x=CI_freq[1], color='red')\n",
        "plt.axvline(x=CI_bayes[0][1][0], color='blue')\n",
        "plt.axvline(x=CI_bayes[0][1][1], color='blue')\n",
        "plt.axvline(np.mean(coin_flips), color='k');"
      ],
      "execution_count": 34,
      "outputs": [
        {
          "output_type": "display_data",
          "data": {
            "image/png": "[encoded data removed]",
            "text/plain": [
              "<Figure size 432x288 with 1 Axes>"
            ]
          },
          "metadata": {
            "tags": []
          }
        }
      ]
    },
    {
      "cell_type": "code",
      "metadata": {
        "id": "EG5Uh_RCXUbl",
        "colab_type": "code",
        "outputId": "0d2d2ffd-dd52-4a21-c536-0b4ff5700f26",
        "colab": {
          "base_uri": "https://localhost:8080/",
          "height": 268
        }
      },
      "source": [
        "# Re-plotting the KDE to zoom closer.\n",
        "sns.kdeplot(coin_flips)\n",
        "plt.xlim(0.4830, 0.5037)\n",
        "plt.axvline(x=CI_freq[0], color='red')\n",
        "plt.axvline(x=CI_freq[1], color='red')\n",
        "plt.axvline(x=CI_bayes[0][1][0], color='blue')\n",
        "plt.axvline(x=CI_bayes[0][1][1], color='blue')\n",
        "plt.axvline(np.mean(coin_flips), color='k');"
      ],
      "execution_count": 35,
      "outputs": [
        {
          "output_type": "display_data",
          "data": {
            "image/png": "[encoded data removed]",
            "text/plain": [
              "<Figure size 432x288 with 1 Axes>"
            ]
          },
          "metadata": {
            "tags": []
          }
        }
      ]
    },
    {
      "cell_type": "markdown",
      "metadata": {
        "id": "uWgWjp3PQ3Sq",
        "colab_type": "text"
      },
      "source": [
        "## Resources"
      ]
    },
    {
      "cell_type": "markdown",
      "metadata": {
        "id": "QRgHqmYIQ9qn",
        "colab_type": "text"
      },
      "source": [
        "- [Worked example of Bayes rule calculation](https://en.wikipedia.org/wiki/Bayes'_theorem#Examples) (helpful as it fully breaks out the denominator)\n",
        "- [Source code for mvsdist in scipy](https://github.com/scipy/scipy/blob/90534919e139d2a81c24bf08341734ff41a3db12/scipy/stats/morestats.py#L139)"
      ]
    },
    {
      "cell_type": "markdown",
      "metadata": {
        "id": "GP7Jv1XvwtkX",
        "colab_type": "text"
      },
      "source": [
        "## Stretch Goals:\n",
        "\n",
        "- Go back and study the content from Modules 1 & 2 to make sure that you're really comfortable with them.\n",
        "- Apply a Bayesian technique to a problem you previously worked (in an assignment or project work) on from a frequentist (standard) perspective\n",
        "- Check out [PyMC3](https://docs.pymc.io/) (note this goes beyond hypothesis tests into modeling) - read the guides and work through some examples\n",
        "- Take PyMC3 further - see if you can build something with it!"
      ]
    },
    {
      "cell_type": "code",
      "metadata": {
        "id": "_nKDQbrciXnh",
        "colab_type": "code",
        "colab": {}
      },
      "source": [
        "# Importing libraries\n",
        "import pandas as pd"
      ],
      "execution_count": 0,
      "outputs": []
    },
    {
      "cell_type": "code",
      "metadata": {
        "id": "iDi0eFr1x-v_",
        "colab_type": "code",
        "outputId": "443d0340-1e29-4720-a1a6-44c13471e093",
        "colab": {
          "base_uri": "https://localhost:8080/",
          "height": 220
        }
      },
      "source": [
        "# Using data from the titanic dataset.\n",
        "url = 'https://web.stanford.edu/class/archive/cs/cs109/cs109.1166/stuff/titanic.csv'\n",
        "df_titanic = pd.read_csv(url)\n",
        "print(df_titanic.shape)\n",
        "df_titanic.head()"
      ],
      "execution_count": 37,
      "outputs": [
        {
          "output_type": "stream",
          "text": [
            "(887, 8)\n"
          ],
          "name": "stdout"
        },
        {
          "output_type": "execute_result",
          "data": {
            "text/html": [
              "<div>\n",
              "<style scoped>\n",
              "    .dataframe tbody tr th:only-of-type {\n",
              "        vertical-align: middle;\n",
              "    }\n",
              "\n",
              "    .dataframe tbody tr th {\n",
              "        vertical-align: top;\n",
              "    }\n",
              "\n",
              "    .dataframe thead th {\n",
              "        text-align: right;\n",
              "    }\n",
              "</style>\n",
              "<table border=\"1\" class=\"dataframe\">\n",
              "  <thead>\n",
              "    <tr style=\"text-align: right;\">\n",
              "      <th></th>\n",
              "      <th>Survived</th>\n",
              "      <th>Pclass</th>\n",
              "      <th>Name</th>\n",
              "      <th>Sex</th>\n",
              "      <th>Age</th>\n",
              "      <th>Siblings/Spouses Aboard</th>\n",
              "      <th>Parents/Children Aboard</th>\n",
              "      <th>Fare</th>\n",
              "    </tr>\n",
              "  </thead>\n",
              "  <tbody>\n",
              "    <tr>\n",
              "      <th>0</th>\n",
              "      <td>0</td>\n",
              "      <td>3</td>\n",
              "      <td>Mr. Owen Harris Braund</td>\n",
              "      <td>male</td>\n",
              "      <td>22.0</td>\n",
              "      <td>1</td>\n",
              "      <td>0</td>\n",
              "      <td>7.2500</td>\n",
              "    </tr>\n",
              "    <tr>\n",
              "      <th>1</th>\n",
              "      <td>1</td>\n",
              "      <td>1</td>\n",
              "      <td>Mrs. John Bradley (Florence Briggs Thayer) Cum...</td>\n",
              "      <td>female</td>\n",
              "      <td>38.0</td>\n",
              "      <td>1</td>\n",
              "      <td>0</td>\n",
              "      <td>71.2833</td>\n",
              "    </tr>\n",
              "    <tr>\n",
              "      <th>2</th>\n",
              "      <td>1</td>\n",
              "      <td>3</td>\n",
              "      <td>Miss. Laina Heikkinen</td>\n",
              "      <td>female</td>\n",
              "      <td>26.0</td>\n",
              "      <td>0</td>\n",
              "      <td>0</td>\n",
              "      <td>7.9250</td>\n",
              "    </tr>\n",
              "    <tr>\n",
              "      <th>3</th>\n",
              "      <td>1</td>\n",
              "      <td>1</td>\n",
              "      <td>Mrs. Jacques Heath (Lily May Peel) Futrelle</td>\n",
              "      <td>female</td>\n",
              "      <td>35.0</td>\n",
              "      <td>1</td>\n",
              "      <td>0</td>\n",
              "      <td>53.1000</td>\n",
              "    </tr>\n",
              "    <tr>\n",
              "      <th>4</th>\n",
              "      <td>0</td>\n",
              "      <td>3</td>\n",
              "      <td>Mr. William Henry Allen</td>\n",
              "      <td>male</td>\n",
              "      <td>35.0</td>\n",
              "      <td>0</td>\n",
              "      <td>0</td>\n",
              "      <td>8.0500</td>\n",
              "    </tr>\n",
              "  </tbody>\n",
              "</table>\n",
              "</div>"
            ],
            "text/plain": [
              "   Survived  Pclass  ... Parents/Children Aboard     Fare\n",
              "0         0       3  ...                       0   7.2500\n",
              "1         1       1  ...                       0  71.2833\n",
              "2         1       3  ...                       0   7.9250\n",
              "3         1       1  ...                       0  53.1000\n",
              "4         0       3  ...                       0   8.0500\n",
              "\n",
              "[5 rows x 8 columns]"
            ]
          },
          "metadata": {
            "tags": []
          },
          "execution_count": 37
        }
      ]
    },
    {
      "cell_type": "code",
      "metadata": {
        "id": "XFnGf7ayJpOK",
        "colab_type": "code",
        "outputId": "3c26b627-18fd-498f-ae01-371fd80f14af",
        "colab": {
          "base_uri": "https://localhost:8080/",
          "height": 175
        }
      },
      "source": [
        "# Checking for NaN values\n",
        "df_titanic.isnull().sum()"
      ],
      "execution_count": 38,
      "outputs": [
        {
          "output_type": "execute_result",
          "data": {
            "text/plain": [
              "Survived                   0\n",
              "Pclass                     0\n",
              "Name                       0\n",
              "Sex                        0\n",
              "Age                        0\n",
              "Siblings/Spouses Aboard    0\n",
              "Parents/Children Aboard    0\n",
              "Fare                       0\n",
              "dtype: int64"
            ]
          },
          "metadata": {
            "tags": []
          },
          "execution_count": 38
        }
      ]
    },
    {
      "cell_type": "code",
      "metadata": {
        "id": "U8gUktgjJpnP",
        "colab_type": "code",
        "outputId": "98eb1eef-55fd-47bb-ad58-fc6a9389eaaa",
        "colab": {
          "base_uri": "https://localhost:8080/",
          "height": 140
        }
      },
      "source": [
        "# Calculating means for columns of passengers\n",
        "df_titanic.mean()"
      ],
      "execution_count": 39,
      "outputs": [
        {
          "output_type": "execute_result",
          "data": {
            "text/plain": [
              "Survived                    0.385569\n",
              "Pclass                      2.305524\n",
              "Age                        29.471443\n",
              "Siblings/Spouses Aboard     0.525366\n",
              "Parents/Children Aboard     0.383315\n",
              "Fare                       32.305420\n",
              "dtype: float64"
            ]
          },
          "metadata": {
            "tags": []
          },
          "execution_count": 39
        }
      ]
    },
    {
      "cell_type": "code",
      "metadata": {
        "id": "isAvPfbZjuhd",
        "colab_type": "code",
        "colab": {}
      },
      "source": [
        "# Importing ttests from scipy.stats. \n",
        "from scipy.stats import ttest_1samp, ttest_ind"
      ],
      "execution_count": 0,
      "outputs": []
    },
    {
      "cell_type": "code",
      "metadata": {
        "id": "IS8JxA9tqTf9",
        "colab_type": "code",
        "outputId": "2ef15fca-e358-4096-ec9b-618522996ab7",
        "colab": {
          "base_uri": "https://localhost:8080/",
          "height": 203
        }
      },
      "source": [
        "# Separating survivors.\n",
        "df_surv = df_titanic[df_titanic['Survived']==1]\n",
        "df_surv.head()"
      ],
      "execution_count": 41,
      "outputs": [
        {
          "output_type": "execute_result",
          "data": {
            "text/html": [
              "<div>\n",
              "<style scoped>\n",
              "    .dataframe tbody tr th:only-of-type {\n",
              "        vertical-align: middle;\n",
              "    }\n",
              "\n",
              "    .dataframe tbody tr th {\n",
              "        vertical-align: top;\n",
              "    }\n",
              "\n",
              "    .dataframe thead th {\n",
              "        text-align: right;\n",
              "    }\n",
              "</style>\n",
              "<table border=\"1\" class=\"dataframe\">\n",
              "  <thead>\n",
              "    <tr style=\"text-align: right;\">\n",
              "      <th></th>\n",
              "      <th>Survived</th>\n",
              "      <th>Pclass</th>\n",
              "      <th>Name</th>\n",
              "      <th>Sex</th>\n",
              "      <th>Age</th>\n",
              "      <th>Siblings/Spouses Aboard</th>\n",
              "      <th>Parents/Children Aboard</th>\n",
              "      <th>Fare</th>\n",
              "    </tr>\n",
              "  </thead>\n",
              "  <tbody>\n",
              "    <tr>\n",
              "      <th>1</th>\n",
              "      <td>1</td>\n",
              "      <td>1</td>\n",
              "      <td>Mrs. John Bradley (Florence Briggs Thayer) Cum...</td>\n",
              "      <td>female</td>\n",
              "      <td>38.0</td>\n",
              "      <td>1</td>\n",
              "      <td>0</td>\n",
              "      <td>71.2833</td>\n",
              "    </tr>\n",
              "    <tr>\n",
              "      <th>2</th>\n",
              "      <td>1</td>\n",
              "      <td>3</td>\n",
              "      <td>Miss. Laina Heikkinen</td>\n",
              "      <td>female</td>\n",
              "      <td>26.0</td>\n",
              "      <td>0</td>\n",
              "      <td>0</td>\n",
              "      <td>7.9250</td>\n",
              "    </tr>\n",
              "    <tr>\n",
              "      <th>3</th>\n",
              "      <td>1</td>\n",
              "      <td>1</td>\n",
              "      <td>Mrs. Jacques Heath (Lily May Peel) Futrelle</td>\n",
              "      <td>female</td>\n",
              "      <td>35.0</td>\n",
              "      <td>1</td>\n",
              "      <td>0</td>\n",
              "      <td>53.1000</td>\n",
              "    </tr>\n",
              "    <tr>\n",
              "      <th>8</th>\n",
              "      <td>1</td>\n",
              "      <td>3</td>\n",
              "      <td>Mrs. Oscar W (Elisabeth Vilhelmina Berg) Johnson</td>\n",
              "      <td>female</td>\n",
              "      <td>27.0</td>\n",
              "      <td>0</td>\n",
              "      <td>2</td>\n",
              "      <td>11.1333</td>\n",
              "    </tr>\n",
              "    <tr>\n",
              "      <th>9</th>\n",
              "      <td>1</td>\n",
              "      <td>2</td>\n",
              "      <td>Mrs. Nicholas (Adele Achem) Nasser</td>\n",
              "      <td>female</td>\n",
              "      <td>14.0</td>\n",
              "      <td>1</td>\n",
              "      <td>0</td>\n",
              "      <td>30.0708</td>\n",
              "    </tr>\n",
              "  </tbody>\n",
              "</table>\n",
              "</div>"
            ],
            "text/plain": [
              "   Survived  Pclass  ... Parents/Children Aboard     Fare\n",
              "1         1       1  ...                       0  71.2833\n",
              "2         1       3  ...                       0   7.9250\n",
              "3         1       1  ...                       0  53.1000\n",
              "8         1       3  ...                       2  11.1333\n",
              "9         1       2  ...                       0  30.0708\n",
              "\n",
              "[5 rows x 8 columns]"
            ]
          },
          "metadata": {
            "tags": []
          },
          "execution_count": 41
        }
      ]
    },
    {
      "cell_type": "code",
      "metadata": {
        "id": "C1oeZsZAqybB",
        "colab_type": "code",
        "outputId": "4f87d38c-e4a5-4fc6-b625-8e56401154c9",
        "colab": {
          "base_uri": "https://localhost:8080/",
          "height": 203
        }
      },
      "source": [
        "# Separating non-survivors.\n",
        "df_nsurv = df_titanic[df_titanic['Survived']==0]\n",
        "df_nsurv.head()"
      ],
      "execution_count": 42,
      "outputs": [
        {
          "output_type": "execute_result",
          "data": {
            "text/html": [
              "<div>\n",
              "<style scoped>\n",
              "    .dataframe tbody tr th:only-of-type {\n",
              "        vertical-align: middle;\n",
              "    }\n",
              "\n",
              "    .dataframe tbody tr th {\n",
              "        vertical-align: top;\n",
              "    }\n",
              "\n",
              "    .dataframe thead th {\n",
              "        text-align: right;\n",
              "    }\n",
              "</style>\n",
              "<table border=\"1\" class=\"dataframe\">\n",
              "  <thead>\n",
              "    <tr style=\"text-align: right;\">\n",
              "      <th></th>\n",
              "      <th>Survived</th>\n",
              "      <th>Pclass</th>\n",
              "      <th>Name</th>\n",
              "      <th>Sex</th>\n",
              "      <th>Age</th>\n",
              "      <th>Siblings/Spouses Aboard</th>\n",
              "      <th>Parents/Children Aboard</th>\n",
              "      <th>Fare</th>\n",
              "    </tr>\n",
              "  </thead>\n",
              "  <tbody>\n",
              "    <tr>\n",
              "      <th>0</th>\n",
              "      <td>0</td>\n",
              "      <td>3</td>\n",
              "      <td>Mr. Owen Harris Braund</td>\n",
              "      <td>male</td>\n",
              "      <td>22.0</td>\n",
              "      <td>1</td>\n",
              "      <td>0</td>\n",
              "      <td>7.2500</td>\n",
              "    </tr>\n",
              "    <tr>\n",
              "      <th>4</th>\n",
              "      <td>0</td>\n",
              "      <td>3</td>\n",
              "      <td>Mr. William Henry Allen</td>\n",
              "      <td>male</td>\n",
              "      <td>35.0</td>\n",
              "      <td>0</td>\n",
              "      <td>0</td>\n",
              "      <td>8.0500</td>\n",
              "    </tr>\n",
              "    <tr>\n",
              "      <th>5</th>\n",
              "      <td>0</td>\n",
              "      <td>3</td>\n",
              "      <td>Mr. James Moran</td>\n",
              "      <td>male</td>\n",
              "      <td>27.0</td>\n",
              "      <td>0</td>\n",
              "      <td>0</td>\n",
              "      <td>8.4583</td>\n",
              "    </tr>\n",
              "    <tr>\n",
              "      <th>6</th>\n",
              "      <td>0</td>\n",
              "      <td>1</td>\n",
              "      <td>Mr. Timothy J McCarthy</td>\n",
              "      <td>male</td>\n",
              "      <td>54.0</td>\n",
              "      <td>0</td>\n",
              "      <td>0</td>\n",
              "      <td>51.8625</td>\n",
              "    </tr>\n",
              "    <tr>\n",
              "      <th>7</th>\n",
              "      <td>0</td>\n",
              "      <td>3</td>\n",
              "      <td>Master. Gosta Leonard Palsson</td>\n",
              "      <td>male</td>\n",
              "      <td>2.0</td>\n",
              "      <td>3</td>\n",
              "      <td>1</td>\n",
              "      <td>21.0750</td>\n",
              "    </tr>\n",
              "  </tbody>\n",
              "</table>\n",
              "</div>"
            ],
            "text/plain": [
              "   Survived  Pclass  ... Parents/Children Aboard     Fare\n",
              "0         0       3  ...                       0   7.2500\n",
              "4         0       3  ...                       0   8.0500\n",
              "5         0       3  ...                       0   8.4583\n",
              "6         0       1  ...                       0  51.8625\n",
              "7         0       3  ...                       1  21.0750\n",
              "\n",
              "[5 rows x 8 columns]"
            ]
          },
          "metadata": {
            "tags": []
          },
          "execution_count": 42
        }
      ]
    },
    {
      "cell_type": "code",
      "metadata": {
        "id": "7iAR33PXrN_h",
        "colab_type": "code",
        "outputId": "e2e35305-fc48-4508-bf5c-865bea1b8975",
        "colab": {
          "base_uri": "https://localhost:8080/",
          "height": 52
        }
      },
      "source": [
        "# Getting the mean age of passeners who survived\n",
        "print(df_surv['Age'].mean())\n",
        "# # Getting the mean age of passeners who did not survived\n",
        "print(df_nsurv['Age'].mean())"
      ],
      "execution_count": 43,
      "outputs": [
        {
          "output_type": "stream",
          "text": [
            "28.408391812865496\n",
            "30.13853211009174\n"
          ],
          "name": "stdout"
        }
      ]
    },
    {
      "cell_type": "code",
      "metadata": {
        "id": "qEkvNKM2sG9L",
        "colab_type": "code",
        "colab": {}
      },
      "source": [
        ""
      ],
      "execution_count": 0,
      "outputs": []
    },
    {
      "cell_type": "markdown",
      "metadata": {
        "id": "UN2i7OxkriVJ",
        "colab_type": "text"
      },
      "source": [
        "#### In this example we will compare age and survival using the frequentist approach first followed by Bayesian inference.\n",
        "* Null Hypothesis (H0) : Mean age of survivors == Mean age of non-survivors.\n",
        "* Alternative Hypothesis (H1) : Mean age of survivors =/= Mean age of non-survivors.\n",
        "* Calculation performed for 95% confidence level. (alpha = 0.95, p-value=0.05)"
      ]
    },
    {
      "cell_type": "code",
      "metadata": {
        "id": "Xb3FUehk1KJf",
        "colab_type": "code",
        "colab": {
          "base_uri": "https://localhost:8080/",
          "height": 35
        },
        "outputId": "f85431fb-048e-4fbf-8bf5-f3b5b1726821"
      },
      "source": [
        "# Performing t-test on data.\n",
        "ttest_ind(df_surv['Age'], df_nsurv['Age'], nan_policy='omit')"
      ],
      "execution_count": 44,
      "outputs": [
        {
          "output_type": "execute_result",
          "data": {
            "text/plain": [
              "Ttest_indResult(statistic=-1.7781426849537694, pvalue=0.07572369567475853)"
            ]
          },
          "metadata": {
            "tags": []
          },
          "execution_count": 44
        }
      ]
    },
    {
      "cell_type": "markdown",
      "metadata": {
        "id": "wB_RZBzW2Tjc",
        "colab_type": "text"
      },
      "source": [
        "The test results show a p-value of ~ 0.76 which is greater than 0.05. Hence we reject the null hypothesis (H0) that there is no difference in average age of survivors and non-survivors."
      ]
    },
    {
      "cell_type": "code",
      "metadata": {
        "id": "uvPSa9ft2DcX",
        "colab_type": "code",
        "colab": {}
      },
      "source": [
        "# Defining function to calculate confidence intervals using Frequentist approach\n",
        "# Modified from previous lecture notes.\n",
        "def confidence_interval(data, confidence=0.95):\n",
        "    \"\"\"\n",
        "    Calculate a confidence interval around a sample mean for given data.\n",
        "    Using t-distribution and two-tailed test, default 95% confidence. \n",
        "\n",
        "    Arguments:\n",
        "    data - iterable (list or numpy array) of sample observations\n",
        "    confidence - level of confidence for the interval\n",
        "\n",
        "    Returns:\n",
        "    tuple of (mean, lower bound, upper bound)\n",
        "    \"\"\"\n",
        "    data_array = data\n",
        "    data_mean = data.mean()\n",
        "    n = len(data)\n",
        "    stderr = np.std(data_array, ddof=1)/np.sqrt(n)\n",
        "    moe = stderr * stats.t.ppf((1 + confidence) / 2, n-1)\n",
        "    return (data_mean, data_mean - moe, data_mean + moe)"
      ],
      "execution_count": 0,
      "outputs": []
    },
    {
      "cell_type": "code",
      "metadata": {
        "id": "D0Vfy0m13zQK",
        "colab_type": "code",
        "colab": {
          "base_uri": "https://localhost:8080/",
          "height": 52
        },
        "outputId": "303ec188-afcd-45dc-b468-63e9cd64c387"
      },
      "source": [
        "# Calculating Confidence Intervals.\n",
        "# For survivors\n",
        "resultf1 = confidence_interval(df_surv['Age'])\n",
        "print(f'Confidence Interval for Survivors : {resultf1}')\n",
        "# For non-survivors\n",
        "resultf2 = confidence_interval(df_nsurv['Age'])\n",
        "print(f'Confidence Interval for Non-Survivors : {resultf2}')"
      ],
      "execution_count": 52,
      "outputs": [
        {
          "output_type": "stream",
          "text": [
            "Confidence Interval for Survivors : (28.408391812865496, 26.873841224782133, 29.94294240094886)\n",
            "Confidence Interval for Non-Survivors : (30.13853211009174, 28.96908826583849, 31.307975954344993)\n"
          ],
          "name": "stdout"
        }
      ]
    },
    {
      "cell_type": "code",
      "metadata": {
        "id": "O-Dlg4sF5B_A",
        "colab_type": "code",
        "colab": {
          "base_uri": "https://localhost:8080/",
          "height": 52
        },
        "outputId": "68ed3ad4-b0ed-49c2-85c1-9d3ce2ed8162"
      },
      "source": [
        "# Using Bayesian Inference approach\n",
        "# For survivors\n",
        "resultb1 = stats.bayes_mvs(df_surv['Age'])\n",
        "print(f'Confidence Interval for Survivors : {resultb1[0][1]}')\n",
        "# For non-survivors\n",
        "resultb2 = stats.bayes_mvs(df_nsurv['Age'])\n",
        "print(f'Confidence Interval for Non-Survivors : {resultb2[0][1]}')"
      ],
      "execution_count": 63,
      "outputs": [
        {
          "output_type": "stream",
          "text": [
            "Confidence Interval for Survivors : (27.121631429760487, 29.695152195970504)\n",
            "Confidence Interval for Non-Survivors : (29.157616995870388, 31.119447224313095)\n"
          ],
          "name": "stdout"
        }
      ]
    },
    {
      "cell_type": "code",
      "metadata": {
        "id": "r3B_H05T5Cha",
        "colab_type": "code",
        "colab": {
          "base_uri": "https://localhost:8080/",
          "height": 265
        },
        "outputId": "3e7bf160-9f43-4515-ba8f-d2ff7856b62d"
      },
      "source": [
        "# Plotting confidence intervals on Kernel Density Estimate for Survivors\n",
        "sns.kdeplot(df_surv['Age'])\n",
        "plt.axvline(x=resultf1[0], color='k')\n",
        "plt.axvline(x=resultf1[1], color='crimson') # Frequentist CI\n",
        "plt.axvline(x=resultf1[2], color='crimson') # Frequentist CI\n",
        "plt.axvline(x=resultb1[0][1][0], color='green') # Bayesian CI\n",
        "plt.axvline(x=resultb1[0][1][1], color='green'); # Bayesian CI"
      ],
      "execution_count": 77,
      "outputs": [
        {
          "output_type": "display_data",
          "data": {
            "image/png": "[encoded data removed]",
            "text/plain": [
              "<Figure size 432x288 with 1 Axes>"
            ]
          },
          "metadata": {
            "tags": []
          }
        }
      ]
    },
    {
      "cell_type": "code",
      "metadata": {
        "id": "b_Z0Oge08LPZ",
        "colab_type": "code",
        "colab": {
          "base_uri": "https://localhost:8080/",
          "height": 265
        },
        "outputId": "dbfb0c44-ad28-4305-a553-83f791966c24"
      },
      "source": [
        "# Replotting for better look\n",
        "sns.kdeplot(df_surv['Age'])\n",
        "plt.xlim(26, 30)\n",
        "plt.axvline(x=resultf1[0], color='k')\n",
        "plt.axvline(x=resultf1[1], color='crimson')\n",
        "plt.axvline(x=resultf1[2], color='crimson')\n",
        "plt.axvline(x=resultb1[0][1][0], color='green')\n",
        "plt.axvline(x=resultb1[0][1][1], color='green');"
      ],
      "execution_count": 79,
      "outputs": [
        {
          "output_type": "display_data",
          "data": {
            "image/png": "[encoded data removed]",
            "text/plain": [
              "<Figure size 432x288 with 1 Axes>"
            ]
          },
          "metadata": {
            "tags": []
          }
        }
      ]
    },
    {
      "cell_type": "markdown",
      "metadata": {
        "id": "bZGlqkm_-gbr",
        "colab_type": "text"
      },
      "source": [
        "Based on the above data we can say that given an average age of 28.4 for the sample of survivors, we can be 95% confident that the mean age of a survivor would fall between 27.12 and 29.69 years old."
      ]
    },
    {
      "cell_type": "markdown",
      "metadata": {
        "id": "z9ne9BE2PmQN",
        "colab_type": "text"
      },
      "source": [
        "# PyMC3"
      ]
    },
    {
      "cell_type": "code",
      "metadata": {
        "id": "HWjnWX2FPors",
        "colab_type": "code",
        "colab": {
          "base_uri": "https://localhost:8080/",
          "height": 211
        },
        "outputId": "1de15688-45da-488f-ed24-e928e13c7681"
      },
      "source": [
        "# Installing PyMC3\n",
        "pip install pymc3"
      ],
      "execution_count": 83,
      "outputs": [
        {
          "output_type": "stream",
          "text": [
            "Requirement already satisfied: pymc3 in /usr/local/lib/python3.6/dist-packages (3.7)\n",
            "Requirement already satisfied: patsy>=0.4.0 in /usr/local/lib/python3.6/dist-packages (from pymc3) (0.5.1)\n",
            "Requirement already satisfied: tqdm>=4.8.4 in /usr/local/lib/python3.6/dist-packages (from pymc3) (4.28.1)\n",
            "Requirement already satisfied: pandas>=0.18.0 in /usr/local/lib/python3.6/dist-packages (from pymc3) (0.25.3)\n",
            "Requirement already satisfied: theano>=1.0.4 in /usr/local/lib/python3.6/dist-packages (from pymc3) (1.0.4)\n",
            "Requirement already satisfied: scipy>=0.18.1 in /usr/local/lib/python3.6/dist-packages (from pymc3) (1.4.1)\n",
            "Requirement already satisfied: numpy>=1.13.0 in /usr/local/lib/python3.6/dist-packages (from pymc3) (1.17.5)\n",
            "Requirement already satisfied: h5py>=2.7.0 in /usr/local/lib/python3.6/dist-packages (from pymc3) (2.8.0)\n",
            "Requirement already satisfied: six in /usr/local/lib/python3.6/dist-packages (from patsy>=0.4.0->pymc3) (1.12.0)\n",
            "Requirement already satisfied: python-dateutil>=2.6.1 in /usr/local/lib/python3.6/dist-packages (from pandas>=0.18.0->pymc3) (2.6.1)\n",
            "Requirement already satisfied: pytz>=2017.2 in /usr/local/lib/python3.6/dist-packages (from pandas>=0.18.0->pymc3) (2018.9)\n"
          ],
          "name": "stdout"
        }
      ]
    },
    {
      "cell_type": "code",
      "metadata": {
        "id": "-nUqDjiBSSf5",
        "colab_type": "code",
        "colab": {}
      },
      "source": [
        "# Importing libraries\n",
        "import pymc3"
      ],
      "execution_count": 0,
      "outputs": []
    },
    {
      "cell_type": "code",
      "metadata": {
        "id": "Rh1l18RUgVCZ",
        "colab_type": "code",
        "colab": {
          "base_uri": "https://localhost:8080/",
          "height": 211
        },
        "outputId": "efbf2ce3-ff2e-40b3-a861-9153121cb9d0"
      },
      "source": [
        "# Downloading file from UCI website\n",
        "!wget https://archive.ics.uci.edu/ml/machine-learning-databases/00312/dow_jones_index.zip"
      ],
      "execution_count": 93,
      "outputs": [
        {
          "output_type": "stream",
          "text": [
            "--2020-02-05 04:00:13--  https://archive.ics.uci.edu/ml/machine-learning-databases/00312/dow_jones_index.zip\n",
            "Resolving archive.ics.uci.edu (archive.ics.uci.edu)... 128.195.10.252\n",
            "Connecting to archive.ics.uci.edu (archive.ics.uci.edu)|128.195.10.252|:443... connected.\n",
            "HTTP request sent, awaiting response... 200 OK\n",
            "Length: 35074 (34K) [application/x-httpd-php]\n",
            "Saving to: ‘dow_jones_index.zip’\n",
            "\n",
            "dow_jones_index.zip 100%[===================>]  34.25K  --.-KB/s    in 0.1s    \n",
            "\n",
            "2020-02-05 04:00:14 (255 KB/s) - ‘dow_jones_index.zip’ saved [35074/35074]\n",
            "\n"
          ],
          "name": "stdout"
        }
      ]
    },
    {
      "cell_type": "code",
      "metadata": {
        "id": "yh57ijl7gYDF",
        "colab_type": "code",
        "colab": {
          "base_uri": "https://localhost:8080/",
          "height": 70
        },
        "outputId": "08f57202-9f38-4e94-90b2-5c9ba688636f"
      },
      "source": [
        "# Unzipping file\n",
        "!unzip dow_jones_index.zip"
      ],
      "execution_count": 94,
      "outputs": [
        {
          "output_type": "stream",
          "text": [
            "Archive:  dow_jones_index.zip\n",
            "  inflating: dow_jones_index.data    \n",
            "  inflating: dow_jones_index.names   \n"
          ],
          "name": "stdout"
        }
      ]
    },
    {
      "cell_type": "code",
      "metadata": {
        "id": "Sl0GH1D8g7hR",
        "colab_type": "code",
        "colab": {
          "base_uri": "https://localhost:8080/",
          "height": 223
        },
        "outputId": "2b291291-37cc-4980-e1c0-adc9c7c512ab"
      },
      "source": [
        "# Reading file into dataframe\n",
        "df_dji = pd.read_csv('dow_jones_index.data')\n",
        "df_dji.head()"
      ],
      "execution_count": 95,
      "outputs": [
        {
          "output_type": "execute_result",
          "data": {
            "text/html": [
              "<div>\n",
              "<style scoped>\n",
              "    .dataframe tbody tr th:only-of-type {\n",
              "        vertical-align: middle;\n",
              "    }\n",
              "\n",
              "    .dataframe tbody tr th {\n",
              "        vertical-align: top;\n",
              "    }\n",
              "\n",
              "    .dataframe thead th {\n",
              "        text-align: right;\n",
              "    }\n",
              "</style>\n",
              "<table border=\"1\" class=\"dataframe\">\n",
              "  <thead>\n",
              "    <tr style=\"text-align: right;\">\n",
              "      <th></th>\n",
              "      <th>quarter</th>\n",
              "      <th>stock</th>\n",
              "      <th>date</th>\n",
              "      <th>open</th>\n",
              "      <th>high</th>\n",
              "      <th>low</th>\n",
              "      <th>close</th>\n",
              "      <th>volume</th>\n",
              "      <th>percent_change_price</th>\n",
              "      <th>percent_change_volume_over_last_wk</th>\n",
              "      <th>previous_weeks_volume</th>\n",
              "      <th>next_weeks_open</th>\n",
              "      <th>next_weeks_close</th>\n",
              "      <th>percent_change_next_weeks_price</th>\n",
              "      <th>days_to_next_dividend</th>\n",
              "      <th>percent_return_next_dividend</th>\n",
              "    </tr>\n",
              "  </thead>\n",
              "  <tbody>\n",
              "    <tr>\n",
              "      <th>0</th>\n",
              "      <td>1</td>\n",
              "      <td>AA</td>\n",
              "      <td>1/7/2011</td>\n",
              "      <td>$15.82</td>\n",
              "      <td>$16.72</td>\n",
              "      <td>$15.78</td>\n",
              "      <td>$16.42</td>\n",
              "      <td>239655616</td>\n",
              "      <td>3.79267</td>\n",
              "      <td>NaN</td>\n",
              "      <td>NaN</td>\n",
              "      <td>$16.71</td>\n",
              "      <td>$15.97</td>\n",
              "      <td>-4.428490</td>\n",
              "      <td>26</td>\n",
              "      <td>0.182704</td>\n",
              "    </tr>\n",
              "    <tr>\n",
              "      <th>1</th>\n",
              "      <td>1</td>\n",
              "      <td>AA</td>\n",
              "      <td>1/14/2011</td>\n",
              "      <td>$16.71</td>\n",
              "      <td>$16.71</td>\n",
              "      <td>$15.64</td>\n",
              "      <td>$15.97</td>\n",
              "      <td>242963398</td>\n",
              "      <td>-4.42849</td>\n",
              "      <td>1.380223</td>\n",
              "      <td>239655616.0</td>\n",
              "      <td>$16.19</td>\n",
              "      <td>$15.79</td>\n",
              "      <td>-2.470660</td>\n",
              "      <td>19</td>\n",
              "      <td>0.187852</td>\n",
              "    </tr>\n",
              "    <tr>\n",
              "      <th>2</th>\n",
              "      <td>1</td>\n",
              "      <td>AA</td>\n",
              "      <td>1/21/2011</td>\n",
              "      <td>$16.19</td>\n",
              "      <td>$16.38</td>\n",
              "      <td>$15.60</td>\n",
              "      <td>$15.79</td>\n",
              "      <td>138428495</td>\n",
              "      <td>-2.47066</td>\n",
              "      <td>-43.024959</td>\n",
              "      <td>242963398.0</td>\n",
              "      <td>$15.87</td>\n",
              "      <td>$16.13</td>\n",
              "      <td>1.638310</td>\n",
              "      <td>12</td>\n",
              "      <td>0.189994</td>\n",
              "    </tr>\n",
              "    <tr>\n",
              "      <th>3</th>\n",
              "      <td>1</td>\n",
              "      <td>AA</td>\n",
              "      <td>1/28/2011</td>\n",
              "      <td>$15.87</td>\n",
              "      <td>$16.63</td>\n",
              "      <td>$15.82</td>\n",
              "      <td>$16.13</td>\n",
              "      <td>151379173</td>\n",
              "      <td>1.63831</td>\n",
              "      <td>9.355500</td>\n",
              "      <td>138428495.0</td>\n",
              "      <td>$16.18</td>\n",
              "      <td>$17.14</td>\n",
              "      <td>5.933250</td>\n",
              "      <td>5</td>\n",
              "      <td>0.185989</td>\n",
              "    </tr>\n",
              "    <tr>\n",
              "      <th>4</th>\n",
              "      <td>1</td>\n",
              "      <td>AA</td>\n",
              "      <td>2/4/2011</td>\n",
              "      <td>$16.18</td>\n",
              "      <td>$17.39</td>\n",
              "      <td>$16.18</td>\n",
              "      <td>$17.14</td>\n",
              "      <td>154387761</td>\n",
              "      <td>5.93325</td>\n",
              "      <td>1.987452</td>\n",
              "      <td>151379173.0</td>\n",
              "      <td>$17.33</td>\n",
              "      <td>$17.37</td>\n",
              "      <td>0.230814</td>\n",
              "      <td>97</td>\n",
              "      <td>0.175029</td>\n",
              "    </tr>\n",
              "  </tbody>\n",
              "</table>\n",
              "</div>"
            ],
            "text/plain": [
              "   quarter stock  ... days_to_next_dividend percent_return_next_dividend\n",
              "0        1    AA  ...                    26                     0.182704\n",
              "1        1    AA  ...                    19                     0.187852\n",
              "2        1    AA  ...                    12                     0.189994\n",
              "3        1    AA  ...                     5                     0.185989\n",
              "4        1    AA  ...                    97                     0.175029\n",
              "\n",
              "[5 rows x 16 columns]"
            ]
          },
          "metadata": {
            "tags": []
          },
          "execution_count": 95
        }
      ]
    },
    {
      "cell_type": "code",
      "metadata": {
        "id": "F7DRP55vS1hW",
        "colab_type": "code",
        "colab": {}
      },
      "source": [
        "# Formatting Date column to infer date-time\n",
        "df_dji['date'] = pd.to_datetime(df_dji['date'], infer_datetime_format=True)"
      ],
      "execution_count": 0,
      "outputs": []
    },
    {
      "cell_type": "code",
      "metadata": {
        "id": "LPwvRPqfjRX0",
        "colab_type": "code",
        "colab": {}
      },
      "source": [
        "# Removing $ from columns in the dataframe\n",
        "df_dji = df_dji.replace({'\\$':''}, regex=True)"
      ],
      "execution_count": 0,
      "outputs": []
    },
    {
      "cell_type": "code",
      "metadata": {
        "id": "sPOZbz2lS1af",
        "colab_type": "code",
        "colab": {
          "base_uri": "https://localhost:8080/",
          "height": 264
        },
        "outputId": "39021af5-5c94-4304-fc11-a45478ab5dbc"
      },
      "source": [
        "# Checking dataframe\n",
        "df_dji.head(3)"
      ],
      "execution_count": 109,
      "outputs": [
        {
          "output_type": "execute_result",
          "data": {
            "text/html": [
              "<div>\n",
              "<style scoped>\n",
              "    .dataframe tbody tr th:only-of-type {\n",
              "        vertical-align: middle;\n",
              "    }\n",
              "\n",
              "    .dataframe tbody tr th {\n",
              "        vertical-align: top;\n",
              "    }\n",
              "\n",
              "    .dataframe thead th {\n",
              "        text-align: right;\n",
              "    }\n",
              "</style>\n",
              "<table border=\"1\" class=\"dataframe\">\n",
              "  <thead>\n",
              "    <tr style=\"text-align: right;\">\n",
              "      <th></th>\n",
              "      <th>quarter</th>\n",
              "      <th>stock</th>\n",
              "      <th>date</th>\n",
              "      <th>open</th>\n",
              "      <th>high</th>\n",
              "      <th>low</th>\n",
              "      <th>close</th>\n",
              "      <th>volume</th>\n",
              "      <th>percent_change_price</th>\n",
              "      <th>percent_change_volume_over_last_wk</th>\n",
              "      <th>previous_weeks_volume</th>\n",
              "      <th>next_weeks_open</th>\n",
              "      <th>next_weeks_close</th>\n",
              "      <th>percent_change_next_weeks_price</th>\n",
              "      <th>days_to_next_dividend</th>\n",
              "      <th>percent_return_next_dividend</th>\n",
              "    </tr>\n",
              "  </thead>\n",
              "  <tbody>\n",
              "    <tr>\n",
              "      <th>0</th>\n",
              "      <td>1</td>\n",
              "      <td>AA</td>\n",
              "      <td>2011-01-07</td>\n",
              "      <td>15.82</td>\n",
              "      <td>16.72</td>\n",
              "      <td>15.78</td>\n",
              "      <td>16.42</td>\n",
              "      <td>239655616</td>\n",
              "      <td>3.79267</td>\n",
              "      <td>NaN</td>\n",
              "      <td>NaN</td>\n",
              "      <td>16.71</td>\n",
              "      <td>15.97</td>\n",
              "      <td>-4.42849</td>\n",
              "      <td>26</td>\n",
              "      <td>0.182704</td>\n",
              "    </tr>\n",
              "    <tr>\n",
              "      <th>1</th>\n",
              "      <td>1</td>\n",
              "      <td>AA</td>\n",
              "      <td>2011-01-14</td>\n",
              "      <td>16.71</td>\n",
              "      <td>16.71</td>\n",
              "      <td>15.64</td>\n",
              "      <td>15.97</td>\n",
              "      <td>242963398</td>\n",
              "      <td>-4.42849</td>\n",
              "      <td>1.380223</td>\n",
              "      <td>239655616.0</td>\n",
              "      <td>16.19</td>\n",
              "      <td>15.79</td>\n",
              "      <td>-2.47066</td>\n",
              "      <td>19</td>\n",
              "      <td>0.187852</td>\n",
              "    </tr>\n",
              "    <tr>\n",
              "      <th>2</th>\n",
              "      <td>1</td>\n",
              "      <td>AA</td>\n",
              "      <td>2011-01-21</td>\n",
              "      <td>16.19</td>\n",
              "      <td>16.38</td>\n",
              "      <td>15.60</td>\n",
              "      <td>15.79</td>\n",
              "      <td>138428495</td>\n",
              "      <td>-2.47066</td>\n",
              "      <td>-43.024959</td>\n",
              "      <td>242963398.0</td>\n",
              "      <td>15.87</td>\n",
              "      <td>16.13</td>\n",
              "      <td>1.63831</td>\n",
              "      <td>12</td>\n",
              "      <td>0.189994</td>\n",
              "    </tr>\n",
              "  </tbody>\n",
              "</table>\n",
              "</div>"
            ],
            "text/plain": [
              "   quarter stock  ... days_to_next_dividend percent_return_next_dividend\n",
              "0        1    AA  ...                    26                     0.182704\n",
              "1        1    AA  ...                    19                     0.187852\n",
              "2        1    AA  ...                    12                     0.189994\n",
              "\n",
              "[3 rows x 16 columns]"
            ]
          },
          "metadata": {
            "tags": []
          },
          "execution_count": 109
        }
      ]
    },
    {
      "cell_type": "code",
      "metadata": {
        "id": "8-cQHEwCkJs8",
        "colab_type": "code",
        "colab": {}
      },
      "source": [
        "# Extracting data for AA stock\n",
        "df_aa = df_dji[df_dji['stock']=='AA']"
      ],
      "execution_count": 0,
      "outputs": []
    },
    {
      "cell_type": "code",
      "metadata": {
        "id": "Cz4W5rvgkuQA",
        "colab_type": "code",
        "colab": {}
      },
      "source": [
        ""
      ],
      "execution_count": 0,
      "outputs": []
    },
    {
      "cell_type": "code",
      "metadata": {
        "id": "Rv3vKTCmmA8k",
        "colab_type": "code",
        "colab": {}
      },
      "source": [
        ""
      ],
      "execution_count": 0,
      "outputs": []
    }
  ]
}