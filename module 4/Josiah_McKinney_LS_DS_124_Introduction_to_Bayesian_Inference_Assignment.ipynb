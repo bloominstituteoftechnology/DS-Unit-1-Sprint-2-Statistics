{
  "nbformat": 4,
  "nbformat_minor": 0,
  "metadata": {
    "colab": {
      "name": "Josiah_McKinney_LS_DS_124_Introduction_to_Bayesian_Inference_Assignment.ipynb",
      "provenance": [],
      "collapsed_sections": [],
      "include_colab_link": true
    },
    "kernelspec": {
      "name": "python3",
      "display_name": "Python 3"
    }
  },
  "cells": [
    {
      "cell_type": "markdown",
      "metadata": {
        "id": "view-in-github",
        "colab_type": "text"
      },
      "source": [
        "<a href=\"https://colab.research.google.com/github/joeyMckinney/DS-Unit-1-Sprint-2-Statistics/blob/master/module%204/Josiah_McKinney_LS_DS_124_Introduction_to_Bayesian_Inference_Assignment.ipynb\" target=\"_parent\"><img src=\"https://colab.research.google.com/assets/colab-badge.svg\" alt=\"Open In Colab\"/></a>"
      ]
    },
    {
      "cell_type": "markdown",
      "metadata": {
        "id": "H7OLbevlbd_Z",
        "colab_type": "text"
      },
      "source": [
        "# Lambda School Data Science Module 124\n",
        "\n",
        "## Introduction to Bayesian Inference\n",
        "\n",
        "\n"
      ]
    },
    {
      "cell_type": "markdown",
      "metadata": {
        "id": "P-DzzRk5bf0z",
        "colab_type": "text"
      },
      "source": [
        "## Assignment - Code it up!\n",
        "\n",
        "We used pure math to apply Bayes Theorem to drug tests. Now write Python code to reproduce the results! This is purposefully open ended - you'll have to think about how you should represent probabilities and events. You can and should look things up.\n",
        "\n",
        "Specific goals/targets:\n",
        "\n",
        "### 1) Write a function \n",
        "\n",
        "`def prob_drunk_given_positive(prob_drunk_prior, false_positive_rate, true_positive_rate):` \n",
        "\n",
        "You should only truly need these three values in order to apply Bayes Theorem. In this example, imagine that individuals are taking a breathalyzer test with an 8% false positive rate, a 100% true positive rate, and that our prior belief about drunk driving in the population is 1/1000. \n",
        " - What is the probability that a person is drunk after one positive breathalyzer test?\n",
        " - What is the probability that a person is drunk after two positive breathalyzer tests?\n",
        " - How many positive breathalyzer tests are needed in order to have a probability that's greater than 95% that a person is drunk beyond the legal limit?\n"
      ]
    },
    {
      "cell_type": "code",
      "metadata": {
        "id": "KMLPrHJAwXtv",
        "colab_type": "code",
        "colab": {}
      },
      "source": [
        "def prob_drunk_given_positive(prob_drunk_prior, false_positive_rate, true_positive_rate):\n",
        "\n",
        "  p_non_user = 1 - prob_drunk_prior\n",
        "  numerator = true_positive_rate*prob_drunk_prior\n",
        "  denominator = true_positive_rate*prob_drunk_prior + false_positive_rate*p_non_user\n",
        "\n",
        "  posterior_probability = numerator/denominator\n",
        "  return posterior_probability"
      ],
      "execution_count": 16,
      "outputs": []
    },
    {
      "cell_type": "code",
      "metadata": {
        "id": "fgWLaSlxzs4H",
        "colab_type": "code",
        "colab": {
          "base_uri": "https://localhost:8080/",
          "height": 34
        },
        "outputId": "bf964ebc-fa25-4198-e9f1-4871ff4ceda0"
      },
      "source": [
        "posterior_probability = prob_drunk_given_positive(1/1000, .08, 1)\n",
        "posterior_probability"
      ],
      "execution_count": 17,
      "outputs": [
        {
          "output_type": "execute_result",
          "data": {
            "text/plain": [
              "0.012357884330202669"
            ]
          },
          "metadata": {
            "tags": []
          },
          "execution_count": 17
        }
      ]
    },
    {
      "cell_type": "code",
      "metadata": {
        "id": "-RBhWl_90NB5",
        "colab_type": "code",
        "colab": {
          "base_uri": "https://localhost:8080/",
          "height": 34
        },
        "outputId": "12c735b5-f519-4b10-d183-1177304293ee"
      },
      "source": [
        "test2 = prob_drunk_given_positive(posterior_probability, .08, 1)\n",
        "test2"
      ],
      "execution_count": 18,
      "outputs": [
        {
          "output_type": "execute_result",
          "data": {
            "text/plain": [
              "0.13525210993291495"
            ]
          },
          "metadata": {
            "tags": []
          },
          "execution_count": 18
        }
      ]
    },
    {
      "cell_type": "code",
      "metadata": {
        "id": "eUsUsLxs1Psy",
        "colab_type": "code",
        "colab": {
          "base_uri": "https://localhost:8080/",
          "height": 34
        },
        "outputId": "057facbc-d648-4b91-c556-1a3fe3bb528a"
      },
      "source": [
        "test3 = prob_drunk_given_positive(test2, .08, 1)\n",
        "test3"
      ],
      "execution_count": 20,
      "outputs": [
        {
          "output_type": "execute_result",
          "data": {
            "text/plain": [
              "0.6615996951348605"
            ]
          },
          "metadata": {
            "tags": []
          },
          "execution_count": 20
        }
      ]
    },
    {
      "cell_type": "code",
      "metadata": {
        "id": "rx0d61591bJI",
        "colab_type": "code",
        "colab": {
          "base_uri": "https://localhost:8080/",
          "height": 34
        },
        "outputId": "ae51ac39-981b-4fe8-fb99-598e4a3c6328"
      },
      "source": [
        "test4 = prob_drunk_given_positive(test3, .08, 1)\n",
        "test4"
      ],
      "execution_count": 21,
      "outputs": [
        {
          "output_type": "execute_result",
          "data": {
            "text/plain": [
              "0.9606895076105054"
            ]
          },
          "metadata": {
            "tags": []
          },
          "execution_count": 21
        }
      ]
    },
    {
      "cell_type": "markdown",
      "metadata": {
        "id": "o0mW-3bA1f-s",
        "colab_type": "text"
      },
      "source": [
        "after one positive breathalyzer test their is a 0.012(1.2%) probability that a person is drunk\n",
        "\n",
        "after two postives breathalyzer tests tehir is a 0.135(13.5%) probability that a person is drunk\n",
        "\n",
        "it will take 4 postive breathalyzer tests to have a probability that is greater than 95%"
      ]
    },
    {
      "cell_type": "markdown",
      "metadata": {
        "id": "nhOAsLjvCSLF",
        "colab_type": "text"
      },
      "source": [
        "### 2) In your own words, summarize the difference between Bayesian and Frequentist statistics\n",
        "\n",
        "If you're unsure where to start, check out [this blog post of Bayes theorem with Python](https://dataconomy.com/2015/02/introduction-to-bayes-theorem-with-python/)."
      ]
    },
    {
      "cell_type": "markdown",
      "metadata": {
        "id": "AADlIVfgDztY",
        "colab_type": "text"
      },
      "source": [
        "So frequentist statistics are more focused on the likelihood and need a bigger sample size to get more accurate results and tend to believe in their data even when they get a result that is very unlikely to happen and ignore previous results. Bayesian take prior uses results to make more accurate predictions."
      ]
    },
    {
      "cell_type": "code",
      "metadata": {
        "id": "pC3t-3Kp2Pty",
        "colab_type": "code",
        "colab": {}
      },
      "source": [
        ""
      ],
      "execution_count": null,
      "outputs": []
    },
    {
      "cell_type": "markdown",
      "metadata": {
        "id": "AeAGBxWjCTv3",
        "colab_type": "text"
      },
      "source": [
        "### 3) Use the following Template to help come up with ideas for your Build Sprint Project: \n",
        "\n"
      ]
    },
    {
      "cell_type": "markdown",
      "metadata": {
        "id": "YgIaBr__C5Q2",
        "colab_type": "text"
      },
      "source": [
        "---\n",
        "\n",
        "## Idea 1:\n",
        "healthcare cost"
      ]
    },
    {
      "cell_type": "markdown",
      "metadata": {
        "id": "MwR6hTB1CiLR",
        "colab_type": "text"
      },
      "source": [
        "### You\n",
        "What do you care about?\n",
        "\n",
        "What do you know about?\n",
        "\n",
        "What decisions do you face?\n",
        "\n",
        "\n"
      ]
    },
    {
      "cell_type": "markdown",
      "metadata": {
        "id": "d5owPwlSClm2",
        "colab_type": "text"
      },
      "source": [
        "i care about single payer healthcare system that is better than our current one\n",
        "\n",
        "it saves money, it makes sure everyone has healthcare, its better than our current healthcare system.\n",
        "\n",
        "what topics i need to focus on to show evidence\n",
        "\n",
        "> Indented block\n",
        "\n",
        "\n",
        "\n"
      ]
    },
    {
      "cell_type": "markdown",
      "metadata": {
        "id": "lorLHSkzClzC",
        "colab_type": "text"
      },
      "source": [
        "### Seven templates\n",
        "Training Kit (https://learn.lambdaschool.com/ds/module/recedjanlbpqxic2r) explains the seven templates from Priceonomics.\n",
        "\n",
        "Can you apply the templates to your topics?\n",
        "\n",
        "yes \n",
        "\n",
        "**Geographic Variation:**\n",
        "\n",
        "I can compare the cost of USA's healthcare compaired to other country's with singal payer system.\n",
        "\n",
        "**Trend related to the news:**\n",
        "\n",
        "their is alot of news about healthcare\n",
        "\n",
        "**Who does that?:**\n",
        "\n",
        "everyone who gets sick and sees a doctor uses healthcare\n",
        "\n",
        "**Answering a question people care about:**\n",
        "\n",
        "how much certin durgs cost compaired to other countries\n",
        "\n",
        "**Valuable to businesses:**\n",
        "\n",
        "if businesses didn't have to provide healthcare it would save them money.\n",
        "\n",
        "**What's the most popular?:**\n",
        "\n",
        "i can talk about how popular the idea is among americans.\n",
        "\n",
        "**Cost/Money rankings:**\n",
        "\n",
        "i can show how much USA over pays for even the most basic forms of healthcare\n"
      ]
    },
    {
      "cell_type": "markdown",
      "metadata": {
        "id": "cjxeN9D7Cygt",
        "colab_type": "text"
      },
      "source": [
        ""
      ]
    },
    {
      "cell_type": "markdown",
      "metadata": {
        "id": "3OXCCIT6C_p0",
        "colab_type": "text"
      },
      "source": [
        "### Misconceptions\n",
        "\n",
        "What misconceptions do people have about your topic?\n",
        "\n",
        "that USA can't afford to give eveyone healthcare and it will cost more than our current system."
      ]
    },
    {
      "cell_type": "markdown",
      "metadata": {
        "id": "3tNrndE9DD3-",
        "colab_type": "text"
      },
      "source": [
        "### Examples\n",
        "\n",
        "What data storytelling example inspires you?\n",
        "\n",
        "here is data that shows what health cost would look like under single payer system.\n",
        "https://www.vox.com/policy-and-politics/2018/8/3/17648860/single-payer-explained-3-charts\n",
        "\n",
        "Could you do a new hypothesis, for the same question?\n",
        "\n",
        "yes\n",
        "\n",
        "Could you do a new question, for the same topic?\n",
        "\n",
        "what dose single payer look like in other city's\n",
        "\n",
        "Could you do a new topic, with the same \"style\"?\n",
        "\n",
        "yes, like our cost compaired to other contries."
      ]
    },
    {
      "cell_type": "markdown",
      "metadata": {
        "id": "-5NsWQy5DKoR",
        "colab_type": "text"
      },
      "source": [
        ""
      ]
    },
    {
      "cell_type": "markdown",
      "metadata": {
        "id": "9rPtMFB6DN7B",
        "colab_type": "text"
      },
      "source": [
        "###Data\n",
        "\n",
        "Where could you search for data about your topic?\n",
        "\n",
        "https://www.kaggle.com/shivamb/deep-healthcare-analysis-using-bigquery\n",
        "https://www.kaggle.com/ravichaubey1506/healthcare-cost\n",
        "https://www.kaggle.com/a1233biology/notebook\n"
      ]
    },
    {
      "cell_type": "markdown",
      "metadata": {
        "id": "s9hqjOlhDTDa",
        "colab_type": "text"
      },
      "source": [
        ""
      ]
    },
    {
      "cell_type": "markdown",
      "metadata": {
        "colab_type": "text",
        "id": "ld5MOaFaDVSK"
      },
      "source": [
        "---\n",
        "\n",
        "## Idea 2:\n",
        "e-sports"
      ]
    },
    {
      "cell_type": "markdown",
      "metadata": {
        "colab_type": "text",
        "id": "znhTWIlUDVSM"
      },
      "source": [
        "### You\n",
        "What do you care about?\n",
        "\n",
        "what video game esport payers make the most money and stuff like that\n",
        "how big esports are getting\n",
        "how big they will get in future \n",
        "\n",
        "What do you know about?\n",
        "\n",
        "what games are popular, how tournaments work, genres of video games\n",
        "\n",
        "What decisions do you face?\n",
        "\n",
        "what topics i want to focus on\n",
        "\n"
      ]
    },
    {
      "cell_type": "markdown",
      "metadata": {
        "colab_type": "text",
        "id": "3Gln5mYeDVSM"
      },
      "source": [
        ""
      ]
    },
    {
      "cell_type": "markdown",
      "metadata": {
        "colab_type": "text",
        "id": "W-njBredDVSN"
      },
      "source": [
        "### Seven templates\n",
        "Training Kit (https://learn.lambdaschool.com/ds/module/recedjanlbpqxic2r) explains the seven templates from Priceonomics.\n",
        "\n",
        "Can you apply the templates to your topics?\n",
        "\n",
        "**Geographic Variation:**\n",
        "how popular esports is by country or city.\n",
        "\n",
        "**Trend related to the news:**\n",
        "\n",
        "with corona virus outbreak esports have seen a huge spike. their is even has been F1 racing using video games.\n",
        "\n",
        "**Who does that?:**\n",
        "\n",
        "people who watch sports or play video games are instrested in e sports\n",
        "\n",
        "**Answering a question people care about:**\n",
        "\n",
        "how people currently watch esports, what do the players make, how popular is it going to get\n",
        "\n",
        "**Valuable to businesses:**\n",
        "\n",
        "esports is a growing business so companies could look for advertising deals based on findings about esports\n",
        "\n",
        "**What's the most popular?:**\n",
        "\n",
        "i think the most popular is League of Lengends for esports\n",
        "\n",
        "**Cost/Money rankings:**\n",
        "\n",
        "which esports teams make the most money, cost of esport teams."
      ]
    },
    {
      "cell_type": "markdown",
      "metadata": {
        "colab_type": "text",
        "id": "pkOqHHL3DVSN"
      },
      "source": [
        ""
      ]
    },
    {
      "cell_type": "markdown",
      "metadata": {
        "colab_type": "text",
        "id": "njLQ3hLuDVSO"
      },
      "source": [
        "### Misconceptions\n",
        "\n",
        "What misconceptions do people have about your topic?\n",
        "\n",
        "watching people play video games is boring."
      ]
    },
    {
      "cell_type": "markdown",
      "metadata": {
        "colab_type": "text",
        "id": "IzrUvaKeDVSO"
      },
      "source": [
        ""
      ]
    },
    {
      "cell_type": "markdown",
      "metadata": {
        "colab_type": "text",
        "id": "L0X6X5WaDVSP"
      },
      "source": [
        "### Examples\n",
        "\n",
        "What data storytelling example inspires you?\n",
        "\n",
        "https://www2.deloitte.com/us/en/insights/industry/telecommunications/capitalizing-on-growth-of-esports-industry.html\n",
        "https://gdcvault.com/play/1025864/Esports-Day-Storytelling-in-Esports\n",
        "https://www.esportsearnings.com/\n",
        "\n",
        "Could you do a new hypothesis, for the same question?\n",
        "\n",
        "yes\n",
        "\n",
        "Could you do a new question, for the same topic?\n",
        "\n",
        "yes\n",
        "\n",
        "Could you do a new topic, with the same \"style\"?\n",
        "\n",
        "yes\n"
      ]
    },
    {
      "cell_type": "markdown",
      "metadata": {
        "colab_type": "text",
        "id": "fDdHExa0DVSP"
      },
      "source": [
        ""
      ]
    },
    {
      "cell_type": "code",
      "metadata": {
        "id": "iBHISSDuPcf5",
        "colab_type": "code",
        "colab": {}
      },
      "source": [
        ""
      ],
      "execution_count": null,
      "outputs": []
    },
    {
      "cell_type": "markdown",
      "metadata": {
        "colab_type": "text",
        "id": "CxgSpiwYDVSQ"
      },
      "source": [
        "###Data\n",
        "\n",
        "Where could you search for data about your topic?\n",
        "\n",
        "\n",
        "https://www.kaggle.com/rushikeshhiray/esport-earnings\n",
        "https://datarade.ai/data-categories/esports-data\n"
      ]
    },
    {
      "cell_type": "markdown",
      "metadata": {
        "id": "uWgWjp3PQ3Sq",
        "colab_type": "text"
      },
      "source": [
        "## Resources"
      ]
    },
    {
      "cell_type": "markdown",
      "metadata": {
        "id": "QRgHqmYIQ9qn",
        "colab_type": "text"
      },
      "source": [
        "- [Worked example of Bayes rule calculation](https://en.wikipedia.org/wiki/Bayes'_theorem#Examples) (helpful as it fully breaks out the denominator)\n",
        "- [Source code for mvsdist in scipy](https://github.com/scipy/scipy/blob/90534919e139d2a81c24bf08341734ff41a3db12/scipy/stats/morestats.py#L139)"
      ]
    },
    {
      "cell_type": "markdown",
      "metadata": {
        "id": "GP7Jv1XvwtkX",
        "colab_type": "text"
      },
      "source": [
        "## Stretch Goals:\n",
        "\n",
        "- Go back and study the content from Modules 1 & 2 & 3 to make sure that you're really comfortable with them.\n",
        "- Apply a Bayesian technique to a problem you previously worked (in an assignment or project work) on from a frequentist (standard) perspective\n",
        "- Check out [PyMC3](https://docs.pymc.io/) (note this goes beyond hypothesis tests into modeling) - read the guides and work through some examples\n",
        "- Take PyMC3 further - see if you can build something with it!"
      ]
    }
  ]
}