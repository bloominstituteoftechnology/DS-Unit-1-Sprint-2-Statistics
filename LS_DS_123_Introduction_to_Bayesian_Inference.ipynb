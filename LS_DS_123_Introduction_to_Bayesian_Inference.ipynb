{
  "nbformat": 4,
  "nbformat_minor": 0,
  "metadata": {
    "colab": {
      "name": "Copy of LS_DS_123_Introduction_to_Bayesian_Inference.ipynb",
      "provenance": [],
      "include_colab_link": true
    },
    "kernelspec": {
      "display_name": "Python 3",
      "language": "python",
      "name": "python3"
    },
    "language_info": {
      "codemirror_mode": {
        "name": "ipython",
        "version": 3
      },
      "file_extension": ".py",
      "mimetype": "text/x-python",
      "name": "python",
      "nbconvert_exporter": "python",
      "pygments_lexer": "ipython3",
      "version": "3.7.3"
    }
  },
  "cells": [
    {
      "cell_type": "markdown",
      "metadata": {
        "id": "view-in-github",
        "colab_type": "text"
      },
      "source": [
        "<a href=\"https://colab.research.google.com/github/raklives/DS-Unit-1-Sprint-2-Statistics/blob/master/LS_DS_123_Introduction_to_Bayesian_Inference.ipynb\" target=\"_parent\"><img src=\"https://colab.research.google.com/assets/colab-badge.svg\" alt=\"Open In Colab\"/></a>"
      ]
    },
    {
      "cell_type": "markdown",
      "metadata": {
        "colab_type": "text",
        "id": "H7OLbevlbd_Z"
      },
      "source": [
        "# Lambda School Data Science Module 123\n",
        "\n",
        "## Introduction to Bayesian Inference\n",
        "[XKCD 1132](https://www.xkcd.com/1132/)"
      ]
    },
    {
      "cell_type": "markdown",
      "metadata": {
        "id": "7CG2pKkD-Xq_",
        "colab_type": "text"
      },
      "source": [
        "<div>\n",
        "<img src=\"https://imgs.xkcd.com/comics/frequentists_vs_bayesians.png\" width=\"300\"/>\n",
        "</div>"
      ]
    },
    {
      "cell_type": "markdown",
      "metadata": {
        "id": "rrVibejy-XrB",
        "colab_type": "text"
      },
      "source": [
        "#### Bayes vs. Frequentist inference\n",
        "\n",
        "| Bayes | Frequentist |\n",
        "|:---|:---|\n",
        "|uses probabilities for both hypotheses and data|never uses or gives the probability of a hypothesis (no prior or posterior).|\n",
        "|depends on the prior and likelihood of observed data.|depends on the likelihood P(D / H) for both observed and unobserved data.|\n",
        "|requires one to know or construct a ‘subjective prior’.|does not require a prior.|\n",
        "|dominated statistical practice before the 20th century.|dominated statistical practice during the 20th century.|\n",
        "\n",
        "https://ocw.mit.edu/courses/mathematics/18-05-introduction-to-probability-and-statistics-spring-2014/readings/MIT18_05S14_Reading20.pdf"
      ]
    },
    {
      "cell_type": "markdown",
      "metadata": {
        "id": "lbwm9XNl-XrD",
        "colab_type": "text"
      },
      "source": [
        "## Bayes' Theorem\n",
        "https://www.bayestheorem.net/"
      ]
    },
    {
      "cell_type": "markdown",
      "metadata": {
        "id": "UGbqt8tQ-XrE",
        "colab_type": "text"
      },
      "source": [
        "<div>\n",
        "<img src=\"https://www.bayestheorem.net/images/Bayes-Theorem-Formula-Defined.jpeg\" width=\"500\"/>\n",
        "</div>"
      ]
    },
    {
      "cell_type": "markdown",
      "metadata": {
        "id": "eBO8AFUW-XrF",
        "colab_type": "text"
      },
      "source": [
        "**Bayes' theorem:**\n",
        "$$p(H|D) = \\frac{p(D|H) * p(H)}{p(D)}$$\n",
        "\n",
        "* H is the **hypothesis**  \n",
        "* D is the observed **data**  \n",
        "* p(H) is the probability of the hypothesis before we see the data, called the prior probability, or just **prior**.    \n",
        "* p(D) is the **marginal probability** of the data taking into account all possible hypotheses (aka \"total probability of D\").  \n",
        "* p(D|H) is the probability of the data give that the hypothesis is true, called the **conditional probability**.   \n",
        "*  p(H|D) is what we want to compute, the probability of the hypothesis after we see the data, called the **posterior** probability."
      ]
    },
    {
      "cell_type": "markdown",
      "metadata": {
        "id": "Id-dpcnT-XrG",
        "colab_type": "text"
      },
      "source": [
        "$$posterior = \\frac{conditional * prior}{marginal}$$\n"
      ]
    },
    {
      "cell_type": "markdown",
      "metadata": {
        "id": "2Wu7VQyX-XrH",
        "colab_type": "text"
      },
      "source": [
        "## Flu Example"
      ]
    },
    {
      "cell_type": "markdown",
      "metadata": {
        "id": "R5u-u-Mn-XrI",
        "colab_type": "text"
      },
      "source": [
        "Imagine that you are showing some nasty symptoms (headache and sore throat) -- you have a suspicion that you're sick with the flu, but you're not absolutely sure. Is the probability high enough to cancel your big trip?  Consider the following:\n",
        "\n",
        "* We know people with the flu have a headache and sore throat roughly 90% of the time (this is the **conditional**).  \n",
        "* We know the probability of having the flu, in general, is only 5% (this is the **prior**).  \n",
        "* We know that 20% of the population in a given year will have a headache and sore throat at any given time (this is the **marginal** probability).  \n",
        "<div>\n",
        "<img src=\"https://www.bayestheorem.net/images/Bayes-Example-Flu-Ingredients-with-Formula.jpeg\" width=\"500\"/>\n",
        "</div>"
      ]
    },
    {
      "cell_type": "markdown",
      "metadata": {
        "id": "9ayGcsAL-XrK",
        "colab_type": "text"
      },
      "source": [
        "* P(A) – What is the probability of you having the flu? This number is the **prior** or .05.  \n",
        "* P(B|A) – Represented as P(Symptoms | Flu). This number is the **conditional** or .9.  \n",
        "* P(B) – What is the probability of you having the symptoms? This number is the **marginal** or .2.  "
      ]
    },
    {
      "cell_type": "code",
      "metadata": {
        "id": "CFwSHkqA-XrL",
        "colab_type": "code",
        "colab": {}
      },
      "source": [
        "# Define a function for bayes' theorem, assuming you know the conditional, prior, and marginal probabilities.\n"
      ],
      "execution_count": 0,
      "outputs": []
    },
    {
      "cell_type": "markdown",
      "metadata": {
        "id": "VDDTVMGG-XrQ",
        "colab_type": "text"
      },
      "source": [
        "## Cookie Challenge\n",
        "https://www.greenteapress.com/thinkbayes/thinkbayes.pdf#page20"
      ]
    },
    {
      "cell_type": "markdown",
      "metadata": {
        "id": "l4XkHQLv-XrR",
        "colab_type": "text"
      },
      "source": [
        "<div>\n",
        "<img src=\"https://food.fnr.sndimg.com/content/dam/images/food/fullset/2009/6/12/2/PASP09_303502_s4x3.jpg.rend.hgtvcom.826.620.suffix/1371589411856.jpeg\" width=\"300\"/>\n",
        "</div>"
      ]
    },
    {
      "cell_type": "markdown",
      "metadata": {
        "id": "msIKPrGv-XrT",
        "colab_type": "text"
      },
      "source": [
        "Suppose there are two bowls of cookies.  \n",
        "* Bowl 1 contains 30 vanilla cookies and 10 chocolate cookies.  \n",
        "* Bowl 2 contains 20 vanilla cookies and 20 chocolate cookies.  \n",
        "\n",
        "What is the probability of randomly drawing a vanilla cookie?"
      ]
    },
    {
      "cell_type": "code",
      "metadata": {
        "id": "lfgLwKCh-XrU",
        "colab_type": "code",
        "colab": {}
      },
      "source": [
        "# prior probability of choosing bowl 1 (independent of anything)\n"
      ],
      "execution_count": 0,
      "outputs": []
    },
    {
      "cell_type": "code",
      "metadata": {
        "id": "DH3BfsRD-XrZ",
        "colab_type": "code",
        "colab": {}
      },
      "source": [
        "# marginal probability of getting a vanilla cookie \n"
      ],
      "execution_count": 0,
      "outputs": []
    },
    {
      "cell_type": "markdown",
      "metadata": {
        "id": "UP5uCEQ7-Xre",
        "colab_type": "text"
      },
      "source": [
        "**Conditional probability**: Given that I pick from bowl 1, what is the probability of randomly drawing a vanilla cookie?  \n",
        "`p(vanilla|Bowl 1)`"
      ]
    },
    {
      "cell_type": "code",
      "metadata": {
        "id": "qUWinw6o-Xrf",
        "colab_type": "code",
        "colab": {}
      },
      "source": [
        "# conditional probability\n"
      ],
      "execution_count": 0,
      "outputs": []
    },
    {
      "cell_type": "markdown",
      "metadata": {
        "id": "r7SYc7Js-Xrk",
        "colab_type": "text"
      },
      "source": [
        "**Posterior probability**: Now suppose you choose one of the bowls at random and, without looking, select a cookie at random. The cookie is vanilla. What is the probability that it came from Bowl 1?  \n",
        "`p(Bowl 1|vanilla)`"
      ]
    },
    {
      "cell_type": "code",
      "metadata": {
        "id": "uOsjRBBw-Xrl",
        "colab_type": "code",
        "colab": {}
      },
      "source": [
        "# posterior probability\n"
      ],
      "execution_count": 0,
      "outputs": []
    },
    {
      "cell_type": "markdown",
      "metadata": {
        "id": "OrNd1Qyw-Xrp",
        "colab_type": "text"
      },
      "source": [
        "## The Monty Hall Challenge\n",
        "https://math.ucsd.edu/~crypto/Monty/monty.html\n",
        "\n",
        "<div>\n",
        "<img src=\"http://www.sciencemadesimple.co.uk/files/2016/04/The-choices.png\" width=\"400\"/>\n",
        "</div>"
      ]
    },
    {
      "cell_type": "code",
      "metadata": {
        "id": "5cSBQeRL-Xrq",
        "colab_type": "code",
        "colab": {}
      },
      "source": [
        "# Let's recreate the game with code.\n"
      ],
      "execution_count": 0,
      "outputs": []
    },
    {
      "cell_type": "code",
      "metadata": {
        "id": "zyLMyYML-Xrx",
        "colab_type": "code",
        "colab": {}
      },
      "source": [
        "# Choose a door (A, B, C,) and a choice (KEEP, SWITCH)\n"
      ],
      "execution_count": 0,
      "outputs": []
    },
    {
      "cell_type": "code",
      "metadata": {
        "id": "I721bayG-Xr0",
        "colab_type": "code",
        "colab": {}
      },
      "source": [
        "# Play the game 10,000 times. Which strategy is better? (Note: comment out the 'print'!)\n"
      ],
      "execution_count": 0,
      "outputs": []
    },
    {
      "cell_type": "markdown",
      "metadata": {
        "id": "YszQBmF0-Xr3",
        "colab_type": "text"
      },
      "source": [
        "Suppose you pick door A. The host opens door B to reveal a goat. Should you switch to door C?  \n",
        "* prior probability  = 1/3\n",
        "* marginal probability  = 1/2  \n",
        "* conditional probability =          (1/2 * 1/3)       +           ( 0 * 1/3)       +           ( 1 * 1/3) = 1/2"
      ]
    },
    {
      "cell_type": "code",
      "metadata": {
        "id": "v1eDnyhB-Xr4",
        "colab_type": "code",
        "colab": {}
      },
      "source": [
        "# define your prior, marginal, and conditional probabilities\n"
      ],
      "execution_count": 0,
      "outputs": []
    },
    {
      "cell_type": "code",
      "metadata": {
        "id": "jRkh-gYW-Xr6",
        "colab_type": "code",
        "colab": {}
      },
      "source": [
        "# P(car is A | choice is A) = (marginal * prior) / conditional\n"
      ],
      "execution_count": 0,
      "outputs": []
    },
    {
      "cell_type": "code",
      "metadata": {
        "id": "rZx0844i-XsA",
        "colab_type": "code",
        "colab": {}
      },
      "source": [
        "# P(car is C | choice is A) = 1-P(car is A | choice is A)\n"
      ],
      "execution_count": 0,
      "outputs": []
    },
    {
      "cell_type": "markdown",
      "metadata": {
        "id": "iNtjSNQ0-XsC",
        "colab_type": "text"
      },
      "source": [
        "If we pick a door and then switch after seeing another door opens, the probability of selecting the right door increases from 1/3 to 2/3. It is, based on this information, always in our best interest to switch."
      ]
    },
    {
      "cell_type": "markdown",
      "metadata": {
        "colab_type": "text",
        "id": "3mz8p08BsN6p"
      },
      "source": [
        "## Bayes' Theorem is derived from 2 Laws"
      ]
    },
    {
      "cell_type": "markdown",
      "metadata": {
        "colab_type": "text",
        "id": "Fa-jzYp9i8La"
      },
      "source": [
        "### The Law of Total Probability\n",
        "\n",
        "\n",
        "By definition, the total probability of all outcomes (events) of some variable (event space) $A$ is 1. That is:\n",
        "\n",
        "$$P(A) = \\sum_n P(A_n) = 1$$\n",
        "\n",
        "The law of total probability takes this further, considering two variables ($A$ and $B$) and relating their marginal probabilities and their conditional probabilities. \n",
        "* marginal probabilities (their likelihoods considered independently, without reference to one another)\n",
        "* conditional probabilities (their likelihoods considered jointly)  \n",
        "* A marginal probability is simply notated as e.g. $P(A)$, while a conditional probability is notated $P(A|B)$, which reads \"probability of $A$ *given* $B$\".\n",
        "\n",
        "The law of total probability states:\n",
        "\n",
        "$$P(A) = \\sum_n P(A | B_n) P(B_n)$$\n",
        "\n",
        "In words - the total probability of $A$ is equal to the sum of the conditional probability of $A$ on any given event $B_n$ times the probability of that event $B_n$, and summed over all possible events in $B$."
      ]
    },
    {
      "cell_type": "markdown",
      "metadata": {
        "colab_type": "text",
        "id": "GhycNr-Sbeie"
      },
      "source": [
        "### The Law of Conditional Probability\n",
        "\n",
        "What's the probability of something conditioned on something else? To determine this we have to go back to set theory and think about the intersection of sets:\n",
        "\n",
        "The formula for actual calculation:\n",
        "\n",
        "$$P(A|B) = \\frac{P(A \\cap B)}{P(B)}$$\n",
        "\n",
        "![Visualization of set intersection](https://upload.wikimedia.org/wikipedia/commons/9/99/Venn0001.svg)\n",
        "\n",
        "Think of the overall rectangle as the whole probability space, $A$ as the left circle, $B$ as the right circle, and their intersection as the red area. Try to visualize the ratio being described in the above formula, and how it is different from just the $P(A)$ (not conditioned on $B$).\n",
        "\n",
        "We can see how this relates back to the law of total probability - multiply both sides by $P(B)$ and you get $P(A|B)P(B) = P(A \\cap B)$ - replaced back into the law of total probability we get $P(A) = \\sum_n P(A \\cap B_n)$.\n",
        "\n",
        "This may not seem like an improvement at first, but try to relate it back to the above picture - if you think of sets as physical objects, we're saying that the total probability of $A$ given $B$ is all the little pieces of it intersected with $B$, added together. The conditional probability is then just that again, but divided by the probability of $B$ itself happening in the first place.\n"
      ]
    },
    {
      "cell_type": "markdown",
      "metadata": {
        "id": "vMEtK0tr-XsF",
        "colab_type": "text"
      },
      "source": [
        "### Bayes Theorem\n",
        "\n",
        "$$P(A|B) = \\frac{P(B|A)* P(A)}{P(B)}$$\n",
        "\n",
        "In words - the probability of $A$ conditioned on $B$ is the probability of $B$ conditioned on $A$, times the probability of $A$ and divided by the probability of $B$. "
      ]
    },
    {
      "cell_type": "markdown",
      "metadata": {
        "colab_type": "text",
        "id": "hi45SXVyi_Wt"
      },
      "source": [
        "### Using Bayes Theorem Iteratively (repeated testing)\n",
        "\n",
        "\n",
        "There are many ways to apply Bayes' theorem, such as drug tests. You may think that a drug test that is 100% accurate for true positives (detecting somebody who is a user) is pretty good, but what if it also has 1% false positive rate (indicating somebody is a user when they're not)? And furthermore, the rate of drug use in the population at large (and thus our prior belief) is 1/200.\n",
        "\n",
        "What is the likelihood somebody really is a user if they test positive? Some may guess it's 99% - the difference between the true positives and the false positives. But we have a prior belief of the background/true rate of drug use. Sounds like a job for Bayes' theorem!\n",
        "\n",
        "![Bayes Theorem Drug Test Example](https://wikimedia.org/api/rest_v1/media/math/render/svg/95c6524a3736c43e4bae139713f3df2392e6eda9)\n",
        "\n",
        "In other words, the likelihood that somebody is a user given they tested positive on a drug test is only 33.2% - probably much lower than you'd guess. This is why, in practice, it's important to use repeated testing to confirm. If we have the same individual who tested positive the first time take the drug test a second time then the posterior probability from our the first test becomes our new prior during the second application. What is the probability that a person is a drug user after two positive drug tests in a row?\n",
        "\n",
        "Bayes' theorem has been relevant in court cases where proper consideration of evidence was important. Whether it's a drug test, breathalyzer, pregnancy test, doctor's diagnosis, or neutrino detector, we have to take into account **both** the false positive rate and our prior probability in order to calculate the correct conditional probability."
      ]
    },
    {
      "cell_type": "markdown",
      "metadata": {
        "id": "GIA267ES-XsH",
        "colab_type": "text"
      },
      "source": [
        "* P(+|User) = 1 - True Positive Rate\n",
        "\n",
        "* P(User) = 1/200 Prior probability\n",
        "\n",
        "* P(+|Non-user) = False Positive rate\n",
        "\n",
        "You only need the above three numbers in order to calculate bayes rule  "
      ]
    },
    {
      "cell_type": "code",
      "metadata": {
        "id": "jXilGFFx-XsI",
        "colab_type": "code",
        "colab": {}
      },
      "source": [
        "# prior belief\n",
        "# complement of the prior belief\n",
        "# true positive rate\n",
        "# false positive rate\n"
      ],
      "execution_count": 0,
      "outputs": []
    },
    {
      "cell_type": "code",
      "metadata": {
        "id": "XRJhiAZt-XsK",
        "colab_type": "code",
        "colab": {}
      },
      "source": [
        "# My first iteration of Bayes Rule (Bayes Theorem)\n"
      ],
      "execution_count": 0,
      "outputs": []
    },
    {
      "cell_type": "code",
      "metadata": {
        "id": "lIJOuKYw-XsO",
        "colab_type": "code",
        "colab": {}
      },
      "source": [
        "# We have the same person take the drug test again, and they test positive again\n",
        "# Now what is the likelihood that they are a drug user?\n",
        "# The posterior probability from the first test becomes our prior for the second iteration.\n",
        "\n"
      ],
      "execution_count": 0,
      "outputs": []
    },
    {
      "cell_type": "code",
      "metadata": {
        "id": "XjKh4njb-XsR",
        "colab_type": "code",
        "colab": {}
      },
      "source": [
        "# calculate the complement of that prior via the law of total probability\n",
        "\n"
      ],
      "execution_count": 0,
      "outputs": []
    },
    {
      "cell_type": "code",
      "metadata": {
        "id": "zXGVW0Nb-XsU",
        "colab_type": "code",
        "colab": {}
      },
      "source": [
        "# apply Bayes' theorem\n"
      ],
      "execution_count": 0,
      "outputs": []
    },
    {
      "cell_type": "code",
      "metadata": {
        "id": "HBN5WfcX-XsX",
        "colab_type": "code",
        "colab": {}
      },
      "source": [
        "# Now the third test\n"
      ],
      "execution_count": 0,
      "outputs": []
    },
    {
      "cell_type": "code",
      "metadata": {
        "id": "T4E3XQ8o-XsZ",
        "colab_type": "code",
        "colab": {}
      },
      "source": [
        "# Fourth test\n"
      ],
      "execution_count": 0,
      "outputs": []
    },
    {
      "cell_type": "code",
      "metadata": {
        "id": "7w_CCl22-Xsc",
        "colab_type": "code",
        "colab": {}
      },
      "source": [
        "# Turn all of that into a function\n"
      ],
      "execution_count": 0,
      "outputs": []
    },
    {
      "cell_type": "code",
      "metadata": {
        "id": "xZO5XnuB-Xsf",
        "colab_type": "code",
        "colab": {}
      },
      "source": [
        "# try it out\n"
      ],
      "execution_count": 0,
      "outputs": []
    },
    {
      "cell_type": "markdown",
      "metadata": {
        "colab_type": "text",
        "id": "htI3DGvDsRJF"
      },
      "source": [
        "## Calculating Bayesian Confidence"
      ]
    },
    {
      "cell_type": "code",
      "metadata": {
        "colab_type": "code",
        "id": "ke-5EqJI0Tsn",
        "colab": {}
      },
      "source": [
        "https://docs.scipy.org/doc/scipy/reference/generated/scipy.stats.bayes_mvs.html  "
      ],
      "execution_count": 0,
      "outputs": []
    },
    {
      "cell_type": "markdown",
      "metadata": {
        "id": "OPkZWrB5-Xsm",
        "colab_type": "text"
      },
      "source": [
        "#### Example 1. Using random number generator"
      ]
    },
    {
      "cell_type": "code",
      "metadata": {
        "id": "aSiDOAsW-Xsp",
        "colab_type": "code",
        "colab": {}
      },
      "source": [
        "# import scipy and numpy\n",
        "\n",
        "# Set Random Seed for Reproducibility\n"
      ],
      "execution_count": 0,
      "outputs": []
    },
    {
      "cell_type": "code",
      "metadata": {
        "id": "_uV7QUoX-Xss",
        "colab_type": "code",
        "colab": {}
      },
      "source": [
        "# FREQUENTIST APPROACH\n",
        "# calculate a 95% confidence interval on either side of this.\n"
      ],
      "execution_count": 0,
      "outputs": []
    },
    {
      "cell_type": "code",
      "metadata": {
        "id": "GF9fluMm-Xsx",
        "colab_type": "code",
        "colab": {}
      },
      "source": [
        "# BAYESIAN APPROACH\n"
      ],
      "execution_count": 0,
      "outputs": []
    },
    {
      "cell_type": "code",
      "metadata": {
        "id": "jbKWJJkj-Xs1",
        "colab_type": "code",
        "colab": {}
      },
      "source": [
        "# plot on graph with kernel density estimate\n"
      ],
      "execution_count": 0,
      "outputs": []
    },
    {
      "cell_type": "markdown",
      "metadata": {
        "id": "Vl5nFMqN-Xs5",
        "colab_type": "text"
      },
      "source": [
        "#### Example 2. Using pandas dataframe"
      ]
    },
    {
      "cell_type": "code",
      "metadata": {
        "id": "rrneo_DL-Xs5",
        "colab_type": "code",
        "colab": {}
      },
      "source": [
        "# read in the adult workforce dataset\n",
        "url='https://raw.githubusercontent.com/ryanleeallred/datasets/master/adult.csv'"
      ],
      "execution_count": 0,
      "outputs": []
    },
    {
      "cell_type": "code",
      "metadata": {
        "id": "irpfX1xP-Xs8",
        "colab_type": "code",
        "colab": {}
      },
      "source": [
        "# mean age\n"
      ],
      "execution_count": 0,
      "outputs": []
    },
    {
      "cell_type": "code",
      "metadata": {
        "id": "1fubUNlg-Xs_",
        "colab_type": "code",
        "colab": {}
      },
      "source": [
        "# FREQUENTIST APPROACH\n",
        "# calculate a 95% confidence interval on either side of this.\n"
      ],
      "execution_count": 0,
      "outputs": []
    },
    {
      "cell_type": "code",
      "metadata": {
        "id": "8sB_YVsN-XtC",
        "colab_type": "code",
        "colab": {}
      },
      "source": [
        "# BAYESIAN APPROACH\n"
      ],
      "execution_count": 0,
      "outputs": []
    },
    {
      "cell_type": "code",
      "metadata": {
        "id": "jybx7oPe-XtF",
        "colab_type": "code",
        "colab": {}
      },
      "source": [
        "# plot on graph with kernel density estimate\n"
      ],
      "execution_count": 0,
      "outputs": []
    },
    {
      "cell_type": "markdown",
      "metadata": {
        "colab_type": "text",
        "id": "uWgWjp3PQ3Sq"
      },
      "source": [
        "## Resources"
      ]
    },
    {
      "cell_type": "markdown",
      "metadata": {
        "colab_type": "text",
        "id": "QRgHqmYIQ9qn"
      },
      "source": [
        "- [Worked example of Bayes rule calculation](https://en.wikipedia.org/wiki/Bayes'_theorem#Examples) (helpful as it fully breaks out the denominator)\n",
        "- [Source code for mvsdist in scipy](https://github.com/scipy/scipy/blob/90534919e139d2a81c24bf08341734ff41a3db12/scipy/stats/morestats.py#L139)"
      ]
    }
  ]
}