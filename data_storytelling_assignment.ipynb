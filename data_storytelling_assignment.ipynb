{
  "nbformat": 4,
  "nbformat_minor": 0,
  "metadata": {
    "colab": {
      "name": "data storytelling assignment",
      "provenance": [],
      "collapsed_sections": [],
      "include_colab_link": true
    },
    "kernelspec": {
      "name": "python3",
      "display_name": "Python 3"
    }
  },
  "cells": [
    {
      "cell_type": "markdown",
      "metadata": {
        "id": "view-in-github",
        "colab_type": "text"
      },
      "source": [
        "<a href=\"https://colab.research.google.com/github/claudiasofiaC/DS-Unit-1-Sprint-2-Statistics/blob/master/data_storytelling_assignment.ipynb\" target=\"_parent\"><img src=\"https://colab.research.google.com/assets/colab-badge.svg\" alt=\"Open In Colab\"/></a>"
      ]
    },
    {
      "cell_type": "code",
      "metadata": {
        "id": "DSQ7-UsXVhzK",
        "colab_type": "code",
        "colab": {}
      },
      "source": [
        ""
      ],
      "execution_count": 0,
      "outputs": []
    },
    {
      "cell_type": "markdown",
      "metadata": {
        "id": "g08CV7l1VjOp",
        "colab_type": "text"
      },
      "source": [
        "#Assignment\n",
        "\n",
        "#Ideas for data storytelling-Idea 1\n",
        "\n",
        "##What do care about?\n",
        " *The hit 90's sitcom Frasier*\n",
        "\n",
        "##What do you know about?\n",
        " *It went on for 11 season.*\n",
        "\n",
        "##What decisions do you face? \n",
        "*Picking what I am going to show from the data.*\n",
        "\n",
        "#7 templates\n",
        "\n",
        "##1. Geographic variation: \n",
        "*Literally everyone and no one watched the show when it aired.*\n",
        "\n",
        "##2. Trend related to the news.\n",
        "*The show may get a reboot soon.*\n",
        "\n",
        "##3. Who does that?\n",
        "*I don't know of anyone in my life that actually likes the show,they all think I am weird for liking it. Yet it has a huge fanbase.*\n",
        "\n",
        "##4. Answering a question people care about?\n",
        "*I don;t think enough people know about the show*\n",
        "\n",
        "##5. Valuable to business.\n",
        "*Media is America's main export*\n",
        "\n",
        "##6. Whats the most popular?\n",
        "*?, *\n",
        "\n",
        "##7. Cost/Money rankings\n",
        "*Media cost money to produce, people don't want to sink money into something that wont be profitable, meaning the reboot.*\n",
        "\n",
        "\n",
        "#Misconceptions\n",
        "##What misconceptions do people have about your topic?\n",
        "*I think most people think it Frasier is an old man show and that it is boring. It is a very smart show and there area a ton of referenes in it that were very funny.*\n",
        "\n",
        "#Examples\n",
        "##What data storytelling example inspires you?\n",
        "*, Nathan Cunningham's The Simpsons  data viz*\n",
        "\n",
        "##Could you do a new hypothesis for the same question?\n",
        "*What give a show staying power? Fraiser was not a crime drama or soap opera, yet stayed on air for longer than most shows. There is a hypothesis somewhere in there.*\n",
        "\n",
        "##Could you do a new question, for the same topic?\n",
        "*How popular was Frasier at the time it was on the air? In comparison to other shows of the time.*\n",
        "\n",
        "##Could you do a new topic, with the same 'style'?\n",
        "*I think this can be applied to any show, movie or other media.*\n",
        "\n",
        "#Data\n",
        "##Where could you search for the data?\n",
        "*I may have to make my own data if I cant find something that will satisfy what I need. Wikipedia and other sites like it.*\n",
        "\n",
        "I only did 1 because this is what I have narrowed it down to."
      ]
    }
  ]
}