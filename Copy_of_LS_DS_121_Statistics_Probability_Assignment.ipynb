{
  "nbformat": 4,
  "nbformat_minor": 0,
  "metadata": {
    "kernelspec": {
      "display_name": "Python 3",
      "language": "python",
      "name": "python3"
    },
    "language_info": {
      "codemirror_mode": {
        "name": "ipython",
        "version": 3
      },
      "file_extension": ".py",
      "mimetype": "text/x-python",
      "name": "python",
      "nbconvert_exporter": "python",
      "pygments_lexer": "ipython3",
      "version": "3.7.3"
    },
    "colab": {
      "name": "Copy of LS_DS_121_Statistics_Probability_Assignment.ipynb",
      "provenance": [],
      "collapsed_sections": [],
      "include_colab_link": true
    }
  },
  "cells": [
    {
      "cell_type": "markdown",
      "metadata": {
        "id": "view-in-github",
        "colab_type": "text"
      },
      "source": [
        "<a href=\"https://colab.research.google.com/github/thecodinguru/DS-Unit-1-Sprint-2-Statistics/blob/master/Copy_of_LS_DS_121_Statistics_Probability_Assignment.ipynb\" target=\"_parent\"><img src=\"https://colab.research.google.com/assets/colab-badge.svg\" alt=\"Open In Colab\"/></a>"
      ]
    },
    {
      "cell_type": "markdown",
      "metadata": {
        "id": "Sa5KWMO1ngPN",
        "colab_type": "text"
      },
      "source": [
        "<img align=\"left\" src=\"https://lever-client-logos.s3.amazonaws.com/864372b1-534c-480e-acd5-9711f850815c-1524247202159.png\" width=200>\n",
        "<br></br>\n",
        "<br></br>\n",
        "\n",
        "## *Data Science Unit 1 Sprint 2 Assignment 1*\n",
        "\n",
        "# Apply the t-test to real data"
      ]
    },
    {
      "cell_type": "markdown",
      "metadata": {
        "id": "gZDO3KBZOJNp",
        "colab_type": "text"
      },
      "source": [
        "## Practice 1-Sample T-tests\n",
        "\n",
        "One Sample t-tests determine whether or not a sample mean is statistically different from some known (or hypothesized) population mean. \n",
        "\n",
        "### 1) Load the Data\n",
        "- Use the [automobile dataset](https://archive.ics.uci.edu/ml/datasets/Automobile)\n",
        "- Fix the column headers\n",
        "- Make sure NaNs are used to indicate missing values\n",
        "\n",
        "Feel free to add code cells and text cells as needed throughout the assignment."
      ]
    },
    {
      "cell_type": "code",
      "metadata": {
        "id": "cj-d0_8wWJjj",
        "colab_type": "code",
        "colab": {}
      },
      "source": [
        "### YOUR WORK HERE\n",
        "\n",
        "##Load dataset##\n",
        "auto_data = 'https://archive.ics.uci.edu/ml/machine-learning-databases/autos/imports-85.data'\n",
        "auto_names = 'https://archive.ics.uci.edu/ml/machine-learning-databases/autos/imports-85.names'"
      ],
      "execution_count": 5,
      "outputs": []
    },
    {
      "cell_type": "code",
      "metadata": {
        "id": "3Cn6327WZdbC",
        "colab_type": "code",
        "colab": {
          "base_uri": "https://localhost:8080/",
          "height": 299
        },
        "outputId": "15e7600a-1bcd-4c50-d848-316e70d115ad"
      },
      "source": [
        "import pandas as pd\n",
        "import numpy as np\n",
        "\n",
        "column_headers = ['symboling', 'normalized-losses', 'make', 'fuel-type', 'aspiration', 'num-of-doors', 'body-style',\n",
        "                  'drive-wheels', 'engine-location', 'wheel-base', 'length', 'width', 'height', 'curb-weight', 'engine-type',\n",
        "                  'num-of-cylinders', 'engine-size', 'fuel-system', 'bore', 'stroke', 'compression-ratio', 'horsepower',\n",
        "                  'peak-rpm', 'city-mpg', 'highway-mpg', 'price'               \n",
        "]\n",
        "\n",
        "auto_df = pd.read_csv(auto_data, names = column_headers)\n",
        "\n",
        "auto_df.reset_index\n",
        "\n",
        "auto_df.head()\n"
      ],
      "execution_count": 27,
      "outputs": [
        {
          "output_type": "execute_result",
          "data": {
            "text/html": [
              "<div>\n",
              "<style scoped>\n",
              "    .dataframe tbody tr th:only-of-type {\n",
              "        vertical-align: middle;\n",
              "    }\n",
              "\n",
              "    .dataframe tbody tr th {\n",
              "        vertical-align: top;\n",
              "    }\n",
              "\n",
              "    .dataframe thead th {\n",
              "        text-align: right;\n",
              "    }\n",
              "</style>\n",
              "<table border=\"1\" class=\"dataframe\">\n",
              "  <thead>\n",
              "    <tr style=\"text-align: right;\">\n",
              "      <th></th>\n",
              "      <th>symboling</th>\n",
              "      <th>normalized-losses</th>\n",
              "      <th>make</th>\n",
              "      <th>fuel-type</th>\n",
              "      <th>aspiration</th>\n",
              "      <th>num-of-doors</th>\n",
              "      <th>body-style</th>\n",
              "      <th>drive-wheels</th>\n",
              "      <th>engine-location</th>\n",
              "      <th>wheel-base</th>\n",
              "      <th>length</th>\n",
              "      <th>width</th>\n",
              "      <th>height</th>\n",
              "      <th>curb-weight</th>\n",
              "      <th>engine-type</th>\n",
              "      <th>num-of-cylinders</th>\n",
              "      <th>engine-size</th>\n",
              "      <th>fuel-system</th>\n",
              "      <th>bore</th>\n",
              "      <th>stroke</th>\n",
              "      <th>compression-ratio</th>\n",
              "      <th>horsepower</th>\n",
              "      <th>peak-rpm</th>\n",
              "      <th>city-mpg</th>\n",
              "      <th>highway-mpg</th>\n",
              "      <th>price</th>\n",
              "    </tr>\n",
              "  </thead>\n",
              "  <tbody>\n",
              "    <tr>\n",
              "      <th>0</th>\n",
              "      <td>3</td>\n",
              "      <td>?</td>\n",
              "      <td>alfa-romero</td>\n",
              "      <td>gas</td>\n",
              "      <td>std</td>\n",
              "      <td>two</td>\n",
              "      <td>convertible</td>\n",
              "      <td>rwd</td>\n",
              "      <td>front</td>\n",
              "      <td>88.6</td>\n",
              "      <td>168.8</td>\n",
              "      <td>64.1</td>\n",
              "      <td>48.8</td>\n",
              "      <td>2548</td>\n",
              "      <td>dohc</td>\n",
              "      <td>four</td>\n",
              "      <td>130</td>\n",
              "      <td>mpfi</td>\n",
              "      <td>3.47</td>\n",
              "      <td>2.68</td>\n",
              "      <td>9.0</td>\n",
              "      <td>111</td>\n",
              "      <td>5000</td>\n",
              "      <td>21</td>\n",
              "      <td>27</td>\n",
              "      <td>13495</td>\n",
              "    </tr>\n",
              "    <tr>\n",
              "      <th>1</th>\n",
              "      <td>3</td>\n",
              "      <td>?</td>\n",
              "      <td>alfa-romero</td>\n",
              "      <td>gas</td>\n",
              "      <td>std</td>\n",
              "      <td>two</td>\n",
              "      <td>convertible</td>\n",
              "      <td>rwd</td>\n",
              "      <td>front</td>\n",
              "      <td>88.6</td>\n",
              "      <td>168.8</td>\n",
              "      <td>64.1</td>\n",
              "      <td>48.8</td>\n",
              "      <td>2548</td>\n",
              "      <td>dohc</td>\n",
              "      <td>four</td>\n",
              "      <td>130</td>\n",
              "      <td>mpfi</td>\n",
              "      <td>3.47</td>\n",
              "      <td>2.68</td>\n",
              "      <td>9.0</td>\n",
              "      <td>111</td>\n",
              "      <td>5000</td>\n",
              "      <td>21</td>\n",
              "      <td>27</td>\n",
              "      <td>16500</td>\n",
              "    </tr>\n",
              "    <tr>\n",
              "      <th>2</th>\n",
              "      <td>1</td>\n",
              "      <td>?</td>\n",
              "      <td>alfa-romero</td>\n",
              "      <td>gas</td>\n",
              "      <td>std</td>\n",
              "      <td>two</td>\n",
              "      <td>hatchback</td>\n",
              "      <td>rwd</td>\n",
              "      <td>front</td>\n",
              "      <td>94.5</td>\n",
              "      <td>171.2</td>\n",
              "      <td>65.5</td>\n",
              "      <td>52.4</td>\n",
              "      <td>2823</td>\n",
              "      <td>ohcv</td>\n",
              "      <td>six</td>\n",
              "      <td>152</td>\n",
              "      <td>mpfi</td>\n",
              "      <td>2.68</td>\n",
              "      <td>3.47</td>\n",
              "      <td>9.0</td>\n",
              "      <td>154</td>\n",
              "      <td>5000</td>\n",
              "      <td>19</td>\n",
              "      <td>26</td>\n",
              "      <td>16500</td>\n",
              "    </tr>\n",
              "    <tr>\n",
              "      <th>3</th>\n",
              "      <td>2</td>\n",
              "      <td>164</td>\n",
              "      <td>audi</td>\n",
              "      <td>gas</td>\n",
              "      <td>std</td>\n",
              "      <td>four</td>\n",
              "      <td>sedan</td>\n",
              "      <td>fwd</td>\n",
              "      <td>front</td>\n",
              "      <td>99.8</td>\n",
              "      <td>176.6</td>\n",
              "      <td>66.2</td>\n",
              "      <td>54.3</td>\n",
              "      <td>2337</td>\n",
              "      <td>ohc</td>\n",
              "      <td>four</td>\n",
              "      <td>109</td>\n",
              "      <td>mpfi</td>\n",
              "      <td>3.19</td>\n",
              "      <td>3.40</td>\n",
              "      <td>10.0</td>\n",
              "      <td>102</td>\n",
              "      <td>5500</td>\n",
              "      <td>24</td>\n",
              "      <td>30</td>\n",
              "      <td>13950</td>\n",
              "    </tr>\n",
              "    <tr>\n",
              "      <th>4</th>\n",
              "      <td>2</td>\n",
              "      <td>164</td>\n",
              "      <td>audi</td>\n",
              "      <td>gas</td>\n",
              "      <td>std</td>\n",
              "      <td>four</td>\n",
              "      <td>sedan</td>\n",
              "      <td>4wd</td>\n",
              "      <td>front</td>\n",
              "      <td>99.4</td>\n",
              "      <td>176.6</td>\n",
              "      <td>66.4</td>\n",
              "      <td>54.3</td>\n",
              "      <td>2824</td>\n",
              "      <td>ohc</td>\n",
              "      <td>five</td>\n",
              "      <td>136</td>\n",
              "      <td>mpfi</td>\n",
              "      <td>3.19</td>\n",
              "      <td>3.40</td>\n",
              "      <td>8.0</td>\n",
              "      <td>115</td>\n",
              "      <td>5500</td>\n",
              "      <td>18</td>\n",
              "      <td>22</td>\n",
              "      <td>17450</td>\n",
              "    </tr>\n",
              "  </tbody>\n",
              "</table>\n",
              "</div>"
            ],
            "text/plain": [
              "   symboling normalized-losses         make  ... city-mpg highway-mpg  price\n",
              "0          3                 ?  alfa-romero  ...       21          27  13495\n",
              "1          3                 ?  alfa-romero  ...       21          27  16500\n",
              "2          1                 ?  alfa-romero  ...       19          26  16500\n",
              "3          2               164         audi  ...       24          30  13950\n",
              "4          2               164         audi  ...       18          22  17450\n",
              "\n",
              "[5 rows x 26 columns]"
            ]
          },
          "metadata": {
            "tags": []
          },
          "execution_count": 27
        }
      ]
    },
    {
      "cell_type": "code",
      "metadata": {
        "id": "zZigdNsSeMZw",
        "colab_type": "code",
        "colab": {
          "base_uri": "https://localhost:8080/",
          "height": 470
        },
        "outputId": "22171de5-5b41-4401-a813-d5fe79654e94"
      },
      "source": [
        "\n",
        "# the number of null values (NaN values) per column\n",
        "\n",
        "auto_data_clean = auto_df.replace({\"?\": np.nan, \"NaN\": np.nan})\n",
        "\n",
        "auto_data_clean.isnull().sum()"
      ],
      "execution_count": 33,
      "outputs": [
        {
          "output_type": "execute_result",
          "data": {
            "text/plain": [
              "symboling             0\n",
              "normalized-losses    41\n",
              "make                  0\n",
              "fuel-type             0\n",
              "aspiration            0\n",
              "num-of-doors          2\n",
              "body-style            0\n",
              "drive-wheels          0\n",
              "engine-location       0\n",
              "wheel-base            0\n",
              "length                0\n",
              "width                 0\n",
              "height                0\n",
              "curb-weight           0\n",
              "engine-type           0\n",
              "num-of-cylinders      0\n",
              "engine-size           0\n",
              "fuel-system           0\n",
              "bore                  4\n",
              "stroke                4\n",
              "compression-ratio     0\n",
              "horsepower            2\n",
              "peak-rpm              2\n",
              "city-mpg              0\n",
              "highway-mpg           0\n",
              "price                 4\n",
              "dtype: int64"
            ]
          },
          "metadata": {
            "tags": []
          },
          "execution_count": 33
        }
      ]
    },
    {
      "cell_type": "markdown",
      "metadata": {
        "id": "FD-Pk07-Z-xk",
        "colab_type": "text"
      },
      "source": [
        "### 2) Pretend that this dataset represents the cars at a used car lot in your local town. \n",
        "\n",
        "- Use df.sample() to pick a random sample of 10 cars. Note that because this sample is random we are going to set the `random_state` so that all of us in the class get the same random sample. Please set your random state to `30` when using `df.sample()`\n",
        "\n",
        "Is your sample reflective of the population value in regards to highway-mpg? Find the mean for `highway-mpg` for the entire dataset and compare your sample mean estimate to that value. Can you say that they are different? "
      ]
    },
    {
      "cell_type": "code",
      "metadata": {
        "id": "6qXiJGTwdG2N",
        "colab_type": "code",
        "colab": {}
      },
      "source": [
        "### YOUR WORK HERE"
      ],
      "execution_count": null,
      "outputs": []
    },
    {
      "cell_type": "markdown",
      "metadata": {
        "id": "oxsx9cN7dUPp",
        "colab_type": "text"
      },
      "source": [
        "The salesman says the cars he sells typically have a fuel efficiency of about 35 miles per gallon on the highway. You want to verify his claim but can only test 10 cars. Using your sample of 10, test his claim and report your results."
      ]
    },
    {
      "cell_type": "code",
      "metadata": {
        "id": "6pXyclB9ZXCn",
        "colab_type": "code",
        "colab": {}
      },
      "source": [
        "### YOUR WORK HERE"
      ],
      "execution_count": null,
      "outputs": []
    },
    {
      "cell_type": "markdown",
      "metadata": {
        "id": "yAkyHaEnbNYa",
        "colab_type": "text"
      },
      "source": [
        "Imagine that you now have the capacity to test 100 cars on the lot. Using the same random state of `30`, what would you conclude when sampling 100 cars?"
      ]
    },
    {
      "cell_type": "code",
      "metadata": {
        "id": "Y3H81uMubpLh",
        "colab_type": "code",
        "colab": {}
      },
      "source": [
        "### YOUR WORK HERE"
      ],
      "execution_count": null,
      "outputs": []
    },
    {
      "cell_type": "markdown",
      "metadata": {
        "id": "sDO-ufMDfpVA",
        "colab_type": "text"
      },
      "source": [
        "Why might these two t-tests using the same dataset lead to different conclusions about the salesman's claim?"
      ]
    },
    {
      "cell_type": "markdown",
      "metadata": {
        "id": "8H6-cStNfpwS",
        "colab_type": "text"
      },
      "source": [
        ""
      ]
    },
    {
      "cell_type": "markdown",
      "metadata": {
        "id": "TPT-ZTt0PuIk",
        "colab_type": "text"
      },
      "source": [
        "## Practice 2-Sample T-tests\n",
        "\n",
        "Two Sample t-tests determine whether or not two sample means are statistically different from each other. \n",
        "\n",
        "This portion of your assignment requires you to determine which issues have \"statistically significant\" differences between political parties in this [1980s congressional voting data](https://archive.ics.uci.edu/ml/datasets/Congressional+Voting+Records). \n"
      ]
    },
    {
      "cell_type": "markdown",
      "metadata": {
        "id": "PvFVLwekQxLH",
        "colab_type": "text"
      },
      "source": [
        "### 1) Load the data\n",
        "\n",
        "The data consists of 435 instances (one for each congressperson), a class (democrat or republican), and 16 binary attributes (yes or no for voting for or against certain issues). Be aware - there are missing values!\n",
        "\n",
        "- Read the dataset in from UCI, you'll need to provide a list of column headers\n",
        "- Encode \"yes\" votes as 1 and \"no\" votes as 0. (You can use `df.replace()` to swap out these values)\n",
        "- Use dataframe filtering to split the dataframe into two new dataframes based on party. Hold all republicans in one dataframe and all democrats in the other. These will be our two different \"samples.\"\n",
        "\n"
      ]
    },
    {
      "cell_type": "code",
      "metadata": {
        "id": "__qLGHt5fXvU",
        "colab_type": "code",
        "colab": {}
      },
      "source": [
        "### YOUR WORK HERE"
      ],
      "execution_count": null,
      "outputs": []
    },
    {
      "cell_type": "markdown",
      "metadata": {
        "id": "f20v73e3RLAV",
        "colab_type": "text"
      },
      "source": [
        "### 2) Perform two sample T-tests on different issues and report the results.\n",
        "\n",
        "- Find an issue that democrats support more than republicans with p < 0.01 (significant at the 99% level).\n",
        "- Find an issue that republicans support more than democrats with p < 0.01 (significant at the 99% level).\n",
        "- Find an issue where the difference between republicans and democrats has p > 0.1 (Not significant at the 90% level - i.e. there may not be much of a difference the two sample means)\n",
        "\n",
        "Please for each test that you run state your null and alternative hypothesis and then write a conclusion reflecting on the null and alternative hypothesis.\n",
        "\n",
        "Remember, that two-sample t-tests will only tell us if the two groups are *different* from one another. We'll have to look at their sample means directly or use the sign on the t-statistic to know which of the two sample means is larger. "
      ]
    },
    {
      "cell_type": "code",
      "metadata": {
        "id": "bCE3UgpbP69p",
        "colab_type": "code",
        "colab": {}
      },
      "source": [
        "### YOUR WORK HERE"
      ],
      "execution_count": null,
      "outputs": []
    },
    {
      "cell_type": "markdown",
      "metadata": {
        "id": "C5pkmOuKgK9Y",
        "colab_type": "text"
      },
      "source": [
        "## Stretch Goals:\n",
        "\n",
        "### 1) Use functions and some iterator (for loop, .apply(), list comprehension, etc.) to perform two sample t-tests on every issue in the dataset in an automated fashion."
      ]
    },
    {
      "cell_type": "code",
      "metadata": {
        "id": "z7c7K322gLeN",
        "colab_type": "code",
        "colab": {}
      },
      "source": [
        "### YOUR WORK HERE"
      ],
      "execution_count": null,
      "outputs": []
    },
    {
      "cell_type": "markdown",
      "metadata": {
        "id": "wcA_AvvRAqW_",
        "colab_type": "text"
      },
      "source": [
        "\n",
        "\n",
        "### 2) Work on Performing a T-test without using Scipy in order to get \"under the hood\" and learn more thoroughly about this topic.\n",
        "### Start with a 1-sample t-test\n",
        " - Establish the conditions for your test \n",
        " - [Calculate the T Statistic](https://blog.minitab.com/hs-fs/hubfs/Imported_Blog_Media/701f9c0efa98a38fb397f3c3ec459b66.png?width=247&height=172&name=701f9c0efa98a38fb397f3c3ec459b66.png) (You'll need to omit NaN values from your sample).\n",
        " - Translate that t-statistic into a P-value. You can use a [table](https://www.google.com/search?q=t+statistic+table) or the [University of Iowa Applet](https://homepage.divms.uiowa.edu/~mbognar/applets/t.html)\n",
        "\n",
        "### Be sure to check your work using Scipy!\n",
        "\n",
        "\n",
        "\n"
      ]
    },
    {
      "cell_type": "code",
      "metadata": {
        "id": "3pdMy-KoPjoM",
        "colab_type": "code",
        "colab": {}
      },
      "source": [
        "### YOUR WORK HERE"
      ],
      "execution_count": null,
      "outputs": []
    },
    {
      "cell_type": "markdown",
      "metadata": {
        "id": "3114xDdlPjFx",
        "colab_type": "text"
      },
      "source": [
        "### 3) Then try a 2-sample t-test\n",
        " - Establish the conditions for your test \n",
        " - [Calculate the T Statistic](https://lh3.googleusercontent.com/proxy/rJJ5ZOL9ZDvKOOeBihXoZDgfk7uv1YsRzSQ1Tc10RX-r2HrRpRLVqlE9CWX23csYQXcTniFwlBg3H-qR8MKJPBGnjwndqlhDX3JxoDE5Yg) (You'll need to omit NaN values from your sample).\n",
        " - Translate that t-statistic into a P-value. You can use a [table](https://www.google.com/search?q=t+statistic+table) or the [University of Iowa Applet](https://homepage.divms.uiowa.edu/~mbognar/applets/t.html)\n",
        "\n",
        " ### Be sure to check your work using Scipy!"
      ]
    },
    {
      "cell_type": "code",
      "metadata": {
        "id": "dPmXOHh1Cfea",
        "colab_type": "code",
        "colab": {}
      },
      "source": [
        "### YOUR WORK HERE"
      ],
      "execution_count": null,
      "outputs": []
    }
  ]
}