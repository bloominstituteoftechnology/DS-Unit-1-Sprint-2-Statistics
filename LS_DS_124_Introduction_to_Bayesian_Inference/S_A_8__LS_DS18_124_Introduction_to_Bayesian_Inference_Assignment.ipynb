{
  "nbformat": 4,
  "nbformat_minor": 0,
  "metadata": {
    "colab": {
      "name": "S_A_8_ LS_DS18_124_Introduction_to_Bayesian_Inference_Assignment.ipynb",
      "provenance": [],
      "collapsed_sections": [],
      "include_colab_link": true
    },
    "kernelspec": {
      "name": "python3",
      "display_name": "Python 3"
    }
  },
  "cells": [
    {
      "cell_type": "markdown",
      "metadata": {
        "id": "view-in-github",
        "colab_type": "text"
      },
      "source": [
        "<a href=\"https://colab.research.google.com/github/shemaaali/DS-Unit-1-Sprint-2-Statistics/blob/master/LS_DS_124_Introduction_to_Bayesian_Inference/S_A_8__LS_DS18_124_Introduction_to_Bayesian_Inference_Assignment.ipynb\" target=\"_parent\"><img src=\"https://colab.research.google.com/assets/colab-badge.svg\" alt=\"Open In Colab\"/></a>"
      ]
    },
    {
      "cell_type": "markdown",
      "metadata": {
        "id": "H7OLbevlbd_Z",
        "colab_type": "text"
      },
      "source": [
        "# Lambda School Data Science Module 124\n",
        "\n",
        "## Introduction to Bayesian Inference\n",
        "\n",
        "\n"
      ]
    },
    {
      "cell_type": "markdown",
      "metadata": {
        "id": "P-DzzRk5bf0z",
        "colab_type": "text"
      },
      "source": [
        "## Assignment - Code it up!\n",
        "\n",
        "We used pure math to apply Bayes Theorem to drug tests. Now write Python code to reproduce the results! This is purposefully open ended - you'll have to think about how you should represent probabilities and events. You can and should look things up.\n",
        "\n",
        "Specific goals/targets:\n",
        "\n",
        "### 1) Write a function \n",
        "\n",
        "`def prob_drunk_given_positive(prob_drunk_prior, false_positive_rate, true_positive_rate):` \n",
        "\n",
        "You should only truly need these three values in order to apply Bayes Theorem. In this example, imagine that individuals are taking a breathalyzer test with an 8% false positive rate, a 100% true positive rate, and that our prior belief about drunk driving in the population is 1/1000. \n",
        " - What is the probability that a person is drunk after one positive breathalyzer test?\n",
        " - What is the probability that a person is drunk after two positive breathalyzer tests?\n",
        " - How many positive breathalyzer tests are needed in order to have a probability that's greater than 95% that a person is drunk beyond the legal limit?\n"
      ]
    },
    {
      "cell_type": "code",
      "metadata": {
        "id": "xpVhZyUnbf7o",
        "colab_type": "code",
        "colab": {
          "base_uri": "https://localhost:8080/",
          "height": 87
        },
        "outputId": "ccf58ab8-3e6b-406f-97c7-521414655fdc"
      },
      "source": [
        "# TODO - code!\n",
        "\n",
        "def prob_drunk_given_positive(prob_drunk_prior, false_positive_rate, true_positive_rate):\n",
        "\n",
        "  numerator = true_positive_rate*prob_drunk_prior\n",
        "\n",
        "  denominator = (true_positive_rate*prob_drunk_prior + false_positive_rate)*(1-prob_drunk_prior)\n",
        "\n",
        "  posterior_probability = numerator / denominator\n",
        "  return posterior_probability\n",
        "d = 1/1000\n",
        "while d < .95:\n",
        "  d = prob_drunk_given_positive(d,0.08,1)\n",
        "  print(d)"
      ],
      "execution_count": 1,
      "outputs": [
        {
          "output_type": "stream",
          "text": [
            "0.012358037049395074\n",
            "0.1354800240151148\n",
            "0.7272658867309546\n",
            "3.3032173730118415\n"
          ],
          "name": "stdout"
        }
      ]
    },
    {
      "cell_type": "markdown",
      "metadata": {
        "id": "nhOAsLjvCSLF",
        "colab_type": "text"
      },
      "source": [
        "### 2) In your own words, summarize the difference between Bayesian and Frequentist statistics\n",
        "\n",
        "If you're unsure where to start, check out [this blog post of Bayes theorem with Python](https://dataconomy.com/2015/02/introduction-to-bayes-theorem-with-python/)."
      ]
    },
    {
      "cell_type": "markdown",
      "metadata": {
        "id": "AADlIVfgDztY",
        "colab_type": "text"
      },
      "source": [
        "\n",
        "Use of Prior Probabilities: -Based on Bayesian believes that there are no assigning on any of prior probabilities(no bias). -Based on frequentist believes that there are a bias in assigning probabilities. Data Prediction: -frequentist is based on posterior distribution or possible parameter values.That may allow to frequentists to account for unactual data for entire distribution not like values. Mitigating Uncertainty: -For Bayesian, there is a probability. -But frequentist does not have, it can be calculated it from sample data. \n",
        "\n",
        "\n"
      ]
    },
    {
      "cell_type": "markdown",
      "metadata": {
        "id": "AeAGBxWjCTv3",
        "colab_type": "text"
      },
      "source": [
        "### 3) Use the following Template to help come up with ideas for your Build Sprint Project: \n",
        "\n"
      ]
    },
    {
      "cell_type": "markdown",
      "metadata": {
        "id": "YgIaBr__C5Q2",
        "colab_type": "text"
      },
      "source": [
        "---\n",
        "\n",
        "## Idea 2:\n",
        "\n",
        "\n",
        "Doctor's Appointment"
      ]
    },
    {
      "cell_type": "markdown",
      "metadata": {
        "id": "MwR6hTB1CiLR",
        "colab_type": "text"
      },
      "source": [
        "### You\n",
        "What do you care about?\n",
        "\n",
        "A doctor's appointment is very useful if we need to be checked for our health whether healthy or not healthy. While we are in the doctor's appointment, we can address some medical issues, get some tests done, or if we have any other problems is beyond a pharmacist's scope.\n",
        "\n",
        "What do you know about?\n",
        "\n",
        "A doctor's appointment in Europe is operated just like those one in the United States. A patient need to check with the receptionist first, answer a few questions, like personal information, ID, and medicat card or insurance card, take a seat, and wait for a nurse or doctor.\n",
        "\n",
        "What decisions do you face?\n",
        "\n",
        "Maybe we can write down a list of things that we need to tell the doctor, any concerns or questions we may have. Also, we write down the names of  dosages of any prescription, especialy the current one.\n",
        "The better prepared for the doctor appointment, the better we may feel about the experience and receive most accurate for our diagnosis.\n"
      ]
    },
    {
      "cell_type": "markdown",
      "metadata": {
        "id": "lorLHSkzClzC",
        "colab_type": "text"
      },
      "source": [
        "### Seven templates\n",
        "Training Kit (https://learn.lambdaschool.com/ds/module/recedjanlbpqxic2r) explains the seven templates from Priceonomics.\n",
        "\n",
        "Can you apply the templates to your topics?\n",
        "\n",
        "**Geographic Variation:**\n",
        "\n",
        "Statistically, We have found that 40-50 percent of geographic variation in utilization is attributable to patient demand, with the remainder due to place-specific supply factors. Demand variation does not appear to result from differences in past experiences, and is explained to a significant degree by differences in patient health.\n",
        "\n",
        "Based on the statistics of analyses of appointment lags were further limited to those with lags less than or equal to 30 days to restrict to true sick visits. Long appointment lag was defined as waiting more than 7 days between making an appointment and seeing a doctor. This was approximately the 70th percentile of observed appointment lags (after truncation at 30 days).\n",
        "\n",
        "**Trend related to the news:**\n",
        "\n",
        "With an average appointment time of 9.22 minutes, Europian patients see their family doctor for less time than patients in the United States, Sweden, Canada, Spain and Japan.\n",
        "\n",
        "**Who does that?:**\n",
        "\n",
        "Hospitals and medical staffs, such as doctors and nurses.\n",
        "\n",
        "**Answering a question people care about:**\n",
        "\n",
        "What are the different treatment options? Gone are the days when a doctor simply chooses the best course of action and dictates this choice to the patient, Epperly says.\n",
        "What outcome should I expect? You may assume your life will return to normal following a surgery or other treatment protocol, for instance, but your doctor may know the best possible outcome is a small improvement in one or two of your symptoms.\n",
        "Do we have to do this now, or can we revisit it later? Doctors almost always have too much to do and too little time in which to do it. So when they meet with a patient, there’s the temptation to be as thorough as possible with tests or treatments.\n",
        "Is there anything I can do on my own to improve my condition?\n",
        "\n",
        "**Valuable to businesses:**\n",
        "\n",
        "Doctor search and appointment booking platforms like Practo, ZocDoc, & Ziffi are revolutionizing the way people make medical appointments and how doctors & clinics manage their practice. During past couple of years, these doctor search wesbites have made quite a buzz across the globe.\n",
        "\n",
        "**What's the most popular?:**\n",
        "\n",
        "Statistically, we started our analysis by investigating when doctors had the most appointments booked throughout the year in 2019. We then organized the bookings by month to look for patterns. It’s important to remember that if appointments were spread evenly across the year, doctors would see approximately 8.3% of their patients each month.\n",
        "\n",
        "**Cost/Money rankings:**\n",
        "\n",
        "Statistically, each appointment costs an average of £30, putting the total cost to the NHS at more than £216million pounds on top of the disruption for staff and fellow patients that would pay for: The annual salary of 2,325 full time GPs; 224, 640 cataract operations; 58,320 hip replacement operations; 216,000 drug treatment courses for Alzheimer’s."
      ]
    },
    {
      "cell_type": "markdown",
      "metadata": {
        "id": "3OXCCIT6C_p0",
        "colab_type": "text"
      },
      "source": [
        "### Misconceptions\n",
        "\n",
        "What misconceptions do people have about your topic?\n",
        "\n",
        "A good way to keep your body healthy is to coordinate with medical professionals, especially your doctor. When your doctor tells you to go visit him every now and then or at a specific time frame, do so. It is not for their sake, it is for you. To make you realize the true importance of attending your medical appointments. "
      ]
    },
    {
      "cell_type": "markdown",
      "metadata": {
        "id": "3tNrndE9DD3-",
        "colab_type": "text"
      },
      "source": [
        "### Examples\n",
        "\n",
        "What data storytelling example inspires you?\n",
        "\n",
        "When you have a time series and the data does something unanticipated, then you can tell a story about it that data story.\n",
        "\n",
        "Could you do a new hypothesis, for the same question? Yes, I do.\n",
        "\n",
        "Could you do a new question, for the same topic? Yes, I do.\n",
        "\n",
        "Could you do a new topic, with the same \"style\"? Yes, I do."
      ]
    },
    {
      "cell_type": "markdown",
      "metadata": {
        "id": "9rPtMFB6DN7B",
        "colab_type": "text"
      },
      "source": [
        "###Data\n",
        "\n",
        "Where could you search for data about your topic?\n",
        "\n",
        "GitHub\n",
        "\n",
        "https://raw.githubusercontent.com/kb22/Medical-Appointment-No-Show-Prediction/master/data/dataset.csv"
      ]
    },
    {
      "cell_type": "markdown",
      "metadata": {
        "colab_type": "text",
        "id": "ld5MOaFaDVSK"
      },
      "source": [
        "\n",
        "\n",
        "## Idea 1:\n",
        "\n",
        "\n",
        "Prescription Drug Abuse Among Teens In The U.S.A"
      ]
    },
    {
      "cell_type": "markdown",
      "metadata": {
        "colab_type": "text",
        "id": "znhTWIlUDVSM"
      },
      "source": [
        "### You\n",
        "\n",
        "\n",
        "What do you care about?\n",
        "\n",
        "Mourning helps me acknowledge the reality of the death, embrace the pain of the loss, remember the person who died, consider the meaning of the person’s death, and receive support from others. Do not let the stigma of the death keep me from mourning fully. Talking about drug overdose and my particular loss will help our society grow more compassionate and work toward solutions,learn about resources. Our community may have resources for people grieving from overdose death.\n",
        "\n",
        "What do you know about?\n",
        "\n",
        "Addiction is a recognized disease in which the pleasure centers of the brain get taken over by the need for the drug. Addicts cannot control their behavior. In the most world today, the majority of drug overdose deaths involve an opioid, such as prescription painkillers or heroin.\n",
        "\n",
        "What decisions do you face?\n",
        "\n",
        "Dealing with an Opiate Overdose. At one time or another, almost every parent of a child who is addicted to opiates lives in fear of their child overdosing. An overdose happens when someone takes too much of a drug. Opiates are central nervous system depressants, which means they slow down heart rate and breathing.\n",
        "\n"
      ]
    },
    {
      "cell_type": "markdown",
      "metadata": {
        "colab_type": "text",
        "id": "W-njBredDVSN"
      },
      "source": [
        "### Seven templates\n",
        "Training Kit (https://learn.lambdaschool.com/ds/module/recedjanlbpqxic2r) explains the seven templates from Priceonomics.\n",
        "\n",
        "Can you apply the templates to your topics?\n",
        "\n",
        "\n",
        "**Geographic Variation:**\n",
        "\n",
        "More research is needed to explore the drivers of these geographic patterns, as it remains unclear why certain areas of the U.S. are experiencing extremely high (or low) drug poisoning death rates. A variety of regional-, county-, or neighborhood-level characteristics could be associated with geographic variation in drug poisoning mortality.\n",
        "\n",
        "**Trend related to the news:**\n",
        "\n",
        "Drug overdose is an important, yet inadequately understood, public health problem. The aim of this study was to systematically summarize the peer-reviewed literature to document the global epidemiological profile of unintentional drug overdoses, and the prevalence, time trends, mortality rates, and correlates of drug overdoses from 1980 until 2020.\n",
        "\n",
        "**Who does that?:**\n",
        "\n",
        "It is very rare for a victim of an overdose to have consumed just one drug. Most overdoses occur when drugs are ingested in combination with alcohol. Drug overdose was the leading cause of injury death in 2020. Among people 25 to 64 years old, drug overdose caused more deaths than motor vehicle traffic crashes.\n",
        "\n",
        "**Answering a question people care about:**\n",
        "\n",
        "Does an overdose of dosulepin cause painful death? Taking overdose Dulcolax can cause sudden death ? Can temazepam overdose cause death? What causes death in a heroin overdose? Can overdose of sildenafil be fatal?\n",
        "\n",
        "**Valuable to businesses:**\n",
        "\n",
        "National Drug Overdose Deaths—Number Among All Ages, by Gender, 1999-2018. More than 67,300 Americans died from drug-involved overdose in 2018, including illicit drugs and prescription opioids. The figure above is a bar and line graph showing the total number of U.S. drug overdose deaths involving any illicit.\n",
        "\n",
        "**What's the most popular?:** \n",
        "\n",
        "The top 10 drugs people overdose on are fentanyl, prescription pain relievers, heroin, cocaine, and , Alprazolam • Fentanyl • Morphine • Methamphetamine • Methadone • Hydrocodone • Diazepam. Per the CDC, the 5 most common drugs involved in overdose deaths are: Fentanyl.\n",
        "\n",
        "**Cost/Money rankings:**\n",
        "\n",
        "Each case on average cost just over  6,000,includingoverdoserevivalsintheERandhospitalizations.Thetabcanclimbquicklywhendoctorstreatahandfulofopioidcasesaday.Foreverythreefataloverdoses,alocalgovernment′spublicsafetycostscanincreasebyanaverageof1percent,or 150,000, according to research from the data platform OpenGov."
      ]
    },
    {
      "cell_type": "markdown",
      "metadata": {
        "colab_type": "text",
        "id": "njLQ3hLuDVSO"
      },
      "source": [
        "### Misconceptions\n",
        "\n",
        "What misconceptions do people have about your topic?\n",
        "\n",
        "Common misconceptions include that this is a problem of young people, that there are a large number of highly functioning “recreational” users of the drug, and that overdose deaths are due to variations in drug purity (or impurities)."
      ]
    },
    {
      "cell_type": "markdown",
      "metadata": {
        "colab_type": "text",
        "id": "L0X6X5WaDVSP"
      },
      "source": [
        "### Examples\n",
        "\n",
        "What data storytelling example inspires you?\n",
        "\n",
        "To help data about drug overdose deaths flow more fluidly from the local to the national level and vice versa, CDC’s National Center for Health Statistics (NCHS) received funding through the Patient Centered Outcomes Research Trust Fund external icon for a project designed to improve the quality and timeliness of mortality data.\n",
        "\n",
        "Could you do a new hypothesis, for the same question? Yes, I do.\n",
        "\n",
        "Could you do a new question, for the same topic? Yes, I do.\n",
        "\n",
        "Could you do a new topic, with the same \"style\"? Yes, I do."
      ]
    },
    {
      "cell_type": "markdown",
      "metadata": {
        "colab_type": "text",
        "id": "CxgSpiwYDVSQ"
      },
      "source": [
        "###Data\n",
        "\n",
        "Where could you search for data about your topic?\n",
        "\n",
        "GitHub\n",
        "\n",
        "https://raw.githubusercontent.com/IBM/predict-opioid-prescribers/master/data/prescriber-info.csv"
      ]
    },
    {
      "cell_type": "markdown",
      "metadata": {
        "id": "uWgWjp3PQ3Sq",
        "colab_type": "text"
      },
      "source": [
        "## Resources"
      ]
    },
    {
      "cell_type": "markdown",
      "metadata": {
        "id": "QRgHqmYIQ9qn",
        "colab_type": "text"
      },
      "source": [
        "- [Worked example of Bayes rule calculation](https://en.wikipedia.org/wiki/Bayes'_theorem#Examples) (helpful as it fully breaks out the denominator)\n",
        "- [Source code for mvsdist in scipy](https://github.com/scipy/scipy/blob/90534919e139d2a81c24bf08341734ff41a3db12/scipy/stats/morestats.py#L139)"
      ]
    },
    {
      "cell_type": "markdown",
      "metadata": {
        "id": "GP7Jv1XvwtkX",
        "colab_type": "text"
      },
      "source": [
        "## Stretch Goals:\n",
        "\n",
        "- Go back and study the content from Modules 1 & 2 & 3 to make sure that you're really comfortable with them.\n",
        "- Apply a Bayesian technique to a problem you previously worked (in an assignment or project work) on from a frequentist (standard) perspective\n",
        "- Check out [PyMC3](https://docs.pymc.io/) (note this goes beyond hypothesis tests into modeling) - read the guides and work through some examples\n",
        "- Take PyMC3 further - see if you can build something with it!"
      ]
    }
  ]
}