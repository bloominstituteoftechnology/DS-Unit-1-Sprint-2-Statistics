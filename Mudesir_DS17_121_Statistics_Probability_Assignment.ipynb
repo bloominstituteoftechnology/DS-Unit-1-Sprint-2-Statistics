{
  "nbformat": 4,
  "nbformat_minor": 0,
  "metadata": {
    "kernelspec": {
      "display_name": "Python 3",
      "language": "python",
      "name": "python3"
    },
    "language_info": {
      "codemirror_mode": {
        "name": "ipython",
        "version": 3
      },
      "file_extension": ".py",
      "mimetype": "text/x-python",
      "name": "python",
      "nbconvert_exporter": "python",
      "pygments_lexer": "ipython3",
      "version": "3.7.3"
    },
    "colab": {
      "name": "Mudesir_DS17_121_Statistics_Probability_Assignment.ipynb",
      "provenance": [],
      "collapsed_sections": [],
      "include_colab_link": true
    }
  },
  "cells": [
    {
      "cell_type": "markdown",
      "metadata": {
        "id": "view-in-github",
        "colab_type": "text"
      },
      "source": [
        "<a href=\"https://colab.research.google.com/github/mudesir/DS-Unit-1-Sprint-2-Statistics/blob/master/Mudesir_DS17_121_Statistics_Probability_Assignment.ipynb\" target=\"_parent\"><img src=\"https://colab.research.google.com/assets/colab-badge.svg\" alt=\"Open In Colab\"/></a>"
      ]
    },
    {
      "cell_type": "markdown",
      "metadata": {
        "id": "Sa5KWMO1ngPN",
        "colab_type": "text"
      },
      "source": [
        "<img align=\"left\" src=\"https://lever-client-logos.s3.amazonaws.com/864372b1-534c-480e-acd5-9711f850815c-1524247202159.png\" width=200>\n",
        "<br></br>\n",
        "<br></br>\n",
        "\n",
        "## *Data Science Unit 1 Sprint 2 Assignment 1*\n",
        "\n",
        "# Apply the t-test to real data\n",
        "\n",
        "Your assignment is to determine which issues have \"statistically significant\" differences between political parties in this [1980s congressional voting data](https://archive.ics.uci.edu/ml/datasets/Congressional+Voting+Records). The data consists of 435 instances (one for each congressperson), a class (democrat or republican), and 16 binary attributes (yes or no for voting for or against certain issues). Be aware - there are missing values!\n",
        "\n",
        "Your goals:\n",
        "\n",
        "1. Load and clean the data (or determine the best method to drop observations when running tests)\n",
        "2. Using hypothesis testing, find an issue that democrats support more than republicans with p < 0.01\n",
        "3. Using hypothesis testing, find an issue that republicans support more than democrats with p < 0.01\n",
        "4. Using hypothesis testing, find an issue where the difference between republicans and democrats has p > 0.1 (i.e. there may not be much of a difference)\n",
        "\n",
        "Note that this data will involve *2 sample* t-tests, because you're comparing averages across two groups (republicans and democrats) rather than a single group against a null hypothesis."
      ]
    },
    {
      "cell_type": "code",
      "metadata": {
        "id": "ZKwspo2CngPP",
        "colab_type": "code",
        "outputId": "38d18d5e-8549-455a-cfff-3ad9ad4c2d9f",
        "colab": {
          "base_uri": "https://localhost:8080/",
          "height": 274
        }
      },
      "source": [
        "### From the raw data we see that the dataset doesn't have column headers and have some missed values lets \n",
        "# fix the header and the cell values assigned by \"?\" clean our data\n",
        "import pandas as pd\n",
        "column_headers = ['party', 'handicapped-infants', 'water-project-cost-sharing', 'adoption-of-the-budget-resolution', \n",
        "                    'physician-fee-freeze', 'el-salvador-aid', 'religious-groups-in-schools', 'anti-satellite-test-ban', \n",
        "                    'aid-to-nicaraguan-contras', 'mx-missile', 'immigration', 'synfuels-corporation-cutback', 'education-spending', \n",
        "                    'superfund-right-to-sue', 'crime', 'duty-free-exports', 'export-administration-act-south-africa']\n",
        "df = pd.read_csv('https://archive.ics.uci.edu/ml/machine-learning-databases/voting-records/house-votes-84.data', names=column_headers)\n",
        "df.head()                                                                                                                          "
      ],
      "execution_count": 3,
      "outputs": [
        {
          "output_type": "execute_result",
          "data": {
            "text/html": [
              "<div>\n",
              "<style scoped>\n",
              "    .dataframe tbody tr th:only-of-type {\n",
              "        vertical-align: middle;\n",
              "    }\n",
              "\n",
              "    .dataframe tbody tr th {\n",
              "        vertical-align: top;\n",
              "    }\n",
              "\n",
              "    .dataframe thead th {\n",
              "        text-align: right;\n",
              "    }\n",
              "</style>\n",
              "<table border=\"1\" class=\"dataframe\">\n",
              "  <thead>\n",
              "    <tr style=\"text-align: right;\">\n",
              "      <th></th>\n",
              "      <th>party</th>\n",
              "      <th>handicapped-infants</th>\n",
              "      <th>water-project-cost-sharing</th>\n",
              "      <th>adoption-of-the-budget-resolution</th>\n",
              "      <th>physician-fee-freeze</th>\n",
              "      <th>el-salvador-aid</th>\n",
              "      <th>religious-groups-in-schools</th>\n",
              "      <th>anti-satellite-test-ban</th>\n",
              "      <th>aid-to-nicaraguan-contras</th>\n",
              "      <th>mx-missile</th>\n",
              "      <th>immigration</th>\n",
              "      <th>synfuels-corporation-cutback</th>\n",
              "      <th>education-spending</th>\n",
              "      <th>superfund-right-to-sue</th>\n",
              "      <th>crime</th>\n",
              "      <th>duty-free-exports</th>\n",
              "      <th>export-administration-act-south-africa</th>\n",
              "    </tr>\n",
              "  </thead>\n",
              "  <tbody>\n",
              "    <tr>\n",
              "      <th>0</th>\n",
              "      <td>republican</td>\n",
              "      <td>n</td>\n",
              "      <td>y</td>\n",
              "      <td>n</td>\n",
              "      <td>y</td>\n",
              "      <td>y</td>\n",
              "      <td>y</td>\n",
              "      <td>n</td>\n",
              "      <td>n</td>\n",
              "      <td>n</td>\n",
              "      <td>y</td>\n",
              "      <td>?</td>\n",
              "      <td>y</td>\n",
              "      <td>y</td>\n",
              "      <td>y</td>\n",
              "      <td>n</td>\n",
              "      <td>y</td>\n",
              "    </tr>\n",
              "    <tr>\n",
              "      <th>1</th>\n",
              "      <td>republican</td>\n",
              "      <td>n</td>\n",
              "      <td>y</td>\n",
              "      <td>n</td>\n",
              "      <td>y</td>\n",
              "      <td>y</td>\n",
              "      <td>y</td>\n",
              "      <td>n</td>\n",
              "      <td>n</td>\n",
              "      <td>n</td>\n",
              "      <td>n</td>\n",
              "      <td>n</td>\n",
              "      <td>y</td>\n",
              "      <td>y</td>\n",
              "      <td>y</td>\n",
              "      <td>n</td>\n",
              "      <td>?</td>\n",
              "    </tr>\n",
              "    <tr>\n",
              "      <th>2</th>\n",
              "      <td>democrat</td>\n",
              "      <td>?</td>\n",
              "      <td>y</td>\n",
              "      <td>y</td>\n",
              "      <td>?</td>\n",
              "      <td>y</td>\n",
              "      <td>y</td>\n",
              "      <td>n</td>\n",
              "      <td>n</td>\n",
              "      <td>n</td>\n",
              "      <td>n</td>\n",
              "      <td>y</td>\n",
              "      <td>n</td>\n",
              "      <td>y</td>\n",
              "      <td>y</td>\n",
              "      <td>n</td>\n",
              "      <td>n</td>\n",
              "    </tr>\n",
              "    <tr>\n",
              "      <th>3</th>\n",
              "      <td>democrat</td>\n",
              "      <td>n</td>\n",
              "      <td>y</td>\n",
              "      <td>y</td>\n",
              "      <td>n</td>\n",
              "      <td>?</td>\n",
              "      <td>y</td>\n",
              "      <td>n</td>\n",
              "      <td>n</td>\n",
              "      <td>n</td>\n",
              "      <td>n</td>\n",
              "      <td>y</td>\n",
              "      <td>n</td>\n",
              "      <td>y</td>\n",
              "      <td>n</td>\n",
              "      <td>n</td>\n",
              "      <td>y</td>\n",
              "    </tr>\n",
              "    <tr>\n",
              "      <th>4</th>\n",
              "      <td>democrat</td>\n",
              "      <td>y</td>\n",
              "      <td>y</td>\n",
              "      <td>y</td>\n",
              "      <td>n</td>\n",
              "      <td>y</td>\n",
              "      <td>y</td>\n",
              "      <td>n</td>\n",
              "      <td>n</td>\n",
              "      <td>n</td>\n",
              "      <td>n</td>\n",
              "      <td>y</td>\n",
              "      <td>?</td>\n",
              "      <td>y</td>\n",
              "      <td>y</td>\n",
              "      <td>y</td>\n",
              "      <td>y</td>\n",
              "    </tr>\n",
              "  </tbody>\n",
              "</table>\n",
              "</div>"
            ],
            "text/plain": [
              "        party  ... export-administration-act-south-africa\n",
              "0  republican  ...                                      y\n",
              "1  republican  ...                                      ?\n",
              "2    democrat  ...                                      n\n",
              "3    democrat  ...                                      y\n",
              "4    democrat  ...                                      y\n",
              "\n",
              "[5 rows x 17 columns]"
            ]
          },
          "metadata": {
            "tags": []
          },
          "execution_count": 3
        }
      ]
    },
    {
      "cell_type": "code",
      "metadata": {
        "id": "oXgBhwedjfY9",
        "colab_type": "code",
        "outputId": "000cda8f-f1e7-41f9-b3df-40bad02ffeb7",
        "colab": {
          "base_uri": "https://localhost:8080/",
          "height": 329
        }
      },
      "source": [
        "df.dtypes"
      ],
      "execution_count": 4,
      "outputs": [
        {
          "output_type": "execute_result",
          "data": {
            "text/plain": [
              "party                                     object\n",
              "handicapped-infants                       object\n",
              "water-project-cost-sharing                object\n",
              "adoption-of-the-budget-resolution         object\n",
              "physician-fee-freeze                      object\n",
              "el-salvador-aid                           object\n",
              "religious-groups-in-schools               object\n",
              "anti-satellite-test-ban                   object\n",
              "aid-to-nicaraguan-contras                 object\n",
              "mx-missile                                object\n",
              "immigration                               object\n",
              "synfuels-corporation-cutback              object\n",
              "education-spending                        object\n",
              "superfund-right-to-sue                    object\n",
              "crime                                     object\n",
              "duty-free-exports                         object\n",
              "export-administration-act-south-africa    object\n",
              "dtype: object"
            ]
          },
          "metadata": {
            "tags": []
          },
          "execution_count": 4
        }
      ]
    },
    {
      "cell_type": "code",
      "metadata": {
        "id": "AWOwR64MD4Ax",
        "colab_type": "code",
        "colab": {
          "base_uri": "https://localhost:8080/",
          "height": 329
        },
        "outputId": "1818ba72-58f8-4eba-d66c-5dd9cdf515da"
      },
      "source": [
        "df.isnull().sum()"
      ],
      "execution_count": 5,
      "outputs": [
        {
          "output_type": "execute_result",
          "data": {
            "text/plain": [
              "party                                     0\n",
              "handicapped-infants                       0\n",
              "water-project-cost-sharing                0\n",
              "adoption-of-the-budget-resolution         0\n",
              "physician-fee-freeze                      0\n",
              "el-salvador-aid                           0\n",
              "religious-groups-in-schools               0\n",
              "anti-satellite-test-ban                   0\n",
              "aid-to-nicaraguan-contras                 0\n",
              "mx-missile                                0\n",
              "immigration                               0\n",
              "synfuels-corporation-cutback              0\n",
              "education-spending                        0\n",
              "superfund-right-to-sue                    0\n",
              "crime                                     0\n",
              "duty-free-exports                         0\n",
              "export-administration-act-south-africa    0\n",
              "dtype: int64"
            ]
          },
          "metadata": {
            "tags": []
          },
          "execution_count": 5
        }
      ]
    },
    {
      "cell_type": "code",
      "metadata": {
        "id": "wYT7psYUEG3L",
        "colab_type": "code",
        "colab": {
          "base_uri": "https://localhost:8080/",
          "height": 35
        },
        "outputId": "b489902c-ff2a-42b8-876a-415ff382d4c4"
      },
      "source": [
        "df.shape"
      ],
      "execution_count": 6,
      "outputs": [
        {
          "output_type": "execute_result",
          "data": {
            "text/plain": [
              "(435, 17)"
            ]
          },
          "metadata": {
            "tags": []
          },
          "execution_count": 6
        }
      ]
    },
    {
      "cell_type": "code",
      "metadata": {
        "id": "uRb7qNGIrvwC",
        "colab_type": "code",
        "outputId": "c9cb0a6b-5782-46e8-c13d-cb4544b4a09c",
        "colab": {
          "base_uri": "https://localhost:8080/",
          "height": 291
        }
      },
      "source": [
        "import numpy as np\n",
        "# Replace 'y'(yes) to '1' , 'n' to '0', and '?' ton NaN\n",
        "df = df.replace({'y': 1, 'n': 0, '?': np.NaN})\n",
        "print(df.shape)\n",
        "df.head()"
      ],
      "execution_count": 7,
      "outputs": [
        {
          "output_type": "stream",
          "text": [
            "(435, 17)\n"
          ],
          "name": "stdout"
        },
        {
          "output_type": "execute_result",
          "data": {
            "text/html": [
              "<div>\n",
              "<style scoped>\n",
              "    .dataframe tbody tr th:only-of-type {\n",
              "        vertical-align: middle;\n",
              "    }\n",
              "\n",
              "    .dataframe tbody tr th {\n",
              "        vertical-align: top;\n",
              "    }\n",
              "\n",
              "    .dataframe thead th {\n",
              "        text-align: right;\n",
              "    }\n",
              "</style>\n",
              "<table border=\"1\" class=\"dataframe\">\n",
              "  <thead>\n",
              "    <tr style=\"text-align: right;\">\n",
              "      <th></th>\n",
              "      <th>party</th>\n",
              "      <th>handicapped-infants</th>\n",
              "      <th>water-project-cost-sharing</th>\n",
              "      <th>adoption-of-the-budget-resolution</th>\n",
              "      <th>physician-fee-freeze</th>\n",
              "      <th>el-salvador-aid</th>\n",
              "      <th>religious-groups-in-schools</th>\n",
              "      <th>anti-satellite-test-ban</th>\n",
              "      <th>aid-to-nicaraguan-contras</th>\n",
              "      <th>mx-missile</th>\n",
              "      <th>immigration</th>\n",
              "      <th>synfuels-corporation-cutback</th>\n",
              "      <th>education-spending</th>\n",
              "      <th>superfund-right-to-sue</th>\n",
              "      <th>crime</th>\n",
              "      <th>duty-free-exports</th>\n",
              "      <th>export-administration-act-south-africa</th>\n",
              "    </tr>\n",
              "  </thead>\n",
              "  <tbody>\n",
              "    <tr>\n",
              "      <th>0</th>\n",
              "      <td>republican</td>\n",
              "      <td>0.0</td>\n",
              "      <td>1.0</td>\n",
              "      <td>0.0</td>\n",
              "      <td>1.0</td>\n",
              "      <td>1.0</td>\n",
              "      <td>1.0</td>\n",
              "      <td>0.0</td>\n",
              "      <td>0.0</td>\n",
              "      <td>0.0</td>\n",
              "      <td>1.0</td>\n",
              "      <td>NaN</td>\n",
              "      <td>1.0</td>\n",
              "      <td>1.0</td>\n",
              "      <td>1.0</td>\n",
              "      <td>0.0</td>\n",
              "      <td>1.0</td>\n",
              "    </tr>\n",
              "    <tr>\n",
              "      <th>1</th>\n",
              "      <td>republican</td>\n",
              "      <td>0.0</td>\n",
              "      <td>1.0</td>\n",
              "      <td>0.0</td>\n",
              "      <td>1.0</td>\n",
              "      <td>1.0</td>\n",
              "      <td>1.0</td>\n",
              "      <td>0.0</td>\n",
              "      <td>0.0</td>\n",
              "      <td>0.0</td>\n",
              "      <td>0.0</td>\n",
              "      <td>0.0</td>\n",
              "      <td>1.0</td>\n",
              "      <td>1.0</td>\n",
              "      <td>1.0</td>\n",
              "      <td>0.0</td>\n",
              "      <td>NaN</td>\n",
              "    </tr>\n",
              "    <tr>\n",
              "      <th>2</th>\n",
              "      <td>democrat</td>\n",
              "      <td>NaN</td>\n",
              "      <td>1.0</td>\n",
              "      <td>1.0</td>\n",
              "      <td>NaN</td>\n",
              "      <td>1.0</td>\n",
              "      <td>1.0</td>\n",
              "      <td>0.0</td>\n",
              "      <td>0.0</td>\n",
              "      <td>0.0</td>\n",
              "      <td>0.0</td>\n",
              "      <td>1.0</td>\n",
              "      <td>0.0</td>\n",
              "      <td>1.0</td>\n",
              "      <td>1.0</td>\n",
              "      <td>0.0</td>\n",
              "      <td>0.0</td>\n",
              "    </tr>\n",
              "    <tr>\n",
              "      <th>3</th>\n",
              "      <td>democrat</td>\n",
              "      <td>0.0</td>\n",
              "      <td>1.0</td>\n",
              "      <td>1.0</td>\n",
              "      <td>0.0</td>\n",
              "      <td>NaN</td>\n",
              "      <td>1.0</td>\n",
              "      <td>0.0</td>\n",
              "      <td>0.0</td>\n",
              "      <td>0.0</td>\n",
              "      <td>0.0</td>\n",
              "      <td>1.0</td>\n",
              "      <td>0.0</td>\n",
              "      <td>1.0</td>\n",
              "      <td>0.0</td>\n",
              "      <td>0.0</td>\n",
              "      <td>1.0</td>\n",
              "    </tr>\n",
              "    <tr>\n",
              "      <th>4</th>\n",
              "      <td>democrat</td>\n",
              "      <td>1.0</td>\n",
              "      <td>1.0</td>\n",
              "      <td>1.0</td>\n",
              "      <td>0.0</td>\n",
              "      <td>1.0</td>\n",
              "      <td>1.0</td>\n",
              "      <td>0.0</td>\n",
              "      <td>0.0</td>\n",
              "      <td>0.0</td>\n",
              "      <td>0.0</td>\n",
              "      <td>1.0</td>\n",
              "      <td>NaN</td>\n",
              "      <td>1.0</td>\n",
              "      <td>1.0</td>\n",
              "      <td>1.0</td>\n",
              "      <td>1.0</td>\n",
              "    </tr>\n",
              "  </tbody>\n",
              "</table>\n",
              "</div>"
            ],
            "text/plain": [
              "        party  ...  export-administration-act-south-africa\n",
              "0  republican  ...                                     1.0\n",
              "1  republican  ...                                     NaN\n",
              "2    democrat  ...                                     0.0\n",
              "3    democrat  ...                                     1.0\n",
              "4    democrat  ...                                     1.0\n",
              "\n",
              "[5 rows x 17 columns]"
            ]
          },
          "metadata": {
            "tags": []
          },
          "execution_count": 7
        }
      ]
    },
    {
      "cell_type": "code",
      "metadata": {
        "id": "eo0-nwreQvLd",
        "colab_type": "code",
        "outputId": "e26de9f6-a851-4bde-c2f0-b1e4e34f5e93",
        "colab": {
          "base_uri": "https://localhost:8080/",
          "height": 329
        }
      },
      "source": [
        "df.isnull().sum()"
      ],
      "execution_count": 8,
      "outputs": [
        {
          "output_type": "execute_result",
          "data": {
            "text/plain": [
              "party                                       0\n",
              "handicapped-infants                        12\n",
              "water-project-cost-sharing                 48\n",
              "adoption-of-the-budget-resolution          11\n",
              "physician-fee-freeze                       11\n",
              "el-salvador-aid                            15\n",
              "religious-groups-in-schools                11\n",
              "anti-satellite-test-ban                    14\n",
              "aid-to-nicaraguan-contras                  15\n",
              "mx-missile                                 22\n",
              "immigration                                 7\n",
              "synfuels-corporation-cutback               21\n",
              "education-spending                         31\n",
              "superfund-right-to-sue                     25\n",
              "crime                                      17\n",
              "duty-free-exports                          28\n",
              "export-administration-act-south-africa    104\n",
              "dtype: int64"
            ]
          },
          "metadata": {
            "tags": []
          },
          "execution_count": 8
        }
      ]
    },
    {
      "cell_type": "code",
      "metadata": {
        "id": "taNXBC53Q3tT",
        "colab_type": "code",
        "outputId": "8a2a1b48-cc11-4754-b3a8-d43ed5f3a67b",
        "colab": {
          "base_uri": "https://localhost:8080/",
          "height": 69
        }
      },
      "source": [
        "df['party'].value_counts()"
      ],
      "execution_count": 9,
      "outputs": [
        {
          "output_type": "execute_result",
          "data": {
            "text/plain": [
              "democrat      267\n",
              "republican    168\n",
              "Name: party, dtype: int64"
            ]
          },
          "metadata": {
            "tags": []
          },
          "execution_count": 9
        }
      ]
    },
    {
      "cell_type": "code",
      "metadata": {
        "id": "fakCNx8PSG37",
        "colab_type": "code",
        "colab": {}
      },
      "source": [
        "# Create dataframe by party\n",
        "dem = df[df['party']=='democrat']\n",
        "rep = df[df['party']=='republican']"
      ],
      "execution_count": 0,
      "outputs": []
    },
    {
      "cell_type": "code",
      "metadata": {
        "id": "cOLN6FBFTach",
        "colab_type": "code",
        "outputId": "e53b67a1-6496-4fa0-fd7a-7a0b5a07da44",
        "colab": {
          "base_uri": "https://localhost:8080/",
          "height": 274
        }
      },
      "source": [
        "dem.head()"
      ],
      "execution_count": 11,
      "outputs": [
        {
          "output_type": "execute_result",
          "data": {
            "text/html": [
              "<div>\n",
              "<style scoped>\n",
              "    .dataframe tbody tr th:only-of-type {\n",
              "        vertical-align: middle;\n",
              "    }\n",
              "\n",
              "    .dataframe tbody tr th {\n",
              "        vertical-align: top;\n",
              "    }\n",
              "\n",
              "    .dataframe thead th {\n",
              "        text-align: right;\n",
              "    }\n",
              "</style>\n",
              "<table border=\"1\" class=\"dataframe\">\n",
              "  <thead>\n",
              "    <tr style=\"text-align: right;\">\n",
              "      <th></th>\n",
              "      <th>party</th>\n",
              "      <th>handicapped-infants</th>\n",
              "      <th>water-project-cost-sharing</th>\n",
              "      <th>adoption-of-the-budget-resolution</th>\n",
              "      <th>physician-fee-freeze</th>\n",
              "      <th>el-salvador-aid</th>\n",
              "      <th>religious-groups-in-schools</th>\n",
              "      <th>anti-satellite-test-ban</th>\n",
              "      <th>aid-to-nicaraguan-contras</th>\n",
              "      <th>mx-missile</th>\n",
              "      <th>immigration</th>\n",
              "      <th>synfuels-corporation-cutback</th>\n",
              "      <th>education-spending</th>\n",
              "      <th>superfund-right-to-sue</th>\n",
              "      <th>crime</th>\n",
              "      <th>duty-free-exports</th>\n",
              "      <th>export-administration-act-south-africa</th>\n",
              "    </tr>\n",
              "  </thead>\n",
              "  <tbody>\n",
              "    <tr>\n",
              "      <th>2</th>\n",
              "      <td>democrat</td>\n",
              "      <td>NaN</td>\n",
              "      <td>1.0</td>\n",
              "      <td>1.0</td>\n",
              "      <td>NaN</td>\n",
              "      <td>1.0</td>\n",
              "      <td>1.0</td>\n",
              "      <td>0.0</td>\n",
              "      <td>0.0</td>\n",
              "      <td>0.0</td>\n",
              "      <td>0.0</td>\n",
              "      <td>1.0</td>\n",
              "      <td>0.0</td>\n",
              "      <td>1.0</td>\n",
              "      <td>1.0</td>\n",
              "      <td>0.0</td>\n",
              "      <td>0.0</td>\n",
              "    </tr>\n",
              "    <tr>\n",
              "      <th>3</th>\n",
              "      <td>democrat</td>\n",
              "      <td>0.0</td>\n",
              "      <td>1.0</td>\n",
              "      <td>1.0</td>\n",
              "      <td>0.0</td>\n",
              "      <td>NaN</td>\n",
              "      <td>1.0</td>\n",
              "      <td>0.0</td>\n",
              "      <td>0.0</td>\n",
              "      <td>0.0</td>\n",
              "      <td>0.0</td>\n",
              "      <td>1.0</td>\n",
              "      <td>0.0</td>\n",
              "      <td>1.0</td>\n",
              "      <td>0.0</td>\n",
              "      <td>0.0</td>\n",
              "      <td>1.0</td>\n",
              "    </tr>\n",
              "    <tr>\n",
              "      <th>4</th>\n",
              "      <td>democrat</td>\n",
              "      <td>1.0</td>\n",
              "      <td>1.0</td>\n",
              "      <td>1.0</td>\n",
              "      <td>0.0</td>\n",
              "      <td>1.0</td>\n",
              "      <td>1.0</td>\n",
              "      <td>0.0</td>\n",
              "      <td>0.0</td>\n",
              "      <td>0.0</td>\n",
              "      <td>0.0</td>\n",
              "      <td>1.0</td>\n",
              "      <td>NaN</td>\n",
              "      <td>1.0</td>\n",
              "      <td>1.0</td>\n",
              "      <td>1.0</td>\n",
              "      <td>1.0</td>\n",
              "    </tr>\n",
              "    <tr>\n",
              "      <th>5</th>\n",
              "      <td>democrat</td>\n",
              "      <td>0.0</td>\n",
              "      <td>1.0</td>\n",
              "      <td>1.0</td>\n",
              "      <td>0.0</td>\n",
              "      <td>1.0</td>\n",
              "      <td>1.0</td>\n",
              "      <td>0.0</td>\n",
              "      <td>0.0</td>\n",
              "      <td>0.0</td>\n",
              "      <td>0.0</td>\n",
              "      <td>0.0</td>\n",
              "      <td>0.0</td>\n",
              "      <td>1.0</td>\n",
              "      <td>1.0</td>\n",
              "      <td>1.0</td>\n",
              "      <td>1.0</td>\n",
              "    </tr>\n",
              "    <tr>\n",
              "      <th>6</th>\n",
              "      <td>democrat</td>\n",
              "      <td>0.0</td>\n",
              "      <td>1.0</td>\n",
              "      <td>0.0</td>\n",
              "      <td>1.0</td>\n",
              "      <td>1.0</td>\n",
              "      <td>1.0</td>\n",
              "      <td>0.0</td>\n",
              "      <td>0.0</td>\n",
              "      <td>0.0</td>\n",
              "      <td>0.0</td>\n",
              "      <td>0.0</td>\n",
              "      <td>0.0</td>\n",
              "      <td>NaN</td>\n",
              "      <td>1.0</td>\n",
              "      <td>1.0</td>\n",
              "      <td>1.0</td>\n",
              "    </tr>\n",
              "  </tbody>\n",
              "</table>\n",
              "</div>"
            ],
            "text/plain": [
              "      party  ...  export-administration-act-south-africa\n",
              "2  democrat  ...                                     0.0\n",
              "3  democrat  ...                                     1.0\n",
              "4  democrat  ...                                     1.0\n",
              "5  democrat  ...                                     1.0\n",
              "6  democrat  ...                                     1.0\n",
              "\n",
              "[5 rows x 17 columns]"
            ]
          },
          "metadata": {
            "tags": []
          },
          "execution_count": 11
        }
      ]
    },
    {
      "cell_type": "code",
      "metadata": {
        "id": "HMjGmnKNThTt",
        "colab_type": "code",
        "outputId": "8d863238-dfe5-4def-f8c5-353e5ec9fdb7",
        "colab": {
          "base_uri": "https://localhost:8080/",
          "height": 274
        }
      },
      "source": [
        "rep.head()\n"
      ],
      "execution_count": 12,
      "outputs": [
        {
          "output_type": "execute_result",
          "data": {
            "text/html": [
              "<div>\n",
              "<style scoped>\n",
              "    .dataframe tbody tr th:only-of-type {\n",
              "        vertical-align: middle;\n",
              "    }\n",
              "\n",
              "    .dataframe tbody tr th {\n",
              "        vertical-align: top;\n",
              "    }\n",
              "\n",
              "    .dataframe thead th {\n",
              "        text-align: right;\n",
              "    }\n",
              "</style>\n",
              "<table border=\"1\" class=\"dataframe\">\n",
              "  <thead>\n",
              "    <tr style=\"text-align: right;\">\n",
              "      <th></th>\n",
              "      <th>party</th>\n",
              "      <th>handicapped-infants</th>\n",
              "      <th>water-project-cost-sharing</th>\n",
              "      <th>adoption-of-the-budget-resolution</th>\n",
              "      <th>physician-fee-freeze</th>\n",
              "      <th>el-salvador-aid</th>\n",
              "      <th>religious-groups-in-schools</th>\n",
              "      <th>anti-satellite-test-ban</th>\n",
              "      <th>aid-to-nicaraguan-contras</th>\n",
              "      <th>mx-missile</th>\n",
              "      <th>immigration</th>\n",
              "      <th>synfuels-corporation-cutback</th>\n",
              "      <th>education-spending</th>\n",
              "      <th>superfund-right-to-sue</th>\n",
              "      <th>crime</th>\n",
              "      <th>duty-free-exports</th>\n",
              "      <th>export-administration-act-south-africa</th>\n",
              "    </tr>\n",
              "  </thead>\n",
              "  <tbody>\n",
              "    <tr>\n",
              "      <th>0</th>\n",
              "      <td>republican</td>\n",
              "      <td>0.0</td>\n",
              "      <td>1.0</td>\n",
              "      <td>0.0</td>\n",
              "      <td>1.0</td>\n",
              "      <td>1.0</td>\n",
              "      <td>1.0</td>\n",
              "      <td>0.0</td>\n",
              "      <td>0.0</td>\n",
              "      <td>0.0</td>\n",
              "      <td>1.0</td>\n",
              "      <td>NaN</td>\n",
              "      <td>1.0</td>\n",
              "      <td>1.0</td>\n",
              "      <td>1.0</td>\n",
              "      <td>0.0</td>\n",
              "      <td>1.0</td>\n",
              "    </tr>\n",
              "    <tr>\n",
              "      <th>1</th>\n",
              "      <td>republican</td>\n",
              "      <td>0.0</td>\n",
              "      <td>1.0</td>\n",
              "      <td>0.0</td>\n",
              "      <td>1.0</td>\n",
              "      <td>1.0</td>\n",
              "      <td>1.0</td>\n",
              "      <td>0.0</td>\n",
              "      <td>0.0</td>\n",
              "      <td>0.0</td>\n",
              "      <td>0.0</td>\n",
              "      <td>0.0</td>\n",
              "      <td>1.0</td>\n",
              "      <td>1.0</td>\n",
              "      <td>1.0</td>\n",
              "      <td>0.0</td>\n",
              "      <td>NaN</td>\n",
              "    </tr>\n",
              "    <tr>\n",
              "      <th>7</th>\n",
              "      <td>republican</td>\n",
              "      <td>0.0</td>\n",
              "      <td>1.0</td>\n",
              "      <td>0.0</td>\n",
              "      <td>1.0</td>\n",
              "      <td>1.0</td>\n",
              "      <td>1.0</td>\n",
              "      <td>0.0</td>\n",
              "      <td>0.0</td>\n",
              "      <td>0.0</td>\n",
              "      <td>0.0</td>\n",
              "      <td>0.0</td>\n",
              "      <td>0.0</td>\n",
              "      <td>1.0</td>\n",
              "      <td>1.0</td>\n",
              "      <td>NaN</td>\n",
              "      <td>1.0</td>\n",
              "    </tr>\n",
              "    <tr>\n",
              "      <th>8</th>\n",
              "      <td>republican</td>\n",
              "      <td>0.0</td>\n",
              "      <td>1.0</td>\n",
              "      <td>0.0</td>\n",
              "      <td>1.0</td>\n",
              "      <td>1.0</td>\n",
              "      <td>1.0</td>\n",
              "      <td>0.0</td>\n",
              "      <td>0.0</td>\n",
              "      <td>0.0</td>\n",
              "      <td>0.0</td>\n",
              "      <td>0.0</td>\n",
              "      <td>1.0</td>\n",
              "      <td>1.0</td>\n",
              "      <td>1.0</td>\n",
              "      <td>0.0</td>\n",
              "      <td>1.0</td>\n",
              "    </tr>\n",
              "    <tr>\n",
              "      <th>10</th>\n",
              "      <td>republican</td>\n",
              "      <td>0.0</td>\n",
              "      <td>1.0</td>\n",
              "      <td>0.0</td>\n",
              "      <td>1.0</td>\n",
              "      <td>1.0</td>\n",
              "      <td>0.0</td>\n",
              "      <td>0.0</td>\n",
              "      <td>0.0</td>\n",
              "      <td>0.0</td>\n",
              "      <td>0.0</td>\n",
              "      <td>NaN</td>\n",
              "      <td>NaN</td>\n",
              "      <td>1.0</td>\n",
              "      <td>1.0</td>\n",
              "      <td>0.0</td>\n",
              "      <td>0.0</td>\n",
              "    </tr>\n",
              "  </tbody>\n",
              "</table>\n",
              "</div>"
            ],
            "text/plain": [
              "         party  ...  export-administration-act-south-africa\n",
              "0   republican  ...                                     1.0\n",
              "1   republican  ...                                     NaN\n",
              "7   republican  ...                                     1.0\n",
              "8   republican  ...                                     1.0\n",
              "10  republican  ...                                     0.0\n",
              "\n",
              "[5 rows x 17 columns]"
            ]
          },
          "metadata": {
            "tags": []
          },
          "execution_count": 12
        }
      ]
    },
    {
      "cell_type": "markdown",
      "metadata": {
        "id": "TvVSxREzZMaK",
        "colab_type": "text"
      },
      "source": [
        "## 2 sample t-test on Bills vote democrats support more than republicans \n",
        "1. Null Hypothhesis: democrats support the same proportion as republican on Bills\n",
        "$H_0: \\bar{x}_d = \\bar{x}_r$\n",
        "2. Alternative Hypothesis: democrats support are not equal with republican on bill\n",
        "$H_0: \\bar{x}_d  !=  \\bar{x}_r$\n",
        "3. Confidence level: 99%"
      ]
    },
    {
      "cell_type": "markdown",
      "metadata": {
        "id": "p55MiaZddq0Z",
        "colab_type": "text"
      },
      "source": [
        "The Bills are: ***'handicapped-infants', 'water-project-cost-sharing', 'adoption-of-the-budget-resolution', 'physician-fee-freeze', 'el-salvador-aid', 'religious-groups-in-schools', 'anti-satellite-test-ban', 'aid-to-nicaraguan-contras', 'mx-missile', 'immigration',           'synfuels-corporation-cutback', 'education-spending', 'superfund-right-to-sue', 'crime', 'duty-free-exports', 'export-administration-act-south-africa'***"
      ]
    },
    {
      "cell_type": "code",
      "metadata": {
        "id": "R8gZG1-HeSpb",
        "colab_type": "code",
        "outputId": "5eb48aed-61de-4b9e-ed13-ce851dbb2c95",
        "colab": {
          "base_uri": "https://localhost:8080/",
          "height": 156
        }
      },
      "source": [
        "#handicapped-infants\n",
        "y1 = dem[dem['handicapped-infants']==1]\n",
        "y2 = rep[rep['handicapped-infants']==1]\n",
        "y=y1['handicapped-infants'].value_counts() + y2['handicapped-infants'].value_counts()\n",
        "print('yse vote:\\n',y)\n",
        "n1 = dem[dem['handicapped-infants']==0]\n",
        "n2 = rep[rep['handicapped-infants']==0]\n",
        "n=n1['handicapped-infants'].value_counts() + n2['handicapped-infants'].value_counts()\n",
        "print('no vote:\\n', n)\n",
        "if (y.sum()>218):\n",
        "  print('The bill passed by majority vote')\n",
        "else:\n",
        "  print('The bill fail to pass')\n",
        "from scipy import stats\n",
        "stats.ttest_ind(dem['handicapped-infants'], rep['handicapped-infants'],nan_policy='omit')"
      ],
      "execution_count": 13,
      "outputs": [
        {
          "output_type": "stream",
          "text": [
            "yse vote:\n",
            " 1.0    187\n",
            "Name: handicapped-infants, dtype: int64\n",
            "no vote:\n",
            " 0.0    236\n",
            "Name: handicapped-infants, dtype: int64\n",
            "The bill fail to pass\n"
          ],
          "name": "stdout"
        },
        {
          "output_type": "execute_result",
          "data": {
            "text/plain": [
              "Ttest_indResult(statistic=9.205264294809222, pvalue=1.613440327937243e-18)"
            ]
          },
          "metadata": {
            "tags": []
          },
          "execution_count": 13
        }
      ]
    },
    {
      "cell_type": "markdown",
      "metadata": {
        "id": "-_SOuL_whIzy",
        "colab_type": "text"
      },
      "source": [
        "**Conclusion**: Given a t-statistic of 9.2, and p-value of 0, we **reject** the null hypothesis that democrats suport for **handicapped-infants** bill is equal to repabilican. This suggests the alternative that the democrats do not support as republican on this bill. And also from the sign of t-statiscs the Democrat support the bill **more than** the republicans."
      ]
    },
    {
      "cell_type": "code",
      "metadata": {
        "id": "2Fo_P6c2hHMQ",
        "colab_type": "code",
        "outputId": "3a038651-b4e0-4bbb-db76-306863e5aa53",
        "colab": {
          "base_uri": "https://localhost:8080/",
          "height": 156
        }
      },
      "source": [
        "# water-project-cost-sharing\n",
        "y1 = dem[dem['water-project-cost-sharing']==1]\n",
        "y2 = rep[rep['water-project-cost-sharing']==1]\n",
        "y=y1['water-project-cost-sharing'].value_counts() + y2['water-project-cost-sharing'].value_counts()\n",
        "print('yse vote:\\n',y)\n",
        "n1 = dem[dem['water-project-cost-sharing']==0]\n",
        "n2 = rep[rep['water-project-cost-sharing']==0]\n",
        "n=n1['water-project-cost-sharing'].value_counts() + n2['water-project-cost-sharing'].value_counts()\n",
        "print('no vote:\\n', n)\n",
        "if (y.sum()>218):\n",
        "  print('The bill passed by majority vote')\n",
        "else:\n",
        "  print('The bill fail to pass')\n",
        "  # 2t-test\n",
        "stats.ttest_ind(dem['water-project-cost-sharing'], rep['water-project-cost-sharing'],nan_policy='omit')"
      ],
      "execution_count": 14,
      "outputs": [
        {
          "output_type": "stream",
          "text": [
            "yse vote:\n",
            " 1.0    195\n",
            "Name: water-project-cost-sharing, dtype: int64\n",
            "no vote:\n",
            " 0.0    192\n",
            "Name: water-project-cost-sharing, dtype: int64\n",
            "The bill fail to pass\n"
          ],
          "name": "stdout"
        },
        {
          "output_type": "execute_result",
          "data": {
            "text/plain": [
              "Ttest_indResult(statistic=-0.08896538137868286, pvalue=0.9291556823993485)"
            ]
          },
          "metadata": {
            "tags": []
          },
          "execution_count": 14
        }
      ]
    },
    {
      "cell_type": "markdown",
      "metadata": {
        "id": "paCHGl_QhlAu",
        "colab_type": "text"
      },
      "source": [
        "**Conclusion**: Given a t-statistic of 0.089, and p-value of 0.929, we **fail to reject** the null hypothesis that democrats suport for **water-project-cost-sharing** bill is equal to repabilican. And also the  Republicans support the bill **more than** the Democrat."
      ]
    },
    {
      "cell_type": "code",
      "metadata": {
        "id": "En4JrTnIhmF9",
        "colab_type": "code",
        "outputId": "ac0f7367-5bda-474d-bc84-535771e9403e",
        "colab": {
          "base_uri": "https://localhost:8080/",
          "height": 156
        }
      },
      "source": [
        "# adoption-of-the-budget-resolution\n",
        "y1 = dem[dem['adoption-of-the-budget-resolution']==1]\n",
        "y2 = rep[rep['adoption-of-the-budget-resolution']==1]\n",
        "y=y1['adoption-of-the-budget-resolution'].value_counts() + y2['adoption-of-the-budget-resolution'].value_counts()\n",
        "print('yse vote:\\n',y)\n",
        "n1 = dem[dem['adoption-of-the-budget-resolution']==0]\n",
        "n2 = rep[rep['adoption-of-the-budget-resolution']==0]\n",
        "n=n1['adoption-of-the-budget-resolution'].value_counts() + n2['adoption-of-the-budget-resolution'].value_counts()\n",
        "print('no vote:\\n', n)\n",
        "if (y.sum()>218):\n",
        "  print('The bill passed by majority vote')\n",
        "else:\n",
        "  print('The bill fail to pass')\n",
        "  # 2t-test\n",
        "stats.ttest_ind(dem['adoption-of-the-budget-resolution'], rep['adoption-of-the-budget-resolution'], nan_policy='omit')"
      ],
      "execution_count": 15,
      "outputs": [
        {
          "output_type": "stream",
          "text": [
            "yse vote:\n",
            " 1.0    253\n",
            "Name: adoption-of-the-budget-resolution, dtype: int64\n",
            "no vote:\n",
            " 0.0    171\n",
            "Name: adoption-of-the-budget-resolution, dtype: int64\n",
            "The bill passed by majority vote\n"
          ],
          "name": "stdout"
        },
        {
          "output_type": "execute_result",
          "data": {
            "text/plain": [
              "Ttest_indResult(statistic=23.21277691701378, pvalue=2.0703402795404463e-77)"
            ]
          },
          "metadata": {
            "tags": []
          },
          "execution_count": 15
        }
      ]
    },
    {
      "cell_type": "markdown",
      "metadata": {
        "id": "2OxJdbeJiBvm",
        "colab_type": "text"
      },
      "source": [
        "**Conclusion**: Given a t-statistic of 23.213, and p-value of 0, we **reject** the null hypothesis that democrats suport for **adoption-of-the-budget-resolution** bill is equal to repabilican. This suggests the alternative that the democrats do not support as republican on this bill. And also from the sign of t-statiscs the Democrat support the bill **more than** the republicans."
      ]
    },
    {
      "cell_type": "code",
      "metadata": {
        "id": "n5CqeaLJiCoL",
        "colab_type": "code",
        "outputId": "d3faba08-fb5b-49d7-c3ae-bda850714762",
        "colab": {
          "base_uri": "https://localhost:8080/",
          "height": 156
        }
      },
      "source": [
        "# physician-fee-freeze\n",
        "y1 = dem[dem['physician-fee-freeze']==1]\n",
        "y2 = rep[rep['physician-fee-freeze']==1]\n",
        "y=y1['physician-fee-freeze'].value_counts() + y2['physician-fee-freeze'].value_counts()\n",
        "print('yse vote:\\n',y)\n",
        "n1 = dem[dem['physician-fee-freeze']==0]\n",
        "n2 = rep[rep['physician-fee-freeze']==0]\n",
        "n=n1['physician-fee-freeze'].value_counts() + n2['physician-fee-freeze'].value_counts()\n",
        "print('no vote:\\n', n)\n",
        "if (y.sum()>218):\n",
        "  print('The bill passed by majority vote')\n",
        "else:\n",
        "  print('The bill fail to pass')\n",
        "stats.ttest_ind(dem['physician-fee-freeze'], rep['physician-fee-freeze'],nan_policy='omit')"
      ],
      "execution_count": 17,
      "outputs": [
        {
          "output_type": "stream",
          "text": [
            "yse vote:\n",
            " 1.0    177\n",
            "Name: physician-fee-freeze, dtype: int64\n",
            "no vote:\n",
            " 0.0    247\n",
            "Name: physician-fee-freeze, dtype: int64\n",
            "The bill fail to pass\n"
          ],
          "name": "stdout"
        },
        {
          "output_type": "execute_result",
          "data": {
            "text/plain": [
              "Ttest_indResult(statistic=-49.36708157301406, pvalue=1.994262314074344e-177)"
            ]
          },
          "metadata": {
            "tags": []
          },
          "execution_count": 17
        }
      ]
    },
    {
      "cell_type": "markdown",
      "metadata": {
        "id": "L3lB8GT_iZGC",
        "colab_type": "text"
      },
      "source": [
        "Conclusion: Given a t-statistic of -49.37, and p-value of 0, we **reject** the null hypothesis that democrats suport for **physician fee freeze** bill is equal to repabilican. This suggests the alternative that the democrats do not support as republican on this bill. And also from the sign of t-statiscs the Republicans support the bill **more than** the Democrat."
      ]
    },
    {
      "cell_type": "code",
      "metadata": {
        "id": "DiTZUcBuiZsh",
        "colab_type": "code",
        "outputId": "4d28de49-e718-47ec-8465-0881c04c47b9",
        "colab": {
          "base_uri": "https://localhost:8080/",
          "height": 156
        }
      },
      "source": [
        "# el-salvador-aid\n",
        "y1 = dem[dem['el-salvador-aid']==1]\n",
        "y2 = rep[rep['el-salvador-aid']==1]\n",
        "y=y1['el-salvador-aid'].value_counts() + y2['el-salvador-aid'].value_counts()\n",
        "print('yse vote:\\n',y)\n",
        "n1 = dem[dem['el-salvador-aid']==0]\n",
        "n2 = rep[rep['el-salvador-aid']==0]\n",
        "n=n1['el-salvador-aid'].value_counts() + n2['el-salvador-aid'].value_counts()\n",
        "print('no vote:\\n', n)\n",
        "if (y.sum()>218):\n",
        "  print('The bill passed by majority vote')\n",
        "else:\n",
        "  print('The bill fail to pass')\n",
        "stats.ttest_ind(dem['el-salvador-aid'], rep['el-salvador-aid'],nan_policy='omit')"
      ],
      "execution_count": 18,
      "outputs": [
        {
          "output_type": "stream",
          "text": [
            "yse vote:\n",
            " 1.0    212\n",
            "Name: el-salvador-aid, dtype: int64\n",
            "no vote:\n",
            " 0.0    208\n",
            "Name: el-salvador-aid, dtype: int64\n",
            "The bill fail to pass\n"
          ],
          "name": "stdout"
        },
        {
          "output_type": "execute_result",
          "data": {
            "text/plain": [
              "Ttest_indResult(statistic=-21.13669261173219, pvalue=5.600520111729011e-68)"
            ]
          },
          "metadata": {
            "tags": []
          },
          "execution_count": 18
        }
      ]
    },
    {
      "cell_type": "markdown",
      "metadata": {
        "id": "Gdq8d1JEiypz",
        "colab_type": "text"
      },
      "source": [
        "**Conclusion**: Given a t-statistic of -21.137, and p-value of 0, we **reject** the null hypothesis that democrats suport for **el-salvador-aid** bill is equal to repabilican. This suggests the alternative that the democrats do not support as republican on this bill. And also from the sign of t-statistic the Democrat support the bill **less than** the republicans."
      ]
    },
    {
      "cell_type": "code",
      "metadata": {
        "id": "FkjPY2XeizHC",
        "colab_type": "code",
        "outputId": "64316b08-91b7-49db-b065-79a74bb5098e",
        "colab": {
          "base_uri": "https://localhost:8080/",
          "height": 156
        }
      },
      "source": [
        "# religious-groups-in-schools\n",
        "y1 = dem[dem['religious-groups-in-schools']==1]\n",
        "y2 = rep[rep['religious-groups-in-schools']==1]\n",
        "y=y1['religious-groups-in-schools'].value_counts() + y2['religious-groups-in-schools'].value_counts()\n",
        "print('yse vote:\\n',y)\n",
        "n1 = dem[dem['religious-groups-in-schools']==0]\n",
        "n2 = rep[rep['religious-groups-in-schools']==0]\n",
        "n=n1['religious-groups-in-schools'].value_counts() + n2['religious-groups-in-schools'].value_counts()\n",
        "print('no vote:\\n', n)\n",
        "if (y.sum()>218):\n",
        "  print('The bill passed by majority vote')\n",
        "else:\n",
        "  print('The bill fail to pass')\n",
        "stats.ttest_ind(dem['religious-groups-in-schools'], rep['religious-groups-in-schools'],nan_policy='omit')"
      ],
      "execution_count": 21,
      "outputs": [
        {
          "output_type": "stream",
          "text": [
            "yse vote:\n",
            " 1.0    272\n",
            "Name: religious-groups-in-schools, dtype: int64\n",
            "no vote:\n",
            " 0.0    152\n",
            "Name: religious-groups-in-schools, dtype: int64\n",
            "The bill passed by majority vote\n"
          ],
          "name": "stdout"
        },
        {
          "output_type": "execute_result",
          "data": {
            "text/plain": [
              "Ttest_indResult(statistic=-9.737575825219457, pvalue=2.3936722520597287e-20)"
            ]
          },
          "metadata": {
            "tags": []
          },
          "execution_count": 21
        }
      ]
    },
    {
      "cell_type": "markdown",
      "metadata": {
        "id": "Az4zry-MjIgw",
        "colab_type": "text"
      },
      "source": [
        "**Conclusion**: Given a t-statistic of -9.738, and p-value of 0, we **reject** the null hypothesis that democrats suport for **religious-groups-in-schools** bill is equal to repabilican. This suggests the alternative that the democrats do not support as republican on this bill. And also from the sign of t-statistic the Democrat support the bill **less than** the republicans."
      ]
    },
    {
      "cell_type": "code",
      "metadata": {
        "id": "B0H_7ONZjJR8",
        "colab_type": "code",
        "outputId": "2e8dea0b-400b-4823-acbe-9c17612c3619",
        "colab": {
          "base_uri": "https://localhost:8080/",
          "height": 156
        }
      },
      "source": [
        "# anti-satellite-test-ban\n",
        "y1 = dem[dem['anti-satellite-test-ban']==1]\n",
        "y2 = rep[rep['anti-satellite-test-ban']==1]\n",
        "y=y1['anti-satellite-test-ban'].value_counts() + y2['anti-satellite-test-ban'].value_counts()\n",
        "print('yse vote:\\n',y)\n",
        "n1 = dem[dem['anti-satellite-test-ban']==0]\n",
        "n2 = rep[rep['anti-satellite-test-ban']==0]\n",
        "n=n1['anti-satellite-test-ban'].value_counts() + n2['anti-satellite-test-ban'].value_counts()\n",
        "print('no vote:\\n', n)\n",
        "if (y.sum()>218):\n",
        "  print('The bill passed by majority vote')\n",
        "else:\n",
        "  print('The bill fail to pass')\n",
        "stats.ttest_ind(dem['anti-satellite-test-ban'], rep['anti-satellite-test-ban'],nan_policy='omit')"
      ],
      "execution_count": 20,
      "outputs": [
        {
          "output_type": "stream",
          "text": [
            "yse vote:\n",
            " 1.0    239\n",
            "Name: anti-satellite-test-ban, dtype: int64\n",
            "no vote:\n",
            " 0.0    182\n",
            "Name: anti-satellite-test-ban, dtype: int64\n",
            "The bill passed by majority vote\n"
          ],
          "name": "stdout"
        },
        {
          "output_type": "execute_result",
          "data": {
            "text/plain": [
              "Ttest_indResult(statistic=12.526187929077842, pvalue=8.521033017443867e-31)"
            ]
          },
          "metadata": {
            "tags": []
          },
          "execution_count": 20
        }
      ]
    },
    {
      "cell_type": "markdown",
      "metadata": {
        "id": "eNvVs8jHjfax",
        "colab_type": "text"
      },
      "source": [
        "**Conclusion**: Given a t-statistic of 12.526, and p-value of 0, we **reject** the null hypothesis that democrats suport for **anti-satellite-test** bill is equal to repabilican. This suggests the alternative that the democrats do not support as republican on this bill. And also from the sign of t-statistic the Democrat support the bill **more than** the republicans."
      ]
    },
    {
      "cell_type": "code",
      "metadata": {
        "id": "6ARn_N7rjf4X",
        "colab_type": "code",
        "outputId": "3dac808b-2970-45f9-ea27-35268b587c93",
        "colab": {
          "base_uri": "https://localhost:8080/",
          "height": 156
        }
      },
      "source": [
        "# aid-to-nicaraguan-contras\n",
        "y1 = dem[dem['aid-to-nicaraguan-contras']==1]\n",
        "y2 = rep[rep['aid-to-nicaraguan-contras']==1]\n",
        "y=y1['aid-to-nicaraguan-contras'].value_counts() + y2['aid-to-nicaraguan-contras'].value_counts()\n",
        "print('yse vote:\\n',y)\n",
        "n1 = dem[dem['aid-to-nicaraguan-contras']==0]\n",
        "n2 = rep[rep['aid-to-nicaraguan-contras']==0]\n",
        "n=n1['aid-to-nicaraguan-contras'].value_counts() + n2['aid-to-nicaraguan-contras'].value_counts()\n",
        "print('no vote:\\n', n)\n",
        "if (y.sum()>218):\n",
        "  print('The bill passed by majority vote')\n",
        "else:\n",
        "  print('The bill fail to pass')\n",
        "stats.ttest_ind(dem['aid-to-nicaraguan-contras'], rep['aid-to-nicaraguan-contras'],nan_policy='omit')"
      ],
      "execution_count": 22,
      "outputs": [
        {
          "output_type": "stream",
          "text": [
            "yse vote:\n",
            " 1.0    242\n",
            "Name: aid-to-nicaraguan-contras, dtype: int64\n",
            "no vote:\n",
            " 0.0    178\n",
            "Name: aid-to-nicaraguan-contras, dtype: int64\n",
            "The bill passed by majority vote\n"
          ],
          "name": "stdout"
        },
        {
          "output_type": "execute_result",
          "data": {
            "text/plain": [
              "Ttest_indResult(statistic=18.052093200819733, pvalue=2.82471841372357e-54)"
            ]
          },
          "metadata": {
            "tags": []
          },
          "execution_count": 22
        }
      ]
    },
    {
      "cell_type": "markdown",
      "metadata": {
        "id": "R9yG7wWij4YK",
        "colab_type": "text"
      },
      "source": [
        "**Conclusion**: Given a t-statistic of 18.052, and p-value of 0, we **reject** the null hypothesis that democrats suport for **aid-to-nicaraguan-cotras** bill is equal to repabilican. This suggests the alternative that the democrats do not support as republican on this bill. And also from the sign of t-statistic the Democrat support the bill **more than** the republicans."
      ]
    },
    {
      "cell_type": "code",
      "metadata": {
        "id": "21TmHedwj46a",
        "colab_type": "code",
        "outputId": "6662808a-1708-4970-ace0-08f2c5597bd0",
        "colab": {
          "base_uri": "https://localhost:8080/",
          "height": 156
        }
      },
      "source": [
        "# mx-missile\n",
        "y1 = dem[dem['mx-missile']==1]\n",
        "y2 = rep[rep['mx-missile']==1]\n",
        "y=y1['mx-missile'].value_counts() + y2['mx-missile'].value_counts()\n",
        "print('yse vote:\\n',y)\n",
        "n1 = dem[dem['mx-missile']==0]\n",
        "n2 = rep[rep['mx-missile']==0]\n",
        "n=n1['mx-missile'].value_counts() + n2['mx-missile'].value_counts()\n",
        "print('no vote:\\n', n)\n",
        "if (y.sum()>218):\n",
        "  print('The bill passed by majority vote')\n",
        "else:\n",
        "  print('The bill fail to pass')\n",
        "stats.ttest_ind(dem['mx-missile'], rep['mx-missile'],nan_policy='omit')"
      ],
      "execution_count": 23,
      "outputs": [
        {
          "output_type": "stream",
          "text": [
            "yse vote:\n",
            " 1.0    207\n",
            "Name: mx-missile, dtype: int64\n",
            "no vote:\n",
            " 0.0    206\n",
            "Name: mx-missile, dtype: int64\n",
            "The bill fail to pass\n"
          ],
          "name": "stdout"
        },
        {
          "output_type": "execute_result",
          "data": {
            "text/plain": [
              "Ttest_indResult(statistic=16.437503268542994, pvalue=5.03079265310811e-47)"
            ]
          },
          "metadata": {
            "tags": []
          },
          "execution_count": 23
        }
      ]
    },
    {
      "cell_type": "markdown",
      "metadata": {
        "id": "U3ww5-HbkVp4",
        "colab_type": "text"
      },
      "source": [
        "**Conclusion**: Given a t-statistic of 16.438, and p-value of 0, we **reject** the null hypothesis that democrats suport for **mx-missile** bill is equal to repabilican. This suggests the alternative that the democrats do not support as republican on this bill. And also from the sign of t-statistic the Democrat support the bill **more than** the republicans."
      ]
    },
    {
      "cell_type": "code",
      "metadata": {
        "id": "bjj9sND8kWIv",
        "colab_type": "code",
        "outputId": "91eca05c-b0a2-42ec-ba22-3772a9fd41df",
        "colab": {
          "base_uri": "https://localhost:8080/",
          "height": 156
        }
      },
      "source": [
        "# immigration\n",
        "y1 = dem[dem['immigration']==1]\n",
        "y2 = rep[rep['immigration']==1]\n",
        "y=y1['immigration'].value_counts() + y2['immigration'].value_counts()\n",
        "print('yse vote:\\n',y)\n",
        "n1 = dem[dem['immigration']==0]\n",
        "n2 = rep[rep['immigration']==0]\n",
        "n=n1['immigration'].value_counts() + n2['immigration'].value_counts()\n",
        "print('no vote:\\n', n)\n",
        "if (y.sum()>218):\n",
        "  print('The bill passed by majority vote')\n",
        "else:\n",
        "  print('The bill fail to pass')\n",
        "stats.ttest_ind(dem['immigration'], rep['immigration'],nan_policy='omit')"
      ],
      "execution_count": 24,
      "outputs": [
        {
          "output_type": "stream",
          "text": [
            "yse vote:\n",
            " 1.0    216\n",
            "Name: immigration, dtype: int64\n",
            "no vote:\n",
            " 0.0    212\n",
            "Name: immigration, dtype: int64\n",
            "The bill fail to pass\n"
          ],
          "name": "stdout"
        },
        {
          "output_type": "execute_result",
          "data": {
            "text/plain": [
              "Ttest_indResult(statistic=-1.7359117329695164, pvalue=0.08330248490425066)"
            ]
          },
          "metadata": {
            "tags": []
          },
          "execution_count": 24
        }
      ]
    },
    {
      "cell_type": "markdown",
      "metadata": {
        "id": "LWfk2ao_koKC",
        "colab_type": "text"
      },
      "source": [
        "**Conclusion**: Given a t-statistic of -1.736, and p-value of 0.083, we **fail to reject** the null hypothesis that democrats suport for **immigration** bill is equal to repabilican. And also from the sign of t-statistic the Democrat support the bill **less than** the republicans."
      ]
    },
    {
      "cell_type": "code",
      "metadata": {
        "id": "gc4R8TpOkorZ",
        "colab_type": "code",
        "outputId": "1a352a4d-a0f6-4c26-b382-b27f126ebc41",
        "colab": {
          "base_uri": "https://localhost:8080/",
          "height": 156
        }
      },
      "source": [
        "# synfuels-corporation-cutback\n",
        "y1 = dem[dem['synfuels-corporation-cutback']==1]\n",
        "y2 = rep[rep['synfuels-corporation-cutback']==1]\n",
        "y=y1['synfuels-corporation-cutback'].value_counts() + y2['synfuels-corporation-cutback'].value_counts()\n",
        "print('yse vote:\\n',y)\n",
        "n1 = dem[dem['synfuels-corporation-cutback']==0]\n",
        "n2 = rep[rep['synfuels-corporation-cutback']==0]\n",
        "n=n1['synfuels-corporation-cutback'].value_counts() + n2['synfuels-corporation-cutback'].value_counts()\n",
        "print('no vote:\\n', n)\n",
        "if (y.sum()>218):\n",
        "  print('The bill passed by majority vote')\n",
        "else:\n",
        "  print('The bill fail to pass')\n",
        "stats.ttest_ind(dem['synfuels-corporation-cutback'], rep['synfuels-corporation-cutback'],nan_policy='omit')"
      ],
      "execution_count": 25,
      "outputs": [
        {
          "output_type": "stream",
          "text": [
            "yse vote:\n",
            " 1.0    150\n",
            "Name: synfuels-corporation-cutback, dtype: int64\n",
            "no vote:\n",
            " 0.0    264\n",
            "Name: synfuels-corporation-cutback, dtype: int64\n",
            "The bill fail to pass\n"
          ],
          "name": "stdout"
        },
        {
          "output_type": "execute_result",
          "data": {
            "text/plain": [
              "Ttest_indResult(statistic=8.293603989407588, pvalue=1.5759322301054064e-15)"
            ]
          },
          "metadata": {
            "tags": []
          },
          "execution_count": 25
        }
      ]
    },
    {
      "cell_type": "markdown",
      "metadata": {
        "id": "caKCjcjCk6iZ",
        "colab_type": "text"
      },
      "source": [
        "**Conclusion**: Given a t-statistic of 8.294, and p-value of 0, we **reject** the null hypothesis that democrats suport for **synfuels-corporation-cutback** bill is equal to repabilican. This suggests the alternative that the democrats do not support as republican on this bill. And also from the sign of t-statistic the Democrat support the bill **more than** the republicans."
      ]
    },
    {
      "cell_type": "code",
      "metadata": {
        "id": "dOJwlfnyk652",
        "colab_type": "code",
        "outputId": "ff9fd530-6937-42c2-8cbc-65f85868a21e",
        "colab": {
          "base_uri": "https://localhost:8080/",
          "height": 156
        }
      },
      "source": [
        "# education-spending\n",
        "y1 = dem[dem['education-spending']==1]\n",
        "y2 = rep[rep['education-spending']==1]\n",
        "y=y1['education-spending'].value_counts() + y2['education-spending'].value_counts()\n",
        "print('yse vote:\\n',y)\n",
        "n1 = dem[dem['education-spending']==0]\n",
        "n2 = rep[rep['education-spending']==0]\n",
        "n=n1['education-spending'].value_counts() + n2['education-spending'].value_counts()\n",
        "print('no vote:\\n', n)\n",
        "if (y.sum()>218):\n",
        "  print('The bill passed by majority vote')\n",
        "else:\n",
        "  print('The bill fail to pass')\n",
        "stats.ttest_ind(dem['education-spending'], rep['education-spending'],nan_policy='omit')"
      ],
      "execution_count": 26,
      "outputs": [
        {
          "output_type": "stream",
          "text": [
            "yse vote:\n",
            " 1.0    171\n",
            "Name: education-spending, dtype: int64\n",
            "no vote:\n",
            " 0.0    233\n",
            "Name: education-spending, dtype: int64\n",
            "The bill fail to pass\n"
          ],
          "name": "stdout"
        },
        {
          "output_type": "execute_result",
          "data": {
            "text/plain": [
              "Ttest_indResult(statistic=-20.500685724563073, pvalue=1.8834203990450192e-64)"
            ]
          },
          "metadata": {
            "tags": []
          },
          "execution_count": 26
        }
      ]
    },
    {
      "cell_type": "markdown",
      "metadata": {
        "id": "05ftNLawlXEb",
        "colab_type": "text"
      },
      "source": [
        "**Conclusion**: Given a t-statistic of -20.501, and p-value of 0, we **reject** the null hypothesis that democrats suport for **education-spending** bill is equal to repabilican. This suggests the alternative that the democrats do not support as republican on this bill. And also from the sign of t-statistic the Democrat support the bill **less than** the republicans."
      ]
    },
    {
      "cell_type": "code",
      "metadata": {
        "id": "4PgbCNdIlXl5",
        "colab_type": "code",
        "outputId": "5e3f06bc-323e-49c6-cc02-d3515c86ceef",
        "colab": {
          "base_uri": "https://localhost:8080/",
          "height": 156
        }
      },
      "source": [
        "# superfund-right-to-sue\n",
        "y1 = dem[dem['superfund-right-to-sue']==1]\n",
        "y2 = rep[rep['superfund-right-to-sue']==1]\n",
        "y=y1['superfund-right-to-sue'].value_counts() + y2['superfund-right-to-sue'].value_counts()\n",
        "print('yse vote:\\n',y)\n",
        "n1 = dem[dem['superfund-right-to-sue']==0]\n",
        "n2 = rep[rep['superfund-right-to-sue']==0]\n",
        "n=n1['superfund-right-to-sue'].value_counts() + n2['superfund-right-to-sue'].value_counts()\n",
        "print('no vote:\\n', n)\n",
        "if (y.sum()>218):\n",
        "  print('The bill passed by majority vote')\n",
        "else:\n",
        "  print('The bill fail to pass')\n",
        "stats.ttest_ind(dem['superfund-right-to-sue'], rep['superfund-right-to-sue'],nan_policy='omit')"
      ],
      "execution_count": 27,
      "outputs": [
        {
          "output_type": "stream",
          "text": [
            "yse vote:\n",
            " 1.0    209\n",
            "Name: superfund-right-to-sue, dtype: int64\n",
            "no vote:\n",
            " 0.0    201\n",
            "Name: superfund-right-to-sue, dtype: int64\n",
            "The bill fail to pass\n"
          ],
          "name": "stdout"
        },
        {
          "output_type": "execute_result",
          "data": {
            "text/plain": [
              "Ttest_indResult(statistic=-13.51064251060933, pvalue=1.2278581709672758e-34)"
            ]
          },
          "metadata": {
            "tags": []
          },
          "execution_count": 27
        }
      ]
    },
    {
      "cell_type": "markdown",
      "metadata": {
        "id": "NHdxekYxlrvu",
        "colab_type": "text"
      },
      "source": [
        "**Conclusion**: Given a t-statistic of -13.511, and p-value of 0, we **reject** the null hypothesis that democrats suport for **superfund-right-to-sue** bill is equal to repabilican. This suggests the alternative that the democrats do not support as republican on this bill. And also from the sign of t-statistic the Democrat support the bill **less than** the republicans."
      ]
    },
    {
      "cell_type": "code",
      "metadata": {
        "id": "luDVAifTlsO5",
        "colab_type": "code",
        "outputId": "71dd3e7a-26bf-42ae-e183-13b5fa478d2f",
        "colab": {
          "base_uri": "https://localhost:8080/",
          "height": 156
        }
      },
      "source": [
        "# crime\n",
        "y1 = dem[dem['crime']==1]\n",
        "y2 = rep[rep['crime']==1]\n",
        "y=y1['crime'].value_counts() + y2['crime'].value_counts()\n",
        "print('yse vote:\\n',y)\n",
        "n1 = dem[dem['crime']==0]\n",
        "n2 = rep[rep['crime']==0]\n",
        "n=n1['crime'].value_counts() + n2['crime'].value_counts()\n",
        "print('no vote:\\n', n)\n",
        "if (y.sum()>218):\n",
        "  print('The bill passed by majority vote')\n",
        "else:\n",
        "  print('The bill fail to pass')\n",
        "stats.ttest_ind(dem['crime'], rep['crime'],nan_policy='omit')"
      ],
      "execution_count": 28,
      "outputs": [
        {
          "output_type": "stream",
          "text": [
            "yse vote:\n",
            " 1.0    248\n",
            "Name: crime, dtype: int64\n",
            "no vote:\n",
            " 0.0    170\n",
            "Name: crime, dtype: int64\n",
            "The bill passed by majority vote\n"
          ],
          "name": "stdout"
        },
        {
          "output_type": "execute_result",
          "data": {
            "text/plain": [
              "Ttest_indResult(statistic=-16.342085656197696, pvalue=9.952342705606092e-47)"
            ]
          },
          "metadata": {
            "tags": []
          },
          "execution_count": 28
        }
      ]
    },
    {
      "cell_type": "markdown",
      "metadata": {
        "id": "3JDfVANBmL9c",
        "colab_type": "text"
      },
      "source": [
        "**Conclusion**: Given a t-statistic of -16.342, and p-value of 0, we **reject** the null hypothesis that democrats suport for **crime** bill is equal to repabilican. This suggests the alternative that the democrats do not support as republican on this bill. And also from the sign of t-statistic the Democrat support the bill **less than** the republicans."
      ]
    },
    {
      "cell_type": "code",
      "metadata": {
        "id": "w1jMnztimMiO",
        "colab_type": "code",
        "outputId": "84e72a07-8582-4e8a-a30c-5b21520880b0",
        "colab": {
          "base_uri": "https://localhost:8080/",
          "height": 156
        }
      },
      "source": [
        "# duty-free-exports\n",
        "y1 = dem[dem['duty-free-exports']==1]\n",
        "y2 = rep[rep['duty-free-exports']==1]\n",
        "y=y1['duty-free-exports'].value_counts() + y2['duty-free-exports'].value_counts()\n",
        "print('yse vote:\\n',y)\n",
        "n1 = dem[dem['duty-free-exports']==0]\n",
        "n2 = rep[rep['duty-free-exports']==0]\n",
        "n=n1['duty-free-exports'].value_counts() + n2['duty-free-exports'].value_counts()\n",
        "print('no vote:\\n', n)\n",
        "if (y.sum()>218):\n",
        "  print('The bill passed by majority vote')\n",
        "else:\n",
        "  print('The bill fail to pass')\n",
        "stats.ttest_ind(dem['duty-free-exports'], rep['duty-free-exports'],nan_policy='omit')"
      ],
      "execution_count": 29,
      "outputs": [
        {
          "output_type": "stream",
          "text": [
            "yse vote:\n",
            " 1.0    174\n",
            "Name: duty-free-exports, dtype: int64\n",
            "no vote:\n",
            " 0.0    233\n",
            "Name: duty-free-exports, dtype: int64\n",
            "The bill fail to pass\n"
          ],
          "name": "stdout"
        },
        {
          "output_type": "execute_result",
          "data": {
            "text/plain": [
              "Ttest_indResult(statistic=12.853146132542978, pvalue=5.997697174347365e-32)"
            ]
          },
          "metadata": {
            "tags": []
          },
          "execution_count": 29
        }
      ]
    },
    {
      "cell_type": "markdown",
      "metadata": {
        "id": "wFHNvrzemjB9",
        "colab_type": "text"
      },
      "source": [
        "**Conclusion**: Given a t-statistic of 12.853, and p-value of 0, we **reject** the null hypothesis that democrats suport for **duty-free-exports** bill is equal to repabilican. This suggests the alternative that the democrats do not support as republican on this bill. And also from the sign of t-statistic the Democrat support the bill **more than** the republicans."
      ]
    },
    {
      "cell_type": "code",
      "metadata": {
        "id": "_eDyDaYomjbt",
        "colab_type": "code",
        "outputId": "04a03a10-05ae-4537-ff45-c49fb3685228",
        "colab": {
          "base_uri": "https://localhost:8080/",
          "height": 156
        }
      },
      "source": [
        "# export-administration-act-south-africa\n",
        "y1 = dem[dem['export-administration-act-south-africa']==1]\n",
        "y2 = rep[rep['export-administration-act-south-africa']==1]\n",
        "y=y1['export-administration-act-south-africa'].value_counts() + y2['export-administration-act-south-africa'].value_counts()\n",
        "print('yse vote:\\n',y)\n",
        "n1 = dem[dem['export-administration-act-south-africa']==0]\n",
        "n2 = rep[rep['export-administration-act-south-africa']==0]\n",
        "n=n1['export-administration-act-south-africa'].value_counts() + n2['export-administration-act-south-africa'].value_counts()\n",
        "print('no vote:\\n', n)\n",
        "if (y.sum()>218):\n",
        "  print('The bill passed by majority vote')\n",
        "else:\n",
        "  print('The bill fail to pass')\n",
        "stats.ttest_ind(dem['export-administration-act-south-africa'], rep['export-administration-act-south-africa'],nan_policy='omit')"
      ],
      "execution_count": 30,
      "outputs": [
        {
          "output_type": "stream",
          "text": [
            "yse vote:\n",
            " 1.0    269\n",
            "Name: export-administration-act-south-africa, dtype: int64\n",
            "no vote:\n",
            " 0.0    62\n",
            "Name: export-administration-act-south-africa, dtype: int64\n",
            "The bill passed by majority vote\n"
          ],
          "name": "stdout"
        },
        {
          "output_type": "execute_result",
          "data": {
            "text/plain": [
              "Ttest_indResult(statistic=6.849454815841208, pvalue=3.652674361672226e-11)"
            ]
          },
          "metadata": {
            "tags": []
          },
          "execution_count": 30
        }
      ]
    },
    {
      "cell_type": "markdown",
      "metadata": {
        "id": "LZpU6YfoDD9u",
        "colab_type": "text"
      },
      "source": [
        "**Conclusion**: Given a t-statistic of 6.849, and p-value of 0, we **reject** the null hypothesis that democrats suport for **export-adminstration-act-south-africa** bill is equal to repabilican. This suggests the alternative that the democrats do not support as republican on this bill. And also from the sign of t-statistic the Democrat support the bill **more than** the republicans."
      ]
    },
    {
      "cell_type": "markdown",
      "metadata": {
        "id": "gvwn7BtWsVxx",
        "colab_type": "text"
      },
      "source": [
        "## Bills Democrats support more than Republicans with p < 0.01\n",
        "\n",
        "\n",
        "1.   handicapped-infants\n",
        "2.   adoption-of-the-budget-resolution\n",
        "3.   anti-satellite-test-ban\n",
        "4.   aid-to-nicaraguan-contras\n",
        "5.   mx-missile\n",
        "6.   synfuels-corporation-cutback\n",
        "7.   duty-free-exports\n",
        "8.   export-administration-act-south-africa\n",
        "\n",
        "## Bills Republicans support more than Democrats with p < 0.01\n",
        "\n",
        "\n",
        "1.   water-project-cost-sharing\n",
        "2.   physician-fee-freeze\n",
        "3.   elsador-aid\n",
        "4.   religious-groups-in-schools\n",
        "5.   immigration\n",
        "6.   education-spending\n",
        "7.   superfund-right-to-sue\n",
        "8.   crime\n",
        "\n",
        "## Republicans and Democrats has p > 0.1\n",
        "\n",
        "\n",
        "1.   water-project-cost-sharing\n",
        "\n",
        "\n",
        "\n",
        "\n"
      ]
    },
    {
      "cell_type": "markdown",
      "metadata": {
        "id": "wcA_AvvRAqW_",
        "colab_type": "text"
      },
      "source": [
        "## Stretch Goals:\n",
        "\n",
        "1. Refactor your code into functions so it's easy to rerun with arbitrary variables\n",
        "2. Work on Performing a T-test without using Scipy in order to get \"under the hood\" and learn more thoroughly about this topic.\n",
        "### Start with a 1-sample t-test\n",
        " - Establish the conditions for your test \n",
        " - [Calculate the T Statistic](https://blog.minitab.com/hs-fs/hubfs/Imported_Blog_Media/701f9c0efa98a38fb397f3c3ec459b66.png?width=247&height=172&name=701f9c0efa98a38fb397f3c3ec459b66.png) (You'll need to omit NaN values from your sample).\n",
        " - Translate that t-statistic into a P-value. You can use a [table](https://www.google.com/search?q=t+statistic+table) or the [University of Iowa Applet](https://homepage.divms.uiowa.edu/~mbognar/applets/t.html)\n",
        "\n",
        " ### Then try a 2-sample t-test\n",
        " - Establish the conditions for your test \n",
        " - [Calculate the T Statistic](https://lh3.googleusercontent.com/proxy/rJJ5ZOL9ZDvKOOeBihXoZDgfk7uv1YsRzSQ1Tc10RX-r2HrRpRLVqlE9CWX23csYQXcTniFwlBg3H-qR8MKJPBGnjwndqlhDX3JxoDE5Yg) (You'll need to omit NaN values from your sample).\n",
        " - Translate that t-statistic into a P-value. You can use a [table](https://www.google.com/search?q=t+statistic+table) or the [University of Iowa Applet](https://homepage.divms.uiowa.edu/~mbognar/applets/t.html)\n",
        "\n",
        " ### Then check your Answers using Scipy!"
      ]
    },
    {
      "cell_type": "markdown",
      "metadata": {
        "id": "MjgzYeEGz_uk",
        "colab_type": "text"
      },
      "source": [
        "## Establishing the one sample t-test I take the democrat vote for immigration mu=0.5 they vote 50 50 percent for yes and no:\n",
        "\n",
        "1) Null Hypothesis: This is a fair vote. \n",
        "\n",
        "$\\mu == \\bar{x}$\n",
        "\n",
        "My belief (my concept of the population) is that this is a fair vote (p=.5) => $\\mu$\n",
        "\n",
        "What the sample is telling me: $\\bar{x}$\n",
        "\n",
        "2) Alternative Hypothesis (Opposite of the null)\n",
        "\n",
        "$\\mu \\neq \\bar{x}$\n",
        "\n",
        "The sample is different enough from my concept of the population, that it's unlikely that my sample came from a fair vote. \n",
        "\n",
        "3) Confidence Level: 99%\n",
        "\n",
        "\n"
      ]
    },
    {
      "cell_type": "code",
      "metadata": {
        "id": "Dl_SN_J1z8IB",
        "colab_type": "code",
        "colab": {
          "base_uri": "https://localhost:8080/",
          "height": 121
        },
        "outputId": "600fec4a-410c-481f-9077-1ef07d9420a9"
      },
      "source": [
        "# The mean and standard deviation\n",
        "dem_immig = dem['immigration']\n",
        "dem_immig.dropna(inplace=True)\n",
        "dem_immig.mean()"
      ],
      "execution_count": 16,
      "outputs": [
        {
          "output_type": "stream",
          "text": [
            "/usr/local/lib/python3.6/dist-packages/pandas/core/series.py:4494: SettingWithCopyWarning: \n",
            "A value is trying to be set on a copy of a slice from a DataFrame\n",
            "\n",
            "See the caveats in the documentation: https://pandas.pydata.org/pandas-docs/stable/user_guide/indexing.html#returning-a-view-versus-a-copy\n",
            "  self._update_inplace(result)\n"
          ],
          "name": "stderr"
        },
        {
          "output_type": "execute_result",
          "data": {
            "text/plain": [
              "0.4714828897338403"
            ]
          },
          "metadata": {
            "tags": []
          },
          "execution_count": 16
        }
      ]
    },
    {
      "cell_type": "code",
      "metadata": {
        "id": "dPmXOHh1Cfea",
        "colab_type": "code",
        "colab": {
          "base_uri": "https://localhost:8080/",
          "height": 35
        },
        "outputId": "ee9dd407-5672-4c14-b058-e839d77bd72b"
      },
      "source": [
        "dem_immig.std()"
      ],
      "execution_count": 17,
      "outputs": [
        {
          "output_type": "execute_result",
          "data": {
            "text/plain": [
              "0.500137849978314"
            ]
          },
          "metadata": {
            "tags": []
          },
          "execution_count": 17
        }
      ]
    },
    {
      "cell_type": "code",
      "metadata": {
        "id": "vyNsXlwj3Fy2",
        "colab_type": "code",
        "colab": {
          "base_uri": "https://localhost:8080/",
          "height": 52
        },
        "outputId": "bad61ee2-1ed3-43cc-a8dc-a4fca475eaa2"
      },
      "source": [
        "# xbar=.47 and sd=.5\n",
        "# calculate t value\n",
        "t = ((dem_immig.mean() - 0.5))/((dem_immig.std())/(len(dem_immig)**.5))\n",
        "print(len(dem_immig))\n",
        "print(t)"
      ],
      "execution_count": 18,
      "outputs": [
        {
          "output_type": "stream",
          "text": [
            "263\n",
            "-0.9246846884388147\n"
          ],
          "name": "stdout"
        }
      ]
    },
    {
      "cell_type": "code",
      "metadata": {
        "id": "aTlU_3O-4r9r",
        "colab_type": "code",
        "colab": {}
      },
      "source": [
        "# degree of freedom = 263-1=262\n",
        "# P-value = 1-.99=0.01\n",
        "# t-calculated =-0.9316899756066176\n",
        "# the P-value we get from t-table = 0.356\n",
        "# conclussion: Given a t-statistic of -0.93, and p-value of 0.35, we fail to reject \n",
        "# the null hypothesis that democrats vote for immigration bill is fair 50% vote yes and 50% vote no."
      ],
      "execution_count": 0,
      "outputs": []
    },
    {
      "cell_type": "code",
      "metadata": {
        "id": "ZuYdK6md-DbD",
        "colab_type": "code",
        "colab": {
          "base_uri": "https://localhost:8080/",
          "height": 52
        },
        "outputId": "52fe79be-ba83-4cc5-9070-ee7fb6f1a1be"
      },
      "source": [
        "# check with scipy\n",
        "dem_immig = dem['immigration']\n",
        "print(dem_immig.mean())\n",
        "stats.ttest_1samp(dem_immig, .01, nan_policy='omit')"
      ],
      "execution_count": 19,
      "outputs": [
        {
          "output_type": "stream",
          "text": [
            "0.4714828897338403\n"
          ],
          "name": "stdout"
        },
        {
          "output_type": "execute_result",
          "data": {
            "text/plain": [
              "Ttest_1sampResult(statistic=14.963864084775844, pvalue=5.206147515096537e-37)"
            ]
          },
          "metadata": {
            "tags": []
          },
          "execution_count": 19
        }
      ]
    },
    {
      "cell_type": "markdown",
      "metadata": {
        "id": "G9R__obzD0Ut",
        "colab_type": "text"
      },
      "source": [
        "## 2 sample t test I take the dem vote for immigration and crime x1 and x2 respectively for sample average \n",
        "\n",
        "\n",
        "1) Null Hypothesis: This is a fair vote. \n",
        "\n",
        "$\\bar{x1} == \\bar{x2}$\n",
        "\n",
        "\n",
        "\n",
        "2) Alternative Hypothesis (Opposite of the null)\n",
        "\n",
        "$\\bar{x1} \\neq \\bar{x2}$\n",
        "\n",
        " \n",
        "\n",
        "3) Confidence Level: 99%"
      ]
    },
    {
      "cell_type": "code",
      "metadata": {
        "id": "kdMNxCQREa0B",
        "colab_type": "code",
        "colab": {
          "base_uri": "https://localhost:8080/",
          "height": 104
        },
        "outputId": "a0a4dc89-8bb3-454f-9d0e-a3c12ffcba3b"
      },
      "source": [
        "xbar1 = dem_immig.mean()\n",
        "s1 = dem_immig.std()\n",
        "n1 = len(dem_immig)\n",
        "print(xbar1,'\\n')\n",
        "print(s1,'\\n')\n",
        "print(n1)"
      ],
      "execution_count": 20,
      "outputs": [
        {
          "output_type": "stream",
          "text": [
            "0.4714828897338403 \n",
            "\n",
            "0.500137849978314 \n",
            "\n",
            "263\n"
          ],
          "name": "stdout"
        }
      ]
    },
    {
      "cell_type": "code",
      "metadata": {
        "id": "CLBSwQXAGuzq",
        "colab_type": "code",
        "colab": {
          "base_uri": "https://localhost:8080/",
          "height": 191
        },
        "outputId": "c43316c6-2577-491f-b449-f95eb233d457"
      },
      "source": [
        "dem_crime = dem['crime']\n",
        "dem_crime.dropna(inplace=True)\n",
        "xbar2=dem_crime.mean()\n",
        "s2 = dem_crime.std()\n",
        "n2 = len(dem_crime)\n",
        "print(xbar2,'\\n')\n",
        "print(s2,'\\n')\n",
        "print(n2)\n"
      ],
      "execution_count": 21,
      "outputs": [
        {
          "output_type": "stream",
          "text": [
            "0.35019455252918286 \n",
            "\n",
            "0.4779615336263577 \n",
            "\n",
            "257\n"
          ],
          "name": "stdout"
        },
        {
          "output_type": "stream",
          "text": [
            "/usr/local/lib/python3.6/dist-packages/pandas/core/series.py:4494: SettingWithCopyWarning: \n",
            "A value is trying to be set on a copy of a slice from a DataFrame\n",
            "\n",
            "See the caveats in the documentation: https://pandas.pydata.org/pandas-docs/stable/user_guide/indexing.html#returning-a-view-versus-a-copy\n",
            "  self._update_inplace(result)\n"
          ],
          "name": "stderr"
        }
      ]
    },
    {
      "cell_type": "code",
      "metadata": {
        "id": "Y3MfuX_CLwOT",
        "colab_type": "code",
        "colab": {
          "base_uri": "https://localhost:8080/",
          "height": 35
        },
        "outputId": "8f6a8cac-9383-44f3-cd02-062f1f2386e3"
      },
      "source": [
        "# T=(xbar1−x2)/(sp*((1/n1)+(1/n2)**.5)) where sp=((n1-1)*s1**2 + (n2-1)*s2**2)**.5\n",
        "sp = ((n1-1)*s1**2 + (n2-1)*s2**2)**.5\n",
        "T = (xbar1-xbar2)/(sp*((1/n1) + (1/n2)**.5))\n",
        "print(T)"
      ],
      "execution_count": 22,
      "outputs": [
        {
          "output_type": "stream",
          "text": [
            "0.16456789797611834\n"
          ],
          "name": "stdout"
        }
      ]
    },
    {
      "cell_type": "code",
      "metadata": {
        "id": "TmR_W_t9QdyZ",
        "colab_type": "code",
        "colab": {}
      },
      "source": [
        "# degree of freedom = v = n1+n2-2\n",
        "# p-value = (1-.99)/2 =0.005\n",
        "# T = 0.16\n",
        "# from the table v=500 and T=0.16 the p-value is 0.127"
      ],
      "execution_count": 0,
      "outputs": []
    },
    {
      "cell_type": "code",
      "metadata": {
        "id": "pbdVQ7dORqXE",
        "colab_type": "code",
        "colab": {
          "base_uri": "https://localhost:8080/",
          "height": 35
        },
        "outputId": "dbc01739-ed3b-4807-8a22-79619c4eb895"
      },
      "source": [
        "# using scipy\n",
        "stats.ttest_ind(dem_immig, dem_crime, nan_policy='omit')"
      ],
      "execution_count": 23,
      "outputs": [
        {
          "output_type": "execute_result",
          "data": {
            "text/plain": [
              "Ttest_indResult(statistic=2.8260722003326384, pvalue=0.004894258309215697)"
            ]
          },
          "metadata": {
            "tags": []
          },
          "execution_count": 23
        }
      ]
    }
  ]
}