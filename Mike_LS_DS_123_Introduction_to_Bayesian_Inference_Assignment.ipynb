{
  "nbformat": 4,
  "nbformat_minor": 0,
  "metadata": {
    "colab": {
      "name": "Mike - LS_DS_123_Introduction_to_Bayesian_Inference_Assignment.ipynb",
      "provenance": [],
      "include_colab_link": true
    },
    "kernelspec": {
      "name": "python37664bitdataenvcondac48009ebdcd342ee8dd75144910fb8c3",
      "display_name": "Python 3.7.6 64-bit ('data_env': conda)"
    }
  },
  "cells": [
    {
      "cell_type": "markdown",
      "metadata": {
        "id": "view-in-github",
        "colab_type": "text"
      },
      "source": [
        "<a href=\"https://colab.research.google.com/github/MichaelMendonca/DS-Unit-1-Sprint-2-Statistics/blob/master/Mike_LS_DS_123_Introduction_to_Bayesian_Inference_Assignment.ipynb\" target=\"_parent\"><img src=\"https://colab.research.google.com/assets/colab-badge.svg\" alt=\"Open In Colab\"/></a>"
      ]
    },
    {
      "cell_type": "markdown",
      "metadata": {
        "colab_type": "text",
        "id": "H7OLbevlbd_Z"
      },
      "source": [
        "# Lambda School Data Science Module 123\n",
        "\n",
        "## Introduction to Bayesian Inference\n",
        "\n",
        "\n"
      ]
    },
    {
      "cell_type": "markdown",
      "metadata": {
        "colab_type": "text",
        "id": "P-DzzRk5bf0z"
      },
      "source": [
        "## Assignment - Code it up!\n",
        "\n",
        "We used pure math to apply Bayes Theorem to drug tests. Now write Python code to reproduce the results! This is purposefully open ended - you'll have to think about how you should represent probabilities and events. You can and should look things up.\n",
        "\n",
        "Specific goals/targets:\n",
        "\n",
        "### 1) Write a function \n",
        "\n",
        "`def prob_drunk_given_positive(prob_drunk_prior, false_positive_rate):` \n",
        "\n",
        "You should only truly need these two values in order to apply Bayes Theorem. In this example, imagine that individuals are taking a breathalyzer test with an 8% false positive rate, a 100% true positive rate, and that our prior belief about drunk driving in the population is 1/1000. \n",
        " - What is the probability that a person is drunk after one positive breathalyzer test?\n",
        " - What is the probability that a person is drunk after two positive breathalyzer tests?\n",
        " - How many positive breathalyzer tests are needed in order to have a probability that's greater than 95% that a person is drunk beyond the legal limit?\n",
        "\n",
        "### 2) Explore `scipy.stats.bayes_mvs`  \n",
        "Read its documentation, and experiment with it on data you've tested in other ways earlier this week.\n",
        " - Create a visualization comparing the results of a Bayesian approach to a traditional/frequentist approach. (with a large sample size they should look close to identical, however, take this opportunity to practice visualizing condfidence intervals in general. The following are some potential ways that you could visualize confidence intervals on your graph:\n",
        "  - [Matplotlib Error Bars](https://matplotlib.org/3.1.1/api/_as_gen/matplotlib.pyplot.errorbar.html)\n",
        "  - [Seaborn barplot with error bars](https://seaborn.pydata.org/generated/seaborn.barplot.html)\n",
        "  - [Vertical ines to show bounds of confidence interval](https://www.simplypsychology.org/confidence-interval.jpg)\n",
        "  - [Confidence Intervals on Box Plots](https://matplotlib.org/3.1.1/api/_as_gen/matplotlib.axes.Axes.boxplot.html)\n",
        "\n",
        "### 3) In your own words, summarize the difference between Bayesian and Frequentist statistics\n",
        "\n",
        "If you're unsure where to start, check out [this blog post of Bayes theorem with Python](https://dataconomy.com/2015/02/introduction-to-bayes-theorem-with-python/).\n",
        "\n"
      ]
    },
    {
      "cell_type": "markdown",
      "metadata": {
        "colab_type": "text",
        "id": "USPTYv2_NWxe"
      },
      "source": [
        "## Bayes Theorem\n",
        "\n",
        "$$ P(A|B) = \\frac{P(B|A) \\times P(A)}{P(B)}$$\n",
        "\n",
        "The probability of A given B is equal to the product of probability of B given A multiplied by the probability of A all over the probability of B\n",
        "\n",
        "if $P(A)$ is the probability that someone is a drug user, and $P(B)$ is the probability of getting a positive result, we can figure out the probability that a drug user will have a positive result.\n",
        "\n",
        "### Drug Tests\n",
        "* Given:\n",
        "  * Probability of a drug user testing positive = 1\n",
        "  * Probability of a non-drug user testing positive = .01\n",
        "  * Probability of someone being a drug user = 1/200\n"
      ]
    },
    {
      "cell_type": "code",
      "metadata": {
        "id": "SP7dA465OJky",
        "colab_type": "code",
        "colab": {}
      },
      "source": [
        "# TODO - code!\n",
        "def bayes_testing(\n",
        "    prior:float, \n",
        "    sensitivity:float, \n",
        "    specificity:float, \n",
        "    num_tests:int = 1) -> float:\n",
        "\n",
        "    p_b_given_a = sensitivity \n",
        "    numerator = p_b_given_a * prior\n",
        "\n",
        "    # Add probability of user + with non-user+\n",
        "\n",
        "    denominator = numerator + ((specificity * (1-prior)))\n",
        "    result = numerator / denominator\n",
        "    num_tests -= 1\n",
        "    if num_tests > 0:\n",
        "        return bayes_testing(result, sensitivity, specificity, num_tests)\n",
        "    else:\n",
        "        return result\n"
      ],
      "execution_count": 0,
      "outputs": []
    },
    {
      "cell_type": "code",
      "metadata": {
        "id": "QXl_sjVxOJk9",
        "colab_type": "code",
        "outputId": "813429d7-f4e9-4bb3-fc32-ce5bac00d731",
        "colab": {
          "base_uri": "https://localhost:8080/",
          "height": 35
        }
      },
      "source": [
        "bayes_testing(1/200,1,.01, 1)"
      ],
      "execution_count": 0,
      "outputs": [
        {
          "output_type": "execute_result",
          "data": {
            "text/plain": [
              "0.33444816053511706"
            ]
          },
          "metadata": {
            "tags": []
          },
          "execution_count": 3
        }
      ]
    },
    {
      "cell_type": "markdown",
      "metadata": {
        "colab_type": "text",
        "id": "_tmtysKWNWxp"
      },
      "source": [
        "### Drunk Driving\n",
        "`def prob_drunk_given_positive(prob_drunk_prior, false_positive_rate):` \n",
        "\n",
        "You should only truly need these two values in order to apply Bayes Theorem. In this example, imagine that individuals are taking a breathalyzer test with an 8% false positive rate, a 100% true positive rate, and that our prior belief about drunk driving in the population is 1/1000. \n",
        " - What is the probability that a person is drunk after one positive breathalyzer test?\n",
        " - What is the probability that a person is drunk after two positive breathalyzer tests?\n",
        " - How many positive breathalyzer tests are needed in order to have a probability that's greater than 95% that a person is drunk beyond the legal limit?\n"
      ]
    },
    {
      "cell_type": "code",
      "metadata": {
        "id": "oXjptSNGOJlM",
        "colab_type": "code",
        "outputId": "9e014670-399f-4602-e194-30db9f66f2be",
        "colab": {
          "base_uri": "https://localhost:8080/",
          "height": 35
        }
      },
      "source": [
        "prior = 1/1000\n",
        "sensitivity = 1\n",
        "specificity = .08\n",
        "\n",
        "def prob_drunk_given_positive(prob_drunk_prior, false_positive_rate, true_positive_rate):\n",
        "    return bayes_testing(prior, sensitivity, specificity, 1)\n",
        "\n",
        "prob_drunk_given_positive(prior,specificity, sensitivity)"
      ],
      "execution_count": 0,
      "outputs": [
        {
          "output_type": "execute_result",
          "data": {
            "text/plain": [
              "0.012357884330202669"
            ]
          },
          "metadata": {
            "tags": []
          },
          "execution_count": 4
        }
      ]
    },
    {
      "cell_type": "code",
      "metadata": {
        "id": "-Kd8EP11OJls",
        "colab_type": "code",
        "outputId": "3ef1bfe6-756e-45f3-afd3-b9b1c2a3d090",
        "colab": {
          "base_uri": "https://localhost:8080/",
          "height": 35
        }
      },
      "source": [
        "bayes_testing(prior, sensitivity, specificity, 2)"
      ],
      "execution_count": 0,
      "outputs": [
        {
          "output_type": "execute_result",
          "data": {
            "text/plain": [
              "0.13525210993291495"
            ]
          },
          "metadata": {
            "tags": []
          },
          "execution_count": 5
        }
      ]
    },
    {
      "cell_type": "code",
      "metadata": {
        "id": "wbxD9YI4OJl_",
        "colab_type": "code",
        "colab": {}
      },
      "source": [
        "def bayes_loop(a, b, c):\n",
        "\n",
        "    probability = a\n",
        "    for i in range(1,1000):\n",
        "        probability = bayes_testing(probability, b, c)\n",
        "        # print(probability)\n",
        "        if probability >= .95:\n",
        "            \n",
        "            return i"
      ],
      "execution_count": 0,
      "outputs": []
    },
    {
      "cell_type": "code",
      "metadata": {
        "id": "N8hkCveuOJmK",
        "colab_type": "code",
        "outputId": "a4fa839d-6942-4185-8a90-8754bcc321bd",
        "colab": {
          "base_uri": "https://localhost:8080/",
          "height": 35
        }
      },
      "source": [
        "print(bayes_loop(prior, sensitivity, specificity))"
      ],
      "execution_count": 0,
      "outputs": [
        {
          "output_type": "stream",
          "text": [
            "4\n"
          ],
          "name": "stdout"
        }
      ]
    },
    {
      "cell_type": "markdown",
      "metadata": {
        "colab_type": "text",
        "id": "SFJKQKzZNaIr"
      },
      "source": [
        "Real world Breathalyzers. [Citation](https://www.ncbi.nlm.nih.gov/pmc/articles/PMC4281544/)\n",
        "\n",
        "> The digital multiuse breathalyser had a sensitivity of 89.5% (95% CI 75.9% to 95.8%) and a specificity of 64.1% (95% CI 56.6% to 71.0%)\n",
        "\n",
        "> 20% of fatal accidents involve a drunk driver\n",
        "[Source](https://crashstats.nhtsa.dot.gov/Api/Public/ViewPublication/812630)\n"
      ]
    },
    {
      "cell_type": "code",
      "metadata": {
        "id": "T_7c2tO6OJmV",
        "colab_type": "code",
        "outputId": "acc4fb37-c1dd-411a-e6ae-b27497c31e93",
        "colab": {
          "base_uri": "https://localhost:8080/",
          "height": 35
        }
      },
      "source": [
        "real_world_bayes = bayes_testing(.2, .895, .641)\n",
        "\n",
        "print(f'Driver probability is drunk: {real_world_bayes*100}%')"
      ],
      "execution_count": 0,
      "outputs": [
        {
          "output_type": "stream",
          "text": [
            "Driver probability is drunk: 25.874530211043655%\n"
          ],
          "name": "stdout"
        }
      ]
    },
    {
      "cell_type": "markdown",
      "metadata": {
        "id": "a5h1YclcM_UM",
        "colab_type": "text"
      },
      "source": [
        "## Difference between Bayesian and Frequentist statistics"
      ]
    },
    {
      "cell_type": "markdown",
      "metadata": {
        "id": "kM8v6O4gNNvh",
        "colab_type": "text"
      },
      "source": [
        "Summarizing is the how probability is used. Bayesians use probability more widely to model both sampling and other kinds of uncertainty. Frequentists use probability only to model certain processes broadly described as \"sampling\" to describe a constantly updating hypothesis."
      ]
    },
    {
      "cell_type": "markdown",
      "metadata": {
        "colab_type": "text",
        "id": "uWgWjp3PQ3Sq"
      },
      "source": [
        "## Resources"
      ]
    },
    {
      "cell_type": "markdown",
      "metadata": {
        "colab_type": "text",
        "id": "QRgHqmYIQ9qn"
      },
      "source": [
        "- [Worked example of Bayes rule calculation](https://en.wikipedia.org/wiki/Bayes'_theorem#Examples) (helpful as it fully breaks out the denominator)\n",
        "- [Source code for mvsdist in scipy](https://github.com/scipy/scipy/blob/90534919e139d2a81c24bf08341734ff41a3db12/scipy/stats/morestats.py#L139)"
      ]
    },
    {
      "cell_type": "markdown",
      "metadata": {
        "colab_type": "text",
        "id": "GP7Jv1XvwtkX"
      },
      "source": [
        "## Stretch Goals:\n",
        "\n",
        "- Go back and study the content from Modules 1 & 2 to make sure that you're really comfortable with them.\n",
        "- Apply a Bayesian technique to a problem you previously worked (in an assignment or project work) on from a frequentist (standard) perspective\n",
        "- Check out [PyMC3](https://docs.pymc.io/) (note this goes beyond hypothesis tests into modeling) - read the guides and work through some examples\n",
        "- Take PyMC3 further - see if you can build something with it!"
      ]
    },
    {
      "cell_type": "code",
      "metadata": {
        "colab_type": "code",
        "id": "iDi0eFr1x-v_",
        "colab": {}
      },
      "source": [
        ""
      ],
      "execution_count": 0,
      "outputs": []
    }
  ]
}