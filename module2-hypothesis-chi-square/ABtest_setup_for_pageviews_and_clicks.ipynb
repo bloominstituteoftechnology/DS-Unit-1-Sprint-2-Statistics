{
  "nbformat": 4,
  "nbformat_minor": 0,
  "metadata": {
    "colab": {
      "name": "ABtest setup for pageviews and clicks.ipynb",
      "provenance": [],
      "collapsed_sections": []
    },
    "kernelspec": {
      "name": "python3",
      "display_name": "Python 3"
    }
  },
  "cells": [
    {
      "cell_type": "code",
      "metadata": {
        "id": "ngNtG-hMExz8",
        "colab": {
          "base_uri": "https://localhost:8080/",
          "height": 212
        },
        "outputId": "7ad4e741-79c5-480b-d733-008de5b7084c"
      },
      "source": [
        "import pandas as pd\n",
        "import numpy as np\n",
        "\n",
        "\n",
        "data_url = 'https://raw.githubusercontent.com/LambdaSchool/data-science-practice-datasets/main/unit_1/Udacity%20AB%20testing%20data/AB%20testing%20data.csv'\n",
        "\n",
        "ABtest = pd.read_csv(data_url, skipinitialspace=True, header=0)\n",
        "\n",
        "print(ABtest.shape)\n",
        "ABtest.head()"
      ],
      "execution_count": null,
      "outputs": [
        {
          "output_type": "stream",
          "text": [
            "(999, 10)\n"
          ],
          "name": "stdout"
        },
        {
          "output_type": "execute_result",
          "data": {
            "text/html": [
              "<div>\n",
              "<style scoped>\n",
              "    .dataframe tbody tr th:only-of-type {\n",
              "        vertical-align: middle;\n",
              "    }\n",
              "\n",
              "    .dataframe tbody tr th {\n",
              "        vertical-align: top;\n",
              "    }\n",
              "\n",
              "    .dataframe thead th {\n",
              "        text-align: right;\n",
              "    }\n",
              "</style>\n",
              "<table border=\"1\" class=\"dataframe\">\n",
              "  <thead>\n",
              "    <tr style=\"text-align: right;\">\n",
              "      <th></th>\n",
              "      <th>Date</th>\n",
              "      <th>C-Pageviews</th>\n",
              "      <th>C-Clicks</th>\n",
              "      <th>C-Enrollments</th>\n",
              "      <th>C-Payments</th>\n",
              "      <th>E-Pageviews</th>\n",
              "      <th>E-Clicks</th>\n",
              "      <th>E-Enrollments</th>\n",
              "      <th>E-Payments</th>\n",
              "      <th>Unnamed: 9</th>\n",
              "    </tr>\n",
              "  </thead>\n",
              "  <tbody>\n",
              "    <tr>\n",
              "      <th>0</th>\n",
              "      <td>Sat, Oct 11</td>\n",
              "      <td>7723.0</td>\n",
              "      <td>687.0</td>\n",
              "      <td>134.0</td>\n",
              "      <td>70.0</td>\n",
              "      <td>7716.0</td>\n",
              "      <td>686.0</td>\n",
              "      <td>105.0</td>\n",
              "      <td>34.0</td>\n",
              "      <td>NaN</td>\n",
              "    </tr>\n",
              "    <tr>\n",
              "      <th>1</th>\n",
              "      <td>Sun, Oct 12</td>\n",
              "      <td>9102.0</td>\n",
              "      <td>779.0</td>\n",
              "      <td>147.0</td>\n",
              "      <td>70.0</td>\n",
              "      <td>9288.0</td>\n",
              "      <td>785.0</td>\n",
              "      <td>116.0</td>\n",
              "      <td>91.0</td>\n",
              "      <td>NaN</td>\n",
              "    </tr>\n",
              "    <tr>\n",
              "      <th>2</th>\n",
              "      <td>Mon, Oct 13</td>\n",
              "      <td>10511.0</td>\n",
              "      <td>909.0</td>\n",
              "      <td>167.0</td>\n",
              "      <td>95.0</td>\n",
              "      <td>10480.0</td>\n",
              "      <td>884.0</td>\n",
              "      <td>145.0</td>\n",
              "      <td>79.0</td>\n",
              "      <td>NaN</td>\n",
              "    </tr>\n",
              "    <tr>\n",
              "      <th>3</th>\n",
              "      <td>Tue, Oct 14</td>\n",
              "      <td>9871.0</td>\n",
              "      <td>836.0</td>\n",
              "      <td>156.0</td>\n",
              "      <td>105.0</td>\n",
              "      <td>9867.0</td>\n",
              "      <td>827.0</td>\n",
              "      <td>138.0</td>\n",
              "      <td>92.0</td>\n",
              "      <td>NaN</td>\n",
              "    </tr>\n",
              "    <tr>\n",
              "      <th>4</th>\n",
              "      <td>Wed, Oct 15</td>\n",
              "      <td>10014.0</td>\n",
              "      <td>837.0</td>\n",
              "      <td>163.0</td>\n",
              "      <td>64.0</td>\n",
              "      <td>9793.0</td>\n",
              "      <td>832.0</td>\n",
              "      <td>140.0</td>\n",
              "      <td>94.0</td>\n",
              "      <td>NaN</td>\n",
              "    </tr>\n",
              "  </tbody>\n",
              "</table>\n",
              "</div>"
            ],
            "text/plain": [
              "          Date  C-Pageviews  C-Clicks  ...  E-Enrollments  E-Payments  Unnamed: 9\n",
              "0  Sat, Oct 11       7723.0     687.0  ...          105.0        34.0         NaN\n",
              "1  Sun, Oct 12       9102.0     779.0  ...          116.0        91.0         NaN\n",
              "2  Mon, Oct 13      10511.0     909.0  ...          145.0        79.0         NaN\n",
              "3  Tue, Oct 14       9871.0     836.0  ...          138.0        92.0         NaN\n",
              "4  Wed, Oct 15      10014.0     837.0  ...          140.0        94.0         NaN\n",
              "\n",
              "[5 rows x 10 columns]"
            ]
          },
          "metadata": {
            "tags": []
          },
          "execution_count": 1
        }
      ]
    },
    {
      "cell_type": "code",
      "metadata": {
        "id": "iL695u_sKEnt",
        "colab": {
          "base_uri": "https://localhost:8080/"
        },
        "outputId": "759bb4bd-81a6-417d-888c-aba0d7cea820"
      },
      "source": [
        "#Calculate total pageviews and clicks for experimental and control groups\n",
        "\n",
        "C_PV = ABtest['C-Pageviews'].sum()\n",
        "print('Page views - control group:', C_PV)\n",
        "\n",
        "E_PV = ABtest['E-Pageviews'].sum()\n",
        "print('Page views - exerimental group:', E_PV)\n",
        "\n",
        "C_Clicks = ABtest['C-Clicks'].sum()\n",
        "print('Clicks - control group:', C_Clicks)\n",
        "\n",
        "E_Clicks = ABtest['E-Clicks'].sum()\n",
        "print('Clicks - experimental group:', E_Clicks)"
      ],
      "execution_count": null,
      "outputs": [
        {
          "output_type": "stream",
          "text": [
            "Page views - control group: 345543.0\n",
            "Page views - exerimental group: 344660.0\n",
            "Clicks - control group: 28378.0\n",
            "Clicks - experimental group: 28325.0\n"
          ],
          "name": "stdout"
        }
      ]
    },
    {
      "cell_type": "code",
      "metadata": {
        "id": "3mhRC2SYeQ9y",
        "colab": {
          "base_uri": "https://localhost:8080/"
        },
        "outputId": "a9b3a0ab-5e1b-4e1e-c458-37f2a94647a0"
      },
      "source": [
        "#Create a column of 0s and 1s corresponding to the number of clicks and pageviews\n",
        "#in the control group. \n",
        "\n",
        "#Create a corresponding column that says \"Control\" to be an indicator variable.\n",
        "\n",
        "Clicks_control = pd.DataFrame(np.repeat(1,C_Clicks,axis=0))\n",
        "No_clicks_control = pd.DataFrame(np.repeat(0,C_PV - C_Clicks,axis=0))\n",
        "\n",
        "Clicks_C = pd.concat([Clicks_control,No_clicks_control])\n",
        "Clicks_C = Clicks_C.reset_index(drop=True)\n",
        "\n",
        "\n",
        "Control_label = pd.DataFrame(np.repeat('Control',C_PV,axis=0))\n",
        "\n",
        "\n",
        "print(Clicks_C.shape)\n",
        "print(Control_label.shape)\n",
        "\n",
        "Control = pd.concat([Control_label, Clicks_C], axis=1)"
      ],
      "execution_count": null,
      "outputs": [
        {
          "output_type": "stream",
          "text": [
            "(345543, 1)\n",
            "(345543, 1)\n"
          ],
          "name": "stdout"
        }
      ]
    },
    {
      "cell_type": "code",
      "metadata": {
        "colab": {
          "base_uri": "https://localhost:8080/"
        },
        "id": "SAWR33Z_2nHq",
        "outputId": "4498abfa-2ced-4880-bef1-e917d110b45e"
      },
      "source": [
        "#Create a column of 0s and 1s corresponding to the number of clicks and pageviews\n",
        "#in the experimental group. \n",
        "\n",
        "#Create a corresponding column that says \"Experiment\" to be an indicator variable.\n",
        "\n",
        "Clicks_experiment = pd.DataFrame(np.repeat(1,E_Clicks,axis=0))\n",
        "No_clicks_experiment = pd.DataFrame(np.repeat(0,E_PV - E_Clicks,axis=0))\n",
        "\n",
        "Clicks_E = pd.concat([Clicks_experiment,No_clicks_experiment])\n",
        "Clicks_E = Clicks_E.reset_index(drop=True)\n",
        "\n",
        "\n",
        "Experiment_label = pd.DataFrame(np.repeat('Experiment',E_PV,axis=0))\n",
        "\n",
        "\n",
        "print(Clicks_E.shape)\n",
        "print(Experiment_label.shape)\n",
        "\n",
        "Experiment = pd.concat([Experiment_label, Clicks_E], axis=1)"
      ],
      "execution_count": null,
      "outputs": [
        {
          "output_type": "stream",
          "text": [
            "(344660, 1)\n",
            "(344660, 1)\n"
          ],
          "name": "stdout"
        }
      ]
    },
    {
      "cell_type": "code",
      "metadata": {
        "id": "ymTOm7FCG0_5"
      },
      "source": [
        "#Stick the two datasets together and export\n",
        "\n",
        "AB_test_clicks = pd.concat([Control, Experiment])\n",
        "\n",
        "AB_test_clicks.to_csv('AB_test_clicks.csv')"
      ],
      "execution_count": null,
      "outputs": []
    }
  ]
}