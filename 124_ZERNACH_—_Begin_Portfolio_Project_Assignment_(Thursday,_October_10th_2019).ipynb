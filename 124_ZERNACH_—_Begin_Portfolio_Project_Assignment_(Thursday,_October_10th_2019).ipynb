{
  "nbformat": 4,
  "nbformat_minor": 0,
  "metadata": {
    "colab": {
      "name": "124 ZERNACH — Begin Portfolio Project Assignment (Thursday, October 10th 2019).ipynb",
      "provenance": [],
      "collapsed_sections": [],
      "include_colab_link": true
    },
    "kernelspec": {
      "name": "python3",
      "display_name": "Python 3"
    }
  },
  "cells": [
    {
      "cell_type": "markdown",
      "metadata": {
        "id": "view-in-github",
        "colab_type": "text"
      },
      "source": [
        "<a href=\"https://colab.research.google.com/github/Zernach/DS-Unit-1-Sprint-2-Statistics/blob/master/124_ZERNACH_%E2%80%94_Begin_Portfolio_Project_Assignment_(Thursday%2C_October_10th_2019).ipynb\" target=\"_parent\"><img src=\"https://colab.research.google.com/assets/colab-badge.svg\" alt=\"Open In Colab\"/></a>"
      ]
    },
    {
      "cell_type": "markdown",
      "metadata": {
        "id": "l1IlxoTbGmTZ",
        "colab_type": "text"
      },
      "source": [
        "ASSIGNMENT COMPLETED BY: [RYAN ZERNACH](https://ZERNACH.COM/RYAN-ZERNACH)\n",
        "\n",
        "![alt text](http://www.zernach.com/wp-content/uploads/2019/09/Ryan-Zernach-Logo-1-e1568499634499.png)\n",
        "\n",
        "# Assignment!\n",
        "\n",
        "We've got like 4-5 portfolio projects to create. All of my portfolio assignments will be about one/some of the following topics.\n",
        "\n",
        "![alt text](http://www.zernach.com/wp-content/uploads/2019/09/project_20190910_000651-1024x512.png)"
      ]
    },
    {
      "cell_type": "markdown",
      "metadata": {
        "id": "eQuVQhIFCrT8",
        "colab_type": "text"
      },
      "source": [
        "# Today, I also created the framework for a new sub-domain of my existing site ([zernach.com](https://)) — the sub-domain is [ryan.zernach.com](https://), which will be used for my resume/portfolio/bio site for future potential employers. "
      ]
    },
    {
      "cell_type": "code",
      "metadata": {
        "id": "Fr9vjBdhKb9_",
        "colab_type": "code",
        "colab": {}
      },
      "source": [
        ""
      ],
      "execution_count": 0,
      "outputs": []
    }
  ]
}