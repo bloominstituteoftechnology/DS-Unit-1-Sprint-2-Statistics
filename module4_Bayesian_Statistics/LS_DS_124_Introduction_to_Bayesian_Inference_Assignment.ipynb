{
  "nbformat": 4,
  "nbformat_minor": 0,
  "metadata": {
    "colab": {
      "name": "LS_DS_124_Introduction_to_Bayesian_Inference_Assignment.ipynb",
      "provenance": [],
      "collapsed_sections": [],
      "include_colab_link": true
    },
    "kernelspec": {
      "name": "python3",
      "display_name": "Python 3"
    }
  },
  "cells": [
    {
      "cell_type": "markdown",
      "metadata": {
        "id": "view-in-github",
        "colab_type": "text"
      },
      "source": [
        "<a href=\"https://colab.research.google.com/github/dondreojordan/DS-Unit-1-Sprint-2-Statistics/blob/master/module4/LS_DS_124_Introduction_to_Bayesian_Inference_Assignment.ipynb\" target=\"_parent\"><img src=\"https://colab.research.google.com/assets/colab-badge.svg\" alt=\"Open In Colab\"/></a>"
      ]
    },
    {
      "cell_type": "markdown",
      "metadata": {
        "id": "H7OLbevlbd_Z",
        "colab_type": "text"
      },
      "source": [
        "# Lambda School Data Science Module 124\n",
        "\n",
        "## Introduction to Bayesian Inference\n",
        "\n",
        "\n"
      ]
    },
    {
      "cell_type": "markdown",
      "metadata": {
        "id": "P-DzzRk5bf0z",
        "colab_type": "text"
      },
      "source": [
        "## Assignment - Code it up!\n",
        "\n",
        "We used pure math to apply Bayes Theorem to drug tests. Now write Python code to reproduce the results! This is purposefully open ended - you'll have to think about how you should represent probabilities and events. You can and should look things up.\n",
        "\n",
        "Specific goals/targets:\n",
        "\n",
        "### 1) Write a function \n",
        "\n",
        "`def prob_drunk_given_positive(prob_drunk_prior, false_positive_rate, true_positive_rate):` \n",
        "\n",
        "You should only truly need these three values in order to apply Bayes Theorem. In this example, imagine that individuals are taking a breathalyzer test with an 8% false positive rate, a 100% true positive rate, and that our prior belief about drunk driving in the population is 1/1000. \n",
        " - What is the probability that a person is drunk after one positive breathalyzer test?\n",
        " - What is the probability that a person is drunk after two positive breathalyzer tests?\n",
        " - How many positive breathalyzer tests are needed in order to have a probability that's greater than 95% that a person is drunk beyond the legal limit?\n"
      ]
    },
    {
      "cell_type": "code",
      "metadata": {
        "id": "S9orGtxVsSLh",
        "colab_type": "code",
        "outputId": "2d9aa8c3-7781-4d46-a1c1-55912aa65e32",
        "colab": {
          "base_uri": "https://localhost:8080/",
          "height": 33
        }
      },
      "source": [
        " # One Breathalyzer Test.\n",
        "\n",
        " \n",
        " # Prior Probability\n",
        "prob_drunk_prior = 1/1000\n",
        "  # Fasle Positive Rate\n",
        "false_positive_rate = .08 \n",
        "  # True Positive Rate\n",
        "true_positive_rate = 1\n",
        "  # The Compliment Prior (Whenever two values add up to ONe, they compliment each other)\n",
        "compliment_prior = 1-prob_drunk_prior #Have to add up to 1 or 100%.\n",
        " # numerator = True Pos * Prior\n",
        "numerator = true_positive_rate * prob_drunk_prior\n",
        "  # denominator = True Pos * Prior + False Pos * Compliment Prior\n",
        "denominator = true_positive_rate*prob_drunk_prior + false_positive_rate*compliment_prior\n",
        "\n",
        "posterior_probability_test = numerator/denominator\n",
        "\n",
        "  # Print posterior_probability\n",
        "posterior_probability_test\n"
      ],
      "execution_count": 0,
      "outputs": [
        {
          "output_type": "execute_result",
          "data": {
            "text/plain": [
              "0.012357884330202669"
            ]
          },
          "metadata": {
            "tags": []
          },
          "execution_count": 48
        }
      ]
    },
    {
      "cell_type": "code",
      "metadata": {
        "id": "KCeawr9isczi",
        "colab_type": "code",
        "outputId": "7141bf00-c0c0-40ae-e2d8-a1a224ed2d42",
        "colab": {
          "base_uri": "https://localhost:8080/",
          "height": 33
        }
      },
      "source": [
        "# Two Breathalyzer Tests.\n",
        " \n",
        " # Prior Probability\n",
        "prob_drunk_prior = posterior_probability_test\n",
        "  # Fasle Positive Rate\n",
        "false_positive_rate = .08 \n",
        "  # True Positive Rate\n",
        "true_positive_rate = 1\n",
        "  # The Compliment Prior (Whenever two values add up to ONe, they compliment each other)\n",
        "compliment_prior = 1-prob_drunk_prior #Have to add up to 1 or 100%.\n",
        " # numerator = True Pos * Prior\n",
        "numerator = true_positive_rate * prob_drunk_prior\n",
        "  # denominator = True Pos * Prior + False Pos * Compliment Prior\n",
        "denominator = true_positive_rate * prob_drunk_prior + false_positive_rate * compliment_prior\n",
        "\n",
        "posterior_probability_test = numerator/ denominator\n",
        "\n",
        "  # Print posterior_probability\n",
        "posterior_probability_test"
      ],
      "execution_count": 0,
      "outputs": [
        {
          "output_type": "execute_result",
          "data": {
            "text/plain": [
              "0.13525210993291495"
            ]
          },
          "metadata": {
            "tags": []
          },
          "execution_count": 51
        }
      ]
    },
    {
      "cell_type": "code",
      "metadata": {
        "id": "x_IYCluHtTtV",
        "colab_type": "code",
        "outputId": "71a6da4f-1798-4f98-f8c6-ced48a1485f2",
        "colab": {
          "base_uri": "https://localhost:8080/",
          "height": 33
        }
      },
      "source": [
        " # Three Breathalyzer Tests.\n",
        " \n",
        " # Prior Probability\n",
        "prob_drunk_prior = posterior_probability_test\n",
        "  # Fasle Positive Rate\n",
        "false_positive_rate = .08 \n",
        "  # True Positive Rate\n",
        "true_positive_rate = 1\n",
        "  # The Compliment Prior (Whenever two values add up to ONe, they compliment each other)\n",
        "compliment_prior = 1-prob_drunk_prior #Have to add up to 1 or 100%.\n",
        " # numerator = True Pos * Prior\n",
        "numerator = true_positive_rate * prob_drunk_prior\n",
        "  # denominator = True Pos * Prior + False Pos * Compliment Prior\n",
        "denominator = true_positive_rate * prob_drunk_prior + false_positive_rate * compliment_prior\n",
        "\n",
        "posterior_probability_test = numerator/ denominator\n",
        "\n",
        "  # Print posterior_probability\n",
        "posterior_probability_test"
      ],
      "execution_count": 0,
      "outputs": [
        {
          "output_type": "execute_result",
          "data": {
            "text/plain": [
              "0.6615996951348605"
            ]
          },
          "metadata": {
            "tags": []
          },
          "execution_count": 52
        }
      ]
    },
    {
      "cell_type": "code",
      "metadata": {
        "id": "8S8WO_6rtUuB",
        "colab_type": "code",
        "outputId": "b56a9cea-9a29-4b38-a3ff-fb7b800607a6",
        "colab": {
          "base_uri": "https://localhost:8080/",
          "height": 33
        }
      },
      "source": [
        "# Four Breathalyzer Tests.\n",
        " \n",
        " # Prior Probability\n",
        "prob_drunk_prior = posterior_probability_test\n",
        "  # Fasle Positive Rate\n",
        "false_positive_rate = .08 \n",
        "  # True Positive Rate\n",
        "true_positive_rate = 1\n",
        "  # The Compliment Prior (Whenever two values add up to ONe, they compliment each other)\n",
        "compliment_prior = 1-prob_drunk_prior #Have to add up to 1 or 100%.\n",
        " # numerator = True Pos * Prior\n",
        "numerator = true_positive_rate * prob_drunk_prior\n",
        "  # denominator = True Pos * Prior + False Pos * Compliment Prior\n",
        "denominator = true_positive_rate * prob_drunk_prior + false_positive_rate * compliment_prior\n",
        "\n",
        "posterior_probability_test = numerator/ denominator\n",
        "\n",
        "  # Print posterior_probability\n",
        "posterior_probability_test"
      ],
      "execution_count": 0,
      "outputs": [
        {
          "output_type": "execute_result",
          "data": {
            "text/plain": [
              "0.9606895076105054"
            ]
          },
          "metadata": {
            "tags": []
          },
          "execution_count": 53
        }
      ]
    },
    {
      "cell_type": "code",
      "metadata": {
        "id": "xpVhZyUnbf7o",
        "colab_type": "code",
        "colab": {}
      },
      "source": [
        " # Prior Probability\n",
        "prob_drunk_prior = 1/1000\n",
        "prob_drunk_prior_loop = posterior_probability_test\n",
        "  # Fasle Positive Rate\n",
        "false_positive_rate = .08 \n",
        "  # True Positive Rate\n",
        "true_positive_rate = 1\n",
        "  # The Compliment Prior (Whenever two values add up to ONe, they compliment each other)\n",
        "compliment_prior = 1-prob_drunk_prior #Have to add up to 1 or 100%.\n",
        "\n",
        "  #\n",
        "numerator = true_positive_rate * prob_drunk_prior\n",
        "  # denominator = True Pos * Prior + False Pos * Compliment Prior\n",
        "denominator = true_positive_rate*prob_drunk_prior + false_positive_rate*compliment_prior\n"
      ],
      "execution_count": 0,
      "outputs": []
    },
    {
      "cell_type": "code",
      "metadata": {
        "id": "gAks8zQcvV8_",
        "colab_type": "code",
        "outputId": "1a1deaf4-78e8-4da7-e9c3-a877a6d75104",
        "colab": {
          "base_uri": "https://localhost:8080/",
          "height": 72
        }
      },
      "source": [
        "import numpy as np\n",
        "import matplotlib.pyplot as plt\n",
        "import pandas as pd\n",
        "import seaborn as sns\n",
        "from scipy import stats"
      ],
      "execution_count": 0,
      "outputs": [
        {
          "output_type": "stream",
          "text": [
            "/usr/local/lib/python3.6/dist-packages/statsmodels/tools/_testing.py:19: FutureWarning: pandas.util.testing is deprecated. Use the functions in the public API at pandas.testing instead.\n",
            "  import pandas.util.testing as tm\n"
          ],
          "name": "stderr"
        }
      ]
    },
    {
      "cell_type": "code",
      "metadata": {
        "id": "zeKF1WYyx3HS",
        "colab_type": "code",
        "colab": {}
      },
      "source": [
        "# What is the probability that a person is drunk after one positive breathalyzer test\n"
      ],
      "execution_count": 0,
      "outputs": []
    },
    {
      "cell_type": "code",
      "metadata": {
        "id": "PwAVCJ2myAtd",
        "colab_type": "code",
        "colab": {}
      },
      "source": [
        "def prob_drunk_given_positive(prob_drunk_prior, false_positive_rate):\n",
        "  true_positive_rate = 1\n",
        "  prob_real_drunks = prob_drunk_prior*true_positive_rate\n",
        "  prob_pos_drunks = prob_real_drunks\n",
        "  prob_pos_sober = (1-prob_drunk_prior)*false_positive_rate\n",
        "  prob_all_positives = prob_pos_drunks + prob_pos_sober\n",
        "  probability = prob_real_drunks/prob_all_positives\n",
        "  return probability"
      ],
      "execution_count": 0,
      "outputs": []
    },
    {
      "cell_type": "code",
      "metadata": {
        "id": "UmNkBVEOy2UI",
        "colab_type": "code",
        "colab": {}
      },
      "source": [
        "# First Test\n",
        "x = prob_drunk_given_positive(1/1000,0.08)\n",
        "y = 0.08"
      ],
      "execution_count": 0,
      "outputs": []
    },
    {
      "cell_type": "code",
      "metadata": {
        "id": "YVzXufL9zaWU",
        "colab_type": "code",
        "colab": {}
      },
      "source": [
        "# What is the probability that a person is drunk after two positive breathalyzer tests?"
      ],
      "execution_count": 0,
      "outputs": []
    },
    {
      "cell_type": "code",
      "metadata": {
        "id": "X_JTGiqCzjnE",
        "colab_type": "code",
        "outputId": "4ce83a38-c37c-4d3b-feeb-0f9979047c7a",
        "colab": {
          "base_uri": "https://localhost:8080/",
          "height": 34
        }
      },
      "source": [
        "#Second Test\n",
        "prob_drunk_given_positive(x, y)"
      ],
      "execution_count": 0,
      "outputs": [
        {
          "output_type": "execute_result",
          "data": {
            "text/plain": [
              "0.13525210993291495"
            ]
          },
          "metadata": {
            "tags": []
          },
          "execution_count": 14
        }
      ]
    },
    {
      "cell_type": "code",
      "metadata": {
        "id": "y3a4m9D_zmgp",
        "colab_type": "code",
        "colab": {}
      },
      "source": [
        "#How many positive breathalyzer test are needed in order to have a probability that's greater that 95% that a person is drunk beyond legal limits?"
      ],
      "execution_count": 0,
      "outputs": []
    },
    {
      "cell_type": "code",
      "metadata": {
        "id": "xYJsw2WpzmlK",
        "colab_type": "code",
        "colab": {}
      },
      "source": [
        "starting_base_rate = 1/1000\n",
        "false_positive_error = y\n",
        "def run_prob_sequentially(num_repeats, starting_base_rate, false_positive_error):\n",
        "  print(starting_base_rate)\n",
        "  if num_repeats == 1:\n",
        "    return starting_base_rate\n",
        "  elif num_repeats > 1:\n",
        "    new_base_rate = prob_drunk_given_positive(starting_base_rate, false_positive_error)\n",
        "    return run_prob_sequentially(num_repeats-1, new_base_rate, false_positive_error)\n"
      ],
      "execution_count": 0,
      "outputs": []
    },
    {
      "cell_type": "code",
      "metadata": {
        "id": "Zz2egUBuzmoJ",
        "colab_type": "code",
        "outputId": "94107ed0-00c6-443f-ee93-d88351b1a936",
        "colab": {
          "base_uri": "https://localhost:8080/",
          "height": 158
        }
      },
      "source": [
        "a = run_prob_sequentially(8, starting_base_rate, false_positive_error)"
      ],
      "execution_count": 0,
      "outputs": [
        {
          "output_type": "stream",
          "text": [
            "0.001\n",
            "0.012357884330202669\n",
            "0.13525210993291495\n",
            "0.6615996951348605\n",
            "0.9606895076105054\n",
            "0.9967371577896734\n",
            "0.9997381867081508\n",
            "0.9999790498904363\n"
          ],
          "name": "stdout"
        }
      ]
    },
    {
      "cell_type": "code",
      "metadata": {
        "id": "ettq7OxozmjV",
        "colab_type": "code",
        "colab": {}
      },
      "source": [
        "#Fourth Test is greater than 95%"
      ],
      "execution_count": 0,
      "outputs": []
    },
    {
      "cell_type": "markdown",
      "metadata": {
        "id": "nhOAsLjvCSLF",
        "colab_type": "text"
      },
      "source": [
        "### 2) In your own words, summarize the difference between Bayesian and Frequentist statistics\n",
        "\n",
        "If you're unsure where to start, check out [this blog post of Bayes theorem with Python](https://dataconomy.com/2015/02/introduction-to-bayes-theorem-with-python/)."
      ]
    },
    {
      "cell_type": "markdown",
      "metadata": {
        "id": "AADlIVfgDztY",
        "colab_type": "text"
      },
      "source": [
        ">>The two general “philosophies” in inferential statistics are the Bayesian and Frequentist approach. The key emphasized difference between that of the Bayesian approach and Frequency approach is in their interpretations of probability. \"Frequentists compare the data they see to what they had expected, whereas, Bayesian people have a model based on their previous experiences that tells them what they think the data should look like, and then they combine this with the data they observe to settle upon some ``posterior'' belief.\" \n",
        "\n",
        ">In short, people who see themselves as Bayensian will take observations from prior data and merge with new data to formulate what they believe their \"posterior\" belief, or  the revised or updated probability of an event occurring after taking into consideration new information.\n",
        "\n",
        "\n",
        "https://stats.stackexchange.com/questions/22/bayesian-and-frequentist-reasoning-in-plain-english#:~:text=The%20Bayesian%20is%20subjective%20and,values%20of%20the%20unknown%20parameters.&text=The%20frequentist%20see%20probability%20as,based%20on%20an%20observed%20proportion."
      ]
    },
    {
      "cell_type": "markdown",
      "metadata": {
        "id": "AeAGBxWjCTv3",
        "colab_type": "text"
      },
      "source": [
        "### 3) Use the following Template to help come up with ideas for your Build Sprint Project: \n",
        "\n"
      ]
    },
    {
      "cell_type": "markdown",
      "metadata": {
        "id": "YgIaBr__C5Q2",
        "colab_type": "text"
      },
      "source": [
        "---\n",
        "\n",
        "## Idea 1:"
      ]
    },
    {
      "cell_type": "markdown",
      "metadata": {
        "id": "MwR6hTB1CiLR",
        "colab_type": "text"
      },
      "source": [
        "### You\n",
        "What do you care about?\n",
        "\n",
        ">Music \n",
        "\n",
        "What do you know about?\n",
        "\n",
        ">Music Streaming Service Platform, Stringed Instruments\n",
        "\n",
        "What decisions do you face?\n",
        "Building an experiment around a dataset.\n",
        "\n",
        ">How likes and unlikes affect the algorithm in search for new music under the larger \"umnbrella\" of music genres I enjoy. \n"
      ]
    },
    {
      "cell_type": "markdown",
      "metadata": {
        "id": "lorLHSkzClzC",
        "colab_type": "text"
      },
      "source": [
        "### Seven templates\n",
        "Training Kit (https://learn.lambdaschool.com/ds/module/recedjanlbpqxic2r) explains the seven templates from Priceonomics.\n",
        "\n",
        "Can you apply the templates to your topics?\n",
        "\n",
        "**Geographic Variation:**\n",
        "\n",
        "Stockholm, Sweden is the HQ for the enitre operations. \n",
        "**Trend related to the news:**\n",
        "\n",
        "With the growing concern for public awarness, what is the relationship in the context of new music. \n",
        "\n",
        "**Who does that?:**\n",
        "\n",
        "As of March 2018, Spotify’s user base was dominated by Millennials, with 29 percent of its users aged 25 to 34 and 26 percent aged between 18 and 24 years old. \n",
        "\n",
        "**Answering a question people care about:**\n",
        "\n",
        "What is the average number of skips for a song and how do it correlate with self-awareness. \n",
        "\n",
        "**Valuable to businesses:**\n",
        "\n",
        "With a platform dedicated to \"unlocking the potential of human creativity\" one has to ask in what ways can the music listening experience inspire consistent human creativity witih the aid of interface development. \n",
        "\n",
        "\n",
        "**What's the most popular?:**\n",
        "\n",
        "Who is the #1 artist on Spotify 2020?\n",
        "As of May 2020, Drake has the most monthly listeners on Spotify, and Ed Sheeran has the most followers.\n",
        "\n",
        "**Cost/Money rankings:**\n",
        "\n",
        "Cost Expenses. The 'Rockstar' rapper was Spotify's most streamed artists around the world in 2019, clocking up 6.5 billion streams. Based on the Swedish streaming platform's going rate of about US$0.00437 per play, that's roughly US28. 4 million or A$41.5 million.Dec 9, 2019\n",
        "https://thumbor.forbes.com/thumbor/960x0/https%3A%2F%2Fblogs-images.forbes.com%2Fmikeozanian%2Ffiles%2F2019%2F02%2FSpotify-e1549555369314.jpg"
      ]
    },
    {
      "cell_type": "markdown",
      "metadata": {
        "id": "cjxeN9D7Cygt",
        "colab_type": "text"
      },
      "source": [
        ""
      ]
    },
    {
      "cell_type": "markdown",
      "metadata": {
        "id": "3OXCCIT6C_p0",
        "colab_type": "text"
      },
      "source": [
        "### Misconceptions\n",
        "\n",
        "What misconceptions do people have about your topic?\n",
        "\n",
        "Initially, there is the freedom of uncontrolled music streaming. "
      ]
    },
    {
      "cell_type": "markdown",
      "metadata": {
        "id": "3tNrndE9DD3-",
        "colab_type": "text"
      },
      "source": [
        "### Examples\n",
        "\n",
        "What data storytelling example inspires you?\n",
        "\n",
        "Creating visualizations to further express different soft layers of music theory. \n",
        "\n",
        "Could you do a new hypothesis, for the same question?\n",
        "\n",
        "Do you know music theory.?\n",
        "\n",
        "Could you do a new question, for the same topic?\n",
        "\n",
        "Could you do a new topic, with the same \"style\"?\n",
        "\n",
        "Not sure what\" style\" is refered to here. "
      ]
    },
    {
      "cell_type": "markdown",
      "metadata": {
        "id": "9rPtMFB6DN7B",
        "colab_type": "text"
      },
      "source": [
        "###Data\n",
        "\n",
        "Where could you search for data about your topic?\n",
        "\n",
        "Google Search or any websites containing datasets. "
      ]
    },
    {
      "cell_type": "markdown",
      "metadata": {
        "id": "s9hqjOlhDTDa",
        "colab_type": "text"
      },
      "source": [
        ""
      ]
    },
    {
      "cell_type": "markdown",
      "metadata": {
        "colab_type": "text",
        "id": "ld5MOaFaDVSK"
      },
      "source": [
        "---\n",
        "\n",
        "## Idea 2:"
      ]
    },
    {
      "cell_type": "markdown",
      "metadata": {
        "colab_type": "text",
        "id": "znhTWIlUDVSM"
      },
      "source": [
        "### You\n",
        "What do you care about?\n",
        "\n",
        "Animals\n",
        "\n",
        "What do you know about?\n",
        "\n",
        "Dogs are very loving creatures\n",
        "\n",
        "What decisions do you face?\n",
        "\n",
        "Should I get an Aussie.\n",
        "\n"
      ]
    },
    {
      "cell_type": "markdown",
      "metadata": {
        "colab_type": "text",
        "id": "3Gln5mYeDVSM"
      },
      "source": [
        ""
      ]
    },
    {
      "cell_type": "markdown",
      "metadata": {
        "colab_type": "text",
        "id": "W-njBredDVSN"
      },
      "source": [
        "### Seven templates\n",
        "Training Kit (https://learn.lambdaschool.com/ds/module/recedjanlbpqxic2r) explains the seven templates from Priceonomics.\n",
        "\n",
        "Can you apply the templates to your topics?\n",
        "\n",
        "**Geographic Variation:**\n",
        "\n",
        "United States most popular breed\n",
        "\n",
        "**Trend related to the news:**\n",
        "\n",
        "With everything currently going on, what is the need of a support animal. \n",
        "\n",
        "**Who does that?:**\n",
        "\n",
        "https://www.thekennelclub.org.uk/media/685387/australian_shepherd.pdf\n",
        "\n",
        "**Answering a question people care about:**\n",
        "\n",
        "What are the underlying causes two inherited cancers: Hemangiosarcoma and lymphoma.\n",
        "\n",
        "**Valuable to businesses:**\n",
        "\n",
        "If there were factual research looking further into underlying causes of the various cancers these dogs will run into, there could be an interest business looking at the information\n",
        "\n",
        "**What's the most popular?:**\n",
        "\n",
        "Australian Shepherds are very popular with dog sport enthusiasts. Their unique mix of athleticism and intelligence makes them great at agility, obedience, canicross, dock jumping, treibball, nosework… absolutely any dog sport. They also love going to the dog beach or park for frisbee, fetch, and unstructured playtime.\n",
        "\n",
        "**Cost/Money rankings:**\n",
        "\n",
        "https://www.bubblypet.com/australian-shepherd-price-and-expenses/"
      ]
    },
    {
      "cell_type": "markdown",
      "metadata": {
        "colab_type": "text",
        "id": "pkOqHHL3DVSN"
      },
      "source": [
        "Fees and neccessities add up very quickly\n"
      ]
    },
    {
      "cell_type": "markdown",
      "metadata": {
        "colab_type": "text",
        "id": "njLQ3hLuDVSO"
      },
      "source": [
        "### Misconceptions\n",
        "\n",
        "What misconceptions do people have about your topic?\n",
        "\n",
        "Perhaps the biggest misconception of the Australian Shepherd is their origin story. Despite popular belief, largely due to their name, the Aussie is not from Australia. Rather, they originated from the United States. "
      ]
    },
    {
      "cell_type": "markdown",
      "metadata": {
        "colab_type": "text",
        "id": "IzrUvaKeDVSO"
      },
      "source": [
        ""
      ]
    },
    {
      "cell_type": "markdown",
      "metadata": {
        "colab_type": "text",
        "id": "L0X6X5WaDVSP"
      },
      "source": [
        "### Examples\n",
        "\n",
        "What data storytelling example inspires you?\n",
        "\n",
        "The effective merge of hard data and human communication. \n",
        "\n",
        "\n",
        "Could you do a new hypothesis, for the same question?\n",
        "Is their cancer genetic or can it be avoided.\n",
        "\n",
        "Could you do a new question, for the same topic?\n",
        "\n",
        "Is there a direct relationship to ingredients in food and the risk of awakening the cancer cells in Australian Shepards. \n",
        "\n",
        "Could you do a new topic, with the same \"style\"?\n",
        "\n",
        "Not sure what \"style\" refers to. "
      ]
    },
    {
      "cell_type": "markdown",
      "metadata": {
        "colab_type": "text",
        "id": "fDdHExa0DVSP"
      },
      "source": [
        ""
      ]
    },
    {
      "cell_type": "markdown",
      "metadata": {
        "colab_type": "text",
        "id": "CxgSpiwYDVSQ"
      },
      "source": [
        "###Data\n",
        "\n",
        "Where could you search for data about your topic?\n",
        "\n",
        "Google Search and Kennel Associations and other informative journals. "
      ]
    },
    {
      "cell_type": "markdown",
      "metadata": {
        "id": "uWgWjp3PQ3Sq",
        "colab_type": "text"
      },
      "source": [
        "## Resources"
      ]
    },
    {
      "cell_type": "markdown",
      "metadata": {
        "id": "QRgHqmYIQ9qn",
        "colab_type": "text"
      },
      "source": [
        "- [Worked example of Bayes rule calculation](https://en.wikipedia.org/wiki/Bayes'_theorem#Examples) (helpful as it fully breaks out the denominator)\n",
        "- [Source code for mvsdist in scipy](https://github.com/scipy/scipy/blob/90534919e139d2a81c24bf08341734ff41a3db12/scipy/stats/morestats.py#L139)"
      ]
    },
    {
      "cell_type": "markdown",
      "metadata": {
        "id": "GP7Jv1XvwtkX",
        "colab_type": "text"
      },
      "source": [
        "## Stretch Goals:\n",
        "\n",
        "- Go back and study the content from Modules 1 & 2 & 3 to make sure that you're really comfortable with them.\n",
        "- Apply a Bayesian technique to a problem you previously worked (in an assignment or project work) on from a frequentist (standard) perspective\n",
        "- Check out [PyMC3](https://docs.pymc.io/) (note this goes beyond hypothesis tests into modeling) - read the guides and work through some examples\n",
        "- Take PyMC3 further - see if you can build something with it!"
      ]
    }
  ]
}