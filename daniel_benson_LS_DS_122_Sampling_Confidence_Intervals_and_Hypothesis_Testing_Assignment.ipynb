{
  "nbformat": 4,
  "nbformat_minor": 0,
  "metadata": {
    "colab": {
      "name": "daniel_benson_LS_DS_122_Sampling_Confidence_Intervals_and_Hypothesis_Testing_Assignment.ipynb",
      "provenance": [],
      "collapsed_sections": [],
      "include_colab_link": true
    },
    "kernelspec": {
      "name": "python3",
      "display_name": "Python 3"
    }
  },
  "cells": [
    {
      "cell_type": "markdown",
      "metadata": {
        "id": "view-in-github",
        "colab_type": "text"
      },
      "source": [
        "<a href=\"https://colab.research.google.com/github/Daniel-Benson-Poe/DS-Unit-1-Sprint-2-Statistics/blob/master/daniel_benson_LS_DS_122_Sampling_Confidence_Intervals_and_Hypothesis_Testing_Assignment.ipynb\" target=\"_parent\"><img src=\"https://colab.research.google.com/assets/colab-badge.svg\" alt=\"Open In Colab\"/></a>"
      ]
    },
    {
      "cell_type": "markdown",
      "metadata": {
        "id": "11OzdxWTM7UR",
        "colab_type": "text"
      },
      "source": [
        "## Assignment - Build a confidence interval\n",
        "\n",
        "A confidence interval refers to a neighborhood around some point estimate, the size of which is determined by the desired p-value. For instance, we might say that 52% of Americans prefer tacos to burritos, with a 95% confidence interval of +/- 5%.\n",
        "\n",
        "52% (0.52) is the point estimate, and +/- 5% (the interval $[0.47, 0.57]$) is the confidence interval. \"95% confidence\" means a p-value $\\leq 1 - 0.95 = 0.05$.\n",
        "\n",
        "In this case, the confidence interval includes $0.5$ - which is the natural null hypothesis (that half of Americans prefer tacos and half burritos, thus there is no clear favorite). So in this case, we could use the confidence interval to report that we've failed to reject the null hypothesis.\n",
        "\n",
        "But providing the full analysis with a confidence interval, including a graphical representation of it, can be a helpful and powerful way to tell your story. Done well, it is also more intuitive to a layperson than simply saying \"fail to reject the null hypothesis\" - it shows that in fact the data does *not* give a single clear result (the point estimate) but a whole range of possibilities.\n",
        "\n",
        "How is a confidence interval built, and how should it be interpreted? It does *not* mean that 95% of the data lies in that interval - instead, the frequentist interpretation is \"if we were to repeat this experiment 100 times, we would expect the average result to lie in this interval ~95 times.\"\n",
        "\n",
        "For a 95% confidence interval and a normal(-ish) distribution, you can simply remember that +/-2 standard deviations contains 95% of the probability mass, and so the 95% confidence interval based on a given sample is centered at the mean (point estimate) and has a range of +/- 2 (or technically 1.96) standard deviations.\n",
        "\n",
        "Different distributions/assumptions (90% confidence, 99% confidence) will require different math, but the overall process and interpretation (with a frequentist approach) will be the same.\n",
        "\n",
        "Your assignment - using the data from the prior module ([congressional voting records](https://archive.ics.uci.edu/ml/datasets/Congressional+Voting+Records)):\n",
        "\n",
        "\n",
        "### Confidence Intervals:\n",
        "1. Generate and numerically represent a confidence interval\n",
        "2. Graphically (with a plot) represent the confidence interval\n",
        "3. Interpret the confidence interval - what does it tell you about the data and its distribution?\n",
        "\n",
        "### Chi-squared tests:\n",
        "4. Take a dataset that we have used in the past in class that has **categorical** variables. Pick two of those categorical variables and run a chi-squared tests on that data\n",
        "  - By hand using Numpy\n",
        "  - In a single line using Scipy\n"
      ]
    },
    {
      "cell_type": "code",
      "metadata": {
        "id": "Ckcr4A4FM7cs",
        "colab_type": "code",
        "colab": {}
      },
      "source": [
        "# Imports\n",
        "from scipy.stats import ttest_ind, ttest_1samp, t\n",
        "import scipy.stats as stats\n",
        "import numpy as np\n",
        "import pandas as pd\n",
        "import matplotlib.pyplot as plt\n",
        "import seaborn as sns"
      ],
      "execution_count": 0,
      "outputs": []
    },
    {
      "cell_type": "code",
      "metadata": {
        "id": "XFdwO0DlLiSc",
        "colab_type": "code",
        "colab": {}
      },
      "source": [
        "# Create url and column names\n",
        "url = 'https://archive.ics.uci.edu/ml/machine-learning-databases/voting-records/house-votes-84.data'\n",
        "house_columns = ['Class Name', 'handicapped-infants', 'water-project-cost-sharing', \n",
        "           'adoption-of-the-budget-resolution', 'physician-fee-freeze', \n",
        "           'el-salvador-aid', 'religious-groups-in-schools', \n",
        "           'anti-satellite-test-ban', 'aid-to-nicaraguan-contras', 'mx-missile',\n",
        "           'immigration', 'synfuels-corporation-cutback', 'education-spending',\n",
        "           'superfund-right-to-sue', 'crime', 'duty-free-exports', \n",
        "           'export-administration-act-south-africa']"
      ],
      "execution_count": 0,
      "outputs": []
    },
    {
      "cell_type": "code",
      "metadata": {
        "id": "daxS8fC4LiwL",
        "colab_type": "code",
        "outputId": "6cfc91dc-0158-4586-a5ce-0027b5d8e2d7",
        "colab": {
          "base_uri": "https://localhost:8080/",
          "height": 275
        }
      },
      "source": [
        "# Read in the data\n",
        "df = pd.read_csv(url, header=None, names=house_columns, na_values='?')\n",
        "df.head()"
      ],
      "execution_count": 3,
      "outputs": [
        {
          "output_type": "execute_result",
          "data": {
            "text/html": [
              "<div>\n",
              "<style scoped>\n",
              "    .dataframe tbody tr th:only-of-type {\n",
              "        vertical-align: middle;\n",
              "    }\n",
              "\n",
              "    .dataframe tbody tr th {\n",
              "        vertical-align: top;\n",
              "    }\n",
              "\n",
              "    .dataframe thead th {\n",
              "        text-align: right;\n",
              "    }\n",
              "</style>\n",
              "<table border=\"1\" class=\"dataframe\">\n",
              "  <thead>\n",
              "    <tr style=\"text-align: right;\">\n",
              "      <th></th>\n",
              "      <th>Class Name</th>\n",
              "      <th>handicapped-infants</th>\n",
              "      <th>water-project-cost-sharing</th>\n",
              "      <th>adoption-of-the-budget-resolution</th>\n",
              "      <th>physician-fee-freeze</th>\n",
              "      <th>el-salvador-aid</th>\n",
              "      <th>religious-groups-in-schools</th>\n",
              "      <th>anti-satellite-test-ban</th>\n",
              "      <th>aid-to-nicaraguan-contras</th>\n",
              "      <th>mx-missile</th>\n",
              "      <th>immigration</th>\n",
              "      <th>synfuels-corporation-cutback</th>\n",
              "      <th>education-spending</th>\n",
              "      <th>superfund-right-to-sue</th>\n",
              "      <th>crime</th>\n",
              "      <th>duty-free-exports</th>\n",
              "      <th>export-administration-act-south-africa</th>\n",
              "    </tr>\n",
              "  </thead>\n",
              "  <tbody>\n",
              "    <tr>\n",
              "      <th>0</th>\n",
              "      <td>republican</td>\n",
              "      <td>n</td>\n",
              "      <td>y</td>\n",
              "      <td>n</td>\n",
              "      <td>y</td>\n",
              "      <td>y</td>\n",
              "      <td>y</td>\n",
              "      <td>n</td>\n",
              "      <td>n</td>\n",
              "      <td>n</td>\n",
              "      <td>y</td>\n",
              "      <td>NaN</td>\n",
              "      <td>y</td>\n",
              "      <td>y</td>\n",
              "      <td>y</td>\n",
              "      <td>n</td>\n",
              "      <td>y</td>\n",
              "    </tr>\n",
              "    <tr>\n",
              "      <th>1</th>\n",
              "      <td>republican</td>\n",
              "      <td>n</td>\n",
              "      <td>y</td>\n",
              "      <td>n</td>\n",
              "      <td>y</td>\n",
              "      <td>y</td>\n",
              "      <td>y</td>\n",
              "      <td>n</td>\n",
              "      <td>n</td>\n",
              "      <td>n</td>\n",
              "      <td>n</td>\n",
              "      <td>n</td>\n",
              "      <td>y</td>\n",
              "      <td>y</td>\n",
              "      <td>y</td>\n",
              "      <td>n</td>\n",
              "      <td>NaN</td>\n",
              "    </tr>\n",
              "    <tr>\n",
              "      <th>2</th>\n",
              "      <td>democrat</td>\n",
              "      <td>NaN</td>\n",
              "      <td>y</td>\n",
              "      <td>y</td>\n",
              "      <td>NaN</td>\n",
              "      <td>y</td>\n",
              "      <td>y</td>\n",
              "      <td>n</td>\n",
              "      <td>n</td>\n",
              "      <td>n</td>\n",
              "      <td>n</td>\n",
              "      <td>y</td>\n",
              "      <td>n</td>\n",
              "      <td>y</td>\n",
              "      <td>y</td>\n",
              "      <td>n</td>\n",
              "      <td>n</td>\n",
              "    </tr>\n",
              "    <tr>\n",
              "      <th>3</th>\n",
              "      <td>democrat</td>\n",
              "      <td>n</td>\n",
              "      <td>y</td>\n",
              "      <td>y</td>\n",
              "      <td>n</td>\n",
              "      <td>NaN</td>\n",
              "      <td>y</td>\n",
              "      <td>n</td>\n",
              "      <td>n</td>\n",
              "      <td>n</td>\n",
              "      <td>n</td>\n",
              "      <td>y</td>\n",
              "      <td>n</td>\n",
              "      <td>y</td>\n",
              "      <td>n</td>\n",
              "      <td>n</td>\n",
              "      <td>y</td>\n",
              "    </tr>\n",
              "    <tr>\n",
              "      <th>4</th>\n",
              "      <td>democrat</td>\n",
              "      <td>y</td>\n",
              "      <td>y</td>\n",
              "      <td>y</td>\n",
              "      <td>n</td>\n",
              "      <td>y</td>\n",
              "      <td>y</td>\n",
              "      <td>n</td>\n",
              "      <td>n</td>\n",
              "      <td>n</td>\n",
              "      <td>n</td>\n",
              "      <td>y</td>\n",
              "      <td>NaN</td>\n",
              "      <td>y</td>\n",
              "      <td>y</td>\n",
              "      <td>y</td>\n",
              "      <td>y</td>\n",
              "    </tr>\n",
              "  </tbody>\n",
              "</table>\n",
              "</div>"
            ],
            "text/plain": [
              "   Class Name  ... export-administration-act-south-africa\n",
              "0  republican  ...                                      y\n",
              "1  republican  ...                                    NaN\n",
              "2    democrat  ...                                      n\n",
              "3    democrat  ...                                      y\n",
              "4    democrat  ...                                      y\n",
              "\n",
              "[5 rows x 17 columns]"
            ]
          },
          "metadata": {
            "tags": []
          },
          "execution_count": 3
        }
      ]
    },
    {
      "cell_type": "code",
      "metadata": {
        "id": "cM7BQn9ERCuQ",
        "colab_type": "code",
        "outputId": "f3f017fe-f67e-4737-efd5-f4445ca9543d",
        "colab": {
          "base_uri": "https://localhost:8080/",
          "height": 275
        }
      },
      "source": [
        "# Turn objects into usable numbers\n",
        "df = df.replace({'y':1, 'n':0})\n",
        "df.head()"
      ],
      "execution_count": 4,
      "outputs": [
        {
          "output_type": "execute_result",
          "data": {
            "text/html": [
              "<div>\n",
              "<style scoped>\n",
              "    .dataframe tbody tr th:only-of-type {\n",
              "        vertical-align: middle;\n",
              "    }\n",
              "\n",
              "    .dataframe tbody tr th {\n",
              "        vertical-align: top;\n",
              "    }\n",
              "\n",
              "    .dataframe thead th {\n",
              "        text-align: right;\n",
              "    }\n",
              "</style>\n",
              "<table border=\"1\" class=\"dataframe\">\n",
              "  <thead>\n",
              "    <tr style=\"text-align: right;\">\n",
              "      <th></th>\n",
              "      <th>Class Name</th>\n",
              "      <th>handicapped-infants</th>\n",
              "      <th>water-project-cost-sharing</th>\n",
              "      <th>adoption-of-the-budget-resolution</th>\n",
              "      <th>physician-fee-freeze</th>\n",
              "      <th>el-salvador-aid</th>\n",
              "      <th>religious-groups-in-schools</th>\n",
              "      <th>anti-satellite-test-ban</th>\n",
              "      <th>aid-to-nicaraguan-contras</th>\n",
              "      <th>mx-missile</th>\n",
              "      <th>immigration</th>\n",
              "      <th>synfuels-corporation-cutback</th>\n",
              "      <th>education-spending</th>\n",
              "      <th>superfund-right-to-sue</th>\n",
              "      <th>crime</th>\n",
              "      <th>duty-free-exports</th>\n",
              "      <th>export-administration-act-south-africa</th>\n",
              "    </tr>\n",
              "  </thead>\n",
              "  <tbody>\n",
              "    <tr>\n",
              "      <th>0</th>\n",
              "      <td>republican</td>\n",
              "      <td>0.0</td>\n",
              "      <td>1.0</td>\n",
              "      <td>0.0</td>\n",
              "      <td>1.0</td>\n",
              "      <td>1.0</td>\n",
              "      <td>1.0</td>\n",
              "      <td>0.0</td>\n",
              "      <td>0.0</td>\n",
              "      <td>0.0</td>\n",
              "      <td>1.0</td>\n",
              "      <td>NaN</td>\n",
              "      <td>1.0</td>\n",
              "      <td>1.0</td>\n",
              "      <td>1.0</td>\n",
              "      <td>0.0</td>\n",
              "      <td>1.0</td>\n",
              "    </tr>\n",
              "    <tr>\n",
              "      <th>1</th>\n",
              "      <td>republican</td>\n",
              "      <td>0.0</td>\n",
              "      <td>1.0</td>\n",
              "      <td>0.0</td>\n",
              "      <td>1.0</td>\n",
              "      <td>1.0</td>\n",
              "      <td>1.0</td>\n",
              "      <td>0.0</td>\n",
              "      <td>0.0</td>\n",
              "      <td>0.0</td>\n",
              "      <td>0.0</td>\n",
              "      <td>0.0</td>\n",
              "      <td>1.0</td>\n",
              "      <td>1.0</td>\n",
              "      <td>1.0</td>\n",
              "      <td>0.0</td>\n",
              "      <td>NaN</td>\n",
              "    </tr>\n",
              "    <tr>\n",
              "      <th>2</th>\n",
              "      <td>democrat</td>\n",
              "      <td>NaN</td>\n",
              "      <td>1.0</td>\n",
              "      <td>1.0</td>\n",
              "      <td>NaN</td>\n",
              "      <td>1.0</td>\n",
              "      <td>1.0</td>\n",
              "      <td>0.0</td>\n",
              "      <td>0.0</td>\n",
              "      <td>0.0</td>\n",
              "      <td>0.0</td>\n",
              "      <td>1.0</td>\n",
              "      <td>0.0</td>\n",
              "      <td>1.0</td>\n",
              "      <td>1.0</td>\n",
              "      <td>0.0</td>\n",
              "      <td>0.0</td>\n",
              "    </tr>\n",
              "    <tr>\n",
              "      <th>3</th>\n",
              "      <td>democrat</td>\n",
              "      <td>0.0</td>\n",
              "      <td>1.0</td>\n",
              "      <td>1.0</td>\n",
              "      <td>0.0</td>\n",
              "      <td>NaN</td>\n",
              "      <td>1.0</td>\n",
              "      <td>0.0</td>\n",
              "      <td>0.0</td>\n",
              "      <td>0.0</td>\n",
              "      <td>0.0</td>\n",
              "      <td>1.0</td>\n",
              "      <td>0.0</td>\n",
              "      <td>1.0</td>\n",
              "      <td>0.0</td>\n",
              "      <td>0.0</td>\n",
              "      <td>1.0</td>\n",
              "    </tr>\n",
              "    <tr>\n",
              "      <th>4</th>\n",
              "      <td>democrat</td>\n",
              "      <td>1.0</td>\n",
              "      <td>1.0</td>\n",
              "      <td>1.0</td>\n",
              "      <td>0.0</td>\n",
              "      <td>1.0</td>\n",
              "      <td>1.0</td>\n",
              "      <td>0.0</td>\n",
              "      <td>0.0</td>\n",
              "      <td>0.0</td>\n",
              "      <td>0.0</td>\n",
              "      <td>1.0</td>\n",
              "      <td>NaN</td>\n",
              "      <td>1.0</td>\n",
              "      <td>1.0</td>\n",
              "      <td>1.0</td>\n",
              "      <td>1.0</td>\n",
              "    </tr>\n",
              "  </tbody>\n",
              "</table>\n",
              "</div>"
            ],
            "text/plain": [
              "   Class Name  ...  export-administration-act-south-africa\n",
              "0  republican  ...                                     1.0\n",
              "1  republican  ...                                     NaN\n",
              "2    democrat  ...                                     0.0\n",
              "3    democrat  ...                                     1.0\n",
              "4    democrat  ...                                     1.0\n",
              "\n",
              "[5 rows x 17 columns]"
            ]
          },
          "metadata": {
            "tags": []
          },
          "execution_count": 4
        }
      ]
    },
    {
      "cell_type": "code",
      "metadata": {
        "id": "4dNk0TwwLjF5",
        "colab_type": "code",
        "colab": {}
      },
      "source": [
        "# Create our confidence interval \n",
        "def confidence_interval(data, confidence=0.95):\n",
        "  \"\"\"\n",
        "  Calculate confidence interval using a sample mean from specified data.\n",
        "  Uses t-distribution and 2-tailed test with a default confidence of 0.95\n",
        "\n",
        "  Arguments: \n",
        "  data - iterable (list or numpy array) of sample observations\n",
        "  confidence - confidence level for the interval\n",
        "\n",
        "  Return:\n",
        "  tuple (mean, lower-bound, upper-bound)\n",
        "  \"\"\"\n",
        "  data = np.array(data) # Sets data into numpy array\n",
        "  mean = np.nanmean(data) # Creates a mean of the data, ignoring nan values\n",
        "  n = len(data) # Sets n to the length of the data\n",
        "  stderr = np.nanstd(data, ddof=1)/np.sqrt(n) # Creates our standard deviation error ignoring nan values\n",
        "  moe = stderr * stats.t.ppf((1 + confidence) / 2.0, n-1) # Looks up corresponding t-stat\n",
        "  return (mean, mean-moe, mean+moe)"
      ],
      "execution_count": 0,
      "outputs": []
    },
    {
      "cell_type": "code",
      "metadata": {
        "id": "dqdJI8vbLjV_",
        "colab_type": "code",
        "outputId": "b2132855-5f60-4ed3-c559-136b10f5b6fc",
        "colab": {
          "base_uri": "https://localhost:8080/",
          "height": 34
        }
      },
      "source": [
        "# Let's use this on some data! First check our shape.\n",
        "df.shape"
      ],
      "execution_count": 6,
      "outputs": [
        {
          "output_type": "execute_result",
          "data": {
            "text/plain": [
              "(435, 17)"
            ]
          },
          "metadata": {
            "tags": []
          },
          "execution_count": 6
        }
      ]
    },
    {
      "cell_type": "code",
      "metadata": {
        "id": "UH-a60CILjo2",
        "colab_type": "code",
        "outputId": "f1b94e53-6cc8-4dd3-c055-0b9d5d96cf13",
        "colab": {
          "base_uri": "https://localhost:8080/",
          "height": 51
        }
      },
      "source": [
        "# Seperate into two seperate groups: Republican and Democrat\n",
        "republican = df[df['Class Name']=='republican']\n",
        "democrat = df[df['Class Name']=='democrat']\n",
        "print(republican.shape)\n",
        "print(democrat.shape)"
      ],
      "execution_count": 7,
      "outputs": [
        {
          "output_type": "stream",
          "text": [
            "(168, 17)\n",
            "(267, 17)\n"
          ],
          "name": "stdout"
        }
      ]
    },
    {
      "cell_type": "code",
      "metadata": {
        "id": "tUCcHld2LkFN",
        "colab_type": "code",
        "outputId": "10b969a6-a3c4-46de-d06b-13ecbd388119",
        "colab": {
          "base_uri": "https://localhost:8080/",
          "height": 34
        }
      },
      "source": [
        "# Test out the cofidence interval on republican support for handicapped-infants column first\n",
        "rep_handi_inf = republican['handicapped-infants']\n",
        "rep_conf_int = confidence_interval(rep_handi_inf) # (returns: mean, lower-bound, upper-bound)\n",
        "rep_conf_int"
      ],
      "execution_count": 8,
      "outputs": [
        {
          "output_type": "execute_result",
          "data": {
            "text/plain": [
              "(0.18787878787878787, 0.12819979769991746, 0.24755777805765827)"
            ]
          },
          "metadata": {
            "tags": []
          },
          "execution_count": 8
        }
      ]
    },
    {
      "cell_type": "code",
      "metadata": {
        "id": "W25d6JruLkVZ",
        "colab_type": "code",
        "colab": {}
      },
      "source": [
        "# The above return means that the mean republican support of the handicapped-infants\n",
        "# bill is 18.7%, with a 95% confidence that the support will fall between \n",
        "# the lower-bound 12.8% and the upper-bound 24.7%"
      ],
      "execution_count": 0,
      "outputs": []
    },
    {
      "cell_type": "code",
      "metadata": {
        "id": "5LyoQ_Q5gwrR",
        "colab_type": "code",
        "outputId": "46d30c72-e3bb-40cb-ca4f-0762b6c417af",
        "colab": {
          "base_uri": "https://localhost:8080/",
          "height": 68
        }
      },
      "source": [
        "rep_handi_inf.value_counts()"
      ],
      "execution_count": 10,
      "outputs": [
        {
          "output_type": "execute_result",
          "data": {
            "text/plain": [
              "0.0    134\n",
              "1.0     31\n",
              "Name: handicapped-infants, dtype: int64"
            ]
          },
          "metadata": {
            "tags": []
          },
          "execution_count": 10
        }
      ]
    },
    {
      "cell_type": "code",
      "metadata": {
        "id": "k3HMCkCkdJKl",
        "colab_type": "code",
        "colab": {}
      },
      "source": [
        "# Create functions to deal with nan values\n",
        "def rep_column(column):\n",
        "  rep_col = republican[column]\n",
        "  rep_no_nans = rep_col[~np.isnan(rep_col)]\n",
        "  return rep_no_nans"
      ],
      "execution_count": 0,
      "outputs": []
    },
    {
      "cell_type": "code",
      "metadata": {
        "id": "qsg2FVhodd2b",
        "colab_type": "code",
        "colab": {}
      },
      "source": [
        "def dem_column(column):\n",
        "  dem_col = democrat[column]\n",
        "  dem_no_nans = dem_col[~np.isnan(dem_col)]\n",
        "  return dem_no_nans"
      ],
      "execution_count": 0,
      "outputs": []
    },
    {
      "cell_type": "code",
      "metadata": {
        "id": "oHA_ux9CdAmp",
        "colab_type": "code",
        "outputId": "0c4d2de7-3b00-438f-fae5-53c9866897bf",
        "colab": {
          "base_uri": "https://localhost:8080/",
          "height": 68
        }
      },
      "source": [
        "rep_handi_no_nans = rep_column('handicapped-infants')\n",
        "rep_handi_no_nans.value_counts()"
      ],
      "execution_count": 13,
      "outputs": [
        {
          "output_type": "execute_result",
          "data": {
            "text/plain": [
              "0.0    134\n",
              "1.0     31\n",
              "Name: handicapped-infants, dtype: int64"
            ]
          },
          "metadata": {
            "tags": []
          },
          "execution_count": 13
        }
      ]
    },
    {
      "cell_type": "code",
      "metadata": {
        "id": "qdfu6O_1Lkke",
        "colab_type": "code",
        "outputId": "b5f8df6a-a18a-4fae-d93b-9574e1cddf06",
        "colab": {
          "base_uri": "https://localhost:8080/",
          "height": 265
        }
      },
      "source": [
        "# Let's explore this graphically using kernel density estimate (kde)\n",
        "sns.kdeplot(rep_handi_no_nans, legend=False)\n",
        "# Add vline to display lower-bound\n",
        "plt.axvline(x=rep_conf_int[1], color='red')\n",
        "# Add vline to display upper-bound\n",
        "plt.axvline(x=rep_conf_int[2], color='red')\n",
        "# Add vline to display mean\n",
        "plt.axvline(x=rep_conf_int[0], color='k');"
      ],
      "execution_count": 14,
      "outputs": [
        {
          "output_type": "display_data",
          "data": {
            "image/png": "[encoded data removed]",
            "text/plain": [
              "<Figure size 432x288 with 1 Axes>"
            ]
          },
          "metadata": {
            "tags": []
          }
        }
      ]
    },
    {
      "cell_type": "code",
      "metadata": {
        "id": "OChXzUo5c_mx",
        "colab_type": "code",
        "outputId": "072d0c1a-50f7-4423-be2d-f72194abd6f3",
        "colab": {
          "base_uri": "https://localhost:8080/",
          "height": 34
        }
      },
      "source": [
        "  # Let's check the democratic side! \n",
        "dem_handi_inf = democrat['handicapped-infants']\n",
        "dem_conf_int = confidence_interval(dem_handi_inf)\n",
        "dem_conf_int"
      ],
      "execution_count": 15,
      "outputs": [
        {
          "output_type": "execute_result",
          "data": {
            "text/plain": [
              "(0.6046511627906976, 0.5456230466811521, 0.6636792789002431)"
            ]
          },
          "metadata": {
            "tags": []
          },
          "execution_count": 15
        }
      ]
    },
    {
      "cell_type": "code",
      "metadata": {
        "id": "tlLgkV-gLlLn",
        "colab_type": "code",
        "outputId": "41fd2b33-abcc-4fc9-9341-a66d3eeda9f9",
        "colab": {
          "base_uri": "https://localhost:8080/",
          "height": 68
        }
      },
      "source": [
        "dem_handi_inf.value_counts()"
      ],
      "execution_count": 16,
      "outputs": [
        {
          "output_type": "execute_result",
          "data": {
            "text/plain": [
              "1.0    156\n",
              "0.0    102\n",
              "Name: handicapped-infants, dtype: int64"
            ]
          },
          "metadata": {
            "tags": []
          },
          "execution_count": 16
        }
      ]
    },
    {
      "cell_type": "code",
      "metadata": {
        "id": "N1XbRO0sLl3K",
        "colab_type": "code",
        "outputId": "3eb5124b-0697-41af-a2de-063ea8f5ec61",
        "colab": {
          "base_uri": "https://localhost:8080/",
          "height": 68
        }
      },
      "source": [
        "dem_handi_no_nans = dem_column('handicapped-infants')\n",
        "dem_handi_no_nans.value_counts()\n"
      ],
      "execution_count": 17,
      "outputs": [
        {
          "output_type": "execute_result",
          "data": {
            "text/plain": [
              "1.0    156\n",
              "0.0    102\n",
              "Name: handicapped-infants, dtype: int64"
            ]
          },
          "metadata": {
            "tags": []
          },
          "execution_count": 17
        }
      ]
    },
    {
      "cell_type": "code",
      "metadata": {
        "id": "tXkAmKMgLmIN",
        "colab_type": "code",
        "outputId": "fd24fd24-4906-4825-a7aa-3466aa10d551",
        "colab": {
          "base_uri": "https://localhost:8080/",
          "height": 265
        }
      },
      "source": [
        "# Explore graphically using kernel density \n",
        "sns.kdeplot(dem_handi_no_nans, legend=False)\n",
        "plt.axvline(x=dem_conf_int[1], color='red')\n",
        "plt.axvline(x=dem_conf_int[2], color='red')\n",
        "plt.axvline(x=dem_conf_int[0], color='k');"
      ],
      "execution_count": 18,
      "outputs": [
        {
          "output_type": "display_data",
          "data": {
            "image/png": "[encoded data removed]",
            "text/plain": [
              "<Figure size 432x288 with 1 Axes>"
            ]
          },
          "metadata": {
            "tags": []
          }
        }
      ]
    },
    {
      "cell_type": "code",
      "metadata": {
        "id": "Mj40H4IOK4Mq",
        "colab_type": "code",
        "outputId": "5a1eec42-9947-43c5-bfb7-272a94f4a733",
        "colab": {
          "base_uri": "https://localhost:8080/",
          "height": 153
        }
      },
      "source": [
        "# Let's compare others! Let's look at our columns again to see what we have to work with\n",
        "df.columns"
      ],
      "execution_count": 19,
      "outputs": [
        {
          "output_type": "execute_result",
          "data": {
            "text/plain": [
              "Index(['Class Name', 'handicapped-infants', 'water-project-cost-sharing',\n",
              "       'adoption-of-the-budget-resolution', 'physician-fee-freeze',\n",
              "       'el-salvador-aid', 'religious-groups-in-schools',\n",
              "       'anti-satellite-test-ban', 'aid-to-nicaraguan-contras', 'mx-missile',\n",
              "       'immigration', 'synfuels-corporation-cutback', 'education-spending',\n",
              "       'superfund-right-to-sue', 'crime', 'duty-free-exports',\n",
              "       'export-administration-act-south-africa'],\n",
              "      dtype='object')"
            ]
          },
          "metadata": {
            "tags": []
          },
          "execution_count": 19
        }
      ]
    },
    {
      "cell_type": "code",
      "metadata": {
        "id": "tU-HUkyoK4Tu",
        "colab_type": "code",
        "outputId": "6330112c-8f64-4fbc-e715-f262ed06edd7",
        "colab": {
          "base_uri": "https://localhost:8080/",
          "height": 221
        }
      },
      "source": [
        "# Let's do education-spending next\n",
        "rep_ed_spend = republican['education-spending']\n",
        "dem_ed_spend = democrat['education-spending']\n",
        "print(rep_ed_spend.head())\n",
        "print(dem_ed_spend.head())"
      ],
      "execution_count": 20,
      "outputs": [
        {
          "output_type": "stream",
          "text": [
            "0     1.0\n",
            "1     1.0\n",
            "7     0.0\n",
            "8     1.0\n",
            "10    NaN\n",
            "Name: education-spending, dtype: float64\n",
            "2    0.0\n",
            "3    0.0\n",
            "4    NaN\n",
            "5    0.0\n",
            "6    0.0\n",
            "Name: education-spending, dtype: float64\n"
          ],
          "name": "stdout"
        }
      ]
    },
    {
      "cell_type": "code",
      "metadata": {
        "id": "XUzTpGS2K4Yo",
        "colab_type": "code",
        "outputId": "8a99ecd0-202b-4b9c-e7f0-0a4b9263204f",
        "colab": {
          "base_uri": "https://localhost:8080/",
          "height": 34
        }
      },
      "source": [
        "rep_ed_conf_int = confidence_interval(rep_ed_spend)\n",
        "rep_ed_conf_int # mean, lower-bound, upper-bound"
      ],
      "execution_count": 21,
      "outputs": [
        {
          "output_type": "execute_result",
          "data": {
            "text/plain": [
              "(0.8709677419354839, 0.8197396962110246, 0.9221957876599431)"
            ]
          },
          "metadata": {
            "tags": []
          },
          "execution_count": 21
        }
      ]
    },
    {
      "cell_type": "code",
      "metadata": {
        "id": "ALvWTZ1mK4eK",
        "colab_type": "code",
        "colab": {}
      },
      "source": [
        "# The returned values above indicate that the mean support of republicans for \n",
        "# the education-spending bill is about 87%, with a 95% confidence that the true \n",
        "# support mean will fall between the lower-bound (81.9%) and the upper-bound (92.2%)"
      ],
      "execution_count": 0,
      "outputs": []
    },
    {
      "cell_type": "code",
      "metadata": {
        "id": "dAXL6RECK4jv",
        "colab_type": "code",
        "outputId": "a98a6164-23e4-4406-8769-b4864a013cfe",
        "colab": {
          "base_uri": "https://localhost:8080/",
          "height": 119
        }
      },
      "source": [
        "print(rep_handi_inf.value_counts())\n",
        "print(dem_handi_inf.value_counts())"
      ],
      "execution_count": 23,
      "outputs": [
        {
          "output_type": "stream",
          "text": [
            "0.0    134\n",
            "1.0     31\n",
            "Name: handicapped-infants, dtype: int64\n",
            "1.0    156\n",
            "0.0    102\n",
            "Name: handicapped-infants, dtype: int64\n"
          ],
          "name": "stdout"
        }
      ]
    },
    {
      "cell_type": "code",
      "metadata": {
        "id": "D0pDH2mlK4r7",
        "colab_type": "code",
        "outputId": "c3dbd68b-719d-4de2-dd48-fe29b555779b",
        "colab": {
          "base_uri": "https://localhost:8080/",
          "height": 119
        }
      },
      "source": [
        "rep_handi_inf_no_nans = rep_column('education-spending')\n",
        "dem_handi_inf_no_nans = dem_column('education-spending')\n",
        "print(rep_handi_no_nans.value_counts())\n",
        "print(dem_handi_no_nans.value_counts())"
      ],
      "execution_count": 24,
      "outputs": [
        {
          "output_type": "stream",
          "text": [
            "0.0    134\n",
            "1.0     31\n",
            "Name: handicapped-infants, dtype: int64\n",
            "1.0    156\n",
            "0.0    102\n",
            "Name: handicapped-infants, dtype: int64\n"
          ],
          "name": "stdout"
        }
      ]
    },
    {
      "cell_type": "code",
      "metadata": {
        "id": "bb0ZbhXUK4xm",
        "colab_type": "code",
        "outputId": "65f80e8d-d1b3-465c-cb18-489445cd4f89",
        "colab": {
          "base_uri": "https://localhost:8080/",
          "height": 265
        }
      },
      "source": [
        "# Explore graphically\n",
        "sns.kdeplot(rep_handi_inf_no_nans, legend=False)\n",
        "plt.axvline(rep_ed_conf_int[1], color='red')\n",
        "plt.axvline(rep_ed_conf_int[2], color='red')\n",
        "plt.axvline(rep_ed_conf_int[0], color='k');"
      ],
      "execution_count": 25,
      "outputs": [
        {
          "output_type": "display_data",
          "data": {
            "image/png": "[encoded data removed]",
            "text/plain": [
              "<Figure size 432x288 with 1 Axes>"
            ]
          },
          "metadata": {
            "tags": []
          }
        }
      ]
    },
    {
      "cell_type": "code",
      "metadata": {
        "id": "Hf65vS9BK45E",
        "colab_type": "code",
        "outputId": "908bd31b-e9fc-4376-f983-dba3c117ccf9",
        "colab": {
          "base_uri": "https://localhost:8080/",
          "height": 34
        }
      },
      "source": [
        "dem_ed_conf_int = confidence_interval(dem_ed_spend)\n",
        "dem_ed_conf_int # mean, lower-bound, upper-bound"
      ],
      "execution_count": 26,
      "outputs": [
        {
          "output_type": "execute_result",
          "data": {
            "text/plain": [
              "(0.14457831325301204, 0.10211748214309255, 0.18703914436293154)"
            ]
          },
          "metadata": {
            "tags": []
          },
          "execution_count": 26
        }
      ]
    },
    {
      "cell_type": "code",
      "metadata": {
        "id": "Py-efbmhK4vc",
        "colab_type": "code",
        "colab": {}
      },
      "source": [
        "# The above indicates that the mean support of democrats for the education-spending\n",
        "# bill was 14.5%, and that there is a 95% confidence that the true support mean will \n",
        "# fall between the lower-bound (10.2%) and the upper-bound (18.7%)"
      ],
      "execution_count": 0,
      "outputs": []
    },
    {
      "cell_type": "code",
      "metadata": {
        "id": "YmKrhMcoK4po",
        "colab_type": "code",
        "outputId": "d9acc661-7aa0-4604-97ce-74b2b6d9edd1",
        "colab": {
          "base_uri": "https://localhost:8080/",
          "height": 265
        }
      },
      "source": [
        "# Explore graphically\n",
        "sns.kdeplot(dem_handi_no_nans, legend=False)\n",
        "plt.axvline(dem_ed_conf_int[1], color='red')\n",
        "plt.axvline(dem_ed_conf_int[2], color='red')\n",
        "plt.axvline(dem_ed_conf_int[0], color='k');"
      ],
      "execution_count": 28,
      "outputs": [
        {
          "output_type": "display_data",
          "data": {
            "image/png": "[encoded data removed]",
            "text/plain": [
              "<Figure size 432x288 with 1 Axes>"
            ]
          },
          "metadata": {
            "tags": []
          }
        }
      ]
    },
    {
      "cell_type": "code",
      "metadata": {
        "id": "NAnt-7UUK4nm",
        "colab_type": "code",
        "outputId": "4bd2175a-be6b-49b2-cf79-efc211bc432a",
        "colab": {
          "base_uri": "https://localhost:8080/",
          "height": 119
        }
      },
      "source": [
        "# Let's look at religious-groups-in-schools\n",
        "print(republican['religious-groups-in-schools'].value_counts())\n",
        "print(democrat['religious-groups-in-schools'].value_counts())"
      ],
      "execution_count": 29,
      "outputs": [
        {
          "output_type": "stream",
          "text": [
            "1.0    149\n",
            "0.0     17\n",
            "Name: religious-groups-in-schools, dtype: int64\n",
            "0.0    135\n",
            "1.0    123\n",
            "Name: religious-groups-in-schools, dtype: int64\n"
          ],
          "name": "stdout"
        }
      ]
    },
    {
      "cell_type": "code",
      "metadata": {
        "id": "63P11EhFK4ht",
        "colab_type": "code",
        "outputId": "9c502f0b-0355-447f-a1ab-7dacff7cf1b3",
        "colab": {
          "base_uri": "https://localhost:8080/",
          "height": 221
        }
      },
      "source": [
        "rep_relig_in_school = republican['religious-groups-in-schools']\n",
        "dem_relig_in_school = democrat['religious-groups-in-schools']\n",
        "print(rep_relig_in_school.sample(5))\n",
        "print(dem_relig_in_school.sample(5))"
      ],
      "execution_count": 30,
      "outputs": [
        {
          "output_type": "stream",
          "text": [
            "239    1.0\n",
            "378    1.0\n",
            "235    1.0\n",
            "83     1.0\n",
            "345    1.0\n",
            "Name: religious-groups-in-schools, dtype: float64\n",
            "32     0.0\n",
            "31     0.0\n",
            "78     1.0\n",
            "221    1.0\n",
            "68     0.0\n",
            "Name: religious-groups-in-schools, dtype: float64\n"
          ],
          "name": "stdout"
        }
      ]
    },
    {
      "cell_type": "code",
      "metadata": {
        "id": "ebA-LPnHK4b6",
        "colab_type": "code",
        "outputId": "f7bf1c9b-03e6-42c5-9c68-4e6def0f81e4",
        "colab": {
          "base_uri": "https://localhost:8080/",
          "height": 34
        }
      },
      "source": [
        "rep_relig_conf_int = confidence_interval(rep_relig_in_school)\n",
        "rep_relig_conf_int"
      ],
      "execution_count": 31,
      "outputs": [
        {
          "output_type": "execute_result",
          "data": {
            "text/plain": [
              "(0.8975903614457831, 0.8512698128095132, 0.943910910082053)"
            ]
          },
          "metadata": {
            "tags": []
          },
          "execution_count": 31
        }
      ]
    },
    {
      "cell_type": "code",
      "metadata": {
        "id": "MCRrXlCVaBPT",
        "colab_type": "code",
        "colab": {}
      },
      "source": [
        "# The above indicates that the mean support of republicans for the religious groups in schools \n",
        "# bill is 89.7%, and that there is a 95% confidence that the true support mean lies between \n",
        "# the lower-bound (85.1%) and the upper-bound (94.3%)"
      ],
      "execution_count": 0,
      "outputs": []
    },
    {
      "cell_type": "code",
      "metadata": {
        "id": "LeT83wJvbT3K",
        "colab_type": "code",
        "colab": {
          "base_uri": "https://localhost:8080/",
          "height": 119
        },
        "outputId": "091054c7-73f7-40dd-e4dc-e6de474cbeaf"
      },
      "source": [
        "# Deal with nans\n",
        "rep_relig_in_school_no_nans = rep_column('religious-groups-in-schools')\n",
        "dem_relig_in_school_no_nans = dem_column('religious-groups-in-schools')\n",
        "print(rep_relig_in_school_no_nans.value_counts())\n",
        "print(dem_relig_in_school_no_nans.value_counts())"
      ],
      "execution_count": 54,
      "outputs": [
        {
          "output_type": "stream",
          "text": [
            "1.0    149\n",
            "0.0     17\n",
            "Name: religious-groups-in-schools, dtype: int64\n",
            "0.0    135\n",
            "1.0    123\n",
            "Name: religious-groups-in-schools, dtype: int64\n"
          ],
          "name": "stdout"
        }
      ]
    },
    {
      "cell_type": "code",
      "metadata": {
        "id": "uwTZp1l1jiEG",
        "colab_type": "code",
        "colab": {
          "base_uri": "https://localhost:8080/",
          "height": 277
        },
        "outputId": "455383c3-a0b5-474b-fd39-bd4e4ed846b8"
      },
      "source": [
        "# Graph this\n",
        "sns.kdeplot(rep_relig_in_school_no_nans, legend=False)\n",
        "plt.axvline(rep_relig_conf_int[1], color='red')\n",
        "plt.axvline(rep_relig_conf_int[2], color='red')\n",
        "plt.axvline(rep_relig_conf_int[0], color='k');"
      ],
      "execution_count": 56,
      "outputs": [
        {
          "output_type": "display_data",
          "data": {
            "image/png": "[encoded data removed]",
            "text/plain": [
              "<Figure size 432x288 with 1 Axes>"
            ]
          },
          "metadata": {
            "tags": []
          }
        }
      ]
    },
    {
      "cell_type": "code",
      "metadata": {
        "id": "uG44GaOEjiOu",
        "colab_type": "code",
        "colab": {
          "base_uri": "https://localhost:8080/",
          "height": 34
        },
        "outputId": "b9181ca6-a216-4b19-84b2-30c4297b9654"
      },
      "source": [
        "dem_relig_conf_int = confidence_interval(dem_relig_in_school)\n",
        "dem_relig_conf_int"
      ],
      "execution_count": 58,
      "outputs": [
        {
          "output_type": "execute_result",
          "data": {
            "text/plain": [
              "(0.47674418604651164, 0.41644437131619555, 0.5370440007768278)"
            ]
          },
          "metadata": {
            "tags": []
          },
          "execution_count": 58
        }
      ]
    },
    {
      "cell_type": "code",
      "metadata": {
        "id": "G1WwTp1qjiYZ",
        "colab_type": "code",
        "colab": {}
      },
      "source": [
        "# The above indicates that the mean support of democrats for the religious groups in schools \n",
        "# bill is 47.6%, and that there is a 95% confidence that the true support mean lies between \n",
        "# the lower-bound (41.6%) and the upper-bound (53.7%). Because 50%, seen in the null \n",
        "# hypothesis, falls between the lower and upper-bounds, we are unable to reject\n",
        "# the null hypothesis."
      ],
      "execution_count": 0,
      "outputs": []
    },
    {
      "cell_type": "code",
      "metadata": {
        "id": "gqLGt7o5jihm",
        "colab_type": "code",
        "colab": {
          "base_uri": "https://localhost:8080/",
          "height": 277
        },
        "outputId": "f8db8461-2ee9-4ceb-82d4-0ffa89146359"
      },
      "source": [
        "# Graph\n",
        "sns.kdeplot(dem_relig_in_school_no_nans, legend=False)\n",
        "plt.axvline(dem_relig_conf_int[1], color='red')\n",
        "plt.axvline(dem_relig_conf_int[2], color='red')\n",
        "plt.axvline(dem_relig_conf_int[0], color='k');"
      ],
      "execution_count": 62,
      "outputs": [
        {
          "output_type": "display_data",
          "data": {
            "image/png": "[encoded data removed]",
            "text/plain": [
              "<Figure size 432x288 with 1 Axes>"
            ]
          },
          "metadata": {
            "tags": []
          }
        }
      ]
    },
    {
      "cell_type": "markdown",
      "metadata": {
        "id": "uFAJkWFPm_6t",
        "colab_type": "text"
      },
      "source": [
        "## Chi-Square"
      ]
    },
    {
      "cell_type": "code",
      "metadata": {
        "id": "butFgCgQLmXO",
        "colab_type": "code",
        "outputId": "9364c0d6-fca2-4cfa-9047-963b1eacab8c",
        "colab": {
          "base_uri": "https://localhost:8080/",
          "height": 204
        }
      },
      "source": [
        "# Let's try the titanic dataset\n",
        "url = 'https://raw.githubusercontent.com/austinlasseter/pandas_visualization/master/data/titanic.csv'\n",
        "df = pd.read_csv(url)\n",
        "df.head()"
      ],
      "execution_count": 33,
      "outputs": [
        {
          "output_type": "execute_result",
          "data": {
            "text/html": [
              "<div>\n",
              "<style scoped>\n",
              "    .dataframe tbody tr th:only-of-type {\n",
              "        vertical-align: middle;\n",
              "    }\n",
              "\n",
              "    .dataframe tbody tr th {\n",
              "        vertical-align: top;\n",
              "    }\n",
              "\n",
              "    .dataframe thead th {\n",
              "        text-align: right;\n",
              "    }\n",
              "</style>\n",
              "<table border=\"1\" class=\"dataframe\">\n",
              "  <thead>\n",
              "    <tr style=\"text-align: right;\">\n",
              "      <th></th>\n",
              "      <th>Survived</th>\n",
              "      <th>Pclass</th>\n",
              "      <th>Sex</th>\n",
              "      <th>Age</th>\n",
              "      <th>Fare</th>\n",
              "      <th>Embarked</th>\n",
              "    </tr>\n",
              "  </thead>\n",
              "  <tbody>\n",
              "    <tr>\n",
              "      <th>0</th>\n",
              "      <td>0</td>\n",
              "      <td>3</td>\n",
              "      <td>male</td>\n",
              "      <td>22.0</td>\n",
              "      <td>7.2500</td>\n",
              "      <td>Southampton</td>\n",
              "    </tr>\n",
              "    <tr>\n",
              "      <th>1</th>\n",
              "      <td>1</td>\n",
              "      <td>1</td>\n",
              "      <td>female</td>\n",
              "      <td>38.0</td>\n",
              "      <td>71.2833</td>\n",
              "      <td>Cherbourg</td>\n",
              "    </tr>\n",
              "    <tr>\n",
              "      <th>2</th>\n",
              "      <td>1</td>\n",
              "      <td>3</td>\n",
              "      <td>female</td>\n",
              "      <td>26.0</td>\n",
              "      <td>7.9250</td>\n",
              "      <td>Southampton</td>\n",
              "    </tr>\n",
              "    <tr>\n",
              "      <th>3</th>\n",
              "      <td>1</td>\n",
              "      <td>1</td>\n",
              "      <td>female</td>\n",
              "      <td>35.0</td>\n",
              "      <td>53.1000</td>\n",
              "      <td>Southampton</td>\n",
              "    </tr>\n",
              "    <tr>\n",
              "      <th>4</th>\n",
              "      <td>0</td>\n",
              "      <td>3</td>\n",
              "      <td>male</td>\n",
              "      <td>35.0</td>\n",
              "      <td>8.0500</td>\n",
              "      <td>Southampton</td>\n",
              "    </tr>\n",
              "  </tbody>\n",
              "</table>\n",
              "</div>"
            ],
            "text/plain": [
              "   Survived  Pclass     Sex   Age     Fare     Embarked\n",
              "0         0       3    male  22.0   7.2500  Southampton\n",
              "1         1       1  female  38.0  71.2833    Cherbourg\n",
              "2         1       3  female  26.0   7.9250  Southampton\n",
              "3         1       1  female  35.0  53.1000  Southampton\n",
              "4         0       3    male  35.0   8.0500  Southampton"
            ]
          },
          "metadata": {
            "tags": []
          },
          "execution_count": 33
        }
      ]
    },
    {
      "cell_type": "code",
      "metadata": {
        "id": "-PeN6vPELmlg",
        "colab_type": "code",
        "outputId": "f1a3c088-6cd5-449e-dfce-856442f841ef",
        "colab": {
          "base_uri": "https://localhost:8080/",
          "height": 173
        }
      },
      "source": [
        "# Let's look at the categorical data\n",
        "df.describe(exclude='number')"
      ],
      "execution_count": 34,
      "outputs": [
        {
          "output_type": "execute_result",
          "data": {
            "text/html": [
              "<div>\n",
              "<style scoped>\n",
              "    .dataframe tbody tr th:only-of-type {\n",
              "        vertical-align: middle;\n",
              "    }\n",
              "\n",
              "    .dataframe tbody tr th {\n",
              "        vertical-align: top;\n",
              "    }\n",
              "\n",
              "    .dataframe thead th {\n",
              "        text-align: right;\n",
              "    }\n",
              "</style>\n",
              "<table border=\"1\" class=\"dataframe\">\n",
              "  <thead>\n",
              "    <tr style=\"text-align: right;\">\n",
              "      <th></th>\n",
              "      <th>Sex</th>\n",
              "      <th>Embarked</th>\n",
              "    </tr>\n",
              "  </thead>\n",
              "  <tbody>\n",
              "    <tr>\n",
              "      <th>count</th>\n",
              "      <td>712</td>\n",
              "      <td>712</td>\n",
              "    </tr>\n",
              "    <tr>\n",
              "      <th>unique</th>\n",
              "      <td>2</td>\n",
              "      <td>3</td>\n",
              "    </tr>\n",
              "    <tr>\n",
              "      <th>top</th>\n",
              "      <td>male</td>\n",
              "      <td>Southampton</td>\n",
              "    </tr>\n",
              "    <tr>\n",
              "      <th>freq</th>\n",
              "      <td>453</td>\n",
              "      <td>554</td>\n",
              "    </tr>\n",
              "  </tbody>\n",
              "</table>\n",
              "</div>"
            ],
            "text/plain": [
              "         Sex     Embarked\n",
              "count    712          712\n",
              "unique     2            3\n",
              "top     male  Southampton\n",
              "freq     453          554"
            ]
          },
          "metadata": {
            "tags": []
          },
          "execution_count": 34
        }
      ]
    },
    {
      "cell_type": "code",
      "metadata": {
        "id": "Pp1Guz1SLm5H",
        "colab_type": "code",
        "outputId": "6dd13767-0478-43e0-8323-d75e13164f6e",
        "colab": {
          "base_uri": "https://localhost:8080/",
          "height": 374
        }
      },
      "source": [
        "# We know that Pclass and survived are also categorical. We can also create binned categories for age and fare\n",
        "print(df['Age'].value_counts())\n",
        "df['Age'].describe()"
      ],
      "execution_count": 35,
      "outputs": [
        {
          "output_type": "stream",
          "text": [
            "24.00    30\n",
            "22.00    27\n",
            "18.00    26\n",
            "28.00    25\n",
            "30.00    25\n",
            "         ..\n",
            "55.50     1\n",
            "70.50     1\n",
            "66.00     1\n",
            "23.50     1\n",
            "0.42      1\n",
            "Name: Age, Length: 88, dtype: int64\n"
          ],
          "name": "stdout"
        },
        {
          "output_type": "execute_result",
          "data": {
            "text/plain": [
              "count    712.000000\n",
              "mean      29.642093\n",
              "std       14.492933\n",
              "min        0.420000\n",
              "25%       20.000000\n",
              "50%       28.000000\n",
              "75%       38.000000\n",
              "max       80.000000\n",
              "Name: Age, dtype: float64"
            ]
          },
          "metadata": {
            "tags": []
          },
          "execution_count": 35
        }
      ]
    },
    {
      "cell_type": "code",
      "metadata": {
        "id": "KqLqGO7AnDD2",
        "colab_type": "code",
        "outputId": "a847aa33-128a-42e4-9d10-d9e120783ae1",
        "colab": {
          "base_uri": "https://localhost:8080/",
          "height": 419
        }
      },
      "source": [
        "# Create our cut points\n",
        "cut_points = [0, 9, 19, 29, 39, 49, 59, 1000]\n",
        "# Create our label names\n",
        "label_names = ['0-9 years', '10-19 years', '20-29 years', '30-39 years', '40-49 years', '50-59 years', '60+ years']\n",
        "# Create our new category\n",
        "df['age_categories'] = pd.cut(df['Age'], cut_points, labels=label_names)\n",
        "# Compare old and new\n",
        "df[['Age', 'age_categories']]"
      ],
      "execution_count": 36,
      "outputs": [
        {
          "output_type": "execute_result",
          "data": {
            "text/html": [
              "<div>\n",
              "<style scoped>\n",
              "    .dataframe tbody tr th:only-of-type {\n",
              "        vertical-align: middle;\n",
              "    }\n",
              "\n",
              "    .dataframe tbody tr th {\n",
              "        vertical-align: top;\n",
              "    }\n",
              "\n",
              "    .dataframe thead th {\n",
              "        text-align: right;\n",
              "    }\n",
              "</style>\n",
              "<table border=\"1\" class=\"dataframe\">\n",
              "  <thead>\n",
              "    <tr style=\"text-align: right;\">\n",
              "      <th></th>\n",
              "      <th>Age</th>\n",
              "      <th>age_categories</th>\n",
              "    </tr>\n",
              "  </thead>\n",
              "  <tbody>\n",
              "    <tr>\n",
              "      <th>0</th>\n",
              "      <td>22.0</td>\n",
              "      <td>20-29 years</td>\n",
              "    </tr>\n",
              "    <tr>\n",
              "      <th>1</th>\n",
              "      <td>38.0</td>\n",
              "      <td>30-39 years</td>\n",
              "    </tr>\n",
              "    <tr>\n",
              "      <th>2</th>\n",
              "      <td>26.0</td>\n",
              "      <td>20-29 years</td>\n",
              "    </tr>\n",
              "    <tr>\n",
              "      <th>3</th>\n",
              "      <td>35.0</td>\n",
              "      <td>30-39 years</td>\n",
              "    </tr>\n",
              "    <tr>\n",
              "      <th>4</th>\n",
              "      <td>35.0</td>\n",
              "      <td>30-39 years</td>\n",
              "    </tr>\n",
              "    <tr>\n",
              "      <th>...</th>\n",
              "      <td>...</td>\n",
              "      <td>...</td>\n",
              "    </tr>\n",
              "    <tr>\n",
              "      <th>707</th>\n",
              "      <td>39.0</td>\n",
              "      <td>30-39 years</td>\n",
              "    </tr>\n",
              "    <tr>\n",
              "      <th>708</th>\n",
              "      <td>27.0</td>\n",
              "      <td>20-29 years</td>\n",
              "    </tr>\n",
              "    <tr>\n",
              "      <th>709</th>\n",
              "      <td>19.0</td>\n",
              "      <td>10-19 years</td>\n",
              "    </tr>\n",
              "    <tr>\n",
              "      <th>710</th>\n",
              "      <td>26.0</td>\n",
              "      <td>20-29 years</td>\n",
              "    </tr>\n",
              "    <tr>\n",
              "      <th>711</th>\n",
              "      <td>32.0</td>\n",
              "      <td>30-39 years</td>\n",
              "    </tr>\n",
              "  </tbody>\n",
              "</table>\n",
              "<p>712 rows × 2 columns</p>\n",
              "</div>"
            ],
            "text/plain": [
              "      Age age_categories\n",
              "0    22.0    20-29 years\n",
              "1    38.0    30-39 years\n",
              "2    26.0    20-29 years\n",
              "3    35.0    30-39 years\n",
              "4    35.0    30-39 years\n",
              "..    ...            ...\n",
              "707  39.0    30-39 years\n",
              "708  27.0    20-29 years\n",
              "709  19.0    10-19 years\n",
              "710  26.0    20-29 years\n",
              "711  32.0    30-39 years\n",
              "\n",
              "[712 rows x 2 columns]"
            ]
          },
          "metadata": {
            "tags": []
          },
          "execution_count": 36
        }
      ]
    },
    {
      "cell_type": "code",
      "metadata": {
        "id": "bHlKuxxInDMp",
        "colab_type": "code",
        "outputId": "921b866f-15cd-479a-bdf1-ec7ae0d0b625",
        "colab": {
          "base_uri": "https://localhost:8080/",
          "height": 374
        }
      },
      "source": [
        "print(df['Fare'].value_counts())\n",
        "df['Fare'].describe()"
      ],
      "execution_count": 37,
      "outputs": [
        {
          "output_type": "stream",
          "text": [
            "13.0000    41\n",
            "26.0000    30\n",
            "8.0500     29\n",
            "10.5000    24\n",
            "7.8958     23\n",
            "           ..\n",
            "9.4750      1\n",
            "13.4167     1\n",
            "61.3792     1\n",
            "14.1083     1\n",
            "8.0292      1\n",
            "Name: Fare, Length: 219, dtype: int64\n"
          ],
          "name": "stdout"
        },
        {
          "output_type": "execute_result",
          "data": {
            "text/plain": [
              "count    712.000000\n",
              "mean      34.567251\n",
              "std       52.938648\n",
              "min        0.000000\n",
              "25%        8.050000\n",
              "50%       15.645850\n",
              "75%       33.000000\n",
              "max      512.329200\n",
              "Name: Fare, dtype: float64"
            ]
          },
          "metadata": {
            "tags": []
          },
          "execution_count": 37
        }
      ]
    },
    {
      "cell_type": "code",
      "metadata": {
        "id": "ka0p29JUnDUO",
        "colab_type": "code",
        "outputId": "9b53c607-d4a4-4ebd-bbb5-4c2ffc7071b5",
        "colab": {
          "base_uri": "https://localhost:8080/",
          "height": 357
        }
      },
      "source": [
        "# Create cut points\n",
        "fare_cut_points = [-1, 24, 49, 74, 99, 10000]\n",
        "# Create label names\n",
        "fare_label_names = ['$0-24', '$25-49', '$50-74', '$75-99', '$100+']\n",
        "# create new category\n",
        "df['fare_categories'] = pd.cut(df['Fare'], fare_cut_points, labels=fare_label_names)\n",
        "# compare old and new\n",
        "print(df[['Fare', 'fare_categories']])\n",
        "df['fare_categories'].value_counts()"
      ],
      "execution_count": 38,
      "outputs": [
        {
          "output_type": "stream",
          "text": [
            "        Fare fare_categories\n",
            "0     7.2500           $0-24\n",
            "1    71.2833          $50-74\n",
            "2     7.9250           $0-24\n",
            "3    53.1000          $50-74\n",
            "4     8.0500           $0-24\n",
            "..       ...             ...\n",
            "707  29.1250          $25-49\n",
            "708  13.0000           $0-24\n",
            "709  30.0000          $25-49\n",
            "710  30.0000          $25-49\n",
            "711   7.7500           $0-24\n",
            "\n",
            "[712 rows x 2 columns]\n"
          ],
          "name": "stdout"
        },
        {
          "output_type": "execute_result",
          "data": {
            "text/plain": [
              "$0-24     418\n",
              "$25-49    155\n",
              "$50-74     52\n",
              "$100+      48\n",
              "$75-99     39\n",
              "Name: fare_categories, dtype: int64"
            ]
          },
          "metadata": {
            "tags": []
          },
          "execution_count": 38
        }
      ]
    },
    {
      "cell_type": "code",
      "metadata": {
        "id": "nFCv24nznDbE",
        "colab_type": "code",
        "outputId": "eb37ccaa-5650-4e50-b6a6-b17da50abf8d",
        "colab": {
          "base_uri": "https://localhost:8080/",
          "height": 340
        }
      },
      "source": [
        "# Let's sort by our fare_categories\n",
        "df = df.sort_values(by='fare_categories', ascending=True)\n",
        "print(df.head())\n",
        "df.tail()"
      ],
      "execution_count": 39,
      "outputs": [
        {
          "output_type": "stream",
          "text": [
            "     Survived  Pclass     Sex  ...     Embarked  age_categories fare_categories\n",
            "0           0       3    male  ...  Southampton     20-29 years           $0-24\n",
            "421         0       3    male  ...    Cherbourg     10-19 years           $0-24\n",
            "419         0       2    male  ...  Southampton     20-29 years           $0-24\n",
            "418         0       3    male  ...  Southampton     30-39 years           $0-24\n",
            "417         1       2  female  ...  Southampton     50-59 years           $0-24\n",
            "\n",
            "[5 rows x 8 columns]\n"
          ],
          "name": "stdout"
        },
        {
          "output_type": "execute_result",
          "data": {
            "text/html": [
              "<div>\n",
              "<style scoped>\n",
              "    .dataframe tbody tr th:only-of-type {\n",
              "        vertical-align: middle;\n",
              "    }\n",
              "\n",
              "    .dataframe tbody tr th {\n",
              "        vertical-align: top;\n",
              "    }\n",
              "\n",
              "    .dataframe thead th {\n",
              "        text-align: right;\n",
              "    }\n",
              "</style>\n",
              "<table border=\"1\" class=\"dataframe\">\n",
              "  <thead>\n",
              "    <tr style=\"text-align: right;\">\n",
              "      <th></th>\n",
              "      <th>Survived</th>\n",
              "      <th>Pclass</th>\n",
              "      <th>Sex</th>\n",
              "      <th>Age</th>\n",
              "      <th>Fare</th>\n",
              "      <th>Embarked</th>\n",
              "      <th>age_categories</th>\n",
              "      <th>fare_categories</th>\n",
              "    </tr>\n",
              "  </thead>\n",
              "  <tbody>\n",
              "    <tr>\n",
              "      <th>314</th>\n",
              "      <td>1</td>\n",
              "      <td>1</td>\n",
              "      <td>female</td>\n",
              "      <td>23.0</td>\n",
              "      <td>113.2750</td>\n",
              "      <td>Cherbourg</td>\n",
              "      <td>20-29 years</td>\n",
              "      <td>$100+</td>\n",
              "    </tr>\n",
              "    <tr>\n",
              "      <th>92</th>\n",
              "      <td>0</td>\n",
              "      <td>1</td>\n",
              "      <td>male</td>\n",
              "      <td>24.0</td>\n",
              "      <td>247.5208</td>\n",
              "      <td>Cherbourg</td>\n",
              "      <td>20-29 years</td>\n",
              "      <td>$100+</td>\n",
              "    </tr>\n",
              "    <tr>\n",
              "      <th>568</th>\n",
              "      <td>1</td>\n",
              "      <td>1</td>\n",
              "      <td>female</td>\n",
              "      <td>38.0</td>\n",
              "      <td>227.5250</td>\n",
              "      <td>Cherbourg</td>\n",
              "      <td>30-39 years</td>\n",
              "      <td>$100+</td>\n",
              "    </tr>\n",
              "    <tr>\n",
              "      <th>247</th>\n",
              "      <td>1</td>\n",
              "      <td>1</td>\n",
              "      <td>female</td>\n",
              "      <td>18.0</td>\n",
              "      <td>262.3750</td>\n",
              "      <td>Cherbourg</td>\n",
              "      <td>10-19 years</td>\n",
              "      <td>$100+</td>\n",
              "    </tr>\n",
              "    <tr>\n",
              "      <th>260</th>\n",
              "      <td>1</td>\n",
              "      <td>1</td>\n",
              "      <td>female</td>\n",
              "      <td>36.0</td>\n",
              "      <td>135.6333</td>\n",
              "      <td>Cherbourg</td>\n",
              "      <td>30-39 years</td>\n",
              "      <td>$100+</td>\n",
              "    </tr>\n",
              "  </tbody>\n",
              "</table>\n",
              "</div>"
            ],
            "text/plain": [
              "     Survived  Pclass     Sex  ...   Embarked  age_categories fare_categories\n",
              "314         1       1  female  ...  Cherbourg     20-29 years           $100+\n",
              "92          0       1    male  ...  Cherbourg     20-29 years           $100+\n",
              "568         1       1  female  ...  Cherbourg     30-39 years           $100+\n",
              "247         1       1  female  ...  Cherbourg     10-19 years           $100+\n",
              "260         1       1  female  ...  Cherbourg     30-39 years           $100+\n",
              "\n",
              "[5 rows x 8 columns]"
            ]
          },
          "metadata": {
            "tags": []
          },
          "execution_count": 39
        }
      ]
    },
    {
      "cell_type": "code",
      "metadata": {
        "id": "6yzo-OZXW2i6",
        "colab_type": "code",
        "outputId": "ff920ce1-021c-4f48-f7dc-c971fe34986f",
        "colab": {
          "base_uri": "https://localhost:8080/",
          "height": 204
        }
      },
      "source": [
        "# First let's create a crosstab comparing two categorical values we know are correlated\n",
        "fare_by_class = pd.crosstab(df['Pclass'], df['fare_categories'], margins=True)\n",
        "fare_by_class"
      ],
      "execution_count": 40,
      "outputs": [
        {
          "output_type": "execute_result",
          "data": {
            "text/html": [
              "<div>\n",
              "<style scoped>\n",
              "    .dataframe tbody tr th:only-of-type {\n",
              "        vertical-align: middle;\n",
              "    }\n",
              "\n",
              "    .dataframe tbody tr th {\n",
              "        vertical-align: top;\n",
              "    }\n",
              "\n",
              "    .dataframe thead th {\n",
              "        text-align: right;\n",
              "    }\n",
              "</style>\n",
              "<table border=\"1\" class=\"dataframe\">\n",
              "  <thead>\n",
              "    <tr style=\"text-align: right;\">\n",
              "      <th>fare_categories</th>\n",
              "      <th>$0-24</th>\n",
              "      <th>$25-49</th>\n",
              "      <th>$50-74</th>\n",
              "      <th>$75-99</th>\n",
              "      <th>$100+</th>\n",
              "      <th>All</th>\n",
              "    </tr>\n",
              "    <tr>\n",
              "      <th>Pclass</th>\n",
              "      <th></th>\n",
              "      <th></th>\n",
              "      <th></th>\n",
              "      <th></th>\n",
              "      <th></th>\n",
              "      <th></th>\n",
              "    </tr>\n",
              "  </thead>\n",
              "  <tbody>\n",
              "    <tr>\n",
              "      <th>1</th>\n",
              "      <td>4</td>\n",
              "      <td>52</td>\n",
              "      <td>41</td>\n",
              "      <td>39</td>\n",
              "      <td>48</td>\n",
              "      <td>184</td>\n",
              "    </tr>\n",
              "    <tr>\n",
              "      <th>2</th>\n",
              "      <td>106</td>\n",
              "      <td>60</td>\n",
              "      <td>7</td>\n",
              "      <td>0</td>\n",
              "      <td>0</td>\n",
              "      <td>173</td>\n",
              "    </tr>\n",
              "    <tr>\n",
              "      <th>3</th>\n",
              "      <td>308</td>\n",
              "      <td>43</td>\n",
              "      <td>4</td>\n",
              "      <td>0</td>\n",
              "      <td>0</td>\n",
              "      <td>355</td>\n",
              "    </tr>\n",
              "    <tr>\n",
              "      <th>All</th>\n",
              "      <td>418</td>\n",
              "      <td>155</td>\n",
              "      <td>52</td>\n",
              "      <td>39</td>\n",
              "      <td>48</td>\n",
              "      <td>712</td>\n",
              "    </tr>\n",
              "  </tbody>\n",
              "</table>\n",
              "</div>"
            ],
            "text/plain": [
              "fare_categories  $0-24  $25-49  $50-74  $75-99  $100+  All\n",
              "Pclass                                                    \n",
              "1                    4      52      41      39     48  184\n",
              "2                  106      60       7       0      0  173\n",
              "3                  308      43       4       0      0  355\n",
              "All                418     155      52      39     48  712"
            ]
          },
          "metadata": {
            "tags": []
          },
          "execution_count": 40
        }
      ]
    },
    {
      "cell_type": "code",
      "metadata": {
        "id": "kWbOgpq2XMed",
        "colab_type": "code",
        "outputId": "ca972d0e-ca6d-4d47-bb73-21bd09b2f629",
        "colab": {
          "base_uri": "https://localhost:8080/",
          "height": 34
        }
      },
      "source": [
        "# Let's seperate these by classes\n",
        "first_class = fare_by_class.iloc[0][:5].values\n",
        "first_class"
      ],
      "execution_count": 41,
      "outputs": [
        {
          "output_type": "execute_result",
          "data": {
            "text/plain": [
              "array([ 4, 52, 41, 39, 48])"
            ]
          },
          "metadata": {
            "tags": []
          },
          "execution_count": 41
        }
      ]
    },
    {
      "cell_type": "code",
      "metadata": {
        "id": "uyeVr1VNX7wc",
        "colab_type": "code",
        "outputId": "0adc032f-2867-4f91-c81f-307f45acd932",
        "colab": {
          "base_uri": "https://localhost:8080/",
          "height": 34
        }
      },
      "source": [
        "second_class = fare_by_class.iloc[1][:5].values\n",
        "second_class"
      ],
      "execution_count": 42,
      "outputs": [
        {
          "output_type": "execute_result",
          "data": {
            "text/plain": [
              "array([106,  60,   7,   0,   0])"
            ]
          },
          "metadata": {
            "tags": []
          },
          "execution_count": 42
        }
      ]
    },
    {
      "cell_type": "code",
      "metadata": {
        "id": "jmBsnM3AX73t",
        "colab_type": "code",
        "outputId": "e9b586f9-3dfa-45f6-f825-150179dc1a40",
        "colab": {
          "base_uri": "https://localhost:8080/",
          "height": 34
        }
      },
      "source": [
        "third_class = fare_by_class.iloc[2][:5].values\n",
        "third_class"
      ],
      "execution_count": 43,
      "outputs": [
        {
          "output_type": "execute_result",
          "data": {
            "text/plain": [
              "array([308,  43,   4,   0,   0])"
            ]
          },
          "metadata": {
            "tags": []
          },
          "execution_count": 43
        }
      ]
    },
    {
      "cell_type": "code",
      "metadata": {
        "id": "e5iM7HYtYa_j",
        "colab_type": "code",
        "outputId": "da321c11-caa0-49cb-f8ed-380efa5ff4d0",
        "colab": {
          "base_uri": "https://localhost:8080/",
          "height": 355
        }
      },
      "source": [
        "# Plot these!\n",
        "fig = plt.figure(figsize=(10,5))\n",
        "sns.set(font_scale=1.8)\n",
        "categories = ['$0-24', '$25-49', '$50-74', '$75-99', '$100+']\n",
        "p1 = plt.bar(categories, first_class, 0.55, color='red')\n",
        "p2 = plt.bar(categories, second_class, 0.40, color='blue')\n",
        "p3 = plt.bar(categories, third_class, 0.25, color='green')\n",
        "plt.legend((p3[0], p2[0], p1[0]), ('3rd Class', '2nd Class', '1st Class'))\n",
        "plt.xlabel(\"Fare Paid\")\n",
        "plt.ylabel(\"Count\")\n",
        "plt.show()"
      ],
      "execution_count": 44,
      "outputs": [
        {
          "output_type": "display_data",
          "data": {
            "image/png": "[encoded data removed]",
            "text/plain": [
              "<Figure size 720x360 with 1 Axes>"
            ]
          },
          "metadata": {
            "tags": []
          }
        }
      ]
    },
    {
      "cell_type": "code",
      "metadata": {
        "id": "bLGrUeoCnsyL",
        "colab_type": "code",
        "outputId": "a710373f-b315-4b01-9546-0db128cb02c1",
        "colab": {
          "base_uri": "https://localhost:8080/",
          "height": 204
        }
      },
      "source": [
        "fare_by_class.head()"
      ],
      "execution_count": 45,
      "outputs": [
        {
          "output_type": "execute_result",
          "data": {
            "text/html": [
              "<div>\n",
              "<style scoped>\n",
              "    .dataframe tbody tr th:only-of-type {\n",
              "        vertical-align: middle;\n",
              "    }\n",
              "\n",
              "    .dataframe tbody tr th {\n",
              "        vertical-align: top;\n",
              "    }\n",
              "\n",
              "    .dataframe thead th {\n",
              "        text-align: right;\n",
              "    }\n",
              "</style>\n",
              "<table border=\"1\" class=\"dataframe\">\n",
              "  <thead>\n",
              "    <tr style=\"text-align: right;\">\n",
              "      <th>fare_categories</th>\n",
              "      <th>$0-24</th>\n",
              "      <th>$25-49</th>\n",
              "      <th>$50-74</th>\n",
              "      <th>$75-99</th>\n",
              "      <th>$100+</th>\n",
              "      <th>All</th>\n",
              "    </tr>\n",
              "    <tr>\n",
              "      <th>Pclass</th>\n",
              "      <th></th>\n",
              "      <th></th>\n",
              "      <th></th>\n",
              "      <th></th>\n",
              "      <th></th>\n",
              "      <th></th>\n",
              "    </tr>\n",
              "  </thead>\n",
              "  <tbody>\n",
              "    <tr>\n",
              "      <th>1</th>\n",
              "      <td>4</td>\n",
              "      <td>52</td>\n",
              "      <td>41</td>\n",
              "      <td>39</td>\n",
              "      <td>48</td>\n",
              "      <td>184</td>\n",
              "    </tr>\n",
              "    <tr>\n",
              "      <th>2</th>\n",
              "      <td>106</td>\n",
              "      <td>60</td>\n",
              "      <td>7</td>\n",
              "      <td>0</td>\n",
              "      <td>0</td>\n",
              "      <td>173</td>\n",
              "    </tr>\n",
              "    <tr>\n",
              "      <th>3</th>\n",
              "      <td>308</td>\n",
              "      <td>43</td>\n",
              "      <td>4</td>\n",
              "      <td>0</td>\n",
              "      <td>0</td>\n",
              "      <td>355</td>\n",
              "    </tr>\n",
              "    <tr>\n",
              "      <th>All</th>\n",
              "      <td>418</td>\n",
              "      <td>155</td>\n",
              "      <td>52</td>\n",
              "      <td>39</td>\n",
              "      <td>48</td>\n",
              "      <td>712</td>\n",
              "    </tr>\n",
              "  </tbody>\n",
              "</table>\n",
              "</div>"
            ],
            "text/plain": [
              "fare_categories  $0-24  $25-49  $50-74  $75-99  $100+  All\n",
              "Pclass                                                    \n",
              "1                    4      52      41      39     48  184\n",
              "2                  106      60       7       0      0  173\n",
              "3                  308      43       4       0      0  355\n",
              "All                418     155      52      39     48  712"
            ]
          },
          "metadata": {
            "tags": []
          },
          "execution_count": 45
        }
      ]
    },
    {
      "cell_type": "code",
      "metadata": {
        "id": "_azGsViFgJdb",
        "colab_type": "code",
        "outputId": "758c1485-3d95-4b19-c28b-58001a26192d",
        "colab": {
          "base_uri": "https://localhost:8080/",
          "height": 51
        }
      },
      "source": [
        "# Let's do the expected value calculation\n",
        "sum_rows = fare_by_class.iloc[0:3,5].values\n",
        "sum_columns = fare_by_class.iloc[3, 0:5].values\n",
        "\n",
        "print(sum_rows)\n",
        "print(sum_columns)"
      ],
      "execution_count": 46,
      "outputs": [
        {
          "output_type": "stream",
          "text": [
            "[184 173 355]\n",
            "[418 155  52  39  48]\n"
          ],
          "name": "stdout"
        }
      ]
    },
    {
      "cell_type": "code",
      "metadata": {
        "id": "9MFGd2h60yEK",
        "colab_type": "code",
        "outputId": "71074f8f-3112-4799-cc51-0f05b7154b57",
        "colab": {
          "base_uri": "https://localhost:8080/",
          "height": 34
        }
      },
      "source": [
        "# Make our total\n",
        "total = fare_by_class.loc['All', 'All']\n",
        "total"
      ],
      "execution_count": 47,
      "outputs": [
        {
          "output_type": "execute_result",
          "data": {
            "text/plain": [
              "712"
            ]
          },
          "metadata": {
            "tags": []
          },
          "execution_count": 47
        }
      ]
    },
    {
      "cell_type": "code",
      "metadata": {
        "id": "0tdq2WID8TxF",
        "colab_type": "code",
        "outputId": "15b0013c-b522-43dd-c960-e5ac482a35b0",
        "colab": {
          "base_uri": "https://localhost:8080/",
          "height": 34
        }
      },
      "source": [
        "# Compare that to shape\n",
        "df.shape[0]"
      ],
      "execution_count": 48,
      "outputs": [
        {
          "output_type": "execute_result",
          "data": {
            "text/plain": [
              "712"
            ]
          },
          "metadata": {
            "tags": []
          },
          "execution_count": 48
        }
      ]
    },
    {
      "cell_type": "code",
      "metadata": {
        "id": "vU2mEWvy8e4k",
        "colab_type": "code",
        "outputId": "42ad2af9-35c2-45f8-d4b3-95ec57822f66",
        "colab": {
          "base_uri": "https://localhost:8080/",
          "height": 85
        }
      },
      "source": [
        "expected_value = []\n",
        "for i in range(len(sum_rows)):\n",
        "  row_expected = []\n",
        "  for column in sum_columns:\n",
        "    val_expected = column * sum_rows[i] / total\n",
        "    row_expected.append(val_expected)\n",
        "  expected_value.append(row_expected)\n",
        "\n",
        "expected_value = np.array(expected_value)\n",
        "print(expected_value.shape)\n",
        "print(expected_value)"
      ],
      "execution_count": 49,
      "outputs": [
        {
          "output_type": "stream",
          "text": [
            "(3, 5)\n",
            "[[108.02247191  40.05617978  13.43820225  10.07865169  12.40449438]\n",
            " [101.56460674  37.66151685  12.63483146   9.4761236   11.66292135]\n",
            " [208.41292135  77.28230337  25.92696629  19.44522472  23.93258427]]\n"
          ],
          "name": "stdout"
        }
      ]
    },
    {
      "cell_type": "code",
      "metadata": {
        "id": "c5lwVvVzECIP",
        "colab_type": "code",
        "outputId": "e3806e3f-65e7-4c0f-c5fe-b4121f83455d",
        "colab": {
          "base_uri": "https://localhost:8080/",
          "height": 85
        }
      },
      "source": [
        "observed_value = pd.crosstab(df['Pclass'], df['fare_categories']).values\n",
        "print(observed_value.shape)\n",
        "observed_value"
      ],
      "execution_count": 50,
      "outputs": [
        {
          "output_type": "stream",
          "text": [
            "(3, 5)\n"
          ],
          "name": "stdout"
        },
        {
          "output_type": "execute_result",
          "data": {
            "text/plain": [
              "array([[  4,  52,  41,  39,  48],\n",
              "       [106,  60,   7,   0,   0],\n",
              "       [308,  43,   4,   0,   0]])"
            ]
          },
          "metadata": {
            "tags": []
          },
          "execution_count": 50
        }
      ]
    },
    {
      "cell_type": "code",
      "metadata": {
        "id": "Fnp5aXGWEcTy",
        "colab_type": "code",
        "outputId": "b612f8b5-451a-4594-fd8e-67f37e57cdf4",
        "colab": {
          "base_uri": "https://localhost:8080/",
          "height": 34
        }
      },
      "source": [
        "# Let's determine the chisquare using Numpy\n",
        "chisquared = ((observed_value - expected_value)**2 / (expected_value)).sum()\n",
        "print(f'Chi-squared: {chisquared}')"
      ],
      "execution_count": 51,
      "outputs": [
        {
          "output_type": "stream",
          "text": [
            "Chi-squared: 507.2078677105663\n"
          ],
          "name": "stdout"
        }
      ]
    },
    {
      "cell_type": "code",
      "metadata": {
        "id": "5LzyN_cEFQOX",
        "colab_type": "code",
        "outputId": "c03b5b18-5f3e-482d-9549-0236d573b781",
        "colab": {
          "base_uri": "https://localhost:8080/",
          "height": 34
        }
      },
      "source": [
        "# What's our degrees of freedom?\n",
        "dof = (len(sum_rows) - 1) * (len(sum_columns) - 1)\n",
        "print(f'Degrees of Freedom: {dof}')"
      ],
      "execution_count": 52,
      "outputs": [
        {
          "output_type": "stream",
          "text": [
            "Degrees of Freedom: 8\n"
          ],
          "name": "stdout"
        }
      ]
    },
    {
      "cell_type": "code",
      "metadata": {
        "id": "6Uc5t21rGu7Z",
        "colab_type": "code",
        "outputId": "9b56595c-e4aa-4972-9e2f-b5215ee29178",
        "colab": {
          "base_uri": "https://localhost:8080/",
          "height": 136
        }
      },
      "source": [
        "# Now let's find our chisquare using a single line in scipy\n",
        "chisquared, p_value, dof, expected_value = stats.chi2_contingency(observed_value)\n",
        "\n",
        "print(f\"Chi-Squared: {chisquared}\")\n",
        "print(f\"P-value: {p_value}\")\n",
        "print(f\"Degrees of Freedom: {dof}\")\n",
        "print(f\"Expected: \\n\", np.array(expected_value))"
      ],
      "execution_count": 53,
      "outputs": [
        {
          "output_type": "stream",
          "text": [
            "Chi-Squared: 507.2078677105663\n",
            "P-value: 1.9983666224256217e-104\n",
            "Degrees of Freedom: 8\n",
            "Expected: \n",
            " [[108.02247191  40.05617978  13.43820225  10.07865169  12.40449438]\n",
            " [101.56460674  37.66151685  12.63483146   9.4761236   11.66292135]\n",
            " [208.41292135  77.28230337  25.92696629  19.44522472  23.93258427]]\n"
          ],
          "name": "stdout"
        }
      ]
    },
    {
      "cell_type": "code",
      "metadata": {
        "id": "YOD2Z2n_mXQ8",
        "colab_type": "code",
        "colab": {
          "base_uri": "https://localhost:8080/",
          "height": 68
        },
        "outputId": "6954ba62-695e-4db0-c2bc-39b670a15228"
      },
      "source": [
        "# Let's find two more categorical columns\n",
        "df.columns"
      ],
      "execution_count": 64,
      "outputs": [
        {
          "output_type": "execute_result",
          "data": {
            "text/plain": [
              "Index(['Survived', 'Pclass', 'Sex', 'Age', 'Fare', 'Embarked',\n",
              "       'age_categories', 'fare_categories'],\n",
              "      dtype='object')"
            ]
          },
          "metadata": {
            "tags": []
          },
          "execution_count": 64
        }
      ]
    },
    {
      "cell_type": "code",
      "metadata": {
        "id": "giwCdxjpmhvW",
        "colab_type": "code",
        "colab": {
          "base_uri": "https://localhost:8080/",
          "height": 173
        },
        "outputId": "603db567-ce96-47a7-e860-4101a08485f1"
      },
      "source": [
        "# Let's look at the correlation between survived and sex\n",
        "survived_by_sex = pd.crosstab(df['Survived'], df['Sex'], margins=True)\n",
        "survived_by_sex"
      ],
      "execution_count": 65,
      "outputs": [
        {
          "output_type": "execute_result",
          "data": {
            "text/html": [
              "<div>\n",
              "<style scoped>\n",
              "    .dataframe tbody tr th:only-of-type {\n",
              "        vertical-align: middle;\n",
              "    }\n",
              "\n",
              "    .dataframe tbody tr th {\n",
              "        vertical-align: top;\n",
              "    }\n",
              "\n",
              "    .dataframe thead th {\n",
              "        text-align: right;\n",
              "    }\n",
              "</style>\n",
              "<table border=\"1\" class=\"dataframe\">\n",
              "  <thead>\n",
              "    <tr style=\"text-align: right;\">\n",
              "      <th>Sex</th>\n",
              "      <th>female</th>\n",
              "      <th>male</th>\n",
              "      <th>All</th>\n",
              "    </tr>\n",
              "    <tr>\n",
              "      <th>Survived</th>\n",
              "      <th></th>\n",
              "      <th></th>\n",
              "      <th></th>\n",
              "    </tr>\n",
              "  </thead>\n",
              "  <tbody>\n",
              "    <tr>\n",
              "      <th>0</th>\n",
              "      <td>64</td>\n",
              "      <td>360</td>\n",
              "      <td>424</td>\n",
              "    </tr>\n",
              "    <tr>\n",
              "      <th>1</th>\n",
              "      <td>195</td>\n",
              "      <td>93</td>\n",
              "      <td>288</td>\n",
              "    </tr>\n",
              "    <tr>\n",
              "      <th>All</th>\n",
              "      <td>259</td>\n",
              "      <td>453</td>\n",
              "      <td>712</td>\n",
              "    </tr>\n",
              "  </tbody>\n",
              "</table>\n",
              "</div>"
            ],
            "text/plain": [
              "Sex       female  male  All\n",
              "Survived                   \n",
              "0             64   360  424\n",
              "1            195    93  288\n",
              "All          259   453  712"
            ]
          },
          "metadata": {
            "tags": []
          },
          "execution_count": 65
        }
      ]
    },
    {
      "cell_type": "code",
      "metadata": {
        "id": "gLwa-YbKmtTn",
        "colab_type": "code",
        "colab": {}
      },
      "source": [
        "# Seperate these into male and female\n",
        "survived_by_sex = survived_by_sex.T\n"
      ],
      "execution_count": 0,
      "outputs": []
    },
    {
      "cell_type": "code",
      "metadata": {
        "id": "1Q-vObnYvvFp",
        "colab_type": "code",
        "colab": {
          "base_uri": "https://localhost:8080/",
          "height": 173
        },
        "outputId": "29b8e861-e8bf-409f-9e1b-50cf011824fb"
      },
      "source": [
        "survived_by_sex"
      ],
      "execution_count": 111,
      "outputs": [
        {
          "output_type": "execute_result",
          "data": {
            "text/html": [
              "<div>\n",
              "<style scoped>\n",
              "    .dataframe tbody tr th:only-of-type {\n",
              "        vertical-align: middle;\n",
              "    }\n",
              "\n",
              "    .dataframe tbody tr th {\n",
              "        vertical-align: top;\n",
              "    }\n",
              "\n",
              "    .dataframe thead th {\n",
              "        text-align: right;\n",
              "    }\n",
              "</style>\n",
              "<table border=\"1\" class=\"dataframe\">\n",
              "  <thead>\n",
              "    <tr style=\"text-align: right;\">\n",
              "      <th>Survived</th>\n",
              "      <th>0</th>\n",
              "      <th>1</th>\n",
              "      <th>All</th>\n",
              "    </tr>\n",
              "    <tr>\n",
              "      <th>Sex</th>\n",
              "      <th></th>\n",
              "      <th></th>\n",
              "      <th></th>\n",
              "    </tr>\n",
              "  </thead>\n",
              "  <tbody>\n",
              "    <tr>\n",
              "      <th>female</th>\n",
              "      <td>64</td>\n",
              "      <td>195</td>\n",
              "      <td>259</td>\n",
              "    </tr>\n",
              "    <tr>\n",
              "      <th>male</th>\n",
              "      <td>360</td>\n",
              "      <td>93</td>\n",
              "      <td>453</td>\n",
              "    </tr>\n",
              "    <tr>\n",
              "      <th>All</th>\n",
              "      <td>424</td>\n",
              "      <td>288</td>\n",
              "      <td>712</td>\n",
              "    </tr>\n",
              "  </tbody>\n",
              "</table>\n",
              "</div>"
            ],
            "text/plain": [
              "Survived    0    1  All\n",
              "Sex                    \n",
              "female     64  195  259\n",
              "male      360   93  453\n",
              "All       424  288  712"
            ]
          },
          "metadata": {
            "tags": []
          },
          "execution_count": 111
        }
      ]
    },
    {
      "cell_type": "code",
      "metadata": {
        "id": "4VJw9efGvsSF",
        "colab_type": "code",
        "colab": {
          "base_uri": "https://localhost:8080/",
          "height": 34
        },
        "outputId": "05158678-b49d-4d0f-c641-fe46809a2946"
      },
      "source": [
        "female_survived = survived_by_sex.iloc[0][:2].values\n",
        "female_survived"
      ],
      "execution_count": 112,
      "outputs": [
        {
          "output_type": "execute_result",
          "data": {
            "text/plain": [
              "array([ 64, 195])"
            ]
          },
          "metadata": {
            "tags": []
          },
          "execution_count": 112
        }
      ]
    },
    {
      "cell_type": "code",
      "metadata": {
        "id": "6AG7nBexmtnc",
        "colab_type": "code",
        "colab": {
          "base_uri": "https://localhost:8080/",
          "height": 34
        },
        "outputId": "4d0cf114-d846-46ca-c652-ed32cc4c0f6d"
      },
      "source": [
        "male_survived = survived_by_sex.iloc[1][:2].values\n",
        "male_survived"
      ],
      "execution_count": 113,
      "outputs": [
        {
          "output_type": "execute_result",
          "data": {
            "text/plain": [
              "array([360,  93])"
            ]
          },
          "metadata": {
            "tags": []
          },
          "execution_count": 113
        }
      ]
    },
    {
      "cell_type": "code",
      "metadata": {
        "id": "E-nX1jRQmty4",
        "colab_type": "code",
        "colab": {
          "base_uri": "https://localhost:8080/",
          "height": 355
        },
        "outputId": "1a06fcd3-11f6-4eca-c0a4-95a6f4d86388"
      },
      "source": [
        "# Plot for funsies!\n",
        "fig = plt.figure(figsize=(10,5))\n",
        "sns.set(font_scale=1.8)\n",
        "categories = [\"Didn't Survive\", \"Survived\"]\n",
        "p1 = plt.bar(categories, female_survived, 0.45, color='red')\n",
        "p2 = plt.bar(categories, male_survived, 0.35, color='blue')\n",
        "plt.legend((p2[0], p1[0]), ('Male', 'Female'))\n",
        "plt.xlabel(\"Survival\")\n",
        "plt.ylabel(\"Count\")\n",
        "plt.show()"
      ],
      "execution_count": 114,
      "outputs": [
        {
          "output_type": "display_data",
          "data": {
            "image/png": "[encoded data removed]",
            "text/plain": [
              "<Figure size 720x360 with 1 Axes>"
            ]
          },
          "metadata": {
            "tags": []
          }
        }
      ]
    },
    {
      "cell_type": "code",
      "metadata": {
        "id": "C5dgGvjvotvZ",
        "colab_type": "code",
        "colab": {
          "base_uri": "https://localhost:8080/",
          "height": 173
        },
        "outputId": "f2b10a6b-7e42-442a-a7ca-b881d23e6a5c"
      },
      "source": [
        "survived_by_sex.head()"
      ],
      "execution_count": 115,
      "outputs": [
        {
          "output_type": "execute_result",
          "data": {
            "text/html": [
              "<div>\n",
              "<style scoped>\n",
              "    .dataframe tbody tr th:only-of-type {\n",
              "        vertical-align: middle;\n",
              "    }\n",
              "\n",
              "    .dataframe tbody tr th {\n",
              "        vertical-align: top;\n",
              "    }\n",
              "\n",
              "    .dataframe thead th {\n",
              "        text-align: right;\n",
              "    }\n",
              "</style>\n",
              "<table border=\"1\" class=\"dataframe\">\n",
              "  <thead>\n",
              "    <tr style=\"text-align: right;\">\n",
              "      <th>Survived</th>\n",
              "      <th>0</th>\n",
              "      <th>1</th>\n",
              "      <th>All</th>\n",
              "    </tr>\n",
              "    <tr>\n",
              "      <th>Sex</th>\n",
              "      <th></th>\n",
              "      <th></th>\n",
              "      <th></th>\n",
              "    </tr>\n",
              "  </thead>\n",
              "  <tbody>\n",
              "    <tr>\n",
              "      <th>female</th>\n",
              "      <td>64</td>\n",
              "      <td>195</td>\n",
              "      <td>259</td>\n",
              "    </tr>\n",
              "    <tr>\n",
              "      <th>male</th>\n",
              "      <td>360</td>\n",
              "      <td>93</td>\n",
              "      <td>453</td>\n",
              "    </tr>\n",
              "    <tr>\n",
              "      <th>All</th>\n",
              "      <td>424</td>\n",
              "      <td>288</td>\n",
              "      <td>712</td>\n",
              "    </tr>\n",
              "  </tbody>\n",
              "</table>\n",
              "</div>"
            ],
            "text/plain": [
              "Survived    0    1  All\n",
              "Sex                    \n",
              "female     64  195  259\n",
              "male      360   93  453\n",
              "All       424  288  712"
            ]
          },
          "metadata": {
            "tags": []
          },
          "execution_count": 115
        }
      ]
    },
    {
      "cell_type": "code",
      "metadata": {
        "id": "srQWsMh5muBj",
        "colab_type": "code",
        "colab": {
          "base_uri": "https://localhost:8080/",
          "height": 51
        },
        "outputId": "a6c5494d-adc5-49d3-8e9d-a1e5c891fb11"
      },
      "source": [
        "# Expected value calculations\n",
        "sum_rows = survived_by_sex.iloc[0:2, 2].values\n",
        "print(sum_rows)\n",
        "sum_columns = survived_by_sex.iloc[2, 0:2].values\n",
        "print(sum_columns)"
      ],
      "execution_count": 116,
      "outputs": [
        {
          "output_type": "stream",
          "text": [
            "[259 453]\n",
            "[424 288]\n"
          ],
          "name": "stdout"
        }
      ]
    },
    {
      "cell_type": "code",
      "metadata": {
        "id": "WaCc_mdRmuQW",
        "colab_type": "code",
        "colab": {
          "base_uri": "https://localhost:8080/",
          "height": 34
        },
        "outputId": "2ccb6c82-b7a2-405c-b846-d4d567045c7d"
      },
      "source": [
        "# Make our total\n",
        "total = survived_by_sex.loc['All', 'All']\n",
        "total"
      ],
      "execution_count": 117,
      "outputs": [
        {
          "output_type": "execute_result",
          "data": {
            "text/plain": [
              "712"
            ]
          },
          "metadata": {
            "tags": []
          },
          "execution_count": 117
        }
      ]
    },
    {
      "cell_type": "code",
      "metadata": {
        "id": "K-Bfqypqpts9",
        "colab_type": "code",
        "colab": {
          "base_uri": "https://localhost:8080/",
          "height": 68
        },
        "outputId": "02ac84db-6388-4756-a3d8-f4b1d8086557"
      },
      "source": [
        "expected = []\n",
        "for i in range(len(sum_rows)):\n",
        "  expected_row = []\n",
        "  for column in sum_columns:\n",
        "    expected_val = column * sum_rows[i] / total\n",
        "    expected_row.append(expected_val)\n",
        "  expected.append(expected_row)\n",
        "\n",
        "expected = np.array(expected)\n",
        "print(expected.shape)\n",
        "print(expected)"
      ],
      "execution_count": 119,
      "outputs": [
        {
          "output_type": "stream",
          "text": [
            "(2, 2)\n",
            "[[154.23595506 104.76404494]\n",
            " [269.76404494 183.23595506]]\n"
          ],
          "name": "stdout"
        }
      ]
    },
    {
      "cell_type": "code",
      "metadata": {
        "id": "nVYpu_Gypt51",
        "colab_type": "code",
        "colab": {
          "base_uri": "https://localhost:8080/",
          "height": 68
        },
        "outputId": "b8180f8b-889a-47ac-bf7d-a619bc84ef99"
      },
      "source": [
        "# Observed values\n",
        "observed_values = pd.crosstab(df['Survived'], df['Sex']).values\n",
        "print(observed_values.shape)\n",
        "observed_values"
      ],
      "execution_count": 124,
      "outputs": [
        {
          "output_type": "stream",
          "text": [
            "(2, 2)\n"
          ],
          "name": "stdout"
        },
        {
          "output_type": "execute_result",
          "data": {
            "text/plain": [
              "array([[ 64, 360],\n",
              "       [195,  93]])"
            ]
          },
          "metadata": {
            "tags": []
          },
          "execution_count": 124
        }
      ]
    },
    {
      "cell_type": "code",
      "metadata": {
        "id": "UdZT7SIupuFY",
        "colab_type": "code",
        "colab": {
          "base_uri": "https://localhost:8080/",
          "height": 34
        },
        "outputId": "51f3032a-a729-45dd-bc34-ec3ff49de6c2"
      },
      "source": [
        "# Determine chisquare using numpy\n",
        "chisquared = ((observed_values - expected)**2 / (expected)).sum()\n",
        "print(f'Chi_squared: {chisquared}')"
      ],
      "execution_count": 125,
      "outputs": [
        {
          "output_type": "stream",
          "text": [
            "Chi_squared: 205.13648469340083\n"
          ],
          "name": "stdout"
        }
      ]
    },
    {
      "cell_type": "code",
      "metadata": {
        "id": "opLn7Uscqnyo",
        "colab_type": "code",
        "colab": {
          "base_uri": "https://localhost:8080/",
          "height": 34
        },
        "outputId": "a7fd74a5-d3b7-45d5-82d9-4112d7d0346f"
      },
      "source": [
        "# Determine DoF\n",
        "dof = (len(sum_rows)-1) * (len(sum_columns)-1)\n",
        "print(f\"Degrees of Freedom: {dof}\")"
      ],
      "execution_count": 126,
      "outputs": [
        {
          "output_type": "stream",
          "text": [
            "Degrees of Freedom: 1\n"
          ],
          "name": "stdout"
        }
      ]
    },
    {
      "cell_type": "code",
      "metadata": {
        "id": "1qcpYZsUtI-v",
        "colab_type": "code",
        "colab": {
          "base_uri": "https://localhost:8080/",
          "height": 119
        },
        "outputId": "a849d051-5316-45f9-def6-5010e0f9a567"
      },
      "source": [
        "# Run using scipy\n",
        "chisquared, p_value, dof, expected = stats.chi2_contingency(observed_values)\n",
        "\n",
        "print(f\"Chi-Squared: {chisquared}\")\n",
        "print(f\"P-value: {p_value}\")\n",
        "print(f\"Degrees of Freedom: {dof}\")\n",
        "print(\"Expected: \\n\", np.array(expected_value))"
      ],
      "execution_count": 127,
      "outputs": [
        {
          "output_type": "stream",
          "text": [
            "Chi-Squared: 202.86944877617123\n",
            "P-value: 4.939416685451492e-46\n",
            "Degrees of Freedom: 1\n",
            "Expected: \n",
            " [[154.23595506 104.76404494]\n",
            " [269.76404494 183.23595506]]\n"
          ],
          "name": "stdout"
        }
      ]
    },
    {
      "cell_type": "markdown",
      "metadata": {
        "id": "4ohsJhQUmEuS",
        "colab_type": "text"
      },
      "source": [
        "## Stretch goals:\n",
        "\n",
        "1. Write a summary of your findings, mixing prose and math/code/results. *Note* - yes, this is by definition a political topic. It is challenging but important to keep your writing voice *neutral* and stick to the facts of the data. Data science often involves considering controversial issues, so it's important to be sensitive about them (especially if you want to publish).\n",
        "2. Apply the techniques you learned today to your project data or other data of your choice, and write/discuss your findings here.\n",
        "3. Refactor your code so it is elegant, readable, and can be easily run for all issues."
      ]
    },
    {
      "cell_type": "markdown",
      "metadata": {
        "id": "nyJ3ySr7R2k9",
        "colab_type": "text"
      },
      "source": [
        "## Resources\n",
        "\n",
        "- [Interactive visualize the Chi-Squared test](https://homepage.divms.uiowa.edu/~mbognar/applets/chisq.html)\n",
        "- [Calculation of Chi-Squared test statistic](https://en.wikipedia.org/wiki/Pearson%27s_chi-squared_test)\n",
        "- [Visualization of a confidence interval generated by R code](https://commons.wikimedia.org/wiki/File:Confidence-interval.svg)\n",
        "- [Expected value of a squared standard normal](https://math.stackexchange.com/questions/264061/expected-value-calculation-for-squared-normal-distribution) (it's 1 - which is why the expected value of a Chi-Squared with $n$ degrees of freedom is $n$, as it's the sum of $n$ squared standard normals)"
      ]
    }
  ]
}