{
 "nbformat": 4,
 "nbformat_minor": 0,
 "metadata": {
  "colab": {
   "name": "Unit 1 Sprint 2 - Study Guide.ipynb",
   "provenance": [
    {
     "file_id": "1cYxC-SRCqZgg2hDcohxHdU--8HB-46aO",
     "timestamp": 1601892565893
    },
    {
     "file_id": "1lAICG6khpXBJmRXvaMlctWrxm8QhxI5R",
     "timestamp": 1601310442388
    },
    {
     "file_id": "10T4m64dmfLsGA91j2v5c5yG7rUzBqB2Q",
     "timestamp": 1578879651220
    },
    {
     "file_id": "1SGnO8ZjDtlDUKnPMbzT9QHCO4Fne-fyB",
     "timestamp": 1573058832416
    }
   ],
   "collapsed_sections": []
  },
  "kernelspec": {
   "name": "python3",
   "display_name": "Python 3"
  }
 },
 "cells": [
  {
   "cell_type": "markdown",
   "metadata": {
    "id": "Nd2OOOVXxXS1"
   },
   "source": [
    "This study guide should reinforce and provide practice for all of the concepts you have seen in Unit 1 Sprint 1. There are a mix of written questions and coding exercises, both are equally important to prepare you for the sprint challenge as well as to be able to speak on these topics comfortably in interviews and on the job.\n",
    "\n",
    "If you get stuck or are unsure of something remember the 20 minute rule. If that doesn't help, then research a solution with google and stackoverflow. Only once you have exausted these methods should you turn to your track team and mentor - they won't be there on your SC or during an interview. That being said, don't hesitate to ask for help if you truly are stuck.\n",
    "\n",
    "Have fun studying!"
   ]
  },
  {
   "cell_type": "markdown",
   "metadata": {
    "id": "fpvInKdXekFi"
   },
   "source": [
    "## Questions"
   ]
  },
  {
   "cell_type": "markdown",
   "metadata": {
    "id": "Q6bS8AhBZ86H"
   },
   "source": [
    "When completing this section, try to limit your answers to 2-3 sentences max and use plain english as much as possible. It's very easy to hide incomplete knowledge and undertanding behind fancy or technical words, so imagine you are explaining these things to a non-technical interviewer.\n",
    "\n",
    "1. Describe the Normal Distribution.\n",
    "```\n",
    "Answer\n",
    "```\n",
    "\n",
    "2. What does the Central Limit Theorem tell us?\n",
    "```\n",
    "Answer\n",
    "```\n",
    "\n",
    "3. What does the Law of Large Numbers tell us?\n",
    "```\n",
    "Answer\n",
    "```\n",
    "\n",
    "4. What is the t-distribution and how does it relate to the Normal distribution?\n",
    "```\n",
    "Answer\n",
    "```\n",
    "\n",
    "5. What is the null hypothesis in a t-test?\n",
    "```\n",
    "Answer\n",
    "```\n",
    "\n",
    "6. What is the alternative hypothesis in a t-test?\n",
    "````\n",
    "Answer\n",
    "```\n",
    "\n",
    "7. What is a significance level (also known as an alpha level)?\n",
    "```\n",
    "Answer\n",
    "```\n",
    "\n",
    "8. What is a p-value?\n",
    "```\n",
    "Answer\n",
    "```\n",
    "\n",
    "9. How do you use the p-value and alpha level to determine if you should reject or fail to reject the null hypothesis?\n",
    "```\n",
    "Answer\n",
    "```\n",
    "\n",
    "10. Can you ever prove a null hypothesis is true?\n",
    "```\n",
    "your answer\n",
    "```\n",
    "\n",
    "11. Could you reject the null hypothesis at the alpha = 0.05 level but not at the 0.01 level?\n",
    "```\n",
    "your answer\n",
    "```\n",
    "\n",
    "12. Could you reject the null hypothesis at the alpha = 0.05 level but not at the 0.10 level?\n",
    "```\n",
    "your answer\n",
    "```\n",
    "\n",
    "13. What are the null and alternative hypotheses for a chi-square test?\n",
    "```\n",
    "your answer\n",
    "```\n",
    "\n",
    "14. Explain the difference between a one-sample and two-sample t-test.\n",
    "```\n",
    "your answer\n",
    "```\n",
    "\n",
    "15. Explain the difference betwen a t-test and a chi-square test.\n",
    "```\n",
    "your answer\n",
    "```\n",
    "\n",
    "16. What do the terms \"frequency\" and \"relative frequency\" mean?\n",
    "```\n",
    "your answer\n",
    "```\n",
    "\n",
    "17. What is a statistical distribution?\n",
    "```\n",
    "your answer\n",
    "```\n",
    "\n",
    "18. What is a joint distribution?\n",
    "```\n",
    "your answer\n",
    "```\n",
    "\n",
    "19. What is a conditional distribution?\n",
    "```\n",
    "your answer\n",
    "```\n",
    "\n",
    "20. What is a contingency table?\n",
    "```\n",
    "your answer\n",
    "```\n",
    "\n",
    "21. What is a marginal distribution?\n",
    "```\n",
    "your answer\n",
    "```\n",
    "\n",
    "22. What is the purpose of making a confidence interval?\n",
    "```\n",
    "your answer\n",
    "```\n",
    "\n",
    "23. What does it mean to be 95% confident?\n",
    "```\n",
    "your answer\n",
    "```\n",
    "\n",
    "24. What is a margin of error?\n",
    "```\n",
    "your answer\n",
    "```\n",
    "\n",
    "25. If your confidence level remains the same, will your confidence interval become wider or narrower if you increase your sample size?\n",
    "```\n",
    "your answer\n",
    "```\n",
    "\n",
    "26. Which is more precise: a 90%, 95% or 99% confidence interval?\n",
    "```\n",
    "your answer\n",
    "```\n",
    "\n",
    "27. Which is more accurate: a 90%, 95% or 99% confidence interval?\n",
    "```\n",
    "your answer\n",
    "```\n",
    "\n",
    "28. Can you be 100% confident?\n",
    "```\n",
    "your answer\n",
    "```\n",
    "\n",
    "29. What is the law of conditional probability?\n",
    "```\n",
    "your answer\n",
    "```\n",
    "\n",
    "30. Who was Reverend Bayes?  When did he live?\n",
    "```\n",
    "your answer\n",
    "```\n",
    "\n",
    "31. Describe the \"big idea\" of Bayesian statistics.\n",
    "```\n",
    "your answer\n",
    "```\n",
    "\n",
    "32. Describe two differences between the Bayesian and Frequentist approaches to data analysis.\n",
    "```\n",
    "your answer\n",
    "```\n",
    "\n",
    "33. Who was Gosset?  When did he live?  What other name is he known by and why did he use a pseudonym?\n",
    "```\n",
    "your answer\n",
    "```\n",
    "\n",
    "People who will not be on the sprint challenge but you should know as a student of mathematics/computer science: \n",
    "\n",
    "Gauss\n",
    "\n",
    "Bernoulli\n",
    "\n",
    "Laplace\n",
    "\n",
    "Fisher\n",
    "\n",
    "(Karl) Pearson\n",
    "\n",
    "Turing\n",
    "\n",
    "Shannon"
   ]
  },
  {
   "cell_type": "markdown",
   "metadata": {
    "id": "dUQaIwbceohq"
   },
   "source": [
    "## Coding problems"
   ]
  },
  {
   "cell_type": "markdown",
   "metadata": {
    "id": "4jnYgnFjP6eE"
   },
   "source": [
    "Conduct a one-sample t-test\n"
   ]
  },
  {
   "cell_type": "code",
   "metadata": {
    "id": "S9hFYrmqQlLA"
   },
   "source": [],
   "execution_count": null,
   "outputs": []
  },
  {
   "cell_type": "markdown",
   "metadata": {
    "id": "bCbET5ioQlmQ"
   },
   "source": [
    "Conduct a two-sample t-test\n"
   ]
  },
  {
   "cell_type": "code",
   "metadata": {
    "id": "lwNwPn5nQowi"
   },
   "source": [],
   "execution_count": null,
   "outputs": []
  },
  {
   "cell_type": "markdown",
   "metadata": {
    "id": "2hq-PhcTQph7"
   },
   "source": [
    "Conduct a chi-square test"
   ]
  },
  {
   "cell_type": "code",
   "metadata": {
    "id": "ZsWsuYwXRRP3"
   },
   "source": [],
   "execution_count": null,
   "outputs": []
  },
  {
   "cell_type": "markdown",
   "metadata": {
    "id": "jVqQYLgxld7M"
   },
   "source": [
    "Calculate a frequency and relative frequency"
   ]
  },
  {
   "cell_type": "code",
   "metadata": {
    "id": "ScovMuwvRdtq"
   },
   "source": [],
   "execution_count": null,
   "outputs": []
  },
  {
   "cell_type": "markdown",
   "metadata": {
    "id": "uD5cTw9plh9c"
   },
   "source": [
    "Calculate a joint distribution and add on the marginal distributions."
   ]
  },
  {
   "cell_type": "code",
   "metadata": {
    "id": "XlazD59ClhXi"
   },
   "source": [],
   "execution_count": null,
   "outputs": []
  },
  {
   "cell_type": "markdown",
   "metadata": {
    "id": "JyThYBHGlm60"
   },
   "source": [
    "Calculate a conditional distribution"
   ]
  },
  {
   "cell_type": "code",
   "metadata": {
    "id": "pr_vT8VSmK6J"
   },
   "source": [],
   "execution_count": null,
   "outputs": []
  },
  {
   "cell_type": "markdown",
   "metadata": {
    "id": "jsVSa5EXnS_o"
   },
   "source": [
    "Calculate a confidence interval for a population mean."
   ]
  },
  {
   "cell_type": "code",
   "metadata": {
    "id": "mmdHcvXznVec"
   },
   "source": [],
   "execution_count": null,
   "outputs": []
  },
  {
   "cell_type": "markdown",
   "metadata": {
    "id": "gmYQEUVtnVrS"
   },
   "source": [
    "Calculate a Bayesian confidence interval."
   ]
  },
  {
   "cell_type": "code",
   "metadata": {
    "id": "bs4t6foXnXyC"
   },
   "source": [],
   "execution_count": null,
   "outputs": []
  }
 ]
}
