{
  "nbformat": 4,
  "nbformat_minor": 0,
  "metadata": {
    "colab": {
      "name": " DS_Unit_1_Sprint_Challenge_2_Statistics.ipynb",
      "provenance": [],
      "collapsed_sections": [],
      "include_colab_link": true
    },
    "kernelspec": {
      "name": "python3",
      "display_name": "Python 3"
    }
  },
  "cells": [
    {
      "cell_type": "markdown",
      "metadata": {
        "id": "view-in-github",
        "colab_type": "text"
      },
      "source": [
        "<a href=\"https://colab.research.google.com/github/SamAlrahmani/DS-Unit-1-Sprint-2-Statistics/blob/master/DS_Unit_1_Sprint_Challenge_2_Statistics.ipynb\" target=\"_parent\"><img src=\"https://colab.research.google.com/assets/colab-badge.svg\" alt=\"Open In Colab\"/></a>"
      ]
    },
    {
      "cell_type": "markdown",
      "metadata": {
        "id": "NooAiTdnafkz",
        "colab_type": "text"
      },
      "source": [
        "# Data Science Unit 1 Sprint Challenge 2\n",
        "\n",
        "## Exploring Data, Testing Hypotheses\n",
        "\n",
        "In this sprint challenge you will look at a dataset of people being approved or rejected for credit.\n",
        "\n",
        "https://archive.ics.uci.edu/ml/datasets/Credit+Approval\n",
        "\n",
        "Data Set Information: This file concerns credit card applications. All attribute names and values have been changed to meaningless symbols to protect confidentiality of the data. This dataset is interesting because there is a good mix of attributes -- continuous, nominal with small numbers of values, and nominal with larger numbers of values. There are also a few missing values.\n",
        "\n",
        "Attribute Information:\n",
        "- A1: b, a.\n",
        "- A2: continuous.\n",
        "- A3: continuous.\n",
        "- A4: u, y, l, t.\n",
        "- A5: g, p, gg.\n",
        "- A6: c, d, cc, i, j, k, m, r, q, w, x, e, aa, ff.\n",
        "- A7: v, h, bb, j, n, z, dd, ff, o.\n",
        "- A8: continuous.\n",
        "- A9: t, f.\n",
        "- A10: t, f.\n",
        "- A11: continuous.\n",
        "- A12: t, f.\n",
        "- A13: g, p, s.\n",
        "- A14: continuous.\n",
        "- A15: continuous.\n",
        "- A16: +,- (class attribute)\n",
        "\n",
        "Yes, most of that doesn't mean anything. A16 is a variable that indicates whether or not a person's request for credit has been approved or denied. This is a good candidate for a y variable since we might want to use the other features to predict this one. The remaining variables have been obfuscated for privacy - a challenge you may have to deal with in your data science career.\n",
        "\n",
        "Sprint challenges are evaluated based on satisfactory completion of each part. It is suggested you work through it in order, getting each aspect reasonably working, before trying to deeply explore, iterate, or refine any given step. Once you get to the end, if you want to go back and improve things, go for it!"
      ]
    },
    {
      "cell_type": "markdown",
      "metadata": {
        "id": "5wch6ksCbJtZ",
        "colab_type": "text"
      },
      "source": [
        "## Part 1 - Load and validate the data\n",
        "\n",
        "- Load the data as a `pandas` data frame.\n",
        "- Validate that it has the appropriate number of observations (you can check the raw file, and also read the dataset description from UCI).\n",
        "- UCI says there should be missing data - check, and if necessary change the data so pandas recognizes it as na\n",
        "- Make sure that the loaded features are of the types described above (continuous values should be treated as float), and correct as necessary\n",
        "\n",
        "This is review, but skills that you'll use at the start of any data exploration. Further, you may have to do some investigation to figure out which file to load from - that is part of the puzzle."
      ]
    },
    {
      "cell_type": "code",
      "metadata": {
        "id": "Q79xDLckzibS",
        "colab_type": "code",
        "outputId": "ff8c90da-3d6d-4e7b-d9e6-44462efd18a0",
        "colab": {
          "base_uri": "https://localhost:8080/",
          "height": 419
        }
      },
      "source": [
        "# TODO\n",
        "#imports\n",
        "import pandas as pd\n",
        "import numpy as np\n",
        "from scipy import stats\n",
        "import seaborn as sns\n",
        "import matplotlib.pyplot as plt\n",
        "from scipy.stats import ttest_ind\n",
        "\n",
        "df = pd.read_csv('https://archive.ics.uci.edu/ml/machine-learning-databases/credit-screening/crx.data',\n",
        "                 header=None,names=['A1','A2','A3','A4','A5','A6','A7','A8','A9',\n",
        "                                    'A10','A11','A12','A13','A14','A15','A16'])\n",
        "df"
      ],
      "execution_count": 0,
      "outputs": [
        {
          "output_type": "execute_result",
          "data": {
            "text/html": [
              "<div>\n",
              "<style scoped>\n",
              "    .dataframe tbody tr th:only-of-type {\n",
              "        vertical-align: middle;\n",
              "    }\n",
              "\n",
              "    .dataframe tbody tr th {\n",
              "        vertical-align: top;\n",
              "    }\n",
              "\n",
              "    .dataframe thead th {\n",
              "        text-align: right;\n",
              "    }\n",
              "</style>\n",
              "<table border=\"1\" class=\"dataframe\">\n",
              "  <thead>\n",
              "    <tr style=\"text-align: right;\">\n",
              "      <th></th>\n",
              "      <th>A1</th>\n",
              "      <th>A2</th>\n",
              "      <th>A3</th>\n",
              "      <th>A4</th>\n",
              "      <th>A5</th>\n",
              "      <th>A6</th>\n",
              "      <th>A7</th>\n",
              "      <th>A8</th>\n",
              "      <th>A9</th>\n",
              "      <th>A10</th>\n",
              "      <th>A11</th>\n",
              "      <th>A12</th>\n",
              "      <th>A13</th>\n",
              "      <th>A14</th>\n",
              "      <th>A15</th>\n",
              "      <th>A16</th>\n",
              "    </tr>\n",
              "  </thead>\n",
              "  <tbody>\n",
              "    <tr>\n",
              "      <th>0</th>\n",
              "      <td>b</td>\n",
              "      <td>30.83</td>\n",
              "      <td>0.000</td>\n",
              "      <td>u</td>\n",
              "      <td>g</td>\n",
              "      <td>w</td>\n",
              "      <td>v</td>\n",
              "      <td>1.25</td>\n",
              "      <td>t</td>\n",
              "      <td>t</td>\n",
              "      <td>1</td>\n",
              "      <td>f</td>\n",
              "      <td>g</td>\n",
              "      <td>00202</td>\n",
              "      <td>0</td>\n",
              "      <td>+</td>\n",
              "    </tr>\n",
              "    <tr>\n",
              "      <th>1</th>\n",
              "      <td>a</td>\n",
              "      <td>58.67</td>\n",
              "      <td>4.460</td>\n",
              "      <td>u</td>\n",
              "      <td>g</td>\n",
              "      <td>q</td>\n",
              "      <td>h</td>\n",
              "      <td>3.04</td>\n",
              "      <td>t</td>\n",
              "      <td>t</td>\n",
              "      <td>6</td>\n",
              "      <td>f</td>\n",
              "      <td>g</td>\n",
              "      <td>00043</td>\n",
              "      <td>560</td>\n",
              "      <td>+</td>\n",
              "    </tr>\n",
              "    <tr>\n",
              "      <th>2</th>\n",
              "      <td>a</td>\n",
              "      <td>24.50</td>\n",
              "      <td>0.500</td>\n",
              "      <td>u</td>\n",
              "      <td>g</td>\n",
              "      <td>q</td>\n",
              "      <td>h</td>\n",
              "      <td>1.50</td>\n",
              "      <td>t</td>\n",
              "      <td>f</td>\n",
              "      <td>0</td>\n",
              "      <td>f</td>\n",
              "      <td>g</td>\n",
              "      <td>00280</td>\n",
              "      <td>824</td>\n",
              "      <td>+</td>\n",
              "    </tr>\n",
              "    <tr>\n",
              "      <th>3</th>\n",
              "      <td>b</td>\n",
              "      <td>27.83</td>\n",
              "      <td>1.540</td>\n",
              "      <td>u</td>\n",
              "      <td>g</td>\n",
              "      <td>w</td>\n",
              "      <td>v</td>\n",
              "      <td>3.75</td>\n",
              "      <td>t</td>\n",
              "      <td>t</td>\n",
              "      <td>5</td>\n",
              "      <td>t</td>\n",
              "      <td>g</td>\n",
              "      <td>00100</td>\n",
              "      <td>3</td>\n",
              "      <td>+</td>\n",
              "    </tr>\n",
              "    <tr>\n",
              "      <th>4</th>\n",
              "      <td>b</td>\n",
              "      <td>20.17</td>\n",
              "      <td>5.625</td>\n",
              "      <td>u</td>\n",
              "      <td>g</td>\n",
              "      <td>w</td>\n",
              "      <td>v</td>\n",
              "      <td>1.71</td>\n",
              "      <td>t</td>\n",
              "      <td>f</td>\n",
              "      <td>0</td>\n",
              "      <td>f</td>\n",
              "      <td>s</td>\n",
              "      <td>00120</td>\n",
              "      <td>0</td>\n",
              "      <td>+</td>\n",
              "    </tr>\n",
              "    <tr>\n",
              "      <th>...</th>\n",
              "      <td>...</td>\n",
              "      <td>...</td>\n",
              "      <td>...</td>\n",
              "      <td>...</td>\n",
              "      <td>...</td>\n",
              "      <td>...</td>\n",
              "      <td>...</td>\n",
              "      <td>...</td>\n",
              "      <td>...</td>\n",
              "      <td>...</td>\n",
              "      <td>...</td>\n",
              "      <td>...</td>\n",
              "      <td>...</td>\n",
              "      <td>...</td>\n",
              "      <td>...</td>\n",
              "      <td>...</td>\n",
              "    </tr>\n",
              "    <tr>\n",
              "      <th>685</th>\n",
              "      <td>b</td>\n",
              "      <td>21.08</td>\n",
              "      <td>10.085</td>\n",
              "      <td>y</td>\n",
              "      <td>p</td>\n",
              "      <td>e</td>\n",
              "      <td>h</td>\n",
              "      <td>1.25</td>\n",
              "      <td>f</td>\n",
              "      <td>f</td>\n",
              "      <td>0</td>\n",
              "      <td>f</td>\n",
              "      <td>g</td>\n",
              "      <td>00260</td>\n",
              "      <td>0</td>\n",
              "      <td>-</td>\n",
              "    </tr>\n",
              "    <tr>\n",
              "      <th>686</th>\n",
              "      <td>a</td>\n",
              "      <td>22.67</td>\n",
              "      <td>0.750</td>\n",
              "      <td>u</td>\n",
              "      <td>g</td>\n",
              "      <td>c</td>\n",
              "      <td>v</td>\n",
              "      <td>2.00</td>\n",
              "      <td>f</td>\n",
              "      <td>t</td>\n",
              "      <td>2</td>\n",
              "      <td>t</td>\n",
              "      <td>g</td>\n",
              "      <td>00200</td>\n",
              "      <td>394</td>\n",
              "      <td>-</td>\n",
              "    </tr>\n",
              "    <tr>\n",
              "      <th>687</th>\n",
              "      <td>a</td>\n",
              "      <td>25.25</td>\n",
              "      <td>13.500</td>\n",
              "      <td>y</td>\n",
              "      <td>p</td>\n",
              "      <td>ff</td>\n",
              "      <td>ff</td>\n",
              "      <td>2.00</td>\n",
              "      <td>f</td>\n",
              "      <td>t</td>\n",
              "      <td>1</td>\n",
              "      <td>t</td>\n",
              "      <td>g</td>\n",
              "      <td>00200</td>\n",
              "      <td>1</td>\n",
              "      <td>-</td>\n",
              "    </tr>\n",
              "    <tr>\n",
              "      <th>688</th>\n",
              "      <td>b</td>\n",
              "      <td>17.92</td>\n",
              "      <td>0.205</td>\n",
              "      <td>u</td>\n",
              "      <td>g</td>\n",
              "      <td>aa</td>\n",
              "      <td>v</td>\n",
              "      <td>0.04</td>\n",
              "      <td>f</td>\n",
              "      <td>f</td>\n",
              "      <td>0</td>\n",
              "      <td>f</td>\n",
              "      <td>g</td>\n",
              "      <td>00280</td>\n",
              "      <td>750</td>\n",
              "      <td>-</td>\n",
              "    </tr>\n",
              "    <tr>\n",
              "      <th>689</th>\n",
              "      <td>b</td>\n",
              "      <td>35.00</td>\n",
              "      <td>3.375</td>\n",
              "      <td>u</td>\n",
              "      <td>g</td>\n",
              "      <td>c</td>\n",
              "      <td>h</td>\n",
              "      <td>8.29</td>\n",
              "      <td>f</td>\n",
              "      <td>f</td>\n",
              "      <td>0</td>\n",
              "      <td>t</td>\n",
              "      <td>g</td>\n",
              "      <td>00000</td>\n",
              "      <td>0</td>\n",
              "      <td>-</td>\n",
              "    </tr>\n",
              "  </tbody>\n",
              "</table>\n",
              "<p>690 rows × 16 columns</p>\n",
              "</div>"
            ],
            "text/plain": [
              "    A1     A2      A3 A4 A5  A6  A7    A8 A9 A10  A11 A12 A13    A14  A15 A16\n",
              "0    b  30.83   0.000  u  g   w   v  1.25  t   t    1   f   g  00202    0   +\n",
              "1    a  58.67   4.460  u  g   q   h  3.04  t   t    6   f   g  00043  560   +\n",
              "2    a  24.50   0.500  u  g   q   h  1.50  t   f    0   f   g  00280  824   +\n",
              "3    b  27.83   1.540  u  g   w   v  3.75  t   t    5   t   g  00100    3   +\n",
              "4    b  20.17   5.625  u  g   w   v  1.71  t   f    0   f   s  00120    0   +\n",
              "..  ..    ...     ... .. ..  ..  ..   ... ..  ..  ...  ..  ..    ...  ...  ..\n",
              "685  b  21.08  10.085  y  p   e   h  1.25  f   f    0   f   g  00260    0   -\n",
              "686  a  22.67   0.750  u  g   c   v  2.00  f   t    2   t   g  00200  394   -\n",
              "687  a  25.25  13.500  y  p  ff  ff  2.00  f   t    1   t   g  00200    1   -\n",
              "688  b  17.92   0.205  u  g  aa   v  0.04  f   f    0   f   g  00280  750   -\n",
              "689  b  35.00   3.375  u  g   c   h  8.29  f   f    0   t   g  00000    0   -\n",
              "\n",
              "[690 rows x 16 columns]"
            ]
          },
          "metadata": {
            "tags": []
          },
          "execution_count": 90
        }
      ]
    },
    {
      "cell_type": "code",
      "metadata": {
        "id": "gEvH6NVuXb1T",
        "colab_type": "code",
        "outputId": "4502285f-47f4-4249-d8e6-fc9e965d0e8c",
        "colab": {
          "base_uri": "https://localhost:8080/",
          "height": 297
        }
      },
      "source": [
        "df.isnull().sum() \n",
        "# dataframe has no null values\n",
        "df.describe()"
      ],
      "execution_count": 0,
      "outputs": [
        {
          "output_type": "execute_result",
          "data": {
            "text/html": [
              "<div>\n",
              "<style scoped>\n",
              "    .dataframe tbody tr th:only-of-type {\n",
              "        vertical-align: middle;\n",
              "    }\n",
              "\n",
              "    .dataframe tbody tr th {\n",
              "        vertical-align: top;\n",
              "    }\n",
              "\n",
              "    .dataframe thead th {\n",
              "        text-align: right;\n",
              "    }\n",
              "</style>\n",
              "<table border=\"1\" class=\"dataframe\">\n",
              "  <thead>\n",
              "    <tr style=\"text-align: right;\">\n",
              "      <th></th>\n",
              "      <th>A3</th>\n",
              "      <th>A8</th>\n",
              "      <th>A11</th>\n",
              "      <th>A15</th>\n",
              "    </tr>\n",
              "  </thead>\n",
              "  <tbody>\n",
              "    <tr>\n",
              "      <th>count</th>\n",
              "      <td>690.000000</td>\n",
              "      <td>690.000000</td>\n",
              "      <td>690.00000</td>\n",
              "      <td>690.000000</td>\n",
              "    </tr>\n",
              "    <tr>\n",
              "      <th>mean</th>\n",
              "      <td>4.758725</td>\n",
              "      <td>2.223406</td>\n",
              "      <td>2.40000</td>\n",
              "      <td>1017.385507</td>\n",
              "    </tr>\n",
              "    <tr>\n",
              "      <th>std</th>\n",
              "      <td>4.978163</td>\n",
              "      <td>3.346513</td>\n",
              "      <td>4.86294</td>\n",
              "      <td>5210.102598</td>\n",
              "    </tr>\n",
              "    <tr>\n",
              "      <th>min</th>\n",
              "      <td>0.000000</td>\n",
              "      <td>0.000000</td>\n",
              "      <td>0.00000</td>\n",
              "      <td>0.000000</td>\n",
              "    </tr>\n",
              "    <tr>\n",
              "      <th>25%</th>\n",
              "      <td>1.000000</td>\n",
              "      <td>0.165000</td>\n",
              "      <td>0.00000</td>\n",
              "      <td>0.000000</td>\n",
              "    </tr>\n",
              "    <tr>\n",
              "      <th>50%</th>\n",
              "      <td>2.750000</td>\n",
              "      <td>1.000000</td>\n",
              "      <td>0.00000</td>\n",
              "      <td>5.000000</td>\n",
              "    </tr>\n",
              "    <tr>\n",
              "      <th>75%</th>\n",
              "      <td>7.207500</td>\n",
              "      <td>2.625000</td>\n",
              "      <td>3.00000</td>\n",
              "      <td>395.500000</td>\n",
              "    </tr>\n",
              "    <tr>\n",
              "      <th>max</th>\n",
              "      <td>28.000000</td>\n",
              "      <td>28.500000</td>\n",
              "      <td>67.00000</td>\n",
              "      <td>100000.000000</td>\n",
              "    </tr>\n",
              "  </tbody>\n",
              "</table>\n",
              "</div>"
            ],
            "text/plain": [
              "               A3          A8        A11            A15\n",
              "count  690.000000  690.000000  690.00000     690.000000\n",
              "mean     4.758725    2.223406    2.40000    1017.385507\n",
              "std      4.978163    3.346513    4.86294    5210.102598\n",
              "min      0.000000    0.000000    0.00000       0.000000\n",
              "25%      1.000000    0.165000    0.00000       0.000000\n",
              "50%      2.750000    1.000000    0.00000       5.000000\n",
              "75%      7.207500    2.625000    3.00000     395.500000\n",
              "max     28.000000   28.500000   67.00000  100000.000000"
            ]
          },
          "metadata": {
            "tags": []
          },
          "execution_count": 91
        }
      ]
    },
    {
      "cell_type": "code",
      "metadata": {
        "id": "W-EyUX5dWnto",
        "colab_type": "code",
        "outputId": "142dbc9d-b520-4259-bc0b-6c0e3d480022",
        "colab": {
          "base_uri": "https://localhost:8080/",
          "height": 1000
        }
      },
      "source": [
        "for i in names:\n",
        "  print(df[i].value_counts(), '\\n')\n",
        "\n",
        "  #I found some ? in the dataset, I'm going to replace it only in A2 "
      ],
      "execution_count": 0,
      "outputs": [
        {
          "output_type": "stream",
          "text": [
            "b    468\n",
            "a    210\n",
            "?     12\n",
            "Name: A1, dtype: int64 \n",
            "\n",
            "?        12\n",
            "22.67     9\n",
            "20.42     7\n",
            "25.00     6\n",
            "24.50     6\n",
            "         ..\n",
            "59.67     1\n",
            "44.17     1\n",
            "58.42     1\n",
            "15.17     1\n",
            "33.00     1\n",
            "Name: A2, Length: 350, dtype: int64 \n",
            "\n",
            "1.500     21\n",
            "0.000     19\n",
            "3.000     19\n",
            "2.500     19\n",
            "1.250     16\n",
            "          ..\n",
            "12.125     1\n",
            "13.915     1\n",
            "22.000     1\n",
            "12.835     1\n",
            "10.915     1\n",
            "Name: A3, Length: 215, dtype: int64 \n",
            "\n",
            "u    519\n",
            "y    163\n",
            "?      6\n",
            "l      2\n",
            "Name: A4, dtype: int64 \n",
            "\n",
            "g     519\n",
            "p     163\n",
            "?       6\n",
            "gg      2\n",
            "Name: A5, dtype: int64 \n",
            "\n",
            "c     137\n",
            "q      78\n",
            "w      64\n",
            "i      59\n",
            "aa     54\n",
            "ff     53\n",
            "k      51\n",
            "cc     41\n",
            "m      38\n",
            "x      38\n",
            "d      30\n",
            "e      25\n",
            "j      10\n",
            "?       9\n",
            "r       3\n",
            "Name: A6, dtype: int64 \n",
            "\n",
            "v     399\n",
            "h     138\n",
            "bb     59\n",
            "ff     57\n",
            "?       9\n",
            "j       8\n",
            "z       8\n",
            "dd      6\n",
            "n       4\n",
            "o       2\n",
            "Name: A7, dtype: int64 \n",
            "\n",
            "0.000    70\n",
            "0.250    35\n",
            "0.040    33\n",
            "1.000    31\n",
            "0.125    30\n",
            "         ..\n",
            "3.960     1\n",
            "2.040     1\n",
            "1.040     1\n",
            "4.165     1\n",
            "5.375     1\n",
            "Name: A8, Length: 132, dtype: int64 \n",
            "\n",
            "t    361\n",
            "f    329\n",
            "Name: A9, dtype: int64 \n",
            "\n",
            "f    395\n",
            "t    295\n",
            "Name: A10, dtype: int64 \n",
            "\n",
            "0     395\n",
            "1      71\n",
            "2      45\n",
            "3      28\n",
            "6      23\n",
            "11     19\n",
            "5      18\n",
            "7      16\n",
            "4      15\n",
            "8      10\n",
            "9      10\n",
            "14      8\n",
            "12      8\n",
            "10      8\n",
            "15      4\n",
            "16      3\n",
            "17      2\n",
            "20      2\n",
            "40      1\n",
            "13      1\n",
            "19      1\n",
            "23      1\n",
            "67      1\n",
            "Name: A11, dtype: int64 \n",
            "\n",
            "f    374\n",
            "t    316\n",
            "Name: A12, dtype: int64 \n",
            "\n",
            "g    625\n",
            "s     57\n",
            "p      8\n",
            "Name: A13, dtype: int64 \n",
            "\n",
            "00000    132\n",
            "00200     35\n",
            "00120     35\n",
            "00160     34\n",
            "00100     30\n",
            "        ... \n",
            "00465      1\n",
            "00029      1\n",
            "00369      1\n",
            "00256      1\n",
            "00094      1\n",
            "Name: A14, Length: 171, dtype: int64 \n",
            "\n",
            "0       295\n",
            "1        29\n",
            "1000     10\n",
            "500      10\n",
            "2         9\n",
            "       ... \n",
            "2503      1\n",
            "6590      1\n",
            "1465      1\n",
            "5552      1\n",
            "283       1\n",
            "Name: A15, Length: 240, dtype: int64 \n",
            "\n",
            "-    383\n",
            "+    307\n",
            "Name: A16, dtype: int64 \n",
            "\n"
          ],
          "name": "stdout"
        }
      ]
    },
    {
      "cell_type": "code",
      "metadata": {
        "id": "9f-vY8HhYJV5",
        "colab_type": "code",
        "colab": {}
      },
      "source": [
        "#Replacing the ? in A2 with Nan \n",
        "df['A2']= df['A2'].replace({'?':np.NaN})\n",
        "df['A14']= df['A14'].replace({'?':np.NaN})\n",
        "\n",
        "\n",
        "# then changing the type to numeric\n",
        "df['A2'] = pd.to_numeric(df['A2'])\n",
        "df['A14'] = pd.to_numeric(df['A14'])"
      ],
      "execution_count": 0,
      "outputs": []
    },
    {
      "cell_type": "code",
      "metadata": {
        "id": "Xe_TBYGFZJtV",
        "colab_type": "code",
        "outputId": "d6da5d82-3193-4773-8460-aaa52163e1e0",
        "colab": {
          "base_uri": "https://localhost:8080/",
          "height": 306
        }
      },
      "source": [
        "df.dtypes"
      ],
      "execution_count": 0,
      "outputs": [
        {
          "output_type": "execute_result",
          "data": {
            "text/plain": [
              "A1      object\n",
              "A2     float64\n",
              "A3     float64\n",
              "A4      object\n",
              "A5      object\n",
              "A6      object\n",
              "A7      object\n",
              "A8     float64\n",
              "A9      object\n",
              "A10     object\n",
              "A11      int64\n",
              "A12     object\n",
              "A13     object\n",
              "A14    float64\n",
              "A15      int64\n",
              "A16     object\n",
              "dtype: object"
            ]
          },
          "metadata": {
            "tags": []
          },
          "execution_count": 94
        }
      ]
    },
    {
      "cell_type": "markdown",
      "metadata": {
        "id": "G7rLytbrO38L",
        "colab_type": "text"
      },
      "source": [
        "## Part 2 - Exploring data, Testing hypotheses\n",
        "\n",
        "The only thing we really know about this data is that A16 is the class label. Besides that, we have 6 continuous (float) features and 9 categorical features.\n",
        "\n",
        "Explore the data: you can use whatever approach (tables, utility functions, visualizations) to get an impression of the distributions and relationships of the variables. In general, your goal is to understand how the features are different when grouped by the two class labels (`+` and `-`).\n",
        "\n",
        "For the 6 continuous features, how are they different when split between the two class labels? Choose two features to run t-tests (again split by class label) - specifically, select one feature that is *extremely* different between the classes, and another feature that is notably less different (though perhaps still \"statistically significantly\" different). You may have to explore more than two features to do this.\n",
        "\n",
        "For the categorical features, explore by creating \"cross tabs\" (aka [contingency tables](https://en.wikipedia.org/wiki/Contingency_table)) between them and the class label, and apply the Chi-squared test to them. [pandas.crosstab](http://pandas.pydata.org/pandas-docs/stable/reference/api/pandas.crosstab.html) can create contingency tables, and [scipy.stats.chi2_contingency](https://docs.scipy.org/doc/scipy/reference/generated/scipy.stats.chi2_contingency.html) can calculate the Chi-squared statistic for them.\n",
        "\n",
        "There are 9 categorical features - as with the t-test, try to find one where the Chi-squared test returns an extreme result (rejecting the null that the data are independent), and one where it is less extreme.\n",
        "\n",
        "**NOTE** - \"less extreme\" just means smaller test statistic/larger p-value. Even the least extreme differences may be strongly statistically significant.\n",
        "\n",
        "Your *main* goal is the hypothesis tests, so don't spend too much time on the exploration/visualization piece. That is just a means to an end - use simple visualizations, such as boxplots or a scatter matrix (both built in to pandas), to get a feel for the overall distribution of the variables.\n",
        "\n",
        "This is challenging, so manage your time and aim for a baseline of at least running two t-tests and two Chi-squared tests before polishing. And don't forget to answer the questions in part 3, even if your results in this part aren't what you want them to be."
      ]
    },
    {
      "cell_type": "code",
      "metadata": {
        "id": "_nqcgc0yzm68",
        "colab_type": "code",
        "colab": {}
      },
      "source": [
        "# TODO\n",
        "#Exploring Data\n",
        "#for two categorical i I will use Chi^2\n",
        "#for Numeric i I will use the T-Test"
      ],
      "execution_count": 0,
      "outputs": []
    },
    {
      "cell_type": "code",
      "metadata": {
        "id": "qCCZnx2Pec7R",
        "colab_type": "code",
        "colab": {}
      },
      "source": [
        "# Import\n",
        "from scipy import stats\n",
        "from scipy.stats import ttest_ind\n",
        "import numpy as np\n",
        "import matplotlib.pyplot as plt"
      ],
      "execution_count": 0,
      "outputs": []
    },
    {
      "cell_type": "code",
      "metadata": {
        "id": "1uJjlokRefep",
        "colab_type": "code",
        "outputId": "75dbed1d-5a85-4ac7-bd09-44c28e3acf8a",
        "colab": {
          "base_uri": "https://localhost:8080/",
          "height": 1000
        }
      },
      "source": [
        "# Visualizing the continuous attributes against class (+,-) using Boxplots:\n",
        "cols = [\"A2\", \"A3\", \"A8\", \"A11\", \"A14\", \"A15\"]\n",
        "\n",
        "boxplots = [df.boxplot(column=col, by=\"A16\", showfliers=False) for col in cols]"
      ],
      "execution_count": 0,
      "outputs": [
        {
          "output_type": "display_data",
          "data": {
            "image/png": "[encoded data removed]",
            "text/plain": [
              "<Figure size 432x288 with 1 Axes>"
            ]
          },
          "metadata": {
            "tags": [],
            "needs_background": "light"
          }
        },
        {
          "output_type": "display_data",
          "data": {
            "image/png": "[encoded data removed]",
            "text/plain": [
              "<Figure size 432x288 with 1 Axes>"
            ]
          },
          "metadata": {
            "tags": [],
            "needs_background": "light"
          }
        },
        {
          "output_type": "display_data",
          "data": {
            "image/png": "[encoded data removed]",
            "text/plain": [
              "<Figure size 432x288 with 1 Axes>"
            ]
          },
          "metadata": {
            "tags": [],
            "needs_background": "light"
          }
        },
        {
          "output_type": "display_data",
          "data": {
            "image/png": "[encoded data removed]",
            "text/plain": [
              "<Figure size 432x288 with 1 Axes>"
            ]
          },
          "metadata": {
            "tags": [],
            "needs_background": "light"
          }
        },
        {
          "output_type": "display_data",
          "data": {
            "image/png": "[encoded data removed]",
            "text/plain": [
              "<Figure size 432x288 with 1 Axes>"
            ]
          },
          "metadata": {
            "tags": [],
            "needs_background": "light"
          }
        },
        {
          "output_type": "display_data",
          "data": {
            "image/png": "[encoded data removed]",
            "text/plain": [
              "<Figure size 432x288 with 1 Axes>"
            ]
          },
          "metadata": {
            "tags": [],
            "needs_background": "light"
          }
        }
      ]
    },
    {
      "cell_type": "code",
      "metadata": {
        "id": "om9JquKNagJN",
        "colab_type": "code",
        "outputId": "bb60aae8-8092-45d2-bd48-de6cc28f6999",
        "colab": {
          "base_uri": "https://localhost:8080/",
          "height": 136
        }
      },
      "source": [
        "#find the mean for each\n",
        "plus.mean()"
      ],
      "execution_count": 0,
      "outputs": [
        {
          "output_type": "execute_result",
          "data": {
            "text/plain": [
              "A2       33.720492\n",
              "A3        5.904951\n",
              "A8        3.427899\n",
              "A11       4.605863\n",
              "A14     164.421927\n",
              "A15    2038.859935\n",
              "dtype: float64"
            ]
          },
          "metadata": {
            "tags": []
          },
          "execution_count": 98
        }
      ]
    },
    {
      "cell_type": "code",
      "metadata": {
        "id": "69mm686-apva",
        "colab_type": "code",
        "outputId": "f12b6a77-6819-46be-c535-4b7b5ae611c9",
        "colab": {
          "base_uri": "https://localhost:8080/",
          "height": 136
        }
      },
      "source": [
        "minus.mean()"
      ],
      "execution_count": 0,
      "outputs": [
        {
          "output_type": "execute_result",
          "data": {
            "text/plain": [
              "A2      29.808231\n",
              "A3       3.839948\n",
              "A8       1.257924\n",
              "A11      0.631854\n",
              "A14    199.699468\n",
              "A15    198.605744\n",
              "dtype: float64"
            ]
          },
          "metadata": {
            "tags": []
          },
          "execution_count": 99
        }
      ]
    },
    {
      "cell_type": "code",
      "metadata": {
        "id": "xZRofqYwau05",
        "colab_type": "code",
        "outputId": "dc30268c-03d3-43bf-c327-dadcaaecea87",
        "colab": {
          "base_uri": "https://localhost:8080/",
          "height": 306
        }
      },
      "source": [
        "#as i I notice the minus group have lower values than the plus so I'm checking for any null values \n",
        "plus.isnull().sum()"
      ],
      "execution_count": 0,
      "outputs": [
        {
          "output_type": "execute_result",
          "data": {
            "text/plain": [
              "A1     0\n",
              "A2     2\n",
              "A3     0\n",
              "A4     0\n",
              "A5     0\n",
              "A6     0\n",
              "A7     0\n",
              "A8     0\n",
              "A9     0\n",
              "A10    0\n",
              "A11    0\n",
              "A12    0\n",
              "A13    0\n",
              "A14    6\n",
              "A15    0\n",
              "A16    0\n",
              "dtype: int64"
            ]
          },
          "metadata": {
            "tags": []
          },
          "execution_count": 100
        }
      ]
    },
    {
      "cell_type": "code",
      "metadata": {
        "id": "7yll_fjmbGoZ",
        "colab_type": "code",
        "outputId": "0abcb691-c314-436f-9520-aebcee48ec1f",
        "colab": {
          "base_uri": "https://localhost:8080/",
          "height": 306
        }
      },
      "source": [
        "minus.isnull().sum() # it showing that minus had more null values than plus but it's not that different . "
      ],
      "execution_count": 0,
      "outputs": [
        {
          "output_type": "execute_result",
          "data": {
            "text/plain": [
              "A1      0\n",
              "A2     10\n",
              "A3      0\n",
              "A4      0\n",
              "A5      0\n",
              "A6      0\n",
              "A7      0\n",
              "A8      0\n",
              "A9      0\n",
              "A10     0\n",
              "A11     0\n",
              "A12     0\n",
              "A13     0\n",
              "A14     7\n",
              "A15     0\n",
              "A16     0\n",
              "dtype: int64"
            ]
          },
          "metadata": {
            "tags": []
          },
          "execution_count": 101
        }
      ]
    },
    {
      "cell_type": "code",
      "metadata": {
        "id": "25DjSalcbSWI",
        "colab_type": "code",
        "outputId": "492d0216-f240-4ce7-c0b3-9c85fd581ebf",
        "colab": {
          "base_uri": "https://localhost:8080/",
          "height": 34
        }
      },
      "source": [
        "#i I will have the A2 t-test \n",
        "ttest_ind(plus['A2'], minus['A2'],\n",
        "          nan_policy='omit')\n"
      ],
      "execution_count": 0,
      "outputs": [
        {
          "output_type": "execute_result",
          "data": {
            "text/plain": [
              "Ttest_indResult(statistic=4.2922156166315535, pvalue=2.0276637071781407e-05)"
            ]
          },
          "metadata": {
            "tags": []
          },
          "execution_count": 102
        }
      ]
    },
    {
      "cell_type": "code",
      "metadata": {
        "id": "cpBHTzzebt8P",
        "colab_type": "code",
        "outputId": "44000f26-1292-4934-856b-4f5573970b4a",
        "colab": {
          "base_uri": "https://localhost:8080/",
          "height": 34
        }
      },
      "source": [
        "# then we will have the A15 t-test\n",
        "\n",
        "ttest_ind(plus['A15'], minus['A15'],\n",
        "          nan_policy='omit')"
      ],
      "execution_count": 0,
      "outputs": [
        {
          "output_type": "execute_result",
          "data": {
            "text/plain": [
              "Ttest_indResult(statistic=4.680216020964486, pvalue=3.4520256956287944e-06)"
            ]
          },
          "metadata": {
            "tags": []
          },
          "execution_count": 103
        }
      ]
    },
    {
      "cell_type": "code",
      "metadata": {
        "id": "3xSy8FJPb1j2",
        "colab_type": "code",
        "colab": {}
      },
      "source": [
        "# will write a function to do the t-test for each numerical cloumn\n",
        "\n",
        "def ttest_tester(x,y):\n",
        "  num_com = ['A2','A3','A8','A11','A14','A15']\n",
        "  for i in num_com:\n",
        "    print(ttest_ind(x[i], y[i],\n",
        "          nan_policy='omit'))"
      ],
      "execution_count": 0,
      "outputs": []
    },
    {
      "cell_type": "code",
      "metadata": {
        "id": "0QT7ZnZxcEW5",
        "colab_type": "code",
        "outputId": "efe72706-908b-48ff-ba97-26ce8db9867c",
        "colab": {
          "base_uri": "https://localhost:8080/",
          "height": 119
        }
      },
      "source": [
        "ttest_tester(plus, minus)"
      ],
      "execution_count": 0,
      "outputs": [
        {
          "output_type": "stream",
          "text": [
            "Ttest_indResult(statistic=4.2922156166315535, pvalue=2.0276637071781407e-05)\n",
            "Ttest_indResult(statistic=5.52998337614816, pvalue=4.551680702308068e-08)\n",
            "Ttest_indResult(statistic=8.935819983773698, pvalue=3.6710537401601785e-18)\n",
            "Ttest_indResult(statistic=11.667004222431277, pvalue=7.957718568079967e-29)\n",
            "Ttest_indResult(statistic=-2.6358251986645476, pvalue=0.008586135473979569)\n",
            "Ttest_indResult(statistic=4.680216020964486, pvalue=3.4520256956287944e-06)\n"
          ],
          "name": "stdout"
        }
      ]
    },
    {
      "cell_type": "code",
      "metadata": {
        "id": "knKliotagunh",
        "colab_type": "code",
        "colab": {
          "base_uri": "https://localhost:8080/",
          "height": 142
        },
        "outputId": "ec186c0b-2ff7-412d-8a4c-68e6fd64e6e8"
      },
      "source": [
        "# writing A9 cross table for A16 , A9\n",
        "\n",
        "A9_cross_tab =pd.crosstab(df['A16'], df['A9'])\n",
        "A9_cross_tab"
      ],
      "execution_count": 125,
      "outputs": [
        {
          "output_type": "execute_result",
          "data": {
            "text/html": [
              "<div>\n",
              "<style scoped>\n",
              "    .dataframe tbody tr th:only-of-type {\n",
              "        vertical-align: middle;\n",
              "    }\n",
              "\n",
              "    .dataframe tbody tr th {\n",
              "        vertical-align: top;\n",
              "    }\n",
              "\n",
              "    .dataframe thead th {\n",
              "        text-align: right;\n",
              "    }\n",
              "</style>\n",
              "<table border=\"1\" class=\"dataframe\">\n",
              "  <thead>\n",
              "    <tr style=\"text-align: right;\">\n",
              "      <th>A9</th>\n",
              "      <th>f</th>\n",
              "      <th>t</th>\n",
              "    </tr>\n",
              "    <tr>\n",
              "      <th>A16</th>\n",
              "      <th></th>\n",
              "      <th></th>\n",
              "    </tr>\n",
              "  </thead>\n",
              "  <tbody>\n",
              "    <tr>\n",
              "      <th>+</th>\n",
              "      <td>23</td>\n",
              "      <td>284</td>\n",
              "    </tr>\n",
              "    <tr>\n",
              "      <th>-</th>\n",
              "      <td>306</td>\n",
              "      <td>77</td>\n",
              "    </tr>\n",
              "  </tbody>\n",
              "</table>\n",
              "</div>"
            ],
            "text/plain": [
              "A9     f    t\n",
              "A16          \n",
              "+     23  284\n",
              "-    306   77"
            ]
          },
          "metadata": {
            "tags": []
          },
          "execution_count": 125
        }
      ]
    },
    {
      "cell_type": "code",
      "metadata": {
        "id": "T59jtfHJu5st",
        "colab_type": "code",
        "colab": {
          "base_uri": "https://localhost:8080/",
          "height": 102
        },
        "outputId": "be0fa35e-a9e3-4766-8619-e770a7814d62"
      },
      "source": [
        "# writing A9 Chi^2 test\n",
        "chi_squared_A9,pvalue_A9,dof_A9,expected_A9 = stats.chi2_contingency(A9_cross_tab)\n",
        "print(chi_squared_A9)\n",
        "print(pvalue_A9)\n",
        "print(dof_A9)\n",
        "print(expected_A9)"
      ],
      "execution_count": 124,
      "outputs": [
        {
          "output_type": "stream",
          "text": [
            "355.2038167412799\n",
            "3.1185900878457007e-79\n",
            "1\n",
            "[[146.38115942 160.61884058]\n",
            " [182.61884058 200.38115942]]\n"
          ],
          "name": "stdout"
        }
      ]
    },
    {
      "cell_type": "code",
      "metadata": {
        "id": "rsFQrU-ivFpu",
        "colab_type": "code",
        "colab": {
          "base_uri": "https://localhost:8080/",
          "height": 142
        },
        "outputId": "8c805ed1-a613-4f32-fafe-d0a180f25e6e"
      },
      "source": [
        "# A9 CROSS TABLE for A16 , A10\n",
        "A10_cross_tab =pd.crosstab(df['A16'], df['A10'])\n",
        "A10_cross_tab"
      ],
      "execution_count": 126,
      "outputs": [
        {
          "output_type": "execute_result",
          "data": {
            "text/html": [
              "<div>\n",
              "<style scoped>\n",
              "    .dataframe tbody tr th:only-of-type {\n",
              "        vertical-align: middle;\n",
              "    }\n",
              "\n",
              "    .dataframe tbody tr th {\n",
              "        vertical-align: top;\n",
              "    }\n",
              "\n",
              "    .dataframe thead th {\n",
              "        text-align: right;\n",
              "    }\n",
              "</style>\n",
              "<table border=\"1\" class=\"dataframe\">\n",
              "  <thead>\n",
              "    <tr style=\"text-align: right;\">\n",
              "      <th>A10</th>\n",
              "      <th>f</th>\n",
              "      <th>t</th>\n",
              "    </tr>\n",
              "    <tr>\n",
              "      <th>A16</th>\n",
              "      <th></th>\n",
              "      <th></th>\n",
              "    </tr>\n",
              "  </thead>\n",
              "  <tbody>\n",
              "    <tr>\n",
              "      <th>+</th>\n",
              "      <td>98</td>\n",
              "      <td>209</td>\n",
              "    </tr>\n",
              "    <tr>\n",
              "      <th>-</th>\n",
              "      <td>297</td>\n",
              "      <td>86</td>\n",
              "    </tr>\n",
              "  </tbody>\n",
              "</table>\n",
              "</div>"
            ],
            "text/plain": [
              "A10    f    t\n",
              "A16          \n",
              "+     98  209\n",
              "-    297   86"
            ]
          },
          "metadata": {
            "tags": []
          },
          "execution_count": 126
        }
      ]
    },
    {
      "cell_type": "code",
      "metadata": {
        "id": "d50wl9N0vNvt",
        "colab_type": "code",
        "colab": {
          "base_uri": "https://localhost:8080/",
          "height": 102
        },
        "outputId": "c9e7d6f0-1919-4a4b-b130-d2f8f3b95697"
      },
      "source": [
        "# writing A10 Chi^2 test\n",
        "\n",
        "chi_squared_A10,pvalue_A10,dof_A10,expected_A10 = stats.chi2_contingency(A10_cross_tab)\n",
        "print(chi_squared_A10)\n",
        "print(pvalue_A10)\n",
        "print(dof_A10)\n",
        "print(expected_A10)"
      ],
      "execution_count": 127,
      "outputs": [
        {
          "output_type": "stream",
          "text": [
            "143.06956205083145\n",
            "5.675727374527571e-33\n",
            "1\n",
            "[[175.74637681 131.25362319]\n",
            " [219.25362319 163.74637681]]\n"
          ],
          "name": "stdout"
        }
      ]
    },
    {
      "cell_type": "code",
      "metadata": {
        "id": "2vlJ_Bff0Lm3",
        "colab_type": "code",
        "colab": {
          "base_uri": "https://localhost:8080/",
          "height": 1000
        },
        "outputId": "2b93666a-675a-4841-8186-b957e7f27220"
      },
      "source": [
        "# I'm going to write one-way Chi^2 for categorical features:\n",
        "from scipy.stats import chisquare \n",
        "categorical_feats = [df.A1, df.A4, df.A5, df.A6, df.A7, df.A9, df.A10, df.A12, df.A13]\n",
        "crosstabs = [pd.crosstab(df.A16, feat) for feat in categorical_feats]\n",
        "\n",
        "for crosstab in crosstabs:\n",
        "  print(crosstab)\n",
        "  print(chisquare(crosstab,axis=None))\n",
        "  print(\"\\n\\n\")"
      ],
      "execution_count": 129,
      "outputs": [
        {
          "output_type": "stream",
          "text": [
            "A1   ?    a    b\n",
            "A16             \n",
            "+    3   98  206\n",
            "-    9  112  262\n",
            "Power_divergenceResult(statistic=469.2869565217391, pvalue=3.3914236368487018e-99)\n",
            "\n",
            "\n",
            "\n",
            "A4   ?  l    u    y\n",
            "A16                \n",
            "+    4  2  256   45\n",
            "-    2  0  263  118\n",
            "Power_divergenceResult(statistic=1056.991304347826, pvalue=5.825554166604882e-224)\n",
            "\n",
            "\n",
            "\n",
            "A5   ?    g  gg    p\n",
            "A16                 \n",
            "+    4  256   2   45\n",
            "-    2  263   0  118\n",
            "Power_divergenceResult(statistic=1056.9913043478261, pvalue=5.825554166604218e-224)\n",
            "\n",
            "\n",
            "\n",
            "A6   ?  aa   c  cc   d   e  ff   i  j   k   m   q  r   w   x\n",
            "A16                                                         \n",
            "+    4  19  62  29   7  14   7  14  3  14  16  51  2  33  32\n",
            "-    5  35  75  12  23  11  46  45  7  37  22  27  1  31   6\n",
            "Power_divergenceResult(statistic=447.82608695652175, pvalue=1.397271228892487e-76)\n",
            "\n",
            "\n",
            "\n",
            "A7   ?  bb  dd  ff   h  j  n  o    v  z\n",
            "A16                                    \n",
            "+    4  25   2   8  87  3  2  1  169  6\n",
            "-    5  34   4  49  51  5  2  1  230  2\n",
            "Power_divergenceResult(statistic=2093.246376811594, pvalue=0.0)\n",
            "\n",
            "\n",
            "\n",
            "A9     f    t\n",
            "A16          \n",
            "+     23  284\n",
            "-    306   77\n",
            "Power_divergenceResult(statistic=357.82608695652175, pvalue=3.01326407188219e-77)\n",
            "\n",
            "\n",
            "\n",
            "A10    f    t\n",
            "A16          \n",
            "+     98  209\n",
            "-    297   86\n",
            "Power_divergenceResult(statistic=173.1304347826087, pvalue=2.6842170765821316e-37)\n",
            "\n",
            "\n",
            "\n",
            "A12    f    t\n",
            "A16          \n",
            "+    161  146\n",
            "-    213  170\n",
            "Power_divergenceResult(statistic=14.382608695652175, pvalue=0.0024280203352694866)\n",
            "\n",
            "\n",
            "\n",
            "A13    g  p   s\n",
            "A16            \n",
            "+    287  5  15\n",
            "-    338  3  42\n",
            "Power_divergenceResult(statistic=1037.2695652173913, pvalue=5.124924990548949e-222)\n",
            "\n",
            "\n",
            "\n"
          ],
          "name": "stdout"
        }
      ]
    },
    {
      "cell_type": "markdown",
      "metadata": {
        "id": "ZM8JckA2bgnp",
        "colab_type": "text"
      },
      "source": [
        "## Part 3 - Analysis and Interpretation\n",
        "\n",
        "Now that you've looked at the data, answer the following questions:\n",
        "\n",
        "- Interpret and explain the two t-tests you ran - what do they tell you about the relationships between the continuous features you selected and the class labels?\n",
        "- Interpret and explain the two Chi-squared tests you ran - what do they tell you about the relationships between the categorical features you selected and the class labels?\n",
        "- What was the most challenging part of this sprint challenge?\n",
        "\n",
        "Answer with text, but feel free to intersperse example code/results or refer to it from earlier."
      ]
    },
    {
      "cell_type": "markdown",
      "metadata": {
        "id": "LIozLDNG2Uhu",
        "colab_type": "text"
      },
      "source": [
        "#Answer \n",
        "##T-test\n",
        "\n",
        ">the T-test for A2 showed that the graph leaned a little bit to the right and had a low p-value meaning that the result was not random. the ttest came out as (+4) showing that there wasnt much diffrence in both groups mean for A2. The plus group had a higher mean than the minus group but only slightly and the minus group had more null values, here we can just about reject the null Hypothesis that both groups would be the same because. If the minus group had less missing values maybe the null  Hypothesis would be right.\n",
        "\n",
        ">>The ttest for A15 was suprising to me. I picked the A15 because that's where both groups means differed the most. The test came out with the same results as the first ttest, with +4  as the ttest result and <0.05 as the pvalue. What I took from this result was the that there was not much diffrence between each groups mean but looking at both thier means sepratly I see a big diffrence so...\n",
        "\n",
        "#################################################\n",
        "##Chi^2 Test\n",
        "\n",
        "I did a chi^2  test on two columns that had the same characters to see if they would have similar scores after testing them. \n",
        "\n",
        ">The A9 chi^2 test came out high at 355 showing that there is no relationship between the groups (f/t)\n",
        "\n",
        ">similarly with the A10 chi^ test, it also had a high score but not much so as\n",
        " A9 had. \n",
        "\n",
        ">>For the categorical features, I  analyzed the relationship between all of them (A1, A4, A5, A6, A7, A9, A10, A12, A13) and getting approved (A16) using a looping one-way Chi^2 Test. I choosed A9 and A13 because they had a small number of features. \n",
        "\n",
        ">>For A9 it has a really high test statistic **>357** and I suggests some sort of relationship between it's categorical features and the approval for credit (A16). Viz, the attribute 'f' in A9 appears far more often in cases where applicants were not approved, and the attribute 't' appears  far more often in cases where applicants were approved. \n",
        "\n",
        ">>And A13 it has an extreme statistic **>1035** ! probably in part because it has an attribute 'p' with any instances. However, the attribute 'S' appears to have a really different distribution between approved and not approved (likely to be not approved).\n",
        "\n",
        "\n",
        "--------------------------------------------------\n",
        "\n",
        "\n",
        "*The Challenge !*\n",
        "--------------\n",
        "\n",
        "\n",
        "**I think the hardest aspect was How much work I should put in the data and deciding what to start with and how to pick specific data annd why, its very easy to get lost.**\n",
        "\n",
        "-------------------------------------------------------------------------\n",
        "\n",
        "\n",
        "\n",
        "\n",
        "\n",
        "\n",
        "\n",
        "\n"
      ]
    },
    {
      "cell_type": "markdown",
      "metadata": {
        "id": "pvs3_-sNWQv0",
        "colab_type": "text"
      },
      "source": [
        "## Part 4 - Bayesian vs Frequentist Statistics\n",
        "\n",
        "Using a minimum of 2-3 sentences, give an explanation of Bayesian and Frequentist statistics, and then compare and contrast these two approaches to statistical inference.\n",
        "\n"
      ]
    },
    {
      "cell_type": "markdown",
      "metadata": {
        "id": "h1oK1UaDWrI-",
        "colab_type": "text"
      },
      "source": [
        "\n",
        ">>As I explained in my email to the adminadministration of Lambda I had a  difficdifficulty during last week to catch the lectures about the Bayesian due to my traveling to get my new job after lost my old one due to COVID-19 . so I'm not going to be able to finish this part of the challchallenge . I do understand the logic of the Bayesian but I'm not able to related it with the data up there yet . "
      ]
    },
    {
      "cell_type": "markdown",
      "metadata": {
        "id": "XOequK5xpVz7",
        "colab_type": "text"
      },
      "source": [
        "# Stretch Goals: \n",
        "Do these to get a 3. These are not required in order to pass the Sprint Challenge.\n",
        "\n",
        "## Part 1: \n",
        "\n",
        "Make sure that all of your dataframe columns have the appropriate data types. *Hint:* If a column has the datatype of \"object\" even though it's made up of float or integer values, you can coerce it to act as a numeric column by using the `pd.to_numeric()` function. In order to get a 3 on this section make sure that your data exploration is particularly well commented, easy to follow, and thorough.\n",
        "\n",
        "## Part 2:\n",
        "\n",
        "Write functions that can calculate t-tests and chi^2 tests on all of the appropriate column combinations from the dataset. (Remember that certain tests require certain variable types.)\n",
        "\n",
        "## Part 3: \n",
        "\n",
        "Calculate and report confidence intervals on your most important mean estimates (choose at least two). Make some kind of a graphic or visualization to help us see visually how precise these estimates are.\n",
        "\n",
        "## Part 4:\n",
        "\n",
        "Give an extra awesome explanation of Bayesian vs Frequentist Statistics. Maybe use code or visualizations, or any other means necessary to show an above average grasp of these high level concepts."
      ]
    },
    {
      "cell_type": "code",
      "metadata": {
        "id": "NT37grnxqa05",
        "colab_type": "code",
        "colab": {}
      },
      "source": [
        "# You can work the stretch goals down here or back up in their regular sections\n",
        "# just make sure that they are labeled so that we can easily differentiate\n",
        "# your main work from the stretch goals."
      ],
      "execution_count": 0,
      "outputs": []
    }
  ]
}