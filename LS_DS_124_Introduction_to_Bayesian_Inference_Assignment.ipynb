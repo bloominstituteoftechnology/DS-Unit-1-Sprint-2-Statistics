{
  "nbformat": 4,
  "nbformat_minor": 0,
  "metadata": {
    "colab": {
      "name": "Copy of LS_DS_124_Introduction_to_Bayesian_Inference_Assignment.ipynb",
      "provenance": [],
      "collapsed_sections": [],
      "include_colab_link": true
    },
    "kernelspec": {
      "name": "python3",
      "display_name": "Python 3"
    }
  },
  "cells": [
    {
      "cell_type": "markdown",
      "metadata": {
        "id": "view-in-github",
        "colab_type": "text"
      },
      "source": [
        "<a href=\"https://colab.research.google.com/github/badabad/DS-Unit-1-Sprint-2-Statistics/blob/master/LS_DS_124_Introduction_to_Bayesian_Inference_Assignment.ipynb\" target=\"_parent\"><img src=\"https://colab.research.google.com/assets/colab-badge.svg\" alt=\"Open In Colab\"/></a>"
      ]
    },
    {
      "cell_type": "markdown",
      "metadata": {
        "id": "H7OLbevlbd_Z",
        "colab_type": "text"
      },
      "source": [
        "# Lambda School Data Science Module 124\n",
        "\n",
        "## Introduction to Bayesian Inference\n",
        "\n",
        "\n"
      ]
    },
    {
      "cell_type": "markdown",
      "metadata": {
        "id": "P-DzzRk5bf0z",
        "colab_type": "text"
      },
      "source": [
        "## Assignment - Code it up!\n",
        "\n",
        "We used pure math to apply Bayes Theorem to drug tests. Now write Python code to reproduce the results! This is purposefully open ended - you'll have to think about how you should represent probabilities and events. You can and should look things up.\n",
        "\n",
        "Specific goals/targets:\n",
        "\n",
        "### 1) Write a function \n",
        "\n",
        "`def prob_drunk_given_positive(prob_drunk_prior, false_positive_rate, true_positive_rate):` \n",
        "\n",
        "You should only truly need these three values in order to apply Bayes Theorem. In this example, imagine that individuals are taking a breathalyzer test with an 8% false positive rate, a 100% true positive rate, and that our prior belief about drunk driving in the population is 1/1000. \n",
        " - What is the probability that a person is drunk after one positive breathalyzer test?\n",
        " - What is the probability that a person is drunk after two positive breathalyzer tests?\n",
        " - How many positive breathalyzer tests are needed in order to have a probability that's greater than 95% that a person is drunk beyond the legal limit?\n"
      ]
    },
    {
      "cell_type": "code",
      "metadata": {
        "id": "xpVhZyUnbf7o",
        "colab_type": "code",
        "colab": {}
      },
      "source": [
        "# TODO - code!\n",
        "def prob_drunk_given_positive(prob_drunk_prior, false_positive_rate, true_positive_rate):\n",
        "  #Returns P[person is drunk|positive test]\n",
        "  #P[drunk|positive]=(P[positive|drunk]*P[drunk])/P[positive]\n",
        "  #P[positive]=P[false positive]+P[true positive]\n",
        "  return (true_positive_rate * prob_drunk_prior)/(false_positive_rate*(1-prob_drunk_prior) + true_positive_rate*prob_drunk_prior)"
      ],
      "execution_count": null,
      "outputs": []
    },
    {
      "cell_type": "code",
      "metadata": {
        "id": "qgANjxz8-nsW",
        "colab_type": "code",
        "colab": {
          "base_uri": "https://localhost:8080/",
          "height": 33
        },
        "outputId": "2b253e3c-48ca-47a7-ddd3-383af99ad7fe"
      },
      "source": [
        "a=prob_drunk_given_positive(1/1000,.08,1)\n",
        "a"
      ],
      "execution_count": null,
      "outputs": [
        {
          "output_type": "execute_result",
          "data": {
            "text/plain": [
              "0.012357884330202669"
            ]
          },
          "metadata": {
            "tags": []
          },
          "execution_count": 11
        }
      ]
    },
    {
      "cell_type": "markdown",
      "metadata": {
        "id": "N1vfFJ_DB1_p",
        "colab_type": "text"
      },
      "source": [
        "### ^ chance of being drunk after one positive test"
      ]
    },
    {
      "cell_type": "code",
      "metadata": {
        "id": "T5HoJWgLAksx",
        "colab_type": "code",
        "colab": {
          "base_uri": "https://localhost:8080/",
          "height": 33
        },
        "outputId": "7d270406-2efe-4fd8-b85c-84fc2af1428a"
      },
      "source": [
        "1- (1-a)**2"
      ],
      "execution_count": null,
      "outputs": [
        {
          "output_type": "execute_result",
          "data": {
            "text/plain": [
              "0.02456305135528669"
            ]
          },
          "metadata": {
            "tags": []
          },
          "execution_count": 14
        }
      ]
    },
    {
      "cell_type": "markdown",
      "metadata": {
        "id": "qTkkl1XzB0h1",
        "colab_type": "text"
      },
      "source": [
        "### ^ chance of being drunk after two positive tests"
      ]
    },
    {
      "cell_type": "code",
      "metadata": {
        "id": "UHzWuIlXCE3f",
        "colab_type": "code",
        "colab": {
          "base_uri": "https://localhost:8080/",
          "height": 33
        },
        "outputId": "3085b754-04ce-4a8c-8046-d2abefb1ff1f"
      },
      "source": [
        "i = 1\n",
        "a=0\n",
        "while a<.95:\n",
        "  a= 1-(1-prob_drunk_given_positive(1/1000,.08,1))**i\n",
        "  i=i+1\n",
        "print(i)"
      ],
      "execution_count": null,
      "outputs": [
        {
          "output_type": "stream",
          "text": [
            "242\n"
          ],
          "name": "stdout"
        }
      ]
    },
    {
      "cell_type": "markdown",
      "metadata": {
        "id": "oTKMLQxqDZOM",
        "colab_type": "text"
      },
      "source": [
        "### 242 tests required for a >95% chance that the person is drunk"
      ]
    },
    {
      "cell_type": "markdown",
      "metadata": {
        "id": "nhOAsLjvCSLF",
        "colab_type": "text"
      },
      "source": [
        "### 2) In your own words, summarize the difference between Bayesian and Frequentist statistics\n",
        "\n",
        "If you're unsure where to start, check out [this blog post of Bayes theorem with Python](https://dataconomy.com/2015/02/introduction-to-bayes-theorem-with-python/)."
      ]
    },
    {
      "cell_type": "markdown",
      "metadata": {
        "id": "AADlIVfgDztY",
        "colab_type": "text"
      },
      "source": [
        "\n",
        "\n",
        "Bayesians use prior knowledge to draw conclusions, whereas frequentists just draw their conclusions from the observations that are available\n",
        "\n"
      ]
    },
    {
      "cell_type": "markdown",
      "metadata": {
        "id": "AeAGBxWjCTv3",
        "colab_type": "text"
      },
      "source": [
        "### 3) Use the following Template to help come up with ideas for your Build Sprint Project: \n",
        "\n"
      ]
    },
    {
      "cell_type": "markdown",
      "metadata": {
        "id": "YgIaBr__C5Q2",
        "colab_type": "text"
      },
      "source": [
        "---\n",
        "\n",
        "## Idea 1:"
      ]
    },
    {
      "cell_type": "markdown",
      "metadata": {
        "id": "MwR6hTB1CiLR",
        "colab_type": "text"
      },
      "source": [
        "### You\n",
        "What do you care about?\n",
        "Something I am passionate about is health/fitness, bodybuilding, weightlifting etc\n",
        "\n",
        "What do you know about?\n",
        "I know a decent about exercise science, nutrition, and pharmacology\n",
        "\n",
        "What decisions do you face?\n",
        "\n",
        "\n"
      ]
    },
    {
      "cell_type": "markdown",
      "metadata": {
        "id": "d5owPwlSClm2",
        "colab_type": "text"
      },
      "source": [
        ""
      ]
    },
    {
      "cell_type": "markdown",
      "metadata": {
        "id": "lorLHSkzClzC",
        "colab_type": "text"
      },
      "source": [
        "### Seven templates\n",
        "\n",
        "In order to better understand the prompts here, please review the [Priceonomics Content Marketing Templates](https://priceonomics.com/introducing-priceonomics-content-marketing/)\n",
        "\n",
        "Can you apply the templates to your topics?\n",
        "\n",
        "**Geographic Variation:**\n",
        "Number of gyms in each city\n",
        "**Trend related to the news:**\n",
        "Exercise trends post lockdown\n",
        "**Who does that?:**\n",
        "Which demographics exercise the most?\n",
        "**Answering a question people care about:**\n",
        "How prevalent is steroid use in the general population?\n",
        "in sports?\n",
        "**Valuable to businesses:**\n",
        "which gyms are the most successful?\n",
        "**What's the most popular?:**\n",
        "Most popular supplements\n",
        "**Cost/Money rankings:**\n",
        "Most profitable supplements or gym business models\n",
        "Richest bodybuilders"
      ]
    },
    {
      "cell_type": "markdown",
      "metadata": {
        "id": "cjxeN9D7Cygt",
        "colab_type": "text"
      },
      "source": [
        ""
      ]
    },
    {
      "cell_type": "markdown",
      "metadata": {
        "id": "3OXCCIT6C_p0",
        "colab_type": "text"
      },
      "source": [
        "### Misconceptions\n",
        "\n",
        "What misconceptions do people have about your topic?"
      ]
    },
    {
      "cell_type": "markdown",
      "metadata": {
        "id": "kZAkrgTUDCjF",
        "colab_type": "text"
      },
      "source": [
        ""
      ]
    },
    {
      "cell_type": "markdown",
      "metadata": {
        "id": "3tNrndE9DD3-",
        "colab_type": "text"
      },
      "source": [
        "### Examples\n",
        "\n",
        "What data storytelling example inspires you?\n",
        "\n",
        "Could you do a new hypothesis, for the same question?\n",
        "\n",
        "Could you do a new question, for the same topic?\n",
        "\n",
        "Could you do a new topic, with the same \"style\"?"
      ]
    },
    {
      "cell_type": "markdown",
      "metadata": {
        "id": "-5NsWQy5DKoR",
        "colab_type": "text"
      },
      "source": [
        ""
      ]
    },
    {
      "cell_type": "markdown",
      "metadata": {
        "id": "9rPtMFB6DN7B",
        "colab_type": "text"
      },
      "source": [
        "###Data\n",
        "\n",
        "Where could you search for data about your topic?"
      ]
    },
    {
      "cell_type": "markdown",
      "metadata": {
        "id": "s9hqjOlhDTDa",
        "colab_type": "text"
      },
      "source": [
        ""
      ]
    },
    {
      "cell_type": "markdown",
      "metadata": {
        "colab_type": "text",
        "id": "ld5MOaFaDVSK"
      },
      "source": [
        "---\n",
        "\n",
        "## Idea 2:"
      ]
    },
    {
      "cell_type": "markdown",
      "metadata": {
        "colab_type": "text",
        "id": "znhTWIlUDVSM"
      },
      "source": [
        "### You\n",
        "What do you care about?\n",
        "video games\n",
        "What do you know about?\n",
        "\n",
        "What decisions do you face?\n",
        "\n"
      ]
    },
    {
      "cell_type": "markdown",
      "metadata": {
        "colab_type": "text",
        "id": "3Gln5mYeDVSM"
      },
      "source": [
        ""
      ]
    },
    {
      "cell_type": "markdown",
      "metadata": {
        "colab_type": "text",
        "id": "W-njBredDVSN"
      },
      "source": [
        "### Seven templates\n",
        "\n",
        "In order to better understand the prompts here, please review the [Priceonomics Content Marketing Templates](https://priceonomics.com/introducing-priceonomics-content-marketing/)\n",
        "\n",
        "Can you apply the templates to your topics?\n",
        "\n",
        "**Geographic Variation:** What regions play what games. How many people in those region play these games\n",
        "\n",
        "**Trend related to the news:**\n",
        "\n",
        "**Who does that?:**Which demographics play the most games? what kinds\n",
        "\n",
        "**Answering a question people care about:**\n",
        "\n",
        "**Valuable to businesses:**\n",
        "\n",
        "**What's the most popular?:**\n",
        "Most popular games? Most popular genres?\n",
        "**Cost/Money rankings:**"
      ]
    },
    {
      "cell_type": "markdown",
      "metadata": {
        "colab_type": "text",
        "id": "pkOqHHL3DVSN"
      },
      "source": [
        ""
      ]
    },
    {
      "cell_type": "markdown",
      "metadata": {
        "colab_type": "text",
        "id": "njLQ3hLuDVSO"
      },
      "source": [
        "### Misconceptions\n",
        "\n",
        "What misconceptions do people have about your topic?"
      ]
    },
    {
      "cell_type": "markdown",
      "metadata": {
        "colab_type": "text",
        "id": "IzrUvaKeDVSO"
      },
      "source": [
        ""
      ]
    },
    {
      "cell_type": "markdown",
      "metadata": {
        "colab_type": "text",
        "id": "L0X6X5WaDVSP"
      },
      "source": [
        "### Examples\n",
        "\n",
        "What data storytelling example inspires you?\n",
        "\n",
        "Could you do a new hypothesis, for the same question?\n",
        "\n",
        "Could you do a new question, for the same topic?\n",
        "\n",
        "Could you do a new topic, with the same \"style\"?"
      ]
    },
    {
      "cell_type": "markdown",
      "metadata": {
        "colab_type": "text",
        "id": "fDdHExa0DVSP"
      },
      "source": [
        ""
      ]
    },
    {
      "cell_type": "markdown",
      "metadata": {
        "colab_type": "text",
        "id": "CxgSpiwYDVSQ"
      },
      "source": [
        "###Data\n",
        "\n",
        "Where could you search for data about your topic?"
      ]
    },
    {
      "cell_type": "markdown",
      "metadata": {
        "id": "uWgWjp3PQ3Sq",
        "colab_type": "text"
      },
      "source": [
        "## Resources"
      ]
    },
    {
      "cell_type": "markdown",
      "metadata": {
        "id": "QRgHqmYIQ9qn",
        "colab_type": "text"
      },
      "source": [
        "- [Worked example of Bayes rule calculation](https://en.wikipedia.org/wiki/Bayes'_theorem#Examples) (helpful as it fully breaks out the denominator)\n",
        "- [Source code for mvsdist in scipy](https://github.com/scipy/scipy/blob/90534919e139d2a81c24bf08341734ff41a3db12/scipy/stats/morestats.py#L139)"
      ]
    },
    {
      "cell_type": "markdown",
      "metadata": {
        "id": "GP7Jv1XvwtkX",
        "colab_type": "text"
      },
      "source": [
        "## Stretch Goals:\n",
        "\n",
        "- Go back and study the content from Modules 1 & 2 & 3 to make sure that you're really comfortable with them.\n",
        "- Apply a Bayesian technique to a problem you previously worked (in an assignment or project work) on from a frequentist (standard) perspective\n",
        "- Check out [PyMC3](https://docs.pymc.io/) (note this goes beyond hypothesis tests into modeling) - read the guides and work through some examples\n",
        "- Take PyMC3 further - see if you can build something with it!"
      ]
    }
  ]
}