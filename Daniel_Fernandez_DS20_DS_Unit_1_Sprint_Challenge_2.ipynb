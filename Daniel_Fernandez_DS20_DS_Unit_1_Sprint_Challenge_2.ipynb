{
  "nbformat": 4,
  "nbformat_minor": 0,
  "metadata": {
    "colab": {
      "name": "Daniel-Fernandez-DS20_DS_Unit_1_Sprint_Challenge_2.ipynb",
      "provenance": [],
      "collapsed_sections": [],
      "include_colab_link": true
    },
    "kernelspec": {
      "name": "python3",
      "display_name": "Python 3"
    }
  },
  "cells": [
    {
      "cell_type": "markdown",
      "metadata": {
        "id": "view-in-github",
        "colab_type": "text"
      },
      "source": [
        "<a href=\"https://colab.research.google.com/github/Daniel-Fernandez-951/DS-Unit-1-Sprint-2-Statistics/blob/master/Daniel_Fernandez_DS20_DS_Unit_1_Sprint_Challenge_2.ipynb\" target=\"_parent\"><img src=\"https://colab.research.google.com/assets/colab-badge.svg\" alt=\"Open In Colab\"/></a>"
      ]
    },
    {
      "cell_type": "markdown",
      "metadata": {
        "id": "NooAiTdnafkz",
        "colab_type": "text"
      },
      "source": [
        "# Data Science Unit 1 Sprint Challenge 2\n",
        "\n",
        "## Exploring Data, Testing Hypotheses\n",
        "\n",
        "*Updated July 17, 2020*\n",
        "\n",
        "In this sprint challenge you will look at a dataset of echocardiogram data and other health measures of individuals who have suffered heart attacks using the following dataset:\n",
        "\n",
        "<https://archive.ics.uci.edu/ml/datasets/Echocardiogram>\n",
        "\n",
        "Attribute Information:\n",
        "\n",
        "1. **survival** -- the number of months patient survived (has survived, if patient is still alive). Because all the patients had their heart attacks at different times, it is possible that some patients have survived less than one year but they are still alive. Check the second variable to confirm this. Such patients cannot be used for the prediction task mentioned above.\n",
        "2. **still-alive** -- a binary variable. 0=dead at end of survival period, 1 means still alive\n",
        "3. **age-at-heart-attack** -- age in years when heart attack occurred\n",
        "4. **pericardial-effusion** -- binary. Pericardial effusion is fluid around the heart. 0=no fluid, 1=fluid\n",
        "5. **fractional-shortening** -- a measure of contracility around the heart lower numbers are increasingly abnormal\n",
        "6. **epss** -- E-point septal separation, another measure of contractility. Larger numbers are increasingly abnormal.\n",
        "7. **lvdd** -- left ventricular end-diastolic dimension. This is a measure of the size of the heart at end-diastole. Large hearts tend to be sick hearts.\n",
        "8. **wall-motion-score** -- a measure of how the segments of the left ventricle are moving\n",
        "9. **wall-motion-index** -- equals wall-motion-score divided by number of segments seen. Usually 12-13 segments are seen in an echocardiogram. Use this variable INSTEAD of the wall motion score.\n",
        "10. **mult** -- a derivate var which can be ignored\n",
        "11. **name** -- the name of the patient (I have replaced them with \"name\")\n",
        "12. **group** -- meaningless, ignore it\n",
        "13. **alive-at-1** -- Boolean-valued. Derived from the first two attributes. 0 means patient was either dead after 1 year or had been followed for less than 1 year. 1 means patient was alive at 1 year.\n",
        "\n",
        "Sprint challenges are evaluated based on satisfactory completion of each part. It is suggested you work through it in order, getting each aspect reasonably working, before trying to deeply explore, iterate, or refine any given step. Once you get to the end, if you want to go back and improve things, go for it!"
      ]
    },
    {
      "cell_type": "markdown",
      "metadata": {
        "id": "5wch6ksCbJtZ",
        "colab_type": "text"
      },
      "source": [
        "## Part 1 - Load and validate the data\n",
        "\n",
        "- Load the data as a `pandas` data frame.\n",
        "\n",
        "- There is an anomaly with row 50 of the data (index position 49). It does not have enough columns. Please include `skiprows=[49]` in your `read_csv()` function call. You must indicate specific rows to be skipped as a list or else `read_csv()` will skip all rows up to and including the row to be skipped. \n",
        "\n",
        "- Your dataset should initially have 131 rows and 13 columns\n",
        "\n",
        "- Use the attribute information listed above to name your column headers.\n",
        "\n",
        "- UCI says there should be missing data - check, and if necessary change the data so pandas recognizes the missing value indicators as NaN.\n",
        "\n",
        "- The `name` column has been altered to only include the string 'name' to protect the privacy of patients. The `group` column is also meaningless. Please drop both of these columns, you will then have 11 columns usable data.\n"
      ]
    },
    {
      "cell_type": "code",
      "metadata": {
        "id": "odW5Q-b_6jTJ",
        "colab_type": "code",
        "colab": {
          "base_uri": "https://localhost:8080/",
          "height": 34
        },
        "outputId": "6af10db0-7d72-4ef9-aa67-f7097f036a10"
      },
      "source": [
        "import pandas as pd\n",
        "import numpy as np\n",
        "from scipy import stats\n",
        "columns = ['survival', 'still-alive', 'age-at-heart-attack', 'pericardial-effusion',\n",
        "           'fractional-shortening', 'epss', 'lvdd', 'wall-motion-score', 'wall-motion-index',\n",
        "           'mult', 'name', 'group', 'alive-at-1']\n",
        "\n",
        "df = pd.read_csv('https://archive.ics.uci.edu/ml/machine-learning-databases/echocardiogram/echocardiogram.data', names=columns, skiprows=[49])\n",
        "df = df.drop(columns=['name', 'group'], axis='columns')\n",
        "print(df.shape)\n",
        "df = df.replace(\"?\", np.NaN)\n",
        "df.head(10)\n",
        "df[['fractional-shortening', 'epss', 'survival', 'age-at-heart-attack', 'lvdd', 'wall-motion-score', 'wall-motion-index', 'mult']] = df[['fractional-shortening', 'epss', 'survival', 'age-at-heart-attack', 'lvdd', 'wall-motion-score', 'wall-motion-index', 'mult']].astype(float)\n",
        "df['alive-at-1'] = df['alive-at-1'].astype(float)"
      ],
      "execution_count": 165,
      "outputs": [
        {
          "output_type": "stream",
          "text": [
            "(131, 11)\n"
          ],
          "name": "stdout"
        }
      ]
    },
    {
      "cell_type": "markdown",
      "metadata": {
        "id": "G7rLytbrO38L",
        "colab_type": "text"
      },
      "source": [
        "## Part 2 - Exploring data, Testing hypotheses\n",
        "\n",
        "### Explore the Data\n",
        "\n",
        "Explore the data: you can use whatever approach (tables, Pandas EDA functions, visualizations, etc.) to get an impression of the distributions and relationships of the variables. In general, your goal is to understand which variables are numeric and which are categorical -in order to identify columns that might be suitable for t-tests, chi^2 tests and the building of confidence intervals. \n",
        "\n",
        "When exploring the categorical data it may be helpful to create use crosstabs aka [contingency tables](https://en.wikipedia.org/wiki/Contingency_table) in order to compare the relationships between categorical variables.\n",
        "\n",
        "It will also be helpful to keep an eye out for variables that you could use to split the data into two different samples for conducting two-sample t-tests.\n",
        "\n",
        "Remember, numeric variables can still be categorical if they are represented using discrete (countable e.g. - just a few) values.\n",
        "\n",
        "---\n",
        "\n",
        "### Hypothesis Tests\n",
        "\n",
        "Once you feel like you have a good handle on the types of variables in the dataset, please conduct at least:\n",
        "\n",
        "- Two 1-sample t-tests\n",
        "- Two 2-sample t-tests\n",
        "- Two chi^2 tests\n",
        "\n",
        "For each test please write out your: \n",
        "- null hypothesis\n",
        "- alternative hypothesis\n",
        "- confidence level\n",
        "- conclusion\n",
        "\n",
        "Your *main* goal is the hypothesis tests, so don't spend too much time on the exploration/visualization piece. That is just a means to an end.\n"
      ]
    },
    {
      "cell_type": "markdown",
      "metadata": {
        "id": "Hjliql0bOWa4",
        "colab_type": "text"
      },
      "source": [
        "### Exploratory Data Analysis"
      ]
    },
    {
      "cell_type": "code",
      "metadata": {
        "id": "bXiiocvtHgM7",
        "colab_type": "code",
        "colab": {}
      },
      "source": [
        "df.info()"
      ],
      "execution_count": null,
      "outputs": []
    },
    {
      "cell_type": "code",
      "metadata": {
        "id": "blk1u0Tq0dl8",
        "colab_type": "code",
        "colab": {}
      },
      "source": [
        "df.head(10)"
      ],
      "execution_count": null,
      "outputs": []
    },
    {
      "cell_type": "markdown",
      "metadata": {
        "id": "AKJRXtlWOYeS",
        "colab_type": "text"
      },
      "source": [
        "### One-Sample T-tests"
      ]
    },
    {
      "cell_type": "code",
      "metadata": {
        "id": "o47l_PzOOhee",
        "colab_type": "code",
        "colab": {
          "base_uri": "https://localhost:8080/",
          "height": 34
        },
        "outputId": "c97a7dcf-b9c0-4e79-cb2d-7706d36caccd"
      },
      "source": [
        "# FIRST\n",
        "# T-TEST 1-SAMPLE\n",
        "\n",
        "# H-null: Average age of HA is not 55\n",
        "# H-alt: Average age of HA is 55\n",
        "# Confidence level at 95%\n",
        "df1_tt1 = df.dropna()\n",
        "stats.ttest_1samp(df1_tt1['age-at-heart-attack'], 55)\n",
        "\n",
        "# Successful in rejecting the null hypothesis (H-null) due to the p-value equating\n",
        "# below 0.05 @ 6.4765 e -12; thus it is more safe to assume the alternative \n",
        "# hypothesis that the average age for a HA is around 55."
      ],
      "execution_count": 168,
      "outputs": [
        {
          "output_type": "execute_result",
          "data": {
            "text/plain": [
              "Ttest_1sampResult(statistic=8.516516631325539, pvalue=6.476502607331888e-12)"
            ]
          },
          "metadata": {
            "tags": []
          },
          "execution_count": 168
        }
      ]
    },
    {
      "cell_type": "code",
      "metadata": {
        "id": "fKJmn__44dDf",
        "colab_type": "code",
        "colab": {
          "base_uri": "https://localhost:8080/",
          "height": 34
        },
        "outputId": "1288f177-fcbd-413a-9cc8-fac69a632b20"
      },
      "source": [
        "# SECOND\n",
        "# T-TEST 1-SAMPLE\n",
        "\n",
        "# H-null: Average fractional shortening is not 0.280\n",
        "# H-alt: Average fractional shortening is 0.280\n",
        "# Confidence level at 95%\n",
        "df2_tt1 = df.dropna()\n",
        "stats.ttest_1samp(df2_tt1['fractional-shortening'], 0.280)\n",
        "\n",
        "# Sucessful in rejecting the null hypothesis due to the p-value falling below\n",
        "# 0.05 @ 3.4518 e -05; thus is it more safe to assume the alternative\n",
        "# hypothesis that the average FS is around 0.280"
      ],
      "execution_count": 169,
      "outputs": [
        {
          "output_type": "execute_result",
          "data": {
            "text/plain": [
              "Ttest_1sampResult(statistic=-4.476660114801637, pvalue=3.4518235307137975e-05)"
            ]
          },
          "metadata": {
            "tags": []
          },
          "execution_count": 169
        }
      ]
    },
    {
      "cell_type": "markdown",
      "metadata": {
        "id": "vDiA_nksOdT5",
        "colab_type": "text"
      },
      "source": [
        "### Two-Sample T-tests"
      ]
    },
    {
      "cell_type": "code",
      "metadata": {
        "id": "o060TTDLOiDF",
        "colab_type": "code",
        "colab": {
          "base_uri": "https://localhost:8080/",
          "height": 34
        },
        "outputId": "209ed803-1c37-4b23-cc00-f6e467ece15a"
      },
      "source": [
        "# FIRST\n",
        "# T-TEST 2-SAMPLE\n",
        "\n",
        "# H-null: Age has no impact on fractional shortening.\n",
        "# H-alt: Age does impact fractional shortening.\n",
        "# Confidence Interval = 95%\n",
        "\n",
        "stats.ttest_ind(df['age-at-heart-attack'], df['fractional-shortening'], nan_policy='omit')\n",
        "\n",
        "\n",
        "# Conclusion: Based on the data set used; successful in rejecting the null\n",
        "# hypothesis due to a small p-value below 95% CI limit. With a p-value of \n",
        "# 1.267 e -183 it is evident that age has a substancial impact on fractional\n",
        "# shortening amoung the population."
      ],
      "execution_count": 199,
      "outputs": [
        {
          "output_type": "execute_result",
          "data": {
            "text/plain": [
              "Ttest_indResult(statistic=83.54856369837613, pvalue=1.267224491422304e-183)"
            ]
          },
          "metadata": {
            "tags": []
          },
          "execution_count": 199
        }
      ]
    },
    {
      "cell_type": "code",
      "metadata": {
        "id": "T7VR9omn7stE",
        "colab_type": "code",
        "colab": {
          "base_uri": "https://localhost:8080/",
          "height": 34
        },
        "outputId": "abf5b0fa-3419-442a-a906-c9bf81464fcb"
      },
      "source": [
        "# SECOND\n",
        "# T-TEST 2-SAMPLE\n",
        "\n",
        "# H-null: Survival of HA is not correlated to age at HA.\n",
        "# H-alt: Survival of HA is coreelated to the age at HA.\n",
        "# Confidence Interval = 95%\n",
        "\n",
        "stats.ttest_ind(df['age-at-heart-attack'], df['survival'], nan_policy='omit')\n",
        "\n",
        "# Conclusion: Rejected null hypothesis due to a p-value (4.16 e -72) below CI=95%; thus,\n",
        "# it could be safe to consider age at HA as an important metric for understanding surviability."
      ],
      "execution_count": 206,
      "outputs": [
        {
          "output_type": "execute_result",
          "data": {
            "text/plain": [
              "Ttest_indResult(statistic=25.53730724065949, pvalue=4.1599315713832017e-72)"
            ]
          },
          "metadata": {
            "tags": []
          },
          "execution_count": 206
        }
      ]
    },
    {
      "cell_type": "markdown",
      "metadata": {
        "id": "1yxRrPRkOdk9",
        "colab_type": "text"
      },
      "source": [
        "### Chi^2 T-tests"
      ]
    },
    {
      "cell_type": "code",
      "metadata": {
        "id": "Y0ZRfvx8P2BQ",
        "colab_type": "code",
        "colab": {}
      },
      "source": [
        "df.head(30)"
      ],
      "execution_count": null,
      "outputs": []
    },
    {
      "cell_type": "code",
      "metadata": {
        "id": "Pyl31u-GRVXT",
        "colab_type": "code",
        "colab": {}
      },
      "source": [
        "from scipy.stats import chi2_contingency"
      ],
      "execution_count": 173,
      "outputs": []
    },
    {
      "cell_type": "code",
      "metadata": {
        "id": "_ruCliiQRuCg",
        "colab_type": "code",
        "colab": {
          "base_uri": "https://localhost:8080/",
          "height": 142
        },
        "outputId": "13523b8c-87d6-460d-97dc-78d3d1d04db5"
      },
      "source": [
        "pd.crosstab(df['still-alive'], df['pericardial-effusion'], normalize='index')\n"
      ],
      "execution_count": 174,
      "outputs": [
        {
          "output_type": "execute_result",
          "data": {
            "text/html": [
              "<div>\n",
              "<style scoped>\n",
              "    .dataframe tbody tr th:only-of-type {\n",
              "        vertical-align: middle;\n",
              "    }\n",
              "\n",
              "    .dataframe tbody tr th {\n",
              "        vertical-align: top;\n",
              "    }\n",
              "\n",
              "    .dataframe thead th {\n",
              "        text-align: right;\n",
              "    }\n",
              "</style>\n",
              "<table border=\"1\" class=\"dataframe\">\n",
              "  <thead>\n",
              "    <tr style=\"text-align: right;\">\n",
              "      <th>pericardial-effusion</th>\n",
              "      <th>0</th>\n",
              "      <th>1</th>\n",
              "    </tr>\n",
              "    <tr>\n",
              "      <th>still-alive</th>\n",
              "      <th></th>\n",
              "      <th></th>\n",
              "    </tr>\n",
              "  </thead>\n",
              "  <tbody>\n",
              "    <tr>\n",
              "      <th>0</th>\n",
              "      <td>0.863636</td>\n",
              "      <td>0.136364</td>\n",
              "    </tr>\n",
              "    <tr>\n",
              "      <th>1</th>\n",
              "      <td>0.720930</td>\n",
              "      <td>0.279070</td>\n",
              "    </tr>\n",
              "  </tbody>\n",
              "</table>\n",
              "</div>"
            ],
            "text/plain": [
              "pericardial-effusion         0         1\n",
              "still-alive                             \n",
              "0                     0.863636  0.136364\n",
              "1                     0.720930  0.279070"
            ]
          },
          "metadata": {
            "tags": []
          },
          "execution_count": 174
        }
      ]
    },
    {
      "cell_type": "code",
      "metadata": {
        "id": "szEC-PGIOik7",
        "colab_type": "code",
        "colab": {
          "base_uri": "https://localhost:8080/",
          "height": 34
        },
        "outputId": "77ee48fb-36ac-456e-93e4-04ee4fb64351"
      },
      "source": [
        "# FIRST\n",
        "# CHI-2 TEST\n",
        "\n",
        "# H-null: Precardial effusion does not influence mortality\n",
        "# H-alt:  Precardial effusion does influence mortality\n",
        "# Confidence Interval = 95%\n",
        "g, p, dof, expected = chi2_contingency(pd.crosstab(df['still-alive'], df['pericardial-effusion'], normalize='index'))\n",
        "print(p)\n",
        "# Conclusion: Failed to reject null hypothesis; p-value exceeds 0.05 for a\n",
        "# 95% confidence interval."
      ],
      "execution_count": 175,
      "outputs": [
        {
          "output_type": "stream",
          "text": [
            "0.1350963586157063\n"
          ],
          "name": "stdout"
        }
      ]
    },
    {
      "cell_type": "code",
      "metadata": {
        "id": "mTRA7_zqS7lD",
        "colab_type": "code",
        "colab": {
          "base_uri": "https://localhost:8080/",
          "height": 142
        },
        "outputId": "3a6ca5ca-23bf-4e30-8273-bb0890b0a67d"
      },
      "source": [
        "pd.crosstab(df['alive-at-1'], df['pericardial-effusion'], normalize='index')*100"
      ],
      "execution_count": 176,
      "outputs": [
        {
          "output_type": "execute_result",
          "data": {
            "text/html": [
              "<div>\n",
              "<style scoped>\n",
              "    .dataframe tbody tr th:only-of-type {\n",
              "        vertical-align: middle;\n",
              "    }\n",
              "\n",
              "    .dataframe tbody tr th {\n",
              "        vertical-align: top;\n",
              "    }\n",
              "\n",
              "    .dataframe thead th {\n",
              "        text-align: right;\n",
              "    }\n",
              "</style>\n",
              "<table border=\"1\" class=\"dataframe\">\n",
              "  <thead>\n",
              "    <tr style=\"text-align: right;\">\n",
              "      <th>pericardial-effusion</th>\n",
              "      <th>0</th>\n",
              "      <th>1</th>\n",
              "    </tr>\n",
              "    <tr>\n",
              "      <th>alive-at-1</th>\n",
              "      <th></th>\n",
              "      <th></th>\n",
              "    </tr>\n",
              "  </thead>\n",
              "  <tbody>\n",
              "    <tr>\n",
              "      <th>0.0</th>\n",
              "      <td>86.000000</td>\n",
              "      <td>14.000000</td>\n",
              "    </tr>\n",
              "    <tr>\n",
              "      <th>1.0</th>\n",
              "      <td>66.666667</td>\n",
              "      <td>33.333333</td>\n",
              "    </tr>\n",
              "  </tbody>\n",
              "</table>\n",
              "</div>"
            ],
            "text/plain": [
              "pericardial-effusion          0          1\n",
              "alive-at-1                                \n",
              "0.0                   86.000000  14.000000\n",
              "1.0                   66.666667  33.333333"
            ]
          },
          "metadata": {
            "tags": []
          },
          "execution_count": 176
        }
      ]
    },
    {
      "cell_type": "code",
      "metadata": {
        "id": "PrKi-xkOSRbD",
        "colab_type": "code",
        "colab": {
          "base_uri": "https://localhost:8080/",
          "height": 34
        },
        "outputId": "eaed872a-7f46-43fb-82ee-0dbc9ee3ddb7"
      },
      "source": [
        "# SECOND\n",
        "# CHI-2 TEST\n",
        "\n",
        "# H-null: Precardial effusion does not effect within a year\n",
        "# H-alt: Precardial effusion does effect within a year\n",
        "# Confidence Interval = 95%\n",
        "\n",
        "g, p, dof, expected = chi2_contingency(pd.crosstab(df['alive-at-1'], df['pericardial-effusion'], normalize='index'))\n",
        "print(p)\n",
        "\n",
        "# Conclusion: Failed to reject the null hypothesis due to the p-value exceeding\n",
        "# 95% confidence interval; mortality after a year may not be influenced by precardial effusion.\n",
        "\n",
        "\n"
      ],
      "execution_count": 177,
      "outputs": [
        {
          "output_type": "stream",
          "text": [
            "0.17959505707221374\n"
          ],
          "name": "stdout"
        }
      ]
    },
    {
      "cell_type": "markdown",
      "metadata": {
        "id": "ZM8JckA2bgnp",
        "colab_type": "text"
      },
      "source": [
        "## Part 3 - Confidence Intervals\n",
        "\n",
        "- Pick two of the samples that you used above in your t-tests and please find a 95% confidence interval around their sample means in order to communicate the level of precision with which we are able to estimate them.\n",
        "\n",
        "- Please plot both 95% confidence intervals to display them visually. You may choose any suitable the plotting method.\n"
      ]
    },
    {
      "cell_type": "code",
      "metadata": {
        "id": "uBNWsxTUInzf",
        "colab_type": "code",
        "colab": {
          "base_uri": "https://localhost:8080/",
          "height": 279
        },
        "outputId": "bd246bde-ab18-49ec-8aa8-3ae23e44a748"
      },
      "source": [
        "import matplotlib.pyplot as plt\n",
        "import seaborn as sns\n",
        "\n",
        "sns.lineplot(x=df['age-at-heart-attack'], y=df['fractional-shortening'], ci=95, err_style=\"band\");"
      ],
      "execution_count": 204,
      "outputs": [
        {
          "output_type": "display_data",
          "data": {
            "image/png": "[encoded data removed]",
            "text/plain": [
              "<Figure size 432x288 with 1 Axes>"
            ]
          },
          "metadata": {
            "tags": [],
            "needs_background": "light"
          }
        }
      ]
    },
    {
      "cell_type": "code",
      "metadata": {
        "id": "nS4YtX6jFlVA",
        "colab_type": "code",
        "colab": {
          "base_uri": "https://localhost:8080/",
          "height": 279
        },
        "outputId": "5f9356d9-6e25-4cbb-be0c-d6281fdb6183"
      },
      "source": [
        "sns.lineplot(y=df['age-at-heart-attack'], x=df['survival'], ci=95, err_style='band');"
      ],
      "execution_count": 221,
      "outputs": [
        {
          "output_type": "display_data",
          "data": {
            "image/png": "[encoded data removed]",
            "text/plain": [
              "<Figure size 432x288 with 1 Axes>"
            ]
          },
          "metadata": {
            "tags": [],
            "needs_background": "light"
          }
        }
      ]
    },
    {
      "cell_type": "markdown",
      "metadata": {
        "id": "8JZaVzIpXgFG",
        "colab_type": "text"
      },
      "source": [
        "## Part 4 - Bayesian vs Frequentist Statistics\n",
        "\n",
        "Using a minimum of 2-3 sentences, give an explanation of Bayesian and Frequentist statistics - IN YOUR OWN WORDS, DO NOT PLAGIARIZE- and then compare and contrast these two approaches to statistical inference.\n",
        "\n"
      ]
    },
    {
      "cell_type": "markdown",
      "metadata": {
        "id": "MXiyzSbFIztQ",
        "colab_type": "text"
      },
      "source": [
        "### YOUR ANSWER HERE\n",
        "\n",
        "Frequentist approach uses a less computationally intensive process that reduces computational cost by holding some parapeters fixed. Inversly, a bayesian approach describes parameters probablistcally; requiring more calculations for analysis. A frequentist approach could be more sutable for hypothesis testing while a bayseian approach has a better fit in estimation of a population to describe an unknown aspect. "
      ]
    },
    {
      "cell_type": "markdown",
      "metadata": {
        "id": "JSylP1W9JzJP",
        "colab_type": "text"
      },
      "source": [
        "# Stretch Goals: \n",
        "Do these to get a 3 on the corresponding sections. These are **not** required in order to pass the Sprint Challenge.\n",
        "\n",
        "## Part 1: \n",
        "\n",
        "In order to get a 3 on this section make sure that you do not miss any of the specified data loading tasks, also, make sure that your work **throughout the entire sprint challenge** is particularly well commented, easy to follow, and thorough. \n",
        "\n",
        "## Part 2:\n",
        "\n",
        "Write functions that can calculate t-tests and chi^2 tests on all of the appropriate column combinations from the dataset. \n",
        "\n",
        "## Part 3: \n",
        "\n",
        "Plot you confidence intervals using all three plotting methods that were demonstrated in class.\n",
        "\n",
        "## Part 4:\n",
        "\n",
        "Give an extra awesome explanation of Bayesian vs Frequentist Statistics. Maybe use code or visualizations, or any other means necessary to show an exceptional grasp of these high level concepts."
      ]
    },
    {
      "cell_type": "code",
      "metadata": {
        "id": "a-V7o2vHK3LT",
        "colab_type": "code",
        "colab": {}
      },
      "source": [
        "# YOUR CODE HERE - Feel free to add as many code and text cells as necessary"
      ],
      "execution_count": null,
      "outputs": []
    }
  ]
}