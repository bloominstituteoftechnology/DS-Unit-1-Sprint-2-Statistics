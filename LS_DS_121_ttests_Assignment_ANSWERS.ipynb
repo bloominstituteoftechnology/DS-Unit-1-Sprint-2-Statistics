{
  "nbformat": 4,
  "nbformat_minor": 0,
  "metadata": {
    "colab": {
      "name": "LS_DS_121_ttests_Assignment_ANSWERS.ipynb",
      "provenance": [],
      "collapsed_sections": [],
      "include_colab_link": true
    },
    "kernelspec": {
      "display_name": "Python 3",
      "language": "python",
      "name": "python3"
    },
    "language_info": {
      "codemirror_mode": {
        "name": "ipython",
        "version": 3
      },
      "file_extension": ".py",
      "mimetype": "text/x-python",
      "name": "python",
      "nbconvert_exporter": "python",
      "pygments_lexer": "ipython3",
      "version": "3.7.4"
    }
  },
  "cells": [
    {
      "cell_type": "markdown",
      "metadata": {
        "id": "view-in-github",
        "colab_type": "text"
      },
      "source": [
        "<a href=\"https://colab.research.google.com/github/johhan27/DS-Unit-1-Sprint-2-Statistics/blob/master/LS_DS_121_ttests_Assignment_ANSWERS.ipynb\" target=\"_parent\"><img src=\"https://colab.research.google.com/assets/colab-badge.svg\" alt=\"Open In Colab\"/></a>"
      ]
    },
    {
      "cell_type": "markdown",
      "metadata": {
        "id": "iYk4qpO0xZ12"
      },
      "source": [
        "## Autograded Notebook (Canvas & CodeGrade)\n",
        "\n",
        "This notebook will be automatically graded. It is designed to test your answers and award points for the correct answers. Following the instructions for each Task carefully.\n",
        "\n",
        "### Instructions\n",
        "\n",
        "* **Download this notebook** as you would any other ipynb file\n",
        "* **Upload** to Google Colab or work locally (if you have that set-up)\n",
        "* **Delete `raise NotImplementedError()`**\n",
        "* Write your code in the `# YOUR CODE HERE` space\n",
        "* **Execute** the Test cells that contain `assert` statements - these help you check your work (others contain hidden tests that will be checked when you submit through Canvas)\n",
        "* **Save** your notebook when you are finished\n",
        "* **Download** as a `ipynb` file (if working in Colab)\n",
        "* **Upload** your complete notebook to Canvas (there will be additional instructions in Slack and/or Canvas)"
      ]
    },
    {
      "cell_type": "markdown",
      "metadata": {
        "id": "838Dmw1kM2LK"
      },
      "source": [
        "# Lambda School Data Science - Unit 1 Sprint 2 Module 1\n",
        "\n",
        "## Hypothesis Testing - One and two-sample t-Tests\n",
        "\n",
        "### Objectives\n",
        "\n",
        "* Explain the purpose of a t-test and identify applications\n",
        "* Use a t-test for independence to test for a statistically significant association between two categorical variables\n",
        "* Use a t-test p-value to draw the correct conclusion about the null and alternative hypothesis\n",
        "\n",
        "#### Total notebook points: 9"
      ]
    },
    {
      "cell_type": "markdown",
      "metadata": {
        "id": "XvoOHjnMR42h"
      },
      "source": [
        "### Introduction\n",
        "\n",
        "Mosquito nets have traditionally been an important tool to prevent mosquito bites in parts of the world where malaria is endemic. However, it may not be practical for an army that is on the move to set up and carry mosquito nets each night and day. Impregnating soldiers’ uniforms with insect repellent solves the mobility problem but also has drawbacks. First, the insect repellent quickly becomes ineffective with repeated washing and ironing and must be frequently reapplied. Second, in hot and humid climates the insect repellent can be absorbed through the skin, and the long-term effects of this exposure are unknown. One compromise is to have soldiers apply patches treated with insect repellent to their clothing. These patches would last longer because they would not be washed or ironed and would not expose the entire body to the insect repellent.\n",
        "\n",
        "### Dataset Description\n",
        "\n",
        "The `Mosquito.xlsx` dataset contains data recorded in an experiment conducted on male soldiers in the Indian Army who were stationed in the Tezpur/Solmara garrison in Northeast India. Thirty soldiers were randomly selected to receive one of three types of mosquito single repellent patch. After giving informed consent, the study participants affixed the patches at predetermined points on their uniforms and research assistants (who were blinded to the type of repellent used) counted the number of times a mosquito landed on each individual in an hour. \n",
        "\n",
        "Medical officers with the Indian Army have recorded data on mosquito bites and related illness for many years and can say with authority that the mean number of mosquito touches for soldiers not wearing any mosquito repellent is 8.2 per hour.**We wish to determine if wearing a single repellent patch changes the mean number of mosquito touches for soldiers compared to not wearing any mosquito repellant.**\n",
        "\n",
        "*Adapted from: A. Bhatnagar and V.K. Mehta (2007). \"Efficacy of Deltamethrin and Cyfluthrin Impregnated Cloth Over Uniform Against Mosquito Bites,\" Medical Journal Armed Forces India, Vol. 63, pp. 120-122.*"
      ]
    },
    {
      "cell_type": "markdown",
      "metadata": {
        "id": "j7SSqaLsxZ18"
      },
      "source": [
        "**Task 1** - Load the data\n",
        "\n",
        "Let's load the data! The URL has been provided as well as the imports for pandas and numpy.\n",
        "\n",
        "* load your CSV file into a DataFrame named `df_mosquito`"
      ]
    },
    {
      "cell_type": "code",
      "metadata": {
        "deletable": false,
        "id": "-5ubUxGnTn6k",
        "nbgrader": {
          "cell_type": "code",
          "checksum": "a79cf5edca9e94a4824036e800f7a3e3",
          "grade": false,
          "grade_id": "cell-dae3789e00dd9b29",
          "locked": false,
          "schema_version": 3,
          "solution": true,
          "task": false
        },
        "colab": {
          "base_uri": "https://localhost:8080/",
          "height": 201
        },
        "outputId": "7d6a568d-42e7-4c46-973a-d86a1f0840f0"
      },
      "source": [
        "# Task 1\n",
        "import pandas as pd\n",
        "import numpy as np\n",
        "\n",
        "# URL for the dataset\n",
        "data_url = 'https://raw.githubusercontent.com/LambdaSchool/data-science-practice-datasets/main/unit_1/Mosquito/Mosquito.csv'\n",
        "\n",
        "# YOUR CODE HERE\n",
        "df_mosquito = pd.read_csv(data_url)\n",
        "\n",
        "# Print out your DataFrame\n",
        "df_mosquito.head()"
      ],
      "execution_count": 1,
      "outputs": [
        {
          "output_type": "execute_result",
          "data": {
            "text/html": [
              "<div>\n",
              "<style scoped>\n",
              "    .dataframe tbody tr th:only-of-type {\n",
              "        vertical-align: middle;\n",
              "    }\n",
              "\n",
              "    .dataframe tbody tr th {\n",
              "        vertical-align: top;\n",
              "    }\n",
              "\n",
              "    .dataframe thead th {\n",
              "        text-align: right;\n",
              "    }\n",
              "</style>\n",
              "<table border=\"1\" class=\"dataframe\">\n",
              "  <thead>\n",
              "    <tr style=\"text-align: right;\">\n",
              "      <th></th>\n",
              "      <th>ID</th>\n",
              "      <th>Mosq_count</th>\n",
              "    </tr>\n",
              "  </thead>\n",
              "  <tbody>\n",
              "    <tr>\n",
              "      <th>0</th>\n",
              "      <td>1</td>\n",
              "      <td>4</td>\n",
              "    </tr>\n",
              "    <tr>\n",
              "      <th>1</th>\n",
              "      <td>2</td>\n",
              "      <td>10</td>\n",
              "    </tr>\n",
              "    <tr>\n",
              "      <th>2</th>\n",
              "      <td>3</td>\n",
              "      <td>13</td>\n",
              "    </tr>\n",
              "    <tr>\n",
              "      <th>3</th>\n",
              "      <td>4</td>\n",
              "      <td>0</td>\n",
              "    </tr>\n",
              "    <tr>\n",
              "      <th>4</th>\n",
              "      <td>5</td>\n",
              "      <td>11</td>\n",
              "    </tr>\n",
              "  </tbody>\n",
              "</table>\n",
              "</div>"
            ],
            "text/plain": [
              "   ID  Mosq_count\n",
              "0   1           4\n",
              "1   2          10\n",
              "2   3          13\n",
              "3   4           0\n",
              "4   5          11"
            ]
          },
          "metadata": {
            "tags": []
          },
          "execution_count": 1
        }
      ]
    },
    {
      "cell_type": "code",
      "metadata": {
        "colab": {
          "base_uri": "https://localhost:8080/",
          "height": 291
        },
        "id": "ZNnMUOcNy4-V",
        "outputId": "e4f8c326-5b53-4c70-f9a1-2df9424b0efe"
      },
      "source": [
        "df_mosquito.describe()"
      ],
      "execution_count": 2,
      "outputs": [
        {
          "output_type": "execute_result",
          "data": {
            "text/html": [
              "<div>\n",
              "<style scoped>\n",
              "    .dataframe tbody tr th:only-of-type {\n",
              "        vertical-align: middle;\n",
              "    }\n",
              "\n",
              "    .dataframe tbody tr th {\n",
              "        vertical-align: top;\n",
              "    }\n",
              "\n",
              "    .dataframe thead th {\n",
              "        text-align: right;\n",
              "    }\n",
              "</style>\n",
              "<table border=\"1\" class=\"dataframe\">\n",
              "  <thead>\n",
              "    <tr style=\"text-align: right;\">\n",
              "      <th></th>\n",
              "      <th>ID</th>\n",
              "      <th>Mosq_count</th>\n",
              "    </tr>\n",
              "  </thead>\n",
              "  <tbody>\n",
              "    <tr>\n",
              "      <th>count</th>\n",
              "      <td>90.000000</td>\n",
              "      <td>90.000000</td>\n",
              "    </tr>\n",
              "    <tr>\n",
              "      <th>mean</th>\n",
              "      <td>45.500000</td>\n",
              "      <td>8.011111</td>\n",
              "    </tr>\n",
              "    <tr>\n",
              "      <th>std</th>\n",
              "      <td>26.124701</td>\n",
              "      <td>3.282553</td>\n",
              "    </tr>\n",
              "    <tr>\n",
              "      <th>min</th>\n",
              "      <td>1.000000</td>\n",
              "      <td>0.000000</td>\n",
              "    </tr>\n",
              "    <tr>\n",
              "      <th>25%</th>\n",
              "      <td>23.250000</td>\n",
              "      <td>6.000000</td>\n",
              "    </tr>\n",
              "    <tr>\n",
              "      <th>50%</th>\n",
              "      <td>45.500000</td>\n",
              "      <td>7.000000</td>\n",
              "    </tr>\n",
              "    <tr>\n",
              "      <th>75%</th>\n",
              "      <td>67.750000</td>\n",
              "      <td>10.000000</td>\n",
              "    </tr>\n",
              "    <tr>\n",
              "      <th>max</th>\n",
              "      <td>90.000000</td>\n",
              "      <td>18.000000</td>\n",
              "    </tr>\n",
              "  </tbody>\n",
              "</table>\n",
              "</div>"
            ],
            "text/plain": [
              "              ID  Mosq_count\n",
              "count  90.000000   90.000000\n",
              "mean   45.500000    8.011111\n",
              "std    26.124701    3.282553\n",
              "min     1.000000    0.000000\n",
              "25%    23.250000    6.000000\n",
              "50%    45.500000    7.000000\n",
              "75%    67.750000   10.000000\n",
              "max    90.000000   18.000000"
            ]
          },
          "metadata": {
            "tags": []
          },
          "execution_count": 2
        }
      ]
    },
    {
      "cell_type": "markdown",
      "metadata": {
        "id": "ERwF70iJxZ19"
      },
      "source": [
        "**Task 1 Test**"
      ]
    },
    {
      "cell_type": "code",
      "metadata": {
        "deletable": false,
        "editable": false,
        "nbgrader": {
          "cell_type": "code",
          "checksum": "f554f6a993c5e6159020716a3c7a13da",
          "grade": true,
          "grade_id": "cell-a347d8dd7572e6d4",
          "locked": true,
          "points": 1,
          "schema_version": 3,
          "solution": false,
          "task": false
        },
        "id": "J4R2LLqTxZ1_"
      },
      "source": [
        "# Task 1 - Test\n",
        "\n",
        "assert isinstance(df_mosquito, pd.DataFrame), 'Have you created a DataFrame named `df_mosquito`?'\n",
        "assert len(df_mosquito) == 90\n"
      ],
      "execution_count": 3,
      "outputs": []
    },
    {
      "cell_type": "markdown",
      "metadata": {
        "id": "NdSQiNLGxZ2B"
      },
      "source": [
        "**Task 2 -** Statistical hypotheses\n",
        "\n",
        "Write the null and alternative hypotheses using the experiment information described above.\n",
        "\n",
        "This task will not be autograded - but it is part of completing the challenge."
      ]
    },
    {
      "cell_type": "markdown",
      "metadata": {
        "id": "y_3hEiMfxZ2B"
      },
      "source": [
        "**Task 2 ANSWER:**\n",
        "\n",
        "FILL IN YOUR ANSWERS BELOW\n",
        "\n",
        "Null hypothesis: Wearing a single repellent patch **DOES NOT change** the mean number of mosquito touches (8.2/hour) compared to not wearing any mosquito repellant.\n",
        "\n",
        "Alternative hypothesis: Wearing a single repellent patch **DOES change** the mean number of mosquito touches (8.2/hour) compared to not wearing any mosquito repellant.\n",
        "\n",
        "$H_0: \\mu =$ 8.2\n",
        "\n",
        "$H_a: \\mu \\neq$ 8.2"
      ]
    },
    {
      "cell_type": "markdown",
      "metadata": {
        "id": "bBU190FUxZ2C"
      },
      "source": [
        "**Task 3** - Calculate the mean\n",
        "\n",
        "* Calculate the mean number of mosquito touches in the sample. Assign your answer to the variable `mosquito_touch_mean`."
      ]
    },
    {
      "cell_type": "code",
      "metadata": {
        "deletable": false,
        "nbgrader": {
          "cell_type": "code",
          "checksum": "f0ac9da4107e7987705315f3b457d510",
          "grade": false,
          "grade_id": "cell-22ced5cd2cae6230",
          "locked": false,
          "schema_version": 3,
          "solution": true,
          "task": false
        },
        "id": "_7XYoO0FxZ2C",
        "colab": {
          "base_uri": "https://localhost:8080/"
        },
        "outputId": "b1345db6-c7cc-4898-aa67-f4e96d30ec9c"
      },
      "source": [
        "# Task 3\n",
        "\n",
        "# YOUR CODE HERE\n",
        "mosquito_touch_mean = df_mosquito['Mosq_count'].mean()\n",
        "mosquito_touch_mean"
      ],
      "execution_count": 4,
      "outputs": [
        {
          "output_type": "execute_result",
          "data": {
            "text/plain": [
              "8.011111111111111"
            ]
          },
          "metadata": {
            "tags": []
          },
          "execution_count": 4
        }
      ]
    },
    {
      "cell_type": "markdown",
      "metadata": {
        "id": "lNIw--z7xZ2D"
      },
      "source": [
        "**Task 3 Test**"
      ]
    },
    {
      "cell_type": "code",
      "metadata": {
        "deletable": false,
        "editable": false,
        "nbgrader": {
          "cell_type": "code",
          "checksum": "1342cd49e01455195373972dd04e3d42",
          "grade": true,
          "grade_id": "cell-3970fbb1a3eaefb5",
          "locked": true,
          "points": 1,
          "schema_version": 3,
          "solution": false,
          "task": false
        },
        "id": "ucgohiqAxZ2E"
      },
      "source": [
        "# Task 3 - Test\n",
        "# Hidden tests - you will see the results when you submit to Canvas"
      ],
      "execution_count": 5,
      "outputs": []
    },
    {
      "cell_type": "markdown",
      "metadata": {
        "id": "ySXkhE3oxZ2F"
      },
      "source": [
        "**Task 4** - Calculate the standard deviation\n",
        "\n",
        "* Calculate the standard deviation of the number of mosquito touches in the sample. Assign your answer to `mosquito_touch_std`."
      ]
    },
    {
      "cell_type": "code",
      "metadata": {
        "deletable": false,
        "nbgrader": {
          "cell_type": "code",
          "checksum": "3073fccc5836e232b55191593823249e",
          "grade": false,
          "grade_id": "cell-9c4fe58a9fe2d7aa",
          "locked": false,
          "schema_version": 3,
          "solution": true,
          "task": false
        },
        "id": "3wD5w2X3xZ2O",
        "colab": {
          "base_uri": "https://localhost:8080/"
        },
        "outputId": "3cdd42de-8690-451e-d92e-a0bf4f4ace6c"
      },
      "source": [
        "# Task 4\n",
        "\n",
        "# YOUR CODE HERE\n",
        "mosquito_touch_std = df_mosquito['Mosq_count'].std()\n",
        "mosquito_touch_std"
      ],
      "execution_count": 6,
      "outputs": [
        {
          "output_type": "execute_result",
          "data": {
            "text/plain": [
              "3.2825532828777257"
            ]
          },
          "metadata": {
            "tags": []
          },
          "execution_count": 6
        }
      ]
    },
    {
      "cell_type": "markdown",
      "metadata": {
        "id": "c5cRRgOvxZ2U"
      },
      "source": [
        "**Task 4 Test**"
      ]
    },
    {
      "cell_type": "code",
      "metadata": {
        "deletable": false,
        "editable": false,
        "nbgrader": {
          "cell_type": "code",
          "checksum": "16782c1d47a0a443f3a5387c948fef92",
          "grade": true,
          "grade_id": "cell-4939c4289c39b4e3",
          "locked": true,
          "points": 1,
          "schema_version": 3,
          "solution": false,
          "task": false
        },
        "id": "QbhYLS6fxZ2V"
      },
      "source": [
        "# Task 4 - Test\n",
        "# Hidden tests - you will see the results when you submit to Canvas"
      ],
      "execution_count": 7,
      "outputs": []
    },
    {
      "cell_type": "markdown",
      "metadata": {
        "id": "cD3hAJy8xZ2V"
      },
      "source": [
        "**Task 5** - One-sample t-test\n",
        "\n",
        "* Conduct a 1-sample t-test to test your hypotheses. Assign your t-test result to the variable `mosquito_pval`.\n",
        "\n",
        "*Hint: The `stats.ttest_1samp()` function returns two values; read the documentation to select the p-value*"
      ]
    },
    {
      "cell_type": "code",
      "metadata": {
        "deletable": false,
        "nbgrader": {
          "cell_type": "code",
          "checksum": "25e7202a6ae1680c595093a5087476be",
          "grade": false,
          "grade_id": "cell-44b3f2a39081c5df",
          "locked": false,
          "schema_version": 3,
          "solution": true,
          "task": false
        },
        "id": "-ptCfBugxZ2W"
      },
      "source": [
        "# Task 5\n",
        "\n",
        "# Use the 'ttest_1samp' from the stats package\n",
        "from scipy import stats\n",
        "\n",
        "# YOUR CODE HERE\n",
        "#rvs = stats.norm.rvs(loc=mosquito_touch_mean, scale=mosquito_touch_std, size=90, random_state=42)\n",
        "pre_output = stats.ttest_1samp(df_mosquito['Mosq_count'], popmean=8.2)"
      ],
      "execution_count": 16,
      "outputs": []
    },
    {
      "cell_type": "code",
      "metadata": {
        "colab": {
          "base_uri": "https://localhost:8080/"
        },
        "id": "Oy4Kp6NA4u4T",
        "outputId": "59f36915-95d0-4d52-832c-0e7c09dc952f"
      },
      "source": [
        "pre_output"
      ],
      "execution_count": 17,
      "outputs": [
        {
          "output_type": "execute_result",
          "data": {
            "text/plain": [
              "Ttest_1sampResult(statistic=-0.5459035044790239, pvalue=0.5864980356272131)"
            ]
          },
          "metadata": {
            "tags": []
          },
          "execution_count": 17
        }
      ]
    },
    {
      "cell_type": "code",
      "metadata": {
        "colab": {
          "base_uri": "https://localhost:8080/"
        },
        "id": "SoFNejYw5C8m",
        "outputId": "f7c7718e-8d75-4924-d212-ced473cc40eb"
      },
      "source": [
        "mosquito_pval = pre_output[1]\n",
        "mosquito_pval"
      ],
      "execution_count": 18,
      "outputs": [
        {
          "output_type": "execute_result",
          "data": {
            "text/plain": [
              "0.5864980356272131"
            ]
          },
          "metadata": {
            "tags": []
          },
          "execution_count": 18
        }
      ]
    },
    {
      "cell_type": "markdown",
      "metadata": {
        "id": "CUpnNWrhxZ2W"
      },
      "source": [
        "**Task 5 Test**"
      ]
    },
    {
      "cell_type": "code",
      "metadata": {
        "deletable": false,
        "editable": false,
        "nbgrader": {
          "cell_type": "code",
          "checksum": "4674209f4aac3c4072c34e2366764b6c",
          "grade": true,
          "grade_id": "cell-3be2eb1f16e366e6",
          "locked": true,
          "points": 1,
          "schema_version": 3,
          "solution": false,
          "task": false
        },
        "id": "-NkIJjj0xZ2Y"
      },
      "source": [
        "# Task 5 - Test\n",
        "# Hidden tests - you will see the results when you submit to Canvas"
      ],
      "execution_count": null,
      "outputs": []
    },
    {
      "cell_type": "markdown",
      "metadata": {
        "id": "jGjtgweqxZ2a"
      },
      "source": [
        "**Task 6**\n",
        "\n",
        "Report your conclusion at the 0.05 significance level. Write your answer in the cell below.\n",
        "\n",
        "This task will not be autograded - but it is part of the project!"
      ]
    },
    {
      "cell_type": "markdown",
      "metadata": {
        "id": "tAUvWo-SxZ2b"
      },
      "source": [
        "\n",
        "\n",
        "```\n",
        "# This is formatted as code\n",
        "```\n",
        "\n",
        "**Task 6 ANSWER:**\n",
        "\n",
        "p-value (0.1162) > alpha (0.05)\n",
        "\n",
        "Therefore, we fail to reject the null hypothesis\n",
        "\n",
        "***Conclusion: We don't have enough evidence to reject that wearing one repellent does not change the ammount of mosquito touches***"
      ]
    },
    {
      "cell_type": "markdown",
      "metadata": {
        "id": "FGnFRSjRqG9s"
      },
      "source": [
        "## Use the following information to complete Tasks 7-13\n",
        "\n",
        "### Introduction\n",
        "\n",
        "More than 14,000 people finished the 2020 Disney Marathon held on January 12. The results by age and gender group are included in the `Disney.csv dataset`. \n",
        "\n",
        "**We wish to determine if the mean finishing time for male and female marathon runners is the same or if there is a difference in the mean finishing time between male and female marathon runners.**\n",
        "\n",
        "\n",
        "[Source: Track Shack. 2020 Disney Marathon Race Results](https://www.trackshackresults.com/disneysports/results/wdw/wdw20/mar_results.php)"
      ]
    },
    {
      "cell_type": "markdown",
      "metadata": {
        "id": "Nbe64ZPHxZ2c"
      },
      "source": [
        "**Task 7** - Load the next dataset\n",
        "\n",
        "Let's load the data! The URL has been provided.\n",
        "\n",
        "* load your CSV file into a DataFrame named `df_disney`"
      ]
    },
    {
      "cell_type": "code",
      "metadata": {
        "deletable": false,
        "id": "KIpOQrHytz2P",
        "nbgrader": {
          "cell_type": "code",
          "checksum": "b14fac35b78622982353db3854cbbcb8",
          "grade": false,
          "grade_id": "cell-2b389fa658a51cd2",
          "locked": false,
          "schema_version": 3,
          "solution": true,
          "task": false
        },
        "colab": {
          "base_uri": "https://localhost:8080/"
        },
        "outputId": "e111e844-c3de-4249-cea2-fe50e46748cb"
      },
      "source": [
        "# Task 7\n",
        "\n",
        "# URL for Disney marathon dataset\n",
        "data_url2 = 'https://raw.githubusercontent.com/LambdaSchool/data-science-practice-datasets/main/unit_1/Disney_Marathon/Disney.csv'\n",
        "\n",
        "# YOUR CODE HERE\n",
        "df_disney = pd.read_csv(data_url2)\n",
        "df_disney.shape"
      ],
      "execution_count": null,
      "outputs": [
        {
          "output_type": "execute_result",
          "data": {
            "text/plain": [
              "(14106, 5)"
            ]
          },
          "metadata": {
            "tags": []
          },
          "execution_count": 30
        }
      ]
    },
    {
      "cell_type": "code",
      "metadata": {
        "colab": {
          "base_uri": "https://localhost:8080/",
          "height": 201
        },
        "id": "gLPv78sb7nN3",
        "outputId": "f25a162d-dda9-4b1f-a98f-029b46979e1b"
      },
      "source": [
        "df_disney.head()"
      ],
      "execution_count": null,
      "outputs": [
        {
          "output_type": "execute_result",
          "data": {
            "text/html": [
              "<div>\n",
              "<style scoped>\n",
              "    .dataframe tbody tr th:only-of-type {\n",
              "        vertical-align: middle;\n",
              "    }\n",
              "\n",
              "    .dataframe tbody tr th {\n",
              "        vertical-align: top;\n",
              "    }\n",
              "\n",
              "    .dataframe thead th {\n",
              "        text-align: right;\n",
              "    }\n",
              "</style>\n",
              "<table border=\"1\" class=\"dataframe\">\n",
              "  <thead>\n",
              "    <tr style=\"text-align: right;\">\n",
              "      <th></th>\n",
              "      <th>ID</th>\n",
              "      <th>gender</th>\n",
              "      <th>age</th>\n",
              "      <th>group</th>\n",
              "      <th>time</th>\n",
              "    </tr>\n",
              "  </thead>\n",
              "  <tbody>\n",
              "    <tr>\n",
              "      <th>0</th>\n",
              "      <td>1</td>\n",
              "      <td>M</td>\n",
              "      <td>30</td>\n",
              "      <td>M30-34</td>\n",
              "      <td>2.371944</td>\n",
              "    </tr>\n",
              "    <tr>\n",
              "      <th>1</th>\n",
              "      <td>2</td>\n",
              "      <td>M</td>\n",
              "      <td>26</td>\n",
              "      <td>M25-29</td>\n",
              "      <td>2.450556</td>\n",
              "    </tr>\n",
              "    <tr>\n",
              "      <th>2</th>\n",
              "      <td>3</td>\n",
              "      <td>M</td>\n",
              "      <td>32</td>\n",
              "      <td>M30-34</td>\n",
              "      <td>2.457778</td>\n",
              "    </tr>\n",
              "    <tr>\n",
              "      <th>3</th>\n",
              "      <td>4</td>\n",
              "      <td>M</td>\n",
              "      <td>35</td>\n",
              "      <td>M35-39</td>\n",
              "      <td>2.655833</td>\n",
              "    </tr>\n",
              "    <tr>\n",
              "      <th>4</th>\n",
              "      <td>5</td>\n",
              "      <td>M</td>\n",
              "      <td>26</td>\n",
              "      <td>M25-29</td>\n",
              "      <td>2.736111</td>\n",
              "    </tr>\n",
              "  </tbody>\n",
              "</table>\n",
              "</div>"
            ],
            "text/plain": [
              "   ID gender  age   group      time\n",
              "0   1      M   30  M30-34  2.371944\n",
              "1   2      M   26  M25-29  2.450556\n",
              "2   3      M   32  M30-34  2.457778\n",
              "3   4      M   35  M35-39  2.655833\n",
              "4   5      M   26  M25-29  2.736111"
            ]
          },
          "metadata": {
            "tags": []
          },
          "execution_count": 31
        }
      ]
    },
    {
      "cell_type": "code",
      "metadata": {
        "colab": {
          "base_uri": "https://localhost:8080/"
        },
        "id": "gzsP71BW7sAe",
        "outputId": "8a6fdf3b-3ddc-4596-88dc-0bf8747f9cd0"
      },
      "source": [
        "df_disney.groupby('gender').time.mean()"
      ],
      "execution_count": null,
      "outputs": [
        {
          "output_type": "execute_result",
          "data": {
            "text/plain": [
              "gender\n",
              "F    6.291842\n",
              "M    5.799160\n",
              "Name: time, dtype: float64"
            ]
          },
          "metadata": {
            "tags": []
          },
          "execution_count": 40
        }
      ]
    },
    {
      "cell_type": "markdown",
      "metadata": {
        "id": "wdVPyfvcxZ2c"
      },
      "source": [
        "**Task 7 Test**"
      ]
    },
    {
      "cell_type": "code",
      "metadata": {
        "deletable": false,
        "editable": false,
        "nbgrader": {
          "cell_type": "code",
          "checksum": "157a068e31f72c13d744cf606d9fb08b",
          "grade": true,
          "grade_id": "cell-c1f16b75c543e0d1",
          "locked": true,
          "points": 1,
          "schema_version": 3,
          "solution": false,
          "task": false
        },
        "id": "F8cBuYPuxZ2c"
      },
      "source": [
        "# Task 7 - Test\n",
        "\n",
        "assert isinstance(df_disney, pd.DataFrame), 'Have you created a DataFrame named `df_disney`?'\n",
        "assert len(df_disney) == 14106\n"
      ],
      "execution_count": null,
      "outputs": []
    },
    {
      "cell_type": "markdown",
      "metadata": {
        "id": "Llk7ugCgt3vI"
      },
      "source": [
        "**Task 8** - Write the hypothesis\n",
        "\n",
        "Write the null and alternative hypotheses for the scenario described above in words and symbols.\n",
        "\n",
        "This task will not be autograded - but it is part of completing the challenge."
      ]
    },
    {
      "cell_type": "markdown",
      "metadata": {
        "id": "GYDPPpqLxZ2d"
      },
      "source": [
        "**Task 8 ANSWER:**\n",
        "\n",
        "FILL IN YOUR ANSWERS BELOW\n",
        "\n",
        "\n",
        "Null hypothesis: The mean finishing time for male and female runners is THE SAME\n",
        "\n",
        "Alternative hypothesis: The mean finishing time for male and female runners is DIFFERENT\n",
        "\n",
        "$H_0: \\mu1 =$ $ \\mu2 $\n",
        "\n",
        "$H_a: \\mu1 \\neq$$  \\mu2 $"
      ]
    },
    {
      "cell_type": "markdown",
      "metadata": {
        "id": "p7kI35nUxZ2d"
      },
      "source": [
        "**Task 9** - Create new series from a DataFrame\n",
        "\n",
        "Create two separate Series (a pandas DataFrame column is a Series):\n",
        "\n",
        "* one containing finishing times for male participants (`male_finish`)\n",
        "* one containing finishing times for female participants (`female_finish`)"
      ]
    },
    {
      "cell_type": "code",
      "metadata": {
        "deletable": false,
        "nbgrader": {
          "cell_type": "code",
          "checksum": "e57a216ce84829984c281f73fa701a2a",
          "grade": false,
          "grade_id": "cell-4290d3dd2f668a25",
          "locked": false,
          "schema_version": 3,
          "solution": true,
          "task": false
        },
        "id": "2EFWyE7MxZ2d",
        "colab": {
          "base_uri": "https://localhost:8080/"
        },
        "outputId": "dbd03f0d-3fa9-4f6f-e35a-fb73f044fce1"
      },
      "source": [
        "# Task 9\n",
        "\n",
        "# YOUR CODE HERE\n",
        "male_finish = df_disney.loc[df_disney['gender']=='M']['time']\n",
        "female_finish = df_disney.loc[df_disney['gender']=='F']['time']\n",
        "male_finish, female_finish"
      ],
      "execution_count": null,
      "outputs": [
        {
          "output_type": "execute_result",
          "data": {
            "text/plain": [
              "(0        2.371944\n",
              " 1        2.450556\n",
              " 2        2.457778\n",
              " 3        2.655833\n",
              " 4        2.736111\n",
              "            ...   \n",
              " 14092    7.280556\n",
              " 14099    7.403333\n",
              " 14103    7.383333\n",
              " 14104    7.400000\n",
              " 14105    7.406944\n",
              " Name: time, Length: 6577, dtype: float64, 16       2.905278\n",
              " 27       2.985278\n",
              " 61       3.207778\n",
              " 69       3.244444\n",
              " 85       3.290833\n",
              "            ...   \n",
              " 14097    7.380000\n",
              " 14098    7.385833\n",
              " 14100    7.380000\n",
              " 14101    7.320278\n",
              " 14102    7.340556\n",
              " Name: time, Length: 7529, dtype: float64)"
            ]
          },
          "metadata": {
            "tags": []
          },
          "execution_count": 51
        }
      ]
    },
    {
      "cell_type": "markdown",
      "metadata": {
        "id": "zcoLFkilxZ2d"
      },
      "source": [
        "**Task 9 Test**"
      ]
    },
    {
      "cell_type": "code",
      "metadata": {
        "deletable": false,
        "editable": false,
        "nbgrader": {
          "cell_type": "code",
          "checksum": "d623787b5a82e6865a0fc293c9d60038",
          "grade": true,
          "grade_id": "cell-5384320ccd7f5048",
          "locked": true,
          "points": 1,
          "schema_version": 3,
          "solution": false,
          "task": false
        },
        "id": "tSkDLdhZxZ2k"
      },
      "source": [
        "# Task 9 - Test\n",
        "# Hidden tests - you will see the results when you submit to Canvas"
      ],
      "execution_count": null,
      "outputs": []
    },
    {
      "cell_type": "markdown",
      "metadata": {
        "id": "Amn8D-BcxZ2m"
      },
      "source": [
        "**Task 10** - Calculate the mean finishing times\n",
        "\n",
        "* Calculate the mean finishing time for male and female participants separately. Name your variables `male_finish_mean` and `female_finish_mean`."
      ]
    },
    {
      "cell_type": "code",
      "metadata": {
        "deletable": false,
        "nbgrader": {
          "cell_type": "code",
          "checksum": "0740d4260503e50a0b971045ac32b81c",
          "grade": false,
          "grade_id": "cell-f6c55ea4a2dba463",
          "locked": false,
          "schema_version": 3,
          "solution": true,
          "task": false
        },
        "id": "QluaOG-vxZ2t",
        "colab": {
          "base_uri": "https://localhost:8080/"
        },
        "outputId": "e6bfcd0a-3639-45a6-81b8-bc503d62dfab"
      },
      "source": [
        "# Task 10\n",
        "\n",
        "# YOUR CODE HERE\n",
        "male_finish_mean = male_finish.mean()\n",
        "female_finish_mean = female_finish.mean()\n",
        "male_finish_mean, female_finish_mean"
      ],
      "execution_count": null,
      "outputs": [
        {
          "output_type": "execute_result",
          "data": {
            "text/plain": [
              "(5.799159782400031, 6.291841988756132)"
            ]
          },
          "metadata": {
            "tags": []
          },
          "execution_count": 49
        }
      ]
    },
    {
      "cell_type": "markdown",
      "metadata": {
        "id": "-pMpS77xxZ2u"
      },
      "source": [
        "**Task 10 Test**"
      ]
    },
    {
      "cell_type": "code",
      "metadata": {
        "deletable": false,
        "editable": false,
        "nbgrader": {
          "cell_type": "code",
          "checksum": "b8c7e27c91f2fa121e07315a8339569c",
          "grade": true,
          "grade_id": "cell-71bc6659db96de45",
          "locked": true,
          "points": 1,
          "schema_version": 3,
          "solution": false,
          "task": false
        },
        "id": "IVbawcfVxZ2u"
      },
      "source": [
        "# Task 10 - Test\n",
        "# Hidden tests - you will see the results when you submit to Canvas"
      ],
      "execution_count": null,
      "outputs": []
    },
    {
      "cell_type": "markdown",
      "metadata": {
        "id": "2IToxWzhxZ29"
      },
      "source": [
        "**Task 11** - Calculate the standard deviation\n",
        "\n",
        "* Calculate standard deviation of the mean finishing time for male and female participants separately. Name your variables `male_finish_std` and `female_finish_std`."
      ]
    },
    {
      "cell_type": "code",
      "metadata": {
        "deletable": false,
        "nbgrader": {
          "cell_type": "code",
          "checksum": "0668a332d37fe542dfc25bd21bdd0ed0",
          "grade": false,
          "grade_id": "cell-3ac04d8339ec03c3",
          "locked": false,
          "schema_version": 3,
          "solution": true,
          "task": false
        },
        "id": "pj1KtEuLxZ2_",
        "colab": {
          "base_uri": "https://localhost:8080/"
        },
        "outputId": "37ae23cd-a2ea-41fe-fbe5-22ed44f48719"
      },
      "source": [
        "# Task 11\n",
        "\n",
        "# YOUR CODE HERE\n",
        "male_finish_std = male_finish.std()\n",
        "female_finish_std = female_finish.std()\n",
        "male_finish_std, female_finish_std"
      ],
      "execution_count": null,
      "outputs": [
        {
          "output_type": "execute_result",
          "data": {
            "text/plain": [
              "(1.100676340530379, 0.896690100351361)"
            ]
          },
          "metadata": {
            "tags": []
          },
          "execution_count": 50
        }
      ]
    },
    {
      "cell_type": "markdown",
      "metadata": {
        "id": "z1JInyNZxZ3A"
      },
      "source": [
        "**Task 11 Test**"
      ]
    },
    {
      "cell_type": "code",
      "metadata": {
        "deletable": false,
        "editable": false,
        "nbgrader": {
          "cell_type": "code",
          "checksum": "4b5a2dce6d574c0f837046a73baff288",
          "grade": true,
          "grade_id": "cell-a2de7fe5b67a1886",
          "locked": true,
          "points": 1,
          "schema_version": 3,
          "solution": false,
          "task": false
        },
        "id": "JcPpEDS2xZ3A"
      },
      "source": [
        "# Task 11 - Test\n",
        "# Hidden tests - you will see the results when you submit to Canvas"
      ],
      "execution_count": null,
      "outputs": []
    },
    {
      "cell_type": "markdown",
      "metadata": {
        "id": "vHYc-AsFxZ3B"
      },
      "source": [
        "**Task 12** - Conduct a 2-sample t-test\n",
        "\n",
        "Conduct a 2-sample t-test to test your hypotheses:\n",
        "\n",
        "* Assign the t-statistic to a variable called `disney_tval`\n",
        "* Assign the p-value to a variable called `disney_pval`\n",
        "\n",
        "Hint: The function returns two values and you can assign them with one line (example):\n",
        "\n",
        "`variable1, variable2` = `some.function(arguments)`"
      ]
    },
    {
      "cell_type": "code",
      "metadata": {
        "deletable": false,
        "nbgrader": {
          "cell_type": "code",
          "checksum": "8e185d064c54da6e23d648cbeb9aba7d",
          "grade": false,
          "grade_id": "cell-d391e7e149994d87",
          "locked": false,
          "schema_version": 3,
          "solution": true,
          "task": false
        },
        "id": "_MZ4xA_lxZ3C"
      },
      "source": [
        "# Task 12\n",
        "#6577, 7529\n",
        "# YOUR CODE HERE\n",
        "rvs1 = stats.norm.rvs(loc=male_finish_mean, scale=male_finish_std, size=6577, random_state=42)\n",
        "rvs2 = stats.norm.rvs(loc=female_finish_mean, scale=female_finish_std, size=7529, random_state=42)\n",
        "disney_tval, disney_pval = stats.ttest_ind(rvs1, rvs2)"
      ],
      "execution_count": null,
      "outputs": []
    },
    {
      "cell_type": "code",
      "metadata": {
        "colab": {
          "base_uri": "https://localhost:8080/"
        },
        "id": "yr_Sr9rwCn3B",
        "outputId": "63645811-3d2b-40fa-e8ba-c005c23016d9"
      },
      "source": [
        "disney_tval, disney_pval"
      ],
      "execution_count": null,
      "outputs": [
        {
          "output_type": "execute_result",
          "data": {
            "text/plain": [
              "(-29.153800632342893, 1.7130172385057435e-181)"
            ]
          },
          "metadata": {
            "tags": []
          },
          "execution_count": 94
        }
      ]
    },
    {
      "cell_type": "markdown",
      "metadata": {
        "id": "3QvlawG9xZ3C"
      },
      "source": [
        "**Task 12 Test**"
      ]
    },
    {
      "cell_type": "code",
      "metadata": {
        "deletable": false,
        "editable": false,
        "nbgrader": {
          "cell_type": "code",
          "checksum": "21c23c6671a4f7e515873d0d9df7076b",
          "grade": true,
          "grade_id": "cell-35a1e3947ac6388a",
          "locked": true,
          "points": 1,
          "schema_version": 3,
          "solution": false,
          "task": false
        },
        "id": "tUq-5IqNxZ3D"
      },
      "source": [
        "# Task 12 - Test\n",
        "# Hidden tests - you will see the results when you submit to Canvas"
      ],
      "execution_count": null,
      "outputs": []
    },
    {
      "cell_type": "markdown",
      "metadata": {
        "id": "rTw_EoXTukqT"
      },
      "source": [
        "**Task 13** - Report your result\n",
        "\n",
        "Report your conclusion at the 0.05 significance level.\n",
        "\n",
        "This task will not be autograded - but it is part of completing the challenge.\n",
        "\n",
        "p-value (1.71e-181) < alpha(0.05)\n",
        "\n",
        "Therefore, we reject the null hypothesis\n",
        "\n",
        "***Conclusion: We have evidence to reject that the mean finishing times for male and female runners are the same ***"
      ]
    },
    {
      "cell_type": "markdown",
      "metadata": {
        "id": "4walH_MwwMeQ"
      },
      "source": [
        "### In your own words, answer the following questions:\n",
        "\n",
        "These tasks will not be autograded - but they are part of completing the challenge.\n",
        "\n",
        "**Task 14:** Explain the Central Limit Theorem.\n",
        "\n",
        "**Regardless of the distribution on the population, if we take different large samples of it, the distribution of the sample means will be equal to a normal distribution.**\n",
        "\n",
        "**Task 15:** Describe the Normal Distribution.\n",
        "\n",
        "***Most observations are found closer to the mean and fewer at both sides of the graph in a simetrical sharp \"bell\" way***\n",
        "\n",
        "**Task 16:** Describe the relationship between the Normal distribution and the t-distribution.\n",
        "\n",
        "*** the t-distribution is a flatter bell, and the larger the sample the more it approximates to a normal distribution ***\n",
        "\n",
        "**Task 17:** Write about who William Sealy Gosset was.\n",
        "\n",
        "***English statistician who pioneered the small sample approach and significance testing while working in the brewery(Guinness) and farm industry. Known for the t-distribution under the alias \"Student\" ***\n"
      ]
    }
  ]
}