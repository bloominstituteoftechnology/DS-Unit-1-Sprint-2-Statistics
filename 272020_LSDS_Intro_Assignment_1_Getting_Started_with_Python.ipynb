{
  "nbformat": 4,
  "nbformat_minor": 0,
  "metadata": {
    "colab": {
      "name": "272020_LSDS Intro Assignment 1 - Getting Started with Python.ipynb",
      "provenance": [],
      "collapsed_sections": [],
      "include_colab_link": true
    },
    "kernelspec": {
      "name": "python3",
      "display_name": "Python 3"
    }
  },
  "cells": [
    {
      "cell_type": "markdown",
      "metadata": {
        "id": "view-in-github",
        "colab_type": "text"
      },
      "source": [
        "<a href=\"https://colab.research.google.com/github/DareToExpose/DS-Unit-1-Sprint-2-Statistics/blob/master/272020_LSDS_Intro_Assignment_1_Getting_Started_with_Python.ipynb\" target=\"_parent\"><img src=\"https://colab.research.google.com/assets/colab-badge.svg\" alt=\"Open In Colab\"/></a>"
      ]
    },
    {
      "cell_type": "markdown",
      "metadata": {
        "colab_type": "text",
        "id": "MYPYjXF_QOIB"
      },
      "source": [
        "# New Section"
      ]
    },
    {
      "cell_type": "markdown",
      "metadata": {
        "id": "51dZwqDNc9x6",
        "colab_type": "text"
      },
      "source": [
        "# Lambda School Data Science - Getting Started with Python\n",
        "\n",
        "Following are exercises you should complete after watching the first intro lecture. Workflow:\n",
        "\n",
        "1. Sign in to a Google account\n",
        "2. Copy the notebook (`File` -> `Save a copy in Drive`)\n",
        "3. Complete the exercises! This means fill out the code cells, and run them (shift-enter or click the play button that appears when you're in one of them)\n",
        "4. Take a look at your work, and write comments/add text cells as appropriate to explain\n",
        "5. Make the notebook URL viewable and submit with the standup form"
      ]
    },
    {
      "cell_type": "markdown",
      "metadata": {
        "id": "I6biutgwdgpb",
        "colab_type": "text"
      },
      "source": [
        "## Exercise 1 - A bit of Math\n",
        "\n",
        "For these \"word\" problems, use Python to clearly solve them. Your code will \"show your work\" - use good variable names! To show your answers you should write a `print()` statement at the end.\n",
        "\n",
        "As you work, follow the **20 minute rule** - that means if you're stuck on something for 20 minutes, you should ask a question!\n",
        "\n",
        "### a) It's a gas\n",
        "\n",
        "A taxi driver is calculating their profit over two weeks by adding up the fares they charge and subtracting the cost of gas. The price of gas changes over time - it was `$3.52`/gallon the first week and `$3.57`/gallon this second week. Their car gets 20 miles per gallon.\n",
        "\n",
        "For the first week the driver had a total of 23 passengers with average `$29` fare each, and drove a total of 160 miles. For the second week they had 17 passengers with average `$30` fare each, and drove a total of 220 miles. Assume that for both weeks they purchase all the gas needed during that week (i.e. they refuel every week to maintain a constant level of gas in the tank).\n",
        "\n",
        "Based on the above, answer the following questions:\n",
        "\n",
        "- What is their total profit over both weeks?\n",
        "- During which week was their average (mean) profit per passenger higher?\n"
      ]
    },
    {
      "cell_type": "code",
      "metadata": {
        "id": "CWJeYQW6AoGf",
        "colab_type": "code",
        "outputId": "1b20d5ba-ca32-4c15-a2c5-8d8081f36c92",
        "colab": {
          "base_uri": "https://localhost:8080/",
          "height": 85
        }
      },
      "source": [
        "# TODO your code here!\n",
        "import numpy as np\n",
        "import pandas as pd\n",
        "# Define variables\n",
        "w1 = pd.Series([160, 23, 29], index=['miles','fare','riders'])\n",
        "w2 = pd.Series([220, 17, 30],index=['miles','fare','riders'])\n",
        "features = 'miles', 'fare', 'riders'\n",
        "\n",
        "# Calculate week 1\n",
        "g1 = 3.52\n",
        "g2 = 3.57\n",
        "mpg = 20\n",
        "\n",
        "# Week 1 calculations\n",
        "tmpg = (w1[0:] / 20) * (g1)\n",
        "tfare = w1[1]\n",
        "trider = w1[2]\n",
        "\n",
        "# Week 2 calculations\n",
        "tmpg1 = (w2[0:]) / 20 * (g2)\n",
        "tfare1 = w2[1]\n",
        "trider1 = w2[2]\n",
        "\n",
        "# Calculate Fares week 1 and week 2\n",
        "g3 = (tfare * trider) - tmpg\n",
        "g4 = (tfare1 * trider1) - tmpg1\n",
        "\n",
        "# Calculate Profits week 1 and week 2\n",
        "# profits = g3\n",
        "# profits1 = g4 \n",
        "# tmprofits = profits + profits1\n",
        "#profits = (w1[1:1] * w1[1:2]) - tmpg\n",
        "# profits()\n",
        "farefits = g3[1:2] - tmpg\n",
        "farefits1 = g4[1:2] - tmpg\n",
        "profits = (farefits + farefits1) / 2\n",
        "profits"
      ],
      "execution_count": 0,
      "outputs": [
        {
          "output_type": "execute_result",
          "data": {
            "text/plain": [
              "fare      580.91075\n",
              "miles           NaN\n",
              "riders          NaN\n",
              "dtype: float64"
            ]
          },
          "metadata": {
            "tags": []
          },
          "execution_count": 2
        }
      ]
    },
    {
      "cell_type": "code",
      "metadata": {
        "id": "bBmBexGI6W6-",
        "colab_type": "code",
        "outputId": "4f502429-1395-4a52-fad6-76e1b312799c",
        "colab": {
          "base_uri": "https://localhost:8080/",
          "height": 68
        }
      },
      "source": [
        "print('Profits for week 1:')\n",
        "farefits[0:1]"
      ],
      "execution_count": 0,
      "outputs": [
        {
          "output_type": "stream",
          "text": [
            "Profits for week 1:\n"
          ],
          "name": "stdout"
        },
        {
          "output_type": "execute_result",
          "data": {
            "text/plain": [
              "fare    658.904\n",
              "dtype: float64"
            ]
          },
          "metadata": {
            "tags": []
          },
          "execution_count": 10
        }
      ]
    },
    {
      "cell_type": "code",
      "metadata": {
        "id": "N-AIZQdQfxIF",
        "colab_type": "code",
        "outputId": "8dfaf815-9592-4c4a-85e5-c98b325410f0",
        "colab": {
          "base_uri": "https://localhost:8080/",
          "height": 68
        }
      },
      "source": [
        "print('Profits for week 2: ')\n",
        "farefits1[0:1]"
      ],
      "execution_count": 0,
      "outputs": [
        {
          "output_type": "stream",
          "text": [
            "Profits for week 2: \n"
          ],
          "name": "stdout"
        },
        {
          "output_type": "execute_result",
          "data": {
            "text/plain": [
              "fare    502.9175\n",
              "dtype: float64"
            ]
          },
          "metadata": {
            "tags": []
          },
          "execution_count": 11
        }
      ]
    },
    {
      "cell_type": "code",
      "metadata": {
        "id": "AqzheJpHLC6N",
        "colab_type": "code",
        "outputId": "46aa9174-44fa-40f8-d7d3-e8c76521f88c",
        "colab": {
          "base_uri": "https://localhost:8080/",
          "height": 68
        }
      },
      "source": [
        "print('Highest Profits mean between week 1 and week 2','\\n')\n",
        "profits.mean()"
      ],
      "execution_count": 0,
      "outputs": [
        {
          "output_type": "stream",
          "text": [
            "Highest Profits mean between week 1 and week 2 \n",
            "\n"
          ],
          "name": "stdout"
        },
        {
          "output_type": "execute_result",
          "data": {
            "text/plain": [
              "580.91075"
            ]
          },
          "metadata": {
            "tags": []
          },
          "execution_count": 14
        }
      ]
    },
    {
      "cell_type": "markdown",
      "metadata": {
        "colab_type": "text",
        "id": "ivMo3KTHagWE"
      },
      "source": [
        "### b) Mo' money...\n",
        "\n",
        "A cash drawer contains 160 bills, all 10s and 50s. The total value of the 10s and 50s is $1,760.\n",
        "\n",
        "How many of each type of bill are in the drawer? You can figure this out by trial and error (or by doing algebra with pencil and paper), but try to use loops and conditionals to check a plausible possibilities and stop when you find the correct one."
      ]
    },
    {
      "cell_type": "code",
      "metadata": {
        "id": "Q2Atz_kyR8_6",
        "colab_type": "code",
        "outputId": "62c83f40-ddbd-4da2-8e24-8f3351dc9627",
        "colab": {
          "base_uri": "https://localhost:8080/",
          "height": 34
        }
      },
      "source": [
        "import numpy as np\n",
        "import pandas as pd\n",
        "\n",
        "x = 10\n",
        "y = 50\n",
        "z = 1760\n",
        "count = dcountx, dcounty\n",
        "if x >=z:\n",
        " dcountx = z-dcountx \n",
        " dcounty = z-dcounty\n",
        "\n",
        "h = z - x\n",
        "h1 = z - y\n",
        "h / x, h1 / y"
      ],
      "execution_count": 0,
      "outputs": [
        {
          "output_type": "execute_result",
          "data": {
            "text/plain": [
              "(175.0, 34.2)"
            ]
          },
          "metadata": {
            "tags": []
          },
          "execution_count": 250
        }
      ]
    },
    {
      "cell_type": "code",
      "metadata": {
        "colab_type": "code",
        "outputId": "ae0ceee4-bf5f-44f5-8ff8-93fe8bfffd86",
        "id": "UfJ699RTZ1zT",
        "colab": {
          "base_uri": "https://localhost:8080/",
          "height": 51
        }
      },
      "source": [
        "\n",
        "x = 160 / 10\n",
        "y = 160 / 50 \n",
        "z = 1760 \n",
        "x1 = round(x) \n",
        "y1 = round(y)\n",
        "t = x1 + y1\n",
        "to = x * x1\n",
        "ty = y * y1\n",
        "if x<=z:\n",
        "\n",
        " if y<=z:\n",
        "  print(round(y1))\n",
        "  print(x1,'Tens') "
      ],
      "execution_count": 0,
      "outputs": [
        {
          "output_type": "stream",
          "text": [
            "3\n",
            "16 Tens\n"
          ],
          "name": "stdout"
        }
      ]
    },
    {
      "cell_type": "markdown",
      "metadata": {
        "id": "UCFtX_q9aQlc",
        "colab_type": "text"
      },
      "source": [
        "## Exercise 2 - Drawing a plot\n",
        "\n",
        "Use NumPy and Matplotlib to draw a scatterplot of uniform random `(x, y)` values all drawn from the `[0, 1]` interval. Helpful documentation:\n",
        "\n",
        "*   https://matplotlib.org/tutorials/index.html\n",
        "*   https://docs.scipy.org/doc/numpy/user/quickstart.html\n",
        "\n",
        "Stretch goal - draw more plots! You can refer to the [Matplotlib gallery](https://matplotlib.org/gallery.html) for inspiration, but don't just reproduce something - try to apply it to your own data.\n",
        "\n",
        "How to get data? There's *many* ways, but a good place to get started is with [sklearn.datasets](http://scikit-learn.org/stable/datasets/index.html):\n",
        "\n",
        "```\n",
        "from sklearn import datasets\n",
        "dir(datasets)\n",
        "```"
      ]
    },
    {
      "cell_type": "code",
      "metadata": {
        "id": "pNEb09gMaltL",
        "colab_type": "code",
        "outputId": "62f76022-aa75-4578-a13c-110431d09c33",
        "colab": {
          "base_uri": "https://localhost:8080/",
          "height": 33
        }
      },
      "source": [
        "import matplotlib.pyplot as plt\n",
        "import numpy as np\n",
        "from sklearn.linear_model import LinearRegression\n",
        "x = axis = 0\n",
        "y = axis = 1\n",
        "print(x,y)"
      ],
      "execution_count": 0,
      "outputs": [
        {
          "output_type": "stream",
          "text": [
            "0 1\n"
          ],
          "name": "stdout"
        }
      ]
    },
    {
      "cell_type": "markdown",
      "metadata": {
        "id": "hGpFAslRhuem",
        "colab_type": "text"
      },
      "source": [
        "## Exercise 3 - Writing a function\n",
        "Write a function that, given a list of numbers, calculates the mean, median, and mode of those numbers. Return a dictionary with properties for the mean, median and mode. \n",
        "\n",
        "For example:\n",
        "# New Section\n",
        "```\n",
        "mmm_dict = meanMedianMode([1, 2, 6, 7, 8, 9, 3, 4, 5, 10, 10])\n",
        "print(mmm_dict)\n",
        "> {'mean': 5.909090909090909, 'median': 6, 'mode': 10}\n",
        "```\n",
        "\n",
        "There are Python standard libraries that make calculating these numbers very easy, but first try your hand at implementing it using the `reduce()` function:"
      ]
    },
    {
      "cell_type": "code",
      "metadata": {
        "id": "e8dmYzTmiXD_",
        "colab_type": "code",
        "outputId": "755909e4-01c3-4f7d-ebef-4c7b430dbb1f",
        "colab": {
          "base_uri": "https://localhost:8080/",
          "height": 232
        }
      },
      "source": [
        "from functools import reduce\n",
        "help(reduce)"
      ],
      "execution_count": 0,
      "outputs": [
        {
          "output_type": "stream",
          "text": [
            "Help on built-in function reduce in module _functools:\n",
            "\n",
            "reduce(...)\n",
            "    reduce(function, sequence[, initial]) -> value\n",
            "    \n",
            "    Apply a function of two arguments cumulatively to the items of a sequence,\n",
            "    from left to right, so as to reduce the sequence to a single value.\n",
            "    For example, reduce(lambda x, y: x+y, [1, 2, 3, 4, 5]) calculates\n",
            "    ((((1+2)+3)+4)+5).  If initial is present, it is placed before the items\n",
            "    of the sequence in the calculation, and serves as a default when the\n",
            "    sequence is empty.\n",
            "\n"
          ],
          "name": "stdout"
        }
      ]
    },
    {
      "cell_type": "code",
      "metadata": {
        "id": "nmkk-CHvh0Nj",
        "colab_type": "code",
        "colab": {}
      },
      "source": [
        "def meanMedianMode(numbers):\n",
        "    # TODO your code here!\n",
        "    return"
      ],
      "execution_count": 0,
      "outputs": []
    }
  ]
}