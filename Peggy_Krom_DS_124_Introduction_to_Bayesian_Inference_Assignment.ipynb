{
  "nbformat": 4,
  "nbformat_minor": 0,
  "metadata": {
    "colab": {
      "name": "Peggy_Krom_DS_124_Introduction_to_Bayesian_Inference_Assignment.ipynb",
      "provenance": [],
      "collapsed_sections": [],
      "include_colab_link": true
    },
    "kernelspec": {
      "name": "python3",
      "display_name": "Python 3"
    }
  },
  "cells": [
    {
      "cell_type": "markdown",
      "metadata": {
        "id": "view-in-github",
        "colab_type": "text"
      },
      "source": [
        "<a href=\"https://colab.research.google.com/github/PeggyK1/DS-Unit-1-Sprint-2-Statistics/blob/master/Peggy_Krom_DS_124_Introduction_to_Bayesian_Inference_Assignment.ipynb\" target=\"_parent\"><img src=\"https://colab.research.google.com/assets/colab-badge.svg\" alt=\"Open In Colab\"/></a>"
      ]
    },
    {
      "cell_type": "markdown",
      "metadata": {
        "id": "H7OLbevlbd_Z",
        "colab_type": "text"
      },
      "source": [
        "# Lambda School Data Science Module 124\n",
        "\n",
        "## Introduction to Bayesian Inference\n",
        "\n",
        "\n"
      ]
    },
    {
      "cell_type": "markdown",
      "metadata": {
        "id": "P-DzzRk5bf0z",
        "colab_type": "text"
      },
      "source": [
        "## Assignment - Code it up!\n",
        "\n",
        "We used pure math to apply Bayes Theorem to drug tests. Now write Python code to reproduce the results! This is purposefully open ended - you'll have to think about how you should represent probabilities and events. You can and should look things up.\n",
        "\n",
        "Specific goals/targets:\n",
        "\n",
        "### 1) Write a function \n",
        "\n",
        "`def prob_drunk_given_positive(prob_drunk_prior, false_positive_rate, true_positive_rate):` \n",
        "\n",
        "You should only truly need these three values in order to apply Bayes Theorem. In this example, imagine that individuals are taking a breathalyzer test with an 8% false positive rate, a 100% true positive rate, and that our prior belief about drunk driving in the population is 1/1000. \n",
        " - What is the probability that a person is drunk after one positive breathalyzer test?\n",
        " - What is the probability that a person is drunk after two positive breathalyzer tests?\n",
        " - How many positive breathalyzer tests are needed in order to have a probability that's greater than 95% that a person is drunk beyond the legal limit?\n"
      ]
    },
    {
      "cell_type": "code",
      "metadata": {
        "id": "xpVhZyUnbf7o",
        "colab_type": "code",
        "colab": {}
      },
      "source": [
        "# TODO - code!"
      ],
      "execution_count": 0,
      "outputs": []
    },
    {
      "cell_type": "code",
      "metadata": {
        "id": "kUz788HkwIZW",
        "colab_type": "code",
        "colab": {}
      },
      "source": [
        "import numpy as np"
      ],
      "execution_count": 0,
      "outputs": []
    },
    {
      "cell_type": "code",
      "metadata": {
        "id": "IINNWch3wWuz",
        "colab_type": "code",
        "colab": {}
      },
      "source": [
        "#True Positive Rate\n",
        "p_true_pos = 1\n",
        "#Prior Belief of Drunk Drivers\n",
        "p_dd = 1/1000\n",
        "#False Positive Rate\n",
        "p_false_pos = .08\n",
        "#Non Drunk Driver\n",
        "p_non_dd = 1-p_dd\n"
      ],
      "execution_count": 0,
      "outputs": []
    },
    {
      "cell_type": "code",
      "metadata": {
        "id": "Lr3WG70081P2",
        "colab_type": "code",
        "outputId": "3accac29-18cb-43db-d00b-06d4e3f26c90",
        "colab": {
          "base_uri": "https://localhost:8080/",
          "height": 85
        }
      },
      "source": [
        "#While Loop Function\n",
        "def prob_drunk_given_positive(prob_drunk_prior, false_positive_rate, true_positive_rate):\n",
        "  numerator = true_positive_rate*prob_drunk_prior\n",
        "  denominator = (true_positive_rate*prob_drunk_prior) + (false_positive_rate*(1-prob_drunk_prior))\n",
        "  posterior_probability = numerator / denominator\n",
        "  return posterior_probability\n",
        "\n",
        "x=.001\n",
        "while x < .95:\n",
        "  x = prob_drunk_given_positive(x, .08, 1)\n",
        "  print(x)\n"
      ],
      "execution_count": 0,
      "outputs": [
        {
          "output_type": "stream",
          "text": [
            "0.012357884330202669\n",
            "0.13525210993291495\n",
            "0.6615996951348605\n",
            "0.9606895076105054\n"
          ],
          "name": "stdout"
        }
      ]
    },
    {
      "cell_type": "code",
      "metadata": {
        "id": "3ldui7v7xrYt",
        "colab_type": "code",
        "colab": {}
      },
      "source": [
        "#Messy Function\n",
        "def drunk_drivers():\n",
        "  p_true_pos = 1\n",
        "  p_dd= 1/1000\n",
        "  p_false_pos = .08\n",
        "  p_non_dd = 1-p_dd\n",
        "  numerator = p_true_pos*p_dd\n",
        "  denominator = p_true_pos*p_dd + p_false_pos*p_non_dd\n",
        "  result=numerator/denominator\n",
        "\n",
        "  return(result)\n"
      ],
      "execution_count": 0,
      "outputs": []
    },
    {
      "cell_type": "code",
      "metadata": {
        "id": "zMLNPHMp2yLI",
        "colab_type": "code",
        "outputId": "c2dc5173-a405-42ef-85e7-50fcd0b40c1a",
        "colab": {
          "base_uri": "https://localhost:8080/",
          "height": 34
        }
      },
      "source": [
        "drunk_drivers"
      ],
      "execution_count": 0,
      "outputs": [
        {
          "output_type": "execute_result",
          "data": {
            "text/plain": [
              "<function __main__.drunk_drivers>"
            ]
          },
          "metadata": {
            "tags": []
          },
          "execution_count": 21
        }
      ]
    },
    {
      "cell_type": "code",
      "metadata": {
        "id": "OnddkMYK30qV",
        "colab_type": "code",
        "outputId": "ade28bca-32c8-4a9b-b15e-cbd148de16c9",
        "colab": {
          "base_uri": "https://localhost:8080/",
          "height": 34
        }
      },
      "source": [
        "post_prob = drunk_drivers()\n",
        "post_prob"
      ],
      "execution_count": 0,
      "outputs": [
        {
          "output_type": "execute_result",
          "data": {
            "text/plain": [
              "0.012357884330202669"
            ]
          },
          "metadata": {
            "tags": []
          },
          "execution_count": 50
        }
      ]
    },
    {
      "cell_type": "code",
      "metadata": {
        "id": "NbP7teUq4alH",
        "colab_type": "code",
        "colab": {}
      },
      "source": [
        "def drunk_drivers():\n",
        "  p_true_pos = 1\n",
        "  p_dd= post_prob\n",
        "  p_false_pos = .08\n",
        "  p_non_dd = 1-p_dd\n",
        "  numerator = p_true_pos*p_dd\n",
        "  denominator = p_true_pos*p_dd + p_false_pos*p_non_dd\n",
        "  result=numerator/denominator\n",
        "\n",
        "  return(result)"
      ],
      "execution_count": 0,
      "outputs": []
    },
    {
      "cell_type": "code",
      "metadata": {
        "id": "ZaA7HR-g4i8d",
        "colab_type": "code",
        "outputId": "5adc5a91-5498-4449-be39-77364390d02e",
        "colab": {
          "base_uri": "https://localhost:8080/",
          "height": 34
        }
      },
      "source": [
        "post_prob = drunk_drivers()\n",
        "post_prob"
      ],
      "execution_count": 0,
      "outputs": [
        {
          "output_type": "execute_result",
          "data": {
            "text/plain": [
              "0.13525210993291495"
            ]
          },
          "metadata": {
            "tags": []
          },
          "execution_count": 52
        }
      ]
    },
    {
      "cell_type": "code",
      "metadata": {
        "id": "yrmrDjWM5Awd",
        "colab_type": "code",
        "outputId": "2d093411-e1db-4534-eba3-7d03cc6e936a",
        "colab": {
          "base_uri": "https://localhost:8080/",
          "height": 34
        }
      },
      "source": [
        "post_prob = drunk_drivers()\n",
        "post_prob"
      ],
      "execution_count": 0,
      "outputs": [
        {
          "output_type": "execute_result",
          "data": {
            "text/plain": [
              "0.6615996951348605"
            ]
          },
          "metadata": {
            "tags": []
          },
          "execution_count": 53
        }
      ]
    },
    {
      "cell_type": "code",
      "metadata": {
        "id": "rjjI8rlQ5SVt",
        "colab_type": "code",
        "outputId": "b97113e8-dafa-455e-c3cd-c995f0a68371",
        "colab": {
          "base_uri": "https://localhost:8080/",
          "height": 34
        }
      },
      "source": [
        "post_prob = drunk_drivers()\n",
        "post_prob"
      ],
      "execution_count": 0,
      "outputs": [
        {
          "output_type": "execute_result",
          "data": {
            "text/plain": [
              "0.9606895076105054"
            ]
          },
          "metadata": {
            "tags": []
          },
          "execution_count": 54
        }
      ]
    },
    {
      "cell_type": "code",
      "metadata": {
        "id": "IECD8aGe6RiB",
        "colab_type": "code",
        "outputId": "37f7e60f-a22f-4c09-f35c-36cbdeb66554",
        "colab": {
          "base_uri": "https://localhost:8080/",
          "height": 34
        }
      },
      "source": [
        "post_prob = drunk_drivers()\n",
        "post_prob"
      ],
      "execution_count": 0,
      "outputs": [
        {
          "output_type": "execute_result",
          "data": {
            "text/plain": [
              "0.9967371577896734"
            ]
          },
          "metadata": {
            "tags": []
          },
          "execution_count": 55
        }
      ]
    },
    {
      "cell_type": "code",
      "metadata": {
        "id": "4tPPjKjq6Uec",
        "colab_type": "code",
        "outputId": "70176c3d-cab9-490d-f215-23c841c938c1",
        "colab": {
          "base_uri": "https://localhost:8080/",
          "height": 34
        }
      },
      "source": [
        "post_prob = drunk_drivers()\n",
        "post_prob"
      ],
      "execution_count": 0,
      "outputs": [
        {
          "output_type": "execute_result",
          "data": {
            "text/plain": [
              "0.9997381867081508"
            ]
          },
          "metadata": {
            "tags": []
          },
          "execution_count": 56
        }
      ]
    },
    {
      "cell_type": "code",
      "metadata": {
        "id": "bl1w1D8d6WNM",
        "colab_type": "code",
        "outputId": "0240bc3f-838d-43c9-ada9-07cc7ddf58c6",
        "colab": {
          "base_uri": "https://localhost:8080/",
          "height": 34
        }
      },
      "source": [
        "post_prob = drunk_drivers()\n",
        "post_prob"
      ],
      "execution_count": 0,
      "outputs": [
        {
          "output_type": "execute_result",
          "data": {
            "text/plain": [
              "0.9999790498904363"
            ]
          },
          "metadata": {
            "tags": []
          },
          "execution_count": 57
        }
      ]
    },
    {
      "cell_type": "markdown",
      "metadata": {
        "id": "Xvk_NcwD5pRS",
        "colab_type": "text"
      },
      "source": [
        "**After 1 Test:** The probability is 1.2%\n",
        "**After 2 Tests:** The probability is 13.5%\n",
        "**After 3 Tests:** The probability is 66%\n",
        "**After 4 Tests:** The probability is 96%\n",
        "\n",
        "It took 4 tests to get the probability over 95%\n",
        "\n",
        "It just keeps increasing with each test and the probability gets closer and closer to 100%"
      ]
    },
    {
      "cell_type": "markdown",
      "metadata": {
        "id": "nhOAsLjvCSLF",
        "colab_type": "text"
      },
      "source": [
        "### 2) In your own words, summarize the difference between Bayesian and Frequentist statistics\n",
        "\n",
        "If you're unsure where to start, check out [this blog post of Bayes theorem with Python](https://dataconomy.com/2015/02/introduction-to-bayes-theorem-with-python/)."
      ]
    },
    {
      "cell_type": "markdown",
      "metadata": {
        "id": "AADlIVfgDztY",
        "colab_type": "text"
      },
      "source": [
        "Bayesian statistics is based on probability. The probability is continuously updated as more results are calculated and more information is found. The biggest weakness is that the prior probabilities are subjective.\n",
        "\n",
        "Frequentist statistics uses samples of populations. It compares the samples, including confidence levels and margins of error, to estimate how close the sample values are to the the true population values. The biggest weakness is that it is limited by sample size, small samples do not work."
      ]
    },
    {
      "cell_type": "markdown",
      "metadata": {
        "id": "AeAGBxWjCTv3",
        "colab_type": "text"
      },
      "source": [
        "### 3) Use the following Template to help come up with ideas for your Build Sprint Project: \n",
        "\n"
      ]
    },
    {
      "cell_type": "markdown",
      "metadata": {
        "id": "YgIaBr__C5Q2",
        "colab_type": "text"
      },
      "source": [
        "---\n",
        "\n",
        "## Idea 1: Medical Turnover Rates"
      ]
    },
    {
      "cell_type": "markdown",
      "metadata": {
        "id": "MwR6hTB1CiLR",
        "colab_type": "text"
      },
      "source": [
        "### You\n",
        "**What do you care about?** What is causing higher turnover rates in the medical field\n",
        "\n",
        "**What do you know about?** The turnover rate in the medical field is rising for burnout and other reasons.\n",
        "\n",
        "**What decisions do you face?** Are there enough connections in the data to answer questions about turnover rates.\n",
        "Is the data recent enough to provide relevant results\n",
        "\n",
        "\n"
      ]
    },
    {
      "cell_type": "markdown",
      "metadata": {
        "id": "d5owPwlSClm2",
        "colab_type": "text"
      },
      "source": [
        ""
      ]
    },
    {
      "cell_type": "markdown",
      "metadata": {
        "id": "lorLHSkzClzC",
        "colab_type": "text"
      },
      "source": [
        "### Seven templates\n",
        "Training Kit (https://learn.lambdaschool.com/ds/module/recedjanlbpqxic2r) explains the seven templates from Priceonomics.\n",
        "\n",
        "Can you apply the templates to your topics?\n",
        "\n",
        "**Geographic Variation:** Yes\n",
        "\n",
        "**Trend related to the news:** No\n",
        "\n",
        "**Who does that?:** No\n",
        "\n",
        "**Answering a question people care about:** Yes\n",
        "\n",
        "**Valuable to businesses:** No\n",
        "\n",
        "**What's the most popular?:** No\n",
        "\n",
        "**Cost/Money rankings:** No"
      ]
    },
    {
      "cell_type": "markdown",
      "metadata": {
        "id": "cjxeN9D7Cygt",
        "colab_type": "text"
      },
      "source": [
        "I could look at reasons for turnover in different regions and see if there are patterns between geographical locations.\n",
        "I can look at patterns in the reasons and patterns in the solutions that have been tried to mitigate the turnover rates and see if the data can answer questions about them. "
      ]
    },
    {
      "cell_type": "markdown",
      "metadata": {
        "id": "3OXCCIT6C_p0",
        "colab_type": "text"
      },
      "source": [
        "### Misconceptions\n",
        "\n",
        "What misconceptions do people have about your topic?"
      ]
    },
    {
      "cell_type": "markdown",
      "metadata": {
        "id": "kZAkrgTUDCjF",
        "colab_type": "text"
      },
      "source": [
        "The vacancies are just from \"babyboomers\" retiring."
      ]
    },
    {
      "cell_type": "markdown",
      "metadata": {
        "id": "3tNrndE9DD3-",
        "colab_type": "text"
      },
      "source": [
        "### Examples\n",
        "\n",
        "What data storytelling example inspires you?\n",
        "\n",
        "Could you do a new hypothesis, for the same question?\n",
        "\n",
        "Could you do a new question, for the same topic?\n",
        "\n",
        "Could you do a new topic, with the same \"style\"?"
      ]
    },
    {
      "cell_type": "markdown",
      "metadata": {
        "id": "-5NsWQy5DKoR",
        "colab_type": "text"
      },
      "source": [
        ""
      ]
    },
    {
      "cell_type": "markdown",
      "metadata": {
        "id": "9rPtMFB6DN7B",
        "colab_type": "text"
      },
      "source": [
        "###Data\n",
        "\n",
        "Where could you search for data about your topic?"
      ]
    },
    {
      "cell_type": "markdown",
      "metadata": {
        "id": "s9hqjOlhDTDa",
        "colab_type": "text"
      },
      "source": [
        "datasetsearch.research.google.com"
      ]
    },
    {
      "cell_type": "markdown",
      "metadata": {
        "colab_type": "text",
        "id": "ld5MOaFaDVSK"
      },
      "source": [
        "---\n",
        "\n",
        "## Idea 2: Relationships Between Popular Board Games"
      ]
    },
    {
      "cell_type": "markdown",
      "metadata": {
        "colab_type": "text",
        "id": "znhTWIlUDVSM"
      },
      "source": [
        "### You\n",
        "**What do you care about?** Is a certain type of board game more popular\n",
        "\n",
        "**What do you know about?** There are several different rankings of board games. There are different types of board game lovers, some like short simple games others like longer more complex games.\n",
        "\n",
        "**What decisions do you face?** Are there enough connections in the data to form a conclusion or is it too varied\n",
        "\n"
      ]
    },
    {
      "cell_type": "markdown",
      "metadata": {
        "colab_type": "text",
        "id": "3Gln5mYeDVSM"
      },
      "source": [
        ""
      ]
    },
    {
      "cell_type": "markdown",
      "metadata": {
        "colab_type": "text",
        "id": "W-njBredDVSN"
      },
      "source": [
        "### Seven templates\n",
        "Training Kit (https://learn.lambdaschool.com/ds/module/recedjanlbpqxic2r) explains the seven templates from Priceonomics.\n",
        "\n",
        "Can you apply the templates to your topics?\n",
        "\n",
        "**Geographic Variation:** Yes\n",
        "\n",
        "**Trend related to the news:** No\n",
        "\n",
        "**Who does that?:** Yes\n",
        "\n",
        "**Answering a question people care about:** No\n",
        "\n",
        "**Valuable to businesses:** No\n",
        "\n",
        "**What's the most popular?:** Yes\n",
        "\n",
        "**Cost/Money rankings:** Yes"
      ]
    },
    {
      "cell_type": "markdown",
      "metadata": {
        "colab_type": "text",
        "id": "pkOqHHL3DVSN"
      },
      "source": [
        "I could see if there are patterns in popularity between different geographical locations or age groups. Does cost play a part in most popular."
      ]
    },
    {
      "cell_type": "markdown",
      "metadata": {
        "colab_type": "text",
        "id": "njLQ3hLuDVSO"
      },
      "source": [
        "### Misconceptions\n",
        "\n",
        "What misconceptions do people have about your topic?"
      ]
    },
    {
      "cell_type": "markdown",
      "metadata": {
        "colab_type": "text",
        "id": "IzrUvaKeDVSO"
      },
      "source": [
        "\"Only nerds like board games\""
      ]
    },
    {
      "cell_type": "markdown",
      "metadata": {
        "colab_type": "text",
        "id": "L0X6X5WaDVSP"
      },
      "source": [
        "### Examples\n",
        "\n",
        "What data storytelling example inspires you? \"How Much of Your Life the US has Been at War\"\n",
        "\n",
        "Could you do a new hypothesis, for the same question? No\n",
        "\n",
        "Could you do a new question, for the same topic? Birthyear and the percentage of population born each year that was involved in war\n",
        "\n",
        "Could you do a new topic, with the same \"style\"? Yes"
      ]
    },
    {
      "cell_type": "markdown",
      "metadata": {
        "colab_type": "text",
        "id": "fDdHExa0DVSP"
      },
      "source": [
        ""
      ]
    },
    {
      "cell_type": "markdown",
      "metadata": {
        "colab_type": "text",
        "id": "CxgSpiwYDVSQ"
      },
      "source": [
        "###Data\n",
        "\n",
        "Where could you search for data about your topic?\n",
        "\n",
        "Kaggle"
      ]
    },
    {
      "cell_type": "markdown",
      "metadata": {
        "id": "uWgWjp3PQ3Sq",
        "colab_type": "text"
      },
      "source": [
        "## Resources"
      ]
    },
    {
      "cell_type": "markdown",
      "metadata": {
        "id": "QRgHqmYIQ9qn",
        "colab_type": "text"
      },
      "source": [
        "- [Worked example of Bayes rule calculation](https://en.wikipedia.org/wiki/Bayes'_theorem#Examples) (helpful as it fully breaks out the denominator)\n",
        "- [Source code for mvsdist in scipy](https://github.com/scipy/scipy/blob/90534919e139d2a81c24bf08341734ff41a3db12/scipy/stats/morestats.py#L139)"
      ]
    },
    {
      "cell_type": "markdown",
      "metadata": {
        "id": "GP7Jv1XvwtkX",
        "colab_type": "text"
      },
      "source": [
        "## Stretch Goals:\n",
        "\n",
        "- Go back and study the content from Modules 1 & 2 & 3 to make sure that you're really comfortable with them.\n",
        "- Apply a Bayesian technique to a problem you previously worked (in an assignment or project work) on from a frequentist (standard) perspective\n",
        "- Check out [PyMC3](https://docs.pymc.io/) (note this goes beyond hypothesis tests into modeling) - read the guides and work through some examples\n",
        "- Take PyMC3 further - see if you can build something with it!"
      ]
    }
  ]
}