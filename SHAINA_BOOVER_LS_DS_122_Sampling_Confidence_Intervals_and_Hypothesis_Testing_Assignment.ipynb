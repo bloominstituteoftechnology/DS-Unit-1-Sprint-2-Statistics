{
  "nbformat": 4,
  "nbformat_minor": 0,
  "metadata": {
    "colab": {
      "name": "SHAINA_BOOVER_LS_DS_122_Sampling_Confidence_Intervals_and_Hypothesis_Testing_Assignment.ipynb",
      "provenance": [],
      "collapsed_sections": [],
      "include_colab_link": true
    },
    "kernelspec": {
      "name": "python3",
      "display_name": "Python 3"
    }
  },
  "cells": [
    {
      "cell_type": "markdown",
      "metadata": {
        "id": "view-in-github",
        "colab_type": "text"
      },
      "source": [
        "<a href=\"https://colab.research.google.com/github/shainaboover/DS-Unit-1-Sprint-2-Statistics/blob/master/SHAINA_BOOVER_LS_DS_122_Sampling_Confidence_Intervals_and_Hypothesis_Testing_Assignment.ipynb\" target=\"_parent\"><img src=\"https://colab.research.google.com/assets/colab-badge.svg\" alt=\"Open In Colab\"/></a>"
      ]
    },
    {
      "cell_type": "markdown",
      "metadata": {
        "id": "11OzdxWTM7UR",
        "colab_type": "text"
      },
      "source": [
        "## Assignment - Build a confidence interval\n",
        "\n",
        "A confidence interval refers to a neighborhood around some point estimate, the size of which is determined by the desired p-value. For instance, we might say that 52% of Americans prefer tacos to burritos, with a 95% confidence interval of +/- 5%.\n",
        "\n",
        "52% (0.52) is the point estimate, and +/- 5% (the interval $[0.47, 0.57]$) is the confidence interval. \"95% confidence\" means a p-value $\\leq 1 - 0.95 = 0.05$.\n",
        "\n",
        "In this case, the confidence interval includes $0.5$ - which is the natural null hypothesis (that half of Americans prefer tacos and half burritos, thus there is no clear favorite). So in this case, we could use the confidence interval to report that we've failed to reject the null hypothesis.\n",
        "\n",
        "But providing the full analysis with a confidence interval, including a graphical representation of it, can be a helpful and powerful way to tell your story. Done well, it is also more intuitive to a layperson than simply saying \"fail to reject the null hypothesis\" - it shows that in fact the data does *not* give a single clear result (the point estimate) but a whole range of possibilities.\n",
        "\n",
        "How is a confidence interval built, and how should it be interpreted? It does *not* mean that 95% of the data lies in that interval - instead, the frequentist interpretation is \"if we were to repeat this experiment 100 times, we would expect the average result to lie in this interval ~95 times.\"\n",
        "\n",
        "For a 95% confidence interval and a normal(-ish) distribution, you can simply remember that +/-2 standard deviations contains 95% of the probability mass, and so the 95% confidence interval based on a given sample is centered at the mean (point estimate) and has a range of +/- 2 (or technically 1.96) standard deviations.\n",
        "\n",
        "Different distributions/assumptions (90% confidence, 99% confidence) will require different math, but the overall process and interpretation (with a frequentist approach) will be the same.\n",
        "\n",
        "Your assignment - using the data from the prior module ([congressional voting records](https://archive.ics.uci.edu/ml/datasets/Congressional+Voting+Records)):\n",
        "\n",
        "\n",
        "### Confidence Intervals:\n",
        "1. Generate and numerically represent a confidence interval\n",
        "2. Graphically (with a plot) represent the confidence interval\n",
        "3. Interpret the confidence interval - what does it tell you about the data and its distribution?\n",
        "\n",
        "### Chi-squared tests:\n",
        "4. Take a dataset that we have used in the past in class that has **categorical** variables. Pick two of those categorical variables and run a chi-squared tests on that data\n",
        "  - By hand using Numpy\n",
        "  - In a single line using Scipy\n"
      ]
    },
    {
      "cell_type": "code",
      "metadata": {
        "id": "Ckcr4A4FM7cs",
        "colab_type": "code",
        "colab": {
          "base_uri": "https://localhost:8080/",
          "height": 71
        },
        "outputId": "6c82567e-907f-4d6a-c4b8-7ff80f3579ab"
      },
      "source": [
        "# imports\n",
        "import numpy as np\n",
        "import pandas as pd\n",
        "import scipy.stats as stats\n",
        "from scipy.stats import ttest_ind, ttest_1samp\n",
        "import matplotlib.pyplot as plt\n",
        "import seaborn as sns"
      ],
      "execution_count": 1,
      "outputs": [
        {
          "output_type": "stream",
          "text": [
            "/usr/local/lib/python3.6/dist-packages/statsmodels/tools/_testing.py:19: FutureWarning: pandas.util.testing is deprecated. Use the functions in the public API at pandas.testing instead.\n",
            "  import pandas.util.testing as tm\n"
          ],
          "name": "stderr"
        }
      ]
    },
    {
      "cell_type": "code",
      "metadata": {
        "id": "OaxiX7X1GdSh",
        "colab_type": "code",
        "outputId": "37b1bba2-04b0-4311-8b0c-2f848d839ae2",
        "colab": {
          "base_uri": "https://localhost:8080/",
          "height": 224
        }
      },
      "source": [
        "! wget https://archive.ics.uci.edu/ml/machine-learning-databases/voting-records/house-votes-84.data"
      ],
      "execution_count": 2,
      "outputs": [
        {
          "output_type": "stream",
          "text": [
            "--2020-05-25 17:58:38--  https://archive.ics.uci.edu/ml/machine-learning-databases/voting-records/house-votes-84.data\n",
            "Resolving archive.ics.uci.edu (archive.ics.uci.edu)... 128.195.10.252\n",
            "Connecting to archive.ics.uci.edu (archive.ics.uci.edu)|128.195.10.252|:443... connected.\n",
            "HTTP request sent, awaiting response... 200 OK\n",
            "Length: 18171 (18K) [application/x-httpd-php]\n",
            "Saving to: ‘house-votes-84.data’\n",
            "\n",
            "\rhouse-votes-84.data   0%[                    ]       0  --.-KB/s               \rhouse-votes-84.data 100%[===================>]  17.75K  --.-KB/s    in 0.03s   \n",
            "\n",
            "2020-05-25 17:58:38 (633 KB/s) - ‘house-votes-84.data’ saved [18171/18171]\n",
            "\n"
          ],
          "name": "stdout"
        }
      ]
    },
    {
      "cell_type": "code",
      "metadata": {
        "id": "FBTVElV1GdVR",
        "colab_type": "code",
        "outputId": "35e88d9d-9b20-4afe-d927-cffe13437725",
        "colab": {
          "base_uri": "https://localhost:8080/",
          "height": 258
        }
      },
      "source": [
        "# read in data\n",
        "# fix nan values, name columns\n",
        "column_headers = ['party','handicapped-infants','water-project',\n",
        "                          'budget','physician-fee-freeze', 'el-salvador-aid',\n",
        "                          'religious-groups','anti-satellite-ban',\n",
        "                          'aid-to-contras','mx-missile','immigration',\n",
        "                          'synfuels', 'education', 'right-to-sue','crime','duty-free',\n",
        "                          'south-africa']\n",
        "votes = pd.read_csv('house-votes-84.data', header=None, names=column_headers, na_values='?')\n",
        "votes. head()"
      ],
      "execution_count": 3,
      "outputs": [
        {
          "output_type": "execute_result",
          "data": {
            "text/html": [
              "<div>\n",
              "<style scoped>\n",
              "    .dataframe tbody tr th:only-of-type {\n",
              "        vertical-align: middle;\n",
              "    }\n",
              "\n",
              "    .dataframe tbody tr th {\n",
              "        vertical-align: top;\n",
              "    }\n",
              "\n",
              "    .dataframe thead th {\n",
              "        text-align: right;\n",
              "    }\n",
              "</style>\n",
              "<table border=\"1\" class=\"dataframe\">\n",
              "  <thead>\n",
              "    <tr style=\"text-align: right;\">\n",
              "      <th></th>\n",
              "      <th>party</th>\n",
              "      <th>handicapped-infants</th>\n",
              "      <th>water-project</th>\n",
              "      <th>budget</th>\n",
              "      <th>physician-fee-freeze</th>\n",
              "      <th>el-salvador-aid</th>\n",
              "      <th>religious-groups</th>\n",
              "      <th>anti-satellite-ban</th>\n",
              "      <th>aid-to-contras</th>\n",
              "      <th>mx-missile</th>\n",
              "      <th>immigration</th>\n",
              "      <th>synfuels</th>\n",
              "      <th>education</th>\n",
              "      <th>right-to-sue</th>\n",
              "      <th>crime</th>\n",
              "      <th>duty-free</th>\n",
              "      <th>south-africa</th>\n",
              "    </tr>\n",
              "  </thead>\n",
              "  <tbody>\n",
              "    <tr>\n",
              "      <th>0</th>\n",
              "      <td>republican</td>\n",
              "      <td>n</td>\n",
              "      <td>y</td>\n",
              "      <td>n</td>\n",
              "      <td>y</td>\n",
              "      <td>y</td>\n",
              "      <td>y</td>\n",
              "      <td>n</td>\n",
              "      <td>n</td>\n",
              "      <td>n</td>\n",
              "      <td>y</td>\n",
              "      <td>NaN</td>\n",
              "      <td>y</td>\n",
              "      <td>y</td>\n",
              "      <td>y</td>\n",
              "      <td>n</td>\n",
              "      <td>y</td>\n",
              "    </tr>\n",
              "    <tr>\n",
              "      <th>1</th>\n",
              "      <td>republican</td>\n",
              "      <td>n</td>\n",
              "      <td>y</td>\n",
              "      <td>n</td>\n",
              "      <td>y</td>\n",
              "      <td>y</td>\n",
              "      <td>y</td>\n",
              "      <td>n</td>\n",
              "      <td>n</td>\n",
              "      <td>n</td>\n",
              "      <td>n</td>\n",
              "      <td>n</td>\n",
              "      <td>y</td>\n",
              "      <td>y</td>\n",
              "      <td>y</td>\n",
              "      <td>n</td>\n",
              "      <td>NaN</td>\n",
              "    </tr>\n",
              "    <tr>\n",
              "      <th>2</th>\n",
              "      <td>democrat</td>\n",
              "      <td>NaN</td>\n",
              "      <td>y</td>\n",
              "      <td>y</td>\n",
              "      <td>NaN</td>\n",
              "      <td>y</td>\n",
              "      <td>y</td>\n",
              "      <td>n</td>\n",
              "      <td>n</td>\n",
              "      <td>n</td>\n",
              "      <td>n</td>\n",
              "      <td>y</td>\n",
              "      <td>n</td>\n",
              "      <td>y</td>\n",
              "      <td>y</td>\n",
              "      <td>n</td>\n",
              "      <td>n</td>\n",
              "    </tr>\n",
              "    <tr>\n",
              "      <th>3</th>\n",
              "      <td>democrat</td>\n",
              "      <td>n</td>\n",
              "      <td>y</td>\n",
              "      <td>y</td>\n",
              "      <td>n</td>\n",
              "      <td>NaN</td>\n",
              "      <td>y</td>\n",
              "      <td>n</td>\n",
              "      <td>n</td>\n",
              "      <td>n</td>\n",
              "      <td>n</td>\n",
              "      <td>y</td>\n",
              "      <td>n</td>\n",
              "      <td>y</td>\n",
              "      <td>n</td>\n",
              "      <td>n</td>\n",
              "      <td>y</td>\n",
              "    </tr>\n",
              "    <tr>\n",
              "      <th>4</th>\n",
              "      <td>democrat</td>\n",
              "      <td>y</td>\n",
              "      <td>y</td>\n",
              "      <td>y</td>\n",
              "      <td>n</td>\n",
              "      <td>y</td>\n",
              "      <td>y</td>\n",
              "      <td>n</td>\n",
              "      <td>n</td>\n",
              "      <td>n</td>\n",
              "      <td>n</td>\n",
              "      <td>y</td>\n",
              "      <td>NaN</td>\n",
              "      <td>y</td>\n",
              "      <td>y</td>\n",
              "      <td>y</td>\n",
              "      <td>y</td>\n",
              "    </tr>\n",
              "  </tbody>\n",
              "</table>\n",
              "</div>"
            ],
            "text/plain": [
              "        party handicapped-infants water-project  ... crime duty-free south-africa\n",
              "0  republican                   n             y  ...     y         n            y\n",
              "1  republican                   n             y  ...     y         n          NaN\n",
              "2    democrat                 NaN             y  ...     y         n            n\n",
              "3    democrat                   n             y  ...     n         n            y\n",
              "4    democrat                   y             y  ...     y         y            y\n",
              "\n",
              "[5 rows x 17 columns]"
            ]
          },
          "metadata": {
            "tags": []
          },
          "execution_count": 3
        }
      ]
    },
    {
      "cell_type": "code",
      "metadata": {
        "id": "GFS4ZHHrGdXu",
        "colab_type": "code",
        "outputId": "ee133d83-05bf-4a84-fc4a-67188db88c7f",
        "colab": {
          "base_uri": "https://localhost:8080/",
          "height": 258
        }
      },
      "source": [
        "# change to binary format\n",
        "votes = votes.replace({'y':1, 'n':0})\n",
        "votes.head()"
      ],
      "execution_count": 4,
      "outputs": [
        {
          "output_type": "execute_result",
          "data": {
            "text/html": [
              "<div>\n",
              "<style scoped>\n",
              "    .dataframe tbody tr th:only-of-type {\n",
              "        vertical-align: middle;\n",
              "    }\n",
              "\n",
              "    .dataframe tbody tr th {\n",
              "        vertical-align: top;\n",
              "    }\n",
              "\n",
              "    .dataframe thead th {\n",
              "        text-align: right;\n",
              "    }\n",
              "</style>\n",
              "<table border=\"1\" class=\"dataframe\">\n",
              "  <thead>\n",
              "    <tr style=\"text-align: right;\">\n",
              "      <th></th>\n",
              "      <th>party</th>\n",
              "      <th>handicapped-infants</th>\n",
              "      <th>water-project</th>\n",
              "      <th>budget</th>\n",
              "      <th>physician-fee-freeze</th>\n",
              "      <th>el-salvador-aid</th>\n",
              "      <th>religious-groups</th>\n",
              "      <th>anti-satellite-ban</th>\n",
              "      <th>aid-to-contras</th>\n",
              "      <th>mx-missile</th>\n",
              "      <th>immigration</th>\n",
              "      <th>synfuels</th>\n",
              "      <th>education</th>\n",
              "      <th>right-to-sue</th>\n",
              "      <th>crime</th>\n",
              "      <th>duty-free</th>\n",
              "      <th>south-africa</th>\n",
              "    </tr>\n",
              "  </thead>\n",
              "  <tbody>\n",
              "    <tr>\n",
              "      <th>0</th>\n",
              "      <td>republican</td>\n",
              "      <td>0.0</td>\n",
              "      <td>1.0</td>\n",
              "      <td>0.0</td>\n",
              "      <td>1.0</td>\n",
              "      <td>1.0</td>\n",
              "      <td>1.0</td>\n",
              "      <td>0.0</td>\n",
              "      <td>0.0</td>\n",
              "      <td>0.0</td>\n",
              "      <td>1.0</td>\n",
              "      <td>NaN</td>\n",
              "      <td>1.0</td>\n",
              "      <td>1.0</td>\n",
              "      <td>1.0</td>\n",
              "      <td>0.0</td>\n",
              "      <td>1.0</td>\n",
              "    </tr>\n",
              "    <tr>\n",
              "      <th>1</th>\n",
              "      <td>republican</td>\n",
              "      <td>0.0</td>\n",
              "      <td>1.0</td>\n",
              "      <td>0.0</td>\n",
              "      <td>1.0</td>\n",
              "      <td>1.0</td>\n",
              "      <td>1.0</td>\n",
              "      <td>0.0</td>\n",
              "      <td>0.0</td>\n",
              "      <td>0.0</td>\n",
              "      <td>0.0</td>\n",
              "      <td>0.0</td>\n",
              "      <td>1.0</td>\n",
              "      <td>1.0</td>\n",
              "      <td>1.0</td>\n",
              "      <td>0.0</td>\n",
              "      <td>NaN</td>\n",
              "    </tr>\n",
              "    <tr>\n",
              "      <th>2</th>\n",
              "      <td>democrat</td>\n",
              "      <td>NaN</td>\n",
              "      <td>1.0</td>\n",
              "      <td>1.0</td>\n",
              "      <td>NaN</td>\n",
              "      <td>1.0</td>\n",
              "      <td>1.0</td>\n",
              "      <td>0.0</td>\n",
              "      <td>0.0</td>\n",
              "      <td>0.0</td>\n",
              "      <td>0.0</td>\n",
              "      <td>1.0</td>\n",
              "      <td>0.0</td>\n",
              "      <td>1.0</td>\n",
              "      <td>1.0</td>\n",
              "      <td>0.0</td>\n",
              "      <td>0.0</td>\n",
              "    </tr>\n",
              "    <tr>\n",
              "      <th>3</th>\n",
              "      <td>democrat</td>\n",
              "      <td>0.0</td>\n",
              "      <td>1.0</td>\n",
              "      <td>1.0</td>\n",
              "      <td>0.0</td>\n",
              "      <td>NaN</td>\n",
              "      <td>1.0</td>\n",
              "      <td>0.0</td>\n",
              "      <td>0.0</td>\n",
              "      <td>0.0</td>\n",
              "      <td>0.0</td>\n",
              "      <td>1.0</td>\n",
              "      <td>0.0</td>\n",
              "      <td>1.0</td>\n",
              "      <td>0.0</td>\n",
              "      <td>0.0</td>\n",
              "      <td>1.0</td>\n",
              "    </tr>\n",
              "    <tr>\n",
              "      <th>4</th>\n",
              "      <td>democrat</td>\n",
              "      <td>1.0</td>\n",
              "      <td>1.0</td>\n",
              "      <td>1.0</td>\n",
              "      <td>0.0</td>\n",
              "      <td>1.0</td>\n",
              "      <td>1.0</td>\n",
              "      <td>0.0</td>\n",
              "      <td>0.0</td>\n",
              "      <td>0.0</td>\n",
              "      <td>0.0</td>\n",
              "      <td>1.0</td>\n",
              "      <td>NaN</td>\n",
              "      <td>1.0</td>\n",
              "      <td>1.0</td>\n",
              "      <td>1.0</td>\n",
              "      <td>1.0</td>\n",
              "    </tr>\n",
              "  </tbody>\n",
              "</table>\n",
              "</div>"
            ],
            "text/plain": [
              "        party  handicapped-infants  ...  duty-free  south-africa\n",
              "0  republican                  0.0  ...        0.0           1.0\n",
              "1  republican                  0.0  ...        0.0           NaN\n",
              "2    democrat                  NaN  ...        0.0           0.0\n",
              "3    democrat                  0.0  ...        0.0           1.0\n",
              "4    democrat                  1.0  ...        1.0           1.0\n",
              "\n",
              "[5 rows x 17 columns]"
            ]
          },
          "metadata": {
            "tags": []
          },
          "execution_count": 4
        }
      ]
    },
    {
      "cell_type": "code",
      "metadata": {
        "id": "GjnE_wCFkc1P",
        "colab_type": "code",
        "outputId": "e8a6c9e2-9aae-4b92-971a-306cd2766e95",
        "colab": {
          "base_uri": "https://localhost:8080/",
          "height": 51
        }
      },
      "source": [
        "# choose issue to focus on\n",
        "fee_freeze = votes['physician-fee-freeze'].dropna()\n",
        "print(fee_freeze.isnull().sum())\n",
        "fee_freeze.shape"
      ],
      "execution_count": 5,
      "outputs": [
        {
          "output_type": "stream",
          "text": [
            "0\n"
          ],
          "name": "stdout"
        },
        {
          "output_type": "execute_result",
          "data": {
            "text/plain": [
              "(424,)"
            ]
          },
          "metadata": {
            "tags": []
          },
          "execution_count": 5
        }
      ]
    },
    {
      "cell_type": "code",
      "metadata": {
        "id": "gfSx9I5UmGr7",
        "colab_type": "code",
        "outputId": "0946b3b6-3a09-4a71-d6f0-4887b98b2d6e",
        "colab": {
          "base_uri": "https://localhost:8080/",
          "height": 34
        }
      },
      "source": [
        "# look at mean\n",
        "fee_freeze.mean()"
      ],
      "execution_count": 6,
      "outputs": [
        {
          "output_type": "execute_result",
          "data": {
            "text/plain": [
              "0.41745283018867924"
            ]
          },
          "metadata": {
            "tags": []
          },
          "execution_count": 6
        }
      ]
    },
    {
      "cell_type": "code",
      "metadata": {
        "id": "UnOusfDRGdaZ",
        "colab_type": "code",
        "colab": {}
      },
      "source": [
        "#  define confidence interval\n",
        "# s = standard deviation of the sample\n",
        "# n = sample size\n",
        "# t = test statistic\n",
        "# X = sample mean\n",
        "# As sample size goes up, the standard error (i.e., the spread of our error) gets tighter.\n",
        "def conf_int(data, confidence=0.95):\n",
        "  mydata = np.array(fee_freeze)\n",
        "  mymean = np.mean(fee_freeze)\n",
        "  n = len(fee_freeze)\n",
        "  stderr = np.std(fee_freeze, ddof=1)/ np.sqrt(n)\n",
        "  margin = stderr*stats.t.ppf((1 + confidence)/ 2, n-1)\n",
        "  return (mymean, mymean - margin, mymean + margin)"
      ],
      "execution_count": 0,
      "outputs": []
    },
    {
      "cell_type": "code",
      "metadata": {
        "id": "kASfrJNsGdcd",
        "colab_type": "code",
        "outputId": "0c5b42b1-4a0a-4253-b8c6-26e6d71b5294",
        "colab": {
          "base_uri": "https://localhost:8080/",
          "height": 34
        }
      },
      "source": [
        "# returns mean, lower bound, and upper bound\n",
        "# we can say with 95% confidence that the mean of the \n",
        "# population falls between 37%-46%\n",
        "conf_int(fee_freeze)"
      ],
      "execution_count": 8,
      "outputs": [
        {
          "output_type": "execute_result",
          "data": {
            "text/plain": [
              "(0.41745283018867924, 0.37032346810896233, 0.46458219226839614)"
            ]
          },
          "metadata": {
            "tags": []
          },
          "execution_count": 8
        }
      ]
    },
    {
      "cell_type": "code",
      "metadata": {
        "id": "0xbnv84rGdez",
        "colab_type": "code",
        "outputId": "93540dc8-e667-4a84-a72a-073081499414",
        "colab": {
          "base_uri": "https://localhost:8080/",
          "height": 265
        }
      },
      "source": [
        "# graphic representation\n",
        "sns.kdeplot(fee_freeze)\n",
        "# use index to show lower bound, upper bound, and mean\n",
        "CI = conf_int(fee_freeze)\n",
        "plt.axvline(x=CI[1], color='crimson')\n",
        "plt.axvline(x=CI[2], color='crimson')\n",
        "plt.axvline(x=CI[0], color='green');"
      ],
      "execution_count": 9,
      "outputs": [
        {
          "output_type": "display_data",
          "data": {
            "image/png": "[encoded data removed]",
            "text/plain": [
              "<Figure size 432x288 with 1 Axes>"
            ]
          },
          "metadata": {
            "tags": [],
            "needs_background": "light"
          }
        }
      ]
    },
    {
      "cell_type": "markdown",
      "metadata": {
        "id": "7aRvKbX_aJkA",
        "colab_type": "text"
      },
      "source": [
        "From the confidence interval above, I can say with 95% confidence that the mean of the population is contained in the upper and lower bounds of this sample."
      ]
    },
    {
      "cell_type": "code",
      "metadata": {
        "id": "JuoL4PRlKjuv",
        "colab_type": "code",
        "colab": {
          "base_uri": "https://localhost:8080/",
          "height": 34
        },
        "outputId": "c02b7bcb-59cd-42dd-f13e-d814a6bd1c2c"
      },
      "source": [
        "# find pvalue\n",
        "# high p value means we fail to reject the null hypothesis \n",
        "# this might be redundant\n",
        "ttest_1samp(fee_freeze, fee_freeze.mean())"
      ],
      "execution_count": 18,
      "outputs": [
        {
          "output_type": "execute_result",
          "data": {
            "text/plain": [
              "Ttest_1sampResult(statistic=0.0, pvalue=1.0)"
            ]
          },
          "metadata": {
            "tags": []
          },
          "execution_count": 18
        }
      ]
    },
    {
      "cell_type": "code",
      "metadata": {
        "id": "FxfFexm_WMU7",
        "colab_type": "code",
        "colab": {}
      },
      "source": [
        "# chi squared testing\n",
        "# source of data\n",
        "url='https://raw.githubusercontent.com/austinlasseter/dash-virginia-counties/master/resources/acs2017_county_data.csv'"
      ],
      "execution_count": 0,
      "outputs": []
    },
    {
      "cell_type": "code",
      "metadata": {
        "id": "rCpN5CPQW80X",
        "colab_type": "code",
        "colab": {
          "base_uri": "https://localhost:8080/",
          "height": 309
        },
        "outputId": "c359edad-85bb-4b0f-80ad-5a5b28c33bd7"
      },
      "source": [
        "# read in data and look at head\n",
        "census = pd.read_csv(url)\n",
        "census.head()"
      ],
      "execution_count": 66,
      "outputs": [
        {
          "output_type": "execute_result",
          "data": {
            "text/html": [
              "<div>\n",
              "<style scoped>\n",
              "    .dataframe tbody tr th:only-of-type {\n",
              "        vertical-align: middle;\n",
              "    }\n",
              "\n",
              "    .dataframe tbody tr th {\n",
              "        vertical-align: top;\n",
              "    }\n",
              "\n",
              "    .dataframe thead th {\n",
              "        text-align: right;\n",
              "    }\n",
              "</style>\n",
              "<table border=\"1\" class=\"dataframe\">\n",
              "  <thead>\n",
              "    <tr style=\"text-align: right;\">\n",
              "      <th></th>\n",
              "      <th>CountyId</th>\n",
              "      <th>State</th>\n",
              "      <th>County</th>\n",
              "      <th>TotalPop</th>\n",
              "      <th>Men</th>\n",
              "      <th>Women</th>\n",
              "      <th>Hispanic</th>\n",
              "      <th>White</th>\n",
              "      <th>Black</th>\n",
              "      <th>Native</th>\n",
              "      <th>Asian</th>\n",
              "      <th>Pacific</th>\n",
              "      <th>VotingAgeCitizen</th>\n",
              "      <th>Income</th>\n",
              "      <th>IncomeErr</th>\n",
              "      <th>IncomePerCap</th>\n",
              "      <th>IncomePerCapErr</th>\n",
              "      <th>Poverty</th>\n",
              "      <th>ChildPoverty</th>\n",
              "      <th>Professional</th>\n",
              "      <th>Service</th>\n",
              "      <th>Office</th>\n",
              "      <th>Construction</th>\n",
              "      <th>Production</th>\n",
              "      <th>Drive</th>\n",
              "      <th>Carpool</th>\n",
              "      <th>Transit</th>\n",
              "      <th>Walk</th>\n",
              "      <th>OtherTransp</th>\n",
              "      <th>WorkAtHome</th>\n",
              "      <th>MeanCommute</th>\n",
              "      <th>Employed</th>\n",
              "      <th>PrivateWork</th>\n",
              "      <th>PublicWork</th>\n",
              "      <th>SelfEmployed</th>\n",
              "      <th>FamilyWork</th>\n",
              "      <th>Unemployment</th>\n",
              "    </tr>\n",
              "  </thead>\n",
              "  <tbody>\n",
              "    <tr>\n",
              "      <th>0</th>\n",
              "      <td>1001</td>\n",
              "      <td>Alabama</td>\n",
              "      <td>Autauga County</td>\n",
              "      <td>55036</td>\n",
              "      <td>26899</td>\n",
              "      <td>28137</td>\n",
              "      <td>2.7</td>\n",
              "      <td>75.4</td>\n",
              "      <td>18.9</td>\n",
              "      <td>0.3</td>\n",
              "      <td>0.9</td>\n",
              "      <td>0.0</td>\n",
              "      <td>41016</td>\n",
              "      <td>55317</td>\n",
              "      <td>2838</td>\n",
              "      <td>27824</td>\n",
              "      <td>2024</td>\n",
              "      <td>13.7</td>\n",
              "      <td>20.1</td>\n",
              "      <td>35.3</td>\n",
              "      <td>18.0</td>\n",
              "      <td>23.2</td>\n",
              "      <td>8.1</td>\n",
              "      <td>15.4</td>\n",
              "      <td>86.0</td>\n",
              "      <td>9.6</td>\n",
              "      <td>0.1</td>\n",
              "      <td>0.6</td>\n",
              "      <td>1.3</td>\n",
              "      <td>2.5</td>\n",
              "      <td>25.8</td>\n",
              "      <td>24112</td>\n",
              "      <td>74.1</td>\n",
              "      <td>20.2</td>\n",
              "      <td>5.6</td>\n",
              "      <td>0.1</td>\n",
              "      <td>5.2</td>\n",
              "    </tr>\n",
              "    <tr>\n",
              "      <th>1</th>\n",
              "      <td>1003</td>\n",
              "      <td>Alabama</td>\n",
              "      <td>Baldwin County</td>\n",
              "      <td>203360</td>\n",
              "      <td>99527</td>\n",
              "      <td>103833</td>\n",
              "      <td>4.4</td>\n",
              "      <td>83.1</td>\n",
              "      <td>9.5</td>\n",
              "      <td>0.8</td>\n",
              "      <td>0.7</td>\n",
              "      <td>0.0</td>\n",
              "      <td>155376</td>\n",
              "      <td>52562</td>\n",
              "      <td>1348</td>\n",
              "      <td>29364</td>\n",
              "      <td>735</td>\n",
              "      <td>11.8</td>\n",
              "      <td>16.1</td>\n",
              "      <td>35.7</td>\n",
              "      <td>18.2</td>\n",
              "      <td>25.6</td>\n",
              "      <td>9.7</td>\n",
              "      <td>10.8</td>\n",
              "      <td>84.7</td>\n",
              "      <td>7.6</td>\n",
              "      <td>0.1</td>\n",
              "      <td>0.8</td>\n",
              "      <td>1.1</td>\n",
              "      <td>5.6</td>\n",
              "      <td>27.0</td>\n",
              "      <td>89527</td>\n",
              "      <td>80.7</td>\n",
              "      <td>12.9</td>\n",
              "      <td>6.3</td>\n",
              "      <td>0.1</td>\n",
              "      <td>5.5</td>\n",
              "    </tr>\n",
              "    <tr>\n",
              "      <th>2</th>\n",
              "      <td>1005</td>\n",
              "      <td>Alabama</td>\n",
              "      <td>Barbour County</td>\n",
              "      <td>26201</td>\n",
              "      <td>13976</td>\n",
              "      <td>12225</td>\n",
              "      <td>4.2</td>\n",
              "      <td>45.7</td>\n",
              "      <td>47.8</td>\n",
              "      <td>0.2</td>\n",
              "      <td>0.6</td>\n",
              "      <td>0.0</td>\n",
              "      <td>20269</td>\n",
              "      <td>33368</td>\n",
              "      <td>2551</td>\n",
              "      <td>17561</td>\n",
              "      <td>798</td>\n",
              "      <td>27.2</td>\n",
              "      <td>44.9</td>\n",
              "      <td>25.0</td>\n",
              "      <td>16.8</td>\n",
              "      <td>22.6</td>\n",
              "      <td>11.5</td>\n",
              "      <td>24.1</td>\n",
              "      <td>83.4</td>\n",
              "      <td>11.1</td>\n",
              "      <td>0.3</td>\n",
              "      <td>2.2</td>\n",
              "      <td>1.7</td>\n",
              "      <td>1.3</td>\n",
              "      <td>23.4</td>\n",
              "      <td>8878</td>\n",
              "      <td>74.1</td>\n",
              "      <td>19.1</td>\n",
              "      <td>6.5</td>\n",
              "      <td>0.3</td>\n",
              "      <td>12.4</td>\n",
              "    </tr>\n",
              "    <tr>\n",
              "      <th>3</th>\n",
              "      <td>1007</td>\n",
              "      <td>Alabama</td>\n",
              "      <td>Bibb County</td>\n",
              "      <td>22580</td>\n",
              "      <td>12251</td>\n",
              "      <td>10329</td>\n",
              "      <td>2.4</td>\n",
              "      <td>74.6</td>\n",
              "      <td>22.0</td>\n",
              "      <td>0.4</td>\n",
              "      <td>0.0</td>\n",
              "      <td>0.0</td>\n",
              "      <td>17662</td>\n",
              "      <td>43404</td>\n",
              "      <td>3431</td>\n",
              "      <td>20911</td>\n",
              "      <td>1889</td>\n",
              "      <td>15.2</td>\n",
              "      <td>26.6</td>\n",
              "      <td>24.4</td>\n",
              "      <td>17.6</td>\n",
              "      <td>19.7</td>\n",
              "      <td>15.9</td>\n",
              "      <td>22.4</td>\n",
              "      <td>86.4</td>\n",
              "      <td>9.5</td>\n",
              "      <td>0.7</td>\n",
              "      <td>0.3</td>\n",
              "      <td>1.7</td>\n",
              "      <td>1.5</td>\n",
              "      <td>30.0</td>\n",
              "      <td>8171</td>\n",
              "      <td>76.0</td>\n",
              "      <td>17.4</td>\n",
              "      <td>6.3</td>\n",
              "      <td>0.3</td>\n",
              "      <td>8.2</td>\n",
              "    </tr>\n",
              "    <tr>\n",
              "      <th>4</th>\n",
              "      <td>1009</td>\n",
              "      <td>Alabama</td>\n",
              "      <td>Blount County</td>\n",
              "      <td>57667</td>\n",
              "      <td>28490</td>\n",
              "      <td>29177</td>\n",
              "      <td>9.0</td>\n",
              "      <td>87.4</td>\n",
              "      <td>1.5</td>\n",
              "      <td>0.3</td>\n",
              "      <td>0.1</td>\n",
              "      <td>0.0</td>\n",
              "      <td>42513</td>\n",
              "      <td>47412</td>\n",
              "      <td>2630</td>\n",
              "      <td>22021</td>\n",
              "      <td>850</td>\n",
              "      <td>15.6</td>\n",
              "      <td>25.4</td>\n",
              "      <td>28.5</td>\n",
              "      <td>12.9</td>\n",
              "      <td>23.3</td>\n",
              "      <td>15.8</td>\n",
              "      <td>19.5</td>\n",
              "      <td>86.8</td>\n",
              "      <td>10.2</td>\n",
              "      <td>0.1</td>\n",
              "      <td>0.4</td>\n",
              "      <td>0.4</td>\n",
              "      <td>2.1</td>\n",
              "      <td>35.0</td>\n",
              "      <td>21380</td>\n",
              "      <td>83.9</td>\n",
              "      <td>11.9</td>\n",
              "      <td>4.0</td>\n",
              "      <td>0.1</td>\n",
              "      <td>4.9</td>\n",
              "    </tr>\n",
              "  </tbody>\n",
              "</table>\n",
              "</div>"
            ],
            "text/plain": [
              "   CountyId    State          County  ...  SelfEmployed  FamilyWork  Unemployment\n",
              "0      1001  Alabama  Autauga County  ...           5.6         0.1           5.2\n",
              "1      1003  Alabama  Baldwin County  ...           6.3         0.1           5.5\n",
              "2      1005  Alabama  Barbour County  ...           6.5         0.3          12.4\n",
              "3      1007  Alabama     Bibb County  ...           6.3         0.3           8.2\n",
              "4      1009  Alabama   Blount County  ...           4.0         0.1           4.9\n",
              "\n",
              "[5 rows x 37 columns]"
            ]
          },
          "metadata": {
            "tags": []
          },
          "execution_count": 66
        }
      ]
    },
    {
      "cell_type": "code",
      "metadata": {
        "id": "Er2HgKR7W826",
        "colab_type": "code",
        "colab": {
          "base_uri": "https://localhost:8080/",
          "height": 374
        },
        "outputId": "e1a06b13-1d8a-4c7c-9ac0-1e90997407a5"
      },
      "source": [
        "# I want to compare income with totalpop\n",
        "# look at income values in prep to bin\n",
        "print(census['Income'].value_counts().sort_index())\n",
        "census['Income'].describe()"
      ],
      "execution_count": 91,
      "outputs": [
        {
          "output_type": "stream",
          "text": [
            "11680     1\n",
            "12653     1\n",
            "12820     1\n",
            "13413     1\n",
            "13462     1\n",
            "         ..\n",
            "112138    1\n",
            "114795    1\n",
            "115576    1\n",
            "117515    1\n",
            "129588    1\n",
            "Name: Income, Length: 3074, dtype: int64\n"
          ],
          "name": "stdout"
        },
        {
          "output_type": "execute_result",
          "data": {
            "text/plain": [
              "count      3220.000000\n",
              "mean      48994.966770\n",
              "std       13877.178398\n",
              "min       11680.000000\n",
              "25%       40622.000000\n",
              "50%       47636.500000\n",
              "75%       55476.000000\n",
              "max      129588.000000\n",
              "Name: Income, dtype: float64"
            ]
          },
          "metadata": {
            "tags": []
          },
          "execution_count": 91
        }
      ]
    },
    {
      "cell_type": "code",
      "metadata": {
        "id": "EAK8rt2DW85W",
        "colab_type": "code",
        "colab": {
          "base_uri": "https://localhost:8080/",
          "height": 276
        },
        "outputId": "5de29942-9fe8-404a-d19f-1a865eb1de3c"
      },
      "source": [
        "# look at a visual representation\n",
        "census['Income'].plot(kind='density');"
      ],
      "execution_count": 76,
      "outputs": [
        {
          "output_type": "display_data",
          "data": {
            "image/png": "[encoded data removed]",
            "text/plain": [
              "<Figure size 432x288 with 1 Axes>"
            ]
          },
          "metadata": {
            "tags": [],
            "needs_background": "light"
          }
        }
      ]
    },
    {
      "cell_type": "code",
      "metadata": {
        "id": "dj3lkLA0W87t",
        "colab_type": "code",
        "colab": {
          "base_uri": "https://localhost:8080/",
          "height": 419
        },
        "outputId": "fbfe477d-3b67-4b18-9267-d591a5a057d6"
      },
      "source": [
        "# bin income values\n",
        "cut_points = [10000, 39000, 49000, 59000, 130000]\n",
        "my_labels = ['vlow', 'low', 'avg', 'high']\n",
        "census['Income_cats'] = pd.cut(census['Income'], cut_points, labels=my_labels)\n",
        "census[['Income', 'Income_cats']]"
      ],
      "execution_count": 128,
      "outputs": [
        {
          "output_type": "execute_result",
          "data": {
            "text/html": [
              "<div>\n",
              "<style scoped>\n",
              "    .dataframe tbody tr th:only-of-type {\n",
              "        vertical-align: middle;\n",
              "    }\n",
              "\n",
              "    .dataframe tbody tr th {\n",
              "        vertical-align: top;\n",
              "    }\n",
              "\n",
              "    .dataframe thead th {\n",
              "        text-align: right;\n",
              "    }\n",
              "</style>\n",
              "<table border=\"1\" class=\"dataframe\">\n",
              "  <thead>\n",
              "    <tr style=\"text-align: right;\">\n",
              "      <th></th>\n",
              "      <th>Income</th>\n",
              "      <th>Income_cats</th>\n",
              "    </tr>\n",
              "  </thead>\n",
              "  <tbody>\n",
              "    <tr>\n",
              "      <th>0</th>\n",
              "      <td>55317</td>\n",
              "      <td>avg</td>\n",
              "    </tr>\n",
              "    <tr>\n",
              "      <th>1</th>\n",
              "      <td>52562</td>\n",
              "      <td>avg</td>\n",
              "    </tr>\n",
              "    <tr>\n",
              "      <th>2</th>\n",
              "      <td>33368</td>\n",
              "      <td>vlow</td>\n",
              "    </tr>\n",
              "    <tr>\n",
              "      <th>3</th>\n",
              "      <td>43404</td>\n",
              "      <td>low</td>\n",
              "    </tr>\n",
              "    <tr>\n",
              "      <th>4</th>\n",
              "      <td>47412</td>\n",
              "      <td>low</td>\n",
              "    </tr>\n",
              "    <tr>\n",
              "      <th>...</th>\n",
              "      <td>...</td>\n",
              "      <td>...</td>\n",
              "    </tr>\n",
              "    <tr>\n",
              "      <th>3215</th>\n",
              "      <td>18900</td>\n",
              "      <td>vlow</td>\n",
              "    </tr>\n",
              "    <tr>\n",
              "      <th>3216</th>\n",
              "      <td>16261</td>\n",
              "      <td>vlow</td>\n",
              "    </tr>\n",
              "    <tr>\n",
              "      <th>3217</th>\n",
              "      <td>19893</td>\n",
              "      <td>vlow</td>\n",
              "    </tr>\n",
              "    <tr>\n",
              "      <th>3218</th>\n",
              "      <td>15586</td>\n",
              "      <td>vlow</td>\n",
              "    </tr>\n",
              "    <tr>\n",
              "      <th>3219</th>\n",
              "      <td>14451</td>\n",
              "      <td>vlow</td>\n",
              "    </tr>\n",
              "  </tbody>\n",
              "</table>\n",
              "<p>3220 rows × 2 columns</p>\n",
              "</div>"
            ],
            "text/plain": [
              "      Income Income_cats\n",
              "0      55317         avg\n",
              "1      52562         avg\n",
              "2      33368        vlow\n",
              "3      43404         low\n",
              "4      47412         low\n",
              "...      ...         ...\n",
              "3215   18900        vlow\n",
              "3216   16261        vlow\n",
              "3217   19893        vlow\n",
              "3218   15586        vlow\n",
              "3219   14451        vlow\n",
              "\n",
              "[3220 rows x 2 columns]"
            ]
          },
          "metadata": {
            "tags": []
          },
          "execution_count": 128
        }
      ]
    },
    {
      "cell_type": "code",
      "metadata": {
        "id": "uzxRlSWEW890",
        "colab_type": "code",
        "colab": {
          "base_uri": "https://localhost:8080/",
          "height": 102
        },
        "outputId": "75cf6a12-9b1d-4edb-fb7c-181e608b6c7b"
      },
      "source": [
        "# check work\n",
        "census['Income_cats'].value_counts().sort_index()"
      ],
      "execution_count": 129,
      "outputs": [
        {
          "output_type": "execute_result",
          "data": {
            "text/plain": [
              "vlow     661\n",
              "low     1089\n",
              "avg      898\n",
              "high     572\n",
              "Name: Income_cats, dtype: int64"
            ]
          },
          "metadata": {
            "tags": []
          },
          "execution_count": 129
        }
      ]
    },
    {
      "cell_type": "code",
      "metadata": {
        "id": "NYglLpXYWMXn",
        "colab_type": "code",
        "colab": {
          "base_uri": "https://localhost:8080/",
          "height": 265
        },
        "outputId": "9447ba83-4e5c-4e3d-e686-b12109e358f0"
      },
      "source": [
        "# visualize it\n",
        "census['Income_cats'].hist();"
      ],
      "execution_count": 130,
      "outputs": [
        {
          "output_type": "display_data",
          "data": {
            "image/png": "[encoded data removed]",
            "text/plain": [
              "<Figure size 432x288 with 1 Axes>"
            ]
          },
          "metadata": {
            "tags": [],
            "needs_background": "light"
          }
        }
      ]
    },
    {
      "cell_type": "code",
      "metadata": {
        "id": "mm9oKk6cW9AI",
        "colab_type": "code",
        "colab": {
          "base_uri": "https://localhost:8080/",
          "height": 374
        },
        "outputId": "be7b1d26-4d01-40a1-c369-695bb7d2db84"
      },
      "source": [
        "# take a look at population data\n",
        "print(census['TotalPop'].value_counts().sort_index())\n",
        "census['TotalPop'].describe()"
      ],
      "execution_count": 131,
      "outputs": [
        {
          "output_type": "stream",
          "text": [
            "74          1\n",
            "86          1\n",
            "289         1\n",
            "421         1\n",
            "432         1\n",
            "           ..\n",
            "3283665     1\n",
            "4155501     1\n",
            "4525519     1\n",
            "5238541     1\n",
            "10105722    1\n",
            "Name: TotalPop, Length: 3175, dtype: int64\n"
          ],
          "name": "stdout"
        },
        {
          "output_type": "execute_result",
          "data": {
            "text/plain": [
              "count    3.220000e+03\n",
              "mean     1.007681e+05\n",
              "std      3.244996e+05\n",
              "min      7.400000e+01\n",
              "25%      1.121350e+04\n",
              "50%      2.584750e+04\n",
              "75%      6.660825e+04\n",
              "max      1.010572e+07\n",
              "Name: TotalPop, dtype: float64"
            ]
          },
          "metadata": {
            "tags": []
          },
          "execution_count": 131
        }
      ]
    },
    {
      "cell_type": "code",
      "metadata": {
        "id": "BwSivTCWW9CW",
        "colab_type": "code",
        "colab": {
          "base_uri": "https://localhost:8080/",
          "height": 102
        },
        "outputId": "acbfa18d-1ee2-459a-8819-1fb87de3f6ad"
      },
      "source": [
        "# bin them\n",
        "cut_points2 = [50, 12000, 26000, 68000, 11000000]\n",
        "my_labels2 = ['small', 'med', 'large', 'xlarge']\n",
        "census['TotalPop_cats'] = pd.cut(census['TotalPop'], cut_points2, labels=my_labels2)\n",
        "census[['TotalPop', 'TotalPop_cats']]\n",
        "census['TotalPop_cats'].value_counts()"
      ],
      "execution_count": 133,
      "outputs": [
        {
          "output_type": "execute_result",
          "data": {
            "text/plain": [
              "small     853\n",
              "large     813\n",
              "xlarge    794\n",
              "med       760\n",
              "Name: TotalPop_cats, dtype: int64"
            ]
          },
          "metadata": {
            "tags": []
          },
          "execution_count": 133
        }
      ]
    },
    {
      "cell_type": "code",
      "metadata": {
        "id": "xup9lQy5W9Eg",
        "colab_type": "code",
        "colab": {
          "base_uri": "https://localhost:8080/",
          "height": 265
        },
        "outputId": "2536ff4c-5143-41bf-d080-68bc08400370"
      },
      "source": [
        "# visualize it\n",
        "census['TotalPop_cats'].hist();"
      ],
      "execution_count": 134,
      "outputs": [
        {
          "output_type": "display_data",
          "data": {
            "image/png": "[encoded data removed]",
            "text/plain": [
              "<Figure size 432x288 with 1 Axes>"
            ]
          },
          "metadata": {
            "tags": [],
            "needs_background": "light"
          }
        }
      ]
    },
    {
      "cell_type": "code",
      "metadata": {
        "id": "KqCnCWaXGeXs",
        "colab_type": "code",
        "colab": {
          "base_uri": "https://localhost:8080/",
          "height": 204
        },
        "outputId": "ff65e60d-e92b-4a4d-ac0a-1706b74b44f0"
      },
      "source": [
        "# create crosstab to look at 2 columns\n",
        "xtab = pd.crosstab(census['Income_cats'], census['TotalPop_cats'])\n",
        "xtab"
      ],
      "execution_count": 159,
      "outputs": [
        {
          "output_type": "execute_result",
          "data": {
            "text/html": [
              "<div>\n",
              "<style scoped>\n",
              "    .dataframe tbody tr th:only-of-type {\n",
              "        vertical-align: middle;\n",
              "    }\n",
              "\n",
              "    .dataframe tbody tr th {\n",
              "        vertical-align: top;\n",
              "    }\n",
              "\n",
              "    .dataframe thead th {\n",
              "        text-align: right;\n",
              "    }\n",
              "</style>\n",
              "<table border=\"1\" class=\"dataframe\">\n",
              "  <thead>\n",
              "    <tr style=\"text-align: right;\">\n",
              "      <th>TotalPop_cats</th>\n",
              "      <th>small</th>\n",
              "      <th>med</th>\n",
              "      <th>large</th>\n",
              "      <th>xlarge</th>\n",
              "    </tr>\n",
              "    <tr>\n",
              "      <th>Income_cats</th>\n",
              "      <th></th>\n",
              "      <th></th>\n",
              "      <th></th>\n",
              "      <th></th>\n",
              "    </tr>\n",
              "  </thead>\n",
              "  <tbody>\n",
              "    <tr>\n",
              "      <th>vlow</th>\n",
              "      <td>209</td>\n",
              "      <td>254</td>\n",
              "      <td>163</td>\n",
              "      <td>35</td>\n",
              "    </tr>\n",
              "    <tr>\n",
              "      <th>low</th>\n",
              "      <td>302</td>\n",
              "      <td>271</td>\n",
              "      <td>313</td>\n",
              "      <td>203</td>\n",
              "    </tr>\n",
              "    <tr>\n",
              "      <th>avg</th>\n",
              "      <td>248</td>\n",
              "      <td>167</td>\n",
              "      <td>234</td>\n",
              "      <td>249</td>\n",
              "    </tr>\n",
              "    <tr>\n",
              "      <th>high</th>\n",
              "      <td>94</td>\n",
              "      <td>68</td>\n",
              "      <td>103</td>\n",
              "      <td>307</td>\n",
              "    </tr>\n",
              "  </tbody>\n",
              "</table>\n",
              "</div>"
            ],
            "text/plain": [
              "TotalPop_cats  small  med  large  xlarge\n",
              "Income_cats                             \n",
              "vlow             209  254    163      35\n",
              "low              302  271    313     203\n",
              "avg              248  167    234     249\n",
              "high              94   68    103     307"
            ]
          },
          "metadata": {
            "tags": []
          },
          "execution_count": 159
        }
      ]
    },
    {
      "cell_type": "code",
      "metadata": {
        "id": "2VH7SRl0kbe3",
        "colab_type": "code",
        "colab": {
          "base_uri": "https://localhost:8080/",
          "height": 293
        },
        "outputId": "322ca03a-f9d6-4e41-be9d-efdba385c28d"
      },
      "source": [
        "# visualize it\n",
        "xtab.plot(kind='bar');"
      ],
      "execution_count": 160,
      "outputs": [
        {
          "output_type": "display_data",
          "data": {
            "image/png": "[encoded data removed]",
            "text/plain": [
              "<Figure size 432x288 with 1 Axes>"
            ]
          },
          "metadata": {
            "tags": [],
            "needs_background": "light"
          }
        }
      ]
    },
    {
      "cell_type": "code",
      "metadata": {
        "id": "jq2RTpQ1pF5c",
        "colab_type": "code",
        "colab": {
          "base_uri": "https://localhost:8080/",
          "height": 235
        },
        "outputId": "eaf2e628-3630-4e1b-f3df-d986ce08aca0"
      },
      "source": [
        "xtab_margins = pd.crosstab(census['Income_cats'], census['TotalPop_cats'], margins=True)\n",
        "xtab_margins"
      ],
      "execution_count": 162,
      "outputs": [
        {
          "output_type": "execute_result",
          "data": {
            "text/html": [
              "<div>\n",
              "<style scoped>\n",
              "    .dataframe tbody tr th:only-of-type {\n",
              "        vertical-align: middle;\n",
              "    }\n",
              "\n",
              "    .dataframe tbody tr th {\n",
              "        vertical-align: top;\n",
              "    }\n",
              "\n",
              "    .dataframe thead th {\n",
              "        text-align: right;\n",
              "    }\n",
              "</style>\n",
              "<table border=\"1\" class=\"dataframe\">\n",
              "  <thead>\n",
              "    <tr style=\"text-align: right;\">\n",
              "      <th>TotalPop_cats</th>\n",
              "      <th>small</th>\n",
              "      <th>med</th>\n",
              "      <th>large</th>\n",
              "      <th>xlarge</th>\n",
              "      <th>All</th>\n",
              "    </tr>\n",
              "    <tr>\n",
              "      <th>Income_cats</th>\n",
              "      <th></th>\n",
              "      <th></th>\n",
              "      <th></th>\n",
              "      <th></th>\n",
              "      <th></th>\n",
              "    </tr>\n",
              "  </thead>\n",
              "  <tbody>\n",
              "    <tr>\n",
              "      <th>vlow</th>\n",
              "      <td>209</td>\n",
              "      <td>254</td>\n",
              "      <td>163</td>\n",
              "      <td>35</td>\n",
              "      <td>661</td>\n",
              "    </tr>\n",
              "    <tr>\n",
              "      <th>low</th>\n",
              "      <td>302</td>\n",
              "      <td>271</td>\n",
              "      <td>313</td>\n",
              "      <td>203</td>\n",
              "      <td>1089</td>\n",
              "    </tr>\n",
              "    <tr>\n",
              "      <th>avg</th>\n",
              "      <td>248</td>\n",
              "      <td>167</td>\n",
              "      <td>234</td>\n",
              "      <td>249</td>\n",
              "      <td>898</td>\n",
              "    </tr>\n",
              "    <tr>\n",
              "      <th>high</th>\n",
              "      <td>94</td>\n",
              "      <td>68</td>\n",
              "      <td>103</td>\n",
              "      <td>307</td>\n",
              "      <td>572</td>\n",
              "    </tr>\n",
              "    <tr>\n",
              "      <th>All</th>\n",
              "      <td>853</td>\n",
              "      <td>760</td>\n",
              "      <td>813</td>\n",
              "      <td>794</td>\n",
              "      <td>3220</td>\n",
              "    </tr>\n",
              "  </tbody>\n",
              "</table>\n",
              "</div>"
            ],
            "text/plain": [
              "TotalPop_cats  small  med  large  xlarge   All\n",
              "Income_cats                                   \n",
              "vlow             209  254    163      35   661\n",
              "low              302  271    313     203  1089\n",
              "avg              248  167    234     249   898\n",
              "high              94   68    103     307   572\n",
              "All              853  760    813     794  3220"
            ]
          },
          "metadata": {
            "tags": []
          },
          "execution_count": 162
        }
      ]
    },
    {
      "cell_type": "code",
      "metadata": {
        "id": "A6wyGgXOkbhg",
        "colab_type": "code",
        "colab": {
          "base_uri": "https://localhost:8080/",
          "height": 34
        },
        "outputId": "d2956341-328f-4b01-e155-086133cb5832"
      },
      "source": [
        "# get row sums\n",
        "row_sums = xtab_margins.iloc[0:4, 4].values\n",
        "row_sums"
      ],
      "execution_count": 183,
      "outputs": [
        {
          "output_type": "execute_result",
          "data": {
            "text/plain": [
              "array([ 661, 1089,  898,  572])"
            ]
          },
          "metadata": {
            "tags": []
          },
          "execution_count": 183
        }
      ]
    },
    {
      "cell_type": "code",
      "metadata": {
        "id": "jVMaGIphmzew",
        "colab_type": "code",
        "colab": {
          "base_uri": "https://localhost:8080/",
          "height": 34
        },
        "outputId": "14da34a7-128d-4b5f-8b95-7ee56702ff0c"
      },
      "source": [
        "# get col sums\n",
        "col_sums = xtab_margins.iloc[4, 0:4].values\n",
        "col_sums"
      ],
      "execution_count": 185,
      "outputs": [
        {
          "output_type": "execute_result",
          "data": {
            "text/plain": [
              "array([853, 760, 813, 794])"
            ]
          },
          "metadata": {
            "tags": []
          },
          "execution_count": 185
        }
      ]
    },
    {
      "cell_type": "code",
      "metadata": {
        "id": "aM_45A8lmzhb",
        "colab_type": "code",
        "colab": {
          "base_uri": "https://localhost:8080/",
          "height": 34
        },
        "outputId": "b2b097a9-73fb-429f-d6e3-2369ef52ae85"
      },
      "source": [
        "# get totals\n",
        "total = xtab_margins.loc['All', 'All']\n",
        "total"
      ],
      "execution_count": 188,
      "outputs": [
        {
          "output_type": "execute_result",
          "data": {
            "text/plain": [
              "3220"
            ]
          },
          "metadata": {
            "tags": []
          },
          "execution_count": 188
        }
      ]
    },
    {
      "cell_type": "code",
      "metadata": {
        "id": "3u2_sRuOmzkF",
        "colab_type": "code",
        "colab": {
          "base_uri": "https://localhost:8080/",
          "height": 173
        },
        "outputId": "34ba3add-19f5-4d58-88df-4e3ffd023f8c"
      },
      "source": [
        "# above are the observations\n",
        "# if null hypothesis is true, what would expected values be?\n",
        "expected = []\n",
        "for i in range(len(row_sums)):\n",
        "  expected_row=[]\n",
        "  for column in col_sums:\n",
        "    expected_val = column*row_sums[i]/total\n",
        "    expected_row.append(expected_val)\n",
        "  expected.append(expected_row)\n",
        "pd.DataFrame(expected)\n",
        "# this is what we would expect if there was no difference between \n",
        "# population size and income"
      ],
      "execution_count": 191,
      "outputs": [
        {
          "output_type": "execute_result",
          "data": {
            "text/html": [
              "<div>\n",
              "<style scoped>\n",
              "    .dataframe tbody tr th:only-of-type {\n",
              "        vertical-align: middle;\n",
              "    }\n",
              "\n",
              "    .dataframe tbody tr th {\n",
              "        vertical-align: top;\n",
              "    }\n",
              "\n",
              "    .dataframe thead th {\n",
              "        text-align: right;\n",
              "    }\n",
              "</style>\n",
              "<table border=\"1\" class=\"dataframe\">\n",
              "  <thead>\n",
              "    <tr style=\"text-align: right;\">\n",
              "      <th></th>\n",
              "      <th>0</th>\n",
              "      <th>1</th>\n",
              "      <th>2</th>\n",
              "      <th>3</th>\n",
              "    </tr>\n",
              "  </thead>\n",
              "  <tbody>\n",
              "    <tr>\n",
              "      <th>0</th>\n",
              "      <td>175.103416</td>\n",
              "      <td>156.012422</td>\n",
              "      <td>166.892236</td>\n",
              "      <td>162.991925</td>\n",
              "    </tr>\n",
              "    <tr>\n",
              "      <th>1</th>\n",
              "      <td>288.483540</td>\n",
              "      <td>257.031056</td>\n",
              "      <td>274.955590</td>\n",
              "      <td>268.529814</td>\n",
              "    </tr>\n",
              "    <tr>\n",
              "      <th>2</th>\n",
              "      <td>237.886335</td>\n",
              "      <td>211.950311</td>\n",
              "      <td>226.731056</td>\n",
              "      <td>221.432298</td>\n",
              "    </tr>\n",
              "    <tr>\n",
              "      <th>3</th>\n",
              "      <td>151.526708</td>\n",
              "      <td>135.006211</td>\n",
              "      <td>144.421118</td>\n",
              "      <td>141.045963</td>\n",
              "    </tr>\n",
              "  </tbody>\n",
              "</table>\n",
              "</div>"
            ],
            "text/plain": [
              "            0           1           2           3\n",
              "0  175.103416  156.012422  166.892236  162.991925\n",
              "1  288.483540  257.031056  274.955590  268.529814\n",
              "2  237.886335  211.950311  226.731056  221.432298\n",
              "3  151.526708  135.006211  144.421118  141.045963"
            ]
          },
          "metadata": {
            "tags": []
          },
          "execution_count": 191
        }
      ]
    },
    {
      "cell_type": "code",
      "metadata": {
        "id": "GLPMGLHisZlX",
        "colab_type": "code",
        "colab": {
          "base_uri": "https://localhost:8080/",
          "height": 235
        },
        "outputId": "ec16fb90-d700-4fbb-c726-58d39103bbd4"
      },
      "source": [
        "# this is what we observe\n",
        "xtab_margins"
      ],
      "execution_count": 192,
      "outputs": [
        {
          "output_type": "execute_result",
          "data": {
            "text/html": [
              "<div>\n",
              "<style scoped>\n",
              "    .dataframe tbody tr th:only-of-type {\n",
              "        vertical-align: middle;\n",
              "    }\n",
              "\n",
              "    .dataframe tbody tr th {\n",
              "        vertical-align: top;\n",
              "    }\n",
              "\n",
              "    .dataframe thead th {\n",
              "        text-align: right;\n",
              "    }\n",
              "</style>\n",
              "<table border=\"1\" class=\"dataframe\">\n",
              "  <thead>\n",
              "    <tr style=\"text-align: right;\">\n",
              "      <th>TotalPop_cats</th>\n",
              "      <th>small</th>\n",
              "      <th>med</th>\n",
              "      <th>large</th>\n",
              "      <th>xlarge</th>\n",
              "      <th>All</th>\n",
              "    </tr>\n",
              "    <tr>\n",
              "      <th>Income_cats</th>\n",
              "      <th></th>\n",
              "      <th></th>\n",
              "      <th></th>\n",
              "      <th></th>\n",
              "      <th></th>\n",
              "    </tr>\n",
              "  </thead>\n",
              "  <tbody>\n",
              "    <tr>\n",
              "      <th>vlow</th>\n",
              "      <td>209</td>\n",
              "      <td>254</td>\n",
              "      <td>163</td>\n",
              "      <td>35</td>\n",
              "      <td>661</td>\n",
              "    </tr>\n",
              "    <tr>\n",
              "      <th>low</th>\n",
              "      <td>302</td>\n",
              "      <td>271</td>\n",
              "      <td>313</td>\n",
              "      <td>203</td>\n",
              "      <td>1089</td>\n",
              "    </tr>\n",
              "    <tr>\n",
              "      <th>avg</th>\n",
              "      <td>248</td>\n",
              "      <td>167</td>\n",
              "      <td>234</td>\n",
              "      <td>249</td>\n",
              "      <td>898</td>\n",
              "    </tr>\n",
              "    <tr>\n",
              "      <th>high</th>\n",
              "      <td>94</td>\n",
              "      <td>68</td>\n",
              "      <td>103</td>\n",
              "      <td>307</td>\n",
              "      <td>572</td>\n",
              "    </tr>\n",
              "    <tr>\n",
              "      <th>All</th>\n",
              "      <td>853</td>\n",
              "      <td>760</td>\n",
              "      <td>813</td>\n",
              "      <td>794</td>\n",
              "      <td>3220</td>\n",
              "    </tr>\n",
              "  </tbody>\n",
              "</table>\n",
              "</div>"
            ],
            "text/plain": [
              "TotalPop_cats  small  med  large  xlarge   All\n",
              "Income_cats                                   \n",
              "vlow             209  254    163      35   661\n",
              "low              302  271    313     203  1089\n",
              "avg              248  167    234     249   898\n",
              "high              94   68    103     307   572\n",
              "All              853  760    813     794  3220"
            ]
          },
          "metadata": {
            "tags": []
          },
          "execution_count": 192
        }
      ]
    },
    {
      "cell_type": "code",
      "metadata": {
        "id": "M8t-6_Z5uMfO",
        "colab_type": "code",
        "colab": {
          "base_uri": "https://localhost:8080/",
          "height": 173
        },
        "outputId": "4a8cdea4-7bb5-4381-e28d-b4c8530c5098"
      },
      "source": [
        "# define observed values\n",
        "observed = xtab.values\n",
        "pd.DataFrame(observed)"
      ],
      "execution_count": 195,
      "outputs": [
        {
          "output_type": "execute_result",
          "data": {
            "text/html": [
              "<div>\n",
              "<style scoped>\n",
              "    .dataframe tbody tr th:only-of-type {\n",
              "        vertical-align: middle;\n",
              "    }\n",
              "\n",
              "    .dataframe tbody tr th {\n",
              "        vertical-align: top;\n",
              "    }\n",
              "\n",
              "    .dataframe thead th {\n",
              "        text-align: right;\n",
              "    }\n",
              "</style>\n",
              "<table border=\"1\" class=\"dataframe\">\n",
              "  <thead>\n",
              "    <tr style=\"text-align: right;\">\n",
              "      <th></th>\n",
              "      <th>0</th>\n",
              "      <th>1</th>\n",
              "      <th>2</th>\n",
              "      <th>3</th>\n",
              "    </tr>\n",
              "  </thead>\n",
              "  <tbody>\n",
              "    <tr>\n",
              "      <th>0</th>\n",
              "      <td>209</td>\n",
              "      <td>254</td>\n",
              "      <td>163</td>\n",
              "      <td>35</td>\n",
              "    </tr>\n",
              "    <tr>\n",
              "      <th>1</th>\n",
              "      <td>302</td>\n",
              "      <td>271</td>\n",
              "      <td>313</td>\n",
              "      <td>203</td>\n",
              "    </tr>\n",
              "    <tr>\n",
              "      <th>2</th>\n",
              "      <td>248</td>\n",
              "      <td>167</td>\n",
              "      <td>234</td>\n",
              "      <td>249</td>\n",
              "    </tr>\n",
              "    <tr>\n",
              "      <th>3</th>\n",
              "      <td>94</td>\n",
              "      <td>68</td>\n",
              "      <td>103</td>\n",
              "      <td>307</td>\n",
              "    </tr>\n",
              "  </tbody>\n",
              "</table>\n",
              "</div>"
            ],
            "text/plain": [
              "     0    1    2    3\n",
              "0  209  254  163   35\n",
              "1  302  271  313  203\n",
              "2  248  167  234  249\n",
              "3   94   68  103  307"
            ]
          },
          "metadata": {
            "tags": []
          },
          "execution_count": 195
        }
      ]
    },
    {
      "cell_type": "code",
      "metadata": {
        "id": "5lc8mf88sZnp",
        "colab_type": "code",
        "colab": {
          "base_uri": "https://localhost:8080/",
          "height": 34
        },
        "outputId": "80ae3453-c9e6-4db0-9971-b48634076ad7"
      },
      "source": [
        "# now compare these with chi squared stat using numpy\n",
        "# first define chi_squared\n",
        "chi_squared = ((observed - expected)**2/(expected)).sum()\n",
        "chi_squared"
      ],
      "execution_count": 197,
      "outputs": [
        {
          "output_type": "execute_result",
          "data": {
            "text/plain": [
              "467.21675932000574"
            ]
          },
          "metadata": {
            "tags": []
          },
          "execution_count": 197
        }
      ]
    },
    {
      "cell_type": "code",
      "metadata": {
        "id": "NaouojCot7bd",
        "colab_type": "code",
        "colab": {
          "base_uri": "https://localhost:8080/",
          "height": 34
        },
        "outputId": "fb870533-13a0-4c75-d579-a5e233d52501"
      },
      "source": [
        "# then define degrees of freedom\n",
        "dof = (len(row_sums)-1)* (len(col_sums)-1)\n",
        "dof "
      ],
      "execution_count": 199,
      "outputs": [
        {
          "output_type": "execute_result",
          "data": {
            "text/plain": [
              "9"
            ]
          },
          "metadata": {
            "tags": []
          },
          "execution_count": 199
        }
      ]
    },
    {
      "cell_type": "code",
      "metadata": {
        "id": "n8VK0BUit7eV",
        "colab_type": "code",
        "colab": {
          "base_uri": "https://localhost:8080/",
          "height": 34
        },
        "outputId": "414a5b3e-dc04-44bd-89d0-dbb44e5ae273"
      },
      "source": [
        "# now run chi squared test using scipy\n",
        "chi_squared"
      ],
      "execution_count": 200,
      "outputs": [
        {
          "output_type": "execute_result",
          "data": {
            "text/plain": [
              "467.21675932000574"
            ]
          },
          "metadata": {
            "tags": []
          },
          "execution_count": 200
        }
      ]
    },
    {
      "cell_type": "code",
      "metadata": {
        "id": "cSbiwtQut7g1",
        "colab_type": "code",
        "colab": {
          "base_uri": "https://localhost:8080/",
          "height": 136
        },
        "outputId": "af34f37d-46bd-4d2f-db0d-5f328a5aa2c8"
      },
      "source": [
        "# outputs are chi_squared stat, pvalue, dof, array of expected values\n",
        "stats.chi2_contingency(observed)"
      ],
      "execution_count": 202,
      "outputs": [
        {
          "output_type": "execute_result",
          "data": {
            "text/plain": [
              "(467.21675932000574,\n",
              " 5.967089077957778e-95,\n",
              " 9,\n",
              " array([[175.10341615, 156.01242236, 166.89223602, 162.99192547],\n",
              "        [288.48354037, 257.0310559 , 274.95559006, 268.52981366],\n",
              "        [237.8863354 , 211.95031056, 226.7310559 , 221.43229814],\n",
              "        [151.52670807, 135.00621118, 144.42111801, 141.04596273]]))"
            ]
          },
          "metadata": {
            "tags": []
          },
          "execution_count": 202
        }
      ]
    },
    {
      "cell_type": "code",
      "metadata": {
        "id": "UbAHNZ0St7jg",
        "colab_type": "code",
        "colab": {
          "base_uri": "https://localhost:8080/",
          "height": 224
        },
        "outputId": "b30f0c17-e159-4ead-ebb5-91ea65e33be8"
      },
      "source": [
        "# make it readable\n",
        "print('stat', stats.chi2_contingency(observed)[0])\n",
        "print('pvalue', stats.chi2_contingency(observed)[1])\n",
        "print('dof', stats.chi2_contingency(observed)[2])\n",
        "pd.DataFrame(stats.chi2_contingency(observed)[3])\n",
        "# because of the low pvalue, we reject null hypothesis that\n",
        "# population size and income are independent of one another"
      ],
      "execution_count": 203,
      "outputs": [
        {
          "output_type": "stream",
          "text": [
            "stat 467.21675932000574\n",
            "pvalue 5.967089077957778e-95\n",
            "dof 9\n"
          ],
          "name": "stdout"
        },
        {
          "output_type": "execute_result",
          "data": {
            "text/html": [
              "<div>\n",
              "<style scoped>\n",
              "    .dataframe tbody tr th:only-of-type {\n",
              "        vertical-align: middle;\n",
              "    }\n",
              "\n",
              "    .dataframe tbody tr th {\n",
              "        vertical-align: top;\n",
              "    }\n",
              "\n",
              "    .dataframe thead th {\n",
              "        text-align: right;\n",
              "    }\n",
              "</style>\n",
              "<table border=\"1\" class=\"dataframe\">\n",
              "  <thead>\n",
              "    <tr style=\"text-align: right;\">\n",
              "      <th></th>\n",
              "      <th>0</th>\n",
              "      <th>1</th>\n",
              "      <th>2</th>\n",
              "      <th>3</th>\n",
              "    </tr>\n",
              "  </thead>\n",
              "  <tbody>\n",
              "    <tr>\n",
              "      <th>0</th>\n",
              "      <td>175.103416</td>\n",
              "      <td>156.012422</td>\n",
              "      <td>166.892236</td>\n",
              "      <td>162.991925</td>\n",
              "    </tr>\n",
              "    <tr>\n",
              "      <th>1</th>\n",
              "      <td>288.483540</td>\n",
              "      <td>257.031056</td>\n",
              "      <td>274.955590</td>\n",
              "      <td>268.529814</td>\n",
              "    </tr>\n",
              "    <tr>\n",
              "      <th>2</th>\n",
              "      <td>237.886335</td>\n",
              "      <td>211.950311</td>\n",
              "      <td>226.731056</td>\n",
              "      <td>221.432298</td>\n",
              "    </tr>\n",
              "    <tr>\n",
              "      <th>3</th>\n",
              "      <td>151.526708</td>\n",
              "      <td>135.006211</td>\n",
              "      <td>144.421118</td>\n",
              "      <td>141.045963</td>\n",
              "    </tr>\n",
              "  </tbody>\n",
              "</table>\n",
              "</div>"
            ],
            "text/plain": [
              "            0           1           2           3\n",
              "0  175.103416  156.012422  166.892236  162.991925\n",
              "1  288.483540  257.031056  274.955590  268.529814\n",
              "2  237.886335  211.950311  226.731056  221.432298\n",
              "3  151.526708  135.006211  144.421118  141.045963"
            ]
          },
          "metadata": {
            "tags": []
          },
          "execution_count": 203
        }
      ]
    },
    {
      "cell_type": "markdown",
      "metadata": {
        "id": "4ohsJhQUmEuS",
        "colab_type": "text"
      },
      "source": [
        "## Stretch goals:\n",
        "\n",
        "1. Write a summary of your findings, mixing prose and math/code/results. *Note* - yes, this is by definition a political topic. It is challenging but important to keep your writing voice *neutral* and stick to the facts of the data. Data science often involves considering controversial issues, so it's important to be sensitive about them (especially if you want to publish).\n",
        "2. Apply the techniques you learned today to your project data or other data of your choice, and write/discuss your findings here.\n",
        "3. Refactor your code so it is elegant, readable, and can be easily run for all issues."
      ]
    },
    {
      "cell_type": "markdown",
      "metadata": {
        "id": "nyJ3ySr7R2k9",
        "colab_type": "text"
      },
      "source": [
        "## Resources\n",
        "\n",
        "- [Interactive visualize the Chi-Squared test](https://homepage.divms.uiowa.edu/~mbognar/applets/chisq.html)\n",
        "- [Calculation of Chi-Squared test statistic](https://en.wikipedia.org/wiki/Pearson%27s_chi-squared_test)\n",
        "- [Visualization of a confidence interval generated by R code](https://commons.wikimedia.org/wiki/File:Confidence-interval.svg)\n",
        "- [Expected value of a squared standard normal](https://math.stackexchange.com/questions/264061/expected-value-calculation-for-squared-normal-distribution) (it's 1 - which is why the expected value of a Chi-Squared with $n$ degrees of freedom is $n$, as it's the sum of $n$ squared standard normals)"
      ]
    }
  ]
}