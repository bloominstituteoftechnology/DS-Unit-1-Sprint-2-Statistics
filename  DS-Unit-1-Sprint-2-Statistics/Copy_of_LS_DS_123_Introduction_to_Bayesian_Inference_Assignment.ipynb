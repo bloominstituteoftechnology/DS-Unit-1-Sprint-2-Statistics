{
  "nbformat": 4,
  "nbformat_minor": 0,
  "metadata": {
    "colab": {
      "name": "Copy of LS_DS_123_Introduction_to_Bayesian_Inference_Assignment.ipynb",
      "provenance": [],
      "collapsed_sections": [],
      "include_colab_link": true
    },
    "kernelspec": {
      "name": "python3",
      "display_name": "Python 3"
    }
  },
  "cells": [
    {
      "cell_type": "markdown",
      "metadata": {
        "id": "view-in-github",
        "colab_type": "text"
      },
      "source": [
        "<a href=\"https://colab.research.google.com/github/willstauffernorris/DS-Unit-1-Sprint-2-Statistics/blob/master/%20DS-Unit-1-Sprint-2-Statistics/Copy_of_LS_DS_123_Introduction_to_Bayesian_Inference_Assignment.ipynb\" target=\"_parent\"><img src=\"https://colab.research.google.com/assets/colab-badge.svg\" alt=\"Open In Colab\"/></a>"
      ]
    },
    {
      "cell_type": "markdown",
      "metadata": {
        "id": "H7OLbevlbd_Z",
        "colab_type": "text"
      },
      "source": [
        "# Lambda School Data Science Module 123\n",
        "\n",
        "## Introduction to Bayesian Inference\n",
        "\n",
        "\n"
      ]
    },
    {
      "cell_type": "markdown",
      "metadata": {
        "id": "P-DzzRk5bf0z",
        "colab_type": "text"
      },
      "source": [
        "## Assignment - Code it up!\n",
        "\n",
        "We used pure math to apply Bayes Theorem to drug tests. Now write Python code to reproduce the results! This is purposefully open ended - you'll have to think about how you should represent probabilities and events. You can and should look things up.\n",
        "\n",
        "Specific goals/targets:\n",
        "\n",
        "### 1) Write a function \n",
        "\n",
        "`def prob_drunk_given_positive(prob_drunk_prior, false_positive_rate):` \n",
        "\n",
        "You should only truly need these two values in order to apply Bayes Theorem. In this example, imagine that individuals are taking a breathalyzer test with an 8% false positive rate, a 100% true positive rate, and that our prior belief about drunk driving in the population is 1/1000. \n",
        " - What is the probability that a person is drunk after one positive breathalyzer test?\n",
        " - What is the probability that a person is drunk after two positive breathalyzer tests?\n",
        " - How many positive breathalyzer tests are needed in order to have a probability that's greater than 95% that a person is drunk beyond the legal limit?\n",
        "\n",
        "### 2) Explore `scipy.stats.bayes_mvs`  \n",
        "Read its documentation, and experiment with it on data you've tested in other ways earlier this week.\n",
        " - Create a visualization comparing the results of a Bayesian approach to a traditional/frequentist approach. (with a large sample size they should look close to identical, however, take this opportunity to practice visualizing condfidence intervals in general. The following are some potential ways that you could visualize confidence intervals on your graph:\n",
        "  - [Matplotlib Error Bars](https://matplotlib.org/3.1.1/api/_as_gen/matplotlib.pyplot.errorbar.html)\n",
        "  - [Seaborn barplot with error bars](https://seaborn.pydata.org/generated/seaborn.barplot.html)\n",
        "  - [Vertical ines to show bounds of confidence interval](https://www.simplypsychology.org/confidence-interval.jpg)\n",
        "  - [Confidence Intervals on Box Plots](https://matplotlib.org/3.1.1/api/_as_gen/matplotlib.axes.Axes.boxplot.html)\n",
        "\n",
        "### 3) In your own words, summarize the difference between Bayesian and Frequentist statistics\n",
        "\n",
        "In Bayesian statistics, there is a prior probablility assumed, and then it's tested against reality over multiple iterations. It's sensitive to the numer of times that a test is run, and keeps changing over iterations.\n",
        "\n",
        "In frequentist statistics, the test is run once, and the results are within a predefined range of statistical validity, typically p<.05.\n",
        "\n",
        "\n",
        "If you're unsure where to start, check out [this blog post of Bayes theorem with Python](https://dataconomy.com/2015/02/introduction-to-bayes-theorem-with-python/).\n",
        "\n"
      ]
    },
    {
      "cell_type": "code",
      "metadata": {
        "id": "BISCSNEuyhrv",
        "colab_type": "code",
        "colab": {}
      },
      "source": [
        ""
      ],
      "execution_count": 0,
      "outputs": []
    },
    {
      "cell_type": "code",
      "metadata": {
        "id": "xpVhZyUnbf7o",
        "colab_type": "code",
        "outputId": "91e0699f-f85c-491a-c629-42fcf81a19b0",
        "colab": {
          "base_uri": "https://localhost:8080/",
          "height": 51
        }
      },
      "source": [
        "# TODO - code!\n",
        "### write a function to see if a drunk driving test is accurate\n",
        "false_positive_rate = .08\n",
        "true_positive_rate = 1\n",
        "prob_drunk_prior = (1/1000)\n",
        "prob_sober_prior = (1- prob_drunk_prior)\n",
        "\n",
        "\n",
        "posterior_prob = (true_positive_rate*prob_drunk_prior)/((true_positive_rate*prob_drunk_prior)+(false_positive_rate*prob_sober_prior))\n",
        "\n",
        "print(posterior_prob)\n",
        "prob_drunk_prior = posterior_prob\n",
        "\n",
        "posterior_prob = (true_positive_rate*prob_drunk_prior)/((true_positive_rate*prob_drunk_prior)+(false_positive_rate*prob_sober_prior))\n",
        "print(posterior_prob)\n",
        "\n",
        "\n",
        "##What is the probability that a person is drunk after one positive breathalyzer test?\n",
        "##What is the probability that a person is drunk after two positive breathalyzer tests?\n",
        "##How many positive breathalyzer tests are needed in order to have a probability that's greater than 95% that a person is drunk beyond the legal limit?"
      ],
      "execution_count": 0,
      "outputs": [
        {
          "output_type": "stream",
          "text": [
            "0.012357884330202669\n",
            "0.13392032576279944\n"
          ],
          "name": "stdout"
        }
      ]
    },
    {
      "cell_type": "code",
      "metadata": {
        "id": "klXOkgzaIpKt",
        "colab_type": "code",
        "outputId": "705e6c0a-9a48-4017-ba10-f10281e9ec24",
        "colab": {
          "base_uri": "https://localhost:8080/",
          "height": 782
        }
      },
      "source": [
        "false_positive_rate = .08\n",
        "true_positive_rate = 1\n",
        "prob_drunk_prior = .001\n",
        "prob_sober_prior = (1- prob_drunk_prior)\n",
        "\n",
        "def pro_drunk_driving_given_positive(prob_drunk_prior, prob_sober_prior, false_positive_rate, true_positive_rate):\n",
        "  count = 1\n",
        "  while count < 10:\n",
        "    posterior_prob = (true_positive_rate*prob_drunk_prior)/((true_positive_rate*prob_drunk_prior)+(false_positive_rate*prob_sober_prior))\n",
        "    print(\"After\")\n",
        "    print(count) \n",
        "    print(\"positive test(s), the likelihood that the testee is drunk is\")\n",
        "    print(posterior_prob)\n",
        "    print(\" --------- \")\n",
        "    prob_drunk_prior = posterior_prob\n",
        "    prob_sober_prior = (1- posterior_prob)\n",
        "    count += 1\n",
        "  return\n",
        "\n",
        "pro_drunk_driving_given_positive(prob_drunk_prior, prob_sober_prior, false_positive_rate, true_positive_rate,)\n",
        "\n",
        "### it takes 4 positive tests to get to p<.05\n"
      ],
      "execution_count": 0,
      "outputs": [
        {
          "output_type": "stream",
          "text": [
            "After\n",
            "1\n",
            "positive test(s), the likelihood that the testee is drunk is\n",
            "0.012357884330202669\n",
            " --------- \n",
            "After\n",
            "2\n",
            "positive test(s), the likelihood that the testee is drunk is\n",
            "0.13525210993291495\n",
            " --------- \n",
            "After\n",
            "3\n",
            "positive test(s), the likelihood that the testee is drunk is\n",
            "0.6615996951348605\n",
            " --------- \n",
            "After\n",
            "4\n",
            "positive test(s), the likelihood that the testee is drunk is\n",
            "0.9606895076105054\n",
            " --------- \n",
            "After\n",
            "5\n",
            "positive test(s), the likelihood that the testee is drunk is\n",
            "0.9967371577896734\n",
            " --------- \n",
            "After\n",
            "6\n",
            "positive test(s), the likelihood that the testee is drunk is\n",
            "0.9997381867081508\n",
            " --------- \n",
            "After\n",
            "7\n",
            "positive test(s), the likelihood that the testee is drunk is\n",
            "0.9999790498904363\n",
            " --------- \n",
            "After\n",
            "8\n",
            "positive test(s), the likelihood that the testee is drunk is\n",
            "0.9999983239589307\n",
            " --------- \n",
            "After\n",
            "9\n",
            "positive test(s), the likelihood that the testee is drunk is\n",
            "0.9999998659165077\n",
            " --------- \n"
          ],
          "name": "stdout"
        }
      ]
    },
    {
      "cell_type": "code",
      "metadata": {
        "id": "Eq01bNk7PTnq",
        "colab_type": "code",
        "outputId": "94839bb1-47ab-4b0c-e2f3-13054875f15e",
        "colab": {
          "base_uri": "https://localhost:8080/",
          "height": 394
        }
      },
      "source": [
        "import numpy as np\n",
        "import pandas as pd\n",
        "import matplotlib as mpl\n",
        "import matplotlib.pyplot as plt\n",
        "from scipy import stats\n",
        "\n",
        "df = pd.read_csv('https://raw.githubusercontent.com/ryanleeallred/datasets/master/adult.csv', na_values=\" ?\")\n",
        "\n",
        "df.head()\n",
        "\n",
        "##scipy.stats.bayes_mvs()"
      ],
      "execution_count": 0,
      "outputs": [
        {
          "output_type": "execute_result",
          "data": {
            "text/html": [
              "<div>\n",
              "<style scoped>\n",
              "    .dataframe tbody tr th:only-of-type {\n",
              "        vertical-align: middle;\n",
              "    }\n",
              "\n",
              "    .dataframe tbody tr th {\n",
              "        vertical-align: top;\n",
              "    }\n",
              "\n",
              "    .dataframe thead th {\n",
              "        text-align: right;\n",
              "    }\n",
              "</style>\n",
              "<table border=\"1\" class=\"dataframe\">\n",
              "  <thead>\n",
              "    <tr style=\"text-align: right;\">\n",
              "      <th></th>\n",
              "      <th>age</th>\n",
              "      <th>workclass</th>\n",
              "      <th>fnlwgt</th>\n",
              "      <th>education</th>\n",
              "      <th>education-num</th>\n",
              "      <th>marital-status</th>\n",
              "      <th>occupation</th>\n",
              "      <th>relationship</th>\n",
              "      <th>race</th>\n",
              "      <th>sex</th>\n",
              "      <th>capital-gain</th>\n",
              "      <th>capital-loss</th>\n",
              "      <th>hours-per-week</th>\n",
              "      <th>country</th>\n",
              "      <th>salary</th>\n",
              "    </tr>\n",
              "  </thead>\n",
              "  <tbody>\n",
              "    <tr>\n",
              "      <th>0</th>\n",
              "      <td>39</td>\n",
              "      <td>State-gov</td>\n",
              "      <td>77516</td>\n",
              "      <td>Bachelors</td>\n",
              "      <td>13</td>\n",
              "      <td>Never-married</td>\n",
              "      <td>Adm-clerical</td>\n",
              "      <td>Not-in-family</td>\n",
              "      <td>White</td>\n",
              "      <td>Male</td>\n",
              "      <td>2174</td>\n",
              "      <td>0</td>\n",
              "      <td>40</td>\n",
              "      <td>United-States</td>\n",
              "      <td>&lt;=50K</td>\n",
              "    </tr>\n",
              "    <tr>\n",
              "      <th>1</th>\n",
              "      <td>50</td>\n",
              "      <td>Self-emp-not-inc</td>\n",
              "      <td>83311</td>\n",
              "      <td>Bachelors</td>\n",
              "      <td>13</td>\n",
              "      <td>Married-civ-spouse</td>\n",
              "      <td>Exec-managerial</td>\n",
              "      <td>Husband</td>\n",
              "      <td>White</td>\n",
              "      <td>Male</td>\n",
              "      <td>0</td>\n",
              "      <td>0</td>\n",
              "      <td>13</td>\n",
              "      <td>United-States</td>\n",
              "      <td>&lt;=50K</td>\n",
              "    </tr>\n",
              "    <tr>\n",
              "      <th>2</th>\n",
              "      <td>38</td>\n",
              "      <td>Private</td>\n",
              "      <td>215646</td>\n",
              "      <td>HS-grad</td>\n",
              "      <td>9</td>\n",
              "      <td>Divorced</td>\n",
              "      <td>Handlers-cleaners</td>\n",
              "      <td>Not-in-family</td>\n",
              "      <td>White</td>\n",
              "      <td>Male</td>\n",
              "      <td>0</td>\n",
              "      <td>0</td>\n",
              "      <td>40</td>\n",
              "      <td>United-States</td>\n",
              "      <td>&lt;=50K</td>\n",
              "    </tr>\n",
              "    <tr>\n",
              "      <th>3</th>\n",
              "      <td>53</td>\n",
              "      <td>Private</td>\n",
              "      <td>234721</td>\n",
              "      <td>11th</td>\n",
              "      <td>7</td>\n",
              "      <td>Married-civ-spouse</td>\n",
              "      <td>Handlers-cleaners</td>\n",
              "      <td>Husband</td>\n",
              "      <td>Black</td>\n",
              "      <td>Male</td>\n",
              "      <td>0</td>\n",
              "      <td>0</td>\n",
              "      <td>40</td>\n",
              "      <td>United-States</td>\n",
              "      <td>&lt;=50K</td>\n",
              "    </tr>\n",
              "    <tr>\n",
              "      <th>4</th>\n",
              "      <td>28</td>\n",
              "      <td>Private</td>\n",
              "      <td>338409</td>\n",
              "      <td>Bachelors</td>\n",
              "      <td>13</td>\n",
              "      <td>Married-civ-spouse</td>\n",
              "      <td>Prof-specialty</td>\n",
              "      <td>Wife</td>\n",
              "      <td>Black</td>\n",
              "      <td>Female</td>\n",
              "      <td>0</td>\n",
              "      <td>0</td>\n",
              "      <td>40</td>\n",
              "      <td>Cuba</td>\n",
              "      <td>&lt;=50K</td>\n",
              "    </tr>\n",
              "  </tbody>\n",
              "</table>\n",
              "</div>"
            ],
            "text/plain": [
              "   age          workclass  fnlwgt  ... hours-per-week         country  salary\n",
              "0   39          State-gov   77516  ...             40   United-States   <=50K\n",
              "1   50   Self-emp-not-inc   83311  ...             13   United-States   <=50K\n",
              "2   38            Private  215646  ...             40   United-States   <=50K\n",
              "3   53            Private  234721  ...             40   United-States   <=50K\n",
              "4   28            Private  338409  ...             40            Cuba   <=50K\n",
              "\n",
              "[5 rows x 15 columns]"
            ]
          },
          "metadata": {
            "tags": []
          },
          "execution_count": 45
        }
      ]
    },
    {
      "cell_type": "code",
      "metadata": {
        "id": "jMo6-p_6uY9x",
        "colab_type": "code",
        "outputId": "134744e7-0b05-4997-b6b6-e6ed9aa7aced",
        "colab": {
          "base_uri": "https://localhost:8080/",
          "height": 493
        }
      },
      "source": [
        "age_gains = pd.crosstab(df['age'], df['capital-gain'])\n",
        "\n",
        "print(age_gains.shape)\n",
        "\n",
        "print(age_gains)\n",
        "age_gains.head()\n",
        "age_gains.describe()\n",
        "df['capital-gain'].value_counts()\n",
        "\n"
      ],
      "execution_count": 0,
      "outputs": [
        {
          "output_type": "stream",
          "text": [
            "(73, 119)\n",
            "capital-gain  0      114    401    594    ...  27828  34095  41310  99999\n",
            "age                                       ...                            \n",
            "17              385      0      0      3  ...      0      1      0      0\n",
            "18              533      0      0      7  ...      0      1      0      0\n",
            "19              699      0      0      4  ...      0      1      0      0\n",
            "20              737      1      0      4  ...      0      1      0      0\n",
            "21              700      0      0      2  ...      0      0      0      1\n",
            "..              ...    ...    ...    ...  ...    ...    ...    ...    ...\n",
            "85                3      0      0      0  ...      0      0      0      0\n",
            "86                1      0      0      0  ...      0      0      0      0\n",
            "87                1      0      0      0  ...      0      0      0      0\n",
            "88                3      0      0      0  ...      0      0      0      0\n",
            "90               33      0      1      0  ...      0      0      0      0\n",
            "\n",
            "[73 rows x 119 columns]\n"
          ],
          "name": "stdout"
        },
        {
          "output_type": "execute_result",
          "data": {
            "text/plain": [
              "0        29849\n",
              "15024      347\n",
              "7688       284\n",
              "7298       246\n",
              "99999      159\n",
              "         ...  \n",
              "4931         1\n",
              "1455         1\n",
              "6097         1\n",
              "22040        1\n",
              "1111         1\n",
              "Name: capital-gain, Length: 119, dtype: int64"
            ]
          },
          "metadata": {
            "tags": []
          },
          "execution_count": 8
        }
      ]
    },
    {
      "cell_type": "code",
      "metadata": {
        "id": "4fbB_mZ7syHN",
        "colab_type": "code",
        "outputId": "602bf088-74c4-40b2-8396-234472292510",
        "colab": {
          "base_uri": "https://localhost:8080/",
          "height": 391
        }
      },
      "source": [
        "\n",
        "##.cut\n",
        "###describe the bins, how many bins\n",
        "\n",
        "##.qcut\n",
        "###tell it how many bins\n",
        "df['age_bins'] = pd.qcut(df['age'], 4, labels=[\"0-25% youngest\",\"25-50% youngest%\",\"50-75% oldest\",\"75-100% oldest\"])\n",
        "\n",
        "df['age_bins'].head(20)\n"
      ],
      "execution_count": 0,
      "outputs": [
        {
          "output_type": "execute_result",
          "data": {
            "text/plain": [
              "0        50-75% oldest\n",
              "1       75-100% oldest\n",
              "2        50-75% oldest\n",
              "3       75-100% oldest\n",
              "4       0-25% youngest\n",
              "5     25-50% youngest%\n",
              "6       75-100% oldest\n",
              "7       75-100% oldest\n",
              "8     25-50% youngest%\n",
              "9        50-75% oldest\n",
              "10    25-50% youngest%\n",
              "11    25-50% youngest%\n",
              "12      0-25% youngest\n",
              "13    25-50% youngest%\n",
              "14       50-75% oldest\n",
              "15    25-50% youngest%\n",
              "16      0-25% youngest\n",
              "17    25-50% youngest%\n",
              "18       50-75% oldest\n",
              "19       50-75% oldest\n",
              "Name: age_bins, dtype: category\n",
              "Categories (4, object): [0-25% youngest < 25-50% youngest% < 50-75% oldest < 75-100% oldest]"
            ]
          },
          "metadata": {
            "tags": []
          },
          "execution_count": 51
        }
      ]
    },
    {
      "cell_type": "code",
      "metadata": {
        "id": "IKZz7Y0jtqac",
        "colab_type": "code",
        "outputId": "fe52e4af-1700-4513-baa1-1a9f418c979e",
        "colab": {
          "base_uri": "https://localhost:8080/",
          "height": 238
        }
      },
      "source": [
        "cut_points = [-1, 1, 1000, 10000, 99998, 1000000000]\n",
        "bin_names = [\"$0-$1\", \"$1-$1,000\", \"$1,000-$10,000\", \"$10,000-$100,000\", \"$100,000+\"]\n",
        "\n",
        "df['cap_gains_bins'] = pd.cut(df['capital-gain'], cut_points, labels = bin_names)\n",
        "\n",
        "df['cap_gains_bins'].head(100)\n"
      ],
      "execution_count": 0,
      "outputs": [
        {
          "output_type": "execute_result",
          "data": {
            "text/plain": [
              "0     $1,000-$10,000\n",
              "1              $0-$1\n",
              "2              $0-$1\n",
              "3              $0-$1\n",
              "4              $0-$1\n",
              "           ...      \n",
              "95             $0-$1\n",
              "96             $0-$1\n",
              "97             $0-$1\n",
              "98             $0-$1\n",
              "99             $0-$1\n",
              "Name: cap_gains_bins, Length: 100, dtype: category\n",
              "Categories (5, object): [$0-$1 < $1-$1,000 < $1,000-$10,000 < $10,000-$100,000 < $100,000+]"
            ]
          },
          "metadata": {
            "tags": []
          },
          "execution_count": 52
        }
      ]
    },
    {
      "cell_type": "code",
      "metadata": {
        "id": "YU-frbsHvkFq",
        "colab_type": "code",
        "outputId": "0780a92d-2ab0-498b-ece1-2382be16037d",
        "colab": {
          "base_uri": "https://localhost:8080/",
          "height": 235
        }
      },
      "source": [
        "import pandas as pd\n",
        "import numpy as np\n",
        "import matplotlib.pyplot as plt\n",
        "import seaborn\n",
        "\n",
        "age_v_money = pd.crosstab(df['cap_gains_bins'], df['age_bins'])\n",
        "\n",
        "age_v_money\n"
      ],
      "execution_count": 0,
      "outputs": [
        {
          "output_type": "execute_result",
          "data": {
            "text/html": [
              "<div>\n",
              "<style scoped>\n",
              "    .dataframe tbody tr th:only-of-type {\n",
              "        vertical-align: middle;\n",
              "    }\n",
              "\n",
              "    .dataframe tbody tr th {\n",
              "        vertical-align: top;\n",
              "    }\n",
              "\n",
              "    .dataframe thead th {\n",
              "        text-align: right;\n",
              "    }\n",
              "</style>\n",
              "<table border=\"1\" class=\"dataframe\">\n",
              "  <thead>\n",
              "    <tr style=\"text-align: right;\">\n",
              "      <th>age_bins</th>\n",
              "      <th>0-25% youngest</th>\n",
              "      <th>25-50% youngest%</th>\n",
              "      <th>50-75% oldest</th>\n",
              "      <th>75-100% oldest</th>\n",
              "    </tr>\n",
              "    <tr>\n",
              "      <th>cap_gains_bins</th>\n",
              "      <th></th>\n",
              "      <th></th>\n",
              "      <th></th>\n",
              "      <th></th>\n",
              "    </tr>\n",
              "  </thead>\n",
              "  <tbody>\n",
              "    <tr>\n",
              "      <th>$0-$1</th>\n",
              "      <td>8583</td>\n",
              "      <td>7182</td>\n",
              "      <td>7367</td>\n",
              "      <td>6717</td>\n",
              "    </tr>\n",
              "    <tr>\n",
              "      <th>$1-$1,000</th>\n",
              "      <td>28</td>\n",
              "      <td>3</td>\n",
              "      <td>11</td>\n",
              "      <td>13</td>\n",
              "    </tr>\n",
              "    <tr>\n",
              "      <th>$1,000-$10,000</th>\n",
              "      <td>251</td>\n",
              "      <td>462</td>\n",
              "      <td>588</td>\n",
              "      <td>586</td>\n",
              "    </tr>\n",
              "    <tr>\n",
              "      <th>$10,000-$100,000</th>\n",
              "      <td>29</td>\n",
              "      <td>112</td>\n",
              "      <td>215</td>\n",
              "      <td>255</td>\n",
              "    </tr>\n",
              "    <tr>\n",
              "      <th>$100,000+</th>\n",
              "      <td>7</td>\n",
              "      <td>24</td>\n",
              "      <td>60</td>\n",
              "      <td>68</td>\n",
              "    </tr>\n",
              "  </tbody>\n",
              "</table>\n",
              "</div>"
            ],
            "text/plain": [
              "age_bins          0-25% youngest  ...  75-100% oldest\n",
              "cap_gains_bins                    ...                \n",
              "$0-$1                       8583  ...            6717\n",
              "$1-$1,000                     28  ...              13\n",
              "$1,000-$10,000               251  ...             586\n",
              "$10,000-$100,000              29  ...             255\n",
              "$100,000+                      7  ...              68\n",
              "\n",
              "[5 rows x 4 columns]"
            ]
          },
          "metadata": {
            "tags": []
          },
          "execution_count": 63
        }
      ]
    },
    {
      "cell_type": "code",
      "metadata": {
        "id": "1QiZjgysuobL",
        "colab_type": "code",
        "outputId": "d719eee9-0cef-4ead-c8ef-c170a20ea32b",
        "colab": {
          "base_uri": "https://localhost:8080/",
          "height": 283
        }
      },
      "source": [
        "ax = age_v_money.plot.bar(rot = 0)\n",
        "\n",
        "#visually examing the data\n"
      ],
      "execution_count": 0,
      "outputs": [
        {
          "output_type": "display_data",
          "data": {
            "image/png": "[encoded data removed]",
            "text/plain": [
              "<Figure size 432x288 with 1 Axes>"
            ]
          },
          "metadata": {
            "tags": []
          }
        }
      ]
    },
    {
      "cell_type": "code",
      "metadata": {
        "id": "sWojsZ4n0KaP",
        "colab_type": "code",
        "colab": {}
      },
      "source": [
        ""
      ],
      "execution_count": 0,
      "outputs": []
    },
    {
      "cell_type": "code",
      "metadata": {
        "id": "2A8Zy1BHzOJW",
        "colab_type": "code",
        "outputId": "ab712cc3-437f-4bd6-e6c5-386a0288c50e",
        "colab": {
          "base_uri": "https://localhost:8080/",
          "height": 153
        }
      },
      "source": [
        "###checking out the chi squared of the table\n",
        "chi2, p_value, dof, expected_value_table = stats.chi2_contingency(age_v_money)\n",
        "\n",
        "\n",
        "print(chi2)\n",
        "print(p_value)\n",
        "print(dof)\n",
        "print(expected_value_table)"
      ],
      "execution_count": 0,
      "outputs": [
        {
          "output_type": "stream",
          "text": [
            "569.7205864617092\n",
            "3.078846116406921e-114\n",
            "12\n",
            "[[8156.88713492 7134.75529007 7554.60855011 7002.74902491]\n",
            " [  15.0299438    13.1465557    13.92018058   12.90331992]\n",
            " [ 515.66370812  451.0463745   477.58874113  442.70117625]\n",
            " [ 166.96901201  146.04628236  154.64055158  143.34415405]\n",
            " [  43.45020116   38.00549737   40.2419766    37.30232487]]\n"
          ],
          "name": "stdout"
        }
      ]
    },
    {
      "cell_type": "code",
      "metadata": {
        "id": "U6cTK89XyjG8",
        "colab_type": "code",
        "outputId": "47239eae-dde4-45f0-e286-518ecfc4838a",
        "colab": {
          "base_uri": "https://localhost:8080/",
          "height": 85
        }
      },
      "source": [
        "\n",
        "age_frame = df['age']\n",
        "\n",
        "from scipy import stats\n",
        "\n",
        "mean, var, std = stats.bayes_mvs(df['age'])\n",
        "\n",
        "print(mean)\n",
        "print(var)\n",
        "print(std)\n",
        "\n",
        "age_frame.shape\n",
        "#ax=age_frame.plot.bar(rot=0);\n"
      ],
      "execution_count": 0,
      "outputs": [
        {
          "output_type": "stream",
          "text": [
            "Mean(statistic=38.58164675532078, minmax=(38.45730990459461, 38.705983606046956))\n",
            "Variance(statistic=186.05568600783081, minmax=(183.65720472095407, 188.45416729470756))\n",
            "Std_dev(statistic=13.640223092304275, minmax=(13.552303662004416, 13.728142522604134))\n"
          ],
          "name": "stdout"
        },
        {
          "output_type": "execute_result",
          "data": {
            "text/plain": [
              "(32561,)"
            ]
          },
          "metadata": {
            "tags": []
          },
          "execution_count": 77
        }
      ]
    },
    {
      "cell_type": "code",
      "metadata": {
        "id": "XSo3V3_J1Qh2",
        "colab_type": "code",
        "outputId": "c973c4a6-ddca-48a8-936c-a63cb9cd6a72",
        "colab": {
          "base_uri": "https://localhost:8080/",
          "height": 34
        }
      },
      "source": [
        "len(age_frame)"
      ],
      "execution_count": 0,
      "outputs": [
        {
          "output_type": "execute_result",
          "data": {
            "text/plain": [
              "32561"
            ]
          },
          "metadata": {
            "tags": []
          },
          "execution_count": 78
        }
      ]
    },
    {
      "cell_type": "code",
      "metadata": {
        "id": "jfSMtFcM1VDJ",
        "colab_type": "code",
        "outputId": "d7415c0b-af55-4786-f0f1-b0b1824225fe",
        "colab": {
          "base_uri": "https://localhost:8080/",
          "height": 265
        }
      },
      "source": [
        "ax = plt.hist(age_frame, bins=100)\n"
      ],
      "execution_count": 0,
      "outputs": [
        {
          "output_type": "display_data",
          "data": {
            "image/png": "[encoded data removed]",
            "text/plain": [
              "<Figure size 432x288 with 1 Axes>"
            ]
          },
          "metadata": {
            "tags": []
          }
        }
      ]
    },
    {
      "cell_type": "markdown",
      "metadata": {
        "id": "uWgWjp3PQ3Sq",
        "colab_type": "text"
      },
      "source": [
        "## Resources"
      ]
    },
    {
      "cell_type": "markdown",
      "metadata": {
        "id": "QRgHqmYIQ9qn",
        "colab_type": "text"
      },
      "source": [
        "- [Worked example of Bayes rule calculation](https://en.wikipedia.org/wiki/Bayes'_theorem#Examples) (helpful as it fully breaks out the denominator)\n",
        "- [Source code for mvsdist in scipy](https://github.com/scipy/scipy/blob/90534919e139d2a81c24bf08341734ff41a3db12/scipy/stats/morestats.py#L139)"
      ]
    },
    {
      "cell_type": "markdown",
      "metadata": {
        "id": "GP7Jv1XvwtkX",
        "colab_type": "text"
      },
      "source": [
        "## Stretch Goals:\n",
        "\n",
        "- Go back and study the content from Modules 1 & 2 to make sure that you're really comfortable with them.\n",
        "- Apply a Bayesian technique to a problem you previously worked (in an assignment or project work) on from a frequentist (standard) perspective\n",
        "- Check out [PyMC3](https://docs.pymc.io/) (note this goes beyond hypothesis tests into modeling) - read the guides and work through some examples\n",
        "- Take PyMC3 further - see if you can build something with it!"
      ]
    },
    {
      "cell_type": "code",
      "metadata": {
        "id": "iDi0eFr1x-v_",
        "colab_type": "code",
        "colab": {}
      },
      "source": [
        ""
      ],
      "execution_count": 0,
      "outputs": []
    }
  ]
}