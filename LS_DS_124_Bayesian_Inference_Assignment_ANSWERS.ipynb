{
  "nbformat": 4,
  "nbformat_minor": 0,
  "metadata": {
    "colab": {
      "name": "LS_DS_124_Bayesian_Inference_Assignment_ANSWERS.ipynb",
      "provenance": [],
      "collapsed_sections": [],
      "include_colab_link": true
    },
    "kernelspec": {
      "display_name": "Python 3",
      "language": "python",
      "name": "python3"
    },
    "language_info": {
      "codemirror_mode": {
        "name": "ipython",
        "version": 3
      },
      "file_extension": ".py",
      "mimetype": "text/x-python",
      "name": "python",
      "nbconvert_exporter": "python",
      "pygments_lexer": "ipython3",
      "version": "3.7.4"
    }
  },
  "cells": [
    {
      "cell_type": "markdown",
      "metadata": {
        "id": "view-in-github",
        "colab_type": "text"
      },
      "source": [
        "<a href=\"https://colab.research.google.com/github/johhan27/DS-Unit-1-Sprint-2-Statistics/blob/master/LS_DS_124_Bayesian_Inference_Assignment_ANSWERS.ipynb\" target=\"_parent\"><img src=\"https://colab.research.google.com/assets/colab-badge.svg\" alt=\"Open In Colab\"/></a>"
      ]
    },
    {
      "cell_type": "markdown",
      "metadata": {
        "id": "2f50SGO2JwpW"
      },
      "source": [
        "## Autograded Notebook (Canvas & CodeGrade)\n",
        "\n",
        "This notebook will be automatically graded. It is designed to test your answers and award points for the correct answers. Following the instructions for each Task carefully.\n",
        "\n",
        "### Instructions\n",
        "\n",
        "* **Download this notebook** as you would any other ipynb file\n",
        "* **Upload** to Google Colab or work locally (if you have that set-up)\n",
        "* **Delete `raise NotImplementedError()`**\n",
        "* Write your code in the `# YOUR CODE HERE` space\n",
        "* **Execute** the Test cells that contain `assert` statements - these help you check your work (others contain hidden tests that will be checked when you submit through Canvas)\n",
        "* **Save** your notebook when you are finished\n",
        "* **Download** as a `ipynb` file (if working in Colab)\n",
        "* **Upload** your complete notebook to Canvas (there will be additional instructions in Slack and/or Canvas)"
      ]
    },
    {
      "cell_type": "markdown",
      "metadata": {
        "id": "H7OLbevlbd_Z"
      },
      "source": [
        "# Lambda School Data Science - Unit 1 Sprint 2 Module 4\n",
        "\n",
        "## Module Project: Introduction to Bayesian Inference\n",
        "\n",
        "### Objectives\n",
        "\n",
        "* Objective 01 - understand conditional probability notation and be able to apply them\n",
        "* Objective 02 - compare and contrast frequentist and Bayesian approaches to inference\n",
        "* Objective 03 - use Bayes Theorem to iteratively update a prior probability\n",
        "* Objective 04 - generate research questions for data storytelling projects\n",
        "\n",
        "#### Total notebook points: 12"
      ]
    },
    {
      "cell_type": "markdown",
      "metadata": {
        "id": "ECDRQ968Jwpa"
      },
      "source": [
        "## Introduction\n",
        "\n",
        "In this project, we're going to practice calculating conditional probabilities. You will use Python and the pandas cross tabulation method to look at various survival scenarios. After you complete the Titanic calculations, we'll visit the Harry Potter Universe and apply what we learned to the Sorting Hat situation at Hogwarts (a detailed description of the problem is provided - you don't need to have any familiarity with the Harry Potter books or movies). \n",
        "\n",
        "### Data set\n",
        "\n",
        "We'll be working with the Titanic dataset for this Module Project. It is available in various locations but the data at the URL provided is what we'll use today."
      ]
    },
    {
      "cell_type": "markdown",
      "metadata": {
        "id": "iliKwAvIKbyD"
      },
      "source": [
        "### Warmup Question\n",
        "\n",
        "In your own words, summarize the difference between Bayesian and Frequentist statistics.\n",
        "\n",
        "ANSWER:\n",
        "\n",
        "The Bayesian use old and new information to find the probability of an event \n",
        "\n",
        "The Frequentists use current information (sample) and focus on fiding the significance of this to conclude that the outcomes under the hypothesis are replicable. "
      ]
    },
    {
      "cell_type": "markdown",
      "metadata": {
        "id": "db4m0HhBCMhR"
      },
      "source": [
        "## Part A\n",
        "\n",
        "### Conditional Probabilities \n",
        "\n",
        "For Tasks 1 - 8 use the following information:\n",
        "\n",
        "Let **A** be the event of surviving the sinking of the Titanic and **B** be the event of being a 1st class passenger."
      ]
    },
    {
      "cell_type": "markdown",
      "metadata": {
        "id": "2PHF8sJsJwpb"
      },
      "source": [
        "**Task 1** - Load the data\n",
        "\n",
        "As we usually begin, let's load the data! The URL has been provided.\n",
        "\n",
        "* load your CSV file into a DataFrame named `df`"
      ]
    },
    {
      "cell_type": "code",
      "metadata": {
        "deletable": false,
        "id": "qXaf5leo7CHr",
        "nbgrader": {
          "cell_type": "code",
          "checksum": "03a6b6486122907200ef39a158aba4fc",
          "grade": false,
          "grade_id": "cell-282a5c44db0c5259",
          "locked": false,
          "schema_version": 3,
          "solution": true,
          "task": false
        },
        "colab": {
          "base_uri": "https://localhost:8080/",
          "height": 332
        },
        "outputId": "76923a34-8cde-4edf-a3a0-7217944f2669"
      },
      "source": [
        "# Task 1\n",
        "\n",
        "import pandas as pd\n",
        "import numpy as np\n",
        "\n",
        "data_url = 'https://raw.githubusercontent.com/LambdaSchool/data-science-practice-datasets/main/unit_1/Titanic/Titanic.csv'\n",
        "# YOUR CODE HERE\n",
        "\n",
        "df = pd.read_csv(data_url)\n",
        "\n",
        "# View the DataFrame\n",
        "df.head()"
      ],
      "execution_count": 1,
      "outputs": [
        {
          "output_type": "execute_result",
          "data": {
            "text/html": [
              "<div>\n",
              "<style scoped>\n",
              "    .dataframe tbody tr th:only-of-type {\n",
              "        vertical-align: middle;\n",
              "    }\n",
              "\n",
              "    .dataframe tbody tr th {\n",
              "        vertical-align: top;\n",
              "    }\n",
              "\n",
              "    .dataframe thead th {\n",
              "        text-align: right;\n",
              "    }\n",
              "</style>\n",
              "<table border=\"1\" class=\"dataframe\">\n",
              "  <thead>\n",
              "    <tr style=\"text-align: right;\">\n",
              "      <th></th>\n",
              "      <th>Survived</th>\n",
              "      <th>Pclass</th>\n",
              "      <th>Name</th>\n",
              "      <th>Sex</th>\n",
              "      <th>Age</th>\n",
              "      <th>Siblings/Spouses_Aboard</th>\n",
              "      <th>Parents/Children_Aboard</th>\n",
              "      <th>Fare</th>\n",
              "    </tr>\n",
              "  </thead>\n",
              "  <tbody>\n",
              "    <tr>\n",
              "      <th>0</th>\n",
              "      <td>0</td>\n",
              "      <td>3</td>\n",
              "      <td>Mr. Owen Harris Braund</td>\n",
              "      <td>male</td>\n",
              "      <td>22.0</td>\n",
              "      <td>1</td>\n",
              "      <td>0</td>\n",
              "      <td>7.2500</td>\n",
              "    </tr>\n",
              "    <tr>\n",
              "      <th>1</th>\n",
              "      <td>1</td>\n",
              "      <td>1</td>\n",
              "      <td>Mrs. John Bradley (Florence Briggs Thayer) Cum...</td>\n",
              "      <td>female</td>\n",
              "      <td>38.0</td>\n",
              "      <td>1</td>\n",
              "      <td>0</td>\n",
              "      <td>71.2833</td>\n",
              "    </tr>\n",
              "    <tr>\n",
              "      <th>2</th>\n",
              "      <td>1</td>\n",
              "      <td>3</td>\n",
              "      <td>Miss. Laina Heikkinen</td>\n",
              "      <td>female</td>\n",
              "      <td>26.0</td>\n",
              "      <td>0</td>\n",
              "      <td>0</td>\n",
              "      <td>7.9250</td>\n",
              "    </tr>\n",
              "    <tr>\n",
              "      <th>3</th>\n",
              "      <td>1</td>\n",
              "      <td>1</td>\n",
              "      <td>Mrs. Jacques Heath (Lily May Peel) Futrelle</td>\n",
              "      <td>female</td>\n",
              "      <td>35.0</td>\n",
              "      <td>1</td>\n",
              "      <td>0</td>\n",
              "      <td>53.1000</td>\n",
              "    </tr>\n",
              "    <tr>\n",
              "      <th>4</th>\n",
              "      <td>0</td>\n",
              "      <td>3</td>\n",
              "      <td>Mr. William Henry Allen</td>\n",
              "      <td>male</td>\n",
              "      <td>35.0</td>\n",
              "      <td>0</td>\n",
              "      <td>0</td>\n",
              "      <td>8.0500</td>\n",
              "    </tr>\n",
              "  </tbody>\n",
              "</table>\n",
              "</div>"
            ],
            "text/plain": [
              "   Survived  Pclass  ... Parents/Children_Aboard     Fare\n",
              "0         0       3  ...                       0   7.2500\n",
              "1         1       1  ...                       0  71.2833\n",
              "2         1       3  ...                       0   7.9250\n",
              "3         1       1  ...                       0  53.1000\n",
              "4         0       3  ...                       0   8.0500\n",
              "\n",
              "[5 rows x 8 columns]"
            ]
          },
          "metadata": {
            "tags": []
          },
          "execution_count": 1
        }
      ]
    },
    {
      "cell_type": "markdown",
      "metadata": {
        "id": "rAoRZkkiJwpc"
      },
      "source": [
        "**Task 1 - Test**"
      ]
    },
    {
      "cell_type": "code",
      "metadata": {
        "deletable": false,
        "editable": false,
        "nbgrader": {
          "cell_type": "code",
          "checksum": "9d5903bf9f6e73bffaeb7880b33d0a38",
          "grade": true,
          "grade_id": "cell-dfb792f5ef91f211",
          "locked": true,
          "points": 1,
          "schema_version": 3,
          "solution": false,
          "task": false
        },
        "id": "rGd0wYRFJwpc"
      },
      "source": [
        "# Task 1 - Test\n",
        "\n",
        "assert isinstance(df, pd.DataFrame), 'Have you created a DataFrame named `df`?'\n",
        "assert len(df) == 887\n"
      ],
      "execution_count": 2,
      "outputs": []
    },
    {
      "cell_type": "markdown",
      "metadata": {
        "deletable": false,
        "editable": false,
        "id": "4shP8MH8CbrZ",
        "nbgrader": {
          "cell_type": "markdown",
          "checksum": "854633389450ba0f47231410bf3d326b",
          "grade": false,
          "grade_id": "cell-82dac32bcc1fa69b",
          "locked": true,
          "schema_version": 3,
          "solution": false,
          "task": false
        }
      },
      "source": [
        "**Task 2** - Survival probability\n",
        "\n",
        "We'll start by calculating the probability of surviving; we'll write the probability as P(A)\n",
        "\n",
        "* calculate the cross tabulation for the `Pclass` and `Survived` variables and assign it to `cross_tab`\n",
        "* using the cross tabulation results, calculate P(A) and assign it to the variable `p_a`"
      ]
    },
    {
      "cell_type": "code",
      "metadata": {
        "deletable": false,
        "id": "iDi0eFr1x-v_",
        "nbgrader": {
          "cell_type": "code",
          "checksum": "f2fbba2e46c383691ccf8f44bba22a1c",
          "grade": false,
          "grade_id": "cell-800eb0784f0daf9f",
          "locked": false,
          "schema_version": 3,
          "solution": true,
          "task": false
        },
        "colab": {
          "base_uri": "https://localhost:8080/"
        },
        "outputId": "ba91b99f-e05b-451e-aab8-af0763b451ec"
      },
      "source": [
        "# Task 2\n",
        "\n",
        "# YOUR CODE HERE\n",
        "\n",
        "cross_tab = pd.crosstab(df['Pclass'], df['Survived'], margins=True)\n",
        "print(cross_tab)\n",
        "p_a = 342/887\n",
        "print('The value of P(A) is:', p_a)"
      ],
      "execution_count": 3,
      "outputs": [
        {
          "output_type": "stream",
          "text": [
            "Survived    0    1  All\n",
            "Pclass                 \n",
            "1          80  136  216\n",
            "2          97   87  184\n",
            "3         368  119  487\n",
            "All       545  342  887\n",
            "The value of P(A) is: 0.3855693348365276\n"
          ],
          "name": "stdout"
        }
      ]
    },
    {
      "cell_type": "markdown",
      "metadata": {
        "id": "j7bizEASJwpd"
      },
      "source": [
        "**Task 2 - Test**"
      ]
    },
    {
      "cell_type": "code",
      "metadata": {
        "deletable": false,
        "editable": false,
        "nbgrader": {
          "cell_type": "code",
          "checksum": "7297dc09e6f8fa72c0a40e87ed2a3148",
          "grade": true,
          "grade_id": "cell-c4fbdfeb780e3bd6",
          "locked": true,
          "points": 1,
          "schema_version": 3,
          "solution": false,
          "task": false
        },
        "id": "CRQVqJBgJwpd"
      },
      "source": [
        "# Task 2 - Test\n",
        "assert isinstance(cross_tab, pd.DataFrame), 'Did you create the cross tabulation DataFrame?'\n",
        "assert cross_tab.shape == (4,3), 'Did you remember to include the margins?'\n"
      ],
      "execution_count": 4,
      "outputs": []
    },
    {
      "cell_type": "markdown",
      "metadata": {
        "id": "ZV_UsohfC6r_"
      },
      "source": [
        "**Task 3** - First class probability\n",
        "\n",
        "Next we'll calculate the probability of being a First Class passenger; we'll write this probability as P(B)\n",
        "\n",
        "* using the cross tabulation results, calculate P(B) and assign it to the variable `p_b`"
      ]
    },
    {
      "cell_type": "code",
      "metadata": {
        "deletable": false,
        "nbgrader": {
          "cell_type": "code",
          "checksum": "14fb6d770783c283312d87abc4aa14e4",
          "grade": false,
          "grade_id": "cell-f4bd227006d12bc1",
          "locked": false,
          "schema_version": 3,
          "solution": true,
          "task": false
        },
        "id": "p8Ors8T7Jwpe",
        "colab": {
          "base_uri": "https://localhost:8080/"
        },
        "outputId": "92791a6b-68b9-4444-9910-9ec75c9ae7b8"
      },
      "source": [
        "# Task 3\n",
        "\n",
        "# YOUR CODE HERE\n",
        "#print(cross_tab)\n",
        "p_b = 216/887\n",
        "\n",
        "print('The value of P(B) is:', p_b)"
      ],
      "execution_count": 26,
      "outputs": [
        {
          "output_type": "stream",
          "text": [
            "The value of P(B) is: 0.24351747463359638\n"
          ],
          "name": "stdout"
        }
      ]
    },
    {
      "cell_type": "markdown",
      "metadata": {
        "id": "gNSm8erUJwpe"
      },
      "source": [
        "**Task 3 - Test**"
      ]
    },
    {
      "cell_type": "code",
      "metadata": {
        "deletable": false,
        "editable": false,
        "id": "ZLoKRMkjEs2D",
        "nbgrader": {
          "cell_type": "code",
          "checksum": "13ae4dd0e58da917a8281772cce84af4",
          "grade": true,
          "grade_id": "cell-28b49f01a6955c2f",
          "locked": true,
          "points": 1,
          "schema_version": 3,
          "solution": false,
          "task": false
        }
      },
      "source": [
        "# Task 3 - Test\n",
        "# Hidden tests - you will see the results when you submit to Canvas"
      ],
      "execution_count": null,
      "outputs": []
    },
    {
      "cell_type": "markdown",
      "metadata": {
        "id": "3tJKQmH-Cm6u"
      },
      "source": [
        "**Task 4** - Conditional probability: A and B\n",
        "\n",
        "Now, we'll calculate the conditional probability of being a First Class passenger **and** surviving. We write this as P(A $\\cap$ B) and we read it as \"the probability of A and B\".\n",
        "\n",
        "* calculate the conditional probability P(A $\\cap$ B) and assign it to the variable `p_a_and_b`"
      ]
    },
    {
      "cell_type": "code",
      "metadata": {
        "deletable": false,
        "nbgrader": {
          "cell_type": "code",
          "checksum": "60dc8857f800ac99fea24ec5119db95c",
          "grade": false,
          "grade_id": "cell-c124ed27b905efad",
          "locked": false,
          "schema_version": 3,
          "solution": true,
          "task": false
        },
        "id": "lD0zkM29Jwpg",
        "colab": {
          "base_uri": "https://localhost:8080/"
        },
        "outputId": "97d3d067-7d5f-429d-ab46-a6af6784813f"
      },
      "source": [
        "# Task 4\n",
        "\n",
        "# YOUR CODE HERE\n",
        "\n",
        "p_a_and_b = 136/877\n",
        "\n",
        "\n",
        "print('The value of P(A and B) is:', p_a_and_b)"
      ],
      "execution_count": 36,
      "outputs": [
        {
          "output_type": "stream",
          "text": [
            "The value of P(A and B) is: 0.15507411630558723\n"
          ],
          "name": "stdout"
        }
      ]
    },
    {
      "cell_type": "markdown",
      "metadata": {
        "id": "pTmqTLYLJwph"
      },
      "source": [
        "**Task 4 - Test**"
      ]
    },
    {
      "cell_type": "code",
      "metadata": {
        "deletable": false,
        "editable": false,
        "nbgrader": {
          "cell_type": "code",
          "checksum": "3de2a100e4af19c0c1bf9e8daaf97f39",
          "grade": true,
          "grade_id": "cell-94f5711349cc6887",
          "locked": true,
          "points": 1,
          "schema_version": 3,
          "solution": false,
          "task": false
        },
        "id": "5u7Cv_YfJwph"
      },
      "source": [
        "# Task 4 - Test\n",
        "# Hidden tests - you will see the results when you submit to Canvas"
      ],
      "execution_count": null,
      "outputs": []
    },
    {
      "cell_type": "markdown",
      "metadata": {
        "id": "N8035fHKJwpi"
      },
      "source": [
        "**Task 5** - Conditional probability: A given B\n",
        "\n",
        "Next, we'll calculate the conditional probability of surviving given the person was a First Class passenger. We write this as P(A|B) and we read it as \"the probability of A given B\".\n",
        "\n",
        "* generate a new cross tabulation with the parameter `normalize='index'`; name this table `cross_tab_norm`\n",
        "* calculate the conditional probability P(A|B) and assign it to the variable `p_a_given_b`"
      ]
    },
    {
      "cell_type": "code",
      "metadata": {
        "colab": {
          "base_uri": "https://localhost:8080/"
        },
        "id": "Sl2qaVxKQFni",
        "outputId": "aeed0752-1b9a-4d6a-fc83-5e09d46ed74e"
      },
      "source": [
        "print(cross_tab)\n"
      ],
      "execution_count": 28,
      "outputs": [
        {
          "output_type": "stream",
          "text": [
            "Survived    0    1  All\n",
            "Pclass                 \n",
            "1          80  136  216\n",
            "2          97   87  184\n",
            "3         368  119  487\n",
            "All       545  342  887\n"
          ],
          "name": "stdout"
        }
      ]
    },
    {
      "cell_type": "code",
      "metadata": {
        "deletable": false,
        "id": "VzHakDD6DOcL",
        "nbgrader": {
          "cell_type": "code",
          "checksum": "d01643c7433d3317f3696af59d4537ab",
          "grade": false,
          "grade_id": "cell-7b16a6ecf032b8ba",
          "locked": false,
          "schema_version": 3,
          "solution": true,
          "task": false
        },
        "colab": {
          "base_uri": "https://localhost:8080/"
        },
        "outputId": "11c188cf-28e0-44db-ef0c-59470ea1d808"
      },
      "source": [
        "# Task 5\n",
        "\n",
        "# YOUR CODE HERE\n",
        "cross_tab_norm = pd.crosstab(df['Pclass'], df['Survived'], normalize='index')\n",
        "print (cross_tab_norm)\n",
        "p_a_given_b = 136/216\n",
        "print('The value of P(A given B) is:', p_a_given_b)"
      ],
      "execution_count": 37,
      "outputs": [
        {
          "output_type": "stream",
          "text": [
            "Survived         0         1\n",
            "Pclass                      \n",
            "1         0.370370  0.629630\n",
            "2         0.527174  0.472826\n",
            "3         0.755647  0.244353\n",
            "The value of P(A given B) is: 0.6296296296296297\n"
          ],
          "name": "stdout"
        }
      ]
    },
    {
      "cell_type": "markdown",
      "metadata": {
        "deletable": false,
        "editable": false,
        "nbgrader": {
          "cell_type": "markdown",
          "checksum": "bf34b470e7835f50b0d6f52e6ac60730",
          "grade": false,
          "grade_id": "cell-5d1717dbbd5adc5a",
          "locked": true,
          "schema_version": 3,
          "solution": false,
          "task": false
        },
        "id": "58mcM49RJwpj"
      },
      "source": [
        "**Task 5 - Test**"
      ]
    },
    {
      "cell_type": "code",
      "metadata": {
        "deletable": false,
        "editable": false,
        "id": "IgphlpCOFMDe",
        "nbgrader": {
          "cell_type": "code",
          "checksum": "2c8178afbe9f2f324ca0435458608363",
          "grade": true,
          "grade_id": "cell-e873df7d0460dbc5",
          "locked": true,
          "points": 1,
          "schema_version": 3,
          "solution": false,
          "task": false
        }
      },
      "source": [
        "# Task 5 - Test\n",
        "assert isinstance(cross_tab_norm, pd.DataFrame), 'Did you create the new cross tabulation DataFrame?'\n",
        "assert cross_tab_norm.shape == (3,2), 'Did you remember to normalize?'"
      ],
      "execution_count": 38,
      "outputs": []
    },
    {
      "cell_type": "markdown",
      "metadata": {
        "id": "T0NBFUb0Jwpk"
      },
      "source": [
        "**Task 6** - Conditional probability: B given A\n",
        "\n",
        "Okay, now we'll calculate the conditional probability of being a First Class passenger given the person survived. We write this as P(B|A) and we read it as \"the probability of B given A\".\n",
        "\n",
        "* create a new cross tabulation DataFrame and name it `cross_tab_norm2`.\n",
        "    * *Hint: We need to reverse the order of the columns when we calculate the new table*\n",
        "* calculate the conditional probability P(B|A) and assign it to the variable `p_b_given_a`"
      ]
    },
    {
      "cell_type": "code",
      "metadata": {
        "colab": {
          "base_uri": "https://localhost:8080/"
        },
        "id": "TqYf3DJLQ80s",
        "outputId": "17c0a40d-9bab-4db0-f067-eb7c0bff903d"
      },
      "source": [
        "print(cross_tab)"
      ],
      "execution_count": 39,
      "outputs": [
        {
          "output_type": "stream",
          "text": [
            "Survived    0    1  All\n",
            "Pclass                 \n",
            "1          80  136  216\n",
            "2          97   87  184\n",
            "3         368  119  487\n",
            "All       545  342  887\n"
          ],
          "name": "stdout"
        }
      ]
    },
    {
      "cell_type": "code",
      "metadata": {
        "colab": {
          "base_uri": "https://localhost:8080/",
          "height": 140
        },
        "id": "DWivPGcKQngF",
        "outputId": "030887f6-3fa9-4c17-e6f2-5413754a13d2"
      },
      "source": [
        "cross_tab_norm2 = pd.crosstab(df['Survived'], df['Pclass'], normalize='index')\n",
        "cross_tab_norm2"
      ],
      "execution_count": 40,
      "outputs": [
        {
          "output_type": "execute_result",
          "data": {
            "text/html": [
              "<div>\n",
              "<style scoped>\n",
              "    .dataframe tbody tr th:only-of-type {\n",
              "        vertical-align: middle;\n",
              "    }\n",
              "\n",
              "    .dataframe tbody tr th {\n",
              "        vertical-align: top;\n",
              "    }\n",
              "\n",
              "    .dataframe thead th {\n",
              "        text-align: right;\n",
              "    }\n",
              "</style>\n",
              "<table border=\"1\" class=\"dataframe\">\n",
              "  <thead>\n",
              "    <tr style=\"text-align: right;\">\n",
              "      <th>Pclass</th>\n",
              "      <th>1</th>\n",
              "      <th>2</th>\n",
              "      <th>3</th>\n",
              "    </tr>\n",
              "    <tr>\n",
              "      <th>Survived</th>\n",
              "      <th></th>\n",
              "      <th></th>\n",
              "      <th></th>\n",
              "    </tr>\n",
              "  </thead>\n",
              "  <tbody>\n",
              "    <tr>\n",
              "      <th>0</th>\n",
              "      <td>0.146789</td>\n",
              "      <td>0.177982</td>\n",
              "      <td>0.675229</td>\n",
              "    </tr>\n",
              "    <tr>\n",
              "      <th>1</th>\n",
              "      <td>0.397661</td>\n",
              "      <td>0.254386</td>\n",
              "      <td>0.347953</td>\n",
              "    </tr>\n",
              "  </tbody>\n",
              "</table>\n",
              "</div>"
            ],
            "text/plain": [
              "Pclass           1         2         3\n",
              "Survived                              \n",
              "0         0.146789  0.177982  0.675229\n",
              "1         0.397661  0.254386  0.347953"
            ]
          },
          "metadata": {
            "tags": []
          },
          "execution_count": 40
        }
      ]
    },
    {
      "cell_type": "code",
      "metadata": {
        "deletable": false,
        "nbgrader": {
          "cell_type": "code",
          "checksum": "f3ed692f36fb25987efec83bd7cfffab",
          "grade": false,
          "grade_id": "cell-78df1483b44c6dd6",
          "locked": false,
          "schema_version": 3,
          "solution": true,
          "task": false
        },
        "id": "oG5y3ERpJwpk",
        "colab": {
          "base_uri": "https://localhost:8080/"
        },
        "outputId": "add0b506-5f5b-428a-cfa4-cfb15f7c5e59"
      },
      "source": [
        "# Task 6\n",
        "\n",
        "# YOUR CODE HERE\n",
        "p_b_given_a = 136/342\n",
        "\n",
        "print('The value of P(B given A) is:', p_b_given_a)"
      ],
      "execution_count": 48,
      "outputs": [
        {
          "output_type": "stream",
          "text": [
            "The value of P(B given A) is: 0.39766081871345027\n"
          ],
          "name": "stdout"
        }
      ]
    },
    {
      "cell_type": "markdown",
      "metadata": {
        "id": "bZGBizg9Jwpl"
      },
      "source": [
        "**Task 6 - Test**"
      ]
    },
    {
      "cell_type": "code",
      "metadata": {
        "deletable": false,
        "editable": false,
        "nbgrader": {
          "cell_type": "code",
          "checksum": "5d9ed674769ad9cd97d82d898409cb00",
          "grade": true,
          "grade_id": "cell-6b90b196728d2c90",
          "locked": true,
          "points": 1,
          "schema_version": 3,
          "solution": false,
          "task": false
        },
        "id": "XSJvaw-zJwpl"
      },
      "source": [
        "# Task 6 - Test\n",
        "assert isinstance(cross_tab_norm2, pd.DataFrame), 'Did you create another new cross tabulation DataFrame?'\n",
        "assert cross_tab_norm2.shape == (2,3), 'Did you remember to normalize and use the correct column order?'"
      ],
      "execution_count": 45,
      "outputs": []
    },
    {
      "cell_type": "markdown",
      "metadata": {
        "id": "lxYJhvp1DkLS"
      },
      "source": [
        "**Task 7**\n",
        "\n",
        "So far, we have calculated the individual probabilities: P(A), P(B), P(A $\\cap$ B), P(A|B), and P(B|A). Now we're going to calculate the conditional probability P(A|B) using the following equation:\n",
        "\n",
        "$$P(A|B) = \\frac{P(A \\cap B)}{P(B)}$$\n",
        "\n",
        "* calculate the value of P(A|B) and assign it to the variable `calc1_p_a_given_b`\n",
        "* compare it to your value from Task 5 by testing if `p_a_given_b` is equal to `calc1_p_a_given_b` (use an assert statement!)"
      ]
    },
    {
      "cell_type": "code",
      "metadata": {
        "deletable": false,
        "nbgrader": {
          "cell_type": "code",
          "checksum": "7c6c9ad080c3bdf1865ca3d105c53dc8",
          "grade": false,
          "grade_id": "cell-f247272a2857b88b",
          "locked": false,
          "schema_version": 3,
          "solution": true,
          "task": false
        },
        "id": "IDvc0aR2Jwpn",
        "colab": {
          "base_uri": "https://localhost:8080/"
        },
        "outputId": "48291835-edb0-4b6c-b083-0b4d8d6b5319"
      },
      "source": [
        "# Task 7\n",
        "\n",
        "# YOUR CODE HERE\n",
        "\n",
        "calc1_p_a_given_b = p_a_and_b / p_b\n",
        "print (calc1_p_a_given_b, p_a_given_b )\n",
        "\n",
        "print('The calculated value of P(A|B) is:', calc1_p_a_given_b)"
      ],
      "execution_count": 49,
      "outputs": [
        {
          "output_type": "stream",
          "text": [
            "0.6368089868659994 0.6296296296296297\n",
            "The calculated value of P(A|B) is: 0.6368089868659994\n"
          ],
          "name": "stdout"
        }
      ]
    },
    {
      "cell_type": "markdown",
      "metadata": {
        "id": "9bWUcoWoJwpn"
      },
      "source": [
        "**Task 7 - Test**"
      ]
    },
    {
      "cell_type": "code",
      "metadata": {
        "deletable": false,
        "editable": false,
        "nbgrader": {
          "cell_type": "code",
          "checksum": "9a366f105909db5fe00c441ce4d27f20",
          "grade": true,
          "grade_id": "cell-04815f7901139e23",
          "locked": true,
          "points": 1,
          "schema_version": 3,
          "solution": false,
          "task": false
        },
        "id": "Os91pOY3Jwpn"
      },
      "source": [
        "# Task 7 - Test\n",
        "# Hidden tests - you will see the results when you submit to Canvas"
      ],
      "execution_count": null,
      "outputs": []
    },
    {
      "cell_type": "markdown",
      "metadata": {
        "id": "M2pRVt7ADsFk"
      },
      "source": [
        "**Task 8**\n",
        "\n",
        "Finally, we're at the last calculation! We want to calculate P(A|B) again, using Bayes' Theorem:\n",
        "\n",
        "$$P(A|B) = \\frac{P(B|A)P(A)}{P(B)}$$\n",
        "\n",
        "* calculate the value of P(A|B) and assign it to the variable `calc2_p_a_given_b` (*notice the new variable name*)\n",
        "* compare it to your value from Task 5 by testing if p_a_given_b is equal to `calc2_p_a_given_b` (again, use an assert statement)"
      ]
    },
    {
      "cell_type": "code",
      "metadata": {
        "deletable": false,
        "nbgrader": {
          "cell_type": "code",
          "checksum": "8076b6d8ba94230f061309165e69793f",
          "grade": false,
          "grade_id": "cell-c917c91e48739649",
          "locked": false,
          "schema_version": 3,
          "solution": true,
          "task": false
        },
        "id": "M-gbSjMKJwpo",
        "colab": {
          "base_uri": "https://localhost:8080/"
        },
        "outputId": "f1a0b232-2b65-4a0b-8f18-4b45d91ad022"
      },
      "source": [
        "# Task 8\n",
        "\n",
        "# YOUR CODE HERE\n",
        "calc2_p_a_given_b = p_b_given_a*p_a/p_b\n",
        "print (calc2_p_a_given_b, p_a_given_b)\n",
        "print(\"The calculated value of P(A|B) using Bayes' Theorem is:\", calc2_p_a_given_b)"
      ],
      "execution_count": 51,
      "outputs": [
        {
          "output_type": "stream",
          "text": [
            "0.6296296296296297 0.6296296296296297\n",
            "The calculated value of P(A|B) using Bayes' Theorem is: 0.6296296296296297\n"
          ],
          "name": "stdout"
        }
      ]
    },
    {
      "cell_type": "markdown",
      "metadata": {
        "id": "TllECS_iJwpo"
      },
      "source": [
        "**Task 8 - Test**"
      ]
    },
    {
      "cell_type": "code",
      "metadata": {
        "deletable": false,
        "editable": false,
        "nbgrader": {
          "cell_type": "code",
          "checksum": "a68e7ec1b39475a43e811b40bede5c1f",
          "grade": true,
          "grade_id": "cell-5b3ded4417bd9d18",
          "locked": true,
          "points": 1,
          "schema_version": 3,
          "solution": false,
          "task": false
        },
        "id": "0MRF5e3IJwpp"
      },
      "source": [
        "# Task 8 - Test\n",
        "# Hidden tests - you will see the results when you submit to Canvas"
      ],
      "execution_count": 53,
      "outputs": []
    },
    {
      "cell_type": "markdown",
      "metadata": {
        "id": "SB1m04Zf16Lo"
      },
      "source": [
        "## Part B\n",
        "\n",
        "### Hogwarts Sorting Hat and Conditional Probabilities\n",
        "\n",
        "Use the following information to complete Tasks 9 - 13\n",
        "\n",
        "\n",
        "Students arriving at Hogwarts are sorted into one of the four residential houses -- Gryffindor, Hufflepuff, Ravenclaw, and Slytherin -- by the magical Sorting Hat.\n",
        "\n",
        "In theory, the Hat is supposed to examine each student's personality, consider his or her wishes, and then place the student into the most appropriate house. However, after a thousand years, the Hat has gotten pretty lazy, so it has simplified its sorting process into a two-step algorithm:\n",
        "\n",
        "* All evil students go into Slytherin, obviously.\n",
        "\n",
        "* Everybody else is just randomly sorted into one of the four houses, with a 40% probability of being put into Hufflepuff and a 20% probability of being put into each of the three other houses.\n",
        "\n",
        "Hermione is shocked when she's sorted into Slytherin! She's never thought of herself as evil, but now that she considers it, becoming the future Dark Lady of Magical Britain does have some appeal...\n",
        "\n",
        "**If 10% of new Hogwarts students are evil, what is the probability that a randomly chosen Slytherin is evil?**\n",
        "\n",
        "*Hint: the value you want is P(Evil | Slytherin).*"
      ]
    },
    {
      "cell_type": "markdown",
      "metadata": {
        "id": "TB-dEdYIvXev"
      },
      "source": [
        "**Task 9** - Write out probability steps\n",
        "\n",
        "Show the intermediate step that allows us to write: \n",
        "\n",
        "$$P(Evil|Slytherin)= \\frac{P(Slytherin|Evil)P(Evil)}{P(Slytherin)}$$\n",
        "\n",
        "* this Task is not autograded; write out your steps in the following markdown cell"
      ]
    },
    {
      "cell_type": "markdown",
      "metadata": {
        "id": "9DKUPx_gJwpp"
      },
      "source": [
        "**Task 9** - ANSWER\n",
        "\n",
        "***P(H-not evil) = 0.4 *** \n",
        "***P(G-not evil), P(R-not evil), P(S-not evil) = 0.2*0.9 ***\n",
        "***P(S|Evil) = 1 ***\n",
        "***P(Evil|Hogwarts) = 0.1 ***"
      ]
    },
    {
      "cell_type": "markdown",
      "metadata": {
        "id": "HzceET6m6qH-"
      },
      "source": [
        "**Task 10** - Determine P(Slytherin|Evil)\n",
        "\n",
        "Using the description in Part B above, determine P(Slytherin|Evil)\n",
        "\n",
        "* assign your value to the variable `p_slytherin_given_evil`"
      ]
    },
    {
      "cell_type": "code",
      "metadata": {
        "deletable": false,
        "nbgrader": {
          "cell_type": "code",
          "checksum": "354796566a2c53dc24495ccba5ca8cc1",
          "grade": false,
          "grade_id": "cell-261fe68593bd204f",
          "locked": false,
          "schema_version": 3,
          "solution": true,
          "task": false
        },
        "id": "yGAwEmmHJwpq",
        "colab": {
          "base_uri": "https://localhost:8080/"
        },
        "outputId": "606fd092-322f-48d1-f705-b8b42502b694"
      },
      "source": [
        "# Task 10\n",
        "\n",
        "# YOUR CODE HERE\n",
        "\n",
        "p_slytherin_given_evil = 1\n",
        "\n",
        "print(\"The probability of being Slytherin given a student is evil is:\", p_slytherin_given_evil)"
      ],
      "execution_count": 54,
      "outputs": [
        {
          "output_type": "stream",
          "text": [
            "The probability of being Slytherin given a student is evil is: 1\n"
          ],
          "name": "stdout"
        }
      ]
    },
    {
      "cell_type": "markdown",
      "metadata": {
        "id": "GRAmr_SvJwpq"
      },
      "source": [
        "**Task 10 - Test**"
      ]
    },
    {
      "cell_type": "code",
      "metadata": {
        "deletable": false,
        "editable": false,
        "nbgrader": {
          "cell_type": "code",
          "checksum": "a4b2132c1b2837629b2c0cf2ac6388da",
          "grade": true,
          "grade_id": "cell-5ea3c604f8c46a38",
          "locked": true,
          "points": 1,
          "schema_version": 3,
          "solution": false,
          "task": false
        },
        "id": "V9kMv5m5Jwpq"
      },
      "source": [
        "# Task 10 - Test\n",
        "# Hidden tests - you will see the results when you submit to Canvas"
      ],
      "execution_count": null,
      "outputs": []
    },
    {
      "cell_type": "markdown",
      "metadata": {
        "id": "J5tvhwT662fm"
      },
      "source": [
        "**Task 11** - Determine P(Evil)\n",
        "\n",
        "Using the description in Part B above, determine P(Evil)\n",
        "\n",
        "* assign your value to the variable `p_evil`"
      ]
    },
    {
      "cell_type": "code",
      "metadata": {
        "deletable": false,
        "nbgrader": {
          "cell_type": "code",
          "checksum": "d9fa35e322f690a6c3211fab91abad2f",
          "grade": false,
          "grade_id": "cell-6c3502e03a1033ff",
          "locked": false,
          "schema_version": 3,
          "solution": true,
          "task": false
        },
        "id": "DjwNogU_Jwpq",
        "colab": {
          "base_uri": "https://localhost:8080/"
        },
        "outputId": "198bd8ad-ce83-4e58-fec0-3fa3078e8ff0"
      },
      "source": [
        "# Task 11\n",
        "\n",
        "# YOUR CODE HERE\n",
        "p_evil = 0.1\n",
        "\n",
        "print(\"The probability of being an evil student is:\", p_evil)"
      ],
      "execution_count": 55,
      "outputs": [
        {
          "output_type": "stream",
          "text": [
            "The probability of being an evil student is: 0.1\n"
          ],
          "name": "stdout"
        }
      ]
    },
    {
      "cell_type": "markdown",
      "metadata": {
        "id": "c_ZUZzrhJwpr"
      },
      "source": [
        "**Task 11 - Test**"
      ]
    },
    {
      "cell_type": "code",
      "metadata": {
        "deletable": false,
        "editable": false,
        "id": "XqjOJXAz67fe",
        "nbgrader": {
          "cell_type": "code",
          "checksum": "6169e3a8b73f62b9867075c2781dde39",
          "grade": true,
          "grade_id": "cell-e2ec0f21d4609dfd",
          "locked": true,
          "points": 1,
          "schema_version": 3,
          "solution": false,
          "task": false
        }
      },
      "source": [
        "# Task 11 - Test\n",
        "# Hidden tests - you will see the results when you submit to Canvas"
      ],
      "execution_count": null,
      "outputs": []
    },
    {
      "cell_type": "markdown",
      "metadata": {
        "id": "rbNyx9Pd6_ze"
      },
      "source": [
        "**Task 12** - Determine P(Slytherin)\n",
        "\n",
        "Hint: This is a little tricky.  This is equal to the probability of a student being evil (and therefore being sorted into Slytherin) **added to** the probability of not being evil and being sorted into Slytherin.\n",
        "\n",
        "* assign the value of P(NOT Evil and Slytherin) to `p_not_evil_and_slytherin`\n",
        "* calculate the value of P(Slytherin) and assign it to `p_slytherin`"
      ]
    },
    {
      "cell_type": "code",
      "metadata": {
        "deletable": false,
        "nbgrader": {
          "cell_type": "code",
          "checksum": "23c2cc8519790f4283bdb8f8daa17d5d",
          "grade": false,
          "grade_id": "cell-4901b7dcdcfe8395",
          "locked": false,
          "schema_version": 3,
          "solution": true,
          "task": false
        },
        "id": "ZRrtAlYEJwpr",
        "colab": {
          "base_uri": "https://localhost:8080/"
        },
        "outputId": "c6e67005-46ae-45b6-8272-a42114b6196e"
      },
      "source": [
        "# Task 12\n",
        "\n",
        "# YOUR CODE HERE\n",
        "p_not_evil_and_slytherin = 0.2*0.9\n",
        "p_slytherin = p_not_evil_and_slytherin+p_evil\n",
        "\n",
        "print(\"The probability of being an Slytherin student is:\", p_slytherin)"
      ],
      "execution_count": 56,
      "outputs": [
        {
          "output_type": "stream",
          "text": [
            "The probability of being an Slytherin student is: 0.28\n"
          ],
          "name": "stdout"
        }
      ]
    },
    {
      "cell_type": "markdown",
      "metadata": {
        "id": "E_kECY35Jwps"
      },
      "source": [
        "**Task 12 - Test**"
      ]
    },
    {
      "cell_type": "code",
      "metadata": {
        "deletable": false,
        "editable": false,
        "nbgrader": {
          "cell_type": "code",
          "checksum": "eac335f215b9109dd8e1560e725cb72a",
          "grade": true,
          "grade_id": "cell-eb712e5d7e1db780",
          "locked": true,
          "points": 1,
          "schema_version": 3,
          "solution": false,
          "task": false
        },
        "id": "HGSvD9fyJwps"
      },
      "source": [
        "# Task 12 - Test\n",
        "# Hidden tests - you will see the results when you submit to Canvas"
      ],
      "execution_count": null,
      "outputs": []
    },
    {
      "cell_type": "markdown",
      "metadata": {
        "id": "K_hfqxQg7pZo"
      },
      "source": [
        "**Task 13** - Calculate P(Evil|Slytherin)\n",
        "\n",
        "We have arrived at the final Sorting Hat calculation! Now, we're are going to calculate the probability of P(Evil|Slytherin) using the following equation:\n",
        "\n",
        "$$P(Evil|Slytherin)= \\frac{P(Slytherin|Evil)P(Evil)}{P(Slytherin)}$$\n",
        "\n",
        "* calculate P(Evil|Slytherin) and assign it to `p_evil_given_slytherin`"
      ]
    },
    {
      "cell_type": "code",
      "metadata": {
        "deletable": false,
        "nbgrader": {
          "cell_type": "code",
          "checksum": "fb079c77bb6d78ddc7636805eac75209",
          "grade": false,
          "grade_id": "cell-8739d8cd9cb5d70e",
          "locked": false,
          "schema_version": 3,
          "solution": true,
          "task": false
        },
        "id": "FPQ-H-VcJwps",
        "colab": {
          "base_uri": "https://localhost:8080/"
        },
        "outputId": "69c785c0-08ef-4d20-c913-32504a93fb88"
      },
      "source": [
        "# Task 13\n",
        "\n",
        "# YOUR CODE HERE\n",
        "p_evil_given_slytherin = p_slytherin_given_evil * p_evil / p_slytherin\n",
        "print (p_evil_given_slytherin)\n"
      ],
      "execution_count": 57,
      "outputs": [
        {
          "output_type": "stream",
          "text": [
            "0.35714285714285715\n"
          ],
          "name": "stdout"
        }
      ]
    },
    {
      "cell_type": "markdown",
      "metadata": {
        "id": "Faj73Z2eJwps"
      },
      "source": [
        "**Task 13 - Test**"
      ]
    },
    {
      "cell_type": "code",
      "metadata": {
        "deletable": false,
        "editable": false,
        "id": "xMt0fykG7_BR",
        "nbgrader": {
          "cell_type": "code",
          "checksum": "355ac95a73cd869948cb4a96dabf5dc4",
          "grade": true,
          "grade_id": "cell-aa9312dca132f04b",
          "locked": true,
          "points": 1,
          "schema_version": 3,
          "solution": false,
          "task": false
        }
      },
      "source": [
        "# Task 13 - Test\n",
        "# Hidden tests - you will see the results when you submit to Canvas"
      ],
      "execution_count": null,
      "outputs": []
    }
  ]
}