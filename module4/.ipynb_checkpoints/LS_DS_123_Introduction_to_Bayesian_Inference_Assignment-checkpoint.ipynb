{
 "cells": [
  {
   "cell_type": "markdown",
   "metadata": {
    "colab_type": "text",
    "id": "view-in-github"
   },
   "source": [
    "<a href=\"https://colab.research.google.com/github/ryanleeallred/DS-Unit-1-Sprint-2-Statistics/blob/master/module3/LS_DS_123_Introduction_to_Bayesian_Inference_Assignment.ipynb\" target=\"_parent\"><img src=\"https://colab.research.google.com/assets/colab-badge.svg\" alt=\"Open In Colab\"/></a>"
   ]
  },
  {
   "cell_type": "markdown",
   "metadata": {
    "colab_type": "text",
    "id": "H7OLbevlbd_Z"
   },
   "source": [
    "# Lambda School Data Science Module 123\n",
    "\n",
    "## Introduction to Bayesian Inference\n",
    "\n",
    "\n"
   ]
  },
  {
   "cell_type": "markdown",
   "metadata": {
    "colab_type": "text",
    "id": "P-DzzRk5bf0z"
   },
   "source": [
    "## Assignment - Code it up!\n",
    "\n",
    "We used pure math to apply Bayes Theorem to drug tests. Now write Python code to reproduce the results! This is purposefully open ended - you'll have to think about how you should represent probabilities and events. You can and should look things up.\n",
    "\n",
    "Specific goals/targets:\n",
    "\n",
    "### 1) Write a function \n",
    "\n",
    "`def prob_drunk_given_positive(prob_drunk_prior, false_positive_rate, true_positive_rate):` \n",
    "\n",
    "You should only truly need these two values in order to apply Bayes Theorem. In this example, imagine that individuals are taking a breathalyzer test with an 8% false positive rate, a 100% true positive rate, and that our prior belief about drunk driving in the population is 1/1000. \n",
    " - What is the probability that a person is drunk after one positive breathalyzer test?\n",
    " - What is the probability that a person is drunk after two positive breathalyzer tests?\n",
    " - How many positive breathalyzer tests are needed in order to have a probability that's greater than 95% that a person is drunk beyond the legal limit?\n",
    "\n",
    "### 2) Explore `scipy.stats.bayes_mvs`  \n",
    "Read its documentation, and experiment with it on data you've tested in other ways earlier this week.\n",
    " - Create a visualization comparing the results of a Bayesian approach to a traditional/frequentist approach. (with a large sample size they should look close to identical, however, take this opportunity to practice visualizing condfidence intervals in general. The following are some potential ways that you could visualize confidence intervals on your graph:\n",
    "  - [Matplotlib Error Bars](https://matplotlib.org/3.1.1/api/_as_gen/matplotlib.pyplot.errorbar.html)\n",
    "  - [Seaborn barplot with error bars](https://seaborn.pydata.org/generated/seaborn.barplot.html)\n",
    "  - [Vertical ines to show bounds of confidence interval](https://www.simplypsychology.org/confidence-interval.jpg)\n",
    "  - [Confidence Intervals on Box Plots](https://matplotlib.org/3.1.1/api/_as_gen/matplotlib.axes.Axes.boxplot.html)\n",
    "\n",
    "### 3) In your own words, summarize the difference between Bayesian and Frequentist statistics\n",
    "\n",
    "If you're unsure where to start, check out [this  blog post of Bayes theorem with Python](https://dataconomy.com/2015/02/introduction-to-bayes-theorem-with-python/).\n",
    "\n",
    "\n"
   ]
  },
  {
   "cell_type": "code",
   "execution_count": 48,
   "metadata": {
    "colab": {},
    "colab_type": "code",
    "id": "xpVhZyUnbf7o"
   },
   "outputs": [
    {
     "data": {
      "text/plain": [
       "0.012357884330202669"
      ]
     },
     "execution_count": 48,
     "metadata": {},
     "output_type": "execute_result"
    }
   ],
   "source": [
    "# 1  #implement bayes in python function \n",
    "\n",
    "def prob_drunk_given_positive(prob_drunk_prior, false_positive_rate, true_positive_rate):\n",
    "    return true_positive_rate * prob_drunk_prior / (prob_drunk_prior * true_positive_rate + false_positive_rate*(1-prob_drunk_prior))\n",
    "\n",
    "r = prob_drunk_given_positive(0.001, .08 , 1)\n",
    "r"
   ]
  },
  {
   "cell_type": "code",
   "execution_count": 49,
   "metadata": {},
   "outputs": [
    {
     "name": "stdout",
     "output_type": "stream",
     "text": [
      "0.012357884330202669\n",
      "probability that a person is drunk after two positive breathalyzer tests:  0.13525210993291495\n",
      "...after THREE:  0.6615996951348605\n",
      "0.6615996951348605  <= wow!, busted.. moral of the story: \n",
      " \t \t\t if you take a breathalizer and test positive 1x stop while you're ahead \n",
      "\t \t\t  and you can then argue about the value of prior in court!\n",
      "0.13525210993291495 2 2\n",
      "0.6615996951348605 3 3\n",
      "0.9606895076105054 4 4\n",
      "\n",
      "\n",
      " 4  tests are sufficient to obtain the probability youre drunk is  0.95 \n",
      " P(drunk)=  0.9606895076105054\n"
     ]
    }
   ],
   "source": [
    "# answer the questions\n",
    "prob_drunk_prior = 0.001   # P(drunk) #P(sober) = .999\n",
    "false_positive_rate =  0.08  # P(pos | not drunk)\n",
    "true_positive_rate = 1    # this is P(pos | drunk)  \n",
    "\n",
    "result1 = prob_drunk_given_positive(prob_drunk_prior, false_positive_rate, true_positive_rate)\n",
    "\n",
    "# \"What is the probability that a person is drunk after one positive breathalyzer test?: \"\n",
    "print(result1)\n",
    "\n",
    "# What is the probability that a person is drunk after two positive breathalyzer tests?\n",
    "result2 = prob_drunk_given_positive(result1, false_positive_rate, true_positive_rate) #given that we tested + once we \n",
    "                                #    ^^^^^^^ we sub the resulting P(drunk) after 1 test as the prior prob \n",
    "print(\"probability that a person is drunk after two positive breathalyzer tests: \", result2)\n",
    "result3 = prob_drunk_given_positive(result2, false_positive_rate, true_positive_rate)\n",
    "print(\"...after THREE: \", result3)\n",
    "print(result3,\" <= wow!, busted.. moral of the story: \\n \\t \\t\\t if you take a breathalizer and test positive 1x stop while you're ahead \\n\\t \\t\\t  and you can then argue about the value of prior in court!\")\n",
    "\n",
    "# How many positive breathalyzer tests are needed in order to have a probability that's greater than 95% that a person is drunk beyond the legal limit?\n",
    "  # 3 positive tests are sufficient\n",
    "\n",
    "\n",
    "def drunk_ntests(pr, fp, tp, numtests): #function runs n tests and return probability of drunk given prior results\n",
    "    prior  = pr #setup\n",
    "    i = 1 \n",
    "    while i <= numtests:\n",
    "         prior = prob_drunk_given_positive(prior, false_positive_rate, true_positive_rate)\n",
    "         i += 1\n",
    "    return (prior, numtests)\n",
    "\n",
    "confidence = 0.95\n",
    "\n",
    "# use the prev function to keep running tests until we hit a target probability \n",
    "def findntest(targetc):\n",
    "    targetc = confidence\n",
    "    i = 1\n",
    "    p, numtests = drunk_ntests(0.001, 0.08, 1, i)    #run 1x and check\n",
    "    while p <= (targetc):\n",
    "        i += 1\n",
    "        p, numtests = drunk_ntests(0.001, 0.08, 1, i)\n",
    "        print(p, numtests, i)\n",
    "    print('\\n\\n', numtests, ' tests are sufficient to obtain the probability youre drunk is ', targetc, '\\n P(drunk)= ', p)\n",
    "    \n",
    "findntest(0.85)"
   ]
  },
  {
   "cell_type": "code",
   "execution_count": 50,
   "metadata": {},
   "outputs": [
    {
     "data": {
      "text/plain": [
       "0.012345679012345692"
      ]
     },
     "execution_count": 50,
     "metadata": {},
     "output_type": "execute_result"
    }
   ],
   "source": [
    "#this came up, i'm not 100% sure i have a generalized understanding of the application... see below\n",
    "#whats the prob that you are drunk after testing positive and then negative IF the test is only 99.9% accurate\n",
    "fail1 = prob_drunk_given_positive(prob_drunk_prior ,false_positive_rate, .999)\n",
    "fail2 =  ((1-0.999)* fail1) / .001                 # not sure about this..yeah it was jacked up due to an error in\n",
    "fail2  #still not sure about this, but dont have ti"
   ]
  },
  {
   "cell_type": "code",
   "execution_count": 108,
   "metadata": {},
   "outputs": [
    {
     "name": "stdout",
     "output_type": "stream",
     "text": [
      "(1599, 12)\n",
      "red  (2.469646316555691, 2.53880550343965, 2.607964690323609)\n",
      "white  (6.249335746564006, 6.391414863209474, 6.533493979854942)\n",
      "Mean(statistic=6.391414863209474, minmax=(6.249385364278425, 6.533444362140522))\n"
     ]
    },
    {
     "data": {
      "image/png": "[encoded data removed]",
      "text/plain": [
       "<Figure size 432x288 with 1 Axes>"
      ]
     },
     "metadata": {
      "needs_background": "light"
     },
     "output_type": "display_data"
    }
   ],
   "source": [
    "from scipy import stats\n",
    "import numpy as np\n",
    "import pandas as pd\n",
    "import matplotlib.pyplot as plt\n",
    "\n",
    "data= []\n",
    "dfw = pd.read_csv(\"https://archive.ics.uci.edu/ml/machine-learning-databases/wine-quality/winequality-white.csv\", delimiter=';')\n",
    "\n",
    "dfr = pd.read_csv(\"https://archive.ics.uci.edu/ml/machine-learning-databases/wine-quality/winequality-red.csv\", delimiter=';')\n",
    "print (dfr.shape)\n",
    "\n",
    "dfr['residual sugar'].mean()\n",
    "dfw['residual sugar'].mean()\n",
    "\n",
    "def confidence_interval(data, confidence=0.95):\n",
    "  \"\"\"\n",
    "  Calculate a confidence interval around a sample mean for given data.\n",
    "  Using t-distribution and two-tailed test, default 95% confidence. \n",
    "  \n",
    "  Arguments:\n",
    "    data - iterable (list or numpy array) of sample observations\n",
    "    confidence - level of confidence for the interval\n",
    "  \n",
    "  Returns:\n",
    "    tuple of (lower bound, mean,  upper bound) \n",
    "  \"\"\"\n",
    "  data = np.array(data)\n",
    "  mean = np.mean(data)\n",
    "  n = len(data)\n",
    "  # pass extra parameter (ddof=1) to calculate **sample** standard deviation\n",
    "  s = data.std(ddof=1)\n",
    "  stderr = s / np.sqrt(n)\n",
    "  # Lookup the t-statistic that corresponds to 95% area under the curve\n",
    "  # for my given degrees of freedom: 49\n",
    "  t = stats.t.ppf((1 + confidence) / 2.0, n - 1)\n",
    "  margin_of_error = t*stderr\n",
    "  return (mean - margin_of_error, mean, mean + margin_of_error)\n",
    "\n",
    "frqw = confidence_interval(dfw['residual sugar'])\n",
    "frqw\n",
    "frqr = confidence_interval(dfr['residual sugar'])\n",
    "print ('red ', frqr)\n",
    "print('white ', frqw)\n",
    "#st.bayes_mvs(data, alpha=0.9)\n",
    "bayesian, _, _ = stats.bayes_mvs(dfw['residual sugar'], alpha=.95)    \n",
    "print(bayesian)                                 #this is the bayesian confidence interval for white wines\n",
    "                                                \n",
    "\n",
    "## plot frequentist confidence int\n",
    "dfw['residual sugar'].plot.density()\n",
    "dfr['residual sugar'].plot.density()\n",
    "\n",
    "plt.axvline(frqr[0],color='red') #lb\n",
    "plt.axvline(frqr[1],color='green') #mean\n",
    "plt.axvline(frqr[2],color='red')\n",
    "plt.text(x=2.7,y=0.65, s='red')\n",
    "\n",
    "plt.axvline(frqw[0],color='blue') #lb\n",
    "plt.axvline(frqw[1],color='green') #mean\n",
    "plt.axvline(frqw[2],color='blue') \n",
    "plt.xlim(0,8)\n",
    "plt.text(x=6.7,y=0.12, s='white')\n",
    "plt.title('density plot of residual sugars, w/ frequentist confidence intervals')\n",
    "plt.show()\n",
    "dfr['residual sugar'].plot.density()\n",
    "\n",
    "##TODO fix x axis"
   ]
  },
  {
   "cell_type": "code",
   "execution_count": 122,
   "metadata": {},
   "outputs": [
    {
     "name": "stdout",
     "output_type": "stream",
     "text": [
      "6.249385364278425\n"
     ]
    },
    {
     "data": {
      "image/png": "[encoded data removed]",
      "text/plain": [
       "<Figure size 432x288 with 1 Axes>"
      ]
     },
     "metadata": {
      "needs_background": "light"
     },
     "output_type": "display_data"
    }
   ],
   "source": [
    "print(bayesian[1][0])\n",
    "dfw['residual sugar'].plot.density()\n",
    "\n",
    "\n",
    "plt.axvline(bayesian[1][0],color='blue') # bayesian lb\n",
    "plt.axvline(bayesian[0],color='green') # bayesian mean\n",
    "plt.axvline(bayesian[1][1],color='blue') \n",
    "plt.xlim(0,8)\n",
    "plt.text(x=bayesian[1][0],y=0.02, s='lowerbound',ha='right')\n",
    "plt.text(x=bayesian[1][1],y=0.07, s='upper bound')\n",
    "plt.text(x=6.7,y=0.12, s='whitewine')\n",
    "plt.title('density plot of residual sugars, w/ bayesian confidence intervals')\n",
    "plt.show()\n"
   ]
  },
  {
   "cell_type": "markdown",
   "metadata": {},
   "source": [
    "### 3) In your own words, summarize the difference between Bayesian and Frequentist statistics\n",
    "\n",
    "Frequentist statistics deals with the frequency of occurrence of specific results, comparing sample data to a concept of a population--allowing us to infer from the sample to the larger population. \n",
    "\n",
    "Bayesian statistics frames the question differently, allowing us to talk about the probability that we obtain a result or the hypothesis is true. Bayesian statistics incorporates the notion of prior probabilities or beliefs, allowing one to account for previous results in the calculation."
   ]
  },
  {
   "cell_type": "markdown",
   "metadata": {
    "colab_type": "text",
    "id": "uWgWjp3PQ3Sq"
   },
   "source": [
    "## Resources"
   ]
  },
  {
   "cell_type": "markdown",
   "metadata": {
    "colab_type": "text",
    "id": "QRgHqmYIQ9qn"
   },
   "source": [
    "- [Worked example of Bayes rule calculation](https://en.wikipedia.org/wiki/Bayes'_theorem#Examples) (helpful as it fully breaks out the denominator)\n",
    "- [Source code for mvsdist in scipy](https://github.com/scipy/scipy/blob/90534919e139d2a81c24bf08341734ff41a3db12/scipy/stats/morestats.py#L139)"
   ]
  },
  {
   "cell_type": "markdown",
   "metadata": {
    "colab_type": "text",
    "id": "GP7Jv1XvwtkX"
   },
   "source": [
    "## Stretch Goals:\n",
    "\n",
    "- Go back and study the content from Modules 1 & 2 to make sure that you're really comfortable with them.\n",
    "- Apply a Bayesian technique to a problem you previously worked (in an assignment or project work) on from a frequentist (standard) perspective\n",
    "- Check out [PyMC3](https://docs.pymc.io/) (note this goes beyond hypothesis tests into modeling) - read the guides and work through some examples\n",
    "- Take PyMC3 further - see if you can build something with it!"
   ]
  },
  {
   "cell_type": "code",
   "execution_count": null,
   "metadata": {
    "colab": {},
    "colab_type": "code",
    "id": "iDi0eFr1x-v_"
   },
   "outputs": [],
   "source": []
  }
 ],
 "metadata": {
  "colab": {
   "include_colab_link": true,
   "name": "LS_DS_123_Introduction_to_Bayesian_Inference_Assignment.ipynb",
   "provenance": []
  },
  "kernelspec": {
   "display_name": "Python 3",
   "language": "python",
   "name": "python3"
  },
  "language_info": {
   "codemirror_mode": {
    "name": "ipython",
    "version": 3
   },
   "file_extension": ".py",
   "mimetype": "text/x-python",
   "name": "python",
   "nbconvert_exporter": "python",
   "pygments_lexer": "ipython3",
   "version": "3.7.4"
  }
 },
 "nbformat": 4,
 "nbformat_minor": 1
}
