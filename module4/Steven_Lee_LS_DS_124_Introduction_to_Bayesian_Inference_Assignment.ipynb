{
  "nbformat": 4,
  "nbformat_minor": 0,
  "metadata": {
    "colab": {
      "name": "Steven_Lee_LS_DS_124_Introduction_to_Bayesian_Inference_Assignment.ipynb",
      "provenance": [],
      "collapsed_sections": [],
      "include_colab_link": true
    },
    "kernelspec": {
      "name": "python3",
      "display_name": "Python 3"
    }
  },
  "cells": [
    {
      "cell_type": "markdown",
      "metadata": {
        "id": "view-in-github",
        "colab_type": "text"
      },
      "source": [
        "<a href=\"https://colab.research.google.com/github/StevenBryceLee/DS-Unit-1-Sprint-2-Statistics/blob/master/module4/Steven_Lee_LS_DS_124_Introduction_to_Bayesian_Inference_Assignment.ipynb\" target=\"_parent\"><img src=\"https://colab.research.google.com/assets/colab-badge.svg\" alt=\"Open In Colab\"/></a>"
      ]
    },
    {
      "cell_type": "markdown",
      "metadata": {
        "id": "H7OLbevlbd_Z",
        "colab_type": "text"
      },
      "source": [
        "# Lambda School Data Science Module 124\n",
        "\n",
        "## Introduction to Bayesian Inference\n",
        "\n",
        "\n"
      ]
    },
    {
      "cell_type": "markdown",
      "metadata": {
        "id": "P-DzzRk5bf0z",
        "colab_type": "text"
      },
      "source": [
        "## Assignment - Code it up!\n",
        "\n",
        "We used pure math to apply Bayes Theorem to drug tests. Now write Python code to reproduce the results! This is purposefully open ended - you'll have to think about how you should represent probabilities and events. You can and should look things up.\n",
        "\n",
        "Specific goals/targets:\n",
        "\n",
        "### 1) Write a function \n",
        "\n",
        "`def prob_drunk_given_positive(prob_drunk_prior, false_positive_rate, true_positive_rate):` \n",
        "\n",
        "You should only truly need these three values in order to apply Bayes Theorem. In this example, imagine that individuals are taking a breathalyzer test with an 8% false positive rate, a 100% true positive rate, and that our prior belief about drunk driving in the population is 1/1000. \n",
        " - What is the probability that a person is drunk after one positive breathalyzer test?\n",
        " - What is the probability that a person is drunk after two positive breathalyzer tests?\n",
        " - How many positive breathalyzer tests are needed in order to have a probability that's greater than 95% that a person is drunk beyond the legal limit?\n"
      ]
    },
    {
      "cell_type": "code",
      "metadata": {
        "id": "xpVhZyUnbf7o",
        "colab_type": "code",
        "colab": {}
      },
      "source": [
        "# TODO - code!\n",
        "def prob_drunk_given_positive(prob_drunk_prior, false_positive_rate, true_positive_rate):\n",
        "  '''\n",
        "  What is the probability that the user is drunk, given a false positive?\n",
        "  '''\n",
        "  #Numerator is the probability that a user is drunk, given a positive\n",
        "  #Denominator is the probability of seeing a drunk person\n",
        "  return ((prob_drunk_prior * true_positive_rate) \n",
        "  / (true_positive_rate * prob_drunk_prior \n",
        "     + false_positive_rate * (1 - prob_drunk_prior)))"
      ],
      "execution_count": 2,
      "outputs": []
    },
    {
      "cell_type": "code",
      "metadata": {
        "id": "ArwUJGAJMOSW",
        "colab_type": "code",
        "colab": {
          "base_uri": "https://localhost:8080/",
          "height": 34
        },
        "outputId": "c793b3dd-d9e0-4a9c-9ada-ee05e119d7dc"
      },
      "source": [
        "1/1000"
      ],
      "execution_count": 7,
      "outputs": [
        {
          "output_type": "execute_result",
          "data": {
            "text/plain": [
              "0.001"
            ]
          },
          "metadata": {
            "tags": []
          },
          "execution_count": 7
        }
      ]
    },
    {
      "cell_type": "code",
      "metadata": {
        "id": "PdZduEoFL1Bt",
        "colab_type": "code",
        "colab": {
          "base_uri": "https://localhost:8080/",
          "height": 34
        },
        "outputId": "5164561c-e901-484e-a776-d865c505f9aa"
      },
      "source": [
        "test1 = prob_drunk_given_positive(1/1000,0.08,1)\n",
        "test1"
      ],
      "execution_count": 5,
      "outputs": [
        {
          "output_type": "execute_result",
          "data": {
            "text/plain": [
              "0.012357884330202669"
            ]
          },
          "metadata": {
            "tags": []
          },
          "execution_count": 5
        }
      ]
    },
    {
      "cell_type": "code",
      "metadata": {
        "id": "_2wA7-6yMD7_",
        "colab_type": "code",
        "colab": {
          "base_uri": "https://localhost:8080/",
          "height": 34
        },
        "outputId": "194bfb5b-ec6f-4202-9c0e-e95da79c5baa"
      },
      "source": [
        "test2 = prob_drunk_given_positive(test1,0.08,1)\n",
        "test2"
      ],
      "execution_count": 6,
      "outputs": [
        {
          "output_type": "execute_result",
          "data": {
            "text/plain": [
              "0.13525210993291495"
            ]
          },
          "metadata": {
            "tags": []
          },
          "execution_count": 6
        }
      ]
    },
    {
      "cell_type": "markdown",
      "metadata": {
        "id": "nhOAsLjvCSLF",
        "colab_type": "text"
      },
      "source": [
        "### 2) In your own words, summarize the difference between Bayesian and Frequentist statistics\n",
        "\n",
        "If you're unsure where to start, check out [this blog post of Bayes theorem with Python](https://dataconomy.com/2015/02/introduction-to-bayes-theorem-with-python/)."
      ]
    },
    {
      "cell_type": "markdown",
      "metadata": {
        "id": "AADlIVfgDztY",
        "colab_type": "text"
      },
      "source": [
        "Bayesian statistics starts on what may be unequal footing with frequentists, since Bayes requires a prior belief, which is not given from a formula. Frequentist statistics require much more sampling in order to draw conclusions, which is more time intensive. Frequentist statistics also requires prior assumptions about the distribution of the data, which may not hold in practice."
      ]
    },
    {
      "cell_type": "markdown",
      "metadata": {
        "id": "AeAGBxWjCTv3",
        "colab_type": "text"
      },
      "source": [
        "### 3) Use the following Template to help come up with ideas for your Build Sprint Project: \n",
        "\n"
      ]
    },
    {
      "cell_type": "markdown",
      "metadata": {
        "id": "YgIaBr__C5Q2",
        "colab_type": "text"
      },
      "source": [
        "---\n",
        "\n",
        "## Idea 1: Which financial assets provide greater than average financial return?"
      ]
    },
    {
      "cell_type": "markdown",
      "metadata": {
        "id": "MwR6hTB1CiLR",
        "colab_type": "text"
      },
      "source": [
        "### You\n",
        "What do you care about?\n",
        "- Finance, real estate, risk\n",
        "\n",
        "What do you know about?\n",
        "- Real estate\n",
        "\n",
        "What decisions do you face?\n",
        "- What is the ideal way to invest, given my spare cash flow? How do I get more spare cash flow?\n",
        "\n"
      ]
    },
    {
      "cell_type": "markdown",
      "metadata": {
        "id": "d5owPwlSClm2",
        "colab_type": "text"
      },
      "source": [
        ""
      ]
    },
    {
      "cell_type": "markdown",
      "metadata": {
        "id": "lorLHSkzClzC",
        "colab_type": "text"
      },
      "source": [
        "### Seven templates\n",
        "Training Kit (https://learn.lambdaschool.com/ds/module/recedjanlbpqxic2r) explains the seven templates from Priceonomics.\n",
        "\n",
        "Can you apply the templates to your topics?\n",
        "\n",
        "**Geographic Variation:** \n",
        "\n",
        "**Trend related to the news:**\n",
        "\n",
        "**Who does that?:**\n",
        "\n",
        "**Answering a question people care about:**\n",
        "\n",
        "**Valuable to businesses:**\n",
        "\n",
        "**What's the most popular?:**\n",
        "\n",
        "**Cost/Money rankings:**"
      ]
    },
    {
      "cell_type": "markdown",
      "metadata": {
        "id": "cjxeN9D7Cygt",
        "colab_type": "text"
      },
      "source": [
        "1. Which cities in the United States have the highest ratio of median rent to home price?\n",
        "2. I don't really watch the news, and think financial news is really low quality in particular\n",
        "3. Everyone on Earth is involved in finance, real estate and risk. About a third of Americans own stock. I'm not sure how many own houses or other real estate. In jobs, increased risk appetite means starting your own company or working for a smaller company. Decreased risk appetite involves working for a larger, more stable company.\n",
        "4. How much does the median home cost correlate with income? How hard is it to change your income quintile based on where you live? How often do different zip codes do provide income dynamism? \n",
        "5. What are the most highly correlated variables with customer conversions? What variables are highly correlated with the vacancy rate in an area? Which health products are most popular among consumers?\n",
        "6. What are the most popular types of buildings to live in? Has the answer to that question changed since January, when the Corona virus started? Prediction: More people live in houses\n",
        "7. What are the most high value(return / price) financial products over the past 10 years? What is the average rate of return of the stock price for each sector of the economy over the past 10 years? What is the least expensive way to help the most people in poverty?"
      ]
    },
    {
      "cell_type": "markdown",
      "metadata": {
        "id": "3OXCCIT6C_p0",
        "colab_type": "text"
      },
      "source": [
        "### Misconceptions\n",
        "\n",
        "What misconceptions do people have about your topic?"
      ]
    },
    {
      "cell_type": "markdown",
      "metadata": {
        "id": "kZAkrgTUDCjF",
        "colab_type": "text"
      },
      "source": [
        "They overestimate how hard it is to make good financial decisions. They probably overestimate their ability to pick stocks. They underestimate the number of options available for investments."
      ]
    },
    {
      "cell_type": "markdown",
      "metadata": {
        "id": "3tNrndE9DD3-",
        "colab_type": "text"
      },
      "source": [
        "### Examples\n",
        "\n",
        "What data storytelling example inspires you?\n",
        "- I liked the storytelling of how Warren Buffett outperformed a group of 'very smart' people by investing and holding in a basket of S&P 500 stocks during the recession. \n",
        "\n",
        "Could you do a new hypothesis, for the same question?\n",
        "- I'm not sure. I think that picking stocks in a way that outperforms the market is really, really hard, but I think other financial assets might be less competitive. Perhaps: \"Are there other financial assets where paying a 'very smart' person to manage your money results in worse than random performance?\n",
        "\n",
        "Could you do a new question, for the same topic?\n",
        "- How and where do you invest in real estate? What are the highest rates of returns in real estate, given risk?\n",
        "\n",
        "Could you do a new topic, with the same \"style\"?\n",
        "- Is there any way to invest in a class of financial assets as a whole, rather than a specific financial asset? Could you invest in the U.S. housing market, rather than buying a house? Has that been done before, and what provides better returns on average?"
      ]
    },
    {
      "cell_type": "markdown",
      "metadata": {
        "id": "9rPtMFB6DN7B",
        "colab_type": "text"
      },
      "source": [
        "###Data\n",
        "\n",
        "Where could you search for data about your topic?"
      ]
    },
    {
      "cell_type": "markdown",
      "metadata": {
        "id": "s9hqjOlhDTDa",
        "colab_type": "text"
      },
      "source": [
        "I know HUD keeps housing data. The Census bureau keeps income data. Various financial institutions keep income data, housing data, rental data, and other long term returns"
      ]
    },
    {
      "cell_type": "markdown",
      "metadata": {
        "colab_type": "text",
        "id": "ld5MOaFaDVSK"
      },
      "source": [
        "---\n",
        "\n",
        "## Idea 2: What is the most effective way to donate money?"
      ]
    },
    {
      "cell_type": "markdown",
      "metadata": {
        "colab_type": "text",
        "id": "znhTWIlUDVSM"
      },
      "source": [
        "### You\n",
        "What do you care about?\n",
        "- I care about donating money to reduce human suffering\n",
        "\n",
        "What do you know about?\n",
        "- I know that many charities attempt to help people in poverty, but they must have different 'returns on investment'\n",
        "\n",
        "What decisions do you face?\n",
        "- If I had money, where would I want to donate that money in order to do the most good?\n"
      ]
    },
    {
      "cell_type": "markdown",
      "metadata": {
        "colab_type": "text",
        "id": "W-njBredDVSN"
      },
      "source": [
        "### Seven templates\n",
        "Training Kit (https://learn.lambdaschool.com/ds/module/recedjanlbpqxic2r) explains the seven templates from Priceonomics.\n",
        "\n",
        "Can you apply the templates to your topics?\n",
        "\n",
        "**Geographic Variation:**\n",
        "\n",
        "**Trend related to the news:**\n",
        "\n",
        "**Who does that?:**\n",
        "\n",
        "**Answering a question people care about:**\n",
        "\n",
        "**Valuable to businesses:**\n",
        "\n",
        "**What's the most popular?:**\n",
        "\n",
        "**Cost/Money rankings:**"
      ]
    },
    {
      "cell_type": "markdown",
      "metadata": {
        "colab_type": "text",
        "id": "pkOqHHL3DVSN"
      },
      "source": [
        "1. Helping people in poverty is far easier outside the United States than inside, as I'm guessing you can make someone's life a lot better if they are starving to death in Turkmenistan than if they at least have some options in the US. Therefore, the data should be concerned with people in the least developed countries.\n",
        "2. I think the news doesn't really cover important topics like this.\n",
        "3. In terms of 'who donates', I'm guessing its mostly a privileged group of people with a lot of spare cash, not people who are poor in the U.S. In terms of 'who needs help', I think they will be in areas without strong governments, medical care, agricultural support, clean water\n",
        "4. What is the most effective way to convince someone to donate money to a charitable cause? What is the most effective way to donate money?\n",
        "5. Not directly related. I suppose 'what is the most effective way to shape consumer perception of a company by donating?' 'What is the most effective way to get a large corporation to donate money?' 'What companies provide the best donation matches for their employees?'\n",
        "6. What are the most popular charities? Which charities have the most articles written about them?\n",
        "7. What is the cheapest way to help the most people? Which careers are the most effective for generating excess cash flow to donate? "
      ]
    },
    {
      "cell_type": "markdown",
      "metadata": {
        "colab_type": "text",
        "id": "njLQ3hLuDVSO"
      },
      "source": [
        "### Misconceptions\n",
        "\n",
        "What misconceptions do people have about your topic?"
      ]
    },
    {
      "cell_type": "markdown",
      "metadata": {
        "colab_type": "text",
        "id": "IzrUvaKeDVSO"
      },
      "source": [
        "I think people overestimate how expensive it is to save a life, or greatly increase the quality of a person's life. They also think that charity has to feel good, leading to giving your neighbor cookies rather than preventing a child from starving to death. "
      ]
    },
    {
      "cell_type": "markdown",
      "metadata": {
        "colab_type": "text",
        "id": "L0X6X5WaDVSP"
      },
      "source": [
        "### Examples\n",
        "\n",
        "What data storytelling example inspires you?\n",
        "- Peter Singer's book 'The Life You Can Save' convinced me that making a large amount of money and donating it is a good idea by showing how cheap saving a life is per dollar. Additionally, his arguments about animal cruelty made me not support factory farming.\n",
        "\n",
        "Could you do a new hypothesis, for the same question?\n",
        "- I think I could verify current data that is generated by 'givewell' on effective charities\n",
        "\n",
        "Could you do a new question, for the same topic?\n",
        "- Are there other parts of the world which cause huge amounts of human suffering and can be mitigated with low cost?\n",
        "\n",
        "Could you do a new topic, with the same \"style\"?\n",
        "- What if I only cared about U.S. citizens? How expensive is it to help someone in the United States compared to someone in the third world?"
      ]
    },
    {
      "cell_type": "markdown",
      "metadata": {
        "colab_type": "text",
        "id": "CxgSpiwYDVSQ"
      },
      "source": [
        "###Data\n",
        "Givewell has data on this. Most legitimate charities should contain data about their outcomes, but this might not always be true, difficult to verify even if true. Additionally, collecting data from each charity will be a manual, time intensive process and their metrics and collection methods might be different from one another, decreasing the quality of the analysis."
      ]
    },
    {
      "cell_type": "markdown",
      "metadata": {
        "id": "uWgWjp3PQ3Sq",
        "colab_type": "text"
      },
      "source": [
        "## Resources"
      ]
    },
    {
      "cell_type": "markdown",
      "metadata": {
        "id": "QRgHqmYIQ9qn",
        "colab_type": "text"
      },
      "source": [
        "- [Worked example of Bayes rule calculation](https://en.wikipedia.org/wiki/Bayes'_theorem#Examples) (helpful as it fully breaks out the denominator)\n",
        "- [Source code for mvsdist in scipy](https://github.com/scipy/scipy/blob/90534919e139d2a81c24bf08341734ff41a3db12/scipy/stats/morestats.py#L139)"
      ]
    },
    {
      "cell_type": "markdown",
      "metadata": {
        "id": "GP7Jv1XvwtkX",
        "colab_type": "text"
      },
      "source": [
        "## Stretch Goals:\n",
        "\n",
        "- Go back and study the content from Modules 1 & 2 & 3 to make sure that you're really comfortable with them.\n",
        "- Apply a Bayesian technique to a problem you previously worked (in an assignment or project work) on from a frequentist (standard) perspective\n",
        "- Check out [PyMC3](https://docs.pymc.io/) (note this goes beyond hypothesis tests into modeling) - read the guides and work through some examples\n",
        "- Take PyMC3 further - see if you can build something with it!"
      ]
    },
    {
      "cell_type": "code",
      "metadata": {
        "id": "I5s2IOPjoVTI",
        "colab_type": "code",
        "colab": {
          "base_uri": "https://localhost:8080/",
          "height": 266
        },
        "outputId": "e4b05513-3a68-41e9-e6df-1217df5fd9f7"
      },
      "source": [
        "#Apply a Bayesian technique to a problem you previously worked (in an assignment or project work) on from a frequentist (standard) perspective\n",
        "import pandas as pd\n",
        "url = 'https://archive.ics.uci.edu/ml/machine-learning-databases/voting-records/house-votes-84.data'\n",
        "cols = [\n",
        "        'Party',\n",
        "        'handicapped-infants',\n",
        "        'water-project-cost-sharing',\n",
        "        'adoption-of-the-budget-resolution',\n",
        "        'physician-fee-freeze',\n",
        "        'el-salvador-aid',\n",
        "        'religious-groups-in-schools',\n",
        "        'anti-satellite-test-ban',\n",
        "        'aid-to-nicaraguan-contras',\n",
        "        'mx-missile',\n",
        "        'immigration',\n",
        "        'synfuels-corporation-cutback',\n",
        "        'education-spending',\n",
        "        'superfund-right-to-sue',\n",
        "        'crime',\n",
        "        'duty-free-exports',\n",
        "        'export-administration-act-south-africa',\n",
        "        ]\n",
        "votes = pd.read_csv(url,names = cols,na_values='?')\n",
        "votes.head()"
      ],
      "execution_count": 13,
      "outputs": [
        {
          "output_type": "execute_result",
          "data": {
            "text/html": [
              "<div>\n",
              "<style scoped>\n",
              "    .dataframe tbody tr th:only-of-type {\n",
              "        vertical-align: middle;\n",
              "    }\n",
              "\n",
              "    .dataframe tbody tr th {\n",
              "        vertical-align: top;\n",
              "    }\n",
              "\n",
              "    .dataframe thead th {\n",
              "        text-align: right;\n",
              "    }\n",
              "</style>\n",
              "<table border=\"1\" class=\"dataframe\">\n",
              "  <thead>\n",
              "    <tr style=\"text-align: right;\">\n",
              "      <th></th>\n",
              "      <th>Party</th>\n",
              "      <th>handicapped-infants</th>\n",
              "      <th>water-project-cost-sharing</th>\n",
              "      <th>adoption-of-the-budget-resolution</th>\n",
              "      <th>physician-fee-freeze</th>\n",
              "      <th>el-salvador-aid</th>\n",
              "      <th>religious-groups-in-schools</th>\n",
              "      <th>anti-satellite-test-ban</th>\n",
              "      <th>aid-to-nicaraguan-contras</th>\n",
              "      <th>mx-missile</th>\n",
              "      <th>immigration</th>\n",
              "      <th>synfuels-corporation-cutback</th>\n",
              "      <th>education-spending</th>\n",
              "      <th>superfund-right-to-sue</th>\n",
              "      <th>crime</th>\n",
              "      <th>duty-free-exports</th>\n",
              "      <th>export-administration-act-south-africa</th>\n",
              "    </tr>\n",
              "  </thead>\n",
              "  <tbody>\n",
              "    <tr>\n",
              "      <th>0</th>\n",
              "      <td>republican</td>\n",
              "      <td>n</td>\n",
              "      <td>y</td>\n",
              "      <td>n</td>\n",
              "      <td>y</td>\n",
              "      <td>y</td>\n",
              "      <td>y</td>\n",
              "      <td>n</td>\n",
              "      <td>n</td>\n",
              "      <td>n</td>\n",
              "      <td>y</td>\n",
              "      <td>NaN</td>\n",
              "      <td>y</td>\n",
              "      <td>y</td>\n",
              "      <td>y</td>\n",
              "      <td>n</td>\n",
              "      <td>y</td>\n",
              "    </tr>\n",
              "    <tr>\n",
              "      <th>1</th>\n",
              "      <td>republican</td>\n",
              "      <td>n</td>\n",
              "      <td>y</td>\n",
              "      <td>n</td>\n",
              "      <td>y</td>\n",
              "      <td>y</td>\n",
              "      <td>y</td>\n",
              "      <td>n</td>\n",
              "      <td>n</td>\n",
              "      <td>n</td>\n",
              "      <td>n</td>\n",
              "      <td>n</td>\n",
              "      <td>y</td>\n",
              "      <td>y</td>\n",
              "      <td>y</td>\n",
              "      <td>n</td>\n",
              "      <td>NaN</td>\n",
              "    </tr>\n",
              "    <tr>\n",
              "      <th>2</th>\n",
              "      <td>democrat</td>\n",
              "      <td>NaN</td>\n",
              "      <td>y</td>\n",
              "      <td>y</td>\n",
              "      <td>NaN</td>\n",
              "      <td>y</td>\n",
              "      <td>y</td>\n",
              "      <td>n</td>\n",
              "      <td>n</td>\n",
              "      <td>n</td>\n",
              "      <td>n</td>\n",
              "      <td>y</td>\n",
              "      <td>n</td>\n",
              "      <td>y</td>\n",
              "      <td>y</td>\n",
              "      <td>n</td>\n",
              "      <td>n</td>\n",
              "    </tr>\n",
              "    <tr>\n",
              "      <th>3</th>\n",
              "      <td>democrat</td>\n",
              "      <td>n</td>\n",
              "      <td>y</td>\n",
              "      <td>y</td>\n",
              "      <td>n</td>\n",
              "      <td>NaN</td>\n",
              "      <td>y</td>\n",
              "      <td>n</td>\n",
              "      <td>n</td>\n",
              "      <td>n</td>\n",
              "      <td>n</td>\n",
              "      <td>y</td>\n",
              "      <td>n</td>\n",
              "      <td>y</td>\n",
              "      <td>n</td>\n",
              "      <td>n</td>\n",
              "      <td>y</td>\n",
              "    </tr>\n",
              "    <tr>\n",
              "      <th>4</th>\n",
              "      <td>democrat</td>\n",
              "      <td>y</td>\n",
              "      <td>y</td>\n",
              "      <td>y</td>\n",
              "      <td>n</td>\n",
              "      <td>y</td>\n",
              "      <td>y</td>\n",
              "      <td>n</td>\n",
              "      <td>n</td>\n",
              "      <td>n</td>\n",
              "      <td>n</td>\n",
              "      <td>y</td>\n",
              "      <td>NaN</td>\n",
              "      <td>y</td>\n",
              "      <td>y</td>\n",
              "      <td>y</td>\n",
              "      <td>y</td>\n",
              "    </tr>\n",
              "  </tbody>\n",
              "</table>\n",
              "</div>"
            ],
            "text/plain": [
              "        Party  ... export-administration-act-south-africa\n",
              "0  republican  ...                                      y\n",
              "1  republican  ...                                    NaN\n",
              "2    democrat  ...                                      n\n",
              "3    democrat  ...                                      y\n",
              "4    democrat  ...                                      y\n",
              "\n",
              "[5 rows x 17 columns]"
            ]
          },
          "metadata": {
            "tags": []
          },
          "execution_count": 13
        }
      ]
    },
    {
      "cell_type": "code",
      "metadata": {
        "id": "b-HFYR9noy_-",
        "colab_type": "code",
        "colab": {
          "base_uri": "https://localhost:8080/",
          "height": 206
        },
        "outputId": "33ef3b69-4cc4-4f26-cfb0-3ae050fc210c"
      },
      "source": [
        "dems = votes[votes['Party'] == 'democrat'].drop('Party', axis = 1)\n",
        "dems.replace({'n':int(0),'y':int(1)},inplace=True)\n",
        "dems.head(3)"
      ],
      "execution_count": 14,
      "outputs": [
        {
          "output_type": "execute_result",
          "data": {
            "text/html": [
              "<div>\n",
              "<style scoped>\n",
              "    .dataframe tbody tr th:only-of-type {\n",
              "        vertical-align: middle;\n",
              "    }\n",
              "\n",
              "    .dataframe tbody tr th {\n",
              "        vertical-align: top;\n",
              "    }\n",
              "\n",
              "    .dataframe thead th {\n",
              "        text-align: right;\n",
              "    }\n",
              "</style>\n",
              "<table border=\"1\" class=\"dataframe\">\n",
              "  <thead>\n",
              "    <tr style=\"text-align: right;\">\n",
              "      <th></th>\n",
              "      <th>handicapped-infants</th>\n",
              "      <th>water-project-cost-sharing</th>\n",
              "      <th>adoption-of-the-budget-resolution</th>\n",
              "      <th>physician-fee-freeze</th>\n",
              "      <th>el-salvador-aid</th>\n",
              "      <th>religious-groups-in-schools</th>\n",
              "      <th>anti-satellite-test-ban</th>\n",
              "      <th>aid-to-nicaraguan-contras</th>\n",
              "      <th>mx-missile</th>\n",
              "      <th>immigration</th>\n",
              "      <th>synfuels-corporation-cutback</th>\n",
              "      <th>education-spending</th>\n",
              "      <th>superfund-right-to-sue</th>\n",
              "      <th>crime</th>\n",
              "      <th>duty-free-exports</th>\n",
              "      <th>export-administration-act-south-africa</th>\n",
              "    </tr>\n",
              "  </thead>\n",
              "  <tbody>\n",
              "    <tr>\n",
              "      <th>2</th>\n",
              "      <td>NaN</td>\n",
              "      <td>1.0</td>\n",
              "      <td>1.0</td>\n",
              "      <td>NaN</td>\n",
              "      <td>1.0</td>\n",
              "      <td>1.0</td>\n",
              "      <td>0.0</td>\n",
              "      <td>0.0</td>\n",
              "      <td>0.0</td>\n",
              "      <td>0.0</td>\n",
              "      <td>1.0</td>\n",
              "      <td>0.0</td>\n",
              "      <td>1.0</td>\n",
              "      <td>1.0</td>\n",
              "      <td>0.0</td>\n",
              "      <td>0.0</td>\n",
              "    </tr>\n",
              "    <tr>\n",
              "      <th>3</th>\n",
              "      <td>0.0</td>\n",
              "      <td>1.0</td>\n",
              "      <td>1.0</td>\n",
              "      <td>0.0</td>\n",
              "      <td>NaN</td>\n",
              "      <td>1.0</td>\n",
              "      <td>0.0</td>\n",
              "      <td>0.0</td>\n",
              "      <td>0.0</td>\n",
              "      <td>0.0</td>\n",
              "      <td>1.0</td>\n",
              "      <td>0.0</td>\n",
              "      <td>1.0</td>\n",
              "      <td>0.0</td>\n",
              "      <td>0.0</td>\n",
              "      <td>1.0</td>\n",
              "    </tr>\n",
              "    <tr>\n",
              "      <th>4</th>\n",
              "      <td>1.0</td>\n",
              "      <td>1.0</td>\n",
              "      <td>1.0</td>\n",
              "      <td>0.0</td>\n",
              "      <td>1.0</td>\n",
              "      <td>1.0</td>\n",
              "      <td>0.0</td>\n",
              "      <td>0.0</td>\n",
              "      <td>0.0</td>\n",
              "      <td>0.0</td>\n",
              "      <td>1.0</td>\n",
              "      <td>NaN</td>\n",
              "      <td>1.0</td>\n",
              "      <td>1.0</td>\n",
              "      <td>1.0</td>\n",
              "      <td>1.0</td>\n",
              "    </tr>\n",
              "  </tbody>\n",
              "</table>\n",
              "</div>"
            ],
            "text/plain": [
              "   handicapped-infants  ...  export-administration-act-south-africa\n",
              "2                  NaN  ...                                     0.0\n",
              "3                  0.0  ...                                     1.0\n",
              "4                  1.0  ...                                     1.0\n",
              "\n",
              "[3 rows x 16 columns]"
            ]
          },
          "metadata": {
            "tags": []
          },
          "execution_count": 14
        }
      ]
    },
    {
      "cell_type": "code",
      "metadata": {
        "id": "pDz8tX8_o2PI",
        "colab_type": "code",
        "colab": {}
      },
      "source": [
        "import numpy as np\n",
        "from scipy import stats\n",
        "def confidence_interval(sample, alpha = 0.95):\n",
        "  '''\n",
        "  sample is the sample of data that we are using. 1 dimensional list or array\n",
        "  alpha is the confidence level. Using 95% as a default\n",
        "  returns tuple of upper and lower confidence interval around mean\n",
        "  requires numpy and scipy.stats modules\n",
        "  '''\n",
        "  #Convert to numpy array\n",
        "  data = np.array(sample)\n",
        "\n",
        "  #stdev for a SAMPLE, not a population by passing ddof=1\n",
        "  stdev = np.std(data, ddof=1)\n",
        "\n",
        "  sample_size = data.shape[0]\n",
        "  sample_mean = np.mean(data)\n",
        "\n",
        "  #T statistic. The function only looks up the positive, 1 tailed t stat\n",
        "  #Therefore, we take the percentile to 97.5% for the 1 tailed, which is equivalent\n",
        "  percentile =  1 - ((1 - alpha) / 2)\n",
        "  #The second parameter is degrees of freedom. Since this is a sample, we use n - 1 \n",
        "  t = stats.t.ppf(percentile, sample_size-1)\n",
        "  std_err = stdev / np.sqrt(sample_size)\n",
        "\n",
        "  #margin of error\n",
        "  moe = t*std_err\n",
        "\n",
        "  lower_bound = sample_mean - moe\n",
        "  upper_bound = sample_mean + moe\n",
        "  return (lower_bound,upper_bound)"
      ],
      "execution_count": 15,
      "outputs": []
    },
    {
      "cell_type": "code",
      "metadata": {
        "id": "YgMDMmc_pdiX",
        "colab_type": "code",
        "colab": {}
      },
      "source": [
        "def moe(sample, alpha = 0.95, ispop = False):\n",
        "  data = np.array(sample)\n",
        "\n",
        "  #stdev for a SAMPLE, not a population by passing ddof=1\n",
        "  stdev = np.std(data, ddof=1)\n",
        "  if ispop:\n",
        "    stdev = np.std(data)\n",
        "\n",
        "  sample_size = data.shape[0]\n",
        "  sample_mean = np.mean(data)\n",
        "\n",
        "  #T statistic. The function only looks up the positive, 1 tailed t stat\n",
        "  #Therefore, we take the percentile to 97.5% for the 1 tailed, which is equivalent\n",
        "  percentile =  1 - ((1 - alpha) / 2)\n",
        "  #The second parameter is degrees of freedom. Since this is a sample, we use n - 1 \n",
        "  t = stats.t.ppf(percentile, sample_size-1)\n",
        "  std_err = stdev / np.sqrt(sample_size)\n",
        "\n",
        "  #margin of error\n",
        "  moe = t*std_err\n",
        "  return moe"
      ],
      "execution_count": 18,
      "outputs": []
    },
    {
      "cell_type": "code",
      "metadata": {
        "id": "hMUckQWFo_tt",
        "colab_type": "code",
        "colab": {
          "base_uri": "https://localhost:8080/",
          "height": 206
        },
        "outputId": "8504ffbb-abc0-4f9c-bdc3-2a202efed82b"
      },
      "source": [
        "demsclean = dems.dropna()\n",
        "demsclean.head(3)"
      ],
      "execution_count": 16,
      "outputs": [
        {
          "output_type": "execute_result",
          "data": {
            "text/html": [
              "<div>\n",
              "<style scoped>\n",
              "    .dataframe tbody tr th:only-of-type {\n",
              "        vertical-align: middle;\n",
              "    }\n",
              "\n",
              "    .dataframe tbody tr th {\n",
              "        vertical-align: top;\n",
              "    }\n",
              "\n",
              "    .dataframe thead th {\n",
              "        text-align: right;\n",
              "    }\n",
              "</style>\n",
              "<table border=\"1\" class=\"dataframe\">\n",
              "  <thead>\n",
              "    <tr style=\"text-align: right;\">\n",
              "      <th></th>\n",
              "      <th>handicapped-infants</th>\n",
              "      <th>water-project-cost-sharing</th>\n",
              "      <th>adoption-of-the-budget-resolution</th>\n",
              "      <th>physician-fee-freeze</th>\n",
              "      <th>el-salvador-aid</th>\n",
              "      <th>religious-groups-in-schools</th>\n",
              "      <th>anti-satellite-test-ban</th>\n",
              "      <th>aid-to-nicaraguan-contras</th>\n",
              "      <th>mx-missile</th>\n",
              "      <th>immigration</th>\n",
              "      <th>synfuels-corporation-cutback</th>\n",
              "      <th>education-spending</th>\n",
              "      <th>superfund-right-to-sue</th>\n",
              "      <th>crime</th>\n",
              "      <th>duty-free-exports</th>\n",
              "      <th>export-administration-act-south-africa</th>\n",
              "    </tr>\n",
              "  </thead>\n",
              "  <tbody>\n",
              "    <tr>\n",
              "      <th>5</th>\n",
              "      <td>0.0</td>\n",
              "      <td>1.0</td>\n",
              "      <td>1.0</td>\n",
              "      <td>0.0</td>\n",
              "      <td>1.0</td>\n",
              "      <td>1.0</td>\n",
              "      <td>0.0</td>\n",
              "      <td>0.0</td>\n",
              "      <td>0.0</td>\n",
              "      <td>0.0</td>\n",
              "      <td>0.0</td>\n",
              "      <td>0.0</td>\n",
              "      <td>1.0</td>\n",
              "      <td>1.0</td>\n",
              "      <td>1.0</td>\n",
              "      <td>1.0</td>\n",
              "    </tr>\n",
              "    <tr>\n",
              "      <th>19</th>\n",
              "      <td>1.0</td>\n",
              "      <td>1.0</td>\n",
              "      <td>1.0</td>\n",
              "      <td>0.0</td>\n",
              "      <td>0.0</td>\n",
              "      <td>0.0</td>\n",
              "      <td>1.0</td>\n",
              "      <td>1.0</td>\n",
              "      <td>1.0</td>\n",
              "      <td>0.0</td>\n",
              "      <td>1.0</td>\n",
              "      <td>0.0</td>\n",
              "      <td>0.0</td>\n",
              "      <td>0.0</td>\n",
              "      <td>1.0</td>\n",
              "      <td>1.0</td>\n",
              "    </tr>\n",
              "    <tr>\n",
              "      <th>23</th>\n",
              "      <td>1.0</td>\n",
              "      <td>1.0</td>\n",
              "      <td>1.0</td>\n",
              "      <td>0.0</td>\n",
              "      <td>0.0</td>\n",
              "      <td>0.0</td>\n",
              "      <td>1.0</td>\n",
              "      <td>1.0</td>\n",
              "      <td>1.0</td>\n",
              "      <td>0.0</td>\n",
              "      <td>0.0</td>\n",
              "      <td>0.0</td>\n",
              "      <td>0.0</td>\n",
              "      <td>0.0</td>\n",
              "      <td>1.0</td>\n",
              "      <td>1.0</td>\n",
              "    </tr>\n",
              "  </tbody>\n",
              "</table>\n",
              "</div>"
            ],
            "text/plain": [
              "    handicapped-infants  ...  export-administration-act-south-africa\n",
              "5                   0.0  ...                                     1.0\n",
              "19                  1.0  ...                                     1.0\n",
              "23                  1.0  ...                                     1.0\n",
              "\n",
              "[3 rows x 16 columns]"
            ]
          },
          "metadata": {
            "tags": []
          },
          "execution_count": 16
        }
      ]
    },
    {
      "cell_type": "code",
      "metadata": {
        "id": "1jAIHQOapLas",
        "colab_type": "code",
        "colab": {
          "base_uri": "https://localhost:8080/",
          "height": 168
        },
        "outputId": "aecdc03f-de18-4242-c95c-4a55c548d319"
      },
      "source": [
        "freq_intervals = [(confidence_interval(demsclean[col]),\n",
        "                    np.mean(demsclean[col]),moe(demsclean[col]))\n",
        "                  for col in demsclean.columns]\n",
        "freq_intervals[0:3]"
      ],
      "execution_count": 20,
      "outputs": [
        {
          "output_type": "execute_result",
          "data": {
            "text/plain": [
              "[((0.5008854514528094, 0.6765339033859004),\n",
              "  0.5887096774193549,\n",
              "  0.08782422596654543),\n",
              " ((0.3627917755681809, 0.540434030883432),\n",
              "  0.45161290322580644,\n",
              "  0.08882112765762555),\n",
              " ((0.791966749899413, 0.9177106694554258),\n",
              "  0.8548387096774194,\n",
              "  0.06287195977800639)]"
            ]
          },
          "metadata": {
            "tags": []
          },
          "execution_count": 20
        }
      ]
    },
    {
      "cell_type": "code",
      "metadata": {
        "id": "h4AG-s57puYZ",
        "colab_type": "code",
        "colab": {}
      },
      "source": [
        "import matplotlib.pyplot as plt\n"
      ],
      "execution_count": 23,
      "outputs": []
    },
    {
      "cell_type": "code",
      "metadata": {
        "id": "dlWUf3SHpcAN",
        "colab_type": "code",
        "colab": {
          "base_uri": "https://localhost:8080/",
          "height": 265
        },
        "outputId": "d7f4f615-0fb3-4337-eaa7-fa12d05b00cf"
      },
      "source": [
        "#Compare all of those confidence intervals graphically on a single graph.\n",
        "for index,ci in enumerate(freq_intervals):\n",
        "  plt.errorbar(index,ci[2],yerr=ci[-1],fmt='o')\n",
        "plt.show()"
      ],
      "execution_count": 24,
      "outputs": [
        {
          "output_type": "display_data",
          "data": {
            "image/png": "[encoded data removed]",
            "text/plain": [
              "<Figure size 432x288 with 1 Axes>"
            ]
          },
          "metadata": {
            "tags": [],
            "needs_background": "light"
          }
        }
      ]
    },
    {
      "cell_type": "code",
      "metadata": {
        "id": "_9Xph0-qprPo",
        "colab_type": "code",
        "colab": {
          "base_uri": "https://localhost:8080/",
          "height": 34
        },
        "outputId": "9036a340-348f-40d0-ee6d-c07bfd8c14d3"
      },
      "source": [
        "#Same thing with bayesian statistics\n",
        "mean_confidence_interval, _, _ = stats.bayes_mvs(demsclean[demsclean.columns[0]], alpha=.95)\n",
        "mean_confidence_interval[1]"
      ],
      "execution_count": 31,
      "outputs": [
        {
          "output_type": "execute_result",
          "data": {
            "text/plain": [
              "(0.5008854514528095, 0.6765339033859002)"
            ]
          },
          "metadata": {
            "tags": []
          },
          "execution_count": 31
        }
      ]
    },
    {
      "cell_type": "code",
      "metadata": {
        "id": "JwibEmAXqFXo",
        "colab_type": "code",
        "colab": {
          "base_uri": "https://localhost:8080/",
          "height": 84
        },
        "outputId": "05bfc31e-a2fe-4d92-cd70-fdeb960deee5"
      },
      "source": [
        "bayes_intervals = [stats.bayes_mvs(demsclean[col], alpha=.95)[0] for col in demsclean.columns]\n",
        "print(bayes_intervals[0])\n",
        "print('mean:\\t',bayes_intervals[0][0])\n",
        "print('error:\\t',bayes_intervals[0][1])\n",
        "print('moe:\\t',(bayes_intervals[0][1][1] - bayes_intervals[0][1][0])/2)"
      ],
      "execution_count": 43,
      "outputs": [
        {
          "output_type": "stream",
          "text": [
            "Mean(statistic=0.5887096774193549, minmax=(0.5008854514528095, 0.6765339033859002))\n",
            "mean:\t 0.5887096774193549\n",
            "error:\t (0.5008854514528095, 0.6765339033859002)\n",
            "moe:\t 0.08782422596654538\n"
          ],
          "name": "stdout"
        }
      ]
    },
    {
      "cell_type": "code",
      "metadata": {
        "id": "RH93l96frNOl",
        "colab_type": "code",
        "colab": {
          "base_uri": "https://localhost:8080/",
          "height": 265
        },
        "outputId": "871d9f2b-6387-418d-8dc7-ddef8351c507"
      },
      "source": [
        "for index,ci in enumerate(bayes_intervals):\n",
        "  moe =(bayes_intervals[index][1][1] - bayes_intervals[index][1][0])/2\n",
        "  plt.errorbar(index,ci[0],yerr=moe,fmt='o')\n",
        "plt.show()"
      ],
      "execution_count": 45,
      "outputs": [
        {
          "output_type": "display_data",
          "data": {
            "image/png": "[encoded data removed]",
            "text/plain": [
              "<Figure size 432x288 with 1 Axes>"
            ]
          },
          "metadata": {
            "tags": [],
            "needs_background": "light"
          }
        }
      ]
    },
    {
      "cell_type": "code",
      "metadata": {
        "id": "rS-lX071r3V2",
        "colab_type": "code",
        "colab": {}
      },
      "source": [
        ""
      ],
      "execution_count": null,
      "outputs": []
    }
  ]
}