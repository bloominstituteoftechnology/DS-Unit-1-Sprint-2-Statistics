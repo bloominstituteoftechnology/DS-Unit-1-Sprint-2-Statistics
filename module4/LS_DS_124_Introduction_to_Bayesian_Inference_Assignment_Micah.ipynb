{
  "nbformat": 4,
  "nbformat_minor": 0,
  "metadata": {
    "colab": {
      "name": "LS_DS_124_Introduction_to_Bayesian_Inference_Assignment_Micah.ipynb",
      "provenance": [],
      "collapsed_sections": [],
      "include_colab_link": true
    },
    "kernelspec": {
      "name": "python3",
      "display_name": "Python 3"
    }
  },
  "cells": [
    {
      "cell_type": "markdown",
      "metadata": {
        "id": "view-in-github",
        "colab_type": "text"
      },
      "source": [
        "<a href=\"https://colab.research.google.com/github/micahks/DS-Unit-1-Sprint-2-Statistics/blob/master/module4/LS_DS_124_Introduction_to_Bayesian_Inference_Assignment_Micah.ipynb\" target=\"_parent\"><img src=\"https://colab.research.google.com/assets/colab-badge.svg\" alt=\"Open In Colab\"/></a>"
      ]
    },
    {
      "cell_type": "markdown",
      "metadata": {
        "id": "H7OLbevlbd_Z",
        "colab_type": "text"
      },
      "source": [
        "# Lambda School Data Science Module 124\n",
        "\n",
        "## Introduction to Bayesian Inference\n",
        "\n",
        "\n"
      ]
    },
    {
      "cell_type": "markdown",
      "metadata": {
        "id": "P-DzzRk5bf0z",
        "colab_type": "text"
      },
      "source": [
        "## Assignment - Code it up!\n",
        "\n",
        "We used pure math to apply Bayes Theorem to drug tests. Now write Python code to reproduce the results! This is purposefully open ended - you'll have to think about how you should represent probabilities and events. You can and should look things up.\n",
        "\n",
        "Specific goals/targets:\n",
        "\n",
        "### 1) Write a function \n",
        "\n",
        "`def prob_drunk_given_positive(prob_drunk_prior, false_positive_rate, true_positive_rate):` \n",
        "\n",
        "You should only truly need these three values in order to apply Bayes Theorem. In this example, imagine that individuals are taking a breathalyzer test with an 8% false positive rate, a 100% true positive rate, and that our prior belief about drunk driving in the population is 1/1000. \n",
        " - What is the probability that a person is drunk after one positive breathalyzer test?\n",
        " - What is the probability that a person is drunk after two positive breathalyzer tests?\n",
        " - How many positive breathalyzer tests are needed in order to have a probability that's greater than 95% that a person is drunk beyond the legal limit?\n"
      ]
    },
    {
      "cell_type": "markdown",
      "metadata": {
        "id": "edcqIAgm1aCf",
        "colab_type": "text"
      },
      "source": [
        "![Bayes Theorem Drug Test Example](https://wikimedia.org/api/rest_v1/media/math/render/svg/95c6524a3736c43e4bae139713f3df2392e6eda9)\n"
      ]
    },
    {
      "cell_type": "code",
      "metadata": {
        "id": "xpVhZyUnbf7o",
        "colab_type": "code",
        "colab": {}
      },
      "source": [
        "# TODO - code!\n",
        "\n",
        "def prob_drunk_given_positive(prob_drunk_prior, false_positive_rate, true_positive_rate):\n",
        "\n",
        "  # true positive rate = true_positive_rate\n",
        "  # prior probability = prob_drunk_prior\n",
        "  # false positive rate = false_positive_rate\n",
        "  # complement prior\n",
        "  \n",
        "  prob_not_drunk = 1 - prob_drunk_prior\n",
        "\n",
        "  numerator = true_positive_rate * prob_drunk_prior\n",
        "  denominator = (true_positive_rate * prob_drunk_prior) + (false_positive_rate * prob_not_drunk)\n",
        "\n",
        "  posterior_probability = numerator / denominator\n",
        "\n",
        "  return posterior_probability\n",
        "\n"
      ],
      "execution_count": 1,
      "outputs": []
    },
    {
      "cell_type": "code",
      "metadata": {
        "id": "kVMZDfcq27Qc",
        "colab_type": "code",
        "colab": {
          "base_uri": "https://localhost:8080/",
          "height": 34
        },
        "outputId": "00914ba9-03fb-4c39-ea3d-9a5ae8d94e68"
      },
      "source": [
        "# 1st test\n",
        "\n",
        "prob_drunk_given_positive(1/1000, .08, 1)"
      ],
      "execution_count": 2,
      "outputs": [
        {
          "output_type": "execute_result",
          "data": {
            "text/plain": [
              "0.012357884330202669"
            ]
          },
          "metadata": {
            "tags": []
          },
          "execution_count": 2
        }
      ]
    },
    {
      "cell_type": "code",
      "metadata": {
        "id": "Ntyl5et63bX-",
        "colab_type": "code",
        "colab": {
          "base_uri": "https://localhost:8080/",
          "height": 34
        },
        "outputId": "a1a6fa20-1b3b-4091-b544-ab003acef6dc"
      },
      "source": [
        "# 2nd test\n",
        "\n",
        "prob_drunk_given_positive(0.012357884330202669, .08, 1)"
      ],
      "execution_count": 3,
      "outputs": [
        {
          "output_type": "execute_result",
          "data": {
            "text/plain": [
              "0.13525210993291495"
            ]
          },
          "metadata": {
            "tags": []
          },
          "execution_count": 3
        }
      ]
    },
    {
      "cell_type": "code",
      "metadata": {
        "id": "NVRbgPn73zvr",
        "colab_type": "code",
        "colab": {
          "base_uri": "https://localhost:8080/",
          "height": 34
        },
        "outputId": "250f632c-1918-4562-80a4-6460c139ad0e"
      },
      "source": [
        "# 3rd\n",
        "\n",
        "prob_drunk_given_positive(0.13525210993291495, .08, 1)"
      ],
      "execution_count": 4,
      "outputs": [
        {
          "output_type": "execute_result",
          "data": {
            "text/plain": [
              "0.6615996951348605"
            ]
          },
          "metadata": {
            "tags": []
          },
          "execution_count": 4
        }
      ]
    },
    {
      "cell_type": "code",
      "metadata": {
        "id": "IQOS_KMC4rhv",
        "colab_type": "code",
        "colab": {
          "base_uri": "https://localhost:8080/",
          "height": 34
        },
        "outputId": "19a13633-b1fc-4662-f505-1cb637348901"
      },
      "source": [
        "# 4th\n",
        "\n",
        "prob_drunk_given_positive(0.6615996951348605, .08, 1)"
      ],
      "execution_count": 5,
      "outputs": [
        {
          "output_type": "execute_result",
          "data": {
            "text/plain": [
              "0.9606895076105054"
            ]
          },
          "metadata": {
            "tags": []
          },
          "execution_count": 5
        }
      ]
    },
    {
      "cell_type": "markdown",
      "metadata": {
        "id": "nhOAsLjvCSLF",
        "colab_type": "text"
      },
      "source": [
        "### 2) In your own words, summarize the difference between Bayesian and Frequentist statistics\n",
        "\n",
        "If you're unsure where to start, check out [this blog post of Bayes theorem with Python](https://dataconomy.com/2015/02/introduction-to-bayes-theorem-with-python/)."
      ]
    },
    {
      "cell_type": "markdown",
      "metadata": {
        "id": "AADlIVfgDztY",
        "colab_type": "text"
      },
      "source": [
        "Bayesian statistics is the belief that we'll never know the actual mean of a population. However we can make an educated guess based on past experience, run our model and continue to iterate until we the probability of an event happening settles on a number."
      ]
    },
    {
      "cell_type": "markdown",
      "metadata": {
        "id": "AeAGBxWjCTv3",
        "colab_type": "text"
      },
      "source": [
        "### 3) Use the following Template to help come up with ideas for your Build Sprint Project: \n",
        "\n"
      ]
    },
    {
      "cell_type": "markdown",
      "metadata": {
        "id": "YgIaBr__C5Q2",
        "colab_type": "text"
      },
      "source": [
        "---\n",
        "\n",
        "## Idea 1: US Military presence in Hawaii, is there more military in hawaii than other states? "
      ]
    },
    {
      "cell_type": "markdown",
      "metadata": {
        "id": "MwR6hTB1CiLR",
        "colab_type": "text"
      },
      "source": [
        "### You\n",
        "What do you care about?\n",
        "\n",
        "Hawaii, Sports, the environment, japan, marshall islands, my children/family, my religion.\n",
        "\n",
        "What do you know about?\n",
        "\n",
        "Hawaii, Sports, Construction, enineering, math, science, japan, Marshall islands, my religion.\n",
        "\n",
        "What decisions do you face?\n",
        "\n",
        "When to move back to Hawaii, where to raise my kids, best practices when raising kids, Should we move to japan.  \n"
      ]
    },
    {
      "cell_type": "markdown",
      "metadata": {
        "id": "d5owPwlSClm2",
        "colab_type": "text"
      },
      "source": [
        ""
      ]
    },
    {
      "cell_type": "markdown",
      "metadata": {
        "id": "lorLHSkzClzC",
        "colab_type": "text"
      },
      "source": [
        "### Seven templates\n",
        "\n",
        "In order to better understand the prompts here, please review the [Priceonomics Content Marketing Templates](https://priceonomics.com/introducing-priceonomics-content-marketing/)\n",
        "\n",
        "Can you apply the templates to your topics?\n",
        "\n",
        "**Geographic Variation:** yes\n",
        "\n",
        "**Trend related to the news:**\n",
        "\n",
        "**Who does that?:**\n",
        "\n",
        "**Answering a question people care about:** yes\n",
        "\n",
        "**Valuable to businesses:** \n",
        "\n",
        "**What's the most popular?:**\n",
        "\n",
        "**Cost/Money rankings:**"
      ]
    },
    {
      "cell_type": "markdown",
      "metadata": {
        "id": "cjxeN9D7Cygt",
        "colab_type": "text"
      },
      "source": [
        ""
      ]
    },
    {
      "cell_type": "markdown",
      "metadata": {
        "id": "3OXCCIT6C_p0",
        "colab_type": "text"
      },
      "source": [
        "### Misconceptions\n",
        "\n",
        "What misconceptions do people have about your topic?"
      ]
    },
    {
      "cell_type": "markdown",
      "metadata": {
        "id": "kZAkrgTUDCjF",
        "colab_type": "text"
      },
      "source": [
        "The military seems to have a large presence in hawaii, more than most states, but is this true?\n",
        "\n",
        "Are Hawaiians a minority in their own land? most people think yes, but what does the data say."
      ]
    },
    {
      "cell_type": "markdown",
      "metadata": {
        "id": "3tNrndE9DD3-",
        "colab_type": "text"
      },
      "source": [
        "### Examples\n",
        "\n",
        "What data storytelling example inspires you? Charts comparing states\n",
        "\n",
        "Could you do a new hypothesis, for the same question? Is the military presense in hawaii greater than other states? by how much.\n",
        "\n",
        "Could you do a new question, for the same topic? yes. is the miliary presense raising the cost of housing in hawaii?\n",
        "\n",
        "Could you do a new topic, with the same \"style\"?"
      ]
    },
    {
      "cell_type": "markdown",
      "metadata": {
        "id": "-5NsWQy5DKoR",
        "colab_type": "text"
      },
      "source": [
        ""
      ]
    },
    {
      "cell_type": "markdown",
      "metadata": {
        "id": "9rPtMFB6DN7B",
        "colab_type": "text"
      },
      "source": [
        "###Data\n",
        "\n",
        "Where could you search for data about your topic? landgrid.com"
      ]
    },
    {
      "cell_type": "markdown",
      "metadata": {
        "id": "s9hqjOlhDTDa",
        "colab_type": "text"
      },
      "source": [
        ""
      ]
    },
    {
      "cell_type": "markdown",
      "metadata": {
        "colab_type": "text",
        "id": "ld5MOaFaDVSK"
      },
      "source": [
        "---\n",
        "\n",
        "## Idea 2: How many hawaiian have had to move out of hawaii due to rising housing price over the past 30 years."
      ]
    },
    {
      "cell_type": "markdown",
      "metadata": {
        "colab_type": "text",
        "id": "znhTWIlUDVSM"
      },
      "source": [
        "### You - See above\n",
        "What do you care about?\n",
        "\n",
        "What do you know about?\n",
        "\n",
        "What decisions do you face?\n",
        "\n"
      ]
    },
    {
      "cell_type": "markdown",
      "metadata": {
        "colab_type": "text",
        "id": "3Gln5mYeDVSM"
      },
      "source": [
        ""
      ]
    },
    {
      "cell_type": "markdown",
      "metadata": {
        "colab_type": "text",
        "id": "W-njBredDVSN"
      },
      "source": [
        "### Seven templates\n",
        "\n",
        "In order to better understand the prompts here, please review the [Priceonomics Content Marketing Templates](https://priceonomics.com/introducing-priceonomics-content-marketing/)\n",
        "\n",
        "Can you apply the templates to your topics?\n",
        "\n",
        "**Geographic Variation:**\n",
        "\n",
        "**Trend related to the news:** yes\n",
        "\n",
        "**Who does that?:**\n",
        "\n",
        "**Answering a question people care about:**yes\n",
        "\n",
        "**Valuable to businesses:**\n",
        "\n",
        "**What's the most popular?:**\n",
        "\n",
        "**Cost/Money rankings:**"
      ]
    },
    {
      "cell_type": "markdown",
      "metadata": {
        "colab_type": "text",
        "id": "pkOqHHL3DVSN"
      },
      "source": [
        ""
      ]
    },
    {
      "cell_type": "markdown",
      "metadata": {
        "colab_type": "text",
        "id": "njLQ3hLuDVSO"
      },
      "source": [
        "### Misconceptions\n",
        "\n",
        "What misconceptions do people have about your topic?"
      ]
    },
    {
      "cell_type": "markdown",
      "metadata": {
        "colab_type": "text",
        "id": "IzrUvaKeDVSO"
      },
      "source": [
        "it feels like more and more Hawaii leave every year. Is this true?"
      ]
    },
    {
      "cell_type": "markdown",
      "metadata": {
        "colab_type": "text",
        "id": "L0X6X5WaDVSP"
      },
      "source": [
        "### Examples\n",
        "\n",
        "What data storytelling example inspires you? Hawaii demographics overtime.\n",
        "\n",
        "Could you do a new hypothesis, for the same question? are there more Hawaiians living in Hawaii today than 30 years ago, is there a correlation between housing cost and Hawaiians in hawaii.\n",
        "\n",
        "Could you do a new question, for the same topic? yes\n",
        "\n",
        "Could you do a new topic, with the same \"style\"? yes"
      ]
    },
    {
      "cell_type": "markdown",
      "metadata": {
        "colab_type": "text",
        "id": "fDdHExa0DVSP"
      },
      "source": [
        ""
      ]
    },
    {
      "cell_type": "markdown",
      "metadata": {
        "colab_type": "text",
        "id": "CxgSpiwYDVSQ"
      },
      "source": [
        "###Data\n",
        "\n",
        "Where could you search for data about your topic?\n",
        "\n",
        "hawaii Census Data."
      ]
    },
    {
      "cell_type": "markdown",
      "metadata": {
        "id": "uWgWjp3PQ3Sq",
        "colab_type": "text"
      },
      "source": [
        "## Resources"
      ]
    },
    {
      "cell_type": "markdown",
      "metadata": {
        "id": "QRgHqmYIQ9qn",
        "colab_type": "text"
      },
      "source": [
        "- [Worked example of Bayes rule calculation](https://en.wikipedia.org/wiki/Bayes'_theorem#Examples) (helpful as it fully breaks out the denominator)\n",
        "- [Source code for mvsdist in scipy](https://github.com/scipy/scipy/blob/90534919e139d2a81c24bf08341734ff41a3db12/scipy/stats/morestats.py#L139)"
      ]
    },
    {
      "cell_type": "markdown",
      "metadata": {
        "id": "GP7Jv1XvwtkX",
        "colab_type": "text"
      },
      "source": [
        "## Stretch Goals:\n",
        "\n",
        "- Go back and study the content from Modules 1 & 2 & 3 to make sure that you're really comfortable with them.\n",
        "- Apply a Bayesian technique to a problem you previously worked (in an assignment or project work) on from a frequentist (standard) perspective\n",
        "- Check out [PyMC3](https://docs.pymc.io/) (note this goes beyond hypothesis tests into modeling) - read the guides and work through some examples\n",
        "- Take PyMC3 further - see if you can build something with it!"
      ]
    }
  ]
}