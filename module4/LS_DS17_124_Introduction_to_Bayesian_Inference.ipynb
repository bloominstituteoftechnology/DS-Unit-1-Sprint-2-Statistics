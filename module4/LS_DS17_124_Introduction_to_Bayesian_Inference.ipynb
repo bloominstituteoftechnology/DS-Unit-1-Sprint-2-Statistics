{
  "nbformat": 4,
  "nbformat_minor": 0,
  "metadata": {
    "colab": {
      "name": "LS_DS17_124_Introduction_to_Bayesian_Inference.ipynb",
      "provenance": [],
      "include_colab_link": true
    },
    "kernelspec": {
      "name": "python3",
      "display_name": "Python 3"
    }
  },
  "cells": [
    {
      "cell_type": "markdown",
      "metadata": {
        "id": "view-in-github",
        "colab_type": "text"
      },
      "source": [
        "<a href=\"https://colab.research.google.com/github/John-G-Thomas/DS-Unit-1-Sprint-2-Statistics/blob/master/module4/LS_DS17_124_Introduction_to_Bayesian_Inference.ipynb\" target=\"_parent\"><img src=\"https://colab.research.google.com/assets/colab-badge.svg\" alt=\"Open In Colab\"/></a>"
      ]
    },
    {
      "cell_type": "markdown",
      "metadata": {
        "id": "H7OLbevlbd_Z",
        "colab_type": "text"
      },
      "source": [
        "# Lambda School Data Science Module 124\n",
        "\n",
        "## Introduction to Bayesian Inference\n",
        "\n",
        "The Monty Hall Problem:\n",
        "\n",
        "![The Monty Hall Problem](https://upload.wikimedia.org/wikipedia/commons/thumb/3/3f/Monty_open_door.svg/1200px-Monty_open_door.svg.png)\n",
        "\n",
        "!['Detector! What would the Bayesian statistician say if I asked him whether the--' [roll] 'I AM A NEUTRINO DETECTOR, NOT A LABYRINTH GUARD. SERIOUSLY, DID YOUR BRAIN FALL OUT?' [roll] '... yes.'](https://imgs.xkcd.com/comics/frequentists_vs_bayesians.png)\n",
        "\n",
        "*[XKCD 1132](https://www.xkcd.com/1132/)*\n"
      ]
    },
    {
      "cell_type": "markdown",
      "metadata": {
        "id": "3mz8p08BsN6p",
        "colab_type": "text"
      },
      "source": [
        "## Prepare - Bayes' Theorem and the Bayesian mindset\n",
        "\n",
        "Bayes' theorem possesses a near-mythical quality - a bit of math that somehow magically evaluates a situation. But this mythicalness has more to do with its reputation and advanced applications than the actual core of it - deriving it is actually remarkably straightforward."
      ]
    },
    {
      "cell_type": "markdown",
      "metadata": {
        "id": "Fa-jzYp9i8La",
        "colab_type": "text"
      },
      "source": [
        "### The Law of Total Probability\n",
        "\n",
        "By definition, the total probability of all outcomes (events) if some variable (event space) $A$ is 1. That is:\n",
        "\n",
        "$$P(A) = \\sum_n P(A_n) = 1$$\n",
        "\n",
        "The law of total probability takes this further, considering two variables ($A$ and $B$) and relating their marginal probabilities (their likelihoods considered independently, without reference to one another) and their conditional probabilities (their likelihoods considered jointly). A marginal probability is simply notated as e.g. $P(A)$, while a conditional probability is notated $P(A|B)$, which reads \"probability of $A$ *given* $B$\".\n",
        "\n",
        "The law of total probability states:\n",
        "\n",
        "$$P(A) = \\sum_n P(A | B_n) P(B_n)$$\n",
        "\n",
        "In words - the total probability of $A$ is equal to the sum of the conditional probability of $A$ on any given event $B_n$ times the probability of that event $B_n$, and summed over all possible events in $B$."
      ]
    },
    {
      "cell_type": "markdown",
      "metadata": {
        "id": "GhycNr-Sbeie",
        "colab_type": "text"
      },
      "source": [
        "\n",
        "\n",
        "\n",
        "\n",
        "### The Law of Conditional Probability\n",
        "\n",
        "What's the probability of something conditioned on something else? To determine this we have to go back to set theory and think about the intersection of sets:\n",
        "\n",
        "The formula for actual calculation:\n",
        "\n",
        "$$P(A|B) = \\frac{P(A \\cap B)}{P(B)}$$\n",
        "\n",
        "![Visualization of set intersection](https://upload.wikimedia.org/wikipedia/commons/9/99/Venn0001.svg)\n",
        "\n",
        "Think of the overall rectangle as the whole probability space, $A$ as the left circle, $B$ as the right circle, and their intersection as the red area. Try to visualize the ratio being described in the above formula, and how it is different from just the $P(A)$ (not conditioned on $B$).\n",
        "\n",
        "We can see how this relates back to the law of total probability - multiply both sides by $P(B)$ and you get $P(A|B)P(B) = P(A \\cap B)$ - replaced back into the law of total probability we get $P(A) = \\sum_n P(A \\cap B_n)$.\n",
        "\n",
        "This may not seem like an improvement at first, but try to relate it back to the above picture - if you think of sets as physical objects, we're saying that the total probability of $A$ given $B$ is all the little pieces of it intersected with $B$, added together. The conditional probability is then just that again, but divided by the probability of $B$ itself happening in the first place.\n"
      ]
    },
    {
      "cell_type": "markdown",
      "metadata": {
        "id": "hi45SXVyi_Wt",
        "colab_type": "text"
      },
      "source": [
        "### Bayes Theorem\n",
        "\n",
        "Here is is, the seemingly magic tool:\n",
        "\n",
        "$$P(A|B) = \\frac{P(B|A)P(A)}{P(B)}$$\n",
        "\n",
        "In words - the probability of $A$ conditioned on $B$ is the probability of $B$ conditioned on $A$, times the probability of $A$ and divided by the probability of $B$. These unconditioned probabilities are referred to as \"prior beliefs\", and the conditioned probabilities as \"updated.\"\n",
        "\n",
        "Why is this important? Scroll back up to the XKCD example - the Bayesian statistician draws a less absurd conclusion because their prior belief in the likelihood that the sun will go nova is extremely low. So, even when updated based on evidence from a detector that is $35/36 = 0.972$ accurate, the prior belief doesn't shift enough to change their overall opinion.\n",
        "\n",
        "### Using Bayes Theorem Iteratively (repeated testing)\n",
        "\n",
        "This example comes from [Wikipedia](https://en.wikipedia.org/wiki/Bayes%27_theorem)\n",
        "\n",
        "There are many ways to apply Bayes' theorem - one less absurd example is to apply it to drug tests. You may think that a drug test that is 100% accurate for true positives (detecting somebody who is a user) is pretty good, but what if it also has 1% false positive rate (indicating somebody is a user when they're not)? And furthermore, the rate of drug use in the population at large (and thus our prior belief) is 1/200.\n",
        "\n",
        "What is the likelihood somebody really is drunk if they test positive? Some may guess it's 99% - the difference between the true positives and the false positives. But we have a prior belief of the background/true rate of drug use. Sounds like a job for Bayes' theorem!\n",
        "\n",
        "![Bayes Theorem Drug Test Example](https://wikimedia.org/api/rest_v1/media/math/render/svg/95c6524a3736c43e4bae139713f3df2392e6eda9)\n",
        "\n",
        "In other words, the likelihood that somebody is a user given they tested positive on a drug test is only 33.2% - probably much lower than you'd guess. This is why, in practice, it's important to use repeated testing to confirm. If we have the same individual who tested positive the first time take the drug test a second time then the posterior probability from our the first test becomes our new prior during the second application. What is the probability that a person is a drug user after two positive drug tests in a row?\n",
        "\n",
        "Bayes' theorem has been relevant in court cases where proper consideration of evidence was important. Whether it's a drug test, breathalyzer, pregnancy test, doctor's diagnosis, or neutrino detector, we have to take into account **both** the false positive rate and our prior probability in order to calculate the correct conditional probability."
      ]
    },
    {
      "cell_type": "code",
      "metadata": {
        "id": "wqGNOCoUSm1b",
        "colab_type": "code",
        "outputId": "787e2aaf-4826-4319-fa79-6f1cd2b2410b",
        "colab": {
          "base_uri": "https://localhost:8080/",
          "height": 35
        }
      },
      "source": [
        "# True Positive Rate\n",
        "p_pos_user = 1\n",
        "# Prior Probability\n",
        "p_user = 1/100000\n",
        "# False Positive Rate\n",
        "p_pos_non_user = .01\n",
        "# Complement Prior\n",
        "p_non_user = 1 - p_user\n",
        "\n",
        "numerator = p_pos_user*p_user\n",
        "denominator = p_pos_user*p_user + p_pos_non_user*p_non_user\n",
        "\n",
        "posterior_probability = numerator / denominator\n",
        "\n",
        "posterior_probability"
      ],
      "execution_count": 1,
      "outputs": [
        {
          "output_type": "execute_result",
          "data": {
            "text/plain": [
              "0.0009990109791306607"
            ]
          },
          "metadata": {
            "tags": []
          },
          "execution_count": 1
        }
      ]
    },
    {
      "cell_type": "code",
      "metadata": {
        "id": "5Bm-284xUvWH",
        "colab_type": "code",
        "outputId": "04e0151c-36c2-4166-d26f-8f65d0c4ca9e",
        "colab": {
          "base_uri": "https://localhost:8080/",
          "height": 35
        }
      },
      "source": [
        "# For the second test our prior changes\n",
        "# posterior from the previous test, will be our new prior\n",
        "\n",
        "# True Positive Rate\n",
        "p_pos_user = 1\n",
        "# Prior Probability\n",
        "p_user = posterior_probability\n",
        "# False Positive Rate\n",
        "p_pos_non_user = .01\n",
        "# Complement Prior\n",
        "p_non_user = 1 - p_user\n",
        "\n",
        "numerator = p_pos_user*p_user\n",
        "denominator = p_pos_user*p_user + p_pos_non_user*p_non_user\n",
        "\n",
        "posterior_probability = numerator / denominator\n",
        "\n",
        "posterior_probability"
      ],
      "execution_count": 2,
      "outputs": [
        {
          "output_type": "execute_result",
          "data": {
            "text/plain": [
              "0.09090991736288513"
            ]
          },
          "metadata": {
            "tags": []
          },
          "execution_count": 2
        }
      ]
    },
    {
      "cell_type": "code",
      "metadata": {
        "id": "8WJtXzdJVl7c",
        "colab_type": "code",
        "outputId": "f6431fd0-0fd4-4f07-d3d0-af03e14eb18f",
        "colab": {
          "base_uri": "https://localhost:8080/",
          "height": 35
        }
      },
      "source": [
        "# For the second test our prior changes\n",
        "# posterior from the previous test, will be our new prior\n",
        "\n",
        "# True Positive Rate\n",
        "p_pos_user = 1\n",
        "# Prior Probability\n",
        "p_user = posterior_probability\n",
        "# False Positive Rate\n",
        "p_pos_non_user = .01\n",
        "# Complement Prior\n",
        "p_non_user = 1 - p_user\n",
        "\n",
        "numerator = p_pos_user*p_user\n",
        "denominator = p_pos_user*p_user + p_pos_non_user*p_non_user\n",
        "\n",
        "posterior_probability = numerator / denominator\n",
        "\n",
        "posterior_probability"
      ],
      "execution_count": 3,
      "outputs": [
        {
          "output_type": "execute_result",
          "data": {
            "text/plain": [
              "0.9090917355379414"
            ]
          },
          "metadata": {
            "tags": []
          },
          "execution_count": 3
        }
      ]
    },
    {
      "cell_type": "code",
      "metadata": {
        "id": "8rI-wuPdVoaL",
        "colab_type": "code",
        "outputId": "cb265580-b4be-4048-91a5-6e23827e6d86",
        "colab": {
          "base_uri": "https://localhost:8080/",
          "height": 35
        }
      },
      "source": [
        "# For the second test our prior changes\n",
        "# posterior from the previous test, will be our new prior\n",
        "\n",
        "# True Positive Rate\n",
        "p_pos_user = 1\n",
        "# Prior Probability\n",
        "p_user = posterior_probability\n",
        "# False Positive Rate\n",
        "p_pos_non_user = .01\n",
        "# Complement Prior\n",
        "p_non_user = 1 - p_user\n",
        "\n",
        "numerator = p_pos_user*p_user\n",
        "denominator = p_pos_user*p_user + p_pos_non_user*p_non_user\n",
        "\n",
        "posterior_probability = numerator / denominator\n",
        "\n",
        "posterior_probability"
      ],
      "execution_count": 4,
      "outputs": [
        {
          "output_type": "execute_result",
          "data": {
            "text/plain": [
              "0.999001008981029"
            ]
          },
          "metadata": {
            "tags": []
          },
          "execution_count": 4
        }
      ]
    },
    {
      "cell_type": "markdown",
      "metadata": {
        "id": "htI3DGvDsRJF",
        "colab_type": "text"
      },
      "source": [
        "## Live Lecture - Deriving Bayes' Theorem, Calculating Bayesian Confidence"
      ]
    },
    {
      "cell_type": "markdown",
      "metadata": {
        "id": "moIJNQ-nbfe_",
        "colab_type": "text"
      },
      "source": [
        "Notice that $P(A|B)$ appears in the above laws - in Bayesian terms, this is the belief in $A$ updated for the evidence $B$. So all we need to do is solve for this term to derive Bayes' theorem. Let's do it together!"
      ]
    },
    {
      "cell_type": "code",
      "metadata": {
        "id": "ke-5EqJI0Tsn",
        "colab_type": "code",
        "outputId": "06edd598-1fc5-4787-b5e1-0ea47c2a33b5",
        "colab": {
          "base_uri": "https://localhost:8080/",
          "height": 35
        }
      },
      "source": [
        "# Activity 2 - Use SciPy to calculate Bayesian confidence intervals\n",
        "# https://docs.scipy.org/doc/scipy/reference/generated/scipy.stats.bayes_mvs.html#scipy.stats.bayes_mvs\n",
        "import numpy as np\n",
        "from scipy import stats\n",
        "\n",
        "coinflips = np.random.binomial(n=1, p=.5, size=20)\n",
        "\n",
        "coinflips"
      ],
      "execution_count": 5,
      "outputs": [
        {
          "output_type": "execute_result",
          "data": {
            "text/plain": [
              "array([1, 1, 1, 0, 1, 1, 1, 0, 0, 0, 0, 1, 0, 0, 0, 0, 1, 0, 1, 1])"
            ]
          },
          "metadata": {
            "tags": []
          },
          "execution_count": 5
        }
      ]
    },
    {
      "cell_type": "code",
      "metadata": {
        "id": "g8FDpCQ8ZJu3",
        "colab_type": "code",
        "outputId": "e480fd67-6c34-4162-8bc9-20bce650acc0",
        "colab": {
          "base_uri": "https://localhost:8080/",
          "height": 35
        }
      },
      "source": [
        "def confidence_interval(data, confidence=.95):\n",
        "  # Make sure we're working with a numpy array\n",
        "  sample = np.array(data)\n",
        "  # Sample Mean\n",
        "  x_bar = sample.mean()\n",
        "  # Sample Standard Deviation\n",
        "  s = np.std(sample, ddof=1)\n",
        "  # Sample Size\n",
        "  n = len(sample)\n",
        "  # T statistic - correspond to our confidence level, and our degrees of freedom\n",
        "  t = stats.t.ppf((1+confidence) / 2, n-1)\n",
        "  # Standard Error\n",
        "  std_err = s / np.sqrt(n)\n",
        "  # Margin of Error\n",
        "  moe = std_err * t\n",
        "  # Lower and Upper Bound\n",
        "  upper = x_bar + moe\n",
        "  lower = x_bar - moe\n",
        "\n",
        "  return (lower, x_bar, upper)\n",
        "\n",
        "confidence_interval(coinflips)"
      ],
      "execution_count": 6,
      "outputs": [
        {
          "output_type": "execute_result",
          "data": {
            "text/plain": [
              "(0.2599136752745949, 0.5, 0.740086324725405)"
            ]
          },
          "metadata": {
            "tags": []
          },
          "execution_count": 6
        }
      ]
    },
    {
      "cell_type": "code",
      "metadata": {
        "id": "UDCamFktZReo",
        "colab_type": "code",
        "outputId": "17177574-1b56-442c-beee-9c57c42bbd01",
        "colab": {
          "base_uri": "https://localhost:8080/",
          "height": 35
        }
      },
      "source": [
        "mean_confidence_interval , _,_ = stats.bayes_mvs(coinflips, alpha=.95)\n",
        "\n",
        "mean_confidence_interval"
      ],
      "execution_count": 7,
      "outputs": [
        {
          "output_type": "execute_result",
          "data": {
            "text/plain": [
              "Mean(statistic=0.5, minmax=(0.25991367527459486, 0.7400863247254051))"
            ]
          },
          "metadata": {
            "tags": []
          },
          "execution_count": 7
        }
      ]
    },
    {
      "cell_type": "markdown",
      "metadata": {
        "id": "uWgWjp3PQ3Sq",
        "colab_type": "text"
      },
      "source": [
        "## Resources"
      ]
    },
    {
      "cell_type": "markdown",
      "metadata": {
        "id": "QRgHqmYIQ9qn",
        "colab_type": "text"
      },
      "source": [
        "- [Worked example of Bayes rule calculation](https://en.wikipedia.org/wiki/Bayes'_theorem#Examples) (helpful as it fully breaks out the denominator)\n",
        "- [Source code for mvsdist in scipy](https://github.com/scipy/scipy/blob/90534919e139d2a81c24bf08341734ff41a3db12/scipy/stats/morestats.py#L139)"
      ]
    }
  ]
}