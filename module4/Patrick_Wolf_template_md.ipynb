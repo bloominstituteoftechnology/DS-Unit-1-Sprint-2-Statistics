{
  "nbformat": 4,
  "nbformat_minor": 0,
  "metadata": {
    "colab": {
      "name": "Patrick_Wolf_template.md.ipynb",
      "provenance": [],
      "include_colab_link": true
    },
    "kernelspec": {
      "name": "python3",
      "display_name": "Python 3"
    }
  },
  "cells": [
    {
      "cell_type": "markdown",
      "metadata": {
        "id": "view-in-github",
        "colab_type": "text"
      },
      "source": [
        "<a href=\"https://colab.research.google.com/github/patrickjwolf/DS-Unit-1-Sprint-2-Statistics/blob/master/module4/Patrick_Wolf_template_md.ipynb\" target=\"_parent\"><img src=\"https://colab.research.google.com/assets/colab-badge.svg\" alt=\"Open In Colab\"/></a>"
      ]
    },
    {
      "cell_type": "markdown",
      "metadata": {
        "id": "IxZ5SjehMcaX",
        "colab_type": "text"
      },
      "source": [
        "Assignment!\n",
        "Fill out the template twice, for two different ideas.\n",
        "Then compare and contrast and select one as the idea you're leaning towards working on for your project week.\n",
        "Ideas for data storytelling - Idea 1\n",
        "You\n",
        "What do you care about?\n",
        "Politics\n",
        "What do you know about?\n",
        "Sports\n",
        "Real Estate\n",
        "What decisions do you face?\n",
        "What to have for dinner?\n",
        "Seven templates\n",
        "Training Kit (https://learn.lambdaschool.com/ds/module/recedjanlbpqxic2r) explains the seven templates from Priceonomics.\n",
        "Can you apply the templates to your topics?\n",
        "1.\tGeographic Variation-Yes\n",
        "2.\tTrend related to the news- Yes\n",
        "3.\tWho does that? - Yes\n",
        "4.\tAnswering a question people care about- Yes\n",
        "5.\tValuable to businesses- Yes\n",
        "6.\tWhat's the most popular? - Yes\n",
        "7.\tCost/Money rankings-No\n",
        "Misconceptions\n",
        "What misconceptions do people have about your topic?\n",
        "That polls are reflective of all voters.\n",
        "Examples\n",
        "What data storytelling example inspires you?\n",
        "Presidential election polls vs the actual election results.\n",
        "Could you do a new hypothesis, for the same question?\n",
        "Yes\n",
        "Could you do a new question, for the same topic?\n",
        "Yes\n",
        "Could you do a new topic, with the same \"style\"?\n",
        "Yes\n",
        "Data\n",
        "Where could you search for data about your topic?\n",
        "https://www.aapor.org/Education-Resources/Reports/An-Evaluation-of-2016-Election-Polls-in-the-U-S.aspx\n",
        "________________________________________\n",
        "Ideas for data storytelling - Idea 2\n",
        "You\n",
        "What do you care about?\n",
        "Football\n",
        "What do you know about?\n",
        "Sports\n",
        "Real Estate\n",
        "What decisions do you face?\n",
        "Where should I buy gas?\n",
        "Seven templates\n",
        "Training Kit (https://learn.lambdaschool.com/ds/module/recedjanlbpqxic2r) explains the seven templates from Priceonomics.\n",
        "Can you apply the templates to your topics?\n",
        "1.\tGeographic Variation-Yes\n",
        "2.\tTrend related to the news-Yes\n",
        "3.\tWho does that? -Yes\n",
        "4.\tAnswering a question people care about-Yes\n",
        "5.\tValuable to businesses-Yes\n",
        "6.\tWhat's the most popular? -Yes\n",
        "7.\tCost/Money rankings-Yes\n",
        "Misconceptions\n",
        "What misconceptions do people have about your topic?\n",
        "\n",
        "Examples\n",
        "What data storytelling example inspires you?- How far should a person drive for cheaper gas?\n",
        "Could you do a new hypothesis, for the same question? - Yes\n",
        "Could you do a new question, for the same topic? - Yes\n",
        "Could you do a new topic, with the same \"style\"?- Yes\n",
        "Data\n",
        "Where could you search for data about your topic?\n",
        "https://www.fueleconomy.gov/feg/download.shtml\n"
      ]
    }
  ]
}