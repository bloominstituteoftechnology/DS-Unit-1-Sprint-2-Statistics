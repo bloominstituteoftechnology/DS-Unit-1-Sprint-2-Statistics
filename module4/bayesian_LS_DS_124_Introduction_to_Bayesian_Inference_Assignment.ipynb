{
  "nbformat": 4,
  "nbformat_minor": 0,
  "metadata": {
    "colab": {
      "name": "bayesian_LS_DS_124_Introduction_to_Bayesian_Inference_Assignment.ipynb",
      "provenance": [],
      "collapsed_sections": [],
      "include_colab_link": true
    },
    "kernelspec": {
      "name": "python3",
      "display_name": "Python 3"
    }
  },
  "cells": [
    {
      "cell_type": "markdown",
      "metadata": {
        "id": "view-in-github",
        "colab_type": "text"
      },
      "source": [
        "<a href=\"https://colab.research.google.com/github/chrislopez630/DS-Unit-1-Sprint-2-Statistics/blob/master/module4/bayesian_LS_DS_124_Introduction_to_Bayesian_Inference_Assignment.ipynb\" target=\"_parent\"><img src=\"https://colab.research.google.com/assets/colab-badge.svg\" alt=\"Open In Colab\"/></a>"
      ]
    },
    {
      "cell_type": "markdown",
      "metadata": {
        "id": "H7OLbevlbd_Z",
        "colab_type": "text"
      },
      "source": [
        "# Lambda School Data Science Module 124\n",
        "\n",
        "## Introduction to Bayesian Inference\n",
        "\n",
        "\n"
      ]
    },
    {
      "cell_type": "markdown",
      "metadata": {
        "id": "P-DzzRk5bf0z",
        "colab_type": "text"
      },
      "source": [
        "## Assignment - Code it up!\n",
        "\n",
        "We used pure math to apply Bayes Theorem to drug tests. Now write Python code to reproduce the results! This is purposefully open ended - you'll have to think about how you should represent probabilities and events. You can and should look things up.\n",
        "\n",
        "Specific goals/targets:\n",
        "\n",
        "### 1) Write a function \n",
        "\n",
        "`def prob_drunk_given_positive(prob_drunk_prior, false_positive_rate, true_positive_rate):` \n",
        "\n",
        "You should only truly need these three values in order to apply Bayes Theorem. In this example, imagine that individuals are taking a breathalyzer test with an 8% false positive rate, a 100% true positive rate, and that our prior belief about drunk driving in the population is 1/1000. \n",
        " - What is the probability that a person is drunk after one positive breathalyzer test?\n",
        "\n",
        "##** The probability that a person is drunk after one test is 0.09099181073703368 which is high chance.**\n",
        " - What is the probability that a person is drunk after two positive breathalyzer tests?\n",
        "\n",
        "##** the probability that a person is drunk after two positive tests is 0.9091735612328393 which is higher then the first posibility.**\n",
        " - How many positive breathalyzer tests are needed in order to have a probability that's greater than 95% that a person is drunk beyond the legal limit?\n",
        "\n",
        "##** 3 positive breathalyzer tests are needed in order to have a probability higer then 95%**\n"
      ]
    },
    {
      "cell_type": "code",
      "metadata": {
        "id": "JjDHGlDQhOxx",
        "colab_type": "code",
        "colab": {}
      },
      "source": [
        ""
      ],
      "execution_count": null,
      "outputs": []
    },
    {
      "cell_type": "code",
      "metadata": {
        "id": "xpVhZyUnbf7o",
        "colab_type": "code",
        "colab": {
          "base_uri": "https://localhost:8080/",
          "height": 34
        },
        "outputId": "c4642912-631c-4e42-d1fd-084f53c94b88"
      },
      "source": [
        "# TODO - code!\n",
        "import numpy as np\n",
        "from scipy import stats\n",
        "def prob_drunk_given_positive(prob_drunk_prior, false_positive_rate, true_positive_rate):\n",
        "  numerator = true_positive_rate * prob_drunk_prior\n",
        "  marginal =  (true_positive_rate * prob_drunk_prior) + (false_positive_rate * (1 - prob_drunk_prior))\n",
        "  prob_drunk = numerator / marginal \n",
        "  return prob_drunk\n",
        "prob_drunk = prob_drunk_given_positive(1/1000, 0.08, 8)\n",
        "print(prob_drunk)"
      ],
      "execution_count": 43,
      "outputs": [
        {
          "output_type": "stream",
          "text": [
            "0.09099181073703368\n"
          ],
          "name": "stdout"
        }
      ]
    },
    {
      "cell_type": "code",
      "metadata": {
        "id": "GWdZf9lQgNev",
        "colab_type": "code",
        "colab": {
          "base_uri": "https://localhost:8080/",
          "height": 34
        },
        "outputId": "966bcd72-35c5-4f35-8f2d-13a7da72e032"
      },
      "source": [
        "prob_drunk1 = prob_drunk_given_positive(prob_drunk, 0.08, 8)\n",
        "print(prob_drunk1)"
      ],
      "execution_count": 44,
      "outputs": [
        {
          "output_type": "stream",
          "text": [
            "0.9091735612328393\n"
          ],
          "name": "stdout"
        }
      ]
    },
    {
      "cell_type": "code",
      "metadata": {
        "id": "HGU-8Mhqgy29",
        "colab_type": "code",
        "colab": {
          "base_uri": "https://localhost:8080/",
          "height": 34
        },
        "outputId": "0df5b7f7-6fa8-47ba-bf42-24b17c9c2520"
      },
      "source": [
        "prob_drunk3 = prob_drunk_given_positive(prob_drunk1, 0.08, 1)\n",
        "print(prob_drunk3)"
      ],
      "execution_count": 45,
      "outputs": [
        {
          "output_type": "stream",
          "text": [
            "0.992071365645759\n"
          ],
          "name": "stdout"
        }
      ]
    },
    {
      "cell_type": "markdown",
      "metadata": {
        "id": "nhOAsLjvCSLF",
        "colab_type": "text"
      },
      "source": [
        "### 2) In your own words, summarize the difference between Bayesian and Frequentist statistics\n",
        "###**The differnce between the bayesian and frequentist statistic is bayesian goes by possible future outcomes whereas frequestist goes by statistics already observed.**\n",
        "\n",
        "If you're unsure where to start, check out [this blog post of Bayes theorem with Python](https://dataconomy.com/2015/02/introduction-to-bayes-theorem-with-python/)."
      ]
    },
    {
      "cell_type": "markdown",
      "metadata": {
        "id": "AeAGBxWjCTv3",
        "colab_type": "text"
      },
      "source": [
        "### 3) Use the following Template to help come up with ideas for your Build Sprint Project: \n",
        "\n"
      ]
    },
    {
      "cell_type": "markdown",
      "metadata": {
        "id": "YgIaBr__C5Q2",
        "colab_type": "text"
      },
      "source": [
        "---\n",
        "\n",
        "## Idea 1:"
      ]
    },
    {
      "cell_type": "markdown",
      "metadata": {
        "id": "MwR6hTB1CiLR",
        "colab_type": "text"
      },
      "source": [
        "### You\n",
        "What do you care about?\n",
        "##Arrests in the united states\n",
        "What do you know about?\n",
        "##Their are at least 4.9million people arrested a year in the united states and most of them have serious medical amd econmical needs \n",
        "What decisions do you face?\n",
        "##if majority of the 4.9 americans get examed and determined that its a mental or medical issue why is there no option to fix that instead of re jailing inmates \n",
        "##also a percent of that 4.9 million is people with economical issues such as our failed econmony.\n"
      ]
    },
    {
      "cell_type": "markdown",
      "metadata": {
        "id": "lorLHSkzClzC",
        "colab_type": "text"
      },
      "source": [
        "### Seven templates\n",
        "\n",
        "In order to better understand the prompts here, please review the [Priceonomics Content Marketing Templates](https://priceonomics.com/introducing-priceonomics-content-marketing/)\n",
        "\n",
        "Can you apply the templates to your topics?\n",
        "\n",
        "**Geographic Variation:**\n",
        "\n",
        "**Trend related to the news:**\n",
        "\n",
        "**Who does that?:**\n",
        "\n",
        "**Answering a question people care about:**\n",
        "\n",
        "**Valuable to businesses:**\n",
        "\n",
        "**What's the most popular?:**\n",
        "\n",
        "**Cost/Money rankings:**"
      ]
    },
    {
      "cell_type": "markdown",
      "metadata": {
        "id": "cjxeN9D7Cygt",
        "colab_type": "text"
      },
      "source": [
        ""
      ]
    },
    {
      "cell_type": "markdown",
      "metadata": {
        "id": "3OXCCIT6C_p0",
        "colab_type": "text"
      },
      "source": [
        "### Misconceptions\n",
        "\n",
        "What misconceptions do people have about your topic?"
      ]
    },
    {
      "cell_type": "markdown",
      "metadata": {
        "id": "kZAkrgTUDCjF",
        "colab_type": "text"
      },
      "source": [
        "### Some misconceptions people might have about my topics are that their are bad people out there and theres no way to fix them problems unless they're jailed and out of the community."
      ]
    },
    {
      "cell_type": "markdown",
      "metadata": {
        "id": "3tNrndE9DD3-",
        "colab_type": "text"
      },
      "source": [
        "### Examples\n",
        "\n",
        "What data storytelling example inspires you?\n",
        "\n",
        "## New report, Arrest, Release, Repeat, reveals how many people go to jail each year and how many times they go\n",
        "https://catalog.data.gov/dataset/nypd-arrests-data-historic/resource/edd46fca-a8d9-41f4-ade2-e720c1bd8314\n",
        "https://www.prisonpolicy.org/blog/2019/08/26/arrests-report/#:~:text=At%20least%204.9%20million%20people%20are,booked%20in%20jail%20every%20year.\n",
        "Could you do a new hypothesis, for the same question?\n",
        "\n",
        "## Yes.\n",
        "Could you do a new question, for the same topic?\n",
        "\n",
        "## Yes\n",
        "Could you do a new topic, with the same \"style\"?\n",
        "\n",
        "## Yes"
      ]
    },
    {
      "cell_type": "markdown",
      "metadata": {
        "id": "9rPtMFB6DN7B",
        "colab_type": "text"
      },
      "source": [
        "###Data\n",
        "\n",
        "Where could you search for data about your topic?\n",
        "\n",
        "https://catalog.data.gov/dataset/nypd-arrests-data-historic"
      ]
    },
    {
      "cell_type": "markdown",
      "metadata": {
        "colab_type": "text",
        "id": "ld5MOaFaDVSK"
      },
      "source": [
        "---\n",
        "\n",
        "## Idea 2:"
      ]
    },
    {
      "cell_type": "markdown",
      "metadata": {
        "colab_type": "text",
        "id": "znhTWIlUDVSM"
      },
      "source": [
        "### You\n",
        "What do you care about?\n",
        "\n",
        "What do you know about?\n",
        "\n",
        "What decisions do you face?\n",
        "\n"
      ]
    },
    {
      "cell_type": "markdown",
      "metadata": {
        "colab_type": "text",
        "id": "3Gln5mYeDVSM"
      },
      "source": [
        ""
      ]
    },
    {
      "cell_type": "markdown",
      "metadata": {
        "colab_type": "text",
        "id": "W-njBredDVSN"
      },
      "source": [
        "### Seven templates\n",
        "\n",
        "In order to better understand the prompts here, please review the [Priceonomics Content Marketing Templates](https://priceonomics.com/introducing-priceonomics-content-marketing/)\n",
        "\n",
        "Can you apply the templates to your topics?\n",
        "\n",
        "**Geographic Variation:**\n",
        "\n",
        "**Trend related to the news:**\n",
        "\n",
        "**Who does that?:**\n",
        "\n",
        "**Answering a question people care about:**\n",
        "\n",
        "**Valuable to businesses:**\n",
        "\n",
        "**What's the most popular?:**\n",
        "\n",
        "**Cost/Money rankings:**"
      ]
    },
    {
      "cell_type": "markdown",
      "metadata": {
        "colab_type": "text",
        "id": "pkOqHHL3DVSN"
      },
      "source": [
        ""
      ]
    },
    {
      "cell_type": "markdown",
      "metadata": {
        "colab_type": "text",
        "id": "njLQ3hLuDVSO"
      },
      "source": [
        "### Misconceptions\n",
        "\n",
        "What misconceptions do people have about your topic?"
      ]
    },
    {
      "cell_type": "markdown",
      "metadata": {
        "colab_type": "text",
        "id": "IzrUvaKeDVSO"
      },
      "source": [
        ""
      ]
    },
    {
      "cell_type": "markdown",
      "metadata": {
        "colab_type": "text",
        "id": "L0X6X5WaDVSP"
      },
      "source": [
        "### Examples\n",
        "\n",
        "What data storytelling example inspires you?\n",
        "\n",
        "Could you do a new hypothesis, for the same question?\n",
        "\n",
        "Could you do a new question, for the same topic?\n",
        "\n",
        "Could you do a new topic, with the same \"style\"?"
      ]
    },
    {
      "cell_type": "markdown",
      "metadata": {
        "colab_type": "text",
        "id": "fDdHExa0DVSP"
      },
      "source": [
        ""
      ]
    },
    {
      "cell_type": "markdown",
      "metadata": {
        "colab_type": "text",
        "id": "CxgSpiwYDVSQ"
      },
      "source": [
        "###Data\n",
        "\n",
        "Where could you search for data about your topic?"
      ]
    },
    {
      "cell_type": "markdown",
      "metadata": {
        "id": "uWgWjp3PQ3Sq",
        "colab_type": "text"
      },
      "source": [
        "## Resources"
      ]
    },
    {
      "cell_type": "markdown",
      "metadata": {
        "id": "QRgHqmYIQ9qn",
        "colab_type": "text"
      },
      "source": [
        "- [Worked example of Bayes rule calculation](https://en.wikipedia.org/wiki/Bayes'_theorem#Examples) (helpful as it fully breaks out the denominator)\n",
        "- [Source code for mvsdist in scipy](https://github.com/scipy/scipy/blob/90534919e139d2a81c24bf08341734ff41a3db12/scipy/stats/morestats.py#L139)"
      ]
    },
    {
      "cell_type": "markdown",
      "metadata": {
        "id": "GP7Jv1XvwtkX",
        "colab_type": "text"
      },
      "source": [
        "## Stretch Goals:\n",
        "\n",
        "- Go back and study the content from Modules 1 & 2 & 3 to make sure that you're really comfortable with them.\n",
        "- Apply a Bayesian technique to a problem you previously worked (in an assignment or project work) on from a frequentist (standard) perspective\n",
        "- Check out [PyMC3](https://docs.pymc.io/) (note this goes beyond hypothesis tests into modeling) - read the guides and work through some examples\n",
        "- Take PyMC3 further - see if you can build something with it!"
      ]
    }
  ]
}