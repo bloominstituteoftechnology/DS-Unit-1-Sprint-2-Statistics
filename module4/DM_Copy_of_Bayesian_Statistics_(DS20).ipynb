{
  "nbformat": 4,
  "nbformat_minor": 0,
  "metadata": {
    "colab": {
      "name": "DM_Copy of Bayesian Statistics (DS20).ipynb",
      "provenance": [],
      "include_colab_link": true
    },
    "kernelspec": {
      "name": "python3",
      "display_name": "Python 3"
    }
  },
  "cells": [
    {
      "cell_type": "markdown",
      "metadata": {
        "id": "view-in-github",
        "colab_type": "text"
      },
      "source": [
        "<a href=\"https://colab.research.google.com/github/d-melamed/DS-Unit-1-Sprint-2-Statistics/blob/master/module4/DM_Copy_of_Bayesian_Statistics_(DS20).ipynb\" target=\"_parent\"><img src=\"https://colab.research.google.com/assets/colab-badge.svg\" alt=\"Open In Colab\"/></a>"
      ]
    },
    {
      "cell_type": "markdown",
      "metadata": {
        "id": "XPWcAlYIGp-p",
        "colab_type": "text"
      },
      "source": [
        "# Bayesian Statistics\n",
        "\n",
        "## Objectives: \n",
        "\n",
        "- **Use conditional probabilities** and understand the **mathematical notation** associated with them\n",
        "- Compare and contrast **frequentist** and **Bayesian** approaches to inference\n",
        "- **Use Bayes' Theorem** to iteratively update a prior probability"
      ]
    },
    {
      "cell_type": "markdown",
      "metadata": {
        "id": "EH6i5B7p6kLv",
        "colab_type": "text"
      },
      "source": [
        "## Why Learn Bayesian Inference?\n",
        "\n",
        "- Naive Bayes Classifiers (ML)\n",
        "- Bayesian Hyperparameter Tuning (For Neural Nets + Complex ML)\n",
        "\n",
        "*These are examples of topics we will be covering later in the course.*"
      ]
    },
    {
      "cell_type": "markdown",
      "metadata": {
        "id": "TS_i2G6v6fA5",
        "colab_type": "text"
      },
      "source": [
        "## Bayesian vs Frequentist Inference\n",
        "\n"
      ]
    },
    {
      "cell_type": "markdown",
      "metadata": {
        "id": "UEn2tCH7QIqM",
        "colab_type": "text"
      },
      "source": [
        "![Frequentist vs Bayesian Table](https://miro.medium.com/max/700/1*tNTGSCBL2yJt85FVa_oRLQ.png)"
      ]
    },
    {
      "cell_type": "markdown",
      "metadata": {
        "id": "rVJy7vauPewg",
        "colab_type": "text"
      },
      "source": [
        "#### If we wanted to know the average height of males in a country:\n",
        "> **Frequentist**: “ Height is an unknown value and could lie between [70, 74] or not. Let’s keep collecting samples to determine the height.”\n",
        "\n",
        "> **Bayesian**: “ I think height is between 60 and 84 inches, let’s pass this information to the model.”\n",
        "\n",
        "\n",
        "[Reference](https://medium.com/analytics-vidhya/a-short-story-on-bayesian-vs-frequentist-statistics-27f55ae56253)"
      ]
    },
    {
      "cell_type": "markdown",
      "metadata": {
        "id": "iW65URc1GAWx",
        "colab_type": "text"
      },
      "source": [
        "### The Frequentist Approach\n",
        "\n",
        "- The population parameter is assumed to be a fixed constant\n",
        "- \"95% of similar-sized intervals from repeated samples of size $n$ will contain the [population parameter]\""
      ]
    },
    {
      "cell_type": "markdown",
      "metadata": {
        "id": "e6wes8V4GjbP",
        "colab_type": "text"
      },
      "source": [
        "### The Bayesian Approach\n",
        "\n",
        "> ### \"Probability is orderly opinion, and that inference from data is nothing other than the revision of such opinion in the light of relevant new information.” - Thomas Bayes\n",
        "\n",
        "- The population parameter can be considered a variable.\n",
        "- \"There is a 95% chance that [population parameter] exists within the interval\""
      ]
    },
    {
      "cell_type": "markdown",
      "metadata": {
        "id": "0l1VvX9uerx7",
        "colab_type": "text"
      },
      "source": [
        "### The Monty Hall Problem:\n",
        "\n",
        "![The Monty Hall Problem](https://upload.wikimedia.org/wikipedia/commons/thumb/3/3f/Monty_open_door.svg/1200px-Monty_open_door.svg.png)\n",
        "\n",
        "[Numberphile explanation video](https://www.youtube.com/watch?v=4Lb-6rxZxx0)"
      ]
    },
    {
      "cell_type": "markdown",
      "metadata": {
        "id": "wkwWCtb16Wun",
        "colab_type": "text"
      },
      "source": [
        "## Conditional Probability"
      ]
    },
    {
      "cell_type": "markdown",
      "metadata": {
        "id": "fVCyLIPbTGDg",
        "colab_type": "text"
      },
      "source": [
        "### Defining the Notation\n",
        "\n",
        "- $P$ = probability\n",
        "- $|$ = given\n",
        "- $\\cap$ = and\n",
        "- $\\cup$ = union\n"
      ]
    },
    {
      "cell_type": "markdown",
      "metadata": {
        "id": "k5Ld5Vc48Y22",
        "colab_type": "text"
      },
      "source": [
        "### The Law of Total Probability\n",
        "\n",
        "By definition, the total probability of all outcomes (events) if some variable (event space) $A$ is 1. That is:\n",
        "\n",
        "$$P(A) = \\sum_n P(A_n) = 1$$\n",
        "\n",
        "The law of total probability takes this further, considering two variables ($A$ and $B$) and relating their marginal probabilities (their likelihoods considered independently, without reference to one another) and their conditional probabilities (their likelihoods considered jointly). A marginal probability is simply notated as e.g. $P(A)$, while a conditional probability is notated $P(A|B)$, which reads \"probability of $A$ *given* $B$\".\n",
        "\n",
        "The law of total probability states:\n",
        "\n",
        "$$P(A) = \\sum_n P(A | B_n) P(B_n)$$\n",
        "\n",
        "In words - the total probability of $A$ is equal to the sum of the conditional probability of $A$ on any given event $B_n$ times the probability of that event $B_n$, and summed over all possible events in $B$."
      ]
    },
    {
      "cell_type": "markdown",
      "metadata": {
        "id": "gbY-GwSS8bEH",
        "colab_type": "text"
      },
      "source": [
        "### The Law of Conditional Probability\n",
        "\n",
        "What's the probability of something conditioned on something else? To determine this we have to go back to set theory and think about the intersection of sets:\n",
        "\n",
        "The formula for actual calculation:\n",
        "\n",
        "$$P(A|B) = \\frac{P(A \\cap B)}{P(B)}$$\n",
        "\n",
        "![Visualization of set intersection](https://upload.wikimedia.org/wikipedia/commons/9/99/Venn0001.svg)\n",
        "\n",
        "Think of the overall rectangle as the whole probability space, $A$ as the left circle, $B$ as the right circle, and their intersection as the red area. Try to visualize the ratio being described in the above formula, and how it is different from just the $P(A)$ (not conditioned on $B$).\n",
        "\n",
        "We can see how this relates back to the law of total probability - multiply both sides by $P(B)$ and you get $P(A|B)P(B) = P(A \\cap B)$ - replaced back into the law of total probability we get $P(A) = \\sum_n P(A \\cap B_n)$.\n",
        "\n",
        "This may not seem like an improvement at first, but try to relate it back to the above picture - if you think of sets as physical objects, we're saying that the total probability of $A$ given $B$ is all the little pieces of it intersected with $B$, added together. The conditional probability is then just that again, but divided by the probability of $B$ itself happening in the first place."
      ]
    },
    {
      "cell_type": "markdown",
      "metadata": {
        "id": "153L6zqj7dSt",
        "colab_type": "text"
      },
      "source": [
        "## Bayes Theorem\n",
        "\n",
        "\n",
        "\n"
      ]
    },
    {
      "cell_type": "markdown",
      "metadata": {
        "id": "lo9E513d9ck1",
        "colab_type": "text"
      },
      "source": [
        "$$P(A|B) = \\frac{P(B|A)P(A)}{P(B)}$$\n",
        "\n",
        "![Bayes Rule](https://miro.medium.com/max/1022/1*YTWinOBUgmStxkbUJZ1vNw.png)\n",
        "\n",
        "In words - the probability of $A$ conditioned on $B$ is the probability of $B$ conditioned on $A$, times the probability of $A$ and divided by the probability of $B$. These unconditioned probabilities are referred to as \"prior beliefs\", and the conditioned probabilities as \"updated.\"\n",
        "\n",
        "Why is this important? The Bayesian statistician draws a less absurd conclusion because their prior belief in the likelihood that the sun will go supernova is extremely low. So, even when updated based on evidence from a detector that is $35/36 = 0.972$ accurate, the prior belief doesn't shift enough to change their overall opinion.\n"
      ]
    },
    {
      "cell_type": "markdown",
      "metadata": {
        "id": "WgfoxRSq9UCU",
        "colab_type": "text"
      },
      "source": [
        "\n",
        "### Extended Denominator version:\n",
        "\n",
        "![](https://betterexplained.com/topics/Bayes_Theorem.png)"
      ]
    },
    {
      "cell_type": "markdown",
      "metadata": {
        "id": "q3a6rRyJ9Png",
        "colab_type": "text"
      },
      "source": [
        "### Using Bayes Theorem Iteratively (repeated testing)\n",
        "\n",
        "This example comes from [Wikipedia](https://en.wikipedia.org/wiki/Bayes%27_theorem)\n",
        "\n",
        "There are many ways to apply Bayes' theorem - one less absurd example is to apply it to drug tests. You may think that a drug test that is 100% accurate for true positives (detecting somebody who is a user) is pretty good, but what if it also has 1% false positive rate (indicating somebody is a user when they're not)? And furthermore, the rate of drug use in the population at large (and thus our prior belief) is 1/200.\n",
        "\n",
        "What is the likelihood somebody really is drunk if they test positive? Some may guess it's 99% - the difference between the true positives and the false positives. But we have a prior belief of the background/true rate of drug use. Sounds like a job for Bayes' theorem!\n",
        "\n",
        "![Bayes Theorem Drug Test Example](https://wikimedia.org/api/rest_v1/media/math/render/svg/95c6524a3736c43e4bae139713f3df2392e6eda9)\n",
        "\n",
        "In other words, the likelihood that somebody is a user given they tested positive on a drug test is only 33.2% - probably much lower than you'd guess. This is why, in practice, it's important to use repeated testing to confirm. If we have the same individual who tested positive the first time take the drug test a second time then the posterior probability from our the first test becomes our new prior during the second application. What is the probability that a person is a drug user after two positive drug tests in a row?\n",
        "\n",
        "Bayes' theorem has been relevant in court cases where proper consideration of evidence was important. Whether it's a drug test, breathalyzer, pregnancy test, doctor's diagnosis, or neutrino detector, we have to take into account **both** the false positive rate and our prior probability in order to calculate the correct conditional probability."
      ]
    },
    {
      "cell_type": "markdown",
      "metadata": {
        "id": "htI3DGvDsRJF",
        "colab_type": "text"
      },
      "source": [
        "## Deriving Bayes' Theorem, Calculating Bayesian Confidence"
      ]
    },
    {
      "cell_type": "markdown",
      "metadata": {
        "id": "moIJNQ-nbfe_",
        "colab_type": "text"
      },
      "source": [
        "Notice that $P(A|B)$ appears in the above laws - in Bayesian terms, this is the belief in $A$ updated for the evidence $B$. So all we need to do is solve for this term to derive Bayes' theorem. Let's do it together!"
      ]
    },
    {
      "cell_type": "code",
      "metadata": {
        "id": "ke-5EqJI0Tsn",
        "colab_type": "code",
        "colab": {
          "base_uri": "https://localhost:8080/",
          "height": 34
        },
        "outputId": "042e2ee6-96ab-49b5-fd74-6eb49f22ec0c"
      },
      "source": [
        "# Activity 2 - Use SciPy to calculate Bayesian confidence intervals\n",
        "# https://docs.scipy.org/doc/scipy/reference/generated/scipy.stats.bayes_mvs.html#scipy.stats.bayes_mvs\n",
        "\n",
        "# true pos\n",
        "p_pos_user = 1\n",
        "# prior prob\n",
        "p_user = 1/200\n",
        "# false positive rate\n",
        "p_pos_non_user = .01\n",
        "# complement prior\n",
        "p_non_user = 1 - p_user\n",
        "\n",
        "numerator = p_pos_user * p_user\n",
        "denominator = (p_pos_user * p_user) + (p_pos_non_user * p_non_user)\n",
        "\n",
        "posterior_probability1 = numerator / denominator\n",
        "\n",
        "posterior_probability1\n"
      ],
      "execution_count": 6,
      "outputs": [
        {
          "output_type": "execute_result",
          "data": {
            "text/plain": [
              "0.33444816053511706"
            ]
          },
          "metadata": {
            "tags": []
          },
          "execution_count": 6
        }
      ]
    },
    {
      "cell_type": "code",
      "metadata": {
        "id": "sAIoNnmq1hpf",
        "colab_type": "code",
        "colab": {
          "base_uri": "https://localhost:8080/",
          "height": 34
        },
        "outputId": "756b3a81-3691-4fc7-9d03-4e36917dc516"
      },
      "source": [
        "# true pos\n",
        "p_pos_user = .99\n",
        "# prior prob\n",
        "p_user = posterior_probability1\n",
        "# false positive rate\n",
        "p_pos_non_user = .01\n",
        "# complement prior\n",
        "p_non_user = 1 - p_user\n",
        "\n",
        "numerator = p_pos_user * p_user\n",
        "denominator = (p_pos_user * p_user) + (p_pos_non_user * p_non_user)\n",
        "\n",
        "posterior_probability2 = numerator / denominator\n",
        "\n",
        "posterior_probability2"
      ],
      "execution_count": 8,
      "outputs": [
        {
          "output_type": "execute_result",
          "data": {
            "text/plain": [
              "0.9802950787206653"
            ]
          },
          "metadata": {
            "tags": []
          },
          "execution_count": 8
        }
      ]
    },
    {
      "cell_type": "markdown",
      "metadata": {
        "id": "SB1m04Zf16Lo",
        "colab_type": "text"
      },
      "source": [
        "If we were using a 95% Confidence Level, we would reject the null hypothesis that they are not a drug user, and suggest the alternative that they are a drug user. "
      ]
    },
    {
      "cell_type": "code",
      "metadata": {
        "id": "o3wTL_A72O_p",
        "colab_type": "code",
        "colab": {}
      },
      "source": [
        ""
      ],
      "execution_count": null,
      "outputs": []
    },
    {
      "cell_type": "code",
      "metadata": {
        "id": "PvvCsZ592dRS",
        "colab_type": "code",
        "colab": {}
      },
      "source": [
        ""
      ],
      "execution_count": null,
      "outputs": []
    },
    {
      "cell_type": "code",
      "metadata": {
        "id": "hNogzRQH3e6H",
        "colab_type": "code",
        "colab": {
          "base_uri": "https://localhost:8080/",
          "height": 34
        },
        "outputId": "694c4dbb-e000-43b3-e369-58bf2a28c6a8"
      },
      "source": [
        "# Activity 2 - Use SciPy to calculate Bayesian confidence intervals\n",
        "# https://docs.scipy.org/doc/scipy/reference/generated/scipy.stats.bayes_mvs.html#scipy.stats.bayes_mvs\n",
        "\n",
        "import numpy as np\n",
        "from scipy import stats\n",
        "from scipy.stats import t, bayes_mvs\n",
        "\n",
        "coinflips = np.random.binomial(1, .5, size=20)\n",
        "\n",
        "coinflips\n"
      ],
      "execution_count": 31,
      "outputs": [
        {
          "output_type": "execute_result",
          "data": {
            "text/plain": [
              "array([1, 0, 1, 0, 0, 0, 0, 0, 1, 1, 1, 0, 0, 0, 1, 1, 1, 1, 0, 1])"
            ]
          },
          "metadata": {
            "tags": []
          },
          "execution_count": 31
        }
      ]
    },
    {
      "cell_type": "markdown",
      "metadata": {
        "id": "uWgWjp3PQ3Sq",
        "colab_type": "text"
      },
      "source": [
        "## Comparing with Confidence Intervals"
      ]
    },
    {
      "cell_type": "code",
      "metadata": {
        "id": "eDAMwUHs3j0v",
        "colab_type": "code",
        "colab": {
          "base_uri": "https://localhost:8080/",
          "height": 34
        },
        "outputId": "24e54c79-7a14-4497-fe37-62f29eaf3d20"
      },
      "source": [
        "def confidence_interval(data, confidence=.95):\n",
        "  # Make sure we're working with a numpy array\n",
        "  sample = np.array(data)\n",
        "  # Sample Mean\n",
        "  x_bar = np.mean(sample)\n",
        "  # SAMPLE standard deviation EXTRA PARAMETER!\n",
        "  # numpy default give population standard devation (ddof=1) helps with this\n",
        "  s = np.std(sample, ddof=1)\n",
        "  # sample size\n",
        "  n = len(sample)\n",
        "  # t-statistic for our confidence level %, and DoF\n",
        "  t_star = t.ppf((1 + confidence) / 2, n-1)\n",
        "  # Standard Error\n",
        "  std_err = s / np.sqrt(n)\n",
        "  # Margin of Error\n",
        "  moe = t_star * std_err\n",
        "  # Lower and Upper Bound\n",
        "  lower_bound = x_bar - moe\n",
        "  upper_bound = x_bar + moe\n",
        "\n",
        "  return (lower_bound, x_bar, upper_bound, moe)\n",
        "\n",
        "confidence_interval(coinflips, .95)"
      ],
      "execution_count": 29,
      "outputs": [
        {
          "output_type": "execute_result",
          "data": {
            "text/plain": [
              "(0.4799572487244166, 0.7, 0.9200427512755833, 0.22004275127558334)"
            ]
          },
          "metadata": {
            "tags": []
          },
          "execution_count": 29
        }
      ]
    },
    {
      "cell_type": "code",
      "metadata": {
        "id": "nJT2RtnTGwt1",
        "colab_type": "code",
        "colab": {
          "base_uri": "https://localhost:8080/",
          "height": 68
        },
        "outputId": "87360a26-af81-4871-95dd-f07234ed69e2"
      },
      "source": [
        "bayes_mvs(coinflips)"
      ],
      "execution_count": 32,
      "outputs": [
        {
          "output_type": "execute_result",
          "data": {
            "text/plain": [
              "(Mean(statistic=0.5, minmax=(0.30165486354257876, 0.6983451364574211)),\n",
              " Variance(statistic=0.29411764705882354, minmax=(0.16587308996352135, 0.4942170152830455)),\n",
              " Std_dev(statistic=0.5344136298559719, minmax=(0.40727520175370535, 0.7030057007471886)))"
            ]
          },
          "metadata": {
            "tags": []
          },
          "execution_count": 32
        }
      ]
    },
    {
      "cell_type": "code",
      "metadata": {
        "id": "1ZlXa8WYHLwK",
        "colab_type": "code",
        "colab": {
          "base_uri": "https://localhost:8080/",
          "height": 34
        },
        "outputId": "587b2a46-121b-4271-97ef-c036cec6b747"
      },
      "source": [
        "mean_confidence_interval, _, _ = bayes_mvs(coinflips, alpha=.95)\n",
        "\n",
        "mean_confidence_interval"
      ],
      "execution_count": 33,
      "outputs": [
        {
          "output_type": "execute_result",
          "data": {
            "text/plain": [
              "Mean(statistic=0.5, minmax=(0.25991367527459486, 0.7400863247254051))"
            ]
          },
          "metadata": {
            "tags": []
          },
          "execution_count": 33
        }
      ]
    },
    {
      "cell_type": "markdown",
      "metadata": {
        "id": "QRgHqmYIQ9qn",
        "colab_type": "text"
      },
      "source": [
        "- [Worked example of Bayes rule calculation](https://en.wikipedia.org/wiki/Bayes'_theorem#Examples) (helpful as it fully breaks out the denominator)\n",
        "- [Source code for mvsdist in scipy](https://github.com/scipy/scipy/blob/90534919e139d2a81c24bf08341734ff41a3db12/scipy/stats/morestats.py#L139)"
      ]
    }
  ]
}