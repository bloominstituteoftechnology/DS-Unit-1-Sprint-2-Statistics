{
  "nbformat": 4,
  "nbformat_minor": 0,
  "metadata": {
    "colab": {
      "name": "Ik Okoro LS_DS_124_Introduction_to_Bayesian_Inference_Assignment.ipynb",
      "provenance": [],
      "collapsed_sections": [],
      "include_colab_link": true
    },
    "kernelspec": {
      "name": "python3",
      "display_name": "Python 3"
    }
  },
  "cells": [
    {
      "cell_type": "markdown",
      "metadata": {
        "id": "view-in-github",
        "colab_type": "text"
      },
      "source": [
        "<a href=\"https://colab.research.google.com/github/ik-okoro/DS-Unit-1-Sprint-2-Statistics/blob/master/module4/LS_DS_124_Introduction_to_Bayesian_Inference_Assignment.ipynb\" target=\"_parent\"><img src=\"https://colab.research.google.com/assets/colab-badge.svg\" alt=\"Open In Colab\"/></a>"
      ]
    },
    {
      "cell_type": "markdown",
      "metadata": {
        "id": "H7OLbevlbd_Z",
        "colab_type": "text"
      },
      "source": [
        "# Lambda School Data Science Module 124\n",
        "\n",
        "## Introduction to Bayesian Inference\n",
        "\n",
        "\n"
      ]
    },
    {
      "cell_type": "markdown",
      "metadata": {
        "id": "P-DzzRk5bf0z",
        "colab_type": "text"
      },
      "source": [
        "## Assignment - Code it up!\n",
        "\n",
        "We used pure math to apply Bayes Theorem to drug tests. Now write Python code to reproduce the results! This is purposefully open ended - you'll have to think about how you should represent probabilities and events. You can and should look things up.\n",
        "\n",
        "Specific goals/targets:\n",
        "\n",
        "### 1) Write a function \n",
        "\n",
        "`def prob_drunk_given_positive(prob_drunk_prior, false_positive_rate, true_positive_rate):` \n",
        "\n",
        "You should only truly need these three values in order to apply Bayes Theorem. In this example, imagine that individuals are taking a breathalyzer test with an 8% false positive rate, a 100% true positive rate, and that our prior belief about drunk driving in the population is 1/1000. \n",
        " - What is the probability that a person is drunk after one positive breathalyzer test?\n",
        " - What is the probability that a person is drunk after two positive breathalyzer tests?\n",
        " - How many positive breathalyzer tests are needed in order to have a probability that's greater than 95% that a person is drunk beyond the legal limit?\n"
      ]
    },
    {
      "cell_type": "code",
      "metadata": {
        "id": "xpVhZyUnbf7o",
        "colab_type": "code",
        "colab": {
          "base_uri": "https://localhost:8080/",
          "height": 50
        },
        "outputId": "b308edc9-66bd-467c-b120-c23568c66b2d"
      },
      "source": [
        "# TODO - code!\n",
        "\n",
        "#Assign variables\n",
        "prob_drunk_prior = 1/1000\n",
        "false_positive_rate = 0.08\n",
        "true_positive_rate = 1\n",
        "\n",
        "# Create function\n",
        "def prob_drunk_given_positive(b = false_positive_rate, c = true_positive_rate):\n",
        "  '''\n",
        "  Returns a probability that a user is drunk after a positive breathalyzer test\n",
        "  Takes two optional numerical parameters defined before function call:\n",
        "  b: false_positive_rate, c = true_positive_rate\n",
        "  '''\n",
        "  global prob_drunk_prior\n",
        "  a = prob_drunk_prior\n",
        "  prob_not_drunk_prior = 1 - a\n",
        "  result = (c * a) / ((c * a) + (b * prob_not_drunk_prior))\n",
        "  \n",
        "  prob_drunk_prior = result\n",
        "  return prob_drunk_prior\n",
        "\n",
        "iterations = []\n",
        "\n",
        "while prob_drunk_prior <= 0.95:\n",
        "  iterations.append(prob_drunk_given_positive())\n",
        "\n",
        "print(f\"It took {len(iterations)} iterations to have a probability greater than 95% and the probability was found to be {iterations[-1]:.2%}\")\n",
        "\n",
        "# View different iteration values\n",
        "iterations = [float(\"%.2f\" % num) for num in iterations]\n",
        "iterations"
      ],
      "execution_count": null,
      "outputs": [
        {
          "output_type": "stream",
          "text": [
            "It took 4 iterations to have a probability greater than 95% and the probability was found to be 96.07%\n"
          ],
          "name": "stdout"
        },
        {
          "output_type": "execute_result",
          "data": {
            "text/plain": [
              "[0.01, 0.14, 0.66, 0.96]"
            ]
          },
          "metadata": {
            "tags": []
          },
          "execution_count": 16
        }
      ]
    },
    {
      "cell_type": "markdown",
      "metadata": {
        "id": "nhOAsLjvCSLF",
        "colab_type": "text"
      },
      "source": [
        "### 2) In your own words, summarize the difference between Bayesian and Frequentist statistics\n",
        "\n",
        "If you're unsure where to start, check out [this blog post of Bayes theorem with Python](https://dataconomy.com/2015/02/introduction-to-bayes-theorem-with-python/)."
      ]
    },
    {
      "cell_type": "markdown",
      "metadata": {
        "id": "AADlIVfgDztY",
        "colab_type": "text"
      },
      "source": [
        "A simplified way of looking at the difference is that Bayesian statistics make use of prior belief/history in their predictive modeling while Frequentist do not and only use associated frequencies from a long run of repeated trials"
      ]
    },
    {
      "cell_type": "markdown",
      "metadata": {
        "id": "AeAGBxWjCTv3",
        "colab_type": "text"
      },
      "source": [
        "### 3) Use the following Template to help come up with ideas for your Build Sprint Project: \n",
        "\n"
      ]
    },
    {
      "cell_type": "markdown",
      "metadata": {
        "id": "YgIaBr__C5Q2",
        "colab_type": "text"
      },
      "source": [
        "---\n",
        "\n",
        "## Idea 1: A look at the necessity of the NBA draft combines as it relates to a player's college stats and future NBA career."
      ]
    },
    {
      "cell_type": "markdown",
      "metadata": {
        "id": "MwR6hTB1CiLR",
        "colab_type": "text"
      },
      "source": [
        "### You\n",
        "What do you care about?\n",
        "\n",
        "What do you know about?\n",
        "\n",
        "What decisions do you face?\n",
        "\n",
        "\n"
      ]
    },
    {
      "cell_type": "markdown",
      "metadata": {
        "id": "d5owPwlSClm2",
        "colab_type": "text"
      },
      "source": [
        "I'm really passionate about sports and I know quite a bit about the NBA.\n",
        "\n",
        "The biggest decision I face is how to combine multiple datasets to tell a complete story."
      ]
    },
    {
      "cell_type": "markdown",
      "metadata": {
        "id": "lorLHSkzClzC",
        "colab_type": "text"
      },
      "source": [
        "### Seven templates\n",
        "\n",
        "In order to better understand the prompts here, please review the [Priceonomics Content Marketing Templates](https://priceonomics.com/introducing-priceonomics-content-marketing/)\n",
        "\n",
        "Can you apply the templates to your topics?\n",
        "\n",
        "**Geographic Variation:**\n",
        "\n",
        "**Trend related to the news:**\n",
        "\n",
        "**Who does that?:**\n",
        "\n",
        "**Answering a question people care about:**\n",
        "\n",
        "**Valuable to businesses:**\n",
        "\n",
        "**What's the most popular?:**\n",
        "\n",
        "**Cost/Money rankings:**"
      ]
    },
    {
      "cell_type": "markdown",
      "metadata": {
        "id": "cjxeN9D7Cygt",
        "colab_type": "text"
      },
      "source": [
        "I think I can apply the \"Answering a question people care about\" metric considering I've been part of a few of these debates"
      ]
    },
    {
      "cell_type": "markdown",
      "metadata": {
        "id": "3OXCCIT6C_p0",
        "colab_type": "text"
      },
      "source": [
        "### Misconceptions\n",
        "\n",
        "What misconceptions do people have about your topic?"
      ]
    },
    {
      "cell_type": "markdown",
      "metadata": {
        "id": "kZAkrgTUDCjF",
        "colab_type": "text"
      },
      "source": [
        "That the combine is an accurate prediction of future NBA MVPs"
      ]
    },
    {
      "cell_type": "markdown",
      "metadata": {
        "id": "3tNrndE9DD3-",
        "colab_type": "text"
      },
      "source": [
        "### Examples\n",
        "\n",
        "What data storytelling example inspires you?\n",
        "\n",
        "Could you do a new hypothesis, for the same question?\n",
        "\n",
        "Could you do a new question, for the same topic?\n",
        "\n",
        "Could you do a new topic, with the same \"style\"?"
      ]
    },
    {
      "cell_type": "markdown",
      "metadata": {
        "id": "-5NsWQy5DKoR",
        "colab_type": "text"
      },
      "source": [
        "Yes I think I could use the datasets and tackle multiple questions and hypotheses"
      ]
    },
    {
      "cell_type": "markdown",
      "metadata": {
        "id": "9rPtMFB6DN7B",
        "colab_type": "text"
      },
      "source": [
        "###Data\n",
        "\n",
        "Where could you search for data about your topic?"
      ]
    },
    {
      "cell_type": "markdown",
      "metadata": {
        "id": "s9hqjOlhDTDa",
        "colab_type": "text"
      },
      "source": [
        "Data world and analytics vidhya"
      ]
    },
    {
      "cell_type": "markdown",
      "metadata": {
        "colab_type": "text",
        "id": "ld5MOaFaDVSK"
      },
      "source": [
        "---\n",
        "\n",
        "## Idea 2: A look at how much pressure affects NFL kickers on field goal attempts"
      ]
    },
    {
      "cell_type": "markdown",
      "metadata": {
        "colab_type": "text",
        "id": "znhTWIlUDVSM"
      },
      "source": [
        "### You\n",
        "What do you care about?\n",
        "\n",
        "What do you know about?\n",
        "\n",
        "What decisions do you face?\n",
        "\n"
      ]
    },
    {
      "cell_type": "markdown",
      "metadata": {
        "colab_type": "text",
        "id": "3Gln5mYeDVSM"
      },
      "source": [
        "The major decision is a way to check how to incorporate playoffs data into the dataset. Would probably have to look for another dataset and compare"
      ]
    },
    {
      "cell_type": "markdown",
      "metadata": {
        "colab_type": "text",
        "id": "W-njBredDVSN"
      },
      "source": [
        "### Seven templates\n",
        "\n",
        "In order to better understand the prompts here, please review the [Priceonomics Content Marketing Templates](https://priceonomics.com/introducing-priceonomics-content-marketing/)\n",
        "\n",
        "Can you apply the templates to your topics?\n",
        "\n",
        "**Geographic Variation:**\n",
        "\n",
        "**Trend related to the news:**\n",
        "\n",
        "**Who does that?:**\n",
        "\n",
        "**Answering a question people care about:**\n",
        "\n",
        "**Valuable to businesses:**\n",
        "\n",
        "**What's the most popular?:**\n",
        "\n",
        "**Cost/Money rankings:**"
      ]
    },
    {
      "cell_type": "markdown",
      "metadata": {
        "colab_type": "text",
        "id": "pkOqHHL3DVSN"
      },
      "source": [
        "I think it answers a question people care about as well as valuable to the owners"
      ]
    },
    {
      "cell_type": "markdown",
      "metadata": {
        "colab_type": "text",
        "id": "njLQ3hLuDVSO"
      },
      "source": [
        "### Misconceptions\n",
        "\n",
        "What misconceptions do people have about your topic?"
      ]
    },
    {
      "cell_type": "markdown",
      "metadata": {
        "colab_type": "text",
        "id": "IzrUvaKeDVSO"
      },
      "source": [
        "I'm not sure if there's a misconception yet. More along the lines of I could prove relationship with chi statistics."
      ]
    },
    {
      "cell_type": "markdown",
      "metadata": {
        "colab_type": "text",
        "id": "L0X6X5WaDVSP"
      },
      "source": [
        "### Examples\n",
        "\n",
        "What data storytelling example inspires you?\n",
        "\n",
        "Could you do a new hypothesis, for the same question?\n",
        "\n",
        "Could you do a new question, for the same topic?\n",
        "\n",
        "Could you do a new topic, with the same \"style\"?"
      ]
    },
    {
      "cell_type": "markdown",
      "metadata": {
        "colab_type": "text",
        "id": "fDdHExa0DVSP"
      },
      "source": [
        "There not really multiple routes to take with this problem like the NBA datasets. This is a really specific dataset"
      ]
    },
    {
      "cell_type": "markdown",
      "metadata": {
        "colab_type": "text",
        "id": "CxgSpiwYDVSQ"
      },
      "source": [
        "###Data\n",
        "\n",
        "Where could you search for data about your topic?\n",
        "\n",
        "[ufl data set](https://users.stat.ufl.edu/~winner/datasets.html)\n",
        "\n"
      ]
    },
    {
      "cell_type": "markdown",
      "metadata": {
        "id": "uWgWjp3PQ3Sq",
        "colab_type": "text"
      },
      "source": [
        "## Resources"
      ]
    },
    {
      "cell_type": "markdown",
      "metadata": {
        "id": "QRgHqmYIQ9qn",
        "colab_type": "text"
      },
      "source": [
        "- [Worked example of Bayes rule calculation](https://en.wikipedia.org/wiki/Bayes'_theorem#Examples) (helpful as it fully breaks out the denominator)\n",
        "- [Source code for mvsdist in scipy](https://github.com/scipy/scipy/blob/90534919e139d2a81c24bf08341734ff41a3db12/scipy/stats/morestats.py#L139)"
      ]
    },
    {
      "cell_type": "markdown",
      "metadata": {
        "id": "GP7Jv1XvwtkX",
        "colab_type": "text"
      },
      "source": [
        "## Stretch Goals:\n",
        "\n",
        "- Go back and study the content from Modules 1 & 2 & 3 to make sure that you're really comfortable with them.\n",
        "- Apply a Bayesian technique to a problem you previously worked (in an assignment or project work) on from a frequentist (standard) perspective\n",
        "- Check out [PyMC3](https://docs.pymc.io/) (note this goes beyond hypothesis tests into modeling) - read the guides and work through some examples\n",
        "- Take PyMC3 further - see if you can build something with it!"
      ]
    }
  ]
}