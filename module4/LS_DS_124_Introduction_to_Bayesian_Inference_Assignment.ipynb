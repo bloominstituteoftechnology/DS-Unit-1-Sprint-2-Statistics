{
  "nbformat": 4,
  "nbformat_minor": 0,
  "metadata": {
    "colab": {
      "name": "LS_DS_124_Introduction_to_Bayesian_Inference_Assignment.ipynb",
      "provenance": [],
      "collapsed_sections": [],
      "include_colab_link": true
    },
    "kernelspec": {
      "name": "python3",
      "display_name": "Python 3"
    }
  },
  "cells": [
    {
      "cell_type": "markdown",
      "metadata": {
        "id": "view-in-github",
        "colab_type": "text"
      },
      "source": [
        "<a href=\"https://colab.research.google.com/github/james-caldwell1981/DS-Unit-1-Sprint-2-Statistics/blob/master/module4/LS_DS_124_Introduction_to_Bayesian_Inference_Assignment.ipynb\" target=\"_parent\"><img src=\"https://colab.research.google.com/assets/colab-badge.svg\" alt=\"Open In Colab\"/></a>"
      ]
    },
    {
      "cell_type": "markdown",
      "metadata": {
        "id": "H7OLbevlbd_Z",
        "colab_type": "text"
      },
      "source": [
        "# Lambda School Data Science Module 124\n",
        "\n",
        "## Introduction to Bayesian Inference\n",
        "\n",
        "\n"
      ]
    },
    {
      "cell_type": "markdown",
      "metadata": {
        "id": "P-DzzRk5bf0z",
        "colab_type": "text"
      },
      "source": [
        "## Assignment - Code it up!\n",
        "\n",
        "We used pure math to apply Bayes Theorem to drug tests. Now write Python code to reproduce the results! This is purposefully open ended - you'll have to think about how you should represent probabilities and events. You can and should look things up.\n",
        "\n",
        "Specific goals/targets:\n",
        "\n",
        "### 1) Write a function \n",
        "\n",
        "`def prob_drunk_given_positive(prob_drunk_prior, false_positive_rate, true_positive_rate):` \n",
        "\n",
        "You should only truly need these three values in order to apply Bayes Theorem. In this example, imagine that individuals are taking a breathalyzer test with an 8% false positive rate, a 100% true positive rate, and that our prior belief about drunk driving in the population is 1/1000. \n",
        " - What is the probability that a person is drunk after one positive breathalyzer test?\n",
        " - What is the probability that a person is drunk after two positive breathalyzer tests?\n",
        " - How many positive breathalyzer tests are needed in order to have a probability that's greater than 95% that a person is drunk beyond the legal limit?\n"
      ]
    },
    {
      "cell_type": "code",
      "metadata": {
        "id": "FNxCH-IUkucF",
        "colab_type": "code",
        "colab": {}
      },
      "source": [
        "#prob_drunk_prior\n",
        "'''\n",
        "This variable holds the probability of a person being drunk prior\n",
        "to being tested. Once one iteration through the formula completes,\n",
        "the result is fed back through the formula through this variable\n",
        "to further refine and estimate multiple tests.\n",
        "'''\n",
        "\n",
        "#false_positive_rate\n",
        "'''\n",
        "This variable holds the false positive rate for the test. It is static\n",
        "through each iteration and can be obtained by 1 - true_positive_rate\n",
        "'''\n",
        "\n",
        "#true_positive_rate\n",
        "'''\n",
        "This variable holds the true positive rate for the test. It is also static\n",
        "through each iteration and can be obtained by 1 - false_positive_rate\n",
        "'''\n",
        "\n",
        "def prob_drunk_given_positive(prob_drunk_prior, false_positive_rate, true_positive_rate):\n",
        "\n",
        "    #Numerator\n",
        "    numerator = true_positive_rate*prob_drunk_prior\n",
        "\n",
        "    #denominator\n",
        "    denominator = numerator + false_positive_rate*(1-false_positive_rate)\n",
        "\n",
        "    #posterior probability\n",
        "    posterior_probability = numerator / denominator\n",
        "\n",
        "    return posterior_probability\n"
      ],
      "execution_count": 0,
      "outputs": []
    },
    {
      "cell_type": "code",
      "metadata": {
        "id": "tWYU5vT3ozs4",
        "colab_type": "code",
        "outputId": "ec312f11-6536-4d7d-f16b-0ca7871615dd",
        "colab": {
          "base_uri": "https://localhost:8080/",
          "height": 34
        }
      },
      "source": [
        "#After one iteration\n",
        "posterior = prob_drunk_given_positive(1/1000,.08, 1)\n",
        "posterior"
      ],
      "execution_count": 3,
      "outputs": [
        {
          "output_type": "execute_result",
          "data": {
            "text/plain": [
              "0.013404825737265416"
            ]
          },
          "metadata": {
            "tags": []
          },
          "execution_count": 3
        }
      ]
    },
    {
      "cell_type": "code",
      "metadata": {
        "id": "yDWko-FvmMHA",
        "colab_type": "code",
        "outputId": "ce4a551b-d49f-4e74-ad4e-0721e860fa08",
        "colab": {
          "base_uri": "https://localhost:8080/",
          "height": 34
        }
      },
      "source": [
        "#After two iterations\n",
        "posterior = prob_drunk_given_positive(posterior,.08, 1)\n",
        "posterior"
      ],
      "execution_count": 4,
      "outputs": [
        {
          "output_type": "execute_result",
          "data": {
            "text/plain": [
              "0.1540699107627077"
            ]
          },
          "metadata": {
            "tags": []
          },
          "execution_count": 4
        }
      ]
    },
    {
      "cell_type": "code",
      "metadata": {
        "colab_type": "code",
        "outputId": "4d3ba445-0d7a-47ae-8840-ba9927c2fde1",
        "id": "Y9D_tv1Q0vIf",
        "colab": {
          "base_uri": "https://localhost:8080/",
          "height": 390
        }
      },
      "source": [
        "'''\n",
        "After three iterations the function has reached\n",
        "threshold where further change is insignificant.\n",
        "This threshold is below 95%. After iteration 16,\n",
        "change becomes undetectable up to one million. \n",
        "'''\n",
        "posterior = 0.0\n",
        "i = 1\n",
        "\n",
        "while posterior < .95 and i < 20:\n",
        "\n",
        "    if 0 < posterior < .95:\n",
        "        posterior = prob_drunk_given_positive(posterior, .08, 1.00)\n",
        "        i += 1\n",
        "    elif posterior == 0:\n",
        "        posterior = prob_drunk_given_positive(1/10, .08, 1.00)\n",
        "    print('Iterations: ', i, 'Value: ', posterior)\n",
        "print(i, 'Tests required for ', posterior, ' accuracy.')"
      ],
      "execution_count": 5,
      "outputs": [
        {
          "output_type": "stream",
          "text": [
            "Iterations:  1 Value:  0.5760368663594471\n",
            "Iterations:  2 Value:  0.886705937099209\n",
            "Iterations:  3 Value:  0.9233577580262358\n",
            "Iterations:  4 Value:  0.9261754077266902\n",
            "Iterations:  5 Value:  0.9263834662953421\n",
            "Iterations:  6 Value:  0.9263987830992173\n",
            "Iterations:  7 Value:  0.9263999104359935\n",
            "Iterations:  8 Value:  0.9263999934080885\n",
            "Iterations:  9 Value:  0.9263999995148353\n",
            "Iterations:  10 Value:  0.9263999999642919\n",
            "Iterations:  11 Value:  0.9263999999973719\n",
            "Iterations:  12 Value:  0.9263999999998066\n",
            "Iterations:  13 Value:  0.9263999999999858\n",
            "Iterations:  14 Value:  0.926399999999999\n",
            "Iterations:  15 Value:  0.9263999999999999\n",
            "Iterations:  16 Value:  0.9264\n",
            "Iterations:  17 Value:  0.9264\n",
            "Iterations:  18 Value:  0.9264\n",
            "Iterations:  19 Value:  0.9264\n",
            "Iterations:  20 Value:  0.9264\n",
            "20 Tests required for  0.9264  accuracy.\n"
          ],
          "name": "stdout"
        }
      ]
    },
    {
      "cell_type": "markdown",
      "metadata": {
        "id": "nhOAsLjvCSLF",
        "colab_type": "text"
      },
      "source": [
        "### 2) In your own words, summarize the difference between Bayesian and Frequentist statistics\n",
        "\n",
        "If you're unsure where to start, check out [this blog post of Bayes theorem with Python](https://dataconomy.com/2015/02/introduction-to-bayes-theorem-with-python/)."
      ]
    },
    {
      "cell_type": "markdown",
      "metadata": {
        "id": "AADlIVfgDztY",
        "colab_type": "text"
      },
      "source": [
        "Bayesian statistics uses the probability of a situation and calculates the likelihood of an outcome within that probability. Given 50% probability, there may only be 50% probability of an event occuring in 50% of tests, effectively lowering the chance to 25% overall.\n",
        "\n",
        "Frequentists require larger data sets for precision due to the fact they compare probability to the whole, without subsetting the probability of that probability. Given 50% probability, an event will occur 50% of the time."
      ]
    },
    {
      "cell_type": "markdown",
      "metadata": {
        "id": "AeAGBxWjCTv3",
        "colab_type": "text"
      },
      "source": [
        "### 3) Use the following Template to help come up with ideas for your Build Sprint Project: \n",
        "\n"
      ]
    },
    {
      "cell_type": "markdown",
      "metadata": {
        "id": "YgIaBr__C5Q2",
        "colab_type": "text"
      },
      "source": [
        "---\n",
        "\n",
        "## Idea 1:"
      ]
    },
    {
      "cell_type": "markdown",
      "metadata": {
        "id": "MwR6hTB1CiLR",
        "colab_type": "text"
      },
      "source": [
        "### You\n",
        "* What do you care about?\n",
        " * Planning for the future.\n",
        "\n",
        "* What do you know about?\n",
        " * Investing\n",
        "\n",
        "* What decisions do you face?\n",
        " * Managing investments through a pandemic, riots, murder hornets, and pathogen\n",
        " stealing monkeys. (Google monkey steals coronavirus blood sample)\n",
        "\n"
      ]
    },
    {
      "cell_type": "markdown",
      "metadata": {
        "id": "d5owPwlSClm2",
        "colab_type": "text"
      },
      "source": [
        ""
      ]
    },
    {
      "cell_type": "markdown",
      "metadata": {
        "id": "lorLHSkzClzC",
        "colab_type": "text"
      },
      "source": [
        "### Seven templates\n",
        "Training Kit (https://learn.lambdaschool.com/ds/module/recedjanlbpqxic2r) explains the seven templates from Priceonomics.\n",
        "\n",
        "Can you apply the templates to your topics?\n",
        "\n",
        "**Geographic Variation:**\n",
        "\n",
        "**Trend related to the news:**\n",
        "\n",
        "**Who does that?:**\n",
        "\n",
        "**Answering a question people care about:**\n",
        "\n",
        "**Valuable to businesses:**\n",
        "\n",
        "**What's the most popular?:**\n",
        "\n",
        "**Cost/Money rankings:**"
      ]
    },
    {
      "cell_type": "markdown",
      "metadata": {
        "id": "cjxeN9D7Cygt",
        "colab_type": "text"
      },
      "source": [
        "Publicly traded companies are located around the world requiring geographic consideration. Public Relations releases in the news.typically cause a stock price to fluctuacte wildly. Stocks are one of the leading ways to grow a retirement fund. People want to know 'can I do that' and 'is it easy'. Publicly traded businesses need to understand how the market works to grow the popularity of the company and raise funds for the future. Ranking a company is fairly straightforward based on the many data points considered the ranking can be general or very specific."
      ]
    },
    {
      "cell_type": "markdown",
      "metadata": {
        "id": "3OXCCIT6C_p0",
        "colab_type": "text"
      },
      "source": [
        "### Misconceptions\n",
        "\n",
        "What misconceptions do people have about your topic?"
      ]
    },
    {
      "cell_type": "markdown",
      "metadata": {
        "id": "kZAkrgTUDCjF",
        "colab_type": "text"
      },
      "source": [
        "People believe investing is difficult and only professionals can be profitable. They also believe the market is too unstable during a crash to make money when the opposite is true when disciplined methodology is used."
      ]
    },
    {
      "cell_type": "markdown",
      "metadata": {
        "id": "3tNrndE9DD3-",
        "colab_type": "text"
      },
      "source": [
        "### Examples\n",
        "\n",
        "What data storytelling example inspires you?\n",
        "\n",
        "Could you do a new hypothesis, for the same question?\n",
        "\n",
        "Could you do a new question, for the same topic?\n",
        "\n",
        "Could you do a new topic, with the same \"style\"?"
      ]
    },
    {
      "cell_type": "markdown",
      "metadata": {
        "id": "-5NsWQy5DKoR",
        "colab_type": "text"
      },
      "source": [
        "Learning how and why the Mandelbrot set behaves the way it does, especially in three dimensions.\n",
        "\n",
        "$x_{n+1}$ = $rx_{n}$(1-$x_{n}$)"
      ]
    },
    {
      "cell_type": "markdown",
      "metadata": {
        "id": "Stt1jYSpyLDL",
        "colab_type": "text"
      },
      "source": [
        ""
      ]
    },
    {
      "cell_type": "markdown",
      "metadata": {
        "id": "9rPtMFB6DN7B",
        "colab_type": "text"
      },
      "source": [
        "###Data\n",
        "\n",
        "Where could you search for data about your topic?"
      ]
    },
    {
      "cell_type": "markdown",
      "metadata": {
        "id": "s9hqjOlhDTDa",
        "colab_type": "text"
      },
      "source": [
        "I have an account with a brokerage which not only has it's own api accessible to any developer with an account, but also it's own scripting language. Beyond this, stock market information is readily available to all who seek it so long as it isn't in real time."
      ]
    },
    {
      "cell_type": "markdown",
      "metadata": {
        "colab_type": "text",
        "id": "ld5MOaFaDVSK"
      },
      "source": [
        "---\n",
        "\n",
        "## Idea 2:"
      ]
    },
    {
      "cell_type": "markdown",
      "metadata": {
        "colab_type": "text",
        "id": "znhTWIlUDVSM"
      },
      "source": [
        "### You\n",
        "What do you care about?\n",
        "\n",
        "What do you know about?\n",
        "\n",
        "What decisions do you face?\n",
        "\n"
      ]
    },
    {
      "cell_type": "markdown",
      "metadata": {
        "colab_type": "text",
        "id": "3Gln5mYeDVSM"
      },
      "source": [
        ""
      ]
    },
    {
      "cell_type": "markdown",
      "metadata": {
        "colab_type": "text",
        "id": "W-njBredDVSN"
      },
      "source": [
        "### Seven templates\n",
        "Training Kit (https://learn.lambdaschool.com/ds/module/recedjanlbpqxic2r) explains the seven templates from Priceonomics.\n",
        "\n",
        "Can you apply the templates to your topics?\n",
        "\n",
        "**Geographic Variation:**\n",
        "\n",
        "**Trend related to the news:**\n",
        "\n",
        "**Who does that?:**\n",
        "\n",
        "**Answering a question people care about:**\n",
        "\n",
        "**Valuable to businesses:**\n",
        "\n",
        "**What's the most popular?:**\n",
        "\n",
        "**Cost/Money rankings:**"
      ]
    },
    {
      "cell_type": "markdown",
      "metadata": {
        "colab_type": "text",
        "id": "pkOqHHL3DVSN"
      },
      "source": [
        ""
      ]
    },
    {
      "cell_type": "markdown",
      "metadata": {
        "colab_type": "text",
        "id": "njLQ3hLuDVSO"
      },
      "source": [
        "### Misconceptions\n",
        "\n",
        "What misconceptions do people have about your topic?"
      ]
    },
    {
      "cell_type": "markdown",
      "metadata": {
        "colab_type": "text",
        "id": "IzrUvaKeDVSO"
      },
      "source": [
        ""
      ]
    },
    {
      "cell_type": "markdown",
      "metadata": {
        "colab_type": "text",
        "id": "L0X6X5WaDVSP"
      },
      "source": [
        "### Examples\n",
        "\n",
        "What data storytelling example inspires you?\n",
        "\n",
        "Could you do a new hypothesis, for the same question?\n",
        "\n",
        "Could you do a new question, for the same topic?\n",
        "\n",
        "Could you do a new topic, with the same \"style\"?"
      ]
    },
    {
      "cell_type": "markdown",
      "metadata": {
        "colab_type": "text",
        "id": "fDdHExa0DVSP"
      },
      "source": [
        ""
      ]
    },
    {
      "cell_type": "markdown",
      "metadata": {
        "colab_type": "text",
        "id": "CxgSpiwYDVSQ"
      },
      "source": [
        "###Data\n",
        "\n",
        "Where could you search for data about your topic?"
      ]
    },
    {
      "cell_type": "markdown",
      "metadata": {
        "id": "uWgWjp3PQ3Sq",
        "colab_type": "text"
      },
      "source": [
        "## Resources"
      ]
    },
    {
      "cell_type": "markdown",
      "metadata": {
        "id": "QRgHqmYIQ9qn",
        "colab_type": "text"
      },
      "source": [
        "- [Worked example of Bayes rule calculation](https://en.wikipedia.org/wiki/Bayes'_theorem#Examples) (helpful as it fully breaks out the denominator)\n",
        "- [Source code for mvsdist in scipy](https://github.com/scipy/scipy/blob/90534919e139d2a81c24bf08341734ff41a3db12/scipy/stats/morestats.py#L139)"
      ]
    },
    {
      "cell_type": "markdown",
      "metadata": {
        "id": "GP7Jv1XvwtkX",
        "colab_type": "text"
      },
      "source": [
        "## Stretch Goals:\n",
        "\n",
        "- Go back and study the content from Modules 1 & 2 & 3 to make sure that you're really comfortable with them.\n",
        "- Apply a Bayesian technique to a problem you previously worked (in an assignment or project work) on from a frequentist (standard) perspective\n",
        "- Check out [PyMC3](https://docs.pymc.io/) (note this goes beyond hypothesis tests into modeling) - read the guides and work through some examples\n",
        "- Take PyMC3 further - see if you can build something with it!"
      ]
    }
  ]
}