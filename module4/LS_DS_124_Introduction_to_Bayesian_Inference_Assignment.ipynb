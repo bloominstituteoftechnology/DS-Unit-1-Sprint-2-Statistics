{
  "nbformat": 4,
  "nbformat_minor": 0,
  "metadata": {
    "colab": {
      "name": "Santiago_Berniz_LS_DS_124_Introduction_to_Bayesian_Inference_Assignment.ipynb",
      "provenance": [],
      "collapsed_sections": [],
      "include_colab_link": true
    },
    "kernelspec": {
      "name": "python3",
      "display_name": "Python 3"
    }
  },
  "cells": [
    {
      "cell_type": "markdown",
      "metadata": {
        "id": "view-in-github",
        "colab_type": "text"
      },
      "source": [
        "<a href=\"https://colab.research.google.com/github/sberniz/DS-Unit-1-Sprint-2-Statistics/blob/master/module4/LS_DS_124_Introduction_to_Bayesian_Inference_Assignment.ipynb\" target=\"_parent\"><img src=\"https://colab.research.google.com/assets/colab-badge.svg\" alt=\"Open In Colab\"/></a>"
      ]
    },
    {
      "cell_type": "markdown",
      "metadata": {
        "id": "H7OLbevlbd_Z",
        "colab_type": "text"
      },
      "source": [
        "# Lambda School Data Science Module 124\n",
        "\n",
        "## Introduction to Bayesian Inference\n",
        "\n",
        "\n"
      ]
    },
    {
      "cell_type": "markdown",
      "metadata": {
        "id": "P-DzzRk5bf0z",
        "colab_type": "text"
      },
      "source": [
        "## Assignment - Code it up!\n",
        "\n",
        "We used pure math to apply Bayes Theorem to drug tests. Now write Python code to reproduce the results! This is purposefully open ended - you'll have to think about how you should represent probabilities and events. You can and should look things up.\n",
        "\n",
        "Specific goals/targets:\n",
        "\n",
        "### 1) Write a function \n",
        "\n",
        "`def prob_drunk_given_positive(prob_drunk_prior, false_positive_rate, true_positive_rate):` \n",
        "\n",
        "You should only truly need these three values in order to apply Bayes Theorem. In this example, imagine that individuals are taking a breathalyzer test with an 8% false positive rate, a 100% true positive rate, and that our prior belief about drunk driving in the population is 1/1000. \n",
        " - What is the probability that a person is drunk after one positive breathalyzer test?\n",
        " - What is the probability that a person is drunk after two positive breathalyzer tests?\n",
        " - How many positive breathalyzer tests are needed in order to have a probability that's greater than 95% that a person is drunk beyond the legal limit?\n"
      ]
    },
    {
      "cell_type": "code",
      "metadata": {
        "id": "xpVhZyUnbf7o",
        "colab_type": "code",
        "colab": {
          "base_uri": "https://localhost:8080/",
          "height": 173
        },
        "outputId": "3f9e01d6-e95e-461a-9e19-f1a6010ccd83"
      },
      "source": [
        "# TODO - code!\n",
        "#False positive = 8%\n",
        "#True postivie Rate = 100%\n",
        "#drunk_driving_prob = 1/1000\n",
        "\n",
        "def prob_drunk_given_positive(prob_drunk_prior = 1/1000, false_positive_rate = .08, true_positive_rate = 1):\n",
        "  numerator = true_positive_rate*prob_drunk_prior\n",
        "  posterior_probability = numerator /( (numerator) + (false_positive_rate*(1 - prob_drunk_prior)))\n",
        "  return posterior_probability\n",
        "  \n",
        "posterior_probability = 1/1000\n",
        "for test in range(0,4):\n",
        "  posterior_probability = prob_drunk_given_positive(posterior_probability)\n",
        "  print(\"Test #\",test+1)\n",
        "  print(\"Probability\",posterior_probability)\n",
        "  if posterior_probability >= .95:\n",
        "    print(\"Number of Takes to be over 95%: \",test+1)\n"
      ],
      "execution_count": 60,
      "outputs": [
        {
          "output_type": "stream",
          "text": [
            "Test # 1\n",
            "Probability 0.012357884330202669\n",
            "Test # 2\n",
            "Probability 0.13525210993291495\n",
            "Test # 3\n",
            "Probability 0.6615996951348605\n",
            "Test # 4\n",
            "Probability 0.9606895076105054\n",
            "Number of Takes to be over 95%:  4\n"
          ],
          "name": "stdout"
        }
      ]
    },
    {
      "cell_type": "markdown",
      "metadata": {
        "id": "nhOAsLjvCSLF",
        "colab_type": "text"
      },
      "source": [
        "### 2) In your own words, summarize the difference between Bayesian and Frequentist statistics\n",
        "\n",
        "If you're unsure where to start, check out [this blog post of Bayes theorem with Python](https://dataconomy.com/2015/02/introduction-to-bayes-theorem-with-python/)."
      ]
    },
    {
      "cell_type": "markdown",
      "metadata": {
        "id": "AADlIVfgDztY",
        "colab_type": "text"
      },
      "source": [
        "in Frequentist statistic, as the word says, they work more with sample and how frequent a data shows, on the other hand, Bayesian statistic, they take into account previous results to calculate the statistics. We Take into account previous known data to calculate posterior probability"
      ]
    },
    {
      "cell_type": "markdown",
      "metadata": {
        "id": "AeAGBxWjCTv3",
        "colab_type": "text"
      },
      "source": [
        "### 3) Use the following Template to help come up with ideas for your Build Sprint Project: \n",
        "\n"
      ]
    },
    {
      "cell_type": "markdown",
      "metadata": {
        "id": "YgIaBr__C5Q2",
        "colab_type": "text"
      },
      "source": [
        "---\n",
        "\n",
        "## Idea 1:"
      ]
    },
    {
      "cell_type": "markdown",
      "metadata": {
        "id": "MwR6hTB1CiLR",
        "colab_type": "text"
      },
      "source": [
        "### You\n",
        "What do you care about?\n",
        "How Uruguay is beating Covid with a low \n",
        "What do you know about?\n",
        "\n",
        "Almost Universal health care, with Private and \"mutualist, recent health care reform. \n",
        "\n",
        "\n",
        "What decisions do you face?\n",
        "\n",
        "whether or not to go visit Uruguay\n"
      ]
    },
    {
      "cell_type": "markdown",
      "metadata": {
        "id": "d5owPwlSClm2",
        "colab_type": "text"
      },
      "source": [
        ""
      ]
    },
    {
      "cell_type": "markdown",
      "metadata": {
        "id": "lorLHSkzClzC",
        "colab_type": "text"
      },
      "source": [
        "### Seven templates\n",
        "Training Kit (https://learn.lambdaschool.com/ds/module/recedjanlbpqxic2r) explains the seven templates from Priceonomics.\n",
        "\n",
        "Can you apply the templates to your topics?\n",
        "\n",
        "**Geographic Variation:**\n",
        "is in south america where there are a lot of covid19 cases, yet does is lowest in the region \n",
        "\n",
        "**Trend related to the news:**\n",
        "One oft he lowest covid count and fewer death even without a mandatory lockdown as shown on thisnews article [Uruguay is beating Latin American Coronavirus curse](https://www.bloomberg.com/opinion/articles/2020-05-29/uruguay-is-beating-latin-america-s-coronavirus-curse)\n",
        "**Who does that?:**\n",
        "\n",
        "**Answering a question people care about:**\n",
        "Contact Tracing and testing helps contorl a pandemic\n",
        "**Valuable to businesses:**\n",
        "\n",
        "How to prevent spread of covid on their business\n",
        "\n",
        "**What's the most popular?:**\n",
        "\n",
        "Most popular is not mandatory lockdown. \n",
        "\n",
        "**Cost/Money rankings:**\n",
        "\n",
        "with pandemic under control, businesses can open and the economical impact is not as serious "
      ]
    },
    {
      "cell_type": "markdown",
      "metadata": {
        "id": "3OXCCIT6C_p0",
        "colab_type": "text"
      },
      "source": [
        "### Misconceptions\n",
        "\n",
        "What misconceptions do people have about your topic?"
      ]
    },
    {
      "cell_type": "markdown",
      "metadata": {
        "id": "kZAkrgTUDCjF",
        "colab_type": "text"
      },
      "source": [
        "That all South american countries have high covid-19 cases"
      ]
    },
    {
      "cell_type": "markdown",
      "metadata": {
        "id": "3tNrndE9DD3-",
        "colab_type": "text"
      },
      "source": [
        "### Examples\n",
        "\n",
        "What data storytelling example inspires you?\n",
        "\n",
        "Could you do a new hypothesis, for the same question?\n",
        "\n",
        "Could you do a new question, for the same topic?\n",
        "Yes, How different would it be if they didn't do contact tracing and lot of tests\n",
        "Could you do a new topic, with the same \"style\"?\n"
      ]
    },
    {
      "cell_type": "markdown",
      "metadata": {
        "id": "-5NsWQy5DKoR",
        "colab_type": "text"
      },
      "source": [
        "Not speicfic exapmle but seeing  just the google graph as the line decreases it inspire me , New hypothesis for same question maybe that \n",
        "Yes, new hypothesis would be that mandatory lockdown would be even lower cases.\n"
      ]
    },
    {
      "cell_type": "markdown",
      "metadata": {
        "id": "9rPtMFB6DN7B",
        "colab_type": "text"
      },
      "source": [
        "###Data\n",
        "\n",
        "Where could you search for data about your topic?"
      ]
    },
    {
      "cell_type": "markdown",
      "metadata": {
        "id": "s9hqjOlhDTDa",
        "colab_type": "text"
      },
      "source": [
        "Uruguay ministry of Health, our world in data, WHO"
      ]
    },
    {
      "cell_type": "markdown",
      "metadata": {
        "colab_type": "text",
        "id": "ld5MOaFaDVSK"
      },
      "source": [
        "---\n",
        "\n",
        "## Idea 2:"
      ]
    },
    {
      "cell_type": "markdown",
      "metadata": {
        "colab_type": "text",
        "id": "znhTWIlUDVSM"
      },
      "source": [
        "### You\n",
        "What do you care about?\n",
        "\n",
        "Why are Pilot classes so expensive\n",
        "\n",
        "What do you know about?\n",
        "\n",
        "aviation equipment is expensive due to rigorous safety implementation required by the FAA\n",
        "\n",
        "What decisions do you face?\n",
        "\n",
        "wether to take Pilot classes or not\n"
      ]
    },
    {
      "cell_type": "markdown",
      "metadata": {
        "colab_type": "text",
        "id": "W-njBredDVSN"
      },
      "source": [
        "### Seven templates\n",
        "Training Kit (https://learn.lambdaschool.com/ds/module/recedjanlbpqxic2r) explains the seven templates from Priceonomics.\n",
        "\n",
        "Can you apply the templates to your topics?\n",
        "\n",
        "**Geographic Variation:** Some countries and states  is has cheaper options \n",
        "\n",
        "**Trend related to the news:** How Covid- Affected aviation industry even for flight schools\n",
        "\n",
        "**Who does that?:** This product might help aspiring student pilots to decide which school to go to and how to go about it\n",
        "\n",
        "**Answering a question people care about:** How safe is aviation\n",
        "\n",
        "**Valuable to businesses:** How flight school can bring more students\n",
        "\n",
        "**What's the most popular?:**Most popular way is to study up until CFI, and then teach to get money while getting more hours\n",
        "\n",
        "**Cost/Money rankings:** Aviation career is very expensive, and new pilots do not make much money"
      ]
    },
    {
      "cell_type": "markdown",
      "metadata": {
        "colab_type": "text",
        "id": "njLQ3hLuDVSO"
      },
      "source": [
        "### Misconceptions\n",
        "\n",
        "What misconceptions do people have about your topic?"
      ]
    },
    {
      "cell_type": "markdown",
      "metadata": {
        "colab_type": "text",
        "id": "IzrUvaKeDVSO"
      },
      "source": [
        "THat flying is more dangerous than Driving"
      ]
    },
    {
      "cell_type": "markdown",
      "metadata": {
        "colab_type": "text",
        "id": "L0X6X5WaDVSP"
      },
      "source": [
        "### Examples\n",
        "\n",
        "What data storytelling example inspires you?\n",
        "\n",
        "Motor Vehicle Injuries and Deaths from November 2018 — April 2019\n",
        "\n",
        "Could you do a new hypothesis, for the same question?\n",
        "\n",
        "Yes new hypothesis could be that is not as expensive as it seems to be \n",
        "\n",
        "Could you do a new question, for the same topic?\n",
        "\n",
        "Yes, is it worth to espend so much money on a pilots license. and others too such as Should pilots be paid more from the beginning. \n",
        "\n",
        "Could you do a new topic, with the same \"style\"?\n",
        "Yes."
      ]
    },
    {
      "cell_type": "markdown",
      "metadata": {
        "colab_type": "text",
        "id": "fDdHExa0DVSP"
      },
      "source": [
        ""
      ]
    },
    {
      "cell_type": "markdown",
      "metadata": {
        "colab_type": "text",
        "id": "CxgSpiwYDVSQ"
      },
      "source": [
        "###Data\n",
        "\n",
        "FAA  and Flight schools"
      ]
    },
    {
      "cell_type": "markdown",
      "metadata": {
        "id": "uWgWjp3PQ3Sq",
        "colab_type": "text"
      },
      "source": [
        "## Resources"
      ]
    },
    {
      "cell_type": "markdown",
      "metadata": {
        "id": "QRgHqmYIQ9qn",
        "colab_type": "text"
      },
      "source": [
        "- [Worked example of Bayes rule calculation](https://en.wikipedia.org/wiki/Bayes'_theorem#Examples) (helpful as it fully breaks out the denominator)\n",
        "- [Source code for mvsdist in scipy](https://github.com/scipy/scipy/blob/90534919e139d2a81c24bf08341734ff41a3db12/scipy/stats/morestats.py#L139)"
      ]
    },
    {
      "cell_type": "markdown",
      "metadata": {
        "id": "GP7Jv1XvwtkX",
        "colab_type": "text"
      },
      "source": [
        "## Stretch Goals:\n",
        "\n",
        "- Go back and study the content from Modules 1 & 2 & 3 to make sure that you're really comfortable with them.\n",
        "- Apply a Bayesian technique to a problem you previously worked (in an assignment or project work) on from a frequentist (standard) perspective\n",
        "- Check out [PyMC3](https://docs.pymc.io/) (note this goes beyond hypothesis tests into modeling) - read the guides and work through some examples\n",
        "- Take PyMC3 further - see if you can build something with it!"
      ]
    }
  ]
}