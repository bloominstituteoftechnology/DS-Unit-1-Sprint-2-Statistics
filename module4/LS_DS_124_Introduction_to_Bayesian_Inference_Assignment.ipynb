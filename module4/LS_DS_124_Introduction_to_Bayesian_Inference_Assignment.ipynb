{
  "nbformat": 4,
  "nbformat_minor": 0,
  "metadata": {
    "colab": {
      "name": "LS_DS_124_Introduction_to_Bayesian_Inference_Assignment.ipynb",
      "provenance": [],
      "collapsed_sections": [],
      "include_colab_link": true
    },
    "kernelspec": {
      "name": "python3",
      "display_name": "Python 3"
    }
  },
  "cells": [
    {
      "cell_type": "markdown",
      "metadata": {
        "id": "view-in-github",
        "colab_type": "text"
      },
      "source": [
        "<a href=\"https://colab.research.google.com/github/timrocar/DS-Unit-1-Sprint-2-Statistics/blob/master/module4/LS_DS_124_Introduction_to_Bayesian_Inference_Assignment.ipynb\" target=\"_parent\"><img src=\"https://colab.research.google.com/assets/colab-badge.svg\" alt=\"Open In Colab\"/></a>"
      ]
    },
    {
      "cell_type": "markdown",
      "metadata": {
        "id": "H7OLbevlbd_Z",
        "colab_type": "text"
      },
      "source": [
        "# Lambda School Data Science Module 124\n",
        "\n",
        "## Introduction to Bayesian Inference\n",
        "\n",
        "\n"
      ]
    },
    {
      "cell_type": "markdown",
      "metadata": {
        "id": "P-DzzRk5bf0z",
        "colab_type": "text"
      },
      "source": [
        "## Assignment - Code it up!\n",
        "\n",
        "We used pure math to apply Bayes Theorem to drug tests. Now write Python code to reproduce the results! This is purposefully open ended - you'll have to think about how you should represent probabilities and events. You can and should look things up.\n",
        "\n",
        "Specific goals/targets:\n",
        "\n",
        "### 1) Write a function \n",
        "\n",
        "`def prob_drunk_given_positive(prob_drunk_prior, false_positive_rate, true_positive_rate):` \n",
        "\n",
        "You should only truly need these three values in order to apply Bayes Theorem. In this example, imagine that individuals are taking a breathalyzer test with an 8% false positive rate, a 100% true positive rate, and that our prior belief about drunk driving in the population is 1/1000. \n",
        " - What is the probability that a person is drunk after one positive breathalyzer test?\n",
        " - What is the probability that a person is drunk after two positive breathalyzer tests?\n",
        " - How many positive breathalyzer tests are needed in order to have a probability that's greater than 95% that a person is drunk beyond the legal limit?\n"
      ]
    },
    {
      "cell_type": "code",
      "metadata": {
        "id": "xpVhZyUnbf7o",
        "colab_type": "code",
        "colab": {}
      },
      "source": [
        "# TODO - code!"
      ],
      "execution_count": 1,
      "outputs": []
    },
    {
      "cell_type": "code",
      "metadata": {
        "id": "-4mYDlTaDqHR",
        "colab_type": "code",
        "colab": {
          "base_uri": "https://localhost:8080/",
          "height": 34
        },
        "outputId": "53aa89b6-ba1b-49ad-c59c-25e05fdeaf96"
      },
      "source": [
        "import numpy as np \n",
        "from scipy import stats\n",
        "\n",
        "# false positive rate\n",
        "p_pos_not_drunk = .08\n",
        "\n",
        "# true posivite rate\n",
        "p_pos_user = 1\n",
        "\n",
        "# Prior probability (drunk driving rate)\n",
        "p_user = .001\n",
        "\n",
        "# complement prior\n",
        "p_non_user = 1 - p_user\n",
        "\n",
        "numerator = p_pos_user*p_user\n",
        "denominator = p_pos_user*p_user + p_pos_not_drunk*p_non_user\n",
        "\n",
        "posterior_probability = numerator/denominator \n",
        "\n",
        "print('the probability that a person is drunk after one positive breathalyzer test =', posterior_probability)\n"
      ],
      "execution_count": 14,
      "outputs": [
        {
          "output_type": "stream",
          "text": [
            "the probability that a person is drunk after one positive breathalyzer test = 0.012357884330202669\n"
          ],
          "name": "stdout"
        }
      ]
    },
    {
      "cell_type": "code",
      "metadata": {
        "id": "KsdgcPOOJhdJ",
        "colab_type": "code",
        "colab": {
          "base_uri": "https://localhost:8080/",
          "height": 34
        },
        "outputId": "835f8949-0509-4c2d-d400-f890a01e29e2"
      },
      "source": [
        "# false positive rate\n",
        "p_pos_not_drunk = .08\n",
        "\n",
        "# true posivite rate\n",
        "p_pos_user = 1\n",
        "\n",
        "# Prior probability (drunk driving rate)\n",
        "p_user = posterior_probability\n",
        "\n",
        "# complement prior\n",
        "p_non_user = 1 - p_user\n",
        "\n",
        "numerator = p_pos_user*p_user\n",
        "denominator = p_pos_user*p_user + p_pos_not_drunk*p_non_user\n",
        "\n",
        "posterior_probability = numerator/denominator \n",
        "\n",
        "print('the probability that a person is drunk after two positive breathalyzer tests =', posterior_probability)\n"
      ],
      "execution_count": 15,
      "outputs": [
        {
          "output_type": "stream",
          "text": [
            "the probability that a person is drunk after two positive breathalyzer tests = 0.13525210993291495\n"
          ],
          "name": "stdout"
        }
      ]
    },
    {
      "cell_type": "markdown",
      "metadata": {
        "id": "iqFGL3uWMXHp",
        "colab_type": "text"
      },
      "source": [
        "###How many positive breathalyzer tests are needed in order to have a probability that's greater than 95% that a person is drunk beyond the legal limit?\n"
      ]
    },
    {
      "cell_type": "code",
      "metadata": {
        "id": "PqCxpvygKmPa",
        "colab_type": "code",
        "colab": {
          "base_uri": "https://localhost:8080/",
          "height": 34
        },
        "outputId": "42675c33-9a1f-416b-e912-50b36cfd2d81"
      },
      "source": [
        "###Third Test!\n",
        "# false positive rate\n",
        "p_pos_not_drunk = .08\n",
        "\n",
        "# true posivite rate\n",
        "p_pos_user = 1\n",
        "\n",
        "# Prior probability (drunk driving rate)\n",
        "p_user = posterior_probability\n",
        "\n",
        "# complement prior\n",
        "p_non_user = 1 - p_user\n",
        "\n",
        "numerator = p_pos_user*p_user\n",
        "denominator = p_pos_user*p_user + p_pos_not_drunk*p_non_user\n",
        "\n",
        "posterior_probability = numerator/denominator \n",
        "\n",
        "posterior_probability"
      ],
      "execution_count": 16,
      "outputs": [
        {
          "output_type": "execute_result",
          "data": {
            "text/plain": [
              "0.6615996951348605"
            ]
          },
          "metadata": {
            "tags": []
          },
          "execution_count": 16
        }
      ]
    },
    {
      "cell_type": "code",
      "metadata": {
        "id": "qhtE4ej-KnP9",
        "colab_type": "code",
        "colab": {
          "base_uri": "https://localhost:8080/",
          "height": 34
        },
        "outputId": "a9672aa4-b549-419d-8ddc-18e6d5e0e81f"
      },
      "source": [
        "## Fourth Test!\n",
        "# false positive rate\n",
        "p_pos_not_drunk = .08\n",
        "\n",
        "# true posivite rate\n",
        "p_pos_user = 1\n",
        "\n",
        "# Prior probability (drunk driving rate)\n",
        "p_user = posterior_probability\n",
        "\n",
        "# complement prior\n",
        "p_non_user = 1 - p_user\n",
        "\n",
        "numerator = p_pos_user*p_user\n",
        "denominator = p_pos_user*p_user + p_pos_not_drunk*p_non_user\n",
        "\n",
        "posterior_probability = numerator/denominator \n",
        "\n",
        "posterior_probability"
      ],
      "execution_count": 17,
      "outputs": [
        {
          "output_type": "execute_result",
          "data": {
            "text/plain": [
              "0.9606895076105054"
            ]
          },
          "metadata": {
            "tags": []
          },
          "execution_count": 17
        }
      ]
    },
    {
      "cell_type": "markdown",
      "metadata": {
        "id": "nhOAsLjvCSLF",
        "colab_type": "text"
      },
      "source": [
        "### 2) In your own words, summarize the difference between Bayesian and Frequentist statistics\n",
        "\n",
        "If you're unsure where to start, check out [this blog post of Bayes theorem with Python](https://dataconomy.com/2015/02/introduction-to-bayes-theorem-with-python/)."
      ]
    },
    {
      "cell_type": "markdown",
      "metadata": {
        "id": "AADlIVfgDztY",
        "colab_type": "text"
      },
      "source": [
        "The major difference between Bayesian and Frequentist statistics is that Bayesian statistics accounts for both our sample distribution and previous distribution, or in lay mans terms, it means that we account for previous info/understanding. The frequentist statistic would just just use the sample data to understand a data set. "
      ]
    },
    {
      "cell_type": "markdown",
      "metadata": {
        "id": "AeAGBxWjCTv3",
        "colab_type": "text"
      },
      "source": [
        "### 3) Use the following Template to help come up with ideas for your Build Sprint Project: \n",
        "\n"
      ]
    },
    {
      "cell_type": "markdown",
      "metadata": {
        "id": "YgIaBr__C5Q2",
        "colab_type": "text"
      },
      "source": [
        "---\n",
        "\n",
        "## Idea 1:"
      ]
    },
    {
      "cell_type": "markdown",
      "metadata": {
        "id": "MwR6hTB1CiLR",
        "colab_type": "text"
      },
      "source": [
        "### You\n",
        "What do you care about?\n",
        "\n",
        " mental health\n",
        "\n",
        "What do you know about?\n",
        " \n",
        " gaming\n",
        "\n",
        "What decisions do you face?\n",
        " \n",
        " I'd like to make a project that compares mental health with the amount of hours spent playing video games(or possibly mental health vs. time spent outside)\n",
        " \n"
      ]
    },
    {
      "cell_type": "markdown",
      "metadata": {
        "id": "lorLHSkzClzC",
        "colab_type": "text"
      },
      "source": [
        "### Seven templates\n",
        "Training Kit (https://learn.lambdaschool.com/ds/module/recedjanlbpqxic2r) explains the seven templates from Priceonomics.\n",
        "\n",
        "Can you apply the templates to your topics?\n",
        "\n",
        "**Geographic Variation:**\n",
        "yes, can be narrowed down to areas (rural/suburban/urban) or by states\n",
        "\n",
        "**Trend related to the news:**\n",
        "I think this can be related to the news because with the quarantine and restrictions in social interaction video game usage it largely increased\n",
        "**Who does that?:**\n",
        "gamers, mental health advocates, esports organizations\n",
        "**Answering a question people care about:**\n",
        "gamers would find this info valuable, especially with more people considering eSports/digital content creation as a career path. \n",
        "**Valuable to businesses:**\n",
        "this could be used for advertsing, particularly for well-being apps/services, as targeting gamers may be highly beneficial currently\n",
        "**What's the most popular?:**\n",
        "what is the most common ammount of time spent playing video games? how does their mental health compare to the worst. \n",
        "**Cost/Money rankings:**\n",
        "im not sure what to say here. "
      ]
    },
    {
      "cell_type": "markdown",
      "metadata": {
        "id": "cjxeN9D7Cygt",
        "colab_type": "text"
      },
      "source": [
        ""
      ]
    },
    {
      "cell_type": "markdown",
      "metadata": {
        "id": "3OXCCIT6C_p0",
        "colab_type": "text"
      },
      "source": [
        "### Misconceptions\n",
        "\n",
        "What misconceptions do people have about your topic?"
      ]
    },
    {
      "cell_type": "markdown",
      "metadata": {
        "id": "kZAkrgTUDCjF",
        "colab_type": "text"
      },
      "source": [
        "that bad mental/physical/social health is directly linked to playing video games, especially with how social they are nowadays"
      ]
    },
    {
      "cell_type": "markdown",
      "metadata": {
        "id": "3tNrndE9DD3-",
        "colab_type": "text"
      },
      "source": [
        "### Examples\n",
        "\n",
        "What data storytelling example inspires you?\n",
        "I really enjoyed the example that tracked prescription rates in medicaid , as well as the graphic that described wealth vs life expectancy by county.\n",
        "\n",
        "Could you do a new hypothesis, for the same question?\n",
        "Moderate gaming actually results in better mental health then no gaming at all/ when accounting gaming as digital socialization\n",
        "Could you do a new question, for the same topic?\n",
        "Is ammount of gaming usage actually an effect of bad mental health, not the cause. \n",
        "Could you do a new topic, with the same \"style\"?\n",
        "Yes, I could easily do a different topic with the same style, such as exercise vs mental health. "
      ]
    },
    {
      "cell_type": "markdown",
      "metadata": {
        "id": "9rPtMFB6DN7B",
        "colab_type": "text"
      },
      "source": [
        "###Data\n",
        "I can find data from UCI, or Google Public Datasets, or from Kaggle\n"
      ]
    },
    {
      "cell_type": "markdown",
      "metadata": {
        "id": "s9hqjOlhDTDa",
        "colab_type": "text"
      },
      "source": [
        ""
      ]
    },
    {
      "cell_type": "markdown",
      "metadata": {
        "colab_type": "text",
        "id": "ld5MOaFaDVSK"
      },
      "source": [
        "---\n",
        "\n",
        "## Idea 2:"
      ]
    },
    {
      "cell_type": "markdown",
      "metadata": {
        "colab_type": "text",
        "id": "znhTWIlUDVSM"
      },
      "source": [
        "### You\n",
        "What do you care about?\n",
        " \n",
        " well-being \n",
        "What do you know about?\n",
        " \n",
        " the relationship between things that may not be immedietly visible\n",
        "What decisions do you face?\n",
        " \n",
        " what things to try to bridge. \n",
        "\n",
        "I think I could try to make a paper connecting covid-19 deaths per capita vs the physical activity levels + nutrition. "
      ]
    },
    {
      "cell_type": "markdown",
      "metadata": {
        "colab_type": "text",
        "id": "3Gln5mYeDVSM"
      },
      "source": [
        ""
      ]
    },
    {
      "cell_type": "markdown",
      "metadata": {
        "colab_type": "text",
        "id": "W-njBredDVSN"
      },
      "source": [
        "### Seven templates\n",
        "Training Kit (https://learn.lambdaschool.com/ds/module/recedjanlbpqxic2r) explains the seven templates from Priceonomics.\n",
        "\n",
        "Can you apply the templates to your topics?\n",
        "\n",
        "**Geographic Variation:**\n",
        "\n",
        "yes, geographic variation would be the main focus\n",
        "\n",
        "**Trend related to the news:**\n",
        "\n",
        "yes, covid-19 gets all the ratings\n",
        "\n",
        "**Who does that?:**\n",
        "\n",
        "this could help lawmakers and consumers to better structure a plan in case of another spike in covid infections. \n",
        "\n",
        "**Answering a question people care about:**\n",
        "\n",
        "yes, I think to see all of this info in one place would be very helpful for people to understand just how important personal health is when fighting off this pandemic.\n",
        "\n",
        "**Valuable to businesses:**\n",
        "\n",
        "valuable to businesses both in the health realm but also the businesses who can stay open if a better prepared country/consumer faces the pandemic. \n",
        "\n",
        "**What's the most popular?:**\n",
        "\n",
        " what is the most important factor in fighting covid? nutrition, physical activity, obesity?\n",
        "\n",
        "**Cost/Money rankings:**\n",
        "\n",
        "Personal well-being may benefit the most, and in turn health services/gyms/whole foods stores?"
      ]
    },
    {
      "cell_type": "markdown",
      "metadata": {
        "colab_type": "text",
        "id": "pkOqHHL3DVSN"
      },
      "source": [
        ""
      ]
    },
    {
      "cell_type": "markdown",
      "metadata": {
        "colab_type": "text",
        "id": "njLQ3hLuDVSO"
      },
      "source": [
        "### Misconceptions\n",
        "\n",
        "What misconceptions do people have about your topic?\n",
        "\n",
        "Covid-19 only seriously affects the elderly and those with \"pre-existing conditions\" "
      ]
    },
    {
      "cell_type": "markdown",
      "metadata": {
        "colab_type": "text",
        "id": "IzrUvaKeDVSO"
      },
      "source": [
        ""
      ]
    },
    {
      "cell_type": "markdown",
      "metadata": {
        "colab_type": "text",
        "id": "L0X6X5WaDVSP"
      },
      "source": [
        "### Examples\n",
        "\n",
        "What data storytelling example inspires you?\n",
        "\n",
        "The Wealth vs Life span by country graph\n",
        "\n",
        "Could you do a new hypothesis, for the same question?\n",
        "\n",
        "Yes, COVID-19 affects people the same regardless of health and physical activity levels (?)\n",
        "\n",
        "Could you do a new question, for the same topic?\n",
        "\n",
        "Has COVID-19 killed more people in low-income areas\n",
        "\n",
        "Could you do a new topic, with the same \"style\"?\n",
        "\n",
        "yes"
      ]
    },
    {
      "cell_type": "markdown",
      "metadata": {
        "colab_type": "text",
        "id": "fDdHExa0DVSP"
      },
      "source": [
        ""
      ]
    },
    {
      "cell_type": "markdown",
      "metadata": {
        "colab_type": "text",
        "id": "CxgSpiwYDVSQ"
      },
      "source": [
        "###Data\n",
        "\n",
        "Where could you search for data about your topic?\n",
        "\n",
        "CDC info, US Census data, UCI, or Google Public Datasets, or from Kaggle"
      ]
    },
    {
      "cell_type": "markdown",
      "metadata": {
        "id": "uWgWjp3PQ3Sq",
        "colab_type": "text"
      },
      "source": [
        "## Resources"
      ]
    },
    {
      "cell_type": "markdown",
      "metadata": {
        "id": "QRgHqmYIQ9qn",
        "colab_type": "text"
      },
      "source": [
        "- [Worked example of Bayes rule calculation](https://en.wikipedia.org/wiki/Bayes'_theorem#Examples) (helpful as it fully breaks out the denominator)\n",
        "- [Source code for mvsdist in scipy](https://github.com/scipy/scipy/blob/90534919e139d2a81c24bf08341734ff41a3db12/scipy/stats/morestats.py#L139)"
      ]
    },
    {
      "cell_type": "markdown",
      "metadata": {
        "id": "GP7Jv1XvwtkX",
        "colab_type": "text"
      },
      "source": [
        "## Stretch Goals:\n",
        "\n",
        "- Go back and study the content from Modules 1 & 2 & 3 to make sure that you're really comfortable with them.\n",
        "- Apply a Bayesian technique to a problem you previously worked (in an assignment or project work) on from a frequentist (standard) perspective\n",
        "- Check out [PyMC3](https://docs.pymc.io/) (note this goes beyond hypothesis tests into modeling) - read the guides and work through some examples\n",
        "- Take PyMC3 further - see if you can build something with it!"
      ]
    }
  ]
}