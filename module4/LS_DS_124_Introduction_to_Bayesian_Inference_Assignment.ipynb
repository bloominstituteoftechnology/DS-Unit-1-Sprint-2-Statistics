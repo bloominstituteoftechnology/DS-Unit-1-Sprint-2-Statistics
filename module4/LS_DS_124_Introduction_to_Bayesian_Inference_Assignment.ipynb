{
  "nbformat": 4,
  "nbformat_minor": 0,
  "metadata": {
    "colab": {
      "name": "LS_DS_124_Introduction_to_Bayesian_Inference_Assignment.ipynb",
      "provenance": [],
      "collapsed_sections": [],
      "include_colab_link": true
    },
    "kernelspec": {
      "name": "python3",
      "display_name": "Python 3"
    }
  },
  "cells": [
    {
      "cell_type": "markdown",
      "metadata": {
        "id": "view-in-github",
        "colab_type": "text"
      },
      "source": [
        "<a href=\"https://colab.research.google.com/github/JonRivera/DS-Unit-1-Sprint-2-Statistics/blob/master/module4/LS_DS_124_Introduction_to_Bayesian_Inference_Assignment.ipynb\" target=\"_parent\"><img src=\"https://colab.research.google.com/assets/colab-badge.svg\" alt=\"Open In Colab\"/></a>"
      ]
    },
    {
      "cell_type": "markdown",
      "metadata": {
        "id": "H7OLbevlbd_Z",
        "colab_type": "text"
      },
      "source": [
        "# Lambda School Data Science Module 124\n",
        "\n",
        "## Introduction to Bayesian Inference\n",
        "\n",
        "\n"
      ]
    },
    {
      "cell_type": "markdown",
      "metadata": {
        "id": "P-DzzRk5bf0z",
        "colab_type": "text"
      },
      "source": [
        "## Assignment - Code it up!\n",
        "\n",
        "We used pure math to apply Bayes Theorem to drug tests. Now write Python code to reproduce the results! This is purposefully open ended - you'll have to think about how you should represent probabilities and events. You can and should look things up.\n",
        "\n",
        "Specific goals/targets:\n",
        "\n",
        "### 1) Write a function \n",
        "\n",
        "`def prob_drunk_given_positive(prob_drunk_prior, false_positive_rate, true_positive_rate):` \n",
        "\n",
        "You should only truly need these three values in order to apply Bayes Theorem. In this example, imagine that individuals are taking a breathalyzer test with an 8% false positive rate, a 100% true positive rate, and that our prior belief about drunk driving in the population is 1/1000. \n",
        " - What is the probability that a person is drunk after one positive breathalyzer test?\n",
        " - What is the probability that a person is drunk after two positive breathalyzer tests?\n",
        " - How many positive breathalyzer tests are needed in order to have a probability that's greater than 95% that a person is drunk beyond the legal limit?\n"
      ]
    },
    {
      "cell_type": "code",
      "metadata": {
        "id": "xpVhZyUnbf7o",
        "colab_type": "code",
        "outputId": "4b49be29-df0b-45a5-dcfc-b619b8ef6077",
        "colab": {
          "base_uri": "https://localhost:8080/",
          "height": 34
        }
      },
      "source": [
        "# TODO - code!\n",
        "\n",
        "#Given Information\n",
        "#false_positive_rate = .08\n",
        "#true_positive_rate = 1\n",
        "#prob_drunk_prior = 1/1000\n",
        "\n",
        "#function computes probability a person is drunk\n",
        "def prob_drunk_given_positive(prob_drunk_prior, false_positive_rate, true_positive_rate):\n",
        "  prob_not_drunk_prior = (1  - prob_drunk_prior)\n",
        "  numerator = (true_positive_rate * prob_drunk_prior)\n",
        "  denominator = ((true_positive_rate*prob_drunk_prior)+(false_positive_rate*prob_not_drunk_prior))\n",
        "  post_prob = numerator/denominator\n",
        "  return post_prob\n",
        "  \n",
        "#probability after first test\n",
        "post = prob_drunk_given_positive(1/1000,.08,1)\n",
        "post\n"
      ],
      "execution_count": 0,
      "outputs": [
        {
          "output_type": "execute_result",
          "data": {
            "text/plain": [
              "0.012357884330202669"
            ]
          },
          "metadata": {
            "tags": []
          },
          "execution_count": 14
        }
      ]
    },
    {
      "cell_type": "code",
      "metadata": {
        "id": "tkG1-qCz6Hn2",
        "colab_type": "code",
        "outputId": "c2ff7790-524e-46b4-a32b-4a42f11c0128",
        "colab": {
          "base_uri": "https://localhost:8080/",
          "height": 34
        }
      },
      "source": [
        "#probability after second test\n",
        "\n",
        "post_prob = prob_drunk_given_positive(post,false_positive_rate,true_positive_rate)\n",
        "post_prob"
      ],
      "execution_count": 0,
      "outputs": [
        {
          "output_type": "execute_result",
          "data": {
            "text/plain": [
              "0.13525210993291495"
            ]
          },
          "metadata": {
            "tags": []
          },
          "execution_count": 15
        }
      ]
    },
    {
      "cell_type": "code",
      "metadata": {
        "id": "HY-weXthJquN",
        "colab_type": "code",
        "outputId": "8089cc1b-74d5-45b6-8684-53b66b793ca6",
        "colab": {
          "base_uri": "https://localhost:8080/",
          "height": 34
        }
      },
      "source": [
        "\n",
        "tests = 0\n",
        "while post_prob <= .95:\n",
        "  post_prob = prob_drunk_given_positive(post_prob,.08,1)\n",
        "  tests+=1\n",
        "print(tests)\n",
        "\n",
        "\n",
        "\n"
      ],
      "execution_count": 0,
      "outputs": [
        {
          "output_type": "stream",
          "text": [
            "2\n"
          ],
          "name": "stdout"
        }
      ]
    },
    {
      "cell_type": "code",
      "metadata": {
        "id": "fNxI9qWvNO24",
        "colab_type": "code",
        "colab": {}
      },
      "source": [
        "#TOTAL number of tests is 4"
      ],
      "execution_count": 0,
      "outputs": []
    },
    {
      "cell_type": "markdown",
      "metadata": {
        "id": "nhOAsLjvCSLF",
        "colab_type": "text"
      },
      "source": [
        "### 2) In your own words, summarize the difference between Bayesian and Frequentist statistics\n",
        "\n",
        "If you're unsure where to start, check out [this blog post of Bayes theorem with Python](https://dataconomy.com/2015/02/introduction-to-bayes-theorem-with-python/).\n",
        "\n"
      ]
    },
    {
      "cell_type": "markdown",
      "metadata": {
        "id": "AADlIVfgDztY",
        "colab_type": "text"
      },
      "source": [
        "Bayesian statistics uses prior knowledge (probabilities) to calc new ones.Basyesian statistics can represent uncertainty of probabilities, having prior knowledge.\n",
        "Frequentist statistics works on the understanding that only repeatable random events have probabilities."
      ]
    },
    {
      "cell_type": "markdown",
      "metadata": {
        "id": "AeAGBxWjCTv3",
        "colab_type": "text"
      },
      "source": [
        "### 3) Use the following Template to help come up with ideas for your Build Sprint Project: \n",
        "\n"
      ]
    },
    {
      "cell_type": "markdown",
      "metadata": {
        "id": "YgIaBr__C5Q2",
        "colab_type": "text"
      },
      "source": [
        "---\n",
        "\n",
        "## Idea 1:"
      ]
    },
    {
      "cell_type": "markdown",
      "metadata": {
        "id": "MwR6hTB1CiLR",
        "colab_type": "text"
      },
      "source": [
        "### You\n",
        "What do you care about?\n",
        "music listening times based on country,stocks, quality bult cars.\n",
        "Global warming, healthcare system.\n",
        "\n",
        "What do you know about?\n",
        "Fundamentals in bioengineering, understand the importance of mathematics in most fields\n",
        "\n",
        "What decisions do you face?\n",
        "- How are economies being affected by global warming?\n",
        "What variables clearly link global wamring with either a countries decline or rise of gdp.\n",
        "- How are mortality effects being affected by rise of avarege temperatures.\n",
        "- Are tsunamis more likeley due to rise of sea level?\n",
        "\n",
        "\n"
      ]
    },
    {
      "cell_type": "markdown",
      "metadata": {
        "id": "d5owPwlSClm2",
        "colab_type": "text"
      },
      "source": [
        ""
      ]
    },
    {
      "cell_type": "markdown",
      "metadata": {
        "id": "lorLHSkzClzC",
        "colab_type": "text"
      },
      "source": [
        "### Seven templates\n",
        "Training Kit (https://learn.lambdaschool.com/ds/module/recedjanlbpqxic2r) explains the seven templates from Priceonomics.\n",
        "\n",
        "Can you apply the templates to your topics?\n",
        "\n",
        "**Geographic Variation:**\n",
        "\n",
        "**Trend related to the news:**\n",
        "\n",
        "**Who does that?:**\n",
        "\n",
        "**Answering a question people care about:**\n",
        "\n",
        "**Valuable to businesses:**\n",
        "\n",
        "**What's the most popular?:**\n",
        "\n",
        "**Cost/Money rankings:**"
      ]
    },
    {
      "cell_type": "markdown",
      "metadata": {
        "id": "cjxeN9D7Cygt",
        "colab_type": "text"
      },
      "source": [
        "**bold text**\n",
        "\n",
        "https://www.ncdc.noaa.gov/monitoring-references/faq/indicators.php#warming-climate\n",
        "\n"
      ]
    },
    {
      "cell_type": "markdown",
      "metadata": {
        "id": "3OXCCIT6C_p0",
        "colab_type": "text"
      },
      "source": [
        "### Misconceptions\n",
        "https://c2es.org/site/assets/uploads/2017/03/misconceptions-realities-climate-science-06-2012.pdf\n",
        "\n",
        "\n",
        "What misconceptions do people have about your topic?\n",
        "Global warming is cause by an increase in the  sun's energy output.\n",
        "\\Truth: The sun's output energy has not change."
      ]
    },
    {
      "cell_type": "markdown",
      "metadata": {
        "id": "kZAkrgTUDCjF",
        "colab_type": "text"
      },
      "source": [
        ""
      ]
    },
    {
      "cell_type": "markdown",
      "metadata": {
        "id": "3tNrndE9DD3-",
        "colab_type": "text"
      },
      "source": [
        "### Examples\n",
        "\n",
        "What data storytelling example inspires you?\n",
        "\n",
        "Could you do a new hypothesis, for the same question?\n",
        "\n",
        "Could you do a new question, for the same topic?\n",
        "\n",
        "Could you do a new topic, with the same \"style\"?"
      ]
    },
    {
      "cell_type": "markdown",
      "metadata": {
        "id": "-5NsWQy5DKoR",
        "colab_type": "text"
      },
      "source": [
        ""
      ]
    },
    {
      "cell_type": "markdown",
      "metadata": {
        "id": "9rPtMFB6DN7B",
        "colab_type": "text"
      },
      "source": [
        "###Data\n",
        "\n",
        "Where could you search for data about your topic?"
      ]
    },
    {
      "cell_type": "markdown",
      "metadata": {
        "id": "s9hqjOlhDTDa",
        "colab_type": "text"
      },
      "source": [
        ""
      ]
    },
    {
      "cell_type": "markdown",
      "metadata": {
        "colab_type": "text",
        "id": "ld5MOaFaDVSK"
      },
      "source": [
        "---\n",
        "\n",
        "## Idea 2:"
      ]
    },
    {
      "cell_type": "markdown",
      "metadata": {
        "colab_type": "text",
        "id": "znhTWIlUDVSM"
      },
      "source": [
        "### You\n",
        "What do you care about?\n",
        "\n",
        "What do you know about?\n",
        "\n",
        "What decisions do you face?\n",
        "\n"
      ]
    },
    {
      "cell_type": "markdown",
      "metadata": {
        "colab_type": "text",
        "id": "3Gln5mYeDVSM"
      },
      "source": [
        ""
      ]
    },
    {
      "cell_type": "markdown",
      "metadata": {
        "colab_type": "text",
        "id": "W-njBredDVSN"
      },
      "source": [
        "### Seven templates\n",
        "Training Kit (https://learn.lambdaschool.com/ds/module/recedjanlbpqxic2r) explains the seven templates from Priceonomics.\n",
        "\n",
        "Can you apply the templates to your topics?\n",
        "\n",
        "**Geographic Variation:**\n",
        "\n",
        "**Trend related to the news:**\n",
        "\n",
        "**Who does that?:**\n",
        "\n",
        "**Answering a question people care about:**\n",
        "\n",
        "**Valuable to businesses:**\n",
        "\n",
        "**What's the most popular?:**\n",
        "\n",
        "**Cost/Money rankings:**"
      ]
    },
    {
      "cell_type": "markdown",
      "metadata": {
        "colab_type": "text",
        "id": "pkOqHHL3DVSN"
      },
      "source": [
        ""
      ]
    },
    {
      "cell_type": "markdown",
      "metadata": {
        "colab_type": "text",
        "id": "njLQ3hLuDVSO"
      },
      "source": [
        "### Misconceptions\n",
        "\n",
        "What misconceptions do people have about your topic?"
      ]
    },
    {
      "cell_type": "markdown",
      "metadata": {
        "colab_type": "text",
        "id": "IzrUvaKeDVSO"
      },
      "source": [
        ""
      ]
    },
    {
      "cell_type": "markdown",
      "metadata": {
        "colab_type": "text",
        "id": "L0X6X5WaDVSP"
      },
      "source": [
        "### Examples\n",
        "\n",
        "What data storytelling example inspires you?\n",
        "\n",
        "Could you do a new hypothesis, for the same question?\n",
        "\n",
        "Could you do a new question, for the same topic?\n",
        "\n",
        "Could you do a new topic, with the same \"style\"?"
      ]
    },
    {
      "cell_type": "markdown",
      "metadata": {
        "colab_type": "text",
        "id": "fDdHExa0DVSP"
      },
      "source": [
        ""
      ]
    },
    {
      "cell_type": "markdown",
      "metadata": {
        "colab_type": "text",
        "id": "CxgSpiwYDVSQ"
      },
      "source": [
        "###Data\n",
        "\n",
        "Where could you search for data about your topic?"
      ]
    },
    {
      "cell_type": "markdown",
      "metadata": {
        "id": "uWgWjp3PQ3Sq",
        "colab_type": "text"
      },
      "source": [
        "## Resources"
      ]
    },
    {
      "cell_type": "markdown",
      "metadata": {
        "id": "QRgHqmYIQ9qn",
        "colab_type": "text"
      },
      "source": [
        "- [Worked example of Bayes rule calculation](https://en.wikipedia.org/wiki/Bayes'_theorem#Examples) (helpful as it fully breaks out the denominator)\n",
        "- [Source code for mvsdist in scipy](https://github.com/scipy/scipy/blob/90534919e139d2a81c24bf08341734ff41a3db12/scipy/stats/morestats.py#L139)"
      ]
    },
    {
      "cell_type": "markdown",
      "metadata": {
        "id": "GP7Jv1XvwtkX",
        "colab_type": "text"
      },
      "source": [
        "## Stretch Goals:\n",
        "\n",
        "- Go back and study the content from Modules 1 & 2 & 3 to make sure that you're really comfortable with them.\n",
        "- Apply a Bayesian technique to a problem you previously worked (in an assignment or project work) on from a frequentist (standard) perspective\n",
        "- Check out [PyMC3](https://docs.pymc.io/) (note this goes beyond hypothesis tests into modeling) - read the guides and work through some examples\n",
        "- Take PyMC3 further - see if you can build something with it!"
      ]
    }
  ]
}