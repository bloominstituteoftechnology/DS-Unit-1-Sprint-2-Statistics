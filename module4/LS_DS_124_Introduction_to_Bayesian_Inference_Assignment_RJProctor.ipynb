{
  "nbformat": 4,
  "nbformat_minor": 0,
  "metadata": {
    "colab": {
      "name": "LS_DS_124_Introduction_to_Bayesian_Inference_Assignment_RJProctor.ipynb",
      "provenance": [],
      "collapsed_sections": [],
      "include_colab_link": true
    },
    "kernelspec": {
      "name": "python3",
      "display_name": "Python 3"
    }
  },
  "cells": [
    {
      "cell_type": "markdown",
      "metadata": {
        "id": "view-in-github",
        "colab_type": "text"
      },
      "source": [
        "<a href=\"https://colab.research.google.com/github/jproctor-rebecca/DS-Unit-1-Sprint-2-Statistics/blob/master/module4/LS_DS_124_Introduction_to_Bayesian_Inference_Assignment_RJProctor.ipynb\" target=\"_parent\"><img src=\"https://colab.research.google.com/assets/colab-badge.svg\" alt=\"Open In Colab\"/></a>"
      ]
    },
    {
      "cell_type": "markdown",
      "metadata": {
        "id": "H7OLbevlbd_Z",
        "colab_type": "text"
      },
      "source": [
        "# Lambda School Data Science Module 124\n",
        "\n",
        "## Introduction to Bayesian Inference\n",
        "\n",
        "\n"
      ]
    },
    {
      "cell_type": "markdown",
      "metadata": {
        "id": "P-DzzRk5bf0z",
        "colab_type": "text"
      },
      "source": [
        "## Assignment - Code it up!\n",
        "\n",
        "We used pure math to apply Bayes Theorem to drug tests. Now write Python code to reproduce the results! This is purposefully open ended - you'll have to think about how you should represent probabilities and events. You can and should look things up.\n",
        "\n",
        "Specific goals/targets:\n",
        "\n",
        "### 1) Write a function \n",
        "\n",
        "`def prob_drunk_given_positive(prob_drunk_prior, false_positive_rate, true_positive_rate):` \n",
        "\n",
        "You should only truly need these three values in order to apply Bayes Theorem. In this example, imagine that individuals are taking a breathalyzer test with an 8% false positive rate, a 100% true positive rate, and that our prior belief about drunk driving in the population is 1/1000. \n",
        " - What is the probability that a person is drunk after one positive breathalyzer test?\n",
        " - What is the probability that a person is drunk after two positive breathalyzer tests?\n",
        " - How many positive breathalyzer tests are needed in order to have a probability that's greater than 95% that a person is drunk beyond the legal limit?\n"
      ]
    },
    {
      "cell_type": "code",
      "metadata": {
        "id": "xpVhZyUnbf7o",
        "colab_type": "code",
        "colab": {}
      },
      "source": [
        "# TODO - code!\n",
        "# True Positive Rate\n",
        "true_pos_rate = 1\n",
        "# False Positive Rate\n",
        "false_pos_rate = .08\n",
        "# Prior Probability\n",
        "prob_drunk = 1/1000 \n",
        "# Compliment Prior\n",
        "prob_sober = 1 - false_pos_rate\n",
        "\n",
        "prob_drunk_given_pos = [] \n",
        "\n",
        "def prob_drunk_given_pos(prob_drunk, false_pos_rate, true_pos_rate):\n",
        "  for x in range (0,3):\n",
        "   prob_drunk_given_pos.append(true_pos_rate * prob_drunk)/(true_pos_rate * prob_drunk + prob_sober * prob_drunk)\n",
        "  \n",
        "prob_drunk_given_pos[]\n",
        "\n"
      ],
      "execution_count": null,
      "outputs": []
    },
    {
      "cell_type": "markdown",
      "metadata": {
        "id": "nhOAsLjvCSLF",
        "colab_type": "text"
      },
      "source": [
        "### 2) In your own words, summarize the difference between Bayesian and Frequentist statistics\n",
        "\n",
        "If you're unsure where to start, check out [this blog post of Bayes theorem with Python](https://dataconomy.com/2015/02/introduction-to-bayes-theorem-with-python/)."
      ]
    },
    {
      "cell_type": "markdown",
      "metadata": {
        "id": "AADlIVfgDztY",
        "colab_type": "text"
      },
      "source": [
        "Bayesian statistics starts from what has been observed and assesses possible future outcomes. Frequentist statistics starts with an abstract experiment of what would be observed if one assumes something, and only then compares the outcomes of the abstract experiment with what was actually observed."
      ]
    },
    {
      "cell_type": "markdown",
      "metadata": {
        "id": "AeAGBxWjCTv3",
        "colab_type": "text"
      },
      "source": [
        "### 3) Use the following Template to help come up with ideas for your Build Sprint Project: \n",
        "\n"
      ]
    },
    {
      "cell_type": "markdown",
      "metadata": {
        "id": "YgIaBr__C5Q2",
        "colab_type": "text"
      },
      "source": [
        "---\n",
        "\n",
        "## Idea 1:"
      ]
    },
    {
      "cell_type": "markdown",
      "metadata": {
        "id": "MwR6hTB1CiLR",
        "colab_type": "text"
      },
      "source": [
        "### You\n",
        "What do you care about?\n",
        "\n",
        "Education, Tennessee, Urban youth\n",
        "\n",
        "What do you know about?\n",
        "\n",
        "Education, Tennessee, Urban youth\n",
        "\n",
        "What decisions do you face?\n",
        "\n",
        "Are urban youth in low income schools in Tennessee being taught by highly qualified teachers?  (non-inflamatory)\n",
        "\n",
        "or \n",
        "\n",
        "Does your neigborhood determine the quality of teacher in your school? (inflamatory)\n"
      ]
    },
    {
      "cell_type": "markdown",
      "metadata": {
        "id": "lorLHSkzClzC",
        "colab_type": "text"
      },
      "source": [
        "### Seven templates\n",
        "Training Kit (https://learn.lambdaschool.com/ds/module/recedjanlbpqxic2r) explains the seven templates from Priceonomics.\n",
        "\n",
        "Can you apply the templates to your topics?\n",
        "\n",
        "**Geographic Variation:**\n",
        "**A key metric ranked by city, state, or country. Create an index based on your company's core data asset and see how it varies by geography.**\n",
        "\n",
        "\n",
        "**Trend related to the news:**\n",
        "\n",
        "**Who does that?:**\n",
        "\n",
        "**Answering a question people care about:**\n",
        "**Educational research is what I want to do professionally**\n",
        "\n",
        "**Valuable to businesses:**\n",
        "**If the workforce is not being adequately educated it means businesses will need to either relocate, or invest in local K-12 education, plan to spend more in training and developing employees and prepare for higher rates of employee turnover.**\n",
        "\n",
        "**What's the most popular?:**\n",
        "\n",
        "**Cost/Money rankings:**"
      ]
    },
    {
      "cell_type": "markdown",
      "metadata": {
        "id": "3OXCCIT6C_p0",
        "colab_type": "text"
      },
      "source": [
        "### Misconceptions\n",
        "\n",
        "What misconceptions do people have about your topic?\n",
        "\n",
        "1. \"Those who can't do, teach.\"\n",
        "\n",
        "It takes Great Purpose and Ability to Teach.  Teaching is a particular skill that is seperate from just knowledge.  \n",
        "\n",
        "STEPS TO BECOME A QUALIFIED TEACHER\n",
        "\n",
        "Choose What You Want to Teach\n",
        "\n",
        "Complete Your Education Requirements for Teaching in Tennessee\n",
        "  hold minimum of a Bachelors Degree\n",
        "    and\n",
        "  complete a teacher's preperatory program; mimimum 2 years\n",
        "\n",
        "Pass the Required Tests for Tennessee\n",
        "  Basic Grade Level Teaching Skills Test\n",
        "    and\n",
        "  Content specific knowledge Test for each subject area and grade band\n",
        "    also\n",
        "  Skills specific knowledge Test for CTE and Science content areas at High \n",
        "  School grade band\n",
        "\n",
        "Apply for your Tennessee Teaching License\n",
        "\n",
        "Find a Teaching Job in Tennessee\n",
        "\n",
        "Continue Your Education and Professional Development\n",
        "\n",
        "Increase Your Earning Potential with a Master's Degree\n",
        "\n",
        "2. There is an unlimited supply of qualified teachers who are willing to work in all schools.\n",
        "\n",
        "One qualified teacher's decision to leave the classrom:  \n",
        "(her reasoning resonates across race, ability, gender,...)\n",
        "https://www.tolerance.org/magazine/urban-teachers-of-color-pushed-out-why-i-left-the-classroom"
      ]
    },
    {
      "cell_type": "markdown",
      "metadata": {
        "id": "3tNrndE9DD3-",
        "colab_type": "text"
      },
      "source": [
        "### Examples\n",
        "\n",
        "What data storytelling example inspires you?\n",
        "\n",
        "After curating the data I would have to play with ploting and see what stoy the data tells.  It's not really about what story I want to tell.\n",
        "\n",
        "Could you do a new hypothesis, for the same question?\n",
        "??? I'm not sure what you are asking.\n",
        "\n",
        "Could you do a new question, for the same topic?\n",
        "\n",
        "comparison of qualified teachers in Tennessee in high poverty schools, low poverty schools, all schools\n",
        "\n",
        "Does Tennessee have qualified teachers in the classroom?  answered at state level, district level, school level \n",
        "\n",
        "Could you do a new topic, with the same \"style\"?\n",
        "\n",
        "I am capable of consistency of style.  "
      ]
    },
    {
      "cell_type": "markdown",
      "metadata": {
        "id": "9rPtMFB6DN7B",
        "colab_type": "text"
      },
      "source": [
        "###Data\n",
        "\n",
        "Where could you search for data about your topic?\n",
        "\n",
        "https://www.tn.gov/search-results.html?q=education+data"
      ]
    },
    {
      "cell_type": "markdown",
      "metadata": {
        "colab_type": "text",
        "id": "ld5MOaFaDVSK"
      },
      "source": [
        "---\n",
        "\n",
        "## Idea 2:"
      ]
    },
    {
      "cell_type": "markdown",
      "metadata": {
        "colab_type": "text",
        "id": "znhTWIlUDVSM"
      },
      "source": [
        "What do you care about?\n",
        "\n",
        "Education, Tennessee, Urban youth\n",
        "\n",
        "What do you know about?\n",
        "\n",
        "Education, Tennessee, Urban youth\n",
        "\n",
        "What decisions do you face?\n",
        "\n",
        "How has Covid-19 affected each district's budget for the 2020-21 school year in Tennessee in terms of funds available for each student?\n"
      ]
    },
    {
      "cell_type": "markdown",
      "metadata": {
        "colab_type": "text",
        "id": "W-njBredDVSN"
      },
      "source": [
        "### Seven templates\n",
        "Training Kit (https://learn.lambdaschool.com/ds/module/recedjanlbpqxic2r) explains the seven templates from Priceonomics.\n",
        "\n",
        "Can you apply the templates to your topics?\n",
        "\n",
        "**Geographic Variation:**\n",
        "**A key metric ranked by city, state, or country. Create an index based on your company's core data asset and see how it varies by geography.**\n",
        "\n",
        "\n",
        "**Trend related to the news:**\n",
        "\n",
        "**Who does that?:**\n",
        "\n",
        "**Answering a question people care about:**\n",
        "**Educational research is what I want to do professionally**\n",
        "\n",
        "**Valuable to businesses:**\n",
        "**If the workforce is not being adequately educated it means businesses will need to either relocate, or invest in local K-12 education, plan to spend more in training and developing employees and prepare for higher rates of employee turnover.**\n",
        "\n",
        "**What's the most popular?:**\n",
        "\n",
        "**Cost/Money rankings:**"
      ]
    },
    {
      "cell_type": "markdown",
      "metadata": {
        "colab_type": "text",
        "id": "njLQ3hLuDVSO"
      },
      "source": [
        "### Misconceptions\n",
        "\n",
        "What misconceptions do people have about your topic?\n",
        "1. the federal government funds schools\n",
        "\n",
        "over half of all federal educational funding received by the state of Tennessee goes toward the expendeture of salaries of the state level employees who handle the distribution and oversight of those funds \n",
        "\n",
        "2. funding of local public schools is sourced from\n",
        "\n",
        "the state\n",
        "\n",
        "the federal government\n",
        "\n",
        "the local government\n",
        "\n",
        "private donors and partnerships (and estates and trusts)\n"
      ]
    },
    {
      "cell_type": "markdown",
      "metadata": {
        "colab_type": "text",
        "id": "L0X6X5WaDVSP"
      },
      "source": [
        "### Examples\n",
        "\n",
        "What data storytelling example inspires you?\n",
        "\n",
        "After curating the data I would have to play with ploting and see what stoy the data tells.  It's not really about what story I want to tell.\n",
        "\n",
        "Could you do a new hypothesis, for the same question?\n",
        "??? I'm not sure what you are asking.\n",
        "\n",
        "Could you do a new question, for the same topic?\n",
        "Got a million questions for this topic...\n",
        "\n",
        "I would like to compare Tennessee's general education 2019-20 actuaal funding and 2020-21 expected funding to the other 49 state's.  I would have to pull their budgets and curate the data but I would like to measure the economic affect of Covid on schools and budget planning this way.  Also see allocation measures that are being taken in differing socioeconomic-political areas of the country.  \n",
        "\n",
        "...and I could go on...\n",
        "\n",
        "Could you do a new topic, with the same \"style\"?\n",
        "\n",
        "I am capable of creating consistancy in a multitiered project.  This is one that lends itself toward that.  One concern I have is the constraint of time.  I don't know if I would have enough time during our 1 week build to curate the data and build the project.  With as much time as I spend each day, currently just completing our regular assignments, I'm leaning toward 'no'.  Although, I do have Tennessee's data already curated!!"
      ]
    },
    {
      "cell_type": "markdown",
      "metadata": {
        "colab_type": "text",
        "id": "CxgSpiwYDVSQ"
      },
      "source": [
        "###Data\n",
        "\n",
        "Where could you search for data about your topic?\n",
        "\n",
        "https://www.tn.gov/search-results.html?q=education+data"
      ]
    },
    {
      "cell_type": "markdown",
      "metadata": {
        "id": "uWgWjp3PQ3Sq",
        "colab_type": "text"
      },
      "source": [
        "## Resources"
      ]
    },
    {
      "cell_type": "markdown",
      "metadata": {
        "id": "QRgHqmYIQ9qn",
        "colab_type": "text"
      },
      "source": [
        "- [Worked example of Bayes rule calculation](https://en.wikipedia.org/wiki/Bayes'_theorem#Examples) (helpful as it fully breaks out the denominator)\n",
        "- [Source code for mvsdist in scipy](https://github.com/scipy/scipy/blob/90534919e139d2a81c24bf08341734ff41a3db12/scipy/stats/morestats.py#L139)"
      ]
    },
    {
      "cell_type": "markdown",
      "metadata": {
        "id": "GP7Jv1XvwtkX",
        "colab_type": "text"
      },
      "source": [
        "## Stretch Goals:\n",
        "\n",
        "- Go back and study the content from Modules 1 & 2 & 3 to make sure that you're really comfortable with them.\n",
        "- Apply a Bayesian technique to a problem you previously worked (in an assignment or project work) on from a frequentist (standard) perspective\n",
        "- Check out [PyMC3](https://docs.pymc.io/) (note this goes beyond hypothesis tests into modeling) - read the guides and work through some examples\n",
        "- Take PyMC3 further - see if you can build something with it!"
      ]
    }
  ]
}