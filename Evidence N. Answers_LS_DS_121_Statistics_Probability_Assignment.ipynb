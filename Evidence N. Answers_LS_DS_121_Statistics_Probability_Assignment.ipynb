{
  "nbformat": 4,
  "nbformat_minor": 0,
  "metadata": {
    "kernelspec": {
      "display_name": "Python 3",
      "language": "python",
      "name": "python3"
    },
    "language_info": {
      "codemirror_mode": {
        "name": "ipython",
        "version": 3
      },
      "file_extension": ".py",
      "mimetype": "text/x-python",
      "name": "python",
      "nbconvert_exporter": "python",
      "pygments_lexer": "ipython3",
      "version": "3.7.3"
    },
    "colab": {
      "name": "Answers LS_DS_121_Statistics_Probability_Assignment.ipynb",
      "provenance": [],
      "collapsed_sections": [],
      "include_colab_link": true
    }
  },
  "cells": [
    {
      "cell_type": "markdown",
      "metadata": {
        "id": "view-in-github",
        "colab_type": "text"
      },
      "source": [
        "<a href=\"https://colab.research.google.com/github/EvidenceN/DS-Unit-1-Sprint-2-Statistics/blob/master/Evidence%20N.%20Answers_LS_DS_121_Statistics_Probability_Assignment.ipynb\" target=\"_parent\"><img src=\"https://colab.research.google.com/assets/colab-badge.svg\" alt=\"Open In Colab\"/></a>"
      ]
    },
    {
      "cell_type": "markdown",
      "metadata": {
        "id": "Sa5KWMO1ngPN",
        "colab_type": "text"
      },
      "source": [
        "<img align=\"left\" src=\"https://lever-client-logos.s3.amazonaws.com/864372b1-534c-480e-acd5-9711f850815c-1524247202159.png\" width=200>\n",
        "<br></br>\n",
        "<br></br>\n",
        "\n",
        "## *Data Science Unit 1 Sprint 2 Assignment 1*\n",
        "\n",
        "# Apply the t-test to real data\n",
        "\n",
        "Your assignment is to determine which issues have \"statistically significant\" differences between political parties in this [1980s congressional voting data](https://archive.ics.uci.edu/ml/datasets/Congressional+Voting+Records). The data consists of 435 instances (one for each congressperson), a class (democrat or republican), and 16 binary attributes (yes or no for voting for or against certain issues). Be aware - there are missing values!\n",
        "\n",
        "Your goals:\n",
        "\n",
        "1. Load and clean the data (or determine the best method to drop observations when running tests)\n",
        "2. Using hypothesis testing, find an issue that democrats support more than republicans with p < 0.01\n",
        "3. Using hypothesis testing, find an issue that republicans support more than democrats with p < 0.01\n",
        "4. Using hypothesis testing, find an issue where the difference between republicans and democrats has p > 0.1 (i.e. there may not be much of a difference)\n",
        "\n",
        "Note that this data will involve *2 sample* t-tests, because you're comparing averages across two groups (republicans and democrats) rather than a single group against a null hypothesis.\n",
        "\n",
        "Stretch goals:\n",
        "\n",
        "1. Refactor your code into functions so it's easy to rerun with arbitrary variables\n",
        "2. Apply hypothesis testing to your personal project data (for the purposes of this notebook you can type a summary of the hypothesis you formed and tested)"
      ]
    },
    {
      "cell_type": "code",
      "metadata": {
        "id": "Z1IO-zB72n8d",
        "colab_type": "code",
        "colab": {}
      },
      "source": [
        "import pandas as pd\n",
        "import numpy as np\n",
        "import seaborn as sns\n",
        "from scipy.stats import ttest_1samp, ttest_ind, ttest_ind_from_stats, ttest_rel\n"
      ],
      "execution_count": 0,
      "outputs": []
    },
    {
      "cell_type": "code",
      "metadata": {
        "id": "ZKwspo2CngPP",
        "colab_type": "code",
        "outputId": "f447c53d-b7bf-42be-890b-b1559c8f0c90",
        "colab": {
          "base_uri": "https://localhost:8080/",
          "height": 207
        }
      },
      "source": [
        "### Loading the assignment data\n",
        "!wget https://archive.ics.uci.edu/ml/machine-learning-databases/voting-records/house-votes-84.data"
      ],
      "execution_count": 0,
      "outputs": [
        {
          "output_type": "stream",
          "text": [
            "--2019-10-07 20:13:22--  https://archive.ics.uci.edu/ml/machine-learning-databases/voting-records/house-votes-84.data\n",
            "Resolving archive.ics.uci.edu (archive.ics.uci.edu)... 128.195.10.252\n",
            "Connecting to archive.ics.uci.edu (archive.ics.uci.edu)|128.195.10.252|:443... connected.\n",
            "HTTP request sent, awaiting response... 200 OK\n",
            "Length: 18171 (18K) [application/x-httpd-php]\n",
            "Saving to: ‘house-votes-84.data.1’\n",
            "\n",
            "\rhouse-votes-84.data   0%[                    ]       0  --.-KB/s               \rhouse-votes-84.data 100%[===================>]  17.75K  --.-KB/s    in 0.06s   \n",
            "\n",
            "2019-10-07 20:13:22 (284 KB/s) - ‘house-votes-84.data.1’ saved [18171/18171]\n",
            "\n"
          ],
          "name": "stdout"
        }
      ]
    },
    {
      "cell_type": "code",
      "metadata": {
        "id": "9VpZo_D42lsB",
        "colab_type": "code",
        "outputId": "4a3ff6b4-f052-4a10-83a8-f4ec2f347cae",
        "colab": {
          "base_uri": "https://localhost:8080/",
          "height": 270
        }
      },
      "source": [
        "# Load Data and give the names of each column\n",
        "df = pd.read_csv('house-votes-84.data', \n",
        "                 header=None,\n",
        "                 names=['party','handicapped-infants','water-project',\n",
        "                          'budget','physician-fee-freeze', 'el-salvador-aid',\n",
        "                          'religious-groups','anti-satellite-ban',\n",
        "                          'aid-to-contras','mx-missile','immigration',\n",
        "                          'synfuels', 'education', 'right-to-sue','crime','duty-free',\n",
        "                          'south-africa'])\n",
        "\n",
        "print(df.shape)\n",
        "\n",
        "df.head()"
      ],
      "execution_count": 0,
      "outputs": [
        {
          "output_type": "stream",
          "text": [
            "(435, 17)\n"
          ],
          "name": "stdout"
        },
        {
          "output_type": "execute_result",
          "data": {
            "text/html": [
              "<div>\n",
              "<style scoped>\n",
              "    .dataframe tbody tr th:only-of-type {\n",
              "        vertical-align: middle;\n",
              "    }\n",
              "\n",
              "    .dataframe tbody tr th {\n",
              "        vertical-align: top;\n",
              "    }\n",
              "\n",
              "    .dataframe thead th {\n",
              "        text-align: right;\n",
              "    }\n",
              "</style>\n",
              "<table border=\"1\" class=\"dataframe\">\n",
              "  <thead>\n",
              "    <tr style=\"text-align: right;\">\n",
              "      <th></th>\n",
              "      <th>party</th>\n",
              "      <th>handicapped-infants</th>\n",
              "      <th>water-project</th>\n",
              "      <th>budget</th>\n",
              "      <th>physician-fee-freeze</th>\n",
              "      <th>el-salvador-aid</th>\n",
              "      <th>religious-groups</th>\n",
              "      <th>anti-satellite-ban</th>\n",
              "      <th>aid-to-contras</th>\n",
              "      <th>mx-missile</th>\n",
              "      <th>immigration</th>\n",
              "      <th>synfuels</th>\n",
              "      <th>education</th>\n",
              "      <th>right-to-sue</th>\n",
              "      <th>crime</th>\n",
              "      <th>duty-free</th>\n",
              "      <th>south-africa</th>\n",
              "    </tr>\n",
              "  </thead>\n",
              "  <tbody>\n",
              "    <tr>\n",
              "      <th>0</th>\n",
              "      <td>republican</td>\n",
              "      <td>n</td>\n",
              "      <td>y</td>\n",
              "      <td>n</td>\n",
              "      <td>y</td>\n",
              "      <td>y</td>\n",
              "      <td>y</td>\n",
              "      <td>n</td>\n",
              "      <td>n</td>\n",
              "      <td>n</td>\n",
              "      <td>y</td>\n",
              "      <td>?</td>\n",
              "      <td>y</td>\n",
              "      <td>y</td>\n",
              "      <td>y</td>\n",
              "      <td>n</td>\n",
              "      <td>y</td>\n",
              "    </tr>\n",
              "    <tr>\n",
              "      <th>1</th>\n",
              "      <td>republican</td>\n",
              "      <td>n</td>\n",
              "      <td>y</td>\n",
              "      <td>n</td>\n",
              "      <td>y</td>\n",
              "      <td>y</td>\n",
              "      <td>y</td>\n",
              "      <td>n</td>\n",
              "      <td>n</td>\n",
              "      <td>n</td>\n",
              "      <td>n</td>\n",
              "      <td>n</td>\n",
              "      <td>y</td>\n",
              "      <td>y</td>\n",
              "      <td>y</td>\n",
              "      <td>n</td>\n",
              "      <td>?</td>\n",
              "    </tr>\n",
              "    <tr>\n",
              "      <th>2</th>\n",
              "      <td>democrat</td>\n",
              "      <td>?</td>\n",
              "      <td>y</td>\n",
              "      <td>y</td>\n",
              "      <td>?</td>\n",
              "      <td>y</td>\n",
              "      <td>y</td>\n",
              "      <td>n</td>\n",
              "      <td>n</td>\n",
              "      <td>n</td>\n",
              "      <td>n</td>\n",
              "      <td>y</td>\n",
              "      <td>n</td>\n",
              "      <td>y</td>\n",
              "      <td>y</td>\n",
              "      <td>n</td>\n",
              "      <td>n</td>\n",
              "    </tr>\n",
              "    <tr>\n",
              "      <th>3</th>\n",
              "      <td>democrat</td>\n",
              "      <td>n</td>\n",
              "      <td>y</td>\n",
              "      <td>y</td>\n",
              "      <td>n</td>\n",
              "      <td>?</td>\n",
              "      <td>y</td>\n",
              "      <td>n</td>\n",
              "      <td>n</td>\n",
              "      <td>n</td>\n",
              "      <td>n</td>\n",
              "      <td>y</td>\n",
              "      <td>n</td>\n",
              "      <td>y</td>\n",
              "      <td>n</td>\n",
              "      <td>n</td>\n",
              "      <td>y</td>\n",
              "    </tr>\n",
              "    <tr>\n",
              "      <th>4</th>\n",
              "      <td>democrat</td>\n",
              "      <td>y</td>\n",
              "      <td>y</td>\n",
              "      <td>y</td>\n",
              "      <td>n</td>\n",
              "      <td>y</td>\n",
              "      <td>y</td>\n",
              "      <td>n</td>\n",
              "      <td>n</td>\n",
              "      <td>n</td>\n",
              "      <td>n</td>\n",
              "      <td>y</td>\n",
              "      <td>?</td>\n",
              "      <td>y</td>\n",
              "      <td>y</td>\n",
              "      <td>y</td>\n",
              "      <td>y</td>\n",
              "    </tr>\n",
              "  </tbody>\n",
              "</table>\n",
              "</div>"
            ],
            "text/plain": [
              "        party handicapped-infants water-project  ... crime duty-free south-africa\n",
              "0  republican                   n             y  ...     y         n            y\n",
              "1  republican                   n             y  ...     y         n            ?\n",
              "2    democrat                   ?             y  ...     y         n            n\n",
              "3    democrat                   n             y  ...     n         n            y\n",
              "4    democrat                   y             y  ...     y         y            y\n",
              "\n",
              "[5 rows x 17 columns]"
            ]
          },
          "metadata": {
            "tags": []
          },
          "execution_count": 7
        }
      ]
    },
    {
      "cell_type": "code",
      "metadata": {
        "id": "fjtvAktm3EqR",
        "colab_type": "code",
        "outputId": "d4b529a1-b6f2-4d31-bb10-addf37b888e4",
        "colab": {
          "base_uri": "https://localhost:8080/",
          "height": 253
        }
      },
      "source": [
        "# replacing the unknown values with NaN, and replacing yes and no with 0's and 1's\n",
        "# because we can't graph strings. we can only graph numbers. \n",
        "df = df.replace({'?':np.NaN, 'n':0, 'y':1})\n",
        "df.head()"
      ],
      "execution_count": 0,
      "outputs": [
        {
          "output_type": "execute_result",
          "data": {
            "text/html": [
              "<div>\n",
              "<style scoped>\n",
              "    .dataframe tbody tr th:only-of-type {\n",
              "        vertical-align: middle;\n",
              "    }\n",
              "\n",
              "    .dataframe tbody tr th {\n",
              "        vertical-align: top;\n",
              "    }\n",
              "\n",
              "    .dataframe thead th {\n",
              "        text-align: right;\n",
              "    }\n",
              "</style>\n",
              "<table border=\"1\" class=\"dataframe\">\n",
              "  <thead>\n",
              "    <tr style=\"text-align: right;\">\n",
              "      <th></th>\n",
              "      <th>party</th>\n",
              "      <th>handicapped-infants</th>\n",
              "      <th>water-project</th>\n",
              "      <th>budget</th>\n",
              "      <th>physician-fee-freeze</th>\n",
              "      <th>el-salvador-aid</th>\n",
              "      <th>religious-groups</th>\n",
              "      <th>anti-satellite-ban</th>\n",
              "      <th>aid-to-contras</th>\n",
              "      <th>mx-missile</th>\n",
              "      <th>immigration</th>\n",
              "      <th>synfuels</th>\n",
              "      <th>education</th>\n",
              "      <th>right-to-sue</th>\n",
              "      <th>crime</th>\n",
              "      <th>duty-free</th>\n",
              "      <th>south-africa</th>\n",
              "    </tr>\n",
              "  </thead>\n",
              "  <tbody>\n",
              "    <tr>\n",
              "      <th>0</th>\n",
              "      <td>republican</td>\n",
              "      <td>0.0</td>\n",
              "      <td>1.0</td>\n",
              "      <td>0.0</td>\n",
              "      <td>1.0</td>\n",
              "      <td>1.0</td>\n",
              "      <td>1.0</td>\n",
              "      <td>0.0</td>\n",
              "      <td>0.0</td>\n",
              "      <td>0.0</td>\n",
              "      <td>1.0</td>\n",
              "      <td>NaN</td>\n",
              "      <td>1.0</td>\n",
              "      <td>1.0</td>\n",
              "      <td>1.0</td>\n",
              "      <td>0.0</td>\n",
              "      <td>1.0</td>\n",
              "    </tr>\n",
              "    <tr>\n",
              "      <th>1</th>\n",
              "      <td>republican</td>\n",
              "      <td>0.0</td>\n",
              "      <td>1.0</td>\n",
              "      <td>0.0</td>\n",
              "      <td>1.0</td>\n",
              "      <td>1.0</td>\n",
              "      <td>1.0</td>\n",
              "      <td>0.0</td>\n",
              "      <td>0.0</td>\n",
              "      <td>0.0</td>\n",
              "      <td>0.0</td>\n",
              "      <td>0.0</td>\n",
              "      <td>1.0</td>\n",
              "      <td>1.0</td>\n",
              "      <td>1.0</td>\n",
              "      <td>0.0</td>\n",
              "      <td>NaN</td>\n",
              "    </tr>\n",
              "    <tr>\n",
              "      <th>2</th>\n",
              "      <td>democrat</td>\n",
              "      <td>NaN</td>\n",
              "      <td>1.0</td>\n",
              "      <td>1.0</td>\n",
              "      <td>NaN</td>\n",
              "      <td>1.0</td>\n",
              "      <td>1.0</td>\n",
              "      <td>0.0</td>\n",
              "      <td>0.0</td>\n",
              "      <td>0.0</td>\n",
              "      <td>0.0</td>\n",
              "      <td>1.0</td>\n",
              "      <td>0.0</td>\n",
              "      <td>1.0</td>\n",
              "      <td>1.0</td>\n",
              "      <td>0.0</td>\n",
              "      <td>0.0</td>\n",
              "    </tr>\n",
              "    <tr>\n",
              "      <th>3</th>\n",
              "      <td>democrat</td>\n",
              "      <td>0.0</td>\n",
              "      <td>1.0</td>\n",
              "      <td>1.0</td>\n",
              "      <td>0.0</td>\n",
              "      <td>NaN</td>\n",
              "      <td>1.0</td>\n",
              "      <td>0.0</td>\n",
              "      <td>0.0</td>\n",
              "      <td>0.0</td>\n",
              "      <td>0.0</td>\n",
              "      <td>1.0</td>\n",
              "      <td>0.0</td>\n",
              "      <td>1.0</td>\n",
              "      <td>0.0</td>\n",
              "      <td>0.0</td>\n",
              "      <td>1.0</td>\n",
              "    </tr>\n",
              "    <tr>\n",
              "      <th>4</th>\n",
              "      <td>democrat</td>\n",
              "      <td>1.0</td>\n",
              "      <td>1.0</td>\n",
              "      <td>1.0</td>\n",
              "      <td>0.0</td>\n",
              "      <td>1.0</td>\n",
              "      <td>1.0</td>\n",
              "      <td>0.0</td>\n",
              "      <td>0.0</td>\n",
              "      <td>0.0</td>\n",
              "      <td>0.0</td>\n",
              "      <td>1.0</td>\n",
              "      <td>NaN</td>\n",
              "      <td>1.0</td>\n",
              "      <td>1.0</td>\n",
              "      <td>1.0</td>\n",
              "      <td>1.0</td>\n",
              "    </tr>\n",
              "  </tbody>\n",
              "</table>\n",
              "</div>"
            ],
            "text/plain": [
              "        party  handicapped-infants  ...  duty-free  south-africa\n",
              "0  republican                  0.0  ...        0.0           1.0\n",
              "1  republican                  0.0  ...        0.0           NaN\n",
              "2    democrat                  NaN  ...        0.0           0.0\n",
              "3    democrat                  0.0  ...        0.0           1.0\n",
              "4    democrat                  1.0  ...        1.0           1.0\n",
              "\n",
              "[5 rows x 17 columns]"
            ]
          },
          "metadata": {
            "tags": []
          },
          "execution_count": 9
        }
      ]
    },
    {
      "cell_type": "code",
      "metadata": {
        "id": "00hwvRyf3Ter",
        "colab_type": "code",
        "outputId": "543cdea1-30f9-4d95-8230-ec9ab3d6cdcb",
        "colab": {
          "base_uri": "https://localhost:8080/",
          "height": 328
        }
      },
      "source": [
        "# getting a general idea of empty data sets. \n",
        "df.isnull().sum()"
      ],
      "execution_count": 0,
      "outputs": [
        {
          "output_type": "execute_result",
          "data": {
            "text/plain": [
              "party                     0\n",
              "handicapped-infants      12\n",
              "water-project            48\n",
              "budget                   11\n",
              "physician-fee-freeze     11\n",
              "el-salvador-aid          15\n",
              "religious-groups         11\n",
              "anti-satellite-ban       14\n",
              "aid-to-contras           15\n",
              "mx-missile               22\n",
              "immigration               7\n",
              "synfuels                 21\n",
              "education                31\n",
              "right-to-sue             25\n",
              "crime                    17\n",
              "duty-free                28\n",
              "south-africa            104\n",
              "dtype: int64"
            ]
          },
          "metadata": {
            "tags": []
          },
          "execution_count": 11
        }
      ]
    },
    {
      "cell_type": "code",
      "metadata": {
        "id": "NVFRYPJS3heL",
        "colab_type": "code",
        "outputId": "4f0d1170-cc38-4126-bd1f-5e986beee4c3",
        "colab": {
          "base_uri": "https://localhost:8080/",
          "height": 86
        }
      },
      "source": [
        "# splitting the data in two into democrats and republican data sets. \n",
        "rep = df[df['party']=='republican']\n",
        "dem = df[df['party']=='democrat']\n",
        "print('rep:', rep.shape)\n",
        "print('dem:', dem.shape)\n",
        "\n",
        "# Getting the mean of rep data set and dem data set. \n",
        "\n",
        "print('rep mean:', rep['handicapped-infants'].mean())\n",
        "print('dem mean:', dem['handicapped-infants'].mean())"
      ],
      "execution_count": 0,
      "outputs": [
        {
          "output_type": "stream",
          "text": [
            "rep: (168, 17)\n",
            "dem: (267, 17)\n",
            "rep mean: 0.18787878787878787\n",
            "dem mean: 0.6046511627906976\n"
          ],
          "name": "stdout"
        }
      ]
    },
    {
      "cell_type": "code",
      "metadata": {
        "id": "EZ_fzN-96jKO",
        "colab_type": "code",
        "colab": {}
      },
      "source": [
        "# creating a function to replicate class notes and code. If this\n",
        "# replica function works and give me the same result the instructor\n",
        "# produced in class, then i will know that the function is fully \n",
        "# funtional and i ccan use it for my assignment.\n",
        "\n",
        "# a = sample one, b = null hypothesis, omit nan values\n",
        "def one_sample_ttest(a,b,nan_policy='omit'):\n",
        "  return ttest_1samp(a,b,nan_policy='omit')\n",
        "\n",
        "# a = sample one, b = sample 2, omit nan values\n",
        "def two_sample_ttest(a,b,nan_policy='omit'):\n",
        "  return ttest_ind(a,b,nan_policy='omit')\n",
        "\n",
        "one_sample_ttest(rep['physician-fee-freeze'], 1)\n",
        "two_sample_ttest(rep['handicapped-infants'], dem['handicapped-infants'])\n",
        "# The result of the function is exactly what the instructor got in class\n",
        "# so, i can use this function to do my assignment. "
      ],
      "execution_count": 0,
      "outputs": []
    },
    {
      "cell_type": "code",
      "metadata": {
        "id": "aMxCJZQwB2ID",
        "colab_type": "code",
        "colab": {}
      },
      "source": [
        "# create a list that has all the features for rep and dem data sets so that \n",
        "# i can easily itirate through it to find the solution i am looking for\n",
        "\n",
        "rep_data = [rep['handicapped-infants'], rep['physician-fee-freeze'], \n",
        "           rep['water-project'], rep['budget'],\n",
        "           rep['el-salvador-aid'], rep['religious-groups'],\n",
        "           rep['anti-satellite-ban'], rep['aid-to-contras'],\n",
        "           rep['mx-missile'], rep['immigration'],\n",
        "           rep['synfuels'], rep['education'],\n",
        "           rep['right-to-sue'], rep['crime'],\n",
        "           rep['duty-free'], rep['south-africa']]\n",
        "           \n",
        "\n",
        "dem_data = [dem['handicapped-infants'], dem['physician-fee-freeze'], \n",
        "           dem['water-project'], dem['budget'],\n",
        "           dem['el-salvador-aid'], dem['religious-groups'],\n",
        "           dem['anti-satellite-ban'], dem['aid-to-contras'],\n",
        "           dem['mx-missile'], dem['immigration'],\n",
        "           dem['synfuels'], dem['education'],\n",
        "           dem['right-to-sue'], dem['crime'],\n",
        "           dem['duty-free'], dem['south-africa']]\n",
        "\n",
        "# testing to see if i can use list comprehension too iterate through\n",
        "# different features without typing them out individually\n",
        "\n",
        "# republican data with a null hypothesis of 0.5\n",
        "[one_sample_ttest(a,0.5) for a in rep_data]\n",
        "\n",
        "# my list comprehension works"
      ],
      "execution_count": 0,
      "outputs": []
    },
    {
      "cell_type": "code",
      "metadata": {
        "id": "4FBjyhUnU88r",
        "colab_type": "code",
        "outputId": "3c1ef900-fd40-4364-e5f0-777719bbfb06",
        "colab": {
          "base_uri": "https://localhost:8080/",
          "height": 294
        }
      },
      "source": [
        "# republican data with a null hypothesis of 1\n",
        "[one_sample_ttest(a,1) for a in rep_data]\n",
        "'''Republicans support the issues of \"Physician freeze, el salvador aid, and crime\" \n",
        "more than democrats because the p-value of these data frames are less than 0.01 but the p value\n",
        "is not a big negative number which represents zero(0)'''"
      ],
      "execution_count": 0,
      "outputs": [
        {
          "output_type": "execute_result",
          "data": {
            "text/plain": [
              "[Ttest_1sampResult(statistic=-26.625236633811387, pvalue=1.978873197183477e-61),\n",
              " Ttest_1sampResult(statistic=-1.4185450076223511, pvalue=0.1579292482594923),\n",
              " Ttest_1sampResult(statistic=-11.961605243444543, pvalue=1.8656648229239887e-23),\n",
              " Ttest_1sampResult(statistic=-32.43595087385152, pvalue=5.293293090366981e-73),\n",
              " Ttest_1sampResult(statistic=-2.890793645020198, pvalue=0.004363402589282088),\n",
              " Ttest_1sampResult(statistic=-4.338836636208457, pvalue=2.488389920449274e-05),\n",
              " Ttest_1sampResult(statistic=-22.533735393166197, pvalue=1.1791229999687983e-51),\n",
              " Ttest_1sampResult(statistic=-29.402380855978315, pvalue=1.646323339608132e-65),\n",
              " Ttest_1sampResult(statistic=-35.49944402826317, pvalue=6.985438779792963e-79),\n",
              " Ttest_1sampResult(statistic=-11.407472760546423, pvalue=1.4608897556395605e-22),\n",
              " Ttest_1sampResult(statistic=-32.22244115962839, pvalue=2.3835416257429457e-71),\n",
              " Ttest_1sampResult(statistic=-4.776485613378817, pvalue=4.122594240061259e-06),\n",
              " Ttest_1sampResult(statistic=-5.039549466324287, pvalue=1.2709536953404217e-06),\n",
              " Ttest_1sampResult(statistic=-1.7429786813223835, pvalue=0.08325845614278887),\n",
              " Ttest_1sampResult(statistic=-39.650256709671595, pvalue=4.830431832375446e-83),\n",
              " Ttest_1sampResult(statistic=-8.690272339422588, pvalue=7.027169011521171e-15)]"
            ]
          },
          "metadata": {
            "tags": []
          },
          "execution_count": 89
        }
      ]
    },
    {
      "cell_type": "code",
      "metadata": {
        "id": "gweIK802bLoF",
        "colab_type": "code",
        "outputId": "cd948b7e-1b09-4234-d1f9-5bf563f6f181",
        "colab": {
          "base_uri": "https://localhost:8080/",
          "height": 294
        }
      },
      "source": [
        "# democrat data with a null hypothesis of 1\n",
        "[[one_sample_ttest(a,1) for a in dem_data]]\n",
        "'''democrats support the issue of \"South Africa\" more than republicans because\n",
        "that is the only feature where the p value is less than 0.01 but the p value\n",
        "is not a big negative number which represents zero(0)'''"
      ],
      "execution_count": 0,
      "outputs": [
        {
          "output_type": "execute_result",
          "data": {
            "text/plain": [
              "[[Ttest_1sampResult(statistic=-12.96296499796484, pvalue=6.590394568934029e-30),\n",
              "  Ttest_1sampResult(statistic=-67.19374970932937, pvalue=1.7479453896049469e-165),\n",
              "  Ttest_1sampResult(statistic=-15.36283393995609, pvalue=1.8031537722768159e-37),\n",
              "  Ttest_1sampResult(statistic=-5.702205846437985, pvalue=3.217258173105712e-08),\n",
              "  Ttest_1sampResult(statistic=-30.39138633949369, pvalue=1.4023105444477201e-86),\n",
              "  Ttest_1sampResult(statistic=-16.7950341092749, pvalue=3.12862805821349e-43),\n",
              "  Ttest_1sampResult(statistic=-8.724104538575864, pvalue=3.377871549159516e-16),\n",
              "  Ttest_1sampResult(statistic=-7.354085178140069, pvalue=2.464384519854037e-12),\n",
              "  Ttest_1sampResult(statistic=-8.87861403790268, pvalue=1.418109388321789e-16),\n",
              "  Ttest_1sampResult(statistic=-17.137489559066015, pvalue=1.1309092327824875e-44),\n",
              "  Ttest_1sampResult(statistic=-15.750968962442089, pvalue=1.839716417353916e-39),\n",
              "  Ttest_1sampResult(statistic=-38.305787204198445, pvalue=3.89658572232871e-106),\n",
              "  Ttest_1sampResult(statistic=-24.808582253419022, pvalue=1.7639983932923968e-69),\n",
              "  Ttest_1sampResult(statistic=-21.79500452448272, pvalue=2.895364097073912e-60),\n",
              "  Ttest_1sampResult(statistic=-11.924240017711822, pvalue=2.9898892568373244e-26),\n",
              "  Ttest_1sampResult(statistic=-3.572534923600723, pvalue=0.0004513789099729073)]]"
            ]
          },
          "metadata": {
            "tags": []
          },
          "execution_count": 88
        }
      ]
    },
    {
      "cell_type": "code",
      "metadata": {
        "id": "Z87GTf76BSIO",
        "colab_type": "code",
        "colab": {}
      },
      "source": [
        "# testing how i can use list comprehension with two sample t tests.\n",
        "\n",
        "#[two_sample_ttest(a,b) for a in rep_data for b in dem_data]\n",
        "\n",
        "# I don't know how to use list comprehension or for loop with multiple\n",
        "# dat sets to get all my results at once and google is not helping either\n",
        "\n",
        "#for data in rep_data:\n",
        " # for b_data in dem_data:\n",
        "  #  a = data\n",
        "   # b = b_data\n",
        "    #result = (two_sample_ttest(a,b))\n",
        "#print(result)"
      ],
      "execution_count": 0,
      "outputs": []
    },
    {
      "cell_type": "code",
      "metadata": {
        "id": "m8cazXAuJAOd",
        "colab_type": "code",
        "outputId": "0d1ace2d-0f26-4f4c-bf2b-a09039af51d6",
        "colab": {
          "base_uri": "https://localhost:8080/",
          "height": 294
        }
      },
      "source": [
        "# Handicapped infants\n",
        "print('Handicapped infants:', two_sample_ttest(rep_data[0],dem_data[0]))\n",
        "\n",
        "# physician-fee-freeze\n",
        "print('physician-fee-freeze:', two_sample_ttest(rep_data[1],dem_data[1]))\n",
        "\n",
        "# water project vote comparison between democrats and republicans\n",
        "print('Water Project:', two_sample_ttest(rep_data[2],dem_data[2]))\n",
        "\n",
        "# budget vote comparison between democrats and republicans\n",
        "print('Budget:', two_sample_ttest(rep_data[3],dem_data[3]))\n",
        "\n",
        "# el salvador aid vote comparison between democrats and republicans\n",
        "print('el-salvador-aid:', two_sample_ttest(rep_data[4],dem_data[4]))\n",
        "\n",
        "# religious groups vote comparison between democrats and republicans\n",
        "print('Religious Groups:', two_sample_ttest(rep_data[5],dem_data[5]))\n",
        "\n",
        "# anti satelite ban vote comparison between democrats and republicans\n",
        "print('Anti Satellite ban:', two_sample_ttest(rep_data[6],dem_data[6]))\n",
        "\n",
        "# aid to contras vote comparison between democrats and republicans\n",
        "print('aid to contras:', two_sample_ttest(rep_data[7],dem_data[7]))\n",
        "\n",
        "# mx missile vote comparison between democrats and republicans\n",
        "print('mx -  missile:', two_sample_ttest(rep_data[8],dem_data[8]))\n",
        "\n",
        "# immigration vote comparison between democrats and republicans\n",
        "print('immigration:', two_sample_ttest(rep_data[9],dem_data[9]))\n",
        "\n",
        "# synfuels vote comparison between democrats and republicans\n",
        "print('synfuels:', two_sample_ttest(rep_data[10],dem_data[10]))\n",
        "\n",
        "# education vote comparison between democrats and republicans\n",
        "print('education:', two_sample_ttest(rep_data[11],dem_data[11]))\n",
        "\n",
        "# right to sue vote comparison between democrats and republicans\n",
        "print('right to sue:', two_sample_ttest(rep_data[12],dem_data[12]))\n",
        "\n",
        "# crime vote comparison between democrats and republicans\n",
        "print('crime:', two_sample_ttest(rep_data[13],dem_data[13]))\n",
        "\n",
        "# duty free vote comparison between democrats and republicans\n",
        "print('duty free:', two_sample_ttest(rep_data[14],dem_data[14]))\n",
        "\n",
        "# South Africa vote comparison between democrats and republicans\n",
        "print('South Africa:', two_sample_ttest(rep_data[15],dem_data[15]))"
      ],
      "execution_count": 0,
      "outputs": [
        {
          "output_type": "stream",
          "text": [
            "Handicapped infants: Ttest_indResult(statistic=-9.205264294809222, pvalue=1.613440327937243e-18)\n",
            "physician-fee-freeze: Ttest_indResult(statistic=49.36708157301406, pvalue=1.994262314074344e-177)\n",
            "Water Project: Ttest_indResult(statistic=0.08896538137868286, pvalue=0.9291556823993485)\n",
            "Budget: Ttest_indResult(statistic=-23.21277691701378, pvalue=2.0703402795404463e-77)\n",
            "el-salvador-aid: Ttest_indResult(statistic=21.13669261173219, pvalue=5.600520111729011e-68)\n",
            "Religious Groups: Ttest_indResult(statistic=9.737575825219457, pvalue=2.3936722520597287e-20)\n",
            "Anti Satellite ban: Ttest_indResult(statistic=-12.526187929077842, pvalue=8.521033017443867e-31)\n",
            "aid to contras: Ttest_indResult(statistic=-18.052093200819733, pvalue=2.82471841372357e-54)\n",
            "mx -  missile: Ttest_indResult(statistic=-16.437503268542994, pvalue=5.03079265310811e-47)\n",
            "immigration: Ttest_indResult(statistic=1.7359117329695164, pvalue=0.08330248490425066)\n",
            "synfuels: Ttest_indResult(statistic=-8.293603989407588, pvalue=1.5759322301054064e-15)\n",
            "education: Ttest_indResult(statistic=20.500685724563073, pvalue=1.8834203990450192e-64)\n",
            "right to sue: Ttest_indResult(statistic=13.51064251060933, pvalue=1.2278581709672758e-34)\n",
            "crime: Ttest_indResult(statistic=16.342085656197696, pvalue=9.952342705606092e-47)\n",
            "duty free: Ttest_indResult(statistic=-12.853146132542978, pvalue=5.997697174347365e-32)\n",
            "South Africa: Ttest_indResult(statistic=-6.849454815841208, pvalue=3.652674361672226e-11)\n"
          ],
          "name": "stdout"
        }
      ]
    },
    {
      "cell_type": "code",
      "metadata": {
        "id": "HgCrb2kfTkDy",
        "colab_type": "code",
        "colab": {}
      },
      "source": [
        "'''Issues in which democrates and \n",
        "republicans has a p value > 0.1 is \"Water Project\" which has \n",
        "a p value of 0.9and \"immigration is pretty close with\n",
        "a p value of 0.08\"'''"
      ],
      "execution_count": 0,
      "outputs": []
    }
  ]
}