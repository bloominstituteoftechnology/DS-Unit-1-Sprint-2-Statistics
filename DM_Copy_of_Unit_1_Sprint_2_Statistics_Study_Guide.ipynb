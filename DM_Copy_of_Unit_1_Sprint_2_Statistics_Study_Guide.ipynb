{
  "nbformat": 4,
  "nbformat_minor": 0,
  "metadata": {
    "colab": {
      "name": "DM_Copy of Unit 1 Sprint 2 - Statistics - Study Guide.ipynb",
      "provenance": [],
      "collapsed_sections": [],
      "include_colab_link": true
    },
    "kernelspec": {
      "name": "python3",
      "display_name": "Python 3"
    }
  },
  "cells": [
    {
      "cell_type": "markdown",
      "metadata": {
        "id": "view-in-github",
        "colab_type": "text"
      },
      "source": [
        "<a href=\"https://colab.research.google.com/github/d-melamed/DS-Unit-1-Sprint-2-Statistics/blob/master/DM_Copy_of_Unit_1_Sprint_2_Statistics_Study_Guide.ipynb\" target=\"_parent\"><img src=\"https://colab.research.google.com/assets/colab-badge.svg\" alt=\"Open In Colab\"/></a>"
      ]
    },
    {
      "cell_type": "markdown",
      "metadata": {
        "id": "GTv68Uw5Zk-P",
        "colab_type": "text"
      },
      "source": [
        "This study guide should reinforce and provide practice for all of the concepts you have seen in the past week. There are a mix of written questions and coding exercises, both are equally important to prepare you for the sprint challenge as well as to be able to speak on these topics comfortably in interviews and on the job.\n",
        "\n",
        "If you get stuck or are unsure of something remember the 20 minute rule. If that doesn't help, then research a solution with google and stackoverflow. Only once you have exausted these methods should you turn to your Team Lead - they won't be there on your SC or during an interview. That being said, don't hesitate to ask for help if you truly are stuck.\n",
        "\n",
        "Have fun studying!"
      ]
    },
    {
      "cell_type": "markdown",
      "metadata": {
        "id": "VvSCoixx7rRe",
        "colab_type": "text"
      },
      "source": [
        "# Resources\n",
        "\n",
        "[Scipy Stats Documentation](https://docs.scipy.org/doc/scipy/reference/stats.html)"
      ]
    },
    {
      "cell_type": "markdown",
      "metadata": {
        "id": "sDkirKu1B-Lw",
        "colab_type": "text"
      },
      "source": [
        "# General Terms"
      ]
    },
    {
      "cell_type": "markdown",
      "metadata": {
        "id": "iY916675DAXf",
        "colab_type": "text"
      },
      "source": [
        "Define the following terms. *Double click the text to edit the markdown cells.*\n",
        "<br/><br/>\n",
        "\n",
        "**Normal Distribution:** `type of continuous probability distribution for a real-valued random variable. It's a symmetric distribution where most of the observations cluster around the central peak and the probabilities for values further away from the mean taper off equally in both directions`\n",
        "\n",
        "**Standard Deviation:** `the measure of variation within a set of measurements (sample)`\n",
        "\n",
        "**Z-Score:** `a measure of how many standard deviations below or above the population mean a raw score`\n",
        "\n",
        "**P-Value:** `the probability of obtaining test results at least as extreme as the results actually observed`\n",
        "\n",
        "**Null Hypothesis:** `the hypothesis that there is no significant difference between specified populations, any observed difference being due to sampling or experimental error. AKA the \"boring\" hypothesis`\n",
        "\n",
        "**Sample:** `a set of individuals collected or selected from a statistical population by a defined procedure`\n",
        "\n",
        "**Statistical Signifigance:** `a result has statistical significance when it is very unlikely to have occurred given the null hypothesis`"
      ]
    },
    {
      "cell_type": "markdown",
      "metadata": {
        "id": "KTiR7Fh6FPH0",
        "colab_type": "text"
      },
      "source": [
        "# T-Test"
      ]
    },
    {
      "cell_type": "markdown",
      "metadata": {
        "id": "L-NzA2VTFapj",
        "colab_type": "text"
      },
      "source": [
        "Answer the following questions as though you are explaining it to a non-technical person. *Double click the text to edit the markdown cells.*\n",
        "<br/><br/>\n",
        "\n",
        "1. What is a T-Test? What is it used for?\n",
        "\n",
        "  `T-test is used to determine whether there is a significant difference between the means of two groups`\n",
        "\n",
        "2. What is the difference between the normal distribution and the t-distribution?\n",
        "\n",
        "  ` Normal distributions are used when the population distribution is assumed to be normal. The T distribution is similar to the normal distribution, just with fatter tails. Both assume a normally distributed population. The probability of getting values very far from the mean is larger with a T distribution than a normal distribution `\n",
        "\n",
        "3. What is the difference between a 1-sample and a 2-sample t-test?\n",
        "\n",
        "  ` 1-sample t-tests determine whether or not a sample mean is statistically different from some known (or hypothesized) population mean. 2-sample t-tests determine whether or not one sample mean is statistically different from the other sample mean. `"
      ]
    },
    {
      "cell_type": "markdown",
      "metadata": {
        "id": "_tZDJesBHeDB",
        "colab_type": "text"
      },
      "source": [
        "We are scientists running a drug trial and wanting to know whether our drug reduced patient symptoms. Below are the results (just random numbers), explain in 2-3 sentences whether or not the drug was effective. How can we tell that from the t-test?\n",
        "\n",
        "```\n",
        "Since the p value is 0.68, we fail to reject the null hypothesis, so there is not enough evidence to suggest that the drug reduced patients symptoms.\n",
        "```\n",
        "\n",
        "What is likely our null hypothesis?\n",
        "\n",
        "```\n",
        "Our null hypothesis would be that the patients symptoms on the drug would be equal to patients symptoms not on the drug.\n",
        "```"
      ]
    },
    {
      "cell_type": "code",
      "metadata": {
        "id": "0ggDf6GE4mVU",
        "colab_type": "code",
        "colab": {
          "base_uri": "https://localhost:8080/",
          "height": 34
        },
        "outputId": "e1e51a87-af18-4954-bdba-2480d767c268"
      },
      "source": [
        "from scipy import stats\n",
        "import numpy as np\n",
        "import pandas as pd\n",
        "\n",
        "# Get our \"results\" with random numbers\n",
        "np.random.seed(42)\n",
        "with_drug = stats.norm.rvs(loc=5, scale=10, size=500)\n",
        "without_drug = stats.norm.rvs(loc=5, scale=10, size=500)\n",
        "\n",
        "# See if our drug made a difference\n",
        "stats.ttest_ind(with_drug, without_drug)"
      ],
      "execution_count": 27,
      "outputs": [
        {
          "output_type": "execute_result",
          "data": {
            "text/plain": [
              "Ttest_indResult(statistic=-0.40331379088750186, pvalue=0.6868037874359643)"
            ]
          },
          "metadata": {
            "tags": []
          },
          "execution_count": 27
        }
      ]
    },
    {
      "cell_type": "markdown",
      "metadata": {
        "id": "5KJ4ZpQQPoIv",
        "colab_type": "text"
      },
      "source": [
        "Here is a dataframe of movie ratings. Divide the dataframe by gender and then use t-tests to show which movies have a statistically significant difference in rating when divided by gender. Give a sentence explanation of the results."
      ]
    },
    {
      "cell_type": "code",
      "metadata": {
        "id": "_HtmwEHBHTEb",
        "colab_type": "code",
        "colab": {
          "base_uri": "https://localhost:8080/",
          "height": 204
        },
        "outputId": "666eab94-169c-4c3b-9dfb-3d15c6a62924"
      },
      "source": [
        "df = pd.DataFrame({'gender':['m','f','f','m','m','m','f','f','m','f'],\n",
        "                   'jurassic park':[10,9,10,9,9,10,10,10,9,9],\n",
        "                   'love actually':[6,9,10,7,6,7,10,10,5,8],\n",
        "                   'pacific rim':[10,3,4,8,9,8,5,4,9,3]})\n",
        "df.head()"
      ],
      "execution_count": 28,
      "outputs": [
        {
          "output_type": "execute_result",
          "data": {
            "text/html": [
              "<div>\n",
              "<style scoped>\n",
              "    .dataframe tbody tr th:only-of-type {\n",
              "        vertical-align: middle;\n",
              "    }\n",
              "\n",
              "    .dataframe tbody tr th {\n",
              "        vertical-align: top;\n",
              "    }\n",
              "\n",
              "    .dataframe thead th {\n",
              "        text-align: right;\n",
              "    }\n",
              "</style>\n",
              "<table border=\"1\" class=\"dataframe\">\n",
              "  <thead>\n",
              "    <tr style=\"text-align: right;\">\n",
              "      <th></th>\n",
              "      <th>gender</th>\n",
              "      <th>jurassic park</th>\n",
              "      <th>love actually</th>\n",
              "      <th>pacific rim</th>\n",
              "    </tr>\n",
              "  </thead>\n",
              "  <tbody>\n",
              "    <tr>\n",
              "      <th>0</th>\n",
              "      <td>m</td>\n",
              "      <td>10</td>\n",
              "      <td>6</td>\n",
              "      <td>10</td>\n",
              "    </tr>\n",
              "    <tr>\n",
              "      <th>1</th>\n",
              "      <td>f</td>\n",
              "      <td>9</td>\n",
              "      <td>9</td>\n",
              "      <td>3</td>\n",
              "    </tr>\n",
              "    <tr>\n",
              "      <th>2</th>\n",
              "      <td>f</td>\n",
              "      <td>10</td>\n",
              "      <td>10</td>\n",
              "      <td>4</td>\n",
              "    </tr>\n",
              "    <tr>\n",
              "      <th>3</th>\n",
              "      <td>m</td>\n",
              "      <td>9</td>\n",
              "      <td>7</td>\n",
              "      <td>8</td>\n",
              "    </tr>\n",
              "    <tr>\n",
              "      <th>4</th>\n",
              "      <td>m</td>\n",
              "      <td>9</td>\n",
              "      <td>6</td>\n",
              "      <td>9</td>\n",
              "    </tr>\n",
              "  </tbody>\n",
              "</table>\n",
              "</div>"
            ],
            "text/plain": [
              "  gender  jurassic park  love actually  pacific rim\n",
              "0      m             10              6           10\n",
              "1      f              9              9            3\n",
              "2      f             10             10            4\n",
              "3      m              9              7            8\n",
              "4      m              9              6            9"
            ]
          },
          "metadata": {
            "tags": []
          },
          "execution_count": 28
        }
      ]
    },
    {
      "cell_type": "code",
      "metadata": {
        "id": "bNDXqu-ZRDNe",
        "colab_type": "code",
        "colab": {}
      },
      "source": [
        "# Divide the dataframe here\n",
        "\n",
        "condition = df['gender'] == 'm'\n",
        "\n",
        "df_male = df[condition]"
      ],
      "execution_count": 29,
      "outputs": []
    },
    {
      "cell_type": "code",
      "metadata": {
        "id": "rWKRoPehCf4T",
        "colab_type": "code",
        "colab": {}
      },
      "source": [
        "condition2 = df['gender'] == 'f'\n",
        "\n",
        "df_female = df[condition2]"
      ],
      "execution_count": 30,
      "outputs": []
    },
    {
      "cell_type": "code",
      "metadata": {
        "id": "O-8fZhP3CpRH",
        "colab_type": "code",
        "colab": {
          "base_uri": "https://localhost:8080/",
          "height": 204
        },
        "outputId": "4f47c322-df13-4cc7-be32-4c99276db030"
      },
      "source": [
        "df_male.head()"
      ],
      "execution_count": 31,
      "outputs": [
        {
          "output_type": "execute_result",
          "data": {
            "text/html": [
              "<div>\n",
              "<style scoped>\n",
              "    .dataframe tbody tr th:only-of-type {\n",
              "        vertical-align: middle;\n",
              "    }\n",
              "\n",
              "    .dataframe tbody tr th {\n",
              "        vertical-align: top;\n",
              "    }\n",
              "\n",
              "    .dataframe thead th {\n",
              "        text-align: right;\n",
              "    }\n",
              "</style>\n",
              "<table border=\"1\" class=\"dataframe\">\n",
              "  <thead>\n",
              "    <tr style=\"text-align: right;\">\n",
              "      <th></th>\n",
              "      <th>gender</th>\n",
              "      <th>jurassic park</th>\n",
              "      <th>love actually</th>\n",
              "      <th>pacific rim</th>\n",
              "    </tr>\n",
              "  </thead>\n",
              "  <tbody>\n",
              "    <tr>\n",
              "      <th>0</th>\n",
              "      <td>m</td>\n",
              "      <td>10</td>\n",
              "      <td>6</td>\n",
              "      <td>10</td>\n",
              "    </tr>\n",
              "    <tr>\n",
              "      <th>3</th>\n",
              "      <td>m</td>\n",
              "      <td>9</td>\n",
              "      <td>7</td>\n",
              "      <td>8</td>\n",
              "    </tr>\n",
              "    <tr>\n",
              "      <th>4</th>\n",
              "      <td>m</td>\n",
              "      <td>9</td>\n",
              "      <td>6</td>\n",
              "      <td>9</td>\n",
              "    </tr>\n",
              "    <tr>\n",
              "      <th>5</th>\n",
              "      <td>m</td>\n",
              "      <td>10</td>\n",
              "      <td>7</td>\n",
              "      <td>8</td>\n",
              "    </tr>\n",
              "    <tr>\n",
              "      <th>8</th>\n",
              "      <td>m</td>\n",
              "      <td>9</td>\n",
              "      <td>5</td>\n",
              "      <td>9</td>\n",
              "    </tr>\n",
              "  </tbody>\n",
              "</table>\n",
              "</div>"
            ],
            "text/plain": [
              "  gender  jurassic park  love actually  pacific rim\n",
              "0      m             10              6           10\n",
              "3      m              9              7            8\n",
              "4      m              9              6            9\n",
              "5      m             10              7            8\n",
              "8      m              9              5            9"
            ]
          },
          "metadata": {
            "tags": []
          },
          "execution_count": 31
        }
      ]
    },
    {
      "cell_type": "code",
      "metadata": {
        "id": "IluepQyLQ5n4",
        "colab_type": "code",
        "colab": {
          "base_uri": "https://localhost:8080/",
          "height": 204
        },
        "outputId": "39bdd7e4-7262-480e-b314-aaf67944127b"
      },
      "source": [
        "df_female.head()"
      ],
      "execution_count": 32,
      "outputs": [
        {
          "output_type": "execute_result",
          "data": {
            "text/html": [
              "<div>\n",
              "<style scoped>\n",
              "    .dataframe tbody tr th:only-of-type {\n",
              "        vertical-align: middle;\n",
              "    }\n",
              "\n",
              "    .dataframe tbody tr th {\n",
              "        vertical-align: top;\n",
              "    }\n",
              "\n",
              "    .dataframe thead th {\n",
              "        text-align: right;\n",
              "    }\n",
              "</style>\n",
              "<table border=\"1\" class=\"dataframe\">\n",
              "  <thead>\n",
              "    <tr style=\"text-align: right;\">\n",
              "      <th></th>\n",
              "      <th>gender</th>\n",
              "      <th>jurassic park</th>\n",
              "      <th>love actually</th>\n",
              "      <th>pacific rim</th>\n",
              "    </tr>\n",
              "  </thead>\n",
              "  <tbody>\n",
              "    <tr>\n",
              "      <th>1</th>\n",
              "      <td>f</td>\n",
              "      <td>9</td>\n",
              "      <td>9</td>\n",
              "      <td>3</td>\n",
              "    </tr>\n",
              "    <tr>\n",
              "      <th>2</th>\n",
              "      <td>f</td>\n",
              "      <td>10</td>\n",
              "      <td>10</td>\n",
              "      <td>4</td>\n",
              "    </tr>\n",
              "    <tr>\n",
              "      <th>6</th>\n",
              "      <td>f</td>\n",
              "      <td>10</td>\n",
              "      <td>10</td>\n",
              "      <td>5</td>\n",
              "    </tr>\n",
              "    <tr>\n",
              "      <th>7</th>\n",
              "      <td>f</td>\n",
              "      <td>10</td>\n",
              "      <td>10</td>\n",
              "      <td>4</td>\n",
              "    </tr>\n",
              "    <tr>\n",
              "      <th>9</th>\n",
              "      <td>f</td>\n",
              "      <td>9</td>\n",
              "      <td>8</td>\n",
              "      <td>3</td>\n",
              "    </tr>\n",
              "  </tbody>\n",
              "</table>\n",
              "</div>"
            ],
            "text/plain": [
              "  gender  jurassic park  love actually  pacific rim\n",
              "1      f              9              9            3\n",
              "2      f             10             10            4\n",
              "6      f             10             10            5\n",
              "7      f             10             10            4\n",
              "9      f              9              8            3"
            ]
          },
          "metadata": {
            "tags": []
          },
          "execution_count": 32
        }
      ]
    },
    {
      "cell_type": "code",
      "metadata": {
        "id": "13vU2WpHQfWK",
        "colab_type": "code",
        "colab": {
          "base_uri": "https://localhost:8080/",
          "height": 102
        },
        "outputId": "c8760cdb-a04e-4753-c3b0-8cb023ed384b"
      },
      "source": [
        "df.isnull().sum()"
      ],
      "execution_count": 33,
      "outputs": [
        {
          "output_type": "execute_result",
          "data": {
            "text/plain": [
              "gender           0\n",
              "jurassic park    0\n",
              "love actually    0\n",
              "pacific rim      0\n",
              "dtype: int64"
            ]
          },
          "metadata": {
            "tags": []
          },
          "execution_count": 33
        }
      ]
    },
    {
      "cell_type": "code",
      "metadata": {
        "id": "fKqfYmzJRDKm",
        "colab_type": "code",
        "colab": {
          "base_uri": "https://localhost:8080/",
          "height": 51
        },
        "outputId": "f90529fd-905c-43d9-bd8c-4c93c558a425"
      },
      "source": [
        "print(df_male['jurassic park'].mean())\n",
        "\n",
        "print(df_female['jurassic park'].mean())"
      ],
      "execution_count": 34,
      "outputs": [
        {
          "output_type": "stream",
          "text": [
            "9.4\n",
            "9.6\n"
          ],
          "name": "stdout"
        }
      ]
    },
    {
      "cell_type": "code",
      "metadata": {
        "id": "IZe7t2xcTYGM",
        "colab_type": "code",
        "colab": {
          "base_uri": "https://localhost:8080/",
          "height": 297
        },
        "outputId": "1e2a0f58-0339-4d6f-83e2-c7d51eb0a6e5"
      },
      "source": [
        "df_male.describe()"
      ],
      "execution_count": 35,
      "outputs": [
        {
          "output_type": "execute_result",
          "data": {
            "text/html": [
              "<div>\n",
              "<style scoped>\n",
              "    .dataframe tbody tr th:only-of-type {\n",
              "        vertical-align: middle;\n",
              "    }\n",
              "\n",
              "    .dataframe tbody tr th {\n",
              "        vertical-align: top;\n",
              "    }\n",
              "\n",
              "    .dataframe thead th {\n",
              "        text-align: right;\n",
              "    }\n",
              "</style>\n",
              "<table border=\"1\" class=\"dataframe\">\n",
              "  <thead>\n",
              "    <tr style=\"text-align: right;\">\n",
              "      <th></th>\n",
              "      <th>jurassic park</th>\n",
              "      <th>love actually</th>\n",
              "      <th>pacific rim</th>\n",
              "    </tr>\n",
              "  </thead>\n",
              "  <tbody>\n",
              "    <tr>\n",
              "      <th>count</th>\n",
              "      <td>5.000000</td>\n",
              "      <td>5.00000</td>\n",
              "      <td>5.00000</td>\n",
              "    </tr>\n",
              "    <tr>\n",
              "      <th>mean</th>\n",
              "      <td>9.400000</td>\n",
              "      <td>6.20000</td>\n",
              "      <td>8.80000</td>\n",
              "    </tr>\n",
              "    <tr>\n",
              "      <th>std</th>\n",
              "      <td>0.547723</td>\n",
              "      <td>0.83666</td>\n",
              "      <td>0.83666</td>\n",
              "    </tr>\n",
              "    <tr>\n",
              "      <th>min</th>\n",
              "      <td>9.000000</td>\n",
              "      <td>5.00000</td>\n",
              "      <td>8.00000</td>\n",
              "    </tr>\n",
              "    <tr>\n",
              "      <th>25%</th>\n",
              "      <td>9.000000</td>\n",
              "      <td>6.00000</td>\n",
              "      <td>8.00000</td>\n",
              "    </tr>\n",
              "    <tr>\n",
              "      <th>50%</th>\n",
              "      <td>9.000000</td>\n",
              "      <td>6.00000</td>\n",
              "      <td>9.00000</td>\n",
              "    </tr>\n",
              "    <tr>\n",
              "      <th>75%</th>\n",
              "      <td>10.000000</td>\n",
              "      <td>7.00000</td>\n",
              "      <td>9.00000</td>\n",
              "    </tr>\n",
              "    <tr>\n",
              "      <th>max</th>\n",
              "      <td>10.000000</td>\n",
              "      <td>7.00000</td>\n",
              "      <td>10.00000</td>\n",
              "    </tr>\n",
              "  </tbody>\n",
              "</table>\n",
              "</div>"
            ],
            "text/plain": [
              "       jurassic park  love actually  pacific rim\n",
              "count       5.000000        5.00000      5.00000\n",
              "mean        9.400000        6.20000      8.80000\n",
              "std         0.547723        0.83666      0.83666\n",
              "min         9.000000        5.00000      8.00000\n",
              "25%         9.000000        6.00000      8.00000\n",
              "50%         9.000000        6.00000      9.00000\n",
              "75%        10.000000        7.00000      9.00000\n",
              "max        10.000000        7.00000     10.00000"
            ]
          },
          "metadata": {
            "tags": []
          },
          "execution_count": 35
        }
      ]
    },
    {
      "cell_type": "code",
      "metadata": {
        "id": "8CMKtYlXTbCo",
        "colab_type": "code",
        "colab": {
          "base_uri": "https://localhost:8080/",
          "height": 297
        },
        "outputId": "c18b6b12-2ac9-4c25-feea-92901c40dc9d"
      },
      "source": [
        "df_female.describe()"
      ],
      "execution_count": 36,
      "outputs": [
        {
          "output_type": "execute_result",
          "data": {
            "text/html": [
              "<div>\n",
              "<style scoped>\n",
              "    .dataframe tbody tr th:only-of-type {\n",
              "        vertical-align: middle;\n",
              "    }\n",
              "\n",
              "    .dataframe tbody tr th {\n",
              "        vertical-align: top;\n",
              "    }\n",
              "\n",
              "    .dataframe thead th {\n",
              "        text-align: right;\n",
              "    }\n",
              "</style>\n",
              "<table border=\"1\" class=\"dataframe\">\n",
              "  <thead>\n",
              "    <tr style=\"text-align: right;\">\n",
              "      <th></th>\n",
              "      <th>jurassic park</th>\n",
              "      <th>love actually</th>\n",
              "      <th>pacific rim</th>\n",
              "    </tr>\n",
              "  </thead>\n",
              "  <tbody>\n",
              "    <tr>\n",
              "      <th>count</th>\n",
              "      <td>5.000000</td>\n",
              "      <td>5.000000</td>\n",
              "      <td>5.00000</td>\n",
              "    </tr>\n",
              "    <tr>\n",
              "      <th>mean</th>\n",
              "      <td>9.600000</td>\n",
              "      <td>9.400000</td>\n",
              "      <td>3.80000</td>\n",
              "    </tr>\n",
              "    <tr>\n",
              "      <th>std</th>\n",
              "      <td>0.547723</td>\n",
              "      <td>0.894427</td>\n",
              "      <td>0.83666</td>\n",
              "    </tr>\n",
              "    <tr>\n",
              "      <th>min</th>\n",
              "      <td>9.000000</td>\n",
              "      <td>8.000000</td>\n",
              "      <td>3.00000</td>\n",
              "    </tr>\n",
              "    <tr>\n",
              "      <th>25%</th>\n",
              "      <td>9.000000</td>\n",
              "      <td>9.000000</td>\n",
              "      <td>3.00000</td>\n",
              "    </tr>\n",
              "    <tr>\n",
              "      <th>50%</th>\n",
              "      <td>10.000000</td>\n",
              "      <td>10.000000</td>\n",
              "      <td>4.00000</td>\n",
              "    </tr>\n",
              "    <tr>\n",
              "      <th>75%</th>\n",
              "      <td>10.000000</td>\n",
              "      <td>10.000000</td>\n",
              "      <td>4.00000</td>\n",
              "    </tr>\n",
              "    <tr>\n",
              "      <th>max</th>\n",
              "      <td>10.000000</td>\n",
              "      <td>10.000000</td>\n",
              "      <td>5.00000</td>\n",
              "    </tr>\n",
              "  </tbody>\n",
              "</table>\n",
              "</div>"
            ],
            "text/plain": [
              "       jurassic park  love actually  pacific rim\n",
              "count       5.000000       5.000000      5.00000\n",
              "mean        9.600000       9.400000      3.80000\n",
              "std         0.547723       0.894427      0.83666\n",
              "min         9.000000       8.000000      3.00000\n",
              "25%         9.000000       9.000000      3.00000\n",
              "50%        10.000000      10.000000      4.00000\n",
              "75%        10.000000      10.000000      4.00000\n",
              "max        10.000000      10.000000      5.00000"
            ]
          },
          "metadata": {
            "tags": []
          },
          "execution_count": 36
        }
      ]
    },
    {
      "cell_type": "markdown",
      "metadata": {
        "id": "ReEWvQbmQrGz",
        "colab_type": "text"
      },
      "source": [
        "**Jurassic Park**\n",
        "\n",
        "Explanation of results:\n",
        "\n",
        "```\n",
        "Since the p value is 0.6, we fail to reject the null hypothesis, which is that the male mean score for Jurassic Park is equal to the female mean score. Therefore, there is no stat sig difference between male and female scores for Jurassic Park.\n",
        "```"
      ]
    },
    {
      "cell_type": "code",
      "metadata": {
        "id": "iOIwQT5zPX59",
        "colab_type": "code",
        "colab": {
          "base_uri": "https://localhost:8080/",
          "height": 34
        },
        "outputId": "3cb3e31b-0908-4402-bfab-54f70e13850a"
      },
      "source": [
        "# T-Test Code Here\n",
        "\n",
        "stats.ttest_ind(df_male['jurassic park'], df_female['jurassic park'])"
      ],
      "execution_count": 37,
      "outputs": [
        {
          "output_type": "execute_result",
          "data": {
            "text/plain": [
              "Ttest_indResult(statistic=-0.5773502691896236, pvalue=0.5795840000000014)"
            ]
          },
          "metadata": {
            "tags": []
          },
          "execution_count": 37
        }
      ]
    },
    {
      "cell_type": "markdown",
      "metadata": {
        "id": "8GTFaWm-Q5RL",
        "colab_type": "text"
      },
      "source": [
        "**Love Actually**\n",
        "\n",
        "Explanation of results:\n",
        "\n",
        "```\n",
        "Since the p value is 0.0004, we reject the null hypothesis, which is that the male mean score for Love Actually is equal to the female mean score. Females preferred the movie over males (negative t-stat).\n",
        "\n",
        "```"
      ]
    },
    {
      "cell_type": "code",
      "metadata": {
        "id": "zlGdfuVhQ8e3",
        "colab_type": "code",
        "colab": {
          "base_uri": "https://localhost:8080/",
          "height": 34
        },
        "outputId": "ac6c5624-a88a-4298-8d0b-50c846a40f04"
      },
      "source": [
        "# T-Test Code Here\n",
        "stats.ttest_ind(df_male['love actually'], df_female['love actually'])"
      ],
      "execution_count": 38,
      "outputs": [
        {
          "output_type": "execute_result",
          "data": {
            "text/plain": [
              "Ttest_indResult(statistic=-5.8423739467217715, pvalue=0.0003861022071216145)"
            ]
          },
          "metadata": {
            "tags": []
          },
          "execution_count": 38
        }
      ]
    },
    {
      "cell_type": "markdown",
      "metadata": {
        "id": "JIZU8lzyQ80N",
        "colab_type": "text"
      },
      "source": [
        "**Pacific Rim**\n",
        "\n",
        "Explanation of results:\n",
        "\n",
        "```\n",
        "Since the p value is .000013, we reject the null hypothesis, which is that the male mean score for Love Actually is equal to the female mean score. Males preferred the movie over females (positive t-stat).\n",
        "\n",
        "```"
      ]
    },
    {
      "cell_type": "code",
      "metadata": {
        "id": "KCN4M4SORBCZ",
        "colab_type": "code",
        "colab": {
          "base_uri": "https://localhost:8080/",
          "height": 34
        },
        "outputId": "f592ec24-97fd-4028-8f14-ab7305363ad5"
      },
      "source": [
        "# T-Test Code Here\n",
        "\n",
        "stats.ttest_ind(df_male['pacific rim'], df_female['pacific rim'])"
      ],
      "execution_count": 39,
      "outputs": [
        {
          "output_type": "execute_result",
          "data": {
            "text/plain": [
              "Ttest_indResult(statistic=9.449111825230684, pvalue=1.2936944097439082e-05)"
            ]
          },
          "metadata": {
            "tags": []
          },
          "execution_count": 39
        }
      ]
    },
    {
      "cell_type": "markdown",
      "metadata": {
        "id": "hn-JhlRxRXQK",
        "colab_type": "text"
      },
      "source": [
        "# Confidence Interval"
      ]
    },
    {
      "cell_type": "markdown",
      "metadata": {
        "id": "zVKjVPipS9Ko",
        "colab_type": "text"
      },
      "source": [
        "Answer the following question as though you are explaining it to a non-technical person. *Double click the text to edit the markdown cells.*\n",
        "<br/><br/>\n",
        "\n",
        "1. What is a confidence interval?\n",
        "\n",
        "  ` How confident you are in your answer. So 99% confidence interval means that you are 99% confident that your range will contain the true population mean/average `"
      ]
    },
    {
      "cell_type": "code",
      "metadata": {
        "id": "F2MPWlTMoHPo",
        "colab_type": "code",
        "colab": {}
      },
      "source": [
        "def confidence_interval(sample, confidence_level=.95):\n",
        "  # make sure we're working with a numpy array\n",
        "  sample = np.array(sample)\n",
        "  # sample mean\n",
        "  x_bar = np.mean(sample)\n",
        "  # SAMPLE standard deviation EXTRA PARAMETER!\n",
        "  # numpy default give population standard devation (ddof=1) helps with this\n",
        "  s = np.std(sample, ddof=1)\n",
        "  # sample size\n",
        "  n = len(sample)\n",
        "  # t-statistic for our confidence level %\n",
        "  # numpy by default gives only 1 tailed t-stat -\n",
        "  # need 1- added to (1-confid_lvl/2, n-1)\n",
        "  t = stats.t.ppf((1+confidence_level)/2, n-1)\n",
        "\n",
        "  std_err = s / np.sqrt(n)\n",
        "\n",
        "  moe = t * std_err\n",
        "\n",
        "  lower_bound = x_bar - moe\n",
        "  upper_bound = x_bar + moe\n",
        "\n",
        "  return (lower_bound, x_bar, upper_bound, moe)"
      ],
      "execution_count": 40,
      "outputs": []
    },
    {
      "cell_type": "code",
      "metadata": {
        "id": "OII221Din0Lr",
        "colab_type": "code",
        "colab": {
          "base_uri": "https://localhost:8080/",
          "height": 34
        },
        "outputId": "4da813ef-7c89-4f2b-9412-d49f740fa6fa"
      },
      "source": [
        "CI1 = confidence_interval(df['jurassic park'], confidence_level=.95)\n",
        "\n",
        "CI1"
      ],
      "execution_count": 41,
      "outputs": [
        {
          "output_type": "execute_result",
          "data": {
            "text/plain": [
              "(9.122973806209835, 9.5, 9.877026193790165, 0.3770261937901652)"
            ]
          },
          "metadata": {
            "tags": []
          },
          "execution_count": 41
        }
      ]
    },
    {
      "cell_type": "code",
      "metadata": {
        "id": "qBpSL36Eo8X5",
        "colab_type": "code",
        "colab": {
          "base_uri": "https://localhost:8080/",
          "height": 34
        },
        "outputId": "3f22f4d6-af2a-4a14-dc77-3683e6175d88"
      },
      "source": [
        "CI2 = confidence_interval(df['love actually'], confidence_level=.95)\n",
        "\n",
        "CI2"
      ],
      "execution_count": 42,
      "outputs": [
        {
          "output_type": "execute_result",
          "data": {
            "text/plain": [
              "(6.459567155669003, 7.8, 9.140432844330997, 1.3404328443309967)"
            ]
          },
          "metadata": {
            "tags": []
          },
          "execution_count": 42
        }
      ]
    },
    {
      "cell_type": "code",
      "metadata": {
        "id": "IVlOzQ_rpACH",
        "colab_type": "code",
        "colab": {
          "base_uri": "https://localhost:8080/",
          "height": 34
        },
        "outputId": "6c878ed5-8bd3-42b3-ceeb-cbdc476dc080"
      },
      "source": [
        "CI3 = confidence_interval(df['pacific rim'], confidence_level=.95)\n",
        "\n",
        "CI3"
      ],
      "execution_count": 43,
      "outputs": [
        {
          "output_type": "execute_result",
          "data": {
            "text/plain": [
              "(4.332226646206882, 6.3, 8.267773353793118, 1.9677733537931181)"
            ]
          },
          "metadata": {
            "tags": []
          },
          "execution_count": 43
        }
      ]
    },
    {
      "cell_type": "markdown",
      "metadata": {
        "id": "Ozcajm5PXPLc",
        "colab_type": "text"
      },
      "source": [
        "Using the movie rating data, graph the ratings with a confidence interval. After graphing the ratings with the confidence interval, write a brief explanation of how to interpret the graph.\n",
        "\n",
        "```\n",
        "Pacific Rim is the most polarizing movie, while there is consensus around Jurassic Park.\n",
        "```"
      ]
    },
    {
      "cell_type": "code",
      "metadata": {
        "id": "_TOCQ86Ip3kO",
        "colab_type": "code",
        "colab": {
          "base_uri": "https://localhost:8080/",
          "height": 265
        },
        "outputId": "3d8a79c7-0ee6-4788-e269-6b9736641f5d"
      },
      "source": [
        "import matplotlib.pyplot as plt\n",
        "\n",
        "plt.errorbar(x=CI1[1], y=0, xerr=CI1[3], fmt='o')\n",
        "plt.errorbar(x=CI2[1], y=1, xerr=CI2[3], fmt='o')\n",
        "plt.errorbar(x=CI3[1], y=2, xerr=CI3[3], fmt='o')\n",
        "\n",
        "\n",
        "plt.show()"
      ],
      "execution_count": 45,
      "outputs": [
        {
          "output_type": "display_data",
          "data": {
            "image/png": "[encoded data removed]",
            "text/plain": [
              "<Figure size 432x288 with 1 Axes>"
            ]
          },
          "metadata": {
            "tags": [],
            "needs_background": "light"
          }
        }
      ]
    },
    {
      "cell_type": "markdown",
      "metadata": {
        "id": "2kdB0Bcxaw3h",
        "colab_type": "text"
      },
      "source": [
        "# Chi Squared"
      ]
    },
    {
      "cell_type": "markdown",
      "metadata": {
        "id": "DOmy8rAhbnXj",
        "colab_type": "text"
      },
      "source": [
        "Answer the following questions as though you are explaining it to a non-technical person. *Double click the text to edit the markdown cells.*\n",
        "<br/><br/>\n",
        "\n",
        "1. What is a Chi Squared Test? What is it used for?\n",
        "\n",
        "  ` Chi^2 test is one that is used to test whether two categorical variables are related or independent. It is used to confirm if one variable is dependent on another. `\n",
        "\n",
        "2. What type of data is it used on?\n",
        "\n",
        "  ` Categorical variables - so ones that are of a limited, and usually fixed, number of possible values. A good example is hair color.`\n",
        "\n",
        "3. What is a contingency table?\n",
        "\n",
        "  ` A table that summarizes the relationship between several categorical variables in terms of frequency counts `\n",
        "\n",
        "4. Define Degrees of Freedom\n",
        "\n",
        "  ` The maximum number of logically independent values, or the \"freedom\" to vary, in a data sample `"
      ]
    },
    {
      "cell_type": "markdown",
      "metadata": {
        "id": "J8VTCMJBiSu_",
        "colab_type": "text"
      },
      "source": [
        "Use the `grades` dataframe below to complete the following:\n",
        "- Create at least 2 contingency tables\n",
        "- Use chi-squared tests to find 2 features that are independent of each other.\n",
        " - Write a brief interpretation of the results\n",
        "- Use chi-squared tests to find 2 features that are dependent to each other.\n",
        " - Write a brief interpretation of the results"
      ]
    },
    {
      "cell_type": "code",
      "metadata": {
        "id": "Xm4saRNNbGQd",
        "colab_type": "code",
        "colab": {}
      },
      "source": [
        "grades = pd.DataFrame({'good_standing':[True, True, False, False, False, True, True, False, True, True],\n",
        "                       'grade_1':['A', 'B', 'A', 'C', 'A', 'A', 'D', 'A', 'B', 'B'],\n",
        "                       'grade_2':['Pass', 'Pass', 'Fail', 'Fail', 'Fail','Pass', 'Pass', 'Fail', 'Pass', 'Fail'],\n",
        "                       'grade_3':[10, 5, 6, 10, 9, 9, 8, 7, 3, 9]})\n",
        "grades.head()"
      ],
      "execution_count": null,
      "outputs": []
    },
    {
      "cell_type": "code",
      "metadata": {
        "id": "mwcJfWhzh6gJ",
        "colab_type": "code",
        "colab": {}
      },
      "source": [
        "# Contingency Table 1\n",
        "\n",
        "ct1 = pd.crosstab(grades['grade_1'], grades['grade_2'])\n",
        "\n",
        "ct1"
      ],
      "execution_count": null,
      "outputs": []
    },
    {
      "cell_type": "code",
      "metadata": {
        "id": "q5AEI6Lgkcfm",
        "colab_type": "code",
        "colab": {}
      },
      "source": [
        "# Contingency Table 2\n",
        "\n",
        "ct2 = pd.crosstab(grades['grade_2'], grades['grade_3'])\n",
        "\n",
        "ct2"
      ],
      "execution_count": null,
      "outputs": []
    },
    {
      "cell_type": "code",
      "metadata": {
        "id": "JuK6pVIkkel1",
        "colab_type": "code",
        "colab": {}
      },
      "source": [
        "# Chi Squared, independent features\n",
        "\n",
        "from scipy.stats import chi2_contingency\n",
        "\n",
        "g, p1, dof, expected = chi2_contingency(ct1)\n",
        "\n",
        "p1"
      ],
      "execution_count": null,
      "outputs": []
    },
    {
      "cell_type": "code",
      "metadata": {
        "id": "ZsZrdkOHki-B",
        "colab_type": "code",
        "colab": {}
      },
      "source": [
        "# Chi Squared, dependent features\n",
        "\n",
        "g, p2, dof, expected = chi2_contingency(pd.crosstab(grades['good_standing'], grades['grade_2']))\n",
        "\n",
        "p2"
      ],
      "execution_count": null,
      "outputs": []
    },
    {
      "cell_type": "markdown",
      "metadata": {
        "id": "KoIuWNHTbVzC",
        "colab_type": "text"
      },
      "source": [
        "At a 90% confidence level, good standing is related to grade 2, since the p value is 0.05, so it's likely that the grade a student receives for grade 2 is related to whether or not they are in good standing.\n",
        "\n",
        "Grades on 1 and 2 are not related to each other, since the p value is .47. So they are not dependent on each other."
      ]
    },
    {
      "cell_type": "markdown",
      "metadata": {
        "id": "5g6IXrsppE_j",
        "colab_type": "text"
      },
      "source": [
        "# Bayesian Statisics"
      ]
    },
    {
      "cell_type": "markdown",
      "metadata": {
        "id": "MjPRgVbxp_eN",
        "colab_type": "text"
      },
      "source": [
        "Answer the following questions as though you are explaining it to a non-technical person. *Double click the text to edit the markdown cells.*\n",
        "<br/><br/>\n",
        "\n",
        "1. What is the difference between Bayesian and Frequentist Statistics?\n",
        "\n",
        "  ` Bayesian statistics starts from what has been observed and assesses possible future outcomes. Frequentist statistics starts with an abstract experiment of what would be observed if one assumes something, and only then compares the outcomes of the abstract experiment with what was actually observed `\n",
        "\n",
        "2. What is a prior belief? How is it used in Bayesian Statistics?\n",
        "\n",
        "  ` Prior beliefs are the start of Bayesian statistics, so the belief that something might happen based on prior knowledge or results. They are then updated using data to give 'posterior' beliefs, which may be used as the basis for inferential decisions. `\n",
        "\n",
        "3. What is the law of total probability?\n",
        "\n",
        "  ` It expresses the total probability of an outcome which can be realized via several distinct events `\n",
        "\n",
        "4. What is the law of conditional probability?\n",
        "\n",
        "  ` A measure of the probability of an event occurring given that another event has occurred `\n",
        "\n",
        "5. Give an example of when you might use bayesian statistics. Do not use an example given during the lecture or assignment.\n",
        "\n",
        "  ` Finding true positive COVID-19 players in the NBA bubble. `"
      ]
    },
    {
      "cell_type": "markdown",
      "metadata": {
        "id": "8N39IjRS7Jix",
        "colab_type": "text"
      },
      "source": [
        "# Graphing"
      ]
    },
    {
      "cell_type": "markdown",
      "metadata": {
        "id": "r3GRbrZI7NIP",
        "colab_type": "text"
      },
      "source": [
        "Use any of the dataframes above and make two additional visualizations to explore the data. Make sure to include axis labels and title for each graph."
      ]
    },
    {
      "cell_type": "code",
      "metadata": {
        "id": "ywKWLarY7khK",
        "colab_type": "code",
        "colab": {}
      },
      "source": [
        "grades.plot.scatter('grade_1', 'grade_3', c='red');"
      ],
      "execution_count": null,
      "outputs": []
    },
    {
      "cell_type": "code",
      "metadata": {
        "id": "TYVX3IYZ7kmO",
        "colab_type": "code",
        "colab": {}
      },
      "source": [
        "ax = pd.crosstab(df['gender'], df['jurassic park']).plot(kind='bar', title = \"Jurassic Park Ratings: Females vs. Males\");\n",
        "ax.set_ylabel(\"Count of Ratings\");"
      ],
      "execution_count": null,
      "outputs": []
    }
  ]
}