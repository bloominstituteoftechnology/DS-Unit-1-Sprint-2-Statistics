{
  "nbformat": 4,
  "nbformat_minor": 0,
  "metadata": {
    "kernelspec": {
      "display_name": "Python 3",
      "language": "python",
      "name": "python3"
    },
    "language_info": {
      "codemirror_mode": {
        "name": "ipython",
        "version": 3
      },
      "file_extension": ".py",
      "mimetype": "text/x-python",
      "name": "python",
      "nbconvert_exporter": "python",
      "pygments_lexer": "ipython3",
      "version": "3.7.3"
    },
    "colab": {
      "name": "bayes2_starter.ipynb",
      "provenance": [],
      "collapsed_sections": [
        "64euhRKvb3cX"
      ],
      "include_colab_link": true
    }
  },
  "cells": [
    {
      "cell_type": "markdown",
      "metadata": {
        "id": "view-in-github",
        "colab_type": "text"
      },
      "source": [
        "<a href=\"https://colab.research.google.com/github/Joseph-Maulin/DS-Unit-1-Sprint-2-Statistics/blob/master/bayes2_starter.ipynb\" target=\"_parent\"><img src=\"https://colab.research.google.com/assets/colab-badge.svg\" alt=\"Open In Colab\"/></a>"
      ]
    },
    {
      "cell_type": "markdown",
      "metadata": {
        "id": "Cd9qL4BIb3am",
        "colab_type": "text"
      },
      "source": [
        "## Example of a classifier"
      ]
    },
    {
      "cell_type": "code",
      "metadata": {
        "id": "ijU7zw1Rb3ao",
        "colab_type": "code",
        "colab": {}
      },
      "source": [
        "# EDA and data handling\n",
        "import numpy as np\n",
        "import pandas as pd\n",
        "\n",
        "# Modeling\n",
        "from sklearn.model_selection import train_test_split\n",
        "from sklearn.ensemble import RandomForestClassifier\n",
        "from sklearn import metrics"
      ],
      "execution_count": 0,
      "outputs": []
    },
    {
      "cell_type": "code",
      "metadata": {
        "id": "iDGjAz4Rb3ar",
        "colab_type": "code",
        "colab": {
          "base_uri": "https://localhost:8080/",
          "height": 204
        },
        "outputId": "33cd7e4d-f043-4704-e0d2-92225f17f5ac"
      },
      "source": [
        "# read in the data\n",
        "housing = pd.read_csv('/content/sample_data/california_housing_train.csv')\n",
        "\n",
        "housing = housing.sample(500)\n",
        "housing.head()"
      ],
      "execution_count": 4,
      "outputs": [
        {
          "output_type": "execute_result",
          "data": {
            "text/html": [
              "<div>\n",
              "<style scoped>\n",
              "    .dataframe tbody tr th:only-of-type {\n",
              "        vertical-align: middle;\n",
              "    }\n",
              "\n",
              "    .dataframe tbody tr th {\n",
              "        vertical-align: top;\n",
              "    }\n",
              "\n",
              "    .dataframe thead th {\n",
              "        text-align: right;\n",
              "    }\n",
              "</style>\n",
              "<table border=\"1\" class=\"dataframe\">\n",
              "  <thead>\n",
              "    <tr style=\"text-align: right;\">\n",
              "      <th></th>\n",
              "      <th>longitude</th>\n",
              "      <th>latitude</th>\n",
              "      <th>housing_median_age</th>\n",
              "      <th>total_rooms</th>\n",
              "      <th>total_bedrooms</th>\n",
              "      <th>population</th>\n",
              "      <th>households</th>\n",
              "      <th>median_income</th>\n",
              "      <th>median_house_value</th>\n",
              "    </tr>\n",
              "  </thead>\n",
              "  <tbody>\n",
              "    <tr>\n",
              "      <th>1460</th>\n",
              "      <td>-117.19</td>\n",
              "      <td>32.81</td>\n",
              "      <td>33.0</td>\n",
              "      <td>5226.0</td>\n",
              "      <td>833.0</td>\n",
              "      <td>2221.0</td>\n",
              "      <td>839.0</td>\n",
              "      <td>5.1491</td>\n",
              "      <td>207000.0</td>\n",
              "    </tr>\n",
              "    <tr>\n",
              "      <th>13013</th>\n",
              "      <td>-121.86</td>\n",
              "      <td>37.70</td>\n",
              "      <td>13.0</td>\n",
              "      <td>9621.0</td>\n",
              "      <td>1344.0</td>\n",
              "      <td>4389.0</td>\n",
              "      <td>1391.0</td>\n",
              "      <td>6.6827</td>\n",
              "      <td>313700.0</td>\n",
              "    </tr>\n",
              "    <tr>\n",
              "      <th>4911</th>\n",
              "      <td>-118.10</td>\n",
              "      <td>33.90</td>\n",
              "      <td>37.0</td>\n",
              "      <td>796.0</td>\n",
              "      <td>175.0</td>\n",
              "      <td>740.0</td>\n",
              "      <td>183.0</td>\n",
              "      <td>3.6000</td>\n",
              "      <td>156400.0</td>\n",
              "    </tr>\n",
              "    <tr>\n",
              "      <th>7710</th>\n",
              "      <td>-118.38</td>\n",
              "      <td>34.10</td>\n",
              "      <td>39.0</td>\n",
              "      <td>3798.0</td>\n",
              "      <td>586.0</td>\n",
              "      <td>975.0</td>\n",
              "      <td>525.0</td>\n",
              "      <td>9.3092</td>\n",
              "      <td>500001.0</td>\n",
              "    </tr>\n",
              "    <tr>\n",
              "      <th>6190</th>\n",
              "      <td>-118.24</td>\n",
              "      <td>34.06</td>\n",
              "      <td>33.0</td>\n",
              "      <td>390.0</td>\n",
              "      <td>199.0</td>\n",
              "      <td>435.0</td>\n",
              "      <td>193.0</td>\n",
              "      <td>1.1979</td>\n",
              "      <td>350000.0</td>\n",
              "    </tr>\n",
              "  </tbody>\n",
              "</table>\n",
              "</div>"
            ],
            "text/plain": [
              "       longitude  latitude  ...  median_income  median_house_value\n",
              "1460     -117.19     32.81  ...         5.1491            207000.0\n",
              "13013    -121.86     37.70  ...         6.6827            313700.0\n",
              "4911     -118.10     33.90  ...         3.6000            156400.0\n",
              "7710     -118.38     34.10  ...         9.3092            500001.0\n",
              "6190     -118.24     34.06  ...         1.1979            350000.0\n",
              "\n",
              "[5 rows x 9 columns]"
            ]
          },
          "metadata": {
            "tags": []
          },
          "execution_count": 4
        }
      ]
    },
    {
      "cell_type": "code",
      "metadata": {
        "id": "sTV_MN8ab3au",
        "colab_type": "code",
        "colab": {}
      },
      "source": [
        "# reduce the size of the dataset\n"
      ],
      "execution_count": 0,
      "outputs": []
    },
    {
      "cell_type": "code",
      "metadata": {
        "id": "6RX76eazb3aw",
        "colab_type": "code",
        "colab": {}
      },
      "source": [
        "# show the data \n"
      ],
      "execution_count": 0,
      "outputs": []
    },
    {
      "cell_type": "code",
      "metadata": {
        "id": "UP1Xv7lDb3az",
        "colab_type": "code",
        "colab": {
          "base_uri": "https://localhost:8080/",
          "height": 221
        },
        "outputId": "21ff3fe7-6741-4526-a3ac-a3d8d238541b"
      },
      "source": [
        "# Describe the target \n",
        "housing['median_house_value'].describe"
      ],
      "execution_count": 7,
      "outputs": [
        {
          "output_type": "execute_result",
          "data": {
            "text/plain": [
              "<bound method NDFrame.describe of 1460     207000.0\n",
              "13013    313700.0\n",
              "4911     156400.0\n",
              "7710     500001.0\n",
              "6190     350000.0\n",
              "           ...   \n",
              "7013     242300.0\n",
              "10442    115600.0\n",
              "276      193800.0\n",
              "1865     100400.0\n",
              "8330     145400.0\n",
              "Name: median_house_value, Length: 500, dtype: float64>"
            ]
          },
          "metadata": {
            "tags": []
          },
          "execution_count": 7
        }
      ]
    },
    {
      "cell_type": "code",
      "metadata": {
        "id": "jNBiilpMb3a2",
        "colab_type": "code",
        "colab": {
          "base_uri": "https://localhost:8080/",
          "height": 68
        },
        "outputId": "6832a9bf-c7e6-401c-baef-172a5505d4e4"
      },
      "source": [
        "# create the target \n",
        "housing['high_price'] = np.where(housing['median_house_value']>=185900, 1, 0)\n",
        "housing['high_price'].value_counts()"
      ],
      "execution_count": 8,
      "outputs": [
        {
          "output_type": "execute_result",
          "data": {
            "text/plain": [
              "1    254\n",
              "0    246\n",
              "Name: high_price, dtype: int64"
            ]
          },
          "metadata": {
            "tags": []
          },
          "execution_count": 8
        }
      ]
    },
    {
      "cell_type": "code",
      "metadata": {
        "id": "nzUtl6XDb3a6",
        "colab_type": "code",
        "colab": {
          "base_uri": "https://localhost:8080/",
          "height": 419
        },
        "outputId": "5359870b-7587-4fb7-b9d4-f36b72aecd3d"
      },
      "source": [
        "# establish the predictors and the target\n",
        "X = housing.drop(['high_price', 'median_house_value'], axis=1)\n",
        "X"
      ],
      "execution_count": 9,
      "outputs": [
        {
          "output_type": "execute_result",
          "data": {
            "text/html": [
              "<div>\n",
              "<style scoped>\n",
              "    .dataframe tbody tr th:only-of-type {\n",
              "        vertical-align: middle;\n",
              "    }\n",
              "\n",
              "    .dataframe tbody tr th {\n",
              "        vertical-align: top;\n",
              "    }\n",
              "\n",
              "    .dataframe thead th {\n",
              "        text-align: right;\n",
              "    }\n",
              "</style>\n",
              "<table border=\"1\" class=\"dataframe\">\n",
              "  <thead>\n",
              "    <tr style=\"text-align: right;\">\n",
              "      <th></th>\n",
              "      <th>longitude</th>\n",
              "      <th>latitude</th>\n",
              "      <th>housing_median_age</th>\n",
              "      <th>total_rooms</th>\n",
              "      <th>total_bedrooms</th>\n",
              "      <th>population</th>\n",
              "      <th>households</th>\n",
              "      <th>median_income</th>\n",
              "    </tr>\n",
              "  </thead>\n",
              "  <tbody>\n",
              "    <tr>\n",
              "      <th>1460</th>\n",
              "      <td>-117.19</td>\n",
              "      <td>32.81</td>\n",
              "      <td>33.0</td>\n",
              "      <td>5226.0</td>\n",
              "      <td>833.0</td>\n",
              "      <td>2221.0</td>\n",
              "      <td>839.0</td>\n",
              "      <td>5.1491</td>\n",
              "    </tr>\n",
              "    <tr>\n",
              "      <th>13013</th>\n",
              "      <td>-121.86</td>\n",
              "      <td>37.70</td>\n",
              "      <td>13.0</td>\n",
              "      <td>9621.0</td>\n",
              "      <td>1344.0</td>\n",
              "      <td>4389.0</td>\n",
              "      <td>1391.0</td>\n",
              "      <td>6.6827</td>\n",
              "    </tr>\n",
              "    <tr>\n",
              "      <th>4911</th>\n",
              "      <td>-118.10</td>\n",
              "      <td>33.90</td>\n",
              "      <td>37.0</td>\n",
              "      <td>796.0</td>\n",
              "      <td>175.0</td>\n",
              "      <td>740.0</td>\n",
              "      <td>183.0</td>\n",
              "      <td>3.6000</td>\n",
              "    </tr>\n",
              "    <tr>\n",
              "      <th>7710</th>\n",
              "      <td>-118.38</td>\n",
              "      <td>34.10</td>\n",
              "      <td>39.0</td>\n",
              "      <td>3798.0</td>\n",
              "      <td>586.0</td>\n",
              "      <td>975.0</td>\n",
              "      <td>525.0</td>\n",
              "      <td>9.3092</td>\n",
              "    </tr>\n",
              "    <tr>\n",
              "      <th>6190</th>\n",
              "      <td>-118.24</td>\n",
              "      <td>34.06</td>\n",
              "      <td>33.0</td>\n",
              "      <td>390.0</td>\n",
              "      <td>199.0</td>\n",
              "      <td>435.0</td>\n",
              "      <td>193.0</td>\n",
              "      <td>1.1979</td>\n",
              "    </tr>\n",
              "    <tr>\n",
              "      <th>...</th>\n",
              "      <td>...</td>\n",
              "      <td>...</td>\n",
              "      <td>...</td>\n",
              "      <td>...</td>\n",
              "      <td>...</td>\n",
              "      <td>...</td>\n",
              "      <td>...</td>\n",
              "      <td>...</td>\n",
              "    </tr>\n",
              "    <tr>\n",
              "      <th>7013</th>\n",
              "      <td>-118.31</td>\n",
              "      <td>33.88</td>\n",
              "      <td>32.0</td>\n",
              "      <td>2421.0</td>\n",
              "      <td>671.0</td>\n",
              "      <td>1491.0</td>\n",
              "      <td>587.0</td>\n",
              "      <td>3.5644</td>\n",
              "    </tr>\n",
              "    <tr>\n",
              "      <th>10442</th>\n",
              "      <td>-120.32</td>\n",
              "      <td>38.71</td>\n",
              "      <td>13.0</td>\n",
              "      <td>1115.0</td>\n",
              "      <td>255.0</td>\n",
              "      <td>86.0</td>\n",
              "      <td>32.0</td>\n",
              "      <td>3.5667</td>\n",
              "    </tr>\n",
              "    <tr>\n",
              "      <th>276</th>\n",
              "      <td>-116.67</td>\n",
              "      <td>32.97</td>\n",
              "      <td>16.0</td>\n",
              "      <td>349.0</td>\n",
              "      <td>74.0</td>\n",
              "      <td>120.0</td>\n",
              "      <td>43.0</td>\n",
              "      <td>5.3590</td>\n",
              "    </tr>\n",
              "    <tr>\n",
              "      <th>1865</th>\n",
              "      <td>-117.28</td>\n",
              "      <td>34.51</td>\n",
              "      <td>10.0</td>\n",
              "      <td>4676.0</td>\n",
              "      <td>884.0</td>\n",
              "      <td>2845.0</td>\n",
              "      <td>812.0</td>\n",
              "      <td>3.0181</td>\n",
              "    </tr>\n",
              "    <tr>\n",
              "      <th>8330</th>\n",
              "      <td>-118.46</td>\n",
              "      <td>34.23</td>\n",
              "      <td>19.0</td>\n",
              "      <td>9902.0</td>\n",
              "      <td>2814.0</td>\n",
              "      <td>7307.0</td>\n",
              "      <td>2660.0</td>\n",
              "      <td>2.5850</td>\n",
              "    </tr>\n",
              "  </tbody>\n",
              "</table>\n",
              "<p>500 rows × 8 columns</p>\n",
              "</div>"
            ],
            "text/plain": [
              "       longitude  latitude  ...  households  median_income\n",
              "1460     -117.19     32.81  ...       839.0         5.1491\n",
              "13013    -121.86     37.70  ...      1391.0         6.6827\n",
              "4911     -118.10     33.90  ...       183.0         3.6000\n",
              "7710     -118.38     34.10  ...       525.0         9.3092\n",
              "6190     -118.24     34.06  ...       193.0         1.1979\n",
              "...          ...       ...  ...         ...            ...\n",
              "7013     -118.31     33.88  ...       587.0         3.5644\n",
              "10442    -120.32     38.71  ...        32.0         3.5667\n",
              "276      -116.67     32.97  ...        43.0         5.3590\n",
              "1865     -117.28     34.51  ...       812.0         3.0181\n",
              "8330     -118.46     34.23  ...      2660.0         2.5850\n",
              "\n",
              "[500 rows x 8 columns]"
            ]
          },
          "metadata": {
            "tags": []
          },
          "execution_count": 9
        }
      ]
    },
    {
      "cell_type": "code",
      "metadata": {
        "id": "2eN7WcUHjHWp",
        "colab_type": "code",
        "colab": {}
      },
      "source": [
        "y = housing['high_price']"
      ],
      "execution_count": 0,
      "outputs": []
    },
    {
      "cell_type": "code",
      "metadata": {
        "id": "lc76hMo0b3a9",
        "colab_type": "code",
        "colab": {}
      },
      "source": [
        "# train-test split\n",
        "X_train, X_test, y_train, y_test = train_test_split(X, y, test_size=0.3)"
      ],
      "execution_count": 0,
      "outputs": []
    },
    {
      "cell_type": "code",
      "metadata": {
        "id": "2FQlk3VAjT8_",
        "colab_type": "code",
        "colab": {
          "base_uri": "https://localhost:8080/",
          "height": 34
        },
        "outputId": "01dc9d71-0218-4152-ee51-32b5f00fd493"
      },
      "source": [
        "len(y_test)"
      ],
      "execution_count": 12,
      "outputs": [
        {
          "output_type": "execute_result",
          "data": {
            "text/plain": [
              "150"
            ]
          },
          "metadata": {
            "tags": []
          },
          "execution_count": 12
        }
      ]
    },
    {
      "cell_type": "code",
      "metadata": {
        "id": "TV09lm1zb3a_",
        "colab_type": "code",
        "colab": {}
      },
      "source": [
        "# instantiate the classifier\n",
        "mymodel = RandomForestClassifier()"
      ],
      "execution_count": 0,
      "outputs": []
    },
    {
      "cell_type": "code",
      "metadata": {
        "id": "3wXz30oxb3bD",
        "colab_type": "code",
        "colab": {
          "base_uri": "https://localhost:8080/",
          "height": 153
        },
        "outputId": "120201aa-dbc9-4caa-f0e6-9c5db362ffd6"
      },
      "source": [
        "# fit on the training data\n",
        "mymodel.fit(X_train, y_train)"
      ],
      "execution_count": 14,
      "outputs": [
        {
          "output_type": "execute_result",
          "data": {
            "text/plain": [
              "RandomForestClassifier(bootstrap=True, ccp_alpha=0.0, class_weight=None,\n",
              "                       criterion='gini', max_depth=None, max_features='auto',\n",
              "                       max_leaf_nodes=None, max_samples=None,\n",
              "                       min_impurity_decrease=0.0, min_impurity_split=None,\n",
              "                       min_samples_leaf=1, min_samples_split=2,\n",
              "                       min_weight_fraction_leaf=0.0, n_estimators=100,\n",
              "                       n_jobs=None, oob_score=False, random_state=None,\n",
              "                       verbose=0, warm_start=False)"
            ]
          },
          "metadata": {
            "tags": []
          },
          "execution_count": 14
        }
      ]
    },
    {
      "cell_type": "code",
      "metadata": {
        "id": "FaGs-CYLb3bH",
        "colab_type": "code",
        "colab": {}
      },
      "source": [
        "# predict on the testing data\n",
        "y_preds = mymodel.predict(X_test)"
      ],
      "execution_count": 0,
      "outputs": []
    },
    {
      "cell_type": "code",
      "metadata": {
        "id": "yCTdQmSsb3bK",
        "colab_type": "code",
        "colab": {
          "base_uri": "https://localhost:8080/",
          "height": 51
        },
        "outputId": "57b8fe07-8d86-46d6-fc31-3be93dae6e1e"
      },
      "source": [
        "# check out the first few neighborhoods\n",
        "print(y_test.values[:10], 'true values')\n",
        "print(y_preds[:10], 'predicted values')\n"
      ],
      "execution_count": 17,
      "outputs": [
        {
          "output_type": "stream",
          "text": [
            "[1 1 0 0 0 1 0 1 1 1] true values\n",
            "[0 0 1 0 0 1 0 1 1 1] predicted values\n"
          ],
          "name": "stdout"
        }
      ]
    },
    {
      "cell_type": "code",
      "metadata": {
        "id": "7Z9HA8U9b3bN",
        "colab_type": "code",
        "colab": {
          "base_uri": "https://localhost:8080/",
          "height": 34
        },
        "outputId": "8ea4a0fa-ea0f-4bcc-f6af-8255d427b85a"
      },
      "source": [
        "# evaluate the model performance\n",
        "metrics.accuracy_score(y_test, y_preds)"
      ],
      "execution_count": 19,
      "outputs": [
        {
          "output_type": "execute_result",
          "data": {
            "text/plain": [
              "0.7466666666666667"
            ]
          },
          "metadata": {
            "tags": []
          },
          "execution_count": 19
        }
      ]
    },
    {
      "cell_type": "markdown",
      "metadata": {
        "id": "In6s9sNlb3bR",
        "colab_type": "text"
      },
      "source": [
        "## Confusion Matrix"
      ]
    },
    {
      "cell_type": "code",
      "metadata": {
        "id": "RLTQ4hsnb3bR",
        "colab_type": "code",
        "colab": {}
      },
      "source": [
        "# examine the confusion matrix\n",
        "m = metrics.confusion_matrix(y_test, y_preds)"
      ],
      "execution_count": 0,
      "outputs": []
    },
    {
      "cell_type": "code",
      "metadata": {
        "id": "ZS6VJVMrlaQy",
        "colab_type": "code",
        "colab": {
          "base_uri": "https://localhost:8080/",
          "height": 111
        },
        "outputId": "d7b2770a-7bba-4912-a121-c7898cbc8d7e"
      },
      "source": [
        "cm = pd.DataFrame(m, columns=['pred_0', 'pred_1'])\n",
        "cm"
      ],
      "execution_count": 24,
      "outputs": [
        {
          "output_type": "execute_result",
          "data": {
            "text/html": [
              "<div>\n",
              "<style scoped>\n",
              "    .dataframe tbody tr th:only-of-type {\n",
              "        vertical-align: middle;\n",
              "    }\n",
              "\n",
              "    .dataframe tbody tr th {\n",
              "        vertical-align: top;\n",
              "    }\n",
              "\n",
              "    .dataframe thead th {\n",
              "        text-align: right;\n",
              "    }\n",
              "</style>\n",
              "<table border=\"1\" class=\"dataframe\">\n",
              "  <thead>\n",
              "    <tr style=\"text-align: right;\">\n",
              "      <th></th>\n",
              "      <th>pred_0</th>\n",
              "      <th>pred_1</th>\n",
              "    </tr>\n",
              "  </thead>\n",
              "  <tbody>\n",
              "    <tr>\n",
              "      <th>0</th>\n",
              "      <td>57</td>\n",
              "      <td>14</td>\n",
              "    </tr>\n",
              "    <tr>\n",
              "      <th>1</th>\n",
              "      <td>24</td>\n",
              "      <td>55</td>\n",
              "    </tr>\n",
              "  </tbody>\n",
              "</table>\n",
              "</div>"
            ],
            "text/plain": [
              "   pred_0  pred_1\n",
              "0      57      14\n",
              "1      24      55"
            ]
          },
          "metadata": {
            "tags": []
          },
          "execution_count": 24
        }
      ]
    },
    {
      "cell_type": "markdown",
      "metadata": {
        "id": "LJIeiY5ub3bV",
        "colab_type": "text"
      },
      "source": [
        "* 55 true positives (TP): These are cases in which we predicted yes (pricey house), and it is indeed a pricey house.\n",
        "* 57 true negatives (TN): We predicted no (cheap house), and the house is indeed cheap.\n",
        "* 14 false positives (FP): We predicted yes (pricey house), but the house isn't pricey. (Also known as a \"Type I error.\")\n",
        "* 24 false negatives (FN): We predicted no (cheap house), but the house is actually pricey. (Also known as a \"Type II error.\")"
      ]
    },
    {
      "cell_type": "code",
      "metadata": {
        "id": "Z5P76Tznb3bX",
        "colab_type": "code",
        "colab": {}
      },
      "source": [
        "# get the numbers\n",
        "TN = cm['pred_0'].values[0]\n",
        "FN = cm['pred_0'].values[1]\n",
        "FP = cm['pred_1'].values[0]\n",
        "TP = cm['pred_1'].values[1]\n",
        "ALL = cm.values.sum()"
      ],
      "execution_count": 0,
      "outputs": []
    },
    {
      "cell_type": "code",
      "metadata": {
        "id": "uRZT0pJCb3bb",
        "colab_type": "code",
        "outputId": "87eabec6-76d3-45da-e0e0-d15bc0b2a2a2",
        "colab": {
          "base_uri": "https://localhost:8080/",
          "height": 102
        }
      },
      "source": [
        "print('True Negatives:', TN)\n",
        "print('False Negatives:', FN)\n",
        "print('False Positives:', FP)\n",
        "print('True Positives:', TP)\n",
        "print('All:', ALL)"
      ],
      "execution_count": 36,
      "outputs": [
        {
          "output_type": "stream",
          "text": [
            "True Negatives: 57\n",
            "False Negatives: 24\n",
            "False Positives: 14\n",
            "True Positives: 55\n",
            "All: 150\n"
          ],
          "name": "stdout"
        }
      ]
    },
    {
      "cell_type": "markdown",
      "metadata": {
        "id": "_UqzNhXXb3be",
        "colab_type": "text"
      },
      "source": [
        "**Accuracy:**  \n",
        "Overall, how often is it correct?"
      ]
    },
    {
      "cell_type": "code",
      "metadata": {
        "id": "qF-83tc3b3be",
        "colab_type": "code",
        "outputId": "8eb0d6d0-87d2-4c8b-e701-cd656ee52c3d",
        "colab": {
          "base_uri": "https://localhost:8080/",
          "height": 34
        }
      },
      "source": [
        "print(f'Accuracy: {round((TP+TN)/ALL, 2)}')"
      ],
      "execution_count": 37,
      "outputs": [
        {
          "output_type": "stream",
          "text": [
            "Accuracy: 0.75\n"
          ],
          "name": "stdout"
        }
      ]
    },
    {
      "cell_type": "markdown",
      "metadata": {
        "id": "L3AVVkwfb3bh",
        "colab_type": "text"
      },
      "source": [
        "**True Positive Rate:**   \n",
        "When it's actually yes, how often does it predict yes?        \n",
        "“Sensitivity” or “Recall”"
      ]
    },
    {
      "cell_type": "code",
      "metadata": {
        "id": "r60iRo9jb3bh",
        "colab_type": "code",
        "outputId": "92bde009-8165-4664-ad87-bcb3a7c54efd",
        "colab": {
          "base_uri": "https://localhost:8080/",
          "height": 34
        }
      },
      "source": [
        "print(f'True Positive Rate: {round(TP/(TP+FN),4)}')"
      ],
      "execution_count": 39,
      "outputs": [
        {
          "output_type": "stream",
          "text": [
            "True Positive Rate: 0.6962\n"
          ],
          "name": "stdout"
        }
      ]
    },
    {
      "cell_type": "markdown",
      "metadata": {
        "id": "dZfEc6qtb3bj",
        "colab_type": "text"
      },
      "source": [
        "**False Positive Rate:**    \n",
        "When it's actually no, how often does it predict yes?   \n",
        "Also known as \"Fall-out Rate\""
      ]
    },
    {
      "cell_type": "code",
      "metadata": {
        "id": "ZHYo6dI4b3bl",
        "colab_type": "code",
        "outputId": "66ec7008-ed8b-47d3-fd98-25d38b6c8b77",
        "colab": {
          "base_uri": "https://localhost:8080/",
          "height": 34
        }
      },
      "source": [
        "print(f'False Positive Rate:  {round(FP/(FP+TN),4)}')"
      ],
      "execution_count": 42,
      "outputs": [
        {
          "output_type": "stream",
          "text": [
            "False Positive Rate:  0.1972\n"
          ],
          "name": "stdout"
        }
      ]
    },
    {
      "cell_type": "markdown",
      "metadata": {
        "id": "Cy1sFJ7Lb3bp",
        "colab_type": "text"
      },
      "source": [
        "**Precision:**     \n",
        "When it predicts yes, how often is it correct?  \n",
        "Also known as \"Positive Predictive Value (PPV)\""
      ]
    },
    {
      "cell_type": "code",
      "metadata": {
        "id": "Q0Gnzq-0b3bq",
        "colab_type": "code",
        "outputId": "5d8fa76c-7054-479a-8e87-fa24c2d028fc",
        "colab": {
          "base_uri": "https://localhost:8080/",
          "height": 34
        }
      },
      "source": [
        "print(f'Precision: {round(TP / (TP+FP), 4)}')"
      ],
      "execution_count": 43,
      "outputs": [
        {
          "output_type": "stream",
          "text": [
            "Precision: 0.7971\n"
          ],
          "name": "stdout"
        }
      ]
    },
    {
      "cell_type": "markdown",
      "metadata": {
        "id": "CzFbJKG7b3bt",
        "colab_type": "text"
      },
      "source": [
        "**Specificity:**  \n",
        "When it's actually no, how often does it predict no?    \n",
        "also known as \"True Negative Rate\""
      ]
    },
    {
      "cell_type": "code",
      "metadata": {
        "id": "2MNx6cOnb3bu",
        "colab_type": "code",
        "outputId": "d8ab2278-f1fe-4423-cbb1-ba309f2f188d",
        "colab": {
          "base_uri": "https://localhost:8080/",
          "height": 34
        }
      },
      "source": [
        "print(f'Specificity: {round(TN / (TN + FP), 2)}')"
      ],
      "execution_count": 44,
      "outputs": [
        {
          "output_type": "stream",
          "text": [
            "Specificity: 0.8\n"
          ],
          "name": "stdout"
        }
      ]
    },
    {
      "cell_type": "markdown",
      "metadata": {
        "id": "cfmsFiTPb3bw",
        "colab_type": "text"
      },
      "source": [
        "**Prevalence:**    \n",
        "How often does the yes condition actually occur in our sample?  \n",
        "actual yes/total"
      ]
    },
    {
      "cell_type": "code",
      "metadata": {
        "id": "4oBZts1xb3bx",
        "colab_type": "code",
        "colab": {
          "base_uri": "https://localhost:8080/",
          "height": 34
        },
        "outputId": "3f0af1c3-60ab-4f8d-ccaf-15dcc7c97067"
      },
      "source": [
        "print(f'Prevalence: {round((TP+FN)/ALL, 4)}')"
      ],
      "execution_count": 45,
      "outputs": [
        {
          "output_type": "stream",
          "text": [
            "Prevalence: 0.5267\n"
          ],
          "name": "stdout"
        }
      ]
    },
    {
      "cell_type": "markdown",
      "metadata": {
        "id": "orKwbKEyb3bz",
        "colab_type": "text"
      },
      "source": [
        "## Again"
      ]
    },
    {
      "cell_type": "code",
      "metadata": {
        "id": "Hk0lGgEPb3b0",
        "colab_type": "code",
        "colab": {
          "base_uri": "https://localhost:8080/",
          "height": 170
        },
        "outputId": "ec141c46-d4a8-4157-9c51-6c158b635cf0"
      },
      "source": [
        "# House age\n",
        "housing['housing_median_age'].describe()"
      ],
      "execution_count": 46,
      "outputs": [
        {
          "output_type": "execute_result",
          "data": {
            "text/plain": [
              "count    500.000000\n",
              "mean      28.996000\n",
              "std       12.760472\n",
              "min        2.000000\n",
              "25%       18.000000\n",
              "50%       29.000000\n",
              "75%       38.000000\n",
              "max       52.000000\n",
              "Name: housing_median_age, dtype: float64"
            ]
          },
          "metadata": {
            "tags": []
          },
          "execution_count": 46
        }
      ]
    },
    {
      "cell_type": "code",
      "metadata": {
        "id": "mBLc1yBQb3b3",
        "colab_type": "code",
        "colab": {}
      },
      "source": [
        "# Create a target\n",
        "housing['old'] = np.where(housing['housing_median_age']>=38, 1, 0)"
      ],
      "execution_count": 0,
      "outputs": []
    },
    {
      "cell_type": "code",
      "metadata": {
        "id": "STHRIzOWb3b5",
        "colab_type": "code",
        "colab": {}
      },
      "source": [
        "# establish the predictors and the target\n",
        "X = housing.drop(['old', 'housing_median_age', 'high_price'], axis=1)\n",
        "y = housing['old']"
      ],
      "execution_count": 0,
      "outputs": []
    },
    {
      "cell_type": "code",
      "metadata": {
        "id": "e4g37rnmb3b8",
        "colab_type": "code",
        "colab": {}
      },
      "source": [
        "# train-test split\n",
        "X_train, X_test, y_train, y_test = train_test_split(X, y, test_size=0.3)"
      ],
      "execution_count": 0,
      "outputs": []
    },
    {
      "cell_type": "code",
      "metadata": {
        "id": "xOMySJcRb3b-",
        "colab_type": "code",
        "colab": {}
      },
      "source": [
        "# instantiate the classifier\n",
        "mymodel = RandomForestClassifier()"
      ],
      "execution_count": 0,
      "outputs": []
    },
    {
      "cell_type": "code",
      "metadata": {
        "id": "EAmyiWs8b3cB",
        "colab_type": "code",
        "colab": {
          "base_uri": "https://localhost:8080/",
          "height": 153
        },
        "outputId": "f6cf636e-2f1f-4b31-d9e1-8d2d062cff18"
      },
      "source": [
        "# fit on the training data\n",
        "mymodel.fit(X_train, y_train)"
      ],
      "execution_count": 52,
      "outputs": [
        {
          "output_type": "execute_result",
          "data": {
            "text/plain": [
              "RandomForestClassifier(bootstrap=True, ccp_alpha=0.0, class_weight=None,\n",
              "                       criterion='gini', max_depth=None, max_features='auto',\n",
              "                       max_leaf_nodes=None, max_samples=None,\n",
              "                       min_impurity_decrease=0.0, min_impurity_split=None,\n",
              "                       min_samples_leaf=1, min_samples_split=2,\n",
              "                       min_weight_fraction_leaf=0.0, n_estimators=100,\n",
              "                       n_jobs=None, oob_score=False, random_state=None,\n",
              "                       verbose=0, warm_start=False)"
            ]
          },
          "metadata": {
            "tags": []
          },
          "execution_count": 52
        }
      ]
    },
    {
      "cell_type": "code",
      "metadata": {
        "id": "mRIqvqIvb3cD",
        "colab_type": "code",
        "colab": {}
      },
      "source": [
        "# predict on the testing data\n",
        "y_preds = mymodel.predict(X_test)"
      ],
      "execution_count": 0,
      "outputs": []
    },
    {
      "cell_type": "code",
      "metadata": {
        "id": "qn_j-A63b3cI",
        "colab_type": "code",
        "colab": {
          "base_uri": "https://localhost:8080/",
          "height": 51
        },
        "outputId": "7613b599-1f5f-475e-c0c9-6af9f8dedea7"
      },
      "source": [
        "# check out the first few houses\n",
        "print(y_test.values[0:10], 'ground truth')\n",
        "print(y_preds[:10], 'predictions')"
      ],
      "execution_count": 55,
      "outputs": [
        {
          "output_type": "stream",
          "text": [
            "[0 1 0 0 1 0 0 0 1 1] ground truth\n",
            "[0 0 0 0 0 0 0 0 0 1] predictions\n"
          ],
          "name": "stdout"
        }
      ]
    },
    {
      "cell_type": "code",
      "metadata": {
        "id": "f5VvXLh0b3cK",
        "colab_type": "code",
        "colab": {
          "base_uri": "https://localhost:8080/",
          "height": 34
        },
        "outputId": "1e4a95f4-1181-4d8b-b659-c839b7971929"
      },
      "source": [
        "# evaluate the model performance\n",
        "metrics.accuracy_score(y_test, y_preds)"
      ],
      "execution_count": 56,
      "outputs": [
        {
          "output_type": "execute_result",
          "data": {
            "text/plain": [
              "0.7533333333333333"
            ]
          },
          "metadata": {
            "tags": []
          },
          "execution_count": 56
        }
      ]
    },
    {
      "cell_type": "code",
      "metadata": {
        "id": "oTvxU3z_b3cN",
        "colab_type": "code",
        "colab": {
          "base_uri": "https://localhost:8080/",
          "height": 111
        },
        "outputId": "e999a94b-ef07-49c6-f467-ee57a23a9163"
      },
      "source": [
        "# examine the confusion matrix\n",
        "cm = pd.DataFrame(metrics.confusion_matrix(y_test, y_preds), columns=['pred_0', 'pred_1'])\n",
        "cm"
      ],
      "execution_count": 57,
      "outputs": [
        {
          "output_type": "execute_result",
          "data": {
            "text/html": [
              "<div>\n",
              "<style scoped>\n",
              "    .dataframe tbody tr th:only-of-type {\n",
              "        vertical-align: middle;\n",
              "    }\n",
              "\n",
              "    .dataframe tbody tr th {\n",
              "        vertical-align: top;\n",
              "    }\n",
              "\n",
              "    .dataframe thead th {\n",
              "        text-align: right;\n",
              "    }\n",
              "</style>\n",
              "<table border=\"1\" class=\"dataframe\">\n",
              "  <thead>\n",
              "    <tr style=\"text-align: right;\">\n",
              "      <th></th>\n",
              "      <th>pred_0</th>\n",
              "      <th>pred_1</th>\n",
              "    </tr>\n",
              "  </thead>\n",
              "  <tbody>\n",
              "    <tr>\n",
              "      <th>0</th>\n",
              "      <td>104</td>\n",
              "      <td>4</td>\n",
              "    </tr>\n",
              "    <tr>\n",
              "      <th>1</th>\n",
              "      <td>33</td>\n",
              "      <td>9</td>\n",
              "    </tr>\n",
              "  </tbody>\n",
              "</table>\n",
              "</div>"
            ],
            "text/plain": [
              "   pred_0  pred_1\n",
              "0     104       4\n",
              "1      33       9"
            ]
          },
          "metadata": {
            "tags": []
          },
          "execution_count": 57
        }
      ]
    },
    {
      "cell_type": "code",
      "metadata": {
        "id": "ksrlHASSb3cQ",
        "colab_type": "code",
        "colab": {}
      },
      "source": [
        "# get the numbers\n",
        "# get the numbers\n",
        "TN = cm['pred_0'].values[0]\n",
        "FN = cm['pred_0'].values[1]\n",
        "FP = cm['pred_1'].values[0]\n",
        "TP = cm['pred_1'].values[1]\n",
        "ALL = cm.values.sum()"
      ],
      "execution_count": 0,
      "outputs": []
    },
    {
      "cell_type": "code",
      "metadata": {
        "id": "EZ5IgKeBb3cS",
        "colab_type": "code",
        "colab": {
          "base_uri": "https://localhost:8080/",
          "height": 119
        },
        "outputId": "418d578b-d2c5-46c6-8bed-2a28ffa7140e"
      },
      "source": [
        "print(f'Accuracy: {round((TP+TN)/ALL, 4)}')\n",
        "print(f'True Positive Rate: {round(TP/(TP+FN), 4)}')\n",
        "print(f'False Positive Rate: {round(FP/(FP+TN), 4)}')\n",
        "print(f'Precision: {round(TP/(TP+FP), 4)}')\n",
        "print(f'Specificity: {round(TN/(TN+FP), 4)}')\n",
        "print(f'Prevalence: {round((TP+FN)/ALL, 4)}')"
      ],
      "execution_count": 59,
      "outputs": [
        {
          "output_type": "stream",
          "text": [
            "Accuracy: 0.7533\n",
            "True Positive Rate: 0.2143\n",
            "False Positive Rate: 0.037\n",
            "Precision: 0.6923\n",
            "Specificity: 0.963\n",
            "Prevalence: 0.28\n"
          ],
          "name": "stdout"
        }
      ]
    },
    {
      "cell_type": "markdown",
      "metadata": {
        "id": "64euhRKvb3cX",
        "colab_type": "text"
      },
      "source": [
        "## Terminology\n",
        "\n",
        "| Bayes term | Bayes formula | Confusion Matrix term | Confusion Matrix formula| Alternative CM term | \n",
        "|:-|:-|:-|:-|:-|\n",
        "| prior | P(A) | prevalence | (TP + FN) / (TP+TN+FP+FN) | ? |\n",
        "| posterior | P(A given B) | Positive Predictive Value (PPV) | TP / (TP + FP) | precision |\n",
        "| conditional | P(B given A) | True Positive Rate (TPR)  |TP / (TP + FN) | sensitivity, recall |\n",
        "| marginal | P(B) | queue rate | TP + FP | ? |  \n",
        "| prior complement | P(not A) or 100-P(A) | prevalence complement | 1-prevalence | ? |\n",
        "| ? | P(not B given not A) | True Negative Rate (TNR) | TN / (FP + TN) | specificity |\n",
        "| ? | P(B given not A) | False Positive Rate (FPR) | FP / (FP+TN) | fall-out rate, false alarm rate |\n",
        "| ? | P(not B given A) | False Negative Rate (FNR) | FN / (TP + FN) | miss rate |\n",
        "|?|?|accuracy|(TP + TN) / (TP+TN+FP+FN)|?|\n",
        "|?|?|error rate|(FP + FN) / (TP+TN+FP+FN)|misclassification rate|\n",
        "\n",
        "\n",
        "**Abbreviations**  \n",
        "A: Hypothesized Data       \n",
        "B: Observed Data         \n",
        "TP: True Positive  \n",
        "TN: True Negative  \n",
        "FP: False Positive  \n",
        "FN: False Negative  \n",
        " \n",
        "^ Note: Sometimes in Bayesian statistics the following terms are used instead:\n",
        " \n",
        "* prior = hypothesis\n",
        "* posterior = updated hypothesis\n",
        "* conditional = likelihood\n",
        "* marginal = model evidence"
      ]
    },
    {
      "cell_type": "markdown",
      "metadata": {
        "id": "g51KU4mYb3cX",
        "colab_type": "text"
      },
      "source": [
        "## Problem 1. Drunk Drivers"
      ]
    },
    {
      "cell_type": "markdown",
      "metadata": {
        "id": "rjgdIEU6b3cY",
        "colab_type": "text"
      },
      "source": [
        "imagine that individuals are taking a breathalyzer test with \n",
        "* an 8% false positive rate, \n",
        "* a 100% true positive rate, \n",
        "* our prior belief about drunk driving in the population is 1/1000. \n",
        "* What is the probability that a person is drunk after one positive breathalyzer test?"
      ]
    },
    {
      "cell_type": "code",
      "metadata": {
        "id": "yhyBiypdb3cY",
        "colab_type": "code",
        "colab": {}
      },
      "source": [
        "# write a function\n",
        "def prob_drunk_givin_positive(prob_drunk_prior, false_positive_rate, true_positive_rate):\n",
        "  prob_sober = 1-prob_drunk_prior\n",
        "\n",
        "  numerator = true_positive_rate * prob_drunk_prior\n",
        "  denomenator = numerator + false_positive_rate * prob_sober\n",
        "\n",
        "  posterior = numerator/denomenator\n",
        "  \n",
        "  return posterior"
      ],
      "execution_count": 0,
      "outputs": []
    },
    {
      "cell_type": "code",
      "metadata": {
        "id": "44BoDivUb3ca",
        "colab_type": "code",
        "colab": {
          "base_uri": "https://localhost:8080/",
          "height": 34
        },
        "outputId": "e88475c3-4beb-442b-b13b-1e9594c23fcf"
      },
      "source": [
        "# Probability that a person is drunk after one breathalyzer test:\n",
        "prob_drunk_givin_positive(1/1000, .08, 1)"
      ],
      "execution_count": 63,
      "outputs": [
        {
          "output_type": "execute_result",
          "data": {
            "text/plain": [
              "0.012357884330202669"
            ]
          },
          "metadata": {
            "tags": []
          },
          "execution_count": 63
        }
      ]
    },
    {
      "cell_type": "markdown",
      "metadata": {
        "id": "3GEEeUZjb3cd",
        "colab_type": "text"
      },
      "source": [
        "## Problem 2: Marginal is provided\n",
        "Solving for the posterior is not too complicated when the marginal probability is provided for you. \n",
        "\n",
        "Suppose we have an online website where we sell a gizmo. Consider the case where a website-visitor clicks to expand the gizmo's product description. What is the probability that they will then purchase the gizmo?\n",
        "\n",
        "Let’s assume some details:  \n",
        "* 10 percent of site visitors buy the gizmo.  That's the prior: P(buy).\n",
        "* 7 percent of site visitors that purchased the gizmo also clicked on the description. That's the conditional: P(click|buy).\n",
        "* 5 percent of site visitors click on the product description. That's the marginal: P(click).\n",
        "* What percent of site visitors will purchase the gizmo after clicking on the description? That's the posterior: P(buy|click)."
      ]
    },
    {
      "cell_type": "markdown",
      "metadata": {
        "id": "vzPeRRMAb3ce",
        "colab_type": "text"
      },
      "source": [
        "Let’s plug what we know into the theorem:\n",
        "* P(A|B) = P(B|A) * P(A) / P(B)   \n",
        "* P(buy|click) = P(click|buy) * P(buy) / P(click)"
      ]
    },
    {
      "cell_type": "code",
      "metadata": {
        "id": "JesikmmCb3cg",
        "colab_type": "code",
        "colab": {}
      },
      "source": [
        "# input the prior, marginal, and conditional.\n",
        "prior = .10\n",
        "marginal = .05\n",
        "conditional = .07"
      ],
      "execution_count": 0,
      "outputs": []
    },
    {
      "cell_type": "code",
      "metadata": {
        "id": "86kodOoPb3ck",
        "colab_type": "code",
        "colab": {}
      },
      "source": [
        "# write the formula\n",
        "def bayes(prior, marginal, conditional):\n",
        "  posterior = conditional * prior / marginal\n",
        "  return posterior"
      ],
      "execution_count": 0,
      "outputs": []
    },
    {
      "cell_type": "code",
      "metadata": {
        "id": "CEDT6H6db3cn",
        "colab_type": "code",
        "colab": {
          "base_uri": "https://localhost:8080/",
          "height": 34
        },
        "outputId": "47a0ddc2-6382-42ed-c975-416f145a287e"
      },
      "source": [
        "# plug it in\n",
        "bayes(prior, marginal, conditional)"
      ],
      "execution_count": 69,
      "outputs": [
        {
          "output_type": "execute_result",
          "data": {
            "text/plain": [
              "0.14"
            ]
          },
          "metadata": {
            "tags": []
          },
          "execution_count": 69
        }
      ]
    },
    {
      "cell_type": "markdown",
      "metadata": {
        "id": "NLxLBvHMb3cq",
        "colab_type": "text"
      },
      "source": [
        "## Problem 3: No marginal provided!\n",
        "Solving for the posterior is a little harder when the marginal is not provided; most real-world problems fall into this pattern.\n",
        "\n",
        "Consider the case where we receive an email and the spam detector flags it (i.e., puts it in the spam folder). What is the probability it was actally spam?\n",
        "\n",
        "Let’s assume some details:  \n",
        "* 2 percent of the email we receive is spam -- that's the prior: P(Spam). \n",
        "* the spam detector is really good and when an email is spam, it flags it 99 percent of the time -- that's the conditional: P(Flagged|Spam).   \n",
        "* When an email is not spam, it will flag it with a very low rate of 0.1 percent -- that's the fall-out rate: P(Flagged|not Spam).  \n",
        "* What is the probability that a flagged email is actually spam? -- that's the posterior: P(Spam|Flagged) "
      ]
    },
    {
      "cell_type": "markdown",
      "metadata": {
        "id": "nmbU1S8mb3cq",
        "colab_type": "text"
      },
      "source": [
        "Let’s plug what we know into the theorem:\n",
        "* P(A|B) = P(B|A) * P(A) / P(B)   \n",
        "* P(Spam|Flagged) = P(Flagged|Spam) * P(Spam) / P(Flagged)"
      ]
    },
    {
      "cell_type": "markdown",
      "metadata": {
        "id": "u1CDgWxib3cr",
        "colab_type": "text"
      },
      "source": [
        "We don’t know P(B), that is P(Flagged), but we can calculate it as follows:\n",
        "* P(B) = P(B|A) * P(A) + P(B|not A) * P(not A) \n",
        "* P(Flagged) = P(Flagged|Spam) * P(Spam) + P(Flagged|not Spam) * P(not Spam)"
      ]
    },
    {
      "cell_type": "code",
      "metadata": {
        "id": "wZECzt_fb3cu",
        "colab_type": "code",
        "colab": {}
      },
      "source": [
        "# input the prior, conditional, and fall-out rate.\n",
        "prior = .02\n",
        "conditional = .99\n",
        "cond_complement = .001"
      ],
      "execution_count": 0,
      "outputs": []
    },
    {
      "cell_type": "code",
      "metadata": {
        "id": "KfCaRrdHb3cw",
        "colab_type": "code",
        "colab": {}
      },
      "source": [
        "# write the formula\n",
        "def bayes_no_marginal(prior, conditional, cond_complement):\n",
        "  marginal = conditional * prior + .001 * .98\n",
        "\n",
        "  posterior = conditional * prior / marginal\n",
        "  return posterior"
      ],
      "execution_count": 0,
      "outputs": []
    },
    {
      "cell_type": "code",
      "metadata": {
        "id": "Z7jZk9sMb3cz",
        "colab_type": "code",
        "colab": {
          "base_uri": "https://localhost:8080/",
          "height": 34
        },
        "outputId": "022a4ff4-a251-40be-d3d9-afa330fe755d"
      },
      "source": [
        "# plug it in\n",
        "bayes_no_marginal(prior, conditional, cond_complement)"
      ],
      "execution_count": 75,
      "outputs": [
        {
          "output_type": "execute_result",
          "data": {
            "text/plain": [
              "0.9528392685274303"
            ]
          },
          "metadata": {
            "tags": []
          },
          "execution_count": 75
        }
      ]
    },
    {
      "cell_type": "markdown",
      "metadata": {
        "id": "9DJYxyQrb3c0",
        "colab_type": "text"
      },
      "source": [
        "## Problem 4. No marginal (again)\n",
        "What if only two pieces of information are available?"
      ]
    },
    {
      "cell_type": "markdown",
      "metadata": {
        "id": "3HetIzMUb3c1",
        "colab_type": "text"
      },
      "source": [
        "Let’s assume some details:  \n",
        "* the condition occurs in 2% of the population -- that's the prior: P(sick). \n",
        "* when a patient is actually sick, the classifier flags them as sick 72 percent of the time -- that's the conditional: P(Flagged|Sick).   \n",
        "* when the classifier says they are not sick, this is true 97 percent of the time. That's P(not Flagged | not Sick)\n",
        "* What is the probability that a flagged patient is actually sick? -- that's the posterior: P(Sick|Flagged).\n",
        "\n",
        "We don't know the marginal P(B), and we don't know the fall-out rate -- P(Flagged|not Sick) -- but we can calculate them using the formulas:\n",
        "\n",
        "* P(B) = P(B|A) * P(A) + P(B|not A) * P(not A)\n",
        "* P(B|not A) = 1 – P(not B|not A)\n",
        "\n",
        "Which translates to: \n",
        "* P(Flagged) = P(Flagged|Sick) * P(Sick) + P(Flagged|not Sick) * P(not Sick)\n",
        "* P(Flagged|not Sick) = 1 - P(not Flagged|not Sick)"
      ]
    },
    {
      "cell_type": "code",
      "metadata": {
        "id": "aqB7XcJVb3c2",
        "colab_type": "code",
        "colab": {}
      },
      "source": [
        "# input the prior, conditional, and P(not B|not A).\n",
        "prior = 0.02\n",
        "conditional = 0.72\n",
        "\n",
        "cond_complement = 1-0.97\n"
      ],
      "execution_count": 0,
      "outputs": []
    },
    {
      "cell_type": "code",
      "metadata": {
        "id": "Y4jBjVIKb3c4",
        "colab_type": "code",
        "colab": {}
      },
      "source": [
        "# write the formula:\n",
        "def bayes_no_marginal_no_fallout(prior, conditional, cond_complement):\n",
        "  marginal = conditional * prior + cond_complement * (1-prior)\n",
        "\n",
        "  posterior = conditional * prior / marginal\n",
        "  return posterior"
      ],
      "execution_count": 0,
      "outputs": []
    },
    {
      "cell_type": "code",
      "metadata": {
        "id": "jXL47Bnqb3c6",
        "colab_type": "code",
        "colab": {
          "base_uri": "https://localhost:8080/",
          "height": 34
        },
        "outputId": "a7e97561-c707-4763-a277-30fb972d243d"
      },
      "source": [
        "# plug it in:\n",
        "bayes_no_marginal_no_fallout(prior, conditional, cond_complement)"
      ],
      "execution_count": 82,
      "outputs": [
        {
          "output_type": "execute_result",
          "data": {
            "text/plain": [
              "0.32876712328767105"
            ]
          },
          "metadata": {
            "tags": []
          },
          "execution_count": 82
        }
      ]
    },
    {
      "cell_type": "markdown",
      "metadata": {
        "id": "ADjPUVujb3c7",
        "colab_type": "text"
      },
      "source": [
        "Sources:  \n",
        "* http://learningwithdata.com/bayes-primer.html#bayes-primer  \n",
        "* https://machinelearningmastery.com/intuition-for-bayes-theorem-with-worked-examples/  \n",
        "* https://www.bayestheorem.net/  \n",
        "* https://lucdemortier.github.io/articles/16/PerformanceMetrics\n",
        "* https://towardsdatascience.com/machine-learning-an-error-by-any-other-name-a7760a702c4d\n",
        "* https://ncss-wpengine.netdna-ssl.com/wp-content/themes/ncss/pdf/Procedures/NCSS/Binary_Diagnostic_Tests-Single_Sample.pdf\n",
        "* https://www.dataschool.io/simple-guide-to-confusion-matrix-terminology/\n",
        "* https://online.stat.psu.edu/stat507/node/71/"
      ]
    }
  ]
}