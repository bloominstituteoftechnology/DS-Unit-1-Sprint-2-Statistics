{
  "nbformat": 4,
  "nbformat_minor": 0,
  "metadata": {
    "colab": {
      "name": "LS_DS10_122_Sampling_Confidence_Intervals_and_Hypothesis_Testing.ipynb",
      "provenance": [],
      "collapsed_sections": [],
      "include_colab_link": true
    },
    "kernelspec": {
      "name": "python3",
      "display_name": "Python 3"
    }
  },
  "cells": [
    {
      "cell_type": "markdown",
      "metadata": {
        "id": "view-in-github",
        "colab_type": "text"
      },
      "source": [
        "<a href=\"https://colab.research.google.com/github/qianjing2020/DS-Unit-1-Sprint-2-Statistics/blob/master/LS_DS10_122_Sampling_Confidence_Intervals_and_Hypothesis_Testing.ipynb\" target=\"_parent\"><img src=\"https://colab.research.google.com/assets/colab-badge.svg\" alt=\"Open In Colab\"/></a>"
      ]
    },
    {
      "cell_type": "markdown",
      "metadata": {
        "id": "838Dmw1kM2LK",
        "colab_type": "text"
      },
      "source": [
        "# Lambda School Data Science Module 122\n",
        "## Sampling, Confidence Intervals, and Hypothesis Testing"
      ]
    },
    {
      "cell_type": "markdown",
      "metadata": {
        "id": "dbcPKIo5M6Ny",
        "colab_type": "text"
      },
      "source": [
        "## Prepare - examine other available hypothesis tests\n",
        "\n",
        "If you had to pick a single hypothesis test in your toolbox, t-test would probably be the best choice - but the good news is you don't have to pick just one! Here's some of the others to be aware of:"
      ]
    },
    {
      "cell_type": "code",
      "metadata": {
        "id": "tlBel8j9M6tB",
        "colab_type": "code",
        "outputId": "a114a602-a564-4943-85c7-f8c428f539d3",
        "colab": {
          "base_uri": "https://localhost:8080/",
          "height": 190
        }
      },
      "source": [
        "import numpy as np\n",
        "from scipy.stats import chisquare  # One-way chi square test\n",
        "\n",
        "# Chi square can take any crosstab/table and test the independence of rows/cols\n",
        "# The null hypothesis is that the rows/cols are independent -> low chi square\n",
        "# The alternative is that there is a dependence -> high chi square\n",
        "# Be aware! Chi square does *not* tell you direction/causation\n",
        "\n",
        "ind_obs = np.array([[1, 1], [2, 2]]).T\n",
        "print(ind_obs)\n",
        "print(chisquare(ind_obs, axis=None))\n",
        "\n",
        "dep_obs = np.array([[16, 18, 16, 14, 12, 12], [32, 24, 16, 28, 20, 24]]).T\n",
        "print(dep_obs)\n",
        "print(chisquare(dep_obs, axis=None))"
      ],
      "execution_count": 0,
      "outputs": [
        {
          "output_type": "stream",
          "text": [
            "[[1 2]\n",
            " [1 2]]\n",
            "Power_divergenceResult(statistic=0.6666666666666666, pvalue=0.8810148425137847)\n",
            "[[16 32]\n",
            " [18 24]\n",
            " [16 16]\n",
            " [14 28]\n",
            " [12 20]\n",
            " [12 24]]\n",
            "Power_divergenceResult(statistic=23.31034482758621, pvalue=0.015975692534127565)\n"
          ],
          "name": "stdout"
        }
      ]
    },
    {
      "cell_type": "code",
      "metadata": {
        "id": "nN0BdNiDPxbk",
        "colab_type": "code",
        "outputId": "ba5f23e3-c946-43fc-e188-f69bb1926319",
        "colab": {
          "base_uri": "https://localhost:8080/",
          "height": 35
        }
      },
      "source": [
        "# Distribution tests:\n",
        "# We often assume that something is normal, but it can be important to *check*\n",
        "\n",
        "# For example, later on with predictive modeling, a typical assumption is that\n",
        "# residuals (prediction errors) are normal - checking is a good diagnostic\n",
        "\n",
        "from scipy.stats import normaltest\n",
        "# Poisson models arrival times and is related to the binomial (coinflip)\n",
        "sample = np.random.poisson(5, 1000)\n",
        "print(normaltest(sample))  # Pretty clearly not normal"
      ],
      "execution_count": 0,
      "outputs": [
        {
          "output_type": "stream",
          "text": [
            "NormaltestResult(statistic=25.505339119074584, pvalue=2.894582824089733e-06)\n"
          ],
          "name": "stdout"
        }
      ]
    },
    {
      "cell_type": "code",
      "metadata": {
        "id": "P5t0WhkDReFO",
        "colab_type": "code",
        "outputId": "3d02505c-8072-4244-d787-fbb89dcefa7c",
        "colab": {
          "base_uri": "https://localhost:8080/",
          "height": 52
        }
      },
      "source": [
        "# Kruskal-Wallis H-test - compare the median rank between 2+ groups\n",
        "# Can be applied to ranking decisions/outcomes/recommendations\n",
        "# The underlying math comes from chi-square distribution, and is best for n>5\n",
        "from scipy.stats import kruskal\n",
        "\n",
        "x1 = [1, 3, 5, 7, 9]\n",
        "y1 = [2, 4, 6, 8, 10]\n",
        "print(kruskal(x1, y1))  # x1 is a little better, but not \"significantly\" so\n",
        "\n",
        "x2 = [1, 1, 1]\n",
        "y2 = [2, 2, 2]\n",
        "z = [2, 2]  # Hey, a third group, and of different size!\n",
        "print(kruskal(x2, y2, z))  # x clearly dominates"
      ],
      "execution_count": 0,
      "outputs": [
        {
          "output_type": "stream",
          "text": [
            "KruskalResult(statistic=0.2727272727272734, pvalue=0.6015081344405895)\n",
            "KruskalResult(statistic=7.0, pvalue=0.0301973834223185)\n"
          ],
          "name": "stdout"
        }
      ]
    },
    {
      "cell_type": "markdown",
      "metadata": {
        "id": "7pT3IP36Rh0b",
        "colab_type": "text"
      },
      "source": [
        "And there's many more! `scipy.stats` is fairly comprehensive, though there are even more available if you delve into the extended world of statistics packages. As tests get increasingly obscure and specialized, the importance of knowing them by heart becomes small - but being able to look them up and figure them out when they *are* relevant is still important."
      ]
    },
    {
      "cell_type": "markdown",
      "metadata": {
        "id": "uMEDZf3aXtTX",
        "colab_type": "text"
      },
      "source": [
        "## Degrees of Freedom\n",
        "\n",
        "<https://blog.minitab.com/blog/statistics-and-quality-data-analysis/what-are-degrees-of-freedom-in-statistics>"
      ]
    },
    {
      "cell_type": "code",
      "metadata": {
        "id": "NU4X9Jd5X08W",
        "colab_type": "code",
        "colab": {}
      },
      "source": [
        "# Make a sample with a mean of 20\n",
        "# and a sample size of 4.\n",
        "my_sample = [20, 37, 25, X]\n",
        "\n",
        "(20+37+25+x)/4 = 20\n",
        "\n",
        "(20+37+25+x) = 80\n",
        "82 + x = 80\n",
        "\n",
        "x = -2\n",
        "\n",
        "# if X = -2 then my constraints are satisfied"
      ],
      "execution_count": 0,
      "outputs": []
    },
    {
      "cell_type": "markdown",
      "metadata": {
        "id": "3JqroCQYQqhy",
        "colab_type": "text"
      },
      "source": [
        "## T-test Assumptions\n",
        "\n",
        "<https://statistics.laerd.com/statistical-guides/independent-t-test-statistical-guide.php>\n",
        "\n",
        "- Independence of means\n",
        "\n",
        "Are the means of our voting data independent (do not affect the outcome of one another)?\n",
        "  \n",
        "The best way to increase thel likelihood of our means being independent is to randomly sample (which we did not do).\n"
      ]
    },
    {
      "cell_type": "code",
      "metadata": {
        "id": "sqy2hEFRZnvI",
        "colab_type": "code",
        "colab": {}
      },
      "source": [
        "from scipy.stats import ttest_ind\n",
        "\n",
        "?ttest_ind"
      ],
      "execution_count": 0,
      "outputs": []
    },
    {
      "cell_type": "markdown",
      "metadata": {
        "id": "xI-PcK5sZ1A9",
        "colab_type": "text"
      },
      "source": [
        "- \"Homogeneity\" of Variance? \n",
        "\n",
        "Is the magnitude of the variance between the two roughly the same?\n",
        "\n",
        "I think we're OK on this one for the voting data, although it probably could be better, one party was larger than the other.\n",
        "\n",
        "If we suspect this to be a problem then we can use Welch's T-test"
      ]
    },
    {
      "cell_type": "code",
      "metadata": {
        "id": "P02dL0waauN5",
        "colab_type": "code",
        "outputId": "4637b3bb-87e9-4dbc-b6f4-836d3ff233a3",
        "colab": {
          "base_uri": "https://localhost:8080/",
          "height": 35
        }
      },
      "source": [
        "?ttest_ind"
      ],
      "execution_count": 0,
      "outputs": [
        {
          "output_type": "stream",
          "text": [
            "Object `ttest_ind` not found.\n"
          ],
          "name": "stdout"
        }
      ]
    },
    {
      "cell_type": "markdown",
      "metadata": {
        "id": "tjgoHHwGayoC",
        "colab_type": "text"
      },
      "source": [
        "- \"Dependent Variable\" (sample means) are Distributed Normally\n",
        "\n",
        "<https://stats.stackexchange.com/questions/9573/t-test-for-non-normal-when-n50>\n",
        "\n",
        "Lots of statistical tests depend on normal distributions. We can test for normality using Scipy as was shown above.\n",
        "\n",
        "This assumption is often assumed even if the assumption is a weak one. If you strongly suspect that things are not normally distributed, you can transform your data to get it looking more normal and then run your test. This problem typically goes away for large sample sizes (yay Central Limit Theorem) and is often why you don't hear it brought up. People declare the assumption to be satisfied either way. \n",
        "\n"
      ]
    },
    {
      "cell_type": "markdown",
      "metadata": {
        "id": "bvvPV-RJN2vA",
        "colab_type": "text"
      },
      "source": [
        "## Central Limit Theorem\n",
        "\n"
      ]
    },
    {
      "cell_type": "code",
      "metadata": {
        "id": "haF95-XxYVq9",
        "colab_type": "code",
        "colab": {}
      },
      "source": [
        "import numpy as np\n",
        "import matplotlib.pyplot as plt\n",
        "import pandas as pd"
      ],
      "execution_count": 0,
      "outputs": []
    },
    {
      "cell_type": "code",
      "metadata": {
        "id": "XGuz2wSMYWuK",
        "colab_type": "code",
        "outputId": "a418d2a0-423a-47ea-861a-6e2eb9cb35d9",
        "colab": {
          "base_uri": "https://localhost:8080/",
          "height": 35
        }
      },
      "source": [
        "# Let me flip a coin 12 times\n",
        "\n",
        "coinflips = np.random.binomial(n=1, p=.5, size=12)\n",
        "coinflips"
      ],
      "execution_count": 0,
      "outputs": [
        {
          "output_type": "execute_result",
          "data": {
            "text/plain": [
              "array([1, 1, 1, 0, 1, 0, 0, 0, 1, 1, 0, 0])"
            ]
          },
          "metadata": {
            "tags": []
          },
          "execution_count": 40
        }
      ]
    },
    {
      "cell_type": "code",
      "metadata": {
        "id": "_iQSaMIJYdBb",
        "colab_type": "code",
        "outputId": "875d86ee-0135-42d0-fd38-8059e9c063de",
        "colab": {
          "base_uri": "https://localhost:8080/",
          "height": 35
        }
      },
      "source": [
        "# What is the mean of this sample of coinflips?\n",
        "coinflips.mean()"
      ],
      "execution_count": 0,
      "outputs": [
        {
          "output_type": "execute_result",
          "data": {
            "text/plain": [
              "0.5"
            ]
          },
          "metadata": {
            "tags": []
          },
          "execution_count": 41
        }
      ]
    },
    {
      "cell_type": "code",
      "metadata": {
        "id": "JNyLULspYjbh",
        "colab_type": "code",
        "colab": {}
      },
      "source": [
        "#What if I were to do it again?"
      ],
      "execution_count": 0,
      "outputs": []
    },
    {
      "cell_type": "code",
      "metadata": {
        "id": "7QtY3pn7YmsG",
        "colab_type": "code",
        "outputId": "a0d6ee1a-a877-49e2-8488-4ad6220312e7",
        "colab": {
          "base_uri": "https://localhost:8080/",
          "height": 35
        }
      },
      "source": [
        "coinflips = np.random.binomial(n=1, p=.5, size=12)\n",
        "coinflips"
      ],
      "execution_count": 0,
      "outputs": [
        {
          "output_type": "execute_result",
          "data": {
            "text/plain": [
              "array([1, 0, 1, 0, 1, 1, 1, 1, 1, 1, 1, 0])"
            ]
          },
          "metadata": {
            "tags": []
          },
          "execution_count": 34
        }
      ]
    },
    {
      "cell_type": "code",
      "metadata": {
        "id": "YGfw92XtYoOP",
        "colab_type": "code",
        "outputId": "ee274a8b-dfce-4155-c5c3-d314c1ccdfcc",
        "colab": {
          "base_uri": "https://localhost:8080/",
          "height": 35
        }
      },
      "source": [
        "coinflips.mean()"
      ],
      "execution_count": 0,
      "outputs": [
        {
          "output_type": "execute_result",
          "data": {
            "text/plain": [
              "0.75"
            ]
          },
          "metadata": {
            "tags": []
          },
          "execution_count": 35
        }
      ]
    },
    {
      "cell_type": "code",
      "metadata": {
        "id": "s_qTrpFPYsyF",
        "colab_type": "code",
        "colab": {}
      },
      "source": [
        "# Why are these values different? Shouldn't the mean be at .5 for a fair coin?"
      ],
      "execution_count": 0,
      "outputs": []
    },
    {
      "cell_type": "markdown",
      "metadata": {
        "id": "46wUeMO_emWu",
        "colab_type": "text"
      },
      "source": [
        "## Estimates have their own distribution\n",
        "\n",
        "No matter the distribution of our raw data, our estimates will always be distributed normally - This is the main outcome of the Central Limit Theorem. \n",
        "\n",
        "In order to really see the distribution of our sample mean estimate, we are going to estimate the mean repeatedly and then use all of those different estimates to make a histogram."
      ]
    },
    {
      "cell_type": "code",
      "metadata": {
        "id": "FBLoOF8qOJeJ",
        "colab_type": "code",
        "outputId": "4cce4607-5fd2-41f6-8888-5657864f2214",
        "colab": {
          "base_uri": "https://localhost:8080/",
          "height": 72
        }
      },
      "source": [
        "sample_means = []\n",
        "for x in range(0,3000):\n",
        "  coinflips = np.random.binomial(n=1, p=.5, size=100)\n",
        "  one_sample = coinflips\n",
        "  sample_means.append(coinflips.mean())\n",
        "\n",
        "print(len(sample_means))\n",
        "print(sample_means)"
      ],
      "execution_count": 0,
      "outputs": [
        {
          "output_type": "stream",
          "text": [
            "3000\n",
            "[0.5, 0.53, 0.51, 0.55, 0.49, 0.49, 0.52, 0.47, 0.52, 0.47, 0.52, 0.58, 0.52, 0.52, 0.43, 0.46, 0.46, 0.44, 0.5, 0.48, 0.48, 0.56, 0.58, 0.5, 0.52, 0.44, 0.48, 0.54, 0.51, 0.5, 0.52, 0.55, 0.49, 0.57, 0.53, 0.54, 0.38, 0.44, 0.41, 0.4, 0.37, 0.47, 0.54, 0.5, 0.49, 0.48, 0.51, 0.46, 0.54, 0.46, 0.6, 0.48, 0.48, 0.53, 0.49, 0.49, 0.43, 0.45, 0.48, 0.4, 0.4, 0.5, 0.49, 0.55, 0.56, 0.52, 0.55, 0.53, 0.5, 0.39, 0.48, 0.57, 0.55, 0.46, 0.5, 0.51, 0.51, 0.46, 0.47, 0.53, 0.53, 0.44, 0.47, 0.43, 0.46, 0.51, 0.43, 0.53, 0.47, 0.53, 0.48, 0.45, 0.5, 0.48, 0.5, 0.53, 0.5, 0.56, 0.53, 0.51, 0.4, 0.43, 0.51, 0.51, 0.48, 0.5, 0.47, 0.47, 0.51, 0.56, 0.5, 0.57, 0.49, 0.44, 0.42, 0.52, 0.5, 0.47, 0.54, 0.52, 0.53, 0.55, 0.62, 0.47, 0.44, 0.49, 0.52, 0.46, 0.47, 0.47, 0.46, 0.48, 0.5, 0.49, 0.55, 0.48, 0.51, 0.54, 0.49, 0.47, 0.5, 0.43, 0.53, 0.42, 0.57, 0.38, 0.53, 0.56, 0.44, 0.49, 0.44, 0.5, 0.57, 0.53, 0.54, 0.58, 0.55, 0.45, 0.58, 0.52, 0.41, 0.52, 0.47, 0.52, 0.45, 0.59, 0.5, 0.55, 0.46, 0.54, 0.52, 0.55, 0.52, 0.55, 0.54, 0.48, 0.49, 0.47, 0.45, 0.55, 0.47, 0.42, 0.51, 0.5, 0.52, 0.45, 0.45, 0.52, 0.48, 0.55, 0.44, 0.5, 0.53, 0.48, 0.6, 0.5, 0.5, 0.54, 0.45, 0.49, 0.52, 0.45, 0.5, 0.44, 0.5, 0.54, 0.47, 0.57, 0.49, 0.48, 0.47, 0.47, 0.49, 0.49, 0.54, 0.53, 0.58, 0.55, 0.46, 0.54, 0.6, 0.44, 0.54, 0.62, 0.59, 0.46, 0.46, 0.43, 0.63, 0.44, 0.46, 0.53, 0.51, 0.5, 0.5, 0.53, 0.5, 0.45, 0.52, 0.49, 0.52, 0.5, 0.49, 0.49, 0.46, 0.57, 0.48, 0.48, 0.47, 0.53, 0.51, 0.51, 0.46, 0.5, 0.48, 0.52, 0.48, 0.57, 0.51, 0.5, 0.59, 0.55, 0.46, 0.47, 0.56, 0.52, 0.55, 0.37, 0.46, 0.57, 0.47, 0.47, 0.44, 0.56, 0.5, 0.54, 0.57, 0.48, 0.57, 0.46, 0.49, 0.5, 0.53, 0.48, 0.39, 0.52, 0.53, 0.48, 0.43, 0.51, 0.48, 0.57, 0.47, 0.53, 0.51, 0.43, 0.53, 0.49, 0.51, 0.42, 0.5, 0.46, 0.47, 0.48, 0.55, 0.46, 0.57, 0.42, 0.56, 0.57, 0.57, 0.39, 0.45, 0.48, 0.48, 0.5, 0.53, 0.44, 0.45, 0.5, 0.48, 0.63, 0.53, 0.48, 0.51, 0.45, 0.51, 0.5, 0.51, 0.52, 0.42, 0.57, 0.55, 0.46, 0.51, 0.49, 0.53, 0.46, 0.47, 0.46, 0.49, 0.48, 0.52, 0.49, 0.41, 0.55, 0.48, 0.44, 0.51, 0.43, 0.45, 0.51, 0.56, 0.45, 0.48, 0.54, 0.46, 0.48, 0.54, 0.52, 0.41, 0.54, 0.48, 0.5, 0.46, 0.64, 0.59, 0.58, 0.5, 0.48, 0.56, 0.44, 0.46, 0.53, 0.5, 0.55, 0.38, 0.5, 0.4, 0.51, 0.55, 0.4, 0.52, 0.44, 0.5, 0.53, 0.51, 0.47, 0.48, 0.59, 0.49, 0.5, 0.53, 0.52, 0.47, 0.5, 0.5, 0.4, 0.45, 0.5, 0.49, 0.5, 0.43, 0.52, 0.61, 0.42, 0.53, 0.52, 0.52, 0.54, 0.42, 0.49, 0.47, 0.57, 0.57, 0.56, 0.45, 0.5, 0.39, 0.58, 0.58, 0.56, 0.5, 0.46, 0.58, 0.53, 0.54, 0.49, 0.54, 0.44, 0.46, 0.52, 0.52, 0.54, 0.5, 0.43, 0.52, 0.55, 0.48, 0.49, 0.56, 0.54, 0.46, 0.45, 0.41, 0.52, 0.43, 0.48, 0.61, 0.56, 0.57, 0.51, 0.55, 0.49, 0.45, 0.49, 0.55, 0.57, 0.5, 0.44, 0.49, 0.44, 0.41, 0.52, 0.56, 0.5, 0.39, 0.44, 0.46, 0.65, 0.51, 0.54, 0.51, 0.56, 0.52, 0.44, 0.5, 0.46, 0.52, 0.54, 0.56, 0.47, 0.47, 0.49, 0.52, 0.5, 0.42, 0.47, 0.49, 0.51, 0.45, 0.51, 0.41, 0.49, 0.56, 0.46, 0.55, 0.56, 0.41, 0.53, 0.45, 0.46, 0.44, 0.56, 0.51, 0.44, 0.49, 0.49, 0.47, 0.5, 0.45, 0.5, 0.43, 0.5, 0.47, 0.59, 0.56, 0.42, 0.52, 0.48, 0.56, 0.54, 0.53, 0.51, 0.48, 0.6, 0.56, 0.56, 0.56, 0.49, 0.47, 0.51, 0.41, 0.55, 0.51, 0.47, 0.4, 0.49, 0.62, 0.49, 0.58, 0.52, 0.51, 0.41, 0.5, 0.53, 0.44, 0.56, 0.45, 0.46, 0.52, 0.51, 0.54, 0.51, 0.57, 0.4, 0.51, 0.52, 0.56, 0.52, 0.5, 0.52, 0.5, 0.58, 0.54, 0.54, 0.48, 0.53, 0.45, 0.48, 0.45, 0.58, 0.45, 0.55, 0.45, 0.45, 0.49, 0.41, 0.45, 0.48, 0.5, 0.49, 0.38, 0.49, 0.54, 0.59, 0.63, 0.45, 0.45, 0.51, 0.6, 0.52, 0.48, 0.54, 0.49, 0.51, 0.63, 0.52, 0.53, 0.58, 0.52, 0.58, 0.48, 0.48, 0.47, 0.44, 0.44, 0.54, 0.56, 0.48, 0.52, 0.45, 0.47, 0.52, 0.65, 0.48, 0.49, 0.46, 0.47, 0.47, 0.51, 0.56, 0.5, 0.5, 0.52, 0.5, 0.51, 0.43, 0.45, 0.47, 0.46, 0.42, 0.58, 0.42, 0.52, 0.52, 0.39, 0.52, 0.42, 0.55, 0.46, 0.59, 0.56, 0.51, 0.43, 0.55, 0.43, 0.44, 0.53, 0.49, 0.62, 0.53, 0.46, 0.53, 0.53, 0.38, 0.5, 0.51, 0.38, 0.6, 0.47, 0.57, 0.49, 0.57, 0.47, 0.47, 0.51, 0.48, 0.48, 0.42, 0.58, 0.49, 0.5, 0.48, 0.53, 0.49, 0.48, 0.48, 0.49, 0.41, 0.53, 0.51, 0.53, 0.49, 0.49, 0.49, 0.5, 0.47, 0.47, 0.54, 0.43, 0.49, 0.52, 0.53, 0.45, 0.43, 0.48, 0.5, 0.5, 0.57, 0.44, 0.45, 0.44, 0.51, 0.49, 0.45, 0.46, 0.57, 0.54, 0.46, 0.54, 0.39, 0.52, 0.47, 0.47, 0.53, 0.56, 0.45, 0.55, 0.56, 0.61, 0.45, 0.47, 0.5, 0.55, 0.55, 0.41, 0.47, 0.39, 0.46, 0.49, 0.52, 0.52, 0.56, 0.55, 0.56, 0.52, 0.53, 0.48, 0.45, 0.51, 0.57, 0.54, 0.51, 0.54, 0.38, 0.53, 0.55, 0.5, 0.49, 0.61, 0.55, 0.53, 0.45, 0.5, 0.38, 0.58, 0.56, 0.46, 0.42, 0.43, 0.49, 0.56, 0.55, 0.54, 0.56, 0.5, 0.48, 0.47, 0.44, 0.47, 0.53, 0.57, 0.53, 0.6, 0.45, 0.48, 0.45, 0.51, 0.4, 0.47, 0.52, 0.52, 0.51, 0.44, 0.39, 0.45, 0.44, 0.46, 0.49, 0.5, 0.45, 0.48, 0.52, 0.43, 0.49, 0.53, 0.48, 0.49, 0.46, 0.54, 0.48, 0.43, 0.48, 0.57, 0.53, 0.52, 0.47, 0.47, 0.61, 0.58, 0.48, 0.52, 0.47, 0.54, 0.54, 0.44, 0.44, 0.48, 0.51, 0.54, 0.48, 0.52, 0.49, 0.58, 0.5, 0.48, 0.47, 0.5, 0.54, 0.56, 0.55, 0.55, 0.53, 0.49, 0.47, 0.5, 0.55, 0.41, 0.63, 0.55, 0.57, 0.5, 0.51, 0.55, 0.61, 0.54, 0.38, 0.51, 0.53, 0.5, 0.44, 0.45, 0.49, 0.53, 0.53, 0.46, 0.48, 0.47, 0.47, 0.52, 0.54, 0.52, 0.54, 0.48, 0.53, 0.52, 0.58, 0.47, 0.52, 0.58, 0.48, 0.47, 0.34, 0.43, 0.46, 0.53, 0.47, 0.53, 0.43, 0.47, 0.47, 0.58, 0.46, 0.46, 0.45, 0.54, 0.53, 0.43, 0.52, 0.59, 0.45, 0.46, 0.37, 0.56, 0.51, 0.4, 0.48, 0.55, 0.46, 0.41, 0.53, 0.48, 0.47, 0.47, 0.43, 0.45, 0.5, 0.46, 0.43, 0.58, 0.46, 0.56, 0.53, 0.6, 0.44, 0.55, 0.54, 0.62, 0.57, 0.41, 0.52, 0.52, 0.49, 0.47, 0.54, 0.55, 0.52, 0.54, 0.47, 0.47, 0.64, 0.56, 0.48, 0.42, 0.4, 0.53, 0.54, 0.54, 0.44, 0.54, 0.47, 0.43, 0.48, 0.54, 0.48, 0.54, 0.49, 0.59, 0.5, 0.5, 0.46, 0.37, 0.44, 0.49, 0.46, 0.49, 0.5, 0.5, 0.49, 0.59, 0.45, 0.47, 0.52, 0.47, 0.58, 0.48, 0.6, 0.46, 0.56, 0.58, 0.52, 0.44, 0.62, 0.57, 0.45, 0.46, 0.51, 0.53, 0.49, 0.43, 0.51, 0.52, 0.52, 0.61, 0.49, 0.52, 0.5, 0.52, 0.52, 0.51, 0.44, 0.44, 0.48, 0.48, 0.47, 0.55, 0.51, 0.49, 0.58, 0.41, 0.49, 0.55, 0.47, 0.5, 0.48, 0.45, 0.47, 0.5, 0.52, 0.45, 0.52, 0.56, 0.46, 0.5, 0.49, 0.51, 0.51, 0.52, 0.46, 0.49, 0.5, 0.52, 0.51, 0.53, 0.49, 0.55, 0.47, 0.62, 0.52, 0.43, 0.56, 0.44, 0.52, 0.52, 0.55, 0.47, 0.42, 0.55, 0.53, 0.53, 0.53, 0.48, 0.53, 0.43, 0.46, 0.55, 0.5, 0.48, 0.55, 0.39, 0.5, 0.53, 0.48, 0.47, 0.52, 0.54, 0.51, 0.35, 0.52, 0.47, 0.45, 0.51, 0.52, 0.41, 0.52, 0.59, 0.45, 0.55, 0.57, 0.52, 0.43, 0.57, 0.54, 0.49, 0.48, 0.5, 0.48, 0.45, 0.58, 0.6, 0.51, 0.62, 0.58, 0.58, 0.54, 0.57, 0.49, 0.45, 0.41, 0.48, 0.49, 0.55, 0.56, 0.54, 0.52, 0.5, 0.56, 0.54, 0.6, 0.48, 0.52, 0.46, 0.49, 0.48, 0.51, 0.49, 0.54, 0.53, 0.53, 0.53, 0.54, 0.44, 0.56, 0.57, 0.46, 0.52, 0.48, 0.5, 0.55, 0.49, 0.53, 0.57, 0.45, 0.5, 0.49, 0.5, 0.55, 0.45, 0.52, 0.44, 0.43, 0.54, 0.6, 0.49, 0.61, 0.55, 0.43, 0.48, 0.51, 0.43, 0.6, 0.46, 0.49, 0.49, 0.45, 0.59, 0.44, 0.5, 0.51, 0.48, 0.42, 0.48, 0.54, 0.48, 0.54, 0.44, 0.49, 0.39, 0.46, 0.53, 0.47, 0.59, 0.48, 0.49, 0.52, 0.51, 0.47, 0.45, 0.49, 0.48, 0.46, 0.59, 0.56, 0.54, 0.41, 0.51, 0.48, 0.48, 0.53, 0.46, 0.48, 0.41, 0.49, 0.37, 0.54, 0.53, 0.5, 0.54, 0.54, 0.54, 0.56, 0.43, 0.5, 0.52, 0.5, 0.38, 0.45, 0.48, 0.5, 0.5, 0.6, 0.5, 0.52, 0.52, 0.54, 0.51, 0.49, 0.45, 0.43, 0.57, 0.5, 0.52, 0.43, 0.45, 0.62, 0.41, 0.58, 0.55, 0.47, 0.49, 0.47, 0.41, 0.46, 0.43, 0.54, 0.57, 0.46, 0.46, 0.47, 0.53, 0.49, 0.51, 0.48, 0.56, 0.47, 0.46, 0.53, 0.56, 0.49, 0.59, 0.5, 0.66, 0.54, 0.59, 0.55, 0.53, 0.47, 0.44, 0.49, 0.5, 0.49, 0.54, 0.54, 0.47, 0.56, 0.48, 0.49, 0.42, 0.55, 0.46, 0.5, 0.44, 0.52, 0.51, 0.52, 0.53, 0.46, 0.51, 0.45, 0.46, 0.47, 0.51, 0.56, 0.4, 0.52, 0.5, 0.55, 0.5, 0.58, 0.45, 0.51, 0.47, 0.5, 0.41, 0.51, 0.53, 0.52, 0.48, 0.54, 0.49, 0.51, 0.57, 0.47, 0.45, 0.55, 0.43, 0.53, 0.53, 0.41, 0.51, 0.59, 0.47, 0.49, 0.52, 0.5, 0.43, 0.49, 0.5, 0.44, 0.4, 0.46, 0.46, 0.58, 0.58, 0.43, 0.57, 0.43, 0.47, 0.54, 0.53, 0.51, 0.56, 0.47, 0.44, 0.49, 0.45, 0.44, 0.51, 0.45, 0.45, 0.57, 0.5, 0.56, 0.52, 0.55, 0.54, 0.48, 0.51, 0.49, 0.51, 0.52, 0.51, 0.59, 0.48, 0.47, 0.48, 0.49, 0.5, 0.58, 0.56, 0.51, 0.51, 0.49, 0.49, 0.46, 0.46, 0.47, 0.51, 0.54, 0.46, 0.58, 0.48, 0.48, 0.56, 0.53, 0.53, 0.5, 0.56, 0.45, 0.54, 0.57, 0.56, 0.52, 0.53, 0.58, 0.49, 0.52, 0.51, 0.45, 0.45, 0.51, 0.51, 0.51, 0.55, 0.59, 0.38, 0.53, 0.48, 0.47, 0.55, 0.49, 0.4, 0.43, 0.4, 0.46, 0.45, 0.52, 0.43, 0.56, 0.49, 0.5, 0.53, 0.66, 0.48, 0.58, 0.53, 0.52, 0.43, 0.48, 0.52, 0.56, 0.57, 0.44, 0.53, 0.45, 0.5, 0.52, 0.43, 0.51, 0.56, 0.52, 0.61, 0.6, 0.52, 0.48, 0.54, 0.48, 0.58, 0.41, 0.59, 0.5, 0.39, 0.45, 0.44, 0.55, 0.52, 0.53, 0.54, 0.48, 0.49, 0.48, 0.52, 0.54, 0.43, 0.49, 0.45, 0.52, 0.53, 0.51, 0.58, 0.52, 0.51, 0.39, 0.57, 0.44, 0.42, 0.46, 0.46, 0.49, 0.47, 0.5, 0.5, 0.46, 0.51, 0.56, 0.47, 0.46, 0.45, 0.47, 0.52, 0.47, 0.48, 0.47, 0.56, 0.55, 0.46, 0.42, 0.48, 0.45, 0.51, 0.44, 0.53, 0.52, 0.48, 0.43, 0.57, 0.58, 0.47, 0.5, 0.56, 0.56, 0.44, 0.5, 0.49, 0.45, 0.48, 0.54, 0.54, 0.44, 0.38, 0.47, 0.51, 0.46, 0.53, 0.49, 0.57, 0.5, 0.48, 0.41, 0.47, 0.62, 0.41, 0.5, 0.51, 0.5, 0.48, 0.48, 0.39, 0.39, 0.55, 0.46, 0.45, 0.47, 0.48, 0.55, 0.47, 0.47, 0.45, 0.56, 0.38, 0.43, 0.48, 0.48, 0.46, 0.51, 0.45, 0.4, 0.48, 0.57, 0.56, 0.58, 0.51, 0.44, 0.48, 0.42, 0.55, 0.55, 0.58, 0.48, 0.47, 0.57, 0.48, 0.61, 0.56, 0.49, 0.49, 0.38, 0.53, 0.53, 0.48, 0.58, 0.46, 0.57, 0.58, 0.45, 0.51, 0.48, 0.58, 0.56, 0.45, 0.51, 0.46, 0.47, 0.44, 0.43, 0.49, 0.51, 0.49, 0.39, 0.47, 0.54, 0.54, 0.37, 0.53, 0.51, 0.5, 0.42, 0.45, 0.49, 0.58, 0.41, 0.5, 0.46, 0.49, 0.63, 0.49, 0.44, 0.5, 0.43, 0.52, 0.6, 0.55, 0.44, 0.53, 0.44, 0.46, 0.49, 0.46, 0.48, 0.44, 0.53, 0.51, 0.44, 0.64, 0.57, 0.5, 0.5, 0.49, 0.51, 0.58, 0.47, 0.51, 0.5, 0.45, 0.44, 0.52, 0.51, 0.45, 0.5, 0.45, 0.51, 0.54, 0.57, 0.51, 0.48, 0.55, 0.5, 0.54, 0.57, 0.54, 0.53, 0.49, 0.48, 0.42, 0.44, 0.6, 0.47, 0.46, 0.57, 0.51, 0.45, 0.47, 0.52, 0.48, 0.47, 0.6, 0.65, 0.52, 0.48, 0.43, 0.43, 0.55, 0.48, 0.61, 0.54, 0.5, 0.42, 0.51, 0.48, 0.53, 0.43, 0.44, 0.52, 0.47, 0.55, 0.36, 0.44, 0.45, 0.51, 0.5, 0.46, 0.45, 0.53, 0.57, 0.47, 0.58, 0.51, 0.47, 0.43, 0.47, 0.56, 0.49, 0.5, 0.51, 0.41, 0.47, 0.47, 0.51, 0.57, 0.48, 0.59, 0.46, 0.53, 0.47, 0.44, 0.46, 0.56, 0.58, 0.46, 0.46, 0.5, 0.47, 0.51, 0.5, 0.53, 0.52, 0.53, 0.49, 0.51, 0.62, 0.46, 0.44, 0.59, 0.41, 0.51, 0.5, 0.49, 0.46, 0.42, 0.47, 0.54, 0.6, 0.52, 0.54, 0.57, 0.5, 0.42, 0.51, 0.61, 0.59, 0.45, 0.5, 0.43, 0.54, 0.47, 0.5, 0.53, 0.48, 0.5, 0.53, 0.36, 0.44, 0.54, 0.55, 0.58, 0.48, 0.51, 0.56, 0.49, 0.56, 0.51, 0.52, 0.49, 0.52, 0.48, 0.52, 0.45, 0.54, 0.56, 0.36, 0.51, 0.49, 0.53, 0.55, 0.49, 0.45, 0.51, 0.57, 0.45, 0.44, 0.45, 0.45, 0.49, 0.46, 0.49, 0.54, 0.57, 0.49, 0.6, 0.58, 0.56, 0.5, 0.59, 0.45, 0.45, 0.47, 0.46, 0.48, 0.46, 0.38, 0.49, 0.46, 0.49, 0.45, 0.55, 0.57, 0.52, 0.49, 0.61, 0.54, 0.46, 0.43, 0.52, 0.5, 0.54, 0.48, 0.54, 0.51, 0.41, 0.42, 0.47, 0.52, 0.46, 0.54, 0.47, 0.5, 0.59, 0.48, 0.5, 0.53, 0.56, 0.55, 0.55, 0.53, 0.56, 0.4, 0.5, 0.44, 0.53, 0.56, 0.61, 0.57, 0.43, 0.48, 0.53, 0.48, 0.55, 0.51, 0.48, 0.6, 0.41, 0.49, 0.45, 0.58, 0.5, 0.47, 0.49, 0.52, 0.55, 0.55, 0.45, 0.59, 0.5, 0.45, 0.46, 0.43, 0.52, 0.51, 0.44, 0.45, 0.54, 0.6, 0.48, 0.56, 0.45, 0.54, 0.54, 0.51, 0.56, 0.54, 0.53, 0.45, 0.5, 0.57, 0.51, 0.45, 0.48, 0.49, 0.58, 0.44, 0.52, 0.45, 0.49, 0.44, 0.56, 0.5, 0.48, 0.53, 0.47, 0.56, 0.49, 0.57, 0.49, 0.55, 0.54, 0.57, 0.49, 0.43, 0.48, 0.48, 0.44, 0.63, 0.5, 0.47, 0.55, 0.44, 0.54, 0.51, 0.44, 0.49, 0.53, 0.58, 0.55, 0.51, 0.47, 0.54, 0.52, 0.49, 0.51, 0.47, 0.53, 0.58, 0.47, 0.47, 0.47, 0.48, 0.56, 0.51, 0.57, 0.49, 0.45, 0.55, 0.55, 0.54, 0.55, 0.51, 0.48, 0.54, 0.53, 0.53, 0.35, 0.52, 0.5, 0.53, 0.51, 0.46, 0.54, 0.52, 0.47, 0.47, 0.46, 0.55, 0.53, 0.48, 0.49, 0.49, 0.42, 0.5, 0.56, 0.41, 0.48, 0.4, 0.48, 0.48, 0.39, 0.5, 0.4, 0.54, 0.47, 0.48, 0.48, 0.47, 0.49, 0.48, 0.44, 0.5, 0.46, 0.51, 0.42, 0.56, 0.45, 0.48, 0.49, 0.48, 0.52, 0.56, 0.55, 0.44, 0.57, 0.47, 0.49, 0.52, 0.48, 0.53, 0.47, 0.53, 0.49, 0.57, 0.48, 0.48, 0.61, 0.56, 0.52, 0.49, 0.52, 0.53, 0.51, 0.59, 0.55, 0.46, 0.44, 0.48, 0.52, 0.48, 0.48, 0.48, 0.52, 0.49, 0.52, 0.55, 0.59, 0.53, 0.54, 0.55, 0.56, 0.55, 0.44, 0.52, 0.6, 0.54, 0.46, 0.52, 0.46, 0.49, 0.6, 0.47, 0.55, 0.5, 0.51, 0.41, 0.41, 0.46, 0.46, 0.53, 0.48, 0.48, 0.51, 0.39, 0.5, 0.57, 0.43, 0.41, 0.52, 0.52, 0.47, 0.58, 0.44, 0.53, 0.49, 0.59, 0.56, 0.49, 0.54, 0.48, 0.59, 0.46, 0.49, 0.51, 0.53, 0.43, 0.41, 0.5, 0.46, 0.43, 0.6, 0.52, 0.45, 0.45, 0.45, 0.5, 0.49, 0.52, 0.54, 0.54, 0.48, 0.53, 0.54, 0.48, 0.53, 0.38, 0.44, 0.56, 0.57, 0.53, 0.53, 0.51, 0.44, 0.48, 0.55, 0.5, 0.54, 0.44, 0.5, 0.42, 0.44, 0.5, 0.43, 0.48, 0.47, 0.46, 0.5, 0.45, 0.44, 0.48, 0.57, 0.53, 0.54, 0.55, 0.51, 0.45, 0.46, 0.45, 0.47, 0.46, 0.53, 0.51, 0.53, 0.48, 0.56, 0.45, 0.57, 0.47, 0.53, 0.54, 0.45, 0.62, 0.44, 0.53, 0.49, 0.5, 0.42, 0.51, 0.46, 0.53, 0.59, 0.54, 0.52, 0.47, 0.48, 0.45, 0.42, 0.46, 0.49, 0.45, 0.48, 0.51, 0.56, 0.53, 0.42, 0.52, 0.48, 0.52, 0.45, 0.62, 0.53, 0.57, 0.44, 0.43, 0.57, 0.49, 0.39, 0.48, 0.42, 0.52, 0.52, 0.55, 0.6, 0.48, 0.45, 0.5, 0.48, 0.48, 0.51, 0.45, 0.48, 0.46, 0.57, 0.47, 0.45, 0.5, 0.51, 0.52, 0.6, 0.45, 0.49, 0.49, 0.48, 0.39, 0.53, 0.48, 0.53, 0.42, 0.49, 0.55, 0.51, 0.52, 0.51, 0.5, 0.54, 0.46, 0.55, 0.46, 0.49, 0.54, 0.45, 0.43, 0.47, 0.58, 0.48, 0.5, 0.59, 0.54, 0.54, 0.46, 0.52, 0.49, 0.49, 0.53, 0.53, 0.54, 0.49, 0.55, 0.49, 0.51, 0.45, 0.45, 0.56, 0.63, 0.45, 0.5, 0.47, 0.48, 0.51, 0.56, 0.47, 0.49, 0.55, 0.5, 0.57, 0.45, 0.49, 0.48, 0.59, 0.48, 0.41, 0.46, 0.52, 0.51, 0.49, 0.5, 0.51, 0.5, 0.46, 0.44, 0.48, 0.5, 0.43, 0.46, 0.5, 0.5, 0.51, 0.53, 0.51, 0.43, 0.43, 0.44, 0.5, 0.44, 0.6, 0.44, 0.37, 0.48, 0.58, 0.46, 0.43, 0.48, 0.57, 0.52, 0.5, 0.46, 0.38, 0.6, 0.43, 0.53, 0.43, 0.54, 0.44, 0.49, 0.49, 0.45, 0.53, 0.55, 0.55, 0.44, 0.45, 0.42, 0.43, 0.47, 0.52, 0.46, 0.54, 0.48, 0.46, 0.45, 0.49, 0.35, 0.52, 0.52, 0.45, 0.55, 0.46, 0.5, 0.46, 0.49, 0.49, 0.58, 0.42, 0.55, 0.51, 0.51, 0.44, 0.47, 0.58, 0.5, 0.45, 0.52, 0.52, 0.42, 0.51, 0.42, 0.4, 0.52, 0.55, 0.51, 0.56, 0.53, 0.54, 0.51, 0.55, 0.48, 0.44, 0.5, 0.41, 0.57, 0.37, 0.55, 0.51, 0.47, 0.41, 0.53, 0.56, 0.46, 0.59, 0.52, 0.56, 0.55, 0.52, 0.51, 0.4, 0.44, 0.49, 0.47, 0.53, 0.45, 0.55, 0.46, 0.44, 0.43, 0.49, 0.51, 0.47, 0.53, 0.48, 0.44, 0.41, 0.55, 0.54, 0.53, 0.54, 0.45, 0.5, 0.42, 0.4, 0.49, 0.55, 0.49, 0.54, 0.49, 0.54, 0.42, 0.44, 0.46, 0.43, 0.5, 0.47, 0.56, 0.54, 0.56, 0.61, 0.57, 0.55, 0.48, 0.61, 0.52, 0.53, 0.46, 0.52, 0.41, 0.42, 0.49, 0.56, 0.4, 0.46, 0.57, 0.39, 0.53, 0.47, 0.48, 0.49, 0.45, 0.43, 0.6, 0.43, 0.5, 0.45, 0.53, 0.5, 0.47, 0.53, 0.51, 0.52, 0.56, 0.51, 0.46, 0.49, 0.63, 0.6, 0.56, 0.48, 0.48, 0.48, 0.48, 0.48, 0.42, 0.4, 0.46, 0.56, 0.38, 0.52, 0.49, 0.47, 0.49, 0.52, 0.39, 0.43, 0.53, 0.43, 0.48, 0.6, 0.54, 0.48, 0.47, 0.48, 0.51, 0.57, 0.52, 0.49, 0.41, 0.51, 0.5, 0.58, 0.53, 0.41, 0.5, 0.47, 0.41, 0.43, 0.53, 0.41, 0.55, 0.48, 0.55, 0.48, 0.43, 0.52, 0.46, 0.53, 0.52, 0.45, 0.45, 0.45, 0.6, 0.48, 0.55, 0.57, 0.55, 0.5, 0.48, 0.59, 0.42, 0.52, 0.49, 0.51, 0.52, 0.49, 0.41, 0.56, 0.53, 0.48, 0.59, 0.54, 0.5, 0.51, 0.5, 0.54, 0.42, 0.48, 0.49, 0.49, 0.55, 0.49, 0.47, 0.49, 0.51, 0.51, 0.58, 0.51, 0.52, 0.48, 0.45, 0.48, 0.52, 0.47, 0.5, 0.47, 0.43, 0.53, 0.43, 0.49, 0.56, 0.5, 0.52, 0.61, 0.42, 0.45, 0.41, 0.46, 0.51, 0.5, 0.56, 0.51, 0.4, 0.52, 0.52, 0.49, 0.43, 0.56, 0.5, 0.49, 0.59, 0.5, 0.46, 0.51, 0.51, 0.48, 0.49, 0.33, 0.52, 0.44, 0.53, 0.49, 0.53, 0.55, 0.51, 0.4, 0.5, 0.52, 0.5, 0.52, 0.51, 0.52, 0.46, 0.51, 0.45, 0.54, 0.53, 0.42, 0.48, 0.53, 0.51, 0.47, 0.55, 0.43, 0.62, 0.48, 0.47, 0.51, 0.55, 0.52, 0.4, 0.54, 0.5, 0.56, 0.53, 0.51, 0.57, 0.53, 0.44, 0.51, 0.5, 0.54, 0.4, 0.62, 0.59, 0.44, 0.48, 0.46, 0.5, 0.51, 0.53, 0.5, 0.47, 0.5, 0.5, 0.52, 0.59, 0.46, 0.42, 0.5, 0.48, 0.56, 0.57, 0.47, 0.52, 0.59, 0.48, 0.49, 0.47, 0.53, 0.55, 0.6, 0.62, 0.52, 0.45, 0.52, 0.5, 0.52, 0.49, 0.47, 0.48, 0.43, 0.51, 0.46, 0.54, 0.47, 0.5, 0.48, 0.52, 0.48, 0.47, 0.44, 0.47, 0.43, 0.52, 0.49, 0.53, 0.44, 0.59, 0.56, 0.43, 0.42, 0.52, 0.48, 0.55, 0.45, 0.48, 0.47, 0.45, 0.43, 0.53, 0.58, 0.46, 0.52, 0.45, 0.43, 0.44, 0.52, 0.48, 0.49, 0.54, 0.48, 0.53, 0.42, 0.49, 0.5, 0.61, 0.52, 0.54, 0.59, 0.43, 0.44, 0.47, 0.46, 0.49, 0.48, 0.57, 0.43, 0.53, 0.49, 0.5, 0.46, 0.51, 0.52, 0.55, 0.52, 0.46, 0.48, 0.46, 0.46, 0.48, 0.49, 0.39, 0.5, 0.5, 0.49, 0.61, 0.59, 0.42, 0.54, 0.55, 0.51, 0.51, 0.53, 0.53, 0.54, 0.59, 0.55, 0.53, 0.46, 0.52, 0.61, 0.44, 0.54, 0.54, 0.51, 0.47, 0.45, 0.57, 0.55, 0.42, 0.54, 0.54, 0.38, 0.53, 0.49, 0.43, 0.51, 0.49, 0.53, 0.52, 0.45, 0.47, 0.49, 0.46, 0.48, 0.51, 0.45, 0.58, 0.51, 0.52, 0.5, 0.51, 0.5, 0.45, 0.5, 0.45, 0.52, 0.45, 0.42, 0.43, 0.47, 0.54, 0.55, 0.51, 0.57, 0.59, 0.44, 0.53, 0.43, 0.54, 0.52, 0.46, 0.43, 0.5, 0.47, 0.46, 0.33, 0.44, 0.53, 0.57, 0.51, 0.46, 0.51, 0.47, 0.44, 0.55, 0.46, 0.35, 0.45, 0.52, 0.5, 0.44, 0.49, 0.58, 0.59, 0.43, 0.67, 0.54, 0.45, 0.47, 0.52, 0.5, 0.52, 0.52, 0.58, 0.42, 0.48, 0.51, 0.51, 0.53, 0.58, 0.52, 0.46, 0.42, 0.49, 0.44, 0.44, 0.56, 0.55, 0.5, 0.46, 0.5, 0.51, 0.55, 0.46, 0.45, 0.52, 0.47, 0.49, 0.47, 0.44, 0.53, 0.52, 0.52, 0.45, 0.59, 0.44, 0.41, 0.43, 0.52, 0.52, 0.54, 0.51, 0.48, 0.5, 0.45, 0.46, 0.4, 0.54, 0.57, 0.46, 0.48, 0.45, 0.6, 0.6, 0.46, 0.64, 0.51, 0.55, 0.49, 0.51, 0.48, 0.41, 0.5, 0.45, 0.49, 0.45, 0.44, 0.44, 0.58, 0.53, 0.49, 0.41, 0.58, 0.55, 0.45, 0.46, 0.47, 0.48, 0.54, 0.6, 0.41, 0.51, 0.53, 0.51, 0.51, 0.47, 0.54, 0.49, 0.57, 0.5, 0.45, 0.5, 0.56, 0.5, 0.48, 0.36, 0.59, 0.45, 0.47, 0.44, 0.56, 0.5, 0.54, 0.53, 0.42, 0.53, 0.48, 0.49, 0.55, 0.45, 0.54, 0.46, 0.55, 0.47, 0.5, 0.45, 0.54, 0.48, 0.49, 0.46, 0.54, 0.43, 0.43, 0.56, 0.38, 0.48, 0.58, 0.57, 0.49, 0.51, 0.52, 0.49, 0.5, 0.48, 0.48, 0.44, 0.41, 0.5, 0.45, 0.58, 0.47, 0.49, 0.51, 0.4, 0.42, 0.52, 0.51, 0.5, 0.51, 0.47, 0.43, 0.56, 0.36, 0.55, 0.48, 0.47, 0.54, 0.48]\n"
          ],
          "name": "stdout"
        }
      ]
    },
    {
      "cell_type": "code",
      "metadata": {
        "id": "rfeA06evOT2K",
        "colab_type": "code",
        "outputId": "ee5748af-22ea-431a-a0ae-f67cddd1dfed",
        "colab": {
          "base_uri": "https://localhost:8080/",
          "height": 198
        }
      },
      "source": [
        "df = pd.DataFrame({'single_sample': one_sample})\n",
        "df.head()"
      ],
      "execution_count": 0,
      "outputs": [
        {
          "output_type": "execute_result",
          "data": {
            "text/html": [
              "<div>\n",
              "<style scoped>\n",
              "    .dataframe tbody tr th:only-of-type {\n",
              "        vertical-align: middle;\n",
              "    }\n",
              "\n",
              "    .dataframe tbody tr th {\n",
              "        vertical-align: top;\n",
              "    }\n",
              "\n",
              "    .dataframe thead th {\n",
              "        text-align: right;\n",
              "    }\n",
              "</style>\n",
              "<table border=\"1\" class=\"dataframe\">\n",
              "  <thead>\n",
              "    <tr style=\"text-align: right;\">\n",
              "      <th></th>\n",
              "      <th>single_sample</th>\n",
              "    </tr>\n",
              "  </thead>\n",
              "  <tbody>\n",
              "    <tr>\n",
              "      <th>0</th>\n",
              "      <td>1</td>\n",
              "    </tr>\n",
              "    <tr>\n",
              "      <th>1</th>\n",
              "      <td>1</td>\n",
              "    </tr>\n",
              "    <tr>\n",
              "      <th>2</th>\n",
              "      <td>1</td>\n",
              "    </tr>\n",
              "    <tr>\n",
              "      <th>3</th>\n",
              "      <td>1</td>\n",
              "    </tr>\n",
              "    <tr>\n",
              "      <th>4</th>\n",
              "      <td>1</td>\n",
              "    </tr>\n",
              "  </tbody>\n",
              "</table>\n",
              "</div>"
            ],
            "text/plain": [
              "   single_sample\n",
              "0              1\n",
              "1              1\n",
              "2              1\n",
              "3              1\n",
              "4              1"
            ]
          },
          "metadata": {
            "tags": []
          },
          "execution_count": 65
        }
      ]
    },
    {
      "cell_type": "code",
      "metadata": {
        "id": "GlMSNFX6OmBV",
        "colab_type": "code",
        "outputId": "2b2f6ef1-8dfa-4be1-d489-f96329eb7c05",
        "colab": {
          "base_uri": "https://localhost:8080/",
          "height": 265
        }
      },
      "source": [
        "df.single_sample.hist();"
      ],
      "execution_count": 0,
      "outputs": [
        {
          "output_type": "display_data",
          "data": {
            "image/png": "[encoded data removed]",
            "text/plain": [
              "<Figure size 432x288 with 1 Axes>"
            ]
          },
          "metadata": {
            "tags": []
          }
        }
      ]
    },
    {
      "cell_type": "code",
      "metadata": {
        "id": "Jie4ypgLOs5M",
        "colab_type": "code",
        "outputId": "39ff4066-2227-4152-ad7f-136ea7134106",
        "colab": {
          "base_uri": "https://localhost:8080/",
          "height": 296
        }
      },
      "source": [
        "ax = plt.hist(sample_means, bins=100)\n",
        "plt.title('Distribution of 3000 sample means \\n (of 8 coinflips each)');"
      ],
      "execution_count": 0,
      "outputs": [
        {
          "output_type": "display_data",
          "data": {
            "image/png": "[encoded data removed]",
            "text/plain": [
              "<Figure size 432x288 with 1 Axes>"
            ]
          },
          "metadata": {
            "tags": []
          }
        }
      ]
    },
    {
      "cell_type": "markdown",
      "metadata": {
        "id": "LsEAjc4rOylm",
        "colab_type": "text"
      },
      "source": [
        "What does the Central Limit Theorem State? That no matter the initial distribution of the population, the distribution of sample means taken will approximate a normal distribution as $n \\rightarrow \\infty$.\n",
        "\n",
        "This has very important implications for hypothesis testing and is precisely the reason why the t-distribution begins to approximate the normal distribution as our sample size increases. "
      ]
    },
    {
      "cell_type": "code",
      "metadata": {
        "id": "F15l-J788ApQ",
        "colab_type": "code",
        "outputId": "a02a5671-1c90-4fa2-caef-f3c1d5b3bed9",
        "colab": {
          "base_uri": "https://localhost:8080/",
          "height": 72
        }
      },
      "source": [
        "sample_means_small = []\n",
        "sample_means_large = []\n",
        "for x in range(0,3000):\n",
        "  coinflips_small = np.random.binomial(n=1, p=.5, size=20)\n",
        "  coinflips_large = np.random.binomial(n=1, p=.5, size=100)\n",
        "  one_small_sample = coinflips_small\n",
        "  one_small_large = coinflips_large\n",
        "  sample_means_small.append(coinflips_small.mean())\n",
        "  sample_means_large.append(coinflips_large.mean())\n",
        "\n",
        "print(len(sample_means_small))\n",
        "print(sample_means_small)"
      ],
      "execution_count": 0,
      "outputs": [
        {
          "output_type": "stream",
          "text": [
            "3000\n",
            "[0.7, 0.4, 0.35, 0.5, 0.55, 0.65, 0.6, 0.3, 0.35, 0.45, 0.45, 0.6, 0.4, 0.5, 0.65, 0.4, 0.7, 0.6, 0.6, 0.55, 0.5, 0.35, 0.45, 0.5, 0.6, 0.5, 0.45, 0.65, 0.35, 0.6, 0.65, 0.6, 0.5, 0.45, 0.5, 0.65, 0.5, 0.4, 0.55, 0.5, 0.45, 0.45, 0.45, 0.5, 0.55, 0.45, 0.6, 0.45, 0.5, 0.35, 0.3, 0.45, 0.55, 0.35, 0.6, 0.55, 0.35, 0.45, 0.5, 0.55, 0.45, 0.45, 0.55, 0.6, 0.45, 0.65, 0.4, 0.4, 0.5, 0.4, 0.5, 0.45, 0.6, 0.45, 0.5, 0.5, 0.5, 0.55, 0.4, 0.5, 0.45, 0.45, 0.55, 0.65, 0.4, 0.4, 0.6, 0.6, 0.6, 0.5, 0.65, 0.45, 0.55, 0.35, 0.45, 0.5, 0.4, 0.7, 0.45, 0.45, 0.65, 0.6, 0.45, 0.55, 0.45, 0.55, 0.55, 0.45, 0.4, 0.35, 0.5, 0.4, 0.4, 0.45, 0.3, 0.5, 0.55, 0.7, 0.5, 0.65, 0.6, 0.6, 0.6, 0.45, 0.55, 0.45, 0.4, 0.6, 0.55, 0.6, 0.4, 0.55, 0.55, 0.4, 0.55, 0.5, 0.55, 0.7, 0.4, 0.45, 0.45, 0.45, 0.5, 0.45, 0.4, 0.6, 0.4, 0.55, 0.4, 0.65, 0.55, 0.55, 0.4, 0.55, 0.45, 0.35, 0.5, 0.55, 0.6, 0.6, 0.3, 0.4, 0.3, 0.6, 0.5, 0.45, 0.5, 0.7, 0.45, 0.65, 0.4, 0.55, 0.6, 0.55, 0.4, 0.4, 0.4, 0.35, 0.5, 0.6, 0.5, 0.55, 0.45, 0.55, 0.5, 0.45, 0.5, 0.4, 0.5, 0.55, 0.5, 0.5, 0.4, 0.7, 0.35, 0.5, 0.45, 0.5, 0.6, 0.5, 0.5, 0.4, 0.6, 0.65, 0.6, 0.45, 0.4, 0.55, 0.55, 0.45, 0.45, 0.45, 0.5, 0.4, 0.5, 0.55, 0.6, 0.7, 0.6, 0.6, 0.5, 0.35, 0.55, 0.6, 0.65, 0.4, 0.5, 0.55, 0.25, 0.7, 0.3, 0.5, 0.5, 0.6, 0.5, 0.8, 0.4, 0.2, 0.55, 0.6, 0.4, 0.45, 0.4, 0.3, 0.6, 0.4, 0.6, 0.45, 0.3, 0.5, 0.6, 0.6, 0.3, 0.6, 0.4, 0.55, 0.35, 0.55, 0.35, 0.5, 0.4, 0.35, 0.55, 0.45, 0.5, 0.35, 0.5, 0.6, 0.3, 0.55, 0.55, 0.35, 0.4, 0.6, 0.2, 0.4, 0.45, 0.45, 0.6, 0.6, 0.35, 0.55, 0.7, 0.35, 0.5, 0.5, 0.35, 0.35, 0.45, 0.6, 0.3, 0.45, 0.65, 0.55, 0.55, 0.3, 0.4, 0.65, 0.55, 0.65, 0.45, 0.3, 0.35, 0.35, 0.5, 0.6, 0.35, 0.55, 0.4, 0.45, 0.4, 0.5, 0.35, 0.55, 0.5, 0.65, 0.45, 0.25, 0.5, 0.4, 0.4, 0.35, 0.35, 0.5, 0.45, 0.45, 0.4, 0.6, 0.6, 0.6, 0.6, 0.75, 0.35, 0.65, 0.45, 0.4, 0.6, 0.55, 0.45, 0.5, 0.5, 0.6, 0.2, 0.6, 0.65, 0.45, 0.75, 0.55, 0.6, 0.6, 0.5, 0.7, 0.45, 0.3, 0.4, 0.55, 0.65, 0.4, 0.55, 0.4, 0.35, 0.45, 0.55, 0.65, 0.5, 0.6, 0.2, 0.45, 0.4, 0.6, 0.3, 0.5, 0.45, 0.7, 0.5, 0.3, 0.3, 0.3, 0.55, 0.65, 0.3, 0.45, 0.65, 0.5, 0.65, 0.6, 0.65, 0.5, 0.4, 0.55, 0.5, 0.55, 0.4, 0.55, 0.55, 0.5, 0.55, 0.6, 0.35, 0.45, 0.4, 0.5, 0.3, 0.55, 0.6, 0.5, 0.55, 0.45, 0.35, 0.55, 0.45, 0.55, 0.4, 0.45, 0.55, 0.55, 0.5, 0.45, 0.7, 0.6, 0.5, 0.55, 0.5, 0.6, 0.55, 0.55, 0.45, 0.5, 0.55, 0.55, 0.45, 0.75, 0.6, 0.7, 0.55, 0.5, 0.6, 0.55, 0.45, 0.65, 0.6, 0.45, 0.65, 0.6, 0.6, 0.65, 0.65, 0.45, 0.55, 0.65, 0.45, 0.5, 0.7, 0.5, 0.3, 0.5, 0.3, 0.4, 0.45, 0.4, 0.55, 0.65, 0.6, 0.5, 0.3, 0.4, 0.65, 0.4, 0.7, 0.65, 0.45, 0.55, 0.45, 0.4, 0.65, 0.25, 0.45, 0.5, 0.45, 0.65, 0.4, 0.45, 0.35, 0.5, 0.6, 0.3, 0.6, 0.5, 0.35, 0.45, 0.45, 0.6, 0.4, 0.3, 0.5, 0.35, 0.65, 0.4, 0.6, 0.35, 0.5, 0.6, 0.45, 0.55, 0.5, 0.5, 0.4, 0.5, 0.55, 0.5, 0.35, 0.5, 0.5, 0.55, 0.55, 0.55, 0.6, 0.45, 0.6, 0.55, 0.6, 0.45, 0.65, 0.45, 0.3, 0.55, 0.35, 0.55, 0.5, 0.6, 0.55, 0.6, 0.6, 0.6, 0.55, 0.5, 0.45, 0.5, 0.5, 0.5, 0.35, 0.6, 0.4, 0.7, 0.7, 0.55, 0.45, 0.4, 0.45, 0.2, 0.65, 0.45, 0.4, 0.45, 0.35, 0.35, 0.65, 0.6, 0.55, 0.65, 0.55, 0.65, 0.5, 0.65, 0.45, 0.6, 0.45, 0.5, 0.5, 0.5, 0.35, 0.4, 0.35, 0.45, 0.65, 0.55, 0.45, 0.6, 0.4, 0.5, 0.6, 0.45, 0.6, 0.5, 0.65, 0.45, 0.5, 0.4, 0.5, 0.55, 0.4, 0.55, 0.5, 0.35, 0.5, 0.5, 0.55, 0.4, 0.45, 0.7, 0.4, 0.45, 0.55, 0.65, 0.25, 0.5, 0.55, 0.55, 0.35, 0.6, 0.5, 0.4, 0.55, 0.7, 0.55, 0.55, 0.6, 0.55, 0.55, 0.55, 0.5, 0.55, 0.4, 0.4, 0.45, 0.45, 0.5, 0.45, 0.6, 0.7, 0.45, 0.3, 0.35, 0.5, 0.6, 0.5, 0.3, 0.7, 0.75, 0.35, 0.65, 0.4, 0.45, 0.6, 0.55, 0.45, 0.6, 0.5, 0.5, 0.6, 0.55, 0.45, 0.5, 0.45, 0.4, 0.6, 0.45, 0.75, 0.65, 0.4, 0.45, 0.7, 0.6, 0.45, 0.7, 0.5, 0.65, 0.35, 0.5, 0.5, 0.45, 0.5, 0.45, 0.45, 0.7, 0.55, 0.65, 0.45, 0.5, 0.55, 0.6, 0.4, 0.45, 0.5, 0.45, 0.45, 0.7, 0.7, 0.55, 0.4, 0.45, 0.55, 0.7, 0.4, 0.45, 0.5, 0.45, 0.55, 0.4, 0.55, 0.4, 0.55, 0.65, 0.8, 0.5, 0.4, 0.7, 0.45, 0.45, 0.6, 0.5, 0.5, 0.55, 0.45, 0.5, 0.6, 0.55, 0.7, 0.55, 0.35, 0.65, 0.6, 0.4, 0.35, 0.35, 0.4, 0.4, 0.65, 0.55, 0.4, 0.65, 0.55, 0.6, 0.45, 0.5, 0.35, 0.45, 0.35, 0.55, 0.3, 0.6, 0.65, 0.55, 0.5, 0.7, 0.7, 0.6, 0.65, 0.55, 0.25, 0.45, 0.75, 0.35, 0.5, 0.4, 0.4, 0.65, 0.6, 0.35, 0.4, 0.6, 0.45, 0.55, 0.45, 0.6, 0.3, 0.6, 0.65, 0.5, 0.6, 0.7, 0.35, 0.4, 0.6, 0.55, 0.65, 0.65, 0.65, 0.45, 0.6, 0.55, 0.55, 0.5, 0.35, 0.45, 0.4, 0.45, 0.45, 0.5, 0.45, 0.4, 0.35, 0.5, 0.45, 0.65, 0.2, 0.3, 0.45, 0.4, 0.45, 0.45, 0.35, 0.5, 0.45, 0.55, 0.65, 0.7, 0.65, 0.5, 0.5, 0.6, 0.4, 0.5, 0.45, 0.4, 0.45, 0.35, 0.45, 0.6, 0.3, 0.4, 0.35, 0.65, 0.5, 0.45, 0.55, 0.45, 0.35, 0.6, 0.55, 0.5, 0.45, 0.55, 0.5, 0.45, 0.6, 0.6, 0.4, 0.65, 0.55, 0.5, 0.35, 0.55, 0.45, 0.55, 0.35, 0.6, 0.35, 0.5, 0.55, 0.5, 0.35, 0.5, 0.6, 0.5, 0.35, 0.45, 0.4, 0.45, 0.5, 0.4, 0.5, 0.5, 0.6, 0.45, 0.55, 0.45, 0.5, 0.35, 0.4, 0.7, 0.65, 0.55, 0.6, 0.55, 0.45, 0.45, 0.7, 0.6, 0.8, 0.35, 0.65, 0.45, 0.35, 0.5, 0.5, 0.4, 0.5, 0.45, 0.35, 0.35, 0.45, 0.5, 0.4, 0.3, 0.7, 0.45, 0.55, 0.5, 0.6, 0.6, 0.5, 0.55, 0.6, 0.45, 0.55, 0.35, 0.4, 0.6, 0.3, 0.45, 0.5, 0.65, 0.45, 0.55, 0.35, 0.65, 0.5, 0.6, 0.55, 0.5, 0.6, 0.5, 0.45, 0.6, 0.6, 0.6, 0.55, 0.4, 0.45, 0.45, 0.6, 0.35, 0.35, 0.4, 0.65, 0.6, 0.6, 0.85, 0.65, 0.5, 0.35, 0.75, 0.6, 0.5, 0.45, 0.5, 0.55, 0.75, 0.3, 0.55, 0.6, 0.35, 0.45, 0.45, 0.6, 0.45, 0.4, 0.7, 0.6, 0.55, 0.4, 0.5, 0.55, 0.5, 0.45, 0.6, 0.55, 0.3, 0.5, 0.5, 0.45, 0.5, 0.65, 0.6, 0.3, 0.45, 0.6, 0.4, 0.5, 0.5, 0.7, 0.6, 0.6, 0.45, 0.5, 0.6, 0.3, 0.3, 0.4, 0.5, 0.4, 0.65, 0.35, 0.6, 0.45, 0.65, 0.45, 0.65, 0.5, 0.6, 0.55, 0.5, 0.5, 0.45, 0.3, 0.45, 0.5, 0.45, 0.35, 0.2, 0.65, 0.55, 0.55, 0.45, 0.6, 0.6, 0.4, 0.45, 0.5, 0.6, 0.6, 0.35, 0.5, 0.55, 0.45, 0.65, 0.4, 0.5, 0.35, 0.45, 0.55, 0.3, 0.7, 0.7, 0.8, 0.5, 0.6, 0.55, 0.55, 0.7, 0.45, 0.5, 0.5, 0.55, 0.4, 0.4, 0.55, 0.5, 0.55, 0.6, 0.55, 0.45, 0.5, 0.55, 0.6, 0.55, 0.6, 0.45, 0.6, 0.5, 0.5, 0.55, 0.5, 0.65, 0.45, 0.65, 0.45, 0.55, 0.4, 0.55, 0.35, 0.65, 0.25, 0.5, 0.4, 0.5, 0.4, 0.25, 0.3, 0.45, 0.4, 0.45, 0.5, 0.55, 0.4, 0.6, 0.35, 0.35, 0.4, 0.3, 0.2, 0.6, 0.4, 0.5, 0.4, 0.4, 0.6, 0.7, 0.3, 0.45, 0.4, 0.6, 0.5, 0.55, 0.6, 0.4, 0.6, 0.5, 0.4, 0.5, 0.5, 0.65, 0.75, 0.6, 0.75, 0.45, 0.45, 0.45, 0.4, 0.45, 0.6, 0.3, 0.55, 0.5, 0.45, 0.45, 0.65, 0.3, 0.45, 0.5, 0.4, 0.45, 0.45, 0.7, 0.7, 0.5, 0.45, 0.6, 0.5, 0.5, 0.7, 0.5, 0.65, 0.6, 0.4, 0.5, 0.5, 0.55, 0.45, 0.55, 0.4, 0.5, 0.35, 0.5, 0.7, 0.55, 0.45, 0.6, 0.4, 0.3, 0.4, 0.35, 0.45, 0.65, 0.5, 0.35, 0.6, 0.4, 0.65, 0.4, 0.5, 0.6, 0.55, 0.35, 0.45, 0.55, 0.5, 0.5, 0.5, 0.45, 0.4, 0.4, 0.55, 0.7, 0.45, 0.55, 0.4, 0.6, 0.5, 0.5, 0.6, 0.45, 0.5, 0.65, 0.35, 0.55, 0.4, 0.45, 0.5, 0.65, 0.45, 0.35, 0.45, 0.55, 0.55, 0.5, 0.45, 0.55, 0.55, 0.4, 0.3, 0.35, 0.2, 0.5, 0.65, 0.7, 0.5, 0.6, 0.45, 0.55, 0.6, 0.55, 0.5, 0.7, 0.5, 0.5, 0.6, 0.45, 0.4, 0.5, 0.55, 0.65, 0.5, 0.4, 0.4, 0.3, 0.5, 0.5, 0.7, 0.5, 0.25, 0.45, 0.35, 0.4, 0.5, 0.4, 0.35, 0.5, 0.65, 0.55, 0.5, 0.55, 0.45, 0.65, 0.5, 0.35, 0.35, 0.65, 0.5, 0.5, 0.35, 0.55, 0.5, 0.45, 0.55, 0.6, 0.4, 0.4, 0.45, 0.45, 0.55, 0.85, 0.55, 0.5, 0.6, 0.4, 0.55, 0.45, 0.55, 0.4, 0.65, 0.55, 0.65, 0.4, 0.65, 0.35, 0.55, 0.45, 0.6, 0.5, 0.45, 0.4, 0.4, 0.5, 0.65, 0.5, 0.65, 0.4, 0.45, 0.6, 0.65, 0.6, 0.6, 0.5, 0.5, 0.4, 0.45, 0.75, 0.55, 0.65, 0.5, 0.45, 0.55, 0.35, 0.5, 0.5, 0.65, 0.5, 0.3, 0.65, 0.4, 0.35, 0.5, 0.7, 0.45, 0.5, 0.45, 0.35, 0.55, 0.55, 0.55, 0.25, 0.6, 0.35, 0.5, 0.5, 0.55, 0.6, 0.55, 0.6, 0.45, 0.45, 0.4, 0.6, 0.6, 0.55, 0.75, 0.55, 0.25, 0.4, 0.55, 0.45, 0.6, 0.35, 0.55, 0.35, 0.55, 0.45, 0.65, 0.45, 0.65, 0.35, 0.6, 0.45, 0.5, 0.45, 0.55, 0.5, 0.5, 0.45, 0.45, 0.5, 0.35, 0.5, 0.6, 0.55, 0.45, 0.45, 0.45, 0.25, 0.4, 0.6, 0.55, 0.25, 0.5, 0.5, 0.5, 0.55, 0.75, 0.5, 0.6, 0.55, 0.5, 0.5, 0.45, 0.6, 0.35, 0.35, 0.3, 0.5, 0.55, 0.65, 0.55, 0.4, 0.4, 0.5, 0.65, 0.55, 0.55, 0.5, 0.65, 0.65, 0.55, 0.25, 0.6, 0.4, 0.55, 0.35, 0.35, 0.7, 0.5, 0.35, 0.45, 0.55, 0.5, 0.4, 0.55, 0.25, 0.6, 0.5, 0.45, 0.4, 0.5, 0.5, 0.5, 0.55, 0.5, 0.5, 0.45, 0.4, 0.7, 0.6, 0.6, 0.35, 0.65, 0.55, 0.6, 0.55, 0.6, 0.4, 0.6, 0.45, 0.5, 0.6, 0.45, 0.4, 0.55, 0.65, 0.6, 0.6, 0.4, 0.55, 0.6, 0.65, 0.55, 0.55, 0.65, 0.5, 0.6, 0.65, 0.4, 0.55, 0.65, 0.6, 0.6, 0.55, 0.5, 0.3, 0.45, 0.55, 0.45, 0.6, 0.35, 0.45, 0.5, 0.55, 0.55, 0.5, 0.55, 0.55, 0.6, 0.65, 0.5, 0.25, 0.35, 0.65, 0.6, 0.45, 0.5, 0.5, 0.45, 0.3, 0.55, 0.5, 0.5, 0.25, 0.3, 0.4, 0.5, 0.4, 0.4, 0.35, 0.65, 0.4, 0.6, 0.55, 0.4, 0.6, 0.4, 0.5, 0.45, 0.5, 0.45, 0.7, 0.45, 0.45, 0.45, 0.4, 0.6, 0.35, 0.5, 0.65, 0.45, 0.35, 0.5, 0.25, 0.5, 0.3, 0.25, 0.5, 0.35, 0.4, 0.65, 0.5, 0.35, 0.6, 0.8, 0.55, 0.4, 0.45, 0.65, 0.8, 0.65, 0.4, 0.5, 0.6, 0.5, 0.5, 0.6, 0.6, 0.8, 0.4, 0.45, 0.5, 0.5, 0.5, 0.5, 0.65, 0.5, 0.4, 0.5, 0.4, 0.5, 0.45, 0.3, 0.45, 0.3, 0.4, 0.65, 0.55, 0.25, 0.55, 0.35, 0.7, 0.5, 0.55, 0.6, 0.65, 0.3, 0.6, 0.35, 0.45, 0.35, 0.55, 0.55, 0.4, 0.6, 0.7, 0.4, 0.65, 0.2, 0.55, 0.4, 0.55, 0.6, 0.6, 0.45, 0.5, 0.55, 0.55, 0.4, 0.45, 0.4, 0.45, 0.7, 0.45, 0.5, 0.55, 0.8, 0.55, 0.5, 0.45, 0.3, 0.5, 0.4, 0.45, 0.55, 0.45, 0.6, 0.55, 0.4, 0.3, 0.4, 0.4, 0.55, 0.35, 0.65, 0.6, 0.4, 0.5, 0.55, 0.45, 0.5, 0.4, 0.5, 0.55, 0.65, 0.45, 0.55, 0.55, 0.55, 0.5, 0.65, 0.5, 0.45, 0.65, 0.25, 0.45, 0.55, 0.65, 0.65, 0.65, 0.45, 0.35, 0.4, 0.4, 0.45, 0.35, 0.6, 0.45, 0.25, 0.5, 0.5, 0.35, 0.6, 0.55, 0.6, 0.5, 0.7, 0.5, 0.5, 0.55, 0.45, 0.75, 0.75, 0.3, 0.6, 0.25, 0.55, 0.25, 0.6, 0.25, 0.45, 0.5, 0.55, 0.6, 0.65, 0.6, 0.45, 0.7, 0.5, 0.4, 0.7, 0.6, 0.5, 0.55, 0.55, 0.45, 0.35, 0.4, 0.45, 0.6, 0.45, 0.6, 0.55, 0.5, 0.6, 0.6, 0.45, 0.5, 0.45, 0.3, 0.4, 0.6, 0.45, 0.5, 0.6, 0.4, 0.35, 0.4, 0.35, 0.25, 0.6, 0.55, 0.6, 0.5, 0.4, 0.65, 0.4, 0.6, 0.3, 0.45, 0.5, 0.7, 0.5, 0.5, 0.7, 0.6, 0.45, 0.4, 0.4, 0.15, 0.8, 0.45, 0.6, 0.3, 0.65, 0.5, 0.35, 0.4, 0.55, 0.35, 0.5, 0.7, 0.5, 0.5, 0.5, 0.7, 0.55, 0.6, 0.55, 0.6, 0.4, 0.55, 0.4, 0.7, 0.5, 0.7, 0.6, 0.45, 0.35, 0.6, 0.45, 0.4, 0.6, 0.4, 0.7, 0.4, 0.4, 0.55, 0.5, 0.4, 0.4, 0.55, 0.55, 0.35, 0.45, 0.5, 0.5, 0.45, 0.4, 0.45, 0.55, 0.7, 0.55, 0.5, 0.55, 0.4, 0.4, 0.75, 0.5, 0.35, 0.5, 0.4, 0.5, 0.5, 0.35, 0.55, 0.65, 0.65, 0.7, 0.6, 0.7, 0.4, 0.35, 0.6, 0.6, 0.25, 0.5, 0.7, 0.55, 0.5, 0.55, 0.45, 0.5, 0.6, 0.4, 0.45, 0.55, 0.35, 0.5, 0.6, 0.55, 0.45, 0.55, 0.45, 0.5, 0.6, 0.45, 0.55, 0.35, 0.5, 0.65, 0.5, 0.45, 0.55, 0.55, 0.65, 0.6, 0.55, 0.55, 0.4, 0.4, 0.45, 0.45, 0.6, 0.55, 0.5, 0.7, 0.25, 0.4, 0.45, 0.4, 0.45, 0.6, 0.35, 0.5, 0.55, 0.45, 0.35, 0.55, 0.45, 0.4, 0.55, 0.25, 0.4, 0.65, 0.45, 0.3, 0.65, 0.5, 0.35, 0.65, 0.5, 0.4, 0.4, 0.5, 0.35, 0.55, 0.55, 0.35, 0.65, 0.55, 0.55, 0.55, 0.45, 0.7, 0.5, 0.45, 0.4, 0.35, 0.45, 0.4, 0.6, 0.55, 0.45, 0.4, 0.5, 0.45, 0.35, 0.5, 0.6, 0.7, 0.65, 0.4, 0.55, 0.3, 0.5, 0.6, 0.35, 0.4, 0.4, 0.65, 0.65, 0.6, 0.55, 0.5, 0.4, 0.55, 0.65, 0.5, 0.35, 0.4, 0.45, 0.6, 0.4, 0.6, 0.5, 0.6, 0.4, 0.6, 0.6, 0.35, 0.6, 0.4, 0.3, 0.4, 0.3, 0.35, 0.35, 0.75, 0.55, 0.5, 0.5, 0.6, 0.4, 0.55, 0.6, 0.45, 0.55, 0.7, 0.55, 0.5, 0.6, 0.55, 0.35, 0.35, 0.4, 0.65, 0.45, 0.55, 0.35, 0.55, 0.4, 0.6, 0.55, 0.65, 0.55, 0.35, 0.5, 0.5, 0.4, 0.55, 0.4, 0.45, 0.5, 0.65, 0.55, 0.65, 0.4, 0.55, 0.35, 0.7, 0.55, 0.45, 0.4, 0.5, 0.55, 0.35, 0.4, 0.4, 0.5, 0.75, 0.25, 0.45, 0.35, 0.7, 0.4, 0.7, 0.5, 0.5, 0.4, 0.35, 0.35, 0.55, 0.6, 0.5, 0.25, 0.4, 0.55, 0.3, 0.65, 0.3, 0.6, 0.45, 0.25, 0.55, 0.35, 0.5, 0.55, 0.75, 0.55, 0.6, 0.45, 0.45, 0.75, 0.7, 0.6, 0.45, 0.5, 0.3, 0.5, 0.65, 0.5, 0.6, 0.5, 0.55, 0.55, 0.5, 0.5, 0.5, 0.45, 0.35, 0.55, 0.55, 0.7, 0.35, 0.35, 0.55, 0.2, 0.45, 0.45, 0.55, 0.45, 0.55, 0.5, 0.45, 0.6, 0.4, 0.45, 0.4, 0.65, 0.6, 0.5, 0.65, 0.7, 0.45, 0.5, 0.35, 0.55, 0.35, 0.6, 0.4, 0.45, 0.6, 0.55, 0.65, 0.45, 0.45, 0.7, 0.55, 0.35, 0.55, 0.35, 0.35, 0.5, 0.3, 0.35, 0.6, 0.5, 0.4, 0.75, 0.35, 0.6, 0.45, 0.3, 0.4, 0.5, 0.55, 0.5, 0.6, 0.5, 0.55, 0.35, 0.4, 0.5, 0.4, 0.55, 0.7, 0.4, 0.3, 0.65, 0.45, 0.45, 0.6, 0.2, 0.35, 0.4, 0.6, 0.45, 0.5, 0.55, 0.4, 0.55, 0.55, 0.5, 0.45, 0.5, 0.45, 0.6, 0.4, 0.6, 0.5, 0.65, 0.55, 0.55, 0.55, 0.5, 0.5, 0.55, 0.5, 0.4, 0.55, 0.7, 0.55, 0.5, 0.55, 0.3, 0.4, 0.65, 0.55, 0.6, 0.35, 0.35, 0.7, 0.55, 0.35, 0.6, 0.5, 0.4, 0.6, 0.75, 0.2, 0.55, 0.45, 0.45, 0.5, 0.5, 0.4, 0.5, 0.55, 0.4, 0.55, 0.45, 0.45, 0.55, 0.4, 0.55, 0.45, 0.4, 0.45, 0.25, 0.45, 0.5, 0.7, 0.5, 0.55, 0.45, 0.5, 0.7, 0.5, 0.6, 0.75, 0.55, 0.45, 0.65, 0.55, 0.45, 0.5, 0.45, 0.45, 0.4, 0.6, 0.5, 0.55, 0.4, 0.65, 0.65, 0.5, 0.5, 0.55, 0.75, 0.45, 0.4, 0.6, 0.65, 0.55, 0.55, 0.35, 0.6, 0.55, 0.35, 0.7, 0.4, 0.35, 0.6, 0.55, 0.45, 0.4, 0.55, 0.4, 0.6, 0.6, 0.65, 0.5, 0.45, 0.65, 0.35, 0.4, 0.45, 0.85, 0.6, 0.6, 0.55, 0.4, 0.55, 0.65, 0.15, 0.6, 0.65, 0.6, 0.5, 0.45, 0.35, 0.4, 0.6, 0.65, 0.45, 0.7, 0.6, 0.5, 0.55, 0.55, 0.45, 0.55, 0.45, 0.5, 0.6, 0.7, 0.4, 0.35, 0.35, 0.5, 0.6, 0.65, 0.35, 0.4, 0.7, 0.4, 0.55, 0.65, 0.55, 0.7, 0.55, 0.4, 0.55, 0.45, 0.5, 0.45, 0.65, 0.4, 0.65, 0.45, 0.4, 0.45, 0.65, 0.4, 0.4, 0.5, 0.5, 0.35, 0.6, 0.45, 0.5, 0.55, 0.45, 0.4, 0.55, 0.55, 0.7, 0.45, 0.35, 0.6, 0.7, 0.6, 0.35, 0.7, 0.6, 0.3, 0.55, 0.4, 0.65, 0.55, 0.35, 0.65, 0.55, 0.45, 0.55, 0.5, 0.4, 0.55, 0.45, 0.35, 0.4, 0.65, 0.55, 0.45, 0.5, 0.5, 0.45, 0.65, 0.7, 0.45, 0.7, 0.6, 0.45, 0.5, 0.65, 0.45, 0.7, 0.45, 0.6, 0.3, 0.55, 0.55, 0.5, 0.6, 0.45, 0.5, 0.2, 0.5, 0.45, 0.55, 0.55, 0.4, 0.55, 0.55, 0.45, 0.4, 0.35, 0.65, 0.5, 0.5, 0.7, 0.65, 0.45, 0.6, 0.5, 0.45, 0.65, 0.5, 0.55, 0.35, 0.7, 0.65, 0.45, 0.55, 0.65, 0.45, 0.3, 0.6, 0.5, 0.35, 0.6, 0.6, 0.45, 0.45, 0.35, 0.6, 0.45, 0.55, 0.55, 0.45, 0.35, 0.5, 0.55, 0.45, 0.4, 0.65, 0.45, 0.55, 0.5, 0.35, 0.7, 0.6, 0.65, 0.55, 0.4, 0.55, 0.6, 0.45, 0.65, 0.55, 0.4, 0.35, 0.6, 0.45, 0.35, 0.5, 0.6, 0.4, 0.7, 0.7, 0.35, 0.6, 0.4, 0.55, 0.6, 0.6, 0.45, 0.45, 0.7, 0.45, 0.55, 0.6, 0.3, 0.4, 0.55, 0.45, 0.4, 0.5, 0.55, 0.6, 0.6, 0.4, 0.6, 0.45, 0.55, 0.55, 0.55, 0.65, 0.45, 0.5, 0.3, 0.45, 0.25, 0.6, 0.4, 0.65, 0.6, 0.5, 0.6, 0.5, 0.5, 0.35, 0.6, 0.6, 0.5, 0.6, 0.5, 0.5, 0.5, 0.5, 0.45, 0.45, 0.8, 0.35, 0.25, 0.3, 0.45, 0.55, 0.3, 0.6, 0.5, 0.6, 0.65, 0.45, 0.45, 0.65, 0.65, 0.4, 0.45, 0.35, 0.4, 0.6, 0.55, 0.3, 0.35, 0.45, 0.5, 0.6, 0.5, 0.45, 0.55, 0.55, 0.55, 0.4, 0.65, 0.35, 0.4, 0.5, 0.5, 0.35, 0.4, 0.25, 0.55, 0.5, 0.55, 0.55, 0.4, 0.5, 0.6, 0.6, 0.45, 0.35, 0.35, 0.45, 0.6, 0.65, 0.4, 0.65, 0.5, 0.6, 0.5, 0.55, 0.45, 0.55, 0.6, 0.4, 0.45, 0.4, 0.6, 0.4, 0.5, 0.4, 0.4, 0.55, 0.55, 0.35, 0.65, 0.55, 0.6, 0.45, 0.3, 0.5, 0.4, 0.65, 0.45, 0.2, 0.3, 0.5, 0.35, 0.6, 0.4, 0.65, 0.4, 0.7, 0.5, 0.45, 0.65, 0.6, 0.45, 0.55, 0.45, 0.45, 0.65, 0.6, 0.5, 0.7, 0.45, 0.45, 0.55, 0.45, 0.6, 0.45, 0.5, 0.6, 0.5, 0.45, 0.55, 0.4, 0.5, 0.3, 0.4, 0.5, 0.7, 0.6, 0.5, 0.65, 0.4, 0.55, 0.8, 0.5, 0.35, 0.5, 0.55, 0.55, 0.5, 0.55, 0.55, 0.5, 0.5, 0.65, 0.6, 0.65, 0.5, 0.4, 0.45, 0.6, 0.55, 0.6, 0.55, 0.6, 0.45, 0.55, 0.75, 0.5, 0.5, 0.35, 0.6, 0.65, 0.4, 0.7, 0.35, 0.35, 0.55, 0.55, 0.55, 0.35, 0.65, 0.65, 0.25, 0.5, 0.4, 0.5, 0.3, 0.55, 0.5, 0.7, 0.55, 0.45, 0.45, 0.25, 0.35, 0.7, 0.45, 0.4, 0.3, 0.55, 0.6, 0.65, 0.5, 0.6, 0.45, 0.35, 0.45, 0.55, 0.5, 0.6, 0.55, 0.35, 0.55, 0.6, 0.6, 0.45, 0.6, 0.45, 0.6, 0.45, 0.45, 0.55, 0.45, 0.5, 0.6, 0.55, 0.55, 0.6, 0.4, 0.75, 0.45, 0.45, 0.4, 0.35, 0.7, 0.65, 0.4, 0.5, 0.55, 0.45, 0.75, 0.6, 0.65, 0.55, 0.55, 0.55, 0.35, 0.7, 0.5, 0.45, 0.35, 0.6, 0.65, 0.45, 0.5, 0.6, 0.4, 0.5, 0.35, 0.6, 0.75, 0.55, 0.25, 0.2, 0.45, 0.65, 0.55, 0.35, 0.65, 0.4, 0.6, 0.45, 0.4, 0.6, 0.45, 0.5, 0.45, 0.45, 0.45, 0.45, 0.5, 0.4, 0.6, 0.55, 0.5, 0.45, 0.55, 0.45, 0.4, 0.55, 0.4, 0.6, 0.45, 0.6, 0.6, 0.5, 0.45, 0.45, 0.35, 0.55, 0.65, 0.5, 0.6, 0.55, 0.5, 0.6, 0.45, 0.4, 0.5, 0.55, 0.35, 0.5, 0.45, 0.4, 0.55, 0.55, 0.65, 0.5, 0.7, 0.55, 0.4, 0.6, 0.6, 0.55, 0.45, 0.4, 0.75, 0.35, 0.5, 0.4, 0.4, 0.4, 0.4, 0.5, 0.6, 0.3, 0.4, 0.4, 0.5, 0.7, 0.5, 0.45, 0.65, 0.6, 0.45, 0.45, 0.5, 0.6, 0.2, 0.45, 0.45, 0.65, 0.5, 0.45, 0.7, 0.75, 0.55, 0.55, 0.4, 0.25, 0.55, 0.45, 0.6, 0.55, 0.55, 0.5, 0.5, 0.4, 0.55, 0.55, 0.35, 0.45, 0.45, 0.25, 0.7, 0.5, 0.5, 0.45, 0.55, 0.5, 0.6, 0.6, 0.5, 0.55, 0.7, 0.6, 0.45, 0.45, 0.35, 0.55, 0.65, 0.35, 0.55, 0.5, 0.5, 0.35, 0.65, 0.55, 0.55, 0.45, 0.5, 0.7, 0.45, 0.75, 0.5, 0.55, 0.4, 0.7, 0.45, 0.45, 0.5, 0.5, 0.25, 0.55, 0.55, 0.55, 0.3, 0.35, 0.45, 0.5, 0.4, 0.6, 0.4, 0.55, 0.4, 0.7, 0.5, 0.7, 0.6, 0.5, 0.65, 0.5, 0.45, 0.25, 0.5, 0.55, 0.45, 0.45, 0.55, 0.45, 0.4, 0.45, 0.6, 0.45, 0.5, 0.45, 0.5, 0.4, 0.5, 0.35, 0.6, 0.45, 0.4, 0.4, 0.65, 0.35, 0.45, 0.65, 0.45, 0.6, 0.5, 0.5, 0.5, 0.5, 0.45, 0.55, 0.45, 0.55, 0.35, 0.55, 0.6, 0.3, 0.45, 0.8, 0.5, 0.4, 0.5, 0.55, 0.5, 0.45, 0.65, 0.45, 0.4, 0.65, 0.45, 0.4, 0.7, 0.6, 0.55, 0.35, 0.35, 0.4, 0.25, 0.35, 0.65, 0.55, 0.4, 0.3, 0.6, 0.65, 0.5, 0.35, 0.75, 0.6, 0.45, 0.45, 0.55, 0.55, 0.6, 0.5]\n"
          ],
          "name": "stdout"
        }
      ]
    },
    {
      "cell_type": "code",
      "metadata": {
        "colab_type": "code",
        "outputId": "a38187f1-852f-4480-d8ec-42047bcba975",
        "id": "JdES8jXz8kAG",
        "colab": {
          "base_uri": "https://localhost:8080/",
          "height": 265
        }
      },
      "source": [
        "import matplotlib.pyplot as plt\n",
        "import seaborn as sns\n",
        "fix, ax = plt.subplots()\n",
        "for sample in [sample_means_small, sample_means_large]:\n",
        "  sns.distplot(sample)"
      ],
      "execution_count": 0,
      "outputs": [
        {
          "output_type": "display_data",
          "data": {
            "image/png": "[encoded data removed]",
            "text/plain": [
              "<Figure size 432x288 with 1 Axes>"
            ]
          },
          "metadata": {
            "tags": []
          }
        }
      ]
    },
    {
      "cell_type": "markdown",
      "metadata": {
        "id": "EYqo5vZZSFUr",
        "colab_type": "text"
      },
      "source": [
        "## Standard Error of the Mean\n",
        "\n",
        "What does it mean to \"estimate\" the Population mean?"
      ]
    },
    {
      "cell_type": "code",
      "metadata": {
        "id": "puGXH6vbSIE4",
        "colab_type": "code",
        "colab": {}
      },
      "source": [
        ""
      ],
      "execution_count": 0,
      "outputs": []
    },
    {
      "cell_type": "markdown",
      "metadata": {
        "id": "nfdQf8QYUUmw",
        "colab_type": "text"
      },
      "source": [
        "## Build and Interpret a Confidence Interval\n",
        "\n",
        "<img src=\"https://github.com/ryanallredblog/ryanallredblog.github.io/blob/master/img/Confidence_Interval.png?raw=true\" width=400>"
      ]
    },
    {
      "cell_type": "code",
      "metadata": {
        "id": "tBx71Kf0UjT3",
        "colab_type": "code",
        "colab": {}
      },
      "source": [
        "from scipy import stats\n",
        "\n",
        "def confidence_interval(data, confidence=0.95):\n",
        "  \"\"\"\n",
        "  Calculate a confidence interval around a sample mean for given data.\n",
        "  Using t-distribution and two-tailed test, default 95% confidence. \n",
        "  \n",
        "  Arguments:\n",
        "    data - iterable (list or numpy array) of sample observations\n",
        "    confidence - level of confidence for the interval\n",
        "  \n",
        "  Returns:\n",
        "    tuple of (mean, lower bound, upper bound)\n",
        "  \"\"\"\n",
        "  data = np.array(data)\n",
        "  mean = np.mean(data)\n",
        "  n = len(data)\n",
        "  stderr = np.std(data, ddof=1)/np.sqrt(n)\n",
        "  moe = stderr * stats.t.ppf((1 + confidence) / 2.0, n - 1)\n",
        "  return (mean - moe, mean, mean + moe)"
      ],
      "execution_count": 0,
      "outputs": []
    },
    {
      "cell_type": "code",
      "metadata": {
        "id": "sdLZQJcIwfPJ",
        "colab_type": "code",
        "colab": {}
      },
      "source": [
        "# 95% confidence level\n",
        "\n",
        "(1 + .95) / 2.0\n",
        "\n",
        "1.95 / 2.0\n",
        "\n",
        "= 97.5\n",
        "\n",
        "# We want the t-statistic that corresponds to that probability cut off for a \n",
        "# given t distribution (a distribution with a certain degrees of freedom)\n",
        "# stats.t.ppf is just looking up the corresponding t statistic"
      ],
      "execution_count": 0,
      "outputs": []
    },
    {
      "cell_type": "markdown",
      "metadata": {
        "id": "C4rtc8luVUAK",
        "colab_type": "text"
      },
      "source": [
        "## Graphically Represent a Confidence Interval"
      ]
    },
    {
      "cell_type": "code",
      "metadata": {
        "id": "pz6F9_3_VmKr",
        "colab_type": "code",
        "outputId": "add3e18e-3a1c-4508-a0ab-0fd99df79043",
        "colab": {
          "base_uri": "https://localhost:8080/",
          "height": 104
        }
      },
      "source": [
        "coinflips_100 = np.random.binomial(n=1, p=.5, size=100)\n",
        "coinflips_100"
      ],
      "execution_count": 0,
      "outputs": [
        {
          "output_type": "execute_result",
          "data": {
            "text/plain": [
              "array([1, 0, 1, 1, 0, 1, 1, 1, 1, 1, 0, 1, 1, 0, 0, 1, 1, 1, 1, 1, 1, 0,\n",
              "       1, 1, 0, 1, 1, 1, 0, 0, 0, 1, 1, 0, 0, 1, 0, 1, 1, 1, 1, 0, 0, 1,\n",
              "       0, 1, 0, 0, 1, 1, 0, 1, 0, 1, 0, 0, 0, 1, 1, 0, 0, 0, 1, 0, 1, 0,\n",
              "       1, 0, 1, 1, 0, 0, 0, 1, 1, 1, 1, 0, 1, 1, 1, 0, 1, 1, 0, 1, 1, 0,\n",
              "       1, 0, 1, 1, 1, 1, 0, 1, 1, 0, 1, 0])"
            ]
          },
          "metadata": {
            "tags": []
          },
          "execution_count": 71
        }
      ]
    },
    {
      "cell_type": "code",
      "metadata": {
        "id": "a2j2OrEByePB",
        "colab_type": "code",
        "outputId": "a49e064a-c3be-4a99-8fd1-978867790035",
        "colab": {
          "base_uri": "https://localhost:8080/",
          "height": 35
        }
      },
      "source": [
        "confidence_interval(coinflips_100)"
      ],
      "execution_count": 0,
      "outputs": [
        {
          "output_type": "execute_result",
          "data": {
            "text/plain": [
              "(0.5023039108049319, 0.6, 0.6976960891950681)"
            ]
          },
          "metadata": {
            "tags": []
          },
          "execution_count": 78
        }
      ]
    },
    {
      "cell_type": "code",
      "metadata": {
        "id": "ma_gv6QrzodB",
        "colab_type": "code",
        "outputId": "7514ee6e-82f5-4119-94f7-07a61c61f470",
        "colab": {
          "base_uri": "https://localhost:8080/",
          "height": 35
        }
      },
      "source": [
        "coinflips_100 = np.random.binomial(n=1, p=.5, size=100)\n",
        "coinflips_100\n",
        "confidence_interval(coinflips_100)"
      ],
      "execution_count": 0,
      "outputs": [
        {
          "output_type": "execute_result",
          "data": {
            "text/plain": [
              "(0.43046898750173684, 0.53, 0.6295310124982633)"
            ]
          },
          "metadata": {
            "tags": []
          },
          "execution_count": 79
        }
      ]
    },
    {
      "cell_type": "code",
      "metadata": {
        "id": "ckvyK652zxSK",
        "colab_type": "code",
        "outputId": "96412bf9-2452-45b9-9c23-889372fa6e25",
        "colab": {
          "base_uri": "https://localhost:8080/",
          "height": 265
        }
      },
      "source": [
        "import seaborn as sns\n",
        "\n",
        "coinflips_42 = np.random.binomial(n=1, p=.5, size=42)\n",
        "sns.kdeplot(coinflips_42)\n",
        "CI = confidence_interval(coinflips_42)\n",
        "plt.axvline(x=CI[0], color='red')\n",
        "plt.axvline(x=CI[2], color='red')\n",
        "plt.axvline(x=CI[1], color='k');"
      ],
      "execution_count": 0,
      "outputs": [
        {
          "output_type": "display_data",
          "data": {
            "image/png": "[encoded data removed]",
            "text/plain": [
              "<Figure size 432x288 with 1 Axes>"
            ]
          },
          "metadata": {
            "tags": []
          }
        }
      ]
    },
    {
      "cell_type": "markdown",
      "metadata": {
        "id": "Mu4cJ5iu0nBf",
        "colab_type": "text"
      },
      "source": [
        "### Matplotlib Error Bars can also be userful for visualizing confidence intervals: \n",
        "\n",
        "<https://matplotlib.org/3.1.1/api/_as_gen/matplotlib.pyplot.errorbar.html>"
      ]
    },
    {
      "cell_type": "markdown",
      "metadata": {
        "id": "_oy0uoBGeoEb",
        "colab_type": "text"
      },
      "source": [
        "## Relationship between Confidence Intervals and T-tests\n",
        "\n",
        "Confidence Interval == Bounds of statistical significance for our t-test\n",
        "\n",
        "A sample mean that falls inside of our confidence interval will \"FAIL TO REJECT\" our null hypothesis\n",
        "\n",
        "A sample mean that falls outside of our confidence interval will \"REJECT\" our null hypothesis"
      ]
    },
    {
      "cell_type": "code",
      "metadata": {
        "id": "izIyVavzfCXS",
        "colab_type": "code",
        "colab": {}
      },
      "source": [
        "from scipy.stats import t, ttest_1samp"
      ],
      "execution_count": 0,
      "outputs": []
    },
    {
      "cell_type": "code",
      "metadata": {
        "id": "Y7HwdMwDfL1N",
        "colab_type": "code",
        "outputId": "9c81c744-c3fd-485a-f715-fa5ff8c19088",
        "colab": {
          "base_uri": "https://localhost:8080/",
          "height": 55
        }
      },
      "source": [
        "import numpy as np\n",
        "\n",
        "coinflip_means = []\n",
        "for x in range(0,100):\n",
        "  coinflips = np.random.binomial(n=1, p=.5, size=30)\n",
        "  coinflip_means.append(coinflips.mean())\n",
        "\n",
        "print(coinflip_means)"
      ],
      "execution_count": 0,
      "outputs": [
        {
          "output_type": "stream",
          "text": [
            "[0.6, 0.3333333333333333, 0.4, 0.43333333333333335, 0.23333333333333334, 0.3, 0.4666666666666667, 0.5666666666666667, 0.5666666666666667, 0.7, 0.5333333333333333, 0.5333333333333333, 0.5, 0.4, 0.4666666666666667, 0.5333333333333333, 0.5, 0.6, 0.4, 0.5666666666666667, 0.5, 0.5, 0.5333333333333333, 0.4, 0.4, 0.7333333333333333, 0.6333333333333333, 0.7, 0.5, 0.5666666666666667, 0.43333333333333335, 0.5333333333333333, 0.5666666666666667, 0.43333333333333335, 0.6, 0.4666666666666667, 0.4666666666666667, 0.4666666666666667, 0.4, 0.6333333333333333, 0.43333333333333335, 0.4666666666666667, 0.43333333333333335, 0.6333333333333333, 0.3333333333333333, 0.6333333333333333, 0.43333333333333335, 0.5, 0.5333333333333333, 0.4666666666666667, 0.43333333333333335, 0.4666666666666667, 0.43333333333333335, 0.43333333333333335, 0.6, 0.5333333333333333, 0.4, 0.5666666666666667, 0.43333333333333335, 0.6333333333333333, 0.4666666666666667, 0.6333333333333333, 0.5, 0.6333333333333333, 0.6666666666666666, 0.4, 0.6666666666666666, 0.5666666666666667, 0.36666666666666664, 0.5, 0.5333333333333333, 0.43333333333333335, 0.5333333333333333, 0.4666666666666667, 0.43333333333333335, 0.43333333333333335, 0.3333333333333333, 0.5666666666666667, 0.43333333333333335, 0.4666666666666667, 0.36666666666666664, 0.4666666666666667, 0.5, 0.6666666666666666, 0.43333333333333335, 0.5, 0.36666666666666664, 0.5, 0.5, 0.6, 0.7, 0.4666666666666667, 0.6, 0.36666666666666664, 0.5333333333333333, 0.4666666666666667, 0.5333333333333333, 0.36666666666666664, 0.6, 0.43333333333333335]\n"
          ],
          "name": "stdout"
        }
      ]
    },
    {
      "cell_type": "code",
      "metadata": {
        "id": "nQDo-ZXlfOvR",
        "colab_type": "code",
        "outputId": "fca3ced9-739f-45ef-aef6-a383d4ddbb7f",
        "colab": {
          "base_uri": "https://localhost:8080/",
          "height": 35
        }
      },
      "source": [
        "# Sample Size\n",
        "n = len(coinflip_means)\n",
        "# Degrees of Freedom\n",
        "dof = n-1\n",
        "# The Mean of Means:\n",
        "mean = np.mean(coinflip_means)\n",
        "# Sample Standard Deviation\n",
        "sample_std = np.std(coinflip_means, ddof=1)\n",
        "# Standard Error\n",
        "std_err = sample_std/n**.5\n",
        "\n",
        "CI = t.interval(.95, dof, loc=mean, scale=std_err)\n",
        "print(\"95% Confidence Interval: \", CI)"
      ],
      "execution_count": 0,
      "outputs": [
        {
          "output_type": "stream",
          "text": [
            "95% Confidence Interval:  (0.4795638383641624, 0.5184361616358376)\n"
          ],
          "name": "stdout"
        }
      ]
    },
    {
      "cell_type": "code",
      "metadata": {
        "id": "PiaALHSNfWou",
        "colab_type": "code",
        "outputId": "f872973e-fdc6-4364-8e6e-8670bceedcff",
        "colab": {
          "base_uri": "https://localhost:8080/",
          "height": 52
        }
      },
      "source": [
        "'''You can roll your own CI calculation pretty easily. \n",
        "The only thing that's a little bit challenging \n",
        "is understanding the t stat lookup'''\n",
        "\n",
        "# 95% confidence interval\n",
        "t_stat = t.ppf(.975, dof)\n",
        "print(\"t Statistic:\", t_stat)\n",
        "\n",
        "CI = (mean-(t_stat*std_err), mean+(t_stat*std_err))\n",
        "print(\"Confidence Interval\", CI)"
      ],
      "execution_count": 0,
      "outputs": [
        {
          "output_type": "stream",
          "text": [
            "t Statistic: 1.9842169515086827\n",
            "Confidence Interval (0.4795638383641624, 0.5184361616358376)\n"
          ],
          "name": "stdout"
        }
      ]
    },
    {
      "cell_type": "markdown",
      "metadata": {
        "id": "EamZNJhAf-fY",
        "colab_type": "text"
      },
      "source": [
        "A null hypothesis that's just inside of our confidence interval == fail to reject\n",
        "\n"
      ]
    },
    {
      "cell_type": "code",
      "metadata": {
        "id": "cNpzYbjpfirR",
        "colab_type": "code",
        "outputId": "2bf67af3-1cff-4cc9-e3f1-68073210be2c",
        "colab": {
          "base_uri": "https://localhost:8080/",
          "height": 35
        }
      },
      "source": [
        "ttest_1samp(coinflip_means, .479)"
      ],
      "execution_count": 0,
      "outputs": [
        {
          "output_type": "execute_result",
          "data": {
            "text/plain": [
              "Ttest_1sampResult(statistic=2.0417786069962083, pvalue=0.04383324722538595)"
            ]
          },
          "metadata": {
            "tags": []
          },
          "execution_count": 86
        }
      ]
    },
    {
      "cell_type": "markdown",
      "metadata": {
        "id": "hO34mbL9gHn1",
        "colab_type": "text"
      },
      "source": [
        "A null hypothesis that's just outside of our confidence interval == reject\n",
        "\n"
      ]
    },
    {
      "cell_type": "code",
      "metadata": {
        "id": "N4SUjj82gKlv",
        "colab_type": "code",
        "outputId": "2baa00a1-6548-480a-d498-ceae58e167e6",
        "colab": {
          "base_uri": "https://localhost:8080/",
          "height": 35
        }
      },
      "source": [
        "ttest_1samp(coinflip_means, .480)"
      ],
      "execution_count": 0,
      "outputs": [
        {
          "output_type": "execute_result",
          "data": {
            "text/plain": [
              "Ttest_1sampResult(statistic=1.9396896766463978, pvalue=0.055263428865990345)"
            ]
          },
          "metadata": {
            "tags": []
          },
          "execution_count": 87
        }
      ]
    },
    {
      "cell_type": "markdown",
      "metadata": {
        "id": "7Igz-XHcVbW3",
        "colab_type": "text"
      },
      "source": [
        "## Run a $\\chi^{2}$ Test using Scipy"
      ]
    },
    {
      "cell_type": "code",
      "metadata": {
        "id": "X52Nwt7AVlvk",
        "colab_type": "code",
        "outputId": "d26e0afc-203c-430d-f425-5de0e423be88",
        "colab": {
          "base_uri": "https://localhost:8080/",
          "height": 356
        }
      },
      "source": [
        "df = pd.read_csv('https://raw.githubusercontent.com/ryanleeallred/datasets/master/adult.csv', na_values=\" ?\")\n",
        "print(df.shape)\n",
        "df.head()"
      ],
      "execution_count": 0,
      "outputs": [
        {
          "output_type": "stream",
          "text": [
            "(32561, 15)\n"
          ],
          "name": "stdout"
        },
        {
          "output_type": "execute_result",
          "data": {
            "text/html": [
              "<div>\n",
              "<style scoped>\n",
              "    .dataframe tbody tr th:only-of-type {\n",
              "        vertical-align: middle;\n",
              "    }\n",
              "\n",
              "    .dataframe tbody tr th {\n",
              "        vertical-align: top;\n",
              "    }\n",
              "\n",
              "    .dataframe thead th {\n",
              "        text-align: right;\n",
              "    }\n",
              "</style>\n",
              "<table border=\"1\" class=\"dataframe\">\n",
              "  <thead>\n",
              "    <tr style=\"text-align: right;\">\n",
              "      <th></th>\n",
              "      <th>age</th>\n",
              "      <th>workclass</th>\n",
              "      <th>fnlwgt</th>\n",
              "      <th>education</th>\n",
              "      <th>education-num</th>\n",
              "      <th>marital-status</th>\n",
              "      <th>occupation</th>\n",
              "      <th>relationship</th>\n",
              "      <th>race</th>\n",
              "      <th>sex</th>\n",
              "      <th>capital-gain</th>\n",
              "      <th>capital-loss</th>\n",
              "      <th>hours-per-week</th>\n",
              "      <th>country</th>\n",
              "      <th>salary</th>\n",
              "    </tr>\n",
              "  </thead>\n",
              "  <tbody>\n",
              "    <tr>\n",
              "      <th>0</th>\n",
              "      <td>39</td>\n",
              "      <td>State-gov</td>\n",
              "      <td>77516</td>\n",
              "      <td>Bachelors</td>\n",
              "      <td>13</td>\n",
              "      <td>Never-married</td>\n",
              "      <td>Adm-clerical</td>\n",
              "      <td>Not-in-family</td>\n",
              "      <td>White</td>\n",
              "      <td>Male</td>\n",
              "      <td>2174</td>\n",
              "      <td>0</td>\n",
              "      <td>40</td>\n",
              "      <td>United-States</td>\n",
              "      <td>&lt;=50K</td>\n",
              "    </tr>\n",
              "    <tr>\n",
              "      <th>1</th>\n",
              "      <td>50</td>\n",
              "      <td>Self-emp-not-inc</td>\n",
              "      <td>83311</td>\n",
              "      <td>Bachelors</td>\n",
              "      <td>13</td>\n",
              "      <td>Married-civ-spouse</td>\n",
              "      <td>Exec-managerial</td>\n",
              "      <td>Husband</td>\n",
              "      <td>White</td>\n",
              "      <td>Male</td>\n",
              "      <td>0</td>\n",
              "      <td>0</td>\n",
              "      <td>13</td>\n",
              "      <td>United-States</td>\n",
              "      <td>&lt;=50K</td>\n",
              "    </tr>\n",
              "    <tr>\n",
              "      <th>2</th>\n",
              "      <td>38</td>\n",
              "      <td>Private</td>\n",
              "      <td>215646</td>\n",
              "      <td>HS-grad</td>\n",
              "      <td>9</td>\n",
              "      <td>Divorced</td>\n",
              "      <td>Handlers-cleaners</td>\n",
              "      <td>Not-in-family</td>\n",
              "      <td>White</td>\n",
              "      <td>Male</td>\n",
              "      <td>0</td>\n",
              "      <td>0</td>\n",
              "      <td>40</td>\n",
              "      <td>United-States</td>\n",
              "      <td>&lt;=50K</td>\n",
              "    </tr>\n",
              "    <tr>\n",
              "      <th>3</th>\n",
              "      <td>53</td>\n",
              "      <td>Private</td>\n",
              "      <td>234721</td>\n",
              "      <td>11th</td>\n",
              "      <td>7</td>\n",
              "      <td>Married-civ-spouse</td>\n",
              "      <td>Handlers-cleaners</td>\n",
              "      <td>Husband</td>\n",
              "      <td>Black</td>\n",
              "      <td>Male</td>\n",
              "      <td>0</td>\n",
              "      <td>0</td>\n",
              "      <td>40</td>\n",
              "      <td>United-States</td>\n",
              "      <td>&lt;=50K</td>\n",
              "    </tr>\n",
              "    <tr>\n",
              "      <th>4</th>\n",
              "      <td>28</td>\n",
              "      <td>Private</td>\n",
              "      <td>338409</td>\n",
              "      <td>Bachelors</td>\n",
              "      <td>13</td>\n",
              "      <td>Married-civ-spouse</td>\n",
              "      <td>Prof-specialty</td>\n",
              "      <td>Wife</td>\n",
              "      <td>Black</td>\n",
              "      <td>Female</td>\n",
              "      <td>0</td>\n",
              "      <td>0</td>\n",
              "      <td>40</td>\n",
              "      <td>Cuba</td>\n",
              "      <td>&lt;=50K</td>\n",
              "    </tr>\n",
              "  </tbody>\n",
              "</table>\n",
              "</div>"
            ],
            "text/plain": [
              "   age          workclass  fnlwgt  ... hours-per-week         country  salary\n",
              "0   39          State-gov   77516  ...             40   United-States   <=50K\n",
              "1   50   Self-emp-not-inc   83311  ...             13   United-States   <=50K\n",
              "2   38            Private  215646  ...             40   United-States   <=50K\n",
              "3   53            Private  234721  ...             40   United-States   <=50K\n",
              "4   28            Private  338409  ...             40            Cuba   <=50K\n",
              "\n",
              "[5 rows x 15 columns]"
            ]
          },
          "metadata": {
            "tags": []
          },
          "execution_count": 88
        }
      ]
    },
    {
      "cell_type": "code",
      "metadata": {
        "id": "g35T_Cyv3scM",
        "colab_type": "code",
        "outputId": "2d6e2c8b-af52-4846-e0b2-33f3a1e69a68",
        "colab": {
          "base_uri": "https://localhost:8080/",
          "height": 288
        }
      },
      "source": [
        "df.describe()"
      ],
      "execution_count": 0,
      "outputs": [
        {
          "output_type": "execute_result",
          "data": {
            "text/html": [
              "<div>\n",
              "<style scoped>\n",
              "    .dataframe tbody tr th:only-of-type {\n",
              "        vertical-align: middle;\n",
              "    }\n",
              "\n",
              "    .dataframe tbody tr th {\n",
              "        vertical-align: top;\n",
              "    }\n",
              "\n",
              "    .dataframe thead th {\n",
              "        text-align: right;\n",
              "    }\n",
              "</style>\n",
              "<table border=\"1\" class=\"dataframe\">\n",
              "  <thead>\n",
              "    <tr style=\"text-align: right;\">\n",
              "      <th></th>\n",
              "      <th>age</th>\n",
              "      <th>fnlwgt</th>\n",
              "      <th>education-num</th>\n",
              "      <th>capital-gain</th>\n",
              "      <th>capital-loss</th>\n",
              "      <th>hours-per-week</th>\n",
              "    </tr>\n",
              "  </thead>\n",
              "  <tbody>\n",
              "    <tr>\n",
              "      <th>count</th>\n",
              "      <td>32561.000000</td>\n",
              "      <td>3.256100e+04</td>\n",
              "      <td>32561.000000</td>\n",
              "      <td>32561.000000</td>\n",
              "      <td>32561.000000</td>\n",
              "      <td>32561.000000</td>\n",
              "    </tr>\n",
              "    <tr>\n",
              "      <th>mean</th>\n",
              "      <td>38.581647</td>\n",
              "      <td>1.897784e+05</td>\n",
              "      <td>10.080679</td>\n",
              "      <td>1077.648844</td>\n",
              "      <td>87.303830</td>\n",
              "      <td>40.437456</td>\n",
              "    </tr>\n",
              "    <tr>\n",
              "      <th>std</th>\n",
              "      <td>13.640433</td>\n",
              "      <td>1.055500e+05</td>\n",
              "      <td>2.572720</td>\n",
              "      <td>7385.292085</td>\n",
              "      <td>402.960219</td>\n",
              "      <td>12.347429</td>\n",
              "    </tr>\n",
              "    <tr>\n",
              "      <th>min</th>\n",
              "      <td>17.000000</td>\n",
              "      <td>1.228500e+04</td>\n",
              "      <td>1.000000</td>\n",
              "      <td>0.000000</td>\n",
              "      <td>0.000000</td>\n",
              "      <td>1.000000</td>\n",
              "    </tr>\n",
              "    <tr>\n",
              "      <th>25%</th>\n",
              "      <td>28.000000</td>\n",
              "      <td>1.178270e+05</td>\n",
              "      <td>9.000000</td>\n",
              "      <td>0.000000</td>\n",
              "      <td>0.000000</td>\n",
              "      <td>40.000000</td>\n",
              "    </tr>\n",
              "    <tr>\n",
              "      <th>50%</th>\n",
              "      <td>37.000000</td>\n",
              "      <td>1.783560e+05</td>\n",
              "      <td>10.000000</td>\n",
              "      <td>0.000000</td>\n",
              "      <td>0.000000</td>\n",
              "      <td>40.000000</td>\n",
              "    </tr>\n",
              "    <tr>\n",
              "      <th>75%</th>\n",
              "      <td>48.000000</td>\n",
              "      <td>2.370510e+05</td>\n",
              "      <td>12.000000</td>\n",
              "      <td>0.000000</td>\n",
              "      <td>0.000000</td>\n",
              "      <td>45.000000</td>\n",
              "    </tr>\n",
              "    <tr>\n",
              "      <th>max</th>\n",
              "      <td>90.000000</td>\n",
              "      <td>1.484705e+06</td>\n",
              "      <td>16.000000</td>\n",
              "      <td>99999.000000</td>\n",
              "      <td>4356.000000</td>\n",
              "      <td>99.000000</td>\n",
              "    </tr>\n",
              "  </tbody>\n",
              "</table>\n",
              "</div>"
            ],
            "text/plain": [
              "                age        fnlwgt  ...  capital-loss  hours-per-week\n",
              "count  32561.000000  3.256100e+04  ...  32561.000000    32561.000000\n",
              "mean      38.581647  1.897784e+05  ...     87.303830       40.437456\n",
              "std       13.640433  1.055500e+05  ...    402.960219       12.347429\n",
              "min       17.000000  1.228500e+04  ...      0.000000        1.000000\n",
              "25%       28.000000  1.178270e+05  ...      0.000000       40.000000\n",
              "50%       37.000000  1.783560e+05  ...      0.000000       40.000000\n",
              "75%       48.000000  2.370510e+05  ...      0.000000       45.000000\n",
              "max       90.000000  1.484705e+06  ...   4356.000000       99.000000\n",
              "\n",
              "[8 rows x 6 columns]"
            ]
          },
          "metadata": {
            "tags": []
          },
          "execution_count": 89
        }
      ]
    },
    {
      "cell_type": "code",
      "metadata": {
        "id": "K_00c4de3uJx",
        "colab_type": "code",
        "outputId": "d93ceada-90d0-442e-db16-fb305879e6b9",
        "colab": {
          "base_uri": "https://localhost:8080/",
          "height": 168
        }
      },
      "source": [
        "df.describe(exclude='number')"
      ],
      "execution_count": 0,
      "outputs": [
        {
          "output_type": "execute_result",
          "data": {
            "text/html": [
              "<div>\n",
              "<style scoped>\n",
              "    .dataframe tbody tr th:only-of-type {\n",
              "        vertical-align: middle;\n",
              "    }\n",
              "\n",
              "    .dataframe tbody tr th {\n",
              "        vertical-align: top;\n",
              "    }\n",
              "\n",
              "    .dataframe thead th {\n",
              "        text-align: right;\n",
              "    }\n",
              "</style>\n",
              "<table border=\"1\" class=\"dataframe\">\n",
              "  <thead>\n",
              "    <tr style=\"text-align: right;\">\n",
              "      <th></th>\n",
              "      <th>workclass</th>\n",
              "      <th>education</th>\n",
              "      <th>marital-status</th>\n",
              "      <th>occupation</th>\n",
              "      <th>relationship</th>\n",
              "      <th>race</th>\n",
              "      <th>sex</th>\n",
              "      <th>country</th>\n",
              "      <th>salary</th>\n",
              "    </tr>\n",
              "  </thead>\n",
              "  <tbody>\n",
              "    <tr>\n",
              "      <th>count</th>\n",
              "      <td>30725</td>\n",
              "      <td>32561</td>\n",
              "      <td>32561</td>\n",
              "      <td>30718</td>\n",
              "      <td>32561</td>\n",
              "      <td>32561</td>\n",
              "      <td>32561</td>\n",
              "      <td>31978</td>\n",
              "      <td>32561</td>\n",
              "    </tr>\n",
              "    <tr>\n",
              "      <th>unique</th>\n",
              "      <td>8</td>\n",
              "      <td>16</td>\n",
              "      <td>7</td>\n",
              "      <td>14</td>\n",
              "      <td>6</td>\n",
              "      <td>5</td>\n",
              "      <td>2</td>\n",
              "      <td>41</td>\n",
              "      <td>2</td>\n",
              "    </tr>\n",
              "    <tr>\n",
              "      <th>top</th>\n",
              "      <td>Private</td>\n",
              "      <td>HS-grad</td>\n",
              "      <td>Married-civ-spouse</td>\n",
              "      <td>Prof-specialty</td>\n",
              "      <td>Husband</td>\n",
              "      <td>White</td>\n",
              "      <td>Male</td>\n",
              "      <td>United-States</td>\n",
              "      <td>&lt;=50K</td>\n",
              "    </tr>\n",
              "    <tr>\n",
              "      <th>freq</th>\n",
              "      <td>22696</td>\n",
              "      <td>10501</td>\n",
              "      <td>14976</td>\n",
              "      <td>4140</td>\n",
              "      <td>13193</td>\n",
              "      <td>27816</td>\n",
              "      <td>21790</td>\n",
              "      <td>29170</td>\n",
              "      <td>24720</td>\n",
              "    </tr>\n",
              "  </tbody>\n",
              "</table>\n",
              "</div>"
            ],
            "text/plain": [
              "       workclass education       marital-status  ...    sex         country  salary\n",
              "count      30725     32561                32561  ...  32561           31978   32561\n",
              "unique         8        16                    7  ...      2              41       2\n",
              "top      Private   HS-grad   Married-civ-spouse  ...   Male   United-States   <=50K\n",
              "freq       22696     10501                14976  ...  21790           29170   24720\n",
              "\n",
              "[4 rows x 9 columns]"
            ]
          },
          "metadata": {
            "tags": []
          },
          "execution_count": 90
        }
      ]
    },
    {
      "cell_type": "code",
      "metadata": {
        "id": "QKQlwnEx3v9h",
        "colab_type": "code",
        "outputId": "4031385f-9898-4fdb-9d7b-4c4378b1d2f9",
        "colab": {
          "base_uri": "https://localhost:8080/",
          "height": 339
        }
      },
      "source": [
        "# I NEED CATEGORICAL VARIABLES TO DO A CHI^2 TEST\n",
        "\n",
        "cut_points = [0, 9, 19, 29, 39, 49, 1000]\n",
        "label_names = ['0-9', '10-19', '20-29', '30-39', '40-49', '50+']\n",
        "df['hours_per_week_categories'] = pd.cut(df['hours-per-week'], cut_points, labels=label_names)\n",
        "\n",
        "df.head()"
      ],
      "execution_count": 0,
      "outputs": [
        {
          "output_type": "execute_result",
          "data": {
            "text/html": [
              "<div>\n",
              "<style scoped>\n",
              "    .dataframe tbody tr th:only-of-type {\n",
              "        vertical-align: middle;\n",
              "    }\n",
              "\n",
              "    .dataframe tbody tr th {\n",
              "        vertical-align: top;\n",
              "    }\n",
              "\n",
              "    .dataframe thead th {\n",
              "        text-align: right;\n",
              "    }\n",
              "</style>\n",
              "<table border=\"1\" class=\"dataframe\">\n",
              "  <thead>\n",
              "    <tr style=\"text-align: right;\">\n",
              "      <th></th>\n",
              "      <th>age</th>\n",
              "      <th>workclass</th>\n",
              "      <th>fnlwgt</th>\n",
              "      <th>education</th>\n",
              "      <th>education-num</th>\n",
              "      <th>marital-status</th>\n",
              "      <th>occupation</th>\n",
              "      <th>relationship</th>\n",
              "      <th>race</th>\n",
              "      <th>sex</th>\n",
              "      <th>capital-gain</th>\n",
              "      <th>capital-loss</th>\n",
              "      <th>hours-per-week</th>\n",
              "      <th>country</th>\n",
              "      <th>salary</th>\n",
              "      <th>hours_per_week_categories</th>\n",
              "    </tr>\n",
              "  </thead>\n",
              "  <tbody>\n",
              "    <tr>\n",
              "      <th>0</th>\n",
              "      <td>39</td>\n",
              "      <td>State-gov</td>\n",
              "      <td>77516</td>\n",
              "      <td>Bachelors</td>\n",
              "      <td>13</td>\n",
              "      <td>Never-married</td>\n",
              "      <td>Adm-clerical</td>\n",
              "      <td>Not-in-family</td>\n",
              "      <td>White</td>\n",
              "      <td>Male</td>\n",
              "      <td>2174</td>\n",
              "      <td>0</td>\n",
              "      <td>40</td>\n",
              "      <td>United-States</td>\n",
              "      <td>&lt;=50K</td>\n",
              "      <td>40-49</td>\n",
              "    </tr>\n",
              "    <tr>\n",
              "      <th>1</th>\n",
              "      <td>50</td>\n",
              "      <td>Self-emp-not-inc</td>\n",
              "      <td>83311</td>\n",
              "      <td>Bachelors</td>\n",
              "      <td>13</td>\n",
              "      <td>Married-civ-spouse</td>\n",
              "      <td>Exec-managerial</td>\n",
              "      <td>Husband</td>\n",
              "      <td>White</td>\n",
              "      <td>Male</td>\n",
              "      <td>0</td>\n",
              "      <td>0</td>\n",
              "      <td>13</td>\n",
              "      <td>United-States</td>\n",
              "      <td>&lt;=50K</td>\n",
              "      <td>10-19</td>\n",
              "    </tr>\n",
              "    <tr>\n",
              "      <th>2</th>\n",
              "      <td>38</td>\n",
              "      <td>Private</td>\n",
              "      <td>215646</td>\n",
              "      <td>HS-grad</td>\n",
              "      <td>9</td>\n",
              "      <td>Divorced</td>\n",
              "      <td>Handlers-cleaners</td>\n",
              "      <td>Not-in-family</td>\n",
              "      <td>White</td>\n",
              "      <td>Male</td>\n",
              "      <td>0</td>\n",
              "      <td>0</td>\n",
              "      <td>40</td>\n",
              "      <td>United-States</td>\n",
              "      <td>&lt;=50K</td>\n",
              "      <td>40-49</td>\n",
              "    </tr>\n",
              "    <tr>\n",
              "      <th>3</th>\n",
              "      <td>53</td>\n",
              "      <td>Private</td>\n",
              "      <td>234721</td>\n",
              "      <td>11th</td>\n",
              "      <td>7</td>\n",
              "      <td>Married-civ-spouse</td>\n",
              "      <td>Handlers-cleaners</td>\n",
              "      <td>Husband</td>\n",
              "      <td>Black</td>\n",
              "      <td>Male</td>\n",
              "      <td>0</td>\n",
              "      <td>0</td>\n",
              "      <td>40</td>\n",
              "      <td>United-States</td>\n",
              "      <td>&lt;=50K</td>\n",
              "      <td>40-49</td>\n",
              "    </tr>\n",
              "    <tr>\n",
              "      <th>4</th>\n",
              "      <td>28</td>\n",
              "      <td>Private</td>\n",
              "      <td>338409</td>\n",
              "      <td>Bachelors</td>\n",
              "      <td>13</td>\n",
              "      <td>Married-civ-spouse</td>\n",
              "      <td>Prof-specialty</td>\n",
              "      <td>Wife</td>\n",
              "      <td>Black</td>\n",
              "      <td>Female</td>\n",
              "      <td>0</td>\n",
              "      <td>0</td>\n",
              "      <td>40</td>\n",
              "      <td>Cuba</td>\n",
              "      <td>&lt;=50K</td>\n",
              "      <td>40-49</td>\n",
              "    </tr>\n",
              "  </tbody>\n",
              "</table>\n",
              "</div>"
            ],
            "text/plain": [
              "   age          workclass  ...  salary hours_per_week_categories\n",
              "0   39          State-gov  ...   <=50K                     40-49\n",
              "1   50   Self-emp-not-inc  ...   <=50K                     10-19\n",
              "2   38            Private  ...   <=50K                     40-49\n",
              "3   53            Private  ...   <=50K                     40-49\n",
              "4   28            Private  ...   <=50K                     40-49\n",
              "\n",
              "[5 rows x 16 columns]"
            ]
          },
          "metadata": {
            "tags": []
          },
          "execution_count": 92
        }
      ]
    },
    {
      "cell_type": "code",
      "metadata": {
        "id": "I7bviDCO3y3f",
        "colab_type": "code",
        "outputId": "48bd7650-141a-4044-cecc-2358012eb450",
        "colab": {
          "base_uri": "https://localhost:8080/",
          "height": 69
        }
      },
      "source": [
        "df['sex'].value_counts()"
      ],
      "execution_count": 0,
      "outputs": [
        {
          "output_type": "execute_result",
          "data": {
            "text/plain": [
              " Male      21790\n",
              " Female    10771\n",
              "Name: sex, dtype: int64"
            ]
          },
          "metadata": {
            "tags": []
          },
          "execution_count": 93
        }
      ]
    },
    {
      "cell_type": "code",
      "metadata": {
        "id": "nUl9s1Ql4WMj",
        "colab_type": "code",
        "outputId": "42236710-2951-447a-845e-8bc9af42e082",
        "colab": {
          "base_uri": "https://localhost:8080/",
          "height": 138
        }
      },
      "source": [
        "df['hours_per_week_categories'].value_counts()"
      ],
      "execution_count": 0,
      "outputs": [
        {
          "output_type": "execute_result",
          "data": {
            "text/plain": [
              "40-49    18336\n",
              "50+       6462\n",
              "30-39     3667\n",
              "20-29     2392\n",
              "10-19     1246\n",
              "0-9        458\n",
              "Name: hours_per_week_categories, dtype: int64"
            ]
          },
          "metadata": {
            "tags": []
          },
          "execution_count": 94
        }
      ]
    },
    {
      "cell_type": "code",
      "metadata": {
        "id": "o2vZuVXB4YvT",
        "colab_type": "code",
        "outputId": "8de34a53-54b3-49cc-9332-606cef668e65",
        "colab": {
          "base_uri": "https://localhost:8080/",
          "height": 168
        }
      },
      "source": [
        "contingency_table = pd.crosstab(df['sex'], df['hours_per_week_categories'], margins=True)\n",
        "\n",
        "contingency_table"
      ],
      "execution_count": 0,
      "outputs": [
        {
          "output_type": "execute_result",
          "data": {
            "text/html": [
              "<div>\n",
              "<style scoped>\n",
              "    .dataframe tbody tr th:only-of-type {\n",
              "        vertical-align: middle;\n",
              "    }\n",
              "\n",
              "    .dataframe tbody tr th {\n",
              "        vertical-align: top;\n",
              "    }\n",
              "\n",
              "    .dataframe thead th {\n",
              "        text-align: right;\n",
              "    }\n",
              "</style>\n",
              "<table border=\"1\" class=\"dataframe\">\n",
              "  <thead>\n",
              "    <tr style=\"text-align: right;\">\n",
              "      <th>hours_per_week_categories</th>\n",
              "      <th>0-9</th>\n",
              "      <th>10-19</th>\n",
              "      <th>20-29</th>\n",
              "      <th>30-39</th>\n",
              "      <th>40-49</th>\n",
              "      <th>50+</th>\n",
              "      <th>All</th>\n",
              "    </tr>\n",
              "    <tr>\n",
              "      <th>sex</th>\n",
              "      <th></th>\n",
              "      <th></th>\n",
              "      <th></th>\n",
              "      <th></th>\n",
              "      <th></th>\n",
              "      <th></th>\n",
              "      <th></th>\n",
              "    </tr>\n",
              "  </thead>\n",
              "  <tbody>\n",
              "    <tr>\n",
              "      <th>Female</th>\n",
              "      <td>235</td>\n",
              "      <td>671</td>\n",
              "      <td>1287</td>\n",
              "      <td>1914</td>\n",
              "      <td>5636</td>\n",
              "      <td>1028</td>\n",
              "      <td>10771</td>\n",
              "    </tr>\n",
              "    <tr>\n",
              "      <th>Male</th>\n",
              "      <td>223</td>\n",
              "      <td>575</td>\n",
              "      <td>1105</td>\n",
              "      <td>1753</td>\n",
              "      <td>12700</td>\n",
              "      <td>5434</td>\n",
              "      <td>21790</td>\n",
              "    </tr>\n",
              "    <tr>\n",
              "      <th>All</th>\n",
              "      <td>458</td>\n",
              "      <td>1246</td>\n",
              "      <td>2392</td>\n",
              "      <td>3667</td>\n",
              "      <td>18336</td>\n",
              "      <td>6462</td>\n",
              "      <td>32561</td>\n",
              "    </tr>\n",
              "  </tbody>\n",
              "</table>\n",
              "</div>"
            ],
            "text/plain": [
              "hours_per_week_categories  0-9  10-19  20-29  30-39  40-49   50+    All\n",
              "sex                                                                    \n",
              " Female                    235    671   1287   1914   5636  1028  10771\n",
              " Male                      223    575   1105   1753  12700  5434  21790\n",
              "All                        458   1246   2392   3667  18336  6462  32561"
            ]
          },
          "metadata": {
            "tags": []
          },
          "execution_count": 95
        }
      ]
    },
    {
      "cell_type": "code",
      "metadata": {
        "id": "CwVjnvFe8uwj",
        "colab_type": "code",
        "outputId": "39d07ceb-8636-4eeb-d4dd-9763ace476ad",
        "colab": {
          "base_uri": "https://localhost:8080/",
          "height": 138
        }
      },
      "source": [
        "observed = pd.crosstab(df['sex'], df['hours_per_week_categories'])\n",
        "\n",
        "observed"
      ],
      "execution_count": 0,
      "outputs": [
        {
          "output_type": "execute_result",
          "data": {
            "text/html": [
              "<div>\n",
              "<style scoped>\n",
              "    .dataframe tbody tr th:only-of-type {\n",
              "        vertical-align: middle;\n",
              "    }\n",
              "\n",
              "    .dataframe tbody tr th {\n",
              "        vertical-align: top;\n",
              "    }\n",
              "\n",
              "    .dataframe thead th {\n",
              "        text-align: right;\n",
              "    }\n",
              "</style>\n",
              "<table border=\"1\" class=\"dataframe\">\n",
              "  <thead>\n",
              "    <tr style=\"text-align: right;\">\n",
              "      <th>hours_per_week_categories</th>\n",
              "      <th>0-9</th>\n",
              "      <th>10-19</th>\n",
              "      <th>20-29</th>\n",
              "      <th>30-39</th>\n",
              "      <th>40-49</th>\n",
              "      <th>50+</th>\n",
              "    </tr>\n",
              "    <tr>\n",
              "      <th>sex</th>\n",
              "      <th></th>\n",
              "      <th></th>\n",
              "      <th></th>\n",
              "      <th></th>\n",
              "      <th></th>\n",
              "      <th></th>\n",
              "    </tr>\n",
              "  </thead>\n",
              "  <tbody>\n",
              "    <tr>\n",
              "      <th>Female</th>\n",
              "      <td>235</td>\n",
              "      <td>671</td>\n",
              "      <td>1287</td>\n",
              "      <td>1914</td>\n",
              "      <td>5636</td>\n",
              "      <td>1028</td>\n",
              "    </tr>\n",
              "    <tr>\n",
              "      <th>Male</th>\n",
              "      <td>223</td>\n",
              "      <td>575</td>\n",
              "      <td>1105</td>\n",
              "      <td>1753</td>\n",
              "      <td>12700</td>\n",
              "      <td>5434</td>\n",
              "    </tr>\n",
              "  </tbody>\n",
              "</table>\n",
              "</div>"
            ],
            "text/plain": [
              "hours_per_week_categories  0-9  10-19  20-29  30-39  40-49   50+\n",
              "sex                                                             \n",
              " Female                    235    671   1287   1914   5636  1028\n",
              " Male                      223    575   1105   1753  12700  5434"
            ]
          },
          "metadata": {
            "tags": []
          },
          "execution_count": 99
        }
      ]
    },
    {
      "cell_type": "code",
      "metadata": {
        "id": "SBR8_mq54l5x",
        "colab_type": "code",
        "outputId": "5ebd0435-079e-4025-f67f-5df97d026858",
        "colab": {
          "base_uri": "https://localhost:8080/",
          "height": 155
        }
      },
      "source": [
        "from scipy import stats\n",
        "\n",
        "chi_squared, p_value, dof, expected = stats.chi2_contingency(observed)\n",
        "\n",
        "print(f\"Chi-Squared: {chi_squared}\")\n",
        "print(f\"P-value: {p_value}\")\n",
        "print(f\"Degrees of Freedom: {dof}\") \n",
        "print(\"Expected: \\n\", np.array(expected))"
      ],
      "execution_count": 0,
      "outputs": [
        {
          "output_type": "stream",
          "text": [
            "Chi-Squared: 2287.190943926107\n",
            "P-value: 0.0\n",
            "Degrees of Freedom: 5\n",
            "Expected: \n",
            " [[  151.50388502   412.16995793   791.26046497  1213.02346365\n",
            "   6065.44811277  2137.59411566]\n",
            " [  306.49611498   833.83004207  1600.73953503  2453.97653635\n",
            "  12270.55188723  4324.40588434]]\n"
          ],
          "name": "stdout"
        }
      ]
    },
    {
      "cell_type": "markdown",
      "metadata": {
        "id": "pTIzrkKdUaLl",
        "colab_type": "text"
      },
      "source": [
        "## Run a $\\chi^{2}$ Test \"by hand\" (Using Numpy)\n",
        "\n"
      ]
    },
    {
      "cell_type": "code",
      "metadata": {
        "id": "sKEcGGwGWBbC",
        "colab_type": "code",
        "outputId": "900b1478-14bc-4861-81c0-1dfa9c087323",
        "colab": {
          "base_uri": "https://localhost:8080/",
          "height": 166
        }
      },
      "source": [
        "# We'll view the contingency table (crosstab) with margins. \n",
        "# We will use the margins to calculate the table of expected values\n",
        "# The table of expected values holds the values that we would expect if\n",
        "# the null hypothesis (independence) were true.\n",
        "contingency_table = pd.crosstab(df['sex'], df['hours_per_week_categories'], margins=True)\n",
        "\n",
        "contingency_table"
      ],
      "execution_count": 0,
      "outputs": [
        {
          "output_type": "execute_result",
          "data": {
            "text/html": [
              "<div>\n",
              "<style scoped>\n",
              "    .dataframe tbody tr th:only-of-type {\n",
              "        vertical-align: middle;\n",
              "    }\n",
              "\n",
              "    .dataframe tbody tr th {\n",
              "        vertical-align: top;\n",
              "    }\n",
              "\n",
              "    .dataframe thead th {\n",
              "        text-align: right;\n",
              "    }\n",
              "</style>\n",
              "<table border=\"1\" class=\"dataframe\">\n",
              "  <thead>\n",
              "    <tr style=\"text-align: right;\">\n",
              "      <th>hours_per_week_categories</th>\n",
              "      <th>0-9</th>\n",
              "      <th>10-19</th>\n",
              "      <th>20-29</th>\n",
              "      <th>30-39</th>\n",
              "      <th>40-49</th>\n",
              "      <th>50+</th>\n",
              "      <th>All</th>\n",
              "    </tr>\n",
              "    <tr>\n",
              "      <th>sex</th>\n",
              "      <th></th>\n",
              "      <th></th>\n",
              "      <th></th>\n",
              "      <th></th>\n",
              "      <th></th>\n",
              "      <th></th>\n",
              "      <th></th>\n",
              "    </tr>\n",
              "  </thead>\n",
              "  <tbody>\n",
              "    <tr>\n",
              "      <th>Female</th>\n",
              "      <td>235</td>\n",
              "      <td>671</td>\n",
              "      <td>1287</td>\n",
              "      <td>1914</td>\n",
              "      <td>5636</td>\n",
              "      <td>1028</td>\n",
              "      <td>10771</td>\n",
              "    </tr>\n",
              "    <tr>\n",
              "      <th>Male</th>\n",
              "      <td>223</td>\n",
              "      <td>575</td>\n",
              "      <td>1105</td>\n",
              "      <td>1753</td>\n",
              "      <td>12700</td>\n",
              "      <td>5434</td>\n",
              "      <td>21790</td>\n",
              "    </tr>\n",
              "    <tr>\n",
              "      <th>All</th>\n",
              "      <td>458</td>\n",
              "      <td>1246</td>\n",
              "      <td>2392</td>\n",
              "      <td>3667</td>\n",
              "      <td>18336</td>\n",
              "      <td>6462</td>\n",
              "      <td>32561</td>\n",
              "    </tr>\n",
              "  </tbody>\n",
              "</table>\n",
              "</div>"
            ],
            "text/plain": [
              "hours_per_week_categories  0-9  10-19  20-29  30-39  40-49   50+    All\n",
              "sex                                                                    \n",
              " Female                    235    671   1287   1914   5636  1028  10771\n",
              " Male                      223    575   1105   1753  12700  5434  21790\n",
              "All                        458   1246   2392   3667  18336  6462  32561"
            ]
          },
          "metadata": {
            "tags": []
          },
          "execution_count": 103
        }
      ]
    },
    {
      "cell_type": "code",
      "metadata": {
        "id": "kps0s9-pWDdw",
        "colab_type": "code",
        "outputId": "f4ffb541-886a-4414-a1d0-76345fc4b73a",
        "colab": {
          "base_uri": "https://localhost:8080/",
          "height": 34
        }
      },
      "source": [
        "# Grab the crosstab cells that correspond to the females\n",
        "femalecount = contingency_table.iloc[0][0:6].values\n",
        "femalecount"
      ],
      "execution_count": 0,
      "outputs": [
        {
          "output_type": "execute_result",
          "data": {
            "text/plain": [
              "array([ 235,  671, 1287, 1914, 5636, 1028])"
            ]
          },
          "metadata": {
            "tags": []
          },
          "execution_count": 104
        }
      ]
    },
    {
      "cell_type": "code",
      "metadata": {
        "id": "z_zHL3G9WE_k",
        "colab_type": "code",
        "outputId": "e55d1e1c-cf47-4e8e-af49-a08fda28ad82",
        "colab": {
          "base_uri": "https://localhost:8080/",
          "height": 34
        }
      },
      "source": [
        "# Grab the crosstab cells that correspond to the males\n",
        "malecount = contingency_table.iloc[1][0:6].values\n",
        "malecount"
      ],
      "execution_count": 0,
      "outputs": [
        {
          "output_type": "execute_result",
          "data": {
            "text/plain": [
              "array([  223,   575,  1105,  1753, 12700,  5434])"
            ]
          },
          "metadata": {
            "tags": []
          },
          "execution_count": 105
        }
      ]
    },
    {
      "cell_type": "code",
      "metadata": {
        "id": "DDsovHUyUj3v",
        "colab_type": "code",
        "outputId": "d43a7dcf-c813-4445-aa99-4faf7d0cf7a6",
        "colab": {
          "base_uri": "https://localhost:8080/",
          "height": 355
        }
      },
      "source": [
        "import matplotlib.pyplot as plt\n",
        "import seaborn as sns\n",
        "\n",
        "# In this bar chart we can eyeball the dependence between these two variables\n",
        "# If these two variables were independent, we would expect the proportions of \n",
        "# red and blue to be consistent throughout the bars. This is not what we see.\n",
        "fig = plt.figure(figsize=(10, 5))\n",
        "sns.set(font_scale=1.8)\n",
        "categories = [\"0-9\",\"10-19\",\"20-29\",\"30-39\",\"40-49\",\"50+\"]\n",
        "p1 = plt.bar(categories, malecount, 0.55, color='#d62728')\n",
        "p2 = plt.bar(categories, femalecount, 0.55, bottom=malecount)\n",
        "plt.legend((p2[0], p1[0]), ('Female', 'Male'))\n",
        "plt.xlabel('Hours per Week Worked')\n",
        "plt.ylabel('Count')\n",
        "plt.show()"
      ],
      "execution_count": 0,
      "outputs": [
        {
          "output_type": "display_data",
          "data": {
            "image/png": "[encoded data removed]",
            "text/plain": [
              "<Figure size 720x360 with 1 Axes>"
            ]
          },
          "metadata": {
            "tags": []
          }
        }
      ]
    },
    {
      "cell_type": "markdown",
      "metadata": {
        "id": "m6W-61lJXLfZ",
        "colab_type": "text"
      },
      "source": [
        "## Expected Value Calculation\n",
        "\\begin{align}\n",
        "expected_{i,j} =\\frac{(row_{i} \\text{total})(column_{j} \\text{total}) }{(\\text{total observations})}  \n",
        "\\end{align}"
      ]
    },
    {
      "cell_type": "code",
      "metadata": {
        "id": "I8KVuqpcV7dv",
        "colab_type": "code",
        "outputId": "d8bb041a-f899-43cb-f453-c73b91685ce8",
        "colab": {
          "base_uri": "https://localhost:8080/",
          "height": 50
        }
      },
      "source": [
        "# Calculate row and column totals to use in the expected value calculations\n",
        "row_sums = contingency_table.iloc[0:2, 6].values\n",
        "col_sums = contingency_table.iloc[2, 0:6].values\n",
        "\n",
        "print(row_sums)\n",
        "print(col_sums)"
      ],
      "execution_count": 0,
      "outputs": [
        {
          "output_type": "stream",
          "text": [
            "[10771 21790]\n",
            "[  458  1246  2392  3667 18336  6462]\n"
          ],
          "name": "stdout"
        }
      ]
    },
    {
      "cell_type": "code",
      "metadata": {
        "id": "NcmjWaMTXRgo",
        "colab_type": "code",
        "outputId": "fcdea5bb-1a1c-4571-dc48-e8d6ed15eceb",
        "colab": {
          "base_uri": "https://localhost:8080/",
          "height": 34
        }
      },
      "source": [
        "# We can pull the sample size from the crosstab \n",
        "total = contingency_table.loc['All','All']\n",
        "total"
      ],
      "execution_count": 0,
      "outputs": [
        {
          "output_type": "execute_result",
          "data": {
            "text/plain": [
              "32561"
            ]
          },
          "metadata": {
            "tags": []
          },
          "execution_count": 113
        }
      ]
    },
    {
      "cell_type": "code",
      "metadata": {
        "id": "D8qRInDhXUei",
        "colab_type": "code",
        "outputId": "5ccb7553-622f-4662-a76b-4a97546bec73",
        "colab": {
          "base_uri": "https://localhost:8080/",
          "height": 34
        }
      },
      "source": [
        "# Or just grab it from the dataframe:\n",
        "df.shape[0]"
      ],
      "execution_count": 0,
      "outputs": [
        {
          "output_type": "execute_result",
          "data": {
            "text/plain": [
              "32561"
            ]
          },
          "metadata": {
            "tags": []
          },
          "execution_count": 114
        }
      ]
    },
    {
      "cell_type": "code",
      "metadata": {
        "id": "r72UUfyJXc3K",
        "colab_type": "code",
        "outputId": "eeb5edc1-54e7-46ba-c493-e7b1c1378b5c",
        "colab": {
          "base_uri": "https://localhost:8080/",
          "height": 101
        }
      },
      "source": [
        "# Now we have everything that we need to calculate our table of expected values\n",
        "\n",
        "expected = []\n",
        "for i in range(len(row_sums)):\n",
        "  expected_row = []\n",
        "  for column in col_sums:\n",
        "    expected_val = column*row_sums[i]/total\n",
        "    expected_row.append(expected_val)\n",
        "  expected.append(expected_row)\n",
        "  \n",
        "expected = np.array(expected)\n",
        "\n",
        "# The shape of our table should match our contingency table\n",
        "print(expected.shape)  \n",
        "# The expected table here should match the table reported by scipy, or else\n",
        "# we have made a mistake.\n",
        "print(expected)"
      ],
      "execution_count": 0,
      "outputs": [
        {
          "output_type": "stream",
          "text": [
            "(2, 6)\n",
            "[[  151.50388502   412.16995793   791.26046497  1213.02346365\n",
            "   6065.44811277  2137.59411566]\n",
            " [  306.49611498   833.83004207  1600.73953503  2453.97653635\n",
            "  12270.55188723  4324.40588434]]\n"
          ],
          "name": "stdout"
        }
      ]
    },
    {
      "cell_type": "code",
      "metadata": {
        "id": "schGcj4sX3mp",
        "colab_type": "code",
        "outputId": "11fdd13a-a645-4063-a34b-cd1319150845",
        "colab": {
          "base_uri": "https://localhost:8080/",
          "height": 67
        }
      },
      "source": [
        "# our observed table comes from the contingency table (crosstab) \n",
        "# without the margins\n",
        "\n",
        "observed = pd.crosstab(df['sex'], df['hours_per_week_categories']).values\n",
        "print(observed.shape)\n",
        "observed\n",
        "\n",
        "# This table should have the same shape as the expected table."
      ],
      "execution_count": 0,
      "outputs": [
        {
          "output_type": "stream",
          "text": [
            "(2, 6)\n"
          ],
          "name": "stdout"
        },
        {
          "output_type": "execute_result",
          "data": {
            "text/plain": [
              "array([[  235,   671,  1287,  1914,  5636,  1028],\n",
              "       [  223,   575,  1105,  1753, 12700,  5434]])"
            ]
          },
          "metadata": {
            "tags": []
          },
          "execution_count": 116
        }
      ]
    },
    {
      "cell_type": "markdown",
      "metadata": {
        "id": "rWUgroY4YIMW",
        "colab_type": "text"
      },
      "source": [
        "## Chi-Squared Statistic with Numpy\n",
        "\n",
        "\\begin{align}\n",
        "\\chi^2 = \\sum \\frac{(observed_{i}-expected_{i})^2}{(expected_{i})}\n",
        "\\end{align}\n",
        "\n",
        "For the $observed$ values we will just use a version of our contingency table without the margins as a numpy array. In this way, if our observed values array and our expected values array are the same shape, then we can subtract them and divide them directly which makes the calculations a lot cleaner. No for loops!"
      ]
    },
    {
      "cell_type": "code",
      "metadata": {
        "id": "CdGBxj4LYB6H",
        "colab_type": "code",
        "outputId": "8859cc81-01af-419b-be36-a6cb3486d177",
        "colab": {
          "base_uri": "https://localhost:8080/",
          "height": 34
        }
      },
      "source": [
        "# numpy array broadcasting allows us to write code that looks a lot like the \n",
        "# equation above.\n",
        "\n",
        "# Array broadcasting will work with numpy arrays but not python lists\n",
        "chi_squared = ((observed - expected)**2/(expected)).sum() \n",
        "print(f\"Chi-Squared: {chi_squared}\")\n",
        "# Our chi^2 statistic should match what was caculated by scipy -it does. "
      ],
      "execution_count": 0,
      "outputs": [
        {
          "output_type": "stream",
          "text": [
            "Chi-Squared: 2287.190943926107\n"
          ],
          "name": "stdout"
        }
      ]
    },
    {
      "cell_type": "code",
      "metadata": {
        "id": "S0iiCNFbYXBJ",
        "colab_type": "code",
        "outputId": "1141ebb3-c225-4ffb-8f97-c90f694f876a",
        "colab": {
          "base_uri": "https://localhost:8080/",
          "height": 34
        }
      },
      "source": [
        "# Degrees of Freedom of a Chi-squared test\n",
        "\n",
        "#degrees_of_freedom = (num_rows - 1)(num_columns - 1)\n",
        "\n",
        "# Calculate Degrees of Freedom\n",
        "dof = (len(row_sums)-1)*(len(col_sums)-1)\n",
        "print(f\"Degrees of Freedom: {dof}\")"
      ],
      "execution_count": 0,
      "outputs": [
        {
          "output_type": "stream",
          "text": [
            "Degrees of Freedom: 5\n"
          ],
          "name": "stdout"
        }
      ]
    },
    {
      "cell_type": "markdown",
      "metadata": {
        "id": "3nC31DiQYp7Y",
        "colab_type": "text"
      },
      "source": [
        "We can use tables or a function to translate our chi^2 statistic to a p-value. Because this chi^2 statistic is giant, we kind of already know that the p-value will be very close to zero.\n",
        "\n",
        "\n",
        "For a contingency table with 5 degrees of freedom any p-value greater than 11.07 will be significant and we will reject the null hypothesis of independence.\n",
        "\n",
        "[Chi^2 Table](https://www.google.com/search?q=chi%5E2+table&rlz=1C5CHFA_enUS829US829&sxsrf=ACYBGNTNNVHlurLvNnKaf-q7YeMNgk5WEg:1572987940240&source=lnms&tbm=isch&sa=X&ved=0ahUKEwiBx6fb_NPlAhVQvJ4KHY8sDksQ_AUIEigB&biw=1333&bih=758#imgrc=XUssqKatril4ZM:)\n",
        "\n"
      ]
    },
    {
      "cell_type": "code",
      "metadata": {
        "id": "Iblqb2akZeMq",
        "colab_type": "code",
        "outputId": "2fc268ff-0fb5-4256-8d0b-85e1eacf8014",
        "colab": {
          "base_uri": "https://localhost:8080/",
          "height": 34
        }
      },
      "source": [
        "from scipy.stats.distributions import chi2\n",
        "\n",
        "print(\"P-value from chi^2 statistic:\", chi2.sf(chi_squared, 5))"
      ],
      "execution_count": 0,
      "outputs": [
        {
          "output_type": "stream",
          "text": [
            "P-value from chi^2 statistic: 0.0\n"
          ],
          "name": "stdout"
        }
      ]
    },
    {
      "cell_type": "code",
      "metadata": {
        "id": "rZwoKIUJZhu1",
        "colab_type": "code",
        "colab": {}
      },
      "source": [
        ""
      ],
      "execution_count": 0,
      "outputs": []
    }
  ]
}