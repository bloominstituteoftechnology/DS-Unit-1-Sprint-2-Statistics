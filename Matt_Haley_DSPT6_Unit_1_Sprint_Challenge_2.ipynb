{
  "nbformat": 4,
  "nbformat_minor": 0,
  "metadata": {
    "colab": {
      "name": "Matt_Haley_DSPT6_Unit_1_Sprint_Challenge_2.ipynb",
      "provenance": [],
      "collapsed_sections": [],
      "include_colab_link": true
    },
    "kernelspec": {
      "name": "python3",
      "display_name": "Python 3"
    }
  },
  "cells": [
    {
      "cell_type": "markdown",
      "metadata": {
        "id": "view-in-github",
        "colab_type": "text"
      },
      "source": [
        "<a href=\"https://colab.research.google.com/github/MHaley206265/DS-Unit-1-Sprint-2-Statistics/blob/master/Matt_Haley_DSPT6_Unit_1_Sprint_Challenge_2.ipynb\" target=\"_parent\"><img src=\"https://colab.research.google.com/assets/colab-badge.svg\" alt=\"Open In Colab\"/></a>"
      ]
    },
    {
      "cell_type": "markdown",
      "metadata": {
        "id": "NooAiTdnafkz",
        "colab_type": "text"
      },
      "source": [
        "# Data Science Unit 1 Sprint Challenge 2\n",
        "\n",
        "## Exploring Data, Testing Hypotheses\n",
        "\n",
        "In this sprint challenge you will look at a dataset of people being approved or rejected for credit.\n",
        "\n",
        "https://archive.ics.uci.edu/ml/datasets/Credit+Approval\n",
        "\n",
        "Data Set Information: This file concerns credit card applications. All attribute names and values have been changed to meaningless symbols to protect confidentiality of the data. This dataset is interesting because there is a good mix of attributes -- continuous, nominal with small numbers of values, and nominal with larger numbers of values. There are also a few missing values.\n",
        "\n",
        "Attribute Information:\n",
        "- A1: b, a.\n",
        "- A2: continuous.\n",
        "- A3: continuous.\n",
        "- A4: u, y, l, t.\n",
        "- A5: g, p, gg.\n",
        "- A6: c, d, cc, i, j, k, m, r, q, w, x, e, aa, ff.\n",
        "- A7: v, h, bb, j, n, z, dd, ff, o.\n",
        "- A8: continuous.\n",
        "- A9: t, f.\n",
        "- A10: t, f.\n",
        "- A11: continuous.\n",
        "- A12: t, f.\n",
        "- A13: g, p, s.\n",
        "- A14: continuous.\n",
        "- A15: continuous.\n",
        "- A16: +,- (class attribute)\n",
        "\n",
        "Yes, most of that doesn't mean anything. A16 is a variable that indicates whether or not a person's request for credit has been approved or denied. This is a good candidate for a y variable since we might want to use the other features to predict this one. The remaining variables have been obfuscated for privacy - a challenge you may have to deal with in your data science career.\n",
        "\n",
        "Sprint challenges are evaluated based on satisfactory completion of each part. It is suggested you work through it in order, getting each aspect reasonably working, before trying to deeply explore, iterate, or refine any given step. Once you get to the end, if you want to go back and improve things, go for it!"
      ]
    },
    {
      "cell_type": "markdown",
      "metadata": {
        "id": "5wch6ksCbJtZ",
        "colab_type": "text"
      },
      "source": [
        "## Part 1 - Load and validate the data\n",
        "\n",
        "- Load the data as a `pandas` data frame.\n",
        "- Validate that it has the appropriate number of observations (you can check the raw file, and also read the dataset description from UCI).\n",
        "- UCI says there should be missing data - check, and if necessary change the data so pandas recognizes it as na\n",
        "- Make sure that the loaded features are of the types described above (continuous values should be treated as float), and correct as necessary\n",
        "\n",
        "This is review, but skills that you'll use at the start of any data exploration. Further, you may have to do some investigation to figure out which file to load from - that is part of the puzzle."
      ]
    },
    {
      "cell_type": "code",
      "metadata": {
        "id": "nIBU3vl_GCtk",
        "colab_type": "code",
        "colab": {}
      },
      "source": [
        "# Imports\n",
        "import pandas as pd\n",
        "import scipy.stats as stats\n",
        "import matplotlib.pyplot as plt\n",
        "import seaborn as sns\n",
        "import numpy as np"
      ],
      "execution_count": 0,
      "outputs": []
    },
    {
      "cell_type": "code",
      "metadata": {
        "id": "Q79xDLckzibS",
        "colab_type": "code",
        "colab": {
          "base_uri": "https://localhost:8080/",
          "height": 204
        },
        "outputId": "e28b0613-a8c8-464d-f7b9-fab41e639b78"
      },
      "source": [
        "\n",
        "# load data into data frame\n",
        "url = 'https://archive.ics.uci.edu/ml/machine-learning-databases/credit-screening/crx.data'\n",
        "\n",
        "column_headers = ['A1', 'A2', 'A3', 'A4', 'A5', 'A6', 'A7', 'A8', 'A9', 'A10',\n",
        "                  'A11', 'A12', 'A13', 'A14', 'A15', 'A16']\n",
        "\n",
        "crx = pd.read_csv(url,\n",
        "                  header = None,\n",
        "                  names = column_headers,\n",
        "                  na_values = '?')\n",
        "\n",
        "crx.head()"
      ],
      "execution_count": 7,
      "outputs": [
        {
          "output_type": "execute_result",
          "data": {
            "text/html": [
              "<div>\n",
              "<style scoped>\n",
              "    .dataframe tbody tr th:only-of-type {\n",
              "        vertical-align: middle;\n",
              "    }\n",
              "\n",
              "    .dataframe tbody tr th {\n",
              "        vertical-align: top;\n",
              "    }\n",
              "\n",
              "    .dataframe thead th {\n",
              "        text-align: right;\n",
              "    }\n",
              "</style>\n",
              "<table border=\"1\" class=\"dataframe\">\n",
              "  <thead>\n",
              "    <tr style=\"text-align: right;\">\n",
              "      <th></th>\n",
              "      <th>A1</th>\n",
              "      <th>A2</th>\n",
              "      <th>A3</th>\n",
              "      <th>A4</th>\n",
              "      <th>A5</th>\n",
              "      <th>A6</th>\n",
              "      <th>A7</th>\n",
              "      <th>A8</th>\n",
              "      <th>A9</th>\n",
              "      <th>A10</th>\n",
              "      <th>A11</th>\n",
              "      <th>A12</th>\n",
              "      <th>A13</th>\n",
              "      <th>A14</th>\n",
              "      <th>A15</th>\n",
              "      <th>A16</th>\n",
              "    </tr>\n",
              "  </thead>\n",
              "  <tbody>\n",
              "    <tr>\n",
              "      <th>0</th>\n",
              "      <td>b</td>\n",
              "      <td>30.83</td>\n",
              "      <td>0.000</td>\n",
              "      <td>u</td>\n",
              "      <td>g</td>\n",
              "      <td>w</td>\n",
              "      <td>v</td>\n",
              "      <td>1.25</td>\n",
              "      <td>t</td>\n",
              "      <td>t</td>\n",
              "      <td>1</td>\n",
              "      <td>f</td>\n",
              "      <td>g</td>\n",
              "      <td>202.0</td>\n",
              "      <td>0</td>\n",
              "      <td>+</td>\n",
              "    </tr>\n",
              "    <tr>\n",
              "      <th>1</th>\n",
              "      <td>a</td>\n",
              "      <td>58.67</td>\n",
              "      <td>4.460</td>\n",
              "      <td>u</td>\n",
              "      <td>g</td>\n",
              "      <td>q</td>\n",
              "      <td>h</td>\n",
              "      <td>3.04</td>\n",
              "      <td>t</td>\n",
              "      <td>t</td>\n",
              "      <td>6</td>\n",
              "      <td>f</td>\n",
              "      <td>g</td>\n",
              "      <td>43.0</td>\n",
              "      <td>560</td>\n",
              "      <td>+</td>\n",
              "    </tr>\n",
              "    <tr>\n",
              "      <th>2</th>\n",
              "      <td>a</td>\n",
              "      <td>24.50</td>\n",
              "      <td>0.500</td>\n",
              "      <td>u</td>\n",
              "      <td>g</td>\n",
              "      <td>q</td>\n",
              "      <td>h</td>\n",
              "      <td>1.50</td>\n",
              "      <td>t</td>\n",
              "      <td>f</td>\n",
              "      <td>0</td>\n",
              "      <td>f</td>\n",
              "      <td>g</td>\n",
              "      <td>280.0</td>\n",
              "      <td>824</td>\n",
              "      <td>+</td>\n",
              "    </tr>\n",
              "    <tr>\n",
              "      <th>3</th>\n",
              "      <td>b</td>\n",
              "      <td>27.83</td>\n",
              "      <td>1.540</td>\n",
              "      <td>u</td>\n",
              "      <td>g</td>\n",
              "      <td>w</td>\n",
              "      <td>v</td>\n",
              "      <td>3.75</td>\n",
              "      <td>t</td>\n",
              "      <td>t</td>\n",
              "      <td>5</td>\n",
              "      <td>t</td>\n",
              "      <td>g</td>\n",
              "      <td>100.0</td>\n",
              "      <td>3</td>\n",
              "      <td>+</td>\n",
              "    </tr>\n",
              "    <tr>\n",
              "      <th>4</th>\n",
              "      <td>b</td>\n",
              "      <td>20.17</td>\n",
              "      <td>5.625</td>\n",
              "      <td>u</td>\n",
              "      <td>g</td>\n",
              "      <td>w</td>\n",
              "      <td>v</td>\n",
              "      <td>1.71</td>\n",
              "      <td>t</td>\n",
              "      <td>f</td>\n",
              "      <td>0</td>\n",
              "      <td>f</td>\n",
              "      <td>s</td>\n",
              "      <td>120.0</td>\n",
              "      <td>0</td>\n",
              "      <td>+</td>\n",
              "    </tr>\n",
              "  </tbody>\n",
              "</table>\n",
              "</div>"
            ],
            "text/plain": [
              "  A1     A2     A3 A4 A5 A6 A7    A8 A9 A10  A11 A12 A13    A14  A15 A16\n",
              "0  b  30.83  0.000  u  g  w  v  1.25  t   t    1   f   g  202.0    0   +\n",
              "1  a  58.67  4.460  u  g  q  h  3.04  t   t    6   f   g   43.0  560   +\n",
              "2  a  24.50  0.500  u  g  q  h  1.50  t   f    0   f   g  280.0  824   +\n",
              "3  b  27.83  1.540  u  g  w  v  3.75  t   t    5   t   g  100.0    3   +\n",
              "4  b  20.17  5.625  u  g  w  v  1.71  t   f    0   f   s  120.0    0   +"
            ]
          },
          "metadata": {
            "tags": []
          },
          "execution_count": 7
        }
      ]
    },
    {
      "cell_type": "code",
      "metadata": {
        "id": "MI-v-8T9DjeL",
        "colab_type": "code",
        "colab": {
          "base_uri": "https://localhost:8080/",
          "height": 1000
        },
        "outputId": "dcdaa704-add0-435b-df8f-4fcd1333c799"
      },
      "source": [
        "# look for missing values\n",
        "for i in crx:\n",
        "  print(crx[i].value_counts())"
      ],
      "execution_count": 13,
      "outputs": [
        {
          "output_type": "stream",
          "text": [
            "b    468\n",
            "a    210\n",
            "Name: A1, dtype: int64\n",
            "22.67    9\n",
            "20.42    7\n",
            "24.50    6\n",
            "22.50    6\n",
            "25.00    6\n",
            "        ..\n",
            "44.83    1\n",
            "60.58    1\n",
            "50.08    1\n",
            "34.58    1\n",
            "28.33    1\n",
            "Name: A2, Length: 349, dtype: int64\n",
            "1.500     21\n",
            "0.000     19\n",
            "3.000     19\n",
            "2.500     19\n",
            "1.250     16\n",
            "          ..\n",
            "12.125     1\n",
            "13.915     1\n",
            "22.000     1\n",
            "12.835     1\n",
            "10.915     1\n",
            "Name: A3, Length: 215, dtype: int64\n",
            "u    519\n",
            "y    163\n",
            "l      2\n",
            "Name: A4, dtype: int64\n",
            "g     519\n",
            "p     163\n",
            "gg      2\n",
            "Name: A5, dtype: int64\n",
            "c     137\n",
            "q      78\n",
            "w      64\n",
            "i      59\n",
            "aa     54\n",
            "ff     53\n",
            "k      51\n",
            "cc     41\n",
            "m      38\n",
            "x      38\n",
            "d      30\n",
            "e      25\n",
            "j      10\n",
            "r       3\n",
            "Name: A6, dtype: int64\n",
            "v     399\n",
            "h     138\n",
            "bb     59\n",
            "ff     57\n",
            "z       8\n",
            "j       8\n",
            "dd      6\n",
            "n       4\n",
            "o       2\n",
            "Name: A7, dtype: int64\n",
            "0.000    70\n",
            "0.250    35\n",
            "0.040    33\n",
            "1.000    31\n",
            "0.125    30\n",
            "         ..\n",
            "3.960     1\n",
            "2.040     1\n",
            "1.040     1\n",
            "4.165     1\n",
            "5.375     1\n",
            "Name: A8, Length: 132, dtype: int64\n",
            "t    361\n",
            "f    329\n",
            "Name: A9, dtype: int64\n",
            "f    395\n",
            "t    295\n",
            "Name: A10, dtype: int64\n",
            "0     395\n",
            "1      71\n",
            "2      45\n",
            "3      28\n",
            "6      23\n",
            "11     19\n",
            "5      18\n",
            "7      16\n",
            "4      15\n",
            "8      10\n",
            "9      10\n",
            "14      8\n",
            "12      8\n",
            "10      8\n",
            "15      4\n",
            "16      3\n",
            "17      2\n",
            "20      2\n",
            "40      1\n",
            "13      1\n",
            "19      1\n",
            "23      1\n",
            "67      1\n",
            "Name: A11, dtype: int64\n",
            "f    374\n",
            "t    316\n",
            "Name: A12, dtype: int64\n",
            "g    625\n",
            "s     57\n",
            "p      8\n",
            "Name: A13, dtype: int64\n",
            "0.0      132\n",
            "120.0     35\n",
            "200.0     35\n",
            "160.0     34\n",
            "100.0     30\n",
            "        ... \n",
            "224.0      1\n",
            "186.0      1\n",
            "32.0       1\n",
            "432.0      1\n",
            "202.0      1\n",
            "Name: A14, Length: 170, dtype: int64\n",
            "0       295\n",
            "1        29\n",
            "1000     10\n",
            "500      10\n",
            "2         9\n",
            "       ... \n",
            "2503      1\n",
            "6590      1\n",
            "1465      1\n",
            "5552      1\n",
            "283       1\n",
            "Name: A15, Length: 240, dtype: int64\n",
            "-    383\n",
            "+    307\n",
            "Name: A16, dtype: int64\n"
          ],
          "name": "stdout"
        }
      ]
    },
    {
      "cell_type": "code",
      "metadata": {
        "id": "Mjs7UAoWEEH9",
        "colab_type": "code",
        "colab": {
          "base_uri": "https://localhost:8080/",
          "height": 34
        },
        "outputId": "9117d424-198b-49ad-eb7e-4e302387eb60"
      },
      "source": [
        "# Check the Shape\n",
        "crx.shape\n",
        "\n",
        "# The shape matches what the site says it should have: 690 instances, 15 attributes,\n",
        "# and 1 class attribute"
      ],
      "execution_count": 14,
      "outputs": [
        {
          "output_type": "execute_result",
          "data": {
            "text/plain": [
              "(690, 16)"
            ]
          },
          "metadata": {
            "tags": []
          },
          "execution_count": 14
        }
      ]
    },
    {
      "cell_type": "markdown",
      "metadata": {
        "id": "G7rLytbrO38L",
        "colab_type": "text"
      },
      "source": [
        "## Part 2 - Exploring data, Testing hypotheses\n",
        "\n",
        "The only thing we really know about this data is that A16 is the class label. Besides that, we have 6 continuous (float) features and 9 categorical features.\n",
        "\n",
        "Explore the data: you can use whatever approach (tables, utility functions, visualizations) to get an impression of the distributions and relationships of the variables. In general, your goal is to understand how the features are different when grouped by the two class labels (`+` and `-`).\n",
        "\n",
        "For the 6 continuous features, how are they different when split between the two class labels? Choose two features to run t-tests (again split by class label) - specifically, select one feature that is *extremely* different between the classes, and another feature that is notably less different (though perhaps still \"statistically significantly\" different). You may have to explore more than two features to do this.\n",
        "\n",
        "For the categorical features, explore by creating \"cross tabs\" (aka [contingency tables](https://en.wikipedia.org/wiki/Contingency_table)) between them and the class label, and apply the Chi-squared test to them. [pandas.crosstab](http://pandas.pydata.org/pandas-docs/stable/reference/api/pandas.crosstab.html) can create contingency tables, and [scipy.stats.chi2_contingency](https://docs.scipy.org/doc/scipy/reference/generated/scipy.stats.chi2_contingency.html) can calculate the Chi-squared statistic for them.\n",
        "\n",
        "There are 9 categorical features - as with the t-test, try to find one where the Chi-squared test returns an extreme result (rejecting the null that the data are independent), and one where it is less extreme.\n",
        "\n",
        "**NOTE** - \"less extreme\" just means smaller test statistic/larger p-value. Even the least extreme differences may be strongly statistically significant.\n",
        "\n",
        "Your *main* goal is the hypothesis tests, so don't spend too much time on the exploration/visualization piece. That is just a means to an end - use simple visualizations, such as boxplots or a scatter matrix (both built in to pandas), to get a feel for the overall distribution of the variables.\n",
        "\n",
        "This is challenging, so manage your time and aim for a baseline of at least running two t-tests and two Chi-squared tests before polishing. And don't forget to answer the questions in part 3, even if your results in this part aren't what you want them to be."
      ]
    },
    {
      "cell_type": "code",
      "metadata": {
        "id": "_nqcgc0yzm68",
        "colab_type": "code",
        "colab": {}
      },
      "source": [
        "# splitting dataframe into + and - dataframe\n",
        "\n",
        "crx_plus = crx[crx['A16']=='+'].dropna()\n",
        "crx_minus = crx[crx['A16']=='-'].dropna()\n",
        "\n",
        "crx_split = [crx_plus, crx_minus]"
      ],
      "execution_count": 0,
      "outputs": []
    },
    {
      "cell_type": "code",
      "metadata": {
        "id": "Ko_zPguvGMTT",
        "colab_type": "code",
        "colab": {
          "base_uri": "https://localhost:8080/",
          "height": 119
        },
        "outputId": "da49ba33-2e02-4381-f955-0f25d815d672"
      },
      "source": [
        "# lets look at the pvalues of the continues variables\n",
        "\n",
        "continuous = ['A2', 'A3', 'A8', 'A11', 'A14', 'A15']\n",
        "\n",
        "for i in crx:\n",
        "  if i in continuous:\n",
        "    print(f'The p-value of category {i} is {stats.ttest_ind(crx_plus[i], crx_minus[i]).pvalue}')"
      ],
      "execution_count": 22,
      "outputs": [
        {
          "output_type": "stream",
          "text": [
            "The p-value of category A2 is 3.5636710933835225e-06\n",
            "The p-value of category A3 is 9.310154396147606e-08\n",
            "The p-value of category A8 is 2.4079238505859142e-18\n",
            "The p-value of category A11 is 2.5864649620278843e-27\n",
            "The p-value of category A14 is 0.029450100409286473\n",
            "The p-value of category A15 is 9.003915641872878e-06\n"
          ],
          "name": "stdout"
        }
      ]
    },
    {
      "cell_type": "code",
      "metadata": {
        "id": "g3TfOprvJED0",
        "colab_type": "code",
        "colab": {
          "base_uri": "https://localhost:8080/",
          "height": 282
        },
        "outputId": "2cd8aa8f-01ea-46d0-e580-7c5a5eb4519f"
      },
      "source": [
        "# After looking at the pvalues, I will look at A11 and A14.  I chose these to features\n",
        "# because A11 has the smallest pvalue and A14 has the largest.\n",
        "\n",
        "# starting with A11:\n",
        "\n",
        "bayes_conf_int_plus = stats.bayes_mvs(crx_plus['A11'], .95)\n",
        "\n",
        "sns.kdeplot(crx_plus['A11'])\n",
        "plt.axvline(bayes_conf_int_plus[0][1][0], color = 'red')\n",
        "plt.axvline(bayes_conf_int_plus[0][1][1], color = 'red')\n",
        "plt.axvline(bayes_conf_int_plus[0][0], color = 'black')"
      ],
      "execution_count": 26,
      "outputs": [
        {
          "output_type": "execute_result",
          "data": {
            "text/plain": [
              "<matplotlib.lines.Line2D at 0x7f1711975080>"
            ]
          },
          "metadata": {
            "tags": []
          },
          "execution_count": 26
        },
        {
          "output_type": "display_data",
          "data": {
            "image/png": "[encoded data removed]",
            "text/plain": [
              "<Figure size 432x288 with 1 Axes>"
            ]
          },
          "metadata": {
            "tags": [],
            "needs_background": "light"
          }
        }
      ]
    },
    {
      "cell_type": "code",
      "metadata": {
        "id": "x7KYsEQBLw4k",
        "colab_type": "code",
        "colab": {
          "base_uri": "https://localhost:8080/",
          "height": 282
        },
        "outputId": "3c47d432-aebd-4b55-8472-edd2e4f1ac50"
      },
      "source": [
        "bayes_conf_int_minus = stats.bayes_mvs(crx_minus['A11'], .95)\n",
        "\n",
        "sns.kdeplot(crx_minus['A11'])\n",
        "plt.axvline(bayes_conf_int_minus[0][1][0], color = 'red')\n",
        "plt.axvline(bayes_conf_int_minus[0][1][1], color = 'red')\n",
        "plt.axvline(bayes_conf_int_minus[0][0], color = 'black')"
      ],
      "execution_count": 27,
      "outputs": [
        {
          "output_type": "execute_result",
          "data": {
            "text/plain": [
              "<matplotlib.lines.Line2D at 0x7f170ec4af60>"
            ]
          },
          "metadata": {
            "tags": []
          },
          "execution_count": 27
        },
        {
          "output_type": "display_data",
          "data": {
            "image/png": "[encoded data removed]",
            "text/plain": [
              "<Figure size 432x288 with 1 Axes>"
            ]
          },
          "metadata": {
            "tags": [],
            "needs_background": "light"
          }
        }
      ]
    },
    {
      "cell_type": "code",
      "metadata": {
        "id": "LqDXKFymMGwF",
        "colab_type": "code",
        "colab": {}
      },
      "source": [
        "# Looking at A11, the plus sample of the data has a skewed normal distribution with\n",
        "# a long right tail.  The minus sample, however, does not seem to have a normal distribution.\n",
        "# It would make sense that the difference in the two samples are statistically significant\n",
        "# for this reason."
      ],
      "execution_count": 0,
      "outputs": []
    },
    {
      "cell_type": "code",
      "metadata": {
        "id": "nzGJt0pGM6c1",
        "colab_type": "code",
        "colab": {
          "base_uri": "https://localhost:8080/",
          "height": 319
        },
        "outputId": "4dc6511b-b5eb-44c3-9100-55ea2a50aacc"
      },
      "source": [
        "# looking at A14, starting with the plus sample\n",
        "bayes_conf_int_plus = stats.bayes_mvs(crx_plus['A14'], .95)\n",
        "\n",
        "print(bayes_conf_int_plus)\n",
        "\n",
        "sns.kdeplot(crx_plus['A14'])\n",
        "plt.axvline(bayes_conf_int_plus[0][1][0], color = 'red')\n",
        "plt.axvline(bayes_conf_int_plus[0][1][1], color = 'red')\n",
        "plt.axvline(bayes_conf_int_plus[0][0], color = 'black')"
      ],
      "execution_count": 31,
      "outputs": [
        {
          "output_type": "stream",
          "text": [
            "(Mean(statistic=164.6216216216216, minmax=(146.02828255958994, 183.2149606836533)), Variance(statistic=26600.74956184854, minmax=(22625.958584746488, 31261.82339724833)), Std_dev(statistic=162.95826026655936, minmax=(150.41927597467847, 176.81013375157073)))\n"
          ],
          "name": "stdout"
        },
        {
          "output_type": "execute_result",
          "data": {
            "text/plain": [
              "<matplotlib.lines.Line2D at 0x7f170eab0908>"
            ]
          },
          "metadata": {
            "tags": []
          },
          "execution_count": 31
        },
        {
          "output_type": "display_data",
          "data": {
            "image/png": "[encoded data removed]",
            "text/plain": [
              "<Figure size 432x288 with 1 Axes>"
            ]
          },
          "metadata": {
            "tags": [],
            "needs_background": "light"
          }
        }
      ]
    },
    {
      "cell_type": "code",
      "metadata": {
        "id": "v4EV3wHKNQOO",
        "colab_type": "code",
        "colab": {
          "base_uri": "https://localhost:8080/",
          "height": 319
        },
        "outputId": "94310a59-8e08-4324-ef70-92dcd1341cd5"
      },
      "source": [
        "# and then the minus sample\n",
        "bayes_conf_int_minus = stats.bayes_mvs(crx_minus['A14'], .95)\n",
        "\n",
        "print(bayes_conf_int_minus)\n",
        "\n",
        "sns.kdeplot(crx_minus['A14'])\n",
        "plt.axvline(bayes_conf_int_minus[0][1][0], color = 'red')\n",
        "plt.axvline(bayes_conf_int_minus[0][1][1], color = 'red')\n",
        "plt.axvline(bayes_conf_int_minus[0][0], color = 'black')"
      ],
      "execution_count": 32,
      "outputs": [
        {
          "output_type": "stream",
          "text": [
            "(Mean(statistic=193.40896358543418, minmax=(175.50011280688383, 211.31781436398452)), Variance(statistic=29771.192913323524, minmax=(25694.47097184631, 34483.90273526495)), Std_dev(statistic=172.42149791663508, minmax=(160.2949499262104, 185.6984187742721)))\n"
          ],
          "name": "stdout"
        },
        {
          "output_type": "execute_result",
          "data": {
            "text/plain": [
              "<matplotlib.lines.Line2D at 0x7f170ea21d68>"
            ]
          },
          "metadata": {
            "tags": []
          },
          "execution_count": 32
        },
        {
          "output_type": "display_data",
          "data": {
            "image/png": "[encoded data removed]",
            "text/plain": [
              "<Figure size 432x288 with 1 Axes>"
            ]
          },
          "metadata": {
            "tags": [],
            "needs_background": "light"
          }
        }
      ]
    },
    {
      "cell_type": "code",
      "metadata": {
        "id": "_P0ms5MONvR6",
        "colab_type": "code",
        "colab": {}
      },
      "source": [
        "# looking at these two sets of data from the samples, they have a similar mean, and similar\n",
        "# confidence intervals, however, the data from the minus sample seems to have a much longer\n",
        "# tail to the right"
      ],
      "execution_count": 0,
      "outputs": []
    },
    {
      "cell_type": "code",
      "metadata": {
        "id": "FmTzLtYFObiS",
        "colab_type": "code",
        "colab": {
          "base_uri": "https://localhost:8080/",
          "height": 85
        },
        "outputId": "52a38ba0-2e1b-4222-a458-f0d4fbb0a06b"
      },
      "source": [
        "# lets look for interesting categorical tests\n",
        "# start with A4\n",
        "crx['A4'].value_counts()"
      ],
      "execution_count": 35,
      "outputs": [
        {
          "output_type": "execute_result",
          "data": {
            "text/plain": [
              "u    519\n",
              "y    163\n",
              "l      2\n",
              "Name: A4, dtype: int64"
            ]
          },
          "metadata": {
            "tags": []
          },
          "execution_count": 35
        }
      ]
    },
    {
      "cell_type": "code",
      "metadata": {
        "id": "8RNTDFIaPRt8",
        "colab_type": "code",
        "colab": {
          "base_uri": "https://localhost:8080/",
          "height": 142
        },
        "outputId": "992b4eac-e34f-4ab5-e5a9-a9c16e00095a"
      },
      "source": [
        "cross_A4 = pd.crosstab(crx['A16'], crx['A4'])\n",
        "cross_A4"
      ],
      "execution_count": 38,
      "outputs": [
        {
          "output_type": "execute_result",
          "data": {
            "text/html": [
              "<div>\n",
              "<style scoped>\n",
              "    .dataframe tbody tr th:only-of-type {\n",
              "        vertical-align: middle;\n",
              "    }\n",
              "\n",
              "    .dataframe tbody tr th {\n",
              "        vertical-align: top;\n",
              "    }\n",
              "\n",
              "    .dataframe thead th {\n",
              "        text-align: right;\n",
              "    }\n",
              "</style>\n",
              "<table border=\"1\" class=\"dataframe\">\n",
              "  <thead>\n",
              "    <tr style=\"text-align: right;\">\n",
              "      <th>A4</th>\n",
              "      <th>l</th>\n",
              "      <th>u</th>\n",
              "      <th>y</th>\n",
              "    </tr>\n",
              "    <tr>\n",
              "      <th>A16</th>\n",
              "      <th></th>\n",
              "      <th></th>\n",
              "      <th></th>\n",
              "    </tr>\n",
              "  </thead>\n",
              "  <tbody>\n",
              "    <tr>\n",
              "      <th>+</th>\n",
              "      <td>2</td>\n",
              "      <td>256</td>\n",
              "      <td>45</td>\n",
              "    </tr>\n",
              "    <tr>\n",
              "      <th>-</th>\n",
              "      <td>0</td>\n",
              "      <td>263</td>\n",
              "      <td>118</td>\n",
              "    </tr>\n",
              "  </tbody>\n",
              "</table>\n",
              "</div>"
            ],
            "text/plain": [
              "A4   l    u    y\n",
              "A16             \n",
              "+    2  256   45\n",
              "-    0  263  118"
            ]
          },
          "metadata": {
            "tags": []
          },
          "execution_count": 38
        }
      ]
    },
    {
      "cell_type": "code",
      "metadata": {
        "id": "tTp8pNYZQJnJ",
        "colab_type": "code",
        "colab": {
          "base_uri": "https://localhost:8080/",
          "height": 119
        },
        "outputId": "02572c62-d85e-488f-d651-1fac7b9bcb90"
      },
      "source": [
        "# do a chi squared test on the A4 crosstab\n",
        "chi_squared, p_value, dof, expected = stats.chi2_contingency(cross_A4)\n",
        "\n",
        "print(f\"Chi-Squared: {chi_squared}\")\n",
        "print(f\"P-value: {p_value}\")\n",
        "print(f\"Degrees of Freedom: {dof}\") \n",
        "print(\"Expected: \\n\", np.array(expected))\n"
      ],
      "execution_count": 41,
      "outputs": [
        {
          "output_type": "stream",
          "text": [
            "Chi-Squared: 26.234074966202144\n",
            "P-value: 2.010680204180363e-06\n",
            "Degrees of Freedom: 2\n",
            "Expected: \n",
            " [[  0.88596491 229.90789474  72.20614035]\n",
            " [  1.11403509 289.09210526  90.79385965]]\n"
          ],
          "name": "stdout"
        }
      ]
    },
    {
      "cell_type": "code",
      "metadata": {
        "id": "b-JE9kyDQpKu",
        "colab_type": "code",
        "colab": {
          "base_uri": "https://localhost:8080/",
          "height": 142
        },
        "outputId": "9ea0f759-743b-41ac-eece-694326267a29"
      },
      "source": [
        "# Check A7\n",
        "\n",
        "cross_A7 = pd.crosstab(crx['A16'], crx['A7'])\n",
        "cross_A7"
      ],
      "execution_count": 43,
      "outputs": [
        {
          "output_type": "execute_result",
          "data": {
            "text/html": [
              "<div>\n",
              "<style scoped>\n",
              "    .dataframe tbody tr th:only-of-type {\n",
              "        vertical-align: middle;\n",
              "    }\n",
              "\n",
              "    .dataframe tbody tr th {\n",
              "        vertical-align: top;\n",
              "    }\n",
              "\n",
              "    .dataframe thead th {\n",
              "        text-align: right;\n",
              "    }\n",
              "</style>\n",
              "<table border=\"1\" class=\"dataframe\">\n",
              "  <thead>\n",
              "    <tr style=\"text-align: right;\">\n",
              "      <th>A7</th>\n",
              "      <th>bb</th>\n",
              "      <th>dd</th>\n",
              "      <th>ff</th>\n",
              "      <th>h</th>\n",
              "      <th>j</th>\n",
              "      <th>n</th>\n",
              "      <th>o</th>\n",
              "      <th>v</th>\n",
              "      <th>z</th>\n",
              "    </tr>\n",
              "    <tr>\n",
              "      <th>A16</th>\n",
              "      <th></th>\n",
              "      <th></th>\n",
              "      <th></th>\n",
              "      <th></th>\n",
              "      <th></th>\n",
              "      <th></th>\n",
              "      <th></th>\n",
              "      <th></th>\n",
              "      <th></th>\n",
              "    </tr>\n",
              "  </thead>\n",
              "  <tbody>\n",
              "    <tr>\n",
              "      <th>+</th>\n",
              "      <td>25</td>\n",
              "      <td>2</td>\n",
              "      <td>8</td>\n",
              "      <td>87</td>\n",
              "      <td>3</td>\n",
              "      <td>2</td>\n",
              "      <td>1</td>\n",
              "      <td>169</td>\n",
              "      <td>6</td>\n",
              "    </tr>\n",
              "    <tr>\n",
              "      <th>-</th>\n",
              "      <td>34</td>\n",
              "      <td>4</td>\n",
              "      <td>49</td>\n",
              "      <td>51</td>\n",
              "      <td>5</td>\n",
              "      <td>2</td>\n",
              "      <td>1</td>\n",
              "      <td>230</td>\n",
              "      <td>2</td>\n",
              "    </tr>\n",
              "  </tbody>\n",
              "</table>\n",
              "</div>"
            ],
            "text/plain": [
              "A7   bb  dd  ff   h  j  n  o    v  z\n",
              "A16                                 \n",
              "+    25   2   8  87  3  2  1  169  6\n",
              "-    34   4  49  51  5  2  1  230  2"
            ]
          },
          "metadata": {
            "tags": []
          },
          "execution_count": 43
        }
      ]
    },
    {
      "cell_type": "code",
      "metadata": {
        "id": "2zdJ7rLGRNng",
        "colab_type": "code",
        "colab": {
          "base_uri": "https://localhost:8080/",
          "height": 153
        },
        "outputId": "cf997836-9ec3-44b1-a481-ab80fc82e083"
      },
      "source": [
        "# cross tab on A7\n",
        "chi_squared, p_value, dof, expected = stats.chi2_contingency(cross_A7)\n",
        "\n",
        "print(f\"Chi-Squared: {chi_squared}\")\n",
        "print(f\"P-value: {p_value}\")\n",
        "print(f\"Degrees of Freedom: {dof}\") \n",
        "print(\"Expected: \\n\", np.array(expected))"
      ],
      "execution_count": 44,
      "outputs": [
        {
          "output_type": "stream",
          "text": [
            "Chi-Squared: 45.034207140240554\n",
            "P-value: 3.625452872372267e-07\n",
            "Degrees of Freedom: 8\n",
            "Expected: \n",
            " [[ 26.25110132   2.66960352  25.36123348  61.40088106   3.55947137\n",
            "    1.77973568   0.88986784 177.52863436   3.55947137]\n",
            " [ 32.74889868   3.33039648  31.63876652  76.59911894   4.44052863\n",
            "    2.22026432   1.11013216 221.47136564   4.44052863]]\n"
          ],
          "name": "stdout"
        }
      ]
    },
    {
      "cell_type": "code",
      "metadata": {
        "id": "a63MUaMbReYJ",
        "colab_type": "code",
        "colab": {
          "base_uri": "https://localhost:8080/",
          "height": 119
        },
        "outputId": "e79a0609-5708-49d5-e444-dc4f23ebc4b4"
      },
      "source": [
        "# look at A5\n",
        "cross_A5 = pd.crosstab(crx['A16'], crx['A5'])\n",
        "\n",
        "chi_squared, p_value, dof, expected = stats.chi2_contingency(cross_A5)\n",
        "\n",
        "print(f\"Chi-Squared: {chi_squared}\")\n",
        "print(f\"P-value: {p_value}\")\n",
        "print(f\"Degrees of Freedom: {dof}\") \n",
        "print(\"Expected: \\n\", np.array(expected))"
      ],
      "execution_count": 45,
      "outputs": [
        {
          "output_type": "stream",
          "text": [
            "Chi-Squared: 26.234074966202144\n",
            "P-value: 2.010680204180363e-06\n",
            "Degrees of Freedom: 2\n",
            "Expected: \n",
            " [[229.90789474   0.88596491  72.20614035]\n",
            " [289.09210526   1.11403509  90.79385965]]\n"
          ],
          "name": "stdout"
        }
      ]
    },
    {
      "cell_type": "code",
      "metadata": {
        "id": "KiZMAJE3RvDA",
        "colab_type": "code",
        "colab": {
          "base_uri": "https://localhost:8080/",
          "height": 187
        },
        "outputId": "d774eced-bc24-4d6b-9448-d079c9eb8dc1"
      },
      "source": [
        "# look at A6\n",
        "cross_A6 = pd.crosstab(crx['A16'], crx['A6'])\n",
        "\n",
        "chi_squared, p_value, dof, expected = stats.chi2_contingency(cross_A6)\n",
        "\n",
        "print(f\"Chi-Squared: {chi_squared}\")\n",
        "print(f\"P-value: {p_value}\")\n",
        "print(f\"Degrees of Freedom: {dof}\") \n",
        "print(\"Expected: \\n\", np.array(expected))"
      ],
      "execution_count": 46,
      "outputs": [
        {
          "output_type": "stream",
          "text": [
            "Chi-Squared: 98.32520342679135\n",
            "P-value: 3.4999300402715717e-15\n",
            "Degrees of Freedom: 13\n",
            "Expected: \n",
            " [[24.02643172 60.95594714 18.24229075 13.34801762 11.12334802 23.5814978\n",
            "  26.25110132  4.44933921 22.69162996 16.90748899 34.70484581  1.33480176\n",
            "  28.47577093 16.90748899]\n",
            " [29.97356828 76.04405286 22.75770925 16.65198238 13.87665198 29.4185022\n",
            "  32.74889868  5.55066079 28.30837004 21.09251101 43.29515419  1.66519824\n",
            "  35.52422907 21.09251101]]\n"
          ],
          "name": "stdout"
        }
      ]
    },
    {
      "cell_type": "code",
      "metadata": {
        "id": "bQLZgXTzR3mE",
        "colab_type": "code",
        "colab": {
          "base_uri": "https://localhost:8080/",
          "height": 119
        },
        "outputId": "cc067bb1-b15f-427e-c632-0bd610c49a65"
      },
      "source": [
        "# A9\n",
        "cross_A9 = pd.crosstab(crx['A16'], crx['A9'])\n",
        "\n",
        "chi_squared, p_value, dof, expected = stats.chi2_contingency(cross_A9)\n",
        "\n",
        "print(f\"Chi-Squared: {chi_squared}\")\n",
        "print(f\"P-value: {p_value}\")\n",
        "print(f\"Degrees of Freedom: {dof}\") \n",
        "print(\"Expected: \\n\", np.array(expected))"
      ],
      "execution_count": 47,
      "outputs": [
        {
          "output_type": "stream",
          "text": [
            "Chi-Squared: 355.2038167412799\n",
            "P-value: 3.1185900878457007e-79\n",
            "Degrees of Freedom: 1\n",
            "Expected: \n",
            " [[146.38115942 160.61884058]\n",
            " [182.61884058 200.38115942]]\n"
          ],
          "name": "stdout"
        }
      ]
    },
    {
      "cell_type": "code",
      "metadata": {
        "id": "_cLBFWlwR9ln",
        "colab_type": "code",
        "colab": {
          "base_uri": "https://localhost:8080/",
          "height": 119
        },
        "outputId": "66422a45-799f-45c4-ab0e-aa01b94e25ff"
      },
      "source": [
        "# A10\n",
        "cross_A10 = pd.crosstab(crx['A16'], crx['A10'])\n",
        "\n",
        "chi_squared, p_value, dof, expected = stats.chi2_contingency(cross_A10)\n",
        "\n",
        "print(f\"Chi-Squared: {chi_squared}\")\n",
        "print(f\"P-value: {p_value}\")\n",
        "print(f\"Degrees of Freedom: {dof}\") \n",
        "print(\"Expected: \\n\", np.array(expected))"
      ],
      "execution_count": 48,
      "outputs": [
        {
          "output_type": "stream",
          "text": [
            "Chi-Squared: 143.06956205083145\n",
            "P-value: 5.675727374527571e-33\n",
            "Degrees of Freedom: 1\n",
            "Expected: \n",
            " [[175.74637681 131.25362319]\n",
            " [219.25362319 163.74637681]]\n"
          ],
          "name": "stdout"
        }
      ]
    },
    {
      "cell_type": "code",
      "metadata": {
        "id": "0ufnY6wASGwT",
        "colab_type": "code",
        "colab": {
          "base_uri": "https://localhost:8080/",
          "height": 119
        },
        "outputId": "b6dc1201-669b-495a-bd7a-8f2d79765304"
      },
      "source": [
        "# A12\n",
        "cross_A12 = pd.crosstab(crx['A16'], crx['A12'])\n",
        "\n",
        "chi_squared, p_value, dof, expected = stats.chi2_contingency(cross_A12)\n",
        "\n",
        "print(f\"Chi-Squared: {chi_squared}\")\n",
        "print(f\"P-value: {p_value}\")\n",
        "print(f\"Degrees of Freedom: {dof}\") \n",
        "print(\"Expected: \\n\", np.array(expected))"
      ],
      "execution_count": 49,
      "outputs": [
        {
          "output_type": "stream",
          "text": [
            "Chi-Squared: 0.568273300792113\n",
            "P-value: 0.45094587758631943\n",
            "Degrees of Freedom: 1\n",
            "Expected: \n",
            " [[166.40289855 140.59710145]\n",
            " [207.59710145 175.40289855]]\n"
          ],
          "name": "stdout"
        }
      ]
    },
    {
      "cell_type": "code",
      "metadata": {
        "id": "VPsZxzSjSMhe",
        "colab_type": "code",
        "colab": {
          "base_uri": "https://localhost:8080/",
          "height": 119
        },
        "outputId": "e3c60c85-f7b6-4a3c-9295-2cd10e8aca64"
      },
      "source": [
        "# and A13\n",
        "cross_A13 = pd.crosstab(crx['A16'], crx['A13'])\n",
        "\n",
        "chi_squared, p_value, dof, expected = stats.chi2_contingency(cross_A13)\n",
        "\n",
        "print(f\"Chi-Squared: {chi_squared}\")\n",
        "print(f\"P-value: {p_value}\")\n",
        "print(f\"Degrees of Freedom: {dof}\") \n",
        "print(\"Expected: \\n\", np.array(expected))"
      ],
      "execution_count": 50,
      "outputs": [
        {
          "output_type": "stream",
          "text": [
            "Chi-Squared: 9.191570451545383\n",
            "P-value: 0.010094291370456362\n",
            "Degrees of Freedom: 2\n",
            "Expected: \n",
            " [[278.07971014   3.55942029  25.36086957]\n",
            " [346.92028986   4.44057971  31.63913043]]\n"
          ],
          "name": "stdout"
        }
      ]
    },
    {
      "cell_type": "code",
      "metadata": {
        "id": "yv4Yhr-SSOpc",
        "colab_type": "code",
        "colab": {}
      },
      "source": [
        "# After doing chi squared tests on the categorical data, it looks like\n",
        "# A12 has the highest p_value and A9 has the lowest"
      ],
      "execution_count": 0,
      "outputs": []
    },
    {
      "cell_type": "code",
      "metadata": {
        "id": "sGR2m8bvS69x",
        "colab_type": "code",
        "colab": {
          "base_uri": "https://localhost:8080/",
          "height": 284
        },
        "outputId": "987c9965-42f0-436b-a8a6-693ac55b19f4"
      },
      "source": [
        "cross_A12.plot.kde()"
      ],
      "execution_count": 51,
      "outputs": [
        {
          "output_type": "execute_result",
          "data": {
            "text/plain": [
              "<matplotlib.axes._subplots.AxesSubplot at 0x7f170e8e4240>"
            ]
          },
          "metadata": {
            "tags": []
          },
          "execution_count": 51
        },
        {
          "output_type": "display_data",
          "data": {
            "image/png": "[encoded data removed]",
            "text/plain": [
              "<Figure size 432x288 with 1 Axes>"
            ]
          },
          "metadata": {
            "tags": [],
            "needs_background": "light"
          }
        }
      ]
    },
    {
      "cell_type": "code",
      "metadata": {
        "id": "-v4_fGNMTGRq",
        "colab_type": "code",
        "colab": {
          "base_uri": "https://localhost:8080/",
          "height": 282
        },
        "outputId": "b47c62a7-3d7b-4cff-e5b9-33aecfc62882"
      },
      "source": [
        "cross_A9.plot.kde()"
      ],
      "execution_count": 52,
      "outputs": [
        {
          "output_type": "execute_result",
          "data": {
            "text/plain": [
              "<matplotlib.axes._subplots.AxesSubplot at 0x7f170e855e80>"
            ]
          },
          "metadata": {
            "tags": []
          },
          "execution_count": 52
        },
        {
          "output_type": "display_data",
          "data": {
            "image/png": "[encoded data removed]",
            "text/plain": [
              "<Figure size 432x288 with 1 Axes>"
            ]
          },
          "metadata": {
            "tags": [],
            "needs_background": "light"
          }
        }
      ]
    },
    {
      "cell_type": "markdown",
      "metadata": {
        "id": "ZM8JckA2bgnp",
        "colab_type": "text"
      },
      "source": [
        "## Part 3 - Analysis and Interpretation\n",
        "\n",
        "Now that you've looked at the data, answer the following questions:\n",
        "\n",
        "- Interpret and explain the two t-tests you ran - what do they tell you about the relationships between the continuous features you selected and the class labels?\n",
        "- Interpret and explain the two Chi-squared tests you ran - what do they tell you about the relationships between the categorical features you selected and the class labels?\n",
        "- What was the most challenging part of this sprint challenge?\n",
        "\n",
        "Answer with text, but feel free to intersperse example code/results or refer to it from earlier."
      ]
    },
    {
      "cell_type": "markdown",
      "metadata": {
        "id": "LIozLDNG2Uhu",
        "colab_type": "text"
      },
      "source": [
        "###Continuous Features###\n",
        "There were two continuous features that I decided to look at, A11 and A14.  For **A14**, when comparing the plus and minus samples, the p-value was 0.029450100409286473. This p-value indicates that the null hypothesis for A14 can be rejected with about a 97% certainty.  This means that the categories of plus and minus do have a statistical significance on the outcome of the feature and the difference in outcome is not random. Looking at **A11**, the p-value was 2.5864649620278843e-27. This p-value indicates that the null hpyothesis for A11 can be rejected with a very high degree of certainty, greater than 99.9%. This maeans that the plus and minus categories have a statistical significance on the outcome of the feature and it is extremely unlikely that the difference in the outcomes was random."
      ]
    },
    {
      "cell_type": "markdown",
      "metadata": {
        "id": "wLn4fwFDWg9n",
        "colab_type": "text"
      },
      "source": [
        "###Categorical Features###\n",
        "There were two categorical features that I looked at: A9 and A12. Looking at **A9**, it had a p-value of 3.1185900878457007e-79 when comparing the plus and minus samples. This p-value indicates that the null hypothesis can be rejected with a degree of certainty greater than 99.9%. This indicates that the samples selected are not random, but rather, the impact of plus and minus is almost certainly statistically significant.  Looking at A12, however, shows a different picture. The p-value between plus and minus was 0.45094587758631943. This means that the null hypothesis for A12 cannot be rejected and must be upheld. It also implies that the differences between plus and minus are most likely random and that the classes have no statistically significant impact on the feature."
      ]
    },
    {
      "cell_type": "markdown",
      "metadata": {
        "id": "uh5_I031YVZY",
        "colab_type": "text"
      },
      "source": [
        "###Most Challenging?###\n",
        "In my opinion, the most challenging part of this sprint challenge is trying to put the outcomes of the statistical tests into words.  By looking at the numbers, I am able to quickly come up with an interpretation in my head, but puting it into words for others to see can be challenging if they have no knowledge of statistics.  It is a fun challenge, however, and just another part of the puzzle that needs to be solved."
      ]
    },
    {
      "cell_type": "markdown",
      "metadata": {
        "id": "pvs3_-sNWQv0",
        "colab_type": "text"
      },
      "source": [
        "## Part 4 - Bayesian vs Frequentist Statistics\n",
        "\n",
        "Using a minimum of 2-3 sentences, give an explanation of Bayesian and Frequentist statistics, and then compare and contrast these two approaches to statistical inference.\n",
        "\n"
      ]
    },
    {
      "cell_type": "markdown",
      "metadata": {
        "id": "h1oK1UaDWrI-",
        "colab_type": "text"
      },
      "source": [
        "Bayesian and Frequentist statistics both try to look at the probability of something impacting something else, however, they have a fundamentally different approach to finding that information.  Frequentists try to find a sample of a population that is finite, and through testing a sample of that population, they are able to extrapolate the findings of the sample to the total population since the bounds of the population are known.  Bayesians, however, look more at the hypothesis and information about the hypothesis.  They then are able to start with the given information and form a better understanding of the hypothesis and any statistical significance by updating the information iteratively.  For this reason, Bayesian statistics doesn't requre as large of sample sizes."
      ]
    },
    {
      "cell_type": "markdown",
      "metadata": {
        "id": "XOequK5xpVz7",
        "colab_type": "text"
      },
      "source": [
        "# Stretch Goals: \n",
        "Do these to get a 3. These are not required in order to pass the Sprint Challenge.\n",
        "\n",
        "## Part 1: \n",
        "\n",
        "Make sure that all of your dataframe columns have the appropriate data types. *Hint:* If a column has the datatype of \"object\" even though it's made up of float or integer values, you can coerce it to act as a numeric column by using the `pd.to_numeric()` function. In order to get a 3 on this section make sure that your data exploration is particularly well commented, easy to follow, and thorough.\n",
        "\n",
        "## Part 2:\n",
        "\n",
        "Write functions that can calculate t-tests and chi^2 tests on all of the appropriate column combinations from the dataset. (Remember that certain tests require certain variable types.)\n",
        "\n",
        "## Part 3: \n",
        "\n",
        "Calculate and report confidence intervals on your most important mean estimates (choose at least two). Make some kind of a graphic or visualization to help us see visually how precise these estimates are.\n",
        "\n",
        "## Part 4:\n",
        "\n",
        "Give an extra awesome explanation of Bayesian vs Frequentist Statistics. Maybe use code or visualizations, or any other means necessary to show an above average grasp of these high level concepts."
      ]
    },
    {
      "cell_type": "code",
      "metadata": {
        "id": "NT37grnxqa05",
        "colab_type": "code",
        "colab": {}
      },
      "source": [
        "# You can work the stretch goals down here or back up in their regular sections\n",
        "# just make sure that they are labeled so that we can easily differentiate\n",
        "# your main work from the stretch goals."
      ],
      "execution_count": 0,
      "outputs": []
    }
  ]
}