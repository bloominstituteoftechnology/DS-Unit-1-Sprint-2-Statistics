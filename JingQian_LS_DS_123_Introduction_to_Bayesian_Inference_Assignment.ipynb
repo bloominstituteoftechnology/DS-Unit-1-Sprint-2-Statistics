{
  "nbformat": 4,
  "nbformat_minor": 0,
  "metadata": {
    "colab": {
      "name": "JingQian_LS_DS_123_Introduction_to_Bayesian_Inference_Assignment.ipynb",
      "provenance": [],
      "collapsed_sections": [],
      "include_colab_link": true
    },
    "kernelspec": {
      "name": "python3",
      "display_name": "Python 3"
    }
  },
  "cells": [
    {
      "cell_type": "markdown",
      "metadata": {
        "id": "view-in-github",
        "colab_type": "text"
      },
      "source": [
        "<a href=\"https://colab.research.google.com/github/qianjing2020/DS-Unit-1-Sprint-2-Statistics/blob/master/JingQian_LS_DS_123_Introduction_to_Bayesian_Inference_Assignment.ipynb\" target=\"_parent\"><img src=\"https://colab.research.google.com/assets/colab-badge.svg\" alt=\"Open In Colab\"/></a>"
      ]
    },
    {
      "cell_type": "markdown",
      "metadata": {
        "id": "H7OLbevlbd_Z",
        "colab_type": "text"
      },
      "source": [
        "# Lambda School Data Science Module 123\n",
        "\n",
        "## Introduction to Bayesian Inference\n",
        "\n",
        "\n"
      ]
    },
    {
      "cell_type": "markdown",
      "metadata": {
        "id": "P-DzzRk5bf0z",
        "colab_type": "text"
      },
      "source": [
        "## Assignment - Code it up!\n",
        "\n",
        "We used pure math to apply Bayes Theorem to drug tests. Now write Python code to reproduce the results! This is purposefully open ended - you'll have to think about how you should represent probabilities and events. You can and should look things up.\n",
        "\n",
        "Specific goals/targets:\n",
        "\n",
        "### 1) Write a function \n",
        "\n",
        "`def prob_drunk_given_positive(prob_drunk_prior, false_positive_rate):` \n",
        "\n",
        "You should only truly need these two values in order to apply Bayes Theorem. In this example, imagine that individuals are taking a breathalyzer test with an 8% false positive rate, a 100% true positive rate, and that our prior belief about drunk driving in the population is 1/1000. \n",
        " - What is the probability that a person is drunk after one positive breathalyzer test?\n",
        " - What is the probability that a person is drunk after two positive breathalyzer tests?\n",
        " - How many positive breathalyzer tests are needed in order to have a probability that's greater than 95% that a person is drunk beyond the legal limit?\n",
        "\n",
        "### 2) Explore `scipy.stats.bayes_mvs`  \n",
        "Read its documentation, and experiment with it on data you've tested in other ways earlier this week.\n",
        " - Create a visualization comparing the results of a Bayesian approach to a traditional/frequentist approach. (with a large sample size they should look close to identical, however, take this opportunity to practice visualizing condfidence intervals in general. The following are some potential ways that you could visualize confidence intervals on your graph:\n",
        "  - [Matplotlib Error Bars](https://matplotlib.org/3.1.1/api/_as_gen/matplotlib.pyplot.errorbar.html)\n",
        "  - [Seaborn barplot with error bars](https://seaborn.pydata.org/generated/seaborn.barplot.html)\n",
        "  - [Vertical ines to show bounds of confidence interval](https://www.simplypsychology.org/confidence-interval.jpg)\n",
        "  - [Confidence Intervals on Box Plots](https://matplotlib.org/3.1.1/api/_as_gen/matplotlib.axes.Axes.boxplot.html)\n",
        "\n",
        "### 3) In your own words, summarize the difference between Bayesian and Frequentist statistics\n",
        "\n",
        "If you're unsure where to start, check out [this blog post of Bayes theorem with Python](https://dataconomy.com/2015/02/introduction-to-bayes-theorem-with-python/).\n",
        "\n"
      ]
    },
    {
      "cell_type": "code",
      "metadata": {
        "id": "xpVhZyUnbf7o",
        "colab_type": "code",
        "colab": {}
      },
      "source": [
        "def prob_drunk_given_positive(prob_drunk_prior, false_positive_rate, true_positive_rate):\n",
        "  P_DD = prob_drunk_prior # this is the prob of drunk drive for the population\n",
        "  P_T_ND = false_positive_rate # prob of Not drunk given test result of 1\n",
        "  P_T_DD = true_positive_rate # prob of drunk given test result of 1\n",
        "  P_ND = 1-P_DD # prob of not drunck drive\n",
        "  \n",
        "  P_T = P_DD*P_T_DD + P_ND*P_T_ND\n",
        "\n",
        "  numerator = P_DD*P_T_DD\n",
        "  denominator = P_T\n",
        "\n",
        "  P_DD_T =numerator/denominator\n",
        "  return (P_DD_T, P_T)"
      ],
      "execution_count": 0,
      "outputs": []
    },
    {
      "cell_type": "code",
      "metadata": {
        "id": "7NC-0KK6ovdv",
        "colab_type": "code",
        "colab": {
          "base_uri": "https://localhost:8080/",
          "height": 54
        },
        "outputId": "cbd9f1a3-4ab7-43b6-f5bb-4baf855b7a24"
      },
      "source": [
        "# What is the probability that a person is drunk after one positive breathalyzer test?\n",
        "P1, P2 = prob_drunk_given_positive(1/1000, 8/100, 1)\n",
        "print(f'The probability that a person is drunk after one positive breathalyzer test is {100*P1}%')\n",
        "print(f'The probability that a person test positive (drunk or no drunk) by one breathalyzer test is {100*P2}%')\n",
        "                                                                      "
      ],
      "execution_count": 21,
      "outputs": [
        {
          "output_type": "stream",
          "text": [
            "The probability that a person is drunk after one positive breathalyzer test is 1.2357884330202669%\n",
            "The probability that a person test positive (drunk or no drunk) by one breathalyzer test is 8.092%\n"
          ],
          "name": "stdout"
        }
      ]
    },
    {
      "cell_type": "code",
      "metadata": {
        "id": "GOYzmW5nqVZw",
        "colab_type": "code",
        "colab": {}
      },
      "source": [
        "# How many positive breathalyzer tests are needed in order to have a probability\n",
        "# that's greater than 95% that a person is drunk beyond the legal limit?\n",
        "def prob_drunk_given_n_positive(prob_drunk_prior, false_positive_rate, true_positive_rate, n):\n",
        "  # probility known\n",
        "  P_DD = prob_drunk_prior # this is the prob of drunk drive for the population\n",
        "  P_T_ND = false_positive_rate # prob of Not drunk given test result of 1\n",
        "  P_T_DD = true_positive_rate # prob of drunk given test result of 1                                 \n",
        "  P_ND = 1-P_DD # prob of not drunck drive\n",
        "  \n",
        "  # probility inferred for n positive tests \n",
        "  P_nT_DD = P_T_DD**n  # prob of n positive given drunk drive\n",
        "  P_nT_ND = P_T_ND**n  # prob of n positive given not drunk\n",
        "  P_nT = P_DD*P_nT_DD + P_ND*P_nT_ND # prob of n positive \n",
        "\n",
        "  numerator = P_DD*P_nT_DD\n",
        "  denominator = P_nT\n",
        "  P_DD_nT = numerator/denominator \n",
        " \n",
        "  return (P_DD_nT, P_nT)"
      ],
      "execution_count": 0,
      "outputs": []
    },
    {
      "cell_type": "code",
      "metadata": {
        "colab_type": "code",
        "outputId": "a9e4ce4f-c601-4da7-8015-acc7018120cf",
        "id": "DHuSo9NhWUPT",
        "colab": {
          "base_uri": "https://localhost:8080/",
          "height": 54
        }
      },
      "source": [
        "# What is the probability that a person is drunk after two positive breathalyzer tests?\n",
        "P1, P2 = prob_drunk_given_n_positive(1/1000, 8/100, 1, 2)\n",
        "print(f'The probability that a person is drunk after two positive breathalyzer tests is {100*P1}%')\n",
        "print(f'The probability that a person test positive (drunk or no drunk) by two breathalyzer tests is {100*P2}%')\n"
      ],
      "execution_count": 24,
      "outputs": [
        {
          "output_type": "stream",
          "text": [
            "The probability that a person is drunk after two positive breathalyzer tests is 13.525210993291495%\n",
            "The probability that a person test positive (drunk or no drunk) by two breathalyzer tests is 0.73936%\n"
          ],
          "name": "stdout"
        }
      ]
    },
    {
      "cell_type": "code",
      "metadata": {
        "id": "MSDl-fVRnSq6",
        "colab_type": "code",
        "colab": {
          "base_uri": "https://localhost:8080/",
          "height": 374
        },
        "outputId": "7afbb87a-332f-4f3d-d1a3-30019fe396c8"
      },
      "source": [
        "# How many positive breathalyzer tests are needed in order to have a probability \n",
        "# that's greater than 95% that a person is drunk beyond the legal limit?\n",
        "P = 0  # initialize\n",
        "P_set = []\n",
        "i = 1\n",
        "while P < 0.95:\n",
        "  P1, P2 = prob_drunk_given_n_positive(1/1000, 8/100, 1, i)\n",
        "  P = P1 \n",
        "  i+=1\n",
        "  P_set.append(P)\n",
        "print(f'A total of {len(P_set)} positive tests are needed  to charge a person with drunk &drive with 95% confidence')\n",
        "\n",
        "import numpy as np\n",
        "import matplotlib.pyplot as plt\n",
        "data = np.array([list(range(1,5)), P_set]).T\n",
        "\n",
        "plt.plot(data[:,0], data[:,1],'k.')\n",
        "plt.xlabel('Number of test positives')\n",
        "plt.ylabel('Probility of drunk drive given test positive')\n",
        "plt.xticks(data[:,0])\n",
        "data_text = np.round(data[:,1],2)\n",
        "\n",
        "for i, text in enumerate(data_text):\n",
        "  print(i, text)\n",
        "  plt.annotate(text, (data[i,0], data[i,1]) )"
      ],
      "execution_count": 108,
      "outputs": [
        {
          "output_type": "stream",
          "text": [
            "A total of 4 positive tests are needed  to charge a person with drunk &drive with 95% confidence\n",
            "0 0.01\n",
            "1 0.14\n",
            "2 0.66\n",
            "3 0.96\n"
          ],
          "name": "stdout"
        },
        {
          "output_type": "display_data",
          "data": {
            "image/png": "[encoded data removed]",
            "text/plain": [
              "<Figure size 432x288 with 1 Axes>"
            ]
          },
          "metadata": {
            "tags": []
          }
        }
      ]
    },
    {
      "cell_type": "markdown",
      "metadata": {
        "id": "uWgWjp3PQ3Sq",
        "colab_type": "text"
      },
      "source": [
        "## Resources"
      ]
    },
    {
      "cell_type": "markdown",
      "metadata": {
        "id": "QRgHqmYIQ9qn",
        "colab_type": "text"
      },
      "source": [
        "- [Worked example of Bayes rule calculation](https://en.wikipedia.org/wiki/Bayes'_theorem#Examples) (helpful as it fully breaks out the denominator)\n",
        "- [Source code for mvsdist in scipy](https://github.com/scipy/scipy/blob/90534919e139d2a81c24bf08341734ff41a3db12/scipy/stats/morestats.py#L139)"
      ]
    },
    {
      "cell_type": "markdown",
      "metadata": {
        "id": "GP7Jv1XvwtkX",
        "colab_type": "text"
      },
      "source": [
        "## Stretch Goals:\n",
        "\n",
        "- Go back and study the content from Modules 1 & 2 to make sure that you're really comfortable with them.\n",
        "- Apply a Bayesian technique to a problem you previously worked (in an assignment or project work) on from a frequentist (standard) perspective\n",
        "- Check out [PyMC3](https://docs.pymc.io/) (note this goes beyond hypothesis tests into modeling) - read the guides and work through some examples\n",
        "- Take PyMC3 further - see if you can build something with it!"
      ]
    },
    {
      "cell_type": "code",
      "metadata": {
        "id": "iDi0eFr1x-v_",
        "colab_type": "code",
        "colab": {}
      },
      "source": [
        ""
      ],
      "execution_count": 0,
      "outputs": []
    }
  ]
}