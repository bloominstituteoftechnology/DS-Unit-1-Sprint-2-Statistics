{
  "nbformat": 4,
  "nbformat_minor": 0,
  "metadata": {
    "colab": {
      "name": "U1S2M3_Andrew_Rust_Bayesian_Inference_Assignment.ipynb",
      "provenance": [],
      "collapsed_sections": [],
      "include_colab_link": true
    },
    "kernelspec": {
      "name": "python3",
      "display_name": "Python 3"
    }
  },
  "cells": [
    {
      "cell_type": "markdown",
      "metadata": {
        "id": "view-in-github",
        "colab_type": "text"
      },
      "source": [
        "<a href=\"https://colab.research.google.com/github/DrewRust/DS-Unit-1-Sprint-2-Statistics/blob/master/U1S2M3_Andrew_Rust_Bayesian_Inference_Assignment.ipynb\" target=\"_parent\"><img src=\"https://colab.research.google.com/assets/colab-badge.svg\" alt=\"Open In Colab\"/></a>"
      ]
    },
    {
      "cell_type": "markdown",
      "metadata": {
        "id": "H7OLbevlbd_Z",
        "colab_type": "text"
      },
      "source": [
        "# Lambda School Data Science Module 123\n",
        "\n",
        "## Introduction to Bayesian Inference\n",
        "\n",
        "\n"
      ]
    },
    {
      "cell_type": "markdown",
      "metadata": {
        "id": "P-DzzRk5bf0z",
        "colab_type": "text"
      },
      "source": [
        "## Assignment - Code it up!\n",
        "\n",
        "We used pure math to apply Bayes Theorem to drug tests. Now write Python code to reproduce the results! This is purposefully open ended - you'll have to think about how you should represent probabilities and events. You can and should look things up.\n",
        "\n",
        "Specific goals/targets:\n",
        "\n",
        "### 1) Write a function \n",
        "\n",
        "`def prob_drunk_given_positive(prob_drunk_prior, false_positive_rate, true_positive_rate):` \n",
        "\n",
        "You should only truly need these two values in order to apply Bayes Theorem. In this example, imagine that individuals are taking a breathalyzer test with an 8% false positive rate, a 100% true positive rate, and that our prior belief about drunk driving in the population is 1/1000. \n",
        " - What is the probability that a person is drunk after one positive breathalyzer test?\n",
        " - What is the probability that a person is drunk after two positive breathalyzer tests?\n",
        " - How many positive breathalyzer tests are needed in order to have a probability that's greater than 95% that a person is drunk beyond the legal limit?\n",
        "\n",
        "### 2) Explore `scipy.stats.bayes_mvs`  \n",
        "Read its documentation, and experiment with it on data you've tested in other ways earlier this week.\n",
        " - Create a visualization comparing the results of a Bayesian approach to a traditional/frequentist approach. (with a large sample size they should look close to identical, however, take this opportunity to practice visualizing condfidence intervals in general. The following are some potential ways that you could visualize confidence intervals on your graph:\n",
        "  - [Matplotlib Error Bars](https://matplotlib.org/3.1.1/api/_as_gen/matplotlib.pyplot.errorbar.html)\n",
        "  - [Seaborn barplot with error bars](https://seaborn.pydata.org/generated/seaborn.barplot.html)\n",
        "  - [Vertical ines to show bounds of confidence interval](https://www.simplypsychology.org/confidence-interval.jpg)\n",
        "  - [Confidence Intervals on Box Plots](https://matplotlib.org/3.1.1/api/_as_gen/matplotlib.axes.Axes.boxplot.html)\n",
        "\n",
        "### 3) In your own words, summarize the difference between Bayesian and Frequentist statistics\n",
        "\n",
        "If you're unsure where to start, check out [this blog post of Bayes theorem with Python](https://dataconomy.com/2015/02/introduction-to-bayes-theorem-with-python/).\n",
        "\n"
      ]
    },
    {
      "cell_type": "code",
      "metadata": {
        "id": "--HKi7ht4H8-",
        "colab_type": "code",
        "colab": {}
      },
      "source": [
        "# For question number two reviewed the visualizations."
      ],
      "execution_count": 0,
      "outputs": []
    },
    {
      "cell_type": "markdown",
      "metadata": {
        "id": "wx5z9W4kA9dt",
        "colab_type": "text"
      },
      "source": [
        "#1) Function:"
      ]
    },
    {
      "cell_type": "code",
      "metadata": {
        "id": "xpVhZyUnbf7o",
        "colab_type": "code",
        "outputId": "4ef95b9b-5f33-44fe-c89b-437ffd2d7837",
        "colab": {
          "base_uri": "https://localhost:8080/",
          "height": 34
        }
      },
      "source": [
        "# TODO - code!\n",
        "\n",
        "def prob_drunk_given_positive(prob_drunk_prior, false_positive_rate, true_positive_rate):\n",
        "  # My first iteration of Bayes Rule (Bayes Theorem)\n",
        "  numerator = true_positive_rate * prob_drunk_prior\n",
        "  marginal =  (true_positive_rate * prob_drunk_prior) + (false_positive_rate * (1 - prob_drunk_prior))\n",
        "  posterior1 = numerator / marginal \n",
        "  return posterior1\n",
        "\n",
        "# prob_drunk_prior = 1/1000\n",
        "# true positive rate = 1 (100%)\n",
        "posterior1 = prob_drunk_given_positive(0.001, 0.08, 1)\n",
        "print(posterior1)"
      ],
      "execution_count": 0,
      "outputs": [
        {
          "output_type": "stream",
          "text": [
            "0.012357884330202669\n"
          ],
          "name": "stdout"
        }
      ]
    },
    {
      "cell_type": "markdown",
      "metadata": {
        "id": "nYjPxBpOI7PP",
        "colab_type": "text"
      },
      "source": [
        "### One test probability: 1.2%"
      ]
    },
    {
      "cell_type": "code",
      "metadata": {
        "id": "pJRarikmINba",
        "colab_type": "code",
        "outputId": "0fb3a0dc-8087-4938-97c4-a683251028a2",
        "colab": {
          "base_uri": "https://localhost:8080/",
          "height": 34
        }
      },
      "source": [
        "posterior2 = prob_drunk_given_positive(posterior1, 0.08, 1)\n",
        "print(posterior2)"
      ],
      "execution_count": 0,
      "outputs": [
        {
          "output_type": "stream",
          "text": [
            "0.13525210993291495\n"
          ],
          "name": "stdout"
        }
      ]
    },
    {
      "cell_type": "markdown",
      "metadata": {
        "id": "dtfqgk3eJGFz",
        "colab_type": "text"
      },
      "source": [
        "###Two test probability: 13.5%"
      ]
    },
    {
      "cell_type": "code",
      "metadata": {
        "id": "HR2CjQ8lIfUl",
        "colab_type": "code",
        "outputId": "a3e28e5c-9a5a-4faa-c094-f54a0598a174",
        "colab": {
          "base_uri": "https://localhost:8080/",
          "height": 34
        }
      },
      "source": [
        "posterior3 = prob_drunk_given_positive(posterior2, 0.08, 1)\n",
        "print(posterior3)"
      ],
      "execution_count": 0,
      "outputs": [
        {
          "output_type": "stream",
          "text": [
            "0.6615996951348605\n"
          ],
          "name": "stdout"
        }
      ]
    },
    {
      "cell_type": "markdown",
      "metadata": {
        "id": "xzd9CHLYJOyO",
        "colab_type": "text"
      },
      "source": [
        "###Three test probability: 66.2%"
      ]
    },
    {
      "cell_type": "code",
      "metadata": {
        "id": "Ds6bYxb4IlNo",
        "colab_type": "code",
        "outputId": "00238b36-a0b5-4cbe-8af2-e7873a3dccaf",
        "colab": {
          "base_uri": "https://localhost:8080/",
          "height": 34
        }
      },
      "source": [
        "posterior4 = prob_drunk_given_positive(posterior3, 0.08, 1)\n",
        "print(posterior4)"
      ],
      "execution_count": 0,
      "outputs": [
        {
          "output_type": "stream",
          "text": [
            "0.9606895076105054\n"
          ],
          "name": "stdout"
        }
      ]
    },
    {
      "cell_type": "markdown",
      "metadata": {
        "id": "jZyZdplwJawT",
        "colab_type": "text"
      },
      "source": [
        "###Four test probability: 96%"
      ]
    },
    {
      "cell_type": "markdown",
      "metadata": {
        "id": "j1ZY7wxhItK3",
        "colab_type": "text"
      },
      "source": [
        "## 4 test would be needed to be > 95% "
      ]
    },
    {
      "cell_type": "markdown",
      "metadata": {
        "id": "dnQUVordEXs2",
        "colab_type": "text"
      },
      "source": [
        "#3) Summarize the difference between Bayesian and Frequentist Statistics:"
      ]
    },
    {
      "cell_type": "markdown",
      "metadata": {
        "id": "VEaO8hHSYZ2B",
        "colab_type": "text"
      },
      "source": [
        "##Frequentist:\n",
        "\n",
        "1.   Whole difference of the answer to the question what is probability.\n",
        "2.   Probability fundamentally related to the frequencies of repeated events.\n",
        "3.   Variation of data and derived quantities in terms of fixed model parameters.\n",
        "4.   Probabilistic statement about a recipe for generating confidence intervals given a fixed model parameter.\n",
        "\n",
        "##Bayesian:\n",
        "\n",
        "\n",
        "1.   Probabiltiy fundamentally related to our own certainty or uncertainty of events.\n",
        "2.   Variation of BELIEFS about parameters in terms of fixed observed data.\n",
        "3.   Posterior is the thing you're interested in.  So we put in a prior.\n",
        "4.   Does these things in theory (and practice) better:  Handling of nuisance parameters, interpretation of uncertainty, incorporation of prior information, and comparison and evaluation of models.\n",
        "5.   Bayes approach allows nuisance parameters to vary, through marginalization.\n",
        "6.   Probabilistc statement about model parameters given a fixed credible region.\n",
        "7.   Bayesianism provides a more natural handling of nuisance parameters, and a more natural interpretation of errors.\n",
        "\n"
      ]
    },
    {
      "cell_type": "markdown",
      "metadata": {
        "id": "LnabBOEuhn7y",
        "colab_type": "text"
      },
      "source": [
        "### The main difference between Bayesian and Frequentist is that a Bayesian statistician would begin with a \"prior distribution.\"  This distribution would reflect the state of knowledge about H or lets say average height as an example BEFORE collecting any data.  Then there is also a Posterior Distribution.  Frequentists H or average height is simply an unkown constant which either lies in the range or does not.  Frequentist only allow probability statements about sampling."
      ]
    },
    {
      "cell_type": "markdown",
      "metadata": {
        "id": "uWgWjp3PQ3Sq",
        "colab_type": "text"
      },
      "source": [
        "## Resources"
      ]
    },
    {
      "cell_type": "markdown",
      "metadata": {
        "id": "QRgHqmYIQ9qn",
        "colab_type": "text"
      },
      "source": [
        "- [Worked example of Bayes rule calculation](https://en.wikipedia.org/wiki/Bayes'_theorem#Examples) (helpful as it fully breaks out the denominator)\n",
        "- [Source code for mvsdist in scipy](https://github.com/scipy/scipy/blob/90534919e139d2a81c24bf08341734ff41a3db12/scipy/stats/morestats.py#L139)"
      ]
    },
    {
      "cell_type": "markdown",
      "metadata": {
        "id": "GP7Jv1XvwtkX",
        "colab_type": "text"
      },
      "source": [
        "## Stretch Goals:\n",
        "\n",
        "- Go back and study the content from Modules 1 & 2 to make sure that you're really comfortable with them.\n",
        "- Apply a Bayesian technique to a problem you previously worked (in an assignment or project work) on from a frequentist (standard) perspective\n",
        "- Check out [PyMC3](https://docs.pymc.io/) (note this goes beyond hypothesis tests into modeling) - read the guides and work through some examples\n",
        "- Take PyMC3 further - see if you can build something with it!"
      ]
    },
    {
      "cell_type": "code",
      "metadata": {
        "id": "r28H0pyZ3Z2z",
        "colab_type": "code",
        "colab": {}
      },
      "source": [
        "# I looked at the documentation for PyMC3 and definitely will have to keep reviewing the documentation.\n",
        "# I reviewed Bayesian examples and watched some more videos describing them.\n",
        "# I reviewed the notes from previous modules.\n",
        "# Thought about how to apply the Bayesian technique and frequentist examples."
      ],
      "execution_count": 0,
      "outputs": []
    }
  ]
}