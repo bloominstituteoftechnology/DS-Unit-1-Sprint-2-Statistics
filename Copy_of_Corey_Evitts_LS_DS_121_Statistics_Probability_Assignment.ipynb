{
  "nbformat": 4,
  "nbformat_minor": 0,
  "metadata": {
    "kernelspec": {
      "display_name": "Python 3",
      "language": "python",
      "name": "python3"
    },
    "language_info": {
      "codemirror_mode": {
        "name": "ipython",
        "version": 3
      },
      "file_extension": ".py",
      "mimetype": "text/x-python",
      "name": "python",
      "nbconvert_exporter": "python",
      "pygments_lexer": "ipython3",
      "version": "3.7.3"
    },
    "colab": {
      "name": "Copy of Corey Evitts LS_DS_121_Statistics_Probability_Assignment.ipynb",
      "provenance": [],
      "include_colab_link": true
    }
  },
  "cells": [
    {
      "cell_type": "markdown",
      "metadata": {
        "id": "view-in-github",
        "colab_type": "text"
      },
      "source": [
        "<a href=\"https://colab.research.google.com/github/evitts1989/DS-Unit-1-Sprint-2-Statistics/blob/master/Copy_of_Corey_Evitts_LS_DS_121_Statistics_Probability_Assignment.ipynb\" target=\"_parent\"><img src=\"https://colab.research.google.com/assets/colab-badge.svg\" alt=\"Open In Colab\"/></a>"
      ]
    },
    {
      "cell_type": "markdown",
      "metadata": {
        "id": "Sa5KWMO1ngPN",
        "colab_type": "text"
      },
      "source": [
        "<img align=\"left\" src=\"https://lever-client-logos.s3.amazonaws.com/864372b1-534c-480e-acd5-9711f850815c-1524247202159.png\" width=200>\n",
        "<br></br>\n",
        "<br></br>\n",
        "\n",
        "## *Data Science Unit 1 Sprint 2 Assignment 1*\n",
        "\n",
        "# Apply the t-test to real data\n",
        "\n",
        "Your assignment is to determine which issues have \"statistically significant\" differences between political parties in this [1980s congressional voting data](https://archive.ics.uci.edu/ml/datasets/Congressional+Voting+Records). The data consists of 435 instances (one for each congressperson), a class (democrat or republican), and 16 binary attributes (yes or no for voting for or against certain issues). Be aware - there are missing values!\n",
        "\n",
        "Your goals:\n",
        "\n",
        "1. Load and clean the data (or determine the best method to drop observations when running tests)\n",
        "2. Using hypothesis testing, find an issue that democrats support more than republicans with p < 0.01\n",
        "3. Using hypothesis testing, find an issue that republicans support more than democrats with p < 0.01\n",
        "4. Using hypothesis testing, find an issue where the difference between republicans and democrats has p > 0.1 (i.e. there may not be much of a difference)\n",
        "\n",
        "Note that this data will involve *2 sample* t-tests, because you're comparing averages across two groups (republicans and democrats) rather than a single group against a null hypothesis.\n",
        "\n",
        "Stretch goals:\n",
        "\n",
        "1. Refactor your code into functions so it's easy to rerun with arbitrary variables\n",
        "2. Apply hypothesis testing to your personal project data (for the purposes of this notebook you can type a summary of the hypothesis you formed and tested)"
      ]
    },
    {
      "cell_type": "code",
      "metadata": {
        "id": "ZKwspo2CngPP",
        "colab_type": "code",
        "outputId": "8e897d8b-5968-45eb-dd0f-05ade1787dc5",
        "colab": {
          "base_uri": "https://localhost:8080/",
          "height": 224
        }
      },
      "source": [
        "!wget https://archive.ics.uci.edu/ml/machine-learning-databases/voting-records/house-votes-84.data"
      ],
      "execution_count": 0,
      "outputs": [
        {
          "output_type": "stream",
          "text": [
            "--2020-02-17 22:19:01--  https://archive.ics.uci.edu/ml/machine-learning-databases/voting-records/house-votes-84.data\n",
            "Resolving archive.ics.uci.edu (archive.ics.uci.edu)... 128.195.10.252\n",
            "Connecting to archive.ics.uci.edu (archive.ics.uci.edu)|128.195.10.252|:443... connected.\n",
            "HTTP request sent, awaiting response... 200 OK\n",
            "Length: 18171 (18K) [application/x-httpd-php]\n",
            "Saving to: ‘house-votes-84.data.2’\n",
            "\n",
            "house-votes-84.data 100%[===================>]  17.75K  --.-KB/s    in 0.07s   \n",
            "\n",
            "2020-02-17 22:19:01 (271 KB/s) - ‘house-votes-84.data.2’ saved [18171/18171]\n",
            "\n"
          ],
          "name": "stdout"
        }
      ]
    },
    {
      "cell_type": "code",
      "metadata": {
        "id": "yJAM4GKC4hmj",
        "colab_type": "code",
        "colab": {}
      },
      "source": [
        "import numpy as np\n",
        "import pandas as pd\n",
        "from scipy import stats\n",
        "\n",
        "# column headers\n",
        "names=['party','handicapped-infants','water-project',\n",
        "                          'budget','physician-fee-freeze', 'el-salvador-aid',\n",
        "                          'religious-groups','anti-satellite-ban',\n",
        "                          'aid-to-contras','mx-missile','immigration',\n",
        "                          'synfuels', 'education', 'right-to-sue','crime','duty-free',\n",
        "                          'south-africa']\n",
        "\n",
        "# init the data frame from csv\n",
        "df=pd.read_csv('/content/house-votes-84.data',names=names)"
      ],
      "execution_count": 0,
      "outputs": []
    },
    {
      "cell_type": "code",
      "metadata": {
        "id": "i44i4Fh54pgo",
        "colab_type": "code",
        "outputId": "8b347279-01a7-4eae-d243-2198f40b85b9",
        "colab": {
          "base_uri": "https://localhost:8080/",
          "height": 68
        }
      },
      "source": [
        "df = df.replace({\"y\": 1, \"n\": 0, \"?\": np.NaN})\n",
        "rep = df[df['party']=='republican']\n",
        "dem = df[df['party']=='democrat']\n",
        "df['party'].value_counts()"
      ],
      "execution_count": 0,
      "outputs": [
        {
          "output_type": "execute_result",
          "data": {
            "text/plain": [
              "democrat      267\n",
              "republican    168\n",
              "Name: party, dtype: int64"
            ]
          },
          "metadata": {
            "tags": []
          },
          "execution_count": 113
        }
      ]
    },
    {
      "cell_type": "code",
      "metadata": {
        "id": "isb5jqKY5bWj",
        "colab_type": "code",
        "outputId": "19e9cb87-b65e-4ecf-f0e1-bafd6d63b92e",
        "colab": {
          "base_uri": "https://localhost:8080/",
          "height": 629
        }
      },
      "source": [
        "# find the mean values for each column in both data sets\n",
        "# this is going to tell me what issues each party voted for\n",
        "# excluding party column because it dosent make sense to take the mean of a string\n",
        "print('\\nREP:')\n",
        "for col in names[1:]:\n",
        "  print(f\"issue: {col} Mean votes: {rep[col].describe()['mean']}\")\n",
        "print(\"\\nDEM:\")\n",
        "for col in names[1:]:\n",
        "  print(f\"issue: {col} Mean votes: {dem[col].describe()['mean']}\")"
      ],
      "execution_count": 0,
      "outputs": [
        {
          "output_type": "stream",
          "text": [
            "\n",
            "REP:\n",
            "issue: handicapped-infants Mean votes: 0.18787878787878787\n",
            "issue: water-project Mean votes: 0.5067567567567568\n",
            "issue: budget Mean votes: 0.13414634146341464\n",
            "issue: physician-fee-freeze Mean votes: 0.9878787878787879\n",
            "issue: el-salvador-aid Mean votes: 0.9515151515151515\n",
            "issue: religious-groups Mean votes: 0.8975903614457831\n",
            "issue: anti-satellite-ban Mean votes: 0.24074074074074073\n",
            "issue: aid-to-contras Mean votes: 0.15286624203821655\n",
            "issue: mx-missile Mean votes: 0.11515151515151516\n",
            "issue: immigration Mean votes: 0.5575757575757576\n",
            "issue: synfuels Mean votes: 0.1320754716981132\n",
            "issue: education Mean votes: 0.8709677419354839\n",
            "issue: right-to-sue Mean votes: 0.8607594936708861\n",
            "issue: crime Mean votes: 0.9813664596273292\n",
            "issue: duty-free Mean votes: 0.08974358974358974\n",
            "issue: south-africa Mean votes: 0.6575342465753424\n",
            "\n",
            "DEM:\n",
            "issue: handicapped-infants Mean votes: 0.6046511627906976\n",
            "issue: water-project Mean votes: 0.502092050209205\n",
            "issue: budget Mean votes: 0.8884615384615384\n",
            "issue: physician-fee-freeze Mean votes: 0.05405405405405406\n",
            "issue: el-salvador-aid Mean votes: 0.21568627450980393\n",
            "issue: religious-groups Mean votes: 0.47674418604651164\n",
            "issue: anti-satellite-ban Mean votes: 0.7722007722007722\n",
            "issue: aid-to-contras Mean votes: 0.8288973384030418\n",
            "issue: mx-missile Mean votes: 0.7580645161290323\n",
            "issue: immigration Mean votes: 0.4714828897338403\n",
            "issue: synfuels Mean votes: 0.5058823529411764\n",
            "issue: education Mean votes: 0.14457831325301204\n",
            "issue: right-to-sue Mean votes: 0.2896825396825397\n",
            "issue: crime Mean votes: 0.35019455252918286\n",
            "issue: duty-free Mean votes: 0.6374501992031872\n",
            "issue: south-africa Mean votes: 0.9351351351351351\n"
          ],
          "name": "stdout"
        }
      ]
    },
    {
      "cell_type": "code",
      "metadata": {
        "id": "tUieCBKhCHr2",
        "colab_type": "code",
        "outputId": "b8b2f401-db1d-4fa6-fab4-21bb40da7f31",
        "colab": {
          "base_uri": "https://localhost:8080/",
          "height": 1000
        }
      },
      "source": [
        "for col in df.columns:\n",
        "  print(df[col].value_counts)"
      ],
      "execution_count": 0,
      "outputs": [
        {
          "output_type": "stream",
          "text": [
            "<bound method IndexOpsMixin.value_counts of 0      republican\n",
            "1      republican\n",
            "2        democrat\n",
            "3        democrat\n",
            "4        democrat\n",
            "          ...    \n",
            "430    republican\n",
            "431      democrat\n",
            "432    republican\n",
            "433    republican\n",
            "434    republican\n",
            "Name: party, Length: 435, dtype: object>\n",
            "<bound method IndexOpsMixin.value_counts of 0      0.0\n",
            "1      0.0\n",
            "2      NaN\n",
            "3      0.0\n",
            "4      1.0\n",
            "      ... \n",
            "430    0.0\n",
            "431    0.0\n",
            "432    0.0\n",
            "433    0.0\n",
            "434    0.0\n",
            "Name: handicapped-infants, Length: 435, dtype: float64>\n",
            "<bound method IndexOpsMixin.value_counts of 0      1.0\n",
            "1      1.0\n",
            "2      1.0\n",
            "3      1.0\n",
            "4      1.0\n",
            "      ... \n",
            "430    0.0\n",
            "431    0.0\n",
            "432    NaN\n",
            "433    0.0\n",
            "434    1.0\n",
            "Name: water-project, Length: 435, dtype: float64>\n",
            "<bound method IndexOpsMixin.value_counts of 0      0.0\n",
            "1      0.0\n",
            "2      1.0\n",
            "3      1.0\n",
            "4      1.0\n",
            "      ... \n",
            "430    1.0\n",
            "431    1.0\n",
            "432    0.0\n",
            "433    0.0\n",
            "434    0.0\n",
            "Name: budget, Length: 435, dtype: float64>\n",
            "<bound method IndexOpsMixin.value_counts of 0      1.0\n",
            "1      1.0\n",
            "2      NaN\n",
            "3      0.0\n",
            "4      0.0\n",
            "      ... \n",
            "430    1.0\n",
            "431    0.0\n",
            "432    1.0\n",
            "433    1.0\n",
            "434    1.0\n",
            "Name: physician-fee-freeze, Length: 435, dtype: float64>\n",
            "<bound method IndexOpsMixin.value_counts of 0      1.0\n",
            "1      1.0\n",
            "2      1.0\n",
            "3      NaN\n",
            "4      1.0\n",
            "      ... \n",
            "430    1.0\n",
            "431    0.0\n",
            "432    1.0\n",
            "433    1.0\n",
            "434    1.0\n",
            "Name: el-salvador-aid, Length: 435, dtype: float64>\n",
            "<bound method IndexOpsMixin.value_counts of 0      1.0\n",
            "1      1.0\n",
            "2      1.0\n",
            "3      1.0\n",
            "4      1.0\n",
            "      ... \n",
            "430    1.0\n",
            "431    0.0\n",
            "432    1.0\n",
            "433    1.0\n",
            "434    1.0\n",
            "Name: religious-groups, Length: 435, dtype: float64>\n",
            "<bound method IndexOpsMixin.value_counts of 0      0.0\n",
            "1      0.0\n",
            "2      0.0\n",
            "3      0.0\n",
            "4      0.0\n",
            "      ... \n",
            "430    0.0\n",
            "431    1.0\n",
            "432    0.0\n",
            "433    NaN\n",
            "434    0.0\n",
            "Name: anti-satellite-ban, Length: 435, dtype: float64>\n",
            "<bound method IndexOpsMixin.value_counts of 0      0.0\n",
            "1      0.0\n",
            "2      0.0\n",
            "3      0.0\n",
            "4      0.0\n",
            "      ... \n",
            "430    0.0\n",
            "431    1.0\n",
            "432    0.0\n",
            "433    NaN\n",
            "434    0.0\n",
            "Name: aid-to-contras, Length: 435, dtype: float64>\n",
            "<bound method IndexOpsMixin.value_counts of 0      0.0\n",
            "1      0.0\n",
            "2      0.0\n",
            "3      0.0\n",
            "4      0.0\n",
            "      ... \n",
            "430    1.0\n",
            "431    1.0\n",
            "432    0.0\n",
            "433    NaN\n",
            "434    0.0\n",
            "Name: mx-missile, Length: 435, dtype: float64>\n",
            "<bound method IndexOpsMixin.value_counts of 0      1.0\n",
            "1      0.0\n",
            "2      0.0\n",
            "3      0.0\n",
            "4      0.0\n",
            "      ... \n",
            "430    1.0\n",
            "431    1.0\n",
            "432    0.0\n",
            "433    NaN\n",
            "434    1.0\n",
            "Name: immigration, Length: 435, dtype: float64>\n",
            "<bound method IndexOpsMixin.value_counts of 0      NaN\n",
            "1      0.0\n",
            "2      1.0\n",
            "3      1.0\n",
            "4      1.0\n",
            "      ... \n",
            "430    0.0\n",
            "431    0.0\n",
            "432    1.0\n",
            "433    0.0\n",
            "434    0.0\n",
            "Name: synfuels, Length: 435, dtype: float64>\n",
            "<bound method IndexOpsMixin.value_counts of 0      1.0\n",
            "1      1.0\n",
            "2      0.0\n",
            "3      0.0\n",
            "4      NaN\n",
            "      ... \n",
            "430    1.0\n",
            "431    0.0\n",
            "432    1.0\n",
            "433    1.0\n",
            "434    1.0\n",
            "Name: education, Length: 435, dtype: float64>\n",
            "<bound method IndexOpsMixin.value_counts of 0      1.0\n",
            "1      1.0\n",
            "2      1.0\n",
            "3      1.0\n",
            "4      1.0\n",
            "      ... \n",
            "430    1.0\n",
            "431    0.0\n",
            "432    1.0\n",
            "433    1.0\n",
            "434    1.0\n",
            "Name: right-to-sue, Length: 435, dtype: float64>\n",
            "<bound method IndexOpsMixin.value_counts of 0      1.0\n",
            "1      1.0\n",
            "2      1.0\n",
            "3      0.0\n",
            "4      1.0\n",
            "      ... \n",
            "430    1.0\n",
            "431    0.0\n",
            "432    1.0\n",
            "433    1.0\n",
            "434    1.0\n",
            "Name: crime, Length: 435, dtype: float64>\n",
            "<bound method IndexOpsMixin.value_counts of 0      0.0\n",
            "1      0.0\n",
            "2      0.0\n",
            "3      0.0\n",
            "4      1.0\n",
            "      ... \n",
            "430    0.0\n",
            "431    0.0\n",
            "432    0.0\n",
            "433    0.0\n",
            "434    NaN\n",
            "Name: duty-free, Length: 435, dtype: float64>\n",
            "<bound method IndexOpsMixin.value_counts of 0      1.0\n",
            "1      NaN\n",
            "2      0.0\n",
            "3      1.0\n",
            "4      1.0\n",
            "      ... \n",
            "430    1.0\n",
            "431    1.0\n",
            "432    1.0\n",
            "433    1.0\n",
            "434    0.0\n",
            "Name: south-africa, Length: 435, dtype: float64>\n"
          ],
          "name": "stdout"
        }
      ]
    },
    {
      "cell_type": "code",
      "metadata": {
        "id": "wILVY1-jPf7m",
        "colab_type": "code",
        "outputId": "b21fa225-05eb-4226-f1e0-7513757b9a79",
        "colab": {
          "base_uri": "https://localhost:8080/",
          "height": 34
        }
      },
      "source": [
        "#Republican issue\n",
        "# ttest if the republicans and democrats support for the'crime' bill differs\n",
        "stats.ttest_ind(rep['crime'],dem['crime'],nan_policy='omit')"
      ],
      "execution_count": 0,
      "outputs": [
        {
          "output_type": "execute_result",
          "data": {
            "text/plain": [
              "Ttest_indResult(statistic=16.342085656197696, pvalue=9.952342705606092e-47)"
            ]
          },
          "metadata": {
            "tags": []
          },
          "execution_count": 62
        }
      ]
    },
    {
      "cell_type": "code",
      "metadata": {
        "id": "TdsBMYrCQJIs",
        "colab_type": "code",
        "outputId": "e84eb31e-a9e5-45ee-af56-3b24e904901b",
        "colab": {
          "base_uri": "https://localhost:8080/",
          "height": 34
        }
      },
      "source": [
        "#Democratic Issue\n",
        "# ttest if the democrats and repbulicans have diffreing views on the 'budget' bill\n",
        "stats.ttest_ind(rep['budget'],dem['budget'],nan_policy='omit')"
      ],
      "execution_count": 0,
      "outputs": [
        {
          "output_type": "execute_result",
          "data": {
            "text/plain": [
              "Ttest_indResult(statistic=-23.21277691701378, pvalue=2.0703402795404463e-77)"
            ]
          },
          "metadata": {
            "tags": []
          },
          "execution_count": 89
        }
      ]
    },
    {
      "cell_type": "code",
      "metadata": {
        "id": "33dvGAhQQWTn",
        "colab_type": "code",
        "outputId": "134b2fa3-8224-4501-ff71-c4627849f99f",
        "colab": {
          "base_uri": "https://localhost:8080/",
          "height": 34
        }
      },
      "source": [
        "#Bi-Partisan Issue\n",
        "stats.ttest_ind(rep['water-project'],dem['water-project'],nan_policy='omit')"
      ],
      "execution_count": 0,
      "outputs": [
        {
          "output_type": "execute_result",
          "data": {
            "text/plain": [
              "Ttest_indResult(statistic=0.08896538137868286, pvalue=0.9291556823993485)"
            ]
          },
          "metadata": {
            "tags": []
          },
          "execution_count": 109
        }
      ]
    },
    {
      "cell_type": "code",
      "metadata": {
        "id": "Im0xD5z9Qwir",
        "colab_type": "code",
        "colab": {}
      },
      "source": [
        "#Stretch Goal\n",
        "def ttest_ind_all(df1:pd.DataFrame,df2:pd.DataFrame,columns=\"\")->type(None):\n",
        "  if columns==\"\":\n",
        "    for col in df1.columns.to_numpy()[1:]:\n",
        "      tt=stats.ttest_ind(df1[col],df2[col],nan_policy='omit')  \n",
        "      print(f\"The results of ttest_ind for Column:{col} are,\\n{tt}\")\n",
        "  else:  \n",
        "    for col in columns:\n",
        "      tt=stats.ttest_ind(df1[col],df2[col],nan_policy='omit')\n",
        "      print(f\"The results of ttest_ind for Column:{col} are,\\n{tt}\")\n",
        "  return"
      ],
      "execution_count": 0,
      "outputs": []
    },
    {
      "cell_type": "code",
      "metadata": {
        "id": "-Q3wTv2IRhbp",
        "colab_type": "code",
        "outputId": "093f23f5-27d0-406a-89c1-69a091801dd8",
        "colab": {
          "base_uri": "https://localhost:8080/",
          "height": 85
        }
      },
      "source": [
        "ttest_ind_all(rep,dem,columns=['budget','water-project'])"
      ],
      "execution_count": 0,
      "outputs": [
        {
          "output_type": "stream",
          "text": [
            "The results:budget are,\n",
            "Ttest_indResult(statistic=-23.21277691701378, pvalue=2.0703402795404463e-77)\n",
            "The results:water-project are,\n",
            "Ttest_indResult(statistic=0.08896538137868286, pvalue=0.9291556823993485)\n"
          ],
          "name": "stdout"
        }
      ]
    },
    {
      "cell_type": "code",
      "metadata": {
        "id": "NTqKBYQ2Ri1-",
        "colab_type": "code",
        "outputId": "fcec1d56-4ea2-4e88-d3e7-9af0081c3ab9",
        "colab": {
          "base_uri": "https://localhost:8080/",
          "height": 561
        }
      },
      "source": [
        "# both versions working\n",
        "ttest_ind_all(rep,dem)"
      ],
      "execution_count": 0,
      "outputs": [
        {
          "output_type": "stream",
          "text": [
            "The results of ttest_ind for Column:handicapped-infants are,\n",
            "Ttest_indResult(statistic=-9.205264294809222, pvalue=1.613440327937243e-18)\n",
            "The results of ttest_ind for Column:water-project are,\n",
            "Ttest_indResult(statistic=0.08896538137868286, pvalue=0.9291556823993485)\n",
            "The results of ttest_ind for Column:budget are,\n",
            "Ttest_indResult(statistic=-23.21277691701378, pvalue=2.0703402795404463e-77)\n",
            "The results of ttest_ind for Column:physician-fee-freeze are,\n",
            "Ttest_indResult(statistic=49.36708157301406, pvalue=1.994262314074344e-177)\n",
            "The results of ttest_ind for Column:el-salvador-aid are,\n",
            "Ttest_indResult(statistic=21.13669261173219, pvalue=5.600520111729011e-68)\n",
            "The results of ttest_ind for Column:religious-groups are,\n",
            "Ttest_indResult(statistic=9.737575825219457, pvalue=2.3936722520597287e-20)\n",
            "The results of ttest_ind for Column:anti-satellite-ban are,\n",
            "Ttest_indResult(statistic=-12.526187929077842, pvalue=8.521033017443867e-31)\n",
            "The results of ttest_ind for Column:aid-to-contras are,\n",
            "Ttest_indResult(statistic=-18.052093200819733, pvalue=2.82471841372357e-54)\n",
            "The results of ttest_ind for Column:mx-missile are,\n",
            "Ttest_indResult(statistic=-16.437503268542994, pvalue=5.03079265310811e-47)\n",
            "The results of ttest_ind for Column:immigration are,\n",
            "Ttest_indResult(statistic=1.7359117329695164, pvalue=0.08330248490425066)\n",
            "The results of ttest_ind for Column:synfuels are,\n",
            "Ttest_indResult(statistic=-8.293603989407588, pvalue=1.5759322301054064e-15)\n",
            "The results of ttest_ind for Column:education are,\n",
            "Ttest_indResult(statistic=20.500685724563073, pvalue=1.8834203990450192e-64)\n",
            "The results of ttest_ind for Column:right-to-sue are,\n",
            "Ttest_indResult(statistic=13.51064251060933, pvalue=1.2278581709672758e-34)\n",
            "The results of ttest_ind for Column:crime are,\n",
            "Ttest_indResult(statistic=16.342085656197696, pvalue=9.952342705606092e-47)\n",
            "The results of ttest_ind for Column:duty-free are,\n",
            "Ttest_indResult(statistic=-12.853146132542978, pvalue=5.997697174347365e-32)\n",
            "The results of ttest_ind for Column:south-africa are,\n",
            "Ttest_indResult(statistic=-6.849454815841208, pvalue=3.652674361672226e-11)\n"
          ],
          "name": "stdout"
        }
      ]
    }
  ]
}