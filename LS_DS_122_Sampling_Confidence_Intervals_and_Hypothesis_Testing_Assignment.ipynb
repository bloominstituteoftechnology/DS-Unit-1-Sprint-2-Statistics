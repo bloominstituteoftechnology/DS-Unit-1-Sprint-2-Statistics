{
  "nbformat": 4,
  "nbformat_minor": 0,
  "metadata": {
    "colab": {
      "name": "LS_DS_122_Sampling_Confidence_Intervals_and_Hypothesis_Testing_Assignment.ipynb",
      "provenance": [],
      "collapsed_sections": [],
      "include_colab_link": true
    },
    "kernelspec": {
      "name": "python3",
      "display_name": "Python 3"
    }
  },
  "cells": [
    {
      "cell_type": "markdown",
      "metadata": {
        "id": "view-in-github",
        "colab_type": "text"
      },
      "source": [
        "<a href=\"https://colab.research.google.com/github/RAV10K1/DS-Unit-1-Sprint-2-Statistics/blob/master/LS_DS_122_Sampling_Confidence_Intervals_and_Hypothesis_Testing_Assignment.ipynb\" target=\"_parent\"><img src=\"https://colab.research.google.com/assets/colab-badge.svg\" alt=\"Open In Colab\"/></a>"
      ]
    },
    {
      "cell_type": "markdown",
      "metadata": {
        "id": "11OzdxWTM7UR",
        "colab_type": "text"
      },
      "source": [
        "## Assignment - Build a confidence interval\n",
        "\n",
        "A confidence interval refers to a neighborhood around some point estimate, the size of which is determined by the desired p-value. For instance, we might say that 52% of Americans prefer tacos to burritos, with a 95% confidence interval of +/- 5%.\n",
        "\n",
        "52% (0.52) is the point estimate, and +/- 5% (the interval $[0.47, 0.57]$) is the confidence interval. \"95% confidence\" means a p-value $\\leq 1 - 0.95 = 0.05$.\n",
        "\n",
        "In this case, the confidence interval includes $0.5$ - which is the natural null hypothesis (that half of Americans prefer tacos and half burritos, thus there is no clear favorite). So in this case, we could use the confidence interval to report that we've failed to reject the null hypothesis.\n",
        "\n",
        "But providing the full analysis with a confidence interval, including a graphical representation of it, can be a helpful and powerful way to tell your story. Done well, it is also more intuitive to a layperson than simply saying \"fail to reject the null hypothesis\" - it shows that in fact the data does *not* give a single clear result (the point estimate) but a whole range of possibilities.\n",
        "\n",
        "How is a confidence interval built, and how should it be interpreted? It does *not* mean that 95% of the data lies in that interval - instead, the frequentist interpretation is \"if we were to repeat this experiment 100 times, we would expect the average result to lie in this interval ~95 times.\"\n",
        "\n",
        "For a 95% confidence interval and a normal(-ish) distribution, you can simply remember that +/-2 standard deviations contains 95% of the probability mass, and so the 95% confidence interval based on a given sample is centered at the mean (point estimate) and has a range of +/- 2 (or technically 1.96) standard deviations.\n",
        "\n",
        "Different distributions/assumptions (90% confidence, 99% confidence) will require different math, but the overall process and interpretation (with a frequentist approach) will be the same.\n",
        "\n",
        "Your assignment - using the data from the prior module ([congressional voting records](https://archive.ics.uci.edu/ml/datasets/Congressional+Voting+Records)):\n",
        "\n",
        "\n",
        "### Confidence Intervals:\n",
        "1. Generate and numerically represent a confidence interval\n",
        "2. Graphically (with a plot) represent the confidence interval\n",
        "3. Interpret the confidence interval - what does it tell you about the data and its distribution?\n",
        "\n",
        "### Chi-squared tests:\n",
        "4. Take a dataset that we have used in the past in class that has **categorical** variables. Pick two of those categorical variables and run a chi-squared tests on that data\n",
        "  - By hand using Numpy\n",
        "  - In a single line using Scipy\n"
      ]
    },
    {
      "cell_type": "markdown",
      "metadata": {
        "id": "6i7kAlk5DEoh",
        "colab_type": "text"
      },
      "source": [
        "# Confidence Intervals\n",
        "## 1) Generate and numerically represent a confidence interval"
      ]
    },
    {
      "cell_type": "code",
      "metadata": {
        "id": "Ckcr4A4FM7cs",
        "colab_type": "code",
        "colab": {}
      },
      "source": [
        "# Importing libraries\n",
        "import pandas as pd\n",
        "import numpy as np\n",
        "import matplotlib.pyplot as plt\n",
        "import scipy.stats as stats\n",
        "import seaborn as sns"
      ],
      "execution_count": 0,
      "outputs": []
    },
    {
      "cell_type": "code",
      "metadata": {
        "id": "v6uvK6vfDYUw",
        "colab_type": "code",
        "outputId": "6baa1ff1-ca88-46eb-f318-ed16a3207115",
        "colab": {
          "base_uri": "https://localhost:8080/",
          "height": 213
        }
      },
      "source": [
        "# Getting data from UCI website and setting dataframe\n",
        "url='https://archive.ics.uci.edu/ml/machine-learning-databases/voting-records/house-votes-84.data'\n",
        "column_headers = ['party','handicapped-infants','water-project',\n",
        "                          'budget','physician-fee-freeze', 'el-salvador-aid',\n",
        "                          'religious-groups','anti-satellite-ban',\n",
        "                          'aid-to-contras','mx-missile','immigration',\n",
        "                          'synfuels', 'education', 'right-to-sue','crime','duty-free',\n",
        "                          'south-africa']\n",
        "\n",
        "df_votes = pd.read_csv(url, header=None, names=column_headers, na_values='?')\n",
        "print(df_votes.shape)\n",
        "df_votes.head(3)"
      ],
      "execution_count": 2,
      "outputs": [
        {
          "output_type": "stream",
          "text": [
            "(435, 17)\n"
          ],
          "name": "stdout"
        },
        {
          "output_type": "execute_result",
          "data": {
            "text/html": [
              "<div>\n",
              "<style scoped>\n",
              "    .dataframe tbody tr th:only-of-type {\n",
              "        vertical-align: middle;\n",
              "    }\n",
              "\n",
              "    .dataframe tbody tr th {\n",
              "        vertical-align: top;\n",
              "    }\n",
              "\n",
              "    .dataframe thead th {\n",
              "        text-align: right;\n",
              "    }\n",
              "</style>\n",
              "<table border=\"1\" class=\"dataframe\">\n",
              "  <thead>\n",
              "    <tr style=\"text-align: right;\">\n",
              "      <th></th>\n",
              "      <th>party</th>\n",
              "      <th>handicapped-infants</th>\n",
              "      <th>water-project</th>\n",
              "      <th>budget</th>\n",
              "      <th>physician-fee-freeze</th>\n",
              "      <th>el-salvador-aid</th>\n",
              "      <th>religious-groups</th>\n",
              "      <th>anti-satellite-ban</th>\n",
              "      <th>aid-to-contras</th>\n",
              "      <th>mx-missile</th>\n",
              "      <th>immigration</th>\n",
              "      <th>synfuels</th>\n",
              "      <th>education</th>\n",
              "      <th>right-to-sue</th>\n",
              "      <th>crime</th>\n",
              "      <th>duty-free</th>\n",
              "      <th>south-africa</th>\n",
              "    </tr>\n",
              "  </thead>\n",
              "  <tbody>\n",
              "    <tr>\n",
              "      <th>0</th>\n",
              "      <td>republican</td>\n",
              "      <td>n</td>\n",
              "      <td>y</td>\n",
              "      <td>n</td>\n",
              "      <td>y</td>\n",
              "      <td>y</td>\n",
              "      <td>y</td>\n",
              "      <td>n</td>\n",
              "      <td>n</td>\n",
              "      <td>n</td>\n",
              "      <td>y</td>\n",
              "      <td>NaN</td>\n",
              "      <td>y</td>\n",
              "      <td>y</td>\n",
              "      <td>y</td>\n",
              "      <td>n</td>\n",
              "      <td>y</td>\n",
              "    </tr>\n",
              "    <tr>\n",
              "      <th>1</th>\n",
              "      <td>republican</td>\n",
              "      <td>n</td>\n",
              "      <td>y</td>\n",
              "      <td>n</td>\n",
              "      <td>y</td>\n",
              "      <td>y</td>\n",
              "      <td>y</td>\n",
              "      <td>n</td>\n",
              "      <td>n</td>\n",
              "      <td>n</td>\n",
              "      <td>n</td>\n",
              "      <td>n</td>\n",
              "      <td>y</td>\n",
              "      <td>y</td>\n",
              "      <td>y</td>\n",
              "      <td>n</td>\n",
              "      <td>NaN</td>\n",
              "    </tr>\n",
              "    <tr>\n",
              "      <th>2</th>\n",
              "      <td>democrat</td>\n",
              "      <td>NaN</td>\n",
              "      <td>y</td>\n",
              "      <td>y</td>\n",
              "      <td>NaN</td>\n",
              "      <td>y</td>\n",
              "      <td>y</td>\n",
              "      <td>n</td>\n",
              "      <td>n</td>\n",
              "      <td>n</td>\n",
              "      <td>n</td>\n",
              "      <td>y</td>\n",
              "      <td>n</td>\n",
              "      <td>y</td>\n",
              "      <td>y</td>\n",
              "      <td>n</td>\n",
              "      <td>n</td>\n",
              "    </tr>\n",
              "  </tbody>\n",
              "</table>\n",
              "</div>"
            ],
            "text/plain": [
              "        party handicapped-infants water-project  ... crime duty-free south-africa\n",
              "0  republican                   n             y  ...     y         n            y\n",
              "1  republican                   n             y  ...     y         n          NaN\n",
              "2    democrat                 NaN             y  ...     y         n            n\n",
              "\n",
              "[3 rows x 17 columns]"
            ]
          },
          "metadata": {
            "tags": []
          },
          "execution_count": 2
        }
      ]
    },
    {
      "cell_type": "code",
      "metadata": {
        "id": "y295QUViEM2o",
        "colab_type": "code",
        "outputId": "4e7eb6a7-9ad5-4fa9-c28e-09d88dfa82e2",
        "colab": {
          "base_uri": "https://localhost:8080/",
          "height": 195
        }
      },
      "source": [
        " # Encoding Y & N to binary values 1 & 0\n",
        " df_votes = df_votes.replace(to_replace={'y': 1, 'n': 0})\n",
        " df_votes.head(3)"
      ],
      "execution_count": 0,
      "outputs": [
        {
          "output_type": "execute_result",
          "data": {
            "text/html": [
              "<div>\n",
              "<style scoped>\n",
              "    .dataframe tbody tr th:only-of-type {\n",
              "        vertical-align: middle;\n",
              "    }\n",
              "\n",
              "    .dataframe tbody tr th {\n",
              "        vertical-align: top;\n",
              "    }\n",
              "\n",
              "    .dataframe thead th {\n",
              "        text-align: right;\n",
              "    }\n",
              "</style>\n",
              "<table border=\"1\" class=\"dataframe\">\n",
              "  <thead>\n",
              "    <tr style=\"text-align: right;\">\n",
              "      <th></th>\n",
              "      <th>party</th>\n",
              "      <th>handicapped-infants</th>\n",
              "      <th>water-project</th>\n",
              "      <th>budget</th>\n",
              "      <th>physician-fee-freeze</th>\n",
              "      <th>el-salvador-aid</th>\n",
              "      <th>religious-groups</th>\n",
              "      <th>anti-satellite-ban</th>\n",
              "      <th>aid-to-contras</th>\n",
              "      <th>mx-missile</th>\n",
              "      <th>immigration</th>\n",
              "      <th>synfuels</th>\n",
              "      <th>education</th>\n",
              "      <th>right-to-sue</th>\n",
              "      <th>crime</th>\n",
              "      <th>duty-free</th>\n",
              "      <th>south-africa</th>\n",
              "    </tr>\n",
              "  </thead>\n",
              "  <tbody>\n",
              "    <tr>\n",
              "      <th>0</th>\n",
              "      <td>republican</td>\n",
              "      <td>0.0</td>\n",
              "      <td>1.0</td>\n",
              "      <td>0.0</td>\n",
              "      <td>1.0</td>\n",
              "      <td>1.0</td>\n",
              "      <td>1.0</td>\n",
              "      <td>0.0</td>\n",
              "      <td>0.0</td>\n",
              "      <td>0.0</td>\n",
              "      <td>1.0</td>\n",
              "      <td>NaN</td>\n",
              "      <td>1.0</td>\n",
              "      <td>1.0</td>\n",
              "      <td>1.0</td>\n",
              "      <td>0.0</td>\n",
              "      <td>1.0</td>\n",
              "    </tr>\n",
              "    <tr>\n",
              "      <th>1</th>\n",
              "      <td>republican</td>\n",
              "      <td>0.0</td>\n",
              "      <td>1.0</td>\n",
              "      <td>0.0</td>\n",
              "      <td>1.0</td>\n",
              "      <td>1.0</td>\n",
              "      <td>1.0</td>\n",
              "      <td>0.0</td>\n",
              "      <td>0.0</td>\n",
              "      <td>0.0</td>\n",
              "      <td>0.0</td>\n",
              "      <td>0.0</td>\n",
              "      <td>1.0</td>\n",
              "      <td>1.0</td>\n",
              "      <td>1.0</td>\n",
              "      <td>0.0</td>\n",
              "      <td>NaN</td>\n",
              "    </tr>\n",
              "    <tr>\n",
              "      <th>2</th>\n",
              "      <td>democrat</td>\n",
              "      <td>NaN</td>\n",
              "      <td>1.0</td>\n",
              "      <td>1.0</td>\n",
              "      <td>NaN</td>\n",
              "      <td>1.0</td>\n",
              "      <td>1.0</td>\n",
              "      <td>0.0</td>\n",
              "      <td>0.0</td>\n",
              "      <td>0.0</td>\n",
              "      <td>0.0</td>\n",
              "      <td>1.0</td>\n",
              "      <td>0.0</td>\n",
              "      <td>1.0</td>\n",
              "      <td>1.0</td>\n",
              "      <td>0.0</td>\n",
              "      <td>0.0</td>\n",
              "    </tr>\n",
              "  </tbody>\n",
              "</table>\n",
              "</div>"
            ],
            "text/plain": [
              "        party  handicapped-infants  ...  duty-free  south-africa\n",
              "0  republican                  0.0  ...        0.0           1.0\n",
              "1  republican                  0.0  ...        0.0           NaN\n",
              "2    democrat                  NaN  ...        0.0           0.0\n",
              "\n",
              "[3 rows x 17 columns]"
            ]
          },
          "metadata": {
            "tags": []
          },
          "execution_count": 27
        }
      ]
    },
    {
      "cell_type": "code",
      "metadata": {
        "id": "h5c0WmtqENNt",
        "colab_type": "code",
        "outputId": "cc907147-31cd-43cc-8f09-027f15128527",
        "colab": {
          "base_uri": "https://localhost:8080/",
          "height": 263
        }
      },
      "source": [
        "# Separating parties into two dataframes\n",
        "df_dem = df_votes[df_votes['party']=='democrat']\n",
        "df_rep = df_votes[df_votes['party']=='republican']\n",
        "# Checking new dataframes\n",
        "print(df_dem.shape)\n",
        "print(df_dem.head(3))\n",
        "print(df_rep.shape)\n",
        "print(df_rep.head(3))"
      ],
      "execution_count": 0,
      "outputs": [
        {
          "output_type": "stream",
          "text": [
            "(267, 17)\n",
            "      party  handicapped-infants  water-project  ...  crime  duty-free  south-africa\n",
            "2  democrat                  NaN            1.0  ...    1.0        0.0           0.0\n",
            "3  democrat                  0.0            1.0  ...    0.0        0.0           1.0\n",
            "4  democrat                  1.0            1.0  ...    1.0        1.0           1.0\n",
            "\n",
            "[3 rows x 17 columns]\n",
            "(168, 17)\n",
            "        party  handicapped-infants  ...  duty-free  south-africa\n",
            "0  republican                  0.0  ...        0.0           1.0\n",
            "1  republican                  0.0  ...        0.0           NaN\n",
            "7  republican                  0.0  ...        NaN           1.0\n",
            "\n",
            "[3 rows x 17 columns]\n"
          ],
          "name": "stdout"
        }
      ]
    },
    {
      "cell_type": "code",
      "metadata": {
        "id": "pXwZMhMG9-pk",
        "colab_type": "code",
        "outputId": "f864a252-4a5d-492b-cd1c-c848614a39db",
        "colab": {
          "base_uri": "https://localhost:8080/",
          "height": 316
        }
      },
      "source": [
        "# Getting means for Democrats\n",
        "dem_mean = df_dem.mean()\n",
        "dem_mean"
      ],
      "execution_count": 0,
      "outputs": [
        {
          "output_type": "execute_result",
          "data": {
            "text/plain": [
              "handicapped-infants     0.604651\n",
              "water-project           0.502092\n",
              "budget                  0.888462\n",
              "physician-fee-freeze    0.054054\n",
              "el-salvador-aid         0.215686\n",
              "religious-groups        0.476744\n",
              "anti-satellite-ban      0.772201\n",
              "aid-to-contras          0.828897\n",
              "mx-missile              0.758065\n",
              "immigration             0.471483\n",
              "synfuels                0.505882\n",
              "education               0.144578\n",
              "right-to-sue            0.289683\n",
              "crime                   0.350195\n",
              "duty-free               0.637450\n",
              "south-africa            0.935135\n",
              "dtype: float64"
            ]
          },
          "metadata": {
            "tags": []
          },
          "execution_count": 29
        }
      ]
    },
    {
      "cell_type": "code",
      "metadata": {
        "id": "5Hy9hhyL-33K",
        "colab_type": "code",
        "outputId": "b4fd24fa-dd05-48db-cece-be9d83ddde49",
        "colab": {
          "base_uri": "https://localhost:8080/",
          "height": 316
        }
      },
      "source": [
        "# Getting means for Republicans\n",
        "rep_mean = df_rep.mean()\n",
        "rep_mean"
      ],
      "execution_count": 0,
      "outputs": [
        {
          "output_type": "execute_result",
          "data": {
            "text/plain": [
              "handicapped-infants     0.187879\n",
              "water-project           0.506757\n",
              "budget                  0.134146\n",
              "physician-fee-freeze    0.987879\n",
              "el-salvador-aid         0.951515\n",
              "religious-groups        0.897590\n",
              "anti-satellite-ban      0.240741\n",
              "aid-to-contras          0.152866\n",
              "mx-missile              0.115152\n",
              "immigration             0.557576\n",
              "synfuels                0.132075\n",
              "education               0.870968\n",
              "right-to-sue            0.860759\n",
              "crime                   0.981366\n",
              "duty-free               0.089744\n",
              "south-africa            0.657534\n",
              "dtype: float64"
            ]
          },
          "metadata": {
            "tags": []
          },
          "execution_count": 30
        }
      ]
    },
    {
      "cell_type": "code",
      "metadata": {
        "id": "2zffmhhpb3nl",
        "colab_type": "code",
        "colab": {}
      },
      "source": [
        "# Creating New Dataframe with mean support\n",
        "df_means = pd.concat([dem_mean, rep_mean], join='outer', names=['Issue', 'Democrat', 'Republican'], axis=1)"
      ],
      "execution_count": 0,
      "outputs": []
    },
    {
      "cell_type": "code",
      "metadata": {
        "id": "lFNqTxCaHa1-",
        "colab_type": "code",
        "colab": {}
      },
      "source": [
        "# Renaming Columns\n",
        "df_means = df_means.rename(columns={0:'Democrat', 1:'Republican'}, errors='raise')"
      ],
      "execution_count": 0,
      "outputs": []
    },
    {
      "cell_type": "code",
      "metadata": {
        "id": "jbr28Bw1Aus7",
        "colab_type": "code",
        "outputId": "6c1bc4eb-d5bd-459f-f64d-12c21dcd51eb",
        "colab": {
          "base_uri": "https://localhost:8080/",
          "height": 141
        }
      },
      "source": [
        "# Checking dataframe\n",
        "df_means.head(3)"
      ],
      "execution_count": 0,
      "outputs": [
        {
          "output_type": "execute_result",
          "data": {
            "text/html": [
              "<div>\n",
              "<style scoped>\n",
              "    .dataframe tbody tr th:only-of-type {\n",
              "        vertical-align: middle;\n",
              "    }\n",
              "\n",
              "    .dataframe tbody tr th {\n",
              "        vertical-align: top;\n",
              "    }\n",
              "\n",
              "    .dataframe thead th {\n",
              "        text-align: right;\n",
              "    }\n",
              "</style>\n",
              "<table border=\"1\" class=\"dataframe\">\n",
              "  <thead>\n",
              "    <tr style=\"text-align: right;\">\n",
              "      <th></th>\n",
              "      <th>Democrat</th>\n",
              "      <th>Republican</th>\n",
              "    </tr>\n",
              "  </thead>\n",
              "  <tbody>\n",
              "    <tr>\n",
              "      <th>handicapped-infants</th>\n",
              "      <td>0.604651</td>\n",
              "      <td>0.187879</td>\n",
              "    </tr>\n",
              "    <tr>\n",
              "      <th>water-project</th>\n",
              "      <td>0.502092</td>\n",
              "      <td>0.506757</td>\n",
              "    </tr>\n",
              "    <tr>\n",
              "      <th>budget</th>\n",
              "      <td>0.888462</td>\n",
              "      <td>0.134146</td>\n",
              "    </tr>\n",
              "  </tbody>\n",
              "</table>\n",
              "</div>"
            ],
            "text/plain": [
              "                     Democrat  Republican\n",
              "handicapped-infants  0.604651    0.187879\n",
              "water-project        0.502092    0.506757\n",
              "budget               0.888462    0.134146"
            ]
          },
          "metadata": {
            "tags": []
          },
          "execution_count": 33
        }
      ]
    },
    {
      "cell_type": "code",
      "metadata": {
        "id": "ZhPoTSsEER2p",
        "colab_type": "code",
        "outputId": "a35900b0-fe25-415c-f8a8-3a432bfe9855",
        "colab": {
          "base_uri": "https://localhost:8080/",
          "height": 390
        }
      },
      "source": [
        "# Plotting chart to visualize mean support for issues\n",
        "df_means.plot(kind='barh', title='Mean Levels of Support for Issues by Party', figsize=(8,6));"
      ],
      "execution_count": 0,
      "outputs": [
        {
          "output_type": "display_data",
          "data": {
            "image/png": "[encoded data removed]",
            "text/plain": [
              "<Figure size 576x432 with 1 Axes>"
            ]
          },
          "metadata": {
            "tags": []
          }
        }
      ]
    },
    {
      "cell_type": "code",
      "metadata": {
        "id": "P9rOJPTUUweb",
        "colab_type": "code",
        "colab": {}
      },
      "source": [
        "# Taking a look at the issue of Immigration"
      ],
      "execution_count": 0,
      "outputs": []
    },
    {
      "cell_type": "code",
      "metadata": {
        "id": "mwkKQYh_GM_b",
        "colab_type": "code",
        "outputId": "51ffa2fc-e182-4942-eb5d-67afc9ee385b",
        "colab": {
          "base_uri": "https://localhost:8080/",
          "height": 35
        }
      },
      "source": [
        "# Performing ttest for the issue of immigration\n",
        "from scipy.stats import ttest_ind\n",
        "ttest_ind(df_dem['immigration'], df_rep['immigration'], nan_policy='omit')"
      ],
      "execution_count": 0,
      "outputs": [
        {
          "output_type": "execute_result",
          "data": {
            "text/plain": [
              "Ttest_indResult(statistic=-1.7359117329695164, pvalue=0.08330248490425066)"
            ]
          },
          "metadata": {
            "tags": []
          },
          "execution_count": 36
        }
      ]
    },
    {
      "cell_type": "code",
      "metadata": {
        "id": "6l8JurwsM8ic",
        "colab_type": "code",
        "colab": {}
      },
      "source": [
        "# Null Hypothesis (H0) : Democrat support for immigration == Republican support for immigration\n",
        "# Alternative Hypothesis (H1) : Democrat support for immigration =/= Republican support for immigration \n",
        "# At a 95% Confidence Level where the P-Value < 0.05 the ttest indicates a P-Value of 0.083 which is greater than 0.05\n",
        "# Thereby we reject the Null Hypothesis (H0) which indicates that the level of support for immigration from both parties is different."
      ],
      "execution_count": 0,
      "outputs": []
    },
    {
      "cell_type": "markdown",
      "metadata": {
        "id": "q6_s4Fl1kQuY",
        "colab_type": "text"
      },
      "source": [
        "* Null Hypothesis (H0) : Democrat support for immigration == Republican support for immigration\n",
        "* Alternative Hypothesis (H1) : Democrat support for immigration =/= Republican support for immigration \n",
        "* At a 95% Confidence Level where the P-Value < 0.05 the ttest indicates a P-Value of 0.083 which is greater than 0.05\n",
        "* Thereby we reject the Null Hypothesis (H0) which indicates that the level of support for immigration from both parties is different."
      ]
    },
    {
      "cell_type": "code",
      "metadata": {
        "id": "H6i2Ae7zrLwm",
        "colab_type": "code",
        "colab": {}
      },
      "source": [
        "# Importing stats module\n",
        "import scipy.stats as stats"
      ],
      "execution_count": 0,
      "outputs": []
    },
    {
      "cell_type": "code",
      "metadata": {
        "id": "jfSrd4oNGNKA",
        "colab_type": "code",
        "colab": {}
      },
      "source": [
        "# Defining a function to calculate confidence intervals (Taken from lecture notebook with modification to work on dataframe series)\n",
        "def confidence_interval(data, confidence=0.95):\n",
        "    \"\"\"\n",
        "    Calculate a confidence interval around a sample mean for given data.\n",
        "    Using t-distribution and two-tailed test, default 95% confidence. \n",
        "\n",
        "    Arguments:\n",
        "    data - iterable (list or numpy array) of sample observations\n",
        "    confidence - level of confidence for the interval\n",
        "\n",
        "    Returns:\n",
        "    tuple of (mean, lower bound, upper bound)\n",
        "    \"\"\"\n",
        "    data_array = data\n",
        "    data_mean = data.mean()\n",
        "    n = len(data)\n",
        "    stderr = np.std(data_array, ddof=1)/np.sqrt(n)\n",
        "    moe = stderr * stats.t.ppf((1 + confidence) / 2, n-1)\n",
        "    return (data_mean, data_mean - moe, data_mean + moe)"
      ],
      "execution_count": 0,
      "outputs": []
    },
    {
      "cell_type": "code",
      "metadata": {
        "id": "pB18TsOwc9Se",
        "colab_type": "code",
        "outputId": "400ce7e0-daaa-4ee4-9b73-b160ffe23a3e",
        "colab": {
          "base_uri": "https://localhost:8080/",
          "height": 35
        }
      },
      "source": [
        "# Calculating confidence level\n",
        "party_im = df_rep['immigration']\n",
        "CI = confidence_interval(party_im)\n",
        "print(CI)"
      ],
      "execution_count": 0,
      "outputs": [
        {
          "output_type": "stream",
          "text": [
            "(0.5575757575757576, 0.4816929198405456, 0.6334585953109697)\n"
          ],
          "name": "stdout"
        }
      ]
    },
    {
      "cell_type": "markdown",
      "metadata": {
        "id": "N6vhjZCaO4sF",
        "colab_type": "text"
      },
      "source": [
        "## 2) Graphically (with a plot) represent the confidence interval\n"
      ]
    },
    {
      "cell_type": "code",
      "metadata": {
        "id": "U5R7SRtPTJ2b",
        "colab_type": "code",
        "outputId": "e11ae7fc-51d1-4c8c-bb23-26a718ff160a",
        "colab": {
          "base_uri": "https://localhost:8080/",
          "height": 266
        }
      },
      "source": [
        "# Calculating confidence level\n",
        "sns.kdeplot(party_im)\n",
        "plt.axvline(x=CI[1], color='r')\n",
        "plt.axvline(x=CI[2], color='r')\n",
        "plt.axvline(x=CI[0], color='k');"
      ],
      "execution_count": 0,
      "outputs": [
        {
          "output_type": "display_data",
          "data": {
            "image/png": "[encoded data removed]",
            "text/plain": [
              "<Figure size 432x288 with 1 Axes>"
            ]
          },
          "metadata": {
            "tags": []
          }
        }
      ]
    },
    {
      "cell_type": "markdown",
      "metadata": {
        "id": "fSR6xVqYO_GN",
        "colab_type": "text"
      },
      "source": [
        "## 3) Interpret the confidence interval - what does it tell you about the data and its distribution?"
      ]
    },
    {
      "cell_type": "markdown",
      "metadata": {
        "id": "bnfAVEXssv-F",
        "colab_type": "text"
      },
      "source": [
        "As is shown in the previous calculation, the mean level of support for immigration among Republicans in the House of Congress was 0.56 with a confidence interval of +/- 0.76 \n",
        "\n",
        "This means that nationally among the the population of Republicans on average, we are 95% confident that the average support for immigration would fall between 48% and 63%."
      ]
    },
    {
      "cell_type": "markdown",
      "metadata": {
        "id": "gXuLLwiMK1ag",
        "colab_type": "text"
      },
      "source": [
        "# Chi-squared tests:\n"
      ]
    },
    {
      "cell_type": "markdown",
      "metadata": {
        "id": "iT2Vxq-S9R2y",
        "colab_type": "text"
      },
      "source": [
        "### Calculating by hand"
      ]
    },
    {
      "cell_type": "markdown",
      "metadata": {
        "id": "wfHR3HwT4G8z",
        "colab_type": "text"
      },
      "source": [
        "A Chi-Squared test will be conducted on the adult dataset to determine the link between Sex and Education level. "
      ]
    },
    {
      "cell_type": "code",
      "metadata": {
        "id": "VS4CtVWZbBs8",
        "colab_type": "code",
        "colab": {}
      },
      "source": [
        "# Reading in Adult dataset\n",
        "\n",
        "url_adult='https://raw.githubusercontent.com/ryanleeallred/datasets/master/adult.csv'\n",
        "\n",
        "df_adult = pd.read_csv(url_adult, na_values=' ?')"
      ],
      "execution_count": 0,
      "outputs": []
    },
    {
      "cell_type": "code",
      "metadata": {
        "id": "cYfOa_i5yzDu",
        "colab_type": "code",
        "outputId": "45fe4036-3d49-4adc-9e83-a07a8762ea03",
        "colab": {
          "base_uri": "https://localhost:8080/",
          "height": 341
        }
      },
      "source": [
        "# Checking dataframe\n",
        "print(df_adult.shape)\n",
        "df_adult.head()"
      ],
      "execution_count": 0,
      "outputs": [
        {
          "output_type": "stream",
          "text": [
            "(32561, 15)\n"
          ],
          "name": "stdout"
        },
        {
          "output_type": "execute_result",
          "data": {
            "text/html": [
              "<div>\n",
              "<style scoped>\n",
              "    .dataframe tbody tr th:only-of-type {\n",
              "        vertical-align: middle;\n",
              "    }\n",
              "\n",
              "    .dataframe tbody tr th {\n",
              "        vertical-align: top;\n",
              "    }\n",
              "\n",
              "    .dataframe thead th {\n",
              "        text-align: right;\n",
              "    }\n",
              "</style>\n",
              "<table border=\"1\" class=\"dataframe\">\n",
              "  <thead>\n",
              "    <tr style=\"text-align: right;\">\n",
              "      <th></th>\n",
              "      <th>age</th>\n",
              "      <th>workclass</th>\n",
              "      <th>fnlwgt</th>\n",
              "      <th>education</th>\n",
              "      <th>education-num</th>\n",
              "      <th>marital-status</th>\n",
              "      <th>occupation</th>\n",
              "      <th>relationship</th>\n",
              "      <th>race</th>\n",
              "      <th>sex</th>\n",
              "      <th>capital-gain</th>\n",
              "      <th>capital-loss</th>\n",
              "      <th>hours-per-week</th>\n",
              "      <th>country</th>\n",
              "      <th>salary</th>\n",
              "    </tr>\n",
              "  </thead>\n",
              "  <tbody>\n",
              "    <tr>\n",
              "      <th>0</th>\n",
              "      <td>39</td>\n",
              "      <td>State-gov</td>\n",
              "      <td>77516</td>\n",
              "      <td>Bachelors</td>\n",
              "      <td>13</td>\n",
              "      <td>Never-married</td>\n",
              "      <td>Adm-clerical</td>\n",
              "      <td>Not-in-family</td>\n",
              "      <td>White</td>\n",
              "      <td>Male</td>\n",
              "      <td>2174</td>\n",
              "      <td>0</td>\n",
              "      <td>40</td>\n",
              "      <td>United-States</td>\n",
              "      <td>&lt;=50K</td>\n",
              "    </tr>\n",
              "    <tr>\n",
              "      <th>1</th>\n",
              "      <td>50</td>\n",
              "      <td>Self-emp-not-inc</td>\n",
              "      <td>83311</td>\n",
              "      <td>Bachelors</td>\n",
              "      <td>13</td>\n",
              "      <td>Married-civ-spouse</td>\n",
              "      <td>Exec-managerial</td>\n",
              "      <td>Husband</td>\n",
              "      <td>White</td>\n",
              "      <td>Male</td>\n",
              "      <td>0</td>\n",
              "      <td>0</td>\n",
              "      <td>13</td>\n",
              "      <td>United-States</td>\n",
              "      <td>&lt;=50K</td>\n",
              "    </tr>\n",
              "    <tr>\n",
              "      <th>2</th>\n",
              "      <td>38</td>\n",
              "      <td>Private</td>\n",
              "      <td>215646</td>\n",
              "      <td>HS-grad</td>\n",
              "      <td>9</td>\n",
              "      <td>Divorced</td>\n",
              "      <td>Handlers-cleaners</td>\n",
              "      <td>Not-in-family</td>\n",
              "      <td>White</td>\n",
              "      <td>Male</td>\n",
              "      <td>0</td>\n",
              "      <td>0</td>\n",
              "      <td>40</td>\n",
              "      <td>United-States</td>\n",
              "      <td>&lt;=50K</td>\n",
              "    </tr>\n",
              "    <tr>\n",
              "      <th>3</th>\n",
              "      <td>53</td>\n",
              "      <td>Private</td>\n",
              "      <td>234721</td>\n",
              "      <td>11th</td>\n",
              "      <td>7</td>\n",
              "      <td>Married-civ-spouse</td>\n",
              "      <td>Handlers-cleaners</td>\n",
              "      <td>Husband</td>\n",
              "      <td>Black</td>\n",
              "      <td>Male</td>\n",
              "      <td>0</td>\n",
              "      <td>0</td>\n",
              "      <td>40</td>\n",
              "      <td>United-States</td>\n",
              "      <td>&lt;=50K</td>\n",
              "    </tr>\n",
              "    <tr>\n",
              "      <th>4</th>\n",
              "      <td>28</td>\n",
              "      <td>Private</td>\n",
              "      <td>338409</td>\n",
              "      <td>Bachelors</td>\n",
              "      <td>13</td>\n",
              "      <td>Married-civ-spouse</td>\n",
              "      <td>Prof-specialty</td>\n",
              "      <td>Wife</td>\n",
              "      <td>Black</td>\n",
              "      <td>Female</td>\n",
              "      <td>0</td>\n",
              "      <td>0</td>\n",
              "      <td>40</td>\n",
              "      <td>Cuba</td>\n",
              "      <td>&lt;=50K</td>\n",
              "    </tr>\n",
              "  </tbody>\n",
              "</table>\n",
              "</div>"
            ],
            "text/plain": [
              "   age          workclass  fnlwgt  ... hours-per-week         country  salary\n",
              "0   39          State-gov   77516  ...             40   United-States   <=50K\n",
              "1   50   Self-emp-not-inc   83311  ...             13   United-States   <=50K\n",
              "2   38            Private  215646  ...             40   United-States   <=50K\n",
              "3   53            Private  234721  ...             40   United-States   <=50K\n",
              "4   28            Private  338409  ...             40            Cuba   <=50K\n",
              "\n",
              "[5 rows x 15 columns]"
            ]
          },
          "metadata": {
            "tags": []
          },
          "execution_count": 43
        }
      ]
    },
    {
      "cell_type": "code",
      "metadata": {
        "id": "p8ubWTHT0ayg",
        "colab_type": "code",
        "outputId": "af75e627-1bdc-4b2e-8e4c-d742f35e1e64",
        "colab": {
          "base_uri": "https://localhost:8080/",
          "height": 299
        }
      },
      "source": [
        "# Checking for NaN values\n",
        "df_adult.isnull().sum()"
      ],
      "execution_count": 0,
      "outputs": [
        {
          "output_type": "execute_result",
          "data": {
            "text/plain": [
              "age                  0\n",
              "workclass         1836\n",
              "fnlwgt               0\n",
              "education            0\n",
              "education-num        0\n",
              "marital-status       0\n",
              "occupation        1843\n",
              "relationship         0\n",
              "race                 0\n",
              "sex                  0\n",
              "capital-gain         0\n",
              "capital-loss         0\n",
              "hours-per-week       0\n",
              "country            583\n",
              "salary               0\n",
              "dtype: int64"
            ]
          },
          "metadata": {
            "tags": []
          },
          "execution_count": 44
        }
      ]
    },
    {
      "cell_type": "code",
      "metadata": {
        "id": "i5cadXQT1Wa5",
        "colab_type": "code",
        "outputId": "508463ba-3973-41f7-da32-d53c434a3b4d",
        "colab": {
          "base_uri": "https://localhost:8080/",
          "height": 341
        }
      },
      "source": [
        "# Dropping NaN values\n",
        "df_adult = df_adult.dropna(how='any')\n",
        "print(df_adult.shape)\n",
        "df_adult.sample(5)"
      ],
      "execution_count": 0,
      "outputs": [
        {
          "output_type": "stream",
          "text": [
            "(30162, 15)\n"
          ],
          "name": "stdout"
        },
        {
          "output_type": "execute_result",
          "data": {
            "text/html": [
              "<div>\n",
              "<style scoped>\n",
              "    .dataframe tbody tr th:only-of-type {\n",
              "        vertical-align: middle;\n",
              "    }\n",
              "\n",
              "    .dataframe tbody tr th {\n",
              "        vertical-align: top;\n",
              "    }\n",
              "\n",
              "    .dataframe thead th {\n",
              "        text-align: right;\n",
              "    }\n",
              "</style>\n",
              "<table border=\"1\" class=\"dataframe\">\n",
              "  <thead>\n",
              "    <tr style=\"text-align: right;\">\n",
              "      <th></th>\n",
              "      <th>age</th>\n",
              "      <th>workclass</th>\n",
              "      <th>fnlwgt</th>\n",
              "      <th>education</th>\n",
              "      <th>education-num</th>\n",
              "      <th>marital-status</th>\n",
              "      <th>occupation</th>\n",
              "      <th>relationship</th>\n",
              "      <th>race</th>\n",
              "      <th>sex</th>\n",
              "      <th>capital-gain</th>\n",
              "      <th>capital-loss</th>\n",
              "      <th>hours-per-week</th>\n",
              "      <th>country</th>\n",
              "      <th>salary</th>\n",
              "    </tr>\n",
              "  </thead>\n",
              "  <tbody>\n",
              "    <tr>\n",
              "      <th>12339</th>\n",
              "      <td>20</td>\n",
              "      <td>Local-gov</td>\n",
              "      <td>271354</td>\n",
              "      <td>HS-grad</td>\n",
              "      <td>9</td>\n",
              "      <td>Never-married</td>\n",
              "      <td>Adm-clerical</td>\n",
              "      <td>Own-child</td>\n",
              "      <td>White</td>\n",
              "      <td>Male</td>\n",
              "      <td>0</td>\n",
              "      <td>0</td>\n",
              "      <td>40</td>\n",
              "      <td>United-States</td>\n",
              "      <td>&lt;=50K</td>\n",
              "    </tr>\n",
              "    <tr>\n",
              "      <th>31004</th>\n",
              "      <td>28</td>\n",
              "      <td>Private</td>\n",
              "      <td>269786</td>\n",
              "      <td>HS-grad</td>\n",
              "      <td>9</td>\n",
              "      <td>Married-civ-spouse</td>\n",
              "      <td>Transport-moving</td>\n",
              "      <td>Husband</td>\n",
              "      <td>White</td>\n",
              "      <td>Male</td>\n",
              "      <td>0</td>\n",
              "      <td>0</td>\n",
              "      <td>40</td>\n",
              "      <td>United-States</td>\n",
              "      <td>&lt;=50K</td>\n",
              "    </tr>\n",
              "    <tr>\n",
              "      <th>11033</th>\n",
              "      <td>43</td>\n",
              "      <td>Private</td>\n",
              "      <td>135606</td>\n",
              "      <td>Masters</td>\n",
              "      <td>14</td>\n",
              "      <td>Divorced</td>\n",
              "      <td>Exec-managerial</td>\n",
              "      <td>Not-in-family</td>\n",
              "      <td>White</td>\n",
              "      <td>Female</td>\n",
              "      <td>0</td>\n",
              "      <td>0</td>\n",
              "      <td>50</td>\n",
              "      <td>United-States</td>\n",
              "      <td>&gt;50K</td>\n",
              "    </tr>\n",
              "    <tr>\n",
              "      <th>31199</th>\n",
              "      <td>28</td>\n",
              "      <td>Self-emp-inc</td>\n",
              "      <td>37088</td>\n",
              "      <td>Bachelors</td>\n",
              "      <td>13</td>\n",
              "      <td>Never-married</td>\n",
              "      <td>Sales</td>\n",
              "      <td>Not-in-family</td>\n",
              "      <td>White</td>\n",
              "      <td>Male</td>\n",
              "      <td>0</td>\n",
              "      <td>0</td>\n",
              "      <td>50</td>\n",
              "      <td>United-States</td>\n",
              "      <td>&lt;=50K</td>\n",
              "    </tr>\n",
              "    <tr>\n",
              "      <th>3815</th>\n",
              "      <td>20</td>\n",
              "      <td>Private</td>\n",
              "      <td>196745</td>\n",
              "      <td>Some-college</td>\n",
              "      <td>10</td>\n",
              "      <td>Never-married</td>\n",
              "      <td>Other-service</td>\n",
              "      <td>Own-child</td>\n",
              "      <td>White</td>\n",
              "      <td>Female</td>\n",
              "      <td>594</td>\n",
              "      <td>0</td>\n",
              "      <td>16</td>\n",
              "      <td>United-States</td>\n",
              "      <td>&lt;=50K</td>\n",
              "    </tr>\n",
              "  </tbody>\n",
              "</table>\n",
              "</div>"
            ],
            "text/plain": [
              "       age      workclass  fnlwgt  ... hours-per-week         country  salary\n",
              "12339   20      Local-gov  271354  ...             40   United-States   <=50K\n",
              "31004   28        Private  269786  ...             40   United-States   <=50K\n",
              "11033   43        Private  135606  ...             50   United-States    >50K\n",
              "31199   28   Self-emp-inc   37088  ...             50   United-States   <=50K\n",
              "3815    20        Private  196745  ...             16   United-States   <=50K\n",
              "\n",
              "[5 rows x 15 columns]"
            ]
          },
          "metadata": {
            "tags": []
          },
          "execution_count": 46
        }
      ]
    },
    {
      "cell_type": "code",
      "metadata": {
        "id": "42cuemq83dcn",
        "colab_type": "code",
        "outputId": "068a4ae7-c21b-4eef-a356-ceb29d8921ed",
        "colab": {
          "base_uri": "https://localhost:8080/",
          "height": 189
        }
      },
      "source": [
        "# Crosstabbing the two relevant columns.\n",
        "\n",
        "x_table = pd.crosstab(df_adult['sex'], df_adult['education'], margins=True)\n",
        "x_table"
      ],
      "execution_count": 0,
      "outputs": [
        {
          "output_type": "execute_result",
          "data": {
            "text/html": [
              "<div>\n",
              "<style scoped>\n",
              "    .dataframe tbody tr th:only-of-type {\n",
              "        vertical-align: middle;\n",
              "    }\n",
              "\n",
              "    .dataframe tbody tr th {\n",
              "        vertical-align: top;\n",
              "    }\n",
              "\n",
              "    .dataframe thead th {\n",
              "        text-align: right;\n",
              "    }\n",
              "</style>\n",
              "<table border=\"1\" class=\"dataframe\">\n",
              "  <thead>\n",
              "    <tr style=\"text-align: right;\">\n",
              "      <th>education</th>\n",
              "      <th>10th</th>\n",
              "      <th>11th</th>\n",
              "      <th>12th</th>\n",
              "      <th>1st-4th</th>\n",
              "      <th>5th-6th</th>\n",
              "      <th>7th-8th</th>\n",
              "      <th>9th</th>\n",
              "      <th>Assoc-acdm</th>\n",
              "      <th>Assoc-voc</th>\n",
              "      <th>Bachelors</th>\n",
              "      <th>Doctorate</th>\n",
              "      <th>HS-grad</th>\n",
              "      <th>Masters</th>\n",
              "      <th>Preschool</th>\n",
              "      <th>Prof-school</th>\n",
              "      <th>Some-college</th>\n",
              "      <th>All</th>\n",
              "    </tr>\n",
              "    <tr>\n",
              "      <th>sex</th>\n",
              "      <th></th>\n",
              "      <th></th>\n",
              "      <th></th>\n",
              "      <th></th>\n",
              "      <th></th>\n",
              "      <th></th>\n",
              "      <th></th>\n",
              "      <th></th>\n",
              "      <th></th>\n",
              "      <th></th>\n",
              "      <th></th>\n",
              "      <th></th>\n",
              "      <th></th>\n",
              "      <th></th>\n",
              "      <th></th>\n",
              "      <th></th>\n",
              "      <th></th>\n",
              "    </tr>\n",
              "  </thead>\n",
              "  <tbody>\n",
              "    <tr>\n",
              "      <th>Female</th>\n",
              "      <td>250</td>\n",
              "      <td>371</td>\n",
              "      <td>122</td>\n",
              "      <td>43</td>\n",
              "      <td>69</td>\n",
              "      <td>132</td>\n",
              "      <td>119</td>\n",
              "      <td>395</td>\n",
              "      <td>455</td>\n",
              "      <td>1522</td>\n",
              "      <td>81</td>\n",
              "      <td>3106</td>\n",
              "      <td>509</td>\n",
              "      <td>14</td>\n",
              "      <td>87</td>\n",
              "      <td>2507</td>\n",
              "      <td>9782</td>\n",
              "    </tr>\n",
              "    <tr>\n",
              "      <th>Male</th>\n",
              "      <td>570</td>\n",
              "      <td>677</td>\n",
              "      <td>255</td>\n",
              "      <td>108</td>\n",
              "      <td>219</td>\n",
              "      <td>425</td>\n",
              "      <td>336</td>\n",
              "      <td>613</td>\n",
              "      <td>852</td>\n",
              "      <td>3522</td>\n",
              "      <td>294</td>\n",
              "      <td>6734</td>\n",
              "      <td>1118</td>\n",
              "      <td>31</td>\n",
              "      <td>455</td>\n",
              "      <td>4171</td>\n",
              "      <td>20380</td>\n",
              "    </tr>\n",
              "    <tr>\n",
              "      <th>All</th>\n",
              "      <td>820</td>\n",
              "      <td>1048</td>\n",
              "      <td>377</td>\n",
              "      <td>151</td>\n",
              "      <td>288</td>\n",
              "      <td>557</td>\n",
              "      <td>455</td>\n",
              "      <td>1008</td>\n",
              "      <td>1307</td>\n",
              "      <td>5044</td>\n",
              "      <td>375</td>\n",
              "      <td>9840</td>\n",
              "      <td>1627</td>\n",
              "      <td>45</td>\n",
              "      <td>542</td>\n",
              "      <td>6678</td>\n",
              "      <td>30162</td>\n",
              "    </tr>\n",
              "  </tbody>\n",
              "</table>\n",
              "</div>"
            ],
            "text/plain": [
              "education   10th   11th   12th  ...   Prof-school   Some-college    All\n",
              "sex                             ...                                    \n",
              " Female      250    371    122  ...            87           2507   9782\n",
              " Male        570    677    255  ...           455           4171  20380\n",
              "All          820   1048    377  ...           542           6678  30162\n",
              "\n",
              "[3 rows x 17 columns]"
            ]
          },
          "metadata": {
            "tags": []
          },
          "execution_count": 66
        }
      ]
    },
    {
      "cell_type": "code",
      "metadata": {
        "id": "82744mTe3duD",
        "colab_type": "code",
        "outputId": "758e6e05-ff21-498e-d9e4-90dbde20281e",
        "colab": {
          "base_uri": "https://localhost:8080/",
          "height": 52
        }
      },
      "source": [
        "# Creating an array for Male counts.\n",
        "m_count = x_table.iloc[1][0:16].values\n",
        "m_count"
      ],
      "execution_count": 0,
      "outputs": [
        {
          "output_type": "execute_result",
          "data": {
            "text/plain": [
              "array([ 570,  677,  255,  108,  219,  425,  336,  613,  852, 3522,  294,\n",
              "       6734, 1118,   31,  455, 4171])"
            ]
          },
          "metadata": {
            "tags": []
          },
          "execution_count": 67
        }
      ]
    },
    {
      "cell_type": "code",
      "metadata": {
        "id": "UQUxfFgu5Rgx",
        "colab_type": "code",
        "outputId": "5623cdfd-a26e-4670-e049-015b86cf053f",
        "colab": {
          "base_uri": "https://localhost:8080/",
          "height": 52
        }
      },
      "source": [
        "# Creating an array for Female counts.\n",
        "f_count = x_table.iloc[0][0:16].values\n",
        "f_count"
      ],
      "execution_count": 0,
      "outputs": [
        {
          "output_type": "execute_result",
          "data": {
            "text/plain": [
              "array([ 250,  371,  122,   43,   69,  132,  119,  395,  455, 1522,   81,\n",
              "       3106,  509,   14,   87, 2507])"
            ]
          },
          "metadata": {
            "tags": []
          },
          "execution_count": 68
        }
      ]
    },
    {
      "cell_type": "code",
      "metadata": {
        "id": "KFwmdPao5RrX",
        "colab_type": "code",
        "colab": {}
      },
      "source": [
        "# Setting Category Labels\n",
        "label_names = ['10th', '11th', '12th', '1st-4th', '5th-6th', '7th-8th', '9th', \n",
        "               'Assoc-acdm', 'Assoc-voc', 'Bachelors', 'Doctorate', 'HS-grad', 'Masters', 'Preschool', 'Prof-school', 'Some-college']"
      ],
      "execution_count": 0,
      "outputs": []
    },
    {
      "cell_type": "code",
      "metadata": {
        "id": "FVnXpDHY59zJ",
        "colab_type": "code",
        "outputId": "3739917c-4fa0-4cfe-f6a2-c2f7896be1e8",
        "colab": {
          "base_uri": "https://localhost:8080/",
          "height": 265
        }
      },
      "source": [
        "# Plotting bar chart\n",
        "\n",
        "p1 =plt.bar(label_names, m_count, 0.55, color='r')\n",
        "p2 =plt.bar(label_names, f_count, 0.55, color='b', bottom=m_count)"
      ],
      "execution_count": 0,
      "outputs": [
        {
          "output_type": "display_data",
          "data": {
            "image/png": "[encoded data removed]",
            "text/plain": [
              "<Figure size 432x288 with 1 Axes>"
            ]
          },
          "metadata": {
            "tags": []
          }
        }
      ]
    },
    {
      "cell_type": "code",
      "metadata": {
        "id": "HWCrksWE59-e",
        "colab_type": "code",
        "outputId": "21c341f9-9590-40ce-d915-e09d4fa56d7b",
        "colab": {
          "base_uri": "https://localhost:8080/",
          "height": 189
        }
      },
      "source": [
        "# Calculating Expected Value\n",
        "x_table"
      ],
      "execution_count": 0,
      "outputs": [
        {
          "output_type": "execute_result",
          "data": {
            "text/html": [
              "<div>\n",
              "<style scoped>\n",
              "    .dataframe tbody tr th:only-of-type {\n",
              "        vertical-align: middle;\n",
              "    }\n",
              "\n",
              "    .dataframe tbody tr th {\n",
              "        vertical-align: top;\n",
              "    }\n",
              "\n",
              "    .dataframe thead th {\n",
              "        text-align: right;\n",
              "    }\n",
              "</style>\n",
              "<table border=\"1\" class=\"dataframe\">\n",
              "  <thead>\n",
              "    <tr style=\"text-align: right;\">\n",
              "      <th>education</th>\n",
              "      <th>10th</th>\n",
              "      <th>11th</th>\n",
              "      <th>12th</th>\n",
              "      <th>1st-4th</th>\n",
              "      <th>5th-6th</th>\n",
              "      <th>7th-8th</th>\n",
              "      <th>9th</th>\n",
              "      <th>Assoc-acdm</th>\n",
              "      <th>Assoc-voc</th>\n",
              "      <th>Bachelors</th>\n",
              "      <th>Doctorate</th>\n",
              "      <th>HS-grad</th>\n",
              "      <th>Masters</th>\n",
              "      <th>Preschool</th>\n",
              "      <th>Prof-school</th>\n",
              "      <th>Some-college</th>\n",
              "      <th>All</th>\n",
              "    </tr>\n",
              "    <tr>\n",
              "      <th>sex</th>\n",
              "      <th></th>\n",
              "      <th></th>\n",
              "      <th></th>\n",
              "      <th></th>\n",
              "      <th></th>\n",
              "      <th></th>\n",
              "      <th></th>\n",
              "      <th></th>\n",
              "      <th></th>\n",
              "      <th></th>\n",
              "      <th></th>\n",
              "      <th></th>\n",
              "      <th></th>\n",
              "      <th></th>\n",
              "      <th></th>\n",
              "      <th></th>\n",
              "      <th></th>\n",
              "    </tr>\n",
              "  </thead>\n",
              "  <tbody>\n",
              "    <tr>\n",
              "      <th>Female</th>\n",
              "      <td>250</td>\n",
              "      <td>371</td>\n",
              "      <td>122</td>\n",
              "      <td>43</td>\n",
              "      <td>69</td>\n",
              "      <td>132</td>\n",
              "      <td>119</td>\n",
              "      <td>395</td>\n",
              "      <td>455</td>\n",
              "      <td>1522</td>\n",
              "      <td>81</td>\n",
              "      <td>3106</td>\n",
              "      <td>509</td>\n",
              "      <td>14</td>\n",
              "      <td>87</td>\n",
              "      <td>2507</td>\n",
              "      <td>9782</td>\n",
              "    </tr>\n",
              "    <tr>\n",
              "      <th>Male</th>\n",
              "      <td>570</td>\n",
              "      <td>677</td>\n",
              "      <td>255</td>\n",
              "      <td>108</td>\n",
              "      <td>219</td>\n",
              "      <td>425</td>\n",
              "      <td>336</td>\n",
              "      <td>613</td>\n",
              "      <td>852</td>\n",
              "      <td>3522</td>\n",
              "      <td>294</td>\n",
              "      <td>6734</td>\n",
              "      <td>1118</td>\n",
              "      <td>31</td>\n",
              "      <td>455</td>\n",
              "      <td>4171</td>\n",
              "      <td>20380</td>\n",
              "    </tr>\n",
              "    <tr>\n",
              "      <th>All</th>\n",
              "      <td>820</td>\n",
              "      <td>1048</td>\n",
              "      <td>377</td>\n",
              "      <td>151</td>\n",
              "      <td>288</td>\n",
              "      <td>557</td>\n",
              "      <td>455</td>\n",
              "      <td>1008</td>\n",
              "      <td>1307</td>\n",
              "      <td>5044</td>\n",
              "      <td>375</td>\n",
              "      <td>9840</td>\n",
              "      <td>1627</td>\n",
              "      <td>45</td>\n",
              "      <td>542</td>\n",
              "      <td>6678</td>\n",
              "      <td>30162</td>\n",
              "    </tr>\n",
              "  </tbody>\n",
              "</table>\n",
              "</div>"
            ],
            "text/plain": [
              "education   10th   11th   12th  ...   Prof-school   Some-college    All\n",
              "sex                             ...                                    \n",
              " Female      250    371    122  ...            87           2507   9782\n",
              " Male        570    677    255  ...           455           4171  20380\n",
              "All          820   1048    377  ...           542           6678  30162\n",
              "\n",
              "[3 rows x 17 columns]"
            ]
          },
          "metadata": {
            "tags": []
          },
          "execution_count": 71
        }
      ]
    },
    {
      "cell_type": "code",
      "metadata": {
        "id": "aj3JSK307QD3",
        "colab_type": "code",
        "outputId": "76cc1580-a786-4ac2-ae42-d97e06d4314d",
        "colab": {
          "base_uri": "https://localhost:8080/",
          "height": 70
        }
      },
      "source": [
        "# Getting Totals of Columns & Rows\n",
        "row_sums = x_table.iloc[0:2, 16].values\n",
        "col_sums = x_table.iloc[2, 0:16].values\n",
        "print(row_sums)\n",
        "col_sums"
      ],
      "execution_count": 0,
      "outputs": [
        {
          "output_type": "stream",
          "text": [
            "[ 9782 20380]\n"
          ],
          "name": "stdout"
        },
        {
          "output_type": "execute_result",
          "data": {
            "text/plain": [
              "array([ 820, 1048,  377,  151,  288,  557,  455, 1008, 1307, 5044,  375,\n",
              "       9840, 1627,   45,  542, 6678])"
            ]
          },
          "metadata": {
            "tags": []
          },
          "execution_count": 72
        }
      ]
    },
    {
      "cell_type": "code",
      "metadata": {
        "id": "vt0ytkg_7uEb",
        "colab_type": "code",
        "outputId": "57de6510-0405-4d30-b79e-586c4ea1267f",
        "colab": {
          "base_uri": "https://localhost:8080/",
          "height": 35
        }
      },
      "source": [
        "# Getting full total of values\n",
        "total = x_table.loc['All', 'All']\n",
        "total"
      ],
      "execution_count": 0,
      "outputs": [
        {
          "output_type": "execute_result",
          "data": {
            "text/plain": [
              "30162"
            ]
          },
          "metadata": {
            "tags": []
          },
          "execution_count": 73
        }
      ]
    },
    {
      "cell_type": "code",
      "metadata": {
        "id": "Zi4ILHgw7uWr",
        "colab_type": "code",
        "colab": {}
      },
      "source": [
        "# Getting Expected Values from Dataframe\n",
        "expected = []\n",
        "for i in range(len(row_sums)):\n",
        "  expected_row=[]\n",
        "  for column in col_sums:\n",
        "    expected_val = column*row_sums[i]/total\n",
        "    expected_row.append(expected_val)\n",
        "  expected.append(expected_row)\n",
        "\n",
        "expected = np.array(expected)"
      ],
      "execution_count": 0,
      "outputs": []
    },
    {
      "cell_type": "code",
      "metadata": {
        "id": "4Kpr4NV78YPR",
        "colab_type": "code",
        "outputId": "f2c81d9c-61c1-4c87-b33e-a3f955592968",
        "colab": {
          "base_uri": "https://localhost:8080/",
          "height": 281
        }
      },
      "source": [
        "# Printing Expected Values\n",
        "print(expected[0])\n",
        "print(expected[1])\n",
        "print(x_table)"
      ],
      "execution_count": 0,
      "outputs": [
        {
          "output_type": "stream",
          "text": [
            "[ 265.93859824  339.88250116  122.26689212   48.97161992   93.40282475\n",
            "  180.64365758  147.56349048  326.90988661  423.88018036 1635.84669452\n",
            "  121.61826139 3191.26317883  527.66109674   14.59419137  175.77892713\n",
            " 2165.77799881]\n",
            "[ 554.06140176  708.11749884  254.73310788  102.02838008  194.59717525\n",
            "  376.35634242  307.43650952  681.09011339  883.11981964 3408.15330548\n",
            "  253.38173861 6648.73682117 1099.33890326   30.40580863  366.22107287\n",
            " 4512.22200119]\n",
            "education   10th   11th   12th  ...   Prof-school   Some-college    All\n",
            "sex                             ...                                    \n",
            " Female      250    371    122  ...            87           2507   9782\n",
            " Male        570    677    255  ...           455           4171  20380\n",
            "All          820   1048    377  ...           542           6678  30162\n",
            "\n",
            "[3 rows x 17 columns]\n"
          ],
          "name": "stdout"
        }
      ]
    },
    {
      "cell_type": "code",
      "metadata": {
        "id": "aE3FlPvA8uum",
        "colab_type": "code",
        "outputId": "bfa57966-24be-4ae9-ce36-05b148b64ce4",
        "colab": {
          "base_uri": "https://localhost:8080/",
          "height": 87
        }
      },
      "source": [
        "# Calculating Chi-Squared Statistic\n",
        "# Getting observed values\n",
        "observed = pd.crosstab(df_adult['sex'], df_adult['education']).values\n",
        "observed"
      ],
      "execution_count": 0,
      "outputs": [
        {
          "output_type": "execute_result",
          "data": {
            "text/plain": [
              "array([[ 250,  371,  122,   43,   69,  132,  119,  395,  455, 1522,   81,\n",
              "        3106,  509,   14,   87, 2507],\n",
              "       [ 570,  677,  255,  108,  219,  425,  336,  613,  852, 3522,  294,\n",
              "        6734, 1118,   31,  455, 4171]])"
            ]
          },
          "metadata": {
            "tags": []
          },
          "execution_count": 80
        }
      ]
    },
    {
      "cell_type": "code",
      "metadata": {
        "id": "monKtWW-9DfE",
        "colab_type": "code",
        "outputId": "6614c5c5-eca9-40d1-b9ab-56f8715fab51",
        "colab": {
          "base_uri": "https://localhost:8080/",
          "height": 35
        }
      },
      "source": [
        "# Calculating values.\n",
        "chi_squared_stat = ((observed - expected)**2/(expected)).sum()\n",
        "chi_squared_stat"
      ],
      "execution_count": 0,
      "outputs": [
        {
          "output_type": "execute_result",
          "data": {
            "text/plain": [
              "250.19501893764047"
            ]
          },
          "metadata": {
            "tags": []
          },
          "execution_count": 81
        }
      ]
    },
    {
      "cell_type": "code",
      "metadata": {
        "id": "L-U5OX329yha",
        "colab_type": "code",
        "outputId": "29117f1f-99cc-4f66-e15d-dba0f45cc820",
        "colab": {
          "base_uri": "https://localhost:8080/",
          "height": 35
        }
      },
      "source": [
        "# Degrees of Freedom of the Chi-squared test\n",
        "dof = (len(row_sums)-1)*(len(col_sums)-1)\n",
        "dof"
      ],
      "execution_count": 0,
      "outputs": [
        {
          "output_type": "execute_result",
          "data": {
            "text/plain": [
              "15"
            ]
          },
          "metadata": {
            "tags": []
          },
          "execution_count": 82
        }
      ]
    },
    {
      "cell_type": "markdown",
      "metadata": {
        "id": "KDxFLHQZ9KCD",
        "colab_type": "text"
      },
      "source": [
        "### Calculating directly with SciPy"
      ]
    },
    {
      "cell_type": "code",
      "metadata": {
        "id": "c6a8VjoK97LP",
        "colab_type": "code",
        "outputId": "113258e9-cd68-407c-a3f0-12d214fe7eb3",
        "colab": {
          "base_uri": "https://localhost:8080/",
          "height": 211
        }
      },
      "source": [
        "# Using scipy function\n",
        "\n",
        "stats.chi2_contingency(observed)"
      ],
      "execution_count": 0,
      "outputs": [
        {
          "output_type": "execute_result",
          "data": {
            "text/plain": [
              "(250.19501893764047,\n",
              " 1.1318825195405123e-44,\n",
              " 15,\n",
              " array([[ 265.93859824,  339.88250116,  122.26689212,   48.97161992,\n",
              "           93.40282475,  180.64365758,  147.56349048,  326.90988661,\n",
              "          423.88018036, 1635.84669452,  121.61826139, 3191.26317883,\n",
              "          527.66109674,   14.59419137,  175.77892713, 2165.77799881],\n",
              "        [ 554.06140176,  708.11749884,  254.73310788,  102.02838008,\n",
              "          194.59717525,  376.35634242,  307.43650952,  681.09011339,\n",
              "          883.11981964, 3408.15330548,  253.38173861, 6648.73682117,\n",
              "         1099.33890326,   30.40580863,  366.22107287, 4512.22200119]]))"
            ]
          },
          "metadata": {
            "tags": []
          },
          "execution_count": 83
        }
      ]
    },
    {
      "cell_type": "markdown",
      "metadata": {
        "id": "jbpLx39t-LLz",
        "colab_type": "text"
      },
      "source": [
        "* The Null Hypothesis (H0) :  Education level among males == Education level among females.\n",
        "* Alternative Hypotheses (H1) : Education level among males =/= Education level among females.\n",
        "* Due to a P-value greater than 0.1, we are compelled to reject the null hypothesis which indicates a statistically significant difference in education levels among males and females. "
      ]
    },
    {
      "cell_type": "markdown",
      "metadata": {
        "id": "4ohsJhQUmEuS",
        "colab_type": "text"
      },
      "source": [
        "## Stretch goals:\n",
        "\n",
        "1. Write a summary of your findings, mixing prose and math/code/results. *Note* - yes, this is by definition a political topic. It is challenging but important to keep your writing voice *neutral* and stick to the facts of the data. Data science often involves considering controversial issues, so it's important to be sensitive about them (especially if you want to publish).\n",
        "2. Apply the techniques you learned today to your project data or other data of your choice, and write/discuss your findings here.\n",
        "3. Refactor your code so it is elegant, readable, and can be easily run for all issues."
      ]
    },
    {
      "cell_type": "markdown",
      "metadata": {
        "id": "nyJ3ySr7R2k9",
        "colab_type": "text"
      },
      "source": [
        "## Resources\n",
        "\n",
        "- [Interactive visualize the Chi-Squared test](https://homepage.divms.uiowa.edu/~mbognar/applets/chisq.html)\n",
        "- [Calculation of Chi-Squared test statistic](https://en.wikipedia.org/wiki/Pearson%27s_chi-squared_test)\n",
        "- [Visualization of a confidence interval generated by R code](https://commons.wikimedia.org/wiki/File:Confidence-interval.svg)\n",
        "- [Expected value of a squared standard normal](https://math.stackexchange.com/questions/264061/expected-value-calculation-for-squared-normal-distribution) (it's 1 - which is why the expected value of a Chi-Squared with $n$ degrees of freedom is $n$, as it's the sum of $n$ squared standard normals)"
      ]
    }
  ]
}