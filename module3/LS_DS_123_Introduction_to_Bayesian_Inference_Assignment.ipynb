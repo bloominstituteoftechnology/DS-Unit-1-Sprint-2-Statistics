{
  "nbformat": 4,
  "nbformat_minor": 0,
  "metadata": {
    "colab": {
      "name": "LS_DS_123_Introduction_to_Bayesian_Inference_Assignment.ipynb",
      "provenance": [],
      "include_colab_link": true
    },
    "kernelspec": {
      "name": "python3",
      "display_name": "Python 3"
    }
  },
  "cells": [
    {
      "cell_type": "markdown",
      "metadata": {
        "id": "view-in-github",
        "colab_type": "text"
      },
      "source": [
        "<a href=\"https://colab.research.google.com/github/danielbrioli/DS-Unit-1-Sprint-2-Statistics/blob/master/module3/LS_DS_123_Introduction_to_Bayesian_Inference_Assignment.ipynb\" target=\"_parent\"><img src=\"https://colab.research.google.com/assets/colab-badge.svg\" alt=\"Open In Colab\"/></a>"
      ]
    },
    {
      "cell_type": "markdown",
      "metadata": {
        "id": "H7OLbevlbd_Z",
        "colab_type": "text"
      },
      "source": [
        "# Lambda School Data Science Module 123\n",
        "\n",
        "## Introduction to Bayesian Inference\n",
        "\n",
        "\n"
      ]
    },
    {
      "cell_type": "markdown",
      "metadata": {
        "id": "P-DzzRk5bf0z",
        "colab_type": "text"
      },
      "source": [
        "## Assignment - Code it up!\n",
        "\n",
        "We used pure math to apply Bayes Theorem to drug tests. Now write Python code to reproduce the results! This is purposefully open ended - you'll have to think about how you should represent probabilities and events. You can and should look things up.\n",
        "\n",
        "Specific goals/targets:\n",
        "\n",
        "### 1) Write a function \n",
        "\n",
        "`def prob_drunk_given_positive(prob_drunk_prior, false_positive_rate):` \n",
        "\n",
        "You should only truly need these two values in order to apply Bayes Theorem. In this example, imagine that individuals are taking a breathalyzer test with an 8% false positive rate, a 100% true positive rate, and that our prior belief about drunk driving in the population is 1/1000. \n",
        " - What is the probability that a person is drunk after one positive breathalyzer test?\n",
        " - What is the probability that a person is drunk after two positive breathalyzer tests?\n",
        " - How many positive breathalyzer tests are needed in order to have a probability that's greater than 95% that a person is drunk beyond the legal limit?\n",
        "\n",
        "### 2) Explore `scipy.stats.bayes_mvs`  \n",
        "Read its documentation, and experiment with it on data you've tested in other ways earlier this week.\n",
        " - Create a visualization comparing the results of a Bayesian approach to a traditional/frequentist approach. (with a large sample size they should look close to identical, however, take this opportunity to practice visualizing condfidence intervals in general. The following are some potential ways that you could visualize confidence intervals on your graph:\n",
        "  - [Matplotlib Error Bars](https://matplotlib.org/3.1.1/api/_as_gen/matplotlib.pyplot.errorbar.html)\n",
        "  - [Seaborn barplot with error bars](https://seaborn.pydata.org/generated/seaborn.barplot.html)\n",
        "  - [Vertical ines to show bounds of confidence interval](https://www.simplypsychology.org/confidence-interval.jpg)\n",
        "  - [Confidence Intervals on Box Plots](https://matplotlib.org/3.1.1/api/_as_gen/matplotlib.axes.Axes.boxplot.html)\n",
        "\n",
        "### 3) In your own words, summarize the difference between Bayesian and Frequentist statistics\n",
        "\n",
        "If you're unsure where to start, check out [this blog post of Bayes theorem with Python](https://dataconomy.com/2015/02/introduction-to-bayes-theorem-with-python/).\n",
        "\n"
      ]
    },
    {
      "cell_type": "code",
      "metadata": {
        "id": "xpVhZyUnbf7o",
        "colab_type": "code",
        "colab": {
          "base_uri": "https://localhost:8080/",
          "height": 85
        },
        "outputId": "d581b68e-eed8-4f55-df38-c55de9d711cc"
      },
      "source": [
        "# 1) Write a Bayesian probability function\n",
        "\n",
        "true_pos = 1      # True pos rate\n",
        "prior = 1/1000    # Prior\n",
        "false_pos = .08   # False pos rate\n",
        "\n",
        "def handmade_bayes(_prior, _false_pos = 0, _true_pos = 1):\n",
        "  return (_true_pos*_prior) / ((_true_pos*_prior) + (_false_pos*(1 - _prior)))\n",
        "\n",
        "first = handmade_bayes(prior, false_pos, true_pos)\n",
        "second = handmade_bayes(first, false_pos, true_pos)\n",
        "third = handmade_bayes(second, false_pos, true_pos)\n",
        "fourth = handmade_bayes(third, false_pos, true_pos)\n",
        "\n",
        "print(first)\n",
        "print(second)\n",
        "print(third)\n",
        "print(fourth)\n",
        "\n",
        "# After the first test the probability that the driver is drunk is ~1.2%\n",
        "# After the second test the probability that the driver is drunk is ~13.5%\n",
        "# Four tests are needed to be 95% certain or greater"
      ],
      "execution_count": 11,
      "outputs": [
        {
          "output_type": "stream",
          "text": [
            "0.012357884330202669\n",
            "0.13525210993291495\n",
            "0.6615996951348605\n",
            "0.9606895076105054\n"
          ],
          "name": "stdout"
        }
      ]
    },
    {
      "cell_type": "code",
      "metadata": {
        "id": "RHmdYK2hThay",
        "colab_type": "code",
        "colab": {
          "base_uri": "https://localhost:8080/",
          "height": 647
        },
        "outputId": "c9b31e77-247e-4d83-bde9-5f3bb7dc5f6d"
      },
      "source": [
        "# 2) Explore scipy.stats.bayes_mvs\n",
        "\n",
        "import scipy.stats as stats\n",
        "import numpy as np\n",
        "import pandas as pd\n",
        "import matplotlib.pyplot as plt\n",
        "\n",
        "data = pd.read_csv(\"https://raw.githubusercontent.com/ryanleeallred/datasets/master/Ames%20Housing%20Data/train.csv\")\n",
        "data = data['LotFrontage']\n",
        "data.dropna(inplace=True)\n",
        "\n",
        "# Frequentist approach\n",
        "def f_confidence_interval(num_set, conf=0.95):\n",
        "  num_set = np.array(num_set)\n",
        "  mean = np.mean(num_set)\n",
        "  num_len = len(num_set)\n",
        "  stderr = np.std(num_set, ddof=1) / np.sqrt(num_len)\n",
        "  t_stat = stats.t.ppf((1 + conf) / 2.0, num_len - 1)\n",
        "  margin_of_error = t_stat * stderr\n",
        "  return mean - margin_of_error, mean, mean + margin_of_error\n",
        "\n",
        "fci = f_confidence_interval(data)\n",
        "\n",
        "print(\"  F_LB: \" + str(fci[0]))\n",
        "print(\"F_MEAN: \" + str(fci[1]))\n",
        "print(\"  F_UB: \" + str(fci[2]))\n",
        "\n",
        "bci_mean, bci_var, bci_std = stats.bayes_mvs(data, alpha=0.95)\n",
        "bci_lb = bci_mean.minmax[0]\n",
        "bci_ub = bci_mean.minmax[1]\n",
        "\n",
        "print(\"  B_LB: \" + str(bci_lb))\n",
        "print(\"B_MEAN: \" + str(bci_mean.statistic))\n",
        "print(\"  B_UB: \" + str(bci_ub))\n",
        "\n",
        "data.plot.density()\n",
        "plt.title(\"Confidence Interval (Frequentist)\")\n",
        "plt.axvline(x=fci[0], color='red')\n",
        "plt.axvline(x=fci[1], color='green')\n",
        "plt.axvline(x=fci[2], color='red');\n",
        "plt.show()\n",
        "\n",
        "data.plot.density()\n",
        "plt.title(\"Confidence Interval (Bayesian)\")\n",
        "plt.axvline(x=bci_lb, color='red')\n",
        "plt.axvline(x=bci_mean.statistic, color='green')\n",
        "plt.axvline(x=bci_ub, color='red');\n",
        "plt.show()"
      ],
      "execution_count": 60,
      "outputs": [
        {
          "output_type": "stream",
          "text": [
            "  F_LB: 68.67512990398207\n",
            "F_MEAN: 70.04995836802665\n",
            "  F_UB: 71.42478683207123\n",
            "  B_LB: 68.67708849307647\n",
            "B_MEAN: 70.04995836802665\n",
            "  B_UB: 71.42282824297683\n"
          ],
          "name": "stdout"
        },
        {
          "output_type": "display_data",
          "data": {
            "image/png": "[encoded data removed]",
            "text/plain": [
              "<Figure size 432x288 with 1 Axes>"
            ]
          },
          "metadata": {
            "tags": []
          }
        },
        {
          "output_type": "display_data",
          "data": {
            "image/png": "[encoded data removed]",
            "text/plain": [
              "<Figure size 432x288 with 1 Axes>"
            ]
          },
          "metadata": {
            "tags": []
          }
        }
      ]
    },
    {
      "cell_type": "code",
      "metadata": {
        "id": "dxsnTGT6TlEf",
        "colab_type": "code",
        "colab": {}
      },
      "source": [
        "# 3) Summarize the difference between Bayesian and Frequentist statistics\n",
        "\n",
        "# In general, frequentist statistics often (or completely) ignores prior \n",
        "# assumptions when determining the results of statistical tests. You can\n",
        "# view it as \"philosophically pure\" statistics: ignoring prior assumptions,\n",
        "# you can really only know that the stuff you are measuring is how the state\n",
        "# of the world actually is.\n",
        "#\n",
        "# Bayesian statistics is considered to be how human behavior works, or at least\n",
        "# approximately. You can take a prior assumption about the state of the world\n",
        "# and update it based on your sampling within it. Given the prior and also\n",
        "# given your new sample(s), you can progressively get closer and closer to a \n",
        "# more accurate model of what is understood to be the world/global/population\n",
        "# state."
      ],
      "execution_count": 0,
      "outputs": []
    },
    {
      "cell_type": "markdown",
      "metadata": {
        "id": "uWgWjp3PQ3Sq",
        "colab_type": "text"
      },
      "source": [
        "## Resources"
      ]
    },
    {
      "cell_type": "markdown",
      "metadata": {
        "id": "QRgHqmYIQ9qn",
        "colab_type": "text"
      },
      "source": [
        "- [Worked example of Bayes rule calculation](https://en.wikipedia.org/wiki/Bayes'_theorem#Examples) (helpful as it fully breaks out the denominator)\n",
        "- [Source code for mvsdist in scipy](https://github.com/scipy/scipy/blob/90534919e139d2a81c24bf08341734ff41a3db12/scipy/stats/morestats.py#L139)"
      ]
    },
    {
      "cell_type": "markdown",
      "metadata": {
        "id": "GP7Jv1XvwtkX",
        "colab_type": "text"
      },
      "source": [
        "## Stretch Goals:\n",
        "\n",
        "- Go back and study the content from Modules 1 & 2 to make sure that you're really comfortable with them.\n",
        "- Apply a Bayesian technique to a problem you previously worked (in an assignment or project work) on from a frequentist (standard) perspective\n",
        "- Check out [PyMC3](https://docs.pymc.io/) (note this goes beyond hypothesis tests into modeling) - read the guides and work through some examples\n",
        "- Take PyMC3 further - see if you can build something with it!"
      ]
    },
    {
      "cell_type": "code",
      "metadata": {
        "id": "iDi0eFr1x-v_",
        "colab_type": "code",
        "colab": {}
      },
      "source": [
        ""
      ],
      "execution_count": 0,
      "outputs": []
    }
  ]
}