{
  "nbformat": 4,
  "nbformat_minor": 0,
  "metadata": {
    "colab": {
      "name": "LS_DS_123_Introduction_to_Bayesian_Inference_Assignment.ipynb",
      "provenance": []
    },
    "kernelspec": {
      "name": "python3",
      "display_name": "Python 3"
    }
  },
  "cells": [
    {
      "cell_type": "markdown",
      "metadata": {
        "id": "H7OLbevlbd_Z",
        "colab_type": "text"
      },
      "source": [
        "# Lambda School Data Science Module 123\n",
        "\n",
        "## Introduction to Bayesian Inference\n",
        "\n",
        "\n"
      ]
    },
    {
      "cell_type": "markdown",
      "metadata": {
        "id": "P-DzzRk5bf0z",
        "colab_type": "text"
      },
      "source": [
        "## Assignment - Code it up!\n",
        "\n",
        "We used pure math to apply Bayes Theorem to drug tests. Now write Python code to reproduce the results! This is purposefully open ended - you'll have to think about how you should represent probabilities and events. You can and should look things up.\n",
        "\n",
        "Specific goals/targets:\n",
        "\n",
        "### 1) Write a function \n",
        "\n",
        "`def prob_drunk_given_positive(prob_drunk_prior, false_positive_rate, true_positive_rate):` \n",
        "\n",
        "You should only truly need these two values in order to apply Bayes Theorem. In this example, imagine that individuals are taking a breathalyzer test with an 8% false positive rate, a 100% true positive rate, and that our prior belief about drunk driving in the population is 1/1000. \n",
        " - What is the probability that a person is drunk after one positive breathalyzer test?\n",
        " - What is the probability that a person is drunk after two positive breathalyzer tests?\n",
        " - How many positive breathalyzer tests are needed in order to have a probability that's greater than 95% that a person is drunk beyond the legal limit?\n",
        "\n",
        "### 2) Explore `scipy.stats.bayes_mvs`  \n",
        "Read its documentation, and experiment with it on data you've tested in other ways earlier this week.\n",
        " - Create a visualization comparing the results of a Bayesian approach to a traditional/frequentist approach. (with a large sample size they should look close to identical, however, take this opportunity to practice visualizing condfidence intervals in general. The following are some potential ways that you could visualize confidence intervals on your graph:\n",
        "  - [Matplotlib Error Bars](https://matplotlib.org/3.1.1/api/_as_gen/matplotlib.pyplot.errorbar.html)\n",
        "  - [Seaborn barplot with error bars](https://seaborn.pydata.org/generated/seaborn.barplot.html)\n",
        "  - [Vertical ines to show bounds of confidence interval](https://www.simplypsychology.org/confidence-interval.jpg)\n",
        "  - [Confidence Intervals on Box Plots](https://matplotlib.org/3.1.1/api/_as_gen/matplotlib.axes.Axes.boxplot.html)\n",
        "\n",
        "### 3) In your own words, summarize the difference between Bayesian and Frequentist statistics\n",
        "\n",
        "If you're unsure where to start, check out [this blog post of Bayes theorem with Python](https://dataconomy.com/2015/02/introduction-to-bayes-theorem-with-python/).\n",
        "\n"
      ]
    },
    {
      "cell_type": "markdown",
      "metadata": {
        "id": "jIjNNvyIfJwc",
        "colab_type": "text"
      },
      "source": [
        "# **Write a Function**"
      ]
    },
    {
      "cell_type": "code",
      "metadata": {
        "id": "xpVhZyUnbf7o",
        "colab_type": "code",
        "colab": {}
      },
      "source": [
        "# TODO - code!\n",
        "def prob_drunk_given_positive(prob_drunk_prior, false_positive_rate, true_positive_rate):\n",
        "    return (true_positive_rate * prob_drunk_prior) / ((prob_drunk_prior * true_positive_rate) + ((1-prob_drunk_prior) * false_positive_rate))"
      ],
      "execution_count": 0,
      "outputs": []
    },
    {
      "cell_type": "code",
      "metadata": {
        "id": "U1ynhZqIUAJ6",
        "colab_type": "code",
        "colab": {
          "base_uri": "https://localhost:8080/",
          "height": 34
        },
        "outputId": "78ab1b60-982b-48c0-c501-a70cbf2f0c40"
      },
      "source": [
        "#the probability that a person is drunk after a single positive drug test is 1.236%\n",
        "prob_drunk_given_positive(1/1000, .08, 1)"
      ],
      "execution_count": 2,
      "outputs": [
        {
          "output_type": "execute_result",
          "data": {
            "text/plain": [
              "0.012357884330202669"
            ]
          },
          "metadata": {
            "tags": []
          },
          "execution_count": 2
        }
      ]
    },
    {
      "cell_type": "code",
      "metadata": {
        "id": "OE6mAyCGVIg2",
        "colab_type": "code",
        "colab": {}
      },
      "source": [
        "#making a function that can repeat the test\n",
        "def prob_drunk_given_positive_with_repeat_testing(prob_drunk_prior, false_positive_rate, true_positive_rate, number_of_tests):\n",
        "    prior_thoughts = prob_drunk_prior\n",
        "    for x in range(0,number_of_tests):\n",
        "        prior_thoughts = prob_drunk_given_positive(prior_thoughts, false_positive_rate, true_positive_rate)\n",
        "    return prior_thoughts"
      ],
      "execution_count": 0,
      "outputs": []
    },
    {
      "cell_type": "code",
      "metadata": {
        "id": "ZZBWLx1zVIVY",
        "colab_type": "code",
        "colab": {
          "base_uri": "https://localhost:8080/",
          "height": 34
        },
        "outputId": "65e7c8dd-5b4b-4e7e-d141-8f7fdab84e2b"
      },
      "source": [
        "#the probability that a person is drunk after two positive drug tests is 13.525%\n",
        "prob_drunk_given_positive_with_repeat_testing(1/1000, .08, 1, 2)"
      ],
      "execution_count": 17,
      "outputs": [
        {
          "output_type": "execute_result",
          "data": {
            "text/plain": [
              "0.13525210993291495"
            ]
          },
          "metadata": {
            "tags": []
          },
          "execution_count": 17
        }
      ]
    },
    {
      "cell_type": "code",
      "metadata": {
        "id": "sCs3gEhKXsyF",
        "colab_type": "code",
        "colab": {}
      },
      "source": [
        "#writing a function that will tell us how many tests are needed to achieve a desired level of confidence\n",
        "def number_of_positive_tests_needed(prob_drunk_prior, false_positive_rate, true_positive_rate, level_of_confidence):\n",
        "    prior_thoughts = prob_drunk_prior\n",
        "    number_of_tests = 0\n",
        "    while prior_thoughts < level_of_confidence or number_of_tests == 0:\n",
        "        prior_thoughts = prob_drunk_given_positive(prior_thoughts, false_positive_rate, true_positive_rate)\n",
        "        number_of_tests += 1\n",
        "    return number_of_tests\n"
      ],
      "execution_count": 0,
      "outputs": []
    },
    {
      "cell_type": "code",
      "metadata": {
        "id": "4KF48BEUYnRL",
        "colab_type": "code",
        "colab": {
          "base_uri": "https://localhost:8080/",
          "height": 51
        },
        "outputId": "22ccaffb-6e21-4bb8-ff64-9f37a1d9e4ac"
      },
      "source": [
        "#the number of tests needed is 4 to have a probability greater than 95%\n",
        "print(number_of_positive_tests_needed(1/1000, .08, 1, .95))\n",
        "print(prob_drunk_given_positive_with_repeat_testing(1/1000, .08, 1, 4))"
      ],
      "execution_count": 66,
      "outputs": [
        {
          "output_type": "stream",
          "text": [
            "4\n",
            "0.9606895076105054\n"
          ],
          "name": "stdout"
        }
      ]
    },
    {
      "cell_type": "markdown",
      "metadata": {
        "id": "-SaUkRjhfSln",
        "colab_type": "text"
      },
      "source": [
        "# **In your own words, summarize the difference between Bayesian and Frequentist statistics**"
      ]
    },
    {
      "cell_type": "markdown",
      "metadata": {
        "id": "-S3HlPEAf0dE",
        "colab_type": "text"
      },
      "source": [
        "to put it simply, Bayesian statistics takes into account prior thoughts on what the probability would be and update their thoughts based on their findings and frequentists do not.\n",
        "\n",
        "consider the farmer/librarian example from class, if 90% of librarians are shy and 10% of farmers are shy then a frequentist would just assume that a shy person is more likely to be a librarian.\n",
        "\n",
        "a bayesian would take into account the prior belief on the percentage of farmers and librarians irrespective of their traits and in this example even if 90% of librarians are shy a shy person is more likely to be a farmer if the total amount of farmers outnumbers the total amount of librarians by a significant amount"
      ]
    },
    {
      "cell_type": "markdown",
      "metadata": {
        "id": "uWgWjp3PQ3Sq",
        "colab_type": "text"
      },
      "source": [
        "## Resources"
      ]
    },
    {
      "cell_type": "markdown",
      "metadata": {
        "id": "QRgHqmYIQ9qn",
        "colab_type": "text"
      },
      "source": [
        "- [Worked example of Bayes rule calculation](https://en.wikipedia.org/wiki/Bayes'_theorem#Examples) (helpful as it fully breaks out the denominator)\n",
        "- [Source code for mvsdist in scipy](https://github.com/scipy/scipy/blob/90534919e139d2a81c24bf08341734ff41a3db12/scipy/stats/morestats.py#L139)"
      ]
    },
    {
      "cell_type": "markdown",
      "metadata": {
        "id": "GP7Jv1XvwtkX",
        "colab_type": "text"
      },
      "source": [
        "## Stretch Goals:\n",
        "\n",
        "- Go back and study the content from Modules 1 & 2 to make sure that you're really comfortable with them.\n",
        "- Apply a Bayesian technique to a problem you previously worked (in an assignment or project work) on from a frequentist (standard) perspective\n",
        "- Check out [PyMC3](https://docs.pymc.io/) (note this goes beyond hypothesis tests into modeling) - read the guides and work through some examples\n",
        "- Take PyMC3 further - see if you can build something with it!"
      ]
    },
    {
      "cell_type": "code",
      "metadata": {
        "id": "iDi0eFr1x-v_",
        "colab_type": "code",
        "colab": {}
      },
      "source": [
        ""
      ],
      "execution_count": 0,
      "outputs": []
    },
    {
      "cell_type": "markdown",
      "metadata": {
        "id": "8C1BX3jcfRgp",
        "colab_type": "text"
      },
      "source": [
        ""
      ]
    }
  ]
}