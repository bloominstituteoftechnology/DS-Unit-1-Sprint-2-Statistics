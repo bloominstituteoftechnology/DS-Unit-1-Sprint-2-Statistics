{
  "nbformat": 4,
  "nbformat_minor": 0,
  "metadata": {
    "colab": {
      "name": "jcs-LS_DS_123_Introduction_to_Bayesian_Inference_Assignment.ipynb",
      "provenance": [],
      "collapsed_sections": [
        "0npUnBzmUQ1h"
      ],
      "include_colab_link": true
    },
    "kernelspec": {
      "name": "python3",
      "display_name": "Python 3"
    }
  },
  "cells": [
    {
      "cell_type": "markdown",
      "metadata": {
        "id": "view-in-github",
        "colab_type": "text"
      },
      "source": [
        "<a href=\"https://colab.research.google.com/github/jcs-lambda/DS-Unit-1-Sprint-2-Statistics/blob/master/module3/LS_DS_123_Introduction_to_Bayesian_Inference_Assignment.ipynb\" target=\"_parent\"><img src=\"https://colab.research.google.com/assets/colab-badge.svg\" alt=\"Open In Colab\"/></a>"
      ]
    },
    {
      "cell_type": "markdown",
      "metadata": {
        "id": "H7OLbevlbd_Z",
        "colab_type": "text"
      },
      "source": [
        "# Lambda School Data Science Module 123\n",
        "\n",
        "## Introduction to Bayesian Inference\n",
        "\n",
        "\n"
      ]
    },
    {
      "cell_type": "markdown",
      "metadata": {
        "id": "P-DzzRk5bf0z",
        "colab_type": "text"
      },
      "source": [
        "## Assignment - Code it up!\n",
        "\n",
        "We used pure math to apply Bayes Theorem to drug tests. Now write Python code to reproduce the results! This is purposefully open ended - you'll have to think about how you should represent probabilities and events. You can and should look things up.\n",
        "\n",
        "Specific goals/targets:\n",
        "\n",
        "### 1) Write a function \n",
        "\n",
        "`def prob_drunk_given_positive(prob_drunk_prior, false_positive_rate, true_positive_rate):` \n",
        "\n",
        "You should only truly need these two values in order to apply Bayes Theorem. In this example, imagine that individuals are taking a breathalyzer test with an 8% false positive rate, a 100% true positive rate, and that our prior belief about drunk driving in the population is 1/1000. \n",
        " - What is the probability that a person is drunk after one positive breathalyzer test?\n",
        " - What is the probability that a person is drunk after two positive breathalyzer tests?\n",
        " - How many positive breathalyzer tests are needed in order to have a probability that's greater than 95% that a person is drunk beyond the legal limit?\n",
        "\n",
        "### 2) Explore `scipy.stats.bayes_mvs`  \n",
        "Read its documentation, and experiment with it on data you've tested in other ways earlier this week.\n",
        " - Create a visualization comparing the results of a Bayesian approach to a traditional/frequentist approach. (with a large sample size they should look close to identical, however, take this opportunity to practice visualizing condfidence intervals in general. The following are some potential ways that you could visualize confidence intervals on your graph:\n",
        "  - [Matplotlib Error Bars](https://matplotlib.org/3.1.1/api/_as_gen/matplotlib.pyplot.errorbar.html)\n",
        "  - [Seaborn barplot with error bars](https://seaborn.pydata.org/generated/seaborn.barplot.html)\n",
        "  - [Vertical ines to show bounds of confidence interval](https://www.simplypsychology.org/confidence-interval.jpg)\n",
        "  - [Confidence Intervals on Box Plots](https://matplotlib.org/3.1.1/api/_as_gen/matplotlib.axes.Axes.boxplot.html)\n",
        "\n",
        "### 3) In your own words, summarize the difference between Bayesian and Frequentist statistics\n",
        "\n",
        "If you're unsure where to start, check out [this blog post of Bayes theorem with Python](https://dataconomy.com/2015/02/introduction-to-bayes-theorem-with-python/).\n",
        "\n"
      ]
    },
    {
      "cell_type": "markdown",
      "metadata": {
        "id": "5FEUDYNUUOIW",
        "colab_type": "text"
      },
      "source": [
        "### 1. Write a function"
      ]
    },
    {
      "cell_type": "code",
      "metadata": {
        "id": "xpVhZyUnbf7o",
        "colab_type": "code",
        "colab": {},
        "cellView": "both"
      },
      "source": [
        "def prob_drunk_given_positive(prob_drunk_prior, false_positive_rate, true_positive_rate):\n",
        "  complement_of_prior = 1 - prob_drunk_prior\n",
        "  post_probability = prob_drunk_prior * true_positive_rate / ((prob_drunk_prior * true_positive_rate)+(complement_of_prior * false_positive_rate))\n",
        "  return post_probability"
      ],
      "execution_count": 0,
      "outputs": []
    },
    {
      "cell_type": "code",
      "metadata": {
        "id": "tWQaFT7ZaBwr",
        "colab_type": "code",
        "colab": {
          "base_uri": "https://localhost:8080/",
          "height": 32
        },
        "cellView": "both",
        "outputId": "e49b123a-db63-493a-e435-d62ef010e697"
      },
      "source": [
        "#@title probability that a person is drunk after one test\n",
        "prior_belief = 1 / 1000\n",
        "false_rate = 0.08\n",
        "true_rate = 1.0\n",
        "\n",
        "prob_drunk_given_positive(prior_belief, false_rate, true_rate)"
      ],
      "execution_count": 11,
      "outputs": [
        {
          "output_type": "execute_result",
          "data": {
            "text/plain": [
              "0.012357884330202669"
            ]
          },
          "metadata": {
            "tags": []
          },
          "execution_count": 11
        }
      ]
    },
    {
      "cell_type": "code",
      "metadata": {
        "id": "fo7nXDMLaZCX",
        "colab_type": "code",
        "colab": {
          "base_uri": "https://localhost:8080/",
          "height": 32
        },
        "cellView": "both",
        "outputId": "5a17f348-1f73-4be1-f4c2-d9a67eca0daa"
      },
      "source": [
        "#@title probability that person is drunk after 2 tests\n",
        "new_belief = prob_drunk_given_positive(prior_belief, false_rate, true_rate)\n",
        "newer_belief = prob_drunk_given_positive(new_belief, false_rate, true_rate)\n",
        "newer_belief"
      ],
      "execution_count": 12,
      "outputs": [
        {
          "output_type": "execute_result",
          "data": {
            "text/plain": [
              "0.13525210993291495"
            ]
          },
          "metadata": {
            "tags": []
          },
          "execution_count": 12
        }
      ]
    },
    {
      "cell_type": "code",
      "metadata": {
        "id": "TzfkvzBMbM4D",
        "colab_type": "code",
        "colab": {
          "base_uri": "https://localhost:8080/",
          "height": 32
        },
        "outputId": "87848c3d-3ef8-455f-99c9-64b0d938ee20"
      },
      "source": [
        "#@title how many tests needed to have a probability > 95%\n",
        "test_count = 0\n",
        "while prior_belief < 0.95:\n",
        "  post_belief = prob_drunk_given_positive(prior_belief, false_rate, true_rate)\n",
        "  prior_belief = post_belief\n",
        "  test_count += 1\n",
        "\n",
        "print(f'needed {test_count} tests to reach a probability of {prior_belief*100:.2f}%')"
      ],
      "execution_count": 13,
      "outputs": [
        {
          "output_type": "stream",
          "text": [
            "needed 4 tests to reach a probability of 96.07%\n"
          ],
          "name": "stdout"
        }
      ]
    },
    {
      "cell_type": "markdown",
      "metadata": {
        "id": "bJ2e8VZKdKdM",
        "colab_type": "text"
      },
      "source": [
        "#### 1.b write a more generic function"
      ]
    },
    {
      "cell_type": "code",
      "metadata": {
        "id": "Fmq1A65QdPnn",
        "colab_type": "code",
        "colab": {}
      },
      "source": [
        "def bayesion_iterator(prior_probability, false_positive_rate, true_positive_rate, desired_confidence_level=0.95):\n",
        "  counter = 0\n",
        "  results = {counter:prior_probability}\n",
        "  while prior_probability < desired_confidence_level:\n",
        "    complement_of_prior_probability = 1 - prior_probability\n",
        "    prior_probability = prior_probability * true_positive_rate / ((prior_probability * true_positive_rate) + (complement_of_prior_probability * false_positive_rate))\n",
        "    counter += 1\n",
        "    results[counter] = prior_probability\n",
        "  return results"
      ],
      "execution_count": 0,
      "outputs": []
    },
    {
      "cell_type": "code",
      "metadata": {
        "id": "qDUVHUGkgy8N",
        "colab_type": "code",
        "colab": {
          "base_uri": "https://localhost:8080/",
          "height": 98
        },
        "outputId": "5c77845f-b6c4-40b2-bc0c-48ede830fbfa"
      },
      "source": [
        "#@title dui test probabilities until greater than 95%, given the above numbers\n",
        "\n",
        "bayesion_iterator(1/1000, 0.08, 1.0)"
      ],
      "execution_count": 15,
      "outputs": [
        {
          "output_type": "execute_result",
          "data": {
            "text/plain": [
              "{0: 0.001,\n",
              " 1: 0.012357884330202669,\n",
              " 2: 0.13525210993291495,\n",
              " 3: 0.6615996951348605,\n",
              " 4: 0.9606895076105054}"
            ]
          },
          "metadata": {
            "tags": []
          },
          "execution_count": 15
        }
      ]
    },
    {
      "cell_type": "markdown",
      "metadata": {
        "id": "0npUnBzmUQ1h",
        "colab_type": "text"
      },
      "source": [
        "### 2. Explore scipy.stats.bayes_mvs"
      ]
    },
    {
      "cell_type": "code",
      "metadata": {
        "id": "RDq8DNrxURds",
        "colab_type": "code",
        "colab": {}
      },
      "source": [
        "from scipy import stats"
      ],
      "execution_count": 0,
      "outputs": []
    },
    {
      "cell_type": "code",
      "metadata": {
        "id": "473hRdzMpXbl",
        "colab_type": "code",
        "colab": {}
      },
      "source": [
        ""
      ],
      "execution_count": 0,
      "outputs": []
    },
    {
      "cell_type": "markdown",
      "metadata": {
        "id": "JEcE2aXQUSFH",
        "colab_type": "text"
      },
      "source": [
        "### 3. Summarize the difference between bayesion and frequentist statistics"
      ]
    },
    {
      "cell_type": "markdown",
      "metadata": {
        "id": "priDsyaEUSkz",
        "colab_type": "text"
      },
      "source": [
        "- frequentist\n",
        " - relies on sample size for accuracy\n",
        " - probability is determined by analyzing a large set of distributions\n",
        "- bayesian\n",
        " - works from a prior probability to calculate a new probability\n",
        " - requires known prior assumptions\n",
        " - revises and then uses those assumptions based on further testing\n"
      ]
    },
    {
      "cell_type": "markdown",
      "metadata": {
        "id": "_e4g5aQopJKW",
        "colab_type": "text"
      },
      "source": [
        "the more i try to read on this, the more confusing it becomes.\n",
        "i think that means i don't understand it. at all.\n"
      ]
    },
    {
      "cell_type": "markdown",
      "metadata": {
        "id": "uWgWjp3PQ3Sq",
        "colab_type": "text"
      },
      "source": [
        "## Resources"
      ]
    },
    {
      "cell_type": "markdown",
      "metadata": {
        "id": "QRgHqmYIQ9qn",
        "colab_type": "text"
      },
      "source": [
        "- [Worked example of Bayes rule calculation](https://en.wikipedia.org/wiki/Bayes'_theorem#Examples) (helpful as it fully breaks out the denominator)\n",
        "- [Source code for mvsdist in scipy](https://github.com/scipy/scipy/blob/90534919e139d2a81c24bf08341734ff41a3db12/scipy/stats/morestats.py#L139)"
      ]
    },
    {
      "cell_type": "markdown",
      "metadata": {
        "id": "GP7Jv1XvwtkX",
        "colab_type": "text"
      },
      "source": [
        "## Stretch Goals:\n",
        "\n",
        "- Go back and study the content from Modules 1 & 2 to make sure that you're really comfortable with them.\n",
        "- Apply a Bayesian technique to a problem you previously worked (in an assignment or project work) on from a frequentist (standard) perspective\n",
        "- Check out [PyMC3](https://docs.pymc.io/) (note this goes beyond hypothesis tests into modeling) - read the guides and work through some examples\n",
        "- Take PyMC3 further - see if you can build something with it!"
      ]
    },
    {
      "cell_type": "code",
      "metadata": {
        "id": "iDi0eFr1x-v_",
        "colab_type": "code",
        "colab": {}
      },
      "source": [
        ""
      ],
      "execution_count": 0,
      "outputs": []
    }
  ]
}