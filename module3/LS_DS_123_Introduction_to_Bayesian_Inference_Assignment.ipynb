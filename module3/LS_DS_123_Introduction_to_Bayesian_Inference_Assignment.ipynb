{
  "nbformat": 4,
  "nbformat_minor": 0,
  "metadata": {
    "colab": {
      "name": "Copy of LS_DS_123_Introduction_to_Bayesian_Inference_Assignment.ipynb",
      "provenance": [],
      "collapsed_sections": [
        "RkA1qd_Qcx6j"
      ],
      "include_colab_link": true
    },
    "kernelspec": {
      "name": "python3",
      "display_name": "Python 3"
    }
  },
  "cells": [
    {
      "cell_type": "markdown",
      "metadata": {
        "id": "view-in-github",
        "colab_type": "text"
      },
      "source": [
        "<a href=\"https://colab.research.google.com/github/mvkumar14/DS-Unit-1-Sprint-2-Statistics/blob/master/module3/LS_DS_123_Introduction_to_Bayesian_Inference_Assignment.ipynb\" target=\"_parent\"><img src=\"https://colab.research.google.com/assets/colab-badge.svg\" alt=\"Open In Colab\"/></a>"
      ]
    },
    {
      "cell_type": "markdown",
      "metadata": {
        "id": "H7OLbevlbd_Z",
        "colab_type": "text"
      },
      "source": [
        "# Lambda School Data Science Module 123\n",
        "\n",
        "## Introduction to Bayesian Inference\n",
        "\n",
        "\n"
      ]
    },
    {
      "cell_type": "markdown",
      "metadata": {
        "id": "P-DzzRk5bf0z",
        "colab_type": "text"
      },
      "source": [
        "## Assignment - Code it up!\n",
        "\n",
        "We used pure math to apply Bayes Theorem to drug tests. Now write Python code to reproduce the results! This is purposefully open ended - you'll have to think about how you should represent probabilities and events. You can and should look things up.\n",
        "\n",
        "Specific goals/targets:\n",
        "\n",
        "### 1) Write a function \n",
        "\n",
        "`def prob_drunk_given_positive(prob_drunk_prior, false_positive_rate):` \n",
        "\n",
        "You should only truly need these two values in order to apply Bayes Theorem. In this example, imagine that individuals are taking a breathalyzer test with an 8% false positive rate, a 100% true positive rate, and that our prior belief about drunk driving in the population is 1/1000. \n",
        " - What is the probability that a person is drunk after one positive breathalyzer test?\n",
        " - What is the probability that a person is drunk after two positive breathalyzer tests?\n",
        " - How many positive breathalyzer tests are needed in order to have a probability that's greater than 95% that a person is drunk beyond the legal limit?\n",
        "\n",
        "### 2) Explore `scipy.stats.bayes_mvs`  \n",
        "Read its documentation, and experiment with it on data you've tested in other ways earlier this week.\n",
        " - Create a visualization comparing the results of a Bayesian approach to a traditional/frequentist approach. (with a large sample size they should look close to identical, however, take this opportunity to practice visualizing condfidence intervals in general. The following are some potential ways that you could visualize confidence intervals on your graph:\n",
        "  - [Matplotlib Error Bars](https://matplotlib.org/3.1.1/api/_as_gen/matplotlib.pyplot.errorbar.html)\n",
        "  - [Seaborn barplot with error bars](https://seaborn.pydata.org/generated/seaborn.barplot.html)\n",
        "  - [Vertical ines to show bounds of confidence interval](https://www.simplypsychology.org/confidence-interval.jpg)\n",
        "  - [Confidence Intervals on Box Plots](https://matplotlib.org/3.1.1/api/_as_gen/matplotlib.axes.Axes.boxplot.html)\n",
        "\n",
        "### 3) In your own words, summarize the difference between Bayesian and Frequentist statistics\n",
        "\n",
        "If you're unsure where to start, check out [this blog post of Bayes theorem with Python](https://dataconomy.com/2015/02/introduction-to-bayes-theorem-with-python/).\n",
        "\n"
      ]
    },
    {
      "cell_type": "markdown",
      "metadata": {
        "id": "sCYI9kLyatUp",
        "colab_type": "text"
      },
      "source": [
        "##  1) Write a Function\n",
        "**This is a very specific case** that we are working with \n",
        "The name of the function gives us the case invovled\n",
        "\n",
        "**Specifically:**\n",
        "You take a breathalizer test(1 test).The result comes back positive, what is the likelihood that this test is \"True\" and you are actually drunk\n",
        "_________________________________________________________________________\n",
        "**Givens:**\n",
        "True positive rate = 100%\n",
        "\n",
        "False positive rate = 8%\n",
        "\n",
        "Belief about drunk driving in the population = 1/1000 \n",
        "\n",
        "(This is what we use as our first guess of prob_drunk_prior)\n",
        "\n",
        "**Function Input:**\n",
        "prob_drunk_prior\n",
        "false_positive_rate\n",
        "\n",
        "**Function Ouput:**\n",
        "The probability that the positive you got was a \"true positive\" (What are the chance that you are actually drunk given just this test information and nothing else)\n",
        "\n",
        "________________________________________________________________________\n",
        "**Holdup....**\n",
        "\n",
        "Wait... wasn't the true positive rate already given ? It looks like we are looking for something we already have. Why do we want this value?\n",
        "\n",
        "Yes... we were given a true positive rate, but here we want something sliiightly different. We want the probability that an event (the breathalizer test returning a + or \"you are drunk\" value) means true positive. Remember when the breathalizer says (+) there is a still a chance that you are sober, but the test was flawed.  \n",
        "\n",
        "Here it is once again stated explicitly:\n",
        "\n",
        "**The true positive rate given at the beginning of the problem is:**\n",
        "Given that you are drunk what is the probability that the breathalizer \n",
        "will give you a positive (correctly predict that you are drunk). In our case this is 100%\n",
        "\n",
        "**Here the question we ask is:**\n",
        "Given that the breathalizer resulted in a positive value (the test says you are drunk) what is the probability that it is correct. In other words, what is the probability that it is a true positive\n",
        "\n"
      ]
    },
    {
      "cell_type": "markdown",
      "metadata": {
        "id": "BkYFkLkEfJOD",
        "colab_type": "text"
      },
      "source": [
        "Here is our tool:\n",
        "\n",
        "$$P(A|B) = \\frac{P(B|A)P(A)}{P(B)}$$"
      ]
    },
    {
      "cell_type": "markdown",
      "metadata": {
        "id": "SsHUdLREfMV8",
        "colab_type": "text"
      },
      "source": [
        "Here it is for our specific situation:\n",
        "\n",
        "$$P(Drunk|+ test) = \\frac{P(+ test|Drunk)P(Drunk( in-general-populace))}{P(+ test)}$$"
      ]
    },
    {
      "cell_type": "code",
      "metadata": {
        "id": "xpVhZyUnbf7o",
        "colab_type": "code",
        "colab": {}
      },
      "source": [
        "#P(Drunk|+ test) = (P(+ test|Drunk)*P(Drunk (in general populace))) / P(+ test)\n",
        "# P(+ test)= ((+) from drunk group  +  (+) from non-drunk group)/population\n",
        "#^ the better way to write the above is : \n",
        "# P(+ test) = ((+)drunks)\n",
        "\n",
        "def prob_drunk_given_positive(prob_drunk_prior,false_positive_rate):\n",
        "  \"\"\"\n",
        "  Note that for this function to work properly you need to input \n",
        "  values as fractions. \n",
        "  \"\"\"\n",
        "  #these are knowns, but they can be turned variable:\n",
        "  true_positive_rate = 1\n",
        "  \n",
        "\n",
        "  #numerator= probability of real drunk in full set\n",
        "  prob_real_drunks = prob_drunk_prior*true_positive_rate\n",
        "  \n",
        "\n",
        "  #denom = probability of + occuring in full set\n",
        "  #some positives are from the \"drunk\" set\n",
        "  prob_pos_drunks = prob_real_drunks\n",
        "\n",
        "  #some positives are due to the error in the \"sober\" set\n",
        "  prob_pos_sober = (1-prob_drunk_prior)*false_positive_rate\n",
        "  #chance of sober = 1-chance drunk\n",
        "  #chance of + with in sober set = error rate of test\n",
        "\n",
        "\n",
        "  #actual denom calculated\n",
        "  prob_all_positives =prob_pos_drunks + prob_pos_sober\n",
        "\n",
        "  #total probability is: chance of real drunk/chance of all + values\n",
        "  probability = prob_real_drunks/prob_all_positives\n",
        "  return probability   "
      ],
      "execution_count": 0,
      "outputs": []
    },
    {
      "cell_type": "code",
      "metadata": {
        "id": "i2pVZIQisO0x",
        "colab_type": "code",
        "outputId": "cfd86a5f-40a2-4017-b9ea-3e3371b0adb6",
        "colab": {
          "base_uri": "https://localhost:8080/",
          "height": 35
        }
      },
      "source": [
        "prob_drunk_given_positive(1/1000,0.08)"
      ],
      "execution_count": 0,
      "outputs": [
        {
          "output_type": "execute_result",
          "data": {
            "text/plain": [
              "0.012357884330202669"
            ]
          },
          "metadata": {
            "tags": []
          },
          "execution_count": 19
        }
      ]
    },
    {
      "cell_type": "markdown",
      "metadata": {
        "id": "vTFF8rFQT6p8",
        "colab_type": "text"
      },
      "source": [
        "### The following was a failed test, that was probably uneccessary:"
      ]
    },
    {
      "cell_type": "code",
      "metadata": {
        "id": "KWMAbp5zsrd2",
        "colab_type": "code",
        "colab": {}
      },
      "source": [
        "#now a for loop to loop through the previous funciton n times:\n",
        "starting_base_rate = 1/1000\n",
        "false_positive_error = 0.08\n",
        "\n",
        "#REMEMBER TO DO THE RETURNS RIGHT IN RECURSIVE STUFF!!!!\n",
        "\n",
        "def run_prob_sequentially(num_repeats,starting_base_rate,false_positive_error):\n",
        "  print(starting_base_rate)\n",
        "  if num_repeats == 1:\n",
        "     #print(\"right before return statement\",starting_base_rate)\n",
        "     return starting_base_rate\n",
        "  elif num_repeats > 1:\n",
        "    # print('loop',num_repeats)\n",
        "    new_base_rate = prob_drunk_given_positive(starting_base_rate,false_positive_error)\n",
        "    return run_prob_sequentially(num_repeats-1,new_base_rate,false_positive_error)\n",
        "  "
      ],
      "execution_count": 0,
      "outputs": []
    },
    {
      "cell_type": "markdown",
      "metadata": {
        "id": "jOHD4B1kRgZr",
        "colab_type": "text"
      },
      "source": [
        "I had an issue with this where I would be able to print out the print statements, but the function wouldn't return the proper value. The problem was that the else loop called the original function instead of \"returning\" the original function. So the first time that the function was called recursivley it went through the rest of the process, but the values weren't doing anything in the main function."
      ]
    },
    {
      "cell_type": "code",
      "metadata": {
        "id": "CjqV1dzAtjBw",
        "colab_type": "code",
        "outputId": "7c281d91-0308-4ed1-872d-da4b08e3e3e6",
        "colab": {
          "base_uri": "https://localhost:8080/",
          "height": 91
        }
      },
      "source": [
        "#test that the function is working properly. (uncomment print statements in function\n",
        "# if necessary)\n",
        "a = run_prob_sequentially(4,starting_base_rate,false_positive_error)\n",
        "# print(a[1])\n"
      ],
      "execution_count": 0,
      "outputs": [
        {
          "output_type": "stream",
          "text": [
            "0.001\n",
            "0.012357884330202669\n",
            "0.13525210993291495\n",
            "0.6615996951348605\n"
          ],
          "name": "stdout"
        }
      ]
    },
    {
      "cell_type": "code",
      "metadata": {
        "id": "h-exEGM8QCZh",
        "colab_type": "code",
        "colab": {}
      },
      "source": [
        "def test_fun(a,b):\n",
        "  if b>2:\n",
        "    return a"
      ],
      "execution_count": 0,
      "outputs": []
    },
    {
      "cell_type": "code",
      "metadata": {
        "id": "t-qWJsfLQGLF",
        "colab_type": "code",
        "outputId": "f3ab5f4e-29b4-41a3-dd12-f713fa0dba2b",
        "colab": {
          "base_uri": "https://localhost:8080/",
          "height": 35
        }
      },
      "source": [
        "test_val = test_fun(1,3)\n",
        "print(test_val)"
      ],
      "execution_count": 0,
      "outputs": [
        {
          "output_type": "stream",
          "text": [
            "1\n"
          ],
          "name": "stdout"
        }
      ]
    },
    {
      "cell_type": "markdown",
      "metadata": {
        "id": "S7Y3aUTTMwIh",
        "colab_type": "text"
      },
      "source": [
        "## Plotting my results:"
      ]
    },
    {
      "cell_type": "code",
      "metadata": {
        "id": "gbCu5l9ENzz7",
        "colab_type": "code",
        "colab": {}
      },
      "source": [
        "def seq_data_points(starting_base_rate,false_positive_error,num_datapoints):\n",
        "  y = []\n",
        "  x = range(num_datapoints)\n",
        "  #this is the simpler way of doing the recursion thing. \n",
        "  #recursion is the cooler way of doing this, but unneccessary \n",
        "  for i in range(num_datapoints):\n",
        "    starting_base_rate = prob_drunk_given_positive(starting_base_rate,false_positive_error)\n",
        "    y.append(starting_base_rate)\n",
        "  return x,y\n"
      ],
      "execution_count": 0,
      "outputs": []
    },
    {
      "cell_type": "code",
      "metadata": {
        "id": "zxoVpDEtV5X-",
        "colab_type": "code",
        "outputId": "f3760298-ca67-4573-b8c2-5df2d5b6e6ee",
        "colab": {
          "base_uri": "https://localhost:8080/",
          "height": 269
        }
      },
      "source": [
        "import matplotlib.pyplot as plt\n",
        "\n",
        "starting_base_rate = 1/1000\n",
        "false_positive_error = 0.08\n",
        "num_datapoints = 6\n",
        "\n",
        "# #start stop, and number of graphs you want to plot\n",
        "# #start and stop are for base rate values\n",
        "# scale = 1/1000\n",
        "# num_graphs = 3\n",
        "\n",
        "\n",
        "base_rate_array = [1/1000,1/10000,1/100000]\n",
        "for i in base_rate_array:\n",
        "  x,y = seq_data_points(i,false_positive_error,num_datapoints)\n",
        "  plt.plot(x,y)\n"
      ],
      "execution_count": 0,
      "outputs": [
        {
          "output_type": "display_data",
          "data": {
            "image/png": "[encoded data removed]",
            "text/plain": [
              "<Figure size 432x288 with 1 Axes>"
            ]
          },
          "metadata": {
            "tags": []
          }
        }
      ]
    },
    {
      "cell_type": "markdown",
      "metadata": {
        "id": "LZpyrbEnaRIv",
        "colab_type": "text"
      },
      "source": [
        "## More Robust Version of the function. \n",
        "\n",
        "I want to write this function so that the inputs are:\n",
        "\n",
        "*   false_positive_error\n",
        "*   false_negative_error\n",
        "*   initial_guess\n",
        "*   population size? (if I want to give a numerical representation of results in additon to a statistical representation of results)\n",
        "*   probability specification (input 1 or 2 for A given B or B given A)\n",
        "(might be better to write that last one as seperate functions, cause inputs might need to be different for both?)\n"
      ]
    },
    {
      "cell_type": "code",
      "metadata": {
        "id": "_xUWzbwVaPKm",
        "colab_type": "code",
        "colab": {}
      },
      "source": [
        ""
      ],
      "execution_count": 0,
      "outputs": []
    },
    {
      "cell_type": "markdown",
      "metadata": {
        "id": "4_qtr6BqydYx",
        "colab_type": "text"
      },
      "source": [
        "## 2 Explore ```scipy.stats.bayes_mvs```\n",
        "\n"
      ]
    },
    {
      "cell_type": "markdown",
      "metadata": {
        "id": "RkA1qd_Qcx6j",
        "colab_type": "text"
      },
      "source": [
        "### Getting the data"
      ]
    },
    {
      "cell_type": "code",
      "metadata": {
        "id": "Ckcr4A4FM7cs",
        "colab_type": "code",
        "outputId": "5418c65c-0485-4a2e-c6c9-1ae1d1e2a1f1",
        "colab": {
          "base_uri": "https://localhost:8080/",
          "height": 220
        }
      },
      "source": [
        "# Import the congressional voting records data\n",
        "!wget 'https://archive.ics.uci.edu/ml/machine-learning-databases/voting-records/house-votes-84.data'"
      ],
      "execution_count": 30,
      "outputs": [
        {
          "output_type": "stream",
          "text": [
            "--2019-10-10 16:14:50--  https://archive.ics.uci.edu/ml/machine-learning-databases/voting-records/house-votes-84.data\n",
            "Resolving archive.ics.uci.edu (archive.ics.uci.edu)... 128.195.10.252\n",
            "Connecting to archive.ics.uci.edu (archive.ics.uci.edu)|128.195.10.252|:443... connected.\n",
            "HTTP request sent, awaiting response... 200 OK\n",
            "Length: 18171 (18K) [application/x-httpd-php]\n",
            "Saving to: ‘house-votes-84.data’\n",
            "\n",
            "\rhouse-votes-84.data   0%[                    ]       0  --.-KB/s               \rhouse-votes-84.data 100%[===================>]  17.75K  --.-KB/s    in 0.03s   \n",
            "\n",
            "2019-10-10 16:14:50 (590 KB/s) - ‘house-votes-84.data’ saved [18171/18171]\n",
            "\n"
          ],
          "name": "stdout"
        }
      ]
    },
    {
      "cell_type": "code",
      "metadata": {
        "id": "reOBpYhUAsLb",
        "colab_type": "code",
        "outputId": "a3fa2c94-921a-4bbd-d359-a0331fac3a67",
        "colab": {
          "base_uri": "https://localhost:8080/",
          "height": 278
        }
      },
      "source": [
        "import pandas as pd\n",
        "import numpy as np\n",
        "\n",
        "congress=pd.read_csv('house-votes-84.data',header=None,\n",
        "                      names=['handicapped-infants','water-project',\n",
        "                      'budget-resolution','physician-fee-freeze',\n",
        "                      'el-salvador-aid','relegious-groups',\n",
        "                      'anti-sat-test-ban','aid',\n",
        "                      'mx-missile','immigration',\n",
        "                      'synfuels-corp','education-spending',\n",
        "                      'superfund','crime','exports','export-sa'])\n",
        "congress.head()"
      ],
      "execution_count": 31,
      "outputs": [
        {
          "output_type": "execute_result",
          "data": {
            "text/html": [
              "<div>\n",
              "<style scoped>\n",
              "    .dataframe tbody tr th:only-of-type {\n",
              "        vertical-align: middle;\n",
              "    }\n",
              "\n",
              "    .dataframe tbody tr th {\n",
              "        vertical-align: top;\n",
              "    }\n",
              "\n",
              "    .dataframe thead th {\n",
              "        text-align: right;\n",
              "    }\n",
              "</style>\n",
              "<table border=\"1\" class=\"dataframe\">\n",
              "  <thead>\n",
              "    <tr style=\"text-align: right;\">\n",
              "      <th></th>\n",
              "      <th>handicapped-infants</th>\n",
              "      <th>water-project</th>\n",
              "      <th>budget-resolution</th>\n",
              "      <th>physician-fee-freeze</th>\n",
              "      <th>el-salvador-aid</th>\n",
              "      <th>relegious-groups</th>\n",
              "      <th>anti-sat-test-ban</th>\n",
              "      <th>aid</th>\n",
              "      <th>mx-missile</th>\n",
              "      <th>immigration</th>\n",
              "      <th>synfuels-corp</th>\n",
              "      <th>education-spending</th>\n",
              "      <th>superfund</th>\n",
              "      <th>crime</th>\n",
              "      <th>exports</th>\n",
              "      <th>export-sa</th>\n",
              "    </tr>\n",
              "  </thead>\n",
              "  <tbody>\n",
              "    <tr>\n",
              "      <th>republican</th>\n",
              "      <td>n</td>\n",
              "      <td>y</td>\n",
              "      <td>n</td>\n",
              "      <td>y</td>\n",
              "      <td>y</td>\n",
              "      <td>y</td>\n",
              "      <td>n</td>\n",
              "      <td>n</td>\n",
              "      <td>n</td>\n",
              "      <td>y</td>\n",
              "      <td>?</td>\n",
              "      <td>y</td>\n",
              "      <td>y</td>\n",
              "      <td>y</td>\n",
              "      <td>n</td>\n",
              "      <td>y</td>\n",
              "    </tr>\n",
              "    <tr>\n",
              "      <th>republican</th>\n",
              "      <td>n</td>\n",
              "      <td>y</td>\n",
              "      <td>n</td>\n",
              "      <td>y</td>\n",
              "      <td>y</td>\n",
              "      <td>y</td>\n",
              "      <td>n</td>\n",
              "      <td>n</td>\n",
              "      <td>n</td>\n",
              "      <td>n</td>\n",
              "      <td>n</td>\n",
              "      <td>y</td>\n",
              "      <td>y</td>\n",
              "      <td>y</td>\n",
              "      <td>n</td>\n",
              "      <td>?</td>\n",
              "    </tr>\n",
              "    <tr>\n",
              "      <th>democrat</th>\n",
              "      <td>?</td>\n",
              "      <td>y</td>\n",
              "      <td>y</td>\n",
              "      <td>?</td>\n",
              "      <td>y</td>\n",
              "      <td>y</td>\n",
              "      <td>n</td>\n",
              "      <td>n</td>\n",
              "      <td>n</td>\n",
              "      <td>n</td>\n",
              "      <td>y</td>\n",
              "      <td>n</td>\n",
              "      <td>y</td>\n",
              "      <td>y</td>\n",
              "      <td>n</td>\n",
              "      <td>n</td>\n",
              "    </tr>\n",
              "    <tr>\n",
              "      <th>democrat</th>\n",
              "      <td>n</td>\n",
              "      <td>y</td>\n",
              "      <td>y</td>\n",
              "      <td>n</td>\n",
              "      <td>?</td>\n",
              "      <td>y</td>\n",
              "      <td>n</td>\n",
              "      <td>n</td>\n",
              "      <td>n</td>\n",
              "      <td>n</td>\n",
              "      <td>y</td>\n",
              "      <td>n</td>\n",
              "      <td>y</td>\n",
              "      <td>n</td>\n",
              "      <td>n</td>\n",
              "      <td>y</td>\n",
              "    </tr>\n",
              "    <tr>\n",
              "      <th>democrat</th>\n",
              "      <td>y</td>\n",
              "      <td>y</td>\n",
              "      <td>y</td>\n",
              "      <td>n</td>\n",
              "      <td>y</td>\n",
              "      <td>y</td>\n",
              "      <td>n</td>\n",
              "      <td>n</td>\n",
              "      <td>n</td>\n",
              "      <td>n</td>\n",
              "      <td>y</td>\n",
              "      <td>?</td>\n",
              "      <td>y</td>\n",
              "      <td>y</td>\n",
              "      <td>y</td>\n",
              "      <td>y</td>\n",
              "    </tr>\n",
              "  </tbody>\n",
              "</table>\n",
              "</div>"
            ],
            "text/plain": [
              "           handicapped-infants water-project  ... exports export-sa\n",
              "republican                   n             y  ...       n         y\n",
              "republican                   n             y  ...       n         ?\n",
              "democrat                     ?             y  ...       n         n\n",
              "democrat                     n             y  ...       n         y\n",
              "democrat                     y             y  ...       y         y\n",
              "\n",
              "[5 rows x 16 columns]"
            ]
          },
          "metadata": {
            "tags": []
          },
          "execution_count": 31
        }
      ]
    },
    {
      "cell_type": "code",
      "metadata": {
        "id": "dAzUFDAsBtpJ",
        "colab_type": "code",
        "outputId": "52f24c2f-0e15-4a31-f2eb-3fdad70724cd",
        "colab": {
          "base_uri": "https://localhost:8080/",
          "height": 278
        }
      },
      "source": [
        "congress = congress.replace({'?':np.nan,'y':1,'n':0})\n",
        "congress.head()\n"
      ],
      "execution_count": 32,
      "outputs": [
        {
          "output_type": "execute_result",
          "data": {
            "text/html": [
              "<div>\n",
              "<style scoped>\n",
              "    .dataframe tbody tr th:only-of-type {\n",
              "        vertical-align: middle;\n",
              "    }\n",
              "\n",
              "    .dataframe tbody tr th {\n",
              "        vertical-align: top;\n",
              "    }\n",
              "\n",
              "    .dataframe thead th {\n",
              "        text-align: right;\n",
              "    }\n",
              "</style>\n",
              "<table border=\"1\" class=\"dataframe\">\n",
              "  <thead>\n",
              "    <tr style=\"text-align: right;\">\n",
              "      <th></th>\n",
              "      <th>handicapped-infants</th>\n",
              "      <th>water-project</th>\n",
              "      <th>budget-resolution</th>\n",
              "      <th>physician-fee-freeze</th>\n",
              "      <th>el-salvador-aid</th>\n",
              "      <th>relegious-groups</th>\n",
              "      <th>anti-sat-test-ban</th>\n",
              "      <th>aid</th>\n",
              "      <th>mx-missile</th>\n",
              "      <th>immigration</th>\n",
              "      <th>synfuels-corp</th>\n",
              "      <th>education-spending</th>\n",
              "      <th>superfund</th>\n",
              "      <th>crime</th>\n",
              "      <th>exports</th>\n",
              "      <th>export-sa</th>\n",
              "    </tr>\n",
              "  </thead>\n",
              "  <tbody>\n",
              "    <tr>\n",
              "      <th>republican</th>\n",
              "      <td>0.0</td>\n",
              "      <td>1.0</td>\n",
              "      <td>0.0</td>\n",
              "      <td>1.0</td>\n",
              "      <td>1.0</td>\n",
              "      <td>1.0</td>\n",
              "      <td>0.0</td>\n",
              "      <td>0.0</td>\n",
              "      <td>0.0</td>\n",
              "      <td>1.0</td>\n",
              "      <td>NaN</td>\n",
              "      <td>1.0</td>\n",
              "      <td>1.0</td>\n",
              "      <td>1.0</td>\n",
              "      <td>0.0</td>\n",
              "      <td>1.0</td>\n",
              "    </tr>\n",
              "    <tr>\n",
              "      <th>republican</th>\n",
              "      <td>0.0</td>\n",
              "      <td>1.0</td>\n",
              "      <td>0.0</td>\n",
              "      <td>1.0</td>\n",
              "      <td>1.0</td>\n",
              "      <td>1.0</td>\n",
              "      <td>0.0</td>\n",
              "      <td>0.0</td>\n",
              "      <td>0.0</td>\n",
              "      <td>0.0</td>\n",
              "      <td>0.0</td>\n",
              "      <td>1.0</td>\n",
              "      <td>1.0</td>\n",
              "      <td>1.0</td>\n",
              "      <td>0.0</td>\n",
              "      <td>NaN</td>\n",
              "    </tr>\n",
              "    <tr>\n",
              "      <th>democrat</th>\n",
              "      <td>NaN</td>\n",
              "      <td>1.0</td>\n",
              "      <td>1.0</td>\n",
              "      <td>NaN</td>\n",
              "      <td>1.0</td>\n",
              "      <td>1.0</td>\n",
              "      <td>0.0</td>\n",
              "      <td>0.0</td>\n",
              "      <td>0.0</td>\n",
              "      <td>0.0</td>\n",
              "      <td>1.0</td>\n",
              "      <td>0.0</td>\n",
              "      <td>1.0</td>\n",
              "      <td>1.0</td>\n",
              "      <td>0.0</td>\n",
              "      <td>0.0</td>\n",
              "    </tr>\n",
              "    <tr>\n",
              "      <th>democrat</th>\n",
              "      <td>0.0</td>\n",
              "      <td>1.0</td>\n",
              "      <td>1.0</td>\n",
              "      <td>0.0</td>\n",
              "      <td>NaN</td>\n",
              "      <td>1.0</td>\n",
              "      <td>0.0</td>\n",
              "      <td>0.0</td>\n",
              "      <td>0.0</td>\n",
              "      <td>0.0</td>\n",
              "      <td>1.0</td>\n",
              "      <td>0.0</td>\n",
              "      <td>1.0</td>\n",
              "      <td>0.0</td>\n",
              "      <td>0.0</td>\n",
              "      <td>1.0</td>\n",
              "    </tr>\n",
              "    <tr>\n",
              "      <th>democrat</th>\n",
              "      <td>1.0</td>\n",
              "      <td>1.0</td>\n",
              "      <td>1.0</td>\n",
              "      <td>0.0</td>\n",
              "      <td>1.0</td>\n",
              "      <td>1.0</td>\n",
              "      <td>0.0</td>\n",
              "      <td>0.0</td>\n",
              "      <td>0.0</td>\n",
              "      <td>0.0</td>\n",
              "      <td>1.0</td>\n",
              "      <td>NaN</td>\n",
              "      <td>1.0</td>\n",
              "      <td>1.0</td>\n",
              "      <td>1.0</td>\n",
              "      <td>1.0</td>\n",
              "    </tr>\n",
              "  </tbody>\n",
              "</table>\n",
              "</div>"
            ],
            "text/plain": [
              "            handicapped-infants  water-project  ...  exports  export-sa\n",
              "republican                  0.0            1.0  ...      0.0        1.0\n",
              "republican                  0.0            1.0  ...      0.0        NaN\n",
              "democrat                    NaN            1.0  ...      0.0        0.0\n",
              "democrat                    0.0            1.0  ...      0.0        1.0\n",
              "democrat                    1.0            1.0  ...      1.0        1.0\n",
              "\n",
              "[5 rows x 16 columns]"
            ]
          },
          "metadata": {
            "tags": []
          },
          "execution_count": 32
        }
      ]
    },
    {
      "cell_type": "code",
      "metadata": {
        "id": "NqW6r6qvaqja",
        "colab_type": "code",
        "outputId": "86fe310e-91b1-4acb-da57-159bac250bd4",
        "colab": {
          "base_uri": "https://localhost:8080/",
          "height": 330
        }
      },
      "source": [
        " print(congress.isnull().sum())"
      ],
      "execution_count": 33,
      "outputs": [
        {
          "output_type": "stream",
          "text": [
            "handicapped-infants      12\n",
            "water-project            48\n",
            "budget-resolution        11\n",
            "physician-fee-freeze     11\n",
            "el-salvador-aid          15\n",
            "relegious-groups         11\n",
            "anti-sat-test-ban        14\n",
            "aid                      15\n",
            "mx-missile               22\n",
            "immigration               7\n",
            "synfuels-corp            21\n",
            "education-spending       31\n",
            "superfund                25\n",
            "crime                    17\n",
            "exports                  28\n",
            "export-sa               104\n",
            "dtype: int64\n"
          ],
          "name": "stdout"
        }
      ]
    },
    {
      "cell_type": "code",
      "metadata": {
        "id": "wgf8hh04CYHu",
        "colab_type": "code",
        "outputId": "4227633b-280a-4750-dd4e-e407704ee9f9",
        "colab": {
          "base_uri": "https://localhost:8080/",
          "height": 278
        }
      },
      "source": [
        "reps = congress[(congress.index=='republican')]\n",
        "reps.head()"
      ],
      "execution_count": 34,
      "outputs": [
        {
          "output_type": "execute_result",
          "data": {
            "text/html": [
              "<div>\n",
              "<style scoped>\n",
              "    .dataframe tbody tr th:only-of-type {\n",
              "        vertical-align: middle;\n",
              "    }\n",
              "\n",
              "    .dataframe tbody tr th {\n",
              "        vertical-align: top;\n",
              "    }\n",
              "\n",
              "    .dataframe thead th {\n",
              "        text-align: right;\n",
              "    }\n",
              "</style>\n",
              "<table border=\"1\" class=\"dataframe\">\n",
              "  <thead>\n",
              "    <tr style=\"text-align: right;\">\n",
              "      <th></th>\n",
              "      <th>handicapped-infants</th>\n",
              "      <th>water-project</th>\n",
              "      <th>budget-resolution</th>\n",
              "      <th>physician-fee-freeze</th>\n",
              "      <th>el-salvador-aid</th>\n",
              "      <th>relegious-groups</th>\n",
              "      <th>anti-sat-test-ban</th>\n",
              "      <th>aid</th>\n",
              "      <th>mx-missile</th>\n",
              "      <th>immigration</th>\n",
              "      <th>synfuels-corp</th>\n",
              "      <th>education-spending</th>\n",
              "      <th>superfund</th>\n",
              "      <th>crime</th>\n",
              "      <th>exports</th>\n",
              "      <th>export-sa</th>\n",
              "    </tr>\n",
              "  </thead>\n",
              "  <tbody>\n",
              "    <tr>\n",
              "      <th>republican</th>\n",
              "      <td>0.0</td>\n",
              "      <td>1.0</td>\n",
              "      <td>0.0</td>\n",
              "      <td>1.0</td>\n",
              "      <td>1.0</td>\n",
              "      <td>1.0</td>\n",
              "      <td>0.0</td>\n",
              "      <td>0.0</td>\n",
              "      <td>0.0</td>\n",
              "      <td>1.0</td>\n",
              "      <td>NaN</td>\n",
              "      <td>1.0</td>\n",
              "      <td>1.0</td>\n",
              "      <td>1.0</td>\n",
              "      <td>0.0</td>\n",
              "      <td>1.0</td>\n",
              "    </tr>\n",
              "    <tr>\n",
              "      <th>republican</th>\n",
              "      <td>0.0</td>\n",
              "      <td>1.0</td>\n",
              "      <td>0.0</td>\n",
              "      <td>1.0</td>\n",
              "      <td>1.0</td>\n",
              "      <td>1.0</td>\n",
              "      <td>0.0</td>\n",
              "      <td>0.0</td>\n",
              "      <td>0.0</td>\n",
              "      <td>0.0</td>\n",
              "      <td>0.0</td>\n",
              "      <td>1.0</td>\n",
              "      <td>1.0</td>\n",
              "      <td>1.0</td>\n",
              "      <td>0.0</td>\n",
              "      <td>NaN</td>\n",
              "    </tr>\n",
              "    <tr>\n",
              "      <th>republican</th>\n",
              "      <td>0.0</td>\n",
              "      <td>1.0</td>\n",
              "      <td>0.0</td>\n",
              "      <td>1.0</td>\n",
              "      <td>1.0</td>\n",
              "      <td>1.0</td>\n",
              "      <td>0.0</td>\n",
              "      <td>0.0</td>\n",
              "      <td>0.0</td>\n",
              "      <td>0.0</td>\n",
              "      <td>0.0</td>\n",
              "      <td>0.0</td>\n",
              "      <td>1.0</td>\n",
              "      <td>1.0</td>\n",
              "      <td>NaN</td>\n",
              "      <td>1.0</td>\n",
              "    </tr>\n",
              "    <tr>\n",
              "      <th>republican</th>\n",
              "      <td>0.0</td>\n",
              "      <td>1.0</td>\n",
              "      <td>0.0</td>\n",
              "      <td>1.0</td>\n",
              "      <td>1.0</td>\n",
              "      <td>1.0</td>\n",
              "      <td>0.0</td>\n",
              "      <td>0.0</td>\n",
              "      <td>0.0</td>\n",
              "      <td>0.0</td>\n",
              "      <td>0.0</td>\n",
              "      <td>1.0</td>\n",
              "      <td>1.0</td>\n",
              "      <td>1.0</td>\n",
              "      <td>0.0</td>\n",
              "      <td>1.0</td>\n",
              "    </tr>\n",
              "    <tr>\n",
              "      <th>republican</th>\n",
              "      <td>0.0</td>\n",
              "      <td>1.0</td>\n",
              "      <td>0.0</td>\n",
              "      <td>1.0</td>\n",
              "      <td>1.0</td>\n",
              "      <td>0.0</td>\n",
              "      <td>0.0</td>\n",
              "      <td>0.0</td>\n",
              "      <td>0.0</td>\n",
              "      <td>0.0</td>\n",
              "      <td>NaN</td>\n",
              "      <td>NaN</td>\n",
              "      <td>1.0</td>\n",
              "      <td>1.0</td>\n",
              "      <td>0.0</td>\n",
              "      <td>0.0</td>\n",
              "    </tr>\n",
              "  </tbody>\n",
              "</table>\n",
              "</div>"
            ],
            "text/plain": [
              "            handicapped-infants  water-project  ...  exports  export-sa\n",
              "republican                  0.0            1.0  ...      0.0        1.0\n",
              "republican                  0.0            1.0  ...      0.0        NaN\n",
              "republican                  0.0            1.0  ...      NaN        1.0\n",
              "republican                  0.0            1.0  ...      0.0        1.0\n",
              "republican                  0.0            1.0  ...      0.0        0.0\n",
              "\n",
              "[5 rows x 16 columns]"
            ]
          },
          "metadata": {
            "tags": []
          },
          "execution_count": 34
        }
      ]
    },
    {
      "cell_type": "code",
      "metadata": {
        "id": "ncsWvPrHDNth",
        "colab_type": "code",
        "outputId": "76903bab-bee9-416f-a104-ac4a06675c6e",
        "colab": {
          "base_uri": "https://localhost:8080/",
          "height": 278
        }
      },
      "source": [
        "dems = congress[(congress.index=='democrat')]\n",
        "dems.head()"
      ],
      "execution_count": 35,
      "outputs": [
        {
          "output_type": "execute_result",
          "data": {
            "text/html": [
              "<div>\n",
              "<style scoped>\n",
              "    .dataframe tbody tr th:only-of-type {\n",
              "        vertical-align: middle;\n",
              "    }\n",
              "\n",
              "    .dataframe tbody tr th {\n",
              "        vertical-align: top;\n",
              "    }\n",
              "\n",
              "    .dataframe thead th {\n",
              "        text-align: right;\n",
              "    }\n",
              "</style>\n",
              "<table border=\"1\" class=\"dataframe\">\n",
              "  <thead>\n",
              "    <tr style=\"text-align: right;\">\n",
              "      <th></th>\n",
              "      <th>handicapped-infants</th>\n",
              "      <th>water-project</th>\n",
              "      <th>budget-resolution</th>\n",
              "      <th>physician-fee-freeze</th>\n",
              "      <th>el-salvador-aid</th>\n",
              "      <th>relegious-groups</th>\n",
              "      <th>anti-sat-test-ban</th>\n",
              "      <th>aid</th>\n",
              "      <th>mx-missile</th>\n",
              "      <th>immigration</th>\n",
              "      <th>synfuels-corp</th>\n",
              "      <th>education-spending</th>\n",
              "      <th>superfund</th>\n",
              "      <th>crime</th>\n",
              "      <th>exports</th>\n",
              "      <th>export-sa</th>\n",
              "    </tr>\n",
              "  </thead>\n",
              "  <tbody>\n",
              "    <tr>\n",
              "      <th>democrat</th>\n",
              "      <td>NaN</td>\n",
              "      <td>1.0</td>\n",
              "      <td>1.0</td>\n",
              "      <td>NaN</td>\n",
              "      <td>1.0</td>\n",
              "      <td>1.0</td>\n",
              "      <td>0.0</td>\n",
              "      <td>0.0</td>\n",
              "      <td>0.0</td>\n",
              "      <td>0.0</td>\n",
              "      <td>1.0</td>\n",
              "      <td>0.0</td>\n",
              "      <td>1.0</td>\n",
              "      <td>1.0</td>\n",
              "      <td>0.0</td>\n",
              "      <td>0.0</td>\n",
              "    </tr>\n",
              "    <tr>\n",
              "      <th>democrat</th>\n",
              "      <td>0.0</td>\n",
              "      <td>1.0</td>\n",
              "      <td>1.0</td>\n",
              "      <td>0.0</td>\n",
              "      <td>NaN</td>\n",
              "      <td>1.0</td>\n",
              "      <td>0.0</td>\n",
              "      <td>0.0</td>\n",
              "      <td>0.0</td>\n",
              "      <td>0.0</td>\n",
              "      <td>1.0</td>\n",
              "      <td>0.0</td>\n",
              "      <td>1.0</td>\n",
              "      <td>0.0</td>\n",
              "      <td>0.0</td>\n",
              "      <td>1.0</td>\n",
              "    </tr>\n",
              "    <tr>\n",
              "      <th>democrat</th>\n",
              "      <td>1.0</td>\n",
              "      <td>1.0</td>\n",
              "      <td>1.0</td>\n",
              "      <td>0.0</td>\n",
              "      <td>1.0</td>\n",
              "      <td>1.0</td>\n",
              "      <td>0.0</td>\n",
              "      <td>0.0</td>\n",
              "      <td>0.0</td>\n",
              "      <td>0.0</td>\n",
              "      <td>1.0</td>\n",
              "      <td>NaN</td>\n",
              "      <td>1.0</td>\n",
              "      <td>1.0</td>\n",
              "      <td>1.0</td>\n",
              "      <td>1.0</td>\n",
              "    </tr>\n",
              "    <tr>\n",
              "      <th>democrat</th>\n",
              "      <td>0.0</td>\n",
              "      <td>1.0</td>\n",
              "      <td>1.0</td>\n",
              "      <td>0.0</td>\n",
              "      <td>1.0</td>\n",
              "      <td>1.0</td>\n",
              "      <td>0.0</td>\n",
              "      <td>0.0</td>\n",
              "      <td>0.0</td>\n",
              "      <td>0.0</td>\n",
              "      <td>0.0</td>\n",
              "      <td>0.0</td>\n",
              "      <td>1.0</td>\n",
              "      <td>1.0</td>\n",
              "      <td>1.0</td>\n",
              "      <td>1.0</td>\n",
              "    </tr>\n",
              "    <tr>\n",
              "      <th>democrat</th>\n",
              "      <td>0.0</td>\n",
              "      <td>1.0</td>\n",
              "      <td>0.0</td>\n",
              "      <td>1.0</td>\n",
              "      <td>1.0</td>\n",
              "      <td>1.0</td>\n",
              "      <td>0.0</td>\n",
              "      <td>0.0</td>\n",
              "      <td>0.0</td>\n",
              "      <td>0.0</td>\n",
              "      <td>0.0</td>\n",
              "      <td>0.0</td>\n",
              "      <td>NaN</td>\n",
              "      <td>1.0</td>\n",
              "      <td>1.0</td>\n",
              "      <td>1.0</td>\n",
              "    </tr>\n",
              "  </tbody>\n",
              "</table>\n",
              "</div>"
            ],
            "text/plain": [
              "          handicapped-infants  water-project  ...  exports  export-sa\n",
              "democrat                  NaN            1.0  ...      0.0        0.0\n",
              "democrat                  0.0            1.0  ...      0.0        1.0\n",
              "democrat                  1.0            1.0  ...      1.0        1.0\n",
              "democrat                  0.0            1.0  ...      1.0        1.0\n",
              "democrat                  0.0            1.0  ...      1.0        1.0\n",
              "\n",
              "[5 rows x 16 columns]"
            ]
          },
          "metadata": {
            "tags": []
          },
          "execution_count": 35
        }
      ]
    },
    {
      "cell_type": "code",
      "metadata": {
        "id": "Kn6lNHK6DVEW",
        "colab_type": "code",
        "outputId": "6c618c89-bbeb-47ae-d84a-662979677269",
        "colab": {
          "base_uri": "https://localhost:8080/",
          "height": 35
        }
      },
      "source": [
        "reps['aid'].isnull().sum()"
      ],
      "execution_count": 36,
      "outputs": [
        {
          "output_type": "execute_result",
          "data": {
            "text/plain": [
              "11"
            ]
          },
          "metadata": {
            "tags": []
          },
          "execution_count": 36
        }
      ]
    },
    {
      "cell_type": "code",
      "metadata": {
        "id": "t_O92ic2_rI3",
        "colab_type": "code",
        "outputId": "bc848035-83a7-4c71-fa59-b7a14b4b3931",
        "colab": {
          "base_uri": "https://localhost:8080/",
          "height": 183
        }
      },
      "source": [
        "reps['aid'].describe()"
      ],
      "execution_count": 37,
      "outputs": [
        {
          "output_type": "execute_result",
          "data": {
            "text/plain": [
              "count    157.000000\n",
              "mean       0.152866\n",
              "std        0.361010\n",
              "min        0.000000\n",
              "25%        0.000000\n",
              "50%        0.000000\n",
              "75%        0.000000\n",
              "max        1.000000\n",
              "Name: aid, dtype: float64"
            ]
          },
          "metadata": {
            "tags": []
          },
          "execution_count": 37
        }
      ]
    },
    {
      "cell_type": "markdown",
      "metadata": {
        "id": "gSaK5Xcbc69W",
        "colab_type": "text"
      },
      "source": [
        "### Visuals:"
      ]
    },
    {
      "cell_type": "code",
      "metadata": {
        "id": "aedt_UJDe0-W",
        "colab_type": "code",
        "colab": {}
      },
      "source": [
        "from scipy import stats\n",
        "def confidence_interval(data,confidence=0.95):\n",
        "  m = data.mean()\n",
        "  s = data.sem()\n",
        "  confidence = 0.99\n",
        "  t = stats.t.ppf((1+confidence)/2,(len(data)-data.isnull().sum()))\n",
        "  error = s*t\n",
        "  return (m, m-error, m+error)"
      ],
      "execution_count": 0,
      "outputs": []
    },
    {
      "cell_type": "code",
      "metadata": {
        "id": "2JCA9xdXkxrJ",
        "colab_type": "code",
        "colab": {}
      },
      "source": [
        "from scipy.stats import norm\n",
        "\n",
        "def gauss_plot_direct(my_mean,my_stdev,color = 'b',out =1,scale =1):\n",
        "  lb = (my_mean-(my_stdev*out))\n",
        "  ub = (my_mean+(my_stdev*out))\n",
        "  x_axis = np.arange(lb,ub,0.01)\n",
        "  plt.plot(x_axis,norm.pdf(x_axis,my_mean,my_stdev),color =color)\n",
        "  return"
      ],
      "execution_count": 0,
      "outputs": []
    },
    {
      "cell_type": "code",
      "metadata": {
        "id": "IVM5h7lGnwDP",
        "colab_type": "code",
        "colab": {
          "base_uri": "https://localhost:8080/",
          "height": 278
        },
        "outputId": "5b7aafa6-7134-4e61-ecf0-a117753a83a0"
      },
      "source": [
        "reps.head()"
      ],
      "execution_count": 78,
      "outputs": [
        {
          "output_type": "execute_result",
          "data": {
            "text/html": [
              "<div>\n",
              "<style scoped>\n",
              "    .dataframe tbody tr th:only-of-type {\n",
              "        vertical-align: middle;\n",
              "    }\n",
              "\n",
              "    .dataframe tbody tr th {\n",
              "        vertical-align: top;\n",
              "    }\n",
              "\n",
              "    .dataframe thead th {\n",
              "        text-align: right;\n",
              "    }\n",
              "</style>\n",
              "<table border=\"1\" class=\"dataframe\">\n",
              "  <thead>\n",
              "    <tr style=\"text-align: right;\">\n",
              "      <th></th>\n",
              "      <th>handicapped-infants</th>\n",
              "      <th>water-project</th>\n",
              "      <th>budget-resolution</th>\n",
              "      <th>physician-fee-freeze</th>\n",
              "      <th>el-salvador-aid</th>\n",
              "      <th>relegious-groups</th>\n",
              "      <th>anti-sat-test-ban</th>\n",
              "      <th>aid</th>\n",
              "      <th>mx-missile</th>\n",
              "      <th>immigration</th>\n",
              "      <th>synfuels-corp</th>\n",
              "      <th>education-spending</th>\n",
              "      <th>superfund</th>\n",
              "      <th>crime</th>\n",
              "      <th>exports</th>\n",
              "      <th>export-sa</th>\n",
              "    </tr>\n",
              "  </thead>\n",
              "  <tbody>\n",
              "    <tr>\n",
              "      <th>republican</th>\n",
              "      <td>0.0</td>\n",
              "      <td>1.0</td>\n",
              "      <td>0.0</td>\n",
              "      <td>1.0</td>\n",
              "      <td>1.0</td>\n",
              "      <td>1.0</td>\n",
              "      <td>0.0</td>\n",
              "      <td>0.0</td>\n",
              "      <td>0.0</td>\n",
              "      <td>1.0</td>\n",
              "      <td>NaN</td>\n",
              "      <td>1.0</td>\n",
              "      <td>1.0</td>\n",
              "      <td>1.0</td>\n",
              "      <td>0.0</td>\n",
              "      <td>1.0</td>\n",
              "    </tr>\n",
              "    <tr>\n",
              "      <th>republican</th>\n",
              "      <td>0.0</td>\n",
              "      <td>1.0</td>\n",
              "      <td>0.0</td>\n",
              "      <td>1.0</td>\n",
              "      <td>1.0</td>\n",
              "      <td>1.0</td>\n",
              "      <td>0.0</td>\n",
              "      <td>0.0</td>\n",
              "      <td>0.0</td>\n",
              "      <td>0.0</td>\n",
              "      <td>0.0</td>\n",
              "      <td>1.0</td>\n",
              "      <td>1.0</td>\n",
              "      <td>1.0</td>\n",
              "      <td>0.0</td>\n",
              "      <td>NaN</td>\n",
              "    </tr>\n",
              "    <tr>\n",
              "      <th>republican</th>\n",
              "      <td>0.0</td>\n",
              "      <td>1.0</td>\n",
              "      <td>0.0</td>\n",
              "      <td>1.0</td>\n",
              "      <td>1.0</td>\n",
              "      <td>1.0</td>\n",
              "      <td>0.0</td>\n",
              "      <td>0.0</td>\n",
              "      <td>0.0</td>\n",
              "      <td>0.0</td>\n",
              "      <td>0.0</td>\n",
              "      <td>0.0</td>\n",
              "      <td>1.0</td>\n",
              "      <td>1.0</td>\n",
              "      <td>NaN</td>\n",
              "      <td>1.0</td>\n",
              "    </tr>\n",
              "    <tr>\n",
              "      <th>republican</th>\n",
              "      <td>0.0</td>\n",
              "      <td>1.0</td>\n",
              "      <td>0.0</td>\n",
              "      <td>1.0</td>\n",
              "      <td>1.0</td>\n",
              "      <td>1.0</td>\n",
              "      <td>0.0</td>\n",
              "      <td>0.0</td>\n",
              "      <td>0.0</td>\n",
              "      <td>0.0</td>\n",
              "      <td>0.0</td>\n",
              "      <td>1.0</td>\n",
              "      <td>1.0</td>\n",
              "      <td>1.0</td>\n",
              "      <td>0.0</td>\n",
              "      <td>1.0</td>\n",
              "    </tr>\n",
              "    <tr>\n",
              "      <th>republican</th>\n",
              "      <td>0.0</td>\n",
              "      <td>1.0</td>\n",
              "      <td>0.0</td>\n",
              "      <td>1.0</td>\n",
              "      <td>1.0</td>\n",
              "      <td>0.0</td>\n",
              "      <td>0.0</td>\n",
              "      <td>0.0</td>\n",
              "      <td>0.0</td>\n",
              "      <td>0.0</td>\n",
              "      <td>NaN</td>\n",
              "      <td>NaN</td>\n",
              "      <td>1.0</td>\n",
              "      <td>1.0</td>\n",
              "      <td>0.0</td>\n",
              "      <td>0.0</td>\n",
              "    </tr>\n",
              "  </tbody>\n",
              "</table>\n",
              "</div>"
            ],
            "text/plain": [
              "            handicapped-infants  water-project  ...  exports  export-sa\n",
              "republican                  0.0            1.0  ...      0.0        1.0\n",
              "republican                  0.0            1.0  ...      0.0        NaN\n",
              "republican                  0.0            1.0  ...      NaN        1.0\n",
              "republican                  0.0            1.0  ...      0.0        1.0\n",
              "republican                  0.0            1.0  ...      0.0        0.0\n",
              "\n",
              "[5 rows x 16 columns]"
            ]
          },
          "metadata": {
            "tags": []
          },
          "execution_count": 78
        }
      ]
    },
    {
      "cell_type": "code",
      "metadata": {
        "id": "PvZoSSy1laqC",
        "colab_type": "code",
        "colab": {
          "base_uri": "https://localhost:8080/",
          "height": 35
        },
        "outputId": "270a123e-55b4-470c-cc3a-48020a3f27f8"
      },
      "source": [
        "#Here is how I select the data for the visuals down below\n",
        "column = 'aid'\n",
        "dem_data = dems[column].dropna()\n",
        "rep_data = reps[column].dropna()\n",
        "rep_mvs = stats.bayes_mvs(rep_data,alpha = 0.9)\n",
        "dem_mvs = stats.bayes_mvs(dem_data,alpha = 0.9)\n",
        "rep_mvs[0]"
      ],
      "execution_count": 85,
      "outputs": [
        {
          "output_type": "execute_result",
          "data": {
            "text/plain": [
              "Mean(statistic=0.15286624203821655, minmax=(0.10519203191822998, 0.2005404521582031))"
            ]
          },
          "metadata": {
            "tags": []
          },
          "execution_count": 85
        }
      ]
    },
    {
      "cell_type": "code",
      "metadata": {
        "id": "P73x7N3NdIPu",
        "colab_type": "code",
        "colab": {
          "base_uri": "https://localhost:8080/",
          "height": 283
        },
        "outputId": "ab7f3b57-797e-4579-f476-79f2792bdd7c"
      },
      "source": [
        "import seaborn as sns\n",
        "\n",
        "fig, ax = plt.subplots();\n",
        "\n",
        "sns.distplot(dem_data,bins=2);\n",
        "sns.distplot(rep_data,bins=2);\n",
        "\n",
        "#This is the gaussian distribution of my data\n",
        "gauss_plot_direct(rep_data.mean(),rep_data.std(),out=2,color='r' )\n",
        "gauss_plot_direct(dem_data.mean(),dem_data.std(),out=2,)\n",
        "# plt.axvline(m,color='black'd')\n",
        "#Here I draw the gauss with the values collected from mvs\n",
        "\n",
        "# reps['water-project'].hist()\n",
        "# dems['water-project'].hist()"
      ],
      "execution_count": 88,
      "outputs": [
        {
          "output_type": "display_data",
          "data": {
            "image/png": "[encoded data removed]",
            "text/plain": [
              "<Figure size 432x288 with 1 Axes>"
            ]
          },
          "metadata": {
            "tags": []
          }
        }
      ]
    },
    {
      "cell_type": "markdown",
      "metadata": {
        "id": "z4MXQtYDDZM0",
        "colab_type": "text"
      },
      "source": [
        "## Confidence interval representation\n",
        "\n",
        "Now lets ask a question. There are two types of questions I have asked for this dataset\n"
      ]
    },
    {
      "cell_type": "markdown",
      "metadata": {
        "id": "_lefEISnyvX3",
        "colab_type": "text"
      },
      "source": [
        "## Difference between Bayesian and Frequentist statistics\n"
      ]
    },
    {
      "cell_type": "markdown",
      "metadata": {
        "id": "jwC0Bdu2y2lg",
        "colab_type": "text"
      },
      "source": [
        "\n",
        "The core assumption for bayes comes from the fact that you have a prior value. This prior value, I would assume, is often determined with frequentist statistics. How else are you going to have a good guess as to how many drunks there are compared to the average population? You can't use bayes on the dataset that would give you that value. You would have to use frequentist statistics\n",
        "\n",
        "Bayes is useful when you have prior information about a specific situation. \n",
        "\n",
        "Bayes is useful when you have a measurement/ indicator, but you are aware that the measurement/ indicator has some error in it.\n",
        "\n",
        "For example in the dataset with the politicians, you don't really  have any \"error\". It isn't like some of the democrats who voted yes \"accidentally\" voted yes. So, if I'm understanding the use case for bayes properly, there would be no point in modeling using bayes. On the other hand say there was a certain amount of measurement error in a device like an accelerometer. I have a fitbit. The screen of the fitbit only turns on when I raise my hand(as if I'm looking at it), but in certain cases I want to look at at, and I perform the motion, but nothing happens. I have to \"reset\" and try again before the screen shows. I think a situation like this could be modeled as \"two events\" with some level of conditional probability. You have accelerometer data as input to an algorithim that then has to decide if it should turn the screen on or not. a\n",
        "\n",
        "Another part of bayes seems to be \"linked\" information. The formats of the probabilities that I see used here \n",
        "\n",
        " You account for the error with bayes, and you don't for frequentist \"Base\" calculations. This error is \"accounted for\" by the confidence interval. It isn't perfectly accounted for, but it is accounted for in the sense  \n",
        "\n",
        "To be perfectly clear both bayes and frequentist statistics sill have some sort of \"error bars\" or \"i\n",
        "neither asserts an absolute value. They both awknowledge that there"
      ]
    },
    {
      "cell_type": "code",
      "metadata": {
        "id": "3UQG6y3sy0fQ",
        "colab_type": "code",
        "colab": {}
      },
      "source": [
        ""
      ],
      "execution_count": 0,
      "outputs": []
    },
    {
      "cell_type": "markdown",
      "metadata": {
        "id": "uWgWjp3PQ3Sq",
        "colab_type": "text"
      },
      "source": [
        "## Resources"
      ]
    },
    {
      "cell_type": "markdown",
      "metadata": {
        "id": "QRgHqmYIQ9qn",
        "colab_type": "text"
      },
      "source": [
        "- [Worked example of Bayes rule calculation](https://en.wikipedia.org/wiki/Bayes'_theorem#Examples) (helpful as it fully breaks out the denominator)\n",
        "- [Source code for mvsdist in scipy](https://github.com/scipy/scipy/blob/90534919e139d2a81c24bf08341734ff41a3db12/scipy/stats/morestats.py#L139)"
      ]
    },
    {
      "cell_type": "markdown",
      "metadata": {
        "id": "GP7Jv1XvwtkX",
        "colab_type": "text"
      },
      "source": [
        "## Stretch Goals:\n",
        "\n",
        "- Go back and study the content from Modules 1 & 2 to make sure that you're really comfortable with them.\n",
        "- Apply a Bayesian technique to a problem you previously worked (in an assignment or project work) on from a frequentist (standard) perspective\n",
        "- Check out [PyMC3](https://docs.pymc.io/) (note this goes beyond hypothesis tests into modeling) - read the guides and work through some examples\n",
        "- Take PyMC3 further - see if you can build something with it!"
      ]
    },
    {
      "cell_type": "code",
      "metadata": {
        "id": "iDi0eFr1x-v_",
        "colab_type": "code",
        "colab": {}
      },
      "source": [
        ""
      ],
      "execution_count": 0,
      "outputs": []
    }
  ]
}