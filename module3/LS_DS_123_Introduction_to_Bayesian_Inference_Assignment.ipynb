{
  "nbformat": 4,
  "nbformat_minor": 0,
  "metadata": {
    "colab": {
      "name": "LS_DS_123_Introduction_to_Bayesian_Inference_Assignment.ipynb",
      "provenance": [],
      "collapsed_sections": [],
      "include_colab_link": true
    },
    "kernelspec": {
      "name": "python3",
      "display_name": "Python 3"
    }
  },
  "cells": [
    {
      "cell_type": "markdown",
      "metadata": {
        "id": "view-in-github",
        "colab_type": "text"
      },
      "source": [
        "<a href=\"https://colab.research.google.com/github/tigju/DS-Unit-1-Sprint-2-Statistics/blob/master/module3/LS_DS_123_Introduction_to_Bayesian_Inference_Assignment.ipynb\" target=\"_parent\"><img src=\"https://colab.research.google.com/assets/colab-badge.svg\" alt=\"Open In Colab\"/></a>"
      ]
    },
    {
      "cell_type": "markdown",
      "metadata": {
        "id": "H7OLbevlbd_Z",
        "colab_type": "text"
      },
      "source": [
        "# Lambda School Data Science Module 123\n",
        "\n",
        "## Introduction to Bayesian Inference\n",
        "\n",
        "\n"
      ]
    },
    {
      "cell_type": "markdown",
      "metadata": {
        "id": "P-DzzRk5bf0z",
        "colab_type": "text"
      },
      "source": [
        "## Assignment - Code it up!\n",
        "\n",
        "We used pure math to apply Bayes Theorem to drug tests. Now write Python code to reproduce the results! This is purposefully open ended - you'll have to think about how you should represent probabilities and events. You can and should look things up.\n",
        "\n",
        "Specific goals/targets:\n",
        "\n",
        "### 1) Write a function \n",
        "\n",
        "`def prob_drunk_given_positive(prob_drunk_prior, false_positive_rate, true_positive_rate):` \n",
        "\n",
        "In this example, imagine that individuals are taking a breathalyzer test with an 8% false positive rate, a 100% true positive rate, and that our prior belief about drunk driving in the population is 1/1000. \n",
        " - What is the probability that a person is drunk after one positive breathalyzer test?\n",
        " - What is the probability that a person is drunk after two positive breathalyzer tests?\n",
        " - How many positive breathalyzer tests are needed in order to have a probability that's greater than 95% that a person is drunk beyond the legal limit?\n",
        "\n",
        "### 2) Explore `scipy.stats.bayes_mvs`  \n",
        "Read its documentation, and experiment with it on data you've tested in other ways earlier this week.\n",
        " - Create a visualization comparing the results of a Bayesian approach to a traditional/frequentist approach. (with a large sample size they should look close to identical, however, take this opportunity to practice visualizing condfidence intervals in general. The following are some potential ways that you could visualize confidence intervals on your graph:\n",
        "  - [Matplotlib Error Bars](https://matplotlib.org/3.1.1/api/_as_gen/matplotlib.pyplot.errorbar.html)\n",
        "  - [Seaborn barplot with error bars](https://seaborn.pydata.org/generated/seaborn.barplot.html)\n",
        "  - [Vertical ines to show bounds of confidence interval](https://www.simplypsychology.org/confidence-interval.jpg)\n",
        "  - [Confidence Intervals on Box Plots](https://matplotlib.org/3.1.1/api/_as_gen/matplotlib.axes.Axes.boxplot.html)\n",
        "\n",
        "### 3) In your own words, summarize the difference between Bayesian and Frequentist statistics\n",
        "\n",
        "If you're unsure where to start, check out [this blog post of Bayes theorem with Python](https://dataconomy.com/2015/02/introduction-to-bayes-theorem-with-python/).\n",
        "\n"
      ]
    },
    {
      "cell_type": "code",
      "metadata": {
        "id": "xpVhZyUnbf7o",
        "colab_type": "code",
        "colab": {}
      },
      "source": [
        "# TODO - code!"
      ],
      "execution_count": 0,
      "outputs": []
    },
    {
      "cell_type": "markdown",
      "metadata": {
        "id": "Rr4_-Sbfz_yY",
        "colab_type": "text"
      },
      "source": [
        "# 1)"
      ]
    },
    {
      "cell_type": "code",
      "metadata": {
        "id": "_iH61D5VL0kH",
        "colab_type": "code",
        "colab": {}
      },
      "source": [
        "# prior belief\n",
        "prior_probability = 1/1000\n",
        "\n",
        "# probability that person is drunk (is our prior probability)  P(drunk)\n",
        "drunk_probability = prior_probability\n",
        "\n",
        "# probability positive given drunk person (True positive rate)\n",
        "p_pos_given_drunk = 1\n",
        "\n",
        "# probability positive given not drunk person (False positive rate)\n",
        "p_pos_given_not_drunk = 0.08\n",
        "\n",
        "#  probability that person is not drunk (is 1 minus drunk_probability (our prior probability))  P(not drunk)\n",
        "not_drunk_probability = 1 - drunk_probability\n",
        "\n",
        "# what comes out of Bayes Theorem\n",
        "# posterior_probability"
      ],
      "execution_count": 0,
      "outputs": []
    },
    {
      "cell_type": "code",
      "metadata": {
        "id": "rsR_L5uDQZie",
        "colab_type": "code",
        "colab": {}
      },
      "source": [
        "posterior_probability = (p_pos_given_drunk*drunk_probability)/((p_pos_given_drunk*drunk_probability)+(p_pos_given_not_drunk*not_drunk_probability))"
      ],
      "execution_count": 0,
      "outputs": []
    },
    {
      "cell_type": "code",
      "metadata": {
        "id": "UwSbQOpJR0lg",
        "colab_type": "code",
        "outputId": "b0ca1f6a-2272-402c-9b53-d56802e16795",
        "colab": {
          "base_uri": "https://localhost:8080/",
          "height": 35
        }
      },
      "source": [
        "posterior_probability"
      ],
      "execution_count": 13,
      "outputs": [
        {
          "output_type": "execute_result",
          "data": {
            "text/plain": [
              "0.012357884330202669"
            ]
          },
          "metadata": {
            "tags": []
          },
          "execution_count": 13
        }
      ]
    },
    {
      "cell_type": "code",
      "metadata": {
        "id": "1LRRhbsGnxpk",
        "colab_type": "code",
        "outputId": "f7794e8c-a0dc-4ece-e2db-c99fefc0683c",
        "colab": {
          "base_uri": "https://localhost:8080/",
          "height": 35
        }
      },
      "source": [
        "prior_probability = posterior_probability\n",
        "drunk_probability = prior_probability\n",
        "p_pos_given_drunk = 1\n",
        "p_pos_given_not_drunk = 0.08\n",
        "not_drunk_probability = 1 - drunk_probability\n",
        "posterior_probability = (p_pos_given_drunk*drunk_probability)/((p_pos_given_drunk*drunk_probability)+(p_pos_given_not_drunk*not_drunk_probability))\n",
        "posterior_probability"
      ],
      "execution_count": 14,
      "outputs": [
        {
          "output_type": "execute_result",
          "data": {
            "text/plain": [
              "0.13525210993291495"
            ]
          },
          "metadata": {
            "tags": []
          },
          "execution_count": 14
        }
      ]
    },
    {
      "cell_type": "code",
      "metadata": {
        "id": "CQFk6XlqoAZX",
        "colab_type": "code",
        "outputId": "6317a25f-431b-4909-b116-304dbb969ee2",
        "colab": {
          "base_uri": "https://localhost:8080/",
          "height": 35
        }
      },
      "source": [
        "prior_probability = posterior_probability\n",
        "drunk_probability = prior_probability\n",
        "p_pos_given_drunk = 1\n",
        "p_pos_given_not_drunk = 0.08\n",
        "not_drunk_probability = 1 - drunk_probability\n",
        "posterior_probability = (p_pos_given_drunk*drunk_probability)/((p_pos_given_drunk*drunk_probability)+(p_pos_given_not_drunk*not_drunk_probability))\n",
        "posterior_probability"
      ],
      "execution_count": 15,
      "outputs": [
        {
          "output_type": "execute_result",
          "data": {
            "text/plain": [
              "0.6615996951348605"
            ]
          },
          "metadata": {
            "tags": []
          },
          "execution_count": 15
        }
      ]
    },
    {
      "cell_type": "code",
      "metadata": {
        "id": "vL5bIZFLoD0Q",
        "colab_type": "code",
        "outputId": "a44dbe0b-f092-4e1f-c9e2-4f8b3f0e404f",
        "colab": {
          "base_uri": "https://localhost:8080/",
          "height": 35
        }
      },
      "source": [
        "prior_probability = posterior_probability\n",
        "drunk_probability = prior_probability\n",
        "p_pos_given_drunk = 1\n",
        "p_pos_given_not_drunk = 0.08\n",
        "not_drunk_probability = 1 - drunk_probability\n",
        "posterior_probability = (p_pos_given_drunk*drunk_probability)/((p_pos_given_drunk*drunk_probability)+(p_pos_given_not_drunk*not_drunk_probability))\n",
        "posterior_probability"
      ],
      "execution_count": 16,
      "outputs": [
        {
          "output_type": "execute_result",
          "data": {
            "text/plain": [
              "0.9606895076105054"
            ]
          },
          "metadata": {
            "tags": []
          },
          "execution_count": 16
        }
      ]
    },
    {
      "cell_type": "code",
      "metadata": {
        "id": "QdvObfrs0D0i",
        "colab_type": "code",
        "colab": {}
      },
      "source": [
        "def prob_drunk_given_positive(prob_drunk_prior, false_positive_rate, true_positive_rate):\n",
        "  counter = 0\n",
        "  while prob_drunk_prior < .95:\n",
        "    if counter == 1:\n",
        "      print(f\"probability that a person is drunk after one positive breathalyzer test is {prob_drunk_prior*100:.1f}%\")\n",
        "    if counter == 2:\n",
        "      print(f\"probability that a person is drunk after two positive breathalyzer tests is {prob_drunk_prior*100:.1f}%\")\n",
        "    counter += 1\n",
        "    drunk_p = prob_drunk_prior\n",
        "    not_drunk_p = 1 - drunk_p\n",
        "    posterior_p = (true_positive_rate*drunk_p)/((true_positive_rate*drunk_p)+(false_positive_rate*not_drunk_p))\n",
        "    prob_drunk_prior = posterior_p\n",
        "  return f\"Positive breathalyzer tests are needed {counter} times in order to have {prob_drunk_prior} probability\""
      ],
      "execution_count": 0,
      "outputs": []
    },
    {
      "cell_type": "code",
      "metadata": {
        "id": "7RxV1bVPUeaN",
        "colab_type": "code",
        "outputId": "ec7e77b4-cd49-4021-ed9a-070db833862b",
        "colab": {
          "base_uri": "https://localhost:8080/",
          "height": 70
        }
      },
      "source": [
        "print(prob_drunk_given_positive(1/1000, 0.08, 1))"
      ],
      "execution_count": 30,
      "outputs": [
        {
          "output_type": "stream",
          "text": [
            "probability that a person is drunk after one positive breathalyzer test is 1.2%\n",
            "probability that a person is drunk after two positive breathalyzer tests is 13.5%\n",
            "Positive breathalyzer tests are needed 4 times in order to have 0.9606895076105054 probability\n"
          ],
          "name": "stdout"
        }
      ]
    },
    {
      "cell_type": "code",
      "metadata": {
        "id": "8JtvkH_eWVD2",
        "colab_type": "code",
        "colab": {}
      },
      "source": [
        "# recursive approach\n",
        "# def prob_drunk_given_positive(prob_drunk_prior, false_positive_rate, true_positive_rate, count=0):\n",
        "#   print(count)\n",
        "#   if count == 1:\n",
        "#     print(f\"probability that a person is drunk after one positive breathalyzer test is {prob_drunk_prior*100:.1f}%\")\n",
        "#   if count == 2:\n",
        "#     print(f\"probability that a person is drunk after two positive breathalyzer tests is {prob_drunk_prior*100:.1f}%\")\n",
        "#   if prob_drunk_prior > 0.95:\n",
        "#       return f\"Positive breathalyzer tests are needed {count} times in order to have {prob_drunk_prior*100:.1f}% probability\"\n",
        "#   else:\n",
        "#     count+=1\n",
        "#     drunk_p = prob_drunk_prior\n",
        "#     not_drunk_p = 1 - drunk_p\n",
        "#     posterior_p = (true_positive_rate*drunk_p)/((true_positive_rate*drunk_p)+(false_positive_rate*not_drunk_p))\n",
        "#     return prob_drunk_given_positive(posterior_p, false_positive_rate, true_positive_rate, count)"
      ],
      "execution_count": 0,
      "outputs": []
    },
    {
      "cell_type": "code",
      "metadata": {
        "id": "s4Ju9iN9XWph",
        "colab_type": "code",
        "colab": {}
      },
      "source": [
        "# print(prob_drunk_given_positive(1/1000, 0.08, 1))"
      ],
      "execution_count": 0,
      "outputs": []
    },
    {
      "cell_type": "markdown",
      "metadata": {
        "id": "peUjbJLVKbjM",
        "colab_type": "text"
      },
      "source": [
        "#2)"
      ]
    },
    {
      "cell_type": "code",
      "metadata": {
        "id": "gMzN3cKGKZDH",
        "colab_type": "code",
        "colab": {}
      },
      "source": [
        ""
      ],
      "execution_count": 0,
      "outputs": []
    },
    {
      "cell_type": "markdown",
      "metadata": {
        "id": "AQQR3PCrPVeL",
        "colab_type": "text"
      },
      "source": [
        "#3) In your own words, summarize the difference between Bayesian and Frequentist statistics\n",
        "\n",
        "Frequentist statistics do not have any prior data to model distribution, it relies on sapmling the data from the population given. After sampling and applying techniques such as Confidence Interval and Hypothesis testing, it will come up to a probability statements. Bayesian statistics have the distribution reflecting some prior data or knowledge (that taken from any source), before collecting any data. After collecting some data, it would update the prior distribution to get a new probability, called posterior probability."
      ]
    },
    {
      "cell_type": "markdown",
      "metadata": {
        "id": "uWgWjp3PQ3Sq",
        "colab_type": "text"
      },
      "source": [
        "## Resources"
      ]
    },
    {
      "cell_type": "markdown",
      "metadata": {
        "id": "QRgHqmYIQ9qn",
        "colab_type": "text"
      },
      "source": [
        "- [Worked example of Bayes rule calculation](https://en.wikipedia.org/wiki/Bayes'_theorem#Examples) (helpful as it fully breaks out the denominator)\n",
        "- [Source code for mvsdist in scipy](https://github.com/scipy/scipy/blob/90534919e139d2a81c24bf08341734ff41a3db12/scipy/stats/morestats.py#L139)"
      ]
    },
    {
      "cell_type": "markdown",
      "metadata": {
        "id": "GP7Jv1XvwtkX",
        "colab_type": "text"
      },
      "source": [
        "## Stretch Goals:\n",
        "\n",
        "- Go back and study the content from Modules 1 & 2 to make sure that you're really comfortable with them.\n",
        "- Apply a Bayesian technique to a problem you previously worked (in an assignment or project work) on from a frequentist (standard) perspective\n",
        "- Check out [PyMC3](https://docs.pymc.io/) (note this goes beyond hypothesis tests into modeling) - read the guides and work through some examples\n",
        "- Take PyMC3 further - see if you can build something with it!"
      ]
    },
    {
      "cell_type": "code",
      "metadata": {
        "id": "iDi0eFr1x-v_",
        "colab_type": "code",
        "colab": {}
      },
      "source": [
        ""
      ],
      "execution_count": 0,
      "outputs": []
    }
  ]
}