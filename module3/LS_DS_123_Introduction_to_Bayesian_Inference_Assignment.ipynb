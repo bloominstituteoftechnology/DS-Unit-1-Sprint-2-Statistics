{
  "nbformat": 4,
  "nbformat_minor": 0,
  "metadata": {
    "colab": {
      "name": "Copy of LS_DS_123_Introduction_to_Bayesian_Inference_Assignment.ipynb",
      "provenance": [],
      "include_colab_link": true
    },
    "kernelspec": {
      "name": "python3",
      "display_name": "Python 3"
    }
  },
  "cells": [
    {
      "cell_type": "markdown",
      "metadata": {
        "id": "view-in-github",
        "colab_type": "text"
      },
      "source": [
        "<a href=\"https://colab.research.google.com/github/karencfisher/DS-Unit-1-Sprint-2-Statistics/blob/master/module3/LS_DS_123_Introduction_to_Bayesian_Inference_Assignment.ipynb\" target=\"_parent\"><img src=\"https://colab.research.google.com/assets/colab-badge.svg\" alt=\"Open In Colab\"/></a>"
      ]
    },
    {
      "cell_type": "markdown",
      "metadata": {
        "id": "H7OLbevlbd_Z",
        "colab_type": "text"
      },
      "source": [
        "# Lambda School Data Science Module 123\n",
        "\n",
        "## Introduction to Bayesian Inference\n",
        "\n",
        "\n"
      ]
    },
    {
      "cell_type": "code",
      "metadata": {
        "id": "xpVhZyUnbf7o",
        "colab_type": "code",
        "outputId": "cdbf67a5-02a6-40c8-fcab-a9b3e8e05e64",
        "colab": {
          "base_uri": "https://localhost:8080/",
          "height": 71
        }
      },
      "source": [
        "import numpy as np\n",
        "import matplotlib.pyplot as plt\n",
        "import seaborn as sns\n",
        "import pandas as pd\n",
        "from scipy.stats import bayes_mvs, t"
      ],
      "execution_count": 1,
      "outputs": [
        {
          "output_type": "stream",
          "text": [
            "/usr/local/lib/python3.6/dist-packages/statsmodels/tools/_testing.py:19: FutureWarning: pandas.util.testing is deprecated. Use the functions in the public API at pandas.testing instead.\n",
            "  import pandas.util.testing as tm\n"
          ],
          "name": "stderr"
        }
      ]
    },
    {
      "cell_type": "markdown",
      "metadata": {
        "id": "P-DzzRk5bf0z",
        "colab_type": "text"
      },
      "source": [
        "## Assignment - Code it up!\n",
        "\n",
        "We used pure math to apply Bayes Theorem to drug tests. Now write Python code to reproduce the results! This is purposefully open ended - you'll have to think about how you should represent probabilities and events. You can and should look things up.\n",
        "\n",
        "Specific goals/targets:\n",
        "\n",
        "### 1) Write a function \n",
        "\n",
        "`def prob_drunk_given_positive(prob_drunk_prior, false_positive_rate, true_positive_rate):` \n",
        "\n",
        "You should only truly need these two values in order to apply Bayes Theorem. In this example, imagine that individuals are taking a breathalyzer test with an 8% false positive rate, a 100% true positive rate, and that our prior belief about drunk driving in the population is 1/1000. \n",
        " - What is the probability that a person is drunk after one positive breathalyzer test?\n",
        " - What is the probability that a person is drunk after two positive breathalyzer tests?\n",
        " - How many positive breathalyzer tests are needed in order to have a probability that's greater than 95% that a person is drunk beyond the legal limit?\n",
        "\n"
      ]
    },
    {
      "cell_type": "code",
      "metadata": {
        "id": "_GNlk3W66cFy",
        "colab_type": "code",
        "colab": {}
      },
      "source": [
        "def bayes_prob(prior, true_positive, false_positive):\n",
        "  '''\n",
        "  Calculate Baysian probability given test result\n",
        "  '''\n",
        "\n",
        "  marginal = true_positive * prior + (false_positive * (1 - prior))\n",
        "  prob = (true_positive * prior) / marginal\n",
        "  return prob\n",
        "\n",
        "\n",
        "def iterative_prob(prior, true_positive, false_positive, threshold):\n",
        "  '''\n",
        "  Iteratively calculate baysian probability until specified threshold,\n",
        "  and display results\n",
        "  '''\n",
        "\n",
        "  probabilities = []\n",
        "  new_prior = prior\n",
        "  iteration = 0\n",
        "  p = 0\n",
        "  while p < threshold:\n",
        "    p = bayes_prob(new_prior, true_positive, false_positive)\n",
        "    probabilities.append(p)\n",
        "    iteration += 1\n",
        "    new_prior = p\n",
        "    print('Iteration: %i Probability: %f' % (iteration, p))\n",
        "\n",
        "  print('\\n')\n",
        "  plt.plot(range(1, iteration + 1), probabilities, '-o')\n",
        "  plt.xlabel('Iteration')\n",
        "  plt.ylabel('Probability')\n",
        "  plt.show()\n",
        "\n"
      ],
      "execution_count": 0,
      "outputs": []
    },
    {
      "cell_type": "code",
      "metadata": {
        "id": "9PGedmSP9zaO",
        "colab_type": "code",
        "outputId": "6b6d5831-9ff1-446f-e6f3-a4f8ea8f1115",
        "colab": {
          "base_uri": "https://localhost:8080/",
          "height": 384
        }
      },
      "source": [
        "true_positive = 1\n",
        "false_positive = .08\n",
        "expected_prob = 1 / 1000\n",
        "iterative_prob(expected_prob, true_positive, false_positive, .95)"
      ],
      "execution_count": 0,
      "outputs": [
        {
          "output_type": "stream",
          "text": [
            "Iteration: 1 Probability: 0.012358\n",
            "Iteration: 2 Probability: 0.135252\n",
            "Iteration: 3 Probability: 0.661600\n",
            "Iteration: 4 Probability: 0.960690\n",
            "\n",
            "\n"
          ],
          "name": "stdout"
        },
        {
          "output_type": "display_data",
          "data": {
            "image/png": "[encoded data removed]",
            "text/plain": [
              "<Figure size 432x288 with 1 Axes>"
            ]
          },
          "metadata": {
            "tags": [],
            "needs_background": "light"
          }
        }
      ]
    },
    {
      "cell_type": "markdown",
      "metadata": {
        "id": "M1_orry7DHOm",
        "colab_type": "text"
      },
      "source": [
        "### 2) Explore `scipy.stats.bayes_mvs`  \n",
        "Read its documentation, and experiment with it on data you've tested in other ways earlier this week.\n",
        " - Create a visualization comparing the results of a Bayesian approach to a traditional/frequentist approach. (with a large sample size they should look close to identical, however, take this opportunity to practice visualizing condfidence intervals in general. The following are some potential ways that you could visualize confidence intervals on your graph:\n",
        "  - [Matplotlib Error Bars](https://matplotlib.org/3.1.1/api/_as_gen/matplotlib.pyplot.errorbar.html)\n",
        "  - [Seaborn barplot with error bars](https://seaborn.pydata.org/generated/seaborn.barplot.html)\n",
        "  - [Vertical ines to show bounds of confidence interval](https://www.simplypsychology.org/confidence-interval.jpg)\n",
        "  - [Confidence Intervals on Box Plots](https://matplotlib.org/3.1.1/api/_as_gen/matplotlib.axes.Axes.boxplot.html)\n",
        "\n",
        "\n",
        "\n"
      ]
    },
    {
      "cell_type": "markdown",
      "metadata": {
        "id": "2UkFfHYk7slY",
        "colab_type": "text"
      },
      "source": [
        "**Sale prices from the Ames Housing Dataset**"
      ]
    },
    {
      "cell_type": "code",
      "metadata": {
        "id": "3qbBBTmWmRAi",
        "colab_type": "code",
        "outputId": "2055d0c5-d1b2-46c5-f4ae-aefbaf3b5b46",
        "colab": {
          "base_uri": "https://localhost:8080/",
          "height": 204
        }
      },
      "source": [
        "# Get just prices, and HouseStyle for use further on\n",
        "url = 'https://raw.githubusercontent.com/ryanleeallred/datasets/master/Ames%20Housing%20Data/train.csv'\n",
        "Ames_df = pd. read_csv(url)\n",
        "Ames_df = Ames_df[['HouseStyle', 'SalePrice']]\n",
        "Ames_df.head()"
      ],
      "execution_count": 2,
      "outputs": [
        {
          "output_type": "execute_result",
          "data": {
            "text/html": [
              "<div>\n",
              "<style scoped>\n",
              "    .dataframe tbody tr th:only-of-type {\n",
              "        vertical-align: middle;\n",
              "    }\n",
              "\n",
              "    .dataframe tbody tr th {\n",
              "        vertical-align: top;\n",
              "    }\n",
              "\n",
              "    .dataframe thead th {\n",
              "        text-align: right;\n",
              "    }\n",
              "</style>\n",
              "<table border=\"1\" class=\"dataframe\">\n",
              "  <thead>\n",
              "    <tr style=\"text-align: right;\">\n",
              "      <th></th>\n",
              "      <th>HouseStyle</th>\n",
              "      <th>SalePrice</th>\n",
              "    </tr>\n",
              "  </thead>\n",
              "  <tbody>\n",
              "    <tr>\n",
              "      <th>0</th>\n",
              "      <td>2Story</td>\n",
              "      <td>208500</td>\n",
              "    </tr>\n",
              "    <tr>\n",
              "      <th>1</th>\n",
              "      <td>1Story</td>\n",
              "      <td>181500</td>\n",
              "    </tr>\n",
              "    <tr>\n",
              "      <th>2</th>\n",
              "      <td>2Story</td>\n",
              "      <td>223500</td>\n",
              "    </tr>\n",
              "    <tr>\n",
              "      <th>3</th>\n",
              "      <td>2Story</td>\n",
              "      <td>140000</td>\n",
              "    </tr>\n",
              "    <tr>\n",
              "      <th>4</th>\n",
              "      <td>2Story</td>\n",
              "      <td>250000</td>\n",
              "    </tr>\n",
              "  </tbody>\n",
              "</table>\n",
              "</div>"
            ],
            "text/plain": [
              "  HouseStyle  SalePrice\n",
              "0     2Story     208500\n",
              "1     1Story     181500\n",
              "2     2Story     223500\n",
              "3     2Story     140000\n",
              "4     2Story     250000"
            ]
          },
          "metadata": {
            "tags": []
          },
          "execution_count": 2
        }
      ]
    },
    {
      "cell_type": "markdown",
      "metadata": {
        "id": "t-49nvkdjYKh",
        "colab_type": "text"
      },
      "source": [
        "**Frequentist confidence interval**\n"
      ]
    },
    {
      "cell_type": "code",
      "metadata": {
        "id": "zcpdMggpDhzK",
        "colab_type": "code",
        "colab": {}
      },
      "source": [
        "def confidence_interval(sample, cl):\n",
        "  '''\n",
        "  Calculate mean, confidence interval\n",
        "\n",
        "  sample: data to process, such as Pandas series\n",
        "  cl: confidence limit (e.g. 0.95)\n",
        "\n",
        "  return: list of mean, lower and upper limits for CI\n",
        "  '''\n",
        "  \n",
        "  n = len(sample)\n",
        "  dof = n - 1\n",
        "  sample_mean = sum(sample) / n\n",
        "  sample_std = np.sqrt(sum((sample - sample_mean)**2) / (n-1))\n",
        "  sample_se = sample_std / np.sqrt(n)\n",
        "  t_stat = t.ppf((1 + cl) / 2, dof)\n",
        "  sample_me = t_stat * sample_se\n",
        "  upper_conf = sample_mean + sample_me\n",
        "  lower_conf = sample_mean - sample_me\n",
        "\n",
        "  return [sample_mean, lower_conf, upper_conf]\n"
      ],
      "execution_count": 0,
      "outputs": []
    },
    {
      "cell_type": "code",
      "metadata": {
        "id": "vN968RRTDhpR",
        "colab_type": "code",
        "outputId": "36a813fa-12bf-423c-e764-32967327f23c",
        "colab": {
          "base_uri": "https://localhost:8080/",
          "height": 34
        }
      },
      "source": [
        "freq_ci = confidence_interval(Ames_df['SalePrice'], .95)\n",
        "freq_ci"
      ],
      "execution_count": 4,
      "outputs": [
        {
          "output_type": "execute_result",
          "data": {
            "text/plain": [
              "[180921.19589041095, 176842.84104108496, 184999.55073973694]"
            ]
          },
          "metadata": {
            "tags": []
          },
          "execution_count": 4
        }
      ]
    },
    {
      "cell_type": "markdown",
      "metadata": {
        "id": "A1AkbIZhqQTR",
        "colab_type": "text"
      },
      "source": [
        "**Bayesian confidence interval**"
      ]
    },
    {
      "cell_type": "code",
      "metadata": {
        "id": "-0282Iq4qcF4",
        "colab_type": "code",
        "outputId": "f58febcc-679a-4957-e245-c3dad1a8a05f",
        "colab": {
          "base_uri": "https://localhost:8080/",
          "height": 34
        }
      },
      "source": [
        "bayes_stats = bayes_mvs(Ames_df['SalePrice'])\n",
        "bayes_ci = bayes_stats[0]\n",
        "bayes_ci"
      ],
      "execution_count": 5,
      "outputs": [
        {
          "output_type": "execute_result",
          "data": {
            "text/plain": [
              "Mean(statistic=180921.19589041095, minmax=(177502.54333066105, 184339.84845016085))"
            ]
          },
          "metadata": {
            "tags": []
          },
          "execution_count": 5
        }
      ]
    },
    {
      "cell_type": "markdown",
      "metadata": {
        "id": "ML3XzLhwwadC",
        "colab_type": "text"
      },
      "source": [
        "**Graphic Comparison**  \n",
        "Density plot of data, with CI as span"
      ]
    },
    {
      "cell_type": "code",
      "metadata": {
        "id": "5X0H9BdLqb1A",
        "colab_type": "code",
        "outputId": "a96ceaed-6ec9-40c7-edf5-ad10b8cd938d",
        "colab": {
          "base_uri": "https://localhost:8080/",
          "height": 290
        }
      },
      "source": [
        "sns.distplot(Ames_df['SalePrice'], hist=False, rug=False)\n",
        "plt.xlim(0, 350000)\n",
        "plt.axvspan(freq_ci[1], freq_ci[2], facecolor='r', alpha=0.2, label='Frequentist')\n",
        "plt.axvline(freq_ci[0], color='red', label=\"Frequentist mean\")\n",
        "plt.axvspan(bayes_ci[1][0], bayes_ci[1][1], facecolor='b', alpha=0.2, label='Bayesian')\n",
        "plt.axvline(bayes_ci[0], color='blue', label=\"Frequentist mean\")\n",
        "plt.legend();"
      ],
      "execution_count": 6,
      "outputs": [
        {
          "output_type": "display_data",
          "data": {
            "image/png": "[encoded data removed]",
            "text/plain": [
              "<Figure size 432x288 with 1 Axes>"
            ]
          },
          "metadata": {
            "tags": [],
            "needs_background": "light"
          }
        }
      ]
    },
    {
      "cell_type": "markdown",
      "metadata": {
        "id": "wnbmvNjOxxxA",
        "colab_type": "text"
      },
      "source": [
        "Zoom in even more to see difference in confidence intervals."
      ]
    },
    {
      "cell_type": "code",
      "metadata": {
        "id": "GrjT_243qbmq",
        "colab_type": "code",
        "outputId": "3303f21f-2063-43f5-ed2b-d766396c4698",
        "colab": {
          "base_uri": "https://localhost:8080/",
          "height": 290
        }
      },
      "source": [
        "sns.distplot(Ames_df['SalePrice'], hist=False, rug=False)\n",
        "plt.xlim(170000, 190000)\n",
        "plt.axvspan(freq_ci[1], freq_ci[2], facecolor='r', alpha=0.2, label='Frequentist CI')\n",
        "plt.axvline(freq_ci[0], color='red', label=\"Frequentist mean\")\n",
        "plt.axvspan(bayes_ci[1][0], bayes_ci[1][1], facecolor='b', alpha=0.2, label='Bayesian CI')\n",
        "plt.axvline(bayes_ci[0], color='blue', label=\"Frequentist mean\")\n",
        "plt.legend();"
      ],
      "execution_count": 7,
      "outputs": [
        {
          "output_type": "display_data",
          "data": {
            "image/png": "[encoded data removed]",
            "text/plain": [
              "<Figure size 432x288 with 1 Axes>"
            ]
          },
          "metadata": {
            "tags": [],
            "needs_background": "light"
          }
        }
      ]
    },
    {
      "cell_type": "markdown",
      "metadata": {
        "id": "Z_adNXEyDLjR",
        "colab_type": "text"
      },
      "source": [
        "### 3) In your own words, summarize the difference between Bayesian and Frequentist statistics\n",
        "\n",
        "If you're unsure where to start, check out [this blog post of Bayes theorem with Python](https://dataconomy.com/2015/02/introduction-to-bayes-theorem-with-python/)."
      ]
    },
    {
      "cell_type": "markdown",
      "metadata": {
        "id": "p8kfFaam9MM6",
        "colab_type": "text"
      },
      "source": [
        "*Frequentist statistics focus on objective probability. To seek to avoid bias, samples are used to rule out the null hypothesis to support (or not) a given hypothesis. It allows the data to drive the process, which is obective, even if the ultimate parameters remain unknown. Bayesian statistics, on the other hand, begin with a subjective probability, belief, intuition, or and initial hypothesis, in it's more poular sense of the word (the \"prior\"). It then seeks to refine that hypothesis given the observed data (the \"posterior\"). The latter more embraces uncertainty, and belief.*\n",
        "\n",
        "*The Scipy.stats.bayes_mvs function returns a somewhat narrower confidence interval than a frequentist calculation, with the same 95% confidence level.* \n",
        "\n"
      ]
    },
    {
      "cell_type": "markdown",
      "metadata": {
        "id": "uWgWjp3PQ3Sq",
        "colab_type": "text"
      },
      "source": [
        "## Resources"
      ]
    },
    {
      "cell_type": "markdown",
      "metadata": {
        "id": "QRgHqmYIQ9qn",
        "colab_type": "text"
      },
      "source": [
        "- [Worked example of Bayes rule calculation](https://en.wikipedia.org/wiki/Bayes'_theorem#Examples) (helpful as it fully breaks out the denominator)\n",
        "- [Source code for mvsdist in scipy](https://github.com/scipy/scipy/blob/90534919e139d2a81c24bf08341734ff41a3db12/scipy/stats/morestats.py#L139)"
      ]
    },
    {
      "cell_type": "markdown",
      "metadata": {
        "id": "GP7Jv1XvwtkX",
        "colab_type": "text"
      },
      "source": [
        "## Stretch Goals:\n",
        "\n",
        "- Go back and study the content from Modules 1 & 2 to make sure that you're really comfortable with them.\n",
        "- Apply a Bayesian technique to a problem you previously worked (in an assignment or project work) on from a frequentist (standard) perspective\n",
        "- Check out [PyMC3](https://docs.pymc.io/) (note this goes beyond hypothesis tests into modeling) - read the guides and work through some examples\n",
        "- Take PyMC3 further - see if you can build something with it!"
      ]
    },
    {
      "cell_type": "markdown",
      "metadata": {
        "id": "AvAjdgzYZXZ5",
        "colab_type": "text"
      },
      "source": [
        "# What is the probability P(A|B) of a house being two story, given it's high price?\n",
        "Using Bayes theorem.\n",
        "\n",
        "\n"
      ]
    },
    {
      "cell_type": "code",
      "metadata": {
        "id": "iDi0eFr1x-v_",
        "colab_type": "code",
        "outputId": "e6594182-3ca1-412a-b966-55c243f0b1be",
        "colab": {
          "base_uri": "https://localhost:8080/",
          "height": 204
        }
      },
      "source": [
        "# Refine the Ames to look four just one and two story cases in HouseStyle\n",
        "Ames_df = Ames_df[Ames_df['HouseStyle'].isin(['2Story', '1Story'])]\n",
        "\n",
        "# And categorize into two proce ranges, low or high depending on below or above\n",
        "# median price\n",
        "price_bins = [Ames_df['SalePrice'].min(), Ames_df['SalePrice'].median(), Ames_df['SalePrice'].max()]\n",
        "price_labels = ['low', 'high']\n",
        "Ames_df['priceRange'] = pd.cut(Ames_df['SalePrice'], bins=price_bins, labels=price_labels)\n",
        "Ames_df.dropna(inplace=True)\n",
        "\n",
        "Ames_df.sample(5)"
      ],
      "execution_count": 8,
      "outputs": [
        {
          "output_type": "execute_result",
          "data": {
            "text/html": [
              "<div>\n",
              "<style scoped>\n",
              "    .dataframe tbody tr th:only-of-type {\n",
              "        vertical-align: middle;\n",
              "    }\n",
              "\n",
              "    .dataframe tbody tr th {\n",
              "        vertical-align: top;\n",
              "    }\n",
              "\n",
              "    .dataframe thead th {\n",
              "        text-align: right;\n",
              "    }\n",
              "</style>\n",
              "<table border=\"1\" class=\"dataframe\">\n",
              "  <thead>\n",
              "    <tr style=\"text-align: right;\">\n",
              "      <th></th>\n",
              "      <th>HouseStyle</th>\n",
              "      <th>SalePrice</th>\n",
              "      <th>priceRange</th>\n",
              "    </tr>\n",
              "  </thead>\n",
              "  <tbody>\n",
              "    <tr>\n",
              "      <th>1365</th>\n",
              "      <td>2Story</td>\n",
              "      <td>216000</td>\n",
              "      <td>high</td>\n",
              "    </tr>\n",
              "    <tr>\n",
              "      <th>216</th>\n",
              "      <td>1Story</td>\n",
              "      <td>210000</td>\n",
              "      <td>high</td>\n",
              "    </tr>\n",
              "    <tr>\n",
              "      <th>938</th>\n",
              "      <td>2Story</td>\n",
              "      <td>239799</td>\n",
              "      <td>high</td>\n",
              "    </tr>\n",
              "    <tr>\n",
              "      <th>670</th>\n",
              "      <td>2Story</td>\n",
              "      <td>173500</td>\n",
              "      <td>low</td>\n",
              "    </tr>\n",
              "    <tr>\n",
              "      <th>920</th>\n",
              "      <td>2Story</td>\n",
              "      <td>201000</td>\n",
              "      <td>high</td>\n",
              "    </tr>\n",
              "  </tbody>\n",
              "</table>\n",
              "</div>"
            ],
            "text/plain": [
              "     HouseStyle  SalePrice priceRange\n",
              "1365     2Story     216000       high\n",
              "216      1Story     210000       high\n",
              "938      2Story     239799       high\n",
              "670      2Story     173500        low\n",
              "920      2Story     201000       high"
            ]
          },
          "metadata": {
            "tags": []
          },
          "execution_count": 8
        }
      ]
    },
    {
      "cell_type": "code",
      "metadata": {
        "id": "ImYwisOGTfmd",
        "colab_type": "code",
        "outputId": "cc2845a3-52c0-46f4-b551-fb2cc261eb9e",
        "colab": {
          "base_uri": "https://localhost:8080/",
          "height": 173
        }
      },
      "source": [
        "# Crosstab with mormalization will give us a matrix of proportions of price ranges\n",
        "# by number of floors.\n",
        "house_price = pd.crosstab(Ames_df['HouseStyle'], Ames_df['priceRange'], margins=True)\n",
        "house_price"
      ],
      "execution_count": 54,
      "outputs": [
        {
          "output_type": "execute_result",
          "data": {
            "text/html": [
              "<div>\n",
              "<style scoped>\n",
              "    .dataframe tbody tr th:only-of-type {\n",
              "        vertical-align: middle;\n",
              "    }\n",
              "\n",
              "    .dataframe tbody tr th {\n",
              "        vertical-align: top;\n",
              "    }\n",
              "\n",
              "    .dataframe thead th {\n",
              "        text-align: right;\n",
              "    }\n",
              "</style>\n",
              "<table border=\"1\" class=\"dataframe\">\n",
              "  <thead>\n",
              "    <tr style=\"text-align: right;\">\n",
              "      <th>priceRange</th>\n",
              "      <th>low</th>\n",
              "      <th>high</th>\n",
              "      <th>All</th>\n",
              "    </tr>\n",
              "    <tr>\n",
              "      <th>HouseStyle</th>\n",
              "      <th></th>\n",
              "      <th></th>\n",
              "      <th></th>\n",
              "    </tr>\n",
              "  </thead>\n",
              "  <tbody>\n",
              "    <tr>\n",
              "      <th>1Story</th>\n",
              "      <td>432</td>\n",
              "      <td>293</td>\n",
              "      <td>725</td>\n",
              "    </tr>\n",
              "    <tr>\n",
              "      <th>2Story</th>\n",
              "      <td>153</td>\n",
              "      <td>292</td>\n",
              "      <td>445</td>\n",
              "    </tr>\n",
              "    <tr>\n",
              "      <th>All</th>\n",
              "      <td>585</td>\n",
              "      <td>585</td>\n",
              "      <td>1170</td>\n",
              "    </tr>\n",
              "  </tbody>\n",
              "</table>\n",
              "</div>"
            ],
            "text/plain": [
              "priceRange  low  high   All\n",
              "HouseStyle                 \n",
              "1Story      432   293   725\n",
              "2Story      153   292   445\n",
              "All         585   585  1170"
            ]
          },
          "metadata": {
            "tags": []
          },
          "execution_count": 54
        }
      ]
    },
    {
      "cell_type": "markdown",
      "metadata": {
        "id": "63PSaQRUf-ix",
        "colab_type": "text"
      },
      "source": [
        "**Given the price for a house being high, what is the probability it has two stories?**\n",
        "\n",
        "P(A) = probability being two story = 445 / 1170\n",
        "\n",
        "P(B|A) = probability high price given it's two story = 292 / 445\n",
        "\n",
        "p(B) = probability any house is high price = 585 / 1170\n"
      ]
    },
    {
      "cell_type": "code",
      "metadata": {
        "id": "yDhnPB5fgBrG",
        "colab_type": "code",
        "colab": {}
      },
      "source": [
        "def bayes_prob(prior, conditional, marginal):\n",
        "  prob = (conditional * prior) / marginal\n",
        "  return prob"
      ],
      "execution_count": 0,
      "outputs": []
    },
    {
      "cell_type": "code",
      "metadata": {
        "id": "tiVSxzB6YrSU",
        "colab_type": "code",
        "outputId": "6cd1d269-1139-44be-999d-44eb8673aec9",
        "colab": {
          "base_uri": "https://localhost:8080/",
          "height": 34
        }
      },
      "source": [
        "p_a = house_price.iloc[1]['All'] / house_price.iloc[2]['All']\n",
        "p_b = house_price.iloc[2]['high'] / house_price.iloc[2]['All']\n",
        "p_b_a = house_price.iloc[1]['high'] / house_price.iloc[1]['All']\n",
        "p_a_b = bayes_prob(p_a, p_b_a, p_b)\n",
        "print('Probability house is two stories = %.3f%%' % (p_a_b * 100) )"
      ],
      "execution_count": 78,
      "outputs": [
        {
          "output_type": "stream",
          "text": [
            "Probability house is two stories = 49.915%\n"
          ],
          "name": "stdout"
        }
      ]
    },
    {
      "cell_type": "markdown",
      "metadata": {
        "id": "QIqafMF-m5iU",
        "colab_type": "text"
      },
      "source": [
        "**And given it's low price, what is the probability that it is single story?**\n",
        "\n",
        "P(A) = probability being single story = 725 / 1170\n",
        "\n",
        "P(B|A) = probability low price given it's one story = 432 / 725\n",
        "\n",
        "p(B) = probability any house is low price = 585 / 1170"
      ]
    },
    {
      "cell_type": "code",
      "metadata": {
        "id": "gJ_V5vRhna5z",
        "colab_type": "code",
        "outputId": "db7c927a-53ed-488a-8ffe-6a7b96316eb7",
        "colab": {
          "base_uri": "https://localhost:8080/",
          "height": 34
        }
      },
      "source": [
        "p2_a = house_price.iloc[0]['All'] / house_price.iloc[2]['All']\n",
        "p2_b = house_price.iloc[2]['low'] / house_price.iloc[2]['All']\n",
        "p2_b_a = house_price.iloc[0]['low'] / house_price.iloc[0]['All']\n",
        "p2_a_b = bayes_prob(p2_b_a, p2_a, p2_b)\n",
        "print('Probability house is single story = %.3f%%' % (p2_a_b * 100) )"
      ],
      "execution_count": 29,
      "outputs": [
        {
          "output_type": "stream",
          "text": [
            "Probability house is single story = 73.846%\n"
          ],
          "name": "stdout"
        }
      ]
    },
    {
      "cell_type": "markdown",
      "metadata": {
        "id": "o1D1c4nr5m1m",
        "colab_type": "text"
      },
      "source": [
        "**Exploring the probability a house has two stories given a high price, calculated without Bayes theorem.**\n",
        "\n",
        "\n"
      ]
    },
    {
      "cell_type": "markdown",
      "metadata": {
        "id": "2YzAtSva50t0",
        "colab_type": "text"
      },
      "source": [
        "We'll be calculating a confidence interval around a given probability"
      ]
    },
    {
      "cell_type": "code",
      "metadata": {
        "colab_type": "code",
        "id": "bZSWlb_sy0RY",
        "colab": {}
      },
      "source": [
        "def p_conf_interval(sample, probability, cl):\n",
        "  '''\n",
        "  Given a probability, calculate confidence interval around it.\n",
        "  '''\n",
        "  \n",
        "  se = np.sqrt(probability * (1- probability) / len(sample))\n",
        "  t_stat = t.ppf((1 + .95) / 2, len(sample) - 1)\n",
        "  lower_conf = probability - t_stat * se\n",
        "  upper_conf = probability + t_stat * se\n",
        "  return(probability, lower_conf, upper_conf)\n"
      ],
      "execution_count": 0,
      "outputs": []
    },
    {
      "cell_type": "markdown",
      "metadata": {
        "colab_type": "text",
        "id": "ZH9bI0sZwNfj"
      },
      "source": [
        "First, in order to use mean to calculate probabilities, recode HouseStyle and priceRange into integer forms, 1 or 0."
      ]
    },
    {
      "cell_type": "code",
      "metadata": {
        "id": "w5_qLqORreCv",
        "colab_type": "code",
        "outputId": "40db5dec-5792-4d66-998b-ce73874ec044",
        "colab": {
          "base_uri": "https://localhost:8080/",
          "height": 142
        }
      },
      "source": [
        "Ames_df['priceRangeBinary'] = Ames_df['priceRange'].map({'high': 1, 'low': 0}, )\n",
        "Ames_df['priceRangeBinary'] = Ames_df['priceRangeBinary'].astype('int')\n",
        "Ames_df['StoriesBinary'] = Ames_df['HouseStyle'].map({'2Story': 1, '1Story': 0}, )\n",
        "Ames_df['StoriesBinary'] = Ames_df['StoriesBinary'].astype('int')\n",
        "Ames_df.sample(3)"
      ],
      "execution_count": 14,
      "outputs": [
        {
          "output_type": "execute_result",
          "data": {
            "text/html": [
              "<div>\n",
              "<style scoped>\n",
              "    .dataframe tbody tr th:only-of-type {\n",
              "        vertical-align: middle;\n",
              "    }\n",
              "\n",
              "    .dataframe tbody tr th {\n",
              "        vertical-align: top;\n",
              "    }\n",
              "\n",
              "    .dataframe thead th {\n",
              "        text-align: right;\n",
              "    }\n",
              "</style>\n",
              "<table border=\"1\" class=\"dataframe\">\n",
              "  <thead>\n",
              "    <tr style=\"text-align: right;\">\n",
              "      <th></th>\n",
              "      <th>HouseStyle</th>\n",
              "      <th>SalePrice</th>\n",
              "      <th>priceRange</th>\n",
              "      <th>priceRangeBinary</th>\n",
              "      <th>StoriesBinary</th>\n",
              "    </tr>\n",
              "  </thead>\n",
              "  <tbody>\n",
              "    <tr>\n",
              "      <th>715</th>\n",
              "      <td>1Story</td>\n",
              "      <td>165000</td>\n",
              "      <td>low</td>\n",
              "      <td>0</td>\n",
              "      <td>0</td>\n",
              "    </tr>\n",
              "    <tr>\n",
              "      <th>596</th>\n",
              "      <td>2Story</td>\n",
              "      <td>114504</td>\n",
              "      <td>low</td>\n",
              "      <td>0</td>\n",
              "      <td>1</td>\n",
              "    </tr>\n",
              "    <tr>\n",
              "      <th>632</th>\n",
              "      <td>1Story</td>\n",
              "      <td>82500</td>\n",
              "      <td>low</td>\n",
              "      <td>0</td>\n",
              "      <td>0</td>\n",
              "    </tr>\n",
              "  </tbody>\n",
              "</table>\n",
              "</div>"
            ],
            "text/plain": [
              "    HouseStyle  SalePrice priceRange  priceRangeBinary  StoriesBinary\n",
              "715     1Story     165000        low                 0              0\n",
              "596     2Story     114504        low                 0              1\n",
              "632     1Story      82500        low                 0              0"
            ]
          },
          "metadata": {
            "tags": []
          },
          "execution_count": 14
        }
      ]
    },
    {
      "cell_type": "markdown",
      "metadata": {
        "id": "lfcaLxec1Mmz",
        "colab_type": "text"
      },
      "source": [
        "Calculate the probability a house is both 2 story and high price \n",
        "\n",
        "$$P(A \\cap B)$$\n",
        "\n",
        "by finding out in which rows both values are 1, combine them, and calculate probability "
      ]
    },
    {
      "cell_type": "code",
      "metadata": {
        "id": "qSMmyCB0nCR9",
        "colab_type": "code",
        "colab": {
          "base_uri": "https://localhost:8080/",
          "height": 34
        },
        "outputId": "a85687be-71ec-4397-dae4-4128950b427a"
      },
      "source": [
        "# Add an intersection column containing 1 where StoriesBinary and priceRangeBinary are both 1\n",
        "Ames_df['Intersection'] = np.array(Ames_df['priceRangeBinary'] & Ames_df['StoriesBinary'])\n",
        "P_a_and_b = Ames_df['Intersection'].mean()\n",
        "P_a_and_b"
      ],
      "execution_count": 63,
      "outputs": [
        {
          "output_type": "execute_result",
          "data": {
            "text/plain": [
              "0.24957264957264957"
            ]
          },
          "metadata": {
            "tags": []
          },
          "execution_count": 63
        }
      ]
    },
    {
      "cell_type": "markdown",
      "metadata": {
        "id": "QunjlOTkuBGD",
        "colab_type": "text"
      },
      "source": [
        "Then calculate P(A|B)\n",
        "\n",
        "\\begin{equation*}\n",
        "P(A | B) = \\frac{P(A \\cap B)}{P(B)}\n",
        "\\end{equation*}\n",
        "\n",
        "And calculate a confidence interval around it.\n",
        "\n"
      ]
    },
    {
      "cell_type": "code",
      "metadata": {
        "id": "wWW0p8RIWtjp",
        "colab_type": "code",
        "outputId": "2dfde0d6-b6f4-4b8e-96d2-57312abbaee9",
        "colab": {
          "base_uri": "https://localhost:8080/",
          "height": 34
        }
      },
      "source": [
        "# probability of a house being high price\n",
        "prob_b = Ames_df['priceRangeBinary'].mean()\n",
        "\n",
        "# And calculate P(2 Story|high price)\n",
        "P_a_given_b = P_a_and_b / prob_b\n",
        "\n",
        "# And construct a confidence interval\n",
        "stats = p_conf_interval(Ames_df['StoriesBinary'], P_a_given_b, .95)\n",
        "stats"
      ],
      "execution_count": 70,
      "outputs": [
        {
          "output_type": "execute_result",
          "data": {
            "text/plain": [
              "(0.49914529914529915, 0.4704656115210734, 0.5278249867695248)"
            ]
          },
          "metadata": {
            "tags": []
          },
          "execution_count": 70
        }
      ]
    },
    {
      "cell_type": "code",
      "metadata": {
        "id": "TMdsh9i9jOIi",
        "colab_type": "code",
        "outputId": "70c3e777-843e-4cb9-a779-0c65498addce",
        "colab": {
          "base_uri": "https://localhost:8080/",
          "height": 267
        }
      },
      "source": [
        "\n",
        "sns.distplot(stats, hist=False, rug=False)\n",
        "plt.axvspan(stats[1], stats[2], facecolor='b', alpha=0.2, label='Frequntist CI')\n",
        "plt.axvline(stats[0], color='blue', label=\"Frequentist probability\")\n",
        "plt.legend();"
      ],
      "execution_count": 71,
      "outputs": [
        {
          "output_type": "display_data",
          "data": {
            "image/png": "[encoded data removed]",
            "text/plain": [
              "<Figure size 432x288 with 1 Axes>"
            ]
          },
          "metadata": {
            "tags": [],
            "needs_background": "light"
          }
        }
      ]
    },
    {
      "cell_type": "code",
      "metadata": {
        "id": "UXIYKbV9mTZf",
        "colab_type": "code",
        "outputId": "706b87cf-a3ea-4ff0-dea0-dd5af783d997",
        "colab": {
          "base_uri": "https://localhost:8080/",
          "height": 268
        }
      },
      "source": [
        "# Plot them together now\n",
        "sns.distplot(bayes_stats, hist=False, rug=False, color='red')\n",
        "sns.distplot(stats, hist=False, rug=False, color='blue')\n",
        "plt.axvspan(stats[1], stats[2], facecolor='b', alpha=0.2)\n",
        "plt.axvline(stats[0], color='blue', label=\"probablility\", alpha=0.5)\n",
        "plt.axvline(p_a_b, color='red', label=\"Bayesian probability\", alpha=0.5)\n",
        "plt.legend();"
      ],
      "execution_count": 84,
      "outputs": [
        {
          "output_type": "display_data",
          "data": {
            "image/png": "[encoded data removed]",
            "text/plain": [
              "<Figure size 432x288 with 1 Axes>"
            ]
          },
          "metadata": {
            "tags": [],
            "needs_background": "light"
          }
        }
      ]
    },
    {
      "cell_type": "markdown",
      "metadata": {
        "id": "16F7EKiA1w7N",
        "colab_type": "text"
      },
      "source": [
        "They wind up being identical.\n",
        "\n",
        "**Maybe this just winds up being that I have a lot to still learn!**"
      ]
    }
  ]
}