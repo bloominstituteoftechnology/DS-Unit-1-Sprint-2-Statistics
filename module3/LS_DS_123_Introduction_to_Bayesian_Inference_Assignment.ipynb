{
  "nbformat": 4,
  "nbformat_minor": 0,
  "metadata": {
    "colab": {
      "name": "LS_DS_123_Introduction_to_Bayesian_Inference_Assignment.ipynb",
      "provenance": [],
      "collapsed_sections": [],
      "include_colab_link": true
    },
    "kernelspec": {
      "name": "python3",
      "display_name": "Python 3"
    }
  },
  "cells": [
    {
      "cell_type": "markdown",
      "metadata": {
        "id": "view-in-github",
        "colab_type": "text"
      },
      "source": [
        "<a href=\"https://colab.research.google.com/github/mherbert93/DS-Unit-1-Sprint-2-Statistics/blob/master/module3/LS_DS_123_Introduction_to_Bayesian_Inference_Assignment.ipynb\" target=\"_parent\"><img src=\"https://colab.research.google.com/assets/colab-badge.svg\" alt=\"Open In Colab\"/></a>"
      ]
    },
    {
      "cell_type": "markdown",
      "metadata": {
        "id": "H7OLbevlbd_Z",
        "colab_type": "text"
      },
      "source": [
        "# Lambda School Data Science Module 123\n",
        "\n",
        "## Introduction to Bayesian Inference\n",
        "\n",
        "\n"
      ]
    },
    {
      "cell_type": "markdown",
      "metadata": {
        "id": "P-DzzRk5bf0z",
        "colab_type": "text"
      },
      "source": [
        "## Assignment - Code it up!\n",
        "\n",
        "We used pure math to apply Bayes Theorem to drug tests. Now write Python code to reproduce the results! This is purposefully open ended - you'll have to think about how you should represent probabilities and events. You can and should look things up.\n",
        "\n",
        "Specific goals/targets:\n",
        "\n",
        "### 1) Write a function \n",
        "\n",
        "`def prob_drunk_given_positive(prob_drunk_prior, false_positive_rate):` \n",
        "\n",
        "You should only truly need these two values in order to apply Bayes Theorem. In this example, imagine that individuals are taking a breathalyzer test with an 8% false positive rate, a 100% true positive rate, and that our prior belief about drunk driving in the population is 1/1000. \n",
        " - What is the probability that a person is drunk after one positive breathalyzer test?\n",
        " - What is the probability that a person is drunk after two positive breathalyzer tests?\n",
        " - How many positive breathalyzer tests are needed in order to have a probability that's greater than 95% that a person is drunk beyond the legal limit?\n",
        "\n",
        "### 2) Explore `scipy.stats.bayes_mvs`  \n",
        "Read its documentation, and experiment with it on data you've tested in other ways earlier this week.\n",
        " - Create a visualization comparing the results of a Bayesian approach to a traditional/frequentist approach. (with a large sample size they should look close to identical, however, take this opportunity to practice visualizing condfidence intervals in general. The following are some potential ways that you could visualize confidence intervals on your graph:\n",
        "  - [Matplotlib Error Bars](https://matplotlib.org/3.1.1/api/_as_gen/matplotlib.pyplot.errorbar.html)\n",
        "  - [Seaborn barplot with error bars](https://seaborn.pydata.org/generated/seaborn.barplot.html)\n",
        "  - [Vertical ines to show bounds of confidence interval](https://www.simplypsychology.org/confidence-interval.jpg)\n",
        "  - [Confidence Intervals on Box Plots](https://matplotlib.org/3.1.1/api/_as_gen/matplotlib.axes.Axes.boxplot.html)\n",
        "\n",
        "### 3) In your own words, summarize the difference between Bayesian and Frequentist statistics\n",
        "\n",
        "If you're unsure where to start, check out [this blog post of Bayes theorem with Python](https://dataconomy.com/2015/02/introduction-to-bayes-theorem-with-python/).\n",
        "\n"
      ]
    },
    {
      "cell_type": "markdown",
      "metadata": {
        "id": "4QyT0wasJMSs",
        "colab_type": "text"
      },
      "source": [
        "# Part 1"
      ]
    },
    {
      "cell_type": "code",
      "metadata": {
        "id": "xpVhZyUnbf7o",
        "colab_type": "code",
        "colab": {}
      },
      "source": [
        "def breathalyzer_accuracy(prob_drunk_prior, false_positive_rate, desired_probability=0.95): #default desired probability of 95%\n",
        "  posterior_probability1 = 0\n",
        "  iteration = 0\n",
        "  while posterior_probability1 < desired_probability:\n",
        "    iteration += 1 #keeps track of how many iterations have been done.\n",
        "    p_pos_user = 1 #our test does not produce false negatives\n",
        "\n",
        "    if iteration == 1:\n",
        "      p_user = prob_drunk_prior #on first iteration, use our prior drunk dirivng population.\n",
        "    else:\n",
        "      p_user = posterior_probability1 #on subsequent iterations, we use the posterior probability.\n",
        "\n",
        "    p_pos_nonuser = false_positive_rate\n",
        "    p_nonuser = 1-p_user\n",
        "\n",
        "    numerator = (p_pos_user*p_user)\n",
        "    denominator = (p_pos_user*p_user) + (p_pos_nonuser*p_nonuser)\n",
        "\n",
        "    posterior_probability1 = numerator / denominator\n",
        "  print(\"Probability of \" + str(posterior_probability1) + \" took \" + str(iteration) + \" iterations.\")"
      ],
      "execution_count": 0,
      "outputs": []
    },
    {
      "cell_type": "code",
      "metadata": {
        "id": "79VpmLqGIPjR",
        "colab_type": "code",
        "outputId": "92609c60-c3e5-4405-8af7-5eec1e9a7b0a",
        "colab": {
          "base_uri": "https://localhost:8080/",
          "height": 35
        }
      },
      "source": [
        "breathalyzer_accuracy(0.001, 0.08, 0.95)"
      ],
      "execution_count": 0,
      "outputs": [
        {
          "output_type": "stream",
          "text": [
            "Probability of 0.9606895076105054 took 4 iterations.\n"
          ],
          "name": "stdout"
        }
      ]
    },
    {
      "cell_type": "markdown",
      "metadata": {
        "id": "OIQIMPGzJpfi",
        "colab_type": "text"
      },
      "source": [
        "Important to note regarding Breathalyzer prior population. While in this case the prior population is 1/1000, in the real world, there would be other mitigating factors that would more strongly indicate the person is intoxicated. For example, a Breathalyzer that comes back positive, combined with other indicating variables(cannot walk a straight line, slurred speech, etc), when weighted against the prior population, would result in a much higher percentage on the first iteration.\n",
        "\n",
        "These could even be variables that could be weighted to create an adjusted prior population. For example, say if 4/5 people who could not pass the line test were drunk, our prior population would need to be weighted to account for this."
      ]
    },
    {
      "cell_type": "markdown",
      "metadata": {
        "id": "CzLEuodpJOcn",
        "colab_type": "text"
      },
      "source": [
        "# Part 2"
      ]
    },
    {
      "cell_type": "code",
      "metadata": {
        "id": "eYGxJFVYNWPb",
        "colab_type": "code",
        "colab": {}
      },
      "source": [
        "import pandas as pd\n",
        "import numpy as np\n",
        "\n",
        "df = pd.read_csv('https://archive.ics.uci.edu/ml/machine-learning-databases/voting-records/house-votes-84.data', names=['party','handicapped-infants','water-project',\n",
        "                          'budget','physician-fee-freeze', 'el-salvador-aid',\n",
        "                          'religious-groups','anti-satellite-ban',\n",
        "                          'aid-to-contras','mx-missile','immigration',\n",
        "                          'synfuels', 'education', 'right-to-sue','crime','duty-free',\n",
        "                          'south-africa'])\n",
        "\n",
        "df = df.replace({'y' : 1, 'n' : 0, '?' : np.NaN})\n",
        "\n",
        "rep = df[df['party']=='republican']\n",
        "dem = df[df['party']=='democrat']"
      ],
      "execution_count": 0,
      "outputs": []
    },
    {
      "cell_type": "code",
      "metadata": {
        "id": "Lx7Zo_pmNllw",
        "colab_type": "code",
        "colab": {}
      },
      "source": [
        "def confidence_interval(data, confidence=0.95):\n",
        "  \"\"\"\n",
        "  Calculate a confidence interval around a sample mean for given data.\n",
        "  Using t-distribution and two-tailed test, default 95% confidence. \n",
        "  \n",
        "  Arguments:\n",
        "    data - iterable (list or numpy array) of sample observations\n",
        "    confidence - level of confidence for the interval\n",
        "  \n",
        "  Returns:\n",
        "    tuple of (mean, lower bound, upper bound)\n",
        "  \"\"\"\n",
        "  data = data.dropna() #do not include nulls\n",
        "  data = np.array(data)\n",
        "  mean = np.mean(data)\n",
        "  n = len(data)\n",
        "  # pass extra parameter (ddof=1) to calculate **sample** standard deviation\n",
        "  s = data.std(ddof=1)\n",
        "  stderr = s / np.sqrt(n)\n",
        "  # Lookup the t-statistic that corresponds to 95% area under the curve\n",
        "  # for my given degrees of freedom: 49\n",
        "  t = stats.t.ppf((1 + confidence) / 2.0, n - 1)\n",
        "  margin_of_error = t*stderr\n",
        "  return (mean, mean - margin_of_error, mean + margin_of_error)"
      ],
      "execution_count": 0,
      "outputs": []
    },
    {
      "cell_type": "code",
      "metadata": {
        "id": "FrgiL_HBNp8Y",
        "colab_type": "code",
        "colab": {}
      },
      "source": [
        "from scipy import stats\n",
        "#rep = rep.dropna() #drop rows that contain null values\n",
        "rep_mean, rep_lower, rep_upper = confidence_interval(rep['right-to-sue'])"
      ],
      "execution_count": 0,
      "outputs": []
    },
    {
      "cell_type": "code",
      "metadata": {
        "id": "r_Nvr4plSCBZ",
        "colab_type": "code",
        "outputId": "76961483-f79a-4f98-936b-f458eab74561",
        "colab": {
          "base_uri": "https://localhost:8080/",
          "height": 72
        }
      },
      "source": [
        "print(rep_mean) #mean\n",
        "print(rep_lower) #upper confidence interval\n",
        "print(rep_upper) #lower confidence interval"
      ],
      "execution_count": 0,
      "outputs": [
        {
          "output_type": "stream",
          "text": [
            "0.8607594936708861\n",
            "0.8061858971620528\n",
            "0.9153330901797194\n"
          ],
          "name": "stdout"
        }
      ]
    },
    {
      "cell_type": "code",
      "metadata": {
        "id": "WB0zZTaDSHkR",
        "colab_type": "code",
        "outputId": "a8144da4-6dea-47f2-daeb-348d3f1d877d",
        "colab": {
          "base_uri": "https://localhost:8080/",
          "height": 35
        }
      },
      "source": [
        "## bayesian confidence level\n",
        "def bayes_remove_null(df_col, confidence_percent):\n",
        "  df_col = df_col.dropna() #do not include nulls\n",
        "  return stats.bayes_mvs(df_col, alpha=.95)\n",
        "\n",
        "mean_CI, _, _ = bayes_remove_null(rep['right-to-sue'], .95)\n",
        "mean_CI"
      ],
      "execution_count": 0,
      "outputs": [
        {
          "output_type": "execute_result",
          "data": {
            "text/plain": [
              "Mean(statistic=0.8607594936708861, minmax=(0.8061858971620528, 0.9153330901797194))"
            ]
          },
          "metadata": {
            "tags": []
          },
          "execution_count": 65
        }
      ]
    },
    {
      "cell_type": "code",
      "metadata": {
        "id": "rx836TaRUxp6",
        "colab_type": "code",
        "outputId": "17ca9315-1585-402f-cb80-4c5e6b309cfc",
        "colab": {
          "base_uri": "https://localhost:8080/",
          "height": 312
        }
      },
      "source": [
        "import matplotlib.pyplot as plt\n",
        "\n",
        "fig, (ax1, ax2) = plt.subplots(1, 2)\n",
        "\n",
        "#plt.bar(x=0, height=rep_mean, yerr=rep_mean-rep_lower, color='red')\n",
        "#plt.bar(x=1, height=mean_CI.statistic, yerr=mean_CI.statistic-mean_CI.minmax[0] , color='blue')\n",
        "\n",
        "ax1.bar(x=0, height=rep_mean, yerr=rep_mean-rep_lower, color='red')\n",
        "ax2.bar(x=1, height=mean_CI.statistic, yerr=mean_CI.statistic-mean_CI.minmax[0] , color='blue')\n",
        "\n",
        "ax1.set_xticks([0])\n",
        "ax2.set_xticks([1])\n",
        "\n",
        "ax1.set_yticks([0, 0.2, 0.4, 0.6, 0.8, 1])\n",
        "ax2.set_yticks([0, 0.2, 0.4, 0.6, 0.8, 1])            \n",
        "\n",
        "ax1.set_xticklabels(['Traditional'])\n",
        "ax2.set_xticklabels(['Bayesian'])\n",
        "\n",
        "fig.suptitle('Traditional vs Bayesian Confidence Interval', y=1, weight='bold', fontsize=14)\n",
        "\n",
        "\n",
        "plt.show()"
      ],
      "execution_count": 0,
      "outputs": [
        {
          "output_type": "display_data",
          "data": {
            "image/png": "[encoded data removed]",
            "text/plain": [
              "<Figure size 432x288 with 2 Axes>"
            ]
          },
          "metadata": {
            "tags": []
          }
        }
      ]
    },
    {
      "cell_type": "code",
      "metadata": {
        "id": "g-rd4VEMhUh9",
        "colab_type": "code",
        "outputId": "9c1cb06b-bab3-47bc-f1c5-64e4fb0a5881",
        "colab": {
          "base_uri": "https://localhost:8080/",
          "height": 35
        }
      },
      "source": [
        "rep.shape"
      ],
      "execution_count": 0,
      "outputs": [
        {
          "output_type": "execute_result",
          "data": {
            "text/plain": [
              "(168, 17)"
            ]
          },
          "metadata": {
            "tags": []
          },
          "execution_count": 84
        }
      ]
    },
    {
      "cell_type": "markdown",
      "metadata": {
        "id": "FEBqb5X5My8s",
        "colab_type": "text"
      },
      "source": [
        "As we can see, the result is identical using either approach. The dataset contains 168 rows, so this is enough data that the result is the same either way. With a smaller amount of data, there would probably be slightly different results."
      ]
    },
    {
      "cell_type": "markdown",
      "metadata": {
        "id": "Ji5649LzJSEs",
        "colab_type": "text"
      },
      "source": [
        "# Part 3"
      ]
    },
    {
      "cell_type": "markdown",
      "metadata": {
        "id": "qvPOIUSNQPSV",
        "colab_type": "text"
      },
      "source": [
        "I believe one of the main differences between the Bayesian approach and the frequentist approach is the use of prior knowledge. In the Bayesian approach you also change that prior knowledge based on changing values. For example, the first time you run a test, you use what existing prior knowledge you know. But after running the test, you would update that parameter with the newly calculated probability. You would not do this with the frequentist approach."
      ]
    },
    {
      "cell_type": "markdown",
      "metadata": {
        "id": "uWgWjp3PQ3Sq",
        "colab_type": "text"
      },
      "source": [
        "## Resources"
      ]
    },
    {
      "cell_type": "markdown",
      "metadata": {
        "id": "QRgHqmYIQ9qn",
        "colab_type": "text"
      },
      "source": [
        "- [Worked example of Bayes rule calculation](https://en.wikipedia.org/wiki/Bayes'_theorem#Examples) (helpful as it fully breaks out the denominator)\n",
        "- [Source code for mvsdist in scipy](https://github.com/scipy/scipy/blob/90534919e139d2a81c24bf08341734ff41a3db12/scipy/stats/morestats.py#L139)"
      ]
    },
    {
      "cell_type": "markdown",
      "metadata": {
        "id": "GP7Jv1XvwtkX",
        "colab_type": "text"
      },
      "source": [
        "## Stretch Goals:\n",
        "\n",
        "- Go back and study the content from Modules 1 & 2 to make sure that you're really comfortable with them.\n",
        "- Apply a Bayesian technique to a problem you previously worked (in an assignment or project work) on from a frequentist (standard) perspective\n",
        "- Check out [PyMC3](https://docs.pymc.io/) (note this goes beyond hypothesis tests into modeling) - read the guides and work through some examples\n",
        "- Take PyMC3 further - see if you can build something with it!"
      ]
    },
    {
      "cell_type": "code",
      "metadata": {
        "id": "iDi0eFr1x-v_",
        "colab_type": "code",
        "colab": {}
      },
      "source": [
        ""
      ],
      "execution_count": 0,
      "outputs": []
    }
  ]
}