{
  "nbformat": 4,
  "nbformat_minor": 0,
  "metadata": {
    "colab": {
      "name": "Copy of LS_DS_123_Introduction_to_Bayesian_Inference_Assignment.ipynb",
      "provenance": [],
      "collapsed_sections": [],
      "include_colab_link": true
    },
    "kernelspec": {
      "name": "python3",
      "display_name": "Python 3"
    }
  },
  "cells": [
    {
      "cell_type": "markdown",
      "metadata": {
        "id": "view-in-github",
        "colab_type": "text"
      },
      "source": [
        "<a href=\"https://colab.research.google.com/github/repoocsov/DS-Unit-1-Sprint-2-Statistics/blob/master/module3/LS_DS_123_Introduction_to_Bayesian_Inference_Assignment.ipynb\" target=\"_parent\"><img src=\"https://colab.research.google.com/assets/colab-badge.svg\" alt=\"Open In Colab\"/></a>"
      ]
    },
    {
      "cell_type": "markdown",
      "metadata": {
        "id": "H7OLbevlbd_Z",
        "colab_type": "text"
      },
      "source": [
        "# Lambda School Data Science Module 123\n",
        "\n",
        "## Introduction to Bayesian Inference\n",
        "\n",
        "\n"
      ]
    },
    {
      "cell_type": "markdown",
      "metadata": {
        "id": "P-DzzRk5bf0z",
        "colab_type": "text"
      },
      "source": [
        "## Assignment - Code it up!\n",
        "\n",
        "We used pure math to apply Bayes Theorem to drug tests. Now write Python code to reproduce the results! This is purposefully open ended - you'll have to think about how you should represent probabilities and events. You can and should look things up.\n",
        "\n",
        "Specific goals/targets:\n",
        "\n",
        "### 1) Write a function \n",
        "\n",
        "`def prob_drunk_given_positive(prob_drunk_prior, false_positive_rate):` \n",
        "\n",
        "You should only truly need these two values in order to apply Bayes Theorem. In this example, imagine that individuals are taking a breathalyzer test with an 8% false positive rate, a 100% true positive rate, and that our prior belief about drunk driving in the population is 1/1000. \n",
        " - What is the probability that a person is drunk after one positive breathalyzer test?\n",
        " - What is the probability that a person is drunk after two positive breathalyzer tests?\n",
        " - How many positive breathalyzer tests are needed in order to have a probability that's greater than 95% that a person is drunk beyond the legal limit?\n",
        "\n",
        "### 2) Explore `scipy.stats.bayes_mvs`  \n",
        "Read its documentation, and experiment with it on data you've tested in other ways earlier this week.\n",
        " - Create a visualization comparing the results of a Bayesian approach to a traditional/frequentist approach. (with a large sample size they should look close to identical, however, take this opportunity to practice visualizing condfidence intervals in general. The following are some potential ways that you could visualize confidence intervals on your graph:\n",
        "  - [Matplotlib Error Bars](https://matplotlib.org/3.1.1/api/_as_gen/matplotlib.pyplot.errorbar.html)\n",
        "  - [Seaborn barplot with error bars](https://seaborn.pydata.org/generated/seaborn.barplot.html)\n",
        "  - [Vertical ines to show bounds of confidence interval](https://www.simplypsychology.org/confidence-interval.jpg)\n",
        "  - [Confidence Intervals on Box Plots](https://matplotlib.org/3.1.1/api/_as_gen/matplotlib.axes.Axes.boxplot.html)\n",
        "\n",
        "### 3) In your own words, summarize the difference between Bayesian and Frequentist statistics\n",
        "\n",
        "If you're unsure where to start, check out [this blog post of Bayes theorem with Python](https://dataconomy.com/2015/02/introduction-to-bayes-theorem-with-python/).\n",
        "\n"
      ]
    },
    {
      "cell_type": "markdown",
      "metadata": {
        "id": "N8JacI7Y4bwM",
        "colab_type": "text"
      },
      "source": [
        "#**Assignment begins here:**"
      ]
    },
    {
      "cell_type": "markdown",
      "metadata": {
        "id": "kPkWXLs_BUye",
        "colab_type": "text"
      },
      "source": [
        "##**1)**"
      ]
    },
    {
      "cell_type": "code",
      "metadata": {
        "id": "M0s6uw094hLh",
        "colab_type": "code",
        "outputId": "482a8fec-6863-4160-d0ef-eba6c103d4de",
        "colab": {
          "base_uri": "https://localhost:8080/",
          "height": 34
        }
      },
      "source": [
        "false_positive = 0.08\n",
        "true_positive = 1.00\n",
        "prior_belief = .001 # prior belief (1/1000)\n",
        "\n",
        "def prob_drunk_given_positive(prior_belief, false_positive, true_positive):\n",
        "  sober_driver = 1 - prior_belief\n",
        "  posterior_probability = (true_positive * prior_belief) / ((true_positive * prior_belief) + (false_positive * sober_driver))\n",
        "  return posterior_probability\n",
        "\n",
        "\n",
        "# Probability that a person is drunk after one positive breathalyzer test\n",
        "prob_drunk_given_positive(prior_belief, false_positive, true_positive)"
      ],
      "execution_count": 0,
      "outputs": [
        {
          "output_type": "execute_result",
          "data": {
            "text/plain": [
              "0.012357884330202669"
            ]
          },
          "metadata": {
            "tags": []
          },
          "execution_count": 13
        }
      ]
    },
    {
      "cell_type": "code",
      "metadata": {
        "id": "lbJbZa7r_dYd",
        "colab_type": "code",
        "outputId": "aa11c77f-3292-4cbd-db05-84c598b677f3",
        "colab": {
          "base_uri": "https://localhost:8080/",
          "height": 34
        }
      },
      "source": [
        "# Probability that a person is drunk after two positve breathalyzer tests\n",
        "updated_prior_belief = prob_drunk_given_positive(prior_belief, false_positive, true_positive)\n",
        "prob_drunk_given_positive(updated_prior_belief, false_positive, true_positive)"
      ],
      "execution_count": 0,
      "outputs": [
        {
          "output_type": "execute_result",
          "data": {
            "text/plain": [
              "0.13525210993291495"
            ]
          },
          "metadata": {
            "tags": []
          },
          "execution_count": 14
        }
      ]
    },
    {
      "cell_type": "code",
      "metadata": {
        "id": "OfewtYlc_wA8",
        "colab_type": "code",
        "outputId": "d14362d4-06e0-4e1c-d3fd-1ff6facbcb1c",
        "colab": {
          "base_uri": "https://localhost:8080/",
          "height": 34
        }
      },
      "source": [
        "prior_belief = 1/1000\n",
        "confidence_level = 0\n",
        "count = 0\n",
        "\n",
        "while(confidence_level < .95):\n",
        "  confidence_level = prob_drunk_given_positive(prior_belief, false_positive, true_positive)\n",
        "  prior_belief = confidence_level\n",
        "  count = count + 1\n",
        "\n",
        "print(count, 'breathalyzer tests needed to be 95% confident')"
      ],
      "execution_count": 0,
      "outputs": [
        {
          "output_type": "stream",
          "text": [
            "4 breathalyzer tests needed to be 95% confident\n"
          ],
          "name": "stdout"
        }
      ]
    },
    {
      "cell_type": "markdown",
      "metadata": {
        "id": "VkEznU9oBZ_C",
        "colab_type": "text"
      },
      "source": [
        "##**2)**"
      ]
    },
    {
      "cell_type": "code",
      "metadata": {
        "id": "rCYSvHxhGfzj",
        "colab_type": "code",
        "outputId": "2fadd628-3af5-432b-9b95-c12b00a563de",
        "colab": {
          "base_uri": "https://localhost:8080/",
          "height": 171
        }
      },
      "source": [
        "import pandas as pd\n",
        "df = pd.read_csv('https://archive.ics.uci.edu/ml/machine-learning-databases/voting-records/house-votes-84.data', header=None, na_values='?')\n",
        "\n",
        "# Designating headers\n",
        "headers = ['party', 'handicapped-infants', 'water-project', \n",
        "'budget', 'physician-fee-freeze', 'el-salvador-aid', 'religious-groups', \n",
        "'anti-satellite-ban', 'aid-to-contras', 'mx-missile', 'immigration', \n",
        "'synfuels', 'education', 'right-to-sue', 'crime', 'duty-free', \n",
        "'south-africa']\n",
        "df.columns = headers\n",
        "\n",
        "# Converting to numeric format\n",
        "df = df.replace({'n': 0, 'y': 1})\n",
        "df.head()\n",
        "\n",
        "# Creating two seperate dataframes\n",
        "condition = df['party'] == 'republican'\n",
        "republicans = df[condition]\n",
        "\n",
        "condition = df['party'] == 'democrat'\n",
        "democrats = df[condition]\n",
        "democrats.head(3)"
      ],
      "execution_count": 0,
      "outputs": [
        {
          "output_type": "execute_result",
          "data": {
            "text/html": [
              "<div>\n",
              "<style scoped>\n",
              "    .dataframe tbody tr th:only-of-type {\n",
              "        vertical-align: middle;\n",
              "    }\n",
              "\n",
              "    .dataframe tbody tr th {\n",
              "        vertical-align: top;\n",
              "    }\n",
              "\n",
              "    .dataframe thead th {\n",
              "        text-align: right;\n",
              "    }\n",
              "</style>\n",
              "<table border=\"1\" class=\"dataframe\">\n",
              "  <thead>\n",
              "    <tr style=\"text-align: right;\">\n",
              "      <th></th>\n",
              "      <th>party</th>\n",
              "      <th>handicapped-infants</th>\n",
              "      <th>water-project</th>\n",
              "      <th>budget</th>\n",
              "      <th>physician-fee-freeze</th>\n",
              "      <th>el-salvador-aid</th>\n",
              "      <th>religious-groups</th>\n",
              "      <th>anti-satellite-ban</th>\n",
              "      <th>aid-to-contras</th>\n",
              "      <th>mx-missile</th>\n",
              "      <th>immigration</th>\n",
              "      <th>synfuels</th>\n",
              "      <th>education</th>\n",
              "      <th>right-to-sue</th>\n",
              "      <th>crime</th>\n",
              "      <th>duty-free</th>\n",
              "      <th>south-africa</th>\n",
              "    </tr>\n",
              "  </thead>\n",
              "  <tbody>\n",
              "    <tr>\n",
              "      <th>2</th>\n",
              "      <td>democrat</td>\n",
              "      <td>NaN</td>\n",
              "      <td>1.0</td>\n",
              "      <td>1.0</td>\n",
              "      <td>NaN</td>\n",
              "      <td>1.0</td>\n",
              "      <td>1.0</td>\n",
              "      <td>0.0</td>\n",
              "      <td>0.0</td>\n",
              "      <td>0.0</td>\n",
              "      <td>0.0</td>\n",
              "      <td>1.0</td>\n",
              "      <td>0.0</td>\n",
              "      <td>1.0</td>\n",
              "      <td>1.0</td>\n",
              "      <td>0.0</td>\n",
              "      <td>0.0</td>\n",
              "    </tr>\n",
              "    <tr>\n",
              "      <th>3</th>\n",
              "      <td>democrat</td>\n",
              "      <td>0.0</td>\n",
              "      <td>1.0</td>\n",
              "      <td>1.0</td>\n",
              "      <td>0.0</td>\n",
              "      <td>NaN</td>\n",
              "      <td>1.0</td>\n",
              "      <td>0.0</td>\n",
              "      <td>0.0</td>\n",
              "      <td>0.0</td>\n",
              "      <td>0.0</td>\n",
              "      <td>1.0</td>\n",
              "      <td>0.0</td>\n",
              "      <td>1.0</td>\n",
              "      <td>0.0</td>\n",
              "      <td>0.0</td>\n",
              "      <td>1.0</td>\n",
              "    </tr>\n",
              "    <tr>\n",
              "      <th>4</th>\n",
              "      <td>democrat</td>\n",
              "      <td>1.0</td>\n",
              "      <td>1.0</td>\n",
              "      <td>1.0</td>\n",
              "      <td>0.0</td>\n",
              "      <td>1.0</td>\n",
              "      <td>1.0</td>\n",
              "      <td>0.0</td>\n",
              "      <td>0.0</td>\n",
              "      <td>0.0</td>\n",
              "      <td>0.0</td>\n",
              "      <td>1.0</td>\n",
              "      <td>NaN</td>\n",
              "      <td>1.0</td>\n",
              "      <td>1.0</td>\n",
              "      <td>1.0</td>\n",
              "      <td>1.0</td>\n",
              "    </tr>\n",
              "  </tbody>\n",
              "</table>\n",
              "</div>"
            ],
            "text/plain": [
              "      party  handicapped-infants  water-project  ...  crime  duty-free  south-africa\n",
              "2  democrat                  NaN            1.0  ...    1.0        0.0           0.0\n",
              "3  democrat                  0.0            1.0  ...    0.0        0.0           1.0\n",
              "4  democrat                  1.0            1.0  ...    1.0        1.0           1.0\n",
              "\n",
              "[3 rows x 17 columns]"
            ]
          },
          "metadata": {
            "tags": []
          },
          "execution_count": 21
        }
      ]
    },
    {
      "cell_type": "code",
      "metadata": {
        "id": "gbibawHEG5NO",
        "colab_type": "code",
        "outputId": "cc09ae7d-6732-4000-949a-9e97b7665b22",
        "colab": {
          "base_uri": "https://localhost:8080/",
          "height": 52
        }
      },
      "source": [
        "# Expore scipy.stats.bayes_mvs here https://github.com/scipy/scipy/blob/master/scipy/stats/morestats.py\n",
        "# Read its documentation, and experiment with it on data you've tested in other ways earlier this week.\n",
        "from scipy import stats\n",
        "import numpy as np\n",
        "\n",
        "\"\"\"------------------------------------\"\"\"\n",
        "\"\"\"Using scipy.stats.bayes_mvs function\"\"\"\n",
        "\"\"\"------------------------------------\"\"\"\n",
        "\n",
        "# THIS IS THE FREQUENTIST APPROACH\n",
        "def confidence_interval(data, confidence=0.95):\n",
        "  data = np.array(data)\n",
        "  mean = np.mean(data)\n",
        "  n = len(data)\n",
        "  s = np.std(data, ddof=1)\n",
        "  stderr = s / np.sqrt(n)\n",
        "  margin_of_error = stderr * stats.t.ppf((1 + confidence) / 2.0, n - 1)\n",
        "  return (mean, mean - margin_of_error, mean + margin_of_error)\n",
        "\n",
        "\n",
        "rep_budget_no_nans = republicans['budget'].dropna(axis=0)\n",
        "rep_budget_ci = confidence_interval(rep_budget_no_nans, confidence=0.95)\n",
        "print(\"Frequentist Approach: \", rep_budget_ci)\n",
        "\n",
        "\n",
        "# THIS IS THE BAYESIAN APPROACH\n",
        "bayesian_confidence_interval, _, _ = stats.bayes_mvs(rep_budget_no_nans, alpha=.95)\n",
        "print(\"Bayesian Approach\", bayesian_confidence_interval)"
      ],
      "execution_count": 0,
      "outputs": [
        {
          "output_type": "stream",
          "text": [
            "Frequentist Approach:  (0.13414634146341464, 0.08143520131697565, 0.18685748160985363)\n",
            "Bayesian Approach Mean(statistic=0.13414634146341464, minmax=(0.08143520131697565, 0.18685748160985363))\n"
          ],
          "name": "stdout"
        }
      ]
    },
    {
      "cell_type": "code",
      "metadata": {
        "id": "KIi3NrIjJQPl",
        "colab_type": "code",
        "outputId": "fbe29631-4941-423d-a154-b8336118e64a",
        "colab": {
          "base_uri": "https://localhost:8080/",
          "height": 513
        }
      },
      "source": [
        "# Plotting with Matplotlib Error Bars\n",
        "import matplotlib.pyplot as plt\n",
        "import seaborn as sns\n",
        "\n",
        "# confidence interval using Frequentist data\n",
        "plt.errorbar(x=[0],y=rep_budget_ci[1], yerr=[(rep_budget_ci[2]-rep_budget_ci[0])], ecolor='black', fmt='o')\n",
        "plt.errorbar(x=[1],y=[35], yerr=[2], ecolor='black', fmt='o');\n",
        "plt.show()\n",
        "\n",
        "# confidence interval using Bayesian data\n",
        "plt.errorbar(x=[0],y=bayesian_confidence_interval[1][0], yerr=[(bayesian_confidence_interval[1][1]-bayesian_confidence_interval[0])], ecolor='black', fmt='o')\n",
        "plt.errorbar(x=[1],y=[35], yerr=[2], ecolor='black', fmt='o');\n",
        "plt.show()"
      ],
      "execution_count": 0,
      "outputs": [
        {
          "output_type": "display_data",
          "data": {
            "image/png": "[encoded data removed]",
            "text/plain": [
              "<Figure size 432x288 with 1 Axes>"
            ]
          },
          "metadata": {
            "tags": []
          }
        },
        {
          "output_type": "display_data",
          "data": {
            "image/png": "[encoded data removed]",
            "text/plain": [
              "<Figure size 432x288 with 1 Axes>"
            ]
          },
          "metadata": {
            "tags": []
          }
        }
      ]
    },
    {
      "cell_type": "code",
      "metadata": {
        "id": "nyozJdlVPPPF",
        "colab_type": "code",
        "outputId": "ee60bb02-f264-4fdb-c3bd-53ea7e8a7581",
        "colab": {
          "base_uri": "https://localhost:8080/",
          "height": 278
        }
      },
      "source": [
        "# Seaborn barplot with error bars\n",
        "ax = sns.distplot(rep_budget_no_nans, bins=72)\n",
        "\n",
        "plt.axvline(x=bayesian_confidence_interval[0], color='black')\n",
        "plt.axvline(x=bayesian_confidence_interval[1][0], color='red')\n",
        "plt.axvline(x=bayesian_confidence_interval[1][1], color='red');"
      ],
      "execution_count": 0,
      "outputs": [
        {
          "output_type": "display_data",
          "data": {
            "image/png": "[encoded data removed]",
            "text/plain": [
              "<Figure size 432x288 with 1 Axes>"
            ]
          },
          "metadata": {
            "tags": []
          }
        }
      ]
    },
    {
      "cell_type": "markdown",
      "metadata": {
        "id": "Yz6vyxVjBg_t",
        "colab_type": "text"
      },
      "source": [
        "##**3)**"
      ]
    },
    {
      "cell_type": "markdown",
      "metadata": {
        "id": "_85FDyRRBtJR",
        "colab_type": "text"
      },
      "source": [
        "Bayesian and frequentist statistics differ in the way they define the concept of probability. Frequentist statistics views probability as a likelihood in isolation. A measurement of probability in a sample and nothing more. With a Bayesian approach, these measurements of probability can be taken and used to be more accurate in predictions of probability.\n",
        "\n",
        "https://www.probabilisticworld.com/frequentist-bayesian-approaches-inferential-statistics/"
      ]
    },
    {
      "cell_type": "markdown",
      "metadata": {
        "id": "uWgWjp3PQ3Sq",
        "colab_type": "text"
      },
      "source": [
        "## Resources"
      ]
    },
    {
      "cell_type": "markdown",
      "metadata": {
        "id": "QRgHqmYIQ9qn",
        "colab_type": "text"
      },
      "source": [
        "- [Worked example of Bayes rule calculation](https://en.wikipedia.org/wiki/Bayes'_theorem#Examples) (helpful as it fully breaks out the denominator)\n",
        "- [Source code for mvsdist in scipy](https://github.com/scipy/scipy/blob/90534919e139d2a81c24bf08341734ff41a3db12/scipy/stats/morestats.py#L139)"
      ]
    },
    {
      "cell_type": "markdown",
      "metadata": {
        "id": "GP7Jv1XvwtkX",
        "colab_type": "text"
      },
      "source": [
        "## Stretch Goals:\n",
        "\n",
        "- Go back and study the content from Modules 1 & 2 to make sure that you're really comfortable with them.\n",
        "- Apply a Bayesian technique to a problem you previously worked (in an assignment or project work) on from a frequentist (standard) perspective\n",
        "- Check out [PyMC3](https://docs.pymc.io/) (note this goes beyond hypothesis tests into modeling) - read the guides and work through some examples\n",
        "- Take PyMC3 further - see if you can build something with it!"
      ]
    },
    {
      "cell_type": "code",
      "metadata": {
        "id": "iDi0eFr1x-v_",
        "colab_type": "code",
        "colab": {}
      },
      "source": [
        ""
      ],
      "execution_count": 0,
      "outputs": []
    }
  ]
}