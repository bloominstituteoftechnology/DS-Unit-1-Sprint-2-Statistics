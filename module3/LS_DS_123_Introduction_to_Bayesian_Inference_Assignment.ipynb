{
  "nbformat": 4,
  "nbformat_minor": 0,
  "metadata": {
    "colab": {
      "name": "LS_DS_123_Introduction_to_Bayesian_Inference_Assignment.ipynb",
      "provenance": []
    },
    "kernelspec": {
      "name": "python3",
      "display_name": "Python 3"
    }
  },
  "cells": [
    {
      "cell_type": "markdown",
      "metadata": {
        "id": "H7OLbevlbd_Z",
        "colab_type": "text"
      },
      "source": [
        "# Lambda School Data Science Module 123\n",
        "\n",
        "## Introduction to Bayesian Inference\n",
        "\n",
        "\n"
      ]
    },
    {
      "cell_type": "markdown",
      "metadata": {
        "id": "P-DzzRk5bf0z",
        "colab_type": "text"
      },
      "source": [
        "## Assignment - Code it up!\n",
        "\n",
        "We used pure math to apply Bayes Theorem to drug tests. Now write Python code to reproduce the results! This is purposefully open ended - you'll have to think about how you should represent probabilities and events. You can and should look things up.\n",
        "\n",
        "Specific goals/targets:\n",
        "\n",
        "### 1) Write a function \n",
        "\n",
        "`def prob_drunk_given_positive(prob_drunk_prior, false_positive_rate):` \n",
        "\n",
        "You should only truly need these two values in order to apply Bayes Theorem. In this example, imagine that individuals are taking a breathalyzer test with an 8% false positive rate, a 100% true positive rate, and that our prior belief about drunk driving in the population is 1/1000. \n",
        " - What is the probability that a person is drunk after one positive breathalyzer test?\n",
        " - What is the probability that a person is drunk after two positive breathalyzer tests?\n",
        " - How many positive breathalyzer tests are needed in order to have a probability that's greater than 95% that a person is drunk beyond the legal limit?\n",
        "\n",
        "### 2) Explore `scipy.stats.bayes_mvs`  \n",
        "Read its documentation, and experiment with it on data you've tested in other ways earlier this week.\n",
        " - Create a visualization comparing the results of a Bayesian approach to a traditional/frequentist approach. (with a large sample size they should look close to identical, however, take this opportunity to practice visualizing condfidence intervals in general. The following are some potential ways that you could visualize confidence intervals on your graph:\n",
        "  - [Matplotlib Error Bars](https://matplotlib.org/3.1.1/api/_as_gen/matplotlib.pyplot.errorbar.html)\n",
        "  - [Seaborn barplot with error bars](https://seaborn.pydata.org/generated/seaborn.barplot.html)\n",
        "  - [Vertical ines to show bounds of confidence interval](https://www.simplypsychology.org/confidence-interval.jpg)\n",
        "  - [Confidence Intervals on Box Plots](https://matplotlib.org/3.1.1/api/_as_gen/matplotlib.axes.Axes.boxplot.html)\n",
        "\n",
        "### 3) In your own words, summarize the difference between Bayesian and Frequentist statistics\n",
        "\n",
        "If you're unsure where to start, check out [this blog post of Bayes theorem with Python](https://dataconomy.com/2015/02/introduction-to-bayes-theorem-with-python/).\n",
        "\n"
      ]
    },
    {
      "cell_type": "code",
      "metadata": {
        "id": "xpVhZyUnbf7o",
        "colab_type": "code",
        "colab": {}
      },
      "source": [
        "# given values\n",
        "prob_drunk_prior = 1/1000\n",
        "false_positive_rate = 0.08\n",
        "true_positive_rate = 1\n",
        "# defined the function\n",
        "n = 0\n",
        "\n",
        "def prob_drunk_given_positive(prob_drunk_prior, false_positive_rate, true_positive_rate, n):\n",
        "    prior_belief = prob_drunk_prior\n",
        "    anti_prior_belief = 1 - prior_belief\n",
        "    true_pos = true_positive_rate \n",
        "    false_pos = false_positive_rate \n",
        "    n = 1 + n\n",
        "\n",
        "    probability = true_pos*prior_belief / ((true_pos*prior_belief) +(false_pos*anti_prior_belief))\n",
        "    probability = float(probability)\n",
        "    return probability\n",
        "    probability = probability\n",
        "\n"
      ],
      "execution_count": 0,
      "outputs": []
    },
    {
      "cell_type": "code",
      "metadata": {
        "id": "W9yuFK9wZWHo",
        "colab_type": "code",
        "outputId": "188e04cb-c3d9-46e0-a853-df01e4abf515",
        "colab": {
          "base_uri": "https://localhost:8080/",
          "height": 34
        }
      },
      "source": [
        "\n",
        "time_1 = prob_drunk_given_positive(prob_drunk_prior, false_positive_rate, true_positive_rate, n)\n",
        "probability = probability\n",
        "print('{:.02f}'.format(time_1*100)+ '%', 'is from the 1st time.')"
      ],
      "execution_count": 0,
      "outputs": [
        {
          "output_type": "stream",
          "text": [
            "1.24% is from the 1st time.\n"
          ],
          "name": "stdout"
        }
      ]
    },
    {
      "cell_type": "code",
      "metadata": {
        "id": "OTpKiSWhaYc5",
        "colab_type": "code",
        "outputId": "1e55f462-377d-4737-e34d-394d897257be",
        "colab": {
          "base_uri": "https://localhost:8080/",
          "height": 34
        }
      },
      "source": [
        "prob_drunk_prior = time_1\n",
        "prob_drunk_given_positive(prob_drunk_prior, false_positive_rate, true_positive_rate, n)\n",
        "time_1 = prob_drunk_given_positive(prob_drunk_prior, false_positive_rate, true_positive_rate, n)\n",
        "print('{:.02f}'.format(time_1*100)+ '%', 'is from the 2nd time.')"
      ],
      "execution_count": 0,
      "outputs": [
        {
          "output_type": "stream",
          "text": [
            "13.53% is from the 2nd time.\n"
          ],
          "name": "stdout"
        }
      ]
    },
    {
      "cell_type": "code",
      "metadata": {
        "id": "492-Pub2javz",
        "colab_type": "code",
        "outputId": "a6c70a0d-ef87-4f72-e91b-7c0a4a0759f5",
        "colab": {
          "base_uri": "https://localhost:8080/",
          "height": 34
        }
      },
      "source": [
        "prob_drunk_prior = time_1\n",
        "prob_drunk_given_positive(prob_drunk_prior, false_positive_rate, true_positive_rate, n)\n",
        "time_1 = prob_drunk_given_positive(prob_drunk_prior, false_positive_rate, true_positive_rate, n)\n",
        "print('{:.02f}'.format(time_1*100)+ '%', 'is from the 3rd time.')"
      ],
      "execution_count": 0,
      "outputs": [
        {
          "output_type": "stream",
          "text": [
            "66.16% is from the 3rd time.\n"
          ],
          "name": "stdout"
        }
      ]
    },
    {
      "cell_type": "code",
      "metadata": {
        "id": "3zTke88_jdLU",
        "colab_type": "code",
        "outputId": "526f5319-5336-4f5a-f733-be66fba93c01",
        "colab": {
          "base_uri": "https://localhost:8080/",
          "height": 34
        }
      },
      "source": [
        "prob_drunk_prior = time_1\n",
        "prob_drunk_given_positive(prob_drunk_prior, false_positive_rate, true_positive_rate, n)\n",
        "time_1 = prob_drunk_given_positive(prob_drunk_prior, false_positive_rate, true_positive_rate, n)\n",
        "print('{:.02f}'.format(time_1*100)+ '%', 'is from the 4th time.')"
      ],
      "execution_count": 0,
      "outputs": [
        {
          "output_type": "stream",
          "text": [
            "96.07% is from the 4th time.\n"
          ],
          "name": "stdout"
        }
      ]
    },
    {
      "cell_type": "markdown",
      "metadata": {
        "id": "08Z8oXNcjrgM",
        "colab_type": "text"
      },
      "source": [
        "What is the probability that a person is drunk after one positive breathalyzer test? 1.24%\n",
        "What is the probability that a person is drunk after two positive breathalyzer tests? 13.53%\n",
        "How many positive breathalyzer tests are needed in order to have a probability that's greater than 95% that a person is drunk beyond the legal limit? 3 tests"
      ]
    },
    {
      "cell_type": "code",
      "metadata": {
        "id": "VLgyWob7kLIS",
        "colab_type": "code",
        "outputId": "0e669edc-33e0-4f21-9160-ce444588bcd5",
        "colab": {
          "base_uri": "https://localhost:8080/",
          "height": 265
        }
      },
      "source": [
        "import pandas as pd\n",
        "import matplotlib.pyplot as plt\n",
        "import seaborn as sns\n",
        "import scipy.stats as stats\n",
        "import numpy as np\n",
        "\n",
        "\n",
        "columns = ['party', 'handicapped-infants', 'water-project-cost-sharing', 'adoption-of-the-budget-resolution',\n",
        "           'physician-fee-freeze', 'el-salvador-aid', 'religious-groups-in-schools', 'anti-satellite-test-ban',\n",
        "           'aid-to-nicaraguan-contras', 'mx-missile', 'immigration', 'synfuels-corporation-cutback',\n",
        "           'education-spending', 'superfund-right-to-sue', 'crime', 'duty-free-exports',\n",
        "           'export-administration-act-south-africa']\n",
        "\n",
        "data = pd.read_csv('https://archive.ics.uci.edu/ml/machine-learning-databases/voting-records/house-votes-84.data',\n",
        "                   na_values='?', names=columns)\n",
        "data = data.dropna(how='any')\n",
        "data = data.replace({'y': 1, 'n': 0})\n",
        "\n",
        "\n",
        "\n",
        "data = data.dropna(how='any')\n",
        "data = data.replace({'y': 1, 'n': 0})\n",
        "rep = data[data['party'] == 'republican']\n",
        "dem = data[data['party'] == 'democrat']\n",
        "newa = rep['water-project-cost-sharing']\n",
        "newb = dem['water-project-cost-sharing']\n",
        "\n",
        "CIB = stats.bayes_mvs(newa, alpha=.9)[0][1]\n",
        "CIF = stats.t.interval(.90, len(newa), loc=np.mean(newa), scale=stats.sem(newa))\n",
        "sns.kdeplot(newa)\n",
        "\n",
        "\n",
        "plt.xlim(.3921, .3922)\n",
        "plt.axvline(x=CIF[0], color='red')\n",
        "plt.axvline(x=CIF[1], color='red')\n",
        "plt.axvline(x=np.mean(newa), color='k')\n",
        "plt.axvline(x=CIB[0], color='green')\n",
        "plt.axvline(x=CIB[1], color='green');"
      ],
      "execution_count": 0,
      "outputs": [
        {
          "output_type": "display_data",
          "data": {
            "image/png": "[encoded data removed]",
            "text/plain": [
              "<Figure size 432x288 with 1 Axes>"
            ]
          },
          "metadata": {
            "tags": []
          }
        }
      ]
    },
    {
      "cell_type": "markdown",
      "metadata": {
        "id": "5zhKDhsszkd7",
        "colab_type": "text"
      },
      "source": [
        "The difference in bayesian and Frequentist statistics is how they use prior data in coming up with a conclusion."
      ]
    },
    {
      "cell_type": "markdown",
      "metadata": {
        "id": "uWgWjp3PQ3Sq",
        "colab_type": "text"
      },
      "source": [
        "## Resources"
      ]
    },
    {
      "cell_type": "markdown",
      "metadata": {
        "id": "QRgHqmYIQ9qn",
        "colab_type": "text"
      },
      "source": [
        "- [Worked example of Bayes rule calculation](https://en.wikipedia.org/wiki/Bayes'_theorem#Examples) (helpful as it fully breaks out the denominator)\n",
        "- [Source code for mvsdist in scipy](https://github.com/scipy/scipy/blob/90534919e139d2a81c24bf08341734ff41a3db12/scipy/stats/morestats.py#L139)"
      ]
    },
    {
      "cell_type": "markdown",
      "metadata": {
        "id": "GP7Jv1XvwtkX",
        "colab_type": "text"
      },
      "source": [
        "## Stretch Goals:\n",
        "\n",
        "- Go back and study the content from Modules 1 & 2 to make sure that you're really comfortable with them.\n",
        "- Apply a Bayesian technique to a problem you previously worked (in an assignment or project work) on from a frequentist (standard) perspective\n",
        "- Check out [PyMC3](https://docs.pymc.io/) (note this goes beyond hypothesis tests into modeling) - read the guides and work through some examples\n",
        "- Take PyMC3 further - see if you can build something with it!"
      ]
    },
    {
      "cell_type": "code",
      "metadata": {
        "id": "iDi0eFr1x-v_",
        "colab_type": "code",
        "colab": {}
      },
      "source": [
        ""
      ],
      "execution_count": 0,
      "outputs": []
    }
  ]
}