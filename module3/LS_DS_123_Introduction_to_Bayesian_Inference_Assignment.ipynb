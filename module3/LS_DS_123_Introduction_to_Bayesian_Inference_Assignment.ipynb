{
  "nbformat": 4,
  "nbformat_minor": 0,
  "metadata": {
    "colab": {
      "name": "LS_DS_123_Introduction_to_Bayesian_Inference_Assignment.ipynb",
      "provenance": []
    },
    "kernelspec": {
      "name": "python3",
      "display_name": "Python 3"
    }
  },
  "cells": [
    {
      "cell_type": "markdown",
      "metadata": {
        "id": "H7OLbevlbd_Z",
        "colab_type": "text"
      },
      "source": [
        "# Lambda School Data Science Module 123\n",
        "\n",
        "## Introduction to Bayesian Inference\n",
        "\n",
        "\n"
      ]
    },
    {
      "cell_type": "markdown",
      "metadata": {
        "id": "P-DzzRk5bf0z",
        "colab_type": "text"
      },
      "source": [
        "## Assignment - Code it up!\n",
        "\n",
        "We used pure math to apply Bayes Theorem to drug tests. Now write Python code to reproduce the results! This is purposefully open ended - you'll have to think about how you should represent probabilities and events. You can and should look things up.\n",
        "\n",
        "Specific goals/targets:\n",
        "\n",
        "### 1) Write a function \n",
        "\n",
        "`def prob_drunk_given_positive(prob_drunk_prior, false_positive_rate):` \n",
        "\n",
        "You should only truly need these two values in order to apply Bayes Theorem. In this example, imagine that individuals are taking a breathalyzer test with an 8% false positive rate, a 100% true positive rate, and that our prior belief about drunk driving in the population is 1/1000."
      ]
    },
    {
      "cell_type": "code",
      "metadata": {
        "id": "xpVhZyUnbf7o",
        "colab_type": "code",
        "colab": {}
      },
      "source": [
        "def p_drunk_pos(p_prior, p_true_positive, p_false_positive):\n",
        "  return (p_true_positive * p_prior) / ((p_true_positive * p_prior) + (p_false_positive * (1 - p_prior)))"
      ],
      "execution_count": 0,
      "outputs": []
    },
    {
      "cell_type": "markdown",
      "metadata": {
        "id": "x4zTMAKmzwUj",
        "colab_type": "text"
      },
      "source": [
        "**What is the probability that a person is drunk after one positive breathalyzer test?**"
      ]
    },
    {
      "cell_type": "code",
      "metadata": {
        "id": "s3nxc9Wg0Ade",
        "colab_type": "code",
        "colab": {
          "base_uri": "https://localhost:8080/",
          "height": 34
        },
        "outputId": "1f1a6f04-62e5-4524-eb15-6ebf4c8715c2"
      },
      "source": [
        "test1 = p_drunk_pos(1/1000, 1, 0.08)\n",
        "print(test1)"
      ],
      "execution_count": 41,
      "outputs": [
        {
          "output_type": "stream",
          "text": [
            "0.012357884330202669\n"
          ],
          "name": "stdout"
        }
      ]
    },
    {
      "cell_type": "markdown",
      "metadata": {
        "id": "1svwC7jCz2wE",
        "colab_type": "text"
      },
      "source": [
        "**What is the probability that a person is drunk after two positive breathalyzer tests?**"
      ]
    },
    {
      "cell_type": "code",
      "metadata": {
        "id": "wCq4GwbS0Mc7",
        "colab_type": "code",
        "colab": {
          "base_uri": "https://localhost:8080/",
          "height": 34
        },
        "outputId": "7d8376d6-0ad0-4ced-c1da-a8edf9430785"
      },
      "source": [
        "test2 = p_drunk_pos(test1, 1, 0.08)\n",
        "print(test2)"
      ],
      "execution_count": 42,
      "outputs": [
        {
          "output_type": "stream",
          "text": [
            "0.13525210993291495\n"
          ],
          "name": "stdout"
        }
      ]
    },
    {
      "cell_type": "markdown",
      "metadata": {
        "id": "jmGJlc9oz9uN",
        "colab_type": "text"
      },
      "source": [
        "**How many positive breathalyzer tests are needed in order to have a probability that's greater than 95% that a person is drunk beyond the legal limit?**"
      ]
    },
    {
      "cell_type": "code",
      "metadata": {
        "id": "6GgvXKl161cq",
        "colab_type": "code",
        "colab": {}
      },
      "source": [
        "# RECURSIVE BAYES FUNCTION UNTIL 'p' THRESHOLD MET\n",
        "# RETURNS UPDATED P(A|B) PRIOR BELIEF AND 'n' ITERATIONS REQUIRED\n",
        "def bayes_repeat(p_prior, p_true_positive, p_false_positive, p=0.05):\n",
        "  n = 0\n",
        "  while p_prior < (1 - p):\n",
        "    n += 1\n",
        "    p_prior = p_drunk_pos(p_prior, p_true_positive, p_false_positive)\n",
        "  return (p_prior, n)"
      ],
      "execution_count": 0,
      "outputs": []
    },
    {
      "cell_type": "code",
      "metadata": {
        "id": "iw6pfylAfMJB",
        "colab_type": "code",
        "colab": {
          "base_uri": "https://localhost:8080/",
          "height": 34
        },
        "outputId": "306465a4-eb39-44ab-bbc0-cfe756517896"
      },
      "source": [
        "# \n",
        "bayes_repeat(1/1000, 1, 0.08)"
      ],
      "execution_count": 44,
      "outputs": [
        {
          "output_type": "execute_result",
          "data": {
            "text/plain": [
              "(0.9606895076105054, 4)"
            ]
          },
          "metadata": {
            "tags": []
          },
          "execution_count": 44
        }
      ]
    },
    {
      "cell_type": "markdown",
      "metadata": {
        "id": "zJMA4zaouRuE",
        "colab_type": "text"
      },
      "source": [
        "### 2) Explore `scipy.stats.bayes_mvs`  \n",
        "Read its documentation, and experiment with it on data you've tested in other ways earlier this week.\n",
        " - Create a visualization comparing the results of a Bayesian approach to a traditional/frequentist approach. (with a large sample size they should look close to identical, however, take this opportunity to practice visualizing condfidence intervals in general. The following are some potential ways that you could visualize confidence intervals on your graph:\n",
        "  - [Matplotlib Error Bars](https://matplotlib.org/3.1.1/api/_as_gen/matplotlib.pyplot.errorbar.html)\n",
        "  - [Seaborn barplot with error bars](https://seaborn.pydata.org/generated/seaborn.barplot.html)\n",
        "  - [Vertical ines to show bounds of confidence interval](https://www.simplypsychology.org/confidence-interval.jpg)\n",
        "  - [Confidence Intervals on Box Plots](https://matplotlib.org/3.1.1/api/_as_gen/matplotlib.axes.Axes.boxplot.html)\n"
      ]
    },
    {
      "cell_type": "code",
      "metadata": {
        "id": "-gD9_I5NuVLS",
        "colab_type": "code",
        "colab": {}
      },
      "source": [
        "import pandas as pd\n",
        "import numpy as np\n",
        "from scipy import stats\n",
        "import seaborn as sns\n",
        "import matplotlib.pyplot as plt"
      ],
      "execution_count": 0,
      "outputs": []
    },
    {
      "cell_type": "code",
      "metadata": {
        "id": "lOICrTIJzBXr",
        "colab_type": "code",
        "colab": {}
      },
      "source": [
        "# !wget https://archive.ics.uci.edu/ml/machine-learning-databases/voting-records/house-votes-84.data"
      ],
      "execution_count": 0,
      "outputs": []
    },
    {
      "cell_type": "code",
      "metadata": {
        "id": "C2hQhZYTzDrz",
        "colab_type": "code",
        "colab": {}
      },
      "source": [
        "votes = pd.read_csv('house-votes-84.data', \n",
        "                 header=None,\n",
        "                 names=['party','handicapped-infants','water-project',\n",
        "                          'budget','physician-fee-freeze', 'el-salvador-aid',\n",
        "                          'religious-groups','anti-satellite-ban',\n",
        "                          'aid-to-contras','mx-missile','immigration',\n",
        "                          'synfuels', 'education', 'right-to-sue','crime','duty-free',\n",
        "                          'south-africa'])\n",
        "votes = votes.replace({'?':np.NaN, 'n':0, 'y':1})\n",
        "democrat = votes[votes['party'] == 'democrat']\n",
        "republican = votes[votes['party'] == 'republican']\n",
        "republican = republican.fillna(0.5)"
      ],
      "execution_count": 0,
      "outputs": []
    },
    {
      "cell_type": "code",
      "metadata": {
        "id": "yrbaMy_61KZ6",
        "colab_type": "code",
        "colab": {}
      },
      "source": [
        "def confidence_interval(data, confidence=0.95):\n",
        "  \"\"\"\n",
        "  Calculate a confidence interval around a sample mean for given data.\n",
        "  Using t-distribution and two-tailed test, default 95% confidence. \n",
        "  \n",
        "  Arguments:\n",
        "    data - iterable (list or numpy array) of sample observations\n",
        "    confidence - level of confidence for the interval\n",
        "  \n",
        "  Returns:\n",
        "    tuple of (mean, lower bound, upper bound)\n",
        "  \"\"\"\n",
        "#  data = np.array(data)\n",
        "  mean = np.mean(data)\n",
        "  n = len(data)\n",
        "  stderr = (np.std(data, ddof=1) / np.sqrt(n))\n",
        "  t = stats.t.ppf((1 + confidence) / 2.0, n - 1)\n",
        "  moe = stderr * t\n",
        "  return (mean, mean - moe, mean + moe)"
      ],
      "execution_count": 0,
      "outputs": []
    },
    {
      "cell_type": "code",
      "metadata": {
        "id": "1Zm_gCY71MDJ",
        "colab_type": "code",
        "colab": {
          "base_uri": "https://localhost:8080/",
          "height": 282
        },
        "outputId": "9c2616df-f2c4-4ecc-953c-a2999431d3ad"
      },
      "source": [
        "# FREQUENTIST PLOT\n",
        "plot_data = republican['education']\n",
        "sns.kdeplot(plot_data.values, bw=0.15)\n",
        "ci = confidence_interval(plot_data)\n",
        "plt.axvline(x=ci[1], color='red')\n",
        "plt.axvline(x=ci[2], color='red')\n",
        "plt.axvline(x=ci[0], color='k');\n",
        "confidence_interval(republican['education'])"
      ],
      "execution_count": 49,
      "outputs": [
        {
          "output_type": "execute_result",
          "data": {
            "text/plain": [
              "(0.8422619047619048, 0.7907902004041876, 0.893733609119622)"
            ]
          },
          "metadata": {
            "tags": []
          },
          "execution_count": 49
        },
        {
          "output_type": "display_data",
          "data": {
            "image/png": "[encoded data removed]",
            "text/plain": [
              "<Figure size 432x288 with 1 Axes>"
            ]
          },
          "metadata": {
            "tags": []
          }
        }
      ]
    },
    {
      "cell_type": "code",
      "metadata": {
        "id": "VHbxoJuOzF3N",
        "colab_type": "code",
        "colab": {
          "base_uri": "https://localhost:8080/",
          "height": 282
        },
        "outputId": "28f5e2c1-265b-4d8e-8f5b-154fecaedc42"
      },
      "source": [
        "# BAYESIAN PLOT (p=0.10)\n",
        "b_mean, _, _ = stats.bayes_mvs(republican['education'], alpha=0.90)\n",
        "sns.kdeplot(plot_data.values, bw=0.15)\n",
        "plt.axvline(x=b_mean[1][0], color='red')\n",
        "plt.axvline(x=b_mean[1][1], color='red')\n",
        "plt.axvline(x=ci[0], color='k');\n",
        "b_mean"
      ],
      "execution_count": 50,
      "outputs": [
        {
          "output_type": "execute_result",
          "data": {
            "text/plain": [
              "Mean(statistic=0.8422619047619048, minmax=(0.7991393039965766, 0.8853845055272329))"
            ]
          },
          "metadata": {
            "tags": []
          },
          "execution_count": 50
        },
        {
          "output_type": "display_data",
          "data": {
            "image/png": "[encoded data removed]",
            "text/plain": [
              "<Figure size 432x288 with 1 Axes>"
            ]
          },
          "metadata": {
            "tags": []
          }
        }
      ]
    },
    {
      "cell_type": "markdown",
      "metadata": {
        "id": "mWN0DwOOuXUs",
        "colab_type": "text"
      },
      "source": [
        "### 3) In your own words, summarize the difference between Bayesian and Frequentist statistics\n",
        "\n",
        "If you're unsure where to start, check out [this blog post of Bayes theorem with Python](https://dataconomy.com/2015/02/introduction-to-bayes-theorem-with-python/).\n"
      ]
    },
    {
      "cell_type": "markdown",
      "metadata": {
        "id": "wvmdjY4w3UQf",
        "colab_type": "text"
      },
      "source": [
        "**Frequentist**\n",
        "\n",
        "Frequentist statistics determine statistical significance by testing the difference between the observed result and the expected result. If the probability the observed result/calculation is unlikely (*extreme*), beyond a certain threshold, the observed result is concluded to have been unlikely to have happened based on chance alone, and of significance\n",
        "\n",
        "**Bayesian**\n",
        "\n",
        "Bayesian statistics, differ from frequentist statistics, as they incorporate \"prior belief\" or a probability that some condition is true (or event will happen) in the overall population. The probability that some event A happend, given a condition B, depends on the probability A in general. When done iteratively, the probability of A given B, is then used to update the \"prior belief\" to be used in probabilities in the future."
      ]
    },
    {
      "cell_type": "markdown",
      "metadata": {
        "id": "uWgWjp3PQ3Sq",
        "colab_type": "text"
      },
      "source": [
        "## Resources"
      ]
    },
    {
      "cell_type": "markdown",
      "metadata": {
        "id": "QRgHqmYIQ9qn",
        "colab_type": "text"
      },
      "source": [
        "- [Worked example of Bayes rule calculation](https://en.wikipedia.org/wiki/Bayes'_theorem#Examples) (helpful as it fully breaks out the denominator)\n",
        "- [Source code for mvsdist in scipy](https://github.com/scipy/scipy/blob/90534919e139d2a81c24bf08341734ff41a3db12/scipy/stats/morestats.py#L139)"
      ]
    },
    {
      "cell_type": "markdown",
      "metadata": {
        "id": "GP7Jv1XvwtkX",
        "colab_type": "text"
      },
      "source": [
        "## Stretch Goals:\n",
        "\n",
        "- Go back and study the content from Modules 1 & 2 to make sure that you're really comfortable with them.\n",
        "- Apply a Bayesian technique to a problem you previously worked (in an assignment or project work) on from a frequentist (standard) perspective\n",
        "- Check out [PyMC3](https://docs.pymc.io/) (note this goes beyond hypothesis tests into modeling) - read the guides and work through some examples\n",
        "- Take PyMC3 further - see if you can build something with it!"
      ]
    }
  ]
}