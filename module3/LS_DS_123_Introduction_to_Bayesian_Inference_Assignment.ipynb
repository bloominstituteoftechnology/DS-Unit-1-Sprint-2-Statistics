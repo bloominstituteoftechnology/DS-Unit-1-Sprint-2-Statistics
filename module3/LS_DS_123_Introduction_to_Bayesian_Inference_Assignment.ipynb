{
  "nbformat": 4,
  "nbformat_minor": 0,
  "metadata": {
    "colab": {
      "name": "LS_DS_123_Introduction_to_Bayesian_Inference_Assignment.ipynb",
      "provenance": []
    },
    "kernelspec": {
      "name": "python3",
      "display_name": "Python 3"
    }
  },
  "cells": [
    {
      "cell_type": "markdown",
      "metadata": {
        "id": "H7OLbevlbd_Z",
        "colab_type": "text"
      },
      "source": [
        "# Lambda School Data Science Module 123\n",
        "\n",
        "## Introduction to Bayesian Inference\n",
        "\n",
        "\n"
      ]
    },
    {
      "cell_type": "markdown",
      "metadata": {
        "id": "P-DzzRk5bf0z",
        "colab_type": "text"
      },
      "source": [
        "## Assignment - Code it up!\n",
        "\n",
        "We used pure math to apply Bayes Theorem to drug tests. Now write Python code to reproduce the results! This is purposefully open ended - you'll have to think about how you should represent probabilities and events. You can and should look things up.\n",
        "\n",
        "Specific goals/targets:\n",
        "\n",
        "### 1) Write a function \n",
        "\n",
        "`def prob_drunk_given_positive(prob_drunk_prior, false_positive_rate):` \n",
        "\n",
        "You should only truly need these two values in order to apply Bayes Theorem. In this example, imagine that individuals are taking a breathalyzer test with an 8% false positive rate, a 100% true positive rate, and that our prior belief about drunk driving in the population is 1/1000. \n",
        " - What is the probability that a person is drunk after one positive breathalyzer test?\n",
        " - What is the probability that a person is drunk after two positive breathalyzer tests?\n",
        " - How many positive breathalyzer tests are needed in order to have a probability that's greater than 95% that a person is drunk beyond the legal limit?\n",
        "\n",
        "### 2) Explore `scipy.stats.bayes_mvs`  \n",
        "Read its documentation, and experiment with it on data you've tested in other ways earlier this week.\n",
        " - Create a visualization comparing the results of a Bayesian approach to a traditional/frequentist approach. (with a large sample size they should look close to identical, however, take this opportunity to practice visualizing condfidence intervals in general. The following are some potential ways that you could visualize confidence intervals on your graph:\n",
        "  - [Matplotlib Error Bars](https://matplotlib.org/3.1.1/api/_as_gen/matplotlib.pyplot.errorbar.html)\n",
        "  - [Seaborn barplot with error bars](https://seaborn.pydata.org/generated/seaborn.barplot.html)\n",
        "  - [Vertical ines to show bounds of confidence interval](https://www.simplypsychology.org/confidence-interval.jpg)\n",
        "  - [Confidence Intervals on Box Plots](https://matplotlib.org/3.1.1/api/_as_gen/matplotlib.axes.Axes.boxplot.html)\n",
        "\n",
        "### 3) In your own words, summarize the difference between Bayesian and Frequentist statistics\n",
        "\n",
        "If you're unsure where to start, check out [this blog post of Bayes theorem with Python](https://dataconomy.com/2015/02/introduction-to-bayes-theorem-with-python/).\n",
        "\n"
      ]
    },
    {
      "cell_type": "code",
      "metadata": {
        "id": "xpVhZyUnbf7o",
        "colab_type": "code",
        "colab": {
          "base_uri": "https://localhost:8080/",
          "height": 286
        },
        "outputId": "1397b68f-4530-4ee7-a887-a1cb78f145c5"
      },
      "source": [
        "import pandas as pd\n",
        "import numpy as np\n",
        "import matplotlib.pyplot as plt\n",
        "from scipy import stats\n",
        "\n",
        "# 8% false positive\n",
        "# 100 true positive\n",
        "# 1/1000 drunk driver probability\n",
        "\n",
        "def prob_drunk_given_positive(prob_drunk_prior, false_positive_rate):\n",
        "    \n",
        "    numerator = 1 * prob_drunk_prior\n",
        "    denominator = (1 * prob_drunk_prior) + (false_positive_rate * (1 - prob_drunk_prior))\n",
        "    return numerator/denominator\n",
        "\n",
        "\n",
        "tests = 0\n",
        "prob_drunk = 1/1000\n",
        "\n",
        "print(\"Tests:\", tests)\n",
        "print(\"Probability:\", round(prob_drunk * 100, 1), \"%\")\n",
        "print(\"\")\n",
        "\n",
        "while prob_drunk < 0.95:\n",
        "    tests = tests + 1\n",
        "    prob_drunk = prob_drunk_given_positive(prob_drunk, 0.07)\n",
        "    print(\"Tests:\", tests)\n",
        "    print(\"Probability:\", round(prob_drunk * 100, 1), \"%\")\n",
        "    print(\"\")\n",
        "\n",
        "print(\"Done!\")"
      ],
      "execution_count": 48,
      "outputs": [
        {
          "output_type": "stream",
          "text": [
            "Tests: 0\n",
            "Probability: 0.1 %\n",
            "\n",
            "Tests: 1\n",
            "Probability: 1.4 %\n",
            "\n",
            "Tests: 2\n",
            "Probability: 17.0 %\n",
            "\n",
            "Tests: 3\n",
            "Probability: 74.5 %\n",
            "\n",
            "Tests: 4\n",
            "Probability: 97.7 %\n",
            "\n",
            "Done!\n"
          ],
          "name": "stdout"
        }
      ]
    },
    {
      "cell_type": "markdown",
      "metadata": {
        "id": "B3FqbfGOfIYF",
        "colab_type": "text"
      },
      "source": [
        "After one test, we are only 1.4% certain that the test has not given us a false positive. After two tests, it is only raised to 17%. Only after four tests are we over 95% certain we do not have a false positive. "
      ]
    },
    {
      "cell_type": "code",
      "metadata": {
        "id": "lnh2SEfAmLYe",
        "colab_type": "code",
        "colab": {}
      },
      "source": [
        "# Perform confidence test once more on the voting data, \n",
        "# this time with scipy.stats.bayes_mvs function.\n",
        "\n",
        "url = 'https://archive.ics.uci.edu/ml/machine-learning-databases/voting-records/house-votes-84.data'\n",
        "\n",
        "header_titles = ['party',\n",
        "                 'handicapped-infants',\n",
        "                 'water-project-cost-sharing',\n",
        "                 'adoption-of-the-budget-resolution',\n",
        "                 'physician-fee-freeze',\n",
        "                 'el-salvador-aid',\n",
        "                 'religious-groups-in-schools',\n",
        "                 'anti-satellite-test-ban',\n",
        "                 'aid-to-nicaraguan-contras',\n",
        "                 'mx-missile',\n",
        "                 'immigration',\n",
        "                 'synfuels-corporation-cutback',\n",
        "                 'education-spending',\n",
        "                 'superfund-right-to-sue',\n",
        "                 'crime',\n",
        "                 'duty-free-exports',\n",
        "                 'export-administration-act-south-africa']\n",
        "\n",
        "df = pd.read_csv(url, names=header_titles, na_values='?')\n",
        "df = df.replace({'y':1, 'n':0})\n",
        "rep = df[df['party']=='republican']\n",
        "dem = df[df['party'] =='democrat']\n",
        "\n",
        "def confidence_interval(data, confidence=0.95):\n",
        "  data = np.array(data.dropna()) # Make sure to drop NaN values!\n",
        "  mean = np.mean(data)\n",
        "  n = len(data)\n",
        "  s = np.std(data, ddof=1)\n",
        "  stderr = s / np.sqrt(n)\n",
        "  margin_of_error = stderr * stats.t.ppf((1 + confidence) / 2.0, n - 1)\n",
        "  return (mean, margin_of_error)"
      ],
      "execution_count": 0,
      "outputs": []
    },
    {
      "cell_type": "code",
      "metadata": {
        "id": "zhOFk8t3ogdl",
        "colab_type": "code",
        "colab": {
          "base_uri": "https://localhost:8080/",
          "height": 101
        },
        "outputId": "15ebe048-6bdc-4df1-f205-36e592bab7fa"
      },
      "source": [
        "bayesian_confidence_interval, _, _ = stats.bayes_mvs(dem['water-project-cost-sharing'].dropna(), alpha=0.95)\n",
        "statistic, minmax = bayesian_confidence_interval\n",
        "min, max = minmax\n",
        "print(statistic)\n",
        "print(min)\n",
        "print(max)\n",
        "print(max - statistic)\n",
        "print(statistic - min)"
      ],
      "execution_count": 50,
      "outputs": [
        {
          "output_type": "stream",
          "text": [
            "0.502092050209205\n",
            "0.43824514095228484\n",
            "0.5659389594661252\n",
            "0.06384690925692016\n",
            "0.06384690925692016\n"
          ],
          "name": "stdout"
        }
      ]
    },
    {
      "cell_type": "code",
      "metadata": {
        "id": "8IEBV01wqAmy",
        "colab_type": "code",
        "colab": {
          "base_uri": "https://localhost:8080/",
          "height": 281
        },
        "outputId": "9194a0d8-6233-4cf2-9136-0e806808c239"
      },
      "source": [
        "rep_means = []\n",
        "rep_error = []\n",
        "dem_means = []\n",
        "dem_error = []\n",
        "\n",
        "header = 'water-project-cost-sharing'\n",
        "\n",
        "mean, error = confidence_interval(rep[header].dropna())\n",
        "rep_means.append(mean*100)\n",
        "rep_error.append(error*100)\n",
        "\n",
        "mean, error = confidence_interval(dem[header].dropna())\n",
        "dem_means.append(mean*100)\n",
        "dem_error.append(error*100)\n",
        "\n",
        "bayesian_confidence_interval, _, _ = stats.bayes_mvs(rep[header].dropna(), alpha=0.95)\n",
        "mean, minmax = bayesian_confidence_interval\n",
        "min, max = minmax\n",
        "error = max - mean\n",
        "rep_means.append(mean*100)\n",
        "rep_error.append(error*100)\n",
        "\n",
        "bayesian_confidence_interval, _, _ = stats.bayes_mvs(dem[header].dropna(), alpha=0.95)\n",
        "mean, minmax = bayesian_confidence_interval\n",
        "min, max = minmax\n",
        "error = max - mean\n",
        "dem_means.append(mean*100)\n",
        "dem_error.append(error*100)\n",
        "\n",
        "labels = ['Frequentist Method', 'Bayesian Method']\n",
        "\n",
        "x = np.arange(len(labels))  # the label locations\n",
        "width = 0.35  # the width of the bars\n",
        "fig, ax = plt.subplots()\n",
        "rects1 = ax.bar(x - width/2, rep_means, width, yerr=rep_error, label='Republicans', color='tomato')\n",
        "rects2 = ax.bar(x + width/2, dem_means, width, yerr=dem_error, label='Democrats', color='cornflowerblue')\n",
        "\n",
        "ax.set_ylabel('Percent votes in favor')\n",
        "ax.set_title('Percentage In Favor of Resolution Per Party')\n",
        "ax.set_xticks(x)\n",
        "ax.set_xticklabels(labels)\n",
        "ax.legend();\n"
      ],
      "execution_count": 51,
      "outputs": [
        {
          "output_type": "display_data",
          "data": {
            "image/png": "[encoded data removed]",
            "text/plain": [
              "<Figure size 432x288 with 1 Axes>"
            ]
          },
          "metadata": {
            "tags": []
          }
        }
      ]
    },
    {
      "cell_type": "markdown",
      "metadata": {
        "id": "Tzig8ANEwq0G",
        "colab_type": "text"
      },
      "source": [
        "# Difference between Frequentist and Bayesian statistics\n",
        "\n",
        "In the XKCD comic shown during the lecture, we're introduced to a machine that measures if the sun has exploded, and then rolls two dice. If both dice come up 6, it tells the truth. \n",
        "\n",
        "Upon the machine saying that the sun has exploded, the Frequentist calculates the probibility of both dice being rolled as a 'six', comes up with a p value based off of this, and assumes that the sun has exploded. They made their assesment entirely on the frequency of a false positive, assuming the sun has actually blown up. \n",
        "\n",
        "The Bayesian, however, takes into account the statistical unlikelyhood of the sun exploding, the chance of which is astronomically smaller than rolling a six on two dice. That is to say, the Bayesian method takes into account not only the chance of getting a false positive, but the chance of the test being truly positive at all. \n",
        "\n"
      ]
    },
    {
      "cell_type": "markdown",
      "metadata": {
        "id": "uWgWjp3PQ3Sq",
        "colab_type": "text"
      },
      "source": [
        "## Resources"
      ]
    },
    {
      "cell_type": "markdown",
      "metadata": {
        "id": "QRgHqmYIQ9qn",
        "colab_type": "text"
      },
      "source": [
        "- [Worked example of Bayes rule calculation](https://en.wikipedia.org/wiki/Bayes'_theorem#Examples) (helpful as it fully breaks out the denominator)\n",
        "- [Source code for mvsdist in scipy](https://github.com/scipy/scipy/blob/90534919e139d2a81c24bf08341734ff41a3db12/scipy/stats/morestats.py#L139)"
      ]
    },
    {
      "cell_type": "markdown",
      "metadata": {
        "id": "GP7Jv1XvwtkX",
        "colab_type": "text"
      },
      "source": [
        "## Stretch Goals:\n",
        "\n",
        "- Go back and study the content from Modules 1 & 2 to make sure that you're really comfortable with them.\n",
        "- Apply a Bayesian technique to a problem you previously worked (in an assignment or project work) on from a frequentist (standard) perspective\n",
        "- Check out [PyMC3](https://docs.pymc.io/) (note this goes beyond hypothesis tests into modeling) - read the guides and work through some examples\n",
        "- Take PyMC3 further - see if you can build something with it!"
      ]
    },
    {
      "cell_type": "code",
      "metadata": {
        "id": "iDi0eFr1x-v_",
        "colab_type": "code",
        "colab": {}
      },
      "source": [
        ""
      ],
      "execution_count": 0,
      "outputs": []
    }
  ]
}