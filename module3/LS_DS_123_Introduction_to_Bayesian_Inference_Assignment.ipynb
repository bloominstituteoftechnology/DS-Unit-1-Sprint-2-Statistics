{
  "nbformat": 4,
  "nbformat_minor": 0,
  "metadata": {
    "colab": {
      "name": "LS_DS_123_Introduction_to_Bayesian_Inference_Assignment.ipynb",
      "provenance": [],
      "include_colab_link": true
    },
    "kernelspec": {
      "name": "python3",
      "display_name": "Python 3"
    }
  },
  "cells": [
    {
      "cell_type": "markdown",
      "metadata": {
        "id": "view-in-github",
        "colab_type": "text"
      },
      "source": [
        "<a href=\"https://colab.research.google.com/github/phuonggtrann/DS-Unit-1-Sprint-2-Statistics/blob/master/module3/LS_DS_123_Introduction_to_Bayesian_Inference_Assignment.ipynb\" target=\"_parent\"><img src=\"https://colab.research.google.com/assets/colab-badge.svg\" alt=\"Open In Colab\"/></a>"
      ]
    },
    {
      "cell_type": "markdown",
      "metadata": {
        "id": "H7OLbevlbd_Z",
        "colab_type": "text"
      },
      "source": [
        "# Lambda School Data Science Module 123\n",
        "\n",
        "## Introduction to Bayesian Inference\n",
        "\n",
        "\n"
      ]
    },
    {
      "cell_type": "markdown",
      "metadata": {
        "id": "P-DzzRk5bf0z",
        "colab_type": "text"
      },
      "source": [
        "## Assignment - Code it up!\n",
        "\n",
        "We used pure math to apply Bayes Theorem to drug tests. Now write Python code to reproduce the results! This is purposefully open ended - you'll have to think about how you should represent probabilities and events. You can and should look things up.\n",
        "\n",
        "Specific goals/targets:\n",
        "\n",
        "### 1) Write a function \n",
        "\n",
        "`def prob_drunk_given_positive(prob_drunk_prior, false_positive_rate, true_positive_rate):` \n",
        "\n",
        "You should only truly need these two values in order to apply Bayes Theorem. In this example, imagine that individuals are taking a breathalyzer test with an **8% false positive rate**, a **100% true positive rate**, and that our prior belief about **drunk driving in the population is 1/1000**. \n",
        " - What is the probability that a person is drunk after one positive breathalyzer test?\n",
        " - What is the probability that a person is drunk after two positive breathalyzer tests?\n",
        " - How many positive breathalyzer tests are needed in order to have a probability that's greater than 95% that a person is drunk beyond the legal limit?\n"
      ]
    },
    {
      "cell_type": "markdown",
      "metadata": {
        "id": "iKlcVBWEdNAF",
        "colab_type": "text"
      },
      "source": [
        "First, I translate it to format\n",
        "\n",
        "$$P(Drunk|+ test) = \\frac{P(+ test|Drunk)P(Drunk( in-prior-belief))}{P(+ test)}$$\n",
        "\n",
        "$$P(Drunk|+ test) = \\frac{P(+ test|Drunk)P(Drunk( in-prior-belief))}{P(+ test|Drunk)P(Drunk)+P(+test|NotDrunk)P(NotDrunk)}$$\n",
        "\n",
        "\n",
        "P(+ test|Drunk) = true positive rate ** 1 **\n",
        "\n",
        "p(- test|Drunk) = false positive rate ** 0.08 **\n",
        "\n",
        "P(Drunk(in−general−populace)) =  prior belief abt drunk driving in the population ** 1/1000 = 0.0001 ** (This is prob_drunk_prior)"
      ]
    },
    {
      "cell_type": "code",
      "metadata": {
        "id": "xpVhZyUnbf7o",
        "colab_type": "code",
        "colab": {}
      },
      "source": [
        "def prob_drunk_given_positive(prob_drunk_prior,false_positive_rate):\n",
        "  true_positive_rate = 1\n",
        "\n",
        "  # numerator = true_positive * drunk-in-prior-belief\n",
        "  numerator = true_positive_rate * prob_drunk_prior\n",
        "\n",
        "  # Denominator 1: true_pos_rate * p(drunk)\n",
        "  dem1 = true_positive_rate * prob_drunk_prior\n",
        "\n",
        "  # Denomicator 2: false_pos_rate * p(notdrunk)\n",
        "  dem2 = false_positive_rate * (1-prob_drunk_prior)\n",
        "\n",
        "  # Calulated denominator\n",
        "  dem = dem1 + dem2\n",
        "\n",
        "  # Compute p(drunk | pos test)\n",
        "  p_drunk_given_pos = numerator / dem\n",
        "\n",
        "  return p_drunk_given_pos"
      ],
      "execution_count": 0,
      "outputs": []
    },
    {
      "cell_type": "code",
      "metadata": {
        "id": "Zehk5pYediEE",
        "colab_type": "code",
        "colab": {
          "base_uri": "https://localhost:8080/",
          "height": 34
        },
        "outputId": "4a01bd86-f6de-45c5-ab21-341f1b01048a"
      },
      "source": [
        "# What is the probability that a person is drunk after one positive breathalyzer test?\n",
        "# Initial prob_drunk_prior = 1/1000 = 0/0001\n",
        "prob1 = prob_drunk_given_positive(1/1000, 0.08)\n",
        "prob1"
      ],
      "execution_count": 5,
      "outputs": [
        {
          "output_type": "execute_result",
          "data": {
            "text/plain": [
              "0.012357884330202669"
            ]
          },
          "metadata": {
            "tags": []
          },
          "execution_count": 5
        }
      ]
    },
    {
      "cell_type": "code",
      "metadata": {
        "id": "sMFZsgSedrd2",
        "colab_type": "code",
        "colab": {
          "base_uri": "https://localhost:8080/",
          "height": 34
        },
        "outputId": "befa7d5f-a105-4afa-fa06-c948dc4e0df2"
      },
      "source": [
        "# What is the probability that a person is drunk after two positive breathalyzer tests?\n",
        "prob2 = prob_drunk_given_positive(prob1, 0.08)\n",
        "prob2 "
      ],
      "execution_count": 6,
      "outputs": [
        {
          "output_type": "execute_result",
          "data": {
            "text/plain": [
              "0.13525210993291495"
            ]
          },
          "metadata": {
            "tags": []
          },
          "execution_count": 6
        }
      ]
    },
    {
      "cell_type": "code",
      "metadata": {
        "id": "39RlbWivd4qs",
        "colab_type": "code",
        "colab": {
          "base_uri": "https://localhost:8080/",
          "height": 34
        },
        "outputId": "dc7b0d13-c438-40d2-b6ac-a029bca3580d"
      },
      "source": [
        "# How many positive breathalyzer tests are needed in order to have a probability that's greater than 95% that a person is drunk beyond the legal limit?\n",
        "\n",
        "# Initial / first test\n",
        "prob = prob_drunk_given_positive(1/1000, 0.08)\n",
        "num_of_test = 1\n",
        "\n",
        "# use loop\n",
        "while prob < 0.95: \n",
        "  prob = prob_drunk_given_positive(prob, 0.08)\n",
        "  num_of_test += 1\n",
        "\n",
        "num_of_test # This is what the question is asking for"
      ],
      "execution_count": 8,
      "outputs": [
        {
          "output_type": "execute_result",
          "data": {
            "text/plain": [
              "4"
            ]
          },
          "metadata": {
            "tags": []
          },
          "execution_count": 8
        }
      ]
    },
    {
      "cell_type": "markdown",
      "metadata": {
        "id": "_GIig0-vdJEn",
        "colab_type": "text"
      },
      "source": [
        "\n",
        "### 2) Explore `scipy.stats.bayes_mvs`  \n",
        "Read its documentation, and experiment with it on data you've tested in other ways earlier this week.\n",
        " - Create a visualization comparing the results of a Bayesian approach to a traditional/frequentist approach. (with a large sample size they should look close to identical, however, take this opportunity to practice visualizing condfidence intervals in general. The following are some potential ways that you could visualize confidence intervals on your graph:\n",
        "  - [Matplotlib Error Bars](https://matplotlib.org/3.1.1/api/_as_gen/matplotlib.pyplot.errorbar.html)\n",
        "  - [Seaborn barplot with error bars](https://seaborn.pydata.org/generated/seaborn.barplot.html)\n",
        "  - [Vertical ines to show bounds of confidence interval](https://www.simplypsychology.org/confidence-interval.jpg)\n",
        "  - [Confidence Intervals on Box Plots](https://matplotlib.org/3.1.1/api/_as_gen/matplotlib.axes.Axes.boxplot.html)"
      ]
    },
    {
      "cell_type": "code",
      "metadata": {
        "id": "j6i9b46ZgjMt",
        "colab_type": "code",
        "colab": {}
      },
      "source": [
        "# import statements\n",
        "import pandas as pd\n",
        "import numpy as np \n",
        "from scipy import stats\n",
        "import math\n",
        "import matplotlib.pyplot as plt"
      ],
      "execution_count": 0,
      "outputs": []
    },
    {
      "cell_type": "code",
      "metadata": {
        "id": "V8cI5gsVgpeb",
        "colab_type": "code",
        "colab": {
          "base_uri": "https://localhost:8080/",
          "height": 204
        },
        "outputId": "caf5a188-64d3-4f65-803a-01fc7182e232"
      },
      "source": [
        "# 1. Load and clean data / copy from mod 2\n",
        "!wget https://archive.ics.uci.edu/ml/machine-learning-databases/voting-records/house-votes-84.data\n",
        "column_headers = ['party','handicapped-infants','water-project',\n",
        "                  'budget','physician-fee-freeze', 'el-salvador-aid',\n",
        "                  'religious-groups','anti-satellite-ban',\n",
        "                  'aid-to-contras','mx-missile','immigration',\n",
        "                  'synfuels', 'education', 'right-to-sue','crime','duty-free',\n",
        "                  'south-africa']\n",
        "\n",
        "df = pd.read_csv('house-votes-84.data', names=column_headers)\n",
        "\n",
        "# modifying value\n",
        "df = df.replace({\"y\": 1, \"n\": 0, \"?\": np.NaN})\n",
        "df = df.dropna()\n",
        "\n",
        "# splitting\n",
        "rep = df[df['party'] == 'republican']\n",
        "dem = df[df['party'] == 'democrat']"
      ],
      "execution_count": 11,
      "outputs": [
        {
          "output_type": "stream",
          "text": [
            "--2020-05-13 20:38:54--  https://archive.ics.uci.edu/ml/machine-learning-databases/voting-records/house-votes-84.data\n",
            "Resolving archive.ics.uci.edu (archive.ics.uci.edu)... 128.195.10.252\n",
            "Connecting to archive.ics.uci.edu (archive.ics.uci.edu)|128.195.10.252|:443... connected.\n",
            "HTTP request sent, awaiting response... 200 OK\n",
            "Length: 18171 (18K) [application/x-httpd-php]\n",
            "Saving to: ‘house-votes-84.data’\n",
            "\n",
            "house-votes-84.data 100%[===================>]  17.75K  --.-KB/s    in 0.1s    \n",
            "\n",
            "2020-05-13 20:38:55 (135 KB/s) - ‘house-votes-84.data’ saved [18171/18171]\n",
            "\n"
          ],
          "name": "stdout"
        }
      ]
    },
    {
      "cell_type": "code",
      "metadata": {
        "id": "jAjID-Xixaaj",
        "colab_type": "code",
        "colab": {}
      },
      "source": [
        "def confidence_interval(data, confidence=0.95):\n",
        "  x_bar = data.mean() # this is mean\n",
        "  n = len(data)\n",
        "  s = data.std()\n",
        "  std_err = s / math.sqrt(n)\n",
        "  t = stats.t.ppf((1 + confidence) / 2.0, n - 1)\n",
        "  margin_of_error = t*std_err\n",
        "  lower_bound = x_bar - margin_of_error\n",
        "  upper_bound = x_bar + margin_of_error\n",
        "  return (lower_bound, x_bar, upper_bound)\n",
        "\n",
        "\n",
        "lower, mean, upper = confidence_interval(rep['aid-to-contras'])"
      ],
      "execution_count": 0,
      "outputs": []
    },
    {
      "cell_type": "code",
      "metadata": {
        "id": "4fMZFN3Wx8Sp",
        "colab_type": "code",
        "colab": {
          "base_uri": "https://localhost:8080/",
          "height": 34
        },
        "outputId": "f1ed04f9-f825-4989-fa06-8562ea69a51d"
      },
      "source": [
        "bayes_mean = stats.bayes_mvs(rep['aid-to-contras'])[0]\n",
        "bayes_mean"
      ],
      "execution_count": 21,
      "outputs": [
        {
          "output_type": "execute_result",
          "data": {
            "text/plain": [
              "Mean(statistic=0.14814814814814814, minmax=(0.09116557527832221, 0.20513072101797405))"
            ]
          },
          "metadata": {
            "tags": []
          },
          "execution_count": 21
        }
      ]
    },
    {
      "cell_type": "code",
      "metadata": {
        "id": "v8ClD_87y3OM",
        "colab_type": "code",
        "colab": {
          "base_uri": "https://localhost:8080/",
          "height": 265
        },
        "outputId": "5a870659-8db3-4408-aeae-95a8bd52d1df"
      },
      "source": [
        "rep['aid-to-contras'].plot.density() # Bell curve plot for each issue \n",
        "\n",
        "# Traditional method\n",
        "plt.axvline(x=lower, color='red', label = 'Traditional CI')\n",
        "plt.axvline(x=mean, color='black', label='Traditional Mean')\n",
        "plt.axvline(x=upper, color='red', label = 'Traditional CI')\n",
        "\n",
        "# bayes method\n",
        "plt.axvline(x=bayes_mean.statistic, color='blue', label = 'Baye Mean')\n",
        "plt.axvline(x=bayes_mean.minmax[0], color='green', label = 'Baye CI')\n",
        "plt.axvline(x=bayes_mean.minmax[1], color='green', label = 'Baye CI')\n",
        "\n",
        "plt.show()"
      ],
      "execution_count": 23,
      "outputs": [
        {
          "output_type": "display_data",
          "data": {
            "image/png": "[encoded data removed]",
            "text/plain": [
              "<Figure size 432x288 with 1 Axes>"
            ]
          },
          "metadata": {
            "tags": [],
            "needs_background": "light"
          }
        }
      ]
    },
    {
      "cell_type": "markdown",
      "metadata": {
        "id": "IAPW_XI4efGW",
        "colab_type": "text"
      },
      "source": [
        "### 3) In your own words, summarize the difference between Bayesian and Frequentist statistics\n",
        "\n",
        "If you're unsure where to start, check out [this blog post of Bayes theorem with Python](https://dataconomy.com/2015/02/introduction-to-bayes-theorem-with-python/).\n",
        "\n",
        "**Frequentist statitistics** relies on fixed parameters and varying data to determine whether or not an event occured.\n",
        "\n",
        "**Bayseian Statistics** take into consideration prior knowledge of probability to determine the likelihood an event has occured. Data is fixed and parameters vary.  "
      ]
    },
    {
      "cell_type": "markdown",
      "metadata": {
        "id": "uWgWjp3PQ3Sq",
        "colab_type": "text"
      },
      "source": [
        "## Resources"
      ]
    },
    {
      "cell_type": "markdown",
      "metadata": {
        "id": "QRgHqmYIQ9qn",
        "colab_type": "text"
      },
      "source": [
        "- [Worked example of Bayes rule calculation](https://en.wikipedia.org/wiki/Bayes'_theorem#Examples) (helpful as it fully breaks out the denominator)\n",
        "- [Source code for mvsdist in scipy](https://github.com/scipy/scipy/blob/90534919e139d2a81c24bf08341734ff41a3db12/scipy/stats/morestats.py#L139)"
      ]
    },
    {
      "cell_type": "markdown",
      "metadata": {
        "id": "GP7Jv1XvwtkX",
        "colab_type": "text"
      },
      "source": [
        "## Stretch Goals:\n",
        "\n",
        "- Go back and study the content from Modules 1 & 2 to make sure that you're really comfortable with them.\n",
        "- Apply a Bayesian technique to a problem you previously worked (in an assignment or project work) on from a frequentist (standard) perspective\n",
        "- Check out [PyMC3](https://docs.pymc.io/) (note this goes beyond hypothesis tests into modeling) - read the guides and work through some examples\n",
        "- Take PyMC3 further - see if you can build something with it!"
      ]
    },
    {
      "cell_type": "code",
      "metadata": {
        "id": "iDi0eFr1x-v_",
        "colab_type": "code",
        "colab": {}
      },
      "source": [
        ""
      ],
      "execution_count": 0,
      "outputs": []
    }
  ]
}