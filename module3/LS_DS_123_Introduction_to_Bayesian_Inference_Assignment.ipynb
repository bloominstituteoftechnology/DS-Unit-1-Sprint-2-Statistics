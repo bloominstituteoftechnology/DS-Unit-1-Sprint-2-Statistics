{
  "nbformat": 4,
  "nbformat_minor": 0,
  "metadata": {
    "colab": {
      "name": "5/26 LS_DS_123_Introduction_to_Bayesian_Inference_Assignment.ipynb",
      "provenance": [],
      "collapsed_sections": [],
      "include_colab_link": true
    },
    "kernelspec": {
      "name": "python3",
      "display_name": "Python 3"
    }
  },
  "cells": [
    {
      "cell_type": "markdown",
      "metadata": {
        "id": "view-in-github",
        "colab_type": "text"
      },
      "source": [
        "<a href=\"https://colab.research.google.com/github/xpandalord/DS-Unit-1-Sprint-2-Statistics/blob/master/module3/LS_DS_123_Introduction_to_Bayesian_Inference_Assignment.ipynb\" target=\"_parent\"><img src=\"https://colab.research.google.com/assets/colab-badge.svg\" alt=\"Open In Colab\"/></a>"
      ]
    },
    {
      "cell_type": "markdown",
      "metadata": {
        "id": "H7OLbevlbd_Z",
        "colab_type": "text"
      },
      "source": [
        "# Lambda School Data Science Module 123\n",
        "\n",
        "## Introduction to Bayesian Inference\n",
        "\n",
        "\n"
      ]
    },
    {
      "cell_type": "markdown",
      "metadata": {
        "id": "P-DzzRk5bf0z",
        "colab_type": "text"
      },
      "source": [
        "## Assignment - Code it up!\n",
        "\n",
        "We used pure math to apply Bayes Theorem to drug tests. Now write Python code to reproduce the results! This is purposefully open ended - you'll have to think about how you should represent probabilities and events. You can and should look things up.\n",
        "\n",
        "Specific goals/targets:\n",
        "\n",
        "### 1) Write a function \n",
        "\n",
        "`def prob_drunk_given_positive(prob_drunk_prior, false_positive_rate, true_positive_rate):` \n",
        "\n",
        "You should only truly need these two values in order to apply Bayes Theorem. In this example, imagine that individuals are taking a breathalyzer test with an 8% false positive rate, a 100% true positive rate, and that our prior belief about drunk driving in the population is 1/1000. \n",
        " - What is the probability that a person is drunk after one positive breathalyzer test?\n",
        " - What is the probability that a person is drunk after two positive breathalyzer tests?\n",
        " - How many positive breathalyzer tests are needed in order to have a probability that's greater than 95% that a person is drunk beyond the legal limit?\n",
        "\n",
        "### 2) Explore `scipy.stats.bayes_mvs`  \n",
        "Read its documentation, and experiment with it on data you've tested in other ways earlier this week.\n",
        " - Create a visualization comparing the results of a Bayesian approach to a traditional/frequentist approach. (with a large sample size they should look close to identical, however, take this opportunity to practice visualizing condfidence intervals in general. The following are some potential ways that you could visualize confidence intervals on your graph:\n",
        "  - [Matplotlib Error Bars](https://matplotlib.org/3.1.1/api/_as_gen/matplotlib.pyplot.errorbar.html)\n",
        "  - [Seaborn barplot with error bars](https://seaborn.pydata.org/generated/seaborn.barplot.html)\n",
        "  - [Vertical ines to show bounds of confidence interval](https://www.simplypsychology.org/confidence-interval.jpg)\n",
        "  - [Confidence Intervals on Box Plots](https://matplotlib.org/3.1.1/api/_as_gen/matplotlib.axes.Axes.boxplot.html)\n",
        "\n",
        "### 3) In your own words, summarize the difference between Bayesian and Frequentist statistics\n",
        "\n",
        "If you're unsure where to start, check out [this blog post of Bayes theorem with Python](https://dataconomy.com/2015/02/introduction-to-bayes-theorem-with-python/).\n",
        "\n"
      ]
    },
    {
      "cell_type": "code",
      "metadata": {
        "id": "JBhsxEwlzA4Z",
        "colab_type": "code",
        "colab": {}
      },
      "source": [
        "# TODO - code!\n",
        "# Imports\n",
        "import pandas as pd\n",
        "import scipy.stats as stats\n",
        "import matplotlib.pyplot as plt\n",
        "import seaborn as sns; sns.set(style = 'whitegrid')"
      ],
      "execution_count": 0,
      "outputs": []
    },
    {
      "cell_type": "code",
      "metadata": {
        "id": "Jz1pXsH3pusu",
        "colab_type": "code",
        "colab": {}
      },
      "source": [
        "# In this example, imagine that individuals are taking a breathalyzer test with an 8% false positive rate\n",
        "# a 100% true positive rate, and that our prior belief about drunk driving in the population is 1/1000.\n",
        "def prob_drunk_given_positive(prob_drunk_prior, false_positive_rate, true_positive_rate):\n",
        "  \"\"\"\n",
        "  A function to generate the posterior probability given the prior probability, false positive rate, and true positive rate.\n",
        "  \"\"\"\n",
        "  prob_not_drunk_prior = 1 - prob_drunk_prior\n",
        "  numerator = true_positive_rate * prob_drunk_prior\n",
        "  marginal = (true_positive_rate * prob_drunk_prior) + (false_positive_rate * prob_not_drunk_prior)\n",
        "  posterior_probability = numerator / marginal\n",
        "  return posterior_probability"
      ],
      "execution_count": 0,
      "outputs": []
    },
    {
      "cell_type": "code",
      "metadata": {
        "id": "tGec8a8HtakN",
        "colab_type": "code",
        "colab": {
          "base_uri": "https://localhost:8080/",
          "height": 35
        },
        "outputId": "e76f76d3-9891-435a-b51b-5fe4a60e4deb"
      },
      "source": [
        "# What is the probability that a person is drunk after one positive breathalyzer test?\n",
        "prob_drunk_given_positive(0.001, 0.08, 1)"
      ],
      "execution_count": 3,
      "outputs": [
        {
          "output_type": "execute_result",
          "data": {
            "text/plain": [
              "0.012357884330202669"
            ]
          },
          "metadata": {
            "tags": []
          },
          "execution_count": 3
        }
      ]
    },
    {
      "cell_type": "code",
      "metadata": {
        "id": "ja-9OanQuJvX",
        "colab_type": "code",
        "colab": {}
      },
      "source": [
        "def prob_drunk_given_positive_multiple_tests(prob_drunk_prior, false_positive_rate, true_positive_rate, number_of_tests):\n",
        "  \"\"\"\n",
        "  A function to generate the posterior probability given the prior probability, false positive rate, true positive rate, and amount of tests.\n",
        "  \"\"\"\n",
        "  posterior_probability = prob_drunk_prior\n",
        "  for test in range(0, number_of_tests):\n",
        "    prob_drunk_prior = posterior_probability\n",
        "    prob_not_drunk_prior = 1 - prob_drunk_prior\n",
        "    numerator = true_positive_rate * prob_drunk_prior\n",
        "    marginal = (true_positive_rate * prob_drunk_prior) + (false_positive_rate * prob_not_drunk_prior)\n",
        "    posterior_probability = numerator / marginal\n",
        "  return posterior_probability"
      ],
      "execution_count": 0,
      "outputs": []
    },
    {
      "cell_type": "code",
      "metadata": {
        "id": "wzxirJD4u8jp",
        "colab_type": "code",
        "colab": {
          "base_uri": "https://localhost:8080/",
          "height": 35
        },
        "outputId": "6128dbfe-6a5f-4945-97b6-b99b99807794"
      },
      "source": [
        "# What is the probability that a person is drunk after two positive breathalyzer tests?\n",
        "prob_drunk_given_positive_multiple_tests(0.001, 0.08, 1, 2)"
      ],
      "execution_count": 7,
      "outputs": [
        {
          "output_type": "execute_result",
          "data": {
            "text/plain": [
              "0.13525210993291495"
            ]
          },
          "metadata": {
            "tags": []
          },
          "execution_count": 7
        }
      ]
    },
    {
      "cell_type": "code",
      "metadata": {
        "id": "rvfjZraMvpOV",
        "colab_type": "code",
        "colab": {
          "base_uri": "https://localhost:8080/",
          "height": 54
        },
        "outputId": "bce03717-59d5-4706-8704-350d10897e5a"
      },
      "source": [
        "# How many positive breathalyzer tests are needed in order to have a probability that's greater than 95% that a person is drunk beyond the legal limit?\n",
        "print(prob_drunk_given_positive_multiple_tests(0.001, 0.08, 1, 3))\n",
        "print(prob_drunk_given_positive_multiple_tests(0.001, 0.08, 1, 4))"
      ],
      "execution_count": 31,
      "outputs": [
        {
          "output_type": "stream",
          "text": [
            "0.6615996951348605\n",
            "0.9606895076105054\n"
          ],
          "name": "stdout"
        }
      ]
    },
    {
      "cell_type": "code",
      "metadata": {
        "id": "OSa_Bql67QZW",
        "colab_type": "code",
        "colab": {}
      },
      "source": [
        "# Reading in the dataframe\n",
        "df = pd.read_csv('https://raw.githubusercontent.com/ryanleeallred/datasets/master/adult.csv', na_values=\" ?\")"
      ],
      "execution_count": 0,
      "outputs": []
    },
    {
      "cell_type": "code",
      "metadata": {
        "id": "TkoYkBpF7XSs",
        "colab_type": "code",
        "colab": {
          "base_uri": "https://localhost:8080/",
          "height": 35
        },
        "outputId": "7cfc6493-6911-47b3-ac23-0fbff0fca14c"
      },
      "source": [
        "# Mean age\n",
        "df['age'].mean()"
      ],
      "execution_count": 46,
      "outputs": [
        {
          "output_type": "execute_result",
          "data": {
            "text/plain": [
              "38.58164675532078"
            ]
          },
          "metadata": {
            "tags": []
          },
          "execution_count": 46
        }
      ]
    },
    {
      "cell_type": "code",
      "metadata": {
        "id": "963XDJJl7cBF",
        "colab_type": "code",
        "colab": {
          "base_uri": "https://localhost:8080/",
          "height": 35
        },
        "outputId": "89a68d53-4950-4859-9155-e3f71aa78f63"
      },
      "source": [
        "# Frequentist Approach\n",
        "# Calculate a 95% confidence interval on either side of the mean.\n",
        "conf_freq = stats.t.interval(0.95,                        # alpha (i.e., confidence level)\n",
        "                             df.shape[0],                 # length of sample\n",
        "                             loc = df['age'].mean(),      # sample mean\n",
        "                             scale = stats.sem(df['age']) # std error of the mean\n",
        "                             )\n",
        "conf_freq"
      ],
      "execution_count": 50,
      "outputs": [
        {
          "output_type": "execute_result",
          "data": {
            "text/plain": [
              "(38.433482476875845, 38.72981103376572)"
            ]
          },
          "metadata": {
            "tags": []
          },
          "execution_count": 50
        }
      ]
    },
    {
      "cell_type": "code",
      "metadata": {
        "id": "wSE7xyIJ8BAZ",
        "colab_type": "code",
        "colab": {
          "base_uri": "https://localhost:8080/",
          "height": 35
        },
        "outputId": "ee0ae647-793f-4f2b-c141-75ada89aa1b0"
      },
      "source": [
        "# Bayesian Approach\n",
        "conf_bayes = stats.bayes_mvs(df['age'], alpha = 0.95)[0][1] # alpha is the confidence level for this equation\n",
        "conf_bayes"
      ],
      "execution_count": 52,
      "outputs": [
        {
          "output_type": "execute_result",
          "data": {
            "text/plain": [
              "(38.433490259580736, 38.72980325106083)"
            ]
          },
          "metadata": {
            "tags": []
          },
          "execution_count": 52
        }
      ]
    },
    {
      "cell_type": "code",
      "metadata": {
        "id": "8Pfxlb7aBZ3m",
        "colab_type": "code",
        "colab": {
          "base_uri": "https://localhost:8080/",
          "height": 286
        },
        "outputId": "e3437a4e-cbd5-4ab9-835e-c314e9d01093"
      },
      "source": [
        "# plot on a graph with kernel density estimate\n",
        "sns.kdeplot(df['age'])\n",
        "plt.axvline(x = conf_freq[0], color = 'red')\n",
        "plt.axvline(x = conf_freq[1], color = 'red')\n",
        "plt.axvline(x = conf_bayes[0], color = 'green')\n",
        "plt.axvline(x = conf_bayes[1], color = 'green')"
      ],
      "execution_count": 74,
      "outputs": [
        {
          "output_type": "execute_result",
          "data": {
            "text/plain": [
              "<matplotlib.lines.Line2D at 0x7fd47b86ca90>"
            ]
          },
          "metadata": {
            "tags": []
          },
          "execution_count": 74
        },
        {
          "output_type": "display_data",
          "data": {
            "image/png": "[encoded data removed]",
            "text/plain": [
              "<Figure size 432x288 with 1 Axes>"
            ]
          },
          "metadata": {
            "tags": []
          }
        }
      ]
    },
    {
      "cell_type": "code",
      "metadata": {
        "id": "lJRhiVQ78qPI",
        "colab_type": "code",
        "colab": {
          "base_uri": "https://localhost:8080/",
          "height": 299
        },
        "outputId": "e1cfa9f6-e1e5-4d5d-aae3-bcabb51c87b9"
      },
      "source": [
        "# Mean - margin of error\n",
        "sns.kdeplot(df['age'])\n",
        "plt.xlim(38.43348, 38.4335)\n",
        "plt.axvline(x = conf_freq[0], color = 'red')\n",
        "plt.axvline(x = conf_freq[1], color = 'red')\n",
        "plt.axvline(x = conf_bayes[0], color = 'green')\n",
        "plt.axvline(x = conf_bayes[1], color = 'green')"
      ],
      "execution_count": 71,
      "outputs": [
        {
          "output_type": "execute_result",
          "data": {
            "text/plain": [
              "<matplotlib.lines.Line2D at 0x7fd47b9bc7b8>"
            ]
          },
          "metadata": {
            "tags": []
          },
          "execution_count": 71
        },
        {
          "output_type": "display_data",
          "data": {
            "image/png": "[encoded data removed]",
            "text/plain": [
              "<Figure size 432x288 with 1 Axes>"
            ]
          },
          "metadata": {
            "tags": []
          }
        }
      ]
    },
    {
      "cell_type": "code",
      "metadata": {
        "id": "20tDC7t4BFEx",
        "colab_type": "code",
        "colab": {
          "base_uri": "https://localhost:8080/",
          "height": 299
        },
        "outputId": "18b183ed-ace4-4b04-c909-78ab5acd0433"
      },
      "source": [
        "# Mean + margin of error\n",
        "sns.kdeplot(df['age'])\n",
        "plt.xlim(38.7298, 38.72982)\n",
        "plt.axvline(x = conf_freq[0], color = 'red')\n",
        "plt.axvline(x = conf_freq[1], color = 'red')\n",
        "plt.axvline(x = conf_bayes[0], color = 'green')\n",
        "plt.axvline(x = conf_bayes[1], color = 'green')"
      ],
      "execution_count": 73,
      "outputs": [
        {
          "output_type": "execute_result",
          "data": {
            "text/plain": [
              "<matplotlib.lines.Line2D at 0x7fd47b8835f8>"
            ]
          },
          "metadata": {
            "tags": []
          },
          "execution_count": 73
        },
        {
          "output_type": "display_data",
          "data": {
            "image/png": "[encoded data removed]",
            "text/plain": [
              "<Figure size 432x288 with 1 Axes>"
            ]
          },
          "metadata": {
            "tags": []
          }
        }
      ]
    },
    {
      "cell_type": "markdown",
      "metadata": {
        "id": "yLWkaO66CD0G",
        "colab_type": "text"
      },
      "source": [
        "The difference between Bayesian and Frequentist statistics is the beginning conclusions. Bayesian statistics include a prior probability preventing their post probability from being wildly far from the true answer. However, it depends on how good of an estimate the prior probability is. Frequentist statistics can start out having concluded a very far off probability but by sampling many times, they will eventually obtain the true result. Thus, you should use Bayesian statistics when possible because in either case, sampling will bring you closer to the true probability so Bayesian statistics will at least bring you a step in the right direction from the start."
      ]
    },
    {
      "cell_type": "markdown",
      "metadata": {
        "id": "uWgWjp3PQ3Sq",
        "colab_type": "text"
      },
      "source": [
        "## Resources"
      ]
    },
    {
      "cell_type": "markdown",
      "metadata": {
        "id": "QRgHqmYIQ9qn",
        "colab_type": "text"
      },
      "source": [
        "- [Worked example of Bayes rule calculation](https://en.wikipedia.org/wiki/Bayes'_theorem#Examples) (helpful as it fully breaks out the denominator)\n",
        "- [Source code for mvsdist in scipy](https://github.com/scipy/scipy/blob/90534919e139d2a81c24bf08341734ff41a3db12/scipy/stats/morestats.py#L139)"
      ]
    },
    {
      "cell_type": "markdown",
      "metadata": {
        "id": "GP7Jv1XvwtkX",
        "colab_type": "text"
      },
      "source": [
        "## Stretch Goals:\n",
        "\n",
        "- Go back and study the content from Modules 1 & 2 to make sure that you're really comfortable with them.\n",
        "- Apply a Bayesian technique to a problem you previously worked (in an assignment or project work) on from a frequentist (standard) perspective\n",
        "- Check out [PyMC3](https://docs.pymc.io/) (note this goes beyond hypothesis tests into modeling) - read the guides and work through some examples\n",
        "- Take PyMC3 further - see if you can build something with it!"
      ]
    },
    {
      "cell_type": "code",
      "metadata": {
        "id": "iDi0eFr1x-v_",
        "colab_type": "code",
        "colab": {}
      },
      "source": [
        ""
      ],
      "execution_count": 0,
      "outputs": []
    }
  ]
}