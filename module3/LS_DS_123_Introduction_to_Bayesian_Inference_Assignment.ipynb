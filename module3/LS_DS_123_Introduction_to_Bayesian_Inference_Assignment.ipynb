{
  "nbformat": 4,
  "nbformat_minor": 0,
  "metadata": {
    "colab": {
      "name": "LS_DS_123_Introduction_to_Bayesian_Inference_Assignment.ipynb",
      "provenance": [],
      "include_colab_link": true
    },
    "kernelspec": {
      "name": "python3",
      "display_name": "Python 3"
    }
  },
  "cells": [
    {
      "cell_type": "markdown",
      "metadata": {
        "id": "view-in-github",
        "colab_type": "text"
      },
      "source": [
        "<a href=\"https://colab.research.google.com/github/jmmiddour/DS-Unit-1-Sprint-2-Statistics/blob/master/module3/LS_DS_123_Introduction_to_Bayesian_Inference_Assignment.ipynb\" target=\"_parent\"><img src=\"https://colab.research.google.com/assets/colab-badge.svg\" alt=\"Open In Colab\"/></a>"
      ]
    },
    {
      "cell_type": "markdown",
      "metadata": {
        "id": "H7OLbevlbd_Z",
        "colab_type": "text"
      },
      "source": [
        "# Lambda School Data Science Module 123\n",
        "\n",
        "## Introduction to Bayesian Inference\n",
        "\n",
        "\n"
      ]
    },
    {
      "cell_type": "markdown",
      "metadata": {
        "id": "P-DzzRk5bf0z",
        "colab_type": "text"
      },
      "source": [
        "## Assignment - Code it up!\n",
        "\n",
        "We used pure math to apply Bayes Theorem to drug tests. Now write Python code to reproduce the results! This is purposefully open ended - you'll have to think about how you should represent probabilities and events. You can and should look things up.\n",
        "\n",
        "Specific goals/targets:\n",
        "\n",
        "### 1) Write a function \n",
        "\n",
        "`def prob_drunk_given_positive(prob_drunk_prior, false_positive_rate, true_positive_rate):` \n",
        "\n",
        "You should only truly need these two values in order to apply Bayes Theorem. In this example, imagine that individuals are taking a breathalyzer test with an 8% false positive rate, a 100% true positive rate, and that our prior belief about drunk driving in the population is 1/1000. \n",
        " - What is the probability that a person is drunk after one positive breathalyzer test?\n",
        " - What is the probability that a person is drunk after two positive breathalyzer tests?\n",
        " - How many positive breathalyzer tests are needed in order to have a probability that's greater than 95% that a person is drunk beyond the legal limit?\n",
        "\n",
        "### 2) Explore `scipy.stats.bayes_mvs`  \n",
        "Read its documentation, and experiment with it on data you've tested in other ways earlier this week.\n",
        " - Create a visualization comparing the results of a Bayesian approach to a traditional/frequentist approach. (with a large sample size they should look close to identical, however, take this opportunity to practice visualizing condfidence intervals in general. The following are some potential ways that you could visualize confidence intervals on your graph:\n",
        "  - [Matplotlib Error Bars](https://matplotlib.org/3.1.1/api/_as_gen/matplotlib.pyplot.errorbar.html)\n",
        "  - [Seaborn barplot with error bars](https://seaborn.pydata.org/generated/seaborn.barplot.html)\n",
        "  - [Vertical ines to show bounds of confidence interval](https://www.simplypsychology.org/confidence-interval.jpg)\n",
        "  - [Confidence Intervals on Box Plots](https://matplotlib.org/3.1.1/api/_as_gen/matplotlib.axes.Axes.boxplot.html)\n",
        "\n",
        "### 3) In your own words, summarize the difference between Bayesian and Frequentist statistics\n",
        "\n",
        "If you're unsure where to start, check out [this blog post of Bayes theorem with Python](https://dataconomy.com/2015/02/introduction-to-bayes-theorem-with-python/).\n",
        "\n"
      ]
    },
    {
      "cell_type": "markdown",
      "metadata": {
        "id": "jJEt0i2TqoY8",
        "colab_type": "text"
      },
      "source": [
        "### Part 1A:\n",
        "\n",
        "Write a function \n",
        "\n",
        "`def prob_drunk_given_positive(prob_drunk_prior, false_positive_rate, true_positive_rate):` \n",
        "\n",
        "You should only truly need these two values in order to apply Bayes Theorem. In this example, imagine that individuals are taking a breathalyzer test with an 8% false positive rate, a 100% true positive rate, and that our prior belief about drunk driving in the population is 1/1000. "
      ]
    },
    {
      "cell_type": "code",
      "metadata": {
        "id": "6m46VDLCskUU",
        "colab_type": "code",
        "colab": {}
      },
      "source": [
        "# Create a function to calculate the probability that a person is drunk given\n",
        "#   a number of positive breathalyer test(s):\n",
        "def prob_drunk_given_positive(prob_drunk_prior, false_positive_rate, \n",
        "                              true_positive_rate):\n",
        "  prob_not_drunk = 1 - prob_drunk_prior\n",
        "  numerator = true_positive_rate * prob_drunk_prior  \n",
        "  denominator = (true_positive_rate * prob_drunk_prior) + (false_positive_rate * prob_not_drunk)\n",
        "  posterior_prob = numerator / denominator\n",
        "  return posterior_prob\n",
        "  "
      ],
      "execution_count": 0,
      "outputs": []
    },
    {
      "cell_type": "markdown",
      "metadata": {
        "id": "kaFQpDVm9uBk",
        "colab_type": "text"
      },
      "source": [
        "What is the probability that a person is drunk after one positive breathalyzer test?"
      ]
    },
    {
      "cell_type": "code",
      "metadata": {
        "id": "b4ihNmIHskK9",
        "colab_type": "code",
        "outputId": "36cabd73-124a-41dd-e0d1-9698fe3a6274",
        "colab": {
          "base_uri": "https://localhost:8080/",
          "height": 34
        }
      },
      "source": [
        "# One positive breathalyzer test:\n",
        "test1 = prob_drunk_given_positive(1/1000, .08, 1)\n",
        "test1"
      ],
      "execution_count": 2,
      "outputs": [
        {
          "output_type": "execute_result",
          "data": {
            "text/plain": [
              "0.012357884330202669"
            ]
          },
          "metadata": {
            "tags": []
          },
          "execution_count": 2
        }
      ]
    },
    {
      "cell_type": "markdown",
      "metadata": {
        "id": "-q_eLp6VrA8M",
        "colab_type": "text"
      },
      "source": [
        "### Part 1B:\n",
        "\n",
        "What is the probability that a person is drunk after two positive breathalyzer tests?"
      ]
    },
    {
      "cell_type": "code",
      "metadata": {
        "id": "0jQGxqcJsj3t",
        "colab_type": "code",
        "outputId": "bead651e-80cd-4899-9c8e-421b022b3c13",
        "colab": {
          "base_uri": "https://localhost:8080/",
          "height": 34
        }
      },
      "source": [
        "# Two positive breathalyzer tests:\n",
        "test2 = prob_drunk_given_positive(test1, .08, 1)\n",
        "test2"
      ],
      "execution_count": 3,
      "outputs": [
        {
          "output_type": "execute_result",
          "data": {
            "text/plain": [
              "0.13525210993291495"
            ]
          },
          "metadata": {
            "tags": []
          },
          "execution_count": 3
        }
      ]
    },
    {
      "cell_type": "markdown",
      "metadata": {
        "id": "XYuS1BkGrGGX",
        "colab_type": "text"
      },
      "source": [
        "### Part 1C:\n",
        "\n",
        "How many positive breathalyzer tests are needed in order to have a probability that's greater than 95% that a person is drunk beyond the legal limit?\n",
        "\n",
        "  - Need 4 positive breathalyzer tests in order to get a 96% probability that the person is truly drunk."
      ]
    },
    {
      "cell_type": "code",
      "metadata": {
        "id": "JSC8SeYssmSW",
        "colab_type": "code",
        "outputId": "f8c49ed3-124d-4e71-a3ad-ef5874149252",
        "colab": {
          "base_uri": "https://localhost:8080/",
          "height": 34
        }
      },
      "source": [
        "# Three positive breathalyzer tests:\n",
        "test3 = prob_drunk_given_positive(test2, .08, 1)\n",
        "test3"
      ],
      "execution_count": 4,
      "outputs": [
        {
          "output_type": "execute_result",
          "data": {
            "text/plain": [
              "0.6615996951348605"
            ]
          },
          "metadata": {
            "tags": []
          },
          "execution_count": 4
        }
      ]
    },
    {
      "cell_type": "code",
      "metadata": {
        "id": "IpLsemJmsmP4",
        "colab_type": "code",
        "outputId": "62c078eb-1991-4e59-c328-aa8080aedf77",
        "colab": {
          "base_uri": "https://localhost:8080/",
          "height": 34
        }
      },
      "source": [
        "# Four positive breathalyzer tests:\n",
        "test4 = prob_drunk_given_positive(test3, .08, 1)\n",
        "test4"
      ],
      "execution_count": 5,
      "outputs": [
        {
          "output_type": "execute_result",
          "data": {
            "text/plain": [
              "0.9606895076105054"
            ]
          },
          "metadata": {
            "tags": []
          },
          "execution_count": 5
        }
      ]
    },
    {
      "cell_type": "markdown",
      "metadata": {
        "id": "IXXPtZL-rlUX",
        "colab_type": "text"
      },
      "source": [
        "### Part 2A:\n",
        "\n",
        "Explore `scipy.stats.bayes_mvs`  \n",
        "Read its documentation, and experiment with it on data you've tested in other ways earlier this week.\n",
        "\n",
        " - Create a visualization comparing the results of a Bayesian approach to a traditional/frequentist approach. (with a large sample size they should look close to identical, however, take this opportunity to practice visualizing condfidence intervals in general. The following are some potential ways that you could visualize confidence intervals on your graph:\n",
        "  \n",
        "  - [Matplotlib Error Bars](https://matplotlib.org/3.1.1/api/_as_gen/matplotlib.pyplot.errorbar.html)"
      ]
    },
    {
      "cell_type": "code",
      "metadata": {
        "id": "Ckcr4A4FM7cs",
        "colab_type": "code",
        "outputId": "15341267-f1f4-47a7-cdb6-27df154922f4",
        "colab": {
          "base_uri": "https://localhost:8080/",
          "height": 70
        }
      },
      "source": [
        "# Import my libraries:\n",
        "import numpy as np\n",
        "import pandas as pd\n",
        "import matplotlib.pyplot as plt\n",
        "import seaborn as sns\n",
        "import scipy.stats as stats"
      ],
      "execution_count": 6,
      "outputs": [
        {
          "output_type": "stream",
          "text": [
            "/usr/local/lib/python3.6/dist-packages/statsmodels/tools/_testing.py:19: FutureWarning: pandas.util.testing is deprecated. Use the functions in the public API at pandas.testing instead.\n",
            "  import pandas.util.testing as tm\n"
          ],
          "name": "stderr"
        }
      ]
    },
    {
      "cell_type": "code",
      "metadata": {
        "id": "c5kzK1D8FjF3",
        "colab_type": "code",
        "outputId": "93ab5824-9fbf-4fe3-9043-da0e0f90b816",
        "colab": {
          "base_uri": "https://localhost:8080/",
          "height": 202
        }
      },
      "source": [
        "# Get the dataset:\n",
        "!wget https://archive.ics.uci.edu/ml/machine-learning-databases/voting-records/house-votes-84.data"
      ],
      "execution_count": 7,
      "outputs": [
        {
          "output_type": "stream",
          "text": [
            "--2020-05-27 09:28:40--  https://archive.ics.uci.edu/ml/machine-learning-databases/voting-records/house-votes-84.data\n",
            "Resolving archive.ics.uci.edu (archive.ics.uci.edu)... 128.195.10.252\n",
            "Connecting to archive.ics.uci.edu (archive.ics.uci.edu)|128.195.10.252|:443... connected.\n",
            "HTTP request sent, awaiting response... 200 OK\n",
            "Length: 18171 (18K) [application/x-httpd-php]\n",
            "Saving to: ‘house-votes-84.data.3’\n",
            "\n",
            "\rhouse-votes-84.data   0%[                    ]       0  --.-KB/s               \rhouse-votes-84.data 100%[===================>]  17.75K  --.-KB/s    in 0.03s   \n",
            "\n",
            "2020-05-27 09:28:40 (635 KB/s) - ‘house-votes-84.data.3’ saved [18171/18171]\n",
            "\n"
          ],
          "name": "stdout"
        }
      ]
    },
    {
      "cell_type": "code",
      "metadata": {
        "id": "__al97ddGLQK",
        "colab_type": "code",
        "outputId": "375d5b81-ac4f-404e-b54a-6fe7ce47cee9",
        "colab": {
          "base_uri": "https://localhost:8080/",
          "height": 247
        }
      },
      "source": [
        "# Make it into a dataframe:\n",
        "column_headers = ['Party','Handicapped-Infants','Water-Project',\n",
        "                          'Budget','Physician-Fee-Freeze', 'El-Salvador-Aid',\n",
        "                          'Religious-Groups','Anti-Satellite-Ban',\n",
        "                          'Aid-to-Contras','Mx-Missile','Immigration',\n",
        "                          'Synfuels', 'Education', 'Right-to-Sue','Crime','Duty-Free',\n",
        "                          'South-Africa']\n",
        "\n",
        "# You can see right away that the missing values were coded with a ?. To remove\n",
        "#   those and set them to NaN values, need to add na_values='?':\n",
        "house = pd.read_csv('house-votes-84.data', header=None, names=column_headers, \n",
        "                    na_values='?')\n",
        "house.head()\n"
      ],
      "execution_count": 8,
      "outputs": [
        {
          "output_type": "execute_result",
          "data": {
            "text/html": [
              "<div>\n",
              "<style scoped>\n",
              "    .dataframe tbody tr th:only-of-type {\n",
              "        vertical-align: middle;\n",
              "    }\n",
              "\n",
              "    .dataframe tbody tr th {\n",
              "        vertical-align: top;\n",
              "    }\n",
              "\n",
              "    .dataframe thead th {\n",
              "        text-align: right;\n",
              "    }\n",
              "</style>\n",
              "<table border=\"1\" class=\"dataframe\">\n",
              "  <thead>\n",
              "    <tr style=\"text-align: right;\">\n",
              "      <th></th>\n",
              "      <th>Party</th>\n",
              "      <th>Handicapped-Infants</th>\n",
              "      <th>Water-Project</th>\n",
              "      <th>Budget</th>\n",
              "      <th>Physician-Fee-Freeze</th>\n",
              "      <th>El-Salvador-Aid</th>\n",
              "      <th>Religious-Groups</th>\n",
              "      <th>Anti-Satellite-Ban</th>\n",
              "      <th>Aid-to-Contras</th>\n",
              "      <th>Mx-Missile</th>\n",
              "      <th>Immigration</th>\n",
              "      <th>Synfuels</th>\n",
              "      <th>Education</th>\n",
              "      <th>Right-to-Sue</th>\n",
              "      <th>Crime</th>\n",
              "      <th>Duty-Free</th>\n",
              "      <th>South-Africa</th>\n",
              "    </tr>\n",
              "  </thead>\n",
              "  <tbody>\n",
              "    <tr>\n",
              "      <th>0</th>\n",
              "      <td>republican</td>\n",
              "      <td>n</td>\n",
              "      <td>y</td>\n",
              "      <td>n</td>\n",
              "      <td>y</td>\n",
              "      <td>y</td>\n",
              "      <td>y</td>\n",
              "      <td>n</td>\n",
              "      <td>n</td>\n",
              "      <td>n</td>\n",
              "      <td>y</td>\n",
              "      <td>NaN</td>\n",
              "      <td>y</td>\n",
              "      <td>y</td>\n",
              "      <td>y</td>\n",
              "      <td>n</td>\n",
              "      <td>y</td>\n",
              "    </tr>\n",
              "    <tr>\n",
              "      <th>1</th>\n",
              "      <td>republican</td>\n",
              "      <td>n</td>\n",
              "      <td>y</td>\n",
              "      <td>n</td>\n",
              "      <td>y</td>\n",
              "      <td>y</td>\n",
              "      <td>y</td>\n",
              "      <td>n</td>\n",
              "      <td>n</td>\n",
              "      <td>n</td>\n",
              "      <td>n</td>\n",
              "      <td>n</td>\n",
              "      <td>y</td>\n",
              "      <td>y</td>\n",
              "      <td>y</td>\n",
              "      <td>n</td>\n",
              "      <td>NaN</td>\n",
              "    </tr>\n",
              "    <tr>\n",
              "      <th>2</th>\n",
              "      <td>democrat</td>\n",
              "      <td>NaN</td>\n",
              "      <td>y</td>\n",
              "      <td>y</td>\n",
              "      <td>NaN</td>\n",
              "      <td>y</td>\n",
              "      <td>y</td>\n",
              "      <td>n</td>\n",
              "      <td>n</td>\n",
              "      <td>n</td>\n",
              "      <td>n</td>\n",
              "      <td>y</td>\n",
              "      <td>n</td>\n",
              "      <td>y</td>\n",
              "      <td>y</td>\n",
              "      <td>n</td>\n",
              "      <td>n</td>\n",
              "    </tr>\n",
              "    <tr>\n",
              "      <th>3</th>\n",
              "      <td>democrat</td>\n",
              "      <td>n</td>\n",
              "      <td>y</td>\n",
              "      <td>y</td>\n",
              "      <td>n</td>\n",
              "      <td>NaN</td>\n",
              "      <td>y</td>\n",
              "      <td>n</td>\n",
              "      <td>n</td>\n",
              "      <td>n</td>\n",
              "      <td>n</td>\n",
              "      <td>y</td>\n",
              "      <td>n</td>\n",
              "      <td>y</td>\n",
              "      <td>n</td>\n",
              "      <td>n</td>\n",
              "      <td>y</td>\n",
              "    </tr>\n",
              "    <tr>\n",
              "      <th>4</th>\n",
              "      <td>democrat</td>\n",
              "      <td>y</td>\n",
              "      <td>y</td>\n",
              "      <td>y</td>\n",
              "      <td>n</td>\n",
              "      <td>y</td>\n",
              "      <td>y</td>\n",
              "      <td>n</td>\n",
              "      <td>n</td>\n",
              "      <td>n</td>\n",
              "      <td>n</td>\n",
              "      <td>y</td>\n",
              "      <td>NaN</td>\n",
              "      <td>y</td>\n",
              "      <td>y</td>\n",
              "      <td>y</td>\n",
              "      <td>y</td>\n",
              "    </tr>\n",
              "  </tbody>\n",
              "</table>\n",
              "</div>"
            ],
            "text/plain": [
              "        Party Handicapped-Infants Water-Project  ... Crime Duty-Free South-Africa\n",
              "0  republican                   n             y  ...     y         n            y\n",
              "1  republican                   n             y  ...     y         n          NaN\n",
              "2    democrat                 NaN             y  ...     y         n            n\n",
              "3    democrat                   n             y  ...     n         n            y\n",
              "4    democrat                   y             y  ...     y         y            y\n",
              "\n",
              "[5 rows x 17 columns]"
            ]
          },
          "metadata": {
            "tags": []
          },
          "execution_count": 8
        }
      ]
    },
    {
      "cell_type": "code",
      "metadata": {
        "id": "k85hmU1ujYXY",
        "colab_type": "code",
        "outputId": "e9b8d047-eedb-4826-dbc4-8839646782d0",
        "colab": {
          "base_uri": "https://localhost:8080/",
          "height": 247
        }
      },
      "source": [
        "# Recode votes as numerical values:\n",
        "house = house.replace({'y': 1, 'n': 0})\n",
        "\n",
        "# Check my work by looking at the first 5 row:\n",
        "house.head()"
      ],
      "execution_count": 9,
      "outputs": [
        {
          "output_type": "execute_result",
          "data": {
            "text/html": [
              "<div>\n",
              "<style scoped>\n",
              "    .dataframe tbody tr th:only-of-type {\n",
              "        vertical-align: middle;\n",
              "    }\n",
              "\n",
              "    .dataframe tbody tr th {\n",
              "        vertical-align: top;\n",
              "    }\n",
              "\n",
              "    .dataframe thead th {\n",
              "        text-align: right;\n",
              "    }\n",
              "</style>\n",
              "<table border=\"1\" class=\"dataframe\">\n",
              "  <thead>\n",
              "    <tr style=\"text-align: right;\">\n",
              "      <th></th>\n",
              "      <th>Party</th>\n",
              "      <th>Handicapped-Infants</th>\n",
              "      <th>Water-Project</th>\n",
              "      <th>Budget</th>\n",
              "      <th>Physician-Fee-Freeze</th>\n",
              "      <th>El-Salvador-Aid</th>\n",
              "      <th>Religious-Groups</th>\n",
              "      <th>Anti-Satellite-Ban</th>\n",
              "      <th>Aid-to-Contras</th>\n",
              "      <th>Mx-Missile</th>\n",
              "      <th>Immigration</th>\n",
              "      <th>Synfuels</th>\n",
              "      <th>Education</th>\n",
              "      <th>Right-to-Sue</th>\n",
              "      <th>Crime</th>\n",
              "      <th>Duty-Free</th>\n",
              "      <th>South-Africa</th>\n",
              "    </tr>\n",
              "  </thead>\n",
              "  <tbody>\n",
              "    <tr>\n",
              "      <th>0</th>\n",
              "      <td>republican</td>\n",
              "      <td>0.0</td>\n",
              "      <td>1.0</td>\n",
              "      <td>0.0</td>\n",
              "      <td>1.0</td>\n",
              "      <td>1.0</td>\n",
              "      <td>1.0</td>\n",
              "      <td>0.0</td>\n",
              "      <td>0.0</td>\n",
              "      <td>0.0</td>\n",
              "      <td>1.0</td>\n",
              "      <td>NaN</td>\n",
              "      <td>1.0</td>\n",
              "      <td>1.0</td>\n",
              "      <td>1.0</td>\n",
              "      <td>0.0</td>\n",
              "      <td>1.0</td>\n",
              "    </tr>\n",
              "    <tr>\n",
              "      <th>1</th>\n",
              "      <td>republican</td>\n",
              "      <td>0.0</td>\n",
              "      <td>1.0</td>\n",
              "      <td>0.0</td>\n",
              "      <td>1.0</td>\n",
              "      <td>1.0</td>\n",
              "      <td>1.0</td>\n",
              "      <td>0.0</td>\n",
              "      <td>0.0</td>\n",
              "      <td>0.0</td>\n",
              "      <td>0.0</td>\n",
              "      <td>0.0</td>\n",
              "      <td>1.0</td>\n",
              "      <td>1.0</td>\n",
              "      <td>1.0</td>\n",
              "      <td>0.0</td>\n",
              "      <td>NaN</td>\n",
              "    </tr>\n",
              "    <tr>\n",
              "      <th>2</th>\n",
              "      <td>democrat</td>\n",
              "      <td>NaN</td>\n",
              "      <td>1.0</td>\n",
              "      <td>1.0</td>\n",
              "      <td>NaN</td>\n",
              "      <td>1.0</td>\n",
              "      <td>1.0</td>\n",
              "      <td>0.0</td>\n",
              "      <td>0.0</td>\n",
              "      <td>0.0</td>\n",
              "      <td>0.0</td>\n",
              "      <td>1.0</td>\n",
              "      <td>0.0</td>\n",
              "      <td>1.0</td>\n",
              "      <td>1.0</td>\n",
              "      <td>0.0</td>\n",
              "      <td>0.0</td>\n",
              "    </tr>\n",
              "    <tr>\n",
              "      <th>3</th>\n",
              "      <td>democrat</td>\n",
              "      <td>0.0</td>\n",
              "      <td>1.0</td>\n",
              "      <td>1.0</td>\n",
              "      <td>0.0</td>\n",
              "      <td>NaN</td>\n",
              "      <td>1.0</td>\n",
              "      <td>0.0</td>\n",
              "      <td>0.0</td>\n",
              "      <td>0.0</td>\n",
              "      <td>0.0</td>\n",
              "      <td>1.0</td>\n",
              "      <td>0.0</td>\n",
              "      <td>1.0</td>\n",
              "      <td>0.0</td>\n",
              "      <td>0.0</td>\n",
              "      <td>1.0</td>\n",
              "    </tr>\n",
              "    <tr>\n",
              "      <th>4</th>\n",
              "      <td>democrat</td>\n",
              "      <td>1.0</td>\n",
              "      <td>1.0</td>\n",
              "      <td>1.0</td>\n",
              "      <td>0.0</td>\n",
              "      <td>1.0</td>\n",
              "      <td>1.0</td>\n",
              "      <td>0.0</td>\n",
              "      <td>0.0</td>\n",
              "      <td>0.0</td>\n",
              "      <td>0.0</td>\n",
              "      <td>1.0</td>\n",
              "      <td>NaN</td>\n",
              "      <td>1.0</td>\n",
              "      <td>1.0</td>\n",
              "      <td>1.0</td>\n",
              "      <td>1.0</td>\n",
              "    </tr>\n",
              "  </tbody>\n",
              "</table>\n",
              "</div>"
            ],
            "text/plain": [
              "        Party  Handicapped-Infants  ...  Duty-Free  South-Africa\n",
              "0  republican                  0.0  ...        0.0           1.0\n",
              "1  republican                  0.0  ...        0.0           NaN\n",
              "2    democrat                  NaN  ...        0.0           0.0\n",
              "3    democrat                  0.0  ...        0.0           1.0\n",
              "4    democrat                  1.0  ...        1.0           1.0\n",
              "\n",
              "[5 rows x 17 columns]"
            ]
          },
          "metadata": {
            "tags": []
          },
          "execution_count": 9
        }
      ]
    },
    {
      "cell_type": "code",
      "metadata": {
        "id": "5ih7v4XLkUAA",
        "colab_type": "code",
        "outputId": "8c443941-9e48-44f4-d09d-94024ffb1d8a",
        "colab": {
          "base_uri": "https://localhost:8080/",
          "height": 319
        }
      },
      "source": [
        "# Remove NaN values:\n",
        "house = house.dropna()\n",
        "\n",
        "# Check my work:\n",
        "house.isnull().sum()"
      ],
      "execution_count": 10,
      "outputs": [
        {
          "output_type": "execute_result",
          "data": {
            "text/plain": [
              "Party                   0\n",
              "Handicapped-Infants     0\n",
              "Water-Project           0\n",
              "Budget                  0\n",
              "Physician-Fee-Freeze    0\n",
              "El-Salvador-Aid         0\n",
              "Religious-Groups        0\n",
              "Anti-Satellite-Ban      0\n",
              "Aid-to-Contras          0\n",
              "Mx-Missile              0\n",
              "Immigration             0\n",
              "Synfuels                0\n",
              "Education               0\n",
              "Right-to-Sue            0\n",
              "Crime                   0\n",
              "Duty-Free               0\n",
              "South-Africa            0\n",
              "dtype: int64"
            ]
          },
          "metadata": {
            "tags": []
          },
          "execution_count": 10
        }
      ]
    },
    {
      "cell_type": "code",
      "metadata": {
        "id": "ShlshPW0kYdu",
        "colab_type": "code",
        "outputId": "69906d92-2ffe-48d8-eb4b-0fcc1df3fe7a",
        "colab": {
          "base_uri": "https://localhost:8080/",
          "height": 67
        }
      },
      "source": [
        "# View value counts on the Immigration bill:\n",
        "house['Immigration'].value_counts()"
      ],
      "execution_count": 11,
      "outputs": [
        {
          "output_type": "execute_result",
          "data": {
            "text/plain": [
              "1.0    128\n",
              "0.0    104\n",
              "Name: Immigration, dtype: int64"
            ]
          },
          "metadata": {
            "tags": []
          },
          "execution_count": 11
        }
      ]
    },
    {
      "cell_type": "code",
      "metadata": {
        "id": "wtE4Wz_0oMlw",
        "colab_type": "code",
        "outputId": "63c92ee2-02c6-420a-d8f7-e114f9a8fb8c",
        "colab": {
          "base_uri": "https://localhost:8080/",
          "height": 219
        }
      },
      "source": [
        "# Subset the yes and no votes for the Immigration bill:\n",
        "Yes = house.loc[:, ['Immigration']] >= 1\n",
        "No = house.loc[:, ['Immigration']] <= 0\n",
        "\n",
        "# Check my work:\n",
        "print (Yes.head())\n",
        "print (No.head())"
      ],
      "execution_count": 12,
      "outputs": [
        {
          "output_type": "stream",
          "text": [
            "    Immigration\n",
            "5         False\n",
            "8         False\n",
            "19        False\n",
            "23        False\n",
            "25         True\n",
            "    Immigration\n",
            "5          True\n",
            "8          True\n",
            "19         True\n",
            "23         True\n",
            "25        False\n"
          ],
          "name": "stdout"
        }
      ]
    },
    {
      "cell_type": "code",
      "metadata": {
        "id": "MPODQOBksXoH",
        "colab_type": "code",
        "colab": {}
      },
      "source": [
        "# Create a function to calculate my confidence interval:\n",
        "def confidence_interval(data, confidence=0.95):\n",
        "    # Convert the data to an array.\n",
        "    data = np.array(data)\n",
        "    # The mean of the data.\n",
        "    mean = np.mean(data)\n",
        "    # Lenth of the sample data.\n",
        "    n = len(data)\n",
        "    # Standard Diviation error.\n",
        "    stderr = np.std(data, ddof=1)/np.sqrt(n)\n",
        "    # Margin of Error:\n",
        "    moe = stderr * stats.t.ppf((1 + confidence) / 2.0, n - 1) \n",
        "    # Returns the Mean, Lower Bound, Upper Bound.\n",
        "    return (mean, mean - moe, mean + moe)"
      ],
      "execution_count": 0,
      "outputs": []
    },
    {
      "cell_type": "code",
      "metadata": {
        "id": "ZK6W4ArFs7XH",
        "colab_type": "code",
        "outputId": "5f7b8dfa-2162-4d2d-8e04-fa59e041283c",
        "colab": {
          "base_uri": "https://localhost:8080/",
          "height": 168
        }
      },
      "source": [
        "# Use my CI function to determine the CI of house yes votes on the Immigration \n",
        "#   bill:\n",
        "mean, lower, upper = confidence_interval(Yes)\n",
        "print ('Yes Votes:')\n",
        "yes_mean = mean\n",
        "print ('Mean: ', yes_mean)\n",
        "print ('Lower Bounds: ', lower)\n",
        "yes_upper = upper\n",
        "print ('Upper Bounds: ', yes_upper)\n",
        "print ('')\n",
        "mean, lower, upper = confidence_interval(No)\n",
        "print ('No Votes:')\n",
        "no_mean = mean\n",
        "print ('Mean: ', no_mean)\n",
        "print ('Lower Bounds: ', lower)\n",
        "no_upper = upper\n",
        "print ('Upper Bounds: ', no_upper)"
      ],
      "execution_count": 14,
      "outputs": [
        {
          "output_type": "stream",
          "text": [
            "Yes Votes:\n",
            "Mean:  0.5517241379310345\n",
            "Lower Bounds:  0.48725422311179667\n",
            "Upper Bounds:  0.6161940527502723\n",
            "\n",
            "No Votes:\n",
            "Mean:  0.4482758620689655\n",
            "Lower Bounds:  0.3838059472497277\n",
            "Upper Bounds:  0.5127457768882033\n"
          ],
          "name": "stdout"
        }
      ]
    },
    {
      "cell_type": "code",
      "metadata": {
        "id": "HUMY1yoasmMm",
        "colab_type": "code",
        "outputId": "1160d5a1-7d95-4faf-eaae-497bf86dc6f2",
        "colab": {
          "base_uri": "https://localhost:8080/",
          "height": 168
        }
      },
      "source": [
        "# Use bayes_mvs to determine the CI using Bayesian Theorem for house yes votes \n",
        "#   on the Immigration bill:\n",
        "mean, varience, std_dev = stats.bayes_mvs(Yes, alpha=.95)\n",
        "print ('Yes Votes:')\n",
        "print (mean)\n",
        "print (varience)\n",
        "print (std_dev)\n",
        "print ('')\n",
        "# Use bayes_mvs to determine the CI using Bayesian Theorem for house no votes \n",
        "#   on the Immigration bill:\n",
        "mean, varience, std_dev = stats.bayes_mvs(No, alpha=.95)\n",
        "print ('No Votes:')\n",
        "print (mean)\n",
        "print (varience)\n",
        "print (std_dev)"
      ],
      "execution_count": 15,
      "outputs": [
        {
          "output_type": "stream",
          "text": [
            "Yes Votes:\n",
            "Mean(statistic=0.5517241379310345, minmax=(0.48725422311179667, 0.6161940527502723))\n",
            "Variance(statistic=0.2505646739948803, minmax=(0.2086603793764202, 0.3007344885194001))\n",
            "Std_dev(statistic=0.5000181877773174, minmax=(0.4567935850867657, 0.5483926408326429))\n",
            "\n",
            "No Votes:\n",
            "Mean(statistic=0.4482758620689655, minmax=(0.3838059472497277, 0.5127457768882033))\n",
            "Variance(statistic=0.2505646739948803, minmax=(0.2086603793764202, 0.3007344885194001))\n",
            "Std_dev(statistic=0.5000181877773174, minmax=(0.4567935850867657, 0.5483926408326429))\n"
          ],
          "name": "stdout"
        }
      ]
    },
    {
      "cell_type": "code",
      "metadata": {
        "id": "x06EA7ATOk0U",
        "colab_type": "code",
        "outputId": "6c5fbc2c-023c-4dd3-dfe8-49156e0fe3fe",
        "colab": {
          "base_uri": "https://localhost:8080/",
          "height": 50
        }
      },
      "source": [
        "# Calculate the MOE for house yes votes on the Immigration bill:\n",
        "yes_moe = yes_upper - yes_mean\n",
        "no_moe = no_upper - no_mean\n",
        "\n",
        "# Check my work:\n",
        "print ('Yes MOE: ', yes_moe)\n",
        "print ('No MOE: ', no_moe)"
      ],
      "execution_count": 16,
      "outputs": [
        {
          "output_type": "stream",
          "text": [
            "Yes MOE:  0.0644699148192378\n",
            "No MOE:  0.0644699148192378\n"
          ],
          "name": "stdout"
        }
      ]
    },
    {
      "cell_type": "code",
      "metadata": {
        "id": "_p0FVZkNaUHq",
        "colab_type": "code",
        "outputId": "88a4b433-787b-47f6-e75e-298c35e6a146",
        "colab": {
          "base_uri": "https://localhost:8080/",
          "height": 413
        }
      },
      "source": [
        "# Create an error bars bar chart:\n",
        "house_votes = ['Yes', 'No']\n",
        "x_pos = np.arange(len(house_votes))\n",
        "h_means = [yes_mean, no_mean]\n",
        "moe = [yes_moe, no_moe]\n",
        "\n",
        "fig, ax = plt.subplots(facecolor='white', figsize=(8, 6))\n",
        "ax.bar(house_votes, h_means, yerr=moe, align='center', ecolor='black', \n",
        "       capsize=10, color='purple', alpha=.55)\n",
        "ax.set_xlabel('Type of Votes', fontsize=14, fontweight='bold')\n",
        "ax.set_xticks(house_votes)\n",
        "ax.set_xticklabels(['Yes', 'No'], fontsize=12, fontweight='bold')\n",
        "ax.set_ylabel('Mean (Average) Votes', fontsize=14, fontweight='bold')\n",
        "# ax.set_yticklabels(h_means, fontsize=12, fontweight='bold')\n",
        "ax.set_title('House Votes on the Immigration Bill', fontsize=16, \n",
        "             fontweight='bold');"
      ],
      "execution_count": 20,
      "outputs": [
        {
          "output_type": "display_data",
          "data": {
            "image/png": "[encoded data removed]",
            "text/plain": [
              "<Figure size 576x432 with 1 Axes>"
            ]
          },
          "metadata": {
            "tags": []
          }
        }
      ]
    },
    {
      "cell_type": "markdown",
      "metadata": {
        "id": "1eivjAqqrvO6",
        "colab_type": "text"
      },
      "source": [
        "### Part 2B:\n",
        "\n",
        "Explore `scipy.stats.bayes_mvs`  \n",
        "Read its documentation, and experiment with it on data you've tested in other ways earlier this week.\n",
        "\n",
        " - Create a visualization comparing the results of a Bayesian approach to a traditional/frequentist approach. (with a large sample size they should look close to identical, however, take this opportunity to practice visualizing condfidence intervals in general. The following are some potential ways that you could visualize confidence intervals on your graph:\n",
        "\n",
        "   - [Seaborn barplot with error bars](https://seaborn.pydata.org/generated/seaborn.barplot.html)"
      ]
    },
    {
      "cell_type": "code",
      "metadata": {
        "id": "2qHM-afBsmGS",
        "colab_type": "code",
        "outputId": "9bd1b129-3269-4d2e-dfbe-5694a99c1140",
        "colab": {
          "base_uri": "https://localhost:8080/",
          "height": 472
        }
      },
      "source": [
        "# Create a barplot with error bars using Seaborn:\n",
        "plt.style.use('default')\n",
        "sns.set_context(font_scale=2, rc={'font.size':10})\n",
        "ax = sns.barplot(x=house_votes, y=h_means, yerr=moe, ci=.95)\n",
        "ax.errorbar(house_votes, h_means, yerr=moe, ecolor='black', capsize=6, fmt='o', \n",
        "            c='green', elinewidth=2)\n",
        "ax.set_title('House Votes on the Immigration Bill')\n",
        "ax.set_xlabel('Type of Votes')\n",
        "ax.set_ylabel('Mean (Average) Votes');"
      ],
      "execution_count": 21,
      "outputs": [
        {
          "output_type": "display_data",
          "data": {
            "image/png": "[encoded data removed]",
            "text/plain": [
              "<Figure size 640x480 with 1 Axes>"
            ]
          },
          "metadata": {
            "tags": []
          }
        }
      ]
    },
    {
      "cell_type": "markdown",
      "metadata": {
        "id": "43y0Fr10rxZE",
        "colab_type": "text"
      },
      "source": [
        "### Part 2C:\n",
        "\n",
        "Explore `scipy.stats.bayes_mvs`  \n",
        "Read its documentation, and experiment with it on data you've tested in other ways earlier this week.\n",
        "\n",
        " - Create a visualization comparing the results of a Bayesian approach to a traditional/frequentist approach. (with a large sample size they should look close to identical, however, take this opportunity to practice visualizing condfidence intervals in general. The following are some potential ways that you could visualize confidence intervals on your graph:\n",
        "\n",
        "   - [Vertical ines to show bounds of confidence interval](https://www.simplypsychology.org/confidence-interval.jpg)"
      ]
    },
    {
      "cell_type": "code",
      "metadata": {
        "id": "06gtF0HEeuSU",
        "colab_type": "code",
        "colab": {}
      },
      "source": [
        ""
      ],
      "execution_count": 0,
      "outputs": []
    },
    {
      "cell_type": "markdown",
      "metadata": {
        "id": "trt9gkJFr36j",
        "colab_type": "text"
      },
      "source": [
        "### Part 2D:\n",
        "\n",
        "Explore `scipy.stats.bayes_mvs`  \n",
        "Read its documentation, and experiment with it on data you've tested in other ways earlier this week.\n",
        "\n",
        " - Create a visualization comparing the results of a Bayesian approach to a traditional/frequentist approach. (with a large sample size they should look close to identical, however, take this opportunity to practice visualizing condfidence intervals in general. The following are some potential ways that you could visualize confidence intervals on your graph:\n",
        "\n",
        "   - [Confidence Intervals on Box Plots](https://matplotlib.org/3.1.1/api/_as_gen/matplotlib.axes.Axes.boxplot.html)"
      ]
    },
    {
      "cell_type": "code",
      "metadata": {
        "id": "U3emxQEEssgK",
        "colab_type": "code",
        "colab": {}
      },
      "source": [
        ""
      ],
      "execution_count": 0,
      "outputs": []
    },
    {
      "cell_type": "markdown",
      "metadata": {
        "id": "NSdFUX6YsOHR",
        "colab_type": "text"
      },
      "source": [
        "### Part 3:\n",
        "\n",
        "In your own words, summarize the difference between Bayesian and Frequentist statistics\n",
        "\n",
        "If you're unsure where to start, check out [this blog post of Bayes theorem with Python](https://dataconomy.com/2015/02/introduction-to-bayes-theorem-with-python/)."
      ]
    },
    {
      "cell_type": "markdown",
      "metadata": {
        "id": "ExgU52lUstT9",
        "colab_type": "text"
      },
      "source": [
        "- Bayesian Statistics:\n",
        "  - Uses prior (posterior) probability data to determine current probability.\n",
        "  - Their probability is based on plausability of a situation or event mostly.\n",
        "  - Can give you a probability based on a small sample due to using prior data to calculate the probability.\n",
        "  - Has to be run multiple times using the prior probabilty to get to your Confidence Interval.\n",
        "  - Constently changing because it updates as soon as something changes.\n",
        "\n",
        "- Frequentist Statistics:\n",
        "  - Uses a sample dataset to determine the probability of an event occuring.\n",
        "  - Probabilty is based on a random sample dataset of the population.\n",
        "  - Need to have a large dataset to get an accurate probability rate.\n",
        "  - The underlying parameters are fixed and remain constant through the testing."
      ]
    },
    {
      "cell_type": "markdown",
      "metadata": {
        "id": "uWgWjp3PQ3Sq",
        "colab_type": "text"
      },
      "source": [
        "## Resources"
      ]
    },
    {
      "cell_type": "markdown",
      "metadata": {
        "id": "QRgHqmYIQ9qn",
        "colab_type": "text"
      },
      "source": [
        "- [Worked example of Bayes rule calculation](https://en.wikipedia.org/wiki/Bayes'_theorem#Examples) (helpful as it fully breaks out the denominator)\n",
        "- [Source code for mvsdist in scipy](https://github.com/scipy/scipy/blob/90534919e139d2a81c24bf08341734ff41a3db12/scipy/stats/morestats.py#L139)"
      ]
    },
    {
      "cell_type": "markdown",
      "metadata": {
        "id": "GP7Jv1XvwtkX",
        "colab_type": "text"
      },
      "source": [
        "## Stretch Goals:\n",
        "\n",
        "- Go back and study the content from Modules 1 & 2 to make sure that you're really comfortable with them.\n",
        "- Apply a Bayesian technique to a problem you previously worked (in an assignment or project work) on from a frequentist (standard) perspective\n",
        "- Check out [PyMC3](https://docs.pymc.io/) (note this goes beyond hypothesis tests into modeling) - read the guides and work through some examples\n",
        "- Take PyMC3 further - see if you can build something with it!"
      ]
    },
    {
      "cell_type": "code",
      "metadata": {
        "id": "iDi0eFr1x-v_",
        "colab_type": "code",
        "colab": {}
      },
      "source": [
        ""
      ],
      "execution_count": 0,
      "outputs": []
    }
  ]
}