{
  "nbformat": 4,
  "nbformat_minor": 0,
  "metadata": {
    "colab": {
      "name": "LS_DS_123_Introduction_to_Bayesian_Inference_Assignment.ipynb",
      "provenance": [],
      "collapsed_sections": [],
      "include_colab_link": true
    },
    "kernelspec": {
      "name": "python3",
      "display_name": "Python 3"
    }
  },
  "cells": [
    {
      "cell_type": "markdown",
      "metadata": {
        "id": "view-in-github",
        "colab_type": "text"
      },
      "source": [
        "<a href=\"https://colab.research.google.com/github/shengjiyang/DS-Unit-1-Sprint-2-Statistics/blob/master/module3/LS_DS_123_Introduction_to_Bayesian_Inference_Assignment.ipynb\" target=\"_parent\"><img src=\"https://colab.research.google.com/assets/colab-badge.svg\" alt=\"Open In Colab\"/></a>"
      ]
    },
    {
      "cell_type": "markdown",
      "metadata": {
        "id": "H7OLbevlbd_Z",
        "colab_type": "text"
      },
      "source": [
        "# Lambda School Data Science Module 123\n",
        "\n",
        "## Introduction to Bayesian Inference\n",
        "\n",
        "\n"
      ]
    },
    {
      "cell_type": "markdown",
      "metadata": {
        "id": "P-DzzRk5bf0z",
        "colab_type": "text"
      },
      "source": [
        "## Assignment - Code it up!\n",
        "\n",
        "We used pure math to apply Bayes Theorem to drug tests. Now write Python code to reproduce the results! This is purposefully open ended - you'll have to think about how you should represent probabilities and events. You can and should look things up.\n",
        "\n",
        "Specific goals/targets:\n",
        "\n",
        "### 1) Write a function \n",
        "\n",
        "`def prob_drunk_given_positive(prob_drunk_prior, false_positive_rate):` \n",
        "\n",
        "You should only truly need these two values in order to apply Bayes Theorem. In this example, imagine that individuals are taking a breathalyzer test with an 8% false positive rate, a 100% true positive rate, and that our prior belief about drunk driving in the population is 1/1000. \n",
        " - What is the probability that a person is drunk after one positive breathalyzer test?\n",
        " - What is the probability that a person is drunk after two positive breathalyzer tests?\n",
        " - How many positive breathalyzer tests are needed in order to have a probability that's greater than 95% that a person is drunk beyond the legal limit?\n",
        "\n",
        "### 2) Explore `scipy.stats.bayes_mvs`  \n",
        "Read its documentation, and experiment with it on data you've tested in other ways earlier this week.\n",
        " - Create a visualization comparing the results of a Bayesian approach to a traditional/frequentist approach. (with a large sample size they should look close to identical, however, take this opportunity to practice visualizing condfidence intervals in general. The following are some potential ways that you could visualize confidence intervals on your graph:\n",
        "  - [Matplotlib Error Bars](https://matplotlib.org/3.1.1/api/_as_gen/matplotlib.pyplot.errorbar.html)\n",
        "  - [Seaborn barplot with error bars](https://seaborn.pydata.org/generated/seaborn.barplot.html)\n",
        "  - [Vertical ines to show bounds of confidence interval](https://www.simplypsychology.org/confidence-interval.jpg)\n",
        "  - [Confidence Intervals on Box Plots](https://matplotlib.org/3.1.1/api/_as_gen/matplotlib.axes.Axes.boxplot.html)\n",
        "\n",
        "### 3) In your own words, summarize the difference between Bayesian and Frequentist statistics\n",
        "\n",
        "If you're unsure where to start, check out [this blog post of Bayes theorem with Python](https://dataconomy.com/2015/02/introduction-to-bayes-theorem-with-python/).\n",
        "\n"
      ]
    },
    {
      "cell_type": "code",
      "metadata": {
        "id": "xpVhZyUnbf7o",
        "colab_type": "code",
        "colab": {
          "base_uri": "https://localhost:8080/",
          "height": 34
        },
        "outputId": "c4b40a82-2389-427f-e7e3-627f303b68a6"
      },
      "source": [
        "# Write a function:\n",
        "# def prob_drunk_given_positive(prob_drunk_prior, false_positive_rate):\n",
        "\n",
        "# What is the probability that a person is drunk\n",
        "# after one positive breathalyzer test?\n",
        "\n",
        "p_pos_cond_drunk = 1\n",
        "\n",
        "def prob_drunk_given_positive(prob_drunk_prior, false_positive_rate):\n",
        "  numerator = (p_pos_cond_drunk * prob_drunk_prior)\n",
        "  denominator = numerator + (false_positive_rate * (1 - prob_drunk_prior))\n",
        "  return numerator / denominator\n",
        "\n",
        "prob_drunk_given_positive(1 / 1000, 0.08)\n",
        "\n",
        "# The probability that someone is drunk given a single positive test\n",
        "# being 1.24% seems wrong, but maybe..."
      ],
      "execution_count": 10,
      "outputs": [
        {
          "output_type": "execute_result",
          "data": {
            "text/plain": [
              "0.012357884330202669"
            ]
          },
          "metadata": {
            "tags": []
          },
          "execution_count": 10
        }
      ]
    },
    {
      "cell_type": "code",
      "metadata": {
        "id": "QbSNDp_AnFVw",
        "colab_type": "code",
        "colab": {
          "base_uri": "https://localhost:8080/",
          "height": 136
        },
        "outputId": "c642789d-cbd4-464d-ab40-ad867254a844"
      },
      "source": [
        "print(1, prob_drunk_given_positive(1 / 1000, 0.08))\n",
        "print(2, prob_drunk_given_positive(0.012357884330202669, 0.08))\n",
        "print(3, prob_drunk_given_positive(0.13525210993291495, 0.08))\n",
        "print(4, prob_drunk_given_positive(0.6615996951348605, 0.08))\n",
        "print(5, prob_drunk_given_positive(0.9606895076105054, 0.08))\n",
        "print(6, prob_drunk_given_positive(0.9967371577896734, 0.08))\n",
        "print(7, prob_drunk_given_positive(0.9997381867081508, 0.08))\n",
        "\n",
        "# It would require 4 tests in order to be 95% certain of an\n",
        "# individual's drunkness from a brethalyzer test,\n",
        "# 7 tests to be near 100% certain."
      ],
      "execution_count": 22,
      "outputs": [
        {
          "output_type": "stream",
          "text": [
            "1 0.012357884330202669\n",
            "2 0.13525210993291495\n",
            "3 0.6615996951348605\n",
            "4 0.9606895076105054\n",
            "5 0.9967371577896734\n",
            "6 0.9997381867081508\n",
            "7 0.9999790498904363\n"
          ],
          "name": "stdout"
        }
      ]
    },
    {
      "cell_type": "code",
      "metadata": {
        "id": "qtJvzcXHbwRu",
        "colab_type": "code",
        "colab": {}
      },
      "source": [
        "# Explore scipy.stats.bayes_mvs\n",
        "\n",
        "# Create a visualization comparing the results of a Bayesian approach to a\n",
        "# traditional/frequentist approach. (with a large sample size they should look\n",
        "# close to identical, however, take this opportunity to practice visualizing\n",
        "# condfidence intervals in general. The following are some potential ways that\n",
        "# you could visualize confidence intervals on your graph:\n",
        "\n",
        "\n",
        "# For this I am going to compare the frequentist confidence intervals calculated\n",
        "# yesterday from the Voting_Data dataset with their Bayesian equivalents.\n",
        "\n",
        "import pandas as pd\n",
        "import numpy as np\n",
        "\n",
        "column_headers = ['party', 'handicapped-infants',\n",
        "                  'water-project-cost-sharing',\n",
        "                  'adoption-of-the-budget-resolution', 'physician-fee-freeze',\n",
        "                  'el-salvador-aid', 'religious-groups-in-schools',\n",
        "                  'anti-satellite-test-ban', 'aid-to-nicaraguan-contras',\n",
        "                  'mx-missile', 'immigration', 'synfuels-corporation-cutback',\n",
        "                  'education-spending', 'superfund-right-to-sue', 'crime',\n",
        "                  'duty-free-exports', 'export-administration-act-south-africa']\n",
        "\n",
        "df = pd.read_csv('https://archive.ics.uci.edu/ml/machine-learning-databases/voting-records/house-votes-84.data',\n",
        "                          names = column_headers)"
      ],
      "execution_count": 0,
      "outputs": []
    },
    {
      "cell_type": "code",
      "metadata": {
        "id": "x0O5Jdc2XFE6",
        "colab_type": "code",
        "colab": {
          "base_uri": "https://localhost:8080/",
          "height": 275
        },
        "outputId": "b3b0ae7e-b52c-4d28-b210-703161026734"
      },
      "source": [
        "df = df.replace('y', 1).replace('n', 0)\n",
        "df.head()"
      ],
      "execution_count": 24,
      "outputs": [
        {
          "output_type": "execute_result",
          "data": {
            "text/html": [
              "<div>\n",
              "<style scoped>\n",
              "    .dataframe tbody tr th:only-of-type {\n",
              "        vertical-align: middle;\n",
              "    }\n",
              "\n",
              "    .dataframe tbody tr th {\n",
              "        vertical-align: top;\n",
              "    }\n",
              "\n",
              "    .dataframe thead th {\n",
              "        text-align: right;\n",
              "    }\n",
              "</style>\n",
              "<table border=\"1\" class=\"dataframe\">\n",
              "  <thead>\n",
              "    <tr style=\"text-align: right;\">\n",
              "      <th></th>\n",
              "      <th>party</th>\n",
              "      <th>handicapped-infants</th>\n",
              "      <th>water-project-cost-sharing</th>\n",
              "      <th>adoption-of-the-budget-resolution</th>\n",
              "      <th>physician-fee-freeze</th>\n",
              "      <th>el-salvador-aid</th>\n",
              "      <th>religious-groups-in-schools</th>\n",
              "      <th>anti-satellite-test-ban</th>\n",
              "      <th>aid-to-nicaraguan-contras</th>\n",
              "      <th>mx-missile</th>\n",
              "      <th>immigration</th>\n",
              "      <th>synfuels-corporation-cutback</th>\n",
              "      <th>education-spending</th>\n",
              "      <th>superfund-right-to-sue</th>\n",
              "      <th>crime</th>\n",
              "      <th>duty-free-exports</th>\n",
              "      <th>export-administration-act-south-africa</th>\n",
              "    </tr>\n",
              "  </thead>\n",
              "  <tbody>\n",
              "    <tr>\n",
              "      <th>0</th>\n",
              "      <td>republican</td>\n",
              "      <td>0</td>\n",
              "      <td>1</td>\n",
              "      <td>0</td>\n",
              "      <td>1</td>\n",
              "      <td>1</td>\n",
              "      <td>1</td>\n",
              "      <td>0</td>\n",
              "      <td>0</td>\n",
              "      <td>0</td>\n",
              "      <td>1</td>\n",
              "      <td>?</td>\n",
              "      <td>1</td>\n",
              "      <td>1</td>\n",
              "      <td>1</td>\n",
              "      <td>0</td>\n",
              "      <td>1</td>\n",
              "    </tr>\n",
              "    <tr>\n",
              "      <th>1</th>\n",
              "      <td>republican</td>\n",
              "      <td>0</td>\n",
              "      <td>1</td>\n",
              "      <td>0</td>\n",
              "      <td>1</td>\n",
              "      <td>1</td>\n",
              "      <td>1</td>\n",
              "      <td>0</td>\n",
              "      <td>0</td>\n",
              "      <td>0</td>\n",
              "      <td>0</td>\n",
              "      <td>0</td>\n",
              "      <td>1</td>\n",
              "      <td>1</td>\n",
              "      <td>1</td>\n",
              "      <td>0</td>\n",
              "      <td>?</td>\n",
              "    </tr>\n",
              "    <tr>\n",
              "      <th>2</th>\n",
              "      <td>democrat</td>\n",
              "      <td>?</td>\n",
              "      <td>1</td>\n",
              "      <td>1</td>\n",
              "      <td>?</td>\n",
              "      <td>1</td>\n",
              "      <td>1</td>\n",
              "      <td>0</td>\n",
              "      <td>0</td>\n",
              "      <td>0</td>\n",
              "      <td>0</td>\n",
              "      <td>1</td>\n",
              "      <td>0</td>\n",
              "      <td>1</td>\n",
              "      <td>1</td>\n",
              "      <td>0</td>\n",
              "      <td>0</td>\n",
              "    </tr>\n",
              "    <tr>\n",
              "      <th>3</th>\n",
              "      <td>democrat</td>\n",
              "      <td>0</td>\n",
              "      <td>1</td>\n",
              "      <td>1</td>\n",
              "      <td>0</td>\n",
              "      <td>?</td>\n",
              "      <td>1</td>\n",
              "      <td>0</td>\n",
              "      <td>0</td>\n",
              "      <td>0</td>\n",
              "      <td>0</td>\n",
              "      <td>1</td>\n",
              "      <td>0</td>\n",
              "      <td>1</td>\n",
              "      <td>0</td>\n",
              "      <td>0</td>\n",
              "      <td>1</td>\n",
              "    </tr>\n",
              "    <tr>\n",
              "      <th>4</th>\n",
              "      <td>democrat</td>\n",
              "      <td>1</td>\n",
              "      <td>1</td>\n",
              "      <td>1</td>\n",
              "      <td>0</td>\n",
              "      <td>1</td>\n",
              "      <td>1</td>\n",
              "      <td>0</td>\n",
              "      <td>0</td>\n",
              "      <td>0</td>\n",
              "      <td>0</td>\n",
              "      <td>1</td>\n",
              "      <td>?</td>\n",
              "      <td>1</td>\n",
              "      <td>1</td>\n",
              "      <td>1</td>\n",
              "      <td>1</td>\n",
              "    </tr>\n",
              "  </tbody>\n",
              "</table>\n",
              "</div>"
            ],
            "text/plain": [
              "        party  ... export-administration-act-south-africa\n",
              "0  republican  ...                                      1\n",
              "1  republican  ...                                      ?\n",
              "2    democrat  ...                                      0\n",
              "3    democrat  ...                                      1\n",
              "4    democrat  ...                                      1\n",
              "\n",
              "[5 rows x 17 columns]"
            ]
          },
          "metadata": {
            "tags": []
          },
          "execution_count": 24
        }
      ]
    },
    {
      "cell_type": "code",
      "metadata": {
        "id": "-KCCJXyeXJD1",
        "colab_type": "code",
        "colab": {}
      },
      "source": [
        "# Original Frequentist Confidence Interval Function\n",
        "\n",
        "from scipy import stats\n",
        "\n",
        "def confidence_interval(data, confidence=0.95):\n",
        "  \"\"\"\n",
        "  Calculate a confidence interval around a sample mean for given data.\n",
        "  Using t-distribution and two-tailed test, default 95% confidence. \n",
        "  \n",
        "  Arguments:\n",
        "    data - iterable (list or numpy array) of sample observations\n",
        "    confidence - level of confidence for the interval\n",
        "  \n",
        "  Returns:\n",
        "    tuple of (mean, lower bound, upper bound)\n",
        "  \"\"\"\n",
        "  data = np.array(data)\n",
        "  mean = np.mean(data)\n",
        "  n = len(data)\n",
        "  stderr = stats.sem(data)\n",
        "  interval = stderr * stats.t.ppf((1 + confidence) / 2.0, n - 1)\n",
        "  return (mean, mean - interval, mean + interval)"
      ],
      "execution_count": 0,
      "outputs": []
    },
    {
      "cell_type": "code",
      "metadata": {
        "id": "Fw7oUUr4YH4H",
        "colab_type": "code",
        "colab": {}
      },
      "source": [
        "rep = df[df['party'] == 'republican']\n",
        "dem = df[df['party'] == 'democrat']"
      ],
      "execution_count": 0,
      "outputs": []
    },
    {
      "cell_type": "code",
      "metadata": {
        "id": "8Q7Xvi1tYptg",
        "colab_type": "code",
        "colab": {
          "base_uri": "https://localhost:8080/",
          "height": 153
        },
        "outputId": "79051a17-ad18-4d89-8271-75faccf0e598"
      },
      "source": [
        "# Building a Confidence Interval for Republican for and against the\n",
        "# \"Handicapped Infants\" resolution.\n",
        "\n",
        "# From the documentation fro DataFrame.drop():\n",
        "# dfObj.drop( dfObj[ dfObj['Age'] == 30 ].index , inplace=True)\n",
        "\n",
        "rep['handicapped-infants'].drop(rep['handicapped-infants'][rep['handicapped-infants'] == '?'].index, inplace = True)\n",
        "rep['handicapped-infants'].value_counts()"
      ],
      "execution_count": 32,
      "outputs": [
        {
          "output_type": "stream",
          "text": [
            "/usr/local/lib/python3.6/dist-packages/pandas/core/generic.py:3917: SettingWithCopyWarning: \n",
            "A value is trying to be set on a copy of a slice from a DataFrame\n",
            "\n",
            "See the caveats in the documentation: http://pandas.pydata.org/pandas-docs/stable/user_guide/indexing.html#returning-a-view-versus-a-copy\n",
            "  self._update_inplace(obj)\n"
          ],
          "name": "stderr"
        },
        {
          "output_type": "execute_result",
          "data": {
            "text/plain": [
              "0    134\n",
              "1     31\n",
              "Name: handicapped-infants, dtype: int64"
            ]
          },
          "metadata": {
            "tags": []
          },
          "execution_count": 32
        }
      ]
    },
    {
      "cell_type": "code",
      "metadata": {
        "id": "qRE1nQDeY0y7",
        "colab_type": "code",
        "colab": {
          "base_uri": "https://localhost:8080/",
          "height": 34
        },
        "outputId": "c63f08ce-f848-4106-e2e7-2158f4bdbda0"
      },
      "source": [
        "mean, lower, upper = confidence_interval(rep['handicapped-infants'])\n",
        "\n",
        "print(mean, [lower, upper])"
      ],
      "execution_count": 33,
      "outputs": [
        {
          "output_type": "stream",
          "text": [
            "0.18787878787878787 [0.12765166444807918, 0.24810591130949655]\n"
          ],
          "name": "stdout"
        }
      ]
    },
    {
      "cell_type": "code",
      "metadata": {
        "id": "ZuFyM75XfJJv",
        "colab_type": "code",
        "colab": {
          "base_uri": "https://localhost:8080/",
          "height": 34
        },
        "outputId": "651951cd-8db9-4371-ccc5-be5fe1779ff9"
      },
      "source": [
        "# Frequentist Error for Republicans\n",
        "\n",
        "0.24810591130949655 - 0.18787878787878787"
      ],
      "execution_count": 72,
      "outputs": [
        {
          "output_type": "execute_result",
          "data": {
            "text/plain": [
              "0.060227123430708684"
            ]
          },
          "metadata": {
            "tags": []
          },
          "execution_count": 72
        }
      ]
    },
    {
      "cell_type": "code",
      "metadata": {
        "id": "g1y-PwJjaSTk",
        "colab_type": "code",
        "colab": {
          "base_uri": "https://localhost:8080/",
          "height": 34
        },
        "outputId": "f0e2165c-fbba-48f1-c24a-301394946ac0"
      },
      "source": [
        "# Bayesian CI for Republicans\n",
        "\n",
        "Mean_CIR, Variance_CIR, Std_dev_CIR = stats.bayes_mvs(rep['handicapped-infants'])\n",
        "print(Mean_CIR)"
      ],
      "execution_count": 37,
      "outputs": [
        {
          "output_type": "stream",
          "text": [
            "Mean(statistic=0.18787878787878787, minmax=(0.13742255172114007, 0.23833502403643564))\n"
          ],
          "name": "stdout"
        }
      ]
    },
    {
      "cell_type": "code",
      "metadata": {
        "id": "DkYrVkPpdKIE",
        "colab_type": "code",
        "colab": {
          "base_uri": "https://localhost:8080/",
          "height": 34
        },
        "outputId": "cfc6a236-6223-4858-e7b0-542e4ca138f3"
      },
      "source": [
        "# Bayesian Error for Republicans\n",
        "\n",
        "0.23833502403643564 - 0.18787878787878787"
      ],
      "execution_count": 73,
      "outputs": [
        {
          "output_type": "execute_result",
          "data": {
            "text/plain": [
              "0.05045623615764777"
            ]
          },
          "metadata": {
            "tags": []
          },
          "execution_count": 73
        }
      ]
    },
    {
      "cell_type": "code",
      "metadata": {
        "id": "ahWqlGYQY7ah",
        "colab_type": "code",
        "colab": {
          "base_uri": "https://localhost:8080/",
          "height": 153
        },
        "outputId": "71eb24e6-4a14-40e2-a943-0a82fa219146"
      },
      "source": [
        "# Now for Democrats on the same issue:\n",
        "\n",
        "dem['handicapped-infants'].drop(dem['handicapped-infants'][dem['handicapped-infants'] == '?'].index, inplace = True)\n",
        "dem['handicapped-infants'].value_counts()"
      ],
      "execution_count": 34,
      "outputs": [
        {
          "output_type": "stream",
          "text": [
            "/usr/local/lib/python3.6/dist-packages/pandas/core/generic.py:3917: SettingWithCopyWarning: \n",
            "A value is trying to be set on a copy of a slice from a DataFrame\n",
            "\n",
            "See the caveats in the documentation: http://pandas.pydata.org/pandas-docs/stable/user_guide/indexing.html#returning-a-view-versus-a-copy\n",
            "  self._update_inplace(obj)\n"
          ],
          "name": "stderr"
        },
        {
          "output_type": "execute_result",
          "data": {
            "text/plain": [
              "1    156\n",
              "0    102\n",
              "Name: handicapped-infants, dtype: int64"
            ]
          },
          "metadata": {
            "tags": []
          },
          "execution_count": 34
        }
      ]
    },
    {
      "cell_type": "code",
      "metadata": {
        "id": "pneEwAogY7tv",
        "colab_type": "code",
        "colab": {
          "base_uri": "https://localhost:8080/",
          "height": 34
        },
        "outputId": "43eb1fa9-0b53-4357-a1bf-c06d672a393a"
      },
      "source": [
        "mean, lower, upper = confidence_interval(dem['handicapped-infants'])\n",
        "\n",
        "print(mean, [lower, upper])"
      ],
      "execution_count": 35,
      "outputs": [
        {
          "output_type": "stream",
          "text": [
            "0.6046511627906976 [0.5445926997425515, 0.6647096258388437]\n"
          ],
          "name": "stdout"
        }
      ]
    },
    {
      "cell_type": "code",
      "metadata": {
        "id": "sRiKeU8CdeZq",
        "colab_type": "code",
        "colab": {
          "base_uri": "https://localhost:8080/",
          "height": 34
        },
        "outputId": "e6062a7d-55c6-4c98-a33f-eeafed496396"
      },
      "source": [
        "# Frequentist Error fro the Democrats\n",
        "\n",
        "0.6647096258388437 - 0.6046511627906976"
      ],
      "execution_count": 68,
      "outputs": [
        {
          "output_type": "execute_result",
          "data": {
            "text/plain": [
              "0.060058463048146105"
            ]
          },
          "metadata": {
            "tags": []
          },
          "execution_count": 68
        }
      ]
    },
    {
      "cell_type": "code",
      "metadata": {
        "id": "LhXoYxn2ZODQ",
        "colab_type": "code",
        "colab": {
          "base_uri": "https://localhost:8080/",
          "height": 34
        },
        "outputId": "b8bad363-751b-4469-e040-25849dd8939b"
      },
      "source": [
        "# Bayesian CI for Democrats\n",
        "\n",
        "# Democrats\n",
        "Mean_CID, Variance_CID, Std_dev_CID = stats.bayes_mvs(dem['handicapped-infants'])\n",
        "Mean_CID"
      ],
      "execution_count": 38,
      "outputs": [
        {
          "output_type": "execute_result",
          "data": {
            "text/plain": [
              "Mean(statistic=0.6046511627906976, minmax=(0.5543043832674934, 0.6549979423139018))"
            ]
          },
          "metadata": {
            "tags": []
          },
          "execution_count": 38
        }
      ]
    },
    {
      "cell_type": "code",
      "metadata": {
        "id": "rP90OmOUbbKU",
        "colab_type": "code",
        "colab": {
          "base_uri": "https://localhost:8080/",
          "height": 34
        },
        "outputId": "1568ae0d-e7c6-4912-f684-9c2573febfd3"
      },
      "source": [
        "# Bayesian Error for the Democrats\n",
        "0.6549979423139018 - 0.6046511627906976"
      ],
      "execution_count": 39,
      "outputs": [
        {
          "output_type": "execute_result",
          "data": {
            "text/plain": [
              "0.05034677952320421"
            ]
          },
          "metadata": {
            "tags": []
          },
          "execution_count": 39
        }
      ]
    },
    {
      "cell_type": "code",
      "metadata": {
        "id": "Sr3Mi0-QZC9v",
        "colab_type": "code",
        "colab": {
          "base_uri": "https://localhost:8080/",
          "height": 51
        },
        "outputId": "561e7f21-45d6-4521-a300-4310b931660d"
      },
      "source": [
        "# Visualization of Confidence Intervals\n",
        "\n",
        "rep_yays = rep['handicapped-infants'][rep['handicapped-infants'] == 1]\n",
        "rep_yays.value_counts()"
      ],
      "execution_count": 31,
      "outputs": [
        {
          "output_type": "execute_result",
          "data": {
            "text/plain": [
              "1    31\n",
              "Name: handicapped-infants, dtype: int64"
            ]
          },
          "metadata": {
            "tags": []
          },
          "execution_count": 31
        }
      ]
    },
    {
      "cell_type": "code",
      "metadata": {
        "id": "SxNXHb9Tam0k",
        "colab_type": "code",
        "colab": {
          "base_uri": "https://localhost:8080/",
          "height": 286
        },
        "outputId": "8606c60a-96aa-436b-c98d-c97b64b938ef"
      },
      "source": [
        "# Comparative Visualization of\n",
        "# Frequentist vs. Bayesian Confidence Intervals\n",
        "\n",
        "# Republican\n",
        "\n",
        "import matplotlib.pyplot as plt\n",
        "import seaborn as sns\n",
        "\n",
        "ax, fig = plt.subplots()\n",
        "ax = plt.axes()\n",
        "\n",
        "ax.text(s = \"Comparison of Frequentist and Bayesian Confidence Intervals\",\n",
        "        x = -0.44, y = 0.29, fontsize = 9, fontweight = 'bold')\n",
        "ax.text(s = \"for Republican Votes on the Handicapped Infants Resolution\",\n",
        "        x = -0.425, y = 0.27, fontsize = 9, fontweight = 'bold')\n",
        "\n",
        "ax.get_xaxis().set_visible(False)\n",
        "\n",
        "ax.text(s = \"Frequentist = 0.0602\", x = -0.265, y =0.1, fontsize = 8,\n",
        "        fontweight = 'bold')\n",
        "\n",
        "ax.text(s = \"Bayesian = 0.0505\", x = 0.74, y =0.1, fontsize = 8,\n",
        "        fontweight = 'bold')\n",
        "\n",
        "plt.bar(0, 0.18787878787878787, yerr = 0.060227123430708684)\n",
        "plt.bar(1, 0.18787878787878787, yerr = 0.05045623615764777);"
      ],
      "execution_count": 101,
      "outputs": [
        {
          "output_type": "display_data",
          "data": {
            "image/png": "[encoded data removed]",
            "text/plain": [
              "<Figure size 432x288 with 1 Axes>"
            ]
          },
          "metadata": {
            "tags": []
          }
        }
      ]
    },
    {
      "cell_type": "code",
      "metadata": {
        "id": "LchmkGWNZKS7",
        "colab_type": "code",
        "colab": {
          "base_uri": "https://localhost:8080/",
          "height": 276
        },
        "outputId": "0cc0835c-9065-4f44-97f7-8ed799b89a00"
      },
      "source": [
        "# Comparative Visualization of\n",
        "# Frequentist vs. Bayesian Confidence Intervals\n",
        "\n",
        "# Democrat\n",
        "\n",
        "ax, fig = plt.subplots()\n",
        "ax = plt.axes()\n",
        "\n",
        "ax.text(s = \"Comparison of Frequentist and Bayesian Confidence Intervals\",\n",
        "        x = -0.44, y = 0.745, fontsize = 9, fontweight = 'bold')\n",
        "ax.text(s = \"for Democratic Votes on the Handicapped Infants Resolution\",\n",
        "        x = -0.425, y = 0.71, fontsize = 9, fontweight = 'bold')\n",
        "\n",
        "ax.get_xaxis().set_visible(False)\n",
        "\n",
        "ax.text(s = \"Frequentist = 0.0601\", x = -0.28, y =0.35, fontsize = 8,\n",
        "        fontweight = 'bold')\n",
        "\n",
        "ax.text(s = \"Bayesian = 0.0503\", x = 0.74, y =0.35, fontsize = 8,\n",
        "        fontweight = 'bold')\n",
        "\n",
        "\n",
        "plt.bar(0, 0.6046511627906976, yerr = 0.060058463048146105)\n",
        "plt.bar(1, 0.6046511627906976, yerr = 0.05034677952320421);"
      ],
      "execution_count": 104,
      "outputs": [
        {
          "output_type": "display_data",
          "data": {
            "image/png": "[encoded data removed]",
            "text/plain": [
              "<Figure size 432x288 with 1 Axes>"
            ]
          },
          "metadata": {
            "tags": []
          }
        }
      ]
    },
    {
      "cell_type": "markdown",
      "metadata": {
        "id": "bC8IdbQigtvX",
        "colab_type": "text"
      },
      "source": [
        "#### These data appear to indicate that the Bayesian Confidence Interval is tighter than the Frequentist.\n",
        "\n",
        "#### This seems intuitive, given that Bayesian results tends to narrow the range of possibile events which are likely to take place compared with Frequentist results."
      ]
    },
    {
      "cell_type": "markdown",
      "metadata": {
        "id": "uWgWjp3PQ3Sq",
        "colab_type": "text"
      },
      "source": [
        "#### Frequentist statistics relies on a static set of data in making predictions; whereas, Bayesian statistics itteratively updates its conclusions to match whatever data becomes available.\n",
        "\n",
        "#### As has been just demonstrated above, Bayesian statistics in many ways is a lot more fine-tuned than frequentist statistics in that it narrrows the range of possible events to those most likely to happen based on \"outside information\", rather than making its predictions solely on initial condititions."
      ]
    },
    {
      "cell_type": "markdown",
      "metadata": {
        "id": "QRgHqmYIQ9qn",
        "colab_type": "text"
      },
      "source": [
        "- [Worked example of Bayes rule calculation](https://en.wikipedia.org/wiki/Bayes'_theorem#Examples) (helpful as it fully breaks out the denominator)\n",
        "- [Source code for mvsdist in scipy](https://github.com/scipy/scipy/blob/90534919e139d2a81c24bf08341734ff41a3db12/scipy/stats/morestats.py#L139)"
      ]
    },
    {
      "cell_type": "markdown",
      "metadata": {
        "id": "GP7Jv1XvwtkX",
        "colab_type": "text"
      },
      "source": [
        "## Stretch Goals:\n",
        "\n",
        "- Go back and study the content from Modules 1 & 2 to make sure that you're really comfortable with them.\n",
        "- Apply a Bayesian technique to a problem you previously worked (in an assignment or project work) on from a frequentist (standard) perspective\n",
        "- Check out [PyMC3](https://docs.pymc.io/) (note this goes beyond hypothesis tests into modeling) - read the guides and work through some examples\n",
        "- Take PyMC3 further - see if you can build something with it!"
      ]
    },
    {
      "cell_type": "code",
      "metadata": {
        "id": "iDi0eFr1x-v_",
        "colab_type": "code",
        "colab": {}
      },
      "source": [
        ""
      ],
      "execution_count": 0,
      "outputs": []
    }
  ]
}