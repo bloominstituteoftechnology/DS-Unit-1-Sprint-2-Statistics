{
  "nbformat": 4,
  "nbformat_minor": 0,
  "metadata": {
    "colab": {
      "name": "LS_DS_123_Introduction_to_Bayesian_Inference_Assignment.ipynb",
      "provenance": []
    },
    "kernelspec": {
      "name": "python3",
      "display_name": "Python 3"
    }
  },
  "cells": [
    {
      "cell_type": "markdown",
      "metadata": {
        "id": "H7OLbevlbd_Z",
        "colab_type": "text"
      },
      "source": [
        "# Lambda School Data Science Module 123\n",
        "\n",
        "## Introduction to Bayesian Inference\n",
        "\n",
        "\n"
      ]
    },
    {
      "cell_type": "markdown",
      "metadata": {
        "id": "P-DzzRk5bf0z",
        "colab_type": "text"
      },
      "source": [
        "## Assignment - Code it up!\n",
        "\n",
        "We used pure math to apply Bayes Theorem to drug tests. Now write Python code to reproduce the results! This is purposefully open ended - you'll have to think about how you should represent probabilities and events. You can and should look things up.\n",
        "\n",
        "Specific goals/targets:\n",
        "\n",
        "### 1) Write a function\n",
        "`def prob_drunk_given_positive(prob_drunk_prior, false_positive_rate, true_positive_rate):`\n",
        "\n",
        "In this example, imagine that individuals are taking a breathalyzer test with an 8% false positive rate, a 100% true positive rate, and that our prior belief about drunk driving in the population is 1/1000.\n",
        "What is the probability that a person is drunk after one positive breathalyzer test?\n",
        "What is the probability that a person is drunk after two positive breathalyzer tests?\n",
        "How many positive breathalyzer tests are needed in order to have a probability that's greater than 95% that a person is drunk beyond the legal limit?\n",
        "\n",
        "### 2) Explore `scipy.stats.bayes_mvs`  \n",
        "Read its documentation, and experiment with it on data you've tested in other ways earlier this week.\n",
        " - Create a visualization comparing the results of a Bayesian approach to a traditional/frequentist approach. (with a large sample size they should look close to identical, however, take this opportunity to practice visualizing condfidence intervals in general. The following are some potential ways that you could visualize confidence intervals on your graph:\n",
        "  - [Matplotlib Error Bars](https://matplotlib.org/3.1.1/api/_as_gen/matplotlib.pyplot.errorbar.html)\n",
        "  - [Seaborn barplot with error bars](https://seaborn.pydata.org/generated/seaborn.barplot.html)\n",
        "  - [Vertical ines to show bounds of confidence interval](https://www.simplypsychology.org/confidence-interval.jpg)\n",
        "  - [Confidence Intervals on Box Plots](https://matplotlib.org/3.1.1/api/_as_gen/matplotlib.axes.Axes.boxplot.html)\n",
        "\n",
        "### 3) In your own words, summarize the difference between Bayesian and Frequentist statistics\n",
        "\n",
        "If you're unsure where to start, check out [this blog post of Bayes theorem with Python](https://dataconomy.com/2015/02/introduction-to-bayes-theorem-with-python/).\n",
        "\n"
      ]
    },
    {
      "cell_type": "code",
      "metadata": {
        "id": "xpVhZyUnbf7o",
        "colab_type": "code",
        "colab": {
          "base_uri": "https://localhost:8080/",
          "height": 35
        },
        "outputId": "8d1ecb7c-8ceb-4cb2-8a1d-ac35393365e2"
      },
      "source": [
        "# TODO - code!\n",
        "import numpy as np \n",
        "\n",
        "def prob_drunk_given_positive(prob_pos_given_drunk, prob_drunk, prob_pos):\n",
        "  return (prob_pos_given_drunk*prob_drunk) / prob_pos\n",
        "\n",
        "prior = 1 / 1000 # aka p_drunk\n",
        "p_pos_given_drunk = 1\n",
        "p_pos_given_not_drunk = .08\n",
        "p_not_drunk = 1 - prior\n",
        "\n",
        "# our bayes thereom here looks like: \n",
        "# P(Drunk|+) = P(+|Drunk)*P(Drunk) / (P(+|Drunk)*P(Drunk) + P(+|Not Drunk)*P(Not Drunk)\n",
        "\n",
        "# first test probability person is drunk \n",
        "p_pos = (p_pos_given_drunk*prior) + (p_pos_given_not_drunk*p_not_drunk)\n",
        "prior = prob_drunk_given_positive(p_pos_given_drunk, prior, p_pos)\n",
        "prior"
      ],
      "execution_count": 2,
      "outputs": [
        {
          "output_type": "execute_result",
          "data": {
            "text/plain": [
              "0.012357884330202669"
            ]
          },
          "metadata": {
            "tags": []
          },
          "execution_count": 2
        }
      ]
    },
    {
      "cell_type": "code",
      "metadata": {
        "id": "gWnYUzz7bIyJ",
        "colab_type": "code",
        "colab": {
          "base_uri": "https://localhost:8080/",
          "height": 35
        },
        "outputId": "48c565c2-f282-49c1-cbf2-0e1999d4b503"
      },
      "source": [
        "# second test\n",
        "p_not_drunk = 1-prior \n",
        "p_pos = (p_pos_given_drunk*prior) + (p_pos_given_not_drunk*p_not_drunk)\n",
        "prior = prob_drunk_given_positive(p_pos_given_drunk, prior, p_pos)\n",
        "prior"
      ],
      "execution_count": 3,
      "outputs": [
        {
          "output_type": "execute_result",
          "data": {
            "text/plain": [
              "0.13525210993291495"
            ]
          },
          "metadata": {
            "tags": []
          },
          "execution_count": 3
        }
      ]
    },
    {
      "cell_type": "code",
      "metadata": {
        "id": "GxMcky3ebkvA",
        "colab_type": "code",
        "colab": {
          "base_uri": "https://localhost:8080/",
          "height": 52
        },
        "outputId": "61fbff76-c37c-4bfd-ae89-b35400f332c1"
      },
      "source": [
        "# running till 95% confident \n",
        "test_num = 2\n",
        "while prior < .95:\n",
        "  test_num += 1\n",
        "  p_not_drunk = 1-prior \n",
        "  p_pos = (p_pos_given_drunk*prior) + (p_pos_given_not_drunk*p_not_drunk)\n",
        "  prior = prob_drunk_given_positive(p_pos_given_drunk, prior, p_pos)\n",
        "  print(\"After test #{}, probability the person is drunk is: {}%\".format(test_num, prior*100))"
      ],
      "execution_count": 4,
      "outputs": [
        {
          "output_type": "stream",
          "text": [
            "After test #3, probability the person is drunk is: 66.15996951348605%\n",
            "After test #4, probability the person is drunk is: 96.06895076105054%\n"
          ],
          "name": "stdout"
        }
      ]
    },
    {
      "cell_type": "code",
      "metadata": {
        "id": "nmCixM6YcLbm",
        "colab_type": "code",
        "colab": {
          "base_uri": "https://localhost:8080/",
          "height": 52
        },
        "outputId": "eb10b23b-85e6-46f0-b2fb-86f39e86feb9"
      },
      "source": [
        "# 2 - scipy.stats.bayes_mvs and comparing frequentist and bayes approach\n",
        "from scipy import stats \n",
        "\n",
        "def frequentist_interval(data, confidence=.95):\n",
        "  n = len(data)\n",
        "  mean = sum(data) / n \n",
        "  data = np.array(data)\n",
        "  stderr = np.std(data) / np.sqrt(n) \n",
        "  t = stats.t.ppf((1+confidence)/2, n-1)\n",
        "  moe = stderr * t \n",
        "  return (mean, mean-moe, mean+moe)\n",
        "\n",
        "coinflips = np.random.binomial(n=1, p=.5, size=100)\n",
        "\n",
        "interval = frequentist_interval(coinflips)\n",
        "mean_confidence_interval, _, _ = stats.bayes_mvs(coinflips, alpha=.95)\n",
        "print(interval)\n",
        "mean_confidence_interval"
      ],
      "execution_count": 5,
      "outputs": [
        {
          "output_type": "stream",
          "text": [
            "(0.45, 0.3512864530377433, 0.5487135469622567)\n"
          ],
          "name": "stdout"
        },
        {
          "output_type": "execute_result",
          "data": {
            "text/plain": [
              "Mean(statistic=0.45, minmax=(0.3507891524245659, 0.5492108475754341))"
            ]
          },
          "metadata": {
            "tags": []
          },
          "execution_count": 5
        }
      ]
    },
    {
      "cell_type": "code",
      "metadata": {
        "id": "ct6x10ORdXbG",
        "colab_type": "code",
        "colab": {}
      },
      "source": [
        "# 3 - frequentists vs bayesians \n",
        "'''\n",
        "The key distinction between the two is the approach. Bayesians utilize prior \n",
        "knowledge as a \"framework\" of the liklihood of events occuring. Frequentists\n",
        "utilize samples as the evidence of what occurs in the world to decipher an \n",
        "interval of where the absolute truth in all cases is. \n",
        "'''"
      ],
      "execution_count": 0,
      "outputs": []
    },
    {
      "cell_type": "markdown",
      "metadata": {
        "id": "uWgWjp3PQ3Sq",
        "colab_type": "text"
      },
      "source": [
        "## Resources"
      ]
    },
    {
      "cell_type": "markdown",
      "metadata": {
        "id": "QRgHqmYIQ9qn",
        "colab_type": "text"
      },
      "source": [
        "- [Worked example of Bayes rule calculation](https://en.wikipedia.org/wiki/Bayes'_theorem#Examples) (helpful as it fully breaks out the denominator)\n",
        "- [Source code for mvsdist in scipy](https://github.com/scipy/scipy/blob/90534919e139d2a81c24bf08341734ff41a3db12/scipy/stats/morestats.py#L139)"
      ]
    },
    {
      "cell_type": "markdown",
      "metadata": {
        "id": "GP7Jv1XvwtkX",
        "colab_type": "text"
      },
      "source": [
        "## Stretch Goals:\n",
        "\n",
        "- Go back and study the content from Modules 1 & 2 to make sure that you're really comfortable with them.\n",
        "- Apply a Bayesian technique to a problem you previously worked (in an assignment or project work) on from a frequentist (standard) perspective\n",
        "- Check out [PyMC3](https://docs.pymc.io/) (note this goes beyond hypothesis tests into modeling) - read the guides and work through some examples\n",
        "- Take PyMC3 further - see if you can build something with it!"
      ]
    },
    {
      "cell_type": "code",
      "metadata": {
        "id": "iDi0eFr1x-v_",
        "colab_type": "code",
        "colab": {}
      },
      "source": [
        ""
      ],
      "execution_count": 0,
      "outputs": []
    }
  ]
}