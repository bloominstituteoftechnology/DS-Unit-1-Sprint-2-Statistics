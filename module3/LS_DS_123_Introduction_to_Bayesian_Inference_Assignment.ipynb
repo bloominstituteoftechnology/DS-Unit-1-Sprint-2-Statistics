{
  "nbformat": 4,
  "nbformat_minor": 0,
  "metadata": {
    "colab": {
      "name": "LS_DS_123_Introduction_to_Bayesian_Inference_Assignment.ipynb",
      "provenance": [],
      "collapsed_sections": [],
      "include_colab_link": true
    },
    "kernelspec": {
      "name": "python3",
      "display_name": "Python 3"
    }
  },
  "cells": [
    {
      "cell_type": "markdown",
      "metadata": {
        "id": "view-in-github",
        "colab_type": "text"
      },
      "source": [
        "<a href=\"https://colab.research.google.com/github/Travistyse/DS-Unit-1-Sprint-2-Statistics/blob/master/module3/LS_DS_123_Introduction_to_Bayesian_Inference_Assignment.ipynb\" target=\"_parent\"><img src=\"https://colab.research.google.com/assets/colab-badge.svg\" alt=\"Open In Colab\"/></a>"
      ]
    },
    {
      "cell_type": "markdown",
      "metadata": {
        "id": "H7OLbevlbd_Z",
        "colab_type": "text"
      },
      "source": [
        "# Lambda School Data Science Module 123\n",
        "\n",
        "## Introduction to Bayesian Inference\n",
        "\n",
        "\n"
      ]
    },
    {
      "cell_type": "markdown",
      "metadata": {
        "id": "P-DzzRk5bf0z",
        "colab_type": "text"
      },
      "source": [
        "## Assignment - Code it up!\n",
        "\n",
        "We used pure math to apply Bayes Theorem to drug tests. Now write Python code to reproduce the results! This is purposefully open ended - you'll have to think about how you should represent probabilities and events. You can and should look things up.\n",
        "\n",
        "Specific goals/targets:\n",
        "\n",
        "### 1) Write a function \n",
        "\n",
        "`def prob_drunk_given_positive(prob_drunk_prior, false_positive_rate):` \n",
        "\n",
        "You should only truly need these two values in order to apply Bayes Theorem. In this example, imagine that individuals are taking a breathalyzer test with an 8% false positive rate, a 100% true positive rate, and that our prior belief about drunk driving in the population is 1/1000. \n",
        " - What is the probability that a person is drunk after one positive breathalyzer test?\n",
        " - What is the probability that a person is drunk after two positive breathalyzer tests?\n",
        " - How many positive breathalyzer tests are needed in order to have a probability that's greater than 95% that a person is drunk beyond the legal limit?\n",
        "\n",
        "### 2) Explore `scipy.stats.bayes_mvs`  \n",
        "Read its documentation, and experiment with it on data you've tested in other ways earlier this week.\n",
        " - Create a visualization comparing the results of a Bayesian approach to a traditional/frequentist approach. (with a large sample size they should look close to identical, however, take this opportunity to practice visualizing condfidence intervals in general. The following are some potential ways that you could visualize confidence intervals on your graph:\n",
        "  - [Matplotlib Error Bars](https://matplotlib.org/3.1.1/api/_as_gen/matplotlib.pyplot.errorbar.html)\n",
        "  - [Seaborn barplot with error bars](https://seaborn.pydata.org/generated/seaborn.barplot.html)\n",
        "  - [Vertical ines to show bounds of confidence interval](https://www.simplypsychology.org/confidence-interval.jpg)\n",
        "  - [Confidence Intervals on Box Plots](https://matplotlib.org/3.1.1/api/_as_gen/matplotlib.axes.Axes.boxplot.html)\n",
        "\n",
        "### 3) In your own words, summarize the difference between Bayesian and Frequentist statistics\n",
        "\n",
        "If you're unsure where to start, check out [this blog post of Bayes theorem with Python](https://dataconomy.com/2015/02/introduction-to-bayes-theorem-with-python/).\n",
        "\n"
      ]
    },
    {
      "cell_type": "markdown",
      "metadata": {
        "id": "1Aw-226-d2-e",
        "colab_type": "text"
      },
      "source": [
        "### 1) Write a function \n",
        "\n",
        "`def prob_drunk_given_positive(prob_drunk_prior, false_positive_rate):` \n",
        "\n",
        "You should only truly need these two values in order to apply Bayes Theorem. In this example, imagine that individuals are taking a breathalyzer test with an 8% false positive rate, a 100% true positive rate, and that our prior belief about drunk driving in the population is 1/1000. "
      ]
    },
    {
      "cell_type": "code",
      "metadata": {
        "id": "EucT0zrIeZdK",
        "colab_type": "code",
        "colab": {}
      },
      "source": [
        "# All the best products are imports\n",
        "from scipy import stats\n",
        "import numpy as np\n",
        "\n",
        "# Seeds allow for control over randomness and thus reproducible results\n",
        "np.random.seed(seed = 42069247)\n",
        "\n",
        "# Ready up my const values\n",
        "false_pos_rate = 0.08\n",
        "true_pos_rate = 1.00\n",
        "drunk_driver_belief = 1 / 1000\n"
      ],
      "execution_count": 0,
      "outputs": []
    },
    {
      "cell_type": "code",
      "metadata": {
        "id": "9YvyaDk7ftxD",
        "colab_type": "code",
        "colab": {
          "base_uri": "https://localhost:8080/",
          "height": 55
        },
        "outputId": "b6c3e40d-d707-4fb1-da22-90d62d2122d2"
      },
      "source": [
        "# Initialize my variables and create a function to reset them\n",
        "prob_user = -1\n",
        "prob_n_user = -1\n",
        "post_prob = -1\n",
        "prob_user = drunk_driver_belief\n",
        "prob_n_user = 1 - prob_user\n",
        "\n",
        "# Apparently Python isn't fond of changing values ?\n",
        "def reset_prob(debug = False):\n",
        "  if debug:\n",
        "    print(\"Reset Values!\")\n",
        "  prob_user = drunk_driver_belief\n",
        "  prob_n_user = 1 - prob_user\n",
        "\n",
        "\n",
        "reset_prob() # OH YES I DID >:D\n",
        "'''\n",
        "Let's pick this apart\n",
        "Posterior Probability: The final probability - adjusted and all - is:\n",
        "(True Positive Rate * Probability Is User ) Divided by:\n",
        "( (True Positive Rate * Probability Is User) + (False Positive Rate * Probability Is Non User) )\n",
        "\n",
        "Original Formula:\n",
        "\n",
        "posterior_probability = (P_pos_given_user*P_user)\n",
        "/ ((P_pos_given_user*P_user) + (P_pos_given_non_user*P_non_user))\n",
        "'''"
      ],
      "execution_count": 38,
      "outputs": [
        {
          "output_type": "execute_result",
          "data": {
            "text/plain": [
              "\"\\nLet's pick this apart\\nPosterior Probability: The final probability - adjusted and all - is:\\n(True Positive Rate * Probability Is User ) Divided by:\\n( (True Positive Rate * Probability Is User) + (False Positive Rate * Probability Is Non User) )\\n\\nOriginal Formula:\\n\\nposterior_probability = (P_pos_given_user*P_user)\\n/ ((P_pos_given_user*P_user) + (P_pos_given_non_user*P_non_user))\\n\""
            ]
          },
          "metadata": {
            "tags": []
          },
          "execution_count": 38
        }
      ]
    },
    {
      "cell_type": "code",
      "metadata": {
        "id": "UKa5qD_Zd2Wr",
        "colab_type": "code",
        "colab": {}
      },
      "source": [
        "'''\n",
        "#Prob = Probability, not Probably\n",
        "def prob_drunk_given_positive(assign = True, curr_drunk_prob = prob_user, false_positive_rate = false_pos_rate):\n",
        "  print('Drunk Prob ', curr_drunk_prob)\n",
        "  print('User Prob ', prob_user)\n",
        "  print('false pos ', false_positive_rate)\n",
        "  \n",
        "  l_post_prob = (true_pos_rate * curr_drunk_prob) / ((true_pos_rate * curr_drunk_prob) + (false_pos_rate * prob_n_user) )\n",
        "  print('l_post ', l_post_prob)\n",
        "  if assign:\n",
        "    post_prob = l_post_prob\n",
        "    prob_user = post_prob\n",
        "  return l_post_prob\n",
        "'''\n",
        "\n",
        "# APPARENTLY Python doesn't give a duck about default params -.-\n",
        "# That prob_user I'm passing in gets completely ignored x.x\n",
        "# And upon checking the value within the function I get an uninitialized local var error\n",
        "# SOOOOO goodbye clever code\n",
        "\n",
        "#Prob = Probability, not Probably\n",
        "def prob_drunk_given_positive(curr_drunk_prob, false_positive_rate):\n",
        "\n",
        "  \n",
        "  l_post_prob = (true_pos_rate * curr_drunk_prob) / ((true_pos_rate * curr_drunk_prob) + (false_pos_rate * prob_n_user) )\n",
        "  return l_post_prob"
      ],
      "execution_count": 0,
      "outputs": []
    },
    {
      "cell_type": "markdown",
      "metadata": {
        "id": "Rw_SKNaNd761",
        "colab_type": "text"
      },
      "source": [
        " - What is the probability that a person is drunk after one positive breathalyzer test?\n",
        " "
      ]
    },
    {
      "cell_type": "code",
      "metadata": {
        "id": "yookvok1eBa-",
        "colab_type": "code",
        "colab": {}
      },
      "source": [
        "# Stretches fingers outward and prepares for mindblowing revelations\n",
        "#reset_prob()\n",
        "prob_user = prob_drunk_given_positive(prob_user, false_pos_rate)\n",
        "prob_n_user = 1 - prob_user # Always the inverse"
      ],
      "execution_count": 0,
      "outputs": []
    },
    {
      "cell_type": "code",
      "metadata": {
        "id": "9pMspVanuCjb",
        "colab_type": "code",
        "colab": {
          "base_uri": "https://localhost:8080/",
          "height": 35
        },
        "outputId": "58520140-c5c7-405e-f9bb-5ce77e1293f2"
      },
      "source": [
        "print(prob_user)"
      ],
      "execution_count": 48,
      "outputs": [
        {
          "output_type": "stream",
          "text": [
            "0.012357884330202669\n"
          ],
          "name": "stdout"
        }
      ]
    },
    {
      "cell_type": "markdown",
      "metadata": {
        "id": "hpPxqMgxd90j",
        "colab_type": "text"
      },
      "source": [
        "- What is the probability that a person is drunk after two positive breathalyzer tests?\n",
        " "
      ]
    },
    {
      "cell_type": "code",
      "metadata": {
        "id": "wEDyfeHieBC_",
        "colab_type": "code",
        "colab": {
          "base_uri": "https://localhost:8080/",
          "height": 35
        },
        "outputId": "7cec6f3e-7ecb-48e9-ef08-8a5c0fe3b2c1"
      },
      "source": [
        "prob_user = prob_drunk_given_positive(prob_user, false_pos_rate)\n",
        "prob_n_user = 1 - prob_user\n",
        "print(prob_user)"
      ],
      "execution_count": 49,
      "outputs": [
        {
          "output_type": "stream",
          "text": [
            "0.13525210993291495\n"
          ],
          "name": "stdout"
        }
      ]
    },
    {
      "cell_type": "markdown",
      "metadata": {
        "id": "z85FrJeKd-2-",
        "colab_type": "text"
      },
      "source": [
        "- How many positive breathalyzer tests are needed in order to have a probability that's greater than 95% that a person is drunk beyond the legal limit?"
      ]
    },
    {
      "cell_type": "code",
      "metadata": {
        "id": "DJku-dhNd_Wk",
        "colab_type": "code",
        "colab": {
          "base_uri": "https://localhost:8080/",
          "height": 70
        },
        "outputId": "cb5fed0b-38f9-4525-99ed-5b8611e5639a"
      },
      "source": [
        "#reset_prob()\n",
        "i = 2 # We are at 2\n",
        "while prob_user < .95 and i < 50:\n",
        "  i += 1\n",
        "  prob_user = prob_drunk_given_positive(prob_user, false_pos_rate)\n",
        "  prob_n_user = 1 - prob_user\n",
        "  print(prob_user)\n",
        "print('Iterations: ', i)"
      ],
      "execution_count": 50,
      "outputs": [
        {
          "output_type": "stream",
          "text": [
            "0.6615996951348605\n",
            "0.9606895076105054\n",
            "Iterations:  4\n"
          ],
          "name": "stdout"
        }
      ]
    },
    {
      "cell_type": "markdown",
      "metadata": {
        "id": "uWgWjp3PQ3Sq",
        "colab_type": "text"
      },
      "source": [
        "## Resources"
      ]
    },
    {
      "cell_type": "markdown",
      "metadata": {
        "id": "QRgHqmYIQ9qn",
        "colab_type": "text"
      },
      "source": [
        "- [Worked example of Bayes rule calculation](https://en.wikipedia.org/wiki/Bayes'_theorem#Examples) (helpful as it fully breaks out the denominator)\n",
        "- [Source code for mvsdist in scipy](https://github.com/scipy/scipy/blob/90534919e139d2a81c24bf08341734ff41a3db12/scipy/stats/morestats.py#L139)"
      ]
    },
    {
      "cell_type": "markdown",
      "metadata": {
        "id": "GP7Jv1XvwtkX",
        "colab_type": "text"
      },
      "source": [
        "## Stretch Goals:\n",
        "\n",
        "- Go back and study the content from Modules 1 & 2 to make sure that you're really comfortable with them.\n",
        "- Apply a Bayesian technique to a problem you previously worked (in an assignment or project work) on from a frequentist (standard) perspective\n",
        "- Check out [PyMC3](https://docs.pymc.io/) (note this goes beyond hypothesis tests into modeling) - read the guides and work through some examples\n",
        "- Take PyMC3 further - see if you can build something with it!"
      ]
    },
    {
      "cell_type": "code",
      "metadata": {
        "id": "iDi0eFr1x-v_",
        "colab_type": "code",
        "colab": {}
      },
      "source": [
        ""
      ],
      "execution_count": 0,
      "outputs": []
    }
  ]
}