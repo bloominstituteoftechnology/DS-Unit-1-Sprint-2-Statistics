{
  "nbformat": 4,
  "nbformat_minor": 0,
  "metadata": {
    "colab": {
      "name": "Copy of LS_DS_123_Introduction_to_Bayesian_Inference_Assignment.ipynb",
      "provenance": [],
      "include_colab_link": true
    },
    "kernelspec": {
      "name": "python3",
      "display_name": "Python 3"
    }
  },
  "cells": [
    {
      "cell_type": "markdown",
      "metadata": {
        "id": "view-in-github",
        "colab_type": "text"
      },
      "source": [
        "<a href=\"https://colab.research.google.com/github/karencfisher/DS-Unit-1-Sprint-2-Statistics/blob/master/module3/LS_DS_123_Introduction_to_Bayesian_Inference_Assignment.ipynb\" target=\"_parent\"><img src=\"https://colab.research.google.com/assets/colab-badge.svg\" alt=\"Open In Colab\"/></a>"
      ]
    },
    {
      "cell_type": "markdown",
      "metadata": {
        "id": "H7OLbevlbd_Z",
        "colab_type": "text"
      },
      "source": [
        "# Lambda School Data Science Module 123\n",
        "\n",
        "## Introduction to Bayesian Inference\n",
        "\n",
        "\n"
      ]
    },
    {
      "cell_type": "code",
      "metadata": {
        "id": "xpVhZyUnbf7o",
        "colab_type": "code",
        "colab": {
          "base_uri": "https://localhost:8080/",
          "height": 71
        },
        "outputId": "d497f4bf-0c18-4c9f-d1ee-a914bd8931b8"
      },
      "source": [
        "import numpy as np\n",
        "import matplotlib.pyplot as plt\n",
        "import seaborn as sns\n",
        "import pandas as pd\n",
        "from scipy.stats import bayes_mvs, t"
      ],
      "execution_count": 1,
      "outputs": [
        {
          "output_type": "stream",
          "text": [
            "/usr/local/lib/python3.6/dist-packages/statsmodels/tools/_testing.py:19: FutureWarning: pandas.util.testing is deprecated. Use the functions in the public API at pandas.testing instead.\n",
            "  import pandas.util.testing as tm\n"
          ],
          "name": "stderr"
        }
      ]
    },
    {
      "cell_type": "markdown",
      "metadata": {
        "id": "P-DzzRk5bf0z",
        "colab_type": "text"
      },
      "source": [
        "## Assignment - Code it up!\n",
        "\n",
        "We used pure math to apply Bayes Theorem to drug tests. Now write Python code to reproduce the results! This is purposefully open ended - you'll have to think about how you should represent probabilities and events. You can and should look things up.\n",
        "\n",
        "Specific goals/targets:\n",
        "\n",
        "### 1) Write a function \n",
        "\n",
        "`def prob_drunk_given_positive(prob_drunk_prior, false_positive_rate, true_positive_rate):` \n",
        "\n",
        "You should only truly need these two values in order to apply Bayes Theorem. In this example, imagine that individuals are taking a breathalyzer test with an 8% false positive rate, a 100% true positive rate, and that our prior belief about drunk driving in the population is 1/1000. \n",
        " - What is the probability that a person is drunk after one positive breathalyzer test?\n",
        " - What is the probability that a person is drunk after two positive breathalyzer tests?\n",
        " - How many positive breathalyzer tests are needed in order to have a probability that's greater than 95% that a person is drunk beyond the legal limit?\n",
        "\n"
      ]
    },
    {
      "cell_type": "code",
      "metadata": {
        "id": "_GNlk3W66cFy",
        "colab_type": "code",
        "colab": {}
      },
      "source": [
        "def bayes_prob(prior, true_positive, false_positive):\n",
        "  '''\n",
        "  Calculate Baysian probability given test result\n",
        "  '''\n",
        "\n",
        "  marginal = true_positive * prior + (false_positive * (1 - prior))\n",
        "  prob = (true_positive * prior) / marginal\n",
        "  return prob\n",
        "\n",
        "\n",
        "def iterative_prob(prior, true_positive, false_positive, threshold):\n",
        "  '''\n",
        "  Iteratively calculate baysian probability until specified threshold,\n",
        "  and display results\n",
        "  '''\n",
        "\n",
        "  probabilities = []\n",
        "  new_prior = prior\n",
        "  iteration = 0\n",
        "  p = 0\n",
        "  while p < threshold:\n",
        "    p = bayes_prob(new_prior, true_positive, false_positive)\n",
        "    probabilities.append(p)\n",
        "    iteration += 1\n",
        "    new_prior = p\n",
        "    print('Iteration: %i Probability: %f' % (iteration, p))\n",
        "\n",
        "  print('\\n')\n",
        "  plt.plot(range(1, iteration + 1), probabilities, '-o')\n",
        "  plt.xlabel('Iteration')\n",
        "  plt.ylabel('Probability')\n",
        "  plt.show()\n",
        "\n"
      ],
      "execution_count": 0,
      "outputs": []
    },
    {
      "cell_type": "code",
      "metadata": {
        "id": "9PGedmSP9zaO",
        "colab_type": "code",
        "outputId": "6b6d5831-9ff1-446f-e6f3-a4f8ea8f1115",
        "colab": {
          "base_uri": "https://localhost:8080/",
          "height": 384
        }
      },
      "source": [
        "true_positive = 1\n",
        "false_positive = .08\n",
        "expected_prob = 1 / 1000\n",
        "iterative_prob(expected_prob, true_positive, false_positive, .95)"
      ],
      "execution_count": 3,
      "outputs": [
        {
          "output_type": "stream",
          "text": [
            "Iteration: 1 Probability: 0.012358\n",
            "Iteration: 2 Probability: 0.135252\n",
            "Iteration: 3 Probability: 0.661600\n",
            "Iteration: 4 Probability: 0.960690\n",
            "\n",
            "\n"
          ],
          "name": "stdout"
        },
        {
          "output_type": "display_data",
          "data": {
            "image/png": "[encoded data removed]",
            "text/plain": [
              "<Figure size 432x288 with 1 Axes>"
            ]
          },
          "metadata": {
            "tags": [],
            "needs_background": "light"
          }
        }
      ]
    },
    {
      "cell_type": "markdown",
      "metadata": {
        "id": "M1_orry7DHOm",
        "colab_type": "text"
      },
      "source": [
        "### 2) Explore `scipy.stats.bayes_mvs`  \n",
        "Read its documentation, and experiment with it on data you've tested in other ways earlier this week.\n",
        " - Create a visualization comparing the results of a Bayesian approach to a traditional/frequentist approach. (with a large sample size they should look close to identical, however, take this opportunity to practice visualizing condfidence intervals in general. The following are some potential ways that you could visualize confidence intervals on your graph:\n",
        "  - [Matplotlib Error Bars](https://matplotlib.org/3.1.1/api/_as_gen/matplotlib.pyplot.errorbar.html)\n",
        "  - [Seaborn barplot with error bars](https://seaborn.pydata.org/generated/seaborn.barplot.html)\n",
        "  - [Vertical ines to show bounds of confidence interval](https://www.simplypsychology.org/confidence-interval.jpg)\n",
        "  - [Confidence Intervals on Box Plots](https://matplotlib.org/3.1.1/api/_as_gen/matplotlib.axes.Axes.boxplot.html)\n",
        "\n",
        "\n",
        "\n"
      ]
    },
    {
      "cell_type": "markdown",
      "metadata": {
        "id": "2UkFfHYk7slY",
        "colab_type": "text"
      },
      "source": [
        "**Sale prices from the Ames Housing Dataset**"
      ]
    },
    {
      "cell_type": "code",
      "metadata": {
        "id": "3qbBBTmWmRAi",
        "colab_type": "code",
        "colab": {
          "base_uri": "https://localhost:8080/",
          "height": 204
        },
        "outputId": "ef05742d-eb51-411c-f353-6f7bad85ac06"
      },
      "source": [
        "# Get just prices, and HouseStyle for use further on\n",
        "url = 'https://raw.githubusercontent.com/ryanleeallred/datasets/master/Ames%20Housing%20Data/train.csv'\n",
        "Ames_df = pd. read_csv(url)\n",
        "Ames_df = Ames_df[['HouseStyle', 'SalePrice']]\n",
        "Ames_df.head()"
      ],
      "execution_count": 4,
      "outputs": [
        {
          "output_type": "execute_result",
          "data": {
            "text/html": [
              "<div>\n",
              "<style scoped>\n",
              "    .dataframe tbody tr th:only-of-type {\n",
              "        vertical-align: middle;\n",
              "    }\n",
              "\n",
              "    .dataframe tbody tr th {\n",
              "        vertical-align: top;\n",
              "    }\n",
              "\n",
              "    .dataframe thead th {\n",
              "        text-align: right;\n",
              "    }\n",
              "</style>\n",
              "<table border=\"1\" class=\"dataframe\">\n",
              "  <thead>\n",
              "    <tr style=\"text-align: right;\">\n",
              "      <th></th>\n",
              "      <th>HouseStyle</th>\n",
              "      <th>SalePrice</th>\n",
              "    </tr>\n",
              "  </thead>\n",
              "  <tbody>\n",
              "    <tr>\n",
              "      <th>0</th>\n",
              "      <td>2Story</td>\n",
              "      <td>208500</td>\n",
              "    </tr>\n",
              "    <tr>\n",
              "      <th>1</th>\n",
              "      <td>1Story</td>\n",
              "      <td>181500</td>\n",
              "    </tr>\n",
              "    <tr>\n",
              "      <th>2</th>\n",
              "      <td>2Story</td>\n",
              "      <td>223500</td>\n",
              "    </tr>\n",
              "    <tr>\n",
              "      <th>3</th>\n",
              "      <td>2Story</td>\n",
              "      <td>140000</td>\n",
              "    </tr>\n",
              "    <tr>\n",
              "      <th>4</th>\n",
              "      <td>2Story</td>\n",
              "      <td>250000</td>\n",
              "    </tr>\n",
              "  </tbody>\n",
              "</table>\n",
              "</div>"
            ],
            "text/plain": [
              "  HouseStyle  SalePrice\n",
              "0     2Story     208500\n",
              "1     1Story     181500\n",
              "2     2Story     223500\n",
              "3     2Story     140000\n",
              "4     2Story     250000"
            ]
          },
          "metadata": {
            "tags": []
          },
          "execution_count": 4
        }
      ]
    },
    {
      "cell_type": "markdown",
      "metadata": {
        "id": "t-49nvkdjYKh",
        "colab_type": "text"
      },
      "source": [
        "**Frequentist confidence interval**\n"
      ]
    },
    {
      "cell_type": "code",
      "metadata": {
        "id": "zcpdMggpDhzK",
        "colab_type": "code",
        "colab": {}
      },
      "source": [
        "def confidence_interval(sample, cl):\n",
        "  '''\n",
        "  Calculate mean, confidence interval\n",
        "\n",
        "  sample: data to process, such as Pandas series\n",
        "  cl: confidence limit (e.g. 0.95)\n",
        "\n",
        "  return: list of mean, lower and upper limits for CI\n",
        "  '''\n",
        "  \n",
        "  n = len(sample)\n",
        "  dof = n - 1\n",
        "  sample_mean = sum(sample) / n\n",
        "  sample_std = np.sqrt(sum((sample - sample_mean)**2) / (n-1))\n",
        "  sample_se = sample_std / np.sqrt(n)\n",
        "  t_stat = t.ppf((1 + cl) / 2, dof)\n",
        "  sample_me = t_stat * sample_se\n",
        "  upper_conf = sample_mean + sample_me\n",
        "  lower_conf = sample_mean - sample_me\n",
        "\n",
        "  return [sample_mean, lower_conf, upper_conf]\n"
      ],
      "execution_count": 0,
      "outputs": []
    },
    {
      "cell_type": "code",
      "metadata": {
        "id": "vN968RRTDhpR",
        "colab_type": "code",
        "colab": {
          "base_uri": "https://localhost:8080/",
          "height": 34
        },
        "outputId": "1b33ba0c-397d-454e-823b-435f4f61a4bd"
      },
      "source": [
        "freq_ci = confidence_interval(Ames_df['SalePrice'], .95)\n",
        "freq_ci"
      ],
      "execution_count": 6,
      "outputs": [
        {
          "output_type": "execute_result",
          "data": {
            "text/plain": [
              "[180921.19589041095, 176842.84104108496, 184999.55073973694]"
            ]
          },
          "metadata": {
            "tags": []
          },
          "execution_count": 6
        }
      ]
    },
    {
      "cell_type": "markdown",
      "metadata": {
        "id": "A1AkbIZhqQTR",
        "colab_type": "text"
      },
      "source": [
        "**Bayesian confidence interval**"
      ]
    },
    {
      "cell_type": "code",
      "metadata": {
        "id": "-0282Iq4qcF4",
        "colab_type": "code",
        "colab": {
          "base_uri": "https://localhost:8080/",
          "height": 34
        },
        "outputId": "44188864-1ce5-47df-dfc1-6d105b28f7c8"
      },
      "source": [
        "bayes_stats = bayes_mvs(Ames_df['SalePrice'])\n",
        "bayes_ci = bayes_stats[0]\n",
        "bayes_ci"
      ],
      "execution_count": 7,
      "outputs": [
        {
          "output_type": "execute_result",
          "data": {
            "text/plain": [
              "Mean(statistic=180921.19589041095, minmax=(177502.54333066105, 184339.84845016085))"
            ]
          },
          "metadata": {
            "tags": []
          },
          "execution_count": 7
        }
      ]
    },
    {
      "cell_type": "markdown",
      "metadata": {
        "id": "ML3XzLhwwadC",
        "colab_type": "text"
      },
      "source": [
        "**Graphic Comparison**  \n",
        "Density plot of data, with CI as span"
      ]
    },
    {
      "cell_type": "code",
      "metadata": {
        "id": "5X0H9BdLqb1A",
        "colab_type": "code",
        "colab": {
          "base_uri": "https://localhost:8080/",
          "height": 290
        },
        "outputId": "197db82b-a91b-4fb3-e2b1-608d0bd65181"
      },
      "source": [
        "sns.distplot(Ames_df['SalePrice'], hist=False, rug=False)\n",
        "plt.xlim(0, 350000)\n",
        "plt.axvspan(freq_ci[1], freq_ci[2], facecolor='r', alpha=0.2, label='Frequentist')\n",
        "plt.axvline(freq_ci[0], color='red', label=\"Frequentist mean\")\n",
        "plt.axvspan(bayes_ci[1][0], bayes_ci[1][1], facecolor='b', alpha=0.2, label='Bayesian')\n",
        "plt.axvline(bayes_ci[0], color='blue', label=\"Frequentist mean\")\n",
        "plt.legend();"
      ],
      "execution_count": 8,
      "outputs": [
        {
          "output_type": "display_data",
          "data": {
            "image/png": "[encoded data removed]",
            "text/plain": [
              "<Figure size 432x288 with 1 Axes>"
            ]
          },
          "metadata": {
            "tags": [],
            "needs_background": "light"
          }
        }
      ]
    },
    {
      "cell_type": "markdown",
      "metadata": {
        "id": "wnbmvNjOxxxA",
        "colab_type": "text"
      },
      "source": [
        "Zoom in even more to see difference in confidence intervals."
      ]
    },
    {
      "cell_type": "code",
      "metadata": {
        "id": "GrjT_243qbmq",
        "colab_type": "code",
        "colab": {
          "base_uri": "https://localhost:8080/",
          "height": 290
        },
        "outputId": "14f9c8fa-3877-47f6-a9e7-39655a1feaa8"
      },
      "source": [
        "sns.distplot(Ames_df['SalePrice'], hist=False, rug=False)\n",
        "plt.xlim(170000, 190000)\n",
        "plt.axvspan(freq_ci[1], freq_ci[2], facecolor='r', alpha=0.2, label='Frequentist CI')\n",
        "plt.axvline(freq_ci[0], color='red', label=\"Frequentist mean\")\n",
        "plt.axvspan(bayes_ci[1][0], bayes_ci[1][1], facecolor='b', alpha=0.2, label='Bayesian CI')\n",
        "plt.axvline(bayes_ci[0], color='blue', label=\"Frequentist mean\")\n",
        "plt.legend();"
      ],
      "execution_count": 9,
      "outputs": [
        {
          "output_type": "display_data",
          "data": {
            "image/png": "[encoded data removed]",
            "text/plain": [
              "<Figure size 432x288 with 1 Axes>"
            ]
          },
          "metadata": {
            "tags": [],
            "needs_background": "light"
          }
        }
      ]
    },
    {
      "cell_type": "markdown",
      "metadata": {
        "id": "Z_adNXEyDLjR",
        "colab_type": "text"
      },
      "source": [
        "### 3) In your own words, summarize the difference between Bayesian and Frequentist statistics\n",
        "\n",
        "If you're unsure where to start, check out [this blog post of Bayes theorem with Python](https://dataconomy.com/2015/02/introduction-to-bayes-theorem-with-python/)."
      ]
    },
    {
      "cell_type": "markdown",
      "metadata": {
        "id": "p8kfFaam9MM6",
        "colab_type": "text"
      },
      "source": [
        "*Frequentist statistics focus on objective probability. To seek to avoid bias, samples are used to rule out the null hypothesis to support (or not) a given hypothesis. It allows the data to drive the process, which is obective, even if the ultimate parameters remain unknown. Bayesian statistics, on the other hand, begin with a subjective probability, belief, intuition, or and initial hypothesis, in it's more poular sense of the word (the \"prior\"). It then seeks to refine that hypothesis given the observed data (the \"posterior\"). The latter more embraces uncertainty, and belief.*\n",
        "\n",
        "*The Scipy.stats.bayes_mvs function returns a somewhat narrower confidence interval than a frequentist calculation, with the same 95% confidence level.* \n",
        "\n"
      ]
    },
    {
      "cell_type": "markdown",
      "metadata": {
        "id": "uWgWjp3PQ3Sq",
        "colab_type": "text"
      },
      "source": [
        "## Resources"
      ]
    },
    {
      "cell_type": "markdown",
      "metadata": {
        "id": "QRgHqmYIQ9qn",
        "colab_type": "text"
      },
      "source": [
        "- [Worked example of Bayes rule calculation](https://en.wikipedia.org/wiki/Bayes'_theorem#Examples) (helpful as it fully breaks out the denominator)\n",
        "- [Source code for mvsdist in scipy](https://github.com/scipy/scipy/blob/90534919e139d2a81c24bf08341734ff41a3db12/scipy/stats/morestats.py#L139)"
      ]
    },
    {
      "cell_type": "markdown",
      "metadata": {
        "id": "GP7Jv1XvwtkX",
        "colab_type": "text"
      },
      "source": [
        "## Stretch Goals:\n",
        "\n",
        "- Go back and study the content from Modules 1 & 2 to make sure that you're really comfortable with them.\n",
        "- Apply a Bayesian technique to a problem you previously worked (in an assignment or project work) on from a frequentist (standard) perspective\n",
        "- Check out [PyMC3](https://docs.pymc.io/) (note this goes beyond hypothesis tests into modeling) - read the guides and work through some examples\n",
        "- Take PyMC3 further - see if you can build something with it!"
      ]
    },
    {
      "cell_type": "markdown",
      "metadata": {
        "id": "AvAjdgzYZXZ5",
        "colab_type": "text"
      },
      "source": [
        "# What is the probability P(A|B) of a house being two story, given it's high price?\n",
        "Using Bayes theorem.\n",
        "\n",
        "\n"
      ]
    },
    {
      "cell_type": "code",
      "metadata": {
        "id": "iDi0eFr1x-v_",
        "colab_type": "code",
        "colab": {
          "base_uri": "https://localhost:8080/",
          "height": 204
        },
        "outputId": "1b427999-842a-4158-d5bc-094a6d783e32"
      },
      "source": [
        "# Refine the Ames to look four just one and two story cases in HouseStyle\n",
        "Ames_df = Ames_df[Ames_df['HouseStyle'].isin(['2Story', '1Story'])]\n",
        "\n",
        "# And categorize into two proce ranges, low or high depending on below or above\n",
        "# median price\n",
        "price_bins = [Ames_df['SalePrice'].min(), Ames_df['SalePrice'].median(), Ames_df['SalePrice'].max()]\n",
        "price_labels = ['low', 'high']\n",
        "Ames_df['priceRange'] = pd.cut(Ames_df['SalePrice'], bins=price_bins, labels=price_labels)\n",
        "Ames_df.dropna(inplace=True)\n",
        "\n",
        "Ames_df.sample(5)"
      ],
      "execution_count": 10,
      "outputs": [
        {
          "output_type": "execute_result",
          "data": {
            "text/html": [
              "<div>\n",
              "<style scoped>\n",
              "    .dataframe tbody tr th:only-of-type {\n",
              "        vertical-align: middle;\n",
              "    }\n",
              "\n",
              "    .dataframe tbody tr th {\n",
              "        vertical-align: top;\n",
              "    }\n",
              "\n",
              "    .dataframe thead th {\n",
              "        text-align: right;\n",
              "    }\n",
              "</style>\n",
              "<table border=\"1\" class=\"dataframe\">\n",
              "  <thead>\n",
              "    <tr style=\"text-align: right;\">\n",
              "      <th></th>\n",
              "      <th>HouseStyle</th>\n",
              "      <th>SalePrice</th>\n",
              "      <th>priceRange</th>\n",
              "    </tr>\n",
              "  </thead>\n",
              "  <tbody>\n",
              "    <tr>\n",
              "      <th>1109</th>\n",
              "      <td>1Story</td>\n",
              "      <td>280000</td>\n",
              "      <td>high</td>\n",
              "    </tr>\n",
              "    <tr>\n",
              "      <th>132</th>\n",
              "      <td>1Story</td>\n",
              "      <td>150750</td>\n",
              "      <td>low</td>\n",
              "    </tr>\n",
              "    <tr>\n",
              "      <th>206</th>\n",
              "      <td>1Story</td>\n",
              "      <td>143900</td>\n",
              "      <td>low</td>\n",
              "    </tr>\n",
              "    <tr>\n",
              "      <th>107</th>\n",
              "      <td>1Story</td>\n",
              "      <td>115000</td>\n",
              "      <td>low</td>\n",
              "    </tr>\n",
              "    <tr>\n",
              "      <th>858</th>\n",
              "      <td>1Story</td>\n",
              "      <td>152000</td>\n",
              "      <td>low</td>\n",
              "    </tr>\n",
              "  </tbody>\n",
              "</table>\n",
              "</div>"
            ],
            "text/plain": [
              "     HouseStyle  SalePrice priceRange\n",
              "1109     1Story     280000       high\n",
              "132      1Story     150750        low\n",
              "206      1Story     143900        low\n",
              "107      1Story     115000        low\n",
              "858      1Story     152000        low"
            ]
          },
          "metadata": {
            "tags": []
          },
          "execution_count": 10
        }
      ]
    },
    {
      "cell_type": "code",
      "metadata": {
        "id": "ImYwisOGTfmd",
        "colab_type": "code",
        "colab": {
          "base_uri": "https://localhost:8080/",
          "height": 173
        },
        "outputId": "0471568c-4a60-427e-d2a4-70b72162d63a"
      },
      "source": [
        "# Crosstab with mormalization will give us a matrix of proportions of price ranges\n",
        "# by number of floors.\n",
        "house_price = pd.crosstab(Ames_df['HouseStyle'], Ames_df['priceRange'], margins=True, normalize=True)\n",
        "house_price"
      ],
      "execution_count": 11,
      "outputs": [
        {
          "output_type": "execute_result",
          "data": {
            "text/html": [
              "<div>\n",
              "<style scoped>\n",
              "    .dataframe tbody tr th:only-of-type {\n",
              "        vertical-align: middle;\n",
              "    }\n",
              "\n",
              "    .dataframe tbody tr th {\n",
              "        vertical-align: top;\n",
              "    }\n",
              "\n",
              "    .dataframe thead th {\n",
              "        text-align: right;\n",
              "    }\n",
              "</style>\n",
              "<table border=\"1\" class=\"dataframe\">\n",
              "  <thead>\n",
              "    <tr style=\"text-align: right;\">\n",
              "      <th>priceRange</th>\n",
              "      <th>low</th>\n",
              "      <th>high</th>\n",
              "      <th>All</th>\n",
              "    </tr>\n",
              "    <tr>\n",
              "      <th>HouseStyle</th>\n",
              "      <th></th>\n",
              "      <th></th>\n",
              "      <th></th>\n",
              "    </tr>\n",
              "  </thead>\n",
              "  <tbody>\n",
              "    <tr>\n",
              "      <th>1Story</th>\n",
              "      <td>0.369231</td>\n",
              "      <td>0.250427</td>\n",
              "      <td>0.619658</td>\n",
              "    </tr>\n",
              "    <tr>\n",
              "      <th>2Story</th>\n",
              "      <td>0.130769</td>\n",
              "      <td>0.249573</td>\n",
              "      <td>0.380342</td>\n",
              "    </tr>\n",
              "    <tr>\n",
              "      <th>All</th>\n",
              "      <td>0.500000</td>\n",
              "      <td>0.500000</td>\n",
              "      <td>1.000000</td>\n",
              "    </tr>\n",
              "  </tbody>\n",
              "</table>\n",
              "</div>"
            ],
            "text/plain": [
              "priceRange       low      high       All\n",
              "HouseStyle                              \n",
              "1Story      0.369231  0.250427  0.619658\n",
              "2Story      0.130769  0.249573  0.380342\n",
              "All         0.500000  0.500000  1.000000"
            ]
          },
          "metadata": {
            "tags": []
          },
          "execution_count": 11
        }
      ]
    },
    {
      "cell_type": "markdown",
      "metadata": {
        "id": "63PSaQRUf-ix",
        "colab_type": "text"
      },
      "source": [
        "**Given the price for a house being high, what is the probability it has two stories?**\n",
        "\n",
        "P(A) = probability being two story = 0.380342\n",
        "\n",
        "P(B|A) = probability high price given it's two story = 0.249573\n",
        "\n",
        "p(B) = probability any house is high price = .5\n"
      ]
    },
    {
      "cell_type": "code",
      "metadata": {
        "id": "yDhnPB5fgBrG",
        "colab_type": "code",
        "colab": {}
      },
      "source": [
        "def bayes_prob(prior, conditional, marginal):\n",
        "  prob = conditional * prior / marginal\n",
        "  return prob"
      ],
      "execution_count": 0,
      "outputs": []
    },
    {
      "cell_type": "code",
      "metadata": {
        "id": "tiVSxzB6YrSU",
        "colab_type": "code",
        "colab": {
          "base_uri": "https://localhost:8080/",
          "height": 34
        },
        "outputId": "1d479346-8035-4d3a-d1b3-3a5bdad87271"
      },
      "source": [
        "p_a = house_price.iloc[1]['All']\n",
        "p_b = house_price.iloc[2]['high']\n",
        "p_b_a = house_price.iloc[1]['high']\n",
        "p_a_b = bayes_prob(p_b_a, p_a, p_b)\n",
        "print('Probability house is two stories = %.3f%%' % (p_a_b * 100) )"
      ],
      "execution_count": 13,
      "outputs": [
        {
          "output_type": "stream",
          "text": [
            "Probability house is two stories = 18.985%\n"
          ],
          "name": "stdout"
        }
      ]
    },
    {
      "cell_type": "markdown",
      "metadata": {
        "id": "QIqafMF-m5iU",
        "colab_type": "text"
      },
      "source": [
        "**And given it's low price, what is the probability that it is single story?**\n",
        "\n",
        "P(A) = probability being single story = 0.619658\n",
        "\n",
        "P(B|A) = probability low price given it's one story = 0.369231\n",
        "\n",
        "p(B) = probability any house is low price = .5"
      ]
    },
    {
      "cell_type": "code",
      "metadata": {
        "id": "gJ_V5vRhna5z",
        "colab_type": "code",
        "colab": {
          "base_uri": "https://localhost:8080/",
          "height": 34
        },
        "outputId": "daf1ced0-e5b1-4d69-cdd4-f6ff63992132"
      },
      "source": [
        "p2_a = house_price.iloc[0]['All']\n",
        "p2_b = house_price.iloc[2]['low']\n",
        "p2_b_a = house_price.iloc[0]['low']\n",
        "p2_a_b = bayes_prob(p2_b_a, p2_a, p2_b)\n",
        "print('Probability house is single story = %.3f%%' % (p2_a_b * 100) )"
      ],
      "execution_count": 14,
      "outputs": [
        {
          "output_type": "stream",
          "text": [
            "Probability house is single story = 45.759%\n"
          ],
          "name": "stdout"
        }
      ]
    },
    {
      "cell_type": "markdown",
      "metadata": {
        "id": "o1D1c4nr5m1m",
        "colab_type": "text"
      },
      "source": [
        "# Frequentist (or non-bayes) approach to same (or similar) question?\n",
        "Or, exploring the probability a house has two stories given a high price, calculated without Bayes.\n",
        "\n",
        "\n"
      ]
    },
    {
      "cell_type": "code",
      "metadata": {
        "colab_type": "code",
        "id": "bZSWlb_sy0RY",
        "colab": {}
      },
      "source": [
        "def p_conf_interval(sample, probability, cl):\n",
        "  '''\n",
        "  Given a probability, calculate confidence interval around it.\n",
        "  '''\n",
        "  \n",
        "  se = np.sqrt(probability * (1- probability) / len(sample))\n",
        "  t_stat = t.ppf((1 + .95) / 2, len(sample) - 1)\n",
        "  lower_conf = probability - t_stat * se\n",
        "  upper_conf = probability + t_stat * se\n",
        "  return(probability, lower_conf, upper_conf)\n"
      ],
      "execution_count": 0,
      "outputs": []
    },
    {
      "cell_type": "markdown",
      "metadata": {
        "colab_type": "text",
        "id": "ZH9bI0sZwNfj"
      },
      "source": [
        "First, in order to use mean to calculate probabilities, recode HouseStyle and priceRange into integer forms, 1 or 0."
      ]
    },
    {
      "cell_type": "code",
      "metadata": {
        "id": "w5_qLqORreCv",
        "colab_type": "code",
        "colab": {
          "base_uri": "https://localhost:8080/",
          "height": 142
        },
        "outputId": "66682d28-08c7-4b4c-e48e-58de45cfc75f"
      },
      "source": [
        "Ames_df['priceRangeBinary'] = Ames_df['priceRange'].map({'high': 1, 'low': 0}, )\n",
        "Ames_df['priceRangeBinary'] = Ames_df['priceRangeBinary'].astype('int')\n",
        "Ames_df['StoriesBinary'] = Ames_df['HouseStyle'].map({'2Story': 1, '1Story': 0}, )\n",
        "Ames_df['StoriesBinary'] = Ames_df['StoriesBinary'].astype('int')\n",
        "Ames_df.sample(3)"
      ],
      "execution_count": 16,
      "outputs": [
        {
          "output_type": "execute_result",
          "data": {
            "text/html": [
              "<div>\n",
              "<style scoped>\n",
              "    .dataframe tbody tr th:only-of-type {\n",
              "        vertical-align: middle;\n",
              "    }\n",
              "\n",
              "    .dataframe tbody tr th {\n",
              "        vertical-align: top;\n",
              "    }\n",
              "\n",
              "    .dataframe thead th {\n",
              "        text-align: right;\n",
              "    }\n",
              "</style>\n",
              "<table border=\"1\" class=\"dataframe\">\n",
              "  <thead>\n",
              "    <tr style=\"text-align: right;\">\n",
              "      <th></th>\n",
              "      <th>HouseStyle</th>\n",
              "      <th>SalePrice</th>\n",
              "      <th>priceRange</th>\n",
              "      <th>priceRangeBinary</th>\n",
              "      <th>StoriesBinary</th>\n",
              "    </tr>\n",
              "  </thead>\n",
              "  <tbody>\n",
              "    <tr>\n",
              "      <th>1294</th>\n",
              "      <td>1Story</td>\n",
              "      <td>115000</td>\n",
              "      <td>low</td>\n",
              "      <td>0</td>\n",
              "      <td>0</td>\n",
              "    </tr>\n",
              "    <tr>\n",
              "      <th>470</th>\n",
              "      <td>1Story</td>\n",
              "      <td>212000</td>\n",
              "      <td>high</td>\n",
              "      <td>1</td>\n",
              "      <td>0</td>\n",
              "    </tr>\n",
              "    <tr>\n",
              "      <th>505</th>\n",
              "      <td>2Story</td>\n",
              "      <td>124500</td>\n",
              "      <td>low</td>\n",
              "      <td>0</td>\n",
              "      <td>1</td>\n",
              "    </tr>\n",
              "  </tbody>\n",
              "</table>\n",
              "</div>"
            ],
            "text/plain": [
              "     HouseStyle  SalePrice priceRange  priceRangeBinary  StoriesBinary\n",
              "1294     1Story     115000        low                 0              0\n",
              "470      1Story     212000       high                 1              0\n",
              "505      2Story     124500        low                 0              1"
            ]
          },
          "metadata": {
            "tags": []
          },
          "execution_count": 16
        }
      ]
    },
    {
      "cell_type": "markdown",
      "metadata": {
        "id": "ydQL6JxxsPAg",
        "colab_type": "text"
      },
      "source": [
        "Calculate the probability of houses which are of high price and 2 of stories, and calculate confidence interval around it? What will that tell us?\n",
        "\n",
        "Since the two probabilities of each are independent:\n",
        "\n",
        "\\begin{equation*}\n",
        "P(A \\cap B) = P(A) \\times P(B)\n",
        "\\end{equation*}"
      ]
    },
    {
      "cell_type": "code",
      "metadata": {
        "id": "mgHUQJqTyhXQ",
        "colab_type": "code",
        "colab": {
          "base_uri": "https://localhost:8080/",
          "height": 34
        },
        "outputId": "acfb5757-108d-47f0-dabf-902da1448ebc"
      },
      "source": [
        "prob_a_and_b = Ames_df['StoriesBinary'].mean() * Ames_df['priceRangeBinary'].mean()\n",
        "a_and_b_stats = p_conf_interval(Ames_df['StoriesBinary'], prob_a_and_b, .95)\n",
        "a_and_b_stats"
      ],
      "execution_count": 17,
      "outputs": [
        {
          "output_type": "execute_result",
          "data": {
            "text/plain": [
              "(0.19017094017094016, 0.16766102791319862, 0.2126808524286817)"
            ]
          },
          "metadata": {
            "tags": []
          },
          "execution_count": 17
        }
      ]
    },
    {
      "cell_type": "code",
      "metadata": {
        "id": "lkcpDUXNKXMh",
        "colab_type": "code",
        "colab": {
          "base_uri": "https://localhost:8080/",
          "height": 265
        },
        "outputId": "16df60e5-112a-44ae-d20a-403de1745b44"
      },
      "source": [
        "sns.distplot(a_and_b_stats, hist=False, rug=False)\n",
        "plt.axvspan(a_and_b_stats[1], a_and_b_stats[2], facecolor='b', alpha=0.2, label='Frequntist CI')\n",
        "plt.axvline(a_and_b_stats[0], color='blue', label=\"Frequentist proability\")\n",
        "plt.legend();"
      ],
      "execution_count": 18,
      "outputs": [
        {
          "output_type": "display_data",
          "data": {
            "image/png": "[encoded data removed]",
            "text/plain": [
              "<Figure size 432x288 with 1 Axes>"
            ]
          },
          "metadata": {
            "tags": [],
            "needs_background": "light"
          }
        }
      ]
    },
    {
      "cell_type": "markdown",
      "metadata": {
        "id": "l125QRJhtfFj",
        "colab_type": "text"
      },
      "source": [
        "Compare the results with the previous bayesian calculation for P(A|B). Nearly identical."
      ]
    },
    {
      "cell_type": "code",
      "metadata": {
        "id": "0QfuCRZPse08",
        "colab_type": "code",
        "colab": {
          "base_uri": "https://localhost:8080/",
          "height": 265
        },
        "outputId": "b273c0b6-51a5-4d79-e26f-5c246cce17d8"
      },
      "source": [
        "# Calculate a confidence interval around the probability calculated earlier, using\n",
        "# Bayes\n",
        "bayes_stats = p_conf_interval(Ames_df['StoriesBinary'], p_a_b, .95)\n",
        "\n",
        "#plot them together\n",
        "sns.distplot(bayes_stats, hist=False, rug=False)\n",
        "sns.distplot(a_and_b_stats, hist=False, rug=False)\n",
        "plt.axvspan(a_and_b_stats[1], a_and_b_stats[2], facecolor='b', alpha=0.2, label='Frequntist CI')\n",
        "plt.axvline(a_and_b_stats[0], color='blue', label=\"Frequentist probablility\")\n",
        "plt.axvspan(bayes_stats[1], bayes_stats[2], facecolor='r', alpha=0.2, label='Bayesian CI')\n",
        "plt.axvline(bayes_stats[0], color='red', label=\"Bayesian probability\")\n",
        "plt.legend();"
      ],
      "execution_count": 19,
      "outputs": [
        {
          "output_type": "display_data",
          "data": {
            "image/png": "[encoded data removed]",
            "text/plain": [
              "<Figure size 432x288 with 1 Axes>"
            ]
          },
          "metadata": {
            "tags": [],
            "needs_background": "light"
          }
        }
      ]
    },
    {
      "cell_type": "markdown",
      "metadata": {
        "id": "QunjlOTkuBGD",
        "colab_type": "text"
      },
      "source": [
        "But then, I think, classically perhaps, P(A | B) is different from just P(A and B):\n",
        "\n",
        "\\begin{equation*}\n",
        "P(A | B) \\neq P(A \\cap B)\n",
        "\\end{equation*}\n",
        "\n",
        "But\n",
        "\n",
        "\\begin{equation*}\n",
        "P(A | B) = \\frac{P(A \\cap B)}{P(B)}\n",
        "\\end{equation*}\n",
        "\n",
        "Right? But calculating P(A|B) this way, we end up different results. The non-Bayes probabilty ends up being twice the Bayes probability. The Bayes C.I. ends up being again narrower somewhat. Is it in the end here comparing apples and oranges?\n",
        "\n"
      ]
    },
    {
      "cell_type": "code",
      "metadata": {
        "id": "wWW0p8RIWtjp",
        "colab_type": "code",
        "colab": {
          "base_uri": "https://localhost:8080/",
          "height": 34
        },
        "outputId": "a87ae2d7-07f8-4dbe-aea7-75c60723e2db"
      },
      "source": [
        "# probability of a house being high price\n",
        "prob_b = Ames_df['priceRangeBinary'].mean()\n",
        "b_stats = p_conf_interval(Ames_df['priceRangeBinary'], prob_b, .95)\n",
        "b_stats"
      ],
      "execution_count": 20,
      "outputs": [
        {
          "output_type": "execute_result",
          "data": {
            "text/plain": [
              "(0.5, 0.4713202704738816, 0.5286797295261184)"
            ]
          },
          "metadata": {
            "tags": []
          },
          "execution_count": 20
        }
      ]
    },
    {
      "cell_type": "code",
      "metadata": {
        "id": "Le3wJxfIlR2-",
        "colab_type": "code",
        "colab": {
          "base_uri": "https://localhost:8080/",
          "height": 34
        },
        "outputId": "18b206c5-b352-452f-c29b-c741afb0453d"
      },
      "source": [
        "# And calculate P(2 Story|high price)\n",
        "prob_a_given_b = a_and_b_stats[0] / b_stats[0]\n",
        "stats = p_conf_interval(Ames_df['StoriesBinary'], prob_a_given_b, .95)\n",
        "stats"
      ],
      "execution_count": 21,
      "outputs": [
        {
          "output_type": "execute_result",
          "data": {
            "text/plain": [
              "(0.3803418803418803, 0.3524955356973393, 0.4081882249864213)"
            ]
          },
          "metadata": {
            "tags": []
          },
          "execution_count": 21
        }
      ]
    },
    {
      "cell_type": "code",
      "metadata": {
        "id": "TMdsh9i9jOIi",
        "colab_type": "code",
        "colab": {
          "base_uri": "https://localhost:8080/",
          "height": 265
        },
        "outputId": "7d68b7fb-9ea6-462d-af54-cf641946fd28"
      },
      "source": [
        "\n",
        "sns.distplot(stats, hist=False, rug=False)\n",
        "plt.axvspan(stats[1], stats[2], facecolor='b', alpha=0.2, label='Frequntist CI')\n",
        "plt.axvline(stats[0], color='blue', label=\"Frequentist probability\")\n",
        "plt.legend();"
      ],
      "execution_count": 22,
      "outputs": [
        {
          "output_type": "display_data",
          "data": {
            "image/png": "[encoded data removed]",
            "text/plain": [
              "<Figure size 432x288 with 1 Axes>"
            ]
          },
          "metadata": {
            "tags": [],
            "needs_background": "light"
          }
        }
      ]
    },
    {
      "cell_type": "code",
      "metadata": {
        "id": "UXIYKbV9mTZf",
        "colab_type": "code",
        "colab": {
          "base_uri": "https://localhost:8080/",
          "height": 265
        },
        "outputId": "9ba94121-0bb1-4ab7-da27-db508e46fe0e"
      },
      "source": [
        "# Plot them together now\n",
        "sns.distplot(bayes_stats, hist=False, rug=False, color='red')\n",
        "sns.distplot(stats, hist=False, rug=False, color='blue')\n",
        "plt.axvspan(stats[1], stats[2], facecolor='b', alpha=0.2, label='Frequntist CI')\n",
        "plt.axvline(stats[0], color='blue', label=\"Frequentist probablility\")\n",
        "plt.axvspan(bayes_stats[1], bayes_stats[2], facecolor='r', alpha=0.2, label='Bayesian CI')\n",
        "plt.axvline(bayes_stats[0], color='red', label=\"Bayesian probability\")\n",
        "plt.legend();"
      ],
      "execution_count": 23,
      "outputs": [
        {
          "output_type": "display_data",
          "data": {
            "image/png": "[encoded data removed]",
            "text/plain": [
              "<Figure size 432x288 with 1 Axes>"
            ]
          },
          "metadata": {
            "tags": [],
            "needs_background": "light"
          }
        }
      ]
    },
    {
      "cell_type": "markdown",
      "metadata": {
        "id": "16F7EKiA1w7N",
        "colab_type": "text"
      },
      "source": [
        "**Maybe this just winds up being that I have a lot to still learn!**"
      ]
    }
  ]
}