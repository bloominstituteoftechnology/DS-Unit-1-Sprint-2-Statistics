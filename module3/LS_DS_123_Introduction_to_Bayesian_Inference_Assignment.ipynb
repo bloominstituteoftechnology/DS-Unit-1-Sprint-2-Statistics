{
  "nbformat": 4,
  "nbformat_minor": 0,
  "metadata": {
    "colab": {
      "name": "LS_DS_123_Introduction_to_Bayesian_Inference_Assignment.ipynb",
      "provenance": []
    },
    "kernelspec": {
      "name": "python3",
      "display_name": "Python 3"
    }
  },
  "cells": [
    {
      "cell_type": "markdown",
      "metadata": {
        "id": "H7OLbevlbd_Z",
        "colab_type": "text"
      },
      "source": [
        "# Lambda School Data Science Module 123\n",
        "\n",
        "## Introduction to Bayesian Inference\n",
        "\n",
        "\n"
      ]
    },
    {
      "cell_type": "markdown",
      "metadata": {
        "id": "P-DzzRk5bf0z",
        "colab_type": "text"
      },
      "source": [
        "## Assignment - Code it up!\n",
        "\n",
        "We used pure math to apply Bayes Theorem to drug tests. Now write Python code to reproduce the results! This is purposefully open ended - you'll have to think about how you should represent probabilities and events. You can and should look things up.\n",
        "\n",
        "Specific goals/targets:\n",
        "\n",
        "### 1) Write a function \n",
        "\n",
        "`def prob_drunk_given_positive(prob_drunk_prior, false_positive_rate):` \n",
        "\n",
        "You should only truly need these two values in order to apply Bayes Theorem. In this example, imagine that individuals are taking a breathalyzer test with an 8% false positive rate, a 100% true positive rate, and that our prior belief about drunk driving in the population is 1/1000. \n",
        " - What is the probability that a person is drunk after one positive breathalyzer test?\n",
        " - What is the probability that a person is drunk after two positive breathalyzer tests?\n",
        " - How many positive breathalyzer tests are needed in order to have a probability that's greater than 95% that a person is drunk beyond the legal limit?\n",
        "\n",
        "### 2) Explore `scipy.stats.bayes_mvs`  \n",
        "Read its documentation, and experiment with it on data you've tested in other ways earlier this week.\n",
        " - Create a visualization comparing the results of a Bayesian approach to a traditional/frequentist approach. (with a large sample size they should look close to identical, however, take this opportunity to practice visualizing condfidence intervals in general. The following are some potential ways that you could visualize confidence intervals on your graph:\n",
        "  - [Matplotlib Error Bars](https://matplotlib.org/3.1.1/api/_as_gen/matplotlib.pyplot.errorbar.html)\n",
        "  - [Seaborn barplot with error bars](https://seaborn.pydata.org/generated/seaborn.barplot.html)\n",
        "  - [Vertical ines to show bounds of confidence interval](https://www.simplypsychology.org/confidence-interval.jpg)\n",
        "  - [Confidence Intervals on Box Plots](https://matplotlib.org/3.1.1/api/_as_gen/matplotlib.axes.Axes.boxplot.html)\n",
        "\n",
        "### 3) In your own words, summarize the difference between Bayesian and Frequentist statistics\n",
        "\n",
        "If you're unsure where to start, check out [this blog post of Bayes theorem with Python](https://dataconomy.com/2015/02/introduction-to-bayes-theorem-with-python/).\n",
        "\n"
      ]
    },
    {
      "cell_type": "code",
      "metadata": {
        "id": "xpVhZyUnbf7o",
        "colab_type": "code",
        "colab": {}
      },
      "source": [
        "#You should only truly need these two values in order to apply Bayes Theorem.\n",
        "# In this example, imagine that individuals are taking a breathalyzer test \n",
        "# with an 8% false positive rate, a 100% true positive rate, \n",
        "#and that our prior belief about drunk driving in the population is 1/1000.\n",
        "\n",
        "\n",
        "#What is the probability that a person is drunk after one positive breathalyzer test?\n",
        "#What is the probability that a person is drunk after two positive breathalyzer tests?\n",
        "#How many positive breathalyzer tests are needed in order to have a probability that's greater than 95% that a person is drunk beyond the legal limit?\n",
        "\n",
        "\n",
        "#defining the prior belief\n",
        "p_user = 1/1000\n",
        "#defining the probability in general pop to be a non_user\n",
        "p_non_user = 1 - p_user\n",
        "#defining the probability of a true pos\n",
        "p_test_pos_given_drunk = 1\n",
        "#defining the false pos\n",
        "p_test_pos_given_not_drunk = .08\n",
        "\n",
        "\n",
        "def prob_drunk_given_positive(prob_drunk_prior_belief, false_positive_rate,\n",
        "                              true_pos_rate, numTest ):\n",
        "  posterior = prob_drunk_prior_belief\n",
        "\n",
        "  #making the loop to loop through the num of tests\n",
        "  for test in range(numTest):\n",
        "    #defining the probabilities probability of being drunk\n",
        "    p_drunk = posterior\n",
        "    #prob of being a not drunk \n",
        "    p_notDrunk = 1 - p_user\n",
        "    #prob of testing pos if drunk (true pos rate)\n",
        "    p_test_pos_given_drunk = true_pos_rate\n",
        "    #prob of testing drunk but not drunk\n",
        "    p_test_pos_given_not_drunk = false_positive_rate\n",
        "\n",
        "    #creating the numerator and the denominator\n",
        "    numerator = p_test_pos_given_drunk * p_drunk\n",
        "    denominator = (p_test_pos_given_drunk * p_drunk) + (p_test_pos_given_not_drunk * p_notDrunk)\n",
        "    \n",
        "    posterior = numerator/denominator\n",
        "\n",
        "\n",
        "  return posterior"
      ],
      "execution_count": 0,
      "outputs": []
    },
    {
      "cell_type": "code",
      "metadata": {
        "id": "RlfRThMk3aR7",
        "colab_type": "code",
        "colab": {
          "base_uri": "https://localhost:8080/",
          "height": 34
        },
        "outputId": "e8812512-8fd8-483a-c623-bd5ba210bd3e"
      },
      "source": [
        "#after one test the probability that they are actually drunk when testing pos\n",
        "#is\n",
        "print(\"after one test the probability they they are drunk is: \",prob_drunk_given_positive(1/1000, .08, 1, 1) )"
      ],
      "execution_count": 4,
      "outputs": [
        {
          "output_type": "stream",
          "text": [
            "after one test the probability they they are drunk is:  0.012357884330202669\n"
          ],
          "name": "stdout"
        }
      ]
    },
    {
      "cell_type": "code",
      "metadata": {
        "id": "1QPH9qo34TR6",
        "colab_type": "code",
        "colab": {
          "base_uri": "https://localhost:8080/",
          "height": 34
        },
        "outputId": "2294a05a-a543-4147-ab91-54f5b232ffc7"
      },
      "source": [
        "#after two tests\n",
        "print('the probability after two test is: ', prob_drunk_given_positive(1/1000, .08, 1, 2))"
      ],
      "execution_count": 5,
      "outputs": [
        {
          "output_type": "stream",
          "text": [
            "the probability after two test is:  0.13392032576279944\n"
          ],
          "name": "stdout"
        }
      ]
    },
    {
      "cell_type": "code",
      "metadata": {
        "id": "Y_OWdjTN8HZe",
        "colab_type": "code",
        "colab": {
          "base_uri": "https://localhost:8080/",
          "height": 34
        },
        "outputId": "1cd787b8-4f6c-4763-fd75-47f4f3d56b0f"
      },
      "source": [
        "#you never get to 95 percent probability only will reach 92\n",
        "prob_drunk_given_positive(1/1000, .08, 1,30000000)"
      ],
      "execution_count": 17,
      "outputs": [
        {
          "output_type": "execute_result",
          "data": {
            "text/plain": [
              "0.92008"
            ]
          },
          "metadata": {
            "tags": []
          },
          "execution_count": 17
        }
      ]
    },
    {
      "cell_type": "code",
      "metadata": {
        "id": "XjPK21wL4-Qp",
        "colab_type": "code",
        "colab": {}
      },
      "source": [
        "#finding the number of tests that it will need to do to get at least 95 % \n",
        "#probability\n",
        "\n",
        "def findNumTests(prior, trp, fp):\n",
        "  newPrior = prior\n",
        "  count = 0\n",
        "  #running a loop to run the test til get to 95% prob\n",
        "  while newPrior <= .95:\n",
        "    count = count + 1\n",
        "    newPrior = prob_drunk_given_positive(newPrior, fp, trp, 1)\n",
        "  \n",
        "  return count"
      ],
      "execution_count": 0,
      "outputs": []
    },
    {
      "cell_type": "code",
      "metadata": {
        "id": "ykBTgyki6h0p",
        "colab_type": "code",
        "colab": {}
      },
      "source": [
        "# ran this forever and never reach 95% probability\n",
        "num = findNumTests(1/1000, 1, .08 )\n",
        "print(\"the number of tests needed to reach 95% prob is: \", num)"
      ],
      "execution_count": 0,
      "outputs": []
    },
    {
      "cell_type": "code",
      "metadata": {
        "id": "W4oWrD65ATeD",
        "colab_type": "code",
        "colab": {}
      },
      "source": [
        "#This is my write up of what bayseian statistics is compared to frequestist statistics.\n",
        "\n",
        "# A bayesian statatician will use prior knowledge to affect his reasoning.  Where a frequentis won't use prior knowledge but will just use the \n",
        "# frequency (likelihood) of the something happening.  This could be as in the example of a frequentist would say the likelihood of getting any number\n",
        "# on a die is one in six, because there are 6 different sides to the die.  A bayesian statatician will look at the past times the die has rolled to see the \n",
        "# ratio of the rolls, and then use this prior knowledge to help calculate the probability of what numbers may come up next on the die.\n",
        "\n",
        "# Another example would be I have lost my phone in my home.  If I press the locator button on the base the phone will begin to ring.  A bayesian\n",
        "# way of thinking would use the sound of the phone to locate it to an area of the home.  He would then combine this knowledge with his knowledge\n",
        "# of where he has on prior occasions left the phone in the home.  Using these two pieces of info, he would go and locate the phone.\n",
        "# The frequentist would just use the sound of the phone to locate where it is in his home, and not combine this with prior knowledge of where he leaves his phone."
      ],
      "execution_count": 0,
      "outputs": []
    },
    {
      "cell_type": "code",
      "metadata": {
        "id": "Is5LODsbC1dx",
        "colab_type": "code",
        "colab": {}
      },
      "source": [
        "#using the scipy stats module to look at the bayesian confidence intervals\n",
        "import seaborn as sns\n",
        "import matplotlib.pyplot as plt\n",
        "import scipy.stats as stats\n",
        "import numpy as np\n"
      ],
      "execution_count": 0,
      "outputs": []
    },
    {
      "cell_type": "code",
      "metadata": {
        "id": "veXiSLmuDSF3",
        "colab_type": "code",
        "colab": {
          "base_uri": "https://localhost:8080/",
          "height": 34
        },
        "outputId": "22b485cd-78b7-4b45-d567-03a2d01ee664"
      },
      "source": [
        "#will be doing the random coinflips\n",
        "flips = np.random.binomial(1, .5, 100)\n",
        "flips.mean()"
      ],
      "execution_count": 22,
      "outputs": [
        {
          "output_type": "execute_result",
          "data": {
            "text/plain": [
              "0.48"
            ]
          },
          "metadata": {
            "tags": []
          },
          "execution_count": 22
        }
      ]
    },
    {
      "cell_type": "code",
      "metadata": {
        "id": "9Q7EtDv2EBzX",
        "colab_type": "code",
        "colab": {
          "base_uri": "https://localhost:8080/",
          "height": 34
        },
        "outputId": "a0f5eafc-13d9-4196-f382-8ede5c43a283"
      },
      "source": [
        "confidenceInt = stats.bayes_mvs(flips,  .9)\n",
        "confidenceMean = confidenceInt[0]\n",
        "confidenceMean"
      ],
      "execution_count": 28,
      "outputs": [
        {
          "output_type": "execute_result",
          "data": {
            "text/plain": [
              "Mean(statistic=0.48, minmax=(0.3966289819625553, 0.5633710180374446))"
            ]
          },
          "metadata": {
            "tags": []
          },
          "execution_count": 28
        }
      ]
    },
    {
      "cell_type": "code",
      "metadata": {
        "id": "Y0xuNAxTLbp6",
        "colab_type": "code",
        "colab": {
          "base_uri": "https://localhost:8080/",
          "height": 265
        },
        "outputId": "00a518f9-d8bc-4c79-fc5a-79b5b9d225cc"
      },
      "source": [
        "#building the graph this is with puttin the confidence interval at 90%\n",
        "sns.kdeplot(flips, color= \"blue\")\n",
        "plt.axvline(x= confidenceMean[1][0],  color=\"green\")\n",
        "plt.axvline(x=confidenceMean[1][1], color = \"green\")\n",
        "plt.axvline(x=flips.mean(), color=\"pink\");"
      ],
      "execution_count": 31,
      "outputs": [
        {
          "output_type": "display_data",
          "data": {
            "image/png": "[encoded data removed]",
            "text/plain": [
              "<Figure size 432x288 with 1 Axes>"
            ]
          },
          "metadata": {
            "tags": []
          }
        }
      ]
    },
    {
      "cell_type": "markdown",
      "metadata": {
        "id": "uWgWjp3PQ3Sq",
        "colab_type": "text"
      },
      "source": [
        "## Resources"
      ]
    },
    {
      "cell_type": "markdown",
      "metadata": {
        "id": "QRgHqmYIQ9qn",
        "colab_type": "text"
      },
      "source": [
        "- [Worked example of Bayes rule calculation](https://en.wikipedia.org/wiki/Bayes'_theorem#Examples) (helpful as it fully breaks out the denominator)\n",
        "- [Source code for mvsdist in scipy](https://github.com/scipy/scipy/blob/90534919e139d2a81c24bf08341734ff41a3db12/scipy/stats/morestats.py#L139)"
      ]
    },
    {
      "cell_type": "markdown",
      "metadata": {
        "id": "GP7Jv1XvwtkX",
        "colab_type": "text"
      },
      "source": [
        "## Stretch Goals:\n",
        "\n",
        "- Go back and study the content from Modules 1 & 2 to make sure that you're really comfortable with them.\n",
        "- Apply a Bayesian technique to a problem you previously worked (in an assignment or project work) on from a frequentist (standard) perspective\n",
        "- Check out [PyMC3](https://docs.pymc.io/) (note this goes beyond hypothesis tests into modeling) - read the guides and work through some examples\n",
        "- Take PyMC3 further - see if you can build something with it!"
      ]
    },
    {
      "cell_type": "code",
      "metadata": {
        "id": "iDi0eFr1x-v_",
        "colab_type": "code",
        "colab": {}
      },
      "source": [
        ""
      ],
      "execution_count": 0,
      "outputs": []
    }
  ]
}