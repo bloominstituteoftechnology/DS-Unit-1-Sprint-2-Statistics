{
  "nbformat": 4,
  "nbformat_minor": 0,
  "metadata": {
    "colab": {
      "name": "LS_DS_123_Introduction_to_Bayesian_Inference_Assignment.ipynb",
      "provenance": []
    },
    "kernelspec": {
      "name": "python3",
      "display_name": "Python 3"
    }
  },
  "cells": [
    {
      "cell_type": "markdown",
      "metadata": {
        "id": "H7OLbevlbd_Z",
        "colab_type": "text"
      },
      "source": [
        "# Lambda School Data Science Module 123\n",
        "\n",
        "## Introduction to Bayesian Inference\n",
        "\n",
        "\n"
      ]
    },
    {
      "cell_type": "markdown",
      "metadata": {
        "id": "P-DzzRk5bf0z",
        "colab_type": "text"
      },
      "source": [
        "## Assignment - Code it up!\n",
        "\n",
        "We used pure math to apply Bayes Theorem to drug tests. Now write Python code to reproduce the results! This is purposefully open ended - you'll have to think about how you should represent probabilities and events. You can and should look things up.\n",
        "\n",
        "Specific goals/targets:\n",
        "\n",
        "### 1) Write a function \n",
        "\n",
        "`def prob_drunk_given_positive(prob_drunk_prior, false_positive_rate, true_positive_rate):` \n",
        "\n",
        "You should only truly need these three values in order to apply Bayes Theorem. In this example, imagine that individuals are taking a breathalyzer test with an 8% false positive rate, a 100% true positive rate, and that our prior belief about drunk driving in the population is 1/1000. \n",
        " - What is the probability that a person is drunk after one positive breathalyzer test?\n",
        " - What is the probability that a person is drunk after two positive breathalyzer tests?\n",
        " - How many positive breathalyzer tests are needed in order to have a probability that's greater than 95% that a person is drunk beyond the legal limit?\n",
        "\n",
        "\n",
        "\n"
      ]
    },
    {
      "cell_type": "code",
      "metadata": {
        "id": "xpVhZyUnbf7o",
        "colab_type": "code",
        "colab": {}
      },
      "source": [
        "# Define the function\n",
        "def prob_drunk_given_positive(prob_drunk_prior, false_positive_rate, true_positive_rate):\n",
        "  prior_compliment = 1 - prob_drunk_prior\n",
        "  return (true_positive_rate * prob_drunk_prior) / ((true_positive_rate * prob_drunk_prior) + (false_positive_rate * prior_compliment))"
      ],
      "execution_count": 0,
      "outputs": []
    },
    {
      "cell_type": "code",
      "metadata": {
        "id": "-LhmhTKXH3Is",
        "colab_type": "code",
        "colab": {
          "base_uri": "https://localhost:8080/",
          "height": 34
        },
        "outputId": "5a8934dd-e641-4243-f504-f2d69385347f"
      },
      "source": [
        "# Example probability with 8% false positive rate, a 100% true positive rate, \n",
        "# and prior belief 1/1000\n",
        "example_prob = prob_drunk_given_positive(1/1000, .08, 1)\n",
        "\n",
        "print(\"probability that a person is drunk after one positive test:\", example_prob)"
      ],
      "execution_count": 4,
      "outputs": [
        {
          "output_type": "stream",
          "text": [
            "probability that a person is drunk after one positive test: 0.012357884330202669\n"
          ],
          "name": "stdout"
        }
      ]
    },
    {
      "cell_type": "code",
      "metadata": {
        "id": "nhgKakoNIY8X",
        "colab_type": "code",
        "colab": {
          "base_uri": "https://localhost:8080/",
          "height": 34
        },
        "outputId": "a435ead9-54a6-4d60-8448-b0fc334e467e"
      },
      "source": [
        "prob1 = prob_drunk_given_positive(1/1000, .08, 1)\n",
        "example_prob = prob_drunk_given_positive(prob1, .08, 1)\n",
        "\n",
        "print(\"probability that a person is drunk after two positive tests:\", example_prob)"
      ],
      "execution_count": 5,
      "outputs": [
        {
          "output_type": "stream",
          "text": [
            "probability that a person is drunk after two positive tests: 0.13525210993291495\n"
          ],
          "name": "stdout"
        }
      ]
    },
    {
      "cell_type": "code",
      "metadata": {
        "id": "EUElbggAIrxH",
        "colab_type": "code",
        "colab": {
          "base_uri": "https://localhost:8080/",
          "height": 51
        },
        "outputId": "b39dd7ae-b97a-4985-d0df-4696c5c26b9f"
      },
      "source": [
        "prob_drunk = prob_drunk_given_positive(1/1000, .08, 1)\n",
        "tests_run = 1\n",
        "\n",
        "while prob_drunk < .95:\n",
        "  prob_drunk = prob_drunk_given_positive(prob_drunk, .08, 1)\n",
        "  tests_run += 1\n",
        "\n",
        "print(\"It took\", tests_run, \"tests to pass 95% probability\")\n",
        "print(\"Probability after\", tests_run, \"tests:\", prob_drunk)"
      ],
      "execution_count": 6,
      "outputs": [
        {
          "output_type": "stream",
          "text": [
            "It took 4 tests to pass 95% probability\n",
            "Probability after 4 tests: 0.9606895076105054\n"
          ],
          "name": "stdout"
        }
      ]
    },
    {
      "cell_type": "markdown",
      "metadata": {
        "id": "JEHOdXAxmRDw",
        "colab_type": "text"
      },
      "source": [
        "### 2) Explore `scipy.stats.bayes_mvs`  \n",
        "Read its documentation, and experiment with it on data you've tested in other ways earlier this week.\n",
        " - Create a visualization comparing the results of a Bayesian approach to a traditional/frequentist approach. (with a large sample size they should look close to identical, however, take this opportunity to practice visualizing condfidence intervals in general. The following are some potential ways that you could visualize confidence intervals on your graph:\n",
        "  - [Matplotlib Error Bars](https://matplotlib.org/3.1.1/api/_as_gen/matplotlib.pyplot.errorbar.html)\n",
        "  - [Seaborn barplot with error bars](https://seaborn.pydata.org/generated/seaborn.barplot.html)\n",
        "  - [Vertical ines to show bounds of confidence interval](https://www.simplypsychology.org/confidence-interval.jpg)\n",
        "  - [Confidence Intervals on Box Plots](https://matplotlib.org/3.1.1/api/_as_gen/matplotlib.axes.Axes.boxplot.html)"
      ]
    },
    {
      "cell_type": "code",
      "metadata": {
        "id": "Kv1QEfLGmXTO",
        "colab_type": "code",
        "colab": {}
      },
      "source": [
        "import random\n",
        "from scipy import stats\n",
        "import numpy as np\n",
        "\n",
        "# I decided to generate some new data\n",
        "def roll_dice(num_dice, sides=6):\n",
        "  \"\"\"\n",
        "  Rolls num_dice and adds the results together\n",
        "\n",
        "  sides: the number of sides on each die\n",
        "  \"\"\"\n",
        "  total = 0\n",
        "  for i in range(num_dice):\n",
        "    total += random.randint(1, sides)\n",
        "  \n",
        "  return total\n",
        "\n",
        "def get_dice_totals(num_rolls, sides=6):\n",
        "  \"\"\"\n",
        "  Returns an array of dice roll totals\n",
        "  \"\"\"\n",
        "  dice_results = []\n",
        "  for i in range(num_rolls):\n",
        "    dice_results.append(roll_dice(2, sides))\n",
        "  \n",
        "  return dice_results"
      ],
      "execution_count": 0,
      "outputs": []
    },
    {
      "cell_type": "code",
      "metadata": {
        "id": "1Sr4lrHSNeya",
        "colab_type": "code",
        "colab": {}
      },
      "source": [
        "# Frequentist confidence interval function I wrote for yesterday's assignment\n",
        "def freq_conf_int(data, confidence=.95):\n",
        "  a = np.array(data)\n",
        "  high, low = stats.t.interval(confidence, len(a)-1, loc=np.mean(a), scale=stats.sem(a))\n",
        "  \n",
        "  return np.mean(a), high, low"
      ],
      "execution_count": 0,
      "outputs": []
    },
    {
      "cell_type": "code",
      "metadata": {
        "id": "CD1ekY9_KlkY",
        "colab_type": "code",
        "colab": {
          "base_uri": "https://localhost:8080/",
          "height": 119
        },
        "outputId": "78680ab6-cfd8-4bb5-9b3a-3708d72fbbb0"
      },
      "source": [
        "# roll a bunch of dice\n",
        "dice_results = get_dice_totals(100)\n",
        "np.array(dice_results)-"
      ],
      "execution_count": 65,
      "outputs": [
        {
          "output_type": "execute_result",
          "data": {
            "text/plain": [
              "array([ 8,  5,  7,  5,  5,  9,  6,  9,  4, 12,  7,  5,  9,  7,  2,  8, 10,\n",
              "        6,  4,  7,  9,  6, 10,  7,  5, 11,  9,  7,  7,  7,  4, 12,  5,  3,\n",
              "        8,  4, 10, 10,  4,  5,  8,  7,  6, 12,  6,  9, 12,  6,  8, 10, 11,\n",
              "       10,  9,  3,  8,  8,  9,  6, 12,  9,  6, 10,  9,  9,  8,  2, 12,  4,\n",
              "        6,  3,  7,  5,  6,  2,  8,  7,  6, 11,  6,  7,  8,  8,  6,  9,  4,\n",
              "        5,  5,  5,  5,  7,  4,  5,  9,  9, 10,  8,  9, 10,  8,  7])"
            ]
          },
          "metadata": {
            "tags": []
          },
          "execution_count": 65
        }
      ]
    },
    {
      "cell_type": "code",
      "metadata": {
        "id": "Tp_kxUEUMJsU",
        "colab_type": "code",
        "colab": {
          "base_uri": "https://localhost:8080/",
          "height": 34
        },
        "outputId": "6d782ccf-e278-4014-ddc7-c8830caea36b"
      },
      "source": [
        "# Calculate a Bayesian confidence interval\n",
        "bayesian_confidence, _, _ = stats.bayes_mvs(dice_results, alpha=.95)\n",
        "bayesian_confidence"
      ],
      "execution_count": 66,
      "outputs": [
        {
          "output_type": "execute_result",
          "data": {
            "text/plain": [
              "Mean(statistic=7.22, minmax=(6.728613597755903, 7.711386402244097))"
            ]
          },
          "metadata": {
            "tags": []
          },
          "execution_count": 66
        }
      ]
    },
    {
      "cell_type": "code",
      "metadata": {
        "id": "lO3-bF3tMsHY",
        "colab_type": "code",
        "colab": {
          "base_uri": "https://localhost:8080/",
          "height": 34
        },
        "outputId": "717f550b-deba-44df-a9cb-9517036816e4"
      },
      "source": [
        "# Check against the Frequentist confidence interval\n",
        "freq_conf_int(dice_results)"
      ],
      "execution_count": 67,
      "outputs": [
        {
          "output_type": "execute_result",
          "data": {
            "text/plain": [
              "(7.22, 6.728613597755903, 7.711386402244097)"
            ]
          },
          "metadata": {
            "tags": []
          },
          "execution_count": 67
        }
      ]
    },
    {
      "cell_type": "code",
      "metadata": {
        "id": "ICWuDyWtN0Ig",
        "colab_type": "code",
        "colab": {
          "base_uri": "https://localhost:8080/",
          "height": 265
        },
        "outputId": "7da9e609-6137-49cd-f951-2e0b92f1d39d"
      },
      "source": [
        "# Display with seaborn's distplot\n",
        "import seaborn as sns\n",
        "import matplotlib.pyplot as plt\n",
        "\n",
        "bayesian_confidence, _, _ = stats.bayes_mvs(dice_results, alpha=.95)\n",
        "sns.distplot(dice_results, bins=11)\n",
        "plt.axvline(x=bayesian_confidence[1][0], color='red') #lower bound\n",
        "plt.axvline(x=bayesian_confidence[1][1], color='red') #upper bound\n",
        "plt.axvline(x=bayesian_confidence[0], color='black');  #mean"
      ],
      "execution_count": 68,
      "outputs": [
        {
          "output_type": "display_data",
          "data": {
            "image/png": "[encoded data removed]",
            "text/plain": [
              "<Figure size 432x288 with 1 Axes>"
            ]
          },
          "metadata": {
            "tags": []
          }
        }
      ]
    },
    {
      "cell_type": "code",
      "metadata": {
        "id": "8emoBnEePegj",
        "colab_type": "code",
        "colab": {
          "base_uri": "https://localhost:8080/",
          "height": 265
        },
        "outputId": "a9a91538-34f9-4b64-b434-c2864eadaae0"
      },
      "source": [
        "# Same thing again, but with a higher sample size\n",
        "more_dice = get_dice_totals(1000)\n",
        "\n",
        "bayesian_confidence, _, _ = stats.bayes_mvs(more_dice, alpha=.95)\n",
        "sns.distplot(more_dice, bins=11)\n",
        "plt.axvline(x=bayesian_confidence[1][0], color='red') #lower bound\n",
        "plt.axvline(x=bayesian_confidence[1][1], color='red') #upper bound\n",
        "plt.axvline(x=bayesian_confidence[0], color='black');  #mean"
      ],
      "execution_count": 108,
      "outputs": [
        {
          "output_type": "display_data",
          "data": {
            "image/png": "[encoded data removed]",
            "text/plain": [
              "<Figure size 432x288 with 1 Axes>"
            ]
          },
          "metadata": {
            "tags": []
          }
        }
      ]
    },
    {
      "cell_type": "code",
      "metadata": {
        "id": "dQnFH0YX1YJa",
        "colab_type": "code",
        "colab": {
          "base_uri": "https://localhost:8080/",
          "height": 34
        },
        "outputId": "82bc4a70-0700-45a9-cc34-124c3483664f"
      },
      "source": [
        "_--"
      ],
      "execution_count": 109,
      "outputs": [
        {
          "output_type": "execute_result",
          "data": {
            "text/plain": [
              "Std_dev(statistic=2.449852790399746, minmax=(2.345226708220997, 2.560292016706688))"
            ]
          },
          "metadata": {
            "tags": []
          },
          "execution_count": 109
        }
      ]
    },
    {
      "cell_type": "code",
      "metadata": {
        "id": "mbaP3x5lSm_s",
        "colab_type": "code",
        "colab": {}
      },
      "source": [
        "# Demonstrate how intervals decrease as sample size increases, \n",
        "# using pyplot error bars\n",
        "def plot_conf_int(data):\n",
        "  bay_conf, _, _ = stats.bayes_mvs(data, alpha=.95)\n",
        "  # y = mean\n",
        "  # yerr = (mean - lower confidence interval)\n",
        "  ax.errorbar(x=len(data), y=bay_conf[0], yerr=(bay_conf[0]-bay_conf[1][0]), fmt='o')"
      ],
      "execution_count": 0,
      "outputs": []
    },
    {
      "cell_type": "code",
      "metadata": {
        "id": "KDzXGW_oQ_cW",
        "colab_type": "code",
        "colab": {
          "base_uri": "https://localhost:8080/",
          "height": 295
        },
        "outputId": "eede81b6-4ff5-4442-dc92-a5f77ccb1dca"
      },
      "source": [
        "dice = []\n",
        "dice.append(get_dice_totals(5))\n",
        "dice.append(get_dice_totals(10))\n",
        "dice.append(get_dice_totals(25))\n",
        "dice.append(get_dice_totals(50))\n",
        "dice.append(get_dice_totals(100))\n",
        "dice.append(get_dice_totals(200))\n",
        "dice.append(get_dice_totals(300))\n",
        "dice.append(get_dice_totals(400))\n",
        "dice.append(get_dice_totals(500))\n",
        "\n",
        "fig, ax = plt.subplots()\n",
        "ax.set_title(\"Confidence intervals related to sample size\")\n",
        "ax.set_ylabel(\"Mean result or rolling 2 dice\")\n",
        "ax.set_xlabel(\"Sample size\")\n",
        "\n",
        "for dice_set in dice:\n",
        "  plot_conf_int(dice_set)"
      ],
      "execution_count": 106,
      "outputs": [
        {
          "output_type": "display_data",
          "data": {
            "image/png": "[encoded data removed]",
            "text/plain": [
              "<Figure size 432x288 with 1 Axes>"
            ]
          },
          "metadata": {
            "tags": []
          }
        }
      ]
    },
    {
      "cell_type": "markdown",
      "metadata": {
        "id": "gHHt0PGFmRa0",
        "colab_type": "text"
      },
      "source": [
        "### 3) In your own words, summarize the difference between Bayesian and Frequentist statistics\n",
        "\n",
        "If you're unsure where to start, check out [this blog post of Bayes theorem with Python](https://dataconomy.com/2015/02/introduction-to-bayes-theorem-with-python/)."
      ]
    },
    {
      "cell_type": "markdown",
      "metadata": {
        "id": "YYSUaqHMmYbe",
        "colab_type": "text"
      },
      "source": [
        "With Frequentist statistics, we use a sample set of data to make inferences on a population parameter.\n",
        "\n",
        "With Bayesian statistics, we include a prior probability in our calculations which allows us to draw more specific conclusions."
      ]
    },
    {
      "cell_type": "markdown",
      "metadata": {
        "id": "uWgWjp3PQ3Sq",
        "colab_type": "text"
      },
      "source": [
        "## Resources"
      ]
    },
    {
      "cell_type": "markdown",
      "metadata": {
        "id": "QRgHqmYIQ9qn",
        "colab_type": "text"
      },
      "source": [
        "- [Worked example of Bayes rule calculation](https://en.wikipedia.org/wiki/Bayes'_theorem#Examples) (helpful as it fully breaks out the denominator)\n",
        "- [Source code for mvsdist in scipy](https://github.com/scipy/scipy/blob/90534919e139d2a81c24bf08341734ff41a3db12/scipy/stats/morestats.py#L139)"
      ]
    },
    {
      "cell_type": "markdown",
      "metadata": {
        "id": "GP7Jv1XvwtkX",
        "colab_type": "text"
      },
      "source": [
        "## Stretch Goals:\n",
        "\n",
        "- Go back and study the content from Modules 1 & 2 to make sure that you're really comfortable with them.\n",
        "- Apply a Bayesian technique to a problem you previously worked (in an assignment or project work) on from a frequentist (standard) perspective\n",
        "- Check out [PyMC3](https://docs.pymc.io/) (note this goes beyond hypothesis tests into modeling) - read the guides and work through some examples\n",
        "- Take PyMC3 further - see if you can build something with it!"
      ]
    },
    {
      "cell_type": "code",
      "metadata": {
        "id": "iDi0eFr1x-v_",
        "colab_type": "code",
        "colab": {}
      },
      "source": [
        ""
      ],
      "execution_count": 0,
      "outputs": []
    }
  ]
}