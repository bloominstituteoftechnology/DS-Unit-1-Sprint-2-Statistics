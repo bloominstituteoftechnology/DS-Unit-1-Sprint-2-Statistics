{
  "nbformat": 4,
  "nbformat_minor": 0,
  "metadata": {
    "colab": {
      "name": "LS_DS_123_Introduction_to_Bayesian_Inference_Assignment.ipynb",
      "provenance": []
    },
    "kernelspec": {
      "name": "python3",
      "display_name": "Python 3"
    }
  },
  "cells": [
    {
      "cell_type": "markdown",
      "metadata": {
        "id": "H7OLbevlbd_Z",
        "colab_type": "text"
      },
      "source": [
        "# Lambda School Data Science Module 123\n",
        "\n",
        "## Introduction to Bayesian Inference\n",
        "\n",
        "\n"
      ]
    },
    {
      "cell_type": "markdown",
      "metadata": {
        "id": "P-DzzRk5bf0z",
        "colab_type": "text"
      },
      "source": [
        "## Assignment - Code it up!\n",
        "\n",
        "We used pure math to apply Bayes Theorem to drug tests. Now write Python code to reproduce the results! This is purposefully open ended - you'll have to think about how you should represent probabilities and events. You can and should look things up.\n",
        "\n",
        "Specific goals/targets:\n",
        "\n",
        "### 1) Write a function \n",
        "\n",
        "`def prob_drunk_given_positive(prob_drunk_prior, false_positive_rate):` \n",
        "\n",
        "You should only truly need these two values in order to apply Bayes Theorem. In this example, imagine that individuals are taking a breathalyzer test with an 8% false positive rate, a 100% true positive rate, and that our prior belief about drunk driving in the population is 1/1000. \n",
        " - What is the probability that a person is drunk after one positive breathalyzer test?\n",
        " - What is the probability that a person is drunk after two positive breathalyzer tests?\n",
        " - How many positive breathalyzer tests are needed in order to have a probability that's greater than 95% that a person is drunk beyond the legal limit?\n",
        "\n",
        "### 2) Explore `scipy.stats.bayes_mvs`  \n",
        "Read its documentation, and experiment with it on data you've tested in other ways earlier this week.\n",
        " - Create a visualization comparing the results of a Bayesian approach to a traditional/frequentist approach. (with a large sample size they should look close to identical, however, take this opportunity to practice visualizing condfidence intervals in general. The following are some potential ways that you could visualize confidence intervals on your graph:\n",
        "  - [Matplotlib Error Bars](https://matplotlib.org/3.1.1/api/_as_gen/matplotlib.pyplot.errorbar.html)\n",
        "  - [Seaborn barplot with error bars](https://seaborn.pydata.org/generated/seaborn.barplot.html)\n",
        "  - [Vertical ines to show bounds of confidence interval](https://www.simplypsychology.org/confidence-interval.jpg)\n",
        "  - [Confidence Intervals on Box Plots](https://matplotlib.org/3.1.1/api/_as_gen/matplotlib.axes.Axes.boxplot.html)\n",
        "\n",
        "### 3) In your own words, summarize the difference between Bayesian and Frequentist statistics\n",
        "\n",
        "If you're unsure where to start, check out [this blog post of Bayes theorem with Python](https://dataconomy.com/2015/02/introduction-to-bayes-theorem-with-python/).\n",
        "\n"
      ]
    },
    {
      "cell_type": "code",
      "metadata": {
        "id": "xpVhZyUnbf7o",
        "colab_type": "code",
        "colab": {}
      },
      "source": [
        "#okay for the first one I need to chat it out a bit then I'll make the function.\n",
        "#True Positive Rate = 100% (Basically a drunk will not slip by this test) (type 2 errors)\n",
        "#False Positive Rate = 8% (Basically the rate of nondrunks are being identified as drunks) (type 1 errors)\n",
        "#Prior Believe = 1/1000 (We believe 1 in 1000 drivers is drunk. This is kind of vague, I accept it for now with a side-eye\n",
        "#should I be considering self reported drunk drivers, vs caught drunk drivers. If it is caught drunk drivers would that\n",
        "#skew this, since police look for specific behaviors to identify drunk drivers. If I have time I'll google some stats)\n",
        "#Probability of getting a non drunk = 999/1000 (We believe 999 out of 1000 drivers are not drunk)\n",
        "\n",
        "#Okay I'm pretty sure I can just get this function out real quick.  We can assume the true_positive_rate will never change\n",
        "#, and if we return the new probability,  we can just use a loop to iterate over this function as much as we need. So lets\n",
        "#just crank out bayes theorem\n",
        "\n",
        "def prob_drunk_given_positive(prob_drunk_prior, false_positive_rate):\n",
        "  #we are assuming this based off the above description. This is not a trivial variable.\n",
        "  true_positive_rate = 1 \n",
        "\n",
        "  prob_not_drunk = 1 - prob_drunk_prior\n",
        "\n",
        "  #true positive rate * prior belief\n",
        "  numerator = true_positive_rate * prob_drunk_prior\n",
        "\n",
        "  #(true positive rate * prior belief) + (false positive rate * probability of getting a non-drunk)\n",
        "  denominator = (true_positive_rate * prob_drunk_prior) + (false_positive_rate * prob_not_drunk)\n",
        "\n",
        "  return numerator / denominator\n"
      ],
      "execution_count": 0,
      "outputs": []
    },
    {
      "cell_type": "markdown",
      "metadata": {
        "id": "8ABiJAxt0hqK",
        "colab_type": "text"
      },
      "source": [
        "Okay to describe what is happening above.\n",
        "#numerator:#\n",
        "We are identifying our prior beliefs, and at what rate that might be verifiably wrong (I'm assuming to get a 100% true positive rate, that maybe a blood test is given as a control?). I'll say this is our prior beliefs adjusted for truthfulness.\n",
        "#denominator:#\n",
        "We are taking the rate of our truthful prior beliefs (see numerator) and adding in the rate at which we'd get a falsely identified non-drunk."
      ]
    },
    {
      "cell_type": "code",
      "metadata": {
        "id": "QdgIBaK43LSC",
        "colab_type": "code",
        "colab": {
          "base_uri": "https://localhost:8080/",
          "height": 34
        },
        "outputId": "46b129e3-afae-4bdc-b62f-8a48f65df4e9"
      },
      "source": [
        "#lets see how it works\n",
        "test1 = prob_drunk_given_positive(1/1000, .08)\n",
        "print(test1)"
      ],
      "execution_count": 2,
      "outputs": [
        {
          "output_type": "stream",
          "text": [
            "0.012357884330202669\n"
          ],
          "name": "stdout"
        }
      ]
    },
    {
      "cell_type": "code",
      "metadata": {
        "id": "5U99fI485pjo",
        "colab_type": "code",
        "colab": {
          "base_uri": "https://localhost:8080/",
          "height": 34
        },
        "outputId": "b7835014-8d41-490e-e300-920a9fae4c49"
      },
      "source": [
        "#alright, and lets verify I did code it right by using our example data\n",
        "#from class.  1/200 prior belief, .01 false positive rate. I expect to get .334 probability\n",
        "verify = prob_drunk_given_positive(1/200, .01)\n",
        "print(verify)"
      ],
      "execution_count": 5,
      "outputs": [
        {
          "output_type": "stream",
          "text": [
            "0.33444816053511706\n"
          ],
          "name": "stdout"
        }
      ]
    },
    {
      "cell_type": "code",
      "metadata": {
        "id": "1B7o7G1J3xUV",
        "colab_type": "code",
        "colab": {
          "base_uri": "https://localhost:8080/",
          "height": 85
        },
        "outputId": "8fd50128-d57b-497e-8092-9c4687f84c2b"
      },
      "source": [
        "#Okay wow, that is crazy low probability someone is drunk. I guess I knew false positives were bad\n",
        "#but I had no idea the impact.  Lets find that 95% probability someone is drunk\n",
        "\n",
        "prior = 1/1000\n",
        "false_pos = .08\n",
        "for i in range(0, 100):\n",
        "  prior = prob_drunk_given_positive(prior, false_pos)\n",
        "  print('test' + str(i+1) + ': ' + str(prior))\n",
        "\n",
        "  if prior >= .95:\n",
        "    break"
      ],
      "execution_count": 7,
      "outputs": [
        {
          "output_type": "stream",
          "text": [
            "test1: 0.012357884330202669\n",
            "test2: 0.13525210993291495\n",
            "test3: 0.6615996951348605\n",
            "test4: 0.9606895076105054\n"
          ],
          "name": "stdout"
        }
      ]
    },
    {
      "cell_type": "markdown",
      "metadata": {
        "id": "M2VXcer98CAj",
        "colab_type": "text"
      },
      "source": [
        "##scipy.stats.bayes_mvs###"
      ]
    },
    {
      "cell_type": "code",
      "metadata": {
        "id": "Nnb72Bv18AmO",
        "colab_type": "code",
        "colab": {}
      },
      "source": [
        "import pandas as pd\n",
        "import scipy.stats as stats\n",
        "import matplotlib.pyplot as plt\n",
        "import seaborn as sns\n",
        "\n",
        "df = pd.read_csv('https://raw.githubusercontent.com/ryanleeallred/datasets/master/adult.csv', na_values = ' ?')"
      ],
      "execution_count": 0,
      "outputs": []
    },
    {
      "cell_type": "code",
      "metadata": {
        "id": "H_W0M9SY-aEL",
        "colab_type": "code",
        "colab": {
          "base_uri": "https://localhost:8080/",
          "height": 323
        },
        "outputId": "3aed5dee-56fc-4056-966c-898c4690f134"
      },
      "source": [
        "#okay so lets take a look at education level of the adult dataset\n",
        "print(df['education-num'].mean())\n",
        "df['education-num'].value_counts()"
      ],
      "execution_count": 11,
      "outputs": [
        {
          "output_type": "stream",
          "text": [
            "10.0806793403151\n"
          ],
          "name": "stdout"
        },
        {
          "output_type": "execute_result",
          "data": {
            "text/plain": [
              "9     10501\n",
              "10     7291\n",
              "13     5355\n",
              "14     1723\n",
              "11     1382\n",
              "7      1175\n",
              "12     1067\n",
              "6       933\n",
              "4       646\n",
              "15      576\n",
              "5       514\n",
              "8       433\n",
              "16      413\n",
              "3       333\n",
              "2       168\n",
              "1        51\n",
              "Name: education-num, dtype: int64"
            ]
          },
          "metadata": {
            "tags": []
          },
          "execution_count": 11
        }
      ]
    },
    {
      "cell_type": "code",
      "metadata": {
        "id": "KbeM0bJz-sDw",
        "colab_type": "code",
        "colab": {
          "base_uri": "https://localhost:8080/",
          "height": 54
        },
        "outputId": "9ac8eb1a-198b-4708-de2e-888157c6790b"
      },
      "source": [
        "#Lets just do a quick side by side of bayesian and frequentist\n",
        "\n",
        "#bayesian, We aren't going to just copy this from the class code. This thing returns\n",
        "#more than what we used, so I want to see what that is.\n",
        "ci_bayes = stats.bayes_mvs(df['education-num'], alpha = .95)\n",
        "\n",
        "print(ci_bayes)"
      ],
      "execution_count": 18,
      "outputs": [
        {
          "output_type": "stream",
          "text": [
            "(Mean(statistic=10.0806793403151, minmax=(10.0527355615954, 10.108623119034801)), Variance(statistic=6.6186866304165175, minmax=(6.517018218205304, 6.720355042627731)), Std_dev(statistic=2.5726808256012865, minmax=(2.55292159017661, 2.5924400610259632)))\n"
          ],
          "name": "stdout"
        }
      ]
    },
    {
      "cell_type": "code",
      "metadata": {
        "id": "jWFB7iGbKzTY",
        "colab_type": "code",
        "colab": {
          "base_uri": "https://localhost:8080/",
          "height": 34
        },
        "outputId": "dff513c3-3429-4c11-e40b-e7047b6e58d8"
      },
      "source": [
        "#okay returns the mean, with the minmax for our confidence interval, same for variance, and standard deviation\n",
        "#so to really make this a ci_bayes\n",
        "ci_bayes = ci_bayes[0][1]\n",
        "ci_bayes"
      ],
      "execution_count": 19,
      "outputs": [
        {
          "output_type": "execute_result",
          "data": {
            "text/plain": [
              "(10.0527355615954, 10.108623119034801)"
            ]
          },
          "metadata": {
            "tags": []
          },
          "execution_count": 19
        }
      ]
    },
    {
      "cell_type": "code",
      "metadata": {
        "id": "P7b93isoM14L",
        "colab_type": "code",
        "colab": {
          "base_uri": "https://localhost:8080/",
          "height": 34
        },
        "outputId": "0116068b-6455-4a86-8fd7-81e2553c3ee4"
      },
      "source": [
        "#lets grab our frequentist confidence interval\n",
        "ci_freq = stats.t.interval(0.95,                                   #Confidence level/ alpha\n",
        "                           df.shape[0],                            #length of sample\n",
        "                           loc = df['education-num'].mean(),       #sample mean\n",
        "                           scale = stats.sem(df['education-num'])) #std error of the mean\n",
        "\n",
        "ci_freq"
      ],
      "execution_count": 21,
      "outputs": [
        {
          "output_type": "execute_result",
          "data": {
            "text/plain": [
              "(10.052734093700373, 10.108624586929828)"
            ]
          },
          "metadata": {
            "tags": []
          },
          "execution_count": 21
        }
      ]
    },
    {
      "cell_type": "code",
      "metadata": {
        "id": "Op64l-erPsy2",
        "colab_type": "code",
        "colab": {
          "base_uri": "https://localhost:8080/",
          "height": 863
        },
        "outputId": "667c78b0-9384-45c0-e9a3-58978a8c5279"
      },
      "source": [
        "#okay I want to explore plotting a bit. We've done the KDE with vertical lines.  I wonder if a boxplot might be useful.\n",
        "#got it working for now, I'll pretty it up if I have time.\n",
        "fig, ax = plt.subplots(figsize = (15, 15))\n",
        "\n",
        "plt.boxplot([df['education-num'], df['education-num']], notch = True, conf_intervals = [ci_bayes, ci_freq])\n",
        "\n",
        "ax.set_xticklabels(labels = ['Bayesian', 'Frequentist']);\n"
      ],
      "execution_count": 52,
      "outputs": [
        {
          "output_type": "display_data",
          "data": {
            "image/png": "[encoded data removed]",
            "text/plain": [
              "<Figure size 1080x1080 with 1 Axes>"
            ]
          },
          "metadata": {
            "tags": []
          }
        }
      ]
    },
    {
      "cell_type": "markdown",
      "metadata": {
        "id": "oAioUhhUZLIK",
        "colab_type": "text"
      },
      "source": [
        "##Bayesian vs Frequentist approach##\n",
        "\n",
        "Probably the biggest difference that the Bayesian approach takes into account is the impact that our prior probabilities have on our current probability.  "
      ]
    },
    {
      "cell_type": "markdown",
      "metadata": {
        "id": "uWgWjp3PQ3Sq",
        "colab_type": "text"
      },
      "source": [
        "## Resources"
      ]
    },
    {
      "cell_type": "markdown",
      "metadata": {
        "id": "QRgHqmYIQ9qn",
        "colab_type": "text"
      },
      "source": [
        "- [Worked example of Bayes rule calculation](https://en.wikipedia.org/wiki/Bayes'_theorem#Examples) (helpful as it fully breaks out the denominator)\n",
        "- [Source code for mvsdist in scipy](https://github.com/scipy/scipy/blob/90534919e139d2a81c24bf08341734ff41a3db12/scipy/stats/morestats.py#L139)"
      ]
    },
    {
      "cell_type": "markdown",
      "metadata": {
        "id": "GP7Jv1XvwtkX",
        "colab_type": "text"
      },
      "source": [
        "## Stretch Goals:\n",
        "\n",
        "- Go back and study the content from Modules 1 & 2 to make sure that you're really comfortable with them.\n",
        "- Apply a Bayesian technique to a problem you previously worked (in an assignment or project work) on from a frequentist (standard) perspective\n",
        "- Check out [PyMC3](https://docs.pymc.io/) (note this goes beyond hypothesis tests into modeling) - read the guides and work through some examples\n",
        "- Take PyMC3 further - see if you can build something with it!"
      ]
    },
    {
      "cell_type": "code",
      "metadata": {
        "id": "iDi0eFr1x-v_",
        "colab_type": "code",
        "colab": {}
      },
      "source": [
        ""
      ],
      "execution_count": 0,
      "outputs": []
    }
  ]
}