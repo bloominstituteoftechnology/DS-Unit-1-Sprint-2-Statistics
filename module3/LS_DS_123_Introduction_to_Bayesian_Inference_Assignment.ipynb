{
  "nbformat": 4,
  "nbformat_minor": 0,
  "metadata": {
    "colab": {
      "name": "LS_DS_123_Introduction_to_Bayesian_Inference_Assignment.ipynb",
      "provenance": [],
      "include_colab_link": true
    },
    "kernelspec": {
      "name": "python3",
      "display_name": "Python 3"
    }
  },
  "cells": [
    {
      "cell_type": "markdown",
      "metadata": {
        "id": "view-in-github",
        "colab_type": "text"
      },
      "source": [
        "<a href=\"https://colab.research.google.com/github/alex-pakalniskis/DS-Unit-1-Sprint-2-Statistics/blob/master/module3/LS_DS_123_Introduction_to_Bayesian_Inference_Assignment.ipynb\" target=\"_parent\"><img src=\"https://colab.research.google.com/assets/colab-badge.svg\" alt=\"Open In Colab\"/></a>"
      ]
    },
    {
      "cell_type": "markdown",
      "metadata": {
        "id": "H7OLbevlbd_Z",
        "colab_type": "text"
      },
      "source": [
        "# Lambda School Data Science Module 123\n",
        "\n",
        "## Introduction to Bayesian Inference\n",
        "\n",
        "\n"
      ]
    },
    {
      "cell_type": "markdown",
      "metadata": {
        "id": "P-DzzRk5bf0z",
        "colab_type": "text"
      },
      "source": [
        "## Assignment - Code it up!\n",
        "\n",
        "We used pure math to apply Bayes Theorem to drug tests. Now write Python code to reproduce the results! This is purposefully open ended - you'll have to think about how you should represent probabilities and events. You can and should look things up.\n",
        "\n",
        "Specific goals/targets:\n",
        "\n",
        "### 1) Write a function \n",
        "\n",
        "`def prob_drunk_given_positive(prob_drunk_prior, false_positive_rate):` \n",
        "\n",
        "You should only truly need these two values in order to apply Bayes Theorem. In this example, imagine that individuals are taking a breathalyzer test with an 8% false positive rate, a 100% true positive rate, and that our prior belief about drunk driving in the population is 1/1000. \n",
        " - What is the probability that a person is drunk after one positive breathalyzer test?\n",
        " \n",
        "\n",
        "\n"
      ]
    },
    {
      "cell_type": "code",
      "metadata": {
        "id": "xpVhZyUnbf7o",
        "colab_type": "code",
        "colab": {}
      },
      "source": [
        "# TODO - code!"
      ],
      "execution_count": 0,
      "outputs": []
    },
    {
      "cell_type": "code",
      "metadata": {
        "id": "pCXYCo_e9r07",
        "colab_type": "code",
        "colab": {}
      },
      "source": [
        "def prob_drunk_given_positive(prob_drunk_prior, false_positive_rate, true_positive_rate):\n",
        "  return (true_positive_rate * prob_drunk_prior) / ((true_positive_rate * prob_drunk_prior) + (false_positive_rate * (1 - prob_drunk_prior)))"
      ],
      "execution_count": 0,
      "outputs": []
    },
    {
      "cell_type": "code",
      "metadata": {
        "id": "JLRElAx09r50",
        "colab_type": "code",
        "colab": {
          "base_uri": "https://localhost:8080/",
          "height": 35
        },
        "outputId": "0d3925a8-df23-4355-b79e-03e09e7fc0a2"
      },
      "source": [
        "probability_a_person_is_drunk_after_one_positive_breathalyzer_test = prob_drunk_given_positive(prob_drunk_prior=1/1000, \n",
        "                                                                                               \n",
        "                                                                                               false_positive_rate=0.08, \n",
        "                                                                                               \n",
        "                                                                                               true_positive_rate=1.0)\n",
        "\n",
        "probability_a_person_is_drunk_after_one_positive_breathalyzer_test"
      ],
      "execution_count": 4,
      "outputs": [
        {
          "output_type": "execute_result",
          "data": {
            "text/plain": [
              "0.012357884330202669"
            ]
          },
          "metadata": {
            "tags": []
          },
          "execution_count": 4
        }
      ]
    },
    {
      "cell_type": "markdown",
      "metadata": {
        "id": "vfMkk_Px_n5_",
        "colab_type": "text"
      },
      "source": [
        "- What is the probability that a person is drunk after two positive breathalyzer tests?\n",
        " "
      ]
    },
    {
      "cell_type": "code",
      "metadata": {
        "id": "IdStkAZq9sDX",
        "colab_type": "code",
        "colab": {
          "base_uri": "https://localhost:8080/",
          "height": 35
        },
        "outputId": "9d425eab-2a00-4e58-d4de-8ff23c30ef27"
      },
      "source": [
        "probability_a_person_is_drunk_after_two_positive_breathalyzer_tests = prob_drunk_given_positive(prob_drunk_prior=probability_a_person_is_drunk_after_one_positive_breathalyzer_test, \n",
        "                                                                                                \n",
        "                                                                                                false_positive_rate=0.08, \n",
        "                                                                                                \n",
        "                                                                                                true_positive_rate=1.0)\n",
        "\n",
        "probability_a_person_is_drunk_after_two_positive_breathalyzer_tests"
      ],
      "execution_count": 5,
      "outputs": [
        {
          "output_type": "execute_result",
          "data": {
            "text/plain": [
              "0.13525210993291495"
            ]
          },
          "metadata": {
            "tags": []
          },
          "execution_count": 5
        }
      ]
    },
    {
      "cell_type": "markdown",
      "metadata": {
        "id": "6dO_Pd5O_qMR",
        "colab_type": "text"
      },
      "source": [
        "- How many positive breathalyzer tests are needed in order to have a probability that's greater than 95% that a person is drunk beyond the legal limit?"
      ]
    },
    {
      "cell_type": "code",
      "metadata": {
        "id": "3gMsJw59AVsv",
        "colab_type": "code",
        "colab": {
          "base_uri": "https://localhost:8080/",
          "height": 35
        },
        "outputId": "f75cf6ca-b91a-448f-9936-aa93f47babc4"
      },
      "source": [
        "probability_a_person_is_drunk_after_three_positive_breathalyzer_tests = prob_drunk_given_positive(prob_drunk_prior=probability_a_person_is_drunk_after_two_positive_breathalyzer_tests, \n",
        "                                                                                                \n",
        "                                                                                                false_positive_rate=0.08, \n",
        "                                                                                                \n",
        "                                                                                                true_positive_rate=1.0)\n",
        "\n",
        "probability_a_person_is_drunk_after_three_positive_breathalyzer_tests"
      ],
      "execution_count": 6,
      "outputs": [
        {
          "output_type": "execute_result",
          "data": {
            "text/plain": [
              "0.6615996951348605"
            ]
          },
          "metadata": {
            "tags": []
          },
          "execution_count": 6
        }
      ]
    },
    {
      "cell_type": "code",
      "metadata": {
        "id": "L29O8Y1pAVx0",
        "colab_type": "code",
        "colab": {
          "base_uri": "https://localhost:8080/",
          "height": 35
        },
        "outputId": "65592754-5bba-4819-ba68-4e08ab062e29"
      },
      "source": [
        "probability_a_person_is_drunk_after_four_positive_breathalyzer_tests = prob_drunk_given_positive(prob_drunk_prior=probability_a_person_is_drunk_after_three_positive_breathalyzer_tests, \n",
        "                                                                                                \n",
        "                                                                                                false_positive_rate=0.08, \n",
        "                                                                                                \n",
        "                                                                                                true_positive_rate=1.0)\n",
        "\n",
        "probability_a_person_is_drunk_after_four_positive_breathalyzer_tests"
      ],
      "execution_count": 7,
      "outputs": [
        {
          "output_type": "execute_result",
          "data": {
            "text/plain": [
              "0.9606895076105054"
            ]
          },
          "metadata": {
            "tags": []
          },
          "execution_count": 7
        }
      ]
    },
    {
      "cell_type": "markdown",
      "metadata": {
        "id": "GPlUX2LrAkV5",
        "colab_type": "text"
      },
      "source": [
        "Four positive breathalyzer tests are required to have a probability greater than 95% that a person is drunk beyond the legal limit."
      ]
    },
    {
      "cell_type": "markdown",
      "metadata": {
        "id": "pm_EIUDL9ci1",
        "colab_type": "text"
      },
      "source": [
        "### 2) Explore `scipy.stats.bayes_mvs`  \n",
        "Read its documentation, and experiment with it on data you've tested in other ways earlier this week.\n",
        " - Create a visualization comparing the results of a Bayesian approach to a traditional/frequentist approach. (with a large sample size they should look close to identical, however, take this opportunity to practice visualizing condfidence intervals in general. The following are some potential ways that you could visualize confidence intervals on your graph:\n",
        "  - [Matplotlib Error Bars](https://matplotlib.org/3.1.1/api/_as_gen/matplotlib.pyplot.errorbar.html)\n",
        "  - [Seaborn barplot with error bars](https://seaborn.pydata.org/generated/seaborn.barplot.html)\n",
        "  - [Vertical ines to show bounds of confidence interval](https://www.simplypsychology.org/confidence-interval.jpg)\n",
        "  - [Confidence Intervals on Box Plots](https://matplotlib.org/3.1.1/api/_as_gen/matplotlib.axes.Axes.boxplot.html)\n",
        "\n"
      ]
    },
    {
      "cell_type": "code",
      "metadata": {
        "id": "aU6ZOC7v9fpA",
        "colab_type": "code",
        "colab": {}
      },
      "source": [
        "# TODO - code!"
      ],
      "execution_count": 0,
      "outputs": []
    },
    {
      "cell_type": "code",
      "metadata": {
        "id": "brDVqh5eC_1F",
        "colab_type": "code",
        "colab": {}
      },
      "source": [
        "import pandas as pd\n",
        "\n",
        "import numpy as np\n",
        "\n",
        "from scipy import stats\n",
        "\n",
        "import matplotlib.pyplot as plt"
      ],
      "execution_count": 0,
      "outputs": []
    },
    {
      "cell_type": "code",
      "metadata": {
        "id": "ECRsw90OC_6M",
        "colab_type": "code",
        "colab": {
          "base_uri": "https://localhost:8080/",
          "height": 233
        },
        "outputId": "52cfc637-f6c6-446a-f9de-b3e19feb1c38"
      },
      "source": [
        "data_url = \"https://archive.ics.uci.edu/ml/machine-learning-databases/voting-records/house-votes-84.data\"\n",
        "\n",
        "data_headers = ['party','handicapped-infants','water-project',\n",
        "                          'budget','physician-fee-freeze', 'el-salvador-aid',\n",
        "                          'religious-groups','anti-satellite-ban',\n",
        "                          'aid-to-contras','mx-missile','immigration',\n",
        "                          'synfuels', 'education', 'right-to-sue','crime','duty-free',\n",
        "                          'south-africa']\n",
        "\n",
        "df = pd.read_csv(data_url, names=data_headers)\n",
        "df = df.replace({\"y\":1,\"n\":0,\"?\":np.NaN})\n",
        "republicans = df[df[\"party\"] == \"republican\"]\n",
        "republicans.head()"
      ],
      "execution_count": 17,
      "outputs": [
        {
          "output_type": "execute_result",
          "data": {
            "text/html": [
              "<div>\n",
              "<style scoped>\n",
              "    .dataframe tbody tr th:only-of-type {\n",
              "        vertical-align: middle;\n",
              "    }\n",
              "\n",
              "    .dataframe tbody tr th {\n",
              "        vertical-align: top;\n",
              "    }\n",
              "\n",
              "    .dataframe thead th {\n",
              "        text-align: right;\n",
              "    }\n",
              "</style>\n",
              "<table border=\"1\" class=\"dataframe\">\n",
              "  <thead>\n",
              "    <tr style=\"text-align: right;\">\n",
              "      <th></th>\n",
              "      <th>party</th>\n",
              "      <th>handicapped-infants</th>\n",
              "      <th>water-project</th>\n",
              "      <th>budget</th>\n",
              "      <th>physician-fee-freeze</th>\n",
              "      <th>el-salvador-aid</th>\n",
              "      <th>religious-groups</th>\n",
              "      <th>anti-satellite-ban</th>\n",
              "      <th>aid-to-contras</th>\n",
              "      <th>mx-missile</th>\n",
              "      <th>immigration</th>\n",
              "      <th>synfuels</th>\n",
              "      <th>education</th>\n",
              "      <th>right-to-sue</th>\n",
              "      <th>crime</th>\n",
              "      <th>duty-free</th>\n",
              "      <th>south-africa</th>\n",
              "    </tr>\n",
              "  </thead>\n",
              "  <tbody>\n",
              "    <tr>\n",
              "      <th>0</th>\n",
              "      <td>republican</td>\n",
              "      <td>0.0</td>\n",
              "      <td>1.0</td>\n",
              "      <td>0.0</td>\n",
              "      <td>1.0</td>\n",
              "      <td>1.0</td>\n",
              "      <td>1.0</td>\n",
              "      <td>0.0</td>\n",
              "      <td>0.0</td>\n",
              "      <td>0.0</td>\n",
              "      <td>1.0</td>\n",
              "      <td>NaN</td>\n",
              "      <td>1.0</td>\n",
              "      <td>1.0</td>\n",
              "      <td>1.0</td>\n",
              "      <td>0.0</td>\n",
              "      <td>1.0</td>\n",
              "    </tr>\n",
              "    <tr>\n",
              "      <th>1</th>\n",
              "      <td>republican</td>\n",
              "      <td>0.0</td>\n",
              "      <td>1.0</td>\n",
              "      <td>0.0</td>\n",
              "      <td>1.0</td>\n",
              "      <td>1.0</td>\n",
              "      <td>1.0</td>\n",
              "      <td>0.0</td>\n",
              "      <td>0.0</td>\n",
              "      <td>0.0</td>\n",
              "      <td>0.0</td>\n",
              "      <td>0.0</td>\n",
              "      <td>1.0</td>\n",
              "      <td>1.0</td>\n",
              "      <td>1.0</td>\n",
              "      <td>0.0</td>\n",
              "      <td>NaN</td>\n",
              "    </tr>\n",
              "    <tr>\n",
              "      <th>7</th>\n",
              "      <td>republican</td>\n",
              "      <td>0.0</td>\n",
              "      <td>1.0</td>\n",
              "      <td>0.0</td>\n",
              "      <td>1.0</td>\n",
              "      <td>1.0</td>\n",
              "      <td>1.0</td>\n",
              "      <td>0.0</td>\n",
              "      <td>0.0</td>\n",
              "      <td>0.0</td>\n",
              "      <td>0.0</td>\n",
              "      <td>0.0</td>\n",
              "      <td>0.0</td>\n",
              "      <td>1.0</td>\n",
              "      <td>1.0</td>\n",
              "      <td>NaN</td>\n",
              "      <td>1.0</td>\n",
              "    </tr>\n",
              "    <tr>\n",
              "      <th>8</th>\n",
              "      <td>republican</td>\n",
              "      <td>0.0</td>\n",
              "      <td>1.0</td>\n",
              "      <td>0.0</td>\n",
              "      <td>1.0</td>\n",
              "      <td>1.0</td>\n",
              "      <td>1.0</td>\n",
              "      <td>0.0</td>\n",
              "      <td>0.0</td>\n",
              "      <td>0.0</td>\n",
              "      <td>0.0</td>\n",
              "      <td>0.0</td>\n",
              "      <td>1.0</td>\n",
              "      <td>1.0</td>\n",
              "      <td>1.0</td>\n",
              "      <td>0.0</td>\n",
              "      <td>1.0</td>\n",
              "    </tr>\n",
              "    <tr>\n",
              "      <th>10</th>\n",
              "      <td>republican</td>\n",
              "      <td>0.0</td>\n",
              "      <td>1.0</td>\n",
              "      <td>0.0</td>\n",
              "      <td>1.0</td>\n",
              "      <td>1.0</td>\n",
              "      <td>0.0</td>\n",
              "      <td>0.0</td>\n",
              "      <td>0.0</td>\n",
              "      <td>0.0</td>\n",
              "      <td>0.0</td>\n",
              "      <td>NaN</td>\n",
              "      <td>NaN</td>\n",
              "      <td>1.0</td>\n",
              "      <td>1.0</td>\n",
              "      <td>0.0</td>\n",
              "      <td>0.0</td>\n",
              "    </tr>\n",
              "  </tbody>\n",
              "</table>\n",
              "</div>"
            ],
            "text/plain": [
              "         party  handicapped-infants  ...  duty-free  south-africa\n",
              "0   republican                  0.0  ...        0.0           1.0\n",
              "1   republican                  0.0  ...        0.0           NaN\n",
              "7   republican                  0.0  ...        NaN           1.0\n",
              "8   republican                  0.0  ...        0.0           1.0\n",
              "10  republican                  0.0  ...        0.0           0.0\n",
              "\n",
              "[5 rows x 17 columns]"
            ]
          },
          "metadata": {
            "tags": []
          },
          "execution_count": 17
        }
      ]
    },
    {
      "cell_type": "markdown",
      "metadata": {
        "id": "Dzl-TmtsDdJb",
        "colab_type": "text"
      },
      "source": [
        "Generate random sample of republican votes for the \"aid-to-contras\" issue"
      ]
    },
    {
      "cell_type": "code",
      "metadata": {
        "id": "AKgHwShSDcgI",
        "colab_type": "code",
        "colab": {}
      },
      "source": [
        "republican_sample = republicans[\"aid-to-contras\"].sample(frac=0.2)"
      ],
      "execution_count": 0,
      "outputs": []
    },
    {
      "cell_type": "code",
      "metadata": {
        "id": "-gcOZz_VQzUi",
        "colab_type": "code",
        "colab": {
          "base_uri": "https://localhost:8080/",
          "height": 35
        },
        "outputId": "617ad96b-ebb5-4c6f-b293-bca1dd7b0667"
      },
      "source": [
        "len(republican_sample)"
      ],
      "execution_count": 84,
      "outputs": [
        {
          "output_type": "execute_result",
          "data": {
            "text/plain": [
              "34"
            ]
          },
          "metadata": {
            "tags": []
          },
          "execution_count": 84
        }
      ]
    },
    {
      "cell_type": "markdown",
      "metadata": {
        "id": "GhatweXLKnFz",
        "colab_type": "text"
      },
      "source": [
        "Use functions to calculate confidence intervals"
      ]
    },
    {
      "cell_type": "code",
      "metadata": {
        "id": "ZZphVnlGC__Y",
        "colab_type": "code",
        "colab": {}
      },
      "source": [
        "def frequentist_confidence_interval(sample, confidence=0.95):\n",
        "  \"\"\"\n",
        "  Calculate a confidence interval around a sample mean for given data.\n",
        "  Using t-distribution and two-tailed test, default 95% confidence. \n",
        "  \n",
        "  Arguments:\n",
        "    sample - iterable (list or numpy array) of sample observations\n",
        "    confidence - level of confidence for the interval\n",
        "  \n",
        "  Returns:\n",
        "    tuple of (lower bound, mean, upper bound)\n",
        "  \"\"\"\n",
        "  # Broadcast to NumPy array\n",
        "  sample = np.array(sample)\n",
        "  # Remove NaN values\n",
        "  sample = sample[~np.isnan(sample)]\n",
        "  # Sample mean\n",
        "  mean = np.mean(sample)\n",
        "  # Sample size\n",
        "  n = len(sample)\n",
        "  # Standard error\n",
        "  stderr = np.std(sample, ddof=1) / np.sqrt(n)\n",
        "  # T-statistic that contains 95% of possible sample means within its bounds\n",
        "  t = stats.t.ppf((1 + confidence) / 2.0, n-1)\n",
        "  # Margin of error \n",
        "  margin_of_error = t * stderr\n",
        "  return mean - margin_of_error, mean, mean + margin_of_error"
      ],
      "execution_count": 0,
      "outputs": []
    },
    {
      "cell_type": "code",
      "metadata": {
        "id": "XUEbZkaCDAD6",
        "colab_type": "code",
        "colab": {
          "base_uri": "https://localhost:8080/",
          "height": 35
        },
        "outputId": "32b221fb-ff14-4a12-a716-d0ba7a3d5ae6"
      },
      "source": [
        "frequentist_confidence_interval(republican_sample)"
      ],
      "execution_count": 23,
      "outputs": [
        {
          "output_type": "execute_result",
          "data": {
            "text/plain": [
              "(0.0038552050900188956, 0.125, 0.2461447949099811)"
            ]
          },
          "metadata": {
            "tags": []
          },
          "execution_count": 23
        }
      ]
    },
    {
      "cell_type": "code",
      "metadata": {
        "id": "SmUroiZALSGC",
        "colab_type": "code",
        "colab": {}
      },
      "source": [
        "def bayesian_confidence_interval(sample, confidence=0.95):\n",
        "  \"\"\"\n",
        "  Calculate a Bayesian confidence interval around a sample mean for given data.\n",
        "  \n",
        "  Arguments:\n",
        "    sample - iterable (list or numpy array) of sample observations\n",
        "    confidence - level of confidence for the interval\n",
        "  \n",
        "  Returns:\n",
        "    tuple of (mean, (lower bound, upper bound))\n",
        "  \"\"\"\n",
        "  # Broadcast to NumPy array\n",
        "  sample = np.array(sample)\n",
        "  # Remove NaN values\n",
        "  sample = sample[~np.isnan(sample)]\n",
        "  # Calculate bayesian confidence interval\n",
        "  results = stats.bayes_mvs(sample, alpha=confidence)[0]\n",
        "  # Slice results to match tuple produced by frequentist_confidence_interval function\n",
        "  return results[1][0], results[0], results[1][1]\n"
      ],
      "execution_count": 0,
      "outputs": []
    },
    {
      "cell_type": "code",
      "metadata": {
        "id": "X3YCLyaoKvVi",
        "colab_type": "code",
        "colab": {
          "base_uri": "https://localhost:8080/",
          "height": 35
        },
        "outputId": "937b8c06-16ed-4615-abbf-ffcf17d4357a"
      },
      "source": [
        "bayesian_confidence_interval(republican_sample)"
      ],
      "execution_count": 44,
      "outputs": [
        {
          "output_type": "execute_result",
          "data": {
            "text/plain": [
              "(0.0038552050900188817, 0.125, 0.24614479490998112)"
            ]
          },
          "metadata": {
            "tags": []
          },
          "execution_count": 44
        }
      ]
    },
    {
      "cell_type": "markdown",
      "metadata": {
        "id": "vTDWIsw5OYiO",
        "colab_type": "text"
      },
      "source": [
        "Plot results comparing frequentist and Bayesian approaches"
      ]
    },
    {
      "cell_type": "code",
      "metadata": {
        "id": "FIFEFxGDKvYs",
        "colab_type": "code",
        "colab": {
          "base_uri": "https://localhost:8080/",
          "height": 355
        },
        "outputId": "31f93d53-61e3-4596-91f5-5e3b750f08ba"
      },
      "source": [
        "fig, ax = plt.subplots(1,2, figsize=(10,4))\n",
        "\n",
        "republican_sample.plot.density(color=\"red\", ax=ax[0])\n",
        "republican_sample.plot.density(color=\"red\", ax=ax[1])\n",
        "\n",
        "plt.suptitle(\"Republican 'Aid to Contras' Bill Voting Sample\", size=\"xx-large\", y=1.05)\n",
        "\n",
        "ax[0].set_title(\"Frequentist Approach\")\n",
        "ax[0].axvline(x=frequentist_confidence_interval(republican_sample)[0], color='gray')\n",
        "ax[0].axvline(x=frequentist_confidence_interval(republican_sample)[1], color='black')\n",
        "ax[0].axvline(x=frequentist_confidence_interval(republican_sample)[2], color='gray')\n",
        "\n",
        "ax[1].set_title(\"Bayesian Approach\")\n",
        "ax[1].axvline(x=bayesian_confidence_interval(republican_sample)[0], color='gray')\n",
        "ax[1].axvline(x=bayesian_confidence_interval(republican_sample)[1], color='black')\n",
        "ax[1].axvline(x=bayesian_confidence_interval(republican_sample)[2], color='gray')\n",
        "\n",
        "## Remove figure spines\n",
        "ax[0].spines['right'].set_visible(False)\n",
        "ax[0].spines['top'].set_visible(False)\n",
        "ax[0].spines['bottom'].set_visible(False)\n",
        "ax[0].spines['left'].set_visible(False)\n",
        "\n",
        "ax[1].spines['right'].set_visible(False)\n",
        "ax[1].spines['top'].set_visible(False)\n",
        "ax[1].spines['bottom'].set_visible(False)\n",
        "ax[1].spines['left'].set_visible(False)\n",
        "\n",
        "## Remove select tick marks and axis labels\n",
        "ax[0].tick_params(bottom=\"off\", left=\"off\")\n",
        "ax[1].set_yticks([])\n",
        "ax[1].set_ylabel(\"\")\n",
        "ax[0].set_ylabel(\"Density\",color=\"gray\")\n",
        "\n",
        "plt.text(ha=\"center\",x=1,y=0.65, s=\"n=\"+str(len(republican_sample)), transform=ax[0].transAxes, size=\"xx-large\", color=\"gray\")\n",
        "\n",
        "plt.text(ha=\"center\",x=1,y=-0.25, s=\"Figure by Alex Pakalniskis\", transform=ax[0].transAxes, size=\"x-large\", color=\"gray\")\n",
        "\n",
        "plt.show()"
      ],
      "execution_count": 117,
      "outputs": [
        {
          "output_type": "display_data",
          "data": {
            "image/png": "[encoded data removed]",
            "text/plain": [
              "<Figure size 720x288 with 2 Axes>"
            ]
          },
          "metadata": {
            "tags": []
          }
        }
      ]
    },
    {
      "cell_type": "markdown",
      "metadata": {
        "id": "6T0UWdny9gH_",
        "colab_type": "text"
      },
      "source": [
        "### 3) In your own words, summarize the difference between Bayesian and Frequentist statistics\n",
        "\n",
        "If you're unsure where to start, check out [this blog post of Bayes theorem with Python](https://dataconomy.com/2015/02/introduction-to-bayes-theorem-with-python/).\n",
        "\n",
        "\n"
      ]
    },
    {
      "cell_type": "markdown",
      "metadata": {
        "id": "-Oyf2DkC9i7A",
        "colab_type": "text"
      },
      "source": [
        "Response: Frequentist and Bayesian schools of thought differ in how they view probability. Frequentist don't assign prior probabilities to events, instead relying on repeated observation of event frequencies (sample data) to drive inferences. Bayesians posit a prior probability (ideally informed by earlier research) to events, then update likelihoods according to sample data.  "
      ]
    },
    {
      "cell_type": "markdown",
      "metadata": {
        "id": "uWgWjp3PQ3Sq",
        "colab_type": "text"
      },
      "source": [
        "## Resources"
      ]
    },
    {
      "cell_type": "markdown",
      "metadata": {
        "id": "QRgHqmYIQ9qn",
        "colab_type": "text"
      },
      "source": [
        "- [Worked example of Bayes rule calculation](https://en.wikipedia.org/wiki/Bayes'_theorem#Examples) (helpful as it fully breaks out the denominator)\n",
        "- [Source code for mvsdist in scipy](https://github.com/scipy/scipy/blob/90534919e139d2a81c24bf08341734ff41a3db12/scipy/stats/morestats.py#L139)"
      ]
    },
    {
      "cell_type": "markdown",
      "metadata": {
        "id": "GP7Jv1XvwtkX",
        "colab_type": "text"
      },
      "source": [
        "## Stretch Goals:\n",
        "\n",
        "- Go back and study the content from Modules 1 & 2 to make sure that you're really comfortable with them.\n",
        "- Apply a Bayesian technique to a problem you previously worked (in an assignment or project work) on from a frequentist (standard) perspective\n",
        "- Check out [PyMC3](https://docs.pymc.io/) (note this goes beyond hypothesis tests into modeling) - read the guides and work through some examples\n",
        "- Take PyMC3 further - see if you can build something with it!"
      ]
    },
    {
      "cell_type": "code",
      "metadata": {
        "id": "iDi0eFr1x-v_",
        "colab_type": "code",
        "colab": {}
      },
      "source": [
        "def sample_confidence_intervals(pandas_series, sample_size, confidence=0.95):\n",
        "  # Sample the input Series\n",
        "  sample = pandas_series.sample(int(sample_size))\n",
        "# Broadcast to NumPy array\n",
        "  sample = np.array(sample)\n",
        "  # Remove NaN values\n",
        "  sample = sample[~np.isnan(sample)]\n",
        "  # Sample mean\n",
        "  mean = np.mean(sample)\n",
        "  # Sample size\n",
        "  n = len(sample)\n",
        "  # Standard error\n",
        "  stderr = np.std(sample, ddof=1) / np.sqrt(n)\n",
        "  # T-statistic that contains 95% of possible sample means within its bounds\n",
        "  t = stats.t.ppf((1 + confidence) / 2.0, n-1)\n",
        "  # Frequentist \n",
        "  f_margin_of_error = t * stderr\n",
        "  # Bayesian\n",
        "  bayes_results = stats.bayes_mvs(sample, alpha=confidence)[0]\n",
        "  # Slice results to match tuple produced by frequentist_confidence_interval function\n",
        "  confidence_interval_results =  mean, f_margin_of_error, bayes_results[0], bayes_results[1][1]-bayes_results[0]\n",
        "  return confidence_interval_results"
      ],
      "execution_count": 0,
      "outputs": []
    },
    {
      "cell_type": "code",
      "metadata": {
        "id": "TqxlFJVvdzZQ",
        "colab_type": "code",
        "colab": {
          "base_uri": "https://localhost:8080/",
          "height": 90
        },
        "outputId": "e541f673-3e02-4b32-a770-5f77bbe6aecc"
      },
      "source": [
        "sample_confidence_intervals(republicans[\"aid-to-contras\"], 50)"
      ],
      "execution_count": 145,
      "outputs": [
        {
          "output_type": "execute_result",
          "data": {
            "text/plain": [
              "(0.1276595744680851,\n",
              " 0.0990403187252286,\n",
              " 0.1276595744680851,\n",
              " 0.09904031872522859)"
            ]
          },
          "metadata": {
            "tags": []
          },
          "execution_count": 145
        }
      ]
    },
    {
      "cell_type": "code",
      "metadata": {
        "id": "pKhu-D1Je62X",
        "colab_type": "code",
        "colab": {
          "base_uri": "https://localhost:8080/",
          "height": 308
        },
        "outputId": "55f0f0ce-f689-4f1e-febf-c8616c95af4f"
      },
      "source": [
        "issues = df.drop([\"party\"], axis=1).columns.tolist()\n",
        "issues"
      ],
      "execution_count": 142,
      "outputs": [
        {
          "output_type": "execute_result",
          "data": {
            "text/plain": [
              "['handicapped-infants',\n",
              " 'water-project',\n",
              " 'budget',\n",
              " 'physician-fee-freeze',\n",
              " 'el-salvador-aid',\n",
              " 'religious-groups',\n",
              " 'anti-satellite-ban',\n",
              " 'aid-to-contras',\n",
              " 'mx-missile',\n",
              " 'immigration',\n",
              " 'synfuels',\n",
              " 'education',\n",
              " 'right-to-sue',\n",
              " 'crime',\n",
              " 'duty-free',\n",
              " 'south-africa']"
            ]
          },
          "metadata": {
            "tags": []
          },
          "execution_count": 142
        }
      ]
    },
    {
      "cell_type": "code",
      "metadata": {
        "id": "9FB4r_y2eI52",
        "colab_type": "code",
        "colab": {
          "base_uri": "https://localhost:8080/",
          "height": 528
        },
        "outputId": "22a46443-e33e-4a87-dd0c-1862a9249646"
      },
      "source": [
        "republicans_CI = []\n",
        "\n",
        "for i in range(len(issues)):\n",
        "  \n",
        "  republicans_CI.append(sample_confidence_intervals(republicans[issues[i]], \n",
        "                                    \n",
        "                                                    len(republicans)*0.25))\n",
        "\n",
        "republicans_confidence_intervals_df = pd.DataFrame(republicans_CI, \n",
        "                                                    \n",
        "                                                   columns=[\"Frequentist Mean\",\n",
        "                                                             \n",
        "                                                            \"Frequentist Margin of Error\", \n",
        "                                                            \n",
        "                                                            \"Bayesian Mean\", \n",
        "                                                            \n",
        "                                                            \"Bayesian Margin of Error\"])\n",
        "  \n",
        "republicans_confidence_intervals_df[\"issue\"] = pd.Series(issues)\n",
        "\n",
        "republicans_confidence_intervals_df[\"party\"] = \"Republican\"\n",
        "\n",
        "  \n",
        "republicans_confidence_intervals_df"
      ],
      "execution_count": 143,
      "outputs": [
        {
          "output_type": "execute_result",
          "data": {
            "text/html": [
              "<div>\n",
              "<style scoped>\n",
              "    .dataframe tbody tr th:only-of-type {\n",
              "        vertical-align: middle;\n",
              "    }\n",
              "\n",
              "    .dataframe tbody tr th {\n",
              "        vertical-align: top;\n",
              "    }\n",
              "\n",
              "    .dataframe thead th {\n",
              "        text-align: right;\n",
              "    }\n",
              "</style>\n",
              "<table border=\"1\" class=\"dataframe\">\n",
              "  <thead>\n",
              "    <tr style=\"text-align: right;\">\n",
              "      <th></th>\n",
              "      <th>Frequentist Mean</th>\n",
              "      <th>Frequentist Margin of Error</th>\n",
              "      <th>Bayesian Mean</th>\n",
              "      <th>Bayesian Margin of Error</th>\n",
              "      <th>issue</th>\n",
              "      <th>party</th>\n",
              "    </tr>\n",
              "  </thead>\n",
              "  <tbody>\n",
              "    <tr>\n",
              "      <th>0</th>\n",
              "      <td>0.268293</td>\n",
              "      <td>0.141588</td>\n",
              "      <td>0.268293</td>\n",
              "      <td>0.141588</td>\n",
              "      <td>handicapped-infants</td>\n",
              "      <td>Republican</td>\n",
              "    </tr>\n",
              "    <tr>\n",
              "      <th>1</th>\n",
              "      <td>0.594595</td>\n",
              "      <td>0.165956</td>\n",
              "      <td>0.594595</td>\n",
              "      <td>0.165956</td>\n",
              "      <td>water-project</td>\n",
              "      <td>Republican</td>\n",
              "    </tr>\n",
              "    <tr>\n",
              "      <th>2</th>\n",
              "      <td>0.073171</td>\n",
              "      <td>0.083219</td>\n",
              "      <td>0.073171</td>\n",
              "      <td>0.083219</td>\n",
              "      <td>budget</td>\n",
              "      <td>Republican</td>\n",
              "    </tr>\n",
              "    <tr>\n",
              "      <th>3</th>\n",
              "      <td>0.976190</td>\n",
              "      <td>0.048084</td>\n",
              "      <td>0.976190</td>\n",
              "      <td>0.048084</td>\n",
              "      <td>physician-fee-freeze</td>\n",
              "      <td>Republican</td>\n",
              "    </tr>\n",
              "    <tr>\n",
              "      <th>4</th>\n",
              "      <td>0.902439</td>\n",
              "      <td>0.094820</td>\n",
              "      <td>0.902439</td>\n",
              "      <td>0.094820</td>\n",
              "      <td>el-salvador-aid</td>\n",
              "      <td>Republican</td>\n",
              "    </tr>\n",
              "    <tr>\n",
              "      <th>5</th>\n",
              "      <td>0.928571</td>\n",
              "      <td>0.081228</td>\n",
              "      <td>0.928571</td>\n",
              "      <td>0.081228</td>\n",
              "      <td>religious-groups</td>\n",
              "      <td>Republican</td>\n",
              "    </tr>\n",
              "    <tr>\n",
              "      <th>6</th>\n",
              "      <td>0.268293</td>\n",
              "      <td>0.141588</td>\n",
              "      <td>0.268293</td>\n",
              "      <td>0.141588</td>\n",
              "      <td>anti-satellite-ban</td>\n",
              "      <td>Republican</td>\n",
              "    </tr>\n",
              "    <tr>\n",
              "      <th>7</th>\n",
              "      <td>0.210526</td>\n",
              "      <td>0.135801</td>\n",
              "      <td>0.210526</td>\n",
              "      <td>0.135801</td>\n",
              "      <td>aid-to-contras</td>\n",
              "      <td>Republican</td>\n",
              "    </tr>\n",
              "    <tr>\n",
              "      <th>8</th>\n",
              "      <td>0.119048</td>\n",
              "      <td>0.102140</td>\n",
              "      <td>0.119048</td>\n",
              "      <td>0.102140</td>\n",
              "      <td>mx-missile</td>\n",
              "      <td>Republican</td>\n",
              "    </tr>\n",
              "    <tr>\n",
              "      <th>9</th>\n",
              "      <td>0.536585</td>\n",
              "      <td>0.159352</td>\n",
              "      <td>0.536585</td>\n",
              "      <td>0.159352</td>\n",
              "      <td>immigration</td>\n",
              "      <td>Republican</td>\n",
              "    </tr>\n",
              "    <tr>\n",
              "      <th>10</th>\n",
              "      <td>0.078947</td>\n",
              "      <td>0.089824</td>\n",
              "      <td>0.078947</td>\n",
              "      <td>0.089824</td>\n",
              "      <td>synfuels</td>\n",
              "      <td>Republican</td>\n",
              "    </tr>\n",
              "    <tr>\n",
              "      <th>11</th>\n",
              "      <td>0.820513</td>\n",
              "      <td>0.126027</td>\n",
              "      <td>0.820513</td>\n",
              "      <td>0.126027</td>\n",
              "      <td>education</td>\n",
              "      <td>Republican</td>\n",
              "    </tr>\n",
              "    <tr>\n",
              "      <th>12</th>\n",
              "      <td>0.951220</td>\n",
              "      <td>0.068836</td>\n",
              "      <td>0.951220</td>\n",
              "      <td>0.068836</td>\n",
              "      <td>right-to-sue</td>\n",
              "      <td>Republican</td>\n",
              "    </tr>\n",
              "    <tr>\n",
              "      <th>13</th>\n",
              "      <td>0.947368</td>\n",
              "      <td>0.074381</td>\n",
              "      <td>0.947368</td>\n",
              "      <td>0.074381</td>\n",
              "      <td>crime</td>\n",
              "      <td>Republican</td>\n",
              "    </tr>\n",
              "    <tr>\n",
              "      <th>14</th>\n",
              "      <td>0.051282</td>\n",
              "      <td>0.072436</td>\n",
              "      <td>0.051282</td>\n",
              "      <td>0.072436</td>\n",
              "      <td>duty-free</td>\n",
              "      <td>Republican</td>\n",
              "    </tr>\n",
              "    <tr>\n",
              "      <th>15</th>\n",
              "      <td>0.621622</td>\n",
              "      <td>0.163932</td>\n",
              "      <td>0.621622</td>\n",
              "      <td>0.163932</td>\n",
              "      <td>south-africa</td>\n",
              "      <td>Republican</td>\n",
              "    </tr>\n",
              "  </tbody>\n",
              "</table>\n",
              "</div>"
            ],
            "text/plain": [
              "    Frequentist Mean  ...       party\n",
              "0           0.268293  ...  Republican\n",
              "1           0.594595  ...  Republican\n",
              "2           0.073171  ...  Republican\n",
              "3           0.976190  ...  Republican\n",
              "4           0.902439  ...  Republican\n",
              "5           0.928571  ...  Republican\n",
              "6           0.268293  ...  Republican\n",
              "7           0.210526  ...  Republican\n",
              "8           0.119048  ...  Republican\n",
              "9           0.536585  ...  Republican\n",
              "10          0.078947  ...  Republican\n",
              "11          0.820513  ...  Republican\n",
              "12          0.951220  ...  Republican\n",
              "13          0.947368  ...  Republican\n",
              "14          0.051282  ...  Republican\n",
              "15          0.621622  ...  Republican\n",
              "\n",
              "[16 rows x 6 columns]"
            ]
          },
          "metadata": {
            "tags": []
          },
          "execution_count": 143
        }
      ]
    },
    {
      "cell_type": "code",
      "metadata": {
        "id": "ISN4tEwbifrB",
        "colab_type": "code",
        "colab": {
          "base_uri": "https://localhost:8080/",
          "height": 651
        },
        "outputId": "bb703f84-a901-4f0d-f299-e4ab9c39b2ad"
      },
      "source": [
        "#republicans_confidence_intervals_df = republicans_confidence_intervals_df.set_index(\"issue\")\n",
        "\n",
        "fig, ax = plt.subplots(1,2,figsize=(15,8))\n",
        "\n",
        "ax[0].bar(republicans_confidence_intervals_df.index, republicans_confidence_intervals_df[\"Frequentist Mean\"],\n",
        "       yerr=republicans_confidence_intervals_df[\"Frequentist Margin of Error\"],\n",
        "       align='center',\n",
        "       alpha=0.5,\n",
        "       ecolor='black',\n",
        "       capsize=10, facecolor=\"red\")\n",
        "\n",
        "ax[1].bar(republicans_confidence_intervals_df.index, republicans_confidence_intervals_df[\"Bayesian Mean\"],\n",
        "       yerr=republicans_confidence_intervals_df[\"Bayesian Margin of Error\"],\n",
        "       align='center',\n",
        "       alpha=0.5,\n",
        "       ecolor='black',\n",
        "       capsize=10, facecolor=\"red\")\n",
        "\n",
        "\n",
        "\n",
        "plt.suptitle(\"Confidence Intervals for Congressional Republican Voting in 1984\", size=\"xx-large\", y=1.01)\n",
        "ax[0].set_title(\"Frequentist Methods\")\n",
        "ax[1].set_title(\"Bayesian Methods\")\n",
        "ax[1].set_yticks([])\n",
        "\n",
        " ## Remove figure spines\n",
        "for ax in [ax[0],ax[1]]:\n",
        "  ax.spines['right'].set_visible(False)\n",
        "  ax.spines['top'].set_visible(False)\n",
        "  ax.spines['bottom'].set_visible(False)\n",
        "  ax.spines['left'].set_visible(False)\n",
        "  ax.set_xticks(republicans_confidence_intervals_df.index)\n",
        "  ax.set_xticklabels(republicans_confidence_intervals_df.index, rotation=80)\n",
        "\n",
        "\n",
        "\n",
        "\n",
        "plt.show()"
      ],
      "execution_count": 187,
      "outputs": [
        {
          "output_type": "display_data",
          "data": {
            "image/png": "[encoded data removed]",
            "text/plain": [
              "<Figure size 1080x576 with 2 Axes>"
            ]
          },
          "metadata": {
            "tags": []
          }
        }
      ]
    }
  ]
}