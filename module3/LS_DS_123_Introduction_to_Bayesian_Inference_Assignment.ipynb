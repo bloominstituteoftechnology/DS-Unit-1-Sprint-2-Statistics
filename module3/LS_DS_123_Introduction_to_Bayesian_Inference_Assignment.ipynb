{
  "nbformat": 4,
  "nbformat_minor": 0,
  "metadata": {
    "colab": {
      "name": "Copy of LS_DS_123_Introduction_to_Bayesian_Inference_Assignment.ipynb",
      "provenance": []
    },
    "kernelspec": {
      "name": "python3",
      "display_name": "Python 3"
    }
  },
  "cells": [
    {
      "cell_type": "markdown",
      "metadata": {
        "id": "H7OLbevlbd_Z",
        "colab_type": "text"
      },
      "source": [
        "# Lambda School Data Science Module 123\n",
        "\n",
        "## Introduction to Bayesian Inference\n",
        "\n",
        "\n"
      ]
    },
    {
      "cell_type": "markdown",
      "metadata": {
        "id": "P-DzzRk5bf0z",
        "colab_type": "text"
      },
      "source": [
        "## Assignment - Code it up!\n",
        "\n",
        "We used pure math to apply Bayes Theorem to drug tests. Now write Python code to reproduce the results! This is purposefully open ended - you'll have to think about how you should represent probabilities and events. You can and should look things up.\n",
        "\n",
        "Specific goals/targets:\n",
        "\n",
        "### 1) Write a function \n",
        "\n",
        "`def prob_drunk_given_positive(prob_drunk_prior, false_positive_rate):` \n",
        "\n",
        "You should only truly need these two values in order to apply Bayes Theorem. In this example, imagine that individuals are taking a breathalyzer test with an 8% false positive rate, a 100% true positive rate, and that our prior belief about drunk driving in the population is 1/1000. \n",
        " - What is the probability that a person is drunk after one positive breathalyzer test?\n",
        " - What is the probability that a person is drunk after two positive breathalyzer tests?\n",
        " - How many positive breathalyzer tests are needed in order to have a probability that's greater than 95% that a person is drunk beyond the legal limit?\n",
        "\n",
        "### 2) Explore `scipy.stats.bayes_mvs`  \n",
        "Read its documentation, and experiment with it on data you've tested in other ways earlier this week.\n",
        " - Create a visualization comparing the results of a Bayesian approach to a traditional/frequentist approach. (with a large sample size they should look close to identical, however, take this opportunity to practice visualizing condfidence intervals in general. The following are some potential ways that you could visualize confidence intervals on your graph:\n",
        "  - [Matplotlib Error Bars](https://matplotlib.org/3.1.1/api/_as_gen/matplotlib.pyplot.errorbar.html)\n",
        "  - [Seaborn barplot with error bars](https://seaborn.pydata.org/generated/seaborn.barplot.html)\n",
        "  - [Vertical ines to show bounds of confidence interval](https://www.simplypsychology.org/confidence-interval.jpg)\n",
        "  - [Confidence Intervals on Box Plots](https://matplotlib.org/3.1.1/api/_as_gen/matplotlib.axes.Axes.boxplot.html)\n",
        "\n",
        "### 3) In your own words, summarize the difference between Bayesian and Frequentist statistics\n",
        "\n",
        "If you're unsure where to start, check out [this blog post of Bayes theorem with Python](https://dataconomy.com/2015/02/introduction-to-bayes-theorem-with-python/).\n",
        "\n"
      ]
    },
    {
      "cell_type": "code",
      "metadata": {
        "id": "xpVhZyUnbf7o",
        "colab_type": "code",
        "outputId": "c94768ab-8110-495d-84ac-f955a25359e0",
        "colab": {
          "base_uri": "https://localhost:8080/",
          "height": 204
        }
      },
      "source": [
        "# PART 1: PROBABILITY OF POSITIVE BEING DRUNK\n",
        "\n",
        "def nicepct(x):\n",
        "  return f\"{round(x * 100, 1)}%\"\n",
        "\n",
        "def bayesy(probA, probBA, probBnA):\n",
        "  '''Calculate P(A|B) from P(A), P(B|A), and P(B|A̅)'''\n",
        "  probnA = 1 - probA\n",
        "  num = probBA * probA\n",
        "  denL = num\n",
        "  denR = probBnA * probnA\n",
        "  return num / (denL + denR)\n",
        "\n",
        "def prob_drunk_given_positive(prior, tpos, fpos):\n",
        "  # In this case, A is \"drunk\" and B is \"tested positive\"\n",
        "  # \"BnA\" (or \"B given not-A\") is false positive rate\n",
        "  return bayesy(prior, tpos, fpos)\n",
        "\n",
        "def niceprob(a, b, c):\n",
        "  print(\"Probability that a positive is true:\")\n",
        "  print(f\"\\t{nicepct(prob_drunk_given_positive(a, b, c))}\")\n",
        "  print(\"\")\n",
        "\n",
        "# Sanity Checks\n",
        "niceprob(0.005, 0.99, 0.01)\n",
        "niceprob(0.005, 1, 0.01)\n",
        "print(\"---\\n\")\n",
        "\n",
        "true_pos = 1\n",
        "false_pos = 0.08\n",
        "drunk_prior = 0.001\n",
        "niceprob(drunk_prior, true_pos, false_pos)"
      ],
      "execution_count": 0,
      "outputs": [
        {
          "output_type": "stream",
          "text": [
            "Probability that a positive is true:\n",
            "\t33.2%\n",
            "\n",
            "Probability that a positive is true:\n",
            "\t33.4%\n",
            "\n",
            "---\n",
            "\n",
            "Probability that a positive is true:\n",
            "\t1.2%\n",
            "\n"
          ],
          "name": "stdout"
        }
      ]
    },
    {
      "cell_type": "markdown",
      "metadata": {
        "id": "ZA6vrgxxbrXs",
        "colab_type": "text"
      },
      "source": [
        "# What does it mean to run a test twice?\n",
        "\n",
        "Our confidence in running the test once was a measly 1.2%. We would like more confidence in the positive result, so we decide to run the breathalyzer test a second time when the first result is positive.\n",
        "\n",
        "So what probabilities do we use for the second test?\n",
        "\n",
        "We have a different `A` from before. In the first test, `P(A)` was \"the probability that any driver is drunk\". But now, for the second test, `A` doesn't represent the entire population of drivers, but merely this one driver. And what, then, is `P(A)`? The probability that we just calculated; we just did a breathalyzer on this person and got a positive result, leading us to conclude that there is a 1.2% chance that the person is drunk--which is just, `P(A)`.\n",
        "\n",
        "We also have a different `B`. Previously it was the possibility of showing up as a positive, but now it's *showing up positive twice*.\n",
        "\n",
        "So what is `P(B|A)`? What is the probability of blowing positive twice in a row, given that you are drunk? That's just the one probability times itself. Ditto for `P(B|A̅)`: the false positive rate for two tests is just the false positive rate for one test times itself.\n",
        "\n",
        "So calculating the probability of two straight positive results amounts to updating our `P(A)`, `P(B|A)`, and `P(B|A̅)` and crunching all of the numbers again:"
      ]
    },
    {
      "cell_type": "code",
      "metadata": {
        "id": "AT3vBVuY2jdw",
        "colab_type": "code",
        "outputId": "3eac70ac-a554-47e9-fc68-396ae9622e73",
        "colab": {
          "base_uri": "https://localhost:8080/",
          "height": 68
        }
      },
      "source": [
        "# Now assume you got a positive result TWICE;\n",
        "# what are the chances they're both true?\n",
        "\n",
        "new_drunk_prior = prob_drunk_given_positive(drunk_prior, true_pos, false_pos)\n",
        "new_true_pos = true_pos * true_pos\n",
        "new_false_pos = false_pos * false_pos\n",
        "\n",
        "niceprob(new_drunk_prior, new_true_pos, new_false_pos)"
      ],
      "execution_count": 0,
      "outputs": [
        {
          "output_type": "stream",
          "text": [
            "Probability that a positive is true:\n",
            "\t66.2%\n",
            "\n"
          ],
          "name": "stdout"
        }
      ]
    },
    {
      "cell_type": "code",
      "metadata": {
        "id": "1sCta9C0DAXB",
        "colab_type": "code",
        "outputId": "f91ffc5a-1d22-41d3-a855-8307d6980ff0",
        "colab": {
          "base_uri": "https://localhost:8080/",
          "height": 34
        }
      },
      "source": [
        "# How many positive tests would we need in a row for a probability\n",
        "# of 95% that the driver is actually drunk?\n",
        "\n",
        "def bayesian_loop(a, ba, bna, threshold=0.95):\n",
        "  \n",
        "  # track the \"current\" P(B|A) and P(B|A̅)\n",
        "  c_ba = ba\n",
        "  c_bna = bna\n",
        "  \n",
        "  # initialize the loop\n",
        "  res = prob_drunk_given_positive(a, ba, bna)\n",
        "  count = 1\n",
        "  \n",
        "  # perform successive bayesian calc's until confidence is above threshold\n",
        "  # use the previous posterior as the current prior\n",
        "  while res < threshold:\n",
        "    c_ba *= ba\n",
        "    c_bna *= bna\n",
        "    res = prob_drunk_given_positive(res, c_ba, c_bna)\n",
        "    count += 1\n",
        "  return (count, nicepct(res))\n",
        "\n",
        "bayesian_loop(0.001, 1, 0.08)"
      ],
      "execution_count": 0,
      "outputs": [
        {
          "output_type": "execute_result",
          "data": {
            "text/plain": [
              "(3, '100.0%')"
            ]
          },
          "metadata": {
            "tags": []
          },
          "execution_count": 31
        }
      ]
    },
    {
      "cell_type": "code",
      "metadata": {
        "id": "XQB5VCkaFhY5",
        "colab_type": "code",
        "outputId": "40c6bc0c-b018-4625-e360-17b55d0c2c29",
        "colab": {
          "base_uri": "https://localhost:8080/",
          "height": 204
        }
      },
      "source": [
        "# PART 2: EXPLORE BAYES_MVS\n",
        "\n",
        "import pandas as pd\n",
        "from scipy import stats\n",
        "import numpy as np\n",
        "\n",
        "# forest fires!\n",
        "data_url = 'https://archive.ics.uci.edu/ml/machine-learning-databases/forest-fires/forestfires.csv'\n",
        "df = pd.read_csv(data_url)\n",
        "df.head()"
      ],
      "execution_count": 0,
      "outputs": [
        {
          "output_type": "execute_result",
          "data": {
            "text/html": [
              "<div>\n",
              "<style scoped>\n",
              "    .dataframe tbody tr th:only-of-type {\n",
              "        vertical-align: middle;\n",
              "    }\n",
              "\n",
              "    .dataframe tbody tr th {\n",
              "        vertical-align: top;\n",
              "    }\n",
              "\n",
              "    .dataframe thead th {\n",
              "        text-align: right;\n",
              "    }\n",
              "</style>\n",
              "<table border=\"1\" class=\"dataframe\">\n",
              "  <thead>\n",
              "    <tr style=\"text-align: right;\">\n",
              "      <th></th>\n",
              "      <th>X</th>\n",
              "      <th>Y</th>\n",
              "      <th>month</th>\n",
              "      <th>day</th>\n",
              "      <th>FFMC</th>\n",
              "      <th>DMC</th>\n",
              "      <th>DC</th>\n",
              "      <th>ISI</th>\n",
              "      <th>temp</th>\n",
              "      <th>RH</th>\n",
              "      <th>wind</th>\n",
              "      <th>rain</th>\n",
              "      <th>area</th>\n",
              "    </tr>\n",
              "  </thead>\n",
              "  <tbody>\n",
              "    <tr>\n",
              "      <th>0</th>\n",
              "      <td>7</td>\n",
              "      <td>5</td>\n",
              "      <td>mar</td>\n",
              "      <td>fri</td>\n",
              "      <td>86.2</td>\n",
              "      <td>26.2</td>\n",
              "      <td>94.3</td>\n",
              "      <td>5.1</td>\n",
              "      <td>8.2</td>\n",
              "      <td>51</td>\n",
              "      <td>6.7</td>\n",
              "      <td>0.0</td>\n",
              "      <td>0.0</td>\n",
              "    </tr>\n",
              "    <tr>\n",
              "      <th>1</th>\n",
              "      <td>7</td>\n",
              "      <td>4</td>\n",
              "      <td>oct</td>\n",
              "      <td>tue</td>\n",
              "      <td>90.6</td>\n",
              "      <td>35.4</td>\n",
              "      <td>669.1</td>\n",
              "      <td>6.7</td>\n",
              "      <td>18.0</td>\n",
              "      <td>33</td>\n",
              "      <td>0.9</td>\n",
              "      <td>0.0</td>\n",
              "      <td>0.0</td>\n",
              "    </tr>\n",
              "    <tr>\n",
              "      <th>2</th>\n",
              "      <td>7</td>\n",
              "      <td>4</td>\n",
              "      <td>oct</td>\n",
              "      <td>sat</td>\n",
              "      <td>90.6</td>\n",
              "      <td>43.7</td>\n",
              "      <td>686.9</td>\n",
              "      <td>6.7</td>\n",
              "      <td>14.6</td>\n",
              "      <td>33</td>\n",
              "      <td>1.3</td>\n",
              "      <td>0.0</td>\n",
              "      <td>0.0</td>\n",
              "    </tr>\n",
              "    <tr>\n",
              "      <th>3</th>\n",
              "      <td>8</td>\n",
              "      <td>6</td>\n",
              "      <td>mar</td>\n",
              "      <td>fri</td>\n",
              "      <td>91.7</td>\n",
              "      <td>33.3</td>\n",
              "      <td>77.5</td>\n",
              "      <td>9.0</td>\n",
              "      <td>8.3</td>\n",
              "      <td>97</td>\n",
              "      <td>4.0</td>\n",
              "      <td>0.2</td>\n",
              "      <td>0.0</td>\n",
              "    </tr>\n",
              "    <tr>\n",
              "      <th>4</th>\n",
              "      <td>8</td>\n",
              "      <td>6</td>\n",
              "      <td>mar</td>\n",
              "      <td>sun</td>\n",
              "      <td>89.3</td>\n",
              "      <td>51.3</td>\n",
              "      <td>102.2</td>\n",
              "      <td>9.6</td>\n",
              "      <td>11.4</td>\n",
              "      <td>99</td>\n",
              "      <td>1.8</td>\n",
              "      <td>0.0</td>\n",
              "      <td>0.0</td>\n",
              "    </tr>\n",
              "  </tbody>\n",
              "</table>\n",
              "</div>"
            ],
            "text/plain": [
              "   X  Y month  day  FFMC   DMC     DC  ISI  temp  RH  wind  rain  area\n",
              "0  7  5   mar  fri  86.2  26.2   94.3  5.1   8.2  51   6.7   0.0   0.0\n",
              "1  7  4   oct  tue  90.6  35.4  669.1  6.7  18.0  33   0.9   0.0   0.0\n",
              "2  7  4   oct  sat  90.6  43.7  686.9  6.7  14.6  33   1.3   0.0   0.0\n",
              "3  8  6   mar  fri  91.7  33.3   77.5  9.0   8.3  97   4.0   0.2   0.0\n",
              "4  8  6   mar  sun  89.3  51.3  102.2  9.6  11.4  99   1.8   0.0   0.0"
            ]
          },
          "metadata": {
            "tags": []
          },
          "execution_count": 38
        }
      ]
    },
    {
      "cell_type": "code",
      "metadata": {
        "id": "sugW0VyoSzFn",
        "colab_type": "code",
        "outputId": "727f0430-ac81-4e46-c705-97309b0c45f4",
        "colab": {
          "base_uri": "https://localhost:8080/",
          "height": 34
        }
      },
      "source": [
        "# bayesian mean\n",
        "\n",
        "m, v, s = stats.bayes_mvs(df['temp'])\n",
        "bm = (m.minmax[0], m.statistic, m.minmax[1])\n",
        "bm"
      ],
      "execution_count": 0,
      "outputs": [
        {
          "output_type": "execute_result",
          "data": {
            "text/plain": [
              "(18.46835813696256, 18.88916827852998, 19.309978420097398)"
            ]
          },
          "metadata": {
            "tags": []
          },
          "execution_count": 39
        }
      ]
    },
    {
      "cell_type": "code",
      "metadata": {
        "id": "vm-Vour_UaZ1",
        "colab_type": "code",
        "outputId": "658376d4-78d9-4e3b-d3b6-dce4fa0f413b",
        "colab": {
          "base_uri": "https://localhost:8080/",
          "height": 34
        }
      },
      "source": [
        "# frequentist mean\n",
        "\n",
        "def confidence_interval(data, confidence=.95):\n",
        "  n = len(data)\n",
        "  mean = sum(data)/n\n",
        "  data = np.array(data)\n",
        "  stderr = stats.sem(data)\n",
        "  interval = stderr * stats.t.ppf((1 + confidence) / 2.0, n-1)\n",
        "  return (mean - interval, mean, mean + interval)\n",
        "\n",
        "fm = confidence_interval(df['temp'], 0.9)\n",
        "fm"
      ],
      "execution_count": 0,
      "outputs": [
        {
          "output_type": "execute_result",
          "data": {
            "text/plain": [
              "(18.46835813696256, 18.88916827852998, 19.309978420097398)"
            ]
          },
          "metadata": {
            "tags": []
          },
          "execution_count": 104
        }
      ]
    },
    {
      "cell_type": "code",
      "metadata": {
        "id": "tkNyOmUUWF03",
        "colab_type": "code",
        "colab": {}
      },
      "source": [
        "# everything is the same\n",
        "for i in range(3):\n",
        "  assert(bm[i] == fm[i])"
      ],
      "execution_count": 0,
      "outputs": []
    },
    {
      "cell_type": "code",
      "metadata": {
        "id": "ZaSKU4sPU2kg",
        "colab_type": "code",
        "outputId": "20217a55-4182-4b0f-b1b0-5789f9b50d57",
        "colab": {
          "base_uri": "https://localhost:8080/",
          "height": 294
        }
      },
      "source": [
        "# graph bayesian mean vs frequentist mean\n",
        "\n",
        "import seaborn as sns\n",
        "import matplotlib.pyplot as plt\n",
        "import matplotlib.patches as mpatches\n",
        "\n",
        "# color palette\n",
        "bla = '#555555'\n",
        "blu = '#3333ff'\n",
        "red = '#ff0000'\n",
        "# density plot of the temperatures recorded,\n",
        "# as well as a line for the mean of the data\n",
        "sns.kdeplot(df['temp'], color=bla)\n",
        "plt.axvline(bm[1], color=blu)\n",
        "\n",
        "# pretty lines for the confidence intervals\n",
        "ds1 = (6,3)\n",
        "plt.axvline(bm[0], color=red, dashes=ds1)\n",
        "plt.axvline(bm[2], color=red, dashes=ds1)\n",
        "\n",
        "# include all of our colors on the legend\n",
        "temp = mpatches.Patch(color=bla, label='temp')\n",
        "truem = mpatches.Patch(color=blu, label='mean')\n",
        "conf = mpatches.Patch(color=red, label='C.I.')\n",
        "plt.legend(handles=[temp, truem, conf], loc='lower right')\n",
        "\n",
        "# tidy up graph details\n",
        "plt.xlim(17,21)\n",
        "plt.ylim(0,0.1)\n",
        "plt.suptitle('Bayesian & Frequentist Confidence Intervals', fontweight='bold')\n",
        "plt.title('Spoiler Alert: They\\'re the same')\n",
        "\n",
        "# et voila!\n",
        "plt.show()"
      ],
      "execution_count": 110,
      "outputs": [
        {
          "output_type": "display_data",
          "data": {
            "image/png": "[encoded data removed]",
            "text/plain": [
              "<Figure size 432x288 with 1 Axes>"
            ]
          },
          "metadata": {
            "tags": []
          }
        }
      ]
    },
    {
      "cell_type": "markdown",
      "metadata": {
        "id": "PsCvcxPMxrXa",
        "colab_type": "text"
      },
      "source": [
        "# What is the difference between the Bayesian and Frequentist statistics?\n",
        "\n",
        "Apparently, nothing."
      ]
    },
    {
      "cell_type": "markdown",
      "metadata": {
        "id": "uWgWjp3PQ3Sq",
        "colab_type": "text"
      },
      "source": [
        "## Resources"
      ]
    },
    {
      "cell_type": "markdown",
      "metadata": {
        "id": "QRgHqmYIQ9qn",
        "colab_type": "text"
      },
      "source": [
        "- [Worked example of Bayes rule calculation](https://en.wikipedia.org/wiki/Bayes'_theorem#Examples) (helpful as it fully breaks out the denominator)\n",
        "- [Source code for mvsdist in scipy](https://github.com/scipy/scipy/blob/90534919e139d2a81c24bf08341734ff41a3db12/scipy/stats/morestats.py#L139)"
      ]
    },
    {
      "cell_type": "markdown",
      "metadata": {
        "id": "GP7Jv1XvwtkX",
        "colab_type": "text"
      },
      "source": [
        "## Stretch Goals:\n",
        "\n",
        "- Go back and study the content from Modules 1 & 2 to make sure that you're really comfortable with them.\n",
        "- Apply a Bayesian technique to a problem you previously worked (in an assignment or project work) on from a frequentist (standard) perspective\n",
        "- Check out [PyMC3](https://docs.pymc.io/) (note this goes beyond hypothesis tests into modeling) - read the guides and work through some examples\n",
        "- Take PyMC3 further - see if you can build something with it!"
      ]
    },
    {
      "cell_type": "code",
      "metadata": {
        "id": "iDi0eFr1x-v_",
        "colab_type": "code",
        "colab": {}
      },
      "source": [
        ""
      ],
      "execution_count": 0,
      "outputs": []
    }
  ]
}
