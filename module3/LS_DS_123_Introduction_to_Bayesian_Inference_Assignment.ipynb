{
  "nbformat": 4,
  "nbformat_minor": 0,
  "metadata": {
    "colab": {
      "name": "Copy of LS_DS_123_Introduction_to_Bayesian_Inference_Assignment.ipynb",
      "provenance": [],
      "include_colab_link": true
    },
    "kernelspec": {
      "name": "python3",
      "display_name": "Python 3"
    }
  },
  "cells": [
    {
      "cell_type": "markdown",
      "metadata": {
        "id": "view-in-github",
        "colab_type": "text"
      },
      "source": [
        "<a href=\"https://colab.research.google.com/github/karencfisher/DS-Unit-1-Sprint-2-Statistics/blob/master/module3/LS_DS_123_Introduction_to_Bayesian_Inference_Assignment.ipynb\" target=\"_parent\"><img src=\"https://colab.research.google.com/assets/colab-badge.svg\" alt=\"Open In Colab\"/></a>"
      ]
    },
    {
      "cell_type": "markdown",
      "metadata": {
        "id": "H7OLbevlbd_Z",
        "colab_type": "text"
      },
      "source": [
        "# Lambda School Data Science Module 123\n",
        "\n",
        "## Introduction to Bayesian Inference\n",
        "\n",
        "\n"
      ]
    },
    {
      "cell_type": "code",
      "metadata": {
        "id": "xpVhZyUnbf7o",
        "colab_type": "code",
        "outputId": "7236741a-e419-4986-b01c-2fe79d458914",
        "colab": {
          "base_uri": "https://localhost:8080/",
          "height": 71
        }
      },
      "source": [
        "import numpy as np\n",
        "import matplotlib.pyplot as plt\n",
        "import seaborn as sns\n",
        "import pandas as pd\n",
        "from scipy.stats import bayes_mvs, t"
      ],
      "execution_count": 1,
      "outputs": [
        {
          "output_type": "stream",
          "text": [
            "/usr/local/lib/python3.6/dist-packages/statsmodels/tools/_testing.py:19: FutureWarning: pandas.util.testing is deprecated. Use the functions in the public API at pandas.testing instead.\n",
            "  import pandas.util.testing as tm\n"
          ],
          "name": "stderr"
        }
      ]
    },
    {
      "cell_type": "markdown",
      "metadata": {
        "id": "P-DzzRk5bf0z",
        "colab_type": "text"
      },
      "source": [
        "## Assignment - Code it up!\n",
        "\n",
        "We used pure math to apply Bayes Theorem to drug tests. Now write Python code to reproduce the results! This is purposefully open ended - you'll have to think about how you should represent probabilities and events. You can and should look things up.\n",
        "\n",
        "Specific goals/targets:\n",
        "\n",
        "### 1) Write a function \n",
        "\n",
        "`def prob_drunk_given_positive(prob_drunk_prior, false_positive_rate, true_positive_rate):` \n",
        "\n",
        "You should only truly need these two values in order to apply Bayes Theorem. In this example, imagine that individuals are taking a breathalyzer test with an 8% false positive rate, a 100% true positive rate, and that our prior belief about drunk driving in the population is 1/1000. \n",
        " - What is the probability that a person is drunk after one positive breathalyzer test?\n",
        " - What is the probability that a person is drunk after two positive breathalyzer tests?\n",
        " - How many positive breathalyzer tests are needed in order to have a probability that's greater than 95% that a person is drunk beyond the legal limit?\n",
        "\n"
      ]
    },
    {
      "cell_type": "code",
      "metadata": {
        "id": "_GNlk3W66cFy",
        "colab_type": "code",
        "colab": {}
      },
      "source": [
        "def bayes_prob(prior, true_positive, false_positive):\n",
        "  '''\n",
        "  Calculate Baysian probability given test result\n",
        "  '''\n",
        "\n",
        "  marginal = true_positive * prior + (false_positive * (1 - prior))\n",
        "  prob = (true_positive * prior) / marginal\n",
        "  return prob\n",
        "\n",
        "\n",
        "def iterative_prob(prior, true_positive, false_positive, threshold):\n",
        "  '''\n",
        "  Iteratively calculate baysian probability until specified threshold,\n",
        "  and display results\n",
        "  '''\n",
        "\n",
        "  probabilities = []\n",
        "  new_prior = prior\n",
        "  iteration = 0\n",
        "  p = 0\n",
        "  while p < threshold:\n",
        "    p = bayes_prob(new_prior, true_positive, false_positive)\n",
        "    probabilities.append(p)\n",
        "    iteration += 1\n",
        "    new_prior = p\n",
        "    print('Iteration: %i Probability: %f' % (iteration, p))\n",
        "\n",
        "  print('\\n')\n",
        "  plt.plot(range(1, iteration + 1), probabilities, '-o')\n",
        "  plt.xlabel('Iteration')\n",
        "  plt.ylabel('Probability')\n",
        "  plt.show()\n",
        "\n"
      ],
      "execution_count": 0,
      "outputs": []
    },
    {
      "cell_type": "code",
      "metadata": {
        "id": "9PGedmSP9zaO",
        "colab_type": "code",
        "outputId": "112a115f-16f6-49ee-d3b5-20f53c45ca53",
        "colab": {
          "base_uri": "https://localhost:8080/",
          "height": 384
        }
      },
      "source": [
        "true_positive = 1\n",
        "false_positive = .08\n",
        "expected_prob = 1 / 1000\n",
        "iterative_prob(expected_prob, true_positive, false_positive, .95)"
      ],
      "execution_count": 3,
      "outputs": [
        {
          "output_type": "stream",
          "text": [
            "Iteration: 1 Probability: 0.012358\n",
            "Iteration: 2 Probability: 0.135252\n",
            "Iteration: 3 Probability: 0.661600\n",
            "Iteration: 4 Probability: 0.960690\n",
            "\n",
            "\n"
          ],
          "name": "stdout"
        },
        {
          "output_type": "display_data",
          "data": {
            "image/png": "[encoded data removed]",
            "text/plain": [
              "<Figure size 432x288 with 1 Axes>"
            ]
          },
          "metadata": {
            "tags": [],
            "needs_background": "light"
          }
        }
      ]
    },
    {
      "cell_type": "markdown",
      "metadata": {
        "id": "M1_orry7DHOm",
        "colab_type": "text"
      },
      "source": [
        "### 2) Explore `scipy.stats.bayes_mvs`  \n",
        "Read its documentation, and experiment with it on data you've tested in other ways earlier this week.\n",
        " - Create a visualization comparing the results of a Bayesian approach to a traditional/frequentist approach. (with a large sample size they should look close to identical, however, take this opportunity to practice visualizing condfidence intervals in general. The following are some potential ways that you could visualize confidence intervals on your graph:\n",
        "  - [Matplotlib Error Bars](https://matplotlib.org/3.1.1/api/_as_gen/matplotlib.pyplot.errorbar.html)\n",
        "  - [Seaborn barplot with error bars](https://seaborn.pydata.org/generated/seaborn.barplot.html)\n",
        "  - [Vertical ines to show bounds of confidence interval](https://www.simplypsychology.org/confidence-interval.jpg)\n",
        "  - [Confidence Intervals on Box Plots](https://matplotlib.org/3.1.1/api/_as_gen/matplotlib.axes.Axes.boxplot.html)\n",
        "\n",
        "\n",
        "\n"
      ]
    },
    {
      "cell_type": "markdown",
      "metadata": {
        "id": "2UkFfHYk7slY",
        "colab_type": "text"
      },
      "source": [
        "**Sale prices from the Ames Housing Dataset**"
      ]
    },
    {
      "cell_type": "code",
      "metadata": {
        "id": "3qbBBTmWmRAi",
        "colab_type": "code",
        "outputId": "eb7e7ba5-c8f6-47ee-f2f7-1319b433e461",
        "colab": {
          "base_uri": "https://localhost:8080/",
          "height": 204
        }
      },
      "source": [
        "# Get just prices, and HouseStyle for use further on\n",
        "url = 'https://raw.githubusercontent.com/ryanleeallred/datasets/master/Ames%20Housing%20Data/train.csv'\n",
        "Ames_df = pd. read_csv(url)\n",
        "Ames_df = Ames_df[['HouseStyle', 'SalePrice']]\n",
        "Ames_df.head()"
      ],
      "execution_count": 4,
      "outputs": [
        {
          "output_type": "execute_result",
          "data": {
            "text/html": [
              "<div>\n",
              "<style scoped>\n",
              "    .dataframe tbody tr th:only-of-type {\n",
              "        vertical-align: middle;\n",
              "    }\n",
              "\n",
              "    .dataframe tbody tr th {\n",
              "        vertical-align: top;\n",
              "    }\n",
              "\n",
              "    .dataframe thead th {\n",
              "        text-align: right;\n",
              "    }\n",
              "</style>\n",
              "<table border=\"1\" class=\"dataframe\">\n",
              "  <thead>\n",
              "    <tr style=\"text-align: right;\">\n",
              "      <th></th>\n",
              "      <th>HouseStyle</th>\n",
              "      <th>SalePrice</th>\n",
              "    </tr>\n",
              "  </thead>\n",
              "  <tbody>\n",
              "    <tr>\n",
              "      <th>0</th>\n",
              "      <td>2Story</td>\n",
              "      <td>208500</td>\n",
              "    </tr>\n",
              "    <tr>\n",
              "      <th>1</th>\n",
              "      <td>1Story</td>\n",
              "      <td>181500</td>\n",
              "    </tr>\n",
              "    <tr>\n",
              "      <th>2</th>\n",
              "      <td>2Story</td>\n",
              "      <td>223500</td>\n",
              "    </tr>\n",
              "    <tr>\n",
              "      <th>3</th>\n",
              "      <td>2Story</td>\n",
              "      <td>140000</td>\n",
              "    </tr>\n",
              "    <tr>\n",
              "      <th>4</th>\n",
              "      <td>2Story</td>\n",
              "      <td>250000</td>\n",
              "    </tr>\n",
              "  </tbody>\n",
              "</table>\n",
              "</div>"
            ],
            "text/plain": [
              "  HouseStyle  SalePrice\n",
              "0     2Story     208500\n",
              "1     1Story     181500\n",
              "2     2Story     223500\n",
              "3     2Story     140000\n",
              "4     2Story     250000"
            ]
          },
          "metadata": {
            "tags": []
          },
          "execution_count": 4
        }
      ]
    },
    {
      "cell_type": "markdown",
      "metadata": {
        "id": "t-49nvkdjYKh",
        "colab_type": "text"
      },
      "source": [
        "**Frequentist confidence interval**\n"
      ]
    },
    {
      "cell_type": "code",
      "metadata": {
        "id": "zcpdMggpDhzK",
        "colab_type": "code",
        "colab": {}
      },
      "source": [
        "def confidence_interval(sample, cl):\n",
        "  '''\n",
        "  Calculate mean, confidence interval\n",
        "\n",
        "  sample: data to process, such as Pandas series\n",
        "  cl: confidence limit (e.g. 0.95)\n",
        "\n",
        "  return: list of mean, lower and upper limits for CI\n",
        "  '''\n",
        "  \n",
        "  n = len(sample)\n",
        "  dof = n - 1\n",
        "  sample_mean = sum(sample) / n\n",
        "  sample_std = np.sqrt(sum((sample - sample_mean)**2) / (n-1))\n",
        "  sample_se = sample_std / np.sqrt(n)\n",
        "  t_stat = t.ppf((1 + cl) / 2, dof)\n",
        "  sample_me = t_stat * sample_se\n",
        "  upper_conf = sample_mean + sample_me\n",
        "  lower_conf = sample_mean - sample_me\n",
        "\n",
        "  return [sample_mean, lower_conf, upper_conf]\n"
      ],
      "execution_count": 0,
      "outputs": []
    },
    {
      "cell_type": "code",
      "metadata": {
        "id": "vN968RRTDhpR",
        "colab_type": "code",
        "outputId": "84aed041-c744-4b12-d1e9-0061aa03fbb5",
        "colab": {
          "base_uri": "https://localhost:8080/",
          "height": 34
        }
      },
      "source": [
        "freq_ci = confidence_interval(Ames_df['SalePrice'], .95)\n",
        "freq_ci"
      ],
      "execution_count": 6,
      "outputs": [
        {
          "output_type": "execute_result",
          "data": {
            "text/plain": [
              "[180921.19589041095, 176842.84104108496, 184999.55073973694]"
            ]
          },
          "metadata": {
            "tags": []
          },
          "execution_count": 6
        }
      ]
    },
    {
      "cell_type": "markdown",
      "metadata": {
        "id": "A1AkbIZhqQTR",
        "colab_type": "text"
      },
      "source": [
        "**Bayesian confidence interval**"
      ]
    },
    {
      "cell_type": "code",
      "metadata": {
        "id": "-0282Iq4qcF4",
        "colab_type": "code",
        "outputId": "ce830a27-dd27-45c7-c0cc-907b5aabbf3f",
        "colab": {
          "base_uri": "https://localhost:8080/",
          "height": 34
        }
      },
      "source": [
        "bayes_stats = bayes_mvs(Ames_df['SalePrice'])\n",
        "bayes_ci = bayes_stats[0]\n",
        "bayes_ci"
      ],
      "execution_count": 7,
      "outputs": [
        {
          "output_type": "execute_result",
          "data": {
            "text/plain": [
              "Mean(statistic=180921.19589041095, minmax=(177502.54333066105, 184339.84845016085))"
            ]
          },
          "metadata": {
            "tags": []
          },
          "execution_count": 7
        }
      ]
    },
    {
      "cell_type": "markdown",
      "metadata": {
        "id": "ML3XzLhwwadC",
        "colab_type": "text"
      },
      "source": [
        "**Graphic Comparison**  \n",
        "Density plot of data, with CI as span"
      ]
    },
    {
      "cell_type": "code",
      "metadata": {
        "id": "5X0H9BdLqb1A",
        "colab_type": "code",
        "outputId": "ef07a2bd-8a65-4736-8461-7c23c5ca1225",
        "colab": {
          "base_uri": "https://localhost:8080/",
          "height": 290
        }
      },
      "source": [
        "sns.distplot(Ames_df['SalePrice'], hist=False, rug=False)\n",
        "plt.xlim(0, 350000)\n",
        "plt.axvspan(freq_ci[1], freq_ci[2], facecolor='r', alpha=0.2, label='Frequentist')\n",
        "plt.axvline(freq_ci[0], color='red', label=\"Frequentist mean\")\n",
        "plt.axvspan(bayes_ci[1][0], bayes_ci[1][1], facecolor='b', alpha=0.2, label='Bayesian')\n",
        "plt.axvline(bayes_ci[0], color='blue', label=\"Frequentist mean\")\n",
        "plt.legend();"
      ],
      "execution_count": 8,
      "outputs": [
        {
          "output_type": "display_data",
          "data": {
            "image/png": "[encoded data removed]",
            "text/plain": [
              "<Figure size 432x288 with 1 Axes>"
            ]
          },
          "metadata": {
            "tags": [],
            "needs_background": "light"
          }
        }
      ]
    },
    {
      "cell_type": "markdown",
      "metadata": {
        "id": "wnbmvNjOxxxA",
        "colab_type": "text"
      },
      "source": [
        "Zoom in even more to see difference in confidence intervals."
      ]
    },
    {
      "cell_type": "code",
      "metadata": {
        "id": "GrjT_243qbmq",
        "colab_type": "code",
        "outputId": "e80cc81e-2da4-4168-985d-e4fa9bbe847a",
        "colab": {
          "base_uri": "https://localhost:8080/",
          "height": 290
        }
      },
      "source": [
        "sns.distplot(Ames_df['SalePrice'], hist=False, rug=False)\n",
        "plt.xlim(170000, 190000)\n",
        "plt.axvspan(freq_ci[1], freq_ci[2], facecolor='r', alpha=0.2, label='Frequentist CI')\n",
        "plt.axvline(freq_ci[0], color='red', label=\"Frequentist mean\")\n",
        "plt.axvspan(bayes_ci[1][0], bayes_ci[1][1], facecolor='b', alpha=0.2, label='Bayesian CI')\n",
        "plt.axvline(bayes_ci[0], color='blue', label=\"Frequentist mean\")\n",
        "plt.legend();"
      ],
      "execution_count": 9,
      "outputs": [
        {
          "output_type": "display_data",
          "data": {
            "image/png": "[encoded data removed]",
            "text/plain": [
              "<Figure size 432x288 with 1 Axes>"
            ]
          },
          "metadata": {
            "tags": [],
            "needs_background": "light"
          }
        }
      ]
    },
    {
      "cell_type": "markdown",
      "metadata": {
        "id": "Z_adNXEyDLjR",
        "colab_type": "text"
      },
      "source": [
        "### 3) In your own words, summarize the difference between Bayesian and Frequentist statistics\n",
        "\n",
        "If you're unsure where to start, check out [this blog post of Bayes theorem with Python](https://dataconomy.com/2015/02/introduction-to-bayes-theorem-with-python/)."
      ]
    },
    {
      "cell_type": "markdown",
      "metadata": {
        "id": "p8kfFaam9MM6",
        "colab_type": "text"
      },
      "source": [
        "*Frequentist statistics focus on objective probability. To seek to avoid bias, samples are used to rule out the null hypothesis to support (or not) a given hypothesis. It allows the data to drive the process, which is obective, even if the ultimate parameters remain unknown. Bayesian statistics, on the other hand, begin with a subjective probability, belief, intuition, or and initial hypothesis, in it's more poular sense of the word (the \"prior\"). It then seeks to refine that hypothesis given the observed data (the \"posterior\"). The latter more embraces uncertainty, and belief.*\n",
        "\n",
        "*The Scipy.stats.bayes_mvs function returns a somewhat narrower confidence interval than a frequentist calculation, with the same 95% confidence level.* \n",
        "\n"
      ]
    },
    {
      "cell_type": "markdown",
      "metadata": {
        "id": "uWgWjp3PQ3Sq",
        "colab_type": "text"
      },
      "source": [
        "## Resources"
      ]
    },
    {
      "cell_type": "markdown",
      "metadata": {
        "id": "QRgHqmYIQ9qn",
        "colab_type": "text"
      },
      "source": [
        "- [Worked example of Bayes rule calculation](https://en.wikipedia.org/wiki/Bayes'_theorem#Examples) (helpful as it fully breaks out the denominator)\n",
        "- [Source code for mvsdist in scipy](https://github.com/scipy/scipy/blob/90534919e139d2a81c24bf08341734ff41a3db12/scipy/stats/morestats.py#L139)"
      ]
    },
    {
      "cell_type": "markdown",
      "metadata": {
        "id": "GP7Jv1XvwtkX",
        "colab_type": "text"
      },
      "source": [
        "## Stretch Goals:\n",
        "\n",
        "- Go back and study the content from Modules 1 & 2 to make sure that you're really comfortable with them.\n",
        "- Apply a Bayesian technique to a problem you previously worked (in an assignment or project work) on from a frequentist (standard) perspective\n",
        "- Check out [PyMC3](https://docs.pymc.io/) (note this goes beyond hypothesis tests into modeling) - read the guides and work through some examples\n",
        "- Take PyMC3 further - see if you can build something with it!"
      ]
    },
    {
      "cell_type": "markdown",
      "metadata": {
        "id": "AvAjdgzYZXZ5",
        "colab_type": "text"
      },
      "source": [
        "# What is the probability P(A|B) of a house being two story, given it's high price?\n",
        "Using Bayes theorem.\n",
        "\n",
        "\n"
      ]
    },
    {
      "cell_type": "code",
      "metadata": {
        "id": "iDi0eFr1x-v_",
        "colab_type": "code",
        "outputId": "50e88b93-f200-4882-acc5-43e9d85fd2ce",
        "colab": {
          "base_uri": "https://localhost:8080/",
          "height": 204
        }
      },
      "source": [
        "# Refine the Ames to look four just one and two story cases in HouseStyle\n",
        "Ames_df = Ames_df[Ames_df['HouseStyle'].isin(['2Story', '1Story'])]\n",
        "\n",
        "# And categorize into two proce ranges, low or high depending on below or above\n",
        "# median price\n",
        "price_bins = [Ames_df['SalePrice'].min(), Ames_df['SalePrice'].median(), Ames_df['SalePrice'].max()]\n",
        "price_labels = ['low', 'high']\n",
        "Ames_df['priceRange'] = pd.cut(Ames_df['SalePrice'], bins=price_bins, labels=price_labels)\n",
        "Ames_df.dropna(inplace=True)\n",
        "\n",
        "Ames_df.sample(5)"
      ],
      "execution_count": 10,
      "outputs": [
        {
          "output_type": "execute_result",
          "data": {
            "text/html": [
              "<div>\n",
              "<style scoped>\n",
              "    .dataframe tbody tr th:only-of-type {\n",
              "        vertical-align: middle;\n",
              "    }\n",
              "\n",
              "    .dataframe tbody tr th {\n",
              "        vertical-align: top;\n",
              "    }\n",
              "\n",
              "    .dataframe thead th {\n",
              "        text-align: right;\n",
              "    }\n",
              "</style>\n",
              "<table border=\"1\" class=\"dataframe\">\n",
              "  <thead>\n",
              "    <tr style=\"text-align: right;\">\n",
              "      <th></th>\n",
              "      <th>HouseStyle</th>\n",
              "      <th>SalePrice</th>\n",
              "      <th>priceRange</th>\n",
              "    </tr>\n",
              "  </thead>\n",
              "  <tbody>\n",
              "    <tr>\n",
              "      <th>101</th>\n",
              "      <td>2Story</td>\n",
              "      <td>178000</td>\n",
              "      <td>high</td>\n",
              "    </tr>\n",
              "    <tr>\n",
              "      <th>7</th>\n",
              "      <td>2Story</td>\n",
              "      <td>200000</td>\n",
              "      <td>high</td>\n",
              "    </tr>\n",
              "    <tr>\n",
              "      <th>1241</th>\n",
              "      <td>1Story</td>\n",
              "      <td>248328</td>\n",
              "      <td>high</td>\n",
              "    </tr>\n",
              "    <tr>\n",
              "      <th>1099</th>\n",
              "      <td>1Story</td>\n",
              "      <td>157000</td>\n",
              "      <td>low</td>\n",
              "    </tr>\n",
              "    <tr>\n",
              "      <th>528</th>\n",
              "      <td>1Story</td>\n",
              "      <td>86000</td>\n",
              "      <td>low</td>\n",
              "    </tr>\n",
              "  </tbody>\n",
              "</table>\n",
              "</div>"
            ],
            "text/plain": [
              "     HouseStyle  SalePrice priceRange\n",
              "101      2Story     178000       high\n",
              "7        2Story     200000       high\n",
              "1241     1Story     248328       high\n",
              "1099     1Story     157000        low\n",
              "528      1Story      86000        low"
            ]
          },
          "metadata": {
            "tags": []
          },
          "execution_count": 10
        }
      ]
    },
    {
      "cell_type": "code",
      "metadata": {
        "id": "ImYwisOGTfmd",
        "colab_type": "code",
        "outputId": "1aa0a571-91f3-4899-dc70-ca4aab4caeed",
        "colab": {
          "base_uri": "https://localhost:8080/",
          "height": 173
        }
      },
      "source": [
        "# Crosstab with mormalization will give us a matrix of proportions of price ranges\n",
        "# by number of floors.\n",
        "house_price = pd.crosstab(Ames_df['HouseStyle'], Ames_df['priceRange'], margins=True)\n",
        "house_price"
      ],
      "execution_count": 11,
      "outputs": [
        {
          "output_type": "execute_result",
          "data": {
            "text/html": [
              "<div>\n",
              "<style scoped>\n",
              "    .dataframe tbody tr th:only-of-type {\n",
              "        vertical-align: middle;\n",
              "    }\n",
              "\n",
              "    .dataframe tbody tr th {\n",
              "        vertical-align: top;\n",
              "    }\n",
              "\n",
              "    .dataframe thead th {\n",
              "        text-align: right;\n",
              "    }\n",
              "</style>\n",
              "<table border=\"1\" class=\"dataframe\">\n",
              "  <thead>\n",
              "    <tr style=\"text-align: right;\">\n",
              "      <th>priceRange</th>\n",
              "      <th>low</th>\n",
              "      <th>high</th>\n",
              "      <th>All</th>\n",
              "    </tr>\n",
              "    <tr>\n",
              "      <th>HouseStyle</th>\n",
              "      <th></th>\n",
              "      <th></th>\n",
              "      <th></th>\n",
              "    </tr>\n",
              "  </thead>\n",
              "  <tbody>\n",
              "    <tr>\n",
              "      <th>1Story</th>\n",
              "      <td>432</td>\n",
              "      <td>293</td>\n",
              "      <td>725</td>\n",
              "    </tr>\n",
              "    <tr>\n",
              "      <th>2Story</th>\n",
              "      <td>153</td>\n",
              "      <td>292</td>\n",
              "      <td>445</td>\n",
              "    </tr>\n",
              "    <tr>\n",
              "      <th>All</th>\n",
              "      <td>585</td>\n",
              "      <td>585</td>\n",
              "      <td>1170</td>\n",
              "    </tr>\n",
              "  </tbody>\n",
              "</table>\n",
              "</div>"
            ],
            "text/plain": [
              "priceRange  low  high   All\n",
              "HouseStyle                 \n",
              "1Story      432   293   725\n",
              "2Story      153   292   445\n",
              "All         585   585  1170"
            ]
          },
          "metadata": {
            "tags": []
          },
          "execution_count": 11
        }
      ]
    },
    {
      "cell_type": "markdown",
      "metadata": {
        "id": "63PSaQRUf-ix",
        "colab_type": "text"
      },
      "source": [
        "**Given the price for a house being high, what is the probability it has two stories?**\n",
        "\n",
        "P(A) = probability being two story = 445 / 1170\n",
        "\n",
        "P(B|A) = probability high price given it's two story = 292 / 445\n",
        "\n",
        "p(B) = probability any house is high price = 585 / 1170\n"
      ]
    },
    {
      "cell_type": "code",
      "metadata": {
        "id": "yDhnPB5fgBrG",
        "colab_type": "code",
        "colab": {}
      },
      "source": [
        "def bayes_prob(prior, conditional, marginal):\n",
        "  prob = (conditional * prior) / marginal\n",
        "  return prob"
      ],
      "execution_count": 0,
      "outputs": []
    },
    {
      "cell_type": "code",
      "metadata": {
        "id": "tiVSxzB6YrSU",
        "colab_type": "code",
        "outputId": "3b4eec2e-4394-4a18-a1a9-d33198993823",
        "colab": {
          "base_uri": "https://localhost:8080/",
          "height": 34
        }
      },
      "source": [
        "p_a = house_price.iloc[1]['All'] / house_price.iloc[2]['All']\n",
        "p_b = house_price.iloc[2]['high'] / house_price.iloc[2]['All']\n",
        "p_b_a = house_price.iloc[1]['high'] / house_price.iloc[1]['All']\n",
        "p_a_b = bayes_prob(p_a, p_b_a, p_b)\n",
        "print('Probability house is two stories = %.3f%%' % (p_a_b * 100) )"
      ],
      "execution_count": 13,
      "outputs": [
        {
          "output_type": "stream",
          "text": [
            "Probability house is two stories = 49.915%\n"
          ],
          "name": "stdout"
        }
      ]
    },
    {
      "cell_type": "markdown",
      "metadata": {
        "id": "QIqafMF-m5iU",
        "colab_type": "text"
      },
      "source": [
        "**And given it's low price, what is the probability that it is single story?**\n",
        "\n",
        "P(A) = probability being single story = 725 / 1170\n",
        "\n",
        "P(B|A) = probability low price given it's one story = 432 / 725\n",
        "\n",
        "p(B) = probability any house is low price = 585 / 1170"
      ]
    },
    {
      "cell_type": "code",
      "metadata": {
        "id": "gJ_V5vRhna5z",
        "colab_type": "code",
        "outputId": "970c2b9d-8e0e-4800-d70e-4107fe818ea1",
        "colab": {
          "base_uri": "https://localhost:8080/",
          "height": 34
        }
      },
      "source": [
        "p2_a = house_price.iloc[0]['All'] / house_price.iloc[2]['All']\n",
        "p2_b = house_price.iloc[2]['low'] / house_price.iloc[2]['All']\n",
        "p2_b_a = house_price.iloc[0]['low'] / house_price.iloc[0]['All']\n",
        "p2_a_b = bayes_prob(p2_b_a, p2_a, p2_b)\n",
        "print('Probability house is single story = %.3f%%' % (p2_a_b * 100) )"
      ],
      "execution_count": 14,
      "outputs": [
        {
          "output_type": "stream",
          "text": [
            "Probability house is single story = 73.846%\n"
          ],
          "name": "stdout"
        }
      ]
    },
    {
      "cell_type": "markdown",
      "metadata": {
        "id": "o1D1c4nr5m1m",
        "colab_type": "text"
      },
      "source": [
        "**Exploring the probability a house has two stories given a high price, calculated without Bayes theorem.**\n",
        "\n",
        "\n"
      ]
    },
    {
      "cell_type": "markdown",
      "metadata": {
        "id": "2YzAtSva50t0",
        "colab_type": "text"
      },
      "source": [
        "We'll be calculating a confidence interval around a given probability"
      ]
    },
    {
      "cell_type": "code",
      "metadata": {
        "colab_type": "code",
        "id": "bZSWlb_sy0RY",
        "colab": {}
      },
      "source": [
        "def p_conf_interval(sample, probability, cl):\n",
        "  '''\n",
        "  Given a probability, calculate confidence interval around it.\n",
        "  '''\n",
        "  \n",
        "  se = np.sqrt(probability * (1- probability) / len(sample))\n",
        "  t_stat = t.ppf((1 + .95) / 2, len(sample) - 1)\n",
        "  lower_conf = probability - t_stat * se\n",
        "  upper_conf = probability + t_stat * se\n",
        "  return(probability, lower_conf, upper_conf)\n"
      ],
      "execution_count": 0,
      "outputs": []
    },
    {
      "cell_type": "markdown",
      "metadata": {
        "colab_type": "text",
        "id": "ZH9bI0sZwNfj"
      },
      "source": [
        "First, in order to use mean to calculate probabilities, recode HouseStyle and priceRange into integer forms, 1 or 0."
      ]
    },
    {
      "cell_type": "code",
      "metadata": {
        "id": "w5_qLqORreCv",
        "colab_type": "code",
        "outputId": "128eb6d7-0686-4d6a-bb39-ba8d4a81d9a2",
        "colab": {
          "base_uri": "https://localhost:8080/",
          "height": 142
        }
      },
      "source": [
        "Ames_df['priceRangeBinary'] = Ames_df['priceRange'].map({'high': 1, 'low': 0}, )\n",
        "Ames_df['priceRangeBinary'] = Ames_df['priceRangeBinary'].astype('int')\n",
        "Ames_df['StoriesBinary'] = Ames_df['HouseStyle'].map({'2Story': 1, '1Story': 0}, )\n",
        "Ames_df['StoriesBinary'] = Ames_df['StoriesBinary'].astype('int')\n",
        "Ames_df.sample(3)"
      ],
      "execution_count": 16,
      "outputs": [
        {
          "output_type": "execute_result",
          "data": {
            "text/html": [
              "<div>\n",
              "<style scoped>\n",
              "    .dataframe tbody tr th:only-of-type {\n",
              "        vertical-align: middle;\n",
              "    }\n",
              "\n",
              "    .dataframe tbody tr th {\n",
              "        vertical-align: top;\n",
              "    }\n",
              "\n",
              "    .dataframe thead th {\n",
              "        text-align: right;\n",
              "    }\n",
              "</style>\n",
              "<table border=\"1\" class=\"dataframe\">\n",
              "  <thead>\n",
              "    <tr style=\"text-align: right;\">\n",
              "      <th></th>\n",
              "      <th>HouseStyle</th>\n",
              "      <th>SalePrice</th>\n",
              "      <th>priceRange</th>\n",
              "      <th>priceRangeBinary</th>\n",
              "      <th>StoriesBinary</th>\n",
              "    </tr>\n",
              "  </thead>\n",
              "  <tbody>\n",
              "    <tr>\n",
              "      <th>1106</th>\n",
              "      <td>1Story</td>\n",
              "      <td>179900</td>\n",
              "      <td>high</td>\n",
              "      <td>1</td>\n",
              "      <td>0</td>\n",
              "    </tr>\n",
              "    <tr>\n",
              "      <th>1253</th>\n",
              "      <td>2Story</td>\n",
              "      <td>294000</td>\n",
              "      <td>high</td>\n",
              "      <td>1</td>\n",
              "      <td>1</td>\n",
              "    </tr>\n",
              "    <tr>\n",
              "      <th>1189</th>\n",
              "      <td>2Story</td>\n",
              "      <td>189000</td>\n",
              "      <td>high</td>\n",
              "      <td>1</td>\n",
              "      <td>1</td>\n",
              "    </tr>\n",
              "  </tbody>\n",
              "</table>\n",
              "</div>"
            ],
            "text/plain": [
              "     HouseStyle  SalePrice priceRange  priceRangeBinary  StoriesBinary\n",
              "1106     1Story     179900       high                 1              0\n",
              "1253     2Story     294000       high                 1              1\n",
              "1189     2Story     189000       high                 1              1"
            ]
          },
          "metadata": {
            "tags": []
          },
          "execution_count": 16
        }
      ]
    },
    {
      "cell_type": "markdown",
      "metadata": {
        "id": "lfcaLxec1Mmz",
        "colab_type": "text"
      },
      "source": [
        "Calculate the probability a house is both 2 story and high price \n",
        "\n",
        "$$P(A \\cap B)$$\n",
        "\n",
        "by finding out in which rows both values are 1, combine them, and calculate probability "
      ]
    },
    {
      "cell_type": "code",
      "metadata": {
        "id": "qSMmyCB0nCR9",
        "colab_type": "code",
        "colab": {
          "base_uri": "https://localhost:8080/",
          "height": 34
        },
        "outputId": "13dcd586-c0ae-4a57-caff-ca9e4c718682"
      },
      "source": [
        "# Add an intersection column containing 1 where StoriesBinary and priceRangeBinary are both 1\n",
        "Ames_df['Intersection'] = np.array(Ames_df['priceRangeBinary'] & Ames_df['StoriesBinary'])\n",
        "P_a_and_b = Ames_df['Intersection'].mean()\n",
        "P_a_and_b"
      ],
      "execution_count": 17,
      "outputs": [
        {
          "output_type": "execute_result",
          "data": {
            "text/plain": [
              "0.24957264957264957"
            ]
          },
          "metadata": {
            "tags": []
          },
          "execution_count": 17
        }
      ]
    },
    {
      "cell_type": "markdown",
      "metadata": {
        "id": "QunjlOTkuBGD",
        "colab_type": "text"
      },
      "source": [
        "Then calculate P(A|B)\n",
        "\n",
        "\\begin{equation*}\n",
        "P(A | B) = \\frac{P(A \\cap B)}{P(B)}\n",
        "\\end{equation*}\n",
        "\n",
        "And calculate a confidence interval around it.\n",
        "\n"
      ]
    },
    {
      "cell_type": "code",
      "metadata": {
        "id": "wWW0p8RIWtjp",
        "colab_type": "code",
        "outputId": "b0750ea4-3b5c-41cd-a217-b4c5cc534a53",
        "colab": {
          "base_uri": "https://localhost:8080/",
          "height": 34
        }
      },
      "source": [
        "# probability of a house being high price\n",
        "prob_b = Ames_df['priceRangeBinary'].mean()\n",
        "\n",
        "# And calculate P(2 Story|high price)\n",
        "P_a_given_b = P_a_and_b / prob_b\n",
        "\n",
        "# And construct a confidence interval\n",
        "stats = p_conf_interval(Ames_df['StoriesBinary'], P_a_given_b, .95)\n",
        "stats"
      ],
      "execution_count": 18,
      "outputs": [
        {
          "output_type": "execute_result",
          "data": {
            "text/plain": [
              "(0.49914529914529915, 0.4704656115210734, 0.5278249867695248)"
            ]
          },
          "metadata": {
            "tags": []
          },
          "execution_count": 18
        }
      ]
    },
    {
      "cell_type": "code",
      "metadata": {
        "id": "TMdsh9i9jOIi",
        "colab_type": "code",
        "outputId": "542a5332-b531-49df-d578-11cf7601bc76",
        "colab": {
          "base_uri": "https://localhost:8080/",
          "height": 267
        }
      },
      "source": [
        "\n",
        "sns.distplot(stats, hist=False, rug=False)\n",
        "plt.axvspan(stats[1], stats[2], facecolor='b', alpha=0.2, label='Frequntist CI')\n",
        "plt.axvline(stats[0], color='blue', label=\"Frequentist probability\")\n",
        "plt.legend();"
      ],
      "execution_count": 19,
      "outputs": [
        {
          "output_type": "display_data",
          "data": {
            "image/png": "[encoded data removed]",
            "text/plain": [
              "<Figure size 432x288 with 1 Axes>"
            ]
          },
          "metadata": {
            "tags": [],
            "needs_background": "light"
          }
        }
      ]
    },
    {
      "cell_type": "code",
      "metadata": {
        "id": "UXIYKbV9mTZf",
        "colab_type": "code",
        "outputId": "5b0434a4-7e0d-4a49-a4f2-be3b035afaf2",
        "colab": {
          "base_uri": "https://localhost:8080/",
          "height": 268
        }
      },
      "source": [
        "# Plot them together now\n",
        "\n",
        "sns.distplot(stats, hist=False, rug=False, color='blue')\n",
        "plt.axvspan(stats[1], stats[2], facecolor='b', alpha=0.2)\n",
        "plt.axvline(stats[0], color='blue', label=\"probablility\", alpha=0.5)\n",
        "plt.axvline(p_a_b, color='red', label=\"Bayesian probability\", alpha=0.5)\n",
        "plt.legend();"
      ],
      "execution_count": 20,
      "outputs": [
        {
          "output_type": "display_data",
          "data": {
            "image/png": "[encoded data removed]",
            "text/plain": [
              "<Figure size 432x288 with 1 Axes>"
            ]
          },
          "metadata": {
            "tags": [],
            "needs_background": "light"
          }
        }
      ]
    },
    {
      "cell_type": "markdown",
      "metadata": {
        "id": "16F7EKiA1w7N",
        "colab_type": "text"
      },
      "source": [
        "They wind up being identical.\n",
        "\n",
        "**Maybe this just winds up being that I have a lot to still learn!**"
      ]
    }
  ]
}