{
  "nbformat": 4,
  "nbformat_minor": 0,
  "metadata": {
    "colab": {
      "name": "LS_DS_123_Introduction_to_Bayesian_Inference_Assignment.ipynb",
      "provenance": [],
      "include_colab_link": true
    },
    "kernelspec": {
      "name": "python3",
      "display_name": "Python 3"
    }
  },
  "cells": [
    {
      "cell_type": "markdown",
      "metadata": {
        "id": "view-in-github",
        "colab_type": "text"
      },
      "source": [
        "<a href=\"https://colab.research.google.com/github/Lilchoto3/DS-Unit-1-Sprint-2-Statistics/blob/master/module3/LS_DS_123_Introduction_to_Bayesian_Inference_Assignment.ipynb\" target=\"_parent\"><img src=\"https://colab.research.google.com/assets/colab-badge.svg\" alt=\"Open In Colab\"/></a>"
      ]
    },
    {
      "cell_type": "markdown",
      "metadata": {
        "id": "H7OLbevlbd_Z",
        "colab_type": "text"
      },
      "source": [
        "# Lambda School Data Science Module 123\n",
        "\n",
        "## Introduction to Bayesian Inference\n",
        "\n",
        "\n"
      ]
    },
    {
      "cell_type": "markdown",
      "metadata": {
        "id": "P-DzzRk5bf0z",
        "colab_type": "text"
      },
      "source": [
        "## Assignment - Code it up!\n",
        "\n",
        "We used pure math to apply Bayes Theorem to drug tests. Now write Python code to reproduce the results! This is purposefully open ended - you'll have to think about how you should represent probabilities and events. You can and should look things up.\n",
        "\n",
        "Specific goals/targets:\n",
        "\n",
        "### 1) Write a function \n",
        "\n",
        "`def prob_drunk_given_positive(prob_drunk_prior, false_positive_rate):` \n",
        "\n",
        "You should only truly need these two values in order to apply Bayes Theorem. In this example, imagine that individuals are taking a breathalyzer test with an 8% false positive rate, a 100% true positive rate, and that our prior belief about drunk driving in the population is 1/1000. \n",
        " - What is the probability that a person is drunk after one positive breathalyzer test?\n",
        " - What is the probability that a person is drunk after two positive breathalyzer tests?\n",
        " - How many positive breathalyzer tests are needed in order to have a probability that's greater than 95% that a person is drunk beyond the legal limit?\n",
        "\n",
        "### 2) Explore `scipy.stats.bayes_mvs`  \n",
        "Read its documentation, and experiment with it on data you've tested in other ways earlier this week.\n",
        " - Create a visualization comparing the results of a Bayesian approach to a traditional/frequentist approach. (with a large sample size they should look close to identical, however, take this opportunity to practice visualizing condfidence intervals in general. The following are some potential ways that you could visualize confidence intervals on your graph:\n",
        "  - [Matplotlib Error Bars](https://matplotlib.org/3.1.1/api/_as_gen/matplotlib.pyplot.errorbar.html)\n",
        "  - [Seaborn barplot with error bars](https://seaborn.pydata.org/generated/seaborn.barplot.html)\n",
        "  - [Vertical ines to show bounds of confidence interval](https://www.simplypsychology.org/confidence-interval.jpg)\n",
        "  - [Confidence Intervals on Box Plots](https://matplotlib.org/3.1.1/api/_as_gen/matplotlib.axes.Axes.boxplot.html)\n",
        "\n",
        "### 3) In your own words, summarize the difference between Bayesian and Frequentist statistics\n",
        "\n",
        "If you're unsure where to start, check out [this blog post of Bayes theorem with Python](https://dataconomy.com/2015/02/introduction-to-bayes-theorem-with-python/).\n",
        "\n"
      ]
    },
    {
      "cell_type": "code",
      "metadata": {
        "id": "xpVhZyUnbf7o",
        "colab_type": "code",
        "colab": {
          "base_uri": "https://localhost:8080/",
          "height": 87
        },
        "outputId": "9b8e3219-4563-46e1-c3c1-cb675f60ded4"
      },
      "source": [
        "# 1: Write a program using the Bayesian formula\n",
        "def prob_drunk_given_positive(prob_drunk_prior, false_positive_rate):\n",
        "  # cast all inputs as floats just in case\n",
        "  prob_drunk_prior = float(prob_drunk_prior)\n",
        "  false_positive_rate = float(false_positive_rate)\n",
        "\n",
        "  # This will be needed later\n",
        "  inverse_drunk_prior = 1 - prob_drunk_prior\n",
        "\n",
        "  # set up the bayes equation\n",
        "\n",
        "  # Numerator\n",
        "  prob_numer = 1 * prob_drunk_prior\n",
        "\n",
        "  # Denominator\n",
        "  prob_denom = 1 * (prob_drunk_prior) + (false_positive_rate) * (inverse_drunk_prior)\n",
        "\n",
        "  probability = prob_numer / prob_denom\n",
        "  return probability\n",
        "\n",
        "# Test the function\n",
        "\n",
        "# I'm going to use a while loop because I don't want to have to re-write the function for every time it doesn't work\n",
        "prob_actually_drunk = (1/1000)\n",
        "prob_previous = 0 # anti-infinite loop variable\n",
        "i = 0 # enumerator to keep track\n",
        "while prob_actually_drunk <= 0.95:\n",
        "  prob_previous = prob_actually_drunk\n",
        "  prob_actually_drunk = prob_drunk_given_positive(prob_actually_drunk, .08)\n",
        "  i+=1\n",
        "  print(f\"Test {i}: {prob_actually_drunk}% positive\")\n",
        "  if prob_previous == prob_actually_drunk:\n",
        "    print(f\"Infinite loop reached at test {i}, value: {prob_actually_drunk}\")\n",
        "    break"
      ],
      "execution_count": 86,
      "outputs": [
        {
          "output_type": "stream",
          "text": [
            "Test 1: 0.012357884330202669% positive\n",
            "Test 2: 0.13525210993291495% positive\n",
            "Test 3: 0.6615996951348605% positive\n",
            "Test 4: 0.9606895076105054% positive\n"
          ],
          "name": "stdout"
        }
      ]
    },
    {
      "cell_type": "code",
      "metadata": {
        "id": "MVLiFvhKUP_X",
        "colab_type": "code",
        "colab": {
          "base_uri": "https://localhost:8080/",
          "height": 77
        },
        "outputId": "df4bd396-188b-4151-e346-22caa10fcca7"
      },
      "source": [
        "# 2: Explore scipy.stats.bayes_mvs\n",
        "import pandas as pd\n",
        "import numpy as np\n",
        "from scipy import stats\n",
        "import matplotlib.pyplot as plt\n",
        "\n",
        "# Generate 50 coinflips\n",
        "coinflips = np.random.binomial(n=1, p=.5, size=20)\n",
        "\n",
        "results = []\n",
        "results_y = []\n",
        "\n",
        "bayes_confs, _, _ = stats.bayes_mvs(coinflips, alpha=.95)\n",
        "\n",
        "bayes_confs = pd.DataFrame(bayes_confs).T\n",
        "\n",
        "bayes_confs.columns = ['statistic', 'minmax']\n",
        "\n",
        "bayes_confs"
      ],
      "execution_count": 87,
      "outputs": [
        {
          "output_type": "execute_result",
          "data": {
            "text/html": [
              "<div>\n",
              "<style scoped>\n",
              "    .dataframe tbody tr th:only-of-type {\n",
              "        vertical-align: middle;\n",
              "    }\n",
              "\n",
              "    .dataframe tbody tr th {\n",
              "        vertical-align: top;\n",
              "    }\n",
              "\n",
              "    .dataframe thead th {\n",
              "        text-align: right;\n",
              "    }\n",
              "</style>\n",
              "<table border=\"1\" class=\"dataframe\">\n",
              "  <thead>\n",
              "    <tr style=\"text-align: right;\">\n",
              "      <th></th>\n",
              "      <th>statistic</th>\n",
              "      <th>minmax</th>\n",
              "    </tr>\n",
              "  </thead>\n",
              "  <tbody>\n",
              "    <tr>\n",
              "      <th>0</th>\n",
              "      <td>0.7</td>\n",
              "      <td>(0.4799572487244166, 0.9200427512755833)</td>\n",
              "    </tr>\n",
              "  </tbody>\n",
              "</table>\n",
              "</div>"
            ],
            "text/plain": [
              "  statistic                                    minmax\n",
              "0       0.7  (0.4799572487244166, 0.9200427512755833)"
            ]
          },
          "metadata": {
            "tags": []
          },
          "execution_count": 87
        }
      ]
    },
    {
      "cell_type": "code",
      "metadata": {
        "id": "ONQy7AxuvmWc",
        "colab_type": "code",
        "colab": {
          "base_uri": "https://localhost:8080/",
          "height": 77
        },
        "outputId": "d7ac8778-f7d6-48ce-8720-e599459b83b7"
      },
      "source": [
        "def freq_conf(sample, confidence=.95):\n",
        "  sample = np.array(sample)\n",
        "  mean = np.mean(sample)\n",
        "  n = len(sample)\n",
        "  stddev = np.std(sample, ddof=1)/np.sqrt(n)\n",
        "  var = stddev**2\n",
        "  t = stats.t.ppf((1+confidence)/2.0, n-1)\n",
        "  moe = t * stddev\n",
        "  low = mean - moe\n",
        "  high = mean + moe\n",
        "  returnframe = pd.DataFrame({'statistic':[mean],'minmax':[(low, high)]})\n",
        "  return returnframe\n",
        "\n",
        "freq_confs = freq_conf(coinflips)\n",
        "\n",
        "freq_confs"
      ],
      "execution_count": 88,
      "outputs": [
        {
          "output_type": "execute_result",
          "data": {
            "text/html": [
              "<div>\n",
              "<style scoped>\n",
              "    .dataframe tbody tr th:only-of-type {\n",
              "        vertical-align: middle;\n",
              "    }\n",
              "\n",
              "    .dataframe tbody tr th {\n",
              "        vertical-align: top;\n",
              "    }\n",
              "\n",
              "    .dataframe thead th {\n",
              "        text-align: right;\n",
              "    }\n",
              "</style>\n",
              "<table border=\"1\" class=\"dataframe\">\n",
              "  <thead>\n",
              "    <tr style=\"text-align: right;\">\n",
              "      <th></th>\n",
              "      <th>statistic</th>\n",
              "      <th>minmax</th>\n",
              "    </tr>\n",
              "  </thead>\n",
              "  <tbody>\n",
              "    <tr>\n",
              "      <th>0</th>\n",
              "      <td>0.7</td>\n",
              "      <td>(0.4799572487244166, 0.9200427512755833)</td>\n",
              "    </tr>\n",
              "  </tbody>\n",
              "</table>\n",
              "</div>"
            ],
            "text/plain": [
              "   statistic                                    minmax\n",
              "0        0.7  (0.4799572487244166, 0.9200427512755833)"
            ]
          },
          "metadata": {
            "tags": []
          },
          "execution_count": 88
        }
      ]
    },
    {
      "cell_type": "code",
      "metadata": {
        "id": "hyalR7t9vHK2",
        "colab_type": "code",
        "colab": {
          "base_uri": "https://localhost:8080/",
          "height": 264
        },
        "outputId": "f9a5df7d-b5a5-412d-a506-dda9f2e23e25"
      },
      "source": [
        "fig, ax = plt.subplots()\n",
        "\n",
        "ax.bar([0.1], bayes_confs.statistic, yerr=bayes_confs.minmax,color='red',edgecolor='black',linewidth=2, width=0.15, label='Bayesian Interpretation')\n",
        "ax.bar([-0.1], freq_confs.statistic, yerr=freq_confs.minmax, color='blue',edgecolor='black',linewidth=2, width=0.15, label='Frequentist Interpretation')\n",
        "\n",
        "ax.set_xticks([0])\n",
        "ax.set_xticklabels(['Mean'])\n",
        "\n",
        "ax.set_yticks([0,0.25,0.5,0.75,1])\n",
        "\n",
        "ax.grid(b=True, which='both')\n",
        "\n",
        "ax.legend(loc='upper left')\n",
        "\n",
        "plt.show()\n",
        "\n",
        "# As much as I'm glad I was able to get this to work, I'm not satisfied\n",
        "# From what I see on the graph vs. what I see in the numbers\n",
        "# it seems like both the bayesian and frequentist confidence interval notations\n",
        "# end up with the same mean and error values.\n",
        "# I think this has to do with how Bayesian statistics works\n",
        "#\n",
        "# Maybe it's because I'm using generated coinflip data as my sample data that's\n",
        "# causing them to come to the same conclusion, since the data's so simple, but still\n",
        "#\n",
        "# In the lecture the numbers were different, but now I see that was because\n",
        "# the confidence intervals were too.\n",
        "#\n",
        "# Also, while I was able to get the bar graph with the error lines working,\n",
        "# I think they're being graphed wrong; the max error should not be going over 1"
      ],
      "execution_count": 89,
      "outputs": [
        {
          "output_type": "display_data",
          "data": {
            "image/png": "[encoded data removed]",
            "text/plain": [
              "<Figure size 432x288 with 1 Axes>"
            ]
          },
          "metadata": {
            "tags": []
          }
        }
      ]
    },
    {
      "cell_type": "markdown",
      "metadata": {
        "id": "qdKkjjGe67Aa",
        "colab_type": "text"
      },
      "source": [
        "**3: Difference between Bayesian and Frequentist statistics**\n",
        "\n",
        "From what I understand, the main difference is in how each system is used. Frequentist statistics is for samples of populations, to get a one-and-done idea of how the population might look, within a certain preset value of confidence. Bayesian statistics on the other hand is all about iterating what you know about the data over and over, building the confidence interval by learning more and more about the data.\n",
        "\n",
        "I think, with the way I did it here, I used the Bayesian approach in a one-and-done way like how the Frequentist approach works, and as such I got the same answers in the end."
      ]
    },
    {
      "cell_type": "markdown",
      "metadata": {
        "id": "uWgWjp3PQ3Sq",
        "colab_type": "text"
      },
      "source": [
        "## Resources"
      ]
    },
    {
      "cell_type": "markdown",
      "metadata": {
        "id": "QRgHqmYIQ9qn",
        "colab_type": "text"
      },
      "source": [
        "- [Worked example of Bayes rule calculation](https://en.wikipedia.org/wiki/Bayes'_theorem#Examples) (helpful as it fully breaks out the denominator)\n",
        "- [Source code for mvsdist in scipy](https://github.com/scipy/scipy/blob/90534919e139d2a81c24bf08341734ff41a3db12/scipy/stats/morestats.py#L139)"
      ]
    },
    {
      "cell_type": "markdown",
      "metadata": {
        "id": "GP7Jv1XvwtkX",
        "colab_type": "text"
      },
      "source": [
        "## Stretch Goals:\n",
        "\n",
        "- Go back and study the content from Modules 1 & 2 to make sure that you're really comfortable with them.\n",
        "- Apply a Bayesian technique to a problem you previously worked (in an assignment or project work) on from a frequentist (standard) perspective\n",
        "- Check out [PyMC3](https://docs.pymc.io/) (note this goes beyond hypothesis tests into modeling) - read the guides and work through some examples\n",
        "- Take PyMC3 further - see if you can build something with it!"
      ]
    },
    {
      "cell_type": "code",
      "metadata": {
        "id": "iDi0eFr1x-v_",
        "colab_type": "code",
        "colab": {}
      },
      "source": [
        ""
      ],
      "execution_count": 0,
      "outputs": []
    }
  ]
}