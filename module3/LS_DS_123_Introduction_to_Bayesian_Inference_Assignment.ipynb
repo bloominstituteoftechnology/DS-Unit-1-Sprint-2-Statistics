{
  "nbformat": 4,
  "nbformat_minor": 0,
  "metadata": {
    "colab": {
      "name": "LS_DS_123_Introduction_to_Bayesian_Inference_Assignment.ipynb",
      "provenance": [],
      "collapsed_sections": [],
      "include_colab_link": true
    },
    "kernelspec": {
      "name": "python3",
      "display_name": "Python 3"
    }
  },
  "cells": [
    {
      "cell_type": "markdown",
      "metadata": {
        "id": "view-in-github",
        "colab_type": "text"
      },
      "source": [
        "<a href=\"https://colab.research.google.com/github/calebmckay1/DS-Unit-1-Sprint-2-Statistics/blob/master/module3/LS_DS_123_Introduction_to_Bayesian_Inference_Assignment.ipynb\" target=\"_parent\"><img src=\"https://colab.research.google.com/assets/colab-badge.svg\" alt=\"Open In Colab\"/></a>"
      ]
    },
    {
      "cell_type": "markdown",
      "metadata": {
        "id": "H7OLbevlbd_Z",
        "colab_type": "text"
      },
      "source": [
        "# Lambda School Data Science Module 123\n",
        "\n",
        "## Introduction to Bayesian Inference\n",
        "\n",
        "\n"
      ]
    },
    {
      "cell_type": "markdown",
      "metadata": {
        "id": "P-DzzRk5bf0z",
        "colab_type": "text"
      },
      "source": [
        "## Assignment - Code it up!\n",
        "\n",
        "We used pure math to apply Bayes Theorem to drug tests. Now write Python code to reproduce the results! This is purposefully open ended - you'll have to think about how you should represent probabilities and events. You can and should look things up.\n",
        "\n",
        "Specific goals/targets:\n",
        "\n",
        "### 1) Write a function \n",
        "\n",
        "`def prob_drunk_given_positive(prob_drunk_prior, false_positive_rate, true_positive_rate):` \n",
        "\n",
        "You should only truly need these two values in order to apply Bayes Theorem. In this example, imagine that individuals are taking a breathalyzer test with an 8% false positive rate, a 100% true positive rate, and that our prior belief about drunk driving in the population is 1/1000. \n",
        " - What is the probability that a person is drunk after one positive breathalyzer test?\n",
        " - What is the probability that a person is drunk after two positive breathalyzer tests?\n",
        " - How many positive breathalyzer tests are needed in order to have a probability that's greater than 95% that a person is drunk beyond the legal limit?\n",
        "\n",
        "### 2) Explore `scipy.stats.bayes_mvs`  \n",
        "Read its documentation, and experiment with it on data you've tested in other ways earlier this week.\n",
        " - Create a visualization comparing the results of a Bayesian approach to a traditional/frequentist approach. (with a large sample size they should look close to identical, however, take this opportunity to practice visualizing condfidence intervals in general. The following are some potential ways that you could visualize confidence intervals on your graph:\n",
        "  - [Matplotlib Error Bars](https://matplotlib.org/3.1.1/api/_as_gen/matplotlib.pyplot.errorbar.html)\n",
        "  - [Seaborn barplot with error bars](https://seaborn.pydata.org/generated/seaborn.barplot.html)\n",
        "  - [Vertical ines to show bounds of confidence interval](https://www.simplypsychology.org/confidence-interval.jpg)\n",
        "  - [Confidence Intervals on Box Plots](https://matplotlib.org/3.1.1/api/_as_gen/matplotlib.axes.Axes.boxplot.html)\n",
        "\n",
        "### 3) In your own words, summarize the difference between Bayesian and Frequentist statistics\n",
        "\n",
        "If you're unsure where to start, check out [this blog post of Bayes theorem with Python](https://dataconomy.com/2015/02/introduction-to-bayes-theorem-with-python/).\n",
        "\n"
      ]
    },
    {
      "cell_type": "code",
      "metadata": {
        "id": "Sx6P7-ynqIPd",
        "colab_type": "code",
        "outputId": "7c1d1c3a-0c9a-4b83-ad3f-8ccd90658330",
        "colab": {
          "base_uri": "https://localhost:8080/",
          "height": 34
        }
      },
      "source": [
        "def prob_drunk_given_positive(prior_prob_drunk, false_positive_rate, true_positive_rate):\n",
        "  num = true_positive_rate*prior_prob_drunk\n",
        "  den = true_positive_rate*prior_prob_drunk + false_positive_rate*(1-prior_prob_drunk)\n",
        "  prob = num / den\n",
        "  return prob\n",
        "\n",
        "prob1 = prob_drunk_given_positive(1/1000,.08,1)\n",
        "prob1"
      ],
      "execution_count": 216,
      "outputs": [
        {
          "output_type": "execute_result",
          "data": {
            "text/plain": [
              "0.012357884330202669"
            ]
          },
          "metadata": {
            "tags": []
          },
          "execution_count": 216
        }
      ]
    },
    {
      "cell_type": "code",
      "metadata": {
        "id": "FURSHv956047",
        "colab_type": "code",
        "outputId": "91483818-a774-4a2b-c608-944849b0d4df",
        "colab": {
          "base_uri": "https://localhost:8080/",
          "height": 34
        }
      },
      "source": [
        "prob2 = prob_drunk_given_positive(prob1,.08,1)\n",
        "prob2"
      ],
      "execution_count": 217,
      "outputs": [
        {
          "output_type": "execute_result",
          "data": {
            "text/plain": [
              "0.13525210993291495"
            ]
          },
          "metadata": {
            "tags": []
          },
          "execution_count": 217
        }
      ]
    },
    {
      "cell_type": "code",
      "metadata": {
        "id": "_qDy9qof60xO",
        "colab_type": "code",
        "outputId": "df3622a0-3f76-4a18-8924-45905fe0d6d3",
        "colab": {
          "base_uri": "https://localhost:8080/",
          "height": 34
        }
      },
      "source": [
        "prob3 = prob_drunk_given_positive(prob2,.08,1)\n",
        "prob3"
      ],
      "execution_count": 218,
      "outputs": [
        {
          "output_type": "execute_result",
          "data": {
            "text/plain": [
              "0.6615996951348605"
            ]
          },
          "metadata": {
            "tags": []
          },
          "execution_count": 218
        }
      ]
    },
    {
      "cell_type": "code",
      "metadata": {
        "id": "8bp7XhVX60sp",
        "colab_type": "code",
        "outputId": "d3f226f1-556c-44b5-cf42-79591768daf1",
        "colab": {
          "base_uri": "https://localhost:8080/",
          "height": 34
        }
      },
      "source": [
        "prob4 = prob_drunk_given_positive(prob3,.08,1)\n",
        "prob4"
      ],
      "execution_count": 219,
      "outputs": [
        {
          "output_type": "execute_result",
          "data": {
            "text/plain": [
              "0.9606895076105054"
            ]
          },
          "metadata": {
            "tags": []
          },
          "execution_count": 219
        }
      ]
    },
    {
      "cell_type": "code",
      "metadata": {
        "id": "D7AXAmTx7Pjp",
        "colab_type": "code",
        "outputId": "d06108bc-ccd2-48ee-cf07-a0314b0bcde2",
        "colab": {
          "base_uri": "https://localhost:8080/",
          "height": 34
        }
      },
      "source": [
        "# just a little more practice with functions here in this cell\n",
        "\n",
        "def function_name(value1, value2, value3):\n",
        "  s1 = value3*value1\n",
        "  s2 = value3*value1 + value2*(1-value1)\n",
        "  s3 = s1 / s2\n",
        "  return s3\n",
        "\n",
        "function_name(1/1000,.08,1)"
      ],
      "execution_count": 220,
      "outputs": [
        {
          "output_type": "execute_result",
          "data": {
            "text/plain": [
              "0.012357884330202669"
            ]
          },
          "metadata": {
            "tags": []
          },
          "execution_count": 220
        }
      ]
    },
    {
      "cell_type": "code",
      "metadata": {
        "id": "nf1UbQq2qIaZ",
        "colab_type": "code",
        "outputId": "1dc6b440-5076-45fb-b082-d00583fe97cd",
        "colab": {
          "base_uri": "https://localhost:8080/",
          "height": 34
        }
      },
      "source": [
        "prior_prob_drunk = 1/1000\n",
        "true_positive_rate = 1\n",
        "false_positive_rate = 0.08\n",
        "not_drunk_prior = 1 - prior_prob_drunk\n",
        "\n",
        "num = true_positive_rate*prior_prob_drunk\n",
        "\n",
        "den = true_positive_rate*prior_prob_drunk + false_positive_rate*not_drunk_prior\n",
        "\n",
        "prob = num/den\n",
        "print(prob)\n"
      ],
      "execution_count": 221,
      "outputs": [
        {
          "output_type": "stream",
          "text": [
            "0.012357884330202669\n"
          ],
          "name": "stdout"
        }
      ]
    },
    {
      "cell_type": "code",
      "metadata": {
        "id": "ykOeAwgbqIdb",
        "colab_type": "code",
        "outputId": "54421b3e-a7bb-4022-fa1f-674e405e79b6",
        "colab": {
          "base_uri": "https://localhost:8080/",
          "height": 34
        }
      },
      "source": [
        "prior_prob_drunk = 0.012357884330202669\n",
        "true_positive_rate = 1\n",
        "false_positive_rate = 0.08\n",
        "not_drunk_prior = 1 - prior_prob_drunk\n",
        "\n",
        "num = true_positive_rate*prior_prob_drunk\n",
        "\n",
        "den = true_positive_rate*prior_prob_drunk + false_positive_rate*not_drunk_prior\n",
        "\n",
        "prob = num/den\n",
        "print(prob)"
      ],
      "execution_count": 222,
      "outputs": [
        {
          "output_type": "stream",
          "text": [
            "0.13525210993291495\n"
          ],
          "name": "stdout"
        }
      ]
    },
    {
      "cell_type": "code",
      "metadata": {
        "id": "rHVWz5LnsUPC",
        "colab_type": "code",
        "outputId": "f56e4029-3f83-41f5-d6cb-7b593fc8611c",
        "colab": {
          "base_uri": "https://localhost:8080/",
          "height": 34
        }
      },
      "source": [
        "prior_prob_drunk = 0.13525210993291495\n",
        "true_positive_rate = 1\n",
        "false_positive_rate = 0.08\n",
        "not_drunk_prior = 1 - prior_prob_drunk\n",
        "\n",
        "num = true_positive_rate*prior_prob_drunk\n",
        "\n",
        "den = true_positive_rate*prior_prob_drunk + false_positive_rate*not_drunk_prior\n",
        "\n",
        "prob = num/den\n",
        "print(prob)"
      ],
      "execution_count": 223,
      "outputs": [
        {
          "output_type": "stream",
          "text": [
            "0.6615996951348605\n"
          ],
          "name": "stdout"
        }
      ]
    },
    {
      "cell_type": "code",
      "metadata": {
        "id": "wIzEDQ2EsUR4",
        "colab_type": "code",
        "outputId": "83e96fc8-c979-4522-dcbc-a5c452f2309d",
        "colab": {
          "base_uri": "https://localhost:8080/",
          "height": 34
        }
      },
      "source": [
        "prior_prob_drunk = 0.6615996951348605\n",
        "true_positive_rate = 1\n",
        "false_positive_rate = 0.08\n",
        "not_drunk_prior = 1 - prior_prob_drunk\n",
        "\n",
        "num = true_positive_rate*prior_prob_drunk\n",
        "\n",
        "den = true_positive_rate*prior_prob_drunk + false_positive_rate*not_drunk_prior\n",
        "\n",
        "prob = num/den\n",
        "print(prob)\n",
        "\n",
        "# it would take 4 breathyalyzer tests in order for someone to have a probability\n",
        "# that's greater than 95% for the legal limit."
      ],
      "execution_count": 224,
      "outputs": [
        {
          "output_type": "stream",
          "text": [
            "0.9606895076105054\n"
          ],
          "name": "stdout"
        }
      ]
    },
    {
      "cell_type": "code",
      "metadata": {
        "id": "eXbsaTwvR3v-",
        "colab_type": "code",
        "outputId": "c98273fb-2b2d-4aad-c83f-9e2afca8d289",
        "colab": {
          "base_uri": "https://localhost:8080/",
          "height": 190
        }
      },
      "source": [
        "probabilities = []\n",
        "\n",
        "prior = 1/1000\n",
        "true_positive = 1\n",
        "false_positive = .08\n",
        "\n",
        "for test in range(1,11):\n",
        "  prior = prob_drunk_given_positive(prior, false_positive, true_positive)\n",
        "  probabilities.append(prior) \n",
        "\n",
        "probabilities"
      ],
      "execution_count": 225,
      "outputs": [
        {
          "output_type": "execute_result",
          "data": {
            "text/plain": [
              "[0.012357884330202669,\n",
              " 0.13525210993291495,\n",
              " 0.6615996951348605,\n",
              " 0.9606895076105054,\n",
              " 0.9967371577896734,\n",
              " 0.9997381867081508,\n",
              " 0.9999790498904363,\n",
              " 0.9999983239589307,\n",
              " 0.9999998659165077,\n",
              " 0.9999999892733192]"
            ]
          },
          "metadata": {
            "tags": []
          },
          "execution_count": 225
        }
      ]
    },
    {
      "cell_type": "code",
      "metadata": {
        "id": "XitQ9k9iR31K",
        "colab_type": "code",
        "outputId": "3b507f4c-908b-490b-e6d7-3cdac2cd2a33",
        "colab": {
          "base_uri": "https://localhost:8080/",
          "height": 265
        }
      },
      "source": [
        "import matplotlib.pyplot as plt\n",
        "\n",
        "plt.plot(probabilities)\n",
        "plt.show()"
      ],
      "execution_count": 226,
      "outputs": [
        {
          "output_type": "display_data",
          "data": {
            "image/png": "[encoded data removed]",
            "text/plain": [
              "<Figure size 432x288 with 1 Axes>"
            ]
          },
          "metadata": {
            "tags": [],
            "needs_background": "light"
          }
        }
      ]
    },
    {
      "cell_type": "code",
      "metadata": {
        "id": "8nk5U6EfQjCb",
        "colab_type": "code",
        "colab": {}
      },
      "source": [
        "# part 2 of assignment below\n",
        "#                               |\n",
        "#                               |\n",
        "#                             \\ | /\n",
        "#                              \\|/"
      ],
      "execution_count": 0,
      "outputs": []
    },
    {
      "cell_type": "code",
      "metadata": {
        "id": "kQXAKxACwlwp",
        "colab_type": "code",
        "colab": {}
      },
      "source": [
        "import pandas as pd\n",
        "import numpy as np\n",
        "from scipy import stats\n",
        "\n",
        "column_headers = ['age','workclass','f','education','ed-num','mstatus',\n",
        "                  'occupation','relationship','race','sex','cap-gain',\n",
        "                  'cap-loss','hours-week','native-country', 'income']\n",
        "\n",
        "adf = pd.read_csv('https://archive.ics.uci.edu/ml/machine-learning-databases/adult/adult.data',\n",
        "                  names=column_headers, na_values='?')\n",
        "\n",
        "male = adf[['sex','hours-week']]"
      ],
      "execution_count": 0,
      "outputs": []
    },
    {
      "cell_type": "code",
      "metadata": {
        "id": "M94jlCruwl0u",
        "colab_type": "code",
        "colab": {}
      },
      "source": [
        "male = male[male['sex'] == ' Male']\n",
        "male = male.drop('sex', axis=1)"
      ],
      "execution_count": 0,
      "outputs": []
    },
    {
      "cell_type": "code",
      "metadata": {
        "id": "yZgy7DNLVhFX",
        "colab_type": "code",
        "outputId": "8f323989-3867-46d6-8a64-14801b32d1c8",
        "colab": {
          "base_uri": "https://localhost:8080/",
          "height": 34
        }
      },
      "source": [
        "sample = male.sample(500)\n",
        "sample['hours-week'].mean()"
      ],
      "execution_count": 230,
      "outputs": [
        {
          "output_type": "execute_result",
          "data": {
            "text/plain": [
              "43.768"
            ]
          },
          "metadata": {
            "tags": []
          },
          "execution_count": 230
        }
      ]
    },
    {
      "cell_type": "code",
      "metadata": {
        "id": "hPWfTN8j33iJ",
        "colab_type": "code",
        "colab": {}
      },
      "source": [
        "def confidence_interval(data, confidence=0.95):\n",
        "  data = np.array(data)\n",
        "  x_bar = np.mean(data)\n",
        "  n = len(data)\n",
        "  s = np.std(data, ddof=1)\n",
        "  std_err = s / np.sqrt(n)\n",
        "  t = stats.t.ppf((1 + confidence) / 2.0, n - 1)\n",
        "  margin_of_error = t*std_err\n",
        "  lower_bound = x_bar - margin_of_error\n",
        "  upper_bound = x_bar + margin_of_error\n",
        "  return (lower_bound, x_bar, upper_bound)"
      ],
      "execution_count": 0,
      "outputs": []
    },
    {
      "cell_type": "code",
      "metadata": {
        "id": "71QQMyMG33oc",
        "colab_type": "code",
        "outputId": "691593b4-0261-4bc0-96bb-c0b1e0255c05",
        "colab": {
          "base_uri": "https://localhost:8080/",
          "height": 34
        }
      },
      "source": [
        "frequentist = confidence_interval(sample)\n",
        "frequentist"
      ],
      "execution_count": 232,
      "outputs": [
        {
          "output_type": "execute_result",
          "data": {
            "text/plain": [
              "(42.65966830195487, 43.768, 44.87633169804513)"
            ]
          },
          "metadata": {
            "tags": []
          },
          "execution_count": 232
        }
      ]
    },
    {
      "cell_type": "code",
      "metadata": {
        "id": "TI3fJu6PWFQs",
        "colab_type": "code",
        "outputId": "6b5e7008-992e-42d0-c3cf-524d53e31268",
        "colab": {
          "base_uri": "https://localhost:8080/",
          "height": 34
        }
      },
      "source": [
        "bayesian, _, _ = stats.bayes_mvs(sample, alpha=.95)\n",
        "bayesian"
      ],
      "execution_count": 233,
      "outputs": [
        {
          "output_type": "execute_result",
          "data": {
            "text/plain": [
              "Mean(statistic=43.768, minmax=(42.65966830195487, 44.87633169804513))"
            ]
          },
          "metadata": {
            "tags": []
          },
          "execution_count": 233
        }
      ]
    },
    {
      "cell_type": "code",
      "metadata": {
        "id": "j5FaZykYXPCf",
        "colab_type": "code",
        "outputId": "57244742-0f29-44cf-d558-f58a83343800",
        "colab": {
          "base_uri": "https://localhost:8080/",
          "height": 34
        }
      },
      "source": [
        "bayesian[0]"
      ],
      "execution_count": 234,
      "outputs": [
        {
          "output_type": "execute_result",
          "data": {
            "text/plain": [
              "43.768"
            ]
          },
          "metadata": {
            "tags": []
          },
          "execution_count": 234
        }
      ]
    },
    {
      "cell_type": "code",
      "metadata": {
        "id": "rxIihTfJWNUF",
        "colab_type": "code",
        "outputId": "6181103e-af4f-49ac-9e99-d1b647a3bd89",
        "colab": {
          "base_uri": "https://localhost:8080/",
          "height": 268
        }
      },
      "source": [
        "sample.plot.density()\n",
        "plt.axvline(frequentist[0], color='red')\n",
        "plt.axvline(frequentist[1], color='blue')\n",
        "plt.axvline(frequentist[2], color='red')\n",
        "plt.show()"
      ],
      "execution_count": 235,
      "outputs": [
        {
          "output_type": "display_data",
          "data": {
            "image/png": "[encoded data removed]",
            "text/plain": [
              "<Figure size 432x288 with 1 Axes>"
            ]
          },
          "metadata": {
            "tags": [],
            "needs_background": "light"
          }
        }
      ]
    },
    {
      "cell_type": "code",
      "metadata": {
        "id": "MsgtGaHNWkF2",
        "colab_type": "code",
        "outputId": "3455d963-c2e4-4854-d82a-76e8eb1db06f",
        "colab": {
          "base_uri": "https://localhost:8080/",
          "height": 268
        }
      },
      "source": [
        "sample.plot.density()\n",
        "plt.axvline(bayesian.minmax[0], color='red')\n",
        "plt.axvline(bayesian[0], color='blue')\n",
        "plt.axvline(bayesian.minmax[1], color='red')\n",
        "plt.show()"
      ],
      "execution_count": 236,
      "outputs": [
        {
          "output_type": "display_data",
          "data": {
            "image/png": "[encoded data removed]",
            "text/plain": [
              "<Figure size 432x288 with 1 Axes>"
            ]
          },
          "metadata": {
            "tags": [],
            "needs_background": "light"
          }
        }
      ]
    },
    {
      "cell_type": "code",
      "metadata": {
        "id": "b5dgTyY1azeh",
        "colab_type": "code",
        "outputId": "5943b18f-3df4-435d-a559-a285afc7e350",
        "colab": {
          "base_uri": "https://localhost:8080/",
          "height": 265
        }
      },
      "source": [
        "plt.bar(x=0, height=frequentist[1], yerr=(frequentist[2]-frequentist[1]))\n",
        "plt.bar(x=1, height=bayesian.statistic, yerr=(bayesian.minmax[1]-bayesian.statistic))\n",
        "plt.show()"
      ],
      "execution_count": 237,
      "outputs": [
        {
          "output_type": "display_data",
          "data": {
            "image/png": "[encoded data removed]",
            "text/plain": [
              "<Figure size 432x288 with 1 Axes>"
            ]
          },
          "metadata": {
            "tags": [],
            "needs_background": "light"
          }
        }
      ]
    },
    {
      "cell_type": "markdown",
      "metadata": {
        "id": "VMrvRqAbZYo3",
        "colab_type": "text"
      },
      "source": [
        "well looks pretty good i guess not too sure how exactly everything fits into place like it did, but I think more and more exposure to the syntax and everything, and I'll be able to get it a lot easier, took a long time so far lol.\n",
        "\n",
        "but basically what the data and graphs show it that the average male who responded to the census worked about 43 hours per week."
      ]
    },
    {
      "cell_type": "code",
      "metadata": {
        "id": "xpVhZyUnbf7o",
        "colab_type": "code",
        "colab": {}
      },
      "source": [
        "# part 3 of assignment below  \n",
        "#                               |\n",
        "#                               |\n",
        "#                             \\ | /\n",
        "#                              \\|/"
      ],
      "execution_count": 0,
      "outputs": []
    },
    {
      "cell_type": "markdown",
      "metadata": {
        "id": "5ziJUPW3ZFBi",
        "colab_type": "text"
      },
      "source": [
        "It seems like Bayesian statistics is based more on previous beliefs. Like if i were to assign a probability to flipping a coin, I'd give it 50/50 chance just based on my past beliefs. If I were to assign a probability using Frequentist statistics, I'd take a sample set, and use the statistics from the sample to assign a probability of what I think would happen next.\n",
        "\n",
        "Frequentist statistics uses sample's mean to predict the population mean.\n",
        "\n",
        "Bayesian statistics uses a likelihood then uses the samples to make the the likelihood narrower and narrower. Like in part 1 of assignment we started with  1/1000 to be the likelihood then narrowed it down through multiple cells."
      ]
    },
    {
      "cell_type": "markdown",
      "metadata": {
        "id": "SLy5LV6netF5",
        "colab_type": "text"
      },
      "source": [
        "Frequentists - probability is due to the frequency of data in a sample\n",
        "- 50 coin flips, 30 are heads, probability of heads is 60%\n",
        "- odds of drawing an 'even' number ball in lotto, frequentist would say count the total number of even and odd balls in sample then divide by 2, and thats your probability.\n",
        "\n",
        "Bayesians use assumptions and can be biased and irrational, and uses a likelihood way of testing.\n",
        "- assuming the probability of the lotto numbers is 50% without actually testing it.\n",
        "- it uses prior beliefs and likelihood\n",
        "\n",
        "in 1st part of assignment we used a prior belief that for every 1000 people driving, one of them is drunk. Then we updated our belief by changing our prior to a new number to get closer to the true value.\n",
        "\n",
        "\n",
        "Frequentist makes a lot sense but Bayesians still got me a little confused..\n",
        "\n",
        "\n"
      ]
    },
    {
      "cell_type": "code",
      "metadata": {
        "id": "QaXsS0nknry6",
        "colab_type": "code",
        "colab": {}
      },
      "source": [
        "########"
      ],
      "execution_count": 0,
      "outputs": []
    },
    {
      "cell_type": "markdown",
      "metadata": {
        "id": "uWgWjp3PQ3Sq",
        "colab_type": "text"
      },
      "source": [
        "## Resources"
      ]
    },
    {
      "cell_type": "markdown",
      "metadata": {
        "id": "QRgHqmYIQ9qn",
        "colab_type": "text"
      },
      "source": [
        "- [Worked example of Bayes rule calculation](https://en.wikipedia.org/wiki/Bayes'_theorem#Examples) (helpful as it fully breaks out the denominator)\n",
        "- [Source code for mvsdist in scipy](https://github.com/scipy/scipy/blob/90534919e139d2a81c24bf08341734ff41a3db12/scipy/stats/morestats.py#L139)"
      ]
    },
    {
      "cell_type": "markdown",
      "metadata": {
        "id": "GP7Jv1XvwtkX",
        "colab_type": "text"
      },
      "source": [
        "## Stretch Goals:\n",
        "\n",
        "- Go back and study the content from Modules 1 & 2 to make sure that you're really comfortable with them.\n",
        "- Apply a Bayesian technique to a problem you previously worked (in an assignment or project work) on from a frequentist (standard) perspective\n",
        "- Check out [PyMC3](https://docs.pymc.io/) (note this goes beyond hypothesis tests into modeling) - read the guides and work through some examples\n",
        "- Take PyMC3 further - see if you can build something with it!"
      ]
    },
    {
      "cell_type": "code",
      "metadata": {
        "id": "iDi0eFr1x-v_",
        "colab_type": "code",
        "colab": {}
      },
      "source": [
        ""
      ],
      "execution_count": 0,
      "outputs": []
    }
  ]
}