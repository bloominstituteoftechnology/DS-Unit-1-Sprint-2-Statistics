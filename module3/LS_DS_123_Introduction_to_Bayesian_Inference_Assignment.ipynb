{
  "nbformat": 4,
  "nbformat_minor": 0,
  "metadata": {
    "colab": {
      "name": "LS_DS_123_Introduction_to_Bayesian_Inference_Assignment.ipynb",
      "provenance": [],
      "include_colab_link": true
    },
    "kernelspec": {
      "name": "python3",
      "display_name": "Python 3"
    }
  },
  "cells": [
    {
      "cell_type": "markdown",
      "metadata": {
        "id": "view-in-github",
        "colab_type": "text"
      },
      "source": [
        "<a href=\"https://colab.research.google.com/github/alexmjn/DS-Unit-1-Sprint-2-Statistics/blob/master/module3/LS_DS_123_Introduction_to_Bayesian_Inference_Assignment.ipynb\" target=\"_parent\"><img src=\"https://colab.research.google.com/assets/colab-badge.svg\" alt=\"Open In Colab\"/></a>"
      ]
    },
    {
      "cell_type": "markdown",
      "metadata": {
        "id": "H7OLbevlbd_Z",
        "colab_type": "text"
      },
      "source": [
        "# Lambda School Data Science Module 123\n",
        "\n",
        "## Introduction to Bayesian Inference\n",
        "\n",
        "\n"
      ]
    },
    {
      "cell_type": "markdown",
      "metadata": {
        "id": "P-DzzRk5bf0z",
        "colab_type": "text"
      },
      "source": [
        "## Assignment - Code it up!\n",
        "\n",
        "We used pure math to apply Bayes Theorem to drug tests. Now write Python code to reproduce the results! This is purposefully open ended - you'll have to think about how you should represent probabilities and events. You can and should look things up.\n",
        "\n",
        "Specific goals/targets:\n",
        "\n",
        "### 1) Write a function \n",
        "\n",
        "`def prob_drunk_given_positive(prob_drunk_prior, false_positive_rate, true_positive_rate):` \n",
        "\n",
        "You should only truly need these three values in order to apply Bayes Theorem. In this example, imagine that individuals are taking a breathalyzer test with an 8% false positive rate, a 100% true positive rate, and that our prior belief about drunk driving in the population is 1/1000. Be able to call the function iteratively through a for loop. \n",
        " - What is the probability that a person is drunk after one positive breathalyzer test?\n",
        " - What is the probability that a person is drunk after two positive breathalyzer tests?\n",
        " - How many positive breathalyzer tests are needed in order to have a probability that's greater than 95% that a person is drunk beyond the legal limit?\n",
        "\n",
        "### 2) Explore `scipy.stats.bayes_mvs`  \n",
        "Read its documentation, and experiment with it on data you've tested in other ways earlier this week.\n",
        " - Create a visualization comparing the results of a Bayesian approach to a traditional/frequentist approach. (with a large sample size they should look close to identical, however, take this opportunity to practice visualizing condfidence intervals in general. The following are some potential ways that you could visualize confidence intervals on your graph:\n",
        "  - [Matplotlib Error Bars](https://matplotlib.org/3.1.1/api/_as_gen/matplotlib.pyplot.errorbar.html)\n",
        "  - [Seaborn barplot with error bars](https://seaborn.pydata.org/generated/seaborn.barplot.html)\n",
        "  - [Vertical ines to show bounds of confidence interval](https://www.simplypsychology.org/confidence-interval.jpg)\n",
        "  - [Confidence Intervals on Box Plots](https://matplotlib.org/3.1.1/api/_as_gen/matplotlib.axes.Axes.boxplot.html)\n",
        "\n",
        "### 3) In your own words, summarize the difference between Bayesian and Frequentist statistics\n",
        "\n",
        "If you're unsure where to start, check out [this blog post of Bayes theorem with Python](https://dataconomy.com/2015/02/introduction-to-bayes-theorem-with-python/).\n",
        "\n"
      ]
    },
    {
      "cell_type": "code",
      "metadata": {
        "id": "xpVhZyUnbf7o",
        "colab_type": "code",
        "colab": {}
      },
      "source": [
        "def prob_drunk_given_positive(prob_drunk_prior, false_positive_rate, true_positive_rate):\n",
        "  \"\"\"\n",
        "  Use Bayes' Theorem to calculate the probability that someone who failed a\n",
        "  breathalyzer is drunk.\n",
        "  \"\"\"\n",
        "  numerator = (prob_drunk_prior * true_positive_rate)\n",
        "  denominator = ((prob_drunk_prior * true_positive_rate) + ((1 - prob_drunk_prior) * false_positive_rate))\n",
        "  posterior_probability = numerator/denominator\n",
        "  return posterior_probability"
      ],
      "execution_count": 0,
      "outputs": []
    },
    {
      "cell_type": "code",
      "metadata": {
        "id": "BOHl4SFn7_sk",
        "colab_type": "code",
        "colab": {
          "base_uri": "https://localhost:8080/",
          "height": 34
        },
        "outputId": "751b27c7-41f4-4efd-e5ce-3f11c4bd7404"
      },
      "source": [
        "prob_drunk_given_positive(1/1000, .08, 1)"
      ],
      "execution_count": 4,
      "outputs": [
        {
          "output_type": "execute_result",
          "data": {
            "text/plain": [
              "0.012357884330202669"
            ]
          },
          "metadata": {
            "tags": []
          },
          "execution_count": 4
        }
      ]
    },
    {
      "cell_type": "code",
      "metadata": {
        "id": "oNOPlGd-8SnR",
        "colab_type": "code",
        "colab": {
          "base_uri": "https://localhost:8080/",
          "height": 34
        },
        "outputId": "4e68eaa7-4518-4130-89f0-31373792bd4f"
      },
      "source": [
        "prob_drunk_given_positive(prob_drunk_given_positive(1/1000, .08, 1), .08, 1)"
      ],
      "execution_count": 5,
      "outputs": [
        {
          "output_type": "execute_result",
          "data": {
            "text/plain": [
              "0.13525210993291495"
            ]
          },
          "metadata": {
            "tags": []
          },
          "execution_count": 5
        }
      ]
    },
    {
      "cell_type": "markdown",
      "metadata": {
        "id": "UzAqy4n2Egwo",
        "colab_type": "text"
      },
      "source": [
        "Under these assumptions, someone who fails a breathalyzer once is only 1.2% to be drunk! After two tests, that increases, but still only to 13.5%."
      ]
    },
    {
      "cell_type": "code",
      "metadata": {
        "id": "MLtVYm6E8bO_",
        "colab_type": "code",
        "colab": {}
      },
      "source": [
        "def prob_dd_iterator(n, prob_drunk_prior = .001,\n",
        "                     false_positive_rate = .08, true_positive_rate = 1):\n",
        "  \"\"\"\n",
        "  Simulates n breathalyzer tests.\n",
        "  \n",
        "  Takes a number of positive tests, the population rate of drunk driving,\n",
        "  the false positive rate of the test, and the rate at which the test\n",
        "  detects true drunk driving.\n",
        "  \n",
        "  Returns the probability the driver is drunk.\n",
        "  \"\"\"\n",
        "  for i in range(n):\n",
        "    prob_drunk_prior = prob_drunk_given_positive(prob_drunk_prior,\n",
        "                                                  false_positive_rate,\n",
        "                                                  true_positive_rate)\n",
        "  return prob_drunk_prior  "
      ],
      "execution_count": 0,
      "outputs": []
    },
    {
      "cell_type": "code",
      "metadata": {
        "id": "rTjJyM3i9SGR",
        "colab_type": "code",
        "colab": {
          "base_uri": "https://localhost:8080/",
          "height": 34
        },
        "outputId": "26e12d73-9422-4278-c236-e632ba1f9f72"
      },
      "source": [
        "# I verify this produces the desired output \n",
        "prob_dd_iterator(2)"
      ],
      "execution_count": 7,
      "outputs": [
        {
          "output_type": "execute_result",
          "data": {
            "text/plain": [
              "0.13525210993291495"
            ]
          },
          "metadata": {
            "tags": []
          },
          "execution_count": 7
        }
      ]
    },
    {
      "cell_type": "code",
      "metadata": {
        "id": "xLwEqDD--J6e",
        "colab_type": "code",
        "colab": {}
      },
      "source": [
        "def calculate_minimum_tests(p = .95, \n",
        "                            prob_drunk_prior = .001,\n",
        "                            false_positive_rate = .08, \n",
        "                            true_positive_rate = 1):\n",
        "  \n",
        "  \"\"\"\n",
        "  Calculates the minimum number of positive breathalyzer tests to guarantee that \n",
        "  the probability of the driver actually being drunk is higher than the specified\n",
        "  threshold.\n",
        "  \"\"\"\n",
        "  tests = 0\n",
        "  while prob_drunk_prior < p:\n",
        "    tests += 1\n",
        "    prob_drunk_prior = prob_drunk_given_positive(prob_drunk_prior,\n",
        "                                                  false_positive_rate,\n",
        "                                                  true_positive_rate)\n",
        "  return tests\n",
        "\n"
      ],
      "execution_count": 0,
      "outputs": []
    },
    {
      "cell_type": "code",
      "metadata": {
        "id": "zMXyZqC-D1Z_",
        "colab_type": "code",
        "colab": {
          "base_uri": "https://localhost:8080/",
          "height": 34
        },
        "outputId": "21a4af1c-ac4c-4a88-ba0c-d5fdf19e9278"
      },
      "source": [
        "calculate_minimum_tests()"
      ],
      "execution_count": 10,
      "outputs": [
        {
          "output_type": "execute_result",
          "data": {
            "text/plain": [
              "4"
            ]
          },
          "metadata": {
            "tags": []
          },
          "execution_count": 10
        }
      ]
    },
    {
      "cell_type": "code",
      "metadata": {
        "id": "XbZuvATdD5bg",
        "colab_type": "code",
        "colab": {
          "base_uri": "https://localhost:8080/",
          "height": 34
        },
        "outputId": "99121d35-9b44-4b73-abd2-8361fee142b4"
      },
      "source": [
        "prob_dd_iterator(4)"
      ],
      "execution_count": 11,
      "outputs": [
        {
          "output_type": "execute_result",
          "data": {
            "text/plain": [
              "0.9606895076105054"
            ]
          },
          "metadata": {
            "tags": []
          },
          "execution_count": 11
        }
      ]
    },
    {
      "cell_type": "markdown",
      "metadata": {
        "id": "-xbsCzSEFJCk",
        "colab_type": "text"
      },
      "source": [
        "The minimum_tests function shows that we need 4 positive tests to have more than a .95 probability that a driver is drunk."
      ]
    },
    {
      "cell_type": "markdown",
      "metadata": {
        "id": "btC75LxcFjKQ",
        "colab_type": "text"
      },
      "source": [
        "**Frequentist statistics** offer a clean method of concluding whether data is significant or insignificant. The appeal is that it's relatively easy to calculate and interpret* p-values. \n",
        "\n",
        "  *: not really, but it's easy to think you know how to. \n",
        "\n",
        "**Bayesian statistics** aren't as clean, and require the use of prior probabilities, which may not be as cut-and-dry as frequentist statistics. They use prior probabilities and observed evidence to produce an estimate of the posterior probability. (Over time and repeated applications, both methods will converge.)  \n",
        "\n",
        "  However, there are several conceptual issues with frequentist statistics. Firstly, we know that the null hypothesis is never true. The true population effect is essentially never *truly* zero in something we would be looking at. So the real question is one of effect size, which the binary interpretations of frequentist statistics obscure.\n",
        "\n",
        "  Secondly: we rarely truly have zero prior knowledge. In fact, many of the worst replication-crisis offenders would have been impossible with a need to justify a prior belief. For example, experiments that tied voting preferences to \"time within menstrual cycle\" would run up against a body of literature that strongly suggested electoral choices are very, very stable over time.\n",
        "\n",
        "  Finally, the ease of implicitly running many different experiments (how do the subgroups look? what about interaction effects?) means that, without being pinned down to realistic prior estimates of effect sizes, it is really, really easy to use frequentist statistics in a way that generates results that are not just overblown but completely uncorrelated with reality. We now know that entire bodies of psychological literature were based on statistical noise. Years and years of work have literally no value.\n",
        "\n",
        "[What has happened down here, is that the winds have changed.](https://statmodeling.stat.columbia.edu/2016/09/21/what-has-happened-down-here-is-the-winds-have-changed/)\n",
        "\n",
        "  Now, it's not fair to pin this entirely on frequentist statistics. It can be done well or poorly. The incentive structure in academia, a certain lack of trendiness in theory and methods, and a media willing to uncritically accept claims all contributed. But, at the same time, it's hard to argue things would have gotten so bad without the widespread usage of significance testing and p-values."
      ]
    },
    {
      "cell_type": "markdown",
      "metadata": {
        "id": "uWgWjp3PQ3Sq",
        "colab_type": "text"
      },
      "source": [
        "\n",
        "## Resources"
      ]
    },
    {
      "cell_type": "markdown",
      "metadata": {
        "id": "QRgHqmYIQ9qn",
        "colab_type": "text"
      },
      "source": [
        "- [Worked example of Bayes rule calculation](https://en.wikipedia.org/wiki/Bayes'_theorem#Examples) (helpful as it fully breaks out the denominator)\n",
        "- [Source code for mvsdist in scipy](https://github.com/scipy/scipy/blob/90534919e139d2a81c24bf08341734ff41a3db12/scipy/stats/morestats.py#L139)"
      ]
    },
    {
      "cell_type": "markdown",
      "metadata": {
        "id": "GP7Jv1XvwtkX",
        "colab_type": "text"
      },
      "source": [
        "## Stretch Goals:\n",
        "\n",
        "- Go back and study the content from Modules 1 & 2 to make sure that you're really comfortable with them.\n",
        "- Apply a Bayesian technique to a problem you previously worked (in an assignment or project work) on from a frequentist (standard) perspective\n",
        "- Check out [PyMC3](https://docs.pymc.io/) (note this goes beyond hypothesis tests into modeling) - read the guides and work through some examples\n",
        "- Take PyMC3 further - see if you can build something with it!"
      ]
    },
    {
      "cell_type": "code",
      "metadata": {
        "id": "iDi0eFr1x-v_",
        "colab_type": "code",
        "colab": {}
      },
      "source": [
        ""
      ],
      "execution_count": 0,
      "outputs": []
    }
  ]
}