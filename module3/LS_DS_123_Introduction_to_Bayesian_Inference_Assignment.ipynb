{
  "nbformat": 4,
  "nbformat_minor": 0,
  "metadata": {
    "colab": {
      "name": "LS_DS_123_Introduction_to_Bayesian_Inference_Assignment.ipynb",
      "provenance": [],
      "include_colab_link": true
    },
    "kernelspec": {
      "name": "python3",
      "display_name": "Python 3"
    }
  },
  "cells": [
    {
      "cell_type": "markdown",
      "metadata": {
        "id": "view-in-github",
        "colab_type": "text"
      },
      "source": [
        "<a href=\"https://colab.research.google.com/github/KathyRoma/DS-Unit-1-Sprint-2-Statistics/blob/master/module3/LS_DS_123_Introduction_to_Bayesian_Inference_Assignment.ipynb\" target=\"_parent\"><img src=\"https://colab.research.google.com/assets/colab-badge.svg\" alt=\"Open In Colab\"/></a>"
      ]
    },
    {
      "cell_type": "markdown",
      "metadata": {
        "id": "H7OLbevlbd_Z",
        "colab_type": "text"
      },
      "source": [
        "# Lambda School Data Science Module 123\n",
        "\n",
        "## Introduction to Bayesian Inference\n",
        "\n",
        "\n"
      ]
    },
    {
      "cell_type": "markdown",
      "metadata": {
        "id": "P-DzzRk5bf0z",
        "colab_type": "text"
      },
      "source": [
        "## Assignment - Code it up!\n",
        "\n",
        "We used pure math to apply Bayes Theorem to drug tests. Now write Python code to reproduce the results! This is purposefully open ended - you'll have to think about how you should represent probabilities and events. You can and should look things up.\n",
        "\n",
        "Specific goals/targets:\n",
        "\n",
        "### 1) Write a function \n",
        "\n",
        "`def prob_drunk_given_positive(prob_drunk_prior, false_positive_rate, true_positive_rate):` \n",
        "\n",
        "You should only truly need these two values in order to apply Bayes Theorem. In this example, imagine that individuals are taking a breathalyzer test with an 8% false positive rate, a 100% true positive rate, and that our prior belief about drunk driving in the population is 1/1000. \n",
        " - What is the probability that a person is drunk after one positive breathalyzer test?\n",
        " - What is the probability that a person is drunk after two positive breathalyzer tests?\n",
        " - How many positive breathalyzer tests are needed in order to have a probability that's greater than 95% that a person is drunk beyond the legal limit?\n",
        "\n",
        "### 2) Explore `scipy.stats.bayes_mvs`  \n",
        "Read its documentation, and experiment with it on data you've tested in other ways earlier this week.\n",
        " - Create a visualization comparing the results of a Bayesian approach to a traditional/frequentist approach. (with a large sample size they should look close to identical, however, take this opportunity to practice visualizing condfidence intervals in general. The following are some potential ways that you could visualize confidence intervals on your graph:\n",
        "  - [Matplotlib Error Bars](https://matplotlib.org/3.1.1/api/_as_gen/matplotlib.pyplot.errorbar.html)\n",
        "  - [Seaborn barplot with error bars](https://seaborn.pydata.org/generated/seaborn.barplot.html)\n",
        "  - [Vertical ines to show bounds of confidence interval](https://www.simplypsychology.org/confidence-interval.jpg)\n",
        "  - [Confidence Intervals on Box Plots](https://matplotlib.org/3.1.1/api/_as_gen/matplotlib.axes.Axes.boxplot.html)\n",
        "\n",
        "### 3) In your own words, summarize the difference between Bayesian and Frequentist statistics\n",
        "\n",
        "If you're unsure where to start, check out [this blog post of Bayes theorem with Python](https://dataconomy.com/2015/02/introduction-to-bayes-theorem-with-python/).\n",
        "\n"
      ]
    },
    {
      "cell_type": "code",
      "metadata": {
        "id": "xpVhZyUnbf7o",
        "colab_type": "code",
        "colab": {}
      },
      "source": [
        "# BAYES THEOREM as a function\n",
        "\n",
        "def bayes_theorem(p_a, p_b_given_a, p_b_given_not_a):\n",
        "\tnot_a = 1 - p_a\n",
        "\tp_b = p_b_given_a * p_a + p_b_given_not_a * not_a\n",
        "\tp_a_given_b = (p_b_given_a * p_a) / p_b\n",
        "\treturn p_a_given_b"
      ],
      "execution_count": 0,
      "outputs": []
    },
    {
      "cell_type": "markdown",
      "metadata": {
        "id": "A9-q32lyfoqm",
        "colab_type": "text"
      },
      "source": [
        "**1)Police test**"
      ]
    },
    {
      "cell_type": "code",
      "metadata": {
        "id": "xf0fqhlUf_LB",
        "colab_type": "code",
        "outputId": "caf65d84-18f9-42bd-d12c-bc6b30716d95",
        "colab": {
          "base_uri": "https://localhost:8080/",
          "height": 34
        }
      },
      "source": [
        "# arguments we need for calculation of probability that the peprson tasted positively on breathalizer is actually  drunk\n",
        "true_positive_rate = 1\n",
        "prob_drunk_prior = 0.001\n",
        "false_positive_rate = 0.08\n",
        "\n",
        "# I put my arguments to the formula\n",
        "# final_probability = true_positive_rate * prob_drunk_prior/(true_positive_rate * prob_drunk_prior + false_positive_rate * (1 -prob_drunk_prior ))\n",
        "\n",
        "def if_person_drunk(prob_drunk_prior, false_positive_rate, true_positive_rate):\n",
        "  final_probability = true_positive_rate * prob_drunk_prior/(true_positive_rate * prob_drunk_prior + false_positive_rate * (1 -prob_drunk_prior ))\n",
        "  return final_probability \n",
        "\n",
        "if_person_drunk(prob_drunk_prior, false_positive_rate, true_positive_rate)"
      ],
      "execution_count": 0,
      "outputs": [
        {
          "output_type": "execute_result",
          "data": {
            "text/plain": [
              "0.012357884330202669"
            ]
          },
          "metadata": {
            "tags": []
          },
          "execution_count": 2
        }
      ]
    },
    {
      "cell_type": "code",
      "metadata": {
        "id": "mkzBIGLshEo_",
        "colab_type": "code",
        "outputId": "514d44fa-7935-40be-d303-1a1c15242bba",
        "colab": {
          "base_uri": "https://localhost:8080/",
          "height": 194
        }
      },
      "source": [
        "# The result we got above is not very high so we're still not sure \n",
        "## Every following test (if comes positive again) will increase the probability\n",
        "\n",
        "def if_person_drunk(prob_drunk_prior, false_positive_rate, true_positive_rate, rep = 0,  target_reps = 4):\n",
        "\tfinal_probability = true_positive_rate * prob_drunk_prior/(true_positive_rate * prob_drunk_prior + false_positive_rate * (1 -prob_drunk_prior ))\n",
        "\tprint(f\"\\nRep: {rep} of {target_reps}, probability: {final_probability}\")\n",
        "\tif rep < target_reps:\n",
        "\t\trep = rep+1\n",
        "\t\tif_person_drunk(final_probability, false_positive_rate, true_positive_rate, rep,  target_reps = 4)\n",
        "\telse:\n",
        "\t\treturn final_probability\n",
        "\n",
        "\n",
        "if_person_drunk(prob_drunk_prior, false_positive_rate, true_positive_rate)"
      ],
      "execution_count": 0,
      "outputs": [
        {
          "output_type": "stream",
          "text": [
            "\n",
            "Rep: 0 of 4, probability: 0.012357884330202669\n",
            "\n",
            "Rep: 1 of 4, probability: 0.13525210993291495\n",
            "\n",
            "Rep: 2 of 4, probability: 0.6615996951348605\n",
            "\n",
            "Rep: 3 of 4, probability: 0.9606895076105054\n",
            "\n",
            "Rep: 4 of 4, probability: 0.9967371577896734\n"
          ],
          "name": "stdout"
        }
      ]
    },
    {
      "cell_type": "code",
      "metadata": {
        "id": "85FQRy5fiIwh",
        "colab_type": "code",
        "outputId": "55a43ae1-ced7-405c-f2a3-9bbbcaaedc2e",
        "colab": {
          "base_uri": "https://localhost:8080/",
          "height": 230
        }
      },
      "source": [
        "#Four reps are enough in our case but what if we use a sevice with greater false positive rate or our true positive rate is different?\n",
        "#Then we don't know how many tests we should perform.\n",
        "#But we do know that we want to be at least 95% sure -- we do not want to arrest innocent people\n",
        "\n",
        "true_positive_rate = 1\n",
        "prob_drunk_prior = 0.001\n",
        "false_positive_rate = 0.15\n",
        "\n",
        "\n",
        "def if_person_drunk(prob_drunk_prior, false_positive_rate, true_positive_rate, rep = 0):\n",
        "\tfinal_probability = true_positive_rate * prob_drunk_prior/(true_positive_rate * prob_drunk_prior + false_positive_rate * (1 -prob_drunk_prior ))\n",
        "\tprint(f\"\\nRep: {rep}, probability: {final_probability}\")\n",
        "\tif final_probability < 0.95:\n",
        "\t\trep = rep+1\n",
        "\t\tif_person_drunk(final_probability, false_positive_rate, true_positive_rate, rep)\n",
        "\telse:\n",
        "\t\treturn final_probability\t\n",
        "\n",
        "## now we can play with arguments and see that if false positive rate is twice as high (15%), then we need to repeat the test five times\n",
        "\n",
        "if_person_drunk(prob_drunk_prior, false_positive_rate, true_positive_rate)"
      ],
      "execution_count": 0,
      "outputs": [
        {
          "output_type": "stream",
          "text": [
            "\n",
            "Rep: 0, probability: 0.006629101756711967\n",
            "\n",
            "Rep: 1, probability: 0.042593972952827186\n",
            "\n",
            "Rep: 2, probability: 0.22874789123037778\n",
            "\n",
            "Rep: 3, probability: 0.6641236266130941\n",
            "\n",
            "Rep: 4, probability: 0.9294876170464543\n",
            "\n",
            "Rep: 5, probability: 0.9887487957155537\n"
          ],
          "name": "stdout"
        }
      ]
    },
    {
      "cell_type": "markdown",
      "metadata": {
        "id": "5PWmEiKHsK1N",
        "colab_type": "text"
      },
      "source": [
        "**2)Explore scipy.stats.bayes_mvs**"
      ]
    },
    {
      "cell_type": "code",
      "metadata": {
        "id": "VqVXkF68suCv",
        "colab_type": "code",
        "outputId": "ea0287f0-20d1-4a47-bc55-ccf7f4bdd3ba",
        "colab": {
          "base_uri": "https://localhost:8080/",
          "height": 315
        }
      },
      "source": [
        "import pandas as pd\n",
        "import numpy as np\n",
        "import matplotlib.pyplot as plt\n",
        "from scipy import stats\n",
        "\n",
        "df = pd.read_csv('https://raw.githubusercontent.com/ryanleeallred/datasets/master/adult.csv', na_values=\" ?\")\n",
        "print(df.shape)\n",
        "df.head()"
      ],
      "execution_count": 0,
      "outputs": [
        {
          "output_type": "stream",
          "text": [
            "(32561, 15)\n"
          ],
          "name": "stdout"
        },
        {
          "output_type": "execute_result",
          "data": {
            "text/html": [
              "<div>\n",
              "<style scoped>\n",
              "    .dataframe tbody tr th:only-of-type {\n",
              "        vertical-align: middle;\n",
              "    }\n",
              "\n",
              "    .dataframe tbody tr th {\n",
              "        vertical-align: top;\n",
              "    }\n",
              "\n",
              "    .dataframe thead th {\n",
              "        text-align: right;\n",
              "    }\n",
              "</style>\n",
              "<table border=\"1\" class=\"dataframe\">\n",
              "  <thead>\n",
              "    <tr style=\"text-align: right;\">\n",
              "      <th></th>\n",
              "      <th>age</th>\n",
              "      <th>workclass</th>\n",
              "      <th>fnlwgt</th>\n",
              "      <th>education</th>\n",
              "      <th>education-num</th>\n",
              "      <th>marital-status</th>\n",
              "      <th>occupation</th>\n",
              "      <th>relationship</th>\n",
              "      <th>race</th>\n",
              "      <th>sex</th>\n",
              "      <th>capital-gain</th>\n",
              "      <th>capital-loss</th>\n",
              "      <th>hours-per-week</th>\n",
              "      <th>country</th>\n",
              "      <th>salary</th>\n",
              "    </tr>\n",
              "  </thead>\n",
              "  <tbody>\n",
              "    <tr>\n",
              "      <th>0</th>\n",
              "      <td>39</td>\n",
              "      <td>State-gov</td>\n",
              "      <td>77516</td>\n",
              "      <td>Bachelors</td>\n",
              "      <td>13</td>\n",
              "      <td>Never-married</td>\n",
              "      <td>Adm-clerical</td>\n",
              "      <td>Not-in-family</td>\n",
              "      <td>White</td>\n",
              "      <td>Male</td>\n",
              "      <td>2174</td>\n",
              "      <td>0</td>\n",
              "      <td>40</td>\n",
              "      <td>United-States</td>\n",
              "      <td>&lt;=50K</td>\n",
              "    </tr>\n",
              "    <tr>\n",
              "      <th>1</th>\n",
              "      <td>50</td>\n",
              "      <td>Self-emp-not-inc</td>\n",
              "      <td>83311</td>\n",
              "      <td>Bachelors</td>\n",
              "      <td>13</td>\n",
              "      <td>Married-civ-spouse</td>\n",
              "      <td>Exec-managerial</td>\n",
              "      <td>Husband</td>\n",
              "      <td>White</td>\n",
              "      <td>Male</td>\n",
              "      <td>0</td>\n",
              "      <td>0</td>\n",
              "      <td>13</td>\n",
              "      <td>United-States</td>\n",
              "      <td>&lt;=50K</td>\n",
              "    </tr>\n",
              "    <tr>\n",
              "      <th>2</th>\n",
              "      <td>38</td>\n",
              "      <td>Private</td>\n",
              "      <td>215646</td>\n",
              "      <td>HS-grad</td>\n",
              "      <td>9</td>\n",
              "      <td>Divorced</td>\n",
              "      <td>Handlers-cleaners</td>\n",
              "      <td>Not-in-family</td>\n",
              "      <td>White</td>\n",
              "      <td>Male</td>\n",
              "      <td>0</td>\n",
              "      <td>0</td>\n",
              "      <td>40</td>\n",
              "      <td>United-States</td>\n",
              "      <td>&lt;=50K</td>\n",
              "    </tr>\n",
              "    <tr>\n",
              "      <th>3</th>\n",
              "      <td>53</td>\n",
              "      <td>Private</td>\n",
              "      <td>234721</td>\n",
              "      <td>11th</td>\n",
              "      <td>7</td>\n",
              "      <td>Married-civ-spouse</td>\n",
              "      <td>Handlers-cleaners</td>\n",
              "      <td>Husband</td>\n",
              "      <td>Black</td>\n",
              "      <td>Male</td>\n",
              "      <td>0</td>\n",
              "      <td>0</td>\n",
              "      <td>40</td>\n",
              "      <td>United-States</td>\n",
              "      <td>&lt;=50K</td>\n",
              "    </tr>\n",
              "    <tr>\n",
              "      <th>4</th>\n",
              "      <td>28</td>\n",
              "      <td>Private</td>\n",
              "      <td>338409</td>\n",
              "      <td>Bachelors</td>\n",
              "      <td>13</td>\n",
              "      <td>Married-civ-spouse</td>\n",
              "      <td>Prof-specialty</td>\n",
              "      <td>Wife</td>\n",
              "      <td>Black</td>\n",
              "      <td>Female</td>\n",
              "      <td>0</td>\n",
              "      <td>0</td>\n",
              "      <td>40</td>\n",
              "      <td>Cuba</td>\n",
              "      <td>&lt;=50K</td>\n",
              "    </tr>\n",
              "  </tbody>\n",
              "</table>\n",
              "</div>"
            ],
            "text/plain": [
              "   age          workclass  fnlwgt  ... hours-per-week         country  salary\n",
              "0   39          State-gov   77516  ...             40   United-States   <=50K\n",
              "1   50   Self-emp-not-inc   83311  ...             13   United-States   <=50K\n",
              "2   38            Private  215646  ...             40   United-States   <=50K\n",
              "3   53            Private  234721  ...             40   United-States   <=50K\n",
              "4   28            Private  338409  ...             40            Cuba   <=50K\n",
              "\n",
              "[5 rows x 15 columns]"
            ]
          },
          "metadata": {
            "tags": []
          },
          "execution_count": 36
        }
      ]
    },
    {
      "cell_type": "code",
      "metadata": {
        "id": "r--OPRGTtaQ1",
        "colab_type": "code",
        "outputId": "d0f46b76-87b5-4a7e-ceab-996a035f86fc",
        "colab": {
          "base_uri": "https://localhost:8080/",
          "height": 301
        }
      },
      "source": [
        "df.isnull().sum()"
      ],
      "execution_count": 0,
      "outputs": [
        {
          "output_type": "execute_result",
          "data": {
            "text/plain": [
              "age                  0\n",
              "workclass         1836\n",
              "fnlwgt               0\n",
              "education            0\n",
              "education-num        0\n",
              "marital-status       0\n",
              "occupation        1843\n",
              "relationship         0\n",
              "race                 0\n",
              "sex                  0\n",
              "capital-gain         0\n",
              "capital-loss         0\n",
              "hours-per-week       0\n",
              "country            583\n",
              "salary               0\n",
              "dtype: int64"
            ]
          },
          "metadata": {
            "tags": []
          },
          "execution_count": 19
        }
      ]
    },
    {
      "cell_type": "code",
      "metadata": {
        "id": "wPB9pkmqu3yB",
        "colab_type": "code",
        "outputId": "3761934b-5578-461d-e51d-a0716c537ece",
        "colab": {
          "base_uri": "https://localhost:8080/",
          "height": 301
        }
      },
      "source": [
        "df = df.dropna()\n",
        "df.isnull().sum()"
      ],
      "execution_count": 0,
      "outputs": [
        {
          "output_type": "execute_result",
          "data": {
            "text/plain": [
              "age               0\n",
              "workclass         0\n",
              "fnlwgt            0\n",
              "education         0\n",
              "education-num     0\n",
              "marital-status    0\n",
              "occupation        0\n",
              "relationship      0\n",
              "race              0\n",
              "sex               0\n",
              "capital-gain      0\n",
              "capital-loss      0\n",
              "hours-per-week    0\n",
              "country           0\n",
              "salary            0\n",
              "dtype: int64"
            ]
          },
          "metadata": {
            "tags": []
          },
          "execution_count": 21
        }
      ]
    },
    {
      "cell_type": "code",
      "metadata": {
        "id": "7YjMjo75ZwmZ",
        "colab_type": "code",
        "outputId": "a7126732-1ac5-4266-f82c-b24b5e168380",
        "colab": {
          "base_uri": "https://localhost:8080/",
          "height": 34
        }
      },
      "source": [
        "df['capital-gain'].mean()"
      ],
      "execution_count": 0,
      "outputs": [
        {
          "output_type": "execute_result",
          "data": {
            "text/plain": [
              "1077.6488437087312"
            ]
          },
          "metadata": {
            "tags": []
          },
          "execution_count": 43
        }
      ]
    },
    {
      "cell_type": "code",
      "metadata": {
        "id": "191SEbFOZ47Z",
        "colab_type": "code",
        "colab": {}
      },
      "source": [
        "sample = df.sample(1000)\n"
      ],
      "execution_count": 0,
      "outputs": []
    },
    {
      "cell_type": "code",
      "metadata": {
        "id": "ck8p3W1LaGIp",
        "colab_type": "code",
        "outputId": "12a7aa98-e3f5-467a-f685-177c5180f086",
        "colab": {
          "base_uri": "https://localhost:8080/",
          "height": 34
        }
      },
      "source": [
        "sample['capital-gain'].mean()"
      ],
      "execution_count": 0,
      "outputs": [
        {
          "output_type": "execute_result",
          "data": {
            "text/plain": [
              "846.462"
            ]
          },
          "metadata": {
            "tags": []
          },
          "execution_count": 46
        }
      ]
    },
    {
      "cell_type": "code",
      "metadata": {
        "id": "bOsBk0PyaSA5",
        "colab_type": "code",
        "colab": {}
      },
      "source": [
        ""
      ],
      "execution_count": 0,
      "outputs": []
    },
    {
      "cell_type": "code",
      "metadata": {
        "id": "kYh1doASy7Wt",
        "colab_type": "code",
        "outputId": "9bccd13e-5986-464b-8939-ef5699df2a6f",
        "colab": {
          "base_uri": "https://localhost:8080/",
          "height": 34
        }
      },
      "source": [
        "def confidence_interval(data, confidence=0.95):\n",
        "  data = np.array(data)\n",
        "  x_bar = np.mean(data)\n",
        "  n = len(data)\n",
        "  s = data.std(ddof=1)\n",
        "  stderr= s / np.sqrt(n)\n",
        "  t = stats.t.ppf((1+confidence) / 2, n-1)\n",
        "  margin_of_error = t * stderr\n",
        "  lower_bound = x_bar - margin_of_error\n",
        "  upper_bound = x_bar + margin_of_error\n",
        "  return (lower_bound, upper_bound, x_bar)\n",
        "\n",
        "confidence_interval(sample['capital-gain'])"
      ],
      "execution_count": 0,
      "outputs": [
        {
          "output_type": "execute_result",
          "data": {
            "text/plain": [
              "(519.3240151649939, 1173.5999848350061, 846.462)"
            ]
          },
          "metadata": {
            "tags": []
          },
          "execution_count": 47
        }
      ]
    },
    {
      "cell_type": "code",
      "metadata": {
        "id": "X3wPGaqna2a7",
        "colab_type": "code",
        "colab": {}
      },
      "source": [
        "frequentist = confidence_interval(sample['capital-gain'])"
      ],
      "execution_count": 0,
      "outputs": []
    },
    {
      "cell_type": "code",
      "metadata": {
        "id": "A4IRImyKa6sZ",
        "colab_type": "code",
        "outputId": "98ae9514-a698-473b-f50f-74f4bba2fbc8",
        "colab": {
          "base_uri": "https://localhost:8080/",
          "height": 34
        }
      },
      "source": [
        "bayesian, _, _ = stats.bayes_mvs(sample['capital-gain'], alpha=.95)\n",
        "bayesian"
      ],
      "execution_count": 0,
      "outputs": [
        {
          "output_type": "execute_result",
          "data": {
            "text/plain": [
              "Mean(statistic=846.462, minmax=(519.3240151649939, 1173.5999848350061))"
            ]
          },
          "metadata": {
            "tags": []
          },
          "execution_count": 48
        }
      ]
    },
    {
      "cell_type": "code",
      "metadata": {
        "id": "tyvDgzzZbYyi",
        "colab_type": "code",
        "outputId": "6cb8ea06-a69e-4ea4-cbec-4f685f154fe2",
        "colab": {
          "base_uri": "https://localhost:8080/",
          "height": 264
        }
      },
      "source": [
        "sample['capital-gain'].plot.density()\n",
        "axes = plt.gca()\n",
        "axes.set_xlim([-2500,2500])\n",
        "plt.axvline(frequentist[0], color='orange')\n",
        "plt.axvline(frequentist[1], color='blue')\n",
        "plt.axvline(frequentist[2], color='orange')\n",
        "plt.show()"
      ],
      "execution_count": 54,
      "outputs": [
        {
          "output_type": "display_data",
          "data": {
            "image/png": "[encoded data removed]",
            "text/plain": [
              "<Figure size 432x288 with 1 Axes>"
            ]
          },
          "metadata": {
            "tags": [],
            "needs_background": "light"
          }
        }
      ]
    },
    {
      "cell_type": "code",
      "metadata": {
        "id": "sGeq5uJTb5EH",
        "colab_type": "code",
        "outputId": "93fd0755-0e3b-45da-e9a5-5f404bdc4466",
        "colab": {
          "base_uri": "https://localhost:8080/",
          "height": 34
        }
      },
      "source": [
        "bayesian.statistic\n",
        "bayesian.minmax[1]\n",
        "bayesian.minmax[0]\n",
        "\n",
        "bayesian.minmax[1] - bayesian.minmax[0]"
      ],
      "execution_count": 0,
      "outputs": [
        {
          "output_type": "execute_result",
          "data": {
            "text/plain": [
              "654.2759696700123"
            ]
          },
          "metadata": {
            "tags": []
          },
          "execution_count": 52
        }
      ]
    },
    {
      "cell_type": "code",
      "metadata": {
        "id": "W8BKah2Vcmlk",
        "colab_type": "code",
        "outputId": "e99f917f-295d-45b8-c67b-728fb13d05d1",
        "colab": {
          "base_uri": "https://localhost:8080/",
          "height": 264
        }
      },
      "source": [
        "plt.bar(x=0, height=frequentist[1], yerr=(frequentist[2]-frequentist[1]))\n",
        "plt.bar(x=1, height=bayesian.statistic, yerr=(bayesian.minmax[1]-bayesian.statistic))\n",
        "plt.show()"
      ],
      "execution_count": 0,
      "outputs": [
        {
          "output_type": "display_data",
          "data": {
            "image/png": "[encoded data removed]",
            "text/plain": [
              "<Figure size 432x288 with 1 Axes>"
            ]
          },
          "metadata": {
            "tags": [],
            "needs_background": "light"
          }
        }
      ]
    },
    {
      "cell_type": "code",
      "metadata": {
        "id": "sfnkEFhkcYTv",
        "colab_type": "code",
        "colab": {}
      },
      "source": [
        ""
      ],
      "execution_count": 0,
      "outputs": []
    },
    {
      "cell_type": "code",
      "metadata": {
        "id": "EbtpgA-vvRF8",
        "colab_type": "code",
        "outputId": "25ff4bb3-dd6a-4510-df76-5811d08f7893",
        "colab": {
          "base_uri": "https://localhost:8080/",
          "height": 257
        }
      },
      "source": [
        "# I want to check if race and education\n",
        "# My boring hypothesies that there is no connection between those two.\n",
        "\n",
        "observed = pd.crosstab(df['race'], df['education'], margins=True)\n",
        "observed"
      ],
      "execution_count": 0,
      "outputs": [
        {
          "output_type": "execute_result",
          "data": {
            "text/html": [
              "<div>\n",
              "<style scoped>\n",
              "    .dataframe tbody tr th:only-of-type {\n",
              "        vertical-align: middle;\n",
              "    }\n",
              "\n",
              "    .dataframe tbody tr th {\n",
              "        vertical-align: top;\n",
              "    }\n",
              "\n",
              "    .dataframe thead th {\n",
              "        text-align: right;\n",
              "    }\n",
              "</style>\n",
              "<table border=\"1\" class=\"dataframe\">\n",
              "  <thead>\n",
              "    <tr style=\"text-align: right;\">\n",
              "      <th>education</th>\n",
              "      <th>10th</th>\n",
              "      <th>11th</th>\n",
              "      <th>12th</th>\n",
              "      <th>1st-4th</th>\n",
              "      <th>5th-6th</th>\n",
              "      <th>7th-8th</th>\n",
              "      <th>9th</th>\n",
              "      <th>Assoc-acdm</th>\n",
              "      <th>Assoc-voc</th>\n",
              "      <th>Bachelors</th>\n",
              "      <th>Doctorate</th>\n",
              "      <th>HS-grad</th>\n",
              "      <th>Masters</th>\n",
              "      <th>Preschool</th>\n",
              "      <th>Prof-school</th>\n",
              "      <th>Some-college</th>\n",
              "      <th>All</th>\n",
              "    </tr>\n",
              "    <tr>\n",
              "      <th>race</th>\n",
              "      <th></th>\n",
              "      <th></th>\n",
              "      <th></th>\n",
              "      <th></th>\n",
              "      <th></th>\n",
              "      <th></th>\n",
              "      <th></th>\n",
              "      <th></th>\n",
              "      <th></th>\n",
              "      <th></th>\n",
              "      <th></th>\n",
              "      <th></th>\n",
              "      <th></th>\n",
              "      <th></th>\n",
              "      <th></th>\n",
              "      <th></th>\n",
              "      <th></th>\n",
              "    </tr>\n",
              "  </thead>\n",
              "  <tbody>\n",
              "    <tr>\n",
              "      <th>Amer-Indian-Eskimo</th>\n",
              "      <td>14</td>\n",
              "      <td>13</td>\n",
              "      <td>5</td>\n",
              "      <td>3</td>\n",
              "      <td>2</td>\n",
              "      <td>7</td>\n",
              "      <td>3</td>\n",
              "      <td>7</td>\n",
              "      <td>16</td>\n",
              "      <td>20</td>\n",
              "      <td>2</td>\n",
              "      <td>116</td>\n",
              "      <td>5</td>\n",
              "      <td>0</td>\n",
              "      <td>2</td>\n",
              "      <td>71</td>\n",
              "      <td>286</td>\n",
              "    </tr>\n",
              "    <tr>\n",
              "      <th>Asian-Pac-Islander</th>\n",
              "      <td>11</td>\n",
              "      <td>18</td>\n",
              "      <td>4</td>\n",
              "      <td>3</td>\n",
              "      <td>15</td>\n",
              "      <td>10</td>\n",
              "      <td>8</td>\n",
              "      <td>27</td>\n",
              "      <td>35</td>\n",
              "      <td>252</td>\n",
              "      <td>26</td>\n",
              "      <td>193</td>\n",
              "      <td>81</td>\n",
              "      <td>6</td>\n",
              "      <td>35</td>\n",
              "      <td>171</td>\n",
              "      <td>895</td>\n",
              "    </tr>\n",
              "    <tr>\n",
              "      <th>Black</th>\n",
              "      <td>119</td>\n",
              "      <td>128</td>\n",
              "      <td>51</td>\n",
              "      <td>13</td>\n",
              "      <td>18</td>\n",
              "      <td>49</td>\n",
              "      <td>77</td>\n",
              "      <td>100</td>\n",
              "      <td>108</td>\n",
              "      <td>301</td>\n",
              "      <td>8</td>\n",
              "      <td>1061</td>\n",
              "      <td>78</td>\n",
              "      <td>4</td>\n",
              "      <td>15</td>\n",
              "      <td>687</td>\n",
              "      <td>2817</td>\n",
              "    </tr>\n",
              "    <tr>\n",
              "      <th>Other</th>\n",
              "      <td>8</td>\n",
              "      <td>7</td>\n",
              "      <td>11</td>\n",
              "      <td>9</td>\n",
              "      <td>11</td>\n",
              "      <td>15</td>\n",
              "      <td>8</td>\n",
              "      <td>8</td>\n",
              "      <td>6</td>\n",
              "      <td>23</td>\n",
              "      <td>1</td>\n",
              "      <td>69</td>\n",
              "      <td>5</td>\n",
              "      <td>2</td>\n",
              "      <td>4</td>\n",
              "      <td>44</td>\n",
              "      <td>231</td>\n",
              "    </tr>\n",
              "    <tr>\n",
              "      <th>White</th>\n",
              "      <td>668</td>\n",
              "      <td>882</td>\n",
              "      <td>306</td>\n",
              "      <td>123</td>\n",
              "      <td>242</td>\n",
              "      <td>476</td>\n",
              "      <td>359</td>\n",
              "      <td>866</td>\n",
              "      <td>1142</td>\n",
              "      <td>4448</td>\n",
              "      <td>338</td>\n",
              "      <td>8401</td>\n",
              "      <td>1458</td>\n",
              "      <td>33</td>\n",
              "      <td>486</td>\n",
              "      <td>5705</td>\n",
              "      <td>25933</td>\n",
              "    </tr>\n",
              "    <tr>\n",
              "      <th>All</th>\n",
              "      <td>820</td>\n",
              "      <td>1048</td>\n",
              "      <td>377</td>\n",
              "      <td>151</td>\n",
              "      <td>288</td>\n",
              "      <td>557</td>\n",
              "      <td>455</td>\n",
              "      <td>1008</td>\n",
              "      <td>1307</td>\n",
              "      <td>5044</td>\n",
              "      <td>375</td>\n",
              "      <td>9840</td>\n",
              "      <td>1627</td>\n",
              "      <td>45</td>\n",
              "      <td>542</td>\n",
              "      <td>6678</td>\n",
              "      <td>30162</td>\n",
              "    </tr>\n",
              "  </tbody>\n",
              "</table>\n",
              "</div>"
            ],
            "text/plain": [
              "education             10th   11th   12th  ...   Prof-school   Some-college    All\n",
              "race                                      ...                                    \n",
              " Amer-Indian-Eskimo     14     13      5  ...             2             71    286\n",
              " Asian-Pac-Islander     11     18      4  ...            35            171    895\n",
              " Black                 119    128     51  ...            15            687   2817\n",
              " Other                   8      7     11  ...             4             44    231\n",
              " White                 668    882    306  ...           486           5705  25933\n",
              "All                    820   1048    377  ...           542           6678  30162\n",
              "\n",
              "[6 rows x 17 columns]"
            ]
          },
          "metadata": {
            "tags": []
          },
          "execution_count": 23
        }
      ]
    },
    {
      "cell_type": "code",
      "metadata": {
        "id": "KSslHELKyJSs",
        "colab_type": "code",
        "outputId": "1431657f-85bf-4ef7-d688-e5e875bf8be2",
        "colab": {
          "base_uri": "https://localhost:8080/",
          "height": 674
        }
      },
      "source": [
        "chi2, p_value, dof, expected = stats.chi2_contingency(observed)\n",
        "\n",
        "print(\" chi2 statistic\", chi2)\n",
        "print(\"\\n p-value\", p_value)\n",
        "print(\"\\n degrees of freedom\",dof)\n",
        "print(\"\\n expected frequencies table: \\n\", expected)"
      ],
      "execution_count": 0,
      "outputs": [
        {
          "output_type": "stream",
          "text": [
            " chi2 statistic 687.5793983319\n",
            "\n",
            " p-value 2.2489448137236068e-97\n",
            "\n",
            " degrees of freedom 80\n",
            "\n",
            " expected frequencies table: \n",
            " [[7.77534646e+00 9.93727206e+00 3.57476295e+00 1.43180160e+00\n",
            "  2.73085339e+00 5.28154632e+00 4.31436907e+00 9.55798687e+00\n",
            "  1.23931437e+01 4.78278629e+01 3.55579869e+00 9.33041575e+01\n",
            "  1.54274252e+01 4.26695842e-01 5.13931437e+00 6.33216630e+01\n",
            "  2.86000000e+02]\n",
            " [2.43319409e+01 3.10974073e+01 1.11867582e+01 4.48063789e+00\n",
            "  8.54585240e+00 1.65279159e+01 1.35012599e+01 2.99104834e+01\n",
            "  3.87827399e+01 1.49671109e+02 1.11274120e+01 2.91983290e+02\n",
            "  4.82781314e+01 1.33528944e+00 1.60828194e+01 1.98156952e+02\n",
            "  8.95000000e+02]\n",
            " [7.65844440e+01 9.78786553e+01 3.52101651e+01 1.41027452e+01\n",
            "  2.68979511e+01 5.20213845e+01 4.24950269e+01 9.41428287e+01\n",
            "  1.22068132e+02 4.71087726e+02 3.50233738e+01 9.19013328e+02\n",
            "  1.51954744e+02 4.20280485e+00 5.06204496e+01 6.23696240e+02\n",
            "  2.81700000e+03]\n",
            " [6.28008753e+00 8.02625821e+00 2.88730853e+00 1.15645514e+00\n",
            "  2.20568928e+00 4.26586433e+00 3.48468271e+00 7.71991247e+00\n",
            "  1.00098468e+01 3.86301969e+01 2.87199125e+00 7.53610503e+01\n",
            "  1.24606127e+01 3.44638950e-01 4.15098468e+00 5.11444201e+01\n",
            "  2.31000000e+02]\n",
            " [7.05028181e+02 9.01060407e+02 3.24141005e+02 1.29828360e+02\n",
            "  2.47619654e+02 4.78903289e+02 3.91204661e+02 8.66668789e+02\n",
            "  1.12374614e+03 4.33678310e+03 3.22421424e+02 8.46033817e+03\n",
            "  1.39887909e+03 3.86905709e+01 4.66006432e+02 5.74168072e+03\n",
            "  2.59330000e+04]\n",
            " [8.20000000e+02 1.04800000e+03 3.77000000e+02 1.51000000e+02\n",
            "  2.88000000e+02 5.57000000e+02 4.55000000e+02 1.00800000e+03\n",
            "  1.30700000e+03 5.04400000e+03 3.75000000e+02 9.84000000e+03\n",
            "  1.62700000e+03 4.50000000e+01 5.42000000e+02 6.67800000e+03\n",
            "  3.01620000e+04]]\n"
          ],
          "name": "stdout"
        }
      ]
    },
    {
      "cell_type": "code",
      "metadata": {
        "id": "Q3xUKvLIyZYH",
        "colab_type": "code",
        "outputId": "9ab7802d-88c4-4867-b34e-d53caf4c3026",
        "colab": {
          "base_uri": "https://localhost:8080/",
          "height": 70
        }
      },
      "source": [
        "import scipy\n",
        "scipy.stats.bayes_mvs(observed, alpha=.95)"
      ],
      "execution_count": 0,
      "outputs": [
        {
          "output_type": "execute_result",
          "data": {
            "text/plain": [
              "(Mean(statistic=1182.8235294117646, minmax=(364.11339001400313, 2001.5336688095263)),\n",
              " Variance(statistic=17724791.18003565, minmax=(13425847.274616063, 23370714.077505503)),\n",
              " Std_dev(statistic=4199.464159324233, minmax=(3664.1298113762377, 4834.326641581587)))"
            ]
          },
          "metadata": {
            "tags": []
          },
          "execution_count": 38
        }
      ]
    },
    {
      "cell_type": "code",
      "metadata": {
        "id": "5jlmaCabdZc9",
        "colab_type": "code",
        "colab": {}
      },
      "source": [
        "# The p-value is so small that I vigorously regect my boring hypothesis"
      ],
      "execution_count": 0,
      "outputs": []
    },
    {
      "cell_type": "markdown",
      "metadata": {
        "id": "mGaGC50JD0-2",
        "colab_type": "text"
      },
      "source": [
        "**3) The difference between Bayesian and Frequentist statistics**"
      ]
    },
    {
      "cell_type": "markdown",
      "metadata": {
        "id": "8voKXraDEC3t",
        "colab_type": "text"
      },
      "source": [
        "Bayesian statistics uses prior observed probabilities to update likeliness of events according to what happened before. It gives us an opportunity to infer results from smaller samples. It is also considered  to be more intuitive and reflects how human think.\n",
        "\n",
        "Frequentist statistics relies on bigger samples, carefully randomised and independent. It only tells us if our Null Hypothesis is a good explanation of data we observed.\n"
      ]
    },
    {
      "cell_type": "markdown",
      "metadata": {
        "id": "uWgWjp3PQ3Sq",
        "colab_type": "text"
      },
      "source": [
        "## Resources"
      ]
    },
    {
      "cell_type": "markdown",
      "metadata": {
        "id": "QRgHqmYIQ9qn",
        "colab_type": "text"
      },
      "source": [
        "- [Worked example of Bayes rule calculation](https://en.wikipedia.org/wiki/Bayes'_theorem#Examples) (helpful as it fully breaks out the denominator)\n",
        "- [Source code for mvsdist in scipy](https://github.com/scipy/scipy/blob/90534919e139d2a81c24bf08341734ff41a3db12/scipy/stats/morestats.py#L139)"
      ]
    },
    {
      "cell_type": "markdown",
      "metadata": {
        "id": "GP7Jv1XvwtkX",
        "colab_type": "text"
      },
      "source": [
        "## Stretch Goals:\n",
        "\n",
        "- Go back and study the content from Modules 1 & 2 to make sure that you're really comfortable with them.\n",
        "- Apply a Bayesian technique to a problem you previously worked (in an assignment or project work) on from a frequentist (standard) perspective\n",
        "- Check out [PyMC3](https://docs.pymc.io/) (note this goes beyond hypothesis tests into modeling) - read the guides and work through some examples\n",
        "- Take PyMC3 further - see if you can build something with it!"
      ]
    },
    {
      "cell_type": "code",
      "metadata": {
        "id": "iDi0eFr1x-v_",
        "colab_type": "code",
        "colab": {}
      },
      "source": [
        ""
      ],
      "execution_count": 0,
      "outputs": []
    }
  ]
}