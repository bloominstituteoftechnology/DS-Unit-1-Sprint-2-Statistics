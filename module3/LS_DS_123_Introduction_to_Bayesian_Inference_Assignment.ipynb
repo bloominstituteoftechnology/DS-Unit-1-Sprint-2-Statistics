{
  "nbformat": 4,
  "nbformat_minor": 0,
  "metadata": {
    "colab": {
      "name": "LS_DS_123_Introduction_to_Bayesian_Inference_Assignment.ipynb",
      "provenance": []
    },
    "kernelspec": {
      "name": "python3",
      "display_name": "Python 3"
    }
  },
  "cells": [
    {
      "cell_type": "markdown",
      "metadata": {
        "id": "H7OLbevlbd_Z",
        "colab_type": "text"
      },
      "source": [
        "# Lambda School Data Science Module 123\n",
        "\n",
        "## Introduction to Bayesian Inference\n",
        "\n",
        "\n"
      ]
    },
    {
      "cell_type": "markdown",
      "metadata": {
        "id": "P-DzzRk5bf0z",
        "colab_type": "text"
      },
      "source": [
        "## Assignment - Code it up!\n",
        "\n",
        "We used pure math to apply Bayes Theorem to drug tests. Now write Python code to reproduce the results! This is purposefully open ended - you'll have to think about how you should represent probabilities and events. You can and should look things up.\n",
        "\n",
        "Specific goals/targets:\n",
        "\n",
        "### 1) Write a function \n",
        "\n",
        "`def prob_drunk_given_positive(prob_drunk_prior, false_positive_rate):` \n",
        "\n",
        "You should only truly need these two values in order to apply Bayes Theorem. In this example, imagine that individuals are taking a breathalyzer test with an 8% false positive rate, a 100% true positive rate, and that our prior belief about drunk driving in the population is 1/1000. \n",
        " - What is the probability that a person is drunk after one positive breathalyzer test?\n",
        " - What is the probability that a person is drunk after two positive breathalyzer tests?\n",
        " - How many positive breathalyzer tests are needed in order to have a probability that's greater than 95% that a person is drunk beyond the legal limit?\n",
        "\n",
        "### 2) Explore `scipy.stats.bayes_mvs`  \n",
        "Read its documentation, and experiment with it on data you've tested in other ways earlier this week.\n",
        " - Create a visualization comparing the results of a Bayesian approach to a traditional/frequentist approach. (with a large sample size they should look close to identical, however, take this opportunity to practice visualizing condfidence intervals in general. The following are some potential ways that you could visualize confidence intervals on your graph:\n",
        "  - [Matplotlib Error Bars](https://matplotlib.org/3.1.1/api/_as_gen/matplotlib.pyplot.errorbar.html)\n",
        "  - [Seaborn barplot with error bars](https://seaborn.pydata.org/generated/seaborn.barplot.html)\n",
        "  - [Vertical ines to show bounds of confidence interval](https://www.simplypsychology.org/confidence-interval.jpg)\n",
        "  - [Confidence Intervals on Box Plots](https://matplotlib.org/3.1.1/api/_as_gen/matplotlib.axes.Axes.boxplot.html)\n",
        "\n",
        "### 3) In your own words, summarize the difference between Bayesian and Frequentist statistics\n",
        "\n",
        "If you're unsure where to start, check out [this blog post of Bayes theorem with Python](https://dataconomy.com/2015/02/introduction-to-bayes-theorem-with-python/).\n",
        "\n"
      ]
    },
    {
      "cell_type": "markdown",
      "metadata": {
        "id": "It3MGZ8dcJpN",
        "colab_type": "text"
      },
      "source": [
        "# **1) Write a function**"
      ]
    },
    {
      "cell_type": "code",
      "metadata": {
        "id": "xpVhZyUnbf7o",
        "colab_type": "code",
        "colab": {}
      },
      "source": [
        "#set variables\n",
        "prob_drunk_prior = 1/1000 #prior belief\n",
        "P_not_drunk = 1 - prob_drunk_prior # complement of prior believf\n",
        "true_positive_rate = 1 # true positive\n",
        "false_positive_rate = 0.08 #false positive rate"
      ],
      "execution_count": 0,
      "outputs": []
    },
    {
      "cell_type": "code",
      "metadata": {
        "id": "p6ru-ySpJOi6",
        "colab_type": "code",
        "colab": {
          "base_uri": "https://localhost:8080/",
          "height": 35
        },
        "outputId": "cfb70274-bb0d-48c0-81e0-bb6fb56e23d9"
      },
      "source": [
        "#First iteration of Bayes (initial positive test)\n",
        "numerator = true_positive_rate * prob_drunk_prior\n",
        "marginal = (true_positive_rate * prob_drunk_prior) + (false_positive_rate * P_not_drunk)\n",
        "posterior_probability = numerator/marginal\n",
        "\n",
        "print(posterior_probability)"
      ],
      "execution_count": 15,
      "outputs": [
        {
          "output_type": "stream",
          "text": [
            "0.012357884330202669\n"
          ],
          "name": "stdout"
        }
      ]
    },
    {
      "cell_type": "code",
      "metadata": {
        "id": "vhwpEucqQ-wx",
        "colab_type": "code",
        "colab": {
          "base_uri": "https://localhost:8080/",
          "height": 35
        },
        "outputId": "889e529e-07c6-4a8c-c2a9-e39f6c1bfccd"
      },
      "source": [
        "#sanity check below, coding from lecture isn't working-- replacing prior with \n",
        "# new prior of posterior\n",
        "\n",
        "numerator = true_positive_rate * posterior_probability\n",
        "marginal = (true_positive_rate * posterior_probability) + (false_positive_rate * P_not_drunk)\n",
        "posterior_probability2 = numerator/marginal\n",
        "\n",
        "print(posterior_probability2)"
      ],
      "execution_count": 31,
      "outputs": [
        {
          "output_type": "stream",
          "text": [
            "0.13392032576279944\n"
          ],
          "name": "stdout"
        }
      ]
    },
    {
      "cell_type": "code",
      "metadata": {
        "id": "UphbAROPRXan",
        "colab_type": "code",
        "colab": {}
      },
      "source": [
        "#Ok, I'm going to go ahead and use my own here\n",
        "def prob_drunk(prob_drunk_prior, false_positive_rate, true_positive_rate, number_of_tests):\n",
        "  posterior_probability = prob_drunk_prior\n",
        "  for test in range(0, number_of_tests): \n",
        "      prob_drunk_prior = posterior_probability\n",
        "      P_not_drunk = 1 - prob_drunk_prior\n",
        "      numerator = true_positive_rate * prob_drunk_prior\n",
        "      marginal = (true_positive_rate * prob_drunk_prior) + (false_positive_rate * P_not_drunk)\n",
        "      posterior_probability = numerator/marginal\n",
        "  return posterior_probability"
      ],
      "execution_count": 0,
      "outputs": []
    },
    {
      "cell_type": "code",
      "metadata": {
        "id": "NFN_TEItKzMx",
        "colab_type": "code",
        "colab": {
          "base_uri": "https://localhost:8080/",
          "height": 35
        },
        "outputId": "9e413256-2afd-4117-dae3-b62f9a58409a"
      },
      "source": [
        "# one rep\n",
        "prob_drunk(1/1000, .08, 1, 1)"
      ],
      "execution_count": 43,
      "outputs": [
        {
          "output_type": "execute_result",
          "data": {
            "text/plain": [
              "0.012357884330202669"
            ]
          },
          "metadata": {
            "tags": []
          },
          "execution_count": 43
        }
      ]
    },
    {
      "cell_type": "code",
      "metadata": {
        "id": "oR5pDUisT1uh",
        "colab_type": "code",
        "colab": {
          "base_uri": "https://localhost:8080/",
          "height": 35
        },
        "outputId": "8fc4161b-d9a0-46be-ea00-450ee90e81ed"
      },
      "source": [
        "# for two repetitions. YESSS! IT WORKS\n",
        "prob_drunk(1/1000, .08, 1, 2)"
      ],
      "execution_count": 44,
      "outputs": [
        {
          "output_type": "execute_result",
          "data": {
            "text/plain": [
              "0.13525210993291495"
            ]
          },
          "metadata": {
            "tags": []
          },
          "execution_count": 44
        }
      ]
    },
    {
      "cell_type": "code",
      "metadata": {
        "id": "dvpUK8G2Ucgw",
        "colab_type": "code",
        "colab": {
          "base_uri": "https://localhost:8080/",
          "height": 35
        },
        "outputId": "70096062-31a0-4e43-d742-38f36f051d94"
      },
      "source": [
        "# 3 reps\n",
        "prob_drunk(1/1000, .08, 1, 3)"
      ],
      "execution_count": 45,
      "outputs": [
        {
          "output_type": "execute_result",
          "data": {
            "text/plain": [
              "0.6615996951348605"
            ]
          },
          "metadata": {
            "tags": []
          },
          "execution_count": 45
        }
      ]
    },
    {
      "cell_type": "code",
      "metadata": {
        "id": "Qx4sVLyHUmrh",
        "colab_type": "code",
        "colab": {
          "base_uri": "https://localhost:8080/",
          "height": 35
        },
        "outputId": "b2651605-daaf-45b4-b6b3-6ababdf526bd"
      },
      "source": [
        "# 4 reps-- this is how we get to 95% accuracy\n",
        "prob_drunk(1/1000, .08, 1, 4)"
      ],
      "execution_count": 46,
      "outputs": [
        {
          "output_type": "execute_result",
          "data": {
            "text/plain": [
              "0.9606895076105054"
            ]
          },
          "metadata": {
            "tags": []
          },
          "execution_count": 46
        }
      ]
    },
    {
      "cell_type": "markdown",
      "metadata": {
        "id": "fTJSO-JeU-2O",
        "colab_type": "text"
      },
      "source": [
        "# **2) Explore scipy.stats.bayes_mvs**"
      ]
    },
    {
      "cell_type": "markdown",
      "metadata": {
        "id": "cfcORsveVlc3",
        "colab_type": "text"
      },
      "source": [
        "# **3) In your own words, summarize the difference between Bayesian and Frequentist statistics**"
      ]
    },
    {
      "cell_type": "markdown",
      "metadata": {
        "id": "C4Zv8wi3Vsma",
        "colab_type": "text"
      },
      "source": [
        "Bayesian statistics look at the frequencies of occurences from empircal data to create models of prediction. In order to use this approach, there is a need to set an expectation for the frequency of events (probability) given specific parameters. The Bayes model allows for the relative frequency of each event of interest to provide a kind of weight to the probability.\n",
        "\n",
        "Meanwhile, frequentist approaches use a distribution to set the expected values in order to make inferences about populations, with degrees of freedom and margin of error determining overall confidence. "
      ]
    },
    {
      "cell_type": "markdown",
      "metadata": {
        "id": "uWgWjp3PQ3Sq",
        "colab_type": "text"
      },
      "source": [
        "## Resources"
      ]
    },
    {
      "cell_type": "markdown",
      "metadata": {
        "id": "QRgHqmYIQ9qn",
        "colab_type": "text"
      },
      "source": [
        "- [Worked example of Bayes rule calculation](https://en.wikipedia.org/wiki/Bayes'_theorem#Examples) (helpful as it fully breaks out the denominator)\n",
        "- [Source code for mvsdist in scipy](https://github.com/scipy/scipy/blob/90534919e139d2a81c24bf08341734ff41a3db12/scipy/stats/morestats.py#L139)"
      ]
    },
    {
      "cell_type": "markdown",
      "metadata": {
        "id": "GP7Jv1XvwtkX",
        "colab_type": "text"
      },
      "source": [
        "## Stretch Goals:\n",
        "\n",
        "- Go back and study the content from Modules 1 & 2 to make sure that you're really comfortable with them.\n",
        "- Apply a Bayesian technique to a problem you previously worked (in an assignment or project work) on from a frequentist (standard) perspective\n",
        "- Check out [PyMC3](https://docs.pymc.io/) (note this goes beyond hypothesis tests into modeling) - read the guides and work through some examples\n",
        "- Take PyMC3 further - see if you can build something with it!"
      ]
    },
    {
      "cell_type": "code",
      "metadata": {
        "id": "iDi0eFr1x-v_",
        "colab_type": "code",
        "colab": {}
      },
      "source": [
        ""
      ],
      "execution_count": 0,
      "outputs": []
    }
  ]
}