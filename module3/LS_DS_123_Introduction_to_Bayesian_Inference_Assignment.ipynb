{
  "nbformat": 4,
  "nbformat_minor": 0,
  "metadata": {
    "colab": {
      "name": "LS_DS_123_Introduction_to_Bayesian_Inference_Assignment.ipynb",
      "provenance": [],
      "collapsed_sections": []
    },
    "kernelspec": {
      "name": "python3",
      "display_name": "Python 3"
    }
  },
  "cells": [
    {
      "cell_type": "markdown",
      "metadata": {
        "id": "H7OLbevlbd_Z",
        "colab_type": "text"
      },
      "source": [
        "# Lambda School Data Science Module 123\n",
        "\n",
        "## Introduction to Bayesian Inference\n",
        "\n",
        "\n"
      ]
    },
    {
      "cell_type": "markdown",
      "metadata": {
        "id": "P-DzzRk5bf0z",
        "colab_type": "text"
      },
      "source": [
        "## Assignment - Code it up!\n",
        "\n",
        "We used pure math to apply Bayes Theorem to drug tests. Now write Python code to reproduce the results! This is purposefully open ended - you'll have to think about how you should represent probabilities and events. You can and should look things up.\n",
        "\n",
        "### 1) Write a function \n",
        "\n",
        "`def prob_drunk_given_positive(prob_drunk_prior, false_positive_rate):` \n",
        "\n",
        "You should only truly need these two values in order to apply Bayes Theorem. In this example, imagine that individuals are taking a breathalyzer test with an 8% false positive rate, a 100% true positive rate, and that our prior belief about drunk driving in the population is 1/1000. \n",
        " - What is the probability that a person is drunk after one positive breathalyzer test?\n",
        " - What is the probability that a person is drunk after two positive breathalyzer tests?\n",
        " - How many positive breathalyzer tests are needed in order to have a probability that's greater than 95% that a person is drunk beyond the legal limit?\n",
        "\n",
        "\n",
        "\n"
      ]
    },
    {
      "cell_type": "code",
      "metadata": {
        "id": "xpVhZyUnbf7o",
        "colab_type": "code",
        "colab": {}
      },
      "source": [
        "# prb_drunk_postv returns the probability of a drunk driver given a prior probability of drunk driver\n",
        "def prb_drunk_postv(prb_drunk_prior, rte_false_pstv):\n",
        "  prb_drunk                 = prb_drunk_prior   # prior knowledge of drunk driving\n",
        "  prb_rate_not_drunk        = (1 - prb_drunk)   # probability of a non-drunk diver\n",
        "  prb_rate_p_when_drunk     = 1.00              # positve test rate if drunk\n",
        "  prb_rate_p_when_not_drunk = rte_false_pstv    # positve test rate if not drunk (false positive)\n",
        "\n",
        "  # Set up the calculation via a Baysian Method\n",
        "  numerator   = prb_rate_p_when_drunk * prb_drunk\n",
        "  denominator = (prb_rate_p_when_drunk * prb_drunk) + (prb_rate_p_when_not_drunk * prb_rate_not_drunk)\n",
        "\n",
        "  # Calculate probability of being a drunk driver given some prior test assumption\n",
        "  bae_stat = numerator / denominator\n",
        " \n",
        "  return bae_stat\n",
        "  "
      ],
      "execution_count": 0,
      "outputs": []
    },
    {
      "cell_type": "code",
      "metadata": {
        "id": "unzUP6c_P8jD",
        "colab_type": "code",
        "colab": {
          "base_uri": "https://localhost:8080/",
          "height": 85
        },
        "outputId": "57e229eb-adf9-4c83-89d6-76dda0e80331"
      },
      "source": [
        "# Iterate through a number of tests\n",
        "my_rslts   = 0.0\n",
        "rate_prior = .001 # Rate of drunk drivers in the general population\n",
        "num_test   = 0    # Test testing iteration - starting with test #0\n",
        "\n",
        "# Begin iteration\n",
        "while my_rslts <= .95:\n",
        "  # Calculate the Bayesian probability given a prior drunk testing rate and false positive rate\n",
        "  my_rslts = prb_drunk_postv(rate_prior, .08)\n",
        "  print(f'Probability of being drunk after test #{num_test}: {\"{:.4%}\".format(my_rslts)}')\n",
        "\n",
        "  # Update variables and determine if we should test again\n",
        "  rate_prior = my_rslts       # The next test's prior rate is now this test's results\n",
        "  num_test   = num_test + 1   # Increment the number of tests\n",
        "\n",
        "  # If the while loop i\n",
        "  if num_test > 1000:\n",
        "    print(\"Houston we have a problem, num_test is:\", num_test)\n",
        "    break\n"
      ],
      "execution_count": 22,
      "outputs": [
        {
          "output_type": "stream",
          "text": [
            "Probability of being drunk after test #0: 1.2358%\n",
            "Probability of being drunk after test #1: 13.5252%\n",
            "Probability of being drunk after test #2: 66.1600%\n",
            "Probability of being drunk after test #3: 96.0690%\n"
          ],
          "name": "stdout"
        }
      ]
    },
    {
      "cell_type": "markdown",
      "metadata": {
        "id": "ZMyQSNWttEyY",
        "colab_type": "text"
      },
      "source": [
        "### 2) Explore `scipy.stats.bayes_mvs`  \n",
        "Read its documentation, and experiment with it on data you've tested in other ways earlier this week.\n",
        " - Create a visualization comparing the results of a Bayesian approach to a traditional/frequentist approach. (with a large sample size they should look close to identical, however, take this opportunity to practice visualizing condfidence intervals in general. The following are some potential ways that you could visualize confidence intervals on your graph:\n",
        "  - [Matplotlib Error Bars](https://matplotlib.org/3.1.1/api/_as_gen/matplotlib.pyplot.errorbar.html)\n",
        "  - [Seaborn barplot with error bars](https://seaborn.pydata.org/generated/seaborn.barplot.html)\n",
        "  - [Vertical ines to show bounds of confidence interval](https://www.simplypsychology.org/confidence-interval.jpg)\n",
        "  - [Confidence Intervals on Box Plots](https://matplotlib.org/3.1.1/api/_as_gen/matplotlib.axes.Axes.boxplot.html)\n"
      ]
    },
    {
      "cell_type": "markdown",
      "metadata": {
        "id": "t6YEMMiV7zm5",
        "colab_type": "text"
      },
      "source": [
        "### 3) In your own words, summarize the difference between Bayesian and Frequentist statistics\n",
        "\n",
        "In my opinion the frequentist approach analyzes a problem space at a snapshot in time. So for the Monty Hall problem, the frequentist approach would to analyze a set of three doors in which a cool car is behind one of two closed doors and a goat is behind another door which is open.  To the frequentist this is a simple problem in which there are two closed doors with a desirable prize behind one of them.  Therefore there's a 50-50 chance of picking \"right\".\n",
        "\n",
        "Bayesian statistics accommodates some bit of prior knowledge that impacts the problem space.  For the Monty Hall problem, it is known that a car is behind one of three doors.  However, there's prior knowledge in that one of those three doors is open revealing a goat.  Bayesian statistics takes this bit of (prior) knowledge and enables the viewer to include it into calculating probabalities of a desired outcome."
      ]
    },
    {
      "cell_type": "markdown",
      "metadata": {
        "id": "uWgWjp3PQ3Sq",
        "colab_type": "text"
      },
      "source": [
        "## Resources"
      ]
    },
    {
      "cell_type": "markdown",
      "metadata": {
        "id": "QRgHqmYIQ9qn",
        "colab_type": "text"
      },
      "source": [
        "- [Worked example of Bayes rule calculation](https://en.wikipedia.org/wiki/Bayes'_theorem#Examples) (helpful as it fully breaks out the denominator)\n",
        "- [Source code for mvsdist in scipy](https://github.com/scipy/scipy/blob/90534919e139d2a81c24bf08341734ff41a3db12/scipy/stats/morestats.py#L139)"
      ]
    },
    {
      "cell_type": "markdown",
      "metadata": {
        "id": "GP7Jv1XvwtkX",
        "colab_type": "text"
      },
      "source": [
        "## Stretch Goals:\n",
        "\n",
        "- Go back and study the content from Modules 1 & 2 to make sure that you're really comfortable with them.\n",
        "- Apply a Bayesian technique to a problem you previously worked (in an assignment or project work) on from a frequentist (standard) perspective\n",
        "- Check out [PyMC3](https://docs.pymc.io/) (note this goes beyond hypothesis tests into modeling) - read the guides and work through some examples\n",
        "- Take PyMC3 further - see if you can build something with it!"
      ]
    },
    {
      "cell_type": "code",
      "metadata": {
        "id": "iDi0eFr1x-v_",
        "colab_type": "code",
        "colab": {}
      },
      "source": [
        ""
      ],
      "execution_count": 0,
      "outputs": []
    }
  ]
}
