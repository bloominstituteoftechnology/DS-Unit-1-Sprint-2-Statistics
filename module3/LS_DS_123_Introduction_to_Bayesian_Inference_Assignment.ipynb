{
  "nbformat": 4,
  "nbformat_minor": 0,
  "metadata": {
    "colab": {
      "name": "LS_DS_123_Introduction_to_Bayesian_Inference_Assignment.ipynb",
      "provenance": []
    },
    "kernelspec": {
      "name": "python3",
      "display_name": "Python 3"
    }
  },
  "cells": [
    {
      "cell_type": "markdown",
      "metadata": {
        "id": "H7OLbevlbd_Z",
        "colab_type": "text"
      },
      "source": [
        "# Lambda School Data Science Module 123\n",
        "\n",
        "## Introduction to Bayesian Inference\n",
        "\n",
        "\n"
      ]
    },
    {
      "cell_type": "markdown",
      "metadata": {
        "id": "P-DzzRk5bf0z",
        "colab_type": "text"
      },
      "source": [
        "## Assignment - Code it up!\n",
        "\n",
        "We used pure math to apply Bayes Theorem to drug tests. Now write Python code to reproduce the results! This is purposefully open ended - you'll have to think about how you should represent probabilities and events. You can and should look things up.\n",
        "\n",
        "Specific goals/targets:\n",
        "\n",
        "### 1) Write a function \n",
        "\n",
        "`def prob_drunk_given_positive(prob_drunk_prior, false_positive_rate, true_positive_rate):` \n",
        "\n",
        "You should only truly need these two values in order to apply Bayes Theorem. In this example, imagine that individuals are taking a breathalyzer test with an 8% false positive rate, a 100% true positive rate, and that our prior belief about drunk driving in the population is 1/1000. \n",
        " - What is the probability that a person is drunk after one positive breathalyzer test?\n",
        " - What is the probability that a person is drunk after two positive breathalyzer tests?\n",
        " - How many positive breathalyzer tests are needed in order to have a probability that's greater than 95% that a person is drunk beyond the legal limit?\n",
        "\n",
        "### 2) Explore `scipy.stats.bayes_mvs`  \n",
        "Read its documentation, and experiment with it on data you've tested in other ways earlier this week.\n",
        " - Create a visualization comparing the results of a Bayesian approach to a traditional/frequentist approach. (with a large sample size they should look close to identical, however, take this opportunity to practice visualizing condfidence intervals in general. The following are some potential ways that you could visualize confidence intervals on your graph:\n",
        "  - [Matplotlib Error Bars](https://matplotlib.org/3.1.1/api/_as_gen/matplotlib.pyplot.errorbar.html)\n",
        "  - [Seaborn barplot with error bars](https://seaborn.pydata.org/generated/seaborn.barplot.html)\n",
        "  - [Vertical ines to show bounds of confidence interval](https://www.simplypsychology.org/confidence-interval.jpg)\n",
        "  - [Confidence Intervals on Box Plots](https://matplotlib.org/3.1.1/api/_as_gen/matplotlib.axes.Axes.boxplot.html)\n",
        "\n",
        "### 3) In your own words, summarize the difference between Bayesian and Frequentist statistics\n",
        "\n",
        "If you're unsure where to start, check out [this blog post of Bayes theorem with Python](https://dataconomy.com/2015/02/introduction-to-bayes-theorem-with-python/).\n",
        "\n"
      ]
    },
    {
      "cell_type": "code",
      "metadata": {
        "id": "xpVhZyUnbf7o",
        "colab_type": "code",
        "colab": {}
      },
      "source": [
        "# TODO - code!"
      ],
      "execution_count": 0,
      "outputs": []
    },
    {
      "cell_type": "markdown",
      "metadata": {
        "id": "51xrn8zaGy9e",
        "colab_type": "text"
      },
      "source": [
        "## 1) Write a function \n",
        "\n",
        "`def prob_drunk_given_positive(prob_drunk_prior, false_positive_rate, true_positive_rate):` "
      ]
    },
    {
      "cell_type": "code",
      "metadata": {
        "id": "Sf9pkAIQGyn_",
        "colab_type": "code",
        "colab": {}
      },
      "source": [
        "def prob_drug_use(prior_belief, f_pos, t_pos):\n",
        "  p_user = prior_belief\n",
        "  p_nonuser = 1 - p_user\n",
        "  p_pos_user = t_pos\n",
        "  p_pos_nonuser = f_pos\n",
        "  posterior_probability = ((p_pos_user*p_user) / \n",
        "                           ((p_pos_user*p_user) + (p_pos_nonuser*p_nonuser)))\n",
        "  return posterior_probability"
      ],
      "execution_count": 0,
      "outputs": []
    },
    {
      "cell_type": "markdown",
      "metadata": {
        "id": "y5ixKXvKHIwr",
        "colab_type": "text"
      },
      "source": [
        "8% false positive rate\n",
        "\n",
        "100% true positive rate\n",
        "\n",
        "prior belief is 1/1000\n"
      ]
    },
    {
      "cell_type": "code",
      "metadata": {
        "id": "__jAUnkkHdM8",
        "colab_type": "code",
        "colab": {}
      },
      "source": [
        "f_pos = .08\n",
        "t_pos = 1\n",
        "prior_belief = .001"
      ],
      "execution_count": 0,
      "outputs": []
    },
    {
      "cell_type": "markdown",
      "metadata": {
        "id": "SwIopf1ZHXtS",
        "colab_type": "text"
      },
      "source": [
        " - What is the probability that a person is drunk after one positive breathalyzer test?"
      ]
    },
    {
      "cell_type": "code",
      "metadata": {
        "id": "i-589e9KHIaN",
        "colab_type": "code",
        "colab": {
          "base_uri": "https://localhost:8080/",
          "height": 34
        },
        "outputId": "6941ae2b-f23c-4610-9f8b-05a8c8d854e3"
      },
      "source": [
        "prob_drug_use(prior_belief, f_pos, t_pos)"
      ],
      "execution_count": 11,
      "outputs": [
        {
          "output_type": "execute_result",
          "data": {
            "text/plain": [
              "0.012357884330202669"
            ]
          },
          "metadata": {
            "tags": []
          },
          "execution_count": 11
        }
      ]
    },
    {
      "cell_type": "markdown",
      "metadata": {
        "id": "mnebK2c0I3cy",
        "colab_type": "text"
      },
      "source": [
        "- What is the probability that a person is drunk after two positive breathalyzer tests?"
      ]
    },
    {
      "cell_type": "code",
      "metadata": {
        "id": "2dgYzBfOIFlj",
        "colab_type": "code",
        "colab": {
          "base_uri": "https://localhost:8080/",
          "height": 34
        },
        "outputId": "82e4ab80-621a-41f3-e85c-b941ca88bfac"
      },
      "source": [
        "new_prior = prob_drug_use(prior_belief, f_pos, t_pos)\n",
        "prob_drug_use(new_prior, f_pos, t_pos)"
      ],
      "execution_count": 12,
      "outputs": [
        {
          "output_type": "execute_result",
          "data": {
            "text/plain": [
              "0.13525210993291495"
            ]
          },
          "metadata": {
            "tags": []
          },
          "execution_count": 12
        }
      ]
    },
    {
      "cell_type": "code",
      "metadata": {
        "id": "-k_8EHqJln5j",
        "colab_type": "code",
        "colab": {}
      },
      "source": [
        "print(prob_drunk_given_positive(prob_drunk_given_positive(1 / 1000, .08), .08))"
      ],
      "execution_count": 0,
      "outputs": []
    },
    {
      "cell_type": "markdown",
      "metadata": {
        "id": "mxlyavFUJrsT",
        "colab_type": "text"
      },
      "source": [
        "- How many positive breathalyzer tests are needed in order to have a probability that's greater than 95% that a person is drunk beyond the legal limit?"
      ]
    },
    {
      "cell_type": "code",
      "metadata": {
        "id": "_E40bff0JnpK",
        "colab_type": "code",
        "colab": {
          "base_uri": "https://localhost:8080/",
          "height": 34
        },
        "outputId": "a8f7a637-3d24-4502-f5c8-6e937f3ad74f"
      },
      "source": [
        "count = 0\n",
        "result_prob = prior_belief\n",
        "\n",
        "while result_prob < .95:\n",
        "  count += 1\n",
        "  result_prob = prob_drug_use(result_prob, f_pos, t_pos)\n",
        "\n",
        "print(f'After {count} tests, the probability of drunkenness is {result_prob*100:.2f}%.')"
      ],
      "execution_count": 14,
      "outputs": [
        {
          "output_type": "stream",
          "text": [
            "After 4 tests, the probability of drunkenness is 96.07%.\n"
          ],
          "name": "stdout"
        }
      ]
    },
    {
      "cell_type": "markdown",
      "metadata": {
        "id": "HQ6FFlYaKuRa",
        "colab_type": "text"
      },
      "source": [
        "## 2) Explore `scipy.stats.bayes_mvs`  "
      ]
    },
    {
      "cell_type": "code",
      "metadata": {
        "id": "HuHGrvj8L-jb",
        "colab_type": "code",
        "colab": {}
      },
      "source": [
        "from scipy import stats"
      ],
      "execution_count": 0,
      "outputs": []
    },
    {
      "cell_type": "code",
      "metadata": {
        "id": "TNrBKlXGMDce",
        "colab_type": "code",
        "colab": {
          "base_uri": "https://localhost:8080/",
          "height": 1000
        },
        "outputId": "30f13728-d154-47c8-a705-919e2b8d4fbc"
      },
      "source": [
        "help(stats.bayes_mvs)"
      ],
      "execution_count": 16,
      "outputs": [
        {
          "output_type": "stream",
          "text": [
            "Help on function bayes_mvs in module scipy.stats.morestats:\n",
            "\n",
            "bayes_mvs(data, alpha=0.9)\n",
            "    Bayesian confidence intervals for the mean, var, and std.\n",
            "    \n",
            "    Parameters\n",
            "    ----------\n",
            "    data : array_like\n",
            "        Input data, if multi-dimensional it is flattened to 1-D by `bayes_mvs`.\n",
            "        Requires 2 or more data points.\n",
            "    alpha : float, optional\n",
            "        Probability that the returned confidence interval contains\n",
            "        the true parameter.\n",
            "    \n",
            "    Returns\n",
            "    -------\n",
            "    mean_cntr, var_cntr, std_cntr : tuple\n",
            "        The three results are for the mean, variance and standard deviation,\n",
            "        respectively.  Each result is a tuple of the form::\n",
            "    \n",
            "            (center, (lower, upper))\n",
            "    \n",
            "        with `center` the mean of the conditional pdf of the value given the\n",
            "        data, and `(lower, upper)` a confidence interval, centered on the\n",
            "        median, containing the estimate to a probability ``alpha``.\n",
            "    \n",
            "    See Also\n",
            "    --------\n",
            "    mvsdist\n",
            "    \n",
            "    Notes\n",
            "    -----\n",
            "    Each tuple of mean, variance, and standard deviation estimates represent\n",
            "    the (center, (lower, upper)) with center the mean of the conditional pdf\n",
            "    of the value given the data and (lower, upper) is a confidence interval\n",
            "    centered on the median, containing the estimate to a probability\n",
            "    ``alpha``.\n",
            "    \n",
            "    Converts data to 1-D and assumes all data has the same mean and variance.\n",
            "    Uses Jeffrey's prior for variance and std.\n",
            "    \n",
            "    Equivalent to ``tuple((x.mean(), x.interval(alpha)) for x in mvsdist(dat))``\n",
            "    \n",
            "    References\n",
            "    ----------\n",
            "    T.E. Oliphant, \"A Bayesian perspective on estimating mean, variance, and\n",
            "    standard-deviation from data\", https://scholarsarchive.byu.edu/facpub/278,\n",
            "    2006.\n",
            "    \n",
            "    Examples\n",
            "    --------\n",
            "    First a basic example to demonstrate the outputs:\n",
            "    \n",
            "    >>> from scipy import stats\n",
            "    >>> data = [6, 9, 12, 7, 8, 8, 13]\n",
            "    >>> mean, var, std = stats.bayes_mvs(data)\n",
            "    >>> mean\n",
            "    Mean(statistic=9.0, minmax=(7.103650222612533, 10.896349777387467))\n",
            "    >>> var\n",
            "    Variance(statistic=10.0, minmax=(3.176724206..., 24.45910382...))\n",
            "    >>> std\n",
            "    Std_dev(statistic=2.9724954732045084, minmax=(1.7823367265645143, 4.945614605014631))\n",
            "    \n",
            "    Now we generate some normally distributed random data, and get estimates of\n",
            "    mean and standard deviation with 95% confidence intervals for those\n",
            "    estimates:\n",
            "    \n",
            "    >>> n_samples = 100000\n",
            "    >>> data = stats.norm.rvs(size=n_samples)\n",
            "    >>> res_mean, res_var, res_std = stats.bayes_mvs(data, alpha=0.95)\n",
            "    \n",
            "    >>> import matplotlib.pyplot as plt\n",
            "    >>> fig = plt.figure()\n",
            "    >>> ax = fig.add_subplot(111)\n",
            "    >>> ax.hist(data, bins=100, density=True, label='Histogram of data')\n",
            "    >>> ax.vlines(res_mean.statistic, 0, 0.5, colors='r', label='Estimated mean')\n",
            "    >>> ax.axvspan(res_mean.minmax[0],res_mean.minmax[1], facecolor='r',\n",
            "    ...            alpha=0.2, label=r'Estimated mean (95% limits)')\n",
            "    >>> ax.vlines(res_std.statistic, 0, 0.5, colors='g', label='Estimated scale')\n",
            "    >>> ax.axvspan(res_std.minmax[0],res_std.minmax[1], facecolor='g', alpha=0.2,\n",
            "    ...            label=r'Estimated scale (95% limits)')\n",
            "    \n",
            "    >>> ax.legend(fontsize=10)\n",
            "    >>> ax.set_xlim([-4, 4])\n",
            "    >>> ax.set_ylim([0, 0.5])\n",
            "    >>> plt.show()\n",
            "\n"
          ],
          "name": "stdout"
        }
      ]
    },
    {
      "cell_type": "code",
      "metadata": {
        "id": "77Ow3eI-MQUo",
        "colab_type": "code",
        "colab": {
          "base_uri": "https://localhost:8080/",
          "height": 510
        },
        "outputId": "4f267e2d-f1b7-4702-c4e3-83a3726a02db"
      },
      "source": [
        "!pip install Fortuna"
      ],
      "execution_count": 18,
      "outputs": [
        {
          "output_type": "stream",
          "text": [
            "Collecting Fortuna\n",
            "\u001b[?25l  Downloading https://files.pythonhosted.org/packages/77/08/35c8d2d783552a0e9d37b038720f648302aab1a569e044a542aff048a10f/Fortuna-3.16.5.tar.gz (186kB)\n",
            "\u001b[K     |████████████████████████████████| 194kB 9.5MB/s \n",
            "\u001b[?25hCollecting MonkeyScope\n",
            "\u001b[?25l  Downloading https://files.pythonhosted.org/packages/28/c1/5943ffd3f68c3126bc40e2b251f4973fdcade829056dd23ce3fc402a2f0b/MonkeyScope-1.2.8.tar.gz (62kB)\n",
            "\u001b[K     |████████████████████████████████| 71kB 8.3MB/s \n",
            "\u001b[?25hCollecting RNG\n",
            "\u001b[?25l  Downloading https://files.pythonhosted.org/packages/89/0a/77e39ed1714754ac5a52365f4355402ac53496b9c8462a8ad5d08d623c47/RNG-1.6.6.tar.gz (53kB)\n",
            "\u001b[K     |████████████████████████████████| 61kB 6.9MB/s \n",
            "\u001b[?25hCollecting Pyewacket\n",
            "\u001b[?25l  Downloading https://files.pythonhosted.org/packages/1c/a2/d8a3f17c6b97a5f81195b3daea0662565e194fc1bb5af416de00bc5a142a/Pyewacket-1.3.8.tar.gz (79kB)\n",
            "\u001b[K     |████████████████████████████████| 81kB 7.8MB/s \n",
            "\u001b[?25hRequirement already satisfied: numpy in /usr/local/lib/python3.6/dist-packages (from MonkeyScope->Fortuna) (1.17.5)\n",
            "Building wheels for collected packages: Fortuna, MonkeyScope, RNG, Pyewacket\n",
            "  Building wheel for Fortuna (setup.py) ... \u001b[?25l\u001b[?25hdone\n",
            "  Created wheel for Fortuna: filename=Fortuna-3.16.5-cp36-cp36m-linux_x86_64.whl size=513431 sha256=3223eef172fd6e400975974b1f69133df68af29eb8782ce97a6692f85569c8b5\n",
            "  Stored in directory: /root/.cache/pip/wheels/c4/6d/64/834652f07eccd46f1ec1f8f2ace4e552da3e6c56ef9e663a21\n",
            "  Building wheel for MonkeyScope (setup.py) ... \u001b[?25l\u001b[?25hdone\n",
            "  Created wheel for MonkeyScope: filename=MonkeyScope-1.2.8-cp36-cp36m-linux_x86_64.whl size=175107 sha256=b6537a20446f976d41e4f754a69cd9bdfc4acbcb08d6d22504dc090f419e2803\n",
            "  Stored in directory: /root/.cache/pip/wheels/a7/e8/38/cec5b8f20b7cf09f4af1d792b5149f89b9732f39d88e2c70fc\n",
            "  Building wheel for RNG (setup.py) ... \u001b[?25l\u001b[?25hdone\n",
            "  Created wheel for RNG: filename=RNG-1.6.6-cp36-cp36m-linux_x86_64.whl size=157702 sha256=39425ba46bca5b44fa248c3f0e0948054a8f12b8622c196d57d3835992bf8d14\n",
            "  Stored in directory: /root/.cache/pip/wheels/a4/85/ec/f1b8b42b421dcc50b8ec4b9e567a3e0532f282d051cf2880b0\n",
            "  Building wheel for Pyewacket (setup.py) ... \u001b[?25l\u001b[?25hdone\n",
            "  Created wheel for Pyewacket: filename=Pyewacket-1.3.8-cp36-cp36m-linux_x86_64.whl size=216937 sha256=0522f8f2f82d813cb198a919da4a49b076671cc579388c3cc99f6c59da152740\n",
            "  Stored in directory: /root/.cache/pip/wheels/05/40/45/f571305c1191ea4ba033a7337d7489b9b0967fc0e3ec798c49\n",
            "Successfully built Fortuna MonkeyScope RNG Pyewacket\n",
            "Installing collected packages: MonkeyScope, RNG, Pyewacket, Fortuna\n",
            "Successfully installed Fortuna-3.16.5 MonkeyScope-1.2.8 Pyewacket-1.3.8 RNG-1.6.6\n"
          ],
          "name": "stdout"
        }
      ]
    },
    {
      "cell_type": "markdown",
      "metadata": {
        "id": "HDBmg49MNnfO",
        "colab_type": "text"
      },
      "source": [
        "####- Create a visualization comparing the results of a Bayesian approach to a traditional/frequentist approach."
      ]
    },
    {
      "cell_type": "code",
      "metadata": {
        "id": "2o6C9z5sMLvs",
        "colab_type": "code",
        "colab": {}
      },
      "source": [
        "import Fortuna\n",
        "import numpy as np\n",
        "import seaborn as sns\n",
        "import matplotlib.pyplot as plt"
      ],
      "execution_count": 0,
      "outputs": []
    },
    {
      "cell_type": "code",
      "metadata": {
        "id": "CXaBEJlMNC9U",
        "colab_type": "code",
        "colab": {}
      },
      "source": [
        "die_rolls = [Fortuna.random_int(1, 6) for _ in range(100)]"
      ],
      "execution_count": 0,
      "outputs": []
    },
    {
      "cell_type": "markdown",
      "metadata": {
        "id": "6NzU6kQZOBkV",
        "colab_type": "text"
      },
      "source": [
        "Frequentist Approach:"
      ]
    },
    {
      "cell_type": "code",
      "metadata": {
        "id": "yosWP2eYOD5q",
        "colab_type": "code",
        "colab": {
          "base_uri": "https://localhost:8080/",
          "height": 34
        },
        "outputId": "3df48be0-0c74-4c59-b7d3-c46ffb7e8efd"
      },
      "source": [
        "dice_freq = stats.t.interval(0.95,\n",
        "                             len(die_rolls),\n",
        "                             loc = np.mean(die_rolls),\n",
        "                             scale = stats.sem(die_rolls)\n",
        "                             )\n",
        "dice_freq"
      ],
      "execution_count": 30,
      "outputs": [
        {
          "output_type": "execute_result",
          "data": {
            "text/plain": [
              "(3.0721342881842832, 3.7678657118157166)"
            ]
          },
          "metadata": {
            "tags": []
          },
          "execution_count": 30
        }
      ]
    },
    {
      "cell_type": "markdown",
      "metadata": {
        "id": "aWWYaNJzOfU9",
        "colab_type": "text"
      },
      "source": [
        "Bayesian Approach:"
      ]
    },
    {
      "cell_type": "code",
      "metadata": {
        "id": "-qlm8dcGOh_w",
        "colab_type": "code",
        "colab": {
          "base_uri": "https://localhost:8080/",
          "height": 34
        },
        "outputId": "d01fd441-daa8-4fdf-9e7b-4624d6a88690"
      },
      "source": [
        "dice_bayes = stats.bayes_mvs(die_rolls, alpha=0.95)[0][1]\n",
        "dice_bayes"
      ],
      "execution_count": 33,
      "outputs": [
        {
          "output_type": "execute_result",
          "data": {
            "text/plain": [
              "(3.0720912544285084, 3.7679087455714915)"
            ]
          },
          "metadata": {
            "tags": []
          },
          "execution_count": 33
        }
      ]
    },
    {
      "cell_type": "markdown",
      "metadata": {
        "id": "X5r3qtOXP3j6",
        "colab_type": "text"
      },
      "source": [
        "Visualized via Seaborn distplot:"
      ]
    },
    {
      "cell_type": "code",
      "metadata": {
        "id": "HKQbLNgdOzZ5",
        "colab_type": "code",
        "colab": {
          "base_uri": "https://localhost:8080/",
          "height": 268
        },
        "outputId": "2c045cd8-1e63-4ca9-bddc-44bfd7a86585"
      },
      "source": [
        "sns.distplot(die_rolls, bins=6)\n",
        "plt.axvline(x=dice_freq[0], color='red')\n",
        "plt.axvline(x=dice_freq[1], color='red')\n",
        "plt.axvline(x=dice_bayes[0], color='green')\n",
        "plt.axvline(x=dice_bayes[1], color='green')\n",
        "plt.axvline(x=np.mean(die_rolls), color='k');"
      ],
      "execution_count": 43,
      "outputs": [
        {
          "output_type": "display_data",
          "data": {
            "image/png": "[encoded data removed]",
            "text/plain": [
              "<Figure size 432x288 with 1 Axes>"
            ]
          },
          "metadata": {
            "tags": []
          }
        }
      ]
    },
    {
      "cell_type": "markdown",
      "metadata": {
        "id": "CoP4sIbxQJCi",
        "colab_type": "text"
      },
      "source": [
        "A close-up of the left bound of the confidence intervals:"
      ]
    },
    {
      "cell_type": "code",
      "metadata": {
        "id": "Lbu-LR_tPrDw",
        "colab_type": "code",
        "colab": {
          "base_uri": "https://localhost:8080/",
          "height": 268
        },
        "outputId": "52f5a746-c78b-4bb3-ebe4-0a3f760d7eb8"
      },
      "source": [
        "sns.distplot(die_rolls, bins=6)\n",
        "plt.axvline(x=dice_freq[0], color='red')\n",
        "plt.axvline(x=dice_freq[1], color='red')\n",
        "plt.axvline(x=dice_bayes[0], color='green')\n",
        "plt.axvline(x=dice_bayes[1], color='green')\n",
        "plt.axvline(x=np.mean(die_rolls), color='k')\n",
        "plt.xlim(3.071, 3.073);"
      ],
      "execution_count": 47,
      "outputs": [
        {
          "output_type": "display_data",
          "data": {
            "image/png": "[encoded data removed]",
            "text/plain": [
              "<Figure size 432x288 with 1 Axes>"
            ]
          },
          "metadata": {
            "tags": []
          }
        }
      ]
    },
    {
      "cell_type": "code",
      "metadata": {
        "id": "77fsvGe5QkIi",
        "colab_type": "code",
        "colab": {
          "base_uri": "https://localhost:8080/",
          "height": 421
        },
        "outputId": "63e58501-fd36-4a4a-89f2-955f631d8be6"
      },
      "source": [
        "plt.figure(figsize=(12, 6))\n",
        "box1 = plt.boxplot(die_rolls,\n",
        "                   positions=[2],\n",
        "                   vert=False,\n",
        "                   meanline=True,\n",
        "                   notch=True,\n",
        "                   conf_intervals=[dice_freq],\n",
        "                   usermedians=[np.mean(die_rolls)],\n",
        "                   patch_artist=True,\n",
        "                   widths=.5\n",
        "                   )\n",
        "box2 = plt.boxplot(die_rolls,\n",
        "                   positions=[1],\n",
        "                   vert=False,\n",
        "                   meanline=True,\n",
        "                   notch=True,\n",
        "                   conf_intervals=[dice_bayes],\n",
        "                   usermedians=[np.mean(die_rolls)],\n",
        "                   patch_artist=True,\n",
        "                   widths=.5\n",
        "                   )\n",
        "plt.setp(box1[\"boxes\"], facecolor='#68829E')\n",
        "plt.setp(box2[\"boxes\"], facecolor='#598234')\n",
        "plt.xlabel('Roll Value', weight='bold')\n",
        "plt.yticks([1,2],\n",
        "           labels=['Die Rolls w/\\nBayesian\\nIntervals', \n",
        "                   'Die Rolls w/\\nFrequentist\\nIntervals'],\n",
        "           weight='bold'\n",
        "           )\n",
        "plt.vlines([dice_bayes], ymin=0.65, ymax=1.35)\n",
        "plt.vlines([dice_freq], ymin=1.65, ymax=2.35)\n",
        "plt.title('Sample Distribution of 100 Die Rolls\\n', weight='bold', size=14)\n",
        "plt.text(s='Plotted with Frequentist and Bayesian Confidence Intervals',\n",
        "         x=2.28, y=2.55\n",
        "         )\n",
        "plt.text(s='Center line for each box represents the mean of the dataset',\n",
        "         x=6.25, y=.58,\n",
        "         rotation=-90\n",
        "         );"
      ],
      "execution_count": 177,
      "outputs": [
        {
          "output_type": "display_data",
          "data": {
            "image/png": "[encoded data removed]",
            "text/plain": [
              "<Figure size 864x432 with 1 Axes>"
            ]
          },
          "metadata": {
            "tags": []
          }
        }
      ]
    },
    {
      "cell_type": "markdown",
      "metadata": {
        "id": "GgwmM2uwktlb",
        "colab_type": "text"
      },
      "source": [
        "##3) In your own words, summarize the difference between Bayesian and Frequentist statistics"
      ]
    },
    {
      "cell_type": "markdown",
      "metadata": {
        "id": "cCEpeCUukvIf",
        "colab_type": "text"
      },
      "source": [
        "Bayesian statistics build upon known or calculated prior knowledge combined with testing to estimate how close the result of the test is to the true value.  Repeated tests move the result closer to the true value (within a margin of error).\n",
        "\n",
        "Frequentist statistics build upon repeated _sampling_ from a population to infer the true value of a given statistic, within a calculated margin of error."
      ]
    },
    {
      "cell_type": "markdown",
      "metadata": {
        "id": "uWgWjp3PQ3Sq",
        "colab_type": "text"
      },
      "source": [
        "## Resources"
      ]
    },
    {
      "cell_type": "markdown",
      "metadata": {
        "id": "QRgHqmYIQ9qn",
        "colab_type": "text"
      },
      "source": [
        "- [Worked example of Bayes rule calculation](https://en.wikipedia.org/wiki/Bayes'_theorem#Examples) (helpful as it fully breaks out the denominator)\n",
        "- [Source code for mvsdist in scipy](https://github.com/scipy/scipy/blob/90534919e139d2a81c24bf08341734ff41a3db12/scipy/stats/morestats.py#L139)"
      ]
    },
    {
      "cell_type": "markdown",
      "metadata": {
        "id": "GP7Jv1XvwtkX",
        "colab_type": "text"
      },
      "source": [
        "## Stretch Goals:\n",
        "\n",
        "- Go back and study the content from Modules 1 & 2 to make sure that you're really comfortable with them.\n",
        "- Apply a Bayesian technique to a problem you previously worked (in an assignment or project work) on from a frequentist (standard) perspective\n",
        "- Check out [PyMC3](https://docs.pymc.io/) (note this goes beyond hypothesis tests into modeling) - read the guides and work through some examples\n",
        "- Take PyMC3 further - see if you can build something with it!"
      ]
    },
    {
      "cell_type": "code",
      "metadata": {
        "id": "iDi0eFr1x-v_",
        "colab_type": "code",
        "colab": {}
      },
      "source": [
        ""
      ],
      "execution_count": 0,
      "outputs": []
    }
  ]
}