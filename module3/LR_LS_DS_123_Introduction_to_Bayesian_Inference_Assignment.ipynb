{
  "nbformat": 4,
  "nbformat_minor": 0,
  "metadata": {
    "colab": {
      "name": "LR_LS_DS_123_Introduction_to_Bayesian_Inference_Assignment.ipynb",
      "provenance": [],
      "collapsed_sections": [],
      "include_colab_link": true
    },
    "kernelspec": {
      "name": "python3",
      "display_name": "Python 3"
    }
  },
  "cells": [
    {
      "cell_type": "markdown",
      "metadata": {
        "id": "view-in-github",
        "colab_type": "text"
      },
      "source": [
        "<a href=\"https://colab.research.google.com/github/lfr4704/DS-Unit-1-Sprint-2-Statistics/blob/master/module3/LR_LS_DS_123_Introduction_to_Bayesian_Inference_Assignment.ipynb\" target=\"_parent\"><img src=\"https://colab.research.google.com/assets/colab-badge.svg\" alt=\"Open In Colab\"/></a>"
      ]
    },
    {
      "cell_type": "markdown",
      "metadata": {
        "id": "H7OLbevlbd_Z",
        "colab_type": "text"
      },
      "source": [
        "# Lambda School Data Science Module 123\n",
        "\n",
        "## Introduction to Bayesian Inference\n",
        "\n",
        "\n"
      ]
    },
    {
      "cell_type": "markdown",
      "metadata": {
        "id": "P-DzzRk5bf0z",
        "colab_type": "text"
      },
      "source": [
        "## Assignment - Code it up!\n",
        "\n",
        "We used pure math to apply Bayes Theorem to drug tests. Now write Python code to reproduce the results! This is purposefully open ended - you'll have to think about how you should represent probabilities and events. You can and should look things up.\n",
        "\n",
        "Specific goals/targets:\n",
        "\n",
        "### 1) Write a function \n",
        "\n",
        "`def prob_drunk_given_positive(prob_drunk_prior, false_positive_rate, true_positive_rate):` \n",
        "\n",
        "You should only truly need these two values in order to apply Bayes Theorem. In this example, imagine that individuals are taking a breathalyzer test with an 8% false positive rate, a 100% true positive rate, and that our prior belief about drunk driving in the population is 1/1000. \n",
        " - What is the probability that a person is drunk after one positive breathalyzer test?\n",
        " - What is the probability that a person is drunk after two positive breathalyzer tests?\n",
        " - How many positive breathalyzer tests are needed in order to have a probability that's greater than 95% that a person is drunk beyond the legal limit?\n",
        "\n",
        "### 2) (Optional) Explore `scipy.stats.bayes_mvs`  \n",
        "Read its documentation, and experiment with it on data you've tested in other ways earlier this week.\n",
        " - Create a visualization comparing the results of a Bayesian approach to a traditional/frequentist approach. (with a large sample size they should look close to identical, however, take this opportunity to practice visualizing condfidence intervals in general. The following are some potential ways that you could visualize confidence intervals on your graph:\n",
        "  - [Matplotlib Error Bars](https://matplotlib.org/3.1.1/api/_as_gen/matplotlib.pyplot.errorbar.html)\n",
        "  - [Seaborn barplot with error bars](https://seaborn.pydata.org/generated/seaborn.barplot.html)\n",
        "  - [Vertical ines to show bounds of confidence interval](https://www.simplypsychology.org/confidence-interval.jpg)\n",
        "  - [Confidence Intervals on Box Plots](https://matplotlib.org/3.1.1/api/_as_gen/matplotlib.axes.Axes.boxplot.html)\n",
        "\n",
        "### 3) In your own words, summarize the difference between Bayesian and Frequentist statistics\n",
        "\n",
        "If you're unsure where to start, check out [this blog post of Bayes theorem with Python](https://dataconomy.com/2015/02/introduction-to-bayes-theorem-with-python/).\n",
        "\n"
      ]
    },
    {
      "cell_type": "markdown",
      "metadata": {
        "id": "b-3k1EgnHHQt",
        "colab_type": "text"
      },
      "source": [
        "##Solutions\n",
        "\n",
        "### 1) Write a function \n",
        "\n",
        "`def prob_drunk_given_positive(prob_drunk_prior, false_positive_rate, true_positive_rate):` \n",
        "\n",
        "You should only truly need these three values in order to apply Bayes Theorem. In this example, imagine that individuals are taking a breathalyzer test with an 8% false positive rate, a 100% true positive rate, and that our prior belief about drunk driving in the population is 1/1000. \n",
        " - What is the probability that a person is drunk after one positive breathalyzer test?\n",
        " - What is the probability that a person is drunk after two positive breathalyzer tests?\n",
        " - How many positive breathalyzer tests are needed in order to have a probability that's greater than 95% that a person is drunk beyond the legal limit?"
      ]
    },
    {
      "cell_type": "code",
      "metadata": {
        "id": "TGSbd42RHard",
        "colab_type": "code",
        "colab": {
          "base_uri": "https://localhost:8080/",
          "height": 34
        },
        "outputId": "02a57174-a2b1-4f25-b0a6-9bd1334ddf0e"
      },
      "source": [
        "#manual answer for first test\n",
        "p_user = 1/1000 #prior belief \n",
        "p_pos_given_non_user = 0.08 # 8% false positive rate\n",
        "p_pos_given_user = 1 #100% true positive rate\n",
        "p_non_user = 1- p_user # complement of the prior belief \n",
        "\n",
        "#first iteration of Bayes Theorem \n",
        "\n",
        "numerator = p_pos_given_user * p_user #also conditional * prior\n",
        "marginal = (p_pos_given_user*p_user) + (p_pos_given_non_user*p_non_user)\n",
        "posterior_probability = numerator/marginal\n",
        "\n",
        "print(f\"probability that a person is drunk after one positive breathalyzer test: {posterior_probability}\")\n"
      ],
      "execution_count": 8,
      "outputs": [
        {
          "output_type": "stream",
          "text": [
            "probability that a person is drunk after one positive breathalyzer test: 0.012357884330202669\n"
          ],
          "name": "stdout"
        }
      ]
    },
    {
      "cell_type": "code",
      "metadata": {
        "id": "GTB6el_RTvy4",
        "colab_type": "code",
        "colab": {
          "base_uri": "https://localhost:8080/",
          "height": 34
        },
        "outputId": "e88ddfc5-1107-452a-cbf1-0e47f73d2de3"
      },
      "source": [
        "# We have the same person take the test again, and they test positive again\n",
        "# Now what is the probability that a person is drunk after two positive breathalyzer tests?\n",
        "# The posterior probability from the first test becomes our prior for the second iteration.\n",
        "\n",
        "p_user = posterior_probability # save posterior from first iteration as a new prior\n",
        "p_non_user = 1 - p_user # calculate the complement of that prior via the law of total probability\n",
        "\n",
        "# apply Bayes' theorem\n",
        "numerator = p_pos_given_user*p_user\n",
        "marginal = (p_pos_given_user*p_user) + (p_pos_given_non_user*p_non_user)\n",
        "posterior_probability = numerator/marginal\n",
        "print(f'probability that a person is drunk after two positive breathalyzer tests: {posterior_probability}')"
      ],
      "execution_count": 9,
      "outputs": [
        {
          "output_type": "stream",
          "text": [
            "probability that a person is drunk after two positive breathalyzer tests: 0.13525210993291495\n"
          ],
          "name": "stdout"
        }
      ]
    },
    {
      "cell_type": "code",
      "metadata": {
        "id": "e6CBur2LP1Gy",
        "colab_type": "code",
        "colab": {
          "base_uri": "https://localhost:8080/",
          "height": 34
        },
        "outputId": "339f87e8-f109-4e13-a718-3f0a9ac2351a"
      },
      "source": [
        " \n",
        "def prob_drunk_given_positive(prob_drunk_prior, false_positive_rate, true_positive_rate):\n",
        "  \"\"\"this function calculates the probability \n",
        "      that a person is drunk after one positive\n",
        "      breathalyzer test\"\"\"\n",
        "  numerator = true_positive_rate * prob_drunk_prior\n",
        "  marginal = (true_positive_rate*prob_drunk_prior) + (false_positive_rate*(1-prob_drunk_prior))\n",
        "  posterior_probability = numerator/marginal\n",
        "  return posterior_probability\n",
        "\n",
        "prob_drunk_given_positive(.001,.08,1)\n"
      ],
      "execution_count": 12,
      "outputs": [
        {
          "output_type": "execute_result",
          "data": {
            "text/plain": [
              "0.012357884330202669"
            ]
          },
          "metadata": {
            "tags": []
          },
          "execution_count": 12
        }
      ]
    },
    {
      "cell_type": "code",
      "metadata": {
        "id": "H7RKKVnuhjJj",
        "colab_type": "code",
        "colab": {
          "base_uri": "https://localhost:8080/",
          "height": 52
        },
        "outputId": "12c6295a-4501-44b5-abb3-a74b50425b16"
      },
      "source": [
        "def prob_drunk_given_positive_repeated(prob_drunk_prior, false_positive_rate, true_positive_rate, number_of_tests):\n",
        "  \"\"\"this function calculates the probability \n",
        "      that a person is drunk after a given number of positive\n",
        "      breathalyzer test\"\"\"\n",
        "  posterior_probability=prob_drunk_prior\n",
        "  for test in range(0, number_of_tests):\n",
        "    p_user = posterior_probability #prior belief\n",
        "    p_non_user = 1-p_user #complement of prior belief\n",
        "    p_pos_given_user = true_positive_rate #this is the true positive rate\n",
        "    p_pos_given_non_user = false_positive_rate #this is the false positive rate\n",
        "    posterior_probability = (p_pos_given_user*p_user)/((p_pos_given_user*p_user)+(p_pos_given_non_user*p_non_user))\n",
        "  return posterior_probability\n",
        "\n",
        "print(f'Probability after 1 test: {prob_drunk_given_positive_repeated(.001,.08,1,1)}')\n",
        "print(f'Probability after 2 test: {prob_drunk_given_positive_repeated(.001,.08,1,2)}')"
      ],
      "execution_count": 19,
      "outputs": [
        {
          "output_type": "stream",
          "text": [
            "Probability after 1 test: 0.012357884330202669\n",
            "Probability after 2 test: 0.13525210993291495\n"
          ],
          "name": "stdout"
        }
      ]
    },
    {
      "cell_type": "code",
      "metadata": {
        "id": "A1Z5Sd4tl-1p",
        "colab_type": "code",
        "colab": {}
      },
      "source": [
        "#How many positive breathalyzer tests are needed in order to have a probability that's greater than 95% that a person is drunk beyond the legal limit?\n"
      ],
      "execution_count": 0,
      "outputs": []
    },
    {
      "cell_type": "markdown",
      "metadata": {
        "id": "uWgWjp3PQ3Sq",
        "colab_type": "text"
      },
      "source": [
        "## Resources"
      ]
    },
    {
      "cell_type": "markdown",
      "metadata": {
        "id": "QRgHqmYIQ9qn",
        "colab_type": "text"
      },
      "source": [
        "- [Worked example of Bayes rule calculation](https://en.wikipedia.org/wiki/Bayes'_theorem#Examples) (helpful as it fully breaks out the denominator)\n",
        "- [Source code for mvsdist in scipy](https://github.com/scipy/scipy/blob/90534919e139d2a81c24bf08341734ff41a3db12/scipy/stats/morestats.py#L139)"
      ]
    },
    {
      "cell_type": "markdown",
      "metadata": {
        "id": "GP7Jv1XvwtkX",
        "colab_type": "text"
      },
      "source": [
        "## Stretch Goals:\n",
        "\n",
        "- Go back and study the content from Modules 1 & 2 to make sure that you're really comfortable with them.\n",
        "- Apply a Bayesian technique to a problem you previously worked (in an assignment or project work) on from a frequentist (standard) perspective\n",
        "- Check out [PyMC3](https://docs.pymc.io/) (note this goes beyond hypothesis tests into modeling) - read the guides and work through some examples\n",
        "- Take PyMC3 further - see if you can build something with it!"
      ]
    },
    {
      "cell_type": "code",
      "metadata": {
        "id": "iDi0eFr1x-v_",
        "colab_type": "code",
        "colab": {}
      },
      "source": [
        ""
      ],
      "execution_count": 0,
      "outputs": []
    }
  ]
}