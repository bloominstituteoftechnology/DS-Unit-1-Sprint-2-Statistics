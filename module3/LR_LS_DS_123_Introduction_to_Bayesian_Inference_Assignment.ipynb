{
  "nbformat": 4,
  "nbformat_minor": 0,
  "metadata": {
    "colab": {
      "name": "LR_LS_DS_123_Introduction_to_Bayesian_Inference_Assignment.ipynb",
      "provenance": [],
      "collapsed_sections": [
        "FZnxuBDxrM3T"
      ],
      "include_colab_link": true
    },
    "kernelspec": {
      "name": "python3",
      "display_name": "Python 3"
    }
  },
  "cells": [
    {
      "cell_type": "markdown",
      "metadata": {
        "id": "view-in-github",
        "colab_type": "text"
      },
      "source": [
        "<a href=\"https://colab.research.google.com/github/lfr4704/DS-Unit-1-Sprint-2-Statistics/blob/master/module3/LR_LS_DS_123_Introduction_to_Bayesian_Inference_Assignment.ipynb\" target=\"_parent\"><img src=\"https://colab.research.google.com/assets/colab-badge.svg\" alt=\"Open In Colab\"/></a>"
      ]
    },
    {
      "cell_type": "markdown",
      "metadata": {
        "id": "H7OLbevlbd_Z",
        "colab_type": "text"
      },
      "source": [
        "# Lambda School Data Science Module 123\n",
        "\n",
        "## Introduction to Bayesian Inference\n",
        "\n",
        "\n"
      ]
    },
    {
      "cell_type": "markdown",
      "metadata": {
        "id": "P-DzzRk5bf0z",
        "colab_type": "text"
      },
      "source": [
        "## Assignment - Code it up!\n",
        "\n",
        "We used pure math to apply Bayes Theorem to drug tests. Now write Python code to reproduce the results! This is purposefully open ended - you'll have to think about how you should represent probabilities and events. You can and should look things up.\n",
        "\n",
        "Specific goals/targets:\n",
        "\n",
        "### 1) Write a function \n",
        "\n",
        "`def prob_drunk_given_positive(prob_drunk_prior, false_positive_rate, true_positive_rate):` \n",
        "\n",
        "You should only truly need these two values in order to apply Bayes Theorem. In this example, imagine that individuals are taking a breathalyzer test with an 8% false positive rate, a 100% true positive rate, and that our prior belief about drunk driving in the population is 1/1000. \n",
        " - What is the probability that a person is drunk after one positive breathalyzer test?\n",
        " - What is the probability that a person is drunk after two positive breathalyzer tests?\n",
        " - How many positive breathalyzer tests are needed in order to have a probability that's greater than 95% that a person is drunk beyond the legal limit?\n",
        "\n",
        "### 2) (Optional) Explore `scipy.stats.bayes_mvs`  \n",
        "Read its documentation, and experiment with it on data you've tested in other ways earlier this week.\n",
        " - Create a visualization comparing the results of a Bayesian approach to a traditional/frequentist approach. (with a large sample size they should look close to identical, however, take this opportunity to practice visualizing condfidence intervals in general. The following are some potential ways that you could visualize confidence intervals on your graph:\n",
        "  - [Matplotlib Error Bars](https://matplotlib.org/3.1.1/api/_as_gen/matplotlib.pyplot.errorbar.html)\n",
        "  - [Seaborn barplot with error bars](https://seaborn.pydata.org/generated/seaborn.barplot.html)\n",
        "  - [Vertical ines to show bounds of confidence interval](https://www.simplypsychology.org/confidence-interval.jpg)\n",
        "  - [Confidence Intervals on Box Plots](https://matplotlib.org/3.1.1/api/_as_gen/matplotlib.axes.Axes.boxplot.html)\n",
        "\n",
        "### 3) In your own words, summarize the difference between Bayesian and Frequentist statistics\n",
        "\n",
        "If you're unsure where to start, check out [this blog post of Bayes theorem with Python](https://dataconomy.com/2015/02/introduction-to-bayes-theorem-with-python/).\n",
        "\n"
      ]
    },
    {
      "cell_type": "markdown",
      "metadata": {
        "id": "b-3k1EgnHHQt",
        "colab_type": "text"
      },
      "source": [
        "##Solutions\n",
        "\n",
        "### 1) Write a function \n",
        "\n",
        "`def prob_drunk_given_positive(prob_drunk_prior, false_positive_rate, true_positive_rate):` \n",
        "\n",
        "You should only truly need these three values in order to apply Bayes Theorem. In this example, imagine that individuals are taking a breathalyzer test with an 8% false positive rate, a 100% true positive rate, and that our prior belief about drunk driving in the population is 1/1000. \n",
        " - What is the probability that a person is drunk after one positive breathalyzer test?\n",
        " - What is the probability that a person is drunk after two positive breathalyzer tests?\n",
        " - How many positive breathalyzer tests are needed in order to have a probability that's greater than 95% that a person is drunk beyond the legal limit?"
      ]
    },
    {
      "cell_type": "code",
      "metadata": {
        "id": "TGSbd42RHard",
        "colab_type": "code",
        "colab": {
          "base_uri": "https://localhost:8080/",
          "height": 34
        },
        "outputId": "55f940e6-3abf-4890-a461-e7edaf895198"
      },
      "source": [
        "#manual answer for first test\n",
        "p_user = 1/1000 #prior belief \n",
        "p_pos_given_non_user = 0.08 # 8% false positive rate\n",
        "p_pos_given_user = 1 #100% true positive rate\n",
        "p_non_user = 1- p_user # complement of the prior belief \n",
        "\n",
        "#first iteration of Bayes Theorem \n",
        "\n",
        "numerator = p_pos_given_user * p_user #also conditional * prior\n",
        "marginal = (p_pos_given_user*p_user) + (p_pos_given_non_user*p_non_user)\n",
        "posterior_probability = numerator/marginal\n",
        "\n",
        "print(f\"probability that a person is drunk after one positive breathalyzer test: {posterior_probability}\")\n"
      ],
      "execution_count": 1,
      "outputs": [
        {
          "output_type": "stream",
          "text": [
            "probability that a person is drunk after one positive breathalyzer test: 0.012357884330202669\n"
          ],
          "name": "stdout"
        }
      ]
    },
    {
      "cell_type": "code",
      "metadata": {
        "id": "pGZ3GuJPbfkS",
        "colab_type": "code",
        "colab": {
          "base_uri": "https://localhost:8080/",
          "height": 482
        },
        "outputId": "caab63ad-9daa-4ba6-bcce-b2caa8e333a8"
      },
      "source": [
        "#imports to generate a Venn diagram (also called primary diagram, set diagram or logic diagram)\n",
        "import seaborn as sns\n",
        "import matplotlib.pyplot as plt\n",
        "from matplotlib_venn import venn3\n",
        "import pandas as pd\n",
        "\n",
        "#venn diagram\n",
        "plt.figure(figsize=(10,8)) #sets figure size\n",
        "vd = venn3(subsets = (100,0,0,0,8,0,.1), \n",
        "      set_labels = ('Population %', 'Prior Belief %', 'False Positive %'),\n",
        "      alpha=.4, normalize_to=1,ax=None, subset_label_formatter=None)\n",
        "#plot title\n",
        "plt.title(\"Breathalyzer Test\")\n",
        "#set label A position\n",
        "lbl = vd.get_label_by_id('A')\n",
        "x, y = lbl.get_position()\n",
        "lbl.set_position((x+.25, y-.65))\n",
        "#set label B position\n",
        "lbl = vd.get_label_by_id('B')\n",
        "x, y = lbl.get_position()\n",
        "lbl.set_position((x+.02, y-.01))\n",
        "#set label C position\n",
        "lbl = vd.get_label_by_id('C')\n",
        "x, y = lbl.get_position()\n",
        "lbl.set_position((x-.1, y-.01))\n",
        "#plot\n",
        "plt.show()\n",
        "\n"
      ],
      "execution_count": 219,
      "outputs": [
        {
          "output_type": "display_data",
          "data": {
            "image/png": "[encoded data removed]",
            "text/plain": [
              "<Figure size 720x576 with 1 Axes>"
            ]
          },
          "metadata": {
            "tags": []
          }
        }
      ]
    },
    {
      "cell_type": "markdown",
      "metadata": {
        "id": "FZnxuBDxrM3T",
        "colab_type": "text"
      },
      "source": [
        "#example venn diagram"
      ]
    },
    {
      "cell_type": "code",
      "metadata": {
        "id": "ugxy8sbkpgwi",
        "colab_type": "code",
        "colab": {
          "base_uri": "https://localhost:8080/",
          "height": 268
        },
        "outputId": "24a1dd75-fc36-4884-d3ce-d98cb5731063"
      },
      "source": [
        "# example\n",
        "from matplotlib import pyplot as plt\n",
        "import numpy as np\n",
        "from matplotlib_venn import venn3, venn3_circles\n",
        " \n",
        "# Make a Basic Venn\n",
        "v = venn3(subsets=(1, 1, 1, 1, 1, 1, 1), set_labels = ('A', 'B', 'C'))\n",
        " \n",
        "# Custom it\n",
        "v.get_patch_by_id('100').set_alpha(.1) #opaqueness level for uknown circle \n",
        "v.get_patch_by_id('100').set_color('blue') # unknown circle\n",
        "v.get_label_by_id('100').set_text('Unknown') #sets label for unknown circle\n",
        "v.get_label_by_id('A').set_text('Set \"A\"')\n",
        "c = venn3_circles(subsets=(1, 1, 1, 1, 1, 1, 1), linestyle='dashed') #copy of subsets but allows you to change linestyle around the circles\n",
        "c[0].set_lw(4.0) #sets line weight of first circle, circle 2 = c[1] and circle 3 = c[2]\n",
        "c[0].set_ls('dotted')\n",
        " \n",
        "# Add title and annotation\n",
        "plt.title(\"Sample Venn diagram\")\n",
        "plt.annotate('Unknown set', xy=v.get_label_by_id('100').get_position() - np.array([0, 0.05]), xytext=(-70,-70),\n",
        "ha='center', textcoords='offset points', bbox=dict(boxstyle='round,pad=0.5', fc='gray', alpha=0.1),\n",
        "arrowprops=dict(arrowstyle='->', connectionstyle='arc3,rad=0.5',color='gray'))\n",
        " \n",
        "# Show it\n",
        "plt.show()\n"
      ],
      "execution_count": 146,
      "outputs": [
        {
          "output_type": "display_data",
          "data": {
            "image/png": "[encoded data removed]",
            "text/plain": [
              "<Figure size 432x288 with 1 Axes>"
            ]
          },
          "metadata": {
            "tags": []
          }
        }
      ]
    },
    {
      "cell_type": "code",
      "metadata": {
        "id": "GTB6el_RTvy4",
        "colab_type": "code",
        "colab": {
          "base_uri": "https://localhost:8080/",
          "height": 34
        },
        "outputId": "bdb7fb5a-df73-4f33-9e33-78b5bcdb0881"
      },
      "source": [
        "# We have the same person take the test again, and they test positive again\n",
        "# Now what is the probability that a person is drunk after two positive breathalyzer tests?\n",
        "# The posterior probability from the first test becomes our prior for the second iteration.\n",
        "\n",
        "p_user = posterior_probability # save posterior from first iteration as a new prior\n",
        "p_non_user = 1 - p_user # calculate the complement of that prior via the law of total probability\n",
        "\n",
        "# apply Bayes' theorem\n",
        "numerator = p_pos_given_user*p_user\n",
        "marginal = (p_pos_given_user*p_user) + (p_pos_given_non_user*p_non_user)\n",
        "posterior_probability = numerator/marginal\n",
        "print(f'probability that a person is drunk after two positive breathalyzer tests: {posterior_probability}')"
      ],
      "execution_count": 3,
      "outputs": [
        {
          "output_type": "stream",
          "text": [
            "probability that a person is drunk after two positive breathalyzer tests: 0.13525210993291495\n"
          ],
          "name": "stdout"
        }
      ]
    },
    {
      "cell_type": "markdown",
      "metadata": {
        "id": "kR6ewrsKrmKD",
        "colab_type": "text"
      },
      "source": [
        "#2nd breathalyzer test results"
      ]
    },
    {
      "cell_type": "code",
      "metadata": {
        "id": "e6CBur2LP1Gy",
        "colab_type": "code",
        "colab": {
          "base_uri": "https://localhost:8080/",
          "height": 34
        },
        "outputId": "9eaa0fe2-990c-40a8-ad39-c8994ca04b92"
      },
      "source": [
        " \n",
        "def prob_drunk_given_positive(prob_drunk_prior, false_positive_rate, true_positive_rate):\n",
        "  \"\"\"this function calculates the probability \n",
        "      that a person is drunk after one positive\n",
        "      breathalyzer test\"\"\"\n",
        "  numerator = true_positive_rate * prob_drunk_prior\n",
        "  marginal = (true_positive_rate*prob_drunk_prior) + (false_positive_rate*(1-prob_drunk_prior))\n",
        "  posterior_probability = numerator/marginal\n",
        "  return posterior_probability\n",
        "\n",
        "prob_drunk_given_positive(.001,.08,1)\n"
      ],
      "execution_count": 4,
      "outputs": [
        {
          "output_type": "execute_result",
          "data": {
            "text/plain": [
              "0.012357884330202669"
            ]
          },
          "metadata": {
            "tags": []
          },
          "execution_count": 4
        }
      ]
    },
    {
      "cell_type": "markdown",
      "metadata": {
        "id": "6fplnskerv9A",
        "colab_type": "text"
      },
      "source": [
        "#Breathelyzer function"
      ]
    },
    {
      "cell_type": "code",
      "metadata": {
        "id": "H7RKKVnuhjJj",
        "colab_type": "code",
        "colab": {
          "base_uri": "https://localhost:8080/",
          "height": 87
        },
        "outputId": "95f1c377-6c27-4552-ec0f-025c319accd9"
      },
      "source": [
        "def prob_drunk_given_positive_repeated(prob_drunk_prior, false_positive_rate, true_positive_rate, number_of_tests):\n",
        "  \"\"\"this function calculates the probability \n",
        "      that a person is drunk after a given number of positive\n",
        "      breathalyzer test\"\"\"\n",
        "  posterior_probability=prob_drunk_prior\n",
        "  for test in range(0, number_of_tests):\n",
        "    p_user = posterior_probability #prior belief\n",
        "    p_non_user = 1-p_user #complement of prior belief\n",
        "    p_pos_given_user = true_positive_rate #this is the true positive rate\n",
        "    p_pos_given_non_user = false_positive_rate #this is the false positive rate\n",
        "    posterior_probability = (p_pos_given_user*p_user)/((p_pos_given_user*p_user)+(p_pos_given_non_user*p_non_user))\n",
        "  return posterior_probability\n",
        "\n",
        "print(f'Probability after 1 test: {prob_drunk_given_positive_repeated(.001,.08,1,1)}')\n",
        "print(f'Probability after 2 test: {prob_drunk_given_positive_repeated(.001,.08,1,2)}')\n",
        "print(f'Probability after 3 test: {prob_drunk_given_positive_repeated(.001,.08,1,3)}')\n",
        "print(f'Probability after 4 test: {prob_drunk_given_positive_repeated(.001,.08,1,4)}')"
      ],
      "execution_count": 5,
      "outputs": [
        {
          "output_type": "stream",
          "text": [
            "Probability after 1 test: 0.012357884330202669\n",
            "Probability after 2 test: 0.13525210993291495\n",
            "Probability after 3 test: 0.6615996951348605\n",
            "Probability after 4 test: 0.9606895076105054\n"
          ],
          "name": "stdout"
        }
      ]
    },
    {
      "cell_type": "code",
      "metadata": {
        "id": "A1Z5Sd4tl-1p",
        "colab_type": "code",
        "colab": {
          "base_uri": "https://localhost:8080/",
          "height": 52
        },
        "outputId": "c45a7516-9a0d-4d10-a1c5-c9465754f3ee"
      },
      "source": [
        "#How many positive breathalyzer tests are needed in order to have a probability that's greater than 95% that a person is drunk beyond the legal limit?\n",
        "def prob_drunk_given_positive_repeated(prob_drunk_prior, false_positive_rate, true_positive_rate, number_of_tests):\n",
        "  \"\"\"this function calculates the probability \n",
        "      that a person is drunk after a given number of positive\n",
        "      breathalyzer test\"\"\"\n",
        "  posterior_probability=prob_drunk_prior\n",
        "  for test in range(0, number_of_tests):\n",
        "    p_user = posterior_probability #prior belief\n",
        "    p_non_user = 1-p_user #complement of prior belief\n",
        "    p_pos_given_user = true_positive_rate #this is the true positive rate\n",
        "    p_pos_given_non_user = false_positive_rate #this is the false positive rate\n",
        "    posterior_probability = (p_pos_given_user*p_user)/((p_pos_given_user*p_user)+(p_pos_given_non_user*p_non_user))\n",
        "    if posterior_probability >= .95:\n",
        "      break\n",
        "  print(f\"Number of tests needed in order to have a probability that's greater than 95%: {test+1}\") #adding one becuase tests starts at 0\n",
        "  print(f'Posterior probability at {test+1}: {posterior_probability}')\n",
        "\n",
        "prob_drunk_given_positive_repeated(.001,.08,1,100)\n"
      ],
      "execution_count": 6,
      "outputs": [
        {
          "output_type": "stream",
          "text": [
            "Number of tests needed in order to have a probability that's greater than 95%: 4\n",
            "Posterior probability at 4: 0.9606895076105054\n"
          ],
          "name": "stdout"
        }
      ]
    },
    {
      "cell_type": "markdown",
      "metadata": {
        "id": "Cm0AHmXvydU9",
        "colab_type": "text"
      },
      "source": [
        "#In your own words, summarize the difference between Bayesian and Frequentist statistics\n",
        "\n",
        "Bayesian utilizes a prior probability to generate a postirior probability. The postior probability changes based on the prior. \n",
        "\n",
        "Frequentist does not need a prior probability, only depends the probability of data/hypotheses  for both observed and unobserved data."
      ]
    },
    {
      "cell_type": "markdown",
      "metadata": {
        "id": "uWgWjp3PQ3Sq",
        "colab_type": "text"
      },
      "source": [
        "## Resources"
      ]
    },
    {
      "cell_type": "markdown",
      "metadata": {
        "id": "QRgHqmYIQ9qn",
        "colab_type": "text"
      },
      "source": [
        "- [Worked example of Bayes rule calculation](https://en.wikipedia.org/wiki/Bayes'_theorem#Examples) (helpful as it fully breaks out the denominator)\n",
        "- [Source code for mvsdist in scipy](https://github.com/scipy/scipy/blob/90534919e139d2a81c24bf08341734ff41a3db12/scipy/stats/morestats.py#L139)"
      ]
    },
    {
      "cell_type": "markdown",
      "metadata": {
        "id": "GP7Jv1XvwtkX",
        "colab_type": "text"
      },
      "source": [
        "## Stretch Goals:\n",
        "\n",
        "- Go back and study the content from Modules 1 & 2 to make sure that you're really comfortable with them.\n",
        "- Apply a Bayesian technique to a problem you previously worked (in an assignment or project work) on from a frequentist (standard) perspective\n",
        "- Check out [PyMC3](https://docs.pymc.io/) (note this goes beyond hypothesis tests into modeling) - read the guides and work through some examples\n",
        "- Take PyMC3 further - see if you can build something with it!"
      ]
    },
    {
      "cell_type": "code",
      "metadata": {
        "id": "iDi0eFr1x-v_",
        "colab_type": "code",
        "colab": {}
      },
      "source": [
        ""
      ],
      "execution_count": 0,
      "outputs": []
    }
  ]
}