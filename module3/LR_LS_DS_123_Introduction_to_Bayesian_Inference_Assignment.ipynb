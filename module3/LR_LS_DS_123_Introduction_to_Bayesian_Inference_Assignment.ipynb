{
  "nbformat": 4,
  "nbformat_minor": 0,
  "metadata": {
    "colab": {
      "name": "LR_LS_DS_123_Introduction_to_Bayesian_Inference_Assignment.ipynb",
      "provenance": [],
      "collapsed_sections": [
        "FZnxuBDxrM3T"
      ],
      "include_colab_link": true
    },
    "kernelspec": {
      "name": "python3",
      "display_name": "Python 3"
    }
  },
  "cells": [
    {
      "cell_type": "markdown",
      "metadata": {
        "id": "view-in-github",
        "colab_type": "text"
      },
      "source": [
        "<a href=\"https://colab.research.google.com/github/lfr4704/DS-Unit-1-Sprint-2-Statistics/blob/master/module3/LR_LS_DS_123_Introduction_to_Bayesian_Inference_Assignment.ipynb\" target=\"_parent\"><img src=\"https://colab.research.google.com/assets/colab-badge.svg\" alt=\"Open In Colab\"/></a>"
      ]
    },
    {
      "cell_type": "markdown",
      "metadata": {
        "id": "H7OLbevlbd_Z",
        "colab_type": "text"
      },
      "source": [
        "# Lambda School Data Science Module 123\n",
        "\n",
        "## Introduction to Bayesian Inference\n",
        "\n",
        "\n"
      ]
    },
    {
      "cell_type": "markdown",
      "metadata": {
        "id": "P-DzzRk5bf0z",
        "colab_type": "text"
      },
      "source": [
        "## Assignment - Code it up!\n",
        "\n",
        "We used pure math to apply Bayes Theorem to drug tests. Now write Python code to reproduce the results! This is purposefully open ended - you'll have to think about how you should represent probabilities and events. You can and should look things up.\n",
        "\n",
        "Specific goals/targets:\n",
        "\n",
        "### 1) Write a function \n",
        "\n",
        "`def prob_drunk_given_positive(prob_drunk_prior, false_positive_rate, true_positive_rate):` \n",
        "\n",
        "You should only truly need these two values in order to apply Bayes Theorem. In this example, imagine that individuals are taking a breathalyzer test with an 8% false positive rate, a 100% true positive rate, and that our prior belief about drunk driving in the population is 1/1000. \n",
        " - What is the probability that a person is drunk after one positive breathalyzer test?\n",
        " - What is the probability that a person is drunk after two positive breathalyzer tests?\n",
        " - How many positive breathalyzer tests are needed in order to have a probability that's greater than 95% that a person is drunk beyond the legal limit?\n",
        "\n",
        "### 2) (Optional) Explore `scipy.stats.bayes_mvs`  \n",
        "Read its documentation, and experiment with it on data you've tested in other ways earlier this week.\n",
        " - Create a visualization comparing the results of a Bayesian approach to a traditional/frequentist approach. (with a large sample size they should look close to identical, however, take this opportunity to practice visualizing condfidence intervals in general. The following are some potential ways that you could visualize confidence intervals on your graph:\n",
        "  - [Matplotlib Error Bars](https://matplotlib.org/3.1.1/api/_as_gen/matplotlib.pyplot.errorbar.html)\n",
        "  - [Seaborn barplot with error bars](https://seaborn.pydata.org/generated/seaborn.barplot.html)\n",
        "  - [Vertical ines to show bounds of confidence interval](https://www.simplypsychology.org/confidence-interval.jpg)\n",
        "  - [Confidence Intervals on Box Plots](https://matplotlib.org/3.1.1/api/_as_gen/matplotlib.axes.Axes.boxplot.html)\n",
        "\n",
        "### 3) In your own words, summarize the difference between Bayesian and Frequentist statistics\n",
        "\n",
        "If you're unsure where to start, check out [this blog post of Bayes theorem with Python](https://dataconomy.com/2015/02/introduction-to-bayes-theorem-with-python/).\n",
        "\n"
      ]
    },
    {
      "cell_type": "markdown",
      "metadata": {
        "id": "b-3k1EgnHHQt",
        "colab_type": "text"
      },
      "source": [
        "##Solutions\n",
        "\n",
        "### 1) Write a function \n",
        "\n",
        "`def prob_drunk_given_positive(prob_drunk_prior, false_positive_rate, true_positive_rate):` \n",
        "\n",
        "You should only truly need these three values in order to apply Bayes Theorem. In this example, imagine that individuals are taking a breathalyzer test with an 8% false positive rate, a 100% true positive rate, and that our prior belief about drunk driving in the population is 1/1000. \n",
        " - What is the probability that a person is drunk after one positive breathalyzer test?\n",
        " - What is the probability that a person is drunk after two positive breathalyzer tests?\n",
        " - How many positive breathalyzer tests are needed in order to have a probability that's greater than 95% that a person is drunk beyond the legal limit?"
      ]
    },
    {
      "cell_type": "code",
      "metadata": {
        "id": "TGSbd42RHard",
        "colab_type": "code",
        "colab": {
          "base_uri": "https://localhost:8080/",
          "height": 54
        },
        "outputId": "55f940e6-3abf-4890-a461-e7edaf895198"
      },
      "source": [
        "#manual answer for first test\n",
        "p_user = 1/1000 #prior belief \n",
        "p_pos_given_non_user = 0.08 # 8% false positive rate\n",
        "p_pos_given_user = 1 #100% true positive rate\n",
        "p_non_user = 1- p_user # complement of the prior belief \n",
        "\n",
        "#first iteration of Bayes Theorem \n",
        "\n",
        "numerator = p_pos_given_user * p_user #also conditional * prior\n",
        "marginal = (p_pos_given_user*p_user) + (p_pos_given_non_user*p_non_user)\n",
        "posterior_probability = numerator/marginal\n",
        "\n",
        "print(f\"probability that a person is drunk after one positive breathalyzer test: {posterior_probability}\")\n"
      ],
      "execution_count": 1,
      "outputs": [
        {
          "output_type": "stream",
          "text": [
            "probability that a person is drunk after one positive breathalyzer test: 0.012357884330202669\n"
          ],
          "name": "stdout"
        }
      ]
    },
    {
      "cell_type": "code",
      "metadata": {
        "id": "pGZ3GuJPbfkS",
        "colab_type": "code",
        "colab": {
          "base_uri": "https://localhost:8080/",
          "height": 482
        },
        "outputId": "caab63ad-9daa-4ba6-bcce-b2caa8e333a8"
      },
      "source": [
        "#imports to generate a Venn diagram (also called primary diagram, set diagram or logic diagram)\n",
        "import seaborn as sns\n",
        "import matplotlib.pyplot as plt\n",
        "from matplotlib_venn import venn3\n",
        "import pandas as pd\n",
        "\n",
        "#venn diagram\n",
        "plt.figure(figsize=(10,8)) #sets figure size\n",
        "vd = venn3(subsets = (100,0,0,0,8,0,.1), \n",
        "      set_labels = ('Population %', 'Prior Belief %', 'False Positive %'),\n",
        "      alpha=.4, normalize_to=1,ax=None, subset_label_formatter=None)\n",
        "#plot title\n",
        "plt.title(\"Breathalyzer Test\")\n",
        "#set label A position\n",
        "lbl = vd.get_label_by_id('A')\n",
        "x, y = lbl.get_position()\n",
        "lbl.set_position((x+.25, y-.65))\n",
        "#set label B position\n",
        "lbl = vd.get_label_by_id('B')\n",
        "x, y = lbl.get_position()\n",
        "lbl.set_position((x+.02, y-.01))\n",
        "#set label C position\n",
        "lbl = vd.get_label_by_id('C')\n",
        "x, y = lbl.get_position()\n",
        "lbl.set_position((x-.1, y-.01))\n",
        "#plot\n",
        "plt.show()\n",
        "\n"
      ],
      "execution_count": 219,
      "outputs": [
        {
          "output_type": "display_data",
          "data": {
            "image/png": "[encoded data removed]",
            "text/plain": [
              "<Figure size 720x576 with 1 Axes>"
            ]
          },
          "metadata": {
            "tags": []
          }
        }
      ]
    },
    {
      "cell_type": "markdown",
      "metadata": {
        "id": "FZnxuBDxrM3T",
        "colab_type": "text"
      },
      "source": [
        "#example venn diagram"
      ]
    },
    {
      "cell_type": "code",
      "metadata": {
        "id": "ugxy8sbkpgwi",
        "colab_type": "code",
        "colab": {
          "base_uri": "https://localhost:8080/",
          "height": 268
        },
        "outputId": "24a1dd75-fc36-4884-d3ce-d98cb5731063"
      },
      "source": [
        "# example\n",
        "from matplotlib import pyplot as plt\n",
        "import numpy as np\n",
        "from matplotlib_venn import venn3, venn3_circles\n",
        " \n",
        "# Make a Basic Venn\n",
        "v = venn3(subsets=(1, 1, 1, 1, 1, 1, 1), set_labels = ('A', 'B', 'C'))\n",
        " \n",
        "# Custom it\n",
        "v.get_patch_by_id('100').set_alpha(.1) #opaqueness level for uknown circle \n",
        "v.get_patch_by_id('100').set_color('blue') # unknown circle\n",
        "v.get_label_by_id('100').set_text('Unknown') #sets label for unknown circle\n",
        "v.get_label_by_id('A').set_text('Set \"A\"')\n",
        "c = venn3_circles(subsets=(1, 1, 1, 1, 1, 1, 1), linestyle='dashed') #copy of subsets but allows you to change linestyle around the circles\n",
        "c[0].set_lw(4.0) #sets line weight of first circle, circle 2 = c[1] and circle 3 = c[2]\n",
        "c[0].set_ls('dotted')\n",
        " \n",
        "# Add title and annotation\n",
        "plt.title(\"Sample Venn diagram\")\n",
        "plt.annotate('Unknown set', xy=v.get_label_by_id('100').get_position() - np.array([0, 0.05]), xytext=(-70,-70),\n",
        "ha='center', textcoords='offset points', bbox=dict(boxstyle='round,pad=0.5', fc='gray', alpha=0.1),\n",
        "arrowprops=dict(arrowstyle='->', connectionstyle='arc3,rad=0.5',color='gray'))\n",
        " \n",
        "# Show it\n",
        "plt.show()\n"
      ],
      "execution_count": 146,
      "outputs": [
        {
          "output_type": "display_data",
          "data": {
            "image/png": "[encoded data removed]",
            "text/plain": [
              "<Figure size 432x288 with 1 Axes>"
            ]
          },
          "metadata": {
            "tags": []
          }
        }
      ]
    },
    {
      "cell_type": "code",
      "metadata": {
        "id": "GTB6el_RTvy4",
        "colab_type": "code",
        "colab": {
          "base_uri": "https://localhost:8080/",
          "height": 34
        },
        "outputId": "bdb7fb5a-df73-4f33-9e33-78b5bcdb0881"
      },
      "source": [
        "# We have the same person take the test again, and they test positive again\n",
        "# Now what is the probability that a person is drunk after two positive breathalyzer tests?\n",
        "# The posterior probability from the first test becomes our prior for the second iteration.\n",
        "\n",
        "p_user = posterior_probability # save posterior from first iteration as a new prior\n",
        "p_non_user = 1 - p_user # calculate the complement of that prior via the law of total probability\n",
        "\n",
        "# apply Bayes' theorem\n",
        "numerator = p_pos_given_user*p_user\n",
        "marginal = (p_pos_given_user*p_user) + (p_pos_given_non_user*p_non_user)\n",
        "posterior_probability = numerator/marginal\n",
        "print(f'probability that a person is drunk after two positive breathalyzer tests: {posterior_probability}')"
      ],
      "execution_count": 3,
      "outputs": [
        {
          "output_type": "stream",
          "text": [
            "probability that a person is drunk after two positive breathalyzer tests: 0.13525210993291495\n"
          ],
          "name": "stdout"
        }
      ]
    },
    {
      "cell_type": "markdown",
      "metadata": {
        "id": "kR6ewrsKrmKD",
        "colab_type": "text"
      },
      "source": [
        "#2nd breathalyzer test results"
      ]
    },
    {
      "cell_type": "code",
      "metadata": {
        "id": "e6CBur2LP1Gy",
        "colab_type": "code",
        "colab": {
          "base_uri": "https://localhost:8080/",
          "height": 34
        },
        "outputId": "9eaa0fe2-990c-40a8-ad39-c8994ca04b92"
      },
      "source": [
        " \n",
        "def prob_drunk_given_positive(prob_drunk_prior, false_positive_rate, true_positive_rate):\n",
        "  \"\"\"this function calculates the probability \n",
        "      that a person is drunk after one positive\n",
        "      breathalyzer test\"\"\"\n",
        "  numerator = true_positive_rate * prob_drunk_prior\n",
        "  marginal = (true_positive_rate*prob_drunk_prior) + (false_positive_rate*(1-prob_drunk_prior))\n",
        "  posterior_probability = numerator/marginal\n",
        "  return posterior_probability\n",
        "\n",
        "prob_drunk_given_positive(.001,.08,1)\n"
      ],
      "execution_count": 4,
      "outputs": [
        {
          "output_type": "execute_result",
          "data": {
            "text/plain": [
              "0.012357884330202669"
            ]
          },
          "metadata": {
            "tags": []
          },
          "execution_count": 4
        }
      ]
    },
    {
      "cell_type": "markdown",
      "metadata": {
        "id": "6fplnskerv9A",
        "colab_type": "text"
      },
      "source": [
        "#Breathelyzer function"
      ]
    },
    {
      "cell_type": "code",
      "metadata": {
        "id": "H7RKKVnuhjJj",
        "colab_type": "code",
        "colab": {
          "base_uri": "https://localhost:8080/",
          "height": 87
        },
        "outputId": "95f1c377-6c27-4552-ec0f-025c319accd9"
      },
      "source": [
        "def prob_drunk_given_positive_repeated(prob_drunk_prior, false_positive_rate, true_positive_rate, number_of_tests):\n",
        "  \"\"\"this function calculates the probability \n",
        "      that a person is drunk after a given number of positive\n",
        "      breathalyzer test\"\"\"\n",
        "  posterior_probability=prob_drunk_prior\n",
        "  for test in range(0, number_of_tests):\n",
        "    p_user = posterior_probability #prior belief\n",
        "    p_non_user = 1-p_user #complement of prior belief\n",
        "    p_pos_given_user = true_positive_rate #this is the true positive rate\n",
        "    p_pos_given_non_user = false_positive_rate #this is the false positive rate\n",
        "    posterior_probability = (p_pos_given_user*p_user)/((p_pos_given_user*p_user)+(p_pos_given_non_user*p_non_user))\n",
        "  return posterior_probability\n",
        "\n",
        "print(f'Probability after 1 test: {prob_drunk_given_positive_repeated(.001,.08,1,1)}')\n",
        "print(f'Probability after 2 test: {prob_drunk_given_positive_repeated(.001,.08,1,2)}')\n",
        "print(f'Probability after 3 test: {prob_drunk_given_positive_repeated(.001,.08,1,3)}')\n",
        "print(f'Probability after 4 test: {prob_drunk_given_positive_repeated(.001,.08,1,4)}')"
      ],
      "execution_count": 5,
      "outputs": [
        {
          "output_type": "stream",
          "text": [
            "Probability after 1 test: 0.012357884330202669\n",
            "Probability after 2 test: 0.13525210993291495\n",
            "Probability after 3 test: 0.6615996951348605\n",
            "Probability after 4 test: 0.9606895076105054\n"
          ],
          "name": "stdout"
        }
      ]
    },
    {
      "cell_type": "code",
      "metadata": {
        "id": "A1Z5Sd4tl-1p",
        "colab_type": "code",
        "colab": {
          "base_uri": "https://localhost:8080/",
          "height": 52
        },
        "outputId": "c45a7516-9a0d-4d10-a1c5-c9465754f3ee"
      },
      "source": [
        "#How many positive breathalyzer tests are needed in order to have a probability that's greater than 95% that a person is drunk beyond the legal limit?\n",
        "def prob_drunk_given_positive_repeated(prob_drunk_prior, false_positive_rate, true_positive_rate, number_of_tests):\n",
        "  \"\"\"this function calculates the probability \n",
        "      that a person is drunk after a given number of positive\n",
        "      breathalyzer test\"\"\"\n",
        "  posterior_probability=prob_drunk_prior\n",
        "  for test in range(0, number_of_tests):\n",
        "    p_user = posterior_probability #prior belief\n",
        "    p_non_user = 1-p_user #complement of prior belief\n",
        "    p_pos_given_user = true_positive_rate #this is the true positive rate\n",
        "    p_pos_given_non_user = false_positive_rate #this is the false positive rate\n",
        "    posterior_probability = (p_pos_given_user*p_user)/((p_pos_given_user*p_user)+(p_pos_given_non_user*p_non_user))\n",
        "    if posterior_probability >= .95:\n",
        "      break\n",
        "  print(f\"Number of tests needed in order to have a probability that's greater than 95%: {test+1}\") #adding one becuase tests starts at 0\n",
        "  print(f'Posterior probability at {test+1}: {posterior_probability}')\n",
        "\n",
        "prob_drunk_given_positive_repeated(.001,.08,1,100)\n"
      ],
      "execution_count": 6,
      "outputs": [
        {
          "output_type": "stream",
          "text": [
            "Number of tests needed in order to have a probability that's greater than 95%: 4\n",
            "Posterior probability at 4: 0.9606895076105054\n"
          ],
          "name": "stdout"
        }
      ]
    },
    {
      "cell_type": "markdown",
      "metadata": {
        "id": "z8WiZYytshsg",
        "colab_type": "text"
      },
      "source": [
        "#2 Explore scipy.stats.bayes_mvs"
      ]
    },
    {
      "cell_type": "code",
      "metadata": {
        "id": "c_29xxwHsmwk",
        "colab_type": "code",
        "colab": {
          "base_uri": "https://localhost:8080/",
          "height": 230
        },
        "outputId": "3cb86c19-8967-44d5-9d03-e8f6d77f945c"
      },
      "source": [
        "#improt library\n",
        "from scipy import stats\n",
        "import pandas as pd\n",
        "import numpy as np\n",
        "\n",
        "#get data\n",
        "\n",
        "!wget https://archive.ics.uci.edu/ml/machine-learning-databases/voting-records/house-votes-84.data"
      ],
      "execution_count": 17,
      "outputs": [
        {
          "output_type": "stream",
          "text": [
            "--2020-02-09 23:39:16--  https://archive.ics.uci.edu/ml/machine-learning-databases/voting-records/house-votes-84.data\n",
            "Resolving archive.ics.uci.edu (archive.ics.uci.edu)... 128.195.10.252\n",
            "Connecting to archive.ics.uci.edu (archive.ics.uci.edu)|128.195.10.252|:443... connected.\n",
            "HTTP request sent, awaiting response... 200 OK\n",
            "Length: 18171 (18K) [application/x-httpd-php]\n",
            "Saving to: ‘house-votes-84.data.2’\n",
            "\n",
            "house-votes-84.data 100%[===================>]  17.75K  --.-KB/s    in 0.06s   \n",
            "\n",
            "2020-02-09 23:39:17 (286 KB/s) - ‘house-votes-84.data.2’ saved [18171/18171]\n",
            "\n"
          ],
          "name": "stdout"
        }
      ]
    },
    {
      "cell_type": "code",
      "metadata": {
        "id": "gvQ0mf5-N_t3",
        "colab_type": "code",
        "colab": {}
      },
      "source": [
        "# make into a dataframe\n",
        "column_headers = ['party','handicapped-infants','water-project',\n",
        "                          'budget','physician-fee-freeze', 'el-salvador-aid',\n",
        "                          'religious-groups','anti-satellite-ban',\n",
        "                          'aid-to-contras','mx-missile','immigration',\n",
        "                          'synfuels', 'education', 'right-to-sue','crime','duty-free',\n",
        "                          'south-africa']\n",
        "\n",
        "votes_df = pd.read_csv('house-votes-84.data', header=None, names = column_headers, na_values =\"?\")"
      ],
      "execution_count": 0,
      "outputs": []
    },
    {
      "cell_type": "code",
      "metadata": {
        "id": "YvmGWWu3OFiW",
        "colab_type": "code",
        "colab": {
          "base_uri": "https://localhost:8080/",
          "height": 249
        },
        "outputId": "cc888dcd-eae0-438b-c94e-d81b7bd8c068"
      },
      "source": [
        "#recode the votes as numberic\n",
        "votes_df = votes_df.replace({'y': 1, 'n': 0})\n",
        "votes_df.head()"
      ],
      "execution_count": 5,
      "outputs": [
        {
          "output_type": "execute_result",
          "data": {
            "text/html": [
              "<div>\n",
              "<style scoped>\n",
              "    .dataframe tbody tr th:only-of-type {\n",
              "        vertical-align: middle;\n",
              "    }\n",
              "\n",
              "    .dataframe tbody tr th {\n",
              "        vertical-align: top;\n",
              "    }\n",
              "\n",
              "    .dataframe thead th {\n",
              "        text-align: right;\n",
              "    }\n",
              "</style>\n",
              "<table border=\"1\" class=\"dataframe\">\n",
              "  <thead>\n",
              "    <tr style=\"text-align: right;\">\n",
              "      <th></th>\n",
              "      <th>party</th>\n",
              "      <th>handicapped-infants</th>\n",
              "      <th>water-project</th>\n",
              "      <th>budget</th>\n",
              "      <th>physician-fee-freeze</th>\n",
              "      <th>el-salvador-aid</th>\n",
              "      <th>religious-groups</th>\n",
              "      <th>anti-satellite-ban</th>\n",
              "      <th>aid-to-contras</th>\n",
              "      <th>mx-missile</th>\n",
              "      <th>immigration</th>\n",
              "      <th>synfuels</th>\n",
              "      <th>education</th>\n",
              "      <th>right-to-sue</th>\n",
              "      <th>crime</th>\n",
              "      <th>duty-free</th>\n",
              "      <th>south-africa</th>\n",
              "    </tr>\n",
              "  </thead>\n",
              "  <tbody>\n",
              "    <tr>\n",
              "      <th>0</th>\n",
              "      <td>republican</td>\n",
              "      <td>0.0</td>\n",
              "      <td>1.0</td>\n",
              "      <td>0.0</td>\n",
              "      <td>1.0</td>\n",
              "      <td>1.0</td>\n",
              "      <td>1.0</td>\n",
              "      <td>0.0</td>\n",
              "      <td>0.0</td>\n",
              "      <td>0.0</td>\n",
              "      <td>1.0</td>\n",
              "      <td>NaN</td>\n",
              "      <td>1.0</td>\n",
              "      <td>1.0</td>\n",
              "      <td>1.0</td>\n",
              "      <td>0.0</td>\n",
              "      <td>1.0</td>\n",
              "    </tr>\n",
              "    <tr>\n",
              "      <th>1</th>\n",
              "      <td>republican</td>\n",
              "      <td>0.0</td>\n",
              "      <td>1.0</td>\n",
              "      <td>0.0</td>\n",
              "      <td>1.0</td>\n",
              "      <td>1.0</td>\n",
              "      <td>1.0</td>\n",
              "      <td>0.0</td>\n",
              "      <td>0.0</td>\n",
              "      <td>0.0</td>\n",
              "      <td>0.0</td>\n",
              "      <td>0.0</td>\n",
              "      <td>1.0</td>\n",
              "      <td>1.0</td>\n",
              "      <td>1.0</td>\n",
              "      <td>0.0</td>\n",
              "      <td>NaN</td>\n",
              "    </tr>\n",
              "    <tr>\n",
              "      <th>2</th>\n",
              "      <td>democrat</td>\n",
              "      <td>NaN</td>\n",
              "      <td>1.0</td>\n",
              "      <td>1.0</td>\n",
              "      <td>NaN</td>\n",
              "      <td>1.0</td>\n",
              "      <td>1.0</td>\n",
              "      <td>0.0</td>\n",
              "      <td>0.0</td>\n",
              "      <td>0.0</td>\n",
              "      <td>0.0</td>\n",
              "      <td>1.0</td>\n",
              "      <td>0.0</td>\n",
              "      <td>1.0</td>\n",
              "      <td>1.0</td>\n",
              "      <td>0.0</td>\n",
              "      <td>0.0</td>\n",
              "    </tr>\n",
              "    <tr>\n",
              "      <th>3</th>\n",
              "      <td>democrat</td>\n",
              "      <td>0.0</td>\n",
              "      <td>1.0</td>\n",
              "      <td>1.0</td>\n",
              "      <td>0.0</td>\n",
              "      <td>NaN</td>\n",
              "      <td>1.0</td>\n",
              "      <td>0.0</td>\n",
              "      <td>0.0</td>\n",
              "      <td>0.0</td>\n",
              "      <td>0.0</td>\n",
              "      <td>1.0</td>\n",
              "      <td>0.0</td>\n",
              "      <td>1.0</td>\n",
              "      <td>0.0</td>\n",
              "      <td>0.0</td>\n",
              "      <td>1.0</td>\n",
              "    </tr>\n",
              "    <tr>\n",
              "      <th>4</th>\n",
              "      <td>democrat</td>\n",
              "      <td>1.0</td>\n",
              "      <td>1.0</td>\n",
              "      <td>1.0</td>\n",
              "      <td>0.0</td>\n",
              "      <td>1.0</td>\n",
              "      <td>1.0</td>\n",
              "      <td>0.0</td>\n",
              "      <td>0.0</td>\n",
              "      <td>0.0</td>\n",
              "      <td>0.0</td>\n",
              "      <td>1.0</td>\n",
              "      <td>NaN</td>\n",
              "      <td>1.0</td>\n",
              "      <td>1.0</td>\n",
              "      <td>1.0</td>\n",
              "      <td>1.0</td>\n",
              "    </tr>\n",
              "  </tbody>\n",
              "</table>\n",
              "</div>"
            ],
            "text/plain": [
              "        party  handicapped-infants  ...  duty-free  south-africa\n",
              "0  republican                  0.0  ...        0.0           1.0\n",
              "1  republican                  0.0  ...        0.0           NaN\n",
              "2    democrat                  NaN  ...        0.0           0.0\n",
              "3    democrat                  0.0  ...        0.0           1.0\n",
              "4    democrat                  1.0  ...        1.0           1.0\n",
              "\n",
              "[5 rows x 17 columns]"
            ]
          },
          "metadata": {
            "tags": []
          },
          "execution_count": 5
        }
      ]
    },
    {
      "cell_type": "code",
      "metadata": {
        "id": "iz5CTdgxOX4P",
        "colab_type": "code",
        "colab": {
          "base_uri": "https://localhost:8080/",
          "height": 249
        },
        "outputId": "3296e250-86d4-42f4-f590-afbb771aa1f8"
      },
      "source": [
        "votes_df = votes_df.dropna()\n",
        "votes_df.head()"
      ],
      "execution_count": 6,
      "outputs": [
        {
          "output_type": "execute_result",
          "data": {
            "text/html": [
              "<div>\n",
              "<style scoped>\n",
              "    .dataframe tbody tr th:only-of-type {\n",
              "        vertical-align: middle;\n",
              "    }\n",
              "\n",
              "    .dataframe tbody tr th {\n",
              "        vertical-align: top;\n",
              "    }\n",
              "\n",
              "    .dataframe thead th {\n",
              "        text-align: right;\n",
              "    }\n",
              "</style>\n",
              "<table border=\"1\" class=\"dataframe\">\n",
              "  <thead>\n",
              "    <tr style=\"text-align: right;\">\n",
              "      <th></th>\n",
              "      <th>party</th>\n",
              "      <th>handicapped-infants</th>\n",
              "      <th>water-project</th>\n",
              "      <th>budget</th>\n",
              "      <th>physician-fee-freeze</th>\n",
              "      <th>el-salvador-aid</th>\n",
              "      <th>religious-groups</th>\n",
              "      <th>anti-satellite-ban</th>\n",
              "      <th>aid-to-contras</th>\n",
              "      <th>mx-missile</th>\n",
              "      <th>immigration</th>\n",
              "      <th>synfuels</th>\n",
              "      <th>education</th>\n",
              "      <th>right-to-sue</th>\n",
              "      <th>crime</th>\n",
              "      <th>duty-free</th>\n",
              "      <th>south-africa</th>\n",
              "    </tr>\n",
              "  </thead>\n",
              "  <tbody>\n",
              "    <tr>\n",
              "      <th>5</th>\n",
              "      <td>democrat</td>\n",
              "      <td>0.0</td>\n",
              "      <td>1.0</td>\n",
              "      <td>1.0</td>\n",
              "      <td>0.0</td>\n",
              "      <td>1.0</td>\n",
              "      <td>1.0</td>\n",
              "      <td>0.0</td>\n",
              "      <td>0.0</td>\n",
              "      <td>0.0</td>\n",
              "      <td>0.0</td>\n",
              "      <td>0.0</td>\n",
              "      <td>0.0</td>\n",
              "      <td>1.0</td>\n",
              "      <td>1.0</td>\n",
              "      <td>1.0</td>\n",
              "      <td>1.0</td>\n",
              "    </tr>\n",
              "    <tr>\n",
              "      <th>8</th>\n",
              "      <td>republican</td>\n",
              "      <td>0.0</td>\n",
              "      <td>1.0</td>\n",
              "      <td>0.0</td>\n",
              "      <td>1.0</td>\n",
              "      <td>1.0</td>\n",
              "      <td>1.0</td>\n",
              "      <td>0.0</td>\n",
              "      <td>0.0</td>\n",
              "      <td>0.0</td>\n",
              "      <td>0.0</td>\n",
              "      <td>0.0</td>\n",
              "      <td>1.0</td>\n",
              "      <td>1.0</td>\n",
              "      <td>1.0</td>\n",
              "      <td>0.0</td>\n",
              "      <td>1.0</td>\n",
              "    </tr>\n",
              "    <tr>\n",
              "      <th>19</th>\n",
              "      <td>democrat</td>\n",
              "      <td>1.0</td>\n",
              "      <td>1.0</td>\n",
              "      <td>1.0</td>\n",
              "      <td>0.0</td>\n",
              "      <td>0.0</td>\n",
              "      <td>0.0</td>\n",
              "      <td>1.0</td>\n",
              "      <td>1.0</td>\n",
              "      <td>1.0</td>\n",
              "      <td>0.0</td>\n",
              "      <td>1.0</td>\n",
              "      <td>0.0</td>\n",
              "      <td>0.0</td>\n",
              "      <td>0.0</td>\n",
              "      <td>1.0</td>\n",
              "      <td>1.0</td>\n",
              "    </tr>\n",
              "    <tr>\n",
              "      <th>23</th>\n",
              "      <td>democrat</td>\n",
              "      <td>1.0</td>\n",
              "      <td>1.0</td>\n",
              "      <td>1.0</td>\n",
              "      <td>0.0</td>\n",
              "      <td>0.0</td>\n",
              "      <td>0.0</td>\n",
              "      <td>1.0</td>\n",
              "      <td>1.0</td>\n",
              "      <td>1.0</td>\n",
              "      <td>0.0</td>\n",
              "      <td>0.0</td>\n",
              "      <td>0.0</td>\n",
              "      <td>0.0</td>\n",
              "      <td>0.0</td>\n",
              "      <td>1.0</td>\n",
              "      <td>1.0</td>\n",
              "    </tr>\n",
              "    <tr>\n",
              "      <th>25</th>\n",
              "      <td>democrat</td>\n",
              "      <td>1.0</td>\n",
              "      <td>0.0</td>\n",
              "      <td>1.0</td>\n",
              "      <td>0.0</td>\n",
              "      <td>0.0</td>\n",
              "      <td>0.0</td>\n",
              "      <td>1.0</td>\n",
              "      <td>1.0</td>\n",
              "      <td>1.0</td>\n",
              "      <td>1.0</td>\n",
              "      <td>0.0</td>\n",
              "      <td>0.0</td>\n",
              "      <td>0.0</td>\n",
              "      <td>0.0</td>\n",
              "      <td>1.0</td>\n",
              "      <td>1.0</td>\n",
              "    </tr>\n",
              "  </tbody>\n",
              "</table>\n",
              "</div>"
            ],
            "text/plain": [
              "         party  handicapped-infants  ...  duty-free  south-africa\n",
              "5     democrat                  0.0  ...        1.0           1.0\n",
              "8   republican                  0.0  ...        0.0           1.0\n",
              "19    democrat                  1.0  ...        1.0           1.0\n",
              "23    democrat                  1.0  ...        1.0           1.0\n",
              "25    democrat                  1.0  ...        1.0           1.0\n",
              "\n",
              "[5 rows x 17 columns]"
            ]
          },
          "metadata": {
            "tags": []
          },
          "execution_count": 6
        }
      ]
    },
    {
      "cell_type": "code",
      "metadata": {
        "id": "2_i6dGuSOjAq",
        "colab_type": "code",
        "colab": {}
      },
      "source": [
        "mean, var, std = stats.bayes_mvs(votes_df['water-project'])"
      ],
      "execution_count": 0,
      "outputs": []
    },
    {
      "cell_type": "code",
      "metadata": {
        "id": "1c_YDrCuO9O2",
        "colab_type": "code",
        "colab": {
          "base_uri": "https://localhost:8080/",
          "height": 90
        },
        "outputId": "2faba4c4-0ea9-415a-c0bf-ee73583a9a2e"
      },
      "source": [
        "print(f\"Mean: {mean}\")\n",
        "print(f\"Variance: {var}\")\n",
        "print(f\"Standard Deviation: {std}\")"
      ],
      "execution_count": 10,
      "outputs": [
        {
          "output_type": "stream",
          "text": [
            "Mean: Mean(statistic=0.46120689655172414, minmax=(0.4070410696033115, 0.5153727235001367))\n",
            "Variance: Variance(statistic=0.2517504893841289, minmax=(0.21555367142744056, 0.29291428527052354))\n",
            "Standard Deviation: Std_dev(statistic=0.5011999772680483, minmax=(0.4642775801473086, 0.5412155626647515))\n"
          ],
          "name": "stdout"
        }
      ]
    },
    {
      "cell_type": "code",
      "metadata": {
        "id": "tpRqBBEmWTU9",
        "colab_type": "code",
        "colab": {
          "base_uri": "https://localhost:8080/",
          "height": 54
        },
        "outputId": "f864d658-9b81-4168-dc8b-4437a8ccef47"
      },
      "source": [
        "means,_,_ = stats.bayes_mvs(votes_df['water-project'])\n",
        "bmean, bmeo = means\n",
        "\n",
        "print(f\"Min Mean: {bmeo[0]}, Mean: {bmean}, Max Mean: {bmeo[1]}\")\n"
      ],
      "execution_count": 20,
      "outputs": [
        {
          "output_type": "stream",
          "text": [
            "Min Mean: 0.4070410696033115, Mean: 0.46120689655172414, Max Mean: 0.5153727235001367\n"
          ],
          "name": "stdout"
        }
      ]
    },
    {
      "cell_type": "code",
      "metadata": {
        "id": "p00HVdg2T7zm",
        "colab_type": "code",
        "colab": {}
      },
      "source": [
        "#frequenties approach? why?\n",
        "def confidence_interval(data, confidence = 0.95):\n",
        "    \"\"\"\n",
        "    Calculates a confidence interval around a sample mean for given data.\n",
        "    Using t-distribution and two-tailed test, default 95% confidence. \n",
        "\n",
        "    @param data: Iterable. Sample observations\n",
        "    @param confidence: Float, default = 0.95, confidence level for the interval\n",
        "    @return: Tuple (mean, lower bound, upper bound)\n",
        "    \"\"\"\n",
        "    data = np.array(data)\n",
        "    mean = np.mean(data)\n",
        "    n = len(data)\n",
        "    stderr = np.std(data, ddof=1) / np.sqrt(n)\n",
        "    moe = stderr * stats.t.ppf((1 + confidence) / 2.0, n - 1)\n",
        "    return mean, mean - moe, mean + moe"
      ],
      "execution_count": 0,
      "outputs": []
    },
    {
      "cell_type": "code",
      "metadata": {
        "id": "gjXqFrCVUSFw",
        "colab_type": "code",
        "colab": {
          "base_uri": "https://localhost:8080/",
          "height": 34
        },
        "outputId": "c584bba3-e8af-44e7-e919-462770851779"
      },
      "source": [
        "frequentiest = confidence_interval(votes_df['water-project'], confidence=0.95)\n",
        "frequentiest"
      ],
      "execution_count": 33,
      "outputs": [
        {
          "output_type": "execute_result",
          "data": {
            "text/plain": [
              "(0.46120689655172414, 0.3965846075395787, 0.5258291855638696)"
            ]
          },
          "metadata": {
            "tags": []
          },
          "execution_count": 33
        }
      ]
    },
    {
      "cell_type": "code",
      "metadata": {
        "id": "J6NqMxz7PXpv",
        "colab_type": "code",
        "colab": {
          "base_uri": "https://localhost:8080/",
          "height": 298
        },
        "outputId": "57c96278-4985-4b1a-a9e7-345e7b9ae7c6"
      },
      "source": [
        "import matplotlib.pyplot as plt\n",
        "\n",
        "fig, ax = plt.subplots(ncols=2)\n",
        "\n",
        "fig = plt.figure(figsize=(10,10))\n",
        "\n",
        "ax1, ax2 = ax.flatten()\n",
        "\n",
        "ax1.hist(votes_df['water-project'])\n",
        "ax1.set_title(\"Frequentist\")\n",
        "ax1.axvline(x=frequentiest[1], color='red')\n",
        "ax1.axvline(x=frequentiest[0], color='k')\n",
        "ax1.axvline(x=frequentiest[2], color='red')\n",
        "\n",
        "ax2.hist(votes_df['water-project'])\n",
        "ax2.set_title(\"Bayes\")\n",
        "ax2.axvline(x=bmeo[0], color='red')\n",
        "ax2.axvline(x=bmeo[1], color='red')\n",
        "ax2.axvline(x=bmean, color='k')\n",
        "plt.show();"
      ],
      "execution_count": 37,
      "outputs": [
        {
          "output_type": "display_data",
          "data": {
            "image/png": "[encoded data removed]",
            "text/plain": [
              "<Figure size 432x288 with 2 Axes>"
            ]
          },
          "metadata": {
            "tags": []
          }
        },
        {
          "output_type": "display_data",
          "data": {
            "text/plain": [
              "<Figure size 720x720 with 0 Axes>"
            ]
          },
          "metadata": {
            "tags": []
          }
        }
      ]
    },
    {
      "cell_type": "code",
      "metadata": {
        "id": "yhvcCvdocy5-",
        "colab_type": "code",
        "colab": {}
      },
      "source": [
        "import seaborn as sns\n",
        "dem_data = votes_df[votes_df['party']==\"democrat\"]\n",
        "rep_data = votes_df[votes_df['party']==\"republican\"]"
      ],
      "execution_count": 0,
      "outputs": []
    },
    {
      "cell_type": "code",
      "metadata": {
        "id": "NtWTckZ6e8cZ",
        "colab_type": "code",
        "colab": {}
      },
      "source": [
        "dem_data = dem_data.drop(columns=\"party\")\n",
        "rep_data = rep_data.drop(columns=\"party\")"
      ],
      "execution_count": 0,
      "outputs": []
    },
    {
      "cell_type": "code",
      "metadata": {
        "id": "onmuUYwQfIB3",
        "colab_type": "code",
        "colab": {
          "base_uri": "https://localhost:8080/",
          "height": 408
        },
        "outputId": "d29cc370-beab-4bb7-8d4f-e320558fbb94"
      },
      "source": [
        "dem_graph = dem_data.melt(var_name=\"issue\", value_vars=dem_data.columns)\n",
        "rep_graph = rep_data.melt(var_name=\"issue\", value_vars=rep_data.columns)\n",
        "\n",
        "fig, ax = plt.subplots(ncols=2)\n",
        "fig.set_figwidth(16)\n",
        "ax1, ax2 = ax\n",
        "\n",
        "ax1.set_title(\"Democrats\")\n",
        "sns.barplot(x=\"issue\", y='value', data=dem_graph, estimator=np.mean, ci=95, ax=ax1)\n",
        "xlabels = ax1.get_xticklabels()\n",
        "for label in xlabels:\n",
        "  label.set_rotation(90)\n",
        "\n",
        "ax2.set_title(\"Republicans\")\n",
        "sns.barplot(x=\"issue\", y=\"value\", data=rep_graph, estimator=np.mean, ci=95, ax=ax2)\n",
        "xlabels = ax2.get_xticklabels()\n",
        "for label in xlabels:\n",
        "  label.set_rotation(90)\n"
      ],
      "execution_count": 40,
      "outputs": [
        {
          "output_type": "display_data",
          "data": {
            "image/png": "[encoded data removed]",
            "text/plain": [
              "<Figure size 1152x288 with 2 Axes>"
            ]
          },
          "metadata": {
            "tags": []
          }
        }
      ]
    },
    {
      "cell_type": "markdown",
      "metadata": {
        "id": "Cm0AHmXvydU9",
        "colab_type": "text"
      },
      "source": [
        "#3. In your own words, summarize the difference between Bayesian and Frequentist statistics\n",
        "\n",
        "Bayesian utilizes a prior probability to generate a postirior probability. The postior probability changes based on the prior. \n",
        "\n",
        "Frequentist does not need a prior probability, only depends the probability of data/hypotheses  for both observed and unobserved data."
      ]
    },
    {
      "cell_type": "markdown",
      "metadata": {
        "id": "uWgWjp3PQ3Sq",
        "colab_type": "text"
      },
      "source": [
        "## Resources"
      ]
    },
    {
      "cell_type": "markdown",
      "metadata": {
        "id": "QRgHqmYIQ9qn",
        "colab_type": "text"
      },
      "source": [
        "- [Worked example of Bayes rule calculation](https://en.wikipedia.org/wiki/Bayes'_theorem#Examples) (helpful as it fully breaks out the denominator)\n",
        "- [Source code for mvsdist in scipy](https://github.com/scipy/scipy/blob/90534919e139d2a81c24bf08341734ff41a3db12/scipy/stats/morestats.py#L139)"
      ]
    },
    {
      "cell_type": "markdown",
      "metadata": {
        "id": "GP7Jv1XvwtkX",
        "colab_type": "text"
      },
      "source": [
        "## Stretch Goals:\n",
        "\n",
        "- Go back and study the content from Modules 1 & 2 to make sure that you're really comfortable with them.\n",
        "- Apply a Bayesian technique to a problem you previously worked (in an assignment or project work) on from a frequentist (standard) perspective\n",
        "- Check out [PyMC3](https://docs.pymc.io/) (note this goes beyond hypothesis tests into modeling) - read the guides and work through some examples\n",
        "- Take PyMC3 further - see if you can build something with it!"
      ]
    },
    {
      "cell_type": "code",
      "metadata": {
        "id": "iDi0eFr1x-v_",
        "colab_type": "code",
        "colab": {}
      },
      "source": [
        ""
      ],
      "execution_count": 0,
      "outputs": []
    }
  ]
}