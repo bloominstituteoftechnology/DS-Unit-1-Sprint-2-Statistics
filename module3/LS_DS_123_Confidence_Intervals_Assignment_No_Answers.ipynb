{
  "nbformat": 4,
  "nbformat_minor": 0,
  "metadata": {
    "colab": {
      "name": "LS_DS_123_Confidence_Intervals_Assignment_No_Answers.ipynb",
      "provenance": [],
      "collapsed_sections": [],
      "include_colab_link": true
    },
    "kernelspec": {
      "name": "python3",
      "display_name": "Python 3"
    }
  },
  "cells": [
    {
      "cell_type": "markdown",
      "metadata": {
        "id": "view-in-github",
        "colab_type": "text"
      },
      "source": [
        "<a href=\"https://colab.research.google.com/github/chrislee973/DS-Unit-1-Sprint-2-Statistics/blob/master/module3/LS_DS_123_Confidence_Intervals_Assignment_No_Answers.ipynb\" target=\"_parent\"><img src=\"https://colab.research.google.com/assets/colab-badge.svg\" alt=\"Open In Colab\"/></a>"
      ]
    },
    {
      "cell_type": "markdown",
      "metadata": {
        "id": "g_c3L9CeANiJ",
        "colab_type": "text"
      },
      "source": [
        "## Confidence Intervals\n",
        "\n",
        "Soft drinks like Coke and Pepsi are manufactured to have a standard caffeine content. For example, a 12-oz serving of Coke has 34mg of caffeine, and a 12-oz serving of Pepsi has 37.6mg of caffeine. However, fountain soft drinks are typically mixed in individual restaurant dispensers, so it is more difficult to maintain a standard level of caffeine per serving. In this study, researchers randomly sampled Coke, Diet Coke, Pepsi, and Diet Pepsi at a set of franchise restaurants and measured the caffeine content in 12oz of each soft drink2. The data is found in the Soda.xlsx dataset.\n",
        "\n",
        "Because individuals can be sensitive to caffeine – and because the manufacturers are interested in product consistency – we wish to estimate the mean caffeine content in 12oz of Coke served in franchise restaurants using a 95% confidence interval. \n",
        "\n",
        "You can find the Coke data here: 'https://raw.githubusercontent.com/Chelsea-Myers/Lambda-Intro/master/Coke.csv'\n",
        "\n",
        "The first variable is the sample ID and the second variable is the caffeine content in the 12-oz sample measured in mg.\n",
        "\n",
        "Source: A.N. Garand and L.N. Bell (1997). \"Caffeine Content of Fountain and Private-Label Store Brand Carbonated Beverages,\" Journal of the American Dietetic Association, Vol. 97, #2, pp. 179-182.\n",
        "\n",
        "\n"
      ]
    },
    {
      "cell_type": "markdown",
      "metadata": {
        "id": "oaJpAIakUo31",
        "colab_type": "text"
      },
      "source": [
        "###1) Load the dataset and print the first few rows"
      ]
    },
    {
      "cell_type": "code",
      "metadata": {
        "id": "yXwMJQGrAIbO",
        "colab_type": "code",
        "colab": {
          "base_uri": "https://localhost:8080/",
          "height": 51
        },
        "outputId": "f0422e9e-3684-496f-92b6-6223ec855f8b"
      },
      "source": [
        "#Import statements\n",
        "\n",
        "import pandas as pd\n",
        "import numpy as np\n",
        "import matplotlib.pyplot as plt\n",
        "import seaborn as sns\n"
      ],
      "execution_count": null,
      "outputs": [
        {
          "output_type": "stream",
          "text": [
            "/usr/local/lib/python3.6/dist-packages/statsmodels/tools/_testing.py:19: FutureWarning: pandas.util.testing is deprecated. Use the functions in the public API at pandas.testing instead.\n",
            "  import pandas.util.testing as tm\n"
          ],
          "name": "stderr"
        }
      ]
    },
    {
      "cell_type": "code",
      "metadata": {
        "id": "M9RRzkxonNH3",
        "colab_type": "code",
        "colab": {}
      },
      "source": [
        "df = pd.read_csv( 'https://raw.githubusercontent.com/Chelsea-Myers/Lambda-Intro/master/Coke.csv')"
      ],
      "execution_count": null,
      "outputs": []
    },
    {
      "cell_type": "code",
      "metadata": {
        "id": "pYsFvm1dPygj",
        "colab_type": "code",
        "colab": {
          "base_uri": "https://localhost:8080/",
          "height": 204
        },
        "outputId": "3568b2ff-dde6-41b4-ad85-2e10ac941fa2"
      },
      "source": [
        "#Print the top 5 rows\n",
        "df.head()"
      ],
      "execution_count": null,
      "outputs": [
        {
          "output_type": "execute_result",
          "data": {
            "text/html": [
              "<div>\n",
              "<style scoped>\n",
              "    .dataframe tbody tr th:only-of-type {\n",
              "        vertical-align: middle;\n",
              "    }\n",
              "\n",
              "    .dataframe tbody tr th {\n",
              "        vertical-align: top;\n",
              "    }\n",
              "\n",
              "    .dataframe thead th {\n",
              "        text-align: right;\n",
              "    }\n",
              "</style>\n",
              "<table border=\"1\" class=\"dataframe\">\n",
              "  <thead>\n",
              "    <tr style=\"text-align: right;\">\n",
              "      <th></th>\n",
              "      <th>Drink</th>\n",
              "      <th>Caffeine</th>\n",
              "    </tr>\n",
              "  </thead>\n",
              "  <tbody>\n",
              "    <tr>\n",
              "      <th>0</th>\n",
              "      <td>1</td>\n",
              "      <td>47.32</td>\n",
              "    </tr>\n",
              "    <tr>\n",
              "      <th>1</th>\n",
              "      <td>2</td>\n",
              "      <td>43.78</td>\n",
              "    </tr>\n",
              "    <tr>\n",
              "      <th>2</th>\n",
              "      <td>3</td>\n",
              "      <td>48.12</td>\n",
              "    </tr>\n",
              "    <tr>\n",
              "      <th>3</th>\n",
              "      <td>4</td>\n",
              "      <td>43.25</td>\n",
              "    </tr>\n",
              "    <tr>\n",
              "      <th>4</th>\n",
              "      <td>5</td>\n",
              "      <td>46.42</td>\n",
              "    </tr>\n",
              "  </tbody>\n",
              "</table>\n",
              "</div>"
            ],
            "text/plain": [
              "   Drink  Caffeine\n",
              "0      1     47.32\n",
              "1      2     43.78\n",
              "2      3     48.12\n",
              "3      4     43.25\n",
              "4      5     46.42"
            ]
          },
          "metadata": {
            "tags": []
          },
          "execution_count": 3
        }
      ]
    },
    {
      "cell_type": "markdown",
      "metadata": {
        "id": "wOQ-9E8uYcni",
        "colab_type": "text"
      },
      "source": [
        "###2) Calculate the mean, SD, SE caffeiene content and n for the sample.  Summarize your results in a sentence or two."
      ]
    },
    {
      "cell_type": "code",
      "metadata": {
        "id": "m1vuFGxVQo64",
        "colab_type": "code",
        "colab": {
          "base_uri": "https://localhost:8080/",
          "height": 34
        },
        "outputId": "25c48773-5003-4e66-d4c4-302f3b108a39"
      },
      "source": [
        "#Calculations here\n",
        "\n",
        "mean = df['Caffeine'].mean()\n",
        "std = df['Caffeine'].std(ddof=1)\n",
        "n=len(df)\n",
        "st_err = std/np.sqrt(n)\n",
        "\n",
        "print(f\"The mean of the sample is {mean}, the standard deviation is {std}, and the standard error is {st_err}.\")\n"
      ],
      "execution_count": null,
      "outputs": [
        {
          "output_type": "stream",
          "text": [
            "The mean of the sample is 37.9402, the standard deviation is 5.243756828216712, and the standard error is 0.7415792024250598.\n"
          ],
          "name": "stdout"
        }
      ]
    },
    {
      "cell_type": "markdown",
      "metadata": {
        "id": "y2Rz-8O-YmF9",
        "colab_type": "text"
      },
      "source": [
        "Sentence or two summary."
      ]
    },
    {
      "cell_type": "markdown",
      "metadata": {
        "colab_type": "text",
        "id": "RySL5E7GEHGf"
      },
      "source": [
        "###3) Find t* for a 95% confidence interval.  \n",
        "\n",
        "Use the starter code below and fill in the degrees of freedom."
      ]
    },
    {
      "cell_type": "code",
      "metadata": {
        "id": "ti9x37XSQ_yL",
        "colab_type": "code",
        "colab": {
          "base_uri": "https://localhost:8080/",
          "height": 34
        },
        "outputId": "7e4c1e3f-65a5-46d0-92b4-b0bfe30d2506"
      },
      "source": [
        "from scipy.stats import t\n",
        "\n",
        "#Don't worry too much about where the 0.975 comes from.  It has to do\n",
        "#with wanting to determine the *middle* 95% of the t-distribution\n",
        "#We're going to learn\n",
        "#how to calculate a 95% CI this easy way in just a minute.\n",
        "\n",
        "#Recall that n = 223 for the body temp problem.\n",
        "t_star = t.ppf(0.975,df=221)\n",
        "print('t_star =', t_star)"
      ],
      "execution_count": null,
      "outputs": [
        {
          "output_type": "stream",
          "text": [
            "t_star = 1.9707562704880786\n"
          ],
          "name": "stdout"
        }
      ]
    },
    {
      "cell_type": "markdown",
      "metadata": {
        "colab_type": "text",
        "id": "AddooPk1JBvQ"
      },
      "source": [
        "###4) Calculate the margin of error for a 95% confidence interval for the mean caffeine content in a 12-oz Coke.\n",
        "\n"
      ]
    },
    {
      "cell_type": "code",
      "metadata": {
        "id": "IjjYtXodJW-b",
        "colab_type": "code",
        "colab": {
          "base_uri": "https://localhost:8080/",
          "height": 34
        },
        "outputId": "765e6f9a-7dd4-4701-e9dc-12fddf86c1d0"
      },
      "source": [
        "#Calculations here\n",
        "\n",
        "t_star = t.ppf(.975, df= n-1 )\n",
        "\n",
        "moe = t_star* st_err\n",
        "\n",
        "moe"
      ],
      "execution_count": null,
      "outputs": [
        {
          "output_type": "execute_result",
          "data": {
            "text/plain": [
              "1.49025919960566"
            ]
          },
          "metadata": {
            "tags": []
          },
          "execution_count": 10
        }
      ]
    },
    {
      "cell_type": "markdown",
      "metadata": {
        "id": "ePBmVZU7N2nq",
        "colab_type": "text"
      },
      "source": [
        "The margin of error is 1.49 oz of caffeine for a 95% confidence interval."
      ]
    },
    {
      "cell_type": "markdown",
      "metadata": {
        "id": "AtGASqgxYp5t",
        "colab_type": "text"
      },
      "source": [
        "###5) Calculate a 95% CI for the mean caffeine content in a 12-oz fountain Coke with the CI formula using the summary statistics and t* that you calculated above."
      ]
    },
    {
      "cell_type": "code",
      "metadata": {
        "id": "JPUE0osGEw0M",
        "colab_type": "code",
        "colab": {
          "base_uri": "https://localhost:8080/",
          "height": 34
        },
        "outputId": "aac42a08-e867-4b94-f4c3-e1f3070b9cd3"
      },
      "source": [
        "#Calculations here\n",
        "\n",
        "confidence_interval = (mean-moe, mean+moe)\n",
        "\n",
        "confidence_interval"
      ],
      "execution_count": null,
      "outputs": [
        {
          "output_type": "execute_result",
          "data": {
            "text/plain": [
              "(36.44994080039434, 39.43045919960566)"
            ]
          },
          "metadata": {
            "tags": []
          },
          "execution_count": 11
        }
      ]
    },
    {
      "cell_type": "markdown",
      "metadata": {
        "colab_type": "text",
        "id": "gAKJlaMyEzVz"
      },
      "source": [
        "###6) Calculate a 95% CI for the mean caffeiene content in a 12-oz fountain Coke using the t-interval function in Python."
      ]
    },
    {
      "cell_type": "code",
      "metadata": {
        "colab_type": "code",
        "id": "GSo4uKWVFKwQ",
        "colab": {
          "base_uri": "https://localhost:8080/",
          "height": 34
        },
        "outputId": "3400b051-9f49-45ca-f327-747a359c26c3"
      },
      "source": [
        "#Calculations here\n",
        "\n",
        "t.interval(alpha=.95, df=n-1, loc=mean, scale = st_err)"
      ],
      "execution_count": null,
      "outputs": [
        {
          "output_type": "execute_result",
          "data": {
            "text/plain": [
              "(36.44994080039434, 39.43045919960566)"
            ]
          },
          "metadata": {
            "tags": []
          },
          "execution_count": 16
        }
      ]
    },
    {
      "cell_type": "markdown",
      "metadata": {
        "id": "8oD8lp84YyvU",
        "colab_type": "text"
      },
      "source": [
        "###7) Compare the two confidence intervals you calculated.  Do they match?  Should they?"
      ]
    },
    {
      "cell_type": "markdown",
      "metadata": {
        "id": "mBMX1NAIFT88",
        "colab_type": "text"
      },
      "source": [
        "Yes, they do and should match."
      ]
    },
    {
      "cell_type": "markdown",
      "metadata": {
        "id": "-2ulIAGmYudp",
        "colab_type": "text"
      },
      "source": [
        "###8) Interpret the meaning of the 95% confidence interval for the mean caffeiene content in a 12-oz fountain Coke. in a sentence or two."
      ]
    },
    {
      "cell_type": "markdown",
      "metadata": {
        "id": "hD5HloatYxoh",
        "colab_type": "text"
      },
      "source": [
        "We are 95% confident that the population mean of caffeine content lies within the interval between 36.44 oz of caffeine and 39.43 oz of caffeine. "
      ]
    },
    {
      "cell_type": "markdown",
      "metadata": {
        "id": "SpqgKQfTYvF0",
        "colab_type": "text"
      },
      "source": [
        "###9) Using the t-interval Python function, calculate a 90% confidence interval for the mean caffeine content in a 12-oz Coke.  Is this estimate more accurate or more precise (pick one) than the 95% confidence interval?\n",
        "\n"
      ]
    },
    {
      "cell_type": "code",
      "metadata": {
        "id": "r1y1LE_dPAi6",
        "colab_type": "code",
        "colab": {
          "base_uri": "https://localhost:8080/",
          "height": 34
        },
        "outputId": "08503cad-eb17-47a9-dcb4-d3e5b2f32be5"
      },
      "source": [
        "#Calculations here\n",
        "\n",
        "t_star = t.ppf(1-(1-.9)/2, df = n-1)\n",
        "moe = t_star*st_err\n",
        "\n",
        "confidence_interval_90 = (mean-moe, mean+moe)\n",
        "\n",
        "confidence_interval_90"
      ],
      "execution_count": null,
      "outputs": [
        {
          "output_type": "execute_result",
          "data": {
            "text/plain": [
              "(36.696904726749196, 39.1834952732508)"
            ]
          },
          "metadata": {
            "tags": []
          },
          "execution_count": 13
        }
      ]
    },
    {
      "cell_type": "markdown",
      "metadata": {
        "colab_type": "text",
        "id": "7WIQtB0PGJP4"
      },
      "source": [
        "We are 90% certain that the population mean of caffeine content lies within the range of 36.69 oz and 39.18 oz of caffeine. This is more precise than the 95% confidence interval. "
      ]
    },
    {
      "cell_type": "markdown",
      "metadata": {
        "colab_type": "text",
        "id": "hQsmY8RnHKJf"
      },
      "source": [
        "###10) Using the t-interval Python function, calculate a 99% confidence interval for the mean caffeine content in a 12-oz Coke.  Is this estimate more accurate or more precise (pick one) than the 95% confidence interval?\n",
        "\n"
      ]
    },
    {
      "cell_type": "code",
      "metadata": {
        "id": "YrKq5pXYPNnK",
        "colab_type": "code",
        "colab": {
          "base_uri": "https://localhost:8080/",
          "height": 34
        },
        "outputId": "3f9ef011-ae05-4b00-9101-7dc63bbc6389"
      },
      "source": [
        "#Calculations here\n",
        "\n",
        "t_star = t.ppf(1-(1-.99)/2, df = n-1)\n",
        "moe = t_star*st_err\n",
        "\n",
        "confidence_interval_99 = (mean-moe, mean+moe)\n",
        "\n",
        "confidence_interval_99"
      ],
      "execution_count": null,
      "outputs": [
        {
          "output_type": "execute_result",
          "data": {
            "text/plain": [
              "(35.95280335285685, 39.92759664714315)"
            ]
          },
          "metadata": {
            "tags": []
          },
          "execution_count": 14
        }
      ]
    },
    {
      "cell_type": "markdown",
      "metadata": {
        "colab_type": "text",
        "id": "liduCGIkJAC2"
      },
      "source": [
        "This estimate is more accurate, but less precise than the 95% confidence interval."
      ]
    },
    {
      "cell_type": "markdown",
      "metadata": {
        "id": "9tIHBlM_SyGR",
        "colab_type": "text"
      },
      "source": [
        "## Stretch goals:\n",
        "\n",
        "###1) The correspondence between confidence intervals and hypothesis tests.\n",
        "\n",
        "Read [this](https://https://blog.minitab.com/blog/adventures-in-statistics-2/understanding-hypothesis-tests-confidence-intervals-and-confidence-levels#:~:text=If%20a%20hypothesis%20test%20produces,corresponding%20confidence%20level%20is%2095%25.&text=If%20the%20confidence%20interval%20does,the%20results%20are%20statistically%20significant.) article about the correspondence between confidence intervals and hypothesis tests.  Feel free to read the whole article, but the relevant part can be found under the heading Why P Values and Confidence Intervals Always Agree About Statistical Significance.\n",
        "\n",
        "Imagine you work for quality control at Coke and are tasked with making sure that the caffeiene content in the fountain beverages served in restaurants is the same as in a 12-oz can of Coke (34mg).  If you believe that the mean caffeiene content in fountain coke is not 34mg, you must re-train the franchise managers to make sure the Coke served has the correct caffeiene level.\n",
        "\n",
        "Based on the confidence interval you calculated in the assignment, do you believe that the mean caffeiene content is statistically significantly different from 34 mg in a 12-oz serving?\n"
      ]
    },
    {
      "cell_type": "markdown",
      "metadata": {
        "id": "4Aa3df-_LgnT",
        "colab_type": "text"
      },
      "source": [
        "Answer here."
      ]
    },
    {
      "cell_type": "markdown",
      "metadata": {
        "id": "Ne4k2kd3LhfV",
        "colab_type": "text"
      },
      "source": [
        "###2) If we increased the sample size from 50 to 100 but the sample mean and SD remained the same, describe **two** ways the margin of error would change.  Would the margin of error become smaller or larger?"
      ]
    },
    {
      "cell_type": "markdown",
      "metadata": {
        "id": "6lVcoTU6L5Pg",
        "colab_type": "text"
      },
      "source": [
        "The margin of error would shrink because the margin of error is calculated by multiplying t-value with standard error. And when the sample size increases the standard error shrinks, so all else being equal the margin of error would also shrink."
      ]
    },
    {
      "cell_type": "code",
      "metadata": {
        "id": "PQkk3nu4L4vu",
        "colab_type": "code",
        "colab": {}
      },
      "source": [
        "#Calculations here."
      ],
      "execution_count": null,
      "outputs": []
    },
    {
      "cell_type": "markdown",
      "metadata": {
        "colab_type": "text",
        "id": "5bZ8LyiQXnpO"
      },
      "source": [
        "Compare MEs here.\n",
        "\n"
      ]
    },
    {
      "cell_type": "code",
      "metadata": {
        "id": "LAMxEH4N6ppe",
        "colab_type": "code",
        "colab": {}
      },
      "source": [
        ""
      ],
      "execution_count": null,
      "outputs": []
    },
    {
      "cell_type": "code",
      "metadata": {
        "id": "C6hsvk6W7GyF",
        "colab_type": "code",
        "colab": {}
      },
      "source": [
        ""
      ],
      "execution_count": null,
      "outputs": []
    }
  ]
}