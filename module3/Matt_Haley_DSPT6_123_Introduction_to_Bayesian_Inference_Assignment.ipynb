{
  "nbformat": 4,
  "nbformat_minor": 0,
  "metadata": {
    "colab": {
      "name": "Matt_Haley_DSPT6_123_Introduction_to_Bayesian_Inference_Assignment.ipynb",
      "provenance": [],
      "include_colab_link": true
    },
    "kernelspec": {
      "name": "python3",
      "display_name": "Python 3"
    }
  },
  "cells": [
    {
      "cell_type": "markdown",
      "metadata": {
        "id": "view-in-github",
        "colab_type": "text"
      },
      "source": [
        "<a href=\"https://colab.research.google.com/github/MHaley206265/DS-Unit-1-Sprint-2-Statistics/blob/master/module3/Matt_Haley_DSPT6_123_Introduction_to_Bayesian_Inference_Assignment.ipynb\" target=\"_parent\"><img src=\"https://colab.research.google.com/assets/colab-badge.svg\" alt=\"Open In Colab\"/></a>"
      ]
    },
    {
      "cell_type": "markdown",
      "metadata": {
        "id": "H7OLbevlbd_Z",
        "colab_type": "text"
      },
      "source": [
        "# Lambda School Data Science Module 123\n",
        "\n",
        "## Introduction to Bayesian Inference\n",
        "\n",
        "\n"
      ]
    },
    {
      "cell_type": "markdown",
      "metadata": {
        "id": "P-DzzRk5bf0z",
        "colab_type": "text"
      },
      "source": [
        "## Assignment - Code it up!\n",
        "\n",
        "We used pure math to apply Bayes Theorem to drug tests. Now write Python code to reproduce the results! This is purposefully open ended - you'll have to think about how you should represent probabilities and events. You can and should look things up.\n",
        "\n",
        "Specific goals/targets:\n",
        "\n",
        "### 1) Write a function \n",
        "\n",
        "`def prob_drunk_given_positive(prob_drunk_prior, false_positive_rate, true_positive_rate):` \n",
        "\n",
        "You should only truly need these two values in order to apply Bayes Theorem. In this example, imagine that individuals are taking a breathalyzer test with an 8% false positive rate, a 100% true positive rate, and that our prior belief about drunk driving in the population is 1/1000. \n",
        " - What is the probability that a person is drunk after one positive breathalyzer test?\n",
        " - What is the probability that a person is drunk after two positive breathalyzer tests?\n",
        " - How many positive breathalyzer tests are needed in order to have a probability that's greater than 95% that a person is drunk beyond the legal limit?\n",
        "\n",
        "### 2) Explore `scipy.stats.bayes_mvs`  \n",
        "Read its documentation, and experiment with it on data you've tested in other ways earlier this week.\n",
        " - Create a visualization comparing the results of a Bayesian approach to a traditional/frequentist approach. (with a large sample size they should look close to identical, however, take this opportunity to practice visualizing condfidence intervals in general. The following are some potential ways that you could visualize confidence intervals on your graph:\n",
        "  - [Matplotlib Error Bars](https://matplotlib.org/3.1.1/api/_as_gen/matplotlib.pyplot.errorbar.html)\n",
        "  - [Seaborn barplot with error bars](https://seaborn.pydata.org/generated/seaborn.barplot.html)\n",
        "  - [Vertical ines to show bounds of confidence interval](https://www.simplypsychology.org/confidence-interval.jpg)\n",
        "  - [Confidence Intervals on Box Plots](https://matplotlib.org/3.1.1/api/_as_gen/matplotlib.axes.Axes.boxplot.html)\n",
        "\n",
        "### 3) In your own words, summarize the difference between Bayesian and Frequentist statistics\n",
        "\n",
        "If you're unsure where to start, check out [this blog post of Bayes theorem with Python](https://dataconomy.com/2015/02/introduction-to-bayes-theorem-with-python/).\n",
        "\n"
      ]
    },
    {
      "cell_type": "code",
      "metadata": {
        "id": "o5qQ1f2ZmIPk",
        "colab_type": "code",
        "colab": {}
      },
      "source": [
        "import numpy as np\n",
        "from scipy import stats\n",
        "import pandas as pd"
      ],
      "execution_count": 0,
      "outputs": []
    },
    {
      "cell_type": "code",
      "metadata": {
        "id": "xpVhZyUnbf7o",
        "colab_type": "code",
        "colab": {}
      },
      "source": [
        "# 1) prob_drunk function\n",
        "\n",
        "def prob_drunk_given_positive(prob_drunk_prior, false_positive_rate, true_positive_rate, n):\n",
        "  complement = 1 - prob_drunk_prior\n",
        "  true_pos = 1\n",
        "  marginal = (true_positive_rate * prob_drunk_prior) + (false_positive_rate * complement)\n",
        "  posterior = 0\n",
        "\n",
        "  for i in range(n):\n",
        "    \n",
        "    posterior = (true_positive_rate * prob_drunk_prior) / marginal\n",
        "    prob_drunk_prior = posterior\n",
        "    complement = 1 - prob_drunk_prior\n",
        "    marginal = (true_positive_rate * prob_drunk_prior) + (false_positive_rate * complement)\n",
        "\n",
        "  return print(posterior)"
      ],
      "execution_count": 0,
      "outputs": []
    },
    {
      "cell_type": "code",
      "metadata": {
        "id": "LDO1AlPWpCif",
        "colab_type": "code",
        "colab": {
          "base_uri": "https://localhost:8080/",
          "height": 204
        },
        "outputId": "15a5788c-9bf9-474e-bb25-16116d9f6796"
      },
      "source": [
        "prob_drunk_given_positive((1/1000), .08, 1, 10)"
      ],
      "execution_count": 16,
      "outputs": [
        {
          "output_type": "stream",
          "text": [
            "0.012357884330202669\n",
            "0.13525210993291495\n",
            "0.6615996951348605\n",
            "0.9606895076105054\n",
            "0.9967371577896734\n",
            "0.9997381867081508\n",
            "0.9999790498904363\n",
            "0.9999983239589307\n",
            "0.9999998659165077\n",
            "0.9999999892733192\n",
            "0.9999999892733192\n"
          ],
          "name": "stdout"
        }
      ]
    },
    {
      "cell_type": "code",
      "metadata": {
        "id": "ERLTmIMUtewH",
        "colab_type": "code",
        "colab": {}
      },
      "source": [
        "# Using the function above, it can be determined that, after one positive\n",
        "# test, there is only a 1.2% chance that the person is actually drunk.\n",
        "\n",
        "# After two positive tests, it can be determined that there is a 13.5%\n",
        "# chance that the person is drunk\n",
        "\n",
        "# It appears to take 4 positive breathalizer tests to achieve a probability of\n",
        "# higher than 95%"
      ],
      "execution_count": 0,
      "outputs": []
    },
    {
      "cell_type": "markdown",
      "metadata": {
        "id": "0rHfOY05vVLS",
        "colab_type": "text"
      },
      "source": [
        "### Exploring scipy.stats.bayes_mvs"
      ]
    },
    {
      "cell_type": "code",
      "metadata": {
        "id": "ubjnU_mLvcTE",
        "colab_type": "code",
        "colab": {}
      },
      "source": [
        "# import a data set\n",
        "\n",
        "url = 'https://archive.ics.uci.edu/ml/machine-learning-databases/voting-records/house-votes-84.data'\n",
        "\n",
        "column_headers = ['party','handicapped-infants','water-project',\n",
        "                          'budget','physician-fee-freeze', 'el-salvador-aid',\n",
        "                          'religious-groups','anti-satellite-ban',\n",
        "                          'aid-to-contras','mx-missile','immigration',\n",
        "                          'synfuels', 'education', 'right-to-sue','crime','duty-free',\n",
        "                          'south-africa']\n",
        "\n",
        "cvr = pd.read_csv(url,\n",
        "                  header=None,\n",
        "                  names=column_headers,\n",
        "                  na_values=\"?\")"
      ],
      "execution_count": 0,
      "outputs": []
    },
    {
      "cell_type": "code",
      "metadata": {
        "id": "BB2WOQvav-do",
        "colab_type": "code",
        "colab": {
          "base_uri": "https://localhost:8080/",
          "height": 221
        },
        "outputId": "cc9ddffb-ca2a-46f3-b182-441757738ebb"
      },
      "source": [
        "cvr.head()"
      ],
      "execution_count": 19,
      "outputs": [
        {
          "output_type": "execute_result",
          "data": {
            "text/html": [
              "<div>\n",
              "<style scoped>\n",
              "    .dataframe tbody tr th:only-of-type {\n",
              "        vertical-align: middle;\n",
              "    }\n",
              "\n",
              "    .dataframe tbody tr th {\n",
              "        vertical-align: top;\n",
              "    }\n",
              "\n",
              "    .dataframe thead th {\n",
              "        text-align: right;\n",
              "    }\n",
              "</style>\n",
              "<table border=\"1\" class=\"dataframe\">\n",
              "  <thead>\n",
              "    <tr style=\"text-align: right;\">\n",
              "      <th></th>\n",
              "      <th>party</th>\n",
              "      <th>handicapped-infants</th>\n",
              "      <th>water-project</th>\n",
              "      <th>budget</th>\n",
              "      <th>physician-fee-freeze</th>\n",
              "      <th>el-salvador-aid</th>\n",
              "      <th>religious-groups</th>\n",
              "      <th>anti-satellite-ban</th>\n",
              "      <th>aid-to-contras</th>\n",
              "      <th>mx-missile</th>\n",
              "      <th>immigration</th>\n",
              "      <th>synfuels</th>\n",
              "      <th>education</th>\n",
              "      <th>right-to-sue</th>\n",
              "      <th>crime</th>\n",
              "      <th>duty-free</th>\n",
              "      <th>south-africa</th>\n",
              "    </tr>\n",
              "  </thead>\n",
              "  <tbody>\n",
              "    <tr>\n",
              "      <th>0</th>\n",
              "      <td>republican</td>\n",
              "      <td>n</td>\n",
              "      <td>y</td>\n",
              "      <td>n</td>\n",
              "      <td>y</td>\n",
              "      <td>y</td>\n",
              "      <td>y</td>\n",
              "      <td>n</td>\n",
              "      <td>n</td>\n",
              "      <td>n</td>\n",
              "      <td>y</td>\n",
              "      <td>NaN</td>\n",
              "      <td>y</td>\n",
              "      <td>y</td>\n",
              "      <td>y</td>\n",
              "      <td>n</td>\n",
              "      <td>y</td>\n",
              "    </tr>\n",
              "    <tr>\n",
              "      <th>1</th>\n",
              "      <td>republican</td>\n",
              "      <td>n</td>\n",
              "      <td>y</td>\n",
              "      <td>n</td>\n",
              "      <td>y</td>\n",
              "      <td>y</td>\n",
              "      <td>y</td>\n",
              "      <td>n</td>\n",
              "      <td>n</td>\n",
              "      <td>n</td>\n",
              "      <td>n</td>\n",
              "      <td>n</td>\n",
              "      <td>y</td>\n",
              "      <td>y</td>\n",
              "      <td>y</td>\n",
              "      <td>n</td>\n",
              "      <td>NaN</td>\n",
              "    </tr>\n",
              "    <tr>\n",
              "      <th>2</th>\n",
              "      <td>democrat</td>\n",
              "      <td>NaN</td>\n",
              "      <td>y</td>\n",
              "      <td>y</td>\n",
              "      <td>NaN</td>\n",
              "      <td>y</td>\n",
              "      <td>y</td>\n",
              "      <td>n</td>\n",
              "      <td>n</td>\n",
              "      <td>n</td>\n",
              "      <td>n</td>\n",
              "      <td>y</td>\n",
              "      <td>n</td>\n",
              "      <td>y</td>\n",
              "      <td>y</td>\n",
              "      <td>n</td>\n",
              "      <td>n</td>\n",
              "    </tr>\n",
              "    <tr>\n",
              "      <th>3</th>\n",
              "      <td>democrat</td>\n",
              "      <td>n</td>\n",
              "      <td>y</td>\n",
              "      <td>y</td>\n",
              "      <td>n</td>\n",
              "      <td>NaN</td>\n",
              "      <td>y</td>\n",
              "      <td>n</td>\n",
              "      <td>n</td>\n",
              "      <td>n</td>\n",
              "      <td>n</td>\n",
              "      <td>y</td>\n",
              "      <td>n</td>\n",
              "      <td>y</td>\n",
              "      <td>n</td>\n",
              "      <td>n</td>\n",
              "      <td>y</td>\n",
              "    </tr>\n",
              "    <tr>\n",
              "      <th>4</th>\n",
              "      <td>democrat</td>\n",
              "      <td>y</td>\n",
              "      <td>y</td>\n",
              "      <td>y</td>\n",
              "      <td>n</td>\n",
              "      <td>y</td>\n",
              "      <td>y</td>\n",
              "      <td>n</td>\n",
              "      <td>n</td>\n",
              "      <td>n</td>\n",
              "      <td>n</td>\n",
              "      <td>y</td>\n",
              "      <td>NaN</td>\n",
              "      <td>y</td>\n",
              "      <td>y</td>\n",
              "      <td>y</td>\n",
              "      <td>y</td>\n",
              "    </tr>\n",
              "  </tbody>\n",
              "</table>\n",
              "</div>"
            ],
            "text/plain": [
              "        party handicapped-infants water-project  ... crime duty-free south-africa\n",
              "0  republican                   n             y  ...     y         n            y\n",
              "1  republican                   n             y  ...     y         n          NaN\n",
              "2    democrat                 NaN             y  ...     y         n            n\n",
              "3    democrat                   n             y  ...     n         n            y\n",
              "4    democrat                   y             y  ...     y         y            y\n",
              "\n",
              "[5 rows x 17 columns]"
            ]
          },
          "metadata": {
            "tags": []
          },
          "execution_count": 19
        }
      ]
    },
    {
      "cell_type": "code",
      "metadata": {
        "id": "ZFBkx7uswIb2",
        "colab_type": "code",
        "colab": {
          "base_uri": "https://localhost:8080/",
          "height": 884
        },
        "outputId": "6b1a0455-26d7-4c27-fda6-9c006b82d422"
      },
      "source": [
        "for i in cvr:\n",
        "  print(cvr[i].value_counts())"
      ],
      "execution_count": 21,
      "outputs": [
        {
          "output_type": "stream",
          "text": [
            "democrat      267\n",
            "republican    168\n",
            "Name: party, dtype: int64\n",
            "n    236\n",
            "y    187\n",
            "Name: handicapped-infants, dtype: int64\n",
            "y    195\n",
            "n    192\n",
            "Name: water-project, dtype: int64\n",
            "y    253\n",
            "n    171\n",
            "Name: budget, dtype: int64\n",
            "n    247\n",
            "y    177\n",
            "Name: physician-fee-freeze, dtype: int64\n",
            "y    212\n",
            "n    208\n",
            "Name: el-salvador-aid, dtype: int64\n",
            "y    272\n",
            "n    152\n",
            "Name: religious-groups, dtype: int64\n",
            "y    239\n",
            "n    182\n",
            "Name: anti-satellite-ban, dtype: int64\n",
            "y    242\n",
            "n    178\n",
            "Name: aid-to-contras, dtype: int64\n",
            "y    207\n",
            "n    206\n",
            "Name: mx-missile, dtype: int64\n",
            "y    216\n",
            "n    212\n",
            "Name: immigration, dtype: int64\n",
            "n    264\n",
            "y    150\n",
            "Name: synfuels, dtype: int64\n",
            "n    233\n",
            "y    171\n",
            "Name: education, dtype: int64\n",
            "y    209\n",
            "n    201\n",
            "Name: right-to-sue, dtype: int64\n",
            "y    248\n",
            "n    170\n",
            "Name: crime, dtype: int64\n",
            "n    233\n",
            "y    174\n",
            "Name: duty-free, dtype: int64\n",
            "y    269\n",
            "n     62\n",
            "Name: south-africa, dtype: int64\n"
          ],
          "name": "stdout"
        }
      ]
    },
    {
      "cell_type": "code",
      "metadata": {
        "id": "LsgA-8G9wZW3",
        "colab_type": "code",
        "colab": {
          "base_uri": "https://localhost:8080/",
          "height": 204
        },
        "outputId": "5979183f-6071-453c-81a5-5b62e9a5683a"
      },
      "source": [
        "# lets look at mx-missiles\n",
        "\n",
        "missile_df = cvr[['party', 'mx-missile']].dropna()\n",
        "\n",
        "missile_df.head()"
      ],
      "execution_count": 23,
      "outputs": [
        {
          "output_type": "execute_result",
          "data": {
            "text/html": [
              "<div>\n",
              "<style scoped>\n",
              "    .dataframe tbody tr th:only-of-type {\n",
              "        vertical-align: middle;\n",
              "    }\n",
              "\n",
              "    .dataframe tbody tr th {\n",
              "        vertical-align: top;\n",
              "    }\n",
              "\n",
              "    .dataframe thead th {\n",
              "        text-align: right;\n",
              "    }\n",
              "</style>\n",
              "<table border=\"1\" class=\"dataframe\">\n",
              "  <thead>\n",
              "    <tr style=\"text-align: right;\">\n",
              "      <th></th>\n",
              "      <th>party</th>\n",
              "      <th>mx-missile</th>\n",
              "    </tr>\n",
              "  </thead>\n",
              "  <tbody>\n",
              "    <tr>\n",
              "      <th>0</th>\n",
              "      <td>republican</td>\n",
              "      <td>n</td>\n",
              "    </tr>\n",
              "    <tr>\n",
              "      <th>1</th>\n",
              "      <td>republican</td>\n",
              "      <td>n</td>\n",
              "    </tr>\n",
              "    <tr>\n",
              "      <th>2</th>\n",
              "      <td>democrat</td>\n",
              "      <td>n</td>\n",
              "    </tr>\n",
              "    <tr>\n",
              "      <th>3</th>\n",
              "      <td>democrat</td>\n",
              "      <td>n</td>\n",
              "    </tr>\n",
              "    <tr>\n",
              "      <th>4</th>\n",
              "      <td>democrat</td>\n",
              "      <td>n</td>\n",
              "    </tr>\n",
              "  </tbody>\n",
              "</table>\n",
              "</div>"
            ],
            "text/plain": [
              "        party mx-missile\n",
              "0  republican          n\n",
              "1  republican          n\n",
              "2    democrat          n\n",
              "3    democrat          n\n",
              "4    democrat          n"
            ]
          },
          "metadata": {
            "tags": []
          },
          "execution_count": 23
        }
      ]
    },
    {
      "cell_type": "code",
      "metadata": {
        "id": "TwRId92Lw7oV",
        "colab_type": "code",
        "colab": {
          "base_uri": "https://localhost:8080/",
          "height": 204
        },
        "outputId": "c85901d5-9ac7-47b6-a80d-1c751285db8b"
      },
      "source": [
        "# replace y and n with 1 and 0\n",
        "missile_df = missile_df.replace({'y':1, 'n':0})\n",
        "\n",
        "missile_df.head()"
      ],
      "execution_count": 24,
      "outputs": [
        {
          "output_type": "execute_result",
          "data": {
            "text/html": [
              "<div>\n",
              "<style scoped>\n",
              "    .dataframe tbody tr th:only-of-type {\n",
              "        vertical-align: middle;\n",
              "    }\n",
              "\n",
              "    .dataframe tbody tr th {\n",
              "        vertical-align: top;\n",
              "    }\n",
              "\n",
              "    .dataframe thead th {\n",
              "        text-align: right;\n",
              "    }\n",
              "</style>\n",
              "<table border=\"1\" class=\"dataframe\">\n",
              "  <thead>\n",
              "    <tr style=\"text-align: right;\">\n",
              "      <th></th>\n",
              "      <th>party</th>\n",
              "      <th>mx-missile</th>\n",
              "    </tr>\n",
              "  </thead>\n",
              "  <tbody>\n",
              "    <tr>\n",
              "      <th>0</th>\n",
              "      <td>republican</td>\n",
              "      <td>0</td>\n",
              "    </tr>\n",
              "    <tr>\n",
              "      <th>1</th>\n",
              "      <td>republican</td>\n",
              "      <td>0</td>\n",
              "    </tr>\n",
              "    <tr>\n",
              "      <th>2</th>\n",
              "      <td>democrat</td>\n",
              "      <td>0</td>\n",
              "    </tr>\n",
              "    <tr>\n",
              "      <th>3</th>\n",
              "      <td>democrat</td>\n",
              "      <td>0</td>\n",
              "    </tr>\n",
              "    <tr>\n",
              "      <th>4</th>\n",
              "      <td>democrat</td>\n",
              "      <td>0</td>\n",
              "    </tr>\n",
              "  </tbody>\n",
              "</table>\n",
              "</div>"
            ],
            "text/plain": [
              "        party  mx-missile\n",
              "0  republican           0\n",
              "1  republican           0\n",
              "2    democrat           0\n",
              "3    democrat           0\n",
              "4    democrat           0"
            ]
          },
          "metadata": {
            "tags": []
          },
          "execution_count": 24
        }
      ]
    },
    {
      "cell_type": "code",
      "metadata": {
        "id": "SRM-z-aFxWMV",
        "colab_type": "code",
        "colab": {
          "base_uri": "https://localhost:8080/",
          "height": 51
        },
        "outputId": "0933e4f6-f868-4b06-e139-a392c0afbc95"
      },
      "source": [
        "# find confidence intervals using frequentist and bayesian methods\n",
        "# Frequentists\n",
        "freq_conf_int = stats.t.interval(0.95, # This is the alpha value\n",
        "                                  missile_df.shape[0], # Sample Length\n",
        "                                  loc = missile_df['mx-missile'].mean(), # mean of data\n",
        "                                  scale = stats.sem(missile_df['mx-missile']) # std error of mean\n",
        "                                  )\n",
        "\n",
        "# Bayesian\n",
        "bayes_conf_int = stats.bayes_mvs(missile_df['mx-missile'], 0.95)[0][1]\n",
        "\n",
        "print(f'The frequentists confidence interval is {freq_conf_int}')\n",
        "print(f'The bayesian confidence interval is {bayes_conf_int}')"
      ],
      "execution_count": 26,
      "outputs": [
        {
          "output_type": "stream",
          "text": [
            "The frequentists confidence interval is (0.4527886464902715, 0.5496326610157818)\n",
            "The bayesian confidence interval is (0.45278830107341983, 0.5496330064326335)\n"
          ],
          "name": "stdout"
        }
      ]
    },
    {
      "cell_type": "code",
      "metadata": {
        "id": "_cawat3Jy86y",
        "colab_type": "code",
        "colab": {
          "base_uri": "https://localhost:8080/",
          "height": 363
        },
        "outputId": "cebf5807-6d2c-45cd-b8bf-a4887cacc2f6"
      },
      "source": [
        "import altair as alt\n",
        "\n",
        "missile_chart = alt.Chart(missile_df).transform_density(\n",
        "    'mx-missile',\n",
        "    as_=['mx-missile', 'density']\n",
        ").encode(\n",
        "    x='mx-missile:Q',\n",
        "    y='density:Q'\n",
        ")\n",
        "\n",
        "missile_chart.mark_line()"
      ],
      "execution_count": 36,
      "outputs": [
        {
          "output_type": "execute_result",
          "data": {
            "text/plain": [
              "alt.Chart(...)"
            ],
            "text/html": [
              "\n",
              "<div id=\"altair-viz-71225342b56c46c1bcab8fe4832a6412\"></div>\n",
              "<script type=\"text/javascript\">\n",
              "  (function(spec, embedOpt){\n",
              "    let outputDiv = document.currentScript.previousElementSibling;\n",
              "    if (outputDiv.id !== \"altair-viz-71225342b56c46c1bcab8fe4832a6412\") {\n",
              "      outputDiv = document.getElementById(\"altair-viz-71225342b56c46c1bcab8fe4832a6412\");\n",
              "    }\n",
              "    const paths = {\n",
              "      \"vega\": \"https://cdn.jsdelivr.net/npm//vega@5?noext\",\n",
              "      \"vega-lib\": \"https://cdn.jsdelivr.net/npm//vega-lib?noext\",\n",
              "      \"vega-lite\": \"https://cdn.jsdelivr.net/npm//vega-lite@4.8.1?noext\",\n",
              "      \"vega-embed\": \"https://cdn.jsdelivr.net/npm//vega-embed@6?noext\",\n",
              "    };\n",
              "\n",
              "    function loadScript(lib) {\n",
              "      return new Promise(function(resolve, reject) {\n",
              "        var s = document.createElement('script');\n",
              "        s.src = paths[lib];\n",
              "        s.async = true;\n",
              "        s.onload = () => resolve(paths[lib]);\n",
              "        s.onerror = () => reject(`Error loading script: ${paths[lib]}`);\n",
              "        document.getElementsByTagName(\"head\")[0].appendChild(s);\n",
              "      });\n",
              "    }\n",
              "\n",
              "    function showError(err) {\n",
              "      outputDiv.innerHTML = `<div class=\"error\" style=\"color:red;\">${err}</div>`;\n",
              "      throw err;\n",
              "    }\n",
              "\n",
              "    function displayChart(vegaEmbed) {\n",
              "      vegaEmbed(outputDiv, spec, embedOpt)\n",
              "        .catch(err => showError(`Javascript Error: ${err.message}<br>This usually means there's a typo in your chart specification. See the javascript console for the full traceback.`));\n",
              "    }\n",
              "\n",
              "    if(typeof define === \"function\" && define.amd) {\n",
              "      requirejs.config({paths});\n",
              "      require([\"vega-embed\"], displayChart, err => showError(`Error loading script: ${err.message}`));\n",
              "    } else if (typeof vegaEmbed === \"function\") {\n",
              "      displayChart(vegaEmbed);\n",
              "    } else {\n",
              "      loadScript(\"vega\")\n",
              "        .then(() => loadScript(\"vega-lite\"))\n",
              "        .then(() => loadScript(\"vega-embed\"))\n",
              "        .catch(showError)\n",
              "        .then(() => displayChart(vegaEmbed));\n",
              "    }\n",
              "  })({\"config\": {\"view\": {\"continuousWidth\": 400, \"continuousHeight\": 300}}, \"data\": {\"name\": \"data-0e9af20094ddcbe80fbd9aaa393bb453\"}, \"mark\": \"line\", \"encoding\": {\"x\": {\"type\": \"quantitative\", \"field\": \"mx-missile\"}, \"y\": {\"type\": \"quantitative\", \"field\": \"density\"}}, \"transform\": [{\"density\": \"mx-missile\", \"as\": [\"mx-missile\", \"density\"]}], \"$schema\": \"https://vega.github.io/schema/vega-lite/v4.8.1.json\", \"datasets\": {\"data-0e9af20094ddcbe80fbd9aaa393bb453\": [{\"party\": \"republican\", \"mx-missile\": 0}, {\"party\": \"republican\", \"mx-missile\": 0}, {\"party\": \"democrat\", \"mx-missile\": 0}, {\"party\": \"democrat\", \"mx-missile\": 0}, {\"party\": \"democrat\", \"mx-missile\": 0}, {\"party\": \"democrat\", \"mx-missile\": 0}, {\"party\": \"democrat\", \"mx-missile\": 0}, {\"party\": \"republican\", \"mx-missile\": 0}, {\"party\": \"republican\", \"mx-missile\": 0}, {\"party\": \"democrat\", \"mx-missile\": 1}, {\"party\": \"republican\", \"mx-missile\": 0}, {\"party\": \"republican\", \"mx-missile\": 0}, {\"party\": \"democrat\", \"mx-missile\": 1}, {\"party\": \"republican\", \"mx-missile\": 0}, {\"party\": \"republican\", \"mx-missile\": 0}, {\"party\": \"democrat\", \"mx-missile\": 1}, {\"party\": \"republican\", \"mx-missile\": 0}, {\"party\": \"democrat\", \"mx-missile\": 1}, {\"party\": \"democrat\", \"mx-missile\": 0}, {\"party\": \"democrat\", \"mx-missile\": 1}, {\"party\": \"democrat\", \"mx-missile\": 1}, {\"party\": \"democrat\", \"mx-missile\": 1}, {\"party\": \"democrat\", \"mx-missile\": 1}, {\"party\": \"democrat\", \"mx-missile\": 1}, {\"party\": \"democrat\", \"mx-missile\": 1}, {\"party\": \"democrat\", \"mx-missile\": 1}, {\"party\": \"republican\", \"mx-missile\": 1}, {\"party\": \"democrat\", \"mx-missile\": 1}, {\"party\": \"republican\", \"mx-missile\": 0}, {\"party\": \"democrat\", \"mx-missile\": 1}, {\"party\": \"democrat\", \"mx-missile\": 1}, {\"party\": \"republican\", \"mx-missile\": 0}, {\"party\": \"democrat\", \"mx-missile\": 1}, {\"party\": \"republican\", \"mx-missile\": 0}, {\"party\": \"republican\", \"mx-missile\": 0}, {\"party\": \"republican\", \"mx-missile\": 0}, {\"party\": \"republican\", \"mx-missile\": 0}, {\"party\": \"democrat\", \"mx-missile\": 1}, {\"party\": \"democrat\", \"mx-missile\": 1}, {\"party\": \"democrat\", \"mx-missile\": 1}, {\"party\": \"democrat\", \"mx-missile\": 1}, {\"party\": \"democrat\", \"mx-missile\": 1}, {\"party\": \"democrat\", \"mx-missile\": 1}, {\"party\": \"democrat\", \"mx-missile\": 1}, {\"party\": \"democrat\", \"mx-missile\": 0}, {\"party\": \"republican\", \"mx-missile\": 0}, {\"party\": \"democrat\", \"mx-missile\": 1}, {\"party\": \"republican\", \"mx-missile\": 0}, {\"party\": \"democrat\", \"mx-missile\": 1}, {\"party\": \"republican\", \"mx-missile\": 0}, {\"party\": \"democrat\", \"mx-missile\": 0}, {\"party\": \"republican\", \"mx-missile\": 0}, {\"party\": \"republican\", \"mx-missile\": 0}, {\"party\": \"republican\", \"mx-missile\": 0}, {\"party\": \"republican\", \"mx-missile\": 0}, {\"party\": \"republican\", \"mx-missile\": 0}, {\"party\": \"democrat\", \"mx-missile\": 1}, {\"party\": \"republican\", \"mx-missile\": 0}, {\"party\": \"democrat\", \"mx-missile\": 1}, {\"party\": \"democrat\", \"mx-missile\": 1}, {\"party\": \"democrat\", \"mx-missile\": 1}, {\"party\": \"republican\", \"mx-missile\": 0}, {\"party\": \"republican\", \"mx-missile\": 0}, {\"party\": \"republican\", \"mx-missile\": 0}, {\"party\": \"democrat\", \"mx-missile\": 1}, {\"party\": \"democrat\", \"mx-missile\": 1}, {\"party\": \"democrat\", \"mx-missile\": 1}, {\"party\": \"republican\", \"mx-missile\": 1}, {\"party\": \"democrat\", \"mx-missile\": 1}, {\"party\": \"republican\", \"mx-missile\": 1}, {\"party\": \"democrat\", \"mx-missile\": 1}, {\"party\": \"democrat\", \"mx-missile\": 0}, {\"party\": \"democrat\", \"mx-missile\": 0}, {\"party\": \"democrat\", \"mx-missile\": 1}, {\"party\": \"democrat\", \"mx-missile\": 0}, {\"party\": \"republican\", \"mx-missile\": 0}, {\"party\": \"democrat\", \"mx-missile\": 1}, {\"party\": \"republican\", \"mx-missile\": 0}, {\"party\": \"republican\", \"mx-missile\": 0}, {\"party\": \"republican\", \"mx-missile\": 0}, {\"party\": \"democrat\", \"mx-missile\": 0}, {\"party\": \"republican\", \"mx-missile\": 0}, {\"party\": \"republican\", \"mx-missile\": 0}, {\"party\": \"democrat\", \"mx-missile\": 1}, {\"party\": \"republican\", \"mx-missile\": 0}, {\"party\": \"democrat\", \"mx-missile\": 1}, {\"party\": \"democrat\", \"mx-missile\": 1}, {\"party\": \"democrat\", \"mx-missile\": 0}, {\"party\": \"democrat\", \"mx-missile\": 1}, {\"party\": \"democrat\", \"mx-missile\": 0}, {\"party\": \"democrat\", \"mx-missile\": 0}, {\"party\": \"democrat\", \"mx-missile\": 0}, {\"party\": \"democrat\", \"mx-missile\": 1}, {\"party\": \"republican\", \"mx-missile\": 0}, {\"party\": \"democrat\", \"mx-missile\": 0}, {\"party\": \"democrat\", \"mx-missile\": 0}, {\"party\": \"democrat\", \"mx-missile\": 1}, {\"party\": \"democrat\", \"mx-missile\": 1}, {\"party\": \"republican\", \"mx-missile\": 0}, {\"party\": \"democrat\", \"mx-missile\": 1}, {\"party\": \"democrat\", \"mx-missile\": 1}, {\"party\": \"democrat\", \"mx-missile\": 1}, {\"party\": \"republican\", \"mx-missile\": 0}, {\"party\": \"democrat\", \"mx-missile\": 0}, {\"party\": \"republican\", \"mx-missile\": 0}, {\"party\": \"democrat\", \"mx-missile\": 1}, {\"party\": \"democrat\", \"mx-missile\": 1}, {\"party\": \"democrat\", \"mx-missile\": 1}, {\"party\": \"republican\", \"mx-missile\": 0}, {\"party\": \"democrat\", \"mx-missile\": 1}, {\"party\": \"republican\", \"mx-missile\": 0}, {\"party\": \"republican\", \"mx-missile\": 0}, {\"party\": \"republican\", \"mx-missile\": 0}, {\"party\": \"republican\", \"mx-missile\": 0}, {\"party\": \"republican\", \"mx-missile\": 0}, {\"party\": \"democrat\", \"mx-missile\": 1}, {\"party\": \"republican\", \"mx-missile\": 0}, {\"party\": \"republican\", \"mx-missile\": 0}, {\"party\": \"democrat\", \"mx-missile\": 1}, {\"party\": \"democrat\", \"mx-missile\": 0}, {\"party\": \"democrat\", \"mx-missile\": 1}, {\"party\": \"democrat\", \"mx-missile\": 1}, {\"party\": \"republican\", \"mx-missile\": 0}, {\"party\": \"republican\", \"mx-missile\": 0}, {\"party\": \"republican\", \"mx-missile\": 0}, {\"party\": \"republican\", \"mx-missile\": 0}, {\"party\": \"republican\", \"mx-missile\": 0}, {\"party\": \"democrat\", \"mx-missile\": 1}, {\"party\": \"democrat\", \"mx-missile\": 1}, {\"party\": \"democrat\", \"mx-missile\": 1}, {\"party\": \"republican\", \"mx-missile\": 1}, {\"party\": \"republican\", \"mx-missile\": 1}, {\"party\": \"republican\", \"mx-missile\": 1}, {\"party\": \"democrat\", \"mx-missile\": 1}, {\"party\": \"democrat\", \"mx-missile\": 1}, {\"party\": \"democrat\", \"mx-missile\": 1}, {\"party\": \"republican\", \"mx-missile\": 0}, {\"party\": \"democrat\", \"mx-missile\": 1}, {\"party\": \"republican\", \"mx-missile\": 0}, {\"party\": \"democrat\", \"mx-missile\": 1}, {\"party\": \"republican\", \"mx-missile\": 0}, {\"party\": \"democrat\", \"mx-missile\": 1}, {\"party\": \"democrat\", \"mx-missile\": 1}, {\"party\": \"democrat\", \"mx-missile\": 1}, {\"party\": \"republican\", \"mx-missile\": 0}, {\"party\": \"republican\", \"mx-missile\": 0}, {\"party\": \"republican\", \"mx-missile\": 0}, {\"party\": \"democrat\", \"mx-missile\": 1}, {\"party\": \"republican\", \"mx-missile\": 0}, {\"party\": \"democrat\", \"mx-missile\": 1}, {\"party\": \"democrat\", \"mx-missile\": 0}, {\"party\": \"democrat\", \"mx-missile\": 0}, {\"party\": \"democrat\", \"mx-missile\": 0}, {\"party\": \"republican\", \"mx-missile\": 0}, {\"party\": \"democrat\", \"mx-missile\": 0}, {\"party\": \"democrat\", \"mx-missile\": 1}, {\"party\": \"republican\", \"mx-missile\": 0}, {\"party\": \"republican\", \"mx-missile\": 0}, {\"party\": \"democrat\", \"mx-missile\": 1}, {\"party\": \"democrat\", \"mx-missile\": 1}, {\"party\": \"democrat\", \"mx-missile\": 1}, {\"party\": \"republican\", \"mx-missile\": 0}, {\"party\": \"democrat\", \"mx-missile\": 1}, {\"party\": \"democrat\", \"mx-missile\": 0}, {\"party\": \"democrat\", \"mx-missile\": 1}, {\"party\": \"democrat\", \"mx-missile\": 1}, {\"party\": \"republican\", \"mx-missile\": 1}, {\"party\": \"democrat\", \"mx-missile\": 1}, {\"party\": \"democrat\", \"mx-missile\": 1}, {\"party\": \"democrat\", \"mx-missile\": 1}, {\"party\": \"democrat\", \"mx-missile\": 1}, {\"party\": \"democrat\", \"mx-missile\": 1}, {\"party\": \"democrat\", \"mx-missile\": 1}, {\"party\": \"democrat\", \"mx-missile\": 1}, {\"party\": \"democrat\", \"mx-missile\": 1}, {\"party\": \"democrat\", \"mx-missile\": 1}, {\"party\": \"democrat\", \"mx-missile\": 1}, {\"party\": \"democrat\", \"mx-missile\": 1}, {\"party\": \"republican\", \"mx-missile\": 0}, {\"party\": \"democrat\", \"mx-missile\": 1}, {\"party\": \"republican\", \"mx-missile\": 0}, {\"party\": \"republican\", \"mx-missile\": 0}, {\"party\": \"democrat\", \"mx-missile\": 1}, {\"party\": \"democrat\", \"mx-missile\": 1}, {\"party\": \"democrat\", \"mx-missile\": 1}, {\"party\": \"republican\", \"mx-missile\": 0}, {\"party\": \"democrat\", \"mx-missile\": 1}, {\"party\": \"republican\", \"mx-missile\": 0}, {\"party\": \"democrat\", \"mx-missile\": 1}, {\"party\": \"democrat\", \"mx-missile\": 1}, {\"party\": \"democrat\", \"mx-missile\": 1}, {\"party\": \"democrat\", \"mx-missile\": 1}, {\"party\": \"democrat\", \"mx-missile\": 1}, {\"party\": \"republican\", \"mx-missile\": 0}, {\"party\": \"democrat\", \"mx-missile\": 1}, {\"party\": \"republican\", \"mx-missile\": 0}, {\"party\": \"republican\", \"mx-missile\": 0}, {\"party\": \"democrat\", \"mx-missile\": 1}, {\"party\": \"democrat\", \"mx-missile\": 1}, {\"party\": \"democrat\", \"mx-missile\": 1}, {\"party\": \"republican\", \"mx-missile\": 0}, {\"party\": \"democrat\", \"mx-missile\": 1}, {\"party\": \"democrat\", \"mx-missile\": 1}, {\"party\": \"republican\", \"mx-missile\": 0}, {\"party\": \"democrat\", \"mx-missile\": 0}, {\"party\": \"republican\", \"mx-missile\": 0}, {\"party\": \"democrat\", \"mx-missile\": 1}, {\"party\": \"democrat\", \"mx-missile\": 1}, {\"party\": \"democrat\", \"mx-missile\": 1}, {\"party\": \"democrat\", \"mx-missile\": 0}, {\"party\": \"democrat\", \"mx-missile\": 1}, {\"party\": \"republican\", \"mx-missile\": 0}, {\"party\": \"republican\", \"mx-missile\": 0}, {\"party\": \"republican\", \"mx-missile\": 0}, {\"party\": \"democrat\", \"mx-missile\": 1}, {\"party\": \"democrat\", \"mx-missile\": 1}, {\"party\": \"republican\", \"mx-missile\": 0}, {\"party\": \"republican\", \"mx-missile\": 1}, {\"party\": \"republican\", \"mx-missile\": 0}, {\"party\": \"republican\", \"mx-missile\": 1}, {\"party\": \"democrat\", \"mx-missile\": 0}, {\"party\": \"republican\", \"mx-missile\": 0}, {\"party\": \"democrat\", \"mx-missile\": 1}, {\"party\": \"republican\", \"mx-missile\": 0}, {\"party\": \"democrat\", \"mx-missile\": 1}, {\"party\": \"democrat\", \"mx-missile\": 0}, {\"party\": \"republican\", \"mx-missile\": 0}, {\"party\": \"republican\", \"mx-missile\": 1}, {\"party\": \"democrat\", \"mx-missile\": 1}, {\"party\": \"republican\", \"mx-missile\": 0}, {\"party\": \"democrat\", \"mx-missile\": 1}, {\"party\": \"democrat\", \"mx-missile\": 1}, {\"party\": \"democrat\", \"mx-missile\": 1}, {\"party\": \"republican\", \"mx-missile\": 0}, {\"party\": \"republican\", \"mx-missile\": 0}, {\"party\": \"republican\", \"mx-missile\": 0}, {\"party\": \"democrat\", \"mx-missile\": 1}, {\"party\": \"republican\", \"mx-missile\": 0}, {\"party\": \"democrat\", \"mx-missile\": 1}, {\"party\": \"democrat\", \"mx-missile\": 1}, {\"party\": \"republican\", \"mx-missile\": 0}, {\"party\": \"republican\", \"mx-missile\": 0}, {\"party\": \"democrat\", \"mx-missile\": 1}, {\"party\": \"democrat\", \"mx-missile\": 1}, {\"party\": \"democrat\", \"mx-missile\": 1}, {\"party\": \"democrat\", \"mx-missile\": 1}, {\"party\": \"democrat\", \"mx-missile\": 1}, {\"party\": \"democrat\", \"mx-missile\": 1}, {\"party\": \"democrat\", \"mx-missile\": 1}, {\"party\": \"democrat\", \"mx-missile\": 1}, {\"party\": \"republican\", \"mx-missile\": 0}, {\"party\": \"republican\", \"mx-missile\": 1}, {\"party\": \"democrat\", \"mx-missile\": 1}, {\"party\": \"democrat\", \"mx-missile\": 1}, {\"party\": \"democrat\", \"mx-missile\": 1}, {\"party\": \"democrat\", \"mx-missile\": 1}, {\"party\": \"democrat\", \"mx-missile\": 1}, {\"party\": \"republican\", \"mx-missile\": 0}, {\"party\": \"republican\", \"mx-missile\": 0}, {\"party\": \"democrat\", \"mx-missile\": 0}, {\"party\": \"republican\", \"mx-missile\": 0}, {\"party\": \"republican\", \"mx-missile\": 0}, {\"party\": \"republican\", \"mx-missile\": 0}, {\"party\": \"republican\", \"mx-missile\": 0}, {\"party\": \"democrat\", \"mx-missile\": 1}, {\"party\": \"republican\", \"mx-missile\": 0}, {\"party\": \"republican\", \"mx-missile\": 0}, {\"party\": \"republican\", \"mx-missile\": 0}, {\"party\": \"democrat\", \"mx-missile\": 1}, {\"party\": \"democrat\", \"mx-missile\": 1}, {\"party\": \"democrat\", \"mx-missile\": 1}, {\"party\": \"democrat\", \"mx-missile\": 0}, {\"party\": \"democrat\", \"mx-missile\": 0}, {\"party\": \"democrat\", \"mx-missile\": 1}, {\"party\": \"democrat\", \"mx-missile\": 1}, {\"party\": \"democrat\", \"mx-missile\": 0}, {\"party\": \"democrat\", \"mx-missile\": 1}, {\"party\": \"democrat\", \"mx-missile\": 0}, {\"party\": \"republican\", \"mx-missile\": 0}, {\"party\": \"republican\", \"mx-missile\": 0}, {\"party\": \"democrat\", \"mx-missile\": 1}, {\"party\": \"democrat\", \"mx-missile\": 1}, {\"party\": \"democrat\", \"mx-missile\": 1}, {\"party\": \"republican\", \"mx-missile\": 1}, {\"party\": \"democrat\", \"mx-missile\": 1}, {\"party\": \"republican\", \"mx-missile\": 0}, {\"party\": \"republican\", \"mx-missile\": 0}, {\"party\": \"republican\", \"mx-missile\": 0}, {\"party\": \"republican\", \"mx-missile\": 0}, {\"party\": \"republican\", \"mx-missile\": 0}, {\"party\": \"democrat\", \"mx-missile\": 1}, {\"party\": \"republican\", \"mx-missile\": 0}, {\"party\": \"democrat\", \"mx-missile\": 1}, {\"party\": \"republican\", \"mx-missile\": 0}, {\"party\": \"democrat\", \"mx-missile\": 1}, {\"party\": \"democrat\", \"mx-missile\": 1}, {\"party\": \"republican\", \"mx-missile\": 0}, {\"party\": \"republican\", \"mx-missile\": 0}, {\"party\": \"republican\", \"mx-missile\": 0}, {\"party\": \"democrat\", \"mx-missile\": 1}, {\"party\": \"democrat\", \"mx-missile\": 1}, {\"party\": \"democrat\", \"mx-missile\": 1}, {\"party\": \"democrat\", \"mx-missile\": 1}, {\"party\": \"democrat\", \"mx-missile\": 1}, {\"party\": \"democrat\", \"mx-missile\": 1}, {\"party\": \"democrat\", \"mx-missile\": 0}, {\"party\": \"republican\", \"mx-missile\": 0}, {\"party\": \"democrat\", \"mx-missile\": 1}, {\"party\": \"republican\", \"mx-missile\": 0}, {\"party\": \"democrat\", \"mx-missile\": 1}, {\"party\": \"democrat\", \"mx-missile\": 1}, {\"party\": \"republican\", \"mx-missile\": 0}, {\"party\": \"democrat\", \"mx-missile\": 1}, {\"party\": \"democrat\", \"mx-missile\": 1}, {\"party\": \"democrat\", \"mx-missile\": 1}, {\"party\": \"republican\", \"mx-missile\": 0}, {\"party\": \"democrat\", \"mx-missile\": 0}, {\"party\": \"democrat\", \"mx-missile\": 1}, {\"party\": \"democrat\", \"mx-missile\": 1}, {\"party\": \"republican\", \"mx-missile\": 0}, {\"party\": \"republican\", \"mx-missile\": 0}, {\"party\": \"democrat\", \"mx-missile\": 1}, {\"party\": \"democrat\", \"mx-missile\": 0}, {\"party\": \"republican\", \"mx-missile\": 1}, {\"party\": \"democrat\", \"mx-missile\": 1}, {\"party\": \"republican\", \"mx-missile\": 0}, {\"party\": \"republican\", \"mx-missile\": 0}, {\"party\": \"republican\", \"mx-missile\": 0}, {\"party\": \"democrat\", \"mx-missile\": 1}, {\"party\": \"republican\", \"mx-missile\": 1}, {\"party\": \"democrat\", \"mx-missile\": 1}, {\"party\": \"republican\", \"mx-missile\": 1}, {\"party\": \"democrat\", \"mx-missile\": 1}, {\"party\": \"republican\", \"mx-missile\": 0}, {\"party\": \"democrat\", \"mx-missile\": 1}, {\"party\": \"republican\", \"mx-missile\": 1}, {\"party\": \"republican\", \"mx-missile\": 0}, {\"party\": \"republican\", \"mx-missile\": 0}, {\"party\": \"democrat\", \"mx-missile\": 1}, {\"party\": \"republican\", \"mx-missile\": 0}, {\"party\": \"democrat\", \"mx-missile\": 1}, {\"party\": \"democrat\", \"mx-missile\": 1}, {\"party\": \"democrat\", \"mx-missile\": 1}, {\"party\": \"republican\", \"mx-missile\": 0}, {\"party\": \"republican\", \"mx-missile\": 0}, {\"party\": \"democrat\", \"mx-missile\": 0}, {\"party\": \"democrat\", \"mx-missile\": 0}, {\"party\": \"democrat\", \"mx-missile\": 0}, {\"party\": \"democrat\", \"mx-missile\": 0}, {\"party\": \"republican\", \"mx-missile\": 0}, {\"party\": \"democrat\", \"mx-missile\": 0}, {\"party\": \"democrat\", \"mx-missile\": 1}, {\"party\": \"democrat\", \"mx-missile\": 0}, {\"party\": \"democrat\", \"mx-missile\": 0}, {\"party\": \"republican\", \"mx-missile\": 0}, {\"party\": \"democrat\", \"mx-missile\": 0}, {\"party\": \"democrat\", \"mx-missile\": 1}, {\"party\": \"republican\", \"mx-missile\": 0}, {\"party\": \"republican\", \"mx-missile\": 0}, {\"party\": \"republican\", \"mx-missile\": 0}, {\"party\": \"democrat\", \"mx-missile\": 1}, {\"party\": \"democrat\", \"mx-missile\": 1}, {\"party\": \"democrat\", \"mx-missile\": 0}, {\"party\": \"democrat\", \"mx-missile\": 1}, {\"party\": \"democrat\", \"mx-missile\": 0}, {\"party\": \"democrat\", \"mx-missile\": 0}, {\"party\": \"democrat\", \"mx-missile\": 0}, {\"party\": \"democrat\", \"mx-missile\": 1}, {\"party\": \"democrat\", \"mx-missile\": 0}, {\"party\": \"democrat\", \"mx-missile\": 1}, {\"party\": \"democrat\", \"mx-missile\": 0}, {\"party\": \"democrat\", \"mx-missile\": 1}, {\"party\": \"republican\", \"mx-missile\": 0}, {\"party\": \"republican\", \"mx-missile\": 1}, {\"party\": \"democrat\", \"mx-missile\": 0}, {\"party\": \"democrat\", \"mx-missile\": 0}, {\"party\": \"democrat\", \"mx-missile\": 0}, {\"party\": \"democrat\", \"mx-missile\": 0}, {\"party\": \"democrat\", \"mx-missile\": 0}, {\"party\": \"republican\", \"mx-missile\": 0}, {\"party\": \"republican\", \"mx-missile\": 0}, {\"party\": \"republican\", \"mx-missile\": 0}, {\"party\": \"republican\", \"mx-missile\": 1}, {\"party\": \"republican\", \"mx-missile\": 0}, {\"party\": \"republican\", \"mx-missile\": 0}, {\"party\": \"republican\", \"mx-missile\": 0}, {\"party\": \"democrat\", \"mx-missile\": 1}, {\"party\": \"democrat\", \"mx-missile\": 0}, {\"party\": \"democrat\", \"mx-missile\": 1}, {\"party\": \"republican\", \"mx-missile\": 0}, {\"party\": \"republican\", \"mx-missile\": 0}, {\"party\": \"democrat\", \"mx-missile\": 1}, {\"party\": \"republican\", \"mx-missile\": 0}, {\"party\": \"republican\", \"mx-missile\": 0}, {\"party\": \"democrat\", \"mx-missile\": 1}, {\"party\": \"republican\", \"mx-missile\": 0}, {\"party\": \"democrat\", \"mx-missile\": 1}, {\"party\": \"democrat\", \"mx-missile\": 0}, {\"party\": \"democrat\", \"mx-missile\": 1}, {\"party\": \"republican\", \"mx-missile\": 0}, {\"party\": \"democrat\", \"mx-missile\": 0}, {\"party\": \"democrat\", \"mx-missile\": 1}, {\"party\": \"democrat\", \"mx-missile\": 1}, {\"party\": \"democrat\", \"mx-missile\": 1}, {\"party\": \"democrat\", \"mx-missile\": 0}, {\"party\": \"democrat\", \"mx-missile\": 1}, {\"party\": \"republican\", \"mx-missile\": 0}, {\"party\": \"democrat\", \"mx-missile\": 1}, {\"party\": \"democrat\", \"mx-missile\": 1}, {\"party\": \"republican\", \"mx-missile\": 1}, {\"party\": \"democrat\", \"mx-missile\": 1}, {\"party\": \"republican\", \"mx-missile\": 0}, {\"party\": \"republican\", \"mx-missile\": 0}]}}, {\"mode\": \"vega-lite\"});\n",
              "</script>"
            ]
          },
          "metadata": {
            "tags": []
          },
          "execution_count": 36
        }
      ]
    },
    {
      "cell_type": "markdown",
      "metadata": {
        "id": "uWgWjp3PQ3Sq",
        "colab_type": "text"
      },
      "source": [
        "## Resources"
      ]
    },
    {
      "cell_type": "markdown",
      "metadata": {
        "id": "QRgHqmYIQ9qn",
        "colab_type": "text"
      },
      "source": [
        "- [Worked example of Bayes rule calculation](https://en.wikipedia.org/wiki/Bayes'_theorem#Examples) (helpful as it fully breaks out the denominator)\n",
        "- [Source code for mvsdist in scipy](https://github.com/scipy/scipy/blob/90534919e139d2a81c24bf08341734ff41a3db12/scipy/stats/morestats.py#L139)"
      ]
    },
    {
      "cell_type": "markdown",
      "metadata": {
        "id": "GP7Jv1XvwtkX",
        "colab_type": "text"
      },
      "source": [
        "## Stretch Goals:\n",
        "\n",
        "- Go back and study the content from Modules 1 & 2 to make sure that you're really comfortable with them.\n",
        "- Apply a Bayesian technique to a problem you previously worked (in an assignment or project work) on from a frequentist (standard) perspective\n",
        "- Check out [PyMC3](https://docs.pymc.io/) (note this goes beyond hypothesis tests into modeling) - read the guides and work through some examples\n",
        "- Take PyMC3 further - see if you can build something with it!"
      ]
    },
    {
      "cell_type": "code",
      "metadata": {
        "id": "iDi0eFr1x-v_",
        "colab_type": "code",
        "colab": {}
      },
      "source": [
        ""
      ],
      "execution_count": 0,
      "outputs": []
    }
  ]
}