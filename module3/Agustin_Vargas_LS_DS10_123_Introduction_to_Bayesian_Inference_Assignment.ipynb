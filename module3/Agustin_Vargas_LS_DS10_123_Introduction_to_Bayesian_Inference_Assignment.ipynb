{
  "nbformat": 4,
  "nbformat_minor": 0,
  "metadata": {
    "colab": {
      "name": "Agustin Vargas-LS_DS10_123_Introduction_to_Bayesian_Inference_Assignment.ipynb",
      "provenance": [],
      "collapsed_sections": [
        "uWgWjp3PQ3Sq",
        "GP7Jv1XvwtkX"
      ],
      "include_colab_link": true
    },
    "kernelspec": {
      "name": "python3",
      "display_name": "Python 3"
    }
  },
  "cells": [
    {
      "cell_type": "markdown",
      "metadata": {
        "id": "view-in-github",
        "colab_type": "text"
      },
      "source": [
        "<a href=\"https://colab.research.google.com/github/AVData/DS-Unit-1-Sprint-2-Statistics/blob/master/module3/Agustin_Vargas_LS_DS10_123_Introduction_to_Bayesian_Inference_Assignment.ipynb\" target=\"_parent\"><img src=\"https://colab.research.google.com/assets/colab-badge.svg\" alt=\"Open In Colab\"/></a>"
      ]
    },
    {
      "cell_type": "markdown",
      "metadata": {
        "id": "H7OLbevlbd_Z",
        "colab_type": "text"
      },
      "source": [
        "# Lambda School Data Science Module 123\n",
        "\n",
        "## Introduction to Bayesian Inference\n",
        "\n",
        "\n"
      ]
    },
    {
      "cell_type": "markdown",
      "metadata": {
        "id": "P-DzzRk5bf0z",
        "colab_type": "text"
      },
      "source": [
        "## Assignment - Code it up!\n",
        "\n",
        "We used pure math to apply Bayes Theorem to drug tests. Now write Python code to reproduce the results! This is purposefully open ended - you'll have to think about how you should represent probabilities and events. You can and should look things up.\n",
        "\n",
        "Specific goals/targets:\n",
        "\n",
        "### 1) Write a function \n",
        "\n",
        "`def prob_drunk_given_positive(prob_drunk_prior, false_positive_rate, true_positive_rate):` \n",
        "\n",
        "You should only truly need these two values in order to apply Bayes Theorem. In this example, imagine that individuals are taking a breathalyzer test with an 8% false positive rate, a 100% true positive rate, and that our prior belief about drunk driving in the population is 1/1000. \n",
        " - What is the probability that a person is drunk after one positive breathalyzer test?\n",
        " - What is the probability that a person is drunk after two positive breathalyzer tests?\n",
        " - How many positive breathalyzer tests are needed in order to have a probability that's greater than 95% that a person is drunk beyond the legal limit?\n",
        "\n",
        "### 2) Explore `scipy.stats.bayes_mvs`  \n",
        "Read its documentation, and experiment with it on data you've tested in other ways earlier this week.\n",
        " - Create a visualization comparing the results of a Bayesian approach to a traditional/frequentist approach. (with a large sample size they should look close to identical, however, take this opportunity to practice visualizing condfidence intervals in general. The following are some potential ways that you could visualize confidence intervals on your graph:\n",
        "  - [Matplotlib Error Bars](https://matplotlib.org/3.1.1/api/_as_gen/matplotlib.pyplot.errorbar.html)\n",
        "  - [Seaborn barplot with error bars](https://seaborn.pydata.org/generated/seaborn.barplot.html)\n",
        "  - [Vertical ines to show bounds of confidence interval](https://www.simplypsychology.org/confidence-interval.jpg)\n",
        "  - [Confidence Intervals on Box Plots](https://matplotlib.org/3.1.1/api/_as_gen/matplotlib.axes.Axes.boxplot.html)\n",
        "\n",
        "### 3) In your own words, summarize the difference between Bayesian and Frequentist statistics\n",
        "\n",
        "If you're unsure where to start, check out [this blog post of Bayes theorem with Python](https://dataconomy.com/2015/02/introduction-to-bayes-theorem-with-python/).\n",
        "\n"
      ]
    },
    {
      "cell_type": "markdown",
      "metadata": {
        "id": "eL0suDknwJae",
        "colab_type": "text"
      },
      "source": [
        "#**1) Writing a Function**\n",
        "*  find a way to write the following function:\n",
        "```\n",
        "def prob_drunk_given_positive(prob_drunk_prior, false_positive_rate)\n",
        "```\n",
        "\n",
        "***Givens:**\n",
        "\n",
        "  -8% False positive Rate\n",
        "\n",
        "  -100% True positive Rate\n",
        "\n",
        "  -Prior Believe to be applied: population drunk drivers 1/1000\n",
        "\n",
        "***Questions to answer:**\n",
        "\n",
        "  -probability of drunk person after 1 brethalizer?\n",
        "\n",
        "  -probability of drunk person after 2 brethalizers?\n",
        "\n",
        "  -How many tests to have a probability greater than 95% that a person drunk beyond the legal limit?\n",
        "\n"
      ]
    },
    {
      "cell_type": "code",
      "metadata": {
        "id": "hu9il02Nyygx",
        "colab_type": "code",
        "colab": {}
      },
      "source": [
        "# Creating our variables to be used in formula\n",
        "# Formula must contain prob_drunk_prior, and false_positive_rate as parameters\n",
        "\n",
        "prob_drunk_prior = 1/1000\n",
        "prob_pos_given_not_drunk = .08  # False Positive\n",
        "prob_pos_given_drunk = 1  # True Positive\n",
        "prob_not_drunk_prior = 1 - prob_drunk_prior "
      ],
      "execution_count": 0,
      "outputs": []
    },
    {
      "cell_type": "code",
      "metadata": {
        "id": "YRQd2OkBjftd",
        "colab_type": "code",
        "colab": {}
      },
      "source": [
        "# Our parameters, and function givens\n",
        "\n",
        "# Following are non-changing variables\n",
        "# prob_not_drunk_prior\n",
        "# prob_pos_given_drunk\n",
        "\n",
        "# The following will be the changing variables\n",
        "# False Positive: prob_pos_given_not_drunk\n",
        "# Probability of Drunk Prior: prob_drunk_prior"
      ],
      "execution_count": 0,
      "outputs": []
    },
    {
      "cell_type": "code",
      "metadata": {
        "id": "kEu9Hb0Jk22k",
        "colab_type": "code",
        "colab": {
          "base_uri": "https://localhost:8080/",
          "height": 54
        },
        "outputId": "6005887d-645d-4808-a5fc-40d950533de5"
      },
      "source": [
        "# Appplyting Bayes theorem \n",
        "# 1st Brethalizer (Iteration)\n",
        "# \n",
        "# posterior probability:\n",
        "# \n",
        "# ((True Pos)(Prior Prob))\n",
        "#                  /\n",
        "# ((True Pos * Prior Prob) + (False Pos * Prior Prob Compliment))\n",
        "\n",
        "posterior_prob = (prob_pos_given_drunk*prob_drunk_prior)/((prob_pos_given_drunk*prob_drunk_prior)+(prob_pos_given_not_drunk*prob_not_drunk_prior))\n",
        "posterior_prob"
      ],
      "execution_count": 26,
      "outputs": [
        {
          "output_type": "execute_result",
          "data": {
            "text/plain": [
              "0.012357884330202669"
            ]
          },
          "metadata": {
            "tags": []
          },
          "execution_count": 26
        }
      ]
    },
    {
      "cell_type": "code",
      "metadata": {
        "id": "PyVsv4_ssM0e",
        "colab_type": "code",
        "colab": {
          "base_uri": "https://localhost:8080/",
          "height": 54
        },
        "outputId": "fb51ba0e-78b4-49cb-ec71-df7d78e13867"
      },
      "source": [
        "# 2nd Brethalizer (Iteration)\n",
        "\n",
        "prob_drunk_prior = posterior_prob\n",
        "prob_not_drunk_prior = 1 - prob_drunk_prior\n",
        "\n",
        "posterior_prob = (prob_pos_given_drunk*prob_drunk_prior)/((prob_pos_given_drunk*prob_drunk_prior)+(prob_pos_given_not_drunk*prob_not_drunk_prior))\n",
        "posterior_prob"
      ],
      "execution_count": 27,
      "outputs": [
        {
          "output_type": "execute_result",
          "data": {
            "text/plain": [
              "0.13525210993291495"
            ]
          },
          "metadata": {
            "tags": []
          },
          "execution_count": 27
        }
      ]
    },
    {
      "cell_type": "code",
      "metadata": {
        "id": "HFcflWg2tKAO",
        "colab_type": "code",
        "colab": {
          "base_uri": "https://localhost:8080/",
          "height": 54
        },
        "outputId": "9beeffda-6b16-4ce6-b723-b009888de778"
      },
      "source": [
        "# 3rd Brethalizer (Iteration)\n",
        "\n",
        "prob_drunk_prior = posterior_prob\n",
        "prob_not_drunk_prior = 1 - prob_drunk_prior\n",
        "\n",
        "posterior_prob = (prob_pos_given_drunk*prob_drunk_prior)/((prob_pos_given_drunk*prob_drunk_prior)+(prob_pos_given_not_drunk*prob_not_drunk_prior))\n",
        "posterior_prob"
      ],
      "execution_count": 28,
      "outputs": [
        {
          "output_type": "execute_result",
          "data": {
            "text/plain": [
              "0.6615996951348605"
            ]
          },
          "metadata": {
            "tags": []
          },
          "execution_count": 28
        }
      ]
    },
    {
      "cell_type": "code",
      "metadata": {
        "id": "e6oo9Qo9tVbY",
        "colab_type": "code",
        "colab": {
          "base_uri": "https://localhost:8080/",
          "height": 54
        },
        "outputId": "4a53f70f-7cec-436f-c80e-7cab7f622007"
      },
      "source": [
        "# 4th Brethalizer (Iteration)\n",
        "\n",
        "prob_drunk_prior = posterior_prob\n",
        "prob_not_drunk_prior = 1 - prob_drunk_prior\n",
        "\n",
        "posterior_prob = (prob_pos_given_drunk*prob_drunk_prior)/((prob_pos_given_drunk*prob_drunk_prior)+(prob_pos_given_not_drunk*prob_not_drunk_prior))\n",
        "posterior_prob"
      ],
      "execution_count": 29,
      "outputs": [
        {
          "output_type": "execute_result",
          "data": {
            "text/plain": [
              "0.9606895076105054"
            ]
          },
          "metadata": {
            "tags": []
          },
          "execution_count": 29
        }
      ]
    },
    {
      "cell_type": "code",
      "metadata": {
        "id": "RCZxenQNjP0h",
        "colab_type": "code",
        "colab": {
          "base_uri": "https://localhost:8080/",
          "height": 54
        },
        "outputId": "247a2fe5-7265-41eb-f419-e1d246202ef9"
      },
      "source": [
        "# Creating the function\n",
        "\n",
        "# in order to run a for loop on this function we must replace\n",
        "# 'prob_not_drunk_prior' to '1 - prob_drunk_prior'\n",
        "# this is due to the changing value of 'prob_drunk_prior'\n",
        "\n",
        "def prob_drunk_given_positive(prob_drunk_prior, false_positive_rate):\n",
        "  prob_drunk_prior = (prob_pos_given_drunk*prob_drunk_prior)/((prob_pos_given_drunk*prob_drunk_prior)+(false_positive_rate*(1-prob_drunk_prior)))\n",
        "  return prob_drunk_prior\n",
        "\n",
        "prob_drunk_given_positive((1/1000), .08)"
      ],
      "execution_count": 117,
      "outputs": [
        {
          "output_type": "execute_result",
          "data": {
            "text/plain": [
              "0.012357884330202669"
            ]
          },
          "metadata": {
            "tags": []
          },
          "execution_count": 117
        }
      ]
    },
    {
      "cell_type": "code",
      "metadata": {
        "id": "1HYIqHntwb-s",
        "colab_type": "code",
        "colab": {
          "base_uri": "https://localhost:8080/",
          "height": 104
        },
        "outputId": "01323a28-6aaf-4d75-ef59-b9dbb5a2c977"
      },
      "source": [
        "# Running a for loop to see how many tests it takes to gain a greater\n",
        "# 95% confident the person is drunk\n",
        "\n",
        "false_positive_rate = .08\n",
        "prob_drunk_prior = 1/1000\n",
        "for i in range(10):\n",
        "  prob_drunk_prior = (prob_drunk_given_positive(prob_drunk_prior, false_positive_rate))\n",
        "  if prob_drunk_prior > .97:\n",
        "    break\n",
        "  else:\n",
        "    print(f\"{prob_drunk_prior:.2f}\")\n",
        "    continue\n",
        "  "
      ],
      "execution_count": 134,
      "outputs": [
        {
          "output_type": "stream",
          "text": [
            "0.01\n",
            "0.14\n",
            "0.66\n",
            "0.96\n"
          ],
          "name": "stdout"
        }
      ]
    },
    {
      "cell_type": "markdown",
      "metadata": {
        "id": "uWgWjp3PQ3Sq",
        "colab_type": "text"
      },
      "source": [
        "## Resources"
      ]
    },
    {
      "cell_type": "markdown",
      "metadata": {
        "id": "QRgHqmYIQ9qn",
        "colab_type": "text"
      },
      "source": [
        "- [Worked example of Bayes rule calculation](https://en.wikipedia.org/wiki/Bayes'_theorem#Examples) (helpful as it fully breaks out the denominator)\n",
        "- [Source code for mvsdist in scipy](https://github.com/scipy/scipy/blob/90534919e139d2a81c24bf08341734ff41a3db12/scipy/stats/morestats.py#L139)"
      ]
    },
    {
      "cell_type": "markdown",
      "metadata": {
        "id": "GP7Jv1XvwtkX",
        "colab_type": "text"
      },
      "source": [
        "## Stretch Goals:\n",
        "\n",
        "- Go back and study the content from Modules 1 & 2 to make sure that you're really comfortable with them.\n",
        "- Apply a Bayesian technique to a problem you previously worked (in an assignment or project work) on from a frequentist (standard) perspective\n",
        "- Check out [PyMC3](https://docs.pymc.io/) (note this goes beyond hypothesis tests into modeling) - read the guides and work through some examples\n",
        "- Take PyMC3 further - see if you can build something with it!"
      ]
    },
    {
      "cell_type": "code",
      "metadata": {
        "id": "iDi0eFr1x-v_",
        "colab_type": "code",
        "colab": {}
      },
      "source": [
        ""
      ],
      "execution_count": 0,
      "outputs": []
    }
  ]
}