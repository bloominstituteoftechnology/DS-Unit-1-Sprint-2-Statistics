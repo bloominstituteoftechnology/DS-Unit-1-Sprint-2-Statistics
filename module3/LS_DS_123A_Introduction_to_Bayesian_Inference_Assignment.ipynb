{
  "nbformat": 4,
  "nbformat_minor": 0,
  "metadata": {
    "colab": {
      "name": "LS_DS_123A_Introduction_to_Bayesian_Inference_Assignment.ipynb",
      "provenance": [],
      "include_colab_link": true
    },
    "kernelspec": {
      "name": "python3",
      "display_name": "Python 3"
    }
  },
  "cells": [
    {
      "cell_type": "markdown",
      "metadata": {
        "id": "view-in-github",
        "colab_type": "text"
      },
      "source": [
        "<a href=\"https://colab.research.google.com/github/jacobpad/DS-Unit-1-Sprint-2-Statistics/blob/master/module3/LS_DS_123A_Introduction_to_Bayesian_Inference_Assignment.ipynb\" target=\"_parent\"><img src=\"https://colab.research.google.com/assets/colab-badge.svg\" alt=\"Open In Colab\"/></a>"
      ]
    },
    {
      "cell_type": "markdown",
      "metadata": {
        "id": "H7OLbevlbd_Z",
        "colab_type": "text"
      },
      "source": [
        "# Lambda School Data Science Module 123\n",
        "\n",
        "## Introduction to Bayesian Inference\n",
        "\n",
        "\n"
      ]
    },
    {
      "cell_type": "markdown",
      "metadata": {
        "id": "P-DzzRk5bf0z",
        "colab_type": "text"
      },
      "source": [
        "## Assignment - Code it up!\n",
        "\n",
        "We used pure math to apply Bayes Theorem to drug tests. Now write Python code to reproduce the results! This is purposefully open ended - you'll have to think about how you should represent probabilities and events. You can and should look things up.\n",
        "\n",
        "Specific goals/targets:\n",
        "\n",
        "### 1) Write a function \n",
        "\n",
        "`def prob_drunk_given_positive(prob_drunk_prior, false_positive_rate):` \n",
        "\n",
        "You should only truly need these two values in order to apply Bayes Theorem. In this example, imagine that individuals are taking a breathalyzer test with an 8% false positive rate, a 100% true positive rate, and that our prior belief about drunk driving in the population is 1/1000. \n",
        " - What is the probability that a person is drunk after one positive breathalyzer test?\n",
        " - What is the probability that a person is drunk after two positive breathalyzer tests?\n",
        " - How many positive breathalyzer tests are needed in order to have a probability that's greater than 95% that a person is drunk beyond the legal limit?\n",
        "\n",
        "### 2) Explore `scipy.stats.bayes_mvs`  \n",
        "Read its documentation, and experiment with it on data you've tested in other ways earlier this week.\n",
        " - Create a visualization comparing the results of a Bayesian approach to a traditional/frequentist approach. (with a large sample size they should look close to identical, however, take this opportunity to practice visualizing condfidence intervals in general. The following are some potential ways that you could visualize confidence intervals on your graph:\n",
        "  - [Matplotlib Error Bars](https://matplotlib.org/3.1.1/api/_as_gen/matplotlib.pyplot.errorbar.html)\n",
        "  - [Seaborn barplot with error bars](https://seaborn.pydata.org/generated/seaborn.barplot.html)\n",
        "  - [Vertical ines to show bounds of confidence interval](https://www.simplypsychology.org/confidence-interval.jpg)\n",
        "  - [Confidence Intervals on Box Plots](https://matplotlib.org/3.1.1/api/_as_gen/matplotlib.axes.Axes.boxplot.html)\n",
        "\n",
        "### 3) In your own words, summarize the difference between Bayesian and Frequentist statistics\n",
        "\n",
        "If you're unsure where to start, check out [this blog post of Bayes theorem with Python](https://dataconomy.com/2015/02/introduction-to-bayes-theorem-with-python/).\n",
        "\n"
      ]
    },
    {
      "cell_type": "code",
      "metadata": {
        "id": "xpVhZyUnbf7o",
        "colab_type": "code",
        "colab": {}
      },
      "source": [
        "# TODO - code!"
      ],
      "execution_count": 0,
      "outputs": []
    },
    {
      "cell_type": "markdown",
      "metadata": {
        "id": "rn1fM6Mnh8OG",
        "colab_type": "text"
      },
      "source": [
        "# Part 1"
      ]
    },
    {
      "cell_type": "code",
      "metadata": {
        "id": "_1jP0WG1F_I2",
        "colab_type": "code",
        "colab": {
          "base_uri": "https://localhost:8080/",
          "height": 34
        },
        "outputId": "f45dd2e9-7879-46b3-9916-92e394f40044"
      },
      "source": [
        "# Set the variables \n",
        "\n",
        "# True positive\n",
        "true_positive = 1 # Will always be 100%, or 1\n",
        "# Prior probability\n",
        "prior_probability = 1/1000 # Comes from the question/problem/assignment\n",
        "# False pos rate\n",
        "false_positive_rate= .08 # Comes from the question/problem/assignment\n",
        "# Compliment probability\n",
        "compliment_probability = 1 - prior_probability # 999/1000 \n",
        "\n",
        "print('Variables set according to the question above.')"
      ],
      "execution_count": 1,
      "outputs": [
        {
          "output_type": "stream",
          "text": [
            "Variables set according to the question above.\n"
          ],
          "name": "stdout"
        }
      ]
    },
    {
      "cell_type": "code",
      "metadata": {
        "id": "71CgsJ0NdFwq",
        "colab_type": "code",
        "colab": {
          "base_uri": "https://localhost:8080/",
          "height": 87
        },
        "outputId": "8364935d-127f-4310-915b-f6c5106e6a25"
      },
      "source": [
        "# Function\n",
        "def prob_drunk_given_positive(prob_drunk_prior, false_positive_rate, true_positive_rate):\n",
        "  count = 0\n",
        "  while(count < 1):\n",
        "    count+=1\n",
        "    compliment_probability = 1 - prob_drunk_prior  \n",
        "    prob_drunk_prior = (true_positive_rate * prob_drunk_prior) / ((true_positive_rate * prob_drunk_prior) + (false_positive_rate * compliment_probability))\n",
        "  print('Runs',count,'times')\n",
        "  return(print('What is the probability that a person is drunk after one positive breathalyzer test?\\nThe probability is:', prob_drunk_prior,'\\nOr',prob_drunk_prior*100,'%'))  \n",
        "\n",
        "prob_drunk_given_positive(prior_probability, false_positive_rate, true_positive)"
      ],
      "execution_count": 2,
      "outputs": [
        {
          "output_type": "stream",
          "text": [
            "Runs 1 times\n",
            "What is the probability that a person is drunk after one positive breathalyzer test?\n",
            "The probability is: 0.012357884330202669 \n",
            "Or 1.2357884330202669 %\n"
          ],
          "name": "stdout"
        }
      ]
    },
    {
      "cell_type": "code",
      "metadata": {
        "id": "aOMO9EFJ6WYF",
        "colab_type": "code",
        "colab": {
          "base_uri": "https://localhost:8080/",
          "height": 87
        },
        "outputId": "2070eeac-64e9-4f31-b25a-f08443906054"
      },
      "source": [
        "# Function\n",
        "def prob_drunk_given_positive(prob_drunk_prior, false_positive_rate, true_positive_rate):\n",
        "  count = 0\n",
        "  while(count < 2):\n",
        "    count+=1\n",
        "    compliment_probability = 1 - prob_drunk_prior\n",
        "    prob_drunk_prior = (true_positive_rate * prob_drunk_prior) / ((true_positive_rate * prob_drunk_prior) + (false_positive_rate * compliment_probability))\n",
        "  print('Runs',count,'times')\n",
        "  return(print('What is the probability that a person is drunk after two positive breathalyzer tests?\\nThe probability is:', prob_drunk_prior,'\\nOr',prob_drunk_prior*100,'%'))\n",
        "\n",
        "prob_drunk_given_positive(prior_probability, false_positive_rate, true_positive)"
      ],
      "execution_count": 3,
      "outputs": [
        {
          "output_type": "stream",
          "text": [
            "Runs 2 times\n",
            "What is the probability that a person is drunk after two positive breathalyzer tests?\n",
            "The probability is: 0.13525210993291495 \n",
            "Or 13.525210993291495 %\n"
          ],
          "name": "stdout"
        }
      ]
    },
    {
      "cell_type": "code",
      "metadata": {
        "id": "d0VuFvM9g5Zs",
        "colab_type": "code",
        "colab": {
          "base_uri": "https://localhost:8080/",
          "height": 87
        },
        "outputId": "e11041b6-146a-4437-c89f-8de50692fb38"
      },
      "source": [
        "\n",
        "# Function\n",
        "def prob_drunk_given_positive(prob_drunk_prior, false_positive_rate, true_positive_rate):\n",
        "  count = 0\n",
        "  while(count < 4):\n",
        "    count+=1\n",
        "    compliment_probability = 1 - prob_drunk_prior\n",
        "    prob_drunk_prior = (true_positive_rate * prob_drunk_prior) / ((true_positive_rate * prob_drunk_prior) + (false_positive_rate * compliment_probability))\n",
        "  print('Runs',count,'times')\n",
        "  return(print('How many positive breathalyzer tests are needed in order to have a probability that\\'s \\ngreater than 95% that a person is drunk beyond the legal limit?', prob_drunk_prior,'\\nOr',prob_drunk_prior*100,'%'))\n",
        "\n",
        "prob_drunk_given_positive(prior_probability, false_positive_rate, true_positive)"
      ],
      "execution_count": 4,
      "outputs": [
        {
          "output_type": "stream",
          "text": [
            "Runs 4 times\n",
            "How many positive breathalyzer tests are needed in order to have a probability that's \n",
            "greater than 95% that a person is drunk beyond the legal limit? 0.9606895076105054 \n",
            "Or 96.06895076105054 %\n"
          ],
          "name": "stdout"
        }
      ]
    },
    {
      "cell_type": "markdown",
      "metadata": {
        "id": "g-tEmeMaiFRA",
        "colab_type": "text"
      },
      "source": [
        "# Part 2"
      ]
    },
    {
      "cell_type": "code",
      "metadata": {
        "id": "VpAFlH12ijBX",
        "colab_type": "code",
        "colab": {
          "base_uri": "https://localhost:8080/",
          "height": 510
        },
        "outputId": "6f784872-1ac3-4a06-c5fd-9209e4bdc7d0"
      },
      "source": [
        "# imports\n",
        "import pandas as pd\n",
        "import matplotlib.pyplot as plt\n",
        "import numpy as np\n",
        "import seaborn as sns\n",
        "import scipy.stats as stats\n",
        "# lets start by importing with !wget\n",
        "!wget 'https://archive.ics.uci.edu/ml/machine-learning-databases/voting-records/house-votes-84.data'\n",
        "\n",
        "column_headers = ['party', 'handicapped-infants', 'water-project', \n",
        "'budget', 'physician-fee-freeze', 'el-salvador-aid', 'religious-groups', \n",
        "'anti-satellite-ban', 'aid-to-contras', 'mx-missile', 'immigration', \n",
        "'synfuels', 'education', 'right-to-sue', 'crime', 'duty-free', \n",
        "'south-africa']\n",
        "\n",
        "# turn it into a df and fix it up really quick\n",
        "df = pd.read_csv('house-votes-84.data', header=None, names=column_headers, na_values='?')\n",
        "\n",
        "# make em numeric (y:1, n:0)\n",
        "df = df.replace({'y':1, 'n':0})\n",
        "\n",
        "# split em into parties\n",
        "rep = df[df['party'] == 'republican'].drop('party', axis=1) #[column_headers.remove('party')]\n",
        "dem = df[df['party'] == 'democrat'].drop('party', axis=1) #[column_headers.remove('party')]\n",
        "\n",
        "# now lets look\n",
        "print(rep.head(2))\n",
        "print(dem.head(2))\n",
        "print(df.head(4))"
      ],
      "execution_count": 13,
      "outputs": [
        {
          "output_type": "stream",
          "text": [
            "--2020-01-23 04:00:18--  https://archive.ics.uci.edu/ml/machine-learning-databases/voting-records/house-votes-84.data\n",
            "Resolving archive.ics.uci.edu (archive.ics.uci.edu)... 128.195.10.252\n",
            "Connecting to archive.ics.uci.edu (archive.ics.uci.edu)|128.195.10.252|:443... connected.\n",
            "HTTP request sent, awaiting response... 200 OK\n",
            "Length: 18171 (18K) [application/x-httpd-php]\n",
            "Saving to: ‘house-votes-84.data.12’\n",
            "\n",
            "\rhouse-votes-84.data   0%[                    ]       0  --.-KB/s               \rhouse-votes-84.data 100%[===================>]  17.75K  --.-KB/s    in 0.06s   \n",
            "\n",
            "2020-01-23 04:00:19 (278 KB/s) - ‘house-votes-84.data.12’ saved [18171/18171]\n",
            "\n",
            "   handicapped-infants  water-project  budget  ...  crime  duty-free  south-africa\n",
            "0                  0.0            1.0     0.0  ...    1.0        0.0           1.0\n",
            "1                  0.0            1.0     0.0  ...    1.0        0.0           NaN\n",
            "\n",
            "[2 rows x 16 columns]\n",
            "   handicapped-infants  water-project  budget  ...  crime  duty-free  south-africa\n",
            "2                  NaN            1.0     1.0  ...    1.0        0.0           0.0\n",
            "3                  0.0            1.0     1.0  ...    0.0        0.0           1.0\n",
            "\n",
            "[2 rows x 16 columns]\n",
            "        party  handicapped-infants  ...  duty-free  south-africa\n",
            "0  republican                  0.0  ...        0.0           1.0\n",
            "1  republican                  0.0  ...        0.0           NaN\n",
            "2    democrat                  NaN  ...        0.0           0.0\n",
            "3    democrat                  0.0  ...        0.0           1.0\n",
            "\n",
            "[4 rows x 17 columns]\n"
          ],
          "name": "stdout"
        }
      ]
    },
    {
      "cell_type": "code",
      "metadata": {
        "id": "FhdiEwN8KvJh",
        "colab_type": "code",
        "colab": {}
      },
      "source": [
        "# Columns\n",
        "education = rep['education'].dropna()"
      ],
      "execution_count": 0,
      "outputs": []
    },
    {
      "cell_type": "code",
      "metadata": {
        "id": "7WVipiyFyzvT",
        "colab_type": "code",
        "colab": {}
      },
      "source": [
        "# ########## Visualization comparing the results of a Bayesian approach\n",
        "def confidence_interval(data, confidence = .95):\n",
        "  n = len(data)\n",
        "  mean = sum(data)/n\n",
        "  data = np.array(data)\n",
        "  stderr = stats.sem(data)\n",
        "  interval = stderr * stats.t.ppf((1 + confidence) / 2.0, n-1)\n",
        "  return(mean, mean - interval, mean + interval)"
      ],
      "execution_count": 0,
      "outputs": []
    },
    {
      "cell_type": "code",
      "metadata": {
        "id": "oNxFvFabSRYB",
        "colab_type": "code",
        "colab": {
          "base_uri": "https://localhost:8080/",
          "height": 52
        },
        "outputId": "5313877d-c028-4465-ac84-faffc71c2c80"
      },
      "source": [
        "# Education CI\n",
        "print(confidence_interval(education, .95))\n",
        "\n",
        "# Bayesian CI\n",
        "bayesian_confidence_interval, _, _ = stats.bayes_mvs(education, alpha=.95)\n",
        "print(bayesian_confidence_interval)"
      ],
      "execution_count": 20,
      "outputs": [
        {
          "output_type": "stream",
          "text": [
            "(0.8709677419354839, 0.8176017935029393, 0.9243336903680285)\n",
            "Mean(statistic=0.8709677419354839, minmax=(0.8176017935029393, 0.9243336903680285))\n"
          ],
          "name": "stdout"
        }
      ]
    },
    {
      "cell_type": "code",
      "metadata": {
        "id": "UHyA9avYbjtM",
        "colab_type": "code",
        "colab": {
          "base_uri": "https://localhost:8080/",
          "height": 254
        },
        "outputId": "9e7cc3c7-3676-4bb3-a2a6-d880bb863803"
      },
      "source": [
        "# sns.barplot(bayesian_confidence_interval.statistic)\n",
        "sns.barplot(bayesian_confidence_interval.minmax, orient='vertical');"
      ],
      "execution_count": 21,
      "outputs": [
        {
          "output_type": "display_data",
          "data": {
            "image/png": "[encoded data removed]",
            "text/plain": [
              "<Figure size 432x288 with 1 Axes>"
            ]
          },
          "metadata": {
            "tags": []
          }
        }
      ]
    },
    {
      "cell_type": "markdown",
      "metadata": {
        "id": "UCEaR_SfiLgh",
        "colab_type": "text"
      },
      "source": [
        "# Part 3 - Stretch Goal and Resources"
      ]
    },
    {
      "cell_type": "code",
      "metadata": {
        "id": "NLwj67V_SN4t",
        "colab_type": "code",
        "colab": {}
      },
      "source": [
        ""
      ],
      "execution_count": 0,
      "outputs": []
    },
    {
      "cell_type": "markdown",
      "metadata": {
        "id": "uWgWjp3PQ3Sq",
        "colab_type": "text"
      },
      "source": [
        "## Resources"
      ]
    },
    {
      "cell_type": "markdown",
      "metadata": {
        "id": "QRgHqmYIQ9qn",
        "colab_type": "text"
      },
      "source": [
        "- [Worked example of Bayes rule calculation](https://en.wikipedia.org/wiki/Bayes'_theorem#Examples) (helpful as it fully breaks out the denominator)\n",
        "- [Source code for mvsdist in scipy](https://github.com/scipy/scipy/blob/90534919e139d2a81c24bf08341734ff41a3db12/scipy/stats/morestats.py#L139)"
      ]
    },
    {
      "cell_type": "markdown",
      "metadata": {
        "id": "GP7Jv1XvwtkX",
        "colab_type": "text"
      },
      "source": [
        "## Stretch Goals:\n",
        "\n",
        "- Go back and study the content from Modules 1 & 2 to make sure that you're really comfortable with them.\n",
        "- Apply a Bayesian technique to a problem you previously worked (in an assignment or project work) on from a frequentist (standard) perspective\n",
        "- Check out [PyMC3](https://docs.pymc.io/) (note this goes beyond hypothesis tests into modeling) - read the guides and work through some examples\n",
        "- Take PyMC3 further - see if you can build something with it!"
      ]
    },
    {
      "cell_type": "code",
      "metadata": {
        "id": "iDi0eFr1x-v_",
        "colab_type": "code",
        "colab": {}
      },
      "source": [
        ""
      ],
      "execution_count": 0,
      "outputs": []
    }
  ]
}