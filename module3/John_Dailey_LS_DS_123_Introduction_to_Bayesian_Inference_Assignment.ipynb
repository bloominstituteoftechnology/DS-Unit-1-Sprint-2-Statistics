{
  "nbformat": 4,
  "nbformat_minor": 0,
  "metadata": {
    "colab": {
      "name": "John_Dailey_LS_DS_123_Introduction_to_Bayesian_Inference_Assignment.ipynb",
      "provenance": [],
      "include_colab_link": true
    },
    "kernelspec": {
      "name": "python3",
      "display_name": "Python 3"
    }
  },
  "cells": [
    {
      "cell_type": "markdown",
      "metadata": {
        "id": "view-in-github",
        "colab_type": "text"
      },
      "source": [
        "<a href=\"https://colab.research.google.com/github/johnjdailey/DS-Unit-1-Sprint-2-Statistics/blob/master/module3/John_Dailey_LS_DS_123_Introduction_to_Bayesian_Inference_Assignment.ipynb\" target=\"_parent\"><img src=\"https://colab.research.google.com/assets/colab-badge.svg\" alt=\"Open In Colab\"/></a>"
      ]
    },
    {
      "cell_type": "markdown",
      "metadata": {
        "id": "H7OLbevlbd_Z",
        "colab_type": "text"
      },
      "source": [
        "# Lambda School Data Science Module 123\n",
        "\n",
        "## Introduction to Bayesian Inference\n",
        "\n",
        "\n"
      ]
    },
    {
      "cell_type": "markdown",
      "metadata": {
        "id": "P-DzzRk5bf0z",
        "colab_type": "text"
      },
      "source": [
        "## Assignment - Code it up!\n",
        "\n",
        "We used pure math to apply Bayes Theorem to drug tests. Now write Python code to reproduce the results! This is purposefully open ended - you'll have to think about how you should represent probabilities and events. You can and should look things up.\n",
        "\n",
        "Specific goals/targets:\n",
        "\n",
        "### 1) Write a function \n",
        "\n",
        "def prob_drunk_given_positive(prob_drunk_prior, false_positive_rate, true_positive_rate):\n",
        "\n",
        "You should only truly need these two values in order to apply Bayes Theorem. In this example, imagine that individuals are taking a breathalyzer test with an 8% false positive rate, a 100% true positive rate, and that our prior belief about drunk driving in the population is 1/1000. \n",
        " - What is the probability that a person is drunk after one positive breathalyzer test?\n",
        " - What is the probability that a person is drunk after two positive breathalyzer tests?\n",
        " - How many positive breathalyzer tests are needed in order to have a probability that's greater than 95% that a person is drunk beyond the legal limit?\n",
        "\n",
        "### 2) Explore `scipy.stats.bayes_mvs`\n",
        "(OPTIONAL)  \n",
        "Read its documentation, and experiment with it on data you've tested in other ways earlier this week.\n",
        " - Create a visualization comparing the results of a Bayesian approach to a traditional/frequentist approach. (with a large sample size they should look close to identical, however, take this opportunity to practice visualizing condfidence intervals in general. The following are some potential ways that you could visualize confidence intervals on your graph:\n",
        "  - [Matplotlib Error Bars](https://matplotlib.org/3.1.1/api/_as_gen/matplotlib.pyplot.errorbar.html)\n",
        "  - [Seaborn barplot with error bars](https://seaborn.pydata.org/generated/seaborn.barplot.html)\n",
        "  - [Vertical ines to show bounds of confidence interval](https://www.simplypsychology.org/confidence-interval.jpg)\n",
        "  - [Confidence Intervals on Box Plots](https://matplotlib.org/3.1.1/api/_as_gen/matplotlib.axes.Axes.boxplot.html)\n",
        "\n",
        "### 3) In your own words, summarize the difference between Bayesian and Frequentist statistics\n",
        "\n",
        "If you're unsure where to start, check out [this blog post of Bayes theorem with Python](https://dataconomy.com/2015/02/introduction-to-bayes-theorem-with-python/).\n",
        "\n"
      ]
    },
    {
      "cell_type": "markdown",
      "metadata": {
        "id": "wD6h2I2_Khki",
        "colab_type": "text"
      },
      "source": [
        "1) Write a function"
      ]
    },
    {
      "cell_type": "code",
      "metadata": {
        "id": "xpVhZyUnbf7o",
        "colab_type": "code",
        "outputId": "fceafe24-e7fd-4754-e17d-70a04814ca67",
        "colab": {
          "base_uri": "https://localhost:8080/",
          "height": 34
        }
      },
      "source": [
        "#def bayes(conditional, prior, marginal):\n",
        "    #return (conditional * prior) / marginal\n",
        "\n",
        "#def prob_drunk_given_positive(prob_drunk_prior, false_positive_rate, true_positive_rate):\n",
        "  #return (conditional * prior) / marginal\n",
        "\n",
        "#posterior = bayes(0.001, 0.08, 1)\n",
        "#print(f'Probability of being drunk after one breathalyzer test: {posterior*100}%')"
      ],
      "execution_count": 0,
      "outputs": [
        {
          "output_type": "stream",
          "text": [
            "Probability of being drunk after one breathalyzer test: 0.008%\n"
          ],
          "name": "stdout"
        }
      ]
    },
    {
      "cell_type": "code",
      "metadata": {
        "id": "r2Sr1AR4O90_",
        "colab_type": "code",
        "outputId": "ba8a0f8a-336e-4975-c9c7-28fb6f9a01b2",
        "colab": {
          "base_uri": "https://localhost:8080/",
          "height": 34
        }
      },
      "source": [
        "# What is the probability that a person is drunk after one positive breathalyzer test?\n",
        "\n",
        "#def bayes(conditional, prior, marginal):\n",
        "    #return (conditional * prior) / marginal\n",
        "\n",
        "# def prob_drunk_given_positive(prob_drunk_prior, false_positive_rate, true_positive_rate):\n",
        "   #return (conditional * prior) / marginal\n",
        "\n",
        "#posterior = bayes(0.001, 0.08, 1)\n",
        "#print(f'Probability of being drunk after one breathalyzer test: {posterior*100}%')"
      ],
      "execution_count": 0,
      "outputs": [
        {
          "output_type": "stream",
          "text": [
            "Probability of being drunk after one breathalyzer test: 0.008%\n"
          ],
          "name": "stdout"
        }
      ]
    },
    {
      "cell_type": "code",
      "metadata": {
        "id": "6sqFzqqLTopM",
        "colab_type": "code",
        "outputId": "e7305f4f-6a50-48ab-f46e-b819adb8ec65",
        "colab": {
          "base_uri": "https://localhost:8080/",
          "height": 34
        }
      },
      "source": [
        "# Rewrite for repeated testing\n",
        "P_drunk = 1/1000 # prior belief\n",
        "P_not_drunk = 1 - P_drunk # complement of the prior belief\n",
        "P_pos_given_drunk = 1 # this is the true positive rate\n",
        "P_pos_given_not_drunk = 0.08 # this is the false positive rate\n",
        "\n",
        "# My first iteration of Bayes Rules (Bayes Theorem)\n",
        "numerator = P_pos_given_drunk*P_drunk\n",
        "marginal = (P_pos_given_drunk*P_drunk) + (P_pos_given_not_drunk*P_not_drunk)\n",
        "posterior_probability = numerator/marginal\n",
        "\n",
        "print(posterior_probability)\n",
        "#I'm not sure why this probability is different from the first 2 tests."
      ],
      "execution_count": 0,
      "outputs": [
        {
          "output_type": "stream",
          "text": [
            "0.012357884330202669\n"
          ],
          "name": "stdout"
        }
      ]
    },
    {
      "cell_type": "code",
      "metadata": {
        "id": "gHhjnABdO-Vc",
        "colab_type": "code",
        "outputId": "3edc313c-472e-4f36-e957-2fbacd4e8fca",
        "colab": {
          "base_uri": "https://localhost:8080/",
          "height": 34
        }
      },
      "source": [
        "# What is the probability that a person is drunk after two positive breathalyzer tests?\n",
        "P_drunk = posterior_probability #posterior from first iteration\n",
        "P_not_drunk = 1 - P_drunk # calculate the complement of that prior via the law of total probability\n",
        "\n",
        "# apply Baye's theorem\n",
        "numerator = P_pos_given_drunk*P_drunk\n",
        "marginal = (P_pos_given_drunk*P_drunk) + (P_pos_given_not_drunk*P_not_drunk)\n",
        "posterior_probability = numerator/marginal\n",
        "\n",
        "print(posterior_probability)"
      ],
      "execution_count": 0,
      "outputs": [
        {
          "output_type": "stream",
          "text": [
            "0.13525210993291495\n"
          ],
          "name": "stdout"
        }
      ]
    },
    {
      "cell_type": "code",
      "metadata": {
        "id": "WALWT-M2O-hk",
        "colab_type": "code",
        "colab": {}
      },
      "source": [
        "# How many positive breathalyzer tests are needed in order to have a probability\n",
        "# that's greater than 95% that a person is drunk beyond the legal limit?\n",
        "\n",
        "# Turn all of that into a function\n",
        "def prob_drunk(prob_drunk_prior, false_positive_rate, true_positive_rate, number_of_tests):\n",
        "    posterior_probability=prob_drunk_prior\n",
        "    for test in range(0, number_of_tests):\n",
        "        P_drunk = posterior_probability # prior belief\n",
        "        P_not_drunk = 1 - P_drunk  # complement of the prior belief\n",
        "        P_pos_given_not_drunk = false_positive_rate # this is the false positive rate\n",
        "        P_pos_given_drunk = true_positive_rate # this is the true positive rate\n",
        "        posterior_probability = (P_pos_given_drunk*P_drunk)/((P_pos_given_drunk*P_drunk) + (P_pos_given_not_drunk*P_not_drunk))\n",
        "    return posterior_probability"
      ],
      "execution_count": 0,
      "outputs": []
    },
    {
      "cell_type": "code",
      "metadata": {
        "id": "L7-AqPFWa0-2",
        "colab_type": "code",
        "outputId": "cc3c7de7-c3f7-4399-bf32-f99d712d1d6c",
        "colab": {
          "base_uri": "https://localhost:8080/",
          "height": 34
        }
      },
      "source": [
        "# 4 positive breathlyzer tests are needded.\n",
        "prob_drunk(0.001, 0.08, 1, 4)"
      ],
      "execution_count": 0,
      "outputs": [
        {
          "output_type": "execute_result",
          "data": {
            "text/plain": [
              "0.9606895076105054"
            ]
          },
          "metadata": {
            "tags": []
          },
          "execution_count": 36
        }
      ]
    },
    {
      "cell_type": "markdown",
      "metadata": {
        "id": "AmY18InedWZd",
        "colab_type": "text"
      },
      "source": [
        "3) In your own words, summarize the difference between Bayesian and Frequentist statistics\n",
        "\n",
        "Bayesian statistics are different from Frequentist Statistics in that Bayes stats allow for the preconceived notions to be added into the equation for calculation. Bayes was a priest, not a mathematician, and his notes were discovered after he died. Perhaps Bayesian statistics are holy, more holy than Frequentist statistics. In some ways, Bayesian statistics seem more relevant because as humans we have our hypotheses and Bayes uses probabilites for both hypotheses and data. It's really cool how Bayes inference has been used to find both a sunken ship and sunken plane after many other attempts failed. Frequentist stats never use probability of a hypothesis, prior nor posterior. Bayes is also more robust in that it depends on the prior and likelihood of observed data. Ironically, Frequentist stats depends on the likelihood (probability) for both observed and unobserved data, (which I think of as almost like a hypothesis, as its not 100% true, but more likely towards infinite degrees of freedom, aka. occurences). Bayesian stats are interesting to use with situations in which there is a known or constucted \"subjective prior\", as this is a prerequisite for the equation, while frequentist stats do not require a prior (yet again freq stats depend on the likelihood for both observed and unobserved data). Last, in regards to history, Bayes dominated statistical practice before the 20th century while Frequentist stats dominated statistical practice during the 20th century. Bayesian statistics are regaining popularity in the 21st century with marketing. How could be know the probability of someone doing something if they've never done it before? One example consists of a website inferring what a customer would like to buy based on each click that the customer makes on the website. IBM, one of the oldest computer technology companies in the world is also hiring data scientists with Bayesian knowledge and experience as a prerequisite. HP too. I'm thankful that both schools of statistics exist, as there many more discoveries to be made in statistics and beyond.\n",
        "\n",
        "Credits and thanks to \"Talk Python to Me\" podcast for the introduction to Bayesian history and modern use cases. Also, my previous job search. The LS DS lecture notes were also crucial in helping me understand the Bayesian equation as well as the table with difference between Bayes and Freq stats."
      ]
    },
    {
      "cell_type": "markdown",
      "metadata": {
        "id": "uWgWjp3PQ3Sq",
        "colab_type": "text"
      },
      "source": [
        "## Resources"
      ]
    },
    {
      "cell_type": "markdown",
      "metadata": {
        "id": "QRgHqmYIQ9qn",
        "colab_type": "text"
      },
      "source": [
        "- [Worked example of Bayes rule calculation](https://en.wikipedia.org/wiki/Bayes'_theorem#Examples) (helpful as it fully breaks out the denominator)\n",
        "- [Source code for mvsdist in scipy](https://github.com/scipy/scipy/blob/90534919e139d2a81c24bf08341734ff41a3db12/scipy/stats/morestats.py#L139)"
      ]
    },
    {
      "cell_type": "markdown",
      "metadata": {
        "id": "GP7Jv1XvwtkX",
        "colab_type": "text"
      },
      "source": [
        "## Stretch Goals:\n",
        "\n",
        "- Go back and study the content from Modules 1 & 2 to make sure that you're really comfortable with them.\n",
        "- Apply a Bayesian technique to a problem you previously worked (in an assignment or project work) on from a frequentist (standard) perspective\n",
        "- Check out [PyMC3](https://docs.pymc.io/) (note this goes beyond hypothesis tests into modeling) - read the guides and work through some examples\n",
        "- Take PyMC3 further - see if you can build something with it!"
      ]
    },
    {
      "cell_type": "code",
      "metadata": {
        "id": "iDi0eFr1x-v_",
        "colab_type": "code",
        "colab": {}
      },
      "source": [
        "# I did it!"
      ],
      "execution_count": 0,
      "outputs": []
    },
    {
      "cell_type": "markdown",
      "metadata": {
        "id": "KqQxY4TrjSip",
        "colab_type": "text"
      },
      "source": [
        "I installed PyMC3 using \"pip install pymc3\" via pypi. I also signed up for Quantopian\n",
        "\n",
        "-----\n",
        "\n",
        "(base) PS C:\\Users\\Owner> pip install pymc3\n",
        "Collecting pymc3\n",
        "  Downloading pymc3-3.8-py3-none-any.whl (908 kB)\n",
        "     |████████████████████████████████| 908 kB 1.7 MB/s\n",
        "Collecting arviz>=0.4.1\n",
        "  Downloading arviz-0.6.1-py3-none-any.whl (1.4 MB)\n",
        "     |████████████████████████████████| 1.4 MB 6.8 MB/s\n",
        "Requirement already satisfied: patsy>=0.4.0 in c:\\users\\owner\\anaconda3\\lib\\site-packages (from pymc3) (0.5.1)\n",
        "Requirement already satisfied: scipy>=0.18.1 in c:\\users\\owner\\anaconda3\\lib\\site-packages (from pymc3) (1.3.1)\n",
        "Requirement already satisfied: numpy>=1.13.0 in c:\\users\\owner\\anaconda3\\lib\\site-packages (from pymc3) (1.16.5)\n",
        "Requirement already satisfied: pandas>=0.18.0 in c:\\users\\owner\\anaconda3\\lib\\site-packages (from pymc3) (0.25.1)\n",
        "Requirement already satisfied: tqdm>=4.8.4 in c:\\users\\owner\\anaconda3\\lib\\site-packages (from pymc3) (4.36.1)\n",
        "Collecting theano>=1.0.4\n",
        "  Downloading Theano-1.0.4.tar.gz (2.8 MB)\n",
        "     |████████████████████████████████| 2.8 MB 3.3 MB/s\n",
        "Requirement already satisfied: h5py>=2.7.0 in c:\\users\\owner\\anaconda3\\lib\\site-packages (from pymc3) (2.9.0)\n",
        "Collecting xarray>=0.11\n",
        "  Downloading xarray-0.15.0-py3-none-any.whl (650 kB)\n",
        "     |████████████████████████████████| 650 kB 3.3 MB/s\n",
        "Requirement already satisfied: packaging in c:\\users\\owner\\anaconda3\\lib\\site-packages (from arviz>=0.4.1->pymc3) (19.2)\n",
        "Collecting netcdf4\n",
        "  Downloading netCDF4-1.5.3-cp37-cp37m-win_amd64.whl (3.1 MB)\n",
        "     |████████████████████████████████| 3.1 MB 6.4 MB/s\n",
        "Requirement already satisfied: matplotlib>=3.0 in c:\\users\\owner\\anaconda3\\lib\\site-packages (from arviz>=0.4.1->pymc3) (3.1.1)\n",
        "Requirement already satisfied: six in c:\\users\\owner\\anaconda3\\lib\\site-packages (from patsy>=0.4.0->pymc3) (1.12.0)\n",
        "Requirement already satisfied: pytz>=2017.2 in c:\\users\\owner\\anaconda3\\lib\\site-packages (from pandas>=0.18.0->pymc3) (2019.3)\n",
        "Requirement already satisfied: python-dateutil>=2.6.1 in c:\\users\\owner\\anaconda3\\lib\\site-packages (from pandas>=0.18.0->pymc3) (2.8.0)\n",
        "Requirement already satisfied: pyparsing>=2.0.2 in c:\\users\\owner\\anaconda3\\lib\\site-packages (from packaging->arviz>=0.4.1->pymc3) (2.4.2)\n",
        "Collecting cftime\n",
        "  Downloading cftime-1.0.4.2-cp37-none-win_amd64.whl (208 kB)\n",
        "     |████████████████████████████████| 208 kB ...\n",
        "Requirement already satisfied: cycler>=0.10 in c:\\users\\owner\\anaconda3\\lib\\site-packages (from matplotlib>=3.0->arviz>=0.4.1->pymc3) (0.10.0)\n",
        "Requirement already satisfied: kiwisolver>=1.0.1 in c:\\users\\owner\\anaconda3\\lib\\site-packages (from matplotlib>=3.0->arviz>=0.4.1->pymc3) (1.1.0)\n",
        "Requirement already satisfied: setuptools in c:\\users\\owner\\anaconda3\\lib\\site-packages (from kiwisolver>=1.0.1->matplotlib>=3.0->arviz>=0.4.1->pymc3) (41.4.0)\n",
        "Building wheels for collected packages: theano\n",
        "  Building wheel for theano (setup.py) ... done\n",
        "  Created wheel for theano: filename=Theano-1.0.4-py3-none-any.whl size=2667193 sha256=e2be6463da660def076098b5f8e3287c34508faa5f518f0250ae66481796dcfa\n",
        "  Stored in directory: c:\\users\\owner\\appdata\\local\\pip\\cache\\wheels\\33\\e0\\86\\12647586a15bd29c062c9996231380908fb2dcf6a5df1c6f84\n",
        "Successfully built theano\n",
        "Installing collected packages: xarray, cftime, netcdf4, arviz, theano, pymc3\n",
        "Successfully installed arviz-0.6.1 cftime-1.0.4.2 netcdf4-1.5.3 pymc3-3.8 theano-1.0.4 xarray-0.15.0\n",
        "(base) PS C:\\Users\\Owner>"
      ]
    },
    {
      "cell_type": "code",
      "metadata": {
        "id": "BF4Hf3E9jsl1",
        "colab_type": "code",
        "outputId": "39703822-68e0-41b0-e97c-8cef9cc2b539",
        "colab": {
          "base_uri": "https://localhost:8080/",
          "height": 231
        }
      },
      "source": [
        "import pymc3 as pm\n",
        "\n",
        "x, y = linear_training_data()\n",
        "with pm.Model() as linear_model:\n",
        "    weights = pm.Normal('weights', mu=0, sigma=1)\n",
        "    noise = pm.Gamma('noise', alpha=2, beta=1)\n",
        "    y_observed = pm.Normal('y_observed',\n",
        "                mu=X @ weights,\n",
        "                sigma=noise,\n",
        "                observed=y)\n",
        "\n",
        "    prior = pm.sample_prior_predictive()\n",
        "    posterior = pm.sample()\n",
        "    posterior_pred = pm.sample_posterior_predictive(posterior)\n",
        "\n",
        "    # uh oh, looks like I will have to practice more later."
      ],
      "execution_count": 0,
      "outputs": [
        {
          "output_type": "error",
          "ename": "NameError",
          "evalue": "ignored",
          "traceback": [
            "\u001b[0;31m---------------------------------------------------------------------------\u001b[0m",
            "\u001b[0;31mNameError\u001b[0m                                 Traceback (most recent call last)",
            "\u001b[0;32m<ipython-input-38-163431f42781>\u001b[0m in \u001b[0;36m<module>\u001b[0;34m()\u001b[0m\n\u001b[1;32m      1\u001b[0m \u001b[0;32mimport\u001b[0m \u001b[0mpymc3\u001b[0m \u001b[0;32mas\u001b[0m \u001b[0mpm\u001b[0m\u001b[0;34m\u001b[0m\u001b[0;34m\u001b[0m\u001b[0m\n\u001b[1;32m      2\u001b[0m \u001b[0;34m\u001b[0m\u001b[0m\n\u001b[0;32m----> 3\u001b[0;31m \u001b[0mx\u001b[0m\u001b[0;34m,\u001b[0m \u001b[0my\u001b[0m \u001b[0;34m=\u001b[0m \u001b[0mlinear_training_data\u001b[0m\u001b[0;34m(\u001b[0m\u001b[0;34m)\u001b[0m\u001b[0;34m\u001b[0m\u001b[0;34m\u001b[0m\u001b[0m\n\u001b[0m\u001b[1;32m      4\u001b[0m \u001b[0;32mwith\u001b[0m \u001b[0mpm\u001b[0m\u001b[0;34m.\u001b[0m\u001b[0mModel\u001b[0m\u001b[0;34m(\u001b[0m\u001b[0;34m)\u001b[0m \u001b[0;32mas\u001b[0m \u001b[0mlinear_model\u001b[0m\u001b[0;34m:\u001b[0m\u001b[0;34m\u001b[0m\u001b[0;34m\u001b[0m\u001b[0m\n\u001b[1;32m      5\u001b[0m     \u001b[0mweights\u001b[0m \u001b[0;34m=\u001b[0m \u001b[0mpm\u001b[0m\u001b[0;34m.\u001b[0m\u001b[0mNormal\u001b[0m\u001b[0;34m(\u001b[0m\u001b[0;34m'weights'\u001b[0m\u001b[0;34m,\u001b[0m \u001b[0mmu\u001b[0m\u001b[0;34m=\u001b[0m\u001b[0;36m0\u001b[0m\u001b[0;34m,\u001b[0m \u001b[0msigma\u001b[0m\u001b[0;34m=\u001b[0m\u001b[0;36m1\u001b[0m\u001b[0;34m)\u001b[0m\u001b[0;34m\u001b[0m\u001b[0;34m\u001b[0m\u001b[0m\n",
            "\u001b[0;31mNameError\u001b[0m: name 'linear_training_data' is not defined"
          ]
        }
      ]
    }
  ]
}