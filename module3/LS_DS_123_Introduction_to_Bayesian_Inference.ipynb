{
  "nbformat": 4,
  "nbformat_minor": 0,
  "metadata": {
    "colab": {
      "name": "LS_DS_123_Introduction_to_Bayesian_Inference.ipynb",
      "provenance": [],
      "collapsed_sections": [],
      "include_colab_link": true
    },
    "kernelspec": {
      "display_name": "Python 3",
      "language": "python",
      "name": "python3"
    },
    "language_info": {
      "codemirror_mode": {
        "name": "ipython",
        "version": 3
      },
      "file_extension": ".py",
      "mimetype": "text/x-python",
      "name": "python",
      "nbconvert_exporter": "python",
      "pygments_lexer": "ipython3",
      "version": "3.7.3"
    }
  },
  "cells": [
    {
      "cell_type": "markdown",
      "metadata": {
        "id": "view-in-github",
        "colab_type": "text"
      },
      "source": [
        "<a href=\"https://colab.research.google.com/github/ndow33/DS-Unit-1-Sprint-2-Statistics/blob/master/module3/LS_DS_123_Introduction_to_Bayesian_Inference.ipynb\" target=\"_parent\"><img src=\"https://colab.research.google.com/assets/colab-badge.svg\" alt=\"Open In Colab\"/></a>"
      ]
    },
    {
      "cell_type": "markdown",
      "metadata": {
        "colab_type": "text",
        "id": "H7OLbevlbd_Z"
      },
      "source": [
        "# Lambda School Data Science Module 123\n",
        "\n",
        "## Introduction to Bayesian Inference\n",
        "[XKCD 1132](https://www.xkcd.com/1132/)"
      ]
    },
    {
      "cell_type": "markdown",
      "metadata": {
        "id": "7CG2pKkD-Xq_",
        "colab_type": "text"
      },
      "source": [
        "<div>\n",
        "<img src=\"https://imgs.xkcd.com/comics/frequentists_vs_bayesians.png\" width=\"300\"/>\n",
        "</div>"
      ]
    },
    {
      "cell_type": "markdown",
      "metadata": {
        "id": "rrVibejy-XrB",
        "colab_type": "text"
      },
      "source": [
        "#### Bayes vs. Frequentist inference\n",
        "\n",
        "| Bayes | Frequentist |\n",
        "|:---|:---|\n",
        "|uses probabilities for both hypotheses and data|never uses or gives the probability of a hypothesis (no prior or posterior).|\n",
        "|depends on the prior and likelihood of observed data.|depends on the likelihood P(D / H) for both observed and unobserved data.|\n",
        "|requires one to know or construct a ‘subjective prior’.|does not require a prior.|\n",
        "|dominated statistical practice before the 20th century.|dominated statistical practice during the 20th century.|\n",
        "\n",
        "https://ocw.mit.edu/courses/mathematics/18-05-introduction-to-probability-and-statistics-spring-2014/readings/MIT18_05S14_Reading20.pdf"
      ]
    },
    {
      "cell_type": "markdown",
      "metadata": {
        "id": "lbwm9XNl-XrD",
        "colab_type": "text"
      },
      "source": [
        "## Bayes' Theorem\n",
        "https://www.bayestheorem.net/"
      ]
    },
    {
      "cell_type": "markdown",
      "metadata": {
        "id": "UGbqt8tQ-XrE",
        "colab_type": "text"
      },
      "source": [
        "<div>\n",
        "<img src=\"https://www.bayestheorem.net/images/Bayes-Theorem-Formula-Defined.jpeg\" width=\"500\"/>\n",
        "</div>"
      ]
    },
    {
      "cell_type": "markdown",
      "metadata": {
        "id": "eBO8AFUW-XrF",
        "colab_type": "text"
      },
      "source": [
        "**Bayes' theorem:**\n",
        "$$p(H|D) = \\frac{p(D|H) * p(H)}{p(D)}$$\n",
        "\n",
        "* H is the **hypothesis**  \n",
        "* D is the observed **data**  \n",
        "* p(H) is the probability of the hypothesis before we see the data, called the prior probability, or just **prior**.    \n",
        "* p(D) is the **marginal probability** of the data taking into account all possible hypotheses (aka \"total probability of D\").  \n",
        "* p(D|H) is the probability of the data give that the hypothesis is true, called the **conditional probability**.   \n",
        "*  p(H|D) is what we want to compute, the probability of the hypothesis after we see the data, called the **posterior** probability."
      ]
    },
    {
      "cell_type": "markdown",
      "metadata": {
        "id": "Id-dpcnT-XrG",
        "colab_type": "text"
      },
      "source": [
        "$$posterior = \\frac{conditional * prior}{marginal}$$\n"
      ]
    },
    {
      "cell_type": "markdown",
      "metadata": {
        "id": "2Wu7VQyX-XrH",
        "colab_type": "text"
      },
      "source": [
        "## Flu Example"
      ]
    },
    {
      "cell_type": "markdown",
      "metadata": {
        "id": "R5u-u-Mn-XrI",
        "colab_type": "text"
      },
      "source": [
        "Imagine that you are showing some nasty symptoms (headache and sore throat) -- you have a suspicion that you're sick with the flu, but you're not absolutely sure. Is the probability high enough to cancel your big trip?  Consider the following:\n",
        "\n",
        "* We know people with the flu have a headache and sore throat roughly 90% of the time (this is the **conditional**).  \n",
        "* We know the probability of having the flu, in general, is only 5% (this is the **prior**).  \n",
        "* We know that 20% of the population in a given year will have a headache and sore throat at any given time (this is the **marginal** probability).  \n",
        "<div>\n",
        "<img src=\"https://www.bayestheorem.net/images/Bayes-Example-Flu-Ingredients-with-Formula.jpeg\" width=\"500\"/>\n",
        "</div>"
      ]
    },
    {
      "cell_type": "markdown",
      "metadata": {
        "id": "9ayGcsAL-XrK",
        "colab_type": "text"
      },
      "source": [
        "* P(A) – What is the probability of you having the flu? This number is the **prior** or .05.  \n",
        "* P(B|A) – Represented as P(Symptoms | Flu). This number is the **conditional** or .9.  \n",
        "* P(B) – What is the probability of you having the symptoms? This number is the **marginal** or .2.  "
      ]
    },
    {
      "cell_type": "code",
      "metadata": {
        "id": "CFwSHkqA-XrL",
        "colab_type": "code",
        "colab": {}
      },
      "source": [
        "# Define a function for bayes' theorem, assuming you know the conditional, prior, and marginal probabilities.\n",
        "\n",
        "def bayes_1(conditional, prior, marginal):\n",
        "  return (conditional*prior)/marginal"
      ],
      "execution_count": 0,
      "outputs": []
    },
    {
      "cell_type": "code",
      "metadata": {
        "id": "QbvW0FSlIN46",
        "colab_type": "code",
        "colab": {}
      },
      "source": [
        "#define my inputs\n",
        "\n",
        "c= .90\n",
        "p= .05\n",
        "m= .2"
      ],
      "execution_count": 0,
      "outputs": []
    },
    {
      "cell_type": "code",
      "metadata": {
        "id": "HwGskwJKIN-a",
        "colab_type": "code",
        "outputId": "a672650a-6e80-45f7-c2bb-2525e7753aff",
        "colab": {
          "base_uri": "https://localhost:8080/",
          "height": 34
        }
      },
      "source": [
        "posterior = bayes_1(c, p, m)\n",
        "print(f'probability of flu: {posterior*100}%')"
      ],
      "execution_count": 0,
      "outputs": [
        {
          "output_type": "stream",
          "text": [
            "probability of flu: 22.5%\n"
          ],
          "name": "stdout"
        }
      ]
    },
    {
      "cell_type": "markdown",
      "metadata": {
        "id": "VDDTVMGG-XrQ",
        "colab_type": "text"
      },
      "source": [
        "## Cookie Challenge\n",
        "https://www.greenteapress.com/thinkbayes/thinkbayes.pdf#page20"
      ]
    },
    {
      "cell_type": "markdown",
      "metadata": {
        "id": "l4XkHQLv-XrR",
        "colab_type": "text"
      },
      "source": [
        "<div>\n",
        "<img src=\"https://food.fnr.sndimg.com/content/dam/images/food/fullset/2009/6/12/2/PASP09_303502_s4x3.jpg.rend.hgtvcom.826.620.suffix/1371589411856.jpeg\" width=\"300\"/>\n",
        "</div>"
      ]
    },
    {
      "cell_type": "markdown",
      "metadata": {
        "id": "msIKPrGv-XrT",
        "colab_type": "text"
      },
      "source": [
        "Suppose there are two bowls of cookies.  \n",
        "* Bowl 1 contains 30 vanilla cookies and 10 chocolate cookies.  \n",
        "* Bowl 2 contains 20 vanilla cookies and 20 chocolate cookies.  \n",
        "\n",
        "What is the probability of randomly drawing a vanilla cookie?"
      ]
    },
    {
      "cell_type": "code",
      "metadata": {
        "id": "lfgLwKCh-XrU",
        "colab_type": "code",
        "colab": {}
      },
      "source": [
        "# prior probability of choosing bowl 1 (independent of anything)\n",
        "p_B1 = .5"
      ],
      "execution_count": 0,
      "outputs": []
    },
    {
      "cell_type": "code",
      "metadata": {
        "id": "DH3BfsRD-XrZ",
        "colab_type": "code",
        "outputId": "e3bae75d-f380-4fb2-aebd-9d0afc0ea5a4",
        "colab": {
          "base_uri": "https://localhost:8080/",
          "height": 34
        }
      },
      "source": [
        "# marginal probability of getting a vanilla cookie \n",
        "vanilla = 30+20\n",
        "choco = 10+20\n",
        "cookies=vanilla+choco\n",
        "cookies\n"
      ],
      "execution_count": 0,
      "outputs": [
        {
          "output_type": "execute_result",
          "data": {
            "text/plain": [
              "80"
            ]
          },
          "metadata": {
            "tags": []
          },
          "execution_count": 9
        }
      ]
    },
    {
      "cell_type": "code",
      "metadata": {
        "id": "CDefedN_Jl1i",
        "colab_type": "code",
        "colab": {}
      },
      "source": [
        "# marginal probability"
      ],
      "execution_count": 0,
      "outputs": []
    },
    {
      "cell_type": "code",
      "metadata": {
        "id": "nBqgjOcBJpaw",
        "colab_type": "code",
        "outputId": "98ef6273-206a-456b-ff94-ab15f22feef4",
        "colab": {
          "base_uri": "https://localhost:8080/",
          "height": 34
        }
      },
      "source": [
        "p_V = vanilla/cookies\n",
        "p_V"
      ],
      "execution_count": 0,
      "outputs": [
        {
          "output_type": "execute_result",
          "data": {
            "text/plain": [
              "0.625"
            ]
          },
          "metadata": {
            "tags": []
          },
          "execution_count": 10
        }
      ]
    },
    {
      "cell_type": "markdown",
      "metadata": {
        "id": "UP5uCEQ7-Xre",
        "colab_type": "text"
      },
      "source": [
        "**Conditional probability**: Given that I pick from bowl 1, what is the probability of randomly drawing a vanilla cookie?  \n",
        "`p(vanilla|Bowl 1)`"
      ]
    },
    {
      "cell_type": "code",
      "metadata": {
        "id": "qUWinw6o-Xrf",
        "colab_type": "code",
        "colab": {}
      },
      "source": [
        "# conditional probability\n",
        "#probability of choosing bowl 1 given that we chose bowl 1\n",
        "p_B1 = 1"
      ],
      "execution_count": 0,
      "outputs": []
    },
    {
      "cell_type": "code",
      "metadata": {
        "id": "mcfSIa2DJ-EX",
        "colab_type": "code",
        "outputId": "d373443e-797d-4942-9eeb-430ab6b5209f",
        "colab": {
          "base_uri": "https://localhost:8080/",
          "height": 34
        }
      },
      "source": [
        "#probability of getting vanilla from bowl 1\n",
        "p_VB1 = 30/40\n",
        "p_VB1"
      ],
      "execution_count": 0,
      "outputs": [
        {
          "output_type": "execute_result",
          "data": {
            "text/plain": [
              "0.75"
            ]
          },
          "metadata": {
            "tags": []
          },
          "execution_count": 22
        }
      ]
    },
    {
      "cell_type": "code",
      "metadata": {
        "id": "CagXflxDJ-J3",
        "colab_type": "code",
        "outputId": "5acebc91-c906-4bb5-d7c1-f702799fd2e3",
        "colab": {
          "base_uri": "https://localhost:8080/",
          "height": 34
        }
      },
      "source": [
        "#probability of bowl 1 given vanilla\n",
        "p_B1V = p_VB1*p_B1\n",
        "p_B1V"
      ],
      "execution_count": 0,
      "outputs": [
        {
          "output_type": "execute_result",
          "data": {
            "text/plain": [
              "0.75"
            ]
          },
          "metadata": {
            "tags": []
          },
          "execution_count": 23
        }
      ]
    },
    {
      "cell_type": "code",
      "metadata": {
        "id": "pluaEFLmJ-BN",
        "colab_type": "code",
        "colab": {}
      },
      "source": [
        ""
      ],
      "execution_count": 0,
      "outputs": []
    },
    {
      "cell_type": "markdown",
      "metadata": {
        "id": "r7SYc7Js-Xrk",
        "colab_type": "text"
      },
      "source": [
        "**Posterior probability**: Now suppose you choose one of the bowls at random and, without looking, select a cookie at random. The cookie is vanilla. What is the probability that it came from Bowl 1?  \n",
        "`p(Bowl 1|vanilla)`"
      ]
    },
    {
      "cell_type": "code",
      "metadata": {
        "id": "uOsjRBBw-Xrl",
        "colab_type": "code",
        "outputId": "ae593d81-b225-4614-8c64-7625748e625e",
        "colab": {
          "base_uri": "https://localhost:8080/",
          "height": 34
        }
      },
      "source": [
        "# posterior probability\n",
        "#prior probability of choosing bowl 1\n",
        "p_B1"
      ],
      "execution_count": 0,
      "outputs": [
        {
          "output_type": "execute_result",
          "data": {
            "text/plain": [
              "0.5"
            ]
          },
          "metadata": {
            "tags": []
          },
          "execution_count": 17
        }
      ]
    },
    {
      "cell_type": "code",
      "metadata": {
        "id": "uVUN7GzALAZZ",
        "colab_type": "code",
        "outputId": "82843d09-991c-4e43-86ac-22ecbe4a3f86",
        "colab": {
          "base_uri": "https://localhost:8080/",
          "height": 34
        }
      },
      "source": [
        "#conditional probability of vanilla\n",
        "p_VB1"
      ],
      "execution_count": 0,
      "outputs": [
        {
          "output_type": "execute_result",
          "data": {
            "text/plain": [
              "0.75"
            ]
          },
          "metadata": {
            "tags": []
          },
          "execution_count": 18
        }
      ]
    },
    {
      "cell_type": "code",
      "metadata": {
        "id": "-xRLvjB5LAlo",
        "colab_type": "code",
        "outputId": "7c153c26-1e7d-4f95-88a2-74e3eda03f33",
        "colab": {
          "base_uri": "https://localhost:8080/",
          "height": 34
        }
      },
      "source": [
        "#marginal prob of getting a vanilla \n",
        "p_V"
      ],
      "execution_count": 0,
      "outputs": [
        {
          "output_type": "execute_result",
          "data": {
            "text/plain": [
              "0.625"
            ]
          },
          "metadata": {
            "tags": []
          },
          "execution_count": 19
        }
      ]
    },
    {
      "cell_type": "code",
      "metadata": {
        "id": "_pSaLjFKLAjT",
        "colab_type": "code",
        "outputId": "1d5063de-18ec-453a-a1cb-7822a3087ff2",
        "colab": {
          "base_uri": "https://localhost:8080/",
          "height": 34
        }
      },
      "source": [
        "#posterior prob of bowl 1 given vanilla\n",
        "p_B1V = (p_B1*p_VB1)/p_V\n",
        "p_B1V"
      ],
      "execution_count": 0,
      "outputs": [
        {
          "output_type": "execute_result",
          "data": {
            "text/plain": [
              "0.6"
            ]
          },
          "metadata": {
            "tags": []
          },
          "execution_count": 20
        }
      ]
    },
    {
      "cell_type": "code",
      "metadata": {
        "id": "e7U2PzxLLAgR",
        "colab_type": "code",
        "colab": {}
      },
      "source": [
        ""
      ],
      "execution_count": 0,
      "outputs": []
    },
    {
      "cell_type": "markdown",
      "metadata": {
        "id": "OrNd1Qyw-Xrp",
        "colab_type": "text"
      },
      "source": [
        "## The Monty Hall Challenge\n",
        "https://math.ucsd.edu/~crypto/Monty/monty.html\n",
        "\n",
        "<div>\n",
        "<img src=\"http://www.sciencemadesimple.co.uk/files/2016/04/The-choices.png\" width=\"400\"/>\n",
        "</div>"
      ]
    },
    {
      "cell_type": "code",
      "metadata": {
        "id": "5cSBQeRL-Xrq",
        "colab_type": "code",
        "colab": {}
      },
      "source": [
        "# Let's recreate the game with code.\n",
        "import random "
      ],
      "execution_count": 0,
      "outputs": []
    },
    {
      "cell_type": "code",
      "metadata": {
        "id": "kPLNzasPMIiu",
        "colab_type": "code",
        "colab": {}
      },
      "source": [
        "#Define a function to select doors\n",
        "\n",
        "def lets_make_a_deal(select1, select2):\n",
        "  doors = ['A', 'B', 'C']\n",
        "  choices = ['keep', 'switch']\n",
        "  car = random.choice(doors)\n",
        "  #print(f'car is behind door {car}')\n",
        "  if select1 == car and select2 =='keep':\n",
        "    result=1 #if you choose a car on your first guess, you win\n",
        "  elif select1 != car and select2 =='switch':\n",
        "    result=1\n",
        "  else:\n",
        "    result=0\n",
        "  return result\n",
        "  \n",
        "\n",
        "\n",
        "\n",
        "\n",
        "\n"
      ],
      "execution_count": 0,
      "outputs": []
    },
    {
      "cell_type": "code",
      "metadata": {
        "id": "MVWQU-CYMIgf",
        "colab_type": "code",
        "outputId": "d0e09a34-0106-4eb4-d2d9-80e556f54872",
        "colab": {
          "base_uri": "https://localhost:8080/",
          "height": 34
        }
      },
      "source": [
        "# Choose a door (A, B, C,) and a choice (KEEP, SWITCH)\n",
        "lets_make_a_deal('A', 'switch')"
      ],
      "execution_count": 0,
      "outputs": [
        {
          "output_type": "execute_result",
          "data": {
            "text/plain": [
              "0"
            ]
          },
          "metadata": {
            "tags": []
          },
          "execution_count": 45
        }
      ]
    },
    {
      "cell_type": "code",
      "metadata": {
        "id": "I721bayG-Xr0",
        "colab_type": "code",
        "outputId": "eb3df55f-892e-44d2-dac8-7e6ca1613df5",
        "colab": {
          "base_uri": "https://localhost:8080/",
          "height": 34
        }
      },
      "source": [
        "# Play the game 10,000 times. Which strategy is better? (Note: comment out the 'print'!)\n",
        "wins = 0\n",
        "doors = ['A', 'B', 'C']\n",
        "for x in range(0,10000):\n",
        "  points = lets_make_a_deal(random.choice(doors), 'switch')\n",
        "  wins=wins+points\n",
        "print('total points if always switch', wins)"
      ],
      "execution_count": 0,
      "outputs": [
        {
          "output_type": "stream",
          "text": [
            "total points if always switch 6694\n"
          ],
          "name": "stdout"
        }
      ]
    },
    {
      "cell_type": "code",
      "metadata": {
        "id": "qB0FO1kPOpSJ",
        "colab_type": "code",
        "outputId": "18e4be8d-3e19-4dcc-cb79-03d6a4fb4598",
        "colab": {
          "base_uri": "https://localhost:8080/",
          "height": 34
        }
      },
      "source": [
        "wins = 0\n",
        "doors = ['A', 'B', 'C']\n",
        "for x in range(0,10000):\n",
        "  points = lets_make_a_deal(random.choice(doors), 'keep')\n",
        "  wins=wins+points\n",
        "print('total points if always keep', wins)"
      ],
      "execution_count": 0,
      "outputs": [
        {
          "output_type": "stream",
          "text": [
            "total points if always keep 3354\n"
          ],
          "name": "stdout"
        }
      ]
    },
    {
      "cell_type": "markdown",
      "metadata": {
        "id": "YszQBmF0-Xr3",
        "colab_type": "text"
      },
      "source": [
        "Suppose you pick door A. The host opens door B to reveal a goat. Should you switch to door C?  \n",
        "* prior probability  = 1/3\n",
        "* marginal probability  = 1/2  \n",
        "* conditional probability =          (1/2 * 1/3)       +           ( 0 * 1/3)       +           ( 1 * 1/3) = 1/2"
      ]
    },
    {
      "cell_type": "code",
      "metadata": {
        "id": "v1eDnyhB-Xr4",
        "colab_type": "code",
        "outputId": "c7649cd7-e1a2-4be1-eb27-f08b02dfd013",
        "colab": {
          "base_uri": "https://localhost:8080/",
          "height": 34
        }
      },
      "source": [
        "# define your prior, marginal, and conditional probabilities\n",
        "prior = .33\n",
        "marginal = .5\n",
        "conditional = (.5 *.3333333) + (0*.33) + (1*.333333)\n",
        "conditional"
      ],
      "execution_count": 0,
      "outputs": [
        {
          "output_type": "execute_result",
          "data": {
            "text/plain": [
              "0.49999965"
            ]
          },
          "metadata": {
            "tags": []
          },
          "execution_count": 50
        }
      ]
    },
    {
      "cell_type": "code",
      "metadata": {
        "id": "jRkh-gYW-Xr6",
        "colab_type": "code",
        "outputId": "ef718702-9882-4002-dbdb-224d7e615fc0",
        "colab": {
          "base_uri": "https://localhost:8080/",
          "height": 34
        }
      },
      "source": [
        "# P(car is A | choice is A) = (marginal * prior) / conditional\n",
        "posterior = (conditional *prior)/marginal\n",
        "posterior"
      ],
      "execution_count": 0,
      "outputs": [
        {
          "output_type": "execute_result",
          "data": {
            "text/plain": [
              "0.32999976900000005"
            ]
          },
          "metadata": {
            "tags": []
          },
          "execution_count": 51
        }
      ]
    },
    {
      "cell_type": "code",
      "metadata": {
        "id": "rZx0844i-XsA",
        "colab_type": "code",
        "outputId": "6b025afc-8f0f-4eb4-9ebb-3c67f8e5aa1a",
        "colab": {
          "base_uri": "https://localhost:8080/",
          "height": 34
        }
      },
      "source": [
        "# P(car is C | choice is A) = 1-P(car is A | choice is A)\n",
        "round(1-posterior, 3)"
      ],
      "execution_count": 0,
      "outputs": [
        {
          "output_type": "execute_result",
          "data": {
            "text/plain": [
              "0.67"
            ]
          },
          "metadata": {
            "tags": []
          },
          "execution_count": 52
        }
      ]
    },
    {
      "cell_type": "markdown",
      "metadata": {
        "id": "iNtjSNQ0-XsC",
        "colab_type": "text"
      },
      "source": [
        "If we pick a door and then switch after seeing another door opens, the probability of selecting the right door increases from 1/3 to 2/3. It is, based on this information, always in our best interest to switch."
      ]
    },
    {
      "cell_type": "markdown",
      "metadata": {
        "colab_type": "text",
        "id": "3mz8p08BsN6p"
      },
      "source": [
        "## Bayes' Theorem is derived from 2 Laws"
      ]
    },
    {
      "cell_type": "markdown",
      "metadata": {
        "colab_type": "text",
        "id": "Fa-jzYp9i8La"
      },
      "source": [
        "### The Law of Total Probability\n",
        "\n",
        "\n",
        "By definition, the total probability of all outcomes (events) of some variable (event space) $A$ is 1. That is:\n",
        "\n",
        "$$P(A) = \\sum_n P(A_n) = 1$$\n",
        "\n",
        "The law of total probability takes this further, considering two variables ($A$ and $B$) and relating their marginal probabilities and their conditional probabilities. \n",
        "* marginal probabilities (their likelihoods considered independently, without reference to one another)\n",
        "* conditional probabilities (their likelihoods considered jointly)  \n",
        "* A marginal probability is simply notated as e.g. $P(A)$, while a conditional probability is notated $P(A|B)$, which reads \"probability of $A$ *given* $B$\".\n",
        "\n",
        "The law of total probability states:\n",
        "\n",
        "$$P(A) = \\sum_n P(A | B_n) P(B_n)$$\n",
        "\n",
        "In words - the total probability of $A$ is equal to the sum of the conditional probability of $A$ on any given event $B_n$ times the probability of that event $B_n$, and summed over all possible events in $B$."
      ]
    },
    {
      "cell_type": "markdown",
      "metadata": {
        "colab_type": "text",
        "id": "GhycNr-Sbeie"
      },
      "source": [
        "### The Law of Conditional Probability\n",
        "\n",
        "What's the probability of something conditioned on something else? To determine this we have to go back to set theory and think about the intersection of sets:\n",
        "\n",
        "The formula for actual calculation:\n",
        "\n",
        "$$P(A|B) = \\frac{P(A \\cap B)}{P(B)}$$\n",
        "\n",
        "![Visualization of set intersection](https://upload.wikimedia.org/wikipedia/commons/9/99/Venn0001.svg)\n",
        "\n",
        "Think of the overall rectangle as the whole probability space, $A$ as the left circle, $B$ as the right circle, and their intersection as the red area. Try to visualize the ratio being described in the above formula, and how it is different from just the $P(A)$ (not conditioned on $B$).\n",
        "\n",
        "We can see how this relates back to the law of total probability - multiply both sides by $P(B)$ and you get $P(A|B)P(B) = P(A \\cap B)$ - replaced back into the law of total probability we get $P(A) = \\sum_n P(A \\cap B_n)$.\n",
        "\n",
        "This may not seem like an improvement at first, but try to relate it back to the above picture - if you think of sets as physical objects, we're saying that the total probability of $A$ given $B$ is all the little pieces of it intersected with $B$, added together. The conditional probability is then just that again, but divided by the probability of $B$ itself happening in the first place.\n"
      ]
    },
    {
      "cell_type": "markdown",
      "metadata": {
        "id": "vMEtK0tr-XsF",
        "colab_type": "text"
      },
      "source": [
        "### Bayes Theorem\n",
        "\n",
        "$$P(A|B) = \\frac{P(B|A)* P(A)}{P(B)}$$\n",
        "\n",
        "In words - the probability of $A$ conditioned on $B$ is the probability of $B$ conditioned on $A$, times the probability of $A$ and divided by the probability of $B$. "
      ]
    },
    {
      "cell_type": "markdown",
      "metadata": {
        "colab_type": "text",
        "id": "hi45SXVyi_Wt"
      },
      "source": [
        "### Using Bayes Theorem Iteratively (repeated testing)\n",
        "\n",
        "\n",
        "There are many ways to apply Bayes' theorem, such as drug tests. You may think that a drug test that is 100% accurate for true positives (detecting somebody who is a user) is pretty good, but what if it also has 1% false positive rate (indicating somebody is a user when they're not)? And furthermore, the rate of drug use in the population at large (and thus our prior belief) is 1/200.\n",
        "\n",
        "What is the likelihood somebody really is a user if they test positive? Some may guess it's 99% - the difference between the true positives and the false positives. But we have a prior belief of the background/true rate of drug use. Sounds like a job for Bayes' theorem!\n",
        "\n",
        "![Bayes Theorem Drug Test Example](https://wikimedia.org/api/rest_v1/media/math/render/svg/95c6524a3736c43e4bae139713f3df2392e6eda9)\n",
        "\n",
        "In other words, the likelihood that somebody is a user given they tested positive on a drug test is only 33.2% - probably much lower than you'd guess. This is why, in practice, it's important to use repeated testing to confirm. If we have the same individual who tested positive the first time take the drug test a second time then the posterior probability from our the first test becomes our new prior during the second application. What is the probability that a person is a drug user after two positive drug tests in a row?\n",
        "\n",
        "Bayes' theorem has been relevant in court cases where proper consideration of evidence was important. Whether it's a drug test, breathalyzer, pregnancy test, doctor's diagnosis, or neutrino detector, we have to take into account **both** the false positive rate and our prior probability in order to calculate the correct conditional probability."
      ]
    },
    {
      "cell_type": "markdown",
      "metadata": {
        "id": "GIA267ES-XsH",
        "colab_type": "text"
      },
      "source": [
        "* P(+|User) = 1 - True Positive Rate\n",
        "\n",
        "* P(User) = 1/200 Prior probability\n",
        "\n",
        "* P(+|Non-user) = False Positive rate\n",
        "\n",
        "You only need the above three numbers in order to calculate bayes rule  "
      ]
    },
    {
      "cell_type": "code",
      "metadata": {
        "id": "jXilGFFx-XsI",
        "colab_type": "code",
        "colab": {}
      },
      "source": [
        "# prior belief\n",
        "P_user = 1/200\n",
        "\n",
        "# complement of the prior belief\n",
        "P_non_user = 1-P_user\n",
        "\n",
        "# true positive rate\n",
        "P_pos_given_user = 1 \n",
        "\n",
        "# false positive rate\n",
        "P_pos_given_non_user = .01\n"
      ],
      "execution_count": 0,
      "outputs": []
    },
    {
      "cell_type": "code",
      "metadata": {
        "id": "XRJhiAZt-XsK",
        "colab_type": "code",
        "outputId": "83a30f83-f840-4360-cec7-d66b7bba0f71",
        "colab": {
          "base_uri": "https://localhost:8080/",
          "height": 34
        }
      },
      "source": [
        "# My first iteration of Bayes Rule (Bayes Theorem)\n",
        "numerator = P_pos_given_user*P_user\n",
        "numerator"
      ],
      "execution_count": 0,
      "outputs": [
        {
          "output_type": "execute_result",
          "data": {
            "text/plain": [
              "0.005"
            ]
          },
          "metadata": {
            "tags": []
          },
          "execution_count": 54
        }
      ]
    },
    {
      "cell_type": "code",
      "metadata": {
        "id": "pLRd32rWTwCI",
        "colab_type": "code",
        "outputId": "b7aed792-617e-4d81-b373-fdac387b6866",
        "colab": {
          "base_uri": "https://localhost:8080/",
          "height": 34
        }
      },
      "source": [
        "marginal = (P_pos_given_user*P_user) + (P_pos_given_non_user)\n",
        "marginal"
      ],
      "execution_count": 0,
      "outputs": [
        {
          "output_type": "execute_result",
          "data": {
            "text/plain": [
              "0.015"
            ]
          },
          "metadata": {
            "tags": []
          },
          "execution_count": 55
        }
      ]
    },
    {
      "cell_type": "code",
      "metadata": {
        "id": "fvJtKjptUARn",
        "colab_type": "code",
        "outputId": "766a6cda-1383-451a-b8cf-02a94b3e1e21",
        "colab": {
          "base_uri": "https://localhost:8080/",
          "height": 34
        }
      },
      "source": [
        "#the probability that someone is a user given that they tested positive\n",
        "posterior = numerator/marginal\n",
        "posterior"
      ],
      "execution_count": 0,
      "outputs": [
        {
          "output_type": "execute_result",
          "data": {
            "text/plain": [
              "0.33333333333333337"
            ]
          },
          "metadata": {
            "tags": []
          },
          "execution_count": 56
        }
      ]
    },
    {
      "cell_type": "code",
      "metadata": {
        "id": "lIJOuKYw-XsO",
        "colab_type": "code",
        "outputId": "a7426c27-9533-4cd5-9d5d-fdf444856a16",
        "colab": {
          "base_uri": "https://localhost:8080/",
          "height": 34
        }
      },
      "source": [
        "# We have the same person take the drug test again, and they test positive again\n",
        "# Now what is the likelihood that they are a drug user?\n",
        "# The posterior probability from the first test becomes our prior for the second iteration.\n",
        "\n",
        "P_user= posterior\n",
        "P_non_user= 1-P_user\n",
        "\n",
        "\n",
        "#apply Bayes\n",
        "numerator = P_pos_given_user*P_user\n",
        "marginal = (P_pos_given_user*P_user) + (P_pos_given_non_user)\n",
        "posterior = numerator/marginal\n",
        "posterior\n"
      ],
      "execution_count": 0,
      "outputs": [
        {
          "output_type": "execute_result",
          "data": {
            "text/plain": [
              "0.970873786407767"
            ]
          },
          "metadata": {
            "tags": []
          },
          "execution_count": 57
        }
      ]
    },
    {
      "cell_type": "code",
      "metadata": {
        "id": "HBN5WfcX-XsX",
        "colab_type": "code",
        "outputId": "e7574772-175a-4fc7-9ba2-7c14e7b1f43b",
        "colab": {
          "base_uri": "https://localhost:8080/",
          "height": 34
        }
      },
      "source": [
        "# Now the third test\n",
        "P_user= posterior\n",
        "P_non_user= 1-P_user\n",
        "\n",
        "\n",
        "#apply Bayes\n",
        "numerator = P_pos_given_user*P_user\n",
        "marginal = (P_pos_given_user*P_user) + (P_pos_given_non_user)\n",
        "posterior = numerator/marginal\n",
        "posterior"
      ],
      "execution_count": 0,
      "outputs": [
        {
          "output_type": "execute_result",
          "data": {
            "text/plain": [
              "0.9898050084133425"
            ]
          },
          "metadata": {
            "tags": []
          },
          "execution_count": 58
        }
      ]
    },
    {
      "cell_type": "code",
      "metadata": {
        "id": "T4E3XQ8o-XsZ",
        "colab_type": "code",
        "outputId": "8c4615bf-1e55-4550-dfe5-9515b7c3d878",
        "colab": {
          "base_uri": "https://localhost:8080/",
          "height": 34
        }
      },
      "source": [
        "# Fourth test\n",
        "P_user= posterior\n",
        "P_non_user= 1-P_user\n",
        "\n",
        "\n",
        "#apply Bayes\n",
        "numerator = P_pos_given_user*P_user\n",
        "marginal = (P_pos_given_user*P_user) + (P_pos_given_non_user)\n",
        "posterior = numerator/marginal\n",
        "posterior"
      ],
      "execution_count": 0,
      "outputs": [
        {
          "output_type": "execute_result",
          "data": {
            "text/plain": [
              "0.9899980497038421"
            ]
          },
          "metadata": {
            "tags": []
          },
          "execution_count": 59
        }
      ]
    },
    {
      "cell_type": "code",
      "metadata": {
        "id": "7w_CCl22-Xsc",
        "colab_type": "code",
        "colab": {}
      },
      "source": [
        "# Turn all of that into a function\n",
        "def prob_drug_use(prob_drug_prior, false_positive_rate, true_positive_rate, number_of_tests):\n",
        "    posterior_probability=prob_drug_prior\n",
        "    for test in range(0, number_of_tests):\n",
        "        P_user = posterior_probability # prior belief\n",
        "        P_non_user = 1 - P_user  # complement of the prior belief\n",
        "        P_pos_given_user = false_positive_rate # this is the true positive rate\n",
        "        P_pos_given_non_user = true_positive_rate # this is the false positive rate\n",
        "        posterior_probability = (P_pos_given_user*P_user)/((P_pos_given_user*P_user) + (P_pos_given_non_user*P_non_user))\n",
        "    return posterior_probability"
      ],
      "execution_count": 0,
      "outputs": []
    },
    {
      "cell_type": "code",
      "metadata": {
        "id": "xZO5XnuB-Xsf",
        "colab_type": "code",
        "outputId": "9012187f-dad5-49cf-9bbd-335ccf983c35",
        "colab": {
          "base_uri": "https://localhost:8080/",
          "height": 34
        }
      },
      "source": [
        "# try it out\n",
        "prob_drug_use(1/200, 1, .01, 1 )\n"
      ],
      "execution_count": 0,
      "outputs": [
        {
          "output_type": "execute_result",
          "data": {
            "text/plain": [
              "0.33444816053511706"
            ]
          },
          "metadata": {
            "tags": []
          },
          "execution_count": 65
        }
      ]
    },
    {
      "cell_type": "markdown",
      "metadata": {
        "colab_type": "text",
        "id": "htI3DGvDsRJF"
      },
      "source": [
        "## Calculating Bayesian Confidence"
      ]
    },
    {
      "cell_type": "code",
      "metadata": {
        "colab_type": "code",
        "id": "ke-5EqJI0Tsn",
        "outputId": "84730e46-e37a-4dfd-eff1-02c65a76248b",
        "colab": {
          "base_uri": "https://localhost:8080/",
          "height": 129
        }
      },
      "source": [
        "https://docs.scipy.org/doc/scipy/reference/generated/scipy.stats.bayes_mvs.html  "
      ],
      "execution_count": 0,
      "outputs": [
        {
          "output_type": "error",
          "ename": "SyntaxError",
          "evalue": "ignored",
          "traceback": [
            "\u001b[0;36m  File \u001b[0;32m\"<ipython-input-66-13cf3f1572c7>\"\u001b[0;36m, line \u001b[0;32m1\u001b[0m\n\u001b[0;31m    https://docs.scipy.org/doc/scipy/reference/generated/scipy.stats.bayes_mvs.html\u001b[0m\n\u001b[0m           ^\u001b[0m\n\u001b[0;31mSyntaxError\u001b[0m\u001b[0;31m:\u001b[0m invalid syntax\n"
          ]
        }
      ]
    },
    {
      "cell_type": "markdown",
      "metadata": {
        "id": "OPkZWrB5-Xsm",
        "colab_type": "text"
      },
      "source": [
        "#### Example 1. Using random number generator"
      ]
    },
    {
      "cell_type": "code",
      "metadata": {
        "id": "aSiDOAsW-Xsp",
        "colab_type": "code",
        "colab": {}
      },
      "source": [
        "# import scipy and numpy\n",
        "from scipy import stats\n",
        "import numpy as np\n",
        "# Set Random Seed for Reproducibility\n",
        "np.random.seed(seed=42)"
      ],
      "execution_count": 0,
      "outputs": []
    },
    {
      "cell_type": "code",
      "metadata": {
        "id": "Btrmz0KnY31s",
        "colab_type": "code",
        "outputId": "68e3230d-92a8-4b37-8dd2-1411e1e5c9da",
        "colab": {
          "base_uri": "https://localhost:8080/",
          "height": 68
        }
      },
      "source": [
        "#define our event space\n",
        "coinflips = np.random.binomial(n=1, p=.5, size=100)\n",
        "print(coinflips)"
      ],
      "execution_count": 0,
      "outputs": [
        {
          "output_type": "stream",
          "text": [
            "[0 1 1 1 0 0 0 1 1 1 0 1 1 0 0 0 0 1 0 0 1 0 0 0 0 1 0 1 1 0 1 0 0 1 1 1 0\n",
            " 0 1 0 0 0 0 1 0 1 0 1 1 0 1 1 1 1 1 1 0 0 0 0 0 0 1 0 0 1 0 1 0 1 1 0 0 1\n",
            " 1 1 1 0 0 0 1 1 0 0 0 0 1 1 1 0 0 1 1 1 1 0 1 0 0 0]\n"
          ],
          "name": "stdout"
        }
      ]
    },
    {
      "cell_type": "code",
      "metadata": {
        "id": "MG1AueXbZIPH",
        "colab_type": "code",
        "outputId": "0dd7633f-5d44-4689-e103-b226da8cd464",
        "colab": {
          "base_uri": "https://localhost:8080/",
          "height": 34
        }
      },
      "source": [
        "#what is the sample mean?\n",
        "np.mean(coinflips)"
      ],
      "execution_count": 0,
      "outputs": [
        {
          "output_type": "execute_result",
          "data": {
            "text/plain": [
              "0.47"
            ]
          },
          "metadata": {
            "tags": []
          },
          "execution_count": 69
        }
      ]
    },
    {
      "cell_type": "code",
      "metadata": {
        "id": "_uV7QUoX-Xss",
        "colab_type": "code",
        "outputId": "30ae6563-8e8f-498d-e0b0-0cad9526a37b",
        "colab": {
          "base_uri": "https://localhost:8080/",
          "height": 34
        }
      },
      "source": [
        "# FREQUENTIST APPROACH\n",
        "# calculate a 95% confidence interval on either side of this.\n",
        "conf_freq = stats.t.interval(0.95, \n",
        "                            len(coinflips),\n",
        "                            loc=np.mean(coinflips),\n",
        "                            scale=stats.sem(coinflips)\n",
        "                            )\n",
        "conf_freq"
      ],
      "execution_count": 0,
      "outputs": [
        {
          "output_type": "execute_result",
          "data": {
            "text/plain": [
              "(0.37048129875673796, 0.569518701243262)"
            ]
          },
          "metadata": {
            "tags": []
          },
          "execution_count": 75
        }
      ]
    },
    {
      "cell_type": "code",
      "metadata": {
        "id": "xpkwZwVIZvV3",
        "colab_type": "code",
        "colab": {}
      },
      "source": [
        "#Interpreation: given a sample mean of .47, we are 95% confident that the population mean falls between .37 and .56"
      ],
      "execution_count": 0,
      "outputs": []
    },
    {
      "cell_type": "code",
      "metadata": {
        "id": "GF9fluMm-Xsx",
        "colab_type": "code",
        "outputId": "12bbe2b1-7f8b-492e-b6f8-0c48838822af",
        "colab": {
          "base_uri": "https://localhost:8080/",
          "height": 34
        }
      },
      "source": [
        "# BAYESIAN APPROACH\n",
        "conf_bayes = stats.bayes_mvs(coinflips, alpha=.95)[0][1]\n",
        "conf_bayes"
      ],
      "execution_count": 0,
      "outputs": [
        {
          "output_type": "execute_result",
          "data": {
            "text/plain": [
              "(0.37046898750173674, 0.5695310124982632)"
            ]
          },
          "metadata": {
            "tags": []
          },
          "execution_count": 73
        }
      ]
    },
    {
      "cell_type": "code",
      "metadata": {
        "id": "jbKWJJkj-Xs1",
        "colab_type": "code",
        "outputId": "f6f02ed3-c841-4b37-fa67-929719a68c7c",
        "colab": {
          "base_uri": "https://localhost:8080/",
          "height": 282
        }
      },
      "source": [
        "# plot on graph with kernel density estimate\n",
        "import seaborn as sns\n",
        "sns.kdeplot(coinflips)"
      ],
      "execution_count": 0,
      "outputs": [
        {
          "output_type": "execute_result",
          "data": {
            "text/plain": [
              "<matplotlib.axes._subplots.AxesSubplot at 0x7f0603aab6a0>"
            ]
          },
          "metadata": {
            "tags": []
          },
          "execution_count": 74
        },
        {
          "output_type": "display_data",
          "data": {
            "image/png": "[encoded data removed]",
            "text/plain": [
              "<Figure size 432x288 with 1 Axes>"
            ]
          },
          "metadata": {
            "tags": []
          }
        }
      ]
    },
    {
      "cell_type": "code",
      "metadata": {
        "id": "DmWI6RugaeKu",
        "colab_type": "code",
        "outputId": "377390f6-03c3-4a61-8fc3-44b1fc5cf916",
        "colab": {
          "base_uri": "https://localhost:8080/",
          "height": 265
        }
      },
      "source": [
        "#plot with the conf interval\n",
        "import matplotlib.pyplot as plt\n",
        "#plt.xlim(.3703, .3705)\n",
        "sns.kdeplot(coinflips);\n",
        "plt.axvline(x=conf_bayes[0], color='red')\n",
        "plt.axvline(x=conf_bayes[1], color='red')\n",
        "\n",
        "plt.axvline(x=conf_freq[0], color='green')\n",
        "plt.axvline(x=conf_freq[1], color='green')\n",
        "\n",
        "plt.axvline(x=np.mean(coinflips), color='k');"
      ],
      "execution_count": 0,
      "outputs": [
        {
          "output_type": "display_data",
          "data": {
            "image/png": "[encoded data removed]",
            "text/plain": [
              "<Figure size 432x288 with 1 Axes>"
            ]
          },
          "metadata": {
            "tags": []
          }
        }
      ]
    },
    {
      "cell_type": "markdown",
      "metadata": {
        "id": "Vl5nFMqN-Xs5",
        "colab_type": "text"
      },
      "source": [
        "#### Example 2. Using pandas dataframe"
      ]
    },
    {
      "cell_type": "code",
      "metadata": {
        "id": "rrneo_DL-Xs5",
        "colab_type": "code",
        "colab": {}
      },
      "source": [
        "# read in the adult workforce dataset\n",
        "url='https://raw.githubusercontent.com/ryanleeallred/datasets/master/adult.csv'"
      ],
      "execution_count": 0,
      "outputs": []
    },
    {
      "cell_type": "code",
      "metadata": {
        "id": "uOdGoT5lbl9Y",
        "colab_type": "code",
        "colab": {}
      },
      "source": [
        "import pandas as pd\n",
        "import scipy.stats as stats"
      ],
      "execution_count": 0,
      "outputs": []
    },
    {
      "cell_type": "code",
      "metadata": {
        "id": "DvXaedbvbq5N",
        "colab_type": "code",
        "outputId": "ecff3d52-fb27-4414-f31d-b583120bf498",
        "colab": {
          "base_uri": "https://localhost:8080/",
          "height": 204
        }
      },
      "source": [
        "#data\n",
        "adults = pd.read_csv(url, na_values=' ?')\n",
        "adults.head()"
      ],
      "execution_count": 0,
      "outputs": [
        {
          "output_type": "execute_result",
          "data": {
            "text/html": [
              "<div>\n",
              "<style scoped>\n",
              "    .dataframe tbody tr th:only-of-type {\n",
              "        vertical-align: middle;\n",
              "    }\n",
              "\n",
              "    .dataframe tbody tr th {\n",
              "        vertical-align: top;\n",
              "    }\n",
              "\n",
              "    .dataframe thead th {\n",
              "        text-align: right;\n",
              "    }\n",
              "</style>\n",
              "<table border=\"1\" class=\"dataframe\">\n",
              "  <thead>\n",
              "    <tr style=\"text-align: right;\">\n",
              "      <th></th>\n",
              "      <th>age</th>\n",
              "      <th>workclass</th>\n",
              "      <th>fnlwgt</th>\n",
              "      <th>education</th>\n",
              "      <th>education-num</th>\n",
              "      <th>marital-status</th>\n",
              "      <th>occupation</th>\n",
              "      <th>relationship</th>\n",
              "      <th>race</th>\n",
              "      <th>sex</th>\n",
              "      <th>capital-gain</th>\n",
              "      <th>capital-loss</th>\n",
              "      <th>hours-per-week</th>\n",
              "      <th>country</th>\n",
              "      <th>salary</th>\n",
              "    </tr>\n",
              "  </thead>\n",
              "  <tbody>\n",
              "    <tr>\n",
              "      <th>0</th>\n",
              "      <td>39</td>\n",
              "      <td>State-gov</td>\n",
              "      <td>77516</td>\n",
              "      <td>Bachelors</td>\n",
              "      <td>13</td>\n",
              "      <td>Never-married</td>\n",
              "      <td>Adm-clerical</td>\n",
              "      <td>Not-in-family</td>\n",
              "      <td>White</td>\n",
              "      <td>Male</td>\n",
              "      <td>2174</td>\n",
              "      <td>0</td>\n",
              "      <td>40</td>\n",
              "      <td>United-States</td>\n",
              "      <td>&lt;=50K</td>\n",
              "    </tr>\n",
              "    <tr>\n",
              "      <th>1</th>\n",
              "      <td>50</td>\n",
              "      <td>Self-emp-not-inc</td>\n",
              "      <td>83311</td>\n",
              "      <td>Bachelors</td>\n",
              "      <td>13</td>\n",
              "      <td>Married-civ-spouse</td>\n",
              "      <td>Exec-managerial</td>\n",
              "      <td>Husband</td>\n",
              "      <td>White</td>\n",
              "      <td>Male</td>\n",
              "      <td>0</td>\n",
              "      <td>0</td>\n",
              "      <td>13</td>\n",
              "      <td>United-States</td>\n",
              "      <td>&lt;=50K</td>\n",
              "    </tr>\n",
              "    <tr>\n",
              "      <th>2</th>\n",
              "      <td>38</td>\n",
              "      <td>Private</td>\n",
              "      <td>215646</td>\n",
              "      <td>HS-grad</td>\n",
              "      <td>9</td>\n",
              "      <td>Divorced</td>\n",
              "      <td>Handlers-cleaners</td>\n",
              "      <td>Not-in-family</td>\n",
              "      <td>White</td>\n",
              "      <td>Male</td>\n",
              "      <td>0</td>\n",
              "      <td>0</td>\n",
              "      <td>40</td>\n",
              "      <td>United-States</td>\n",
              "      <td>&lt;=50K</td>\n",
              "    </tr>\n",
              "    <tr>\n",
              "      <th>3</th>\n",
              "      <td>53</td>\n",
              "      <td>Private</td>\n",
              "      <td>234721</td>\n",
              "      <td>11th</td>\n",
              "      <td>7</td>\n",
              "      <td>Married-civ-spouse</td>\n",
              "      <td>Handlers-cleaners</td>\n",
              "      <td>Husband</td>\n",
              "      <td>Black</td>\n",
              "      <td>Male</td>\n",
              "      <td>0</td>\n",
              "      <td>0</td>\n",
              "      <td>40</td>\n",
              "      <td>United-States</td>\n",
              "      <td>&lt;=50K</td>\n",
              "    </tr>\n",
              "    <tr>\n",
              "      <th>4</th>\n",
              "      <td>28</td>\n",
              "      <td>Private</td>\n",
              "      <td>338409</td>\n",
              "      <td>Bachelors</td>\n",
              "      <td>13</td>\n",
              "      <td>Married-civ-spouse</td>\n",
              "      <td>Prof-specialty</td>\n",
              "      <td>Wife</td>\n",
              "      <td>Black</td>\n",
              "      <td>Female</td>\n",
              "      <td>0</td>\n",
              "      <td>0</td>\n",
              "      <td>40</td>\n",
              "      <td>Cuba</td>\n",
              "      <td>&lt;=50K</td>\n",
              "    </tr>\n",
              "  </tbody>\n",
              "</table>\n",
              "</div>"
            ],
            "text/plain": [
              "   age          workclass  fnlwgt  ... hours-per-week         country  salary\n",
              "0   39          State-gov   77516  ...             40   United-States   <=50K\n",
              "1   50   Self-emp-not-inc   83311  ...             13   United-States   <=50K\n",
              "2   38            Private  215646  ...             40   United-States   <=50K\n",
              "3   53            Private  234721  ...             40   United-States   <=50K\n",
              "4   28            Private  338409  ...             40            Cuba   <=50K\n",
              "\n",
              "[5 rows x 15 columns]"
            ]
          },
          "metadata": {
            "tags": []
          },
          "execution_count": 85
        }
      ]
    },
    {
      "cell_type": "code",
      "metadata": {
        "id": "irpfX1xP-Xs8",
        "colab_type": "code",
        "outputId": "eefcf63a-916e-41cf-a972-8ac43dd6b808",
        "colab": {
          "base_uri": "https://localhost:8080/",
          "height": 34
        }
      },
      "source": [
        "# mean age\n",
        "adults['age'].mean()"
      ],
      "execution_count": 0,
      "outputs": [
        {
          "output_type": "execute_result",
          "data": {
            "text/plain": [
              "38.58164675532078"
            ]
          },
          "metadata": {
            "tags": []
          },
          "execution_count": 86
        }
      ]
    },
    {
      "cell_type": "code",
      "metadata": {
        "id": "1fubUNlg-Xs_",
        "colab_type": "code",
        "outputId": "35f77c3b-1875-467b-d75b-0df6d4082684",
        "colab": {
          "base_uri": "https://localhost:8080/",
          "height": 34
        }
      },
      "source": [
        "# FREQUENTIST APPROACH\n",
        "# calculate a 95% confidence interval on either side of this.\n",
        "conf_freq = stats.t.interval(0.95, \n",
        "                            adults.shape[0],\n",
        "                            loc=adults['age'].mean(),\n",
        "                            scale=stats.sem(adults['age'])\n",
        "                            )\n",
        "conf_freq"
      ],
      "execution_count": 0,
      "outputs": [
        {
          "output_type": "execute_result",
          "data": {
            "text/plain": [
              "(38.433482476875845, 38.72981103376572)"
            ]
          },
          "metadata": {
            "tags": []
          },
          "execution_count": 91
        }
      ]
    },
    {
      "cell_type": "code",
      "metadata": {
        "id": "8sB_YVsN-XtC",
        "colab_type": "code",
        "outputId": "b68c96e1-b07b-4fa8-d086-1cb2ba9c0452",
        "colab": {
          "base_uri": "https://localhost:8080/",
          "height": 34
        }
      },
      "source": [
        "# BAYESIAN APPROACH\n",
        "conf_bayes = stats.bayes_mvs(adults['age'], alpha=.95)[0][1]\n",
        "conf_bayes"
      ],
      "execution_count": 0,
      "outputs": [
        {
          "output_type": "execute_result",
          "data": {
            "text/plain": [
              "(38.433490259580736, 38.72980325106083)"
            ]
          },
          "metadata": {
            "tags": []
          },
          "execution_count": 92
        }
      ]
    },
    {
      "cell_type": "code",
      "metadata": {
        "id": "jybx7oPe-XtF",
        "colab_type": "code",
        "outputId": "d24b0ccc-6f0a-43ba-83cb-d76b309f2c7d",
        "colab": {
          "base_uri": "https://localhost:8080/",
          "height": 265
        }
      },
      "source": [
        "# plot on graph with kernel density estimate\n",
        "import matplotlib.pyplot as plt\n",
        "\n",
        "sns.kdeplot(adults['age']);\n",
        "plt.axvline(x=conf_bayes[0], color='red')\n",
        "plt.axvline(x=conf_bayes[1], color='red')\n",
        "\n",
        "plt.axvline(x=conf_freq[0], color='green')\n",
        "plt.axvline(x=conf_freq[1], color='green')\n",
        "\n",
        "plt.axvline(x=np.mean(adults['age']), color='k');"
      ],
      "execution_count": 0,
      "outputs": [
        {
          "output_type": "display_data",
          "data": {
            "image/png": "[encoded data removed]",
            "text/plain": [
              "<Figure size 432x288 with 1 Axes>"
            ]
          },
          "metadata": {
            "tags": []
          }
        }
      ]
    },
    {
      "cell_type": "markdown",
      "metadata": {
        "colab_type": "text",
        "id": "uWgWjp3PQ3Sq"
      },
      "source": [
        "## Resources"
      ]
    },
    {
      "cell_type": "markdown",
      "metadata": {
        "colab_type": "text",
        "id": "QRgHqmYIQ9qn"
      },
      "source": [
        "- [Worked example of Bayes rule calculation](https://en.wikipedia.org/wiki/Bayes'_theorem#Examples) (helpful as it fully breaks out the denominator)\n",
        "- [Source code for mvsdist in scipy](https://github.com/scipy/scipy/blob/90534919e139d2a81c24bf08341734ff41a3db12/scipy/stats/morestats.py#L139)"
      ]
    }
  ]
}