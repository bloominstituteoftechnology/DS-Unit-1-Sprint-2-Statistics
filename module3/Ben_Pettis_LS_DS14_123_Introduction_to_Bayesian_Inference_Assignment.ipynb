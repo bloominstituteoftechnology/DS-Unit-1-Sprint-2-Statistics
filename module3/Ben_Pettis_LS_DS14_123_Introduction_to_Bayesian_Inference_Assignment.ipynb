{
  "nbformat": 4,
  "nbformat_minor": 0,
  "metadata": {
    "colab": {
      "name": "Copy of LS_DS_123_Introduction_to_Bayesian_Inference_Assignment.ipynb",
      "provenance": [],
      "collapsed_sections": [],
      "include_colab_link": true
    },
    "kernelspec": {
      "name": "python3",
      "display_name": "Python 3"
    }
  },
  "cells": [
    {
      "cell_type": "markdown",
      "metadata": {
        "id": "view-in-github",
        "colab_type": "text"
      },
      "source": [
        "<a href=\"https://colab.research.google.com/github/benpettis/DS-Unit-1-Sprint-2-Statistics/blob/master/module3/Ben_Pettis_LS14_DS_123_Introduction_to_Bayesian_Inference_Assignment.ipynb\" target=\"_parent\"><img src=\"https://colab.research.google.com/assets/colab-badge.svg\" alt=\"Open In Colab\"/></a>"
      ]
    },
    {
      "cell_type": "markdown",
      "metadata": {
        "id": "H7OLbevlbd_Z",
        "colab_type": "text"
      },
      "source": [
        "# Lambda School Data Science Module 123\n",
        "\n",
        "## Introduction to Bayesian Inference\n",
        "\n",
        "\n"
      ]
    },
    {
      "cell_type": "markdown",
      "metadata": {
        "id": "P-DzzRk5bf0z",
        "colab_type": "text"
      },
      "source": [
        "## Assignment - Code it up!\n",
        "\n",
        "We used pure math to apply Bayes Theorem to drug tests. Now write Python code to reproduce the results! This is purposefully open ended - you'll have to think about how you should represent probabilities and events. You can and should look things up.\n",
        "\n",
        "Specific goals/targets:\n",
        "\n",
        "### 1) Write a function \n",
        "\n",
        "`def prob_drunk_given_positive(prob_drunk_prior, false_positive_rate):` \n",
        "\n",
        "You should only truly need these two values in order to apply Bayes Theorem. In this example, imagine that individuals are taking a breathalyzer test with an 8% false positive rate, a 100% true positive rate, and that our prior belief about drunk driving in the population is 1/1000. \n",
        " - What is the probability that a person is drunk after one positive breathalyzer test?\n",
        " - What is the probability that a person is drunk after two positive breathalyzer tests?\n",
        " - How many positive breathalyzer tests are needed in order to have a probability that's greater than 95% that a person is drunk beyond the legal limit?\n",
        "\n",
        "### 2) Explore `scipy.stats.bayes_mvs`  \n",
        "Read its documentation, and experiment with it on data you've tested in other ways earlier this week.\n",
        " - Create a visualization comparing the results of a Bayesian approach to a traditional/frequentist approach. (with a large sample size they should look close to identical, however, take this opportunity to practice visualizing condfidence intervals in general. The following are some potential ways that you could visualize confidence intervals on your graph:\n",
        "  - [Matplotlib Error Bars](https://matplotlib.org/3.1.1/api/_as_gen/matplotlib.pyplot.errorbar.html)\n",
        "  - [Seaborn barplot with error bars](https://seaborn.pydata.org/generated/seaborn.barplot.html)\n",
        "  - [Vertical ines to show bounds of confidence interval](https://www.simplypsychology.org/confidence-interval.jpg)\n",
        "  - [Confidence Intervals on Box Plots](https://matplotlib.org/3.1.1/api/_as_gen/matplotlib.axes.Axes.boxplot.html)\n",
        "\n",
        "### 3) In your own words, summarize the difference between Bayesian and Frequentist statistics\n",
        "\n",
        "If you're unsure where to start, check out [this blog post of Bayes theorem with Python](https://dataconomy.com/2015/02/introduction-to-bayes-theorem-with-python/).\n",
        "\n"
      ]
    },
    {
      "cell_type": "code",
      "metadata": {
        "id": "xpVhZyUnbf7o",
        "colab_type": "code",
        "colab": {}
      },
      "source": [
        "# Write a function for Bayesian DUI tests\n",
        "\n",
        "def prob_drunk_given_positive(prob_drunk_prior, false_positive_rate, true_positive_rate):\n",
        "  numerator = (true_positive_rate * prob_drunk_prior)\n",
        "  denominator = numerator + (false_positive_rate*(1-prob_drunk_prior))\n",
        "  p = numerator / denominator\n",
        "  return p"
      ],
      "execution_count": 0,
      "outputs": []
    },
    {
      "cell_type": "code",
      "metadata": {
        "id": "d13EzMItKpI5",
        "colab_type": "code",
        "outputId": "480c8dde-d1ad-4698-c891-2466640e31f5",
        "colab": {
          "base_uri": "https://localhost:8080/",
          "height": 34
        }
      },
      "source": [
        "# prob drunk after 1 positive test\n",
        "p_value = prob_drunk_given_positive(.001, .08, 1)\n",
        "p_value\n"
      ],
      "execution_count": 0,
      "outputs": [
        {
          "output_type": "execute_result",
          "data": {
            "text/plain": [
              "0.012357884330202669"
            ]
          },
          "metadata": {
            "tags": []
          },
          "execution_count": 20
        }
      ]
    },
    {
      "cell_type": "code",
      "metadata": {
        "id": "RFAVAbJhKsJl",
        "colab_type": "code",
        "outputId": "6c7d0d3b-5a74-427a-8da3-6bb4f33ed2c4",
        "colab": {
          "base_uri": "https://localhost:8080/",
          "height": 34
        }
      },
      "source": [
        "# prob drunk after 2 positive tests\n",
        "prob_drunk_given_positive(p_value, .08, 1)"
      ],
      "execution_count": 0,
      "outputs": [
        {
          "output_type": "execute_result",
          "data": {
            "text/plain": [
              "0.13525210993291495"
            ]
          },
          "metadata": {
            "tags": []
          },
          "execution_count": 21
        }
      ]
    },
    {
      "cell_type": "code",
      "metadata": {
        "id": "7Gi4qavbK34u",
        "colab_type": "code",
        "outputId": "a0acc04d-3ff1-447d-c778-59e503d7daae",
        "colab": {
          "base_uri": "https://localhost:8080/",
          "height": 34
        }
      },
      "source": [
        "# how many pos tests for > 95% prob drunk\n",
        "\n",
        "count = 0\n",
        "p_value1 = .001\n",
        "while p_value1 < .95:\n",
        "  p_value2 = prob_drunk_given_positive(p_value1, .08, 1)\n",
        "  p_value1 = p_value1 + p_value2\n",
        "  count = count + 1\n",
        "print(count)\n",
        "\n"
      ],
      "execution_count": 0,
      "outputs": [
        {
          "output_type": "stream",
          "text": [
            "4\n"
          ],
          "name": "stdout"
        }
      ]
    },
    {
      "cell_type": "code",
      "metadata": {
        "id": "_Zv9ysJkW8yx",
        "colab_type": "code",
        "outputId": "5587a530-6bb1-4fc1-8eef-ba7b289d64f0",
        "colab": {
          "base_uri": "https://localhost:8080/",
          "height": 118
        }
      },
      "source": [
        "# Explore scipy.stats.bayes_mvs\n",
        "\n",
        "# read/format data\n",
        "import pandas as pd\n",
        "from scipy import stats\n",
        "import numpy as np\n",
        "\n",
        "votes = pd.read_csv('https://archive.ics.uci.edu/ml/machine-learning-databases/voting-records/house-votes-84.data', names=['party','handicapped-infants','water-project',\n",
        "                          'budget','physician-fee-freeze', 'el-salvador-aid',\n",
        "                          'religious-groups','anti-satellite-ban',\n",
        "                          'aid-to-contras','mx-missile','immigration',\n",
        "                          'synfuels', 'education', 'right-to-sue','crime','duty-free',\n",
        "                          'south-africa'])\n",
        "\n",
        "votes = votes.replace({'y':1, 'n':0, '?':np.NaN})\n",
        "rep = votes[votes['party'] == 'republican']\n",
        "rep = rep.drop(['party'], axis=1)\n",
        "rep_infants = rep['handicapped-infants']\n",
        "rep_infants = rep_infants.dropna()\n",
        "rep_infants.head()\n",
        "\n"
      ],
      "execution_count": 0,
      "outputs": [
        {
          "output_type": "execute_result",
          "data": {
            "text/plain": [
              "0     0.0\n",
              "1     0.0\n",
              "7     0.0\n",
              "8     0.0\n",
              "10    0.0\n",
              "Name: handicapped-infants, dtype: float64"
            ]
          },
          "metadata": {
            "tags": []
          },
          "execution_count": 23
        }
      ]
    },
    {
      "cell_type": "code",
      "metadata": {
        "colab_type": "code",
        "id": "lke11H1VrLUs",
        "outputId": "265a3a19-1fc9-4cde-ec47-8e8b15871738",
        "colab": {
          "base_uri": "https://localhost:8080/",
          "height": 265
        }
      },
      "source": [
        "# visualize bayesian approach\n",
        "import matplotlib.pyplot as plt\n",
        "mean_CI, _, _ = stats.bayes_mvs(rep_infants, alpha=.95)\n",
        "rep_infants.plot.density()\n",
        "plt.axvline(x=mean_CI.minmax[1], color='red')\n",
        "plt.axvline(x=mean_CI.statistic, color='black')\n",
        "plt.axvline(x=mean_CI.minmax[0], color='red')\n",
        "plt.show()"
      ],
      "execution_count": 0,
      "outputs": [
        {
          "output_type": "display_data",
          "data": {
            "image/png": "[encoded data removed]",
            "text/plain": [
              "<Figure size 432x288 with 1 Axes>"
            ]
          },
          "metadata": {
            "tags": []
          }
        }
      ]
    },
    {
      "cell_type": "code",
      "metadata": {
        "id": "xRrzjRajocib",
        "colab_type": "code",
        "colab": {}
      },
      "source": [
        "# create confidence interval function\n",
        "\n",
        "def confidence_interval (data, confidence = 0.95):\n",
        "  data = np.array(data)\n",
        "  mean = np.mean(data)\n",
        "  n = len(data)\n",
        "  s = data.std(ddof=1)\n",
        "  stderr = s / np.sqrt(n)\n",
        "  t = stats.t.ppf((1 + confidence) / 2.0, n - 1)\n",
        "  margin_of_error = t*stderr\n",
        "  return (mean, mean - margin_of_error, mean + margin_of_error)\n",
        "  "
      ],
      "execution_count": 0,
      "outputs": []
    },
    {
      "cell_type": "code",
      "metadata": {
        "id": "eWPZtAabodD0",
        "colab_type": "code",
        "outputId": "c3d8e321-9570-43a0-e802-b83b4bbf112f",
        "colab": {
          "base_uri": "https://localhost:8080/",
          "height": 67
        }
      },
      "source": [
        "# Generate confidence interval for Republicans' votes about infants\n",
        "mean, upper, lower = confidence_interval(rep_infants, confidence=.95)\n",
        "print(mean)\n",
        "print(upper)\n",
        "print(lower)"
      ],
      "execution_count": 0,
      "outputs": [
        {
          "output_type": "stream",
          "text": [
            "0.18787878787878787\n",
            "0.12765166444807918\n",
            "0.24810591130949655\n"
          ],
          "name": "stdout"
        }
      ]
    },
    {
      "cell_type": "code",
      "metadata": {
        "id": "7HJPFalwoe7h",
        "colab_type": "code",
        "outputId": "1aaffc75-bedc-4647-9347-0925908105a8",
        "colab": {
          "base_uri": "https://localhost:8080/",
          "height": 265
        }
      },
      "source": [
        "# visualize traditional approach \n",
        "\n",
        "ci = confidence_interval(rep_infants)\n",
        "rep_infants.plot.density()\n",
        "plt.axvline(x=ci[2], color='red')\n",
        "plt.axvline(x=ci[0], color='black')\n",
        "plt.axvline(x=ci[1], color='red')\n",
        "plt.show()"
      ],
      "execution_count": 0,
      "outputs": [
        {
          "output_type": "display_data",
          "data": {
            "image/png": "[encoded data removed]",
            "text/plain": [
              "<Figure size 432x288 with 1 Axes>"
            ]
          },
          "metadata": {
            "tags": []
          }
        }
      ]
    },
    {
      "cell_type": "markdown",
      "metadata": {
        "id": "sdJYRm25sf53",
        "colab_type": "text"
      },
      "source": [
        "**In your own words, summarize the difference between Bayesian and Frequentist statistics**:\n",
        "\n",
        "Beysian statistics use data from prior experiments, and frequentists do not."
      ]
    },
    {
      "cell_type": "markdown",
      "metadata": {
        "id": "uWgWjp3PQ3Sq",
        "colab_type": "text"
      },
      "source": [
        "## Resources"
      ]
    },
    {
      "cell_type": "markdown",
      "metadata": {
        "id": "QRgHqmYIQ9qn",
        "colab_type": "text"
      },
      "source": [
        "- [Worked example of Bayes rule calculation](https://en.wikipedia.org/wiki/Bayes'_theorem#Examples) (helpful as it fully breaks out the denominator)\n",
        "- [Source code for mvsdist in scipy](https://github.com/scipy/scipy/blob/90534919e139d2a81c24bf08341734ff41a3db12/scipy/stats/morestats.py#L139)"
      ]
    },
    {
      "cell_type": "code",
      "metadata": {
        "id": "k0x2LROeHnI7",
        "colab_type": "code",
        "colab": {}
      },
      "source": [
        ""
      ],
      "execution_count": 0,
      "outputs": []
    },
    {
      "cell_type": "markdown",
      "metadata": {
        "id": "GP7Jv1XvwtkX",
        "colab_type": "text"
      },
      "source": [
        "## Stretch Goals:\n",
        "\n",
        "- **Go back and study the content from Modules 1 & 2 to make sure that you're really comfortable with them. (done)**\n",
        "- Apply a Bayesian technique to a problem you previously worked (in an assignment or project work) on from a frequentist (standard) perspective\n",
        "- Check out [PyMC3](https://docs.pymc.io/) (note this goes beyond hypothesis tests into modeling) - read the guides and work through some examples\n",
        "- Take PyMC3 further - see if you can build something with it!"
      ]
    },
    {
      "cell_type": "code",
      "metadata": {
        "id": "iDi0eFr1x-v_",
        "colab_type": "code",
        "outputId": "35b6dcf5-6f28-47a2-d35d-34b272f18765",
        "colab": {
          "base_uri": "https://localhost:8080/",
          "height": 34
        }
      },
      "source": [
        "# attempting to simulate the monty hall problem\n",
        "vars = [car,goat1,goat2]\n",
        "car = 1\n",
        "goat1 = 2\n",
        "goat2 = 3\n",
        "wins = 0\n",
        "losses = 0\n",
        "\n",
        "\n",
        "count = 0\n",
        "import random\n",
        "\n",
        "while count < 1000:\n",
        "  sample = random.sample(vars,3)\n",
        "  if sample[0] == 1:\n",
        "    if count % 2 != 0:\n",
        "      wins = wins + 1\n",
        "    if count % 2 == 0:\n",
        "        if sample[1] == 1:\n",
        "          wins = wins + 1\n",
        "        else:\n",
        "          losses = losses + 1\n",
        "  count = count + 1\n",
        "print('Contestant wins ' + str((wins / count)*100) + '% of the time with switching.')\n",
        "\n",
        "\n",
        "  \n"
      ],
      "execution_count": 0,
      "outputs": [
        {
          "output_type": "stream",
          "text": [
            "Contestant wins 17.599999999999998% of the time with switching.\n"
          ],
          "name": "stdout"
        }
      ]
    },
    {
      "cell_type": "code",
      "metadata": {
        "id": "Ue-5OiSGFYQ8",
        "colab_type": "code",
        "outputId": "d1ee384f-6c0a-4062-e378-0b7edb6aaddb",
        "colab": {
          "base_uri": "https://localhost:8080/",
          "height": 50
        }
      },
      "source": [
        "# attempting #2\n",
        "car = 1\n",
        "goat1 = 2\n",
        "goat2 = 3\n",
        "vars = [car, goat1, goat2]\n",
        "door1_wins = 0\n",
        "door2_wins = 0\n",
        "door1_losses = 0\n",
        "door2_losses = 0\n",
        "count = 0\n",
        "test_df = []\n",
        "import random\n",
        "\n",
        "while count < 1000:\n",
        "  sample = random.sample(vars,3)\n",
        "    \n",
        "  if sample[0] == 1:\n",
        "    door1_wins = door1_wins + 1\n",
        "  else:\n",
        "    door1_losses = door1_losses + 1 \n",
        "  if sample[1] == 1:\n",
        "    door2_wins = door2_wins + 1\n",
        "  else:\n",
        "    door2_losses = door2_losses + 1 \n",
        "  \n",
        "\n",
        "  count = count + 1\n",
        "print(door1_wins / count)\n",
        "print(door2_wins / count)"
      ],
      "execution_count": 0,
      "outputs": [
        {
          "output_type": "stream",
          "text": [
            "0.311\n",
            "0.368\n"
          ],
          "name": "stdout"
        }
      ]
    },
    {
      "cell_type": "code",
      "metadata": {
        "id": "8_U3w3YHGsUp",
        "colab_type": "code",
        "colab": {}
      },
      "source": [
        "# with pymc3\n",
        "import pymc3 as pm\n"
      ],
      "execution_count": 0,
      "outputs": []
    }
  ]
}
