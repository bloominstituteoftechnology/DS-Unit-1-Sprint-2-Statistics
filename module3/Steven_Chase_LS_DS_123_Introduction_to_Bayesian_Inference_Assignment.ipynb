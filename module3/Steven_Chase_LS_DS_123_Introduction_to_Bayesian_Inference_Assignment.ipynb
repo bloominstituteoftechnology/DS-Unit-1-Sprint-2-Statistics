{
  "nbformat": 4,
  "nbformat_minor": 0,
  "metadata": {
    "colab": {
      "name": "Steven_Chase_LS_DS_123_Introduction_to_Bayesian_Inference_Assignment.ipynb",
      "provenance": [],
      "include_colab_link": true
    },
    "kernelspec": {
      "name": "python3",
      "display_name": "Python 3"
    }
  },
  "cells": [
    {
      "cell_type": "markdown",
      "metadata": {
        "id": "view-in-github",
        "colab_type": "text"
      },
      "source": [
        "<a href=\"https://colab.research.google.com/github/schase15/DS-Unit-1-Sprint-2-Statistics/blob/master/module3/Steven_Chase_LS_DS_123_Introduction_to_Bayesian_Inference_Assignment.ipynb\" target=\"_parent\"><img src=\"https://colab.research.google.com/assets/colab-badge.svg\" alt=\"Open In Colab\"/></a>"
      ]
    },
    {
      "cell_type": "markdown",
      "metadata": {
        "id": "H7OLbevlbd_Z",
        "colab_type": "text"
      },
      "source": [
        "# Lambda School Data Science Module 123\n",
        "\n",
        "## Introduction to Bayesian Inference\n",
        "\n",
        "\n"
      ]
    },
    {
      "cell_type": "markdown",
      "metadata": {
        "id": "P-DzzRk5bf0z",
        "colab_type": "text"
      },
      "source": [
        "## Assignment - Code it up!\n",
        "\n",
        "We used pure math to apply Bayes Theorem to drug tests. Now write Python code to reproduce the results! This is purposefully open ended - you'll have to think about how you should represent probabilities and events. You can and should look things up.\n",
        "\n",
        "Specific goals/targets:\n",
        "\n",
        "### 1) Write a function \n",
        "\n",
        "`def prob_drunk_given_positive(prob_drunk_prior, false_positive_rate, true_positive_rate):` \n",
        "\n",
        "You should only truly need these two values in order to apply Bayes Theorem. In this example, imagine that individuals are taking a breathalyzer test with an 8% false positive rate, a 100% true positive rate, and that our prior belief about drunk driving in the population is 1/1000. \n",
        " - What is the probability that a person is drunk after one positive breathalyzer test?\n",
        " - What is the probability that a person is drunk after two positive breathalyzer tests?\n",
        " - How many positive breathalyzer tests are needed in order to have a probability that's greater than 95% that a person is drunk beyond the legal limit?\n",
        "\n",
        "### 2) Explore `scipy.stats.bayes_mvs`  \n",
        "Read its documentation, and experiment with it on data you've tested in other ways earlier this week.\n",
        " - Create a visualization comparing the results of a Bayesian approach to a traditional/frequentist approach. (with a large sample size they should look close to identical, however, take this opportunity to practice visualizing condfidence intervals in general. The following are some potential ways that you could visualize confidence intervals on your graph:\n",
        "  - [Matplotlib Error Bars](https://matplotlib.org/3.1.1/api/_as_gen/matplotlib.pyplot.errorbar.html)\n",
        "  - [Seaborn barplot with error bars](https://seaborn.pydata.org/generated/seaborn.barplot.html)\n",
        "  - [Vertical ines to show bounds of confidence interval](https://www.simplypsychology.org/confidence-interval.jpg)\n",
        "  - [Confidence Intervals on Box Plots](https://matplotlib.org/3.1.1/api/_as_gen/matplotlib.axes.Axes.boxplot.html)\n",
        "\n",
        "### 3) In your own words, summarize the difference between Bayesian and Frequentist statistics\n",
        "\n",
        "If you're unsure where to start, check out [this blog post of Bayes theorem with Python](https://dataconomy.com/2015/02/introduction-to-bayes-theorem-with-python/).\n",
        "\n"
      ]
    },
    {
      "cell_type": "markdown",
      "metadata": {
        "id": "qpMKxPf8UU_I",
        "colab_type": "text"
      },
      "source": [
        "# Part 1"
      ]
    },
    {
      "cell_type": "code",
      "metadata": {
        "id": "wSjlaFO3UUAf",
        "colab_type": "code",
        "colab": {}
      },
      "source": [
        "# True positive rate\n",
        "true_positive_rate = 1\n",
        "\n",
        "# False positive rate\n",
        "false_positive_rate = 0.08\n",
        "\n",
        "# Prior belief\n",
        "prob_drunk_prior = 1/1000\n",
        "\n",
        "def prob_drunk_given_positive(prob_drunk_prior, false_positive_rate, true_positive_rate):\n",
        "  prob_not_drunk_driver = 1- prob_drunk_prior\n",
        "  posterior_probability = (true_positive_rate* prob_drunk_prior) / ((true_positive_rate* prob_drunk_prior) + (false_positive_rate* prob_not_drunk_driver))\n",
        "  return posterior_probability\n"
      ],
      "execution_count": 0,
      "outputs": []
    },
    {
      "cell_type": "code",
      "metadata": {
        "id": "jKiS4C9GUkIz",
        "colab_type": "code",
        "colab": {
          "base_uri": "https://localhost:8080/",
          "height": 34
        },
        "outputId": "634d97e2-6cdf-4c53-9ce4-16f87ac5b332"
      },
      "source": [
        "# Probability that the person is drunk after 1 positive breathalyzer\n",
        "prob_drunk_given_positive(0.001, 0.08, 1)"
      ],
      "execution_count": 3,
      "outputs": [
        {
          "output_type": "execute_result",
          "data": {
            "text/plain": [
              "0.012357884330202669"
            ]
          },
          "metadata": {
            "tags": []
          },
          "execution_count": 3
        }
      ]
    },
    {
      "cell_type": "code",
      "metadata": {
        "id": "wwZr18ljUmX0",
        "colab_type": "code",
        "colab": {
          "base_uri": "https://localhost:8080/",
          "height": 34
        },
        "outputId": "5cb6871a-6462-4539-8cd0-318901666a03"
      },
      "source": [
        "# Probability that the person is drunk after 2 positive breathalyzer\n",
        "prob_drunk_given_positive(0.012357884330202669, 0.08, 1)"
      ],
      "execution_count": 4,
      "outputs": [
        {
          "output_type": "execute_result",
          "data": {
            "text/plain": [
              "0.13525210993291495"
            ]
          },
          "metadata": {
            "tags": []
          },
          "execution_count": 4
        }
      ]
    },
    {
      "cell_type": "code",
      "metadata": {
        "id": "ZVh3tnDwUmfO",
        "colab_type": "code",
        "colab": {
          "base_uri": "https://localhost:8080/",
          "height": 34
        },
        "outputId": "f1fb05b1-18c9-4b5b-e7d8-59a8439375ec"
      },
      "source": [
        "# Probability that the person is drunk after 3 positive breathalyzer\n",
        "prob_drunk_given_positive(0.13525210993291495, 0.08, 1)"
      ],
      "execution_count": 5,
      "outputs": [
        {
          "output_type": "execute_result",
          "data": {
            "text/plain": [
              "0.6615996951348605"
            ]
          },
          "metadata": {
            "tags": []
          },
          "execution_count": 5
        }
      ]
    },
    {
      "cell_type": "code",
      "metadata": {
        "id": "o9iQTLIFUmm5",
        "colab_type": "code",
        "colab": {
          "base_uri": "https://localhost:8080/",
          "height": 34
        },
        "outputId": "67be5258-5719-4cda-aa05-8482da8252f2"
      },
      "source": [
        "# Probability that the person is drunk after 4 positive breathalyzer\n",
        "prob_drunk_given_positive(0.6615996951348605, 0.08, 1)"
      ],
      "execution_count": 6,
      "outputs": [
        {
          "output_type": "execute_result",
          "data": {
            "text/plain": [
              "0.9606895076105054"
            ]
          },
          "metadata": {
            "tags": []
          },
          "execution_count": 6
        }
      ]
    },
    {
      "cell_type": "code",
      "metadata": {
        "id": "nPVuQWRWVR4-",
        "colab_type": "code",
        "colab": {}
      },
      "source": [
        "# Want to write a funciton that iterates my function above"
      ],
      "execution_count": 0,
      "outputs": []
    },
    {
      "cell_type": "markdown",
      "metadata": {
        "id": "26tJRYVoVzpT",
        "colab_type": "text"
      },
      "source": [
        "It takes 4 positive breathalyzer tests to have a probability higher than 95% that the person is a drunk driver. "
      ]
    },
    {
      "cell_type": "markdown",
      "metadata": {
        "id": "5dnwo7PFWNYY",
        "colab_type": "text"
      },
      "source": [
        "# Part 2"
      ]
    },
    {
      "cell_type": "code",
      "metadata": {
        "id": "SBxG1TeLY2xW",
        "colab_type": "code",
        "colab": {}
      },
      "source": [
        "import pandas as pd\n",
        "import numpy as np\n",
        "import matplotlib.pyplot as plt\n",
        "from scipy import stats"
      ],
      "execution_count": 0,
      "outputs": []
    },
    {
      "cell_type": "code",
      "metadata": {
        "id": "4wzdygAscC9Q",
        "colab_type": "code",
        "colab": {
          "base_uri": "https://localhost:8080/",
          "height": 212
        },
        "outputId": "5f1d6b3e-b7c7-4dac-9423-a46f067ca114"
      },
      "source": [
        "# Import and clean a dataset from this week to work with\n",
        "!wget https://archive.ics.uci.edu/ml/machine-learning-databases/voting-records/house-votes-84.data"
      ],
      "execution_count": 10,
      "outputs": [
        {
          "output_type": "stream",
          "text": [
            "--2020-03-18 20:58:10--  https://archive.ics.uci.edu/ml/machine-learning-databases/voting-records/house-votes-84.data\n",
            "Resolving archive.ics.uci.edu (archive.ics.uci.edu)... 128.195.10.252\n",
            "Connecting to archive.ics.uci.edu (archive.ics.uci.edu)|128.195.10.252|:443... connected.\n",
            "HTTP request sent, awaiting response... 200 OK\n",
            "Length: 18171 (18K) [application/x-httpd-php]\n",
            "Saving to: ‘house-votes-84.data’\n",
            "\n",
            "house-votes-84.data 100%[===================>]  17.75K  --.-KB/s    in 0.1s    \n",
            "\n",
            "2020-03-18 20:58:11 (135 KB/s) - ‘house-votes-84.data’ saved [18171/18171]\n",
            "\n"
          ],
          "name": "stdout"
        }
      ]
    },
    {
      "cell_type": "code",
      "metadata": {
        "id": "1maihQepcIt1",
        "colab_type": "code",
        "colab": {}
      },
      "source": [
        "# Import data\n",
        "\n",
        "df = pd.read_csv('house-votes-84.data', names= ['party','handicapped-infants','water-project',\n",
        "                          'budget','physician-fee-freeze', 'el-salvador-aid',\n",
        "                          'religious-groups','anti-satellite-ban',\n",
        "                          'aid-to-contras','mx-missile','immigration',\n",
        "                          'synfuels', 'education', 'right-to-sue','crime','duty-free',\n",
        "                          'south-africa'])\n",
        "\n",
        "# Encode and replace to clean data\n",
        "\n",
        "df = df.replace({'n':0, 'y': 1, '?': np.NaN})\n",
        "\n",
        "# Drop np.NaN values, to use confidence interval function later on\n",
        "df = df.dropna()\n",
        "\n",
        "# Split dataset into Democrat and Republican\n",
        "\n",
        "dem= df[df['party'] == 'democrat']\n",
        "rep= df[df['party'] == 'republican']"
      ],
      "execution_count": 0,
      "outputs": []
    },
    {
      "cell_type": "code",
      "metadata": {
        "id": "LDjSkTdvWXRM",
        "colab_type": "code",
        "colab": {}
      },
      "source": [
        "# Functions I wrote last week to visualize Confidence Intervals\n",
        "\n",
        "def confidence_interval(data, confidence_level = 0.95):\n",
        "\n",
        "# Variables\n",
        "  data = np.array(data)\n",
        "  mean = np.mean(data)\n",
        "  n = len(data)\n",
        "  s = data.std(ddof= 1)\n",
        "\n",
        "# Standard error\n",
        "  std_error = s / np.sqrt(n)\n",
        "\n",
        "# t-stat\n",
        "  t = stats.t.ppf((1 + confidence_level) / 2.0, n-1)\n",
        "\n",
        "# Margin of error\n",
        "  margin_of_error = t*std_error\n",
        "\n",
        "# Upper\n",
        "  upper = mean + margin_of_error\n",
        "\n",
        "# Lower\n",
        "  lower = mean - margin_of_error\n",
        "\n",
        "  return (mean, margin_of_error, lower, upper)"
      ],
      "execution_count": 0,
      "outputs": []
    },
    {
      "cell_type": "code",
      "metadata": {
        "id": "WB609jeFYvB_",
        "colab_type": "code",
        "colab": {}
      },
      "source": [
        "def graph_CI (data, title):\n",
        "  data.plot.density()\n",
        "  plt.title(title)\n",
        "  plt.axvline(x=mean, color= 'black')\n",
        "  plt.axvline(x=upper, color= 'red')\n",
        "  plt.axvline(x=lower, color= 'red')\n",
        " \n",
        "  return(plt.show())"
      ],
      "execution_count": 0,
      "outputs": []
    },
    {
      "cell_type": "code",
      "metadata": {
        "id": "IpJHpDoOZEw0",
        "colab_type": "code",
        "colab": {}
      },
      "source": [
        "# Look at the difference between Bayesian approach and a frequentist approach\n",
        "# Using dem['budget']\n",
        "# Manipulate the sample size to see the difference which is more apparent at a smaller sample size"
      ],
      "execution_count": 0,
      "outputs": []
    },
    {
      "cell_type": "code",
      "metadata": {
        "id": "Q37ro4xAc99b",
        "colab_type": "code",
        "colab": {
          "base_uri": "https://localhost:8080/",
          "height": 70
        },
        "outputId": "0f635aa6-9f0b-44bf-a469-47ade1ee447f"
      },
      "source": [
        "mean, margin_of_error, lower, upper = confidence_interval(dem['budget'])\n",
        "print(mean)\n",
        "print(lower)\n",
        "print(upper)"
      ],
      "execution_count": 24,
      "outputs": [
        {
          "output_type": "stream",
          "text": [
            "0.8548387096774194\n",
            "0.791966749899413\n",
            "0.9177106694554258\n"
          ],
          "name": "stdout"
        }
      ]
    },
    {
      "cell_type": "code",
      "metadata": {
        "id": "YrVqp-JMeOha",
        "colab_type": "code",
        "colab": {
          "base_uri": "https://localhost:8080/",
          "height": 281
        },
        "outputId": "93476d65-c342-4a39-a108-7e4a08b3d9e2"
      },
      "source": [
        "graph_CI(dem['budget'], \"Democrat's support for the budget bill, 95% confidence level\")"
      ],
      "execution_count": 25,
      "outputs": [
        {
          "output_type": "display_data",
          "data": {
            "image/png": "[encoded data removed]",
            "text/plain": [
              "<Figure size 432x288 with 1 Axes>"
            ]
          },
          "metadata": {
            "tags": []
          }
        }
      ]
    },
    {
      "cell_type": "code",
      "metadata": {
        "id": "akFcRgX0fUXu",
        "colab_type": "code",
        "colab": {
          "base_uri": "https://localhost:8080/",
          "height": 34
        },
        "outputId": "e9e245ca-7454-4da1-a709-e41839fc37af"
      },
      "source": [
        "# Bayesian approach using stats.bayes_mvs\n",
        "\n",
        "mean_CI, _, _ = stats.bayes_mvs(dem['budget'], alpha= 0.95)\n",
        "mean_CI\n"
      ],
      "execution_count": 26,
      "outputs": [
        {
          "output_type": "execute_result",
          "data": {
            "text/plain": [
              "Mean(statistic=0.8548387096774194, minmax=(0.791966749899413, 0.9177106694554258))"
            ]
          },
          "metadata": {
            "tags": []
          },
          "execution_count": 26
        }
      ]
    },
    {
      "cell_type": "code",
      "metadata": {
        "id": "33sZsXntgCTW",
        "colab_type": "code",
        "colab": {
          "base_uri": "https://localhost:8080/",
          "height": 281
        },
        "outputId": "04e98154-d955-4696-8b81-effccea4769c"
      },
      "source": [
        "dem['budget'].plot.density()\n",
        "plt.title(\"Democrat's support for the budget bill, 95% confidence level\")\n",
        "plt.axvline(x=0.8548387096774194, color= 'black')\n",
        "plt.axvline(x=0.791966749899413, color= 'red')\n",
        "plt.axvline(x=0.9177106694554258, color= 'red')\n",
        "\n",
        "plt.show()"
      ],
      "execution_count": 29,
      "outputs": [
        {
          "output_type": "display_data",
          "data": {
            "image/png": "[encoded data removed]",
            "text/plain": [
              "<Figure size 432x288 with 1 Axes>"
            ]
          },
          "metadata": {
            "tags": []
          }
        }
      ]
    },
    {
      "cell_type": "markdown",
      "metadata": {
        "id": "7AS1Dd3RgnIJ",
        "colab_type": "text"
      },
      "source": [
        "Looking at these two graphs, and the associated means and upper/lower bounds, they are the same. This is because the sample size is so large."
      ]
    },
    {
      "cell_type": "markdown",
      "metadata": {
        "id": "oSli_9xOg8MJ",
        "colab_type": "text"
      },
      "source": [
        "In the below example I do the same process as above, with a smaller sample size"
      ]
    },
    {
      "cell_type": "code",
      "metadata": {
        "id": "xXeBKaNCgfPw",
        "colab_type": "code",
        "colab": {
          "base_uri": "https://localhost:8080/",
          "height": 567
        },
        "outputId": "452d37e4-b1f7-4dac-bbe0-b6ca3e945713"
      },
      "source": [
        "sample_dem_budget = dem['budget'][0:30]\n",
        "sample_dem_budget"
      ],
      "execution_count": 63,
      "outputs": [
        {
          "output_type": "execute_result",
          "data": {
            "text/plain": [
              "5      1.0\n",
              "19     1.0\n",
              "23     1.0\n",
              "25     1.0\n",
              "26     1.0\n",
              "27     1.0\n",
              "29     1.0\n",
              "32     1.0\n",
              "34     1.0\n",
              "39     1.0\n",
              "42     1.0\n",
              "43     1.0\n",
              "46     1.0\n",
              "48     1.0\n",
              "50     1.0\n",
              "63     1.0\n",
              "69     1.0\n",
              "74     1.0\n",
              "75     1.0\n",
              "77     1.0\n",
              "78     1.0\n",
              "85     1.0\n",
              "88     1.0\n",
              "90     1.0\n",
              "91     1.0\n",
              "93     1.0\n",
              "94     1.0\n",
              "97     0.0\n",
              "98     1.0\n",
              "100    0.0\n",
              "Name: budget, dtype: float64"
            ]
          },
          "metadata": {
            "tags": []
          },
          "execution_count": 63
        }
      ]
    },
    {
      "cell_type": "code",
      "metadata": {
        "id": "HW6aoQ2Ph9g8",
        "colab_type": "code",
        "colab": {
          "base_uri": "https://localhost:8080/",
          "height": 70
        },
        "outputId": "4888eaa2-5c80-45ad-c9d3-650946d0749b"
      },
      "source": [
        "# Frequentist CI\n",
        "mean, margin_of_error, lower, upper = confidence_interval(sample_dem_budget)\n",
        "print(mean)\n",
        "print(lower)\n",
        "print(upper)"
      ],
      "execution_count": 64,
      "outputs": [
        {
          "output_type": "stream",
          "text": [
            "0.9333333333333333\n",
            "0.8385971600102017\n",
            "1.0280695066564651\n"
          ],
          "name": "stdout"
        }
      ]
    },
    {
      "cell_type": "code",
      "metadata": {
        "id": "sm7Krx4giItL",
        "colab_type": "code",
        "colab": {
          "base_uri": "https://localhost:8080/",
          "height": 281
        },
        "outputId": "eda86b01-d36f-40ad-93bf-3fc076234fab"
      },
      "source": [
        "graph_CI(sample_dem_budget, \"Democrat's support for the budget bill, 95% confidence level\")"
      ],
      "execution_count": 65,
      "outputs": [
        {
          "output_type": "display_data",
          "data": {
            "image/png": "[encoded data removed]",
            "text/plain": [
              "<Figure size 432x288 with 1 Axes>"
            ]
          },
          "metadata": {
            "tags": []
          }
        }
      ]
    },
    {
      "cell_type": "code",
      "metadata": {
        "id": "TvHbpYHPiiBp",
        "colab_type": "code",
        "colab": {
          "base_uri": "https://localhost:8080/",
          "height": 34
        },
        "outputId": "d694a6d5-da69-49fa-96f9-c56cf530e554"
      },
      "source": [
        "# # Bayesian approach using stats.bayes_mvs\n",
        "\n",
        "mean_CI, _, _ = stats.bayes_mvs(sample_dem_budget, alpha= 0.95)\n",
        "mean_CI\n"
      ],
      "execution_count": 66,
      "outputs": [
        {
          "output_type": "execute_result",
          "data": {
            "text/plain": [
              "Mean(statistic=0.9333333333333333, minmax=(0.8385971600102017, 1.0280695066564651))"
            ]
          },
          "metadata": {
            "tags": []
          },
          "execution_count": 66
        }
      ]
    },
    {
      "cell_type": "code",
      "metadata": {
        "id": "qiMzx9alih_P",
        "colab_type": "code",
        "colab": {
          "base_uri": "https://localhost:8080/",
          "height": 281
        },
        "outputId": "98357ca5-1da3-401d-e7f7-081de036a36b"
      },
      "source": [
        "dem['budget'].plot.density()\n",
        "plt.title(\"Democrat's support for the budget bill, 95% confidence level\")\n",
        "plt.axvline(x=0.9333333333333333, color= 'black')\n",
        "plt.axvline(x=0.8385971600102017, color= 'red')\n",
        "plt.axvline(x=1.0280695066564651, color= 'red')\n",
        "\n",
        "plt.show()"
      ],
      "execution_count": 67,
      "outputs": [
        {
          "output_type": "display_data",
          "data": {
            "image/png": "[encoded data removed]",
            "text/plain": [
              "<Figure size 432x288 with 1 Axes>"
            ]
          },
          "metadata": {
            "tags": []
          }
        }
      ]
    },
    {
      "cell_type": "markdown",
      "metadata": {
        "id": "2Fm3Tns5rygK",
        "colab_type": "text"
      },
      "source": [
        "# Part 3"
      ]
    },
    {
      "cell_type": "markdown",
      "metadata": {
        "id": "kaj7-DWRuRlH",
        "colab_type": "text"
      },
      "source": [
        "Bayesian statistics starts with a prior belief of what the probability for the population is. As new information is obtained, this probability is updated. This tightens the probability distribution and gets closer to the actual true value. As more 'samples' are introduced, the believed probability (prior probability in the begining and then posterior probability) is continually updated. \n",
        "\n",
        "Freuqentist statistics uses the number of occurances to estimate values from a sample to the population. It works solely with samples and extrapolates values drawn from the sample to the population. With Bayesian statistics, it is estimating probabilities for the whole population and updating as it gets in new information. \n"
      ]
    },
    {
      "cell_type": "markdown",
      "metadata": {
        "id": "uWgWjp3PQ3Sq",
        "colab_type": "text"
      },
      "source": [
        "## Resources"
      ]
    },
    {
      "cell_type": "markdown",
      "metadata": {
        "id": "QRgHqmYIQ9qn",
        "colab_type": "text"
      },
      "source": [
        "- [Worked example of Bayes rule calculation](https://en.wikipedia.org/wiki/Bayes'_theorem#Examples) (helpful as it fully breaks out the denominator)\n",
        "- [Source code for mvsdist in scipy](https://github.com/scipy/scipy/blob/90534919e139d2a81c24bf08341734ff41a3db12/scipy/stats/morestats.py#L139)"
      ]
    },
    {
      "cell_type": "markdown",
      "metadata": {
        "id": "GP7Jv1XvwtkX",
        "colab_type": "text"
      },
      "source": [
        "## Stretch Goals:\n",
        "\n",
        "- Go back and study the content from Modules 1 & 2 to make sure that you're really comfortable with them.\n",
        "- Apply a Bayesian technique to a problem you previously worked (in an assignment or project work) on from a frequentist (standard) perspective\n",
        "- Check out [PyMC3](https://docs.pymc.io/) (note this goes beyond hypothesis tests into modeling) - read the guides and work through some examples\n",
        "- Take PyMC3 further - see if you can build something with it!"
      ]
    },
    {
      "cell_type": "code",
      "metadata": {
        "id": "iDi0eFr1x-v_",
        "colab_type": "code",
        "colab": {}
      },
      "source": [
        ""
      ],
      "execution_count": 0,
      "outputs": []
    }
  ]
}