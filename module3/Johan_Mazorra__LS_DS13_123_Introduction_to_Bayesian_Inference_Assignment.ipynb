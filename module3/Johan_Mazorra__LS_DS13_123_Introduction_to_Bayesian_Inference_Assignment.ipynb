{
  "nbformat": 4,
  "nbformat_minor": 0,
  "metadata": {
    "colab": {
      "name": "Johan_Mazorra__LS_DS13_123_Introduction_to_Bayesian_Inference_Assignment.ipynb",
      "provenance": [],
      "collapsed_sections": [],
      "include_colab_link": true
    },
    "kernelspec": {
      "name": "python3",
      "display_name": "Python 3"
    }
  },
  "cells": [
    {
      "cell_type": "markdown",
      "metadata": {
        "id": "view-in-github",
        "colab_type": "text"
      },
      "source": [
        "<a href=\"https://colab.research.google.com/github/jsmazorra/DS-Unit-1-Sprint-2-Statistics/blob/master/module3/Johan_Mazorra__LS_DS13_123_Introduction_to_Bayesian_Inference_Assignment.ipynb\" target=\"_parent\"><img src=\"https://colab.research.google.com/assets/colab-badge.svg\" alt=\"Open In Colab\"/></a>"
      ]
    },
    {
      "cell_type": "markdown",
      "metadata": {
        "id": "H7OLbevlbd_Z",
        "colab_type": "text"
      },
      "source": [
        "# Lambda School Data Science Module 123\n",
        "\n",
        "## Introduction to Bayesian Inference\n",
        "\n",
        "\n"
      ]
    },
    {
      "cell_type": "markdown",
      "metadata": {
        "id": "P-DzzRk5bf0z",
        "colab_type": "text"
      },
      "source": [
        "## Assignment - Code it up!\n",
        "\n",
        "We used pure math to apply Bayes Theorem to drug tests. Now write Python code to reproduce the results! This is purposefully open ended - you'll have to think about how you should represent probabilities and events. You can and should look things up.\n",
        "\n",
        "Specific goals/targets:\n",
        "\n",
        "### 1) Write a function \n",
        "\n",
        "`def prob_drunk_given_positive(prob_drunk_prior, false_positive_rate):` \n",
        "\n",
        "You should only truly need these two values in order to apply Bayes Theorem. In this example, imagine that individuals are taking a breathalyzer test with an 8% false positive rate, a 100% true positive rate, and that our prior belief about drunk driving in the population is 1/1000. \n",
        " - What is the probability that a person is drunk after one positive breathalyzer test?\n",
        " - What is the probability that a person is drunk after two positive breathalyzer tests?\n",
        " - How many positive breathalyzer tests are needed in order to have a probability that's greater than 95% that a person is drunk beyond the legal limit?\n",
        "\n",
        "### 2) Explore `scipy.stats.bayes_mvs`  \n",
        "Read its documentation, and experiment with it on data you've tested in other ways earlier this week.\n",
        " - Create a visualization comparing the results of a Bayesian approach to a traditional/frequentist approach. (with a large sample size they should look close to identical, however, take this opportunity to practice visualizing condfidence intervals in general. The following are some potential ways that you could visualize confidence intervals on your graph:\n",
        "  - [Matplotlib Error Bars](https://matplotlib.org/3.1.1/api/_as_gen/matplotlib.pyplot.errorbar.html)\n",
        "  - [Seaborn barplot with error bars](https://seaborn.pydata.org/generated/seaborn.barplot.html)\n",
        "  - [Vertical ines to show bounds of confidence interval](https://www.simplypsychology.org/confidence-interval.jpg)\n",
        "  - [Confidence Intervals on Box Plots](https://matplotlib.org/3.1.1/api/_as_gen/matplotlib.axes.Axes.boxplot.html)\n",
        "\n",
        "### 3) In your own words, summarize the difference between Bayesian and Frequentist statistics\n",
        "\n",
        "If you're unsure where to start, check out [this blog post of Bayes theorem with Python](https://dataconomy.com/2015/02/introduction-to-bayes-theorem-with-python/).\n",
        "\n"
      ]
    },
    {
      "cell_type": "code",
      "metadata": {
        "id": "xpVhZyUnbf7o",
        "colab_type": "code",
        "colab": {}
      },
      "source": [
        "# TODO - code!\n",
        "\n",
        "# We're going to start by creating a function for the Bayesian approach.\n",
        "\n",
        "def prob_drunk_given_positive(prob_drunk_prior, false_positive_rate):\n",
        "  prob_drunk_prior = (prob_drunk_prior)\n",
        "  false_positive_rate = (false_positive_rate)\n",
        "\n",
        "  inverse_drunk_prior = 1 - prob_drunk_prior\n",
        "\n",
        "  prob_numer = 1 * prob_drunk_prior\n",
        "\n",
        "  prob_denom = 1 * (prob_drunk_prior) + (false_positive_rate) * (inverse_drunk_prior)\n",
        "\n",
        "  probability = prob_numer / prob_denom\n",
        "  return probability"
      ],
      "execution_count": 0,
      "outputs": []
    },
    {
      "cell_type": "code",
      "metadata": {
        "id": "lLU8JKLZPgze",
        "colab_type": "code",
        "colab": {
          "base_uri": "https://localhost:8080/",
          "height": 34
        },
        "outputId": "39f02fc0-5b03-4609-8f45-e985ae9f94a6"
      },
      "source": [
        "# Now let's test if the function is working properly.\n",
        "# I also added a while loop to save time.\n",
        "prob_actually_drunk = (1/1000)\n",
        "while prob_actually_drunk <= 0.95:\n",
        "  prob_previous = prob_actually_drunk\n",
        "  prob_actually_drunk = prob_drunk_given_positive(prob_actually_drunk, .08)\n",
        "  print(f\"Test 1: {prob_actually_drunk}\")\n",
        "  break"
      ],
      "execution_count": 43,
      "outputs": [
        {
          "output_type": "stream",
          "text": [
            "Test 1: 0.012357884330202669\n"
          ],
          "name": "stdout"
        }
      ]
    },
    {
      "cell_type": "code",
      "metadata": {
        "id": "IT-pA3zSUO5o",
        "colab_type": "code",
        "colab": {
          "base_uri": "https://localhost:8080/",
          "height": 34
        },
        "outputId": "85e490b6-38eb-41cb-c66f-0d3cb89375d3"
      },
      "source": [
        "prob_actually_drunk = (1/1000)\n",
        "while prob_actually_drunk <= 0.95:\n",
        "  prob_previous = prob_actually_drunk\n",
        "  prob_actually_drunk = prob_drunk_given_positive(prob_actually_drunk, .08)\n",
        "  prob_actually_drunk2 = prob_drunk_given_positive(prob_actually_drunk, .08)\n",
        "  print(f\"Test 2: {prob_actually_drunk2}\")\n",
        "  break"
      ],
      "execution_count": 84,
      "outputs": [
        {
          "output_type": "stream",
          "text": [
            "Test 2: 0.13525210993291495\n"
          ],
          "name": "stdout"
        }
      ]
    },
    {
      "cell_type": "code",
      "metadata": {
        "id": "PQxHS0JZV7qL",
        "colab_type": "code",
        "colab": {
          "base_uri": "https://localhost:8080/",
          "height": 34
        },
        "outputId": "bb80fad4-22fb-4602-82e3-3d38955fd136"
      },
      "source": [
        "prob_actually_drunk = (1/1000)\n",
        "while prob_actually_drunk <= 0.95:\n",
        "  prob_previous = prob_actually_drunk\n",
        "  prob_actually_drunk2 = prob_drunk_given_positive(prob_actually_drunk2, .08)\n",
        "  prob_actually_drunk3 = prob_drunk_given_positive(prob_actually_drunk2, .08)\n",
        "  print(f\"Test 3: {prob_actually_drunk2}\")\n",
        "  break"
      ],
      "execution_count": 85,
      "outputs": [
        {
          "output_type": "stream",
          "text": [
            "Test 3: 0.6615996951348605\n"
          ],
          "name": "stdout"
        }
      ]
    },
    {
      "cell_type": "code",
      "metadata": {
        "id": "7TcvEHiMWKPD",
        "colab_type": "code",
        "colab": {
          "base_uri": "https://localhost:8080/",
          "height": 34
        },
        "outputId": "cf4d5621-8f97-430e-9bbe-7610aeb3d38e"
      },
      "source": [
        "prob_actually_drunk = (1/1000)\n",
        "while prob_actually_drunk <= 0.95:\n",
        "  prob_previous = prob_actually_drunk\n",
        "  prob_actually_drunk3 = prob_drunk_given_positive(prob_actually_drunk2, .08)\n",
        "  prob_actually_drunk4 = prob_drunk_given_positive(prob_actually_drunk2, .08)\n",
        "  print(f\"Test 4: {prob_actually_drunk3}\")\n",
        "  break\n",
        "\n",
        "# Everything seems to be in order."
      ],
      "execution_count": 86,
      "outputs": [
        {
          "output_type": "stream",
          "text": [
            "Test 4: 0.9606895076105054\n"
          ],
          "name": "stdout"
        }
      ]
    },
    {
      "cell_type": "markdown",
      "metadata": {
        "id": "UC5oexnkXuF5",
        "colab_type": "text"
      },
      "source": [
        "# Part 2: Exploring `scipy.stats.bayes_mvs`"
      ]
    },
    {
      "cell_type": "code",
      "metadata": {
        "id": "6KNQFkfLYNq2",
        "colab_type": "code",
        "colab": {
          "base_uri": "https://localhost:8080/",
          "height": 80
        },
        "outputId": "bfd209cd-08e9-40e3-ce3a-d29c99594b30"
      },
      "source": [
        "# We're going to begin by importing all the needed libraries and by generating the coin flips.\n",
        "\n",
        "import pandas as pd\n",
        "import numpy as np\n",
        "from scipy import stats\n",
        "import matplotlib.pyplot as plt\n",
        "\n",
        "coinflips = np.random.binomial(n=3, p=.5, size=20)\n",
        "\n",
        "results = []\n",
        "results_y = []\n",
        "\n",
        "bayes, _, _ = stats.bayes_mvs(coinflips, alpha=.95)\n",
        "\n",
        "bayes = pd.DataFrame(bayes).T\n",
        "\n",
        "bayes.columns = ['stat', 'extremum']\n",
        "\n",
        "bayes"
      ],
      "execution_count": 163,
      "outputs": [
        {
          "output_type": "execute_result",
          "data": {
            "text/html": [
              "<div>\n",
              "<style scoped>\n",
              "    .dataframe tbody tr th:only-of-type {\n",
              "        vertical-align: middle;\n",
              "    }\n",
              "\n",
              "    .dataframe tbody tr th {\n",
              "        vertical-align: top;\n",
              "    }\n",
              "\n",
              "    .dataframe thead th {\n",
              "        text-align: right;\n",
              "    }\n",
              "</style>\n",
              "<table border=\"1\" class=\"dataframe\">\n",
              "  <thead>\n",
              "    <tr style=\"text-align: right;\">\n",
              "      <th></th>\n",
              "      <th>stat</th>\n",
              "      <th>extremum</th>\n",
              "    </tr>\n",
              "  </thead>\n",
              "  <tbody>\n",
              "    <tr>\n",
              "      <th>0</th>\n",
              "      <td>1.35</td>\n",
              "      <td>(1.00125446898129, 1.6987455310187103)</td>\n",
              "    </tr>\n",
              "  </tbody>\n",
              "</table>\n",
              "</div>"
            ],
            "text/plain": [
              "   stat                                extremum\n",
              "0  1.35  (1.00125446898129, 1.6987455310187103)"
            ]
          },
          "metadata": {
            "tags": []
          },
          "execution_count": 163
        }
      ]
    },
    {
      "cell_type": "code",
      "metadata": {
        "id": "ph792wckYqZp",
        "colab_type": "code",
        "colab": {
          "base_uri": "https://localhost:8080/",
          "height": 80
        },
        "outputId": "15abbd6f-53d0-484b-daa1-7c212278a3ae"
      },
      "source": [
        "# We're going to set a function for the Frequentist approach so we can illustrate\n",
        "# the difference in the box plot. Also I'm going to give it a different confidence\n",
        "# level to get other lower and higher bounds.\n",
        "def fc(sample, confidence=.99):\n",
        "  sample = np.array(sample)\n",
        "  mean = np.mean(sample)\n",
        "  n = len(sample)\n",
        "  stddev = np.std(sample, ddof=1)/np.sqrt(n)\n",
        "  var = stddev**2\n",
        "  t = stats.t.ppf((1+confidence)/2.0, n-1)\n",
        "  moe = t * stddev\n",
        "  low = mean - moe\n",
        "  high = mean + moe\n",
        "  returnframe = pd.DataFrame({'stat':[mean],'extremum':[(low, high)]})\n",
        "  return returnframe\n",
        "\n",
        "fc = fc(coinflips)\n",
        "\n",
        "fc"
      ],
      "execution_count": 192,
      "outputs": [
        {
          "output_type": "execute_result",
          "data": {
            "text/html": [
              "<div>\n",
              "<style scoped>\n",
              "    .dataframe tbody tr th:only-of-type {\n",
              "        vertical-align: middle;\n",
              "    }\n",
              "\n",
              "    .dataframe tbody tr th {\n",
              "        vertical-align: top;\n",
              "    }\n",
              "\n",
              "    .dataframe thead th {\n",
              "        text-align: right;\n",
              "    }\n",
              "</style>\n",
              "<table border=\"1\" class=\"dataframe\">\n",
              "  <thead>\n",
              "    <tr style=\"text-align: right;\">\n",
              "      <th></th>\n",
              "      <th>stat</th>\n",
              "      <th>extremum</th>\n",
              "    </tr>\n",
              "  </thead>\n",
              "  <tbody>\n",
              "    <tr>\n",
              "      <th>0</th>\n",
              "      <td>1.35</td>\n",
              "      <td>(0.8733030616945017, 1.8266969383054985)</td>\n",
              "    </tr>\n",
              "  </tbody>\n",
              "</table>\n",
              "</div>"
            ],
            "text/plain": [
              "   stat                                  extremum\n",
              "0  1.35  (0.8733030616945017, 1.8266969383054985)"
            ]
          },
          "metadata": {
            "tags": []
          },
          "execution_count": 192
        }
      ]
    },
    {
      "cell_type": "code",
      "metadata": {
        "id": "Q0r66sGnZctx",
        "colab_type": "code",
        "colab": {
          "base_uri": "https://localhost:8080/",
          "height": 270
        },
        "outputId": "e3a660fa-0484-40d6-83c9-972ff914b8c5"
      },
      "source": [
        "# Now we're going to create the box plot to illustrate the difference which if\n",
        "# analyzing there is no major difference.\n",
        "fig, ax = plt.subplots()\n",
        "\n",
        "plt.title('Comparison', color='white', fontname='Serif', fontweight='bold')\n",
        "ax.bar([-0.07], fc.stat, yerr=fc.extremum, color='teal',edgecolor='red',linewidth=1, width=0.12, label='Frequentist Result')\n",
        "ax.bar([0.07], bayes.stat, yerr=bayes.extremum,color='purple',edgecolor='red',linewidth=1, width=0.12, label='Bayesian Result')\n",
        "\n",
        "ax.set_xticks([3])\n",
        "ax.set_xticklabels(['Mean'])\n",
        "\n",
        "ax.set_yticks([0,0.5,0.75,1,1.5,2])\n",
        "\n",
        "ax.grid(b=True)\n",
        "\n",
        "ax.legend(loc='best')\n",
        "\n",
        "plt.show()"
      ],
      "execution_count": 199,
      "outputs": [
        {
          "output_type": "display_data",
          "data": {
            "image/png": "[encoded data removed]",
            "text/plain": [
              "<Figure size 432x288 with 1 Axes>"
            ]
          },
          "metadata": {
            "tags": []
          }
        }
      ]
    },
    {
      "cell_type": "markdown",
      "metadata": {
        "id": "GlKYLajifSes",
        "colab_type": "text"
      },
      "source": [
        "# **Part 3: Difference between Bayesian and Frequentist Statistics**\n",
        "\n",
        "The main difference among Bayesian and Frequentist Statistics is in how probability is utilized. Frequentists use probability just to display certain procedures comprehensively portrayed as examining. Bayesians use likelihood all the more generally to display both inspecting and different sorts of vulnerability."
      ]
    },
    {
      "cell_type": "markdown",
      "metadata": {
        "id": "uWgWjp3PQ3Sq",
        "colab_type": "text"
      },
      "source": [
        "## Resources"
      ]
    },
    {
      "cell_type": "markdown",
      "metadata": {
        "id": "QRgHqmYIQ9qn",
        "colab_type": "text"
      },
      "source": [
        "- [Worked example of Bayes rule calculation](https://en.wikipedia.org/wiki/Bayes'_theorem#Examples) (helpful as it fully breaks out the denominator)\n",
        "- [Source code for mvsdist in scipy](https://github.com/scipy/scipy/blob/90534919e139d2a81c24bf08341734ff41a3db12/scipy/stats/morestats.py#L139)"
      ]
    },
    {
      "cell_type": "markdown",
      "metadata": {
        "id": "GP7Jv1XvwtkX",
        "colab_type": "text"
      },
      "source": [
        "## Stretch Goals:\n",
        "\n",
        "- Go back and study the content from Modules 1 & 2 to make sure that you're really comfortable with them.\n",
        "- Apply a Bayesian technique to a problem you previously worked (in an assignment or project work) on from a frequentist (standard) perspective\n",
        "- Check out [PyMC3](https://docs.pymc.io/) (note this goes beyond hypothesis tests into modeling) - read the guides and work through some examples\n",
        "- Take PyMC3 further - see if you can build something with it!"
      ]
    },
    {
      "cell_type": "code",
      "metadata": {
        "id": "iDi0eFr1x-v_",
        "colab_type": "code",
        "colab": {}
      },
      "source": [
        ""
      ],
      "execution_count": 0,
      "outputs": []
    }
  ]
}