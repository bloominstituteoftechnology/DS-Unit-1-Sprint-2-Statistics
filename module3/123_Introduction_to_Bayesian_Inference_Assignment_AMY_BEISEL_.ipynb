{
  "nbformat": 4,
  "nbformat_minor": 0,
  "metadata": {
    "colab": {
      "name": "123_Introduction_to_Bayesian_Inference_Assignment_AMY_BEISEL_.ipynb",
      "provenance": [],
      "collapsed_sections": [],
      "include_colab_link": true
    },
    "kernelspec": {
      "name": "python3",
      "display_name": "Python 3"
    }
  },
  "cells": [
    {
      "cell_type": "markdown",
      "metadata": {
        "id": "view-in-github",
        "colab_type": "text"
      },
      "source": [
        "<a href=\"https://colab.research.google.com/github/AmyBeisel/DS-Unit-1-Sprint-2-Statistics/blob/master/module3/123_Introduction_to_Bayesian_Inference_Assignment_AMY_BEISEL_.ipynb\" target=\"_parent\"><img src=\"https://colab.research.google.com/assets/colab-badge.svg\" alt=\"Open In Colab\"/></a>"
      ]
    },
    {
      "cell_type": "markdown",
      "metadata": {
        "id": "H7OLbevlbd_Z",
        "colab_type": "text"
      },
      "source": [
        "# Lambda School Data Science Module 123\n",
        "\n",
        "## Introduction to Bayesian Inference\n",
        "\n",
        "\n"
      ]
    },
    {
      "cell_type": "markdown",
      "metadata": {
        "id": "P-DzzRk5bf0z",
        "colab_type": "text"
      },
      "source": [
        "## Assignment - Code it up!\n",
        "\n",
        "We used pure math to apply Bayes Theorem to drug tests. Now write Python code to reproduce the results! This is purposefully open ended - you'll have to think about how you should represent probabilities and events. You can and should look things up.\n",
        "\n",
        "Specific goals/targets:\n",
        "\n",
        "### 1) Write a function \n",
        "\n",
        "`def prob_drunk_given_positive(prob_drunk_prior, false_positive_rate):` \n",
        "\n",
        "You should only truly need these two values in order to apply Bayes Theorem. In this example, imagine that individuals are taking a breathalyzer test with an 8% false positive rate, a 100% true positive rate, and that our prior belief about drunk driving in the population is 1/1000. \n",
        " - What is the probability that a person is drunk after one positive breathalyzer test?\n",
        " - What is the probability that a person is drunk after two positive breathalyzer tests?\n",
        " - How many positive breathalyzer tests are needed in order to have a probability that's greater than 95% that a person is drunk beyond the legal limit?\n",
        "\n",
        "### 2) Explore `scipy.stats.bayes_mvs`  \n",
        "Read its documentation, and experiment with it on data you've tested in other ways earlier this week.\n",
        " - Create a visualization comparing the results of a Bayesian approach to a traditional/frequentist approach. (with a large sample size they should look close to identical, however, take this opportunity to practice visualizing condfidence intervals in general. The following are some potential ways that you could visualize confidence intervals on your graph:\n",
        "  - [Matplotlib Error Bars](https://matplotlib.org/3.1.1/api/_as_gen/matplotlib.pyplot.errorbar.html)\n",
        "  - [Seaborn barplot with error bars](https://seaborn.pydata.org/generated/seaborn.barplot.html)\n",
        "  - [Vertical ines to show bounds of confidence interval](https://www.simplypsychology.org/confidence-interval.jpg)\n",
        "  - [Confidence Intervals on Box Plots](https://matplotlib.org/3.1.1/api/_as_gen/matplotlib.axes.Axes.boxplot.html)\n",
        "\n",
        "### 3) In your own words, summarize the difference between Bayesian and Frequentist statistics\n",
        "\n",
        "If you're unsure where to start, check out [this blog post of Bayes theorem with Python](https://dataconomy.com/2015/02/introduction-to-bayes-theorem-with-python/).\n",
        "\n"
      ]
    },
    {
      "cell_type": "code",
      "metadata": {
        "id": "xpVhZyUnbf7o",
        "colab_type": "code",
        "colab": {
          "base_uri": "https://localhost:8080/",
          "height": 34
        },
        "outputId": "d39dfc00-a1b9-4a3e-ceac-9b0e5828edb2"
      },
      "source": [
        "# TODO - code!\n",
        "P_user = 1/1000 #prior belief - 1 out of 1000 people are driving drunk. \n",
        "P_non_user = 1 - P_user # complement of the prior belief\n",
        "P_pos_given_user = 1 #this is the true positive rate\n",
        "P_pos_given_non_user = .08 #this is the faluse positive rate\n",
        "\n",
        "numerator = P_pos_given_user*P_user\n",
        "marginal = (P_pos_given_user*P_user) + (P_pos_given_non_user*P_non_user)\n",
        "posterior_probability1 = numerator/marginal\n",
        "print(posterior_probability1)"
      ],
      "execution_count": 2,
      "outputs": [
        {
          "output_type": "stream",
          "text": [
            "0.012357884330202669\n"
          ],
          "name": "stdout"
        }
      ]
    },
    {
      "cell_type": "code",
      "metadata": {
        "id": "8Dp_3BFRT2jm",
        "colab_type": "code",
        "colab": {}
      },
      "source": [
        "#there is a 1.23% probability that a person is drunk after one positive breathalyzer test."
      ],
      "execution_count": 0,
      "outputs": []
    },
    {
      "cell_type": "code",
      "metadata": {
        "id": "IBlqhWhDVlOn",
        "colab_type": "code",
        "colab": {
          "base_uri": "https://localhost:8080/",
          "height": 34
        },
        "outputId": "53aa8d61-1bfa-4316-f7b5-40509dea4de1"
      },
      "source": [
        "P_user = posterior_probability #NEW Prior belief\n",
        "P_non_user = 1 - P_user #Complement of the prior beief\n",
        "#run the same code above\n",
        "numerator = P_pos_given_user*P_user \n",
        "marginal = (P_pos_given_user*P_user) + (P_pos_given_non_user*P_non_user)\n",
        "posterior_probability2 = numerator/marginal\n",
        "print(posterior_probability2)\n"
      ],
      "execution_count": 3,
      "outputs": [
        {
          "output_type": "stream",
          "text": [
            "0.13525210993291495\n"
          ],
          "name": "stdout"
        }
      ]
    },
    {
      "cell_type": "code",
      "metadata": {
        "id": "1ZKQAzAQaSYa",
        "colab_type": "code",
        "colab": {}
      },
      "source": [
        "#Now we ran the breathalyzer test on the same person.  There is now 13% probability that a person is drunk after two positive breathalyzer tests"
      ],
      "execution_count": 0,
      "outputs": []
    },
    {
      "cell_type": "code",
      "metadata": {
        "id": "XrrtjbqEdK-j",
        "colab_type": "code",
        "colab": {}
      },
      "source": [
        "#write a function, instead of having to type all this out. \n",
        "def prob_drunk_given_positive(prob_drunk_prior, false_positive_rate, true_positive_rate, number_of_tests):\n",
        "  posterior_probability = prob_drunk_prior\n",
        "  for test in range(0, number_of_tests):\n",
        "    P_user = posterior_probability #prior belief\n",
        "    P_non_user = 1 - P_user # complement of the prior belief\n",
        "    P_pos_given_user = 1 #this it the true positive rate\n",
        "    P_pos_given_non_user = .08 #this is the false positive rate\n",
        "    numerator = P_pos_given_user*P_user\n",
        "    marginal = (P_pos_given_user * P_user) + (P_pos_given_non_user*P_non_user)\n",
        "    posterior_probability = numerator/marginal\n",
        "  return posterior_probability"
      ],
      "execution_count": 0,
      "outputs": []
    },
    {
      "cell_type": "code",
      "metadata": {
        "id": "cXI_7hATo9WN",
        "colab_type": "code",
        "colab": {
          "base_uri": "https://localhost:8080/",
          "height": 34
        },
        "outputId": "b3667102-7387-463c-f20a-59dbbeca1839"
      },
      "source": [
        "prob_drunk_given_positive(1/1000, .08, 1, 4)"
      ],
      "execution_count": 36,
      "outputs": [
        {
          "output_type": "execute_result",
          "data": {
            "text/plain": [
              "0.9606895076105054"
            ]
          },
          "metadata": {
            "tags": []
          },
          "execution_count": 36
        }
      ]
    },
    {
      "cell_type": "code",
      "metadata": {
        "id": "NMRI6Z4npxGj",
        "colab_type": "code",
        "colab": {}
      },
      "source": [
        "#4 positive breathalyzer tests are needed in order to have a probability that's greater than 95% that a person is drunk beyond the legal limit."
      ],
      "execution_count": 0,
      "outputs": []
    },
    {
      "cell_type": "code",
      "metadata": {
        "id": "VVDB6oNv_FI2",
        "colab_type": "code",
        "colab": {}
      },
      "source": [
        "# In your own words, summarize the difference between Bayesian and Frequentist statistics"
      ],
      "execution_count": 0,
      "outputs": []
    },
    {
      "cell_type": "markdown",
      "metadata": {
        "id": "CPBTSvG1_Fu-",
        "colab_type": "text"
      },
      "source": [
        "Bayesian -  Some cases we have false positive results. Have prior beliefs of what happened/probability.  Then updateing that belief in light of new information. We can just pick whatever we want.  "
      ]
    },
    {
      "cell_type": "markdown",
      "metadata": {
        "id": "BMH5EOSwAqAq",
        "colab_type": "text"
      },
      "source": [
        "Frequentist - based on sample size. Bigger the better.  p values. Null and alternative hypothesis. "
      ]
    },
    {
      "cell_type": "markdown",
      "metadata": {
        "id": "uWgWjp3PQ3Sq",
        "colab_type": "text"
      },
      "source": [
        "## Resources"
      ]
    },
    {
      "cell_type": "markdown",
      "metadata": {
        "id": "QRgHqmYIQ9qn",
        "colab_type": "text"
      },
      "source": [
        "- [Worked example of Bayes rule calculation](https://en.wikipedia.org/wiki/Bayes'_theorem#Examples) (helpful as it fully breaks out the denominator)\n",
        "- [Source code for mvsdist in scipy](https://github.com/scipy/scipy/blob/90534919e139d2a81c24bf08341734ff41a3db12/scipy/stats/morestats.py#L139)"
      ]
    },
    {
      "cell_type": "markdown",
      "metadata": {
        "id": "GP7Jv1XvwtkX",
        "colab_type": "text"
      },
      "source": [
        "## Stretch Goals:\n",
        "\n",
        "- Go back and study the content from Modules 1 & 2 to make sure that you're really comfortable with them.\n",
        "- Apply a Bayesian technique to a problem you previously worked (in an assignment or project work) on from a frequentist (standard) perspective\n",
        "- Check out [PyMC3](https://docs.pymc.io/) (note this goes beyond hypothesis tests into modeling) - read the guides and work through some examples\n",
        "- Take PyMC3 further - see if you can build something with it!"
      ]
    },
    {
      "cell_type": "code",
      "metadata": {
        "id": "iDi0eFr1x-v_",
        "colab_type": "code",
        "colab": {}
      },
      "source": [
        ""
      ],
      "execution_count": 0,
      "outputs": []
    }
  ]
}