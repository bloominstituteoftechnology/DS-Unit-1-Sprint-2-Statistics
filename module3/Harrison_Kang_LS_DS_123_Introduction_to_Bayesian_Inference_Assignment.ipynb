{
  "nbformat": 4,
  "nbformat_minor": 0,
  "metadata": {
    "colab": {
      "name": "Harrison Kang -  LS_DS_123_Introduction_to_Bayesian_Inference_Assignment.ipynb",
      "provenance": [],
      "include_colab_link": true
    },
    "kernelspec": {
      "name": "python3",
      "display_name": "Python 3"
    }
  },
  "cells": [
    {
      "cell_type": "markdown",
      "metadata": {
        "id": "view-in-github",
        "colab_type": "text"
      },
      "source": [
        "<a href=\"https://colab.research.google.com/github/HKang42/DS-Unit-1-Sprint-2-Statistics/blob/master/module3/Harrison_Kang_LS_DS_123_Introduction_to_Bayesian_Inference_Assignment.ipynb\" target=\"_parent\"><img src=\"https://colab.research.google.com/assets/colab-badge.svg\" alt=\"Open In Colab\"/></a>"
      ]
    },
    {
      "cell_type": "markdown",
      "metadata": {
        "id": "H7OLbevlbd_Z",
        "colab_type": "text"
      },
      "source": [
        "# Lambda School Data Science Module 123\n",
        "\n",
        "## Introduction to Bayesian Inference\n",
        "\n",
        "\n"
      ]
    },
    {
      "cell_type": "markdown",
      "metadata": {
        "id": "P-DzzRk5bf0z",
        "colab_type": "text"
      },
      "source": [
        "## Assignment - Code it up!\n",
        "\n",
        "We used pure math to apply Bayes Theorem to drug tests. Now write Python code to reproduce the results! This is purposefully open ended - you'll have to think about how you should represent probabilities and events. You can and should look things up.\n",
        "\n",
        "Specific goals/targets:\n",
        "\n",
        "### 1) Write a function \n",
        "\n",
        "`def prob_drunk_given_positive(prob_drunk_prior, false_positive_rate):` \n",
        "\n",
        "You should only truly need these two values in order to apply Bayes Theorem. In this example, imagine that individuals are taking a breathalyzer test with an 8% false positive rate, a 100% true positive rate, and that our prior belief about drunk driving in the population is 1/1000. \n",
        " - What is the probability that a person is drunk after one positive breathalyzer test?\n",
        " - What is the probability that a person is drunk after two positive breathalyzer tests?\n",
        " - How many positive breathalyzer tests are needed in order to have a probability that's greater than 95% that a person is drunk beyond the legal limit?\n",
        "\n",
        "### 2) Explore `scipy.stats.bayes_mvs`  \n",
        "Read its documentation, and experiment with it on data you've tested in other ways earlier this week.\n",
        " - Create a visualization comparing the results of a Bayesian approach to a traditional/frequentist approach. (with a large sample size they should look close to identical, however, take this opportunity to practice visualizing condfidence intervals in general. The following are some potential ways that you could visualize confidence intervals on your graph:\n",
        "  - [Matplotlib Error Bars](https://matplotlib.org/3.1.1/api/_as_gen/matplotlib.pyplot.errorbar.html)\n",
        "  - [Seaborn barplot with error bars](https://seaborn.pydata.org/generated/seaborn.barplot.html)\n",
        "  - [Vertical ines to show bounds of confidence interval](https://www.simplypsychology.org/confidence-interval.jpg)\n",
        "  - [Confidence Intervals on Box Plots](https://matplotlib.org/3.1.1/api/_as_gen/matplotlib.axes.Axes.boxplot.html)\n",
        "\n",
        "### 3) In your own words, summarize the difference between Bayesian and Frequentist statistics\n",
        "\n",
        "If you're unsure where to start, check out [this blog post of Bayes theorem with Python](https://dataconomy.com/2015/02/introduction-to-bayes-theorem-with-python/).\n",
        "\n"
      ]
    },
    {
      "cell_type": "markdown",
      "metadata": {
        "id": "3GW147QxVo7q",
        "colab_type": "text"
      },
      "source": [
        "**1) Write a function**\n",
        "**def prob_drunk_given_positive(prob_drunk_prior, false_positive_rate):**\n",
        " - What is the probability that a person is drunk after one positive breathalyzer test?\n",
        "\n",
        "\n",
        "---\n",
        "\n",
        "\n",
        "\n",
        "$$P(A|B) = \\frac{P(A \\cap B)}{P(B)}$$\n",
        "\n",
        "-\tP(A|B) = Probability that a random person that tests positive is a drunk driver\n",
        "-\tP(A) = Probability someone is a drunk driver\n",
        "-\tP(B) = Probability someone tests positive\n",
        "-\tP(A∩B) = Probability of A and B (drunk driving and test positive)\n"
      ]
    },
    {
      "cell_type": "code",
      "metadata": {
        "id": "xpVhZyUnbf7o",
        "colab_type": "code",
        "colab": {}
      },
      "source": [
        "# TODO - code!\n",
        "\n",
        "import scipy.stats as stats\n",
        "\n",
        "def prob_drunk_given_positive( prob_drunk_prior, false_pos, true_pos, truncate = 4):\n",
        "  PA = prob_drunk_prior\n",
        "\n",
        "  # numerator = perison is drunk and tests positive\n",
        "  numerator = PA * true_pos\n",
        "\n",
        "  # denominator = person tests positive\n",
        "  # denominator = drunk and test positive + not drunk and test positive\n",
        "  denominator = PA * true_pos + (1.0 - PA) * false_pos\n",
        "\n",
        "  result = round(numerator/denominator, truncate)\n",
        "\n",
        "  return result"
      ],
      "execution_count": 0,
      "outputs": []
    },
    {
      "cell_type": "code",
      "metadata": {
        "id": "S7IZlcntUzB7",
        "colab_type": "code",
        "colab": {
          "base_uri": "https://localhost:8080/",
          "height": 34
        },
        "outputId": "f95fa11c-fca6-4d43-ec50-5b86a96309a2"
      },
      "source": [
        "prior = 1/1000\n",
        "false_positive = 0.08\n",
        "true_positive = 1.0\n",
        "\n",
        "\n",
        "posterior1 = prob_drunk_given_positive(prior, false_positive, true_positive)\n",
        "\n",
        "print (\"The probability that a person is drunk after one positive breathalyzer test is:\", str(posterior1 * 100) + \"%\")"
      ],
      "execution_count": 13,
      "outputs": [
        {
          "output_type": "stream",
          "text": [
            "The probability that a person is drunk after one positive breathalyzer test is: 1.24%\n"
          ],
          "name": "stdout"
        }
      ]
    },
    {
      "cell_type": "markdown",
      "metadata": {
        "id": "tsuOI7NqZcsb",
        "colab_type": "text"
      },
      "source": [
        "**What is the probability that a person is drunk after two positive breathalyzer tests?**"
      ]
    },
    {
      "cell_type": "code",
      "metadata": {
        "id": "mCXRrqo2GGCm",
        "colab_type": "code",
        "colab": {
          "base_uri": "https://localhost:8080/",
          "height": 34
        },
        "outputId": "77b3815a-0a23-4ecd-99f1-20a41763839e"
      },
      "source": [
        "posterior2 = prob_drunk_given_positive(posterior1, false_positive, true_positive)\n",
        "\n",
        "print (\"The probability that a person is drunk after two positive breathalyzer test is:\", str(posterior2 * 100) + \"%\")\n",
        "\n",
        "# For some reason, the result won't be truncated if it's in a print statement like above. \n",
        "#print(posterior2)\n",
        "#print(\"hi\",posterior2, \"hi\")"
      ],
      "execution_count": 14,
      "outputs": [
        {
          "output_type": "stream",
          "text": [
            "The probability that a person is drunk after two positive breathalyzer test is: 13.569999999999999%\n"
          ],
          "name": "stdout"
        }
      ]
    },
    {
      "cell_type": "markdown",
      "metadata": {
        "id": "glHwR5S0ZqIi",
        "colab_type": "text"
      },
      "source": [
        "**How many positive breathalyzer tests are needed in order to have a probability that's greater than 95% that a person is drunk beyond the legal limit?**"
      ]
    },
    {
      "cell_type": "code",
      "metadata": {
        "id": "BSILlCw7Ham7",
        "colab_type": "code",
        "colab": {
          "base_uri": "https://localhost:8080/",
          "height": 34
        },
        "outputId": "30007be6-7339-4d56-8ad4-ae98b9d67760"
      },
      "source": [
        "# Use a loop to run the prob_drunk_given_positive, using the previous posterior value as the prior probability argument\n",
        "\n",
        "# counter used to track number of loops\n",
        "i = 0\n",
        "\n",
        "confidence = 0.95\n",
        "\n",
        "prior = 1/1000\n",
        "false_positive = 0.08\n",
        "true_positive = 1.0\n",
        "\n",
        "while True:\n",
        "  i += 1\n",
        "\n",
        "  posterior = prob_drunk_given_positive(prior, false_positive, true_positive)\n",
        "\n",
        "  # stop once we reach the desired confidence level\n",
        "  if posterior > confidence:\n",
        "    break\n",
        "\n",
        "  else:\n",
        "    prior = posterior\n",
        "\n",
        "  # Break the loop if it goes on for too long  \n",
        "  if i == 100:\n",
        "    break\n",
        "\n",
        "posterior_percent = posterior * 100\n",
        "\n",
        "print(\"After\", i, \"Breathalyzer test(s), the probability that a person is drunk beyond the legal limit is:\", str(posterior_percent) + \"%\")"
      ],
      "execution_count": 15,
      "outputs": [
        {
          "output_type": "stream",
          "text": [
            "After 4 Breathalyzer test(s), the probability that a person is drunk beyond the legal limit is: 96.08%\n"
          ],
          "name": "stdout"
        }
      ]
    },
    {
      "cell_type": "markdown",
      "metadata": {
        "id": "gdJMXcf-eFLO",
        "colab_type": "text"
      },
      "source": [
        "**2) Explore scipy.stats.bayes_mvs**\n",
        "\n",
        "Read its documentation, and experiment with it on data you've tested in other ways earlier this week.\n",
        "\n",
        "Create a visualization comparing the results of a Bayesian approach to a traditional/frequentist approach. (with a large sample size they should look close to identical, however, take this opportunity to practice visualizing condfidence intervals in general."
      ]
    },
    {
      "cell_type": "code",
      "metadata": {
        "id": "QfSrvF3peNHl",
        "colab_type": "code",
        "colab": {
          "base_uri": "https://localhost:8080/",
          "height": 204
        },
        "outputId": "048c8e58-e94f-4c6b-f569-24157318a810"
      },
      "source": [
        "#help( stats.bayes_mvs )\n",
        "\n",
        "# TODO - your code!\n",
        "\n",
        "import pandas as pd\n",
        "import numpy as np\n",
        "import scipy.stats as stats\n",
        "import matplotlib.pyplot as plt\n",
        "\n",
        "# Get data\n",
        "\n",
        "df = pd.read_csv('https://raw.githubusercontent.com/ryanleeallred/datasets/master/adult.csv', na_values=\" ?\")\n",
        "\n",
        "df.head()"
      ],
      "execution_count": 16,
      "outputs": [
        {
          "output_type": "execute_result",
          "data": {
            "text/html": [
              "<div>\n",
              "<style scoped>\n",
              "    .dataframe tbody tr th:only-of-type {\n",
              "        vertical-align: middle;\n",
              "    }\n",
              "\n",
              "    .dataframe tbody tr th {\n",
              "        vertical-align: top;\n",
              "    }\n",
              "\n",
              "    .dataframe thead th {\n",
              "        text-align: right;\n",
              "    }\n",
              "</style>\n",
              "<table border=\"1\" class=\"dataframe\">\n",
              "  <thead>\n",
              "    <tr style=\"text-align: right;\">\n",
              "      <th></th>\n",
              "      <th>age</th>\n",
              "      <th>workclass</th>\n",
              "      <th>fnlwgt</th>\n",
              "      <th>education</th>\n",
              "      <th>education-num</th>\n",
              "      <th>marital-status</th>\n",
              "      <th>occupation</th>\n",
              "      <th>relationship</th>\n",
              "      <th>race</th>\n",
              "      <th>sex</th>\n",
              "      <th>capital-gain</th>\n",
              "      <th>capital-loss</th>\n",
              "      <th>hours-per-week</th>\n",
              "      <th>country</th>\n",
              "      <th>salary</th>\n",
              "    </tr>\n",
              "  </thead>\n",
              "  <tbody>\n",
              "    <tr>\n",
              "      <th>0</th>\n",
              "      <td>39</td>\n",
              "      <td>State-gov</td>\n",
              "      <td>77516</td>\n",
              "      <td>Bachelors</td>\n",
              "      <td>13</td>\n",
              "      <td>Never-married</td>\n",
              "      <td>Adm-clerical</td>\n",
              "      <td>Not-in-family</td>\n",
              "      <td>White</td>\n",
              "      <td>Male</td>\n",
              "      <td>2174</td>\n",
              "      <td>0</td>\n",
              "      <td>40</td>\n",
              "      <td>United-States</td>\n",
              "      <td>&lt;=50K</td>\n",
              "    </tr>\n",
              "    <tr>\n",
              "      <th>1</th>\n",
              "      <td>50</td>\n",
              "      <td>Self-emp-not-inc</td>\n",
              "      <td>83311</td>\n",
              "      <td>Bachelors</td>\n",
              "      <td>13</td>\n",
              "      <td>Married-civ-spouse</td>\n",
              "      <td>Exec-managerial</td>\n",
              "      <td>Husband</td>\n",
              "      <td>White</td>\n",
              "      <td>Male</td>\n",
              "      <td>0</td>\n",
              "      <td>0</td>\n",
              "      <td>13</td>\n",
              "      <td>United-States</td>\n",
              "      <td>&lt;=50K</td>\n",
              "    </tr>\n",
              "    <tr>\n",
              "      <th>2</th>\n",
              "      <td>38</td>\n",
              "      <td>Private</td>\n",
              "      <td>215646</td>\n",
              "      <td>HS-grad</td>\n",
              "      <td>9</td>\n",
              "      <td>Divorced</td>\n",
              "      <td>Handlers-cleaners</td>\n",
              "      <td>Not-in-family</td>\n",
              "      <td>White</td>\n",
              "      <td>Male</td>\n",
              "      <td>0</td>\n",
              "      <td>0</td>\n",
              "      <td>40</td>\n",
              "      <td>United-States</td>\n",
              "      <td>&lt;=50K</td>\n",
              "    </tr>\n",
              "    <tr>\n",
              "      <th>3</th>\n",
              "      <td>53</td>\n",
              "      <td>Private</td>\n",
              "      <td>234721</td>\n",
              "      <td>11th</td>\n",
              "      <td>7</td>\n",
              "      <td>Married-civ-spouse</td>\n",
              "      <td>Handlers-cleaners</td>\n",
              "      <td>Husband</td>\n",
              "      <td>Black</td>\n",
              "      <td>Male</td>\n",
              "      <td>0</td>\n",
              "      <td>0</td>\n",
              "      <td>40</td>\n",
              "      <td>United-States</td>\n",
              "      <td>&lt;=50K</td>\n",
              "    </tr>\n",
              "    <tr>\n",
              "      <th>4</th>\n",
              "      <td>28</td>\n",
              "      <td>Private</td>\n",
              "      <td>338409</td>\n",
              "      <td>Bachelors</td>\n",
              "      <td>13</td>\n",
              "      <td>Married-civ-spouse</td>\n",
              "      <td>Prof-specialty</td>\n",
              "      <td>Wife</td>\n",
              "      <td>Black</td>\n",
              "      <td>Female</td>\n",
              "      <td>0</td>\n",
              "      <td>0</td>\n",
              "      <td>40</td>\n",
              "      <td>Cuba</td>\n",
              "      <td>&lt;=50K</td>\n",
              "    </tr>\n",
              "  </tbody>\n",
              "</table>\n",
              "</div>"
            ],
            "text/plain": [
              "   age          workclass  fnlwgt  ... hours-per-week         country  salary\n",
              "0   39          State-gov   77516  ...             40   United-States   <=50K\n",
              "1   50   Self-emp-not-inc   83311  ...             13   United-States   <=50K\n",
              "2   38            Private  215646  ...             40   United-States   <=50K\n",
              "3   53            Private  234721  ...             40   United-States   <=50K\n",
              "4   28            Private  338409  ...             40            Cuba   <=50K\n",
              "\n",
              "[5 rows x 15 columns]"
            ]
          },
          "metadata": {
            "tags": []
          },
          "execution_count": 16
        }
      ]
    },
    {
      "cell_type": "code",
      "metadata": {
        "id": "x-uo58WQim3y",
        "colab_type": "code",
        "colab": {}
      },
      "source": [
        "# define function for \n",
        "\n",
        "def conf_int(sample, confidence, truncate = True):\n",
        "\n",
        "  # convert sample to array\n",
        "  sample = np.array(sample)\n",
        "  \n",
        "  # get sameple size\n",
        "  n = len(sample)\n",
        "\n",
        "  # calculate degrees of freedom\n",
        "  DoF = n-1\n",
        "\n",
        "  # calculate mean of sample\n",
        "  mean = np.mean(sample)\n",
        "\n",
        "  # calculate standard deviation of sample\n",
        "  std_dev = np.std(sample, ddof=1)\n",
        "  \n",
        "  # calculate standard error given standard dev. and sample size\n",
        "  std_err = std_dev / np.sqrt(n)\n",
        "\n",
        "  # get t-value given desired confidence level and degrees of freedom\n",
        "  t = stats.t.ppf( (1 + confidence) / 2.0, DoF)\n",
        "\n",
        "  # calculate margin of error\n",
        "  margin_of_error = std_err * t\n",
        "\n",
        "  # calculate upper and lower bounds\n",
        "  upper = mean + margin_of_error\n",
        "  lower = mean - margin_of_error\n",
        "\n",
        "  # truncate values\n",
        "  if truncate == True:\n",
        "  \n",
        "    mean = round(mean,3)\n",
        "    upper = round(upper, 3)\n",
        "    lower = round(lower, 3)\n",
        "    margin_of_error = round(margin_of_error,3)\n",
        "\n",
        "  return mean, upper, lower"
      ],
      "execution_count": 0,
      "outputs": []
    },
    {
      "cell_type": "code",
      "metadata": {
        "id": "kGMneJpqqrch",
        "colab_type": "code",
        "colab": {}
      },
      "source": [
        "# Generate sample\n",
        "\n",
        "confidence = 0.95\n",
        "\n",
        "sample_size = 10\n",
        "\n",
        "sample = df['education-num'].sample(sample_size)"
      ],
      "execution_count": 0,
      "outputs": []
    },
    {
      "cell_type": "code",
      "metadata": {
        "id": "XWhsQQtyqapE",
        "colab_type": "code",
        "colab": {
          "base_uri": "https://localhost:8080/",
          "height": 51
        },
        "outputId": "f58dfebe-1c28-46ee-a0fe-26eb1302e042"
      },
      "source": [
        "# get frequentist statistics\n",
        "freq = conf_int(sample, confidence)\n",
        "\n",
        "# get bayesian statistics\n",
        "bayesian = stats.bayes_mvs(df['education-num'], alpha = confidence)\n",
        "\n",
        "# put the desired values into a tuple (mean, upper limit, lower limit)\n",
        "bayes = (bayesian[0][0], bayesian[0][1][0], bayesian[0][1][1])\n",
        "\n",
        "print(freq)\n",
        "print(bayes)"
      ],
      "execution_count": 19,
      "outputs": [
        {
          "output_type": "stream",
          "text": [
            "(10.8, 12.338, 9.262)\n",
            "(10.0806793403151, 10.0527355615954, 10.108623119034801)\n"
          ],
          "name": "stdout"
        }
      ]
    },
    {
      "cell_type": "code",
      "metadata": {
        "id": "y5-cy0OB5MCL",
        "colab_type": "code",
        "colab": {
          "base_uri": "https://localhost:8080/",
          "height": 311
        },
        "outputId": "fd6061d8-391b-4789-a7f0-57d5b48ed3b9"
      },
      "source": [
        "fig = plt.figure()\n",
        "(ax1, ax2) = fig.subplots(2)\n",
        "\n",
        "#ax1 = sample.plot.density()\n",
        "ax1 = sample.plot(ax=ax1, kind = 'kde')\n",
        "\n",
        "samp = str(sample_size)\n",
        "\n",
        "ax1.set_title('Frequentist Statistics for Sample Size of ' + samp)\n",
        "\n",
        "ax1.axvline(freq[0], color='red')\n",
        "ax1.axvline(freq[1], color = 'darkred')\n",
        "ax1.axvline(freq[2], color = 'darkred')\n",
        "\n",
        "#ax2 = sample.plot.density()\n",
        "ax2 = sample.plot(ax=ax2, kind = 'kde')\n",
        "\n",
        "ax2.set_title('Bayesian Statistics for Sample Size of ' + samp)\n",
        "\n",
        "ax2.axvline(bayes[0], color='red')\n",
        "ax2.axvline(bayes[1], color = 'darkred')\n",
        "ax2.axvline(bayes[2], color = 'darkred')\n",
        "\n",
        "\n",
        "fig.tight_layout(pad=0.4, w_pad=0.5, h_pad=1.0)\n",
        "plt.show()"
      ],
      "execution_count": 20,
      "outputs": [
        {
          "output_type": "display_data",
          "data": {
            "image/png": "[encoded data removed]",
            "text/plain": [
              "<Figure size 432x288 with 2 Axes>"
            ]
          },
          "metadata": {
            "tags": []
          }
        }
      ]
    },
    {
      "cell_type": "markdown",
      "metadata": {
        "id": "2I_Off3o-H35",
        "colab_type": "text"
      },
      "source": [
        "We can see from above graphs that the confidence interval for the Bayesian Statistics is much tighter when we use a sample size of 10.\n",
        "\n",
        "Now let's try a larger sample size."
      ]
    },
    {
      "cell_type": "code",
      "metadata": {
        "id": "ZLKOFp1I99rl",
        "colab_type": "code",
        "colab": {}
      },
      "source": [
        "# Generate sample\n",
        "\n",
        "confidence = 0.95\n",
        "sample_size = 1000\n",
        "sample = df['education-num'].sample(sample_size)\n",
        "\n",
        "# get frequentist statistics\n",
        "freq = conf_int(sample, confidence)\n",
        "\n",
        "# get bayesian statistics\n",
        "bayesian = stats.bayes_mvs(df['education-num'], alpha = confidence)\n",
        "\n",
        "# put the desired values into a tuple (mean, upper limit, lower limit)\n",
        "bayes = (bayesian[0][0], bayesian[0][1][0], bayesian[0][1][1])"
      ],
      "execution_count": 0,
      "outputs": []
    },
    {
      "cell_type": "code",
      "metadata": {
        "id": "XGZaydFs-keM",
        "colab_type": "code",
        "colab": {
          "base_uri": "https://localhost:8080/",
          "height": 311
        },
        "outputId": "5174ddd2-fb0f-4088-e3a5-0ed125315c4b"
      },
      "source": [
        "fig = plt.figure()\n",
        "(ax1, ax2) = fig.subplots(2)\n",
        "\n",
        "#ax1 = sample.plot.density()\n",
        "ax1 = sample.plot(ax=ax1, kind = 'kde')\n",
        "\n",
        "samp = str(sample_size)\n",
        "\n",
        "ax1.set_title('Frequentist Statistics for Sample Size of ' + samp)\n",
        "\n",
        "ax1.axvline(freq[0], color='red')\n",
        "ax1.axvline(freq[1], color = 'darkred')\n",
        "ax1.axvline(freq[2], color = 'darkred')\n",
        "\n",
        "#ax2 = sample.plot.density()\n",
        "ax2 = sample.plot(ax=ax2, kind = 'kde')\n",
        "\n",
        "ax2.set_title('Bayesian Statistics for Sample Size of ' + samp)\n",
        "\n",
        "ax2.axvline(bayes[0], color='red')\n",
        "ax2.axvline(bayes[1], color = 'darkred')\n",
        "ax2.axvline(bayes[2], color = 'darkred')\n",
        "\n",
        "\n",
        "fig.tight_layout(pad=0.4, w_pad=0.5, h_pad=1.0)\n",
        "plt.show()"
      ],
      "execution_count": 22,
      "outputs": [
        {
          "output_type": "display_data",
          "data": {
            "image/png": "[encoded data removed]",
            "text/plain": [
              "<Figure size 432x288 with 2 Axes>"
            ]
          },
          "metadata": {
            "tags": []
          }
        }
      ]
    },
    {
      "cell_type": "markdown",
      "metadata": {
        "id": "8LFO5_Tm-sWq",
        "colab_type": "text"
      },
      "source": [
        "With a much larger sample size, we see that the confidence interval for the Frequentist Statistics are much tighter like the Bayesian Confidence Interval."
      ]
    },
    {
      "cell_type": "markdown",
      "metadata": {
        "id": "zmfT7L49AqtR",
        "colab_type": "text"
      },
      "source": [
        "**3) In your own words, summarize the difference between Bayesian and Frequentist statistics**\n",
        "\n",
        "\n",
        "\n",
        "---\n",
        "\n",
        "\n",
        "Frequentist statistics is built on sampling, is dependent on the probabilities for both observed and unobserved data, and never uses or gives probabilities to a hypothesis (only rejects or fails to reject).\n",
        "\n",
        "In contrast, Bayesian statistics is built on prior probabilities (which can be very subjective), depends on prior probability and probability of observed data, and defines probabilities for hypotheses."
      ]
    },
    {
      "cell_type": "markdown",
      "metadata": {
        "id": "uWgWjp3PQ3Sq",
        "colab_type": "text"
      },
      "source": [
        "## Resources"
      ]
    },
    {
      "cell_type": "markdown",
      "metadata": {
        "id": "QRgHqmYIQ9qn",
        "colab_type": "text"
      },
      "source": [
        "- [Worked example of Bayes rule calculation](https://en.wikipedia.org/wiki/Bayes'_theorem#Examples) (helpful as it fully breaks out the denominator)\n",
        "- [Source code for mvsdist in scipy](https://github.com/scipy/scipy/blob/90534919e139d2a81c24bf08341734ff41a3db12/scipy/stats/morestats.py#L139)"
      ]
    },
    {
      "cell_type": "markdown",
      "metadata": {
        "id": "GP7Jv1XvwtkX",
        "colab_type": "text"
      },
      "source": [
        "## Stretch Goals:\n",
        "\n",
        "- Go back and study the content from Modules 1 & 2 to make sure that you're really comfortable with them.\n",
        "- Apply a Bayesian technique to a problem you previously worked (in an assignment or project work) on from a frequentist (standard) perspective\n",
        "- Check out [PyMC3](https://docs.pymc.io/) (note this goes beyond hypothesis tests into modeling) - read the guides and work through some examples\n",
        "- Take PyMC3 further - see if you can build something with it!"
      ]
    },
    {
      "cell_type": "code",
      "metadata": {
        "id": "iDi0eFr1x-v_",
        "colab_type": "code",
        "colab": {}
      },
      "source": [
        ""
      ],
      "execution_count": 0,
      "outputs": []
    }
  ]
}