{
  "nbformat": 4,
  "nbformat_minor": 0,
  "metadata": {
    "colab": {
      "name": "Ryan Mecking LS_DS_123_Introduction_to_Bayesian_Inference_Assignment.ipynb",
      "provenance": [],
      "include_colab_link": true
    },
    "kernelspec": {
      "name": "python3",
      "display_name": "Python 3"
    }
  },
  "cells": [
    {
      "cell_type": "markdown",
      "metadata": {
        "id": "view-in-github",
        "colab_type": "text"
      },
      "source": [
        "<a href=\"https://colab.research.google.com/github/rsmecking/DS-Unit-1-Sprint-2-Statistics/blob/master/module3/Ryan_Mecking_LS_DS_123_Introduction_to_Bayesian_Inference_Assignment.ipynb\" target=\"_parent\"><img src=\"https://colab.research.google.com/assets/colab-badge.svg\" alt=\"Open In Colab\"/></a>"
      ]
    },
    {
      "cell_type": "markdown",
      "metadata": {
        "id": "H7OLbevlbd_Z",
        "colab_type": "text"
      },
      "source": [
        "# Lambda School Data Science Module 123\n",
        "\n",
        "## Introduction to Bayesian Inference\n",
        "\n",
        "\n"
      ]
    },
    {
      "cell_type": "markdown",
      "metadata": {
        "id": "P-DzzRk5bf0z",
        "colab_type": "text"
      },
      "source": [
        "## Assignment - Code it up!\n",
        "\n",
        "We used pure math to apply Bayes Theorem to drug tests. Now write Python code to reproduce the results! This is purposefully open ended - you'll have to think about how you should represent probabilities and events. You can and should look things up.\n",
        "\n",
        "Specific goals/targets:\n",
        "\n",
        "### 1) Write a function \n",
        "\n",
        "`def prob_drunk_given_positive(prob_drunk_prior, false_positive_rate, true_positive_rate):` \n",
        "\n",
        "You should only truly need these two values in order to apply Bayes Theorem. In this example, imagine that individuals are taking a breathalyzer test with an 8% false positive rate, a 100% true positive rate, and that our prior belief about drunk driving in the population is 1/1000. \n",
        " - What is the probability that a person is drunk after one positive breathalyzer test?\n",
        " - What is the probability that a person is drunk after two positive breathalyzer tests?\n",
        " - How many positive breathalyzer tests are needed in order to have a probability that's greater than 95% that a person is drunk beyond the legal limit?"
      ]
    },
    {
      "cell_type": "code",
      "metadata": {
        "id": "jLxSlNILi_cT",
        "colab_type": "code",
        "outputId": "8d818efd-4459-4e51-fef2-74753fd8c32f",
        "colab": {
          "base_uri": "https://localhost:8080/",
          "height": 85
        }
      },
      "source": [
        "# True Positive Rate 100%\n",
        "prob_drunk_given_positive = 1\n",
        "# Prior Probability (1/1000)\n",
        "prob_drunk_prior = 1/1000\n",
        "# False Positive Rate 8%\n",
        "false_positive_rate = .08\n",
        "# Complement probability of p_user (1 - p_user)\n",
        "true_positive_rate = 1 - prob_drunk_prior\n",
        "\n",
        "print('Probability Positive Drunk', prob_drunk_given_positive)\n",
        "print('Probability Drunk', prob_drunk_prior)\n",
        "print('Probability Positive Given Non-Drunk', false_positive_rate)\n",
        "print('Probability Non-Drunk', true_positive_rate)"
      ],
      "execution_count": 6,
      "outputs": [
        {
          "output_type": "stream",
          "text": [
            "Probability Positive Drunk 1\n",
            "Probability Drunk 0.001\n",
            "Probability Positive Given Non-Drunk 0.08\n",
            "Probability Non-Drunk 0.999\n"
          ],
          "name": "stdout"
        }
      ]
    },
    {
      "cell_type": "code",
      "metadata": {
        "id": "WlQKyEH2CEs-",
        "colab_type": "code",
        "outputId": "e8a6bb6b-ec09-4342-eb29-dfdd1a230ed0",
        "colab": {
          "base_uri": "https://localhost:8080/",
          "height": 136
        }
      },
      "source": [
        "def prob_drunk_given_positive(prob_drunk_prior, false_positive_rate, true_positive_rate):\n",
        "  counts = 0\n",
        "  prob_drunk_prior_one = 0\n",
        "  prob_drunk_prior_two = 0\n",
        "  while(counts < 4):\n",
        "    counts = counts + 1\n",
        "    print ('run', counts)\n",
        "    prob_drunk_non_user = 1 - prob_drunk_prior\n",
        "    prob_drunk_prior = (true_positive_rate*prob_drunk_prior) / ((true_positive_rate*prob_drunk_prior) + (false_positive_rate*prob_drunk_non_user))\n",
        "    if counts == 1:\n",
        "      prob_drunk_prior_one = prob_drunk_prior\n",
        "    elif counts == 2:\n",
        "      prob_drunk_prior_two = prob_drunk_prior\n",
        "  return print('Test one:', prob_drunk_prior_one, '\\nTest two:', prob_drunk_prior_two, '\\nOver 95% positive tests required', prob_drunk_prior, counts, 'tests')\n",
        "\n",
        "prob_drunk_given_positive(1/1000, .08, 1)"
      ],
      "execution_count": 7,
      "outputs": [
        {
          "output_type": "stream",
          "text": [
            "run 1\n",
            "run 2\n",
            "run 3\n",
            "run 4\n",
            "Test one: 0.012357884330202669 \n",
            "Test two: 0.13525210993291495 \n",
            "Over 95% positive tests required 0.9606895076105054 4 tests\n"
          ],
          "name": "stdout"
        }
      ]
    },
    {
      "cell_type": "code",
      "metadata": {
        "id": "VWPJiXTEmzUm",
        "colab_type": "code",
        "colab": {}
      },
      "source": [
        "# drunk_probability = (prob_drunk_given_positive*prob_drunk_prior) / ((prob_drunk_given_positive*prob_drunk_prior) + (false_positive_rate*true_positive_rate))\n",
        "\n",
        "# The probabiltiy of a person who tests positive actually being a drunk:\n",
        "# print(\"Drunk Probability\", drunk_probability)"
      ],
      "execution_count": 0,
      "outputs": []
    },
    {
      "cell_type": "code",
      "metadata": {
        "id": "sif5xOssGJW4",
        "colab_type": "code",
        "colab": {}
      },
      "source": [
        "#two tests\n",
        "# drunk_probability = (prob_drunk_given_positive*drunk_probability ) / ((prob_drunk_given_positive*prob_drunk_prior) + (false_positive_rate*true_positive_rate))\n",
        "# print(\"Drunk Probability\", drunk_probability)"
      ],
      "execution_count": 0,
      "outputs": []
    },
    {
      "cell_type": "code",
      "metadata": {
        "id": "42K5rp8fNgsN",
        "colab_type": "code",
        "colab": {}
      },
      "source": [
        "#It takes 4 tests to reach over a 95% probability"
      ],
      "execution_count": 0,
      "outputs": []
    },
    {
      "cell_type": "markdown",
      "metadata": {
        "id": "_HVZYxraiwrc",
        "colab_type": "text"
      },
      "source": [
        "### 2) Explore `scipy.stats.bayes_mvs`  \n",
        "Read its documentation, and experiment with it on data you've tested in other ways earlier this week.\n",
        " - Create a visualization comparing the results of a Bayesian approach to a traditional/frequentist approach. (with a large sample size they should look close to identical, however, take this opportunity to practice visualizing condfidence intervals in general. The following are some potential ways that you could visualize confidence intervals on your graph:\n",
        "  - [Matplotlib Error Bars](https://matplotlib.org/3.1.1/api/_as_gen/matplotlib.pyplot.errorbar.html)\n",
        "  - [Seaborn barplot with error bars](https://seaborn.pydata.org/generated/seaborn.barplot.html)\n",
        "  - [Vertical ines to show bounds of confidence interval](https://www.simplypsychology.org/confidence-interval.jpg)\n",
        "  - [Confidence Intervals on Box Plots](https://matplotlib.org/3.1.1/api/_as_gen/matplotlib.axes.Axes.boxplot.html)"
      ]
    },
    {
      "cell_type": "code",
      "metadata": {
        "id": "xXNwHFU-jATE",
        "colab_type": "code",
        "outputId": "f2984f15-0686-48fd-9ea3-f08fc9f52cdd",
        "colab": {
          "base_uri": "https://localhost:8080/",
          "height": 221
        }
      },
      "source": [
        "!wget https://archive.ics.uci.edu/ml/machine-learning-databases/voting-records/house-votes-84.data\n",
        "import pandas as pd\n",
        "import numpy as np\n",
        "from scipy import stats\n",
        "import matplotlib.pyplot as plt\n",
        "import seaborn as sns\n",
        "from scipy.stats import t\n",
        "df = pd.read_csv('house-votes-84.data', \n",
        "                 header=None,\n",
        "                 names=['party','handicapped-infants','water-project',\n",
        "                          'budget','physician-fee-freeze', 'el-salvador-aid',\n",
        "                          'religious-groups','anti-satellite-ban',\n",
        "                          'aid-to-contras','mx-missile','immigration',\n",
        "                          'synfuels', 'education', 'right-to-sue','crime','duty-free',\n",
        "                          'south-africa'])\n",
        "df = df.replace({'?':np.NaN, 'n':0, 'y':1})\n",
        "rep = df[df.party == \"republican\"]\n",
        "print(df.shape)"
      ],
      "execution_count": 11,
      "outputs": [
        {
          "output_type": "stream",
          "text": [
            "--2020-01-23 14:56:28--  https://archive.ics.uci.edu/ml/machine-learning-databases/voting-records/house-votes-84.data\n",
            "Resolving archive.ics.uci.edu (archive.ics.uci.edu)... 128.195.10.252\n",
            "Connecting to archive.ics.uci.edu (archive.ics.uci.edu)|128.195.10.252|:443... connected.\n",
            "HTTP request sent, awaiting response... 200 OK\n",
            "Length: 18171 (18K) [application/x-httpd-php]\n",
            "Saving to: ‘house-votes-84.data’\n",
            "\n",
            "\rhouse-votes-84.data   0%[                    ]       0  --.-KB/s               \rhouse-votes-84.data 100%[===================>]  17.75K  --.-KB/s    in 0.03s   \n",
            "\n",
            "2020-01-23 14:56:28 (624 KB/s) - ‘house-votes-84.data’ saved [18171/18171]\n",
            "\n",
            "(435, 17)\n"
          ],
          "name": "stdout"
        }
      ]
    },
    {
      "cell_type": "code",
      "metadata": {
        "id": "bHUrhnJNg8Gn",
        "colab_type": "code",
        "colab": {}
      },
      "source": [
        "#confidence interval equation\n",
        "def confidence_interval(data, confidence=.95):\n",
        "  n = len(data)\n",
        "  mean = sum(data)/n\n",
        "  data = np.array(data)\n",
        "  stderr = stats.sem(data)\n",
        "  interval = stderr * stats.t.ppf((1 + confidence) / 2.0, n-1)\n",
        "  return (mean, mean-interval, mean+interval)"
      ],
      "execution_count": 0,
      "outputs": []
    },
    {
      "cell_type": "code",
      "metadata": {
        "id": "bi2xfiVH0pgj",
        "colab_type": "code",
        "colab": {}
      },
      "source": [
        "#rep['education'].value_counts()"
      ],
      "execution_count": 0,
      "outputs": []
    },
    {
      "cell_type": "code",
      "metadata": {
        "id": "e5shUslX2anB",
        "colab_type": "code",
        "outputId": "d00383a9-a3be-4902-9dd5-f8bdb1412360",
        "colab": {
          "base_uri": "https://localhost:8080/",
          "height": 51
        }
      },
      "source": [
        "#CI\n",
        "# education = rep['education'].dropna()\n",
        "# n = len(education)\n",
        "# education_mean = education.mean()\n",
        "# sample_std = education.std()\n",
        "# std_err = sample_std/np.sqrt(.95)\n",
        "\n",
        "# CI_education = stats.t.interval(.95, n-1, loc=education_mean, scale=std_err)\n",
        "\n",
        "# print(\"education mean:\", education_mean)\n",
        "# CI_education"
      ],
      "execution_count": 14,
      "outputs": [
        {
          "output_type": "stream",
          "text": [
            "education mean: 0.8709677419354839\n"
          ],
          "name": "stdout"
        },
        {
          "output_type": "execute_result",
          "data": {
            "text/plain": [
              "(0.1893070066902821, 1.5526284771806855)"
            ]
          },
          "metadata": {
            "tags": []
          },
          "execution_count": 14
        }
      ]
    },
    {
      "cell_type": "code",
      "metadata": {
        "id": "iqVbbBBs8m6I",
        "colab_type": "code",
        "colab": {
          "base_uri": "https://localhost:8080/",
          "height": 34
        },
        "outputId": "dd9f4dad-80ca-4d90-ce19-1361796b130d"
      },
      "source": [
        "mean, lower, upper = confidence_interval(rep['education'].dropna())\n",
        "mean, lower, upper"
      ],
      "execution_count": 22,
      "outputs": [
        {
          "output_type": "execute_result",
          "data": {
            "text/plain": [
              "(0.8709677419354839, 0.8176017935029393, 0.9243336903680285)"
            ]
          },
          "metadata": {
            "tags": []
          },
          "execution_count": 22
        }
      ]
    },
    {
      "cell_type": "code",
      "metadata": {
        "id": "65vBJsrJ9-Rx",
        "colab_type": "code",
        "colab": {
          "base_uri": "https://localhost:8080/",
          "height": 265
        },
        "outputId": "1e078b55-59d7-4902-a364-1cad639dd884"
      },
      "source": [
        "sns.kdeplot(rep['education'].dropna())\n",
        "plt.axvline(x=upper, color='red')\n",
        "plt.axvline(x=lower, color='red')\n",
        "plt.axvline(x=mean, color='k');"
      ],
      "execution_count": 36,
      "outputs": [
        {
          "output_type": "display_data",
          "data": {
            "image/png": "[encoded data removed]",
            "text/plain": [
              "<Figure size 432x288 with 1 Axes>"
            ]
          },
          "metadata": {
            "tags": []
          }
        }
      ]
    },
    {
      "cell_type": "code",
      "metadata": {
        "id": "RWc12L6WbrAh",
        "colab_type": "code",
        "colab": {}
      },
      "source": [
        "# from random import choice\n",
        "# n = len(rep['education'])\n",
        "# sample_means = list()\n",
        "# for x in range(1000):\n",
        "#   resample = list()\n",
        "# for y in range(n-1):\n",
        "#   resample.append(choice(rep['education']))\n",
        "# sample_means.append((sum(resample) / len(resample)))"
      ],
      "execution_count": 0,
      "outputs": []
    },
    {
      "cell_type": "code",
      "metadata": {
        "id": "S4v9gLWP4Ud3",
        "colab_type": "code",
        "outputId": "53ec12b1-a889-443d-e57c-f53ab165e91c",
        "colab": {
          "base_uri": "https://localhost:8080/",
          "height": 34
        }
      },
      "source": [
        "#Bayesian\n",
        "bayesian_confidence_interval, _, _ = stats.bayes_mvs(education, alpha=.95)\n",
        "print(bayesian_confidence_interval)"
      ],
      "execution_count": 19,
      "outputs": [
        {
          "output_type": "stream",
          "text": [
            "Mean(statistic=0.8709677419354839, minmax=(0.8176017935029393, 0.9243336903680285))\n"
          ],
          "name": "stdout"
        }
      ]
    },
    {
      "cell_type": "code",
      "metadata": {
        "id": "Es4-0sOLa75I",
        "colab_type": "code",
        "colab": {}
      },
      "source": [
        "fig, ax = plt.subplots()\n",
        "ax.bar(x=0, height=bayesian_confidence_interval.statistic[0], yerr=bayesian_confidence_interval[2]-bayesian_confidence_interval[1]);"
      ],
      "execution_count": 0,
      "outputs": []
    },
    {
      "cell_type": "markdown",
      "metadata": {
        "id": "N7wm9Jxki6VD",
        "colab_type": "text"
      },
      "source": [
        "### 3) In your own words, summarize the difference between Bayesian and Frequentist statistics\n",
        "\n",
        "If you're unsure where to start, check out [this blog post of Bayes theorem with Python](https://dataconomy.com/2015/02/introduction-to-bayes-theorem-with-python/).\n",
        "\n"
      ]
    },
    {
      "cell_type": "code",
      "metadata": {
        "id": "xpVhZyUnbf7o",
        "colab_type": "code",
        "colab": {}
      },
      "source": [
        "# TODO - code!"
      ],
      "execution_count": 0,
      "outputs": []
    },
    {
      "cell_type": "markdown",
      "metadata": {
        "id": "uWgWjp3PQ3Sq",
        "colab_type": "text"
      },
      "source": [
        "## Resources"
      ]
    },
    {
      "cell_type": "markdown",
      "metadata": {
        "id": "QRgHqmYIQ9qn",
        "colab_type": "text"
      },
      "source": [
        "- [Worked example of Bayes rule calculation](https://en.wikipedia.org/wiki/Bayes'_theorem#Examples) (helpful as it fully breaks out the denominator)\n",
        "- [Source code for mvsdist in scipy](https://github.com/scipy/scipy/blob/90534919e139d2a81c24bf08341734ff41a3db12/scipy/stats/morestats.py#L139)"
      ]
    },
    {
      "cell_type": "markdown",
      "metadata": {
        "id": "GP7Jv1XvwtkX",
        "colab_type": "text"
      },
      "source": [
        "## Stretch Goals:\n",
        "\n",
        "- Go back and study the content from Modules 1 & 2 to make sure that you're really comfortable with them.\n",
        "- Apply a Bayesian technique to a problem you previously worked (in an assignment or project work) on from a frequentist (standard) perspective\n",
        "- Check out [PyMC3](https://docs.pymc.io/) (note this goes beyond hypothesis tests into modeling) - read the guides and work through some examples\n",
        "- Take PyMC3 further - see if you can build something with it!"
      ]
    },
    {
      "cell_type": "code",
      "metadata": {
        "id": "iDi0eFr1x-v_",
        "colab_type": "code",
        "colab": {}
      },
      "source": [
        ""
      ],
      "execution_count": 0,
      "outputs": []
    }
  ]
}