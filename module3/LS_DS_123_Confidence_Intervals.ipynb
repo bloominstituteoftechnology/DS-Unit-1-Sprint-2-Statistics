{
  "nbformat": 4,
  "nbformat_minor": 0,
  "metadata": {
    "colab": {
      "name": "LS_DS_123_Confidence_Intervals_No_Answers.ipynb",
      "provenance": [],
      "collapsed_sections": []
    },
    "kernelspec": {
      "name": "python3",
      "display_name": "Python 3"
    }
  },
  "cells": [
    {
      "cell_type": "markdown",
      "metadata": {
        "id": "838Dmw1kM2LK",
        "colab_type": "text"
      },
      "source": [
        "# Lambda School Data Science Module 123\n",
        "## Confidence Intervals\n",
        "\n",
        "Objectives: \n",
        "\n",
        "- Student can explain the purpose of confidence intervals and identify applications for their use\n",
        "- Student can explain the implications of the central limit theorem in inferential statistics\n",
        "- Student can demonstrate how to build a confidence interval around a sample estimate\n",
        "- Student can report margin of error and visualize graphically a confidence interval to communicate the precision of sample estimates to a non-technical audience\n",
        "- Student can explain the concepts of statistical estimate, precision, and standard error in regards to inferential statistics\n"
      ]
    },
    {
      "cell_type": "markdown",
      "metadata": {
        "id": "3hi4kQm1XhlO",
        "colab_type": "text"
      },
      "source": [
        "#What are confidence intervals?  Why make them?\n",
        "\n",
        "In the past two units, we've talked about two different hypothesis tests: the t-test for a population mean(s) and the chi-square test for the relationship between two categorical variables.\n",
        "\n",
        "When we reject the null hypothesis for a one-independent-sample t-test, we say we believe that the population mean is *not* equal to some reference value (recall that the null hypothesis is that the population mean *is* equal to a reference value).  \n",
        "\n",
        "However, rejecting the null hypothesis only gives us a clue to what we think the population mean *is not*.  "
      ]
    },
    {
      "cell_type": "markdown",
      "metadata": {
        "id": "dldAGyVreMyh",
        "colab_type": "text"
      },
      "source": [
        "\n",
        "**The purpose of a confidence interval for a one-sample t-test is to allow us to draw conclusions about the true vaulue of the population mean.**"
      ]
    },
    {
      "cell_type": "markdown",
      "metadata": {
        "id": "f1eSsOqceQ7U",
        "colab_type": "text"
      },
      "source": [
        "\n",
        "Note that there are some analygous procedures for confidence intervals for chi-square tests and two-independent-sample t-tests, but we are going to focus on a confidence interval for a single population mean here."
      ]
    },
    {
      "cell_type": "markdown",
      "metadata": {
        "id": "K19Jp9-3ene5",
        "colab_type": "text"
      },
      "source": [
        "#Confidence Intervals in Story Form\n",
        "\n",
        "You can think about a confidence interval - broadly - as an educated guess about the population mean.  This guess is going to be a really really good one based on mathematical properties and data from a sample, but at the end of the day, it's still a guess.\n",
        "\n"
      ]
    },
    {
      "cell_type": "markdown",
      "metadata": {
        "id": "_sbvWJVCfCNu",
        "colab_type": "text"
      },
      "source": [
        "Let's pretend that I'm a performer at the fair, and I walk around guessing people's ages.  I walk up to a man and say, \"Sir!  May I guess your age?\"  and he says, \"Yes, you may.\"\n",
        "\n",
        "I look very, very hard at him - at his hair color and if he's balding or has wrinkles - and I guess, \"Sir, I think you are 42 and 3/4 years old.\"\n",
        "\n"
      ]
    },
    {
      "cell_type": "markdown",
      "metadata": {
        "id": "mOpzw6URf7FX",
        "colab_type": "text"
      },
      "source": [
        "That is a very specific guess!  If I'm right then I'm really good at guessing ages, but the likelhood of me being exactly right is pretty low.  I mean, maybe he's 42 1/2 years old.  I'd be close to his actual age, but my guess would be incorrect.\n",
        "\n",
        "In statistics, we call a very specific guess like this a ** point estimate.**"
      ]
    },
    {
      "cell_type": "markdown",
      "metadata": {
        "id": "GfutV5_Egu3b",
        "colab_type": "text"
      },
      "source": [
        "Let's rewind this scenario.  I'm still guessing ages at the fair.  The man just told me I can guess his age, but this time I say, \"I think you are between 40 and 45 years old.\"\n",
        "\n",
        "\"Yes!\"  he says, amazed.  \"You are right!  I'm exactly 42 1/2 years old.\"  "
      ]
    },
    {
      "cell_type": "markdown",
      "metadata": {
        "id": "zVmHE2-uhTzt",
        "colab_type": "text"
      },
      "source": [
        "This time, I've guessed a *range* of probable values for the man's age.  In statistics, when we proporse a range of values for a population parameter, we will call that range a **confidence interval**."
      ]
    },
    {
      "cell_type": "markdown",
      "metadata": {
        "id": "wLOeFdxMhkb0",
        "colab_type": "text"
      },
      "source": [
        "The important thing to note here is that, while my point estimate guess about the man's age was close, I was still wrong.  On the other hand, when I guessed a range of values for the man's age, I was correct.  \n",
        "\n",
        "**The reason that we make confidence intervals to estimate population parameters rather than relying on point estimates is because it greatly increases our chances of making an accurate estimate.**"
      ]
    },
    {
      "cell_type": "markdown",
      "metadata": {
        "id": "X9guE5l-iO3E",
        "colab_type": "text"
      },
      "source": [
        "#Informal Confidence Intervals in Daily Life\n",
        "\n",
        "Believe it or not, you already use the concept of a confidence interval all the time in your daily life.\n",
        "\n",
        "\n",
        "*   \"How long will it take the brownies to bake?\"  About 35 - 40 minutes.\n",
        "*   \"How many cookies should I bake for the bake sale?\"  Probably around 2 - 3 dozen.\n",
        "*   \"How many loaves of bread will the bakery sell today?\" Around 90 - 100.\n",
        "\n",
        "The true answer to all of these questions is unknowable ahead of time.  Exactly how long it will take the brownies to bake probably depends on a zillion factors including how well your oven is working, how hot and humid it is, the age of the eggs you use, etc.\n",
        "\n",
        "However, based on personal experience - and perhaps the recipe - we can be very confident that it will take between 35 - 40 minutes for the brownies to be done.  \n",
        "\n",
        "Estimates in the other two scenarios work similarly."
      ]
    },
    {
      "cell_type": "markdown",
      "metadata": {
        "id": "Hntf1OWLlEPA",
        "colab_type": "text"
      },
      "source": [
        "# The Anatomy of a Confidence Interval\n",
        "\n",
        "Here comes the math part!\n",
        "\n",
        "When we make brownies, we make an informal confidence interval for how long it will take for them to bake based on the recipe and our baking knowledge.\n",
        "\n",
        "**When we make a confidence interval for a population mean, we will use information from our sample and mathematical properties of the t-distribution.**"
      ]
    },
    {
      "cell_type": "markdown",
      "metadata": {
        "id": "J82wyqTElunD",
        "colab_type": "text"
      },
      "source": [
        "##The formula for a confidence interval for a population mean is \n",
        "\n",
        "###$\\bar{X}$  $\\pm$  $t^* \\frac{s}{\\sqrt{n}}$ \n",
        "\n"
      ]
    },
    {
      "cell_type": "markdown",
      "metadata": {
        "id": "VhV8zLlYtF4M",
        "colab_type": "text"
      },
      "source": [
        "Where $\\bar{X}$ is the sample mean, s is the sample standard deviation and n is the sample size.\n",
        "\n",
        "Note that $\\frac{s}{\\sqrt{n}}$ is the standard error, which is an estimate of the true standard error of the sample mean.  \n",
        "\n",
        "**Another name for the quantitiy $t^* \\frac{s}{\\sqrt{n}}$ is the margin of error.** \n",
        "\n",
        "Nearly all of the information we need to estimate the population mean using a confidence interval comes from our sample.  The only thing we don't get from the sample is t*.\n",
        "\n",
        "Now is the time to introduce some data."
      ]
    },
    {
      "cell_type": "markdown",
      "metadata": {
        "id": "V5Z3MSNfo3La",
        "colab_type": "text"
      },
      "source": [
        "# Estimate the mean healthy adult human body temperature.\n",
        "\n",
        "Everyone knows that 98.60 F (37.00 C) is the normal human body temperature.  But is that actually correct, and – come to think of it – how does everyone know that in the first place?\n",
        "\n",
        "A German physician named Carl Reinhold August Wunderlich is generally credited with originating this idea, which was based on – reportedly – more than one million axiliary temperature readings taken from 25,000 subjects and was published in his 1868 book Das Verhalten der Eigenwärme in Krankheiten (which translates to The Behavior of the Self-Warmth in Diseases). But was he correct? History tells that his thermometer was a foot long and took 20 minutes to determine a subject’s temperature. For a measure that is used so often to determine general health, it would be a good idea to use modern instruments to confirm or refute his results.\n",
        "\n",
        "In 1992, three physicians from the University of Maryland School of Medicine set out to do just that, measuring body temperatures for 223 healthy men and women aged 18-40 one to four times a day for three consecutive days using an electronic digital thermometer. The mean body temperature was computed for each individual, and this summary measure is recorded in the Bodytemp.csv dataset. "
      ]
    },
    {
      "cell_type": "markdown",
      "metadata": {
        "id": "jzgOTeBvtl6D",
        "colab_type": "text"
      },
      "source": [
        "**We wish to estimate the population mean healthy human body temperature.**"
      ]
    },
    {
      "cell_type": "markdown",
      "metadata": {
        "id": "_dDAP94KtvWP",
        "colab_type": "text"
      },
      "source": [
        "Source: Mackowiak, P. A., Wasserman, S. S., and Levine, M. M.  (1992), \"A Critical Appraisal of 98.6 Degrees F, the Upper Limit of the Normal Body Temperature, and Other Legacies of Carl Reinhold August Wunderlich,\" Journal of the American Medical Association_, 268, 1578-1580.\n"
      ]
    },
    {
      "cell_type": "code",
      "metadata": {
        "id": "fGaZspmft1Jg",
        "colab_type": "code",
        "colab": {
          "base_uri": "https://localhost:8080/",
          "height": 221
        },
        "outputId": "4f2a1cc6-c8ac-4a1b-da77-c3c5709a74bc"
      },
      "source": [
        "import pandas as pd\n",
        "import numpy as np\n",
        "\n",
        "\n",
        "data_url = 'https://raw.githubusercontent.com/Chelsea-Myers/Lambda-Intro/master/Bodytemp.csv'\n",
        "\n",
        "df = pd.read_csv(data_url, skipinitialspace=True, header=0)\n",
        "\n",
        "print(df.shape)\n",
        "df.head()\n"
      ],
      "execution_count": null,
      "outputs": [
        {
          "output_type": "stream",
          "text": [
            "(223, 2)\n"
          ],
          "name": "stdout"
        },
        {
          "output_type": "execute_result",
          "data": {
            "text/html": [
              "<div>\n",
              "<style scoped>\n",
              "    .dataframe tbody tr th:only-of-type {\n",
              "        vertical-align: middle;\n",
              "    }\n",
              "\n",
              "    .dataframe tbody tr th {\n",
              "        vertical-align: top;\n",
              "    }\n",
              "\n",
              "    .dataframe thead th {\n",
              "        text-align: right;\n",
              "    }\n",
              "</style>\n",
              "<table border=\"1\" class=\"dataframe\">\n",
              "  <thead>\n",
              "    <tr style=\"text-align: right;\">\n",
              "      <th></th>\n",
              "      <th>ID</th>\n",
              "      <th>Body_temp</th>\n",
              "    </tr>\n",
              "  </thead>\n",
              "  <tbody>\n",
              "    <tr>\n",
              "      <th>0</th>\n",
              "      <td>36</td>\n",
              "      <td>96.7</td>\n",
              "    </tr>\n",
              "    <tr>\n",
              "      <th>1</th>\n",
              "      <td>254</td>\n",
              "      <td>96.9</td>\n",
              "    </tr>\n",
              "    <tr>\n",
              "      <th>2</th>\n",
              "      <td>282</td>\n",
              "      <td>97.0</td>\n",
              "    </tr>\n",
              "    <tr>\n",
              "      <th>3</th>\n",
              "      <td>286</td>\n",
              "      <td>97.0</td>\n",
              "    </tr>\n",
              "    <tr>\n",
              "      <th>4</th>\n",
              "      <td>302</td>\n",
              "      <td>97.0</td>\n",
              "    </tr>\n",
              "  </tbody>\n",
              "</table>\n",
              "</div>"
            ],
            "text/plain": [
              "    ID  Body_temp\n",
              "0   36       96.7\n",
              "1  254       96.9\n",
              "2  282       97.0\n",
              "3  286       97.0\n",
              "4  302       97.0"
            ]
          },
          "metadata": {
            "tags": []
          },
          "execution_count": 2
        }
      ]
    },
    {
      "cell_type": "markdown",
      "metadata": {
        "id": "LD5fogYFumvA",
        "colab_type": "text"
      },
      "source": [
        "The two variables in the dataset are participant ID and body temperature measured in degrees F."
      ]
    },
    {
      "cell_type": "markdown",
      "metadata": {
        "id": "Iq7trJxEu2On",
        "colab_type": "text"
      },
      "source": [
        "We can use the mean, sd and row counting functions in Python to calculate and save the sample mean body temp ($\\bar{X}$ for the CI formula), the sample standard deviation (s in the CI formula) and the sample size (n in the formula)."
      ]
    },
    {
      "cell_type": "code",
      "metadata": {
        "id": "CXbaQDV6uviK",
        "colab_type": "code",
        "colab": {}
      },
      "source": [
        "#Calculate mean"
      ],
      "execution_count": null,
      "outputs": []
    },
    {
      "cell_type": "code",
      "metadata": {
        "id": "lBM_l8vovvW9",
        "colab_type": "code",
        "colab": {}
      },
      "source": [
        "#Calculate SD"
      ],
      "execution_count": null,
      "outputs": []
    },
    {
      "cell_type": "code",
      "metadata": {
        "id": "iDmBJP6JwRCa",
        "colab_type": "code",
        "colab": {}
      },
      "source": [
        "#Calculate n"
      ],
      "execution_count": null,
      "outputs": []
    },
    {
      "cell_type": "markdown",
      "metadata": {
        "id": "Bw3jaPyUwj14",
        "colab_type": "text"
      },
      "source": [
        "We can calculate the standard error of the sample mean by dividing the sd of the sample by the square root of the sample size."
      ]
    },
    {
      "cell_type": "code",
      "metadata": {
        "id": "FiCestjGw3ym",
        "colab_type": "code",
        "colab": {}
      },
      "source": [
        "#Calculate SE"
      ],
      "execution_count": null,
      "outputs": []
    },
    {
      "cell_type": "markdown",
      "metadata": {
        "id": "pVyP9nnNxSfn",
        "colab_type": "text"
      },
      "source": [
        "Let's plug these quantities into the CI formula.  We're almost there!\n",
        "\n",
        "###$\\bar{X}$  $\\pm$  $t^* \\frac{s}{\\sqrt{n}}$ \n",
        "\n",
        "\n",
        "98.17 $\\pm$ $t^* \\frac{0.53}{\\sqrt{223}}$ \n",
        "\n",
        "98.17 $\\pm$ $t^* * 0.035$ "
      ]
    },
    {
      "cell_type": "markdown",
      "metadata": {
        "id": "F5wCLNKKygV0",
        "colab_type": "text"
      },
      "source": [
        "So what is t*?????\n",
        "\n",
        "Let's look carefully at what the CI equation is saying.\n",
        "\n",
        "We are going to use our sample mean as the starting point for estimating the population mean.  That seems like a good idea.\n",
        "\n",
        "Then we are going to add and subtract some number of standard errors from the sample mean to get the range of values that will be our confidence interval.\n",
        "\n",
        "**t* is the number that tells us how many standard errors to add and subtract from the sample mean in the CI formula.**\n",
        "\n",
        "How do we calculate t*?"
      ]
    },
    {
      "cell_type": "markdown",
      "metadata": {
        "id": "IpIREjCjzLXW",
        "colab_type": "text"
      },
      "source": [
        "#A Brief Digression Into the Central Limit Thoerem"
      ]
    },
    {
      "cell_type": "markdown",
      "metadata": {
        "id": "LsEAjc4rOylm",
        "colab_type": "text"
      },
      "source": [
        "The Central Limit Theorem (or CLT) tell us that, as long as the sample size is big enough (about 40), the distribution of the sample mean is Normal with a mean equal to the population mean and a standard deviation equal to $\\frac{\\sigma}{\\sqrt{n}}$ .\n",
        "\n",
        "How do we know this?  Take a graduate level statistics class to find out!  Just kidding, but only kind of.  It has to do with limit calculus and is beyond the scope of what we are doing right now.\n",
        "\n",
        "Because we are actually estimating two population parameters (both the population mean and the population standard deviation) we need to amend the CLT statement above a tiny bit.\n",
        "\n",
        "As long as the sample size is big enough (about 40), the distribution of the sample mean has a **t-distribution** with a mean equal to the population mean, a standard deviation equal to $\\frac{s}{\\sqrt{n}}$, and n-1 degrees of freedom.\n",
        "\n",
        "Let's look at a picture:\n"
      ]
    },
    {
      "cell_type": "markdown",
      "metadata": {
        "id": "CcKENTkl3K78",
        "colab_type": "text"
      },
      "source": [
        "![alt text](https://raw.githubusercontent.com/Chelsea-Myers/Lambda-Intro/master/T-dist%201.png)\n"
      ]
    },
    {
      "cell_type": "markdown",
      "metadata": {
        "id": "wOMBTcNe4Nx5",
        "colab_type": "text"
      },
      "source": [
        "In fact, **the CLT tells us to expect 95% of sample means to be within about 2 standard errors of the population mean.**\n",
        "\n",
        "The reason that we say \"about\" 2 is that the exact number of standard errors we need to add and subtract to be 95% confident about the population mean will depend on our sample size in the form of the degrees of freedom (sample size - 1)."
      ]
    },
    {
      "cell_type": "markdown",
      "metadata": {
        "id": "at_6QBNz46gJ",
        "colab_type": "text"
      },
      "source": [
        "The CLT allows us to be a little bit more specific about our confidence interval formula.\n",
        "\n",
        "We can now say that:\n",
        "\n",
        "\"We are 95% confident that the true population mean falls between about 2SEs below the sample mean and about 2SEs above the sample mean.\""
      ]
    },
    {
      "cell_type": "markdown",
      "metadata": {
        "id": "DPCLxjL15TxY",
        "colab_type": "text"
      },
      "source": [
        "**We have to use Python to get the exact value of t* for the CI formula.**"
      ]
    },
    {
      "cell_type": "code",
      "metadata": {
        "id": "vrDJaaQ25hA7",
        "colab_type": "code",
        "colab": {}
      },
      "source": [
        "from scipy.stats import t\n",
        "\n",
        "#Don't worry too much about where the 0.975 comes from.  It has to do\n",
        "#with wanting to determine the *middle* 95% of the t-distribution\n",
        "#We're going to learn\n",
        "#how to calculate a 95% CI this easy way in just a minute.\n",
        "\n",
        "#Recall that n = 223 for the body temp problem.\n",
        "t_star = t.ppf(0.975,df=???????)"
      ],
      "execution_count": null,
      "outputs": []
    },
    {
      "cell_type": "markdown",
      "metadata": {
        "id": "cbF7ACCR75CX",
        "colab_type": "text"
      },
      "source": [
        "#Back to body temperature!\n",
        "\n",
        "We left off in the body temperature example with:\n",
        "\n",
        "A confidence interval of \n",
        "\n",
        "98.17 $\\pm$ $t^* * 0.035$ \n",
        "\n",
        "We know from the CLT that t* should be somewhere around 2 for a 95% confidence interval.\n",
        "\n",
        "And further, using Python, we know that t* for a 95% confidence interval for the body temperature data = 1.97 (quick check - this is very close to 2).\n",
        "\n",
        "98.17 $\\pm$ 1.97 * 0.035\n",
        "\n",
        "The margin of error = 1.97 * 0.035 = 0.07.\n",
        "\n"
      ]
    },
    {
      "cell_type": "code",
      "metadata": {
        "id": "9LeY2Usv80uR",
        "colab_type": "code",
        "colab": {}
      },
      "source": [
        "#recall that we calculated mean_bodytem etc. above.\n",
        "\n",
        "#Calculate the lower confidence limit\n",
        "\n"
      ],
      "execution_count": null,
      "outputs": []
    },
    {
      "cell_type": "code",
      "metadata": {
        "id": "gkkpkRf09IH3",
        "colab_type": "code",
        "colab": {}
      },
      "source": [
        "#Calculate the upper confidence limit"
      ],
      "execution_count": null,
      "outputs": []
    },
    {
      "cell_type": "markdown",
      "metadata": {
        "id": "4M3IaJbp9w9d",
        "colab_type": "text"
      },
      "source": [
        "In conclusion, we are 95% confident that the population mean healthy human body temperature is between ?????????"
      ]
    },
    {
      "cell_type": "markdown",
      "metadata": {
        "id": "9_HLIcFW-J1R",
        "colab_type": "text"
      },
      "source": [
        "#Want to see how to do this the easy way?"
      ]
    },
    {
      "cell_type": "code",
      "metadata": {
        "id": "ZrIe9Q6G-PRw",
        "colab_type": "code",
        "colab": {}
      },
      "source": [
        "#We can use the t.interval funtion to calculate the CI.\n",
        "#We set the loc parameter equal to the mean and the\n",
        "#scale parameter equal to the SE\n",
        "#Alpha = 0.95 means we want a 95% CI\n",
        "\n",
        "#Calculate your t-interval here."
      ],
      "execution_count": null,
      "outputs": []
    },
    {
      "cell_type": "markdown",
      "metadata": {
        "id": "ddU3CxMF_6bS",
        "colab_type": "text"
      },
      "source": [
        "Note that we get exactly the same answer as we got working by hand."
      ]
    },
    {
      "cell_type": "markdown",
      "metadata": {
        "id": "O5n-LBjYAFG6",
        "colab_type": "text"
      },
      "source": [
        "#But I want to be X% confident!\n",
        "\n",
        "Because the confidence level is determined by t* and that's just a number, you can use any confidence level you want.  However, most commonly, we choose to be 90%, 95% or 99% confident.\n",
        "\n",
        "We can tune the confidence level by changing the alpha parameter in the CI funtion."
      ]
    },
    {
      "cell_type": "code",
      "metadata": {
        "id": "dE4rPilLAket",
        "colab_type": "code",
        "colab": {}
      },
      "source": [
        "#90% Confidence Interval"
      ],
      "execution_count": null,
      "outputs": []
    },
    {
      "cell_type": "code",
      "metadata": {
        "id": "tBx71Kf0UjT3",
        "colab_type": "code",
        "colab": {}
      },
      "source": [
        "#95% Confidence Interval"
      ],
      "execution_count": null,
      "outputs": []
    },
    {
      "cell_type": "code",
      "metadata": {
        "id": "tZO8TYrqBoDx",
        "colab_type": "code",
        "colab": {}
      },
      "source": [
        "#99% Confidence Interval\n"
      ],
      "execution_count": null,
      "outputs": []
    },
    {
      "cell_type": "markdown",
      "metadata": {
        "id": "TZSvAjc4AwC2",
        "colab_type": "text"
      },
      "source": [
        "#But I want to be 100% confident!\n",
        "\n",
        "Let's take a very, very close look at the confidence intervals above.  This is subtle - out in the 100ths place of the decimals.\n",
        "\n",
        "The 90% confidence interval is the *narrowest* - it includes the smallest range of values - and the 99% confidence interval is the *widest* - it includes the widest range of values.\n",
        "\n",
        "Confidence intervals are a trade-off between accuracy and precision.\n",
        "\n",
        "**The more confident you want to be, the less precise your CI will be.**\n",
        "\n",
        "**The less confident you are willing to be, the more precise your estimate can be.**\n",
        "\n",
        "At the point we were 100% confident, our CI would probably be meaningless."
      ]
    },
    {
      "cell_type": "markdown",
      "metadata": {
        "id": "vE-I6Bw_Bx2J",
        "colab_type": "text"
      },
      "source": [
        "### In terms of brownies:\n",
        "\n",
        "*   We are 90% confident the brownies will be done in 35 - 36 minutes.\n",
        "*   We are 95% confident the brownies will be done in 34 - 37 minutes.\n",
        "*   We are 99% confident the brownies will be done in 33 - 39 minutes.\n",
        "*   We are 100% confident the brownies will be done in 0 - 60 minutes.\n",
        "\n",
        "The 100% confidence interval is true... but not very helpful.\n"
      ]
    },
    {
      "cell_type": "markdown",
      "metadata": {
        "id": "EamZNJhAf-fY",
        "colab_type": "text"
      },
      "source": [
        "#Common Errors with the Interpretation of Confidence Intervals.\n",
        "\n",
        "**Correct statement:** We are 95% confident that the population mean healthy human body temperature is between 98.10 and 98.23 degrees F.\n",
        "\n",
        "**Incorrect statement:** We are 95% confident that the sample mean healthy human body temperature is between 98.10 and 98.23 degrees F.\n",
        "\n",
        "\n",
        "*   We already *know* the sample mean is in the CI because we use the sample mean to compute the CI.  We want to make a statement about the population mean.\n",
        "\n",
        "\n",
        "**Incorrect statement:** We are 95% confident that the sample mean healthy human body temperature is 98.17 degrees F.\n",
        "\n",
        "*   The CI is a statement about the likelihood of the population mean being in our CI, not being equal to the sample mean.\n",
        "\n",
        "**Incorrect statement:** 95% of samples will have a mean that is between 98.10 and 98.23 degrees F.\n",
        "\n",
        "*   Based on the CLT, we know that 95% of all 95% CIs will contain the true population mean.  However, we don't expect those CIs to be exactly equal to the one we created here."
      ]
    },
    {
      "cell_type": "markdown",
      "metadata": {
        "id": "nrUWwhfCPDCI",
        "colab_type": "text"
      },
      "source": [
        "## It can help to look at a picture\n",
        "\n",
        "We expect 95% of all 95% CIs to contain the true population mean.  \n",
        "\n",
        "That means, if we took 20 random samples from the same population, they'd all be different, but we'd expect 19/20 to contain the true population mean and only 1/20 not to contain the true population mean.\n",
        "\n",
        "![alt text](https://raw.githubusercontent.com/Chelsea-Myers/Lambda-Intro/master/CI%20image.png)\n"
      ]
    },
    {
      "cell_type": "markdown",
      "metadata": {
        "id": "MitRyVfbF3oy",
        "colab_type": "text"
      },
      "source": [
        "#Whew!\n",
        "\n",
        "## Let's do one more quick example.\n",
        "\n",
        "Use the Titanic dataset to create a 95% confidence interval for the population mean age of all Western Europeans traveling the US in the early 1900s (assume the Titanic passengers are representative of this population)."
      ]
    },
    {
      "cell_type": "code",
      "metadata": {
        "id": "fp6Ws3j5G2n_",
        "colab_type": "code",
        "colab": {
          "base_uri": "https://localhost:8080/",
          "height": 221
        },
        "outputId": "500a7777-b616-43bd-976d-ce1193e7bc21"
      },
      "source": [
        "import pandas as pd\n",
        "import numpy as np\n",
        "\n",
        "\n",
        "data_url = 'https://raw.githubusercontent.com/Chelsea-Myers/Lambda-Intro/master/Titanic.csv'\n",
        "\n",
        "df = pd.read_csv(data_url, skipinitialspace=True, header=0)\n",
        "\n",
        "print(df.shape)\n",
        "df.head()"
      ],
      "execution_count": null,
      "outputs": [
        {
          "output_type": "stream",
          "text": [
            "(887, 8)\n"
          ],
          "name": "stdout"
        },
        {
          "output_type": "execute_result",
          "data": {
            "text/html": [
              "<div>\n",
              "<style scoped>\n",
              "    .dataframe tbody tr th:only-of-type {\n",
              "        vertical-align: middle;\n",
              "    }\n",
              "\n",
              "    .dataframe tbody tr th {\n",
              "        vertical-align: top;\n",
              "    }\n",
              "\n",
              "    .dataframe thead th {\n",
              "        text-align: right;\n",
              "    }\n",
              "</style>\n",
              "<table border=\"1\" class=\"dataframe\">\n",
              "  <thead>\n",
              "    <tr style=\"text-align: right;\">\n",
              "      <th></th>\n",
              "      <th>Survived</th>\n",
              "      <th>Pclass</th>\n",
              "      <th>Name</th>\n",
              "      <th>Sex</th>\n",
              "      <th>Age</th>\n",
              "      <th>Siblings/Spouses_Aboard</th>\n",
              "      <th>Parents/Children_Aboard</th>\n",
              "      <th>Fare</th>\n",
              "    </tr>\n",
              "  </thead>\n",
              "  <tbody>\n",
              "    <tr>\n",
              "      <th>0</th>\n",
              "      <td>0</td>\n",
              "      <td>3</td>\n",
              "      <td>Mr. Owen Harris Braund</td>\n",
              "      <td>male</td>\n",
              "      <td>22.0</td>\n",
              "      <td>1</td>\n",
              "      <td>0</td>\n",
              "      <td>7.2500</td>\n",
              "    </tr>\n",
              "    <tr>\n",
              "      <th>1</th>\n",
              "      <td>1</td>\n",
              "      <td>1</td>\n",
              "      <td>Mrs. John Bradley (Florence Briggs Thayer) Cum...</td>\n",
              "      <td>female</td>\n",
              "      <td>38.0</td>\n",
              "      <td>1</td>\n",
              "      <td>0</td>\n",
              "      <td>71.2833</td>\n",
              "    </tr>\n",
              "    <tr>\n",
              "      <th>2</th>\n",
              "      <td>1</td>\n",
              "      <td>3</td>\n",
              "      <td>Miss. Laina Heikkinen</td>\n",
              "      <td>female</td>\n",
              "      <td>26.0</td>\n",
              "      <td>0</td>\n",
              "      <td>0</td>\n",
              "      <td>7.9250</td>\n",
              "    </tr>\n",
              "    <tr>\n",
              "      <th>3</th>\n",
              "      <td>1</td>\n",
              "      <td>1</td>\n",
              "      <td>Mrs. Jacques Heath (Lily May Peel) Futrelle</td>\n",
              "      <td>female</td>\n",
              "      <td>35.0</td>\n",
              "      <td>1</td>\n",
              "      <td>0</td>\n",
              "      <td>53.1000</td>\n",
              "    </tr>\n",
              "    <tr>\n",
              "      <th>4</th>\n",
              "      <td>0</td>\n",
              "      <td>3</td>\n",
              "      <td>Mr. William Henry Allen</td>\n",
              "      <td>male</td>\n",
              "      <td>35.0</td>\n",
              "      <td>0</td>\n",
              "      <td>0</td>\n",
              "      <td>8.0500</td>\n",
              "    </tr>\n",
              "  </tbody>\n",
              "</table>\n",
              "</div>"
            ],
            "text/plain": [
              "   Survived  Pclass  ... Parents/Children_Aboard     Fare\n",
              "0         0       3  ...                       0   7.2500\n",
              "1         1       1  ...                       0  71.2833\n",
              "2         1       3  ...                       0   7.9250\n",
              "3         1       1  ...                       0  53.1000\n",
              "4         0       3  ...                       0   8.0500\n",
              "\n",
              "[5 rows x 8 columns]"
            ]
          },
          "metadata": {
            "tags": []
          },
          "execution_count": 31
        }
      ]
    },
    {
      "cell_type": "code",
      "metadata": {
        "id": "cNpzYbjpfirR",
        "colab_type": "code",
        "colab": {}
      },
      "source": [
        "#calculate mean, sd, n, se here."
      ],
      "execution_count": null,
      "outputs": []
    },
    {
      "cell_type": "code",
      "metadata": {
        "id": "iIpBrdXUIx2A",
        "colab_type": "code",
        "colab": {}
      },
      "source": [
        "#Calculate t-interval here."
      ],
      "execution_count": null,
      "outputs": []
    },
    {
      "cell_type": "markdown",
      "metadata": {
        "id": "VPejVZDsF84m",
        "colab_type": "text"
      },
      "source": [
        "CI interval interpretation here."
      ]
    }
  ]
}
