{
  "nbformat": 4,
  "nbformat_minor": 0,
  "metadata": {
    "colab": {
      "name": "Confidence Intervals (DS20).ipynb",
      "provenance": [],
      "collapsed_sections": [],
      "toc_visible": true,
      "include_colab_link": true
    },
    "kernelspec": {
      "name": "python3",
      "display_name": "Python 3"
    }
  },
  "cells": [
    {
      "cell_type": "markdown",
      "metadata": {
        "id": "view-in-github",
        "colab_type": "text"
      },
      "source": [
        "<a href=\"https://colab.research.google.com/github/Collin-Campbell/DS-Unit-1-Sprint-2-Statistics/blob/master/module3/LS_DS_123_Confidence_Intervals.ipynb\" target=\"_parent\"><img src=\"https://colab.research.google.com/assets/colab-badge.svg\" alt=\"Open In Colab\"/></a>"
      ]
    },
    {
      "cell_type": "markdown",
      "metadata": {
        "id": "838Dmw1kM2LK",
        "colab_type": "text"
      },
      "source": [
        "# Confidence Intervals\n",
        "\n",
        "## Objectives: \n",
        "\n",
        "- Explain the concepts of statistical estimate, precision, and standard error in regards to inferential statistics\n",
        "- Explain the implications of the central limit theorem in inferential statistics\n",
        "- Explain the purpose of confidence intervals and identify applications for their use\n",
        "- Demonstrate how to build a confidence interval around a sample estimate\n"
      ]
    },
    {
      "cell_type": "markdown",
      "metadata": {
        "id": "IMntuyXvxs8j",
        "colab_type": "text"
      },
      "source": [
        "## Some Useful Definitions"
      ]
    },
    {
      "cell_type": "markdown",
      "metadata": {
        "id": "5c1RoPM7ySQ3",
        "colab_type": "text"
      },
      "source": [
        "**Statistical Estimation**: The process by which one makes inferences about a population, based on information obtained from a sample.\n",
        "\n",
        "- **Point Estimate (of a population parameter)**: A single value of a statistic. (e.g. the sample mean x  is a point estimate of the population mean μ.)\n",
        "- **Interval Estimate (of a population parameter)**: Two values, between which a population parameter is said to lie.\n",
        "\n",
        "**Precision vs Accuracy**\n",
        "\n",
        "- **Precision**: How close two or more measurements are to each other. (e.g If you consistently measure your height as 5’0″ with a yardstick, your measurements are precise.)\n",
        "- **Accuracy**: How close you are to the true value. (e.g. your true height is exactly 5’9″)\n",
        "    - You measure yourself with a yardstick and get 5’0″. Your measurement is not accurate.\n",
        "    - You measure yourself again with a laser yardstick and get 5’9″. Your measurement is accurate\n",
        "\n",
        "**Standard Error**: Measures the accuracy with which a sample distribution represents a population.\n",
        "- S.D. is the measure of variation within a set of measurements (sample)\n",
        "- SE is the variation in the **means** from multiple sets of measurements\n",
        "###$SE = \\frac{\\sigma}{\\sqrt n}$\n",
        "- $SE$ = Standard Error\n",
        "- $\\sigma$ = **Population** Standard Deviation\n",
        "- $n$ = Sample Size\n",
        "\n",
        "*Standard error increases when the spread of values within the population increases.*\n",
        "\n",
        "*As **$n$** increases the standard error falls allowing us to **infer** specific claims about a population with greater confidence*"
      ]
    },
    {
      "cell_type": "markdown",
      "metadata": {
        "id": "IpIREjCjzLXW",
        "colab_type": "text"
      },
      "source": [
        "## Central Limit Thoerem"
      ]
    },
    {
      "cell_type": "markdown",
      "metadata": {
        "id": "LsEAjc4rOylm",
        "colab_type": "text"
      },
      "source": [
        "#### \"Even if you're not normal, your mean is normal!\"\n",
        "\n",
        "\n",
        "\n",
        "---\n",
        "\n",
        "\n",
        "\n",
        "- Have a look at the normal distribution:\n",
        "\n",
        "![The Normal Distribution](https://tk-assets.lambdaschool.com/14a07636-1e22-414d-8186-d860828e47df_Screenshot_2020-09-07_at_21.42.37.png)\n",
        "\n",
        "*95.44% of observations fall between +2 and -2 standard deviations from the mean.*\n",
        "\n",
        "The Central Limit Theorem (CLT) tell us that, given a sufficiently large sample size (about 40) from a population (of most distributions*) with a finite level of variance, if you collect random samples from them, the means of those samples will be normally distributed*.\n",
        "\n",
        "**Requires that a sample mean can be calculated from the distribution (which is possible with almost all (but not all) distributions)*\n",
        "\n",
        "[Check out this demonstration!](http://digitalfirst.bfwpub.com/stats_applet/stats_applet_3_cltmean.html)\n",
        "\n",
        "\n",
        "**Why do we care?**\n",
        "- Because the sample means approximate a normal distribution we can expect 95% of sample means to be within about 2 standard errors of the population mean!\n",
        "- This helps us be **confident** that our sample means will approximate our population means despite us not knowing the population's distribution.\n",
        "\n",
        "\n",
        "Let's look at a picture:\n"
      ]
    },
    {
      "cell_type": "markdown",
      "metadata": {
        "id": "CcKENTkl3K78",
        "colab_type": "text"
      },
      "source": [
        "![alt text](https://raw.githubusercontent.com/Chelsea-Myers/Lambda-Intro/master/T-dist%201.png)\n"
      ]
    },
    {
      "cell_type": "markdown",
      "metadata": {
        "id": "wOMBTcNe4Nx5",
        "colab_type": "text"
      },
      "source": [
        "**The CLT tells us to expect 95% of sample means to be within about 2 standard errors of the population mean.**\n",
        "\n",
        "The reason that we say \"about\" 2 is that the exact number of standard errors we need to add and subtract to be 95% confident about the population mean will depend on our sample size in the form of the degrees of freedom (sample size - 1)."
      ]
    },
    {
      "cell_type": "markdown",
      "metadata": {
        "id": "at_6QBNz46gJ",
        "colab_type": "text"
      },
      "source": [
        "The CLT allows us to be a little bit more specific about our confidence interval formula.\n",
        "\n",
        "We can now say that:\n",
        "\n",
        "\"We are 95% confident that the true population mean falls between about 2SEs below the sample mean and about 2SEs above the sample mean.\""
      ]
    },
    {
      "cell_type": "markdown",
      "metadata": {
        "id": "iTaS5jW-egli",
        "colab_type": "text"
      },
      "source": [
        "Because the actual population mean is unknown, we use the t-distribution instead of the normal distribution:\n",
        "- T-distribution has fatter tails to account for our higher level of uncertainty\n",
        "- T-distribution also changes in proportion to our sample size\n",
        "\n",
        "[Have a look at how t-distribution changes with sample size](https://media.geeksforgeeks.org/wp-content/uploads/20200525113955/f126.png)\n",
        "\n",
        "The distribution of the sample mean has a **t-distribution** with a mean equal to the population mean, a standard deviation equal to $\\frac{s}{\\sqrt{n}}$, and n-1 degrees of freedom."
      ]
    },
    {
      "cell_type": "markdown",
      "metadata": {
        "id": "yYF4XDhMH44l",
        "colab_type": "text"
      },
      "source": [
        "## Confidence Intervals"
      ]
    },
    {
      "cell_type": "markdown",
      "metadata": {
        "id": "55_-9wZAP5PG",
        "colab_type": "text"
      },
      "source": [
        "### What are Confidence Intervals?\n",
        "\n",
        "> The probability that a population parameter will fall between two set values for a certain proportion of times.\n",
        "\n",
        "\n",
        "Believe it or not, you already use the concept of a confidence interval all the time in your daily life.\n",
        "\n",
        "*   \"How long will it take the brownies to bake?\"  About 35 - 40 minutes.\n",
        "*   \"How many cookies should I bake for the bake sale?\"  Probably around 2 - 3 dozen.\n",
        "*   \"How many loaves of bread will the bakery sell today?\" Around 90 - 100.\n",
        "\n",
        "The true answer to all of these questions is unknowable ahead of time.  Exactly how long it will take the brownies to bake probably depends on a zillion factors including how well your oven is working, how hot and humid it is, the age of the eggs you use, etc.\n",
        "\n",
        "However, based on personal experience - and perhaps the recipe - we can be very confident that it will take between 35 - 40 minutes for the brownies to be done.  \n",
        "\n",
        "Estimates in the other two scenarios work similarly."
      ]
    },
    {
      "cell_type": "markdown",
      "metadata": {
        "id": "3-U0uDJqjVdf",
        "colab_type": "text"
      },
      "source": [
        "*Note that there are some analogous procedures for confidence intervals for chi-square tests and two-sample t-tests, but we are going to focus on a confidence interval for a single population mean here.*\n",
        "\n",
        "**The reason that we make confidence intervals to estimate population parameters rather than relying on point estimates is because it greatly increases our chances of making an accurate estimate.**"
      ]
    },
    {
      "cell_type": "markdown",
      "metadata": {
        "id": "Hntf1OWLlEPA",
        "colab_type": "text"
      },
      "source": [
        "### The Anatomy of a Confidence Interval\n",
        "\n",
        "Here comes the math part!\n",
        "\n",
        "When we make brownies, we make an informal confidence interval for how long it will take for them to bake based on the recipe and our baking knowledge.\n",
        "\n",
        "**When we make a confidence interval for a population mean, we will use information from our sample and mathematical properties of the t-distribution.**"
      ]
    },
    {
      "cell_type": "markdown",
      "metadata": {
        "id": "J82wyqTElunD",
        "colab_type": "text"
      },
      "source": [
        "### The formula for a confidence interval for a population mean is \n",
        "\n",
        "###$\\bar{X}$  $\\pm$  $t^* \\frac{s}{\\sqrt{n}}$ \n",
        "\n"
      ]
    },
    {
      "cell_type": "markdown",
      "metadata": {
        "id": "VhV8zLlYtF4M",
        "colab_type": "text"
      },
      "source": [
        "- $\\bar{X}$ = sample mean, \n",
        "- $s$ = sample standard deviation \n",
        "- $n$ = sample size.\n",
        "\n",
        "Note that $\\frac{s}{\\sqrt{n}}$ is the standard error, which is an estimate of the true standard error of the sample mean.  \n",
        "\n",
        "**Another name for the quantitiy $t^* \\frac{s}{\\sqrt{n}}$ is the margin of error.** \n",
        "\n",
        "Nearly all of the information we need to estimate the population mean using a confidence interval comes from our sample.  The only thing we don't get from the sample is t*.\n",
        "\n",
        "Now is the time to introduce some data."
      ]
    },
    {
      "cell_type": "markdown",
      "metadata": {
        "id": "V5Z3MSNfo3La",
        "colab_type": "text"
      },
      "source": [
        "# Estimate the mean healthy adult human body temperature.\n",
        "\n",
        "Everyone knows that 98.60 F (37.00 C) is the normal human body temperature.  But is that actually correct, and – come to think of it – how does everyone know that in the first place?\n",
        "\n",
        "A German physician named Carl Reinhold August Wunderlich is generally credited with originating this idea, which was based on – reportedly – more than one million axiliary temperature readings taken from 25,000 subjects and was published in his 1868 book Das Verhalten der Eigenwärme in Krankheiten (which translates to The Behavior of the Self-Warmth in Diseases). But was he correct? History tells that his thermometer was a foot long and took 20 minutes to determine a subject’s temperature. For a measure that is used so often to determine general health, it would be a good idea to use modern instruments to confirm or refute his results.\n",
        "\n",
        "In 1992, three physicians from the University of Maryland School of Medicine set out to do just that, measuring body temperatures for 223 healthy men and women aged 18-40 one to four times a day for three consecutive days using an electronic digital thermometer. The mean body temperature was computed for each individual, and this summary measure is recorded in the Bodytemp.csv dataset. "
      ]
    },
    {
      "cell_type": "markdown",
      "metadata": {
        "id": "jzgOTeBvtl6D",
        "colab_type": "text"
      },
      "source": [
        "**We wish to estimate the population mean healthy human body temperature.**"
      ]
    },
    {
      "cell_type": "markdown",
      "metadata": {
        "id": "_dDAP94KtvWP",
        "colab_type": "text"
      },
      "source": [
        "Source: Mackowiak, P. A., Wasserman, S. S., and Levine, M. M.  (1992), \"A Critical Appraisal of 98.6 Degrees F, the Upper Limit of the Normal Body Temperature, and Other Legacies of Carl Reinhold August Wunderlich,\" Journal of the American Medical Association_, 268, 1578-1580.\n"
      ]
    },
    {
      "cell_type": "code",
      "metadata": {
        "id": "fGaZspmft1Jg",
        "colab_type": "code",
        "colab": {
          "base_uri": "https://localhost:8080/",
          "height": 221
        },
        "outputId": "557b750d-8b9c-4637-dbb1-4a1d0a98c4c6"
      },
      "source": [
        "import pandas as pd\n",
        "import numpy as np\n",
        "\n",
        "\n",
        "data_url = 'https://raw.githubusercontent.com/Chelsea-Myers/Lambda-Intro/master/Bodytemp.csv'\n",
        "\n",
        "df = pd.read_csv(data_url, skipinitialspace=True, header=0)\n",
        "\n",
        "print(df.shape)\n",
        "df.head()\n"
      ],
      "execution_count": 1,
      "outputs": [
        {
          "output_type": "stream",
          "text": [
            "(223, 2)\n"
          ],
          "name": "stdout"
        },
        {
          "output_type": "execute_result",
          "data": {
            "text/html": [
              "<div>\n",
              "<style scoped>\n",
              "    .dataframe tbody tr th:only-of-type {\n",
              "        vertical-align: middle;\n",
              "    }\n",
              "\n",
              "    .dataframe tbody tr th {\n",
              "        vertical-align: top;\n",
              "    }\n",
              "\n",
              "    .dataframe thead th {\n",
              "        text-align: right;\n",
              "    }\n",
              "</style>\n",
              "<table border=\"1\" class=\"dataframe\">\n",
              "  <thead>\n",
              "    <tr style=\"text-align: right;\">\n",
              "      <th></th>\n",
              "      <th>ID</th>\n",
              "      <th>Body_temp</th>\n",
              "    </tr>\n",
              "  </thead>\n",
              "  <tbody>\n",
              "    <tr>\n",
              "      <th>0</th>\n",
              "      <td>36</td>\n",
              "      <td>96.7</td>\n",
              "    </tr>\n",
              "    <tr>\n",
              "      <th>1</th>\n",
              "      <td>254</td>\n",
              "      <td>96.9</td>\n",
              "    </tr>\n",
              "    <tr>\n",
              "      <th>2</th>\n",
              "      <td>282</td>\n",
              "      <td>97.0</td>\n",
              "    </tr>\n",
              "    <tr>\n",
              "      <th>3</th>\n",
              "      <td>286</td>\n",
              "      <td>97.0</td>\n",
              "    </tr>\n",
              "    <tr>\n",
              "      <th>4</th>\n",
              "      <td>302</td>\n",
              "      <td>97.0</td>\n",
              "    </tr>\n",
              "  </tbody>\n",
              "</table>\n",
              "</div>"
            ],
            "text/plain": [
              "    ID  Body_temp\n",
              "0   36       96.7\n",
              "1  254       96.9\n",
              "2  282       97.0\n",
              "3  286       97.0\n",
              "4  302       97.0"
            ]
          },
          "metadata": {
            "tags": []
          },
          "execution_count": 1
        }
      ]
    },
    {
      "cell_type": "markdown",
      "metadata": {
        "id": "LD5fogYFumvA",
        "colab_type": "text"
      },
      "source": [
        "The two variables in the dataset are participant ID and body temperature measured in degrees F."
      ]
    },
    {
      "cell_type": "markdown",
      "metadata": {
        "id": "Iq7trJxEu2On",
        "colab_type": "text"
      },
      "source": [
        "We can use the mean, sd and row counting functions in Python to calculate and save the sample mean body temp ($\\bar{X}$ for the CI formula), the sample standard deviation (s in the CI formula) and the sample size (n in the formula)."
      ]
    },
    {
      "cell_type": "code",
      "metadata": {
        "id": "CXbaQDV6uviK",
        "colab_type": "code",
        "colab": {
          "base_uri": "https://localhost:8080/",
          "height": 34
        },
        "outputId": "4c7738b3-5be8-4141-8b96-f04b44b55f6e"
      },
      "source": [
        "#Calculate mean\n",
        "\n",
        "mean_temp = df['Body_temp'].mean()\n",
        "\n",
        "mean_temp"
      ],
      "execution_count": 4,
      "outputs": [
        {
          "output_type": "execute_result",
          "data": {
            "text/plain": [
              "98.16502242152464"
            ]
          },
          "metadata": {
            "tags": []
          },
          "execution_count": 4
        }
      ]
    },
    {
      "cell_type": "code",
      "metadata": {
        "id": "lBM_l8vovvW9",
        "colab_type": "code",
        "colab": {
          "base_uri": "https://localhost:8080/",
          "height": 34
        },
        "outputId": "9ecd9ac1-d0f8-46a1-b06b-590e0d59379a"
      },
      "source": [
        "#Calculate SD\n",
        "\n",
        "sd_temp = df['Body_temp'].std()\n",
        "\n",
        "sd_temp"
      ],
      "execution_count": 5,
      "outputs": [
        {
          "output_type": "execute_result",
          "data": {
            "text/plain": [
              "0.5273047859946364"
            ]
          },
          "metadata": {
            "tags": []
          },
          "execution_count": 5
        }
      ]
    },
    {
      "cell_type": "code",
      "metadata": {
        "id": "iDmBJP6JwRCa",
        "colab_type": "code",
        "colab": {
          "base_uri": "https://localhost:8080/",
          "height": 34
        },
        "outputId": "dae742a4-f907-44c2-ce27-0d4817ba5266"
      },
      "source": [
        "#Calculate n\n",
        "\n",
        "n_temp = df['Body_temp'].count()\n",
        "\n",
        "n_temp"
      ],
      "execution_count": 7,
      "outputs": [
        {
          "output_type": "execute_result",
          "data": {
            "text/plain": [
              "223"
            ]
          },
          "metadata": {
            "tags": []
          },
          "execution_count": 7
        }
      ]
    },
    {
      "cell_type": "markdown",
      "metadata": {
        "id": "Bw3jaPyUwj14",
        "colab_type": "text"
      },
      "source": [
        "We can calculate the standard error of the sample mean by dividing the sd of the sample by the square root of the sample size."
      ]
    },
    {
      "cell_type": "code",
      "metadata": {
        "id": "FiCestjGw3ym",
        "colab_type": "code",
        "colab": {
          "base_uri": "https://localhost:8080/",
          "height": 34
        },
        "outputId": "4f2ff9fa-db92-4770-ff39-f911b14cd915"
      },
      "source": [
        "#Calculate SE\n",
        "\n",
        "se_temp = sd_temp / (n_temp**(1/2))\n",
        "\n",
        "se_temp"
      ],
      "execution_count": 9,
      "outputs": [
        {
          "output_type": "execute_result",
          "data": {
            "text/plain": [
              "0.035310940220425246"
            ]
          },
          "metadata": {
            "tags": []
          },
          "execution_count": 9
        }
      ]
    },
    {
      "cell_type": "markdown",
      "metadata": {
        "id": "pVyP9nnNxSfn",
        "colab_type": "text"
      },
      "source": [
        "Let's plug these quantities into the CI formula.  We're almost there!\n",
        "\n",
        "###$\\bar{X}$  $\\pm$  $t^* \\frac{s}{\\sqrt{n}}$ \n",
        "\n",
        "\n",
        "98.17 $\\pm$ $t^* \\frac{0.53}{\\sqrt{223}}$ \n",
        "\n",
        "98.17 $\\pm$ $t^* * 0.035$ "
      ]
    },
    {
      "cell_type": "markdown",
      "metadata": {
        "id": "F5wCLNKKygV0",
        "colab_type": "text"
      },
      "source": [
        "So what is t*?????\n",
        "\n",
        "Let's look carefully at what the CI equation is saying.\n",
        "\n",
        "We are going to use our sample mean as the starting point for estimating the population mean.  That seems like a good idea.\n",
        "\n",
        "Then we are going to add and subtract some number of standard errors from the sample mean to get the range of values that will be our confidence interval.\n",
        "\n",
        "**t* is the number that tells us how many standard errors to add and subtract from the sample mean in the CI formula.**"
      ]
    },
    {
      "cell_type": "markdown",
      "metadata": {
        "id": "DPCLxjL15TxY",
        "colab_type": "text"
      },
      "source": [
        "**We have to use Python to get the exact value of t* for the CI formula.**"
      ]
    },
    {
      "cell_type": "code",
      "metadata": {
        "id": "vrDJaaQ25hA7",
        "colab_type": "code",
        "colab": {
          "base_uri": "https://localhost:8080/",
          "height": 34
        },
        "outputId": "dc96bd64-73b8-4ee4-c3bb-3f71f5c900ce"
      },
      "source": [
        "from scipy.stats import t\n",
        "\n",
        "#Don't worry too much about where the 0.975 comes from.  It has to do\n",
        "#with wanting to determine the *middle* 95% of the t-distribution\n",
        "#We're going to learn\n",
        "#how to calculate a 95% CI the easy way in just a minute.\n",
        "\n",
        "#Recall that n = 223 for the body temp problem.\n",
        "t_star = t.ppf(0.975,df=222)\n",
        "#Remember: degrees of freedom is equal to n-1\n",
        "\n",
        "t_star"
      ],
      "execution_count": 14,
      "outputs": [
        {
          "output_type": "execute_result",
          "data": {
            "text/plain": [
              "1.9707073953190277"
            ]
          },
          "metadata": {
            "tags": []
          },
          "execution_count": 14
        }
      ]
    },
    {
      "cell_type": "markdown",
      "metadata": {
        "id": "cbF7ACCR75CX",
        "colab_type": "text"
      },
      "source": [
        "### Back to body temperature!\n",
        "\n",
        "We left off in the body temperature example with:\n",
        "\n",
        "A confidence interval of \n",
        "\n",
        "98.17 $\\pm$ $t^* * 0.035$ \n",
        "\n",
        "We know from the CLT that t* should be somewhere around 2 for a 95% confidence interval.\n",
        "\n",
        "And further, using Python, we know that t* for a 95% confidence interval for the body temperature data = 1.97 (quick check - this is very close to 2).\n",
        "\n",
        "98.17 $\\pm$ 1.97 * 0.035\n",
        "\n",
        "The margin of error = 1.97 * 0.035 = 0.07.\n",
        "\n"
      ]
    },
    {
      "cell_type": "markdown",
      "metadata": {
        "id": "9_HLIcFW-J1R",
        "colab_type": "text"
      },
      "source": [
        "### Want to see how to do this the easy way?"
      ]
    },
    {
      "cell_type": "code",
      "metadata": {
        "id": "ZrIe9Q6G-PRw",
        "colab_type": "code",
        "colab": {
          "base_uri": "https://localhost:8080/",
          "height": 34
        },
        "outputId": "470b7126-b3c2-4a4b-cb62-e5a29e71faa2"
      },
      "source": [
        "#We can use the t.interval funtion to calculate the CI.\n",
        "#We set the loc parameter equal to the mean and the\n",
        "#scale parameter equal to the SE\n",
        "#Alpha = 0.95 means we want a 95% CI\n",
        "\n",
        "#Calculate your t-interval here.\n",
        "\n",
        "t.interval(alpha=0.95, df=222, loc=mean_temp, scale=se_temp)"
      ],
      "execution_count": 15,
      "outputs": [
        {
          "output_type": "execute_result",
          "data": {
            "text/plain": [
              "(98.09543489049658, 98.2346099525527)"
            ]
          },
          "metadata": {
            "tags": []
          },
          "execution_count": 15
        }
      ]
    },
    {
      "cell_type": "markdown",
      "metadata": {
        "id": "ddU3CxMF_6bS",
        "colab_type": "text"
      },
      "source": [
        "Note that we get exactly the same answer as we got working by hand."
      ]
    },
    {
      "cell_type": "code",
      "metadata": {
        "id": "9LeY2Usv80uR",
        "colab_type": "code",
        "colab": {
          "base_uri": "https://localhost:8080/",
          "height": 34
        },
        "outputId": "f2c5666d-3d29-4f1c-a5af-3f249a9b777a"
      },
      "source": [
        "#recall that we calculated mean_bodytem etc. above.\n",
        "\n",
        "#Calculate the lower confidence limit\n",
        "\n",
        "mean_temp - t_star * se_temp"
      ],
      "execution_count": 19,
      "outputs": [
        {
          "output_type": "execute_result",
          "data": {
            "text/plain": [
              "98.09543489049658"
            ]
          },
          "metadata": {
            "tags": []
          },
          "execution_count": 19
        }
      ]
    },
    {
      "cell_type": "code",
      "metadata": {
        "id": "gkkpkRf09IH3",
        "colab_type": "code",
        "colab": {
          "base_uri": "https://localhost:8080/",
          "height": 34
        },
        "outputId": "16564fa8-cf73-4ef6-b742-395dc63044b3"
      },
      "source": [
        "#Calculate the upper confidence limit\n",
        "\n",
        "mean_temp + t_star * se_temp"
      ],
      "execution_count": 20,
      "outputs": [
        {
          "output_type": "execute_result",
          "data": {
            "text/plain": [
              "98.2346099525527"
            ]
          },
          "metadata": {
            "tags": []
          },
          "execution_count": 20
        }
      ]
    },
    {
      "cell_type": "markdown",
      "metadata": {
        "id": "4M3IaJbp9w9d",
        "colab_type": "text"
      },
      "source": [
        "In conclusion, we are 95% confident that the population mean healthy human body temperature is between ?????????"
      ]
    },
    {
      "cell_type": "markdown",
      "metadata": {
        "id": "O5n-LBjYAFG6",
        "colab_type": "text"
      },
      "source": [
        "### But I want to be X% confident!\n",
        "\n",
        "Because the confidence level is determined by t* and that's just a number, you can use any confidence level you want.  However, most commonly, we choose to be 90%, 95% or 99% confident.\n",
        "\n",
        "We can tune the confidence level by changing the alpha parameter in the CI funtion."
      ]
    },
    {
      "cell_type": "code",
      "metadata": {
        "id": "dE4rPilLAket",
        "colab_type": "code",
        "colab": {
          "base_uri": "https://localhost:8080/",
          "height": 34
        },
        "outputId": "d4a21519-9960-46a6-d683-69119b0c7d99"
      },
      "source": [
        "#90% Confidence Interval\n",
        "\n",
        "t.interval(alpha=0.90, df=222, loc=mean_temp, scale=se_temp)"
      ],
      "execution_count": 16,
      "outputs": [
        {
          "output_type": "execute_result",
          "data": {
            "text/plain": [
              "(98.106697704594, 98.22334713845528)"
            ]
          },
          "metadata": {
            "tags": []
          },
          "execution_count": 16
        }
      ]
    },
    {
      "cell_type": "code",
      "metadata": {
        "id": "tBx71Kf0UjT3",
        "colab_type": "code",
        "colab": {
          "base_uri": "https://localhost:8080/",
          "height": 34
        },
        "outputId": "22c8d51c-5400-4b75-e1a9-8bb4902e4f76"
      },
      "source": [
        "#95% Confidence Interval\n",
        "\n",
        "t.interval(alpha=0.95, df=222, loc=mean_temp, scale=se_temp)"
      ],
      "execution_count": 17,
      "outputs": [
        {
          "output_type": "execute_result",
          "data": {
            "text/plain": [
              "(98.09543489049658, 98.2346099525527)"
            ]
          },
          "metadata": {
            "tags": []
          },
          "execution_count": 17
        }
      ]
    },
    {
      "cell_type": "code",
      "metadata": {
        "id": "tZO8TYrqBoDx",
        "colab_type": "code",
        "colab": {
          "base_uri": "https://localhost:8080/",
          "height": 34
        },
        "outputId": "b707249b-737a-46d0-f67d-fdde1c27a207"
      },
      "source": [
        "#99% Confidence Interval\n",
        "\n",
        "t.interval(alpha=0.99, df=222, loc=mean_temp, scale=se_temp)\n"
      ],
      "execution_count": 18,
      "outputs": [
        {
          "output_type": "execute_result",
          "data": {
            "text/plain": [
              "(98.0732790800297, 98.25676576301957)"
            ]
          },
          "metadata": {
            "tags": []
          },
          "execution_count": 18
        }
      ]
    },
    {
      "cell_type": "markdown",
      "metadata": {
        "id": "TZSvAjc4AwC2",
        "colab_type": "text"
      },
      "source": [
        "### But I want to be 100% confident!\n",
        "\n",
        "Let's take a very, very close look at the confidence intervals above.  This is subtle - out in the 100ths place of the decimals.\n",
        "\n",
        "The 90% confidence interval is the *narrowest* - it includes the smallest range of values - and the 99% confidence interval is the *widest* - it includes the widest range of values.\n",
        "\n",
        "Confidence intervals are a trade-off between accuracy and precision.\n",
        "\n",
        "**The more confident you want to be, the less precise your CI will be.**\n",
        "\n",
        "**The less confident you are willing to be, the more precise your estimate can be.**\n",
        "\n",
        "At the point we were 100% confident, our CI would probably be meaningless."
      ]
    },
    {
      "cell_type": "markdown",
      "metadata": {
        "id": "vE-I6Bw_Bx2J",
        "colab_type": "text"
      },
      "source": [
        "### In terms of brownies:\n",
        "\n",
        "*   We are 90% confident the brownies will be done in 35 - 36 minutes.\n",
        "*   We are 95% confident the brownies will be done in 34 - 37 minutes.\n",
        "*   We are 99% confident the brownies will be done in 33 - 39 minutes.\n",
        "*   We are 100% confident the brownies will be done in 0 - 60 minutes.\n",
        "\n",
        "The 100% confidence interval is true... but not very helpful.\n"
      ]
    },
    {
      "cell_type": "markdown",
      "metadata": {
        "id": "EamZNJhAf-fY",
        "colab_type": "text"
      },
      "source": [
        "## Common Errors with the Interpretation of Confidence Intervals.\n",
        "\n",
        "**Correct statement:** We are 95% confident that the population mean healthy human body temperature is between 98.10 and 98.23 degrees F.\n",
        "\n",
        "**Incorrect statement:** We are 95% confident that the sample mean healthy human body temperature is between 98.10 and 98.23 degrees F.\n",
        "\n",
        "\n",
        "*   We already *know* the sample mean is in the CI because we use the sample mean to compute the CI.  We want to make a statement about the population mean.\n",
        "\n",
        "\n",
        "**Incorrect statement:** We are 95% confident that the sample mean healthy human body temperature is 98.17 degrees F.\n",
        "\n",
        "*   The CI is a statement about the likelihood of the population mean being in our CI, not being equal to the sample mean.\n",
        "\n",
        "**Incorrect statement:** 95% of samples will have a mean that is between 98.10 and 98.23 degrees F.\n",
        "\n",
        "*   Based on the CLT, we know that 95% of all 95% CIs will contain the true population mean.  However, we don't expect those CIs to be exactly equal to the one we created here."
      ]
    },
    {
      "cell_type": "markdown",
      "metadata": {
        "id": "nrUWwhfCPDCI",
        "colab_type": "text"
      },
      "source": [
        "### It can help to look at a picture\n",
        "\n",
        "We expect 95% of all 95% CIs to contain the true population mean.  \n",
        "\n",
        "That means, if we took 20 random samples from the same population, they'd all be different, but we'd expect 19/20 to contain the true population mean and only 1/20 not to contain the true population mean.\n",
        "\n",
        "![alt text](https://raw.githubusercontent.com/Chelsea-Myers/Lambda-Intro/master/CI%20image.png)\n"
      ]
    },
    {
      "cell_type": "markdown",
      "metadata": {
        "id": "MitRyVfbF3oy",
        "colab_type": "text"
      },
      "source": [
        "## Final Challenge!\n",
        "\n",
        "### Let's do one more quick example.\n",
        "\n",
        "Use the Titanic dataset to create a 95% confidence interval for the population mean age of all Western Europeans traveling the US in the early 1900s (assume the Titanic passengers are representative of this population)."
      ]
    },
    {
      "cell_type": "code",
      "metadata": {
        "id": "fp6Ws3j5G2n_",
        "colab_type": "code",
        "colab": {
          "base_uri": "https://localhost:8080/",
          "height": 221
        },
        "outputId": "bcbe6288-77d6-4eb6-d398-fb8f9d6cc359"
      },
      "source": [
        "import pandas as pd\n",
        "import numpy as np\n",
        "\n",
        "\n",
        "data_url = 'https://raw.githubusercontent.com/Chelsea-Myers/Lambda-Intro/master/Titanic.csv'\n",
        "\n",
        "df = pd.read_csv(data_url, skipinitialspace=True, header=0)\n",
        "\n",
        "print(df.shape)\n",
        "df.head()"
      ],
      "execution_count": 21,
      "outputs": [
        {
          "output_type": "stream",
          "text": [
            "(887, 8)\n"
          ],
          "name": "stdout"
        },
        {
          "output_type": "execute_result",
          "data": {
            "text/html": [
              "<div>\n",
              "<style scoped>\n",
              "    .dataframe tbody tr th:only-of-type {\n",
              "        vertical-align: middle;\n",
              "    }\n",
              "\n",
              "    .dataframe tbody tr th {\n",
              "        vertical-align: top;\n",
              "    }\n",
              "\n",
              "    .dataframe thead th {\n",
              "        text-align: right;\n",
              "    }\n",
              "</style>\n",
              "<table border=\"1\" class=\"dataframe\">\n",
              "  <thead>\n",
              "    <tr style=\"text-align: right;\">\n",
              "      <th></th>\n",
              "      <th>Survived</th>\n",
              "      <th>Pclass</th>\n",
              "      <th>Name</th>\n",
              "      <th>Sex</th>\n",
              "      <th>Age</th>\n",
              "      <th>Siblings/Spouses_Aboard</th>\n",
              "      <th>Parents/Children_Aboard</th>\n",
              "      <th>Fare</th>\n",
              "    </tr>\n",
              "  </thead>\n",
              "  <tbody>\n",
              "    <tr>\n",
              "      <th>0</th>\n",
              "      <td>0</td>\n",
              "      <td>3</td>\n",
              "      <td>Mr. Owen Harris Braund</td>\n",
              "      <td>male</td>\n",
              "      <td>22.0</td>\n",
              "      <td>1</td>\n",
              "      <td>0</td>\n",
              "      <td>7.2500</td>\n",
              "    </tr>\n",
              "    <tr>\n",
              "      <th>1</th>\n",
              "      <td>1</td>\n",
              "      <td>1</td>\n",
              "      <td>Mrs. John Bradley (Florence Briggs Thayer) Cum...</td>\n",
              "      <td>female</td>\n",
              "      <td>38.0</td>\n",
              "      <td>1</td>\n",
              "      <td>0</td>\n",
              "      <td>71.2833</td>\n",
              "    </tr>\n",
              "    <tr>\n",
              "      <th>2</th>\n",
              "      <td>1</td>\n",
              "      <td>3</td>\n",
              "      <td>Miss. Laina Heikkinen</td>\n",
              "      <td>female</td>\n",
              "      <td>26.0</td>\n",
              "      <td>0</td>\n",
              "      <td>0</td>\n",
              "      <td>7.9250</td>\n",
              "    </tr>\n",
              "    <tr>\n",
              "      <th>3</th>\n",
              "      <td>1</td>\n",
              "      <td>1</td>\n",
              "      <td>Mrs. Jacques Heath (Lily May Peel) Futrelle</td>\n",
              "      <td>female</td>\n",
              "      <td>35.0</td>\n",
              "      <td>1</td>\n",
              "      <td>0</td>\n",
              "      <td>53.1000</td>\n",
              "    </tr>\n",
              "    <tr>\n",
              "      <th>4</th>\n",
              "      <td>0</td>\n",
              "      <td>3</td>\n",
              "      <td>Mr. William Henry Allen</td>\n",
              "      <td>male</td>\n",
              "      <td>35.0</td>\n",
              "      <td>0</td>\n",
              "      <td>0</td>\n",
              "      <td>8.0500</td>\n",
              "    </tr>\n",
              "  </tbody>\n",
              "</table>\n",
              "</div>"
            ],
            "text/plain": [
              "   Survived  Pclass  ... Parents/Children_Aboard     Fare\n",
              "0         0       3  ...                       0   7.2500\n",
              "1         1       1  ...                       0  71.2833\n",
              "2         1       3  ...                       0   7.9250\n",
              "3         1       1  ...                       0  53.1000\n",
              "4         0       3  ...                       0   8.0500\n",
              "\n",
              "[5 rows x 8 columns]"
            ]
          },
          "metadata": {
            "tags": []
          },
          "execution_count": 21
        }
      ]
    },
    {
      "cell_type": "code",
      "metadata": {
        "id": "cNpzYbjpfirR",
        "colab_type": "code",
        "colab": {
          "base_uri": "https://localhost:8080/",
          "height": 85
        },
        "outputId": "ddfa0e23-8c6a-446e-abc5-f14025ba9467"
      },
      "source": [
        "#calculate mean, sd, n, se here.\n",
        "\n",
        "mean_age = df['Age'].mean()\n",
        "\n",
        "print(mean_age)\n",
        "\n",
        "sd_age = df['Age'].std()\n",
        "\n",
        "print(sd_age)\n",
        "\n",
        "n_age = df['Age'].count()\n",
        "\n",
        "print(n_age)\n",
        "\n",
        "se_age = sd_age / (n_age**(1/2))\n",
        "\n",
        "print(se_age)"
      ],
      "execution_count": 24,
      "outputs": [
        {
          "output_type": "stream",
          "text": [
            "29.471443066516347\n",
            "14.121908405462555\n",
            "887\n",
            "0.4741672781626\n"
          ],
          "name": "stdout"
        }
      ]
    },
    {
      "cell_type": "code",
      "metadata": {
        "id": "iIpBrdXUIx2A",
        "colab_type": "code",
        "colab": {
          "base_uri": "https://localhost:8080/",
          "height": 34
        },
        "outputId": "ac77d6a7-c17c-44ec-9a69-5162ad60eae6"
      },
      "source": [
        "#Calculate t-interval here.\n",
        "\n",
        "t.interval(alpha=0.95, df=886, loc=mean_age, scale=se_age)"
      ],
      "execution_count": 25,
      "outputs": [
        {
          "output_type": "execute_result",
          "data": {
            "text/plain": [
              "(28.540820985809045, 30.40206514722365)"
            ]
          },
          "metadata": {
            "tags": []
          },
          "execution_count": 25
        }
      ]
    },
    {
      "cell_type": "markdown",
      "metadata": {
        "id": "VPejVZDsF84m",
        "colab_type": "text"
      },
      "source": [
        "CI interval interpretation here.\n",
        "\n",
        "We are 95% confident that the population mean age of all Western Europeans traveling the US in the early 1900s is between 28.54 and 30.40 years old."
      ]
    }
  ]
}