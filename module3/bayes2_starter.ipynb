{
  "nbformat": 4,
  "nbformat_minor": 0,
  "metadata": {
    "kernelspec": {
      "display_name": "Python 3",
      "language": "python",
      "name": "python3"
    },
    "language_info": {
      "codemirror_mode": {
        "name": "ipython",
        "version": 3
      },
      "file_extension": ".py",
      "mimetype": "text/x-python",
      "name": "python",
      "nbconvert_exporter": "python",
      "pygments_lexer": "ipython3",
      "version": "3.7.3"
    },
    "colab": {
      "name": "bayes2_starter.ipynb",
      "provenance": [],
      "include_colab_link": true
    }
  },
  "cells": [
    {
      "cell_type": "markdown",
      "metadata": {
        "id": "view-in-github",
        "colab_type": "text"
      },
      "source": [
        "<a href=\"https://colab.research.google.com/github/ndow33/DS-Unit-1-Sprint-2-Statistics/blob/master/module3/bayes2_starter.ipynb\" target=\"_parent\"><img src=\"https://colab.research.google.com/assets/colab-badge.svg\" alt=\"Open In Colab\"/></a>"
      ]
    },
    {
      "cell_type": "markdown",
      "metadata": {
        "id": "Cd9qL4BIb3am",
        "colab_type": "text"
      },
      "source": [
        "## Example of a classifier"
      ]
    },
    {
      "cell_type": "code",
      "metadata": {
        "id": "ijU7zw1Rb3ao",
        "colab_type": "code",
        "colab": {}
      },
      "source": [
        "# EDA and data handling\n",
        "\n",
        "\n",
        "# Modeling\n"
      ],
      "execution_count": 0,
      "outputs": []
    },
    {
      "cell_type": "code",
      "metadata": {
        "id": "iDGjAz4Rb3ar",
        "colab_type": "code",
        "colab": {}
      },
      "source": [
        "# read in the data\n"
      ],
      "execution_count": 0,
      "outputs": []
    },
    {
      "cell_type": "code",
      "metadata": {
        "id": "sTV_MN8ab3au",
        "colab_type": "code",
        "colab": {}
      },
      "source": [
        "# reduce the size of the dataset\n"
      ],
      "execution_count": 0,
      "outputs": []
    },
    {
      "cell_type": "code",
      "metadata": {
        "id": "6RX76eazb3aw",
        "colab_type": "code",
        "colab": {}
      },
      "source": [
        "# show the data \n"
      ],
      "execution_count": 0,
      "outputs": []
    },
    {
      "cell_type": "code",
      "metadata": {
        "id": "UP1Xv7lDb3az",
        "colab_type": "code",
        "colab": {}
      },
      "source": [
        "# Describe the target \n"
      ],
      "execution_count": 0,
      "outputs": []
    },
    {
      "cell_type": "code",
      "metadata": {
        "id": "jNBiilpMb3a2",
        "colab_type": "code",
        "colab": {}
      },
      "source": [
        "# create the target \n"
      ],
      "execution_count": 0,
      "outputs": []
    },
    {
      "cell_type": "code",
      "metadata": {
        "id": "nzUtl6XDb3a6",
        "colab_type": "code",
        "colab": {}
      },
      "source": [
        "# establish the predictors and the target\n"
      ],
      "execution_count": 0,
      "outputs": []
    },
    {
      "cell_type": "code",
      "metadata": {
        "id": "lc76hMo0b3a9",
        "colab_type": "code",
        "colab": {}
      },
      "source": [
        "# train-test split\n"
      ],
      "execution_count": 0,
      "outputs": []
    },
    {
      "cell_type": "code",
      "metadata": {
        "id": "TV09lm1zb3a_",
        "colab_type": "code",
        "colab": {}
      },
      "source": [
        "# instantiate the classifier\n"
      ],
      "execution_count": 0,
      "outputs": []
    },
    {
      "cell_type": "code",
      "metadata": {
        "id": "3wXz30oxb3bD",
        "colab_type": "code",
        "colab": {}
      },
      "source": [
        "# fit on the training data\n"
      ],
      "execution_count": 0,
      "outputs": []
    },
    {
      "cell_type": "code",
      "metadata": {
        "id": "FaGs-CYLb3bH",
        "colab_type": "code",
        "colab": {}
      },
      "source": [
        "# predict on the testing data\n"
      ],
      "execution_count": 0,
      "outputs": []
    },
    {
      "cell_type": "code",
      "metadata": {
        "id": "yCTdQmSsb3bK",
        "colab_type": "code",
        "colab": {}
      },
      "source": [
        "# check out the first few houses\n"
      ],
      "execution_count": 0,
      "outputs": []
    },
    {
      "cell_type": "code",
      "metadata": {
        "id": "7Z9HA8U9b3bN",
        "colab_type": "code",
        "colab": {}
      },
      "source": [
        "# evaluate the model performance\n"
      ],
      "execution_count": 0,
      "outputs": []
    },
    {
      "cell_type": "markdown",
      "metadata": {
        "id": "In6s9sNlb3bR",
        "colab_type": "text"
      },
      "source": [
        "## Confusion Matrix"
      ]
    },
    {
      "cell_type": "code",
      "metadata": {
        "id": "RLTQ4hsnb3bR",
        "colab_type": "code",
        "colab": {}
      },
      "source": [
        "# examine the confusion matrix\n"
      ],
      "execution_count": 0,
      "outputs": []
    },
    {
      "cell_type": "markdown",
      "metadata": {
        "id": "LJIeiY5ub3bV",
        "colab_type": "text"
      },
      "source": [
        "* 48 true positives (TP): These are cases in which we predicted yes (pricey house), and it is indeed a pricey house.\n",
        "* 72 true negatives (TN): We predicted no (cheap house), and the house is indeed cheap.\n",
        "* 15 false positives (FP): We predicted yes (pricey house), but the house isn't pricey. (Also known as a \"Type I error.\")\n",
        "* 15 false negatives (FN): We predicted no (cheap house), but the house is actually pricey. (Also known as a \"Type II error.\")"
      ]
    },
    {
      "cell_type": "markdown",
      "metadata": {
        "id": "pGDiu0XHb3bW",
        "colab_type": "text"
      },
      "source": [
        "<div>\n",
        "<img src=\"https://miro.medium.com/max/1400/1*h1EA_HjN0jSUh1y6SxdTKQ.png\" width=\"500\"/>\n",
        "</div>\n",
        "SOURCE: https://towardsdatascience.com/machine-learning-an-error-by-any-other-name-a7760a702c4d"
      ]
    },
    {
      "cell_type": "code",
      "metadata": {
        "id": "Z5P76Tznb3bX",
        "colab_type": "code",
        "colab": {}
      },
      "source": [
        "# get the numbers\n"
      ],
      "execution_count": 0,
      "outputs": []
    },
    {
      "cell_type": "code",
      "metadata": {
        "id": "uRZT0pJCb3bb",
        "colab_type": "code",
        "outputId": "f34b769d-154e-4548-d9aa-c7ef219632c6",
        "colab": {}
      },
      "source": [
        "print('True Negatives:')\n",
        "print('False Negatives:')\n",
        "print('False Positives:')\n",
        "print('True Positives:')\n",
        "print('All:')"
      ],
      "execution_count": 0,
      "outputs": [
        {
          "output_type": "stream",
          "text": [
            "True Negatives:\n",
            "False Negatives:\n",
            "False Positives:\n",
            "True Positives:\n",
            "All:\n"
          ],
          "name": "stdout"
        }
      ]
    },
    {
      "cell_type": "markdown",
      "metadata": {
        "id": "_UqzNhXXb3be",
        "colab_type": "text"
      },
      "source": [
        "**Accuracy:**  \n",
        "Overall, how often is it correct?"
      ]
    },
    {
      "cell_type": "code",
      "metadata": {
        "id": "qF-83tc3b3be",
        "colab_type": "code",
        "outputId": "7926931a-7c3c-45e5-a80e-a74810f3912c",
        "colab": {}
      },
      "source": [
        "print(f'Accuracy:')"
      ],
      "execution_count": 0,
      "outputs": [
        {
          "output_type": "stream",
          "text": [
            "Accuracy:\n"
          ],
          "name": "stdout"
        }
      ]
    },
    {
      "cell_type": "markdown",
      "metadata": {
        "id": "L3AVVkwfb3bh",
        "colab_type": "text"
      },
      "source": [
        "**True Positive Rate:**   \n",
        "When it's actually yes, how often does it predict yes?        \n",
        "“Sensitivity” or “Recall”"
      ]
    },
    {
      "cell_type": "code",
      "metadata": {
        "id": "r60iRo9jb3bh",
        "colab_type": "code",
        "outputId": "8131e875-591d-4c0e-a7f4-8953c6122d62",
        "colab": {}
      },
      "source": [
        "print(f'True Positive Rate:')"
      ],
      "execution_count": 0,
      "outputs": [
        {
          "output_type": "stream",
          "text": [
            "True Positive Rate:\n"
          ],
          "name": "stdout"
        }
      ]
    },
    {
      "cell_type": "markdown",
      "metadata": {
        "id": "dZfEc6qtb3bj",
        "colab_type": "text"
      },
      "source": [
        "**False Positive Rate:**    \n",
        "When it's actually no, how often does it predict yes?   \n",
        "Also known as \"Fall-out Rate\""
      ]
    },
    {
      "cell_type": "code",
      "metadata": {
        "id": "ZHYo6dI4b3bl",
        "colab_type": "code",
        "outputId": "3fb497aa-0e65-43e9-c3d8-bea94c9c44c7",
        "colab": {}
      },
      "source": [
        "print(f'False Positive Rate:')"
      ],
      "execution_count": 0,
      "outputs": [
        {
          "output_type": "stream",
          "text": [
            "False Positive Rate:\n"
          ],
          "name": "stdout"
        }
      ]
    },
    {
      "cell_type": "markdown",
      "metadata": {
        "id": "Cy1sFJ7Lb3bp",
        "colab_type": "text"
      },
      "source": [
        "**Precision:**     \n",
        "When it predicts yes, how often is it correct?  \n",
        "Also known as \"Positive Predictive Value (PPV)\""
      ]
    },
    {
      "cell_type": "code",
      "metadata": {
        "id": "Q0Gnzq-0b3bq",
        "colab_type": "code",
        "outputId": "e3c3f30e-4bf6-435f-acd5-660eca4f5ff5",
        "colab": {}
      },
      "source": [
        "print(f'Precision:')"
      ],
      "execution_count": 0,
      "outputs": [
        {
          "output_type": "stream",
          "text": [
            "Precision:\n"
          ],
          "name": "stdout"
        }
      ]
    },
    {
      "cell_type": "markdown",
      "metadata": {
        "id": "CzFbJKG7b3bt",
        "colab_type": "text"
      },
      "source": [
        "**Specificity:**  \n",
        "When it's actually no, how often does it predict no?    \n",
        "also known as \"True Negative Rate\""
      ]
    },
    {
      "cell_type": "code",
      "metadata": {
        "id": "2MNx6cOnb3bu",
        "colab_type": "code",
        "outputId": "45bfa9fb-1f41-4969-ec43-d7c11b36cfc7",
        "colab": {}
      },
      "source": [
        "print(f'Specificity: {round(TN / (TN + FP), 2)}')"
      ],
      "execution_count": 0,
      "outputs": [
        {
          "output_type": "error",
          "ename": "NameError",
          "evalue": "name 'TN' is not defined",
          "traceback": [
            "\u001b[0;31m---------------------------------------------------------------------------\u001b[0m",
            "\u001b[0;31mNameError\u001b[0m                                 Traceback (most recent call last)",
            "\u001b[0;32m<ipython-input-21-4c50072979b8>\u001b[0m in \u001b[0;36m<module>\u001b[0;34m\u001b[0m\n\u001b[0;32m----> 1\u001b[0;31m \u001b[0mprint\u001b[0m\u001b[0;34m(\u001b[0m\u001b[0;34mf'Specificity: {round(TN / (TN + FP), 2)}'\u001b[0m\u001b[0;34m)\u001b[0m\u001b[0;34m\u001b[0m\u001b[0;34m\u001b[0m\u001b[0m\n\u001b[0m",
            "\u001b[0;31mNameError\u001b[0m: name 'TN' is not defined"
          ]
        }
      ]
    },
    {
      "cell_type": "markdown",
      "metadata": {
        "id": "cfmsFiTPb3bw",
        "colab_type": "text"
      },
      "source": [
        "**Prevalence:**    \n",
        "How often does the yes condition actually occur in our sample?  \n",
        "actual yes/total"
      ]
    },
    {
      "cell_type": "code",
      "metadata": {
        "id": "4oBZts1xb3bx",
        "colab_type": "code",
        "colab": {}
      },
      "source": [
        "print(f'Prevalence:')"
      ],
      "execution_count": 0,
      "outputs": []
    },
    {
      "cell_type": "markdown",
      "metadata": {
        "id": "orKwbKEyb3bz",
        "colab_type": "text"
      },
      "source": [
        "## Again"
      ]
    },
    {
      "cell_type": "code",
      "metadata": {
        "id": "Hk0lGgEPb3b0",
        "colab_type": "code",
        "colab": {}
      },
      "source": [
        "# House age\n"
      ],
      "execution_count": 0,
      "outputs": []
    },
    {
      "cell_type": "code",
      "metadata": {
        "id": "mBLc1yBQb3b3",
        "colab_type": "code",
        "colab": {}
      },
      "source": [
        "# Create a target\n"
      ],
      "execution_count": 0,
      "outputs": []
    },
    {
      "cell_type": "code",
      "metadata": {
        "id": "STHRIzOWb3b5",
        "colab_type": "code",
        "colab": {}
      },
      "source": [
        "# establish the predictors and the target\n"
      ],
      "execution_count": 0,
      "outputs": []
    },
    {
      "cell_type": "code",
      "metadata": {
        "id": "e4g37rnmb3b8",
        "colab_type": "code",
        "colab": {}
      },
      "source": [
        "# train-test split\n"
      ],
      "execution_count": 0,
      "outputs": []
    },
    {
      "cell_type": "code",
      "metadata": {
        "id": "xOMySJcRb3b-",
        "colab_type": "code",
        "colab": {}
      },
      "source": [
        "# instantiate the classifier\n"
      ],
      "execution_count": 0,
      "outputs": []
    },
    {
      "cell_type": "code",
      "metadata": {
        "id": "EAmyiWs8b3cB",
        "colab_type": "code",
        "colab": {}
      },
      "source": [
        "# fit on the training data\n"
      ],
      "execution_count": 0,
      "outputs": []
    },
    {
      "cell_type": "code",
      "metadata": {
        "id": "mRIqvqIvb3cD",
        "colab_type": "code",
        "colab": {}
      },
      "source": [
        "# predict on the testing data\n"
      ],
      "execution_count": 0,
      "outputs": []
    },
    {
      "cell_type": "code",
      "metadata": {
        "id": "qn_j-A63b3cI",
        "colab_type": "code",
        "colab": {}
      },
      "source": [
        "# check out the first few houses\n"
      ],
      "execution_count": 0,
      "outputs": []
    },
    {
      "cell_type": "code",
      "metadata": {
        "id": "f5VvXLh0b3cK",
        "colab_type": "code",
        "colab": {}
      },
      "source": [
        "# evaluate the model performance\n"
      ],
      "execution_count": 0,
      "outputs": []
    },
    {
      "cell_type": "code",
      "metadata": {
        "id": "oTvxU3z_b3cN",
        "colab_type": "code",
        "colab": {}
      },
      "source": [
        "# examine the confusion matrix\n"
      ],
      "execution_count": 0,
      "outputs": []
    },
    {
      "cell_type": "code",
      "metadata": {
        "id": "ksrlHASSb3cQ",
        "colab_type": "code",
        "colab": {}
      },
      "source": [
        "# get the numbers\n"
      ],
      "execution_count": 0,
      "outputs": []
    },
    {
      "cell_type": "code",
      "metadata": {
        "id": "EZ5IgKeBb3cS",
        "colab_type": "code",
        "colab": {}
      },
      "source": [
        "print(f'Accuracy:')\n",
        "print(f'True Positive Rate:')\n",
        "print(f'False Positive Rate:')\n",
        "print(f'Precision:')\n",
        "print(f'Specificity:')\n",
        "print(f'Prevalence:')"
      ],
      "execution_count": 0,
      "outputs": []
    },
    {
      "cell_type": "markdown",
      "metadata": {
        "id": "64euhRKvb3cX",
        "colab_type": "text"
      },
      "source": [
        "## Terminology\n",
        "\n",
        "| Bayes term | Bayes formula | Confusion Matrix term | Confusion Matrix formula| Alternative CM term | \n",
        "|:-|:-|:-|:-|:-|\n",
        "| prior | P(A) | prevalence | (TP + FN) / (TP+TN+FP+FN) | ? |\n",
        "| posterior | P(A given B) | Positive Predictive Value (PPV) | TP / (TP + FP) | precision |\n",
        "| conditional | P(B given A) | True Positive Rate (TPR)  |TP / (TP + FN) | sensitivity, recall |\n",
        "| marginal | P(B) | queue rate | TP + FP | ? |  \n",
        "| prior complement | P(not A) or 100-P(A) | prevalence complement | 1-prevalence | ? |\n",
        "| ? | P(not B given not A) | True Negative Rate (TNR) | TN / (FP + TN) | specificity |\n",
        "| ? | P(B given not A) | False Positive Rate (FPR) | FP / (FP+TN) | fall-out rate, false alarm rate |\n",
        "| ? | P(not B given A) | False Negative Rate (FNR) | FN / (TP + FN) | miss rate |\n",
        "|?|?|accuracy|(TP + TN) / (TP+TN+FP+FN)|?|\n",
        "|?|?|error rate|(FP + FN) / (TP+TN+FP+FN)|misclassification rate|\n",
        "\n",
        "\n",
        "**Abbreviations**  \n",
        "A: Hypothesized Data       \n",
        "B: Observed Data         \n",
        "TP: True Positive  \n",
        "TN: True Negative  \n",
        "FP: False Positive  \n",
        "FN: False Negative  \n",
        " \n",
        "^ Note: Sometimes in Bayesian statistics the following terms are used instead:\n",
        " \n",
        "* prior = hypothesis\n",
        "* posterior = updated hypothesis\n",
        "* conditional = likelihood\n",
        "* marginal = model evidence"
      ]
    },
    {
      "cell_type": "markdown",
      "metadata": {
        "id": "g51KU4mYb3cX",
        "colab_type": "text"
      },
      "source": [
        "## Problem 1. Drunk Drivers"
      ]
    },
    {
      "cell_type": "markdown",
      "metadata": {
        "id": "rjgdIEU6b3cY",
        "colab_type": "text"
      },
      "source": [
        "imagine that individuals are taking a breathalyzer test with \n",
        "* an 8% false positive rate, \n",
        "* a 100% true positive rate, \n",
        "* our prior belief about drunk driving in the population is 1/1000. \n",
        "* What is the probability that a person is drunk after one positive breathalyzer test?"
      ]
    },
    {
      "cell_type": "code",
      "metadata": {
        "id": "yhyBiypdb3cY",
        "colab_type": "code",
        "colab": {}
      },
      "source": [
        "# write a function"
      ],
      "execution_count": 0,
      "outputs": []
    },
    {
      "cell_type": "code",
      "metadata": {
        "id": "44BoDivUb3ca",
        "colab_type": "code",
        "colab": {}
      },
      "source": [
        "# Probability that a person is drunk after one breathalyzer test:\n"
      ],
      "execution_count": 0,
      "outputs": []
    },
    {
      "cell_type": "markdown",
      "metadata": {
        "id": "3GEEeUZjb3cd",
        "colab_type": "text"
      },
      "source": [
        "## Problem 2: Marginal is provided\n",
        "Solving for the posterior is not too complicated when the marginal probability is provided for you. \n",
        "\n",
        "Suppose we have an online website where we sell a gizmo. Consider the case where a website-visitor clicks to expand the gizmo's product description. What is the probability that they will then purchase the gizmo?\n",
        "\n",
        "Let’s assume some details:  \n",
        "* 10 percent of site visitors buy the gizmo.  That's the prior: P(buy).\n",
        "* 7 percent of site visitors that purchased the gizmo also clicked on the description. That's the conditional: P(click|buy).\n",
        "* 5 percent of site visitors click on the product description. That's the marginal: P(click).\n",
        "* What percent of site visitors will purchase the gizmo after clicking on the description? That's the posterior: P(buy|click)."
      ]
    },
    {
      "cell_type": "markdown",
      "metadata": {
        "id": "vzPeRRMAb3ce",
        "colab_type": "text"
      },
      "source": [
        "Let’s plug what we know into the theorem:\n",
        "* P(A|B) = P(B|A) * P(A) / P(B)   \n",
        "* P(buy|click) = P(click|buy) * P(buy) / P(click)"
      ]
    },
    {
      "cell_type": "code",
      "metadata": {
        "id": "JesikmmCb3cg",
        "colab_type": "code",
        "colab": {}
      },
      "source": [
        "# input the prior, marginal, and conditional.\n"
      ],
      "execution_count": 0,
      "outputs": []
    },
    {
      "cell_type": "code",
      "metadata": {
        "id": "86kodOoPb3ck",
        "colab_type": "code",
        "colab": {}
      },
      "source": [
        "# write the formula\n"
      ],
      "execution_count": 0,
      "outputs": []
    },
    {
      "cell_type": "code",
      "metadata": {
        "id": "CEDT6H6db3cn",
        "colab_type": "code",
        "colab": {}
      },
      "source": [
        "# plug it in\n"
      ],
      "execution_count": 0,
      "outputs": []
    },
    {
      "cell_type": "markdown",
      "metadata": {
        "id": "NLxLBvHMb3cq",
        "colab_type": "text"
      },
      "source": [
        "## Problem 3: No marginal provided!\n",
        "Solving for the posterior is a little harder when the marginal is not provided; most real-world problems fall into this pattern.\n",
        "\n",
        "Consider the case where we receive an email and the spam detector flags it (i.e., puts it in the spam folder). What is the probability it was actally spam?\n",
        "\n",
        "Let’s assume some details:  \n",
        "* 2 percent of the email we receive is spam -- that's the prior: P(Spam). \n",
        "* the spam detector is really good and when an email is spam, it flags it 99 percent of the time -- that's the conditional: P(Flagged|Spam).   \n",
        "* When an email is not spam, it will flag it with a very low rate of 0.1 percent -- that's the fall-out rate: P(Flagged|not Spam).  \n",
        "* What is the probability that a flagged email is actually spam? -- that's the posterior: P(Spam|Flagged) "
      ]
    },
    {
      "cell_type": "markdown",
      "metadata": {
        "id": "nmbU1S8mb3cq",
        "colab_type": "text"
      },
      "source": [
        "Let’s plug what we know into the theorem:\n",
        "* P(A|B) = P(B|A) * P(A) / P(B)   \n",
        "* P(Spam|Flagged) = P(Flagged|Spam) * P(Spam) / P(Flagged)"
      ]
    },
    {
      "cell_type": "markdown",
      "metadata": {
        "id": "u1CDgWxib3cr",
        "colab_type": "text"
      },
      "source": [
        "We don’t know P(B), that is P(Flagged), but we can calculate it as follows:\n",
        "* P(B) = P(B|A) * P(A) + P(B|not A) * P(not A) \n",
        "* P(Flagged) = P(Flagged|Spam) * P(Spam) + P(Flagged|not Spam) * P(not Spam)"
      ]
    },
    {
      "cell_type": "code",
      "metadata": {
        "id": "wZECzt_fb3cu",
        "colab_type": "code",
        "colab": {}
      },
      "source": [
        "# input the prior, conditional, and fall-out rate.\n"
      ],
      "execution_count": 0,
      "outputs": []
    },
    {
      "cell_type": "code",
      "metadata": {
        "id": "KfCaRrdHb3cw",
        "colab_type": "code",
        "colab": {}
      },
      "source": [
        "# write the formula\n"
      ],
      "execution_count": 0,
      "outputs": []
    },
    {
      "cell_type": "code",
      "metadata": {
        "id": "Z7jZk9sMb3cz",
        "colab_type": "code",
        "colab": {}
      },
      "source": [
        "# plug it in\n"
      ],
      "execution_count": 0,
      "outputs": []
    },
    {
      "cell_type": "markdown",
      "metadata": {
        "id": "9DJYxyQrb3c0",
        "colab_type": "text"
      },
      "source": [
        "## Problem 4. No marginal (again)\n",
        "What if only two pieces of information are available?"
      ]
    },
    {
      "cell_type": "markdown",
      "metadata": {
        "id": "3HetIzMUb3c1",
        "colab_type": "text"
      },
      "source": [
        "Let’s assume some details:  \n",
        "* the condition occurs in 2% of the population -- that's the prior: P(sick). \n",
        "* when a patient is actually sick, the classifier flags them as sick 72 percent of the time -- that's the conditional: P(Flagged|Sick).   \n",
        "* when the classifier says they are not sick, this is true 97 percent of the time. That's P(not Flagged | not Sick)\n",
        "* What is the probability that a flagged patient is actually sick? -- that's the posterior: P(Sick|Flagged).\n",
        "\n",
        "We don't know the marginal P(B), and we don't know the fall-out rate -- P(Flagged|not Sick) -- but we can calculate them using the formulas:\n",
        "\n",
        "* P(B) = P(B|A) * P(A) + P(B|not A) * P(not A)\n",
        "* P(B|not A) = 1 – P(not B|not A)\n",
        "\n",
        "Which translates to: \n",
        "* P(Flagged) = P(Flagged|Sick) * P(Sick) + P(Flagged|not Sick) * P(not Sick)\n",
        "* P(Flagged|not Sick) = 1 - P(not Flagged|not Sick)"
      ]
    },
    {
      "cell_type": "code",
      "metadata": {
        "id": "aqB7XcJVb3c2",
        "colab_type": "code",
        "colab": {}
      },
      "source": [
        "# input the prior, conditional, and P(not B|not A).\n"
      ],
      "execution_count": 0,
      "outputs": []
    },
    {
      "cell_type": "code",
      "metadata": {
        "id": "Y4jBjVIKb3c4",
        "colab_type": "code",
        "colab": {}
      },
      "source": [
        "# write the formula:\n"
      ],
      "execution_count": 0,
      "outputs": []
    },
    {
      "cell_type": "code",
      "metadata": {
        "id": "jXL47Bnqb3c6",
        "colab_type": "code",
        "colab": {}
      },
      "source": [
        "# plug it in:\n"
      ],
      "execution_count": 0,
      "outputs": []
    },
    {
      "cell_type": "markdown",
      "metadata": {
        "id": "ADjPUVujb3c7",
        "colab_type": "text"
      },
      "source": [
        "Sources:  \n",
        "* http://learningwithdata.com/bayes-primer.html#bayes-primer  \n",
        "* https://machinelearningmastery.com/intuition-for-bayes-theorem-with-worked-examples/  \n",
        "* https://www.bayestheorem.net/  \n",
        "* https://lucdemortier.github.io/articles/16/PerformanceMetrics\n",
        "* https://towardsdatascience.com/machine-learning-an-error-by-any-other-name-a7760a702c4d\n",
        "* https://ncss-wpengine.netdna-ssl.com/wp-content/themes/ncss/pdf/Procedures/NCSS/Binary_Diagnostic_Tests-Single_Sample.pdf\n",
        "* https://www.dataschool.io/simple-guide-to-confusion-matrix-terminology/\n",
        "* https://online.stat.psu.edu/stat507/node/71/"
      ]
    }
  ]
}