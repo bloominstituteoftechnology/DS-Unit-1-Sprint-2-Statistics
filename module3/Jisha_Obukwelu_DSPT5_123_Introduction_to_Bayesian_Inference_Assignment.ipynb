{
  "nbformat": 4,
  "nbformat_minor": 0,
  "metadata": {
    "colab": {
      "name": "Jisha Obukwelu_DSPT5_123_Introduction_to_Bayesian_Inference_Assignment.ipynb",
      "provenance": [],
      "collapsed_sections": [],
      "include_colab_link": true
    },
    "kernelspec": {
      "name": "python3",
      "display_name": "Python 3"
    }
  },
  "cells": [
    {
      "cell_type": "markdown",
      "metadata": {
        "id": "view-in-github",
        "colab_type": "text"
      },
      "source": [
        "<a href=\"https://colab.research.google.com/github/jiobu1/DS-Unit-1-Sprint-2-Statistics/blob/master/module3/Jisha_Obukwelu_DSPT5_123_Introduction_to_Bayesian_Inference_Assignment.ipynb\" target=\"_parent\"><img src=\"https://colab.research.google.com/assets/colab-badge.svg\" alt=\"Open In Colab\"/></a>"
      ]
    },
    {
      "cell_type": "markdown",
      "metadata": {
        "id": "H7OLbevlbd_Z",
        "colab_type": "text"
      },
      "source": [
        "# Lambda School Data Science Module 123\n",
        "\n",
        "## Introduction to Bayesian Inference\n",
        "\n",
        "\n"
      ]
    },
    {
      "cell_type": "markdown",
      "metadata": {
        "id": "P-DzzRk5bf0z",
        "colab_type": "text"
      },
      "source": [
        "## Assignment - Code it up!\n",
        "\n",
        "We used pure math to apply Bayes Theorem to drug tests. Now write Python code to reproduce the results! This is purposefully open ended - you'll have to think about how you should represent probabilities and events. You can and should look things up.\n",
        "\n",
        "Specific goals/targets:\n",
        "\n",
        "### 1) Write a function \n",
        "\n",
        "`def prob_drunk_given_positive(prob_drunk_prior, false_positive_rate):` \n",
        "\n",
        "You should only truly need these two values in order to apply Bayes Theorem. In this example, imagine that individuals are taking a breathalyzer test with an 8% false positive rate, a 100% true positive rate, and that our prior belief about drunk driving in the population is 1/1000. \n",
        " - What is the probability that a person is drunk after one positive breathalyzer test?\n",
        " - What is the probability that a person is drunk after two positive breathalyzer tests?\n",
        " - How many positive breathalyzer tests are needed in order to have a probability that's greater than 95% that a person is drunk beyond the legal limit?\n",
        "\n",
        "### 2) Explore `scipy.stats.bayes_mvs`  \n",
        "Read its documentation, and experiment with it on data you've tested in other ways earlier this week.\n",
        " - Create a visualization comparing the results of a Bayesian approach to a traditional/frequentist approach. (with a large sample size they should look close to identical, however, take this opportunity to practice visualizing condfidence intervals in general. The following are some potential ways that you could visualize confidence intervals on your graph:\n",
        "  - [Matplotlib Error Bars](https://matplotlib.org/3.1.1/api/_as_gen/matplotlib.pyplot.errorbar.html)\n",
        "  - [Seaborn barplot with error bars](https://seaborn.pydata.org/generated/seaborn.barplot.html)\n",
        "  - [Vertical ines to show bounds of confidence interval](https://www.simplypsychology.org/confidence-interval.jpg)\n",
        "  - [Confidence Intervals on Box Plots](https://matplotlib.org/3.1.1/api/_as_gen/matplotlib.axes.Axes.boxplot.html)\n",
        "\n",
        "### 3) In your own words, summarize the difference between Bayesian and Frequentist statistics\n",
        "\n",
        "If you're unsure where to start, check out [this blog post of Bayes theorem with Python](https://dataconomy.com/2015/02/introduction-to-bayes-theorem-with-python/).\n",
        "\n"
      ]
    },
    {
      "cell_type": "markdown",
      "metadata": {
        "id": "TYjLsBcT4CSO",
        "colab_type": "text"
      },
      "source": [
        "#Import Libraries"
      ]
    },
    {
      "cell_type": "code",
      "metadata": {
        "id": "1jQOQTis4BdE",
        "colab_type": "code",
        "colab": {}
      },
      "source": [
        "import scipy.stats as stats\n",
        "from scipy import stats\n",
        "import numpy as np\n",
        "import pandas as pd\n",
        "import matplotlib.pyplot as plt\n",
        "import seaborn as sns"
      ],
      "execution_count": 0,
      "outputs": []
    },
    {
      "cell_type": "markdown",
      "metadata": {
        "id": "wH_BfDVYiyUO",
        "colab_type": "text"
      },
      "source": [
        "#**1. Iterative Bayesian Theorem**"
      ]
    },
    {
      "cell_type": "markdown",
      "metadata": {
        "id": "-bjrCnKh5THe",
        "colab_type": "text"
      },
      "source": [
        "### Bayes Theorem\n",
        "\n",
        "$$P(User|+) = \\frac{P(+|User)P(User)}{P(+|User)P(User)+P(+|Non-user)P(Non-user) )}$$"
      ]
    },
    {
      "cell_type": "markdown",
      "metadata": {
        "id": "91zxfgsei4D6",
        "colab_type": "text"
      },
      "source": [
        "DEF prob_drunk_given_positive"
      ]
    },
    {
      "cell_type": "code",
      "metadata": {
        "id": "8xkoQ3Hbleqs",
        "colab_type": "code",
        "outputId": "ada42afe-071b-427c-e12f-5ce7ebe337fa",
        "colab": {
          "base_uri": "https://localhost:8080/",
          "height": 34
        }
      },
      "source": [
        "#Given information\n",
        "P_user = 1/1000\n",
        "P_non_user = 1 - P_user\n",
        "P_pos_given_user = 1\n",
        "P_pos_given_non_user = 0.08\n",
        "\n",
        "#Manual calculation\n",
        "P_pos_user = (P_pos_given_user * P_user)/((P_pos_given_user * P_user) + (P_pos_given_non_user * P_non_user))\n",
        "P_pos_user"
      ],
      "execution_count": 2,
      "outputs": [
        {
          "output_type": "execute_result",
          "data": {
            "text/plain": [
              "0.012357884330202669"
            ]
          },
          "metadata": {
            "tags": []
          },
          "execution_count": 2
        }
      ]
    },
    {
      "cell_type": "markdown",
      "metadata": {
        "id": "0XwRn8iB9B1d",
        "colab_type": "text"
      },
      "source": [
        "### **Probability That A Person is Drunk After One Positive Breathalizer Test**"
      ]
    },
    {
      "cell_type": "code",
      "metadata": {
        "id": "7PtPM1u38b0m",
        "colab_type": "code",
        "outputId": "d4adae1b-4238-4bbc-a712-ad232504515a",
        "colab": {
          "base_uri": "https://localhost:8080/",
          "height": 34
        }
      },
      "source": [
        "numerator = P_pos_given_user * P_user\n",
        "numerator"
      ],
      "execution_count": 3,
      "outputs": [
        {
          "output_type": "execute_result",
          "data": {
            "text/plain": [
              "0.001"
            ]
          },
          "metadata": {
            "tags": []
          },
          "execution_count": 3
        }
      ]
    },
    {
      "cell_type": "code",
      "metadata": {
        "id": "SAbOpito8jbK",
        "colab_type": "code",
        "outputId": "71a4eb35-2897-4f35-d40c-653678ae771c",
        "colab": {
          "base_uri": "https://localhost:8080/",
          "height": 34
        }
      },
      "source": [
        "marginal = (P_pos_given_user * P_user) + (P_pos_given_non_user * P_non_user)\n",
        "marginal"
      ],
      "execution_count": 4,
      "outputs": [
        {
          "output_type": "execute_result",
          "data": {
            "text/plain": [
              "0.08092"
            ]
          },
          "metadata": {
            "tags": []
          },
          "execution_count": 4
        }
      ]
    },
    {
      "cell_type": "code",
      "metadata": {
        "id": "81beb37T8uVe",
        "colab_type": "code",
        "outputId": "22b7a7e5-3b61-461e-bf9c-4017761bbda1",
        "colab": {
          "base_uri": "https://localhost:8080/",
          "height": 34
        }
      },
      "source": [
        "# First Breathalizer Test\n",
        "posterior_probability = numerator / marginal\n",
        "posterior_probability"
      ],
      "execution_count": 5,
      "outputs": [
        {
          "output_type": "execute_result",
          "data": {
            "text/plain": [
              "0.012357884330202669"
            ]
          },
          "metadata": {
            "tags": []
          },
          "execution_count": 5
        }
      ]
    },
    {
      "cell_type": "markdown",
      "metadata": {
        "id": "kizE3YgO-uel",
        "colab_type": "text"
      },
      "source": [
        "There is a 1.23% chance that this person is drunk after one positive breathalizer test. "
      ]
    },
    {
      "cell_type": "markdown",
      "metadata": {
        "id": "pyv4bg0E9NRB",
        "colab_type": "text"
      },
      "source": [
        "###**Probability That a  Person is Drunk After Two Positive Breathalizer Tests**"
      ]
    },
    {
      "cell_type": "code",
      "metadata": {
        "id": "m68iDofY84ps",
        "colab_type": "code",
        "outputId": "399b4b1e-bfbc-442e-9a7b-2661f19e7478",
        "colab": {
          "base_uri": "https://localhost:8080/",
          "height": 34
        }
      },
      "source": [
        "#Second Breathalizer Test\n",
        "P_user = posterior_probability\n",
        "P_non_user = 1 - P_user\n",
        "\n",
        "#Apply Bayes\n",
        "numerator = P_pos_given_user * P_user\n",
        "marginal = (P_pos_given_user * P_user) + (P_pos_given_non_user * P_non_user)\n",
        "posterior_probability = numerator/marginal\n",
        "posterior_probability"
      ],
      "execution_count": 6,
      "outputs": [
        {
          "output_type": "execute_result",
          "data": {
            "text/plain": [
              "0.13525210993291495"
            ]
          },
          "metadata": {
            "tags": []
          },
          "execution_count": 6
        }
      ]
    },
    {
      "cell_type": "markdown",
      "metadata": {
        "id": "ytoTbpFm-moe",
        "colab_type": "text"
      },
      "source": [
        "There is a 13.5% chance that the person is drunk after two positive breathalizer tests."
      ]
    },
    {
      "cell_type": "markdown",
      "metadata": {
        "id": "dP0udbyn-NLQ",
        "colab_type": "text"
      },
      "source": [
        "###**Number of Positive Breathalizers to Get 95% That a Person is Drunk Beyond the Legal Limit**"
      ]
    },
    {
      "cell_type": "code",
      "metadata": {
        "id": "NfqQ_cou-DD4",
        "colab_type": "code",
        "outputId": "975e3bd4-49cb-4fc2-cc24-3642a1a752e9",
        "colab": {
          "base_uri": "https://localhost:8080/",
          "height": 34
        }
      },
      "source": [
        "#Third Breathalizer Test\n",
        "P_user = posterior_probability\n",
        "P_non_user = 1 - P_user\n",
        "\n",
        "#Apply Bayes\n",
        "numerator = P_pos_given_user * P_user\n",
        "marginal = (P_pos_given_user * P_user) + (P_pos_given_non_user * P_non_user)\n",
        "posterior_probability = numerator/marginal\n",
        "posterior_probability"
      ],
      "execution_count": 7,
      "outputs": [
        {
          "output_type": "execute_result",
          "data": {
            "text/plain": [
              "0.6615996951348605"
            ]
          },
          "metadata": {
            "tags": []
          },
          "execution_count": 7
        }
      ]
    },
    {
      "cell_type": "code",
      "metadata": {
        "id": "QnNoIZcn-aTa",
        "colab_type": "code",
        "outputId": "e9b1cf0f-0cba-4ef0-f2f4-6e19792f3e5c",
        "colab": {
          "base_uri": "https://localhost:8080/",
          "height": 34
        }
      },
      "source": [
        "#Fourth Breathalizer Test\n",
        "P_user = posterior_probability\n",
        "P_non_user = 1 - P_user\n",
        "\n",
        "#Apply Bayes\n",
        "numerator = P_pos_given_user * P_user\n",
        "marginal = (P_pos_given_user * P_user) + (P_pos_given_non_user * P_non_user)\n",
        "posterior_probability = numerator/marginal\n",
        "posterior_probability"
      ],
      "execution_count": 8,
      "outputs": [
        {
          "output_type": "execute_result",
          "data": {
            "text/plain": [
              "0.9606895076105054"
            ]
          },
          "metadata": {
            "tags": []
          },
          "execution_count": 8
        }
      ]
    },
    {
      "cell_type": "markdown",
      "metadata": {
        "id": "HXI2YOOp-c-3",
        "colab_type": "text"
      },
      "source": [
        "You will need to have four positive breathalizer tests to get a 95% that a person is drunk beyond the legal limit. "
      ]
    },
    {
      "cell_type": "markdown",
      "metadata": {
        "id": "b_zaWL6Q-3xG",
        "colab_type": "text"
      },
      "source": [
        "###**Creating a Function**"
      ]
    },
    {
      "cell_type": "code",
      "metadata": {
        "id": "6wTYGN-Va2PQ",
        "colab_type": "code",
        "colab": {}
      },
      "source": [
        "#psuedo code\n",
        "\n",
        "#def prob_drunk_given_positive(prob_drunk_prior, false_positive_rate, true_positive_rates):\n",
        "\n",
        "#posterior P(user|+)\n",
        "#P(user|+) = prob_drunk_prior\n",
        "#P(+|user)P(user) = true_positive_rate * prob_drunk_prior\n",
        "#P(+|user)P(user) = true_positive_rate * prob_drunk_prior\n",
        "#p(+|non-user)p(non-user) = (false_positive_rate)*(1-true_positive_rates )"
      ],
      "execution_count": 0,
      "outputs": []
    },
    {
      "cell_type": "code",
      "metadata": {
        "id": "cFr4r3wk4bAP",
        "colab_type": "code",
        "colab": {}
      },
      "source": [
        "#Bayes Function\n",
        "def prob_drunk_given_positive(prob_drunk_prior, false_positive_rate, true_positive_rate):\n",
        "  prior_drunk = []\n",
        "  posterior_probability = prob_drunk_prior\n",
        "  for i in range (0, 20):\n",
        "    prob_drunk_prior = (true_positive_rate * prob_drunk_prior)/((true_positive_rate * prob_drunk_prior) + (false_positive_rate)*(1-prob_drunk_prior))\n",
        "    prior_drunk.append(prob_drunk_prior)      \n",
        "  return prior_drunk"
      ],
      "execution_count": 0,
      "outputs": []
    },
    {
      "cell_type": "code",
      "metadata": {
        "id": "xpVhZyUnbf7o",
        "colab_type": "code",
        "outputId": "b168b76a-d956-4356-c73a-0c07680f08f2",
        "colab": {
          "base_uri": "https://localhost:8080/",
          "height": 357
        }
      },
      "source": [
        "#Test function\n",
        "prob_drunk_given_positive(.001, 0.08, 1)"
      ],
      "execution_count": 11,
      "outputs": [
        {
          "output_type": "execute_result",
          "data": {
            "text/plain": [
              "[0.012357884330202669,\n",
              " 0.13525210993291495,\n",
              " 0.6615996951348605,\n",
              " 0.9606895076105054,\n",
              " 0.9967371577896734,\n",
              " 0.9997381867081508,\n",
              " 0.9999790498904363,\n",
              " 0.9999983239589307,\n",
              " 0.9999998659165077,\n",
              " 0.9999999892733192,\n",
              " 0.9999999991418655,\n",
              " 0.9999999999313492,\n",
              " 0.999999999994508,\n",
              " 0.9999999999995607,\n",
              " 0.9999999999999648,\n",
              " 0.9999999999999972,\n",
              " 0.9999999999999998,\n",
              " 1.0,\n",
              " 1.0,\n",
              " 1.0]"
            ]
          },
          "metadata": {
            "tags": []
          },
          "execution_count": 11
        }
      ]
    },
    {
      "cell_type": "markdown",
      "metadata": {
        "id": "9Uj2401YtKH5",
        "colab_type": "text"
      },
      "source": [
        "#**2. Explore scipy.stats.bayes_mvs** \n",
        "\n",
        "Create a visualization comparing the results of a Bayesian approach to a traditional/frequentist approach. "
      ]
    },
    {
      "cell_type": "markdown",
      "metadata": {
        "id": "ZRf1qXzQnmd8",
        "colab_type": "text"
      },
      "source": [
        "###**Load Adult Dataset**"
      ]
    },
    {
      "cell_type": "code",
      "metadata": {
        "id": "VuJXdx3_teNg",
        "colab_type": "code",
        "colab": {}
      },
      "source": [
        "url='https://raw.githubusercontent.com/ryanleeallred/datasets/master/adult.csv'"
      ],
      "execution_count": 0,
      "outputs": []
    },
    {
      "cell_type": "code",
      "metadata": {
        "id": "QDmJ3jOMoHUU",
        "colab_type": "code",
        "colab": {
          "base_uri": "https://localhost:8080/",
          "height": 583
        },
        "outputId": "3aa4f484-0e0d-48e9-caf7-af0d2b85a68d"
      },
      "source": [
        "adults = pd.read_csv(url, na_values = \" ?\")\n",
        "adults.sample(10)"
      ],
      "execution_count": 25,
      "outputs": [
        {
          "output_type": "execute_result",
          "data": {
            "text/html": [
              "<div>\n",
              "<style scoped>\n",
              "    .dataframe tbody tr th:only-of-type {\n",
              "        vertical-align: middle;\n",
              "    }\n",
              "\n",
              "    .dataframe tbody tr th {\n",
              "        vertical-align: top;\n",
              "    }\n",
              "\n",
              "    .dataframe thead th {\n",
              "        text-align: right;\n",
              "    }\n",
              "</style>\n",
              "<table border=\"1\" class=\"dataframe\">\n",
              "  <thead>\n",
              "    <tr style=\"text-align: right;\">\n",
              "      <th></th>\n",
              "      <th>age</th>\n",
              "      <th>workclass</th>\n",
              "      <th>fnlwgt</th>\n",
              "      <th>education</th>\n",
              "      <th>education-num</th>\n",
              "      <th>marital-status</th>\n",
              "      <th>occupation</th>\n",
              "      <th>relationship</th>\n",
              "      <th>race</th>\n",
              "      <th>sex</th>\n",
              "      <th>capital-gain</th>\n",
              "      <th>capital-loss</th>\n",
              "      <th>hours-per-week</th>\n",
              "      <th>country</th>\n",
              "      <th>salary</th>\n",
              "    </tr>\n",
              "  </thead>\n",
              "  <tbody>\n",
              "    <tr>\n",
              "      <th>1566</th>\n",
              "      <td>29</td>\n",
              "      <td>Private</td>\n",
              "      <td>111900</td>\n",
              "      <td>Some-college</td>\n",
              "      <td>10</td>\n",
              "      <td>Married-civ-spouse</td>\n",
              "      <td>Farming-fishing</td>\n",
              "      <td>Husband</td>\n",
              "      <td>White</td>\n",
              "      <td>Male</td>\n",
              "      <td>0</td>\n",
              "      <td>0</td>\n",
              "      <td>40</td>\n",
              "      <td>United-States</td>\n",
              "      <td>&lt;=50K</td>\n",
              "    </tr>\n",
              "    <tr>\n",
              "      <th>22996</th>\n",
              "      <td>27</td>\n",
              "      <td>Private</td>\n",
              "      <td>329426</td>\n",
              "      <td>Masters</td>\n",
              "      <td>14</td>\n",
              "      <td>Never-married</td>\n",
              "      <td>Exec-managerial</td>\n",
              "      <td>Not-in-family</td>\n",
              "      <td>White</td>\n",
              "      <td>Male</td>\n",
              "      <td>0</td>\n",
              "      <td>0</td>\n",
              "      <td>37</td>\n",
              "      <td>United-States</td>\n",
              "      <td>&lt;=50K</td>\n",
              "    </tr>\n",
              "    <tr>\n",
              "      <th>20414</th>\n",
              "      <td>58</td>\n",
              "      <td>Private</td>\n",
              "      <td>56331</td>\n",
              "      <td>Bachelors</td>\n",
              "      <td>13</td>\n",
              "      <td>Married-civ-spouse</td>\n",
              "      <td>Sales</td>\n",
              "      <td>Husband</td>\n",
              "      <td>White</td>\n",
              "      <td>Male</td>\n",
              "      <td>0</td>\n",
              "      <td>0</td>\n",
              "      <td>40</td>\n",
              "      <td>United-States</td>\n",
              "      <td>&lt;=50K</td>\n",
              "    </tr>\n",
              "    <tr>\n",
              "      <th>12757</th>\n",
              "      <td>34</td>\n",
              "      <td>Private</td>\n",
              "      <td>236318</td>\n",
              "      <td>HS-grad</td>\n",
              "      <td>9</td>\n",
              "      <td>Never-married</td>\n",
              "      <td>Machine-op-inspct</td>\n",
              "      <td>Unmarried</td>\n",
              "      <td>White</td>\n",
              "      <td>Male</td>\n",
              "      <td>0</td>\n",
              "      <td>0</td>\n",
              "      <td>40</td>\n",
              "      <td>United-States</td>\n",
              "      <td>&lt;=50K</td>\n",
              "    </tr>\n",
              "    <tr>\n",
              "      <th>13919</th>\n",
              "      <td>35</td>\n",
              "      <td>Private</td>\n",
              "      <td>176279</td>\n",
              "      <td>Some-college</td>\n",
              "      <td>10</td>\n",
              "      <td>Widowed</td>\n",
              "      <td>Adm-clerical</td>\n",
              "      <td>Unmarried</td>\n",
              "      <td>White</td>\n",
              "      <td>Female</td>\n",
              "      <td>0</td>\n",
              "      <td>0</td>\n",
              "      <td>30</td>\n",
              "      <td>United-States</td>\n",
              "      <td>&lt;=50K</td>\n",
              "    </tr>\n",
              "    <tr>\n",
              "      <th>20985</th>\n",
              "      <td>27</td>\n",
              "      <td>Private</td>\n",
              "      <td>194690</td>\n",
              "      <td>9th</td>\n",
              "      <td>5</td>\n",
              "      <td>Never-married</td>\n",
              "      <td>Other-service</td>\n",
              "      <td>Own-child</td>\n",
              "      <td>White</td>\n",
              "      <td>Male</td>\n",
              "      <td>0</td>\n",
              "      <td>0</td>\n",
              "      <td>50</td>\n",
              "      <td>Mexico</td>\n",
              "      <td>&lt;=50K</td>\n",
              "    </tr>\n",
              "    <tr>\n",
              "      <th>15870</th>\n",
              "      <td>36</td>\n",
              "      <td>Private</td>\n",
              "      <td>272944</td>\n",
              "      <td>Assoc-voc</td>\n",
              "      <td>11</td>\n",
              "      <td>Married-civ-spouse</td>\n",
              "      <td>Exec-managerial</td>\n",
              "      <td>Husband</td>\n",
              "      <td>White</td>\n",
              "      <td>Male</td>\n",
              "      <td>0</td>\n",
              "      <td>0</td>\n",
              "      <td>60</td>\n",
              "      <td>United-States</td>\n",
              "      <td>&gt;50K</td>\n",
              "    </tr>\n",
              "    <tr>\n",
              "      <th>30502</th>\n",
              "      <td>60</td>\n",
              "      <td>Private</td>\n",
              "      <td>198727</td>\n",
              "      <td>HS-grad</td>\n",
              "      <td>9</td>\n",
              "      <td>Married-civ-spouse</td>\n",
              "      <td>Prof-specialty</td>\n",
              "      <td>Husband</td>\n",
              "      <td>White</td>\n",
              "      <td>Male</td>\n",
              "      <td>0</td>\n",
              "      <td>0</td>\n",
              "      <td>30</td>\n",
              "      <td>United-States</td>\n",
              "      <td>&lt;=50K</td>\n",
              "    </tr>\n",
              "    <tr>\n",
              "      <th>13701</th>\n",
              "      <td>59</td>\n",
              "      <td>Private</td>\n",
              "      <td>193568</td>\n",
              "      <td>HS-grad</td>\n",
              "      <td>9</td>\n",
              "      <td>Divorced</td>\n",
              "      <td>Machine-op-inspct</td>\n",
              "      <td>Own-child</td>\n",
              "      <td>White</td>\n",
              "      <td>Female</td>\n",
              "      <td>0</td>\n",
              "      <td>0</td>\n",
              "      <td>40</td>\n",
              "      <td>United-States</td>\n",
              "      <td>&lt;=50K</td>\n",
              "    </tr>\n",
              "    <tr>\n",
              "      <th>12548</th>\n",
              "      <td>32</td>\n",
              "      <td>Private</td>\n",
              "      <td>349365</td>\n",
              "      <td>Some-college</td>\n",
              "      <td>10</td>\n",
              "      <td>Married-civ-spouse</td>\n",
              "      <td>Sales</td>\n",
              "      <td>Husband</td>\n",
              "      <td>Black</td>\n",
              "      <td>Male</td>\n",
              "      <td>0</td>\n",
              "      <td>0</td>\n",
              "      <td>65</td>\n",
              "      <td>United-States</td>\n",
              "      <td>&lt;=50K</td>\n",
              "    </tr>\n",
              "  </tbody>\n",
              "</table>\n",
              "</div>"
            ],
            "text/plain": [
              "       age workclass  fnlwgt  ... hours-per-week         country  salary\n",
              "1566    29   Private  111900  ...             40   United-States   <=50K\n",
              "22996   27   Private  329426  ...             37   United-States   <=50K\n",
              "20414   58   Private   56331  ...             40   United-States   <=50K\n",
              "12757   34   Private  236318  ...             40   United-States   <=50K\n",
              "13919   35   Private  176279  ...             30   United-States   <=50K\n",
              "20985   27   Private  194690  ...             50          Mexico   <=50K\n",
              "15870   36   Private  272944  ...             60   United-States    >50K\n",
              "30502   60   Private  198727  ...             30   United-States   <=50K\n",
              "13701   59   Private  193568  ...             40   United-States   <=50K\n",
              "12548   32   Private  349365  ...             65   United-States   <=50K\n",
              "\n",
              "[10 rows x 15 columns]"
            ]
          },
          "metadata": {
            "tags": []
          },
          "execution_count": 25
        }
      ]
    },
    {
      "cell_type": "code",
      "metadata": {
        "id": "PZtGQGH-poHS",
        "colab_type": "code",
        "colab": {
          "base_uri": "https://localhost:8080/",
          "height": 289
        },
        "outputId": "e9641b1c-599b-4a2b-af3b-c322408b622b"
      },
      "source": [
        "adults.dtypes"
      ],
      "execution_count": 26,
      "outputs": [
        {
          "output_type": "execute_result",
          "data": {
            "text/plain": [
              "age                int64\n",
              "workclass         object\n",
              "fnlwgt             int64\n",
              "education         object\n",
              "education-num      int64\n",
              "marital-status    object\n",
              "occupation        object\n",
              "relationship      object\n",
              "race              object\n",
              "sex               object\n",
              "capital-gain       int64\n",
              "capital-loss       int64\n",
              "hours-per-week     int64\n",
              "country           object\n",
              "salary            object\n",
              "dtype: object"
            ]
          },
          "metadata": {
            "tags": []
          },
          "execution_count": 26
        }
      ]
    },
    {
      "cell_type": "code",
      "metadata": {
        "id": "KW_UuoGyxEAk",
        "colab_type": "code",
        "colab": {}
      },
      "source": [
        "# adults['sex'] = adults['sex'].replace({' Male':0, ' Female':1}).astype(int)"
      ],
      "execution_count": 0,
      "outputs": []
    },
    {
      "cell_type": "code",
      "metadata": {
        "id": "1-ZDZzwZo9EO",
        "colab_type": "code",
        "colab": {
          "base_uri": "https://localhost:8080/",
          "height": 34
        },
        "outputId": "8e6c610c-eed9-4920-cfce-958f81aba61e"
      },
      "source": [
        "# FREQUENTIST APPROACH\n",
        "# calculate a 95% confidence interval on either side of this.\n",
        "\n",
        "conf_freq = stats.t.interval(0.95, # alpha (ie, confidence level)\n",
        "                            adults.shape[0], # Length of sample\n",
        "                            loc = adults['education-num'].mean(), # sample mean\n",
        "                            scale = stats.sem(adults['education-num']) # std error of the mean\n",
        "                            )\n",
        "conf_freq"
      ],
      "execution_count": 16,
      "outputs": [
        {
          "output_type": "execute_result",
          "data": {
            "text/plain": [
              "(10.052734093700373, 10.108624586929828)"
            ]
          },
          "metadata": {
            "tags": []
          },
          "execution_count": 16
        }
      ]
    },
    {
      "cell_type": "code",
      "metadata": {
        "id": "JsSS1PZvoars",
        "colab_type": "code",
        "colab": {
          "base_uri": "https://localhost:8080/",
          "height": 34
        },
        "outputId": "8ceab932-5f4f-4d55-d7bb-21ffcac6818a"
      },
      "source": [
        "# BAYESIAN APPROACH\n",
        "conf_bayes = stats.bayes_mvs(adults['education-num'], alpha = 0.95)[0][1] \n",
        "conf_bayes"
      ],
      "execution_count": 18,
      "outputs": [
        {
          "output_type": "execute_result",
          "data": {
            "text/plain": [
              "(10.0527355615954, 10.108623119034801)"
            ]
          },
          "metadata": {
            "tags": []
          },
          "execution_count": 18
        }
      ]
    },
    {
      "cell_type": "code",
      "metadata": {
        "id": "aCM7kBSPvFgk",
        "colab_type": "code",
        "colab": {
          "base_uri": "https://localhost:8080/",
          "height": 265
        },
        "outputId": "ea1aaa2c-1b20-4411-b4d6-0d81a0312c3b"
      },
      "source": [
        "# plot on graph with kernel density \n",
        "plt.xlim(10, 11);\n",
        "\n",
        "sns.kdeplot(adults['education-num']);\n",
        "plt.axvline(x=conf_freq[0], color = 'red');\n",
        "plt.axvline(x=conf_freq[1], color = 'red');\n",
        "plt.axvline(x=np.mean(adults['education-num']), color = 'k');\n",
        "\n",
        "sns.kdeplot(adults['education-num']);\n",
        "plt.axvline(x=conf_bayes[0], color = 'green');\n",
        "plt.axvline(x=conf_bayes[1], color = 'green');\n",
        "plt.axvline(x=np.mean(adults['education-num']), color = 'k');"
      ],
      "execution_count": 19,
      "outputs": [
        {
          "output_type": "display_data",
          "data": {
            "image/png": "[encoded data removed]",
            "text/plain": [
              "<Figure size 432x288 with 1 Axes>"
            ]
          },
          "metadata": {
            "tags": []
          }
        }
      ]
    },
    {
      "cell_type": "code",
      "metadata": {
        "id": "mxoeDWhipgCw",
        "colab_type": "code",
        "colab": {
          "base_uri": "https://localhost:8080/",
          "height": 265
        },
        "outputId": "aa24aac9-9ea7-4e53-b901-298caa554a6b"
      },
      "source": [
        "# plot on graph with kernel density estimate\n",
        "sns.kdeplot(adults['education-num']);\n",
        "plt.axvline(x=conf_freq[0], color = 'red');\n",
        "plt.axvline(x=conf_freq[1], color = 'red');\n",
        "plt.axvline(x=np.mean(adults['education-num']), color = 'k');\n",
        "\n",
        "sns.kdeplot(adults['education-num']);\n",
        "plt.axvline(x=conf_bayes[0], color = 'green');\n",
        "plt.axvline(x=conf_bayes[1], color = 'green');\n",
        "plt.axvline(x=np.mean(adults['education-num']), color = 'k');"
      ],
      "execution_count": 20,
      "outputs": [
        {
          "output_type": "display_data",
          "data": {
            "image/png": "[encoded data removed]",
            "text/plain": [
              "<Figure size 432x288 with 1 Axes>"
            ]
          },
          "metadata": {
            "tags": []
          }
        }
      ]
    },
    {
      "cell_type": "markdown",
      "metadata": {
        "id": "cfD2tbWn0onU",
        "colab_type": "text"
      },
      "source": [
        "###**Using stats.bayes_mvs to create a 3-D graph**"
      ]
    },
    {
      "cell_type": "code",
      "metadata": {
        "id": "WWDAWG9UvqXP",
        "colab_type": "code",
        "colab": {
          "base_uri": "https://localhost:8080/",
          "height": 68
        },
        "outputId": "7f1dcc95-1323-43e1-dfbb-3907107565b5"
      },
      "source": [
        "mean1, var1, std1 = stats.bayes_mvs(adults['education-num'], 0.95) \n",
        "print('mean', mean1)\n",
        "print('var', var1)\n",
        "print('std', std1)"
      ],
      "execution_count": 21,
      "outputs": [
        {
          "output_type": "stream",
          "text": [
            "mean Mean(statistic=10.0806793403151, minmax=(10.0527355615954, 10.108623119034801))\n",
            "var Variance(statistic=6.6186866304165175, minmax=(6.517018218205304, 6.720355042627731))\n",
            "std Std_dev(statistic=2.5726808256012865, minmax=(2.55292159017661, 2.5924400610259632))\n"
          ],
          "name": "stdout"
        }
      ]
    },
    {
      "cell_type": "code",
      "metadata": {
        "id": "-UkXaT2ewjUi",
        "colab_type": "code",
        "colab": {
          "base_uri": "https://localhost:8080/",
          "height": 68
        },
        "outputId": "0b336f88-4a31-49ac-f806-b6b281e08b21"
      },
      "source": [
        "mean1, var1, std1 = stats.bayes_mvs(adults['age'], 0.95) \n",
        "print('mean', mean1)\n",
        "print('var', var1)\n",
        "print('std', std1)"
      ],
      "execution_count": 22,
      "outputs": [
        {
          "output_type": "stream",
          "text": [
            "mean Mean(statistic=38.58164675532078, minmax=(38.433490259580736, 38.72980325106083))\n",
            "var Variance(statistic=186.05568600783081, minmax=(183.19771927884943, 188.9136527368122))\n",
            "std Std_dev(statistic=13.640223092304275, minmax=(13.535460629489652, 13.744985555118898))\n"
          ],
          "name": "stdout"
        }
      ]
    },
    {
      "cell_type": "code",
      "metadata": {
        "id": "i7-fFjVxwvIw",
        "colab_type": "code",
        "colab": {
          "base_uri": "https://localhost:8080/",
          "height": 606
        },
        "outputId": "183b63f5-e241-430b-9508-a79031e92a77"
      },
      "source": [
        "plt.figure(figsize=(15, 10))\n",
        "sns.barplot(adults['education-num'], adults['age'], hue=adults['sex']);\n",
        "plt.legend(loc = 'upper right');"
      ],
      "execution_count": 33,
      "outputs": [
        {
          "output_type": "display_data",
          "data": {
            "image/png": "[encoded data removed]",
            "text/plain": [
              "<Figure size 1080x720 with 1 Axes>"
            ]
          },
          "metadata": {
            "tags": []
          }
        }
      ]
    },
    {
      "cell_type": "markdown",
      "metadata": {
        "id": "tRLMBGixgiVY",
        "colab_type": "text"
      },
      "source": [
        "#**3) In your own words, summarize the difference between Bayesian and Frequentist statistics**"
      ]
    },
    {
      "cell_type": "code",
      "metadata": {
        "id": "7tEapIzIgl4G",
        "colab_type": "code",
        "colab": {}
      },
      "source": [
        "#Bayes Function\n",
        "def prob_drunk_given_positive(prob_drunk_prior, false_positive_rate, true_positive_rate):\n",
        "  prior_drunk = []\n",
        "  for i in range (0, 20):\n",
        "    prob_drunk_prior = (true_positive_rate * prob_drunk_prior)/((true_positive_rate * prob_drunk_prior) + (false_positive_rate)*(1-prob_drunk_prior))\n",
        "    prior_drunk.append(prob_drunk_prior)      \n",
        "  return prior_drunk"
      ],
      "execution_count": 0,
      "outputs": []
    },
    {
      "cell_type": "code",
      "metadata": {
        "id": "9_QHBdPlgtkS",
        "colab_type": "code",
        "colab": {}
      },
      "source": [
        "#Frequentist Approach\n",
        "def frequentist (positive,false_positive):\n",
        "  prior_drunk = []\n",
        "  for i in range (0, 20):\n",
        "    positive_drunk = positive - false_positive**(i)\n",
        "    prior_drunk.append(positive_drunk)\n",
        "  return prior_drunk"
      ],
      "execution_count": 0,
      "outputs": []
    },
    {
      "cell_type": "code",
      "metadata": {
        "id": "t031dXcpfXFH",
        "colab_type": "code",
        "colab": {}
      },
      "source": [
        "bayesian = prob_drunk_given_positive(.001, 0.08, 1)\n",
        "frequentist = frequentist(1, .08)"
      ],
      "execution_count": 0,
      "outputs": []
    },
    {
      "cell_type": "code",
      "metadata": {
        "id": "HIoUzwBBfhXJ",
        "colab_type": "code",
        "outputId": "68b847c8-db63-45f0-ff48-7513b6dd7b50",
        "colab": {
          "base_uri": "https://localhost:8080/",
          "height": 357
        }
      },
      "source": [
        "bayesian"
      ],
      "execution_count": 37,
      "outputs": [
        {
          "output_type": "execute_result",
          "data": {
            "text/plain": [
              "[0.012357884330202669,\n",
              " 0.13525210993291495,\n",
              " 0.6615996951348605,\n",
              " 0.9606895076105054,\n",
              " 0.9967371577896734,\n",
              " 0.9997381867081508,\n",
              " 0.9999790498904363,\n",
              " 0.9999983239589307,\n",
              " 0.9999998659165077,\n",
              " 0.9999999892733192,\n",
              " 0.9999999991418655,\n",
              " 0.9999999999313492,\n",
              " 0.999999999994508,\n",
              " 0.9999999999995607,\n",
              " 0.9999999999999648,\n",
              " 0.9999999999999972,\n",
              " 0.9999999999999998,\n",
              " 1.0,\n",
              " 1.0,\n",
              " 1.0]"
            ]
          },
          "metadata": {
            "tags": []
          },
          "execution_count": 37
        }
      ]
    },
    {
      "cell_type": "code",
      "metadata": {
        "id": "2pL9GHeZfjY6",
        "colab_type": "code",
        "outputId": "862ad75f-23b8-4b35-a8e7-ee5691f3cfaa",
        "colab": {
          "base_uri": "https://localhost:8080/",
          "height": 357
        }
      },
      "source": [
        "frequentist"
      ],
      "execution_count": 38,
      "outputs": [
        {
          "output_type": "execute_result",
          "data": {
            "text/plain": [
              "[0.0,\n",
              " 0.92,\n",
              " 0.9936,\n",
              " 0.999488,\n",
              " 0.99995904,\n",
              " 0.9999967232,\n",
              " 0.999999737856,\n",
              " 0.99999997902848,\n",
              " 0.9999999983222784,\n",
              " 0.9999999998657823,\n",
              " 0.9999999999892626,\n",
              " 0.999999999999141,\n",
              " 0.9999999999999313,\n",
              " 0.9999999999999944,\n",
              " 0.9999999999999996,\n",
              " 1.0,\n",
              " 1.0,\n",
              " 1.0,\n",
              " 1.0,\n",
              " 1.0]"
            ]
          },
          "metadata": {
            "tags": []
          },
          "execution_count": 38
        }
      ]
    },
    {
      "cell_type": "code",
      "metadata": {
        "id": "ks8Lfhhqfxbx",
        "colab_type": "code",
        "outputId": "8f48608e-fe23-4d11-99ce-6230bb48e4e2",
        "colab": {
          "base_uri": "https://localhost:8080/",
          "height": 404
        }
      },
      "source": [
        "fig, ax = plt.subplots(figsize=(10, 6))\n",
        "\n",
        "ax.plot(bayesian, label='Bayesian')\n",
        "ax.plot(frequentist, label='Frequentist')\n",
        "ax.set_ylabel('Drunkeness')\n",
        "ax.set_xlabel('Number of Tests')\n",
        "ax.set_title('Bayesian vs. Frequentist Probability for Breathalyzer Tests')\n",
        "ax.set_xlim(0,5)\n",
        "ax.legend()\n",
        "plt.show()"
      ],
      "execution_count": 39,
      "outputs": [
        {
          "output_type": "display_data",
          "data": {
            "image/png": "[encoded data removed]",
            "text/plain": [
              "<Figure size 720x432 with 1 Axes>"
            ]
          },
          "metadata": {
            "tags": []
          }
        }
      ]
    },
    {
      "cell_type": "markdown",
      "metadata": {
        "id": "bt91kxpngpLK",
        "colab_type": "text"
      },
      "source": [
        "The difference between **Bayesian and Frequentist** is what constitutes a probability. **Frequentists** believe only repeatable random events have probabilities. **Bayesian statisticians** update their posterior (prior beliefs) based on the likelihood of an event and prior probability. \n"
      ]
    },
    {
      "cell_type": "markdown",
      "metadata": {
        "id": "uWgWjp3PQ3Sq",
        "colab_type": "text"
      },
      "source": [
        "## Resources"
      ]
    },
    {
      "cell_type": "markdown",
      "metadata": {
        "id": "QRgHqmYIQ9qn",
        "colab_type": "text"
      },
      "source": [
        "- [Worked example of Bayes rule calculation](https://en.wikipedia.org/wiki/Bayes'_theorem#Examples) (helpful as it fully breaks out the denominator)\n",
        "- [Source code for mvsdist in scipy](https://github.com/scipy/scipy/blob/90534919e139d2a81c24bf08341734ff41a3db12/scipy/stats/morestats.py#L139)"
      ]
    },
    {
      "cell_type": "markdown",
      "metadata": {
        "id": "GP7Jv1XvwtkX",
        "colab_type": "text"
      },
      "source": [
        "## Stretch Goals:\n",
        "\n",
        "- Go back and study the content from Modules 1 & 2 to make sure that you're really comfortable with them.\n",
        "- Apply a Bayesian technique to a problem you previously worked (in an assignment or project work) on from a frequentist (standard) perspective\n",
        "- Check out [PyMC3](https://docs.pymc.io/) (note this goes beyond hypothesis tests into modeling) - read the guides and work through some examples\n",
        "- Take PyMC3 further - see if you can build something with it!"
      ]
    },
    {
      "cell_type": "code",
      "metadata": {
        "id": "iDi0eFr1x-v_",
        "colab_type": "code",
        "colab": {}
      },
      "source": [
        ""
      ],
      "execution_count": 0,
      "outputs": []
    }
  ]
}