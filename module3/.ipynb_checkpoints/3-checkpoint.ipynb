{
 "cells": [
  {
   "cell_type": "markdown",
   "metadata": {
    "colab_type": "text",
    "id": "view-in-github"
   },
   "source": [
    "<a href=\"https://colab.research.google.com/github/ryanleeallred/DS-Unit-1-Sprint-2-Statistics/blob/master/module3/LS_DS_123_Introduction_to_Bayesian_Inference_Assignment.ipynb\" target=\"_parent\"><img src=\"https://colab.research.google.com/assets/colab-badge.svg\" alt=\"Open In Colab\"/></a>"
   ]
  },
  {
   "cell_type": "markdown",
   "metadata": {
    "colab_type": "text",
    "id": "H7OLbevlbd_Z"
   },
   "source": [
    "# Lambda School Data Science Module 123\n",
    "\n",
    "## Introduction to Bayesian Inference\n",
    "\n",
    "\n"
   ]
  },
  {
   "cell_type": "markdown",
   "metadata": {
    "colab_type": "text",
    "id": "P-DzzRk5bf0z"
   },
   "source": [
    "## Assignment - Code it up!\n",
    "\n",
    "We used pure math to apply Bayes Theorem to drug tests. Now write Python code to reproduce the results! This is purposefully open ended - you'll have to think about how you should represent probabilities and events. You can and should look things up.\n",
    "\n",
    "Specific goals/targets:\n",
    "\n",
    "### 1) Write a function \n",
    "\n",
    "`def prob_drunk_given_positive(prob_drunk_prior, false_positive_rate, true_positive_rate):` \n",
    "\n",
    "You should only truly need these two values in order to apply Bayes Theorem. In this example, imagine that individuals are taking a breathalyzer test with an 8% false positive rate, a 100% true positive rate, and that our prior belief about drunk driving in the population is 1/1000. \n",
    " - What is the probability that a person is drunk after one positive breathalyzer test?\n",
    " - What is the probability that a person is drunk after two positive breathalyzer tests?\n",
    " - How many positive breathalyzer tests are needed in order to have a probability that's greater than 95% that a person is drunk beyond the legal limit?\n",
    "\n",
    "### 2) Explore `scipy.stats.bayes_mvs`  \n",
    "Read its documentation, and experiment with it on data you've tested in other ways earlier this week.\n",
    " - Create a visualization comparing the results of a Bayesian approach to a traditional/frequentist approach. (with a large sample size they should look close to identical, however, take this opportunity to practice visualizing condfidence intervals in general. The following are some potential ways that you could visualize confidence intervals on your graph:\n",
    "  - [Matplotlib Error Bars](https://matplotlib.org/3.1.1/api/_as_gen/matplotlib.pyplot.errorbar.html)\n",
    "  - [Seaborn barplot with error bars](https://seaborn.pydata.org/generated/seaborn.barplot.html)\n",
    "  - [Vertical ines to show bounds of confidence interval](https://www.simplypsychology.org/confidence-interval.jpg)\n",
    "  - [Confidence Intervals on Box Plots](https://matplotlib.org/3.1.1/api/_as_gen/matplotlib.axes.Axes.boxplot.html)\n",
    "\n",
    "### 3) In your own words, summarize the difference between Bayesian and Frequentist statistics\n",
    "\n",
    "If you're unsure where to start, check out [this blog post of Bayes theorem with Python](https://dataconomy.com/2015/02/introduction-to-bayes-theorem-with-python/).\n",
    "\n"
   ]
  },
  {
   "cell_type": "code",
   "execution_count": 1,
   "metadata": {
    "colab": {},
    "colab_type": "code",
    "id": "xpVhZyUnbf7o"
   },
   "outputs": [
    {
     "data": {
      "text/plain": [
       "12.357884330202669"
      ]
     },
     "execution_count": 1,
     "metadata": {},
     "output_type": "execute_result"
    }
   ],
   "source": [
    "# 1  #implement bayes in python function \n",
    "\n",
    "def prob_drunk_given_positive(prob_drunk_prior, false_positive_rate, true_positive_rate):\n",
    "    return (true_positive_rate )/((true_positive_rate * prob_drunk_prior) + (false_positive_rate * (1-prob_drunk_prior)))\n",
    "\n",
    "r = prob_drunk_given_positive(0.001, .08 , 1)\n",
    "r"
   ]
  },
  {
   "cell_type": "code",
   "execution_count": 15,
   "metadata": {},
   "outputs": [
    {
     "name": "stdout",
     "output_type": "stream",
     "text": [
      "6.236179720391484 <= wow!, busted.. moral of the story: \n",
      " \t \t\t if you take a breathalizer and test positive 1x stop while you're ahead!\n",
      "2  tests are sufficient to obtain a result that is 95% likely to be right \n"
     ]
    }
   ],
   "source": [
    "# answer the questions\n",
    "prob_drunk_prior = 0.001   # P(drunk) #P(sober) = .999\n",
    "false_positive_rate =  0.08  # P(pos | not drunk)\n",
    "true_positive_rate = 1    # this is P(pos | drunk)  \n",
    "\n",
    "result1 = prob_drunk_given_positive(prob_drunk_prior, false_positive_rate, true_positive_rate)\n",
    "\n",
    "# \"What is the probability that a person is drunk after one positive breathalyzer test?: \"\n",
    "\n",
    "result2 = prob_drunk_given_positive(result1, false_positive_rate, true_positive_rate)\n",
    "# What is the probability that a person is drunk after two positive breathalyzer tests?\n",
    "result2\n",
    "result3 = prob_drunk_given_positive(result2, false_positive_rate, true_positive_rate)\n",
    "print(result3,\"<= wow!, busted.. moral of the story: \\n \\t \\t\\t if you take a breathalizer and test positive 1x stop while you're ahead!\")\n",
    "# How many positive breathalyzer tests are needed in order to have a probability that's greater than 95% that a person is drunk beyond the legal limit?\n",
    "  # 3 positive tests are sufficient\n",
    "\n",
    "def drunk_ntests(p, fp, tp, numtests=1)\n",
    "    \n",
    "    prior  = p #setup\n",
    "    i = 1 \n",
    "    while i <= numtests:\n",
    "         prior = prob_drunk_given_positive(prior, false_positive_rate, true_positive_rate)\n",
    "         i += 1\n",
    "    return (prior, numtests)\n",
    "\n",
    "df/ \n",
    "print(numtests, ' tests are sufficient to obtain a result that is 95% likely to be right ')"
   ]
  },
  {
   "cell_type": "code",
   "execution_count": 13,
   "metadata": {},
   "outputs": [
    {
     "data": {
      "text/plain": [
       "-0.09643895695285312"
      ]
     },
     "execution_count": 13,
     "metadata": {},
     "output_type": "execute_result"
    }
   ],
   "source": [
    "#whats the prob that you are drunk after testing positive and then negative \n",
    "prob_drunk_given_positive(1-result1 , false_positive_rate, true_positive_rate)"
   ]
  },
  {
   "cell_type": "code",
   "execution_count": 17,
   "metadata": {},
   "outputs": [
    {
     "ename": "NameError",
     "evalue": "name 'data' is not defined",
     "output_type": "error",
     "traceback": [
      "\u001b[0;31m---------------------------------------------------------------------------\u001b[0m",
      "\u001b[0;31mNameError\u001b[0m                                 Traceback (most recent call last)",
      "\u001b[0;32m<ipython-input-17-ce46afcf490f>\u001b[0m in \u001b[0;36m<module>\u001b[0;34m\u001b[0m\n\u001b[1;32m      1\u001b[0m \u001b[0;32mfrom\u001b[0m \u001b[0mscipy\u001b[0m \u001b[0;32mimport\u001b[0m \u001b[0mstats\u001b[0m \u001b[0;32mas\u001b[0m \u001b[0mst\u001b[0m\u001b[0;34m\u001b[0m\u001b[0;34m\u001b[0m\u001b[0m\n\u001b[1;32m      2\u001b[0m \u001b[0;34m\u001b[0m\u001b[0m\n\u001b[0;32m----> 3\u001b[0;31m \u001b[0mst\u001b[0m\u001b[0;34m.\u001b[0m\u001b[0mbayes_mvs\u001b[0m\u001b[0;34m(\u001b[0m\u001b[0mdata\u001b[0m\u001b[0;34m,\u001b[0m \u001b[0malpha\u001b[0m\u001b[0;34m=\u001b[0m\u001b[0;36m0.9\u001b[0m\u001b[0;34m)\u001b[0m\u001b[0;34m\u001b[0m\u001b[0;34m\u001b[0m\u001b[0m\n\u001b[0m",
      "\u001b[0;31mNameError\u001b[0m: name 'data' is not defined"
     ]
    }
   ],
   "source": [
    "from scipy import stats as st\n",
    "data= \n",
    "st.bayes_mvs(data, alpha=0.9)\n"
   ]
  },
  {
   "cell_type": "markdown",
   "metadata": {
    "colab_type": "text",
    "id": "uWgWjp3PQ3Sq"
   },
   "source": [
    "## Resources"
   ]
  },
  {
   "cell_type": "markdown",
   "metadata": {
    "colab_type": "text",
    "id": "QRgHqmYIQ9qn"
   },
   "source": [
    "- [Worked example of Bayes rule calculation](https://en.wikipedia.org/wiki/Bayes'_theorem#Examples) (helpful as it fully breaks out the denominator)\n",
    "- [Source code for mvsdist in scipy](https://github.com/scipy/scipy/blob/90534919e139d2a81c24bf08341734ff41a3db12/scipy/stats/morestats.py#L139)"
   ]
  },
  {
   "cell_type": "markdown",
   "metadata": {
    "colab_type": "text",
    "id": "GP7Jv1XvwtkX"
   },
   "source": [
    "## Stretch Goals:\n",
    "\n",
    "- Go back and study the content from Modules 1 & 2 to make sure that you're really comfortable with them.\n",
    "- Apply a Bayesian technique to a problem you previously worked (in an assignment or project work) on from a frequentist (standard) perspective\n",
    "- Check out [PyMC3](https://docs.pymc.io/) (note this goes beyond hypothesis tests into modeling) - read the guides and work through some examples\n",
    "- Take PyMC3 further - see if you can build something with it!"
   ]
  },
  {
   "cell_type": "code",
   "execution_count": null,
   "metadata": {
    "colab": {},
    "colab_type": "code",
    "id": "iDi0eFr1x-v_"
   },
   "outputs": [],
   "source": []
  }
 ],
 "metadata": {
  "colab": {
   "include_colab_link": true,
   "name": "LS_DS_123_Introduction_to_Bayesian_Inference_Assignment.ipynb",
   "provenance": []
  },
  "kernelspec": {
   "display_name": "Python 3",
   "language": "python",
   "name": "python3"
  },
  "language_info": {
   "codemirror_mode": {
    "name": "ipython",
    "version": 3
   },
   "file_extension": ".py",
   "mimetype": "text/x-python",
   "name": "python",
   "nbconvert_exporter": "python",
   "pygments_lexer": "ipython3",
   "version": "3.7.4"
  }
 },
 "nbformat": 4,
 "nbformat_minor": 1
}
