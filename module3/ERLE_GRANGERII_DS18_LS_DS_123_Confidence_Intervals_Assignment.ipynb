{
  "nbformat": 4,
  "nbformat_minor": 0,
  "metadata": {
    "colab": {
      "name": "ERLE_GRANGERII_DS18_LS_DS_123_Confidence_Intervals_Assignment.ipynb",
      "provenance": [],
      "collapsed_sections": [],
      "include_colab_link": true
    },
    "kernelspec": {
      "name": "python3",
      "display_name": "Python 3"
    }
  },
  "cells": [
    {
      "cell_type": "markdown",
      "metadata": {
        "id": "view-in-github",
        "colab_type": "text"
      },
      "source": [
        "<a href=\"https://colab.research.google.com/github/ilEnzio/DS-Unit-1-Sprint-2-Statistics/blob/master/module3/ERLE_GRANGERII_DS18_LS_DS_123_Confidence_Intervals_Assignment.ipynb\" target=\"_parent\"><img src=\"https://colab.research.google.com/assets/colab-badge.svg\" alt=\"Open In Colab\"/></a>"
      ]
    },
    {
      "cell_type": "markdown",
      "metadata": {
        "id": "g_c3L9CeANiJ",
        "colab_type": "text"
      },
      "source": [
        "## Confidence Intervals\n",
        "\n",
        "The following url can be used to access an abbreviated version of responses to Stack Overflow's 2018 Developer Survey. The original Survey had ~100k respondents but the data is quite dirty so I have selected a cleaner subset of it for you to use for your assignment.\n",
        "\n",
        "<https://raw.githubusercontent.com/ryanleeallred/datasets/master/bootcampers.csv>\n",
        "\n",
        "The provided dataset holds 14 columns of information about individuals who make less than 500k per year and who responded that they had: \n",
        "\n",
        "\"Participated in a full-time developer training program or bootcamp\"\n",
        "\n",
        "## Part 1 - Setting the Stage\n",
        "\n",
        "**1) Load the dataset**"
      ]
    },
    {
      "cell_type": "code",
      "metadata": {
        "id": "yXwMJQGrAIbO",
        "colab_type": "code",
        "colab": {}
      },
      "source": [
        "# import libraries\n",
        "import pandas as pd\n",
        "import numpy as np \n",
        "import matplotlib.pyplot as plt"
      ],
      "execution_count": 100,
      "outputs": []
    },
    {
      "cell_type": "code",
      "metadata": {
        "id": "qLxAR2cW4-ak",
        "colab_type": "code",
        "colab": {
          "base_uri": "https://localhost:8080/",
          "height": 997
        },
        "outputId": "f48cac2a-2e79-47ba-fac8-26d4646b207f"
      },
      "source": [
        "# load in dataset\n",
        "boot_campers_df = pd.read_csv(\"https://raw.githubusercontent.com/ryanleeallred/datasets/master/bootcampers.csv\")\n",
        "boot_campers_df"
      ],
      "execution_count": 101,
      "outputs": [
        {
          "output_type": "execute_result",
          "data": {
            "text/html": [
              "<div>\n",
              "<style scoped>\n",
              "    .dataframe tbody tr th:only-of-type {\n",
              "        vertical-align: middle;\n",
              "    }\n",
              "\n",
              "    .dataframe tbody tr th {\n",
              "        vertical-align: top;\n",
              "    }\n",
              "\n",
              "    .dataframe thead th {\n",
              "        text-align: right;\n",
              "    }\n",
              "</style>\n",
              "<table border=\"1\" class=\"dataframe\">\n",
              "  <thead>\n",
              "    <tr style=\"text-align: right;\">\n",
              "      <th></th>\n",
              "      <th>Unnamed: 0</th>\n",
              "      <th>Student</th>\n",
              "      <th>Employment</th>\n",
              "      <th>UndergradMajor</th>\n",
              "      <th>DevType</th>\n",
              "      <th>YearsCoding</th>\n",
              "      <th>YearsCodingProf</th>\n",
              "      <th>ConvertedSalary</th>\n",
              "      <th>EducationTypes</th>\n",
              "      <th>SelfTaughtTypes</th>\n",
              "      <th>TimeAfterBootcamp</th>\n",
              "      <th>LanguageWorkedWith</th>\n",
              "      <th>Gender</th>\n",
              "      <th>Age</th>\n",
              "      <th>RaceEthnicity</th>\n",
              "    </tr>\n",
              "  </thead>\n",
              "  <tbody>\n",
              "    <tr>\n",
              "      <th>0</th>\n",
              "      <td>62</td>\n",
              "      <td>No</td>\n",
              "      <td>Employed full-time</td>\n",
              "      <td>Computer science, computer engineering, or sof...</td>\n",
              "      <td>Back-end developer;Data scientist or machine l...</td>\n",
              "      <td>12-14 years</td>\n",
              "      <td>6-8 years</td>\n",
              "      <td>120000.0</td>\n",
              "      <td>Taken an online course in programming or softw...</td>\n",
              "      <td>The official documentation and/or standards fo...</td>\n",
              "      <td>I already had a full-time job as a developer w...</td>\n",
              "      <td>C;F#;Haskell;Python;Scala</td>\n",
              "      <td>Male</td>\n",
              "      <td>25 - 34 years old</td>\n",
              "      <td>White or of European descent</td>\n",
              "    </tr>\n",
              "    <tr>\n",
              "      <th>1</th>\n",
              "      <td>73</td>\n",
              "      <td>No</td>\n",
              "      <td>Employed full-time</td>\n",
              "      <td>A humanities discipline (ex. literature, histo...</td>\n",
              "      <td>Back-end developer;Full-stack developer;System...</td>\n",
              "      <td>0-2 years</td>\n",
              "      <td>0-2 years</td>\n",
              "      <td>36000.0</td>\n",
              "      <td>Participated in a full-time developer training...</td>\n",
              "      <td>The official documentation and/or standards fo...</td>\n",
              "      <td>Four to six months</td>\n",
              "      <td>Java;JavaScript;SQL;HTML;CSS;Bash/Shell</td>\n",
              "      <td>Male</td>\n",
              "      <td>25 - 34 years old</td>\n",
              "      <td>White or of European descent</td>\n",
              "    </tr>\n",
              "    <tr>\n",
              "      <th>2</th>\n",
              "      <td>127</td>\n",
              "      <td>Yes, full-time</td>\n",
              "      <td>Employed full-time</td>\n",
              "      <td>A business discipline (ex. accounting, finance...</td>\n",
              "      <td>Full-stack developer</td>\n",
              "      <td>3-5 years</td>\n",
              "      <td>3-5 years</td>\n",
              "      <td>59980.0</td>\n",
              "      <td>Taken an online course in programming or softw...</td>\n",
              "      <td>The official documentation and/or standards fo...</td>\n",
              "      <td>One to three months</td>\n",
              "      <td>C#;JavaScript;TypeScript;HTML;CSS</td>\n",
              "      <td>Male</td>\n",
              "      <td>25 - 34 years old</td>\n",
              "      <td>East Asian</td>\n",
              "    </tr>\n",
              "    <tr>\n",
              "      <th>3</th>\n",
              "      <td>140</td>\n",
              "      <td>No</td>\n",
              "      <td>Employed full-time</td>\n",
              "      <td>A social science (ex. anthropology, psychology...</td>\n",
              "      <td>Data scientist or machine learning specialist;...</td>\n",
              "      <td>9-11 years</td>\n",
              "      <td>3-5 years</td>\n",
              "      <td>70000.0</td>\n",
              "      <td>Taken an online course in programming or softw...</td>\n",
              "      <td>Questions &amp; answers on Stack Overflow;Tapping ...</td>\n",
              "      <td>I haven’t gotten a developer job</td>\n",
              "      <td>JavaScript;Python;SQL;VBA</td>\n",
              "      <td>Male</td>\n",
              "      <td>25 - 34 years old</td>\n",
              "      <td>White or of European descent</td>\n",
              "    </tr>\n",
              "    <tr>\n",
              "      <th>4</th>\n",
              "      <td>153</td>\n",
              "      <td>No</td>\n",
              "      <td>Employed full-time</td>\n",
              "      <td>Computer science, computer engineering, or sof...</td>\n",
              "      <td>Mobile developer</td>\n",
              "      <td>6-8 years</td>\n",
              "      <td>3-5 years</td>\n",
              "      <td>105000.0</td>\n",
              "      <td>Taken an online course in programming or softw...</td>\n",
              "      <td>The official documentation and/or standards fo...</td>\n",
              "      <td>One to three months</td>\n",
              "      <td>C;Java;JavaScript;Objective-C;PHP;Python;Ruby;...</td>\n",
              "      <td>Male</td>\n",
              "      <td>25 - 34 years old</td>\n",
              "      <td>White or of European descent</td>\n",
              "    </tr>\n",
              "    <tr>\n",
              "      <th>...</th>\n",
              "      <td>...</td>\n",
              "      <td>...</td>\n",
              "      <td>...</td>\n",
              "      <td>...</td>\n",
              "      <td>...</td>\n",
              "      <td>...</td>\n",
              "      <td>...</td>\n",
              "      <td>...</td>\n",
              "      <td>...</td>\n",
              "      <td>...</td>\n",
              "      <td>...</td>\n",
              "      <td>...</td>\n",
              "      <td>...</td>\n",
              "      <td>...</td>\n",
              "      <td>...</td>\n",
              "    </tr>\n",
              "    <tr>\n",
              "      <th>2756</th>\n",
              "      <td>86961</td>\n",
              "      <td>No</td>\n",
              "      <td>Not employed, and not looking for work</td>\n",
              "      <td>Computer science, computer engineering, or sof...</td>\n",
              "      <td>Back-end developer;C-suite executive (CEO, CTO...</td>\n",
              "      <td>9-11 years</td>\n",
              "      <td>9-11 years</td>\n",
              "      <td>180000.0</td>\n",
              "      <td>Taken an online course in programming or softw...</td>\n",
              "      <td>Questions &amp; answers on Stack Overflow;Online d...</td>\n",
              "      <td>Four to six months</td>\n",
              "      <td>JavaScript;Python;Ruby;HTML;CSS;Bash/Shell</td>\n",
              "      <td>Male</td>\n",
              "      <td>25 - 34 years old</td>\n",
              "      <td>Middle Eastern</td>\n",
              "    </tr>\n",
              "    <tr>\n",
              "      <th>2757</th>\n",
              "      <td>87004</td>\n",
              "      <td>Yes, full-time</td>\n",
              "      <td>Not employed, and not looking for work</td>\n",
              "      <td>Another engineering discipline (ex. civil, ele...</td>\n",
              "      <td>Full-stack developer;Student</td>\n",
              "      <td>3-5 years</td>\n",
              "      <td>0-2 years</td>\n",
              "      <td>36716.0</td>\n",
              "      <td>Taken an online course in programming or softw...</td>\n",
              "      <td>The official documentation and/or standards fo...</td>\n",
              "      <td>I already had a full-time job as a developer w...</td>\n",
              "      <td>C#;JavaScript;PHP;SQL;TypeScript;Delphi/Object...</td>\n",
              "      <td>Male</td>\n",
              "      <td>25 - 34 years old</td>\n",
              "      <td>White or of European descent</td>\n",
              "    </tr>\n",
              "    <tr>\n",
              "      <th>2758</th>\n",
              "      <td>87054</td>\n",
              "      <td>Yes, part-time</td>\n",
              "      <td>Not employed, but looking for work</td>\n",
              "      <td>Information systems, information technology, o...</td>\n",
              "      <td>Back-end developer;Data or business analyst;Da...</td>\n",
              "      <td>0-2 years</td>\n",
              "      <td>3-5 years</td>\n",
              "      <td>2904.0</td>\n",
              "      <td>Taken an online course in programming or softw...</td>\n",
              "      <td>The official documentation and/or standards fo...</td>\n",
              "      <td>Less than a month</td>\n",
              "      <td>C++;Java;JavaScript;PHP;Python;SQL;HTML;CSS</td>\n",
              "      <td>Male</td>\n",
              "      <td>18 - 24 years old</td>\n",
              "      <td>Hispanic or Latino/Latina</td>\n",
              "    </tr>\n",
              "    <tr>\n",
              "      <th>2759</th>\n",
              "      <td>87070</td>\n",
              "      <td>No</td>\n",
              "      <td>Not employed, but looking for work</td>\n",
              "      <td>A health science (ex. nursing, pharmacy, radio...</td>\n",
              "      <td>Mobile developer</td>\n",
              "      <td>0-2 years</td>\n",
              "      <td>0-2 years</td>\n",
              "      <td>60000.0</td>\n",
              "      <td>Taken an online course in programming or softw...</td>\n",
              "      <td>The official documentation and/or standards fo...</td>\n",
              "      <td>Six months to a year</td>\n",
              "      <td>C;C#;Objective-C;Swift</td>\n",
              "      <td>Male</td>\n",
              "      <td>18 - 24 years old</td>\n",
              "      <td>Black or of African descent</td>\n",
              "    </tr>\n",
              "    <tr>\n",
              "      <th>2760</th>\n",
              "      <td>87131</td>\n",
              "      <td>Yes, full-time</td>\n",
              "      <td>Not employed, but looking for work</td>\n",
              "      <td>Computer science, computer engineering, or sof...</td>\n",
              "      <td>Back-end developer;QA or test developer</td>\n",
              "      <td>0-2 years</td>\n",
              "      <td>0-2 years</td>\n",
              "      <td>1332.0</td>\n",
              "      <td>Taken an online course in programming or softw...</td>\n",
              "      <td>Online developer communities other than Stack ...</td>\n",
              "      <td>I haven’t gotten a developer job</td>\n",
              "      <td>C++;Hack;Python;HTML;CSS</td>\n",
              "      <td>Male</td>\n",
              "      <td>18 - 24 years old</td>\n",
              "      <td>Middle Eastern</td>\n",
              "    </tr>\n",
              "  </tbody>\n",
              "</table>\n",
              "<p>2761 rows × 15 columns</p>\n",
              "</div>"
            ],
            "text/plain": [
              "      Unnamed: 0  ...                 RaceEthnicity\n",
              "0             62  ...  White or of European descent\n",
              "1             73  ...  White or of European descent\n",
              "2            127  ...                    East Asian\n",
              "3            140  ...  White or of European descent\n",
              "4            153  ...  White or of European descent\n",
              "...          ...  ...                           ...\n",
              "2756       86961  ...                Middle Eastern\n",
              "2757       87004  ...  White or of European descent\n",
              "2758       87054  ...     Hispanic or Latino/Latina\n",
              "2759       87070  ...   Black or of African descent\n",
              "2760       87131  ...                Middle Eastern\n",
              "\n",
              "[2761 rows x 15 columns]"
            ]
          },
          "metadata": {
            "tags": []
          },
          "execution_count": 101
        }
      ]
    },
    {
      "cell_type": "code",
      "metadata": {
        "id": "aQWyPaDC6ArH",
        "colab_type": "code",
        "colab": {
          "base_uri": "https://localhost:8080/",
          "height": 35
        },
        "outputId": "c9383b61-9bc6-4bf9-8b97-91c4a199ae0a"
      },
      "source": [
        "boot_campers_df.shape"
      ],
      "execution_count": 102,
      "outputs": [
        {
          "output_type": "execute_result",
          "data": {
            "text/plain": [
              "(2761, 15)"
            ]
          },
          "metadata": {
            "tags": []
          },
          "execution_count": 102
        }
      ]
    },
    {
      "cell_type": "code",
      "metadata": {
        "id": "tiP7bboL7F6y",
        "colab_type": "code",
        "colab": {
          "base_uri": "https://localhost:8080/",
          "height": 294
        },
        "outputId": "0423a61e-da28-47a2-91ae-2a103b991919"
      },
      "source": [
        "boot_campers_df.isnull().sum()"
      ],
      "execution_count": 103,
      "outputs": [
        {
          "output_type": "execute_result",
          "data": {
            "text/plain": [
              "Unnamed: 0            0\n",
              "Student               0\n",
              "Employment            0\n",
              "UndergradMajor        0\n",
              "DevType               0\n",
              "YearsCoding           0\n",
              "YearsCodingProf       0\n",
              "ConvertedSalary       0\n",
              "EducationTypes        0\n",
              "SelfTaughtTypes       0\n",
              "TimeAfterBootcamp     0\n",
              "LanguageWorkedWith    0\n",
              "Gender                0\n",
              "Age                   0\n",
              "RaceEthnicity         0\n",
              "dtype: int64"
            ]
          },
          "metadata": {
            "tags": []
          },
          "execution_count": 103
        }
      ]
    },
    {
      "cell_type": "code",
      "metadata": {
        "id": "P0bcY2Rn7L8t",
        "colab_type": "code",
        "colab": {}
      },
      "source": [
        ""
      ],
      "execution_count": null,
      "outputs": []
    },
    {
      "cell_type": "code",
      "metadata": {
        "id": "pYsFvm1dPygj",
        "colab_type": "code",
        "colab": {}
      },
      "source": [
        ""
      ],
      "execution_count": null,
      "outputs": []
    },
    {
      "cell_type": "markdown",
      "metadata": {
        "id": "wOQ-9E8uYcni",
        "colab_type": "text"
      },
      "source": [
        "**2) Select two random samples from this dataset, one with a sample size of 20 and the other with a sample size of 200. (Use a `random_state` of `42` when selecting the samples)**"
      ]
    },
    {
      "cell_type": "code",
      "metadata": {
        "id": "m1vuFGxVQo64",
        "colab_type": "code",
        "colab": {}
      },
      "source": [
        "# use .sample method to grab a random sample from the df, use a seed of 42\n",
        "boot_c_20sample = boot_campers_df.sample(20, random_state=42)\n",
        "boot_c_200sample = boot_campers_df.sample(200, random_state=42)"
      ],
      "execution_count": 78,
      "outputs": []
    },
    {
      "cell_type": "code",
      "metadata": {
        "id": "qQf7Z0u88JMH",
        "colab_type": "code",
        "colab": {
          "base_uri": "https://localhost:8080/",
          "height": 35
        },
        "outputId": "6ccde0e2-89f0-4848-cd5e-a9ce12d628a1"
      },
      "source": [
        "boot_c_20sample.shape\n"
      ],
      "execution_count": 79,
      "outputs": [
        {
          "output_type": "execute_result",
          "data": {
            "text/plain": [
              "(20, 15)"
            ]
          },
          "metadata": {
            "tags": []
          },
          "execution_count": 79
        }
      ]
    },
    {
      "cell_type": "code",
      "metadata": {
        "id": "qVeLcxm98NbU",
        "colab_type": "code",
        "colab": {
          "base_uri": "https://localhost:8080/",
          "height": 35
        },
        "outputId": "24bf5e8a-1dcc-4310-f53b-eaf00bd2fe13"
      },
      "source": [
        "boot_c_200sample.shape"
      ],
      "execution_count": 80,
      "outputs": [
        {
          "output_type": "execute_result",
          "data": {
            "text/plain": [
              "(200, 15)"
            ]
          },
          "metadata": {
            "tags": []
          },
          "execution_count": 80
        }
      ]
    },
    {
      "cell_type": "code",
      "metadata": {
        "id": "oAnBBPUv8bo6",
        "colab_type": "code",
        "colab": {}
      },
      "source": [
        ""
      ],
      "execution_count": null,
      "outputs": []
    },
    {
      "cell_type": "markdown",
      "metadata": {
        "id": "y2Rz-8O-YmF9",
        "colab_type": "text"
      },
      "source": [
        "**3) Calculate and report the sample means of the `ConvertedSalary` column for both of the samples.**"
      ]
    },
    {
      "cell_type": "code",
      "metadata": {
        "id": "ti9x37XSQ_yL",
        "colab_type": "code",
        "colab": {
          "base_uri": "https://localhost:8080/",
          "height": 363
        },
        "outputId": "fb464fc6-f451-4268-baee-e2afb0525748"
      },
      "source": [
        "boot_c_20sample[\"ConvertedSalary\"].value_counts()"
      ],
      "execution_count": 81,
      "outputs": [
        {
          "output_type": "execute_result",
          "data": {
            "text/plain": [
              "60000.0     2\n",
              "25047.0     1\n",
              "86120.0     1\n",
              "10704.0     1\n",
              "6348.0      1\n",
              "9600.0      1\n",
              "128544.0    1\n",
              "9706.0      1\n",
              "42635.0     1\n",
              "14687.0     1\n",
              "40196.0     1\n",
              "135000.0    1\n",
              "62507.0     1\n",
              "62600.0     1\n",
              "41124.0     1\n",
              "64417.0     1\n",
              "31309.0     1\n",
              "150000.0    1\n",
              "74500.0     1\n",
              "Name: ConvertedSalary, dtype: int64"
            ]
          },
          "metadata": {
            "tags": []
          },
          "execution_count": 81
        }
      ]
    },
    {
      "cell_type": "code",
      "metadata": {
        "id": "C7MhZSPi9Bzt",
        "colab_type": "code",
        "colab": {}
      },
      "source": [
        "# get sample means aka Point Estimate\n",
        "s20_mean =boot_c_20sample[\"ConvertedSalary\"].mean()\n",
        "s200_mean = boot_c_200sample[\"ConvertedSalary\"].mean()"
      ],
      "execution_count": 82,
      "outputs": []
    },
    {
      "cell_type": "code",
      "metadata": {
        "id": "h0ay_EW19tWn",
        "colab_type": "code",
        "colab": {
          "base_uri": "https://localhost:8080/",
          "height": 52
        },
        "outputId": "e88cde69-341a-412b-9596-01a38f977ede"
      },
      "source": [
        "print(s20_mean)\n",
        "print(s200_mean)"
      ],
      "execution_count": 83,
      "outputs": [
        {
          "output_type": "stream",
          "text": [
            "55752.2\n",
            "68551.255\n"
          ],
          "name": "stdout"
        }
      ]
    },
    {
      "cell_type": "code",
      "metadata": {
        "id": "XJKhXJ8M9-rt",
        "colab_type": "code",
        "colab": {}
      },
      "source": [
        ""
      ],
      "execution_count": null,
      "outputs": []
    },
    {
      "cell_type": "markdown",
      "metadata": {
        "id": "AtGASqgxYp5t",
        "colab_type": "text"
      },
      "source": [
        "**4) Both of these sample means are estimates of an underlying population value. Which sample mean do you trust more? Why? Would a non-technical audience have any idea about which of these values is more trustworthy?**"
      ]
    },
    {
      "cell_type": "markdown",
      "metadata": {
        "id": "8oD8lp84YyvU",
        "colab_type": "text"
      },
      "source": [
        "I trust the s200_mean, the one with the sample size of 200.  I know that this sample mean is more precise because of the larger size.  Larger sample size indicates a smaller smaller standard error, and smaller margin of error.  \n",
        "But to convey this to a non-technical audience it would be good to illustration(plot) the Confidence Interval. (the range which actual mean could be.)"
      ]
    },
    {
      "cell_type": "markdown",
      "metadata": {
        "id": "-2ulIAGmYudp",
        "colab_type": "text"
      },
      "source": [
        "**5) Does just the point estimate (individual value of the sample mean) indicate to you anything about how much sampling error there could be with these estimates?**"
      ]
    },
    {
      "cell_type": "markdown",
      "metadata": {
        "id": "hD5HloatYxoh",
        "colab_type": "text"
      },
      "source": [
        "No. The point estimate alone doesn't indicate anything in particular.  "
      ]
    },
    {
      "cell_type": "markdown",
      "metadata": {
        "id": "SpqgKQfTYvF0",
        "colab_type": "text"
      },
      "source": [
        "**6) What strategies could we use when reporting these numbers to not only report our estimates but also to give non-technical readers an idea about how far off our estimates might be due to sampling error?**\n",
        "\n"
      ]
    },
    {
      "cell_type": "markdown",
      "metadata": {
        "id": "1_pFcZxXAG_P",
        "colab_type": "text"
      },
      "source": [
        "We could indicate the size of each sample.  \n",
        "It would be good to illustrate(plot) the Confidence Interval. (the range which actual mean could be.)\n",
        "The confidence level implies things like Margin of Error and Standard Deviation, but we could indicate those as well.\n"
      ]
    },
    {
      "cell_type": "markdown",
      "metadata": {
        "id": "h7N1WnTTYyD7",
        "colab_type": "text"
      },
      "source": [
        ""
      ]
    },
    {
      "cell_type": "markdown",
      "metadata": {
        "id": "9tIHBlM_SyGR",
        "colab_type": "text"
      },
      "source": [
        "## Part 2 - Reporting CIs / MOEs along with our point estimates for more context.\n",
        "\n",
        "**1) Calculate and report a 95% confidence interval around both of the sample means from part 1.**\n",
        "\n"
      ]
    },
    {
      "cell_type": "code",
      "metadata": {
        "id": "hfCO0gHEUOrE",
        "colab_type": "code",
        "colab": {}
      },
      "source": [
        "from scipy import stats"
      ],
      "execution_count": 104,
      "outputs": []
    },
    {
      "cell_type": "code",
      "metadata": {
        "id": "fnREproPKx8D",
        "colab_type": "code",
        "colab": {
          "base_uri": "https://localhost:8080/",
          "height": 35
        },
        "outputId": "f305e50b-7ce7-4fd4-a270-487fd526cccf"
      },
      "source": [
        "print(np.array(s200_mean))"
      ],
      "execution_count": 26,
      "outputs": [
        {
          "output_type": "stream",
          "text": [
            "68551.255\n"
          ],
          "name": "stdout"
        }
      ]
    },
    {
      "cell_type": "code",
      "metadata": {
        "id": "GS3mzdLVQtX-",
        "colab_type": "code",
        "colab": {}
      },
      "source": [
        "from collections import namedtuple"
      ],
      "execution_count": 105,
      "outputs": []
    },
    {
      "cell_type": "code",
      "metadata": {
        "id": "erAbniFlBQXZ",
        "colab_type": "code",
        "colab": {}
      },
      "source": [
        "# I already have point estimates for the samples\n",
        "# so now I need to create a function which takes\n",
        "# a sample and a confidence level\n",
        "\n",
        "\n",
        "def get_confidence_interval(sample, confidence_level):\n",
        "\n",
        "  # in because we like some np functions \n",
        "  # make a np array for our sample\n",
        "  sample_np_array = np.array(sample)\n",
        "\n",
        "  # variables we need for the calculations are \n",
        "  # std_dev, sample size, t-statistic\n",
        "\n",
        "  std_dev = np.std(sample_np_array, ddof=1)\n",
        "  sample_size = sample_np_array.shape[0]\n",
        "\n",
        "  #here's the new one: from scipy stats \n",
        "  # Percent Point Function (Inverse of CDF)\n",
        "  # this value take ?? percent of data that  as a parameter\n",
        "  # does same thing as university of I. applet\n",
        "  tstat = stats.t.ppf(1 - ((1 - confidence_level) / 2), sample_size-1)\n",
        "\n",
        "  # need the sample mean as x_bar\n",
        "  x_bar = np.mean(sample_np_array)\n",
        "\n",
        "  # I need the standard error =\n",
        "  # standard deviation / squareroot of sample size\n",
        "  std_err = (std_dev/np.sqrt(sample_size))\n",
        "\n",
        "  # now I need the Margin of Error\n",
        "  # which is tstat * standard error\n",
        "  moe = tstat*std_err\n",
        "\n",
        "  # then for info purposes lets return the \n",
        "  # lower and upper bounds\n",
        "\n",
        "  lower_bound = x_bar - moe\n",
        "  upper_bound = x_bar + moe\n",
        "\n",
        "  confidence_int = namedtuple(\"confidence_interval\", [\"lower_bound\", \"xbar\",\"upper_bound\",\"moe\", ])\n",
        "\n",
        "  # return (lower_bound, x_bar, upper_bound, moe)\n",
        "  return confidence_int(lower_bound, x_bar, upper_bound, moe)\n",
        "  "
      ],
      "execution_count": 128,
      "outputs": []
    },
    {
      "cell_type": "code",
      "metadata": {
        "id": "ugz9LMTGKQxw",
        "colab_type": "code",
        "colab": {}
      },
      "source": [
        "boot_20sample_values = get_confidence_interval(boot_c_20sample[\"ConvertedSalary\"], .95)\n",
        "boot_200sample_values = get_confidence_interval(boot_c_200sample[\"ConvertedSalary\"], .95)"
      ],
      "execution_count": 129,
      "outputs": []
    },
    {
      "cell_type": "code",
      "metadata": {
        "id": "r5OqA6GYUbUZ",
        "colab_type": "code",
        "colab": {
          "base_uri": "https://localhost:8080/",
          "height": 69
        },
        "outputId": "04e35784-101e-43f4-9c40-f2d59929052e"
      },
      "source": [
        "print(boot_20sample_values)\n",
        "print()\n",
        "print(boot_200sample_values)"
      ],
      "execution_count": 130,
      "outputs": [
        {
          "output_type": "stream",
          "text": [
            "confidence_interval(lower_bound=35805.10309625536, xbar=55752.2, upper_bound=75699.29690374463, moe=19947.096903744638)\n",
            "\n",
            "confidence_interval(lower_bound=60593.058804479086, xbar=68551.255, upper_bound=76509.45119552092, moe=7958.196195520917)\n"
          ],
          "name": "stdout"
        }
      ]
    },
    {
      "cell_type": "code",
      "metadata": {
        "id": "kIQ8e9yaoNQ4",
        "colab_type": "code",
        "colab": {}
      },
      "source": [
        ""
      ],
      "execution_count": null,
      "outputs": []
    },
    {
      "cell_type": "code",
      "metadata": {
        "id": "kvtuhUzzUlqH",
        "colab_type": "code",
        "colab": {}
      },
      "source": [
        ""
      ],
      "execution_count": null,
      "outputs": []
    },
    {
      "cell_type": "markdown",
      "metadata": {
        "id": "vdiW7DHRZwK-",
        "colab_type": "text"
      },
      "source": [
        "**2) Which confidence interval is wider and why?**"
      ]
    },
    {
      "cell_type": "markdown",
      "metadata": {
        "id": "p5KGlyvYZ1Qq",
        "colab_type": "text"
      },
      "source": [
        "The confidence interval of the first sample is much wider. Due to its lower sample size the standard error of our estimate is much larger causing the potential distribution of sample means to be much more spread out. A confidence interval catches 95% of this theoretical distriution of sample means so if our standard error is larger, our confidence interval will be wider as well."
      ]
    },
    {
      "cell_type": "markdown",
      "metadata": {
        "id": "6N33K4NvZ13H",
        "colab_type": "text"
      },
      "source": [
        "**3) Report the mean and the margin of error for both of the sample means. What does the Margin of Error Represent?**"
      ]
    },
    {
      "cell_type": "code",
      "metadata": {
        "id": "MfMIBftMU_rz",
        "colab_type": "code",
        "colab": {
          "base_uri": "https://localhost:8080/",
          "height": 52
        },
        "outputId": "1a5efd54-3dcb-4c73-8fdc-e9c81f5d1450"
      },
      "source": [
        "# since I created a named tuple I can just call the moe directly\n",
        "print(boot_20sample_values.moe)\n",
        "print(boot_200sample_values.moe)\n",
        "#  A margin of error tells you how far off your results will differ from the real population value."
      ],
      "execution_count": 131,
      "outputs": [
        {
          "output_type": "stream",
          "text": [
            "19947.096903744638\n",
            "7958.196195520917\n"
          ],
          "name": "stdout"
        }
      ]
    },
    {
      "cell_type": "code",
      "metadata": {
        "id": "DOJ41W1tVWa6",
        "colab_type": "code",
        "colab": {}
      },
      "source": [
        ""
      ],
      "execution_count": null,
      "outputs": []
    },
    {
      "cell_type": "markdown",
      "metadata": {
        "id": "_7NuYtHfaQav",
        "colab_type": "text"
      },
      "source": [
        "The margin of error gives an idea of how far off our estimates might be (with 95% confidence). We're trying to supply a plausible range for our parameter of interest (the true average salary of bootcamp grads)."
      ]
    },
    {
      "cell_type": "markdown",
      "metadata": {
        "id": "zkg9EW9KTgGv",
        "colab_type": "text"
      },
      "source": [
        "## Part 3 - Communicate the Precision of Sample Estimates Graphically\n",
        "\n",
        "**1) Create a plot using `plt.errorbar` that compares both of the confidence intervals.** "
      ]
    },
    {
      "cell_type": "code",
      "metadata": {
        "id": "2QOQGVfsVfFZ",
        "colab_type": "code",
        "colab": {
          "base_uri": "https://localhost:8080/",
          "height": 281
        },
        "outputId": "d543eb13-e05b-4dc1-c970-3a613eb170eb"
      },
      "source": [
        "# these are similar to box plot\n",
        "# first parameter is the x position to distinguish it from the next graph\n",
        "# next parameter is the sample mean or Point Estimate\n",
        "# next is the Margin of error\n",
        "# last parameter I can't remember \n",
        "plt.errorbar(0, boot_20sample_values.xbar, boot_20sample_values.moe, fmt=\"o\")\n",
        "plt.errorbar(1, boot_200sample_values.xbar, boot_200sample_values.moe, fmt=\"o\")\n",
        "\n",
        "plt.title('Confidence intervals for Converted Salary')\n",
        "\n",
        "plt.show()"
      ],
      "execution_count": 132,
      "outputs": [
        {
          "output_type": "display_data",
          "data": {
            "image/png": "[encoded data removed]",
            "text/plain": [
              "<Figure size 432x288 with 1 Axes>"
            ]
          },
          "metadata": {
            "tags": [],
            "needs_background": "light"
          }
        }
      ]
    },
    {
      "cell_type": "code",
      "metadata": {
        "id": "8DIIFsCmth_w",
        "colab_type": "code",
        "colab": {}
      },
      "source": [
        ""
      ],
      "execution_count": null,
      "outputs": []
    },
    {
      "cell_type": "markdown",
      "metadata": {
        "id": "HsTtONTNawFi",
        "colab_type": "text"
      },
      "source": [
        "**2) Create a plot using `plt.bar` that compares both of the confidence intervals.**"
      ]
    },
    {
      "cell_type": "code",
      "metadata": {
        "id": "UE1fxaoKW1Xg",
        "colab_type": "code",
        "colab": {
          "base_uri": "https://localhost:8080/",
          "height": 281
        },
        "outputId": "de27ac5d-f21b-417b-d7f5-073fa6d673c9"
      },
      "source": [
        "plt.bar(0, height=boot_20sample_values.xbar, yerr=boot_20sample_values.moe)\n",
        "plt.bar(1, height=boot_200sample_values.xbar, yerr=boot_200sample_values.moe)\n",
        "\n",
        "plt.title('Confidence intervals for Converted Salary')\n",
        "\n",
        "plt.show()"
      ],
      "execution_count": 91,
      "outputs": [
        {
          "output_type": "display_data",
          "data": {
            "image/png": "[encoded data removed]",
            "text/plain": [
              "<Figure size 432x288 with 1 Axes>"
            ]
          },
          "metadata": {
            "tags": [],
            "needs_background": "light"
          }
        }
      ]
    },
    {
      "cell_type": "markdown",
      "metadata": {
        "id": "ZGCzS-BFctob",
        "colab_type": "text"
      },
      "source": [
        "## Part 4 - Check for Understanding\n",
        "\n",
        "\n",
        "\n",
        "\n",
        "\n"
      ]
    },
    {
      "cell_type": "markdown",
      "metadata": {
        "id": "E181afPXezJ9",
        "colab_type": "text"
      },
      "source": [
        "**Calculate a Confidence Interval using the entire dataset. How precise do our estimates get?**"
      ]
    },
    {
      "cell_type": "code",
      "metadata": {
        "id": "3puy99D6esLn",
        "colab_type": "code",
        "colab": {
          "base_uri": "https://localhost:8080/",
          "height": 55
        },
        "outputId": "fed54abc-8168-402d-bc88-385ec4aae589"
      },
      "source": [
        "# boot_campers_df\n",
        "# get_confidence_interval(sample, confidence_level)\n",
        "# [\"ConvertedSalary\"]\n",
        "\n",
        "entire_df = get_confidence_interval(boot_campers_df[\"ConvertedSalary\"], .95)\n",
        "print(entire_df)\n",
        "# print(boot_campers_df[\"ConvertedSalary\"].shape)\n",
        "# I think the estimates are 3 times more precise than with the larger sample size.\n"
      ],
      "execution_count": 133,
      "outputs": [
        {
          "output_type": "stream",
          "text": [
            "confidence_interval(lower_bound=71299.82986224785, xbar=73453.40420137631, upper_bound=75606.97854050477, moe=2153.574339128457)\n"
          ],
          "name": "stdout"
        }
      ]
    },
    {
      "cell_type": "markdown",
      "metadata": {
        "id": "wbA0inEKexdW",
        "colab_type": "text"
      },
      "source": [
        "**What does \"precision\" mean in the context of statistical estimates and how is that different from \"accuracy?\"**"
      ]
    },
    {
      "cell_type": "markdown",
      "metadata": {
        "id": "Btl5phUUd6L4",
        "colab_type": "text"
      },
      "source": [
        "Precision represents how tight or small our confidence interval is around the central tendency.  "
      ]
    },
    {
      "cell_type": "markdown",
      "metadata": {
        "id": "4F-4ux7sd5pL",
        "colab_type": "text"
      },
      "source": [
        "**It is very common to misunderstand what is captured by a 95% confidence interval. What is the correct interpretation? ([Hint](https://www.statisticssolutions.com/misconceptions-about-confidence-intervals/))**"
      ]
    },
    {
      "cell_type": "markdown",
      "metadata": {
        "id": "bSU07naHd6li",
        "colab_type": "text"
      },
      "source": [
        "\n",
        "\n",
        " 95% of the confidence intervals calculated from these random samples will contain the true population mean."
      ]
    },
    {
      "cell_type": "markdown",
      "metadata": {
        "id": "cvtnsGLJa4bW",
        "colab_type": "text"
      },
      "source": [
        "# Stretch Goals:\n",
        "\n",
        "1) Study the relationship between t-tests and confidence intervals.\n",
        " - Find a sample mean that we have worked with and construct a 95% confidence interval around it. (find the lower and upper bounds)\n",
        " - Run a 1-sample t-test with the null hypothesis value being just barely **outside** of the confidence interval. What is the p-value?\n",
        " - Run a 1-sample t-test with the null hypothesis value being just barely **inside** of the confidence interval. What is the p-value?\n",
        "\n",
        "  What does it mean when we say that the boundaries of the confidence interval are the boundaries of statistical significance in a 1-sample t-test?\n",
        "\n",
        "\n",
        "2) Go back to our [congressional voting dataset](https://archive.ics.uci.edu/ml/datasets/Congressional+Voting+Records) and build confidence intervals around the means of all of the issues for a single party. Compare all of those confidence intervals graphically on a single graph. \n",
        "\n",
        "3) Dive deeper into the [2018 Stack Overflow Survey](https://www.kaggle.com/stackoverflow/stack-overflow-2018-developer-survey) results to see what cool things you can find."
      ]
    },
    {
      "cell_type": "code",
      "metadata": {
        "id": "K-gyHKqgIEle",
        "colab_type": "code",
        "colab": {
          "base_uri": "https://localhost:8080/",
          "height": 207
        },
        "outputId": "b9675563-a661-4f7f-e489-3e6f8d6dfb6c"
      },
      "source": [
        "!wget https://archive.ics.uci.edu/ml/machine-learning-databases/voting-records/house-votes-84.data"
      ],
      "execution_count": 94,
      "outputs": [
        {
          "output_type": "stream",
          "text": [
            "--2020-07-16 01:39:07--  https://archive.ics.uci.edu/ml/machine-learning-databases/voting-records/house-votes-84.data\n",
            "Resolving archive.ics.uci.edu (archive.ics.uci.edu)... 128.195.10.252\n",
            "Connecting to archive.ics.uci.edu (archive.ics.uci.edu)|128.195.10.252|:443... connected.\n",
            "HTTP request sent, awaiting response... 200 OK\n",
            "Length: 18171 (18K) [application/x-httpd-php]\n",
            "Saving to: ‘house-votes-84.data’\n",
            "\n",
            "house-votes-84.data 100%[===================>]  17.75K  --.-KB/s    in 0.06s   \n",
            "\n",
            "2020-07-16 01:39:07 (278 KB/s) - ‘house-votes-84.data’ saved [18171/18171]\n",
            "\n"
          ],
          "name": "stdout"
        }
      ]
    },
    {
      "cell_type": "code",
      "metadata": {
        "id": "cNvjoioDRoF5",
        "colab_type": "code",
        "colab": {}
      },
      "source": [
        "# uci no headers; make list to read in with headers \n",
        "hv_headers = [\"Class_Name\", \"handicapped-infants\",\"water-project-cost-sharing\", \n",
        "              \"adoption-of-the-budget-resolution\",\"physician-fee-freeze\", \n",
        "              \"el-salvador-aid\", \"religious-groups-in-schools\", \"anti-satellite-test-ban\",\n",
        "              \"aid-to-nicaraguan-contras\",\"mx-missile\", \"immigration\", \" synfuels-corporation-cutback\",\n",
        "              \"education-spending\", \"superfund-right-to-sue\", \"crime\", \"duty-free-exports\",\n",
        "              \"export-administration-act-south-africa\"]"
      ],
      "execution_count": 95,
      "outputs": []
    },
    {
      "cell_type": "code",
      "metadata": {
        "id": "3O-Ymiw8RuIT",
        "colab_type": "code",
        "colab": {
          "base_uri": "https://localhost:8080/",
          "height": 270
        },
        "outputId": "608282de-0222-4f63-e545-05327f48c9de"
      },
      "source": [
        "house_votes_df = pd.read_csv(\"house-votes-84.data\", names=hv_headers, na_values=\"?\")\n",
        "\n",
        "house_votes_df.tail()\n"
      ],
      "execution_count": 96,
      "outputs": [
        {
          "output_type": "execute_result",
          "data": {
            "text/html": [
              "<div>\n",
              "<style scoped>\n",
              "    .dataframe tbody tr th:only-of-type {\n",
              "        vertical-align: middle;\n",
              "    }\n",
              "\n",
              "    .dataframe tbody tr th {\n",
              "        vertical-align: top;\n",
              "    }\n",
              "\n",
              "    .dataframe thead th {\n",
              "        text-align: right;\n",
              "    }\n",
              "</style>\n",
              "<table border=\"1\" class=\"dataframe\">\n",
              "  <thead>\n",
              "    <tr style=\"text-align: right;\">\n",
              "      <th></th>\n",
              "      <th>Class_Name</th>\n",
              "      <th>handicapped-infants</th>\n",
              "      <th>water-project-cost-sharing</th>\n",
              "      <th>adoption-of-the-budget-resolution</th>\n",
              "      <th>physician-fee-freeze</th>\n",
              "      <th>el-salvador-aid</th>\n",
              "      <th>religious-groups-in-schools</th>\n",
              "      <th>anti-satellite-test-ban</th>\n",
              "      <th>aid-to-nicaraguan-contras</th>\n",
              "      <th>mx-missile</th>\n",
              "      <th>immigration</th>\n",
              "      <th>synfuels-corporation-cutback</th>\n",
              "      <th>education-spending</th>\n",
              "      <th>superfund-right-to-sue</th>\n",
              "      <th>crime</th>\n",
              "      <th>duty-free-exports</th>\n",
              "      <th>export-administration-act-south-africa</th>\n",
              "    </tr>\n",
              "  </thead>\n",
              "  <tbody>\n",
              "    <tr>\n",
              "      <th>430</th>\n",
              "      <td>republican</td>\n",
              "      <td>n</td>\n",
              "      <td>n</td>\n",
              "      <td>y</td>\n",
              "      <td>y</td>\n",
              "      <td>y</td>\n",
              "      <td>y</td>\n",
              "      <td>n</td>\n",
              "      <td>n</td>\n",
              "      <td>y</td>\n",
              "      <td>y</td>\n",
              "      <td>n</td>\n",
              "      <td>y</td>\n",
              "      <td>y</td>\n",
              "      <td>y</td>\n",
              "      <td>n</td>\n",
              "      <td>y</td>\n",
              "    </tr>\n",
              "    <tr>\n",
              "      <th>431</th>\n",
              "      <td>democrat</td>\n",
              "      <td>n</td>\n",
              "      <td>n</td>\n",
              "      <td>y</td>\n",
              "      <td>n</td>\n",
              "      <td>n</td>\n",
              "      <td>n</td>\n",
              "      <td>y</td>\n",
              "      <td>y</td>\n",
              "      <td>y</td>\n",
              "      <td>y</td>\n",
              "      <td>n</td>\n",
              "      <td>n</td>\n",
              "      <td>n</td>\n",
              "      <td>n</td>\n",
              "      <td>n</td>\n",
              "      <td>y</td>\n",
              "    </tr>\n",
              "    <tr>\n",
              "      <th>432</th>\n",
              "      <td>republican</td>\n",
              "      <td>n</td>\n",
              "      <td>NaN</td>\n",
              "      <td>n</td>\n",
              "      <td>y</td>\n",
              "      <td>y</td>\n",
              "      <td>y</td>\n",
              "      <td>n</td>\n",
              "      <td>n</td>\n",
              "      <td>n</td>\n",
              "      <td>n</td>\n",
              "      <td>y</td>\n",
              "      <td>y</td>\n",
              "      <td>y</td>\n",
              "      <td>y</td>\n",
              "      <td>n</td>\n",
              "      <td>y</td>\n",
              "    </tr>\n",
              "    <tr>\n",
              "      <th>433</th>\n",
              "      <td>republican</td>\n",
              "      <td>n</td>\n",
              "      <td>n</td>\n",
              "      <td>n</td>\n",
              "      <td>y</td>\n",
              "      <td>y</td>\n",
              "      <td>y</td>\n",
              "      <td>NaN</td>\n",
              "      <td>NaN</td>\n",
              "      <td>NaN</td>\n",
              "      <td>NaN</td>\n",
              "      <td>n</td>\n",
              "      <td>y</td>\n",
              "      <td>y</td>\n",
              "      <td>y</td>\n",
              "      <td>n</td>\n",
              "      <td>y</td>\n",
              "    </tr>\n",
              "    <tr>\n",
              "      <th>434</th>\n",
              "      <td>republican</td>\n",
              "      <td>n</td>\n",
              "      <td>y</td>\n",
              "      <td>n</td>\n",
              "      <td>y</td>\n",
              "      <td>y</td>\n",
              "      <td>y</td>\n",
              "      <td>n</td>\n",
              "      <td>n</td>\n",
              "      <td>n</td>\n",
              "      <td>y</td>\n",
              "      <td>n</td>\n",
              "      <td>y</td>\n",
              "      <td>y</td>\n",
              "      <td>y</td>\n",
              "      <td>NaN</td>\n",
              "      <td>n</td>\n",
              "    </tr>\n",
              "  </tbody>\n",
              "</table>\n",
              "</div>"
            ],
            "text/plain": [
              "     Class_Name  ... export-administration-act-south-africa\n",
              "430  republican  ...                                      y\n",
              "431    democrat  ...                                      y\n",
              "432  republican  ...                                      y\n",
              "433  republican  ...                                      y\n",
              "434  republican  ...                                      n\n",
              "\n",
              "[5 rows x 17 columns]"
            ]
          },
          "metadata": {
            "tags": []
          },
          "execution_count": 96
        }
      ]
    },
    {
      "cell_type": "code",
      "metadata": {
        "id": "pyRK7_LdRykl",
        "colab_type": "code",
        "colab": {
          "base_uri": "https://localhost:8080/",
          "height": 270
        },
        "outputId": "c4d5409e-2cc1-4a04-8b48-b35090be60d5"
      },
      "source": [
        "# replace y with 1, and no with 0; \n",
        "#  .replace\n",
        "cat_house_vote_df = house_votes_df.replace({\"y\": 1, \"n\":0})\n",
        "cat_house_vote_df.tail()"
      ],
      "execution_count": 97,
      "outputs": [
        {
          "output_type": "execute_result",
          "data": {
            "text/html": [
              "<div>\n",
              "<style scoped>\n",
              "    .dataframe tbody tr th:only-of-type {\n",
              "        vertical-align: middle;\n",
              "    }\n",
              "\n",
              "    .dataframe tbody tr th {\n",
              "        vertical-align: top;\n",
              "    }\n",
              "\n",
              "    .dataframe thead th {\n",
              "        text-align: right;\n",
              "    }\n",
              "</style>\n",
              "<table border=\"1\" class=\"dataframe\">\n",
              "  <thead>\n",
              "    <tr style=\"text-align: right;\">\n",
              "      <th></th>\n",
              "      <th>Class_Name</th>\n",
              "      <th>handicapped-infants</th>\n",
              "      <th>water-project-cost-sharing</th>\n",
              "      <th>adoption-of-the-budget-resolution</th>\n",
              "      <th>physician-fee-freeze</th>\n",
              "      <th>el-salvador-aid</th>\n",
              "      <th>religious-groups-in-schools</th>\n",
              "      <th>anti-satellite-test-ban</th>\n",
              "      <th>aid-to-nicaraguan-contras</th>\n",
              "      <th>mx-missile</th>\n",
              "      <th>immigration</th>\n",
              "      <th>synfuels-corporation-cutback</th>\n",
              "      <th>education-spending</th>\n",
              "      <th>superfund-right-to-sue</th>\n",
              "      <th>crime</th>\n",
              "      <th>duty-free-exports</th>\n",
              "      <th>export-administration-act-south-africa</th>\n",
              "    </tr>\n",
              "  </thead>\n",
              "  <tbody>\n",
              "    <tr>\n",
              "      <th>430</th>\n",
              "      <td>republican</td>\n",
              "      <td>0.0</td>\n",
              "      <td>0.0</td>\n",
              "      <td>1.0</td>\n",
              "      <td>1.0</td>\n",
              "      <td>1.0</td>\n",
              "      <td>1.0</td>\n",
              "      <td>0.0</td>\n",
              "      <td>0.0</td>\n",
              "      <td>1.0</td>\n",
              "      <td>1.0</td>\n",
              "      <td>0.0</td>\n",
              "      <td>1.0</td>\n",
              "      <td>1.0</td>\n",
              "      <td>1.0</td>\n",
              "      <td>0.0</td>\n",
              "      <td>1.0</td>\n",
              "    </tr>\n",
              "    <tr>\n",
              "      <th>431</th>\n",
              "      <td>democrat</td>\n",
              "      <td>0.0</td>\n",
              "      <td>0.0</td>\n",
              "      <td>1.0</td>\n",
              "      <td>0.0</td>\n",
              "      <td>0.0</td>\n",
              "      <td>0.0</td>\n",
              "      <td>1.0</td>\n",
              "      <td>1.0</td>\n",
              "      <td>1.0</td>\n",
              "      <td>1.0</td>\n",
              "      <td>0.0</td>\n",
              "      <td>0.0</td>\n",
              "      <td>0.0</td>\n",
              "      <td>0.0</td>\n",
              "      <td>0.0</td>\n",
              "      <td>1.0</td>\n",
              "    </tr>\n",
              "    <tr>\n",
              "      <th>432</th>\n",
              "      <td>republican</td>\n",
              "      <td>0.0</td>\n",
              "      <td>NaN</td>\n",
              "      <td>0.0</td>\n",
              "      <td>1.0</td>\n",
              "      <td>1.0</td>\n",
              "      <td>1.0</td>\n",
              "      <td>0.0</td>\n",
              "      <td>0.0</td>\n",
              "      <td>0.0</td>\n",
              "      <td>0.0</td>\n",
              "      <td>1.0</td>\n",
              "      <td>1.0</td>\n",
              "      <td>1.0</td>\n",
              "      <td>1.0</td>\n",
              "      <td>0.0</td>\n",
              "      <td>1.0</td>\n",
              "    </tr>\n",
              "    <tr>\n",
              "      <th>433</th>\n",
              "      <td>republican</td>\n",
              "      <td>0.0</td>\n",
              "      <td>0.0</td>\n",
              "      <td>0.0</td>\n",
              "      <td>1.0</td>\n",
              "      <td>1.0</td>\n",
              "      <td>1.0</td>\n",
              "      <td>NaN</td>\n",
              "      <td>NaN</td>\n",
              "      <td>NaN</td>\n",
              "      <td>NaN</td>\n",
              "      <td>0.0</td>\n",
              "      <td>1.0</td>\n",
              "      <td>1.0</td>\n",
              "      <td>1.0</td>\n",
              "      <td>0.0</td>\n",
              "      <td>1.0</td>\n",
              "    </tr>\n",
              "    <tr>\n",
              "      <th>434</th>\n",
              "      <td>republican</td>\n",
              "      <td>0.0</td>\n",
              "      <td>1.0</td>\n",
              "      <td>0.0</td>\n",
              "      <td>1.0</td>\n",
              "      <td>1.0</td>\n",
              "      <td>1.0</td>\n",
              "      <td>0.0</td>\n",
              "      <td>0.0</td>\n",
              "      <td>0.0</td>\n",
              "      <td>1.0</td>\n",
              "      <td>0.0</td>\n",
              "      <td>1.0</td>\n",
              "      <td>1.0</td>\n",
              "      <td>1.0</td>\n",
              "      <td>NaN</td>\n",
              "      <td>0.0</td>\n",
              "    </tr>\n",
              "  </tbody>\n",
              "</table>\n",
              "</div>"
            ],
            "text/plain": [
              "     Class_Name  ...  export-administration-act-south-africa\n",
              "430  republican  ...                                     1.0\n",
              "431    democrat  ...                                     1.0\n",
              "432  republican  ...                                     1.0\n",
              "433  republican  ...                                     1.0\n",
              "434  republican  ...                                     0.0\n",
              "\n",
              "[5 rows x 17 columns]"
            ]
          },
          "metadata": {
            "tags": []
          },
          "execution_count": 97
        }
      ]
    },
    {
      "cell_type": "code",
      "metadata": {
        "id": "iuHUaXLQR7XN",
        "colab_type": "code",
        "colab": {}
      },
      "source": [
        "# looks good so far.  Now split the Dems and Reps into their own df's\n",
        "# each one of these is technically a sample, but it's not a random sample\n",
        "\n",
        "cond_dem = cat_house_vote_df[\"Class_Name\"] == \"democrat\"\n",
        "cond_rep = cat_house_vote_df[\"Class_Name\"] == \"republican\"\n",
        "# create with filters \n",
        "\n",
        "dem_vote_df = cat_house_vote_df[cond_dem]\n",
        "rep_vote_df = cat_house_vote_df[cond_rep]\n",
        "\n"
      ],
      "execution_count": 98,
      "outputs": []
    },
    {
      "cell_type": "code",
      "metadata": {
        "id": "EKyOtGJ2VE7e",
        "colab_type": "code",
        "colab": {}
      },
      "source": [
        "#drop the nans\n",
        "dem_vote_noNans = dem_vote_df.dropna()\n",
        "rep_vote_noNans = rep_vote_df.dropna()"
      ],
      "execution_count": 110,
      "outputs": []
    },
    {
      "cell_type": "code",
      "metadata": {
        "id": "vuc1CtAdSdle",
        "colab_type": "code",
        "colab": {}
      },
      "source": [
        "# so we're going to find the sample mean for the dem's religion groups in schools vote. \n",
        "# \n",
        "dem_religous_group_vote_samp_mean = get_confidence_interval(dem_vote_noNans[\"religious-groups-in-schools\"], .95)"
      ],
      "execution_count": 112,
      "outputs": []
    },
    {
      "cell_type": "code",
      "metadata": {
        "id": "N-NhMh04WEWz",
        "colab_type": "code",
        "colab": {}
      },
      "source": [
        "# 1) Study the relationship between t-tests and confidence intervals.\n",
        "# Find a sample mean that we have worked with and construct a 95% confidence \n",
        "# interval around it. (find the lower and upper bounds)"
      ],
      "execution_count": null,
      "outputs": []
    },
    {
      "cell_type": "code",
      "metadata": {
        "id": "BaUwRoYjV8Pv",
        "colab_type": "code",
        "colab": {
          "base_uri": "https://localhost:8080/",
          "height": 52
        },
        "outputId": "016e2c02-13c4-4d02-fc61-45dbd6fb613e"
      },
      "source": [
        "# the upper and lower bounds\n",
        "print(f\"Upper bound: {dem_religous_group_vote_samp_mean.upper_bound}\")\n",
        "print(f\"Lower bound: {dem_religous_group_vote_samp_mean.lower_bound}\")"
      ],
      "execution_count": 114,
      "outputs": [
        {
          "output_type": "stream",
          "text": [
            "Upper bound: 0.5322177734438303\n",
            "Lower bound: 0.3548790007497182\n"
          ],
          "name": "stdout"
        }
      ]
    },
    {
      "cell_type": "code",
      "metadata": {
        "id": "FtmCVevJWU9a",
        "colab_type": "code",
        "colab": {
          "base_uri": "https://localhost:8080/",
          "height": 35
        },
        "outputId": "2c793778-dfec-4d68-d6bf-45021de8dade"
      },
      "source": [
        "# Run a 1-sample t-test with the null hypothesis value being just barely \n",
        "# outside of the confidence interval. What is the p-value?\n",
        "\n",
        "# for a one sample t-test I need the population mean or concept \n",
        "# which in this case they are saying should be just outside the confidence \n",
        "# interval.  like 6 or 5.5 if they are picky...\n",
        "\n",
        "stats.ttest_1samp(dem_vote_noNans[\"religious-groups-in-schools\"], .6)"
      ],
      "execution_count": 120,
      "outputs": [
        {
          "output_type": "execute_result",
          "data": {
            "text/plain": [
              "Ttest_1sampResult(statistic=-3.4925963478495268, pvalue=0.0006652926090971633)"
            ]
          },
          "metadata": {
            "tags": []
          },
          "execution_count": 120
        }
      ]
    },
    {
      "cell_type": "code",
      "metadata": {
        "id": "ftpVPtD5X0em",
        "colab_type": "code",
        "colab": {}
      },
      "source": [
        "# the pvalue was .00066, so I would reject just about any null hypothesis\n",
        "# test.  I\"ll try a closer one.  "
      ],
      "execution_count": null,
      "outputs": []
    },
    {
      "cell_type": "code",
      "metadata": {
        "id": "SDoTaZYoWuhJ",
        "colab_type": "code",
        "colab": {
          "base_uri": "https://localhost:8080/",
          "height": 35
        },
        "outputId": "66db1ba1-25e0-4eaa-be1e-b1c88a04e8b4"
      },
      "source": [
        "stats.ttest_1samp(dem_vote_noNans[\"religious-groups-in-schools\"], .55)"
      ],
      "execution_count": 122,
      "outputs": [
        {
          "output_type": "execute_result",
          "data": {
            "text/plain": [
              "Ttest_1sampResult(statistic=-2.3764057624543184, pvalue=0.019025361480088508)"
            ]
          },
          "metadata": {
            "tags": []
          },
          "execution_count": 122
        }
      ]
    },
    {
      "cell_type": "code",
      "metadata": {
        "id": "3RQ8UlWHYm8Y",
        "colab_type": "code",
        "colab": {}
      },
      "source": [
        "# wow it's still very unlikely!!! I love it :)"
      ],
      "execution_count": null,
      "outputs": []
    },
    {
      "cell_type": "code",
      "metadata": {
        "id": "fwIzwSg5ZDLJ",
        "colab_type": "code",
        "colab": {
          "base_uri": "https://localhost:8080/",
          "height": 35
        },
        "outputId": "375df43a-045c-4ed7-a482-63d19d4a1e1d"
      },
      "source": [
        "# Run a 1-sample t-test with the null hypothesis value being just barely inside\n",
        "# of the confidence interval. What is the p-value?\n",
        "\n",
        "stats.ttest_1samp(dem_vote_noNans[\"religious-groups-in-schools\"], .36)"
      ],
      "execution_count": 123,
      "outputs": [
        {
          "output_type": "execute_result",
          "data": {
            "text/plain": [
              "Ttest_1sampResult(statistic=1.8651184620474794, pvalue=0.0645477356784386)"
            ]
          },
          "metadata": {
            "tags": []
          },
          "execution_count": 123
        }
      ]
    },
    {
      "cell_type": "code",
      "metadata": {
        "id": "xj5uMT9uZPhQ",
        "colab_type": "code",
        "colab": {}
      },
      "source": [
        "## LOL Wow, this is amazing!  "
      ],
      "execution_count": null,
      "outputs": []
    },
    {
      "cell_type": "code",
      "metadata": {
        "id": "PTweNmPqTvD7",
        "colab_type": "code",
        "colab": {}
      },
      "source": [
        "\n",
        "# What does it mean when we say that the boundaries of the confidence interval \n",
        "# are the boundaries of statistical significance in a 1-sample t-test?\n",
        "\n",
        "# It literally means that any sample means that fall outside the confidence \n",
        "# intervals will cause us to reject the null hypothesis; those values will be \n",
        "# statistically significant (therefore unlikely if our H0 is true!)."
      ],
      "execution_count": null,
      "outputs": []
    },
    {
      "cell_type": "code",
      "metadata": {
        "id": "5TpJCU5yZlNz",
        "colab_type": "code",
        "colab": {}
      },
      "source": [
        "#2) Go back to our congressional voting dataset and build confidence intervals \n",
        "# around the means of all of the issues for a single party. \n",
        "\n",
        "# function batch dem vote confidence interval\n",
        "\n",
        "# iterate over the columns\n",
        "def batch_dem_vote_confidence_interval(df):\n",
        "  for i in range(1, len(df.columns)):\n",
        "    bill_name = df.columns[i]\n",
        "    print(f\"Bill: {bill_name.title()}\")\n",
        "    print(get_confidence_interval(df.iloc[:,i], .95))\n",
        "    print()\n",
        "\n",
        "    \n",
        "    "
      ],
      "execution_count": 171,
      "outputs": []
    },
    {
      "cell_type": "code",
      "metadata": {
        "id": "1yK07EYekSDo",
        "colab_type": "code",
        "colab": {}
      },
      "source": [
        "# test the comprehension\n",
        "df = dem_vote_noNans\n",
        "# getconfindence interval(each column, .95) for (each column) in (the dataframe)\n",
        "# \n",
        "#get_confidence_interval(df[x], .95)\n",
        "\n",
        "vote_con_int = [get_confidence_interval(df[x], .95) for x in df.iloc[:,1:]]\n"
      ],
      "execution_count": 212,
      "outputs": []
    },
    {
      "cell_type": "code",
      "metadata": {
        "id": "gMiqNubvsHYb",
        "colab_type": "code",
        "colab": {
          "base_uri": "https://localhost:8080/",
          "height": 314
        },
        "outputId": "8a53a2e8-490c-42cc-c854-7220d2bb9d80"
      },
      "source": [
        "# this is the comprehension version, but I need to refactor to make it show\n",
        "# bill names\n",
        "[get_confidence_interval(df[x], .95) for x in df.iloc[:,1:]]"
      ],
      "execution_count": 224,
      "outputs": [
        {
          "output_type": "execute_result",
          "data": {
            "text/plain": [
              "[confidence_interval(lower_bound=0.5008854514528094, xbar=0.5887096774193549, upper_bound=0.6765339033859004, moe=0.08782422596654543),\n",
              " confidence_interval(lower_bound=0.3627917755681809, xbar=0.45161290322580644, upper_bound=0.540434030883432, moe=0.08882112765762555),\n",
              " confidence_interval(lower_bound=0.791966749899413, xbar=0.8548387096774194, upper_bound=0.9177106694554258, moe=0.06287195977800639),\n",
              " confidence_interval(lower_bound=0.01008836071171925, xbar=0.04838709677419355, upper_bound=0.08668583283666784, moe=0.038298736062474296),\n",
              " confidence_interval(lower_bound=0.13000591391201893, xbar=0.20161290322580644, upper_bound=0.27321989253959394, moe=0.07160698931378752),\n",
              " confidence_interval(lower_bound=0.3548790007497182, xbar=0.4435483870967742, upper_bound=0.5322177734438303, moe=0.08866938634705603),\n",
              " confidence_interval(lower_bound=0.6905800506734978, xbar=0.7661290322580645, upper_bound=0.8416780138426312, moe=0.07554898158456666),\n",
              " confidence_interval(lower_bound=0.7637035637475735, xbar=0.8306451612903226, upper_bound=0.8975867588330717, moe=0.06694159754274912),\n",
              " confidence_interval(lower_bound=0.7176672431336555, xbar=0.7903225806451613, upper_bound=0.862977918156667, moe=0.07265533751150577),\n",
              " confidence_interval(lower_bound=0.44320399355877216, xbar=0.532258064516129, upper_bound=0.6213121354734858, moe=0.08905407095735686),\n",
              " confidence_interval(lower_bound=0.41883613678222775, xbar=0.5080645161290323, upper_bound=0.5972928954758367, moe=0.08922837934680451),\n",
              " confidence_interval(lower_bound=0.06919940918552969, xbar=0.12903225806451613, upper_bound=0.18886510694350256, moe=0.059832848878986426),\n",
              " confidence_interval(lower_bound=0.2093085202865504, xbar=0.2903225806451613, upper_bound=0.3713366410037722, moe=0.0810140603586109),\n",
              " confidence_interval(lower_bound=0.26182787733541646, xbar=0.3467741935483871, upper_bound=0.4317205097613578, moe=0.08494631621297064),\n",
              " confidence_interval(lower_bound=0.5092216687100866, xbar=0.5967741935483871, upper_bound=0.6843267183866877, moe=0.08755252483830056),\n",
              " confidence_interval(lower_bound=0.9023566825660085, xbar=0.9435483870967742, upper_bound=0.98474009162754, moe=0.04119170453076573)]"
            ]
          },
          "metadata": {
            "tags": []
          },
          "execution_count": 224
        }
      ]
    },
    {
      "cell_type": "code",
      "metadata": {
        "id": "O2KQYEdUqwA-",
        "colab_type": "code",
        "colab": {}
      },
      "source": [
        ""
      ],
      "execution_count": null,
      "outputs": []
    },
    {
      "cell_type": "code",
      "metadata": {
        "id": "XoySSkrNhuwa",
        "colab_type": "code",
        "colab": {
          "base_uri": "https://localhost:8080/",
          "height": 866
        },
        "outputId": "b103731d-9505-4698-afa1-b75668508191"
      },
      "source": [
        "# this is the loop version\n",
        "batch_dem_vote_confidence_interval(dem_vote_noNans)"
      ],
      "execution_count": 172,
      "outputs": [
        {
          "output_type": "stream",
          "text": [
            "Bill: Handicapped-Infants\n",
            "confidence_interval(lower_bound=0.5008854514528094, xbar=0.5887096774193549, upper_bound=0.6765339033859004, moe=0.08782422596654543)\n",
            "\n",
            "Bill: Water-Project-Cost-Sharing\n",
            "confidence_interval(lower_bound=0.3627917755681809, xbar=0.45161290322580644, upper_bound=0.540434030883432, moe=0.08882112765762555)\n",
            "\n",
            "Bill: Adoption-Of-The-Budget-Resolution\n",
            "confidence_interval(lower_bound=0.791966749899413, xbar=0.8548387096774194, upper_bound=0.9177106694554258, moe=0.06287195977800639)\n",
            "\n",
            "Bill: Physician-Fee-Freeze\n",
            "confidence_interval(lower_bound=0.01008836071171925, xbar=0.04838709677419355, upper_bound=0.08668583283666784, moe=0.038298736062474296)\n",
            "\n",
            "Bill: El-Salvador-Aid\n",
            "confidence_interval(lower_bound=0.13000591391201893, xbar=0.20161290322580644, upper_bound=0.27321989253959394, moe=0.07160698931378752)\n",
            "\n",
            "Bill: Religious-Groups-In-Schools\n",
            "confidence_interval(lower_bound=0.3548790007497182, xbar=0.4435483870967742, upper_bound=0.5322177734438303, moe=0.08866938634705603)\n",
            "\n",
            "Bill: Anti-Satellite-Test-Ban\n",
            "confidence_interval(lower_bound=0.6905800506734978, xbar=0.7661290322580645, upper_bound=0.8416780138426312, moe=0.07554898158456666)\n",
            "\n",
            "Bill: Aid-To-Nicaraguan-Contras\n",
            "confidence_interval(lower_bound=0.7637035637475735, xbar=0.8306451612903226, upper_bound=0.8975867588330717, moe=0.06694159754274912)\n",
            "\n",
            "Bill: Mx-Missile\n",
            "confidence_interval(lower_bound=0.7176672431336555, xbar=0.7903225806451613, upper_bound=0.862977918156667, moe=0.07265533751150577)\n",
            "\n",
            "Bill: Immigration\n",
            "confidence_interval(lower_bound=0.44320399355877216, xbar=0.532258064516129, upper_bound=0.6213121354734858, moe=0.08905407095735686)\n",
            "\n",
            "Bill:  Synfuels-Corporation-Cutback\n",
            "confidence_interval(lower_bound=0.41883613678222775, xbar=0.5080645161290323, upper_bound=0.5972928954758367, moe=0.08922837934680451)\n",
            "\n",
            "Bill: Education-Spending\n",
            "confidence_interval(lower_bound=0.06919940918552969, xbar=0.12903225806451613, upper_bound=0.18886510694350256, moe=0.059832848878986426)\n",
            "\n",
            "Bill: Superfund-Right-To-Sue\n",
            "confidence_interval(lower_bound=0.2093085202865504, xbar=0.2903225806451613, upper_bound=0.3713366410037722, moe=0.0810140603586109)\n",
            "\n",
            "Bill: Crime\n",
            "confidence_interval(lower_bound=0.26182787733541646, xbar=0.3467741935483871, upper_bound=0.4317205097613578, moe=0.08494631621297064)\n",
            "\n",
            "Bill: Duty-Free-Exports\n",
            "confidence_interval(lower_bound=0.5092216687100866, xbar=0.5967741935483871, upper_bound=0.6843267183866877, moe=0.08755252483830056)\n",
            "\n",
            "Bill: Export-Administration-Act-South-Africa\n",
            "confidence_interval(lower_bound=0.9023566825660085, xbar=0.9435483870967742, upper_bound=0.98474009162754, moe=0.04119170453076573)\n",
            "\n"
          ],
          "name": "stdout"
        }
      ]
    },
    {
      "cell_type": "code",
      "metadata": {
        "id": "uQ3z8li5hzM-",
        "colab_type": "code",
        "colab": {}
      },
      "source": [
        ""
      ],
      "execution_count": null,
      "outputs": []
    },
    {
      "cell_type": "code",
      "metadata": {
        "id": "zNLrfWZyfYG3",
        "colab_type": "code",
        "colab": {}
      },
      "source": [
        "#Compare all of those confidence intervals graphically on a single graph.\n",
        "\n",
        "#def get_confidence_interval(sample, confidence_level):"
      ],
      "execution_count": null,
      "outputs": []
    }
  ]
}