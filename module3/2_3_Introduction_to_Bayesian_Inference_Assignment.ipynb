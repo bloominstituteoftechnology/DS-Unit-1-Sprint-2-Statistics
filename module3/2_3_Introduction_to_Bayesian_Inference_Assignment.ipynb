{
  "nbformat": 4,
  "nbformat_minor": 0,
  "metadata": {
    "colab": {
      "name": "2-3_Introduction_to_Bayesian_Inference_Assignment.ipynb",
      "provenance": [],
      "include_colab_link": true
    },
    "kernelspec": {
      "name": "python3",
      "display_name": "Python 3"
    }
  },
  "cells": [
    {
      "cell_type": "markdown",
      "metadata": {
        "id": "view-in-github",
        "colab_type": "text"
      },
      "source": [
        "<a href=\"https://colab.research.google.com/github/rselent/DS-Unit-1-Sprint-2-Statistics/blob/master/module3/2_3_Introduction_to_Bayesian_Inference_Assignment.ipynb\" target=\"_parent\"><img src=\"https://colab.research.google.com/assets/colab-badge.svg\" alt=\"Open In Colab\"/></a>"
      ]
    },
    {
      "cell_type": "markdown",
      "metadata": {
        "id": "H7OLbevlbd_Z",
        "colab_type": "text"
      },
      "source": [
        "# Lambda School Data Science Module 123\n",
        "\n",
        "## Introduction to Bayesian Inference\n",
        "\n",
        "\n"
      ]
    },
    {
      "cell_type": "markdown",
      "metadata": {
        "id": "P-DzzRk5bf0z",
        "colab_type": "text"
      },
      "source": [
        "## Assignment - Code it up!\n",
        "\n",
        "We used pure math to apply Bayes Theorem to drug tests. Now write Python code to reproduce the results! This is purposefully open ended - you'll have to think about how you should represent probabilities and events. You can and should look things up.\n",
        "\n",
        "Specific goals/targets:\n",
        "\n",
        "### 1) Write a function \n",
        "\n",
        "`def prob_drunk_given_positive(prob_drunk_prior, false_positive_rate, true_positive rate):` \n",
        "\n",
        "You should only truly need these three values in order to apply Bayes Theorem. In this example, imagine that individuals are taking a breathalyzer test with an 8% false positive rate, a 100% true positive rate, and that our prior belief about drunk driving in the population is 1/1000. \n",
        " - What is the probability that a person is drunk after one positive breathalyzer test?\n",
        " - What is the probability that a person is drunk after two positive breathalyzer tests?\n",
        " - How many positive breathalyzer tests are needed in order to have a probability that's greater than 95% that a person is drunk beyond the legal limit?\n",
        "\n",
        "\n"
      ]
    },
    {
      "cell_type": "code",
      "metadata": {
        "id": "xpVhZyUnbf7o",
        "colab_type": "code",
        "colab": {
          "base_uri": "https://localhost:8080/",
          "height": 1000
        },
        "outputId": "5720cd17-31a2-4511-8b97-1bab22aae009"
      },
      "source": [
        "# TODO - code!\n",
        "\n",
        "from scipy import stats\n",
        "import numpy as np\n",
        "\n",
        "# put vars at the top, so they're easily accessible/changeable \n",
        "false_positive_rate = .08   # pos given non usr\n",
        "true_positive_rate = 1      # pos given usr\n",
        "prob_drunk_prior = 1/1000   # usr\n",
        "\n",
        "howManyTests = 1            # set and declare counting var\n",
        "\n",
        "def prob_drunk_given_positive( false_positive_rate,\n",
        "                              true_positive_rate,\n",
        "                              prob_drunk_prior):\n",
        "\n",
        "    # Declared as a global, telling the function (if I'm understanding this\n",
        "    # correctly) that it's the same variable as the one outside the function\n",
        "    global howManyTests\n",
        "    print( \"Attempt #\" + str(howManyTests))\n",
        "\n",
        "    # Bayes Theorem equation, followed by some fun --possibly dystopian-- flavor \n",
        "    # that displays the underlying math and allows accurate comparisons between \n",
        "    # steps (to 17 places)\n",
        "    postProb =( (true_positive_rate * prob_drunk_prior) / \n",
        "               ( (true_positive_rate * prob_drunk_prior) + \n",
        "                (false_positive_rate * (1 - false_positive_rate)) ) \n",
        "              )\n",
        "    print( \"Test's probability of showing true positive: {:.3f}%\".format( postProb*100) )\n",
        "    print( \"\\n     **DEBUG MODE ENABLED**\\n **SHOWING TRUTH DIFFERENTIAL**\\n\", \n",
        "          \"Current: {:.17f}%\\n Prior:   {:.17f}%\\n\\n\".format( postProb*100, prob_drunk_prior*100) )\n",
        "\n",
        "    # While loop, because we don't actually know how long or how many steps this\n",
        "    # process is going to take, but we do want it to stop eventually\n",
        "    # Counter increment, break condition, and...\n",
        "    while postProb < 0.95:\n",
        "        howManyTests += 1\n",
        "        if postProb == prob_drunk_prior:\n",
        "            return( print( \"\\nERROR: probability capped at {:.3f}% after {} tests, aborting process.\".format( postProb*100, \n",
        "                            howManyTests-1), \"Results inconclusive. \\n.\\n.\\n.\\nInstruction: let driver go.\")\n",
        "            )\n",
        "            break\n",
        "        # RECURSIONNNNNNNNNN! Also, taking the above Theorem output (postProb)\n",
        "        # and inserting that in place of the \"prior knowledge/contextual\" var,\n",
        "        # prob_drunk_prior, in this case -- so the accuracy can build/increment\n",
        "        else:\n",
        "            prob_drunk_given_positive( false_positive_rate, \n",
        "                                true_positive_rate, \n",
        "                                postProb)\n",
        "            break\n",
        "\n",
        "    # IF the Theorem output meets or exceeds the given threshold, we print a\n",
        "    # success statement, confirming how many times the test had to run to reach\n",
        "    # said threshold\n",
        "    # LIKE ABOVE - howManyTests is subtracted by 1 on display because it seems \n",
        "    # that it's being incremented before break checks are being performed...\n",
        "    # but it works, so I'm not going to poke that bear if I don't have to....\n",
        "    if postProb >= 0.95:\n",
        "        return( print( \"\\nIt took {} tests to reach a greater than 95% probability\".format( \n",
        "            howManyTests-1) )\n",
        "        )\n",
        "\n",
        "# Execution call\n",
        "prob_drunk_given_positive( false_positive_rate, \n",
        "                          true_positive_rate, \n",
        "                          prob_drunk_prior)\n"
      ],
      "execution_count": 43,
      "outputs": [
        {
          "output_type": "stream",
          "text": [
            "Attempt #1\n",
            "Test's probability of showing true positive: 1.340%\n",
            "\n",
            "     **DEBUG MODE ENABLED**\n",
            " **SHOWING TRUTH DIFFERENTIAL**\n",
            " Current: 1.34048257372654156%\n",
            " Prior:   0.10000000000000001%\n",
            "\n",
            "\n",
            "Attempt #2\n",
            "Test's probability of showing true positive: 15.407%\n",
            "\n",
            "     **DEBUG MODE ENABLED**\n",
            " **SHOWING TRUTH DIFFERENTIAL**\n",
            " Current: 15.40699107627077069%\n",
            " Prior:   1.34048257372654156%\n",
            "\n",
            "\n",
            "Attempt #3\n",
            "Test's probability of showing true positive: 67.672%\n",
            "\n",
            "     **DEBUG MODE ENABLED**\n",
            " **SHOWING TRUTH DIFFERENTIAL**\n",
            " Current: 67.67249578416593181%\n",
            " Prior:   15.40699107627077069%\n",
            "\n",
            "\n",
            "Attempt #4\n",
            "Test's probability of showing true positive: 90.191%\n",
            "\n",
            "     **DEBUG MODE ENABLED**\n",
            " **SHOWING TRUTH DIFFERENTIAL**\n",
            " Current: 90.19091671804261523%\n",
            " Prior:   67.67249578416593181%\n",
            "\n",
            "\n",
            "Attempt #5\n",
            "Test's probability of showing true positive: 92.455%\n",
            "\n",
            "     **DEBUG MODE ENABLED**\n",
            " **SHOWING TRUTH DIFFERENTIAL**\n",
            " Current: 92.45522210593564694%\n",
            " Prior:   90.19091671804261523%\n",
            "\n",
            "\n",
            "Attempt #6\n",
            "Test's probability of showing true positive: 92.626%\n",
            "\n",
            "     **DEBUG MODE ENABLED**\n",
            " **SHOWING TRUTH DIFFERENTIAL**\n",
            " Current: 92.62637517132536402%\n",
            " Prior:   92.45522210593564694%\n",
            "\n",
            "\n",
            "Attempt #7\n",
            "Test's probability of showing true positive: 92.639%\n",
            "\n",
            "     **DEBUG MODE ENABLED**\n",
            " **SHOWING TRUTH DIFFERENTIAL**\n",
            " Current: 92.63899707596287669%\n",
            " Prior:   92.62637517132536402%\n",
            "\n",
            "\n",
            "Attempt #8\n",
            "Test's probability of showing true positive: 92.640%\n",
            "\n",
            "     **DEBUG MODE ENABLED**\n",
            " **SHOWING TRUTH DIFFERENTIAL**\n",
            " Current: 92.63992618405055168%\n",
            " Prior:   92.63899707596287669%\n",
            "\n",
            "\n",
            "Attempt #9\n",
            "Test's probability of showing true positive: 92.640%\n",
            "\n",
            "     **DEBUG MODE ENABLED**\n",
            " **SHOWING TRUTH DIFFERENTIAL**\n",
            " Current: 92.63999456714211078%\n",
            " Prior:   92.63992618405055168%\n",
            "\n",
            "\n",
            "Attempt #10\n",
            "Test's probability of showing true positive: 92.640%\n",
            "\n",
            "     **DEBUG MODE ENABLED**\n",
            " **SHOWING TRUTH DIFFERENTIAL**\n",
            " Current: 92.63999960014163548%\n",
            " Prior:   92.63999456714211078%\n",
            "\n",
            "\n",
            "Attempt #11\n",
            "Test's probability of showing true positive: 92.640%\n",
            "\n",
            "     **DEBUG MODE ENABLED**\n",
            " **SHOWING TRUTH DIFFERENTIAL**\n",
            " Current: 92.63999997057042890%\n",
            " Prior:   92.63999960014163548%\n",
            "\n",
            "\n",
            "Attempt #12\n",
            "Test's probability of showing true positive: 92.640%\n",
            "\n",
            "     **DEBUG MODE ENABLED**\n",
            " **SHOWING TRUTH DIFFERENTIAL**\n",
            " Current: 92.63999999783398209%\n",
            " Prior:   92.63999997057042890%\n",
            "\n",
            "\n",
            "Attempt #13\n",
            "Test's probability of showing true positive: 92.640%\n",
            "\n",
            "     **DEBUG MODE ENABLED**\n",
            " **SHOWING TRUTH DIFFERENTIAL**\n",
            " Current: 92.63999999984058320%\n",
            " Prior:   92.63999999783398209%\n",
            "\n",
            "\n",
            "Attempt #14\n",
            "Test's probability of showing true positive: 92.640%\n",
            "\n",
            "     **DEBUG MODE ENABLED**\n",
            " **SHOWING TRUTH DIFFERENTIAL**\n",
            " Current: 92.63999999998826240%\n",
            " Prior:   92.63999999984058320%\n",
            "\n",
            "\n",
            "Attempt #15\n",
            "Test's probability of showing true positive: 92.640%\n",
            "\n",
            "     **DEBUG MODE ENABLED**\n",
            " **SHOWING TRUTH DIFFERENTIAL**\n",
            " Current: 92.63999999999913371%\n",
            " Prior:   92.63999999998826240%\n",
            "\n",
            "\n",
            "Attempt #16\n",
            "Test's probability of showing true positive: 92.640%\n",
            "\n",
            "     **DEBUG MODE ENABLED**\n",
            " **SHOWING TRUTH DIFFERENTIAL**\n",
            " Current: 92.63999999999992951%\n",
            " Prior:   92.63999999999913371%\n",
            "\n",
            "\n",
            "Attempt #17\n",
            "Test's probability of showing true positive: 92.640%\n",
            "\n",
            "     **DEBUG MODE ENABLED**\n",
            " **SHOWING TRUTH DIFFERENTIAL**\n",
            " Current: 92.64000000000000057%\n",
            " Prior:   92.63999999999992951%\n",
            "\n",
            "\n",
            "Attempt #18\n",
            "Test's probability of showing true positive: 92.640%\n",
            "\n",
            "     **DEBUG MODE ENABLED**\n",
            " **SHOWING TRUTH DIFFERENTIAL**\n",
            " Current: 92.64000000000000057%\n",
            " Prior:   92.64000000000000057%\n",
            "\n",
            "\n",
            "\n",
            "ERROR: probability capped at 92.640% after 18 tests, aborting process. Results inconclusive. \n",
            ".\n",
            ".\n",
            ".\n",
            "Instruction: let driver go.\n"
          ],
          "name": "stdout"
        }
      ]
    },
    {
      "cell_type": "markdown",
      "metadata": {
        "id": "ozZuum8avZWV",
        "colab_type": "text"
      },
      "source": [
        "### 2) Explore `scipy.stats.bayes_mvs`  \n",
        "Read its documentation, and experiment with it on data you've tested in other ways earlier this week.\n",
        " - Create a visualization comparing the results of a Bayesian approach to a traditional/frequentist approach. (with a large sample size they should look close to identical, however, take this opportunity to practice visualizing condfidence intervals in general. The following are some potential ways that you could visualize confidence intervals on your graph:\n",
        "  - [Matplotlib Error Bars](https://matplotlib.org/3.1.1/api/_as_gen/matplotlib.pyplot.errorbar.html)\n",
        "  - [Seaborn barplot with error bars](https://seaborn.pydata.org/generated/seaborn.barplot.html)\n",
        "  - [Vertical ines to show bounds of confidence interval](https://www.simplypsychology.org/confidence-interval.jpg)\n",
        "  - [Confidence Intervals on Box Plots](https://matplotlib.org/3.1.1/api/_as_gen/matplotlib.axes.Axes.boxplot.html)"
      ]
    },
    {
      "cell_type": "code",
      "metadata": {
        "id": "D-h_T1GzqoNp",
        "colab_type": "code",
        "colab": {}
      },
      "source": [
        "columnHeaders =['party','handicapped-infants','water-project',\n",
        "                'budget','physician-fee-freeze', 'el-salvador-aid',\n",
        "                'religious-groups','anti-satellite-ban','aid-to-contras',\n",
        "                'mx-missile','immigration','synfuels', 'education', \n",
        "                'right-to-sue','crime','duty-free','south-africa']\n",
        "\n",
        "df = pd.read_csv( 'https://archive.ics.uci.edu/ml/machine-learning-databases/voting-records/house-votes-84.data', \n",
        "                 header = None,\n",
        "                 names = columnHeaders)\n",
        "rep = df[ df.party == 'republican']\n",
        "dem = df[ df.party == 'democrat']\n",
        "rep1 = rep.replace({ 'y': 1, 'n': 0, '?': np.nan})\n",
        "dem1 = dem.replace({ 'y': 1, 'n': 0, '?': np.nan})\n",
        "\n"
      ],
      "execution_count": 0,
      "outputs": []
    },
    {
      "cell_type": "code",
      "metadata": {
        "id": "YXut40XrQ8RV",
        "colab_type": "code",
        "colab": {}
      },
      "source": [
        "false_positive_rate = .08               # pos given non usr\n",
        "true_positive_rate = 1                  # pos given usr\n",
        "prob_drunk_congressman_prior = 1/1000   # usr\n",
        "\n",
        "howManyTests = 1                        # set and declare counting var\n",
        "\n",
        "def prob_drunk_given_positive( false_positive_rate,\n",
        "                              true_positive_rate,\n",
        "                              prob_drunk_congressman_prior):\n",
        "\n",
        "    global howManyTests\n",
        "#    print( \"Attempt #\" + str(howManyTests))\n",
        "\n",
        "    postProb =( (true_positive_rate * prob_drunk_congressman_prior) / \n",
        "               ( (true_positive_rate * prob_drunk_congressman_prior) + \n",
        "                (false_positive_rate * (1 - false_positive_rate)) ) \n",
        "              )\n",
        "#    print( \"Test's probability of showing true positive: {:.3f}%\".format( postProb*100) )\n",
        "#    print( \"\\n     **DEBUG MODE ENABLED**\\n **SHOWING TRUTH DIFFERENTIAL**\\n\", \n",
        "#          \"Current: {:.17f}%\\n Prior:   {:.17f}%\\n\\n\".format( postProb*100, prob_drunk_congressman_prior*100) )\n",
        "\n",
        "    while postProb < 0.95:\n",
        "        howManyTests += 1\n",
        "        if postProb == prob_drunk_congressman_prior:\n",
        "            return( print( \"\\nERROR: probability capped at {:.3f}% after {} tests, aborting process.\".format( postProb*100, \n",
        "                            howManyTests-1), \"Results inconclusive. \\n.\\n.\\n.\\nInstruction: let this vote go.\")\n",
        "            )\n",
        "            break\n",
        "        else:\n",
        "            prob_drunk_given_positive( false_positive_rate, \n",
        "                                true_positive_rate, \n",
        "                                postProb)\n",
        "            break\n",
        "\n",
        "    if postProb >= 0.95:\n",
        "        return( print( \"\\nIt took {} tests to reach a greater than 95% probability\".format( \n",
        "            howManyTests-1) )\n",
        "        )\n",
        "\n",
        "# Execution call\n",
        "print( \"Verbose mode: OFF - RUNNING SILENT\")\n",
        "prob_drunk_given_positive( false_positive_rate, \n",
        "                          true_positive_rate, \n",
        "                          prob_drunk_congressman_prior)\n",
        "\n",
        "### HOW do I even get a graph out of this??\n",
        "###\n",
        "### I feel like maybe I'm thinking too hard about this, and as a result, going\n",
        "### about this in the entirely wrong way, making this way more difficult for\n",
        "### myself than I need to...."
      ],
      "execution_count": 0,
      "outputs": []
    },
    {
      "cell_type": "code",
      "metadata": {
        "id": "IJeSIp00Q8Bt",
        "colab_type": "code",
        "colab": {}
      },
      "source": [
        ""
      ],
      "execution_count": 0,
      "outputs": []
    },
    {
      "cell_type": "markdown",
      "metadata": {
        "id": "JJRqls1Ovbac",
        "colab_type": "text"
      },
      "source": [
        "### 3) In your own words, summarize the difference between Bayesian and Frequentist statistics\n",
        "\n",
        "If you're unsure where to start, check out [this blog post of Bayes theorem with Python](https://dataconomy.com/2015/02/introduction-to-bayes-theorem-with-python/)."
      ]
    },
    {
      "cell_type": "code",
      "metadata": {
        "id": "TVW3XhI8vhYM",
        "colab_type": "code",
        "colab": {}
      },
      "source": [
        "## Bayesian (Baesian) statistics allows for context, whereas Frequentist doesn't know what that word means, or doesn't believe in it."
      ],
      "execution_count": 0,
      "outputs": []
    },
    {
      "cell_type": "markdown",
      "metadata": {
        "id": "uWgWjp3PQ3Sq",
        "colab_type": "text"
      },
      "source": [
        "## Resources"
      ]
    },
    {
      "cell_type": "markdown",
      "metadata": {
        "id": "QRgHqmYIQ9qn",
        "colab_type": "text"
      },
      "source": [
        "- [Worked example of Bayes rule calculation](https://en.wikipedia.org/wiki/Bayes'_theorem#Examples) (helpful as it fully breaks out the denominator)\n",
        "- [Source code for mvsdist in scipy](https://github.com/scipy/scipy/blob/90534919e139d2a81c24bf08341734ff41a3db12/scipy/stats/morestats.py#L139)"
      ]
    },
    {
      "cell_type": "markdown",
      "metadata": {
        "id": "GP7Jv1XvwtkX",
        "colab_type": "text"
      },
      "source": [
        "## Stretch Goals:\n",
        "\n",
        "- Go back and study the content from Modules 1 & 2 to make sure that you're really comfortable with them.\n",
        "- Apply a Bayesian technique to a problem you previously worked (in an assignment or project work) on from a frequentist (standard) perspective\n",
        "- Check out [PyMC3](https://docs.pymc.io/) (note this goes beyond hypothesis tests into modeling) - read the guides and work through some examples\n",
        "- Take PyMC3 further - see if you can build something with it!"
      ]
    },
    {
      "cell_type": "code",
      "metadata": {
        "id": "iDi0eFr1x-v_",
        "colab_type": "code",
        "colab": {}
      },
      "source": [
        ""
      ],
      "execution_count": 0,
      "outputs": []
    }
  ]
}