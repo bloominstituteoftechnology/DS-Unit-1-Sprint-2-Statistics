{
  "nbformat": 4,
  "nbformat_minor": 0,
  "metadata": {
    "colab": {
      "name": "SW_123_Introduction_to_Bayesian_Inference_Assignment.ipynb",
      "provenance": [],
      "collapsed_sections": [],
      "include_colab_link": true
    },
    "kernelspec": {
      "name": "python3",
      "display_name": "Python 3"
    }
  },
  "cells": [
    {
      "cell_type": "markdown",
      "metadata": {
        "id": "view-in-github",
        "colab_type": "text"
      },
      "source": [
        "<a href=\"https://colab.research.google.com/github/SaraWestWA/DS-Unit-1-Sprint-2-Statistics/blob/master/module3/SW_123_Introduction_to_Bayesian_Inference_Assignment.ipynb\" target=\"_parent\"><img src=\"https://colab.research.google.com/assets/colab-badge.svg\" alt=\"Open In Colab\"/></a>"
      ]
    },
    {
      "cell_type": "markdown",
      "metadata": {
        "id": "H7OLbevlbd_Z",
        "colab_type": "text"
      },
      "source": [
        "# Lambda School Data Science Module 123\n",
        "\n",
        "## Introduction to Bayesian Inference\n",
        "\n",
        "\n"
      ]
    },
    {
      "cell_type": "markdown",
      "metadata": {
        "id": "P-DzzRk5bf0z",
        "colab_type": "text"
      },
      "source": [
        "## Assignment - Code it up!\n",
        "\n",
        "We used pure math to apply Bayes Theorem to drug tests. Now write Python code to reproduce the results! This is purposefully open ended - you'll have to think about how you should represent probabilities and events. You can and should look things up.\n",
        "\n",
        "Specific goals/targets:\n",
        "\n",
        "### 1) Write a function \n",
        "\n",
        "`def prob_drunk_given_positive(prob_drunk_prior, false_positive_rate, true_positive_rate):` \n",
        "\n",
        "You should only truly need these two values in order to apply Bayes Theorem. In this example, imagine that individuals are taking a breathalyzer test with an 8% false positive rate, a 100% true positive rate, and that our prior belief about drunk driving in the population is 1/1000. \n",
        " - What is the probability that a person is drunk after one positive breathalyzer test?\n",
        " - What is the probability that a person is drunk after two positive breathalyzer tests?\n",
        " - How many positive breathalyzer tests are needed in order to have a probability that's greater than 95% that a person is drunk beyond the legal limit?\n",
        "\n",
        "### 2) Explore `scipy.stats.bayes_mvs`  \n",
        "Read its documentation, and experiment with it on data you've tested in other ways earlier this week.\n",
        " - Create a visualization comparing the results of a Bayesian approach to a traditional/frequentist approach. (with a large sample size they should look close to identical, however, take this opportunity to practice visualizing condfidence intervals in general. The following are some potential ways that you could visualize confidence intervals on your graph:\n",
        "  - [Matplotlib Error Bars](https://matplotlib.org/3.1.1/api/_as_gen/matplotlib.pyplot.errorbar.html)\n",
        "  - [Seaborn barplot with error bars](https://seaborn.pydata.org/generated/seaborn.barplot.html)\n",
        "  - [Vertical ines to show bounds of confidence interval](https://www.simplypsychology.org/confidence-interval.jpg)\n",
        "  - [Confidence Intervals on Box Plots](https://matplotlib.org/3.1.1/api/_as_gen/matplotlib.axes.Axes.boxplot.html)\n",
        "\n",
        "### 3) In your own words, summarize the difference between Bayesian and Frequentist statistics\n",
        "\n",
        "If you're unsure where to start, check out [this blog post of Bayes theorem with Python](https://dataconomy.com/2015/02/introduction-to-bayes-theorem-with-python/).\n",
        "\n"
      ]
    },
    {
      "cell_type": "markdown",
      "metadata": {
        "id": "-JR7ozyFjupm",
        "colab_type": "text"
      },
      "source": [
        "![image.png](data:image/png;base64,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)"
      ]
    },
    {
      "cell_type": "code",
      "metadata": {
        "id": "wNMImSlMxXjJ",
        "colab_type": "code",
        "colab": {}
      },
      "source": [
        "import pandas as pd\n",
        "import numpy as np\n",
        "# import scipy as"
      ],
      "execution_count": 0,
      "outputs": []
    },
    {
      "cell_type": "markdown",
      "metadata": {
        "id": "5nOKDU-irQND",
        "colab_type": "text"
      },
      "source": [
        "### 1) Write a function \n",
        "\n",
        "`def prob_drunk_given_positive(prob_drunk_prior, false_positive_rate, true_positive_rate):` \n",
        "\n",
        "You should only truly need these two values in order to apply Bayes Theorem. In this example, imagine that individuals are taking a breathalyzer test with an 8% false positive rate, a 100% true positive rate, and that our prior belief about drunk driving in the population is 1/1000. \n",
        " - What is the probability that a person is drunk after one positive breathalyzer test?\n",
        " - What is the probability that a person is drunk after two positive breathalyzer tests?\n",
        " - How many positive breathalyzer tests are needed in order to have a probability that's greater than 95% that a person is drunk beyond the legal limit?"
      ]
    },
    {
      "cell_type": "markdown",
      "metadata": {
        "id": "QQBiyUcCkQs4",
        "colab_type": "text"
      },
      "source": [
        "The Baysein proabability of A given B:\n",
        "\n",
        "***P***(A|B)=***P***(B|A)* **P**(A)\n",
        "**DIVIDED BY**\n",
        "( ***P***(B|A)****P***(B) + ***P***(B|not A)****P***(not A) )\n",
        "\n",
        "We begin knowing:\n",
        "\n",
        "*   Probability of A & Not A (prior supposition)\n",
        "*   Probability of B & False B\n"
      ]
    },
    {
      "cell_type": "markdown",
      "metadata": {
        "colab_type": "text",
        "id": "BVClqplslwTn"
      },
      "source": [
        "The Baysein proabability of A given B:\n",
        "\n",
        "***P***(A|B)=***P***(B|A)* **P**(A)\n",
        "**DIVIDED BY**\n",
        "( ***P***(B|A)****P***(B) + ***P***(B|not A)****P***(not A) )\n",
        "\n",
        "We begin knowing:\n",
        "\n",
        "*   Probability of A & Not A (prior supposition)\n",
        "*   Probability of B & False B\n"
      ]
    },
    {
      "cell_type": "code",
      "metadata": {
        "id": "mWtMj8JZ-WjQ",
        "colab_type": "code",
        "outputId": "962d7211-5b10-4815-b137-a91a0bedaa80",
        "colab": {
          "base_uri": "https://localhost:8080/",
          "height": 34
        }
      },
      "source": [
        "# calculation\n",
        "prob_drunk = 0.001\n",
        "prob_sober = 1- prob_drunk\n",
        "prob_positive_if_drunk = 1\n",
        "prob_positive_if_sober = 0.08\n",
        "\n",
        "numerator = prob_positive_if_drunk*prob_drunk\n",
        "denominator = numerator+(prob_positive_if_sober*(1-prob_drunk))\n",
        "numerator/denominator\n"
      ],
      "execution_count": 3,
      "outputs": [
        {
          "output_type": "execute_result",
          "data": {
            "text/plain": [
              "0.012357884330202669"
            ]
          },
          "metadata": {
            "tags": []
          },
          "execution_count": 3
        }
      ]
    },
    {
      "cell_type": "code",
      "metadata": {
        "id": "891uvPYYyDPS",
        "colab_type": "code",
        "outputId": "edea3a15-dd0e-4168-e5a6-d36cac1f069c",
        "colab": {
          "base_uri": "https://localhost:8080/",
          "height": 34
        }
      },
      "source": [
        "# create a function to calculate the probability of being drunk with + test\n",
        "prob_drunk = 0.001\n",
        "prob_sober = 1- prob_drunk\n",
        "prob_positive_if_drunk = 1\n",
        "prob_positive_if_sober = 0.08\n",
        "\n",
        "\n",
        "def prob_drunk_given_positive(prob_drunk, prob_positive_if_sober, prob_positive_if_drunk):\n",
        "  numerator = prob_positive_if_drunk*prob_drunk\n",
        "  denominator = numerator+(prob_positive_if_sober*(1-prob_drunk))\n",
        "  x= numerator/denominator\n",
        "  return x\n",
        "\n",
        "prob_drunk_given_positive(0.001, 0.08, 1)\n",
        "\n",
        "\n",
        "# numerator = (p_b_if_a)*p_a\n",
        "# denominator = numerator + ((p_b_if_not_a)*(1-p_a)),\n",
        "# p_a_if_b = numerator/denominator\n",
        "\n",
        "# p_a_if_b\n"
      ],
      "execution_count": 4,
      "outputs": [
        {
          "output_type": "execute_result",
          "data": {
            "text/plain": [
              "0.012357884330202669"
            ]
          },
          "metadata": {
            "tags": []
          },
          "execution_count": 4
        }
      ]
    },
    {
      "cell_type": "code",
      "metadata": {
        "id": "Mo9mS1qx-dHV",
        "colab_type": "code",
        "outputId": "cbe91549-9e37-4b60-caae-5afa0e992678",
        "colab": {
          "base_uri": "https://localhost:8080/",
          "height": 187
        }
      },
      "source": [
        "# create a while loop to repeatedly calculate until the desired\n",
        "# probability level & prepare arrays to make a table\n",
        "num_tests=[]\n",
        "count = 1\n",
        "x = prob_drunk_given_positive(0.001, 0.08, 1)\n",
        "print ('# tests: ',count)\n",
        "print('prob of drunk:', x)\n",
        "num_tests = [count]\n",
        "prob_be_drunk=[x]\n",
        "while x <0.95:\n",
        "  x = prob_drunk_given_positive(x, 0.08, 1)\n",
        "  count=count+1\n",
        "  num_tests.append(count)\n",
        "  prob_be_drunk.append(x)\n",
        "  print ('# of breathalyzer tests: ',count)\n",
        "  print('probability of being drunk:', x)\n",
        "\n",
        "print(num_tests)\n",
        "print(prob_be_drunk)\n",
        "\n"
      ],
      "execution_count": 5,
      "outputs": [
        {
          "output_type": "stream",
          "text": [
            "# tests:  1\n",
            "prob of drunk: 0.012357884330202669\n",
            "# of breathalyzer tests:  2\n",
            "probability of being drunk: 0.13525210993291495\n",
            "# of breathalyzer tests:  3\n",
            "probability of being drunk: 0.6615996951348605\n",
            "# of breathalyzer tests:  4\n",
            "probability of being drunk: 0.9606895076105054\n",
            "[1, 2, 3, 4]\n",
            "[0.012357884330202669, 0.13525210993291495, 0.6615996951348605, 0.9606895076105054]\n"
          ],
          "name": "stdout"
        }
      ]
    },
    {
      "cell_type": "code",
      "metadata": {
        "id": "UKAiwAFhHGEl",
        "colab_type": "code",
        "outputId": "76b469c6-89b2-461e-c125-0204addce5f5",
        "colab": {
          "base_uri": "https://localhost:8080/",
          "height": 173
        }
      },
      "source": [
        "# Make a table to display the information\n",
        "drunk_test_df = pd.DataFrame(\n",
        "    [num_tests,\n",
        "    prob_be_drunk],\n",
        "    index =['# of breathalyzer tests','probability of being drunk']).T\n",
        "\n",
        "drunk_test_df"
      ],
      "execution_count": 6,
      "outputs": [
        {
          "output_type": "execute_result",
          "data": {
            "text/html": [
              "<div>\n",
              "<style scoped>\n",
              "    .dataframe tbody tr th:only-of-type {\n",
              "        vertical-align: middle;\n",
              "    }\n",
              "\n",
              "    .dataframe tbody tr th {\n",
              "        vertical-align: top;\n",
              "    }\n",
              "\n",
              "    .dataframe thead th {\n",
              "        text-align: right;\n",
              "    }\n",
              "</style>\n",
              "<table border=\"1\" class=\"dataframe\">\n",
              "  <thead>\n",
              "    <tr style=\"text-align: right;\">\n",
              "      <th></th>\n",
              "      <th># of breathalyzer tests</th>\n",
              "      <th>probability of being drunk</th>\n",
              "    </tr>\n",
              "  </thead>\n",
              "  <tbody>\n",
              "    <tr>\n",
              "      <th>0</th>\n",
              "      <td>1.0</td>\n",
              "      <td>0.012358</td>\n",
              "    </tr>\n",
              "    <tr>\n",
              "      <th>1</th>\n",
              "      <td>2.0</td>\n",
              "      <td>0.135252</td>\n",
              "    </tr>\n",
              "    <tr>\n",
              "      <th>2</th>\n",
              "      <td>3.0</td>\n",
              "      <td>0.661600</td>\n",
              "    </tr>\n",
              "    <tr>\n",
              "      <th>3</th>\n",
              "      <td>4.0</td>\n",
              "      <td>0.960690</td>\n",
              "    </tr>\n",
              "  </tbody>\n",
              "</table>\n",
              "</div>"
            ],
            "text/plain": [
              "   # of breathalyzer tests  probability of being drunk\n",
              "0                      1.0                    0.012358\n",
              "1                      2.0                    0.135252\n",
              "2                      3.0                    0.661600\n",
              "3                      4.0                    0.960690"
            ]
          },
          "metadata": {
            "tags": []
          },
          "execution_count": 6
        }
      ]
    },
    {
      "cell_type": "code",
      "metadata": {
        "id": "UJ-j8Cp4IrvK",
        "colab_type": "code",
        "outputId": "33709f1b-5e31-484e-9c48-7a37aced7f06",
        "colab": {
          "base_uri": "https://localhost:8080/",
          "height": 111
        }
      },
      "source": [
        "# Make a table to display the information\n",
        "drunk_test_df = pd.DataFrame(\n",
        "    [num_tests,\n",
        "    prob_be_drunk],\n",
        "    index =['# of breathalyzer tests','probability of being drunk'])\n",
        "\n",
        "drunk_test_df"
      ],
      "execution_count": 7,
      "outputs": [
        {
          "output_type": "execute_result",
          "data": {
            "text/html": [
              "<div>\n",
              "<style scoped>\n",
              "    .dataframe tbody tr th:only-of-type {\n",
              "        vertical-align: middle;\n",
              "    }\n",
              "\n",
              "    .dataframe tbody tr th {\n",
              "        vertical-align: top;\n",
              "    }\n",
              "\n",
              "    .dataframe thead th {\n",
              "        text-align: right;\n",
              "    }\n",
              "</style>\n",
              "<table border=\"1\" class=\"dataframe\">\n",
              "  <thead>\n",
              "    <tr style=\"text-align: right;\">\n",
              "      <th></th>\n",
              "      <th>0</th>\n",
              "      <th>1</th>\n",
              "      <th>2</th>\n",
              "      <th>3</th>\n",
              "    </tr>\n",
              "  </thead>\n",
              "  <tbody>\n",
              "    <tr>\n",
              "      <th># of breathalyzer tests</th>\n",
              "      <td>1.000000</td>\n",
              "      <td>2.000000</td>\n",
              "      <td>3.0000</td>\n",
              "      <td>4.00000</td>\n",
              "    </tr>\n",
              "    <tr>\n",
              "      <th>probability of being drunk</th>\n",
              "      <td>0.012358</td>\n",
              "      <td>0.135252</td>\n",
              "      <td>0.6616</td>\n",
              "      <td>0.96069</td>\n",
              "    </tr>\n",
              "  </tbody>\n",
              "</table>\n",
              "</div>"
            ],
            "text/plain": [
              "                                   0         1       2        3\n",
              "# of breathalyzer tests     1.000000  2.000000  3.0000  4.00000\n",
              "probability of being drunk  0.012358  0.135252  0.6616  0.96069"
            ]
          },
          "metadata": {
            "tags": []
          },
          "execution_count": 7
        }
      ]
    },
    {
      "cell_type": "markdown",
      "metadata": {
        "id": "qT75sPcEQ26l",
        "colab_type": "text"
      },
      "source": [
        "### 2) Explore `scipy.stats.bayes_mvs`  \n",
        "Read its documentation, and experiment with it on data you've tested in other ways earlier this week.\n",
        " - Create a visualization comparing the results of a Bayesian approach to a traditional/frequentist approach. (with a large sample size they should look close to identical, however, take this opportunity to practice visualizing condfidence intervals in general. The following are some potential ways that you could visualize confidence intervals on your graph:\n",
        "  - [Matplotlib Error Bars](https://matplotlib.org/3.1.1/api/_as_gen/matplotlib.pyplot.errorbar.html)\n",
        "  - [Seaborn barplot with error bars](https://seaborn.pydata.org/generated/seaborn.barplot.html)\n",
        "  - [Vertical ines to show bounds of confidence interval](https://www.simplypsychology.org/confidence-interval.jpg)\n",
        "  - [Confidence Intervals on Box Plots](https://matplotlib.org/3.1.1/api/_as_gen/matplotlib.axes.Axes.boxplot.html)\n"
      ]
    },
    {
      "cell_type": "code",
      "metadata": {
        "id": "iaa-kooZT_OD",
        "colab_type": "code",
        "colab": {}
      },
      "source": [
        "import scipy.stats\n",
        "?scipy.stats.bayes_mvs\n"
      ],
      "execution_count": 0,
      "outputs": []
    },
    {
      "cell_type": "code",
      "metadata": {
        "id": "gkrYyppXWCLn",
        "colab_type": "code",
        "outputId": "b52df719-6c40-4d9d-88ee-be8e189bf6d1",
        "colab": {
          "base_uri": "https://localhost:8080/",
          "height": 204
        }
      },
      "source": [
        "# load lending club data set\n",
        "# too big to be used from GitHub\n",
        "! wget https://resources.lendingclub.com/LoanStats_2018Q4.csv.zip"
      ],
      "execution_count": 9,
      "outputs": [
        {
          "output_type": "stream",
          "text": [
            "--2020-05-29 18:10:49--  https://resources.lendingclub.com/LoanStats_2018Q4.csv.zip\n",
            "Resolving resources.lendingclub.com (resources.lendingclub.com)... 44.228.179.66, 35.163.140.110, 52.89.160.109\n",
            "Connecting to resources.lendingclub.com (resources.lendingclub.com)|44.228.179.66|:443... connected.\n",
            "HTTP request sent, awaiting response... 200 OK\n",
            "Length: unspecified [application/zip]\n",
            "Saving to: ‘LoanStats_2018Q4.csv.zip’\n",
            "\n",
            "LoanStats_2018Q4.cs     [              <=>   ]  22.05M  2.06MB/s    in 11s     \n",
            "\n",
            "2020-05-29 18:11:01 (2.00 MB/s) - ‘LoanStats_2018Q4.csv.zip’ saved [23121687]\n",
            "\n"
          ],
          "name": "stdout"
        }
      ]
    },
    {
      "cell_type": "code",
      "metadata": {
        "id": "j-iGcljIXNSo",
        "colab_type": "code",
        "outputId": "0f9aff6f-1aa9-47f4-9c65-2c8049d5288e",
        "colab": {
          "base_uri": "https://localhost:8080/",
          "height": 51
        }
      },
      "source": [
        "# unzip\n",
        "! unzip LoanStats_2018Q4.csv.zip"
      ],
      "execution_count": 10,
      "outputs": [
        {
          "output_type": "stream",
          "text": [
            "Archive:  LoanStats_2018Q4.csv.zip\n",
            "  inflating: LoanStats_2018Q4.csv    \n"
          ],
          "name": "stdout"
        }
      ]
    },
    {
      "cell_type": "code",
      "metadata": {
        "id": "_A15evg5XNZg",
        "colab_type": "code",
        "outputId": "8938ab0b-664d-427b-9ee7-0bd031268128",
        "colab": {
          "base_uri": "https://localhost:8080/",
          "height": 389
        }
      },
      "source": [
        "# read in dataframe\n",
        "# it's almost all bold, loaded as header\n",
        "# funky rows at bottom, too\n",
        "loans=pd.read_csv('LoanStats_2018Q4.csv', header=1,skipfooter=2)\n",
        "# loans.head()\n",
        "loans.tail()"
      ],
      "execution_count": 11,
      "outputs": [
        {
          "output_type": "stream",
          "text": [
            "/usr/local/lib/python3.6/dist-packages/ipykernel_launcher.py:4: ParserWarning: Falling back to the 'python' engine because the 'c' engine does not support skipfooter; you can avoid this warning by specifying engine='python'.\n",
            "  after removing the cwd from sys.path.\n"
          ],
          "name": "stderr"
        },
        {
          "output_type": "execute_result",
          "data": {
            "text/html": [
              "<div>\n",
              "<style scoped>\n",
              "    .dataframe tbody tr th:only-of-type {\n",
              "        vertical-align: middle;\n",
              "    }\n",
              "\n",
              "    .dataframe tbody tr th {\n",
              "        vertical-align: top;\n",
              "    }\n",
              "\n",
              "    .dataframe thead th {\n",
              "        text-align: right;\n",
              "    }\n",
              "</style>\n",
              "<table border=\"1\" class=\"dataframe\">\n",
              "  <thead>\n",
              "    <tr style=\"text-align: right;\">\n",
              "      <th></th>\n",
              "      <th>id</th>\n",
              "      <th>member_id</th>\n",
              "      <th>loan_amnt</th>\n",
              "      <th>funded_amnt</th>\n",
              "      <th>funded_amnt_inv</th>\n",
              "      <th>term</th>\n",
              "      <th>int_rate</th>\n",
              "      <th>installment</th>\n",
              "      <th>grade</th>\n",
              "      <th>sub_grade</th>\n",
              "      <th>emp_title</th>\n",
              "      <th>emp_length</th>\n",
              "      <th>home_ownership</th>\n",
              "      <th>annual_inc</th>\n",
              "      <th>verification_status</th>\n",
              "      <th>issue_d</th>\n",
              "      <th>loan_status</th>\n",
              "      <th>pymnt_plan</th>\n",
              "      <th>url</th>\n",
              "      <th>desc</th>\n",
              "      <th>purpose</th>\n",
              "      <th>title</th>\n",
              "      <th>zip_code</th>\n",
              "      <th>addr_state</th>\n",
              "      <th>dti</th>\n",
              "      <th>delinq_2yrs</th>\n",
              "      <th>earliest_cr_line</th>\n",
              "      <th>inq_last_6mths</th>\n",
              "      <th>mths_since_last_delinq</th>\n",
              "      <th>mths_since_last_record</th>\n",
              "      <th>open_acc</th>\n",
              "      <th>pub_rec</th>\n",
              "      <th>revol_bal</th>\n",
              "      <th>revol_util</th>\n",
              "      <th>total_acc</th>\n",
              "      <th>initial_list_status</th>\n",
              "      <th>out_prncp</th>\n",
              "      <th>out_prncp_inv</th>\n",
              "      <th>total_pymnt</th>\n",
              "      <th>total_pymnt_inv</th>\n",
              "      <th>...</th>\n",
              "      <th>percent_bc_gt_75</th>\n",
              "      <th>pub_rec_bankruptcies</th>\n",
              "      <th>tax_liens</th>\n",
              "      <th>tot_hi_cred_lim</th>\n",
              "      <th>total_bal_ex_mort</th>\n",
              "      <th>total_bc_limit</th>\n",
              "      <th>total_il_high_credit_limit</th>\n",
              "      <th>revol_bal_joint</th>\n",
              "      <th>sec_app_earliest_cr_line</th>\n",
              "      <th>sec_app_inq_last_6mths</th>\n",
              "      <th>sec_app_mort_acc</th>\n",
              "      <th>sec_app_open_acc</th>\n",
              "      <th>sec_app_revol_util</th>\n",
              "      <th>sec_app_open_act_il</th>\n",
              "      <th>sec_app_num_rev_accts</th>\n",
              "      <th>sec_app_chargeoff_within_12_mths</th>\n",
              "      <th>sec_app_collections_12_mths_ex_med</th>\n",
              "      <th>sec_app_mths_since_last_major_derog</th>\n",
              "      <th>hardship_flag</th>\n",
              "      <th>hardship_type</th>\n",
              "      <th>hardship_reason</th>\n",
              "      <th>hardship_status</th>\n",
              "      <th>deferral_term</th>\n",
              "      <th>hardship_amount</th>\n",
              "      <th>hardship_start_date</th>\n",
              "      <th>hardship_end_date</th>\n",
              "      <th>payment_plan_start_date</th>\n",
              "      <th>hardship_length</th>\n",
              "      <th>hardship_dpd</th>\n",
              "      <th>hardship_loan_status</th>\n",
              "      <th>orig_projected_additional_accrued_interest</th>\n",
              "      <th>hardship_payoff_balance_amount</th>\n",
              "      <th>hardship_last_payment_amount</th>\n",
              "      <th>debt_settlement_flag</th>\n",
              "      <th>debt_settlement_flag_date</th>\n",
              "      <th>settlement_status</th>\n",
              "      <th>settlement_date</th>\n",
              "      <th>settlement_amount</th>\n",
              "      <th>settlement_percentage</th>\n",
              "      <th>settlement_term</th>\n",
              "    </tr>\n",
              "  </thead>\n",
              "  <tbody>\n",
              "    <tr>\n",
              "      <th>128407</th>\n",
              "      <td>NaN</td>\n",
              "      <td>NaN</td>\n",
              "      <td>23000</td>\n",
              "      <td>23000</td>\n",
              "      <td>23000.0</td>\n",
              "      <td>36 months</td>\n",
              "      <td>15.02%</td>\n",
              "      <td>797.53</td>\n",
              "      <td>C</td>\n",
              "      <td>C3</td>\n",
              "      <td>Tax Consultant</td>\n",
              "      <td>10+ years</td>\n",
              "      <td>MORTGAGE</td>\n",
              "      <td>75000.0</td>\n",
              "      <td>Source Verified</td>\n",
              "      <td>Oct-2018</td>\n",
              "      <td>Charged Off</td>\n",
              "      <td>n</td>\n",
              "      <td>NaN</td>\n",
              "      <td>NaN</td>\n",
              "      <td>debt_consolidation</td>\n",
              "      <td>Debt consolidation</td>\n",
              "      <td>352xx</td>\n",
              "      <td>AL</td>\n",
              "      <td>20.95</td>\n",
              "      <td>1</td>\n",
              "      <td>Aug-1985</td>\n",
              "      <td>2</td>\n",
              "      <td>22.0</td>\n",
              "      <td>NaN</td>\n",
              "      <td>12</td>\n",
              "      <td>0</td>\n",
              "      <td>22465</td>\n",
              "      <td>43.6%</td>\n",
              "      <td>28</td>\n",
              "      <td>w</td>\n",
              "      <td>0.00</td>\n",
              "      <td>0.00</td>\n",
              "      <td>1547.08</td>\n",
              "      <td>1547.08</td>\n",
              "      <td>...</td>\n",
              "      <td>14.3</td>\n",
              "      <td>0</td>\n",
              "      <td>0</td>\n",
              "      <td>296500</td>\n",
              "      <td>40614</td>\n",
              "      <td>47100</td>\n",
              "      <td>21000</td>\n",
              "      <td>NaN</td>\n",
              "      <td>NaN</td>\n",
              "      <td>NaN</td>\n",
              "      <td>NaN</td>\n",
              "      <td>NaN</td>\n",
              "      <td>NaN</td>\n",
              "      <td>NaN</td>\n",
              "      <td>NaN</td>\n",
              "      <td>NaN</td>\n",
              "      <td>NaN</td>\n",
              "      <td>NaN</td>\n",
              "      <td>N</td>\n",
              "      <td>NaN</td>\n",
              "      <td>NaN</td>\n",
              "      <td>NaN</td>\n",
              "      <td>NaN</td>\n",
              "      <td>NaN</td>\n",
              "      <td>NaN</td>\n",
              "      <td>NaN</td>\n",
              "      <td>NaN</td>\n",
              "      <td>NaN</td>\n",
              "      <td>NaN</td>\n",
              "      <td>NaN</td>\n",
              "      <td>NaN</td>\n",
              "      <td>NaN</td>\n",
              "      <td>NaN</td>\n",
              "      <td>N</td>\n",
              "      <td>NaN</td>\n",
              "      <td>NaN</td>\n",
              "      <td>NaN</td>\n",
              "      <td>NaN</td>\n",
              "      <td>NaN</td>\n",
              "      <td>NaN</td>\n",
              "    </tr>\n",
              "    <tr>\n",
              "      <th>128408</th>\n",
              "      <td>NaN</td>\n",
              "      <td>NaN</td>\n",
              "      <td>10000</td>\n",
              "      <td>10000</td>\n",
              "      <td>10000.0</td>\n",
              "      <td>36 months</td>\n",
              "      <td>15.02%</td>\n",
              "      <td>346.76</td>\n",
              "      <td>C</td>\n",
              "      <td>C3</td>\n",
              "      <td>security guard</td>\n",
              "      <td>5 years</td>\n",
              "      <td>MORTGAGE</td>\n",
              "      <td>38000.0</td>\n",
              "      <td>Not Verified</td>\n",
              "      <td>Oct-2018</td>\n",
              "      <td>Current</td>\n",
              "      <td>n</td>\n",
              "      <td>NaN</td>\n",
              "      <td>NaN</td>\n",
              "      <td>debt_consolidation</td>\n",
              "      <td>Debt consolidation</td>\n",
              "      <td>443xx</td>\n",
              "      <td>OH</td>\n",
              "      <td>13.16</td>\n",
              "      <td>3</td>\n",
              "      <td>Jul-1982</td>\n",
              "      <td>0</td>\n",
              "      <td>6.0</td>\n",
              "      <td>NaN</td>\n",
              "      <td>11</td>\n",
              "      <td>0</td>\n",
              "      <td>5634</td>\n",
              "      <td>37.1%</td>\n",
              "      <td>16</td>\n",
              "      <td>w</td>\n",
              "      <td>5557.25</td>\n",
              "      <td>5557.25</td>\n",
              "      <td>6233.34</td>\n",
              "      <td>6233.34</td>\n",
              "      <td>...</td>\n",
              "      <td>40.0</td>\n",
              "      <td>0</td>\n",
              "      <td>0</td>\n",
              "      <td>91403</td>\n",
              "      <td>9323</td>\n",
              "      <td>9100</td>\n",
              "      <td>2000</td>\n",
              "      <td>NaN</td>\n",
              "      <td>NaN</td>\n",
              "      <td>NaN</td>\n",
              "      <td>NaN</td>\n",
              "      <td>NaN</td>\n",
              "      <td>NaN</td>\n",
              "      <td>NaN</td>\n",
              "      <td>NaN</td>\n",
              "      <td>NaN</td>\n",
              "      <td>NaN</td>\n",
              "      <td>NaN</td>\n",
              "      <td>N</td>\n",
              "      <td>NaN</td>\n",
              "      <td>NaN</td>\n",
              "      <td>NaN</td>\n",
              "      <td>NaN</td>\n",
              "      <td>NaN</td>\n",
              "      <td>NaN</td>\n",
              "      <td>NaN</td>\n",
              "      <td>NaN</td>\n",
              "      <td>NaN</td>\n",
              "      <td>NaN</td>\n",
              "      <td>NaN</td>\n",
              "      <td>NaN</td>\n",
              "      <td>NaN</td>\n",
              "      <td>NaN</td>\n",
              "      <td>N</td>\n",
              "      <td>NaN</td>\n",
              "      <td>NaN</td>\n",
              "      <td>NaN</td>\n",
              "      <td>NaN</td>\n",
              "      <td>NaN</td>\n",
              "      <td>NaN</td>\n",
              "    </tr>\n",
              "    <tr>\n",
              "      <th>128409</th>\n",
              "      <td>NaN</td>\n",
              "      <td>NaN</td>\n",
              "      <td>5000</td>\n",
              "      <td>5000</td>\n",
              "      <td>5000.0</td>\n",
              "      <td>36 months</td>\n",
              "      <td>13.56%</td>\n",
              "      <td>169.83</td>\n",
              "      <td>C</td>\n",
              "      <td>C1</td>\n",
              "      <td>Payoff Clerk</td>\n",
              "      <td>10+ years</td>\n",
              "      <td>MORTGAGE</td>\n",
              "      <td>35360.0</td>\n",
              "      <td>Not Verified</td>\n",
              "      <td>Oct-2018</td>\n",
              "      <td>Current</td>\n",
              "      <td>n</td>\n",
              "      <td>NaN</td>\n",
              "      <td>NaN</td>\n",
              "      <td>debt_consolidation</td>\n",
              "      <td>Debt consolidation</td>\n",
              "      <td>381xx</td>\n",
              "      <td>TN</td>\n",
              "      <td>11.30</td>\n",
              "      <td>1</td>\n",
              "      <td>Jun-2006</td>\n",
              "      <td>0</td>\n",
              "      <td>21.0</td>\n",
              "      <td>NaN</td>\n",
              "      <td>9</td>\n",
              "      <td>0</td>\n",
              "      <td>2597</td>\n",
              "      <td>27.3%</td>\n",
              "      <td>15</td>\n",
              "      <td>f</td>\n",
              "      <td>2751.79</td>\n",
              "      <td>2751.79</td>\n",
              "      <td>3053.17</td>\n",
              "      <td>3053.17</td>\n",
              "      <td>...</td>\n",
              "      <td>50.0</td>\n",
              "      <td>0</td>\n",
              "      <td>0</td>\n",
              "      <td>93908</td>\n",
              "      <td>4976</td>\n",
              "      <td>3000</td>\n",
              "      <td>6028</td>\n",
              "      <td>NaN</td>\n",
              "      <td>NaN</td>\n",
              "      <td>NaN</td>\n",
              "      <td>NaN</td>\n",
              "      <td>NaN</td>\n",
              "      <td>NaN</td>\n",
              "      <td>NaN</td>\n",
              "      <td>NaN</td>\n",
              "      <td>NaN</td>\n",
              "      <td>NaN</td>\n",
              "      <td>NaN</td>\n",
              "      <td>N</td>\n",
              "      <td>NaN</td>\n",
              "      <td>NaN</td>\n",
              "      <td>NaN</td>\n",
              "      <td>NaN</td>\n",
              "      <td>NaN</td>\n",
              "      <td>NaN</td>\n",
              "      <td>NaN</td>\n",
              "      <td>NaN</td>\n",
              "      <td>NaN</td>\n",
              "      <td>NaN</td>\n",
              "      <td>NaN</td>\n",
              "      <td>NaN</td>\n",
              "      <td>NaN</td>\n",
              "      <td>NaN</td>\n",
              "      <td>N</td>\n",
              "      <td>NaN</td>\n",
              "      <td>NaN</td>\n",
              "      <td>NaN</td>\n",
              "      <td>NaN</td>\n",
              "      <td>NaN</td>\n",
              "      <td>NaN</td>\n",
              "    </tr>\n",
              "    <tr>\n",
              "      <th>128410</th>\n",
              "      <td>NaN</td>\n",
              "      <td>NaN</td>\n",
              "      <td>10000</td>\n",
              "      <td>10000</td>\n",
              "      <td>9750.0</td>\n",
              "      <td>36 months</td>\n",
              "      <td>11.06%</td>\n",
              "      <td>327.68</td>\n",
              "      <td>B</td>\n",
              "      <td>B3</td>\n",
              "      <td>NaN</td>\n",
              "      <td>NaN</td>\n",
              "      <td>RENT</td>\n",
              "      <td>44400.0</td>\n",
              "      <td>Source Verified</td>\n",
              "      <td>Oct-2018</td>\n",
              "      <td>Current</td>\n",
              "      <td>n</td>\n",
              "      <td>NaN</td>\n",
              "      <td>NaN</td>\n",
              "      <td>credit_card</td>\n",
              "      <td>Credit card refinancing</td>\n",
              "      <td>980xx</td>\n",
              "      <td>WA</td>\n",
              "      <td>11.78</td>\n",
              "      <td>0</td>\n",
              "      <td>Oct-2008</td>\n",
              "      <td>2</td>\n",
              "      <td>40.0</td>\n",
              "      <td>NaN</td>\n",
              "      <td>15</td>\n",
              "      <td>0</td>\n",
              "      <td>6269</td>\n",
              "      <td>13.1%</td>\n",
              "      <td>25</td>\n",
              "      <td>f</td>\n",
              "      <td>5411.74</td>\n",
              "      <td>5276.45</td>\n",
              "      <td>5882.88</td>\n",
              "      <td>5735.81</td>\n",
              "      <td>...</td>\n",
              "      <td>0.0</td>\n",
              "      <td>0</td>\n",
              "      <td>0</td>\n",
              "      <td>57871</td>\n",
              "      <td>16440</td>\n",
              "      <td>20500</td>\n",
              "      <td>10171</td>\n",
              "      <td>NaN</td>\n",
              "      <td>NaN</td>\n",
              "      <td>NaN</td>\n",
              "      <td>NaN</td>\n",
              "      <td>NaN</td>\n",
              "      <td>NaN</td>\n",
              "      <td>NaN</td>\n",
              "      <td>NaN</td>\n",
              "      <td>NaN</td>\n",
              "      <td>NaN</td>\n",
              "      <td>NaN</td>\n",
              "      <td>N</td>\n",
              "      <td>NaN</td>\n",
              "      <td>NaN</td>\n",
              "      <td>NaN</td>\n",
              "      <td>NaN</td>\n",
              "      <td>NaN</td>\n",
              "      <td>NaN</td>\n",
              "      <td>NaN</td>\n",
              "      <td>NaN</td>\n",
              "      <td>NaN</td>\n",
              "      <td>NaN</td>\n",
              "      <td>NaN</td>\n",
              "      <td>NaN</td>\n",
              "      <td>NaN</td>\n",
              "      <td>NaN</td>\n",
              "      <td>N</td>\n",
              "      <td>NaN</td>\n",
              "      <td>NaN</td>\n",
              "      <td>NaN</td>\n",
              "      <td>NaN</td>\n",
              "      <td>NaN</td>\n",
              "      <td>NaN</td>\n",
              "    </tr>\n",
              "    <tr>\n",
              "      <th>128411</th>\n",
              "      <td>NaN</td>\n",
              "      <td>NaN</td>\n",
              "      <td>10000</td>\n",
              "      <td>10000</td>\n",
              "      <td>10000.0</td>\n",
              "      <td>36 months</td>\n",
              "      <td>16.91%</td>\n",
              "      <td>356.08</td>\n",
              "      <td>C</td>\n",
              "      <td>C5</td>\n",
              "      <td>Key Accounts Manager</td>\n",
              "      <td>2 years</td>\n",
              "      <td>RENT</td>\n",
              "      <td>80000.0</td>\n",
              "      <td>Not Verified</td>\n",
              "      <td>Oct-2018</td>\n",
              "      <td>Current</td>\n",
              "      <td>n</td>\n",
              "      <td>NaN</td>\n",
              "      <td>NaN</td>\n",
              "      <td>other</td>\n",
              "      <td>Other</td>\n",
              "      <td>021xx</td>\n",
              "      <td>MA</td>\n",
              "      <td>17.72</td>\n",
              "      <td>1</td>\n",
              "      <td>Sep-2006</td>\n",
              "      <td>0</td>\n",
              "      <td>14.0</td>\n",
              "      <td>NaN</td>\n",
              "      <td>17</td>\n",
              "      <td>0</td>\n",
              "      <td>1942</td>\n",
              "      <td>30.8%</td>\n",
              "      <td>31</td>\n",
              "      <td>w</td>\n",
              "      <td>5626.39</td>\n",
              "      <td>5626.39</td>\n",
              "      <td>6400.05</td>\n",
              "      <td>6400.05</td>\n",
              "      <td>...</td>\n",
              "      <td>0.0</td>\n",
              "      <td>0</td>\n",
              "      <td>0</td>\n",
              "      <td>73669</td>\n",
              "      <td>59194</td>\n",
              "      <td>4000</td>\n",
              "      <td>67369</td>\n",
              "      <td>NaN</td>\n",
              "      <td>NaN</td>\n",
              "      <td>NaN</td>\n",
              "      <td>NaN</td>\n",
              "      <td>NaN</td>\n",
              "      <td>NaN</td>\n",
              "      <td>NaN</td>\n",
              "      <td>NaN</td>\n",
              "      <td>NaN</td>\n",
              "      <td>NaN</td>\n",
              "      <td>NaN</td>\n",
              "      <td>N</td>\n",
              "      <td>NaN</td>\n",
              "      <td>NaN</td>\n",
              "      <td>NaN</td>\n",
              "      <td>NaN</td>\n",
              "      <td>NaN</td>\n",
              "      <td>NaN</td>\n",
              "      <td>NaN</td>\n",
              "      <td>NaN</td>\n",
              "      <td>NaN</td>\n",
              "      <td>NaN</td>\n",
              "      <td>NaN</td>\n",
              "      <td>NaN</td>\n",
              "      <td>NaN</td>\n",
              "      <td>NaN</td>\n",
              "      <td>N</td>\n",
              "      <td>NaN</td>\n",
              "      <td>NaN</td>\n",
              "      <td>NaN</td>\n",
              "      <td>NaN</td>\n",
              "      <td>NaN</td>\n",
              "      <td>NaN</td>\n",
              "    </tr>\n",
              "  </tbody>\n",
              "</table>\n",
              "<p>5 rows × 144 columns</p>\n",
              "</div>"
            ],
            "text/plain": [
              "        id  member_id  ...  settlement_percentage  settlement_term\n",
              "128407 NaN        NaN  ...                    NaN              NaN\n",
              "128408 NaN        NaN  ...                    NaN              NaN\n",
              "128409 NaN        NaN  ...                    NaN              NaN\n",
              "128410 NaN        NaN  ...                    NaN              NaN\n",
              "128411 NaN        NaN  ...                    NaN              NaN\n",
              "\n",
              "[5 rows x 144 columns]"
            ]
          },
          "metadata": {
            "tags": []
          },
          "execution_count": 11
        }
      ]
    },
    {
      "cell_type": "code",
      "metadata": {
        "id": "RvMUE4QIF6uu",
        "colab_type": "code",
        "outputId": "2e30100f-957c-4c2b-fb77-02eb8db80e8f",
        "colab": {
          "base_uri": "https://localhost:8080/",
          "height": 34
        }
      },
      "source": [
        "loans.shape"
      ],
      "execution_count": 12,
      "outputs": [
        {
          "output_type": "execute_result",
          "data": {
            "text/plain": [
              "(128412, 144)"
            ]
          },
          "metadata": {
            "tags": []
          },
          "execution_count": 12
        }
      ]
    },
    {
      "cell_type": "code",
      "metadata": {
        "id": "3q--PgBUGERQ",
        "colab_type": "code",
        "outputId": "d42b205f-36de-47a6-a2d3-57c8a257842d",
        "colab": {
          "base_uri": "https://localhost:8080/",
          "height": 102
        }
      },
      "source": [
        "# explore columns to select our options\n",
        "loans['home_ownership'].value_counts()"
      ],
      "execution_count": 13,
      "outputs": [
        {
          "output_type": "execute_result",
          "data": {
            "text/plain": [
              "MORTGAGE    63490\n",
              "RENT        50596\n",
              "OWN         13993\n",
              "ANY           333\n",
              "Name: home_ownership, dtype: int64"
            ]
          },
          "metadata": {
            "tags": []
          },
          "execution_count": 13
        }
      ]
    },
    {
      "cell_type": "markdown",
      "metadata": {
        "id": "e2opdbPdIDVS",
        "colab_type": "text"
      },
      "source": [
        "Select home ownership and purpose of loan as our columms to compare. Question what is the probability that a person who outright owns their home will take out a loan for home improvement."
      ]
    },
    {
      "cell_type": "code",
      "metadata": {
        "id": "LoHl_bcNHiCX",
        "colab_type": "code",
        "outputId": "0c91c9cb-1d59-4747-bc4f-ce4ae10e2d3e",
        "colab": {
          "base_uri": "https://localhost:8080/",
          "height": 34
        }
      },
      "source": [
        "loans['home_ownership'].isnull().sum()"
      ],
      "execution_count": 14,
      "outputs": [
        {
          "output_type": "execute_result",
          "data": {
            "text/plain": [
              "0"
            ]
          },
          "metadata": {
            "tags": []
          },
          "execution_count": 14
        }
      ]
    },
    {
      "cell_type": "code",
      "metadata": {
        "id": "HUppMhVWGavC",
        "colab_type": "code",
        "outputId": "d4643b21-bab7-4ea9-84b6-94a2a04c90ae",
        "colab": {
          "base_uri": "https://localhost:8080/",
          "height": 238
        }
      },
      "source": [
        "loans['purpose'].value_counts()"
      ],
      "execution_count": 15,
      "outputs": [
        {
          "output_type": "execute_result",
          "data": {
            "text/plain": [
              "debt_consolidation    70603\n",
              "credit_card           34961\n",
              "home_improvement       7512\n",
              "other                  7094\n",
              "major_purchase         2303\n",
              "medical                1499\n",
              "small_business         1051\n",
              "car                    1037\n",
              "house                   823\n",
              "vacation                802\n",
              "moving                  656\n",
              "renewable_energy         71\n",
              "Name: purpose, dtype: int64"
            ]
          },
          "metadata": {
            "tags": []
          },
          "execution_count": 15
        }
      ]
    },
    {
      "cell_type": "code",
      "metadata": {
        "id": "1qHLoEh1Hxju",
        "colab_type": "code",
        "outputId": "1d3b7f8a-f577-4863-d5cf-aba191683b59",
        "colab": {
          "base_uri": "https://localhost:8080/",
          "height": 34
        }
      },
      "source": [
        "loans['purpose'].isnull().sum()"
      ],
      "execution_count": 16,
      "outputs": [
        {
          "output_type": "execute_result",
          "data": {
            "text/plain": [
              "0"
            ]
          },
          "metadata": {
            "tags": []
          },
          "execution_count": 16
        }
      ]
    },
    {
      "cell_type": "markdown",
      "metadata": {
        "colab_type": "text",
        "id": "fqgL6KtElzuU"
      },
      "source": [
        "The Baysein proabability of A given B:\n",
        "\n",
        "***P***(A|B)=***P***(B|A)* **P**(A)\n",
        "**DIVIDED BY**\n",
        "( ***P***(B|A)****P***(B) + ***P***(B|not A)****P***(not A) )\n",
        "\n",
        "We begin knowing:\n",
        "\n",
        "*   Probability of A & Not A (prior supposition)\n",
        "*   Probability of B & False B\n"
      ]
    },
    {
      "cell_type": "markdown",
      "metadata": {
        "id": "f6CVw-Tml5hM",
        "colab_type": "text"
      },
      "source": [
        "# About here I went on a confused tangent\n",
        "\n",
        "*  A=  probability of person taking a home improvement loan = 7512/128,412\n",
        "*  B=  probability of home owner taking a loan = 13,993/128,412\n",
        "\n",
        "Make a table to discover these numbers\n",
        "*  A|B = probability of home improvement loan being taken by a home owner\n",
        "*  B|A = probability of home owner taking a home improvement loan\n",
        "\n",
        "\n",
        "\n",
        "\n",
        "\n",
        "\n",
        "\n"
      ]
    },
    {
      "cell_type": "code",
      "metadata": {
        "id": "kuctT4DpmDh4",
        "colab_type": "code",
        "outputId": "6ac90cfd-8484-43cc-d19e-b8d81b068d05",
        "colab": {
          "base_uri": "https://localhost:8080/",
          "height": 204
        }
      },
      "source": [
        "# Make a smaller data frame with only our desired values\n",
        "small = loans[['purpose','home_ownership']].copy()\n",
        "small.head()"
      ],
      "execution_count": 17,
      "outputs": [
        {
          "output_type": "execute_result",
          "data": {
            "text/html": [
              "<div>\n",
              "<style scoped>\n",
              "    .dataframe tbody tr th:only-of-type {\n",
              "        vertical-align: middle;\n",
              "    }\n",
              "\n",
              "    .dataframe tbody tr th {\n",
              "        vertical-align: top;\n",
              "    }\n",
              "\n",
              "    .dataframe thead th {\n",
              "        text-align: right;\n",
              "    }\n",
              "</style>\n",
              "<table border=\"1\" class=\"dataframe\">\n",
              "  <thead>\n",
              "    <tr style=\"text-align: right;\">\n",
              "      <th></th>\n",
              "      <th>purpose</th>\n",
              "      <th>home_ownership</th>\n",
              "    </tr>\n",
              "  </thead>\n",
              "  <tbody>\n",
              "    <tr>\n",
              "      <th>0</th>\n",
              "      <td>debt_consolidation</td>\n",
              "      <td>RENT</td>\n",
              "    </tr>\n",
              "    <tr>\n",
              "      <th>1</th>\n",
              "      <td>debt_consolidation</td>\n",
              "      <td>RENT</td>\n",
              "    </tr>\n",
              "    <tr>\n",
              "      <th>2</th>\n",
              "      <td>credit_card</td>\n",
              "      <td>RENT</td>\n",
              "    </tr>\n",
              "    <tr>\n",
              "      <th>3</th>\n",
              "      <td>credit_card</td>\n",
              "      <td>OWN</td>\n",
              "    </tr>\n",
              "    <tr>\n",
              "      <th>4</th>\n",
              "      <td>debt_consolidation</td>\n",
              "      <td>RENT</td>\n",
              "    </tr>\n",
              "  </tbody>\n",
              "</table>\n",
              "</div>"
            ],
            "text/plain": [
              "              purpose home_ownership\n",
              "0  debt_consolidation           RENT\n",
              "1  debt_consolidation           RENT\n",
              "2         credit_card           RENT\n",
              "3         credit_card            OWN\n",
              "4  debt_consolidation           RENT"
            ]
          },
          "metadata": {
            "tags": []
          },
          "execution_count": 17
        }
      ]
    },
    {
      "cell_type": "code",
      "metadata": {
        "id": "j-ocBkNF3mDn",
        "colab_type": "code",
        "colab": {
          "base_uri": "https://localhost:8080/",
          "height": 483
        },
        "outputId": "538fca42-322b-43c3-9830-8d44e48fb587"
      },
      "source": [
        "myloans=pd.crosstab(small['purpose'],small['home_ownership'],margins=True)\n",
        "myloans"
      ],
      "execution_count": 18,
      "outputs": [
        {
          "output_type": "execute_result",
          "data": {
            "text/html": [
              "<div>\n",
              "<style scoped>\n",
              "    .dataframe tbody tr th:only-of-type {\n",
              "        vertical-align: middle;\n",
              "    }\n",
              "\n",
              "    .dataframe tbody tr th {\n",
              "        vertical-align: top;\n",
              "    }\n",
              "\n",
              "    .dataframe thead th {\n",
              "        text-align: right;\n",
              "    }\n",
              "</style>\n",
              "<table border=\"1\" class=\"dataframe\">\n",
              "  <thead>\n",
              "    <tr style=\"text-align: right;\">\n",
              "      <th>home_ownership</th>\n",
              "      <th>ANY</th>\n",
              "      <th>MORTGAGE</th>\n",
              "      <th>OWN</th>\n",
              "      <th>RENT</th>\n",
              "      <th>All</th>\n",
              "    </tr>\n",
              "    <tr>\n",
              "      <th>purpose</th>\n",
              "      <th></th>\n",
              "      <th></th>\n",
              "      <th></th>\n",
              "      <th></th>\n",
              "      <th></th>\n",
              "    </tr>\n",
              "  </thead>\n",
              "  <tbody>\n",
              "    <tr>\n",
              "      <th>car</th>\n",
              "      <td>1</td>\n",
              "      <td>489</td>\n",
              "      <td>111</td>\n",
              "      <td>436</td>\n",
              "      <td>1037</td>\n",
              "    </tr>\n",
              "    <tr>\n",
              "      <th>credit_card</th>\n",
              "      <td>132</td>\n",
              "      <td>16164</td>\n",
              "      <td>3598</td>\n",
              "      <td>15067</td>\n",
              "      <td>34961</td>\n",
              "    </tr>\n",
              "    <tr>\n",
              "      <th>debt_consolidation</th>\n",
              "      <td>169</td>\n",
              "      <td>34804</td>\n",
              "      <td>7584</td>\n",
              "      <td>28046</td>\n",
              "      <td>70603</td>\n",
              "    </tr>\n",
              "    <tr>\n",
              "      <th>home_improvement</th>\n",
              "      <td>5</td>\n",
              "      <td>5795</td>\n",
              "      <td>1039</td>\n",
              "      <td>673</td>\n",
              "      <td>7512</td>\n",
              "    </tr>\n",
              "    <tr>\n",
              "      <th>house</th>\n",
              "      <td>1</td>\n",
              "      <td>439</td>\n",
              "      <td>149</td>\n",
              "      <td>234</td>\n",
              "      <td>823</td>\n",
              "    </tr>\n",
              "    <tr>\n",
              "      <th>major_purchase</th>\n",
              "      <td>1</td>\n",
              "      <td>1036</td>\n",
              "      <td>290</td>\n",
              "      <td>976</td>\n",
              "      <td>2303</td>\n",
              "    </tr>\n",
              "    <tr>\n",
              "      <th>medical</th>\n",
              "      <td>0</td>\n",
              "      <td>719</td>\n",
              "      <td>188</td>\n",
              "      <td>592</td>\n",
              "      <td>1499</td>\n",
              "    </tr>\n",
              "    <tr>\n",
              "      <th>moving</th>\n",
              "      <td>1</td>\n",
              "      <td>141</td>\n",
              "      <td>29</td>\n",
              "      <td>485</td>\n",
              "      <td>656</td>\n",
              "    </tr>\n",
              "    <tr>\n",
              "      <th>other</th>\n",
              "      <td>23</td>\n",
              "      <td>3063</td>\n",
              "      <td>795</td>\n",
              "      <td>3213</td>\n",
              "      <td>7094</td>\n",
              "    </tr>\n",
              "    <tr>\n",
              "      <th>renewable_energy</th>\n",
              "      <td>0</td>\n",
              "      <td>37</td>\n",
              "      <td>8</td>\n",
              "      <td>26</td>\n",
              "      <td>71</td>\n",
              "    </tr>\n",
              "    <tr>\n",
              "      <th>small_business</th>\n",
              "      <td>0</td>\n",
              "      <td>472</td>\n",
              "      <td>116</td>\n",
              "      <td>463</td>\n",
              "      <td>1051</td>\n",
              "    </tr>\n",
              "    <tr>\n",
              "      <th>vacation</th>\n",
              "      <td>0</td>\n",
              "      <td>331</td>\n",
              "      <td>86</td>\n",
              "      <td>385</td>\n",
              "      <td>802</td>\n",
              "    </tr>\n",
              "    <tr>\n",
              "      <th>All</th>\n",
              "      <td>333</td>\n",
              "      <td>63490</td>\n",
              "      <td>13993</td>\n",
              "      <td>50596</td>\n",
              "      <td>128412</td>\n",
              "    </tr>\n",
              "  </tbody>\n",
              "</table>\n",
              "</div>"
            ],
            "text/plain": [
              "home_ownership      ANY  MORTGAGE    OWN   RENT     All\n",
              "purpose                                                \n",
              "car                   1       489    111    436    1037\n",
              "credit_card         132     16164   3598  15067   34961\n",
              "debt_consolidation  169     34804   7584  28046   70603\n",
              "home_improvement      5      5795   1039    673    7512\n",
              "house                 1       439    149    234     823\n",
              "major_purchase        1      1036    290    976    2303\n",
              "medical               0       719    188    592    1499\n",
              "moving                1       141     29    485     656\n",
              "other                23      3063    795   3213    7094\n",
              "renewable_energy      0        37      8     26      71\n",
              "small_business        0       472    116    463    1051\n",
              "vacation              0       331     86    385     802\n",
              "All                 333     63490  13993  50596  128412"
            ]
          },
          "metadata": {
            "tags": []
          },
          "execution_count": 18
        }
      ]
    },
    {
      "cell_type": "code",
      "metadata": {
        "id": "ybGetihDrey0",
        "colab_type": "code",
        "colab": {
          "base_uri": "https://localhost:8080/",
          "height": 235
        },
        "outputId": "552f4b90-bb01-4021-863e-4b20de4e7e67"
      },
      "source": [
        "myloans.T"
      ],
      "execution_count": 39,
      "outputs": [
        {
          "output_type": "execute_result",
          "data": {
            "text/html": [
              "<div>\n",
              "<style scoped>\n",
              "    .dataframe tbody tr th:only-of-type {\n",
              "        vertical-align: middle;\n",
              "    }\n",
              "\n",
              "    .dataframe tbody tr th {\n",
              "        vertical-align: top;\n",
              "    }\n",
              "\n",
              "    .dataframe thead th {\n",
              "        text-align: right;\n",
              "    }\n",
              "</style>\n",
              "<table border=\"1\" class=\"dataframe\">\n",
              "  <thead>\n",
              "    <tr style=\"text-align: right;\">\n",
              "      <th>purpose</th>\n",
              "      <th>car</th>\n",
              "      <th>credit_card</th>\n",
              "      <th>debt_consolidation</th>\n",
              "      <th>home_improvement</th>\n",
              "      <th>house</th>\n",
              "      <th>major_purchase</th>\n",
              "      <th>medical</th>\n",
              "      <th>moving</th>\n",
              "      <th>other</th>\n",
              "      <th>renewable_energy</th>\n",
              "      <th>small_business</th>\n",
              "      <th>vacation</th>\n",
              "      <th>All</th>\n",
              "    </tr>\n",
              "    <tr>\n",
              "      <th>home_ownership</th>\n",
              "      <th></th>\n",
              "      <th></th>\n",
              "      <th></th>\n",
              "      <th></th>\n",
              "      <th></th>\n",
              "      <th></th>\n",
              "      <th></th>\n",
              "      <th></th>\n",
              "      <th></th>\n",
              "      <th></th>\n",
              "      <th></th>\n",
              "      <th></th>\n",
              "      <th></th>\n",
              "    </tr>\n",
              "  </thead>\n",
              "  <tbody>\n",
              "    <tr>\n",
              "      <th>ANY</th>\n",
              "      <td>1</td>\n",
              "      <td>132</td>\n",
              "      <td>169</td>\n",
              "      <td>5</td>\n",
              "      <td>1</td>\n",
              "      <td>1</td>\n",
              "      <td>0</td>\n",
              "      <td>1</td>\n",
              "      <td>23</td>\n",
              "      <td>0</td>\n",
              "      <td>0</td>\n",
              "      <td>0</td>\n",
              "      <td>333</td>\n",
              "    </tr>\n",
              "    <tr>\n",
              "      <th>MORTGAGE</th>\n",
              "      <td>489</td>\n",
              "      <td>16164</td>\n",
              "      <td>34804</td>\n",
              "      <td>5795</td>\n",
              "      <td>439</td>\n",
              "      <td>1036</td>\n",
              "      <td>719</td>\n",
              "      <td>141</td>\n",
              "      <td>3063</td>\n",
              "      <td>37</td>\n",
              "      <td>472</td>\n",
              "      <td>331</td>\n",
              "      <td>63490</td>\n",
              "    </tr>\n",
              "    <tr>\n",
              "      <th>OWN</th>\n",
              "      <td>111</td>\n",
              "      <td>3598</td>\n",
              "      <td>7584</td>\n",
              "      <td>1039</td>\n",
              "      <td>149</td>\n",
              "      <td>290</td>\n",
              "      <td>188</td>\n",
              "      <td>29</td>\n",
              "      <td>795</td>\n",
              "      <td>8</td>\n",
              "      <td>116</td>\n",
              "      <td>86</td>\n",
              "      <td>13993</td>\n",
              "    </tr>\n",
              "    <tr>\n",
              "      <th>RENT</th>\n",
              "      <td>436</td>\n",
              "      <td>15067</td>\n",
              "      <td>28046</td>\n",
              "      <td>673</td>\n",
              "      <td>234</td>\n",
              "      <td>976</td>\n",
              "      <td>592</td>\n",
              "      <td>485</td>\n",
              "      <td>3213</td>\n",
              "      <td>26</td>\n",
              "      <td>463</td>\n",
              "      <td>385</td>\n",
              "      <td>50596</td>\n",
              "    </tr>\n",
              "    <tr>\n",
              "      <th>All</th>\n",
              "      <td>1037</td>\n",
              "      <td>34961</td>\n",
              "      <td>70603</td>\n",
              "      <td>7512</td>\n",
              "      <td>823</td>\n",
              "      <td>2303</td>\n",
              "      <td>1499</td>\n",
              "      <td>656</td>\n",
              "      <td>7094</td>\n",
              "      <td>71</td>\n",
              "      <td>1051</td>\n",
              "      <td>802</td>\n",
              "      <td>128412</td>\n",
              "    </tr>\n",
              "  </tbody>\n",
              "</table>\n",
              "</div>"
            ],
            "text/plain": [
              "purpose          car  credit_card  ...  vacation     All\n",
              "home_ownership                     ...                  \n",
              "ANY                1          132  ...         0     333\n",
              "MORTGAGE         489        16164  ...       331   63490\n",
              "OWN              111         3598  ...        86   13993\n",
              "RENT             436        15067  ...       385   50596\n",
              "All             1037        34961  ...       802  128412\n",
              "\n",
              "[5 rows x 13 columns]"
            ]
          },
          "metadata": {
            "tags": []
          },
          "execution_count": 39
        }
      ]
    },
    {
      "cell_type": "code",
      "metadata": {
        "id": "_G86nCGM6p93",
        "colab_type": "code",
        "colab": {
          "base_uri": "https://localhost:8080/",
          "height": 374
        },
        "outputId": "b9ed0736-3469-44fc-e0d3-2e1fff98ab5e"
      },
      "source": [
        "#make the table graphable by removing \"All\" columns\n",
        "myloans2=pd.crosstab(small['purpose'],small['home_ownership'],margins=False)\n",
        "\n",
        "myloans2.plot(kind='barh',color=['blue','yellow','red','green'], figsize=(16,6));\n"
      ],
      "execution_count": 19,
      "outputs": [
        {
          "output_type": "display_data",
          "data": {
            "image/png": "[encoded data removed]",
            "text/plain": [
              "<Figure size 1152x432 with 1 Axes>"
            ]
          },
          "metadata": {
            "tags": [],
            "needs_background": "light"
          }
        }
      ]
    },
    {
      "cell_type": "code",
      "metadata": {
        "id": "a0e0K0X1zaLi",
        "colab_type": "code",
        "colab": {}
      },
      "source": [
        "import scipy.stats as stats"
      ],
      "execution_count": 0,
      "outputs": []
    },
    {
      "cell_type": "code",
      "metadata": {
        "id": "NOiJyBcUTTr5",
        "colab_type": "code",
        "colab": {
          "base_uri": "https://localhost:8080/",
          "height": 68
        },
        "outputId": "80e06058-8c63-4132-9bcc-c0528ce9ee6a"
      },
      "source": [
        "# # baysian caluclations on OWN column\n",
        "ml2a_mean, ml2a_var, mla2_std =scipy.stats.bayes_mvs(myloans2['OWN'])\n",
        "print(ml2a_mean)\n",
        "print(ml2a_var)\n",
        "print(mlb2_std)"
      ],
      "execution_count": 70,
      "outputs": [
        {
          "output_type": "stream",
          "text": [
            "Mean(statistic=1166.0833333333333, minmax=(-3.990211723697712, 2336.1568783903635))\n",
            "Variance(statistic=6225880.546296297, minmax=(2847905.114242471, 12248134.28332861))\n",
            "Std_dev(statistic=7068.228470577405, minmax=(5959.854053768472, 8393.554358478523))\n"
          ],
          "name": "stdout"
        }
      ]
    },
    {
      "cell_type": "code",
      "metadata": {
        "id": "2NruhgsC7miq",
        "colab_type": "code",
        "colab": {}
      },
      "source": [
        "?np.array"
      ],
      "execution_count": 0,
      "outputs": []
    },
    {
      "cell_type": "code",
      "metadata": {
        "id": "S5HNPnz2EH13",
        "colab_type": "code",
        "colab": {
          "base_uri": "https://localhost:8080/",
          "height": 297
        },
        "outputId": "494e33de-9924-4674-966d-c2ca54ef9bfc"
      },
      "source": [
        "myloans.describe()"
      ],
      "execution_count": 22,
      "outputs": [
        {
          "output_type": "execute_result",
          "data": {
            "text/html": [
              "<div>\n",
              "<style scoped>\n",
              "    .dataframe tbody tr th:only-of-type {\n",
              "        vertical-align: middle;\n",
              "    }\n",
              "\n",
              "    .dataframe tbody tr th {\n",
              "        vertical-align: top;\n",
              "    }\n",
              "\n",
              "    .dataframe thead th {\n",
              "        text-align: right;\n",
              "    }\n",
              "</style>\n",
              "<table border=\"1\" class=\"dataframe\">\n",
              "  <thead>\n",
              "    <tr style=\"text-align: right;\">\n",
              "      <th>home_ownership</th>\n",
              "      <th>ANY</th>\n",
              "      <th>MORTGAGE</th>\n",
              "      <th>OWN</th>\n",
              "      <th>RENT</th>\n",
              "      <th>All</th>\n",
              "    </tr>\n",
              "  </thead>\n",
              "  <tbody>\n",
              "    <tr>\n",
              "      <th>count</th>\n",
              "      <td>13.000000</td>\n",
              "      <td>13.000000</td>\n",
              "      <td>13.000000</td>\n",
              "      <td>13.000000</td>\n",
              "      <td>13.000000</td>\n",
              "    </tr>\n",
              "    <tr>\n",
              "      <th>mean</th>\n",
              "      <td>51.230769</td>\n",
              "      <td>9767.692308</td>\n",
              "      <td>2152.769231</td>\n",
              "      <td>7784.000000</td>\n",
              "      <td>19755.692308</td>\n",
              "    </tr>\n",
              "    <tr>\n",
              "      <th>std</th>\n",
              "      <td>101.370734</td>\n",
              "      <td>18948.640080</td>\n",
              "      <td>4162.396929</td>\n",
              "      <td>15271.956811</td>\n",
              "      <td>38450.403794</td>\n",
              "    </tr>\n",
              "    <tr>\n",
              "      <th>min</th>\n",
              "      <td>0.000000</td>\n",
              "      <td>37.000000</td>\n",
              "      <td>8.000000</td>\n",
              "      <td>26.000000</td>\n",
              "      <td>71.000000</td>\n",
              "    </tr>\n",
              "    <tr>\n",
              "      <th>25%</th>\n",
              "      <td>0.000000</td>\n",
              "      <td>439.000000</td>\n",
              "      <td>111.000000</td>\n",
              "      <td>436.000000</td>\n",
              "      <td>823.000000</td>\n",
              "    </tr>\n",
              "    <tr>\n",
              "      <th>50%</th>\n",
              "      <td>1.000000</td>\n",
              "      <td>719.000000</td>\n",
              "      <td>188.000000</td>\n",
              "      <td>592.000000</td>\n",
              "      <td>1499.000000</td>\n",
              "    </tr>\n",
              "    <tr>\n",
              "      <th>75%</th>\n",
              "      <td>23.000000</td>\n",
              "      <td>5795.000000</td>\n",
              "      <td>1039.000000</td>\n",
              "      <td>3213.000000</td>\n",
              "      <td>7512.000000</td>\n",
              "    </tr>\n",
              "    <tr>\n",
              "      <th>max</th>\n",
              "      <td>333.000000</td>\n",
              "      <td>63490.000000</td>\n",
              "      <td>13993.000000</td>\n",
              "      <td>50596.000000</td>\n",
              "      <td>128412.000000</td>\n",
              "    </tr>\n",
              "  </tbody>\n",
              "</table>\n",
              "</div>"
            ],
            "text/plain": [
              "home_ownership         ANY      MORTGAGE  ...          RENT            All\n",
              "count            13.000000     13.000000  ...     13.000000      13.000000\n",
              "mean             51.230769   9767.692308  ...   7784.000000   19755.692308\n",
              "std             101.370734  18948.640080  ...  15271.956811   38450.403794\n",
              "min               0.000000     37.000000  ...     26.000000      71.000000\n",
              "25%               0.000000    439.000000  ...    436.000000     823.000000\n",
              "50%               1.000000    719.000000  ...    592.000000    1499.000000\n",
              "75%              23.000000   5795.000000  ...   3213.000000    7512.000000\n",
              "max             333.000000  63490.000000  ...  50596.000000  128412.000000\n",
              "\n",
              "[8 rows x 5 columns]"
            ]
          },
          "metadata": {
            "tags": []
          },
          "execution_count": 22
        }
      ]
    },
    {
      "cell_type": "code",
      "metadata": {
        "id": "0cZJ5CdUrN4i",
        "colab_type": "code",
        "colab": {
          "base_uri": "https://localhost:8080/",
          "height": 68
        },
        "outputId": "902c580d-d3e1-4f42-c77b-c37e7d83cea2"
      },
      "source": [
        "# # baysian caluclations on transposed table\n",
        "# ml2b_mean, ml2b_var, mlb2_std =scipy.stats.bayes_mvs(myloans2.T['home_improvement'])\n",
        "ml2b_mean, ml2b_var, mlb2_std =scipy.stats.bayes_mvs(myloans2.T)\n",
        "print(ml2b_mean)\n",
        "print(ml2b_var)\n",
        "print(mlb2_std)"
      ],
      "execution_count": 67,
      "outputs": [
        {
          "output_type": "stream",
          "text": [
            "Mean(statistic=2675.25, minmax=(990.8981142929836, 4359.601885707016))\n",
            "Variance(statistic=50518012.42222223, minmax=(35519860.34222048, 70451754.7687338))\n",
            "Std_dev(statistic=7068.228470577405, minmax=(5959.854053768472, 8393.554358478523))\n"
          ],
          "name": "stdout"
        }
      ]
    },
    {
      "cell_type": "code",
      "metadata": {
        "id": "XwgKruPjN2gC",
        "colab_type": "code",
        "colab": {
          "base_uri": "https://localhost:8080/",
          "height": 297
        },
        "outputId": "1772ceb2-3c2f-467d-a424-d5d62269712c"
      },
      "source": [
        "myloans.T.describe().round()"
      ],
      "execution_count": 31,
      "outputs": [
        {
          "output_type": "execute_result",
          "data": {
            "text/html": [
              "<div>\n",
              "<style scoped>\n",
              "    .dataframe tbody tr th:only-of-type {\n",
              "        vertical-align: middle;\n",
              "    }\n",
              "\n",
              "    .dataframe tbody tr th {\n",
              "        vertical-align: top;\n",
              "    }\n",
              "\n",
              "    .dataframe thead th {\n",
              "        text-align: right;\n",
              "    }\n",
              "</style>\n",
              "<table border=\"1\" class=\"dataframe\">\n",
              "  <thead>\n",
              "    <tr style=\"text-align: right;\">\n",
              "      <th>purpose</th>\n",
              "      <th>car</th>\n",
              "      <th>credit_card</th>\n",
              "      <th>debt_consolidation</th>\n",
              "      <th>home_improvement</th>\n",
              "      <th>house</th>\n",
              "      <th>major_purchase</th>\n",
              "      <th>medical</th>\n",
              "      <th>moving</th>\n",
              "      <th>other</th>\n",
              "      <th>renewable_energy</th>\n",
              "      <th>small_business</th>\n",
              "      <th>vacation</th>\n",
              "      <th>All</th>\n",
              "    </tr>\n",
              "  </thead>\n",
              "  <tbody>\n",
              "    <tr>\n",
              "      <th>count</th>\n",
              "      <td>5.0</td>\n",
              "      <td>5.0</td>\n",
              "      <td>5.0</td>\n",
              "      <td>5.0</td>\n",
              "      <td>5.0</td>\n",
              "      <td>5.0</td>\n",
              "      <td>5.0</td>\n",
              "      <td>5.0</td>\n",
              "      <td>5.0</td>\n",
              "      <td>5.0</td>\n",
              "      <td>5.0</td>\n",
              "      <td>5.0</td>\n",
              "      <td>5.0</td>\n",
              "    </tr>\n",
              "    <tr>\n",
              "      <th>mean</th>\n",
              "      <td>415.0</td>\n",
              "      <td>13984.0</td>\n",
              "      <td>28241.0</td>\n",
              "      <td>3005.0</td>\n",
              "      <td>329.0</td>\n",
              "      <td>921.0</td>\n",
              "      <td>600.0</td>\n",
              "      <td>262.0</td>\n",
              "      <td>2838.0</td>\n",
              "      <td>28.0</td>\n",
              "      <td>420.0</td>\n",
              "      <td>321.0</td>\n",
              "      <td>51365.0</td>\n",
              "    </tr>\n",
              "    <tr>\n",
              "      <th>std</th>\n",
              "      <td>405.0</td>\n",
              "      <td>13654.0</td>\n",
              "      <td>27624.0</td>\n",
              "      <td>3406.0</td>\n",
              "      <td>318.0</td>\n",
              "      <td>890.0</td>\n",
              "      <td>581.0</td>\n",
              "      <td>292.0</td>\n",
              "      <td>2757.0</td>\n",
              "      <td>28.0</td>\n",
              "      <td>410.0</td>\n",
              "      <td>314.0</td>\n",
              "      <td>50211.0</td>\n",
              "    </tr>\n",
              "    <tr>\n",
              "      <th>min</th>\n",
              "      <td>1.0</td>\n",
              "      <td>132.0</td>\n",
              "      <td>169.0</td>\n",
              "      <td>5.0</td>\n",
              "      <td>1.0</td>\n",
              "      <td>1.0</td>\n",
              "      <td>0.0</td>\n",
              "      <td>1.0</td>\n",
              "      <td>23.0</td>\n",
              "      <td>0.0</td>\n",
              "      <td>0.0</td>\n",
              "      <td>0.0</td>\n",
              "      <td>333.0</td>\n",
              "    </tr>\n",
              "    <tr>\n",
              "      <th>25%</th>\n",
              "      <td>111.0</td>\n",
              "      <td>3598.0</td>\n",
              "      <td>7584.0</td>\n",
              "      <td>673.0</td>\n",
              "      <td>149.0</td>\n",
              "      <td>290.0</td>\n",
              "      <td>188.0</td>\n",
              "      <td>29.0</td>\n",
              "      <td>795.0</td>\n",
              "      <td>8.0</td>\n",
              "      <td>116.0</td>\n",
              "      <td>86.0</td>\n",
              "      <td>13993.0</td>\n",
              "    </tr>\n",
              "    <tr>\n",
              "      <th>50%</th>\n",
              "      <td>436.0</td>\n",
              "      <td>15067.0</td>\n",
              "      <td>28046.0</td>\n",
              "      <td>1039.0</td>\n",
              "      <td>234.0</td>\n",
              "      <td>976.0</td>\n",
              "      <td>592.0</td>\n",
              "      <td>141.0</td>\n",
              "      <td>3063.0</td>\n",
              "      <td>26.0</td>\n",
              "      <td>463.0</td>\n",
              "      <td>331.0</td>\n",
              "      <td>50596.0</td>\n",
              "    </tr>\n",
              "    <tr>\n",
              "      <th>75%</th>\n",
              "      <td>489.0</td>\n",
              "      <td>16164.0</td>\n",
              "      <td>34804.0</td>\n",
              "      <td>5795.0</td>\n",
              "      <td>439.0</td>\n",
              "      <td>1036.0</td>\n",
              "      <td>719.0</td>\n",
              "      <td>485.0</td>\n",
              "      <td>3213.0</td>\n",
              "      <td>37.0</td>\n",
              "      <td>472.0</td>\n",
              "      <td>385.0</td>\n",
              "      <td>63490.0</td>\n",
              "    </tr>\n",
              "    <tr>\n",
              "      <th>max</th>\n",
              "      <td>1037.0</td>\n",
              "      <td>34961.0</td>\n",
              "      <td>70603.0</td>\n",
              "      <td>7512.0</td>\n",
              "      <td>823.0</td>\n",
              "      <td>2303.0</td>\n",
              "      <td>1499.0</td>\n",
              "      <td>656.0</td>\n",
              "      <td>7094.0</td>\n",
              "      <td>71.0</td>\n",
              "      <td>1051.0</td>\n",
              "      <td>802.0</td>\n",
              "      <td>128412.0</td>\n",
              "    </tr>\n",
              "  </tbody>\n",
              "</table>\n",
              "</div>"
            ],
            "text/plain": [
              "purpose     car  credit_card  ...  vacation       All\n",
              "count       5.0          5.0  ...       5.0       5.0\n",
              "mean      415.0      13984.0  ...     321.0   51365.0\n",
              "std       405.0      13654.0  ...     314.0   50211.0\n",
              "min         1.0        132.0  ...       0.0     333.0\n",
              "25%       111.0       3598.0  ...      86.0   13993.0\n",
              "50%       436.0      15067.0  ...     331.0   50596.0\n",
              "75%       489.0      16164.0  ...     385.0   63490.0\n",
              "max      1037.0      34961.0  ...     802.0  128412.0\n",
              "\n",
              "[8 rows x 13 columns]"
            ]
          },
          "metadata": {
            "tags": []
          },
          "execution_count": 31
        }
      ]
    },
    {
      "cell_type": "code",
      "metadata": {
        "id": "BfkI9QDw0m3B",
        "colab_type": "code",
        "colab": {}
      },
      "source": [
        "?sns.barplot"
      ],
      "execution_count": 0,
      "outputs": []
    },
    {
      "cell_type": "code",
      "metadata": {
        "id": "b3aRhyUxN2qU",
        "colab_type": "code",
        "colab": {
          "base_uri": "https://localhost:8080/",
          "height": 394
        },
        "outputId": "c9866927-f61c-45c4-8a9f-c0c78f42011c"
      },
      "source": [
        "# create seaborn barplot\n",
        "import seaborn as sns\n",
        "sns.set(style=\"whitegrid\")\n",
        "\n",
        "ax = sns.barplot(data=myloans2)"
      ],
      "execution_count": 56,
      "outputs": [
        {
          "output_type": "display_data",
          "data": {
            "image/png": "[encoded data removed]",
            "text/plain": [
              "<Figure size 1440x432 with 1 Axes>"
            ]
          },
          "metadata": {
            "tags": []
          }
        }
      ]
    },
    {
      "cell_type": "code",
      "metadata": {
        "id": "lhFSR_a0N2vr",
        "colab_type": "code",
        "colab": {
          "base_uri": "https://localhost:8080/",
          "height": 558
        },
        "outputId": "9833e6dc-61b2-48b5-aeac-7f4ef6ac4eeb"
      },
      "source": [
        "# create seaborn barplot\n",
        "sns.set(style=\"whitegrid\")\n",
        "# handy size changer that I don't really understand\n",
        "sns.set(rc={'figure.figsize':(24,9)})\n",
        "ax = sns.barplot(data=myloans2.T)"
      ],
      "execution_count": 60,
      "outputs": [
        {
          "output_type": "display_data",
          "data": {
            "image/png": "[encoded data removed]",
            "text/plain": [
              "<Figure size 1728x648 with 1 Axes>"
            ]
          },
          "metadata": {
            "tags": []
          }
        }
      ]
    },
    {
      "cell_type": "code",
      "metadata": {
        "id": "KDBq-WqpN28E",
        "colab_type": "code",
        "colab": {
          "base_uri": "https://localhost:8080/",
          "height": 34
        },
        "outputId": "093a5318-7270-49ed-f77e-24abad670ee2"
      },
      "source": [
        "# create confidence interval function\n",
        "# data= column of dataframe or numpy array\n",
        "\n",
        "def Con_Inv(data, confidence=0.95):\n",
        "  data=np.array(data)\n",
        "  mean=np.mean(data)\n",
        "  n=len(data)\n",
        "  stand_error=np.std(data,ddof=1)/np.sqrt(n)\n",
        "  margin_error = stand_error*stats.t.ppf((1+confidence)/2, n-1)\n",
        "  return(mean, mean-margin_error, mean+margin_error)\n",
        "\n",
        "Con_Inv(myloans2.T['home_improvement'])"
      ],
      "execution_count": 84,
      "outputs": [
        {
          "output_type": "execute_result",
          "data": {
            "text/plain": [
              "(1878.0, -2332.678739338897, 6088.678739338897)"
            ]
          },
          "metadata": {
            "tags": []
          },
          "execution_count": 84
        }
      ]
    },
    {
      "cell_type": "code",
      "metadata": {
        "id": "Gg3Kbn9YBwTr",
        "colab_type": "code",
        "colab": {}
      },
      "source": [
        "import matplotlib.pyplot as plt"
      ],
      "execution_count": 0,
      "outputs": []
    },
    {
      "cell_type": "code",
      "metadata": {
        "colab_type": "code",
        "outputId": "c53c5c32-2fdd-4681-dc13-26b0f8f113b1",
        "id": "cvsN8ecdB_5B",
        "colab": {
          "base_uri": "https://localhost:8080/",
          "height": 388
        }
      },
      "source": [
        "# plot confidence interval from crosstab\n",
        "myloans2_array =np.array(myloans2)\n",
        "sns.kdeplot(myloans2.T['home_improvement'])\n",
        "\n",
        "# CIg= Con_Inv(myloans2.T['home_improvement'])\n",
        "#mean\n",
        "plt.axvline(x=CIg[0], color ='k')\n",
        "# upper and lower confidence interval\n",
        "plt.axvline(x=CIg[1], color ='orange')\n",
        "plt.axvline(x=CIg[2], color ='orange');"
      ],
      "execution_count": 0,
      "outputs": [
        {
          "output_type": "display_data",
          "data": {
            "image/png": "[encoded data removed]",
            "text/plain": [
              "<Figure size 1728x648 with 1 Axes>"
            ]
          },
          "metadata": {
            "tags": []
          }
        }
      ]
    },
    {
      "cell_type": "code",
      "metadata": {
        "colab_type": "code",
        "outputId": "902c580d-d3e1-4f42-c77b-c37e7d83cea2",
        "id": "JLkuaVFeDwIe",
        "colab": {
          "base_uri": "https://localhost:8080/",
          "height": 68
        }
      },
      "source": [
        "# # baysian caluclations on transposed table\n",
        "# ml2b_mean, ml2b_var, mlb2_std =scipy.stats.bayes_mvs(myloans2.T['home_improvement'])\n",
        "ml2b_mean, ml2b_var, mlb2_std =scipy.stats.bayes_mvs(myloans2.T)\n",
        "print(ml2b_mean)\n",
        "print(ml2b_var)\n",
        "print(mlb2_std)"
      ],
      "execution_count": 0,
      "outputs": [
        {
          "output_type": "stream",
          "text": [
            "Mean(statistic=2675.25, minmax=(990.8981142929836, 4359.601885707016))\n",
            "Variance(statistic=50518012.42222223, minmax=(35519860.34222048, 70451754.7687338))\n",
            "Std_dev(statistic=7068.228470577405, minmax=(5959.854053768472, 8393.554358478523))\n"
          ],
          "name": "stdout"
        }
      ]
    },
    {
      "cell_type": "code",
      "metadata": {
        "id": "B-uQlbyD-Bq3",
        "colab_type": "code",
        "colab": {
          "base_uri": "https://localhost:8080/",
          "height": 540
        },
        "outputId": "03ce22b1-34cf-4cce-b691-f742728c7e64"
      },
      "source": [
        "# plot baysian means?\n",
        "# I have no idea how to pull out the numbers I need with code\n",
        "\n",
        "myloans2_array =np.array(myloans2)\n",
        "sns.kdeplot(myloans2.T['home_improvement'])\n",
        "\n",
        "#mean\n",
        "plt.axvline(x=2675.25, color ='k')\n",
        "# not sure these are the numbers needed\n",
        "# upper and lower mean caluclations\n",
        "plt.axvline(x=(990.8981142929836), color ='orange')\n",
        "plt.axvline(x=4359.601885707016, color ='orange');"
      ],
      "execution_count": 92,
      "outputs": [
        {
          "output_type": "display_data",
          "data": {
            "image/png": "[encoded data removed]",
            "text/plain": [
              "<Figure size 1728x648 with 1 Axes>"
            ]
          },
          "metadata": {
            "tags": []
          }
        }
      ]
    },
    {
      "cell_type": "code",
      "metadata": {
        "colab_type": "code",
        "outputId": "80e06058-8c63-4132-9bcc-c0528ce9ee6a",
        "id": "YmhNz7s4CadO",
        "colab": {
          "base_uri": "https://localhost:8080/",
          "height": 68
        }
      },
      "source": [
        "# duplicate cell so labels are near\n",
        "# # baysian caluclations on OWN column\n",
        "ml2a_mean, ml2a_var, mla2_std =scipy.stats.bayes_mvs(myloans2['OWN'])\n",
        "print(ml2a_mean)\n",
        "print(ml2a_var)\n",
        "print(mlb2_std)"
      ],
      "execution_count": 0,
      "outputs": [
        {
          "output_type": "stream",
          "text": [
            "Mean(statistic=1166.0833333333333, minmax=(-3.990211723697712, 2336.1568783903635))\n",
            "Variance(statistic=6225880.546296297, minmax=(2847905.114242471, 12248134.28332861))\n",
            "Std_dev(statistic=7068.228470577405, minmax=(5959.854053768472, 8393.554358478523))\n"
          ],
          "name": "stdout"
        }
      ]
    },
    {
      "cell_type": "code",
      "metadata": {
        "id": "OI3JiFMBN2tm",
        "colab_type": "code",
        "colab": {}
      },
      "source": [
        ""
      ],
      "execution_count": 0,
      "outputs": []
    },
    {
      "cell_type": "code",
      "metadata": {
        "id": "wgo3PIveN2nl",
        "colab_type": "code",
        "colab": {}
      },
      "source": [
        ""
      ],
      "execution_count": 0,
      "outputs": []
    },
    {
      "cell_type": "code",
      "metadata": {
        "id": "h-3-A9S_N2kH",
        "colab_type": "code",
        "colab": {}
      },
      "source": [
        ""
      ],
      "execution_count": 0,
      "outputs": []
    },
    {
      "cell_type": "code",
      "metadata": {
        "id": "gai6LSVwzUcH",
        "colab_type": "code",
        "colab": {
          "base_uri": "https://localhost:8080/",
          "height": 68
        },
        "outputId": "9cfbb9f3-b62f-468d-e0a1-db1e0fd0cae6"
      },
      "source": [
        "chi_square, p_value, dof, expected = stats.chi2_contingency(myloans)\n",
        "\n",
        "print('chi squared ', chi_square)\n",
        "print('p_value ', p_value)\n",
        "print('degrees of freedom ', dof)\n",
        "# print('expected ', expected)\n"
      ],
      "execution_count": 23,
      "outputs": [
        {
          "output_type": "stream",
          "text": [
            "chi squared  3826.222461092544\n",
            "p_value  0.0\n",
            "degrees of freedom  48\n"
          ],
          "name": "stdout"
        }
      ]
    },
    {
      "cell_type": "code",
      "metadata": {
        "id": "I-z3qyoXxZXK",
        "colab_type": "code",
        "colab": {}
      },
      "source": [
        "?np.where"
      ],
      "execution_count": 0,
      "outputs": []
    },
    {
      "cell_type": "code",
      "metadata": {
        "id": "JxRl4tmFmDjb",
        "colab_type": "code",
        "colab": {}
      },
      "source": [
        "# # went into pure math mode and began creating a crosstab from scratch!\n",
        "# # make extra columns to designate when a home owner takes a home improvement loan\n",
        "# small['owner']=  np.where(small['home_ownership'] == 'OWN', 1, 0)\n",
        "# small.sample(10)\n"
      ],
      "execution_count": 0,
      "outputs": []
    },
    {
      "cell_type": "code",
      "metadata": {
        "id": "IgXqqXknmDz5",
        "colab_type": "code",
        "colab": {}
      },
      "source": [
        "# # went into pure math mode and began creating a crosstab from scratch!\n",
        "# small['fixer']=  np.where(small['purpose'] == 'home_improvement', 1, 0)\n",
        "# small.sample(10)"
      ],
      "execution_count": 0,
      "outputs": []
    },
    {
      "cell_type": "code",
      "metadata": {
        "id": "sl6103N-z8z6",
        "colab_type": "code",
        "colab": {}
      },
      "source": [
        "# # went into pure math mode and began creating a crosstab from scratch!\n",
        "# # This calculates the number of loans which taken by home owners for\n",
        "# # home improvement\n",
        "# small['owner-fix-it'] = np.where(\n",
        "#     (\n",
        "#         (small['fixer'] == 1) & (small['owner'] == 1)\n",
        "#         ), 1, 0)\n",
        "# small['owner-fix-it'].value_counts()"
      ],
      "execution_count": 0,
      "outputs": []
    },
    {
      "cell_type": "markdown",
      "metadata": {
        "id": "MhunqwG5mD-y",
        "colab_type": "text"
      },
      "source": [
        ""
      ]
    },
    {
      "cell_type": "markdown",
      "metadata": {
        "id": "SMpmULV2KRC7",
        "colab_type": "text"
      },
      "source": [
        "###3) In your own words, summarize the difference between Bayesian and Frequentist statistics -->\n",
        "If you're unsure where to start, check out this blog post of Bayes theorem with Python."
      ]
    },
    {
      "cell_type": "markdown",
      "metadata": {
        "id": "YhJCHAnZKTnE",
        "colab_type": "text"
      },
      "source": [
        "Frequentist statistics relys upon measured samples. It is based upon the presumtion that the data, given a large enough sample, will fall into a normal curve. All information is drawn based upon the sample being used.\n",
        "\n",
        "Bayesian statistics relys upon information that can be \"known\" before making calcultions."
      ]
    },
    {
      "cell_type": "markdown",
      "metadata": {
        "id": "uWgWjp3PQ3Sq",
        "colab_type": "text"
      },
      "source": [
        "## Resources"
      ]
    },
    {
      "cell_type": "markdown",
      "metadata": {
        "id": "QRgHqmYIQ9qn",
        "colab_type": "text"
      },
      "source": [
        "- [Worked example of Bayes rule calculation](https://en.wikipedia.org/wiki/Bayes'_theorem#Examples) (helpful as it fully breaks out the denominator)\n",
        "- [Source code for mvsdist in scipy](https://github.com/scipy/scipy/blob/90534919e139d2a81c24bf08341734ff41a3db12/scipy/stats/morestats.py#L139)"
      ]
    },
    {
      "cell_type": "markdown",
      "metadata": {
        "id": "GP7Jv1XvwtkX",
        "colab_type": "text"
      },
      "source": [
        "## Stretch Goals:\n",
        "\n",
        "- Go back and study the content from Modules 1 & 2 to make sure that you're really comfortable with them.\n",
        "- Apply a Bayesian technique to a problem you previously worked (in an assignment or project work) on from a frequentist (standard) perspective\n",
        "- Check out [PyMC3](https://docs.pymc.io/) (note this goes beyond hypothesis tests into modeling) - read the guides and work through some examples\n",
        "- Take PyMC3 further - see if you can build something with it!"
      ]
    },
    {
      "cell_type": "code",
      "metadata": {
        "id": "iDi0eFr1x-v_",
        "colab_type": "code",
        "colab": {}
      },
      "source": [
        ""
      ],
      "execution_count": 0,
      "outputs": []
    }
  ]
}