{
  "nbformat": 4,
  "nbformat_minor": 0,
  "metadata": {
    "colab": {
      "name": "LS_DS_123_Confidence_Intervals_Assignment.ipynb",
      "provenance": [],
      "collapsed_sections": [],
      "include_colab_link": true
    },
    "kernelspec": {
      "name": "python3",
      "display_name": "Python 3"
    }
  },
  "cells": [
    {
      "cell_type": "markdown",
      "metadata": {
        "id": "view-in-github",
        "colab_type": "text"
      },
      "source": [
        "<a href=\"https://colab.research.google.com/github/HunterAshby/DS-Unit-1-Sprint-2-Statistics/blob/master/module3/LS_DS_123_Confidence_Intervals_Assignment.ipynb\" target=\"_parent\"><img src=\"https://colab.research.google.com/assets/colab-badge.svg\" alt=\"Open In Colab\"/></a>"
      ]
    },
    {
      "cell_type": "markdown",
      "metadata": {
        "id": "g_c3L9CeANiJ",
        "colab_type": "text"
      },
      "source": [
        "## Confidence Intervals\n",
        "\n",
        "The following url can be used to access an abbreviated version of responses to Stack Overflow's 2018 Developer Survey. The original Survey had ~100k respondents but the data is quite dirty so I have selected a cleaner subset of it for you to use for your assignment.\n",
        "\n",
        "<https://raw.githubusercontent.com/ryanleeallred/datasets/master/bootcampers.csv>\n",
        "\n",
        "The provided dataset holds 14 columns of information about individuals who make less than 500k per year and who responded that they had: \n",
        "\n",
        "\"Participated in a full-time developer training program or bootcamp\"\n",
        "\n",
        "## Part 1 - Setting the Stage\n",
        "\n",
        "**1) Load the dataset**"
      ]
    },
    {
      "cell_type": "code",
      "metadata": {
        "id": "yXwMJQGrAIbO",
        "colab_type": "code",
        "colab": {}
      },
      "source": [
        "import pandas as pd\n",
        "import numpy as np\n",
        "import matplotlib.pyplot as plt\n",
        "from scipy import stats"
      ],
      "execution_count": null,
      "outputs": []
    },
    {
      "cell_type": "code",
      "metadata": {
        "id": "pYsFvm1dPygj",
        "colab_type": "code",
        "colab": {
          "base_uri": "https://localhost:8080/",
          "height": 527
        },
        "outputId": "7701da7f-76d7-4da4-cbe0-e363dbd20c5a"
      },
      "source": [
        "df = pd.read_csv('https://raw.githubusercontent.com/ryanleeallred/datasets/master/bootcampers.csv')\n",
        "print(df.shape)\n",
        "df.head()"
      ],
      "execution_count": null,
      "outputs": [
        {
          "output_type": "stream",
          "text": [
            "(2761, 15)\n"
          ],
          "name": "stdout"
        },
        {
          "output_type": "execute_result",
          "data": {
            "text/html": [
              "<div>\n",
              "<style scoped>\n",
              "    .dataframe tbody tr th:only-of-type {\n",
              "        vertical-align: middle;\n",
              "    }\n",
              "\n",
              "    .dataframe tbody tr th {\n",
              "        vertical-align: top;\n",
              "    }\n",
              "\n",
              "    .dataframe thead th {\n",
              "        text-align: right;\n",
              "    }\n",
              "</style>\n",
              "<table border=\"1\" class=\"dataframe\">\n",
              "  <thead>\n",
              "    <tr style=\"text-align: right;\">\n",
              "      <th></th>\n",
              "      <th>Unnamed: 0</th>\n",
              "      <th>Student</th>\n",
              "      <th>Employment</th>\n",
              "      <th>UndergradMajor</th>\n",
              "      <th>DevType</th>\n",
              "      <th>YearsCoding</th>\n",
              "      <th>YearsCodingProf</th>\n",
              "      <th>ConvertedSalary</th>\n",
              "      <th>EducationTypes</th>\n",
              "      <th>SelfTaughtTypes</th>\n",
              "      <th>TimeAfterBootcamp</th>\n",
              "      <th>LanguageWorkedWith</th>\n",
              "      <th>Gender</th>\n",
              "      <th>Age</th>\n",
              "      <th>RaceEthnicity</th>\n",
              "    </tr>\n",
              "  </thead>\n",
              "  <tbody>\n",
              "    <tr>\n",
              "      <th>0</th>\n",
              "      <td>62</td>\n",
              "      <td>No</td>\n",
              "      <td>Employed full-time</td>\n",
              "      <td>Computer science, computer engineering, or sof...</td>\n",
              "      <td>Back-end developer;Data scientist or machine l...</td>\n",
              "      <td>12-14 years</td>\n",
              "      <td>6-8 years</td>\n",
              "      <td>120000.0</td>\n",
              "      <td>Taken an online course in programming or softw...</td>\n",
              "      <td>The official documentation and/or standards fo...</td>\n",
              "      <td>I already had a full-time job as a developer w...</td>\n",
              "      <td>C;F#;Haskell;Python;Scala</td>\n",
              "      <td>Male</td>\n",
              "      <td>25 - 34 years old</td>\n",
              "      <td>White or of European descent</td>\n",
              "    </tr>\n",
              "    <tr>\n",
              "      <th>1</th>\n",
              "      <td>73</td>\n",
              "      <td>No</td>\n",
              "      <td>Employed full-time</td>\n",
              "      <td>A humanities discipline (ex. literature, histo...</td>\n",
              "      <td>Back-end developer;Full-stack developer;System...</td>\n",
              "      <td>0-2 years</td>\n",
              "      <td>0-2 years</td>\n",
              "      <td>36000.0</td>\n",
              "      <td>Participated in a full-time developer training...</td>\n",
              "      <td>The official documentation and/or standards fo...</td>\n",
              "      <td>Four to six months</td>\n",
              "      <td>Java;JavaScript;SQL;HTML;CSS;Bash/Shell</td>\n",
              "      <td>Male</td>\n",
              "      <td>25 - 34 years old</td>\n",
              "      <td>White or of European descent</td>\n",
              "    </tr>\n",
              "    <tr>\n",
              "      <th>2</th>\n",
              "      <td>127</td>\n",
              "      <td>Yes, full-time</td>\n",
              "      <td>Employed full-time</td>\n",
              "      <td>A business discipline (ex. accounting, finance...</td>\n",
              "      <td>Full-stack developer</td>\n",
              "      <td>3-5 years</td>\n",
              "      <td>3-5 years</td>\n",
              "      <td>59980.0</td>\n",
              "      <td>Taken an online course in programming or softw...</td>\n",
              "      <td>The official documentation and/or standards fo...</td>\n",
              "      <td>One to three months</td>\n",
              "      <td>C#;JavaScript;TypeScript;HTML;CSS</td>\n",
              "      <td>Male</td>\n",
              "      <td>25 - 34 years old</td>\n",
              "      <td>East Asian</td>\n",
              "    </tr>\n",
              "    <tr>\n",
              "      <th>3</th>\n",
              "      <td>140</td>\n",
              "      <td>No</td>\n",
              "      <td>Employed full-time</td>\n",
              "      <td>A social science (ex. anthropology, psychology...</td>\n",
              "      <td>Data scientist or machine learning specialist;...</td>\n",
              "      <td>9-11 years</td>\n",
              "      <td>3-5 years</td>\n",
              "      <td>70000.0</td>\n",
              "      <td>Taken an online course in programming or softw...</td>\n",
              "      <td>Questions &amp; answers on Stack Overflow;Tapping ...</td>\n",
              "      <td>I haven’t gotten a developer job</td>\n",
              "      <td>JavaScript;Python;SQL;VBA</td>\n",
              "      <td>Male</td>\n",
              "      <td>25 - 34 years old</td>\n",
              "      <td>White or of European descent</td>\n",
              "    </tr>\n",
              "    <tr>\n",
              "      <th>4</th>\n",
              "      <td>153</td>\n",
              "      <td>No</td>\n",
              "      <td>Employed full-time</td>\n",
              "      <td>Computer science, computer engineering, or sof...</td>\n",
              "      <td>Mobile developer</td>\n",
              "      <td>6-8 years</td>\n",
              "      <td>3-5 years</td>\n",
              "      <td>105000.0</td>\n",
              "      <td>Taken an online course in programming or softw...</td>\n",
              "      <td>The official documentation and/or standards fo...</td>\n",
              "      <td>One to three months</td>\n",
              "      <td>C;Java;JavaScript;Objective-C;PHP;Python;Ruby;...</td>\n",
              "      <td>Male</td>\n",
              "      <td>25 - 34 years old</td>\n",
              "      <td>White or of European descent</td>\n",
              "    </tr>\n",
              "  </tbody>\n",
              "</table>\n",
              "</div>"
            ],
            "text/plain": [
              "   Unnamed: 0         Student  ...                Age                 RaceEthnicity\n",
              "0          62              No  ...  25 - 34 years old  White or of European descent\n",
              "1          73              No  ...  25 - 34 years old  White or of European descent\n",
              "2         127  Yes, full-time  ...  25 - 34 years old                    East Asian\n",
              "3         140              No  ...  25 - 34 years old  White or of European descent\n",
              "4         153              No  ...  25 - 34 years old  White or of European descent\n",
              "\n",
              "[5 rows x 15 columns]"
            ]
          },
          "metadata": {
            "tags": []
          },
          "execution_count": 3
        }
      ]
    },
    {
      "cell_type": "markdown",
      "metadata": {
        "id": "wOQ-9E8uYcni",
        "colab_type": "text"
      },
      "source": [
        "**2) Select two random samples from this dataset, one with a sample size of 20 and the other with a sample size of 200. (Use a `random_state` of `42` when selecting the samples)**"
      ]
    },
    {
      "cell_type": "code",
      "metadata": {
        "id": "m1vuFGxVQo64",
        "colab_type": "code",
        "colab": {}
      },
      "source": [
        "sample1 = df.sample(n=20, random_state=42)\n",
        "sample2 = df.sample(n=200, random_state=42)"
      ],
      "execution_count": null,
      "outputs": []
    },
    {
      "cell_type": "markdown",
      "metadata": {
        "id": "y2Rz-8O-YmF9",
        "colab_type": "text"
      },
      "source": [
        "**3) Calculate and report the sample means of the `ConvertedSalary` column for both of the samples.**"
      ]
    },
    {
      "cell_type": "code",
      "metadata": {
        "id": "ti9x37XSQ_yL",
        "colab_type": "code",
        "colab": {
          "base_uri": "https://localhost:8080/",
          "height": 51
        },
        "outputId": "50bc4388-1058-4eb5-f461-8a8b3d0af908"
      },
      "source": [
        "print(sample1['ConvertedSalary'].mean())\n",
        "sample2['ConvertedSalary'].mean()"
      ],
      "execution_count": null,
      "outputs": [
        {
          "output_type": "stream",
          "text": [
            "55752.2\n"
          ],
          "name": "stdout"
        },
        {
          "output_type": "execute_result",
          "data": {
            "text/plain": [
              "68551.255"
            ]
          },
          "metadata": {
            "tags": []
          },
          "execution_count": 15
        }
      ]
    },
    {
      "cell_type": "markdown",
      "metadata": {
        "id": "AtGASqgxYp5t",
        "colab_type": "text"
      },
      "source": [
        "**4) Both of these sample means are estimates of an underlying population value. Which sample mean do you trust more? Why? Would a non-technical audience have any idea about which of these values is more trustworthy?**"
      ]
    },
    {
      "cell_type": "markdown",
      "metadata": {
        "id": "8oD8lp84YyvU",
        "colab_type": "text"
      },
      "source": [
        "I would trust the one with a larger sample, becasue a larger sample is just better. I want to say common sense is that more data means better representation, but I'm not sure"
      ]
    },
    {
      "cell_type": "markdown",
      "metadata": {
        "id": "-2ulIAGmYudp",
        "colab_type": "text"
      },
      "source": [
        "**5) Does just the point estimate (individual value of the sample mean) indicate to you anything about how much sampling error there could be with these estimates?**"
      ]
    },
    {
      "cell_type": "markdown",
      "metadata": {
        "id": "hD5HloatYxoh",
        "colab_type": "text"
      },
      "source": [
        ""
      ]
    },
    {
      "cell_type": "markdown",
      "metadata": {
        "id": "SpqgKQfTYvF0",
        "colab_type": "text"
      },
      "source": [
        "**6) What strategies could we use when reporting these numbers to not only report our estimates but also to give non-technical readers an idea about how far off our estimates might be due to sampling error?**\n",
        "\n"
      ]
    },
    {
      "cell_type": "markdown",
      "metadata": {
        "id": "h7N1WnTTYyD7",
        "colab_type": "text"
      },
      "source": [
        "We would use a confindence interval"
      ]
    },
    {
      "cell_type": "markdown",
      "metadata": {
        "id": "9tIHBlM_SyGR",
        "colab_type": "text"
      },
      "source": [
        "## Part 2 - Reporting CIs / MOEs along with our point estimates for more context.\n",
        "\n",
        "**1) Calculate and report a 95% confidence interval around both of the sample means from part 1.**\n",
        "\n"
      ]
    },
    {
      "cell_type": "code",
      "metadata": {
        "id": "hfCO0gHEUOrE",
        "colab_type": "code",
        "colab": {}
      },
      "source": [
        "def confidence_interval(sample, confidence_level=.95):\n",
        "  sample = np.array(sample)\n",
        "  x_bar = np.mean(sample)\n",
        "  s = np.std(sample, ddof=1)\n",
        "  n = len(sample)\n",
        "  t = stats.t.ppf(1-(1-confidence_level)/2, n-1)\n",
        "  std_err = s / np.sqrt(n)\n",
        "  moe = t * std_err\n",
        "  lower_bound = x_bar - moe\n",
        "  upper_bound = x_bar + moe\n",
        "  return (x_bar, lower_bound, upper_bound, moe)"
      ],
      "execution_count": null,
      "outputs": []
    },
    {
      "cell_type": "code",
      "metadata": {
        "id": "r5OqA6GYUbUZ",
        "colab_type": "code",
        "colab": {
          "base_uri": "https://localhost:8080/",
          "height": 34
        },
        "outputId": "c84c7283-f7ee-4e23-ea9d-8fe371ab186d"
      },
      "source": [
        "confidence_interval(sample1['ConvertedSalary'])"
      ],
      "execution_count": null,
      "outputs": [
        {
          "output_type": "execute_result",
          "data": {
            "text/plain": [
              "(55752.2, 35805.10309625536, 75699.29690374463, 19947.096903744638)"
            ]
          },
          "metadata": {
            "tags": []
          },
          "execution_count": 18
        }
      ]
    },
    {
      "cell_type": "code",
      "metadata": {
        "id": "kvtuhUzzUlqH",
        "colab_type": "code",
        "colab": {
          "base_uri": "https://localhost:8080/",
          "height": 34
        },
        "outputId": "8cdf6dfc-804b-4953-a437-aaeb9b458b59"
      },
      "source": [
        "confidence_interval(sample2['ConvertedSalary'])"
      ],
      "execution_count": null,
      "outputs": [
        {
          "output_type": "execute_result",
          "data": {
            "text/plain": [
              "(68551.255, 60593.058804479086, 76509.45119552092, 7958.196195520917)"
            ]
          },
          "metadata": {
            "tags": []
          },
          "execution_count": 19
        }
      ]
    },
    {
      "cell_type": "markdown",
      "metadata": {
        "id": "vdiW7DHRZwK-",
        "colab_type": "text"
      },
      "source": [
        "**2) Which confidence interval is wider and why?**"
      ]
    },
    {
      "cell_type": "markdown",
      "metadata": {
        "id": "p5KGlyvYZ1Qq",
        "colab_type": "text"
      },
      "source": [
        "The confidence interval of the first sample is much wider. Due to its lower sample size the standard error of our estimate is much larger causing the potential distribution of sample means to be much more spread out. A confidence interval catches 95% of this theoretical distriution of sample means so if our standard error is larger, our confidence interval will be wider as well."
      ]
    },
    {
      "cell_type": "markdown",
      "metadata": {
        "id": "6N33K4NvZ13H",
        "colab_type": "text"
      },
      "source": [
        "**3) Report the mean and the margin of error for both of the sample means. What does the Margin of Error Represent?**"
      ]
    },
    {
      "cell_type": "code",
      "metadata": {
        "id": "MfMIBftMU_rz",
        "colab_type": "code",
        "colab": {}
      },
      "source": [
        "# sample 1 Mean = 55752.2, Margin of Error = 19947.1\n",
        "# sample 2 Mean = 68551.26 Margin of Error = 7958.2\n",
        "# margin of error represents how far away the population \n",
        "# mean can be from the sample mean at a set confidence level"
      ],
      "execution_count": null,
      "outputs": []
    },
    {
      "cell_type": "code",
      "metadata": {
        "id": "DOJ41W1tVWa6",
        "colab_type": "code",
        "colab": {}
      },
      "source": [
        ""
      ],
      "execution_count": null,
      "outputs": []
    },
    {
      "cell_type": "markdown",
      "metadata": {
        "id": "_7NuYtHfaQav",
        "colab_type": "text"
      },
      "source": [
        "The margin of error gives an idea of how far off our estimates might be (with 95% confidence). We're trying to supply a plausible range for our parameter of interest (the true average salary of bootcamp grads)."
      ]
    },
    {
      "cell_type": "markdown",
      "metadata": {
        "id": "zkg9EW9KTgGv",
        "colab_type": "text"
      },
      "source": [
        "## Part 3 - Communicate the Precision of Sample Estimates Graphically\n",
        "\n",
        "**1) Create a plot using `plt.errorbar` that compares both of the confidence intervals.** "
      ]
    },
    {
      "cell_type": "code",
      "metadata": {
        "id": "2QOQGVfsVfFZ",
        "colab_type": "code",
        "colab": {
          "base_uri": "https://localhost:8080/",
          "height": 265
        },
        "outputId": "ae7da7c1-ae94-4af2-cd0f-d650ab5ce40e"
      },
      "source": [
        "sample1_con = confidence_interval(sample1['ConvertedSalary'])\n",
        "sample2_con = confidence_interval(sample2['ConvertedSalary'])\n",
        "plt.errorbar(x=sample1_con[0], y=0, xerr=sample1_con[3], fmt='o')\n",
        "plt.errorbar(x=sample2_con[0], y=1, xerr=sample2_con[3], fmt='o')\n",
        "plt.show()"
      ],
      "execution_count": null,
      "outputs": [
        {
          "output_type": "display_data",
          "data": {
            "image/png": "[encoded data removed]",
            "text/plain": [
              "<Figure size 432x288 with 1 Axes>"
            ]
          },
          "metadata": {
            "tags": [],
            "needs_background": "light"
          }
        }
      ]
    },
    {
      "cell_type": "markdown",
      "metadata": {
        "id": "HsTtONTNawFi",
        "colab_type": "text"
      },
      "source": [
        "**2) Create a plot using `plt.bar` that compares both of the confidence intervals.**"
      ]
    },
    {
      "cell_type": "code",
      "metadata": {
        "id": "UE1fxaoKW1Xg",
        "colab_type": "code",
        "colab": {
          "base_uri": "https://localhost:8080/",
          "height": 268
        },
        "outputId": "2f6f7eb2-5d37-4b66-e67d-db90eccb1b1f"
      },
      "source": [
        "plt.bar(x=0, height=sample1_con[0], yerr=sample1_con[3])\n",
        "plt.bar(x=1, height=sample2_con[0], yerr=sample2_con[3])\n",
        "plt.show()"
      ],
      "execution_count": null,
      "outputs": [
        {
          "output_type": "display_data",
          "data": {
            "image/png": "[encoded data removed]",
            "text/plain": [
              "<Figure size 432x288 with 1 Axes>"
            ]
          },
          "metadata": {
            "tags": [],
            "needs_background": "light"
          }
        }
      ]
    },
    {
      "cell_type": "markdown",
      "metadata": {
        "id": "ZGCzS-BFctob",
        "colab_type": "text"
      },
      "source": [
        "## Part 4 - Check for Understanding\n",
        "\n",
        "\n",
        "\n",
        "\n",
        "\n"
      ]
    },
    {
      "cell_type": "markdown",
      "metadata": {
        "id": "E181afPXezJ9",
        "colab_type": "text"
      },
      "source": [
        "**Calculate a Confidence Interval using the entire dataset. How precise do our estimates get?**"
      ]
    },
    {
      "cell_type": "code",
      "metadata": {
        "id": "3puy99D6esLn",
        "colab_type": "code",
        "colab": {
          "base_uri": "https://localhost:8080/",
          "height": 34
        },
        "outputId": "07831772-5c5e-4149-d024-069ce3dfa7e6"
      },
      "source": [
        "confidence_interval(df['ConvertedSalary'])\n",
        "#both of the samples had the population mean in their range"
      ],
      "execution_count": null,
      "outputs": [
        {
          "output_type": "execute_result",
          "data": {
            "text/plain": [
              "(73453.40420137631, 71299.82986224785, 75606.97854050477, 2153.574339128457)"
            ]
          },
          "metadata": {
            "tags": []
          },
          "execution_count": 28
        }
      ]
    },
    {
      "cell_type": "code",
      "metadata": {
        "id": "CHISMeCaKCW1",
        "colab_type": "code",
        "colab": {}
      },
      "source": [
        ""
      ],
      "execution_count": null,
      "outputs": []
    },
    {
      "cell_type": "markdown",
      "metadata": {
        "id": "wbA0inEKexdW",
        "colab_type": "text"
      },
      "source": [
        "**What does \"precision\" mean in the context of statistical estimates and how is that different from \"accuracy?\"**"
      ]
    },
    {
      "cell_type": "markdown",
      "metadata": {
        "id": "Btl5phUUd6L4",
        "colab_type": "text"
      },
      "source": [
        "to put it simply, accuracy is the mean, percesion is how wide the confidence interval is"
      ]
    },
    {
      "cell_type": "markdown",
      "metadata": {
        "id": "4F-4ux7sd5pL",
        "colab_type": "text"
      },
      "source": [
        "**It is very common to misunderstand what is captured by a 95% confidence interval. What is the correct interpretation? ([Hint](https://www.statisticssolutions.com/misconceptions-about-confidence-intervals/))**"
      ]
    },
    {
      "cell_type": "markdown",
      "metadata": {
        "id": "bSU07naHd6li",
        "colab_type": "text"
      },
      "source": [
        "95% of the confidence intervals made from the random samples will contain the true population mean"
      ]
    },
    {
      "cell_type": "markdown",
      "metadata": {
        "id": "cvtnsGLJa4bW",
        "colab_type": "text"
      },
      "source": [
        "# Stretch Goals:\n",
        "\n",
        "1) Study the relationship between t-tests and confidence intervals.\n",
        " - Find a sample mean that we have worked with and construct a 95% confidence interval around it. (find the lower and upper bounds)\n",
        " - Run a 1-sample t-test with the null hypothesis value being just barely **outside** of the confidence interval. What is the p-value?\n",
        " - Run a 1-sample t-test with the null hypothesis value being just barely **inside** of the confidence interval. What is the p-value?\n",
        "\n",
        "  What does it mean when we say that the boundaries of the confidence interval are the boundaries of statistical significance in a 1-sample t-test?\n",
        "\n",
        "\n",
        "2) Go back to our [congressional voting dataset](https://archive.ics.uci.edu/ml/datasets/Congressional+Voting+Records) and build confidence intervals around the means of all of the issues for a single party. Compare all of those confidence intervals graphically on a single graph. \n",
        "\n",
        "3) Dive deeper into the [2018 Stack Overflow Survey](https://www.kaggle.com/stackoverflow/stack-overflow-2018-developer-survey) results to see what cool things you can find."
      ]
    }
  ]
}