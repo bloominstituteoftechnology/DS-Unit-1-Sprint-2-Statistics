{
  "nbformat": 4,
  "nbformat_minor": 0,
  "metadata": {
    "colab": {
      "name": "Santiago_Berniz_LS_DS_123_Confidence_Intervals_Assignment.ipynb",
      "provenance": [],
      "collapsed_sections": [],
      "include_colab_link": true
    },
    "kernelspec": {
      "name": "python3",
      "display_name": "Python 3"
    }
  },
  "cells": [
    {
      "cell_type": "markdown",
      "metadata": {
        "id": "view-in-github",
        "colab_type": "text"
      },
      "source": [
        "<a href=\"https://colab.research.google.com/github/sberniz/DS-Unit-1-Sprint-2-Statistics/blob/master/module3/LS_DS_123_Confidence_Intervals_Assignment.ipynb\" target=\"_parent\"><img src=\"https://colab.research.google.com/assets/colab-badge.svg\" alt=\"Open In Colab\"/></a>"
      ]
    },
    {
      "cell_type": "markdown",
      "metadata": {
        "id": "g_c3L9CeANiJ",
        "colab_type": "text"
      },
      "source": [
        "## Confidence Intervals\n",
        "\n",
        "The following url can be used to access an abbreviated version of responses to Stack Overflow's 2018 Developer Survey. The original Survey had ~100k respondents but the data is quite dirty so I have selected a cleaner subset of it for you to use for your assignment.\n",
        "\n",
        "<https://raw.githubusercontent.com/ryanleeallred/datasets/master/bootcampers.csv>\n",
        "\n",
        "The provided dataset holds 14 columns of information about individuals who make less than 500k per year and who responded that they had: \n",
        "\n",
        "\"Participated in a full-time developer training program or bootcamp\"\n",
        "\n",
        "## Part 1 - Setting the Stage\n",
        "\n",
        "**1) Load the dataset**"
      ]
    },
    {
      "cell_type": "code",
      "metadata": {
        "id": "DSK8VFk6zGbA",
        "colab_type": "code",
        "colab": {}
      },
      "source": [
        "import pandas as pd\n",
        "import numpy as np\n",
        "import matplotlib.pyplot as plt\n",
        "import seaborn as sns\n",
        "from scipy import stats"
      ],
      "execution_count": 0,
      "outputs": []
    },
    {
      "cell_type": "code",
      "metadata": {
        "id": "yXwMJQGrAIbO",
        "colab_type": "code",
        "colab": {
          "base_uri": "https://localhost:8080/",
          "height": 208
        },
        "outputId": "6bbbb350-a371-4cb6-bdbf-125601e8f92b"
      },
      "source": [
        "!wget https://raw.githubusercontent.com/ryanleeallred/datasets/master/bootcampers.csv"
      ],
      "execution_count": 1,
      "outputs": [
        {
          "output_type": "stream",
          "text": [
            "--2020-06-10 19:54:17--  https://raw.githubusercontent.com/ryanleeallred/datasets/master/bootcampers.csv\n",
            "Resolving raw.githubusercontent.com (raw.githubusercontent.com)... 151.101.0.133, 151.101.64.133, 151.101.128.133, ...\n",
            "Connecting to raw.githubusercontent.com (raw.githubusercontent.com)|151.101.0.133|:443... connected.\n",
            "HTTP request sent, awaiting response... 200 OK\n",
            "Length: 2499384 (2.4M) [text/plain]\n",
            "Saving to: ‘bootcampers.csv’\n",
            "\n",
            "bootcampers.csv     100%[===================>]   2.38M  --.-KB/s    in 0.1s    \n",
            "\n",
            "2020-06-10 19:54:18 (25.1 MB/s) - ‘bootcampers.csv’ saved [2499384/2499384]\n",
            "\n"
          ],
          "name": "stdout"
        }
      ]
    },
    {
      "cell_type": "code",
      "metadata": {
        "id": "pYsFvm1dPygj",
        "colab_type": "code",
        "colab": {
          "base_uri": "https://localhost:8080/",
          "height": 534
        },
        "outputId": "845e2f71-43e8-4f2a-a44d-0a6bd29eecae"
      },
      "source": [
        "df = pd.read_csv('bootcampers.csv')\n",
        "df.head()"
      ],
      "execution_count": 3,
      "outputs": [
        {
          "output_type": "execute_result",
          "data": {
            "text/html": [
              "<div>\n",
              "<style scoped>\n",
              "    .dataframe tbody tr th:only-of-type {\n",
              "        vertical-align: middle;\n",
              "    }\n",
              "\n",
              "    .dataframe tbody tr th {\n",
              "        vertical-align: top;\n",
              "    }\n",
              "\n",
              "    .dataframe thead th {\n",
              "        text-align: right;\n",
              "    }\n",
              "</style>\n",
              "<table border=\"1\" class=\"dataframe\">\n",
              "  <thead>\n",
              "    <tr style=\"text-align: right;\">\n",
              "      <th></th>\n",
              "      <th>Unnamed: 0</th>\n",
              "      <th>Student</th>\n",
              "      <th>Employment</th>\n",
              "      <th>UndergradMajor</th>\n",
              "      <th>DevType</th>\n",
              "      <th>YearsCoding</th>\n",
              "      <th>YearsCodingProf</th>\n",
              "      <th>ConvertedSalary</th>\n",
              "      <th>EducationTypes</th>\n",
              "      <th>SelfTaughtTypes</th>\n",
              "      <th>TimeAfterBootcamp</th>\n",
              "      <th>LanguageWorkedWith</th>\n",
              "      <th>Gender</th>\n",
              "      <th>Age</th>\n",
              "      <th>RaceEthnicity</th>\n",
              "    </tr>\n",
              "  </thead>\n",
              "  <tbody>\n",
              "    <tr>\n",
              "      <th>0</th>\n",
              "      <td>62</td>\n",
              "      <td>No</td>\n",
              "      <td>Employed full-time</td>\n",
              "      <td>Computer science, computer engineering, or sof...</td>\n",
              "      <td>Back-end developer;Data scientist or machine l...</td>\n",
              "      <td>12-14 years</td>\n",
              "      <td>6-8 years</td>\n",
              "      <td>120000.0</td>\n",
              "      <td>Taken an online course in programming or softw...</td>\n",
              "      <td>The official documentation and/or standards fo...</td>\n",
              "      <td>I already had a full-time job as a developer w...</td>\n",
              "      <td>C;F#;Haskell;Python;Scala</td>\n",
              "      <td>Male</td>\n",
              "      <td>25 - 34 years old</td>\n",
              "      <td>White or of European descent</td>\n",
              "    </tr>\n",
              "    <tr>\n",
              "      <th>1</th>\n",
              "      <td>73</td>\n",
              "      <td>No</td>\n",
              "      <td>Employed full-time</td>\n",
              "      <td>A humanities discipline (ex. literature, histo...</td>\n",
              "      <td>Back-end developer;Full-stack developer;System...</td>\n",
              "      <td>0-2 years</td>\n",
              "      <td>0-2 years</td>\n",
              "      <td>36000.0</td>\n",
              "      <td>Participated in a full-time developer training...</td>\n",
              "      <td>The official documentation and/or standards fo...</td>\n",
              "      <td>Four to six months</td>\n",
              "      <td>Java;JavaScript;SQL;HTML;CSS;Bash/Shell</td>\n",
              "      <td>Male</td>\n",
              "      <td>25 - 34 years old</td>\n",
              "      <td>White or of European descent</td>\n",
              "    </tr>\n",
              "    <tr>\n",
              "      <th>2</th>\n",
              "      <td>127</td>\n",
              "      <td>Yes, full-time</td>\n",
              "      <td>Employed full-time</td>\n",
              "      <td>A business discipline (ex. accounting, finance...</td>\n",
              "      <td>Full-stack developer</td>\n",
              "      <td>3-5 years</td>\n",
              "      <td>3-5 years</td>\n",
              "      <td>59980.0</td>\n",
              "      <td>Taken an online course in programming or softw...</td>\n",
              "      <td>The official documentation and/or standards fo...</td>\n",
              "      <td>One to three months</td>\n",
              "      <td>C#;JavaScript;TypeScript;HTML;CSS</td>\n",
              "      <td>Male</td>\n",
              "      <td>25 - 34 years old</td>\n",
              "      <td>East Asian</td>\n",
              "    </tr>\n",
              "    <tr>\n",
              "      <th>3</th>\n",
              "      <td>140</td>\n",
              "      <td>No</td>\n",
              "      <td>Employed full-time</td>\n",
              "      <td>A social science (ex. anthropology, psychology...</td>\n",
              "      <td>Data scientist or machine learning specialist;...</td>\n",
              "      <td>9-11 years</td>\n",
              "      <td>3-5 years</td>\n",
              "      <td>70000.0</td>\n",
              "      <td>Taken an online course in programming or softw...</td>\n",
              "      <td>Questions &amp; answers on Stack Overflow;Tapping ...</td>\n",
              "      <td>I haven’t gotten a developer job</td>\n",
              "      <td>JavaScript;Python;SQL;VBA</td>\n",
              "      <td>Male</td>\n",
              "      <td>25 - 34 years old</td>\n",
              "      <td>White or of European descent</td>\n",
              "    </tr>\n",
              "    <tr>\n",
              "      <th>4</th>\n",
              "      <td>153</td>\n",
              "      <td>No</td>\n",
              "      <td>Employed full-time</td>\n",
              "      <td>Computer science, computer engineering, or sof...</td>\n",
              "      <td>Mobile developer</td>\n",
              "      <td>6-8 years</td>\n",
              "      <td>3-5 years</td>\n",
              "      <td>105000.0</td>\n",
              "      <td>Taken an online course in programming or softw...</td>\n",
              "      <td>The official documentation and/or standards fo...</td>\n",
              "      <td>One to three months</td>\n",
              "      <td>C;Java;JavaScript;Objective-C;PHP;Python;Ruby;...</td>\n",
              "      <td>Male</td>\n",
              "      <td>25 - 34 years old</td>\n",
              "      <td>White or of European descent</td>\n",
              "    </tr>\n",
              "  </tbody>\n",
              "</table>\n",
              "</div>"
            ],
            "text/plain": [
              "   Unnamed: 0         Student  ...                Age                 RaceEthnicity\n",
              "0          62              No  ...  25 - 34 years old  White or of European descent\n",
              "1          73              No  ...  25 - 34 years old  White or of European descent\n",
              "2         127  Yes, full-time  ...  25 - 34 years old                    East Asian\n",
              "3         140              No  ...  25 - 34 years old  White or of European descent\n",
              "4         153              No  ...  25 - 34 years old  White or of European descent\n",
              "\n",
              "[5 rows x 15 columns]"
            ]
          },
          "metadata": {
            "tags": []
          },
          "execution_count": 3
        }
      ]
    },
    {
      "cell_type": "code",
      "metadata": {
        "id": "yFyCX_gL0Bfx",
        "colab_type": "code",
        "colab": {
          "base_uri": "https://localhost:8080/",
          "height": 517
        },
        "outputId": "17c97a31-57a4-4400-9f33-218ffa07adb4"
      },
      "source": [
        "df.drop('Unnamed: 0',axis=1,inplace=True)\n",
        "df.head()"
      ],
      "execution_count": 5,
      "outputs": [
        {
          "output_type": "execute_result",
          "data": {
            "text/html": [
              "<div>\n",
              "<style scoped>\n",
              "    .dataframe tbody tr th:only-of-type {\n",
              "        vertical-align: middle;\n",
              "    }\n",
              "\n",
              "    .dataframe tbody tr th {\n",
              "        vertical-align: top;\n",
              "    }\n",
              "\n",
              "    .dataframe thead th {\n",
              "        text-align: right;\n",
              "    }\n",
              "</style>\n",
              "<table border=\"1\" class=\"dataframe\">\n",
              "  <thead>\n",
              "    <tr style=\"text-align: right;\">\n",
              "      <th></th>\n",
              "      <th>Student</th>\n",
              "      <th>Employment</th>\n",
              "      <th>UndergradMajor</th>\n",
              "      <th>DevType</th>\n",
              "      <th>YearsCoding</th>\n",
              "      <th>YearsCodingProf</th>\n",
              "      <th>ConvertedSalary</th>\n",
              "      <th>EducationTypes</th>\n",
              "      <th>SelfTaughtTypes</th>\n",
              "      <th>TimeAfterBootcamp</th>\n",
              "      <th>LanguageWorkedWith</th>\n",
              "      <th>Gender</th>\n",
              "      <th>Age</th>\n",
              "      <th>RaceEthnicity</th>\n",
              "    </tr>\n",
              "  </thead>\n",
              "  <tbody>\n",
              "    <tr>\n",
              "      <th>0</th>\n",
              "      <td>No</td>\n",
              "      <td>Employed full-time</td>\n",
              "      <td>Computer science, computer engineering, or sof...</td>\n",
              "      <td>Back-end developer;Data scientist or machine l...</td>\n",
              "      <td>12-14 years</td>\n",
              "      <td>6-8 years</td>\n",
              "      <td>120000.0</td>\n",
              "      <td>Taken an online course in programming or softw...</td>\n",
              "      <td>The official documentation and/or standards fo...</td>\n",
              "      <td>I already had a full-time job as a developer w...</td>\n",
              "      <td>C;F#;Haskell;Python;Scala</td>\n",
              "      <td>Male</td>\n",
              "      <td>25 - 34 years old</td>\n",
              "      <td>White or of European descent</td>\n",
              "    </tr>\n",
              "    <tr>\n",
              "      <th>1</th>\n",
              "      <td>No</td>\n",
              "      <td>Employed full-time</td>\n",
              "      <td>A humanities discipline (ex. literature, histo...</td>\n",
              "      <td>Back-end developer;Full-stack developer;System...</td>\n",
              "      <td>0-2 years</td>\n",
              "      <td>0-2 years</td>\n",
              "      <td>36000.0</td>\n",
              "      <td>Participated in a full-time developer training...</td>\n",
              "      <td>The official documentation and/or standards fo...</td>\n",
              "      <td>Four to six months</td>\n",
              "      <td>Java;JavaScript;SQL;HTML;CSS;Bash/Shell</td>\n",
              "      <td>Male</td>\n",
              "      <td>25 - 34 years old</td>\n",
              "      <td>White or of European descent</td>\n",
              "    </tr>\n",
              "    <tr>\n",
              "      <th>2</th>\n",
              "      <td>Yes, full-time</td>\n",
              "      <td>Employed full-time</td>\n",
              "      <td>A business discipline (ex. accounting, finance...</td>\n",
              "      <td>Full-stack developer</td>\n",
              "      <td>3-5 years</td>\n",
              "      <td>3-5 years</td>\n",
              "      <td>59980.0</td>\n",
              "      <td>Taken an online course in programming or softw...</td>\n",
              "      <td>The official documentation and/or standards fo...</td>\n",
              "      <td>One to three months</td>\n",
              "      <td>C#;JavaScript;TypeScript;HTML;CSS</td>\n",
              "      <td>Male</td>\n",
              "      <td>25 - 34 years old</td>\n",
              "      <td>East Asian</td>\n",
              "    </tr>\n",
              "    <tr>\n",
              "      <th>3</th>\n",
              "      <td>No</td>\n",
              "      <td>Employed full-time</td>\n",
              "      <td>A social science (ex. anthropology, psychology...</td>\n",
              "      <td>Data scientist or machine learning specialist;...</td>\n",
              "      <td>9-11 years</td>\n",
              "      <td>3-5 years</td>\n",
              "      <td>70000.0</td>\n",
              "      <td>Taken an online course in programming or softw...</td>\n",
              "      <td>Questions &amp; answers on Stack Overflow;Tapping ...</td>\n",
              "      <td>I haven’t gotten a developer job</td>\n",
              "      <td>JavaScript;Python;SQL;VBA</td>\n",
              "      <td>Male</td>\n",
              "      <td>25 - 34 years old</td>\n",
              "      <td>White or of European descent</td>\n",
              "    </tr>\n",
              "    <tr>\n",
              "      <th>4</th>\n",
              "      <td>No</td>\n",
              "      <td>Employed full-time</td>\n",
              "      <td>Computer science, computer engineering, or sof...</td>\n",
              "      <td>Mobile developer</td>\n",
              "      <td>6-8 years</td>\n",
              "      <td>3-5 years</td>\n",
              "      <td>105000.0</td>\n",
              "      <td>Taken an online course in programming or softw...</td>\n",
              "      <td>The official documentation and/or standards fo...</td>\n",
              "      <td>One to three months</td>\n",
              "      <td>C;Java;JavaScript;Objective-C;PHP;Python;Ruby;...</td>\n",
              "      <td>Male</td>\n",
              "      <td>25 - 34 years old</td>\n",
              "      <td>White or of European descent</td>\n",
              "    </tr>\n",
              "  </tbody>\n",
              "</table>\n",
              "</div>"
            ],
            "text/plain": [
              "          Student  ...                 RaceEthnicity\n",
              "0              No  ...  White or of European descent\n",
              "1              No  ...  White or of European descent\n",
              "2  Yes, full-time  ...                    East Asian\n",
              "3              No  ...  White or of European descent\n",
              "4              No  ...  White or of European descent\n",
              "\n",
              "[5 rows x 14 columns]"
            ]
          },
          "metadata": {
            "tags": []
          },
          "execution_count": 5
        }
      ]
    },
    {
      "cell_type": "markdown",
      "metadata": {
        "id": "wOQ-9E8uYcni",
        "colab_type": "text"
      },
      "source": [
        "**2) Select two random samples from this dataset, one with a sample size of 20 and the other with a sample size of 200. (Use a `random_state` of `42` when selecting the samples)**"
      ]
    },
    {
      "cell_type": "code",
      "metadata": {
        "id": "m1vuFGxVQo64",
        "colab_type": "code",
        "colab": {}
      },
      "source": [
        "sample1 = df.sample(20, random_state=42)\n",
        "sample2 = df.sample(200,random_state=42)"
      ],
      "execution_count": 0,
      "outputs": []
    },
    {
      "cell_type": "markdown",
      "metadata": {
        "id": "y2Rz-8O-YmF9",
        "colab_type": "text"
      },
      "source": [
        "**3) Calculate and report the sample means of the `ConvertedSalary` column for both of the samples.**"
      ]
    },
    {
      "cell_type": "code",
      "metadata": {
        "id": "ti9x37XSQ_yL",
        "colab_type": "code",
        "colab": {
          "base_uri": "https://localhost:8080/",
          "height": 52
        },
        "outputId": "252e4ca1-44ad-46ff-cb86-ea29a8bb9699"
      },
      "source": [
        "sample1_conv_sal_mean = sample1['ConvertedSalary'].mean()\n",
        "sample2_conv_sal_mean = sample2['ConvertedSalary'].mean()\n",
        "print(\"Sample 1 Converted Salary Mean: \",sample1_conv_sal_mean)\n",
        "print(\"Sample 2 Converted Salary Mean: \",sample2_conv_sal_mean)"
      ],
      "execution_count": 9,
      "outputs": [
        {
          "output_type": "stream",
          "text": [
            "Sample 1 Converted Salary Mean:  55752.2\n",
            "Sample 2 Converted Salary Mean:  68551.255\n"
          ],
          "name": "stdout"
        }
      ]
    },
    {
      "cell_type": "markdown",
      "metadata": {
        "id": "AtGASqgxYp5t",
        "colab_type": "text"
      },
      "source": [
        "**4) Both of these sample means are estimates of an underlying population value. Which sample mean do you trust more? Why? Would a non-technical audience have any idea about which of these values is more trustworthy?**"
      ]
    },
    {
      "cell_type": "markdown",
      "metadata": {
        "id": "8oD8lp84YyvU",
        "colab_type": "text"
      },
      "source": [
        "Although I would be incline to trust sample 2 more because Developers are known to have a high salary, I wouldn't trust either because it is just two mean from a sample, and there could be variations (standard error) from the entire population, and that information is not given. Non technical person would not know which of the values is more trustworthy\n",
        "\n",
        "---\n",
        "\n"
      ]
    },
    {
      "cell_type": "markdown",
      "metadata": {
        "id": "-2ulIAGmYudp",
        "colab_type": "text"
      },
      "source": [
        "**5) Does just the point estimate (individual value of the sample mean) indicate to you anything about how much sampling error there could be with these estimates?**"
      ]
    },
    {
      "cell_type": "markdown",
      "metadata": {
        "id": "hD5HloatYxoh",
        "colab_type": "text"
      },
      "source": [
        "No, these value do not communicate enough to know how much sampling error, the standard error needs to be calculated for that. \n"
      ]
    },
    {
      "cell_type": "markdown",
      "metadata": {
        "id": "SpqgKQfTYvF0",
        "colab_type": "text"
      },
      "source": [
        "**6) What strategies could we use when reporting these numbers to not only report our estimates but also to give non-technical readers an idea about how far off our estimates might be due to sampling error?**\n",
        "\n"
      ]
    },
    {
      "cell_type": "markdown",
      "metadata": {
        "id": "h7N1WnTTYyD7",
        "colab_type": "text"
      },
      "source": [
        "We would say for example. the Salary mean and say Plus or minus either a percentage or for exmple +/- $2000"
      ]
    },
    {
      "cell_type": "markdown",
      "metadata": {
        "id": "9tIHBlM_SyGR",
        "colab_type": "text"
      },
      "source": [
        "## Part 2 - Reporting CIs / MOEs along with our point estimates for more context.\n",
        "\n",
        "**1) Calculate and report a 95% confidence interval around both of the sample means from part 1.**\n",
        "\n"
      ]
    },
    {
      "cell_type": "code",
      "metadata": {
        "id": "hfCO0gHEUOrE",
        "colab_type": "code",
        "colab": {}
      },
      "source": [
        "#function to calculate CI intervals\n",
        "def calc_ci(sample,confidence = .5):\n",
        "  sample = np.array(sample) #converts sample to numpy array\n",
        "  x_bar = sample.mean() #calculate the sample mean. \n",
        "  s = np.std(sample,ddof=1) #S is for standard deviation\n",
        "  n = len(sample) #length of sample size, how many people from pop\n",
        "  t = stats.t.ppf((1+confidence) / 2, n-1) #t statistic to confidence level and degrees of freedom\n",
        "  std_err = s / np.sqrt(n) #standard error deviding standard deviation by square root of sample size\n",
        "  mrg_err = std_err * t #t statistic * standard error\n",
        "  #Lower and upper bound = x_bar +/- marging of error (mrg_err)\n",
        "  lower = x_bar - mrg_err\n",
        "  upper = x_bar + mrg_err\n",
        "  return(lower,x_bar,upper)\n",
        "\n",
        "\n",
        "\n"
      ],
      "execution_count": 0,
      "outputs": []
    },
    {
      "cell_type": "code",
      "metadata": {
        "id": "r5OqA6GYUbUZ",
        "colab_type": "code",
        "colab": {
          "base_uri": "https://localhost:8080/",
          "height": 104
        },
        "outputId": "7762b385-24e9-4b08-ff76-18cb3a29cf3a"
      },
      "source": [
        "lower,x_bar,upper = calc_ci(sample1['ConvertedSalary'])\n",
        "print(\"Sample 1 CI (Confidence Interval)\")\n",
        "print(\"Mean \", x_bar)\n",
        "print(\"Lower\",lower)\n",
        "print(\"Upper\",upper)\n",
        "print(\"Margin of error\",(upper - x_bar))"
      ],
      "execution_count": 17,
      "outputs": [
        {
          "output_type": "stream",
          "text": [
            "Sample 1 CI (Confidence Interval)\n",
            "Mean  55752.2\n",
            "Lower 49198.977707842074\n",
            "Upper 62305.42229215792\n",
            "Margin of error 6553.222292157923\n"
          ],
          "name": "stdout"
        }
      ]
    },
    {
      "cell_type": "code",
      "metadata": {
        "id": "kvtuhUzzUlqH",
        "colab_type": "code",
        "colab": {
          "base_uri": "https://localhost:8080/",
          "height": 104
        },
        "outputId": "24c2d906-739c-43a5-b68e-ef51f24ec4e1"
      },
      "source": [
        "lower,x_bar,upper = calc_ci(sample2['ConvertedSalary'])\n",
        "print(\"Sample 2 CI (Confidence Interval)\")\n",
        "print(\"Mean \", x_bar)\n",
        "print(\"Lower\",lower)\n",
        "print(\"Upper\",upper)\n",
        "print(\"Margin of error\",(upper - x_bar))"
      ],
      "execution_count": 22,
      "outputs": [
        {
          "output_type": "stream",
          "text": [
            "Sample 2 CI (Confidence Interval)\n",
            "Mean  68551.255\n",
            "Lower 65824.24312862297\n",
            "Upper 71278.26687137704\n",
            "Margin of error 2727.0118713770353\n"
          ],
          "name": "stdout"
        }
      ]
    },
    {
      "cell_type": "markdown",
      "metadata": {
        "id": "vdiW7DHRZwK-",
        "colab_type": "text"
      },
      "source": [
        "**2) Which confidence interval is wider and why?**"
      ]
    },
    {
      "cell_type": "markdown",
      "metadata": {
        "id": "p5KGlyvYZ1Qq",
        "colab_type": "text"
      },
      "source": [
        "The first confidence interval is weider because the sample is smaller, as we learned before, smaller sample tend to have bigger standard errors, hence also bigger confidence interval"
      ]
    },
    {
      "cell_type": "markdown",
      "metadata": {
        "id": "6N33K4NvZ13H",
        "colab_type": "text"
      },
      "source": [
        "**3) Report the mean and the margin of error for both of the sample means. What does the Margin of Error Represent?**"
      ]
    },
    {
      "cell_type": "code",
      "metadata": {
        "id": "MfMIBftMU_rz",
        "colab_type": "code",
        "colab": {
          "base_uri": "https://localhost:8080/",
          "height": 104
        },
        "outputId": "26ada523-b4b4-4bb5-eeb6-241b314e98da"
      },
      "source": [
        "lower1,x_bar1,upper1 = calc_ci(sample1['ConvertedSalary'])\n",
        "print(\"Sample 2 CI (Confidence Interval)\")\n",
        "print(\"Mean \", x_bar1)\n",
        "print(\"Lower\",lower1)\n",
        "print(\"Upper\",upper1)\n",
        "print(\"Margin of error\",(upper1 - x_bar1))"
      ],
      "execution_count": 42,
      "outputs": [
        {
          "output_type": "stream",
          "text": [
            "Sample 2 CI (Confidence Interval)\n",
            "Mean  55752.2\n",
            "Lower 49198.977707842074\n",
            "Upper 62305.42229215792\n",
            "Margin of error 6553.222292157923\n"
          ],
          "name": "stdout"
        }
      ]
    },
    {
      "cell_type": "code",
      "metadata": {
        "id": "DOJ41W1tVWa6",
        "colab_type": "code",
        "colab": {
          "base_uri": "https://localhost:8080/",
          "height": 104
        },
        "outputId": "03765624-00b8-4b6f-c196-6df3e23a8a6f"
      },
      "source": [
        "lower2,x_bar2,upper2 = calc_ci(sample2['ConvertedSalary'])\n",
        "print(\"Sample 2 CI (Confidence Interval)\")\n",
        "print(\"Mean \", x_bar2)\n",
        "print(\"Lower\",lower2)\n",
        "print(\"Upper\",upper2)\n",
        "print(\"Margin of error\",(upper2 - x_bar2))"
      ],
      "execution_count": 41,
      "outputs": [
        {
          "output_type": "stream",
          "text": [
            "Sample 2 CI (Confidence Interval)\n",
            "Mean  68551.255\n",
            "Lower 65824.24312862297\n",
            "Upper 71278.26687137704\n",
            "Margin of error 2727.0118713770353\n"
          ],
          "name": "stdout"
        }
      ]
    },
    {
      "cell_type": "markdown",
      "metadata": {
        "id": "_7NuYtHfaQav",
        "colab_type": "text"
      },
      "source": [
        "The margin of error gives an idea of how far off our estimates might be (with 95% confidence). We're trying to supply a plausible range for our parameter of interest (the true average salary of bootcamp grads)."
      ]
    },
    {
      "cell_type": "markdown",
      "metadata": {
        "id": "zkg9EW9KTgGv",
        "colab_type": "text"
      },
      "source": [
        "## Part 3 - Communicate the Precision of Sample Estimates Graphically\n",
        "\n",
        "**1) Create a plot using `plt.errorbar` that compares both of the confidence intervals.** "
      ]
    },
    {
      "cell_type": "code",
      "metadata": {
        "id": "2QOQGVfsVfFZ",
        "colab_type": "code",
        "colab": {
          "base_uri": "https://localhost:8080/",
          "height": 296
        },
        "outputId": "883e5acf-5ede-4ef2-cd56-9ba786070be1"
      },
      "source": [
        "plt.errorbar(x=0, y=x_bar1,yerr=(upper1-x_bar1), fmt='o')\n",
        "plt.errorbar(x=1, y=x_bar2, yerr=(upper2-x_bar2), fmt='o')\n",
        "plt.title(\"95% Confidence Intervals for \\n Average Converted Salary\")\n",
        "plt.xticks(ticks=[0,1], labels=['sample 1', 'sample 2'])\n",
        "plt.xlim(-.5,1.5)\n",
        "plt.show()"
      ],
      "execution_count": 47,
      "outputs": [
        {
          "output_type": "display_data",
          "data": {
            "image/png": "[encoded data removed]",
            "text/plain": [
              "<Figure size 432x288 with 1 Axes>"
            ]
          },
          "metadata": {
            "tags": [],
            "needs_background": "light"
          }
        }
      ]
    },
    {
      "cell_type": "markdown",
      "metadata": {
        "id": "HsTtONTNawFi",
        "colab_type": "text"
      },
      "source": [
        "**2) Create a plot using `plt.bar` that compares both of the confidence intervals.**"
      ]
    },
    {
      "cell_type": "code",
      "metadata": {
        "id": "UE1fxaoKW1Xg",
        "colab_type": "code",
        "colab": {
          "base_uri": "https://localhost:8080/",
          "height": 296
        },
        "outputId": "a289a3ad-cb4b-49c6-fab5-815451190304"
      },
      "source": [
        "plt.bar(x=0, height=x_bar1,yerr=(upper1-x_bar1))\n",
        "plt.bar(x=1, height=x_bar2, yerr=(upper2-x_bar2))\n",
        "plt.title(\"95% Confidence Intervals for \\n Average Converted Salary\")\n",
        "plt.xticks(ticks=[0,1], labels=['sample 1', 'sample 2'])\n",
        "plt.xlim(-.5,1.5)\n",
        "plt.show()"
      ],
      "execution_count": 51,
      "outputs": [
        {
          "output_type": "display_data",
          "data": {
            "image/png": "[encoded data removed]",
            "text/plain": [
              "<Figure size 432x288 with 1 Axes>"
            ]
          },
          "metadata": {
            "tags": [],
            "needs_background": "light"
          }
        }
      ]
    },
    {
      "cell_type": "markdown",
      "metadata": {
        "id": "ZGCzS-BFctob",
        "colab_type": "text"
      },
      "source": [
        "## Part 4 - Check for Understanding\n",
        "\n",
        "\n",
        "\n",
        "\n",
        "\n"
      ]
    },
    {
      "cell_type": "markdown",
      "metadata": {
        "id": "E181afPXezJ9",
        "colab_type": "text"
      },
      "source": [
        "**Calculate a Confidence Interval using the entire dataset. How precise do our estimates get?**"
      ]
    },
    {
      "cell_type": "code",
      "metadata": {
        "id": "3puy99D6esLn",
        "colab_type": "code",
        "colab": {
          "base_uri": "https://localhost:8080/",
          "height": 104
        },
        "outputId": "96ff7883-b1b4-4356-8610-8cc18d1d39ee"
      },
      "source": [
        "lowerdf,x_bardf,upperdf = calc_ci(df['ConvertedSalary'])\n",
        "print(\"Entire Data Base(Confidence Interval)\")\n",
        "print(\"Mean \", x_bardf)\n",
        "print(\"Lower\",lowerdf)\n",
        "print(\"Upper\",upperdf)\n",
        "print(\"Margin of error\",(upperdf - x_bardf))"
      ],
      "execution_count": 52,
      "outputs": [
        {
          "output_type": "stream",
          "text": [
            "Entire Data Base(Confidence Interval)\n",
            "Mean  73453.40420137631\n",
            "Lower 72712.51396129745\n",
            "Upper 74194.29444145517\n",
            "Margin of error 740.8902400788647\n"
          ],
          "name": "stdout"
        }
      ]
    },
    {
      "cell_type": "markdown",
      "metadata": {
        "id": "eHi9KFFG_03g",
        "colab_type": "text"
      },
      "source": [
        "IT is more precise with ~$740 margin of error. "
      ]
    },
    {
      "cell_type": "markdown",
      "metadata": {
        "id": "wbA0inEKexdW",
        "colab_type": "text"
      },
      "source": [
        "**What does \"precision\" mean in the context of statistical estimates and how is that different from \"accuracy?\"**"
      ]
    },
    {
      "cell_type": "markdown",
      "metadata": {
        "id": "Btl5phUUd6L4",
        "colab_type": "text"
      },
      "source": [
        "Precision means when all samples are close to each other, while 'accuracy' is when the samples are very close to the entire population. "
      ]
    },
    {
      "cell_type": "markdown",
      "metadata": {
        "id": "4F-4ux7sd5pL",
        "colab_type": "text"
      },
      "source": [
        "**It is very common to misunderstand what is captured by a 95% confidence interval. What is the correct interpretation? ([Hint](https://www.statisticssolutions.com/misconceptions-about-confidence-intervals/))**"
      ]
    },
    {
      "cell_type": "markdown",
      "metadata": {
        "id": "bSU07naHd6li",
        "colab_type": "text"
      },
      "source": [
        " 95% confidence interval is an estimate  of the possible values of a population mean.  it means that 95% of the calculated intervals will contain the population mean. \n"
      ]
    },
    {
      "cell_type": "markdown",
      "metadata": {
        "id": "cvtnsGLJa4bW",
        "colab_type": "text"
      },
      "source": [
        "# Stretch Goals:\n",
        "\n",
        "1) Study the relationship between t-tests and confidence intervals.\n",
        " - Find a sample mean that we have worked with and construct a 95% confidence interval around it. (find the lower and upper bounds)\n",
        " - Run a 1-sample t-test with the null hypothesis value being just barely **outside** of the confidence interval. What is the p-value?\n",
        " - Run a 1-sample t-test with the null hypothesis value being just barely **inside** of the confidence interval. What is the p-value?\n",
        "\n",
        "  What does it mean when we say that the boundaries of the confidence interval are the boundaries of statistical significance in a 1-sample t-test?\n",
        "\n",
        "\n",
        "2) Go back to our [congressional voting dataset](https://archive.ics.uci.edu/ml/datasets/Congressional+Voting+Records) and build confidence intervals around the means of all of the issues for a single party. Compare all of those confidence intervals graphically on a single graph. \n",
        "\n",
        "3) Dive deeper into the [2018 Stack Overflow Survey](https://www.kaggle.com/stackoverflow/stack-overflow-2018-developer-survey) results to see what cool things you can find."
      ]
    }
  ]
}