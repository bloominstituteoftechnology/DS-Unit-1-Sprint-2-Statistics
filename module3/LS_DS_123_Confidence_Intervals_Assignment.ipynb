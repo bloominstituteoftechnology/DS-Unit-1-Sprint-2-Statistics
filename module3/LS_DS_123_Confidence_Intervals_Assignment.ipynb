{
  "nbformat": 4,
  "nbformat_minor": 0,
  "metadata": {
    "colab": {
      "name": "LS_DS_123_Confidence_Intervals_Assignment.ipynb",
      "provenance": [],
      "collapsed_sections": [],
      "include_colab_link": true
    },
    "kernelspec": {
      "name": "python3",
      "display_name": "Python 3"
    }
  },
  "cells": [
    {
      "cell_type": "markdown",
      "metadata": {
        "id": "view-in-github",
        "colab_type": "text"
      },
      "source": [
        "<a href=\"https://colab.research.google.com/github/danielburch/DS-Unit-1-Sprint-2-Statistics/blob/master/module3/LS_DS_123_Confidence_Intervals_Assignment.ipynb\" target=\"_parent\"><img src=\"https://colab.research.google.com/assets/colab-badge.svg\" alt=\"Open In Colab\"/></a>"
      ]
    },
    {
      "cell_type": "markdown",
      "metadata": {
        "id": "g_c3L9CeANiJ",
        "colab_type": "text"
      },
      "source": [
        "## Confidence Intervals\n",
        "\n",
        "The following url can be used to access an abbreviated version of responses to Stack Overflow's 2018 Developer Survey. The original Survey had ~100k respondents but the data is quite dirty so I have selected a cleaner subset of it for you to use for your assignment.\n",
        "\n",
        "<https://raw.githubusercontent.com/ryanleeallred/datasets/master/bootcampers.csv>\n",
        "\n",
        "The provided dataset holds 14 columns of information about individuals who make less than 500k per year and who responded that they had: \n",
        "\n",
        "\"Participated in a full-time developer training program or bootcamp\"\n",
        "\n",
        "## Part 1 - Setting the Stage\n",
        "\n",
        "**1) Load the dataset**"
      ]
    },
    {
      "cell_type": "code",
      "metadata": {
        "id": "yXwMJQGrAIbO",
        "colab_type": "code",
        "colab": {
          "base_uri": "https://localhost:8080/",
          "height": 71
        },
        "outputId": "826f0b43-6ba6-4f68-f03b-7157d5fe28ae"
      },
      "source": [
        "import pandas as pd\n",
        "import numpy as np\n",
        "import matplotlib.pyplot as plt\n",
        "import seaborn as sns\n",
        "from scipy import stats"
      ],
      "execution_count": 1,
      "outputs": [
        {
          "output_type": "stream",
          "text": [
            "/usr/local/lib/python3.6/dist-packages/statsmodels/tools/_testing.py:19: FutureWarning: pandas.util.testing is deprecated. Use the functions in the public API at pandas.testing instead.\n",
            "  import pandas.util.testing as tm\n"
          ],
          "name": "stderr"
        }
      ]
    },
    {
      "cell_type": "code",
      "metadata": {
        "id": "pYsFvm1dPygj",
        "colab_type": "code",
        "colab": {}
      },
      "source": [
        "df = pd.read_csv('https://raw.githubusercontent.com/ryanleeallred/datasets/master/bootcampers.csv', index)"
      ],
      "execution_count": 0,
      "outputs": []
    },
    {
      "cell_type": "code",
      "metadata": {
        "id": "DRqX05YG4j3P",
        "colab_type": "code",
        "colab": {}
      },
      "source": [
        "# An unamed column containing previous indices was dropped\n",
        "\n",
        "df = df.drop(df.columns[[0]], axis = 1,)\n",
        "\n"
      ],
      "execution_count": 0,
      "outputs": []
    },
    {
      "cell_type": "code",
      "metadata": {
        "id": "tMcolHwi3cT7",
        "colab_type": "code",
        "colab": {
          "base_uri": "https://localhost:8080/",
          "height": 496
        },
        "outputId": "97787ca2-9e67-4bbe-93be-1c98c35b9385"
      },
      "source": [
        "print(df.shape)\n",
        "df.head()"
      ],
      "execution_count": 15,
      "outputs": [
        {
          "output_type": "stream",
          "text": [
            "(2761, 14)\n"
          ],
          "name": "stdout"
        },
        {
          "output_type": "execute_result",
          "data": {
            "text/html": [
              "<div>\n",
              "<style scoped>\n",
              "    .dataframe tbody tr th:only-of-type {\n",
              "        vertical-align: middle;\n",
              "    }\n",
              "\n",
              "    .dataframe tbody tr th {\n",
              "        vertical-align: top;\n",
              "    }\n",
              "\n",
              "    .dataframe thead th {\n",
              "        text-align: right;\n",
              "    }\n",
              "</style>\n",
              "<table border=\"1\" class=\"dataframe\">\n",
              "  <thead>\n",
              "    <tr style=\"text-align: right;\">\n",
              "      <th></th>\n",
              "      <th>Student</th>\n",
              "      <th>Employment</th>\n",
              "      <th>UndergradMajor</th>\n",
              "      <th>DevType</th>\n",
              "      <th>YearsCoding</th>\n",
              "      <th>YearsCodingProf</th>\n",
              "      <th>ConvertedSalary</th>\n",
              "      <th>EducationTypes</th>\n",
              "      <th>SelfTaughtTypes</th>\n",
              "      <th>TimeAfterBootcamp</th>\n",
              "      <th>LanguageWorkedWith</th>\n",
              "      <th>Gender</th>\n",
              "      <th>Age</th>\n",
              "      <th>RaceEthnicity</th>\n",
              "    </tr>\n",
              "  </thead>\n",
              "  <tbody>\n",
              "    <tr>\n",
              "      <th>0</th>\n",
              "      <td>No</td>\n",
              "      <td>Employed full-time</td>\n",
              "      <td>Computer science, computer engineering, or sof...</td>\n",
              "      <td>Back-end developer;Data scientist or machine l...</td>\n",
              "      <td>12-14 years</td>\n",
              "      <td>6-8 years</td>\n",
              "      <td>120000.0</td>\n",
              "      <td>Taken an online course in programming or softw...</td>\n",
              "      <td>The official documentation and/or standards fo...</td>\n",
              "      <td>I already had a full-time job as a developer w...</td>\n",
              "      <td>C;F#;Haskell;Python;Scala</td>\n",
              "      <td>Male</td>\n",
              "      <td>25 - 34 years old</td>\n",
              "      <td>White or of European descent</td>\n",
              "    </tr>\n",
              "    <tr>\n",
              "      <th>1</th>\n",
              "      <td>No</td>\n",
              "      <td>Employed full-time</td>\n",
              "      <td>A humanities discipline (ex. literature, histo...</td>\n",
              "      <td>Back-end developer;Full-stack developer;System...</td>\n",
              "      <td>0-2 years</td>\n",
              "      <td>0-2 years</td>\n",
              "      <td>36000.0</td>\n",
              "      <td>Participated in a full-time developer training...</td>\n",
              "      <td>The official documentation and/or standards fo...</td>\n",
              "      <td>Four to six months</td>\n",
              "      <td>Java;JavaScript;SQL;HTML;CSS;Bash/Shell</td>\n",
              "      <td>Male</td>\n",
              "      <td>25 - 34 years old</td>\n",
              "      <td>White or of European descent</td>\n",
              "    </tr>\n",
              "    <tr>\n",
              "      <th>2</th>\n",
              "      <td>Yes, full-time</td>\n",
              "      <td>Employed full-time</td>\n",
              "      <td>A business discipline (ex. accounting, finance...</td>\n",
              "      <td>Full-stack developer</td>\n",
              "      <td>3-5 years</td>\n",
              "      <td>3-5 years</td>\n",
              "      <td>59980.0</td>\n",
              "      <td>Taken an online course in programming or softw...</td>\n",
              "      <td>The official documentation and/or standards fo...</td>\n",
              "      <td>One to three months</td>\n",
              "      <td>C#;JavaScript;TypeScript;HTML;CSS</td>\n",
              "      <td>Male</td>\n",
              "      <td>25 - 34 years old</td>\n",
              "      <td>East Asian</td>\n",
              "    </tr>\n",
              "    <tr>\n",
              "      <th>3</th>\n",
              "      <td>No</td>\n",
              "      <td>Employed full-time</td>\n",
              "      <td>A social science (ex. anthropology, psychology...</td>\n",
              "      <td>Data scientist or machine learning specialist;...</td>\n",
              "      <td>9-11 years</td>\n",
              "      <td>3-5 years</td>\n",
              "      <td>70000.0</td>\n",
              "      <td>Taken an online course in programming or softw...</td>\n",
              "      <td>Questions &amp; answers on Stack Overflow;Tapping ...</td>\n",
              "      <td>I haven’t gotten a developer job</td>\n",
              "      <td>JavaScript;Python;SQL;VBA</td>\n",
              "      <td>Male</td>\n",
              "      <td>25 - 34 years old</td>\n",
              "      <td>White or of European descent</td>\n",
              "    </tr>\n",
              "    <tr>\n",
              "      <th>4</th>\n",
              "      <td>No</td>\n",
              "      <td>Employed full-time</td>\n",
              "      <td>Computer science, computer engineering, or sof...</td>\n",
              "      <td>Mobile developer</td>\n",
              "      <td>6-8 years</td>\n",
              "      <td>3-5 years</td>\n",
              "      <td>105000.0</td>\n",
              "      <td>Taken an online course in programming or softw...</td>\n",
              "      <td>The official documentation and/or standards fo...</td>\n",
              "      <td>One to three months</td>\n",
              "      <td>C;Java;JavaScript;Objective-C;PHP;Python;Ruby;...</td>\n",
              "      <td>Male</td>\n",
              "      <td>25 - 34 years old</td>\n",
              "      <td>White or of European descent</td>\n",
              "    </tr>\n",
              "  </tbody>\n",
              "</table>\n",
              "</div>"
            ],
            "text/plain": [
              "          Student  ...                 RaceEthnicity\n",
              "0              No  ...  White or of European descent\n",
              "1              No  ...  White or of European descent\n",
              "2  Yes, full-time  ...                    East Asian\n",
              "3              No  ...  White or of European descent\n",
              "4              No  ...  White or of European descent\n",
              "\n",
              "[5 rows x 14 columns]"
            ]
          },
          "metadata": {
            "tags": []
          },
          "execution_count": 15
        }
      ]
    },
    {
      "cell_type": "markdown",
      "metadata": {
        "id": "wOQ-9E8uYcni",
        "colab_type": "text"
      },
      "source": [
        "**2) Select two random samples from this dataset, one with a sample size of 20 and the other with a sample size of 200. (Use a `random_state` of `42` when selecting the samples)**"
      ]
    },
    {
      "cell_type": "code",
      "metadata": {
        "id": "m1vuFGxVQo64",
        "colab_type": "code",
        "colab": {}
      },
      "source": [
        "# Creating two samples with random_state =42\n",
        "\n",
        "sample1 = df.sample(20, random_state=42)\n",
        "\n",
        "sample2 = df.sample(200, random_state=42)"
      ],
      "execution_count": 0,
      "outputs": []
    },
    {
      "cell_type": "markdown",
      "metadata": {
        "id": "y2Rz-8O-YmF9",
        "colab_type": "text"
      },
      "source": [
        "**3) Calculate and report the sample means of the `ConvertedSalary` column for both of the samples.**"
      ]
    },
    {
      "cell_type": "code",
      "metadata": {
        "id": "ti9x37XSQ_yL",
        "colab_type": "code",
        "colab": {
          "base_uri": "https://localhost:8080/",
          "height": 51
        },
        "outputId": "209041d5-a137-43f8-e05c-2c10adc7661f"
      },
      "source": [
        "sample1_meanCS = sample1['ConvertedSalary'].mean()\n",
        "sample2_meanCS = sample2['ConvertedSalary'].mean()\n",
        "\n",
        "print(sample1_meanCS)\n",
        "print(sample2_meanCS)"
      ],
      "execution_count": 19,
      "outputs": [
        {
          "output_type": "stream",
          "text": [
            "55752.2\n",
            "68551.255\n"
          ],
          "name": "stdout"
        }
      ]
    },
    {
      "cell_type": "markdown",
      "metadata": {
        "id": "AtGASqgxYp5t",
        "colab_type": "text"
      },
      "source": [
        "**4) Both of these sample means are estimates of an underlying population value. Which sample mean do you trust more? Why? Would a non-technical audience have any idea about which of these values is more trustworthy?**"
      ]
    },
    {
      "cell_type": "markdown",
      "metadata": {
        "id": "8oD8lp84YyvU",
        "colab_type": "text"
      },
      "source": [
        "I would trust Sample2 because the sample population is larger. The mean is more likely closer to the population mean. No, a non-technical audience would probably not know which is more trustworthy"
      ]
    },
    {
      "cell_type": "markdown",
      "metadata": {
        "id": "-2ulIAGmYudp",
        "colab_type": "text"
      },
      "source": [
        "**5) Does just the point estimate (individual value of the sample mean) indicate to you anything about how much sampling error there could be with these estimates?**"
      ]
    },
    {
      "cell_type": "markdown",
      "metadata": {
        "id": "hD5HloatYxoh",
        "colab_type": "text"
      },
      "source": [
        "Point estimates do no sufficiently communicate potential sample error\n",
        "\n"
      ]
    },
    {
      "cell_type": "markdown",
      "metadata": {
        "id": "SpqgKQfTYvF0",
        "colab_type": "text"
      },
      "source": [
        "**6) What strategies could we use when reporting these numbers to not only report our estimates but also to give non-technical readers an idea about how far off our estimates might be due to sampling error?**\n",
        "\n"
      ]
    },
    {
      "cell_type": "markdown",
      "metadata": {
        "id": "h7N1WnTTYyD7",
        "colab_type": "text"
      },
      "source": [
        "I would include a margin of error that could give a non-technical reader a range of possible means."
      ]
    },
    {
      "cell_type": "markdown",
      "metadata": {
        "id": "9tIHBlM_SyGR",
        "colab_type": "text"
      },
      "source": [
        "## Part 2 - Reporting CIs / MOEs along with our point estimates for more context.\n",
        "\n",
        "**1) Calculate and report a 95% confidence interval around both of the sample means from part 1.**\n",
        "\n"
      ]
    },
    {
      "cell_type": "code",
      "metadata": {
        "id": "hfCO0gHEUOrE",
        "colab_type": "code",
        "colab": {}
      },
      "source": [
        "def confide_int(sample_data,confide=.95):\n",
        "  #Work with a np.array\n",
        "  sample=np.array(sample_data)\n",
        "  #sample mean\n",
        "  x_bar=sample.mean()\n",
        "  #sample STD\n",
        "  s=np.std(sample,ddof=1)\n",
        "  #sample size\n",
        "  n=len(sample)\n",
        "  #T statistic\n",
        "  t=stats.t.ppf((1+confide) / 2, n-1)\n",
        "  #Standard Error\n",
        "  std_err=s/np.sqrt(n)\n",
        "  #margin of error\n",
        "  moe=std_err*t\n",
        "  #lower and upper bound\n",
        "  upper=x_bar+moe\n",
        "  lower=x_bar-moe\n",
        "\n",
        "  return (lower,x_bar,upper)\n"
      ],
      "execution_count": 0,
      "outputs": []
    },
    {
      "cell_type": "code",
      "metadata": {
        "id": "r5OqA6GYUbUZ",
        "colab_type": "code",
        "colab": {
          "base_uri": "https://localhost:8080/",
          "height": 34
        },
        "outputId": "ddb14d3d-e714-4b46-da63-20cf6cd53a92"
      },
      "source": [
        "# 95% confidence interval for Sample 1 \n",
        "confide_int(sample1['ConvertedSalary'])"
      ],
      "execution_count": 25,
      "outputs": [
        {
          "output_type": "execute_result",
          "data": {
            "text/plain": [
              "(35805.10309625536, 55752.2, 75699.29690374463)"
            ]
          },
          "metadata": {
            "tags": []
          },
          "execution_count": 25
        }
      ]
    },
    {
      "cell_type": "code",
      "metadata": {
        "id": "kvtuhUzzUlqH",
        "colab_type": "code",
        "colab": {
          "base_uri": "https://localhost:8080/",
          "height": 34
        },
        "outputId": "8e715d9d-1e9a-4993-c2e0-3a3fa1fe4d9c"
      },
      "source": [
        "# 95% confidence interval for Sample 2 \n",
        "\n",
        "confide_int(sample2['ConvertedSalary'])"
      ],
      "execution_count": 26,
      "outputs": [
        {
          "output_type": "execute_result",
          "data": {
            "text/plain": [
              "(60593.058804479086, 68551.255, 76509.45119552092)"
            ]
          },
          "metadata": {
            "tags": []
          },
          "execution_count": 26
        }
      ]
    },
    {
      "cell_type": "markdown",
      "metadata": {
        "id": "vdiW7DHRZwK-",
        "colab_type": "text"
      },
      "source": [
        "**2) Which confidence interval is wider and why?**"
      ]
    },
    {
      "cell_type": "markdown",
      "metadata": {
        "id": "p5KGlyvYZ1Qq",
        "colab_type": "text"
      },
      "source": [
        "The confidence interval of the first sample is much wider. Due to its lower sample size the standard error of our estimate is much larger causing the potential distribution of sample means to be much more spread out. A confidence interval catches 95% of this theoretical distribution of sample means so if our standard error is larger, our confidence interval will be wider as well."
      ]
    },
    {
      "cell_type": "markdown",
      "metadata": {
        "id": "6N33K4NvZ13H",
        "colab_type": "text"
      },
      "source": [
        "**3) Report the mean and the margin of error for both of the sample means. What does the Margin of Error Represent?**"
      ]
    },
    {
      "cell_type": "code",
      "metadata": {
        "id": "MfMIBftMU_rz",
        "colab_type": "code",
        "colab": {
          "base_uri": "https://localhost:8080/",
          "height": 51
        },
        "outputId": "f183ddb3-e55d-4ebf-d178-a6eed35ea41a"
      },
      "source": [
        "#Sample1 mean and the margin of error\n",
        "\n",
        "CI1 = confide_int(sample1['ConvertedSalary'])\n",
        "\n",
        "print(\"Mean:\", CI1[1])\n",
        "print(\"MOE:\", CI1[2]-CI1[1])"
      ],
      "execution_count": 28,
      "outputs": [
        {
          "output_type": "stream",
          "text": [
            "Mean: 55752.2\n",
            "MOE: 19947.096903744634\n"
          ],
          "name": "stdout"
        }
      ]
    },
    {
      "cell_type": "code",
      "metadata": {
        "id": "DOJ41W1tVWa6",
        "colab_type": "code",
        "colab": {
          "base_uri": "https://localhost:8080/",
          "height": 51
        },
        "outputId": "fc5af68e-1c21-46ba-dd84-42fc955ae799"
      },
      "source": [
        "#Sample 2 mean and the margin of error\n",
        "\n",
        "CI2 = confide_int(sample2['ConvertedSalary'])\n",
        "\n",
        "print(\"Mean:\", CI2[1])\n",
        "print(\"MOE:\", CI2[2]-CI2[1])"
      ],
      "execution_count": 30,
      "outputs": [
        {
          "output_type": "stream",
          "text": [
            "Mean: 68551.255\n",
            "MOE: 7958.196195520912\n"
          ],
          "name": "stdout"
        }
      ]
    },
    {
      "cell_type": "markdown",
      "metadata": {
        "id": "_7NuYtHfaQav",
        "colab_type": "text"
      },
      "source": [
        "The margin of error gives an idea of how far off our estimates might be (with 95% confidence). We're trying to supply a plausible range for our parameter of interest (the true average salary of bootcamp grads)."
      ]
    },
    {
      "cell_type": "markdown",
      "metadata": {
        "id": "zkg9EW9KTgGv",
        "colab_type": "text"
      },
      "source": [
        "## Part 3 - Communicate the Precision of Sample Estimates Graphically\n",
        "\n",
        "**1) Create a plot using `plt.errorbar` that compares both of the confidence intervals.** "
      ]
    },
    {
      "cell_type": "code",
      "metadata": {
        "id": "2QOQGVfsVfFZ",
        "colab_type": "code",
        "colab": {
          "base_uri": "https://localhost:8080/",
          "height": 296
        },
        "outputId": "eed0afe0-0445-45ca-c846-d9f57c6a8d12"
      },
      "source": [
        "plt.errorbar(x=0, y=CI1[1], yerr=(CI1[2]-CI1[1]), fmt='o')\n",
        "plt.errorbar(x=1, y=CI2[1], yerr=(CI2[2]-CI2[1]), fmt='o')\n",
        "plt.title('95% confidence intervals for \\n average Converted Salary')\n",
        "plt.xticks(ticks=[0,1], labels=['sample1 (n=20)', 'sample2 (n=200)'])\n",
        "plt.xlim(-.5, 1.5)\n",
        "plt.show()"
      ],
      "execution_count": 35,
      "outputs": [
        {
          "output_type": "display_data",
          "data": {
            "image/png": "[encoded data removed]",
            "text/plain": [
              "<Figure size 432x288 with 1 Axes>"
            ]
          },
          "metadata": {
            "tags": [],
            "needs_background": "light"
          }
        }
      ]
    },
    {
      "cell_type": "markdown",
      "metadata": {
        "id": "HsTtONTNawFi",
        "colab_type": "text"
      },
      "source": [
        "**2) Create a plot using `plt.bar` that compares both of the confidence intervals.**"
      ]
    },
    {
      "cell_type": "code",
      "metadata": {
        "id": "UE1fxaoKW1Xg",
        "colab_type": "code",
        "colab": {
          "base_uri": "https://localhost:8080/",
          "height": 296
        },
        "outputId": "6570a2ba-4db2-4d87-e86d-8e191233c407"
      },
      "source": [
        "plt.bar(x=0, height=CI1[1], yerr=(CI1[2]-CI1[1]))\n",
        "plt.bar(x=1, height=CI2[1], yerr=(CI2[2]-CI2[1]))\n",
        "plt.title('95% confidence intervals for \\n average Converted Salary')\n",
        "plt.xticks(ticks=[0,1], labels=['sample1 (n=20)', 'sample2 (n=200)'])\n",
        "plt.xlim(-.5, 1.5)\n",
        "plt.show()"
      ],
      "execution_count": 34,
      "outputs": [
        {
          "output_type": "display_data",
          "data": {
            "image/png": "[encoded data removed]",
            "text/plain": [
              "<Figure size 432x288 with 1 Axes>"
            ]
          },
          "metadata": {
            "tags": [],
            "needs_background": "light"
          }
        }
      ]
    },
    {
      "cell_type": "markdown",
      "metadata": {
        "id": "ZGCzS-BFctob",
        "colab_type": "text"
      },
      "source": [
        "## Part 4 - Check for Understanding\n",
        "\n",
        "\n",
        "\n",
        "\n",
        "\n"
      ]
    },
    {
      "cell_type": "markdown",
      "metadata": {
        "id": "E181afPXezJ9",
        "colab_type": "text"
      },
      "source": [
        "**Calculate a Confidence Interval using the entire dataset. How precise do our estimates get?**"
      ]
    },
    {
      "cell_type": "code",
      "metadata": {
        "id": "3puy99D6esLn",
        "colab_type": "code",
        "colab": {
          "base_uri": "https://localhost:8080/",
          "height": 68
        },
        "outputId": "ea450b13-8075-4ceb-b125-9ef239a4fca1"
      },
      "source": [
        "#Entire data set\n",
        "CI3 = confide_int(df['ConvertedSalary'])\n",
        "\n",
        "print(\"Mean:\", CI3[1])\n",
        "print(\"MOE:\", CI3[2]-CI3[1])\n",
        "print(CI3)"
      ],
      "execution_count": 37,
      "outputs": [
        {
          "output_type": "stream",
          "text": [
            "Mean: 73453.40420137631\n",
            "MOE: 2153.574339128463\n",
            "(71299.82986224785, 73453.40420137631, 75606.97854050477)\n"
          ],
          "name": "stdout"
        }
      ]
    },
    {
      "cell_type": "code",
      "metadata": {
        "id": "kjrDVF_OML7w",
        "colab_type": "code",
        "colab": {
          "base_uri": "https://localhost:8080/",
          "height": 296
        },
        "outputId": "4bc8bcd1-d4a7-49f0-d54b-cca833d78da0"
      },
      "source": [
        "plt.bar(x=0, height=CI1[1], yerr=(CI1[2]-CI1[1]))\n",
        "plt.bar(x=.5, height=CI2[1], yerr=(CI2[2]-CI2[1]))\n",
        "plt.bar(x=1, height=CI3[1], yerr=(CI3[2]-CI3[1]))\n",
        "plt.title('95% confidence intervals for \\n average Converted Salary')\n",
        "plt.xticks(ticks=[0,.5,1], labels=['n=20', 'n=200','Entire Dataset' ])\n",
        "plt.xlim(-.5, 1.5)\n",
        "plt.show()"
      ],
      "execution_count": 46,
      "outputs": [
        {
          "output_type": "display_data",
          "data": {
            "image/png": "[encoded data removed]",
            "text/plain": [
              "<Figure size 432x288 with 1 Axes>"
            ]
          },
          "metadata": {
            "tags": [],
            "needs_background": "light"
          }
        }
      ]
    },
    {
      "cell_type": "code",
      "metadata": {
        "id": "Xu3gI_t0NdMg",
        "colab_type": "code",
        "colab": {}
      },
      "source": [
        "'''\n",
        "Precision: We dramatically cut the margin of error, but we still do not have an exact number\n",
        "''"
      ],
      "execution_count": 0,
      "outputs": []
    },
    {
      "cell_type": "markdown",
      "metadata": {
        "id": "ITmhIAtFMLSL",
        "colab_type": "text"
      },
      "source": [
        ""
      ]
    },
    {
      "cell_type": "markdown",
      "metadata": {
        "id": "wbA0inEKexdW",
        "colab_type": "text"
      },
      "source": [
        "**What does \"precision\" mean in the context of statistical estimates and how is that different from \"accuracy?\"**"
      ]
    },
    {
      "cell_type": "markdown",
      "metadata": {
        "id": "Btl5phUUd6L4",
        "colab_type": "text"
      },
      "source": [
        "Precision refers to shrinking the margin of error to as close to the population mean as possible. Accuracy deals more with having a correct sample without any biases."
      ]
    },
    {
      "cell_type": "markdown",
      "metadata": {
        "id": "4F-4ux7sd5pL",
        "colab_type": "text"
      },
      "source": [
        "**It is very common to misunderstand what is captured by a 95% confidence interval. What is the correct interpretation? ([Hint](https://www.statisticssolutions.com/misconceptions-about-confidence-intervals/))**"
      ]
    },
    {
      "cell_type": "markdown",
      "metadata": {
        "id": "bSU07naHd6li",
        "colab_type": "text"
      },
      "source": [
        "A confidence interval is an estimate of the possible values of a population mean. A 95% level of confidence means that 95% of the confidence intervals calculated from these random samples will contain the true population mean"
      ]
    },
    {
      "cell_type": "markdown",
      "metadata": {
        "id": "cvtnsGLJa4bW",
        "colab_type": "text"
      },
      "source": [
        "# Stretch Goals:\n",
        "\n",
        "1) Study the relationship between t-tests and confidence intervals.\n",
        " - Find a sample mean that we have worked with and construct a 95% confidence interval around it. (find the lower and upper bounds)\n",
        " - Run a 1-sample t-test with the null hypothesis value being just barely **outside** of the confidence interval. What is the p-value?\n",
        " - Run a 1-sample t-test with the null hypothesis value being just barely **inside** of the confidence interval. What is the p-value?\n",
        "\n",
        "  What does it mean when we say that the boundaries of the confidence interval are the boundaries of statistical significance in a 1-sample t-test?\n",
        "\n",
        "\n",
        "2) Go back to our [congressional voting dataset](https://archive.ics.uci.edu/ml/datasets/Congressional+Voting+Records) and build confidence intervals around the means of all of the issues for a single party. Compare all of those confidence intervals graphically on a single graph. \n",
        "\n",
        "3) Dive deeper into the [2018 Stack Overflow Survey](https://www.kaggle.com/stackoverflow/stack-overflow-2018-developer-survey) results to see what cool things you can find."
      ]
    },
    {
      "cell_type": "code",
      "metadata": {
        "id": "asN-yYUyTazW",
        "colab_type": "code",
        "colab": {
          "base_uri": "https://localhost:8080/",
          "height": 224
        },
        "outputId": "67b62f62-cd36-43ce-aac6-90df30d54ba3"
      },
      "source": [
        "# congressional voting dataset \n",
        "!wget https://archive.ics.uci.edu/ml/machine-learning-databases/voting-records/house-votes-84.data"
      ],
      "execution_count": 47,
      "outputs": [
        {
          "output_type": "stream",
          "text": [
            "--2020-06-10 22:17:19--  https://archive.ics.uci.edu/ml/machine-learning-databases/voting-records/house-votes-84.data\n",
            "Resolving archive.ics.uci.edu (archive.ics.uci.edu)... 128.195.10.252\n",
            "Connecting to archive.ics.uci.edu (archive.ics.uci.edu)|128.195.10.252|:443... connected.\n",
            "HTTP request sent, awaiting response... 200 OK\n",
            "Length: 18171 (18K) [application/x-httpd-php]\n",
            "Saving to: ‘house-votes-84.data’\n",
            "\n",
            "\rhouse-votes-84.data   0%[                    ]       0  --.-KB/s               \rhouse-votes-84.data 100%[===================>]  17.75K  --.-KB/s    in 0.1s    \n",
            "\n",
            "2020-06-10 22:17:20 (137 KB/s) - ‘house-votes-84.data’ saved [18171/18171]\n",
            "\n"
          ],
          "name": "stdout"
        }
      ]
    },
    {
      "cell_type": "code",
      "metadata": {
        "id": "k_K5JntZT1yn",
        "colab_type": "code",
        "colab": {
          "base_uri": "https://localhost:8080/",
          "height": 275
        },
        "outputId": "1b6ee9df-3491-41ba-90eb-9fa0843172cf"
      },
      "source": [
        "column_headers = ['party','handicapped-infants','water-project',\n",
        "                  'budget','physician-fee-freeze', 'el-salvador-aid',\n",
        "                  'religious-groups','anti-satellite-ban',\n",
        "                  'aid-to-contras','mx-missile','immigration',\n",
        "                  'synfuels', 'education', 'right-to-sue','crime','duty-free',\n",
        "                  'south-africa']\n",
        "\n",
        "df = pd.read_csv('house-votes-84.data', names=column_headers)\n",
        "\n",
        "print(df.shape)\n",
        "df.head()"
      ],
      "execution_count": 48,
      "outputs": [
        {
          "output_type": "stream",
          "text": [
            "(435, 17)\n"
          ],
          "name": "stdout"
        },
        {
          "output_type": "execute_result",
          "data": {
            "text/html": [
              "<div>\n",
              "<style scoped>\n",
              "    .dataframe tbody tr th:only-of-type {\n",
              "        vertical-align: middle;\n",
              "    }\n",
              "\n",
              "    .dataframe tbody tr th {\n",
              "        vertical-align: top;\n",
              "    }\n",
              "\n",
              "    .dataframe thead th {\n",
              "        text-align: right;\n",
              "    }\n",
              "</style>\n",
              "<table border=\"1\" class=\"dataframe\">\n",
              "  <thead>\n",
              "    <tr style=\"text-align: right;\">\n",
              "      <th></th>\n",
              "      <th>party</th>\n",
              "      <th>handicapped-infants</th>\n",
              "      <th>water-project</th>\n",
              "      <th>budget</th>\n",
              "      <th>physician-fee-freeze</th>\n",
              "      <th>el-salvador-aid</th>\n",
              "      <th>religious-groups</th>\n",
              "      <th>anti-satellite-ban</th>\n",
              "      <th>aid-to-contras</th>\n",
              "      <th>mx-missile</th>\n",
              "      <th>immigration</th>\n",
              "      <th>synfuels</th>\n",
              "      <th>education</th>\n",
              "      <th>right-to-sue</th>\n",
              "      <th>crime</th>\n",
              "      <th>duty-free</th>\n",
              "      <th>south-africa</th>\n",
              "    </tr>\n",
              "  </thead>\n",
              "  <tbody>\n",
              "    <tr>\n",
              "      <th>0</th>\n",
              "      <td>republican</td>\n",
              "      <td>n</td>\n",
              "      <td>y</td>\n",
              "      <td>n</td>\n",
              "      <td>y</td>\n",
              "      <td>y</td>\n",
              "      <td>y</td>\n",
              "      <td>n</td>\n",
              "      <td>n</td>\n",
              "      <td>n</td>\n",
              "      <td>y</td>\n",
              "      <td>?</td>\n",
              "      <td>y</td>\n",
              "      <td>y</td>\n",
              "      <td>y</td>\n",
              "      <td>n</td>\n",
              "      <td>y</td>\n",
              "    </tr>\n",
              "    <tr>\n",
              "      <th>1</th>\n",
              "      <td>republican</td>\n",
              "      <td>n</td>\n",
              "      <td>y</td>\n",
              "      <td>n</td>\n",
              "      <td>y</td>\n",
              "      <td>y</td>\n",
              "      <td>y</td>\n",
              "      <td>n</td>\n",
              "      <td>n</td>\n",
              "      <td>n</td>\n",
              "      <td>n</td>\n",
              "      <td>n</td>\n",
              "      <td>y</td>\n",
              "      <td>y</td>\n",
              "      <td>y</td>\n",
              "      <td>n</td>\n",
              "      <td>?</td>\n",
              "    </tr>\n",
              "    <tr>\n",
              "      <th>2</th>\n",
              "      <td>democrat</td>\n",
              "      <td>?</td>\n",
              "      <td>y</td>\n",
              "      <td>y</td>\n",
              "      <td>?</td>\n",
              "      <td>y</td>\n",
              "      <td>y</td>\n",
              "      <td>n</td>\n",
              "      <td>n</td>\n",
              "      <td>n</td>\n",
              "      <td>n</td>\n",
              "      <td>y</td>\n",
              "      <td>n</td>\n",
              "      <td>y</td>\n",
              "      <td>y</td>\n",
              "      <td>n</td>\n",
              "      <td>n</td>\n",
              "    </tr>\n",
              "    <tr>\n",
              "      <th>3</th>\n",
              "      <td>democrat</td>\n",
              "      <td>n</td>\n",
              "      <td>y</td>\n",
              "      <td>y</td>\n",
              "      <td>n</td>\n",
              "      <td>?</td>\n",
              "      <td>y</td>\n",
              "      <td>n</td>\n",
              "      <td>n</td>\n",
              "      <td>n</td>\n",
              "      <td>n</td>\n",
              "      <td>y</td>\n",
              "      <td>n</td>\n",
              "      <td>y</td>\n",
              "      <td>n</td>\n",
              "      <td>n</td>\n",
              "      <td>y</td>\n",
              "    </tr>\n",
              "    <tr>\n",
              "      <th>4</th>\n",
              "      <td>democrat</td>\n",
              "      <td>y</td>\n",
              "      <td>y</td>\n",
              "      <td>y</td>\n",
              "      <td>n</td>\n",
              "      <td>y</td>\n",
              "      <td>y</td>\n",
              "      <td>n</td>\n",
              "      <td>n</td>\n",
              "      <td>n</td>\n",
              "      <td>n</td>\n",
              "      <td>y</td>\n",
              "      <td>?</td>\n",
              "      <td>y</td>\n",
              "      <td>y</td>\n",
              "      <td>y</td>\n",
              "      <td>y</td>\n",
              "    </tr>\n",
              "  </tbody>\n",
              "</table>\n",
              "</div>"
            ],
            "text/plain": [
              "        party handicapped-infants water-project  ... crime duty-free south-africa\n",
              "0  republican                   n             y  ...     y         n            y\n",
              "1  republican                   n             y  ...     y         n            ?\n",
              "2    democrat                   ?             y  ...     y         n            n\n",
              "3    democrat                   n             y  ...     n         n            y\n",
              "4    democrat                   y             y  ...     y         y            y\n",
              "\n",
              "[5 rows x 17 columns]"
            ]
          },
          "metadata": {
            "tags": []
          },
          "execution_count": 48
        }
      ]
    },
    {
      "cell_type": "code",
      "metadata": {
        "id": "-92GbocgUQfl",
        "colab_type": "code",
        "colab": {
          "base_uri": "https://localhost:8080/",
          "height": 258
        },
        "outputId": "6b957abe-ca3c-4c6b-f65c-f7d0435eb762"
      },
      "source": [
        "df = df.replace({'y': 1, 'n': 0, '?':np.NaN})\n",
        "\n",
        "df.head()"
      ],
      "execution_count": 49,
      "outputs": [
        {
          "output_type": "execute_result",
          "data": {
            "text/html": [
              "<div>\n",
              "<style scoped>\n",
              "    .dataframe tbody tr th:only-of-type {\n",
              "        vertical-align: middle;\n",
              "    }\n",
              "\n",
              "    .dataframe tbody tr th {\n",
              "        vertical-align: top;\n",
              "    }\n",
              "\n",
              "    .dataframe thead th {\n",
              "        text-align: right;\n",
              "    }\n",
              "</style>\n",
              "<table border=\"1\" class=\"dataframe\">\n",
              "  <thead>\n",
              "    <tr style=\"text-align: right;\">\n",
              "      <th></th>\n",
              "      <th>party</th>\n",
              "      <th>handicapped-infants</th>\n",
              "      <th>water-project</th>\n",
              "      <th>budget</th>\n",
              "      <th>physician-fee-freeze</th>\n",
              "      <th>el-salvador-aid</th>\n",
              "      <th>religious-groups</th>\n",
              "      <th>anti-satellite-ban</th>\n",
              "      <th>aid-to-contras</th>\n",
              "      <th>mx-missile</th>\n",
              "      <th>immigration</th>\n",
              "      <th>synfuels</th>\n",
              "      <th>education</th>\n",
              "      <th>right-to-sue</th>\n",
              "      <th>crime</th>\n",
              "      <th>duty-free</th>\n",
              "      <th>south-africa</th>\n",
              "    </tr>\n",
              "  </thead>\n",
              "  <tbody>\n",
              "    <tr>\n",
              "      <th>0</th>\n",
              "      <td>republican</td>\n",
              "      <td>0.0</td>\n",
              "      <td>1.0</td>\n",
              "      <td>0.0</td>\n",
              "      <td>1.0</td>\n",
              "      <td>1.0</td>\n",
              "      <td>1.0</td>\n",
              "      <td>0.0</td>\n",
              "      <td>0.0</td>\n",
              "      <td>0.0</td>\n",
              "      <td>1.0</td>\n",
              "      <td>NaN</td>\n",
              "      <td>1.0</td>\n",
              "      <td>1.0</td>\n",
              "      <td>1.0</td>\n",
              "      <td>0.0</td>\n",
              "      <td>1.0</td>\n",
              "    </tr>\n",
              "    <tr>\n",
              "      <th>1</th>\n",
              "      <td>republican</td>\n",
              "      <td>0.0</td>\n",
              "      <td>1.0</td>\n",
              "      <td>0.0</td>\n",
              "      <td>1.0</td>\n",
              "      <td>1.0</td>\n",
              "      <td>1.0</td>\n",
              "      <td>0.0</td>\n",
              "      <td>0.0</td>\n",
              "      <td>0.0</td>\n",
              "      <td>0.0</td>\n",
              "      <td>0.0</td>\n",
              "      <td>1.0</td>\n",
              "      <td>1.0</td>\n",
              "      <td>1.0</td>\n",
              "      <td>0.0</td>\n",
              "      <td>NaN</td>\n",
              "    </tr>\n",
              "    <tr>\n",
              "      <th>2</th>\n",
              "      <td>democrat</td>\n",
              "      <td>NaN</td>\n",
              "      <td>1.0</td>\n",
              "      <td>1.0</td>\n",
              "      <td>NaN</td>\n",
              "      <td>1.0</td>\n",
              "      <td>1.0</td>\n",
              "      <td>0.0</td>\n",
              "      <td>0.0</td>\n",
              "      <td>0.0</td>\n",
              "      <td>0.0</td>\n",
              "      <td>1.0</td>\n",
              "      <td>0.0</td>\n",
              "      <td>1.0</td>\n",
              "      <td>1.0</td>\n",
              "      <td>0.0</td>\n",
              "      <td>0.0</td>\n",
              "    </tr>\n",
              "    <tr>\n",
              "      <th>3</th>\n",
              "      <td>democrat</td>\n",
              "      <td>0.0</td>\n",
              "      <td>1.0</td>\n",
              "      <td>1.0</td>\n",
              "      <td>0.0</td>\n",
              "      <td>NaN</td>\n",
              "      <td>1.0</td>\n",
              "      <td>0.0</td>\n",
              "      <td>0.0</td>\n",
              "      <td>0.0</td>\n",
              "      <td>0.0</td>\n",
              "      <td>1.0</td>\n",
              "      <td>0.0</td>\n",
              "      <td>1.0</td>\n",
              "      <td>0.0</td>\n",
              "      <td>0.0</td>\n",
              "      <td>1.0</td>\n",
              "    </tr>\n",
              "    <tr>\n",
              "      <th>4</th>\n",
              "      <td>democrat</td>\n",
              "      <td>1.0</td>\n",
              "      <td>1.0</td>\n",
              "      <td>1.0</td>\n",
              "      <td>0.0</td>\n",
              "      <td>1.0</td>\n",
              "      <td>1.0</td>\n",
              "      <td>0.0</td>\n",
              "      <td>0.0</td>\n",
              "      <td>0.0</td>\n",
              "      <td>0.0</td>\n",
              "      <td>1.0</td>\n",
              "      <td>NaN</td>\n",
              "      <td>1.0</td>\n",
              "      <td>1.0</td>\n",
              "      <td>1.0</td>\n",
              "      <td>1.0</td>\n",
              "    </tr>\n",
              "  </tbody>\n",
              "</table>\n",
              "</div>"
            ],
            "text/plain": [
              "        party  handicapped-infants  ...  duty-free  south-africa\n",
              "0  republican                  0.0  ...        0.0           1.0\n",
              "1  republican                  0.0  ...        0.0           NaN\n",
              "2    democrat                  NaN  ...        0.0           0.0\n",
              "3    democrat                  0.0  ...        0.0           1.0\n",
              "4    democrat                  1.0  ...        1.0           1.0\n",
              "\n",
              "[5 rows x 17 columns]"
            ]
          },
          "metadata": {
            "tags": []
          },
          "execution_count": 49
        }
      ]
    },
    {
      "cell_type": "code",
      "metadata": {
        "id": "k0uGXUB8UYML",
        "colab_type": "code",
        "colab": {}
      },
      "source": [
        "blue = df[df['party'] == 'democrat']"
      ],
      "execution_count": 0,
      "outputs": []
    },
    {
      "cell_type": "code",
      "metadata": {
        "id": "lDrD9r-8Ze8L",
        "colab_type": "code",
        "colab": {
          "base_uri": "https://localhost:8080/",
          "height": 473
        },
        "outputId": "1e752432-a800-46e2-b2ad-406f380f8a34"
      },
      "source": [
        "blue.drop('party', axis=1)"
      ],
      "execution_count": 58,
      "outputs": [
        {
          "output_type": "execute_result",
          "data": {
            "text/html": [
              "<div>\n",
              "<style scoped>\n",
              "    .dataframe tbody tr th:only-of-type {\n",
              "        vertical-align: middle;\n",
              "    }\n",
              "\n",
              "    .dataframe tbody tr th {\n",
              "        vertical-align: top;\n",
              "    }\n",
              "\n",
              "    .dataframe thead th {\n",
              "        text-align: right;\n",
              "    }\n",
              "</style>\n",
              "<table border=\"1\" class=\"dataframe\">\n",
              "  <thead>\n",
              "    <tr style=\"text-align: right;\">\n",
              "      <th></th>\n",
              "      <th>handicapped-infants</th>\n",
              "      <th>water-project</th>\n",
              "      <th>budget</th>\n",
              "      <th>physician-fee-freeze</th>\n",
              "      <th>el-salvador-aid</th>\n",
              "      <th>religious-groups</th>\n",
              "      <th>anti-satellite-ban</th>\n",
              "      <th>aid-to-contras</th>\n",
              "      <th>mx-missile</th>\n",
              "      <th>immigration</th>\n",
              "      <th>synfuels</th>\n",
              "      <th>education</th>\n",
              "      <th>right-to-sue</th>\n",
              "      <th>crime</th>\n",
              "      <th>duty-free</th>\n",
              "      <th>south-africa</th>\n",
              "    </tr>\n",
              "  </thead>\n",
              "  <tbody>\n",
              "    <tr>\n",
              "      <th>2</th>\n",
              "      <td>NaN</td>\n",
              "      <td>1.0</td>\n",
              "      <td>1.0</td>\n",
              "      <td>NaN</td>\n",
              "      <td>1.0</td>\n",
              "      <td>1.0</td>\n",
              "      <td>0.0</td>\n",
              "      <td>0.0</td>\n",
              "      <td>0.0</td>\n",
              "      <td>0.0</td>\n",
              "      <td>1.0</td>\n",
              "      <td>0.0</td>\n",
              "      <td>1.0</td>\n",
              "      <td>1.0</td>\n",
              "      <td>0.0</td>\n",
              "      <td>0.0</td>\n",
              "    </tr>\n",
              "    <tr>\n",
              "      <th>3</th>\n",
              "      <td>0.0</td>\n",
              "      <td>1.0</td>\n",
              "      <td>1.0</td>\n",
              "      <td>0.0</td>\n",
              "      <td>NaN</td>\n",
              "      <td>1.0</td>\n",
              "      <td>0.0</td>\n",
              "      <td>0.0</td>\n",
              "      <td>0.0</td>\n",
              "      <td>0.0</td>\n",
              "      <td>1.0</td>\n",
              "      <td>0.0</td>\n",
              "      <td>1.0</td>\n",
              "      <td>0.0</td>\n",
              "      <td>0.0</td>\n",
              "      <td>1.0</td>\n",
              "    </tr>\n",
              "    <tr>\n",
              "      <th>4</th>\n",
              "      <td>1.0</td>\n",
              "      <td>1.0</td>\n",
              "      <td>1.0</td>\n",
              "      <td>0.0</td>\n",
              "      <td>1.0</td>\n",
              "      <td>1.0</td>\n",
              "      <td>0.0</td>\n",
              "      <td>0.0</td>\n",
              "      <td>0.0</td>\n",
              "      <td>0.0</td>\n",
              "      <td>1.0</td>\n",
              "      <td>NaN</td>\n",
              "      <td>1.0</td>\n",
              "      <td>1.0</td>\n",
              "      <td>1.0</td>\n",
              "      <td>1.0</td>\n",
              "    </tr>\n",
              "    <tr>\n",
              "      <th>5</th>\n",
              "      <td>0.0</td>\n",
              "      <td>1.0</td>\n",
              "      <td>1.0</td>\n",
              "      <td>0.0</td>\n",
              "      <td>1.0</td>\n",
              "      <td>1.0</td>\n",
              "      <td>0.0</td>\n",
              "      <td>0.0</td>\n",
              "      <td>0.0</td>\n",
              "      <td>0.0</td>\n",
              "      <td>0.0</td>\n",
              "      <td>0.0</td>\n",
              "      <td>1.0</td>\n",
              "      <td>1.0</td>\n",
              "      <td>1.0</td>\n",
              "      <td>1.0</td>\n",
              "    </tr>\n",
              "    <tr>\n",
              "      <th>6</th>\n",
              "      <td>0.0</td>\n",
              "      <td>1.0</td>\n",
              "      <td>0.0</td>\n",
              "      <td>1.0</td>\n",
              "      <td>1.0</td>\n",
              "      <td>1.0</td>\n",
              "      <td>0.0</td>\n",
              "      <td>0.0</td>\n",
              "      <td>0.0</td>\n",
              "      <td>0.0</td>\n",
              "      <td>0.0</td>\n",
              "      <td>0.0</td>\n",
              "      <td>NaN</td>\n",
              "      <td>1.0</td>\n",
              "      <td>1.0</td>\n",
              "      <td>1.0</td>\n",
              "    </tr>\n",
              "    <tr>\n",
              "      <th>...</th>\n",
              "      <td>...</td>\n",
              "      <td>...</td>\n",
              "      <td>...</td>\n",
              "      <td>...</td>\n",
              "      <td>...</td>\n",
              "      <td>...</td>\n",
              "      <td>...</td>\n",
              "      <td>...</td>\n",
              "      <td>...</td>\n",
              "      <td>...</td>\n",
              "      <td>...</td>\n",
              "      <td>...</td>\n",
              "      <td>...</td>\n",
              "      <td>...</td>\n",
              "      <td>...</td>\n",
              "      <td>...</td>\n",
              "    </tr>\n",
              "    <tr>\n",
              "      <th>425</th>\n",
              "      <td>0.0</td>\n",
              "      <td>0.0</td>\n",
              "      <td>1.0</td>\n",
              "      <td>0.0</td>\n",
              "      <td>0.0</td>\n",
              "      <td>0.0</td>\n",
              "      <td>1.0</td>\n",
              "      <td>1.0</td>\n",
              "      <td>0.0</td>\n",
              "      <td>1.0</td>\n",
              "      <td>1.0</td>\n",
              "      <td>0.0</td>\n",
              "      <td>0.0</td>\n",
              "      <td>0.0</td>\n",
              "      <td>1.0</td>\n",
              "      <td>NaN</td>\n",
              "    </tr>\n",
              "    <tr>\n",
              "      <th>426</th>\n",
              "      <td>1.0</td>\n",
              "      <td>0.0</td>\n",
              "      <td>1.0</td>\n",
              "      <td>0.0</td>\n",
              "      <td>0.0</td>\n",
              "      <td>0.0</td>\n",
              "      <td>1.0</td>\n",
              "      <td>1.0</td>\n",
              "      <td>1.0</td>\n",
              "      <td>1.0</td>\n",
              "      <td>0.0</td>\n",
              "      <td>0.0</td>\n",
              "      <td>0.0</td>\n",
              "      <td>0.0</td>\n",
              "      <td>1.0</td>\n",
              "      <td>1.0</td>\n",
              "    </tr>\n",
              "    <tr>\n",
              "      <th>428</th>\n",
              "      <td>NaN</td>\n",
              "      <td>NaN</td>\n",
              "      <td>NaN</td>\n",
              "      <td>0.0</td>\n",
              "      <td>0.0</td>\n",
              "      <td>0.0</td>\n",
              "      <td>1.0</td>\n",
              "      <td>1.0</td>\n",
              "      <td>1.0</td>\n",
              "      <td>1.0</td>\n",
              "      <td>0.0</td>\n",
              "      <td>0.0</td>\n",
              "      <td>1.0</td>\n",
              "      <td>0.0</td>\n",
              "      <td>1.0</td>\n",
              "      <td>1.0</td>\n",
              "    </tr>\n",
              "    <tr>\n",
              "      <th>429</th>\n",
              "      <td>1.0</td>\n",
              "      <td>0.0</td>\n",
              "      <td>1.0</td>\n",
              "      <td>0.0</td>\n",
              "      <td>NaN</td>\n",
              "      <td>0.0</td>\n",
              "      <td>1.0</td>\n",
              "      <td>1.0</td>\n",
              "      <td>1.0</td>\n",
              "      <td>1.0</td>\n",
              "      <td>0.0</td>\n",
              "      <td>1.0</td>\n",
              "      <td>0.0</td>\n",
              "      <td>NaN</td>\n",
              "      <td>1.0</td>\n",
              "      <td>1.0</td>\n",
              "    </tr>\n",
              "    <tr>\n",
              "      <th>431</th>\n",
              "      <td>0.0</td>\n",
              "      <td>0.0</td>\n",
              "      <td>1.0</td>\n",
              "      <td>0.0</td>\n",
              "      <td>0.0</td>\n",
              "      <td>0.0</td>\n",
              "      <td>1.0</td>\n",
              "      <td>1.0</td>\n",
              "      <td>1.0</td>\n",
              "      <td>1.0</td>\n",
              "      <td>0.0</td>\n",
              "      <td>0.0</td>\n",
              "      <td>0.0</td>\n",
              "      <td>0.0</td>\n",
              "      <td>0.0</td>\n",
              "      <td>1.0</td>\n",
              "    </tr>\n",
              "  </tbody>\n",
              "</table>\n",
              "<p>267 rows × 16 columns</p>\n",
              "</div>"
            ],
            "text/plain": [
              "     handicapped-infants  water-project  budget  ...  crime  duty-free  south-africa\n",
              "2                    NaN            1.0     1.0  ...    1.0        0.0           0.0\n",
              "3                    0.0            1.0     1.0  ...    0.0        0.0           1.0\n",
              "4                    1.0            1.0     1.0  ...    1.0        1.0           1.0\n",
              "5                    0.0            1.0     1.0  ...    1.0        1.0           1.0\n",
              "6                    0.0            1.0     0.0  ...    1.0        1.0           1.0\n",
              "..                   ...            ...     ...  ...    ...        ...           ...\n",
              "425                  0.0            0.0     1.0  ...    0.0        1.0           NaN\n",
              "426                  1.0            0.0     1.0  ...    0.0        1.0           1.0\n",
              "428                  NaN            NaN     NaN  ...    0.0        1.0           1.0\n",
              "429                  1.0            0.0     1.0  ...    NaN        1.0           1.0\n",
              "431                  0.0            0.0     1.0  ...    0.0        0.0           1.0\n",
              "\n",
              "[267 rows x 16 columns]"
            ]
          },
          "metadata": {
            "tags": []
          },
          "execution_count": 58
        }
      ]
    },
    {
      "cell_type": "code",
      "metadata": {
        "id": "0_Gbh19kaGhA",
        "colab_type": "code",
        "colab": {
          "base_uri": "https://localhost:8080/",
          "height": 34
        },
        "outputId": "7fe876af-7aa0-42ba-aa41-76fed0758f4f"
      },
      "source": [
        "?pd.dropna()"
      ],
      "execution_count": 62,
      "outputs": [
        {
          "output_type": "stream",
          "text": [
            "Object `pd.dropna` not found.\n"
          ],
          "name": "stdout"
        }
      ]
    },
    {
      "cell_type": "code",
      "metadata": {
        "id": "7jXxocVyUdG1",
        "colab_type": "code",
        "colab": {
          "base_uri": "https://localhost:8080/",
          "height": 258
        },
        "outputId": "2064f8bd-d6f2-488e-9912-79ee686132ac"
      },
      "source": [
        "blue.head()"
      ],
      "execution_count": 59,
      "outputs": [
        {
          "output_type": "execute_result",
          "data": {
            "text/html": [
              "<div>\n",
              "<style scoped>\n",
              "    .dataframe tbody tr th:only-of-type {\n",
              "        vertical-align: middle;\n",
              "    }\n",
              "\n",
              "    .dataframe tbody tr th {\n",
              "        vertical-align: top;\n",
              "    }\n",
              "\n",
              "    .dataframe thead th {\n",
              "        text-align: right;\n",
              "    }\n",
              "</style>\n",
              "<table border=\"1\" class=\"dataframe\">\n",
              "  <thead>\n",
              "    <tr style=\"text-align: right;\">\n",
              "      <th></th>\n",
              "      <th>party</th>\n",
              "      <th>handicapped-infants</th>\n",
              "      <th>water-project</th>\n",
              "      <th>budget</th>\n",
              "      <th>physician-fee-freeze</th>\n",
              "      <th>el-salvador-aid</th>\n",
              "      <th>religious-groups</th>\n",
              "      <th>anti-satellite-ban</th>\n",
              "      <th>aid-to-contras</th>\n",
              "      <th>mx-missile</th>\n",
              "      <th>immigration</th>\n",
              "      <th>synfuels</th>\n",
              "      <th>education</th>\n",
              "      <th>right-to-sue</th>\n",
              "      <th>crime</th>\n",
              "      <th>duty-free</th>\n",
              "      <th>south-africa</th>\n",
              "    </tr>\n",
              "  </thead>\n",
              "  <tbody>\n",
              "    <tr>\n",
              "      <th>2</th>\n",
              "      <td>democrat</td>\n",
              "      <td>NaN</td>\n",
              "      <td>1.0</td>\n",
              "      <td>1.0</td>\n",
              "      <td>NaN</td>\n",
              "      <td>1.0</td>\n",
              "      <td>1.0</td>\n",
              "      <td>0.0</td>\n",
              "      <td>0.0</td>\n",
              "      <td>0.0</td>\n",
              "      <td>0.0</td>\n",
              "      <td>1.0</td>\n",
              "      <td>0.0</td>\n",
              "      <td>1.0</td>\n",
              "      <td>1.0</td>\n",
              "      <td>0.0</td>\n",
              "      <td>0.0</td>\n",
              "    </tr>\n",
              "    <tr>\n",
              "      <th>3</th>\n",
              "      <td>democrat</td>\n",
              "      <td>0.0</td>\n",
              "      <td>1.0</td>\n",
              "      <td>1.0</td>\n",
              "      <td>0.0</td>\n",
              "      <td>NaN</td>\n",
              "      <td>1.0</td>\n",
              "      <td>0.0</td>\n",
              "      <td>0.0</td>\n",
              "      <td>0.0</td>\n",
              "      <td>0.0</td>\n",
              "      <td>1.0</td>\n",
              "      <td>0.0</td>\n",
              "      <td>1.0</td>\n",
              "      <td>0.0</td>\n",
              "      <td>0.0</td>\n",
              "      <td>1.0</td>\n",
              "    </tr>\n",
              "    <tr>\n",
              "      <th>4</th>\n",
              "      <td>democrat</td>\n",
              "      <td>1.0</td>\n",
              "      <td>1.0</td>\n",
              "      <td>1.0</td>\n",
              "      <td>0.0</td>\n",
              "      <td>1.0</td>\n",
              "      <td>1.0</td>\n",
              "      <td>0.0</td>\n",
              "      <td>0.0</td>\n",
              "      <td>0.0</td>\n",
              "      <td>0.0</td>\n",
              "      <td>1.0</td>\n",
              "      <td>NaN</td>\n",
              "      <td>1.0</td>\n",
              "      <td>1.0</td>\n",
              "      <td>1.0</td>\n",
              "      <td>1.0</td>\n",
              "    </tr>\n",
              "    <tr>\n",
              "      <th>5</th>\n",
              "      <td>democrat</td>\n",
              "      <td>0.0</td>\n",
              "      <td>1.0</td>\n",
              "      <td>1.0</td>\n",
              "      <td>0.0</td>\n",
              "      <td>1.0</td>\n",
              "      <td>1.0</td>\n",
              "      <td>0.0</td>\n",
              "      <td>0.0</td>\n",
              "      <td>0.0</td>\n",
              "      <td>0.0</td>\n",
              "      <td>0.0</td>\n",
              "      <td>0.0</td>\n",
              "      <td>1.0</td>\n",
              "      <td>1.0</td>\n",
              "      <td>1.0</td>\n",
              "      <td>1.0</td>\n",
              "    </tr>\n",
              "    <tr>\n",
              "      <th>6</th>\n",
              "      <td>democrat</td>\n",
              "      <td>0.0</td>\n",
              "      <td>1.0</td>\n",
              "      <td>0.0</td>\n",
              "      <td>1.0</td>\n",
              "      <td>1.0</td>\n",
              "      <td>1.0</td>\n",
              "      <td>0.0</td>\n",
              "      <td>0.0</td>\n",
              "      <td>0.0</td>\n",
              "      <td>0.0</td>\n",
              "      <td>0.0</td>\n",
              "      <td>0.0</td>\n",
              "      <td>NaN</td>\n",
              "      <td>1.0</td>\n",
              "      <td>1.0</td>\n",
              "      <td>1.0</td>\n",
              "    </tr>\n",
              "  </tbody>\n",
              "</table>\n",
              "</div>"
            ],
            "text/plain": [
              "      party  handicapped-infants  water-project  ...  crime  duty-free  south-africa\n",
              "2  democrat                  NaN            1.0  ...    1.0        0.0           0.0\n",
              "3  democrat                  0.0            1.0  ...    0.0        0.0           1.0\n",
              "4  democrat                  1.0            1.0  ...    1.0        1.0           1.0\n",
              "5  democrat                  0.0            1.0  ...    1.0        1.0           1.0\n",
              "6  democrat                  0.0            1.0  ...    1.0        1.0           1.0\n",
              "\n",
              "[5 rows x 17 columns]"
            ]
          },
          "metadata": {
            "tags": []
          },
          "execution_count": 59
        }
      ]
    },
    {
      "cell_type": "code",
      "metadata": {
        "id": "_28TBMnbZ1LK",
        "colab_type": "code",
        "colab": {}
      },
      "source": [
        "def confide_int_lower(sample_data,confide=.95):\n",
        "  #Work with a np.array\n",
        "  sample=np.array(sample_data)\n",
        "  #sample mean\n",
        "  x_bar=sample.mean()\n",
        "  #sample STD\n",
        "  s=np.std(sample,ddof=1)\n",
        "  #sample size\n",
        "  n=len(sample)\n",
        "  #T statistic\n",
        "  t=stats.t.ppf((1+confide) / 2, n-1)\n",
        "  #Standard Error\n",
        "  std_err=s/np.sqrt(n)\n",
        "  #margin of error\n",
        "  moe=std_err*t\n",
        "  #lower and upper bound\n",
        "  upper=x_bar+moe\n",
        "  lower=x_bar-moe\n",
        "\n",
        "  return (lower)"
      ],
      "execution_count": 0,
      "outputs": []
    },
    {
      "cell_type": "code",
      "metadata": {
        "id": "Xi6WK36dYxvl",
        "colab_type": "code",
        "colab": {
          "base_uri": "https://localhost:8080/",
          "height": 307
        },
        "outputId": "990f150b-85e7-4a6a-e1f6-4b97e2180057"
      },
      "source": [
        "blue['lower'] = [confide_int_lower(data) for data in blue]"
      ],
      "execution_count": 61,
      "outputs": [
        {
          "output_type": "error",
          "ename": "TypeError",
          "evalue": "ignored",
          "traceback": [
            "\u001b[0;31m---------------------------------------------------------------------------\u001b[0m",
            "\u001b[0;31mTypeError\u001b[0m                                 Traceback (most recent call last)",
            "\u001b[0;32m<ipython-input-61-fb272a453324>\u001b[0m in \u001b[0;36m<module>\u001b[0;34m()\u001b[0m\n\u001b[0;32m----> 1\u001b[0;31m \u001b[0mblue\u001b[0m\u001b[0;34m[\u001b[0m\u001b[0;34m'lower'\u001b[0m\u001b[0;34m]\u001b[0m \u001b[0;34m=\u001b[0m \u001b[0;34m[\u001b[0m\u001b[0mconfide_int_lower\u001b[0m\u001b[0;34m(\u001b[0m\u001b[0mdata\u001b[0m\u001b[0;34m)\u001b[0m \u001b[0;32mfor\u001b[0m \u001b[0mdata\u001b[0m \u001b[0;32min\u001b[0m \u001b[0mblue\u001b[0m\u001b[0;34m]\u001b[0m\u001b[0;34m\u001b[0m\u001b[0;34m\u001b[0m\u001b[0m\n\u001b[0m",
            "\u001b[0;32m<ipython-input-61-fb272a453324>\u001b[0m in \u001b[0;36m<listcomp>\u001b[0;34m(.0)\u001b[0m\n\u001b[0;32m----> 1\u001b[0;31m \u001b[0mblue\u001b[0m\u001b[0;34m[\u001b[0m\u001b[0;34m'lower'\u001b[0m\u001b[0;34m]\u001b[0m \u001b[0;34m=\u001b[0m \u001b[0;34m[\u001b[0m\u001b[0mconfide_int_lower\u001b[0m\u001b[0;34m(\u001b[0m\u001b[0mdata\u001b[0m\u001b[0;34m)\u001b[0m \u001b[0;32mfor\u001b[0m \u001b[0mdata\u001b[0m \u001b[0;32min\u001b[0m \u001b[0mblue\u001b[0m\u001b[0;34m]\u001b[0m\u001b[0;34m\u001b[0m\u001b[0;34m\u001b[0m\u001b[0m\n\u001b[0m",
            "\u001b[0;32m<ipython-input-60-7e8af10db660>\u001b[0m in \u001b[0;36mconfide_int_lower\u001b[0;34m(sample_data, confide)\u001b[0m\n\u001b[1;32m      3\u001b[0m   \u001b[0msample\u001b[0m\u001b[0;34m=\u001b[0m\u001b[0mnp\u001b[0m\u001b[0;34m.\u001b[0m\u001b[0marray\u001b[0m\u001b[0;34m(\u001b[0m\u001b[0msample_data\u001b[0m\u001b[0;34m)\u001b[0m\u001b[0;34m\u001b[0m\u001b[0;34m\u001b[0m\u001b[0m\n\u001b[1;32m      4\u001b[0m   \u001b[0;31m#sample mean\u001b[0m\u001b[0;34m\u001b[0m\u001b[0;34m\u001b[0m\u001b[0;34m\u001b[0m\u001b[0m\n\u001b[0;32m----> 5\u001b[0;31m   \u001b[0mx_bar\u001b[0m\u001b[0;34m=\u001b[0m\u001b[0msample\u001b[0m\u001b[0;34m.\u001b[0m\u001b[0mmean\u001b[0m\u001b[0;34m(\u001b[0m\u001b[0;34m)\u001b[0m\u001b[0;34m\u001b[0m\u001b[0;34m\u001b[0m\u001b[0m\n\u001b[0m\u001b[1;32m      6\u001b[0m   \u001b[0;31m#sample STD\u001b[0m\u001b[0;34m\u001b[0m\u001b[0;34m\u001b[0m\u001b[0;34m\u001b[0m\u001b[0m\n\u001b[1;32m      7\u001b[0m   \u001b[0ms\u001b[0m\u001b[0;34m=\u001b[0m\u001b[0mnp\u001b[0m\u001b[0;34m.\u001b[0m\u001b[0mstd\u001b[0m\u001b[0;34m(\u001b[0m\u001b[0msample\u001b[0m\u001b[0;34m,\u001b[0m\u001b[0mddof\u001b[0m\u001b[0;34m=\u001b[0m\u001b[0;36m1\u001b[0m\u001b[0;34m)\u001b[0m\u001b[0;34m\u001b[0m\u001b[0;34m\u001b[0m\u001b[0m\n",
            "\u001b[0;32m/usr/local/lib/python3.6/dist-packages/numpy/core/_methods.py\u001b[0m in \u001b[0;36m_mean\u001b[0;34m(a, axis, dtype, out, keepdims)\u001b[0m\n\u001b[1;32m    149\u001b[0m             \u001b[0mis_float16_result\u001b[0m \u001b[0;34m=\u001b[0m \u001b[0;32mTrue\u001b[0m\u001b[0;34m\u001b[0m\u001b[0;34m\u001b[0m\u001b[0m\n\u001b[1;32m    150\u001b[0m \u001b[0;34m\u001b[0m\u001b[0m\n\u001b[0;32m--> 151\u001b[0;31m     \u001b[0mret\u001b[0m \u001b[0;34m=\u001b[0m \u001b[0mumr_sum\u001b[0m\u001b[0;34m(\u001b[0m\u001b[0marr\u001b[0m\u001b[0;34m,\u001b[0m \u001b[0maxis\u001b[0m\u001b[0;34m,\u001b[0m \u001b[0mdtype\u001b[0m\u001b[0;34m,\u001b[0m \u001b[0mout\u001b[0m\u001b[0;34m,\u001b[0m \u001b[0mkeepdims\u001b[0m\u001b[0;34m)\u001b[0m\u001b[0;34m\u001b[0m\u001b[0;34m\u001b[0m\u001b[0m\n\u001b[0m\u001b[1;32m    152\u001b[0m     \u001b[0;32mif\u001b[0m \u001b[0misinstance\u001b[0m\u001b[0;34m(\u001b[0m\u001b[0mret\u001b[0m\u001b[0;34m,\u001b[0m \u001b[0mmu\u001b[0m\u001b[0;34m.\u001b[0m\u001b[0mndarray\u001b[0m\u001b[0;34m)\u001b[0m\u001b[0;34m:\u001b[0m\u001b[0;34m\u001b[0m\u001b[0;34m\u001b[0m\u001b[0m\n\u001b[1;32m    153\u001b[0m         ret = um.true_divide(\n",
            "\u001b[0;31mTypeError\u001b[0m: cannot perform reduce with flexible type"
          ]
        }
      ]
    }
  ]
}