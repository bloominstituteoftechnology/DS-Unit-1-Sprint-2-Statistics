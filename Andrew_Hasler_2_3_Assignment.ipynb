{
  "nbformat": 4,
  "nbformat_minor": 0,
  "metadata": {
    "colab": {
      "name": "Andrew_Hasler_2_3_Assignment",
      "provenance": [],
      "include_colab_link": true
    },
    "kernelspec": {
      "name": "python3",
      "display_name": "Python 3"
    }
  },
  "cells": [
    {
      "cell_type": "markdown",
      "metadata": {
        "id": "view-in-github",
        "colab_type": "text"
      },
      "source": [
        "<a href=\"https://colab.research.google.com/github/andrewhslr419/DS-Unit-1-Sprint-2-Statistics/blob/master/Andrew_Hasler_2_3_Assignment.ipynb\" target=\"_parent\"><img src=\"https://colab.research.google.com/assets/colab-badge.svg\" alt=\"Open In Colab\"/></a>"
      ]
    },
    {
      "cell_type": "code",
      "metadata": {
        "id": "lf9sF2weYjUh",
        "colab_type": "code",
        "colab": {}
      },
      "source": [
        "import pandas as pd\n",
        "import numpy as np\n",
        "import seaborn as sns\n",
        "import matplotlib.pyplot as plt\n",
        "import scipy as sp\n"
      ],
      "execution_count": 0,
      "outputs": []
    },
    {
      "cell_type": "code",
      "metadata": {
        "id": "lBHcEXvOcnLN",
        "colab_type": "code",
        "colab": {}
      },
      "source": [
        "p_drunk = 1/100000\n",
        "p_non_drunk = 1 - p_drunk\n",
        "p_pos_given_drunk = 1\n",
        "p_pos_given_non_drunk = .01"
      ],
      "execution_count": 0,
      "outputs": []
    },
    {
      "cell_type": "code",
      "metadata": {
        "id": "oUVbqvp-dKTV",
        "colab_type": "code",
        "colab": {}
      },
      "source": [
        "posterior_probability = (p_pos_given_drunk*p_drunk)/((p_pos_given_drunk*p_drunk) + (p_pos_given_non_drunk*p_drunk))\n",
        "P_drunk = posterior_probability"
      ],
      "execution_count": 0,
      "outputs": []
    },
    {
      "cell_type": "code",
      "metadata": {
        "id": "IAHrDlhYd6jf",
        "colab_type": "code",
        "outputId": "4b19353e-e93d-4af9-e8fb-7dc7d79dd890",
        "colab": {
          "base_uri": "https://localhost:8080/",
          "height": 34
        }
      },
      "source": [
        "posterior_probability"
      ],
      "execution_count": 12,
      "outputs": [
        {
          "output_type": "execute_result",
          "data": {
            "text/plain": [
              "0.99009900990099"
            ]
          },
          "metadata": {
            "tags": []
          },
          "execution_count": 12
        }
      ]
    },
    {
      "cell_type": "code",
      "metadata": {
        "id": "YLb6Z6kegwN7",
        "colab_type": "code",
        "colab": {}
      },
      "source": [
        ""
      ],
      "execution_count": 0,
      "outputs": []
    },
    {
      "cell_type": "code",
      "metadata": {
        "id": "2vR705qxedUw",
        "colab_type": "code",
        "colab": {}
      },
      "source": [
        "from scipy import stats"
      ],
      "execution_count": 0,
      "outputs": []
    },
    {
      "cell_type": "code",
      "metadata": {
        "id": "IqAgjnJpfbbn",
        "colab_type": "code",
        "colab": {}
      },
      "source": [
        "# def confidence_interval(data, confidence=.95):\n",
        "#   n = len(data)\n",
        "#   mean = sum(data)/n\n",
        "#   data = np.array(data)\n",
        "#   stderr = stats.sem(data)\n",
        "#   interval = stderr * stats.t.ppf((1 + confidence) / 2.0, n-1)\n",
        "#   return (mean , mean-interval, mean+interval)\n",
        "def confidence_interval(data, confidence=.95):\n",
        "    n = len(data)\n",
        "    mean = sum(data)/n\n",
        "    data = np.array(data)\n",
        "    stderr = stats.sem(data)\n",
        "    interval = stderr*stats.t.ppf((1+confidence)/2.0, n-1)\n",
        "    return(mean, mean-interval, mean+interval)\n",
        "    \n"
      ],
      "execution_count": 0,
      "outputs": []
    },
    {
      "cell_type": "code",
      "metadata": {
        "id": "-AxgGjlIfbD7",
        "colab_type": "code",
        "colab": {}
      },
      "source": [
        "confidence_interval(p_drunk)"
      ],
      "execution_count": 0,
      "outputs": []
    },
    {
      "cell_type": "code",
      "metadata": {
        "id": "BE875r8igwU2",
        "colab_type": "code",
        "colab": {}
      },
      "source": [
        "def drunkfunction (posterior_probability = (p_pos_given_drunk*p_drunk)/((p_pos_given_drunk*p_drunk) + (p_pos_given_non_drunk*p_drunk))\n"
      ],
      "execution_count": 0,
      "outputs": []
    },
    {
      "cell_type": "code",
      "metadata": {
        "colab_type": "code",
        "id": "DahtzmSskThl",
        "colab": {}
      },
      "source": [
        ""
      ],
      "execution_count": 0,
      "outputs": []
    },
    {
      "cell_type": "markdown",
      "metadata": {
        "id": "FxYi1hO1fdAZ",
        "colab_type": "text"
      },
      "source": [
        ""
      ]
    }
  ]
}