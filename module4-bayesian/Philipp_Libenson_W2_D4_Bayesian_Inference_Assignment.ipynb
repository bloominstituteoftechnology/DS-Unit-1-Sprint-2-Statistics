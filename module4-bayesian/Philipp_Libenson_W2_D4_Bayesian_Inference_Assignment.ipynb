{
  "nbformat": 4,
  "nbformat_minor": 0,
  "metadata": {
    "colab": {
      "name": "Philipp Libenson W2 D4 Bayesian_Inference_Assignment.ipynb",
      "provenance": [],
      "collapsed_sections": [],
      "include_colab_link": true
    },
    "kernelspec": {
      "name": "python3",
      "display_name": "Python 3"
    }
  },
  "cells": [
    {
      "cell_type": "markdown",
      "metadata": {
        "id": "view-in-github",
        "colab_type": "text"
      },
      "source": [
        "<a href=\"https://colab.research.google.com/github/spasatel13/DS-Unit-1-Sprint-2-Statistics/blob/master/module4-bayesian/Philipp_Libenson_W2_D4_Bayesian_Inference_Assignment.ipynb\" target=\"_parent\"><img src=\"https://colab.research.google.com/assets/colab-badge.svg\" alt=\"Open In Colab\"/></a>"
      ]
    },
    {
      "cell_type": "markdown",
      "metadata": {
        "id": "H7OLbevlbd_Z"
      },
      "source": [
        "# Lambda School Data Science Module 124\n",
        "\n",
        "## Introduction to Bayesian Inference\n",
        "\n",
        "\n"
      ]
    },
    {
      "cell_type": "markdown",
      "metadata": {
        "id": "iliKwAvIKbyD"
      },
      "source": [
        "### 1) In your own words, summarize the difference between Bayesian and Frequentist statistics."
      ]
    },
    {
      "cell_type": "markdown",
      "metadata": {
        "id": "VHo7IAIFMNRT"
      },
      "source": [
        "**Your answer here.** \\\n",
        "Frequentist states that there is a a single number for mean and variance in a population, even though we could never know it. He uses the sample data to estimate them. The Bayesian thinks that there is a range for both mean and variance the estimated range of which can be updated with each successive experiment. "
      ]
    },
    {
      "cell_type": "markdown",
      "metadata": {
        "id": "db4m0HhBCMhR"
      },
      "source": [
        "###For questions 2) - 8) use the following information:\n",
        "\n",
        "Let A be the event of surviving the sinking of the Titanic and B be the event of being a 1st class passenger."
      ]
    },
    {
      "cell_type": "code",
      "metadata": {
        "id": "qXaf5leo7CHr",
        "outputId": "48658c79-25c0-4805-876e-1f448ac68378",
        "colab": {
          "base_uri": "https://localhost:8080/",
          "height": 216
        }
      },
      "source": [
        "import pandas as pd\n",
        "import numpy as np\n",
        "\n",
        "\n",
        "data_url = 'https://raw.githubusercontent.com/Chelsea-Myers/Lambda-Intro/master/Titanic.csv'\n",
        "\n",
        "df = pd.read_csv(data_url, skipinitialspace=True, header=0)\n",
        "\n",
        "print(df.shape)\n",
        "df.head()"
      ],
      "execution_count": 1,
      "outputs": [
        {
          "output_type": "stream",
          "text": [
            "(887, 8)\n"
          ],
          "name": "stdout"
        },
        {
          "output_type": "execute_result",
          "data": {
            "text/html": [
              "<div>\n",
              "<style scoped>\n",
              "    .dataframe tbody tr th:only-of-type {\n",
              "        vertical-align: middle;\n",
              "    }\n",
              "\n",
              "    .dataframe tbody tr th {\n",
              "        vertical-align: top;\n",
              "    }\n",
              "\n",
              "    .dataframe thead th {\n",
              "        text-align: right;\n",
              "    }\n",
              "</style>\n",
              "<table border=\"1\" class=\"dataframe\">\n",
              "  <thead>\n",
              "    <tr style=\"text-align: right;\">\n",
              "      <th></th>\n",
              "      <th>Survived</th>\n",
              "      <th>Pclass</th>\n",
              "      <th>Name</th>\n",
              "      <th>Sex</th>\n",
              "      <th>Age</th>\n",
              "      <th>Siblings/Spouses_Aboard</th>\n",
              "      <th>Parents/Children_Aboard</th>\n",
              "      <th>Fare</th>\n",
              "    </tr>\n",
              "  </thead>\n",
              "  <tbody>\n",
              "    <tr>\n",
              "      <th>0</th>\n",
              "      <td>0</td>\n",
              "      <td>3</td>\n",
              "      <td>Mr. Owen Harris Braund</td>\n",
              "      <td>male</td>\n",
              "      <td>22.0</td>\n",
              "      <td>1</td>\n",
              "      <td>0</td>\n",
              "      <td>7.2500</td>\n",
              "    </tr>\n",
              "    <tr>\n",
              "      <th>1</th>\n",
              "      <td>1</td>\n",
              "      <td>1</td>\n",
              "      <td>Mrs. John Bradley (Florence Briggs Thayer) Cum...</td>\n",
              "      <td>female</td>\n",
              "      <td>38.0</td>\n",
              "      <td>1</td>\n",
              "      <td>0</td>\n",
              "      <td>71.2833</td>\n",
              "    </tr>\n",
              "    <tr>\n",
              "      <th>2</th>\n",
              "      <td>1</td>\n",
              "      <td>3</td>\n",
              "      <td>Miss. Laina Heikkinen</td>\n",
              "      <td>female</td>\n",
              "      <td>26.0</td>\n",
              "      <td>0</td>\n",
              "      <td>0</td>\n",
              "      <td>7.9250</td>\n",
              "    </tr>\n",
              "    <tr>\n",
              "      <th>3</th>\n",
              "      <td>1</td>\n",
              "      <td>1</td>\n",
              "      <td>Mrs. Jacques Heath (Lily May Peel) Futrelle</td>\n",
              "      <td>female</td>\n",
              "      <td>35.0</td>\n",
              "      <td>1</td>\n",
              "      <td>0</td>\n",
              "      <td>53.1000</td>\n",
              "    </tr>\n",
              "    <tr>\n",
              "      <th>4</th>\n",
              "      <td>0</td>\n",
              "      <td>3</td>\n",
              "      <td>Mr. William Henry Allen</td>\n",
              "      <td>male</td>\n",
              "      <td>35.0</td>\n",
              "      <td>0</td>\n",
              "      <td>0</td>\n",
              "      <td>8.0500</td>\n",
              "    </tr>\n",
              "  </tbody>\n",
              "</table>\n",
              "</div>"
            ],
            "text/plain": [
              "   Survived  Pclass  ... Parents/Children_Aboard     Fare\n",
              "0         0       3  ...                       0   7.2500\n",
              "1         1       1  ...                       0  71.2833\n",
              "2         1       3  ...                       0   7.9250\n",
              "3         1       1  ...                       0  53.1000\n",
              "4         0       3  ...                       0   8.0500\n",
              "\n",
              "[5 rows x 8 columns]"
            ]
          },
          "metadata": {
            "tags": []
          },
          "execution_count": 1
        }
      ]
    },
    {
      "cell_type": "code",
      "metadata": {
        "id": "osw5YFgp6wm_",
        "outputId": "f4204464-16f7-4e97-82f5-2f8fc2fed51b",
        "colab": {
          "base_uri": "https://localhost:8080/",
          "height": 168
        }
      },
      "source": [
        "#Crosstab of Sex and Survived\n",
        "pd.crosstab(df['Sex'],df['Survived'],margins=True)"
      ],
      "execution_count": 2,
      "outputs": [
        {
          "output_type": "execute_result",
          "data": {
            "text/html": [
              "<div>\n",
              "<style scoped>\n",
              "    .dataframe tbody tr th:only-of-type {\n",
              "        vertical-align: middle;\n",
              "    }\n",
              "\n",
              "    .dataframe tbody tr th {\n",
              "        vertical-align: top;\n",
              "    }\n",
              "\n",
              "    .dataframe thead th {\n",
              "        text-align: right;\n",
              "    }\n",
              "</style>\n",
              "<table border=\"1\" class=\"dataframe\">\n",
              "  <thead>\n",
              "    <tr style=\"text-align: right;\">\n",
              "      <th>Survived</th>\n",
              "      <th>0</th>\n",
              "      <th>1</th>\n",
              "      <th>All</th>\n",
              "    </tr>\n",
              "    <tr>\n",
              "      <th>Sex</th>\n",
              "      <th></th>\n",
              "      <th></th>\n",
              "      <th></th>\n",
              "    </tr>\n",
              "  </thead>\n",
              "  <tbody>\n",
              "    <tr>\n",
              "      <th>female</th>\n",
              "      <td>81</td>\n",
              "      <td>233</td>\n",
              "      <td>314</td>\n",
              "    </tr>\n",
              "    <tr>\n",
              "      <th>male</th>\n",
              "      <td>464</td>\n",
              "      <td>109</td>\n",
              "      <td>573</td>\n",
              "    </tr>\n",
              "    <tr>\n",
              "      <th>All</th>\n",
              "      <td>545</td>\n",
              "      <td>342</td>\n",
              "      <td>887</td>\n",
              "    </tr>\n",
              "  </tbody>\n",
              "</table>\n",
              "</div>"
            ],
            "text/plain": [
              "Survived    0    1  All\n",
              "Sex                    \n",
              "female     81  233  314\n",
              "male      464  109  573\n",
              "All       545  342  887"
            ]
          },
          "metadata": {
            "tags": []
          },
          "execution_count": 2
        }
      ]
    },
    {
      "cell_type": "code",
      "metadata": {
        "id": "86SemLom8g7n",
        "outputId": "47c4243f-f852-4fff-fd12-62800675a403",
        "colab": {
          "base_uri": "https://localhost:8080/",
          "height": 168
        }
      },
      "source": [
        "pd.crosstab(df['Sex'],df['Survived'],normalize=\"index\", margins=True)"
      ],
      "execution_count": 11,
      "outputs": [
        {
          "output_type": "execute_result",
          "data": {
            "text/html": [
              "<div>\n",
              "<style scoped>\n",
              "    .dataframe tbody tr th:only-of-type {\n",
              "        vertical-align: middle;\n",
              "    }\n",
              "\n",
              "    .dataframe tbody tr th {\n",
              "        vertical-align: top;\n",
              "    }\n",
              "\n",
              "    .dataframe thead th {\n",
              "        text-align: right;\n",
              "    }\n",
              "</style>\n",
              "<table border=\"1\" class=\"dataframe\">\n",
              "  <thead>\n",
              "    <tr style=\"text-align: right;\">\n",
              "      <th>Survived</th>\n",
              "      <th>0</th>\n",
              "      <th>1</th>\n",
              "    </tr>\n",
              "    <tr>\n",
              "      <th>Sex</th>\n",
              "      <th></th>\n",
              "      <th></th>\n",
              "    </tr>\n",
              "  </thead>\n",
              "  <tbody>\n",
              "    <tr>\n",
              "      <th>female</th>\n",
              "      <td>0.257962</td>\n",
              "      <td>0.742038</td>\n",
              "    </tr>\n",
              "    <tr>\n",
              "      <th>male</th>\n",
              "      <td>0.809773</td>\n",
              "      <td>0.190227</td>\n",
              "    </tr>\n",
              "    <tr>\n",
              "      <th>All</th>\n",
              "      <td>0.614431</td>\n",
              "      <td>0.385569</td>\n",
              "    </tr>\n",
              "  </tbody>\n",
              "</table>\n",
              "</div>"
            ],
            "text/plain": [
              "Survived         0         1\n",
              "Sex                         \n",
              "female    0.257962  0.742038\n",
              "male      0.809773  0.190227\n",
              "All       0.614431  0.385569"
            ]
          },
          "metadata": {
            "tags": []
          },
          "execution_count": 11
        }
      ]
    },
    {
      "cell_type": "markdown",
      "metadata": {
        "id": "4shP8MH8CbrZ"
      },
      "source": [
        "2) Calculate P(A) = P(Surving)"
      ]
    },
    {
      "cell_type": "code",
      "metadata": {
        "id": "iDi0eFr1x-v_",
        "outputId": "7e7ea074-5441-412e-a08a-c459f05fd138",
        "colab": {
          "base_uri": "https://localhost:8080/",
          "height": 35
        }
      },
      "source": [
        "### YOUR CODE HERE\n",
        "#The total number of passengers who survived.\n",
        "total_survived=df['Survived'][df['Survived']==1].count()\n",
        "# Total on Board\n",
        "total_onBoard=df['Survived'].count()\n",
        "P_of_A=total_survived/total_onBoard\n",
        "P_of_A"
      ],
      "execution_count": 9,
      "outputs": [
        {
          "output_type": "execute_result",
          "data": {
            "text/plain": [
              "0.3855693348365276"
            ]
          },
          "metadata": {
            "tags": []
          },
          "execution_count": 9
        }
      ]
    },
    {
      "cell_type": "markdown",
      "metadata": {
        "id": "ZV_UsohfC6r_"
      },
      "source": [
        "3) Calculate P(B) = P(Being a 1st class passenger)"
      ]
    },
    {
      "cell_type": "code",
      "metadata": {
        "id": "wcBGNBoQL6iS",
        "outputId": "31444610-6850-4cc7-e6be-8a78d57e4364",
        "colab": {
          "base_uri": "https://localhost:8080/",
          "height": 35
        }
      },
      "source": [
        "### YOUR CODE HERE\n",
        "#total passengers in 1st class\n",
        "total_1stClass = df['Pclass'][df['Pclass']==1].count()\n",
        "P_of_B=total_1stClass/total_onBoard\n",
        "P_of_B"
      ],
      "execution_count": 13,
      "outputs": [
        {
          "output_type": "execute_result",
          "data": {
            "text/plain": [
              "0.24351747463359638"
            ]
          },
          "metadata": {
            "tags": []
          },
          "execution_count": 13
        }
      ]
    },
    {
      "cell_type": "markdown",
      "metadata": {
        "id": "3tJKQmH-Cm6u"
      },
      "source": [
        "4) Calculate P(A $\\cap$ B) = P(Being a 1st class passenger and surviving)"
      ]
    },
    {
      "cell_type": "code",
      "metadata": {
        "id": "UNcc_qzV_3aM",
        "outputId": "09233646-bad3-46f6-de3b-9b2ca958b162",
        "colab": {
          "base_uri": "https://localhost:8080/",
          "height": 198
        }
      },
      "source": [
        "pd.crosstab(df['Pclass'],df['Survived'],margins=True)"
      ],
      "execution_count": 20,
      "outputs": [
        {
          "output_type": "execute_result",
          "data": {
            "text/html": [
              "<div>\n",
              "<style scoped>\n",
              "    .dataframe tbody tr th:only-of-type {\n",
              "        vertical-align: middle;\n",
              "    }\n",
              "\n",
              "    .dataframe tbody tr th {\n",
              "        vertical-align: top;\n",
              "    }\n",
              "\n",
              "    .dataframe thead th {\n",
              "        text-align: right;\n",
              "    }\n",
              "</style>\n",
              "<table border=\"1\" class=\"dataframe\">\n",
              "  <thead>\n",
              "    <tr style=\"text-align: right;\">\n",
              "      <th>Survived</th>\n",
              "      <th>0</th>\n",
              "      <th>1</th>\n",
              "      <th>All</th>\n",
              "    </tr>\n",
              "    <tr>\n",
              "      <th>Pclass</th>\n",
              "      <th></th>\n",
              "      <th></th>\n",
              "      <th></th>\n",
              "    </tr>\n",
              "  </thead>\n",
              "  <tbody>\n",
              "    <tr>\n",
              "      <th>1</th>\n",
              "      <td>80</td>\n",
              "      <td>136</td>\n",
              "      <td>216</td>\n",
              "    </tr>\n",
              "    <tr>\n",
              "      <th>2</th>\n",
              "      <td>97</td>\n",
              "      <td>87</td>\n",
              "      <td>184</td>\n",
              "    </tr>\n",
              "    <tr>\n",
              "      <th>3</th>\n",
              "      <td>368</td>\n",
              "      <td>119</td>\n",
              "      <td>487</td>\n",
              "    </tr>\n",
              "    <tr>\n",
              "      <th>All</th>\n",
              "      <td>545</td>\n",
              "      <td>342</td>\n",
              "      <td>887</td>\n",
              "    </tr>\n",
              "  </tbody>\n",
              "</table>\n",
              "</div>"
            ],
            "text/plain": [
              "Survived    0    1  All\n",
              "Pclass                 \n",
              "1          80  136  216\n",
              "2          97   87  184\n",
              "3         368  119  487\n",
              "All       545  342  887"
            ]
          },
          "metadata": {
            "tags": []
          },
          "execution_count": 20
        }
      ]
    },
    {
      "cell_type": "code",
      "metadata": {
        "id": "MnTp_2nBAEkg",
        "outputId": "60d4f7c1-1e64-4c77-e7db-b72db1af6325",
        "colab": {
          "base_uri": "https://localhost:8080/",
          "height": 198
        }
      },
      "source": [
        "pd.crosstab(df['Pclass'],df['Survived'],margins=True, normalize='index')"
      ],
      "execution_count": 31,
      "outputs": [
        {
          "output_type": "execute_result",
          "data": {
            "text/html": [
              "<div>\n",
              "<style scoped>\n",
              "    .dataframe tbody tr th:only-of-type {\n",
              "        vertical-align: middle;\n",
              "    }\n",
              "\n",
              "    .dataframe tbody tr th {\n",
              "        vertical-align: top;\n",
              "    }\n",
              "\n",
              "    .dataframe thead th {\n",
              "        text-align: right;\n",
              "    }\n",
              "</style>\n",
              "<table border=\"1\" class=\"dataframe\">\n",
              "  <thead>\n",
              "    <tr style=\"text-align: right;\">\n",
              "      <th>Survived</th>\n",
              "      <th>0</th>\n",
              "      <th>1</th>\n",
              "    </tr>\n",
              "    <tr>\n",
              "      <th>Pclass</th>\n",
              "      <th></th>\n",
              "      <th></th>\n",
              "    </tr>\n",
              "  </thead>\n",
              "  <tbody>\n",
              "    <tr>\n",
              "      <th>1</th>\n",
              "      <td>0.370370</td>\n",
              "      <td>0.629630</td>\n",
              "    </tr>\n",
              "    <tr>\n",
              "      <th>2</th>\n",
              "      <td>0.527174</td>\n",
              "      <td>0.472826</td>\n",
              "    </tr>\n",
              "    <tr>\n",
              "      <th>3</th>\n",
              "      <td>0.755647</td>\n",
              "      <td>0.244353</td>\n",
              "    </tr>\n",
              "    <tr>\n",
              "      <th>All</th>\n",
              "      <td>0.614431</td>\n",
              "      <td>0.385569</td>\n",
              "    </tr>\n",
              "  </tbody>\n",
              "</table>\n",
              "</div>"
            ],
            "text/plain": [
              "Survived         0         1\n",
              "Pclass                      \n",
              "1         0.370370  0.629630\n",
              "2         0.527174  0.472826\n",
              "3         0.755647  0.244353\n",
              "All       0.614431  0.385569"
            ]
          },
          "metadata": {
            "tags": []
          },
          "execution_count": 31
        }
      ]
    },
    {
      "cell_type": "code",
      "metadata": {
        "id": "9Nr8LWPyL7P6",
        "outputId": "d72bb66e-ce63-4ef9-f873-17c67b1eabcc",
        "colab": {
          "base_uri": "https://localhost:8080/",
          "height": 35
        }
      },
      "source": [
        "### YOUR CODE HERE\n",
        "condition=(df['Survived']==1)&(df['Pclass']==1)\n",
        "total_1stClass_andSurvived=len(df[condition])\n",
        "total_1stClass_andSurvived\n",
        "P_AandB=total_1stClass_andSurvived/total_onBoard\n",
        "P_AandB"
      ],
      "execution_count": 19,
      "outputs": [
        {
          "output_type": "execute_result",
          "data": {
            "text/plain": [
              "0.15332581736189402"
            ]
          },
          "metadata": {
            "tags": []
          },
          "execution_count": 19
        }
      ]
    },
    {
      "cell_type": "markdown",
      "metadata": {
        "id": "VzHakDD6DOcL"
      },
      "source": [
        "5) Calculate P(A|B) = P(Surviving given that the person was a 1st class passenger)"
      ]
    },
    {
      "cell_type": "code",
      "metadata": {
        "id": "vYvmvMzEFLiD",
        "outputId": "f7caf845-a150-4043-a78d-6779be59c40c",
        "colab": {
          "base_uri": "https://localhost:8080/",
          "height": 198
        }
      },
      "source": [
        "pd.crosstab(df['Pclass'],df['Survived'],margins=True, normalize='index')"
      ],
      "execution_count": 42,
      "outputs": [
        {
          "output_type": "execute_result",
          "data": {
            "text/html": [
              "<div>\n",
              "<style scoped>\n",
              "    .dataframe tbody tr th:only-of-type {\n",
              "        vertical-align: middle;\n",
              "    }\n",
              "\n",
              "    .dataframe tbody tr th {\n",
              "        vertical-align: top;\n",
              "    }\n",
              "\n",
              "    .dataframe thead th {\n",
              "        text-align: right;\n",
              "    }\n",
              "</style>\n",
              "<table border=\"1\" class=\"dataframe\">\n",
              "  <thead>\n",
              "    <tr style=\"text-align: right;\">\n",
              "      <th>Survived</th>\n",
              "      <th>0</th>\n",
              "      <th>1</th>\n",
              "    </tr>\n",
              "    <tr>\n",
              "      <th>Pclass</th>\n",
              "      <th></th>\n",
              "      <th></th>\n",
              "    </tr>\n",
              "  </thead>\n",
              "  <tbody>\n",
              "    <tr>\n",
              "      <th>1</th>\n",
              "      <td>0.370370</td>\n",
              "      <td>0.629630</td>\n",
              "    </tr>\n",
              "    <tr>\n",
              "      <th>2</th>\n",
              "      <td>0.527174</td>\n",
              "      <td>0.472826</td>\n",
              "    </tr>\n",
              "    <tr>\n",
              "      <th>3</th>\n",
              "      <td>0.755647</td>\n",
              "      <td>0.244353</td>\n",
              "    </tr>\n",
              "    <tr>\n",
              "      <th>All</th>\n",
              "      <td>0.614431</td>\n",
              "      <td>0.385569</td>\n",
              "    </tr>\n",
              "  </tbody>\n",
              "</table>\n",
              "</div>"
            ],
            "text/plain": [
              "Survived         0         1\n",
              "Pclass                      \n",
              "1         0.370370  0.629630\n",
              "2         0.527174  0.472826\n",
              "3         0.755647  0.244353\n",
              "All       0.614431  0.385569"
            ]
          },
          "metadata": {
            "tags": []
          },
          "execution_count": 42
        }
      ]
    },
    {
      "cell_type": "code",
      "metadata": {
        "id": "TxrNmmzZL7zw",
        "outputId": "ac1ab55d-f48c-4d92-f42a-196af73e7ff5",
        "colab": {
          "base_uri": "https://localhost:8080/",
          "height": 35
        }
      },
      "source": [
        "### YOUR CODE HERE\n",
        "P_AgivenB=pd.crosstab(df['Pclass'],df['Survived'],margins=True, normalize='index').iloc[0][1]\n",
        "P_AgivenB"
      ],
      "execution_count": 43,
      "outputs": [
        {
          "output_type": "execute_result",
          "data": {
            "text/plain": [
              "0.6296296296296297"
            ]
          },
          "metadata": {
            "tags": []
          },
          "execution_count": 43
        }
      ]
    },
    {
      "cell_type": "markdown",
      "metadata": {
        "id": "XLHGkgqIDZvi"
      },
      "source": [
        "6) Calculate (B|A) = P(Being a first class passenger given the person survived)"
      ]
    },
    {
      "cell_type": "code",
      "metadata": {
        "id": "AINamuC0EQ0p",
        "outputId": "5dd945b8-8ab8-45b6-9ce7-218c6a8804f2",
        "colab": {
          "base_uri": "https://localhost:8080/",
          "height": 168
        }
      },
      "source": [
        "pd.crosstab(df['Survived'],df['Pclass'],margins=True, normalize='index')"
      ],
      "execution_count": 36,
      "outputs": [
        {
          "output_type": "execute_result",
          "data": {
            "text/html": [
              "<div>\n",
              "<style scoped>\n",
              "    .dataframe tbody tr th:only-of-type {\n",
              "        vertical-align: middle;\n",
              "    }\n",
              "\n",
              "    .dataframe tbody tr th {\n",
              "        vertical-align: top;\n",
              "    }\n",
              "\n",
              "    .dataframe thead th {\n",
              "        text-align: right;\n",
              "    }\n",
              "</style>\n",
              "<table border=\"1\" class=\"dataframe\">\n",
              "  <thead>\n",
              "    <tr style=\"text-align: right;\">\n",
              "      <th>Pclass</th>\n",
              "      <th>1</th>\n",
              "      <th>2</th>\n",
              "      <th>3</th>\n",
              "    </tr>\n",
              "    <tr>\n",
              "      <th>Survived</th>\n",
              "      <th></th>\n",
              "      <th></th>\n",
              "      <th></th>\n",
              "    </tr>\n",
              "  </thead>\n",
              "  <tbody>\n",
              "    <tr>\n",
              "      <th>0</th>\n",
              "      <td>0.146789</td>\n",
              "      <td>0.177982</td>\n",
              "      <td>0.675229</td>\n",
              "    </tr>\n",
              "    <tr>\n",
              "      <th>1</th>\n",
              "      <td>0.397661</td>\n",
              "      <td>0.254386</td>\n",
              "      <td>0.347953</td>\n",
              "    </tr>\n",
              "    <tr>\n",
              "      <th>All</th>\n",
              "      <td>0.243517</td>\n",
              "      <td>0.207441</td>\n",
              "      <td>0.549042</td>\n",
              "    </tr>\n",
              "  </tbody>\n",
              "</table>\n",
              "</div>"
            ],
            "text/plain": [
              "Pclass           1         2         3\n",
              "Survived                              \n",
              "0         0.146789  0.177982  0.675229\n",
              "1         0.397661  0.254386  0.347953\n",
              "All       0.243517  0.207441  0.549042"
            ]
          },
          "metadata": {
            "tags": []
          },
          "execution_count": 36
        }
      ]
    },
    {
      "cell_type": "code",
      "metadata": {
        "id": "9_8-BEipL8U5",
        "outputId": "d42e9c05-38c4-4941-fbc2-e291e45a1a5f",
        "colab": {
          "base_uri": "https://localhost:8080/",
          "height": 35
        }
      },
      "source": [
        "### YOUR CODE HERE\n",
        "P_BgivenA=pd.crosstab(df['Survived'],df['Pclass'],margins=True, normalize='index').iloc[1][1]\n",
        "P_BgivenA"
      ],
      "execution_count": 39,
      "outputs": [
        {
          "output_type": "execute_result",
          "data": {
            "text/plain": [
              "0.39766081871345027"
            ]
          },
          "metadata": {
            "tags": []
          },
          "execution_count": 39
        }
      ]
    },
    {
      "cell_type": "markdown",
      "metadata": {
        "id": "lxYJhvp1DkLS"
      },
      "source": [
        "7) Show that \n",
        "\n",
        "$$P(A|B) = \\frac{P(A \\cap B)}{P(B)}$$\n",
        "\n",
        "with the numbers you calculate above."
      ]
    },
    {
      "cell_type": "code",
      "metadata": {
        "id": "P0k0E5OKL9C-",
        "outputId": "f6c8e668-1f1c-480c-a66f-6053b83bc998",
        "colab": {
          "base_uri": "https://localhost:8080/",
          "height": 35
        }
      },
      "source": [
        "### YOUR CODE HERE\n",
        "P_AgivenB==P_AandB/P_of_B"
      ],
      "execution_count": 40,
      "outputs": [
        {
          "output_type": "execute_result",
          "data": {
            "text/plain": [
              "True"
            ]
          },
          "metadata": {
            "tags": []
          },
          "execution_count": 40
        }
      ]
    },
    {
      "cell_type": "markdown",
      "metadata": {
        "id": "M2pRVt7ADsFk"
      },
      "source": [
        "8) Show that \n",
        "\n",
        "$$P(A|B) = \\frac{P(B|A)P(A)}{P(B)}$$\n",
        "\n",
        "with the numbers you calculated above."
      ]
    },
    {
      "cell_type": "code",
      "metadata": {
        "id": "w_sbMMAUL9qH",
        "outputId": "684ead88-6386-4cb6-d350-642bda4b5051",
        "colab": {
          "base_uri": "https://localhost:8080/",
          "height": 35
        }
      },
      "source": [
        "### YOUR CODE HERE\n",
        "P_AgivenB==P_AgivenB*P_of_B/P_of_B"
      ],
      "execution_count": 44,
      "outputs": [
        {
          "output_type": "execute_result",
          "data": {
            "text/plain": [
              "True"
            ]
          },
          "metadata": {
            "tags": []
          },
          "execution_count": 44
        }
      ]
    },
    {
      "cell_type": "markdown",
      "metadata": {
        "id": "SB1m04Zf16Lo"
      },
      "source": [
        "###Use the following information to answer questions 9) - 11) \n",
        "\n",
        "Assume that the passengers on the Titanic are representative of all individuals traveling from Western Europe to the United States in the early 20th century.\n",
        "\n",
        "Let's use the Titanic data sample to estimate the mean fare paid by all individuals traveling from Western Euorpe to the United States during that time."
      ]
    },
    {
      "cell_type": "markdown",
      "metadata": {
        "id": "nXveL-y7HOtr"
      },
      "source": [
        "9) Use a 95% frequentist CI to estimate the mean fare paid by individuals traveling from Western Europe to the US in the early 20th century.\n",
        "\n",
        "Interpret your confidence interval."
      ]
    },
    {
      "cell_type": "code",
      "metadata": {
        "id": "HkUjRwhoL_h1",
        "outputId": "9d117018-8724-4eef-f109-cb46084e68df",
        "colab": {
          "base_uri": "https://localhost:8080/",
          "height": 35
        }
      },
      "source": [
        "### YOUR CODE HERE\n",
        "from scipy.stats import t\n",
        "mean_fare = df['Fare'].mean()\n",
        "sd_fare = df['Fare'].std() \n",
        "n_fare = df['Fare'].count()\n",
        "se_fare = sd_fare / (np.sqrt(n_fare))\n",
        "\n",
        "t.interval(alpha= 0.95, df=n_fare - 1, loc=mean_fare, scale=se_fare)"
      ],
      "execution_count": 48,
      "outputs": [
        {
          "output_type": "execute_result",
          "data": {
            "text/plain": [
              "(29.02482490325031, 35.586015457516254)"
            ]
          },
          "metadata": {
            "tags": []
          },
          "execution_count": 48
        }
      ]
    },
    {
      "cell_type": "markdown",
      "metadata": {
        "id": "7eSar_NSIUvl"
      },
      "source": [
        "Your answer here. \\\n",
        "The 95% frequentist CI for the mean fare paid by individuals traveling from Western Europe to the US in the early 20th century is between  29.02 and 35.39"
      ]
    },
    {
      "cell_type": "markdown",
      "metadata": {
        "id": "m8u70PjlHY-0"
      },
      "source": [
        "10) Use a 95% Bayesian CI to determine the distribution of the fare paid by individuals traveling from Western Europe to the US in the early 20th century.  Interpret your results"
      ]
    },
    {
      "cell_type": "code",
      "metadata": {
        "id": "1NNyQKOxMHJa",
        "outputId": "a7b07d18-561b-4592-9a3c-e0f8b77ae658",
        "colab": {
          "base_uri": "https://localhost:8080/",
          "height": 72
        }
      },
      "source": [
        "### YOUR CODE HERE\n",
        "#Using Bayesian MVS (Mean, variance, standard deviation)\n",
        "\n",
        "from scipy import stats\n",
        "\n",
        "stats.bayes_mvs(df['Fare'], alpha=0.95)"
      ],
      "execution_count": 49,
      "outputs": [
        {
          "output_type": "execute_result",
          "data": {
            "text/plain": [
              "(Mean(statistic=32.30542018038331, minmax=(29.024824903250337, 35.58601545751628)),\n",
              " Variance(statistic=2483.858450355689, minmax=(2262.747559034253, 2726.2430731483255)),\n",
              " Std_dev(statistic=49.824230556814946, minmax=(47.568346187714496, 52.213437668365835)))"
            ]
          },
          "metadata": {
            "tags": []
          },
          "execution_count": 49
        }
      ]
    },
    {
      "cell_type": "markdown",
      "metadata": {
        "id": "VP4SMHH4MIgR"
      },
      "source": [
        "**Your answer here**. \\\n",
        "We are 95% confident that the true mean of the fair paid by all travelers from Western Europe can be described by a statistical distribution that has a mean of 32.31 dollars and a standard deviation of 49.82 dollars"
      ]
    },
    {
      "cell_type": "markdown",
      "metadata": {
        "id": "xG31AYm1KeH7"
      },
      "source": [
        "#Portfolio Project Assignment\n",
        "\n",
        "Watch the Porfolio Project websites mini-lecture: https://www.youtube.com/watch?v=gxbNCGERUjc&feature=youtu.be&ab_channel=LambdaSchool\n",
        "\n",
        "\n",
        "Begin to set up your own Portfolio Project website."
      ]
    }
  ]
}