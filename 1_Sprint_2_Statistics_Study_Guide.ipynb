{
  "nbformat": 4,
  "nbformat_minor": 0,
  "metadata": {
    "colab": {
      "name": "Copy of Unit 1 Sprint 2 - Statistics - Study Guide.ipynb",
      "provenance": [],
      "collapsed_sections": [],
      "include_colab_link": true
    },
    "kernelspec": {
      "name": "python3",
      "display_name": "Python 3"
    }
  },
  "cells": [
    {
      "cell_type": "markdown",
      "metadata": {
        "id": "view-in-github",
        "colab_type": "text"
      },
      "source": [
        "<a href=\"https://colab.research.google.com/github/badabad/DS-Unit-1-Sprint-2-Statistics/blob/master/1_Sprint_2_Statistics_Study_Guide.ipynb\" target=\"_parent\"><img src=\"https://colab.research.google.com/assets/colab-badge.svg\" alt=\"Open In Colab\"/></a>"
      ]
    },
    {
      "cell_type": "markdown",
      "metadata": {
        "id": "GTv68Uw5Zk-P",
        "colab_type": "text"
      },
      "source": [
        "This study guide should reinforce and provide practice for all of the concepts you have seen in the past week. There are a mix of written questions and coding exercises, both are equally important to prepare you for the sprint challenge as well as to be able to speak on these topics comfortably in interviews and on the job.\n",
        "\n",
        "If you get stuck or are unsure of something remember the 20 minute rule. If that doesn't help, then research a solution with google and stackoverflow. Only once you have exausted these methods should you turn to your Team Lead - they won't be there on your SC or during an interview. That being said, don't hesitate to ask for help if you truly are stuck.\n",
        "\n",
        "Have fun studying!"
      ]
    },
    {
      "cell_type": "markdown",
      "metadata": {
        "id": "VvSCoixx7rRe",
        "colab_type": "text"
      },
      "source": [
        "# Resources\n",
        "\n",
        "[Scipy Stats Documentation](https://docs.scipy.org/doc/scipy/reference/stats.html)"
      ]
    },
    {
      "cell_type": "markdown",
      "metadata": {
        "id": "sDkirKu1B-Lw",
        "colab_type": "text"
      },
      "source": [
        "# General Terms"
      ]
    },
    {
      "cell_type": "markdown",
      "metadata": {
        "id": "iY916675DAXf",
        "colab_type": "text"
      },
      "source": [
        "Define the following terms. *Double click the text to edit the markdown cells.*\n",
        "<br/><br/>\n",
        "\n",
        "**Normal Distribution:** It's a regular bell curve probability function. It describe the frequency of a variable's values\n",
        "\n",
        "**Standard Deviation:** sqrt((x-u)^2/N)\n",
        "\n",
        "**Z-Score:** x-u/sd\n",
        "\n",
        "**P-Value:** A low p value is used to reject a null hypothesis\n",
        "\n",
        "**Null Hypothesis:** The \"boring\" or expected outcome\n",
        "\n",
        "**Sample:** The portion of the dataset used to represent the population\n",
        "\n",
        "**Statistical Signifigance:** The chance of variables being related and not by chance"
      ]
    },
    {
      "cell_type": "markdown",
      "metadata": {
        "id": "KTiR7Fh6FPH0",
        "colab_type": "text"
      },
      "source": [
        "# T-Test"
      ]
    },
    {
      "cell_type": "markdown",
      "metadata": {
        "id": "L-NzA2VTFapj",
        "colab_type": "text"
      },
      "source": [
        "Answer the following questions as though you are explaining it to a non-technical person. *Double click the text to edit the markdown cells.*\n",
        "<br/><br/>\n",
        "\n",
        "1. What is a T-Test? What is it used for?\n",
        "\n",
        "  it finds the difference in means of two variables. It is used to test if your hypothesis is likely true or bs\n",
        "\n",
        "2. What is the difference between the normal distribution and the t-distribution?\n",
        "\n",
        "  A t distribution is wider. A normal distribution shows how values are spread out, whereas a t distribution measures the accuracy of those values\n",
        "\n",
        "3. What is the difference between a 1-sample and a 2-sample t-test?\n",
        "\n",
        "  A 1-sample t test looks to see if the population reflects a hypothesized value\n",
        "  A 2-sample t test compares two different samples and determines how different they are"
      ]
    },
    {
      "cell_type": "markdown",
      "metadata": {
        "id": "_tZDJesBHeDB",
        "colab_type": "text"
      },
      "source": [
        "We are scientists running a drug trial and wanting to know whether our drug reduced patient symptoms. Below are the results (just random numbers), explain in 2-3 sentences whether or not the drug was effective. How can we tell that from the t-test?\n",
        "\n",
        "```\n",
        "After running the t-test, look at the p value. If the p value is very high, there is a probable chance of the hypothesis being true. If it is low, we reject the null hypothesis\n",
        "```\n",
        "\n",
        "What is likely our null hypothesis?\n",
        "\n",
        "```\n",
        "The null hypothesis is that the drug is effective\n",
        "```"
      ]
    },
    {
      "cell_type": "code",
      "metadata": {
        "id": "0ggDf6GE4mVU",
        "colab_type": "code",
        "colab": {
          "base_uri": "https://localhost:8080/",
          "height": 33
        },
        "outputId": "2f9c09e4-eddf-4aa6-a8bc-787501dfa900"
      },
      "source": [
        "from scipy import stats\n",
        "import numpy as np\n",
        "import pandas as pd\n",
        "\n",
        "# Get our \"results\" with random numbers\n",
        "np.random.seed(42)\n",
        "with_drug = stats.norm.rvs(loc=5, scale=10, size=500)\n",
        "without_drug = stats.norm.rvs(loc=5, scale=10, size=500)\n",
        "\n",
        "# See if our drug made a difference\n",
        "stats.ttest_ind(with_drug, without_drug)"
      ],
      "execution_count": null,
      "outputs": [
        {
          "output_type": "execute_result",
          "data": {
            "text/plain": [
              "Ttest_indResult(statistic=-0.40331379088750186, pvalue=0.6868037874359643)"
            ]
          },
          "metadata": {
            "tags": []
          },
          "execution_count": 35
        }
      ]
    },
    {
      "cell_type": "markdown",
      "metadata": {
        "id": "5KJ4ZpQQPoIv",
        "colab_type": "text"
      },
      "source": [
        "Here is a dataframe of movie ratings. Divide the dataframe by gender and then use t-tests to show which movies have a statistically significant difference in rating when divided by gender. Give a sentence explanation of the results."
      ]
    },
    {
      "cell_type": "code",
      "metadata": {
        "id": "_HtmwEHBHTEb",
        "colab_type": "code",
        "colab": {
          "base_uri": "https://localhost:8080/",
          "height": 190
        },
        "outputId": "9cd88011-55a2-4141-a513-2aa0974dbcb6"
      },
      "source": [
        "df = pd.DataFrame({'gender':['m','f','f','m','m','m','f','f','m','f'],\n",
        "                   'jurassic park':[10,9,10,9,9,10,10,10,9,9],\n",
        "                   'love actually':[6,9,10,7,6,7,10,10,5,8],\n",
        "                   'pacific rim':[10,3,4,8,9,8,5,4,9,3]})\n",
        "df.head()"
      ],
      "execution_count": null,
      "outputs": [
        {
          "output_type": "execute_result",
          "data": {
            "text/html": [
              "<div>\n",
              "<style scoped>\n",
              "    .dataframe tbody tr th:only-of-type {\n",
              "        vertical-align: middle;\n",
              "    }\n",
              "\n",
              "    .dataframe tbody tr th {\n",
              "        vertical-align: top;\n",
              "    }\n",
              "\n",
              "    .dataframe thead th {\n",
              "        text-align: right;\n",
              "    }\n",
              "</style>\n",
              "<table border=\"1\" class=\"dataframe\">\n",
              "  <thead>\n",
              "    <tr style=\"text-align: right;\">\n",
              "      <th></th>\n",
              "      <th>gender</th>\n",
              "      <th>jurassic park</th>\n",
              "      <th>love actually</th>\n",
              "      <th>pacific rim</th>\n",
              "    </tr>\n",
              "  </thead>\n",
              "  <tbody>\n",
              "    <tr>\n",
              "      <th>0</th>\n",
              "      <td>m</td>\n",
              "      <td>10</td>\n",
              "      <td>6</td>\n",
              "      <td>10</td>\n",
              "    </tr>\n",
              "    <tr>\n",
              "      <th>1</th>\n",
              "      <td>f</td>\n",
              "      <td>9</td>\n",
              "      <td>9</td>\n",
              "      <td>3</td>\n",
              "    </tr>\n",
              "    <tr>\n",
              "      <th>2</th>\n",
              "      <td>f</td>\n",
              "      <td>10</td>\n",
              "      <td>10</td>\n",
              "      <td>4</td>\n",
              "    </tr>\n",
              "    <tr>\n",
              "      <th>3</th>\n",
              "      <td>m</td>\n",
              "      <td>9</td>\n",
              "      <td>7</td>\n",
              "      <td>8</td>\n",
              "    </tr>\n",
              "    <tr>\n",
              "      <th>4</th>\n",
              "      <td>m</td>\n",
              "      <td>9</td>\n",
              "      <td>6</td>\n",
              "      <td>9</td>\n",
              "    </tr>\n",
              "  </tbody>\n",
              "</table>\n",
              "</div>"
            ],
            "text/plain": [
              "  gender  jurassic park  love actually  pacific rim\n",
              "0      m             10              6           10\n",
              "1      f              9              9            3\n",
              "2      f             10             10            4\n",
              "3      m              9              7            8\n",
              "4      m              9              6            9"
            ]
          },
          "metadata": {
            "tags": []
          },
          "execution_count": 36
        }
      ]
    },
    {
      "cell_type": "code",
      "metadata": {
        "id": "bNDXqu-ZRDNe",
        "colab_type": "code",
        "colab": {}
      },
      "source": [
        "# Divide the dataframe here\n",
        "m = df[df['gender']=='m']\n",
        "f = df[df['gender']=='f']"
      ],
      "execution_count": null,
      "outputs": []
    },
    {
      "cell_type": "markdown",
      "metadata": {
        "id": "ReEWvQbmQrGz",
        "colab_type": "text"
      },
      "source": [
        "**Jurassic Park**\n",
        "\n",
        "Explanation of results:\n",
        "\n",
        "```\n",
        "I fail to reject the null hypothesis that the ratings are significantly different\n",
        "```"
      ]
    },
    {
      "cell_type": "code",
      "metadata": {
        "id": "iOIwQT5zPX59",
        "colab_type": "code",
        "colab": {
          "base_uri": "https://localhost:8080/",
          "height": 33
        },
        "outputId": "2be93085-c03e-4fe9-e4dd-4bb292480171"
      },
      "source": [
        "# T-Test Code Here\n",
        "stats.ttest_ind(m['jurassic park'],f['jurassic park'])\n"
      ],
      "execution_count": null,
      "outputs": [
        {
          "output_type": "execute_result",
          "data": {
            "text/plain": [
              "Ttest_indResult(statistic=-0.5773502691896236, pvalue=0.5795840000000014)"
            ]
          },
          "metadata": {
            "tags": []
          },
          "execution_count": 38
        }
      ]
    },
    {
      "cell_type": "markdown",
      "metadata": {
        "id": "8GTFaWm-Q5RL",
        "colab_type": "text"
      },
      "source": [
        "**Love Actually**\n",
        "\n",
        "Explanation of results:\n",
        "\n",
        "```\n",
        "Females prefer love actually. The difference is statistically significant\n",
        "```"
      ]
    },
    {
      "cell_type": "code",
      "metadata": {
        "id": "zlGdfuVhQ8e3",
        "colab_type": "code",
        "colab": {
          "base_uri": "https://localhost:8080/",
          "height": 33
        },
        "outputId": "181550c3-8b03-42c6-cc1e-d8565e4165ac"
      },
      "source": [
        "# T-Test Code Here\n",
        "stats.ttest_ind(m['love actually'],f['love actually'])"
      ],
      "execution_count": null,
      "outputs": [
        {
          "output_type": "execute_result",
          "data": {
            "text/plain": [
              "Ttest_indResult(statistic=-5.8423739467217715, pvalue=0.0003861022071216145)"
            ]
          },
          "metadata": {
            "tags": []
          },
          "execution_count": 39
        }
      ]
    },
    {
      "cell_type": "markdown",
      "metadata": {
        "id": "JIZU8lzyQ80N",
        "colab_type": "text"
      },
      "source": [
        "**Pacific Rim**\n",
        "\n",
        "Explanation of results:\n",
        "\n",
        "```\n",
        "Males prefer pacific rim more and the difference is statistically significant\n",
        "```"
      ]
    },
    {
      "cell_type": "code",
      "metadata": {
        "id": "KCN4M4SORBCZ",
        "colab_type": "code",
        "colab": {
          "base_uri": "https://localhost:8080/",
          "height": 33
        },
        "outputId": "483bf62f-75f7-4735-c54a-c3521aa6b530"
      },
      "source": [
        "# T-Test Code Here\n",
        "stats.ttest_ind(m['pacific rim'],f['pacific rim'])"
      ],
      "execution_count": null,
      "outputs": [
        {
          "output_type": "execute_result",
          "data": {
            "text/plain": [
              "Ttest_indResult(statistic=9.449111825230684, pvalue=1.2936944097439082e-05)"
            ]
          },
          "metadata": {
            "tags": []
          },
          "execution_count": 40
        }
      ]
    },
    {
      "cell_type": "markdown",
      "metadata": {
        "id": "hn-JhlRxRXQK",
        "colab_type": "text"
      },
      "source": [
        "# Confidence Interval"
      ]
    },
    {
      "cell_type": "markdown",
      "metadata": {
        "id": "zVKjVPipS9Ko",
        "colab_type": "text"
      },
      "source": [
        "Answer the following question as though you are explaining it to a non-technical person. *Double click the text to edit the markdown cells.*\n",
        "<br/><br/>\n",
        "\n",
        "1. What is a confidence interval?\n",
        "\n",
        "  A confidence interval is a range of values that has a certain percent chance of containing the actual values of a population"
      ]
    },
    {
      "cell_type": "markdown",
      "metadata": {
        "id": "Ozcajm5PXPLc",
        "colab_type": "text"
      },
      "source": [
        "Using the movie rating data, graph the ratings with a confidence interval. After graphing the ratings with the confidence interval, write a brief explanation of how to interpret the graph.\n",
        "\n",
        "```\n",
        "The bars shows the average rating of each movie. Each bar has a line on it to indicate confidence intervals of 95%. We are 95% certain that the true ratings fall within those lines\n",
        "```"
      ]
    },
    {
      "cell_type": "code",
      "metadata": {
        "id": "1Wg7BLdGXXMq",
        "colab_type": "code",
        "colab": {}
      },
      "source": [
        "import matplotlib.pyplot as plt\n",
        "\n",
        "# Your Graph Code Here\n",
        "def CI(data, confidence=.95):\n",
        "  #calculate confidence interval\n",
        "  sample = np.array(data)\n",
        "  s = np.std(sample, ddof=1)\n",
        "  n = np.size(sample)\n",
        "  standard_error = s/np.sqrt(n)\n",
        "  t = stats.t.ppf((1+confidence)/2, n-1)\n",
        "  #margin of error\n",
        "  MOE = t*standard_error\n",
        "  xbar = np.mean(sample)\n",
        "  lower = xbar-MOE\n",
        "  upper = xbar+MOE\n",
        "  return(lower,xbar,upper, MOE)"
      ],
      "execution_count": null,
      "outputs": []
    },
    {
      "cell_type": "code",
      "metadata": {
        "id": "UuFE9e6JHkLC",
        "colab_type": "code",
        "colab": {
          "base_uri": "https://localhost:8080/",
          "height": 282
        },
        "outputId": "663ae47b-baaa-4c1c-f002-0f623f6ed5be"
      },
      "source": [
        "plt.bar(0,df['jurassic park'].mean(), yerr=CI(df['jurassic park'])[3])\n",
        "plt.bar(1,df['love actually'].mean(), yerr=CI(df['love actually'])[3])\n",
        "plt.bar(2,df['pacific rim'].mean(), yerr=CI(df['pacific rim'])[3])\n",
        "plt.xticks([0,1,2],['Jurassic Park', 'Love Actually','Pacific Rim'])\n",
        "plt.title=\"Movie Ratings\"\n",
        "plt.show"
      ],
      "execution_count": null,
      "outputs": [
        {
          "output_type": "execute_result",
          "data": {
            "text/plain": [
              "<function matplotlib.pyplot.show>"
            ]
          },
          "metadata": {
            "tags": []
          },
          "execution_count": 42
        },
        {
          "output_type": "display_data",
          "data": {
            "image/png": "[encoded data removed]",
            "text/plain": [
              "<Figure size 432x288 with 1 Axes>"
            ]
          },
          "metadata": {
            "tags": [],
            "needs_background": "light"
          }
        }
      ]
    },
    {
      "cell_type": "markdown",
      "metadata": {
        "id": "2kdB0Bcxaw3h",
        "colab_type": "text"
      },
      "source": [
        "# Chi Squared"
      ]
    },
    {
      "cell_type": "markdown",
      "metadata": {
        "id": "DOmy8rAhbnXj",
        "colab_type": "text"
      },
      "source": [
        "Answer the following questions as though you are explaining it to a non-technical person. *Double click the text to edit the markdown cells.*\n",
        "<br/><br/>\n",
        "\n",
        "1. What is a Chi Squared Test? What is it used for?\n",
        "\n",
        "  To determine if two variables are related to each other\n",
        "\n",
        "2. What type of data is it used on?\n",
        "\n",
        "  ` Your Answer Here `\n",
        "\n",
        "3. What is a contingency table?\n",
        "\n",
        "  A contignency table compares two categorical variables to each other. It shows the frequency that variables intersect\n",
        "\n",
        "4. Define Degrees of Freedom\n",
        "\n",
        "  The number of possible independent variables"
      ]
    },
    {
      "cell_type": "markdown",
      "metadata": {
        "id": "J8VTCMJBiSu_",
        "colab_type": "text"
      },
      "source": [
        "Use the `grades` dataframe below to complete the following:\n",
        "- Create at least 2 contingency tables\n",
        "- Use chi-squared tests to find 2 features that are independent of each other.\n",
        " - Write a brief interpretation of the results\n",
        "- Use chi-squared tests to find 2 features that are dependent to each other.\n",
        " - Write a brief interpretation of the results"
      ]
    },
    {
      "cell_type": "code",
      "metadata": {
        "id": "Xm4saRNNbGQd",
        "colab_type": "code",
        "colab": {
          "base_uri": "https://localhost:8080/",
          "height": 190
        },
        "outputId": "a6bf5ce9-54e0-4d90-8bdf-923a0c2b971c"
      },
      "source": [
        "grades = pd.DataFrame({'good_standing':[True, True, False, False, False, True, True, False, True, True],\n",
        "                       'grade_1':['A', 'B', 'A', 'C', 'A', 'A', 'D', 'A', 'B', 'B'],\n",
        "                       'grade_2':['Pass', 'Pass', 'Fail', 'Fail', 'Fail','Pass', 'Pass', 'Fail', 'Pass', 'Fail'],\n",
        "                       'grade_3':[10, 5, 6, 10, 9, 9, 8, 7, 3, 9]})\n",
        "df.head()"
      ],
      "execution_count": null,
      "outputs": [
        {
          "output_type": "execute_result",
          "data": {
            "text/html": [
              "<div>\n",
              "<style scoped>\n",
              "    .dataframe tbody tr th:only-of-type {\n",
              "        vertical-align: middle;\n",
              "    }\n",
              "\n",
              "    .dataframe tbody tr th {\n",
              "        vertical-align: top;\n",
              "    }\n",
              "\n",
              "    .dataframe thead th {\n",
              "        text-align: right;\n",
              "    }\n",
              "</style>\n",
              "<table border=\"1\" class=\"dataframe\">\n",
              "  <thead>\n",
              "    <tr style=\"text-align: right;\">\n",
              "      <th></th>\n",
              "      <th>gender</th>\n",
              "      <th>jurassic park</th>\n",
              "      <th>love actually</th>\n",
              "      <th>pacific rim</th>\n",
              "    </tr>\n",
              "  </thead>\n",
              "  <tbody>\n",
              "    <tr>\n",
              "      <th>0</th>\n",
              "      <td>m</td>\n",
              "      <td>10</td>\n",
              "      <td>6</td>\n",
              "      <td>10</td>\n",
              "    </tr>\n",
              "    <tr>\n",
              "      <th>1</th>\n",
              "      <td>f</td>\n",
              "      <td>9</td>\n",
              "      <td>9</td>\n",
              "      <td>3</td>\n",
              "    </tr>\n",
              "    <tr>\n",
              "      <th>2</th>\n",
              "      <td>f</td>\n",
              "      <td>10</td>\n",
              "      <td>10</td>\n",
              "      <td>4</td>\n",
              "    </tr>\n",
              "    <tr>\n",
              "      <th>3</th>\n",
              "      <td>m</td>\n",
              "      <td>9</td>\n",
              "      <td>7</td>\n",
              "      <td>8</td>\n",
              "    </tr>\n",
              "    <tr>\n",
              "      <th>4</th>\n",
              "      <td>m</td>\n",
              "      <td>9</td>\n",
              "      <td>6</td>\n",
              "      <td>9</td>\n",
              "    </tr>\n",
              "  </tbody>\n",
              "</table>\n",
              "</div>"
            ],
            "text/plain": [
              "  gender  jurassic park  love actually  pacific rim\n",
              "0      m             10              6           10\n",
              "1      f              9              9            3\n",
              "2      f             10             10            4\n",
              "3      m              9              7            8\n",
              "4      m              9              6            9"
            ]
          },
          "metadata": {
            "tags": []
          },
          "execution_count": 43
        }
      ]
    },
    {
      "cell_type": "code",
      "metadata": {
        "id": "mwcJfWhzh6gJ",
        "colab_type": "code",
        "colab": {
          "base_uri": "https://localhost:8080/",
          "height": 50
        },
        "outputId": "fdbbd2d7-e627-4bfb-c6cd-8cfa05d8db38"
      },
      "source": [
        "# Contingency Table 1\n",
        "\n",
        "table1 = pd.crosstab(grades['good_standing'],grades['grade_1'])\n",
        "chi2_contingency(table1)"
      ],
      "execution_count": null,
      "outputs": [
        {
          "output_type": "execute_result",
          "data": {
            "text/plain": [
              "(5.0, 0.1717971442967335, 3, array([[2. , 1.2, 0.4, 0.4],\n",
              "        [3. , 1.8, 0.6, 0.6]]))"
            ]
          },
          "metadata": {
            "tags": []
          },
          "execution_count": 44
        }
      ]
    },
    {
      "cell_type": "code",
      "metadata": {
        "id": "q5AEI6Lgkcfm",
        "colab_type": "code",
        "colab": {}
      },
      "source": [
        "# Contingency Table 2\n",
        "table2 = pd.crosstab(grades['good_standing'],grades['grade_2'])"
      ],
      "execution_count": null,
      "outputs": []
    },
    {
      "cell_type": "code",
      "metadata": {
        "id": "JuK6pVIkkel1",
        "colab_type": "code",
        "colab": {
          "base_uri": "https://localhost:8080/",
          "height": 117
        },
        "outputId": "aa1fd0aa-29c7-4a29-c8d0-fbd02da8adf5"
      },
      "source": [
        "# Chi Squared, independent features\n",
        "### Perform the chi-square test\n",
        "stat, p, dof, expected = chi2_contingency(table1, correction=False)\n",
        "\n",
        "### Print out the stats in a nice format\n",
        "print('Expected values: \\n ', expected.round(2))\n",
        "print('The degrees of freedom: ', dof)\n",
        "print(f'The chi square statistics is: {stat:.3f}')\n",
        "print(f'The p value is: {p:.6f}')"
      ],
      "execution_count": null,
      "outputs": [
        {
          "output_type": "stream",
          "text": [
            "Expected values: \n",
            "  [[2.  1.2 0.4 0.4]\n",
            " [3.  1.8 0.6 0.6]]\n",
            "The degrees of freedom:  3\n",
            "The chi square statistics is: 5.000\n",
            "The p value is: 0.171797\n"
          ],
          "name": "stdout"
        }
      ]
    },
    {
      "cell_type": "code",
      "metadata": {
        "id": "ZsZrdkOHki-B",
        "colab_type": "code",
        "colab": {
          "base_uri": "https://localhost:8080/",
          "height": 117
        },
        "outputId": "110ba39a-e093-4dec-d9e0-770e60cfe7a6"
      },
      "source": [
        "# Chi Squared, dependent features\n",
        "### Perform the chi-square test\n",
        "stat, p, dof, expected = chi2_contingency(table2, correction=False)\n",
        "\n",
        "### Print out the stats in a nice format\n",
        "print('Expected values: \\n ', expected.round(2))\n",
        "print('The degrees of freedom: ', dof)\n",
        "print(f'The chi square statistics is: {stat:.3f}')\n",
        "print(f'The p value is: {p:.6f}')"
      ],
      "execution_count": null,
      "outputs": [
        {
          "output_type": "stream",
          "text": [
            "Expected values: \n",
            "  [[2. 2.]\n",
            " [3. 3.]]\n",
            "The degrees of freedom:  1\n",
            "The chi square statistics is: 6.667\n",
            "The p value is: 0.009823\n"
          ],
          "name": "stdout"
        }
      ]
    },
    {
      "cell_type": "markdown",
      "metadata": {
        "id": "5g6IXrsppE_j",
        "colab_type": "text"
      },
      "source": [
        "# Bayesian Statisics"
      ]
    },
    {
      "cell_type": "markdown",
      "metadata": {
        "id": "MjPRgVbxp_eN",
        "colab_type": "text"
      },
      "source": [
        "Answer the following questions as though you are explaining it to a non-technical person. *Double click the text to edit the markdown cells.*\n",
        "<br/><br/>\n",
        "\n",
        "1. What is the difference between Bayesian and Frequentist Statistics?\n",
        "\n",
        "  Bayesians rely on prior knowledge\n",
        "\n",
        "2. What is a prior belief? How is it used in Bayesian Statistics?\n",
        "\n",
        "  A probability distribution created based on beliefs about an uncertain variable\n",
        "\n",
        "3. What is the law of total probability?\n",
        "\n",
        "  You can find the probability of an event by adding up the probability of distinct events\n",
        "\n",
        "4. What is the law of conditional probability?\n",
        "\n",
        "  probability of an event given that another event occured\n",
        "\n",
        "5. Give an example of when you might use bayesian statistics. Do not use an example given during the lecture or assignment.\n",
        "\n",
        "  "
      ]
    },
    {
      "cell_type": "markdown",
      "metadata": {
        "id": "8N39IjRS7Jix",
        "colab_type": "text"
      },
      "source": [
        "# Graphing"
      ]
    },
    {
      "cell_type": "markdown",
      "metadata": {
        "id": "r3GRbrZI7NIP",
        "colab_type": "text"
      },
      "source": [
        "Use any of the dataframes above and make two additional visualizations to explore the data. Make sure to include axis labels and title for each graph."
      ]
    },
    {
      "cell_type": "code",
      "metadata": {
        "id": "ywKWLarY7khK",
        "colab_type": "code",
        "colab": {}
      },
      "source": [
        ""
      ],
      "execution_count": null,
      "outputs": []
    },
    {
      "cell_type": "code",
      "metadata": {
        "id": "TYVX3IYZ7kmO",
        "colab_type": "code",
        "colab": {}
      },
      "source": [
        ""
      ],
      "execution_count": null,
      "outputs": []
    }
  ]
}