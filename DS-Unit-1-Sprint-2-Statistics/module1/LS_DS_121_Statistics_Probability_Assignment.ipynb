{
  "nbformat": 4,
  "nbformat_minor": 0,
  "metadata": {
    "kernelspec": {
      "display_name": "Python 3",
      "language": "python",
      "name": "python3"
    },
    "language_info": {
      "codemirror_mode": {
        "name": "ipython",
        "version": 3
      },
      "file_extension": ".py",
      "mimetype": "text/x-python",
      "name": "python",
      "nbconvert_exporter": "python",
      "pygments_lexer": "ipython3",
      "version": "3.7.3"
    },
    "colab": {
      "name": "LS_DS_121_Statistics_Probability_Assignment.ipynb",
      "provenance": [],
      "collapsed_sections": [],
      "include_colab_link": true
    }
  },
  "cells": [
    {
      "cell_type": "markdown",
      "metadata": {
        "id": "view-in-github",
        "colab_type": "text"
      },
      "source": [
        "<a href=\"https://colab.research.google.com/github/KathyRoma/DS-Unit-1-Sprint-2-Statistics/blob/master/DS-Unit-1-Sprint-2-Statistics/module1/LS_DS_121_Statistics_Probability_Assignment.ipynb\" target=\"_parent\"><img src=\"https://colab.research.google.com/assets/colab-badge.svg\" alt=\"Open In Colab\"/></a>"
      ]
    },
    {
      "cell_type": "markdown",
      "metadata": {
        "id": "Sa5KWMO1ngPN",
        "colab_type": "text"
      },
      "source": [
        "<img align=\"left\" src=\"https://lever-client-logos.s3.amazonaws.com/864372b1-534c-480e-acd5-9711f850815c-1524247202159.png\" width=200>\n",
        "<br></br>\n",
        "<br></br>\n",
        "\n",
        "## *Data Science Unit 1 Sprint 2 Assignment 1*\n",
        "\n",
        "# Apply the t-test to real data\n",
        "\n",
        "Your assignment is to determine which issues have \"statistically significant\" differences between political parties in this [1980s congressional voting data](https://archive.ics.uci.edu/ml/datasets/Congressional+Voting+Records). The data consists of 435 instances (one for each congressperson), a class (democrat or republican), and 16 binary attributes (yes or no for voting for or against certain issues). Be aware - there are missing values!\n",
        "\n",
        "Your goals:\n",
        "\n",
        "1. Load and clean the data (or determine the best method to drop observations when running tests)\n",
        "2. Using hypothesis testing, find an issue that democrats support more than republicans with p < 0.01\n",
        "3. Using hypothesis testing, find an issue that republicans support more than democrats with p < 0.01\n",
        "4. Using hypothesis testing, find an issue where the difference between republicans and democrats has p > 0.1 (i.e. there may not be much of a difference)\n",
        "\n",
        "Note that this data will involve *2 sample* t-tests, because you're comparing averages across two groups (republicans and democrats) rather than a single group against a null hypothesis."
      ]
    },
    {
      "cell_type": "code",
      "metadata": {
        "id": "ZKwspo2CngPP",
        "colab_type": "code",
        "colab": {}
      },
      "source": [
        "### YOUR CODE STARTS HERE"
      ],
      "execution_count": 0,
      "outputs": []
    },
    {
      "cell_type": "code",
      "metadata": {
        "id": "2AKCeLxACDXl",
        "colab_type": "code",
        "colab": {}
      },
      "source": [
        "# I start with importing libraries\n",
        "import pandas as pd\n",
        "import numpy as np\n"
      ],
      "execution_count": 0,
      "outputs": []
    },
    {
      "cell_type": "code",
      "metadata": {
        "id": "N4TioJjBko8H",
        "colab_type": "code",
        "colab": {}
      },
      "source": [
        ""
      ],
      "execution_count": 0,
      "outputs": []
    },
    {
      "cell_type": "code",
      "metadata": {
        "id": "p_6PrkR09ucV",
        "colab_type": "code",
        "outputId": "f401201a-ccd3-4fa6-eb90-451c7f03d956",
        "colab": {
          "base_uri": "https://localhost:8080/",
          "height": 217
        }
      },
      "source": [
        "# I download the dataset using shell command\n",
        "!wget https://archive.ics.uci.edu/ml/machine-learning-databases/voting-records/house-votes-84.data"
      ],
      "execution_count": 1,
      "outputs": [
        {
          "output_type": "stream",
          "text": [
            "--2020-05-11 21:10:16--  https://archive.ics.uci.edu/ml/machine-learning-databases/voting-records/house-votes-84.data\n",
            "Resolving archive.ics.uci.edu (archive.ics.uci.edu)... 128.195.10.252\n",
            "Connecting to archive.ics.uci.edu (archive.ics.uci.edu)|128.195.10.252|:443... connected.\n",
            "HTTP request sent, awaiting response... 200 OK\n",
            "Length: 18171 (18K) [application/x-httpd-php]\n",
            "Saving to: ‘house-votes-84.data’\n",
            "\n",
            "house-votes-84.data 100%[===================>]  17.75K  --.-KB/s    in 0.06s   \n",
            "\n",
            "2020-05-11 21:10:17 (278 KB/s) - ‘house-votes-84.data’ saved [18171/18171]\n",
            "\n"
          ],
          "name": "stdout"
        }
      ]
    },
    {
      "cell_type": "code",
      "metadata": {
        "id": "KG862zKmDZYs",
        "colab_type": "code",
        "colab": {
          "base_uri": "https://localhost:8080/",
          "height": 198
        },
        "outputId": "35543eef-d58a-4fae-da3a-d16909f286bc"
      },
      "source": [
        "df = pd.read_csv('https://archive.ics.uci.edu/ml/machine-learning-databases/voting-records/house-votes-84.data')\n",
        "df.head()"
      ],
      "execution_count": 4,
      "outputs": [
        {
          "output_type": "execute_result",
          "data": {
            "text/html": [
              "<div>\n",
              "<style scoped>\n",
              "    .dataframe tbody tr th:only-of-type {\n",
              "        vertical-align: middle;\n",
              "    }\n",
              "\n",
              "    .dataframe tbody tr th {\n",
              "        vertical-align: top;\n",
              "    }\n",
              "\n",
              "    .dataframe thead th {\n",
              "        text-align: right;\n",
              "    }\n",
              "</style>\n",
              "<table border=\"1\" class=\"dataframe\">\n",
              "  <thead>\n",
              "    <tr style=\"text-align: right;\">\n",
              "      <th></th>\n",
              "      <th>republican</th>\n",
              "      <th>n</th>\n",
              "      <th>y</th>\n",
              "      <th>n.1</th>\n",
              "      <th>y.1</th>\n",
              "      <th>y.2</th>\n",
              "      <th>y.3</th>\n",
              "      <th>n.2</th>\n",
              "      <th>n.3</th>\n",
              "      <th>n.4</th>\n",
              "      <th>y.4</th>\n",
              "      <th>?</th>\n",
              "      <th>y.5</th>\n",
              "      <th>y.6</th>\n",
              "      <th>y.7</th>\n",
              "      <th>n.5</th>\n",
              "      <th>y.8</th>\n",
              "    </tr>\n",
              "  </thead>\n",
              "  <tbody>\n",
              "    <tr>\n",
              "      <th>0</th>\n",
              "      <td>republican</td>\n",
              "      <td>n</td>\n",
              "      <td>y</td>\n",
              "      <td>n</td>\n",
              "      <td>y</td>\n",
              "      <td>y</td>\n",
              "      <td>y</td>\n",
              "      <td>n</td>\n",
              "      <td>n</td>\n",
              "      <td>n</td>\n",
              "      <td>n</td>\n",
              "      <td>n</td>\n",
              "      <td>y</td>\n",
              "      <td>y</td>\n",
              "      <td>y</td>\n",
              "      <td>n</td>\n",
              "      <td>?</td>\n",
              "    </tr>\n",
              "    <tr>\n",
              "      <th>1</th>\n",
              "      <td>democrat</td>\n",
              "      <td>?</td>\n",
              "      <td>y</td>\n",
              "      <td>y</td>\n",
              "      <td>?</td>\n",
              "      <td>y</td>\n",
              "      <td>y</td>\n",
              "      <td>n</td>\n",
              "      <td>n</td>\n",
              "      <td>n</td>\n",
              "      <td>n</td>\n",
              "      <td>y</td>\n",
              "      <td>n</td>\n",
              "      <td>y</td>\n",
              "      <td>y</td>\n",
              "      <td>n</td>\n",
              "      <td>n</td>\n",
              "    </tr>\n",
              "    <tr>\n",
              "      <th>2</th>\n",
              "      <td>democrat</td>\n",
              "      <td>n</td>\n",
              "      <td>y</td>\n",
              "      <td>y</td>\n",
              "      <td>n</td>\n",
              "      <td>?</td>\n",
              "      <td>y</td>\n",
              "      <td>n</td>\n",
              "      <td>n</td>\n",
              "      <td>n</td>\n",
              "      <td>n</td>\n",
              "      <td>y</td>\n",
              "      <td>n</td>\n",
              "      <td>y</td>\n",
              "      <td>n</td>\n",
              "      <td>n</td>\n",
              "      <td>y</td>\n",
              "    </tr>\n",
              "    <tr>\n",
              "      <th>3</th>\n",
              "      <td>democrat</td>\n",
              "      <td>y</td>\n",
              "      <td>y</td>\n",
              "      <td>y</td>\n",
              "      <td>n</td>\n",
              "      <td>y</td>\n",
              "      <td>y</td>\n",
              "      <td>n</td>\n",
              "      <td>n</td>\n",
              "      <td>n</td>\n",
              "      <td>n</td>\n",
              "      <td>y</td>\n",
              "      <td>?</td>\n",
              "      <td>y</td>\n",
              "      <td>y</td>\n",
              "      <td>y</td>\n",
              "      <td>y</td>\n",
              "    </tr>\n",
              "    <tr>\n",
              "      <th>4</th>\n",
              "      <td>democrat</td>\n",
              "      <td>n</td>\n",
              "      <td>y</td>\n",
              "      <td>y</td>\n",
              "      <td>n</td>\n",
              "      <td>y</td>\n",
              "      <td>y</td>\n",
              "      <td>n</td>\n",
              "      <td>n</td>\n",
              "      <td>n</td>\n",
              "      <td>n</td>\n",
              "      <td>n</td>\n",
              "      <td>n</td>\n",
              "      <td>y</td>\n",
              "      <td>y</td>\n",
              "      <td>y</td>\n",
              "      <td>y</td>\n",
              "    </tr>\n",
              "  </tbody>\n",
              "</table>\n",
              "</div>"
            ],
            "text/plain": [
              "   republican  n  y n.1 y.1 y.2 y.3 n.2 n.3 n.4 y.4  ? y.5 y.6 y.7 n.5 y.8\n",
              "0  republican  n  y   n   y   y   y   n   n   n   n  n   y   y   y   n   ?\n",
              "1    democrat  ?  y   y   ?   y   y   n   n   n   n  y   n   y   y   n   n\n",
              "2    democrat  n  y   y   n   ?   y   n   n   n   n  y   n   y   n   n   y\n",
              "3    democrat  y  y   y   n   y   y   n   n   n   n  y   ?   y   y   y   y\n",
              "4    democrat  n  y   y   n   y   y   n   n   n   n  n   n   y   y   y   y"
            ]
          },
          "metadata": {
            "tags": []
          },
          "execution_count": 4
        }
      ]
    },
    {
      "cell_type": "code",
      "metadata": {
        "id": "XthuAPirD9C8",
        "colab_type": "code",
        "outputId": "2388f3bc-e08f-44b7-9c2f-f4ff9c8ffbc8",
        "colab": {
          "base_uri": "https://localhost:8080/",
          "height": 253
        }
      },
      "source": [
        "# I use the description from the source to define appropriate column names and then create a header\n",
        "\n",
        "column_headers = ['party', 'handicapped-infants', 'water-project', \n",
        "                  'budget', 'physician-fee-freeze', 'el-salvador-aid', \n",
        "                  'religious-groups', 'anti-satellite-ban', 'aid-to-contras', \n",
        "                  'mx-missile', 'immigration', 'synfuels', 'education', 'right-to-sue', 'crime', 'duty-free', 'south-africa']\n",
        "\n",
        "df= pd.read_csv('house-votes-84.data', names = column_headers)\n",
        "\n",
        "df.head()"
      ],
      "execution_count": 5,
      "outputs": [
        {
          "output_type": "execute_result",
          "data": {
            "text/html": [
              "<div>\n",
              "<style scoped>\n",
              "    .dataframe tbody tr th:only-of-type {\n",
              "        vertical-align: middle;\n",
              "    }\n",
              "\n",
              "    .dataframe tbody tr th {\n",
              "        vertical-align: top;\n",
              "    }\n",
              "\n",
              "    .dataframe thead th {\n",
              "        text-align: right;\n",
              "    }\n",
              "</style>\n",
              "<table border=\"1\" class=\"dataframe\">\n",
              "  <thead>\n",
              "    <tr style=\"text-align: right;\">\n",
              "      <th></th>\n",
              "      <th>party</th>\n",
              "      <th>handicapped-infants</th>\n",
              "      <th>water-project</th>\n",
              "      <th>budget</th>\n",
              "      <th>physician-fee-freeze</th>\n",
              "      <th>el-salvador-aid</th>\n",
              "      <th>religious-groups</th>\n",
              "      <th>anti-satellite-ban</th>\n",
              "      <th>aid-to-contras</th>\n",
              "      <th>mx-missile</th>\n",
              "      <th>immigration</th>\n",
              "      <th>synfuels</th>\n",
              "      <th>education</th>\n",
              "      <th>right-to-sue</th>\n",
              "      <th>crime</th>\n",
              "      <th>duty-free</th>\n",
              "      <th>south-africa</th>\n",
              "    </tr>\n",
              "  </thead>\n",
              "  <tbody>\n",
              "    <tr>\n",
              "      <th>0</th>\n",
              "      <td>republican</td>\n",
              "      <td>n</td>\n",
              "      <td>y</td>\n",
              "      <td>n</td>\n",
              "      <td>y</td>\n",
              "      <td>y</td>\n",
              "      <td>y</td>\n",
              "      <td>n</td>\n",
              "      <td>n</td>\n",
              "      <td>n</td>\n",
              "      <td>y</td>\n",
              "      <td>?</td>\n",
              "      <td>y</td>\n",
              "      <td>y</td>\n",
              "      <td>y</td>\n",
              "      <td>n</td>\n",
              "      <td>y</td>\n",
              "    </tr>\n",
              "    <tr>\n",
              "      <th>1</th>\n",
              "      <td>republican</td>\n",
              "      <td>n</td>\n",
              "      <td>y</td>\n",
              "      <td>n</td>\n",
              "      <td>y</td>\n",
              "      <td>y</td>\n",
              "      <td>y</td>\n",
              "      <td>n</td>\n",
              "      <td>n</td>\n",
              "      <td>n</td>\n",
              "      <td>n</td>\n",
              "      <td>n</td>\n",
              "      <td>y</td>\n",
              "      <td>y</td>\n",
              "      <td>y</td>\n",
              "      <td>n</td>\n",
              "      <td>?</td>\n",
              "    </tr>\n",
              "    <tr>\n",
              "      <th>2</th>\n",
              "      <td>democrat</td>\n",
              "      <td>?</td>\n",
              "      <td>y</td>\n",
              "      <td>y</td>\n",
              "      <td>?</td>\n",
              "      <td>y</td>\n",
              "      <td>y</td>\n",
              "      <td>n</td>\n",
              "      <td>n</td>\n",
              "      <td>n</td>\n",
              "      <td>n</td>\n",
              "      <td>y</td>\n",
              "      <td>n</td>\n",
              "      <td>y</td>\n",
              "      <td>y</td>\n",
              "      <td>n</td>\n",
              "      <td>n</td>\n",
              "    </tr>\n",
              "    <tr>\n",
              "      <th>3</th>\n",
              "      <td>democrat</td>\n",
              "      <td>n</td>\n",
              "      <td>y</td>\n",
              "      <td>y</td>\n",
              "      <td>n</td>\n",
              "      <td>?</td>\n",
              "      <td>y</td>\n",
              "      <td>n</td>\n",
              "      <td>n</td>\n",
              "      <td>n</td>\n",
              "      <td>n</td>\n",
              "      <td>y</td>\n",
              "      <td>n</td>\n",
              "      <td>y</td>\n",
              "      <td>n</td>\n",
              "      <td>n</td>\n",
              "      <td>y</td>\n",
              "    </tr>\n",
              "    <tr>\n",
              "      <th>4</th>\n",
              "      <td>democrat</td>\n",
              "      <td>y</td>\n",
              "      <td>y</td>\n",
              "      <td>y</td>\n",
              "      <td>n</td>\n",
              "      <td>y</td>\n",
              "      <td>y</td>\n",
              "      <td>n</td>\n",
              "      <td>n</td>\n",
              "      <td>n</td>\n",
              "      <td>n</td>\n",
              "      <td>y</td>\n",
              "      <td>?</td>\n",
              "      <td>y</td>\n",
              "      <td>y</td>\n",
              "      <td>y</td>\n",
              "      <td>y</td>\n",
              "    </tr>\n",
              "  </tbody>\n",
              "</table>\n",
              "</div>"
            ],
            "text/plain": [
              "        party handicapped-infants water-project  ... crime duty-free south-africa\n",
              "0  republican                   n             y  ...     y         n            y\n",
              "1  republican                   n             y  ...     y         n            ?\n",
              "2    democrat                   ?             y  ...     y         n            n\n",
              "3    democrat                   n             y  ...     n         n            y\n",
              "4    democrat                   y             y  ...     y         y            y\n",
              "\n",
              "[5 rows x 17 columns]"
            ]
          },
          "metadata": {
            "tags": []
          },
          "execution_count": 5
        }
      ]
    },
    {
      "cell_type": "code",
      "metadata": {
        "id": "dQVFYmVslqPZ",
        "colab_type": "code",
        "colab": {
          "base_uri": "https://localhost:8080/",
          "height": 35
        },
        "outputId": "163634a8-af1d-4c27-e2c5-891495abd4f9"
      },
      "source": [
        "# Let's have a look at our data\n",
        "df.shape"
      ],
      "execution_count": 7,
      "outputs": [
        {
          "output_type": "execute_result",
          "data": {
            "text/plain": [
              "(435, 17)"
            ]
          },
          "metadata": {
            "tags": []
          },
          "execution_count": 7
        }
      ]
    },
    {
      "cell_type": "code",
      "metadata": {
        "id": "klMdWFaqH33A",
        "colab_type": "code",
        "outputId": "50912038-7400-464c-cc4d-47f69e7f507e",
        "colab": {
          "base_uri": "https://localhost:8080/",
          "height": 72
        }
      },
      "source": [
        "# Common sense tells us that the first column should consist of two values -- parties. \n",
        "## And yes, our assumption is correct\n",
        "df['party'].value_counts()"
      ],
      "execution_count": 8,
      "outputs": [
        {
          "output_type": "execute_result",
          "data": {
            "text/plain": [
              "democrat      267\n",
              "republican    168\n",
              "Name: party, dtype: int64"
            ]
          },
          "metadata": {
            "tags": []
          },
          "execution_count": 8
        }
      ]
    },
    {
      "cell_type": "code",
      "metadata": {
        "id": "PqyIrqDsIqC0",
        "colab_type": "code",
        "outputId": "9e842e41-d225-459c-ca21-3bc0b33a6e81",
        "colab": {
          "base_uri": "https://localhost:8080/",
          "height": 253
        }
      },
      "source": [
        "# I perform some categorical encoding to replace string values 'y' and 'n' with numeric equivalents, and replace '?' with a Nan\n",
        "df = df.replace({'y' : 1, 'n' : 0, '?' : np.NaN})\n",
        "df.head()"
      ],
      "execution_count": 9,
      "outputs": [
        {
          "output_type": "execute_result",
          "data": {
            "text/html": [
              "<div>\n",
              "<style scoped>\n",
              "    .dataframe tbody tr th:only-of-type {\n",
              "        vertical-align: middle;\n",
              "    }\n",
              "\n",
              "    .dataframe tbody tr th {\n",
              "        vertical-align: top;\n",
              "    }\n",
              "\n",
              "    .dataframe thead th {\n",
              "        text-align: right;\n",
              "    }\n",
              "</style>\n",
              "<table border=\"1\" class=\"dataframe\">\n",
              "  <thead>\n",
              "    <tr style=\"text-align: right;\">\n",
              "      <th></th>\n",
              "      <th>party</th>\n",
              "      <th>handicapped-infants</th>\n",
              "      <th>water-project</th>\n",
              "      <th>budget</th>\n",
              "      <th>physician-fee-freeze</th>\n",
              "      <th>el-salvador-aid</th>\n",
              "      <th>religious-groups</th>\n",
              "      <th>anti-satellite-ban</th>\n",
              "      <th>aid-to-contras</th>\n",
              "      <th>mx-missile</th>\n",
              "      <th>immigration</th>\n",
              "      <th>synfuels</th>\n",
              "      <th>education</th>\n",
              "      <th>right-to-sue</th>\n",
              "      <th>crime</th>\n",
              "      <th>duty-free</th>\n",
              "      <th>south-africa</th>\n",
              "    </tr>\n",
              "  </thead>\n",
              "  <tbody>\n",
              "    <tr>\n",
              "      <th>0</th>\n",
              "      <td>republican</td>\n",
              "      <td>0.0</td>\n",
              "      <td>1.0</td>\n",
              "      <td>0.0</td>\n",
              "      <td>1.0</td>\n",
              "      <td>1.0</td>\n",
              "      <td>1.0</td>\n",
              "      <td>0.0</td>\n",
              "      <td>0.0</td>\n",
              "      <td>0.0</td>\n",
              "      <td>1.0</td>\n",
              "      <td>NaN</td>\n",
              "      <td>1.0</td>\n",
              "      <td>1.0</td>\n",
              "      <td>1.0</td>\n",
              "      <td>0.0</td>\n",
              "      <td>1.0</td>\n",
              "    </tr>\n",
              "    <tr>\n",
              "      <th>1</th>\n",
              "      <td>republican</td>\n",
              "      <td>0.0</td>\n",
              "      <td>1.0</td>\n",
              "      <td>0.0</td>\n",
              "      <td>1.0</td>\n",
              "      <td>1.0</td>\n",
              "      <td>1.0</td>\n",
              "      <td>0.0</td>\n",
              "      <td>0.0</td>\n",
              "      <td>0.0</td>\n",
              "      <td>0.0</td>\n",
              "      <td>0.0</td>\n",
              "      <td>1.0</td>\n",
              "      <td>1.0</td>\n",
              "      <td>1.0</td>\n",
              "      <td>0.0</td>\n",
              "      <td>NaN</td>\n",
              "    </tr>\n",
              "    <tr>\n",
              "      <th>2</th>\n",
              "      <td>democrat</td>\n",
              "      <td>NaN</td>\n",
              "      <td>1.0</td>\n",
              "      <td>1.0</td>\n",
              "      <td>NaN</td>\n",
              "      <td>1.0</td>\n",
              "      <td>1.0</td>\n",
              "      <td>0.0</td>\n",
              "      <td>0.0</td>\n",
              "      <td>0.0</td>\n",
              "      <td>0.0</td>\n",
              "      <td>1.0</td>\n",
              "      <td>0.0</td>\n",
              "      <td>1.0</td>\n",
              "      <td>1.0</td>\n",
              "      <td>0.0</td>\n",
              "      <td>0.0</td>\n",
              "    </tr>\n",
              "    <tr>\n",
              "      <th>3</th>\n",
              "      <td>democrat</td>\n",
              "      <td>0.0</td>\n",
              "      <td>1.0</td>\n",
              "      <td>1.0</td>\n",
              "      <td>0.0</td>\n",
              "      <td>NaN</td>\n",
              "      <td>1.0</td>\n",
              "      <td>0.0</td>\n",
              "      <td>0.0</td>\n",
              "      <td>0.0</td>\n",
              "      <td>0.0</td>\n",
              "      <td>1.0</td>\n",
              "      <td>0.0</td>\n",
              "      <td>1.0</td>\n",
              "      <td>0.0</td>\n",
              "      <td>0.0</td>\n",
              "      <td>1.0</td>\n",
              "    </tr>\n",
              "    <tr>\n",
              "      <th>4</th>\n",
              "      <td>democrat</td>\n",
              "      <td>1.0</td>\n",
              "      <td>1.0</td>\n",
              "      <td>1.0</td>\n",
              "      <td>0.0</td>\n",
              "      <td>1.0</td>\n",
              "      <td>1.0</td>\n",
              "      <td>0.0</td>\n",
              "      <td>0.0</td>\n",
              "      <td>0.0</td>\n",
              "      <td>0.0</td>\n",
              "      <td>1.0</td>\n",
              "      <td>NaN</td>\n",
              "      <td>1.0</td>\n",
              "      <td>1.0</td>\n",
              "      <td>1.0</td>\n",
              "      <td>1.0</td>\n",
              "    </tr>\n",
              "  </tbody>\n",
              "</table>\n",
              "</div>"
            ],
            "text/plain": [
              "        party  handicapped-infants  ...  duty-free  south-africa\n",
              "0  republican                  0.0  ...        0.0           1.0\n",
              "1  republican                  0.0  ...        0.0           NaN\n",
              "2    democrat                  NaN  ...        0.0           0.0\n",
              "3    democrat                  0.0  ...        0.0           1.0\n",
              "4    democrat                  1.0  ...        1.0           1.0\n",
              "\n",
              "[5 rows x 17 columns]"
            ]
          },
          "metadata": {
            "tags": []
          },
          "execution_count": 9
        }
      ]
    },
    {
      "cell_type": "code",
      "metadata": {
        "id": "6IOwLOS_KWH2",
        "colab_type": "code",
        "colab": {}
      },
      "source": [
        "# Before testing amy hypothesies I divide the dataframe into two, making two party-homogeneous sets\n",
        "dem = df[df['party'] == 'democrat']\n",
        "rep = df[df['party'] == 'republican']"
      ],
      "execution_count": 0,
      "outputs": []
    },
    {
      "cell_type": "code",
      "metadata": {
        "id": "BHheac3cnecG",
        "colab_type": "code",
        "colab": {}
      },
      "source": [
        "# I need another library to perform testing\n",
        "from scipy import stats"
      ],
      "execution_count": 0,
      "outputs": []
    },
    {
      "cell_type": "code",
      "metadata": {
        "id": "pbuNfhy9f5DO",
        "colab_type": "code",
        "outputId": "7157da2c-a730-46ed-8b37-7e4821a271d7",
        "colab": {
          "base_uri": "https://localhost:8080/",
          "height": 54
        }
      },
      "source": [
        "# Let's have a closer look at the 'relegious-groups' bill. \n",
        "# I suggest the bill content might be devisive for republicans and democrats.\n",
        "## First I count the column means to find out the number of members supported the bill\n",
        "print(rep['religious-groups'].mean())\n",
        "print(dem['religious-groups'].mean())\n",
        "\n",
        "## Just from these two figures we can say that republicans show greater support to the bill \n",
        "#(especially given their smaller number in the house of reps)"
      ],
      "execution_count": 13,
      "outputs": [
        {
          "output_type": "stream",
          "text": [
            "0.8975903614457831\n",
            "0.47674418604651164\n"
          ],
          "name": "stdout"
        }
      ]
    },
    {
      "cell_type": "markdown",
      "metadata": {
        "id": "SSKo9OcD4J3E",
        "colab_type": "text"
      },
      "source": [
        "Testing parameters\n",
        "\n",
        "1) My **Null Hypothesis (NH) is:** the support for 'relegious groups' bill is equal from both republicans and democrats\n",
        "\n",
        "Sample means of the two samples should be equal\n",
        "\n",
        "2) **Alternative Hypothesis (AH)**: Support is different\n",
        "\n",
        "3) Confidence Level (CL): **99%**\n",
        "\n",
        "\n",
        "*What I want to find out is who's support is greater and to what extent*"
      ]
    },
    {
      "cell_type": "code",
      "metadata": {
        "id": "J1_vdMOIliaY",
        "colab_type": "code",
        "outputId": "7c0217ac-0c5a-493f-b4e5-b186a7c3ad97",
        "colab": {
          "base_uri": "https://localhost:8080/",
          "height": 35
        }
      },
      "source": [
        "# Now I perform the test\n",
        "# Wow, my pvalue is really small,  and I'm affraid we have to reject our NH\n",
        "## Also, statistics is negative, it proves greater support from republicans\n",
        "stats.ttest_ind(dem['religious-groups'], rep['religious-groups'], nan_policy='omit')"
      ],
      "execution_count": 14,
      "outputs": [
        {
          "output_type": "execute_result",
          "data": {
            "text/plain": [
              "Ttest_indResult(statistic=-9.737575825219457, pvalue=2.3936722520597287e-20)"
            ]
          },
          "metadata": {
            "tags": []
          },
          "execution_count": 14
        }
      ]
    },
    {
      "cell_type": "code",
      "metadata": {
        "colab_type": "code",
        "outputId": "86a30b73-f731-42ec-a991-22fb1779f7d7",
        "id": "Rt7XOUA-m2NC",
        "colab": {
          "base_uri": "https://localhost:8080/",
          "height": 35
        }
      },
      "source": [
        "# let's test another bill with the same NH, AH and CL\n",
        "## We get pvalue = 0.08 > 0.01, and we fail to regect our NH\n",
        "stats.ttest_ind(dem['immigration'], rep['immigration'], nan_policy='omit')"
      ],
      "execution_count": 15,
      "outputs": [
        {
          "output_type": "execute_result",
          "data": {
            "text/plain": [
              "Ttest_indResult(statistic=-1.7359117329695164, pvalue=0.08330248490425066)"
            ]
          },
          "metadata": {
            "tags": []
          },
          "execution_count": 15
        }
      ]
    },
    {
      "cell_type": "code",
      "metadata": {
        "id": "1jViZc7htv0T",
        "colab_type": "code",
        "colab": {
          "base_uri": "https://localhost:8080/",
          "height": 54
        },
        "outputId": "c9b014c0-7240-4ef7-d723-134f65d33436"
      },
      "source": [
        "# I want to check the means to be sure\n",
        "## Not so different indeed. \n",
        "print(dem['immigration'].mean())\n",
        "print(rep['immigration'].mean())"
      ],
      "execution_count": 16,
      "outputs": [
        {
          "output_type": "stream",
          "text": [
            "0.4714828897338403\n",
            "0.5575757575757576\n"
          ],
          "name": "stdout"
        }
      ]
    },
    {
      "cell_type": "code",
      "metadata": {
        "id": "oLLqrNENuNXM",
        "colab_type": "code",
        "colab": {}
      },
      "source": [
        "# What if I don't want to test every bill manually, but rather get a complete picture of support in one place?\n",
        "## I create a new dataframe with columns showing each bill ttest results and also mean values for democrats and republicans"
      ],
      "execution_count": 0,
      "outputs": []
    },
    {
      "cell_type": "code",
      "metadata": {
        "id": "2adcYnCAr7IQ",
        "colab_type": "code",
        "outputId": "a237e41a-3fda-41e5-b510-22a6d188725d",
        "colab": {
          "base_uri": "https://localhost:8080/",
          "height": 890
        }
      },
      "source": [
        "ttests_results = pd.DataFrame(columns = ['bills', 'stats','pval', 'dem_mean', 'rep_mean'])\n",
        "for x in column_headers[1:]:\n",
        "  a = stats.ttest_ind(dem[x], rep[x], nan_policy='omit')\n",
        "  print(a)\n",
        "  print()\n",
        "  print(rep[x].mean())\n",
        "  ttests_results = ttests_results.append({'bills':x, 'stats':a.statistic, \n",
        "                         'pval': a.pvalue, 'dem_mean':dem[x].mean(), \n",
        "                         'rep_mean':rep[x].mean()}, ignore_index=True)\n",
        "\n",
        "\n",
        " "
      ],
      "execution_count": 17,
      "outputs": [
        {
          "output_type": "stream",
          "text": [
            "Ttest_indResult(statistic=9.205264294809222, pvalue=1.613440327937243e-18)\n",
            "\n",
            "0.18787878787878787\n",
            "Ttest_indResult(statistic=-0.08896538137868286, pvalue=0.9291556823993485)\n",
            "\n",
            "0.5067567567567568\n",
            "Ttest_indResult(statistic=23.21277691701378, pvalue=2.0703402795404463e-77)\n",
            "\n",
            "0.13414634146341464\n",
            "Ttest_indResult(statistic=-49.36708157301406, pvalue=1.994262314074344e-177)\n",
            "\n",
            "0.9878787878787879\n",
            "Ttest_indResult(statistic=-21.13669261173219, pvalue=5.600520111729011e-68)\n",
            "\n",
            "0.9515151515151515\n",
            "Ttest_indResult(statistic=-9.737575825219457, pvalue=2.3936722520597287e-20)\n",
            "\n",
            "0.8975903614457831\n",
            "Ttest_indResult(statistic=12.526187929077842, pvalue=8.521033017443867e-31)\n",
            "\n",
            "0.24074074074074073\n",
            "Ttest_indResult(statistic=18.052093200819733, pvalue=2.82471841372357e-54)\n",
            "\n",
            "0.15286624203821655\n",
            "Ttest_indResult(statistic=16.437503268542994, pvalue=5.03079265310811e-47)\n",
            "\n",
            "0.11515151515151516\n",
            "Ttest_indResult(statistic=-1.7359117329695164, pvalue=0.08330248490425066)\n",
            "\n",
            "0.5575757575757576\n",
            "Ttest_indResult(statistic=8.293603989407588, pvalue=1.5759322301054064e-15)\n",
            "\n",
            "0.1320754716981132\n",
            "Ttest_indResult(statistic=-20.500685724563073, pvalue=1.8834203990450192e-64)\n",
            "\n",
            "0.8709677419354839\n",
            "Ttest_indResult(statistic=-13.51064251060933, pvalue=1.2278581709672758e-34)\n",
            "\n",
            "0.8607594936708861\n",
            "Ttest_indResult(statistic=-16.342085656197696, pvalue=9.952342705606092e-47)\n",
            "\n",
            "0.9813664596273292\n",
            "Ttest_indResult(statistic=12.853146132542978, pvalue=5.997697174347365e-32)\n",
            "\n",
            "0.08974358974358974\n",
            "Ttest_indResult(statistic=6.849454815841208, pvalue=3.652674361672226e-11)\n",
            "\n",
            "0.6575342465753424\n"
          ],
          "name": "stdout"
        }
      ]
    },
    {
      "cell_type": "code",
      "metadata": {
        "id": "qLCOS2uYu-r9",
        "colab_type": "code",
        "colab": {
          "base_uri": "https://localhost:8080/",
          "height": 528
        },
        "outputId": "6caf2c4a-f080-4383-8828-4d77b9dd0fbd"
      },
      "source": [
        "# And I want it to look beautiful here\n",
        "ttests_results"
      ],
      "execution_count": 18,
      "outputs": [
        {
          "output_type": "execute_result",
          "data": {
            "text/html": [
              "<div>\n",
              "<style scoped>\n",
              "    .dataframe tbody tr th:only-of-type {\n",
              "        vertical-align: middle;\n",
              "    }\n",
              "\n",
              "    .dataframe tbody tr th {\n",
              "        vertical-align: top;\n",
              "    }\n",
              "\n",
              "    .dataframe thead th {\n",
              "        text-align: right;\n",
              "    }\n",
              "</style>\n",
              "<table border=\"1\" class=\"dataframe\">\n",
              "  <thead>\n",
              "    <tr style=\"text-align: right;\">\n",
              "      <th></th>\n",
              "      <th>bills</th>\n",
              "      <th>stats</th>\n",
              "      <th>pval</th>\n",
              "      <th>dem_mean</th>\n",
              "      <th>rep_mean</th>\n",
              "    </tr>\n",
              "  </thead>\n",
              "  <tbody>\n",
              "    <tr>\n",
              "      <th>0</th>\n",
              "      <td>handicapped-infants</td>\n",
              "      <td>9.205264</td>\n",
              "      <td>1.613440e-18</td>\n",
              "      <td>0.604651</td>\n",
              "      <td>0.187879</td>\n",
              "    </tr>\n",
              "    <tr>\n",
              "      <th>1</th>\n",
              "      <td>water-project</td>\n",
              "      <td>-0.088965</td>\n",
              "      <td>9.291557e-01</td>\n",
              "      <td>0.502092</td>\n",
              "      <td>0.506757</td>\n",
              "    </tr>\n",
              "    <tr>\n",
              "      <th>2</th>\n",
              "      <td>budget</td>\n",
              "      <td>23.212777</td>\n",
              "      <td>2.070340e-77</td>\n",
              "      <td>0.888462</td>\n",
              "      <td>0.134146</td>\n",
              "    </tr>\n",
              "    <tr>\n",
              "      <th>3</th>\n",
              "      <td>physician-fee-freeze</td>\n",
              "      <td>-49.367082</td>\n",
              "      <td>1.994262e-177</td>\n",
              "      <td>0.054054</td>\n",
              "      <td>0.987879</td>\n",
              "    </tr>\n",
              "    <tr>\n",
              "      <th>4</th>\n",
              "      <td>el-salvador-aid</td>\n",
              "      <td>-21.136693</td>\n",
              "      <td>5.600520e-68</td>\n",
              "      <td>0.215686</td>\n",
              "      <td>0.951515</td>\n",
              "    </tr>\n",
              "    <tr>\n",
              "      <th>5</th>\n",
              "      <td>religious-groups</td>\n",
              "      <td>-9.737576</td>\n",
              "      <td>2.393672e-20</td>\n",
              "      <td>0.476744</td>\n",
              "      <td>0.897590</td>\n",
              "    </tr>\n",
              "    <tr>\n",
              "      <th>6</th>\n",
              "      <td>anti-satellite-ban</td>\n",
              "      <td>12.526188</td>\n",
              "      <td>8.521033e-31</td>\n",
              "      <td>0.772201</td>\n",
              "      <td>0.240741</td>\n",
              "    </tr>\n",
              "    <tr>\n",
              "      <th>7</th>\n",
              "      <td>aid-to-contras</td>\n",
              "      <td>18.052093</td>\n",
              "      <td>2.824718e-54</td>\n",
              "      <td>0.828897</td>\n",
              "      <td>0.152866</td>\n",
              "    </tr>\n",
              "    <tr>\n",
              "      <th>8</th>\n",
              "      <td>mx-missile</td>\n",
              "      <td>16.437503</td>\n",
              "      <td>5.030793e-47</td>\n",
              "      <td>0.758065</td>\n",
              "      <td>0.115152</td>\n",
              "    </tr>\n",
              "    <tr>\n",
              "      <th>9</th>\n",
              "      <td>immigration</td>\n",
              "      <td>-1.735912</td>\n",
              "      <td>8.330248e-02</td>\n",
              "      <td>0.471483</td>\n",
              "      <td>0.557576</td>\n",
              "    </tr>\n",
              "    <tr>\n",
              "      <th>10</th>\n",
              "      <td>synfuels</td>\n",
              "      <td>8.293604</td>\n",
              "      <td>1.575932e-15</td>\n",
              "      <td>0.505882</td>\n",
              "      <td>0.132075</td>\n",
              "    </tr>\n",
              "    <tr>\n",
              "      <th>11</th>\n",
              "      <td>education</td>\n",
              "      <td>-20.500686</td>\n",
              "      <td>1.883420e-64</td>\n",
              "      <td>0.144578</td>\n",
              "      <td>0.870968</td>\n",
              "    </tr>\n",
              "    <tr>\n",
              "      <th>12</th>\n",
              "      <td>right-to-sue</td>\n",
              "      <td>-13.510643</td>\n",
              "      <td>1.227858e-34</td>\n",
              "      <td>0.289683</td>\n",
              "      <td>0.860759</td>\n",
              "    </tr>\n",
              "    <tr>\n",
              "      <th>13</th>\n",
              "      <td>crime</td>\n",
              "      <td>-16.342086</td>\n",
              "      <td>9.952343e-47</td>\n",
              "      <td>0.350195</td>\n",
              "      <td>0.981366</td>\n",
              "    </tr>\n",
              "    <tr>\n",
              "      <th>14</th>\n",
              "      <td>duty-free</td>\n",
              "      <td>12.853146</td>\n",
              "      <td>5.997697e-32</td>\n",
              "      <td>0.637450</td>\n",
              "      <td>0.089744</td>\n",
              "    </tr>\n",
              "    <tr>\n",
              "      <th>15</th>\n",
              "      <td>south-africa</td>\n",
              "      <td>6.849455</td>\n",
              "      <td>3.652674e-11</td>\n",
              "      <td>0.935135</td>\n",
              "      <td>0.657534</td>\n",
              "    </tr>\n",
              "  </tbody>\n",
              "</table>\n",
              "</div>"
            ],
            "text/plain": [
              "                   bills      stats           pval  dem_mean  rep_mean\n",
              "0    handicapped-infants   9.205264   1.613440e-18  0.604651  0.187879\n",
              "1          water-project  -0.088965   9.291557e-01  0.502092  0.506757\n",
              "2                 budget  23.212777   2.070340e-77  0.888462  0.134146\n",
              "3   physician-fee-freeze -49.367082  1.994262e-177  0.054054  0.987879\n",
              "4        el-salvador-aid -21.136693   5.600520e-68  0.215686  0.951515\n",
              "5       religious-groups  -9.737576   2.393672e-20  0.476744  0.897590\n",
              "6     anti-satellite-ban  12.526188   8.521033e-31  0.772201  0.240741\n",
              "7         aid-to-contras  18.052093   2.824718e-54  0.828897  0.152866\n",
              "8             mx-missile  16.437503   5.030793e-47  0.758065  0.115152\n",
              "9            immigration  -1.735912   8.330248e-02  0.471483  0.557576\n",
              "10              synfuels   8.293604   1.575932e-15  0.505882  0.132075\n",
              "11             education -20.500686   1.883420e-64  0.144578  0.870968\n",
              "12          right-to-sue -13.510643   1.227858e-34  0.289683  0.860759\n",
              "13                 crime -16.342086   9.952343e-47  0.350195  0.981366\n",
              "14             duty-free  12.853146   5.997697e-32  0.637450  0.089744\n",
              "15          south-africa   6.849455   3.652674e-11  0.935135  0.657534"
            ]
          },
          "metadata": {
            "tags": []
          },
          "execution_count": 18
        }
      ]
    },
    {
      "cell_type": "code",
      "metadata": {
        "id": "nSj7s66AvVRE",
        "colab_type": "code",
        "colab": {
          "base_uri": "https://localhost:8080/",
          "height": 108
        },
        "outputId": "e0249d09-b0aa-4623-ed90-3c5d839b4dab"
      },
      "source": [
        "#Let's sort this new df in search for the least controversial bills\n",
        "## I create a condition to check: 'waterproject' and 'immigration'(what a surprise!) are equally supported bills\n",
        "pvals = ttests_results['pval']>0.01\n",
        "ttests_results[pvals].head()"
      ],
      "execution_count": 35,
      "outputs": [
        {
          "output_type": "execute_result",
          "data": {
            "text/html": [
              "<div>\n",
              "<style scoped>\n",
              "    .dataframe tbody tr th:only-of-type {\n",
              "        vertical-align: middle;\n",
              "    }\n",
              "\n",
              "    .dataframe tbody tr th {\n",
              "        vertical-align: top;\n",
              "    }\n",
              "\n",
              "    .dataframe thead th {\n",
              "        text-align: right;\n",
              "    }\n",
              "</style>\n",
              "<table border=\"1\" class=\"dataframe\">\n",
              "  <thead>\n",
              "    <tr style=\"text-align: right;\">\n",
              "      <th></th>\n",
              "      <th>bills</th>\n",
              "      <th>stats</th>\n",
              "      <th>pval</th>\n",
              "      <th>dem_mean</th>\n",
              "      <th>rep_mean</th>\n",
              "    </tr>\n",
              "  </thead>\n",
              "  <tbody>\n",
              "    <tr>\n",
              "      <th>1</th>\n",
              "      <td>water-project</td>\n",
              "      <td>-0.088965</td>\n",
              "      <td>0.929156</td>\n",
              "      <td>0.502092</td>\n",
              "      <td>0.506757</td>\n",
              "    </tr>\n",
              "    <tr>\n",
              "      <th>9</th>\n",
              "      <td>immigration</td>\n",
              "      <td>-1.735912</td>\n",
              "      <td>0.083302</td>\n",
              "      <td>0.471483</td>\n",
              "      <td>0.557576</td>\n",
              "    </tr>\n",
              "  </tbody>\n",
              "</table>\n",
              "</div>"
            ],
            "text/plain": [
              "           bills     stats      pval  dem_mean  rep_mean\n",
              "1  water-project -0.088965  0.929156  0.502092  0.506757\n",
              "9    immigration -1.735912  0.083302  0.471483  0.557576"
            ]
          },
          "metadata": {
            "tags": []
          },
          "execution_count": 35
        }
      ]
    },
    {
      "cell_type": "code",
      "metadata": {
        "id": "VvQEdSu6CGDH",
        "colab_type": "code",
        "colab": {}
      },
      "source": [
        "# As long as I put democrats first in my test, all positive statistic values show us \n",
        "# that democratic support of that particular bill prevails "
      ],
      "execution_count": 0,
      "outputs": []
    },
    {
      "cell_type": "code",
      "metadata": {
        "id": "WjWe761pvx09",
        "colab_type": "code",
        "colab": {
          "base_uri": "https://localhost:8080/",
          "height": 326
        },
        "outputId": "0eb15c35-c13d-4bff-ebde-5d547b6eb69e"
      },
      "source": [
        "#I write another condition to find out positive stats values and at the same time filtering it by p value\n",
        "stats_dem = (ttests_results['stats']>0) & (ttests_results['pval']<0.01)\n",
        "stats_dem"
      ],
      "execution_count": 33,
      "outputs": [
        {
          "output_type": "execute_result",
          "data": {
            "text/plain": [
              "0      True\n",
              "1     False\n",
              "2      True\n",
              "3     False\n",
              "4     False\n",
              "5     False\n",
              "6      True\n",
              "7      True\n",
              "8      True\n",
              "9     False\n",
              "10     True\n",
              "11    False\n",
              "12    False\n",
              "13    False\n",
              "14     True\n",
              "15     True\n",
              "dtype: bool"
            ]
          },
          "metadata": {
            "tags": []
          },
          "execution_count": 33
        }
      ]
    },
    {
      "cell_type": "code",
      "metadata": {
        "id": "sbPz8SwTEKuQ",
        "colab_type": "code",
        "colab": {
          "base_uri": "https://localhost:8080/",
          "height": 198
        },
        "outputId": "06763e6a-d265-40c5-fef7-f27f396b557a"
      },
      "source": [
        "# These bills are supported by democrats in a larger extent then by republicans \n",
        "ttests_results[stats_dem].head()"
      ],
      "execution_count": 34,
      "outputs": [
        {
          "output_type": "execute_result",
          "data": {
            "text/html": [
              "<div>\n",
              "<style scoped>\n",
              "    .dataframe tbody tr th:only-of-type {\n",
              "        vertical-align: middle;\n",
              "    }\n",
              "\n",
              "    .dataframe tbody tr th {\n",
              "        vertical-align: top;\n",
              "    }\n",
              "\n",
              "    .dataframe thead th {\n",
              "        text-align: right;\n",
              "    }\n",
              "</style>\n",
              "<table border=\"1\" class=\"dataframe\">\n",
              "  <thead>\n",
              "    <tr style=\"text-align: right;\">\n",
              "      <th></th>\n",
              "      <th>bills</th>\n",
              "      <th>stats</th>\n",
              "      <th>pval</th>\n",
              "      <th>dem_mean</th>\n",
              "      <th>rep_mean</th>\n",
              "    </tr>\n",
              "  </thead>\n",
              "  <tbody>\n",
              "    <tr>\n",
              "      <th>0</th>\n",
              "      <td>handicapped-infants</td>\n",
              "      <td>9.205264</td>\n",
              "      <td>1.613440e-18</td>\n",
              "      <td>0.604651</td>\n",
              "      <td>0.187879</td>\n",
              "    </tr>\n",
              "    <tr>\n",
              "      <th>2</th>\n",
              "      <td>budget</td>\n",
              "      <td>23.212777</td>\n",
              "      <td>2.070340e-77</td>\n",
              "      <td>0.888462</td>\n",
              "      <td>0.134146</td>\n",
              "    </tr>\n",
              "    <tr>\n",
              "      <th>6</th>\n",
              "      <td>anti-satellite-ban</td>\n",
              "      <td>12.526188</td>\n",
              "      <td>8.521033e-31</td>\n",
              "      <td>0.772201</td>\n",
              "      <td>0.240741</td>\n",
              "    </tr>\n",
              "    <tr>\n",
              "      <th>7</th>\n",
              "      <td>aid-to-contras</td>\n",
              "      <td>18.052093</td>\n",
              "      <td>2.824718e-54</td>\n",
              "      <td>0.828897</td>\n",
              "      <td>0.152866</td>\n",
              "    </tr>\n",
              "    <tr>\n",
              "      <th>8</th>\n",
              "      <td>mx-missile</td>\n",
              "      <td>16.437503</td>\n",
              "      <td>5.030793e-47</td>\n",
              "      <td>0.758065</td>\n",
              "      <td>0.115152</td>\n",
              "    </tr>\n",
              "  </tbody>\n",
              "</table>\n",
              "</div>"
            ],
            "text/plain": [
              "                 bills      stats          pval  dem_mean  rep_mean\n",
              "0  handicapped-infants   9.205264  1.613440e-18  0.604651  0.187879\n",
              "2               budget  23.212777  2.070340e-77  0.888462  0.134146\n",
              "6   anti-satellite-ban  12.526188  8.521033e-31  0.772201  0.240741\n",
              "7       aid-to-contras  18.052093  2.824718e-54  0.828897  0.152866\n",
              "8           mx-missile  16.437503  5.030793e-47  0.758065  0.115152"
            ]
          },
          "metadata": {
            "tags": []
          },
          "execution_count": 34
        }
      ]
    },
    {
      "cell_type": "code",
      "metadata": {
        "id": "EFVyXkEuHyqt",
        "colab_type": "code",
        "colab": {
          "base_uri": "https://localhost:8080/",
          "height": 198
        },
        "outputId": "0536ec6b-b1f2-4df3-9c29-1b00a03368b6"
      },
      "source": [
        "# I am going to do the same for republican support;\n",
        "# now we search for negative stats and p value<0.01\n",
        "stats_rep = (ttests_results['stats']<0) & (ttests_results['pval']<0.01)\n",
        "ttests_results[stats_rep].head()"
      ],
      "execution_count": 32,
      "outputs": [
        {
          "output_type": "execute_result",
          "data": {
            "text/html": [
              "<div>\n",
              "<style scoped>\n",
              "    .dataframe tbody tr th:only-of-type {\n",
              "        vertical-align: middle;\n",
              "    }\n",
              "\n",
              "    .dataframe tbody tr th {\n",
              "        vertical-align: top;\n",
              "    }\n",
              "\n",
              "    .dataframe thead th {\n",
              "        text-align: right;\n",
              "    }\n",
              "</style>\n",
              "<table border=\"1\" class=\"dataframe\">\n",
              "  <thead>\n",
              "    <tr style=\"text-align: right;\">\n",
              "      <th></th>\n",
              "      <th>bills</th>\n",
              "      <th>stats</th>\n",
              "      <th>pval</th>\n",
              "      <th>dem_mean</th>\n",
              "      <th>rep_mean</th>\n",
              "    </tr>\n",
              "  </thead>\n",
              "  <tbody>\n",
              "    <tr>\n",
              "      <th>3</th>\n",
              "      <td>physician-fee-freeze</td>\n",
              "      <td>-49.367082</td>\n",
              "      <td>1.994262e-177</td>\n",
              "      <td>0.054054</td>\n",
              "      <td>0.987879</td>\n",
              "    </tr>\n",
              "    <tr>\n",
              "      <th>4</th>\n",
              "      <td>el-salvador-aid</td>\n",
              "      <td>-21.136693</td>\n",
              "      <td>5.600520e-68</td>\n",
              "      <td>0.215686</td>\n",
              "      <td>0.951515</td>\n",
              "    </tr>\n",
              "    <tr>\n",
              "      <th>5</th>\n",
              "      <td>religious-groups</td>\n",
              "      <td>-9.737576</td>\n",
              "      <td>2.393672e-20</td>\n",
              "      <td>0.476744</td>\n",
              "      <td>0.897590</td>\n",
              "    </tr>\n",
              "    <tr>\n",
              "      <th>11</th>\n",
              "      <td>education</td>\n",
              "      <td>-20.500686</td>\n",
              "      <td>1.883420e-64</td>\n",
              "      <td>0.144578</td>\n",
              "      <td>0.870968</td>\n",
              "    </tr>\n",
              "    <tr>\n",
              "      <th>12</th>\n",
              "      <td>right-to-sue</td>\n",
              "      <td>-13.510643</td>\n",
              "      <td>1.227858e-34</td>\n",
              "      <td>0.289683</td>\n",
              "      <td>0.860759</td>\n",
              "    </tr>\n",
              "  </tbody>\n",
              "</table>\n",
              "</div>"
            ],
            "text/plain": [
              "                   bills      stats           pval  dem_mean  rep_mean\n",
              "3   physician-fee-freeze -49.367082  1.994262e-177  0.054054  0.987879\n",
              "4        el-salvador-aid -21.136693   5.600520e-68  0.215686  0.951515\n",
              "5       religious-groups  -9.737576   2.393672e-20  0.476744  0.897590\n",
              "11             education -20.500686   1.883420e-64  0.144578  0.870968\n",
              "12          right-to-sue -13.510643   1.227858e-34  0.289683  0.860759"
            ]
          },
          "metadata": {
            "tags": []
          },
          "execution_count": 32
        }
      ]
    },
    {
      "cell_type": "markdown",
      "metadata": {
        "id": "wcA_AvvRAqW_",
        "colab_type": "text"
      },
      "source": [
        "## Stretch Goals:\n",
        "\n",
        "1. Refactor your code into functions so it's easy to rerun with arbitrary variables\n",
        "2. Work on Performing a T-test without using Scipy in order to get \"under the hood\" and learn more thoroughly about this topic.\n",
        "### Start with a 1-sample t-test\n",
        " - Establish the conditions for your test \n",
        " - [Calculate the T Statistic](https://blog.minitab.com/hs-fs/hubfs/Imported_Blog_Media/701f9c0efa98a38fb397f3c3ec459b66.png?width=247&height=172&name=701f9c0efa98a38fb397f3c3ec459b66.png) (You'll need to omit NaN values from your sample).\n",
        " - Translate that t-statistic into a P-value. You can use a [table](https://www.google.com/search?q=t+statistic+table) or the [University of Iowa Applet](https://homepage.divms.uiowa.edu/~mbognar/applets/t.html)\n",
        "\n",
        " ### Then try a 2-sample t-test\n",
        " - Establish the conditions for your test \n",
        " - [Calculate the T Statistic](https://lh3.googleusercontent.com/proxy/rJJ5ZOL9ZDvKOOeBihXoZDgfk7uv1YsRzSQ1Tc10RX-r2HrRpRLVqlE9CWX23csYQXcTniFwlBg3H-qR8MKJPBGnjwndqlhDX3JxoDE5Yg) (You'll need to omit NaN values from your sample).\n",
        " - Translate that t-statistic into a P-value. You can use a [table](https://www.google.com/search?q=t+statistic+table) or the [University of Iowa Applet](https://homepage.divms.uiowa.edu/~mbognar/applets/t.html)\n",
        "\n",
        " ### Then check your Answers using Scipy!"
      ]
    },
    {
      "cell_type": "code",
      "metadata": {
        "id": "dPmXOHh1Cfea",
        "colab_type": "code",
        "colab": {}
      },
      "source": [
        ""
      ],
      "execution_count": 0,
      "outputs": []
    }
  ]
}