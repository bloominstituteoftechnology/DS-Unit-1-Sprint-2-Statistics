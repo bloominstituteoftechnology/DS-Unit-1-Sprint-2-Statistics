{
  "nbformat": 4,
  "nbformat_minor": 0,
  "metadata": {
    "colab": {
      "name": "Mike Smith Magic8.ipynb",
      "provenance": [],
      "collapsed_sections": [],
      "include_colab_link": true
    },
    "kernelspec": {
      "display_name": "Python 3",
      "language": "python",
      "name": "python3"
    },
    "language_info": {
      "codemirror_mode": {
        "name": "ipython",
        "version": 3
      },
      "file_extension": ".py",
      "mimetype": "text/x-python",
      "name": "python",
      "nbconvert_exporter": "python",
      "pygments_lexer": "ipython3",
      "version": "3.7.2"
    }
  },
  "cells": [
    {
      "cell_type": "markdown",
      "metadata": {
        "id": "view-in-github",
        "colab_type": "text"
      },
      "source": [
        "<a href=\"https://colab.research.google.com/github/gomlfx/DS-Unit-1-Sprint-2-Statistics/blob/master/Mike_Smith_Magic8.ipynb\" target=\"_parent\"><img src=\"https://colab.research.google.com/assets/colab-badge.svg\" alt=\"Open In Colab\"/></a>"
      ]
    },
    {
      "cell_type": "markdown",
      "metadata": {
        "colab_type": "text",
        "id": "Za5YRtK7tNpM"
      },
      "source": [
        "# What's your fortune? \n",
        "\n"
      ]
    },
    {
      "cell_type": "markdown",
      "metadata": {
        "colab_type": "text",
        "id": "OMXml87Z_EnE"
      },
      "source": [
        "## Create a Python project of a Magic 8 Ball which is a toy used for fortune-telling or seeking advice.\n",
        "\n",
        "### Key Objectives:\n",
        "\n",
        "*  Allow the user to input their question.\n",
        "*  Show an in progress message.\n",
        "*  Create 10/20 responses, and show a random response.\n",
        "*  Allow the user to ask another question/advice or quit the game.\n"
      ]
    },
    {
      "cell_type": "code",
      "metadata": {
        "colab_type": "code",
        "id": "jTh3cZAGAcRU",
        "colab": {
          "base_uri": "https://localhost:8080/",
          "height": 90
        },
        "outputId": "adedbfb4-5a9c-47e1-998e-351a4e77f5a9"
      },
      "source": [
        "#Write your code here \n",
        "#import the modules\n",
        "import sys\n",
        "import random\n",
        "\n",
        "ans = True\n",
        "\n",
        "while ans: \n",
        "  question = input(\"Ask a question>>> (press enter to quit)\")\n",
        "\n",
        "  answers = random.randint(1,8)\n",
        "\n",
        "  if question == \"\":\n",
        "    sys.exit()\n",
        "\n",
        "  elif answers == 1:\n",
        "    print(\"It is certain\")\n",
        "\n",
        "  elif answers == 2:\n",
        "    print(\"outlook good\")\n",
        "\n",
        "  elif answers == 3:\n",
        "    print(\"you may rely on it\")\n",
        "\n",
        "  elif answers == 4: \n",
        "    print(\"Ask again later\")\n",
        "\n",
        "  elif answers == 5:\n",
        "    print(\"concentrate and ask again\")\n",
        "\n",
        "  elif answers == 6:\n",
        "    print(\"Reply hazy, try again\")\n",
        "\n",
        "  elif answers == 7:\n",
        "    print(\"My reply is no\")\n",
        "\n",
        "  elif answers == 8:\n",
        "    print(\"My sources say no\")"
      ],
      "execution_count": 0,
      "outputs": [
        {
          "output_type": "stream",
          "text": [
            "Ask a question>>> (press enter to quit)is the teacher good?\n",
            "Reply hazy, try again\n"
          ],
          "name": "stdout"
        }
      ]
    }
  ]
}