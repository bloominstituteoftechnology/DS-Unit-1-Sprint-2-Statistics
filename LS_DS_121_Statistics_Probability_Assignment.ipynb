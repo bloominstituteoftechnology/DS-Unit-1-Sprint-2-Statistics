{
  "nbformat": 4,
  "nbformat_minor": 0,
  "metadata": {
    "kernelspec": {
      "display_name": "Python 3",
      "language": "python",
      "name": "python3"
    },
    "language_info": {
      "codemirror_mode": {
        "name": "ipython",
        "version": 3
      },
      "file_extension": ".py",
      "mimetype": "text/x-python",
      "name": "python",
      "nbconvert_exporter": "python",
      "pygments_lexer": "ipython3",
      "version": "3.7.3"
    },
    "colab": {
      "name": "Copy of LS_DS_121_Statistics_Probability_Assignment.ipynb",
      "provenance": [],
      "collapsed_sections": [],
      "include_colab_link": true
    }
  },
  "cells": [
    {
      "cell_type": "markdown",
      "metadata": {
        "id": "view-in-github",
        "colab_type": "text"
      },
      "source": [
        "<a href=\"https://colab.research.google.com/github/oxfordfictionary/DS-Unit-1-Sprint-2-Statistics/blob/master/LS_DS_121_Statistics_Probability_Assignment.ipynb\" target=\"_parent\"><img src=\"https://colab.research.google.com/assets/colab-badge.svg\" alt=\"Open In Colab\"/></a>"
      ]
    },
    {
      "cell_type": "markdown",
      "metadata": {
        "id": "Sa5KWMO1ngPN",
        "colab_type": "text"
      },
      "source": [
        "<img align=\"left\" src=\"https://lever-client-logos.s3.amazonaws.com/864372b1-534c-480e-acd5-9711f850815c-1524247202159.png\" width=200>\n",
        "<br></br>\n",
        "<br></br>\n",
        "\n",
        "## *Data Science Unit 1 Sprint 2 Assignment 1*\n",
        "\n",
        "# Apply the t-test to real data\n",
        "\n",
        "Your assignment is to determine which issues have \"statistically significant\" differences between political parties in this [1980s congressional voting data](https://archive.ics.uci.edu/ml/datasets/Congressional+Voting+Records). The data consists of 435 instances (one for each congressperson), a class (democrat or republican), and 16 binary attributes (yes or no for voting for or against certain issues). Be aware - there are missing values!\n",
        "\n",
        "Your goals:\n",
        "\n",
        "1. Load and clean the data (or determine the best method to drop observations when running tests)\n",
        "2. Using hypothesis testing, find an issue that democrats support more than republicans with p < 0.01\n",
        "3. Using hypothesis testing, find an issue that republicans support more than democrats with p < 0.01\n",
        "4. Using hypothesis testing, find an issue where the difference between republicans and democrats has p > 0.1 (i.e. there may not be much of a difference)\n",
        "\n",
        "Note that this data will involve *2 sample* t-tests, because you're comparing averages across two groups (republicans and democrats) rather than a single group against a null hypothesis.\n",
        "\n",
        "Stretch goals:\n",
        "\n",
        "1. Refactor your code into functions so it's easy to rerun with arbitrary variables\n",
        "2. Apply hypothesis testing to your personal project data (for the purposes of this notebook you can type a summary of the hypothesis you formed and tested)"
      ]
    },
    {
      "cell_type": "code",
      "metadata": {
        "id": "ZKwspo2CngPP",
        "colab_type": "code",
        "outputId": "5b9a2913-25a8-4857-a478-a0ac4b5e949a",
        "colab": {
          "base_uri": "https://localhost:8080/",
          "height": 219
        }
      },
      "source": [
        "# imports\n",
        "from scipy.stats import ttest_ind\n",
        "import pandas as pd\n",
        "#get raw data using bash\n",
        "!wget https://archive.ics.uci.edu/ml/machine-learning-databases/voting-records/house-votes-84.data"
      ],
      "execution_count": 0,
      "outputs": [
        {
          "output_type": "stream",
          "text": [
            "--2020-01-29 22:42:40--  https://archive.ics.uci.edu/ml/machine-learning-databases/voting-records/house-votes-84.data\n",
            "Resolving archive.ics.uci.edu (archive.ics.uci.edu)... 128.195.10.252\n",
            "Connecting to archive.ics.uci.edu (archive.ics.uci.edu)|128.195.10.252|:443... connected.\n",
            "HTTP request sent, awaiting response... 200 OK\n",
            "Length: 18171 (18K) [application/x-httpd-php]\n",
            "Saving to: ‘house-votes-84.data’\n",
            "\n",
            "\rhouse-votes-84.data   0%[                    ]       0  --.-KB/s               \rhouse-votes-84.data 100%[===================>]  17.75K  --.-KB/s    in 0.06s   \n",
            "\n",
            "2020-01-29 22:42:40 (284 KB/s) - ‘house-votes-84.data’ saved [18171/18171]\n",
            "\n"
          ],
          "name": "stdout"
        }
      ]
    },
    {
      "cell_type": "code",
      "metadata": {
        "id": "NApB1-5XiS4O",
        "colab_type": "code",
        "colab": {}
      },
      "source": [
        "# make into a dataframe - step one, set column headers\n",
        "column_headers = ['party','handicapped-infants','water-project',\n",
        "                          'budget','physician-fee-freeze', 'el-salvador-aid',\n",
        "                          'religious-groups','anti-satellite-ban',\n",
        "                          'aid-to-contras','mx-missile','immigration',\n",
        "                          'synfuels', 'education', 'right-to-sue','crime','duty-free',\n",
        "                          'south-africa']"
      ],
      "execution_count": 0,
      "outputs": []
    },
    {
      "cell_type": "code",
      "metadata": {
        "id": "EBDcYJVzjRh8",
        "colab_type": "code",
        "colab": {}
      },
      "source": [
        "df = pd.read_csv('house-votes-84.data',\n",
        "                 header=None,\n",
        "                 names=column_headers,\n",
        "                 na_values='?')\n",
        "\n",
        "# na_values=\"?\" is replacing question marks with NAs\n"
      ],
      "execution_count": 0,
      "outputs": []
    },
    {
      "cell_type": "code",
      "metadata": {
        "id": "Uh4YvCy-jS55",
        "colab_type": "code",
        "outputId": "5fdeb0fd-cbbc-4b10-fc4b-2dff8edb6944",
        "colab": {
          "base_uri": "https://localhost:8080/",
          "height": 261
        }
      },
      "source": [
        "# recode votes as numeric\n",
        "# This will mean higher mean = more in favor\n",
        "df = df.replace({'y': 1, 'n': 0})\n",
        "df.head()"
      ],
      "execution_count": 0,
      "outputs": [
        {
          "output_type": "execute_result",
          "data": {
            "text/html": [
              "<div>\n",
              "<style scoped>\n",
              "    .dataframe tbody tr th:only-of-type {\n",
              "        vertical-align: middle;\n",
              "    }\n",
              "\n",
              "    .dataframe tbody tr th {\n",
              "        vertical-align: top;\n",
              "    }\n",
              "\n",
              "    .dataframe thead th {\n",
              "        text-align: right;\n",
              "    }\n",
              "</style>\n",
              "<table border=\"1\" class=\"dataframe\">\n",
              "  <thead>\n",
              "    <tr style=\"text-align: right;\">\n",
              "      <th></th>\n",
              "      <th>party</th>\n",
              "      <th>handicapped-infants</th>\n",
              "      <th>water-project</th>\n",
              "      <th>budget</th>\n",
              "      <th>physician-fee-freeze</th>\n",
              "      <th>el-salvador-aid</th>\n",
              "      <th>religious-groups</th>\n",
              "      <th>anti-satellite-ban</th>\n",
              "      <th>aid-to-contras</th>\n",
              "      <th>mx-missile</th>\n",
              "      <th>immigration</th>\n",
              "      <th>synfuels</th>\n",
              "      <th>education</th>\n",
              "      <th>right-to-sue</th>\n",
              "      <th>crime</th>\n",
              "      <th>duty-free</th>\n",
              "      <th>south-africa</th>\n",
              "    </tr>\n",
              "  </thead>\n",
              "  <tbody>\n",
              "    <tr>\n",
              "      <th>0</th>\n",
              "      <td>republican</td>\n",
              "      <td>0.0</td>\n",
              "      <td>1.0</td>\n",
              "      <td>0.0</td>\n",
              "      <td>1.0</td>\n",
              "      <td>1.0</td>\n",
              "      <td>1.0</td>\n",
              "      <td>0.0</td>\n",
              "      <td>0.0</td>\n",
              "      <td>0.0</td>\n",
              "      <td>1.0</td>\n",
              "      <td>NaN</td>\n",
              "      <td>1.0</td>\n",
              "      <td>1.0</td>\n",
              "      <td>1.0</td>\n",
              "      <td>0.0</td>\n",
              "      <td>1.0</td>\n",
              "    </tr>\n",
              "    <tr>\n",
              "      <th>1</th>\n",
              "      <td>republican</td>\n",
              "      <td>0.0</td>\n",
              "      <td>1.0</td>\n",
              "      <td>0.0</td>\n",
              "      <td>1.0</td>\n",
              "      <td>1.0</td>\n",
              "      <td>1.0</td>\n",
              "      <td>0.0</td>\n",
              "      <td>0.0</td>\n",
              "      <td>0.0</td>\n",
              "      <td>0.0</td>\n",
              "      <td>0.0</td>\n",
              "      <td>1.0</td>\n",
              "      <td>1.0</td>\n",
              "      <td>1.0</td>\n",
              "      <td>0.0</td>\n",
              "      <td>NaN</td>\n",
              "    </tr>\n",
              "    <tr>\n",
              "      <th>2</th>\n",
              "      <td>democrat</td>\n",
              "      <td>NaN</td>\n",
              "      <td>1.0</td>\n",
              "      <td>1.0</td>\n",
              "      <td>NaN</td>\n",
              "      <td>1.0</td>\n",
              "      <td>1.0</td>\n",
              "      <td>0.0</td>\n",
              "      <td>0.0</td>\n",
              "      <td>0.0</td>\n",
              "      <td>0.0</td>\n",
              "      <td>1.0</td>\n",
              "      <td>0.0</td>\n",
              "      <td>1.0</td>\n",
              "      <td>1.0</td>\n",
              "      <td>0.0</td>\n",
              "      <td>0.0</td>\n",
              "    </tr>\n",
              "    <tr>\n",
              "      <th>3</th>\n",
              "      <td>democrat</td>\n",
              "      <td>0.0</td>\n",
              "      <td>1.0</td>\n",
              "      <td>1.0</td>\n",
              "      <td>0.0</td>\n",
              "      <td>NaN</td>\n",
              "      <td>1.0</td>\n",
              "      <td>0.0</td>\n",
              "      <td>0.0</td>\n",
              "      <td>0.0</td>\n",
              "      <td>0.0</td>\n",
              "      <td>1.0</td>\n",
              "      <td>0.0</td>\n",
              "      <td>1.0</td>\n",
              "      <td>0.0</td>\n",
              "      <td>0.0</td>\n",
              "      <td>1.0</td>\n",
              "    </tr>\n",
              "    <tr>\n",
              "      <th>4</th>\n",
              "      <td>democrat</td>\n",
              "      <td>1.0</td>\n",
              "      <td>1.0</td>\n",
              "      <td>1.0</td>\n",
              "      <td>0.0</td>\n",
              "      <td>1.0</td>\n",
              "      <td>1.0</td>\n",
              "      <td>0.0</td>\n",
              "      <td>0.0</td>\n",
              "      <td>0.0</td>\n",
              "      <td>0.0</td>\n",
              "      <td>1.0</td>\n",
              "      <td>NaN</td>\n",
              "      <td>1.0</td>\n",
              "      <td>1.0</td>\n",
              "      <td>1.0</td>\n",
              "      <td>1.0</td>\n",
              "    </tr>\n",
              "  </tbody>\n",
              "</table>\n",
              "</div>"
            ],
            "text/plain": [
              "        party  handicapped-infants  ...  duty-free  south-africa\n",
              "0  republican                  0.0  ...        0.0           1.0\n",
              "1  republican                  0.0  ...        0.0           NaN\n",
              "2    democrat                  NaN  ...        0.0           0.0\n",
              "3    democrat                  0.0  ...        0.0           1.0\n",
              "4    democrat                  1.0  ...        1.0           1.0\n",
              "\n",
              "[5 rows x 17 columns]"
            ]
          },
          "metadata": {
            "tags": []
          },
          "execution_count": 4
        }
      ]
    },
    {
      "cell_type": "code",
      "metadata": {
        "id": "cHlmOrP0l4gY",
        "colab_type": "code",
        "outputId": "919ca0d4-cac1-4c0c-da05-035a8a3c5e97",
        "colab": {
          "base_uri": "https://localhost:8080/",
          "height": 35
        }
      },
      "source": [
        "df.shape"
      ],
      "execution_count": 0,
      "outputs": [
        {
          "output_type": "execute_result",
          "data": {
            "text/plain": [
              "(435, 17)"
            ]
          },
          "metadata": {
            "tags": []
          },
          "execution_count": 5
        }
      ]
    },
    {
      "cell_type": "code",
      "metadata": {
        "id": "myrsgkQ7lobJ",
        "colab_type": "code",
        "outputId": "e7582b43-754f-4575-c6ec-db31aac53900",
        "colab": {
          "base_uri": "https://localhost:8080/",
          "height": 348
        }
      },
      "source": [
        "#checking for density of NaNs to give me a sense of which will be less \n",
        "df[df.isnull().any(axis=1)].sum()"
      ],
      "execution_count": 0,
      "outputs": [
        {
          "output_type": "execute_result",
          "data": {
            "text/plain": [
              "party                   republicanrepublicandemocratdemocratdemocratde...\n",
              "handicapped-infants                                                    91\n",
              "water-project                                                          88\n",
              "budget                                                                130\n",
              "physician-fee-freeze                                                   64\n",
              "el-salvador-aid                                                        84\n",
              "religious-groups                                                      123\n",
              "anti-satellite-ban                                                    115\n",
              "aid-to-contras                                                        123\n",
              "mx-missile                                                             94\n",
              "immigration                                                            88\n",
              "synfuels                                                               70\n",
              "education                                                              63\n",
              "right-to-sue                                                           82\n",
              "crime                                                                  99\n",
              "duty-free                                                              88\n",
              "south-africa                                                           80\n",
              "dtype: object"
            ]
          },
          "metadata": {
            "tags": []
          },
          "execution_count": 6
        }
      ]
    },
    {
      "cell_type": "code",
      "metadata": {
        "id": "ZV0tlWlapl-l",
        "colab_type": "code",
        "colab": {}
      },
      "source": [
        "#setting shorthand variables\n",
        "dem = df[df['party']=='democrat']\n",
        "rep = df[df['party']=='republican']\n"
      ],
      "execution_count": 0,
      "outputs": []
    },
    {
      "cell_type": "markdown",
      "metadata": {
        "id": "YOY742VYNU2e",
        "colab_type": "text"
      },
      "source": [
        "# **2. Find an issue Democrats support more than republicans**\n"
      ]
    },
    {
      "cell_type": "code",
      "metadata": {
        "id": "T1BNbkt-N36c",
        "colab_type": "code",
        "outputId": "c2001a0a-6c91-4626-84f7-5243ad9c8f9a",
        "colab": {
          "base_uri": "https://localhost:8080/",
          "height": 35
        }
      },
      "source": [
        "''' the x-missile data appears to reflect the decommissioning of ICBM \n",
        "peacekeeper missiles. https://fas.org/nuke/guide/usa/icbm/lgm-118.htm. It makes\n",
        "sense that the democracts would support this more than republicans (to my mind)'''\n",
        "dem['mx-missile'].mean()"
      ],
      "execution_count": 0,
      "outputs": [
        {
          "output_type": "execute_result",
          "data": {
            "text/plain": [
              "0.7580645161290323"
            ]
          },
          "metadata": {
            "tags": []
          },
          "execution_count": 8
        }
      ]
    },
    {
      "cell_type": "code",
      "metadata": {
        "id": "s0DS-6feN8LB",
        "colab_type": "code",
        "outputId": "5a7ce317-aee6-411a-fc3b-27bb058bb6b7",
        "colab": {
          "base_uri": "https://localhost:8080/",
          "height": 35
        }
      },
      "source": [
        "rep['mx-missile'].mean()"
      ],
      "execution_count": 0,
      "outputs": [
        {
          "output_type": "execute_result",
          "data": {
            "text/plain": [
              "0.11515151515151516"
            ]
          },
          "metadata": {
            "tags": []
          },
          "execution_count": 9
        }
      ]
    },
    {
      "cell_type": "code",
      "metadata": {
        "id": "u5DpLN7TOEe1",
        "colab_type": "code",
        "outputId": "d326042c-0d64-4605-b5b2-2018edf61919",
        "colab": {
          "base_uri": "https://localhost:8080/",
          "height": 35
        }
      },
      "source": [
        "ttest_ind(rep['mx-missile'], dem['mx-missile'], nan_policy='omit')"
      ],
      "execution_count": 0,
      "outputs": [
        {
          "output_type": "execute_result",
          "data": {
            "text/plain": [
              "Ttest_indResult(statistic=-16.437503268542994, pvalue=5.03079265310811e-47)"
            ]
          },
          "metadata": {
            "tags": []
          },
          "execution_count": 14
        }
      ]
    },
    {
      "cell_type": "code",
      "metadata": {
        "id": "sEZQhZLBOYhm",
        "colab_type": "code",
        "colab": {}
      },
      "source": [
        "#with p-value of 5.03 to the power of -47, this would be significant. \n",
        "#Can reject null hypothesis; democrats appear to support this bill more than \n",
        "# republicans"
      ],
      "execution_count": 0,
      "outputs": []
    },
    {
      "cell_type": "markdown",
      "metadata": {
        "id": "yvcClGENNwQN",
        "colab_type": "text"
      },
      "source": [
        "# **3. Find and issue republicans support more than democrats**"
      ]
    },
    {
      "cell_type": "code",
      "metadata": {
        "id": "sSRxOT5kqlPa",
        "colab_type": "code",
        "outputId": "c6dd56a1-10ec-460a-a832-127266b1784c",
        "colab": {
          "base_uri": "https://localhost:8080/",
          "height": 35
        }
      },
      "source": [
        "dem['education'].mean()"
      ],
      "execution_count": 0,
      "outputs": [
        {
          "output_type": "execute_result",
          "data": {
            "text/plain": [
              "0.14457831325301204"
            ]
          },
          "metadata": {
            "tags": []
          },
          "execution_count": 11
        }
      ]
    },
    {
      "cell_type": "code",
      "metadata": {
        "id": "FB5GwI7zqp-l",
        "colab_type": "code",
        "outputId": "8b1ff787-846e-4fa6-cc62-d5790106bd10",
        "colab": {
          "base_uri": "https://localhost:8080/",
          "height": 35
        }
      },
      "source": [
        "rep['education'].mean()"
      ],
      "execution_count": 0,
      "outputs": [
        {
          "output_type": "execute_result",
          "data": {
            "text/plain": [
              "0.8709677419354839"
            ]
          },
          "metadata": {
            "tags": []
          },
          "execution_count": 12
        }
      ]
    },
    {
      "cell_type": "code",
      "metadata": {
        "id": "NVXEabItjgq7",
        "colab_type": "code",
        "outputId": "34dab2ec-a7ed-4ac2-a4e3-946b227f856d",
        "colab": {
          "base_uri": "https://localhost:8080/",
          "height": 35
        }
      },
      "source": [
        "''' After looking at means, I became curious about this bill. \n",
        "I foudn it here: https://www.congress.gov/bill/101st-congress/house-bill/1675\n",
        "it appears to be a bill that rewards high-performing schools which \n",
        "might explain why it was so popular among republicans. As such, my null \n",
        "hypothesis is that Republicans' support of this bill is less than or equal to \n",
        "# that of democrats.'''\n",
        "# I used coding with the t-test to remocve NaN values nan_policy='omit'\n",
        "\n",
        "ttest_ind(rep['education'], dem['education'], nan_policy='omit')"
      ],
      "execution_count": 0,
      "outputs": [
        {
          "output_type": "execute_result",
          "data": {
            "text/plain": [
              "Ttest_indResult(statistic=20.500685724563073, pvalue=1.8834203990450192e-64)"
            ]
          },
          "metadata": {
            "tags": []
          },
          "execution_count": 13
        }
      ]
    },
    {
      "cell_type": "code",
      "metadata": {
        "id": "-NwQW_M1mUTw",
        "colab_type": "code",
        "colab": {}
      },
      "source": [
        "#Based on the above p-value of 1.88 to the -64th power, it does appear there is\n",
        "#a significant difference in the means of the populations "
      ],
      "execution_count": 0,
      "outputs": []
    },
    {
      "cell_type": "markdown",
      "metadata": {
        "id": "cNunEH2NO1Q6",
        "colab_type": "text"
      },
      "source": [
        "# **Find an issue where the difference between republicans and democrats has p > 0.1 (i.e. there may not be much of a difference)**"
      ]
    },
    {
      "cell_type": "code",
      "metadata": {
        "id": "dC7EaAezO7T5",
        "colab_type": "code",
        "outputId": "fe829d0a-b8cb-4abe-9ac0-3a566872a016",
        "colab": {
          "base_uri": "https://localhost:8080/",
          "height": 35
        }
      },
      "source": [
        "dem['water-project'].mean()"
      ],
      "execution_count": 0,
      "outputs": [
        {
          "output_type": "execute_result",
          "data": {
            "text/plain": [
              "0.502092050209205"
            ]
          },
          "metadata": {
            "tags": []
          },
          "execution_count": 15
        }
      ]
    },
    {
      "cell_type": "code",
      "metadata": {
        "id": "WKQAiXDjTIVC",
        "colab_type": "code",
        "outputId": "1c6eae3c-e586-4600-ecb2-6750cb1ceb8a",
        "colab": {
          "base_uri": "https://localhost:8080/",
          "height": 35
        }
      },
      "source": [
        "rep['water-project'].mean()"
      ],
      "execution_count": 0,
      "outputs": [
        {
          "output_type": "execute_result",
          "data": {
            "text/plain": [
              "0.5067567567567568"
            ]
          },
          "metadata": {
            "tags": []
          },
          "execution_count": 16
        }
      ]
    },
    {
      "cell_type": "code",
      "metadata": {
        "id": "8UosPUT3TLko",
        "colab_type": "code",
        "outputId": "86df5673-061d-44e0-dcee-71ffa76c23e8",
        "colab": {
          "base_uri": "https://localhost:8080/",
          "height": 35
        }
      },
      "source": [
        "ttest_ind(rep['water-project'], dem['water-project'], nan_policy='omit')"
      ],
      "execution_count": 0,
      "outputs": [
        {
          "output_type": "execute_result",
          "data": {
            "text/plain": [
              "Ttest_indResult(statistic=0.08896538137868286, pvalue=0.9291556823993485)"
            ]
          },
          "metadata": {
            "tags": []
          },
          "execution_count": 17
        }
      ]
    },
    {
      "cell_type": "code",
      "metadata": {
        "id": "giOb2zTnUqQK",
        "colab_type": "code",
        "colab": {}
      },
      "source": [
        "# Cannot reject null hypothesis there is no difference between means"
      ],
      "execution_count": 0,
      "outputs": []
    },
    {
      "cell_type": "markdown",
      "metadata": {
        "id": "0llIo19oVFeG",
        "colab_type": "text"
      },
      "source": [
        "# **Stretch Goals**"
      ]
    },
    {
      "cell_type": "code",
      "metadata": {
        "id": "6tVxOcurVLBv",
        "colab_type": "code",
        "outputId": "46a04a3c-8c87-42ae-f279-f24343538154",
        "colab": {
          "base_uri": "https://localhost:8080/",
          "height": 660
        }
      },
      "source": [
        "#A function to quickly visualize some summary information as we did above\n",
        "def des(DataFrame):\n",
        "  print(DataFrame.shape)\n",
        "  print(DataFrame.head())\n",
        "  print(DataFrame[DataFrame.isnull().any(axis=1)].sum())\n",
        " \n",
        "#below DataFrame can be = to whatever dataset we are using. Technically I could\n",
        "#just put in \"df\", but I use that as a dataframe title so often it might be more\n",
        "#useful this way, just in case I'm using multiple df's\n",
        "DataFrame = df\n",
        "#calling the function\n",
        "des(DataFrame)\n",
        "\n"
      ],
      "execution_count": 0,
      "outputs": [
        {
          "output_type": "stream",
          "text": [
            "(435, 17)\n",
            "        party  handicapped-infants  ...  duty-free  south-africa\n",
            "0  republican                  0.0  ...        0.0           1.0\n",
            "1  republican                  0.0  ...        0.0           NaN\n",
            "2    democrat                  NaN  ...        0.0           0.0\n",
            "3    democrat                  0.0  ...        0.0           1.0\n",
            "4    democrat                  1.0  ...        1.0           1.0\n",
            "\n",
            "[5 rows x 17 columns]\n",
            "          party  handicapped-infants  ...  duty-free  south-africa\n",
            "430  republican                  0.0  ...        0.0           1.0\n",
            "431    democrat                  0.0  ...        0.0           1.0\n",
            "432  republican                  0.0  ...        0.0           1.0\n",
            "433  republican                  0.0  ...        0.0           1.0\n",
            "434  republican                  0.0  ...        NaN           0.0\n",
            "\n",
            "[5 rows x 17 columns]\n",
            "party                   republicanrepublicandemocratdemocratdemocratde...\n",
            "handicapped-infants                                                    91\n",
            "water-project                                                          88\n",
            "budget                                                                130\n",
            "physician-fee-freeze                                                   64\n",
            "el-salvador-aid                                                        84\n",
            "religious-groups                                                      123\n",
            "anti-satellite-ban                                                    115\n",
            "aid-to-contras                                                        123\n",
            "mx-missile                                                             94\n",
            "immigration                                                            88\n",
            "synfuels                                                               70\n",
            "education                                                              63\n",
            "right-to-sue                                                           82\n",
            "crime                                                                  99\n",
            "duty-free                                                              88\n",
            "south-africa                                                           80\n",
            "dtype: object\n"
          ],
          "name": "stdout"
        }
      ]
    },
    {
      "cell_type": "markdown",
      "metadata": {
        "id": "6IoEonBssRg-",
        "colab_type": "text"
      },
      "source": [
        ""
      ]
    }
  ]
}