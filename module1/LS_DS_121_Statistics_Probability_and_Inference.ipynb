{
  "nbformat": 4,
  "nbformat_minor": 0,
  "metadata": {
    "colab": {
      "name": "LS_DS_121_Statistics_Probability_and_Inference.ipynb",
      "provenance": [],
      "collapsed_sections": [
        "oE4_XMmJFqWQ",
        "HXuGX432FqWT",
        "0haBnYbNFqWu",
        "_t2EV458FqXN",
        "g2BZgAMLFqXj",
        "T1mjzryNFqYE",
        "Ze6Zj3fBFqYP"
      ],
      "include_colab_link": true
    },
    "kernelspec": {
      "display_name": "Python 3",
      "language": "python",
      "name": "python3"
    },
    "language_info": {
      "codemirror_mode": {
        "name": "ipython",
        "version": 3
      },
      "file_extension": ".py",
      "mimetype": "text/x-python",
      "name": "python",
      "nbconvert_exporter": "python",
      "pygments_lexer": "ipython3",
      "version": "3.7.3"
    }
  },
  "cells": [
    {
      "cell_type": "markdown",
      "metadata": {
        "id": "view-in-github",
        "colab_type": "text"
      },
      "source": [
        "<a href=\"https://colab.research.google.com/github/ndow33/DS-Unit-1-Sprint-2-Statistics/blob/master/module1/LS_DS_121_Statistics_Probability_and_Inference.ipynb\" target=\"_parent\"><img src=\"https://colab.research.google.com/assets/colab-badge.svg\" alt=\"Open In Colab\"/></a>"
      ]
    },
    {
      "cell_type": "markdown",
      "metadata": {
        "id": "HMVWU6kPRaq0",
        "colab_type": "text"
      },
      "source": [
        ""
      ]
    },
    {
      "cell_type": "markdown",
      "metadata": {
        "colab_type": "text",
        "id": "eJGtmni-DezY"
      },
      "source": [
        "<img align=\"left\" src=\"https://lever-client-logos.s3.amazonaws.com/864372b1-534c-480e-acd5-9711f850815c-1524247202159.png\" width=200>\n",
        "\n",
        "<br></br>\n",
        "<br></br>\n",
        "\n",
        "## *Data Science Unit 1 Sprint 2 Lesson 1*\n",
        "\n",
        "# Statistics, Probability and Inference\n",
        "\n",
        "## Learning Objectives\n",
        "* [Part 1](#p1): Normal Distribution Revisted\n",
        "* [Part 2](#p2): Student's T Test\n",
        "* [Part 3](#p3): Hypothesis Test & Doing it Live"
      ]
    },
    {
      "cell_type": "markdown",
      "metadata": {
        "colab_type": "text",
        "id": "WOXkk77hbeP5"
      },
      "source": [
        "## What is Descriptive Statistics?\n",
        "\n",
        "<https://statistics.laerd.com/statistical-guides/descriptive-inferential-statistics.php>"
      ]
    },
    {
      "cell_type": "code",
      "metadata": {
        "colab_type": "code",
        "id": "aGsGGy4Mb9IG",
        "outputId": "b2ee9832-f9ac-43f7-9bd3-180de19f06d0",
        "colab": {
          "base_uri": "https://localhost:8080/",
          "height": 195
        }
      },
      "source": [
        "# import\n",
        "import pandas as pd\n",
        "df = pd.DataFrame({'a':[1,2,3,4,5], 'b':[2,5,7,3,5]})\n",
        "df.head()"
      ],
      "execution_count": 0,
      "outputs": [
        {
          "output_type": "execute_result",
          "data": {
            "text/html": [
              "<div>\n",
              "<style scoped>\n",
              "    .dataframe tbody tr th:only-of-type {\n",
              "        vertical-align: middle;\n",
              "    }\n",
              "\n",
              "    .dataframe tbody tr th {\n",
              "        vertical-align: top;\n",
              "    }\n",
              "\n",
              "    .dataframe thead th {\n",
              "        text-align: right;\n",
              "    }\n",
              "</style>\n",
              "<table border=\"1\" class=\"dataframe\">\n",
              "  <thead>\n",
              "    <tr style=\"text-align: right;\">\n",
              "      <th></th>\n",
              "      <th>a</th>\n",
              "      <th>b</th>\n",
              "    </tr>\n",
              "  </thead>\n",
              "  <tbody>\n",
              "    <tr>\n",
              "      <th>0</th>\n",
              "      <td>1</td>\n",
              "      <td>2</td>\n",
              "    </tr>\n",
              "    <tr>\n",
              "      <th>1</th>\n",
              "      <td>2</td>\n",
              "      <td>5</td>\n",
              "    </tr>\n",
              "    <tr>\n",
              "      <th>2</th>\n",
              "      <td>3</td>\n",
              "      <td>7</td>\n",
              "    </tr>\n",
              "    <tr>\n",
              "      <th>3</th>\n",
              "      <td>4</td>\n",
              "      <td>3</td>\n",
              "    </tr>\n",
              "    <tr>\n",
              "      <th>4</th>\n",
              "      <td>5</td>\n",
              "      <td>5</td>\n",
              "    </tr>\n",
              "  </tbody>\n",
              "</table>\n",
              "</div>"
            ],
            "text/plain": [
              "   a  b\n",
              "0  1  2\n",
              "1  2  5\n",
              "2  3  7\n",
              "3  4  3\n",
              "4  5  5"
            ]
          },
          "metadata": {
            "tags": []
          },
          "execution_count": 4
        }
      ]
    },
    {
      "cell_type": "code",
      "metadata": {
        "colab_type": "code",
        "id": "K-73WFB5cI1_",
        "outputId": "c8cac82b-69fd-45ed-9d21-90f1e97c6fa5",
        "colab": {
          "base_uri": "https://localhost:8080/",
          "height": 284
        }
      },
      "source": [
        "# How can we quickly look at some descriptive statistics of the above dataframe?\n",
        "df.describe()"
      ],
      "execution_count": 0,
      "outputs": [
        {
          "output_type": "execute_result",
          "data": {
            "text/html": [
              "<div>\n",
              "<style scoped>\n",
              "    .dataframe tbody tr th:only-of-type {\n",
              "        vertical-align: middle;\n",
              "    }\n",
              "\n",
              "    .dataframe tbody tr th {\n",
              "        vertical-align: top;\n",
              "    }\n",
              "\n",
              "    .dataframe thead th {\n",
              "        text-align: right;\n",
              "    }\n",
              "</style>\n",
              "<table border=\"1\" class=\"dataframe\">\n",
              "  <thead>\n",
              "    <tr style=\"text-align: right;\">\n",
              "      <th></th>\n",
              "      <th>a</th>\n",
              "      <th>b</th>\n",
              "    </tr>\n",
              "  </thead>\n",
              "  <tbody>\n",
              "    <tr>\n",
              "      <th>count</th>\n",
              "      <td>5.000000</td>\n",
              "      <td>5.000000</td>\n",
              "    </tr>\n",
              "    <tr>\n",
              "      <th>mean</th>\n",
              "      <td>3.000000</td>\n",
              "      <td>4.400000</td>\n",
              "    </tr>\n",
              "    <tr>\n",
              "      <th>std</th>\n",
              "      <td>1.581139</td>\n",
              "      <td>1.949359</td>\n",
              "    </tr>\n",
              "    <tr>\n",
              "      <th>min</th>\n",
              "      <td>1.000000</td>\n",
              "      <td>2.000000</td>\n",
              "    </tr>\n",
              "    <tr>\n",
              "      <th>25%</th>\n",
              "      <td>2.000000</td>\n",
              "      <td>3.000000</td>\n",
              "    </tr>\n",
              "    <tr>\n",
              "      <th>50%</th>\n",
              "      <td>3.000000</td>\n",
              "      <td>5.000000</td>\n",
              "    </tr>\n",
              "    <tr>\n",
              "      <th>75%</th>\n",
              "      <td>4.000000</td>\n",
              "      <td>5.000000</td>\n",
              "    </tr>\n",
              "    <tr>\n",
              "      <th>max</th>\n",
              "      <td>5.000000</td>\n",
              "      <td>7.000000</td>\n",
              "    </tr>\n",
              "  </tbody>\n",
              "</table>\n",
              "</div>"
            ],
            "text/plain": [
              "              a         b\n",
              "count  5.000000  5.000000\n",
              "mean   3.000000  4.400000\n",
              "std    1.581139  1.949359\n",
              "min    1.000000  2.000000\n",
              "25%    2.000000  3.000000\n",
              "50%    3.000000  5.000000\n",
              "75%    4.000000  5.000000\n",
              "max    5.000000  7.000000"
            ]
          },
          "metadata": {
            "tags": []
          },
          "execution_count": 5
        }
      ]
    },
    {
      "cell_type": "markdown",
      "metadata": {
        "colab_type": "text",
        "id": "MOkBDGsWbMRc"
      },
      "source": [
        "## Normal Distribution Revisited\n",
        "\n",
        "What is the Normal distribution: A probability distribution of a continuous real valued random-variable. The Normal distribution properties make it useful for the *Central Limit Theorm*, because if we assume a variable follows the normal distribution, we can make certain conclusions based on probabilities."
      ]
    },
    {
      "cell_type": "code",
      "metadata": {
        "colab_type": "code",
        "id": "BYlq8EYKbMRd",
        "colab": {}
      },
      "source": [
        "# create some artificial data\n",
        "import numpy as np\n",
        "# mean\n",
        "mu = 0\n",
        "# std dev\n",
        "sigma = 1\n",
        "sample = np.random.normal(mu, sigma, 1000)"
      ],
      "execution_count": 0,
      "outputs": []
    },
    {
      "cell_type": "code",
      "metadata": {
        "colab_type": "code",
        "id": "GbVV3_TsbMRn",
        "outputId": "e6e23632-f011-4787-82ac-ccf03c5aa199",
        "colab": {
          "base_uri": "https://localhost:8080/",
          "height": 265
        }
      },
      "source": [
        "# plot this using seaborn\n",
        "import seaborn as sns\n",
        "\n",
        "ax = sns.distplot(sample, color='r')\n",
        "ax.axvline(np.percentile(sample,97.5),0)\n",
        "ax.axvline(np.percentile(sample,2.5),0);"
      ],
      "execution_count": 2,
      "outputs": [
        {
          "output_type": "display_data",
          "data": {
            "image/png": "[encoded data removed]",
            "text/plain": [
              "<Figure size 432x288 with 1 Axes>"
            ]
          },
          "metadata": {
            "tags": []
          }
        }
      ]
    },
    {
      "cell_type": "markdown",
      "metadata": {
        "colab_type": "text",
        "id": "D3ZwR9tDc-KX"
      },
      "source": [
        "![The Normal Distribution](https://upload.wikimedia.org/wikipedia/commons/thumb/a/a9/Empirical_Rule.PNG/350px-Empirical_Rule.png)"
      ]
    },
    {
      "cell_type": "markdown",
      "metadata": {
        "colab_type": "text",
        "id": "wtobOQescQU6"
      },
      "source": [
        "## What is Inferential Statistics?"
      ]
    },
    {
      "cell_type": "markdown",
      "metadata": {
        "id": "AliWyLfVFqVv",
        "colab_type": "text"
      },
      "source": [
        "![stats](https://slideplayer.com/slide/5130463/16/images/2/Statistical+Inference.jpg)"
      ]
    },
    {
      "cell_type": "markdown",
      "metadata": {
        "id": "xow9ePJDFqVx",
        "colab_type": "text"
      },
      "source": [
        "When we talk about the **population parameters**: we use $\\mu$ and $\\sigma$ for mean and standard deviation\n",
        "\n",
        "When we talk about the sample **sample statistics**: we use $\\bar{x}$ and s\n",
        "\n",
        "    \n"
      ]
    },
    {
      "cell_type": "markdown",
      "metadata": {
        "colab_type": "text",
        "id": "zsb1KMUSc2xe"
      },
      "source": [
        "## Hypothesis Testing (T-Tests)"
      ]
    },
    {
      "cell_type": "markdown",
      "metadata": {
        "id": "MBISJ2veFqVz",
        "colab_type": "text"
      },
      "source": [
        "What is A/B testing?  \n",
        "https://www.convertize.com/what-is-ab-testing/   \n",
        "https://blog.hubspot.com/blog/tabid/6307/bid/20566/the-button-color-a-b-test-red-beats-green.aspx"
      ]
    },
    {
      "cell_type": "markdown",
      "metadata": {
        "id": "mP97337SFqV1",
        "colab_type": "text"
      },
      "source": [
        "#### 3 types of t-tests"
      ]
    },
    {
      "cell_type": "markdown",
      "metadata": {
        "id": "OxdFOPTVFqV2",
        "colab_type": "text"
      },
      "source": [
        "There are three main types of t-test:  \n",
        "-- An Independent Samples t-test compares the means for two groups.  \n",
        "-- A Paired sample t-test compares means from the same group at different times.  \n",
        "-- A One sample t-test tests the mean of a single group against a known mean."
      ]
    },
    {
      "cell_type": "markdown",
      "metadata": {
        "id": "0BniqVbXFqV3",
        "colab_type": "text"
      },
      "source": [
        "#### T-Test Assumptions:  \n",
        "1. the scale of measurement applied to the data collected follows a continuous or ordinal scale, such as the scores for an IQ test.  \n",
        "2. the data is collected from a representative, randomly selected portion of the total population.  \n",
        "3. the data, when plotted, results in a normal distribution, bell-shaped distribution curve.  \n",
        "4. a reasonably large sample size is used. A larger sample size means the distribution of results should approach a normal bell-shaped curve.  \n",
        "5. homogeneity of variance. Homogeneous, or equal, variance exists when the standard deviations of samples are approximately equal.  "
      ]
    },
    {
      "cell_type": "code",
      "metadata": {
        "id": "BpuEBNvJFqV4",
        "colab_type": "code",
        "colab": {}
      },
      "source": [
        "#### Example: sample data -- number of \"conversions\" between two versions of a website, over 10 days\n",
        "a=[1136, 1178, 1212, 1193, 1226, 1154, 1230, 1222, 1161, 1148]\n",
        "b=[1184, 1203, 1219, 1238, 1243, 1204, 1269, 1256, 1156, 1248]"
      ],
      "execution_count": 0,
      "outputs": []
    },
    {
      "cell_type": "code",
      "metadata": {
        "id": "x_Yw6u_0FqV8",
        "colab_type": "code",
        "colab": {
          "base_uri": "https://localhost:8080/",
          "height": 68
        },
        "outputId": "d45f68dc-e1a9-44d8-b469-bf077934423e"
      },
      "source": [
        "# It looks like B produces more conversions!\n",
        "print(np.mean(a))\n",
        "print(np.mean(b))\n",
        "np.mean(a)- np.mean(b)"
      ],
      "execution_count": 5,
      "outputs": [
        {
          "output_type": "stream",
          "text": [
            "1186.0\n",
            "1222.0\n"
          ],
          "name": "stdout"
        },
        {
          "output_type": "execute_result",
          "data": {
            "text/plain": [
              "-36.0"
            ]
          },
          "metadata": {
            "tags": []
          },
          "execution_count": 5
        }
      ]
    },
    {
      "cell_type": "markdown",
      "metadata": {
        "id": "1VOCnL4KFqV_",
        "colab_type": "text"
      },
      "source": [
        "#### Generate a hypothesis\n",
        "Null hypothesis: website A has the same average conversion rate as website B   \n",
        "Alternative hypothesis (1-tailed): website A has lower/higher average conversion rate than website B   \n",
        "Alternative hypothesis (2-tailed): website A has different average conversion rate than website B "
      ]
    },
    {
      "cell_type": "code",
      "metadata": {
        "id": "ZVXnBBXIFqWA",
        "colab_type": "code",
        "colab": {}
      },
      "source": [
        "# import\n",
        "from scipy.stats import ttest_ind"
      ],
      "execution_count": 0,
      "outputs": []
    },
    {
      "cell_type": "code",
      "metadata": {
        "id": "qpzsdbHLSxjZ",
        "colab_type": "code",
        "colab": {
          "base_uri": "https://localhost:8080/",
          "height": 34
        },
        "outputId": "428ccc42-5d08-4364-d2bc-78f810c0cceb"
      },
      "source": [
        "#we are especially interested in the pvalue\n",
        "ttest_ind(a,b).pvalue #one tailed ttest\n",
        "#p value indicates that the probability that sample a and sample b are different \n",
        "#in the population is about 3%"
      ],
      "execution_count": 8,
      "outputs": [
        {
          "output_type": "execute_result",
          "data": {
            "text/plain": [
              "0.03504505626727664"
            ]
          },
          "metadata": {
            "tags": []
          },
          "execution_count": 8
        }
      ]
    },
    {
      "cell_type": "code",
      "metadata": {
        "id": "QhzSCCbNTR_c",
        "colab_type": "code",
        "colab": {
          "base_uri": "https://localhost:8080/",
          "height": 34
        },
        "outputId": "e8f902b5-578b-4ee9-be57-0a9b0e8e2265"
      },
      "source": [
        "ttest_ind(a,b).pvalue/2 #two tailed"
      ],
      "execution_count": 9,
      "outputs": [
        {
          "output_type": "execute_result",
          "data": {
            "text/plain": [
              "0.01752252813363832"
            ]
          },
          "metadata": {
            "tags": []
          },
          "execution_count": 9
        }
      ]
    },
    {
      "cell_type": "code",
      "metadata": {
        "id": "7xAxDw16FqWD",
        "colab_type": "code",
        "colab": {}
      },
      "source": [
        "# compare\n",
        "\n"
      ],
      "execution_count": 0,
      "outputs": []
    },
    {
      "cell_type": "code",
      "metadata": {
        "id": "WbC9PDyoFqWG",
        "colab_type": "code",
        "colab": {
          "base_uri": "https://localhost:8080/",
          "height": 34
        },
        "outputId": "fd57ba2f-4223-4c96-87bf-115efc35067a"
      },
      "source": [
        "# interpret the p-value\n",
        "#p-value = alpha\n",
        "# 95% confidence interval (alpha = .05)\n",
        "# 99% confidence interval (alpha = .01)\n",
        "# 99.9% confidence interval (alpha = .001)\n",
        "\n",
        "ttest_ind(a,b).pvalue < .05 #one tailed ttest\n",
        "\n",
        "#if p < .05 we can typically reject the null hypothesis\n"
      ],
      "execution_count": 10,
      "outputs": [
        {
          "output_type": "execute_result",
          "data": {
            "text/plain": [
              "True"
            ]
          },
          "metadata": {
            "tags": []
          },
          "execution_count": 10
        }
      ]
    },
    {
      "cell_type": "code",
      "metadata": {
        "id": "jAQTEqRNFqWJ",
        "colab_type": "code",
        "colab": {
          "base_uri": "https://localhost:8080/",
          "height": 34
        },
        "outputId": "980b2a75-dd62-4b1d-f29d-1aea0051c1b9"
      },
      "source": [
        "# what about the t-statistic?\n",
        "ttest_ind(a,b).statistic"
      ],
      "execution_count": 11,
      "outputs": [
        {
          "output_type": "execute_result",
          "data": {
            "text/plain": [
              "-2.2795770510504845"
            ]
          },
          "metadata": {
            "tags": []
          },
          "execution_count": 11
        }
      ]
    },
    {
      "cell_type": "markdown",
      "metadata": {
        "id": "rwuRZ4DmFqWP",
        "colab_type": "text"
      },
      "source": [
        "![tstat](https://blog.minitab.com/hubfs/Imported_Blog_Media/formula_1t.png)"
      ]
    },
    {
      "cell_type": "markdown",
      "metadata": {
        "id": "zm5vTgyWFqWQ",
        "colab_type": "text"
      },
      "source": [
        "A common analogy is that the t-value is the signal-to-noise ratio.   \n",
        "**The numerator is the signal.** You simply take the sample mean and subtract the null hypothesis value. As the difference between the sample mean and the null hypothesis mean increases in either the positive or negative direction, the strength of the signal increases.  \n",
        "**The denominator is the noise.** The equation in the denominator is a measure of variability known as the standard error of the mean. This statistic indicates how accurately your sample estimates the mean of the population. A larger number indicates that your sample estimate is less precise because it has more random error.  \n",
        "**Both the signal and noise values are in the units of your data.** If your signal is 6 and the noise is 2, your t-value is 3. This t-value indicates that the difference is 3 times the size of the standard error. However, if there is a difference of the same size but your data have more variability (6), your t-value is only 1. The signal is at the same scale as the noise.  \n",
        "https://blog.minitab.com/blog/adventures-in-statistics-2/understanding-t-tests-1-sample-2-sample-and-paired-t-tests"
      ]
    },
    {
      "cell_type": "markdown",
      "metadata": {
        "id": "oE4_XMmJFqWQ",
        "colab_type": "text"
      },
      "source": [
        "#### Another example: pancakes"
      ]
    },
    {
      "cell_type": "markdown",
      "metadata": {
        "colab_type": "text",
        "id": "cOnNrJembf5c"
      },
      "source": [
        "\n",
        "\n",
        "Ever thought about how long it takes to make a pancake? Have you ever compared the tooking time of a pancake on each eye of your stove? Is the cooking time different between the different eyes? Now, we can run an experiment and collect a sample of 1,000 pancakes on one eye and another 800 pancakes on the other eye. Assumed we used the same pan, batter, and technique on both eyes. Our average cooking times were 180 (5 std) and 178.5 (4.25 std) seconds repsectively. Now, we can tell those numbers are not identicial, but how confident are we that those numbers are practically the same? How do we know the slight difference isn't caused by some external randomness?\n",
        "\n",
        "Yes, today's lesson will help you figure out how long to cook your pancakes (*theoretically*). Experimentation is up to you; otherwise, you have to accept my data as true. How are going to accomplish this? With probability, statistics, inference and maple syrup (optional). \n",
        "\n",
        "<img src=\"https://images.unsplash.com/photo-1541288097308-7b8e3f58c4c6?ixlib=rb-1.2.1&ixid=eyJhcHBfaWQiOjEyMDd9&auto=format&fit=crop&w=3300&q=80\" width=400>\n",
        "\n"
      ]
    },
    {
      "cell_type": "markdown",
      "metadata": {
        "id": "HXuGX432FqWT",
        "colab_type": "text"
      },
      "source": [
        "#### Our first 2-sample t-test (pancake example)\n",
        "1) Null Hypothesis: (boring hypothesis)\n",
        "\n",
        "𝑥¯1==𝑥¯2 \n",
        "\n",
        "Or that the average cooking time between the two burners is the same.\n",
        "\n",
        "2) Alternative Hypothesis: (the opposite of the null)\n",
        "\n",
        "𝑥¯1≠𝑥¯2 \n",
        "\n",
        "𝑥¯1−𝑥¯2≠0 \n",
        "3) Confidence Level: The probability of seing a true result in spite of random variability. (How often do I want to make sure that I'm right.) Typically: 95%, 99%, 99.9%"
      ]
    },
    {
      "cell_type": "code",
      "metadata": {
        "id": "B0zfDVY_FqWU",
        "colab_type": "code",
        "colab": {}
      },
      "source": [
        "# import"
      ],
      "execution_count": 0,
      "outputs": []
    },
    {
      "cell_type": "code",
      "metadata": {
        "id": "Ywz9a5HtFqWX",
        "colab_type": "code",
        "colab": {}
      },
      "source": [
        "# sample 1\n",
        "mu1 = 180 # sample mean\n",
        "sigma1 = 5 # standard deviation"
      ],
      "execution_count": 0,
      "outputs": []
    },
    {
      "cell_type": "code",
      "metadata": {
        "id": "YXHvvmvyFqWZ",
        "colab_type": "code",
        "colab": {}
      },
      "source": [
        "# sample 2\n",
        "mu2 = 178.5 # sample mean\n",
        "sigma2 = 4.25 # standard deviation\n"
      ],
      "execution_count": 0,
      "outputs": []
    },
    {
      "cell_type": "code",
      "metadata": {
        "id": "W_LPdwEwFqWc",
        "colab_type": "code",
        "colab": {}
      },
      "source": [
        "# compare\n"
      ],
      "execution_count": 0,
      "outputs": []
    },
    {
      "cell_type": "code",
      "metadata": {
        "id": "XtvjDw8fFqWg",
        "colab_type": "code",
        "colab": {}
      },
      "source": [
        "# what is the p-value?\n"
      ],
      "execution_count": 0,
      "outputs": []
    },
    {
      "cell_type": "markdown",
      "metadata": {
        "id": "93CvUrcaFqWj",
        "colab_type": "text"
      },
      "source": [
        "4) T Statistic: A value that falls along a t-distribution.\n",
        "\n",
        "A vertical bar that falls on our t-distribution\n",
        "5) P-value: The p-value that we're interested in is (1-Confidence Level) or in our case: .05\n",
        "\n",
        "The probability of getting this test result (t-statistic) due to random chance.\n",
        "\n",
        "The probability of our null hypothesis being true.\n",
        "\n",
        "6) Conclusions:\n",
        "\n",
        "Due to observing a t-statistic of 8.9 and a resulting p-value of .00000000000000000109, we reject the null hypothesis that the cooking times of these two burners is the same, and suggest the alternative hypothesis, that they are different.\n",
        "\n",
        "(Because our p-value was less than .05, we reject the null hypothesis)."
      ]
    },
    {
      "cell_type": "markdown",
      "metadata": {
        "colab_type": "text",
        "id": "5BvYLMjadAnu"
      },
      "source": [
        "# Why do we use the t-distribution in hypothesis tests?\n",
        "\n",
        "![t-distribution-low-dof](https://lambdachops.com/img/t-distribution-low-dof.png)\n",
        "\n",
        "![t-distribution-approximates-normal](https://github.com/ryanallredblog/ryanallredblog.github.io/blob/master/img/t-distribution-approximates-normal.png?raw=true)\n",
        "\n",
        "### Helpful video on why we use the t-distribution\n",
        "\n",
        "<https://www.youtube.com/watch?v=Uv6nGIgZMVw>\n",
        "\n",
        "However, in order to understand it you'll need to understand what a z-score is:\n",
        "\n",
        "A z-score calculates the number of standard deviations an observations lies from the population mean. The problem is that in real-world situations, we don't know what the sample mean is, so we have to turn to using the sample mean to estimate the population mean. Because the sample mean is generated from a sample and used to estimate the population mean with some level of uncertainty, it also has its own distribution a nd spread. This means that for low sample sizes both our estimates of the sample mean and sample population are not very precise, they're kind of spread out. It's this spread that makes the t-distribution wider than the normal distribution for low sample sizes. However, with the larger the sample size, the closer the t-distribution approximates the normal distribution.\n"
      ]
    },
    {
      "cell_type": "markdown",
      "metadata": {
        "colab_type": "text",
        "id": "FMhDKOFND0qY"
      },
      "source": [
        "## Student's T Test\n",
        "\n",
        ">Assuming data come from a Normal distribution, the t test provides a way to test whether the sample mean (that is the mean calculated from the data) is a good estimate of the population mean. \n",
        "\n",
        "The derivation of the t-distribution was first published in 1908 by William Gosset while working for the Guinness Brewery in Dublin. Due to proprietary issues, he had to publish under a pseudonym, and so he used the name Student.\n",
        "\n",
        "The t-distribution is essentially a distribution of means of normaly distributed data. When we use a t-statistic, we are  checking that a mean fails within a certain $\\alpha$ probability of the mean of means."
      ]
    },
    {
      "cell_type": "code",
      "metadata": {
        "colab_type": "code",
        "id": "fQ9rkLJmEbsk",
        "colab": {}
      },
      "source": [
        ""
      ],
      "execution_count": 0,
      "outputs": []
    },
    {
      "cell_type": "code",
      "metadata": {
        "colab_type": "code",
        "id": "RyNKPt_tJk86",
        "colab": {}
      },
      "source": [
        ""
      ],
      "execution_count": 0,
      "outputs": []
    },
    {
      "cell_type": "code",
      "metadata": {
        "colab_type": "code",
        "id": "seQv5unnJvpM",
        "colab": {}
      },
      "source": [
        "i = 10\n",
        "for sample in [t_df10, t_df100, t_df1000]:\n",
        "    print(f\"t - distribution with {i} degrees of freedom\")\n",
        "    print(\"---\" * 10)\n",
        "    print(f\"Mean: {sample.mean()}\")\n",
        "    print(f\"Standard Deviation: {sample.std()}\")\n",
        "    print(f\"Variance: {sample.var()}\")\n",
        "    i = i*10"
      ],
      "execution_count": 0,
      "outputs": []
    },
    {
      "cell_type": "markdown",
      "metadata": {
        "colab_type": "text",
        "id": "FOvEGMysLaE2"
      },
      "source": [
        "Why is it different from normal? To better reflect the tendencies of small data and situations with unknown population standard deviation. In other words, the normal distribution is still the nice pure ideal (thanks to the central limit theorem), but the t-distribution is much more useful in many real-world situations."
      ]
    },
    {
      "cell_type": "markdown",
      "metadata": {
        "colab_type": "text",
        "id": "1yx_QilAEC6o"
      },
      "source": [
        "## Live Lecture - let's perform and interpret a t-test\n",
        "\n",
        "We'll generate our own data, so we can know and alter the \"ground truth\" that the t-test should find. We will learn about p-values and how to interpret \"statistical significance\" based on the output of a hypothesis test. We will also dig a bit deeper into how the test statistic is calculated based on the sample error, and visually what it looks like to have 1 or 2 \"tailed\" t-tests."
      ]
    },
    {
      "cell_type": "markdown",
      "metadata": {
        "id": "0haBnYbNFqWu",
        "colab_type": "text"
      },
      "source": [
        "#### Get and prepare the data"
      ]
    },
    {
      "cell_type": "code",
      "metadata": {
        "colab_type": "code",
        "id": "BuysRPs-Ed0v",
        "colab": {}
      },
      "source": [
        "# imports\n"
      ],
      "execution_count": 0,
      "outputs": []
    },
    {
      "cell_type": "markdown",
      "metadata": {
        "id": "94FxGyh2FqWy",
        "colab_type": "text"
      },
      "source": [
        "**get the data**  \n",
        "https://archive.ics.uci.edu/ml/machine-learning-databases/voting-records/house-votes-84.data"
      ]
    },
    {
      "cell_type": "code",
      "metadata": {
        "id": "ZJaJ-ZJQFqWy",
        "colab_type": "code",
        "colab": {}
      },
      "source": [
        "# make into a dataframe\n",
        "column_headers = ['party','handicapped-infants','water-project',\n",
        "                          'budget','physician-fee-freeze', 'el-salvador-aid',\n",
        "                          'religious-groups','anti-satellite-ban',\n",
        "                          'aid-to-contras','mx-missile','immigration',\n",
        "                          'synfuels', 'education', 'right-to-sue','crime','duty-free',\n",
        "                          'south-africa']\n",
        "\n"
      ],
      "execution_count": 0,
      "outputs": []
    },
    {
      "cell_type": "code",
      "metadata": {
        "id": "nk6c4_P-FqW1",
        "colab_type": "code",
        "colab": {}
      },
      "source": [
        "# recode votes as numeric\n"
      ],
      "execution_count": 0,
      "outputs": []
    },
    {
      "cell_type": "code",
      "metadata": {
        "id": "AR9yHxyYFqW4",
        "colab_type": "code",
        "colab": {}
      },
      "source": [
        "# how many from each party?\n"
      ],
      "execution_count": 0,
      "outputs": []
    },
    {
      "cell_type": "code",
      "metadata": {
        "id": "CUzwqG1tFqW6",
        "colab_type": "code",
        "colab": {}
      },
      "source": [
        "# how did Republicans vote?\n"
      ],
      "execution_count": 0,
      "outputs": []
    },
    {
      "cell_type": "code",
      "metadata": {
        "id": "PVsqanCUFqW9",
        "colab_type": "code",
        "colab": {}
      },
      "source": [
        "# how did Democrats vote?\n"
      ],
      "execution_count": 0,
      "outputs": []
    },
    {
      "cell_type": "code",
      "metadata": {
        "id": "9qX49iQwFqXC",
        "colab_type": "code",
        "colab": {}
      },
      "source": [
        "# the percentage of republicans who voted \"yes\" (1) \n",
        "# on the handicapped-infants bill\n",
        "\n",
        "\n",
        "# len() is counting NaN values too!"
      ],
      "execution_count": 0,
      "outputs": []
    },
    {
      "cell_type": "code",
      "metadata": {
        "id": "p--TTwScFqXE",
        "colab_type": "code",
        "colab": {}
      },
      "source": [
        "# Remove NaN values from this column\n",
        "\n",
        "# The same column as before, but I've dropped the NaN values\n"
      ],
      "execution_count": 0,
      "outputs": []
    },
    {
      "cell_type": "code",
      "metadata": {
        "id": "ClIr35dPFqXI",
        "colab_type": "code",
        "colab": {}
      },
      "source": [
        "# Average rate of voting 'yes' on the handicapped-infants\n"
      ],
      "execution_count": 0,
      "outputs": []
    },
    {
      "cell_type": "markdown",
      "metadata": {
        "id": "_t2EV458FqXN",
        "colab_type": "text"
      },
      "source": [
        "#### water project bill (two-sample t-test)"
      ]
    },
    {
      "cell_type": "markdown",
      "metadata": {
        "id": "Day2zlzzFqXN",
        "colab_type": "text"
      },
      "source": [
        "1) Null Hypothesis: There is no difference between average voting rates (levels of support) for the water-project bill between democrats and republicans in the house of representatives. (support is equal)\n",
        "\n",
        "𝑥¯1==𝑥¯2 \n",
        "Where  𝑥¯1  is the mean of republican votes and  𝑥¯2  is the mean of democrat votes.\n",
        "\n",
        "2) Alternative Hypothesis:\n",
        "\n",
        "𝑥¯1≠𝑥¯2 \n",
        "Levels of support between the two parties will differ.\n",
        "\n",
        "3) 95% Confidence Level"
      ]
    },
    {
      "cell_type": "code",
      "metadata": {
        "id": "_9GV8e2tFqXO",
        "colab_type": "code",
        "colab": {}
      },
      "source": [
        "# import"
      ],
      "execution_count": 0,
      "outputs": []
    },
    {
      "cell_type": "code",
      "metadata": {
        "id": "MB2g0SVNFqXR",
        "colab_type": "code",
        "colab": {}
      },
      "source": [
        "# What is the mean support of Republicans?\n"
      ],
      "execution_count": 0,
      "outputs": []
    },
    {
      "cell_type": "code",
      "metadata": {
        "id": "wyZuHNCYFqXU",
        "colab_type": "code",
        "colab": {}
      },
      "source": [
        "# what is the mean support of Democrats?\n"
      ],
      "execution_count": 0,
      "outputs": []
    },
    {
      "cell_type": "code",
      "metadata": {
        "id": "yyXUTBWDFqXV",
        "colab_type": "code",
        "colab": {}
      },
      "source": [
        "# compare with a t-test:\n"
      ],
      "execution_count": 0,
      "outputs": []
    },
    {
      "cell_type": "code",
      "metadata": {
        "id": "-13exKnuFqXX",
        "colab_type": "code",
        "colab": {}
      },
      "source": [
        "# account for NaN's\n"
      ],
      "execution_count": 0,
      "outputs": []
    },
    {
      "cell_type": "code",
      "metadata": {
        "id": "enJZPgQQFqXa",
        "colab_type": "code",
        "colab": {}
      },
      "source": [
        "# You could also remove NaN values from this column\n"
      ],
      "execution_count": 0,
      "outputs": []
    },
    {
      "cell_type": "code",
      "metadata": {
        "id": "oYALB3roFqXe",
        "colab_type": "code",
        "colab": {}
      },
      "source": [
        "# My sample sizes for the two samples:\n"
      ],
      "execution_count": 0,
      "outputs": []
    },
    {
      "cell_type": "markdown",
      "metadata": {
        "id": "jCRUaWF3FqXh",
        "colab_type": "text"
      },
      "source": [
        "When I have multiple samples (using a 2-sample t-test) I will use the smaller of the two samples to determine my degrees of freedom\n",
        "\n",
        "So in this case, df = 148-1 = 147"
      ]
    },
    {
      "cell_type": "markdown",
      "metadata": {
        "id": "xe75u6J2FqXi",
        "colab_type": "text"
      },
      "source": [
        "4) T-statistic: .089\n",
        "\n",
        "5) P-value: .929\n",
        "\n",
        "I want to reject the null hypothesis if my p-value is < .05 or if my p-value is less than (1-confidence_level)\n",
        "\n",
        "Conclusion: due to a p-value of .929 I fail to reject the null hypothesis that republican and democrat support for the water-project bill is different.\n",
        "\n",
        "I never say that I \"accept\" the null hypothesis, I just say that I \"fail to reject\""
      ]
    },
    {
      "cell_type": "markdown",
      "metadata": {
        "id": "g2BZgAMLFqXj",
        "colab_type": "text"
      },
      "source": [
        "#### 1-sample T-test example"
      ]
    },
    {
      "cell_type": "markdown",
      "metadata": {
        "id": "5cMh2lwDFqXk",
        "colab_type": "text"
      },
      "source": [
        "I'm only using one sample, and my null hypothesis will be different.\n",
        "\n",
        "We're looking at Democrat support of the South-Africa bill\n",
        "\n",
        "1a) Null Hypothesis:\n",
        "\n",
        "𝑥¯1  (average dem support for SA bill) == 1.\n",
        "\n",
        "This says that 100% of democrats support this bill. Full support.\n",
        "\n",
        "1b) Null Hypothesis:\n",
        "\n",
        "𝑥¯1  (average dem support for SA bill) == .5\n",
        "\n",
        "This says that 50% of democrats support this bill. The party is split.\n",
        "\n",
        "1c) Null Hypothesis:\n",
        "\n",
        "𝑥¯1  (average dem support for SA bill) == 0.\n",
        "\n",
        "This says that 0% of democrats support this bill. The party is against the bill.\n",
        "\n",
        "1d) Null Hypothesis:\n",
        "\n",
        "𝑥¯1  (average dem support for SA bill) == .78245\n",
        "\n",
        "This says that 0% of democrats support this bill. The party is against the bill.\n",
        "\n",
        "**With 1-sample t-tests I can frame that I'm asking through my choice of null hypothesis**"
      ]
    },
    {
      "cell_type": "markdown",
      "metadata": {
        "id": "RlRQzZuOFqXk",
        "colab_type": "text"
      },
      "source": [
        "1) Null Hypothesis:  𝑥¯1  (average dem support for SA bill) == .5\n",
        "\n",
        "This says that 50% of democrats support this bill. The party is split.\n",
        "\n",
        "2) Alternative Hypothesis: Support is not equal to .5 or 50%\n",
        "\n",
        "𝑥¯1  (average dem support for SA bill)  ≠  .5\n",
        "\n",
        "This says nothing about if support is greater than or less than 50%, it's just saying that it's not 50% - it's different, it's something other than 50%.\n",
        "\n",
        "3) Confidence Level: 95%"
      ]
    },
    {
      "cell_type": "code",
      "metadata": {
        "id": "-ItRaV0tFqXl",
        "colab_type": "code",
        "colab": {}
      },
      "source": [
        "# import\n"
      ],
      "execution_count": 0,
      "outputs": []
    },
    {
      "cell_type": "code",
      "metadata": {
        "id": "XcUWgDTcFqXp",
        "colab_type": "code",
        "colab": {}
      },
      "source": [
        "# conduct the t-test\n"
      ],
      "execution_count": 0,
      "outputs": []
    },
    {
      "cell_type": "markdown",
      "metadata": {
        "id": "Ic15BO_2FqXr",
        "colab_type": "text"
      },
      "source": [
        "Due to a p-value of (basically 0) we reject the null hypothesis that democrat support for the South Africa bill is .5 (split party) and conclude that it is something different.\n"
      ]
    },
    {
      "cell_type": "code",
      "metadata": {
        "id": "n-vFpfnOFqXr",
        "colab_type": "code",
        "colab": {}
      },
      "source": [
        "# what is the average support among Democrats?\n"
      ],
      "execution_count": 0,
      "outputs": []
    },
    {
      "cell_type": "code",
      "metadata": {
        "id": "5sFsvFyKFqXt",
        "colab_type": "code",
        "colab": {}
      },
      "source": [
        "# is it significantly different from 90%?\n"
      ],
      "execution_count": 0,
      "outputs": []
    },
    {
      "cell_type": "markdown",
      "metadata": {
        "id": "zFDWXOmDFqXx",
        "colab_type": "text"
      },
      "source": [
        "Fail to reject the null hypothesis:\n",
        "\n",
        "I conclude that that democrat support for the South Africa bill is not significantly different from 90%."
      ]
    },
    {
      "cell_type": "code",
      "metadata": {
        "id": "izddni6PFqXx",
        "colab_type": "code",
        "colab": {}
      },
      "source": [
        "# what about 89.9?\n"
      ],
      "execution_count": 0,
      "outputs": []
    },
    {
      "cell_type": "markdown",
      "metadata": {
        "id": "FgKS_panFqXz",
        "colab_type": "text"
      },
      "source": [
        "Due to a p-value of .048, I reject the null hypothesis that democrat support for this bill is 89.9% and suggest the alternative that it is different from 89.9%"
      ]
    },
    {
      "cell_type": "markdown",
      "metadata": {
        "id": "Tgb9MvflFqX0",
        "colab_type": "text"
      },
      "source": [
        "### Wine Example"
      ]
    },
    {
      "cell_type": "code",
      "metadata": {
        "id": "Zv00mzCqFqX0",
        "colab_type": "code",
        "colab": {}
      },
      "source": [
        "# load the data (wines from Italy)\n"
      ],
      "execution_count": 0,
      "outputs": []
    },
    {
      "cell_type": "code",
      "metadata": {
        "id": "8OtO1GMVFqX2",
        "colab_type": "code",
        "colab": {}
      },
      "source": [
        "# put that into a dataframe\n"
      ],
      "execution_count": 0,
      "outputs": []
    },
    {
      "cell_type": "code",
      "metadata": {
        "id": "33AY23INFqX5",
        "colab_type": "code",
        "colab": {}
      },
      "source": [
        "# take a look\n"
      ],
      "execution_count": 0,
      "outputs": []
    },
    {
      "cell_type": "code",
      "metadata": {
        "id": "IFwUUcUtFqX8",
        "colab_type": "code",
        "colab": {}
      },
      "source": [
        "# examine a column. ash for all 3 origin groups.\n"
      ],
      "execution_count": 0,
      "outputs": []
    },
    {
      "cell_type": "code",
      "metadata": {
        "id": "ucgk58HgFqX9",
        "colab_type": "code",
        "colab": {}
      },
      "source": [
        "# now for each group. Are these groups different or the same?\n",
        "colorlist=['crimson', 'teal', 'gold']\n"
      ],
      "execution_count": 0,
      "outputs": []
    },
    {
      "cell_type": "code",
      "metadata": {
        "id": "MLURRF9pFqX_",
        "colab_type": "code",
        "colab": {}
      },
      "source": [
        "# are they different or the same?\n"
      ],
      "execution_count": 0,
      "outputs": []
    },
    {
      "cell_type": "code",
      "metadata": {
        "id": "PCFtDkrDFqYA",
        "colab_type": "code",
        "colab": {}
      },
      "source": [
        "# create two samples from the two origins\n"
      ],
      "execution_count": 0,
      "outputs": []
    },
    {
      "cell_type": "code",
      "metadata": {
        "id": "Z0bwtLfLFqYC",
        "colab_type": "code",
        "colab": {}
      },
      "source": [
        "# compare samples 0 and 1. do they have the same ash content in the soil?\n"
      ],
      "execution_count": 0,
      "outputs": []
    },
    {
      "cell_type": "code",
      "metadata": {
        "id": "p1TB83cgFqYD",
        "colab_type": "code",
        "colab": {}
      },
      "source": [
        "# is the pvalue less than 0.05?\n"
      ],
      "execution_count": 0,
      "outputs": []
    },
    {
      "cell_type": "markdown",
      "metadata": {
        "id": "T1mjzryNFqYE",
        "colab_type": "text"
      },
      "source": [
        "#### Alcohol content"
      ]
    },
    {
      "cell_type": "code",
      "metadata": {
        "id": "cIFePKxyFqYH",
        "colab_type": "code",
        "colab": {}
      },
      "source": [
        "# compare mean alcohol for two origin groups\n"
      ],
      "execution_count": 0,
      "outputs": []
    },
    {
      "cell_type": "code",
      "metadata": {
        "id": "0z63otCoFqYI",
        "colab_type": "code",
        "colab": {}
      },
      "source": [
        "# create the groups\n"
      ],
      "execution_count": 0,
      "outputs": []
    },
    {
      "cell_type": "code",
      "metadata": {
        "id": "OW3LytIOFqYM",
        "colab_type": "code",
        "colab": {}
      },
      "source": [
        "# run the t-test and interpret the p-value\n"
      ],
      "execution_count": 0,
      "outputs": []
    },
    {
      "cell_type": "code",
      "metadata": {
        "id": "p1trBzdFFqYO",
        "colab_type": "code",
        "colab": {}
      },
      "source": [
        "# format so it's not in scientific notation\n"
      ],
      "execution_count": 0,
      "outputs": []
    },
    {
      "cell_type": "markdown",
      "metadata": {
        "id": "Ze6Zj3fBFqYP",
        "colab_type": "text"
      },
      "source": [
        "#### Same analysis, on hue"
      ]
    },
    {
      "cell_type": "code",
      "metadata": {
        "id": "lsBDOs0jFqYP",
        "colab_type": "code",
        "colab": {}
      },
      "source": [
        ""
      ],
      "execution_count": 0,
      "outputs": []
    },
    {
      "cell_type": "code",
      "metadata": {
        "id": "Uw8h2JVIFqYR",
        "colab_type": "code",
        "colab": {}
      },
      "source": [
        "# create the groups\n"
      ],
      "execution_count": 0,
      "outputs": []
    },
    {
      "cell_type": "code",
      "metadata": {
        "id": "CY8K1xfTFqYS",
        "colab_type": "code",
        "colab": {}
      },
      "source": [
        "# run the t-test\n"
      ],
      "execution_count": 0,
      "outputs": []
    },
    {
      "cell_type": "code",
      "metadata": {
        "id": "8pOlTVoRFqYV",
        "colab_type": "code",
        "colab": {}
      },
      "source": [
        ""
      ],
      "execution_count": 0,
      "outputs": []
    },
    {
      "cell_type": "code",
      "metadata": {
        "id": "Llhi_AETFqYY",
        "colab_type": "code",
        "colab": {}
      },
      "source": [
        ""
      ],
      "execution_count": 0,
      "outputs": []
    },
    {
      "cell_type": "code",
      "metadata": {
        "id": "u3vOOIqPFqYZ",
        "colab_type": "code",
        "colab": {}
      },
      "source": [
        ""
      ],
      "execution_count": 0,
      "outputs": []
    },
    {
      "cell_type": "markdown",
      "metadata": {
        "colab_type": "text",
        "id": "wiq83guLcuAE"
      },
      "source": [
        "# Resources\n",
        "\n",
        "- https://homepage.divms.uiowa.edu/~mbognar/applets/t.html\n",
        "- https://rpsychologist.com/d3/tdist/\n",
        "- https://gallery.shinyapps.io/tdist/\n",
        "- https://en.wikipedia.org/wiki/Standard_deviation#Sample_standard_deviation_of_metabolic_rate_of_northern_fulmars\n",
        "- https://www.khanacademy.org/math/ap-statistics/two-sample-inference/two-sample-t-test-means/v/two-sample-t-test-for-difference-of-means"
      ]
    }
  ]
}