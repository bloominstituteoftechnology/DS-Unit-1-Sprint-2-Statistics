{
  "nbformat": 4,
  "nbformat_minor": 0,
  "metadata": {
    "kernelspec": {
      "display_name": "Python 3",
      "language": "python",
      "name": "python3"
    },
    "language_info": {
      "codemirror_mode": {
        "name": "ipython",
        "version": 3
      },
      "file_extension": ".py",
      "mimetype": "text/x-python",
      "name": "python",
      "nbconvert_exporter": "python",
      "pygments_lexer": "ipython3",
      "version": "3.7.3"
    },
    "colab": {
      "name": "LS_DS_121_Statistics_Probability_Assignment.ipynb",
      "provenance": [],
      "include_colab_link": true
    }
  },
  "cells": [
    {
      "cell_type": "markdown",
      "metadata": {
        "id": "view-in-github",
        "colab_type": "text"
      },
      "source": [
        "<a href=\"https://colab.research.google.com/github/worldwidekatie/DS-Unit-1-Sprint-2-Statistics/blob/master/module1/LS_DS_121_Statistics_Probability_Assignment.ipynb\" target=\"_parent\"><img src=\"https://colab.research.google.com/assets/colab-badge.svg\" alt=\"Open In Colab\"/></a>"
      ]
    },
    {
      "cell_type": "markdown",
      "metadata": {
        "id": "Sa5KWMO1ngPN",
        "colab_type": "text"
      },
      "source": [
        "<img align=\"left\" src=\"https://lever-client-logos.s3.amazonaws.com/864372b1-534c-480e-acd5-9711f850815c-1524247202159.png\" width=200>\n",
        "<br></br>\n",
        "<br></br>\n",
        "\n",
        "## *Data Science Unit 1 Sprint 2 Assignment 1*\n",
        "\n",
        "# Apply the t-test to real data\n",
        "\n",
        "Your assignment is to determine which issues have \"statistically significant\" differences between political parties in this [1980s congressional voting data](https://archive.ics.uci.edu/ml/datasets/Congressional+Voting+Records). The data consists of 435 instances (one for each congressperson), a class (democrat or republican), and 16 binary attributes (yes or no for voting for or against certain issues). Be aware - there are missing values!\n",
        "\n",
        "Your goals:\n",
        "\n",
        "1. Load and clean the data (or determine the best method to drop observations when running tests)\n",
        "2. Using hypothesis testing, find an issue that democrats support more than republicans with p < 0.01\n",
        "3. Using hypothesis testing, find an issue that republicans support more than democrats with p < 0.01\n",
        "4. Using hypothesis testing, find an issue where the difference between republicans and democrats has p > 0.1 (i.e. there may not be much of a difference)\n",
        "\n",
        "Note that this data will involve *2 sample* t-tests, because you're comparing averages across two groups (republicans and democrats) rather than a single group against a null hypothesis."
      ]
    },
    {
      "cell_type": "markdown",
      "metadata": {
        "id": "YJUiF1NcrXcJ",
        "colab_type": "text"
      },
      "source": [
        "### Data Cleaning and Loading"
      ]
    },
    {
      "cell_type": "code",
      "metadata": {
        "id": "ZKwspo2CngPP",
        "colab_type": "code",
        "outputId": "b2f0053e-2dff-47aa-9f62-ab77e88093ce",
        "colab": {
          "base_uri": "https://localhost:8080/",
          "height": 258
        }
      },
      "source": [
        "import pandas as pd\n",
        "\n",
        "df = pd.read_csv('https://archive.ics.uci.edu/ml/machine-learning-databases/voting-records/house-votes-84.data', \n",
        "                 names=['party', 'handicapped-infants', 'water-project', \n",
        "                        'budget', 'physician-fee-freeze', 'el-salvador-aid', \n",
        "                        'religious-groups', 'anti-satellite-ban', \n",
        "                        'aid-to-contras', 'mx-missile', 'immigration', \n",
        "                        'synfuels', 'education', 'right-to-sue', \n",
        "                        'crime', 'duty-free', 'south-africa'])\n",
        "\n",
        "df.head()"
      ],
      "execution_count": 131,
      "outputs": [
        {
          "output_type": "execute_result",
          "data": {
            "text/html": [
              "<div>\n",
              "<style scoped>\n",
              "    .dataframe tbody tr th:only-of-type {\n",
              "        vertical-align: middle;\n",
              "    }\n",
              "\n",
              "    .dataframe tbody tr th {\n",
              "        vertical-align: top;\n",
              "    }\n",
              "\n",
              "    .dataframe thead th {\n",
              "        text-align: right;\n",
              "    }\n",
              "</style>\n",
              "<table border=\"1\" class=\"dataframe\">\n",
              "  <thead>\n",
              "    <tr style=\"text-align: right;\">\n",
              "      <th></th>\n",
              "      <th>party</th>\n",
              "      <th>handicapped-infants</th>\n",
              "      <th>water-project</th>\n",
              "      <th>budget</th>\n",
              "      <th>physician-fee-freeze</th>\n",
              "      <th>el-salvador-aid</th>\n",
              "      <th>religious-groups</th>\n",
              "      <th>anti-satellite-ban</th>\n",
              "      <th>aid-to-contras</th>\n",
              "      <th>mx-missile</th>\n",
              "      <th>immigration</th>\n",
              "      <th>synfuels</th>\n",
              "      <th>education</th>\n",
              "      <th>right-to-sue</th>\n",
              "      <th>crime</th>\n",
              "      <th>duty-free</th>\n",
              "      <th>south-africa</th>\n",
              "    </tr>\n",
              "  </thead>\n",
              "  <tbody>\n",
              "    <tr>\n",
              "      <th>0</th>\n",
              "      <td>republican</td>\n",
              "      <td>n</td>\n",
              "      <td>y</td>\n",
              "      <td>n</td>\n",
              "      <td>y</td>\n",
              "      <td>y</td>\n",
              "      <td>y</td>\n",
              "      <td>n</td>\n",
              "      <td>n</td>\n",
              "      <td>n</td>\n",
              "      <td>y</td>\n",
              "      <td>?</td>\n",
              "      <td>y</td>\n",
              "      <td>y</td>\n",
              "      <td>y</td>\n",
              "      <td>n</td>\n",
              "      <td>y</td>\n",
              "    </tr>\n",
              "    <tr>\n",
              "      <th>1</th>\n",
              "      <td>republican</td>\n",
              "      <td>n</td>\n",
              "      <td>y</td>\n",
              "      <td>n</td>\n",
              "      <td>y</td>\n",
              "      <td>y</td>\n",
              "      <td>y</td>\n",
              "      <td>n</td>\n",
              "      <td>n</td>\n",
              "      <td>n</td>\n",
              "      <td>n</td>\n",
              "      <td>n</td>\n",
              "      <td>y</td>\n",
              "      <td>y</td>\n",
              "      <td>y</td>\n",
              "      <td>n</td>\n",
              "      <td>?</td>\n",
              "    </tr>\n",
              "    <tr>\n",
              "      <th>2</th>\n",
              "      <td>democrat</td>\n",
              "      <td>?</td>\n",
              "      <td>y</td>\n",
              "      <td>y</td>\n",
              "      <td>?</td>\n",
              "      <td>y</td>\n",
              "      <td>y</td>\n",
              "      <td>n</td>\n",
              "      <td>n</td>\n",
              "      <td>n</td>\n",
              "      <td>n</td>\n",
              "      <td>y</td>\n",
              "      <td>n</td>\n",
              "      <td>y</td>\n",
              "      <td>y</td>\n",
              "      <td>n</td>\n",
              "      <td>n</td>\n",
              "    </tr>\n",
              "    <tr>\n",
              "      <th>3</th>\n",
              "      <td>democrat</td>\n",
              "      <td>n</td>\n",
              "      <td>y</td>\n",
              "      <td>y</td>\n",
              "      <td>n</td>\n",
              "      <td>?</td>\n",
              "      <td>y</td>\n",
              "      <td>n</td>\n",
              "      <td>n</td>\n",
              "      <td>n</td>\n",
              "      <td>n</td>\n",
              "      <td>y</td>\n",
              "      <td>n</td>\n",
              "      <td>y</td>\n",
              "      <td>n</td>\n",
              "      <td>n</td>\n",
              "      <td>y</td>\n",
              "    </tr>\n",
              "    <tr>\n",
              "      <th>4</th>\n",
              "      <td>democrat</td>\n",
              "      <td>y</td>\n",
              "      <td>y</td>\n",
              "      <td>y</td>\n",
              "      <td>n</td>\n",
              "      <td>y</td>\n",
              "      <td>y</td>\n",
              "      <td>n</td>\n",
              "      <td>n</td>\n",
              "      <td>n</td>\n",
              "      <td>n</td>\n",
              "      <td>y</td>\n",
              "      <td>?</td>\n",
              "      <td>y</td>\n",
              "      <td>y</td>\n",
              "      <td>y</td>\n",
              "      <td>y</td>\n",
              "    </tr>\n",
              "  </tbody>\n",
              "</table>\n",
              "</div>"
            ],
            "text/plain": [
              "        party handicapped-infants water-project  ... crime duty-free south-africa\n",
              "0  republican                   n             y  ...     y         n            y\n",
              "1  republican                   n             y  ...     y         n            ?\n",
              "2    democrat                   ?             y  ...     y         n            n\n",
              "3    democrat                   n             y  ...     n         n            y\n",
              "4    democrat                   y             y  ...     y         y            y\n",
              "\n",
              "[5 rows x 17 columns]"
            ]
          },
          "metadata": {
            "tags": []
          },
          "execution_count": 131
        }
      ]
    },
    {
      "cell_type": "code",
      "metadata": {
        "id": "AsL2N-D1rSC4",
        "colab_type": "code",
        "outputId": "2cf5f52f-0c5c-401e-d826-368f1ffab14b",
        "colab": {
          "base_uri": "https://localhost:8080/",
          "height": 258
        }
      },
      "source": [
        "import numpy as np\n",
        "df = df.replace({\"y\": 1, \"n\": 0, \"?\": np.NaN})\n",
        "\n",
        "df.head()"
      ],
      "execution_count": 132,
      "outputs": [
        {
          "output_type": "execute_result",
          "data": {
            "text/html": [
              "<div>\n",
              "<style scoped>\n",
              "    .dataframe tbody tr th:only-of-type {\n",
              "        vertical-align: middle;\n",
              "    }\n",
              "\n",
              "    .dataframe tbody tr th {\n",
              "        vertical-align: top;\n",
              "    }\n",
              "\n",
              "    .dataframe thead th {\n",
              "        text-align: right;\n",
              "    }\n",
              "</style>\n",
              "<table border=\"1\" class=\"dataframe\">\n",
              "  <thead>\n",
              "    <tr style=\"text-align: right;\">\n",
              "      <th></th>\n",
              "      <th>party</th>\n",
              "      <th>handicapped-infants</th>\n",
              "      <th>water-project</th>\n",
              "      <th>budget</th>\n",
              "      <th>physician-fee-freeze</th>\n",
              "      <th>el-salvador-aid</th>\n",
              "      <th>religious-groups</th>\n",
              "      <th>anti-satellite-ban</th>\n",
              "      <th>aid-to-contras</th>\n",
              "      <th>mx-missile</th>\n",
              "      <th>immigration</th>\n",
              "      <th>synfuels</th>\n",
              "      <th>education</th>\n",
              "      <th>right-to-sue</th>\n",
              "      <th>crime</th>\n",
              "      <th>duty-free</th>\n",
              "      <th>south-africa</th>\n",
              "    </tr>\n",
              "  </thead>\n",
              "  <tbody>\n",
              "    <tr>\n",
              "      <th>0</th>\n",
              "      <td>republican</td>\n",
              "      <td>0.0</td>\n",
              "      <td>1.0</td>\n",
              "      <td>0.0</td>\n",
              "      <td>1.0</td>\n",
              "      <td>1.0</td>\n",
              "      <td>1.0</td>\n",
              "      <td>0.0</td>\n",
              "      <td>0.0</td>\n",
              "      <td>0.0</td>\n",
              "      <td>1.0</td>\n",
              "      <td>NaN</td>\n",
              "      <td>1.0</td>\n",
              "      <td>1.0</td>\n",
              "      <td>1.0</td>\n",
              "      <td>0.0</td>\n",
              "      <td>1.0</td>\n",
              "    </tr>\n",
              "    <tr>\n",
              "      <th>1</th>\n",
              "      <td>republican</td>\n",
              "      <td>0.0</td>\n",
              "      <td>1.0</td>\n",
              "      <td>0.0</td>\n",
              "      <td>1.0</td>\n",
              "      <td>1.0</td>\n",
              "      <td>1.0</td>\n",
              "      <td>0.0</td>\n",
              "      <td>0.0</td>\n",
              "      <td>0.0</td>\n",
              "      <td>0.0</td>\n",
              "      <td>0.0</td>\n",
              "      <td>1.0</td>\n",
              "      <td>1.0</td>\n",
              "      <td>1.0</td>\n",
              "      <td>0.0</td>\n",
              "      <td>NaN</td>\n",
              "    </tr>\n",
              "    <tr>\n",
              "      <th>2</th>\n",
              "      <td>democrat</td>\n",
              "      <td>NaN</td>\n",
              "      <td>1.0</td>\n",
              "      <td>1.0</td>\n",
              "      <td>NaN</td>\n",
              "      <td>1.0</td>\n",
              "      <td>1.0</td>\n",
              "      <td>0.0</td>\n",
              "      <td>0.0</td>\n",
              "      <td>0.0</td>\n",
              "      <td>0.0</td>\n",
              "      <td>1.0</td>\n",
              "      <td>0.0</td>\n",
              "      <td>1.0</td>\n",
              "      <td>1.0</td>\n",
              "      <td>0.0</td>\n",
              "      <td>0.0</td>\n",
              "    </tr>\n",
              "    <tr>\n",
              "      <th>3</th>\n",
              "      <td>democrat</td>\n",
              "      <td>0.0</td>\n",
              "      <td>1.0</td>\n",
              "      <td>1.0</td>\n",
              "      <td>0.0</td>\n",
              "      <td>NaN</td>\n",
              "      <td>1.0</td>\n",
              "      <td>0.0</td>\n",
              "      <td>0.0</td>\n",
              "      <td>0.0</td>\n",
              "      <td>0.0</td>\n",
              "      <td>1.0</td>\n",
              "      <td>0.0</td>\n",
              "      <td>1.0</td>\n",
              "      <td>0.0</td>\n",
              "      <td>0.0</td>\n",
              "      <td>1.0</td>\n",
              "    </tr>\n",
              "    <tr>\n",
              "      <th>4</th>\n",
              "      <td>democrat</td>\n",
              "      <td>1.0</td>\n",
              "      <td>1.0</td>\n",
              "      <td>1.0</td>\n",
              "      <td>0.0</td>\n",
              "      <td>1.0</td>\n",
              "      <td>1.0</td>\n",
              "      <td>0.0</td>\n",
              "      <td>0.0</td>\n",
              "      <td>0.0</td>\n",
              "      <td>0.0</td>\n",
              "      <td>1.0</td>\n",
              "      <td>NaN</td>\n",
              "      <td>1.0</td>\n",
              "      <td>1.0</td>\n",
              "      <td>1.0</td>\n",
              "      <td>1.0</td>\n",
              "    </tr>\n",
              "  </tbody>\n",
              "</table>\n",
              "</div>"
            ],
            "text/plain": [
              "        party  handicapped-infants  ...  duty-free  south-africa\n",
              "0  republican                  0.0  ...        0.0           1.0\n",
              "1  republican                  0.0  ...        0.0           NaN\n",
              "2    democrat                  NaN  ...        0.0           0.0\n",
              "3    democrat                  0.0  ...        0.0           1.0\n",
              "4    democrat                  1.0  ...        1.0           1.0\n",
              "\n",
              "[5 rows x 17 columns]"
            ]
          },
          "metadata": {
            "tags": []
          },
          "execution_count": 132
        }
      ]
    },
    {
      "cell_type": "code",
      "metadata": {
        "id": "MMrssBJtrS6G",
        "colab_type": "code",
        "outputId": "1397fe2f-db4b-454d-fa1b-1f22ad9da5f4",
        "colab": {
          "base_uri": "https://localhost:8080/",
          "height": 306
        }
      },
      "source": [
        "rep = df[df['party']=='republican']\n",
        "\n",
        "rep.head()\n",
        "rep.mean()"
      ],
      "execution_count": 133,
      "outputs": [
        {
          "output_type": "execute_result",
          "data": {
            "text/plain": [
              "handicapped-infants     0.187879\n",
              "water-project           0.506757\n",
              "budget                  0.134146\n",
              "physician-fee-freeze    0.987879\n",
              "el-salvador-aid         0.951515\n",
              "religious-groups        0.897590\n",
              "anti-satellite-ban      0.240741\n",
              "aid-to-contras          0.152866\n",
              "mx-missile              0.115152\n",
              "immigration             0.557576\n",
              "synfuels                0.132075\n",
              "education               0.870968\n",
              "right-to-sue            0.860759\n",
              "crime                   0.981366\n",
              "duty-free               0.089744\n",
              "south-africa            0.657534\n",
              "dtype: float64"
            ]
          },
          "metadata": {
            "tags": []
          },
          "execution_count": 133
        }
      ]
    },
    {
      "cell_type": "code",
      "metadata": {
        "id": "AmQpILg6rTAX",
        "colab_type": "code",
        "outputId": "73561cc1-0541-43f2-abcf-fe1b477df858",
        "colab": {
          "base_uri": "https://localhost:8080/",
          "height": 306
        }
      },
      "source": [
        "dem = df[df['party']=='democrat']\n",
        "\n",
        "dem.head()\n",
        "dem.mean()"
      ],
      "execution_count": 134,
      "outputs": [
        {
          "output_type": "execute_result",
          "data": {
            "text/plain": [
              "handicapped-infants     0.604651\n",
              "water-project           0.502092\n",
              "budget                  0.888462\n",
              "physician-fee-freeze    0.054054\n",
              "el-salvador-aid         0.215686\n",
              "religious-groups        0.476744\n",
              "anti-satellite-ban      0.772201\n",
              "aid-to-contras          0.828897\n",
              "mx-missile              0.758065\n",
              "immigration             0.471483\n",
              "synfuels                0.505882\n",
              "education               0.144578\n",
              "right-to-sue            0.289683\n",
              "crime                   0.350195\n",
              "duty-free               0.637450\n",
              "south-africa            0.935135\n",
              "dtype: float64"
            ]
          },
          "metadata": {
            "tags": []
          },
          "execution_count": 134
        }
      ]
    },
    {
      "cell_type": "markdown",
      "metadata": {
        "id": "GOX6WSvsr5mq",
        "colab_type": "text"
      },
      "source": [
        "### Using hypothesis testing, find an issue that democrats support more than republicans with p < 0.01\n",
        "\n",
        "1) Null Hypothesis: Democrat support for the budget is equal to republican support for the budget.\n",
        "\n",
        "$H_0: \\bar{x}_{d} == \\bar{x}_{r}$\n",
        "\n",
        "2) Alternative Hypothesis: Democrat support for the budget is not equal to republican support for the budget\n",
        "\n",
        "$H_a: \\bar{x}_{d} \\neq \\bar{x}_{r}$\n",
        "\n",
        "3) Confidence Level: 95%"
      ]
    },
    {
      "cell_type": "code",
      "metadata": {
        "id": "hnZTfw7erTOi",
        "colab_type": "code",
        "outputId": "bdeb4b79-fe25-438b-beab-5e081488190b",
        "colab": {
          "base_uri": "https://localhost:8080/",
          "height": 34
        }
      },
      "source": [
        "#Budget\n",
        "from scipy import stats\n",
        "\n",
        "stats.ttest_ind(dem['budget'], rep['budget'], nan_policy='omit')\n"
      ],
      "execution_count": 0,
      "outputs": [
        {
          "output_type": "execute_result",
          "data": {
            "text/plain": [
              "Ttest_indResult(statistic=23.21277691701378, pvalue=2.0703402795404463e-77)"
            ]
          },
          "metadata": {
            "tags": []
          },
          "execution_count": 14
        }
      ]
    },
    {
      "cell_type": "markdown",
      "metadata": {
        "id": "z_L4bVUk1R4T",
        "colab_type": "text"
      },
      "source": [
        "### Conclusions\n",
        "\n",
        "Based on a t-statistic of 23.21 and a p-value of 2.07e-77, I reject the null hypothesis that Democrats and Republicans support the budget equally and instead offer an alternative hypothesis, that Democrats and Republicans do not support the budget at an equal rate."
      ]
    },
    {
      "cell_type": "markdown",
      "metadata": {
        "id": "wR5viQFSr8L6",
        "colab_type": "text"
      },
      "source": [
        "### Using hypothesis testing, find an issue that republicans support more than democrats with p < 0.01\n",
        "\n",
        "1) Null Hypothesis: Republican support for the \"physician fee freeze\" bill is equal to Democrat support for the \"physician fee freeze\" bill.\n",
        "\n",
        "$H_0: \\bar{x}_{r} == \\bar{x}_{d}$\n",
        "\n",
        "2) Alternative Hypothesis: Republican support for the \"physician fee freeze\" bill is not equal to Democratic support for the \"physician fee freeze\" bill\n",
        "\n",
        "$H_a: \\bar{x}_{r} \\neq \\bar{x}_{d}$\n",
        "\n",
        "3) Confidence Level: 95%"
      ]
    },
    {
      "cell_type": "code",
      "metadata": {
        "id": "8N4zWyAcrTVX",
        "colab_type": "code",
        "outputId": "1928b4ea-0c41-4f2a-e87e-970a87016eaa",
        "colab": {
          "base_uri": "https://localhost:8080/",
          "height": 34
        }
      },
      "source": [
        "#Physician fee freeze\n",
        "stats.ttest_ind(rep['physician-fee-freeze'], dem['physician-fee-freeze'], nan_policy='omit')"
      ],
      "execution_count": 0,
      "outputs": [
        {
          "output_type": "execute_result",
          "data": {
            "text/plain": [
              "Ttest_indResult(statistic=49.36708157301406, pvalue=1.994262314074344e-177)"
            ]
          },
          "metadata": {
            "tags": []
          },
          "execution_count": 15
        }
      ]
    },
    {
      "cell_type": "markdown",
      "metadata": {
        "id": "n-DRdcRx1ylZ",
        "colab_type": "text"
      },
      "source": [
        "## Conclusions\n",
        "\n",
        "Based on a t-statistic of 49.37 and a p-value of 1.99c-177, I reject the null hypothesis that Republicans and Democrats support the physician fee freeze bill at the same rate and instead offer an alternative hypothesis, that they support the bill at a different rate."
      ]
    },
    {
      "cell_type": "markdown",
      "metadata": {
        "id": "DodEZpWTsBB-",
        "colab_type": "text"
      },
      "source": [
        "### Using hypothesis testing, find an issue where the difference between republicans and democrats has p > 0.1 (i.e. there may not be much of a difference)\n",
        "\n",
        "1) Null Hypothesis: Democrat support for the \"water project\" bill is equal to Republican support for the \"water project\" bill.\n",
        "\n",
        "$H_0: \\bar{x}_{r} == \\bar{x}_{d}$\n",
        "\n",
        "2) Alternative Hypothesis: Democrat support for the \"water project\" bill is not equal to Republican support for the \"water project\" bill.\n",
        "\n",
        "$H_a: \\bar{x}_{r} \\neq \\bar{x}_{d}$\n",
        "\n",
        "3) Confidence Level: 95%"
      ]
    },
    {
      "cell_type": "code",
      "metadata": {
        "id": "0T7CT0AOrTI4",
        "colab_type": "code",
        "outputId": "e9d8a241-829b-4b72-812b-987caea57058",
        "colab": {
          "base_uri": "https://localhost:8080/",
          "height": 34
        }
      },
      "source": [
        "#Water project\n",
        "stats.ttest_ind(dem['water-project'], rep['water-project'], nan_policy='omit')"
      ],
      "execution_count": 0,
      "outputs": [
        {
          "output_type": "execute_result",
          "data": {
            "text/plain": [
              "Ttest_indResult(statistic=-0.08896538137868286, pvalue=0.9291556823993485)"
            ]
          },
          "metadata": {
            "tags": []
          },
          "execution_count": 16
        }
      ]
    },
    {
      "cell_type": "markdown",
      "metadata": {
        "id": "XSrfsr112Ez_",
        "colab_type": "text"
      },
      "source": [
        "Based on a t-value of -0.09 and a p-value of 0.93, I fail to reject the null hypothesis that Republicans and Democrats support the water project at the same rate."
      ]
    },
    {
      "cell_type": "markdown",
      "metadata": {
        "id": "ICEoqu7O2eHY",
        "colab_type": "text"
      },
      "source": [
        "# Stretch Goals\n",
        "## Refactor your code into functions so it's easy to rerun with arbitrary variables."
      ]
    },
    {
      "cell_type": "code",
      "metadata": {
        "id": "-SJk3Dgs2o45",
        "colab_type": "code",
        "colab": {}
      },
      "source": [
        "#My Function\n",
        "def Ttest(df1, df2):\n",
        "  return stats.ttest_ind(df1, df2, nan_policy='omit')"
      ],
      "execution_count": 0,
      "outputs": []
    },
    {
      "cell_type": "code",
      "metadata": {
        "id": "B37MDtdv3E8v",
        "colab_type": "code",
        "outputId": "2f0501c8-9b4c-4bf8-c670-5c6f637fef32",
        "colab": {
          "base_uri": "https://localhost:8080/",
          "height": 34
        }
      },
      "source": [
        "Ttest(dem['budget'], rep['budget'])"
      ],
      "execution_count": 136,
      "outputs": [
        {
          "output_type": "execute_result",
          "data": {
            "text/plain": [
              "Ttest_indResult(statistic=23.21277691701378, pvalue=2.0703402795404463e-77)"
            ]
          },
          "metadata": {
            "tags": []
          },
          "execution_count": 136
        }
      ]
    },
    {
      "cell_type": "code",
      "metadata": {
        "id": "rutpap5WZW3I",
        "colab_type": "code",
        "colab": {}
      },
      "source": [
        "#My Function + Means\n",
        "def Ttest(df1, df2):\n",
        "  print(\"df1 mean\")\n",
        "  print(df1.mean())\n",
        "  print(\" \")\n",
        "  print(\"df2 mean\")\n",
        "  print(df2.mean())\n",
        "  print(\" \")\n",
        "  return stats.ttest_ind(df1, df2, nan_policy='omit')"
      ],
      "execution_count": 0,
      "outputs": []
    },
    {
      "cell_type": "code",
      "metadata": {
        "id": "3_v9JxGJZXM9",
        "colab_type": "code",
        "colab": {
          "base_uri": "https://localhost:8080/",
          "height": 136
        },
        "outputId": "0fc0f173-d16c-487c-f2ea-d34128ec3755"
      },
      "source": [
        "Ttest(dem['budget'], rep['budget'])"
      ],
      "execution_count": 138,
      "outputs": [
        {
          "output_type": "stream",
          "text": [
            "df1 mean\n",
            "0.8884615384615384\n",
            " \n",
            "df2 mean\n",
            "0.13414634146341464\n",
            " \n"
          ],
          "name": "stdout"
        },
        {
          "output_type": "execute_result",
          "data": {
            "text/plain": [
              "Ttest_indResult(statistic=23.21277691701378, pvalue=2.0703402795404463e-77)"
            ]
          },
          "metadata": {
            "tags": []
          },
          "execution_count": 138
        }
      ]
    },
    {
      "cell_type": "code",
      "metadata": {
        "id": "40rM3AFvPGam",
        "colab_type": "code",
        "colab": {}
      },
      "source": [
        "#My Function with a for loop\n",
        "def Ttest_loop(df1, df2):\n",
        "  issues = df1.columns.tolist()\n",
        "  issues.remove('party')\n",
        "  output=[]\n",
        "\n",
        "  for issue in issues:\n",
        "    output.append(stats.ttest_ind(df1[issue], df2[issue], nan_policy='omit'))\n",
        "  return output"
      ],
      "execution_count": 0,
      "outputs": []
    },
    {
      "cell_type": "code",
      "metadata": {
        "id": "tOua7A83QGu9",
        "colab_type": "code",
        "outputId": "97600d70-b622-4310-9642-75d098491ce2",
        "colab": {
          "base_uri": "https://localhost:8080/",
          "height": 289
        }
      },
      "source": [
        "#I can't believe that worked. It's blowing my mind.\n",
        "Ttest_loop(dem, rep)"
      ],
      "execution_count": 140,
      "outputs": [
        {
          "output_type": "execute_result",
          "data": {
            "text/plain": [
              "[Ttest_indResult(statistic=9.205264294809222, pvalue=1.613440327937243e-18),\n",
              " Ttest_indResult(statistic=-0.08896538137868286, pvalue=0.9291556823993485),\n",
              " Ttest_indResult(statistic=23.21277691701378, pvalue=2.0703402795404463e-77),\n",
              " Ttest_indResult(statistic=-49.36708157301406, pvalue=1.994262314074344e-177),\n",
              " Ttest_indResult(statistic=-21.13669261173219, pvalue=5.600520111729011e-68),\n",
              " Ttest_indResult(statistic=-9.737575825219457, pvalue=2.3936722520597287e-20),\n",
              " Ttest_indResult(statistic=12.526187929077842, pvalue=8.521033017443867e-31),\n",
              " Ttest_indResult(statistic=18.052093200819733, pvalue=2.82471841372357e-54),\n",
              " Ttest_indResult(statistic=16.437503268542994, pvalue=5.03079265310811e-47),\n",
              " Ttest_indResult(statistic=-1.7359117329695164, pvalue=0.08330248490425066),\n",
              " Ttest_indResult(statistic=8.293603989407588, pvalue=1.5759322301054064e-15),\n",
              " Ttest_indResult(statistic=-20.500685724563073, pvalue=1.8834203990450192e-64),\n",
              " Ttest_indResult(statistic=-13.51064251060933, pvalue=1.2278581709672758e-34),\n",
              " Ttest_indResult(statistic=-16.342085656197696, pvalue=9.952342705606092e-47),\n",
              " Ttest_indResult(statistic=12.853146132542978, pvalue=5.997697174347365e-32),\n",
              " Ttest_indResult(statistic=6.849454815841208, pvalue=3.652674361672226e-11)]"
            ]
          },
          "metadata": {
            "tags": []
          },
          "execution_count": 140
        }
      ]
    },
    {
      "cell_type": "code",
      "metadata": {
        "id": "4b09SegqU5Mj",
        "colab_type": "code",
        "colab": {}
      },
      "source": [
        "#My Function with a for loop with added info\n",
        "import pandas as pd\n",
        "\n",
        "def Ttest_loop(df1, df2):\n",
        "  issues = df1.columns.tolist()\n",
        "  issues.remove('party')\n",
        "  output=[]\n",
        "\n",
        "  for issue in issues:\n",
        "    output.append([issue, \"df1 mean\", df1[issue].mean(), \"df2 mean\", df2[issue].mean(), stats.ttest_ind(df1[issue], df2[issue], nan_policy='omit')])\n",
        "   \n",
        "  return output\n"
      ],
      "execution_count": 0,
      "outputs": []
    },
    {
      "cell_type": "code",
      "metadata": {
        "id": "ScIcyjdbU8zx",
        "colab_type": "code",
        "outputId": "48885359-be1e-4f0a-a66f-89cc74bca41a",
        "colab": {
          "base_uri": "https://localhost:8080/",
          "height": 1000
        }
      },
      "source": [
        "#OMG... I can't believe I got that to work!\n",
        "Ttest_loop(dem, rep)"
      ],
      "execution_count": 130,
      "outputs": [
        {
          "output_type": "execute_result",
          "data": {
            "text/plain": [
              "[['handicapped-infants',\n",
              "  'df1 mean',\n",
              "  0.6046511627906976,\n",
              "  'df2 mean',\n",
              "  0.18787878787878787,\n",
              "  Ttest_indResult(statistic=9.205264294809222, pvalue=1.613440327937243e-18)],\n",
              " ['water-project',\n",
              "  'df1 mean',\n",
              "  0.502092050209205,\n",
              "  'df2 mean',\n",
              "  0.5067567567567568,\n",
              "  Ttest_indResult(statistic=-0.08896538137868286, pvalue=0.9291556823993485)],\n",
              " ['budget',\n",
              "  'df1 mean',\n",
              "  0.8884615384615384,\n",
              "  'df2 mean',\n",
              "  0.13414634146341464,\n",
              "  Ttest_indResult(statistic=23.21277691701378, pvalue=2.0703402795404463e-77)],\n",
              " ['physician-fee-freeze',\n",
              "  'df1 mean',\n",
              "  0.05405405405405406,\n",
              "  'df2 mean',\n",
              "  0.9878787878787879,\n",
              "  Ttest_indResult(statistic=-49.36708157301406, pvalue=1.994262314074344e-177)],\n",
              " ['el-salvador-aid',\n",
              "  'df1 mean',\n",
              "  0.21568627450980393,\n",
              "  'df2 mean',\n",
              "  0.9515151515151515,\n",
              "  Ttest_indResult(statistic=-21.13669261173219, pvalue=5.600520111729011e-68)],\n",
              " ['religious-groups',\n",
              "  'df1 mean',\n",
              "  0.47674418604651164,\n",
              "  'df2 mean',\n",
              "  0.8975903614457831,\n",
              "  Ttest_indResult(statistic=-9.737575825219457, pvalue=2.3936722520597287e-20)],\n",
              " ['anti-satellite-ban',\n",
              "  'df1 mean',\n",
              "  0.7722007722007722,\n",
              "  'df2 mean',\n",
              "  0.24074074074074073,\n",
              "  Ttest_indResult(statistic=12.526187929077842, pvalue=8.521033017443867e-31)],\n",
              " ['aid-to-contras',\n",
              "  'df1 mean',\n",
              "  0.8288973384030418,\n",
              "  'df2 mean',\n",
              "  0.15286624203821655,\n",
              "  Ttest_indResult(statistic=18.052093200819733, pvalue=2.82471841372357e-54)],\n",
              " ['mx-missile',\n",
              "  'df1 mean',\n",
              "  0.7580645161290323,\n",
              "  'df2 mean',\n",
              "  0.11515151515151516,\n",
              "  Ttest_indResult(statistic=16.437503268542994, pvalue=5.03079265310811e-47)],\n",
              " ['immigration',\n",
              "  'df1 mean',\n",
              "  0.4714828897338403,\n",
              "  'df2 mean',\n",
              "  0.5575757575757576,\n",
              "  Ttest_indResult(statistic=-1.7359117329695164, pvalue=0.08330248490425066)],\n",
              " ['synfuels',\n",
              "  'df1 mean',\n",
              "  0.5058823529411764,\n",
              "  'df2 mean',\n",
              "  0.1320754716981132,\n",
              "  Ttest_indResult(statistic=8.293603989407588, pvalue=1.5759322301054064e-15)],\n",
              " ['education',\n",
              "  'df1 mean',\n",
              "  0.14457831325301204,\n",
              "  'df2 mean',\n",
              "  0.8709677419354839,\n",
              "  Ttest_indResult(statistic=-20.500685724563073, pvalue=1.8834203990450192e-64)],\n",
              " ['right-to-sue',\n",
              "  'df1 mean',\n",
              "  0.2896825396825397,\n",
              "  'df2 mean',\n",
              "  0.8607594936708861,\n",
              "  Ttest_indResult(statistic=-13.51064251060933, pvalue=1.2278581709672758e-34)],\n",
              " ['crime',\n",
              "  'df1 mean',\n",
              "  0.35019455252918286,\n",
              "  'df2 mean',\n",
              "  0.9813664596273292,\n",
              "  Ttest_indResult(statistic=-16.342085656197696, pvalue=9.952342705606092e-47)],\n",
              " ['duty-free',\n",
              "  'df1 mean',\n",
              "  0.6374501992031872,\n",
              "  'df2 mean',\n",
              "  0.08974358974358974,\n",
              "  Ttest_indResult(statistic=12.853146132542978, pvalue=5.997697174347365e-32)],\n",
              " ['south-africa',\n",
              "  'df1 mean',\n",
              "  0.9351351351351351,\n",
              "  'df2 mean',\n",
              "  0.6575342465753424,\n",
              "  Ttest_indResult(statistic=6.849454815841208, pvalue=3.652674361672226e-11)]]"
            ]
          },
          "metadata": {
            "tags": []
          },
          "execution_count": 130
        }
      ]
    },
    {
      "cell_type": "code",
      "metadata": {
        "id": "T6eHRNMPn8dZ",
        "colab_type": "code",
        "colab": {}
      },
      "source": [
        "#My Function used to make an awesome new dataframe of everything relevant!\n",
        "import pandas as pd\n",
        "\n",
        "def Ttest_loop(df1, df2):\n",
        "  issues = df1.columns.tolist()\n",
        "  issues.remove('party')\n",
        "  output=[]\n",
        "\n",
        "  for issue in issues:\n",
        "    output.append([issue, df1[issue].mean(), df2[issue].mean(), stats.ttest_ind(df1[issue], df2[issue], nan_policy='omit')])\n",
        "   \n",
        "  return output"
      ],
      "execution_count": 0,
      "outputs": []
    },
    {
      "cell_type": "code",
      "metadata": {
        "id": "WcBL8ChKn89l",
        "colab_type": "code",
        "colab": {
          "base_uri": "https://localhost:8080/",
          "height": 545
        },
        "outputId": "01ffee88-d2d3-410e-bb83-3881b5d0b54b"
      },
      "source": [
        "df=Ttest_loop(dem, rep)\n",
        "\n",
        "df2 = pd.DataFrame([[i[0], i[1], i[2], i[3][0], i[3][1]] for i in df],\n",
        "                  columns=['issue', 'dem_mean', 'rep_mean', 't-statistic', 'p-value'])\n",
        "\n",
        "df2.sort_values(by=['p-value'])\n",
        "\n",
        "#I've made a new dataframe with the most relevant stuff sorted by p-value \n",
        "#In order to find the most polarizing bills.\n",
        " "
      ],
      "execution_count": 160,
      "outputs": [
        {
          "output_type": "execute_result",
          "data": {
            "text/html": [
              "<div>\n",
              "<style scoped>\n",
              "    .dataframe tbody tr th:only-of-type {\n",
              "        vertical-align: middle;\n",
              "    }\n",
              "\n",
              "    .dataframe tbody tr th {\n",
              "        vertical-align: top;\n",
              "    }\n",
              "\n",
              "    .dataframe thead th {\n",
              "        text-align: right;\n",
              "    }\n",
              "</style>\n",
              "<table border=\"1\" class=\"dataframe\">\n",
              "  <thead>\n",
              "    <tr style=\"text-align: right;\">\n",
              "      <th></th>\n",
              "      <th>issue</th>\n",
              "      <th>dem_mean</th>\n",
              "      <th>rep_mean</th>\n",
              "      <th>t-statistic</th>\n",
              "      <th>p-value</th>\n",
              "    </tr>\n",
              "  </thead>\n",
              "  <tbody>\n",
              "    <tr>\n",
              "      <th>3</th>\n",
              "      <td>physician-fee-freeze</td>\n",
              "      <td>0.054054</td>\n",
              "      <td>0.987879</td>\n",
              "      <td>-49.367082</td>\n",
              "      <td>1.994262e-177</td>\n",
              "    </tr>\n",
              "    <tr>\n",
              "      <th>2</th>\n",
              "      <td>budget</td>\n",
              "      <td>0.888462</td>\n",
              "      <td>0.134146</td>\n",
              "      <td>23.212777</td>\n",
              "      <td>2.070340e-77</td>\n",
              "    </tr>\n",
              "    <tr>\n",
              "      <th>4</th>\n",
              "      <td>el-salvador-aid</td>\n",
              "      <td>0.215686</td>\n",
              "      <td>0.951515</td>\n",
              "      <td>-21.136693</td>\n",
              "      <td>5.600520e-68</td>\n",
              "    </tr>\n",
              "    <tr>\n",
              "      <th>11</th>\n",
              "      <td>education</td>\n",
              "      <td>0.144578</td>\n",
              "      <td>0.870968</td>\n",
              "      <td>-20.500686</td>\n",
              "      <td>1.883420e-64</td>\n",
              "    </tr>\n",
              "    <tr>\n",
              "      <th>7</th>\n",
              "      <td>aid-to-contras</td>\n",
              "      <td>0.828897</td>\n",
              "      <td>0.152866</td>\n",
              "      <td>18.052093</td>\n",
              "      <td>2.824718e-54</td>\n",
              "    </tr>\n",
              "    <tr>\n",
              "      <th>8</th>\n",
              "      <td>mx-missile</td>\n",
              "      <td>0.758065</td>\n",
              "      <td>0.115152</td>\n",
              "      <td>16.437503</td>\n",
              "      <td>5.030793e-47</td>\n",
              "    </tr>\n",
              "    <tr>\n",
              "      <th>13</th>\n",
              "      <td>crime</td>\n",
              "      <td>0.350195</td>\n",
              "      <td>0.981366</td>\n",
              "      <td>-16.342086</td>\n",
              "      <td>9.952343e-47</td>\n",
              "    </tr>\n",
              "    <tr>\n",
              "      <th>12</th>\n",
              "      <td>right-to-sue</td>\n",
              "      <td>0.289683</td>\n",
              "      <td>0.860759</td>\n",
              "      <td>-13.510643</td>\n",
              "      <td>1.227858e-34</td>\n",
              "    </tr>\n",
              "    <tr>\n",
              "      <th>14</th>\n",
              "      <td>duty-free</td>\n",
              "      <td>0.637450</td>\n",
              "      <td>0.089744</td>\n",
              "      <td>12.853146</td>\n",
              "      <td>5.997697e-32</td>\n",
              "    </tr>\n",
              "    <tr>\n",
              "      <th>6</th>\n",
              "      <td>anti-satellite-ban</td>\n",
              "      <td>0.772201</td>\n",
              "      <td>0.240741</td>\n",
              "      <td>12.526188</td>\n",
              "      <td>8.521033e-31</td>\n",
              "    </tr>\n",
              "    <tr>\n",
              "      <th>5</th>\n",
              "      <td>religious-groups</td>\n",
              "      <td>0.476744</td>\n",
              "      <td>0.897590</td>\n",
              "      <td>-9.737576</td>\n",
              "      <td>2.393672e-20</td>\n",
              "    </tr>\n",
              "    <tr>\n",
              "      <th>0</th>\n",
              "      <td>handicapped-infants</td>\n",
              "      <td>0.604651</td>\n",
              "      <td>0.187879</td>\n",
              "      <td>9.205264</td>\n",
              "      <td>1.613440e-18</td>\n",
              "    </tr>\n",
              "    <tr>\n",
              "      <th>10</th>\n",
              "      <td>synfuels</td>\n",
              "      <td>0.505882</td>\n",
              "      <td>0.132075</td>\n",
              "      <td>8.293604</td>\n",
              "      <td>1.575932e-15</td>\n",
              "    </tr>\n",
              "    <tr>\n",
              "      <th>15</th>\n",
              "      <td>south-africa</td>\n",
              "      <td>0.935135</td>\n",
              "      <td>0.657534</td>\n",
              "      <td>6.849455</td>\n",
              "      <td>3.652674e-11</td>\n",
              "    </tr>\n",
              "    <tr>\n",
              "      <th>9</th>\n",
              "      <td>immigration</td>\n",
              "      <td>0.471483</td>\n",
              "      <td>0.557576</td>\n",
              "      <td>-1.735912</td>\n",
              "      <td>8.330248e-02</td>\n",
              "    </tr>\n",
              "    <tr>\n",
              "      <th>1</th>\n",
              "      <td>water-project</td>\n",
              "      <td>0.502092</td>\n",
              "      <td>0.506757</td>\n",
              "      <td>-0.088965</td>\n",
              "      <td>9.291557e-01</td>\n",
              "    </tr>\n",
              "  </tbody>\n",
              "</table>\n",
              "</div>"
            ],
            "text/plain": [
              "                   issue  dem_mean  rep_mean  t-statistic        p-value\n",
              "3   physician-fee-freeze  0.054054  0.987879   -49.367082  1.994262e-177\n",
              "2                 budget  0.888462  0.134146    23.212777   2.070340e-77\n",
              "4        el-salvador-aid  0.215686  0.951515   -21.136693   5.600520e-68\n",
              "11             education  0.144578  0.870968   -20.500686   1.883420e-64\n",
              "7         aid-to-contras  0.828897  0.152866    18.052093   2.824718e-54\n",
              "8             mx-missile  0.758065  0.115152    16.437503   5.030793e-47\n",
              "13                 crime  0.350195  0.981366   -16.342086   9.952343e-47\n",
              "12          right-to-sue  0.289683  0.860759   -13.510643   1.227858e-34\n",
              "14             duty-free  0.637450  0.089744    12.853146   5.997697e-32\n",
              "6     anti-satellite-ban  0.772201  0.240741    12.526188   8.521033e-31\n",
              "5       religious-groups  0.476744  0.897590    -9.737576   2.393672e-20\n",
              "0    handicapped-infants  0.604651  0.187879     9.205264   1.613440e-18\n",
              "10              synfuels  0.505882  0.132075     8.293604   1.575932e-15\n",
              "15          south-africa  0.935135  0.657534     6.849455   3.652674e-11\n",
              "9            immigration  0.471483  0.557576    -1.735912   8.330248e-02\n",
              "1          water-project  0.502092  0.506757    -0.088965   9.291557e-01"
            ]
          },
          "metadata": {
            "tags": []
          },
          "execution_count": 160
        }
      ]
    },
    {
      "cell_type": "code",
      "metadata": {
        "id": "tXC2nPeKn9q4",
        "colab_type": "code",
        "colab": {}
      },
      "source": [
        ""
      ],
      "execution_count": 0,
      "outputs": []
    },
    {
      "cell_type": "markdown",
      "metadata": {
        "id": "h_tIiCYk3hUy",
        "colab_type": "text"
      },
      "source": [
        "## Work on Performing a T-test without using Scipy in order to get \"under the hood\" and learn more thoroughly about this topic.\n",
        "\n",
        "### Start with a 1-sample T-test\n",
        "\n",
        "**- Establish the conditions for your test**\n",
        "1. Null Hypothesis: Democrats support the \"education\" bill is split 50/50: $H_0: \\mu == .5$\n",
        "\n",
        "2. Alternative Hypothesis: Democratic support for the \"education bill\" is not 50/50: $H_a: \\mu \\neq .5$\n",
        "\n",
        "3. Confidence Level: 95%\n",
        "\n",
        "\n",
        "**Calculate the T-Statistic**\n"
      ]
    },
    {
      "cell_type": "code",
      "metadata": {
        "id": "s-l8zVbh5a5r",
        "colab_type": "code",
        "outputId": "c7e43510-2d20-4cad-f214-e0f92c9e5a7f",
        "colab": {
          "base_uri": "https://localhost:8080/",
          "height": 453
        }
      },
      "source": [
        "from IPython.display import display, Image\n",
        "url = 'https://blog.minitab.com/hs-fs/hubfs/Imported_Blog_Media/701f9c0efa98a38fb397f3c3ec459b66.png?width=247&height=172&name=701f9c0efa98a38fb397f3c3ec459b66.png'\n",
        "\n",
        "one_sample = Image(url=url, width=400)\n",
        "\n",
        "display(one_sample)\n",
        "\n",
        "dem['education'].describe()"
      ],
      "execution_count": 0,
      "outputs": [
        {
          "output_type": "display_data",
          "data": {
            "text/html": [
              "<img src=\"https://blog.minitab.com/hs-fs/hubfs/Imported_Blog_Media/701f9c0efa98a38fb397f3c3ec459b66.png?width=247&height=172&name=701f9c0efa98a38fb397f3c3ec459b66.png\" width=\"400\"/>"
            ],
            "text/plain": [
              "<IPython.core.display.Image object>"
            ]
          },
          "metadata": {
            "tags": []
          }
        },
        {
          "output_type": "execute_result",
          "data": {
            "text/plain": [
              "count    249.000000\n",
              "mean       0.144578\n",
              "std        0.352383\n",
              "min        0.000000\n",
              "25%        0.000000\n",
              "50%        0.000000\n",
              "75%        0.000000\n",
              "max        1.000000\n",
              "Name: education, dtype: float64"
            ]
          },
          "metadata": {
            "tags": []
          },
          "execution_count": 29
        }
      ]
    },
    {
      "cell_type": "code",
      "metadata": {
        "id": "z6Y8ubcT7SoO",
        "colab_type": "code",
        "outputId": "71ef5cda-1775-4f25-9400-a51da9245e18",
        "colab": {
          "base_uri": "https://localhost:8080/",
          "height": 34
        }
      },
      "source": [
        "import math\n",
        "(0.144578-0.5) / (0.352383/math.sqrt(249))"
      ],
      "execution_count": 0,
      "outputs": [
        {
          "output_type": "execute_result",
          "data": {
            "text/plain": [
              "-15.915820457260377"
            ]
          },
          "metadata": {
            "tags": []
          },
          "execution_count": 25
        }
      ]
    },
    {
      "cell_type": "code",
      "metadata": {
        "id": "eT-oRm4986oP",
        "colab_type": "code",
        "outputId": "a2a2c1dc-09c6-4e4c-e8b6-5ff420fae0db",
        "colab": {
          "base_uri": "https://localhost:8080/",
          "height": 34
        }
      },
      "source": [
        "#Checking my work with SciPy\n",
        "stats.ttest_1samp(dem['education'], .5, nan_policy='omit')"
      ],
      "execution_count": 0,
      "outputs": [
        {
          "output_type": "execute_result",
          "data": {
            "text/plain": [
              "Ttest_1sampResult(statistic=-15.915784824279635, pvalue=8.900198902856228e-40)"
            ]
          },
          "metadata": {
            "tags": []
          },
          "execution_count": 26
        }
      ]
    },
    {
      "cell_type": "markdown",
      "metadata": {
        "id": "WY3NBLTQ-nNl",
        "colab_type": "text"
      },
      "source": [
        "###Conclusions\n",
        "\n",
        "Based on a t-statistic of -15.92 and a p-value of 8.9e-40, I reject the null hypothesis that Democrats support the \"education\" bill at a 50/50 level and instead offer an alternative hypothesis, that Democrats do not support the \"education\" bill at a 50/50 level."
      ]
    },
    {
      "cell_type": "markdown",
      "metadata": {
        "id": "xJand2qI5bhg",
        "colab_type": "text"
      },
      "source": [
        "## Then try a 2-sample T-Test\n",
        "\n",
        "**- Establish the conditions for your test**\n",
        "1. Null Hypothesis: Republicans and Democrats support the \"crime\" bill at equal levels: $H_0: \\bar{x}_{r} == \\bar{x}_{d}$\n",
        "\n",
        "2. Alternative Hypothesis: Republicans and Democrats do not support the \"crime\" bill at equal levels: $H_0: \\bar{x}_{r} \\neq \\bar{x}_{d}$\n",
        "\n",
        "3. Confidence Level: 95%\n",
        "\n",
        "\n",
        "**Calculate the T-Statistic**"
      ]
    },
    {
      "cell_type": "code",
      "metadata": {
        "id": "SsX8JqrG_30W",
        "colab_type": "code",
        "outputId": "8ba6e4ae-9749-4e55-db12-d76b4f3015bc",
        "colab": {
          "base_uri": "https://localhost:8080/",
          "height": 746
        }
      },
      "source": [
        "from IPython.display import display, Image\n",
        "url = 'https://www.statsdirect.co.uk/help/generatedimages/equations/equation167.svg'\n",
        "\n",
        "two_sample = Image(url=url, width=400)\n",
        "\n",
        "display(two_sample)\n",
        "\n",
        "print(\"Dem Crime\")\n",
        "print(dem['crime'].describe())\n",
        "print(\"Rep Crime\")\n",
        "print(rep['crime'].describe())\n",
        "print(\"for pooled sample variance\")\n",
        "df['crime'].describe()"
      ],
      "execution_count": 0,
      "outputs": [
        {
          "output_type": "display_data",
          "data": {
            "text/html": [
              "<img src=\"https://www.statsdirect.co.uk/help/generatedimages/equations/equation167.svg\" width=\"400\"/>"
            ],
            "text/plain": [
              "<IPython.core.display.Image object>"
            ]
          },
          "metadata": {
            "tags": []
          }
        },
        {
          "output_type": "stream",
          "text": [
            "Dem Crime\n",
            "count    257.000000\n",
            "mean       0.350195\n",
            "std        0.477962\n",
            "min        0.000000\n",
            "25%        0.000000\n",
            "50%        0.000000\n",
            "75%        1.000000\n",
            "max        1.000000\n",
            "Name: crime, dtype: float64\n",
            "Rep Crime\n",
            "count    161.000000\n",
            "mean       0.981366\n",
            "std        0.135649\n",
            "min        0.000000\n",
            "25%        1.000000\n",
            "50%        1.000000\n",
            "75%        1.000000\n",
            "max        1.000000\n",
            "Name: crime, dtype: float64\n",
            "for pooled sample variance\n"
          ],
          "name": "stdout"
        },
        {
          "output_type": "execute_result",
          "data": {
            "text/plain": [
              "count    418.000000\n",
              "mean       0.593301\n",
              "std        0.491806\n",
              "min        0.000000\n",
              "25%        0.000000\n",
              "50%        1.000000\n",
              "75%        1.000000\n",
              "max        1.000000\n",
              "Name: crime, dtype: float64"
            ]
          },
          "metadata": {
            "tags": []
          },
          "execution_count": 37
        }
      ]
    },
    {
      "cell_type": "code",
      "metadata": {
        "id": "-v1ZEh4ZCajI",
        "colab_type": "code",
        "outputId": "9c2bac84-3e68-4930-9674-15610e746ee1",
        "colab": {
          "base_uri": "https://localhost:8080/",
          "height": 34
        }
      },
      "source": [
        "#Calculate the t-statistic\n",
        "(0.35-0.98) / math.sqrt((0.49**2) * (1/257 + 1/161))\n",
        "\n",
        "#And the University of Iowa Applette is giving me 0 as a p-value"
      ],
      "execution_count": 0,
      "outputs": [
        {
          "output_type": "execute_result",
          "data": {
            "text/plain": [
              "-12.791922754803782"
            ]
          },
          "metadata": {
            "tags": []
          },
          "execution_count": 44
        }
      ]
    },
    {
      "cell_type": "code",
      "metadata": {
        "id": "jn07lXGHGy7r",
        "colab_type": "code",
        "outputId": "e4dccff5-48a8-456d-8ec1-8a5e57f8bb20",
        "colab": {
          "base_uri": "https://localhost:8080/",
          "height": 34
        }
      },
      "source": [
        "#Check my work with scipy. I did not get the correct t-statistic. \n",
        "#Maybe it's because I couldn't figure out how to do S-squared correctly.\n",
        "#The equation for that was too much of a beast for me to figure out.\n",
        "#I am thankful that never during the course of my career have I\n",
        "#asked by a client to do that by hand.\n",
        "stats.ttest_ind(rep['crime'], dem['crime'], nan_policy='omit')"
      ],
      "execution_count": 0,
      "outputs": [
        {
          "output_type": "execute_result",
          "data": {
            "text/plain": [
              "Ttest_indResult(statistic=16.342085656197696, pvalue=9.952342705606092e-47)"
            ]
          },
          "metadata": {
            "tags": []
          },
          "execution_count": 45
        }
      ]
    },
    {
      "cell_type": "markdown",
      "metadata": {
        "id": "pznkbIHUH_kW",
        "colab_type": "text"
      },
      "source": [
        "###Conclusions\n",
        "\n",
        "Based on a t-statistic of 16.34 and a p-value of 9.95e-47, I reject the null hypothesis that Republicans and Democrats have equal support for the \"crime\" bill and instead offer an alternative hypothesis that Republicans an Democrats do not support the crime bill at equal levels."
      ]
    },
    {
      "cell_type": "markdown",
      "metadata": {
        "id": "wcA_AvvRAqW_",
        "colab_type": "text"
      },
      "source": [
        "## Stretch Goals:\n",
        "\n",
        "1. Refactor your code into functions so it's easy to rerun with arbitrary variables\n",
        "2. Work on Performing a T-test without using Scipy in order to get \"under the hood\" and learn more thoroughly about this topic.\n",
        "### Start with a 1-sample t-test\n",
        " - Establish the conditions for your test \n",
        " - [Calculate the T Statistic](https://blog.minitab.com/hs-fs/hubfs/Imported_Blog_Media/701f9c0efa98a38fb397f3c3ec459b66.png?width=247&height=172&name=701f9c0efa98a38fb397f3c3ec459b66.png) (You'll need to omit NaN values from your sample).\n",
        " - Translate that t-statistic into a P-value. You can use a [table](https://www.google.com/search?q=t+statistic+table) or the [University of Iowa Applet](https://homepage.divms.uiowa.edu/~mbognar/applets/t.html)\n",
        "\n",
        " ### Then try a 2-sample t-test\n",
        " - Establish the conditions for your test \n",
        " - [Calculate the T Statistic](https://lh3.googleusercontent.com/proxy/rJJ5ZOL9ZDvKOOeBihXoZDgfk7uv1YsRzSQ1Tc10RX-r2HrRpRLVqlE9CWX23csYQXcTniFwlBg3H-qR8MKJPBGnjwndqlhDX3JxoDE5Yg) (You'll need to omit NaN values from your sample).\n",
        " - Translate that t-statistic into a P-value. You can use a [table](https://www.google.com/search?q=t+statistic+table) or the [University of Iowa Applet](https://homepage.divms.uiowa.edu/~mbognar/applets/t.html)\n",
        "\n",
        " ### Then check your Answers using Scipy!"
      ]
    },
    {
      "cell_type": "code",
      "metadata": {
        "id": "dPmXOHh1Cfea",
        "colab_type": "code",
        "colab": {}
      },
      "source": [
        ""
      ],
      "execution_count": 0,
      "outputs": []
    }
  ]
}