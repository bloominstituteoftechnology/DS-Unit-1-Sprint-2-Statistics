{
  "nbformat": 4,
  "nbformat_minor": 0,
  "metadata": {
    "kernelspec": {
      "display_name": "Python 3",
      "language": "python",
      "name": "python3"
    },
    "language_info": {
      "codemirror_mode": {
        "name": "ipython",
        "version": 3
      },
      "file_extension": ".py",
      "mimetype": "text/x-python",
      "name": "python",
      "nbconvert_exporter": "python",
      "pygments_lexer": "ipython3",
      "version": "3.7.3"
    },
    "colab": {
      "name": "jcs-LS_DS_121_Statistics_Probability_Assignment.ipynb",
      "provenance": [],
      "collapsed_sections": [],
      "include_colab_link": true
    }
  },
  "cells": [
    {
      "cell_type": "markdown",
      "metadata": {
        "id": "view-in-github",
        "colab_type": "text"
      },
      "source": [
        "<a href=\"https://colab.research.google.com/github/jcs-lambda/DS-Unit-1-Sprint-2-Statistics/blob/master/module1/LS_DS_121_Statistics_Probability_Assignment.ipynb\" target=\"_parent\"><img src=\"https://colab.research.google.com/assets/colab-badge.svg\" alt=\"Open In Colab\"/></a>"
      ]
    },
    {
      "cell_type": "markdown",
      "metadata": {
        "id": "Sa5KWMO1ngPN",
        "colab_type": "text"
      },
      "source": [
        "<img align=\"left\" src=\"https://lever-client-logos.s3.amazonaws.com/864372b1-534c-480e-acd5-9711f850815c-1524247202159.png\" width=200>\n",
        "<br></br>\n",
        "<br></br>\n",
        "\n",
        "## *Data Science Unit 1 Sprint 2 Assignment 1*\n",
        "\n",
        "# Apply the t-test to real data\n",
        "\n",
        "Your assignment is to determine which issues have \"statistically significant\" differences between political parties in this [1980s congressional voting data](https://archive.ics.uci.edu/ml/datasets/Congressional+Voting+Records). The data consists of 435 instances (one for each congressperson), a class (democrat or republican), and 16 binary attributes (yes or no for voting for or against certain issues). Be aware - there are missing values!\n",
        "\n",
        "Your goals:\n",
        "\n",
        "1. Load and clean the data (or determine the best method to drop observations when running tests)\n",
        "2. Using hypothesis testing, find an issue that democrats support more than republicans with p < 0.01\n",
        "3. Using hypothesis testing, find an issue that republicans support more than democrats with p < 0.01\n",
        "4. Using hypothesis testing, find an issue where the difference between republicans and democrats has p > 0.1 (i.e. there may not be much of a difference)\n",
        "\n",
        "Note that this data will involve *2 sample* t-tests, because you're comparing averages across two groups (republicans and democrats) rather than a single group against a null hypothesis.\n",
        "\n",
        "Stretch goals:\n",
        "\n",
        "1. Refactor your code into functions so it's easy to rerun with arbitrary variables\n",
        "2. Apply hypothesis testing to your personal project data (for the purposes of this notebook you can type a summary of the hypothesis you formed and tested)"
      ]
    },
    {
      "cell_type": "markdown",
      "metadata": {
        "id": "KbBJYGSrClC0",
        "colab_type": "text"
      },
      "source": [
        "#1. Load and clean the data"
      ]
    },
    {
      "cell_type": "code",
      "metadata": {
        "id": "ZKwspo2CngPP",
        "colab_type": "code",
        "cellView": "form",
        "outputId": "31c5edb7-53d0-4d8a-fd8e-59a18a8ef5c7",
        "colab": {
          "base_uri": "https://localhost:8080/",
          "height": 197
        }
      },
      "source": [
        "#@title Get data / imports\n",
        "!wget https://archive.ics.uci.edu/ml/machine-learning-databases/voting-records/house-votes-84.data\n",
        "\n",
        "import pandas as pd\n",
        "import numpy as np\n",
        "import seaborn as sns\n",
        "import matplotlib.pyplot as plt\n",
        "import scipy.stats as stats"
      ],
      "execution_count": 1,
      "outputs": [
        {
          "output_type": "stream",
          "text": [
            "--2019-11-07 15:19:41--  https://archive.ics.uci.edu/ml/machine-learning-databases/voting-records/house-votes-84.data\n",
            "Resolving archive.ics.uci.edu (archive.ics.uci.edu)... 128.195.10.252\n",
            "Connecting to archive.ics.uci.edu (archive.ics.uci.edu)|128.195.10.252|:443... connected.\n",
            "HTTP request sent, awaiting response... 200 OK\n",
            "Length: 18171 (18K) [application/x-httpd-php]\n",
            "Saving to: ‘house-votes-84.data’\n",
            "\n",
            "house-votes-84.data 100%[===================>]  17.75K  --.-KB/s    in 0.06s   \n",
            "\n",
            "2019-11-07 15:19:41 (280 KB/s) - ‘house-votes-84.data’ saved [18171/18171]\n",
            "\n"
          ],
          "name": "stdout"
        }
      ]
    },
    {
      "cell_type": "code",
      "metadata": {
        "id": "CjerRrXTBHH2",
        "colab_type": "code",
        "outputId": "6dacd587-cc94-4b32-e2f5-fd25247fb1d0",
        "colab": {
          "base_uri": "https://localhost:8080/",
          "height": 181
        }
      },
      "source": [
        "!head house-votes-84.data"
      ],
      "execution_count": 2,
      "outputs": [
        {
          "output_type": "stream",
          "text": [
            "republican,n,y,n,y,y,y,n,n,n,y,?,y,y,y,n,y\n",
            "republican,n,y,n,y,y,y,n,n,n,n,n,y,y,y,n,?\n",
            "democrat,?,y,y,?,y,y,n,n,n,n,y,n,y,y,n,n\n",
            "democrat,n,y,y,n,?,y,n,n,n,n,y,n,y,n,n,y\n",
            "democrat,y,y,y,n,y,y,n,n,n,n,y,?,y,y,y,y\n",
            "democrat,n,y,y,n,y,y,n,n,n,n,n,n,y,y,y,y\n",
            "democrat,n,y,n,y,y,y,n,n,n,n,n,n,?,y,y,y\n",
            "republican,n,y,n,y,y,y,n,n,n,n,n,n,y,y,?,y\n",
            "republican,n,y,n,y,y,y,n,n,n,n,n,y,y,y,n,y\n",
            "democrat,y,y,y,n,n,n,y,y,y,n,n,n,n,n,?,?\n"
          ],
          "name": "stdout"
        }
      ]
    },
    {
      "cell_type": "code",
      "metadata": {
        "id": "6mv7sSyhBSC1",
        "colab_type": "code",
        "outputId": "e0e25201-9f66-4d94-a13f-155014896c74",
        "colab": {
          "base_uri": "https://localhost:8080/",
          "height": 181
        }
      },
      "source": [
        "!tail house-votes-84.data"
      ],
      "execution_count": 3,
      "outputs": [
        {
          "output_type": "stream",
          "text": [
            "democrat,n,n,y,n,n,n,y,y,n,y,y,n,n,n,y,?\n",
            "democrat,y,n,y,n,n,n,y,y,y,y,n,n,n,n,y,y\n",
            "republican,n,n,n,y,y,y,y,y,n,y,n,y,y,y,n,y\n",
            "democrat,?,?,?,n,n,n,y,y,y,y,n,n,y,n,y,y\n",
            "democrat,y,n,y,n,?,n,y,y,y,y,n,y,n,?,y,y\n",
            "republican,n,n,y,y,y,y,n,n,y,y,n,y,y,y,n,y\n",
            "democrat,n,n,y,n,n,n,y,y,y,y,n,n,n,n,n,y\n",
            "republican,n,?,n,y,y,y,n,n,n,n,y,y,y,y,n,y\n",
            "republican,n,n,n,y,y,y,?,?,?,?,n,y,y,y,n,y\n",
            "republican,n,y,n,y,y,y,n,n,n,y,n,y,y,y,?,n\n"
          ],
          "name": "stdout"
        }
      ]
    },
    {
      "cell_type": "code",
      "metadata": {
        "id": "l9YtgXavBX77",
        "colab_type": "code",
        "outputId": "057da6d3-647b-492e-9435-4d2632836035",
        "colab": {
          "base_uri": "https://localhost:8080/",
          "height": 444
        }
      },
      "source": [
        "house_votes_columns = ['party','handicapped-infants','water-project',\n",
        "                          'budget','physician-fee-freeze', 'el-salvador-aid',\n",
        "                          'religious-groups','anti-satellite-ban',\n",
        "                          'aid-to-contras','mx-missile','immigration',\n",
        "                          'synfuels', 'education', 'right-to-sue','crime','duty-free',\n",
        "                          'south-africa']\n",
        "\n",
        "df = pd.read_csv('house-votes-84.data', header=None, names=house_votes_columns, na_values='?')\n",
        "df"
      ],
      "execution_count": 4,
      "outputs": [
        {
          "output_type": "execute_result",
          "data": {
            "text/html": [
              "<div>\n",
              "<style scoped>\n",
              "    .dataframe tbody tr th:only-of-type {\n",
              "        vertical-align: middle;\n",
              "    }\n",
              "\n",
              "    .dataframe tbody tr th {\n",
              "        vertical-align: top;\n",
              "    }\n",
              "\n",
              "    .dataframe thead th {\n",
              "        text-align: right;\n",
              "    }\n",
              "</style>\n",
              "<table border=\"1\" class=\"dataframe\">\n",
              "  <thead>\n",
              "    <tr style=\"text-align: right;\">\n",
              "      <th></th>\n",
              "      <th>party</th>\n",
              "      <th>handicapped-infants</th>\n",
              "      <th>water-project</th>\n",
              "      <th>budget</th>\n",
              "      <th>physician-fee-freeze</th>\n",
              "      <th>el-salvador-aid</th>\n",
              "      <th>religious-groups</th>\n",
              "      <th>anti-satellite-ban</th>\n",
              "      <th>aid-to-contras</th>\n",
              "      <th>mx-missile</th>\n",
              "      <th>immigration</th>\n",
              "      <th>synfuels</th>\n",
              "      <th>education</th>\n",
              "      <th>right-to-sue</th>\n",
              "      <th>crime</th>\n",
              "      <th>duty-free</th>\n",
              "      <th>south-africa</th>\n",
              "    </tr>\n",
              "  </thead>\n",
              "  <tbody>\n",
              "    <tr>\n",
              "      <th>0</th>\n",
              "      <td>republican</td>\n",
              "      <td>n</td>\n",
              "      <td>y</td>\n",
              "      <td>n</td>\n",
              "      <td>y</td>\n",
              "      <td>y</td>\n",
              "      <td>y</td>\n",
              "      <td>n</td>\n",
              "      <td>n</td>\n",
              "      <td>n</td>\n",
              "      <td>y</td>\n",
              "      <td>NaN</td>\n",
              "      <td>y</td>\n",
              "      <td>y</td>\n",
              "      <td>y</td>\n",
              "      <td>n</td>\n",
              "      <td>y</td>\n",
              "    </tr>\n",
              "    <tr>\n",
              "      <th>1</th>\n",
              "      <td>republican</td>\n",
              "      <td>n</td>\n",
              "      <td>y</td>\n",
              "      <td>n</td>\n",
              "      <td>y</td>\n",
              "      <td>y</td>\n",
              "      <td>y</td>\n",
              "      <td>n</td>\n",
              "      <td>n</td>\n",
              "      <td>n</td>\n",
              "      <td>n</td>\n",
              "      <td>n</td>\n",
              "      <td>y</td>\n",
              "      <td>y</td>\n",
              "      <td>y</td>\n",
              "      <td>n</td>\n",
              "      <td>NaN</td>\n",
              "    </tr>\n",
              "    <tr>\n",
              "      <th>2</th>\n",
              "      <td>democrat</td>\n",
              "      <td>NaN</td>\n",
              "      <td>y</td>\n",
              "      <td>y</td>\n",
              "      <td>NaN</td>\n",
              "      <td>y</td>\n",
              "      <td>y</td>\n",
              "      <td>n</td>\n",
              "      <td>n</td>\n",
              "      <td>n</td>\n",
              "      <td>n</td>\n",
              "      <td>y</td>\n",
              "      <td>n</td>\n",
              "      <td>y</td>\n",
              "      <td>y</td>\n",
              "      <td>n</td>\n",
              "      <td>n</td>\n",
              "    </tr>\n",
              "    <tr>\n",
              "      <th>3</th>\n",
              "      <td>democrat</td>\n",
              "      <td>n</td>\n",
              "      <td>y</td>\n",
              "      <td>y</td>\n",
              "      <td>n</td>\n",
              "      <td>NaN</td>\n",
              "      <td>y</td>\n",
              "      <td>n</td>\n",
              "      <td>n</td>\n",
              "      <td>n</td>\n",
              "      <td>n</td>\n",
              "      <td>y</td>\n",
              "      <td>n</td>\n",
              "      <td>y</td>\n",
              "      <td>n</td>\n",
              "      <td>n</td>\n",
              "      <td>y</td>\n",
              "    </tr>\n",
              "    <tr>\n",
              "      <th>4</th>\n",
              "      <td>democrat</td>\n",
              "      <td>y</td>\n",
              "      <td>y</td>\n",
              "      <td>y</td>\n",
              "      <td>n</td>\n",
              "      <td>y</td>\n",
              "      <td>y</td>\n",
              "      <td>n</td>\n",
              "      <td>n</td>\n",
              "      <td>n</td>\n",
              "      <td>n</td>\n",
              "      <td>y</td>\n",
              "      <td>NaN</td>\n",
              "      <td>y</td>\n",
              "      <td>y</td>\n",
              "      <td>y</td>\n",
              "      <td>y</td>\n",
              "    </tr>\n",
              "    <tr>\n",
              "      <th>...</th>\n",
              "      <td>...</td>\n",
              "      <td>...</td>\n",
              "      <td>...</td>\n",
              "      <td>...</td>\n",
              "      <td>...</td>\n",
              "      <td>...</td>\n",
              "      <td>...</td>\n",
              "      <td>...</td>\n",
              "      <td>...</td>\n",
              "      <td>...</td>\n",
              "      <td>...</td>\n",
              "      <td>...</td>\n",
              "      <td>...</td>\n",
              "      <td>...</td>\n",
              "      <td>...</td>\n",
              "      <td>...</td>\n",
              "      <td>...</td>\n",
              "    </tr>\n",
              "    <tr>\n",
              "      <th>430</th>\n",
              "      <td>republican</td>\n",
              "      <td>n</td>\n",
              "      <td>n</td>\n",
              "      <td>y</td>\n",
              "      <td>y</td>\n",
              "      <td>y</td>\n",
              "      <td>y</td>\n",
              "      <td>n</td>\n",
              "      <td>n</td>\n",
              "      <td>y</td>\n",
              "      <td>y</td>\n",
              "      <td>n</td>\n",
              "      <td>y</td>\n",
              "      <td>y</td>\n",
              "      <td>y</td>\n",
              "      <td>n</td>\n",
              "      <td>y</td>\n",
              "    </tr>\n",
              "    <tr>\n",
              "      <th>431</th>\n",
              "      <td>democrat</td>\n",
              "      <td>n</td>\n",
              "      <td>n</td>\n",
              "      <td>y</td>\n",
              "      <td>n</td>\n",
              "      <td>n</td>\n",
              "      <td>n</td>\n",
              "      <td>y</td>\n",
              "      <td>y</td>\n",
              "      <td>y</td>\n",
              "      <td>y</td>\n",
              "      <td>n</td>\n",
              "      <td>n</td>\n",
              "      <td>n</td>\n",
              "      <td>n</td>\n",
              "      <td>n</td>\n",
              "      <td>y</td>\n",
              "    </tr>\n",
              "    <tr>\n",
              "      <th>432</th>\n",
              "      <td>republican</td>\n",
              "      <td>n</td>\n",
              "      <td>NaN</td>\n",
              "      <td>n</td>\n",
              "      <td>y</td>\n",
              "      <td>y</td>\n",
              "      <td>y</td>\n",
              "      <td>n</td>\n",
              "      <td>n</td>\n",
              "      <td>n</td>\n",
              "      <td>n</td>\n",
              "      <td>y</td>\n",
              "      <td>y</td>\n",
              "      <td>y</td>\n",
              "      <td>y</td>\n",
              "      <td>n</td>\n",
              "      <td>y</td>\n",
              "    </tr>\n",
              "    <tr>\n",
              "      <th>433</th>\n",
              "      <td>republican</td>\n",
              "      <td>n</td>\n",
              "      <td>n</td>\n",
              "      <td>n</td>\n",
              "      <td>y</td>\n",
              "      <td>y</td>\n",
              "      <td>y</td>\n",
              "      <td>NaN</td>\n",
              "      <td>NaN</td>\n",
              "      <td>NaN</td>\n",
              "      <td>NaN</td>\n",
              "      <td>n</td>\n",
              "      <td>y</td>\n",
              "      <td>y</td>\n",
              "      <td>y</td>\n",
              "      <td>n</td>\n",
              "      <td>y</td>\n",
              "    </tr>\n",
              "    <tr>\n",
              "      <th>434</th>\n",
              "      <td>republican</td>\n",
              "      <td>n</td>\n",
              "      <td>y</td>\n",
              "      <td>n</td>\n",
              "      <td>y</td>\n",
              "      <td>y</td>\n",
              "      <td>y</td>\n",
              "      <td>n</td>\n",
              "      <td>n</td>\n",
              "      <td>n</td>\n",
              "      <td>y</td>\n",
              "      <td>n</td>\n",
              "      <td>y</td>\n",
              "      <td>y</td>\n",
              "      <td>y</td>\n",
              "      <td>NaN</td>\n",
              "      <td>n</td>\n",
              "    </tr>\n",
              "  </tbody>\n",
              "</table>\n",
              "<p>435 rows × 17 columns</p>\n",
              "</div>"
            ],
            "text/plain": [
              "          party handicapped-infants water-project  ... crime duty-free south-africa\n",
              "0    republican                   n             y  ...     y         n            y\n",
              "1    republican                   n             y  ...     y         n          NaN\n",
              "2      democrat                 NaN             y  ...     y         n            n\n",
              "3      democrat                   n             y  ...     n         n            y\n",
              "4      democrat                   y             y  ...     y         y            y\n",
              "..          ...                 ...           ...  ...   ...       ...          ...\n",
              "430  republican                   n             n  ...     y         n            y\n",
              "431    democrat                   n             n  ...     n         n            y\n",
              "432  republican                   n           NaN  ...     y         n            y\n",
              "433  republican                   n             n  ...     y         n            y\n",
              "434  republican                   n             y  ...     y       NaN            n\n",
              "\n",
              "[435 rows x 17 columns]"
            ]
          },
          "metadata": {
            "tags": []
          },
          "execution_count": 4
        }
      ]
    },
    {
      "cell_type": "code",
      "metadata": {
        "id": "fOddPS1fB-mn",
        "colab_type": "code",
        "outputId": "d182d796-2dc2-4a5d-e102-7e04f2329a1a",
        "colab": {
          "base_uri": "https://localhost:8080/",
          "height": 220
        }
      },
      "source": [
        "print(df.shape)\n",
        "df.describe()"
      ],
      "execution_count": 5,
      "outputs": [
        {
          "output_type": "stream",
          "text": [
            "(435, 17)\n"
          ],
          "name": "stdout"
        },
        {
          "output_type": "execute_result",
          "data": {
            "text/html": [
              "<div>\n",
              "<style scoped>\n",
              "    .dataframe tbody tr th:only-of-type {\n",
              "        vertical-align: middle;\n",
              "    }\n",
              "\n",
              "    .dataframe tbody tr th {\n",
              "        vertical-align: top;\n",
              "    }\n",
              "\n",
              "    .dataframe thead th {\n",
              "        text-align: right;\n",
              "    }\n",
              "</style>\n",
              "<table border=\"1\" class=\"dataframe\">\n",
              "  <thead>\n",
              "    <tr style=\"text-align: right;\">\n",
              "      <th></th>\n",
              "      <th>party</th>\n",
              "      <th>handicapped-infants</th>\n",
              "      <th>water-project</th>\n",
              "      <th>budget</th>\n",
              "      <th>physician-fee-freeze</th>\n",
              "      <th>el-salvador-aid</th>\n",
              "      <th>religious-groups</th>\n",
              "      <th>anti-satellite-ban</th>\n",
              "      <th>aid-to-contras</th>\n",
              "      <th>mx-missile</th>\n",
              "      <th>immigration</th>\n",
              "      <th>synfuels</th>\n",
              "      <th>education</th>\n",
              "      <th>right-to-sue</th>\n",
              "      <th>crime</th>\n",
              "      <th>duty-free</th>\n",
              "      <th>south-africa</th>\n",
              "    </tr>\n",
              "  </thead>\n",
              "  <tbody>\n",
              "    <tr>\n",
              "      <th>count</th>\n",
              "      <td>435</td>\n",
              "      <td>423</td>\n",
              "      <td>387</td>\n",
              "      <td>424</td>\n",
              "      <td>424</td>\n",
              "      <td>420</td>\n",
              "      <td>424</td>\n",
              "      <td>421</td>\n",
              "      <td>420</td>\n",
              "      <td>413</td>\n",
              "      <td>428</td>\n",
              "      <td>414</td>\n",
              "      <td>404</td>\n",
              "      <td>410</td>\n",
              "      <td>418</td>\n",
              "      <td>407</td>\n",
              "      <td>331</td>\n",
              "    </tr>\n",
              "    <tr>\n",
              "      <th>unique</th>\n",
              "      <td>2</td>\n",
              "      <td>2</td>\n",
              "      <td>2</td>\n",
              "      <td>2</td>\n",
              "      <td>2</td>\n",
              "      <td>2</td>\n",
              "      <td>2</td>\n",
              "      <td>2</td>\n",
              "      <td>2</td>\n",
              "      <td>2</td>\n",
              "      <td>2</td>\n",
              "      <td>2</td>\n",
              "      <td>2</td>\n",
              "      <td>2</td>\n",
              "      <td>2</td>\n",
              "      <td>2</td>\n",
              "      <td>2</td>\n",
              "    </tr>\n",
              "    <tr>\n",
              "      <th>top</th>\n",
              "      <td>democrat</td>\n",
              "      <td>n</td>\n",
              "      <td>y</td>\n",
              "      <td>y</td>\n",
              "      <td>n</td>\n",
              "      <td>y</td>\n",
              "      <td>y</td>\n",
              "      <td>y</td>\n",
              "      <td>y</td>\n",
              "      <td>y</td>\n",
              "      <td>y</td>\n",
              "      <td>n</td>\n",
              "      <td>n</td>\n",
              "      <td>y</td>\n",
              "      <td>y</td>\n",
              "      <td>n</td>\n",
              "      <td>y</td>\n",
              "    </tr>\n",
              "    <tr>\n",
              "      <th>freq</th>\n",
              "      <td>267</td>\n",
              "      <td>236</td>\n",
              "      <td>195</td>\n",
              "      <td>253</td>\n",
              "      <td>247</td>\n",
              "      <td>212</td>\n",
              "      <td>272</td>\n",
              "      <td>239</td>\n",
              "      <td>242</td>\n",
              "      <td>207</td>\n",
              "      <td>216</td>\n",
              "      <td>264</td>\n",
              "      <td>233</td>\n",
              "      <td>209</td>\n",
              "      <td>248</td>\n",
              "      <td>233</td>\n",
              "      <td>269</td>\n",
              "    </tr>\n",
              "  </tbody>\n",
              "</table>\n",
              "</div>"
            ],
            "text/plain": [
              "           party handicapped-infants water-project  ... crime duty-free south-africa\n",
              "count        435                 423           387  ...   418       407          331\n",
              "unique         2                   2             2  ...     2         2            2\n",
              "top     democrat                   n             y  ...     y         n            y\n",
              "freq         267                 236           195  ...   248       233          269\n",
              "\n",
              "[4 rows x 17 columns]"
            ]
          },
          "metadata": {
            "tags": []
          },
          "execution_count": 5
        }
      ]
    },
    {
      "cell_type": "code",
      "metadata": {
        "id": "KsYFZ5bWCBBw",
        "colab_type": "code",
        "outputId": "352466ef-0fb7-492a-e793-f0fdbcb87c23",
        "colab": {
          "base_uri": "https://localhost:8080/",
          "height": 312
        }
      },
      "source": [
        "df.isnull().sum()"
      ],
      "execution_count": 6,
      "outputs": [
        {
          "output_type": "execute_result",
          "data": {
            "text/plain": [
              "party                     0\n",
              "handicapped-infants      12\n",
              "water-project            48\n",
              "budget                   11\n",
              "physician-fee-freeze     11\n",
              "el-salvador-aid          15\n",
              "religious-groups         11\n",
              "anti-satellite-ban       14\n",
              "aid-to-contras           15\n",
              "mx-missile               22\n",
              "immigration               7\n",
              "synfuels                 21\n",
              "education                31\n",
              "right-to-sue             25\n",
              "crime                    17\n",
              "duty-free                28\n",
              "south-africa            104\n",
              "dtype: int64"
            ]
          },
          "metadata": {
            "tags": []
          },
          "execution_count": 6
        }
      ]
    },
    {
      "cell_type": "code",
      "metadata": {
        "id": "TMzPbH9wHdXn",
        "colab_type": "code",
        "outputId": "e3fa9754-fac0-4597-b891-25ee432b31a2",
        "colab": {
          "base_uri": "https://localhost:8080/",
          "height": 324
        }
      },
      "source": [
        "df = df.replace({'y':1, 'n':0})\n",
        "df.describe()"
      ],
      "execution_count": 7,
      "outputs": [
        {
          "output_type": "execute_result",
          "data": {
            "text/html": [
              "<div>\n",
              "<style scoped>\n",
              "    .dataframe tbody tr th:only-of-type {\n",
              "        vertical-align: middle;\n",
              "    }\n",
              "\n",
              "    .dataframe tbody tr th {\n",
              "        vertical-align: top;\n",
              "    }\n",
              "\n",
              "    .dataframe thead th {\n",
              "        text-align: right;\n",
              "    }\n",
              "</style>\n",
              "<table border=\"1\" class=\"dataframe\">\n",
              "  <thead>\n",
              "    <tr style=\"text-align: right;\">\n",
              "      <th></th>\n",
              "      <th>handicapped-infants</th>\n",
              "      <th>water-project</th>\n",
              "      <th>budget</th>\n",
              "      <th>physician-fee-freeze</th>\n",
              "      <th>el-salvador-aid</th>\n",
              "      <th>religious-groups</th>\n",
              "      <th>anti-satellite-ban</th>\n",
              "      <th>aid-to-contras</th>\n",
              "      <th>mx-missile</th>\n",
              "      <th>immigration</th>\n",
              "      <th>synfuels</th>\n",
              "      <th>education</th>\n",
              "      <th>right-to-sue</th>\n",
              "      <th>crime</th>\n",
              "      <th>duty-free</th>\n",
              "      <th>south-africa</th>\n",
              "    </tr>\n",
              "  </thead>\n",
              "  <tbody>\n",
              "    <tr>\n",
              "      <th>count</th>\n",
              "      <td>423.000000</td>\n",
              "      <td>387.000000</td>\n",
              "      <td>424.000000</td>\n",
              "      <td>424.000000</td>\n",
              "      <td>420.000000</td>\n",
              "      <td>424.000000</td>\n",
              "      <td>421.000000</td>\n",
              "      <td>420.00000</td>\n",
              "      <td>413.000000</td>\n",
              "      <td>428.000000</td>\n",
              "      <td>414.000000</td>\n",
              "      <td>404.000000</td>\n",
              "      <td>410.000000</td>\n",
              "      <td>418.000000</td>\n",
              "      <td>407.000000</td>\n",
              "      <td>331.000000</td>\n",
              "    </tr>\n",
              "    <tr>\n",
              "      <th>mean</th>\n",
              "      <td>0.442080</td>\n",
              "      <td>0.503876</td>\n",
              "      <td>0.596698</td>\n",
              "      <td>0.417453</td>\n",
              "      <td>0.504762</td>\n",
              "      <td>0.641509</td>\n",
              "      <td>0.567696</td>\n",
              "      <td>0.57619</td>\n",
              "      <td>0.501211</td>\n",
              "      <td>0.504673</td>\n",
              "      <td>0.362319</td>\n",
              "      <td>0.423267</td>\n",
              "      <td>0.509756</td>\n",
              "      <td>0.593301</td>\n",
              "      <td>0.427518</td>\n",
              "      <td>0.812689</td>\n",
              "    </tr>\n",
              "    <tr>\n",
              "      <th>std</th>\n",
              "      <td>0.497222</td>\n",
              "      <td>0.500632</td>\n",
              "      <td>0.491140</td>\n",
              "      <td>0.493721</td>\n",
              "      <td>0.500574</td>\n",
              "      <td>0.480124</td>\n",
              "      <td>0.495985</td>\n",
              "      <td>0.49475</td>\n",
              "      <td>0.500605</td>\n",
              "      <td>0.500563</td>\n",
              "      <td>0.481252</td>\n",
              "      <td>0.494690</td>\n",
              "      <td>0.500516</td>\n",
              "      <td>0.491806</td>\n",
              "      <td>0.495327</td>\n",
              "      <td>0.390752</td>\n",
              "    </tr>\n",
              "    <tr>\n",
              "      <th>min</th>\n",
              "      <td>0.000000</td>\n",
              "      <td>0.000000</td>\n",
              "      <td>0.000000</td>\n",
              "      <td>0.000000</td>\n",
              "      <td>0.000000</td>\n",
              "      <td>0.000000</td>\n",
              "      <td>0.000000</td>\n",
              "      <td>0.00000</td>\n",
              "      <td>0.000000</td>\n",
              "      <td>0.000000</td>\n",
              "      <td>0.000000</td>\n",
              "      <td>0.000000</td>\n",
              "      <td>0.000000</td>\n",
              "      <td>0.000000</td>\n",
              "      <td>0.000000</td>\n",
              "      <td>0.000000</td>\n",
              "    </tr>\n",
              "    <tr>\n",
              "      <th>25%</th>\n",
              "      <td>0.000000</td>\n",
              "      <td>0.000000</td>\n",
              "      <td>0.000000</td>\n",
              "      <td>0.000000</td>\n",
              "      <td>0.000000</td>\n",
              "      <td>0.000000</td>\n",
              "      <td>0.000000</td>\n",
              "      <td>0.00000</td>\n",
              "      <td>0.000000</td>\n",
              "      <td>0.000000</td>\n",
              "      <td>0.000000</td>\n",
              "      <td>0.000000</td>\n",
              "      <td>0.000000</td>\n",
              "      <td>0.000000</td>\n",
              "      <td>0.000000</td>\n",
              "      <td>1.000000</td>\n",
              "    </tr>\n",
              "    <tr>\n",
              "      <th>50%</th>\n",
              "      <td>0.000000</td>\n",
              "      <td>1.000000</td>\n",
              "      <td>1.000000</td>\n",
              "      <td>0.000000</td>\n",
              "      <td>1.000000</td>\n",
              "      <td>1.000000</td>\n",
              "      <td>1.000000</td>\n",
              "      <td>1.00000</td>\n",
              "      <td>1.000000</td>\n",
              "      <td>1.000000</td>\n",
              "      <td>0.000000</td>\n",
              "      <td>0.000000</td>\n",
              "      <td>1.000000</td>\n",
              "      <td>1.000000</td>\n",
              "      <td>0.000000</td>\n",
              "      <td>1.000000</td>\n",
              "    </tr>\n",
              "    <tr>\n",
              "      <th>75%</th>\n",
              "      <td>1.000000</td>\n",
              "      <td>1.000000</td>\n",
              "      <td>1.000000</td>\n",
              "      <td>1.000000</td>\n",
              "      <td>1.000000</td>\n",
              "      <td>1.000000</td>\n",
              "      <td>1.000000</td>\n",
              "      <td>1.00000</td>\n",
              "      <td>1.000000</td>\n",
              "      <td>1.000000</td>\n",
              "      <td>1.000000</td>\n",
              "      <td>1.000000</td>\n",
              "      <td>1.000000</td>\n",
              "      <td>1.000000</td>\n",
              "      <td>1.000000</td>\n",
              "      <td>1.000000</td>\n",
              "    </tr>\n",
              "    <tr>\n",
              "      <th>max</th>\n",
              "      <td>1.000000</td>\n",
              "      <td>1.000000</td>\n",
              "      <td>1.000000</td>\n",
              "      <td>1.000000</td>\n",
              "      <td>1.000000</td>\n",
              "      <td>1.000000</td>\n",
              "      <td>1.000000</td>\n",
              "      <td>1.00000</td>\n",
              "      <td>1.000000</td>\n",
              "      <td>1.000000</td>\n",
              "      <td>1.000000</td>\n",
              "      <td>1.000000</td>\n",
              "      <td>1.000000</td>\n",
              "      <td>1.000000</td>\n",
              "      <td>1.000000</td>\n",
              "      <td>1.000000</td>\n",
              "    </tr>\n",
              "  </tbody>\n",
              "</table>\n",
              "</div>"
            ],
            "text/plain": [
              "       handicapped-infants  water-project  ...   duty-free  south-africa\n",
              "count           423.000000     387.000000  ...  407.000000    331.000000\n",
              "mean              0.442080       0.503876  ...    0.427518      0.812689\n",
              "std               0.497222       0.500632  ...    0.495327      0.390752\n",
              "min               0.000000       0.000000  ...    0.000000      0.000000\n",
              "25%               0.000000       0.000000  ...    0.000000      1.000000\n",
              "50%               0.000000       1.000000  ...    0.000000      1.000000\n",
              "75%               1.000000       1.000000  ...    1.000000      1.000000\n",
              "max               1.000000       1.000000  ...    1.000000      1.000000\n",
              "\n",
              "[8 rows x 16 columns]"
            ]
          },
          "metadata": {
            "tags": []
          },
          "execution_count": 7
        }
      ]
    },
    {
      "cell_type": "code",
      "metadata": {
        "id": "Sbcac3hsDVgj",
        "colab_type": "code",
        "outputId": "79889419-e889-46f2-a1e6-5bf23238c768",
        "colab": {
          "base_uri": "https://localhost:8080/",
          "height": 32
        }
      },
      "source": [
        "sorted(df['party'].unique())"
      ],
      "execution_count": 8,
      "outputs": [
        {
          "output_type": "execute_result",
          "data": {
            "text/plain": [
              "['democrat', 'republican']"
            ]
          },
          "metadata": {
            "tags": []
          },
          "execution_count": 8
        }
      ]
    },
    {
      "cell_type": "code",
      "metadata": {
        "id": "DZvzySA2DDxx",
        "colab_type": "code",
        "outputId": "9e7703b1-fb66-44f4-ac74-45962bac7719",
        "colab": {
          "base_uri": "https://localhost:8080/",
          "height": 250
        }
      },
      "source": [
        "rep = df[df['party'] == 'republican']\n",
        "print(rep.shape)\n",
        "rep.head()"
      ],
      "execution_count": 9,
      "outputs": [
        {
          "output_type": "stream",
          "text": [
            "(168, 17)\n"
          ],
          "name": "stdout"
        },
        {
          "output_type": "execute_result",
          "data": {
            "text/html": [
              "<div>\n",
              "<style scoped>\n",
              "    .dataframe tbody tr th:only-of-type {\n",
              "        vertical-align: middle;\n",
              "    }\n",
              "\n",
              "    .dataframe tbody tr th {\n",
              "        vertical-align: top;\n",
              "    }\n",
              "\n",
              "    .dataframe thead th {\n",
              "        text-align: right;\n",
              "    }\n",
              "</style>\n",
              "<table border=\"1\" class=\"dataframe\">\n",
              "  <thead>\n",
              "    <tr style=\"text-align: right;\">\n",
              "      <th></th>\n",
              "      <th>party</th>\n",
              "      <th>handicapped-infants</th>\n",
              "      <th>water-project</th>\n",
              "      <th>budget</th>\n",
              "      <th>physician-fee-freeze</th>\n",
              "      <th>el-salvador-aid</th>\n",
              "      <th>religious-groups</th>\n",
              "      <th>anti-satellite-ban</th>\n",
              "      <th>aid-to-contras</th>\n",
              "      <th>mx-missile</th>\n",
              "      <th>immigration</th>\n",
              "      <th>synfuels</th>\n",
              "      <th>education</th>\n",
              "      <th>right-to-sue</th>\n",
              "      <th>crime</th>\n",
              "      <th>duty-free</th>\n",
              "      <th>south-africa</th>\n",
              "    </tr>\n",
              "  </thead>\n",
              "  <tbody>\n",
              "    <tr>\n",
              "      <th>0</th>\n",
              "      <td>republican</td>\n",
              "      <td>0.0</td>\n",
              "      <td>1.0</td>\n",
              "      <td>0.0</td>\n",
              "      <td>1.0</td>\n",
              "      <td>1.0</td>\n",
              "      <td>1.0</td>\n",
              "      <td>0.0</td>\n",
              "      <td>0.0</td>\n",
              "      <td>0.0</td>\n",
              "      <td>1.0</td>\n",
              "      <td>NaN</td>\n",
              "      <td>1.0</td>\n",
              "      <td>1.0</td>\n",
              "      <td>1.0</td>\n",
              "      <td>0.0</td>\n",
              "      <td>1.0</td>\n",
              "    </tr>\n",
              "    <tr>\n",
              "      <th>1</th>\n",
              "      <td>republican</td>\n",
              "      <td>0.0</td>\n",
              "      <td>1.0</td>\n",
              "      <td>0.0</td>\n",
              "      <td>1.0</td>\n",
              "      <td>1.0</td>\n",
              "      <td>1.0</td>\n",
              "      <td>0.0</td>\n",
              "      <td>0.0</td>\n",
              "      <td>0.0</td>\n",
              "      <td>0.0</td>\n",
              "      <td>0.0</td>\n",
              "      <td>1.0</td>\n",
              "      <td>1.0</td>\n",
              "      <td>1.0</td>\n",
              "      <td>0.0</td>\n",
              "      <td>NaN</td>\n",
              "    </tr>\n",
              "    <tr>\n",
              "      <th>7</th>\n",
              "      <td>republican</td>\n",
              "      <td>0.0</td>\n",
              "      <td>1.0</td>\n",
              "      <td>0.0</td>\n",
              "      <td>1.0</td>\n",
              "      <td>1.0</td>\n",
              "      <td>1.0</td>\n",
              "      <td>0.0</td>\n",
              "      <td>0.0</td>\n",
              "      <td>0.0</td>\n",
              "      <td>0.0</td>\n",
              "      <td>0.0</td>\n",
              "      <td>0.0</td>\n",
              "      <td>1.0</td>\n",
              "      <td>1.0</td>\n",
              "      <td>NaN</td>\n",
              "      <td>1.0</td>\n",
              "    </tr>\n",
              "    <tr>\n",
              "      <th>8</th>\n",
              "      <td>republican</td>\n",
              "      <td>0.0</td>\n",
              "      <td>1.0</td>\n",
              "      <td>0.0</td>\n",
              "      <td>1.0</td>\n",
              "      <td>1.0</td>\n",
              "      <td>1.0</td>\n",
              "      <td>0.0</td>\n",
              "      <td>0.0</td>\n",
              "      <td>0.0</td>\n",
              "      <td>0.0</td>\n",
              "      <td>0.0</td>\n",
              "      <td>1.0</td>\n",
              "      <td>1.0</td>\n",
              "      <td>1.0</td>\n",
              "      <td>0.0</td>\n",
              "      <td>1.0</td>\n",
              "    </tr>\n",
              "    <tr>\n",
              "      <th>10</th>\n",
              "      <td>republican</td>\n",
              "      <td>0.0</td>\n",
              "      <td>1.0</td>\n",
              "      <td>0.0</td>\n",
              "      <td>1.0</td>\n",
              "      <td>1.0</td>\n",
              "      <td>0.0</td>\n",
              "      <td>0.0</td>\n",
              "      <td>0.0</td>\n",
              "      <td>0.0</td>\n",
              "      <td>0.0</td>\n",
              "      <td>NaN</td>\n",
              "      <td>NaN</td>\n",
              "      <td>1.0</td>\n",
              "      <td>1.0</td>\n",
              "      <td>0.0</td>\n",
              "      <td>0.0</td>\n",
              "    </tr>\n",
              "  </tbody>\n",
              "</table>\n",
              "</div>"
            ],
            "text/plain": [
              "         party  handicapped-infants  ...  duty-free  south-africa\n",
              "0   republican                  0.0  ...        0.0           1.0\n",
              "1   republican                  0.0  ...        0.0           NaN\n",
              "7   republican                  0.0  ...        NaN           1.0\n",
              "8   republican                  0.0  ...        0.0           1.0\n",
              "10  republican                  0.0  ...        0.0           0.0\n",
              "\n",
              "[5 rows x 17 columns]"
            ]
          },
          "metadata": {
            "tags": []
          },
          "execution_count": 9
        }
      ]
    },
    {
      "cell_type": "code",
      "metadata": {
        "id": "wpTLF4xbEI_y",
        "colab_type": "code",
        "outputId": "8fe3b4d9-de0b-4729-d3d9-40190a70ab16",
        "colab": {
          "base_uri": "https://localhost:8080/",
          "height": 312
        }
      },
      "source": [
        "rep.isnull().sum()"
      ],
      "execution_count": 10,
      "outputs": [
        {
          "output_type": "execute_result",
          "data": {
            "text/plain": [
              "party                    0\n",
              "handicapped-infants      3\n",
              "water-project           20\n",
              "budget                   4\n",
              "physician-fee-freeze     3\n",
              "el-salvador-aid          3\n",
              "religious-groups         2\n",
              "anti-satellite-ban       6\n",
              "aid-to-contras          11\n",
              "mx-missile               3\n",
              "immigration              3\n",
              "synfuels                 9\n",
              "education               13\n",
              "right-to-sue            10\n",
              "crime                    7\n",
              "duty-free               12\n",
              "south-africa            22\n",
              "dtype: int64"
            ]
          },
          "metadata": {
            "tags": []
          },
          "execution_count": 10
        }
      ]
    },
    {
      "cell_type": "code",
      "metadata": {
        "id": "wTCfUntsDrtH",
        "colab_type": "code",
        "outputId": "4f02a9c2-95d3-432d-dc04-2439d4f69112",
        "colab": {
          "base_uri": "https://localhost:8080/",
          "height": 250
        }
      },
      "source": [
        "dem = df[df['party'] == 'democrat']\n",
        "print(dem.shape)\n",
        "dem.head()"
      ],
      "execution_count": 11,
      "outputs": [
        {
          "output_type": "stream",
          "text": [
            "(267, 17)\n"
          ],
          "name": "stdout"
        },
        {
          "output_type": "execute_result",
          "data": {
            "text/html": [
              "<div>\n",
              "<style scoped>\n",
              "    .dataframe tbody tr th:only-of-type {\n",
              "        vertical-align: middle;\n",
              "    }\n",
              "\n",
              "    .dataframe tbody tr th {\n",
              "        vertical-align: top;\n",
              "    }\n",
              "\n",
              "    .dataframe thead th {\n",
              "        text-align: right;\n",
              "    }\n",
              "</style>\n",
              "<table border=\"1\" class=\"dataframe\">\n",
              "  <thead>\n",
              "    <tr style=\"text-align: right;\">\n",
              "      <th></th>\n",
              "      <th>party</th>\n",
              "      <th>handicapped-infants</th>\n",
              "      <th>water-project</th>\n",
              "      <th>budget</th>\n",
              "      <th>physician-fee-freeze</th>\n",
              "      <th>el-salvador-aid</th>\n",
              "      <th>religious-groups</th>\n",
              "      <th>anti-satellite-ban</th>\n",
              "      <th>aid-to-contras</th>\n",
              "      <th>mx-missile</th>\n",
              "      <th>immigration</th>\n",
              "      <th>synfuels</th>\n",
              "      <th>education</th>\n",
              "      <th>right-to-sue</th>\n",
              "      <th>crime</th>\n",
              "      <th>duty-free</th>\n",
              "      <th>south-africa</th>\n",
              "    </tr>\n",
              "  </thead>\n",
              "  <tbody>\n",
              "    <tr>\n",
              "      <th>2</th>\n",
              "      <td>democrat</td>\n",
              "      <td>NaN</td>\n",
              "      <td>1.0</td>\n",
              "      <td>1.0</td>\n",
              "      <td>NaN</td>\n",
              "      <td>1.0</td>\n",
              "      <td>1.0</td>\n",
              "      <td>0.0</td>\n",
              "      <td>0.0</td>\n",
              "      <td>0.0</td>\n",
              "      <td>0.0</td>\n",
              "      <td>1.0</td>\n",
              "      <td>0.0</td>\n",
              "      <td>1.0</td>\n",
              "      <td>1.0</td>\n",
              "      <td>0.0</td>\n",
              "      <td>0.0</td>\n",
              "    </tr>\n",
              "    <tr>\n",
              "      <th>3</th>\n",
              "      <td>democrat</td>\n",
              "      <td>0.0</td>\n",
              "      <td>1.0</td>\n",
              "      <td>1.0</td>\n",
              "      <td>0.0</td>\n",
              "      <td>NaN</td>\n",
              "      <td>1.0</td>\n",
              "      <td>0.0</td>\n",
              "      <td>0.0</td>\n",
              "      <td>0.0</td>\n",
              "      <td>0.0</td>\n",
              "      <td>1.0</td>\n",
              "      <td>0.0</td>\n",
              "      <td>1.0</td>\n",
              "      <td>0.0</td>\n",
              "      <td>0.0</td>\n",
              "      <td>1.0</td>\n",
              "    </tr>\n",
              "    <tr>\n",
              "      <th>4</th>\n",
              "      <td>democrat</td>\n",
              "      <td>1.0</td>\n",
              "      <td>1.0</td>\n",
              "      <td>1.0</td>\n",
              "      <td>0.0</td>\n",
              "      <td>1.0</td>\n",
              "      <td>1.0</td>\n",
              "      <td>0.0</td>\n",
              "      <td>0.0</td>\n",
              "      <td>0.0</td>\n",
              "      <td>0.0</td>\n",
              "      <td>1.0</td>\n",
              "      <td>NaN</td>\n",
              "      <td>1.0</td>\n",
              "      <td>1.0</td>\n",
              "      <td>1.0</td>\n",
              "      <td>1.0</td>\n",
              "    </tr>\n",
              "    <tr>\n",
              "      <th>5</th>\n",
              "      <td>democrat</td>\n",
              "      <td>0.0</td>\n",
              "      <td>1.0</td>\n",
              "      <td>1.0</td>\n",
              "      <td>0.0</td>\n",
              "      <td>1.0</td>\n",
              "      <td>1.0</td>\n",
              "      <td>0.0</td>\n",
              "      <td>0.0</td>\n",
              "      <td>0.0</td>\n",
              "      <td>0.0</td>\n",
              "      <td>0.0</td>\n",
              "      <td>0.0</td>\n",
              "      <td>1.0</td>\n",
              "      <td>1.0</td>\n",
              "      <td>1.0</td>\n",
              "      <td>1.0</td>\n",
              "    </tr>\n",
              "    <tr>\n",
              "      <th>6</th>\n",
              "      <td>democrat</td>\n",
              "      <td>0.0</td>\n",
              "      <td>1.0</td>\n",
              "      <td>0.0</td>\n",
              "      <td>1.0</td>\n",
              "      <td>1.0</td>\n",
              "      <td>1.0</td>\n",
              "      <td>0.0</td>\n",
              "      <td>0.0</td>\n",
              "      <td>0.0</td>\n",
              "      <td>0.0</td>\n",
              "      <td>0.0</td>\n",
              "      <td>0.0</td>\n",
              "      <td>NaN</td>\n",
              "      <td>1.0</td>\n",
              "      <td>1.0</td>\n",
              "      <td>1.0</td>\n",
              "    </tr>\n",
              "  </tbody>\n",
              "</table>\n",
              "</div>"
            ],
            "text/plain": [
              "      party  handicapped-infants  water-project  ...  crime  duty-free  south-africa\n",
              "2  democrat                  NaN            1.0  ...    1.0        0.0           0.0\n",
              "3  democrat                  0.0            1.0  ...    0.0        0.0           1.0\n",
              "4  democrat                  1.0            1.0  ...    1.0        1.0           1.0\n",
              "5  democrat                  0.0            1.0  ...    1.0        1.0           1.0\n",
              "6  democrat                  0.0            1.0  ...    1.0        1.0           1.0\n",
              "\n",
              "[5 rows x 17 columns]"
            ]
          },
          "metadata": {
            "tags": []
          },
          "execution_count": 11
        }
      ]
    },
    {
      "cell_type": "code",
      "metadata": {
        "id": "rTiKP1GqEMKt",
        "colab_type": "code",
        "outputId": "bb1cc995-1ad6-4759-a9c1-21e87325758b",
        "colab": {
          "base_uri": "https://localhost:8080/",
          "height": 312
        }
      },
      "source": [
        "dem.isnull().sum()"
      ],
      "execution_count": 12,
      "outputs": [
        {
          "output_type": "execute_result",
          "data": {
            "text/plain": [
              "party                    0\n",
              "handicapped-infants      9\n",
              "water-project           28\n",
              "budget                   7\n",
              "physician-fee-freeze     8\n",
              "el-salvador-aid         12\n",
              "religious-groups         9\n",
              "anti-satellite-ban       8\n",
              "aid-to-contras           4\n",
              "mx-missile              19\n",
              "immigration              4\n",
              "synfuels                12\n",
              "education               18\n",
              "right-to-sue            15\n",
              "crime                   10\n",
              "duty-free               16\n",
              "south-africa            82\n",
              "dtype: int64"
            ]
          },
          "metadata": {
            "tags": []
          },
          "execution_count": 12
        }
      ]
    },
    {
      "cell_type": "markdown",
      "metadata": {
        "id": "7FKCr0jlng0P",
        "colab_type": "text"
      },
      "source": [
        "# 2, 3, 4, Stretch 1 (2nd try)\n",
        "- democrats > republicans (p-value < 0.1)\n",
        "- democrats < republicans (p-value < 0.1)\n",
        "- democrats ~= republicans (p-value > 0.1)"
      ]
    },
    {
      "cell_type": "code",
      "metadata": {
        "id": "srQXBzX_nsHc",
        "colab_type": "code",
        "colab": {
          "base_uri": "https://localhost:8080/",
          "height": 32
        },
        "outputId": "afab0293-741f-465f-c7ac-3a7ef088657e"
      },
      "source": [
        "dem2 = dem.drop('party', axis=1)\n",
        "rep2 = rep.drop('party', axis=1)\n",
        "all(dem2.columns == rep2.columns)"
      ],
      "execution_count": 17,
      "outputs": [
        {
          "output_type": "execute_result",
          "data": {
            "text/plain": [
              "True"
            ]
          },
          "metadata": {
            "tags": []
          },
          "execution_count": 17
        }
      ]
    },
    {
      "cell_type": "markdown",
      "metadata": {
        "id": "5exHspnxpnJl",
        "colab_type": "text"
      },
      "source": [
        "- null hypothesis: for each bill, level of support by democrats is equal to level of support by republicans\n",
        "- alternate hypothesis: for each bill, level of support by democrats is different than level of support by republicans\n",
        "- confidence level: 99%"
      ]
    },
    {
      "cell_type": "code",
      "metadata": {
        "id": "x24wSFVroVFM",
        "colab_type": "code",
        "colab": {
          "base_uri": "https://localhost:8080/",
          "height": 1000
        },
        "outputId": "a278b2eb-2fae-4f48-9842-9a4488d8cd07"
      },
      "source": [
        "# run a 2 sample t-test, ignoring NaN values\n",
        "# returns a tuple: (t-statistic, p-value)\n",
        "def ttest_2sample(sample1, sample2):\n",
        "  result = stats.ttest_ind(sample1, sample2, nan_policy='omit')\n",
        "  return (result.statistic, result.pvalue)\n",
        "\n",
        "def print_header(header):\n",
        "  line = '-'*min(7, len(header))\n",
        "  print(line + ' ' + header + ' ' + line)\n",
        "\n",
        "confidence2 = 0.99\n",
        "for column in dem2.columns:\n",
        "  print_header(column)\n",
        "  t_stat, p_val = ttest_2sample(dem2[column], rep2[column])\n",
        "  print(f't-statistic:\\t{t_stat}\\np-value:\\t{p_val}')\n",
        "  if p_val < (1 - confidence2):\n",
        "    print('conclusion:\\n\\tbecause the p-value is greater than my confidence level,\\n\\t\\ti reject the null hypothesis, and\\n\\t\\ti suggest that democrat and republican support for this issue are different.')\n",
        "    if t_stat > 0.0:\n",
        "      print('\\tbecause the t-value is greater than 0,\\n\\t\\ti suggest the level of support by the democrats exceeds the level of support by the republicans')\n",
        "    else:\n",
        "      print('\\tbecause the t-value is less than 0,\\n\\t\\ti suggest the level of support by the democrats is less than the level of support by the republicans')\n",
        "  else:\n",
        "    print('conclusion:\\nbecause the p-value is less than my confidence level,\\n\\t\\ti fail to reject the null hypothesis, and\\n\\t\\ti suggest that democrat and republican support for this issue are not statistically distinguishable')\n",
        "  print()"
      ],
      "execution_count": 35,
      "outputs": [
        {
          "output_type": "stream",
          "text": [
            "------- handicapped-infants -------\n",
            "t-statistic:\t9.205264294809222\n",
            "p-value:\t1.613440327937243e-18\n",
            "conclusion:\n",
            "\tbecause the p-value is greater than my confidence level,\n",
            "\t\ti reject the null hypothesis, and\n",
            "\t\ti suggest that democrat and republican support for this issue are different.\n",
            "\tbecause the t-value is greater than 0,\n",
            "\t\ti suggest the level of support by the democrats exceeds the level of support by the republicans\n",
            "\n",
            "------- water-project -------\n",
            "t-statistic:\t-0.08896538137868286\n",
            "p-value:\t0.9291556823993485\n",
            "conclusion:\n",
            "because the p-value is less than my confidence level,\n",
            "\t\ti fail to reject the null hypothesis, and\n",
            "\t\ti suggest that democrat and republican support for this issue are not statistically distinguishable\n",
            "\n",
            "------ budget ------\n",
            "t-statistic:\t23.21277691701378\n",
            "p-value:\t2.0703402795404463e-77\n",
            "conclusion:\n",
            "\tbecause the p-value is greater than my confidence level,\n",
            "\t\ti reject the null hypothesis, and\n",
            "\t\ti suggest that democrat and republican support for this issue are different.\n",
            "\tbecause the t-value is greater than 0,\n",
            "\t\ti suggest the level of support by the democrats exceeds the level of support by the republicans\n",
            "\n",
            "------- physician-fee-freeze -------\n",
            "t-statistic:\t-49.36708157301406\n",
            "p-value:\t1.994262314074344e-177\n",
            "conclusion:\n",
            "\tbecause the p-value is greater than my confidence level,\n",
            "\t\ti reject the null hypothesis, and\n",
            "\t\ti suggest that democrat and republican support for this issue are different.\n",
            "\tbecause the t-value is less than 0,\n",
            "\t\ti suggest the level of support by the democrats is less than the level of support by the republicans\n",
            "\n",
            "------- el-salvador-aid -------\n",
            "t-statistic:\t-21.13669261173219\n",
            "p-value:\t5.600520111729011e-68\n",
            "conclusion:\n",
            "\tbecause the p-value is greater than my confidence level,\n",
            "\t\ti reject the null hypothesis, and\n",
            "\t\ti suggest that democrat and republican support for this issue are different.\n",
            "\tbecause the t-value is less than 0,\n",
            "\t\ti suggest the level of support by the democrats is less than the level of support by the republicans\n",
            "\n",
            "------- religious-groups -------\n",
            "t-statistic:\t-9.737575825219457\n",
            "p-value:\t2.3936722520597287e-20\n",
            "conclusion:\n",
            "\tbecause the p-value is greater than my confidence level,\n",
            "\t\ti reject the null hypothesis, and\n",
            "\t\ti suggest that democrat and republican support for this issue are different.\n",
            "\tbecause the t-value is less than 0,\n",
            "\t\ti suggest the level of support by the democrats is less than the level of support by the republicans\n",
            "\n",
            "------- anti-satellite-ban -------\n",
            "t-statistic:\t12.526187929077842\n",
            "p-value:\t8.521033017443867e-31\n",
            "conclusion:\n",
            "\tbecause the p-value is greater than my confidence level,\n",
            "\t\ti reject the null hypothesis, and\n",
            "\t\ti suggest that democrat and republican support for this issue are different.\n",
            "\tbecause the t-value is greater than 0,\n",
            "\t\ti suggest the level of support by the democrats exceeds the level of support by the republicans\n",
            "\n",
            "------- aid-to-contras -------\n",
            "t-statistic:\t18.052093200819733\n",
            "p-value:\t2.82471841372357e-54\n",
            "conclusion:\n",
            "\tbecause the p-value is greater than my confidence level,\n",
            "\t\ti reject the null hypothesis, and\n",
            "\t\ti suggest that democrat and republican support for this issue are different.\n",
            "\tbecause the t-value is greater than 0,\n",
            "\t\ti suggest the level of support by the democrats exceeds the level of support by the republicans\n",
            "\n",
            "------- mx-missile -------\n",
            "t-statistic:\t16.437503268542994\n",
            "p-value:\t5.03079265310811e-47\n",
            "conclusion:\n",
            "\tbecause the p-value is greater than my confidence level,\n",
            "\t\ti reject the null hypothesis, and\n",
            "\t\ti suggest that democrat and republican support for this issue are different.\n",
            "\tbecause the t-value is greater than 0,\n",
            "\t\ti suggest the level of support by the democrats exceeds the level of support by the republicans\n",
            "\n",
            "------- immigration -------\n",
            "t-statistic:\t-1.7359117329695164\n",
            "p-value:\t0.08330248490425066\n",
            "conclusion:\n",
            "because the p-value is less than my confidence level,\n",
            "\t\ti fail to reject the null hypothesis, and\n",
            "\t\ti suggest that democrat and republican support for this issue are not statistically distinguishable\n",
            "\n",
            "------- synfuels -------\n",
            "t-statistic:\t8.293603989407588\n",
            "p-value:\t1.5759322301054064e-15\n",
            "conclusion:\n",
            "\tbecause the p-value is greater than my confidence level,\n",
            "\t\ti reject the null hypothesis, and\n",
            "\t\ti suggest that democrat and republican support for this issue are different.\n",
            "\tbecause the t-value is greater than 0,\n",
            "\t\ti suggest the level of support by the democrats exceeds the level of support by the republicans\n",
            "\n",
            "------- education -------\n",
            "t-statistic:\t-20.500685724563073\n",
            "p-value:\t1.8834203990450192e-64\n",
            "conclusion:\n",
            "\tbecause the p-value is greater than my confidence level,\n",
            "\t\ti reject the null hypothesis, and\n",
            "\t\ti suggest that democrat and republican support for this issue are different.\n",
            "\tbecause the t-value is less than 0,\n",
            "\t\ti suggest the level of support by the democrats is less than the level of support by the republicans\n",
            "\n",
            "------- right-to-sue -------\n",
            "t-statistic:\t-13.51064251060933\n",
            "p-value:\t1.2278581709672758e-34\n",
            "conclusion:\n",
            "\tbecause the p-value is greater than my confidence level,\n",
            "\t\ti reject the null hypothesis, and\n",
            "\t\ti suggest that democrat and republican support for this issue are different.\n",
            "\tbecause the t-value is less than 0,\n",
            "\t\ti suggest the level of support by the democrats is less than the level of support by the republicans\n",
            "\n",
            "----- crime -----\n",
            "t-statistic:\t-16.342085656197696\n",
            "p-value:\t9.952342705606092e-47\n",
            "conclusion:\n",
            "\tbecause the p-value is greater than my confidence level,\n",
            "\t\ti reject the null hypothesis, and\n",
            "\t\ti suggest that democrat and republican support for this issue are different.\n",
            "\tbecause the t-value is less than 0,\n",
            "\t\ti suggest the level of support by the democrats is less than the level of support by the republicans\n",
            "\n",
            "------- duty-free -------\n",
            "t-statistic:\t12.853146132542978\n",
            "p-value:\t5.997697174347365e-32\n",
            "conclusion:\n",
            "\tbecause the p-value is greater than my confidence level,\n",
            "\t\ti reject the null hypothesis, and\n",
            "\t\ti suggest that democrat and republican support for this issue are different.\n",
            "\tbecause the t-value is greater than 0,\n",
            "\t\ti suggest the level of support by the democrats exceeds the level of support by the republicans\n",
            "\n",
            "------- south-africa -------\n",
            "t-statistic:\t6.849454815841208\n",
            "p-value:\t3.652674361672226e-11\n",
            "conclusion:\n",
            "\tbecause the p-value is greater than my confidence level,\n",
            "\t\ti reject the null hypothesis, and\n",
            "\t\ti suggest that democrat and republican support for this issue are different.\n",
            "\tbecause the t-value is greater than 0,\n",
            "\t\ti suggest the level of support by the democrats exceeds the level of support by the republicans\n",
            "\n"
          ],
          "name": "stdout"
        }
      ]
    },
    {
      "cell_type": "markdown",
      "metadata": {
        "id": "MtsKaK94CgjE",
        "colab_type": "text"
      },
      "source": [
        "#2. find an issue that democrats support more than republicans with p < 0.01\n",
        "\n",
        "at this point, df = whole dataframe, rep = republican data, dem = democrat data\n",
        "\n",
        "i will deal with nulls by doing calculations that discard nulls, either by default or with parameters declaring it so"
      ]
    },
    {
      "cell_type": "markdown",
      "metadata": {
        "id": "AIBBN2jMr7YP",
        "colab_type": "text"
      },
      "source": [
        "## just looking at stuff"
      ]
    },
    {
      "cell_type": "code",
      "metadata": {
        "id": "6N0wDyaKQ79_",
        "colab_type": "code",
        "outputId": "c3358e9d-f116-4488-c28d-37002368b00d",
        "colab": {
          "base_uri": "https://localhost:8080/",
          "height": 172
        }
      },
      "source": [
        "support_mean_by_party = pd.pivot_table(df, index='party', aggfunc='mean')\n",
        "support_mean_by_party"
      ],
      "execution_count": 0,
      "outputs": [
        {
          "output_type": "execute_result",
          "data": {
            "text/html": [
              "<div>\n",
              "<style scoped>\n",
              "    .dataframe tbody tr th:only-of-type {\n",
              "        vertical-align: middle;\n",
              "    }\n",
              "\n",
              "    .dataframe tbody tr th {\n",
              "        vertical-align: top;\n",
              "    }\n",
              "\n",
              "    .dataframe thead th {\n",
              "        text-align: right;\n",
              "    }\n",
              "</style>\n",
              "<table border=\"1\" class=\"dataframe\">\n",
              "  <thead>\n",
              "    <tr style=\"text-align: right;\">\n",
              "      <th></th>\n",
              "      <th>aid-to-contras</th>\n",
              "      <th>anti-satellite-ban</th>\n",
              "      <th>budget</th>\n",
              "      <th>crime</th>\n",
              "      <th>duty-free</th>\n",
              "      <th>education</th>\n",
              "      <th>el-salvador-aid</th>\n",
              "      <th>handicapped-infants</th>\n",
              "      <th>immigration</th>\n",
              "      <th>mx-missile</th>\n",
              "      <th>physician-fee-freeze</th>\n",
              "      <th>religious-groups</th>\n",
              "      <th>right-to-sue</th>\n",
              "      <th>south-africa</th>\n",
              "      <th>synfuels</th>\n",
              "      <th>water-project</th>\n",
              "    </tr>\n",
              "    <tr>\n",
              "      <th>party</th>\n",
              "      <th></th>\n",
              "      <th></th>\n",
              "      <th></th>\n",
              "      <th></th>\n",
              "      <th></th>\n",
              "      <th></th>\n",
              "      <th></th>\n",
              "      <th></th>\n",
              "      <th></th>\n",
              "      <th></th>\n",
              "      <th></th>\n",
              "      <th></th>\n",
              "      <th></th>\n",
              "      <th></th>\n",
              "      <th></th>\n",
              "      <th></th>\n",
              "    </tr>\n",
              "  </thead>\n",
              "  <tbody>\n",
              "    <tr>\n",
              "      <th>democrat</th>\n",
              "      <td>0.828897</td>\n",
              "      <td>0.772201</td>\n",
              "      <td>0.888462</td>\n",
              "      <td>0.350195</td>\n",
              "      <td>0.637450</td>\n",
              "      <td>0.144578</td>\n",
              "      <td>0.215686</td>\n",
              "      <td>0.604651</td>\n",
              "      <td>0.471483</td>\n",
              "      <td>0.758065</td>\n",
              "      <td>0.054054</td>\n",
              "      <td>0.476744</td>\n",
              "      <td>0.289683</td>\n",
              "      <td>0.935135</td>\n",
              "      <td>0.505882</td>\n",
              "      <td>0.502092</td>\n",
              "    </tr>\n",
              "    <tr>\n",
              "      <th>republican</th>\n",
              "      <td>0.152866</td>\n",
              "      <td>0.240741</td>\n",
              "      <td>0.134146</td>\n",
              "      <td>0.981366</td>\n",
              "      <td>0.089744</td>\n",
              "      <td>0.870968</td>\n",
              "      <td>0.951515</td>\n",
              "      <td>0.187879</td>\n",
              "      <td>0.557576</td>\n",
              "      <td>0.115152</td>\n",
              "      <td>0.987879</td>\n",
              "      <td>0.897590</td>\n",
              "      <td>0.860759</td>\n",
              "      <td>0.657534</td>\n",
              "      <td>0.132075</td>\n",
              "      <td>0.506757</td>\n",
              "    </tr>\n",
              "  </tbody>\n",
              "</table>\n",
              "</div>"
            ],
            "text/plain": [
              "            aid-to-contras  anti-satellite-ban  ...  synfuels  water-project\n",
              "party                                           ...                         \n",
              "democrat          0.828897            0.772201  ...  0.505882       0.502092\n",
              "republican        0.152866            0.240741  ...  0.132075       0.506757\n",
              "\n",
              "[2 rows x 16 columns]"
            ]
          },
          "metadata": {
            "tags": []
          },
          "execution_count": 15
        }
      ]
    },
    {
      "cell_type": "code",
      "metadata": {
        "id": "9iSbE0U3rVvx",
        "colab_type": "code",
        "outputId": "a7508d72-deeb-4f6a-bfd6-744029789d00",
        "colab": {
          "base_uri": "https://localhost:8080/",
          "height": 535
        }
      },
      "source": [
        "support_mean_by_party.T"
      ],
      "execution_count": 0,
      "outputs": [
        {
          "output_type": "execute_result",
          "data": {
            "text/html": [
              "<div>\n",
              "<style scoped>\n",
              "    .dataframe tbody tr th:only-of-type {\n",
              "        vertical-align: middle;\n",
              "    }\n",
              "\n",
              "    .dataframe tbody tr th {\n",
              "        vertical-align: top;\n",
              "    }\n",
              "\n",
              "    .dataframe thead th {\n",
              "        text-align: right;\n",
              "    }\n",
              "</style>\n",
              "<table border=\"1\" class=\"dataframe\">\n",
              "  <thead>\n",
              "    <tr style=\"text-align: right;\">\n",
              "      <th>party</th>\n",
              "      <th>democrat</th>\n",
              "      <th>republican</th>\n",
              "    </tr>\n",
              "  </thead>\n",
              "  <tbody>\n",
              "    <tr>\n",
              "      <th>aid-to-contras</th>\n",
              "      <td>0.828897</td>\n",
              "      <td>0.152866</td>\n",
              "    </tr>\n",
              "    <tr>\n",
              "      <th>anti-satellite-ban</th>\n",
              "      <td>0.772201</td>\n",
              "      <td>0.240741</td>\n",
              "    </tr>\n",
              "    <tr>\n",
              "      <th>budget</th>\n",
              "      <td>0.888462</td>\n",
              "      <td>0.134146</td>\n",
              "    </tr>\n",
              "    <tr>\n",
              "      <th>crime</th>\n",
              "      <td>0.350195</td>\n",
              "      <td>0.981366</td>\n",
              "    </tr>\n",
              "    <tr>\n",
              "      <th>duty-free</th>\n",
              "      <td>0.637450</td>\n",
              "      <td>0.089744</td>\n",
              "    </tr>\n",
              "    <tr>\n",
              "      <th>education</th>\n",
              "      <td>0.144578</td>\n",
              "      <td>0.870968</td>\n",
              "    </tr>\n",
              "    <tr>\n",
              "      <th>el-salvador-aid</th>\n",
              "      <td>0.215686</td>\n",
              "      <td>0.951515</td>\n",
              "    </tr>\n",
              "    <tr>\n",
              "      <th>handicapped-infants</th>\n",
              "      <td>0.604651</td>\n",
              "      <td>0.187879</td>\n",
              "    </tr>\n",
              "    <tr>\n",
              "      <th>immigration</th>\n",
              "      <td>0.471483</td>\n",
              "      <td>0.557576</td>\n",
              "    </tr>\n",
              "    <tr>\n",
              "      <th>mx-missile</th>\n",
              "      <td>0.758065</td>\n",
              "      <td>0.115152</td>\n",
              "    </tr>\n",
              "    <tr>\n",
              "      <th>physician-fee-freeze</th>\n",
              "      <td>0.054054</td>\n",
              "      <td>0.987879</td>\n",
              "    </tr>\n",
              "    <tr>\n",
              "      <th>religious-groups</th>\n",
              "      <td>0.476744</td>\n",
              "      <td>0.897590</td>\n",
              "    </tr>\n",
              "    <tr>\n",
              "      <th>right-to-sue</th>\n",
              "      <td>0.289683</td>\n",
              "      <td>0.860759</td>\n",
              "    </tr>\n",
              "    <tr>\n",
              "      <th>south-africa</th>\n",
              "      <td>0.935135</td>\n",
              "      <td>0.657534</td>\n",
              "    </tr>\n",
              "    <tr>\n",
              "      <th>synfuels</th>\n",
              "      <td>0.505882</td>\n",
              "      <td>0.132075</td>\n",
              "    </tr>\n",
              "    <tr>\n",
              "      <th>water-project</th>\n",
              "      <td>0.502092</td>\n",
              "      <td>0.506757</td>\n",
              "    </tr>\n",
              "  </tbody>\n",
              "</table>\n",
              "</div>"
            ],
            "text/plain": [
              "party                 democrat  republican\n",
              "aid-to-contras        0.828897    0.152866\n",
              "anti-satellite-ban    0.772201    0.240741\n",
              "budget                0.888462    0.134146\n",
              "crime                 0.350195    0.981366\n",
              "duty-free             0.637450    0.089744\n",
              "education             0.144578    0.870968\n",
              "el-salvador-aid       0.215686    0.951515\n",
              "handicapped-infants   0.604651    0.187879\n",
              "immigration           0.471483    0.557576\n",
              "mx-missile            0.758065    0.115152\n",
              "physician-fee-freeze  0.054054    0.987879\n",
              "religious-groups      0.476744    0.897590\n",
              "right-to-sue          0.289683    0.860759\n",
              "south-africa          0.935135    0.657534\n",
              "synfuels              0.505882    0.132075\n",
              "water-project         0.502092    0.506757"
            ]
          },
          "metadata": {
            "tags": []
          },
          "execution_count": 16
        }
      ]
    },
    {
      "cell_type": "markdown",
      "metadata": {
        "id": "XTIGwhuIaqUJ",
        "colab_type": "text"
      },
      "source": [
        "## here's the answer\n",
        "\n",
        "aid-to-contras - democrats support more than republicans, confidence > 99%"
      ]
    },
    {
      "cell_type": "markdown",
      "metadata": {
        "id": "HnVzLsHbGLFN",
        "colab_type": "text"
      },
      "source": [
        "- null hypothesis: democrats support aid-to-contras the same as republicans\n",
        "- alternate hypothesis: democrats support aid-to-contras != republicans\n",
        "- confidence level: 99%"
      ]
    },
    {
      "cell_type": "code",
      "metadata": {
        "id": "iLirRRkgXOnM",
        "colab_type": "code",
        "colab": {}
      },
      "source": [
        "confidence_level = 0.99"
      ],
      "execution_count": 0,
      "outputs": []
    },
    {
      "cell_type": "code",
      "metadata": {
        "id": "DSuvCmBIas3v",
        "colab_type": "code",
        "outputId": "533e3e67-9119-4184-bb16-ba0ca5f3291f",
        "colab": {
          "base_uri": "https://localhost:8080/",
          "height": 49
        }
      },
      "source": [
        "result = stats.ttest_ind(dem['aid-to-contras'], rep['aid-to-contras'], nan_policy='omit')\n",
        "if result.pvalue < 1 - confidence_level:\n",
        "  if result.statistic > 0.0:\n",
        "    print('democrats support more')\n",
        "  else:\n",
        "    print('republicans support more')\n",
        "print(result)"
      ],
      "execution_count": 0,
      "outputs": [
        {
          "output_type": "stream",
          "text": [
            "democrats support more\n",
            "Ttest_indResult(statistic=18.052093200819733, pvalue=2.82471841372357e-54)\n"
          ],
          "name": "stdout"
        }
      ]
    },
    {
      "cell_type": "markdown",
      "metadata": {
        "id": "CSB8EzFVGYWp",
        "colab_type": "text"
      },
      "source": [
        "- t-statistic: 18.05...\n",
        "- p-value: 0.0000000000000000000...282\n",
        "- conclusion: because the p-value is way below the desired confidence level (1 - .99 = 0.01), i reject the null hypothesis that democratic and republican support for the aid to contras bill is the same, and suggest that the alternative hypothesis, that democratic and republican support for aid-to-contras, is correct. because the t-statistic is above 0, the democrats support aid-to-contras more than the republicans (due to how i passed the parameters to the ttest function)"
      ]
    },
    {
      "cell_type": "markdown",
      "metadata": {
        "id": "qp5CJU9PC0Qh",
        "colab_type": "text"
      },
      "source": [
        "#3. find an issue that republicans support more than democrats with p < 0.01"
      ]
    },
    {
      "cell_type": "markdown",
      "metadata": {
        "id": "vxQCNqD5sZWv",
        "colab_type": "text"
      },
      "source": [
        "## heres the answer\n",
        "\n",
        "crime - republicans support more than democrats, confidence > 99%"
      ]
    },
    {
      "cell_type": "markdown",
      "metadata": {
        "id": "WfY8fXuKHvB_",
        "colab_type": "text"
      },
      "source": [
        "- null hypothesis: democratic and republican support for the crime bill is the same\n",
        "- alternate hypothesis: democratic and republic support for the crime bill is different\n",
        "- confidence level: 99%"
      ]
    },
    {
      "cell_type": "code",
      "metadata": {
        "id": "HYFfO4tjC6WK",
        "colab_type": "code",
        "outputId": "8050a4c3-5373-4db2-9caa-94e49a76dc51",
        "colab": {
          "base_uri": "https://localhost:8080/",
          "height": 49
        }
      },
      "source": [
        "result = stats.ttest_ind(dem['crime'], rep['crime'], nan_policy='omit')\n",
        "if result.pvalue < 1 - confidence_level:\n",
        "  if result.statistic > 0.0:\n",
        "    print('democrats support more')\n",
        "  else:\n",
        "    print('republicans support more')\n",
        "print(result)"
      ],
      "execution_count": 0,
      "outputs": [
        {
          "output_type": "stream",
          "text": [
            "republicans support more\n",
            "Ttest_indResult(statistic=-16.342085656197696, pvalue=9.952342705606092e-47)\n"
          ],
          "name": "stdout"
        }
      ]
    },
    {
      "cell_type": "markdown",
      "metadata": {
        "id": "e0I8EsCRH75u",
        "colab_type": "text"
      },
      "source": [
        "- t-statistic: -16.342...\n",
        "- p-value: 0.00000000000000000...995\n",
        "- conclusion: because the p-value is way below the confidence level (1 - .99 = 0.01), i reject the null hypothesis that democratic and republican support for the crime bill is the same, and suggest the alternate hypothesis, that the democratic and republican support for the crime bill is different, is correct. the t-statistic being below zero shows that my second parameter, the republican data, has higher support for the bill."
      ]
    },
    {
      "cell_type": "markdown",
      "metadata": {
        "id": "PNaZNzGMC6uB",
        "colab_type": "text"
      },
      "source": [
        "#4. find an issue where the difference between republicans and democrats has p > 0.1"
      ]
    },
    {
      "cell_type": "markdown",
      "metadata": {
        "id": "ITOuD4bpsqpW",
        "colab_type": "text"
      },
      "source": [
        "## heres the answer\n",
        "\n",
        "water-project - level of support by democrats vs republicans is not statistically significant to a confidence level > 90%"
      ]
    },
    {
      "cell_type": "markdown",
      "metadata": {
        "id": "NVKHF2C1JKx9",
        "colab_type": "text"
      },
      "source": [
        "- null hypothesis: support by democrats and republicans for the water-project bill is the same\n",
        "- alternate hypothesis: support by democrats and republicans for the water-project bill is different\n",
        "- confidence level: 90%"
      ]
    },
    {
      "cell_type": "code",
      "metadata": {
        "id": "ihOIqiZJC8yp",
        "colab_type": "code",
        "outputId": "c7db8117-e2cd-47a2-a308-ede2f8a37abd",
        "colab": {
          "base_uri": "https://localhost:8080/",
          "height": 49
        }
      },
      "source": [
        "result = stats.ttest_ind(dem['water-project'], rep['water-project'], nan_policy='omit')\n",
        "if result.pvalue < 1 - confidence_level:\n",
        "  if result.statistic > 0.0:\n",
        "    print('democrats support more')\n",
        "  else:\n",
        "    print('republicans support more')\n",
        "elif result.pvalue > 0.1:\n",
        "  print('difference p-value > 1.0')\n",
        "else:\n",
        "  print('greater than 90% and less than 99% confidence???')\n",
        "print(result)"
      ],
      "execution_count": 0,
      "outputs": [
        {
          "output_type": "stream",
          "text": [
            "difference p-value > 1.0\n",
            "Ttest_indResult(statistic=-0.08896538137868286, pvalue=0.9291556823993485)\n"
          ],
          "name": "stdout"
        }
      ]
    },
    {
      "cell_type": "markdown",
      "metadata": {
        "id": "dGcr9p_8JaQY",
        "colab_type": "text"
      },
      "source": [
        "- t-statistic: -0.0889....\n",
        "- p-value: 0.9291...\n",
        "- conclusion: because the p-value is above the confidence level (1 - .9 = .1), i fail to reject the null hypothesis and suggest that democratic and republican support for the water-project bill is the same."
      ]
    },
    {
      "cell_type": "markdown",
      "metadata": {
        "id": "LgV66bgcftXD",
        "colab_type": "text"
      },
      "source": [
        "# Stretch 1"
      ]
    },
    {
      "cell_type": "code",
      "metadata": {
        "id": "rtLD9PWFm0h6",
        "colab_type": "code",
        "colab": {}
      },
      "source": [
        "def dem_vs_rep(dem_issue, rep_issue, confidence):\n",
        "  result = stats.ttest_ind(dem_issue, rep_issue, nan_policy='omit')\n",
        "  if result.pvalue < 1 - confidence:\n",
        "    if result.statistic > 0.0:\n",
        "      return('democrats support more, confidence: approx {:.2f}%'.format((1-result.pvalue)*100))\n",
        "    else:\n",
        "      return('republicans support more, confidence: approx {:.2f}%'.format((1-result.pvalue)*100))\n",
        "  else:\n",
        "    return('not enough confidence: approx {:.2f}%'.format((1-result.pvalue)*100))"
      ],
      "execution_count": 0,
      "outputs": []
    },
    {
      "cell_type": "markdown",
      "metadata": {
        "id": "O_shE2QrmqUf",
        "colab_type": "text"
      },
      "source": [
        "## which side supports it more, confidence level 99% (p-value < .01)\n",
        "\n",
        "democrats support more\n",
        " - handicapped infants\n",
        " - budget\n",
        " - anti-satellite ban\n",
        " - aid-to-contras\n",
        " - mx-missile\n",
        " - synfuels\n",
        " - duty-free\n",
        " - south-africa\n",
        " \n",
        "republicans support more\n",
        " - physician-fee-freeze\n",
        " - el-salvador-aid\n",
        " - religious-groups\n",
        " - education\n",
        " - right-to-sue\n",
        " - crime\n",
        "\n",
        "not enough confidence to be statistically significant\n",
        " - water-project\n",
        " - immigration\n"
      ]
    },
    {
      "cell_type": "code",
      "metadata": {
        "id": "NogVD6JxfhHf",
        "colab_type": "code",
        "outputId": "dc9cfd3d-3782-483d-831c-ed942027d62a",
        "colab": {
          "base_uri": "https://localhost:8080/",
          "height": 543
        }
      },
      "source": [
        "for column in house_columns_no_party:\n",
        "  if column == 'party':\n",
        "    continue\n",
        "  print(column, dem_vs_rep(dem[column], rep[column], .99))\n",
        "  print()"
      ],
      "execution_count": 0,
      "outputs": [
        {
          "output_type": "stream",
          "text": [
            "handicapped-infants democrats support more, confidence: approx 100.00%\n",
            "\n",
            "water-project not enough confidence: approx 7.08%\n",
            "\n",
            "budget democrats support more, confidence: approx 100.00%\n",
            "\n",
            "physician-fee-freeze republicans support more, confidence: approx 100.00%\n",
            "\n",
            "el-salvador-aid republicans support more, confidence: approx 100.00%\n",
            "\n",
            "religious-groups republicans support more, confidence: approx 100.00%\n",
            "\n",
            "anti-satellite-ban democrats support more, confidence: approx 100.00%\n",
            "\n",
            "aid-to-contras democrats support more, confidence: approx 100.00%\n",
            "\n",
            "mx-missile democrats support more, confidence: approx 100.00%\n",
            "\n",
            "immigration not enough confidence: approx 91.67%\n",
            "\n",
            "synfuels democrats support more, confidence: approx 100.00%\n",
            "\n",
            "education republicans support more, confidence: approx 100.00%\n",
            "\n",
            "right-to-sue republicans support more, confidence: approx 100.00%\n",
            "\n",
            "crime republicans support more, confidence: approx 100.00%\n",
            "\n",
            "duty-free democrats support more, confidence: approx 100.00%\n",
            "\n",
            "south-africa democrats support more, confidence: approx 100.00%\n",
            "\n"
          ],
          "name": "stdout"
        }
      ]
    },
    {
      "cell_type": "markdown",
      "metadata": {
        "id": "x53ZfrWZm9D6",
        "colab_type": "text"
      },
      "source": [
        "## which side supports it more, confidence level 90% (p-value < .1)\n",
        "\n",
        "water-project is the only one that has a confidence level < 90% (i.e. p-value > .1)"
      ]
    },
    {
      "cell_type": "code",
      "metadata": {
        "id": "54irb8K9jnkS",
        "colab_type": "code",
        "outputId": "832a5dc0-900a-48c1-9647-064884071d82",
        "colab": {
          "base_uri": "https://localhost:8080/",
          "height": 543
        }
      },
      "source": [
        "for column in house_columns_no_party:\n",
        "  if column == 'party':\n",
        "    continue\n",
        "  print(column, dem_vs_rep(dem[column], rep[column], .9))\n",
        "  print()"
      ],
      "execution_count": 0,
      "outputs": [
        {
          "output_type": "stream",
          "text": [
            "handicapped-infants democrats support more, confidence: approx 100.00%\n",
            "\n",
            "water-project not enough confidence: approx 7.08%\n",
            "\n",
            "budget democrats support more, confidence: approx 100.00%\n",
            "\n",
            "physician-fee-freeze republicans support more, confidence: approx 100.00%\n",
            "\n",
            "el-salvador-aid republicans support more, confidence: approx 100.00%\n",
            "\n",
            "religious-groups republicans support more, confidence: approx 100.00%\n",
            "\n",
            "anti-satellite-ban democrats support more, confidence: approx 100.00%\n",
            "\n",
            "aid-to-contras democrats support more, confidence: approx 100.00%\n",
            "\n",
            "mx-missile democrats support more, confidence: approx 100.00%\n",
            "\n",
            "immigration republicans support more, confidence: approx 91.67%\n",
            "\n",
            "synfuels democrats support more, confidence: approx 100.00%\n",
            "\n",
            "education republicans support more, confidence: approx 100.00%\n",
            "\n",
            "right-to-sue republicans support more, confidence: approx 100.00%\n",
            "\n",
            "crime republicans support more, confidence: approx 100.00%\n",
            "\n",
            "duty-free democrats support more, confidence: approx 100.00%\n",
            "\n",
            "south-africa democrats support more, confidence: approx 100.00%\n",
            "\n"
          ],
          "name": "stdout"
        }
      ]
    }
  ]
}