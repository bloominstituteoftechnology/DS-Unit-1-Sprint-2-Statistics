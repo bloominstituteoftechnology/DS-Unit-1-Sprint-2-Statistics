{
  "nbformat": 4,
  "nbformat_minor": 0,
  "metadata": {
    "kernelspec": {
      "display_name": "Python 3",
      "language": "python",
      "name": "python3"
    },
    "language_info": {
      "codemirror_mode": {
        "name": "ipython",
        "version": 3
      },
      "file_extension": ".py",
      "mimetype": "text/x-python",
      "name": "python",
      "nbconvert_exporter": "python",
      "pygments_lexer": "ipython3",
      "version": "3.7.3"
    },
    "colab": {
      "name": "LS_DS_121_Statistics_Probability_Assignment.ipynb",
      "provenance": [],
      "collapsed_sections": [],
      "include_colab_link": true
    }
  },
  "cells": [
    {
      "cell_type": "markdown",
      "metadata": {
        "id": "view-in-github",
        "colab_type": "text"
      },
      "source": [
        "<a href=\"https://colab.research.google.com/github/Travistyse/DS-Unit-1-Sprint-2-Statistics/blob/master/module1/LS_DS_121_Statistics_Probability_Assignment.ipynb\" target=\"_parent\"><img src=\"https://colab.research.google.com/assets/colab-badge.svg\" alt=\"Open In Colab\"/></a>"
      ]
    },
    {
      "cell_type": "markdown",
      "metadata": {
        "id": "Sa5KWMO1ngPN",
        "colab_type": "text"
      },
      "source": [
        "<img align=\"left\" src=\"https://lever-client-logos.s3.amazonaws.com/864372b1-534c-480e-acd5-9711f850815c-1524247202159.png\" width=200>\n",
        "<br></br>\n",
        "<br></br>\n",
        "\n",
        "## *Data Science Unit 1 Sprint 2 Assignment 1*\n",
        "\n",
        "# Apply the t-test to real data\n",
        "\n",
        "Your assignment is to determine which issues have \"statistically significant\" differences between political parties in this [1980s congressional voting data](https://archive.ics.uci.edu/ml/datasets/Congressional+Voting+Records). The data consists of 435 instances (one for each congressperson), a class (democrat or republican), and 16 binary attributes (yes or no for voting for or against certain issues). Be aware - there are missing values!\n",
        "\n",
        "Your goals:\n",
        "\n",
        "1. Load and clean the data (or determine the best method to drop observations when running tests)\n",
        "2. Using hypothesis testing, find an issue that democrats support more than republicans with p < 0.01\n",
        "3. Using hypothesis testing, find an issue that republicans support more than democrats with p < 0.01\n",
        "4. Using hypothesis testing, find an issue where the difference between republicans and democrats has p > 0.1 (i.e. there may not be much of a difference)\n",
        "\n",
        "Note that this data will involve *2 sample* t-tests, because you're comparing averages across two groups (republicans and democrats) rather than a single group against a null hypothesis.\n",
        "\n",
        "Stretch goals:\n",
        "\n",
        "1. Refactor your code into functions so it's easy to rerun with arbitrary variables\n",
        "2. Apply hypothesis testing to your personal project data (for the purposes of this notebook you can type a summary of the hypothesis you formed and tested)"
      ]
    },
    {
      "cell_type": "code",
      "metadata": {
        "id": "ZKwspo2CngPP",
        "colab_type": "code",
        "colab": {}
      },
      "source": [
        "### YOUR CODE STARTS HERE\n",
        "import numpy as np\n",
        "import pandas as pd\n",
        "from scipy.stats import ttest_ind\n",
        "from scipy.stats import ttest_1samp\n",
        "\n",
        "pd.options.display.max_rows = 999\n",
        "pd.options.display.max_columns = 100\n",
        "# This example won't help me much as it's a 2 problem, not a single\n",
        "single_example = \"ttest_1samp(dem['bill'], .5, nan_policy='omit') where .5 is null hypothesis num\""
      ],
      "execution_count": 0,
      "outputs": []
    },
    {
      "cell_type": "markdown",
      "metadata": {
        "id": "R1nQuG13RE57",
        "colab_type": "text"
      },
      "source": [
        "Load and clean the data (or determine the best method to drop observations when running tests)"
      ]
    },
    {
      "cell_type": "code",
      "metadata": {
        "id": "XoSX_MmhQ5g4",
        "colab_type": "code",
        "colab": {}
      },
      "source": [
        "voting_url = 'https://archive.ics.uci.edu/ml/machine-learning-databases/voting-records/house-votes-84.data'\n",
        "voting_data = pd.read_csv(voting_url)"
      ],
      "execution_count": 0,
      "outputs": []
    },
    {
      "cell_type": "code",
      "metadata": {
        "id": "C7EIRztKSI1I",
        "colab_type": "code",
        "colab": {
          "base_uri": "https://localhost:8080/",
          "height": 223
        },
        "outputId": "bdd39334-797c-4866-9b0a-58768e052445"
      },
      "source": [
        "voting_data.head()"
      ],
      "execution_count": 4,
      "outputs": [
        {
          "output_type": "execute_result",
          "data": {
            "text/html": [
              "<div>\n",
              "<style scoped>\n",
              "    .dataframe tbody tr th:only-of-type {\n",
              "        vertical-align: middle;\n",
              "    }\n",
              "\n",
              "    .dataframe tbody tr th {\n",
              "        vertical-align: top;\n",
              "    }\n",
              "\n",
              "    .dataframe thead th {\n",
              "        text-align: right;\n",
              "    }\n",
              "</style>\n",
              "<table border=\"1\" class=\"dataframe\">\n",
              "  <thead>\n",
              "    <tr style=\"text-align: right;\">\n",
              "      <th></th>\n",
              "      <th>republican</th>\n",
              "      <th>n</th>\n",
              "      <th>y</th>\n",
              "      <th>n.1</th>\n",
              "      <th>y.1</th>\n",
              "      <th>y.2</th>\n",
              "      <th>y.3</th>\n",
              "      <th>n.2</th>\n",
              "      <th>n.3</th>\n",
              "      <th>n.4</th>\n",
              "      <th>y.4</th>\n",
              "      <th>?</th>\n",
              "      <th>y.5</th>\n",
              "      <th>y.6</th>\n",
              "      <th>y.7</th>\n",
              "      <th>n.5</th>\n",
              "      <th>y.8</th>\n",
              "    </tr>\n",
              "  </thead>\n",
              "  <tbody>\n",
              "    <tr>\n",
              "      <th>0</th>\n",
              "      <td>republican</td>\n",
              "      <td>n</td>\n",
              "      <td>y</td>\n",
              "      <td>n</td>\n",
              "      <td>y</td>\n",
              "      <td>y</td>\n",
              "      <td>y</td>\n",
              "      <td>n</td>\n",
              "      <td>n</td>\n",
              "      <td>n</td>\n",
              "      <td>n</td>\n",
              "      <td>n</td>\n",
              "      <td>y</td>\n",
              "      <td>y</td>\n",
              "      <td>y</td>\n",
              "      <td>n</td>\n",
              "      <td>?</td>\n",
              "    </tr>\n",
              "    <tr>\n",
              "      <th>1</th>\n",
              "      <td>democrat</td>\n",
              "      <td>?</td>\n",
              "      <td>y</td>\n",
              "      <td>y</td>\n",
              "      <td>?</td>\n",
              "      <td>y</td>\n",
              "      <td>y</td>\n",
              "      <td>n</td>\n",
              "      <td>n</td>\n",
              "      <td>n</td>\n",
              "      <td>n</td>\n",
              "      <td>y</td>\n",
              "      <td>n</td>\n",
              "      <td>y</td>\n",
              "      <td>y</td>\n",
              "      <td>n</td>\n",
              "      <td>n</td>\n",
              "    </tr>\n",
              "    <tr>\n",
              "      <th>2</th>\n",
              "      <td>democrat</td>\n",
              "      <td>n</td>\n",
              "      <td>y</td>\n",
              "      <td>y</td>\n",
              "      <td>n</td>\n",
              "      <td>?</td>\n",
              "      <td>y</td>\n",
              "      <td>n</td>\n",
              "      <td>n</td>\n",
              "      <td>n</td>\n",
              "      <td>n</td>\n",
              "      <td>y</td>\n",
              "      <td>n</td>\n",
              "      <td>y</td>\n",
              "      <td>n</td>\n",
              "      <td>n</td>\n",
              "      <td>y</td>\n",
              "    </tr>\n",
              "    <tr>\n",
              "      <th>3</th>\n",
              "      <td>democrat</td>\n",
              "      <td>y</td>\n",
              "      <td>y</td>\n",
              "      <td>y</td>\n",
              "      <td>n</td>\n",
              "      <td>y</td>\n",
              "      <td>y</td>\n",
              "      <td>n</td>\n",
              "      <td>n</td>\n",
              "      <td>n</td>\n",
              "      <td>n</td>\n",
              "      <td>y</td>\n",
              "      <td>?</td>\n",
              "      <td>y</td>\n",
              "      <td>y</td>\n",
              "      <td>y</td>\n",
              "      <td>y</td>\n",
              "    </tr>\n",
              "    <tr>\n",
              "      <th>4</th>\n",
              "      <td>democrat</td>\n",
              "      <td>n</td>\n",
              "      <td>y</td>\n",
              "      <td>y</td>\n",
              "      <td>n</td>\n",
              "      <td>y</td>\n",
              "      <td>y</td>\n",
              "      <td>n</td>\n",
              "      <td>n</td>\n",
              "      <td>n</td>\n",
              "      <td>n</td>\n",
              "      <td>n</td>\n",
              "      <td>n</td>\n",
              "      <td>y</td>\n",
              "      <td>y</td>\n",
              "      <td>y</td>\n",
              "      <td>y</td>\n",
              "    </tr>\n",
              "  </tbody>\n",
              "</table>\n",
              "</div>"
            ],
            "text/plain": [
              "   republican  n  y n.1 y.1 y.2 y.3 n.2 n.3 n.4 y.4  ? y.5 y.6 y.7 n.5 y.8\n",
              "0  republican  n  y   n   y   y   y   n   n   n   n  n   y   y   y   n   ?\n",
              "1    democrat  ?  y   y   ?   y   y   n   n   n   n  y   n   y   y   n   n\n",
              "2    democrat  n  y   y   n   ?   y   n   n   n   n  y   n   y   n   n   y\n",
              "3    democrat  y  y   y   n   y   y   n   n   n   n  y   ?   y   y   y   y\n",
              "4    democrat  n  y   y   n   y   y   n   n   n   n  n   n   y   y   y   y"
            ]
          },
          "metadata": {
            "tags": []
          },
          "execution_count": 4
        }
      ]
    },
    {
      "cell_type": "code",
      "metadata": {
        "id": "AjJN0MotSqcP",
        "colab_type": "code",
        "colab": {
          "base_uri": "https://localhost:8080/",
          "height": 35
        },
        "outputId": "ccdc46ed-e702-4220-a1f8-f86f2df338ec"
      },
      "source": [
        "len(voting_data)"
      ],
      "execution_count": 8,
      "outputs": [
        {
          "output_type": "execute_result",
          "data": {
            "text/plain": [
              "434"
            ]
          },
          "metadata": {
            "tags": []
          },
          "execution_count": 8
        }
      ]
    },
    {
      "cell_type": "code",
      "metadata": {
        "id": "SCaFe9-cXLsJ",
        "colab_type": "code",
        "colab": {}
      },
      "source": [
        "rep = voting_data[voting_data['republican'] == 'republican']\n",
        "dem = voting_data[voting_data['republican'] == 'democrat']"
      ],
      "execution_count": 0,
      "outputs": []
    },
    {
      "cell_type": "code",
      "metadata": {
        "id": "OdDwSCcCXixL",
        "colab_type": "code",
        "colab": {
          "base_uri": "https://localhost:8080/",
          "height": 223
        },
        "outputId": "69619373-38ac-4e77-c780-e797c7a78765"
      },
      "source": [
        "dem.head()"
      ],
      "execution_count": 14,
      "outputs": [
        {
          "output_type": "execute_result",
          "data": {
            "text/html": [
              "<div>\n",
              "<style scoped>\n",
              "    .dataframe tbody tr th:only-of-type {\n",
              "        vertical-align: middle;\n",
              "    }\n",
              "\n",
              "    .dataframe tbody tr th {\n",
              "        vertical-align: top;\n",
              "    }\n",
              "\n",
              "    .dataframe thead th {\n",
              "        text-align: right;\n",
              "    }\n",
              "</style>\n",
              "<table border=\"1\" class=\"dataframe\">\n",
              "  <thead>\n",
              "    <tr style=\"text-align: right;\">\n",
              "      <th></th>\n",
              "      <th>republican</th>\n",
              "      <th>n</th>\n",
              "      <th>y</th>\n",
              "      <th>n.1</th>\n",
              "      <th>y.1</th>\n",
              "      <th>y.2</th>\n",
              "      <th>y.3</th>\n",
              "      <th>n.2</th>\n",
              "      <th>n.3</th>\n",
              "      <th>n.4</th>\n",
              "      <th>y.4</th>\n",
              "      <th>?</th>\n",
              "      <th>y.5</th>\n",
              "      <th>y.6</th>\n",
              "      <th>y.7</th>\n",
              "      <th>n.5</th>\n",
              "      <th>y.8</th>\n",
              "    </tr>\n",
              "  </thead>\n",
              "  <tbody>\n",
              "    <tr>\n",
              "      <th>1</th>\n",
              "      <td>democrat</td>\n",
              "      <td>?</td>\n",
              "      <td>y</td>\n",
              "      <td>y</td>\n",
              "      <td>?</td>\n",
              "      <td>y</td>\n",
              "      <td>y</td>\n",
              "      <td>n</td>\n",
              "      <td>n</td>\n",
              "      <td>n</td>\n",
              "      <td>n</td>\n",
              "      <td>y</td>\n",
              "      <td>n</td>\n",
              "      <td>y</td>\n",
              "      <td>y</td>\n",
              "      <td>n</td>\n",
              "      <td>n</td>\n",
              "    </tr>\n",
              "    <tr>\n",
              "      <th>2</th>\n",
              "      <td>democrat</td>\n",
              "      <td>n</td>\n",
              "      <td>y</td>\n",
              "      <td>y</td>\n",
              "      <td>n</td>\n",
              "      <td>?</td>\n",
              "      <td>y</td>\n",
              "      <td>n</td>\n",
              "      <td>n</td>\n",
              "      <td>n</td>\n",
              "      <td>n</td>\n",
              "      <td>y</td>\n",
              "      <td>n</td>\n",
              "      <td>y</td>\n",
              "      <td>n</td>\n",
              "      <td>n</td>\n",
              "      <td>y</td>\n",
              "    </tr>\n",
              "    <tr>\n",
              "      <th>3</th>\n",
              "      <td>democrat</td>\n",
              "      <td>y</td>\n",
              "      <td>y</td>\n",
              "      <td>y</td>\n",
              "      <td>n</td>\n",
              "      <td>y</td>\n",
              "      <td>y</td>\n",
              "      <td>n</td>\n",
              "      <td>n</td>\n",
              "      <td>n</td>\n",
              "      <td>n</td>\n",
              "      <td>y</td>\n",
              "      <td>?</td>\n",
              "      <td>y</td>\n",
              "      <td>y</td>\n",
              "      <td>y</td>\n",
              "      <td>y</td>\n",
              "    </tr>\n",
              "    <tr>\n",
              "      <th>4</th>\n",
              "      <td>democrat</td>\n",
              "      <td>n</td>\n",
              "      <td>y</td>\n",
              "      <td>y</td>\n",
              "      <td>n</td>\n",
              "      <td>y</td>\n",
              "      <td>y</td>\n",
              "      <td>n</td>\n",
              "      <td>n</td>\n",
              "      <td>n</td>\n",
              "      <td>n</td>\n",
              "      <td>n</td>\n",
              "      <td>n</td>\n",
              "      <td>y</td>\n",
              "      <td>y</td>\n",
              "      <td>y</td>\n",
              "      <td>y</td>\n",
              "    </tr>\n",
              "    <tr>\n",
              "      <th>5</th>\n",
              "      <td>democrat</td>\n",
              "      <td>n</td>\n",
              "      <td>y</td>\n",
              "      <td>n</td>\n",
              "      <td>y</td>\n",
              "      <td>y</td>\n",
              "      <td>y</td>\n",
              "      <td>n</td>\n",
              "      <td>n</td>\n",
              "      <td>n</td>\n",
              "      <td>n</td>\n",
              "      <td>n</td>\n",
              "      <td>n</td>\n",
              "      <td>?</td>\n",
              "      <td>y</td>\n",
              "      <td>y</td>\n",
              "      <td>y</td>\n",
              "    </tr>\n",
              "  </tbody>\n",
              "</table>\n",
              "</div>"
            ],
            "text/plain": [
              "  republican  n  y n.1 y.1 y.2 y.3 n.2 n.3 n.4 y.4  ? y.5 y.6 y.7 n.5 y.8\n",
              "1   democrat  ?  y   y   ?   y   y   n   n   n   n  y   n   y   y   n   n\n",
              "2   democrat  n  y   y   n   ?   y   n   n   n   n  y   n   y   n   n   y\n",
              "3   democrat  y  y   y   n   y   y   n   n   n   n  y   ?   y   y   y   y\n",
              "4   democrat  n  y   y   n   y   y   n   n   n   n  n   n   y   y   y   y\n",
              "5   democrat  n  y   n   y   y   y   n   n   n   n  n   n   ?   y   y   y"
            ]
          },
          "metadata": {
            "tags": []
          },
          "execution_count": 14
        }
      ]
    },
    {
      "cell_type": "code",
      "metadata": {
        "id": "xrgVTRoRSz4E",
        "colab_type": "code",
        "colab": {
          "base_uri": "https://localhost:8080/",
          "height": 52
        },
        "outputId": "bec6ccca-6863-4944-d79b-0ba5887a4d4a"
      },
      "source": [
        "# This matches what I was told - I've got the right data\n",
        "# I'm now going to rename my data accordingly - not all of it\n",
        "'''\n",
        "1. Class Name: 2 (democrat, republican)\n",
        "2. handicapped-infants: 2 (y,n)\n",
        "3. water-project-cost-sharing: 2 (y,n)\n",
        "4. adoption-of-the-budget-resolution: 2 (y,n)\n",
        "5. physician-fee-freeze: 2 (y,n)\n",
        "6. el-salvador-aid: 2 (y,n)\n",
        "7. religious-groups-in-schools: 2 (y,n)\n",
        "8. anti-satellite-test-ban: 2 (y,n)\n",
        "9. aid-to-nicaraguan-contras: 2 (y,n)\n",
        "10. mx-missile: 2 (y,n)\n",
        "11. immigration: 2 (y,n)\n",
        "12. synfuels-corporation-cutback: 2 (y,n)\n",
        "13. education-spending: 2 (y,n)\n",
        "14. superfund-right-to-sue: 2 (y,n)\n",
        "15. crime: 2 (y,n)\n",
        "16. duty-free-exports: 2 (y,n)\n",
        "17. export-administration-act-south-africa: 2 (y,n)\n",
        "'''\n",
        "# If my goal was to simply find a divisive issue I would select 7.\n",
        "# As such, and to challenge a bias of mine which states that repub. groups\n",
        "# Would tend to be more in favor, I will select this one for my assignment.\n",
        "\n",
        "dem_r = dem['y.3']\n",
        "rep_r = rep['y.3']\n",
        "print(\"r \", len(rep_r))\n",
        "print(\"d \", len(dem_r))"
      ],
      "execution_count": 16,
      "outputs": [
        {
          "output_type": "stream",
          "text": [
            "r  167\n",
            "d  267\n"
          ],
          "name": "stdout"
        }
      ]
    },
    {
      "cell_type": "code",
      "metadata": {
        "id": "b1L0Cbk1X7db",
        "colab_type": "code",
        "colab": {
          "base_uri": "https://localhost:8080/",
          "height": 35
        },
        "outputId": "c66a3658-b4dd-447f-9682-4e31093c0853"
      },
      "source": [
        "# I currently - before removing null - have many more dem votes than r\n",
        "len(rep_r) - rep_r.isnull().sum()"
      ],
      "execution_count": 17,
      "outputs": [
        {
          "output_type": "execute_result",
          "data": {
            "text/plain": [
              "167"
            ]
          },
          "metadata": {
            "tags": []
          },
          "execution_count": 17
        }
      ]
    },
    {
      "cell_type": "code",
      "metadata": {
        "id": "l_FSFAPAYe-V",
        "colab_type": "code",
        "colab": {
          "base_uri": "https://localhost:8080/",
          "height": 35
        },
        "outputId": "95aacad2-e92d-442c-b950-e056e4c3b1c3"
      },
      "source": [
        "len(dem_r) - dem_r.isnull().sum()"
      ],
      "execution_count": 18,
      "outputs": [
        {
          "output_type": "execute_result",
          "data": {
            "text/plain": [
              "267"
            ]
          },
          "metadata": {
            "tags": []
          },
          "execution_count": 18
        }
      ]
    },
    {
      "cell_type": "markdown",
      "metadata": {
        "id": "xqLnl4rLYn3b",
        "colab_type": "text"
      },
      "source": [
        "This indicates that in my data there are no null values. Odd."
      ]
    },
    {
      "cell_type": "code",
      "metadata": {
        "id": "SfvGSjGjXER5",
        "colab_type": "code",
        "colab": {
          "base_uri": "https://localhost:8080/",
          "height": 1000
        },
        "outputId": "b0e6bc3c-18e9-48fa-97ae-2f597cd257cd"
      },
      "source": [
        "dem_r"
      ],
      "execution_count": 19,
      "outputs": [
        {
          "output_type": "execute_result",
          "data": {
            "text/plain": [
              "1      y\n",
              "2      y\n",
              "3      y\n",
              "4      y\n",
              "5      y\n",
              "8      n\n",
              "11     n\n",
              "12     y\n",
              "15     y\n",
              "16     n\n",
              "18     n\n",
              "19     ?\n",
              "20     n\n",
              "21     n\n",
              "22     n\n",
              "23     n\n",
              "24     n\n",
              "25     n\n",
              "26     n\n",
              "28     n\n",
              "30     n\n",
              "31     n\n",
              "33     n\n",
              "38     n\n",
              "39     n\n",
              "40     n\n",
              "41     n\n",
              "42     n\n",
              "43     n\n",
              "44     n\n",
              "45     n\n",
              "46     n\n",
              "47     n\n",
              "49     n\n",
              "51     n\n",
              "53     y\n",
              "59     ?\n",
              "61     n\n",
              "62     n\n",
              "63     n\n",
              "67     n\n",
              "68     n\n",
              "69     n\n",
              "71     n\n",
              "73     y\n",
              "74     y\n",
              "75     y\n",
              "76     y\n",
              "77     y\n",
              "79     y\n",
              "80     n\n",
              "84     y\n",
              "87     y\n",
              "89     n\n",
              "90     n\n",
              "91     n\n",
              "92     n\n",
              "93     y\n",
              "94     y\n",
              "95     y\n",
              "96     y\n",
              "97     y\n",
              "99     y\n",
              "100    y\n",
              "101    y\n",
              "102    y\n",
              "103    y\n",
              "104    n\n",
              "107    n\n",
              "108    n\n",
              "109    n\n",
              "111    y\n",
              "113    n\n",
              "114    ?\n",
              "115    n\n",
              "117    n\n",
              "123    n\n",
              "126    n\n",
              "127    y\n",
              "128    n\n",
              "129    ?\n",
              "130    y\n",
              "136    y\n",
              "137    y\n",
              "138    y\n",
              "142    n\n",
              "143    y\n",
              "144    y\n",
              "146    n\n",
              "148    n\n",
              "150    y\n",
              "151    y\n",
              "152    y\n",
              "156    y\n",
              "158    y\n",
              "159    y\n",
              "160    y\n",
              "161    y\n",
              "163    y\n",
              "164    y\n",
              "167    y\n",
              "168    n\n",
              "169    n\n",
              "171    n\n",
              "172    y\n",
              "173    n\n",
              "174    n\n",
              "176    n\n",
              "177    n\n",
              "178    n\n",
              "179    n\n",
              "180    n\n",
              "181    n\n",
              "182    ?\n",
              "183    n\n",
              "184    n\n",
              "185    n\n",
              "186    n\n",
              "188    n\n",
              "191    y\n",
              "192    n\n",
              "193    y\n",
              "195    y\n",
              "197    n\n",
              "198    n\n",
              "199    n\n",
              "200    n\n",
              "201    y\n",
              "202    n\n",
              "204    y\n",
              "207    n\n",
              "208    n\n",
              "209    y\n",
              "211    n\n",
              "212    y\n",
              "214    y\n",
              "215    y\n",
              "217    n\n",
              "218    n\n",
              "219    n\n",
              "220    y\n",
              "221    n\n",
              "225    y\n",
              "226    n\n",
              "231    n\n",
              "233    y\n",
              "235    n\n",
              "236    y\n",
              "237    n\n",
              "240    n\n",
              "242    n\n",
              "243    n\n",
              "244    n\n",
              "245    n\n",
              "248    n\n",
              "251    y\n",
              "253    n\n",
              "254    n\n",
              "257    n\n",
              "258    n\n",
              "259    n\n",
              "260    ?\n",
              "261    n\n",
              "262    n\n",
              "263    n\n",
              "264    n\n",
              "267    n\n",
              "268    n\n",
              "269    n\n",
              "270    y\n",
              "271    n\n",
              "274    y\n",
              "279    n\n",
              "283    y\n",
              "284    y\n",
              "285    y\n",
              "286    y\n",
              "287    y\n",
              "288    y\n",
              "289    y\n",
              "290    y\n",
              "291    y\n",
              "292    y\n",
              "293    y\n",
              "296    y\n",
              "297    n\n",
              "298    y\n",
              "300    y\n",
              "306    y\n",
              "308    y\n",
              "310    y\n",
              "311    n\n",
              "315    y\n",
              "316    n\n",
              "317    n\n",
              "318    n\n",
              "319    y\n",
              "320    n\n",
              "321    y\n",
              "322    y\n",
              "324    y\n",
              "325    n\n",
              "327    n\n",
              "328    y\n",
              "330    n\n",
              "331    n\n",
              "332    n\n",
              "333    y\n",
              "335    y\n",
              "336    n\n",
              "337    n\n",
              "340    y\n",
              "341    ?\n",
              "343    n\n",
              "347    n\n",
              "349    y\n",
              "351    y\n",
              "353    y\n",
              "357    y\n",
              "359    y\n",
              "360    y\n",
              "361    y\n",
              "364    y\n",
              "365    n\n",
              "366    y\n",
              "367    y\n",
              "369    y\n",
              "370    n\n",
              "371    y\n",
              "372    y\n",
              "374    y\n",
              "375    n\n",
              "379    y\n",
              "380    y\n",
              "381    y\n",
              "382    y\n",
              "383    y\n",
              "384    y\n",
              "385    y\n",
              "386    y\n",
              "387    y\n",
              "388    n\n",
              "389    y\n",
              "390    n\n",
              "393    y\n",
              "394    n\n",
              "395    y\n",
              "396    ?\n",
              "397    y\n",
              "405    y\n",
              "406    y\n",
              "407    y\n",
              "410    y\n",
              "413    n\n",
              "414    y\n",
              "416    n\n",
              "417    n\n",
              "418    n\n",
              "420    y\n",
              "421    y\n",
              "422    y\n",
              "423    ?\n",
              "424    n\n",
              "425    n\n",
              "427    n\n",
              "428    n\n",
              "430    n\n",
              "Name: y.3, dtype: object"
            ]
          },
          "metadata": {
            "tags": []
          },
          "execution_count": 19
        }
      ]
    },
    {
      "cell_type": "markdown",
      "metadata": {
        "id": "BGxUtHUbY0La",
        "colab_type": "text"
      },
      "source": [
        "That makes more sense. ? isn't null. Let's fix that using replace."
      ]
    },
    {
      "cell_type": "code",
      "metadata": {
        "id": "XBnyhMyvY3-5",
        "colab_type": "code",
        "colab": {
          "base_uri": "https://localhost:8080/",
          "height": 1000
        },
        "outputId": "de93dd38-5cf5-40d2-e54f-3e91bd8dab7f"
      },
      "source": [
        "dem_r = dem_r.replace({'?':np.NaN, 'n':0, 'y':1})\n",
        "rep_r = rep_r.replace({'?':np.NaN, 'n':0, 'y':1})\n",
        "dem_r"
      ],
      "execution_count": 20,
      "outputs": [
        {
          "output_type": "execute_result",
          "data": {
            "text/plain": [
              "1      1.0\n",
              "2      1.0\n",
              "3      1.0\n",
              "4      1.0\n",
              "5      1.0\n",
              "8      0.0\n",
              "11     0.0\n",
              "12     1.0\n",
              "15     1.0\n",
              "16     0.0\n",
              "18     0.0\n",
              "19     NaN\n",
              "20     0.0\n",
              "21     0.0\n",
              "22     0.0\n",
              "23     0.0\n",
              "24     0.0\n",
              "25     0.0\n",
              "26     0.0\n",
              "28     0.0\n",
              "30     0.0\n",
              "31     0.0\n",
              "33     0.0\n",
              "38     0.0\n",
              "39     0.0\n",
              "40     0.0\n",
              "41     0.0\n",
              "42     0.0\n",
              "43     0.0\n",
              "44     0.0\n",
              "45     0.0\n",
              "46     0.0\n",
              "47     0.0\n",
              "49     0.0\n",
              "51     0.0\n",
              "53     1.0\n",
              "59     NaN\n",
              "61     0.0\n",
              "62     0.0\n",
              "63     0.0\n",
              "67     0.0\n",
              "68     0.0\n",
              "69     0.0\n",
              "71     0.0\n",
              "73     1.0\n",
              "74     1.0\n",
              "75     1.0\n",
              "76     1.0\n",
              "77     1.0\n",
              "79     1.0\n",
              "80     0.0\n",
              "84     1.0\n",
              "87     1.0\n",
              "89     0.0\n",
              "90     0.0\n",
              "91     0.0\n",
              "92     0.0\n",
              "93     1.0\n",
              "94     1.0\n",
              "95     1.0\n",
              "96     1.0\n",
              "97     1.0\n",
              "99     1.0\n",
              "100    1.0\n",
              "101    1.0\n",
              "102    1.0\n",
              "103    1.0\n",
              "104    0.0\n",
              "107    0.0\n",
              "108    0.0\n",
              "109    0.0\n",
              "111    1.0\n",
              "113    0.0\n",
              "114    NaN\n",
              "115    0.0\n",
              "117    0.0\n",
              "123    0.0\n",
              "126    0.0\n",
              "127    1.0\n",
              "128    0.0\n",
              "129    NaN\n",
              "130    1.0\n",
              "136    1.0\n",
              "137    1.0\n",
              "138    1.0\n",
              "142    0.0\n",
              "143    1.0\n",
              "144    1.0\n",
              "146    0.0\n",
              "148    0.0\n",
              "150    1.0\n",
              "151    1.0\n",
              "152    1.0\n",
              "156    1.0\n",
              "158    1.0\n",
              "159    1.0\n",
              "160    1.0\n",
              "161    1.0\n",
              "163    1.0\n",
              "164    1.0\n",
              "167    1.0\n",
              "168    0.0\n",
              "169    0.0\n",
              "171    0.0\n",
              "172    1.0\n",
              "173    0.0\n",
              "174    0.0\n",
              "176    0.0\n",
              "177    0.0\n",
              "178    0.0\n",
              "179    0.0\n",
              "180    0.0\n",
              "181    0.0\n",
              "182    NaN\n",
              "183    0.0\n",
              "184    0.0\n",
              "185    0.0\n",
              "186    0.0\n",
              "188    0.0\n",
              "191    1.0\n",
              "192    0.0\n",
              "193    1.0\n",
              "195    1.0\n",
              "197    0.0\n",
              "198    0.0\n",
              "199    0.0\n",
              "200    0.0\n",
              "201    1.0\n",
              "202    0.0\n",
              "204    1.0\n",
              "207    0.0\n",
              "208    0.0\n",
              "209    1.0\n",
              "211    0.0\n",
              "212    1.0\n",
              "214    1.0\n",
              "215    1.0\n",
              "217    0.0\n",
              "218    0.0\n",
              "219    0.0\n",
              "220    1.0\n",
              "221    0.0\n",
              "225    1.0\n",
              "226    0.0\n",
              "231    0.0\n",
              "233    1.0\n",
              "235    0.0\n",
              "236    1.0\n",
              "237    0.0\n",
              "240    0.0\n",
              "242    0.0\n",
              "243    0.0\n",
              "244    0.0\n",
              "245    0.0\n",
              "248    0.0\n",
              "251    1.0\n",
              "253    0.0\n",
              "254    0.0\n",
              "257    0.0\n",
              "258    0.0\n",
              "259    0.0\n",
              "260    NaN\n",
              "261    0.0\n",
              "262    0.0\n",
              "263    0.0\n",
              "264    0.0\n",
              "267    0.0\n",
              "268    0.0\n",
              "269    0.0\n",
              "270    1.0\n",
              "271    0.0\n",
              "274    1.0\n",
              "279    0.0\n",
              "283    1.0\n",
              "284    1.0\n",
              "285    1.0\n",
              "286    1.0\n",
              "287    1.0\n",
              "288    1.0\n",
              "289    1.0\n",
              "290    1.0\n",
              "291    1.0\n",
              "292    1.0\n",
              "293    1.0\n",
              "296    1.0\n",
              "297    0.0\n",
              "298    1.0\n",
              "300    1.0\n",
              "306    1.0\n",
              "308    1.0\n",
              "310    1.0\n",
              "311    0.0\n",
              "315    1.0\n",
              "316    0.0\n",
              "317    0.0\n",
              "318    0.0\n",
              "319    1.0\n",
              "320    0.0\n",
              "321    1.0\n",
              "322    1.0\n",
              "324    1.0\n",
              "325    0.0\n",
              "327    0.0\n",
              "328    1.0\n",
              "330    0.0\n",
              "331    0.0\n",
              "332    0.0\n",
              "333    1.0\n",
              "335    1.0\n",
              "336    0.0\n",
              "337    0.0\n",
              "340    1.0\n",
              "341    NaN\n",
              "343    0.0\n",
              "347    0.0\n",
              "349    1.0\n",
              "351    1.0\n",
              "353    1.0\n",
              "357    1.0\n",
              "359    1.0\n",
              "360    1.0\n",
              "361    1.0\n",
              "364    1.0\n",
              "365    0.0\n",
              "366    1.0\n",
              "367    1.0\n",
              "369    1.0\n",
              "370    0.0\n",
              "371    1.0\n",
              "372    1.0\n",
              "374    1.0\n",
              "375    0.0\n",
              "379    1.0\n",
              "380    1.0\n",
              "381    1.0\n",
              "382    1.0\n",
              "383    1.0\n",
              "384    1.0\n",
              "385    1.0\n",
              "386    1.0\n",
              "387    1.0\n",
              "388    0.0\n",
              "389    1.0\n",
              "390    0.0\n",
              "393    1.0\n",
              "394    0.0\n",
              "395    1.0\n",
              "396    NaN\n",
              "397    1.0\n",
              "405    1.0\n",
              "406    1.0\n",
              "407    1.0\n",
              "410    1.0\n",
              "413    0.0\n",
              "414    1.0\n",
              "416    0.0\n",
              "417    0.0\n",
              "418    0.0\n",
              "420    1.0\n",
              "421    1.0\n",
              "422    1.0\n",
              "423    NaN\n",
              "424    0.0\n",
              "425    0.0\n",
              "427    0.0\n",
              "428    0.0\n",
              "430    0.0\n",
              "Name: y.3, dtype: float64"
            ]
          },
          "metadata": {
            "tags": []
          },
          "execution_count": 20
        }
      ]
    },
    {
      "cell_type": "code",
      "metadata": {
        "id": "evEITRu_ZE3n",
        "colab_type": "code",
        "colab": {
          "base_uri": "https://localhost:8080/",
          "height": 35
        },
        "outputId": "8c0e6e20-3b74-4245-c0e0-d7766e6bc735"
      },
      "source": [
        "# Now I can remove the NaNs properly\n",
        "# Let's first make sure the vals changed\n",
        "len(rep_r) - rep_r.isnull().sum()"
      ],
      "execution_count": 21,
      "outputs": [
        {
          "output_type": "execute_result",
          "data": {
            "text/plain": [
              "165"
            ]
          },
          "metadata": {
            "tags": []
          },
          "execution_count": 21
        }
      ]
    },
    {
      "cell_type": "code",
      "metadata": {
        "id": "yTdjpeJJZ3Wi",
        "colab_type": "code",
        "colab": {
          "base_uri": "https://localhost:8080/",
          "height": 35
        },
        "outputId": "ec2d987e-3585-447d-d481-f6b463e88ff3"
      },
      "source": [
        "len(dem_r) - dem_r.isnull().sum()"
      ],
      "execution_count": 22,
      "outputs": [
        {
          "output_type": "execute_result",
          "data": {
            "text/plain": [
              "258"
            ]
          },
          "metadata": {
            "tags": []
          },
          "execution_count": 22
        }
      ]
    },
    {
      "cell_type": "code",
      "metadata": {
        "id": "o1PCvlhOZ4yw",
        "colab_type": "code",
        "colab": {}
      },
      "source": [
        "# Excellent, onto the removal\n",
        "dem_r = dem_r[~np.isnan(dem_r)]"
      ],
      "execution_count": 0,
      "outputs": []
    },
    {
      "cell_type": "code",
      "metadata": {
        "id": "_L5xajbjaStf",
        "colab_type": "code",
        "colab": {
          "base_uri": "https://localhost:8080/",
          "height": 35
        },
        "outputId": "19b51dc2-07e7-46b2-fd34-b4412fd7ad80"
      },
      "source": [
        "len(dem_r)"
      ],
      "execution_count": 24,
      "outputs": [
        {
          "output_type": "execute_result",
          "data": {
            "text/plain": [
              "258"
            ]
          },
          "metadata": {
            "tags": []
          },
          "execution_count": 24
        }
      ]
    },
    {
      "cell_type": "code",
      "metadata": {
        "id": "LagSyiokaXLh",
        "colab_type": "code",
        "colab": {}
      },
      "source": [
        "rep_r = rep_r[~np.isnan(rep_r)]"
      ],
      "execution_count": 0,
      "outputs": []
    },
    {
      "cell_type": "code",
      "metadata": {
        "id": "c4-ztz2MaasN",
        "colab_type": "code",
        "colab": {
          "base_uri": "https://localhost:8080/",
          "height": 35
        },
        "outputId": "961dd0fc-bf73-4e7e-fcd3-6aa780420e62"
      },
      "source": [
        "len(rep_r)"
      ],
      "execution_count": 26,
      "outputs": [
        {
          "output_type": "execute_result",
          "data": {
            "text/plain": [
              "165"
            ]
          },
          "metadata": {
            "tags": []
          },
          "execution_count": 26
        }
      ]
    },
    {
      "cell_type": "markdown",
      "metadata": {
        "id": "eSMv-_R-RLTU",
        "colab_type": "text"
      },
      "source": [
        "Using hypothesis testing, find an issue that democrats support more than republicans with p < 0.01"
      ]
    },
    {
      "cell_type": "code",
      "metadata": {
        "id": "B2JBf_31RUsL",
        "colab_type": "code",
        "colab": {
          "base_uri": "https://localhost:8080/",
          "height": 123
        },
        "outputId": "94eaac6a-39f5-42ca-dd84-5a5fd7c710d2"
      },
      "source": [
        "# Number 6 - el salvador aid - pretty positive dems support more than reps\n",
        "# So I'll need to clean and gather that data\n",
        "dem_es = dem['y.2']\n",
        "rep_es = rep['y.2']\n",
        "print(\"r null inc \", len(rep_es))\n",
        "print(\"d null inc \", len(dem_es))\n",
        "\n",
        "print('d_non_null ', len(dem_es) - dem_es.isnull().sum())\n",
        "print('r_non_null ', len(rep_es) - rep_es.isnull().sum())\n",
        "\n",
        "dem_es = dem_es.replace({'?':np.NaN, 'n':0, 'y':1})\n",
        "rep_es = rep_es.replace({'?':np.NaN, 'n':0, 'y':1})\n",
        "\n",
        "dem_es = dem_es[~np.isnan(dem_es)]\n",
        "rep_es = rep_es[~np.isnan(rep_es)]\n",
        "\n",
        "print(\"r null removed \", len(rep_es))\n",
        "print(\"d null removed \", len(dem_es))"
      ],
      "execution_count": 29,
      "outputs": [
        {
          "output_type": "stream",
          "text": [
            "r null inc  167\n",
            "d null inc  267\n",
            "d_non_null  267\n",
            "r_non_null  167\n",
            "r null removed  164\n",
            "d null removed  255\n"
          ],
          "name": "stdout"
        }
      ]
    },
    {
      "cell_type": "code",
      "metadata": {
        "id": "cyH2dfLNeCy1",
        "colab_type": "code",
        "colab": {
          "base_uri": "https://localhost:8080/",
          "height": 35
        },
        "outputId": "8f99752d-a646-49bf-f73c-3b2640d65145"
      },
      "source": [
        "ttest_ind(rep_es, dem_es, nan_policy='omit')"
      ],
      "execution_count": 30,
      "outputs": [
        {
          "output_type": "execute_result",
          "data": {
            "text/plain": [
              "Ttest_indResult(statistic=21.06444879561732, pvalue=1.3035583587181002e-67)"
            ]
          },
          "metadata": {
            "tags": []
          },
          "execution_count": 30
        }
      ]
    },
    {
      "cell_type": "code",
      "metadata": {
        "id": "I5FOrek9eN2c",
        "colab_type": "code",
        "colab": {
          "base_uri": "https://localhost:8080/",
          "height": 52
        },
        "outputId": "060d42a9-031a-4a7e-d539-64dd18f3296f"
      },
      "source": [
        "print( 'r ', rep_es.mean() )\n",
        "print( 'd ', dem_es.mean() )"
      ],
      "execution_count": 31,
      "outputs": [
        {
          "output_type": "stream",
          "text": [
            "r  0.9512195121951219\n",
            "d  0.21568627450980393\n"
          ],
          "name": "stdout"
        }
      ]
    },
    {
      "cell_type": "markdown",
      "metadata": {
        "id": "gatI3flJeQnw",
        "colab_type": "text"
      },
      "source": [
        "I pretty clearly see that, between the positive pvalue (which I'm having difficulty converting to a real number but atm assume is 1.verysmalldecimals ) and the significant difference in mean, against my initial thoughts, reps actually voted significantly more in favor of el salvador support than dems?"
      ]
    },
    {
      "cell_type": "code",
      "metadata": {
        "id": "0qF1y2Shf7m1",
        "colab_type": "code",
        "colab": {
          "base_uri": "https://localhost:8080/",
          "height": 1000
        },
        "outputId": "e5ff6a09-430f-44f2-b2e5-dada9616df1e"
      },
      "source": [
        "rep_es"
      ],
      "execution_count": 32,
      "outputs": [
        {
          "output_type": "execute_result",
          "data": {
            "text/plain": [
              "0      1.0\n",
              "6      1.0\n",
              "7      1.0\n",
              "9      1.0\n",
              "10     1.0\n",
              "13     1.0\n",
              "14     1.0\n",
              "17     1.0\n",
              "27     1.0\n",
              "29     1.0\n",
              "32     1.0\n",
              "34     1.0\n",
              "35     1.0\n",
              "36     1.0\n",
              "37     1.0\n",
              "48     1.0\n",
              "50     1.0\n",
              "52     1.0\n",
              "54     1.0\n",
              "55     1.0\n",
              "56     1.0\n",
              "57     1.0\n",
              "58     1.0\n",
              "60     1.0\n",
              "64     1.0\n",
              "65     1.0\n",
              "66     1.0\n",
              "70     0.0\n",
              "72     1.0\n",
              "78     1.0\n",
              "81     1.0\n",
              "82     1.0\n",
              "83     1.0\n",
              "85     1.0\n",
              "86     1.0\n",
              "88     1.0\n",
              "98     1.0\n",
              "105    1.0\n",
              "110    1.0\n",
              "112    1.0\n",
              "116    1.0\n",
              "118    1.0\n",
              "119    1.0\n",
              "120    1.0\n",
              "121    1.0\n",
              "122    1.0\n",
              "124    1.0\n",
              "125    1.0\n",
              "131    1.0\n",
              "132    1.0\n",
              "133    1.0\n",
              "134    1.0\n",
              "135    1.0\n",
              "139    0.0\n",
              "140    1.0\n",
              "141    1.0\n",
              "145    1.0\n",
              "147    1.0\n",
              "149    1.0\n",
              "153    1.0\n",
              "154    1.0\n",
              "155    1.0\n",
              "157    1.0\n",
              "162    1.0\n",
              "165    1.0\n",
              "166    1.0\n",
              "170    1.0\n",
              "175    0.0\n",
              "187    1.0\n",
              "189    1.0\n",
              "190    1.0\n",
              "194    1.0\n",
              "196    1.0\n",
              "203    1.0\n",
              "205    1.0\n",
              "206    1.0\n",
              "210    1.0\n",
              "213    1.0\n",
              "216    1.0\n",
              "222    1.0\n",
              "223    1.0\n",
              "224    1.0\n",
              "227    1.0\n",
              "228    1.0\n",
              "229    1.0\n",
              "230    1.0\n",
              "232    1.0\n",
              "234    1.0\n",
              "238    1.0\n",
              "239    0.0\n",
              "241    1.0\n",
              "246    1.0\n",
              "249    1.0\n",
              "250    1.0\n",
              "252    1.0\n",
              "255    1.0\n",
              "256    1.0\n",
              "265    1.0\n",
              "266    0.0\n",
              "272    1.0\n",
              "273    1.0\n",
              "275    1.0\n",
              "276    1.0\n",
              "277    1.0\n",
              "278    1.0\n",
              "280    1.0\n",
              "281    1.0\n",
              "282    1.0\n",
              "294    1.0\n",
              "295    1.0\n",
              "299    1.0\n",
              "301    1.0\n",
              "302    1.0\n",
              "303    1.0\n",
              "304    1.0\n",
              "305    1.0\n",
              "307    1.0\n",
              "309    1.0\n",
              "312    1.0\n",
              "313    1.0\n",
              "314    1.0\n",
              "323    1.0\n",
              "326    1.0\n",
              "329    1.0\n",
              "334    1.0\n",
              "338    1.0\n",
              "339    1.0\n",
              "342    1.0\n",
              "344    1.0\n",
              "345    1.0\n",
              "346    1.0\n",
              "348    1.0\n",
              "350    1.0\n",
              "352    1.0\n",
              "354    0.0\n",
              "355    1.0\n",
              "356    1.0\n",
              "358    1.0\n",
              "362    1.0\n",
              "363    1.0\n",
              "368    1.0\n",
              "373    1.0\n",
              "376    1.0\n",
              "377    1.0\n",
              "378    1.0\n",
              "391    1.0\n",
              "392    0.0\n",
              "399    1.0\n",
              "400    1.0\n",
              "401    0.0\n",
              "402    1.0\n",
              "403    1.0\n",
              "404    1.0\n",
              "408    1.0\n",
              "409    1.0\n",
              "411    1.0\n",
              "412    1.0\n",
              "415    1.0\n",
              "419    1.0\n",
              "426    1.0\n",
              "429    1.0\n",
              "431    1.0\n",
              "432    1.0\n",
              "433    1.0\n",
              "Name: y.2, dtype: float64"
            ]
          },
          "metadata": {
            "tags": []
          },
          "execution_count": 32
        }
      ]
    },
    {
      "cell_type": "code",
      "metadata": {
        "id": "zoaEoUhbgAiF",
        "colab_type": "code",
        "colab": {
          "base_uri": "https://localhost:8080/",
          "height": 1000
        },
        "outputId": "8d6680ce-5744-4b9d-f1b0-326e4c3f140c"
      },
      "source": [
        "dem_es"
      ],
      "execution_count": 33,
      "outputs": [
        {
          "output_type": "execute_result",
          "data": {
            "text/plain": [
              "1      1.0\n",
              "3      1.0\n",
              "4      1.0\n",
              "5      1.0\n",
              "8      0.0\n",
              "11     0.0\n",
              "12     0.0\n",
              "15     0.0\n",
              "16     0.0\n",
              "18     0.0\n",
              "19     0.0\n",
              "20     0.0\n",
              "21     0.0\n",
              "22     0.0\n",
              "23     0.0\n",
              "24     0.0\n",
              "25     0.0\n",
              "26     0.0\n",
              "28     0.0\n",
              "30     0.0\n",
              "31     0.0\n",
              "33     0.0\n",
              "38     0.0\n",
              "39     0.0\n",
              "40     0.0\n",
              "41     0.0\n",
              "42     0.0\n",
              "43     0.0\n",
              "44     0.0\n",
              "45     0.0\n",
              "46     0.0\n",
              "47     0.0\n",
              "49     0.0\n",
              "51     0.0\n",
              "53     0.0\n",
              "59     0.0\n",
              "61     0.0\n",
              "62     0.0\n",
              "63     0.0\n",
              "67     0.0\n",
              "68     0.0\n",
              "69     0.0\n",
              "71     0.0\n",
              "73     0.0\n",
              "74     1.0\n",
              "75     1.0\n",
              "76     1.0\n",
              "77     1.0\n",
              "79     0.0\n",
              "80     0.0\n",
              "84     1.0\n",
              "87     1.0\n",
              "89     0.0\n",
              "90     0.0\n",
              "91     0.0\n",
              "92     0.0\n",
              "93     1.0\n",
              "94     1.0\n",
              "95     1.0\n",
              "96     1.0\n",
              "97     0.0\n",
              "99     1.0\n",
              "100    1.0\n",
              "101    1.0\n",
              "102    1.0\n",
              "103    0.0\n",
              "104    0.0\n",
              "107    0.0\n",
              "108    0.0\n",
              "109    0.0\n",
              "111    0.0\n",
              "113    0.0\n",
              "115    0.0\n",
              "117    0.0\n",
              "123    0.0\n",
              "126    0.0\n",
              "127    0.0\n",
              "128    0.0\n",
              "130    0.0\n",
              "136    0.0\n",
              "137    0.0\n",
              "138    0.0\n",
              "142    0.0\n",
              "143    0.0\n",
              "144    0.0\n",
              "146    0.0\n",
              "148    0.0\n",
              "150    1.0\n",
              "151    0.0\n",
              "152    0.0\n",
              "156    0.0\n",
              "159    1.0\n",
              "160    1.0\n",
              "161    1.0\n",
              "163    1.0\n",
              "164    0.0\n",
              "167    1.0\n",
              "168    0.0\n",
              "169    0.0\n",
              "171    0.0\n",
              "172    1.0\n",
              "173    0.0\n",
              "174    0.0\n",
              "176    0.0\n",
              "177    0.0\n",
              "178    0.0\n",
              "179    0.0\n",
              "180    0.0\n",
              "181    0.0\n",
              "183    0.0\n",
              "184    0.0\n",
              "185    0.0\n",
              "186    0.0\n",
              "188    0.0\n",
              "191    0.0\n",
              "192    0.0\n",
              "193    0.0\n",
              "195    0.0\n",
              "197    0.0\n",
              "198    0.0\n",
              "199    0.0\n",
              "200    0.0\n",
              "201    0.0\n",
              "202    0.0\n",
              "204    0.0\n",
              "207    0.0\n",
              "208    0.0\n",
              "209    0.0\n",
              "211    0.0\n",
              "212    0.0\n",
              "214    1.0\n",
              "215    1.0\n",
              "217    0.0\n",
              "218    0.0\n",
              "219    0.0\n",
              "220    1.0\n",
              "221    0.0\n",
              "225    0.0\n",
              "226    0.0\n",
              "231    0.0\n",
              "233    0.0\n",
              "235    0.0\n",
              "236    0.0\n",
              "237    0.0\n",
              "240    0.0\n",
              "242    0.0\n",
              "243    0.0\n",
              "244    0.0\n",
              "245    1.0\n",
              "248    0.0\n",
              "251    0.0\n",
              "253    0.0\n",
              "254    0.0\n",
              "257    0.0\n",
              "258    0.0\n",
              "259    0.0\n",
              "260    0.0\n",
              "261    0.0\n",
              "262    0.0\n",
              "263    0.0\n",
              "264    0.0\n",
              "267    0.0\n",
              "268    0.0\n",
              "269    0.0\n",
              "270    0.0\n",
              "271    0.0\n",
              "274    1.0\n",
              "279    0.0\n",
              "283    0.0\n",
              "284    0.0\n",
              "285    0.0\n",
              "286    0.0\n",
              "287    1.0\n",
              "288    1.0\n",
              "290    0.0\n",
              "291    0.0\n",
              "292    0.0\n",
              "293    0.0\n",
              "296    0.0\n",
              "297    0.0\n",
              "298    0.0\n",
              "300    0.0\n",
              "306    0.0\n",
              "308    0.0\n",
              "310    0.0\n",
              "311    0.0\n",
              "315    0.0\n",
              "316    0.0\n",
              "317    0.0\n",
              "318    0.0\n",
              "319    0.0\n",
              "320    0.0\n",
              "322    1.0\n",
              "324    1.0\n",
              "325    0.0\n",
              "327    0.0\n",
              "328    0.0\n",
              "330    0.0\n",
              "331    0.0\n",
              "332    0.0\n",
              "333    0.0\n",
              "335    0.0\n",
              "336    0.0\n",
              "337    0.0\n",
              "340    0.0\n",
              "341    1.0\n",
              "343    0.0\n",
              "347    0.0\n",
              "349    0.0\n",
              "351    0.0\n",
              "353    0.0\n",
              "357    0.0\n",
              "359    0.0\n",
              "360    1.0\n",
              "361    0.0\n",
              "364    1.0\n",
              "365    0.0\n",
              "366    1.0\n",
              "367    0.0\n",
              "371    1.0\n",
              "372    1.0\n",
              "374    1.0\n",
              "375    0.0\n",
              "379    0.0\n",
              "380    1.0\n",
              "381    1.0\n",
              "382    1.0\n",
              "383    1.0\n",
              "384    1.0\n",
              "385    1.0\n",
              "386    1.0\n",
              "387    1.0\n",
              "388    0.0\n",
              "390    0.0\n",
              "394    0.0\n",
              "395    1.0\n",
              "396    1.0\n",
              "397    1.0\n",
              "405    1.0\n",
              "406    1.0\n",
              "407    0.0\n",
              "410    0.0\n",
              "413    0.0\n",
              "414    0.0\n",
              "416    0.0\n",
              "417    0.0\n",
              "418    0.0\n",
              "420    1.0\n",
              "421    0.0\n",
              "422    0.0\n",
              "423    0.0\n",
              "424    0.0\n",
              "425    0.0\n",
              "427    0.0\n",
              "430    0.0\n",
              "Name: y.2, dtype: float64"
            ]
          },
          "metadata": {
            "tags": []
          },
          "execution_count": 33
        }
      ]
    },
    {
      "cell_type": "code",
      "metadata": {
        "id": "bYMP0vTVgOnf",
        "colab_type": "code",
        "colab": {
          "base_uri": "https://localhost:8080/",
          "height": 1000
        },
        "outputId": "bc2a5039-eaa7-4343-a972-2617bca68bdd"
      },
      "source": [
        "dem['y.2'] # Yeah, data lines up. "
      ],
      "execution_count": 34,
      "outputs": [
        {
          "output_type": "execute_result",
          "data": {
            "text/plain": [
              "1      y\n",
              "2      ?\n",
              "3      y\n",
              "4      y\n",
              "5      y\n",
              "8      n\n",
              "11     n\n",
              "12     n\n",
              "15     n\n",
              "16     n\n",
              "18     n\n",
              "19     n\n",
              "20     n\n",
              "21     n\n",
              "22     n\n",
              "23     n\n",
              "24     n\n",
              "25     n\n",
              "26     n\n",
              "28     n\n",
              "30     n\n",
              "31     n\n",
              "33     n\n",
              "38     n\n",
              "39     n\n",
              "40     n\n",
              "41     n\n",
              "42     n\n",
              "43     n\n",
              "44     n\n",
              "45     n\n",
              "46     n\n",
              "47     n\n",
              "49     n\n",
              "51     n\n",
              "53     n\n",
              "59     n\n",
              "61     n\n",
              "62     n\n",
              "63     n\n",
              "67     n\n",
              "68     n\n",
              "69     n\n",
              "71     n\n",
              "73     n\n",
              "74     y\n",
              "75     y\n",
              "76     y\n",
              "77     y\n",
              "79     n\n",
              "80     n\n",
              "84     y\n",
              "87     y\n",
              "89     n\n",
              "90     n\n",
              "91     n\n",
              "92     n\n",
              "93     y\n",
              "94     y\n",
              "95     y\n",
              "96     y\n",
              "97     n\n",
              "99     y\n",
              "100    y\n",
              "101    y\n",
              "102    y\n",
              "103    n\n",
              "104    n\n",
              "107    n\n",
              "108    n\n",
              "109    n\n",
              "111    n\n",
              "113    n\n",
              "114    ?\n",
              "115    n\n",
              "117    n\n",
              "123    n\n",
              "126    n\n",
              "127    n\n",
              "128    n\n",
              "129    ?\n",
              "130    n\n",
              "136    n\n",
              "137    n\n",
              "138    n\n",
              "142    n\n",
              "143    n\n",
              "144    n\n",
              "146    n\n",
              "148    n\n",
              "150    y\n",
              "151    n\n",
              "152    n\n",
              "156    n\n",
              "158    ?\n",
              "159    y\n",
              "160    y\n",
              "161    y\n",
              "163    y\n",
              "164    n\n",
              "167    y\n",
              "168    n\n",
              "169    n\n",
              "171    n\n",
              "172    y\n",
              "173    n\n",
              "174    n\n",
              "176    n\n",
              "177    n\n",
              "178    n\n",
              "179    n\n",
              "180    n\n",
              "181    n\n",
              "182    ?\n",
              "183    n\n",
              "184    n\n",
              "185    n\n",
              "186    n\n",
              "188    n\n",
              "191    n\n",
              "192    n\n",
              "193    n\n",
              "195    n\n",
              "197    n\n",
              "198    n\n",
              "199    n\n",
              "200    n\n",
              "201    n\n",
              "202    n\n",
              "204    n\n",
              "207    n\n",
              "208    n\n",
              "209    n\n",
              "211    n\n",
              "212    n\n",
              "214    y\n",
              "215    y\n",
              "217    n\n",
              "218    n\n",
              "219    n\n",
              "220    y\n",
              "221    n\n",
              "225    n\n",
              "226    n\n",
              "231    n\n",
              "233    n\n",
              "235    n\n",
              "236    n\n",
              "237    n\n",
              "240    n\n",
              "242    n\n",
              "243    n\n",
              "244    n\n",
              "245    y\n",
              "248    n\n",
              "251    n\n",
              "253    n\n",
              "254    n\n",
              "257    n\n",
              "258    n\n",
              "259    n\n",
              "260    n\n",
              "261    n\n",
              "262    n\n",
              "263    n\n",
              "264    n\n",
              "267    n\n",
              "268    n\n",
              "269    n\n",
              "270    n\n",
              "271    n\n",
              "274    y\n",
              "279    n\n",
              "283    n\n",
              "284    n\n",
              "285    n\n",
              "286    n\n",
              "287    y\n",
              "288    y\n",
              "289    ?\n",
              "290    n\n",
              "291    n\n",
              "292    n\n",
              "293    n\n",
              "296    n\n",
              "297    n\n",
              "298    n\n",
              "300    n\n",
              "306    n\n",
              "308    n\n",
              "310    n\n",
              "311    n\n",
              "315    n\n",
              "316    n\n",
              "317    n\n",
              "318    n\n",
              "319    n\n",
              "320    n\n",
              "321    ?\n",
              "322    y\n",
              "324    y\n",
              "325    n\n",
              "327    n\n",
              "328    n\n",
              "330    n\n",
              "331    n\n",
              "332    n\n",
              "333    n\n",
              "335    n\n",
              "336    n\n",
              "337    n\n",
              "340    n\n",
              "341    y\n",
              "343    n\n",
              "347    n\n",
              "349    n\n",
              "351    n\n",
              "353    n\n",
              "357    n\n",
              "359    n\n",
              "360    y\n",
              "361    n\n",
              "364    y\n",
              "365    n\n",
              "366    y\n",
              "367    n\n",
              "369    ?\n",
              "370    ?\n",
              "371    y\n",
              "372    y\n",
              "374    y\n",
              "375    n\n",
              "379    n\n",
              "380    y\n",
              "381    y\n",
              "382    y\n",
              "383    y\n",
              "384    y\n",
              "385    y\n",
              "386    y\n",
              "387    y\n",
              "388    n\n",
              "389    ?\n",
              "390    n\n",
              "393    ?\n",
              "394    n\n",
              "395    y\n",
              "396    y\n",
              "397    y\n",
              "405    y\n",
              "406    y\n",
              "407    n\n",
              "410    n\n",
              "413    n\n",
              "414    n\n",
              "416    n\n",
              "417    n\n",
              "418    n\n",
              "420    y\n",
              "421    n\n",
              "422    n\n",
              "423    n\n",
              "424    n\n",
              "425    n\n",
              "427    n\n",
              "428    ?\n",
              "430    n\n",
              "Name: y.2, dtype: object"
            ]
          },
          "metadata": {
            "tags": []
          },
          "execution_count": 34
        }
      ]
    },
    {
      "cell_type": "markdown",
      "metadata": {
        "id": "_i5ueb4NROfU",
        "colab_type": "text"
      },
      "source": [
        "Using hypothesis testing, find an issue that republicans support more than democrats with p < 0.01"
      ]
    },
    {
      "cell_type": "code",
      "metadata": {
        "id": "9-fFoElTRVRw",
        "colab_type": "code",
        "colab": {
          "base_uri": "https://localhost:8080/",
          "height": 35
        },
        "outputId": "a3ba5b45-1904-49ea-873e-430261606325"
      },
      "source": [
        "# My hypothesis is that rep will support religious involvement in \n",
        "# Schools more than 50% and dem will support it less than 50%\n",
        "# My Null hypothesis is, of course, that both support it equally - \n",
        "# or, perhaps, technically, the opposite would be possible but\n",
        "# If anything that would be my alternative - not null, but a complete\n",
        "# reversal of expectations.\n",
        "ttest_ind(rep_r, dem_r, nan_policy='omit')"
      ],
      "execution_count": 27,
      "outputs": [
        {
          "output_type": "execute_result",
          "data": {
            "text/plain": [
              "Ttest_indResult(statistic=9.694471882817886, pvalue=3.415425248480747e-20)"
            ]
          },
          "metadata": {
            "tags": []
          },
          "execution_count": 27
        }
      ]
    },
    {
      "cell_type": "code",
      "metadata": {
        "id": "2tx887wIbFnZ",
        "colab_type": "code",
        "colab": {
          "base_uri": "https://localhost:8080/",
          "height": 52
        },
        "outputId": "82f172eb-aa8d-4f32-ba4b-6a9057aa782c"
      },
      "source": [
        "print( 'r ', rep_r.mean() )\n",
        "print( 'd ', dem_r.mean() )"
      ],
      "execution_count": 28,
      "outputs": [
        {
          "output_type": "stream",
          "text": [
            "r  0.896969696969697\n",
            "d  0.47674418604651164\n"
          ],
          "name": "stdout"
        }
      ]
    },
    {
      "cell_type": "code",
      "metadata": {
        "id": "g4ftfzjVbRHg",
        "colab_type": "code",
        "colab": {}
      },
      "source": [
        "# I clearly didn't need to test via Ttest as my hypothesis is clearly true\n",
        "# Dems have a 47.674% average support which is less than 50% and less than:\n",
        "# Reps (which) have a support avg of 89.6969% - significantly higher\n",
        "# But with a p-value of 3.4154 I think this is very clearly in support\n",
        "# of my alternative hypothesis - that reps support rel groups bill more\n"
      ],
      "execution_count": 0,
      "outputs": []
    },
    {
      "cell_type": "markdown",
      "metadata": {
        "id": "q5wvpJLcRQwj",
        "colab_type": "text"
      },
      "source": [
        "Using hypothesis testing, find an issue where the difference between republicans and democrats has p > 0.1 (i.e. there may not be much of a difference)\n",
        "Note that this data will involve 2 sample t-tests, because you're comparing averages across two groups (republicans and democrats) rather than a single group against a null hypothesis."
      ]
    },
    {
      "cell_type": "code",
      "metadata": {
        "id": "nz0WCGW8RVxP",
        "colab_type": "code",
        "colab": {
          "base_uri": "https://localhost:8080/",
          "height": 123
        },
        "outputId": "da13df1b-80ad-43d7-a65a-cd9bd5255433"
      },
      "source": [
        "# Number 2 - infant dis\n",
        "'''\n",
        "Thought process:\n",
        "Dems support because concern for citizens\n",
        "Reps might support because babies but tbh bad and inconsistent logic has\n",
        "been pointed out with the abortion rights movement so I wouldn't be\n",
        "surprised if, in spite of how horrible it sounds on paper, reps don't\n",
        "show support for disabled babies.\n",
        "\n",
        "Giving them the benefit of the doubt in my hypothesis of equal support\n",
        "'''\n",
        "# So I'll need to clean and gather that data\n",
        "dem_id = dem['n']\n",
        "rep_id = rep['n']\n",
        "print(\"r null inc \", len(rep_id))\n",
        "print(\"d null inc \", len(dem_id))\n",
        "\n",
        "print('d_non_null ', len(dem_id) - dem_id.isnull().sum())\n",
        "print('r_non_null ', len(rep_id) - rep_id.isnull().sum())\n",
        "\n",
        "dem_id = dem_id.replace({'?':np.NaN, 'n':0, 'y':1})\n",
        "rep_id = rep_id.replace({'?':np.NaN, 'n':0, 'y':1})\n",
        "\n",
        "dem_id = dem_id[~np.isnan(dem_id)]\n",
        "rep_id = rep_id[~np.isnan(rep_id)]\n",
        "\n",
        "print(\"r null removed \", len(rep_id))\n",
        "print(\"d null removed \", len(dem_id))"
      ],
      "execution_count": 35,
      "outputs": [
        {
          "output_type": "stream",
          "text": [
            "r null inc  167\n",
            "d null inc  267\n",
            "d_non_null  267\n",
            "r_non_null  167\n",
            "r null removed  164\n",
            "d null removed  258\n"
          ],
          "name": "stdout"
        }
      ]
    },
    {
      "cell_type": "code",
      "metadata": {
        "id": "Wo-oy9aJiIm4",
        "colab_type": "code",
        "colab": {
          "base_uri": "https://localhost:8080/",
          "height": 35
        },
        "outputId": "ad2ecc81-e121-4eeb-ebc2-8b0e27952785"
      },
      "source": [
        "ttest_ind(rep_id, dem_id, nan_policy='omit')"
      ],
      "execution_count": 36,
      "outputs": [
        {
          "output_type": "execute_result",
          "data": {
            "text/plain": [
              "Ttest_indResult(statistic=-9.15392122841775, pvalue=2.4195550274147043e-18)"
            ]
          },
          "metadata": {
            "tags": []
          },
          "execution_count": 36
        }
      ]
    },
    {
      "cell_type": "code",
      "metadata": {
        "id": "a4S9cKY6iL3y",
        "colab_type": "code",
        "colab": {
          "base_uri": "https://localhost:8080/",
          "height": 52
        },
        "outputId": "d2a4dd9b-6ef1-40d6-bccb-5411625e12fb"
      },
      "source": [
        "print( 'r ', rep_id.mean() )\n",
        "print( 'd ', dem_id.mean() )"
      ],
      "execution_count": 37,
      "outputs": [
        {
          "output_type": "stream",
          "text": [
            "r  0.18902439024390244\n",
            "d  0.6046511627906976\n"
          ],
          "name": "stdout"
        }
      ]
    },
    {
      "cell_type": "markdown",
      "metadata": {
        "id": "MpN6E3XIiPlP",
        "colab_type": "text"
      },
      "source": [
        "RIP. Kinda figured, but at least had some hope. The mean clearly shows that reps only have a supporting population of 18.9% whereas dems have 60.46%\n",
        "\n",
        "The pvalue of 2.41955 is also pretty telling.\n",
        "\n",
        "While I aimed to show an equal amount of support, it's pretty clear that the null hypothesis (that being equal support) has been rejected by this data."
      ]
    }
  ]
}