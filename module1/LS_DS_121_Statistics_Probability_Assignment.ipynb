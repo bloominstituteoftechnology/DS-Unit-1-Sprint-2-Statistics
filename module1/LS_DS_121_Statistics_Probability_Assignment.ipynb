{
  "nbformat": 4,
  "nbformat_minor": 0,
  "metadata": {
    "kernelspec": {
      "display_name": "Python 3",
      "language": "python",
      "name": "python3"
    },
    "language_info": {
      "codemirror_mode": {
        "name": "ipython",
        "version": 3
      },
      "file_extension": ".py",
      "mimetype": "text/x-python",
      "name": "python",
      "nbconvert_exporter": "python",
      "pygments_lexer": "ipython3",
      "version": "3.7.3"
    },
    "colab": {
      "name": "Ilmo Koo LS_DS_121_Statistics_Probability_Assignment.ipynb",
      "provenance": [],
      "collapsed_sections": [],
      "include_colab_link": true
    }
  },
  "cells": [
    {
      "cell_type": "markdown",
      "metadata": {
        "id": "view-in-github",
        "colab_type": "text"
      },
      "source": [
        "<a href=\"https://colab.research.google.com/github/johnnykoo84/DS-Unit-1-Sprint-2-Statistics/blob/master/module1/LS_DS_121_Statistics_Probability_Assignment.ipynb\" target=\"_parent\"><img src=\"https://colab.research.google.com/assets/colab-badge.svg\" alt=\"Open In Colab\"/></a>"
      ]
    },
    {
      "cell_type": "markdown",
      "metadata": {
        "id": "Sa5KWMO1ngPN",
        "colab_type": "text"
      },
      "source": [
        "<img align=\"left\" src=\"https://lever-client-logos.s3.amazonaws.com/864372b1-534c-480e-acd5-9711f850815c-1524247202159.png\" width=200>\n",
        "<br></br>\n",
        "<br></br>\n",
        "\n",
        "## *Data Science Unit 1 Sprint 2 Assignment 1*\n",
        "\n",
        "# Apply the t-test to real data\n",
        "\n",
        "Your assignment is to determine which issues have \"statistically significant\" differences between political parties in this [1980s congressional voting data](https://archive.ics.uci.edu/ml/datasets/Congressional+Voting+Records). The data consists of 435 instances (one for each congressperson), a class (democrat or republican), and 16 binary attributes (yes or no for voting for or against certain issues). Be aware - there are missing values!\n",
        "\n",
        "Your goals:\n",
        "\n",
        "1. Load and clean the data (or determine the best method to drop observations when running tests)\n",
        "2. Using hypothesis testing, find an issue that democrats support more than republicans with p < 0.01\n",
        "3. Using hypothesis testing, find an issue that republicans support more than democrats with p < 0.01\n",
        "4. Using hypothesis testing, find an issue where the difference between republicans and democrats has p > 0.1 (i.e. there may not be much of a difference)\n",
        "\n",
        "Note that this data will involve *2 sample* t-tests, because you're comparing averages across two groups (republicans and democrats) rather than a single group against a null hypothesis.\n",
        "\n",
        "Stretch goals:\n",
        "\n",
        "1. Refactor your code into functions so it's easy to rerun with arbitrary variables\n",
        "2. Apply hypothesis testing to your personal project data (for the purposes of this notebook you can type a summary of the hypothesis you formed and tested)"
      ]
    },
    {
      "cell_type": "markdown",
      "metadata": {
        "id": "RoUKtvrnjB2Z",
        "colab_type": "text"
      },
      "source": [
        "## 1. Load and clean the data"
      ]
    },
    {
      "cell_type": "code",
      "metadata": {
        "id": "ZKwspo2CngPP",
        "colab_type": "code",
        "colab": {}
      },
      "source": [
        "### YOUR CODE STARTS HERE"
      ],
      "execution_count": 0,
      "outputs": []
    },
    {
      "cell_type": "code",
      "metadata": {
        "id": "jtqaL-hobBNv",
        "colab_type": "code",
        "colab": {}
      },
      "source": [
        "# imports\n",
        "import pandas as pd\n",
        "from scipy.stats import ttest_ind"
      ],
      "execution_count": 0,
      "outputs": []
    },
    {
      "cell_type": "code",
      "metadata": {
        "id": "5nTU-zKSbBRQ",
        "colab_type": "code",
        "outputId": "12722b8d-087c-4438-decf-8e7afba028f7",
        "colab": {
          "base_uri": "https://localhost:8080/",
          "height": 202
        }
      },
      "source": [
        "!wget https://archive.ics.uci.edu/ml/machine-learning-databases/voting-records/house-votes-84.data"
      ],
      "execution_count": 3,
      "outputs": [
        {
          "output_type": "stream",
          "text": [
            "--2020-01-30 12:02:53--  https://archive.ics.uci.edu/ml/machine-learning-databases/voting-records/house-votes-84.data\n",
            "Resolving archive.ics.uci.edu (archive.ics.uci.edu)... 128.195.10.252\n",
            "Connecting to archive.ics.uci.edu (archive.ics.uci.edu)|128.195.10.252|:443... connected.\n",
            "HTTP request sent, awaiting response... 200 OK\n",
            "Length: 18171 (18K) [application/x-httpd-php]\n",
            "Saving to: ‘house-votes-84.data’\n",
            "\n",
            "\rhouse-votes-84.data   0%[                    ]       0  --.-KB/s               \rhouse-votes-84.data 100%[===================>]  17.75K  --.-KB/s    in 0.1s    \n",
            "\n",
            "2020-01-30 12:02:54 (130 KB/s) - ‘house-votes-84.data’ saved [18171/18171]\n",
            "\n"
          ],
          "name": "stdout"
        }
      ]
    },
    {
      "cell_type": "code",
      "metadata": {
        "id": "VfMbW8rybBUa",
        "colab_type": "code",
        "colab": {}
      },
      "source": [
        "column_headers = ['party','handicapped-infants','water-project',\n",
        "                          'budget','physician-fee-freeze', 'el-salvador-aid',\n",
        "                          'religious-groups','anti-satellite-ban',\n",
        "                          'aid-to-contras','mx-missile','immigration',\n",
        "                          'synfuels', 'education', 'right-to-sue','crime','duty-free',\n",
        "                          'south-africa']"
      ],
      "execution_count": 0,
      "outputs": []
    },
    {
      "cell_type": "code",
      "metadata": {
        "id": "a9ucdKFNbBXZ",
        "colab_type": "code",
        "colab": {}
      },
      "source": [
        "df = pd.read_csv('house-votes-84.data',\n",
        "                 header=None,\n",
        "                 names=column_headers,\n",
        "                 na_values='?')"
      ],
      "execution_count": 0,
      "outputs": []
    },
    {
      "cell_type": "code",
      "metadata": {
        "id": "8uxkdqlMbBaR",
        "colab_type": "code",
        "outputId": "2038715b-37a0-4179-ea8b-6725842d875e",
        "colab": {
          "base_uri": "https://localhost:8080/",
          "height": 249
        }
      },
      "source": [
        "df.head()"
      ],
      "execution_count": 6,
      "outputs": [
        {
          "output_type": "execute_result",
          "data": {
            "text/html": [
              "<div>\n",
              "<style scoped>\n",
              "    .dataframe tbody tr th:only-of-type {\n",
              "        vertical-align: middle;\n",
              "    }\n",
              "\n",
              "    .dataframe tbody tr th {\n",
              "        vertical-align: top;\n",
              "    }\n",
              "\n",
              "    .dataframe thead th {\n",
              "        text-align: right;\n",
              "    }\n",
              "</style>\n",
              "<table border=\"1\" class=\"dataframe\">\n",
              "  <thead>\n",
              "    <tr style=\"text-align: right;\">\n",
              "      <th></th>\n",
              "      <th>party</th>\n",
              "      <th>handicapped-infants</th>\n",
              "      <th>water-project</th>\n",
              "      <th>budget</th>\n",
              "      <th>physician-fee-freeze</th>\n",
              "      <th>el-salvador-aid</th>\n",
              "      <th>religious-groups</th>\n",
              "      <th>anti-satellite-ban</th>\n",
              "      <th>aid-to-contras</th>\n",
              "      <th>mx-missile</th>\n",
              "      <th>immigration</th>\n",
              "      <th>synfuels</th>\n",
              "      <th>education</th>\n",
              "      <th>right-to-sue</th>\n",
              "      <th>crime</th>\n",
              "      <th>duty-free</th>\n",
              "      <th>south-africa</th>\n",
              "    </tr>\n",
              "  </thead>\n",
              "  <tbody>\n",
              "    <tr>\n",
              "      <th>0</th>\n",
              "      <td>republican</td>\n",
              "      <td>n</td>\n",
              "      <td>y</td>\n",
              "      <td>n</td>\n",
              "      <td>y</td>\n",
              "      <td>y</td>\n",
              "      <td>y</td>\n",
              "      <td>n</td>\n",
              "      <td>n</td>\n",
              "      <td>n</td>\n",
              "      <td>y</td>\n",
              "      <td>NaN</td>\n",
              "      <td>y</td>\n",
              "      <td>y</td>\n",
              "      <td>y</td>\n",
              "      <td>n</td>\n",
              "      <td>y</td>\n",
              "    </tr>\n",
              "    <tr>\n",
              "      <th>1</th>\n",
              "      <td>republican</td>\n",
              "      <td>n</td>\n",
              "      <td>y</td>\n",
              "      <td>n</td>\n",
              "      <td>y</td>\n",
              "      <td>y</td>\n",
              "      <td>y</td>\n",
              "      <td>n</td>\n",
              "      <td>n</td>\n",
              "      <td>n</td>\n",
              "      <td>n</td>\n",
              "      <td>n</td>\n",
              "      <td>y</td>\n",
              "      <td>y</td>\n",
              "      <td>y</td>\n",
              "      <td>n</td>\n",
              "      <td>NaN</td>\n",
              "    </tr>\n",
              "    <tr>\n",
              "      <th>2</th>\n",
              "      <td>democrat</td>\n",
              "      <td>NaN</td>\n",
              "      <td>y</td>\n",
              "      <td>y</td>\n",
              "      <td>NaN</td>\n",
              "      <td>y</td>\n",
              "      <td>y</td>\n",
              "      <td>n</td>\n",
              "      <td>n</td>\n",
              "      <td>n</td>\n",
              "      <td>n</td>\n",
              "      <td>y</td>\n",
              "      <td>n</td>\n",
              "      <td>y</td>\n",
              "      <td>y</td>\n",
              "      <td>n</td>\n",
              "      <td>n</td>\n",
              "    </tr>\n",
              "    <tr>\n",
              "      <th>3</th>\n",
              "      <td>democrat</td>\n",
              "      <td>n</td>\n",
              "      <td>y</td>\n",
              "      <td>y</td>\n",
              "      <td>n</td>\n",
              "      <td>NaN</td>\n",
              "      <td>y</td>\n",
              "      <td>n</td>\n",
              "      <td>n</td>\n",
              "      <td>n</td>\n",
              "      <td>n</td>\n",
              "      <td>y</td>\n",
              "      <td>n</td>\n",
              "      <td>y</td>\n",
              "      <td>n</td>\n",
              "      <td>n</td>\n",
              "      <td>y</td>\n",
              "    </tr>\n",
              "    <tr>\n",
              "      <th>4</th>\n",
              "      <td>democrat</td>\n",
              "      <td>y</td>\n",
              "      <td>y</td>\n",
              "      <td>y</td>\n",
              "      <td>n</td>\n",
              "      <td>y</td>\n",
              "      <td>y</td>\n",
              "      <td>n</td>\n",
              "      <td>n</td>\n",
              "      <td>n</td>\n",
              "      <td>n</td>\n",
              "      <td>y</td>\n",
              "      <td>NaN</td>\n",
              "      <td>y</td>\n",
              "      <td>y</td>\n",
              "      <td>y</td>\n",
              "      <td>y</td>\n",
              "    </tr>\n",
              "  </tbody>\n",
              "</table>\n",
              "</div>"
            ],
            "text/plain": [
              "        party handicapped-infants water-project  ... crime duty-free south-africa\n",
              "0  republican                   n             y  ...     y         n            y\n",
              "1  republican                   n             y  ...     y         n          NaN\n",
              "2    democrat                 NaN             y  ...     y         n            n\n",
              "3    democrat                   n             y  ...     n         n            y\n",
              "4    democrat                   y             y  ...     y         y            y\n",
              "\n",
              "[5 rows x 17 columns]"
            ]
          },
          "metadata": {
            "tags": []
          },
          "execution_count": 6
        }
      ]
    },
    {
      "cell_type": "code",
      "metadata": {
        "id": "qSyMFpCLbBdC",
        "colab_type": "code",
        "outputId": "79ac504d-6a45-40a2-c43c-18d5d338b551",
        "colab": {
          "base_uri": "https://localhost:8080/",
          "height": 34
        }
      },
      "source": [
        "df.shape"
      ],
      "execution_count": 7,
      "outputs": [
        {
          "output_type": "execute_result",
          "data": {
            "text/plain": [
              "(435, 17)"
            ]
          },
          "metadata": {
            "tags": []
          },
          "execution_count": 7
        }
      ]
    },
    {
      "cell_type": "code",
      "metadata": {
        "id": "ZiMrNsgPbBgX",
        "colab_type": "code",
        "outputId": "b4ef1b21-1fda-4f7b-d13e-8514049ab881",
        "colab": {
          "base_uri": "https://localhost:8080/",
          "height": 249
        }
      },
      "source": [
        "# recode votes as numeric\n",
        "df = df.replace({'y': 1, 'n': 0})\n",
        "df.head()"
      ],
      "execution_count": 8,
      "outputs": [
        {
          "output_type": "execute_result",
          "data": {
            "text/html": [
              "<div>\n",
              "<style scoped>\n",
              "    .dataframe tbody tr th:only-of-type {\n",
              "        vertical-align: middle;\n",
              "    }\n",
              "\n",
              "    .dataframe tbody tr th {\n",
              "        vertical-align: top;\n",
              "    }\n",
              "\n",
              "    .dataframe thead th {\n",
              "        text-align: right;\n",
              "    }\n",
              "</style>\n",
              "<table border=\"1\" class=\"dataframe\">\n",
              "  <thead>\n",
              "    <tr style=\"text-align: right;\">\n",
              "      <th></th>\n",
              "      <th>party</th>\n",
              "      <th>handicapped-infants</th>\n",
              "      <th>water-project</th>\n",
              "      <th>budget</th>\n",
              "      <th>physician-fee-freeze</th>\n",
              "      <th>el-salvador-aid</th>\n",
              "      <th>religious-groups</th>\n",
              "      <th>anti-satellite-ban</th>\n",
              "      <th>aid-to-contras</th>\n",
              "      <th>mx-missile</th>\n",
              "      <th>immigration</th>\n",
              "      <th>synfuels</th>\n",
              "      <th>education</th>\n",
              "      <th>right-to-sue</th>\n",
              "      <th>crime</th>\n",
              "      <th>duty-free</th>\n",
              "      <th>south-africa</th>\n",
              "    </tr>\n",
              "  </thead>\n",
              "  <tbody>\n",
              "    <tr>\n",
              "      <th>0</th>\n",
              "      <td>republican</td>\n",
              "      <td>0.0</td>\n",
              "      <td>1.0</td>\n",
              "      <td>0.0</td>\n",
              "      <td>1.0</td>\n",
              "      <td>1.0</td>\n",
              "      <td>1.0</td>\n",
              "      <td>0.0</td>\n",
              "      <td>0.0</td>\n",
              "      <td>0.0</td>\n",
              "      <td>1.0</td>\n",
              "      <td>NaN</td>\n",
              "      <td>1.0</td>\n",
              "      <td>1.0</td>\n",
              "      <td>1.0</td>\n",
              "      <td>0.0</td>\n",
              "      <td>1.0</td>\n",
              "    </tr>\n",
              "    <tr>\n",
              "      <th>1</th>\n",
              "      <td>republican</td>\n",
              "      <td>0.0</td>\n",
              "      <td>1.0</td>\n",
              "      <td>0.0</td>\n",
              "      <td>1.0</td>\n",
              "      <td>1.0</td>\n",
              "      <td>1.0</td>\n",
              "      <td>0.0</td>\n",
              "      <td>0.0</td>\n",
              "      <td>0.0</td>\n",
              "      <td>0.0</td>\n",
              "      <td>0.0</td>\n",
              "      <td>1.0</td>\n",
              "      <td>1.0</td>\n",
              "      <td>1.0</td>\n",
              "      <td>0.0</td>\n",
              "      <td>NaN</td>\n",
              "    </tr>\n",
              "    <tr>\n",
              "      <th>2</th>\n",
              "      <td>democrat</td>\n",
              "      <td>NaN</td>\n",
              "      <td>1.0</td>\n",
              "      <td>1.0</td>\n",
              "      <td>NaN</td>\n",
              "      <td>1.0</td>\n",
              "      <td>1.0</td>\n",
              "      <td>0.0</td>\n",
              "      <td>0.0</td>\n",
              "      <td>0.0</td>\n",
              "      <td>0.0</td>\n",
              "      <td>1.0</td>\n",
              "      <td>0.0</td>\n",
              "      <td>1.0</td>\n",
              "      <td>1.0</td>\n",
              "      <td>0.0</td>\n",
              "      <td>0.0</td>\n",
              "    </tr>\n",
              "    <tr>\n",
              "      <th>3</th>\n",
              "      <td>democrat</td>\n",
              "      <td>0.0</td>\n",
              "      <td>1.0</td>\n",
              "      <td>1.0</td>\n",
              "      <td>0.0</td>\n",
              "      <td>NaN</td>\n",
              "      <td>1.0</td>\n",
              "      <td>0.0</td>\n",
              "      <td>0.0</td>\n",
              "      <td>0.0</td>\n",
              "      <td>0.0</td>\n",
              "      <td>1.0</td>\n",
              "      <td>0.0</td>\n",
              "      <td>1.0</td>\n",
              "      <td>0.0</td>\n",
              "      <td>0.0</td>\n",
              "      <td>1.0</td>\n",
              "    </tr>\n",
              "    <tr>\n",
              "      <th>4</th>\n",
              "      <td>democrat</td>\n",
              "      <td>1.0</td>\n",
              "      <td>1.0</td>\n",
              "      <td>1.0</td>\n",
              "      <td>0.0</td>\n",
              "      <td>1.0</td>\n",
              "      <td>1.0</td>\n",
              "      <td>0.0</td>\n",
              "      <td>0.0</td>\n",
              "      <td>0.0</td>\n",
              "      <td>0.0</td>\n",
              "      <td>1.0</td>\n",
              "      <td>NaN</td>\n",
              "      <td>1.0</td>\n",
              "      <td>1.0</td>\n",
              "      <td>1.0</td>\n",
              "      <td>1.0</td>\n",
              "    </tr>\n",
              "  </tbody>\n",
              "</table>\n",
              "</div>"
            ],
            "text/plain": [
              "        party  handicapped-infants  ...  duty-free  south-africa\n",
              "0  republican                  0.0  ...        0.0           1.0\n",
              "1  republican                  0.0  ...        0.0           NaN\n",
              "2    democrat                  NaN  ...        0.0           0.0\n",
              "3    democrat                  0.0  ...        0.0           1.0\n",
              "4    democrat                  1.0  ...        1.0           1.0\n",
              "\n",
              "[5 rows x 17 columns]"
            ]
          },
          "metadata": {
            "tags": []
          },
          "execution_count": 8
        }
      ]
    },
    {
      "cell_type": "code",
      "metadata": {
        "id": "G11vFTt8bBjL",
        "colab_type": "code",
        "outputId": "2e060126-512b-4904-8f13-96144a1fa911",
        "colab": {
          "base_uri": "https://localhost:8080/",
          "height": 249
        }
      },
      "source": [
        "# how did Republican vote?\n",
        "rep = df[df['party'] == 'republican']\n",
        "rep.head()"
      ],
      "execution_count": 9,
      "outputs": [
        {
          "output_type": "execute_result",
          "data": {
            "text/html": [
              "<div>\n",
              "<style scoped>\n",
              "    .dataframe tbody tr th:only-of-type {\n",
              "        vertical-align: middle;\n",
              "    }\n",
              "\n",
              "    .dataframe tbody tr th {\n",
              "        vertical-align: top;\n",
              "    }\n",
              "\n",
              "    .dataframe thead th {\n",
              "        text-align: right;\n",
              "    }\n",
              "</style>\n",
              "<table border=\"1\" class=\"dataframe\">\n",
              "  <thead>\n",
              "    <tr style=\"text-align: right;\">\n",
              "      <th></th>\n",
              "      <th>party</th>\n",
              "      <th>handicapped-infants</th>\n",
              "      <th>water-project</th>\n",
              "      <th>budget</th>\n",
              "      <th>physician-fee-freeze</th>\n",
              "      <th>el-salvador-aid</th>\n",
              "      <th>religious-groups</th>\n",
              "      <th>anti-satellite-ban</th>\n",
              "      <th>aid-to-contras</th>\n",
              "      <th>mx-missile</th>\n",
              "      <th>immigration</th>\n",
              "      <th>synfuels</th>\n",
              "      <th>education</th>\n",
              "      <th>right-to-sue</th>\n",
              "      <th>crime</th>\n",
              "      <th>duty-free</th>\n",
              "      <th>south-africa</th>\n",
              "    </tr>\n",
              "  </thead>\n",
              "  <tbody>\n",
              "    <tr>\n",
              "      <th>0</th>\n",
              "      <td>republican</td>\n",
              "      <td>0.0</td>\n",
              "      <td>1.0</td>\n",
              "      <td>0.0</td>\n",
              "      <td>1.0</td>\n",
              "      <td>1.0</td>\n",
              "      <td>1.0</td>\n",
              "      <td>0.0</td>\n",
              "      <td>0.0</td>\n",
              "      <td>0.0</td>\n",
              "      <td>1.0</td>\n",
              "      <td>NaN</td>\n",
              "      <td>1.0</td>\n",
              "      <td>1.0</td>\n",
              "      <td>1.0</td>\n",
              "      <td>0.0</td>\n",
              "      <td>1.0</td>\n",
              "    </tr>\n",
              "    <tr>\n",
              "      <th>1</th>\n",
              "      <td>republican</td>\n",
              "      <td>0.0</td>\n",
              "      <td>1.0</td>\n",
              "      <td>0.0</td>\n",
              "      <td>1.0</td>\n",
              "      <td>1.0</td>\n",
              "      <td>1.0</td>\n",
              "      <td>0.0</td>\n",
              "      <td>0.0</td>\n",
              "      <td>0.0</td>\n",
              "      <td>0.0</td>\n",
              "      <td>0.0</td>\n",
              "      <td>1.0</td>\n",
              "      <td>1.0</td>\n",
              "      <td>1.0</td>\n",
              "      <td>0.0</td>\n",
              "      <td>NaN</td>\n",
              "    </tr>\n",
              "    <tr>\n",
              "      <th>7</th>\n",
              "      <td>republican</td>\n",
              "      <td>0.0</td>\n",
              "      <td>1.0</td>\n",
              "      <td>0.0</td>\n",
              "      <td>1.0</td>\n",
              "      <td>1.0</td>\n",
              "      <td>1.0</td>\n",
              "      <td>0.0</td>\n",
              "      <td>0.0</td>\n",
              "      <td>0.0</td>\n",
              "      <td>0.0</td>\n",
              "      <td>0.0</td>\n",
              "      <td>0.0</td>\n",
              "      <td>1.0</td>\n",
              "      <td>1.0</td>\n",
              "      <td>NaN</td>\n",
              "      <td>1.0</td>\n",
              "    </tr>\n",
              "    <tr>\n",
              "      <th>8</th>\n",
              "      <td>republican</td>\n",
              "      <td>0.0</td>\n",
              "      <td>1.0</td>\n",
              "      <td>0.0</td>\n",
              "      <td>1.0</td>\n",
              "      <td>1.0</td>\n",
              "      <td>1.0</td>\n",
              "      <td>0.0</td>\n",
              "      <td>0.0</td>\n",
              "      <td>0.0</td>\n",
              "      <td>0.0</td>\n",
              "      <td>0.0</td>\n",
              "      <td>1.0</td>\n",
              "      <td>1.0</td>\n",
              "      <td>1.0</td>\n",
              "      <td>0.0</td>\n",
              "      <td>1.0</td>\n",
              "    </tr>\n",
              "    <tr>\n",
              "      <th>10</th>\n",
              "      <td>republican</td>\n",
              "      <td>0.0</td>\n",
              "      <td>1.0</td>\n",
              "      <td>0.0</td>\n",
              "      <td>1.0</td>\n",
              "      <td>1.0</td>\n",
              "      <td>0.0</td>\n",
              "      <td>0.0</td>\n",
              "      <td>0.0</td>\n",
              "      <td>0.0</td>\n",
              "      <td>0.0</td>\n",
              "      <td>NaN</td>\n",
              "      <td>NaN</td>\n",
              "      <td>1.0</td>\n",
              "      <td>1.0</td>\n",
              "      <td>0.0</td>\n",
              "      <td>0.0</td>\n",
              "    </tr>\n",
              "  </tbody>\n",
              "</table>\n",
              "</div>"
            ],
            "text/plain": [
              "         party  handicapped-infants  ...  duty-free  south-africa\n",
              "0   republican                  0.0  ...        0.0           1.0\n",
              "1   republican                  0.0  ...        0.0           NaN\n",
              "7   republican                  0.0  ...        NaN           1.0\n",
              "8   republican                  0.0  ...        0.0           1.0\n",
              "10  republican                  0.0  ...        0.0           0.0\n",
              "\n",
              "[5 rows x 17 columns]"
            ]
          },
          "metadata": {
            "tags": []
          },
          "execution_count": 9
        }
      ]
    },
    {
      "cell_type": "code",
      "metadata": {
        "id": "tamKJyPZbBmL",
        "colab_type": "code",
        "outputId": "75cb1c64-6a7c-432d-fd32-cb4e6c75c7c4",
        "colab": {
          "base_uri": "https://localhost:8080/",
          "height": 249
        }
      },
      "source": [
        "# how did Democrats vote?\n",
        "dem = df[df['party'] == 'democrat']\n",
        "dem.head()"
      ],
      "execution_count": 10,
      "outputs": [
        {
          "output_type": "execute_result",
          "data": {
            "text/html": [
              "<div>\n",
              "<style scoped>\n",
              "    .dataframe tbody tr th:only-of-type {\n",
              "        vertical-align: middle;\n",
              "    }\n",
              "\n",
              "    .dataframe tbody tr th {\n",
              "        vertical-align: top;\n",
              "    }\n",
              "\n",
              "    .dataframe thead th {\n",
              "        text-align: right;\n",
              "    }\n",
              "</style>\n",
              "<table border=\"1\" class=\"dataframe\">\n",
              "  <thead>\n",
              "    <tr style=\"text-align: right;\">\n",
              "      <th></th>\n",
              "      <th>party</th>\n",
              "      <th>handicapped-infants</th>\n",
              "      <th>water-project</th>\n",
              "      <th>budget</th>\n",
              "      <th>physician-fee-freeze</th>\n",
              "      <th>el-salvador-aid</th>\n",
              "      <th>religious-groups</th>\n",
              "      <th>anti-satellite-ban</th>\n",
              "      <th>aid-to-contras</th>\n",
              "      <th>mx-missile</th>\n",
              "      <th>immigration</th>\n",
              "      <th>synfuels</th>\n",
              "      <th>education</th>\n",
              "      <th>right-to-sue</th>\n",
              "      <th>crime</th>\n",
              "      <th>duty-free</th>\n",
              "      <th>south-africa</th>\n",
              "    </tr>\n",
              "  </thead>\n",
              "  <tbody>\n",
              "    <tr>\n",
              "      <th>2</th>\n",
              "      <td>democrat</td>\n",
              "      <td>NaN</td>\n",
              "      <td>1.0</td>\n",
              "      <td>1.0</td>\n",
              "      <td>NaN</td>\n",
              "      <td>1.0</td>\n",
              "      <td>1.0</td>\n",
              "      <td>0.0</td>\n",
              "      <td>0.0</td>\n",
              "      <td>0.0</td>\n",
              "      <td>0.0</td>\n",
              "      <td>1.0</td>\n",
              "      <td>0.0</td>\n",
              "      <td>1.0</td>\n",
              "      <td>1.0</td>\n",
              "      <td>0.0</td>\n",
              "      <td>0.0</td>\n",
              "    </tr>\n",
              "    <tr>\n",
              "      <th>3</th>\n",
              "      <td>democrat</td>\n",
              "      <td>0.0</td>\n",
              "      <td>1.0</td>\n",
              "      <td>1.0</td>\n",
              "      <td>0.0</td>\n",
              "      <td>NaN</td>\n",
              "      <td>1.0</td>\n",
              "      <td>0.0</td>\n",
              "      <td>0.0</td>\n",
              "      <td>0.0</td>\n",
              "      <td>0.0</td>\n",
              "      <td>1.0</td>\n",
              "      <td>0.0</td>\n",
              "      <td>1.0</td>\n",
              "      <td>0.0</td>\n",
              "      <td>0.0</td>\n",
              "      <td>1.0</td>\n",
              "    </tr>\n",
              "    <tr>\n",
              "      <th>4</th>\n",
              "      <td>democrat</td>\n",
              "      <td>1.0</td>\n",
              "      <td>1.0</td>\n",
              "      <td>1.0</td>\n",
              "      <td>0.0</td>\n",
              "      <td>1.0</td>\n",
              "      <td>1.0</td>\n",
              "      <td>0.0</td>\n",
              "      <td>0.0</td>\n",
              "      <td>0.0</td>\n",
              "      <td>0.0</td>\n",
              "      <td>1.0</td>\n",
              "      <td>NaN</td>\n",
              "      <td>1.0</td>\n",
              "      <td>1.0</td>\n",
              "      <td>1.0</td>\n",
              "      <td>1.0</td>\n",
              "    </tr>\n",
              "    <tr>\n",
              "      <th>5</th>\n",
              "      <td>democrat</td>\n",
              "      <td>0.0</td>\n",
              "      <td>1.0</td>\n",
              "      <td>1.0</td>\n",
              "      <td>0.0</td>\n",
              "      <td>1.0</td>\n",
              "      <td>1.0</td>\n",
              "      <td>0.0</td>\n",
              "      <td>0.0</td>\n",
              "      <td>0.0</td>\n",
              "      <td>0.0</td>\n",
              "      <td>0.0</td>\n",
              "      <td>0.0</td>\n",
              "      <td>1.0</td>\n",
              "      <td>1.0</td>\n",
              "      <td>1.0</td>\n",
              "      <td>1.0</td>\n",
              "    </tr>\n",
              "    <tr>\n",
              "      <th>6</th>\n",
              "      <td>democrat</td>\n",
              "      <td>0.0</td>\n",
              "      <td>1.0</td>\n",
              "      <td>0.0</td>\n",
              "      <td>1.0</td>\n",
              "      <td>1.0</td>\n",
              "      <td>1.0</td>\n",
              "      <td>0.0</td>\n",
              "      <td>0.0</td>\n",
              "      <td>0.0</td>\n",
              "      <td>0.0</td>\n",
              "      <td>0.0</td>\n",
              "      <td>0.0</td>\n",
              "      <td>NaN</td>\n",
              "      <td>1.0</td>\n",
              "      <td>1.0</td>\n",
              "      <td>1.0</td>\n",
              "    </tr>\n",
              "  </tbody>\n",
              "</table>\n",
              "</div>"
            ],
            "text/plain": [
              "      party  handicapped-infants  water-project  ...  crime  duty-free  south-africa\n",
              "2  democrat                  NaN            1.0  ...    1.0        0.0           0.0\n",
              "3  democrat                  0.0            1.0  ...    0.0        0.0           1.0\n",
              "4  democrat                  1.0            1.0  ...    1.0        1.0           1.0\n",
              "5  democrat                  0.0            1.0  ...    1.0        1.0           1.0\n",
              "6  democrat                  0.0            1.0  ...    1.0        1.0           1.0\n",
              "\n",
              "[5 rows x 17 columns]"
            ]
          },
          "metadata": {
            "tags": []
          },
          "execution_count": 10
        }
      ]
    },
    {
      "cell_type": "code",
      "metadata": {
        "id": "vpPM8IRxbCGA",
        "colab_type": "code",
        "colab": {}
      },
      "source": [
        ""
      ],
      "execution_count": 0,
      "outputs": []
    },
    {
      "cell_type": "code",
      "metadata": {
        "id": "FaOq5k8TbCI_",
        "colab_type": "code",
        "colab": {}
      },
      "source": [
        ""
      ],
      "execution_count": 0,
      "outputs": []
    },
    {
      "cell_type": "markdown",
      "metadata": {
        "id": "J9WzZ7fnjGIn",
        "colab_type": "text"
      },
      "source": [
        ""
      ]
    },
    {
      "cell_type": "code",
      "metadata": {
        "id": "TU1KqBgRmZzl",
        "colab_type": "code",
        "colab": {}
      },
      "source": [
        "import numpy as np"
      ],
      "execution_count": 0,
      "outputs": []
    },
    {
      "cell_type": "code",
      "metadata": {
        "id": "mWCQFT9-kb0O",
        "colab_type": "code",
        "outputId": "743db734-2dbc-4aed-f64c-1afe9966d6d6",
        "colab": {
          "base_uri": "https://localhost:8080/",
          "height": 34
        }
      },
      "source": [
        "# the percentage of republicans who voted \"yes\" (1) \n",
        "# on the handicapped-infants bill\n",
        "rep['handicapped-infants'].sum()/len(rep)\n",
        "\n",
        "\n",
        "# len() is counting NaN values too!"
      ],
      "execution_count": 12,
      "outputs": [
        {
          "output_type": "execute_result",
          "data": {
            "text/plain": [
              "0.18452380952380953"
            ]
          },
          "metadata": {
            "tags": []
          },
          "execution_count": 12
        }
      ]
    },
    {
      "cell_type": "code",
      "metadata": {
        "id": "0wjJ8MiXmSkS",
        "colab_type": "code",
        "outputId": "4298d275-e93e-4717-f0d0-c3445932a40f",
        "colab": {
          "base_uri": "https://localhost:8080/",
          "height": 218
        }
      },
      "source": [
        "# Remove NaN values from this column\n",
        "col = rep['handicapped-infants']\n",
        "np.isnan(col)\n",
        "hi_no_nans = col[~np.isnan(col)]\n",
        "# The same column as before, but I've dropped the NaN values\n",
        "hi_no_nans"
      ],
      "execution_count": 13,
      "outputs": [
        {
          "output_type": "execute_result",
          "data": {
            "text/plain": [
              "0      0.0\n",
              "1      0.0\n",
              "7      0.0\n",
              "8      0.0\n",
              "10     0.0\n",
              "      ... \n",
              "427    0.0\n",
              "430    0.0\n",
              "432    0.0\n",
              "433    0.0\n",
              "434    0.0\n",
              "Name: handicapped-infants, Length: 165, dtype: float64"
            ]
          },
          "metadata": {
            "tags": []
          },
          "execution_count": 13
        }
      ]
    },
    {
      "cell_type": "code",
      "metadata": {
        "id": "sk3yFrRImSm-",
        "colab_type": "code",
        "outputId": "1130cbdc-cde4-4133-f53d-862f146b9362",
        "colab": {
          "base_uri": "https://localhost:8080/",
          "height": 34
        }
      },
      "source": [
        "hi_no_nans.sum()/len(hi_no_nans)"
      ],
      "execution_count": 14,
      "outputs": [
        {
          "output_type": "execute_result",
          "data": {
            "text/plain": [
              "0.18787878787878787"
            ]
          },
          "metadata": {
            "tags": []
          },
          "execution_count": 14
        }
      ]
    },
    {
      "cell_type": "code",
      "metadata": {
        "id": "SFZkH2dYmSxk",
        "colab_type": "code",
        "outputId": "226782b0-911d-4d78-9974-51be1f84a944",
        "colab": {
          "base_uri": "https://localhost:8080/",
          "height": 34
        }
      },
      "source": [
        "# Average rate of voting 'yes' on the handicapped-infants\n",
        "rep['handicapped-infants'].mean()"
      ],
      "execution_count": 15,
      "outputs": [
        {
          "output_type": "execute_result",
          "data": {
            "text/plain": [
              "0.18787878787878787"
            ]
          },
          "metadata": {
            "tags": []
          },
          "execution_count": 15
        }
      ]
    },
    {
      "cell_type": "code",
      "metadata": {
        "id": "0uUyrdEWmgmx",
        "colab_type": "code",
        "outputId": "e5369d58-cd33-4a7c-8077-5eefd1c242cf",
        "colab": {
          "base_uri": "https://localhost:8080/",
          "height": 218
        }
      },
      "source": [
        "# let's do the same for Democrats\n",
        "# Remove NaN values from this column\n",
        "col = dem['handicapped-infants']\n",
        "np.isnan(col)\n",
        "hi_no_nans_dem = col[~np.isnan(col)]\n",
        "# The same column as before, but I've dropped the NaN values\n",
        "hi_no_nans_dem"
      ],
      "execution_count": 16,
      "outputs": [
        {
          "output_type": "execute_result",
          "data": {
            "text/plain": [
              "3      0.0\n",
              "4      1.0\n",
              "5      0.0\n",
              "6      0.0\n",
              "9      1.0\n",
              "      ... \n",
              "424    0.0\n",
              "425    0.0\n",
              "426    1.0\n",
              "429    1.0\n",
              "431    0.0\n",
              "Name: handicapped-infants, Length: 258, dtype: float64"
            ]
          },
          "metadata": {
            "tags": []
          },
          "execution_count": 16
        }
      ]
    },
    {
      "cell_type": "code",
      "metadata": {
        "id": "sWgPFQwhmgpv",
        "colab_type": "code",
        "outputId": "12e239e3-34db-4e39-8480-2bb1494e9cd2",
        "colab": {
          "base_uri": "https://localhost:8080/",
          "height": 34
        }
      },
      "source": [
        "hi_no_nans_dem.sum()/len(hi_no_nans_dem)"
      ],
      "execution_count": 17,
      "outputs": [
        {
          "output_type": "execute_result",
          "data": {
            "text/plain": [
              "0.6046511627906976"
            ]
          },
          "metadata": {
            "tags": []
          },
          "execution_count": 17
        }
      ]
    },
    {
      "cell_type": "markdown",
      "metadata": {
        "id": "FoCVCjdScT_K",
        "colab_type": "text"
      },
      "source": [
        "## p values\n",
        "let's find statistics and p values for all column sample data"
      ]
    },
    {
      "cell_type": "code",
      "metadata": {
        "id": "zxYIG13Bn81t",
        "colab_type": "code",
        "colab": {
          "base_uri": "https://localhost:8080/",
          "height": 118
        },
        "outputId": "6ba1ec43-6b3b-4411-df48-61ccb905bd8d"
      },
      "source": [
        "df.columns"
      ],
      "execution_count": 27,
      "outputs": [
        {
          "output_type": "execute_result",
          "data": {
            "text/plain": [
              "Index(['party', 'handicapped-infants', 'water-project', 'budget',\n",
              "       'physician-fee-freeze', 'el-salvador-aid', 'religious-groups',\n",
              "       'anti-satellite-ban', 'aid-to-contras', 'mx-missile', 'immigration',\n",
              "       'synfuels', 'education', 'right-to-sue', 'crime', 'duty-free',\n",
              "       'south-africa'],\n",
              "      dtype='object')"
            ]
          },
          "metadata": {
            "tags": []
          },
          "execution_count": 27
        }
      ]
    },
    {
      "cell_type": "code",
      "metadata": {
        "id": "9Sz1M_Zhn03f",
        "colab_type": "code",
        "outputId": "8b43d6f3-6722-454e-d026-cf534ecc60dc",
        "colab": {
          "base_uri": "https://localhost:8080/",
          "height": 1000
        }
      },
      "source": [
        "# let's see all statistics and p-value for all issues\n",
        "\n",
        "result_handicapped_infants = ttest_ind(rep['handicapped-infants'], dem['handicapped-infants'], nan_policy='omit')\n",
        "mean_rep_handicapped = rep['handicapped-infants'].mean()\n",
        "mean_dem_handicapped = dem['handicapped-infants'].mean()\n",
        "\n",
        "result_water_project = ttest_ind(rep['water-project'], dem['water-project'], nan_policy='omit')\n",
        "mean_rep_water_project = rep['water-project'].mean()\n",
        "mean_dem_water_project = dem['water-project'].mean()\n",
        "\n",
        "result_budget = ttest_ind(rep['budget'], dem['budget'], nan_policy='omit')\n",
        "mean_rep_budget = rep['budget'].mean()\n",
        "mean_dem_budget = dem['budget'].mean()\n",
        "\n",
        "result_physician_fee_freeze = ttest_ind(rep['physician-fee-freeze'], dem['physician-fee-freeze'], nan_policy='omit')\n",
        "mean_rep_physician_fee_freeze = rep['physician-fee-freeze'].mean()\n",
        "mean_dem_physician_fee_freeze = dem['physician-fee-freeze'].mean()\n",
        "\n",
        "result_el_salvador_aid = ttest_ind(rep['el-salvador-aid'], dem['el-salvador-aid'], nan_policy='omit')\n",
        "mean_rep_el_salvador_aid = rep['el-salvador-aid'].mean()\n",
        "mean_dem_el_salvador_aid = dem['el-salvador-aid'].mean()\n",
        "\n",
        "result_religious_groups = ttest_ind(rep['religious-groups'], dem['religious-groups'], nan_policy='omit')\n",
        "mean_rep_religious_groups = rep['religious-groups'].mean()\n",
        "mean_dem_religious_groups = dem['religious-groups'].mean()\n",
        "\n",
        "result_anti_satellite_ban = ttest_ind(rep['anti-satellite-ban'], dem['anti-satellite-ban'], nan_policy='omit')\n",
        "mean_rep_anti_satellite_ban = rep['anti-satellite-ban'].mean()\n",
        "mean_dem_anti_satellite_ban = dem['anti-satellite-ban'].mean()\n",
        "\n",
        "result_aid_to_contras = ttest_ind(rep['aid-to-contras'], dem['aid-to-contras'], nan_policy='omit')\n",
        "mean_rep_aid_to_contras = rep['aid-to-contras'].mean()\n",
        "mean_dem_aid_to_contras = dem['aid-to-contras'].mean()\n",
        "\n",
        "result_mx_missile = ttest_ind(rep['mx-missile'], dem['mx-missile'], nan_policy='omit')\n",
        "mean_rep_mx_missile = rep['mx-missile'].mean()\n",
        "mean_dem_mx_missile = dem['mx-missile'].mean()\n",
        "\n",
        "result_immigration = ttest_ind(rep['immigration'], dem['immigration'], nan_policy='omit')\n",
        "mean_rep_immigration = rep['immigration'].mean()\n",
        "mean_dem_immigration = dem['immigration'].mean()\n",
        "\n",
        "result_synfuels = ttest_ind(rep['synfuels'], dem['synfuels'], nan_policy='omit')\n",
        "mean_rep_synfuels = rep['synfuels'].mean()\n",
        "mean_dem_synfuels = dem['synfuels'].mean()\n",
        "\n",
        "result_education = ttest_ind(rep['education'], dem['education'], nan_policy='omit')\n",
        "mean_rep_education = rep['education'].mean()\n",
        "mean_dem_education = dem['education'].mean()\n",
        "\n",
        "result_right_to_sue = ttest_ind(rep['right-to-sue'], dem['right-to-sue'], nan_policy='omit')\n",
        "mean_rep_right_to_sue = rep['right-to-sue'].mean()\n",
        "mean_dem_right_to_sue = dem['right-to-sue'].mean()\n",
        "\n",
        "result_crime = ttest_ind(rep['crime'], dem['crime'], nan_policy='omit')\n",
        "mean_rep_crime = rep['crime'].mean()\n",
        "mean_dem_crime = dem['crime'].mean()\n",
        "\n",
        "result_duty_free = ttest_ind(rep['duty-free'], dem['duty-free'], nan_policy='omit')\n",
        "mean_rep_duty_free = rep['duty-free'].mean()\n",
        "mean_dem_duty_free = dem['duty-free'].mean()\n",
        "\n",
        "result_south_africa = ttest_ind(rep['south-africa'], dem['south-africa'], nan_policy='omit')\n",
        "mean_rep_south_africa = rep['south-africa'].mean()\n",
        "mean_dem_south_africa = dem['south-africa'].mean()\n",
        "\n",
        "print('rep mean: ', mean_rep_handicapped)\n",
        "print('dem mean: ', mean_dem_handicapped)\n",
        "print('handicapped_infants\\n', result_handicapped_infants)\n",
        "\n",
        "print('rep mean: ', mean_rep_water_project)\n",
        "print('dem mean: ', mean_dem_water_project)\n",
        "print('water_project\\n', result_water_project)\n",
        "\n",
        "print('rep mean: ', mean_rep_budget)\n",
        "print('dem mean: ', mean_dem_budget)\n",
        "print('budget\\n', result_budget)\n",
        "\n",
        "print('rep mean: ', mean_rep_physician_fee_freeze)\n",
        "print('dem mean: ', mean_dem_physician_fee_freeze)\n",
        "print('physician_fee_freeze\\n', result_physician_fee_freeze)\n",
        "\n",
        "print('rep mean: ', mean_rep_el_salvador_aid)\n",
        "print('dem mean: ', mean_dem_el_salvador_aid)\n",
        "print('el_salvador_aid\\n', result_el_salvador_aid)\n",
        "\n",
        "print('rep mean: ', mean_rep_religious_groups)\n",
        "print('dem mean: ', mean_dem_religious_groups)\n",
        "print('religious_groups\\n', result_religious_groups)\n",
        "\n",
        "print('rep mean: ', mean_rep_anti_satellite_ban)\n",
        "print('dem mean: ', mean_dem_anti_satellite_ban)\n",
        "print('anti_satellite_ban\\n', result_anti_satellite_ban)\n",
        "\n",
        "print('rep mean: ', mean_rep_aid_to_contras)\n",
        "print('dem mean: ', mean_dem_aid_to_contras)\n",
        "print('aid_to_contras\\n', result_aid_to_contras)\n",
        "\n",
        "print('rep mean: ', mean_rep_mx_missile)\n",
        "print('dem mean: ', mean_dem_mx_missile)\n",
        "print('mx_missile\\n', result_mx_missile)\n",
        "\n",
        "print('rep mean: ', mean_rep_immigration)\n",
        "print('dem mean: ', mean_dem_immigration)\n",
        "print('immigration\\n', result_immigration)\n",
        "\n",
        "print('rep mean: ', mean_rep_synfuels)\n",
        "print('dem mean: ', mean_dem_synfuels)\n",
        "print('synfuels\\n', result_synfuels)\n",
        "\n",
        "print('rep mean: ', mean_rep_education)\n",
        "print('dem mean: ', mean_dem_education)\n",
        "print('education\\n', result_education)\n",
        "\n",
        "print('rep mean: ', mean_rep_right_to_sue)\n",
        "print('dem mean: ', mean_dem_right_to_sue)\n",
        "print('right_to_sue\\n', result_right_to_sue)\n",
        "\n",
        "print('rep mean: ', mean_rep_crime)\n",
        "print('dem mean: ', mean_dem_crime)\n",
        "print('crime', result_crime)\n",
        "\n",
        "print('rep mean: ', mean_rep_duty_free)\n",
        "print('dem mean: ', mean_dem_duty_free)\n",
        "print('duty_free\\n', result_duty_free)\n",
        "\n",
        "print('rep mean: ', mean_rep_south_africa)\n",
        "print('dem mean: ', mean_dem_south_africa)\n",
        "print('south_africa\\n', result_south_africa)"
      ],
      "execution_count": 38,
      "outputs": [
        {
          "output_type": "stream",
          "text": [
            "rep mean:  0.18787878787878787\n",
            "dem mean:  0.6046511627906976\n",
            "handicapped_infants\n",
            " Ttest_indResult(statistic=-9.205264294809222, pvalue=1.613440327937243e-18)\n",
            "rep mean:  0.5067567567567568\n",
            "dem mean:  0.502092050209205\n",
            "water_project\n",
            " Ttest_indResult(statistic=0.08896538137868286, pvalue=0.9291556823993485)\n",
            "rep mean:  0.13414634146341464\n",
            "dem mean:  0.8884615384615384\n",
            "budget\n",
            " Ttest_indResult(statistic=-23.21277691701378, pvalue=2.0703402795404463e-77)\n",
            "rep mean:  0.9878787878787879\n",
            "dem mean:  0.05405405405405406\n",
            "physician_fee_freeze\n",
            " Ttest_indResult(statistic=49.36708157301406, pvalue=1.994262314074344e-177)\n",
            "rep mean:  0.9515151515151515\n",
            "dem mean:  0.21568627450980393\n",
            "el_salvador_aid\n",
            " Ttest_indResult(statistic=21.13669261173219, pvalue=5.600520111729011e-68)\n",
            "rep mean:  0.8975903614457831\n",
            "dem mean:  0.47674418604651164\n",
            "religious_groups\n",
            " Ttest_indResult(statistic=9.737575825219457, pvalue=2.3936722520597287e-20)\n",
            "rep mean:  0.24074074074074073\n",
            "dem mean:  0.7722007722007722\n",
            "anti_satellite_ban\n",
            " Ttest_indResult(statistic=-12.526187929077842, pvalue=8.521033017443867e-31)\n",
            "rep mean:  0.15286624203821655\n",
            "dem mean:  0.8288973384030418\n",
            "aid_to_contras\n",
            " Ttest_indResult(statistic=-18.052093200819733, pvalue=2.82471841372357e-54)\n",
            "rep mean:  0.11515151515151516\n",
            "dem mean:  0.7580645161290323\n",
            "mx_missile\n",
            " Ttest_indResult(statistic=-16.437503268542994, pvalue=5.03079265310811e-47)\n",
            "rep mean:  0.5575757575757576\n",
            "dem mean:  0.4714828897338403\n",
            "immigration\n",
            " Ttest_indResult(statistic=1.7359117329695164, pvalue=0.08330248490425066)\n",
            "rep mean:  0.1320754716981132\n",
            "dem mean:  0.5058823529411764\n",
            "synfuels\n",
            " Ttest_indResult(statistic=-8.293603989407588, pvalue=1.5759322301054064e-15)\n",
            "rep mean:  0.8709677419354839\n",
            "dem mean:  0.14457831325301204\n",
            "education\n",
            " Ttest_indResult(statistic=20.500685724563073, pvalue=1.8834203990450192e-64)\n",
            "rep mean:  0.8607594936708861\n",
            "dem mean:  0.2896825396825397\n",
            "right_to_sue\n",
            " Ttest_indResult(statistic=13.51064251060933, pvalue=1.2278581709672758e-34)\n",
            "rep mean:  0.9813664596273292\n",
            "dem mean:  0.35019455252918286\n",
            "crime Ttest_indResult(statistic=16.342085656197696, pvalue=9.952342705606092e-47)\n",
            "rep mean:  0.08974358974358974\n",
            "dem mean:  0.6374501992031872\n",
            "duty_free\n",
            " Ttest_indResult(statistic=-12.853146132542978, pvalue=5.997697174347365e-32)\n",
            "rep mean:  0.6575342465753424\n",
            "dem mean:  0.9351351351351351\n",
            "south_africa\n",
            " Ttest_indResult(statistic=-6.849454815841208, pvalue=3.652674361672226e-11)\n"
          ],
          "name": "stdout"
        }
      ]
    },
    {
      "cell_type": "markdown",
      "metadata": {
        "id": "r8vqOZ8NwyOE",
        "colab_type": "text"
      },
      "source": [
        "rep mean:  0.18787878787878787\n",
        "dem mean:  0.6046511627906976\n",
        "handicapped_infants\n",
        " Ttest_indResult(statistic=-9.205264294809222, pvalue=1.613440327937243e-18)\n",
        "\n",
        "rep mean:  0.5067567567567568\n",
        "dem mean:  0.502092050209205\n",
        "water_project\n",
        " Ttest_indResult(statistic=0.08896538137868286, pvalue=0.9291556823993485)\n",
        "\n",
        "rep mean:  0.13414634146341464\n",
        "dem mean:  0.8884615384615384\n",
        "budget\n",
        " Ttest_indResult(statistic=-23.21277691701378, pvalue=2.0703402795404463e-77)\n",
        "\n",
        "rep mean:  0.9878787878787879\n",
        "dem mean:  0.05405405405405406\n",
        "physician_fee_freeze\n",
        " Ttest_indResult(statistic=49.36708157301406, pvalue=1.994262314074344e-177)\n",
        "\n",
        "\n",
        "rep mean:  0.9515151515151515\n",
        "dem mean:  0.21568627450980393\n",
        "el_salvador_aid\n",
        " Ttest_indResult(statistic=21.13669261173219, pvalue=5.600520111729011e-68)\n",
        "\n",
        "rep mean:  0.8975903614457831\n",
        "dem mean:  0.47674418604651164\n",
        "religious_groups\n",
        " Ttest_indResult(statistic=9.737575825219457, pvalue=2.3936722520597287e-20)\n",
        "\n",
        "rep mean:  0.24074074074074073\n",
        "dem mean:  0.7722007722007722\n",
        "anti_satellite_ban\n",
        " Ttest_indResult(statistic=-12.526187929077842, pvalue=8.521033017443867e-31)\n",
        "\n",
        "rep mean:  0.15286624203821655\n",
        "dem mean:  0.8288973384030418\n",
        "aid_to_contras\n",
        " Ttest_indResult(statistic=-18.052093200819733, pvalue=2.82471841372357e-54)\n",
        "\n",
        "rep mean:  0.11515151515151516\n",
        "dem mean:  0.7580645161290323\n",
        "mx_missile\n",
        " Ttest_indResult(statistic=-16.437503268542994, pvalue=5.03079265310811e-47)\n",
        "\n",
        "rep mean:  0.5575757575757576\n",
        "dem mean:  0.4714828897338403\n",
        "immigration\n",
        " Ttest_indResult(statistic=1.7359117329695164, pvalue=0.08330248490425066)\n",
        "\n",
        "rep mean:  0.1320754716981132\n",
        "dem mean:  0.5058823529411764\n",
        "synfuels\n",
        " Ttest_indResult(statistic=-8.293603989407588, pvalue=1.5759322301054064e-15)\n",
        "\n",
        "rep mean:  0.8709677419354839\n",
        "dem mean:  0.14457831325301204\n",
        "education\n",
        " Ttest_indResult(statistic=20.500685724563073, pvalue=1.8834203990450192e-64)\n",
        "\n",
        "rep mean:  0.8607594936708861\n",
        "dem mean:  0.2896825396825397\n",
        "right_to_sue\n",
        " Ttest_indResult(statistic=13.51064251060933, pvalue=1.2278581709672758e-34)\n",
        "\n",
        "rep mean:  0.9813664596273292\n",
        "dem mean:  0.35019455252918286\n",
        "crime Ttest_indResult(statistic=16.342085656197696, pvalue=9.952342705606092e-47)\n",
        "\n",
        "rep mean:  0.08974358974358974\n",
        "dem mean:  0.6374501992031872\n",
        "duty_free\n",
        " Ttest_indResult(statistic=-12.853146132542978, pvalue=5.997697174347365e-32)\n",
        " \n",
        "rep mean:  0.6575342465753424\n",
        "dem mean:  0.9351351351351351\n",
        "south_africa\n",
        " Ttest_indResult(statistic=-6.849454815841208, pvalue=3.652674361672226e-11)"
      ]
    },
    {
      "cell_type": "markdown",
      "metadata": {
        "id": "-8D5osOHjHIq",
        "colab_type": "text"
      },
      "source": [
        "## 2. Using hypothesis testing, find an issue that democrats support more than republicans with p < 0.01\n",
        "\n",
        "1. handicapped-infants\n",
        "2. budget\n",
        "3. anti-satellite-ban\n",
        "4. aid_to_contras\n",
        "5. mx_missile\n",
        "6. synfuels\n",
        "7. duty_free\n",
        "8. south_africa"
      ]
    },
    {
      "cell_type": "markdown",
      "metadata": {
        "id": "f-tw4LPBjfuQ",
        "colab_type": "text"
      },
      "source": [
        "## 3. Using hypothesis testing, find an issue that republicans support more than democrats with p < 0.01\n",
        "\n",
        "1. physician_fee_freeze\n",
        "2. el_salvador_aid\n",
        "3. religious_groups\n",
        "4. education\n",
        "5. right_to_sue\n",
        "6. crime"
      ]
    },
    {
      "cell_type": "markdown",
      "metadata": {
        "id": "p4P5Huk9jXlt",
        "colab_type": "text"
      },
      "source": [
        "## 4. Using hypothesis testing, find an issue where the difference between republicans and democrats has p > 0.1 (i.e. there may not be much of a difference)\n",
        "\n",
        "1. water_project"
      ]
    },
    {
      "cell_type": "markdown",
      "metadata": {
        "id": "l0W6nMCGjSQV",
        "colab_type": "text"
      },
      "source": [
        ""
      ]
    }
  ]
}