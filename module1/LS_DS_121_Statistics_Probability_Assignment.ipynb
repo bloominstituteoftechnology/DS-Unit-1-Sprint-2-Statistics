{
  "nbformat": 4,
  "nbformat_minor": 0,
  "metadata": {
    "kernelspec": {
      "display_name": "Python 3",
      "language": "python",
      "name": "python3"
    },
    "language_info": {
      "codemirror_mode": {
        "name": "ipython",
        "version": 3
      },
      "file_extension": ".py",
      "mimetype": "text/x-python",
      "name": "python",
      "nbconvert_exporter": "python",
      "pygments_lexer": "ipython3",
      "version": "3.7.3"
    },
    "colab": {
      "name": "LS_DS_121_Statistics_Probability_Assignment.ipynb",
      "provenance": [],
      "toc_visible": true,
      "include_colab_link": true
    }
  },
  "cells": [
    {
      "cell_type": "markdown",
      "metadata": {
        "id": "view-in-github",
        "colab_type": "text"
      },
      "source": [
        "<a href=\"https://colab.research.google.com/github/jmmiddour/DS-Unit-1-Sprint-2-Statistics/blob/master/module1/LS_DS_121_Statistics_Probability_Assignment.ipynb\" target=\"_parent\"><img src=\"https://colab.research.google.com/assets/colab-badge.svg\" alt=\"Open In Colab\"/></a>"
      ]
    },
    {
      "cell_type": "markdown",
      "metadata": {
        "id": "Sa5KWMO1ngPN",
        "colab_type": "text"
      },
      "source": [
        "<img align=\"left\" src=\"https://lever-client-logos.s3.amazonaws.com/864372b1-534c-480e-acd5-9711f850815c-1524247202159.png\" width=200>\n",
        "<br></br>\n",
        "<br></br>\n",
        "\n",
        "## *Data Science Unit 1 Sprint 2 Assignment 1*\n",
        "\n",
        "# Apply the t-test to real data\n",
        "\n",
        "Your assignment is to determine which issues have \"statistically significant\" differences between political parties in this [1980s congressional voting data](https://archive.ics.uci.edu/ml/datasets/Congressional+Voting+Records). The data consists of 435 instances (one for each congressperson), a class (democrat or republican), and 16 binary attributes (yes or no for voting for or against certain issues). Be aware - there are missing values!\n",
        "\n",
        "Your goals:\n",
        "\n",
        "1. Load and clean the data (or determine the best method to drop observations when running tests)\n",
        "2. Using hypothesis testing, find an issue that democrats support more than republicans with p < 0.01\n",
        "3. Using hypothesis testing, find an issue that republicans support more than democrats with p < 0.01\n",
        "4. Using hypothesis testing, find an issue where the difference between republicans and democrats has p > 0.1 (i.e. there may not be much of a difference)\n",
        "\n",
        "Note that this data will involve *2 sample* t-tests, because you're comparing averages across two groups (republicans and democrats) rather than a single group against a null hypothesis."
      ]
    },
    {
      "cell_type": "markdown",
      "metadata": {
        "id": "unhfVghnNHrl",
        "colab_type": "text"
      },
      "source": [
        "### Goal 1\n",
        "Load and clean the data (or determine the best method to drop observations when running tests)"
      ]
    },
    {
      "cell_type": "code",
      "metadata": {
        "id": "r8rgDGDEOCHy",
        "colab_type": "code",
        "colab": {
          "base_uri": "https://localhost:8080/",
          "height": 70
        },
        "outputId": "7f662a40-45ec-4c86-c3b8-e752db740a67"
      },
      "source": [
        "# Import my libraries:\n",
        "import pandas as pd\n",
        "import numpy as np\n",
        "import seaborn as sns\n",
        "from scipy.stats import ttest_ind, ttest_1samp"
      ],
      "execution_count": 1,
      "outputs": [
        {
          "output_type": "stream",
          "text": [
            "/usr/local/lib/python3.6/dist-packages/statsmodels/tools/_testing.py:19: FutureWarning: pandas.util.testing is deprecated. Use the functions in the public API at pandas.testing instead.\n",
            "  import pandas.util.testing as tm\n"
          ],
          "name": "stderr"
        }
      ]
    },
    {
      "cell_type": "code",
      "metadata": {
        "id": "ZKwspo2CngPP",
        "colab_type": "code",
        "colab": {
          "base_uri": "https://localhost:8080/",
          "height": 202
        },
        "outputId": "3bec0df7-3996-4a01-eba9-b0ec7a55bcc4"
      },
      "source": [
        "# The .data table is an old format but still readable, just have to add the headers.\n",
        "# Get my data:\n",
        "! wget https://archive.ics.uci.edu/ml/machine-learning-databases/voting-records/house-votes-84.data"
      ],
      "execution_count": 2,
      "outputs": [
        {
          "output_type": "stream",
          "text": [
            "--2020-05-21 03:25:20--  https://archive.ics.uci.edu/ml/machine-learning-databases/voting-records/house-votes-84.data\n",
            "Resolving archive.ics.uci.edu (archive.ics.uci.edu)... 128.195.10.252\n",
            "Connecting to archive.ics.uci.edu (archive.ics.uci.edu)|128.195.10.252|:443... connected.\n",
            "HTTP request sent, awaiting response... 200 OK\n",
            "Length: 18171 (18K) [application/x-httpd-php]\n",
            "Saving to: ‘house-votes-84.data.1’\n",
            "\n",
            "\rhouse-votes-84.data   0%[                    ]       0  --.-KB/s               \rhouse-votes-84.data 100%[===================>]  17.75K  --.-KB/s    in 0.04s   \n",
            "\n",
            "2020-05-21 03:25:20 (476 KB/s) - ‘house-votes-84.data.1’ saved [18171/18171]\n",
            "\n"
          ],
          "name": "stdout"
        }
      ]
    },
    {
      "cell_type": "code",
      "metadata": {
        "id": "6sFRVU6BPIRE",
        "colab_type": "code",
        "colab": {
          "base_uri": "https://localhost:8080/",
          "height": 247
        },
        "outputId": "1b38b13d-54f2-47c7-885e-a434c745d1b2"
      },
      "source": [
        "# Make the data into a dataframe:\n",
        "headers=['Party', 'Hanicapped-Infants', 'Water-Project', 'Budget', \n",
        "         'Physician-Fee-Freeze', 'El-Salvador-Aid', 'Religious-Groups', \n",
        "         'Anti-Satellite-Bill', 'Aid-to-Contras', 'MX-Missile', 'Immigration',\n",
        "         'Synfuels', 'Education', 'Right-to-Sue', 'Crime', 'Duty-Free', \n",
        "         'South-Africa']\n",
        "\n",
        "# Since the mmissing values are coded with ?, need to include na_values to \n",
        "#   replace all the ? with NaN:\n",
        "house = pd.read_csv('house-votes-84.data', header=None, names=headers, \n",
        "                    na_values='?')\n",
        "\n",
        "# Print the first 5 rows to verify it reads in correctly:\n",
        "house.head()"
      ],
      "execution_count": 3,
      "outputs": [
        {
          "output_type": "execute_result",
          "data": {
            "text/html": [
              "<div>\n",
              "<style scoped>\n",
              "    .dataframe tbody tr th:only-of-type {\n",
              "        vertical-align: middle;\n",
              "    }\n",
              "\n",
              "    .dataframe tbody tr th {\n",
              "        vertical-align: top;\n",
              "    }\n",
              "\n",
              "    .dataframe thead th {\n",
              "        text-align: right;\n",
              "    }\n",
              "</style>\n",
              "<table border=\"1\" class=\"dataframe\">\n",
              "  <thead>\n",
              "    <tr style=\"text-align: right;\">\n",
              "      <th></th>\n",
              "      <th>Party</th>\n",
              "      <th>Hanicapped-Infants</th>\n",
              "      <th>Water-Project</th>\n",
              "      <th>Budget</th>\n",
              "      <th>Physician-Fee-Freeze</th>\n",
              "      <th>El-Salvador-Aid</th>\n",
              "      <th>Religious-Groups</th>\n",
              "      <th>Anti-Satellite-Bill</th>\n",
              "      <th>Aid-to-Contras</th>\n",
              "      <th>MX-Missile</th>\n",
              "      <th>Immigration</th>\n",
              "      <th>Synfuels</th>\n",
              "      <th>Education</th>\n",
              "      <th>Right-to-Sue</th>\n",
              "      <th>Crime</th>\n",
              "      <th>Duty-Free</th>\n",
              "      <th>South-Africa</th>\n",
              "    </tr>\n",
              "  </thead>\n",
              "  <tbody>\n",
              "    <tr>\n",
              "      <th>0</th>\n",
              "      <td>republican</td>\n",
              "      <td>n</td>\n",
              "      <td>y</td>\n",
              "      <td>n</td>\n",
              "      <td>y</td>\n",
              "      <td>y</td>\n",
              "      <td>y</td>\n",
              "      <td>n</td>\n",
              "      <td>n</td>\n",
              "      <td>n</td>\n",
              "      <td>y</td>\n",
              "      <td>NaN</td>\n",
              "      <td>y</td>\n",
              "      <td>y</td>\n",
              "      <td>y</td>\n",
              "      <td>n</td>\n",
              "      <td>y</td>\n",
              "    </tr>\n",
              "    <tr>\n",
              "      <th>1</th>\n",
              "      <td>republican</td>\n",
              "      <td>n</td>\n",
              "      <td>y</td>\n",
              "      <td>n</td>\n",
              "      <td>y</td>\n",
              "      <td>y</td>\n",
              "      <td>y</td>\n",
              "      <td>n</td>\n",
              "      <td>n</td>\n",
              "      <td>n</td>\n",
              "      <td>n</td>\n",
              "      <td>n</td>\n",
              "      <td>y</td>\n",
              "      <td>y</td>\n",
              "      <td>y</td>\n",
              "      <td>n</td>\n",
              "      <td>NaN</td>\n",
              "    </tr>\n",
              "    <tr>\n",
              "      <th>2</th>\n",
              "      <td>democrat</td>\n",
              "      <td>NaN</td>\n",
              "      <td>y</td>\n",
              "      <td>y</td>\n",
              "      <td>NaN</td>\n",
              "      <td>y</td>\n",
              "      <td>y</td>\n",
              "      <td>n</td>\n",
              "      <td>n</td>\n",
              "      <td>n</td>\n",
              "      <td>n</td>\n",
              "      <td>y</td>\n",
              "      <td>n</td>\n",
              "      <td>y</td>\n",
              "      <td>y</td>\n",
              "      <td>n</td>\n",
              "      <td>n</td>\n",
              "    </tr>\n",
              "    <tr>\n",
              "      <th>3</th>\n",
              "      <td>democrat</td>\n",
              "      <td>n</td>\n",
              "      <td>y</td>\n",
              "      <td>y</td>\n",
              "      <td>n</td>\n",
              "      <td>NaN</td>\n",
              "      <td>y</td>\n",
              "      <td>n</td>\n",
              "      <td>n</td>\n",
              "      <td>n</td>\n",
              "      <td>n</td>\n",
              "      <td>y</td>\n",
              "      <td>n</td>\n",
              "      <td>y</td>\n",
              "      <td>n</td>\n",
              "      <td>n</td>\n",
              "      <td>y</td>\n",
              "    </tr>\n",
              "    <tr>\n",
              "      <th>4</th>\n",
              "      <td>democrat</td>\n",
              "      <td>y</td>\n",
              "      <td>y</td>\n",
              "      <td>y</td>\n",
              "      <td>n</td>\n",
              "      <td>y</td>\n",
              "      <td>y</td>\n",
              "      <td>n</td>\n",
              "      <td>n</td>\n",
              "      <td>n</td>\n",
              "      <td>n</td>\n",
              "      <td>y</td>\n",
              "      <td>NaN</td>\n",
              "      <td>y</td>\n",
              "      <td>y</td>\n",
              "      <td>y</td>\n",
              "      <td>y</td>\n",
              "    </tr>\n",
              "  </tbody>\n",
              "</table>\n",
              "</div>"
            ],
            "text/plain": [
              "        Party Hanicapped-Infants Water-Project  ... Crime Duty-Free South-Africa\n",
              "0  republican                  n             y  ...     y         n            y\n",
              "1  republican                  n             y  ...     y         n          NaN\n",
              "2    democrat                NaN             y  ...     y         n            n\n",
              "3    democrat                  n             y  ...     n         n            y\n",
              "4    democrat                  y             y  ...     y         y            y\n",
              "\n",
              "[5 rows x 17 columns]"
            ]
          },
          "metadata": {
            "tags": []
          },
          "execution_count": 3
        }
      ]
    },
    {
      "cell_type": "code",
      "metadata": {
        "id": "0wUjOiHsRYOv",
        "colab_type": "code",
        "colab": {
          "base_uri": "https://localhost:8080/",
          "height": 247
        },
        "outputId": "d03ad7c3-e31b-4056-b1f8-a3c49e388149"
      },
      "source": [
        "# Need to recode the y and n votes with binary values to carry out comparisons:\n",
        "house = house.replace({'y':1, 'n':0})\n",
        "\n",
        "# Check my work:\n",
        "house.head()"
      ],
      "execution_count": 4,
      "outputs": [
        {
          "output_type": "execute_result",
          "data": {
            "text/html": [
              "<div>\n",
              "<style scoped>\n",
              "    .dataframe tbody tr th:only-of-type {\n",
              "        vertical-align: middle;\n",
              "    }\n",
              "\n",
              "    .dataframe tbody tr th {\n",
              "        vertical-align: top;\n",
              "    }\n",
              "\n",
              "    .dataframe thead th {\n",
              "        text-align: right;\n",
              "    }\n",
              "</style>\n",
              "<table border=\"1\" class=\"dataframe\">\n",
              "  <thead>\n",
              "    <tr style=\"text-align: right;\">\n",
              "      <th></th>\n",
              "      <th>Party</th>\n",
              "      <th>Hanicapped-Infants</th>\n",
              "      <th>Water-Project</th>\n",
              "      <th>Budget</th>\n",
              "      <th>Physician-Fee-Freeze</th>\n",
              "      <th>El-Salvador-Aid</th>\n",
              "      <th>Religious-Groups</th>\n",
              "      <th>Anti-Satellite-Bill</th>\n",
              "      <th>Aid-to-Contras</th>\n",
              "      <th>MX-Missile</th>\n",
              "      <th>Immigration</th>\n",
              "      <th>Synfuels</th>\n",
              "      <th>Education</th>\n",
              "      <th>Right-to-Sue</th>\n",
              "      <th>Crime</th>\n",
              "      <th>Duty-Free</th>\n",
              "      <th>South-Africa</th>\n",
              "    </tr>\n",
              "  </thead>\n",
              "  <tbody>\n",
              "    <tr>\n",
              "      <th>0</th>\n",
              "      <td>republican</td>\n",
              "      <td>0.0</td>\n",
              "      <td>1.0</td>\n",
              "      <td>0.0</td>\n",
              "      <td>1.0</td>\n",
              "      <td>1.0</td>\n",
              "      <td>1.0</td>\n",
              "      <td>0.0</td>\n",
              "      <td>0.0</td>\n",
              "      <td>0.0</td>\n",
              "      <td>1.0</td>\n",
              "      <td>NaN</td>\n",
              "      <td>1.0</td>\n",
              "      <td>1.0</td>\n",
              "      <td>1.0</td>\n",
              "      <td>0.0</td>\n",
              "      <td>1.0</td>\n",
              "    </tr>\n",
              "    <tr>\n",
              "      <th>1</th>\n",
              "      <td>republican</td>\n",
              "      <td>0.0</td>\n",
              "      <td>1.0</td>\n",
              "      <td>0.0</td>\n",
              "      <td>1.0</td>\n",
              "      <td>1.0</td>\n",
              "      <td>1.0</td>\n",
              "      <td>0.0</td>\n",
              "      <td>0.0</td>\n",
              "      <td>0.0</td>\n",
              "      <td>0.0</td>\n",
              "      <td>0.0</td>\n",
              "      <td>1.0</td>\n",
              "      <td>1.0</td>\n",
              "      <td>1.0</td>\n",
              "      <td>0.0</td>\n",
              "      <td>NaN</td>\n",
              "    </tr>\n",
              "    <tr>\n",
              "      <th>2</th>\n",
              "      <td>democrat</td>\n",
              "      <td>NaN</td>\n",
              "      <td>1.0</td>\n",
              "      <td>1.0</td>\n",
              "      <td>NaN</td>\n",
              "      <td>1.0</td>\n",
              "      <td>1.0</td>\n",
              "      <td>0.0</td>\n",
              "      <td>0.0</td>\n",
              "      <td>0.0</td>\n",
              "      <td>0.0</td>\n",
              "      <td>1.0</td>\n",
              "      <td>0.0</td>\n",
              "      <td>1.0</td>\n",
              "      <td>1.0</td>\n",
              "      <td>0.0</td>\n",
              "      <td>0.0</td>\n",
              "    </tr>\n",
              "    <tr>\n",
              "      <th>3</th>\n",
              "      <td>democrat</td>\n",
              "      <td>0.0</td>\n",
              "      <td>1.0</td>\n",
              "      <td>1.0</td>\n",
              "      <td>0.0</td>\n",
              "      <td>NaN</td>\n",
              "      <td>1.0</td>\n",
              "      <td>0.0</td>\n",
              "      <td>0.0</td>\n",
              "      <td>0.0</td>\n",
              "      <td>0.0</td>\n",
              "      <td>1.0</td>\n",
              "      <td>0.0</td>\n",
              "      <td>1.0</td>\n",
              "      <td>0.0</td>\n",
              "      <td>0.0</td>\n",
              "      <td>1.0</td>\n",
              "    </tr>\n",
              "    <tr>\n",
              "      <th>4</th>\n",
              "      <td>democrat</td>\n",
              "      <td>1.0</td>\n",
              "      <td>1.0</td>\n",
              "      <td>1.0</td>\n",
              "      <td>0.0</td>\n",
              "      <td>1.0</td>\n",
              "      <td>1.0</td>\n",
              "      <td>0.0</td>\n",
              "      <td>0.0</td>\n",
              "      <td>0.0</td>\n",
              "      <td>0.0</td>\n",
              "      <td>1.0</td>\n",
              "      <td>NaN</td>\n",
              "      <td>1.0</td>\n",
              "      <td>1.0</td>\n",
              "      <td>1.0</td>\n",
              "      <td>1.0</td>\n",
              "    </tr>\n",
              "  </tbody>\n",
              "</table>\n",
              "</div>"
            ],
            "text/plain": [
              "        Party  Hanicapped-Infants  ...  Duty-Free  South-Africa\n",
              "0  republican                 0.0  ...        0.0           1.0\n",
              "1  republican                 0.0  ...        0.0           NaN\n",
              "2    democrat                 NaN  ...        0.0           0.0\n",
              "3    democrat                 0.0  ...        0.0           1.0\n",
              "4    democrat                 1.0  ...        1.0           1.0\n",
              "\n",
              "[5 rows x 17 columns]"
            ]
          },
          "metadata": {
            "tags": []
          },
          "execution_count": 4
        }
      ]
    },
    {
      "cell_type": "code",
      "metadata": {
        "id": "he2_ouECRxPe",
        "colab_type": "code",
        "colab": {
          "base_uri": "https://localhost:8080/",
          "height": 67
        },
        "outputId": "37101d3d-9a0b-4001-8e07-b4459bec7a33"
      },
      "source": [
        "# What are the value counts of the parties?\n",
        "house['Party'].value_counts()"
      ],
      "execution_count": 5,
      "outputs": [
        {
          "output_type": "execute_result",
          "data": {
            "text/plain": [
              "democrat      267\n",
              "republican    168\n",
              "Name: Party, dtype: int64"
            ]
          },
          "metadata": {
            "tags": []
          },
          "execution_count": 5
        }
      ]
    },
    {
      "cell_type": "code",
      "metadata": {
        "id": "ShuVS6v5SPwA",
        "colab_type": "code",
        "colab": {}
      },
      "source": [
        "# Create a new varaiable for each party:\n",
        "dem = house[house['Party'] == 'democrat']\n",
        "rep = house[house['Party'] == 'republican']"
      ],
      "execution_count": 0,
      "outputs": []
    },
    {
      "cell_type": "code",
      "metadata": {
        "id": "l5p9kOCvSQzY",
        "colab_type": "code",
        "colab": {
          "base_uri": "https://localhost:8080/",
          "height": 488
        },
        "outputId": "0f8ccb9d-03b1-4b7a-d701-a7157bc458a9"
      },
      "source": [
        "# Check my work:\n",
        "print (dem)\n",
        "print (rep)"
      ],
      "execution_count": 7,
      "outputs": [
        {
          "output_type": "stream",
          "text": [
            "        Party  Hanicapped-Infants  ...  Duty-Free  South-Africa\n",
            "2    democrat                 NaN  ...        0.0           0.0\n",
            "3    democrat                 0.0  ...        0.0           1.0\n",
            "4    democrat                 1.0  ...        1.0           1.0\n",
            "5    democrat                 0.0  ...        1.0           1.0\n",
            "6    democrat                 0.0  ...        1.0           1.0\n",
            "..        ...                 ...  ...        ...           ...\n",
            "425  democrat                 0.0  ...        1.0           NaN\n",
            "426  democrat                 1.0  ...        1.0           1.0\n",
            "428  democrat                 NaN  ...        1.0           1.0\n",
            "429  democrat                 1.0  ...        1.0           1.0\n",
            "431  democrat                 0.0  ...        0.0           1.0\n",
            "\n",
            "[267 rows x 17 columns]\n",
            "          Party  Hanicapped-Infants  ...  Duty-Free  South-Africa\n",
            "0    republican                 0.0  ...        0.0           1.0\n",
            "1    republican                 0.0  ...        0.0           NaN\n",
            "7    republican                 0.0  ...        NaN           1.0\n",
            "8    republican                 0.0  ...        0.0           1.0\n",
            "10   republican                 0.0  ...        0.0           0.0\n",
            "..          ...                 ...  ...        ...           ...\n",
            "427  republican                 0.0  ...        0.0           1.0\n",
            "430  republican                 0.0  ...        0.0           1.0\n",
            "432  republican                 0.0  ...        0.0           1.0\n",
            "433  republican                 0.0  ...        0.0           1.0\n",
            "434  republican                 0.0  ...        NaN           0.0\n",
            "\n",
            "[168 rows x 17 columns]\n"
          ],
          "name": "stdout"
        }
      ]
    },
    {
      "cell_type": "code",
      "metadata": {
        "id": "EeJKZsmfSQw5",
        "colab_type": "code",
        "colab": {
          "base_uri": "https://localhost:8080/",
          "height": 319
        },
        "outputId": "d8e81534-a772-4d11-ec5f-1ef0cbee5fdd"
      },
      "source": [
        "# Check for missing values in my columns:\n",
        "house.isnull().sum()"
      ],
      "execution_count": 8,
      "outputs": [
        {
          "output_type": "execute_result",
          "data": {
            "text/plain": [
              "Party                     0\n",
              "Hanicapped-Infants       12\n",
              "Water-Project            48\n",
              "Budget                   11\n",
              "Physician-Fee-Freeze     11\n",
              "El-Salvador-Aid          15\n",
              "Religious-Groups         11\n",
              "Anti-Satellite-Bill      14\n",
              "Aid-to-Contras           15\n",
              "MX-Missile               22\n",
              "Immigration               7\n",
              "Synfuels                 21\n",
              "Education                31\n",
              "Right-to-Sue             25\n",
              "Crime                    17\n",
              "Duty-Free                28\n",
              "South-Africa            104\n",
              "dtype: int64"
            ]
          },
          "metadata": {
            "tags": []
          },
          "execution_count": 8
        }
      ]
    },
    {
      "cell_type": "markdown",
      "metadata": {
        "id": "Ed9FMnLnNRco",
        "colab_type": "text"
      },
      "source": [
        "### Goal 2\n",
        "Using hypothesis testing, find an issue that democrats support more than republicans with p < 0.01"
      ]
    },
    {
      "cell_type": "markdown",
      "metadata": {
        "id": "e4GPpAcANluH",
        "colab_type": "text"
      },
      "source": [
        "#### Run Tests\n",
        "Running ttests on all bills that have more Democrate votes than Republican votes :"
      ]
    },
    {
      "cell_type": "code",
      "metadata": {
        "id": "LfzMLQaRzYAr",
        "colab_type": "code",
        "colab": {
          "base_uri": "https://localhost:8080/",
          "height": 185
        },
        "outputId": "70c6848c-be5c-471c-bd4a-284ad77d8d50"
      },
      "source": [
        "# Value counts and means of votes on Hanicapped-Infants:\n",
        "print (dem['Hanicapped-Infants'].value_counts())\n",
        "print (rep['Hanicapped-Infants'].value_counts())\n",
        "print ('')\n",
        "print ('Average of yes votes on Hanicapped-Infants:')\n",
        "print ('Dems:', dem['Hanicapped-Infants'].mean())\n",
        "print ('Reps:', rep['Hanicapped-Infants'].mean())"
      ],
      "execution_count": 9,
      "outputs": [
        {
          "output_type": "stream",
          "text": [
            "1.0    156\n",
            "0.0    102\n",
            "Name: Hanicapped-Infants, dtype: int64\n",
            "0.0    134\n",
            "1.0     31\n",
            "Name: Hanicapped-Infants, dtype: int64\n",
            "\n",
            "Average of yes votes on Hanicapped-Infants:\n",
            "Dems: 0.6046511627906976\n",
            "Reps: 0.18787878787878787\n"
          ],
          "name": "stdout"
        }
      ]
    },
    {
      "cell_type": "code",
      "metadata": {
        "id": "FqR-i8m7aI9n",
        "colab_type": "code",
        "outputId": "2ee636a7-def1-49e3-88f0-da02eb82a318",
        "colab": {
          "base_uri": "https://localhost:8080/",
          "height": 34
        }
      },
      "source": [
        "# Run ttest on Hanicapped-Infants:\n",
        "ttest_ind(dem['Hanicapped-Infants'], rep['Hanicapped-Infants'], \n",
        "          nan_policy='omit')"
      ],
      "execution_count": 10,
      "outputs": [
        {
          "output_type": "execute_result",
          "data": {
            "text/plain": [
              "Ttest_indResult(statistic=9.205264294809222, pvalue=1.613440327937243e-18)"
            ]
          },
          "metadata": {
            "tags": []
          },
          "execution_count": 10
        }
      ]
    },
    {
      "cell_type": "code",
      "metadata": {
        "id": "LmjQKLxEJNRZ",
        "colab_type": "code",
        "colab": {
          "base_uri": "https://localhost:8080/",
          "height": 185
        },
        "outputId": "f06a2b22-b6a4-49aa-8646-2d8fb57d1c3e"
      },
      "source": [
        "# Value counts and means of votes on Anti-Satellite-Bill:\n",
        "print (dem['Anti-Satellite-Bill'].value_counts())\n",
        "print (rep['Anti-Satellite-Bill'].value_counts())\n",
        "print ('')\n",
        "print ('Average of yes votes on Anti-Satellite-Bill:')\n",
        "print ('Dems:', dem['Anti-Satellite-Bill'].mean())\n",
        "print ('Reps', rep['Anti-Satellite-Bill'].mean())"
      ],
      "execution_count": 11,
      "outputs": [
        {
          "output_type": "stream",
          "text": [
            "1.0    200\n",
            "0.0     59\n",
            "Name: Anti-Satellite-Bill, dtype: int64\n",
            "0.0    123\n",
            "1.0     39\n",
            "Name: Anti-Satellite-Bill, dtype: int64\n",
            "\n",
            "Average of yes votes on Anti-Satellite-Bill:\n",
            "Dems: 0.7722007722007722\n",
            "Reps 0.24074074074074073\n"
          ],
          "name": "stdout"
        }
      ]
    },
    {
      "cell_type": "code",
      "metadata": {
        "id": "PSys1zG-aIBk",
        "colab_type": "code",
        "outputId": "89b3f367-1175-4fc4-990e-ee7e79975e06",
        "colab": {
          "base_uri": "https://localhost:8080/",
          "height": 34
        }
      },
      "source": [
        "# Run ttest on Anti-Satellite-Bill:\n",
        "ttest_ind(dem['Anti-Satellite-Bill'], rep['Anti-Satellite-Bill'], nan_policy='omit')"
      ],
      "execution_count": 12,
      "outputs": [
        {
          "output_type": "execute_result",
          "data": {
            "text/plain": [
              "Ttest_indResult(statistic=12.526187929077842, pvalue=8.521033017443867e-31)"
            ]
          },
          "metadata": {
            "tags": []
          },
          "execution_count": 12
        }
      ]
    },
    {
      "cell_type": "code",
      "metadata": {
        "id": "wO2QH-xFJXRx",
        "colab_type": "code",
        "colab": {
          "base_uri": "https://localhost:8080/",
          "height": 185
        },
        "outputId": "f11a3425-8ade-4572-cdcf-75abae1efd1f"
      },
      "source": [
        "# Value counts and means of votes on Aid-to-Contras:\n",
        "print (dem['Aid-to-Contras'].value_counts())\n",
        "print (rep['Aid-to-Contras'].value_counts())\n",
        "print ('')\n",
        "print ('Average of yes votes on Aid-to-Contras:')\n",
        "print ('Dems:', dem['Aid-to-Contras'].mean())\n",
        "print ('Reps', rep['Aid-to-Contras'].mean())"
      ],
      "execution_count": 13,
      "outputs": [
        {
          "output_type": "stream",
          "text": [
            "1.0    218\n",
            "0.0     45\n",
            "Name: Aid-to-Contras, dtype: int64\n",
            "0.0    133\n",
            "1.0     24\n",
            "Name: Aid-to-Contras, dtype: int64\n",
            "\n",
            "Average of yes votes on Aid-to-Contras:\n",
            "Dems: 0.8288973384030418\n",
            "Reps 0.15286624203821655\n"
          ],
          "name": "stdout"
        }
      ]
    },
    {
      "cell_type": "code",
      "metadata": {
        "id": "jpHa7qoohxJW",
        "colab_type": "code",
        "outputId": "30f2ca3c-c666-4049-f7e5-d7d89f72599c",
        "colab": {
          "base_uri": "https://localhost:8080/",
          "height": 34
        }
      },
      "source": [
        "# Run ttest on Aid-to-Contras:\n",
        "ttest_ind(dem['Aid-to-Contras'], rep['Aid-to-Contras'], nan_policy='omit')"
      ],
      "execution_count": 14,
      "outputs": [
        {
          "output_type": "execute_result",
          "data": {
            "text/plain": [
              "Ttest_indResult(statistic=18.052093200819733, pvalue=2.82471841372357e-54)"
            ]
          },
          "metadata": {
            "tags": []
          },
          "execution_count": 14
        }
      ]
    },
    {
      "cell_type": "code",
      "metadata": {
        "id": "UAKbIQpHJl7k",
        "colab_type": "code",
        "colab": {
          "base_uri": "https://localhost:8080/",
          "height": 185
        },
        "outputId": "890db067-3cd3-4ac8-9bcb-38ec04e42fb5"
      },
      "source": [
        "# Value counts and means of votes on MX-Missile:\n",
        "print (dem['MX-Missile'].value_counts())\n",
        "print (rep['MX-Missile'].value_counts())\n",
        "print ('')\n",
        "print ('Average of yes votes on MX-Missile:')\n",
        "print ('Dems:', dem['MX-Missile'].mean())\n",
        "print ('Reps', rep['MX-Missile'].mean())"
      ],
      "execution_count": 15,
      "outputs": [
        {
          "output_type": "stream",
          "text": [
            "1.0    188\n",
            "0.0     60\n",
            "Name: MX-Missile, dtype: int64\n",
            "0.0    146\n",
            "1.0     19\n",
            "Name: MX-Missile, dtype: int64\n",
            "\n",
            "Average of yes votes on MX-Missile:\n",
            "Dems: 0.7580645161290323\n",
            "Reps 0.11515151515151516\n"
          ],
          "name": "stdout"
        }
      ]
    },
    {
      "cell_type": "code",
      "metadata": {
        "id": "iwL-1LCdhxFo",
        "colab_type": "code",
        "outputId": "22f1c9d6-e47b-4986-fa4b-7180a29d3a70",
        "colab": {
          "base_uri": "https://localhost:8080/",
          "height": 34
        }
      },
      "source": [
        "# Run ttest on MX-Missile:\n",
        "ttest_ind(dem['MX-Missile'], rep['MX-Missile'], nan_policy='omit')"
      ],
      "execution_count": 16,
      "outputs": [
        {
          "output_type": "execute_result",
          "data": {
            "text/plain": [
              "Ttest_indResult(statistic=16.437503268542994, pvalue=5.03079265310811e-47)"
            ]
          },
          "metadata": {
            "tags": []
          },
          "execution_count": 16
        }
      ]
    },
    {
      "cell_type": "code",
      "metadata": {
        "id": "jvnzYd63t7gY",
        "colab_type": "code",
        "colab": {
          "base_uri": "https://localhost:8080/",
          "height": 185
        },
        "outputId": "d645c431-b341-4b7d-fa98-18a2b629b237"
      },
      "source": [
        "# Value counts and means of votes on Synfuels:\n",
        "print (dem['Synfuels'].value_counts())\n",
        "print (rep['Synfuels'].value_counts())\n",
        "print ('')\n",
        "print ('Average of yes votes on Synfuels:')\n",
        "print ('Dems:', dem['Synfuels'].mean())\n",
        "print ('Reps', rep['Synfuels'].mean())"
      ],
      "execution_count": 17,
      "outputs": [
        {
          "output_type": "stream",
          "text": [
            "1.0    129\n",
            "0.0    126\n",
            "Name: Synfuels, dtype: int64\n",
            "0.0    138\n",
            "1.0     21\n",
            "Name: Synfuels, dtype: int64\n",
            "\n",
            "Average of yes votes on Synfuels:\n",
            "Dems: 0.5058823529411764\n",
            "Reps 0.1320754716981132\n"
          ],
          "name": "stdout"
        }
      ]
    },
    {
      "cell_type": "code",
      "metadata": {
        "id": "MLMPOn83hxBq",
        "colab_type": "code",
        "outputId": "f4a7d6bb-a8fa-469f-9b7d-7d5b2779907f",
        "colab": {
          "base_uri": "https://localhost:8080/",
          "height": 34
        }
      },
      "source": [
        "# Run ttest on Synfuels:\n",
        "ttest_ind(dem['Synfuels'], rep['Synfuels'], nan_policy='omit')"
      ],
      "execution_count": 18,
      "outputs": [
        {
          "output_type": "execute_result",
          "data": {
            "text/plain": [
              "Ttest_indResult(statistic=8.293603989407588, pvalue=1.5759322301054064e-15)"
            ]
          },
          "metadata": {
            "tags": []
          },
          "execution_count": 18
        }
      ]
    },
    {
      "cell_type": "code",
      "metadata": {
        "id": "T8k-cR9Tt7KT",
        "colab_type": "code",
        "colab": {
          "base_uri": "https://localhost:8080/",
          "height": 185
        },
        "outputId": "27b2e432-9f63-4435-f58d-b83da3ca8f23"
      },
      "source": [
        "# Value counts and means of votes on Duty-Free:\n",
        "print (dem['Duty-Free'].value_counts())\n",
        "print (rep['Duty-Free'].value_counts())\n",
        "print ('')\n",
        "print ('Average of yes votes on Duty-Free:')\n",
        "print ('Dems:', dem['Duty-Free'].mean())\n",
        "print ('Reps', rep['Duty-Free'].mean())"
      ],
      "execution_count": 19,
      "outputs": [
        {
          "output_type": "stream",
          "text": [
            "1.0    160\n",
            "0.0     91\n",
            "Name: Duty-Free, dtype: int64\n",
            "0.0    142\n",
            "1.0     14\n",
            "Name: Duty-Free, dtype: int64\n",
            "\n",
            "Average of yes votes on Duty-Free:\n",
            "Dems: 0.6374501992031872\n",
            "Reps 0.08974358974358974\n"
          ],
          "name": "stdout"
        }
      ]
    },
    {
      "cell_type": "code",
      "metadata": {
        "id": "xNe3LaZVhw0i",
        "colab_type": "code",
        "outputId": "b54df1de-f80e-4b62-b02e-f4ba30c978c2",
        "colab": {
          "base_uri": "https://localhost:8080/",
          "height": 34
        }
      },
      "source": [
        "# Run ttest on Duty-Free:\n",
        "ttest_ind(dem['Duty-Free'], rep['Duty-Free'], nan_policy='omit')"
      ],
      "execution_count": 20,
      "outputs": [
        {
          "output_type": "execute_result",
          "data": {
            "text/plain": [
              "Ttest_indResult(statistic=12.853146132542978, pvalue=5.997697174347365e-32)"
            ]
          },
          "metadata": {
            "tags": []
          },
          "execution_count": 20
        }
      ]
    },
    {
      "cell_type": "code",
      "metadata": {
        "id": "6CpJheFDt7Gi",
        "colab_type": "code",
        "colab": {
          "base_uri": "https://localhost:8080/",
          "height": 185
        },
        "outputId": "d58ba993-69e6-4367-c397-e46059721bdd"
      },
      "source": [
        "# Value counts and means of votes on South-Africa:\n",
        "print (dem['South-Africa'].value_counts())\n",
        "print (rep['South-Africa'].value_counts())\n",
        "print ('')\n",
        "print ('Average of yes votes on South-Africa:')\n",
        "print ('Dems:', dem['South-Africa'].mean())\n",
        "print ('Reps', rep['South-Africa'].mean())"
      ],
      "execution_count": 21,
      "outputs": [
        {
          "output_type": "stream",
          "text": [
            "1.0    173\n",
            "0.0     12\n",
            "Name: South-Africa, dtype: int64\n",
            "1.0    96\n",
            "0.0    50\n",
            "Name: South-Africa, dtype: int64\n",
            "\n",
            "Average of yes votes on South-Africa:\n",
            "Dems: 0.9351351351351351\n",
            "Reps 0.6575342465753424\n"
          ],
          "name": "stdout"
        }
      ]
    },
    {
      "cell_type": "code",
      "metadata": {
        "id": "oYGXtNmKhwxA",
        "colab_type": "code",
        "outputId": "2e2efd45-d076-4e0c-afd4-d25a99989804",
        "colab": {
          "base_uri": "https://localhost:8080/",
          "height": 34
        }
      },
      "source": [
        "# Run ttest on South-Africa:\n",
        "ttest_ind(dem['South-Africa'], rep['South-Africa'], nan_policy='omit')"
      ],
      "execution_count": 22,
      "outputs": [
        {
          "output_type": "execute_result",
          "data": {
            "text/plain": [
              "Ttest_indResult(statistic=6.849454815841208, pvalue=3.652674361672226e-11)"
            ]
          },
          "metadata": {
            "tags": []
          },
          "execution_count": 22
        }
      ]
    },
    {
      "cell_type": "markdown",
      "metadata": {
        "id": "S9fJkLepOHL3",
        "colab_type": "text"
      },
      "source": [
        "#### Result\n",
        "The Budget bill received the Highest number of yes votes from Demoncrates and it has a pvalue < 0.01\n"
      ]
    },
    {
      "cell_type": "code",
      "metadata": {
        "colab_type": "code",
        "outputId": "eef61f61-013d-4875-f40f-8e67276f019a",
        "id": "BjCwWCq5N_dX",
        "colab": {
          "base_uri": "https://localhost:8080/",
          "height": 185
        }
      },
      "source": [
        "# Value counts and means of votes on Budget:\n",
        "print (dem['Budget'].value_counts())\n",
        "print (rep['Budget'].value_counts())\n",
        "print ('')\n",
        "print ('Average of yes votes on Budget:')\n",
        "print ('Dems:', dem['Budget'].mean())\n",
        "print ('Reps', rep['Budget'].mean())"
      ],
      "execution_count": 23,
      "outputs": [
        {
          "output_type": "stream",
          "text": [
            "1.0    231\n",
            "0.0     29\n",
            "Name: Budget, dtype: int64\n",
            "0.0    142\n",
            "1.0     22\n",
            "Name: Budget, dtype: int64\n",
            "\n",
            "Average of yes votes on Budget:\n",
            "Dems: 0.8884615384615384\n",
            "Reps 0.13414634146341464\n"
          ],
          "name": "stdout"
        }
      ]
    },
    {
      "cell_type": "code",
      "metadata": {
        "id": "ZlycbHU5aI02",
        "colab_type": "code",
        "outputId": "4882a914-8a15-423a-af9d-63355f1d2e83",
        "colab": {
          "base_uri": "https://localhost:8080/",
          "height": 34
        }
      },
      "source": [
        "# Run ttest on Budget:\n",
        "ttest_ind(dem['Budget'], rep['Budget'], nan_policy='omit')"
      ],
      "execution_count": 24,
      "outputs": [
        {
          "output_type": "execute_result",
          "data": {
            "text/plain": [
              "Ttest_indResult(statistic=23.21277691701378, pvalue=2.0703402795404463e-77)"
            ]
          },
          "metadata": {
            "tags": []
          },
          "execution_count": 24
        }
      ]
    },
    {
      "cell_type": "markdown",
      "metadata": {
        "id": "NZmC0EOPNbcg",
        "colab_type": "text"
      },
      "source": [
        "### Goal 3\n",
        "Using hypothesis testing, find an issue that republicans support more than democrats with p < 0.01"
      ]
    },
    {
      "cell_type": "markdown",
      "metadata": {
        "id": "GSo6DeuVOk5J",
        "colab_type": "text"
      },
      "source": [
        "#### Run Tests\n",
        "Running ttests on all bills that have more Republican votes than Democrate votes:"
      ]
    },
    {
      "cell_type": "code",
      "metadata": {
        "id": "tWDCAtbdIpcT",
        "colab_type": "code",
        "colab": {
          "base_uri": "https://localhost:8080/",
          "height": 185
        },
        "outputId": "d3605e32-7501-4972-f2ae-6306a3c93a4d"
      },
      "source": [
        "# Value counts and means of votes on El-Salvador-Aid:\n",
        "print (dem['El-Salvador-Aid'].value_counts())\n",
        "print (rep['El-Salvador-Aid'].value_counts())\n",
        "print ('')\n",
        "print ('Average of yes votes on El-Salvador-Aid:')\n",
        "print ('Dems:', dem['El-Salvador-Aid'].mean())\n",
        "print ('Reps', rep['El-Salvador-Aid'].mean())"
      ],
      "execution_count": 25,
      "outputs": [
        {
          "output_type": "stream",
          "text": [
            "0.0    200\n",
            "1.0     55\n",
            "Name: El-Salvador-Aid, dtype: int64\n",
            "1.0    157\n",
            "0.0      8\n",
            "Name: El-Salvador-Aid, dtype: int64\n",
            "\n",
            "Average of yes votes on El-Salvador-Aid:\n",
            "Dems: 0.21568627450980393\n",
            "Reps 0.9515151515151515\n"
          ],
          "name": "stdout"
        }
      ]
    },
    {
      "cell_type": "code",
      "metadata": {
        "id": "VUbDCe5_aIqh",
        "colab_type": "code",
        "outputId": "e0132ad4-e7cd-4351-da0e-ea5223f87029",
        "colab": {
          "base_uri": "https://localhost:8080/",
          "height": 34
        }
      },
      "source": [
        "# Run ttest on El-Salvador-Aid:\n",
        "ttest_ind(dem['El-Salvador-Aid'], rep['El-Salvador-Aid'], nan_policy='omit')"
      ],
      "execution_count": 26,
      "outputs": [
        {
          "output_type": "execute_result",
          "data": {
            "text/plain": [
              "Ttest_indResult(statistic=-21.13669261173219, pvalue=5.600520111729011e-68)"
            ]
          },
          "metadata": {
            "tags": []
          },
          "execution_count": 26
        }
      ]
    },
    {
      "cell_type": "code",
      "metadata": {
        "id": "gPY0RgHHJHFD",
        "colab_type": "code",
        "colab": {
          "base_uri": "https://localhost:8080/",
          "height": 185
        },
        "outputId": "f5b9a359-9b9b-45f7-c761-5e161d359e1b"
      },
      "source": [
        "# Value counts and means of votes on Religious-Groups:\n",
        "print (dem['Religious-Groups'].value_counts())\n",
        "print (rep['Religious-Groups'].value_counts())\n",
        "print ('')\n",
        "print ('Average of yes votes on Religious-Groups:')\n",
        "print ('Dems:', dem['Religious-Groups'].mean())\n",
        "print ('Reps', rep['Religious-Groups'].mean())"
      ],
      "execution_count": 27,
      "outputs": [
        {
          "output_type": "stream",
          "text": [
            "0.0    135\n",
            "1.0    123\n",
            "Name: Religious-Groups, dtype: int64\n",
            "1.0    149\n",
            "0.0     17\n",
            "Name: Religious-Groups, dtype: int64\n",
            "\n",
            "Average of yes votes on Religious-Groups:\n",
            "Dems: 0.47674418604651164\n",
            "Reps 0.8975903614457831\n"
          ],
          "name": "stdout"
        }
      ]
    },
    {
      "cell_type": "code",
      "metadata": {
        "id": "ig0xF6z7aIjb",
        "colab_type": "code",
        "outputId": "bc835d11-3bba-40ab-dd79-2fb886d77671",
        "colab": {
          "base_uri": "https://localhost:8080/",
          "height": 34
        }
      },
      "source": [
        "# Run ttest on Religious-Groups:\n",
        "ttest_ind(dem['Religious-Groups'], rep['Religious-Groups'], nan_policy='omit')"
      ],
      "execution_count": 28,
      "outputs": [
        {
          "output_type": "execute_result",
          "data": {
            "text/plain": [
              "Ttest_indResult(statistic=-9.737575825219457, pvalue=2.3936722520597287e-20)"
            ]
          },
          "metadata": {
            "tags": []
          },
          "execution_count": 28
        }
      ]
    },
    {
      "cell_type": "code",
      "metadata": {
        "colab_type": "code",
        "outputId": "16d91769-0120-4aac-a030-f94dea02865c",
        "id": "7gPrkH4BKGV9",
        "colab": {
          "base_uri": "https://localhost:8080/",
          "height": 185
        }
      },
      "source": [
        "# Value counts and means of votes on Immigration:\n",
        "print (dem['Immigration'].value_counts())\n",
        "print (rep['Immigration'].value_counts())\n",
        "print ('')\n",
        "print ('Average of yes votes on Immigration:')\n",
        "print ('Dems:', dem['Immigration'].mean())\n",
        "print ('Reps', rep['Immigration'].mean())"
      ],
      "execution_count": 29,
      "outputs": [
        {
          "output_type": "stream",
          "text": [
            "0.0    139\n",
            "1.0    124\n",
            "Name: Immigration, dtype: int64\n",
            "1.0    92\n",
            "0.0    73\n",
            "Name: Immigration, dtype: int64\n",
            "\n",
            "Average of yes votes on Immigration:\n",
            "Dems: 0.4714828897338403\n",
            "Reps 0.5575757575757576\n"
          ],
          "name": "stdout"
        }
      ]
    },
    {
      "cell_type": "code",
      "metadata": {
        "colab_type": "code",
        "outputId": "1ab2d62e-cee5-4871-9726-6707d1181c86",
        "id": "EFAmBKevNBcg",
        "colab": {
          "base_uri": "https://localhost:8080/",
          "height": 34
        }
      },
      "source": [
        "# Run ttest on Immigration:\n",
        "ttest_ind(dem['Immigration'], rep['Immigration'], nan_policy='omit')"
      ],
      "execution_count": 30,
      "outputs": [
        {
          "output_type": "execute_result",
          "data": {
            "text/plain": [
              "Ttest_indResult(statistic=-1.7359117329695164, pvalue=0.08330248490425066)"
            ]
          },
          "metadata": {
            "tags": []
          },
          "execution_count": 30
        }
      ]
    },
    {
      "cell_type": "code",
      "metadata": {
        "id": "4oS_qyDzt7R4",
        "colab_type": "code",
        "outputId": "71a339c2-f2b7-4d90-de57-fe7c84096eab",
        "colab": {
          "base_uri": "https://localhost:8080/",
          "height": 185
        }
      },
      "source": [
        "# Value counts and means of votes on Education:\n",
        "print (dem['Education'].value_counts())\n",
        "print (rep['Education'].value_counts())\n",
        "print ('')\n",
        "print ('Average of yes votes on Education:')\n",
        "print ('Dems:', dem['Education'].mean())\n",
        "print ('Reps', rep['Education'].mean())"
      ],
      "execution_count": 31,
      "outputs": [
        {
          "output_type": "stream",
          "text": [
            "0.0    213\n",
            "1.0     36\n",
            "Name: Education, dtype: int64\n",
            "1.0    135\n",
            "0.0     20\n",
            "Name: Education, dtype: int64\n",
            "\n",
            "Average of yes votes on Education:\n",
            "Dems: 0.14457831325301204\n",
            "Reps 0.8709677419354839\n"
          ],
          "name": "stdout"
        }
      ]
    },
    {
      "cell_type": "code",
      "metadata": {
        "id": "AwiG6fpchw9f",
        "colab_type": "code",
        "outputId": "f09572be-9391-44c1-a123-bd9d400b7c56",
        "colab": {
          "base_uri": "https://localhost:8080/",
          "height": 34
        }
      },
      "source": [
        "# Run ttest on Education:\n",
        "ttest_ind(dem['Education'], rep['Education'], nan_policy='omit')"
      ],
      "execution_count": 32,
      "outputs": [
        {
          "output_type": "execute_result",
          "data": {
            "text/plain": [
              "Ttest_indResult(statistic=-20.500685724563073, pvalue=1.8834203990450192e-64)"
            ]
          },
          "metadata": {
            "tags": []
          },
          "execution_count": 32
        }
      ]
    },
    {
      "cell_type": "code",
      "metadata": {
        "id": "MbxzV84nt7O-",
        "colab_type": "code",
        "outputId": "013b7ba4-f316-4261-8e64-25c5fdae9b4d",
        "colab": {
          "base_uri": "https://localhost:8080/",
          "height": 185
        }
      },
      "source": [
        "# Value counts and means of votes on Right-to-Sue:\n",
        "print (dem['Right-to-Sue'].value_counts())\n",
        "print (rep['Right-to-Sue'].value_counts())\n",
        "print ('')\n",
        "print ('Average of yes votes on Right-to-Sue:')\n",
        "print ('Dems:', dem['Right-to-Sue'].mean())\n",
        "print ('Reps', rep['Right-to-Sue'].mean())"
      ],
      "execution_count": 33,
      "outputs": [
        {
          "output_type": "stream",
          "text": [
            "0.0    179\n",
            "1.0     73\n",
            "Name: Right-to-Sue, dtype: int64\n",
            "1.0    136\n",
            "0.0     22\n",
            "Name: Right-to-Sue, dtype: int64\n",
            "\n",
            "Average of yes votes on Right-to-Sue:\n",
            "Dems: 0.2896825396825397\n",
            "Reps 0.8607594936708861\n"
          ],
          "name": "stdout"
        }
      ]
    },
    {
      "cell_type": "code",
      "metadata": {
        "id": "LO7VXejdhw7d",
        "colab_type": "code",
        "outputId": "e0f4c69e-8d7e-4b96-9b9c-e8c96de50c61",
        "colab": {
          "base_uri": "https://localhost:8080/",
          "height": 34
        }
      },
      "source": [
        "# Run ttest on Right-to-Sue:\n",
        "ttest_ind(dem['Right-to-Sue'], rep['Right-to-Sue'], nan_policy='omit')"
      ],
      "execution_count": 34,
      "outputs": [
        {
          "output_type": "execute_result",
          "data": {
            "text/plain": [
              "Ttest_indResult(statistic=-13.51064251060933, pvalue=1.2278581709672758e-34)"
            ]
          },
          "metadata": {
            "tags": []
          },
          "execution_count": 34
        }
      ]
    },
    {
      "cell_type": "code",
      "metadata": {
        "id": "Oz1b5kxkt7MQ",
        "colab_type": "code",
        "outputId": "3cf80366-52bb-4498-f1ea-b1108bf0d60b",
        "colab": {
          "base_uri": "https://localhost:8080/",
          "height": 185
        }
      },
      "source": [
        "# Value counts and means of votes on Crime:\n",
        "print (dem['Crime'].value_counts())\n",
        "print (rep['Crime'].value_counts())\n",
        "print ('')\n",
        "print ('Average of yes votes on Crime:')\n",
        "print ('Dems:', dem['Crime'].mean())\n",
        "print ('Reps', rep['Crime'].mean())"
      ],
      "execution_count": 35,
      "outputs": [
        {
          "output_type": "stream",
          "text": [
            "0.0    167\n",
            "1.0     90\n",
            "Name: Crime, dtype: int64\n",
            "1.0    158\n",
            "0.0      3\n",
            "Name: Crime, dtype: int64\n",
            "\n",
            "Average of yes votes on Crime:\n",
            "Dems: 0.35019455252918286\n",
            "Reps 0.9813664596273292\n"
          ],
          "name": "stdout"
        }
      ]
    },
    {
      "cell_type": "code",
      "metadata": {
        "id": "ePM2Rh-vhw4q",
        "colab_type": "code",
        "outputId": "de860eb0-4b86-40cc-da85-60a6e1e953ef",
        "colab": {
          "base_uri": "https://localhost:8080/",
          "height": 34
        }
      },
      "source": [
        "# Run ttest on Crime:\n",
        "ttest_ind(dem['Crime'], rep['Crime'], nan_policy='omit')"
      ],
      "execution_count": 36,
      "outputs": [
        {
          "output_type": "execute_result",
          "data": {
            "text/plain": [
              "Ttest_indResult(statistic=-16.342085656197696, pvalue=9.952342705606092e-47)"
            ]
          },
          "metadata": {
            "tags": []
          },
          "execution_count": 36
        }
      ]
    },
    {
      "cell_type": "markdown",
      "metadata": {
        "id": "h6a8SwpEOqn_",
        "colab_type": "text"
      },
      "source": [
        "#### Result\n",
        "The Physician-Fee-Freeze bill received the Highest number of yes votes from Republicans and it has a pvalue < 0.01"
      ]
    },
    {
      "cell_type": "code",
      "metadata": {
        "id": "Dtonnwa0kPJz",
        "colab_type": "code",
        "colab": {
          "base_uri": "https://localhost:8080/",
          "height": 185
        },
        "outputId": "e634ead3-7e72-44c1-fa2a-6d1185bc284b"
      },
      "source": [
        "# Value counts and means of votes on Physician-Fee-Freeze:\n",
        "print (dem['Physician-Fee-Freeze'].value_counts())\n",
        "print (rep['Physician-Fee-Freeze'].value_counts())\n",
        "print ('')\n",
        "print ('Average of yes votes on Physician-Fee-Freeze:')\n",
        "print ('Dems:', dem['Physician-Fee-Freeze'].mean())\n",
        "print ('Reps:', rep['Physician-Fee-Freeze'].mean())"
      ],
      "execution_count": 37,
      "outputs": [
        {
          "output_type": "stream",
          "text": [
            "0.0    245\n",
            "1.0     14\n",
            "Name: Physician-Fee-Freeze, dtype: int64\n",
            "1.0    163\n",
            "0.0      2\n",
            "Name: Physician-Fee-Freeze, dtype: int64\n",
            "\n",
            "Average of yes votes on Physician-Fee-Freeze:\n",
            "Dems: 0.05405405405405406\n",
            "Reps: 0.9878787878787879\n"
          ],
          "name": "stdout"
        }
      ]
    },
    {
      "cell_type": "code",
      "metadata": {
        "id": "JQ2oCyyMaIvg",
        "colab_type": "code",
        "outputId": "210b535c-55e1-43ee-ccf8-484f338070e0",
        "colab": {
          "base_uri": "https://localhost:8080/",
          "height": 34
        }
      },
      "source": [
        "# Run ttest on Physician-Fee-Freeze:\n",
        "ttest_ind(dem['Physician-Fee-Freeze'], rep['Physician-Fee-Freeze'], nan_policy='omit')"
      ],
      "execution_count": 38,
      "outputs": [
        {
          "output_type": "execute_result",
          "data": {
            "text/plain": [
              "Ttest_indResult(statistic=-49.36708157301406, pvalue=1.994262314074344e-177)"
            ]
          },
          "metadata": {
            "tags": []
          },
          "execution_count": 38
        }
      ]
    },
    {
      "cell_type": "markdown",
      "metadata": {
        "id": "2NrP8-o8Nmkx",
        "colab_type": "text"
      },
      "source": [
        "### Goal 4\n",
        "Using hypothesis testing, find an issue where the difference between republicans and democrats has p > 0.1 (i.e. there may not be much of a difference)"
      ]
    },
    {
      "cell_type": "markdown",
      "metadata": {
        "id": "tEGjPp4bPMH4",
        "colab_type": "text"
      },
      "source": [
        "The Water-Project was split down the middle on the votes and has a pvalue > 0.1"
      ]
    },
    {
      "cell_type": "code",
      "metadata": {
        "id": "o_VxxqRCzr99",
        "colab_type": "code",
        "colab": {
          "base_uri": "https://localhost:8080/",
          "height": 185
        },
        "outputId": "9eb66165-a348-4451-d071-48469603145b"
      },
      "source": [
        "# Value counts of 'yes' votes on Water-Project:\n",
        "print (dem['Water-Project'].value_counts())\n",
        "print (rep['Water-Project'].value_counts())\n",
        "print ('')\n",
        "print ('Average of yes votes on Water-Project:')\n",
        "print ('Dems:', dem['Water-Project'].mean())\n",
        "print ('Reps:', rep['Water-Project'].mean())"
      ],
      "execution_count": 39,
      "outputs": [
        {
          "output_type": "stream",
          "text": [
            "1.0    120\n",
            "0.0    119\n",
            "Name: Water-Project, dtype: int64\n",
            "1.0    75\n",
            "0.0    73\n",
            "Name: Water-Project, dtype: int64\n",
            "\n",
            "Average of yes votes on Water-Project:\n",
            "Dems: 0.502092050209205\n",
            "Reps: 0.5067567567567568\n"
          ],
          "name": "stdout"
        }
      ]
    },
    {
      "cell_type": "code",
      "metadata": {
        "id": "IPC-x_JmaI4K",
        "colab_type": "code",
        "outputId": "c43afba5-0e4b-4e29-b471-0958dcdb9916",
        "colab": {
          "base_uri": "https://localhost:8080/",
          "height": 34
        }
      },
      "source": [
        "# Run ttest on Water-Project:\n",
        "ttest_ind(dem['Water-Project'], rep['Water-Project'], nan_policy='omit')"
      ],
      "execution_count": 0,
      "outputs": [
        {
          "output_type": "execute_result",
          "data": {
            "text/plain": [
              "Ttest_indResult(statistic=-0.08896538137868286, pvalue=0.9291556823993485)"
            ]
          },
          "metadata": {
            "tags": []
          },
          "execution_count": 44
        }
      ]
    },
    {
      "cell_type": "markdown",
      "metadata": {
        "id": "wcA_AvvRAqW_",
        "colab_type": "text"
      },
      "source": [
        "## Stretch Goals:\n",
        "\n",
        "1. Refactor your code into functions so it's easy to rerun with arbitrary variables\n",
        "2. Work on Performing a T-test without using Scipy in order to get \"under the hood\" and learn more thoroughly about this topic.\n",
        "### Start with a 1-sample t-test\n",
        " - Establish the conditions for your test \n",
        " - [Calculate the T Statistic](https://blog.minitab.com/hs-fs/hubfs/Imported_Blog_Media/701f9c0efa98a38fb397f3c3ec459b66.png?width=247&height=172&name=701f9c0efa98a38fb397f3c3ec459b66.png) (You'll need to omit NaN values from your sample).\n",
        " - Translate that t-statistic into a P-value. You can use a [table](https://www.google.com/search?q=t+statistic+table) or the [University of Iowa Applet](https://homepage.divms.uiowa.edu/~mbognar/applets/t.html)\n",
        "\n",
        " ### Then try a 2-sample t-test\n",
        " - Establish the conditions for your test \n",
        " - [Calculate the T Statistic](https://lh3.googleusercontent.com/proxy/rJJ5ZOL9ZDvKOOeBihXoZDgfk7uv1YsRzSQ1Tc10RX-r2HrRpRLVqlE9CWX23csYQXcTniFwlBg3H-qR8MKJPBGnjwndqlhDX3JxoDE5Yg) (You'll need to omit NaN values from your sample).\n",
        " - Translate that t-statistic into a P-value. You can use a [table](https://www.google.com/search?q=t+statistic+table) or the [University of Iowa Applet](https://homepage.divms.uiowa.edu/~mbognar/applets/t.html)\n",
        "\n",
        " ### Then check your Answers using Scipy!"
      ]
    },
    {
      "cell_type": "markdown",
      "metadata": {
        "id": "DZUwvtXYRGzf",
        "colab_type": "text"
      },
      "source": [
        "### First\n",
        "1. Refactor your code into functions so it's easy to rerun with arbitrary variables.\n",
        "\n",
        "2. Work on Performing a T-test without using Scipy in order to get \"under the hood\" and learn more thoroughly about this topic."
      ]
    },
    {
      "cell_type": "code",
      "metadata": {
        "id": "dPmXOHh1Cfea",
        "colab_type": "code",
        "colab": {
          "base_uri": "https://localhost:8080/",
          "height": 128
        },
        "outputId": "375449d8-2aab-4052-bdd7-f9f34d33c359"
      },
      "source": [
        "# Create a function to return the results of Value counts and means of votes:\n",
        "def val_mean (col):\n",
        "  while: \n",
        "    (df['col'] == dem['col'])\n",
        "    print (dem['col'].value_counts())\n",
        "  while:\n",
        "    (df['col'] == (rep['col'])\n",
        "    print (rep['col'].value_counts())\n",
        "  print ('')\n",
        "  print ('Average of yes votes on (col):')\n",
        "  while (df['col'] == (dem['col']):\n",
        "    print ('Dems:', dem['col'].mean())\n",
        "  while (df['col'] == (rep['col']):\n",
        "    print ('Reps:', rep['col'].mean())"
      ],
      "execution_count": 44,
      "outputs": [
        {
          "output_type": "error",
          "ename": "SyntaxError",
          "evalue": "ignored",
          "traceback": [
            "\u001b[0;36m  File \u001b[0;32m\"<ipython-input-44-41cb3669acc7>\"\u001b[0;36m, line \u001b[0;32m5\u001b[0m\n\u001b[0;31m    while (df['col'] == (rep['col']):\u001b[0m\n\u001b[0m                                    ^\u001b[0m\n\u001b[0;31mSyntaxError\u001b[0m\u001b[0;31m:\u001b[0m invalid syntax\n"
          ]
        }
      ]
    },
    {
      "cell_type": "markdown",
      "metadata": {
        "id": "e0P9y8KqRijv",
        "colab_type": "text"
      },
      "source": [
        "### 1-sample t-test\n",
        "\n",
        "- Establish the conditions for your test \n",
        " - [Calculate the T Statistic](https://blog.minitab.com/hs-fs/hubfs/Imported_Blog_Media/701f9c0efa98a38fb397f3c3ec459b66.png?width=247&height=172&name=701f9c0efa98a38fb397f3c3ec459b66.png) (You'll need to omit NaN values from your sample).\n",
        " - Translate that t-statistic into a P-value. You can use a [table](https://www.google.com/search?q=t+statistic+table) or the [University of Iowa Applet](https://homepage.divms.uiowa.edu/~mbognar/applets/t.html)"
      ]
    },
    {
      "cell_type": "code",
      "metadata": {
        "id": "0nwizmouRzjJ",
        "colab_type": "code",
        "colab": {}
      },
      "source": [
        ""
      ],
      "execution_count": 0,
      "outputs": []
    },
    {
      "cell_type": "markdown",
      "metadata": {
        "id": "UbOw3pI-R0Yi",
        "colab_type": "text"
      },
      "source": [
        "### 2-sample t-test\n",
        " - Establish the conditions for your test \n",
        " - [Calculate the T Statistic](https://lh3.googleusercontent.com/proxy/rJJ5ZOL9ZDvKOOeBihXoZDgfk7uv1YsRzSQ1Tc10RX-r2HrRpRLVqlE9CWX23csYQXcTniFwlBg3H-qR8MKJPBGnjwndqlhDX3JxoDE5Yg) (You'll need to omit NaN values from your sample).\n",
        " - Translate that t-statistic into a P-value. You can use a [table](https://www.google.com/search?q=t+statistic+table) or the [University of Iowa Applet](https://homepage.divms.uiowa.edu/~mbognar/applets/t.html)"
      ]
    },
    {
      "cell_type": "code",
      "metadata": {
        "id": "hZ7VA4MQR7pf",
        "colab_type": "code",
        "colab": {}
      },
      "source": [
        ""
      ],
      "execution_count": 0,
      "outputs": []
    },
    {
      "cell_type": "markdown",
      "metadata": {
        "id": "tBRZDGg9SISb",
        "colab_type": "text"
      },
      "source": [
        "### Check your Answers \n",
        "Check your answers using Scipy!"
      ]
    },
    {
      "cell_type": "code",
      "metadata": {
        "id": "hGmJ7yMmSSfb",
        "colab_type": "code",
        "colab": {}
      },
      "source": [
        ""
      ],
      "execution_count": 0,
      "outputs": []
    }
  ]
}