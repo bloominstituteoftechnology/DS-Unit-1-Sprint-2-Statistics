{
  "nbformat": 4,
  "nbformat_minor": 0,
  "metadata": {
    "kernelspec": {
      "display_name": "Python 3",
      "language": "python",
      "name": "python3"
    },
    "language_info": {
      "codemirror_mode": {
        "name": "ipython",
        "version": 3
      },
      "file_extension": ".py",
      "mimetype": "text/x-python",
      "name": "python",
      "nbconvert_exporter": "python",
      "pygments_lexer": "ipython3",
      "version": "3.7.3"
    },
    "colab": {
      "name": "LS_DS_121_Statistics_Probability_Assignment.ipynb",
      "provenance": []
    }
  },
  "cells": [
    {
      "cell_type": "markdown",
      "metadata": {
        "id": "Sa5KWMO1ngPN",
        "colab_type": "text"
      },
      "source": [
        "<img align=\"left\" src=\"https://lever-client-logos.s3.amazonaws.com/864372b1-534c-480e-acd5-9711f850815c-1524247202159.png\" width=200>\n",
        "<br></br>\n",
        "<br></br>\n",
        "\n",
        "## *Data Science Unit 1 Sprint 2 Assignment 1*\n",
        "\n",
        "# Apply the t-test to real data\n",
        "\n",
        "Your assignment is to determine which issues have \"statistically significant\" differences between political parties in this [1980s congressional voting data](https://archive.ics.uci.edu/ml/datasets/Congressional+Voting+Records). The data consists of 435 instances (one for each congressperson), a class (democrat or republican), and 16 binary attributes (yes or no for voting for or against certain issues). Be aware - there are missing values!\n",
        "\n",
        "Your goals:\n",
        "\n",
        "1. Load and clean the data (or determine the best method to drop observations when running tests)\n",
        "2. Using hypothesis testing, find an issue that democrats support more than republicans with p < 0.01\n",
        "3. Using hypothesis testing, find an issue that republicans support more than democrats with p < 0.01\n",
        "4. Using hypothesis testing, find an issue where the difference between republicans and democrats has p > 0.1 (i.e. there may not be much of a difference)\n",
        "\n",
        "Note that this data will involve *2 sample* t-tests, because you're comparing averages across two groups (republicans and democrats) rather than a single group against a null hypothesis.\n",
        "\n",
        "Stretch goals:\n",
        "\n",
        "1. Refactor your code into functions so it's easy to rerun with arbitrary variables\n",
        "2. Apply hypothesis testing to your personal project data (for the purposes of this notebook you can type a summary of the hypothesis you formed and tested)"
      ]
    },
    {
      "cell_type": "code",
      "metadata": {
        "id": "ZKwspo2CngPP",
        "colab_type": "code",
        "outputId": "1bb5f9fb-1c7f-48ba-9c0e-3ea8a5a746e0",
        "colab": {
          "base_uri": "https://localhost:8080/",
          "height": 292
        }
      },
      "source": [
        "import pandas as pd\n",
        "import numpy as np\n",
        "import seaborn as sns\n",
        "\n",
        "url = \"https://archive.ics.uci.edu/ml/machine-learning-databases/voting-records/house-votes-84.data\"\n",
        "\n",
        "cols = [\"Class Name\", \"handicapped-infants\", \"water-project-cost-sharing\",\n",
        "        \"adoption-of-the-budget-resolution\", \"physician-fee-freeze\", \n",
        "        \"el-salvador-aid\", \"religious-groups-in-schools\",\n",
        "        \"anti-satellite-test-ban\", \"aid-to-nicaraguan-contras\", \"mx-missile\",\n",
        "        \"immigration\", \"synfuels-corporation-cutback\", \"education-spending\",\n",
        "        \"superfund-right-to-sue\", \"crime\", \"duty-free-exports\",\n",
        "        \"export-administration-act-south-africa\"]\n",
        "\n",
        "df = pd.read_csv(url, header=None, names=cols, na_values='?')\n",
        "print(df.shape)\n",
        "df.head()"
      ],
      "execution_count": 1,
      "outputs": [
        {
          "output_type": "stream",
          "text": [
            "(435, 17)\n"
          ],
          "name": "stdout"
        },
        {
          "output_type": "execute_result",
          "data": {
            "text/html": [
              "<div>\n",
              "<style scoped>\n",
              "    .dataframe tbody tr th:only-of-type {\n",
              "        vertical-align: middle;\n",
              "    }\n",
              "\n",
              "    .dataframe tbody tr th {\n",
              "        vertical-align: top;\n",
              "    }\n",
              "\n",
              "    .dataframe thead th {\n",
              "        text-align: right;\n",
              "    }\n",
              "</style>\n",
              "<table border=\"1\" class=\"dataframe\">\n",
              "  <thead>\n",
              "    <tr style=\"text-align: right;\">\n",
              "      <th></th>\n",
              "      <th>Class Name</th>\n",
              "      <th>handicapped-infants</th>\n",
              "      <th>water-project-cost-sharing</th>\n",
              "      <th>adoption-of-the-budget-resolution</th>\n",
              "      <th>physician-fee-freeze</th>\n",
              "      <th>el-salvador-aid</th>\n",
              "      <th>religious-groups-in-schools</th>\n",
              "      <th>anti-satellite-test-ban</th>\n",
              "      <th>aid-to-nicaraguan-contras</th>\n",
              "      <th>mx-missile</th>\n",
              "      <th>immigration</th>\n",
              "      <th>synfuels-corporation-cutback</th>\n",
              "      <th>education-spending</th>\n",
              "      <th>superfund-right-to-sue</th>\n",
              "      <th>crime</th>\n",
              "      <th>duty-free-exports</th>\n",
              "      <th>export-administration-act-south-africa</th>\n",
              "    </tr>\n",
              "  </thead>\n",
              "  <tbody>\n",
              "    <tr>\n",
              "      <th>0</th>\n",
              "      <td>republican</td>\n",
              "      <td>n</td>\n",
              "      <td>y</td>\n",
              "      <td>n</td>\n",
              "      <td>y</td>\n",
              "      <td>y</td>\n",
              "      <td>y</td>\n",
              "      <td>n</td>\n",
              "      <td>n</td>\n",
              "      <td>n</td>\n",
              "      <td>y</td>\n",
              "      <td>NaN</td>\n",
              "      <td>y</td>\n",
              "      <td>y</td>\n",
              "      <td>y</td>\n",
              "      <td>n</td>\n",
              "      <td>y</td>\n",
              "    </tr>\n",
              "    <tr>\n",
              "      <th>1</th>\n",
              "      <td>republican</td>\n",
              "      <td>n</td>\n",
              "      <td>y</td>\n",
              "      <td>n</td>\n",
              "      <td>y</td>\n",
              "      <td>y</td>\n",
              "      <td>y</td>\n",
              "      <td>n</td>\n",
              "      <td>n</td>\n",
              "      <td>n</td>\n",
              "      <td>n</td>\n",
              "      <td>n</td>\n",
              "      <td>y</td>\n",
              "      <td>y</td>\n",
              "      <td>y</td>\n",
              "      <td>n</td>\n",
              "      <td>NaN</td>\n",
              "    </tr>\n",
              "    <tr>\n",
              "      <th>2</th>\n",
              "      <td>democrat</td>\n",
              "      <td>NaN</td>\n",
              "      <td>y</td>\n",
              "      <td>y</td>\n",
              "      <td>NaN</td>\n",
              "      <td>y</td>\n",
              "      <td>y</td>\n",
              "      <td>n</td>\n",
              "      <td>n</td>\n",
              "      <td>n</td>\n",
              "      <td>n</td>\n",
              "      <td>y</td>\n",
              "      <td>n</td>\n",
              "      <td>y</td>\n",
              "      <td>y</td>\n",
              "      <td>n</td>\n",
              "      <td>n</td>\n",
              "    </tr>\n",
              "    <tr>\n",
              "      <th>3</th>\n",
              "      <td>democrat</td>\n",
              "      <td>n</td>\n",
              "      <td>y</td>\n",
              "      <td>y</td>\n",
              "      <td>n</td>\n",
              "      <td>NaN</td>\n",
              "      <td>y</td>\n",
              "      <td>n</td>\n",
              "      <td>n</td>\n",
              "      <td>n</td>\n",
              "      <td>n</td>\n",
              "      <td>y</td>\n",
              "      <td>n</td>\n",
              "      <td>y</td>\n",
              "      <td>n</td>\n",
              "      <td>n</td>\n",
              "      <td>y</td>\n",
              "    </tr>\n",
              "    <tr>\n",
              "      <th>4</th>\n",
              "      <td>democrat</td>\n",
              "      <td>y</td>\n",
              "      <td>y</td>\n",
              "      <td>y</td>\n",
              "      <td>n</td>\n",
              "      <td>y</td>\n",
              "      <td>y</td>\n",
              "      <td>n</td>\n",
              "      <td>n</td>\n",
              "      <td>n</td>\n",
              "      <td>n</td>\n",
              "      <td>y</td>\n",
              "      <td>NaN</td>\n",
              "      <td>y</td>\n",
              "      <td>y</td>\n",
              "      <td>y</td>\n",
              "      <td>y</td>\n",
              "    </tr>\n",
              "  </tbody>\n",
              "</table>\n",
              "</div>"
            ],
            "text/plain": [
              "   Class Name  ... export-administration-act-south-africa\n",
              "0  republican  ...                                      y\n",
              "1  republican  ...                                    NaN\n",
              "2    democrat  ...                                      n\n",
              "3    democrat  ...                                      y\n",
              "4    democrat  ...                                      y\n",
              "\n",
              "[5 rows x 17 columns]"
            ]
          },
          "metadata": {
            "tags": []
          },
          "execution_count": 1
        }
      ]
    },
    {
      "cell_type": "code",
      "metadata": {
        "id": "MhTuRH9WMRgV",
        "colab_type": "code",
        "colab": {}
      },
      "source": [
        "df = df.replace({'y':1, 'n':0})"
      ],
      "execution_count": 0,
      "outputs": []
    },
    {
      "cell_type": "code",
      "metadata": {
        "id": "MqqHpr8RQhBF",
        "colab_type": "code",
        "colab": {}
      },
      "source": [
        "reps = df[df['Class Name'] == 'republican']\n",
        "dems = df[df['Class Name'] == 'democrat']"
      ],
      "execution_count": 0,
      "outputs": []
    },
    {
      "cell_type": "code",
      "metadata": {
        "id": "CKOZhVFdV6a9",
        "colab_type": "code",
        "outputId": "667d194f-5dc1-4406-8965-e58deaa58b3f",
        "colab": {
          "base_uri": "https://localhost:8080/",
          "height": 170
        }
      },
      "source": [
        "print(reps.head())\n",
        "reps.shape"
      ],
      "execution_count": 4,
      "outputs": [
        {
          "output_type": "stream",
          "text": [
            "    Class Name  ...  export-administration-act-south-africa\n",
            "0   republican  ...                                     1.0\n",
            "1   republican  ...                                     NaN\n",
            "7   republican  ...                                     1.0\n",
            "8   republican  ...                                     1.0\n",
            "10  republican  ...                                     0.0\n",
            "\n",
            "[5 rows x 17 columns]\n"
          ],
          "name": "stdout"
        },
        {
          "output_type": "execute_result",
          "data": {
            "text/plain": [
              "(168, 17)"
            ]
          },
          "metadata": {
            "tags": []
          },
          "execution_count": 4
        }
      ]
    },
    {
      "cell_type": "code",
      "metadata": {
        "id": "efzncEuwUvXW",
        "colab_type": "code",
        "outputId": "acbfcb98-54dd-47c2-baa2-6411cb4a253b",
        "colab": {
          "base_uri": "https://localhost:8080/",
          "height": 170
        }
      },
      "source": [
        "print(dems.head())\n",
        "dems.shape"
      ],
      "execution_count": 5,
      "outputs": [
        {
          "output_type": "stream",
          "text": [
            "  Class Name  ...  export-administration-act-south-africa\n",
            "2   democrat  ...                                     0.0\n",
            "3   democrat  ...                                     1.0\n",
            "4   democrat  ...                                     1.0\n",
            "5   democrat  ...                                     1.0\n",
            "6   democrat  ...                                     1.0\n",
            "\n",
            "[5 rows x 17 columns]\n"
          ],
          "name": "stdout"
        },
        {
          "output_type": "execute_result",
          "data": {
            "text/plain": [
              "(267, 17)"
            ]
          },
          "metadata": {
            "tags": []
          },
          "execution_count": 5
        }
      ]
    },
    {
      "cell_type": "markdown",
      "metadata": {
        "id": "7d9Bx3yGTywD",
        "colab_type": "text"
      },
      "source": [
        "## Using hypothesis testing, find an issue that democrats support more than republicans with p < 0.01"
      ]
    },
    {
      "cell_type": "code",
      "metadata": {
        "id": "4mdyx2PFW0zh",
        "colab_type": "code",
        "colab": {}
      },
      "source": [
        "from scipy.stats import ttest_ind as tind\n",
        "\n",
        "issues = [\"handicapped-infants\", \"water-project-cost-sharing\",\n",
        "        \"adoption-of-the-budget-resolution\", \"physician-fee-freeze\", \n",
        "        \"el-salvador-aid\", \"religious-groups-in-schools\",\n",
        "        \"anti-satellite-test-ban\", \"aid-to-nicaraguan-contras\", \"mx-missile\",\n",
        "        \"immigration\", \"synfuels-corporation-cutback\", \"education-spending\",\n",
        "        \"superfund-right-to-sue\", \"crime\", \"duty-free-exports\",\n",
        "        \"export-administration-act-south-africa\"]\n",
        "\n",
        "dem_supported = []\n",
        "for issue in issues:\n",
        "    # if there are more dem yes votes than rep yes votes\n",
        "    if ((dems[issue].sum() > reps[issue].sum()) & (\n",
        "        # and it's by a strong majority\n",
        "        tind(dems[issue], reps[issue], nan_policy='omit').pvalue < 0.01)):\n",
        "        \n",
        "        #add it to a list\n",
        "        dem_supported.append(issue)"
      ],
      "execution_count": 0,
      "outputs": []
    },
    {
      "cell_type": "markdown",
      "metadata": {
        "id": "dSVrMAUyUKWb",
        "colab_type": "text"
      },
      "source": [
        "Democrats support the following issues more than republicans do:"
      ]
    },
    {
      "cell_type": "code",
      "metadata": {
        "id": "8tRFmoJ8UPIc",
        "colab_type": "code",
        "colab": {
          "base_uri": "https://localhost:8080/",
          "height": 153
        },
        "outputId": "290efd63-dcc7-4c2c-fe41-6cf3effd79c5"
      },
      "source": [
        "dem_supported"
      ],
      "execution_count": 7,
      "outputs": [
        {
          "output_type": "execute_result",
          "data": {
            "text/plain": [
              "['handicapped-infants',\n",
              " 'adoption-of-the-budget-resolution',\n",
              " 'anti-satellite-test-ban',\n",
              " 'aid-to-nicaraguan-contras',\n",
              " 'mx-missile',\n",
              " 'synfuels-corporation-cutback',\n",
              " 'duty-free-exports',\n",
              " 'export-administration-act-south-africa']"
            ]
          },
          "metadata": {
            "tags": []
          },
          "execution_count": 7
        }
      ]
    },
    {
      "cell_type": "markdown",
      "metadata": {
        "id": "QUEe9GgKT4Ly",
        "colab_type": "text"
      },
      "source": [
        "## Using hypothesis testing, find an issue that republicans support more than democrats with p < 0.01"
      ]
    },
    {
      "cell_type": "code",
      "metadata": {
        "id": "5PeNEEn3g8Ee",
        "colab_type": "code",
        "colab": {}
      },
      "source": [
        "# Exactly the same except '>' is now '<' and the list\n",
        "# and print statements are republican.\n",
        "rep_supported = []\n",
        "\n",
        "for issue in issues:\n",
        "    # if there are more rep yes votes than dem yes votes\n",
        "    if (dems[issue].sum() < reps[issue].sum()) & (\n",
        "        # and it was by a strong majority\n",
        "        tind(dems[issue], reps[issue], nan_policy='omit').pvalue < 0.01):\n",
        "        \n",
        "        # add it to a list.\n",
        "        rep_supported.append(issue)"
      ],
      "execution_count": 0,
      "outputs": []
    },
    {
      "cell_type": "markdown",
      "metadata": {
        "id": "3KGLjH1bUV0w",
        "colab_type": "text"
      },
      "source": [
        "Republicans support the following more than Democrats do:"
      ]
    },
    {
      "cell_type": "code",
      "metadata": {
        "id": "NFv6rNZgUbLg",
        "colab_type": "code",
        "colab": {
          "base_uri": "https://localhost:8080/",
          "height": 119
        },
        "outputId": "8f755e69-94a7-40ea-8310-78819563ea9e"
      },
      "source": [
        "rep_supported"
      ],
      "execution_count": 9,
      "outputs": [
        {
          "output_type": "execute_result",
          "data": {
            "text/plain": [
              "['physician-fee-freeze',\n",
              " 'el-salvador-aid',\n",
              " 'religious-groups-in-schools',\n",
              " 'education-spending',\n",
              " 'superfund-right-to-sue',\n",
              " 'crime']"
            ]
          },
          "metadata": {
            "tags": []
          },
          "execution_count": 9
        }
      ]
    },
    {
      "cell_type": "markdown",
      "metadata": {
        "id": "SS-KEe8CQylB",
        "colab_type": "text"
      },
      "source": [
        "## Issues where Democrats and Republicans are tied."
      ]
    },
    {
      "cell_type": "code",
      "metadata": {
        "id": "FovkkgCcb9Gz",
        "colab_type": "code",
        "outputId": "1fe00a79-475c-4dfe-f649-1199342e7b86",
        "colab": {
          "base_uri": "https://localhost:8080/",
          "height": 51
        }
      },
      "source": [
        "# Using hypothesis testing, find an issue where the difference between\n",
        "# republicans and democrats has p > 0.1\n",
        "# (i.e. there may not be much of a difference)\n",
        "for issue in issues:\n",
        "    if (tind(reps[issue], dems[issue], nan_policy='omit').pvalue > 0.01):\n",
        "        print(f'Republicans and Democrats are tied on {issue}.')"
      ],
      "execution_count": 10,
      "outputs": [
        {
          "output_type": "stream",
          "text": [
            "Republicans and Democrats are tied on water-project-cost-sharing.\n",
            "Republicans and Democrats are tied on immigration.\n"
          ],
          "name": "stdout"
        }
      ]
    },
    {
      "cell_type": "markdown",
      "metadata": {
        "id": "vW7Wt_wtQ3Pk",
        "colab_type": "text"
      },
      "source": [
        "## As a function:"
      ]
    },
    {
      "cell_type": "code",
      "metadata": {
        "id": "W4hm_dN4kabb",
        "colab_type": "code",
        "colab": {}
      },
      "source": [
        "import pandas as pd\n",
        "import numpy as np\n",
        "from scipy.stats import ttest_ind as tind\n",
        "\n",
        "def support(df, class_column, class_labels, attribute_columns, alpha):\n",
        "    \"\"\" \n",
        "    Performs a series of 2-tailed t-tests between two classes\n",
        "    along a list of attributes. Omits nan values.\n",
        "\n",
        "    - df: The dataframe containing the data for testing\n",
        "\n",
        "    - class_column: The column label in the dataframe where the class labels are located\n",
        "\n",
        "    - class_labels: A list of two class labels to compare\n",
        "\n",
        "    - attribute_columns: A list of labels containing columns to test the classes on\n",
        "\n",
        "    - alpha: The level of significance desired for ttest results.\n",
        "    \"\"\"\n",
        "    # Create subsets of the dataframe for each class\n",
        "    subsets = []\n",
        "    for label in class_labels:\n",
        "        subsets.append(df[df[class_column]==label])\n",
        "\n",
        "    # Lists to store the attribute labels when we're done\n",
        "    null_affinities = []\n",
        "    affinities = [null_affinities]\n",
        "    for x in class_labels:\n",
        "        affinities.append([])\n",
        "\n",
        "    # Start testing\n",
        "    for attribute_label in attribute_columns:\n",
        "            if (tind(subsets[0][attribute_label], subsets[1][attribute_label], nan_policy='omit').pvalue > alpha):\n",
        "                affinities[0].append(attribute_label)\n",
        "            elif (subsets[0][attribute_label].sum() > subsets[1][attribute_label].sum()):\n",
        "                affinities[1].append(attribute_label)\n",
        "            else:\n",
        "                affinities[2].append(attribute_label)\n",
        "\n",
        "    # return a list of lists showing which classes the attributes are\n",
        "    # affined with. ([0] for nulls, [1] for class_labels[0], etc.)\n",
        "    return affinities\n",
        "\n",
        "    #TODO: extend to an arbitrary number of classes and dataframes"
      ],
      "execution_count": 0,
      "outputs": []
    },
    {
      "cell_type": "code",
      "metadata": {
        "id": "TMuZmkmrswhs",
        "colab_type": "code",
        "colab": {}
      },
      "source": [
        "ttests = support(df=df, class_column='Class Name', class_labels=['democrat', 'republican'], attribute_columns=df.columns[1:], alpha=0.01)"
      ],
      "execution_count": 0,
      "outputs": []
    },
    {
      "cell_type": "code",
      "metadata": {
        "id": "2Rn6mnvoOHdg",
        "colab_type": "code",
        "colab": {
          "base_uri": "https://localhost:8080/",
          "height": 272
        },
        "outputId": "d418110a-3dcc-45d6-d66e-4082fe80df8a"
      },
      "source": [
        "ttests"
      ],
      "execution_count": 13,
      "outputs": [
        {
          "output_type": "execute_result",
          "data": {
            "text/plain": [
              "[['water-project-cost-sharing', 'immigration'],\n",
              " ['handicapped-infants',\n",
              "  'adoption-of-the-budget-resolution',\n",
              "  'anti-satellite-test-ban',\n",
              "  'aid-to-nicaraguan-contras',\n",
              "  'mx-missile',\n",
              "  'synfuels-corporation-cutback',\n",
              "  'duty-free-exports',\n",
              "  'export-administration-act-south-africa'],\n",
              " ['physician-fee-freeze',\n",
              "  'el-salvador-aid',\n",
              "  'religious-groups-in-schools',\n",
              "  'education-spending',\n",
              "  'superfund-right-to-sue',\n",
              "  'crime']]"
            ]
          },
          "metadata": {
            "tags": []
          },
          "execution_count": 13
        }
      ]
    },
    {
      "cell_type": "markdown",
      "metadata": {
        "id": "BuRCVHAJZ_AH",
        "colab_type": "text"
      },
      "source": [
        "## No difference between classes along the following attributes"
      ]
    },
    {
      "cell_type": "code",
      "metadata": {
        "id": "2fi0BYUmTgSS",
        "colab_type": "code",
        "colab": {
          "base_uri": "https://localhost:8080/",
          "height": 34
        },
        "outputId": "85a6b05e-41fd-48fd-de58-50da859423c9"
      },
      "source": [
        "ttests[0]"
      ],
      "execution_count": 14,
      "outputs": [
        {
          "output_type": "execute_result",
          "data": {
            "text/plain": [
              "['water-project-cost-sharing', 'immigration']"
            ]
          },
          "metadata": {
            "tags": []
          },
          "execution_count": 14
        }
      ]
    },
    {
      "cell_type": "markdown",
      "metadata": {
        "id": "imXKZPzjaGI2",
        "colab_type": "text"
      },
      "source": [
        "## Class 1 ('democrat') more strongly related to the following than Class 2 ('republican'):"
      ]
    },
    {
      "cell_type": "code",
      "metadata": {
        "id": "2D4o2_ayTixm",
        "colab_type": "code",
        "colab": {
          "base_uri": "https://localhost:8080/",
          "height": 153
        },
        "outputId": "e671d434-5570-48de-82c1-ae360bb1d189"
      },
      "source": [
        "ttests[1]"
      ],
      "execution_count": 15,
      "outputs": [
        {
          "output_type": "execute_result",
          "data": {
            "text/plain": [
              "['handicapped-infants',\n",
              " 'adoption-of-the-budget-resolution',\n",
              " 'anti-satellite-test-ban',\n",
              " 'aid-to-nicaraguan-contras',\n",
              " 'mx-missile',\n",
              " 'synfuels-corporation-cutback',\n",
              " 'duty-free-exports',\n",
              " 'export-administration-act-south-africa']"
            ]
          },
          "metadata": {
            "tags": []
          },
          "execution_count": 15
        }
      ]
    },
    {
      "cell_type": "markdown",
      "metadata": {
        "id": "v0ve1pt_aVt3",
        "colab_type": "text"
      },
      "source": [
        "## Class 2 more strongly related to the following than Class 1:"
      ]
    },
    {
      "cell_type": "code",
      "metadata": {
        "id": "vK_lxnbjTkDd",
        "colab_type": "code",
        "colab": {
          "base_uri": "https://localhost:8080/",
          "height": 119
        },
        "outputId": "076864b9-9e10-4cc1-bb04-9c47ac5645b2"
      },
      "source": [
        "ttests[2]"
      ],
      "execution_count": 16,
      "outputs": [
        {
          "output_type": "execute_result",
          "data": {
            "text/plain": [
              "['physician-fee-freeze',\n",
              " 'el-salvador-aid',\n",
              " 'religious-groups-in-schools',\n",
              " 'education-spending',\n",
              " 'superfund-right-to-sue',\n",
              " 'crime']"
            ]
          },
          "metadata": {
            "tags": []
          },
          "execution_count": 16
        }
      ]
    }
  ]
}