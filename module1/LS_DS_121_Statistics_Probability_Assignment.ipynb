{
  "nbformat": 4,
  "nbformat_minor": 0,
  "metadata": {
    "kernelspec": {
      "display_name": "Python 3",
      "language": "python",
      "name": "python3"
    },
    "language_info": {
      "codemirror_mode": {
        "name": "ipython",
        "version": 3
      },
      "file_extension": ".py",
      "mimetype": "text/x-python",
      "name": "python",
      "nbconvert_exporter": "python",
      "pygments_lexer": "ipython3",
      "version": "3.7.3"
    },
    "colab": {
      "name": "JenBanks_LS_DS_121_Statistics_Probability_Assignment.ipynb",
      "provenance": [],
      "include_colab_link": true
    }
  },
  "cells": [
    {
      "cell_type": "markdown",
      "metadata": {
        "id": "view-in-github",
        "colab_type": "text"
      },
      "source": [
        "<a href=\"https://colab.research.google.com/github/JenBanks8585/DS-Unit-1-Sprint-2-Statistics/blob/master/module1/LS_DS_121_Statistics_Probability_Assignment.ipynb\" target=\"_parent\"><img src=\"https://colab.research.google.com/assets/colab-badge.svg\" alt=\"Open In Colab\"/></a>"
      ]
    },
    {
      "cell_type": "markdown",
      "metadata": {
        "id": "Sa5KWMO1ngPN",
        "colab_type": "text"
      },
      "source": [
        "<img align=\"left\" src=\"https://lever-client-logos.s3.amazonaws.com/864372b1-534c-480e-acd5-9711f850815c-1524247202159.png\" width=200>\n",
        "<br></br>\n",
        "<br></br>\n",
        "\n",
        "## *Data Science Unit 1 Sprint 2 Assignment 1*\n",
        "\n",
        "# Apply the t-test to real data\n",
        "\n",
        "Your assignment is to determine which issues have \"statistically significant\" differences between political parties in this [1980s congressional voting data](https://archive.ics.uci.edu/ml/datasets/Congressional+Voting+Records). The data consists of 435 instances (one for each congressperson), a class (democrat or republican), and 16 binary attributes (yes or no for voting for or against certain issues). Be aware - there are missing values!\n",
        "\n",
        "Your goals:\n",
        "\n",
        "1. Load and clean the data (or determine the best method to drop observations when running tests)\n",
        "2. Using hypothesis testing, find an issue that democrats support more than republicans with p < 0.01\n",
        "3. Using hypothesis testing, find an issue that republicans support more than democrats with p < 0.01\n",
        "4. Using hypothesis testing, find an issue where the difference between republicans and democrats has p > 0.1 (i.e. there may not be much of a difference)\n",
        "\n",
        "Note that this data will involve *2 sample* t-tests, because you're comparing averages across two groups (republicans and democrats) rather than a single group against a null hypothesis.\n",
        "\n",
        "Stretch goals:\n",
        "\n",
        "1. Refactor your code into functions so it's easy to rerun with arbitrary variables\n",
        "2. Apply hypothesis testing to your personal project data (for the purposes of this notebook you can type a summary of the hypothesis you formed and tested)"
      ]
    },
    {
      "cell_type": "code",
      "metadata": {
        "id": "ZKwspo2CngPP",
        "colab_type": "code",
        "colab": {}
      },
      "source": [
        "### YOUR CODE STARTS HERE\n",
        "import pandas as pd\n",
        "import numpy as np\n",
        "from scipy.stats import ttest_ind, ttest_rel\n",
        "import seaborn as sns\n",
        "\n",
        "\n"
      ],
      "execution_count": 0,
      "outputs": []
    },
    {
      "cell_type": "code",
      "metadata": {
        "id": "1XeiIrbmXLoG",
        "colab_type": "code",
        "colab": {}
      },
      "source": [
        " column_headers= ['party',\n",
        "                   'handicapped-infants', 'water-project-cost-sharing',\n",
        "                   'adoption-of-the-budget-resolution',\n",
        "                   'physician-fee-freeze',\n",
        "                   'el-salvador-aid',\n",
        "                   'religious-groups-in-schools',\n",
        "                   'anti-satellite-test-ban',\n",
        "                   'aid-to-nicaraguan-contras',\n",
        "                   'mx-missile',\n",
        "                   'immigration',\n",
        "                   'synfuels-corporation-cutback',\n",
        "                   'education-spending',\n",
        "                   'superfund-right-to-sue',\n",
        "                   'crime','duty-free-exports',\n",
        "                   'export-administration-act-south-africa']"
      ],
      "execution_count": 0,
      "outputs": []
    },
    {
      "cell_type": "code",
      "metadata": {
        "id": "9mlFUmOVYdn6",
        "colab_type": "code",
        "outputId": "dfd0c30b-a946-4d43-ee6d-7ac669119de3",
        "colab": {
          "base_uri": "https://localhost:8080/",
          "height": 275
        }
      },
      "source": [
        "# Reading the data from url\n",
        "# Converting '?'s into NaN\n",
        "# Adding column headers\n",
        "\n",
        "df=pd.read_csv('https://archive.ics.uci.edu/ml/machine-learning-databases/voting-records/house-votes-84.data', header=None, names= column_headers, na_values= '?')\n",
        "df.head()"
      ],
      "execution_count": 3,
      "outputs": [
        {
          "output_type": "execute_result",
          "data": {
            "text/html": [
              "<div>\n",
              "<style scoped>\n",
              "    .dataframe tbody tr th:only-of-type {\n",
              "        vertical-align: middle;\n",
              "    }\n",
              "\n",
              "    .dataframe tbody tr th {\n",
              "        vertical-align: top;\n",
              "    }\n",
              "\n",
              "    .dataframe thead th {\n",
              "        text-align: right;\n",
              "    }\n",
              "</style>\n",
              "<table border=\"1\" class=\"dataframe\">\n",
              "  <thead>\n",
              "    <tr style=\"text-align: right;\">\n",
              "      <th></th>\n",
              "      <th>party</th>\n",
              "      <th>handicapped-infants</th>\n",
              "      <th>water-project-cost-sharing</th>\n",
              "      <th>adoption-of-the-budget-resolution</th>\n",
              "      <th>physician-fee-freeze</th>\n",
              "      <th>el-salvador-aid</th>\n",
              "      <th>religious-groups-in-schools</th>\n",
              "      <th>anti-satellite-test-ban</th>\n",
              "      <th>aid-to-nicaraguan-contras</th>\n",
              "      <th>mx-missile</th>\n",
              "      <th>immigration</th>\n",
              "      <th>synfuels-corporation-cutback</th>\n",
              "      <th>education-spending</th>\n",
              "      <th>superfund-right-to-sue</th>\n",
              "      <th>crime</th>\n",
              "      <th>duty-free-exports</th>\n",
              "      <th>export-administration-act-south-africa</th>\n",
              "    </tr>\n",
              "  </thead>\n",
              "  <tbody>\n",
              "    <tr>\n",
              "      <th>0</th>\n",
              "      <td>republican</td>\n",
              "      <td>n</td>\n",
              "      <td>y</td>\n",
              "      <td>n</td>\n",
              "      <td>y</td>\n",
              "      <td>y</td>\n",
              "      <td>y</td>\n",
              "      <td>n</td>\n",
              "      <td>n</td>\n",
              "      <td>n</td>\n",
              "      <td>y</td>\n",
              "      <td>NaN</td>\n",
              "      <td>y</td>\n",
              "      <td>y</td>\n",
              "      <td>y</td>\n",
              "      <td>n</td>\n",
              "      <td>y</td>\n",
              "    </tr>\n",
              "    <tr>\n",
              "      <th>1</th>\n",
              "      <td>republican</td>\n",
              "      <td>n</td>\n",
              "      <td>y</td>\n",
              "      <td>n</td>\n",
              "      <td>y</td>\n",
              "      <td>y</td>\n",
              "      <td>y</td>\n",
              "      <td>n</td>\n",
              "      <td>n</td>\n",
              "      <td>n</td>\n",
              "      <td>n</td>\n",
              "      <td>n</td>\n",
              "      <td>y</td>\n",
              "      <td>y</td>\n",
              "      <td>y</td>\n",
              "      <td>n</td>\n",
              "      <td>NaN</td>\n",
              "    </tr>\n",
              "    <tr>\n",
              "      <th>2</th>\n",
              "      <td>democrat</td>\n",
              "      <td>NaN</td>\n",
              "      <td>y</td>\n",
              "      <td>y</td>\n",
              "      <td>NaN</td>\n",
              "      <td>y</td>\n",
              "      <td>y</td>\n",
              "      <td>n</td>\n",
              "      <td>n</td>\n",
              "      <td>n</td>\n",
              "      <td>n</td>\n",
              "      <td>y</td>\n",
              "      <td>n</td>\n",
              "      <td>y</td>\n",
              "      <td>y</td>\n",
              "      <td>n</td>\n",
              "      <td>n</td>\n",
              "    </tr>\n",
              "    <tr>\n",
              "      <th>3</th>\n",
              "      <td>democrat</td>\n",
              "      <td>n</td>\n",
              "      <td>y</td>\n",
              "      <td>y</td>\n",
              "      <td>n</td>\n",
              "      <td>NaN</td>\n",
              "      <td>y</td>\n",
              "      <td>n</td>\n",
              "      <td>n</td>\n",
              "      <td>n</td>\n",
              "      <td>n</td>\n",
              "      <td>y</td>\n",
              "      <td>n</td>\n",
              "      <td>y</td>\n",
              "      <td>n</td>\n",
              "      <td>n</td>\n",
              "      <td>y</td>\n",
              "    </tr>\n",
              "    <tr>\n",
              "      <th>4</th>\n",
              "      <td>democrat</td>\n",
              "      <td>y</td>\n",
              "      <td>y</td>\n",
              "      <td>y</td>\n",
              "      <td>n</td>\n",
              "      <td>y</td>\n",
              "      <td>y</td>\n",
              "      <td>n</td>\n",
              "      <td>n</td>\n",
              "      <td>n</td>\n",
              "      <td>n</td>\n",
              "      <td>y</td>\n",
              "      <td>NaN</td>\n",
              "      <td>y</td>\n",
              "      <td>y</td>\n",
              "      <td>y</td>\n",
              "      <td>y</td>\n",
              "    </tr>\n",
              "  </tbody>\n",
              "</table>\n",
              "</div>"
            ],
            "text/plain": [
              "        party  ... export-administration-act-south-africa\n",
              "0  republican  ...                                      y\n",
              "1  republican  ...                                    NaN\n",
              "2    democrat  ...                                      n\n",
              "3    democrat  ...                                      y\n",
              "4    democrat  ...                                      y\n",
              "\n",
              "[5 rows x 17 columns]"
            ]
          },
          "metadata": {
            "tags": []
          },
          "execution_count": 3
        }
      ]
    },
    {
      "cell_type": "code",
      "metadata": {
        "id": "hXZ2wlQYU9g7",
        "colab_type": "code",
        "outputId": "f6e6a433-311e-4055-cb4c-7b0bc72bb7d7",
        "colab": {
          "base_uri": "https://localhost:8080/",
          "height": 153
        }
      },
      "source": [
        "#Revierwing column headers\n",
        "\n",
        "df.columns\n"
      ],
      "execution_count": 38,
      "outputs": [
        {
          "output_type": "execute_result",
          "data": {
            "text/plain": [
              "Index(['party', 'handicapped-infants', 'water-project-cost-sharing',\n",
              "       'adoption-of-the-budget-resolution', 'physician-fee-freeze',\n",
              "       'el-salvador-aid', 'religious-groups-in-schools',\n",
              "       'anti-satellite-test-ban', 'aid-to-nicaraguan-contras', 'mx-missile',\n",
              "       'immigration', 'synfuels-corporation-cutback', 'education-spending',\n",
              "       'superfund-right-to-sue', 'crime', 'duty-free-exports',\n",
              "       'export-administration-act-south-africa'],\n",
              "      dtype='object')"
            ]
          },
          "metadata": {
            "tags": []
          },
          "execution_count": 38
        }
      ]
    },
    {
      "cell_type": "code",
      "metadata": {
        "id": "h_LK4DLMVEN-",
        "colab_type": "code",
        "outputId": "69372063-5a0d-4017-d2ad-9493c365cc0e",
        "colab": {
          "base_uri": "https://localhost:8080/",
          "height": 34
        }
      },
      "source": [
        "#Reviewing rows/index\n",
        "\n",
        "df.index"
      ],
      "execution_count": 5,
      "outputs": [
        {
          "output_type": "execute_result",
          "data": {
            "text/plain": [
              "RangeIndex(start=0, stop=435, step=1)"
            ]
          },
          "metadata": {
            "tags": []
          },
          "execution_count": 5
        }
      ]
    },
    {
      "cell_type": "code",
      "metadata": {
        "id": "GGUQOhSZVrf1",
        "colab_type": "code",
        "outputId": "b17a1f37-ab36-48ee-eff6-70cb0548c950",
        "colab": {
          "base_uri": "https://localhost:8080/",
          "height": 323
        }
      },
      "source": [
        "#Checking the total NaN values for all attributes\n",
        "\n",
        "df.isnull().sum()"
      ],
      "execution_count": 6,
      "outputs": [
        {
          "output_type": "execute_result",
          "data": {
            "text/plain": [
              "party                                       0\n",
              "handicapped-infants                        12\n",
              "water-project-cost-sharing                 48\n",
              "adoption-of-the-budget-resolution          11\n",
              "physician-fee-freeze                       11\n",
              "el-salvador-aid                            15\n",
              "religious-groups-in-schools                11\n",
              "anti-satellite-test-ban                    14\n",
              "aid-to-nicaraguan-contras                  15\n",
              "mx-missile                                 22\n",
              "immigration                                 7\n",
              "synfuels-corporation-cutback               21\n",
              "education-spending                         31\n",
              "superfund-right-to-sue                     25\n",
              "crime                                      17\n",
              "duty-free-exports                          28\n",
              "export-administration-act-south-africa    104\n",
              "dtype: int64"
            ]
          },
          "metadata": {
            "tags": []
          },
          "execution_count": 6
        }
      ]
    },
    {
      "cell_type": "code",
      "metadata": {
        "id": "3feUL14aWcom",
        "colab_type": "code",
        "outputId": "2451ce4f-27ba-4988-8075-2740bdc44cbb",
        "colab": {
          "base_uri": "https://localhost:8080/",
          "height": 275
        }
      },
      "source": [
        "#recode data as numeric\n",
        "\n",
        "df=df.replace({'y':1, 'n':0})\n",
        "df.head()"
      ],
      "execution_count": 7,
      "outputs": [
        {
          "output_type": "execute_result",
          "data": {
            "text/html": [
              "<div>\n",
              "<style scoped>\n",
              "    .dataframe tbody tr th:only-of-type {\n",
              "        vertical-align: middle;\n",
              "    }\n",
              "\n",
              "    .dataframe tbody tr th {\n",
              "        vertical-align: top;\n",
              "    }\n",
              "\n",
              "    .dataframe thead th {\n",
              "        text-align: right;\n",
              "    }\n",
              "</style>\n",
              "<table border=\"1\" class=\"dataframe\">\n",
              "  <thead>\n",
              "    <tr style=\"text-align: right;\">\n",
              "      <th></th>\n",
              "      <th>party</th>\n",
              "      <th>handicapped-infants</th>\n",
              "      <th>water-project-cost-sharing</th>\n",
              "      <th>adoption-of-the-budget-resolution</th>\n",
              "      <th>physician-fee-freeze</th>\n",
              "      <th>el-salvador-aid</th>\n",
              "      <th>religious-groups-in-schools</th>\n",
              "      <th>anti-satellite-test-ban</th>\n",
              "      <th>aid-to-nicaraguan-contras</th>\n",
              "      <th>mx-missile</th>\n",
              "      <th>immigration</th>\n",
              "      <th>synfuels-corporation-cutback</th>\n",
              "      <th>education-spending</th>\n",
              "      <th>superfund-right-to-sue</th>\n",
              "      <th>crime</th>\n",
              "      <th>duty-free-exports</th>\n",
              "      <th>export-administration-act-south-africa</th>\n",
              "    </tr>\n",
              "  </thead>\n",
              "  <tbody>\n",
              "    <tr>\n",
              "      <th>0</th>\n",
              "      <td>republican</td>\n",
              "      <td>0.0</td>\n",
              "      <td>1.0</td>\n",
              "      <td>0.0</td>\n",
              "      <td>1.0</td>\n",
              "      <td>1.0</td>\n",
              "      <td>1.0</td>\n",
              "      <td>0.0</td>\n",
              "      <td>0.0</td>\n",
              "      <td>0.0</td>\n",
              "      <td>1.0</td>\n",
              "      <td>NaN</td>\n",
              "      <td>1.0</td>\n",
              "      <td>1.0</td>\n",
              "      <td>1.0</td>\n",
              "      <td>0.0</td>\n",
              "      <td>1.0</td>\n",
              "    </tr>\n",
              "    <tr>\n",
              "      <th>1</th>\n",
              "      <td>republican</td>\n",
              "      <td>0.0</td>\n",
              "      <td>1.0</td>\n",
              "      <td>0.0</td>\n",
              "      <td>1.0</td>\n",
              "      <td>1.0</td>\n",
              "      <td>1.0</td>\n",
              "      <td>0.0</td>\n",
              "      <td>0.0</td>\n",
              "      <td>0.0</td>\n",
              "      <td>0.0</td>\n",
              "      <td>0.0</td>\n",
              "      <td>1.0</td>\n",
              "      <td>1.0</td>\n",
              "      <td>1.0</td>\n",
              "      <td>0.0</td>\n",
              "      <td>NaN</td>\n",
              "    </tr>\n",
              "    <tr>\n",
              "      <th>2</th>\n",
              "      <td>democrat</td>\n",
              "      <td>NaN</td>\n",
              "      <td>1.0</td>\n",
              "      <td>1.0</td>\n",
              "      <td>NaN</td>\n",
              "      <td>1.0</td>\n",
              "      <td>1.0</td>\n",
              "      <td>0.0</td>\n",
              "      <td>0.0</td>\n",
              "      <td>0.0</td>\n",
              "      <td>0.0</td>\n",
              "      <td>1.0</td>\n",
              "      <td>0.0</td>\n",
              "      <td>1.0</td>\n",
              "      <td>1.0</td>\n",
              "      <td>0.0</td>\n",
              "      <td>0.0</td>\n",
              "    </tr>\n",
              "    <tr>\n",
              "      <th>3</th>\n",
              "      <td>democrat</td>\n",
              "      <td>0.0</td>\n",
              "      <td>1.0</td>\n",
              "      <td>1.0</td>\n",
              "      <td>0.0</td>\n",
              "      <td>NaN</td>\n",
              "      <td>1.0</td>\n",
              "      <td>0.0</td>\n",
              "      <td>0.0</td>\n",
              "      <td>0.0</td>\n",
              "      <td>0.0</td>\n",
              "      <td>1.0</td>\n",
              "      <td>0.0</td>\n",
              "      <td>1.0</td>\n",
              "      <td>0.0</td>\n",
              "      <td>0.0</td>\n",
              "      <td>1.0</td>\n",
              "    </tr>\n",
              "    <tr>\n",
              "      <th>4</th>\n",
              "      <td>democrat</td>\n",
              "      <td>1.0</td>\n",
              "      <td>1.0</td>\n",
              "      <td>1.0</td>\n",
              "      <td>0.0</td>\n",
              "      <td>1.0</td>\n",
              "      <td>1.0</td>\n",
              "      <td>0.0</td>\n",
              "      <td>0.0</td>\n",
              "      <td>0.0</td>\n",
              "      <td>0.0</td>\n",
              "      <td>1.0</td>\n",
              "      <td>NaN</td>\n",
              "      <td>1.0</td>\n",
              "      <td>1.0</td>\n",
              "      <td>1.0</td>\n",
              "      <td>1.0</td>\n",
              "    </tr>\n",
              "  </tbody>\n",
              "</table>\n",
              "</div>"
            ],
            "text/plain": [
              "        party  ...  export-administration-act-south-africa\n",
              "0  republican  ...                                     1.0\n",
              "1  republican  ...                                     NaN\n",
              "2    democrat  ...                                     0.0\n",
              "3    democrat  ...                                     1.0\n",
              "4    democrat  ...                                     1.0\n",
              "\n",
              "[5 rows x 17 columns]"
            ]
          },
          "metadata": {
            "tags": []
          },
          "execution_count": 7
        }
      ]
    },
    {
      "cell_type": "code",
      "metadata": {
        "id": "daOTse0VZLyZ",
        "colab_type": "code",
        "outputId": "b50be6e3-8c6c-440b-a14a-777e5b326db8",
        "colab": {
          "base_uri": "https://localhost:8080/",
          "height": 68
        }
      },
      "source": [
        "#reviewing the number of representatives in each party\n",
        "\n",
        "df['party'].value_counts()"
      ],
      "execution_count": 8,
      "outputs": [
        {
          "output_type": "execute_result",
          "data": {
            "text/plain": [
              "democrat      267\n",
              "republican    168\n",
              "Name: party, dtype: int64"
            ]
          },
          "metadata": {
            "tags": []
          },
          "execution_count": 8
        }
      ]
    },
    {
      "cell_type": "code",
      "metadata": {
        "id": "cZtj6NXlZVGW",
        "colab_type": "code",
        "outputId": "2fd2aaf1-715d-4c32-d3fc-209bf485577d",
        "colab": {
          "base_uri": "https://localhost:8080/",
          "height": 34
        }
      },
      "source": [
        "#Creating a new dataframe for republicans\n",
        "#Also checking the number of republican representatives\n",
        "\n",
        "rep=df[df['party']=='republican']\n",
        "len(rep)"
      ],
      "execution_count": 9,
      "outputs": [
        {
          "output_type": "execute_result",
          "data": {
            "text/plain": [
              "168"
            ]
          },
          "metadata": {
            "tags": []
          },
          "execution_count": 9
        }
      ]
    },
    {
      "cell_type": "code",
      "metadata": {
        "id": "wTBcMcAdZsyb",
        "colab_type": "code",
        "outputId": "2ef5b733-3cbc-47a4-f491-d68dc2c63d75",
        "colab": {
          "base_uri": "https://localhost:8080/",
          "height": 34
        }
      },
      "source": [
        "#Creating a new dataframe for democrats\n",
        "#Also checking the number of democtrar representatives\n",
        "\n",
        "dem=df[df['party']=='democrat']\n",
        "len(dem)"
      ],
      "execution_count": 10,
      "outputs": [
        {
          "output_type": "execute_result",
          "data": {
            "text/plain": [
              "267"
            ]
          },
          "metadata": {
            "tags": []
          },
          "execution_count": 10
        }
      ]
    },
    {
      "cell_type": "code",
      "metadata": {
        "id": "exJuPyBlkoaB",
        "colab_type": "code",
        "colab": {
          "base_uri": "https://localhost:8080/",
          "height": 545
        },
        "outputId": "fe7d7a5c-dc9f-410c-b40a-d1178f1b069d"
      },
      "source": [
        "# Overview of means for all attributes\n",
        "\n",
        "summary_means = pd.DataFrame({'Dems': dem.mean(),'Reps': rep.mean()})\n",
        "summary_means['difference']= summary_means['Dems']-summary_means['Reps']\n",
        "summary_means"
      ],
      "execution_count": 11,
      "outputs": [
        {
          "output_type": "execute_result",
          "data": {
            "text/html": [
              "<div>\n",
              "<style scoped>\n",
              "    .dataframe tbody tr th:only-of-type {\n",
              "        vertical-align: middle;\n",
              "    }\n",
              "\n",
              "    .dataframe tbody tr th {\n",
              "        vertical-align: top;\n",
              "    }\n",
              "\n",
              "    .dataframe thead th {\n",
              "        text-align: right;\n",
              "    }\n",
              "</style>\n",
              "<table border=\"1\" class=\"dataframe\">\n",
              "  <thead>\n",
              "    <tr style=\"text-align: right;\">\n",
              "      <th></th>\n",
              "      <th>Dems</th>\n",
              "      <th>Reps</th>\n",
              "      <th>difference</th>\n",
              "    </tr>\n",
              "  </thead>\n",
              "  <tbody>\n",
              "    <tr>\n",
              "      <th>handicapped-infants</th>\n",
              "      <td>0.604651</td>\n",
              "      <td>0.187879</td>\n",
              "      <td>0.416772</td>\n",
              "    </tr>\n",
              "    <tr>\n",
              "      <th>water-project-cost-sharing</th>\n",
              "      <td>0.502092</td>\n",
              "      <td>0.506757</td>\n",
              "      <td>-0.004665</td>\n",
              "    </tr>\n",
              "    <tr>\n",
              "      <th>adoption-of-the-budget-resolution</th>\n",
              "      <td>0.888462</td>\n",
              "      <td>0.134146</td>\n",
              "      <td>0.754315</td>\n",
              "    </tr>\n",
              "    <tr>\n",
              "      <th>physician-fee-freeze</th>\n",
              "      <td>0.054054</td>\n",
              "      <td>0.987879</td>\n",
              "      <td>-0.933825</td>\n",
              "    </tr>\n",
              "    <tr>\n",
              "      <th>el-salvador-aid</th>\n",
              "      <td>0.215686</td>\n",
              "      <td>0.951515</td>\n",
              "      <td>-0.735829</td>\n",
              "    </tr>\n",
              "    <tr>\n",
              "      <th>religious-groups-in-schools</th>\n",
              "      <td>0.476744</td>\n",
              "      <td>0.897590</td>\n",
              "      <td>-0.420846</td>\n",
              "    </tr>\n",
              "    <tr>\n",
              "      <th>anti-satellite-test-ban</th>\n",
              "      <td>0.772201</td>\n",
              "      <td>0.240741</td>\n",
              "      <td>0.531460</td>\n",
              "    </tr>\n",
              "    <tr>\n",
              "      <th>aid-to-nicaraguan-contras</th>\n",
              "      <td>0.828897</td>\n",
              "      <td>0.152866</td>\n",
              "      <td>0.676031</td>\n",
              "    </tr>\n",
              "    <tr>\n",
              "      <th>mx-missile</th>\n",
              "      <td>0.758065</td>\n",
              "      <td>0.115152</td>\n",
              "      <td>0.642913</td>\n",
              "    </tr>\n",
              "    <tr>\n",
              "      <th>immigration</th>\n",
              "      <td>0.471483</td>\n",
              "      <td>0.557576</td>\n",
              "      <td>-0.086093</td>\n",
              "    </tr>\n",
              "    <tr>\n",
              "      <th>synfuels-corporation-cutback</th>\n",
              "      <td>0.505882</td>\n",
              "      <td>0.132075</td>\n",
              "      <td>0.373807</td>\n",
              "    </tr>\n",
              "    <tr>\n",
              "      <th>education-spending</th>\n",
              "      <td>0.144578</td>\n",
              "      <td>0.870968</td>\n",
              "      <td>-0.726389</td>\n",
              "    </tr>\n",
              "    <tr>\n",
              "      <th>superfund-right-to-sue</th>\n",
              "      <td>0.289683</td>\n",
              "      <td>0.860759</td>\n",
              "      <td>-0.571077</td>\n",
              "    </tr>\n",
              "    <tr>\n",
              "      <th>crime</th>\n",
              "      <td>0.350195</td>\n",
              "      <td>0.981366</td>\n",
              "      <td>-0.631172</td>\n",
              "    </tr>\n",
              "    <tr>\n",
              "      <th>duty-free-exports</th>\n",
              "      <td>0.637450</td>\n",
              "      <td>0.089744</td>\n",
              "      <td>0.547707</td>\n",
              "    </tr>\n",
              "    <tr>\n",
              "      <th>export-administration-act-south-africa</th>\n",
              "      <td>0.935135</td>\n",
              "      <td>0.657534</td>\n",
              "      <td>0.277601</td>\n",
              "    </tr>\n",
              "  </tbody>\n",
              "</table>\n",
              "</div>"
            ],
            "text/plain": [
              "                                            Dems      Reps  difference\n",
              "handicapped-infants                     0.604651  0.187879    0.416772\n",
              "water-project-cost-sharing              0.502092  0.506757   -0.004665\n",
              "adoption-of-the-budget-resolution       0.888462  0.134146    0.754315\n",
              "physician-fee-freeze                    0.054054  0.987879   -0.933825\n",
              "el-salvador-aid                         0.215686  0.951515   -0.735829\n",
              "religious-groups-in-schools             0.476744  0.897590   -0.420846\n",
              "anti-satellite-test-ban                 0.772201  0.240741    0.531460\n",
              "aid-to-nicaraguan-contras               0.828897  0.152866    0.676031\n",
              "mx-missile                              0.758065  0.115152    0.642913\n",
              "immigration                             0.471483  0.557576   -0.086093\n",
              "synfuels-corporation-cutback            0.505882  0.132075    0.373807\n",
              "education-spending                      0.144578  0.870968   -0.726389\n",
              "superfund-right-to-sue                  0.289683  0.860759   -0.571077\n",
              "crime                                   0.350195  0.981366   -0.631172\n",
              "duty-free-exports                       0.637450  0.089744    0.547707\n",
              "export-administration-act-south-africa  0.935135  0.657534    0.277601"
            ]
          },
          "metadata": {
            "tags": []
          },
          "execution_count": 11
        }
      ]
    },
    {
      "cell_type": "markdown",
      "metadata": {
        "id": "mB9GPjMcn3_O",
        "colab_type": "text"
      },
      "source": [
        "##2. Using hypothesis testing, find an issue that democrats \n",
        "##support more than republicans with p < 0.01"
      ]
    },
    {
      "cell_type": "markdown",
      "metadata": {
        "id": "zIuRcPfe4P4b",
        "colab_type": "text"
      },
      "source": [
        "####Null hyp: Democrats do not suppot `Duty-free-export` more than Republicans\n",
        "####Alternative hyp: `Duty-free-export` bill is supported more by Democrats than  by republican, DemXbar-RepXbar>0\n",
        "\n",
        "####Significance level, alpha =0.05\n",
        "\n",
        "\n"
      ]
    },
    {
      "cell_type": "code",
      "metadata": {
        "id": "aQQ7fDOOn3vW",
        "colab_type": "code",
        "colab": {
          "base_uri": "https://localhost:8080/",
          "height": 85
        },
        "outputId": "c429086d-1ac5-4c9a-b3ef-fdcc448509ee"
      },
      "source": [
        "# Looking at the overview of means, I can check for `duty-free-exports` attribute\n",
        "# Democrats seem to support this bill more than Republicans had\n",
        "# Pulling out their respective means\n",
        "\n",
        "dem_duty_free_mean=summary_means['Dems'].loc[summary_means.index=='duty-free-exports']\n",
        "rep_duty_free_mean=summary_means['Reps'].loc[summary_means.index=='duty-free-exports']\n",
        "print(dem_duty_free_mean)\n",
        "print(rep_duty_free_mean)"
      ],
      "execution_count": 12,
      "outputs": [
        {
          "output_type": "stream",
          "text": [
            "duty-free-exports    0.63745\n",
            "Name: Dems, dtype: float64\n",
            "duty-free-exports    0.089744\n",
            "Name: Reps, dtype: float64\n"
          ],
          "name": "stdout"
        }
      ]
    },
    {
      "cell_type": "code",
      "metadata": {
        "id": "caSIvBt3n3p9",
        "colab_type": "code",
        "colab": {
          "base_uri": "https://localhost:8080/",
          "height": 34
        },
        "outputId": "7d46fd48-7f9b-4ed5-f5ba-c550ef084af8"
      },
      "source": [
        "#Performing a t-test \n",
        "result= ttest_ind(dem['duty-free-exports'],rep['duty-free-exports'], nan_policy='omit')\n",
        "result.statistic\n",
        "result.pvalue"
      ],
      "execution_count": 30,
      "outputs": [
        {
          "output_type": "execute_result",
          "data": {
            "text/plain": [
              "5.997697174347365e-32"
            ]
          },
          "metadata": {
            "tags": []
          },
          "execution_count": 30
        }
      ]
    },
    {
      "cell_type": "code",
      "metadata": {
        "id": "DNvek0gkn3nY",
        "colab_type": "code",
        "colab": {
          "base_uri": "https://localhost:8080/",
          "height": 34
        },
        "outputId": "abe3c968-746f-4b44-e09c-6254995f31ed"
      },
      "source": [
        "# Another way of pulling out the values\n",
        "# Converting scientific notation into general format\n",
        "\n",
        "print('p-value is', f'{result.pvalue:.50f}')"
      ],
      "execution_count": 33,
      "outputs": [
        {
          "output_type": "stream",
          "text": [
            "p-value is 0.00000000000000000000000000000005997697174347364554\n"
          ],
          "name": "stdout"
        }
      ]
    },
    {
      "cell_type": "markdown",
      "metadata": {
        "id": "zeWl-zuOVCB5",
        "colab_type": "text"
      },
      "source": [
        "Conclusion: Since pvalue < 0.05, or even with a more stringent threshold,\n",
        "then we can reject the null hypothesis and accept the alternative hypothesis \n",
        "that the bill for `duty-free export` is supported more by Democrats\n"
      ]
    },
    {
      "cell_type": "markdown",
      "metadata": {
        "id": "8u292e_mvkQB",
        "colab_type": "text"
      },
      "source": [
        "##3.Using hypothesis testing, find an issue that republicans \n",
        "##support more than democrats with p < 0.01"
      ]
    },
    {
      "cell_type": "markdown",
      "metadata": {
        "id": "--bWYrGn6Emq",
        "colab_type": "text"
      },
      "source": [
        "####Null hyp: Republicans do not support `physician-free-freeze` more than Dem\n",
        "####Alternative hyp: `physician-free` bill is supported more by Republicans than  by Democrats, RepXbar-DemXbar>0\n",
        "\n",
        "####Significance level, alpha =0.05\n"
      ]
    },
    {
      "cell_type": "code",
      "metadata": {
        "colab_type": "code",
        "outputId": "1bb29f2d-3757-47e7-8f79-6f911c0a73aa",
        "id": "P2kN6v4t6Y10",
        "colab": {
          "base_uri": "https://localhost:8080/",
          "height": 85
        }
      },
      "source": [
        "# Looking at the overview of means, I can check for `physician-fee-freeze` attribute\n",
        "# Republicans seem to support this bill more than Democrats had\n",
        "# Pulling out their respective means\n",
        "\n",
        "dem_physician_mean=summary_means['Dems'].loc[summary_means.index=='physician-fee-freeze']\n",
        "rep_physician_mean=summary_means['Reps'].loc[summary_means.index=='physician-fee-freeze']\n",
        "print(dem_physician_mean)\n",
        "print(rep_physician_mean)"
      ],
      "execution_count": 14,
      "outputs": [
        {
          "output_type": "stream",
          "text": [
            "physician-fee-freeze    0.054054\n",
            "Name: Dems, dtype: float64\n",
            "physician-fee-freeze    0.987879\n",
            "Name: Reps, dtype: float64\n"
          ],
          "name": "stdout"
        }
      ]
    },
    {
      "cell_type": "code",
      "metadata": {
        "colab_type": "code",
        "outputId": "8d78a1df-506d-4048-de4c-193edb555ce0",
        "id": "KshyypDJ6Uyp",
        "colab": {
          "base_uri": "https://localhost:8080/",
          "height": 85
        }
      },
      "source": [
        "# Looking at the overview of means, I can check for `physician-fee-freeze` attribute\n",
        "# Republicans seem to support this bill more than Democrats had\n",
        "# Pulling out their respective means\n",
        "\n",
        "dem_physician_mean=summary_means['Dems'].loc[summary_means.index=='physician-fee-freeze']\n",
        "rep_physician_mean=summary_means['Reps'].loc[summary_means.index=='physician-fee-freeze']\n",
        "print(dem_physician_mean)\n",
        "print(rep_physician_mean)"
      ],
      "execution_count": 15,
      "outputs": [
        {
          "output_type": "stream",
          "text": [
            "physician-fee-freeze    0.054054\n",
            "Name: Dems, dtype: float64\n",
            "physician-fee-freeze    0.987879\n",
            "Name: Reps, dtype: float64\n"
          ],
          "name": "stdout"
        }
      ]
    },
    {
      "cell_type": "code",
      "metadata": {
        "colab_type": "code",
        "outputId": "979514bc-b7ee-42c1-df89-51aecd051f37",
        "id": "puOVnmnM6SzN",
        "colab": {
          "base_uri": "https://localhost:8080/",
          "height": 85
        }
      },
      "source": [
        "# Looking at the overview of means, I can check for `physician-fee-freeze` attribute\n",
        "# Republicans seem to support this bill more than Democrats had\n",
        "# Pulling out their respective means\n",
        "\n",
        "dem_physician_mean=summary_means['Dems'].loc[summary_means.index=='physician-fee-freeze']\n",
        "rep_physician_mean=summary_means['Reps'].loc[summary_means.index=='physician-fee-freeze']\n",
        "print(dem_physician_mean)\n",
        "print(rep_physician_mean)"
      ],
      "execution_count": 16,
      "outputs": [
        {
          "output_type": "stream",
          "text": [
            "physician-fee-freeze    0.054054\n",
            "Name: Dems, dtype: float64\n",
            "physician-fee-freeze    0.987879\n",
            "Name: Reps, dtype: float64\n"
          ],
          "name": "stdout"
        }
      ]
    },
    {
      "cell_type": "code",
      "metadata": {
        "id": "yKtylJZTn3hp",
        "colab_type": "code",
        "colab": {
          "base_uri": "https://localhost:8080/",
          "height": 85
        },
        "outputId": "3e27125b-80ef-4653-e8bf-83825aa7089b"
      },
      "source": [
        "# Looking at the overview of means, I can check for `physician-fee-freeze` attribute\n",
        "# Republicans seem to support this bill more than Democrats had\n",
        "# Pulling out their respective means\n",
        "\n",
        "dem_physician_mean=summary_means['Dems'].loc[summary_means.index=='physician-fee-freeze']\n",
        "rep_physician_mean=summary_means['Reps'].loc[summary_means.index=='physician-fee-freeze']\n",
        "print(dem_physician_mean)\n",
        "print(rep_physician_mean)"
      ],
      "execution_count": 17,
      "outputs": [
        {
          "output_type": "stream",
          "text": [
            "physician-fee-freeze    0.054054\n",
            "Name: Dems, dtype: float64\n",
            "physician-fee-freeze    0.987879\n",
            "Name: Reps, dtype: float64\n"
          ],
          "name": "stdout"
        }
      ]
    },
    {
      "cell_type": "code",
      "metadata": {
        "id": "_yn9kWBmn3bP",
        "colab_type": "code",
        "colab": {
          "base_uri": "https://localhost:8080/",
          "height": 34
        },
        "outputId": "b978f357-8dee-4b0a-89ca-015c2f4c03a1"
      },
      "source": [
        "#Performing a t-test \n",
        "ttest_ind(rep['physician-fee-freeze'],dem['physician-fee-freeze'], nan_policy='omit')"
      ],
      "execution_count": 18,
      "outputs": [
        {
          "output_type": "execute_result",
          "data": {
            "text/plain": [
              "Ttest_indResult(statistic=49.36708157301406, pvalue=1.994262314074344e-177)"
            ]
          },
          "metadata": {
            "tags": []
          },
          "execution_count": 18
        }
      ]
    },
    {
      "cell_type": "code",
      "metadata": {
        "id": "X-PNXHGkn3X6",
        "colab_type": "code",
        "colab": {}
      },
      "source": [
        "#notice that pvalue above is practically 0.\n"
      ],
      "execution_count": 0,
      "outputs": []
    },
    {
      "cell_type": "markdown",
      "metadata": {
        "id": "j7LLQZloWAgt",
        "colab_type": "text"
      },
      "source": [
        "####Conclusion: With a pvalue that is practically 0, we can reject the null hypothesis, and accept the alternative hypothesis that Republicans \n",
        "####support `physician-fee-freeze` bill more than by Democrats."
      ]
    },
    {
      "cell_type": "code",
      "metadata": {
        "id": "6xgJQVaBn3Ol",
        "colab_type": "code",
        "colab": {}
      },
      "source": [
        ""
      ],
      "execution_count": 0,
      "outputs": []
    },
    {
      "cell_type": "markdown",
      "metadata": {
        "id": "L5gEIams0iVN",
        "colab_type": "text"
      },
      "source": [
        "##4. Using hypothesis testing, find an issue where the difference \n",
        "##between republicans and democrats has p > 0.1 \n",
        "##(i.e. there may not be much of a difference)"
      ]
    },
    {
      "cell_type": "markdown",
      "metadata": {
        "id": "wGjU8Y0ZXZT4",
        "colab_type": "text"
      },
      "source": [
        "####Null hyp: There is a significant difference between the support of the two parties on `water-project-cost-sharing` bill.\n",
        "####Alternative hyp: In `water-project-cost-sharing`  bill,  there is no significant difference between Republican and Democratic support\n",
        "\n",
        "####Significance level, alpha =0.05"
      ]
    },
    {
      "cell_type": "code",
      "metadata": {
        "id": "1Dx7iWYD0iKD",
        "colab_type": "code",
        "colab": {
          "base_uri": "https://localhost:8080/",
          "height": 85
        },
        "outputId": "76b9b655-04ce-4ecf-dafb-79f1fa4d693e"
      },
      "source": [
        "# Looking at the overview of means, I can check for `water-project-cost-sharing` attribute\n",
        "# has the least absolute differemce between the means\n",
        "# Pulling out their respective means\n",
        "dem_water_project_mean=summary_means['Dems'].loc[summary_means.index=='water-project-cost-sharing']\n",
        "rep_water_project_mean=summary_means['Reps'].loc[summary_means.index=='water-project-cost-sharing']\n",
        "print(dem_water_project_mean)\n",
        "print(rep_water_project_mean)\n"
      ],
      "execution_count": 22,
      "outputs": [
        {
          "output_type": "stream",
          "text": [
            "water-project-cost-sharing    0.502092\n",
            "Name: Dems, dtype: float64\n",
            "water-project-cost-sharing    0.506757\n",
            "Name: Reps, dtype: float64\n"
          ],
          "name": "stdout"
        }
      ]
    },
    {
      "cell_type": "code",
      "metadata": {
        "id": "w6_HDmhk0iCQ",
        "colab_type": "code",
        "colab": {
          "base_uri": "https://localhost:8080/",
          "height": 34
        },
        "outputId": "019639d3-0797-4b4b-ea48-9b973395428c"
      },
      "source": [
        "#Performing a t-test \n",
        "ttest_ind(dem['water-project-cost-sharing'],rep['water-project-cost-sharing'], nan_policy='omit')"
      ],
      "execution_count": 23,
      "outputs": [
        {
          "output_type": "execute_result",
          "data": {
            "text/plain": [
              "Ttest_indResult(statistic=-0.08896538137868286, pvalue=0.9291556823993485)"
            ]
          },
          "metadata": {
            "tags": []
          },
          "execution_count": 23
        }
      ]
    },
    {
      "cell_type": "markdown",
      "metadata": {
        "id": "hOhcMyrBYFdB",
        "colab_type": "text"
      },
      "source": [
        "####Conclusion: Since p-value is greater than the threshold set at 0.05, then we fail to reject the Null hypothesis."
      ]
    },
    {
      "cell_type": "code",
      "metadata": {
        "id": "s7_ujImW0h-t",
        "colab_type": "code",
        "colab": {}
      },
      "source": [
        ""
      ],
      "execution_count": 0,
      "outputs": []
    },
    {
      "cell_type": "code",
      "metadata": {
        "id": "P4mkSLPK0h7H",
        "colab_type": "code",
        "colab": {
          "base_uri": "https://localhost:8080/",
          "height": 85
        },
        "outputId": "9f304fcd-2e4f-4456-9e42-2a4481247be1"
      },
      "source": [
        "#Another attribute with relative low difference is 'immigration'\n",
        "#checking their respective means\n",
        "\n",
        "dem_immigration_mean=summary_means['Dems'].loc[summary_means.index=='immigration']\n",
        "rep_immigration_mean=summary_means['Reps'].loc[summary_means.index=='immigration']\n",
        "print(dem_immigration_mean)\n",
        "print(rep_immigration_mean)"
      ],
      "execution_count": 24,
      "outputs": [
        {
          "output_type": "stream",
          "text": [
            "immigration    0.471483\n",
            "Name: Dems, dtype: float64\n",
            "immigration    0.557576\n",
            "Name: Reps, dtype: float64\n"
          ],
          "name": "stdout"
        }
      ]
    },
    {
      "cell_type": "code",
      "metadata": {
        "id": "i607hUUt0h1x",
        "colab_type": "code",
        "colab": {
          "base_uri": "https://localhost:8080/",
          "height": 34
        },
        "outputId": "07e3fe15-9acc-457e-e9d8-acb440c80ef3"
      },
      "source": [
        "#Performing a t-test \n",
        "ttest_ind(dem['immigration'],rep['immigration'], nan_policy='omit')"
      ],
      "execution_count": 25,
      "outputs": [
        {
          "output_type": "execute_result",
          "data": {
            "text/plain": [
              "Ttest_indResult(statistic=-1.7359117329695164, pvalue=0.08330248490425066)"
            ]
          },
          "metadata": {
            "tags": []
          },
          "execution_count": 25
        }
      ]
    },
    {
      "cell_type": "markdown",
      "metadata": {
        "id": "C2qGWmnBYcM5",
        "colab_type": "text"
      },
      "source": [
        "####Similar conclusion on immigration bill as the one on `water-project-cost-sharing`"
      ]
    },
    {
      "cell_type": "markdown",
      "metadata": {
        "id": "I1tYPWI0aTcL",
        "colab_type": "text"
      },
      "source": [
        "#Stretch goals:\n",
        "\n",
        "Refactor your code into functions so it's easy to rerun with arbitrary variables"
      ]
    },
    {
      "cell_type": "code",
      "metadata": {
        "id": "JVC98_MsaWWR",
        "colab_type": "code",
        "colab": {}
      },
      "source": [
        "#Performing a t-test \n",
        "#ttest_ind(dem['water-project-cost-sharing'],rep['water-project-cost-sharing'], nan_policy='omit')"
      ],
      "execution_count": 0,
      "outputs": []
    },
    {
      "cell_type": "code",
      "metadata": {
        "id": "xoy_9U2Vc4BU",
        "colab_type": "code",
        "colab": {
          "base_uri": "https://localhost:8080/",
          "height": 289
        },
        "outputId": "cb167e72-5ba7-4254-de89-13fc634a480c"
      },
      "source": [
        "#Creating a list of columns excluding `party`\n",
        "\n",
        "new_df=list(df.columns.drop('party'))\n",
        "new_df"
      ],
      "execution_count": 43,
      "outputs": [
        {
          "output_type": "execute_result",
          "data": {
            "text/plain": [
              "['handicapped-infants',\n",
              " 'water-project-cost-sharing',\n",
              " 'adoption-of-the-budget-resolution',\n",
              " 'physician-fee-freeze',\n",
              " 'el-salvador-aid',\n",
              " 'religious-groups-in-schools',\n",
              " 'anti-satellite-test-ban',\n",
              " 'aid-to-nicaraguan-contras',\n",
              " 'mx-missile',\n",
              " 'immigration',\n",
              " 'synfuels-corporation-cutback',\n",
              " 'education-spending',\n",
              " 'superfund-right-to-sue',\n",
              " 'crime',\n",
              " 'duty-free-exports',\n",
              " 'export-administration-act-south-africa']"
            ]
          },
          "metadata": {
            "tags": []
          },
          "execution_count": 43
        }
      ]
    },
    {
      "cell_type": "code",
      "metadata": {
        "id": "g1j8f4fHazvj",
        "colab_type": "code",
        "colab": {
          "base_uri": "https://localhost:8080/",
          "height": 289
        },
        "outputId": "f1e7bea2-daab-4dc1-f6e9-05d1ca0cb505"
      },
      "source": [
        "# Creating a for loop that goes through all the columns\n",
        "\n",
        "new_df\n",
        "\n",
        "for col in new_df:\n",
        "  print( ttest_ind(dem[col],rep[col], nan_policy='omit'), 'result for ', col)\n",
        "\n"
      ],
      "execution_count": 48,
      "outputs": [
        {
          "output_type": "stream",
          "text": [
            "Ttest_indResult(statistic=9.205264294809222, pvalue=1.613440327937243e-18) result for  handicapped-infants\n",
            "Ttest_indResult(statistic=-0.08896538137868286, pvalue=0.9291556823993485) result for  water-project-cost-sharing\n",
            "Ttest_indResult(statistic=23.21277691701378, pvalue=2.0703402795404463e-77) result for  adoption-of-the-budget-resolution\n",
            "Ttest_indResult(statistic=-49.36708157301406, pvalue=1.994262314074344e-177) result for  physician-fee-freeze\n",
            "Ttest_indResult(statistic=-21.13669261173219, pvalue=5.600520111729011e-68) result for  el-salvador-aid\n",
            "Ttest_indResult(statistic=-9.737575825219457, pvalue=2.3936722520597287e-20) result for  religious-groups-in-schools\n",
            "Ttest_indResult(statistic=12.526187929077842, pvalue=8.521033017443867e-31) result for  anti-satellite-test-ban\n",
            "Ttest_indResult(statistic=18.052093200819733, pvalue=2.82471841372357e-54) result for  aid-to-nicaraguan-contras\n",
            "Ttest_indResult(statistic=16.437503268542994, pvalue=5.03079265310811e-47) result for  mx-missile\n",
            "Ttest_indResult(statistic=-1.7359117329695164, pvalue=0.08330248490425066) result for  immigration\n",
            "Ttest_indResult(statistic=8.293603989407588, pvalue=1.5759322301054064e-15) result for  synfuels-corporation-cutback\n",
            "Ttest_indResult(statistic=-20.500685724563073, pvalue=1.8834203990450192e-64) result for  education-spending\n",
            "Ttest_indResult(statistic=-13.51064251060933, pvalue=1.2278581709672758e-34) result for  superfund-right-to-sue\n",
            "Ttest_indResult(statistic=-16.342085656197696, pvalue=9.952342705606092e-47) result for  crime\n",
            "Ttest_indResult(statistic=12.853146132542978, pvalue=5.997697174347365e-32) result for  duty-free-exports\n",
            "Ttest_indResult(statistic=6.849454815841208, pvalue=3.652674361672226e-11) result for  export-administration-act-south-africa\n"
          ],
          "name": "stdout"
        }
      ]
    }
  ]
}