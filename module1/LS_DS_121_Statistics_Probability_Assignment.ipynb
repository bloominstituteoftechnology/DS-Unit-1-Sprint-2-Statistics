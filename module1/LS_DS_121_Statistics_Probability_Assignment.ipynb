{
  "nbformat": 4,
  "nbformat_minor": 0,
  "metadata": {
    "kernelspec": {
      "display_name": "Python 3",
      "language": "python",
      "name": "python3"
    },
    "language_info": {
      "codemirror_mode": {
        "name": "ipython",
        "version": 3
      },
      "file_extension": ".py",
      "mimetype": "text/x-python",
      "name": "python",
      "nbconvert_exporter": "python",
      "pygments_lexer": "ipython3",
      "version": "3.7.3"
    },
    "colab": {
      "name": "LS_DS_121_Statistics_Probability_Assignment.ipynb",
      "provenance": []
    }
  },
  "cells": [
    {
      "cell_type": "markdown",
      "metadata": {
        "id": "Sa5KWMO1ngPN",
        "colab_type": "text"
      },
      "source": [
        "<img align=\"left\" src=\"https://lever-client-logos.s3.amazonaws.com/864372b1-534c-480e-acd5-9711f850815c-1524247202159.png\" width=200>\n",
        "<br></br>\n",
        "<br></br>\n",
        "\n",
        "## *Data Science Unit 1 Sprint 2 Assignment 1*\n",
        "\n",
        "# Apply the t-test to real data\n",
        "\n",
        "Your assignment is to determine which issues have \"statistically significant\" differences between political parties in this [1980s congressional voting data](https://archive.ics.uci.edu/ml/datasets/Congressional+Voting+Records). The data consists of 435 instances (one for each congressperson), a class (democrat or republican), and 16 binary attributes (yes or no for voting for or against certain issues). Be aware - there are missing values!\n",
        "\n",
        "Your goals:\n",
        "\n",
        "1. Load and clean the data (or determine the best method to drop observations when running tests)\n",
        "2. Using hypothesis testing, find an issue that democrats support more than republicans with p < 0.01\n",
        "3. Using hypothesis testing, find an issue that republicans support more than democrats with p < 0.01\n",
        "4. Using hypothesis testing, find an issue where the difference between republicans and democrats has p > 0.1 (i.e. there may not be much of a difference)\n",
        "\n",
        "Note that this data will involve *2 sample* t-tests, because you're comparing averages across two groups (republicans and democrats) rather than a single group against a null hypothesis.\n",
        "\n",
        "Stretch goals:\n",
        "\n",
        "1. Refactor your code into functions so it's easy to rerun with arbitrary variables\n",
        "2. Apply hypothesis testing to your personal project data (for the purposes of this notebook you can type a summary of the hypothesis you formed and tested)"
      ]
    },
    {
      "cell_type": "code",
      "metadata": {
        "id": "ZKwspo2CngPP",
        "colab_type": "code",
        "colab": {}
      },
      "source": [
        "### YOUR CODE STARTS HERE\n",
        "import pandas as pd\n",
        "from scipy.stats import ttest_ind"
      ],
      "execution_count": 0,
      "outputs": []
    },
    {
      "cell_type": "markdown",
      "metadata": {
        "id": "bWScOZMVqkA-",
        "colab_type": "text"
      },
      "source": [
        "### Obtaining, cleaning and examing the data:"
      ]
    },
    {
      "cell_type": "code",
      "metadata": {
        "id": "PifI9I4glI3S",
        "colab_type": "code",
        "colab": {}
      },
      "source": [
        "column_headers = ['party','handicapped-infants','water-project',\n",
        "                          'budget','physician-fee-freeze', 'el-salvador-aid',\n",
        "                          'religious-groups','anti-satellite-ban',\n",
        "                          'aid-to-contras','mx-missile','immigration',\n",
        "                          'synfuels', 'education', 'right-to-sue','crime','duty-free',\n",
        "                          'south-africa']\n",
        "                          \n",
        "df = pd.read_csv('https://archive.ics.uci.edu/ml/machine-learning-databases/voting-records/house-votes-84.data', header=None, names=column_headers, na_values='?')"
      ],
      "execution_count": 0,
      "outputs": []
    },
    {
      "cell_type": "code",
      "metadata": {
        "id": "U8G94C8MlIvf",
        "colab_type": "code",
        "colab": {
          "base_uri": "https://localhost:8080/",
          "height": 221
        },
        "outputId": "e3be1e32-5df8-4fc2-cad8-faa19cbcb382"
      },
      "source": [
        "df.head()"
      ],
      "execution_count": 4,
      "outputs": [
        {
          "output_type": "execute_result",
          "data": {
            "text/html": [
              "<div>\n",
              "<style scoped>\n",
              "    .dataframe tbody tr th:only-of-type {\n",
              "        vertical-align: middle;\n",
              "    }\n",
              "\n",
              "    .dataframe tbody tr th {\n",
              "        vertical-align: top;\n",
              "    }\n",
              "\n",
              "    .dataframe thead th {\n",
              "        text-align: right;\n",
              "    }\n",
              "</style>\n",
              "<table border=\"1\" class=\"dataframe\">\n",
              "  <thead>\n",
              "    <tr style=\"text-align: right;\">\n",
              "      <th></th>\n",
              "      <th>party</th>\n",
              "      <th>handicapped-infants</th>\n",
              "      <th>water-project</th>\n",
              "      <th>budget</th>\n",
              "      <th>physician-fee-freeze</th>\n",
              "      <th>el-salvador-aid</th>\n",
              "      <th>religious-groups</th>\n",
              "      <th>anti-satellite-ban</th>\n",
              "      <th>aid-to-contras</th>\n",
              "      <th>mx-missile</th>\n",
              "      <th>immigration</th>\n",
              "      <th>synfuels</th>\n",
              "      <th>education</th>\n",
              "      <th>right-to-sue</th>\n",
              "      <th>crime</th>\n",
              "      <th>duty-free</th>\n",
              "      <th>south-africa</th>\n",
              "    </tr>\n",
              "  </thead>\n",
              "  <tbody>\n",
              "    <tr>\n",
              "      <th>0</th>\n",
              "      <td>republican</td>\n",
              "      <td>n</td>\n",
              "      <td>y</td>\n",
              "      <td>n</td>\n",
              "      <td>y</td>\n",
              "      <td>y</td>\n",
              "      <td>y</td>\n",
              "      <td>n</td>\n",
              "      <td>n</td>\n",
              "      <td>n</td>\n",
              "      <td>y</td>\n",
              "      <td>NaN</td>\n",
              "      <td>y</td>\n",
              "      <td>y</td>\n",
              "      <td>y</td>\n",
              "      <td>n</td>\n",
              "      <td>y</td>\n",
              "    </tr>\n",
              "    <tr>\n",
              "      <th>1</th>\n",
              "      <td>republican</td>\n",
              "      <td>n</td>\n",
              "      <td>y</td>\n",
              "      <td>n</td>\n",
              "      <td>y</td>\n",
              "      <td>y</td>\n",
              "      <td>y</td>\n",
              "      <td>n</td>\n",
              "      <td>n</td>\n",
              "      <td>n</td>\n",
              "      <td>n</td>\n",
              "      <td>n</td>\n",
              "      <td>y</td>\n",
              "      <td>y</td>\n",
              "      <td>y</td>\n",
              "      <td>n</td>\n",
              "      <td>NaN</td>\n",
              "    </tr>\n",
              "    <tr>\n",
              "      <th>2</th>\n",
              "      <td>democrat</td>\n",
              "      <td>NaN</td>\n",
              "      <td>y</td>\n",
              "      <td>y</td>\n",
              "      <td>NaN</td>\n",
              "      <td>y</td>\n",
              "      <td>y</td>\n",
              "      <td>n</td>\n",
              "      <td>n</td>\n",
              "      <td>n</td>\n",
              "      <td>n</td>\n",
              "      <td>y</td>\n",
              "      <td>n</td>\n",
              "      <td>y</td>\n",
              "      <td>y</td>\n",
              "      <td>n</td>\n",
              "      <td>n</td>\n",
              "    </tr>\n",
              "    <tr>\n",
              "      <th>3</th>\n",
              "      <td>democrat</td>\n",
              "      <td>n</td>\n",
              "      <td>y</td>\n",
              "      <td>y</td>\n",
              "      <td>n</td>\n",
              "      <td>NaN</td>\n",
              "      <td>y</td>\n",
              "      <td>n</td>\n",
              "      <td>n</td>\n",
              "      <td>n</td>\n",
              "      <td>n</td>\n",
              "      <td>y</td>\n",
              "      <td>n</td>\n",
              "      <td>y</td>\n",
              "      <td>n</td>\n",
              "      <td>n</td>\n",
              "      <td>y</td>\n",
              "    </tr>\n",
              "    <tr>\n",
              "      <th>4</th>\n",
              "      <td>democrat</td>\n",
              "      <td>y</td>\n",
              "      <td>y</td>\n",
              "      <td>y</td>\n",
              "      <td>n</td>\n",
              "      <td>y</td>\n",
              "      <td>y</td>\n",
              "      <td>n</td>\n",
              "      <td>n</td>\n",
              "      <td>n</td>\n",
              "      <td>n</td>\n",
              "      <td>y</td>\n",
              "      <td>NaN</td>\n",
              "      <td>y</td>\n",
              "      <td>y</td>\n",
              "      <td>y</td>\n",
              "      <td>y</td>\n",
              "    </tr>\n",
              "  </tbody>\n",
              "</table>\n",
              "</div>"
            ],
            "text/plain": [
              "        party handicapped-infants water-project  ... crime duty-free south-africa\n",
              "0  republican                   n             y  ...     y         n            y\n",
              "1  republican                   n             y  ...     y         n          NaN\n",
              "2    democrat                 NaN             y  ...     y         n            n\n",
              "3    democrat                   n             y  ...     n         n            y\n",
              "4    democrat                   y             y  ...     y         y            y\n",
              "\n",
              "[5 rows x 17 columns]"
            ]
          },
          "metadata": {
            "tags": []
          },
          "execution_count": 4
        }
      ]
    },
    {
      "cell_type": "code",
      "metadata": {
        "id": "zvzDRzInpeh1",
        "colab_type": "code",
        "colab": {}
      },
      "source": [
        "df = df.replace({'y': 1, 'n': 0})"
      ],
      "execution_count": 0,
      "outputs": []
    },
    {
      "cell_type": "code",
      "metadata": {
        "id": "W7TgrFSBpX1E",
        "colab_type": "code",
        "colab": {
          "base_uri": "https://localhost:8080/",
          "height": 159
        },
        "outputId": "b06c2905-9d3f-4249-d122-db00efbb040d"
      },
      "source": [
        "df.groupby(by='party').mean()"
      ],
      "execution_count": 6,
      "outputs": [
        {
          "output_type": "execute_result",
          "data": {
            "text/html": [
              "<div>\n",
              "<style scoped>\n",
              "    .dataframe tbody tr th:only-of-type {\n",
              "        vertical-align: middle;\n",
              "    }\n",
              "\n",
              "    .dataframe tbody tr th {\n",
              "        vertical-align: top;\n",
              "    }\n",
              "\n",
              "    .dataframe thead th {\n",
              "        text-align: right;\n",
              "    }\n",
              "</style>\n",
              "<table border=\"1\" class=\"dataframe\">\n",
              "  <thead>\n",
              "    <tr style=\"text-align: right;\">\n",
              "      <th></th>\n",
              "      <th>handicapped-infants</th>\n",
              "      <th>water-project</th>\n",
              "      <th>budget</th>\n",
              "      <th>physician-fee-freeze</th>\n",
              "      <th>el-salvador-aid</th>\n",
              "      <th>religious-groups</th>\n",
              "      <th>anti-satellite-ban</th>\n",
              "      <th>aid-to-contras</th>\n",
              "      <th>mx-missile</th>\n",
              "      <th>immigration</th>\n",
              "      <th>synfuels</th>\n",
              "      <th>education</th>\n",
              "      <th>right-to-sue</th>\n",
              "      <th>crime</th>\n",
              "      <th>duty-free</th>\n",
              "      <th>south-africa</th>\n",
              "    </tr>\n",
              "    <tr>\n",
              "      <th>party</th>\n",
              "      <th></th>\n",
              "      <th></th>\n",
              "      <th></th>\n",
              "      <th></th>\n",
              "      <th></th>\n",
              "      <th></th>\n",
              "      <th></th>\n",
              "      <th></th>\n",
              "      <th></th>\n",
              "      <th></th>\n",
              "      <th></th>\n",
              "      <th></th>\n",
              "      <th></th>\n",
              "      <th></th>\n",
              "      <th></th>\n",
              "      <th></th>\n",
              "    </tr>\n",
              "  </thead>\n",
              "  <tbody>\n",
              "    <tr>\n",
              "      <th>democrat</th>\n",
              "      <td>0.604651</td>\n",
              "      <td>0.502092</td>\n",
              "      <td>0.888462</td>\n",
              "      <td>0.054054</td>\n",
              "      <td>0.215686</td>\n",
              "      <td>0.476744</td>\n",
              "      <td>0.772201</td>\n",
              "      <td>0.828897</td>\n",
              "      <td>0.758065</td>\n",
              "      <td>0.471483</td>\n",
              "      <td>0.505882</td>\n",
              "      <td>0.144578</td>\n",
              "      <td>0.289683</td>\n",
              "      <td>0.350195</td>\n",
              "      <td>0.637450</td>\n",
              "      <td>0.935135</td>\n",
              "    </tr>\n",
              "    <tr>\n",
              "      <th>republican</th>\n",
              "      <td>0.187879</td>\n",
              "      <td>0.506757</td>\n",
              "      <td>0.134146</td>\n",
              "      <td>0.987879</td>\n",
              "      <td>0.951515</td>\n",
              "      <td>0.897590</td>\n",
              "      <td>0.240741</td>\n",
              "      <td>0.152866</td>\n",
              "      <td>0.115152</td>\n",
              "      <td>0.557576</td>\n",
              "      <td>0.132075</td>\n",
              "      <td>0.870968</td>\n",
              "      <td>0.860759</td>\n",
              "      <td>0.981366</td>\n",
              "      <td>0.089744</td>\n",
              "      <td>0.657534</td>\n",
              "    </tr>\n",
              "  </tbody>\n",
              "</table>\n",
              "</div>"
            ],
            "text/plain": [
              "            handicapped-infants  water-project  ...  duty-free  south-africa\n",
              "party                                           ...                         \n",
              "democrat               0.604651       0.502092  ...   0.637450      0.935135\n",
              "republican             0.187879       0.506757  ...   0.089744      0.657534\n",
              "\n",
              "[2 rows x 16 columns]"
            ]
          },
          "metadata": {
            "tags": []
          },
          "execution_count": 6
        }
      ]
    },
    {
      "cell_type": "markdown",
      "metadata": {
        "id": "gu4CBt2BqoZG",
        "colab_type": "text"
      },
      "source": [
        "###Using hypothesis testing, find an issue that democrats support more than republicans with p < 0.01"
      ]
    },
    {
      "cell_type": "code",
      "metadata": {
        "id": "HAbQnJdoquu_",
        "colab_type": "code",
        "colab": {
          "base_uri": "https://localhost:8080/",
          "height": 34
        },
        "outputId": "b23f7923-3446-4357-a28c-82bbe936c7a5"
      },
      "source": [
        "bud_res = ttest_ind(\n",
        "    df[df['party'] == 'democrat']['budget'].dropna(),\n",
        "    df[df['party'] == 'republican']['budget'].dropna()\n",
        "    )\n",
        "print(bud_res)"
      ],
      "execution_count": 7,
      "outputs": [
        {
          "output_type": "stream",
          "text": [
            "Ttest_indResult(statistic=23.21277691701378, pvalue=2.0703402795405602e-77)\n"
          ],
          "name": "stdout"
        }
      ]
    },
    {
      "cell_type": "code",
      "metadata": {
        "id": "SwwaCmRbskMa",
        "colab_type": "code",
        "colab": {
          "base_uri": "https://localhost:8080/",
          "height": 34
        },
        "outputId": "7c3f93bd-4edf-4bf9-bb70-e38666689795"
      },
      "source": [
        "bud_res.pvalue < 0.01"
      ],
      "execution_count": 8,
      "outputs": [
        {
          "output_type": "execute_result",
          "data": {
            "text/plain": [
              "True"
            ]
          },
          "metadata": {
            "tags": []
          },
          "execution_count": 8
        }
      ]
    },
    {
      "cell_type": "code",
      "metadata": {
        "id": "1OQys2jUr3E4",
        "colab_type": "code",
        "colab": {
          "base_uri": "https://localhost:8080/",
          "height": 51
        },
        "outputId": "843f9feb-4f2f-4c10-85a3-1e97975d4610"
      },
      "source": [
        "print(df[df['party'] == 'democrat']['budget'].mean())\n",
        "print(df[df['party'] == 'republican']['budget'].mean())"
      ],
      "execution_count": 9,
      "outputs": [
        {
          "output_type": "stream",
          "text": [
            "0.8884615384615384\n",
            "0.13414634146341464\n"
          ],
          "name": "stdout"
        }
      ]
    },
    {
      "cell_type": "markdown",
      "metadata": {
        "id": "ih_1cdzrraPI",
        "colab_type": "text"
      },
      "source": [
        "Due to a p-value that is essentially 0 (2e-77), it is very likely that support for the bill 'budget' is greater among democrats."
      ]
    },
    {
      "cell_type": "markdown",
      "metadata": {
        "id": "N1XHPi-wsZkB",
        "colab_type": "text"
      },
      "source": [
        "###Using hypothesis testing, find an issue that democrats support more than republicans with p < 0.01"
      ]
    },
    {
      "cell_type": "code",
      "metadata": {
        "id": "WT7Oz0l1sLLp",
        "colab_type": "code",
        "colab": {
          "base_uri": "https://localhost:8080/",
          "height": 34
        },
        "outputId": "26c46796-38e4-479a-ec75-c988047f49c9"
      },
      "source": [
        "sue_res = ttest_ind(\n",
        "    df[df['party'] == 'democrat']['right-to-sue'].dropna(),\n",
        "    df[df['party'] == 'republican']['right-to-sue'].dropna()\n",
        "    )\n",
        "print(sue_res)"
      ],
      "execution_count": 10,
      "outputs": [
        {
          "output_type": "stream",
          "text": [
            "Ttest_indResult(statistic=-13.51064251060933, pvalue=1.2278581709672014e-34)\n"
          ],
          "name": "stdout"
        }
      ]
    },
    {
      "cell_type": "code",
      "metadata": {
        "id": "4fOxEg9eszu5",
        "colab_type": "code",
        "colab": {
          "base_uri": "https://localhost:8080/",
          "height": 34
        },
        "outputId": "b70ad5f0-32cb-424a-bd3b-e6987d9a6f56"
      },
      "source": [
        "bud_res.pvalue < 0.01"
      ],
      "execution_count": 11,
      "outputs": [
        {
          "output_type": "execute_result",
          "data": {
            "text/plain": [
              "True"
            ]
          },
          "metadata": {
            "tags": []
          },
          "execution_count": 11
        }
      ]
    },
    {
      "cell_type": "code",
      "metadata": {
        "id": "mbIsXpOns3H7",
        "colab_type": "code",
        "colab": {
          "base_uri": "https://localhost:8080/",
          "height": 51
        },
        "outputId": "efe46b90-2e59-47fd-c4e4-a007b7d351a8"
      },
      "source": [
        "print(df[df['party'] == 'democrat']['right-to-sue'].mean())\n",
        "print(df[df['party'] == 'republican']['right-to-sue'].mean())"
      ],
      "execution_count": 12,
      "outputs": [
        {
          "output_type": "stream",
          "text": [
            "0.2896825396825397\n",
            "0.8607594936708861\n"
          ],
          "name": "stdout"
        }
      ]
    },
    {
      "cell_type": "markdown",
      "metadata": {
        "id": "6AX2Sutbs84z",
        "colab_type": "text"
      },
      "source": [
        "Due to a p-value that is essentially 0 (1e-34), it is very likely that support for the bill 'budget' is greater among republicans."
      ]
    },
    {
      "cell_type": "markdown",
      "metadata": {
        "id": "v4ag6aDytM3C",
        "colab_type": "text"
      },
      "source": [
        "### Using hypothesis testing, find an issue where the difference between republicans and democrats has p > 0.1 (i.e. there may not be much of a difference)"
      ]
    },
    {
      "cell_type": "code",
      "metadata": {
        "id": "llkkbJ-3tP8K",
        "colab_type": "code",
        "colab": {
          "base_uri": "https://localhost:8080/",
          "height": 34
        },
        "outputId": "ea38181b-ac92-436c-f3b2-98838e4c29c9"
      },
      "source": [
        "imm_res = ttest_ind(\n",
        "    df[df['party'] == 'democrat']['immigration'].dropna(),\n",
        "    df[df['party'] == 'republican']['immigration'].dropna()\n",
        "    )\n",
        "print(imm_res)"
      ],
      "execution_count": 13,
      "outputs": [
        {
          "output_type": "stream",
          "text": [
            "Ttest_indResult(statistic=-1.7359117329695164, pvalue=0.08330248490425282)\n"
          ],
          "name": "stdout"
        }
      ]
    },
    {
      "cell_type": "code",
      "metadata": {
        "id": "v7wlPOZ3tQB9",
        "colab_type": "code",
        "colab": {
          "base_uri": "https://localhost:8080/",
          "height": 34
        },
        "outputId": "3e946fd5-713a-4071-a155-77071a374d68"
      },
      "source": [
        "imm_res.pvalue / 2 < 0.01"
      ],
      "execution_count": 14,
      "outputs": [
        {
          "output_type": "execute_result",
          "data": {
            "text/plain": [
              "False"
            ]
          },
          "metadata": {
            "tags": []
          },
          "execution_count": 14
        }
      ]
    },
    {
      "cell_type": "code",
      "metadata": {
        "id": "eB8qT2MCtmTm",
        "colab_type": "code",
        "colab": {
          "base_uri": "https://localhost:8080/",
          "height": 51
        },
        "outputId": "a6a2bf39-0f87-4333-af05-56cfe866f62e"
      },
      "source": [
        "print(df[df['party'] == 'democrat']['immigration'].mean())\n",
        "print(df[df['party'] == 'republican']['immigration'].mean())"
      ],
      "execution_count": 15,
      "outputs": [
        {
          "output_type": "stream",
          "text": [
            "0.4714828897338403\n",
            "0.5575757575757576\n"
          ],
          "name": "stdout"
        }
      ]
    },
    {
      "cell_type": "markdown",
      "metadata": {
        "id": "FEtF1F9ItsQx",
        "colab_type": "text"
      },
      "source": [
        "Given a p-value of .0416 (two-tailed) and alpha of .01, I fail to reject the hypothesis that democrats and republicans have similar support on the 'immigration' bill."
      ]
    },
    {
      "cell_type": "markdown",
      "metadata": {
        "id": "hWr3XpZjuraW",
        "colab_type": "text"
      },
      "source": [
        "###Refactor your code into functions so it's easy to rerun with arbitrary variables"
      ]
    },
    {
      "cell_type": "code",
      "metadata": {
        "id": "mY173TH_OxbM",
        "colab_type": "code",
        "colab": {}
      },
      "source": [
        "from scipy.stats import ttest_1samp"
      ],
      "execution_count": 0,
      "outputs": []
    },
    {
      "cell_type": "code",
      "metadata": {
        "id": "Ytt9P1ZOQKh-",
        "colab_type": "code",
        "colab": {}
      },
      "source": [
        "def my_ttest(df, on, subclasses, test_col, test_confidence,\n",
        "             test_mean=None, plot_dist=True):\n",
        "  '''Return a t-test comparing one sample to a test mean (independent t-test)\n",
        "  or comparing two samples to each other.\n",
        "\n",
        "  Parameters:\n",
        "      df : pd.DataFrame\n",
        "        a pandas DataFrame object\n",
        "      on : str\n",
        "        the DataFrame column containing the group(s) to be compared\n",
        "      subclasses : str or list\n",
        "        the name(s) of the group(s) to be compared\n",
        "      test_col : str\n",
        "        the name of the column containing the data used for comparison\n",
        "      test_confidence : float\n",
        "        the significance level (alpha) used for the t-test\n",
        "      test_mean : float, optional\n",
        "        the test mean for single-variable t-tests\n",
        "      plot_dist : boolean, optional\n",
        "        if True, a plot of tested data will be included in output\n",
        "\n",
        "  Returns:\n",
        "      Prints the following data:\n",
        "        t-test analysis\n",
        "        Relevant statistics:\n",
        "          t-stat\n",
        "          p-value\n",
        "          means\n",
        "      Density plot of tested groups (optional)\n",
        "  '''\n",
        "\n",
        "  import seaborn as sns\n",
        "\n",
        "  res_lst = ['','']\n",
        "\n",
        "  if test_mean:\n",
        "    try:\n",
        "      tstat, pval = ttest_1samp(df[df[on] == subclasses]\n",
        "                                           [test_col].dropna(),\n",
        "                                           test_mean)\n",
        "      if plot_dist:\n",
        "        sns.kdeplot((df[df[on] == subclasses][test_col].dropna()),\n",
        "                    label=subclasses)\n",
        "      subclasses = [subclasses]\n",
        "      subclasses.append(str(test_mean))\n",
        "      means = [f'{subclasses[0]} {on} mean: '\n",
        "               f'{ df[df[on] == subclasses[0]][test_col].mean():,.4f}',\n",
        "               f'Test mean: {test_mean}']\n",
        "    except KeyError:\n",
        "      print(f'{subclasses} not found in DataFrame.')\n",
        "      return None\n",
        "    except ValueError:\n",
        "      print('Too many subclasses passed to function with test_mean.\\n'\n",
        "            'Use test_mean only for 1-sample t-tests.'\n",
        "            )\n",
        "      return None\n",
        "    except (NameError, TypeError):\n",
        "      print('Invalid DataFrame')\n",
        "      return None\n",
        "  \n",
        "  elif len(subclasses) != 2:\n",
        "    print('Incorrect number of sublasses passed to function.\\n'\n",
        "          'Expected list of two elements as second argument.'\n",
        "          )\n",
        "    return None\n",
        "\n",
        "  else:\n",
        "    tstat, pval = (ttest_ind(df[df[on] == subclasses[0]]\n",
        "                                        [test_col].dropna(),\n",
        "                                        df[df[on] == subclasses[1]]\n",
        "                                        [test_col].dropna())\n",
        "                              )\n",
        "    if plot_dist:\n",
        "        for subclass in subclasses:\n",
        "          sns.kdeplot(df[df[on] == subclass][test_col].dropna(), label=subclass)\n",
        "    \n",
        "    means = [f'{subclasses[0]} {on} mean: '\n",
        "               f'{ df[df[on] == subclasses[0]][test_col].mean():,.4f}',\n",
        "             f'{subclasses[1]} {on} mean: '\n",
        "               f'{ df[df[on] == subclasses[1]][test_col].mean():,.4f}']\n",
        "    subclasses[1] = 'the \"' + str(subclasses[1]) + f'\" {on}'\n",
        "  conf_lev = (1 - test_confidence) * 100\n",
        "  if pval < test_confidence:\n",
        "    conf_text = 'CAN'\n",
        "  else:\n",
        "    conf_text = 'can NOT'\n",
        "  print(f'At a confidence level of {conf_lev}%, we {conf_text} say that the '\n",
        "         f'\"{subclasses[0]}\" {on} level of \"{test_col}\" is significantly '\n",
        "         f'different than {subclasses[1]}.\\n\\n'\n",
        "         f'Relevant figures:\\n'\n",
        "         f'\\tt-statistic: {tstat:,.4f}\\n'\n",
        "         f'\\tp-value: {pval:.15f}\\n'\n",
        "         f'\\t{means[0]:}\\n'\n",
        "         f'\\t{means[1]}\\n')"
      ],
      "execution_count": 0,
      "outputs": []
    },
    {
      "cell_type": "code",
      "metadata": {
        "id": "b-h5MHkArc_j",
        "colab_type": "code",
        "colab": {
          "base_uri": "https://localhost:8080/",
          "height": 544
        },
        "outputId": "df5c552a-7e33-4c15-ae35-bbf76783e689"
      },
      "source": [
        "help(my_ttest)"
      ],
      "execution_count": 231,
      "outputs": [
        {
          "output_type": "stream",
          "text": [
            "Help on function my_ttest in module __main__:\n",
            "\n",
            "my_ttest(df, on, subclasses, test_col, test_confidence, test_mean=None, plot_dist=True)\n",
            "    Return a t-test comparing one sample to a test mean (independent t-test)\n",
            "    or comparing two samples to each other.\n",
            "    \n",
            "    Parameters:\n",
            "        df : pd.DataFrame\n",
            "          a pandas DataFrame object\n",
            "        on : str\n",
            "          the DataFrame column containing the group(s) to be compared\n",
            "        subclasses : str or list\n",
            "          the name(s) of the group(s) to be compared\n",
            "        test_col : str\n",
            "          the name of the column containing the data used for comparison\n",
            "        test_confidence : float\n",
            "          the significance level (alpha) used for the t-test\n",
            "        test_mean : float, optional\n",
            "          the test mean for single-variable t-tests\n",
            "        plot_dist : boolean, optional\n",
            "          if True, a plot of tested data will be included in output\n",
            "    \n",
            "    Returns:\n",
            "        Prints the following data:\n",
            "          t-test analysis\n",
            "          Relevant statistics:\n",
            "            t-stat\n",
            "            p-value\n",
            "            means\n",
            "        Density plot of tested groups\n",
            "\n"
          ],
          "name": "stdout"
        }
      ]
    },
    {
      "cell_type": "code",
      "metadata": {
        "id": "ysbEAgWBwn-g",
        "colab_type": "code",
        "colab": {
          "base_uri": "https://localhost:8080/",
          "height": 402
        },
        "outputId": "aa9ba10f-fd80-415a-d55a-5078a826b789"
      },
      "source": [
        "my_ttest(df, 'party', 'republican', 'immigration', .01, test_mean=.9)"
      ],
      "execution_count": 226,
      "outputs": [
        {
          "output_type": "stream",
          "text": [
            "At a confidence level of 99.0%, we CAN say that the \"republican\" party level of \"immigration\" is significantly different than 0.9.\n",
            "\n",
            "Relevant figures:\n",
            "\tt-statistic: -8.8291\n",
            "\tp-value: 0.000000000000002\n",
            "\trepublican party mean: 0.5576\n",
            "\tTest mean: 0.9\n",
            "\n"
          ],
          "name": "stdout"
        },
        {
          "output_type": "display_data",
          "data": {
            "image/png": "[encoded data removed]",
            "text/plain": [
              "<Figure size 432x288 with 1 Axes>"
            ]
          },
          "metadata": {
            "tags": []
          }
        }
      ]
    },
    {
      "cell_type": "code",
      "metadata": {
        "id": "1smMzG3vR68e",
        "colab_type": "code",
        "colab": {
          "base_uri": "https://localhost:8080/",
          "height": 401
        },
        "outputId": "7926a4a4-870e-47ef-dace-2613512aca92"
      },
      "source": [
        "my_ttest(df, 'party', ['democrat', 'republican'], 'immigration', .01)"
      ],
      "execution_count": 227,
      "outputs": [
        {
          "output_type": "stream",
          "text": [
            "At a confidence level of 99.0%, we can NOT say that the \"democrat\" party level of \"immigration\" is significantly different than the \"republican\" party.\n",
            "\n",
            "Relevant figures:\n",
            "\tt-statistic: -1.7359\n",
            "\tp-value: 0.083302484904253\n",
            "\tdemocrat party mean: 0.4715\n",
            "\trepublican party mean: 0.5576\n",
            "\n"
          ],
          "name": "stdout"
        },
        {
          "output_type": "display_data",
          "data": {
            "image/png": "[encoded data removed]",
            "text/plain": [
              "<Figure size 432x288 with 1 Axes>"
            ]
          },
          "metadata": {
            "tags": []
          }
        }
      ]
    },
    {
      "cell_type": "code",
      "metadata": {
        "id": "W_B2D0Tqc7QO",
        "colab_type": "code",
        "colab": {}
      },
      "source": [
        "from sklearn.datasets import load_wine\n",
        "X = load_wine()\n",
        "wine = pd.DataFrame(X['data'], columns=X['feature_names'])\n",
        "wine['origin'] = X['target']"
      ],
      "execution_count": 0,
      "outputs": []
    },
    {
      "cell_type": "code",
      "metadata": {
        "id": "8x5Fh0IcdDDw",
        "colab_type": "code",
        "colab": {
          "base_uri": "https://localhost:8080/",
          "height": 401
        },
        "outputId": "1ea8a78f-8341-465c-f911-b8b32b361efd"
      },
      "source": [
        "my_ttest(wine, 'origin', [0, 1], 'ash', .05)"
      ],
      "execution_count": 229,
      "outputs": [
        {
          "output_type": "stream",
          "text": [
            "At a confidence level of 95.0%, we CAN say that the \"0\" origin level of \"ash\" is significantly different than the \"1\" origin.\n",
            "\n",
            "Relevant figures:\n",
            "\tt-statistic: 4.2899\n",
            "\tp-value: 0.000034928138984\n",
            "\t0 origin mean: 2.4556\n",
            "\t1 origin mean: 2.2448\n",
            "\n"
          ],
          "name": "stdout"
        },
        {
          "output_type": "display_data",
          "data": {
            "image/png": "[encoded data removed]",
            "text/plain": [
              "<Figure size 432x288 with 1 Axes>"
            ]
          },
          "metadata": {
            "tags": []
          }
        }
      ]
    },
    {
      "cell_type": "code",
      "metadata": {
        "id": "gsjigOf7n7J0",
        "colab_type": "code",
        "colab": {
          "base_uri": "https://localhost:8080/",
          "height": 153
        },
        "outputId": "1429d8f7-b46d-41ed-ed17-a9bc7706c4a8"
      },
      "source": [
        "my_ttest(df, 'party', ['democrat', 'republican'], 'budget', .01, plot_dist=False)"
      ],
      "execution_count": 230,
      "outputs": [
        {
          "output_type": "stream",
          "text": [
            "At a confidence level of 99.0%, we CAN say that the \"democrat\" party level of \"budget\" is significantly different than the \"republican\" party.\n",
            "\n",
            "Relevant figures:\n",
            "\tt-statistic: 23.2128\n",
            "\tp-value: 0.000000000000000\n",
            "\tdemocrat party mean: 0.8885\n",
            "\trepublican party mean: 0.1341\n",
            "\n"
          ],
          "name": "stdout"
        }
      ]
    }
  ]
}