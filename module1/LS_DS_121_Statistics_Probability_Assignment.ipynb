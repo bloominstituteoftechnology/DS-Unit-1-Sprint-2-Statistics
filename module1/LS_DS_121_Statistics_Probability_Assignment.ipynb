{
  "nbformat": 4,
  "nbformat_minor": 0,
  "metadata": {
    "kernelspec": {
      "display_name": "Python 3",
      "language": "python",
      "name": "python3"
    },
    "language_info": {
      "codemirror_mode": {
        "name": "ipython",
        "version": 3
      },
      "file_extension": ".py",
      "mimetype": "text/x-python",
      "name": "python",
      "nbconvert_exporter": "python",
      "pygments_lexer": "ipython3",
      "version": "3.7.3"
    },
    "colab": {
      "name": "LS_DS_121_Statistics_Probability_Assignment.ipynb",
      "provenance": []
    }
  },
  "cells": [
    {
      "cell_type": "markdown",
      "metadata": {
        "id": "Sa5KWMO1ngPN",
        "colab_type": "text"
      },
      "source": [
        "<img align=\"left\" src=\"https://lever-client-logos.s3.amazonaws.com/864372b1-534c-480e-acd5-9711f850815c-1524247202159.png\" width=200>\n",
        "<br></br>\n",
        "<br></br>\n",
        "\n",
        "## *Data Science Unit 1 Sprint 2 Assignment 1*\n",
        "\n",
        "# Apply the t-test to real data\n",
        "\n",
        "Your assignment is to determine which issues have \"statistically significant\" differences between political parties in this [1980s congressional voting data](https://archive.ics.uci.edu/ml/datasets/Congressional+Voting+Records). The data consists of 435 instances (one for each congressperson), a class (democrat or republican), and 16 binary attributes (yes or no for voting for or against certain issues). Be aware - there are missing values!\n",
        "\n",
        "Your goals:\n",
        "\n",
        "1. Load and clean the data (or determine the best method to drop observations when running tests)\n",
        "2. Using hypothesis testing, find an issue that democrats support more than republicans with p < 0.01\n",
        "3. Using hypothesis testing, find an issue that republicans support more than democrats with p < 0.01\n",
        "4. Using hypothesis testing, find an issue where the difference between republicans and democrats has p > 0.1 (i.e. there may not be much of a difference)\n",
        "\n",
        "Note that this data will involve *2 sample* t-tests, because you're comparing averages across two groups (republicans and democrats) rather than a single group against a null hypothesis.\n",
        "\n",
        "Stretch goals:\n",
        "\n",
        "1. Refactor your code into functions so it's easy to rerun with arbitrary variables\n",
        "2. Apply hypothesis testing to your personal project data (for the purposes of this notebook you can type a summary of the hypothesis you formed and tested)"
      ]
    },
    {
      "cell_type": "code",
      "metadata": {
        "id": "ZKwspo2CngPP",
        "colab_type": "code",
        "colab": {
          "base_uri": "https://localhost:8080/",
          "height": 67
        },
        "outputId": "c9b04786-f096-4323-f5d5-6445417a1916"
      },
      "source": [
        "import pandas as pd\n",
        "from scipy.stats import ttest_ind\n",
        "\n",
        "columns = ['party', 'handicapped-infants', 'water-project-cost-sharing', 'adoption-of-the-budget-resolution',\n",
        "           'physician-fee-freeze', 'el-salvador-aid', 'religious-groups-in-schools', 'anti-satellite-test-ban',\n",
        "           'aid-to-nicaraguan-contras', 'mx-missile', 'immigration', 'synfuels-corporation-cutback',\n",
        "           'education-spending', 'superfund-right-to-sue', 'crime', 'duty-free-exports',\n",
        "           'export-administration-act-south-africa']\n",
        "\n",
        "data = pd.read_csv('https://archive.ics.uci.edu/ml/machine-learning-databases/voting-records/house-votes-84.data',\n",
        "                   na_values='?', names=columns)\n",
        "data = data.replace({'y': 1, 'n': 0})\n",
        "rep = data[data['party'] == 'republican']\n",
        "dem = data[data['party'] == 'democrat']\n",
        "\n",
        "more_rep = ttest_ind(rep['physician-fee-freeze'], dem['physician-fee-freeze'], nan_policy='omit').pvalue\n",
        "more_dem = ttest_ind(dem['handicapped-infants'], rep['handicapped-infants'], nan_policy='omit').pvalue\n",
        "equal = ttest_ind(dem['water-project-cost-sharing'], rep['water-project-cost-sharing'], nan_policy='omit').pvalue\n",
        "\n",
        "print('more republicans voted for the physician-fee-freeze bill with a pvalue of', '{:.20f}'.format(more_rep))\n",
        "print('more democrats voted for the handicapped-infants bill with a pvalue of',  '{:.20f}'.format(more_dem))\n",
        "print('the bill of water-project-cost-sharing was equally voted on with a pvalue of',   '{:.20f}'.format(equal))\n"
      ],
      "execution_count": 42,
      "outputs": [
        {
          "output_type": "stream",
          "text": [
            "more republicans voted for the physician-fee-freeze bill with a pvalue of 0.00000000000000000000\n",
            "more democrats voted for the handicapped-infants bill with a pvalue of 0.00000000000000000161\n",
            "the bill of water-project-cost-sharing was equally voted on with a pvalue of 0.92915568239934853700\n"
          ],
          "name": "stdout"
        }
      ]
    }
  ]
}