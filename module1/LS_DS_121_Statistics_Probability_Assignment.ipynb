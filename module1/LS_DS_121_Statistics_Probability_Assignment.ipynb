{
  "nbformat": 4,
  "nbformat_minor": 0,
  "metadata": {
    "kernelspec": {
      "display_name": "Python 3",
      "language": "python",
      "name": "python3"
    },
    "language_info": {
      "codemirror_mode": {
        "name": "ipython",
        "version": 3
      },
      "file_extension": ".py",
      "mimetype": "text/x-python",
      "name": "python",
      "nbconvert_exporter": "python",
      "pygments_lexer": "ipython3",
      "version": "3.7.3"
    },
    "colab": {
      "name": "LS_DS_121_Statistics_Probability_Assignment.ipynb",
      "provenance": []
    }
  },
  "cells": [
    {
      "cell_type": "markdown",
      "metadata": {
        "id": "Sa5KWMO1ngPN",
        "colab_type": "text"
      },
      "source": [
        "<img align=\"left\" src=\"https://lever-client-logos.s3.amazonaws.com/864372b1-534c-480e-acd5-9711f850815c-1524247202159.png\" width=200>\n",
        "<br></br>\n",
        "<br></br>\n",
        "\n",
        "## *Data Science Unit 1 Sprint 2 Assignment 1*\n",
        "\n",
        "# Apply the t-test to real data\n",
        "\n",
        "Your assignment is to determine which issues have \"statistically significant\" differences between political parties in this [1980s congressional voting data](https://archive.ics.uci.edu/ml/datasets/Congressional+Voting+Records). The data consists of 435 instances (one for each congressperson), a class (democrat or republican), and 16 binary attributes (yes or no for voting for or against certain issues). Be aware - there are missing values!\n",
        "\n",
        "Your goals:\n",
        "\n",
        "1. Load and clean the data (or determine the best method to drop observations when running tests)\n",
        "2. Using hypothesis testing, find an issue that democrats support more than republicans with p < 0.01\n",
        "3. Using hypothesis testing, find an issue that republicans support more than democrats with p < 0.01\n",
        "4. Using hypothesis testing, find an issue where the difference between republicans and democrats has p > 0.1 (i.e. there may not be much of a difference)\n",
        "\n",
        "Note that this data will involve *2 sample* t-tests, because you're comparing averages across two groups (republicans and democrats) rather than a single group against a null hypothesis.\n",
        "\n",
        "Stretch goals:\n",
        "\n",
        "1. Refactor your code into functions so it's easy to rerun with arbitrary variables\n",
        "2. Apply hypothesis testing to your personal project data (for the purposes of this notebook you can type a summary of the hypothesis you formed and tested)"
      ]
    },
    {
      "cell_type": "code",
      "metadata": {
        "id": "ZKwspo2CngPP",
        "colab_type": "code",
        "colab": {}
      },
      "source": [
        "import numpy as np\n",
        "import pandas as pd\n",
        "from scipy import stats\n",
        "\n",
        "df = pd.read_csv(\"https://archive.ics.uci.edu/ml/machine-learning-databases/voting-records/house-votes-84.data\", names=['party','handicapped-infants','water-project',\n",
        "                          'budget','physician-fee-freeze', 'el-salvador-aid',\n",
        "                          'religious-groups','anti-satellite-ban',\n",
        "                          'aid-to-contras','mx-missile','immigration',\n",
        "                          'synfuels', 'education', 'right-to-sue','crime','duty-free',\n",
        "                          'south-africa'])"
      ],
      "execution_count": 0,
      "outputs": []
    },
    {
      "cell_type": "code",
      "metadata": {
        "id": "vvkIz1-R6aV8",
        "colab_type": "code",
        "colab": {}
      },
      "source": [
        "df.replace(to_replace='?', value=np.NaN, inplace=True)\n",
        "df.replace(to_replace='n', value=0, inplace=True)\n",
        "df.replace(to_replace='y', value=1, inplace=True)\n",
        "\n",
        "# I will be using nan_policy='omit' to handle NaN values"
      ],
      "execution_count": 0,
      "outputs": []
    },
    {
      "cell_type": "code",
      "metadata": {
        "id": "7hld-nEz5W00",
        "colab_type": "code",
        "colab": {
          "base_uri": "https://localhost:8080/",
          "height": 1000
        },
        "outputId": "c56735d6-76fb-41e5-fbf4-ac5142128b1e"
      },
      "source": [
        "print(\"#                        df.shape\")\n",
        "print(df.shape)\n",
        "print(\"#                        df.head(10)\")\n",
        "print(df.head(10))\n",
        "print(\"#                        df.tail(10)\")\n",
        "print(df.tail(10))\n",
        "print(\"#                        df.isnull().sum().sort_values()\")\n",
        "print(df.isnull().sum().sort_values())\n",
        "print(\"#                        df.describe()\")\n",
        "print(df.describe())"
      ],
      "execution_count": 14,
      "outputs": [
        {
          "output_type": "stream",
          "text": [
            "#                        df.shape\n",
            "(435, 17)\n",
            "#                        df.head(10)\n",
            "        party  handicapped-infants  ...  duty-free  south-africa\n",
            "0  republican                  0.0  ...        0.0           1.0\n",
            "1  republican                  0.0  ...        0.0           NaN\n",
            "2    democrat                  NaN  ...        0.0           0.0\n",
            "3    democrat                  0.0  ...        0.0           1.0\n",
            "4    democrat                  1.0  ...        1.0           1.0\n",
            "5    democrat                  0.0  ...        1.0           1.0\n",
            "6    democrat                  0.0  ...        1.0           1.0\n",
            "7  republican                  0.0  ...        NaN           1.0\n",
            "8  republican                  0.0  ...        0.0           1.0\n",
            "9    democrat                  1.0  ...        NaN           NaN\n",
            "\n",
            "[10 rows x 17 columns]\n",
            "#                        df.tail(10)\n",
            "          party  handicapped-infants  ...  duty-free  south-africa\n",
            "425    democrat                  0.0  ...        1.0           NaN\n",
            "426    democrat                  1.0  ...        1.0           1.0\n",
            "427  republican                  0.0  ...        0.0           1.0\n",
            "428    democrat                  NaN  ...        1.0           1.0\n",
            "429    democrat                  1.0  ...        1.0           1.0\n",
            "430  republican                  0.0  ...        0.0           1.0\n",
            "431    democrat                  0.0  ...        0.0           1.0\n",
            "432  republican                  0.0  ...        0.0           1.0\n",
            "433  republican                  0.0  ...        0.0           1.0\n",
            "434  republican                  0.0  ...        NaN           0.0\n",
            "\n",
            "[10 rows x 17 columns]\n",
            "#                        df.isnull().sum().sort_values()\n",
            "party                     0\n",
            "immigration               7\n",
            "budget                   11\n",
            "physician-fee-freeze     11\n",
            "religious-groups         11\n",
            "handicapped-infants      12\n",
            "anti-satellite-ban       14\n",
            "aid-to-contras           15\n",
            "el-salvador-aid          15\n",
            "crime                    17\n",
            "synfuels                 21\n",
            "mx-missile               22\n",
            "right-to-sue             25\n",
            "duty-free                28\n",
            "education                31\n",
            "water-project            48\n",
            "south-africa            104\n",
            "dtype: int64\n",
            "#                        df.describe()\n",
            "       handicapped-infants  water-project  ...   duty-free  south-africa\n",
            "count           423.000000     387.000000  ...  407.000000    331.000000\n",
            "mean              0.442080       0.503876  ...    0.427518      0.812689\n",
            "std               0.497222       0.500632  ...    0.495327      0.390752\n",
            "min               0.000000       0.000000  ...    0.000000      0.000000\n",
            "25%               0.000000       0.000000  ...    0.000000      1.000000\n",
            "50%               0.000000       1.000000  ...    0.000000      1.000000\n",
            "75%               1.000000       1.000000  ...    1.000000      1.000000\n",
            "max               1.000000       1.000000  ...    1.000000      1.000000\n",
            "\n",
            "[8 rows x 16 columns]\n"
          ],
          "name": "stdout"
        }
      ]
    },
    {
      "cell_type": "code",
      "metadata": {
        "id": "hHv6V-Mj812w",
        "colab_type": "code",
        "colab": {
          "base_uri": "https://localhost:8080/",
          "height": 1000
        },
        "outputId": "d42c537a-06b2-4cdb-d009-19e26ca037eb"
      },
      "source": [
        "dem = df[df['party']=='democrat']\n",
        "rep = df[df['party']=='republican']\n",
        "\n",
        "print(\"#                        dem.shape\")\n",
        "print(dem.shape)\n",
        "print(\"#                        dem.head(10)\")\n",
        "print(dem.head(10))\n",
        "print(\"#                        dem.tail(10)\")\n",
        "print(dem.tail(10))\n",
        "print(\"#                        dem.isnull().sum().sort_values()\")\n",
        "print(dem.isnull().sum().sort_values())\n",
        "print(\"#                        dem.describe()\")\n",
        "print(dem.describe())\n",
        "print(\"=================================================================\")\n",
        "print(\"#                        rep.shape\")\n",
        "print(rep.shape)\n",
        "print(\"#                        rep.head(10)\")\n",
        "print(rep.head(10))\n",
        "print(\"#                        rep.tail(10)\")\n",
        "print(rep.tail(10))\n",
        "print(\"#                        rep.isnull().sum().sort_values()\")\n",
        "print(rep.isnull().sum().sort_values())\n",
        "print(\"#                        rep.describe()\")\n",
        "print(rep.describe())"
      ],
      "execution_count": 15,
      "outputs": [
        {
          "output_type": "stream",
          "text": [
            "#                        dem.shape\n",
            "(267, 17)\n",
            "#                        dem.head(10)\n",
            "       party  handicapped-infants  ...  duty-free  south-africa\n",
            "2   democrat                  NaN  ...        0.0           0.0\n",
            "3   democrat                  0.0  ...        0.0           1.0\n",
            "4   democrat                  1.0  ...        1.0           1.0\n",
            "5   democrat                  0.0  ...        1.0           1.0\n",
            "6   democrat                  0.0  ...        1.0           1.0\n",
            "9   democrat                  1.0  ...        NaN           NaN\n",
            "12  democrat                  0.0  ...        NaN           NaN\n",
            "13  democrat                  1.0  ...        1.0           NaN\n",
            "16  democrat                  1.0  ...        0.0           1.0\n",
            "17  democrat                  1.0  ...        1.0           1.0\n",
            "\n",
            "[10 rows x 17 columns]\n",
            "#                        dem.tail(10)\n",
            "        party  handicapped-infants  ...  duty-free  south-africa\n",
            "419  democrat                  1.0  ...        0.0           1.0\n",
            "421  democrat                  0.0  ...        1.0           1.0\n",
            "422  democrat                  0.0  ...        1.0           1.0\n",
            "423  democrat                  0.0  ...        1.0           1.0\n",
            "424  democrat                  0.0  ...        1.0           1.0\n",
            "425  democrat                  0.0  ...        1.0           NaN\n",
            "426  democrat                  1.0  ...        1.0           1.0\n",
            "428  democrat                  NaN  ...        1.0           1.0\n",
            "429  democrat                  1.0  ...        1.0           1.0\n",
            "431  democrat                  0.0  ...        0.0           1.0\n",
            "\n",
            "[10 rows x 17 columns]\n",
            "#                        dem.isnull().sum().sort_values()\n",
            "party                    0\n",
            "immigration              4\n",
            "aid-to-contras           4\n",
            "budget                   7\n",
            "physician-fee-freeze     8\n",
            "anti-satellite-ban       8\n",
            "religious-groups         9\n",
            "handicapped-infants      9\n",
            "crime                   10\n",
            "el-salvador-aid         12\n",
            "synfuels                12\n",
            "right-to-sue            15\n",
            "duty-free               16\n",
            "education               18\n",
            "mx-missile              19\n",
            "water-project           28\n",
            "south-africa            82\n",
            "dtype: int64\n",
            "#                        dem.describe()\n",
            "       handicapped-infants  water-project  ...   duty-free  south-africa\n",
            "count           258.000000     239.000000  ...  251.000000    185.000000\n",
            "mean              0.604651       0.502092  ...    0.637450      0.935135\n",
            "std               0.489876       0.501045  ...    0.481697      0.246956\n",
            "min               0.000000       0.000000  ...    0.000000      0.000000\n",
            "25%               0.000000       0.000000  ...    0.000000      1.000000\n",
            "50%               1.000000       1.000000  ...    1.000000      1.000000\n",
            "75%               1.000000       1.000000  ...    1.000000      1.000000\n",
            "max               1.000000       1.000000  ...    1.000000      1.000000\n",
            "\n",
            "[8 rows x 16 columns]\n",
            "=================================================================\n",
            "#                        rep.shape\n",
            "(168, 17)\n",
            "#                        rep.head(10)\n",
            "         party  handicapped-infants  ...  duty-free  south-africa\n",
            "0   republican                  0.0  ...        0.0           1.0\n",
            "1   republican                  0.0  ...        0.0           NaN\n",
            "7   republican                  0.0  ...        NaN           1.0\n",
            "8   republican                  0.0  ...        0.0           1.0\n",
            "10  republican                  0.0  ...        0.0           0.0\n",
            "11  republican                  0.0  ...        NaN           NaN\n",
            "14  republican                  0.0  ...        0.0           NaN\n",
            "15  republican                  0.0  ...        0.0           NaN\n",
            "18  republican                  0.0  ...        0.0           0.0\n",
            "28  republican                  1.0  ...        0.0           1.0\n",
            "\n",
            "[10 rows x 17 columns]\n",
            "#                        rep.tail(10)\n",
            "          party  handicapped-infants  ...  duty-free  south-africa\n",
            "410  republican                  0.0  ...        0.0           1.0\n",
            "412  republican                  0.0  ...        0.0           1.0\n",
            "413  republican                  1.0  ...        0.0           1.0\n",
            "416  republican                  1.0  ...        0.0           1.0\n",
            "420  republican                  1.0  ...        0.0           1.0\n",
            "427  republican                  0.0  ...        0.0           1.0\n",
            "430  republican                  0.0  ...        0.0           1.0\n",
            "432  republican                  0.0  ...        0.0           1.0\n",
            "433  republican                  0.0  ...        0.0           1.0\n",
            "434  republican                  0.0  ...        NaN           0.0\n",
            "\n",
            "[10 rows x 17 columns]\n",
            "#                        rep.isnull().sum().sort_values()\n",
            "party                    0\n",
            "religious-groups         2\n",
            "handicapped-infants      3\n",
            "physician-fee-freeze     3\n",
            "el-salvador-aid          3\n",
            "mx-missile               3\n",
            "immigration              3\n",
            "budget                   4\n",
            "anti-satellite-ban       6\n",
            "crime                    7\n",
            "synfuels                 9\n",
            "right-to-sue            10\n",
            "aid-to-contras          11\n",
            "duty-free               12\n",
            "education               13\n",
            "water-project           20\n",
            "south-africa            22\n",
            "dtype: int64\n",
            "#                        rep.describe()\n",
            "       handicapped-infants  water-project  ...   duty-free  south-africa\n",
            "count           165.000000     148.000000  ...  156.000000    146.000000\n",
            "mean              0.187879       0.506757  ...    0.089744      0.657534\n",
            "std               0.391804       0.501652  ...    0.286735      0.476168\n",
            "min               0.000000       0.000000  ...    0.000000      0.000000\n",
            "25%               0.000000       0.000000  ...    0.000000      0.000000\n",
            "50%               0.000000       1.000000  ...    0.000000      1.000000\n",
            "75%               0.000000       1.000000  ...    0.000000      1.000000\n",
            "max               1.000000       1.000000  ...    1.000000      1.000000\n",
            "\n",
            "[8 rows x 16 columns]\n"
          ],
          "name": "stdout"
        }
      ]
    },
    {
      "cell_type": "code",
      "metadata": {
        "id": "TdtCZcnU9h_I",
        "colab_type": "code",
        "colab": {
          "base_uri": "https://localhost:8080/",
          "height": 51
        },
        "outputId": "c81d428e-0da7-4a3d-eaf5-4d435a22fb23"
      },
      "source": [
        "# Testing to see how they return values\n",
        "# t_stat = stats.ttest_1samp([0,1,2], 0)[0]\n",
        "# print(t_stat)\n",
        "# pvalue = stats.ttest_1samp([0,1,2], 0)[1]\n",
        "# print(p_value)\n",
        "# t_test = stats.ttest_1samp([0,1,2], 0)\n",
        "# print(t_test.statistic)\n",
        "# print(t_test.pvalue)"
      ],
      "execution_count": 22,
      "outputs": [
        {
          "output_type": "stream",
          "text": [
            "1.7320508075688774\n",
            "0.22540333075851657\n"
          ],
          "name": "stdout"
        }
      ]
    },
    {
      "cell_type": "code",
      "metadata": {
        "id": "u8AOZKMV-7H-",
        "colab_type": "code",
        "colab": {}
      },
      "source": [
        "def two_sample_result(rep_set, dem_set):\n",
        "  t_test = stats.ttest_ind(rep_set, dem_set, nan_policy='omit')\n",
        "  print(\"Results:\")\n",
        "  print(\"\\nT Statistic: \" + str(t_test.statistic))\n",
        "  print(\"\\nP Value: \" + str(t_test.pvalue))\n",
        "  if t_test.pvalue <= 0.05:\n",
        "    print(\"\\nReject H_0.\")\n",
        "    if t_test.statistic > 0:\n",
        "      print(\"\\nSuggest republican support is greater. R.mean=\" + str(rep_set.mean()) + \", D.mean=\" + str(dem_set.mean()))\n",
        "    elif t_test.statistic < 0:\n",
        "      print(\"\\nSuggest democrat support is greater. R.mean=\" + str(rep_set.mean()) + \", D.mean=\" + str(dem_set.mean()))\n",
        "    else:\n",
        "      print(\"\\nT Stat = 0, how did you get here??\")\n",
        "  else:\n",
        "    print(\"\\nDo not reject H_0. Suggest levels of support are approximately the same between R/D, or not different enough to be statistically significant.\")"
      ],
      "execution_count": 0,
      "outputs": []
    },
    {
      "cell_type": "code",
      "metadata": {
        "id": "UvVo7jYJD7Tc",
        "colab_type": "code",
        "colab": {
          "base_uri": "https://localhost:8080/",
          "height": 170
        },
        "outputId": "536f76ed-66db-477a-8ea0-92bd55853fd5"
      },
      "source": [
        "two_sample_result(rep['education'], dem['education']) # Test the example from class to double check it works as expected"
      ],
      "execution_count": 37,
      "outputs": [
        {
          "output_type": "stream",
          "text": [
            "Results:\n",
            "\n",
            "T Statistic: 20.500685724563073\n",
            "\n",
            "P Value: 1.8834203990450192e-64\n",
            "\n",
            "Reject H_0.\n",
            "\n",
            "Suggest republican support is greater. R.mean=0.8709677419354839, D.mean=0.14457831325301204\n"
          ],
          "name": "stdout"
        }
      ]
    },
    {
      "cell_type": "code",
      "metadata": {
        "id": "TDWTk0gfEA9R",
        "colab_type": "code",
        "colab": {
          "base_uri": "https://localhost:8080/",
          "height": 136
        },
        "outputId": "09c1ec59-552c-4b2a-cedb-7dff69901b72"
      },
      "source": [
        "two_sample_result(rep['immigration'], dem['immigration'])"
      ],
      "execution_count": 38,
      "outputs": [
        {
          "output_type": "stream",
          "text": [
            "Results:\n",
            "\n",
            "T Statistic: 1.7359117329695164\n",
            "\n",
            "P Value: 0.08330248490425066\n",
            "\n",
            "Do not reject H_0. Suggest levels of support are approximately the same between R/D, or not different enough to be statistically significant.\n"
          ],
          "name": "stdout"
        }
      ]
    },
    {
      "cell_type": "code",
      "metadata": {
        "id": "RuVyt7S6E13C",
        "colab_type": "code",
        "colab": {
          "base_uri": "https://localhost:8080/",
          "height": 170
        },
        "outputId": "112bf175-0e6f-406f-def1-858103083b2b"
      },
      "source": [
        "two_sample_result(rep['aid-to-contras'], dem['aid-to-contras'])"
      ],
      "execution_count": 41,
      "outputs": [
        {
          "output_type": "stream",
          "text": [
            "Results:\n",
            "\n",
            "T Statistic: -18.052093200819733\n",
            "\n",
            "P Value: 2.82471841372357e-54\n",
            "\n",
            "Reject H_0.\n",
            "\n",
            "Suggest democrat support is greater. R.mean=0.15286624203821655, D.mean=0.8288973384030418\n"
          ],
          "name": "stdout"
        }
      ]
    },
    {
      "cell_type": "code",
      "metadata": {
        "id": "AWm4tcfcE2Ea",
        "colab_type": "code",
        "colab": {
          "base_uri": "https://localhost:8080/",
          "height": 170
        },
        "outputId": "6fe7bb90-c290-410a-c319-ec54b0a57abe"
      },
      "source": [
        "two_sample_result(rep['crime'], dem['crime'])"
      ],
      "execution_count": 42,
      "outputs": [
        {
          "output_type": "stream",
          "text": [
            "Results:\n",
            "\n",
            "T Statistic: 16.342085656197696\n",
            "\n",
            "P Value: 9.952342705606092e-47\n",
            "\n",
            "Reject H_0.\n",
            "\n",
            "Suggest republican support is greater. R.mean=0.9813664596273292, D.mean=0.35019455252918286\n"
          ],
          "name": "stdout"
        }
      ]
    }
  ]
}