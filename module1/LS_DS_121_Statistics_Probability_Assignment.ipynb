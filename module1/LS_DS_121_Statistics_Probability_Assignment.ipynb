{
  "nbformat": 4,
  "nbformat_minor": 0,
  "metadata": {
    "kernelspec": {
      "display_name": "Python 3",
      "language": "python",
      "name": "python3"
    },
    "language_info": {
      "codemirror_mode": {
        "name": "ipython",
        "version": 3
      },
      "file_extension": ".py",
      "mimetype": "text/x-python",
      "name": "python",
      "nbconvert_exporter": "python",
      "pygments_lexer": "ipython3",
      "version": "3.7.3"
    },
    "colab": {
      "name": "LS_DS_121_Statistics_Probability_Assignment.ipynb",
      "provenance": [],
      "include_colab_link": true
    }
  },
  "cells": [
    {
      "cell_type": "markdown",
      "metadata": {
        "id": "view-in-github",
        "colab_type": "text"
      },
      "source": [
        "<a href=\"https://colab.research.google.com/github/Jwilson1172/DS-Unit-1-Sprint-2-Statistics/blob/master/module1/LS_DS_121_Statistics_Probability_Assignment.ipynb\" target=\"_parent\"><img src=\"https://colab.research.google.com/assets/colab-badge.svg\" alt=\"Open In Colab\"/></a>"
      ]
    },
    {
      "cell_type": "markdown",
      "metadata": {
        "id": "Sa5KWMO1ngPN",
        "colab_type": "text"
      },
      "source": [
        "\n",
        "<img align=\"left\" src=\"https://lever-client-logos.s3.amazonaws.com/864372b1-534c-480e-acd5-9711f850815c-1524247202159.png\" width=200>\n",
        "<br></br>\n",
        "<br></br>\n",
        "\n",
        "## *Data Science Unit 1 Sprint 2 Assignment 1*\n",
        "\n",
        "# Apply the t-test to real data\n",
        "\n",
        "Your assignment is to determine which issues have \"statistically significant\" differences between political parties in this [1980s congressional voting data](https://archive.ics.uci.edu/ml/datasets/Congressional+Voting+Records). The data consists of 435 instances (one for each congressperson), a class (democrat or republican), and 16 binary attributes (yes or no for voting for or against certain issues). Be aware - there are missing values!\n",
        "\n",
        "Your goals:\n",
        "\n",
        "1. Load and clean the data (or determine the best method to drop observations when running tests)\n",
        "2. Using hypothesis testing, find an issue that democrats support more than republicans with p < 0.01\n",
        "3. Using hypothesis testing, find an issue that republicans support more than democrats with p < 0.01\n",
        "4. Using hypothesis testing, find an issue where the difference between republicans and democrats has p > 0.1 (i.e. there may not be much of a difference)\n",
        "\n",
        "Note that this data will involve *2 sample* t-tests, because you're comparing averages across two groups (republicans and democrats) rather than a single group against a null hypothesis.\n",
        "\n",
        "Stretch goals:\n",
        "\n",
        "1. Refactor your code into functions so it's easy to rerun with arbitrary variables\n",
        "2. Apply hypothesis testing to your personal project data (for the purposes of this notebook you can type a summary of the hypothesis you formed and tested)"
      ]
    },
    {
      "cell_type": "code",
      "metadata": {
        "id": "ZKwspo2CngPP",
        "colab_type": "code",
        "colab": {}
      },
      "source": [
        "import numpy as np\n",
        "import pandas as pd\n",
        "from scipy import stats\n",
        "\n",
        "# column headers\n",
        "names=['party','handicapped-infants','water-project',\n",
        "                          'budget','physician-fee-freeze', 'el-salvador-aid',\n",
        "                          'religious-groups','anti-satellite-ban',\n",
        "                          'aid-to-contras','mx-missile','immigration',\n",
        "                          'synfuels', 'education', 'right-to-sue','crime','duty-free',\n",
        "                          'south-africa']\n",
        "\n",
        "# init the datra frame from csv\n",
        "df=pd.read_csv('/content/house-votes-84.data',names=names)\n"
      ],
      "execution_count": 0,
      "outputs": []
    },
    {
      "cell_type": "code",
      "metadata": {
        "id": "IISkVRWwe6nl",
        "colab_type": "code",
        "colab": {
          "base_uri": "https://localhost:8080/",
          "height": 238
        },
        "outputId": "4d7b1ddb-8380-4cf8-edbc-e007380cce27"
      },
      "source": [
        "# make sure that the changes persisted\n",
        "df=df.replace({'n':0,'y':1,'?':np.NaN})\n",
        "df.head()"
      ],
      "execution_count": 5,
      "outputs": [
        {
          "output_type": "execute_result",
          "data": {
            "text/html": [
              "<div>\n",
              "<style scoped>\n",
              "    .dataframe tbody tr th:only-of-type {\n",
              "        vertical-align: middle;\n",
              "    }\n",
              "\n",
              "    .dataframe tbody tr th {\n",
              "        vertical-align: top;\n",
              "    }\n",
              "\n",
              "    .dataframe thead th {\n",
              "        text-align: right;\n",
              "    }\n",
              "</style>\n",
              "<table border=\"1\" class=\"dataframe\">\n",
              "  <thead>\n",
              "    <tr style=\"text-align: right;\">\n",
              "      <th></th>\n",
              "      <th>party</th>\n",
              "      <th>handicapped-infants</th>\n",
              "      <th>water-project</th>\n",
              "      <th>budget</th>\n",
              "      <th>physician-fee-freeze</th>\n",
              "      <th>el-salvador-aid</th>\n",
              "      <th>religious-groups</th>\n",
              "      <th>anti-satellite-ban</th>\n",
              "      <th>aid-to-contras</th>\n",
              "      <th>mx-missile</th>\n",
              "      <th>immigration</th>\n",
              "      <th>synfuels</th>\n",
              "      <th>education</th>\n",
              "      <th>right-to-sue</th>\n",
              "      <th>crime</th>\n",
              "      <th>duty-free</th>\n",
              "      <th>south-africa</th>\n",
              "    </tr>\n",
              "  </thead>\n",
              "  <tbody>\n",
              "    <tr>\n",
              "      <th>0</th>\n",
              "      <td>republican</td>\n",
              "      <td>0.0</td>\n",
              "      <td>1.0</td>\n",
              "      <td>0.0</td>\n",
              "      <td>1.0</td>\n",
              "      <td>1.0</td>\n",
              "      <td>1.0</td>\n",
              "      <td>0.0</td>\n",
              "      <td>0.0</td>\n",
              "      <td>0.0</td>\n",
              "      <td>1.0</td>\n",
              "      <td>NaN</td>\n",
              "      <td>1.0</td>\n",
              "      <td>1.0</td>\n",
              "      <td>1.0</td>\n",
              "      <td>0.0</td>\n",
              "      <td>1.0</td>\n",
              "    </tr>\n",
              "    <tr>\n",
              "      <th>1</th>\n",
              "      <td>republican</td>\n",
              "      <td>0.0</td>\n",
              "      <td>1.0</td>\n",
              "      <td>0.0</td>\n",
              "      <td>1.0</td>\n",
              "      <td>1.0</td>\n",
              "      <td>1.0</td>\n",
              "      <td>0.0</td>\n",
              "      <td>0.0</td>\n",
              "      <td>0.0</td>\n",
              "      <td>0.0</td>\n",
              "      <td>0.0</td>\n",
              "      <td>1.0</td>\n",
              "      <td>1.0</td>\n",
              "      <td>1.0</td>\n",
              "      <td>0.0</td>\n",
              "      <td>NaN</td>\n",
              "    </tr>\n",
              "    <tr>\n",
              "      <th>2</th>\n",
              "      <td>democrat</td>\n",
              "      <td>NaN</td>\n",
              "      <td>1.0</td>\n",
              "      <td>1.0</td>\n",
              "      <td>NaN</td>\n",
              "      <td>1.0</td>\n",
              "      <td>1.0</td>\n",
              "      <td>0.0</td>\n",
              "      <td>0.0</td>\n",
              "      <td>0.0</td>\n",
              "      <td>0.0</td>\n",
              "      <td>1.0</td>\n",
              "      <td>0.0</td>\n",
              "      <td>1.0</td>\n",
              "      <td>1.0</td>\n",
              "      <td>0.0</td>\n",
              "      <td>0.0</td>\n",
              "    </tr>\n",
              "    <tr>\n",
              "      <th>3</th>\n",
              "      <td>democrat</td>\n",
              "      <td>0.0</td>\n",
              "      <td>1.0</td>\n",
              "      <td>1.0</td>\n",
              "      <td>0.0</td>\n",
              "      <td>NaN</td>\n",
              "      <td>1.0</td>\n",
              "      <td>0.0</td>\n",
              "      <td>0.0</td>\n",
              "      <td>0.0</td>\n",
              "      <td>0.0</td>\n",
              "      <td>1.0</td>\n",
              "      <td>0.0</td>\n",
              "      <td>1.0</td>\n",
              "      <td>0.0</td>\n",
              "      <td>0.0</td>\n",
              "      <td>1.0</td>\n",
              "    </tr>\n",
              "    <tr>\n",
              "      <th>4</th>\n",
              "      <td>democrat</td>\n",
              "      <td>1.0</td>\n",
              "      <td>1.0</td>\n",
              "      <td>1.0</td>\n",
              "      <td>0.0</td>\n",
              "      <td>1.0</td>\n",
              "      <td>1.0</td>\n",
              "      <td>0.0</td>\n",
              "      <td>0.0</td>\n",
              "      <td>0.0</td>\n",
              "      <td>0.0</td>\n",
              "      <td>1.0</td>\n",
              "      <td>NaN</td>\n",
              "      <td>1.0</td>\n",
              "      <td>1.0</td>\n",
              "      <td>1.0</td>\n",
              "      <td>1.0</td>\n",
              "    </tr>\n",
              "  </tbody>\n",
              "</table>\n",
              "</div>"
            ],
            "text/plain": [
              "        party  handicapped-infants  ...  duty-free  south-africa\n",
              "0  republican                  0.0  ...        0.0           1.0\n",
              "1  republican                  0.0  ...        0.0           NaN\n",
              "2    democrat                  NaN  ...        0.0           0.0\n",
              "3    democrat                  0.0  ...        0.0           1.0\n",
              "4    democrat                  1.0  ...        1.0           1.0\n",
              "\n",
              "[5 rows x 17 columns]"
            ]
          },
          "metadata": {
            "tags": []
          },
          "execution_count": 5
        }
      ]
    },
    {
      "cell_type": "code",
      "metadata": {
        "id": "sIy90vcjgNxv",
        "colab_type": "code",
        "colab": {
          "base_uri": "https://localhost:8080/",
          "height": 289
        },
        "outputId": "e2d12d5a-0f10-4fc1-8e75-357932c1d8aa"
      },
      "source": [
        "rep=df[df['party']=='republican']\n",
        "dem=df[df['party']=='democrat']\n",
        "\n",
        "# using ugly output to print heads to see if it looks right\n",
        "print(rep.head())\n",
        "print(dem.head())\n"
      ],
      "execution_count": 8,
      "outputs": [
        {
          "output_type": "stream",
          "text": [
            "         party  handicapped-infants  ...  duty-free  south-africa\n",
            "0   republican                  0.0  ...        0.0           1.0\n",
            "1   republican                  0.0  ...        0.0           NaN\n",
            "7   republican                  0.0  ...        NaN           1.0\n",
            "8   republican                  0.0  ...        0.0           1.0\n",
            "10  republican                  0.0  ...        0.0           0.0\n",
            "\n",
            "[5 rows x 17 columns]\n",
            "      party  handicapped-infants  water-project  ...  crime  duty-free  south-africa\n",
            "2  democrat                  NaN            1.0  ...    1.0        0.0           0.0\n",
            "3  democrat                  0.0            1.0  ...    0.0        0.0           1.0\n",
            "4  democrat                  1.0            1.0  ...    1.0        1.0           1.0\n",
            "5  democrat                  0.0            1.0  ...    1.0        1.0           1.0\n",
            "6  democrat                  0.0            1.0  ...    1.0        1.0           1.0\n",
            "\n",
            "[5 rows x 17 columns]\n"
          ],
          "name": "stdout"
        }
      ]
    },
    {
      "cell_type": "code",
      "metadata": {
        "id": "XyM0b0Evoj-k",
        "colab_type": "code",
        "colab": {
          "base_uri": "https://localhost:8080/",
          "height": 629
        },
        "outputId": "52e60b10-7d24-49ce-f7a8-0d5a793dfef5"
      },
      "source": [
        "# find the mean values for each column in both data sets\n",
        "# this is going to tell me what issues each party voted for\n",
        "# excluding party column because it dosent make sense to take the mean of a string\n",
        "print('\\nREP:')\n",
        "for col in names[1:]:\n",
        "  print(f\"issue: {col} Mean votes: {rep[col].describe()['mean']}\")\n",
        "print(\"\\nDEM:\")\n",
        "for col in names[1:]:\n",
        "  print(f\"issue: {col} Mean votes: {dem[col].describe()['mean']}\")\n"
      ],
      "execution_count": 19,
      "outputs": [
        {
          "output_type": "stream",
          "text": [
            "\n",
            "REP:\n",
            "issue: handicapped-infants Mean votes: 0.18787878787878787\n",
            "issue: water-project Mean votes: 0.5067567567567568\n",
            "issue: budget Mean votes: 0.13414634146341464\n",
            "issue: physician-fee-freeze Mean votes: 0.9878787878787879\n",
            "issue: el-salvador-aid Mean votes: 0.9515151515151515\n",
            "issue: religious-groups Mean votes: 0.8975903614457831\n",
            "issue: anti-satellite-ban Mean votes: 0.24074074074074073\n",
            "issue: aid-to-contras Mean votes: 0.15286624203821655\n",
            "issue: mx-missile Mean votes: 0.11515151515151516\n",
            "issue: immigration Mean votes: 0.5575757575757576\n",
            "issue: synfuels Mean votes: 0.1320754716981132\n",
            "issue: education Mean votes: 0.8709677419354839\n",
            "issue: right-to-sue Mean votes: 0.8607594936708861\n",
            "issue: crime Mean votes: 0.9813664596273292\n",
            "issue: duty-free Mean votes: 0.08974358974358974\n",
            "issue: south-africa Mean votes: 0.6575342465753424\n",
            "\n",
            "DEM:\n",
            "issue: handicapped-infants Mean votes: 0.6046511627906976\n",
            "issue: water-project Mean votes: 0.502092050209205\n",
            "issue: budget Mean votes: 0.8884615384615384\n",
            "issue: physician-fee-freeze Mean votes: 0.05405405405405406\n",
            "issue: el-salvador-aid Mean votes: 0.21568627450980393\n",
            "issue: religious-groups Mean votes: 0.47674418604651164\n",
            "issue: anti-satellite-ban Mean votes: 0.7722007722007722\n",
            "issue: aid-to-contras Mean votes: 0.8288973384030418\n",
            "issue: mx-missile Mean votes: 0.7580645161290323\n",
            "issue: immigration Mean votes: 0.4714828897338403\n",
            "issue: synfuels Mean votes: 0.5058823529411764\n",
            "issue: education Mean votes: 0.14457831325301204\n",
            "issue: right-to-sue Mean votes: 0.2896825396825397\n",
            "issue: crime Mean votes: 0.35019455252918286\n",
            "issue: duty-free Mean votes: 0.6374501992031872\n",
            "issue: south-africa Mean votes: 0.9351351351351351\n"
          ],
          "name": "stdout"
        }
      ]
    },
    {
      "cell_type": "markdown",
      "metadata": {
        "id": "j_nK-kTunqTG",
        "colab_type": "text"
      },
      "source": [
        "# Finding a Republican issue"
      ]
    },
    {
      "cell_type": "markdown",
      "metadata": {
        "id": "WLJVqUparO6I",
        "colab_type": "text"
      },
      "source": [
        "###Null Hypothesis: \n",
        "Republican support for the 'crime' bill ***is not*** equal to the democrats support for the 'crime' bill.\n",
        "\n",
        "$ H_0: \\bar{x}_{r} \\neq \\bar{x}_{d}$\n",
        "\n",
        "###Alternate Hypothesis: \n",
        "Republican support for the bill 'crime' is equal to the democrates support for the 'crime' bill\n",
        "\n",
        "$ H_a: \\bar{x}_{r} == \\bar{x}_{d}$\n",
        "\n",
        "###Confidence Level: \n",
        "95% (My critical value is .05) -> (1-.95 == .05)\n"
      ]
    },
    {
      "cell_type": "code",
      "metadata": {
        "id": "AeaqDLa0jzW0",
        "colab_type": "code",
        "colab": {
          "base_uri": "https://localhost:8080/",
          "height": 34
        },
        "outputId": "1259a9cf-0d68-4dfd-ffa0-93ee33bf5681"
      },
      "source": [
        "# ttest if the republicans and democarts support for the'crime' bill differs\n",
        "stats.ttest_ind(rep['crime'],dem['crime'],nan_policy='omit')"
      ],
      "execution_count": 20,
      "outputs": [
        {
          "output_type": "execute_result",
          "data": {
            "text/plain": [
              "Ttest_indResult(statistic=16.342085656197696, pvalue=9.952342705606092e-47)"
            ]
          },
          "metadata": {
            "tags": []
          },
          "execution_count": 20
        }
      ]
    },
    {
      "cell_type": "markdown",
      "metadata": {
        "id": "2nNGiw6g4FvO",
        "colab_type": "text"
      },
      "source": [
        "##Conclusion:\n",
        "bases on the t-stat of 16.34 and the p-value of 9.95x10<sup>-47</sup> I <b>fail to reject</b> the null hypothesis that the support for the 'crime' bill is equal between Democrats and Republicans"
      ]
    },
    {
      "cell_type": "markdown",
      "metadata": {
        "id": "PmFEtGMUrLwn",
        "colab_type": "text"
      },
      "source": [
        "#Finding A Democrat Issue:"
      ]
    },
    {
      "cell_type": "markdown",
      "metadata": {
        "id": "Mqw44a7d6KEd",
        "colab_type": "text"
      },
      "source": [
        "###Null Hypothesis: \n",
        "Republican support for the 'budget' bill ***is not*** equal to the democrats support for the 'budget' bill.\n",
        "\n",
        "$ H_0: \\bar{x}_{r} \\neq \\bar{x}_{d}$\n",
        "\n",
        "###Alternate Hypothesis: \n",
        "Republican support for the bill 'budget' is equal to the democrates support for the 'budget' bill\n",
        "\n",
        "$ H_a: \\bar{x}_{r} == \\bar{x}_{d}$\n",
        "\n",
        "###Confidence Level: \n",
        "95% (My critical value is .05) -> (1-.95 == .05)"
      ]
    },
    {
      "cell_type": "code",
      "metadata": {
        "id": "idHYuDQwrJub",
        "colab_type": "code",
        "colab": {
          "base_uri": "https://localhost:8080/",
          "height": 34
        },
        "outputId": "e2dfe203-d00e-4905-efce-8c2a191d9839"
      },
      "source": [
        "# ttest if the democrats and repbulicans have diffreing views on the 'budget' bill\n",
        "stats.ttest_ind(rep['budget'],dem['budget'],nan_policy='omit')"
      ],
      "execution_count": 21,
      "outputs": [
        {
          "output_type": "execute_result",
          "data": {
            "text/plain": [
              "Ttest_indResult(statistic=-23.21277691701378, pvalue=2.0703402795404463e-77)"
            ]
          },
          "metadata": {
            "tags": []
          },
          "execution_count": 21
        }
      ]
    },
    {
      "cell_type": "markdown",
      "metadata": {
        "colab_type": "text",
        "id": "R0Kl-UrV7VIn"
      },
      "source": [
        "##Conclusion:\n",
        "bases on the t-stat of -23.21 and the p-value of 2.07x10<sup>-77</sup> I <b>fail to reject</b> the null hypothesis that the support for the 'budget' bill is equal between Democrats and Republicans"
      ]
    },
    {
      "cell_type": "markdown",
      "metadata": {
        "id": "8yLTZYqN8e_C",
        "colab_type": "text"
      },
      "source": [
        "#Finding A Bi-Partisan Issue:"
      ]
    },
    {
      "cell_type": "markdown",
      "metadata": {
        "colab_type": "text",
        "id": "94lE_l5m9ILz"
      },
      "source": [
        "###Null Hypothesis: \n",
        "Republican support for the 'water-project' bill ***is not*** equal to the democrats support for the 'water-project' bill.\n",
        "\n",
        "$ H_0: \\bar{x}_{r} \\neq \\bar{x}_{d}$\n",
        "\n",
        "###Alternate Hypothesis: \n",
        "Republican support for the bill 'water-project' is equal to the democrates support for the 'water-project' bill\n",
        "\n",
        "$ H_a: \\bar{x}_{r} == \\bar{x}_{d}$\n",
        "\n",
        "###Confidence Level: \n",
        "95% (My critical value is .05) -> (1-.95 == .05)"
      ]
    },
    {
      "cell_type": "code",
      "metadata": {
        "id": "oTggIR736vTj",
        "colab_type": "code",
        "colab": {
          "base_uri": "https://localhost:8080/",
          "height": 34
        },
        "outputId": "4ad9276f-9c3e-4859-af14-bcc16c2f436c"
      },
      "source": [
        "stats.ttest_ind(rep['water-project'],dem['water-project'],nan_policy='omit')"
      ],
      "execution_count": 23,
      "outputs": [
        {
          "output_type": "execute_result",
          "data": {
            "text/plain": [
              "Ttest_indResult(statistic=0.08896538137868286, pvalue=0.9291556823993485)"
            ]
          },
          "metadata": {
            "tags": []
          },
          "execution_count": 23
        }
      ]
    },
    {
      "cell_type": "markdown",
      "metadata": {
        "colab_type": "text",
        "id": "iqKn60WS9J18"
      },
      "source": [
        "##Conclusion:\n",
        "bases on the t-stat of 0.089 and the p-value of ~1 I <b>Reject</b> the null hypothesis that the support for the 'water-project' bill is not equal between Democrats and Republicans, and sujgest the alternitive hypothesis, the the support for the water bill is closer to 50/50"
      ]
    },
    {
      "cell_type": "markdown",
      "metadata": {
        "id": "K4XfAYVKDd_H",
        "colab_type": "text"
      },
      "source": [
        "##Stretch Goal:"
      ]
    },
    {
      "cell_type": "code",
      "metadata": {
        "id": "F3Ol1jEj-sr8",
        "colab_type": "code",
        "colab": {}
      },
      "source": [
        "# making a funtion to find abbitrary inputs pythonicly\n",
        "def ttest_ind_all(df1:pd.DataFrame,df2:pd.DataFrame,columns=\"\")->type(None):\n",
        "  '''\n",
        "    A function that takes 2 data frames and conducts ttest on all of the columns in thoose dataframes\n",
        "    \n",
        "    @param df1: the first data frame to test, NOTE: this is the df that has its columns indexed\n",
        "    @param df2: the second dataframe to test the frist data frame against\n",
        "    @columns: specific columns to test in the two dataframes NOTE: please don't df.columns this arg\n",
        "    it wasnt ment for that it was ment for a subset of df.columns that doesn't include the 'name' column\n",
        "  '''\n",
        "  # if there are no columns passed\n",
        "  if columns==\"\":\n",
        "    # i want to itterat throught the columns but not 'name'\n",
        "    # @todo implement more arguments to switch offset\n",
        "    for col in df1.columns.to_numpy()[1:]:\n",
        "      # @todo implement more arguments to switch nan_policy\n",
        "      tt=stats.ttest_ind(df1[col],df2[col],nan_policy='omit')\n",
        "      #print output of ttest to console\n",
        "      print(f\"The results of ttest_ind for Column:{col} are,\\n{tt}\")\n",
        "  else:\n",
        "    # I'm assuming a 'smart' user that passes a np.array with ONLY the columns to test\n",
        "    for col in columns:\n",
        "      # @todo implement more arguments to switch nan_policy\n",
        "      tt=stats.ttest_ind(df1[col],df2[col],nan_policy='omit')\n",
        "      #print output of ttest to console\n",
        "      #@todo clear garbage out of output so it is an easier read\n",
        "      print(f\"The results of ttest_ind for Column:{col} are,\\n{tt}\")\n",
        "  return "
      ],
      "execution_count": 0,
      "outputs": []
    },
    {
      "cell_type": "code",
      "metadata": {
        "id": "nYOSOTd7A2gZ",
        "colab_type": "code",
        "colab": {
          "base_uri": "https://localhost:8080/",
          "height": 85
        },
        "outputId": "e56e4b8f-6b63-4a5d-ec59-9c97e698dce9"
      },
      "source": [
        "# hmmm tasty type garbage, soo paletable to a human\n",
        "ttest_ind_all(rep,dem,columns=['budget','water-project'])"
      ],
      "execution_count": 27,
      "outputs": [
        {
          "output_type": "stream",
          "text": [
            "The results of ttest_ind for Column:budget are,\n",
            "Ttest_indResult(statistic=-23.21277691701378, pvalue=2.0703402795404463e-77)\n",
            "The results of ttest_ind for Column:water-project are,\n",
            "Ttest_indResult(statistic=0.08896538137868286, pvalue=0.9291556823993485)\n"
          ],
          "name": "stdout"
        }
      ]
    },
    {
      "cell_type": "code",
      "metadata": {
        "id": "F0-GC2eGA3-e",
        "colab_type": "code",
        "colab": {
          "base_uri": "https://localhost:8080/",
          "height": 561
        },
        "outputId": "63ef5b40-fdd3-4650-da23-2239ab69d1fa"
      },
      "source": [
        "# looks like both versions worked\n",
        "ttest_ind_all(rep,dem)"
      ],
      "execution_count": 28,
      "outputs": [
        {
          "output_type": "stream",
          "text": [
            "The results of ttest_ind for Column:handicapped-infants are,\n",
            "Ttest_indResult(statistic=-9.205264294809222, pvalue=1.613440327937243e-18)\n",
            "The results of ttest_ind for Column:water-project are,\n",
            "Ttest_indResult(statistic=0.08896538137868286, pvalue=0.9291556823993485)\n",
            "The results of ttest_ind for Column:budget are,\n",
            "Ttest_indResult(statistic=-23.21277691701378, pvalue=2.0703402795404463e-77)\n",
            "The results of ttest_ind for Column:physician-fee-freeze are,\n",
            "Ttest_indResult(statistic=49.36708157301406, pvalue=1.994262314074344e-177)\n",
            "The results of ttest_ind for Column:el-salvador-aid are,\n",
            "Ttest_indResult(statistic=21.13669261173219, pvalue=5.600520111729011e-68)\n",
            "The results of ttest_ind for Column:religious-groups are,\n",
            "Ttest_indResult(statistic=9.737575825219457, pvalue=2.3936722520597287e-20)\n",
            "The results of ttest_ind for Column:anti-satellite-ban are,\n",
            "Ttest_indResult(statistic=-12.526187929077842, pvalue=8.521033017443867e-31)\n",
            "The results of ttest_ind for Column:aid-to-contras are,\n",
            "Ttest_indResult(statistic=-18.052093200819733, pvalue=2.82471841372357e-54)\n",
            "The results of ttest_ind for Column:mx-missile are,\n",
            "Ttest_indResult(statistic=-16.437503268542994, pvalue=5.03079265310811e-47)\n",
            "The results of ttest_ind for Column:immigration are,\n",
            "Ttest_indResult(statistic=1.7359117329695164, pvalue=0.08330248490425066)\n",
            "The results of ttest_ind for Column:synfuels are,\n",
            "Ttest_indResult(statistic=-8.293603989407588, pvalue=1.5759322301054064e-15)\n",
            "The results of ttest_ind for Column:education are,\n",
            "Ttest_indResult(statistic=20.500685724563073, pvalue=1.8834203990450192e-64)\n",
            "The results of ttest_ind for Column:right-to-sue are,\n",
            "Ttest_indResult(statistic=13.51064251060933, pvalue=1.2278581709672758e-34)\n",
            "The results of ttest_ind for Column:crime are,\n",
            "Ttest_indResult(statistic=16.342085656197696, pvalue=9.952342705606092e-47)\n",
            "The results of ttest_ind for Column:duty-free are,\n",
            "Ttest_indResult(statistic=-12.853146132542978, pvalue=5.997697174347365e-32)\n",
            "The results of ttest_ind for Column:south-africa are,\n",
            "Ttest_indResult(statistic=-6.849454815841208, pvalue=3.652674361672226e-11)\n"
          ],
          "name": "stdout"
        }
      ]
    },
    {
      "cell_type": "code",
      "metadata": {
        "id": "Za21UHIPDLPf",
        "colab_type": "code",
        "colab": {}
      },
      "source": [
        ""
      ],
      "execution_count": 0,
      "outputs": []
    }
  ]
}