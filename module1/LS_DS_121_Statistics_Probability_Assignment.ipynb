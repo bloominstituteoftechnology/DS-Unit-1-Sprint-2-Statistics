{
  "nbformat": 4,
  "nbformat_minor": 0,
  "metadata": {
    "kernelspec": {
      "display_name": "Python 3",
      "language": "python",
      "name": "python3"
    },
    "language_info": {
      "codemirror_mode": {
        "name": "ipython",
        "version": 3
      },
      "file_extension": ".py",
      "mimetype": "text/x-python",
      "name": "python",
      "nbconvert_exporter": "python",
      "pygments_lexer": "ipython3",
      "version": "3.7.3"
    },
    "colab": {
      "name": "LS_DS_121_Statistics_Probability_Assignment.ipynb",
      "provenance": []
    }
  },
  "cells": [
    {
      "cell_type": "markdown",
      "metadata": {
        "id": "Sa5KWMO1ngPN",
        "colab_type": "text"
      },
      "source": [
        "<img align=\"left\" src=\"https://lever-client-logos.s3.amazonaws.com/864372b1-534c-480e-acd5-9711f850815c-1524247202159.png\" width=200>\n",
        "<br></br>\n",
        "<br></br>\n",
        "\n",
        "## *Data Science Unit 1 Sprint 2 Assignment 1*\n",
        "\n",
        "# Apply the t-test to real data\n",
        "\n",
        "Your assignment is to determine which issues have \"statistically significant\" differences between political parties in this [1980s congressional voting data](https://archive.ics.uci.edu/ml/datasets/Congressional+Voting+Records). The data consists of 435 instances (one for each congressperson), a class (democrat or republican), and 16 binary attributes (yes or no for voting for or against certain issues). Be aware - there are missing values!\n",
        "\n",
        "Your goals:\n",
        "\n",
        "1. Load and clean the data (or determine the best method to drop observations when running tests)\n",
        "2. Using hypothesis testing, find an issue that democrats support more than republicans with p < 0.01\n",
        "3. Using hypothesis testing, find an issue that republicans support more than democrats with p < 0.01\n",
        "4. Using hypothesis testing, find an issue where the difference between republicans and democrats has p > 0.1 (i.e. there may not be much of a difference)\n",
        "\n",
        "Note that this data will involve *2 sample* t-tests, because you're comparing averages across two groups (republicans and democrats) rather than a single group against a null hypothesis.\n",
        "\n",
        "Stretch goals:\n",
        "\n",
        "1. Refactor your code into functions so it's easy to rerun with arbitrary variables\n",
        "2. Apply hypothesis testing to your personal project data (for the purposes of this notebook you can type a summary of the hypothesis you formed and tested)"
      ]
    },
    {
      "cell_type": "code",
      "metadata": {
        "id": "bywT6YpyaKwK",
        "colab_type": "code",
        "colab": {}
      },
      "source": [
        "import pandas as pd\n",
        "import numpy as np"
      ],
      "execution_count": 0,
      "outputs": []
    },
    {
      "cell_type": "markdown",
      "metadata": {
        "id": "JVVluECEb_Zh",
        "colab_type": "text"
      },
      "source": [
        "**1. Load and clean data**"
      ]
    },
    {
      "cell_type": "code",
      "metadata": {
        "id": "ljVvFeCyaJJE",
        "colab_type": "code",
        "colab": {}
      },
      "source": [
        "!wget https://archive.ics.uci.edu/ml/machine-learning-databases/voting-records/house-votes-84.data"
      ],
      "execution_count": 0,
      "outputs": []
    },
    {
      "cell_type": "code",
      "metadata": {
        "id": "ZKwspo2CngPP",
        "colab_type": "code",
        "colab": {}
      },
      "source": [
        "votes = pd.read_csv('house-votes-84.data', \n",
        "                 header=None,\n",
        "                 names=['party','handicapped-infants','water-project',\n",
        "                          'budget','physician-fee-freeze', 'el-salvador-aid',\n",
        "                          'religious-groups','anti-satellite-ban',\n",
        "                          'aid-to-contras','mx-missile','immigration',\n",
        "                          'synfuels', 'education', 'right-to-sue','crime','duty-free',\n",
        "                          'south-africa'])"
      ],
      "execution_count": 0,
      "outputs": []
    },
    {
      "cell_type": "code",
      "metadata": {
        "id": "rEKuCjdyZm9b",
        "colab_type": "code",
        "colab": {}
      },
      "source": [
        "# CLEANING / REFORMAT DATA\n",
        "votes = votes.replace({'?':np.NaN, 'n':0, 'y':1})\n",
        "democrat = votes[votes['party'] == 'democrat']\n",
        "republican = votes[votes['party'] == 'republican']"
      ],
      "execution_count": 0,
      "outputs": []
    },
    {
      "cell_type": "markdown",
      "metadata": {
        "id": "1uooC-mycF_O",
        "colab_type": "text"
      },
      "source": [
        "**2. Find an issue that democrats support more than republicans with p < 0.01**"
      ]
    },
    {
      "cell_type": "code",
      "metadata": {
        "id": "jI0T4qQieM9u",
        "colab_type": "code",
        "colab": {}
      },
      "source": [
        "from scipy.stats import ttest_1samp, ttest_ind"
      ],
      "execution_count": 0,
      "outputs": []
    },
    {
      "cell_type": "code",
      "metadata": {
        "id": "Cc68N58irFxR",
        "colab_type": "code",
        "colab": {
          "base_uri": "https://localhost:8080/",
          "height": 34
        },
        "outputId": "f75f9333-871b-4efb-8b3d-f20146635d91"
      },
      "source": [
        "ttest_ind(democrat['anti-satellite-ban'], republican['anti-satellite-ban'], nan_policy='omit')"
      ],
      "execution_count": 25,
      "outputs": [
        {
          "output_type": "execute_result",
          "data": {
            "text/plain": [
              "Ttest_indResult(statistic=12.526187929077842, pvalue=8.521033017443867e-31)"
            ]
          },
          "metadata": {
            "tags": []
          },
          "execution_count": 25
        }
      ]
    },
    {
      "cell_type": "code",
      "metadata": {
        "id": "FpmibVmIrX_1",
        "colab_type": "code",
        "colab": {
          "base_uri": "https://localhost:8080/",
          "height": 34
        },
        "outputId": "4d89f812-6722-4003-b2ef-f7fad6eea5fd"
      },
      "source": [
        "# EQUAL POPULATION VARIANCE QUESTION\n",
        "ttest_ind(democrat['anti-satellite-ban'], republican['anti-satellite-ban'], \n",
        "          equal_var=False, nan_policy='omit')"
      ],
      "execution_count": 26,
      "outputs": [
        {
          "output_type": "execute_result",
          "data": {
            "text/plain": [
              "Ttest_indResult(statistic=12.467492597567198, pvalue=1.362780681846568e-29)"
            ]
          },
          "metadata": {
            "tags": []
          },
          "execution_count": 26
        }
      ]
    },
    {
      "cell_type": "markdown",
      "metadata": {
        "id": "kRs2Eb8Mrs7h",
        "colab_type": "text"
      },
      "source": [
        "This is testing the hypothesis that the difference between the average/expected values between democrats and republicans on 'anti-satellite-ban' equals 0.\n",
        "\n",
        "*We reject the null hypothesis at a p-value = 0.01, with a p-value = 8.52 x 10<sup>-31</sup>*\n",
        "\n",
        "Put another way, the chance of incorrectly rejecting the null hypothesis (Type 1 error) is: 8.52 x 10<sup>-31</sup>"
      ]
    },
    {
      "cell_type": "markdown",
      "metadata": {
        "id": "ty5jkuTNcoLS",
        "colab_type": "text"
      },
      "source": [
        "**3. Find an issue that republicans support more than democrats with p < 0.01**"
      ]
    },
    {
      "cell_type": "code",
      "metadata": {
        "id": "dAH0PP6vcc39",
        "colab_type": "code",
        "colab": {
          "base_uri": "https://localhost:8080/",
          "height": 34
        },
        "outputId": "0b9cc083-4394-4e8b-f685-bdb9740176f3"
      },
      "source": [
        "ttest_ind(republican['crime'], democrat['crime'], nan_policy='omit')"
      ],
      "execution_count": 20,
      "outputs": [
        {
          "output_type": "execute_result",
          "data": {
            "text/plain": [
              "Ttest_indResult(statistic=16.342085656197696, pvalue=9.952342705606092e-47)"
            ]
          },
          "metadata": {
            "tags": []
          },
          "execution_count": 20
        }
      ]
    },
    {
      "cell_type": "code",
      "metadata": {
        "id": "pMqODpYpqt4W",
        "colab_type": "code",
        "colab": {
          "base_uri": "https://localhost:8080/",
          "height": 34
        },
        "outputId": "b52041d5-ac10-4cc6-c639-33d1f950231b"
      },
      "source": [
        "republican['crime'].mean()"
      ],
      "execution_count": 21,
      "outputs": [
        {
          "output_type": "execute_result",
          "data": {
            "text/plain": [
              "0.9813664596273292"
            ]
          },
          "metadata": {
            "tags": []
          },
          "execution_count": 21
        }
      ]
    },
    {
      "cell_type": "code",
      "metadata": {
        "id": "guzPQH-zqxxt",
        "colab_type": "code",
        "colab": {
          "base_uri": "https://localhost:8080/",
          "height": 34
        },
        "outputId": "9792447a-f3b2-47ee-c4f8-c69f2d750b0b"
      },
      "source": [
        "democrat['crime'].mean()"
      ],
      "execution_count": 22,
      "outputs": [
        {
          "output_type": "execute_result",
          "data": {
            "text/plain": [
              "0.35019455252918286"
            ]
          },
          "metadata": {
            "tags": []
          },
          "execution_count": 22
        }
      ]
    },
    {
      "cell_type": "markdown",
      "metadata": {
        "id": "nSICIefmeZSL",
        "colab_type": "text"
      },
      "source": [
        "This is testing the hypothesis that the difference between the average/expected values between republicans and democrats on 'crime' equals 0.\n",
        "\n",
        "*We reject the null hypothesis at a p-value = 0.01, with a p-value = 9.95 x 10<sup>-47</sup>*\n",
        "\n",
        "Put another way, the chance of incorrectly rejecting the null hypothesis (Type 1 error) is: 9.95 x 10<sup>-47</sup>"
      ]
    },
    {
      "cell_type": "markdown",
      "metadata": {
        "id": "D8d3FMxLuUgu",
        "colab_type": "text"
      },
      "source": [
        "**4. Using hypothesis testing, find an issue where the difference between republicans and democrats has p > 0.1 (i.e. there may not be much of a difference)**"
      ]
    },
    {
      "cell_type": "code",
      "metadata": {
        "id": "SfwdnJCvuXut",
        "colab_type": "code",
        "colab": {
          "base_uri": "https://localhost:8080/",
          "height": 34
        },
        "outputId": "07a77022-7469-43ad-ee02-722541f4f0af"
      },
      "source": [
        "ttest_ind(republican['water-project'], democrat['water-project'], \n",
        "          nan_policy='omit')"
      ],
      "execution_count": 31,
      "outputs": [
        {
          "output_type": "execute_result",
          "data": {
            "text/plain": [
              "Ttest_indResult(statistic=-0.08896538137868286, pvalue=0.9291556823993485)"
            ]
          },
          "metadata": {
            "tags": []
          },
          "execution_count": 31
        }
      ]
    },
    {
      "cell_type": "markdown",
      "metadata": {
        "id": "lIEnmLquu5ZX",
        "colab_type": "text"
      },
      "source": [
        "This is testing the hypothesis that the difference between the average/expected values between republicans and democrats on 'water-project' equals 0.\n",
        "\n",
        "*We fail to reject the null hypothesis at a p-value = 0.10, with a p-value = 0.929\n",
        "\n",
        "Put another way, the chance of incorrectly rejecting the null hypothesis (Type 1 error) is: 0.929"
      ]
    },
    {
      "cell_type": "markdown",
      "metadata": {
        "id": "MxFitwMxyhcU",
        "colab_type": "text"
      },
      "source": [
        "**Stretch goals 1 - Refactor your code into functions so it's easy to rerun with arbitrary variables**"
      ]
    },
    {
      "cell_type": "code",
      "metadata": {
        "id": "l8BMmqUFyopX",
        "colab_type": "code",
        "colab": {}
      },
      "source": [
        "def two_sample_test(header, p_value_test):\n",
        "  p_value = ttest_ind(republican[header], democrat[header], nan_policy='omit')\n",
        "  print('P-Value: {}'.format(p_value[1]))\n",
        "  if float(p_value_test) > p_value[1]:\n",
        "    print('Reject the null hypothesis at p = {}'.format(p_value_test))  \n",
        "  else:\n",
        "    print('Fail to reject the null hypothesis at p = {}'.format(p_value_test))\n",
        "  return float(p_value_test) > p_value[1]"
      ],
      "execution_count": 0,
      "outputs": []
    },
    {
      "cell_type": "code",
      "metadata": {
        "id": "IBz6tZkn0upf",
        "colab_type": "code",
        "colab": {
          "base_uri": "https://localhost:8080/",
          "height": 69
        },
        "outputId": "67e76074-890e-4183-9573-2a9883804449"
      },
      "source": [
        "two_sample_test('crime', 0.01)"
      ],
      "execution_count": 63,
      "outputs": [
        {
          "output_type": "stream",
          "text": [
            "P-Value: 9.952342705606092e-47\n",
            "Reject the null hypothesis at p = 0.01\n"
          ],
          "name": "stdout"
        },
        {
          "output_type": "execute_result",
          "data": {
            "text/plain": [
              "True"
            ]
          },
          "metadata": {
            "tags": []
          },
          "execution_count": 63
        }
      ]
    },
    {
      "cell_type": "code",
      "metadata": {
        "id": "BpRM6ki-4N8i",
        "colab_type": "code",
        "colab": {
          "base_uri": "https://localhost:8080/",
          "height": 69
        },
        "outputId": "a5adb01b-e6c0-4d07-f06d-ff4bc080bfe8"
      },
      "source": [
        "two_sample_test('water-project', 0.1)"
      ],
      "execution_count": 64,
      "outputs": [
        {
          "output_type": "stream",
          "text": [
            "P-Value: 0.9291556823993485\n",
            "Fail to reject the null hypothesis at p = 0.1\n"
          ],
          "name": "stdout"
        },
        {
          "output_type": "execute_result",
          "data": {
            "text/plain": [
              "False"
            ]
          },
          "metadata": {
            "tags": []
          },
          "execution_count": 64
        }
      ]
    }
  ]
}