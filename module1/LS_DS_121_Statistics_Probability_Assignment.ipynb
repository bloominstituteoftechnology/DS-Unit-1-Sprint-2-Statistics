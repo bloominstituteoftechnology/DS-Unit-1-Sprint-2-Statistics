{
  "nbformat": 4,
  "nbformat_minor": 0,
  "metadata": {
    "kernelspec": {
      "display_name": "Python 3",
      "language": "python",
      "name": "python3"
    },
    "language_info": {
      "codemirror_mode": {
        "name": "ipython",
        "version": 3
      },
      "file_extension": ".py",
      "mimetype": "text/x-python",
      "name": "python",
      "nbconvert_exporter": "python",
      "pygments_lexer": "ipython3",
      "version": "3.7.3"
    },
    "colab": {
      "name": "jcs-LS_DS_121_Statistics_Probability_Assignment.ipynb",
      "provenance": [],
      "collapsed_sections": [
        "AIBBN2jMr7YP"
      ],
      "include_colab_link": true
    }
  },
  "cells": [
    {
      "cell_type": "markdown",
      "metadata": {
        "id": "view-in-github",
        "colab_type": "text"
      },
      "source": [
        "<a href=\"https://colab.research.google.com/github/jcs-lambda/DS-Unit-1-Sprint-2-Statistics/blob/master/module1/LS_DS_121_Statistics_Probability_Assignment.ipynb\" target=\"_parent\"><img src=\"https://colab.research.google.com/assets/colab-badge.svg\" alt=\"Open In Colab\"/></a>"
      ]
    },
    {
      "cell_type": "markdown",
      "metadata": {
        "id": "Sa5KWMO1ngPN",
        "colab_type": "text"
      },
      "source": [
        "<img align=\"left\" src=\"https://lever-client-logos.s3.amazonaws.com/864372b1-534c-480e-acd5-9711f850815c-1524247202159.png\" width=200>\n",
        "<br></br>\n",
        "<br></br>\n",
        "\n",
        "## *Data Science Unit 1 Sprint 2 Assignment 1*\n",
        "\n",
        "# Apply the t-test to real data\n",
        "\n",
        "Your assignment is to determine which issues have \"statistically significant\" differences between political parties in this [1980s congressional voting data](https://archive.ics.uci.edu/ml/datasets/Congressional+Voting+Records). The data consists of 435 instances (one for each congressperson), a class (democrat or republican), and 16 binary attributes (yes or no for voting for or against certain issues). Be aware - there are missing values!\n",
        "\n",
        "Your goals:\n",
        "\n",
        "1. Load and clean the data (or determine the best method to drop observations when running tests)\n",
        "2. Using hypothesis testing, find an issue that democrats support more than republicans with p < 0.01\n",
        "3. Using hypothesis testing, find an issue that republicans support more than democrats with p < 0.01\n",
        "4. Using hypothesis testing, find an issue where the difference between republicans and democrats has p > 0.1 (i.e. there may not be much of a difference)\n",
        "\n",
        "Note that this data will involve *2 sample* t-tests, because you're comparing averages across two groups (republicans and democrats) rather than a single group against a null hypothesis.\n",
        "\n",
        "Stretch goals:\n",
        "\n",
        "1. Refactor your code into functions so it's easy to rerun with arbitrary variables\n",
        "2. Apply hypothesis testing to your personal project data (for the purposes of this notebook you can type a summary of the hypothesis you formed and tested)"
      ]
    },
    {
      "cell_type": "markdown",
      "metadata": {
        "id": "KbBJYGSrClC0",
        "colab_type": "text"
      },
      "source": [
        "#1. Load and clean the data"
      ]
    },
    {
      "cell_type": "code",
      "metadata": {
        "id": "ZKwspo2CngPP",
        "colab_type": "code",
        "colab": {
          "base_uri": "https://localhost:8080/",
          "height": 197
        },
        "cellView": "form",
        "outputId": "f1f246c4-2e0a-4729-c7a8-a3218f1da4c3"
      },
      "source": [
        "#@title Get data / imports\n",
        "!wget https://archive.ics.uci.edu/ml/machine-learning-databases/voting-records/house-votes-84.data\n",
        "\n",
        "import pandas as pd\n",
        "import numpy as np\n",
        "import seaborn as sns\n",
        "import matplotlib.pyplot as plt\n",
        "import scipy.stats as stats"
      ],
      "execution_count": 40,
      "outputs": [
        {
          "output_type": "stream",
          "text": [
            "--2019-11-04 21:11:41--  https://archive.ics.uci.edu/ml/machine-learning-databases/voting-records/house-votes-84.data\n",
            "Resolving archive.ics.uci.edu (archive.ics.uci.edu)... 128.195.10.252\n",
            "Connecting to archive.ics.uci.edu (archive.ics.uci.edu)|128.195.10.252|:443... connected.\n",
            "HTTP request sent, awaiting response... 200 OK\n",
            "Length: 18171 (18K) [application/x-httpd-php]\n",
            "Saving to: ‘house-votes-84.data.2’\n",
            "\n",
            "house-votes-84.data 100%[===================>]  17.75K  --.-KB/s    in 0.1s    \n",
            "\n",
            "2019-11-04 21:11:42 (127 KB/s) - ‘house-votes-84.data.2’ saved [18171/18171]\n",
            "\n"
          ],
          "name": "stdout"
        }
      ]
    },
    {
      "cell_type": "code",
      "metadata": {
        "id": "CjerRrXTBHH2",
        "colab_type": "code",
        "colab": {
          "base_uri": "https://localhost:8080/",
          "height": 181
        },
        "outputId": "b3936337-c533-4286-eeb3-8a33f8cd0bc3"
      },
      "source": [
        "!head house-votes-84.data"
      ],
      "execution_count": 41,
      "outputs": [
        {
          "output_type": "stream",
          "text": [
            "republican,n,y,n,y,y,y,n,n,n,y,?,y,y,y,n,y\n",
            "republican,n,y,n,y,y,y,n,n,n,n,n,y,y,y,n,?\n",
            "democrat,?,y,y,?,y,y,n,n,n,n,y,n,y,y,n,n\n",
            "democrat,n,y,y,n,?,y,n,n,n,n,y,n,y,n,n,y\n",
            "democrat,y,y,y,n,y,y,n,n,n,n,y,?,y,y,y,y\n",
            "democrat,n,y,y,n,y,y,n,n,n,n,n,n,y,y,y,y\n",
            "democrat,n,y,n,y,y,y,n,n,n,n,n,n,?,y,y,y\n",
            "republican,n,y,n,y,y,y,n,n,n,n,n,n,y,y,?,y\n",
            "republican,n,y,n,y,y,y,n,n,n,n,n,y,y,y,n,y\n",
            "democrat,y,y,y,n,n,n,y,y,y,n,n,n,n,n,?,?\n"
          ],
          "name": "stdout"
        }
      ]
    },
    {
      "cell_type": "code",
      "metadata": {
        "id": "6mv7sSyhBSC1",
        "colab_type": "code",
        "colab": {
          "base_uri": "https://localhost:8080/",
          "height": 181
        },
        "outputId": "949b508b-1606-42a4-81f8-fb9a9b449fd7"
      },
      "source": [
        "!tail house-votes-84.data"
      ],
      "execution_count": 42,
      "outputs": [
        {
          "output_type": "stream",
          "text": [
            "democrat,n,n,y,n,n,n,y,y,n,y,y,n,n,n,y,?\n",
            "democrat,y,n,y,n,n,n,y,y,y,y,n,n,n,n,y,y\n",
            "republican,n,n,n,y,y,y,y,y,n,y,n,y,y,y,n,y\n",
            "democrat,?,?,?,n,n,n,y,y,y,y,n,n,y,n,y,y\n",
            "democrat,y,n,y,n,?,n,y,y,y,y,n,y,n,?,y,y\n",
            "republican,n,n,y,y,y,y,n,n,y,y,n,y,y,y,n,y\n",
            "democrat,n,n,y,n,n,n,y,y,y,y,n,n,n,n,n,y\n",
            "republican,n,?,n,y,y,y,n,n,n,n,y,y,y,y,n,y\n",
            "republican,n,n,n,y,y,y,?,?,?,?,n,y,y,y,n,y\n",
            "republican,n,y,n,y,y,y,n,n,n,y,n,y,y,y,?,n\n"
          ],
          "name": "stdout"
        }
      ]
    },
    {
      "cell_type": "code",
      "metadata": {
        "id": "l9YtgXavBX77",
        "colab_type": "code",
        "colab": {
          "base_uri": "https://localhost:8080/",
          "height": 444
        },
        "outputId": "013ba00f-90b3-4ad1-8a9a-385d97d7c381"
      },
      "source": [
        "house_votes_columns = ['party','handicapped-infants','water-project',\n",
        "                          'budget','physician-fee-freeze', 'el-salvador-aid',\n",
        "                          'religious-groups','anti-satellite-ban',\n",
        "                          'aid-to-contras','mx-missile','immigration',\n",
        "                          'synfuels', 'education', 'right-to-sue','crime','duty-free',\n",
        "                          'south-africa']\n",
        "\n",
        "df = pd.read_csv('house-votes-84.data', header=None, names=house_votes_columns, na_values='?')\n",
        "df"
      ],
      "execution_count": 43,
      "outputs": [
        {
          "output_type": "execute_result",
          "data": {
            "text/html": [
              "<div>\n",
              "<style scoped>\n",
              "    .dataframe tbody tr th:only-of-type {\n",
              "        vertical-align: middle;\n",
              "    }\n",
              "\n",
              "    .dataframe tbody tr th {\n",
              "        vertical-align: top;\n",
              "    }\n",
              "\n",
              "    .dataframe thead th {\n",
              "        text-align: right;\n",
              "    }\n",
              "</style>\n",
              "<table border=\"1\" class=\"dataframe\">\n",
              "  <thead>\n",
              "    <tr style=\"text-align: right;\">\n",
              "      <th></th>\n",
              "      <th>party</th>\n",
              "      <th>handicapped-infants</th>\n",
              "      <th>water-project</th>\n",
              "      <th>budget</th>\n",
              "      <th>physician-fee-freeze</th>\n",
              "      <th>el-salvador-aid</th>\n",
              "      <th>religious-groups</th>\n",
              "      <th>anti-satellite-ban</th>\n",
              "      <th>aid-to-contras</th>\n",
              "      <th>mx-missile</th>\n",
              "      <th>immigration</th>\n",
              "      <th>synfuels</th>\n",
              "      <th>education</th>\n",
              "      <th>right-to-sue</th>\n",
              "      <th>crime</th>\n",
              "      <th>duty-free</th>\n",
              "      <th>south-africa</th>\n",
              "    </tr>\n",
              "  </thead>\n",
              "  <tbody>\n",
              "    <tr>\n",
              "      <th>0</th>\n",
              "      <td>republican</td>\n",
              "      <td>n</td>\n",
              "      <td>y</td>\n",
              "      <td>n</td>\n",
              "      <td>y</td>\n",
              "      <td>y</td>\n",
              "      <td>y</td>\n",
              "      <td>n</td>\n",
              "      <td>n</td>\n",
              "      <td>n</td>\n",
              "      <td>y</td>\n",
              "      <td>NaN</td>\n",
              "      <td>y</td>\n",
              "      <td>y</td>\n",
              "      <td>y</td>\n",
              "      <td>n</td>\n",
              "      <td>y</td>\n",
              "    </tr>\n",
              "    <tr>\n",
              "      <th>1</th>\n",
              "      <td>republican</td>\n",
              "      <td>n</td>\n",
              "      <td>y</td>\n",
              "      <td>n</td>\n",
              "      <td>y</td>\n",
              "      <td>y</td>\n",
              "      <td>y</td>\n",
              "      <td>n</td>\n",
              "      <td>n</td>\n",
              "      <td>n</td>\n",
              "      <td>n</td>\n",
              "      <td>n</td>\n",
              "      <td>y</td>\n",
              "      <td>y</td>\n",
              "      <td>y</td>\n",
              "      <td>n</td>\n",
              "      <td>NaN</td>\n",
              "    </tr>\n",
              "    <tr>\n",
              "      <th>2</th>\n",
              "      <td>democrat</td>\n",
              "      <td>NaN</td>\n",
              "      <td>y</td>\n",
              "      <td>y</td>\n",
              "      <td>NaN</td>\n",
              "      <td>y</td>\n",
              "      <td>y</td>\n",
              "      <td>n</td>\n",
              "      <td>n</td>\n",
              "      <td>n</td>\n",
              "      <td>n</td>\n",
              "      <td>y</td>\n",
              "      <td>n</td>\n",
              "      <td>y</td>\n",
              "      <td>y</td>\n",
              "      <td>n</td>\n",
              "      <td>n</td>\n",
              "    </tr>\n",
              "    <tr>\n",
              "      <th>3</th>\n",
              "      <td>democrat</td>\n",
              "      <td>n</td>\n",
              "      <td>y</td>\n",
              "      <td>y</td>\n",
              "      <td>n</td>\n",
              "      <td>NaN</td>\n",
              "      <td>y</td>\n",
              "      <td>n</td>\n",
              "      <td>n</td>\n",
              "      <td>n</td>\n",
              "      <td>n</td>\n",
              "      <td>y</td>\n",
              "      <td>n</td>\n",
              "      <td>y</td>\n",
              "      <td>n</td>\n",
              "      <td>n</td>\n",
              "      <td>y</td>\n",
              "    </tr>\n",
              "    <tr>\n",
              "      <th>4</th>\n",
              "      <td>democrat</td>\n",
              "      <td>y</td>\n",
              "      <td>y</td>\n",
              "      <td>y</td>\n",
              "      <td>n</td>\n",
              "      <td>y</td>\n",
              "      <td>y</td>\n",
              "      <td>n</td>\n",
              "      <td>n</td>\n",
              "      <td>n</td>\n",
              "      <td>n</td>\n",
              "      <td>y</td>\n",
              "      <td>NaN</td>\n",
              "      <td>y</td>\n",
              "      <td>y</td>\n",
              "      <td>y</td>\n",
              "      <td>y</td>\n",
              "    </tr>\n",
              "    <tr>\n",
              "      <th>...</th>\n",
              "      <td>...</td>\n",
              "      <td>...</td>\n",
              "      <td>...</td>\n",
              "      <td>...</td>\n",
              "      <td>...</td>\n",
              "      <td>...</td>\n",
              "      <td>...</td>\n",
              "      <td>...</td>\n",
              "      <td>...</td>\n",
              "      <td>...</td>\n",
              "      <td>...</td>\n",
              "      <td>...</td>\n",
              "      <td>...</td>\n",
              "      <td>...</td>\n",
              "      <td>...</td>\n",
              "      <td>...</td>\n",
              "      <td>...</td>\n",
              "    </tr>\n",
              "    <tr>\n",
              "      <th>430</th>\n",
              "      <td>republican</td>\n",
              "      <td>n</td>\n",
              "      <td>n</td>\n",
              "      <td>y</td>\n",
              "      <td>y</td>\n",
              "      <td>y</td>\n",
              "      <td>y</td>\n",
              "      <td>n</td>\n",
              "      <td>n</td>\n",
              "      <td>y</td>\n",
              "      <td>y</td>\n",
              "      <td>n</td>\n",
              "      <td>y</td>\n",
              "      <td>y</td>\n",
              "      <td>y</td>\n",
              "      <td>n</td>\n",
              "      <td>y</td>\n",
              "    </tr>\n",
              "    <tr>\n",
              "      <th>431</th>\n",
              "      <td>democrat</td>\n",
              "      <td>n</td>\n",
              "      <td>n</td>\n",
              "      <td>y</td>\n",
              "      <td>n</td>\n",
              "      <td>n</td>\n",
              "      <td>n</td>\n",
              "      <td>y</td>\n",
              "      <td>y</td>\n",
              "      <td>y</td>\n",
              "      <td>y</td>\n",
              "      <td>n</td>\n",
              "      <td>n</td>\n",
              "      <td>n</td>\n",
              "      <td>n</td>\n",
              "      <td>n</td>\n",
              "      <td>y</td>\n",
              "    </tr>\n",
              "    <tr>\n",
              "      <th>432</th>\n",
              "      <td>republican</td>\n",
              "      <td>n</td>\n",
              "      <td>NaN</td>\n",
              "      <td>n</td>\n",
              "      <td>y</td>\n",
              "      <td>y</td>\n",
              "      <td>y</td>\n",
              "      <td>n</td>\n",
              "      <td>n</td>\n",
              "      <td>n</td>\n",
              "      <td>n</td>\n",
              "      <td>y</td>\n",
              "      <td>y</td>\n",
              "      <td>y</td>\n",
              "      <td>y</td>\n",
              "      <td>n</td>\n",
              "      <td>y</td>\n",
              "    </tr>\n",
              "    <tr>\n",
              "      <th>433</th>\n",
              "      <td>republican</td>\n",
              "      <td>n</td>\n",
              "      <td>n</td>\n",
              "      <td>n</td>\n",
              "      <td>y</td>\n",
              "      <td>y</td>\n",
              "      <td>y</td>\n",
              "      <td>NaN</td>\n",
              "      <td>NaN</td>\n",
              "      <td>NaN</td>\n",
              "      <td>NaN</td>\n",
              "      <td>n</td>\n",
              "      <td>y</td>\n",
              "      <td>y</td>\n",
              "      <td>y</td>\n",
              "      <td>n</td>\n",
              "      <td>y</td>\n",
              "    </tr>\n",
              "    <tr>\n",
              "      <th>434</th>\n",
              "      <td>republican</td>\n",
              "      <td>n</td>\n",
              "      <td>y</td>\n",
              "      <td>n</td>\n",
              "      <td>y</td>\n",
              "      <td>y</td>\n",
              "      <td>y</td>\n",
              "      <td>n</td>\n",
              "      <td>n</td>\n",
              "      <td>n</td>\n",
              "      <td>y</td>\n",
              "      <td>n</td>\n",
              "      <td>y</td>\n",
              "      <td>y</td>\n",
              "      <td>y</td>\n",
              "      <td>NaN</td>\n",
              "      <td>n</td>\n",
              "    </tr>\n",
              "  </tbody>\n",
              "</table>\n",
              "<p>435 rows × 17 columns</p>\n",
              "</div>"
            ],
            "text/plain": [
              "          party handicapped-infants water-project  ... crime duty-free south-africa\n",
              "0    republican                   n             y  ...     y         n            y\n",
              "1    republican                   n             y  ...     y         n          NaN\n",
              "2      democrat                 NaN             y  ...     y         n            n\n",
              "3      democrat                   n             y  ...     n         n            y\n",
              "4      democrat                   y             y  ...     y         y            y\n",
              "..          ...                 ...           ...  ...   ...       ...          ...\n",
              "430  republican                   n             n  ...     y         n            y\n",
              "431    democrat                   n             n  ...     n         n            y\n",
              "432  republican                   n           NaN  ...     y         n            y\n",
              "433  republican                   n             n  ...     y         n            y\n",
              "434  republican                   n             y  ...     y       NaN            n\n",
              "\n",
              "[435 rows x 17 columns]"
            ]
          },
          "metadata": {
            "tags": []
          },
          "execution_count": 43
        }
      ]
    },
    {
      "cell_type": "code",
      "metadata": {
        "id": "fOddPS1fB-mn",
        "colab_type": "code",
        "colab": {
          "base_uri": "https://localhost:8080/",
          "height": 220
        },
        "outputId": "ce946015-34a8-4675-9260-4d7c4760a478"
      },
      "source": [
        "print(df.shape)\n",
        "df.describe()"
      ],
      "execution_count": 44,
      "outputs": [
        {
          "output_type": "stream",
          "text": [
            "(435, 17)\n"
          ],
          "name": "stdout"
        },
        {
          "output_type": "execute_result",
          "data": {
            "text/html": [
              "<div>\n",
              "<style scoped>\n",
              "    .dataframe tbody tr th:only-of-type {\n",
              "        vertical-align: middle;\n",
              "    }\n",
              "\n",
              "    .dataframe tbody tr th {\n",
              "        vertical-align: top;\n",
              "    }\n",
              "\n",
              "    .dataframe thead th {\n",
              "        text-align: right;\n",
              "    }\n",
              "</style>\n",
              "<table border=\"1\" class=\"dataframe\">\n",
              "  <thead>\n",
              "    <tr style=\"text-align: right;\">\n",
              "      <th></th>\n",
              "      <th>party</th>\n",
              "      <th>handicapped-infants</th>\n",
              "      <th>water-project</th>\n",
              "      <th>budget</th>\n",
              "      <th>physician-fee-freeze</th>\n",
              "      <th>el-salvador-aid</th>\n",
              "      <th>religious-groups</th>\n",
              "      <th>anti-satellite-ban</th>\n",
              "      <th>aid-to-contras</th>\n",
              "      <th>mx-missile</th>\n",
              "      <th>immigration</th>\n",
              "      <th>synfuels</th>\n",
              "      <th>education</th>\n",
              "      <th>right-to-sue</th>\n",
              "      <th>crime</th>\n",
              "      <th>duty-free</th>\n",
              "      <th>south-africa</th>\n",
              "    </tr>\n",
              "  </thead>\n",
              "  <tbody>\n",
              "    <tr>\n",
              "      <th>count</th>\n",
              "      <td>435</td>\n",
              "      <td>423</td>\n",
              "      <td>387</td>\n",
              "      <td>424</td>\n",
              "      <td>424</td>\n",
              "      <td>420</td>\n",
              "      <td>424</td>\n",
              "      <td>421</td>\n",
              "      <td>420</td>\n",
              "      <td>413</td>\n",
              "      <td>428</td>\n",
              "      <td>414</td>\n",
              "      <td>404</td>\n",
              "      <td>410</td>\n",
              "      <td>418</td>\n",
              "      <td>407</td>\n",
              "      <td>331</td>\n",
              "    </tr>\n",
              "    <tr>\n",
              "      <th>unique</th>\n",
              "      <td>2</td>\n",
              "      <td>2</td>\n",
              "      <td>2</td>\n",
              "      <td>2</td>\n",
              "      <td>2</td>\n",
              "      <td>2</td>\n",
              "      <td>2</td>\n",
              "      <td>2</td>\n",
              "      <td>2</td>\n",
              "      <td>2</td>\n",
              "      <td>2</td>\n",
              "      <td>2</td>\n",
              "      <td>2</td>\n",
              "      <td>2</td>\n",
              "      <td>2</td>\n",
              "      <td>2</td>\n",
              "      <td>2</td>\n",
              "    </tr>\n",
              "    <tr>\n",
              "      <th>top</th>\n",
              "      <td>democrat</td>\n",
              "      <td>n</td>\n",
              "      <td>y</td>\n",
              "      <td>y</td>\n",
              "      <td>n</td>\n",
              "      <td>y</td>\n",
              "      <td>y</td>\n",
              "      <td>y</td>\n",
              "      <td>y</td>\n",
              "      <td>y</td>\n",
              "      <td>y</td>\n",
              "      <td>n</td>\n",
              "      <td>n</td>\n",
              "      <td>y</td>\n",
              "      <td>y</td>\n",
              "      <td>n</td>\n",
              "      <td>y</td>\n",
              "    </tr>\n",
              "    <tr>\n",
              "      <th>freq</th>\n",
              "      <td>267</td>\n",
              "      <td>236</td>\n",
              "      <td>195</td>\n",
              "      <td>253</td>\n",
              "      <td>247</td>\n",
              "      <td>212</td>\n",
              "      <td>272</td>\n",
              "      <td>239</td>\n",
              "      <td>242</td>\n",
              "      <td>207</td>\n",
              "      <td>216</td>\n",
              "      <td>264</td>\n",
              "      <td>233</td>\n",
              "      <td>209</td>\n",
              "      <td>248</td>\n",
              "      <td>233</td>\n",
              "      <td>269</td>\n",
              "    </tr>\n",
              "  </tbody>\n",
              "</table>\n",
              "</div>"
            ],
            "text/plain": [
              "           party handicapped-infants water-project  ... crime duty-free south-africa\n",
              "count        435                 423           387  ...   418       407          331\n",
              "unique         2                   2             2  ...     2         2            2\n",
              "top     democrat                   n             y  ...     y         n            y\n",
              "freq         267                 236           195  ...   248       233          269\n",
              "\n",
              "[4 rows x 17 columns]"
            ]
          },
          "metadata": {
            "tags": []
          },
          "execution_count": 44
        }
      ]
    },
    {
      "cell_type": "code",
      "metadata": {
        "id": "KsYFZ5bWCBBw",
        "colab_type": "code",
        "colab": {
          "base_uri": "https://localhost:8080/",
          "height": 312
        },
        "outputId": "205216a8-64a5-400d-967c-88a556261eca"
      },
      "source": [
        "df.isnull().sum()"
      ],
      "execution_count": 45,
      "outputs": [
        {
          "output_type": "execute_result",
          "data": {
            "text/plain": [
              "party                     0\n",
              "handicapped-infants      12\n",
              "water-project            48\n",
              "budget                   11\n",
              "physician-fee-freeze     11\n",
              "el-salvador-aid          15\n",
              "religious-groups         11\n",
              "anti-satellite-ban       14\n",
              "aid-to-contras           15\n",
              "mx-missile               22\n",
              "immigration               7\n",
              "synfuels                 21\n",
              "education                31\n",
              "right-to-sue             25\n",
              "crime                    17\n",
              "duty-free                28\n",
              "south-africa            104\n",
              "dtype: int64"
            ]
          },
          "metadata": {
            "tags": []
          },
          "execution_count": 45
        }
      ]
    },
    {
      "cell_type": "code",
      "metadata": {
        "id": "TMzPbH9wHdXn",
        "colab_type": "code",
        "colab": {
          "base_uri": "https://localhost:8080/",
          "height": 324
        },
        "outputId": "76db4733-5e0d-4299-985c-075e97f99803"
      },
      "source": [
        "df = df.replace({'y':1, 'n':0})\n",
        "df.describe()"
      ],
      "execution_count": 125,
      "outputs": [
        {
          "output_type": "execute_result",
          "data": {
            "text/html": [
              "<div>\n",
              "<style scoped>\n",
              "    .dataframe tbody tr th:only-of-type {\n",
              "        vertical-align: middle;\n",
              "    }\n",
              "\n",
              "    .dataframe tbody tr th {\n",
              "        vertical-align: top;\n",
              "    }\n",
              "\n",
              "    .dataframe thead th {\n",
              "        text-align: right;\n",
              "    }\n",
              "</style>\n",
              "<table border=\"1\" class=\"dataframe\">\n",
              "  <thead>\n",
              "    <tr style=\"text-align: right;\">\n",
              "      <th></th>\n",
              "      <th>handicapped-infants</th>\n",
              "      <th>water-project</th>\n",
              "      <th>budget</th>\n",
              "      <th>physician-fee-freeze</th>\n",
              "      <th>el-salvador-aid</th>\n",
              "      <th>religious-groups</th>\n",
              "      <th>anti-satellite-ban</th>\n",
              "      <th>aid-to-contras</th>\n",
              "      <th>mx-missile</th>\n",
              "      <th>immigration</th>\n",
              "      <th>synfuels</th>\n",
              "      <th>education</th>\n",
              "      <th>right-to-sue</th>\n",
              "      <th>crime</th>\n",
              "      <th>duty-free</th>\n",
              "      <th>south-africa</th>\n",
              "    </tr>\n",
              "  </thead>\n",
              "  <tbody>\n",
              "    <tr>\n",
              "      <th>count</th>\n",
              "      <td>423.000000</td>\n",
              "      <td>387.000000</td>\n",
              "      <td>424.000000</td>\n",
              "      <td>424.000000</td>\n",
              "      <td>420.000000</td>\n",
              "      <td>424.000000</td>\n",
              "      <td>421.000000</td>\n",
              "      <td>420.00000</td>\n",
              "      <td>413.000000</td>\n",
              "      <td>428.000000</td>\n",
              "      <td>414.000000</td>\n",
              "      <td>404.000000</td>\n",
              "      <td>410.000000</td>\n",
              "      <td>418.000000</td>\n",
              "      <td>407.000000</td>\n",
              "      <td>331.000000</td>\n",
              "    </tr>\n",
              "    <tr>\n",
              "      <th>mean</th>\n",
              "      <td>0.442080</td>\n",
              "      <td>0.503876</td>\n",
              "      <td>0.596698</td>\n",
              "      <td>0.417453</td>\n",
              "      <td>0.504762</td>\n",
              "      <td>0.641509</td>\n",
              "      <td>0.567696</td>\n",
              "      <td>0.57619</td>\n",
              "      <td>0.501211</td>\n",
              "      <td>0.504673</td>\n",
              "      <td>0.362319</td>\n",
              "      <td>0.423267</td>\n",
              "      <td>0.509756</td>\n",
              "      <td>0.593301</td>\n",
              "      <td>0.427518</td>\n",
              "      <td>0.812689</td>\n",
              "    </tr>\n",
              "    <tr>\n",
              "      <th>std</th>\n",
              "      <td>0.497222</td>\n",
              "      <td>0.500632</td>\n",
              "      <td>0.491140</td>\n",
              "      <td>0.493721</td>\n",
              "      <td>0.500574</td>\n",
              "      <td>0.480124</td>\n",
              "      <td>0.495985</td>\n",
              "      <td>0.49475</td>\n",
              "      <td>0.500605</td>\n",
              "      <td>0.500563</td>\n",
              "      <td>0.481252</td>\n",
              "      <td>0.494690</td>\n",
              "      <td>0.500516</td>\n",
              "      <td>0.491806</td>\n",
              "      <td>0.495327</td>\n",
              "      <td>0.390752</td>\n",
              "    </tr>\n",
              "    <tr>\n",
              "      <th>min</th>\n",
              "      <td>0.000000</td>\n",
              "      <td>0.000000</td>\n",
              "      <td>0.000000</td>\n",
              "      <td>0.000000</td>\n",
              "      <td>0.000000</td>\n",
              "      <td>0.000000</td>\n",
              "      <td>0.000000</td>\n",
              "      <td>0.00000</td>\n",
              "      <td>0.000000</td>\n",
              "      <td>0.000000</td>\n",
              "      <td>0.000000</td>\n",
              "      <td>0.000000</td>\n",
              "      <td>0.000000</td>\n",
              "      <td>0.000000</td>\n",
              "      <td>0.000000</td>\n",
              "      <td>0.000000</td>\n",
              "    </tr>\n",
              "    <tr>\n",
              "      <th>25%</th>\n",
              "      <td>0.000000</td>\n",
              "      <td>0.000000</td>\n",
              "      <td>0.000000</td>\n",
              "      <td>0.000000</td>\n",
              "      <td>0.000000</td>\n",
              "      <td>0.000000</td>\n",
              "      <td>0.000000</td>\n",
              "      <td>0.00000</td>\n",
              "      <td>0.000000</td>\n",
              "      <td>0.000000</td>\n",
              "      <td>0.000000</td>\n",
              "      <td>0.000000</td>\n",
              "      <td>0.000000</td>\n",
              "      <td>0.000000</td>\n",
              "      <td>0.000000</td>\n",
              "      <td>1.000000</td>\n",
              "    </tr>\n",
              "    <tr>\n",
              "      <th>50%</th>\n",
              "      <td>0.000000</td>\n",
              "      <td>1.000000</td>\n",
              "      <td>1.000000</td>\n",
              "      <td>0.000000</td>\n",
              "      <td>1.000000</td>\n",
              "      <td>1.000000</td>\n",
              "      <td>1.000000</td>\n",
              "      <td>1.00000</td>\n",
              "      <td>1.000000</td>\n",
              "      <td>1.000000</td>\n",
              "      <td>0.000000</td>\n",
              "      <td>0.000000</td>\n",
              "      <td>1.000000</td>\n",
              "      <td>1.000000</td>\n",
              "      <td>0.000000</td>\n",
              "      <td>1.000000</td>\n",
              "    </tr>\n",
              "    <tr>\n",
              "      <th>75%</th>\n",
              "      <td>1.000000</td>\n",
              "      <td>1.000000</td>\n",
              "      <td>1.000000</td>\n",
              "      <td>1.000000</td>\n",
              "      <td>1.000000</td>\n",
              "      <td>1.000000</td>\n",
              "      <td>1.000000</td>\n",
              "      <td>1.00000</td>\n",
              "      <td>1.000000</td>\n",
              "      <td>1.000000</td>\n",
              "      <td>1.000000</td>\n",
              "      <td>1.000000</td>\n",
              "      <td>1.000000</td>\n",
              "      <td>1.000000</td>\n",
              "      <td>1.000000</td>\n",
              "      <td>1.000000</td>\n",
              "    </tr>\n",
              "    <tr>\n",
              "      <th>max</th>\n",
              "      <td>1.000000</td>\n",
              "      <td>1.000000</td>\n",
              "      <td>1.000000</td>\n",
              "      <td>1.000000</td>\n",
              "      <td>1.000000</td>\n",
              "      <td>1.000000</td>\n",
              "      <td>1.000000</td>\n",
              "      <td>1.00000</td>\n",
              "      <td>1.000000</td>\n",
              "      <td>1.000000</td>\n",
              "      <td>1.000000</td>\n",
              "      <td>1.000000</td>\n",
              "      <td>1.000000</td>\n",
              "      <td>1.000000</td>\n",
              "      <td>1.000000</td>\n",
              "      <td>1.000000</td>\n",
              "    </tr>\n",
              "  </tbody>\n",
              "</table>\n",
              "</div>"
            ],
            "text/plain": [
              "       handicapped-infants  water-project  ...   duty-free  south-africa\n",
              "count           423.000000     387.000000  ...  407.000000    331.000000\n",
              "mean              0.442080       0.503876  ...    0.427518      0.812689\n",
              "std               0.497222       0.500632  ...    0.495327      0.390752\n",
              "min               0.000000       0.000000  ...    0.000000      0.000000\n",
              "25%               0.000000       0.000000  ...    0.000000      1.000000\n",
              "50%               0.000000       1.000000  ...    0.000000      1.000000\n",
              "75%               1.000000       1.000000  ...    1.000000      1.000000\n",
              "max               1.000000       1.000000  ...    1.000000      1.000000\n",
              "\n",
              "[8 rows x 16 columns]"
            ]
          },
          "metadata": {
            "tags": []
          },
          "execution_count": 125
        }
      ]
    },
    {
      "cell_type": "code",
      "metadata": {
        "id": "Sbcac3hsDVgj",
        "colab_type": "code",
        "colab": {
          "base_uri": "https://localhost:8080/",
          "height": 32
        },
        "outputId": "9f1b88a8-d6b9-4506-cdff-9d85af308da4"
      },
      "source": [
        "sorted(df['party'].unique())"
      ],
      "execution_count": 47,
      "outputs": [
        {
          "output_type": "execute_result",
          "data": {
            "text/plain": [
              "['democrat', 'republican']"
            ]
          },
          "metadata": {
            "tags": []
          },
          "execution_count": 47
        }
      ]
    },
    {
      "cell_type": "code",
      "metadata": {
        "id": "DZvzySA2DDxx",
        "colab_type": "code",
        "colab": {
          "base_uri": "https://localhost:8080/",
          "height": 250
        },
        "outputId": "f66b2b1d-ebf8-453f-b4d9-adb6e010773d"
      },
      "source": [
        "rep = df[df['party'] == 'republican']\n",
        "print(rep.shape)\n",
        "rep.head()"
      ],
      "execution_count": 48,
      "outputs": [
        {
          "output_type": "stream",
          "text": [
            "(168, 17)\n"
          ],
          "name": "stdout"
        },
        {
          "output_type": "execute_result",
          "data": {
            "text/html": [
              "<div>\n",
              "<style scoped>\n",
              "    .dataframe tbody tr th:only-of-type {\n",
              "        vertical-align: middle;\n",
              "    }\n",
              "\n",
              "    .dataframe tbody tr th {\n",
              "        vertical-align: top;\n",
              "    }\n",
              "\n",
              "    .dataframe thead th {\n",
              "        text-align: right;\n",
              "    }\n",
              "</style>\n",
              "<table border=\"1\" class=\"dataframe\">\n",
              "  <thead>\n",
              "    <tr style=\"text-align: right;\">\n",
              "      <th></th>\n",
              "      <th>party</th>\n",
              "      <th>handicapped-infants</th>\n",
              "      <th>water-project</th>\n",
              "      <th>budget</th>\n",
              "      <th>physician-fee-freeze</th>\n",
              "      <th>el-salvador-aid</th>\n",
              "      <th>religious-groups</th>\n",
              "      <th>anti-satellite-ban</th>\n",
              "      <th>aid-to-contras</th>\n",
              "      <th>mx-missile</th>\n",
              "      <th>immigration</th>\n",
              "      <th>synfuels</th>\n",
              "      <th>education</th>\n",
              "      <th>right-to-sue</th>\n",
              "      <th>crime</th>\n",
              "      <th>duty-free</th>\n",
              "      <th>south-africa</th>\n",
              "    </tr>\n",
              "  </thead>\n",
              "  <tbody>\n",
              "    <tr>\n",
              "      <th>0</th>\n",
              "      <td>republican</td>\n",
              "      <td>0.0</td>\n",
              "      <td>1.0</td>\n",
              "      <td>0.0</td>\n",
              "      <td>1.0</td>\n",
              "      <td>1.0</td>\n",
              "      <td>1.0</td>\n",
              "      <td>0.0</td>\n",
              "      <td>0.0</td>\n",
              "      <td>0.0</td>\n",
              "      <td>1.0</td>\n",
              "      <td>NaN</td>\n",
              "      <td>1.0</td>\n",
              "      <td>1.0</td>\n",
              "      <td>1.0</td>\n",
              "      <td>0.0</td>\n",
              "      <td>1.0</td>\n",
              "    </tr>\n",
              "    <tr>\n",
              "      <th>1</th>\n",
              "      <td>republican</td>\n",
              "      <td>0.0</td>\n",
              "      <td>1.0</td>\n",
              "      <td>0.0</td>\n",
              "      <td>1.0</td>\n",
              "      <td>1.0</td>\n",
              "      <td>1.0</td>\n",
              "      <td>0.0</td>\n",
              "      <td>0.0</td>\n",
              "      <td>0.0</td>\n",
              "      <td>0.0</td>\n",
              "      <td>0.0</td>\n",
              "      <td>1.0</td>\n",
              "      <td>1.0</td>\n",
              "      <td>1.0</td>\n",
              "      <td>0.0</td>\n",
              "      <td>NaN</td>\n",
              "    </tr>\n",
              "    <tr>\n",
              "      <th>7</th>\n",
              "      <td>republican</td>\n",
              "      <td>0.0</td>\n",
              "      <td>1.0</td>\n",
              "      <td>0.0</td>\n",
              "      <td>1.0</td>\n",
              "      <td>1.0</td>\n",
              "      <td>1.0</td>\n",
              "      <td>0.0</td>\n",
              "      <td>0.0</td>\n",
              "      <td>0.0</td>\n",
              "      <td>0.0</td>\n",
              "      <td>0.0</td>\n",
              "      <td>0.0</td>\n",
              "      <td>1.0</td>\n",
              "      <td>1.0</td>\n",
              "      <td>NaN</td>\n",
              "      <td>1.0</td>\n",
              "    </tr>\n",
              "    <tr>\n",
              "      <th>8</th>\n",
              "      <td>republican</td>\n",
              "      <td>0.0</td>\n",
              "      <td>1.0</td>\n",
              "      <td>0.0</td>\n",
              "      <td>1.0</td>\n",
              "      <td>1.0</td>\n",
              "      <td>1.0</td>\n",
              "      <td>0.0</td>\n",
              "      <td>0.0</td>\n",
              "      <td>0.0</td>\n",
              "      <td>0.0</td>\n",
              "      <td>0.0</td>\n",
              "      <td>1.0</td>\n",
              "      <td>1.0</td>\n",
              "      <td>1.0</td>\n",
              "      <td>0.0</td>\n",
              "      <td>1.0</td>\n",
              "    </tr>\n",
              "    <tr>\n",
              "      <th>10</th>\n",
              "      <td>republican</td>\n",
              "      <td>0.0</td>\n",
              "      <td>1.0</td>\n",
              "      <td>0.0</td>\n",
              "      <td>1.0</td>\n",
              "      <td>1.0</td>\n",
              "      <td>0.0</td>\n",
              "      <td>0.0</td>\n",
              "      <td>0.0</td>\n",
              "      <td>0.0</td>\n",
              "      <td>0.0</td>\n",
              "      <td>NaN</td>\n",
              "      <td>NaN</td>\n",
              "      <td>1.0</td>\n",
              "      <td>1.0</td>\n",
              "      <td>0.0</td>\n",
              "      <td>0.0</td>\n",
              "    </tr>\n",
              "  </tbody>\n",
              "</table>\n",
              "</div>"
            ],
            "text/plain": [
              "         party  handicapped-infants  ...  duty-free  south-africa\n",
              "0   republican                  0.0  ...        0.0           1.0\n",
              "1   republican                  0.0  ...        0.0           NaN\n",
              "7   republican                  0.0  ...        NaN           1.0\n",
              "8   republican                  0.0  ...        0.0           1.0\n",
              "10  republican                  0.0  ...        0.0           0.0\n",
              "\n",
              "[5 rows x 17 columns]"
            ]
          },
          "metadata": {
            "tags": []
          },
          "execution_count": 48
        }
      ]
    },
    {
      "cell_type": "code",
      "metadata": {
        "id": "wpTLF4xbEI_y",
        "colab_type": "code",
        "colab": {
          "base_uri": "https://localhost:8080/",
          "height": 312
        },
        "outputId": "3c92b980-fe96-4c56-ab40-f87dd454ef8f"
      },
      "source": [
        "rep.isnull().sum()"
      ],
      "execution_count": 49,
      "outputs": [
        {
          "output_type": "execute_result",
          "data": {
            "text/plain": [
              "party                    0\n",
              "handicapped-infants      3\n",
              "water-project           20\n",
              "budget                   4\n",
              "physician-fee-freeze     3\n",
              "el-salvador-aid          3\n",
              "religious-groups         2\n",
              "anti-satellite-ban       6\n",
              "aid-to-contras          11\n",
              "mx-missile               3\n",
              "immigration              3\n",
              "synfuels                 9\n",
              "education               13\n",
              "right-to-sue            10\n",
              "crime                    7\n",
              "duty-free               12\n",
              "south-africa            22\n",
              "dtype: int64"
            ]
          },
          "metadata": {
            "tags": []
          },
          "execution_count": 49
        }
      ]
    },
    {
      "cell_type": "code",
      "metadata": {
        "id": "wTCfUntsDrtH",
        "colab_type": "code",
        "colab": {
          "base_uri": "https://localhost:8080/",
          "height": 250
        },
        "outputId": "f435b44b-0fba-4b88-9cf1-bafd7f366d02"
      },
      "source": [
        "dem = df[df['party'] == 'democrat']\n",
        "print(dem.shape)\n",
        "dem.head()"
      ],
      "execution_count": 50,
      "outputs": [
        {
          "output_type": "stream",
          "text": [
            "(267, 17)\n"
          ],
          "name": "stdout"
        },
        {
          "output_type": "execute_result",
          "data": {
            "text/html": [
              "<div>\n",
              "<style scoped>\n",
              "    .dataframe tbody tr th:only-of-type {\n",
              "        vertical-align: middle;\n",
              "    }\n",
              "\n",
              "    .dataframe tbody tr th {\n",
              "        vertical-align: top;\n",
              "    }\n",
              "\n",
              "    .dataframe thead th {\n",
              "        text-align: right;\n",
              "    }\n",
              "</style>\n",
              "<table border=\"1\" class=\"dataframe\">\n",
              "  <thead>\n",
              "    <tr style=\"text-align: right;\">\n",
              "      <th></th>\n",
              "      <th>party</th>\n",
              "      <th>handicapped-infants</th>\n",
              "      <th>water-project</th>\n",
              "      <th>budget</th>\n",
              "      <th>physician-fee-freeze</th>\n",
              "      <th>el-salvador-aid</th>\n",
              "      <th>religious-groups</th>\n",
              "      <th>anti-satellite-ban</th>\n",
              "      <th>aid-to-contras</th>\n",
              "      <th>mx-missile</th>\n",
              "      <th>immigration</th>\n",
              "      <th>synfuels</th>\n",
              "      <th>education</th>\n",
              "      <th>right-to-sue</th>\n",
              "      <th>crime</th>\n",
              "      <th>duty-free</th>\n",
              "      <th>south-africa</th>\n",
              "    </tr>\n",
              "  </thead>\n",
              "  <tbody>\n",
              "    <tr>\n",
              "      <th>2</th>\n",
              "      <td>democrat</td>\n",
              "      <td>NaN</td>\n",
              "      <td>1.0</td>\n",
              "      <td>1.0</td>\n",
              "      <td>NaN</td>\n",
              "      <td>1.0</td>\n",
              "      <td>1.0</td>\n",
              "      <td>0.0</td>\n",
              "      <td>0.0</td>\n",
              "      <td>0.0</td>\n",
              "      <td>0.0</td>\n",
              "      <td>1.0</td>\n",
              "      <td>0.0</td>\n",
              "      <td>1.0</td>\n",
              "      <td>1.0</td>\n",
              "      <td>0.0</td>\n",
              "      <td>0.0</td>\n",
              "    </tr>\n",
              "    <tr>\n",
              "      <th>3</th>\n",
              "      <td>democrat</td>\n",
              "      <td>0.0</td>\n",
              "      <td>1.0</td>\n",
              "      <td>1.0</td>\n",
              "      <td>0.0</td>\n",
              "      <td>NaN</td>\n",
              "      <td>1.0</td>\n",
              "      <td>0.0</td>\n",
              "      <td>0.0</td>\n",
              "      <td>0.0</td>\n",
              "      <td>0.0</td>\n",
              "      <td>1.0</td>\n",
              "      <td>0.0</td>\n",
              "      <td>1.0</td>\n",
              "      <td>0.0</td>\n",
              "      <td>0.0</td>\n",
              "      <td>1.0</td>\n",
              "    </tr>\n",
              "    <tr>\n",
              "      <th>4</th>\n",
              "      <td>democrat</td>\n",
              "      <td>1.0</td>\n",
              "      <td>1.0</td>\n",
              "      <td>1.0</td>\n",
              "      <td>0.0</td>\n",
              "      <td>1.0</td>\n",
              "      <td>1.0</td>\n",
              "      <td>0.0</td>\n",
              "      <td>0.0</td>\n",
              "      <td>0.0</td>\n",
              "      <td>0.0</td>\n",
              "      <td>1.0</td>\n",
              "      <td>NaN</td>\n",
              "      <td>1.0</td>\n",
              "      <td>1.0</td>\n",
              "      <td>1.0</td>\n",
              "      <td>1.0</td>\n",
              "    </tr>\n",
              "    <tr>\n",
              "      <th>5</th>\n",
              "      <td>democrat</td>\n",
              "      <td>0.0</td>\n",
              "      <td>1.0</td>\n",
              "      <td>1.0</td>\n",
              "      <td>0.0</td>\n",
              "      <td>1.0</td>\n",
              "      <td>1.0</td>\n",
              "      <td>0.0</td>\n",
              "      <td>0.0</td>\n",
              "      <td>0.0</td>\n",
              "      <td>0.0</td>\n",
              "      <td>0.0</td>\n",
              "      <td>0.0</td>\n",
              "      <td>1.0</td>\n",
              "      <td>1.0</td>\n",
              "      <td>1.0</td>\n",
              "      <td>1.0</td>\n",
              "    </tr>\n",
              "    <tr>\n",
              "      <th>6</th>\n",
              "      <td>democrat</td>\n",
              "      <td>0.0</td>\n",
              "      <td>1.0</td>\n",
              "      <td>0.0</td>\n",
              "      <td>1.0</td>\n",
              "      <td>1.0</td>\n",
              "      <td>1.0</td>\n",
              "      <td>0.0</td>\n",
              "      <td>0.0</td>\n",
              "      <td>0.0</td>\n",
              "      <td>0.0</td>\n",
              "      <td>0.0</td>\n",
              "      <td>0.0</td>\n",
              "      <td>NaN</td>\n",
              "      <td>1.0</td>\n",
              "      <td>1.0</td>\n",
              "      <td>1.0</td>\n",
              "    </tr>\n",
              "  </tbody>\n",
              "</table>\n",
              "</div>"
            ],
            "text/plain": [
              "      party  handicapped-infants  water-project  ...  crime  duty-free  south-africa\n",
              "2  democrat                  NaN            1.0  ...    1.0        0.0           0.0\n",
              "3  democrat                  0.0            1.0  ...    0.0        0.0           1.0\n",
              "4  democrat                  1.0            1.0  ...    1.0        1.0           1.0\n",
              "5  democrat                  0.0            1.0  ...    1.0        1.0           1.0\n",
              "6  democrat                  0.0            1.0  ...    1.0        1.0           1.0\n",
              "\n",
              "[5 rows x 17 columns]"
            ]
          },
          "metadata": {
            "tags": []
          },
          "execution_count": 50
        }
      ]
    },
    {
      "cell_type": "code",
      "metadata": {
        "id": "rTiKP1GqEMKt",
        "colab_type": "code",
        "colab": {
          "base_uri": "https://localhost:8080/",
          "height": 312
        },
        "outputId": "34cb85ea-ec43-46d0-a931-543141b349e5"
      },
      "source": [
        "dem.isnull().sum()"
      ],
      "execution_count": 51,
      "outputs": [
        {
          "output_type": "execute_result",
          "data": {
            "text/plain": [
              "party                    0\n",
              "handicapped-infants      9\n",
              "water-project           28\n",
              "budget                   7\n",
              "physician-fee-freeze     8\n",
              "el-salvador-aid         12\n",
              "religious-groups         9\n",
              "anti-satellite-ban       8\n",
              "aid-to-contras           4\n",
              "mx-missile              19\n",
              "immigration              4\n",
              "synfuels                12\n",
              "education               18\n",
              "right-to-sue            15\n",
              "crime                   10\n",
              "duty-free               16\n",
              "south-africa            82\n",
              "dtype: int64"
            ]
          },
          "metadata": {
            "tags": []
          },
          "execution_count": 51
        }
      ]
    },
    {
      "cell_type": "markdown",
      "metadata": {
        "id": "MtsKaK94CgjE",
        "colab_type": "text"
      },
      "source": [
        "#2. find an issue that democrats support more than republicans with p < 0.01\n",
        "\n",
        "at this point, df = whole dataframe, rep = republican data, dem = democrat data\n",
        "\n",
        "i will deal with nulls by doing calculations that discard nulls, either by default or with parameters declaring it so"
      ]
    },
    {
      "cell_type": "markdown",
      "metadata": {
        "id": "AIBBN2jMr7YP",
        "colab_type": "text"
      },
      "source": [
        "## just looking at stuff"
      ]
    },
    {
      "cell_type": "code",
      "metadata": {
        "id": "6N0wDyaKQ79_",
        "colab_type": "code",
        "colab": {
          "base_uri": "https://localhost:8080/",
          "height": 172
        },
        "outputId": "68c707ba-d3d7-448f-88a3-d04eccd6e643"
      },
      "source": [
        "support_mean_by_party = pd.pivot_table(df, index='party', aggfunc='mean')\n",
        "support_mean_by_party"
      ],
      "execution_count": 72,
      "outputs": [
        {
          "output_type": "execute_result",
          "data": {
            "text/html": [
              "<div>\n",
              "<style scoped>\n",
              "    .dataframe tbody tr th:only-of-type {\n",
              "        vertical-align: middle;\n",
              "    }\n",
              "\n",
              "    .dataframe tbody tr th {\n",
              "        vertical-align: top;\n",
              "    }\n",
              "\n",
              "    .dataframe thead th {\n",
              "        text-align: right;\n",
              "    }\n",
              "</style>\n",
              "<table border=\"1\" class=\"dataframe\">\n",
              "  <thead>\n",
              "    <tr style=\"text-align: right;\">\n",
              "      <th></th>\n",
              "      <th>aid-to-contras</th>\n",
              "      <th>anti-satellite-ban</th>\n",
              "      <th>budget</th>\n",
              "      <th>crime</th>\n",
              "      <th>duty-free</th>\n",
              "      <th>education</th>\n",
              "      <th>el-salvador-aid</th>\n",
              "      <th>handicapped-infants</th>\n",
              "      <th>immigration</th>\n",
              "      <th>mx-missile</th>\n",
              "      <th>physician-fee-freeze</th>\n",
              "      <th>religious-groups</th>\n",
              "      <th>right-to-sue</th>\n",
              "      <th>south-africa</th>\n",
              "      <th>synfuels</th>\n",
              "      <th>water-project</th>\n",
              "    </tr>\n",
              "    <tr>\n",
              "      <th>party</th>\n",
              "      <th></th>\n",
              "      <th></th>\n",
              "      <th></th>\n",
              "      <th></th>\n",
              "      <th></th>\n",
              "      <th></th>\n",
              "      <th></th>\n",
              "      <th></th>\n",
              "      <th></th>\n",
              "      <th></th>\n",
              "      <th></th>\n",
              "      <th></th>\n",
              "      <th></th>\n",
              "      <th></th>\n",
              "      <th></th>\n",
              "      <th></th>\n",
              "    </tr>\n",
              "  </thead>\n",
              "  <tbody>\n",
              "    <tr>\n",
              "      <th>democrat</th>\n",
              "      <td>0.828897</td>\n",
              "      <td>0.772201</td>\n",
              "      <td>0.888462</td>\n",
              "      <td>0.350195</td>\n",
              "      <td>0.637450</td>\n",
              "      <td>0.144578</td>\n",
              "      <td>0.215686</td>\n",
              "      <td>0.604651</td>\n",
              "      <td>0.471483</td>\n",
              "      <td>0.758065</td>\n",
              "      <td>0.054054</td>\n",
              "      <td>0.476744</td>\n",
              "      <td>0.289683</td>\n",
              "      <td>0.935135</td>\n",
              "      <td>0.505882</td>\n",
              "      <td>0.502092</td>\n",
              "    </tr>\n",
              "    <tr>\n",
              "      <th>republican</th>\n",
              "      <td>0.152866</td>\n",
              "      <td>0.240741</td>\n",
              "      <td>0.134146</td>\n",
              "      <td>0.981366</td>\n",
              "      <td>0.089744</td>\n",
              "      <td>0.870968</td>\n",
              "      <td>0.951515</td>\n",
              "      <td>0.187879</td>\n",
              "      <td>0.557576</td>\n",
              "      <td>0.115152</td>\n",
              "      <td>0.987879</td>\n",
              "      <td>0.897590</td>\n",
              "      <td>0.860759</td>\n",
              "      <td>0.657534</td>\n",
              "      <td>0.132075</td>\n",
              "      <td>0.506757</td>\n",
              "    </tr>\n",
              "  </tbody>\n",
              "</table>\n",
              "</div>"
            ],
            "text/plain": [
              "            aid-to-contras  anti-satellite-ban  ...  synfuels  water-project\n",
              "party                                           ...                         \n",
              "democrat          0.828897            0.772201  ...  0.505882       0.502092\n",
              "republican        0.152866            0.240741  ...  0.132075       0.506757\n",
              "\n",
              "[2 rows x 16 columns]"
            ]
          },
          "metadata": {
            "tags": []
          },
          "execution_count": 72
        }
      ]
    },
    {
      "cell_type": "code",
      "metadata": {
        "id": "9iSbE0U3rVvx",
        "colab_type": "code",
        "colab": {
          "base_uri": "https://localhost:8080/",
          "height": 535
        },
        "outputId": "21687217-93eb-45c2-a552-86d2efe00259"
      },
      "source": [
        "support_mean_by_party.T"
      ],
      "execution_count": 124,
      "outputs": [
        {
          "output_type": "execute_result",
          "data": {
            "text/html": [
              "<div>\n",
              "<style scoped>\n",
              "    .dataframe tbody tr th:only-of-type {\n",
              "        vertical-align: middle;\n",
              "    }\n",
              "\n",
              "    .dataframe tbody tr th {\n",
              "        vertical-align: top;\n",
              "    }\n",
              "\n",
              "    .dataframe thead th {\n",
              "        text-align: right;\n",
              "    }\n",
              "</style>\n",
              "<table border=\"1\" class=\"dataframe\">\n",
              "  <thead>\n",
              "    <tr style=\"text-align: right;\">\n",
              "      <th>party</th>\n",
              "      <th>democrat</th>\n",
              "      <th>republican</th>\n",
              "    </tr>\n",
              "  </thead>\n",
              "  <tbody>\n",
              "    <tr>\n",
              "      <th>aid-to-contras</th>\n",
              "      <td>0.828897</td>\n",
              "      <td>0.152866</td>\n",
              "    </tr>\n",
              "    <tr>\n",
              "      <th>anti-satellite-ban</th>\n",
              "      <td>0.772201</td>\n",
              "      <td>0.240741</td>\n",
              "    </tr>\n",
              "    <tr>\n",
              "      <th>budget</th>\n",
              "      <td>0.888462</td>\n",
              "      <td>0.134146</td>\n",
              "    </tr>\n",
              "    <tr>\n",
              "      <th>crime</th>\n",
              "      <td>0.350195</td>\n",
              "      <td>0.981366</td>\n",
              "    </tr>\n",
              "    <tr>\n",
              "      <th>duty-free</th>\n",
              "      <td>0.637450</td>\n",
              "      <td>0.089744</td>\n",
              "    </tr>\n",
              "    <tr>\n",
              "      <th>education</th>\n",
              "      <td>0.144578</td>\n",
              "      <td>0.870968</td>\n",
              "    </tr>\n",
              "    <tr>\n",
              "      <th>el-salvador-aid</th>\n",
              "      <td>0.215686</td>\n",
              "      <td>0.951515</td>\n",
              "    </tr>\n",
              "    <tr>\n",
              "      <th>handicapped-infants</th>\n",
              "      <td>0.604651</td>\n",
              "      <td>0.187879</td>\n",
              "    </tr>\n",
              "    <tr>\n",
              "      <th>immigration</th>\n",
              "      <td>0.471483</td>\n",
              "      <td>0.557576</td>\n",
              "    </tr>\n",
              "    <tr>\n",
              "      <th>mx-missile</th>\n",
              "      <td>0.758065</td>\n",
              "      <td>0.115152</td>\n",
              "    </tr>\n",
              "    <tr>\n",
              "      <th>physician-fee-freeze</th>\n",
              "      <td>0.054054</td>\n",
              "      <td>0.987879</td>\n",
              "    </tr>\n",
              "    <tr>\n",
              "      <th>religious-groups</th>\n",
              "      <td>0.476744</td>\n",
              "      <td>0.897590</td>\n",
              "    </tr>\n",
              "    <tr>\n",
              "      <th>right-to-sue</th>\n",
              "      <td>0.289683</td>\n",
              "      <td>0.860759</td>\n",
              "    </tr>\n",
              "    <tr>\n",
              "      <th>south-africa</th>\n",
              "      <td>0.935135</td>\n",
              "      <td>0.657534</td>\n",
              "    </tr>\n",
              "    <tr>\n",
              "      <th>synfuels</th>\n",
              "      <td>0.505882</td>\n",
              "      <td>0.132075</td>\n",
              "    </tr>\n",
              "    <tr>\n",
              "      <th>water-project</th>\n",
              "      <td>0.502092</td>\n",
              "      <td>0.506757</td>\n",
              "    </tr>\n",
              "  </tbody>\n",
              "</table>\n",
              "</div>"
            ],
            "text/plain": [
              "party                 democrat  republican\n",
              "aid-to-contras        0.828897    0.152866\n",
              "anti-satellite-ban    0.772201    0.240741\n",
              "budget                0.888462    0.134146\n",
              "crime                 0.350195    0.981366\n",
              "duty-free             0.637450    0.089744\n",
              "education             0.144578    0.870968\n",
              "el-salvador-aid       0.215686    0.951515\n",
              "handicapped-infants   0.604651    0.187879\n",
              "immigration           0.471483    0.557576\n",
              "mx-missile            0.758065    0.115152\n",
              "physician-fee-freeze  0.054054    0.987879\n",
              "religious-groups      0.476744    0.897590\n",
              "right-to-sue          0.289683    0.860759\n",
              "south-africa          0.935135    0.657534\n",
              "synfuels              0.505882    0.132075\n",
              "water-project         0.502092    0.506757"
            ]
          },
          "metadata": {
            "tags": []
          },
          "execution_count": 124
        }
      ]
    },
    {
      "cell_type": "markdown",
      "metadata": {
        "id": "XTIGwhuIaqUJ",
        "colab_type": "text"
      },
      "source": [
        "## here's the answer\n",
        "\n",
        "aid-to-contras - democrats support more than republicans, confidence > 99%"
      ]
    },
    {
      "cell_type": "code",
      "metadata": {
        "id": "iLirRRkgXOnM",
        "colab_type": "code",
        "colab": {}
      },
      "source": [
        "confidence_level = 0.99"
      ],
      "execution_count": 0,
      "outputs": []
    },
    {
      "cell_type": "code",
      "metadata": {
        "id": "DSuvCmBIas3v",
        "colab_type": "code",
        "colab": {
          "base_uri": "https://localhost:8080/",
          "height": 32
        },
        "outputId": "47642a8d-e51e-4926-9aff-355914ad770d"
      },
      "source": [
        "result = stats.ttest_ind(dem['aid-to-contras'], rep['aid-to-contras'], nan_policy='omit')\n",
        "if result.pvalue < 1 - confidence_level:\n",
        "  if result.statistic > 0.0:\n",
        "    print('democrats support more')\n",
        "  else:\n",
        "    print('republicans support more')"
      ],
      "execution_count": 84,
      "outputs": [
        {
          "output_type": "stream",
          "text": [
            "democrats support more\n"
          ],
          "name": "stdout"
        }
      ]
    },
    {
      "cell_type": "markdown",
      "metadata": {
        "id": "qp5CJU9PC0Qh",
        "colab_type": "text"
      },
      "source": [
        "#3. find an issue that republicans support more than democrats with p < 0.01"
      ]
    },
    {
      "cell_type": "markdown",
      "metadata": {
        "id": "vxQCNqD5sZWv",
        "colab_type": "text"
      },
      "source": [
        "## heres the answer\n",
        "\n",
        "crime - republicans support more than democrats, confidence > 99%"
      ]
    },
    {
      "cell_type": "code",
      "metadata": {
        "id": "HYFfO4tjC6WK",
        "colab_type": "code",
        "colab": {
          "base_uri": "https://localhost:8080/",
          "height": 32
        },
        "outputId": "e15ffdec-eb39-4530-8104-2361df0b8cf4"
      },
      "source": [
        "result = stats.ttest_ind(dem['crime'], rep['crime'], nan_policy='omit')\n",
        "if result.pvalue < 1 - confidence_level:\n",
        "  if result.statistic > 0.0:\n",
        "    print('democrats support more')\n",
        "  else:\n",
        "    print('republicans support more')"
      ],
      "execution_count": 85,
      "outputs": [
        {
          "output_type": "stream",
          "text": [
            "republicans support more\n"
          ],
          "name": "stdout"
        }
      ]
    },
    {
      "cell_type": "markdown",
      "metadata": {
        "id": "PNaZNzGMC6uB",
        "colab_type": "text"
      },
      "source": [
        "#4. find an issue where the difference between republicans and democrats has p > 0.1"
      ]
    },
    {
      "cell_type": "markdown",
      "metadata": {
        "id": "ITOuD4bpsqpW",
        "colab_type": "text"
      },
      "source": [
        "## heres the answer\n",
        "\n",
        "water-project - level of support by democrats vs republicans is not statistically significant to a confidence level > 90%"
      ]
    },
    {
      "cell_type": "code",
      "metadata": {
        "id": "ihOIqiZJC8yp",
        "colab_type": "code",
        "colab": {
          "base_uri": "https://localhost:8080/",
          "height": 32
        },
        "outputId": "814087c7-ece8-4b52-f6a8-47095b34c27c"
      },
      "source": [
        "result = stats.ttest_ind(dem['water-project'], rep['water-project'], nan_policy='omit')\n",
        "if result.pvalue < 1 - confidence_level:\n",
        "  if result.statistic > 0.0:\n",
        "    print('democrats support more')\n",
        "  else:\n",
        "    print('republicans support more')\n",
        "elif result.pvalue > 0.1:\n",
        "  print('difference p-value > 1.0')\n",
        "else:\n",
        "  print('greater than 90% and less than 99% confidence???')\n",
        "  print(result)"
      ],
      "execution_count": 95,
      "outputs": [
        {
          "output_type": "stream",
          "text": [
            "difference p-value > 1.0\n"
          ],
          "name": "stdout"
        }
      ]
    },
    {
      "cell_type": "markdown",
      "metadata": {
        "id": "LgV66bgcftXD",
        "colab_type": "text"
      },
      "source": [
        "# Stretch 1"
      ]
    },
    {
      "cell_type": "code",
      "metadata": {
        "id": "rtLD9PWFm0h6",
        "colab_type": "code",
        "colab": {}
      },
      "source": [
        "def dem_vs_rep(dem_issue, rep_issue, confidence):\n",
        "  result = stats.ttest_ind(dem_issue, rep_issue, nan_policy='omit')\n",
        "  if result.pvalue < 1 - confidence:\n",
        "    if result.statistic > 0.0:\n",
        "      return('democrats support more, confidence: approx {:.2f}%'.format((1-result.pvalue)*100))\n",
        "    else:\n",
        "      return('republicans support more, confidence: approx {:.2f}%'.format((1-result.pvalue)*100))\n",
        "  else:\n",
        "    return('not enough confidence: approx {:.2f}%'.format((1-result.pvalue)*100))"
      ],
      "execution_count": 0,
      "outputs": []
    },
    {
      "cell_type": "markdown",
      "metadata": {
        "id": "O_shE2QrmqUf",
        "colab_type": "text"
      },
      "source": [
        "## which side supports it more, confidence level 99% (p-value < .01)\n",
        "\n",
        "democrats support more\n",
        " - handicapped infants\n",
        " - budget\n",
        " - anti-satellite ban\n",
        " - aid-to-contras\n",
        " - mx-missile\n",
        " - synfuels\n",
        " - duty-free\n",
        " - south-africa\n",
        " \n",
        "republicans support more\n",
        " - physician-fee-freeze\n",
        " - el-salvador-aid\n",
        " - religious-groups\n",
        " - education\n",
        " - right-to-sue\n",
        " - crime\n",
        "\n",
        "not enough confidence to be statistically significant\n",
        " - water-project\n",
        " - immigration\n"
      ]
    },
    {
      "cell_type": "code",
      "metadata": {
        "id": "NogVD6JxfhHf",
        "colab_type": "code",
        "colab": {
          "base_uri": "https://localhost:8080/",
          "height": 543
        },
        "outputId": "dc9cfd3d-3782-483d-831c-ed942027d62a"
      },
      "source": [
        "for column in house_columns_no_party:\n",
        "  if column == 'party':\n",
        "    continue\n",
        "  print(column, dem_vs_rep(dem[column], rep[column], .99))\n",
        "  print()"
      ],
      "execution_count": 117,
      "outputs": [
        {
          "output_type": "stream",
          "text": [
            "handicapped-infants democrats support more, confidence: approx 100.00%\n",
            "\n",
            "water-project not enough confidence: approx 7.08%\n",
            "\n",
            "budget democrats support more, confidence: approx 100.00%\n",
            "\n",
            "physician-fee-freeze republicans support more, confidence: approx 100.00%\n",
            "\n",
            "el-salvador-aid republicans support more, confidence: approx 100.00%\n",
            "\n",
            "religious-groups republicans support more, confidence: approx 100.00%\n",
            "\n",
            "anti-satellite-ban democrats support more, confidence: approx 100.00%\n",
            "\n",
            "aid-to-contras democrats support more, confidence: approx 100.00%\n",
            "\n",
            "mx-missile democrats support more, confidence: approx 100.00%\n",
            "\n",
            "immigration not enough confidence: approx 91.67%\n",
            "\n",
            "synfuels democrats support more, confidence: approx 100.00%\n",
            "\n",
            "education republicans support more, confidence: approx 100.00%\n",
            "\n",
            "right-to-sue republicans support more, confidence: approx 100.00%\n",
            "\n",
            "crime republicans support more, confidence: approx 100.00%\n",
            "\n",
            "duty-free democrats support more, confidence: approx 100.00%\n",
            "\n",
            "south-africa democrats support more, confidence: approx 100.00%\n",
            "\n"
          ],
          "name": "stdout"
        }
      ]
    },
    {
      "cell_type": "markdown",
      "metadata": {
        "id": "x53ZfrWZm9D6",
        "colab_type": "text"
      },
      "source": [
        "## which side supports it more, confidence level 90% (p-value < .1)\n",
        "\n",
        "water-project is the only one that has a confidence level < 90% (i.e. p-value > .1)"
      ]
    },
    {
      "cell_type": "code",
      "metadata": {
        "id": "54irb8K9jnkS",
        "colab_type": "code",
        "colab": {
          "base_uri": "https://localhost:8080/",
          "height": 543
        },
        "outputId": "832a5dc0-900a-48c1-9647-064884071d82"
      },
      "source": [
        "for column in house_columns_no_party:\n",
        "  if column == 'party':\n",
        "    continue\n",
        "  print(column, dem_vs_rep(dem[column], rep[column], .9))\n",
        "  print()"
      ],
      "execution_count": 116,
      "outputs": [
        {
          "output_type": "stream",
          "text": [
            "handicapped-infants democrats support more, confidence: approx 100.00%\n",
            "\n",
            "water-project not enough confidence: approx 7.08%\n",
            "\n",
            "budget democrats support more, confidence: approx 100.00%\n",
            "\n",
            "physician-fee-freeze republicans support more, confidence: approx 100.00%\n",
            "\n",
            "el-salvador-aid republicans support more, confidence: approx 100.00%\n",
            "\n",
            "religious-groups republicans support more, confidence: approx 100.00%\n",
            "\n",
            "anti-satellite-ban democrats support more, confidence: approx 100.00%\n",
            "\n",
            "aid-to-contras democrats support more, confidence: approx 100.00%\n",
            "\n",
            "mx-missile democrats support more, confidence: approx 100.00%\n",
            "\n",
            "immigration republicans support more, confidence: approx 91.67%\n",
            "\n",
            "synfuels democrats support more, confidence: approx 100.00%\n",
            "\n",
            "education republicans support more, confidence: approx 100.00%\n",
            "\n",
            "right-to-sue republicans support more, confidence: approx 100.00%\n",
            "\n",
            "crime republicans support more, confidence: approx 100.00%\n",
            "\n",
            "duty-free democrats support more, confidence: approx 100.00%\n",
            "\n",
            "south-africa democrats support more, confidence: approx 100.00%\n",
            "\n"
          ],
          "name": "stdout"
        }
      ]
    }
  ]
}