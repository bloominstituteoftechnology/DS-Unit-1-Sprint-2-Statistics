{
  "nbformat": 4,
  "nbformat_minor": 0,
  "metadata": {
    "kernelspec": {
      "display_name": "Python 3",
      "language": "python",
      "name": "python3"
    },
    "language_info": {
      "codemirror_mode": {
        "name": "ipython",
        "version": 3
      },
      "file_extension": ".py",
      "mimetype": "text/x-python",
      "name": "python",
      "nbconvert_exporter": "python",
      "pygments_lexer": "ipython3",
      "version": "3.7.3"
    },
    "colab": {
      "name": "LS_DS_121_Statistics_Probability_Assignment.ipynb",
      "provenance": [],
      "include_colab_link": true
    }
  },
  "cells": [
    {
      "cell_type": "markdown",
      "metadata": {
        "id": "view-in-github",
        "colab_type": "text"
      },
      "source": [
        "<a href=\"https://colab.research.google.com/github/ryanleeallred/DS-Unit-1-Sprint-2-Statistics/blob/master/module1/LS_DS_121_Statistics_Probability_Assignment.ipynb\" target=\"_parent\"><img src=\"https://colab.research.google.com/assets/colab-badge.svg\" alt=\"Open In Colab\"/></a>"
      ]
    },
    {
      "cell_type": "markdown",
      "metadata": {
        "id": "Sa5KWMO1ngPN",
        "colab_type": "text"
      },
      "source": [
        "<img align=\"left\" src=\"https://lever-client-logos.s3.amazonaws.com/864372b1-534c-480e-acd5-9711f850815c-1524247202159.png\" width=200>\n",
        "<br></br>\n",
        "<br></br>\n",
        "\n",
        "## *Data Science Unit 1 Sprint 2 Assignment 1*\n",
        "\n",
        "# Apply the t-test to real data\n",
        "\n",
        "Your assignment is to determine which issues have \"statistically significant\" differences between political parties in this [1980s congressional voting data](https://archive.ics.uci.edu/ml/datasets/Congressional+Voting+Records). The data consists of 435 instances (one for each congressperson), a class (democrat or republican), and 16 binary attributes (yes or no for voting for or against certain issues). Be aware - there are missing values!\n",
        "\n",
        "Your goals:\n",
        "\n",
        "1. Load and clean the data (or determine the best method to drop observations when running tests)\n",
        "2. Using hypothesis testing, find an issue that democrats support more than republicans with p < 0.01\n",
        "3. Using hypothesis testing, find an issue that republicans support more than democrats with p < 0.01\n",
        "4. Using hypothesis testing, find an issue where the difference between republicans and democrats has p > 0.1 (i.e. there may not be much of a difference)\n",
        "\n",
        "Note that this data will involve *2 sample* t-tests, because you're comparing averages across two groups (republicans and democrats) rather than a single group against a null hypothesis."
      ]
    },
    {
      "cell_type": "code",
      "metadata": {
        "id": "ZKwspo2CngPP",
        "colab_type": "code",
        "colab": {}
      },
      "source": [
        "import pandas as pd\n",
        "import numpy as np\n",
        "from scipy.stats import ttest_ind, ttest_ind_from_stats, ttest_rel, ttest_1samp\n"
      ],
      "execution_count": 0,
      "outputs": []
    },
    {
      "cell_type": "code",
      "metadata": {
        "id": "utz900Vjz5O3",
        "colab_type": "code",
        "outputId": "1c090672-7b01-4fdd-8da4-4cdaf72bc6d9",
        "colab": {
          "base_uri": "https://localhost:8080/",
          "height": 204
        }
      },
      "source": [
        "!wget https://archive.ics.uci.edu/ml/machine-learning-databases/voting-records/house-votes-84.data"
      ],
      "execution_count": 254,
      "outputs": [
        {
          "output_type": "stream",
          "text": [
            "--2019-10-08 02:20:30--  https://archive.ics.uci.edu/ml/machine-learning-databases/voting-records/house-votes-84.data\n",
            "Resolving archive.ics.uci.edu (archive.ics.uci.edu)... 128.195.10.252\n",
            "Connecting to archive.ics.uci.edu (archive.ics.uci.edu)|128.195.10.252|:443... connected.\n",
            "HTTP request sent, awaiting response... 200 OK\n",
            "Length: 18171 (18K) [application/x-httpd-php]\n",
            "Saving to: ‘house-votes-84.data.1’\n",
            "\n",
            "\rhouse-votes-84.data   0%[                    ]       0  --.-KB/s               \rhouse-votes-84.data 100%[===================>]  17.75K  --.-KB/s    in 0.06s   \n",
            "\n",
            "2019-10-08 02:20:31 (288 KB/s) - ‘house-votes-84.data.1’ saved [18171/18171]\n",
            "\n"
          ],
          "name": "stdout"
        }
      ]
    },
    {
      "cell_type": "code",
      "metadata": {
        "id": "ZUbSNry30Ojx",
        "colab_type": "code",
        "colab": {}
      },
      "source": [
        "# Load Data\n",
        "df = pd.read_csv('house-votes-84.data', \n",
        "                 header=None,\n",
        "                 names=['party','handicapped-infants','water-project',\n",
        "                          'budget','physician-fee-freeze', 'el-salvador-aid',\n",
        "                          'religious-groups','anti-satellite-ban',\n",
        "                          'aid-to-contras','mx-missile','immigration',\n",
        "                          'synfuels', 'education', 'right-to-sue','crime','duty-free',\n",
        "                          'south-africa'])"
      ],
      "execution_count": 0,
      "outputs": []
    },
    {
      "cell_type": "code",
      "metadata": {
        "id": "vKrvOFCr0Ugm",
        "colab_type": "code",
        "colab": {}
      },
      "source": [
        "df = df.replace({'?': np.NaN, 'y':1, 'n':0})\n",
        "\n"
      ],
      "execution_count": 0,
      "outputs": []
    },
    {
      "cell_type": "code",
      "metadata": {
        "id": "w1MHtWht0iCj",
        "colab_type": "code",
        "colab": {}
      },
      "source": [
        "# Filtering\n",
        "\n",
        "republicans = df[df.party == \"republican\"]\n",
        "democrats = df[df.party == \"democrat\"]"
      ],
      "execution_count": 0,
      "outputs": []
    },
    {
      "cell_type": "code",
      "metadata": {
        "id": "zkJUIcSxD2MK",
        "colab_type": "code",
        "colab": {}
      },
      "source": [
        "\n",
        "issues_list = df.columns.to_list()\n",
        "issues_list.remove('party')"
      ],
      "execution_count": 0,
      "outputs": []
    },
    {
      "cell_type": "code",
      "metadata": {
        "id": "NdDFt43H0uRZ",
        "colab_type": "code",
        "colab": {}
      },
      "source": [
        "# Define a function to compare the means between parties\n",
        "\n",
        "def compare_means(issues):\n",
        "  BOLD = '\\033[1m'\n",
        "  END = '\\033[0m'\n",
        "  UNDERLINE = '\\033[4m'\n",
        "\n",
        "  d = BOLD + \"Dem mean is: \" + END\n",
        "  r = BOLD + \"Rep mean is: \" + END\n",
        " \n",
        "  for issue in issues: \n",
        "    dem_mean = str(np.mean(democrats[issue]))\n",
        "    rep_mean = str(np.mean(republicans[issue]))\n",
        "\n",
        "    issue_str = UNDERLINE + \"\\tIssue: \" + str(issue).title().replace(\"-\", \" \") + END\n",
        "\n",
        "    print(issue_str + \n",
        "          \"\\n\" + d + dem_mean +\n",
        "          \"\\n\" + r + rep_mean)\n",
        "    print(\"\\n\" + \"-~\"*20)\n",
        "    "
      ],
      "execution_count": 0,
      "outputs": []
    },
    {
      "cell_type": "code",
      "metadata": {
        "id": "YpAPZy-N5RPz",
        "colab_type": "code",
        "outputId": "091f8004-d782-449e-adea-8c9712a3fc50",
        "colab": {
          "base_uri": "https://localhost:8080/",
          "height": 1000
        }
      },
      "source": [
        "compare_means(issues_list)"
      ],
      "execution_count": 280,
      "outputs": [
        {
          "output_type": "stream",
          "text": [
            "\u001b[4m\tIssue: Handicapped Infants\u001b[0m\n",
            "\u001b[1mDem mean is: \u001b[0m0.6046511627906976\n",
            "\u001b[1mRep mean is: \u001b[0m0.18787878787878787\n",
            "\n",
            "-~-~-~-~-~-~-~-~-~-~-~-~-~-~-~-~-~-~-~-~\n",
            "\u001b[4m\tIssue: Water Project\u001b[0m\n",
            "\u001b[1mDem mean is: \u001b[0m0.502092050209205\n",
            "\u001b[1mRep mean is: \u001b[0m0.5067567567567568\n",
            "\n",
            "-~-~-~-~-~-~-~-~-~-~-~-~-~-~-~-~-~-~-~-~\n",
            "\u001b[4m\tIssue: Budget\u001b[0m\n",
            "\u001b[1mDem mean is: \u001b[0m0.8884615384615384\n",
            "\u001b[1mRep mean is: \u001b[0m0.13414634146341464\n",
            "\n",
            "-~-~-~-~-~-~-~-~-~-~-~-~-~-~-~-~-~-~-~-~\n",
            "\u001b[4m\tIssue: Physician Fee Freeze\u001b[0m\n",
            "\u001b[1mDem mean is: \u001b[0m0.05405405405405406\n",
            "\u001b[1mRep mean is: \u001b[0m0.9878787878787879\n",
            "\n",
            "-~-~-~-~-~-~-~-~-~-~-~-~-~-~-~-~-~-~-~-~\n",
            "\u001b[4m\tIssue: El Salvador Aid\u001b[0m\n",
            "\u001b[1mDem mean is: \u001b[0m0.21568627450980393\n",
            "\u001b[1mRep mean is: \u001b[0m0.9515151515151515\n",
            "\n",
            "-~-~-~-~-~-~-~-~-~-~-~-~-~-~-~-~-~-~-~-~\n",
            "\u001b[4m\tIssue: Religious Groups\u001b[0m\n",
            "\u001b[1mDem mean is: \u001b[0m0.47674418604651164\n",
            "\u001b[1mRep mean is: \u001b[0m0.8975903614457831\n",
            "\n",
            "-~-~-~-~-~-~-~-~-~-~-~-~-~-~-~-~-~-~-~-~\n",
            "\u001b[4m\tIssue: Anti Satellite Ban\u001b[0m\n",
            "\u001b[1mDem mean is: \u001b[0m0.7722007722007722\n",
            "\u001b[1mRep mean is: \u001b[0m0.24074074074074073\n",
            "\n",
            "-~-~-~-~-~-~-~-~-~-~-~-~-~-~-~-~-~-~-~-~\n",
            "\u001b[4m\tIssue: Aid To Contras\u001b[0m\n",
            "\u001b[1mDem mean is: \u001b[0m0.8288973384030418\n",
            "\u001b[1mRep mean is: \u001b[0m0.15286624203821655\n",
            "\n",
            "-~-~-~-~-~-~-~-~-~-~-~-~-~-~-~-~-~-~-~-~\n",
            "\u001b[4m\tIssue: Mx Missile\u001b[0m\n",
            "\u001b[1mDem mean is: \u001b[0m0.7580645161290323\n",
            "\u001b[1mRep mean is: \u001b[0m0.11515151515151516\n",
            "\n",
            "-~-~-~-~-~-~-~-~-~-~-~-~-~-~-~-~-~-~-~-~\n",
            "\u001b[4m\tIssue: Immigration\u001b[0m\n",
            "\u001b[1mDem mean is: \u001b[0m0.4714828897338403\n",
            "\u001b[1mRep mean is: \u001b[0m0.5575757575757576\n",
            "\n",
            "-~-~-~-~-~-~-~-~-~-~-~-~-~-~-~-~-~-~-~-~\n",
            "\u001b[4m\tIssue: Synfuels\u001b[0m\n",
            "\u001b[1mDem mean is: \u001b[0m0.5058823529411764\n",
            "\u001b[1mRep mean is: \u001b[0m0.1320754716981132\n",
            "\n",
            "-~-~-~-~-~-~-~-~-~-~-~-~-~-~-~-~-~-~-~-~\n",
            "\u001b[4m\tIssue: Education\u001b[0m\n",
            "\u001b[1mDem mean is: \u001b[0m0.14457831325301204\n",
            "\u001b[1mRep mean is: \u001b[0m0.8709677419354839\n",
            "\n",
            "-~-~-~-~-~-~-~-~-~-~-~-~-~-~-~-~-~-~-~-~\n",
            "\u001b[4m\tIssue: Right To Sue\u001b[0m\n",
            "\u001b[1mDem mean is: \u001b[0m0.2896825396825397\n",
            "\u001b[1mRep mean is: \u001b[0m0.8607594936708861\n",
            "\n",
            "-~-~-~-~-~-~-~-~-~-~-~-~-~-~-~-~-~-~-~-~\n",
            "\u001b[4m\tIssue: Crime\u001b[0m\n",
            "\u001b[1mDem mean is: \u001b[0m0.35019455252918286\n",
            "\u001b[1mRep mean is: \u001b[0m0.9813664596273292\n",
            "\n",
            "-~-~-~-~-~-~-~-~-~-~-~-~-~-~-~-~-~-~-~-~\n",
            "\u001b[4m\tIssue: Duty Free\u001b[0m\n",
            "\u001b[1mDem mean is: \u001b[0m0.6374501992031872\n",
            "\u001b[1mRep mean is: \u001b[0m0.08974358974358974\n",
            "\n",
            "-~-~-~-~-~-~-~-~-~-~-~-~-~-~-~-~-~-~-~-~\n",
            "\u001b[4m\tIssue: South Africa\u001b[0m\n",
            "\u001b[1mDem mean is: \u001b[0m0.9351351351351351\n",
            "\u001b[1mRep mean is: \u001b[0m0.6575342465753424\n",
            "\n",
            "-~-~-~-~-~-~-~-~-~-~-~-~-~-~-~-~-~-~-~-~\n"
          ],
          "name": "stdout"
        }
      ]
    },
    {
      "cell_type": "code",
      "metadata": {
        "id": "BbNtg8d3BsZp",
        "colab_type": "code",
        "outputId": "443b3ee7-c963-4097-825d-f46e7b1022f9",
        "colab": {
          "base_uri": "https://localhost:8080/",
          "height": 34
        }
      },
      "source": [
        "# Find an issue that republicans support more than democrats\n",
        "\n",
        "ttest_ind(republicans['physician-fee-freeze'], \n",
        "          democrats['physician-fee-freeze'], \n",
        "          nan_policy='omit')"
      ],
      "execution_count": 261,
      "outputs": [
        {
          "output_type": "execute_result",
          "data": {
            "text/plain": [
              "Ttest_indResult(statistic=49.36708157301406, pvalue=1.994262314074344e-177)"
            ]
          },
          "metadata": {
            "tags": []
          },
          "execution_count": 261
        }
      ]
    },
    {
      "cell_type": "code",
      "metadata": {
        "id": "aOjo7VVjEIxF",
        "colab_type": "code",
        "outputId": "488c363f-7b5e-420c-ade5-917c7230b1d6",
        "colab": {
          "base_uri": "https://localhost:8080/",
          "height": 34
        }
      },
      "source": [
        "# Find an issue that democrats support more than republicans\n",
        "\n",
        "ttest_ind(republicans['aid-to-contras'], \n",
        "          democrats['aid-to-contras'],\n",
        "          nan_policy='omit')"
      ],
      "execution_count": 262,
      "outputs": [
        {
          "output_type": "execute_result",
          "data": {
            "text/plain": [
              "Ttest_indResult(statistic=-18.052093200819733, pvalue=2.82471841372357e-54)"
            ]
          },
          "metadata": {
            "tags": []
          },
          "execution_count": 262
        }
      ]
    },
    {
      "cell_type": "code",
      "metadata": {
        "id": "X6IOoZVEVL-g",
        "colab_type": "code",
        "outputId": "698a32bc-be25-4570-f863-270219f8bec3",
        "colab": {
          "base_uri": "https://localhost:8080/",
          "height": 34
        }
      },
      "source": [
        "## Using hypothesis testing, find an issue where the difference between republicans\n",
        "## and democrats has p > 0.1 (i.e. there may not be much of a difference)\n",
        "\n",
        "ttest_ind(republicans['water-project'],\n",
        "          democrats['water-project'], \n",
        "          nan_policy='omit')"
      ],
      "execution_count": 263,
      "outputs": [
        {
          "output_type": "execute_result",
          "data": {
            "text/plain": [
              "Ttest_indResult(statistic=0.08896538137868286, pvalue=0.9291556823993485)"
            ]
          },
          "metadata": {
            "tags": []
          },
          "execution_count": 263
        }
      ]
    },
    {
      "cell_type": "code",
      "metadata": {
        "id": "lwCTDu2Eaimm",
        "colab_type": "code",
        "colab": {}
      },
      "source": [
        "# Define a function to clean the output of the ttest_ind()\n",
        "def ttest_str_clean(str_in):\n",
        "  str_out = str_in.replace(\"Ttest_indResult\", \"\").replace(\"(\", \"\").replace(\")\", \"\").replace(\",\", \"\").title()\n",
        "\n",
        "  return str_out\n",
        "\n",
        "# Define a function apply ttest_ind() to issues_list\n",
        "def two_sample_ttest(issues):\n",
        "  BOLD = '\\033[1m'\n",
        "  END = '\\033[0m'\n",
        "  UNDERLINE = '\\033[4m'\n",
        " \n",
        "  for issue in issues:\n",
        "    ttest_result = str(ttest_ind(republicans[issue],\n",
        "                                 democrats[issue],\n",
        "                                 nan_policy='omit'))\n",
        "\n",
        "    ttest_str = ttest_str_clean(ttest_result)\n",
        "    \n",
        "    issue_str = \"\\t\\t\" + UNDERLINE + \"Issue:\" + BOLD + str(issue).title().replace(\"-\", \" \") + END\n",
        "    \n",
        "    print(issue_str +\n",
        "          \"\\n\" + ttest_str +\n",
        "          \"\\n\" + \"-~~-\"*20)\n",
        "    "
      ],
      "execution_count": 0,
      "outputs": []
    },
    {
      "cell_type": "code",
      "metadata": {
        "id": "65d2MEwEco8i",
        "colab_type": "code",
        "outputId": "a5c3f83d-cb45-470f-b6b6-3e0158d92759",
        "colab": {
          "base_uri": "https://localhost:8080/",
          "height": 833
        }
      },
      "source": [
        "two_sample_ttest(issues_list)"
      ],
      "execution_count": 299,
      "outputs": [
        {
          "output_type": "stream",
          "text": [
            "\t\t\u001b[4mIssue:\u001b[1mHandicapped Infants\u001b[0m\n",
            "Statistic=-9.205264294809222 Pvalue=1.613440327937243E-18\n",
            "-~~--~~--~~--~~--~~--~~--~~--~~--~~--~~--~~--~~--~~--~~--~~--~~--~~--~~--~~--~~-\n",
            "\t\t\u001b[4mIssue:\u001b[1mWater Project\u001b[0m\n",
            "Statistic=0.08896538137868286 Pvalue=0.9291556823993485\n",
            "-~~--~~--~~--~~--~~--~~--~~--~~--~~--~~--~~--~~--~~--~~--~~--~~--~~--~~--~~--~~-\n",
            "\t\t\u001b[4mIssue:\u001b[1mBudget\u001b[0m\n",
            "Statistic=-23.21277691701378 Pvalue=2.0703402795404463E-77\n",
            "-~~--~~--~~--~~--~~--~~--~~--~~--~~--~~--~~--~~--~~--~~--~~--~~--~~--~~--~~--~~-\n",
            "\t\t\u001b[4mIssue:\u001b[1mPhysician Fee Freeze\u001b[0m\n",
            "Statistic=49.36708157301406 Pvalue=1.994262314074344E-177\n",
            "-~~--~~--~~--~~--~~--~~--~~--~~--~~--~~--~~--~~--~~--~~--~~--~~--~~--~~--~~--~~-\n",
            "\t\t\u001b[4mIssue:\u001b[1mEl Salvador Aid\u001b[0m\n",
            "Statistic=21.13669261173219 Pvalue=5.600520111729011E-68\n",
            "-~~--~~--~~--~~--~~--~~--~~--~~--~~--~~--~~--~~--~~--~~--~~--~~--~~--~~--~~--~~-\n",
            "\t\t\u001b[4mIssue:\u001b[1mReligious Groups\u001b[0m\n",
            "Statistic=9.737575825219457 Pvalue=2.3936722520597287E-20\n",
            "-~~--~~--~~--~~--~~--~~--~~--~~--~~--~~--~~--~~--~~--~~--~~--~~--~~--~~--~~--~~-\n",
            "\t\t\u001b[4mIssue:\u001b[1mAnti Satellite Ban\u001b[0m\n",
            "Statistic=-12.526187929077842 Pvalue=8.521033017443867E-31\n",
            "-~~--~~--~~--~~--~~--~~--~~--~~--~~--~~--~~--~~--~~--~~--~~--~~--~~--~~--~~--~~-\n",
            "\t\t\u001b[4mIssue:\u001b[1mAid To Contras\u001b[0m\n",
            "Statistic=-18.052093200819733 Pvalue=2.82471841372357E-54\n",
            "-~~--~~--~~--~~--~~--~~--~~--~~--~~--~~--~~--~~--~~--~~--~~--~~--~~--~~--~~--~~-\n",
            "\t\t\u001b[4mIssue:\u001b[1mMx Missile\u001b[0m\n",
            "Statistic=-16.437503268542994 Pvalue=5.03079265310811E-47\n",
            "-~~--~~--~~--~~--~~--~~--~~--~~--~~--~~--~~--~~--~~--~~--~~--~~--~~--~~--~~--~~-\n",
            "\t\t\u001b[4mIssue:\u001b[1mImmigration\u001b[0m\n",
            "Statistic=1.7359117329695164 Pvalue=0.08330248490425066\n",
            "-~~--~~--~~--~~--~~--~~--~~--~~--~~--~~--~~--~~--~~--~~--~~--~~--~~--~~--~~--~~-\n",
            "\t\t\u001b[4mIssue:\u001b[1mSynfuels\u001b[0m\n",
            "Statistic=-8.293603989407588 Pvalue=1.5759322301054064E-15\n",
            "-~~--~~--~~--~~--~~--~~--~~--~~--~~--~~--~~--~~--~~--~~--~~--~~--~~--~~--~~--~~-\n",
            "\t\t\u001b[4mIssue:\u001b[1mEducation\u001b[0m\n",
            "Statistic=20.500685724563073 Pvalue=1.8834203990450192E-64\n",
            "-~~--~~--~~--~~--~~--~~--~~--~~--~~--~~--~~--~~--~~--~~--~~--~~--~~--~~--~~--~~-\n",
            "\t\t\u001b[4mIssue:\u001b[1mRight To Sue\u001b[0m\n",
            "Statistic=13.51064251060933 Pvalue=1.2278581709672758E-34\n",
            "-~~--~~--~~--~~--~~--~~--~~--~~--~~--~~--~~--~~--~~--~~--~~--~~--~~--~~--~~--~~-\n",
            "\t\t\u001b[4mIssue:\u001b[1mCrime\u001b[0m\n",
            "Statistic=16.342085656197696 Pvalue=9.952342705606092E-47\n",
            "-~~--~~--~~--~~--~~--~~--~~--~~--~~--~~--~~--~~--~~--~~--~~--~~--~~--~~--~~--~~-\n",
            "\t\t\u001b[4mIssue:\u001b[1mDuty Free\u001b[0m\n",
            "Statistic=-12.853146132542978 Pvalue=5.997697174347365E-32\n",
            "-~~--~~--~~--~~--~~--~~--~~--~~--~~--~~--~~--~~--~~--~~--~~--~~--~~--~~--~~--~~-\n",
            "\t\t\u001b[4mIssue:\u001b[1mSouth Africa\u001b[0m\n",
            "Statistic=-6.849454815841208 Pvalue=3.652674361672226E-11\n",
            "-~~--~~--~~--~~--~~--~~--~~--~~--~~--~~--~~--~~--~~--~~--~~--~~--~~--~~--~~--~~-\n"
          ],
          "name": "stdout"
        }
      ]
    },
    {
      "cell_type": "code",
      "metadata": {
        "id": "rt0RLIj4czZs",
        "colab_type": "code",
        "colab": {}
      },
      "source": [
        ""
      ],
      "execution_count": 0,
      "outputs": []
    },
    {
      "cell_type": "markdown",
      "metadata": {
        "id": "wcA_AvvRAqW_",
        "colab_type": "text"
      },
      "source": [
        "## Stretch Goals:\n",
        "\n",
        "1. Refactor your code into functions so it's easy to rerun with arbitrary variables\n",
        "2. Work on Performing a T-test without using Scipy in order to get \"under the hood\" and learn more thoroughly about this topic.\n",
        "### Start with a 1-sample t-test\n",
        " - Establish the conditions for your test \n",
        " - [Calculate the T Statistic](https://blog.minitab.com/hs-fs/hubfs/Imported_Blog_Media/701f9c0efa98a38fb397f3c3ec459b66.png?width=247&height=172&name=701f9c0efa98a38fb397f3c3ec459b66.png) (You'll need to omit NaN values from your sample).\n",
        " - Translate that t-statistic into a P-value. You can use a [table](https://www.google.com/search?q=t+statistic+table) or the [University of Iowa Applet](https://homepage.divms.uiowa.edu/~mbognar/applets/t.html)\n",
        "\n",
        " ### Then try a 2-sample t-test\n",
        " - Establish the conditions for your test \n",
        " - [Calculate the T Statistic](https://lh3.googleusercontent.com/proxy/rJJ5ZOL9ZDvKOOeBihXoZDgfk7uv1YsRzSQ1Tc10RX-r2HrRpRLVqlE9CWX23csYQXcTniFwlBg3H-qR8MKJPBGnjwndqlhDX3JxoDE5Yg) (You'll need to omit NaN values from your sample).\n",
        " - Translate that t-statistic into a P-value. You can use a [table](https://www.google.com/search?q=t+statistic+table) or the [University of Iowa Applet](https://homepage.divms.uiowa.edu/~mbognar/applets/t.html)\n",
        "\n",
        " ### Then check your Answers using Scipy!"
      ]
    },
    {
      "cell_type": "code",
      "metadata": {
        "id": "dPmXOHh1Cfea",
        "colab_type": "code",
        "colab": {}
      },
      "source": [
        ""
      ],
      "execution_count": 0,
      "outputs": []
    }
  ]
}