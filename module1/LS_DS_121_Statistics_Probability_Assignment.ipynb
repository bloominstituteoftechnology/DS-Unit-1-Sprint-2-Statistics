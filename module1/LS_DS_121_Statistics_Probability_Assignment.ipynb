{
  "nbformat": 4,
  "nbformat_minor": 0,
  "metadata": {
    "kernelspec": {
      "display_name": "Python 3",
      "language": "python",
      "name": "python3"
    },
    "language_info": {
      "codemirror_mode": {
        "name": "ipython",
        "version": 3
      },
      "file_extension": ".py",
      "mimetype": "text/x-python",
      "name": "python",
      "nbconvert_exporter": "python",
      "pygments_lexer": "ipython3",
      "version": "3.7.3"
    },
    "colab": {
      "name": "LS_DS_121_Statistics_Probability_Assignment.ipynb",
      "provenance": [],
      "collapsed_sections": [],
      "include_colab_link": true
    }
  },
  "cells": [
    {
      "cell_type": "markdown",
      "metadata": {
        "id": "view-in-github",
        "colab_type": "text"
      },
      "source": [
        "<a href=\"https://colab.research.google.com/github/BrokenShell/DS-Unit-1-Sprint-2-Statistics/blob/master/module1/LS_DS_121_Statistics_Probability_Assignment.ipynb\" target=\"_parent\"><img src=\"https://colab.research.google.com/assets/colab-badge.svg\" alt=\"Open In Colab\"/></a>"
      ]
    },
    {
      "cell_type": "markdown",
      "metadata": {
        "id": "Sa5KWMO1ngPN",
        "colab_type": "text"
      },
      "source": [
        "<img align=\"left\" src=\"https://lever-client-logos.s3.amazonaws.com/864372b1-534c-480e-acd5-9711f850815c-1524247202159.png\" width=200>\n",
        "<br></br>\n",
        "<br></br>\n",
        "\n",
        "## *Data Science Unit 1 Sprint 2 Assignment 1*\n",
        "\n",
        "# Apply the t-test to real data\n",
        "\n",
        "Your assignment is to determine which issues have \"statistically significant\" differences between political parties in this [1980s congressional voting data](https://archive.ics.uci.edu/ml/datasets/Congressional+Voting+Records). The data consists of 435 instances (one for each congressperson), a class (democrat or republican), and 16 binary attributes (yes or no for voting for or against certain issues). Be aware - there are missing values!\n",
        "\n",
        "Your goals:\n",
        "\n",
        "1. Load and clean the data (or determine the best method to drop observations when running tests)\n",
        "2. Using hypothesis testing, find an issue that democrats support more than republicans with p < 0.01\n",
        "3. Using hypothesis testing, find an issue that republicans support more than democrats with p < 0.01\n",
        "4. Using hypothesis testing, find an issue where the difference between republicans and democrats has p > 0.1 (i.e. there may not be much of a difference)\n",
        "\n",
        "Note that this data will involve *2 sample* t-tests, because you're comparing averages across two groups (republicans and democrats) rather than a single group against a null hypothesis.\n",
        "\n",
        "Stretch goals:\n",
        "\n",
        "1. Refactor your code into functions so it's easy to rerun with arbitrary variables\n",
        "2. Apply hypothesis testing to your personal project data (for the purposes of this notebook you can type a summary of the hypothesis you formed and tested)"
      ]
    },
    {
      "cell_type": "code",
      "metadata": {
        "id": "4Rol5gQM9Nyr",
        "colab_type": "code",
        "outputId": "8829513b-725a-4d67-951e-35124d06e807",
        "colab": {
          "base_uri": "https://localhost:8080/",
          "height": 224
        }
      },
      "source": [
        "!wget https://archive.ics.uci.edu/ml/machine-learning-databases/voting-records/house-votes-84.data"
      ],
      "execution_count": 0,
      "outputs": [
        {
          "output_type": "stream",
          "text": [
            "--2020-01-29 03:16:41--  https://archive.ics.uci.edu/ml/machine-learning-databases/voting-records/house-votes-84.data\n",
            "Resolving archive.ics.uci.edu (archive.ics.uci.edu)... 128.195.10.252\n",
            "Connecting to archive.ics.uci.edu (archive.ics.uci.edu)|128.195.10.252|:443... connected.\n",
            "HTTP request sent, awaiting response... 200 OK\n",
            "Length: 18171 (18K) [application/x-httpd-php]\n",
            "Saving to: ‘house-votes-84.data’\n",
            "\n",
            "house-votes-84.data 100%[===================>]  17.75K  --.-KB/s    in 0.1s    \n",
            "\n",
            "2020-01-29 03:16:46 (132 KB/s) - ‘house-votes-84.data’ saved [18171/18171]\n",
            "\n"
          ],
          "name": "stdout"
        }
      ]
    },
    {
      "cell_type": "code",
      "metadata": {
        "id": "ZKwspo2CngPP",
        "colab_type": "code",
        "outputId": "28e2c837-a779-428c-a895-01ef1dc94a4c",
        "colab": {
          "base_uri": "https://localhost:8080/",
          "height": 258
        }
      },
      "source": [
        "from scipy.stats import ttest_ind\n",
        "import pandas as pd\n",
        "\n",
        "\n",
        "column_headers = [\n",
        "    'party','handicapped-infants','water-project', 'budget','physician-fee-freeze', \n",
        "    'el-salvador-aid', 'religious-groups','anti-satellite-ban', 'aid-to-contras',\n",
        "    'mx-missile','immigration', 'synfuels', 'education', 'right-to-sue','crime',\n",
        "    'duty-free', 'south-africa',\n",
        "]\n",
        "df = pd.read_csv(\n",
        "    'house-votes-84.data', \n",
        "    header=None, \n",
        "    names=column_headers,\n",
        "    na_values=\"?\",\n",
        ")\n",
        "df = df.replace({'y': 1, 'n': 0})\n",
        "df.head()"
      ],
      "execution_count": 0,
      "outputs": [
        {
          "output_type": "execute_result",
          "data": {
            "text/html": [
              "<div>\n",
              "<style scoped>\n",
              "    .dataframe tbody tr th:only-of-type {\n",
              "        vertical-align: middle;\n",
              "    }\n",
              "\n",
              "    .dataframe tbody tr th {\n",
              "        vertical-align: top;\n",
              "    }\n",
              "\n",
              "    .dataframe thead th {\n",
              "        text-align: right;\n",
              "    }\n",
              "</style>\n",
              "<table border=\"1\" class=\"dataframe\">\n",
              "  <thead>\n",
              "    <tr style=\"text-align: right;\">\n",
              "      <th></th>\n",
              "      <th>party</th>\n",
              "      <th>handicapped-infants</th>\n",
              "      <th>water-project</th>\n",
              "      <th>budget</th>\n",
              "      <th>physician-fee-freeze</th>\n",
              "      <th>el-salvador-aid</th>\n",
              "      <th>religious-groups</th>\n",
              "      <th>anti-satellite-ban</th>\n",
              "      <th>aid-to-contras</th>\n",
              "      <th>mx-missile</th>\n",
              "      <th>immigration</th>\n",
              "      <th>synfuels</th>\n",
              "      <th>education</th>\n",
              "      <th>right-to-sue</th>\n",
              "      <th>crime</th>\n",
              "      <th>duty-free</th>\n",
              "      <th>south-africa</th>\n",
              "    </tr>\n",
              "  </thead>\n",
              "  <tbody>\n",
              "    <tr>\n",
              "      <th>0</th>\n",
              "      <td>republican</td>\n",
              "      <td>0.0</td>\n",
              "      <td>1.0</td>\n",
              "      <td>0.0</td>\n",
              "      <td>1.0</td>\n",
              "      <td>1.0</td>\n",
              "      <td>1.0</td>\n",
              "      <td>0.0</td>\n",
              "      <td>0.0</td>\n",
              "      <td>0.0</td>\n",
              "      <td>1.0</td>\n",
              "      <td>NaN</td>\n",
              "      <td>1.0</td>\n",
              "      <td>1.0</td>\n",
              "      <td>1.0</td>\n",
              "      <td>0.0</td>\n",
              "      <td>1.0</td>\n",
              "    </tr>\n",
              "    <tr>\n",
              "      <th>1</th>\n",
              "      <td>republican</td>\n",
              "      <td>0.0</td>\n",
              "      <td>1.0</td>\n",
              "      <td>0.0</td>\n",
              "      <td>1.0</td>\n",
              "      <td>1.0</td>\n",
              "      <td>1.0</td>\n",
              "      <td>0.0</td>\n",
              "      <td>0.0</td>\n",
              "      <td>0.0</td>\n",
              "      <td>0.0</td>\n",
              "      <td>0.0</td>\n",
              "      <td>1.0</td>\n",
              "      <td>1.0</td>\n",
              "      <td>1.0</td>\n",
              "      <td>0.0</td>\n",
              "      <td>NaN</td>\n",
              "    </tr>\n",
              "    <tr>\n",
              "      <th>2</th>\n",
              "      <td>democrat</td>\n",
              "      <td>NaN</td>\n",
              "      <td>1.0</td>\n",
              "      <td>1.0</td>\n",
              "      <td>NaN</td>\n",
              "      <td>1.0</td>\n",
              "      <td>1.0</td>\n",
              "      <td>0.0</td>\n",
              "      <td>0.0</td>\n",
              "      <td>0.0</td>\n",
              "      <td>0.0</td>\n",
              "      <td>1.0</td>\n",
              "      <td>0.0</td>\n",
              "      <td>1.0</td>\n",
              "      <td>1.0</td>\n",
              "      <td>0.0</td>\n",
              "      <td>0.0</td>\n",
              "    </tr>\n",
              "    <tr>\n",
              "      <th>3</th>\n",
              "      <td>democrat</td>\n",
              "      <td>0.0</td>\n",
              "      <td>1.0</td>\n",
              "      <td>1.0</td>\n",
              "      <td>0.0</td>\n",
              "      <td>NaN</td>\n",
              "      <td>1.0</td>\n",
              "      <td>0.0</td>\n",
              "      <td>0.0</td>\n",
              "      <td>0.0</td>\n",
              "      <td>0.0</td>\n",
              "      <td>1.0</td>\n",
              "      <td>0.0</td>\n",
              "      <td>1.0</td>\n",
              "      <td>0.0</td>\n",
              "      <td>0.0</td>\n",
              "      <td>1.0</td>\n",
              "    </tr>\n",
              "    <tr>\n",
              "      <th>4</th>\n",
              "      <td>democrat</td>\n",
              "      <td>1.0</td>\n",
              "      <td>1.0</td>\n",
              "      <td>1.0</td>\n",
              "      <td>0.0</td>\n",
              "      <td>1.0</td>\n",
              "      <td>1.0</td>\n",
              "      <td>0.0</td>\n",
              "      <td>0.0</td>\n",
              "      <td>0.0</td>\n",
              "      <td>0.0</td>\n",
              "      <td>1.0</td>\n",
              "      <td>NaN</td>\n",
              "      <td>1.0</td>\n",
              "      <td>1.0</td>\n",
              "      <td>1.0</td>\n",
              "      <td>1.0</td>\n",
              "    </tr>\n",
              "  </tbody>\n",
              "</table>\n",
              "</div>"
            ],
            "text/plain": [
              "        party  handicapped-infants  ...  duty-free  south-africa\n",
              "0  republican                  0.0  ...        0.0           1.0\n",
              "1  republican                  0.0  ...        0.0           NaN\n",
              "2    democrat                  NaN  ...        0.0           0.0\n",
              "3    democrat                  0.0  ...        0.0           1.0\n",
              "4    democrat                  1.0  ...        1.0           1.0\n",
              "\n",
              "[5 rows x 17 columns]"
            ]
          },
          "metadata": {
            "tags": []
          },
          "execution_count": 3
        }
      ]
    },
    {
      "cell_type": "markdown",
      "metadata": {
        "id": "uOMT3MGShlTr",
        "colab_type": "text"
      },
      "source": [
        "### Splitting Data"
      ]
    },
    {
      "cell_type": "code",
      "metadata": {
        "id": "q6YRTltc9Z4u",
        "colab_type": "code",
        "colab": {}
      },
      "source": [
        "rep = df[df['party']=='republican']\n",
        "dem = df[df['party']=='democrat']"
      ],
      "execution_count": 0,
      "outputs": []
    },
    {
      "cell_type": "markdown",
      "metadata": {
        "id": "JzKc_KJFb_sk",
        "colab_type": "text"
      },
      "source": [
        "## Stretch Goal 1: Refactored Functions"
      ]
    },
    {
      "cell_type": "code",
      "metadata": {
        "id": "BWJPctmhIOJt",
        "colab_type": "code",
        "colab": {}
      },
      "source": [
        "def custom_ttest(alpha, beta, col):\n",
        "    statistic, pvalue = ttest_ind(alpha[col], beta[col], nan_policy='omit')\n",
        "    return statistic, pvalue\n",
        "\n",
        "\n",
        "def quick_stats(alpha, beta, cols):\n",
        "    return '\\n'.join(\n",
        "        f\"{col}: {custom_ttest(alpha, beta, col)}\" for col in cols\n",
        "    )"
      ],
      "execution_count": 0,
      "outputs": []
    },
    {
      "cell_type": "code",
      "metadata": {
        "id": "-xxfMZZtYpiq",
        "colab_type": "code",
        "colab": {}
      },
      "source": [
        "def detailed_output(title, col_name):\n",
        "    print(f'{title} Ttest')\n",
        "    statistic, pvalue = custom_ttest(rep, dem, col_name)\n",
        "    print(f\"Stat: {statistic}, Pvalue: {pvalue}\")\n",
        "    print(f'Rep: {rep[col_name].mean()*100:.02f}%')\n",
        "    print(f'Dem: {dem[col_name].mean()*100:.02f}%')"
      ],
      "execution_count": 0,
      "outputs": []
    },
    {
      "cell_type": "code",
      "metadata": {
        "id": "nDiTCXXd9r1d",
        "colab_type": "code",
        "outputId": "886447e2-aaaa-45d0-b209-c2b8420a0edd",
        "colab": {
          "base_uri": "https://localhost:8080/",
          "height": 289
        }
      },
      "source": [
        "# Quickly looking at all the issues:\n",
        "print(quick_stats(rep, dem, column_headers[1:]))"
      ],
      "execution_count": 0,
      "outputs": [
        {
          "output_type": "stream",
          "text": [
            "handicapped-infants: (-9.205264294809222, 1.613440327937243e-18)\n",
            "water-project: (0.08896538137868286, 0.9291556823993485)\n",
            "budget: (-23.21277691701378, 2.0703402795404463e-77)\n",
            "physician-fee-freeze: (49.36708157301406, 1.994262314074344e-177)\n",
            "el-salvador-aid: (21.13669261173219, 5.600520111729011e-68)\n",
            "religious-groups: (9.737575825219457, 2.3936722520597287e-20)\n",
            "anti-satellite-ban: (-12.526187929077842, 8.521033017443867e-31)\n",
            "aid-to-contras: (-18.052093200819733, 2.82471841372357e-54)\n",
            "mx-missile: (-16.437503268542994, 5.03079265310811e-47)\n",
            "immigration: (1.7359117329695164, 0.08330248490425066)\n",
            "synfuels: (-8.293603989407588, 1.5759322301054064e-15)\n",
            "education: (20.500685724563073, 1.8834203990450192e-64)\n",
            "right-to-sue: (13.51064251060933, 1.2278581709672758e-34)\n",
            "crime: (16.342085656197696, 9.952342705606092e-47)\n",
            "duty-free: (-12.853146132542978, 5.997697174347365e-32)\n",
            "south-africa: (-6.849454815841208, 3.652674361672226e-11)\n"
          ],
          "name": "stdout"
        }
      ]
    },
    {
      "cell_type": "markdown",
      "metadata": {
        "id": "W67H8dmALlnj",
        "colab_type": "text"
      },
      "source": [
        "## The Null Hypothesis for each of the following: Rep and Dem vote the same."
      ]
    },
    {
      "cell_type": "markdown",
      "metadata": {
        "id": "XwWr84Y7MM8O",
        "colab_type": "text"
      },
      "source": [
        "### Budget\n",
        "Higher Dem support"
      ]
    },
    {
      "cell_type": "code",
      "metadata": {
        "id": "5OIX7ckKHFbq",
        "colab_type": "code",
        "outputId": "e08ee820-7abb-4723-ab98-9314fb9e3afe",
        "colab": {
          "base_uri": "https://localhost:8080/",
          "height": 85
        }
      },
      "source": [
        "detailed_output('Budget Support', 'budget')"
      ],
      "execution_count": 0,
      "outputs": [
        {
          "output_type": "stream",
          "text": [
            "Budget Support Ttest\n",
            "Stat: -23.21277691701378, Pvalue: 2.0703402795404463e-77\n",
            "Rep: 13.41%\n",
            "Dem: 88.85%\n"
          ],
          "name": "stdout"
        }
      ]
    },
    {
      "cell_type": "markdown",
      "metadata": {
        "id": "RIlGiWyLLkfU",
        "colab_type": "text"
      },
      "source": [
        "Rejecting the null hypothesis for Budget"
      ]
    },
    {
      "cell_type": "markdown",
      "metadata": {
        "id": "v1Ltv79lZQWF",
        "colab_type": "text"
      },
      "source": [
        "### Physician Fee Freeze\n",
        "Higher Rep support"
      ]
    },
    {
      "cell_type": "code",
      "metadata": {
        "id": "Wo9zXKbVFldl",
        "colab_type": "code",
        "outputId": "277d3d9a-ba8d-4275-d379-011d0f1a77c8",
        "colab": {
          "base_uri": "https://localhost:8080/",
          "height": 85
        }
      },
      "source": [
        "detailed_output('Physician Fee Freeze Support', 'physician-fee-freeze')"
      ],
      "execution_count": 0,
      "outputs": [
        {
          "output_type": "stream",
          "text": [
            "Physician Fee Freeze Support Ttest\n",
            "Stat: 49.36708157301406, Pvalue: 1.994262314074344e-177\n",
            "Rep: 98.79%\n",
            "Dem: 5.41%\n"
          ],
          "name": "stdout"
        }
      ]
    },
    {
      "cell_type": "markdown",
      "metadata": {
        "id": "eSBbCMkELg8t",
        "colab_type": "text"
      },
      "source": [
        "Rejecting the null hypothesis for Physician Fee Freeze"
      ]
    },
    {
      "cell_type": "markdown",
      "metadata": {
        "id": "nnfnQ97sZVNT",
        "colab_type": "text"
      },
      "source": [
        "### Water Project\n",
        "Nearly equal support"
      ]
    },
    {
      "cell_type": "code",
      "metadata": {
        "id": "gfzxaQbZHYNp",
        "colab_type": "code",
        "outputId": "16c7e5f2-c23c-4a37-8a2b-3b56a19e5d53",
        "colab": {
          "base_uri": "https://localhost:8080/",
          "height": 85
        }
      },
      "source": [
        "detailed_output('Water Project Support', 'water-project')"
      ],
      "execution_count": 0,
      "outputs": [
        {
          "output_type": "stream",
          "text": [
            "Water Project Support Ttest\n",
            "Stat: 0.08896538137868286, Pvalue: 0.9291556823993485\n",
            "Rep: 50.68%\n",
            "Dem: 50.21%\n"
          ],
          "name": "stdout"
        }
      ]
    },
    {
      "cell_type": "markdown",
      "metadata": {
        "id": "CC5BpplVLayU",
        "colab_type": "text"
      },
      "source": [
        "Failing to reject the null hypothesis for the Water Project"
      ]
    },
    {
      "cell_type": "markdown",
      "metadata": {
        "id": "p2s2j7YHTKmn",
        "colab_type": "text"
      },
      "source": [
        "## Stretch Goal 2: Personal Project"
      ]
    },
    {
      "cell_type": "markdown",
      "metadata": {
        "id": "gYwV_iDyTczj",
        "colab_type": "text"
      },
      "source": [
        "# Monster Data\n",
        "### CR vs. Other Stats\n",
        "Null Hypothesis: Stats are random and not correlated to the CR."
      ]
    },
    {
      "cell_type": "code",
      "metadata": {
        "id": "UNh57eIRTNLF",
        "colab_type": "code",
        "colab": {}
      },
      "source": [
        "monsters = pd.read_csv('https://sharpdesigndigital.com/monsters.csv')"
      ],
      "execution_count": 0,
      "outputs": []
    },
    {
      "cell_type": "code",
      "metadata": {
        "id": "5yvjRnnBTN0a",
        "colab_type": "code",
        "colab": {}
      },
      "source": [
        "high_level = monsters[monsters['CR'] > 15]\n",
        "low_level = monsters[monsters['CR'] < 16]"
      ],
      "execution_count": 0,
      "outputs": []
    },
    {
      "cell_type": "code",
      "metadata": {
        "id": "wThUrx_JUX5H",
        "colab_type": "code",
        "outputId": "a064c669-9933-442d-f014-46f1b13b507e",
        "colab": {
          "base_uri": "https://localhost:8080/",
          "height": 119
        }
      },
      "source": [
        "print(quick_stats(low_level, high_level, list(monsters.columns[1:])))"
      ],
      "execution_count": 0,
      "outputs": [
        {
          "output_type": "stream",
          "text": [
            "CR: (-87.12297993966718, 0.0)\n",
            "AC: (-54.95820265444433, 0.0)\n",
            "HP: (-88.06273482232656, 0.0)\n",
            "ATT: (-62.31378999391324, 0.0)\n",
            "DAM: (-91.52281727474525, 0.0)\n",
            "Tier: (-88.35142405083205, 0.0)\n"
          ],
          "name": "stdout"
        }
      ]
    },
    {
      "cell_type": "markdown",
      "metadata": {
        "id": "sazR9EMvU7wI",
        "colab_type": "text"
      },
      "source": [
        "Rejecting the Null hypothesis across the board."
      ]
    },
    {
      "cell_type": "markdown",
      "metadata": {
        "id": "EZdYGbQp1w8m",
        "colab_type": "text"
      },
      "source": [
        "# Challenges"
      ]
    },
    {
      "cell_type": "markdown",
      "metadata": {
        "id": "0h1BXEtlM9xl",
        "colab_type": "text"
      },
      "source": [
        "# Objective Challenge 1\n",
        "\n",
        "Write Python functions to calculate both the number of combinations and the number of permutations for given n and k (yes, these functions definitely exist out there - code your own, and compare!).\n",
        "\n",
        "Reference: [MathPlanet](https://www.mathplanet.com/education/algebra-2/discrete-mathematics-and-probability/permutations-and-combinations)"
      ]
    },
    {
      "cell_type": "code",
      "metadata": {
        "id": "J03F41AbNT6a",
        "colab_type": "code",
        "colab": {}
      },
      "source": [
        "from math import factorial"
      ],
      "execution_count": 0,
      "outputs": []
    },
    {
      "cell_type": "markdown",
      "metadata": {
        "id": "ABUlreFoRgnd",
        "colab_type": "text"
      },
      "source": [
        "### Number of Combinations\n",
        "\\begin{equation*}\n",
        "C(n,k)=\\frac{n!}{k!(n-k)!}\n",
        "\\end{equation*}"
      ]
    },
    {
      "cell_type": "code",
      "metadata": {
        "id": "d0yILzvmNYWo",
        "colab_type": "code",
        "colab": {}
      },
      "source": [
        "def num_combinations(n: int, k: int) -> int:\n",
        "    \"\"\"\n",
        "    Calculates the number of combinations given n and k\n",
        "    @param n: population size\n",
        "    @param k: selection size\n",
        "    @return : number of combinations\n",
        "    \"\"\"\n",
        "    return factorial(n) / factorial(k) * factorial(n - k)"
      ],
      "execution_count": 0,
      "outputs": []
    },
    {
      "cell_type": "markdown",
      "metadata": {
        "id": "2jcuCACeRFxV",
        "colab_type": "text"
      },
      "source": [
        "### Number of Permutations\n",
        "\\begin{equation*}\n",
        "P(n,k)=\\frac {n!}{(n-k)!}\n",
        "\\end{equation*}"
      ]
    },
    {
      "cell_type": "code",
      "metadata": {
        "id": "2iwkhBWvN32j",
        "colab_type": "code",
        "colab": {}
      },
      "source": [
        "def num_permutations(n: int, k: int) -> int:\n",
        "    \"\"\"\n",
        "    Calculates the number of permutations given n and k\n",
        "    @param n: population size\n",
        "    @param k: selection size\n",
        "    @return : number of permutations\n",
        "    \"\"\"\n",
        "    return factorial(n) / factorial(n - k)"
      ],
      "execution_count": 0,
      "outputs": []
    },
    {
      "cell_type": "markdown",
      "metadata": {
        "id": "7H0luBqdLqSj",
        "colab_type": "text"
      },
      "source": [
        "# Objective Challenge 2\n",
        "\n",
        "Using scipy.stats.ttest_1samp, perform a t-test on the above scenario, with the following data as input:\n"
      ]
    },
    {
      "cell_type": "code",
      "metadata": {
        "id": "mUVwgcH1Lsbl",
        "colab_type": "code",
        "colab": {}
      },
      "source": [
        "from scipy import stats\n",
        "from statistics import mean"
      ],
      "execution_count": 0,
      "outputs": []
    },
    {
      "cell_type": "code",
      "metadata": {
        "id": "FgEyaWK7XmDT",
        "colab_type": "code",
        "colab": {}
      },
      "source": [
        "arr = [\n",
        "    0, 1, 0, 1, 0, 0, 0, 1, 1, 0, 0, 1, 1, 1, 1, 1, 1, 1, 0, 0,\n",
        "    1, 1, 1, 1, 1, 1, 1, 1, 1, 0, 1, 1, 1, 1, 1, 1, 1, 0, 1, 0, 1,\n",
        "    1, 0, 1, 0, 1, 1, 0, 0, 0,\n",
        "]"
      ],
      "execution_count": 0,
      "outputs": []
    },
    {
      "cell_type": "markdown",
      "metadata": {
        "id": "52WjPIN3TeA3",
        "colab_type": "text"
      },
      "source": [
        "### Null Hypothesis\n",
        "There is little or no difference between the number of ones and the number of zeros in the list."
      ]
    },
    {
      "cell_type": "code",
      "metadata": {
        "id": "gJ-Y344sMOqC",
        "colab_type": "code",
        "outputId": "601a943b-bfb1-4630-acc9-e9d9a849cca7",
        "colab": {
          "base_uri": "https://localhost:8080/",
          "height": 51
        }
      },
      "source": [
        "stat, pval = stats.ttest_1samp(arr, popmean=0.5)\n",
        "print(f\"statistic: {stat}\")\n",
        "print(f\"pvalue: {pval}\")"
      ],
      "execution_count": 0,
      "outputs": [
        {
          "output_type": "stream",
          "text": [
            "statistic: 2.364321853156195\n",
            "pvalue: 0.02207003200903075\n"
          ],
          "name": "stdout"
        }
      ]
    },
    {
      "cell_type": "markdown",
      "metadata": {
        "id": "RNgeqJjJNOjl",
        "colab_type": "text"
      },
      "source": [
        "### Conclusion\n",
        "- A positive statistic suggests that there are more ones and fewer zeros. \n",
        "- A low pvalue suggests we should reject the Null Hypothesis."
      ]
    },
    {
      "cell_type": "code",
      "metadata": {
        "id": "MlujX9XLVdw9",
        "colab_type": "code",
        "outputId": "fd1a22d9-59eb-4a6f-accd-38d4b6887dc7",
        "colab": {
          "base_uri": "https://localhost:8080/",
          "height": 68
        }
      },
      "source": [
        "print(f\"Average: {mean(arr)}\")\n",
        "print(f\"Number of zeros: {arr.count(0)}\")\n",
        "print(f\"Number of ones: {arr.count(1)}\")"
      ],
      "execution_count": 0,
      "outputs": [
        {
          "output_type": "stream",
          "text": [
            "Average: 0.66\n",
            "Number of zeros: 17\n",
            "Number of ones: 33\n"
          ],
          "name": "stdout"
        }
      ]
    }
  ]
}