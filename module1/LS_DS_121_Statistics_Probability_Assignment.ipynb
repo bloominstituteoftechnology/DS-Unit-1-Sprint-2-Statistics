{
  "nbformat": 4,
  "nbformat_minor": 0,
  "metadata": {
    "kernelspec": {
      "display_name": "Python 3",
      "language": "python",
      "name": "python3"
    },
    "language_info": {
      "codemirror_mode": {
        "name": "ipython",
        "version": 3
      },
      "file_extension": ".py",
      "mimetype": "text/x-python",
      "name": "python",
      "nbconvert_exporter": "python",
      "pygments_lexer": "ipython3",
      "version": "3.7.3"
    },
    "colab": {
      "name": "LS_DS_121_Statistics_Probability_Assignment.ipynb",
      "provenance": []
    }
  },
  "cells": [
    {
      "cell_type": "markdown",
      "metadata": {
        "id": "Sa5KWMO1ngPN",
        "colab_type": "text"
      },
      "source": [
        "<img align=\"left\" src=\"https://lever-client-logos.s3.amazonaws.com/864372b1-534c-480e-acd5-9711f850815c-1524247202159.png\" width=200>\n",
        "<br></br>\n",
        "<br></br>\n",
        "\n",
        "## *Data Science Unit 1 Sprint 2 Assignment 1*\n",
        "\n",
        "# Apply the t-test to real data\n",
        "\n",
        "Your assignment is to determine which issues have \"statistically significant\" differences between political parties in this [1980s congressional voting data](https://archive.ics.uci.edu/ml/datasets/Congressional+Voting+Records). The data consists of 435 instances (one for each congressperson), a class (democrat or republican), and 16 binary attributes (yes or no for voting for or against certain issues). Be aware - there are missing values!\n",
        "\n",
        "Your goals:\n",
        "\n",
        "1. Load and clean the data (or determine the best method to drop observations when running tests)\n",
        "2. Using hypothesis testing, find an issue that democrats support more than republicans with p < 0.01\n",
        "3. Using hypothesis testing, find an issue that republicans support more than democrats with p < 0.01\n",
        "4. Using hypothesis testing, find an issue where the difference between republicans and democrats has p > 0.1 (i.e. there may not be much of a difference)\n",
        "\n",
        "Note that this data will involve *2 sample* t-tests, because you're comparing averages across two groups (republicans and democrats) rather than a single group against a null hypothesis.\n",
        "\n",
        "Stretch goals:\n",
        "\n",
        "1. Refactor your code into functions so it's easy to rerun with arbitrary variables\n",
        "2. Apply hypothesis testing to your personal project data (for the purposes of this notebook you can type a summary of the hypothesis you formed and tested)"
      ]
    },
    {
      "cell_type": "code",
      "metadata": {
        "id": "ZKwspo2CngPP",
        "colab_type": "code",
        "colab": {}
      },
      "source": [
        "### YOUR CODE STARTS HERE\n",
        "from scipy.stats import ttest_ind\n",
        "import pandas as pd"
      ],
      "execution_count": 0,
      "outputs": []
    },
    {
      "cell_type": "code",
      "metadata": {
        "id": "arl9oHua66nq",
        "colab_type": "code",
        "colab": {
          "base_uri": "https://localhost:8080/",
          "height": 204
        },
        "outputId": "2132f698-dbfc-4852-e8ba-c0888e633209"
      },
      "source": [
        "# Load data\n",
        "!wget https://archive.ics.uci.edu/ml/machine-learning-databases/voting-records/house-votes-84.data"
      ],
      "execution_count": 2,
      "outputs": [
        {
          "output_type": "stream",
          "text": [
            "--2020-01-21 02:26:12--  https://archive.ics.uci.edu/ml/machine-learning-databases/voting-records/house-votes-84.data\n",
            "Resolving archive.ics.uci.edu (archive.ics.uci.edu)... 128.195.10.252\n",
            "Connecting to archive.ics.uci.edu (archive.ics.uci.edu)|128.195.10.252|:443... connected.\n",
            "HTTP request sent, awaiting response... 200 OK\n",
            "Length: 18171 (18K) [application/x-httpd-php]\n",
            "Saving to: ‘house-votes-84.data’\n",
            "\n",
            "house-votes-84.data 100%[===================>]  17.75K  --.-KB/s    in 0.03s   \n",
            "\n",
            "2020-01-21 02:26:17 (639 KB/s) - ‘house-votes-84.data’ saved [18171/18171]\n",
            "\n"
          ],
          "name": "stdout"
        }
      ]
    },
    {
      "cell_type": "code",
      "metadata": {
        "id": "33h3aAYa6_VZ",
        "colab_type": "code",
        "colab": {
          "base_uri": "https://localhost:8080/",
          "height": 238
        },
        "outputId": "6ff0af5f-0267-4faf-f936-ae1e6b195926"
      },
      "source": [
        "# Create the dataframe\n",
        "col_headers = ['party', 'handicapped-infants', 'water-project', 'budget', \n",
        "               'physician-fee-freeze', 'el-salvador-aid', 'religious-groups', \n",
        "               'anti-satellite-ban', 'aid-to-contras', 'mx-missile', \n",
        "               'immigration', 'synfuels', 'education', 'right-to-sue', 'crime', \n",
        "               'duty-free', 'south-africa']\n",
        "df = pd.read_csv('house-votes-84.data', header=None, \n",
        "                 names=col_headers, na_values='?')\n",
        "df.head()"
      ],
      "execution_count": 5,
      "outputs": [
        {
          "output_type": "execute_result",
          "data": {
            "text/html": [
              "<div>\n",
              "<style scoped>\n",
              "    .dataframe tbody tr th:only-of-type {\n",
              "        vertical-align: middle;\n",
              "    }\n",
              "\n",
              "    .dataframe tbody tr th {\n",
              "        vertical-align: top;\n",
              "    }\n",
              "\n",
              "    .dataframe thead th {\n",
              "        text-align: right;\n",
              "    }\n",
              "</style>\n",
              "<table border=\"1\" class=\"dataframe\">\n",
              "  <thead>\n",
              "    <tr style=\"text-align: right;\">\n",
              "      <th></th>\n",
              "      <th>party</th>\n",
              "      <th>handicapped-infants</th>\n",
              "      <th>water-project</th>\n",
              "      <th>budget</th>\n",
              "      <th>physician-fee-freeze</th>\n",
              "      <th>el-salvador-aid</th>\n",
              "      <th>religious-groups</th>\n",
              "      <th>anti-satellite-ban</th>\n",
              "      <th>aid-to-contras</th>\n",
              "      <th>mx-missile</th>\n",
              "      <th>immigration</th>\n",
              "      <th>synfuels</th>\n",
              "      <th>education</th>\n",
              "      <th>right-to-sue</th>\n",
              "      <th>crime</th>\n",
              "      <th>duty-free</th>\n",
              "      <th>south-africa</th>\n",
              "    </tr>\n",
              "  </thead>\n",
              "  <tbody>\n",
              "    <tr>\n",
              "      <th>0</th>\n",
              "      <td>republican</td>\n",
              "      <td>n</td>\n",
              "      <td>y</td>\n",
              "      <td>n</td>\n",
              "      <td>y</td>\n",
              "      <td>y</td>\n",
              "      <td>y</td>\n",
              "      <td>n</td>\n",
              "      <td>n</td>\n",
              "      <td>n</td>\n",
              "      <td>y</td>\n",
              "      <td>NaN</td>\n",
              "      <td>y</td>\n",
              "      <td>y</td>\n",
              "      <td>y</td>\n",
              "      <td>n</td>\n",
              "      <td>y</td>\n",
              "    </tr>\n",
              "    <tr>\n",
              "      <th>1</th>\n",
              "      <td>republican</td>\n",
              "      <td>n</td>\n",
              "      <td>y</td>\n",
              "      <td>n</td>\n",
              "      <td>y</td>\n",
              "      <td>y</td>\n",
              "      <td>y</td>\n",
              "      <td>n</td>\n",
              "      <td>n</td>\n",
              "      <td>n</td>\n",
              "      <td>n</td>\n",
              "      <td>n</td>\n",
              "      <td>y</td>\n",
              "      <td>y</td>\n",
              "      <td>y</td>\n",
              "      <td>n</td>\n",
              "      <td>NaN</td>\n",
              "    </tr>\n",
              "    <tr>\n",
              "      <th>2</th>\n",
              "      <td>democrat</td>\n",
              "      <td>NaN</td>\n",
              "      <td>y</td>\n",
              "      <td>y</td>\n",
              "      <td>NaN</td>\n",
              "      <td>y</td>\n",
              "      <td>y</td>\n",
              "      <td>n</td>\n",
              "      <td>n</td>\n",
              "      <td>n</td>\n",
              "      <td>n</td>\n",
              "      <td>y</td>\n",
              "      <td>n</td>\n",
              "      <td>y</td>\n",
              "      <td>y</td>\n",
              "      <td>n</td>\n",
              "      <td>n</td>\n",
              "    </tr>\n",
              "    <tr>\n",
              "      <th>3</th>\n",
              "      <td>democrat</td>\n",
              "      <td>n</td>\n",
              "      <td>y</td>\n",
              "      <td>y</td>\n",
              "      <td>n</td>\n",
              "      <td>NaN</td>\n",
              "      <td>y</td>\n",
              "      <td>n</td>\n",
              "      <td>n</td>\n",
              "      <td>n</td>\n",
              "      <td>n</td>\n",
              "      <td>y</td>\n",
              "      <td>n</td>\n",
              "      <td>y</td>\n",
              "      <td>n</td>\n",
              "      <td>n</td>\n",
              "      <td>y</td>\n",
              "    </tr>\n",
              "    <tr>\n",
              "      <th>4</th>\n",
              "      <td>democrat</td>\n",
              "      <td>y</td>\n",
              "      <td>y</td>\n",
              "      <td>y</td>\n",
              "      <td>n</td>\n",
              "      <td>y</td>\n",
              "      <td>y</td>\n",
              "      <td>n</td>\n",
              "      <td>n</td>\n",
              "      <td>n</td>\n",
              "      <td>n</td>\n",
              "      <td>y</td>\n",
              "      <td>NaN</td>\n",
              "      <td>y</td>\n",
              "      <td>y</td>\n",
              "      <td>y</td>\n",
              "      <td>y</td>\n",
              "    </tr>\n",
              "  </tbody>\n",
              "</table>\n",
              "</div>"
            ],
            "text/plain": [
              "        party handicapped-infants water-project  ... crime duty-free south-africa\n",
              "0  republican                   n             y  ...     y         n            y\n",
              "1  republican                   n             y  ...     y         n          NaN\n",
              "2    democrat                 NaN             y  ...     y         n            n\n",
              "3    democrat                   n             y  ...     n         n            y\n",
              "4    democrat                   y             y  ...     y         y            y\n",
              "\n",
              "[5 rows x 17 columns]"
            ]
          },
          "metadata": {
            "tags": []
          },
          "execution_count": 5
        }
      ]
    },
    {
      "cell_type": "code",
      "metadata": {
        "id": "DkuH9bDm7H24",
        "colab_type": "code",
        "colab": {}
      },
      "source": [
        "# replace y and n with 1 and 0\n",
        "df = df.replace({'y': 1, 'n': 0})"
      ],
      "execution_count": 0,
      "outputs": []
    },
    {
      "cell_type": "code",
      "metadata": {
        "id": "pUy-99YG7NU-",
        "colab_type": "code",
        "colab": {}
      },
      "source": [
        "# split dem and rep votes\n",
        "rep = df[df['party'] == 'republican']\n",
        "dem = df[df['party'] == 'democrat']"
      ],
      "execution_count": 0,
      "outputs": []
    },
    {
      "cell_type": "code",
      "metadata": {
        "id": "fuWcnTTE7dh2",
        "colab_type": "code",
        "colab": {}
      },
      "source": [
        "# function to easily t-test with\n",
        "def run_t_test(vote_name):\n",
        "  print(\"Dem votes for: \" + str(dem[vote_name].sum()))\n",
        "  print(\"Rep votes for: \" + str(rep[vote_name].sum()))\n",
        "  print(ttest_ind(dem[vote_name], rep[vote_name], nan_policy='omit'))\n"
      ],
      "execution_count": 0,
      "outputs": []
    },
    {
      "cell_type": "code",
      "metadata": {
        "id": "eVCYFKPQ7pnH",
        "colab_type": "code",
        "colab": {
          "base_uri": "https://localhost:8080/",
          "height": 68
        },
        "outputId": "999abe1e-b61e-495a-a130-0b06120751f0"
      },
      "source": [
        "run_t_test('budget')"
      ],
      "execution_count": 27,
      "outputs": [
        {
          "output_type": "stream",
          "text": [
            "Dem votes for: 231.0\n",
            "Rep votes for: 22.0\n",
            "Ttest_indResult(statistic=23.21277691701378, pvalue=2.0703402795404463e-77)\n"
          ],
          "name": "stdout"
        }
      ]
    },
    {
      "cell_type": "markdown",
      "metadata": {
        "id": "xXSZqjWC9nCk",
        "colab_type": "text"
      },
      "source": [
        "## Support for the budget bill\n",
        "\n",
        "Due to a p-value of 2.07e-77, we can conclude with over 99% certainty that the two parties had different levels of support for the budget bill."
      ]
    },
    {
      "cell_type": "code",
      "metadata": {
        "id": "Dq0iAHFF8Evg",
        "colab_type": "code",
        "colab": {
          "base_uri": "https://localhost:8080/",
          "height": 68
        },
        "outputId": "150b5f70-7952-45f2-c0a0-cc362351da59"
      },
      "source": [
        "run_t_test('religious-groups')"
      ],
      "execution_count": 28,
      "outputs": [
        {
          "output_type": "stream",
          "text": [
            "Dem votes for: 123.0\n",
            "Rep votes for: 149.0\n",
            "Ttest_indResult(statistic=-9.737575825219457, pvalue=2.3936722520597287e-20)\n"
          ],
          "name": "stdout"
        }
      ]
    },
    {
      "cell_type": "markdown",
      "metadata": {
        "id": "Fzebazis-RgB",
        "colab_type": "text"
      },
      "source": [
        "## Support for the religous groups bill\n",
        "\n",
        "Due to a p-value of 2.39e-20, we can conclude with over 99% certainty that the two parties had different levels of support for the religous groups bill."
      ]
    },
    {
      "cell_type": "code",
      "metadata": {
        "id": "9buTc5Ay-OWt",
        "colab_type": "code",
        "colab": {
          "base_uri": "https://localhost:8080/",
          "height": 68
        },
        "outputId": "da367faf-94f3-409f-bbf6-328103539c40"
      },
      "source": [
        "run_t_test('water-project')"
      ],
      "execution_count": 43,
      "outputs": [
        {
          "output_type": "stream",
          "text": [
            "Dem votes for: 120.0\n",
            "Rep votes for: 75.0\n",
            "Ttest_indResult(statistic=-0.08896538137868286, pvalue=0.9291556823993485)\n"
          ],
          "name": "stdout"
        }
      ]
    },
    {
      "cell_type": "markdown",
      "metadata": {
        "id": "C0hIStAU_wqr",
        "colab_type": "text"
      },
      "source": [
        "## Support for the water project bill\n",
        "\n",
        "Due to a p-value of .929, we cannot conclude that the two parties had differing levels of support for the water project bill."
      ]
    },
    {
      "cell_type": "code",
      "metadata": {
        "id": "-gFKwQtw-iWp",
        "colab_type": "code",
        "colab": {
          "base_uri": "https://localhost:8080/",
          "height": 1000
        },
        "outputId": "bda3f9e0-65f1-4634-c59c-d4739cb8b0b4"
      },
      "source": [
        "# Because I wanted to see them all\n",
        "for col in rep.columns:\n",
        "  if(col != 'party'):\n",
        "    print(col)\n",
        "    run_t_test(col)"
      ],
      "execution_count": 42,
      "outputs": [
        {
          "output_type": "stream",
          "text": [
            "handicapped-infants\n",
            "Dem votes for: 156.0\n",
            "Rep votes for: 31.0\n",
            "Ttest_indResult(statistic=9.205264294809222, pvalue=1.613440327937243e-18)\n",
            "water-project\n",
            "Dem votes for: 120.0\n",
            "Rep votes for: 75.0\n",
            "Ttest_indResult(statistic=-0.08896538137868286, pvalue=0.9291556823993485)\n",
            "budget\n",
            "Dem votes for: 231.0\n",
            "Rep votes for: 22.0\n",
            "Ttest_indResult(statistic=23.21277691701378, pvalue=2.0703402795404463e-77)\n",
            "physician-fee-freeze\n",
            "Dem votes for: 14.0\n",
            "Rep votes for: 163.0\n",
            "Ttest_indResult(statistic=-49.36708157301406, pvalue=1.994262314074344e-177)\n",
            "el-salvador-aid\n",
            "Dem votes for: 55.0\n",
            "Rep votes for: 157.0\n",
            "Ttest_indResult(statistic=-21.13669261173219, pvalue=5.600520111729011e-68)\n",
            "religious-groups\n",
            "Dem votes for: 123.0\n",
            "Rep votes for: 149.0\n",
            "Ttest_indResult(statistic=-9.737575825219457, pvalue=2.3936722520597287e-20)\n",
            "anti-satellite-ban\n",
            "Dem votes for: 200.0\n",
            "Rep votes for: 39.0\n",
            "Ttest_indResult(statistic=12.526187929077842, pvalue=8.521033017443867e-31)\n",
            "aid-to-contras\n",
            "Dem votes for: 218.0\n",
            "Rep votes for: 24.0\n",
            "Ttest_indResult(statistic=18.052093200819733, pvalue=2.82471841372357e-54)\n",
            "mx-missile\n",
            "Dem votes for: 188.0\n",
            "Rep votes for: 19.0\n",
            "Ttest_indResult(statistic=16.437503268542994, pvalue=5.03079265310811e-47)\n",
            "immigration\n",
            "Dem votes for: 124.0\n",
            "Rep votes for: 92.0\n",
            "Ttest_indResult(statistic=-1.7359117329695164, pvalue=0.08330248490425066)\n",
            "synfuels\n",
            "Dem votes for: 129.0\n",
            "Rep votes for: 21.0\n",
            "Ttest_indResult(statistic=8.293603989407588, pvalue=1.5759322301054064e-15)\n",
            "education\n",
            "Dem votes for: 36.0\n",
            "Rep votes for: 135.0\n",
            "Ttest_indResult(statistic=-20.500685724563073, pvalue=1.8834203990450192e-64)\n",
            "right-to-sue\n",
            "Dem votes for: 73.0\n",
            "Rep votes for: 136.0\n",
            "Ttest_indResult(statistic=-13.51064251060933, pvalue=1.2278581709672758e-34)\n",
            "crime\n",
            "Dem votes for: 90.0\n",
            "Rep votes for: 158.0\n",
            "Ttest_indResult(statistic=-16.342085656197696, pvalue=9.952342705606092e-47)\n",
            "duty-free\n",
            "Dem votes for: 160.0\n",
            "Rep votes for: 14.0\n",
            "Ttest_indResult(statistic=12.853146132542978, pvalue=5.997697174347365e-32)\n",
            "south-africa\n",
            "Dem votes for: 173.0\n",
            "Rep votes for: 96.0\n",
            "Ttest_indResult(statistic=6.849454815841208, pvalue=3.652674361672226e-11)\n"
          ],
          "name": "stdout"
        }
      ]
    },
    {
      "cell_type": "code",
      "metadata": {
        "id": "tWd9giE0--qe",
        "colab_type": "code",
        "colab": {}
      },
      "source": [
        ""
      ],
      "execution_count": 0,
      "outputs": []
    }
  ]
}