{
 "cells": [
  {
   "cell_type": "markdown",
   "metadata": {
    "colab_type": "text",
    "id": "view-in-github"
   },
   "source": [
    "<a href=\"https://colab.research.google.com/github/ryanleeallred/DS-Unit-1-Sprint-2-Statistics/blob/master/module1/LS_DS_121_Statistics_Probability_Assignment.ipynb\" target=\"_parent\"><img src=\"https://colab.research.google.com/assets/colab-badge.svg\" alt=\"Open In Colab\"/></a>"
   ]
  },
  {
   "cell_type": "markdown",
   "metadata": {
    "colab_type": "text",
    "id": "Sa5KWMO1ngPN"
   },
   "source": [
    "<img align=\"left\" src=\"https://lever-client-logos.s3.amazonaws.com/864372b1-534c-480e-acd5-9711f850815c-1524247202159.png\" width=200>\n",
    "<br></br>\n",
    "<br></br>\n",
    "\n",
    "## *Data Science Unit 1 Sprint 2 Assignment 1*\n",
    "\n",
    "# Apply the t-test to real data\n",
    "\n",
    "Your assignment is to determine which issues have \"statistically significant\" differences between political parties in this [1980s congressional voting data](https://archive.ics.uci.edu/ml/datasets/Congressional+Voting+Records). The data consists of 435 instances (one for each congressperson), a class (democrat or republican), and 16 binary attributes (yes or no for voting for or against certain issues). Be aware - there are missing values!\n",
    "\n",
    "Your goals:\n",
    "\n",
    "1. Load and clean the data (or determine the best method to drop observations when running tests)\n",
    "2. Using hypothesis testing, find an issue that democrats support more than republicans with p < 0.01\n",
    "3. Using hypothesis testing, find an issue that republicans support more than democrats with p < 0.01\n",
    "4. Using hypothesis testing, find an issue where the difference between republicans and democrats has p > 0.1 (i.e. there may not be much of a difference)\n",
    "\n",
    "Note that this data will involve *2 sample* t-tests, because you're comparing averages across two groups (republicans and democrats) rather than a single group against a null hypothesis."
   ]
  },
  {
   "cell_type": "code",
   "execution_count": 80,
   "metadata": {},
   "outputs": [
    {
     "name": "stdout",
     "output_type": "stream",
     "text": [
      "house-votes-84.data\n",
      "house-votes-84.names\n",
      "LS_DS_121_Statistics_Probability_and_Inference.ipynb\n",
      "LS_DS_121_Statistics_Probability_Assignment.ipynb\n",
      "notes.txt\n",
      "1. Title: 1984 United States Congressional Voting Records Database\n",
      "\n",
      "2. Source Information:\n",
      "    (a) Source:  Congressional Quarterly Almanac, 98th Congress, \n",
      "                 2nd session 1984, Volume XL: Congressional Quarterly Inc. \n",
      "                 Washington, D.C., 1985.\n",
      "    (b) Donor: Jeff Schlimmer (Jeffrey.Schlimmer@a.gp.cs.cmu.edu)\n",
      "    (c) Date: 27 April 1987 \n",
      "\n",
      "3. Past Usage\n",
      "   - Publications\n",
      "     1. Schlimmer, J. C. (1987).  Concept acquisition through \n",
      "        representational adjustment.  Doctoral dissertation, Department of \n",
      "        Information and Computer Science, University of California, Irvine, CA.\n",
      "        -- Results: about 90%-95% accuracy appears to be STAGGER's asymptote\n",
      "     - Predicted attribute: party affiliation (2 classes)\n",
      "\n",
      "4. Relevant Information:\n",
      "      This data set includes votes for each of the U.S. House of\n",
      "      Representatives Congressmen on the 16 key votes identified by the\n",
      "      CQA.  The CQA lists nine different types of votes: voted for, paired\n",
      "      for, and announced for (these three simplified to yea), voted\n",
      "      against, paired against, and announced against (these three\n",
      "      simplified to nay), voted present, voted present to avoid conflict\n",
      "      of interest, and did not vote or otherwise make a position known\n",
      "      (these three simplified to an unknown disposition).\n",
      "\n",
      "5. Number of Instances: 435 (267 democrats, 168 republicans)\n",
      "\n",
      "6. Number of Attributes: 16 + class name = 17 (all Boolean valued)\n",
      "\n",
      "7. Attribute Information:\n",
      "   1. Class Name: 2 (democrat, republican)\n",
      "   2. handicapped-infants: 2 (y,n)\n",
      "   3. water-project-cost-sharing: 2 (y,n)\n",
      "   4. adoption-of-the-budget-resolution: 2 (y,n)\n",
      "   5. physician-fee-freeze: 2 (y,n)\n",
      "   6. el-salvador-aid: 2 (y,n)\n",
      "   7. religious-groups-in-schools: 2 (y,n)\n",
      "   8. anti-satellite-test-ban: 2 (y,n)\n",
      "   9. aid-to-nicaraguan-contras: 2 (y,n)\n",
      "  10. mx-missile: 2 (y,n)\n",
      "  11. immigration: 2 (y,n)\n",
      "  12. synfuels-corporation-cutback: 2 (y,n)\n",
      "  13. education-spending: 2 (y,n)\n",
      "  14. superfund-right-to-sue: 2 (y,n)\n",
      "  15. crime: 2 (y,n)\n",
      "  16. duty-free-exports: 2 (y,n)\n",
      "  17. export-administration-act-south-africa: 2 (y,n)\n",
      "\n",
      "8. Missing Attribute Values: Denoted by \"?\"\n",
      "\n",
      "   NOTE: It is important to recognize that \"?\" in this database does \n",
      "         not mean that the value of the attribute is unknown.  It \n",
      "         means simply, that the value is not \"yea\" or \"nay\" (see \n",
      "         \"Relevant Information\" section above).\n",
      "\n",
      "   Attribute:  #Missing Values:\n",
      "           1:  0\n",
      "           2:  0\n",
      "           3:  12\n",
      "           4:  48\n",
      "           5:  11\n",
      "           6:  11\n",
      "           7:  15\n",
      "           8:  11\n",
      "           9:  14\n",
      "          10:  15\n",
      "          11:  22\n",
      "          12:  7\n",
      "          13:  21\n",
      "          14:  31\n",
      "          15:  25\n",
      "          16:  17\n",
      "          17:  28\n",
      "\n",
      "9. Class Distribution: (2 classes)\n",
      "   1. 45.2 percent are democrat\n",
      "   2. 54.8 percent are republican\n",
      "\n",
      "Class predictiveness and predictability: Pr(C|A=V) and Pr(A=V|C)\n",
      " Attribute 1: (A = handicapped-infants)\n",
      "  0.91;  1.21  (C=democrat; V=y)\n",
      "  0.09;  0.10  (C=republican; V=y)\n",
      "  0.43;  0.38  (C=democrat; V=n)\n",
      "  0.57;  0.41  (C=republican; V=n)\n",
      "  0.75;  0.03  (C=democrat; V=?)\n",
      "  0.25;  0.01  (C=republican; V=?)\n",
      " Attribute 2: (A = water-project-cost-sharing)\n",
      "  0.62;  0.45  (C=democrat; V=y)\n",
      "  0.38;  0.23  (C=republican; V=y)\n",
      "  0.62;  0.45  (C=democrat; V=n)\n",
      "  0.38;  0.23  (C=republican; V=n)\n",
      "  0.58;  0.10  (C=democrat; V=?)\n",
      "  0.42;  0.06  (C=republican; V=?)\n",
      " Attribute 3: (A = adoption-of-the-budget-resolution)\n",
      "  0.91;  0.87  (C=democrat; V=y)\n",
      "  0.09;  0.07  (C=republican; V=y)\n",
      "  0.17;  0.11  (C=democrat; V=n)\n",
      "  0.83;  0.44  (C=republican; V=n)\n"
     ]
    }
   ],
   "source": [
    "!ls\n",
    "!head -n 100 house-votes-84.names"
   ]
  },
  {
   "cell_type": "code",
   "execution_count": 2,
   "metadata": {
    "colab": {},
    "colab_type": "code",
    "id": "ZKwspo2CngPP"
   },
   "outputs": [],
   "source": [
    "### YOUR CODE STARTS HERE\n",
    "from scipy import stats\n",
    "import pandas as pd      #probably can do this all without dataframes but im feeling lazy\n",
    "import numpy as np\n",
    "import re\n",
    "#LOAD DATA , CHECK FORMAT.\n",
    "#using https://archive.ics.uci.edu/ml/datasets/Congressional+Voting+Records\n",
    "#per the data description the \"?\" indicates that the member was present and either abstained or used \n",
    "#procedure to avoid voting on the issue therefore we are going to class this result with nays as in \n",
    "# 'not willing to support'\n",
    "# An alternative woud be to simply calculate the ratio of yeas to nays, but i dont think this reflects the \n",
    "# reality of how voting works in practice. an absolute number of yeas is required to pass a bill\n",
    "# what about 1, 0, -1  for mapping? \n",
    "# note ryan just dropped the nans inline \n",
    "\n",
    "start = re.compile(\"7.\\sAttribute\")                 #regex practice, python is wierd..\n",
    "pat = re.compile(r'\\s+\\d+.\\s([A-Za-z-\\s]+):\\s\\d\\s')  #extract column names\n",
    "columns=[]\n",
    "with open('house-votes-84.names', 'r') as f:\n",
    "    line = f.readline()\n",
    "    cnt = 1\n",
    "    while line:\n",
    "        if start.match(line):\n",
    "            line = f.readline()  #read next line and process. until done and break\n",
    "            while pat.match(line):\n",
    "            #    print(pat.match(line).group(1))  #print the match -> add to lis    \n",
    "                line = f.readline()  #read next line and process.\n",
    "                \n",
    "        else:\n",
    "            line = f.readline() #not started, read nextline\n",
    "            cnt += 1\n",
    "##that was fun\n",
    "with open('house-votes-84.names', 'r') as f:\n",
    "    txt = f.read()\n",
    "    columns = pat.findall(txt)                   #this is what we want\n",
    "df= pd.read_csv('house-votes-84.data', names=columns)\n",
    "\n"
   ]
  },
  {
   "cell_type": "code",
   "execution_count": 143,
   "metadata": {},
   "outputs": [
    {
     "data": {
      "image/png": "[encoded data removed]",
      "text/plain": [
       "<Figure size 432x288 with 1 Axes>"
      ]
     },
     "metadata": {
      "needs_background": "light"
     },
     "output_type": "display_data"
    },
    {
     "data": {
      "text/html": [
       "<div>\n",
       "<style scoped>\n",
       "    .dataframe tbody tr th:only-of-type {\n",
       "        vertical-align: middle;\n",
       "    }\n",
       "\n",
       "    .dataframe tbody tr th {\n",
       "        vertical-align: top;\n",
       "    }\n",
       "\n",
       "    .dataframe thead th {\n",
       "        text-align: right;\n",
       "    }\n",
       "</style>\n",
       "<table border=\"1\" class=\"dataframe\">\n",
       "  <thead>\n",
       "    <tr style=\"text-align: right;\">\n",
       "      <th></th>\n",
       "      <th>party_x</th>\n",
       "      <th>issue</th>\n",
       "      <th>mean_x</th>\n",
       "      <th>pty_voters_x</th>\n",
       "      <th>party_y</th>\n",
       "      <th>mean_y</th>\n",
       "      <th>pty_voters_y</th>\n",
       "      <th>delta</th>\n",
       "      <th>absd</th>\n",
       "    </tr>\n",
       "  </thead>\n",
       "  <tbody>\n",
       "    <tr>\n",
       "      <td>1</td>\n",
       "      <td>democrat</td>\n",
       "      <td>water-project-cost-sharing</td>\n",
       "      <td>0.502092</td>\n",
       "      <td>239</td>\n",
       "      <td>republican</td>\n",
       "      <td>0.506757</td>\n",
       "      <td>148</td>\n",
       "      <td>-0.004665</td>\n",
       "      <td>0.004665</td>\n",
       "    </tr>\n",
       "    <tr>\n",
       "      <td>9</td>\n",
       "      <td>democrat</td>\n",
       "      <td>immigration</td>\n",
       "      <td>0.471483</td>\n",
       "      <td>263</td>\n",
       "      <td>republican</td>\n",
       "      <td>0.557576</td>\n",
       "      <td>165</td>\n",
       "      <td>-0.086093</td>\n",
       "      <td>0.086093</td>\n",
       "    </tr>\n",
       "  </tbody>\n",
       "</table>\n",
       "</div>"
      ],
      "text/plain": [
       "    party_x                       issue    mean_x pty_voters_x     party_y  \\\n",
       "1  democrat  water-project-cost-sharing  0.502092          239  republican   \n",
       "9  democrat                 immigration  0.471483          263  republican   \n",
       "\n",
       "     mean_y pty_voters_y     delta      absd  \n",
       "1  0.506757          148 -0.004665  0.004665  \n",
       "9  0.557576          165 -0.086093  0.086093  "
      ]
     },
     "execution_count": 143,
     "metadata": {},
     "output_type": "execute_result"
    }
   ],
   "source": [
    "import matplotlib.pyplot as plt\n",
    "\n",
    "df = df.replace({\"y\": 1, \"n\": 0, \"?\": np.NaN})\n",
    "def pfilter(p):                       #filter function for iteration\n",
    " return df['Class Name'] == p \n",
    "\n",
    "rep = df[pfilter('republican')]   \n",
    "dem = df[pfilter('democrat')]   \n",
    "\n",
    "# loop thru all issues\n",
    "\n",
    "\n",
    "def partystats (p):                 #the dataframe\n",
    "    #print(p)\n",
    "    means_by_party = pd.DataFrame(columns= ['party', 'issue', 'mean','pty_voters'])\n",
    "    i = 1   \n",
    "    while i < len(columns):  #loop thru columnscolumns[17]\n",
    "        issue = columns[i]\n",
    "        #print(party, issue, df[pfilter(p)][issue].dropna().mean() ,  df[pfilter(p)][issue].dropna().count()) \n",
    "        means_by_party.loc[i] = [p, issue, df[pfilter(p)][issue].dropna().mean(), df[pfilter(p)][issue].dropna().count()]\n",
    "        i += 1\n",
    "    return means_by_party\n",
    "\n",
    "plt.plot(partystats('democrat')['issue'], partystats('democrat')['mean'], 'r')\n",
    "plt.plot(partystats('republican')['issue'], partystats('republican')['mean'], 'b')\n",
    "plt.title('likelihood of support ')\n",
    "plt.show()                        #red is repub blue i dem. shows issues with divergence and convergenceplt.plot(partystats('democrat')['issue'], partystats('democrat')['mean'], 'r')\n",
    "\n",
    "demm = partystats('democrat')\n",
    "repm = partystats('republican')\n",
    "combined = demm.merge(repm, on='issue')\n",
    "combined['delta'] = combined['mean_x'] - combined['mean_y']\n",
    "\n",
    "combined.sort_values('delta').tail(2)           ## 2 issue with the largest difference where dems support\n",
    "combined.sort_values('delta').head(2)           ## 2 issue with the largest difference where repub support\n",
    "combined['absd'] = combined['delta'].apply(lambda d : abs(d))\n",
    "combined.sort_values('absd').head(5)            ## 2 issues where the means are closest\n",
    "\n",
    "\n",
    "\n",
    "#iffs['rmean'] =diffs.applypartystats('republican')\n"
   ]
  },
  {
   "cell_type": "code",
   "execution_count": 158,
   "metadata": {},
   "outputs": [
    {
     "name": "stdout",
     "output_type": "stream",
     "text": [
      "    party_x                              issue    mean_x pty_voters_x  \\\n",
      "7  democrat          aid-to-nicaraguan-contras  0.828897          263   \n",
      "2  democrat  adoption-of-the-budget-resolution  0.888462          260   \n",
      "\n",
      "      party_y    mean_y pty_voters_y     delta      absd  \n",
      "7  republican  0.152866          157  0.676031  0.676031  \n",
      "2  republican  0.134146          164  0.754315  0.754315  \n",
      "Ttest_indResult(statistic=18.052093200819733, pvalue=2.82471841372357e-54)\n",
      "Ttest_indResult(statistic=23.21277691701378, pvalue=2.0703402795404463e-77)\n"
     ]
    }
   ],
   "source": [
    "#2. Using hypothesis testing, find an issue that democrats support more than republicans with p < 0.01\n",
    "print(combined.sort_values('delta').tail(2))           ## 2 issue with the largest difference where dems support\n",
    "#NULL HYPOTHESIS: There is a statistically significant difference (in favor of the democrats) between the voting\n",
    "#                 probabilities of the two parties\n",
    "#ALT HYPOTHESIS:  democrats are no more likely than republicans to vote for this issue\n",
    "issue = 'aid-to-nicaraguan-contras'\n",
    "print(stats.ttest_ind(dem[issue], rep[issue], nan_policy='omit'))\n",
    "issue = 'adoption-of-the-budget-resolution'\n",
    "print(stats.ttest_ind(dem[issue], rep[issue], nan_policy='omit'))\n",
    "\n",
    "## we can see that using the delta heuristic, we have found two issue with extremely small p-values. this indicates\n",
    "# that its highly unlikely that the two will vote yes with the same frequency. thus allowing us to adopt the null \n",
    "# hypothesis with a confidence of 99% in this case"
   ]
  },
  {
   "cell_type": "code",
   "execution_count": 154,
   "metadata": {},
   "outputs": [
    {
     "name": "stdout",
     "output_type": "stream",
     "text": [
      "    party_x                 issue    mean_x pty_voters_x     party_y  \\\n",
      "3  democrat  physician-fee-freeze  0.054054          259  republican   \n",
      "4  democrat       el-salvador-aid  0.215686          255  republican   \n",
      "\n",
      "     mean_y pty_voters_y     delta      absd  \n",
      "3  0.987879          165 -0.933825  0.933825  \n",
      "4  0.951515          165 -0.735829  0.735829  \n",
      "Ttest_indResult(statistic=-49.36708157301406, pvalue=1.994262314074344e-177)\n",
      "Ttest_indResult(statistic=-21.13669261173219, pvalue=5.600520111729011e-68)\n"
     ]
    }
   ],
   "source": [
    "#3. Using hypothesis testing, find an issue that republicans support more than democrats with p < 0.01\n",
    "print(combined.sort_values('delta').head(2))        ## 2 issues with the largest difference where repub support\n",
    "                                                    #as indicated by the sign of delta\n",
    "#NULL HYPOTHESIS : is that we find the republicans more likely to vote in support of this issue than the democrats\n",
    "#ALT HYPOTHISIS :  repulblicans are no more likely to support than dems... \n",
    "\n",
    "issue = 'physician-fee-freeze'\n",
    "print(stats.ttest_ind(dem[issue], rep[issue], nan_policy='omit'))\n",
    "issue = 'el-salvador-aid'\n",
    "print(stats.ttest_ind(dem[issue], rep[issue], nan_policy='omit'))\n",
    "\n",
    "\n",
    "##in both tests the p values are extremely small, much lower hatn .01, leading us to say that we failed to reject \n",
    "# the null hypothesis"
   ]
  },
  {
   "cell_type": "code",
   "execution_count": 152,
   "metadata": {},
   "outputs": [
    {
     "name": "stdout",
     "output_type": "stream",
     "text": [
      "    party_x                       issue    mean_x pty_voters_x     party_y  \\\n",
      "1  democrat  water-project-cost-sharing  0.502092          239  republican   \n",
      "9  democrat                 immigration  0.471483          263  republican   \n",
      "\n",
      "     mean_y pty_voters_y     delta      absd  \n",
      "1  0.506757          148 -0.004665  0.004665  \n",
      "9  0.557576          165 -0.086093  0.086093  \n",
      "Ttest_indResult(statistic=-0.08896538137868286, pvalue=0.9291556823993485)\n",
      "Ttest_indResult(statistic=-1.7359117329695164, pvalue=0.08330248490425066)\n"
     ]
    }
   ],
   "source": [
    "\n",
    "#4. Using hypothesis testing, find an issue where the difference between republicans and democrats has p > 0.1 (i.e. there may not be much of a difference)\n",
    "print(combined.sort_values('absd').head(2))            ## 2 issues where the means are closest\n",
    "\n",
    "issue = 'water-project-cost-sharing'\n",
    "print(stats.ttest_ind(dem[issue], rep[issue], nan_policy='omit'))\n",
    "issue = 'immigration'\n",
    "print(stats.ttest_ind(dem[issue], rep[issue], nan_policy='omit'))\n",
    "\n",
    "\n",
    "\n",
    "# in the first case the p value of .9 is much  larger that .1, leading us to accept the null hypothesis that there i\n",
    "# little difference between parties in propensity to support this  issue, with a confidence of 90%"
   ]
  },
  {
   "cell_type": "markdown",
   "metadata": {
    "colab_type": "text",
    "id": "wcA_AvvRAqW_"
   },
   "source": [
    "## Stretch Goals:\n",
    "\n",
    "1. Refactor your code into functions so it's easy to rerun with arbitrary variables\n",
    "2. Work on Performing a T-test without using Scipy in order to get \"under the hood\" and learn more thoroughly about this topic.\n",
    "### Start with a 1-sample t-test\n",
    " - Establish the conditions for your test \n",
    " - [Calculate the T Statistic](https://blog.minitab.com/hs-fs/hubfs/Imported_Blog_Media/701f9c0efa98a38fb397f3c3ec459b66.png?width=247&height=172&name=701f9c0efa98a38fb397f3c3ec459b66.png) (You'll need to omit NaN values from your sample).\n",
    " - Translate that t-statistic into a P-value. You can use a [table](https://www.google.com/search?q=t+statistic+table) or the [University of Iowa Applet](https://homepage.divms.uiowa.edu/~mbognar/applets/t.html)\n",
    "\n",
    " ### Then try a 2-sample t-test\n",
    " - Establish the conditions for your test \n",
    " - [Calculate the T Statistic](https://lh3.googleusercontent.com/proxy/rJJ5ZOL9ZDvKOOeBihXoZDgfk7uv1YsRzSQ1Tc10RX-r2HrRpRLVqlE9CWX23csYQXcTniFwlBg3H-qR8MKJPBGnjwndqlhDX3JxoDE5Yg) (You'll need to omit NaN values from your sample).\n",
    " - Translate that t-statistic into a P-value. You can use a [table](https://www.google.com/search?q=t+statistic+table) or the [University of Iowa Applet](https://homepage.divms.uiowa.edu/~mbognar/applets/t.html)\n",
    "\n",
    " ### Then check your Answers using Scipy!"
   ]
  },
  {
   "cell_type": "code",
   "execution_count": 180,
   "metadata": {},
   "outputs": [
    {
     "data": {
      "text/plain": [
       "0.4779615336263577"
      ]
     },
     "execution_count": 180,
     "metadata": {},
     "output_type": "execute_result"
    }
   ],
   "source": [
    "## to calculate t value without ttest\n",
    "#  deeff =  pty_voters \n",
    "degrees = partystats('democrat').pty_voters - partystats('republican').pty_voters -2  #series containg 'df'\n",
    "type(degrees)\n",
    "df[pfilter('democrat')].describe().T  # use this to get std\n",
    "def getstd (p,i):\n",
    "    return df[pfilter(p)].describe().T.loc[i, 'std']   #for the given party, issue, return std\n",
    "getstd('democrat','crime')  #lol not PC\n",
    "\n",
    "    "
   ]
  },
  {
   "cell_type": "code",
   "execution_count": null,
   "metadata": {},
   "outputs": [],
   "source": [
    "  # RUN TH  TTEST against 2 classes"
   ]
  }
 ],
 "metadata": {
  "colab": {
   "include_colab_link": true,
   "name": "LS_DS_121_Statistics_Probability_Assignment.ipynb",
   "provenance": []
  },
  "kernelspec": {
   "display_name": "Python 3",
   "language": "python",
   "name": "python3"
  },
  "language_info": {
   "codemirror_mode": {
    "name": "ipython",
    "version": 3
   },
   "file_extension": ".py",
   "mimetype": "text/x-python",
   "name": "python",
   "nbconvert_exporter": "python",
   "pygments_lexer": "ipython3",
   "version": "3.7.4"
  }
 },
 "nbformat": 4,
 "nbformat_minor": 1
}
