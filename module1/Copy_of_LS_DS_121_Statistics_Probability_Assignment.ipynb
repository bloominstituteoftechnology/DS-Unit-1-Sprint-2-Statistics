{
  "nbformat": 4,
  "nbformat_minor": 0,
  "metadata": {
    "kernelspec": {
      "display_name": "Python 3",
      "language": "python",
      "name": "python3"
    },
    "language_info": {
      "codemirror_mode": {
        "name": "ipython",
        "version": 3
      },
      "file_extension": ".py",
      "mimetype": "text/x-python",
      "name": "python",
      "nbconvert_exporter": "python",
      "pygments_lexer": "ipython3",
      "version": "3.7.3"
    },
    "colab": {
      "name": "Copy of LS_DS_121_Statistics_Probability_Assignment.ipynb",
      "provenance": [],
      "collapsed_sections": [],
      "include_colab_link": true
    }
  },
  "cells": [
    {
      "cell_type": "markdown",
      "metadata": {
        "id": "view-in-github",
        "colab_type": "text"
      },
      "source": [
        "<a href=\"https://colab.research.google.com/github/eduardopadilla3/DS-Unit-1-Sprint-2-Statistics/blob/master/%5Cmodule1%5CCopy_of_LS_DS_121_Statistics_Probability_Assignment.ipynb\" target=\"_parent\"><img src=\"https://colab.research.google.com/assets/colab-badge.svg\" alt=\"Open In Colab\"/></a>"
      ]
    },
    {
      "cell_type": "markdown",
      "metadata": {
        "id": "Sa5KWMO1ngPN",
        "colab_type": "text"
      },
      "source": [
        "<img align=\"left\" src=\"https://lever-client-logos.s3.amazonaws.com/864372b1-534c-480e-acd5-9711f850815c-1524247202159.png\" width=200>\n",
        "<br></br>\n",
        "<br></br>\n",
        "\n",
        "## *Data Science Unit 1 Sprint 2 Assignment 1*\n",
        "\n",
        "# Apply the t-test to real data"
      ]
    },
    {
      "cell_type": "markdown",
      "metadata": {
        "id": "gZDO3KBZOJNp",
        "colab_type": "text"
      },
      "source": [
        "## Practice 1-Sample T-tests\n",
        "\n",
        "One Sample t-tests determine whether or not a sample mean is statistically different from some known (or hypothesized) population mean. \n",
        "\n",
        "### 1) Load the Data\n",
        "- Use the [automobile dataset](https://archive.ics.uci.edu/ml/datasets/Automobile)\n",
        "- Fix the column headers\n",
        "- Make sure NaNs are used to indicate missing values\n",
        "\n",
        "Feel free to add code cells and text cells as needed throughout the assignment."
      ]
    },
    {
      "cell_type": "code",
      "metadata": {
        "id": "cj-d0_8wWJjj",
        "colab_type": "code",
        "colab": {}
      },
      "source": [
        "### YOUR WORK HERE\n",
        "import numpy as np\n",
        "import pandas as pd\n",
        "import matplotlib.pyplot as plt \n",
        "import seaborn as sns\n",
        "from scipy import stats"
      ],
      "execution_count": 0,
      "outputs": []
    },
    {
      "cell_type": "code",
      "metadata": {
        "id": "mUijxqeqPV8u",
        "colab_type": "code",
        "colab": {}
      },
      "source": [
        "url = 'https://archive.ics.uci.edu/ml/machine-learning-databases/autos/imports-85.data'"
      ],
      "execution_count": 0,
      "outputs": []
    },
    {
      "cell_type": "code",
      "metadata": {
        "id": "2yIixRJuPuPb",
        "colab_type": "code",
        "colab": {}
      },
      "source": [
        "df = pd.read_csv(url)"
      ],
      "execution_count": 0,
      "outputs": []
    },
    {
      "cell_type": "code",
      "metadata": {
        "id": "O_S3SuaMphth",
        "colab_type": "code",
        "colab": {}
      },
      "source": [
        "columns = ['symboling','norm_loss','make','fuel','aspiration','doors',\n",
        "           'bod_style','drv_wheels','eng_loc','wheel_base','length','width',\n",
        "           'height','curb_weight','engine','cylinders','engine_size',\n",
        "           'fuel_system','bore','stroke','compression','hp','peak_rpm',\n",
        "           'city_mpg','hgwy_mpg','price']"
      ],
      "execution_count": 0,
      "outputs": []
    },
    {
      "cell_type": "code",
      "metadata": {
        "id": "n0W4y0-CppWu",
        "colab_type": "code",
        "outputId": "541bec80-727b-4226-8fa6-f02a2ac2c192",
        "colab": {
          "base_uri": "https://localhost:8080/",
          "height": 257
        }
      },
      "source": [
        "df = pd.read_csv(url, header=0, names=columns)\n",
        "df.head()"
      ],
      "execution_count": 0,
      "outputs": [
        {
          "output_type": "execute_result",
          "data": {
            "text/html": [
              "<div>\n",
              "<style scoped>\n",
              "    .dataframe tbody tr th:only-of-type {\n",
              "        vertical-align: middle;\n",
              "    }\n",
              "\n",
              "    .dataframe tbody tr th {\n",
              "        vertical-align: top;\n",
              "    }\n",
              "\n",
              "    .dataframe thead th {\n",
              "        text-align: right;\n",
              "    }\n",
              "</style>\n",
              "<table border=\"1\" class=\"dataframe\">\n",
              "  <thead>\n",
              "    <tr style=\"text-align: right;\">\n",
              "      <th></th>\n",
              "      <th>symboling</th>\n",
              "      <th>norm_loss</th>\n",
              "      <th>make</th>\n",
              "      <th>fuel</th>\n",
              "      <th>aspiration</th>\n",
              "      <th>doors</th>\n",
              "      <th>bod_style</th>\n",
              "      <th>drv_wheels</th>\n",
              "      <th>eng_loc</th>\n",
              "      <th>wheel_base</th>\n",
              "      <th>length</th>\n",
              "      <th>width</th>\n",
              "      <th>height</th>\n",
              "      <th>curb_weight</th>\n",
              "      <th>engine</th>\n",
              "      <th>cylinders</th>\n",
              "      <th>engine_size</th>\n",
              "      <th>fuel_system</th>\n",
              "      <th>bore</th>\n",
              "      <th>stroke</th>\n",
              "      <th>compression</th>\n",
              "      <th>hp</th>\n",
              "      <th>peak_rpm</th>\n",
              "      <th>city_mpg</th>\n",
              "      <th>hgwy_mpg</th>\n",
              "      <th>price</th>\n",
              "    </tr>\n",
              "  </thead>\n",
              "  <tbody>\n",
              "    <tr>\n",
              "      <th>0</th>\n",
              "      <td>3</td>\n",
              "      <td>?</td>\n",
              "      <td>alfa-romero</td>\n",
              "      <td>gas</td>\n",
              "      <td>std</td>\n",
              "      <td>two</td>\n",
              "      <td>convertible</td>\n",
              "      <td>rwd</td>\n",
              "      <td>front</td>\n",
              "      <td>88.6</td>\n",
              "      <td>168.8</td>\n",
              "      <td>64.1</td>\n",
              "      <td>48.8</td>\n",
              "      <td>2548</td>\n",
              "      <td>dohc</td>\n",
              "      <td>four</td>\n",
              "      <td>130</td>\n",
              "      <td>mpfi</td>\n",
              "      <td>3.47</td>\n",
              "      <td>2.68</td>\n",
              "      <td>9.0</td>\n",
              "      <td>111</td>\n",
              "      <td>5000</td>\n",
              "      <td>21</td>\n",
              "      <td>27</td>\n",
              "      <td>16500</td>\n",
              "    </tr>\n",
              "    <tr>\n",
              "      <th>1</th>\n",
              "      <td>1</td>\n",
              "      <td>?</td>\n",
              "      <td>alfa-romero</td>\n",
              "      <td>gas</td>\n",
              "      <td>std</td>\n",
              "      <td>two</td>\n",
              "      <td>hatchback</td>\n",
              "      <td>rwd</td>\n",
              "      <td>front</td>\n",
              "      <td>94.5</td>\n",
              "      <td>171.2</td>\n",
              "      <td>65.5</td>\n",
              "      <td>52.4</td>\n",
              "      <td>2823</td>\n",
              "      <td>ohcv</td>\n",
              "      <td>six</td>\n",
              "      <td>152</td>\n",
              "      <td>mpfi</td>\n",
              "      <td>2.68</td>\n",
              "      <td>3.47</td>\n",
              "      <td>9.0</td>\n",
              "      <td>154</td>\n",
              "      <td>5000</td>\n",
              "      <td>19</td>\n",
              "      <td>26</td>\n",
              "      <td>16500</td>\n",
              "    </tr>\n",
              "    <tr>\n",
              "      <th>2</th>\n",
              "      <td>2</td>\n",
              "      <td>164</td>\n",
              "      <td>audi</td>\n",
              "      <td>gas</td>\n",
              "      <td>std</td>\n",
              "      <td>four</td>\n",
              "      <td>sedan</td>\n",
              "      <td>fwd</td>\n",
              "      <td>front</td>\n",
              "      <td>99.8</td>\n",
              "      <td>176.6</td>\n",
              "      <td>66.2</td>\n",
              "      <td>54.3</td>\n",
              "      <td>2337</td>\n",
              "      <td>ohc</td>\n",
              "      <td>four</td>\n",
              "      <td>109</td>\n",
              "      <td>mpfi</td>\n",
              "      <td>3.19</td>\n",
              "      <td>3.40</td>\n",
              "      <td>10.0</td>\n",
              "      <td>102</td>\n",
              "      <td>5500</td>\n",
              "      <td>24</td>\n",
              "      <td>30</td>\n",
              "      <td>13950</td>\n",
              "    </tr>\n",
              "    <tr>\n",
              "      <th>3</th>\n",
              "      <td>2</td>\n",
              "      <td>164</td>\n",
              "      <td>audi</td>\n",
              "      <td>gas</td>\n",
              "      <td>std</td>\n",
              "      <td>four</td>\n",
              "      <td>sedan</td>\n",
              "      <td>4wd</td>\n",
              "      <td>front</td>\n",
              "      <td>99.4</td>\n",
              "      <td>176.6</td>\n",
              "      <td>66.4</td>\n",
              "      <td>54.3</td>\n",
              "      <td>2824</td>\n",
              "      <td>ohc</td>\n",
              "      <td>five</td>\n",
              "      <td>136</td>\n",
              "      <td>mpfi</td>\n",
              "      <td>3.19</td>\n",
              "      <td>3.40</td>\n",
              "      <td>8.0</td>\n",
              "      <td>115</td>\n",
              "      <td>5500</td>\n",
              "      <td>18</td>\n",
              "      <td>22</td>\n",
              "      <td>17450</td>\n",
              "    </tr>\n",
              "    <tr>\n",
              "      <th>4</th>\n",
              "      <td>2</td>\n",
              "      <td>?</td>\n",
              "      <td>audi</td>\n",
              "      <td>gas</td>\n",
              "      <td>std</td>\n",
              "      <td>two</td>\n",
              "      <td>sedan</td>\n",
              "      <td>fwd</td>\n",
              "      <td>front</td>\n",
              "      <td>99.8</td>\n",
              "      <td>177.3</td>\n",
              "      <td>66.3</td>\n",
              "      <td>53.1</td>\n",
              "      <td>2507</td>\n",
              "      <td>ohc</td>\n",
              "      <td>five</td>\n",
              "      <td>136</td>\n",
              "      <td>mpfi</td>\n",
              "      <td>3.19</td>\n",
              "      <td>3.40</td>\n",
              "      <td>8.5</td>\n",
              "      <td>110</td>\n",
              "      <td>5500</td>\n",
              "      <td>19</td>\n",
              "      <td>25</td>\n",
              "      <td>15250</td>\n",
              "    </tr>\n",
              "  </tbody>\n",
              "</table>\n",
              "</div>"
            ],
            "text/plain": [
              "   symboling norm_loss         make fuel  ... peak_rpm city_mpg hgwy_mpg  price\n",
              "0          3         ?  alfa-romero  gas  ...     5000       21       27  16500\n",
              "1          1         ?  alfa-romero  gas  ...     5000       19       26  16500\n",
              "2          2       164         audi  gas  ...     5500       24       30  13950\n",
              "3          2       164         audi  gas  ...     5500       18       22  17450\n",
              "4          2         ?         audi  gas  ...     5500       19       25  15250\n",
              "\n",
              "[5 rows x 26 columns]"
            ]
          },
          "metadata": {
            "tags": []
          },
          "execution_count": 51
        }
      ]
    },
    {
      "cell_type": "markdown",
      "metadata": {
        "id": "FD-Pk07-Z-xk",
        "colab_type": "text"
      },
      "source": [
        "### 2) Pretend that this dataset represents the cars at a used car lot in your local town. \n",
        "\n",
        "- Use df.sample() to pick a random sample of 10 cars. Note that because this sample is random we are going to set the `random_state` so that all of us in the class get the same random sample. Please set your random state to `30` when using `df.sample()`\n",
        "\n",
        "Is your sample reflective of the population value in regards to highway-mpg? Find the mean for `highway-mpg` for the entire dataset and compare your sample mean estimate to that value. Can you say that they are different? "
      ]
    },
    {
      "cell_type": "code",
      "metadata": {
        "id": "6qXiJGTwdG2N",
        "colab_type": "code",
        "colab": {}
      },
      "source": [
        "### YOUR WORK HERE\n",
        "sample1 = df.sample(10, random_state=30)\n"
      ],
      "execution_count": 0,
      "outputs": []
    },
    {
      "cell_type": "code",
      "metadata": {
        "id": "wOmYD9ahtLzJ",
        "colab_type": "code",
        "outputId": "b1088774-3749-45f6-b8e7-eaee6d5c9edc",
        "colab": {
          "base_uri": "https://localhost:8080/",
          "height": 393
        }
      },
      "source": [
        "sample1"
      ],
      "execution_count": 0,
      "outputs": [
        {
          "output_type": "execute_result",
          "data": {
            "text/html": [
              "<div>\n",
              "<style scoped>\n",
              "    .dataframe tbody tr th:only-of-type {\n",
              "        vertical-align: middle;\n",
              "    }\n",
              "\n",
              "    .dataframe tbody tr th {\n",
              "        vertical-align: top;\n",
              "    }\n",
              "\n",
              "    .dataframe thead th {\n",
              "        text-align: right;\n",
              "    }\n",
              "</style>\n",
              "<table border=\"1\" class=\"dataframe\">\n",
              "  <thead>\n",
              "    <tr style=\"text-align: right;\">\n",
              "      <th></th>\n",
              "      <th>symboling</th>\n",
              "      <th>norm_loss</th>\n",
              "      <th>make</th>\n",
              "      <th>fuel</th>\n",
              "      <th>aspiration</th>\n",
              "      <th>doors</th>\n",
              "      <th>bod_style</th>\n",
              "      <th>drv_wheels</th>\n",
              "      <th>eng_loc</th>\n",
              "      <th>wheel_base</th>\n",
              "      <th>length</th>\n",
              "      <th>width</th>\n",
              "      <th>height</th>\n",
              "      <th>curb_weight</th>\n",
              "      <th>engine</th>\n",
              "      <th>cylinders</th>\n",
              "      <th>engine_size</th>\n",
              "      <th>fuel_system</th>\n",
              "      <th>bore</th>\n",
              "      <th>stroke</th>\n",
              "      <th>compression</th>\n",
              "      <th>hp</th>\n",
              "      <th>peak_rpm</th>\n",
              "      <th>city_mpg</th>\n",
              "      <th>hgwy_mpg</th>\n",
              "      <th>price</th>\n",
              "    </tr>\n",
              "  </thead>\n",
              "  <tbody>\n",
              "    <tr>\n",
              "      <th>146</th>\n",
              "      <td>0</td>\n",
              "      <td>89</td>\n",
              "      <td>subaru</td>\n",
              "      <td>gas</td>\n",
              "      <td>std</td>\n",
              "      <td>four</td>\n",
              "      <td>wagon</td>\n",
              "      <td>fwd</td>\n",
              "      <td>front</td>\n",
              "      <td>97.0</td>\n",
              "      <td>173.5</td>\n",
              "      <td>65.4</td>\n",
              "      <td>53.0</td>\n",
              "      <td>2455</td>\n",
              "      <td>ohcf</td>\n",
              "      <td>four</td>\n",
              "      <td>108</td>\n",
              "      <td>mpfi</td>\n",
              "      <td>3.62</td>\n",
              "      <td>2.64</td>\n",
              "      <td>9.0</td>\n",
              "      <td>94</td>\n",
              "      <td>5200</td>\n",
              "      <td>25</td>\n",
              "      <td>31</td>\n",
              "      <td>10198</td>\n",
              "    </tr>\n",
              "    <tr>\n",
              "      <th>67</th>\n",
              "      <td>-1</td>\n",
              "      <td>93</td>\n",
              "      <td>mercedes-benz</td>\n",
              "      <td>diesel</td>\n",
              "      <td>turbo</td>\n",
              "      <td>four</td>\n",
              "      <td>wagon</td>\n",
              "      <td>rwd</td>\n",
              "      <td>front</td>\n",
              "      <td>110.0</td>\n",
              "      <td>190.9</td>\n",
              "      <td>70.3</td>\n",
              "      <td>58.7</td>\n",
              "      <td>3750</td>\n",
              "      <td>ohc</td>\n",
              "      <td>five</td>\n",
              "      <td>183</td>\n",
              "      <td>idi</td>\n",
              "      <td>3.58</td>\n",
              "      <td>3.64</td>\n",
              "      <td>21.5</td>\n",
              "      <td>123</td>\n",
              "      <td>4350</td>\n",
              "      <td>22</td>\n",
              "      <td>25</td>\n",
              "      <td>28248</td>\n",
              "    </tr>\n",
              "    <tr>\n",
              "      <th>26</th>\n",
              "      <td>1</td>\n",
              "      <td>148</td>\n",
              "      <td>dodge</td>\n",
              "      <td>gas</td>\n",
              "      <td>turbo</td>\n",
              "      <td>?</td>\n",
              "      <td>sedan</td>\n",
              "      <td>fwd</td>\n",
              "      <td>front</td>\n",
              "      <td>93.7</td>\n",
              "      <td>157.3</td>\n",
              "      <td>63.8</td>\n",
              "      <td>50.6</td>\n",
              "      <td>2191</td>\n",
              "      <td>ohc</td>\n",
              "      <td>four</td>\n",
              "      <td>98</td>\n",
              "      <td>mpfi</td>\n",
              "      <td>3.03</td>\n",
              "      <td>3.39</td>\n",
              "      <td>7.6</td>\n",
              "      <td>102</td>\n",
              "      <td>5500</td>\n",
              "      <td>24</td>\n",
              "      <td>30</td>\n",
              "      <td>8558</td>\n",
              "    </tr>\n",
              "    <tr>\n",
              "      <th>155</th>\n",
              "      <td>0</td>\n",
              "      <td>91</td>\n",
              "      <td>toyota</td>\n",
              "      <td>gas</td>\n",
              "      <td>std</td>\n",
              "      <td>four</td>\n",
              "      <td>sedan</td>\n",
              "      <td>fwd</td>\n",
              "      <td>front</td>\n",
              "      <td>95.7</td>\n",
              "      <td>166.3</td>\n",
              "      <td>64.4</td>\n",
              "      <td>53.0</td>\n",
              "      <td>2081</td>\n",
              "      <td>ohc</td>\n",
              "      <td>four</td>\n",
              "      <td>98</td>\n",
              "      <td>2bbl</td>\n",
              "      <td>3.19</td>\n",
              "      <td>3.03</td>\n",
              "      <td>9.0</td>\n",
              "      <td>70</td>\n",
              "      <td>4800</td>\n",
              "      <td>30</td>\n",
              "      <td>37</td>\n",
              "      <td>6938</td>\n",
              "    </tr>\n",
              "    <tr>\n",
              "      <th>135</th>\n",
              "      <td>3</td>\n",
              "      <td>150</td>\n",
              "      <td>saab</td>\n",
              "      <td>gas</td>\n",
              "      <td>turbo</td>\n",
              "      <td>two</td>\n",
              "      <td>hatchback</td>\n",
              "      <td>fwd</td>\n",
              "      <td>front</td>\n",
              "      <td>99.1</td>\n",
              "      <td>186.6</td>\n",
              "      <td>66.5</td>\n",
              "      <td>56.1</td>\n",
              "      <td>2808</td>\n",
              "      <td>dohc</td>\n",
              "      <td>four</td>\n",
              "      <td>121</td>\n",
              "      <td>mpfi</td>\n",
              "      <td>3.54</td>\n",
              "      <td>3.07</td>\n",
              "      <td>9.0</td>\n",
              "      <td>160</td>\n",
              "      <td>5500</td>\n",
              "      <td>19</td>\n",
              "      <td>26</td>\n",
              "      <td>18150</td>\n",
              "    </tr>\n",
              "    <tr>\n",
              "      <th>24</th>\n",
              "      <td>1</td>\n",
              "      <td>148</td>\n",
              "      <td>dodge</td>\n",
              "      <td>gas</td>\n",
              "      <td>std</td>\n",
              "      <td>four</td>\n",
              "      <td>sedan</td>\n",
              "      <td>fwd</td>\n",
              "      <td>front</td>\n",
              "      <td>93.7</td>\n",
              "      <td>157.3</td>\n",
              "      <td>63.8</td>\n",
              "      <td>50.6</td>\n",
              "      <td>1989</td>\n",
              "      <td>ohc</td>\n",
              "      <td>four</td>\n",
              "      <td>90</td>\n",
              "      <td>2bbl</td>\n",
              "      <td>2.97</td>\n",
              "      <td>3.23</td>\n",
              "      <td>9.4</td>\n",
              "      <td>68</td>\n",
              "      <td>5500</td>\n",
              "      <td>31</td>\n",
              "      <td>38</td>\n",
              "      <td>6692</td>\n",
              "    </tr>\n",
              "    <tr>\n",
              "      <th>154</th>\n",
              "      <td>0</td>\n",
              "      <td>91</td>\n",
              "      <td>toyota</td>\n",
              "      <td>gas</td>\n",
              "      <td>std</td>\n",
              "      <td>four</td>\n",
              "      <td>wagon</td>\n",
              "      <td>4wd</td>\n",
              "      <td>front</td>\n",
              "      <td>95.7</td>\n",
              "      <td>169.7</td>\n",
              "      <td>63.6</td>\n",
              "      <td>59.1</td>\n",
              "      <td>3110</td>\n",
              "      <td>ohc</td>\n",
              "      <td>four</td>\n",
              "      <td>92</td>\n",
              "      <td>2bbl</td>\n",
              "      <td>3.05</td>\n",
              "      <td>3.03</td>\n",
              "      <td>9.0</td>\n",
              "      <td>62</td>\n",
              "      <td>4800</td>\n",
              "      <td>27</td>\n",
              "      <td>32</td>\n",
              "      <td>8778</td>\n",
              "    </tr>\n",
              "    <tr>\n",
              "      <th>195</th>\n",
              "      <td>-2</td>\n",
              "      <td>103</td>\n",
              "      <td>volvo</td>\n",
              "      <td>gas</td>\n",
              "      <td>std</td>\n",
              "      <td>four</td>\n",
              "      <td>sedan</td>\n",
              "      <td>rwd</td>\n",
              "      <td>front</td>\n",
              "      <td>104.3</td>\n",
              "      <td>188.8</td>\n",
              "      <td>67.2</td>\n",
              "      <td>56.2</td>\n",
              "      <td>2935</td>\n",
              "      <td>ohc</td>\n",
              "      <td>four</td>\n",
              "      <td>141</td>\n",
              "      <td>mpfi</td>\n",
              "      <td>3.78</td>\n",
              "      <td>3.15</td>\n",
              "      <td>9.5</td>\n",
              "      <td>114</td>\n",
              "      <td>5400</td>\n",
              "      <td>24</td>\n",
              "      <td>28</td>\n",
              "      <td>15985</td>\n",
              "    </tr>\n",
              "    <tr>\n",
              "      <th>132</th>\n",
              "      <td>2</td>\n",
              "      <td>104</td>\n",
              "      <td>saab</td>\n",
              "      <td>gas</td>\n",
              "      <td>std</td>\n",
              "      <td>four</td>\n",
              "      <td>sedan</td>\n",
              "      <td>fwd</td>\n",
              "      <td>front</td>\n",
              "      <td>99.1</td>\n",
              "      <td>186.6</td>\n",
              "      <td>66.5</td>\n",
              "      <td>56.1</td>\n",
              "      <td>2695</td>\n",
              "      <td>ohc</td>\n",
              "      <td>four</td>\n",
              "      <td>121</td>\n",
              "      <td>mpfi</td>\n",
              "      <td>3.54</td>\n",
              "      <td>3.07</td>\n",
              "      <td>9.3</td>\n",
              "      <td>110</td>\n",
              "      <td>5250</td>\n",
              "      <td>21</td>\n",
              "      <td>28</td>\n",
              "      <td>12170</td>\n",
              "    </tr>\n",
              "    <tr>\n",
              "      <th>194</th>\n",
              "      <td>-1</td>\n",
              "      <td>74</td>\n",
              "      <td>volvo</td>\n",
              "      <td>gas</td>\n",
              "      <td>std</td>\n",
              "      <td>four</td>\n",
              "      <td>wagon</td>\n",
              "      <td>rwd</td>\n",
              "      <td>front</td>\n",
              "      <td>104.3</td>\n",
              "      <td>188.8</td>\n",
              "      <td>67.2</td>\n",
              "      <td>57.5</td>\n",
              "      <td>3034</td>\n",
              "      <td>ohc</td>\n",
              "      <td>four</td>\n",
              "      <td>141</td>\n",
              "      <td>mpfi</td>\n",
              "      <td>3.78</td>\n",
              "      <td>3.15</td>\n",
              "      <td>9.5</td>\n",
              "      <td>114</td>\n",
              "      <td>5400</td>\n",
              "      <td>23</td>\n",
              "      <td>28</td>\n",
              "      <td>13415</td>\n",
              "    </tr>\n",
              "  </tbody>\n",
              "</table>\n",
              "</div>"
            ],
            "text/plain": [
              "     symboling norm_loss           make  ... city_mpg hgwy_mpg  price\n",
              "146          0        89         subaru  ...       25       31  10198\n",
              "67          -1        93  mercedes-benz  ...       22       25  28248\n",
              "26           1       148          dodge  ...       24       30   8558\n",
              "155          0        91         toyota  ...       30       37   6938\n",
              "135          3       150           saab  ...       19       26  18150\n",
              "24           1       148          dodge  ...       31       38   6692\n",
              "154          0        91         toyota  ...       27       32   8778\n",
              "195         -2       103          volvo  ...       24       28  15985\n",
              "132          2       104           saab  ...       21       28  12170\n",
              "194         -1        74          volvo  ...       23       28  13415\n",
              "\n",
              "[10 rows x 26 columns]"
            ]
          },
          "metadata": {
            "tags": []
          },
          "execution_count": 24
        }
      ]
    },
    {
      "cell_type": "code",
      "metadata": {
        "id": "cRKdQAzdrBnK",
        "colab_type": "code",
        "outputId": "3d2e4b14-2a0a-454b-96f3-1d86300601f3",
        "colab": {
          "base_uri": "https://localhost:8080/",
          "height": 35
        }
      },
      "source": [
        "df.hgwy_mpg.mean()"
      ],
      "execution_count": 0,
      "outputs": [
        {
          "output_type": "execute_result",
          "data": {
            "text/plain": [
              "30.769607843137255"
            ]
          },
          "metadata": {
            "tags": []
          },
          "execution_count": 17
        }
      ]
    },
    {
      "cell_type": "code",
      "metadata": {
        "id": "Bn-5cTYDso_c",
        "colab_type": "code",
        "outputId": "207f97e1-824a-4398-c25d-6b5c1f063a6f",
        "colab": {
          "base_uri": "https://localhost:8080/",
          "height": 35
        }
      },
      "source": [
        "sample1.hgwy_mpg.mean()"
      ],
      "execution_count": 0,
      "outputs": [
        {
          "output_type": "execute_result",
          "data": {
            "text/plain": [
              "30.3"
            ]
          },
          "metadata": {
            "tags": []
          },
          "execution_count": 25
        }
      ]
    },
    {
      "cell_type": "markdown",
      "metadata": {
        "id": "oxsx9cN7dUPp",
        "colab_type": "text"
      },
      "source": [
        "The salesman says the cars he sells typically have a fuel efficiency of about 35 miles per gallon on the highway. You want to verify his claim but can only test 10 cars. Using your sample of 10, test his claim and report your results."
      ]
    },
    {
      "cell_type": "code",
      "metadata": {
        "id": "6pXyclB9ZXCn",
        "colab_type": "code",
        "colab": {}
      },
      "source": [
        "### YOUR WORK HERE\n"
      ],
      "execution_count": 0,
      "outputs": []
    },
    {
      "cell_type": "code",
      "metadata": {
        "id": "oQZc1MjeGwlj",
        "colab_type": "code",
        "outputId": "0b2465da-66c9-4ea2-d32c-6d3f6d162c9b",
        "colab": {
          "base_uri": "https://localhost:8080/",
          "height": 35
        }
      },
      "source": [
        "stats.ttest_1samp(sample1['hgwy_mpg'], 35, nan_policy='omit')"
      ],
      "execution_count": 0,
      "outputs": [
        {
          "output_type": "execute_result",
          "data": {
            "text/plain": [
              "Ttest_1sampResult(statistic=-3.4187469470305465, pvalue=0.007643069993182772)"
            ]
          },
          "metadata": {
            "tags": []
          },
          "execution_count": 53
        }
      ]
    },
    {
      "cell_type": "markdown",
      "metadata": {
        "id": "MwwUaqM8HZIm",
        "colab_type": "text"
      },
      "source": [
        "Based on a t-statistic of -3.4 and a p-value of .0076, I reject the null hypothesis that congressional support for the handicapped-infants bill is equal to 50%."
      ]
    },
    {
      "cell_type": "markdown",
      "metadata": {
        "id": "yAkyHaEnbNYa",
        "colab_type": "text"
      },
      "source": [
        "Imagine that you now have the capacity to test 100 cars on the lot. Using the same random state of `30`, what would you conclude when sampling 100 cars?"
      ]
    },
    {
      "cell_type": "code",
      "metadata": {
        "id": "Y3H81uMubpLh",
        "colab_type": "code",
        "colab": {}
      },
      "source": [
        "### YOUR WORK HERE\n",
        "sample2 = df.sample(100, random_state=30)\n"
      ],
      "execution_count": 0,
      "outputs": []
    },
    {
      "cell_type": "code",
      "metadata": {
        "id": "MiAsyttyHlC-",
        "colab_type": "code",
        "outputId": "d91d7f43-8d7c-4274-a62e-4609c07f1b35",
        "colab": {
          "base_uri": "https://localhost:8080/",
          "height": 35
        }
      },
      "source": [
        "stats.ttest_1samp(sample2['hgwy_mpg'], 35, nan_policy='omit')"
      ],
      "execution_count": 0,
      "outputs": [
        {
          "output_type": "execute_result",
          "data": {
            "text/plain": [
              "Ttest_1sampResult(statistic=-6.4827186446460106, pvalue=3.5481090083532426e-09)"
            ]
          },
          "metadata": {
            "tags": []
          },
          "execution_count": 54
        }
      ]
    },
    {
      "cell_type": "markdown",
      "metadata": {
        "id": "OHJhFGF6IKuT",
        "colab_type": "text"
      },
      "source": [
        "Based on a t-statistic of -6.48 and a p-value of 0, I reject the null hypothesis that congressional support for the handicapped-infants bill is equal to 50%."
      ]
    },
    {
      "cell_type": "markdown",
      "metadata": {
        "id": "25NWb3S6IAbs",
        "colab_type": "text"
      },
      "source": [
        ""
      ]
    },
    {
      "cell_type": "markdown",
      "metadata": {
        "id": "vKClQEtrH85w",
        "colab_type": "text"
      },
      "source": [
        "\n",
        "\n",
        "\n",
        "\n",
        "\n",
        "Data Science Unit 1 Sprint 2 Assignment 1\n",
        "Apply the t-test to real data\n",
        "Practice 1-Sample T-tests\n",
        "One Sample t-tests determine whether or not a sample mean is statistically different from some known (or hypothesized) population mean.\n",
        "\n",
        "1) Load the Data\n",
        "Use the automobile dataset\n",
        "Fix the column headers\n",
        "Make sure NaNs are used to indicate missing values\n",
        "Feel free to add code cells and text cells as needed throughout the assignment.\n",
        "\n",
        "[47]\n",
        "### YOUR WORK HERE\n",
        "import numpy as np\n",
        "import pandas as pd\n",
        "import matplotlib.pyplot as plt \n",
        "import seaborn as sns\n",
        "from scipy import stats\n",
        "[48]\n",
        "url = 'https://archive.ics.uci.edu/ml/machine-learning-databases/autos/imports-85.data'\n",
        "[49]\n",
        "df = pd.read_csv(url)\n",
        "[50]\n",
        "columns = ['symboling','norm_loss','make','fuel','aspiration','doors',\n",
        "           'bod_style','drv_wheels','eng_loc','wheel_base','length','width',\n",
        "           'height','curb_weight','engine','cylinders','engine_size',\n",
        "           'fuel_system','bore','stroke','compression','hp','peak_rpm',\n",
        "           'city_mpg','hgwy_mpg','price']\n",
        "[51]\n",
        "df = pd.read_csv(url, header=0, names=columns)\n",
        "df.head()\n",
        "\n",
        "2) Pretend that this dataset represents the cars at a used car lot in your local town.\n",
        "Use df.sample() to pick a random sample of 10 cars. Note that because this sample is random we are going to set the random_state so that all of us in the class get the same random sample. Please set your random state to 30 when using df.sample()\n",
        "Is your sample reflective of the population value in regards to highway-mpg? Find the mean for highway-mpg for the entire dataset and compare your sample mean estimate to that value. Can you say that they are different?\n",
        "\n",
        "[ ]\n",
        "### YOUR WORK HERE\n",
        "sample1 = df.sample(10, random_state=30)\n",
        "\n",
        "[ ]\n",
        "sample1\n",
        "\n",
        "[ ]\n",
        "df.hgwy_mpg.mean()\n",
        "\n",
        "[ ]\n",
        "sample1.hgwy_mpg.mean()\n",
        "\n",
        "\n",
        "The salesman says the cars he sells typically have a fuel efficiency of about 35 miles per gallon on the highway. You want to verify his claim but can only test 10 cars. Using your sample of 10, test his claim and report your results.\n",
        "\n",
        "[ ]\n",
        "### YOUR WORK HERE\n",
        "\n",
        "[53]\n",
        "stats.ttest_1samp(sample1['hgwy_mpg'], 35, nan_policy='omit')\n",
        "\n",
        "\n",
        "Based on a t-statistic of -3.4 and a p-value of .0076, I reject the null hypothesis that congressional support for the handicapped-infants bill is equal to 50%."
      ]
    },
    {
      "cell_type": "markdown",
      "metadata": {
        "id": "QNjaXvVRHqds",
        "colab_type": "text"
      },
      "source": [
        "\n",
        "\n",
        "\n",
        "\n",
        "\n",
        "Data Science Unit 1 Sprint 2 Assignment 1\n",
        "Apply the t-test to real data\n",
        "Practice 1-Sample T-tests\n",
        "One Sample t-tests determine whether or not a sample mean is statistically different from some known (or hypothesized) population mean.\n",
        "\n",
        "1) Load the Data\n",
        "Use the automobile dataset\n",
        "Fix the column headers\n",
        "Make sure NaNs are used to indicate missing values\n",
        "Feel free to add code cells and text cells as needed throughout the assignment.\n",
        "\n",
        "[47]\n",
        "### YOUR WORK HERE\n",
        "import numpy as np\n",
        "import pandas as pd\n",
        "import matplotlib.pyplot as plt \n",
        "import seaborn as sns\n",
        "from scipy import stats\n",
        "[48]\n",
        "url = 'https://archive.ics.uci.edu/ml/machine-learning-databases/autos/imports-85.data'\n",
        "[49]\n",
        "df = pd.read_csv(url)\n",
        "[50]\n",
        "columns = ['symboling','norm_loss','make','fuel','aspiration','doors',\n",
        "           'bod_style','drv_wheels','eng_loc','wheel_base','length','width',\n",
        "           'height','curb_weight','engine','cylinders','engine_size',\n",
        "           'fuel_system','bore','stroke','compression','hp','peak_rpm',\n",
        "           'city_mpg','hgwy_mpg','price']\n",
        "[51]\n",
        "df = pd.read_csv(url, header=0, names=columns)\n",
        "df.head()\n",
        "\n",
        "2) Pretend that this dataset represents the cars at a used car lot in your local town.\n",
        "Use df.sample() to pick a random sample of 10 cars. Note that because this sample is random we are going to set the random_state so that all of us in the class get the same random sample. Please set your random state to 30 when using df.sample()\n",
        "Is your sample reflective of the population value in regards to highway-mpg? Find the mean for highway-mpg for the entire dataset and compare your sample mean estimate to that value. Can you say that they are different?\n",
        "\n",
        "[ ]\n",
        "### YOUR WORK HERE\n",
        "sample1 = df.sample(10, random_state=30)\n",
        "\n",
        "[ ]\n",
        "sample1\n",
        "\n",
        "[ ]\n",
        "df.hgwy_mpg.mean()\n",
        "\n",
        "[ ]\n",
        "sample1.hgwy_mpg.mean()\n",
        "\n",
        "\n",
        "The salesman says the cars he sells typically have a fuel efficiency of about 35 miles per gallon on the highway. You want to verify his claim but can only test 10 cars. Using your sample of 10, test his claim and report your results.\n",
        "\n",
        "[ ]\n",
        "### YOUR WORK HERE\n",
        "\n",
        "[53]\n",
        "stats.ttest_1samp(sample1['hgwy_mpg'], 35, nan_policy='omit')\n",
        "\n",
        "\n",
        "Based on a t-statistic of -3.4 and a p-value of .0076, I reject the null hypothesis that congressional support for the handicapped-infants bill is equal to 50%."
      ]
    },
    {
      "cell_type": "code",
      "metadata": {
        "id": "yGDfFLXA8Gwr",
        "colab_type": "code",
        "outputId": "d8a9f438-adee-44b1-892b-b35ce0a235d2",
        "colab": {
          "base_uri": "https://localhost:8080/",
          "height": 35
        }
      },
      "source": [
        "sample2.hgwy_mpg.mean()"
      ],
      "execution_count": 0,
      "outputs": [
        {
          "output_type": "execute_result",
          "data": {
            "text/plain": [
              "30.53"
            ]
          },
          "metadata": {
            "tags": []
          },
          "execution_count": 27
        }
      ]
    },
    {
      "cell_type": "code",
      "metadata": {
        "id": "ide8R5fnBLe3",
        "colab_type": "code",
        "colab": {}
      },
      "source": [
        "#still this is not enough to verify claim."
      ],
      "execution_count": 0,
      "outputs": []
    },
    {
      "cell_type": "markdown",
      "metadata": {
        "id": "sDO-ufMDfpVA",
        "colab_type": "text"
      },
      "source": [
        "Why might these two t-tests using the same dataset lead to different conclusions about the salesman's claim?"
      ]
    },
    {
      "cell_type": "markdown",
      "metadata": {
        "id": "8H6-cStNfpwS",
        "colab_type": "text"
      },
      "source": [
        "The sample with only 10 cars may have a larger deviation to the larger dataset bc of outliers or insuffcient data."
      ]
    },
    {
      "cell_type": "markdown",
      "metadata": {
        "id": "TPT-ZTt0PuIk",
        "colab_type": "text"
      },
      "source": [
        "## Practice 2-Sample T-tests\n",
        "\n",
        "Two Sample t-tests determine whether or not two sample means are statistically different from each other. \n",
        "\n",
        "This portion of your assignment requires you to determine which issues have \"statistically significant\" differences between political parties in this [1980s congressional voting data](https://archive.ics.uci.edu/ml/datasets/Congressional+Voting+Records). \n"
      ]
    },
    {
      "cell_type": "markdown",
      "metadata": {
        "id": "PvFVLwekQxLH",
        "colab_type": "text"
      },
      "source": [
        "### 1) Load the data\n",
        "\n",
        "The data consists of 435 instances (one for each congressperson), a class (democrat or republican), and 16 binary attributes (yes or no for voting for or against certain issues). Be aware - there are missing values!\n",
        "\n",
        "- Read the dataset in from UCI, you'll need to provide a list of column headers\n",
        "- Encode \"yes\" votes as 1 and \"no\" votes as 0. (You can use `df.replace()` to swap out these values)\n",
        "- Use dataframe filtering to split the dataframe into two new dataframes based on party. Hold all republicans in one dataframe and all democrats in the other. These will be our two different \"samples.\"\n",
        "\n"
      ]
    },
    {
      "cell_type": "code",
      "metadata": {
        "id": "__qLGHt5fXvU",
        "colab_type": "code",
        "outputId": "6910ab8b-7402-40f6-a639-6d6230aa7e76",
        "colab": {
          "base_uri": "https://localhost:8080/",
          "height": 208
        }
      },
      "source": [
        "### YOUR WORK HERE\n",
        "# Grab the file from UCI:\n",
        "!wget https://archive.ics.uci.edu/ml/machine-learning-databases/voting-records/house-votes-84.data"
      ],
      "execution_count": 0,
      "outputs": [
        {
          "output_type": "stream",
          "text": [
            "--2020-06-08 22:00:04--  https://archive.ics.uci.edu/ml/machine-learning-databases/voting-records/house-votes-84.data\n",
            "Resolving archive.ics.uci.edu (archive.ics.uci.edu)... 128.195.10.252\n",
            "Connecting to archive.ics.uci.edu (archive.ics.uci.edu)|128.195.10.252|:443... connected.\n",
            "HTTP request sent, awaiting response... 200 OK\n",
            "Length: 18171 (18K) [application/x-httpd-php]\n",
            "Saving to: ‘house-votes-84.data’\n",
            "\n",
            "\rhouse-votes-84.data   0%[                    ]       0  --.-KB/s               \rhouse-votes-84.data 100%[===================>]  17.75K  --.-KB/s    in 0.03s   \n",
            "\n",
            "2020-06-08 22:00:04 (517 KB/s) - ‘house-votes-84.data’ saved [18171/18171]\n",
            "\n"
          ],
          "name": "stdout"
        }
      ]
    },
    {
      "cell_type": "code",
      "metadata": {
        "id": "Gs2_Ha6K8rBT",
        "colab_type": "code",
        "colab": {}
      },
      "source": [
        "column_headers = ['party','handicapped-infants','water-project',\n",
        "                  'budget','physician-fee-freeze', 'el-salvador-aid',\n",
        "                  'religious-groups','anti-satellite-ban',\n",
        "                  'aid-to-contras','mx-missile','immigration',\n",
        "                  'synfuels', 'education', 'right-to-sue','crime','duty-free',\n",
        "                  'south-africa']\n",
        "\n",
        "df = pd.read_csv('house-votes-84.data', names=column_headers)"
      ],
      "execution_count": 0,
      "outputs": []
    },
    {
      "cell_type": "code",
      "metadata": {
        "id": "sV2Frbyl84GW",
        "colab_type": "code",
        "outputId": "363cd4ef-5380-46af-b176-4bb6d692ce8a",
        "colab": {
          "base_uri": "https://localhost:8080/",
          "height": 257
        }
      },
      "source": [
        "df = df.replace({'y': 1, 'n': 0, '?':np.NaN})\n",
        "\n",
        "df.head()"
      ],
      "execution_count": 0,
      "outputs": [
        {
          "output_type": "execute_result",
          "data": {
            "text/html": [
              "<div>\n",
              "<style scoped>\n",
              "    .dataframe tbody tr th:only-of-type {\n",
              "        vertical-align: middle;\n",
              "    }\n",
              "\n",
              "    .dataframe tbody tr th {\n",
              "        vertical-align: top;\n",
              "    }\n",
              "\n",
              "    .dataframe thead th {\n",
              "        text-align: right;\n",
              "    }\n",
              "</style>\n",
              "<table border=\"1\" class=\"dataframe\">\n",
              "  <thead>\n",
              "    <tr style=\"text-align: right;\">\n",
              "      <th></th>\n",
              "      <th>party</th>\n",
              "      <th>handicapped-infants</th>\n",
              "      <th>water-project</th>\n",
              "      <th>budget</th>\n",
              "      <th>physician-fee-freeze</th>\n",
              "      <th>el-salvador-aid</th>\n",
              "      <th>religious-groups</th>\n",
              "      <th>anti-satellite-ban</th>\n",
              "      <th>aid-to-contras</th>\n",
              "      <th>mx-missile</th>\n",
              "      <th>immigration</th>\n",
              "      <th>synfuels</th>\n",
              "      <th>education</th>\n",
              "      <th>right-to-sue</th>\n",
              "      <th>crime</th>\n",
              "      <th>duty-free</th>\n",
              "      <th>south-africa</th>\n",
              "    </tr>\n",
              "  </thead>\n",
              "  <tbody>\n",
              "    <tr>\n",
              "      <th>0</th>\n",
              "      <td>republican</td>\n",
              "      <td>0.0</td>\n",
              "      <td>1.0</td>\n",
              "      <td>0.0</td>\n",
              "      <td>1.0</td>\n",
              "      <td>1.0</td>\n",
              "      <td>1.0</td>\n",
              "      <td>0.0</td>\n",
              "      <td>0.0</td>\n",
              "      <td>0.0</td>\n",
              "      <td>1.0</td>\n",
              "      <td>NaN</td>\n",
              "      <td>1.0</td>\n",
              "      <td>1.0</td>\n",
              "      <td>1.0</td>\n",
              "      <td>0.0</td>\n",
              "      <td>1.0</td>\n",
              "    </tr>\n",
              "    <tr>\n",
              "      <th>1</th>\n",
              "      <td>republican</td>\n",
              "      <td>0.0</td>\n",
              "      <td>1.0</td>\n",
              "      <td>0.0</td>\n",
              "      <td>1.0</td>\n",
              "      <td>1.0</td>\n",
              "      <td>1.0</td>\n",
              "      <td>0.0</td>\n",
              "      <td>0.0</td>\n",
              "      <td>0.0</td>\n",
              "      <td>0.0</td>\n",
              "      <td>0.0</td>\n",
              "      <td>1.0</td>\n",
              "      <td>1.0</td>\n",
              "      <td>1.0</td>\n",
              "      <td>0.0</td>\n",
              "      <td>NaN</td>\n",
              "    </tr>\n",
              "    <tr>\n",
              "      <th>2</th>\n",
              "      <td>democrat</td>\n",
              "      <td>NaN</td>\n",
              "      <td>1.0</td>\n",
              "      <td>1.0</td>\n",
              "      <td>NaN</td>\n",
              "      <td>1.0</td>\n",
              "      <td>1.0</td>\n",
              "      <td>0.0</td>\n",
              "      <td>0.0</td>\n",
              "      <td>0.0</td>\n",
              "      <td>0.0</td>\n",
              "      <td>1.0</td>\n",
              "      <td>0.0</td>\n",
              "      <td>1.0</td>\n",
              "      <td>1.0</td>\n",
              "      <td>0.0</td>\n",
              "      <td>0.0</td>\n",
              "    </tr>\n",
              "    <tr>\n",
              "      <th>3</th>\n",
              "      <td>democrat</td>\n",
              "      <td>0.0</td>\n",
              "      <td>1.0</td>\n",
              "      <td>1.0</td>\n",
              "      <td>0.0</td>\n",
              "      <td>NaN</td>\n",
              "      <td>1.0</td>\n",
              "      <td>0.0</td>\n",
              "      <td>0.0</td>\n",
              "      <td>0.0</td>\n",
              "      <td>0.0</td>\n",
              "      <td>1.0</td>\n",
              "      <td>0.0</td>\n",
              "      <td>1.0</td>\n",
              "      <td>0.0</td>\n",
              "      <td>0.0</td>\n",
              "      <td>1.0</td>\n",
              "    </tr>\n",
              "    <tr>\n",
              "      <th>4</th>\n",
              "      <td>democrat</td>\n",
              "      <td>1.0</td>\n",
              "      <td>1.0</td>\n",
              "      <td>1.0</td>\n",
              "      <td>0.0</td>\n",
              "      <td>1.0</td>\n",
              "      <td>1.0</td>\n",
              "      <td>0.0</td>\n",
              "      <td>0.0</td>\n",
              "      <td>0.0</td>\n",
              "      <td>0.0</td>\n",
              "      <td>1.0</td>\n",
              "      <td>NaN</td>\n",
              "      <td>1.0</td>\n",
              "      <td>1.0</td>\n",
              "      <td>1.0</td>\n",
              "      <td>1.0</td>\n",
              "    </tr>\n",
              "  </tbody>\n",
              "</table>\n",
              "</div>"
            ],
            "text/plain": [
              "        party  handicapped-infants  ...  duty-free  south-africa\n",
              "0  republican                  0.0  ...        0.0           1.0\n",
              "1  republican                  0.0  ...        0.0           NaN\n",
              "2    democrat                  NaN  ...        0.0           0.0\n",
              "3    democrat                  0.0  ...        0.0           1.0\n",
              "4    democrat                  1.0  ...        1.0           1.0\n",
              "\n",
              "[5 rows x 17 columns]"
            ]
          },
          "metadata": {
            "tags": []
          },
          "execution_count": 30
        }
      ]
    },
    {
      "cell_type": "code",
      "metadata": {
        "id": "xHKkSYG792Mg",
        "colab_type": "code",
        "colab": {}
      },
      "source": [
        "dem = df[df['party'] == 'democrat']\n",
        "rep = df[df['party'] == 'republican']"
      ],
      "execution_count": 0,
      "outputs": []
    },
    {
      "cell_type": "markdown",
      "metadata": {
        "id": "f20v73e3RLAV",
        "colab_type": "text"
      },
      "source": [
        "### 2) Perform two sample T-tests on different issues and report the results.\n",
        "\n",
        "- Find an issue that democrats support more than republicans with p < 0.01 (significant at the 99% level).\n",
        "- Find an issue that republicans support more than democrats with p < 0.01 (significant at the 99% level).\n",
        "- Find an issue where the difference between republicans and democrats has p > 0.1 (Not significant at the 90% level - i.e. there may not be much of a difference the two sample means)\n",
        "\n",
        "Please for each test that you run state your null and alternative hypothesis and then write a conclusion reflecting on the null and alternative hypothesis.\n",
        "\n",
        "Remember, that two-sample t-tests will only tell us if the two groups are *different* from one another. We'll have to look at their sample means directly or use the sign on the t-statistic to know which of the two sample means is larger. "
      ]
    },
    {
      "cell_type": "code",
      "metadata": {
        "id": "bCE3UgpbP69p",
        "colab_type": "code",
        "colab": {}
      },
      "source": [
        "### YOUR WORK HERE\n"
      ],
      "execution_count": 0,
      "outputs": []
    },
    {
      "cell_type": "markdown",
      "metadata": {
        "id": "Syoom4F3Fq3d",
        "colab_type": "text"
      },
      "source": [
        "Null Hypothesis: the two sample means are equal. Republican support this bill (immigration) at the same rate that Democrats do.\n",
        "\n",
        "Alternative Hypothesis: They support this bill at different rates\n",
        "\n",
        "Confidence Level: 95%"
      ]
    },
    {
      "cell_type": "code",
      "metadata": {
        "id": "oDw8ZOIPBfDH",
        "colab_type": "code",
        "outputId": "812b7887-0d68-43c1-86d3-70f96a17ee44",
        "colab": {
          "base_uri": "https://localhost:8080/",
          "height": 35
        }
      },
      "source": [
        "stats.ttest_ind(rep['right-to-sue'], dem['right-to-sue'], nan_policy='omit')"
      ],
      "execution_count": 0,
      "outputs": [
        {
          "output_type": "execute_result",
          "data": {
            "text/plain": [
              "Ttest_indResult(statistic=13.51064251060933, pvalue=1.2278581709672758e-34)"
            ]
          },
          "metadata": {
            "tags": []
          },
          "execution_count": 40
        }
      ]
    },
    {
      "cell_type": "markdown",
      "metadata": {
        "id": "9Ju-wyO3F5jq",
        "colab_type": "text"
      },
      "source": [
        "Conclusion:\n",
        "\n",
        "Based on a t-statistic of 13.5, and a p-value of 0, we reject the null hypothesis that republicans and democrats support this bill at the same rate, and suggest the alternative, that republicans and democrats show different levels of support for this bill."
      ]
    },
    {
      "cell_type": "code",
      "metadata": {
        "id": "romGRE9DB89y",
        "colab_type": "code",
        "outputId": "cafb5a7b-515b-4c51-995c-8081ed014ab3",
        "colab": {
          "base_uri": "https://localhost:8080/",
          "height": 52
        }
      },
      "source": [
        "print(rep['right-to-sue'].mean())\n",
        "print(dem['right-to-sue'].mean())"
      ],
      "execution_count": 0,
      "outputs": [
        {
          "output_type": "stream",
          "text": [
            "0.8709677419354839\n",
            "0.14457831325301204\n"
          ],
          "name": "stdout"
        }
      ]
    },
    {
      "cell_type": "code",
      "metadata": {
        "id": "jUy7mATYBqEx",
        "colab_type": "code",
        "colab": {}
      },
      "source": [
        ""
      ],
      "execution_count": 0,
      "outputs": []
    },
    {
      "cell_type": "markdown",
      "metadata": {
        "id": "ZOCwyJ31FRu3",
        "colab_type": "text"
      },
      "source": [
        "Null Hypothesis: the two sample means are equal. Republican support this bill (budget) at the same rate that Democrats do.\n",
        "\n",
        "Alternative Hypothesis: They support this bill at different rates\n",
        "\n",
        "Confidence Level: 95%"
      ]
    },
    {
      "cell_type": "code",
      "metadata": {
        "id": "SuY8bmjlFW0d",
        "colab_type": "code",
        "outputId": "f58add42-0de1-416d-a6e4-00b240119f02",
        "colab": {
          "base_uri": "https://localhost:8080/",
          "height": 35
        }
      },
      "source": [
        "stats.ttest_ind(rep['budget'], dem['budget'], nan_policy='omit')"
      ],
      "execution_count": 0,
      "outputs": [
        {
          "output_type": "execute_result",
          "data": {
            "text/plain": [
              "Ttest_indResult(statistic=-23.21277691701378, pvalue=2.0703402795404463e-77)"
            ]
          },
          "metadata": {
            "tags": []
          },
          "execution_count": 46
        }
      ]
    },
    {
      "cell_type": "markdown",
      "metadata": {
        "id": "fP9rSdyrGBsZ",
        "colab_type": "text"
      },
      "source": [
        "Conclusion:\n",
        "\n",
        "Based on a t-statistic of -23.2, and a p-value of 0, we reject the null hypothesis that republicans and democrats support this bill at the same rate, and suggest the alternative, that republicans and democrats show different levels of support for this bill."
      ]
    },
    {
      "cell_type": "code",
      "metadata": {
        "id": "uQOvkm1HEssd",
        "colab_type": "code",
        "outputId": "da5e2a95-7d5e-45fd-b5cd-04d22cd1c87a",
        "colab": {
          "base_uri": "https://localhost:8080/",
          "height": 52
        }
      },
      "source": [
        "print(rep['budget'].mean())\n",
        "print(dem['budget'].mean())"
      ],
      "execution_count": 0,
      "outputs": [
        {
          "output_type": "stream",
          "text": [
            "0.13414634146341464\n",
            "0.8884615384615384\n"
          ],
          "name": "stdout"
        }
      ]
    },
    {
      "cell_type": "markdown",
      "metadata": {
        "id": "C5pkmOuKgK9Y",
        "colab_type": "text"
      },
      "source": [
        "## Stretch Goals:\n",
        "\n",
        "### 1) Use functions and some iterator (for loop, .apply(), list comprehension, etc.) to perform two sample t-tests on every issue in the dataset in an automated fashion."
      ]
    },
    {
      "cell_type": "code",
      "metadata": {
        "id": "z7c7K322gLeN",
        "colab_type": "code",
        "colab": {}
      },
      "source": [
        "### YOUR WORK HERE"
      ],
      "execution_count": 0,
      "outputs": []
    },
    {
      "cell_type": "markdown",
      "metadata": {
        "id": "wcA_AvvRAqW_",
        "colab_type": "text"
      },
      "source": [
        "\n",
        "\n",
        "### 2) Work on Performing a T-test without using Scipy in order to get \"under the hood\" and learn more thoroughly about this topic.\n",
        "### Start with a 1-sample t-test\n",
        " - Establish the conditions for your test \n",
        " - [Calculate the T Statistic](https://blog.minitab.com/hs-fs/hubfs/Imported_Blog_Media/701f9c0efa98a38fb397f3c3ec459b66.png?width=247&height=172&name=701f9c0efa98a38fb397f3c3ec459b66.png) (You'll need to omit NaN values from your sample).\n",
        " - Translate that t-statistic into a P-value. You can use a [table](https://www.google.com/search?q=t+statistic+table) or the [University of Iowa Applet](https://homepage.divms.uiowa.edu/~mbognar/applets/t.html)\n",
        "\n",
        "### Be sure to check your work using Scipy!\n",
        "\n",
        "\n",
        "\n"
      ]
    },
    {
      "cell_type": "code",
      "metadata": {
        "id": "3pdMy-KoPjoM",
        "colab_type": "code",
        "colab": {}
      },
      "source": [
        "### YOUR WORK HERE"
      ],
      "execution_count": 0,
      "outputs": []
    },
    {
      "cell_type": "markdown",
      "metadata": {
        "id": "3114xDdlPjFx",
        "colab_type": "text"
      },
      "source": [
        "### 3) Then try a 2-sample t-test\n",
        " - Establish the conditions for your test \n",
        " - [Calculate the T Statistic](https://lh3.googleusercontent.com/proxy/rJJ5ZOL9ZDvKOOeBihXoZDgfk7uv1YsRzSQ1Tc10RX-r2HrRpRLVqlE9CWX23csYQXcTniFwlBg3H-qR8MKJPBGnjwndqlhDX3JxoDE5Yg) (You'll need to omit NaN values from your sample).\n",
        " - Translate that t-statistic into a P-value. You can use a [table](https://www.google.com/search?q=t+statistic+table) or the [University of Iowa Applet](https://homepage.divms.uiowa.edu/~mbognar/applets/t.html)\n",
        "\n",
        " ### Be sure to check your work using Scipy!"
      ]
    },
    {
      "cell_type": "code",
      "metadata": {
        "id": "dPmXOHh1Cfea",
        "colab_type": "code",
        "colab": {}
      },
      "source": [
        "### YOUR WORK HERE"
      ],
      "execution_count": 0,
      "outputs": []
    }
  ]
}
