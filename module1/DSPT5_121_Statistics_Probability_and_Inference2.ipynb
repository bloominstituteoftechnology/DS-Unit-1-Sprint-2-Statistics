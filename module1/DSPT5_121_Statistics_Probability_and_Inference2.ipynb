{
  "nbformat": 4,
  "nbformat_minor": 0,
  "metadata": {
    "colab": {
      "name": "DSPT5_121_Statistics_Probability_and_Inference2.ipynb",
      "provenance": [],
      "include_colab_link": true
    },
    "kernelspec": {
      "display_name": "Python 3",
      "language": "python",
      "name": "python3"
    },
    "language_info": {
      "codemirror_mode": {
        "name": "ipython",
        "version": 3
      },
      "file_extension": ".py",
      "mimetype": "text/x-python",
      "name": "python",
      "nbconvert_exporter": "python",
      "pygments_lexer": "ipython3",
      "version": "3.7.3"
    }
  },
  "cells": [
    {
      "cell_type": "markdown",
      "metadata": {
        "id": "view-in-github",
        "colab_type": "text"
      },
      "source": [
        "<a href=\"https://colab.research.google.com/github/jiobu1/DS-Unit-1-Sprint-2-Statistics/blob/master/module1/DSPT5_121_Statistics_Probability_and_Inference2.ipynb\" target=\"_parent\"><img src=\"https://colab.research.google.com/assets/colab-badge.svg\" alt=\"Open In Colab\"/></a>"
      ]
    },
    {
      "cell_type": "markdown",
      "metadata": {
        "colab_type": "text",
        "id": "eJGtmni-DezY"
      },
      "source": [
        "<img align=\"left\" src=\"https://lever-client-logos.s3.amazonaws.com/864372b1-534c-480e-acd5-9711f850815c-1524247202159.png\" width=200>\n",
        "\n",
        "<br></br>\n",
        "<br></br>\n",
        "\n",
        "## *Data Science Unit 1 Sprint 2 Lesson 1*\n",
        "\n",
        "# Statistics, Probability and Inference\n",
        "\n",
        "## Learning Objectives\n",
        "* [Part 1](#p1): Normal Distribution Revisted\n",
        "* [Part 2](#p2): Student's T Test\n",
        "* [Part 3](#p3): Hypothesis Test & Doing it Live"
      ]
    },
    {
      "cell_type": "markdown",
      "metadata": {
        "colab_type": "text",
        "id": "WOXkk77hbeP5"
      },
      "source": [
        "## What is Descriptive Statistics?\n",
        "\n",
        "<https://statistics.laerd.com/statistical-guides/descriptive-inferential-statistics.php>"
      ]
    },
    {
      "cell_type": "code",
      "metadata": {
        "colab_type": "code",
        "id": "aGsGGy4Mb9IG",
        "outputId": "6b72f8d0-b015-492a-d9f9-40721a4d1ab6",
        "colab": {
          "base_uri": "https://localhost:8080/",
          "height": 204
        }
      },
      "source": [
        "# import\n",
        "import pandas as pd\n",
        "df = pd.DataFrame({'a':[1,2,3,4,5], 'b':[2,5,7,3,5]})\n",
        "df.head()"
      ],
      "execution_count": 1,
      "outputs": [
        {
          "output_type": "execute_result",
          "data": {
            "text/html": [
              "<div>\n",
              "<style scoped>\n",
              "    .dataframe tbody tr th:only-of-type {\n",
              "        vertical-align: middle;\n",
              "    }\n",
              "\n",
              "    .dataframe tbody tr th {\n",
              "        vertical-align: top;\n",
              "    }\n",
              "\n",
              "    .dataframe thead th {\n",
              "        text-align: right;\n",
              "    }\n",
              "</style>\n",
              "<table border=\"1\" class=\"dataframe\">\n",
              "  <thead>\n",
              "    <tr style=\"text-align: right;\">\n",
              "      <th></th>\n",
              "      <th>a</th>\n",
              "      <th>b</th>\n",
              "    </tr>\n",
              "  </thead>\n",
              "  <tbody>\n",
              "    <tr>\n",
              "      <th>0</th>\n",
              "      <td>1</td>\n",
              "      <td>2</td>\n",
              "    </tr>\n",
              "    <tr>\n",
              "      <th>1</th>\n",
              "      <td>2</td>\n",
              "      <td>5</td>\n",
              "    </tr>\n",
              "    <tr>\n",
              "      <th>2</th>\n",
              "      <td>3</td>\n",
              "      <td>7</td>\n",
              "    </tr>\n",
              "    <tr>\n",
              "      <th>3</th>\n",
              "      <td>4</td>\n",
              "      <td>3</td>\n",
              "    </tr>\n",
              "    <tr>\n",
              "      <th>4</th>\n",
              "      <td>5</td>\n",
              "      <td>5</td>\n",
              "    </tr>\n",
              "  </tbody>\n",
              "</table>\n",
              "</div>"
            ],
            "text/plain": [
              "   a  b\n",
              "0  1  2\n",
              "1  2  5\n",
              "2  3  7\n",
              "3  4  3\n",
              "4  5  5"
            ]
          },
          "metadata": {
            "tags": []
          },
          "execution_count": 1
        }
      ]
    },
    {
      "cell_type": "code",
      "metadata": {
        "colab_type": "code",
        "id": "K-73WFB5cI1_",
        "outputId": "6b698a62-f4aa-49ac-acb1-a9e9a2f7bea2",
        "colab": {
          "base_uri": "https://localhost:8080/",
          "height": 297
        }
      },
      "source": [
        "# How can we quickly look at some descriptive statistics of the above dataframe?\n",
        "df.describe()"
      ],
      "execution_count": 2,
      "outputs": [
        {
          "output_type": "execute_result",
          "data": {
            "text/html": [
              "<div>\n",
              "<style scoped>\n",
              "    .dataframe tbody tr th:only-of-type {\n",
              "        vertical-align: middle;\n",
              "    }\n",
              "\n",
              "    .dataframe tbody tr th {\n",
              "        vertical-align: top;\n",
              "    }\n",
              "\n",
              "    .dataframe thead th {\n",
              "        text-align: right;\n",
              "    }\n",
              "</style>\n",
              "<table border=\"1\" class=\"dataframe\">\n",
              "  <thead>\n",
              "    <tr style=\"text-align: right;\">\n",
              "      <th></th>\n",
              "      <th>a</th>\n",
              "      <th>b</th>\n",
              "    </tr>\n",
              "  </thead>\n",
              "  <tbody>\n",
              "    <tr>\n",
              "      <th>count</th>\n",
              "      <td>5.000000</td>\n",
              "      <td>5.000000</td>\n",
              "    </tr>\n",
              "    <tr>\n",
              "      <th>mean</th>\n",
              "      <td>3.000000</td>\n",
              "      <td>4.400000</td>\n",
              "    </tr>\n",
              "    <tr>\n",
              "      <th>std</th>\n",
              "      <td>1.581139</td>\n",
              "      <td>1.949359</td>\n",
              "    </tr>\n",
              "    <tr>\n",
              "      <th>min</th>\n",
              "      <td>1.000000</td>\n",
              "      <td>2.000000</td>\n",
              "    </tr>\n",
              "    <tr>\n",
              "      <th>25%</th>\n",
              "      <td>2.000000</td>\n",
              "      <td>3.000000</td>\n",
              "    </tr>\n",
              "    <tr>\n",
              "      <th>50%</th>\n",
              "      <td>3.000000</td>\n",
              "      <td>5.000000</td>\n",
              "    </tr>\n",
              "    <tr>\n",
              "      <th>75%</th>\n",
              "      <td>4.000000</td>\n",
              "      <td>5.000000</td>\n",
              "    </tr>\n",
              "    <tr>\n",
              "      <th>max</th>\n",
              "      <td>5.000000</td>\n",
              "      <td>7.000000</td>\n",
              "    </tr>\n",
              "  </tbody>\n",
              "</table>\n",
              "</div>"
            ],
            "text/plain": [
              "              a         b\n",
              "count  5.000000  5.000000\n",
              "mean   3.000000  4.400000\n",
              "std    1.581139  1.949359\n",
              "min    1.000000  2.000000\n",
              "25%    2.000000  3.000000\n",
              "50%    3.000000  5.000000\n",
              "75%    4.000000  5.000000\n",
              "max    5.000000  7.000000"
            ]
          },
          "metadata": {
            "tags": []
          },
          "execution_count": 2
        }
      ]
    },
    {
      "cell_type": "markdown",
      "metadata": {
        "colab_type": "text",
        "id": "MOkBDGsWbMRc"
      },
      "source": [
        "## Normal Distribution Revisited\n",
        "\n",
        "What is the Normal distribution: A probability distribution of a continuous real valued random-variable. The Normal distribution properties make it useful for the *Central Limit Theorm*, because if we assume a variable follows the normal distribution, we can make certain conclusions based on probabilities."
      ]
    },
    {
      "cell_type": "code",
      "metadata": {
        "colab_type": "code",
        "id": "BYlq8EYKbMRd",
        "colab": {}
      },
      "source": [
        "# create some artificial data\n",
        "import numpy as np\n",
        "# mean\n",
        "mu = 0\n",
        "# std dev\n",
        "sigma = 1\n",
        "sample = np.random.normal(mu, sigma, 1000)"
      ],
      "execution_count": 0,
      "outputs": []
    },
    {
      "cell_type": "code",
      "metadata": {
        "colab_type": "code",
        "id": "GbVV3_TsbMRn",
        "outputId": "1dd44cb8-7230-4faa-d4f7-735651d4f17e",
        "colab": {
          "base_uri": "https://localhost:8080/",
          "height": 265
        }
      },
      "source": [
        "# plot this using seaborn\n",
        "import seaborn as sns\n",
        "\n",
        "ax = sns.distplot(sample, color='r')\n",
        "ax.axvline(np.percentile(sample,97.5),0)\n",
        "ax.axvline(np.percentile(sample,2.5),0);"
      ],
      "execution_count": 4,
      "outputs": [
        {
          "output_type": "display_data",
          "data": {
            "image/png": "[encoded data removed]",
            "text/plain": [
              "<Figure size 432x288 with 1 Axes>"
            ]
          },
          "metadata": {
            "tags": []
          }
        }
      ]
    },
    {
      "cell_type": "markdown",
      "metadata": {
        "colab_type": "text",
        "id": "D3ZwR9tDc-KX"
      },
      "source": [
        "![The Normal Distribution](https://upload.wikimedia.org/wikipedia/commons/thumb/a/a9/Empirical_Rule.PNG/350px-Empirical_Rule.png)"
      ]
    },
    {
      "cell_type": "markdown",
      "metadata": {
        "colab_type": "text",
        "id": "wtobOQescQU6"
      },
      "source": [
        "## What is Inferential Statistics?"
      ]
    },
    {
      "cell_type": "markdown",
      "metadata": {
        "id": "AliWyLfVFqVv",
        "colab_type": "text"
      },
      "source": [
        "![stats](https://slideplayer.com/slide/5130463/16/images/2/Statistical+Inference.jpg)"
      ]
    },
    {
      "cell_type": "markdown",
      "metadata": {
        "id": "xow9ePJDFqVx",
        "colab_type": "text"
      },
      "source": [
        "When we talk about the **population parameters**: we use $\\mu$ and $\\sigma$ for mean and standard deviation\n",
        "\n",
        "When we talk about the sample **sample statistics**: we use $\\bar{x}$ and s\n",
        "\n",
        "    \n"
      ]
    },
    {
      "cell_type": "markdown",
      "metadata": {
        "colab_type": "text",
        "id": "zsb1KMUSc2xe"
      },
      "source": [
        "## Hypothesis Testing (T-Tests)"
      ]
    },
    {
      "cell_type": "markdown",
      "metadata": {
        "id": "MBISJ2veFqVz",
        "colab_type": "text"
      },
      "source": [
        "What is A/B testing?  \n",
        "https://www.convertize.com/what-is-ab-testing/   \n",
        "https://blog.hubspot.com/blog/tabid/6307/bid/20566/the-button-color-a-b-test-red-beats-green.aspx"
      ]
    },
    {
      "cell_type": "markdown",
      "metadata": {
        "id": "mP97337SFqV1",
        "colab_type": "text"
      },
      "source": [
        "#### 3 types of t-tests"
      ]
    },
    {
      "cell_type": "markdown",
      "metadata": {
        "id": "OxdFOPTVFqV2",
        "colab_type": "text"
      },
      "source": [
        "There are three main types of t-test:  \n",
        "-- An Independent Samples t-test compares the means for two groups.  \n",
        "-- A Paired sample t-test compares means from the same group at different times.  \n",
        "-- A One sample t-test tests the mean of a single group against a known mean."
      ]
    },
    {
      "cell_type": "markdown",
      "metadata": {
        "id": "0BniqVbXFqV3",
        "colab_type": "text"
      },
      "source": [
        "#### T-Test Assumptions:  \n",
        "1. the scale of measurement applied to the data collected follows a continuous or ordinal scale, such as the scores for an IQ test.  \n",
        "2. the data is collected from a representative, randomly selected portion of the total population.  \n",
        "3. the data, when plotted, results in a normal distribution, bell-shaped distribution curve.  \n",
        "4. a reasonably large sample size is used. A larger sample size means the distribution of results should approach a normal bell-shaped curve.  \n",
        "5. homogeneity of variance. Homogeneous, or equal, variance exists when the standard deviations of samples are approximately equal.  "
      ]
    },
    {
      "cell_type": "code",
      "metadata": {
        "id": "BpuEBNvJFqV4",
        "colab_type": "code",
        "colab": {}
      },
      "source": [
        "#### Example: sample data -- number of \"conversions\" between two versions of a website, over 10 days\n",
        "a=[1136, 1178, 1212, 1193, 1226, 1154, 1230, 1222, 1161, 1148]\n",
        "b=[1184, 1203, 1219, 1238, 1243, 1204, 1269, 1256, 1156, 1248]"
      ],
      "execution_count": 0,
      "outputs": []
    },
    {
      "cell_type": "code",
      "metadata": {
        "id": "x_Yw6u_0FqV8",
        "colab_type": "code",
        "outputId": "55aa554c-0e77-4ec7-e9ce-3b236fb7aab7",
        "colab": {
          "base_uri": "https://localhost:8080/",
          "height": 68
        }
      },
      "source": [
        "# It looks like B produces more conversions!\n",
        "print(np.mean(a))\n",
        "print(np.mean(b))\n",
        "np.mean(a) - np.mean(b)"
      ],
      "execution_count": 6,
      "outputs": [
        {
          "output_type": "stream",
          "text": [
            "1186.0\n",
            "1222.0\n"
          ],
          "name": "stdout"
        },
        {
          "output_type": "execute_result",
          "data": {
            "text/plain": [
              "-36.0"
            ]
          },
          "metadata": {
            "tags": []
          },
          "execution_count": 6
        }
      ]
    },
    {
      "cell_type": "markdown",
      "metadata": {
        "id": "1VOCnL4KFqV_",
        "colab_type": "text"
      },
      "source": [
        "#### Generate a hypothesis\n",
        "Null hypothesis: website A has the same average conversion rate as website B   \n",
        "Alternative hypothesis (1-tailed): website A has lower/higher average conversion rate than website B   \n",
        "Alternative hypothesis (2-tailed): website A has different average conversion rate than website B "
      ]
    },
    {
      "cell_type": "code",
      "metadata": {
        "id": "ZVXnBBXIFqWA",
        "colab_type": "code",
        "colab": {}
      },
      "source": [
        "# import\n",
        "from scipy.stats import ttest_ind\n",
        "# compares two groups means"
      ],
      "execution_count": 0,
      "outputs": []
    },
    {
      "cell_type": "code",
      "metadata": {
        "id": "QnmRpJT3SxMw",
        "colab_type": "code",
        "colab": {
          "base_uri": "https://localhost:8080/",
          "height": 34
        },
        "outputId": "ac85607e-3383-41b2-b229-5875fe490a2c"
      },
      "source": [
        "#let's run a t-test\n",
        "ttest_ind(a, b).pvalue # one-tailed "
      ],
      "execution_count": 9,
      "outputs": [
        {
          "output_type": "execute_result",
          "data": {
            "text/plain": [
              "0.03504505626727664"
            ]
          },
          "metadata": {
            "tags": []
          },
          "execution_count": 9
        }
      ]
    },
    {
      "cell_type": "markdown",
      "metadata": {
        "id": "MqDR-YTMS2oO",
        "colab_type": "text"
      },
      "source": [
        "statistic = tstat\n",
        "\n",
        "pvalue = 0.03504505626727664\n",
        "\n",
        "Very unlikely that in the population as a whole there is no difference between website users A and website users B. We can reject the null hypothesis. The assumption is that the users of either are different. "
      ]
    },
    {
      "cell_type": "code",
      "metadata": {
        "id": "f24Qy3TdTRdD",
        "colab_type": "code",
        "colab": {
          "base_uri": "https://localhost:8080/",
          "height": 34
        },
        "outputId": "40f09874-a6d0-4fb3-b02b-58b9f5965ec5"
      },
      "source": [
        "ttest_ind(a, b).pvalue/2 # two-tailed (left or right = do not know where it falls)"
      ],
      "execution_count": 10,
      "outputs": [
        {
          "output_type": "execute_result",
          "data": {
            "text/plain": [
              "0.01752252813363832"
            ]
          },
          "metadata": {
            "tags": []
          },
          "execution_count": 10
        }
      ]
    },
    {
      "cell_type": "code",
      "metadata": {
        "id": "7xAxDw16FqWD",
        "colab_type": "code",
        "colab": {
          "base_uri": "https://localhost:8080/",
          "height": 34
        },
        "outputId": "69cb8672-3528-48d1-b435-95c288e98d73"
      },
      "source": [
        "# compare\n",
        "ttest_ind(a, b).pvalue < 0.05"
      ],
      "execution_count": 12,
      "outputs": [
        {
          "output_type": "execute_result",
          "data": {
            "text/plain": [
              "True"
            ]
          },
          "metadata": {
            "tags": []
          },
          "execution_count": 12
        }
      ]
    },
    {
      "cell_type": "code",
      "metadata": {
        "id": "WbC9PDyoFqWG",
        "colab_type": "code",
        "colab": {}
      },
      "source": [
        "# interpret the p-value\n",
        "# 95% confidence interval (alpha = .05)\n",
        "# 99% confidence interval (alpha = .01)\n",
        "# 99.9% confidence interval (alpha = .001)"
      ],
      "execution_count": 0,
      "outputs": []
    },
    {
      "cell_type": "code",
      "metadata": {
        "id": "jAQTEqRNFqWJ",
        "colab_type": "code",
        "colab": {
          "base_uri": "https://localhost:8080/",
          "height": 34
        },
        "outputId": "10a08749-c301-404b-8854-48cfeff98b42"
      },
      "source": [
        "# what about the t-statistic?\n",
        "ttest_ind(a, b).statistic"
      ],
      "execution_count": 13,
      "outputs": [
        {
          "output_type": "execute_result",
          "data": {
            "text/plain": [
              "-2.2795770510504845"
            ]
          },
          "metadata": {
            "tags": []
          },
          "execution_count": 13
        }
      ]
    },
    {
      "cell_type": "markdown",
      "metadata": {
        "id": "rwuRZ4DmFqWP",
        "colab_type": "text"
      },
      "source": [
        "![tstat](https://blog.minitab.com/hubfs/Imported_Blog_Media/formula_1t.png)"
      ]
    },
    {
      "cell_type": "markdown",
      "metadata": {
        "id": "zm5vTgyWFqWQ",
        "colab_type": "text"
      },
      "source": [
        "A common analogy is that the t-value is the signal-to-noise ratio.   \n",
        "**The numerator is the signal.** You simply take the sample mean and subtract the null hypothesis value. As the difference between the sample mean and the null hypothesis mean increases in either the positive or negative direction, the strength of the signal increases.  \n",
        "**The denominator is the noise.** The equation in the denominator is a measure of variability known as the standard error of the mean. This statistic indicates how accurately your sample estimates the mean of the population. A larger number indicates that your sample estimate is less precise because it has more random error.  \n",
        "**Both the signal and noise values are in the units of your data.** If your signal is 6 and the noise is 2, your t-value is 3. This t-value indicates that the difference is 3 times the size of the standard error. However, if there is a difference of the same size but your data have more variability (6), your t-value is only 1. The signal is at the same scale as the noise.  \n",
        "https://blog.minitab.com/blog/adventures-in-statistics-2/understanding-t-tests-1-sample-2-sample-and-paired-t-tests"
      ]
    },
    {
      "cell_type": "markdown",
      "metadata": {
        "id": "oE4_XMmJFqWQ",
        "colab_type": "text"
      },
      "source": [
        "#### Another example: pancakes"
      ]
    },
    {
      "cell_type": "markdown",
      "metadata": {
        "colab_type": "text",
        "id": "cOnNrJembf5c"
      },
      "source": [
        "\n",
        "\n",
        "Ever thought about how long it takes to make a pancake? Have you ever compared the tooking time of a pancake on each eye of your stove? Is the cooking time different between the different eyes? Now, we can run an experiment and collect a sample of 1,000 pancakes on one eye and another 800 pancakes on the other eye. Assumed we used the same pan, batter, and technique on both eyes. Our average cooking times were 180 (5 std) and 178.5 (4.25 std) seconds repsectively. Now, we can tell those numbers are not identicial, but how confident are we that those numbers are practically the same? How do we know the slight difference isn't caused by some external randomness?\n",
        "\n",
        "Yes, today's lesson will help you figure out how long to cook your pancakes (*theoretically*). Experimentation is up to you; otherwise, you have to accept my data as true. How are going to accomplish this? With probability, statistics, inference and maple syrup (optional). \n",
        "\n",
        "<img src=\"https://images.unsplash.com/photo-1541288097308-7b8e3f58c4c6?ixlib=rb-1.2.1&ixid=eyJhcHBfaWQiOjEyMDd9&auto=format&fit=crop&w=3300&q=80\" width=400>\n",
        "\n"
      ]
    },
    {
      "cell_type": "markdown",
      "metadata": {
        "id": "HXuGX432FqWT",
        "colab_type": "text"
      },
      "source": [
        "#### Our first 2-sample t-test (pancake example)\n",
        "1) Null Hypothesis: (boring hypothesis)\n",
        "\n",
        "𝑥¯1==𝑥¯2 \n",
        "\n",
        "Or that the average cooking time between the two burners is the same.\n",
        "\n",
        "2) Alternative Hypothesis: (the opposite of the null)\n",
        "\n",
        "𝑥¯1≠𝑥¯2 \n",
        "\n",
        "𝑥¯1−𝑥¯2≠0 \n",
        "3) Confidence Level: The probability of seing a true result in spite of random variability. (How often do I want to make sure that I'm right.) Typically: 95%, 99%, 99.9%"
      ]
    },
    {
      "cell_type": "code",
      "metadata": {
        "id": "B0zfDVY_FqWU",
        "colab_type": "code",
        "colab": {}
      },
      "source": [
        "# import \n",
        "from scipy.stats import ttest_ind"
      ],
      "execution_count": 0,
      "outputs": []
    },
    {
      "cell_type": "code",
      "metadata": {
        "id": "Ywz9a5HtFqWX",
        "colab_type": "code",
        "colab": {
          "base_uri": "https://localhost:8080/",
          "height": 51
        },
        "outputId": "02d84cc4-55cc-4cd8-b16d-f191d0c40fbb"
      },
      "source": [
        "# sample 1\n",
        "mu1 = 180 # sample mean\n",
        "sigma1 = 5 # standard deviation\n",
        "\n",
        "sample1 = np.random.normal(mu1, sigma1, 1000)\n",
        "sample1[:5]"
      ],
      "execution_count": 17,
      "outputs": [
        {
          "output_type": "execute_result",
          "data": {
            "text/plain": [
              "array([173.70440197, 168.99561441, 175.17200858, 185.94122135,\n",
              "       180.95137753])"
            ]
          },
          "metadata": {
            "tags": []
          },
          "execution_count": 17
        }
      ]
    },
    {
      "cell_type": "code",
      "metadata": {
        "id": "YXHvvmvyFqWZ",
        "colab_type": "code",
        "colab": {
          "base_uri": "https://localhost:8080/",
          "height": 51
        },
        "outputId": "52028bc2-84cb-4c2b-84bc-1f4f31e03d05"
      },
      "source": [
        "# sample 2\n",
        "mu2 = 178.5 # sample mean\n",
        "sigma2 = 4.25 # standard deviation\n",
        "\n",
        "sample2 = np.random.normal(mu2, sigma2, 800)\n",
        "sample2[:5]"
      ],
      "execution_count": 18,
      "outputs": [
        {
          "output_type": "execute_result",
          "data": {
            "text/plain": [
              "array([187.17858525, 182.43961277, 172.05806367, 174.06714641,\n",
              "       167.31080657])"
            ]
          },
          "metadata": {
            "tags": []
          },
          "execution_count": 18
        }
      ]
    },
    {
      "cell_type": "code",
      "metadata": {
        "id": "W_LPdwEwFqWc",
        "colab_type": "code",
        "colab": {
          "base_uri": "https://localhost:8080/",
          "height": 34
        },
        "outputId": "434d043a-35fc-4b69-e723-e55343cad299"
      },
      "source": [
        "# compare\n",
        "results = ttest_ind(sample1, sample2)\n",
        "results"
      ],
      "execution_count": 19,
      "outputs": [
        {
          "output_type": "execute_result",
          "data": {
            "text/plain": [
              "Ttest_indResult(statistic=5.504701717472445, pvalue=4.230306693818312e-08)"
            ]
          },
          "metadata": {
            "tags": []
          },
          "execution_count": 19
        }
      ]
    },
    {
      "cell_type": "code",
      "metadata": {
        "id": "XtvjDw8fFqWg",
        "colab_type": "code",
        "colab": {
          "base_uri": "https://localhost:8080/",
          "height": 34
        },
        "outputId": "87356e3b-2d42-4622-83e2-1f2147be81f4"
      },
      "source": [
        "# what is the p-value?\n",
        "print('{:.15f}'.format(results[1]))"
      ],
      "execution_count": 21,
      "outputs": [
        {
          "output_type": "stream",
          "text": [
            "0.000000042303067\n"
          ],
          "name": "stdout"
        }
      ]
    },
    {
      "cell_type": "code",
      "metadata": {
        "id": "RavYG752Ya82",
        "colab_type": "code",
        "colab": {
          "base_uri": "https://localhost:8080/",
          "height": 34
        },
        "outputId": "4a959702-ce37-4755-de7b-7b397c9b3f52"
      },
      "source": [
        "#two-tailed\n",
        "#have to look at the mean\n",
        "print('{:.15f}'.format(results[1]/2))"
      ],
      "execution_count": 22,
      "outputs": [
        {
          "output_type": "stream",
          "text": [
            "0.000000021151533\n"
          ],
          "name": "stdout"
        }
      ]
    },
    {
      "cell_type": "markdown",
      "metadata": {
        "id": "93CvUrcaFqWj",
        "colab_type": "text"
      },
      "source": [
        "4) T Statistic: A value that falls along a t-distribution.\n",
        "\n",
        "A vertical bar that falls on our t-distribution\n",
        "5) P-value: The p-value that we're interested in is (1-Confidence Level) or in our case: .05\n",
        "\n",
        "The probability of getting this test result (t-statistic) due to random chance.\n",
        "\n",
        "The probability of our null hypothesis being true.\n",
        "\n",
        "6) Conclusions:\n",
        "\n",
        "Due to observing a t-statistic of 8.9 and a resulting p-value of .00000000000000000109, we reject the null hypothesis that the cooking times of these two burners is the same, and suggest the alternative hypothesis, that they are different.\n",
        "\n",
        "(Because our p-value was less than .05, we reject the null hypothesis)."
      ]
    },
    {
      "cell_type": "markdown",
      "metadata": {
        "colab_type": "text",
        "id": "5BvYLMjadAnu"
      },
      "source": [
        "# Why do we use the t-distribution in hypothesis tests?\n",
        "\n",
        "![t-distribution-low-dof](https://lambdachops.com/img/t-distribution-low-dof.png)\n",
        "\n",
        "![t-distribution-approximates-normal](https://github.com/ryanallredblog/ryanallredblog.github.io/blob/master/img/t-distribution-approximates-normal.png?raw=true)\n",
        "\n",
        "### Helpful video on why we use the t-distribution\n",
        "\n",
        "<https://www.youtube.com/watch?v=Uv6nGIgZMVw>\n",
        "\n",
        "However, in order to understand it you'll need to understand what a z-score is:\n",
        "\n",
        "A z-score calculates the number of standard deviations an observations lies from the population mean. The problem is that in real-world situations, we don't know what the sample mean is, so we have to turn to using the sample mean to estimate the population mean. Because the sample mean is generated from a sample and used to estimate the population mean with some level of uncertainty, it also has its own distribution a nd spread. This means that for low sample sizes both our estimates of the sample mean and sample population are not very precise, they're kind of spread out. It's this spread that makes the t-distribution wider than the normal distribution for low sample sizes. However, with the larger the sample size, the closer the t-distribution approximates the normal distribution.\n"
      ]
    },
    {
      "cell_type": "markdown",
      "metadata": {
        "colab_type": "text",
        "id": "FMhDKOFND0qY"
      },
      "source": [
        "## Student's T Test\n",
        "\n",
        ">Assuming data come from a Normal distribution, the t test provides a way to test whether the sample mean (that is the mean calculated from the data) is a good estimate of the population mean. \n",
        "\n",
        "The derivation of the t-distribution was first published in 1908 by William Gosset while working for the Guinness Brewery in Dublin. Due to proprietary issues, he had to publish under a pseudonym, and so he used the name Student.\n",
        "\n",
        "The t-distribution is essentially a distribution of means of normaly distributed data. When we use a t-statistic, we are  checking that a mean fails within a certain $\\alpha$ probability of the mean of means."
      ]
    },
    {
      "cell_type": "code",
      "metadata": {
        "colab_type": "code",
        "id": "fQ9rkLJmEbsk",
        "colab": {}
      },
      "source": [
        "t_df10 = np.random.standard_t(df=10, size=10)\n",
        "t_df100 = np.random.standard_t(df=100, size=100)\n",
        "t_df1000 = np.random.standard_t(df=1000, size=1000)"
      ],
      "execution_count": 0,
      "outputs": []
    },
    {
      "cell_type": "code",
      "metadata": {
        "colab_type": "code",
        "id": "RyNKPt_tJk86",
        "colab": {
          "base_uri": "https://localhost:8080/",
          "height": 282
        },
        "outputId": "9efc5e10-63cc-4891-f5ac-4d7aa05dfab0"
      },
      "source": [
        "sns.kdeplot(t_df1000, color='r')"
      ],
      "execution_count": 24,
      "outputs": [
        {
          "output_type": "execute_result",
          "data": {
            "text/plain": [
              "<matplotlib.axes._subplots.AxesSubplot at 0x7fc2c4c56b38>"
            ]
          },
          "metadata": {
            "tags": []
          },
          "execution_count": 24
        },
        {
          "output_type": "display_data",
          "data": {
            "image/png": "[encoded data removed]",
            "text/plain": [
              "<Figure size 432x288 with 1 Axes>"
            ]
          },
          "metadata": {
            "tags": []
          }
        }
      ]
    },
    {
      "cell_type": "code",
      "metadata": {
        "colab_type": "code",
        "id": "seQv5unnJvpM",
        "colab": {
          "base_uri": "https://localhost:8080/",
          "height": 272
        },
        "outputId": "46200c15-cbe9-4e9f-8ccb-f4fa96850e70"
      },
      "source": [
        "i = 10\n",
        "for sample in [t_df10, t_df100, t_df1000]:\n",
        "    print(f\"t - distribution with {i} degrees of freedom\")\n",
        "    print(\"---\" * 10)\n",
        "    print(f\"Mean: {sample.mean()}\")\n",
        "    print(f\"Standard Deviation: {sample.std()}\")\n",
        "    print(f\"Variance: {sample.var()}\")\n",
        "    i = i*10"
      ],
      "execution_count": 25,
      "outputs": [
        {
          "output_type": "stream",
          "text": [
            "t - distribution with 10 degrees of freedom\n",
            "------------------------------\n",
            "Mean: 0.4041702424639129\n",
            "Standard Deviation: 1.1706530329895157\n",
            "Variance: 1.370428523647552\n",
            "t - distribution with 100 degrees of freedom\n",
            "------------------------------\n",
            "Mean: -0.10525839803812435\n",
            "Standard Deviation: 0.9095895486030785\n",
            "Variance: 0.8273531469279521\n",
            "t - distribution with 1000 degrees of freedom\n",
            "------------------------------\n",
            "Mean: -0.006237043174479359\n",
            "Standard Deviation: 1.0137237573567988\n",
            "Variance: 1.027635856229586\n"
          ],
          "name": "stdout"
        }
      ]
    },
    {
      "cell_type": "markdown",
      "metadata": {
        "colab_type": "text",
        "id": "FOvEGMysLaE2"
      },
      "source": [
        "Why is it different from normal? To better reflect the tendencies of small data and situations with unknown population standard deviation. In other words, the normal distribution is still the nice pure ideal (thanks to the central limit theorem), but the t-distribution is much more useful in many real-world situations."
      ]
    },
    {
      "cell_type": "markdown",
      "metadata": {
        "colab_type": "text",
        "id": "1yx_QilAEC6o"
      },
      "source": [
        "## Live Lecture - let's perform and interpret a t-test\n",
        "\n",
        "We'll generate our own data, so we can know and alter the \"ground truth\" that the t-test should find. We will learn about p-values and how to interpret \"statistical significance\" based on the output of a hypothesis test. We will also dig a bit deeper into how the test statistic is calculated based on the sample error, and visually what it looks like to have 1 or 2 \"tailed\" t-tests."
      ]
    },
    {
      "cell_type": "markdown",
      "metadata": {
        "id": "0haBnYbNFqWu",
        "colab_type": "text"
      },
      "source": [
        "#### Get and prepare the data"
      ]
    },
    {
      "cell_type": "code",
      "metadata": {
        "colab_type": "code",
        "id": "BuysRPs-Ed0v",
        "colab": {}
      },
      "source": [
        "# imports\n",
        "from scipy.stats import ttest_ind"
      ],
      "execution_count": 0,
      "outputs": []
    },
    {
      "cell_type": "markdown",
      "metadata": {
        "id": "94FxGyh2FqWy",
        "colab_type": "text"
      },
      "source": [
        "**get the data**  \n",
        "https://archive.ics.uci.edu/ml/machine-learning-databases/voting-records/house-votes-84.data"
      ]
    },
    {
      "cell_type": "code",
      "metadata": {
        "id": "7w1mGi2jcQ5p",
        "colab_type": "code",
        "colab": {
          "base_uri": "https://localhost:8080/",
          "height": 204
        },
        "outputId": "f34a8fe5-c1b3-4957-ef3f-a72666fee573"
      },
      "source": [
        "# get the raw data\n",
        "!wget https://archive.ics.uci.edu/ml/machine-learning-databases/voting-records/house-votes-84.data"
      ],
      "execution_count": 27,
      "outputs": [
        {
          "output_type": "stream",
          "text": [
            "--2020-01-29 03:56:04--  https://archive.ics.uci.edu/ml/machine-learning-databases/voting-records/house-votes-84.data\n",
            "Resolving archive.ics.uci.edu (archive.ics.uci.edu)... 128.195.10.252\n",
            "Connecting to archive.ics.uci.edu (archive.ics.uci.edu)|128.195.10.252|:443... connected.\n",
            "HTTP request sent, awaiting response... 200 OK\n",
            "Length: 18171 (18K) [application/x-httpd-php]\n",
            "Saving to: ‘house-votes-84.data’\n",
            "\n",
            "house-votes-84.data 100%[===================>]  17.75K  --.-KB/s    in 0.1s    \n",
            "\n",
            "2020-01-29 03:56:05 (129 KB/s) - ‘house-votes-84.data’ saved [18171/18171]\n",
            "\n"
          ],
          "name": "stdout"
        }
      ]
    },
    {
      "cell_type": "code",
      "metadata": {
        "id": "ZJaJ-ZJQFqWy",
        "colab_type": "code",
        "colab": {}
      },
      "source": [
        "# make into a dataframe\n",
        "column_headers = ['party','handicapped-infants','water-project',\n",
        "                          'budget','physician-fee-freeze', 'el-salvador-aid',\n",
        "                          'religious-groups','anti-satellite-ban',\n",
        "                          'aid-to-contras','mx-missile','immigration',\n",
        "                          'synfuels', 'education', 'right-to-sue','crime','duty-free',\n",
        "                          'south-africa']\n",
        "\n"
      ],
      "execution_count": 0,
      "outputs": []
    },
    {
      "cell_type": "code",
      "metadata": {
        "id": "o5VGQ13DccLD",
        "colab_type": "code",
        "colab": {}
      },
      "source": [
        "df = pd.read_csv('house-votes-84.data',\n",
        "                 header=None,\n",
        "                 names=column_headers,\n",
        "                 na_values='?')"
      ],
      "execution_count": 0,
      "outputs": []
    },
    {
      "cell_type": "code",
      "metadata": {
        "id": "nk6c4_P-FqW1",
        "colab_type": "code",
        "colab": {
          "base_uri": "https://localhost:8080/",
          "height": 221
        },
        "outputId": "af9c8e5d-2bd8-4a56-cf8d-30db5189f6d7"
      },
      "source": [
        "# recode votes as numeric\n",
        "df = df.replace({'y':1, 'n':0})\n",
        "df.head()"
      ],
      "execution_count": 31,
      "outputs": [
        {
          "output_type": "execute_result",
          "data": {
            "text/html": [
              "<div>\n",
              "<style scoped>\n",
              "    .dataframe tbody tr th:only-of-type {\n",
              "        vertical-align: middle;\n",
              "    }\n",
              "\n",
              "    .dataframe tbody tr th {\n",
              "        vertical-align: top;\n",
              "    }\n",
              "\n",
              "    .dataframe thead th {\n",
              "        text-align: right;\n",
              "    }\n",
              "</style>\n",
              "<table border=\"1\" class=\"dataframe\">\n",
              "  <thead>\n",
              "    <tr style=\"text-align: right;\">\n",
              "      <th></th>\n",
              "      <th>party</th>\n",
              "      <th>handicapped-infants</th>\n",
              "      <th>water-project</th>\n",
              "      <th>budget</th>\n",
              "      <th>physician-fee-freeze</th>\n",
              "      <th>el-salvador-aid</th>\n",
              "      <th>religious-groups</th>\n",
              "      <th>anti-satellite-ban</th>\n",
              "      <th>aid-to-contras</th>\n",
              "      <th>mx-missile</th>\n",
              "      <th>immigration</th>\n",
              "      <th>synfuels</th>\n",
              "      <th>education</th>\n",
              "      <th>right-to-sue</th>\n",
              "      <th>crime</th>\n",
              "      <th>duty-free</th>\n",
              "      <th>south-africa</th>\n",
              "    </tr>\n",
              "  </thead>\n",
              "  <tbody>\n",
              "    <tr>\n",
              "      <th>0</th>\n",
              "      <td>republican</td>\n",
              "      <td>0.0</td>\n",
              "      <td>1.0</td>\n",
              "      <td>0.0</td>\n",
              "      <td>1.0</td>\n",
              "      <td>1.0</td>\n",
              "      <td>1.0</td>\n",
              "      <td>0.0</td>\n",
              "      <td>0.0</td>\n",
              "      <td>0.0</td>\n",
              "      <td>1.0</td>\n",
              "      <td>NaN</td>\n",
              "      <td>1.0</td>\n",
              "      <td>1.0</td>\n",
              "      <td>1.0</td>\n",
              "      <td>0.0</td>\n",
              "      <td>1.0</td>\n",
              "    </tr>\n",
              "    <tr>\n",
              "      <th>1</th>\n",
              "      <td>republican</td>\n",
              "      <td>0.0</td>\n",
              "      <td>1.0</td>\n",
              "      <td>0.0</td>\n",
              "      <td>1.0</td>\n",
              "      <td>1.0</td>\n",
              "      <td>1.0</td>\n",
              "      <td>0.0</td>\n",
              "      <td>0.0</td>\n",
              "      <td>0.0</td>\n",
              "      <td>0.0</td>\n",
              "      <td>0.0</td>\n",
              "      <td>1.0</td>\n",
              "      <td>1.0</td>\n",
              "      <td>1.0</td>\n",
              "      <td>0.0</td>\n",
              "      <td>NaN</td>\n",
              "    </tr>\n",
              "    <tr>\n",
              "      <th>2</th>\n",
              "      <td>democrat</td>\n",
              "      <td>NaN</td>\n",
              "      <td>1.0</td>\n",
              "      <td>1.0</td>\n",
              "      <td>NaN</td>\n",
              "      <td>1.0</td>\n",
              "      <td>1.0</td>\n",
              "      <td>0.0</td>\n",
              "      <td>0.0</td>\n",
              "      <td>0.0</td>\n",
              "      <td>0.0</td>\n",
              "      <td>1.0</td>\n",
              "      <td>0.0</td>\n",
              "      <td>1.0</td>\n",
              "      <td>1.0</td>\n",
              "      <td>0.0</td>\n",
              "      <td>0.0</td>\n",
              "    </tr>\n",
              "    <tr>\n",
              "      <th>3</th>\n",
              "      <td>democrat</td>\n",
              "      <td>0.0</td>\n",
              "      <td>1.0</td>\n",
              "      <td>1.0</td>\n",
              "      <td>0.0</td>\n",
              "      <td>NaN</td>\n",
              "      <td>1.0</td>\n",
              "      <td>0.0</td>\n",
              "      <td>0.0</td>\n",
              "      <td>0.0</td>\n",
              "      <td>0.0</td>\n",
              "      <td>1.0</td>\n",
              "      <td>0.0</td>\n",
              "      <td>1.0</td>\n",
              "      <td>0.0</td>\n",
              "      <td>0.0</td>\n",
              "      <td>1.0</td>\n",
              "    </tr>\n",
              "    <tr>\n",
              "      <th>4</th>\n",
              "      <td>democrat</td>\n",
              "      <td>1.0</td>\n",
              "      <td>1.0</td>\n",
              "      <td>1.0</td>\n",
              "      <td>0.0</td>\n",
              "      <td>1.0</td>\n",
              "      <td>1.0</td>\n",
              "      <td>0.0</td>\n",
              "      <td>0.0</td>\n",
              "      <td>0.0</td>\n",
              "      <td>0.0</td>\n",
              "      <td>1.0</td>\n",
              "      <td>NaN</td>\n",
              "      <td>1.0</td>\n",
              "      <td>1.0</td>\n",
              "      <td>1.0</td>\n",
              "      <td>1.0</td>\n",
              "    </tr>\n",
              "  </tbody>\n",
              "</table>\n",
              "</div>"
            ],
            "text/plain": [
              "        party  handicapped-infants  ...  duty-free  south-africa\n",
              "0  republican                  0.0  ...        0.0           1.0\n",
              "1  republican                  0.0  ...        0.0           NaN\n",
              "2    democrat                  NaN  ...        0.0           0.0\n",
              "3    democrat                  0.0  ...        0.0           1.0\n",
              "4    democrat                  1.0  ...        1.0           1.0\n",
              "\n",
              "[5 rows x 17 columns]"
            ]
          },
          "metadata": {
            "tags": []
          },
          "execution_count": 31
        }
      ]
    },
    {
      "cell_type": "code",
      "metadata": {
        "id": "AR9yHxyYFqW4",
        "colab_type": "code",
        "colab": {
          "base_uri": "https://localhost:8080/",
          "height": 68
        },
        "outputId": "31a2c511-2474-4e0a-b9f4-f2e4ec13e3c7"
      },
      "source": [
        "# how many from each party?\n",
        "df['party'].value_counts().sort_index()"
      ],
      "execution_count": 33,
      "outputs": [
        {
          "output_type": "execute_result",
          "data": {
            "text/plain": [
              "democrat      267\n",
              "republican    168\n",
              "Name: party, dtype: int64"
            ]
          },
          "metadata": {
            "tags": []
          },
          "execution_count": 33
        }
      ]
    },
    {
      "cell_type": "code",
      "metadata": {
        "id": "CUzwqG1tFqW6",
        "colab_type": "code",
        "colab": {
          "base_uri": "https://localhost:8080/",
          "height": 221
        },
        "outputId": "3da27ca0-580b-42d4-edc1-442f81147d27"
      },
      "source": [
        "# how did Republicans vote?\n",
        "rep = df[df['party']=='republican']\n",
        "rep.head()"
      ],
      "execution_count": 34,
      "outputs": [
        {
          "output_type": "execute_result",
          "data": {
            "text/html": [
              "<div>\n",
              "<style scoped>\n",
              "    .dataframe tbody tr th:only-of-type {\n",
              "        vertical-align: middle;\n",
              "    }\n",
              "\n",
              "    .dataframe tbody tr th {\n",
              "        vertical-align: top;\n",
              "    }\n",
              "\n",
              "    .dataframe thead th {\n",
              "        text-align: right;\n",
              "    }\n",
              "</style>\n",
              "<table border=\"1\" class=\"dataframe\">\n",
              "  <thead>\n",
              "    <tr style=\"text-align: right;\">\n",
              "      <th></th>\n",
              "      <th>party</th>\n",
              "      <th>handicapped-infants</th>\n",
              "      <th>water-project</th>\n",
              "      <th>budget</th>\n",
              "      <th>physician-fee-freeze</th>\n",
              "      <th>el-salvador-aid</th>\n",
              "      <th>religious-groups</th>\n",
              "      <th>anti-satellite-ban</th>\n",
              "      <th>aid-to-contras</th>\n",
              "      <th>mx-missile</th>\n",
              "      <th>immigration</th>\n",
              "      <th>synfuels</th>\n",
              "      <th>education</th>\n",
              "      <th>right-to-sue</th>\n",
              "      <th>crime</th>\n",
              "      <th>duty-free</th>\n",
              "      <th>south-africa</th>\n",
              "    </tr>\n",
              "  </thead>\n",
              "  <tbody>\n",
              "    <tr>\n",
              "      <th>0</th>\n",
              "      <td>republican</td>\n",
              "      <td>0.0</td>\n",
              "      <td>1.0</td>\n",
              "      <td>0.0</td>\n",
              "      <td>1.0</td>\n",
              "      <td>1.0</td>\n",
              "      <td>1.0</td>\n",
              "      <td>0.0</td>\n",
              "      <td>0.0</td>\n",
              "      <td>0.0</td>\n",
              "      <td>1.0</td>\n",
              "      <td>NaN</td>\n",
              "      <td>1.0</td>\n",
              "      <td>1.0</td>\n",
              "      <td>1.0</td>\n",
              "      <td>0.0</td>\n",
              "      <td>1.0</td>\n",
              "    </tr>\n",
              "    <tr>\n",
              "      <th>1</th>\n",
              "      <td>republican</td>\n",
              "      <td>0.0</td>\n",
              "      <td>1.0</td>\n",
              "      <td>0.0</td>\n",
              "      <td>1.0</td>\n",
              "      <td>1.0</td>\n",
              "      <td>1.0</td>\n",
              "      <td>0.0</td>\n",
              "      <td>0.0</td>\n",
              "      <td>0.0</td>\n",
              "      <td>0.0</td>\n",
              "      <td>0.0</td>\n",
              "      <td>1.0</td>\n",
              "      <td>1.0</td>\n",
              "      <td>1.0</td>\n",
              "      <td>0.0</td>\n",
              "      <td>NaN</td>\n",
              "    </tr>\n",
              "    <tr>\n",
              "      <th>7</th>\n",
              "      <td>republican</td>\n",
              "      <td>0.0</td>\n",
              "      <td>1.0</td>\n",
              "      <td>0.0</td>\n",
              "      <td>1.0</td>\n",
              "      <td>1.0</td>\n",
              "      <td>1.0</td>\n",
              "      <td>0.0</td>\n",
              "      <td>0.0</td>\n",
              "      <td>0.0</td>\n",
              "      <td>0.0</td>\n",
              "      <td>0.0</td>\n",
              "      <td>0.0</td>\n",
              "      <td>1.0</td>\n",
              "      <td>1.0</td>\n",
              "      <td>NaN</td>\n",
              "      <td>1.0</td>\n",
              "    </tr>\n",
              "    <tr>\n",
              "      <th>8</th>\n",
              "      <td>republican</td>\n",
              "      <td>0.0</td>\n",
              "      <td>1.0</td>\n",
              "      <td>0.0</td>\n",
              "      <td>1.0</td>\n",
              "      <td>1.0</td>\n",
              "      <td>1.0</td>\n",
              "      <td>0.0</td>\n",
              "      <td>0.0</td>\n",
              "      <td>0.0</td>\n",
              "      <td>0.0</td>\n",
              "      <td>0.0</td>\n",
              "      <td>1.0</td>\n",
              "      <td>1.0</td>\n",
              "      <td>1.0</td>\n",
              "      <td>0.0</td>\n",
              "      <td>1.0</td>\n",
              "    </tr>\n",
              "    <tr>\n",
              "      <th>10</th>\n",
              "      <td>republican</td>\n",
              "      <td>0.0</td>\n",
              "      <td>1.0</td>\n",
              "      <td>0.0</td>\n",
              "      <td>1.0</td>\n",
              "      <td>1.0</td>\n",
              "      <td>0.0</td>\n",
              "      <td>0.0</td>\n",
              "      <td>0.0</td>\n",
              "      <td>0.0</td>\n",
              "      <td>0.0</td>\n",
              "      <td>NaN</td>\n",
              "      <td>NaN</td>\n",
              "      <td>1.0</td>\n",
              "      <td>1.0</td>\n",
              "      <td>0.0</td>\n",
              "      <td>0.0</td>\n",
              "    </tr>\n",
              "  </tbody>\n",
              "</table>\n",
              "</div>"
            ],
            "text/plain": [
              "         party  handicapped-infants  ...  duty-free  south-africa\n",
              "0   republican                  0.0  ...        0.0           1.0\n",
              "1   republican                  0.0  ...        0.0           NaN\n",
              "7   republican                  0.0  ...        NaN           1.0\n",
              "8   republican                  0.0  ...        0.0           1.0\n",
              "10  republican                  0.0  ...        0.0           0.0\n",
              "\n",
              "[5 rows x 17 columns]"
            ]
          },
          "metadata": {
            "tags": []
          },
          "execution_count": 34
        }
      ]
    },
    {
      "cell_type": "code",
      "metadata": {
        "id": "PVsqanCUFqW9",
        "colab_type": "code",
        "colab": {
          "base_uri": "https://localhost:8080/",
          "height": 221
        },
        "outputId": "1cf98cd7-f5b9-4285-c19f-2bc9fa752255"
      },
      "source": [
        "# how did Democrats vote?\n",
        "dem = df[df['party']=='democrat']\n",
        "dem.head()"
      ],
      "execution_count": 35,
      "outputs": [
        {
          "output_type": "execute_result",
          "data": {
            "text/html": [
              "<div>\n",
              "<style scoped>\n",
              "    .dataframe tbody tr th:only-of-type {\n",
              "        vertical-align: middle;\n",
              "    }\n",
              "\n",
              "    .dataframe tbody tr th {\n",
              "        vertical-align: top;\n",
              "    }\n",
              "\n",
              "    .dataframe thead th {\n",
              "        text-align: right;\n",
              "    }\n",
              "</style>\n",
              "<table border=\"1\" class=\"dataframe\">\n",
              "  <thead>\n",
              "    <tr style=\"text-align: right;\">\n",
              "      <th></th>\n",
              "      <th>party</th>\n",
              "      <th>handicapped-infants</th>\n",
              "      <th>water-project</th>\n",
              "      <th>budget</th>\n",
              "      <th>physician-fee-freeze</th>\n",
              "      <th>el-salvador-aid</th>\n",
              "      <th>religious-groups</th>\n",
              "      <th>anti-satellite-ban</th>\n",
              "      <th>aid-to-contras</th>\n",
              "      <th>mx-missile</th>\n",
              "      <th>immigration</th>\n",
              "      <th>synfuels</th>\n",
              "      <th>education</th>\n",
              "      <th>right-to-sue</th>\n",
              "      <th>crime</th>\n",
              "      <th>duty-free</th>\n",
              "      <th>south-africa</th>\n",
              "    </tr>\n",
              "  </thead>\n",
              "  <tbody>\n",
              "    <tr>\n",
              "      <th>2</th>\n",
              "      <td>democrat</td>\n",
              "      <td>NaN</td>\n",
              "      <td>1.0</td>\n",
              "      <td>1.0</td>\n",
              "      <td>NaN</td>\n",
              "      <td>1.0</td>\n",
              "      <td>1.0</td>\n",
              "      <td>0.0</td>\n",
              "      <td>0.0</td>\n",
              "      <td>0.0</td>\n",
              "      <td>0.0</td>\n",
              "      <td>1.0</td>\n",
              "      <td>0.0</td>\n",
              "      <td>1.0</td>\n",
              "      <td>1.0</td>\n",
              "      <td>0.0</td>\n",
              "      <td>0.0</td>\n",
              "    </tr>\n",
              "    <tr>\n",
              "      <th>3</th>\n",
              "      <td>democrat</td>\n",
              "      <td>0.0</td>\n",
              "      <td>1.0</td>\n",
              "      <td>1.0</td>\n",
              "      <td>0.0</td>\n",
              "      <td>NaN</td>\n",
              "      <td>1.0</td>\n",
              "      <td>0.0</td>\n",
              "      <td>0.0</td>\n",
              "      <td>0.0</td>\n",
              "      <td>0.0</td>\n",
              "      <td>1.0</td>\n",
              "      <td>0.0</td>\n",
              "      <td>1.0</td>\n",
              "      <td>0.0</td>\n",
              "      <td>0.0</td>\n",
              "      <td>1.0</td>\n",
              "    </tr>\n",
              "    <tr>\n",
              "      <th>4</th>\n",
              "      <td>democrat</td>\n",
              "      <td>1.0</td>\n",
              "      <td>1.0</td>\n",
              "      <td>1.0</td>\n",
              "      <td>0.0</td>\n",
              "      <td>1.0</td>\n",
              "      <td>1.0</td>\n",
              "      <td>0.0</td>\n",
              "      <td>0.0</td>\n",
              "      <td>0.0</td>\n",
              "      <td>0.0</td>\n",
              "      <td>1.0</td>\n",
              "      <td>NaN</td>\n",
              "      <td>1.0</td>\n",
              "      <td>1.0</td>\n",
              "      <td>1.0</td>\n",
              "      <td>1.0</td>\n",
              "    </tr>\n",
              "    <tr>\n",
              "      <th>5</th>\n",
              "      <td>democrat</td>\n",
              "      <td>0.0</td>\n",
              "      <td>1.0</td>\n",
              "      <td>1.0</td>\n",
              "      <td>0.0</td>\n",
              "      <td>1.0</td>\n",
              "      <td>1.0</td>\n",
              "      <td>0.0</td>\n",
              "      <td>0.0</td>\n",
              "      <td>0.0</td>\n",
              "      <td>0.0</td>\n",
              "      <td>0.0</td>\n",
              "      <td>0.0</td>\n",
              "      <td>1.0</td>\n",
              "      <td>1.0</td>\n",
              "      <td>1.0</td>\n",
              "      <td>1.0</td>\n",
              "    </tr>\n",
              "    <tr>\n",
              "      <th>6</th>\n",
              "      <td>democrat</td>\n",
              "      <td>0.0</td>\n",
              "      <td>1.0</td>\n",
              "      <td>0.0</td>\n",
              "      <td>1.0</td>\n",
              "      <td>1.0</td>\n",
              "      <td>1.0</td>\n",
              "      <td>0.0</td>\n",
              "      <td>0.0</td>\n",
              "      <td>0.0</td>\n",
              "      <td>0.0</td>\n",
              "      <td>0.0</td>\n",
              "      <td>0.0</td>\n",
              "      <td>NaN</td>\n",
              "      <td>1.0</td>\n",
              "      <td>1.0</td>\n",
              "      <td>1.0</td>\n",
              "    </tr>\n",
              "  </tbody>\n",
              "</table>\n",
              "</div>"
            ],
            "text/plain": [
              "      party  handicapped-infants  water-project  ...  crime  duty-free  south-africa\n",
              "2  democrat                  NaN            1.0  ...    1.0        0.0           0.0\n",
              "3  democrat                  0.0            1.0  ...    0.0        0.0           1.0\n",
              "4  democrat                  1.0            1.0  ...    1.0        1.0           1.0\n",
              "5  democrat                  0.0            1.0  ...    1.0        1.0           1.0\n",
              "6  democrat                  0.0            1.0  ...    1.0        1.0           1.0\n",
              "\n",
              "[5 rows x 17 columns]"
            ]
          },
          "metadata": {
            "tags": []
          },
          "execution_count": 35
        }
      ]
    },
    {
      "cell_type": "code",
      "metadata": {
        "id": "9qX49iQwFqXC",
        "colab_type": "code",
        "colab": {
          "base_uri": "https://localhost:8080/",
          "height": 34
        },
        "outputId": "748a4402-457e-4e08-b902-389aeb0b5738"
      },
      "source": [
        "# the percentage of republicans who voted \"yes\" (1) \n",
        "# on the handicapped-infants bill\n",
        "rep['handicapped-infants'].sum()/len(rep)\n",
        "\n",
        "# len() is counting NaN values too!"
      ],
      "execution_count": 37,
      "outputs": [
        {
          "output_type": "execute_result",
          "data": {
            "text/plain": [
              "0.18452380952380953"
            ]
          },
          "metadata": {
            "tags": []
          },
          "execution_count": 37
        }
      ]
    },
    {
      "cell_type": "code",
      "metadata": {
        "id": "p--TTwScFqXE",
        "colab_type": "code",
        "colab": {
          "base_uri": "https://localhost:8080/",
          "height": 221
        },
        "outputId": "032c2448-da91-47e6-fc5f-23bbb45f587b"
      },
      "source": [
        "# Remove NaN values from this column\n",
        "col = rep['handicapped-infants']\n",
        "np.isnan(col)\n",
        "hi_no_nans = col[~np.isnan(col)]\n",
        "# The same column as before, but I've dropped the NaN values\n",
        "hi_no_nans"
      ],
      "execution_count": 39,
      "outputs": [
        {
          "output_type": "execute_result",
          "data": {
            "text/plain": [
              "0      0.0\n",
              "1      0.0\n",
              "7      0.0\n",
              "8      0.0\n",
              "10     0.0\n",
              "      ... \n",
              "427    0.0\n",
              "430    0.0\n",
              "432    0.0\n",
              "433    0.0\n",
              "434    0.0\n",
              "Name: handicapped-infants, Length: 165, dtype: float64"
            ]
          },
          "metadata": {
            "tags": []
          },
          "execution_count": 39
        }
      ]
    },
    {
      "cell_type": "code",
      "metadata": {
        "id": "jIYJY52wd2qx",
        "colab_type": "code",
        "colab": {
          "base_uri": "https://localhost:8080/",
          "height": 34
        },
        "outputId": "728d8f19-d70f-473e-e66d-8563f3f7670a"
      },
      "source": [
        "hi_no_nans.sum()/len(hi_no_nans)"
      ],
      "execution_count": 40,
      "outputs": [
        {
          "output_type": "execute_result",
          "data": {
            "text/plain": [
              "0.18787878787878787"
            ]
          },
          "metadata": {
            "tags": []
          },
          "execution_count": 40
        }
      ]
    },
    {
      "cell_type": "code",
      "metadata": {
        "id": "lytGuxfeeKOd",
        "colab_type": "code",
        "colab": {
          "base_uri": "https://localhost:8080/",
          "height": 34
        },
        "outputId": "c2f6c6eb-9b36-4c1b-83c1-12866f682298"
      },
      "source": [
        "# Average rate of voting 'yes' on the handicapped-infants\n",
        "rep['handicapped-infants'].mean()"
      ],
      "execution_count": 41,
      "outputs": [
        {
          "output_type": "execute_result",
          "data": {
            "text/plain": [
              "0.18787878787878787"
            ]
          },
          "metadata": {
            "tags": []
          },
          "execution_count": 41
        }
      ]
    },
    {
      "cell_type": "markdown",
      "metadata": {
        "id": "_t2EV458FqXN",
        "colab_type": "text"
      },
      "source": [
        "#### water project bill (two-sample t-test)"
      ]
    },
    {
      "cell_type": "markdown",
      "metadata": {
        "id": "Day2zlzzFqXN",
        "colab_type": "text"
      },
      "source": [
        "1) Null Hypothesis: There is no difference between average voting rates (levels of support) for the water-project bill between democrats and republicans in the house of representatives. (support is equal)\n",
        "\n",
        "𝑥¯1==𝑥¯2 \n",
        "Where  𝑥¯1  is the mean of republican votes and  𝑥¯2  is the mean of democrat votes.\n",
        "\n",
        "2) Alternative Hypothesis:\n",
        "\n",
        "𝑥¯1≠𝑥¯2 \n",
        "Levels of support between the two parties will differ.\n",
        "\n",
        "3) 95% Confidence Level"
      ]
    },
    {
      "cell_type": "code",
      "metadata": {
        "id": "_9GV8e2tFqXO",
        "colab_type": "code",
        "colab": {}
      },
      "source": [
        "# import\n",
        "from scipy.stats import ttest_ind"
      ],
      "execution_count": 0,
      "outputs": []
    },
    {
      "cell_type": "code",
      "metadata": {
        "id": "MB2g0SVNFqXR",
        "colab_type": "code",
        "colab": {
          "base_uri": "https://localhost:8080/",
          "height": 34
        },
        "outputId": "177985a8-843c-4217-8db8-d348d021ed99"
      },
      "source": [
        "# What is the mean support of Republicans?\n",
        "rep['water-project'].mean()"
      ],
      "execution_count": 43,
      "outputs": [
        {
          "output_type": "execute_result",
          "data": {
            "text/plain": [
              "0.5067567567567568"
            ]
          },
          "metadata": {
            "tags": []
          },
          "execution_count": 43
        }
      ]
    },
    {
      "cell_type": "code",
      "metadata": {
        "id": "wyZuHNCYFqXU",
        "colab_type": "code",
        "colab": {
          "base_uri": "https://localhost:8080/",
          "height": 34
        },
        "outputId": "84a5a6ab-2360-47fd-b4f6-32b2e04f18c0"
      },
      "source": [
        "# what is the mean support of Democrats?\n",
        "dem['water-project'].mean()"
      ],
      "execution_count": 44,
      "outputs": [
        {
          "output_type": "execute_result",
          "data": {
            "text/plain": [
              "0.502092050209205"
            ]
          },
          "metadata": {
            "tags": []
          },
          "execution_count": 44
        }
      ]
    },
    {
      "cell_type": "code",
      "metadata": {
        "id": "yyXUTBWDFqXV",
        "colab_type": "code",
        "colab": {
          "base_uri": "https://localhost:8080/",
          "height": 34
        },
        "outputId": "91c514b6-1374-4bd6-d6d2-af5dba79b94f"
      },
      "source": [
        "# compare with a t-test:\n",
        "ttest_ind(rep['water-project'], dem['water-project'])"
      ],
      "execution_count": 47,
      "outputs": [
        {
          "output_type": "execute_result",
          "data": {
            "text/plain": [
              "Ttest_indResult(statistic=nan, pvalue=nan)"
            ]
          },
          "metadata": {
            "tags": []
          },
          "execution_count": 47
        }
      ]
    },
    {
      "cell_type": "code",
      "metadata": {
        "id": "-13exKnuFqXX",
        "colab_type": "code",
        "colab": {
          "base_uri": "https://localhost:8080/",
          "height": 34
        },
        "outputId": "7e2e8059-cdc1-4306-a187-3eadc82153dc"
      },
      "source": [
        "# account for NaN's\n",
        "ttest_ind(rep['water-project'], dem['water-project'], nan_policy = 'omit')"
      ],
      "execution_count": 48,
      "outputs": [
        {
          "output_type": "execute_result",
          "data": {
            "text/plain": [
              "Ttest_indResult(statistic=0.08896538137868286, pvalue=0.9291556823993485)"
            ]
          },
          "metadata": {
            "tags": []
          },
          "execution_count": 48
        }
      ]
    },
    {
      "cell_type": "code",
      "metadata": {
        "id": "enJZPgQQFqXa",
        "colab_type": "code",
        "colab": {}
      },
      "source": [
        "# You could also remove NaN values from this column\n",
        "col = rep['water-project']\n",
        "rep_wp_no_nans = col[~np.isnan(col)]\n",
        "col = dem['water-project']\n",
        "dem_wp_no_nans = col[~np.isnan(col)]"
      ],
      "execution_count": 0,
      "outputs": []
    },
    {
      "cell_type": "code",
      "metadata": {
        "id": "oYALB3roFqXe",
        "colab_type": "code",
        "colab": {
          "base_uri": "https://localhost:8080/",
          "height": 51
        },
        "outputId": "6fb7a91b-d0a8-4119-9657-3f7bc482be0b"
      },
      "source": [
        "# My sample sizes for the two samples:\n",
        "print(len(rep_wp_no_nans))\n",
        "print(len(dem_wp_no_nans))"
      ],
      "execution_count": 50,
      "outputs": [
        {
          "output_type": "stream",
          "text": [
            "148\n",
            "239\n"
          ],
          "name": "stdout"
        }
      ]
    },
    {
      "cell_type": "markdown",
      "metadata": {
        "id": "jCRUaWF3FqXh",
        "colab_type": "text"
      },
      "source": [
        "When I have multiple samples (using a 2-sample t-test) I will use the smaller of the two samples to determine my degrees of freedom\n",
        "\n",
        "So in this case, df = 148-1 = 147"
      ]
    },
    {
      "cell_type": "markdown",
      "metadata": {
        "id": "xe75u6J2FqXi",
        "colab_type": "text"
      },
      "source": [
        "4) T-statistic: .089\n",
        "\n",
        "5) P-value: .929\n",
        "\n",
        "I want to reject the null hypothesis if my p-value is < .05 or if my p-value is less than (1-confidence_level)\n",
        "\n",
        "Conclusion: due to a p-value of .929 I fail to reject the null hypothesis that republican and democrat support for the water-project bill is different.\n",
        "\n",
        "I never say that I \"accept\" the null hypothesis, I just say that I \"fail to reject\""
      ]
    },
    {
      "cell_type": "markdown",
      "metadata": {
        "id": "g2BZgAMLFqXj",
        "colab_type": "text"
      },
      "source": [
        "#### 1-sample T-test example"
      ]
    },
    {
      "cell_type": "markdown",
      "metadata": {
        "id": "5cMh2lwDFqXk",
        "colab_type": "text"
      },
      "source": [
        "I'm only using one sample, and my null hypothesis will be different.\n",
        "\n",
        "We're looking at Democrat support of the South-Africa bill\n",
        "\n",
        "1a) Null Hypothesis:\n",
        "\n",
        "𝑥¯1  (average dem support for SA bill) == 1.\n",
        "\n",
        "This says that 100% of democrats support this bill. Full support.\n",
        "\n",
        "1b) Null Hypothesis:\n",
        "\n",
        "𝑥¯1  (average dem support for SA bill) == .5\n",
        "\n",
        "This says that 50% of democrats support this bill. The party is split.\n",
        "\n",
        "1c) Null Hypothesis:\n",
        "\n",
        "𝑥¯1  (average dem support for SA bill) == 0.\n",
        "\n",
        "This says that 0% of democrats support this bill. The party is against the bill.\n",
        "\n",
        "1d) Null Hypothesis:\n",
        "\n",
        "𝑥¯1  (average dem support for SA bill) == .78245\n",
        "\n",
        "This says that 0% of democrats support this bill. The party is against the bill.\n",
        "\n",
        "**With 1-sample t-tests I can frame that I'm asking through my choice of null hypothesis**"
      ]
    },
    {
      "cell_type": "markdown",
      "metadata": {
        "id": "RlRQzZuOFqXk",
        "colab_type": "text"
      },
      "source": [
        "1) Null Hypothesis:  𝑥¯1  (average dem support for SA bill) == .5\n",
        "\n",
        "This says that 50% of democrats support this bill. The party is split.\n",
        "\n",
        "2) Alternative Hypothesis: Support is not equal to .5 or 50%\n",
        "\n",
        "𝑥¯1  (average dem support for SA bill)  ≠  .5\n",
        "\n",
        "This says nothing about if support is greater than or less than 50%, it's just saying that it's not 50% - it's different, it's something other than 50%.\n",
        "\n",
        "3) Confidence Level: 95%"
      ]
    },
    {
      "cell_type": "code",
      "metadata": {
        "id": "-ItRaV0tFqXl",
        "colab_type": "code",
        "colab": {}
      },
      "source": [
        "# import\n",
        "from scipy.stats import ttest_1samp"
      ],
      "execution_count": 0,
      "outputs": []
    },
    {
      "cell_type": "code",
      "metadata": {
        "id": "XcUWgDTcFqXp",
        "colab_type": "code",
        "colab": {
          "base_uri": "https://localhost:8080/",
          "height": 34
        },
        "outputId": "b8c6bfe2-4b24-4b82-f5ce-21b3c597c3e3"
      },
      "source": [
        "# conduct the t-test\n",
        "ttest_1samp(dem['south-africa'], .5, nan_policy='omit')"
      ],
      "execution_count": 52,
      "outputs": [
        {
          "output_type": "execute_result",
          "data": {
            "text/plain": [
              "Ttest_1sampResult(statistic=23.965755112488182, pvalue=1.7513759267849718e-58)"
            ]
          },
          "metadata": {
            "tags": []
          },
          "execution_count": 52
        }
      ]
    },
    {
      "cell_type": "markdown",
      "metadata": {
        "id": "Ic15BO_2FqXr",
        "colab_type": "text"
      },
      "source": [
        "Due to a p-value of (basically 0) we reject the null hypothesis that democrat support for the South Africa bill is .5 (split party) and conclude that it is something different.\n"
      ]
    },
    {
      "cell_type": "code",
      "metadata": {
        "id": "n-vFpfnOFqXr",
        "colab_type": "code",
        "colab": {
          "base_uri": "https://localhost:8080/",
          "height": 34
        },
        "outputId": "56dc5730-71a4-4d9d-9c84-cf655778ad5a"
      },
      "source": [
        "# what is the average support among Democrats?\n",
        "dem['south-africa'].mean()"
      ],
      "execution_count": 53,
      "outputs": [
        {
          "output_type": "execute_result",
          "data": {
            "text/plain": [
              "0.9351351351351351"
            ]
          },
          "metadata": {
            "tags": []
          },
          "execution_count": 53
        }
      ]
    },
    {
      "cell_type": "code",
      "metadata": {
        "id": "5sFsvFyKFqXt",
        "colab_type": "code",
        "colab": {
          "base_uri": "https://localhost:8080/",
          "height": 34
        },
        "outputId": "3ce0c76e-3539-4f95-9123-6e297185be41"
      },
      "source": [
        "# is it significantly different from 90%?\n",
        "ttest_1samp(dem['south-africa'], .9, nan_policy='omit')"
      ],
      "execution_count": 54,
      "outputs": [
        {
          "output_type": "execute_result",
          "data": {
            "text/plain": [
              "Ttest_1sampResult(statistic=1.935123083617057, pvalue=0.05450836316336539)"
            ]
          },
          "metadata": {
            "tags": []
          },
          "execution_count": 54
        }
      ]
    },
    {
      "cell_type": "markdown",
      "metadata": {
        "id": "zFDWXOmDFqXx",
        "colab_type": "text"
      },
      "source": [
        "Fail to reject the null hypothesis:\n",
        "\n",
        "I conclude that that democrat support for the South Africa bill is not significantly different from 90%."
      ]
    },
    {
      "cell_type": "code",
      "metadata": {
        "id": "izddni6PFqXx",
        "colab_type": "code",
        "colab": {
          "base_uri": "https://localhost:8080/",
          "height": 34
        },
        "outputId": "00b3d5ef-6cca-4a8b-940b-356018c8a920"
      },
      "source": [
        "# what about 89.9?\n",
        "ttest_1samp(dem['south-africa'], .899, nan_policy='omit')"
      ],
      "execution_count": 55,
      "outputs": [
        {
          "output_type": "execute_result",
          "data": {
            "text/plain": [
              "Ttest_1sampResult(statistic=1.9901996636892347, pvalue=0.048049640325191705)"
            ]
          },
          "metadata": {
            "tags": []
          },
          "execution_count": 55
        }
      ]
    },
    {
      "cell_type": "markdown",
      "metadata": {
        "id": "FgKS_panFqXz",
        "colab_type": "text"
      },
      "source": [
        "Due to a p-value of .048, I reject the null hypothesis that democrat support for this bill is 89.9% and suggest the alternative that it is different from 89.9%"
      ]
    },
    {
      "cell_type": "markdown",
      "metadata": {
        "id": "Tgb9MvflFqX0",
        "colab_type": "text"
      },
      "source": [
        "### Wine Example"
      ]
    },
    {
      "cell_type": "code",
      "metadata": {
        "id": "Zv00mzCqFqX0",
        "colab_type": "code",
        "colab": {}
      },
      "source": [
        "# load the data (wines from Italy)\n",
        "from sklearn.datasets import load_wine\n",
        "X = load_wine()"
      ],
      "execution_count": 0,
      "outputs": []
    },
    {
      "cell_type": "code",
      "metadata": {
        "id": "8OtO1GMVFqX2",
        "colab_type": "code",
        "colab": {}
      },
      "source": [
        "# put that into a dataframe\n",
        "wine = pd.DataFrame(X['data'], columns = X['feature_names'])\n",
        "wine['origin']=X['target']"
      ],
      "execution_count": 0,
      "outputs": []
    },
    {
      "cell_type": "code",
      "metadata": {
        "id": "33AY23INFqX5",
        "colab_type": "code",
        "colab": {
          "base_uri": "https://localhost:8080/",
          "height": 204
        },
        "outputId": "61af6e3b-932e-4d7b-827e-f23163102a23"
      },
      "source": [
        "# take a look\n",
        "wine.head()"
      ],
      "execution_count": 59,
      "outputs": [
        {
          "output_type": "execute_result",
          "data": {
            "text/html": [
              "<div>\n",
              "<style scoped>\n",
              "    .dataframe tbody tr th:only-of-type {\n",
              "        vertical-align: middle;\n",
              "    }\n",
              "\n",
              "    .dataframe tbody tr th {\n",
              "        vertical-align: top;\n",
              "    }\n",
              "\n",
              "    .dataframe thead th {\n",
              "        text-align: right;\n",
              "    }\n",
              "</style>\n",
              "<table border=\"1\" class=\"dataframe\">\n",
              "  <thead>\n",
              "    <tr style=\"text-align: right;\">\n",
              "      <th></th>\n",
              "      <th>alcohol</th>\n",
              "      <th>malic_acid</th>\n",
              "      <th>ash</th>\n",
              "      <th>alcalinity_of_ash</th>\n",
              "      <th>magnesium</th>\n",
              "      <th>total_phenols</th>\n",
              "      <th>flavanoids</th>\n",
              "      <th>nonflavanoid_phenols</th>\n",
              "      <th>proanthocyanins</th>\n",
              "      <th>color_intensity</th>\n",
              "      <th>hue</th>\n",
              "      <th>od280/od315_of_diluted_wines</th>\n",
              "      <th>proline</th>\n",
              "      <th>origin</th>\n",
              "    </tr>\n",
              "  </thead>\n",
              "  <tbody>\n",
              "    <tr>\n",
              "      <th>0</th>\n",
              "      <td>14.23</td>\n",
              "      <td>1.71</td>\n",
              "      <td>2.43</td>\n",
              "      <td>15.6</td>\n",
              "      <td>127.0</td>\n",
              "      <td>2.80</td>\n",
              "      <td>3.06</td>\n",
              "      <td>0.28</td>\n",
              "      <td>2.29</td>\n",
              "      <td>5.64</td>\n",
              "      <td>1.04</td>\n",
              "      <td>3.92</td>\n",
              "      <td>1065.0</td>\n",
              "      <td>0</td>\n",
              "    </tr>\n",
              "    <tr>\n",
              "      <th>1</th>\n",
              "      <td>13.20</td>\n",
              "      <td>1.78</td>\n",
              "      <td>2.14</td>\n",
              "      <td>11.2</td>\n",
              "      <td>100.0</td>\n",
              "      <td>2.65</td>\n",
              "      <td>2.76</td>\n",
              "      <td>0.26</td>\n",
              "      <td>1.28</td>\n",
              "      <td>4.38</td>\n",
              "      <td>1.05</td>\n",
              "      <td>3.40</td>\n",
              "      <td>1050.0</td>\n",
              "      <td>0</td>\n",
              "    </tr>\n",
              "    <tr>\n",
              "      <th>2</th>\n",
              "      <td>13.16</td>\n",
              "      <td>2.36</td>\n",
              "      <td>2.67</td>\n",
              "      <td>18.6</td>\n",
              "      <td>101.0</td>\n",
              "      <td>2.80</td>\n",
              "      <td>3.24</td>\n",
              "      <td>0.30</td>\n",
              "      <td>2.81</td>\n",
              "      <td>5.68</td>\n",
              "      <td>1.03</td>\n",
              "      <td>3.17</td>\n",
              "      <td>1185.0</td>\n",
              "      <td>0</td>\n",
              "    </tr>\n",
              "    <tr>\n",
              "      <th>3</th>\n",
              "      <td>14.37</td>\n",
              "      <td>1.95</td>\n",
              "      <td>2.50</td>\n",
              "      <td>16.8</td>\n",
              "      <td>113.0</td>\n",
              "      <td>3.85</td>\n",
              "      <td>3.49</td>\n",
              "      <td>0.24</td>\n",
              "      <td>2.18</td>\n",
              "      <td>7.80</td>\n",
              "      <td>0.86</td>\n",
              "      <td>3.45</td>\n",
              "      <td>1480.0</td>\n",
              "      <td>0</td>\n",
              "    </tr>\n",
              "    <tr>\n",
              "      <th>4</th>\n",
              "      <td>13.24</td>\n",
              "      <td>2.59</td>\n",
              "      <td>2.87</td>\n",
              "      <td>21.0</td>\n",
              "      <td>118.0</td>\n",
              "      <td>2.80</td>\n",
              "      <td>2.69</td>\n",
              "      <td>0.39</td>\n",
              "      <td>1.82</td>\n",
              "      <td>4.32</td>\n",
              "      <td>1.04</td>\n",
              "      <td>2.93</td>\n",
              "      <td>735.0</td>\n",
              "      <td>0</td>\n",
              "    </tr>\n",
              "  </tbody>\n",
              "</table>\n",
              "</div>"
            ],
            "text/plain": [
              "   alcohol  malic_acid   ash  ...  od280/od315_of_diluted_wines  proline  origin\n",
              "0    14.23        1.71  2.43  ...                          3.92   1065.0       0\n",
              "1    13.20        1.78  2.14  ...                          3.40   1050.0       0\n",
              "2    13.16        2.36  2.67  ...                          3.17   1185.0       0\n",
              "3    14.37        1.95  2.50  ...                          3.45   1480.0       0\n",
              "4    13.24        2.59  2.87  ...                          2.93    735.0       0\n",
              "\n",
              "[5 rows x 14 columns]"
            ]
          },
          "metadata": {
            "tags": []
          },
          "execution_count": 59
        }
      ]
    },
    {
      "cell_type": "code",
      "metadata": {
        "id": "IFwUUcUtFqX8",
        "colab_type": "code",
        "colab": {
          "base_uri": "https://localhost:8080/",
          "height": 85
        },
        "outputId": "d4b88db5-58b7-42cc-9697-f880cf4bbb36"
      },
      "source": [
        "# examine a column. ash for all 3 origin groups.\n",
        "wine['origin'].value_counts()"
      ],
      "execution_count": 60,
      "outputs": [
        {
          "output_type": "execute_result",
          "data": {
            "text/plain": [
              "1    71\n",
              "0    59\n",
              "2    48\n",
              "Name: origin, dtype: int64"
            ]
          },
          "metadata": {
            "tags": []
          },
          "execution_count": 60
        }
      ]
    },
    {
      "cell_type": "code",
      "metadata": {
        "id": "7mq-u08MiSFG",
        "colab_type": "code",
        "colab": {
          "base_uri": "https://localhost:8080/",
          "height": 265
        },
        "outputId": "bea21d2a-7b85-4ea7-f8c5-52d30973a73c"
      },
      "source": [
        "import seaborn as sns\n",
        "sns.kdeplot(wine['ash'], color='crimson');"
      ],
      "execution_count": 61,
      "outputs": [
        {
          "output_type": "display_data",
          "data": {
            "image/png": "[encoded data removed]",
            "text/plain": [
              "<Figure size 432x288 with 1 Axes>"
            ]
          },
          "metadata": {
            "tags": []
          }
        }
      ]
    },
    {
      "cell_type": "code",
      "metadata": {
        "id": "ucgk58HgFqX9",
        "colab_type": "code",
        "colab": {
          "base_uri": "https://localhost:8080/",
          "height": 265
        },
        "outputId": "90e22ced-603d-4ac2-f0d9-000f530751ec"
      },
      "source": [
        "# now for each group. Are these groups different or the same?\n",
        "colorlist=['crimson', 'teal', 'gold']\n",
        "for x in [0, 1, 2]:\n",
        "  sns.kdeplot(wine[wine['origin']==x]['ash'], color = colorlist[x], label=x)"
      ],
      "execution_count": 62,
      "outputs": [
        {
          "output_type": "display_data",
          "data": {
            "image/png": "[encoded data removed]",
            "text/plain": [
              "<Figure size 432x288 with 1 Axes>"
            ]
          },
          "metadata": {
            "tags": []
          }
        }
      ]
    },
    {
      "cell_type": "code",
      "metadata": {
        "id": "MLURRF9pFqX_",
        "colab_type": "code",
        "colab": {
          "base_uri": "https://localhost:8080/",
          "height": 119
        },
        "outputId": "7ab208de-9878-41c6-82ef-d569e516119a"
      },
      "source": [
        "# are they different or the same?\n",
        "for x in [0, 1, 2]:\n",
        "  print(wine[wine['origin']==x]['ash'].mean())\n",
        "  \n",
        "  print(wine[wine['origin']==x]['ash'].std())\n"
      ],
      "execution_count": 68,
      "outputs": [
        {
          "output_type": "stream",
          "text": [
            "2.455593220338984\n",
            "0.2271659820517139\n",
            "2.244788732394365\n",
            "0.31546726864369473\n",
            "2.4370833333333333\n",
            "0.1846901756805375\n"
          ],
          "name": "stdout"
        }
      ]
    },
    {
      "cell_type": "code",
      "metadata": {
        "id": "PCFtDkrDFqYA",
        "colab_type": "code",
        "colab": {}
      },
      "source": [
        "# create two samples from the two origins\n",
        "ash1 = wine[wine['origin']==1]['ash']\n",
        "ash2 = wine[wine['origin']==2]['ash']"
      ],
      "execution_count": 0,
      "outputs": []
    },
    {
      "cell_type": "code",
      "metadata": {
        "id": "Z0bwtLfLFqYC",
        "colab_type": "code",
        "colab": {
          "base_uri": "https://localhost:8080/",
          "height": 34
        },
        "outputId": "4cfb0544-1064-45fa-c1d7-408bf859cf52"
      },
      "source": [
        "# compare samples 0 and 1. do they have the same ash content in the soil?\n",
        "ttest_ind(ash1, ash2)"
      ],
      "execution_count": 70,
      "outputs": [
        {
          "output_type": "execute_result",
          "data": {
            "text/plain": [
              "Ttest_indResult(statistic=-3.802392838959142, pvalue=0.00022925708961331424)"
            ]
          },
          "metadata": {
            "tags": []
          },
          "execution_count": 70
        }
      ]
    },
    {
      "cell_type": "code",
      "metadata": {
        "id": "XfG2pEqYjj0W",
        "colab_type": "code",
        "colab": {
          "base_uri": "https://localhost:8080/",
          "height": 34
        },
        "outputId": "387daeaa-193d-44f5-9a79-2116dc0ee7fe"
      },
      "source": [
        "ttest_ind(ash1, ash2).pvalue"
      ],
      "execution_count": 71,
      "outputs": [
        {
          "output_type": "execute_result",
          "data": {
            "text/plain": [
              "0.00022925708961331424"
            ]
          },
          "metadata": {
            "tags": []
          },
          "execution_count": 71
        }
      ]
    },
    {
      "cell_type": "code",
      "metadata": {
        "id": "p1TB83cgFqYD",
        "colab_type": "code",
        "colab": {
          "base_uri": "https://localhost:8080/",
          "height": 34
        },
        "outputId": "4049827f-634c-43a6-d85d-0ff9b5869559"
      },
      "source": [
        "# is the pvalue less than 0.05?\n",
        "ttest_ind(ash1, ash2).pvalue < 0.05"
      ],
      "execution_count": 72,
      "outputs": [
        {
          "output_type": "execute_result",
          "data": {
            "text/plain": [
              "True"
            ]
          },
          "metadata": {
            "tags": []
          },
          "execution_count": 72
        }
      ]
    },
    {
      "cell_type": "markdown",
      "metadata": {
        "id": "T1mjzryNFqYE",
        "colab_type": "text"
      },
      "source": [
        "#### Alcohol content"
      ]
    },
    {
      "cell_type": "code",
      "metadata": {
        "id": "cIFePKxyFqYH",
        "colab_type": "code",
        "colab": {
          "base_uri": "https://localhost:8080/",
          "height": 265
        },
        "outputId": "599c48a0-8de9-4bff-a088-f687e92e2f4d"
      },
      "source": [
        "# compare mean alcohol for two origin groups\n",
        "for group in range(0,2):\n",
        "  sns.kdeplot(wine[wine['origin']==group]['alcohol'], label=group)"
      ],
      "execution_count": 73,
      "outputs": [
        {
          "output_type": "display_data",
          "data": {
            "image/png": "[encoded data removed]",
            "text/plain": [
              "<Figure size 432x288 with 1 Axes>"
            ]
          },
          "metadata": {
            "tags": []
          }
        }
      ]
    },
    {
      "cell_type": "code",
      "metadata": {
        "id": "0z63otCoFqYI",
        "colab_type": "code",
        "colab": {}
      },
      "source": [
        "# create the groups\n",
        "group1 = wine[wine['origin']==1]['alcohol']\n",
        "group2 = wine[wine['origin']==2]['alcohol']"
      ],
      "execution_count": 0,
      "outputs": []
    },
    {
      "cell_type": "code",
      "metadata": {
        "id": "OW3LytIOFqYM",
        "colab_type": "code",
        "colab": {
          "base_uri": "https://localhost:8080/",
          "height": 34
        },
        "outputId": "c64a6481-b9a5-4be6-cd7d-f642cc723430"
      },
      "source": [
        "# run the t-test and interpret the p-value\n",
        "ttest_ind(group1, group2)"
      ],
      "execution_count": 75,
      "outputs": [
        {
          "output_type": "execute_result",
          "data": {
            "text/plain": [
              "Ttest_indResult(statistic=-8.75468634298109, pvalue=1.8274340185929396e-14)"
            ]
          },
          "metadata": {
            "tags": []
          },
          "execution_count": 75
        }
      ]
    },
    {
      "cell_type": "code",
      "metadata": {
        "id": "p1trBzdFFqYO",
        "colab_type": "code",
        "colab": {
          "base_uri": "https://localhost:8080/",
          "height": 34
        },
        "outputId": "de15fa6a-fb4d-496b-9de7-e8209c6fbbfc"
      },
      "source": [
        "# format so it's not in scientific notation\n",
        "p = ttest_ind(group1, group2).pvalue\n",
        "print('{:.15f}'.format(p))"
      ],
      "execution_count": 77,
      "outputs": [
        {
          "output_type": "stream",
          "text": [
            "0.000000000000018\n"
          ],
          "name": "stdout"
        }
      ]
    },
    {
      "cell_type": "markdown",
      "metadata": {
        "id": "Ze6Zj3fBFqYP",
        "colab_type": "text"
      },
      "source": [
        "#### Same analysis, on hue"
      ]
    },
    {
      "cell_type": "code",
      "metadata": {
        "id": "lsBDOs0jFqYP",
        "colab_type": "code",
        "colab": {
          "base_uri": "https://localhost:8080/",
          "height": 265
        },
        "outputId": "acf81972-bbbe-475e-9b30-c6223d653416"
      },
      "source": [
        "for color in range(0,2):\n",
        "  sns.kdeplot(wine[wine['origin']==color]['hue'], label=color)"
      ],
      "execution_count": 78,
      "outputs": [
        {
          "output_type": "display_data",
          "data": {
            "image/png": "[encoded data removed]",
            "text/plain": [
              "<Figure size 432x288 with 1 Axes>"
            ]
          },
          "metadata": {
            "tags": []
          }
        }
      ]
    },
    {
      "cell_type": "code",
      "metadata": {
        "id": "Uw8h2JVIFqYR",
        "colab_type": "code",
        "colab": {}
      },
      "source": [
        "# create the groups\n",
        "hue1 = wine[wine['origin']==1]['hue']\n",
        "hue2 = wine[wine['origin']==2]['hue']"
      ],
      "execution_count": 0,
      "outputs": []
    },
    {
      "cell_type": "code",
      "metadata": {
        "id": "CY8K1xfTFqYS",
        "colab_type": "code",
        "colab": {
          "base_uri": "https://localhost:8080/",
          "height": 34
        },
        "outputId": "0d504ff5-8f47-4879-bcdc-3fccd376fd74"
      },
      "source": [
        "# run the t-test\n",
        "ttest_ind(hue1, hue2)"
      ],
      "execution_count": 81,
      "outputs": [
        {
          "output_type": "execute_result",
          "data": {
            "text/plain": [
              "Ttest_indResult(statistic=11.561428710917667, pvalue=4.38574185064805e-21)"
            ]
          },
          "metadata": {
            "tags": []
          },
          "execution_count": 81
        }
      ]
    },
    {
      "cell_type": "code",
      "metadata": {
        "id": "8pOlTVoRFqYV",
        "colab_type": "code",
        "colab": {
          "base_uri": "https://localhost:8080/",
          "height": 34
        },
        "outputId": "7c1971b4-c8bb-4bed-b64f-b09c1a58d389"
      },
      "source": [
        "phue = ttest_ind(hue1, hue2).pvalue\n",
        "print('{:.30f}'.format(phue))"
      ],
      "execution_count": 83,
      "outputs": [
        {
          "output_type": "stream",
          "text": [
            "0.000000000000000000004385741851\n"
          ],
          "name": "stdout"
        }
      ]
    },
    {
      "cell_type": "markdown",
      "metadata": {
        "colab_type": "text",
        "id": "wiq83guLcuAE"
      },
      "source": [
        "# Resources\n",
        "\n",
        "- https://homepage.divms.uiowa.edu/~mbognar/applets/t.html\n",
        "- https://rpsychologist.com/d3/tdist/\n",
        "- https://gallery.shinyapps.io/tdist/\n",
        "- https://en.wikipedia.org/wiki/Standard_deviation#Sample_standard_deviation_of_metabolic_rate_of_northern_fulmars\n",
        "- https://www.khanacademy.org/math/ap-statistics/two-sample-inference/two-sample-t-test-means/v/two-sample-t-test-for-difference-of-means"
      ]
    }
  ]
}