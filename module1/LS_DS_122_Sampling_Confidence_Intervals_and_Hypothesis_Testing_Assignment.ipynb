{
  "nbformat": 4,
  "nbformat_minor": 0,
  "metadata": {
    "colab": {
      "name": "Copy of LS_DS_122_Sampling_Confidence_Intervals_and_Hypothesis_Testing_Assignment.ipynb",
      "provenance": [],
      "collapsed_sections": [],
      "include_colab_link": true
    },
    "kernelspec": {
      "name": "python3",
      "display_name": "Python 3"
    }
  },
  "cells": [
    {
      "cell_type": "markdown",
      "metadata": {
        "id": "view-in-github",
        "colab_type": "text"
      },
      "source": [
        "<a href=\"https://colab.research.google.com/github/MaxTheMooshroom/DS-Unit-1-Sprint-2-Statistics/blob/master/module1/LS_DS_122_Sampling_Confidence_Intervals_and_Hypothesis_Testing_Assignment.ipynb\" target=\"_parent\"><img src=\"https://colab.research.google.com/assets/colab-badge.svg\" alt=\"Open In Colab\"/></a>"
      ]
    },
    {
      "cell_type": "markdown",
      "metadata": {
        "id": "11OzdxWTM7UR",
        "colab_type": "text"
      },
      "source": [
        "## Assignment - Build a confidence interval\n",
        "\n",
        "A confidence interval refers to a neighborhood around some point estimate, the size of which is determined by the desired p-value. For instance, we might say that 52% of Americans prefer tacos to burritos, with a 95% confidence interval of +/- 5%.\n",
        "\n",
        "52% (0.52) is the point estimate, and +/- 5% (the interval $[0.47, 0.57]$) is the confidence interval. \"95% confidence\" means a p-value $\\leq 1 - 0.95 = 0.05$.\n",
        "\n",
        "In this case, the confidence interval includes $0.5$ - which is the natural null hypothesis (that half of Americans prefer tacos and half burritos, thus there is no clear favorite). So in this case, we could use the confidence interval to report that we've failed to reject the null hypothesis.\n",
        "\n",
        "But providing the full analysis with a confidence interval, including a graphical representation of it, can be a helpful and powerful way to tell your story. Done well, it is also more intuitive to a layperson than simply saying \"fail to reject the null hypothesis\" - it shows that in fact the data does *not* give a single clear result (the point estimate) but a whole range of possibilities.\n",
        "\n",
        "How is a confidence interval built, and how should it be interpreted? It does *not* mean that 95% of the data lies in that interval - instead, the frequentist interpretation is \"if we were to repeat this experiment 100 times, we would expect the average result to lie in this interval ~95 times.\"\n",
        "\n",
        "For a 95% confidence interval and a normal(-ish) distribution, you can simply remember that +/-2 standard deviations contains 95% of the probability mass, and so the 95% confidence interval based on a given sample is centered at the mean (point estimate) and has a range of +/- 2 (or technically 1.96) standard deviations.\n",
        "\n",
        "Different distributions/assumptions (90% confidence, 99% confidence) will require different math, but the overall process and interpretation (with a frequentist approach) will be the same.\n",
        "\n",
        "Your assignment - using the data from the prior module ([congressional voting records](https://archive.ics.uci.edu/ml/datasets/Congressional+Voting+Records)):\n",
        "\n",
        "\n",
        "### Confidence Intervals:\n",
        "1. Generate and numerically represent a confidence interval\n",
        "2. Graphically (with a plot) represent the confidence interval\n",
        "3. Interpret the confidence interval - what does it tell you about the data and its distribution?\n",
        "\n",
        "### Chi-squared tests:\n",
        "4. Take a dataset that we have used in the past in class that has **categorical** variables. Pick two of those categorical variables and run a chi-squared tests on that data\n",
        "  - By hand using Numpy\n",
        "  - In a single line using Scipy\n"
      ]
    },
    {
      "cell_type": "code",
      "metadata": {
        "id": "HnaGVFlOEUev",
        "colab_type": "code",
        "colab": {}
      },
      "source": [
        "import numpy as np\n",
        "import pandas as pd\n",
        "\n",
        "def roll(sides, num_rolls):\n",
        "  sample_means = []\n",
        "  for x in range(0,1000):\n",
        "    coinflips = np.random.standard_normal(num_rolls) % sides\n",
        "    sample_means.append(pd.Series(coinflips).mean())\n",
        "  return sample_means"
      ],
      "execution_count": 0,
      "outputs": []
    },
    {
      "cell_type": "code",
      "metadata": {
        "id": "n_fdHCHuKgFS",
        "colab_type": "code",
        "colab": {}
      },
      "source": [
        "data = pd.Series(roll(20, 1000))\n",
        "data2 = pd.Series(roll(20, 500))"
      ],
      "execution_count": 0,
      "outputs": []
    },
    {
      "cell_type": "code",
      "metadata": {
        "id": "ONdj3h2fUHL0",
        "colab_type": "code",
        "outputId": "88a0e661-de81-4b5d-9909-3f9b57c8b4e7",
        "colab": {
          "base_uri": "https://localhost:8080/",
          "height": 33
        }
      },
      "source": [
        "print(np.mean(data), np.mean(data2))"
      ],
      "execution_count": 7,
      "outputs": [
        {
          "output_type": "stream",
          "text": [
            "9.99974853712773 9.988610772365197\n"
          ],
          "name": "stdout"
        }
      ]
    },
    {
      "cell_type": "code",
      "metadata": {
        "id": "Ckcr4A4FM7cs",
        "colab_type": "code",
        "outputId": "6bc9c88a-4aa9-49eb-8235-1f9376958f00",
        "colab": {
          "base_uri": "https://localhost:8080/",
          "height": 402
        }
      },
      "source": [
        "import seaborn as sns\n",
        "import matplotlib.pyplot as plt\n",
        "import pandas as pd\n",
        "from scipy.stats import bayes_mvs\n",
        "\n",
        "fig, ax = plt.subplots()\n",
        "\n",
        "b = bayes_mvs(data)\n",
        "\n",
        "print(\"Mean: {0} (red)\\nRange of 1 std dev: {1}:{2} (blue) \\nRange of 2 std devs: {3}:{4} (blue)\\n\\n\".format(b[0][0], b[0][0] - b[2][0], b[0][0] + b[2][0], b[0][0] - 2 * b[2][0], b[0][0] + 2 * b[2][0]))\n",
        "\n",
        "ax.vlines(x=[b[0][0]], ymin=0, ymax=1.5, colors=['red'])\n",
        "ax.vlines(x=[b[0][0] - b[2][0]], ymin=0, ymax=1, colors=['blue'])\n",
        "ax.vlines(x=[b[0][0] + b[2][0]], ymin=0, ymax=1, colors=['blue'])\n",
        "ax.vlines(x=[b[0][0] - 2 * b[2][0]], ymin=0, ymax=.5, colors=['blue'])\n",
        "ax.vlines(x=[b[0][0] + 2 * b[2][0]], ymin=0, ymax=.5, colors=['blue'])\n",
        "ax.vlines(x=[b[0][0] - 3 * b[2][0]], ymin=0, ymax=.25, colors=['blue'])\n",
        "ax.vlines(x=[b[0][0] + 3 * b[2][0]], ymin=0, ymax=.25, colors=['blue'])\n",
        "\n",
        "b = bayes_mvs(data2)\n",
        "\n",
        "print(\"Mean: {0} (yellow)\\nRange of 1 std dev: {1}:{2} (orange) \\nRange of 2 std devs: {3}:{4} (orange)\".format(b[0][0], b[0][0] - b[2][0], b[0][0] + b[2][0], b[0][0] - 2 * b[2][0], b[0][0] + 2 * b[2][0]))\n",
        "\n",
        "ax.vlines(x=[b[0][0]], ymin=0, ymax=1, colors=['yellow'])\n",
        "ax.vlines(x=[b[0][0] - b[2][0]], ymin=0, ymax=.75, colors=['orange'])\n",
        "ax.vlines(x=[b[0][0] + b[2][0]], ymin=0, ymax=.75, colors=['orange'])\n",
        "ax.vlines(x=[b[0][0] - 2 * b[2][0]], ymin=0, ymax=.3, colors=['orange'])\n",
        "ax.vlines(x=[b[0][0] + 2 * b[2][0]], ymin=0, ymax=.3, colors=['orange'])\n",
        "ax.vlines(x=[b[0][0] - 3 * b[2][0]], ymin=0, ymax=.15, colors=['orange'])\n",
        "ax.vlines(x=[b[0][0] + 3 * b[2][0]], ymin=0, ymax=.15, colors=['orange'])\n",
        "\n",
        "sns.distplot(data)\n",
        "sns.distplot(data2);"
      ],
      "execution_count": 8,
      "outputs": [
        {
          "output_type": "stream",
          "text": [
            "Mean: 9.99974853712773 (red)\n",
            "Range of 1 std dev: 9.70133558971371:10.29816148454175 (blue) \n",
            "Range of 2 std devs: 9.40292264229969:10.59657443195577 (blue)\n",
            "\n",
            "\n",
            "Mean: 9.988610772365197 (yellow)\n",
            "Range of 1 std dev: 9.567161627437624:10.41005991729277 (orange) \n",
            "Range of 2 std devs: 9.145712482510053:10.831509062220341 (orange)\n"
          ],
          "name": "stdout"
        },
        {
          "output_type": "display_data",
          "data": {
            "image/png": "[encoded data removed]",
            "text/plain": [
              "<Figure size 432x288 with 1 Axes>"
            ]
          },
          "metadata": {
            "tags": []
          }
        }
      ]
    },
    {
      "cell_type": "markdown",
      "metadata": {
        "id": "ta9XC3YD2pvU",
        "colab_type": "text"
      },
      "source": [
        "###Interpretation\n",
        "Less samples have less confidence\n",
        "___\n",
        "##Chi-squared tests:\n",
        "###By hand:"
      ]
    },
    {
      "cell_type": "code",
      "metadata": {
        "id": "pRMzwF9F25_5",
        "colab_type": "code",
        "colab": {}
      },
      "source": [
        ""
      ],
      "execution_count": 0,
      "outputs": []
    },
    {
      "cell_type": "markdown",
      "metadata": {
        "id": "4ohsJhQUmEuS",
        "colab_type": "text"
      },
      "source": [
        "## Stretch goals:\n",
        "\n",
        "1. Write a summary of your findings, mixing prose and math/code/results. *Note* - yes, this is by definition a political topic. It is challenging but important to keep your writing voice *neutral* and stick to the facts of the data. Data science often involves considering controversial issues, so it's important to be sensitive about them (especially if you want to publish).\n",
        "2. Apply the techniques you learned today to your project data or other data of your choice, and write/discuss your findings here.\n",
        "3. Refactor your code so it is elegant, readable, and can be easily run for all issues."
      ]
    },
    {
      "cell_type": "markdown",
      "metadata": {
        "id": "nyJ3ySr7R2k9",
        "colab_type": "text"
      },
      "source": [
        "## Resources\n",
        "\n",
        "- [Interactive visualize the Chi-Squared test](https://homepage.divms.uiowa.edu/~mbognar/applets/chisq.html)\n",
        "- [Calculation of Chi-Squared test statistic](https://en.wikipedia.org/wiki/Pearson%27s_chi-squared_test)\n",
        "- [Visualization of a confidence interval generated by R code](https://commons.wikimedia.org/wiki/File:Confidence-interval.svg)\n",
        "- [Expected value of a squared standard normal](https://math.stackexchange.com/questions/264061/expected-value-calculation-for-squared-normal-distribution) (it's 1 - which is why the expected value of a Chi-Squared with $n$ degrees of freedom is $n$, as it's the sum of $n$ squared standard normals)"
      ]
    }
  ]
}