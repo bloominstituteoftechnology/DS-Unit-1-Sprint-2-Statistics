{
  "nbformat": 4,
  "nbformat_minor": 0,
  "metadata": {
    "colab": {
      "name": "Lecture - Statistics Probability and Inference",
      "provenance": [],
      "collapsed_sections": [],
      "include_colab_link": true
    },
    "kernelspec": {
      "display_name": "Python 3",
      "language": "python",
      "name": "python3"
    },
    "language_info": {
      "codemirror_mode": {
        "name": "ipython",
        "version": 3
      },
      "file_extension": ".py",
      "mimetype": "text/x-python",
      "name": "python",
      "nbconvert_exporter": "python",
      "pygments_lexer": "ipython3",
      "version": "3.7.3"
    }
  },
  "cells": [
    {
      "cell_type": "markdown",
      "metadata": {
        "id": "view-in-github",
        "colab_type": "text"
      },
      "source": [
        "<a href=\"https://colab.research.google.com/github/Struth-Rourke/DS-Unit-1-Sprint-2-Statistics/blob/master/module1/Lecture_Statistics_Probability_and_Inference.ipynb\" target=\"_parent\"><img src=\"https://colab.research.google.com/assets/colab-badge.svg\" alt=\"Open In Colab\"/></a>"
      ]
    },
    {
      "cell_type": "markdown",
      "metadata": {
        "colab_type": "text",
        "id": "eJGtmni-DezY"
      },
      "source": [
        "<img align=\"left\" src=\"https://lever-client-logos.s3.amazonaws.com/864372b1-534c-480e-acd5-9711f850815c-1524247202159.png\" width=200>\n",
        "\n",
        "<br></br>\n",
        "<br></br>\n",
        "\n",
        "## *Data Science Unit 1 Sprint 2 Lesson 1*\n",
        "\n",
        "# Statistics, Probability and Inference\n",
        "\n",
        "## Learning Objectives\n",
        "* [Part 1](#p1): Normal Distribution Revisted\n",
        "* [Part 2](#p2): Student's T Test\n",
        "* [Part 3](#p3): Hypothesis Test & Doing it Live"
      ]
    },
    {
      "cell_type": "markdown",
      "metadata": {
        "id": "WOXkk77hbeP5",
        "colab_type": "text"
      },
      "source": [
        "## What is Descriptive Statistics?\n",
        "\n",
        "<https://statistics.laerd.com/statistical-guides/descriptive-inferential-statistics.php>"
      ]
    },
    {
      "cell_type": "code",
      "metadata": {
        "id": "aGsGGy4Mb9IG",
        "colab_type": "code",
        "outputId": "949c510b-b07c-4bfa-f402-e84fbdfbdd75",
        "colab": {
          "base_uri": "https://localhost:8080/",
          "height": 204
        }
      },
      "source": [
        "import pandas as pd\n",
        "df = pd.DataFrame({'a': [1,2,3,4,5], 'b': [2,4,6,8,10]})\n",
        "df.head()"
      ],
      "execution_count": 2,
      "outputs": [
        {
          "output_type": "execute_result",
          "data": {
            "text/html": [
              "<div>\n",
              "<style scoped>\n",
              "    .dataframe tbody tr th:only-of-type {\n",
              "        vertical-align: middle;\n",
              "    }\n",
              "\n",
              "    .dataframe tbody tr th {\n",
              "        vertical-align: top;\n",
              "    }\n",
              "\n",
              "    .dataframe thead th {\n",
              "        text-align: right;\n",
              "    }\n",
              "</style>\n",
              "<table border=\"1\" class=\"dataframe\">\n",
              "  <thead>\n",
              "    <tr style=\"text-align: right;\">\n",
              "      <th></th>\n",
              "      <th>a</th>\n",
              "      <th>b</th>\n",
              "    </tr>\n",
              "  </thead>\n",
              "  <tbody>\n",
              "    <tr>\n",
              "      <th>0</th>\n",
              "      <td>1</td>\n",
              "      <td>2</td>\n",
              "    </tr>\n",
              "    <tr>\n",
              "      <th>1</th>\n",
              "      <td>2</td>\n",
              "      <td>4</td>\n",
              "    </tr>\n",
              "    <tr>\n",
              "      <th>2</th>\n",
              "      <td>3</td>\n",
              "      <td>6</td>\n",
              "    </tr>\n",
              "    <tr>\n",
              "      <th>3</th>\n",
              "      <td>4</td>\n",
              "      <td>8</td>\n",
              "    </tr>\n",
              "    <tr>\n",
              "      <th>4</th>\n",
              "      <td>5</td>\n",
              "      <td>10</td>\n",
              "    </tr>\n",
              "  </tbody>\n",
              "</table>\n",
              "</div>"
            ],
            "text/plain": [
              "   a   b\n",
              "0  1   2\n",
              "1  2   4\n",
              "2  3   6\n",
              "3  4   8\n",
              "4  5  10"
            ]
          },
          "metadata": {
            "tags": []
          },
          "execution_count": 2
        }
      ]
    },
    {
      "cell_type": "code",
      "metadata": {
        "id": "K-73WFB5cI1_",
        "colab_type": "code",
        "colab": {
          "base_uri": "https://localhost:8080/",
          "height": 297
        },
        "outputId": "c567788e-09d0-445a-d4c8-9aad365cb1be"
      },
      "source": [
        "# How can we quickly look at some descriptive statistics of the above dataframe?\n",
        "\n",
        "# Descriptive stats describe a variables: center (median, mean); spread (variance, std dev); distribution (ranges, quartiles, etc.)\n",
        "df.describe()"
      ],
      "execution_count": 3,
      "outputs": [
        {
          "output_type": "execute_result",
          "data": {
            "text/html": [
              "<div>\n",
              "<style scoped>\n",
              "    .dataframe tbody tr th:only-of-type {\n",
              "        vertical-align: middle;\n",
              "    }\n",
              "\n",
              "    .dataframe tbody tr th {\n",
              "        vertical-align: top;\n",
              "    }\n",
              "\n",
              "    .dataframe thead th {\n",
              "        text-align: right;\n",
              "    }\n",
              "</style>\n",
              "<table border=\"1\" class=\"dataframe\">\n",
              "  <thead>\n",
              "    <tr style=\"text-align: right;\">\n",
              "      <th></th>\n",
              "      <th>a</th>\n",
              "      <th>b</th>\n",
              "    </tr>\n",
              "  </thead>\n",
              "  <tbody>\n",
              "    <tr>\n",
              "      <th>count</th>\n",
              "      <td>5.000000</td>\n",
              "      <td>5.000000</td>\n",
              "    </tr>\n",
              "    <tr>\n",
              "      <th>mean</th>\n",
              "      <td>3.000000</td>\n",
              "      <td>6.000000</td>\n",
              "    </tr>\n",
              "    <tr>\n",
              "      <th>std</th>\n",
              "      <td>1.581139</td>\n",
              "      <td>3.162278</td>\n",
              "    </tr>\n",
              "    <tr>\n",
              "      <th>min</th>\n",
              "      <td>1.000000</td>\n",
              "      <td>2.000000</td>\n",
              "    </tr>\n",
              "    <tr>\n",
              "      <th>25%</th>\n",
              "      <td>2.000000</td>\n",
              "      <td>4.000000</td>\n",
              "    </tr>\n",
              "    <tr>\n",
              "      <th>50%</th>\n",
              "      <td>3.000000</td>\n",
              "      <td>6.000000</td>\n",
              "    </tr>\n",
              "    <tr>\n",
              "      <th>75%</th>\n",
              "      <td>4.000000</td>\n",
              "      <td>8.000000</td>\n",
              "    </tr>\n",
              "    <tr>\n",
              "      <th>max</th>\n",
              "      <td>5.000000</td>\n",
              "      <td>10.000000</td>\n",
              "    </tr>\n",
              "  </tbody>\n",
              "</table>\n",
              "</div>"
            ],
            "text/plain": [
              "              a          b\n",
              "count  5.000000   5.000000\n",
              "mean   3.000000   6.000000\n",
              "std    1.581139   3.162278\n",
              "min    1.000000   2.000000\n",
              "25%    2.000000   4.000000\n",
              "50%    3.000000   6.000000\n",
              "75%    4.000000   8.000000\n",
              "max    5.000000  10.000000"
            ]
          },
          "metadata": {
            "tags": []
          },
          "execution_count": 3
        }
      ]
    },
    {
      "cell_type": "markdown",
      "metadata": {
        "id": "wtobOQescQU6",
        "colab_type": "text"
      },
      "source": [
        "## What is Inferential Statistics?\n",
        "\n",
        "<https://slideplayer.com/slide/5130463/16/images/2/Statistical+Inference.jpg>"
      ]
    },
    {
      "cell_type": "markdown",
      "metadata": {
        "id": "zsb1KMUSc2xe",
        "colab_type": "text"
      },
      "source": [
        "## Hypothesis Testing (T-Tests)\n",
        "\n",
        "Drawing conclusions based on probability in the face of randomness"
      ]
    },
    {
      "cell_type": "markdown",
      "metadata": {
        "id": "8y3UAjKk2a9Q",
        "colab_type": "text"
      },
      "source": [
        "\n",
        "\n",
        "Is the sample reflective of our concept of the population?"
      ]
    },
    {
      "cell_type": "code",
      "metadata": {
        "id": "cPn_nCwv2g8u",
        "colab_type": "code",
        "colab": {
          "base_uri": "https://localhost:8080/",
          "height": 34
        },
        "outputId": "f0a01fc6-866f-4009-c2a4-6df358568c18"
      },
      "source": [
        "# Coinflips example - What is the population?\n",
        "import numpy as np\n",
        "\n",
        "coinflips = np.random.binomial(n = 1, p = .5, size = 10)\n",
        "\n",
        "coinflips.mean()"
      ],
      "execution_count": 13,
      "outputs": [
        {
          "output_type": "execute_result",
          "data": {
            "text/plain": [
              "0.506"
            ]
          },
          "metadata": {
            "tags": []
          },
          "execution_count": 13
        }
      ]
    },
    {
      "cell_type": "code",
      "metadata": {
        "id": "_CGDpMjZLvpl",
        "colab_type": "code",
        "colab": {
          "base_uri": "https://localhost:8080/",
          "height": 170
        },
        "outputId": "019fcfcb-c961-4b38-ac0e-4f9e8f27fbf4"
      },
      "source": [
        "pd.Series(coinflips).describe()"
      ],
      "execution_count": 14,
      "outputs": [
        {
          "output_type": "execute_result",
          "data": {
            "text/plain": [
              "count    1000.000000\n",
              "mean        0.506000\n",
              "std         0.500214\n",
              "min         0.000000\n",
              "25%         0.000000\n",
              "50%         1.000000\n",
              "75%         1.000000\n",
              "max         1.000000\n",
              "dtype: float64"
            ]
          },
          "metadata": {
            "tags": []
          },
          "execution_count": 14
        }
      ]
    },
    {
      "cell_type": "markdown",
      "metadata": {
        "id": "uckTDVzW2mI9",
        "colab_type": "text"
      },
      "source": [
        "If we repeat the sampling why does our estimate of the mean move around so much? "
      ]
    },
    {
      "cell_type": "code",
      "metadata": {
        "id": "MruqBL-V2lmk",
        "colab_type": "code",
        "colab": {
          "base_uri": "https://localhost:8080/",
          "height": 34
        },
        "outputId": "d1625b4f-a2a5-4e72-e384-3c838881081e"
      },
      "source": [
        "# Coinflips example - See the implications of randomness\n",
        "\n",
        "coinflips = np.random.binomial(n = 1, p = .5, size = 1000)\n",
        "\n",
        "coinflips.mean()"
      ],
      "execution_count": 15,
      "outputs": [
        {
          "output_type": "execute_result",
          "data": {
            "text/plain": [
              "0.492"
            ]
          },
          "metadata": {
            "tags": []
          },
          "execution_count": 15
        }
      ]
    },
    {
      "cell_type": "markdown",
      "metadata": {
        "id": "xg-71rfp23Pn",
        "colab_type": "text"
      },
      "source": [
        "What happens as I increase the sample size? The sample mean deviates less from the...?"
      ]
    },
    {
      "cell_type": "code",
      "metadata": {
        "id": "C9SjxA0z3FdT",
        "colab_type": "code",
        "colab": {}
      },
      "source": [
        "# More Information -> Greater Confidence in the face of randomness\n",
        "\n",
        "coinflips = np.random.binomial(n = 1, p = .5, size = 1000)\n",
        "\n",
        "# Sample Mean\n",
        "coinflips.mean()"
      ],
      "execution_count": 0,
      "outputs": []
    },
    {
      "cell_type": "markdown",
      "metadata": {
        "id": "dv5foTDyNRiP",
        "colab_type": "text"
      },
      "source": [
        "## Standard Error \n",
        "\n",
        "Quantifies how much the sample means moves\n",
        "\n",
        "s = sample standard dev\n",
        "n = our sample size\n",
        "\n",
        "As sample size increases, the SE goes down; vice verse, since amount greatly affects SE of the overall sample"
      ]
    },
    {
      "cell_type": "markdown",
      "metadata": {
        "id": "bohfYwWc624k",
        "colab_type": "text"
      },
      "source": [
        "![Standard Error of the Sample  Mean](https://jungminded.weebly.com/uploads/1/3/5/8/13582285/7285766_orig.jpeg?160)"
      ]
    },
    {
      "cell_type": "markdown",
      "metadata": {
        "id": "7f7Rw9fF3V3k",
        "colab_type": "text"
      },
      "source": [
        "**Conclusion: As our sample size goes up, our estimates (of the mean in this case) get more precise, allowing us to infer things about the population with greater confidence.**\n",
        "\n"
      ]
    },
    {
      "cell_type": "markdown",
      "metadata": {
        "id": "BoAazT-O3-Wm",
        "colab_type": "text"
      },
      "source": [
        "## One Sample T-test\n",
        "\n",
        "What if I didn't have a fair coin?\n",
        "\n",
        "Comparing information from a sample against our concept of the population.\n",
        "\n",
        "![One Sample T Statistic](https://lh3.googleusercontent.com/proxy/CXO8J4hOx3DqUt-vfRfmKN-B9IL0wNZlnbQ6lXnopiAAGQWtLIY-f4qD_2zCX_C3p_aaqi9-Qni2MqUD8mVbnnXWEy-AtAywlEp7bUZuMWIZwmvbFJFhdeHcUY5v-i3vcdg5cL9jdh6votwdHnFd44uE)\n",
        "\n",
        "## Let's Play a Game\n",
        "\n",
        "Head = Give Gwen a dollar; \n",
        "Tails = Gwen gives me a dollar"
      ]
    },
    {
      "cell_type": "markdown",
      "metadata": {
        "id": "J_229CQ-4Wx6",
        "colab_type": "text"
      },
      "source": [
        "## The T-test Process:\n",
        "\n",
        "T- Test: Compares a sample to a concept of a population, and tells me whether or not the sample is reflective of the population or not.\n",
        "\n",
        "Concept of the Population = Fair coin; p = .5"
      ]
    },
    {
      "cell_type": "code",
      "metadata": {
        "id": "g8e7KYQKPX7r",
        "colab_type": "code",
        "colab": {
          "base_uri": "https://localhost:8080/",
          "height": 34
        },
        "outputId": "83044e45-e4c2-4152-a0f2-a9d1609a3a8f"
      },
      "source": [
        "## Let's Play a Game\n",
        "\n",
        "# 1 = Heads \n",
        "coinflips = np.random.binomial(n = 1, p = .6, size = 10)\n",
        "coinflips \n"
      ],
      "execution_count": 20,
      "outputs": [
        {
          "output_type": "execute_result",
          "data": {
            "text/plain": [
              "array([1, 0, 1, 1, 1, 1, 0, 1, 1, 1])"
            ]
          },
          "metadata": {
            "tags": []
          },
          "execution_count": 20
        }
      ]
    },
    {
      "cell_type": "markdown",
      "metadata": {
        "id": "ArzG2NvPPo73",
        "colab_type": "text"
      },
      "source": [
        "## Establish the parts of a 1-sample T-test\n",
        "\n",
        "**Null Hypothesis:** This is a fair coin. My concept of the population is correct $p(heads) = .5$\n",
        "\n",
        "$H_0: \\mu = \\bar{x}$\n",
        "\n",
        "My population mean ($\\mu$) is equal to my sample mean ($\\bar{x}$)\n",
        "\n",
        "**Alternative Hypothesis:** (The opposite) My population mean is different than my sample mean\n",
        "\n",
        "$H_a: \\mu \\neq \\bar{x}$\n",
        "\n",
        "**Confidence Level:** 95% Confidence Level = I am willing to be tricked by the randomness of the process 5% of the time; we could draw the wrong conclusion 5% of the time due to the randomness of the sampling. \n",
        "\n",
        "I want to be 95% confident that my null is false before I reject it; opposite is true as well, I want to be less than 5% confident that my null is true, before I will reject it"
      ]
    },
    {
      "cell_type": "code",
      "metadata": {
        "id": "_00rgdHjP4xu",
        "colab_type": "code",
        "colab": {
          "base_uri": "https://localhost:8080/",
          "height": 34
        },
        "outputId": "55f11b96-08dc-44e0-e77e-1661ceb47907"
      },
      "source": [
        "from scipy import stats\n",
        "\n",
        "# Sample, Null Hypothesis Value (concept of the population, fair coin = .5p of heads)\n",
        "# Is my sample a reflection of my concept of the population\n",
        "# If there's a low probability that my sample is representative of the population -- then reject the null that p = .5\n",
        "stats.ttest_1samp(coinflips, .5)"
      ],
      "execution_count": 22,
      "outputs": [
        {
          "output_type": "execute_result",
          "data": {
            "text/plain": [
              "Ttest_1sampResult(statistic=2.25, pvalue=0.051003260706950763)"
            ]
          },
          "metadata": {
            "tags": []
          },
          "execution_count": 22
        }
      ]
    },
    {
      "cell_type": "markdown",
      "metadata": {
        "id": "u6yhVoUWQbBM",
        "colab_type": "text"
      },
      "source": [
        "**T-stat:** 2.25\n",
        "\n",
        "**P-value:** .0510\n",
        "\n",
        "Probability that the Null is true, given the sample that I have collected/observed\n",
        "\n",
        "5.1%\n",
        "\n",
        "Based on this p-value, should I reject or fail to reject the null?\n",
        "\n",
        "*Critical Value* = Probability threshold for reject vs fail to reject \n",
        "(1 - Confidence Interval) i.e (1 - .95 = .05)\n",
        "\n",
        "p-value >= .05 --> Fail to reject\n",
        "\n",
        "p-value < .05 --> Reject the null\n",
        "\n",
        "**Conclusion:** Based on a p-value of .051, I fail to reject the null that my sample mean of coinflips is equal to my population mean of coinflips. I cannot say that this isn't a fair coin."
      ]
    },
    {
      "cell_type": "code",
      "metadata": {
        "id": "wIv_8Qe84pR8",
        "colab_type": "code",
        "colab": {
          "base_uri": "https://localhost:8080/",
          "height": 34
        },
        "outputId": "1bf1a30e-6f8b-414f-d202-721266645715"
      },
      "source": [
        "# Increase Sample Size\n",
        "\n",
        "coinflips = np.random.binomial(n = 1, p = .6, size = 1000)\n",
        "\n",
        "stats.ttest_1samp(coinflips, .5) "
      ],
      "execution_count": 51,
      "outputs": [
        {
          "output_type": "execute_result",
          "data": {
            "text/plain": [
              "Ttest_1sampResult(statistic=5.188868747067806, pvalue=2.5618587469830977e-07)"
            ]
          },
          "metadata": {
            "tags": []
          },
          "execution_count": 51
        }
      ]
    },
    {
      "cell_type": "markdown",
      "metadata": {
        "id": "P8KkaAmEUtr4",
        "colab_type": "text"
      },
      "source": [
        "**Conclusion:** Based on a p-value of .00000025, I reject the null that my sample mean of coinflips is equal to my population mean of coinflips. I can say that this isn't a fair coin. Supports the alternative hypothesis."
      ]
    },
    {
      "cell_type": "code",
      "metadata": {
        "id": "ZCuv2DZYTxgo",
        "colab_type": "code",
        "colab": {
          "base_uri": "https://localhost:8080/",
          "height": 102
        },
        "outputId": "70f84f19-f49a-4e3d-931b-61fdf82ebca4"
      },
      "source": [
        "coinflips[:100]"
      ],
      "execution_count": 55,
      "outputs": [
        {
          "output_type": "execute_result",
          "data": {
            "text/plain": [
              "array([1, 0, 0, 0, 1, 0, 1, 1, 0, 1, 0, 1, 0, 0, 1, 1, 1, 1, 1, 1, 0, 0,\n",
              "       0, 0, 1, 1, 1, 1, 0, 0, 0, 0, 1, 0, 0, 1, 1, 0, 1, 0, 0, 0, 0, 1,\n",
              "       0, 1, 1, 1, 1, 1, 1, 0, 1, 0, 1, 1, 1, 1, 1, 1, 0, 0, 1, 1, 1, 0,\n",
              "       1, 0, 1, 1, 0, 1, 1, 1, 1, 0, 1, 1, 1, 0, 1, 0, 0, 1, 1, 0, 1, 1,\n",
              "       0, 0, 1, 1, 0, 0, 1, 0, 1, 1, 1, 1])"
            ]
          },
          "metadata": {
            "tags": []
          },
          "execution_count": 55
        }
      ]
    },
    {
      "cell_type": "markdown",
      "metadata": {
        "id": "ilNmU5NYXO8b",
        "colab_type": "text"
      },
      "source": [
        "## As our sample mean gets further away from the null (population mean), the p-value will decrease"
      ]
    },
    {
      "cell_type": "code",
      "metadata": {
        "id": "Le8xfVE-XJTi",
        "colab_type": "code",
        "colab": {
          "base_uri": "https://localhost:8080/",
          "height": 51
        },
        "outputId": "d383bd4f-8ec7-447f-d19a-c1fe0d606014"
      },
      "source": [
        "coinflips = np.random.binomial(n = 1, p = .6, size = 20)\n",
        "print(coinflips.mean())\n",
        "\n",
        "stats.ttest_1samp(coinflips, .5)"
      ],
      "execution_count": 60,
      "outputs": [
        {
          "output_type": "stream",
          "text": [
            "0.4\n"
          ],
          "name": "stdout"
        },
        {
          "output_type": "execute_result",
          "data": {
            "text/plain": [
              "Ttest_1sampResult(statistic=-0.8897565210026089, pvalue=0.3847242304314523)"
            ]
          },
          "metadata": {
            "tags": []
          },
          "execution_count": 60
        }
      ]
    },
    {
      "cell_type": "code",
      "metadata": {
        "id": "6N5sEmUyYX64",
        "colab_type": "code",
        "colab": {
          "base_uri": "https://localhost:8080/",
          "height": 51
        },
        "outputId": "6a0f44be-41bc-4608-ab1d-ec5f9c05ed5f"
      },
      "source": [
        "coinflips = np.random.binomial(n = 1, p = .6, size = 20)\n",
        "print(coinflips.mean())\n",
        "\n",
        "stats.ttest_1samp(coinflips, .5)"
      ],
      "execution_count": 66,
      "outputs": [
        {
          "output_type": "stream",
          "text": [
            "0.7\n"
          ],
          "name": "stdout"
        },
        {
          "output_type": "execute_result",
          "data": {
            "text/plain": [
              "Ttest_1sampResult(statistic=1.9023794624226835, pvalue=0.07239002577225488)"
            ]
          },
          "metadata": {
            "tags": []
          },
          "execution_count": 66
        }
      ]
    },
    {
      "cell_type": "markdown",
      "metadata": {
        "id": "Mo5NFEDr5JiI",
        "colab_type": "text"
      },
      "source": [
        "## Two Sample T-test\n",
        "\n",
        "Comparing two groups or samples against each other rather than a single sample against a population. "
      ]
    },
    {
      "cell_type": "markdown",
      "metadata": {
        "id": "cOnNrJembf5c",
        "colab_type": "text"
      },
      "source": [
        "\n",
        "\n",
        "Ever thought about how long it takes to make a pancake? Have you ever compared the tooking time of a pancake on each eye of your stove? Is the cooking time different between the different eyes? Now, we can run an experiment and collect a sample of 1,000 pancakes on one eye and another 800 pancakes on the other eye. Assumed we used the same pan, batter, and technique on both eyes. Our average cooking times were 180 (5 std) and 178.5 (4.25 std) seconds repsectively. Now, we can tell those numbers are not identicial, but how confident are we that those numbers are practically the same? How do we know the slight difference isn't caused by some external randomness?\n",
        "\n",
        "Yes, today's lesson will help you figure out how long to cook your pancakes (*theoretically*). Experimentation is up to you; otherwise, you have to accept my data as true. How are going to accomplish this? With probability, statistics, inference and maple syrup (optional). \n",
        "\n",
        "<img src=\"https://images.unsplash.com/photo-1541288097308-7b8e3f58c4c6?ixlib=rb-1.2.1&ixid=eyJhcHBfaWQiOjEyMDd9&auto=format&fit=crop&w=3300&q=80\" width=400>\n",
        "\n"
      ]
    },
    {
      "cell_type": "code",
      "metadata": {
        "id": "ltOiL61FaCHX",
        "colab_type": "code",
        "colab": {
          "base_uri": "https://localhost:8080/",
          "height": 51
        },
        "outputId": "8d63b526-340a-4301-9c23-64ba9323b8cb"
      },
      "source": [
        "xbar1 = 180 # Sample Mean 1\n",
        "s1 = 5 # Sample Std. Dev. 1\n",
        "n1 = 1000\n",
        "\n",
        "sample1 = np.random.normal(xbar1, s1, n1)\n",
        "\n",
        "sample1[:5]"
      ],
      "execution_count": 69,
      "outputs": [
        {
          "output_type": "execute_result",
          "data": {
            "text/plain": [
              "array([173.155424  , 183.1012723 , 181.62809258, 176.27824602,\n",
              "       182.05190997])"
            ]
          },
          "metadata": {
            "tags": []
          },
          "execution_count": 69
        }
      ]
    },
    {
      "cell_type": "code",
      "metadata": {
        "id": "3Di1LYjgaNi2",
        "colab_type": "code",
        "colab": {
          "base_uri": "https://localhost:8080/",
          "height": 51
        },
        "outputId": "ea8ad95a-0f8a-4dbf-a240-adbd149539cc"
      },
      "source": [
        "xbar2 = 178.5 # Sample Mean 2\n",
        "s2 = 4.25 # Sample Std. Dev. 2\n",
        "n2 = 800\n",
        "\n",
        "sample2 = np.random.normal(xbar2, s2, n2)\n",
        "\n",
        "sample2[:5]"
      ],
      "execution_count": 71,
      "outputs": [
        {
          "output_type": "execute_result",
          "data": {
            "text/plain": [
              "array([178.69566433, 177.27786253, 172.68707963, 178.16852352,\n",
              "       183.12453756])"
            ]
          },
          "metadata": {
            "tags": []
          },
          "execution_count": 71
        }
      ]
    },
    {
      "cell_type": "markdown",
      "metadata": {
        "id": "of_F7mwZbFoF",
        "colab_type": "text"
      },
      "source": [
        "**Null:** Cooking times of the two burners is the same \n",
        "\n",
        "$\\bar{x}_1 = \\bar{x}_2$ (sample mean 1 is equal to sample mean 2)\n",
        "\n",
        "**Alt:** Cooking times of the two burners is different\n",
        "\n",
        "$\\bar{x}_1 \\neq \\bar{x}_2$ (sample mean 1 is equal to sample mean 2)\n",
        "\n",
        "**CI:** 95%"
      ]
    },
    {
      "cell_type": "code",
      "metadata": {
        "id": "Pm66uJTEbEYX",
        "colab_type": "code",
        "colab": {
          "base_uri": "https://localhost:8080/",
          "height": 34
        },
        "outputId": "d24bec0c-a20a-4c80-c6ad-f2da4e82e056"
      },
      "source": [
        "stats.ttest_ind(sample1, sample2)"
      ],
      "execution_count": 72,
      "outputs": [
        {
          "output_type": "execute_result",
          "data": {
            "text/plain": [
              "Ttest_indResult(statistic=6.352994744904061, pvalue=2.6687441968298414e-10)"
            ]
          },
          "metadata": {
            "tags": []
          },
          "execution_count": 72
        }
      ]
    },
    {
      "cell_type": "markdown",
      "metadata": {
        "id": "B1pVQkEhbxvk",
        "colab_type": "text"
      },
      "source": [
        "**Conclusion:** Based on a t-stat of 6.35 and a p-value of .0000000002668, I reject the null that the sample means are the same, and suggest the alt, that the two burners cook pancakes at different rates. \n",
        "\n",
        "Reject when P-value < (1 - Confidence Level)"
      ]
    },
    {
      "cell_type": "markdown",
      "metadata": {
        "id": "nqPkBMiN5T4z",
        "colab_type": "text"
      },
      "source": [
        "## Lets Practice more 1-sample and 2-sample T-tests\n",
        "\n",
        "Using the dataset that you will be using on your assignment"
      ]
    },
    {
      "cell_type": "code",
      "metadata": {
        "id": "LSJAoKtm5pQO",
        "colab_type": "code",
        "colab": {
          "base_uri": "https://localhost:8080/",
          "height": 204
        },
        "outputId": "6d5fc935-68a8-4993-e9ec-158cccb355f1"
      },
      "source": [
        "# Let's do it!\n",
        "\n",
        "!wget https://archive.ics.uci.edu/ml/machine-learning-databases/voting-records/house-votes-84.data"
      ],
      "execution_count": 73,
      "outputs": [
        {
          "output_type": "stream",
          "text": [
            "--2020-03-16 17:49:20--  https://archive.ics.uci.edu/ml/machine-learning-databases/voting-records/house-votes-84.data\n",
            "Resolving archive.ics.uci.edu (archive.ics.uci.edu)... 128.195.10.252\n",
            "Connecting to archive.ics.uci.edu (archive.ics.uci.edu)|128.195.10.252|:443... connected.\n",
            "HTTP request sent, awaiting response... 200 OK\n",
            "Length: 18171 (18K) [application/x-httpd-php]\n",
            "Saving to: ‘house-votes-84.data’\n",
            "\n",
            "\rhouse-votes-84.data   0%[                    ]       0  --.-KB/s               \rhouse-votes-84.data 100%[===================>]  17.75K  --.-KB/s    in 0.06s   \n",
            "\n",
            "2020-03-16 17:49:21 (278 KB/s) - ‘house-votes-84.data’ saved [18171/18171]\n",
            "\n"
          ],
          "name": "stdout"
        }
      ]
    },
    {
      "cell_type": "code",
      "metadata": {
        "id": "2daMicbyduXU",
        "colab_type": "code",
        "colab": {
          "base_uri": "https://localhost:8080/",
          "height": 275
        },
        "outputId": "cc0315aa-cc34-4fce-d202-4329a9cd57f8"
      },
      "source": [
        "names = ['party','handicapped-infants','water-project',\n",
        "         'budget','physician-fee-freeze', 'el-salvador-aid',\n",
        "         'religious-groups','anti-satellite-ban',\n",
        "         'aid-to-contras','mx-missile','immigration',\n",
        "         'synfuels', 'education', 'right-to-sue','crime','duty-free','south-africa']\n",
        "\n",
        "df = pd.read_csv('house-votes-84.data', names = names)\n",
        "\n",
        "print(df.shape)\n",
        "df.head()"
      ],
      "execution_count": 83,
      "outputs": [
        {
          "output_type": "stream",
          "text": [
            "(435, 17)\n"
          ],
          "name": "stdout"
        },
        {
          "output_type": "execute_result",
          "data": {
            "text/html": [
              "<div>\n",
              "<style scoped>\n",
              "    .dataframe tbody tr th:only-of-type {\n",
              "        vertical-align: middle;\n",
              "    }\n",
              "\n",
              "    .dataframe tbody tr th {\n",
              "        vertical-align: top;\n",
              "    }\n",
              "\n",
              "    .dataframe thead th {\n",
              "        text-align: right;\n",
              "    }\n",
              "</style>\n",
              "<table border=\"1\" class=\"dataframe\">\n",
              "  <thead>\n",
              "    <tr style=\"text-align: right;\">\n",
              "      <th></th>\n",
              "      <th>party</th>\n",
              "      <th>handicapped-infants</th>\n",
              "      <th>water-project</th>\n",
              "      <th>budget</th>\n",
              "      <th>physician-fee-freeze</th>\n",
              "      <th>el-salvador-aid</th>\n",
              "      <th>religious-groups</th>\n",
              "      <th>anti-satellite-ban</th>\n",
              "      <th>aid-to-contras</th>\n",
              "      <th>mx-missile</th>\n",
              "      <th>immigration</th>\n",
              "      <th>synfuels</th>\n",
              "      <th>education</th>\n",
              "      <th>right-to-sue</th>\n",
              "      <th>crime</th>\n",
              "      <th>duty-free</th>\n",
              "      <th>south-africa</th>\n",
              "    </tr>\n",
              "  </thead>\n",
              "  <tbody>\n",
              "    <tr>\n",
              "      <th>0</th>\n",
              "      <td>republican</td>\n",
              "      <td>n</td>\n",
              "      <td>y</td>\n",
              "      <td>n</td>\n",
              "      <td>y</td>\n",
              "      <td>y</td>\n",
              "      <td>y</td>\n",
              "      <td>n</td>\n",
              "      <td>n</td>\n",
              "      <td>n</td>\n",
              "      <td>y</td>\n",
              "      <td>?</td>\n",
              "      <td>y</td>\n",
              "      <td>y</td>\n",
              "      <td>y</td>\n",
              "      <td>n</td>\n",
              "      <td>y</td>\n",
              "    </tr>\n",
              "    <tr>\n",
              "      <th>1</th>\n",
              "      <td>republican</td>\n",
              "      <td>n</td>\n",
              "      <td>y</td>\n",
              "      <td>n</td>\n",
              "      <td>y</td>\n",
              "      <td>y</td>\n",
              "      <td>y</td>\n",
              "      <td>n</td>\n",
              "      <td>n</td>\n",
              "      <td>n</td>\n",
              "      <td>n</td>\n",
              "      <td>n</td>\n",
              "      <td>y</td>\n",
              "      <td>y</td>\n",
              "      <td>y</td>\n",
              "      <td>n</td>\n",
              "      <td>?</td>\n",
              "    </tr>\n",
              "    <tr>\n",
              "      <th>2</th>\n",
              "      <td>democrat</td>\n",
              "      <td>?</td>\n",
              "      <td>y</td>\n",
              "      <td>y</td>\n",
              "      <td>?</td>\n",
              "      <td>y</td>\n",
              "      <td>y</td>\n",
              "      <td>n</td>\n",
              "      <td>n</td>\n",
              "      <td>n</td>\n",
              "      <td>n</td>\n",
              "      <td>y</td>\n",
              "      <td>n</td>\n",
              "      <td>y</td>\n",
              "      <td>y</td>\n",
              "      <td>n</td>\n",
              "      <td>n</td>\n",
              "    </tr>\n",
              "    <tr>\n",
              "      <th>3</th>\n",
              "      <td>democrat</td>\n",
              "      <td>n</td>\n",
              "      <td>y</td>\n",
              "      <td>y</td>\n",
              "      <td>n</td>\n",
              "      <td>?</td>\n",
              "      <td>y</td>\n",
              "      <td>n</td>\n",
              "      <td>n</td>\n",
              "      <td>n</td>\n",
              "      <td>n</td>\n",
              "      <td>y</td>\n",
              "      <td>n</td>\n",
              "      <td>y</td>\n",
              "      <td>n</td>\n",
              "      <td>n</td>\n",
              "      <td>y</td>\n",
              "    </tr>\n",
              "    <tr>\n",
              "      <th>4</th>\n",
              "      <td>democrat</td>\n",
              "      <td>y</td>\n",
              "      <td>y</td>\n",
              "      <td>y</td>\n",
              "      <td>n</td>\n",
              "      <td>y</td>\n",
              "      <td>y</td>\n",
              "      <td>n</td>\n",
              "      <td>n</td>\n",
              "      <td>n</td>\n",
              "      <td>n</td>\n",
              "      <td>y</td>\n",
              "      <td>?</td>\n",
              "      <td>y</td>\n",
              "      <td>y</td>\n",
              "      <td>y</td>\n",
              "      <td>y</td>\n",
              "    </tr>\n",
              "  </tbody>\n",
              "</table>\n",
              "</div>"
            ],
            "text/plain": [
              "        party handicapped-infants water-project  ... crime duty-free south-africa\n",
              "0  republican                   n             y  ...     y         n            y\n",
              "1  republican                   n             y  ...     y         n            ?\n",
              "2    democrat                   ?             y  ...     y         n            n\n",
              "3    democrat                   n             y  ...     n         n            y\n",
              "4    democrat                   y             y  ...     y         y            y\n",
              "\n",
              "[5 rows x 17 columns]"
            ]
          },
          "metadata": {
            "tags": []
          },
          "execution_count": 83
        }
      ]
    },
    {
      "cell_type": "code",
      "metadata": {
        "id": "pejI5GqXd92b",
        "colab_type": "code",
        "colab": {
          "base_uri": "https://localhost:8080/",
          "height": 68
        },
        "outputId": "9041c877-aacb-4dbf-8ffc-83bf54357d4f"
      },
      "source": [
        "df['party'].value_counts()"
      ],
      "execution_count": 84,
      "outputs": [
        {
          "output_type": "execute_result",
          "data": {
            "text/plain": [
              "democrat      267\n",
              "republican    168\n",
              "Name: party, dtype: int64"
            ]
          },
          "metadata": {
            "tags": []
          },
          "execution_count": 84
        }
      ]
    },
    {
      "cell_type": "code",
      "metadata": {
        "id": "x2YbItB9eA-y",
        "colab_type": "code",
        "colab": {
          "base_uri": "https://localhost:8080/",
          "height": 258
        },
        "outputId": "f2c059d6-a1dc-4cc7-fe8c-6a4c479115a5"
      },
      "source": [
        "df = df.replace({'y':1, 'n':0, '?':np.NaN})\n",
        "\n",
        "df.head()"
      ],
      "execution_count": 86,
      "outputs": [
        {
          "output_type": "execute_result",
          "data": {
            "text/html": [
              "<div>\n",
              "<style scoped>\n",
              "    .dataframe tbody tr th:only-of-type {\n",
              "        vertical-align: middle;\n",
              "    }\n",
              "\n",
              "    .dataframe tbody tr th {\n",
              "        vertical-align: top;\n",
              "    }\n",
              "\n",
              "    .dataframe thead th {\n",
              "        text-align: right;\n",
              "    }\n",
              "</style>\n",
              "<table border=\"1\" class=\"dataframe\">\n",
              "  <thead>\n",
              "    <tr style=\"text-align: right;\">\n",
              "      <th></th>\n",
              "      <th>party</th>\n",
              "      <th>handicapped-infants</th>\n",
              "      <th>water-project</th>\n",
              "      <th>budget</th>\n",
              "      <th>physician-fee-freeze</th>\n",
              "      <th>el-salvador-aid</th>\n",
              "      <th>religious-groups</th>\n",
              "      <th>anti-satellite-ban</th>\n",
              "      <th>aid-to-contras</th>\n",
              "      <th>mx-missile</th>\n",
              "      <th>immigration</th>\n",
              "      <th>synfuels</th>\n",
              "      <th>education</th>\n",
              "      <th>right-to-sue</th>\n",
              "      <th>crime</th>\n",
              "      <th>duty-free</th>\n",
              "      <th>south-africa</th>\n",
              "    </tr>\n",
              "  </thead>\n",
              "  <tbody>\n",
              "    <tr>\n",
              "      <th>0</th>\n",
              "      <td>republican</td>\n",
              "      <td>0.0</td>\n",
              "      <td>1.0</td>\n",
              "      <td>0.0</td>\n",
              "      <td>1.0</td>\n",
              "      <td>1.0</td>\n",
              "      <td>1.0</td>\n",
              "      <td>0.0</td>\n",
              "      <td>0.0</td>\n",
              "      <td>0.0</td>\n",
              "      <td>1.0</td>\n",
              "      <td>NaN</td>\n",
              "      <td>1.0</td>\n",
              "      <td>1.0</td>\n",
              "      <td>1.0</td>\n",
              "      <td>0.0</td>\n",
              "      <td>1.0</td>\n",
              "    </tr>\n",
              "    <tr>\n",
              "      <th>1</th>\n",
              "      <td>republican</td>\n",
              "      <td>0.0</td>\n",
              "      <td>1.0</td>\n",
              "      <td>0.0</td>\n",
              "      <td>1.0</td>\n",
              "      <td>1.0</td>\n",
              "      <td>1.0</td>\n",
              "      <td>0.0</td>\n",
              "      <td>0.0</td>\n",
              "      <td>0.0</td>\n",
              "      <td>0.0</td>\n",
              "      <td>0.0</td>\n",
              "      <td>1.0</td>\n",
              "      <td>1.0</td>\n",
              "      <td>1.0</td>\n",
              "      <td>0.0</td>\n",
              "      <td>NaN</td>\n",
              "    </tr>\n",
              "    <tr>\n",
              "      <th>2</th>\n",
              "      <td>democrat</td>\n",
              "      <td>NaN</td>\n",
              "      <td>1.0</td>\n",
              "      <td>1.0</td>\n",
              "      <td>NaN</td>\n",
              "      <td>1.0</td>\n",
              "      <td>1.0</td>\n",
              "      <td>0.0</td>\n",
              "      <td>0.0</td>\n",
              "      <td>0.0</td>\n",
              "      <td>0.0</td>\n",
              "      <td>1.0</td>\n",
              "      <td>0.0</td>\n",
              "      <td>1.0</td>\n",
              "      <td>1.0</td>\n",
              "      <td>0.0</td>\n",
              "      <td>0.0</td>\n",
              "    </tr>\n",
              "    <tr>\n",
              "      <th>3</th>\n",
              "      <td>democrat</td>\n",
              "      <td>0.0</td>\n",
              "      <td>1.0</td>\n",
              "      <td>1.0</td>\n",
              "      <td>0.0</td>\n",
              "      <td>NaN</td>\n",
              "      <td>1.0</td>\n",
              "      <td>0.0</td>\n",
              "      <td>0.0</td>\n",
              "      <td>0.0</td>\n",
              "      <td>0.0</td>\n",
              "      <td>1.0</td>\n",
              "      <td>0.0</td>\n",
              "      <td>1.0</td>\n",
              "      <td>0.0</td>\n",
              "      <td>0.0</td>\n",
              "      <td>1.0</td>\n",
              "    </tr>\n",
              "    <tr>\n",
              "      <th>4</th>\n",
              "      <td>democrat</td>\n",
              "      <td>1.0</td>\n",
              "      <td>1.0</td>\n",
              "      <td>1.0</td>\n",
              "      <td>0.0</td>\n",
              "      <td>1.0</td>\n",
              "      <td>1.0</td>\n",
              "      <td>0.0</td>\n",
              "      <td>0.0</td>\n",
              "      <td>0.0</td>\n",
              "      <td>0.0</td>\n",
              "      <td>1.0</td>\n",
              "      <td>NaN</td>\n",
              "      <td>1.0</td>\n",
              "      <td>1.0</td>\n",
              "      <td>1.0</td>\n",
              "      <td>1.0</td>\n",
              "    </tr>\n",
              "  </tbody>\n",
              "</table>\n",
              "</div>"
            ],
            "text/plain": [
              "        party  handicapped-infants  ...  duty-free  south-africa\n",
              "0  republican                  0.0  ...        0.0           1.0\n",
              "1  republican                  0.0  ...        0.0           NaN\n",
              "2    democrat                  NaN  ...        0.0           0.0\n",
              "3    democrat                  0.0  ...        0.0           1.0\n",
              "4    democrat                  1.0  ...        1.0           1.0\n",
              "\n",
              "[5 rows x 17 columns]"
            ]
          },
          "metadata": {
            "tags": []
          },
          "execution_count": 86
        }
      ]
    },
    {
      "cell_type": "code",
      "metadata": {
        "id": "s6eeUX8feM-Z",
        "colab_type": "code",
        "colab": {}
      },
      "source": [
        "rep = df[df['party'] == 'republican']\n",
        "dem = df[df['party'] == 'democrat']"
      ],
      "execution_count": 0,
      "outputs": []
    },
    {
      "cell_type": "markdown",
      "metadata": {
        "id": "imwh0uEGfJRm",
        "colab_type": "text"
      },
      "source": [
        "## 1-sample T-Test\n",
        "\n",
        "When you're doing a 1-sample t-test, you get to pick what your null hypothesis value is. You decide the conception of the population.\n",
        "\n",
        "Republicans on the handicapped-infants bill\n",
        "\n",
        "Null: Republicans are split on this issue 50-50%\n",
        "\n",
        "Alt: Republicans are not split\n",
        "\n",
        "CI: 95%"
      ]
    },
    {
      "cell_type": "code",
      "metadata": {
        "id": "Ew1g-bcjfIT-",
        "colab_type": "code",
        "colab": {
          "base_uri": "https://localhost:8080/",
          "height": 34
        },
        "outputId": "ed3fd738-1eb8-4547-9881-3048646fdfe5"
      },
      "source": [
        "# I'll get nans for my t-test and p-value if there are NaNs in my sample\n",
        "stats.ttest_1samp(rep['handicapped-infants'], .5) "
      ],
      "execution_count": 103,
      "outputs": [
        {
          "output_type": "execute_result",
          "data": {
            "text/plain": [
              "Ttest_1sampResult(statistic=nan, pvalue=nan)"
            ]
          },
          "metadata": {
            "tags": []
          },
          "execution_count": 103
        }
      ]
    },
    {
      "cell_type": "code",
      "metadata": {
        "id": "_UFdCVV9f-q9",
        "colab_type": "code",
        "colab": {
          "base_uri": "https://localhost:8080/",
          "height": 34
        },
        "outputId": "70b1a4b9-9817-4a4f-9e28-e1169996a782"
      },
      "source": [
        "# Dropping NaN's with 'omit' \n",
        "stats.ttest_1samp(rep['handicapped-infants'], .5, nan_policy = 'omit')\n",
        "\n",
        "# Could alter this to test the entirity of congress of a specific subset by changing to the whole df"
      ],
      "execution_count": 104,
      "outputs": [
        {
          "output_type": "execute_result",
          "data": {
            "text/plain": [
              "Ttest_1sampResult(statistic=-10.232833482397659, pvalue=2.572179359890009e-19)"
            ]
          },
          "metadata": {
            "tags": []
          },
          "execution_count": 104
        }
      ]
    },
    {
      "cell_type": "markdown",
      "metadata": {
        "id": "BILrMAEHgGWy",
        "colab_type": "text"
      },
      "source": [
        "**Conclusion:** Reject the null; republican support is different from a 50% split"
      ]
    },
    {
      "cell_type": "code",
      "metadata": {
        "id": "N6zi8P_XgPwM",
        "colab_type": "code",
        "colab": {
          "base_uri": "https://localhost:8080/",
          "height": 34
        },
        "outputId": "05465183-cc7a-48fe-92e2-d7ff87ad84a9"
      },
      "source": [
        "rep['handicapped-infants'].mean()"
      ],
      "execution_count": 105,
      "outputs": [
        {
          "output_type": "execute_result",
          "data": {
            "text/plain": [
              "0.18787878787878787"
            ]
          },
          "metadata": {
            "tags": []
          },
          "execution_count": 105
        }
      ]
    },
    {
      "cell_type": "markdown",
      "metadata": {
        "id": "_IjzROdfgW01",
        "colab_type": "text"
      },
      "source": [
        "Can change the null value of .5 to something else to test other parameters\n",
        "\n",
        "T-stat is negative, than the actual value is less than the null; not a bad heuristic"
      ]
    },
    {
      "cell_type": "markdown",
      "metadata": {
        "id": "R-sfHvYDgve6",
        "colab_type": "text"
      },
      "source": [
        "## 2-sample t-test (Null is always that the two samples are the same)\n",
        "\n",
        "Null: Two samples are the same\n",
        "\n",
        "Alt: Two samples are different \n",
        "\n",
        "CI: 95%"
      ]
    },
    {
      "cell_type": "code",
      "metadata": {
        "id": "SKOj9U6dgvGy",
        "colab_type": "code",
        "colab": {
          "base_uri": "https://localhost:8080/",
          "height": 34
        },
        "outputId": "a21f4723-0502-48b5-97eb-28bdb0b58bf5"
      },
      "source": [
        "stats.ttest_ind(rep['handicapped-infants'], dem['handicapped-infants'], nan_policy = 'omit')"
      ],
      "execution_count": 106,
      "outputs": [
        {
          "output_type": "execute_result",
          "data": {
            "text/plain": [
              "Ttest_indResult(statistic=-9.205264294809222, pvalue=1.613440327937243e-18)"
            ]
          },
          "metadata": {
            "tags": []
          },
          "execution_count": 106
        }
      ]
    },
    {
      "cell_type": "code",
      "metadata": {
        "id": "4v1yu-2YhiVU",
        "colab_type": "code",
        "colab": {
          "base_uri": "https://localhost:8080/",
          "height": 34
        },
        "outputId": "2d51f40a-9bde-458a-b886-386db10846bf"
      },
      "source": [
        "rep['handicapped-infants'].mean()"
      ],
      "execution_count": 107,
      "outputs": [
        {
          "output_type": "execute_result",
          "data": {
            "text/plain": [
              "0.18787878787878787"
            ]
          },
          "metadata": {
            "tags": []
          },
          "execution_count": 107
        }
      ]
    },
    {
      "cell_type": "code",
      "metadata": {
        "id": "S_lsMRqqhkz8",
        "colab_type": "code",
        "colab": {
          "base_uri": "https://localhost:8080/",
          "height": 34
        },
        "outputId": "c70b2917-09ae-4c56-f6b3-d012e673ad25"
      },
      "source": [
        "dem['handicapped-infants'].mean()"
      ],
      "execution_count": 108,
      "outputs": [
        {
          "output_type": "execute_result",
          "data": {
            "text/plain": [
              "0.6046511627906976"
            ]
          },
          "metadata": {
            "tags": []
          },
          "execution_count": 108
        }
      ]
    },
    {
      "cell_type": "markdown",
      "metadata": {
        "colab_type": "text",
        "id": "FMhDKOFND0qY"
      },
      "source": [
        "## Student's T Test\n",
        "\n",
        ">Assuming data come from a Normal distribution, the t test provides a way to test whether the sample mean (that is the mean calculated from the data) is a good estimate of the population mean. \n",
        "\n",
        "The derivation of the t-distribution was first published in 1908 by William Gosset while working for the Guinness Brewery in Dublin. Due to proprietary issues, he had to publish under a pseudonym, and so he used the name Student.\n",
        "\n",
        "The t-distribution is essentially a distribution of means of normaly distributed data. When we use a t-statistic, we are  checking that a mean fails within a certain $\\alpha$ probability of the mean of means."
      ]
    },
    {
      "cell_type": "markdown",
      "metadata": {
        "colab_type": "text",
        "id": "wiq83guLcuAE"
      },
      "source": [
        "# Resources\n",
        "\n",
        "- https://homepage.divms.uiowa.edu/~mbognar/applets/t.html\n",
        "- https://rpsychologist.com/d3/tdist/\n",
        "- https://gallery.shinyapps.io/tdist/\n",
        "- https://en.wikipedia.org/wiki/Standard_deviation#Sample_standard_deviation_of_metabolic_rate_of_northern_fulmars\n",
        "- https://www.khanacademy.org/math/ap-statistics/two-sample-inference/two-sample-t-test-means/v/two-sample-t-test-for-difference-of-means"
      ]
    },
    {
      "cell_type": "markdown",
      "metadata": {
        "id": "oaYqHy339TeZ",
        "colab_type": "text"
      },
      "source": [
        "Change so I can make pull request"
      ]
    }
  ]
}