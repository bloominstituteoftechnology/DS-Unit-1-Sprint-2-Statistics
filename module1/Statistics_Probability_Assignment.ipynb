{
  "nbformat": 4,
  "nbformat_minor": 0,
  "metadata": {
    "kernelspec": {
      "display_name": "Python 3",
      "language": "python",
      "name": "python3"
    },
    "language_info": {
      "codemirror_mode": {
        "name": "ipython",
        "version": 3
      },
      "file_extension": ".py",
      "mimetype": "text/x-python",
      "name": "python",
      "nbconvert_exporter": "python",
      "pygments_lexer": "ipython3",
      "version": "3.7.3"
    },
    "colab": {
      "name": "Statistics_Probability_Assignment.ipynb",
      "provenance": [],
      "include_colab_link": true
    }
  },
  "cells": [
    {
      "cell_type": "markdown",
      "metadata": {
        "id": "view-in-github",
        "colab_type": "text"
      },
      "source": [
        "<a href=\"https://colab.research.google.com/github/kellischeuble/DS-Unit-1-Sprint-2-Statistics/blob/master/module1/Statistics_Probability_Assignment.ipynb\" target=\"_parent\"><img src=\"https://colab.research.google.com/assets/colab-badge.svg\" alt=\"Open In Colab\"/></a>"
      ]
    },
    {
      "cell_type": "markdown",
      "metadata": {
        "id": "Sa5KWMO1ngPN",
        "colab_type": "text"
      },
      "source": [
        "<img align=\"left\" src=\"https://lever-client-logos.s3.amazonaws.com/864372b1-534c-480e-acd5-9711f850815c-1524247202159.png\" width=200>\n",
        "<br></br>\n",
        "<br></br>\n",
        "\n",
        "## *Data Science Unit 1 Sprint 2 Assignment 1*\n",
        "\n",
        "# Apply the t-test to real data\n",
        "\n",
        "Your assignment is to determine which issues have \"statistically significant\" differences between political parties in this [1980s congressional voting data](https://archive.ics.uci.edu/ml/datasets/Congressional+Voting+Records). The data consists of 435 instances (one for each congressperson), a class (democrat or republican), and 16 binary attributes (yes or no for voting for or against certain issues). Be aware - there are missing values!\n",
        "\n",
        "Your goals:\n",
        "\n",
        "1. Load and clean the data (or determine the best method to drop observations when running tests)\n",
        "2. Using hypothesis testing, find an issue that democrats support more than republicans with p < 0.01\n",
        "3. Using hypothesis testing, find an issue that republicans support more than democrats with p < 0.01\n",
        "4. Using hypothesis testing, find an issue where the difference between republicans and democrats has p > 0.1 (i.e. there may not be much of a difference)\n",
        "\n",
        "Note that this data will involve *2 sample* t-tests, because you're comparing averages across two groups (republicans and democrats) rather than a single group against a null hypothesis.\n",
        "\n",
        "Stretch goals:\n",
        "\n",
        "1. Refactor your code into functions so it's easy to rerun with arbitrary variables\n",
        "2. Apply hypothesis testing to your personal project data (for the purposes of this notebook you can type a summary of the hypothesis you formed and tested)"
      ]
    },
    {
      "cell_type": "code",
      "metadata": {
        "id": "EIf_GWTnigff",
        "colab_type": "code",
        "colab": {}
      },
      "source": [
        "import pandas as pd\n",
        "import numpy as np\n",
        "from scipy.stats import stats"
      ],
      "execution_count": 0,
      "outputs": []
    },
    {
      "cell_type": "code",
      "metadata": {
        "id": "ZKwspo2CngPP",
        "colab_type": "code",
        "outputId": "f38e6d5e-6b3f-4a86-8387-3a53c4cdac92",
        "colab": {
          "base_uri": "https://localhost:8080/",
          "height": 211
        }
      },
      "source": [
        "!wget https://archive.ics.uci.edu/ml/machine-learning-databases/voting-records/house-votes-84.data"
      ],
      "execution_count": 0,
      "outputs": [
        {
          "output_type": "stream",
          "text": [
            "--2020-01-23 04:23:10--  https://archive.ics.uci.edu/ml/machine-learning-databases/voting-records/house-votes-84.data\n",
            "Resolving archive.ics.uci.edu (archive.ics.uci.edu)... 128.195.10.252\n",
            "Connecting to archive.ics.uci.edu (archive.ics.uci.edu)|128.195.10.252|:443... connected.\n",
            "HTTP request sent, awaiting response... 200 OK\n",
            "Length: 18171 (18K) [application/x-httpd-php]\n",
            "Saving to: ‘house-votes-84.data’\n",
            "\n",
            "house-votes-84.data 100%[===================>]  17.75K  --.-KB/s    in 0.1s    \n",
            "\n",
            "2020-01-23 04:23:11 (128 KB/s) - ‘house-votes-84.data’ saved [18171/18171]\n",
            "\n"
          ],
          "name": "stdout"
        }
      ]
    },
    {
      "cell_type": "code",
      "metadata": {
        "id": "PV3QFe71iUlV",
        "colab_type": "code",
        "outputId": "60f40356-e049-4517-a773-418359f9238a",
        "colab": {
          "base_uri": "https://localhost:8080/",
          "height": 260
        }
      },
      "source": [
        "column_headers = ['party','handicapped-infants','water-project', 'budget', \n",
        "                  'physician-free-freeze', 'el-salvador-aid', 'religious-groups',\n",
        "                  'anti-satellite-ban', 'aid-to-contras', 'mx-missile', \n",
        "                  'immigration', 'synfuels', 'education', 'right-to-sue', \n",
        "                  'crime', 'duty-free', 'south-africa']\n",
        "\n",
        "df = pd.read_csv('house-votes-84.data', \n",
        "                 header=None, \n",
        "                 names=column_headers,\n",
        "                 na_values='?')\n",
        "df.head()"
      ],
      "execution_count": 0,
      "outputs": [
        {
          "output_type": "execute_result",
          "data": {
            "text/html": [
              "<div>\n",
              "<style scoped>\n",
              "    .dataframe tbody tr th:only-of-type {\n",
              "        vertical-align: middle;\n",
              "    }\n",
              "\n",
              "    .dataframe tbody tr th {\n",
              "        vertical-align: top;\n",
              "    }\n",
              "\n",
              "    .dataframe thead th {\n",
              "        text-align: right;\n",
              "    }\n",
              "</style>\n",
              "<table border=\"1\" class=\"dataframe\">\n",
              "  <thead>\n",
              "    <tr style=\"text-align: right;\">\n",
              "      <th></th>\n",
              "      <th>party</th>\n",
              "      <th>handicapped-infants</th>\n",
              "      <th>water-project</th>\n",
              "      <th>budget</th>\n",
              "      <th>physician-free-freeze</th>\n",
              "      <th>el-salvador-aid</th>\n",
              "      <th>religious-groups</th>\n",
              "      <th>anti-satellite-ban</th>\n",
              "      <th>aid-to-contras</th>\n",
              "      <th>mx-missile</th>\n",
              "      <th>immigration</th>\n",
              "      <th>synfuels</th>\n",
              "      <th>education</th>\n",
              "      <th>right-to-sue</th>\n",
              "      <th>crime</th>\n",
              "      <th>duty-free</th>\n",
              "      <th>south-africa</th>\n",
              "    </tr>\n",
              "  </thead>\n",
              "  <tbody>\n",
              "    <tr>\n",
              "      <th>0</th>\n",
              "      <td>republican</td>\n",
              "      <td>n</td>\n",
              "      <td>y</td>\n",
              "      <td>n</td>\n",
              "      <td>y</td>\n",
              "      <td>y</td>\n",
              "      <td>y</td>\n",
              "      <td>n</td>\n",
              "      <td>n</td>\n",
              "      <td>n</td>\n",
              "      <td>y</td>\n",
              "      <td>NaN</td>\n",
              "      <td>y</td>\n",
              "      <td>y</td>\n",
              "      <td>y</td>\n",
              "      <td>n</td>\n",
              "      <td>y</td>\n",
              "    </tr>\n",
              "    <tr>\n",
              "      <th>1</th>\n",
              "      <td>republican</td>\n",
              "      <td>n</td>\n",
              "      <td>y</td>\n",
              "      <td>n</td>\n",
              "      <td>y</td>\n",
              "      <td>y</td>\n",
              "      <td>y</td>\n",
              "      <td>n</td>\n",
              "      <td>n</td>\n",
              "      <td>n</td>\n",
              "      <td>n</td>\n",
              "      <td>n</td>\n",
              "      <td>y</td>\n",
              "      <td>y</td>\n",
              "      <td>y</td>\n",
              "      <td>n</td>\n",
              "      <td>NaN</td>\n",
              "    </tr>\n",
              "    <tr>\n",
              "      <th>2</th>\n",
              "      <td>democrat</td>\n",
              "      <td>NaN</td>\n",
              "      <td>y</td>\n",
              "      <td>y</td>\n",
              "      <td>NaN</td>\n",
              "      <td>y</td>\n",
              "      <td>y</td>\n",
              "      <td>n</td>\n",
              "      <td>n</td>\n",
              "      <td>n</td>\n",
              "      <td>n</td>\n",
              "      <td>y</td>\n",
              "      <td>n</td>\n",
              "      <td>y</td>\n",
              "      <td>y</td>\n",
              "      <td>n</td>\n",
              "      <td>n</td>\n",
              "    </tr>\n",
              "    <tr>\n",
              "      <th>3</th>\n",
              "      <td>democrat</td>\n",
              "      <td>n</td>\n",
              "      <td>y</td>\n",
              "      <td>y</td>\n",
              "      <td>n</td>\n",
              "      <td>NaN</td>\n",
              "      <td>y</td>\n",
              "      <td>n</td>\n",
              "      <td>n</td>\n",
              "      <td>n</td>\n",
              "      <td>n</td>\n",
              "      <td>y</td>\n",
              "      <td>n</td>\n",
              "      <td>y</td>\n",
              "      <td>n</td>\n",
              "      <td>n</td>\n",
              "      <td>y</td>\n",
              "    </tr>\n",
              "    <tr>\n",
              "      <th>4</th>\n",
              "      <td>democrat</td>\n",
              "      <td>y</td>\n",
              "      <td>y</td>\n",
              "      <td>y</td>\n",
              "      <td>n</td>\n",
              "      <td>y</td>\n",
              "      <td>y</td>\n",
              "      <td>n</td>\n",
              "      <td>n</td>\n",
              "      <td>n</td>\n",
              "      <td>n</td>\n",
              "      <td>y</td>\n",
              "      <td>NaN</td>\n",
              "      <td>y</td>\n",
              "      <td>y</td>\n",
              "      <td>y</td>\n",
              "      <td>y</td>\n",
              "    </tr>\n",
              "  </tbody>\n",
              "</table>\n",
              "</div>"
            ],
            "text/plain": [
              "        party handicapped-infants water-project  ... crime duty-free south-africa\n",
              "0  republican                   n             y  ...     y         n            y\n",
              "1  republican                   n             y  ...     y         n          NaN\n",
              "2    democrat                 NaN             y  ...     y         n            n\n",
              "3    democrat                   n             y  ...     n         n            y\n",
              "4    democrat                   y             y  ...     y         y            y\n",
              "\n",
              "[5 rows x 17 columns]"
            ]
          },
          "metadata": {
            "tags": []
          },
          "execution_count": 4
        }
      ]
    },
    {
      "cell_type": "code",
      "metadata": {
        "id": "eMfj-DMfidlM",
        "colab_type": "code",
        "colab": {}
      },
      "source": [
        "df = df.replace({'y':1, 'n':0})"
      ],
      "execution_count": 0,
      "outputs": []
    },
    {
      "cell_type": "code",
      "metadata": {
        "id": "5nGu2ZaPjx03",
        "colab_type": "code",
        "outputId": "4e92e75c-5fda-49cf-f36f-a15ea1f6af20",
        "colab": {
          "base_uri": "https://localhost:8080/",
          "height": 478
        }
      },
      "source": [
        "df"
      ],
      "execution_count": 0,
      "outputs": [
        {
          "output_type": "execute_result",
          "data": {
            "text/html": [
              "<div>\n",
              "<style scoped>\n",
              "    .dataframe tbody tr th:only-of-type {\n",
              "        vertical-align: middle;\n",
              "    }\n",
              "\n",
              "    .dataframe tbody tr th {\n",
              "        vertical-align: top;\n",
              "    }\n",
              "\n",
              "    .dataframe thead th {\n",
              "        text-align: right;\n",
              "    }\n",
              "</style>\n",
              "<table border=\"1\" class=\"dataframe\">\n",
              "  <thead>\n",
              "    <tr style=\"text-align: right;\">\n",
              "      <th></th>\n",
              "      <th>party</th>\n",
              "      <th>handicapped-infants</th>\n",
              "      <th>water-project</th>\n",
              "      <th>budget</th>\n",
              "      <th>physician-free-freeze</th>\n",
              "      <th>el-salvador-aid</th>\n",
              "      <th>religious-groups</th>\n",
              "      <th>anti-satellite-ban</th>\n",
              "      <th>aid-to-contras</th>\n",
              "      <th>mx-missile</th>\n",
              "      <th>immigration</th>\n",
              "      <th>synfuels</th>\n",
              "      <th>education</th>\n",
              "      <th>right-to-sue</th>\n",
              "      <th>crime</th>\n",
              "      <th>duty-free</th>\n",
              "      <th>south-africa</th>\n",
              "    </tr>\n",
              "  </thead>\n",
              "  <tbody>\n",
              "    <tr>\n",
              "      <th>0</th>\n",
              "      <td>republican</td>\n",
              "      <td>0.0</td>\n",
              "      <td>1.0</td>\n",
              "      <td>0.0</td>\n",
              "      <td>1.0</td>\n",
              "      <td>1.0</td>\n",
              "      <td>1.0</td>\n",
              "      <td>0.0</td>\n",
              "      <td>0.0</td>\n",
              "      <td>0.0</td>\n",
              "      <td>1.0</td>\n",
              "      <td>NaN</td>\n",
              "      <td>1.0</td>\n",
              "      <td>1.0</td>\n",
              "      <td>1.0</td>\n",
              "      <td>0.0</td>\n",
              "      <td>1.0</td>\n",
              "    </tr>\n",
              "    <tr>\n",
              "      <th>1</th>\n",
              "      <td>republican</td>\n",
              "      <td>0.0</td>\n",
              "      <td>1.0</td>\n",
              "      <td>0.0</td>\n",
              "      <td>1.0</td>\n",
              "      <td>1.0</td>\n",
              "      <td>1.0</td>\n",
              "      <td>0.0</td>\n",
              "      <td>0.0</td>\n",
              "      <td>0.0</td>\n",
              "      <td>0.0</td>\n",
              "      <td>0.0</td>\n",
              "      <td>1.0</td>\n",
              "      <td>1.0</td>\n",
              "      <td>1.0</td>\n",
              "      <td>0.0</td>\n",
              "      <td>NaN</td>\n",
              "    </tr>\n",
              "    <tr>\n",
              "      <th>2</th>\n",
              "      <td>democrat</td>\n",
              "      <td>NaN</td>\n",
              "      <td>1.0</td>\n",
              "      <td>1.0</td>\n",
              "      <td>NaN</td>\n",
              "      <td>1.0</td>\n",
              "      <td>1.0</td>\n",
              "      <td>0.0</td>\n",
              "      <td>0.0</td>\n",
              "      <td>0.0</td>\n",
              "      <td>0.0</td>\n",
              "      <td>1.0</td>\n",
              "      <td>0.0</td>\n",
              "      <td>1.0</td>\n",
              "      <td>1.0</td>\n",
              "      <td>0.0</td>\n",
              "      <td>0.0</td>\n",
              "    </tr>\n",
              "    <tr>\n",
              "      <th>3</th>\n",
              "      <td>democrat</td>\n",
              "      <td>0.0</td>\n",
              "      <td>1.0</td>\n",
              "      <td>1.0</td>\n",
              "      <td>0.0</td>\n",
              "      <td>NaN</td>\n",
              "      <td>1.0</td>\n",
              "      <td>0.0</td>\n",
              "      <td>0.0</td>\n",
              "      <td>0.0</td>\n",
              "      <td>0.0</td>\n",
              "      <td>1.0</td>\n",
              "      <td>0.0</td>\n",
              "      <td>1.0</td>\n",
              "      <td>0.0</td>\n",
              "      <td>0.0</td>\n",
              "      <td>1.0</td>\n",
              "    </tr>\n",
              "    <tr>\n",
              "      <th>4</th>\n",
              "      <td>democrat</td>\n",
              "      <td>1.0</td>\n",
              "      <td>1.0</td>\n",
              "      <td>1.0</td>\n",
              "      <td>0.0</td>\n",
              "      <td>1.0</td>\n",
              "      <td>1.0</td>\n",
              "      <td>0.0</td>\n",
              "      <td>0.0</td>\n",
              "      <td>0.0</td>\n",
              "      <td>0.0</td>\n",
              "      <td>1.0</td>\n",
              "      <td>NaN</td>\n",
              "      <td>1.0</td>\n",
              "      <td>1.0</td>\n",
              "      <td>1.0</td>\n",
              "      <td>1.0</td>\n",
              "    </tr>\n",
              "    <tr>\n",
              "      <th>...</th>\n",
              "      <td>...</td>\n",
              "      <td>...</td>\n",
              "      <td>...</td>\n",
              "      <td>...</td>\n",
              "      <td>...</td>\n",
              "      <td>...</td>\n",
              "      <td>...</td>\n",
              "      <td>...</td>\n",
              "      <td>...</td>\n",
              "      <td>...</td>\n",
              "      <td>...</td>\n",
              "      <td>...</td>\n",
              "      <td>...</td>\n",
              "      <td>...</td>\n",
              "      <td>...</td>\n",
              "      <td>...</td>\n",
              "      <td>...</td>\n",
              "    </tr>\n",
              "    <tr>\n",
              "      <th>430</th>\n",
              "      <td>republican</td>\n",
              "      <td>0.0</td>\n",
              "      <td>0.0</td>\n",
              "      <td>1.0</td>\n",
              "      <td>1.0</td>\n",
              "      <td>1.0</td>\n",
              "      <td>1.0</td>\n",
              "      <td>0.0</td>\n",
              "      <td>0.0</td>\n",
              "      <td>1.0</td>\n",
              "      <td>1.0</td>\n",
              "      <td>0.0</td>\n",
              "      <td>1.0</td>\n",
              "      <td>1.0</td>\n",
              "      <td>1.0</td>\n",
              "      <td>0.0</td>\n",
              "      <td>1.0</td>\n",
              "    </tr>\n",
              "    <tr>\n",
              "      <th>431</th>\n",
              "      <td>democrat</td>\n",
              "      <td>0.0</td>\n",
              "      <td>0.0</td>\n",
              "      <td>1.0</td>\n",
              "      <td>0.0</td>\n",
              "      <td>0.0</td>\n",
              "      <td>0.0</td>\n",
              "      <td>1.0</td>\n",
              "      <td>1.0</td>\n",
              "      <td>1.0</td>\n",
              "      <td>1.0</td>\n",
              "      <td>0.0</td>\n",
              "      <td>0.0</td>\n",
              "      <td>0.0</td>\n",
              "      <td>0.0</td>\n",
              "      <td>0.0</td>\n",
              "      <td>1.0</td>\n",
              "    </tr>\n",
              "    <tr>\n",
              "      <th>432</th>\n",
              "      <td>republican</td>\n",
              "      <td>0.0</td>\n",
              "      <td>NaN</td>\n",
              "      <td>0.0</td>\n",
              "      <td>1.0</td>\n",
              "      <td>1.0</td>\n",
              "      <td>1.0</td>\n",
              "      <td>0.0</td>\n",
              "      <td>0.0</td>\n",
              "      <td>0.0</td>\n",
              "      <td>0.0</td>\n",
              "      <td>1.0</td>\n",
              "      <td>1.0</td>\n",
              "      <td>1.0</td>\n",
              "      <td>1.0</td>\n",
              "      <td>0.0</td>\n",
              "      <td>1.0</td>\n",
              "    </tr>\n",
              "    <tr>\n",
              "      <th>433</th>\n",
              "      <td>republican</td>\n",
              "      <td>0.0</td>\n",
              "      <td>0.0</td>\n",
              "      <td>0.0</td>\n",
              "      <td>1.0</td>\n",
              "      <td>1.0</td>\n",
              "      <td>1.0</td>\n",
              "      <td>NaN</td>\n",
              "      <td>NaN</td>\n",
              "      <td>NaN</td>\n",
              "      <td>NaN</td>\n",
              "      <td>0.0</td>\n",
              "      <td>1.0</td>\n",
              "      <td>1.0</td>\n",
              "      <td>1.0</td>\n",
              "      <td>0.0</td>\n",
              "      <td>1.0</td>\n",
              "    </tr>\n",
              "    <tr>\n",
              "      <th>434</th>\n",
              "      <td>republican</td>\n",
              "      <td>0.0</td>\n",
              "      <td>1.0</td>\n",
              "      <td>0.0</td>\n",
              "      <td>1.0</td>\n",
              "      <td>1.0</td>\n",
              "      <td>1.0</td>\n",
              "      <td>0.0</td>\n",
              "      <td>0.0</td>\n",
              "      <td>0.0</td>\n",
              "      <td>1.0</td>\n",
              "      <td>0.0</td>\n",
              "      <td>1.0</td>\n",
              "      <td>1.0</td>\n",
              "      <td>1.0</td>\n",
              "      <td>NaN</td>\n",
              "      <td>0.0</td>\n",
              "    </tr>\n",
              "  </tbody>\n",
              "</table>\n",
              "<p>435 rows × 17 columns</p>\n",
              "</div>"
            ],
            "text/plain": [
              "          party  handicapped-infants  ...  duty-free  south-africa\n",
              "0    republican                  0.0  ...        0.0           1.0\n",
              "1    republican                  0.0  ...        0.0           NaN\n",
              "2      democrat                  NaN  ...        0.0           0.0\n",
              "3      democrat                  0.0  ...        0.0           1.0\n",
              "4      democrat                  1.0  ...        1.0           1.0\n",
              "..          ...                  ...  ...        ...           ...\n",
              "430  republican                  0.0  ...        0.0           1.0\n",
              "431    democrat                  0.0  ...        0.0           1.0\n",
              "432  republican                  0.0  ...        0.0           1.0\n",
              "433  republican                  0.0  ...        0.0           1.0\n",
              "434  republican                  0.0  ...        NaN           0.0\n",
              "\n",
              "[435 rows x 17 columns]"
            ]
          },
          "metadata": {
            "tags": []
          },
          "execution_count": 6
        }
      ]
    },
    {
      "cell_type": "code",
      "metadata": {
        "id": "c6-0ZBzrxrfR",
        "colab_type": "code",
        "colab": {}
      },
      "source": [
        "# make separate dfs for democrat and republican\n",
        "dem = df[df['party']=='democrat']\n",
        "rep = df[df['party']=='republican']"
      ],
      "execution_count": 0,
      "outputs": []
    },
    {
      "cell_type": "markdown",
      "metadata": {
        "id": "aR3dsNuItlVp",
        "colab_type": "text"
      },
      "source": [
        "One-Sample T-test:\n",
        "Want to find 99% confidence interval for issues that republicans support more than democrats and vise versa..."
      ]
    },
    {
      "cell_type": "code",
      "metadata": {
        "id": "7zRu-XUvt-y1",
        "colab_type": "code",
        "colab": {}
      },
      "source": [
        "def one_samp_ttest(party, bill):\n",
        "  return stats.ttest_1samp(party[bill], .5, nan_policy='omit')"
      ],
      "execution_count": 0,
      "outputs": []
    },
    {
      "cell_type": "code",
      "metadata": {
        "id": "72aIbAmawn-i",
        "colab_type": "code",
        "outputId": "6d743a63-7ef2-4706-8a99-793ea3c9d04f",
        "colab": {
          "base_uri": "https://localhost:8080/",
          "height": 35
        }
      },
      "source": [
        "one_samp_ttest(dem, 'water-project')"
      ],
      "execution_count": 0,
      "outputs": [
        {
          "output_type": "execute_result",
          "data": {
            "text/plain": [
              "Ttest_1sampResult(statistic=0.06454972243678961, pvalue=0.9485867005339235)"
            ]
          },
          "metadata": {
            "tags": []
          },
          "execution_count": 9
        }
      ]
    },
    {
      "cell_type": "code",
      "metadata": {
        "id": "u3pGHy-nzC31",
        "colab_type": "code",
        "outputId": "26474bde-39c2-4685-8a26-b6d4e8ed87ad",
        "colab": {
          "base_uri": "https://localhost:8080/",
          "height": 1000
        }
      },
      "source": [
        "# loop through democratic bills\n",
        "\n",
        "for header in column_headers[1:]:\n",
        "  statistic, pvalue = one_samp_ttest(dem, header)\n",
        "  print(\"for the \", header, \"bill, we found that there is a t-statistic of \",\n",
        "        statistic, \"and a p-value of \", pvalue)\n",
        "  if pvalue <= .01:\n",
        "    print(\"because the p-value is <= .01, we reject the null hypothesis with 99% conficence\")\n",
        "  \n",
        "  print()\n",
        "  print('='*40)\n",
        "  print()"
      ],
      "execution_count": 0,
      "outputs": [
        {
          "output_type": "stream",
          "text": [
            "for the  handicapped-infants bill, we found that there is a t-statistic of  3.431373087696574 and a p-value of  0.000699612317167372\n",
            "because the p-value is <= .01, we reject the null hypothesis with 99% conficence\n",
            "\n",
            "========================================\n",
            "\n",
            "for the  water-project bill, we found that there is a t-statistic of  0.06454972243678961 and a p-value of  0.9485867005339235\n",
            "\n",
            "========================================\n",
            "\n",
            "for the  budget bill, we found that there is a t-statistic of  19.859406568628835 and a p-value of  5.75931504660857e-54\n",
            "because the p-value is <= .01, we reject the null hypothesis with 99% conficence\n",
            "\n",
            "========================================\n",
            "\n",
            "for the  physician-free-freeze bill, we found that there is a t-statistic of  -31.67705343439813 and a p-value of  6.796885728494356e-91\n",
            "because the p-value is <= .01, we reject the null hypothesis with 99% conficence\n",
            "\n",
            "========================================\n",
            "\n",
            "for the  el-salvador-aid bill, we found that there is a t-statistic of  -11.016877548066462 and a p-value of  2.5007537432253433e-23\n",
            "because the p-value is <= .01, we reject the null hypothesis with 99% conficence\n",
            "\n",
            "========================================\n",
            "\n",
            "for the  religious-groups bill, we found that there is a t-statistic of  -0.7464459604122172 and a p-value of  0.45608033540995874\n",
            "\n",
            "========================================\n",
            "\n",
            "for the  anti-satellite-ban bill, we found that there is a t-statistic of  10.424565592705058 and a p-value of  1.8326900884510166e-21\n",
            "because the p-value is <= .01, we reject the null hypothesis with 99% conficence\n",
            "\n",
            "========================================\n",
            "\n",
            "for the  aid-to-contras bill, we found that there is a t-statistic of  14.13618595353591 and a p-value of  4.190313037098042e-34\n",
            "because the p-value is <= .01, we reject the null hypothesis with 99% conficence\n",
            "\n",
            "========================================\n",
            "\n",
            "for the  mx-missile bill, we found that there is a t-statistic of  9.470521640429526 and a p-value of  2.3590277159598606e-18\n",
            "because the p-value is <= .01, we reject the null hypothesis with 99% conficence\n",
            "\n",
            "========================================\n",
            "\n",
            "for the  immigration bill, we found that there is a t-statistic of  -0.9246846884388146 and a p-value of  0.35598081794452796\n",
            "\n",
            "========================================\n",
            "\n",
            "for the  synfuels bill, we found that there is a t-statistic of  0.18751153526716705 and a p-value of  0.8514092819865365\n",
            "\n",
            "========================================\n",
            "\n",
            "for the  education bill, we found that there is a t-statistic of  -15.915784824279635 and a p-value of  8.900198902856228e-40\n",
            "because the p-value is <= .01, we reject the null hypothesis with 99% conficence\n",
            "\n",
            "========================================\n",
            "\n",
            "for the  right-to-sue bill, we found that there is a t-statistic of  -7.345557873917365 and a p-value of  2.8653808528045386e-12\n",
            "because the p-value is <= .01, we reject the null hypothesis with 99% conficence\n",
            "\n",
            "========================================\n",
            "\n",
            "for the  crime bill, we found that there is a t-statistic of  -5.024596851452603 and a p-value of  9.478256683740221e-07\n",
            "because the p-value is <= .01, we reject the null hypothesis with 99% conficence\n",
            "\n",
            "========================================\n",
            "\n",
            "for the  duty-free bill, we found that there is a t-statistic of  4.5207283583632725 and a p-value of  9.519196003952435e-06\n",
            "because the p-value is <= .01, we reject the null hypothesis with 99% conficence\n",
            "\n",
            "========================================\n",
            "\n",
            "for the  south-africa bill, we found that there is a t-statistic of  23.965755112488182 and a p-value of  1.7513759267849718e-58\n",
            "because the p-value is <= .01, we reject the null hypothesis with 99% conficence\n",
            "\n",
            "========================================\n",
            "\n"
          ],
          "name": "stdout"
        }
      ]
    },
    {
      "cell_type": "code",
      "metadata": {
        "id": "CZv1eAyszolq",
        "colab_type": "code",
        "outputId": "f437fb4b-91dc-4efa-86d7-2091175d6802",
        "colab": {
          "base_uri": "https://localhost:8080/",
          "height": 1000
        }
      },
      "source": [
        "# now the same for republican bills \n",
        "\n",
        "for header in column_headers[1:]:\n",
        "  statistic, pvalue = one_samp_ttest(rep, header)\n",
        "  print(\"for the \", header, \"bill, we found that there is a t-statistic of \",\n",
        "        statistic, \"and a p-value of \", pvalue)\n",
        "  if pvalue <= .01:\n",
        "    print(\"because the p-value is <= .01, we reject the null hypothesis with 99% conficence\")\n",
        "  print(' ')\n",
        "  print('='*40)\n",
        "  print(' ')"
      ],
      "execution_count": 0,
      "outputs": [
        {
          "output_type": "stream",
          "text": [
            "for the  handicapped-infants bill, we found that there is a t-statistic of  -10.232833482397659 and a p-value of  2.572179359890009e-19\n",
            "because the p-value is <= .01, we reject the null hypothesis with 99% conficence\n",
            " \n",
            "========================================\n",
            " \n",
            "for the  water-project bill, we found that there is a t-statistic of  0.16385760607458383 and a p-value of  0.8700683158522193\n",
            " \n",
            "========================================\n",
            " \n",
            "for the  budget bill, we found that there is a t-statistic of  -13.705331355148527 and a p-value of  6.249973784238298e-29\n",
            "because the p-value is <= .01, we reject the null hypothesis with 99% conficence\n",
            " \n",
            "========================================\n",
            " \n",
            "for the  physician-free-freeze bill, we found that there is a t-statistic of  57.09643655679979 and a p-value of  3.8884659739684535e-110\n",
            "because the p-value is <= .01, we reject the null hypothesis with 99% conficence\n",
            " \n",
            "========================================\n",
            " \n",
            "for the  el-salvador-aid bill, we found that there is a t-statistic of  26.920515819250607 and a p-value of  4.531756691646779e-62\n",
            "because the p-value is <= .01, we reject the null hypothesis with 99% conficence\n",
            " \n",
            "========================================\n",
            " \n",
            "for the  religious-groups bill, we found that there is a t-statistic of  16.844895175868118 and a p-value of  1.103043623086e-37\n",
            "because the p-value is <= .01, we reject the null hypothesis with 99% conficence\n",
            " \n",
            "========================================\n",
            " \n",
            "for the  anti-satellite-ban bill, we found that there is a t-statistic of  -7.694446231812848 and a p-value of  1.3430544790393879e-12\n",
            "because the p-value is <= .01, we reject the null hypothesis with 99% conficence\n",
            " \n",
            "========================================\n",
            " \n",
            "for the  aid-to-contras bill, we found that there is a t-statistic of  -12.048344034968558 and a p-value of  4.758689364006887e-24\n",
            "because the p-value is <= .01, we reject the null hypothesis with 99% conficence\n",
            " \n",
            "========================================\n",
            " \n",
            "for the  mx-missile bill, we found that there is a t-statistic of  -15.439826683525418 and a p-value of  8.750571156437711e-34\n",
            "because the p-value is <= .01, we reject the null hypothesis with 99% conficence\n",
            " \n",
            "========================================\n",
            " \n",
            "for the  immigration bill, we found that there is a t-statistic of  1.4845341263724807 and a p-value of  0.1395867786115413\n",
            " \n",
            "========================================\n",
            " \n",
            "for the  synfuels bill, we found that there is a t-statistic of  -13.659513100277254 and a p-value of  1.5157657361710158e-28\n",
            "because the p-value is <= .01, we reject the null hypothesis with 99% conficence\n",
            " \n",
            "========================================\n",
            " \n",
            "for the  education bill, we found that there is a t-statistic of  13.7323961384641 and a p-value of  1.5754742985301713e-28\n",
            "because the p-value is <= .01, we reject the null hypothesis with 99% conficence\n",
            " \n",
            "========================================\n",
            " \n",
            "for the  right-to-sue bill, we found that there is a t-statistic of  13.057014526385656 and a p-value of  7.55269431925957e-27\n",
            "because the p-value is <= .01, we reject the null hypothesis with 99% conficence\n",
            " \n",
            "========================================\n",
            " \n",
            "for the  crime bill, we found that there is a t-statistic of  45.02694926749482 and a p-value of  8.920944355723368e-93\n",
            "because the p-value is <= .01, we reject the null hypothesis with 99% conficence\n",
            " \n",
            "========================================\n",
            " \n",
            "for the  duty-free bill, we found that there is a t-statistic of  -17.87053823534494 and a p-value of  1.750902234636468e-39\n",
            "because the p-value is <= .01, we reject the null hypothesis with 99% conficence\n",
            " \n",
            "========================================\n",
            " \n",
            "for the  south-africa bill, we found that there is a t-statistic of  3.9975252761343896 and a p-value of  0.00010154897627277522\n",
            "because the p-value is <= .01, we reject the null hypothesis with 99% conficence\n",
            " \n",
            "========================================\n",
            " \n"
          ],
          "name": "stdout"
        }
      ]
    },
    {
      "cell_type": "code",
      "metadata": {
        "id": "AXBQ9VdqrYTZ",
        "colab_type": "code",
        "colab": {}
      },
      "source": [
        "# Duty-free bill is supported more my democrats with a t-statistic of 4.5207283583632725 \n",
        "# from democrats and a t-statistic of -17.8705 from republicans. The p-value for\n",
        "# both are less than .01.\n",
        "\n",
        "# Physician-free freeze bill, republican support more than democrats. The t-statistic\n",
        "# for republicans is 57.09643655679979 and the t-statistic for democrats is  -31.67705343439813.\n",
        "# The p-value for both is < 0.01"
      ],
      "execution_count": 0,
      "outputs": []
    },
    {
      "cell_type": "markdown",
      "metadata": {
        "id": "LrsDYEeIz0zp",
        "colab_type": "text"
      },
      "source": [
        "Two-Sample T-test\n",
        "\n",
        "For each column, I am going to compare the democratic support vs the republican support\n",
        "\n",
        "$H_0$(null hypothesis): dem_mean = rep_mean\n",
        "$H_a$(alternative hypothesis): dem_mean $\\neq$ rep_mean\n",
        "\n",
        "confidence level = 95%"
      ]
    },
    {
      "cell_type": "code",
      "metadata": {
        "id": "PBbXq7kP-1HK",
        "colab_type": "code",
        "outputId": "6eeddba1-d21d-4417-ef0d-0a27a6546200",
        "colab": {
          "base_uri": "https://localhost:8080/",
          "height": 35
        }
      },
      "source": [
        "# want to make a for loop that goes through each column, prints out the column \n",
        "# name, then runs and prints out the restults of the t-test for each column.\n",
        "# this will answer all questions above\n",
        "\n",
        "# first, write a t-test for one column, make sure it works, then write the \n",
        "# for loop for the entire df.\n",
        "\n",
        "stats.ttest_ind(dem['budget'], rep['budget'], nan_policy='omit')"
      ],
      "execution_count": 0,
      "outputs": [
        {
          "output_type": "execute_result",
          "data": {
            "text/plain": [
              "Ttest_indResult(statistic=23.21277691701378, pvalue=2.0703402795404463e-77)"
            ]
          },
          "metadata": {
            "tags": []
          },
          "execution_count": 60
        }
      ]
    },
    {
      "cell_type": "code",
      "metadata": {
        "id": "PmMLgk8A1HTT",
        "colab_type": "code",
        "colab": {}
      },
      "source": [
        "# now make function for t-test\n",
        "\n",
        "def ttest(bill):\n",
        "  return ttest_ind(rep[bill], dem[bill], nan_policy='omit')"
      ],
      "execution_count": 0,
      "outputs": []
    },
    {
      "cell_type": "code",
      "metadata": {
        "id": "co-Am05mjyi7",
        "colab_type": "code",
        "outputId": "c81043f7-5a38-4d4a-d0e7-65c62c7509ec",
        "colab": {
          "base_uri": "https://localhost:8080/",
          "height": 35
        }
      },
      "source": [
        "# test out function above\n",
        "\n",
        "ttest('water-project')"
      ],
      "execution_count": 0,
      "outputs": [
        {
          "output_type": "execute_result",
          "data": {
            "text/plain": [
              "Ttest_indResult(statistic=0.08896538137868286, pvalue=0.9291556823993485)"
            ]
          },
          "metadata": {
            "tags": []
          },
          "execution_count": 63
        }
      ]
    },
    {
      "cell_type": "code",
      "metadata": {
        "id": "GfhSxEl56tpy",
        "colab_type": "code",
        "outputId": "cd242586-db45-49df-a83b-e5c6a49d034a",
        "colab": {
          "base_uri": "https://localhost:8080/",
          "height": 317
        }
      },
      "source": [
        "column_headers"
      ],
      "execution_count": 0,
      "outputs": [
        {
          "output_type": "execute_result",
          "data": {
            "text/plain": [
              "['party',\n",
              " 'handicapped-infants',\n",
              " 'water-project',\n",
              " 'budget',\n",
              " 'physician-free-freeze',\n",
              " 'el-salvador-aid',\n",
              " 'religious-groups',\n",
              " 'anti-satellite-ban',\n",
              " 'aid-to-contras',\n",
              " 'mx-missile',\n",
              " 'immigration',\n",
              " 'synfuels',\n",
              " 'education',\n",
              " 'right-to-sue',\n",
              " 'crime',\n",
              " 'duty-free',\n",
              " 'south-africa']"
            ]
          },
          "metadata": {
            "tags": []
          },
          "execution_count": 64
        }
      ]
    },
    {
      "cell_type": "code",
      "metadata": {
        "id": "-UROwnIA3kEO",
        "colab_type": "code",
        "outputId": "1edb0695-7c73-4f9d-f951-3736d6d34a56",
        "colab": {
          "base_uri": "https://localhost:8080/",
          "height": 1000
        }
      },
      "source": [
        "# make for loop to run through each column\n",
        "\n",
        "for header in column_headers[1:]:\n",
        "  statistic, pvalue = ttest(header)\n",
        "  print(\"for the \", header, \"bill, we found that there is a t-statistic of \",\n",
        "        statistic, \"and a p-value of \", pvalue)\n",
        "  if pvalue <= .05:\n",
        "    print(\"because the p-value is <= .05, we reject the null hypothesis with 95% conficence\")\n",
        "  else:\n",
        "     print(\"because the p-value is >= .05, we fail to reject the null hypothesis\")\n",
        "  print(' ')\n",
        "  print('='*40)\n",
        "  print(' ')"
      ],
      "execution_count": 0,
      "outputs": [
        {
          "output_type": "stream",
          "text": [
            "for the  handicapped-infants bill, we found that there is a t-statistic of  -9.205264294809222 and a p-value of  1.613440327937243e-18\n",
            "because the p-value is <= .05, we reject the null hypothesis with 95% conficence\n",
            " \n",
            "========================================\n",
            " \n",
            "for the  water-project bill, we found that there is a t-statistic of  0.08896538137868286 and a p-value of  0.9291556823993485\n",
            "because the p-value is >= .05, we fail to reject the null hypothesis\n",
            " \n",
            "========================================\n",
            " \n",
            "for the  budget bill, we found that there is a t-statistic of  -23.21277691701378 and a p-value of  2.0703402795404463e-77\n",
            "because the p-value is <= .05, we reject the null hypothesis with 95% conficence\n",
            " \n",
            "========================================\n",
            " \n",
            "for the  physician-free-freeze bill, we found that there is a t-statistic of  49.36708157301406 and a p-value of  1.994262314074344e-177\n",
            "because the p-value is <= .05, we reject the null hypothesis with 95% conficence\n",
            " \n",
            "========================================\n",
            " \n",
            "for the  el-salvador-aid bill, we found that there is a t-statistic of  21.13669261173219 and a p-value of  5.600520111729011e-68\n",
            "because the p-value is <= .05, we reject the null hypothesis with 95% conficence\n",
            " \n",
            "========================================\n",
            " \n",
            "for the  religious-groups bill, we found that there is a t-statistic of  9.737575825219457 and a p-value of  2.3936722520597287e-20\n",
            "because the p-value is <= .05, we reject the null hypothesis with 95% conficence\n",
            " \n",
            "========================================\n",
            " \n",
            "for the  anti-satellite-ban bill, we found that there is a t-statistic of  -12.526187929077842 and a p-value of  8.521033017443867e-31\n",
            "because the p-value is <= .05, we reject the null hypothesis with 95% conficence\n",
            " \n",
            "========================================\n",
            " \n",
            "for the  aid-to-contras bill, we found that there is a t-statistic of  -18.052093200819733 and a p-value of  2.82471841372357e-54\n",
            "because the p-value is <= .05, we reject the null hypothesis with 95% conficence\n",
            " \n",
            "========================================\n",
            " \n",
            "for the  mx-missile bill, we found that there is a t-statistic of  -16.437503268542994 and a p-value of  5.03079265310811e-47\n",
            "because the p-value is <= .05, we reject the null hypothesis with 95% conficence\n",
            " \n",
            "========================================\n",
            " \n",
            "for the  immigration bill, we found that there is a t-statistic of  1.7359117329695164 and a p-value of  0.08330248490425066\n",
            "because the p-value is >= .05, we fail to reject the null hypothesis\n",
            " \n",
            "========================================\n",
            " \n",
            "for the  synfuels bill, we found that there is a t-statistic of  -8.293603989407588 and a p-value of  1.5759322301054064e-15\n",
            "because the p-value is <= .05, we reject the null hypothesis with 95% conficence\n",
            " \n",
            "========================================\n",
            " \n",
            "for the  education bill, we found that there is a t-statistic of  20.500685724563073 and a p-value of  1.8834203990450192e-64\n",
            "because the p-value is <= .05, we reject the null hypothesis with 95% conficence\n",
            " \n",
            "========================================\n",
            " \n",
            "for the  right-to-sue bill, we found that there is a t-statistic of  13.51064251060933 and a p-value of  1.2278581709672758e-34\n",
            "because the p-value is <= .05, we reject the null hypothesis with 95% conficence\n",
            " \n",
            "========================================\n",
            " \n",
            "for the  crime bill, we found that there is a t-statistic of  16.342085656197696 and a p-value of  9.952342705606092e-47\n",
            "because the p-value is <= .05, we reject the null hypothesis with 95% conficence\n",
            " \n",
            "========================================\n",
            " \n",
            "for the  duty-free bill, we found that there is a t-statistic of  -12.853146132542978 and a p-value of  5.997697174347365e-32\n",
            "because the p-value is <= .05, we reject the null hypothesis with 95% conficence\n",
            " \n",
            "========================================\n",
            " \n",
            "for the  south-africa bill, we found that there is a t-statistic of  -6.849454815841208 and a p-value of  3.652674361672226e-11\n",
            "because the p-value is <= .05, we reject the null hypothesis with 95% conficence\n",
            " \n",
            "========================================\n",
            " \n"
          ],
          "name": "stdout"
        }
      ]
    },
    {
      "cell_type": "markdown",
      "metadata": {
        "id": "vAuGASEn6g3l",
        "colab_type": "text"
      },
      "source": [
        "FROM WARMUP:\n",
        "# ONe Sample T-test:\n",
        "\n",
        "before t-test:\n",
        "- make hypotheses\n",
        "  - null hypothesis\n",
        "  - alternative hypothesis\n",
        "- confidence level\n",
        "\n",
        "Null:\n",
        "\n",
        "Alternative:\n",
        "\n",
        "Confidence Level\n",
        "\n",
        "highest and lowest means can be:\n",
        "All means will be between zero and 1. That percentage will be the percentage of people who support the bill"
      ]
    }
  ]
}