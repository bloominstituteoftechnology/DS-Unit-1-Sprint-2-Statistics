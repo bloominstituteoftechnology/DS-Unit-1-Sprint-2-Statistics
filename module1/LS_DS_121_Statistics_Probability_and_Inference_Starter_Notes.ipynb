{
  "nbformat": 4,
  "nbformat_minor": 0,
  "metadata": {
    "colab": {
      "name": "LS_DS_121_Statistics_Probability_and_Inference_Starter - Notes.ipynb",
      "provenance": [],
      "collapsed_sections": [
        "FMhDKOFND0qY"
      ],
      "include_colab_link": true
    },
    "kernelspec": {
      "display_name": "Python 3",
      "language": "python",
      "name": "python3"
    },
    "language_info": {
      "codemirror_mode": {
        "name": "ipython",
        "version": 3
      },
      "file_extension": ".py",
      "mimetype": "text/x-python",
      "name": "python",
      "nbconvert_exporter": "python",
      "pygments_lexer": "ipython3",
      "version": "3.7.3"
    }
  },
  "cells": [
    {
      "cell_type": "markdown",
      "metadata": {
        "id": "view-in-github",
        "colab_type": "text"
      },
      "source": [
        "<a href=\"https://colab.research.google.com/github/jmmiddour/DS-Unit-1-Sprint-2-Statistics/blob/master/module1/LS_DS_121_Statistics_Probability_and_Inference_Starter_Notes.ipynb\" target=\"_parent\"><img src=\"https://colab.research.google.com/assets/colab-badge.svg\" alt=\"Open In Colab\"/></a>"
      ]
    },
    {
      "cell_type": "markdown",
      "metadata": {
        "colab_type": "text",
        "id": "eJGtmni-DezY"
      },
      "source": [
        "<img align=\"left\" src=\"https://lever-client-logos.s3.amazonaws.com/864372b1-534c-480e-acd5-9711f850815c-1524247202159.png\" width=200>\n",
        "\n",
        "<br></br>\n",
        "<br></br>\n",
        "\n",
        "## *Data Science Unit 1 Sprint 2 Lesson 1*\n",
        "\n",
        "# Statistics, Probability and Inference\n",
        "\n",
        "## Learning Objectives\n",
        "* [Part 1](#p1): Normal Distribution Revisted\n",
        "* [Part 2](#p2): Student's T Test\n",
        "* [Part 3](#p3): Hypothesis Test & Doing it Live"
      ]
    },
    {
      "cell_type": "markdown",
      "metadata": {
        "colab_type": "text",
        "id": "WOXkk77hbeP5"
      },
      "source": [
        "## What is Descriptive and Inferencial Statistics?\n",
        "\n",
        "<https://statistics.laerd.com/statistical-guides/descriptive-inferential-statistics.php>\n",
        "\n",
        "- **Descriptive Statistics:** A basic low level summary of what I can do with the dataset in front of me. Such as the mean, median, mode, standard diviation, and how much varience there is.\n",
        "\n",
        "- **Inferencial Statistics:** What can I figure out about unknown data by using the data that's right in front of me. "
      ]
    },
    {
      "cell_type": "code",
      "metadata": {
        "colab_type": "code",
        "id": "aGsGGy4Mb9IG",
        "outputId": "47f9a6c3-0cef-4ebf-ab16-9812bbce111d",
        "colab": {
          "base_uri": "https://localhost:8080/",
          "height": 193
        }
      },
      "source": [
        "# Import and use pd.DataFrame with a dictonary list:\n",
        "import pandas as pd\n",
        "stats = pd.DataFrame({'a': [1,2,3,4,5], 'b':[2,4,6,8,10]})\n",
        "stats"
      ],
      "execution_count": 1,
      "outputs": [
        {
          "output_type": "execute_result",
          "data": {
            "text/html": [
              "<div>\n",
              "<style scoped>\n",
              "    .dataframe tbody tr th:only-of-type {\n",
              "        vertical-align: middle;\n",
              "    }\n",
              "\n",
              "    .dataframe tbody tr th {\n",
              "        vertical-align: top;\n",
              "    }\n",
              "\n",
              "    .dataframe thead th {\n",
              "        text-align: right;\n",
              "    }\n",
              "</style>\n",
              "<table border=\"1\" class=\"dataframe\">\n",
              "  <thead>\n",
              "    <tr style=\"text-align: right;\">\n",
              "      <th></th>\n",
              "      <th>a</th>\n",
              "      <th>b</th>\n",
              "    </tr>\n",
              "  </thead>\n",
              "  <tbody>\n",
              "    <tr>\n",
              "      <th>0</th>\n",
              "      <td>1</td>\n",
              "      <td>2</td>\n",
              "    </tr>\n",
              "    <tr>\n",
              "      <th>1</th>\n",
              "      <td>2</td>\n",
              "      <td>4</td>\n",
              "    </tr>\n",
              "    <tr>\n",
              "      <th>2</th>\n",
              "      <td>3</td>\n",
              "      <td>6</td>\n",
              "    </tr>\n",
              "    <tr>\n",
              "      <th>3</th>\n",
              "      <td>4</td>\n",
              "      <td>8</td>\n",
              "    </tr>\n",
              "    <tr>\n",
              "      <th>4</th>\n",
              "      <td>5</td>\n",
              "      <td>10</td>\n",
              "    </tr>\n",
              "  </tbody>\n",
              "</table>\n",
              "</div>"
            ],
            "text/plain": [
              "   a   b\n",
              "0  1   2\n",
              "1  2   4\n",
              "2  3   6\n",
              "3  4   8\n",
              "4  5  10"
            ]
          },
          "metadata": {
            "tags": []
          },
          "execution_count": 1
        }
      ]
    },
    {
      "cell_type": "code",
      "metadata": {
        "colab_type": "code",
        "id": "K-73WFB5cI1_",
        "outputId": "6c36c6a8-1026-460d-9b0e-75fd7b9cb410",
        "colab": {
          "base_uri": "https://localhost:8080/",
          "height": 280
        }
      },
      "source": [
        "# How can we quickly look at some descriptive statistics of the above dataframe?\n",
        "stats.describe()"
      ],
      "execution_count": 2,
      "outputs": [
        {
          "output_type": "execute_result",
          "data": {
            "text/html": [
              "<div>\n",
              "<style scoped>\n",
              "    .dataframe tbody tr th:only-of-type {\n",
              "        vertical-align: middle;\n",
              "    }\n",
              "\n",
              "    .dataframe tbody tr th {\n",
              "        vertical-align: top;\n",
              "    }\n",
              "\n",
              "    .dataframe thead th {\n",
              "        text-align: right;\n",
              "    }\n",
              "</style>\n",
              "<table border=\"1\" class=\"dataframe\">\n",
              "  <thead>\n",
              "    <tr style=\"text-align: right;\">\n",
              "      <th></th>\n",
              "      <th>a</th>\n",
              "      <th>b</th>\n",
              "    </tr>\n",
              "  </thead>\n",
              "  <tbody>\n",
              "    <tr>\n",
              "      <th>count</th>\n",
              "      <td>5.000000</td>\n",
              "      <td>5.000000</td>\n",
              "    </tr>\n",
              "    <tr>\n",
              "      <th>mean</th>\n",
              "      <td>3.000000</td>\n",
              "      <td>6.000000</td>\n",
              "    </tr>\n",
              "    <tr>\n",
              "      <th>std</th>\n",
              "      <td>1.581139</td>\n",
              "      <td>3.162278</td>\n",
              "    </tr>\n",
              "    <tr>\n",
              "      <th>min</th>\n",
              "      <td>1.000000</td>\n",
              "      <td>2.000000</td>\n",
              "    </tr>\n",
              "    <tr>\n",
              "      <th>25%</th>\n",
              "      <td>2.000000</td>\n",
              "      <td>4.000000</td>\n",
              "    </tr>\n",
              "    <tr>\n",
              "      <th>50%</th>\n",
              "      <td>3.000000</td>\n",
              "      <td>6.000000</td>\n",
              "    </tr>\n",
              "    <tr>\n",
              "      <th>75%</th>\n",
              "      <td>4.000000</td>\n",
              "      <td>8.000000</td>\n",
              "    </tr>\n",
              "    <tr>\n",
              "      <th>max</th>\n",
              "      <td>5.000000</td>\n",
              "      <td>10.000000</td>\n",
              "    </tr>\n",
              "  </tbody>\n",
              "</table>\n",
              "</div>"
            ],
            "text/plain": [
              "              a          b\n",
              "count  5.000000   5.000000\n",
              "mean   3.000000   6.000000\n",
              "std    1.581139   3.162278\n",
              "min    1.000000   2.000000\n",
              "25%    2.000000   4.000000\n",
              "50%    3.000000   6.000000\n",
              "75%    4.000000   8.000000\n",
              "max    5.000000  10.000000"
            ]
          },
          "metadata": {
            "tags": []
          },
          "execution_count": 2
        }
      ]
    },
    {
      "cell_type": "markdown",
      "metadata": {
        "colab_type": "text",
        "id": "MOkBDGsWbMRc"
      },
      "source": [
        "## Normal Distribution Revisited\n",
        "\n",
        "What is the Normal distribution: A probability distribution of a continuous real valued random-variable. The Normal distribution properties make it useful for the *Central Limit Theorm*, because if we assume a variable follows the normal distribution, we can make certain conclusions based on probabilities."
      ]
    },
    {
      "cell_type": "markdown",
      "metadata": {
        "colab_type": "text",
        "id": "D3ZwR9tDc-KX"
      },
      "source": [
        "This is frequently referred to as the \"Bell Curve\" because as you see it looks like a bell.\n",
        "\n",
        "You get the following information from the bell curve:\n",
        "- In the middle is your mean. The probability of something happen is very likey if it is closest to the mean.\n",
        "- The standard deviation is the average vaariability away from the mean.\n",
        "- You can also see, based on the tiny little tail that is outside of the 3rd std on the left and right, that there are some outliers within the dataset. Since they are outliers, they are highly unlikely to happen.\n",
        "\n",
        "![The Normal Distribution](https://upload.wikimedia.org/wikipedia/commons/thumb/a/a9/Empirical_Rule.PNG/350px-Empirical_Rule.png)"
      ]
    },
    {
      "cell_type": "code",
      "metadata": {
        "colab_type": "code",
        "id": "BYlq8EYKbMRd",
        "outputId": "a9292796-a1b5-4959-f5b3-48e5566a0f0a",
        "colab": {
          "base_uri": "https://localhost:8080/",
          "height": 50
        }
      },
      "source": [
        "# Create some artificial data:\n",
        "import numpy as np\n",
        "\n",
        "# Create variables to pass into the random function.\n",
        "mu = 0     # Mean is generally represented using the Greek letter mu\n",
        "sigma = 1  # Standarad Deviation is usually represented using the Greek letter sigma\n",
        "\n",
        "# Using the np.random function to create a normal distrubution:\n",
        "sample = np.random.normal(mu, sigma, 1000)\n",
        "sample[:10]"
      ],
      "execution_count": 3,
      "outputs": [
        {
          "output_type": "execute_result",
          "data": {
            "text/plain": [
              "array([ 0.23444333, -1.1447185 , -0.21612185, -0.3333786 ,  0.2232258 ,\n",
              "       -1.16550844,  0.88850955,  1.55478264,  1.26127091, -0.14418674])"
            ]
          },
          "metadata": {
            "tags": []
          },
          "execution_count": 3
        }
      ]
    },
    {
      "cell_type": "code",
      "metadata": {
        "colab_type": "code",
        "id": "GbVV3_TsbMRn",
        "outputId": "cca7b86c-7fd7-40f1-ad55-b9f6c74dde33",
        "colab": {
          "base_uri": "https://localhost:8080/",
          "height": 318
        }
      },
      "source": [
        "# Plot the random #'s using seaborn:\n",
        "import seaborn as sns\n",
        "\n",
        "# Using seaborn's distplot distrubution:\n",
        "ax = sns.distplot(sample, color='r')\n",
        "\n",
        "# \n",
        "ax.axvline(np.percentile(sample, 97.5), 0)\n",
        "ax.axvline(np.percentile(sample, 2.5), 0);"
      ],
      "execution_count": 4,
      "outputs": [
        {
          "output_type": "stream",
          "text": [
            "/usr/local/lib/python3.6/dist-packages/statsmodels/tools/_testing.py:19: FutureWarning: pandas.util.testing is deprecated. Use the functions in the public API at pandas.testing instead.\n",
            "  import pandas.util.testing as tm\n"
          ],
          "name": "stderr"
        },
        {
          "output_type": "display_data",
          "data": {
            "image/png": "[encoded data removed]",
            "text/plain": [
              "<Figure size 432x288 with 1 Axes>"
            ]
          },
          "metadata": {
            "tags": [],
            "needs_background": "light"
          }
        }
      ]
    },
    {
      "cell_type": "markdown",
      "metadata": {
        "colab_type": "text",
        "id": "wtobOQescQU6"
      },
      "source": [
        "## What is Inferential Statistics?"
      ]
    },
    {
      "cell_type": "markdown",
      "metadata": {
        "id": "J1Ap_JJDjpNM",
        "colab_type": "text"
      },
      "source": [
        "It cost a lot of money to pick up a telephone and asked every single person in the US who they are going to vote for. Sampling saves money and time by just drawing a random sample and calling a select number of people and ask them. Then draw a conculsion from that sample to get pretty close to how everyone will vote. \n",
        "\n",
        "Given a small sample we are able to infer some information about the population as a whole. \n",
        "\n",
        "Typically in an acedemic setting the word Statistics refers only to sample and the word Parameter refers to only to population.\n",
        "\n",
        "![stats](https://slideplayer.com/slide/5130463/16/images/2/Statistical+Inference.jpg)"
      ]
    },
    {
      "cell_type": "markdown",
      "metadata": {
        "id": "G0_bGgY-jpNM",
        "colab_type": "text"
      },
      "source": [
        "When we talk about the **population parameters**: we use $\\mu$ (the Greek letter mu) and $\\sigma$ (the Greek letter sigma) for mean and standard deviation\n",
        "\n",
        "When we talk about the sample **sample statistics**: we use $\\bar{x}$ (the letter x bar) and s\n",
        "\n",
        "    \n"
      ]
    },
    {
      "cell_type": "markdown",
      "metadata": {
        "colab_type": "text",
        "id": "zsb1KMUSc2xe"
      },
      "source": [
        "## Hypothesis Testing (T-Tests)\n",
        "\n",
        "There are actually 3 names that are commonly used for this.\n",
        "- AB Testing\n",
        "- Hypothesis Testing\n",
        "- T-Testing\n",
        "\n",
        "There are some slight difference between them but they can general be considered interchangable terms."
      ]
    },
    {
      "cell_type": "markdown",
      "metadata": {
        "id": "74g-RSRajpNN",
        "colab_type": "text"
      },
      "source": [
        "What is A/B testing?  \n",
        "https://www.convertize.com/what-is-ab-testing/   \n",
        "https://blog.hubspot.com/blog/tabid/6307/bid/20566/the-button-color-a-b-test-red-beats-green.aspx"
      ]
    },
    {
      "cell_type": "markdown",
      "metadata": {
        "id": "EObB1MycjpNO",
        "colab_type": "text"
      },
      "source": [
        "#### 3 types of t-tests"
      ]
    },
    {
      "cell_type": "markdown",
      "metadata": {
        "id": "WiREtt-0jpNP",
        "colab_type": "text"
      },
      "source": [
        "The t-test is the process of looking at a sample and determining whether the differances in the sample reflect significate differences in the population.\n",
        "\n",
        "There are three main types of t-test:  \n",
        "-- An Independent Samples t-test compares the means for two groups.  \n",
        "-- A Paired sample t-test compares means from the same group at different times.  \n",
        "-- A One sample t-test tests the mean of a single group against a known mean."
      ]
    },
    {
      "cell_type": "markdown",
      "metadata": {
        "id": "fUO5TjSLjpNQ",
        "colab_type": "text"
      },
      "source": [
        "#### T-Test Assumptions:  \n",
        "1. The scale of measurement applied to the data collected follows a **continuous or ordinal scale**, such as the scores for an IQ test.  \n",
        "2. The data is collected from a representative, **randomly selected portion** of the total population.  \n",
        "3. The data, when plotted, results in a **normal distribution, bell-shaped distribution curve**.  \n",
        "4. **A reasonably large sample size is used**. A larger sample size means the distribution of results should approach a normal bell-shaped curve.  \n",
        "5. **Homogeneity of variance.** Homogeneous, or equal, variance exists when the standard deviations of samples are approximately equal.  \n",
        "\n",
        "In order to carry out a t-test you have to assume these things about your data. They may or may not be true but if you have at least reasonable doubt you have enough data to carry out a t-test.\n",
        "\n",
        "If you don't at least have #3 your data will be skewed. You will still get results but they will not work out in reality. "
      ]
    },
    {
      "cell_type": "code",
      "metadata": {
        "id": "rOx0HcRQjpNR",
        "colab_type": "code",
        "colab": {}
      },
      "source": [
        "#### Example: sample data -- number of \"conversions\" (action) between two \n",
        "####   versions of a website, over 10 days\n",
        "a=[1136, 1178, 1212, 1193, 1226, 1154, 1230, 1222, 1161, 1148]\n",
        "b=[1184, 1203, 1219, 1238, 1243, 1204, 1269, 1256, 1156, 1248]"
      ],
      "execution_count": 0,
      "outputs": []
    },
    {
      "cell_type": "code",
      "metadata": {
        "id": "w6Xxh0u0jpNU",
        "colab_type": "code",
        "outputId": "ae90884e-a7a1-4d2b-96d7-03a56b3ce1af",
        "colab": {
          "base_uri": "https://localhost:8080/",
          "height": 50
        }
      },
      "source": [
        "# It looks like B produces more conversions!\n",
        "print(sum(a))\n",
        "print(sum(b))"
      ],
      "execution_count": 6,
      "outputs": [
        {
          "output_type": "stream",
          "text": [
            "11860\n",
            "12220\n"
          ],
          "name": "stdout"
        }
      ]
    },
    {
      "cell_type": "code",
      "metadata": {
        "id": "4aUEYfrXxS2s",
        "colab_type": "code",
        "outputId": "01da401f-8bc3-4553-ea43-bef4323d0cf5",
        "colab": {
          "base_uri": "https://localhost:8080/",
          "height": 67
        }
      },
      "source": [
        "# But does it REALLY? Is it worth the $$$ that I will invest? This is where \n",
        "#   AB testing comes in:\n",
        "print(np.mean(a))\n",
        "print(np.mean(b))\n",
        "print(np.mean(a) - np.mean(b))\n",
        "\n",
        "# There is a clear difference in the sample means!\n",
        "# It's possible that even though I observe an apparent difference in the sample \n",
        "#   means that there is no TRUE difference in the population means.\n",
        "# That is where t-testing comes into play."
      ],
      "execution_count": 7,
      "outputs": [
        {
          "output_type": "stream",
          "text": [
            "1186.0\n",
            "1222.0\n",
            "-36.0\n"
          ],
          "name": "stdout"
        }
      ]
    },
    {
      "cell_type": "code",
      "metadata": {
        "id": "GHmGleWpWDFu",
        "colab_type": "code",
        "colab": {}
      },
      "source": [
        "# What is the problem that t-testing is trying to solve?\n",
        "# - We want to deetermine if there are differences in the population by looking\n",
        "#   at the differences in the sample.\n",
        "# - The way to tell if a sample is reliable is if it is RANDOM!"
      ],
      "execution_count": 0,
      "outputs": []
    },
    {
      "cell_type": "markdown",
      "metadata": {
        "id": "649x_emEjpNX",
        "colab_type": "text"
      },
      "source": [
        "#### Generate a hypothesis\n",
        "- **Null hypothesis:** website A has the same average conversion rate as website B meaning that there is no difference.\n",
        "- **Alternative hypothesis (1-tailed):** website A has lower/higher average conversion rate than website B meaning you are able to tell with confidence whether or not the difference is truly lower or higher.\n",
        "- **Alternative hypothesis (2-tailed):** website A has different average conversion rate than website B meaning that you don't know the directionality, you just know that there is a difference.\n",
        "\n",
        "You are hoping to get to the Alternative hypothesis saying that you are confident that the sample data is an acurate way to predicit results."
      ]
    },
    {
      "cell_type": "code",
      "metadata": {
        "id": "GhtsB1CTjpNX",
        "colab_type": "code",
        "colab": {}
      },
      "source": [
        "# Import t-test indepenent for 2 indepenent samples:\n",
        "from scipy.stats import ttest_ind"
      ],
      "execution_count": 0,
      "outputs": []
    },
    {
      "cell_type": "code",
      "metadata": {
        "id": "lK_7UftCjpNa",
        "colab_type": "code",
        "outputId": "e35fecd7-34a5-4d3d-94e9-fb1a2c5f18a2",
        "colab": {
          "base_uri": "https://localhost:8080/",
          "height": 34
        }
      },
      "source": [
        "# Compare the 2 groups of websites tested:\n",
        "ttest_ind(a,b)\n",
        "\n",
        "# Both numbers you get are telling you the same thing. They're 2 diff. ways of\n",
        "#   giving the same results.\n",
        "# - Statistic = T-value = expressed in the metric of the original group.\n",
        "# - Pvalue = expressed in a universal metric that is comparable across all \n",
        "#   possible tests. Usually the p-value is what ends up getting reported. A p-\n",
        "#   value of less than 0.5 will always be considered meaningful. Above 0.5 will\n",
        "#   result in the Null hypothesis."
      ],
      "execution_count": 10,
      "outputs": [
        {
          "output_type": "execute_result",
          "data": {
            "text/plain": [
              "Ttest_indResult(statistic=-2.2795770510504845, pvalue=0.03504505626727664)"
            ]
          },
          "metadata": {
            "tags": []
          },
          "execution_count": 10
        }
      ]
    },
    {
      "cell_type": "code",
      "metadata": {
        "id": "jGWzVPGJjpNc",
        "colab_type": "code",
        "colab": {}
      },
      "source": [
        "# Interpret the p-value:\n",
        "\n",
        "# The confidence interval is how confident you need to be that the results will\n",
        "#   represent the population acurately.\n",
        "# 95% confidence interval (alpha = .05) <-- the cut point is .05\n",
        "# 99% confidence interval (alpha = .01)\n",
        "# 99.9% confidence interval (alpha = .001)"
      ],
      "execution_count": 0,
      "outputs": []
    },
    {
      "cell_type": "code",
      "metadata": {
        "id": "qzMYCpYcjpNf",
        "colab_type": "code",
        "colab": {}
      },
      "source": [
        "# What about the t-statistic?\n",
        "# This is the actual formula of how it is calculated:\n",
        "# The difference in the mean for both groups divided by the varience over the \n",
        "#   square root of the number in the sample. "
      ],
      "execution_count": 0,
      "outputs": []
    },
    {
      "cell_type": "markdown",
      "metadata": {
        "id": "utRvNV6-jpNj",
        "colab_type": "text"
      },
      "source": [
        "![tstat](https://blog.minitab.com/hubfs/Imported_Blog_Media/formula_1t.png)"
      ]
    },
    {
      "cell_type": "markdown",
      "metadata": {
        "id": "MvyzMjrtjpNj",
        "colab_type": "text"
      },
      "source": [
        "A common analogy is that the t-value is the signal-to-noise ratio.   \n",
        "**The numerator is the signal.** You simply take the sample mean and subtract the null hypothesis value. As the difference between the sample mean and the null hypothesis mean increases in either the positive or negative direction, the strength of the signal increases.  \n",
        "**The denominator is the noise.** The equation in the denominator is a measure of variability known as the standard error of the mean. This statistic indicates how accurately your sample estimates the mean of the population. A larger number indicates that your sample estimate is less precise because it has more random error.  \n",
        "**Both the signal and noise values are in the units of your data.** If your signal is 6 and the noise is 2, your t-value is 3. This t-value indicates that the difference is 3 times the size of the standard error. However, if there is a difference of the same size but your data have more variability (6), your t-value is only 1. The signal is at the same scale as the noise.  \n",
        "https://blog.minitab.com/blog/adventures-in-statistics-2/understanding-t-tests-1-sample-2-sample-and-paired-t-tests"
      ]
    },
    {
      "cell_type": "markdown",
      "metadata": {
        "id": "SEPUKSeZjpNn",
        "colab_type": "text"
      },
      "source": [
        "#### Another example: pancakes"
      ]
    },
    {
      "cell_type": "markdown",
      "metadata": {
        "colab_type": "text",
        "id": "cOnNrJembf5c"
      },
      "source": [
        "\n",
        "\n",
        "Ever thought about how long it takes to make a pancake? Have you ever compared the tooking time of a pancake on each eye of your stove? Is the cooking time different between the different eyes? Now, we can run an experiment and collect a sample of 1,000 pancakes on one eye and another 800 pancakes on the other eye. Assumed we used the same pan, batter, and technique on both eyes. Our average cooking times were 180 (5 std) and 178.5 (4.25 std) seconds repsectively. Now, we can tell those numbers are not identicial, but how confident are we that those numbers are practically the same? How do we know the slight difference isn't caused by some external randomness?\n",
        "\n",
        "Yes, today's lesson will help you figure out how long to cook your pancakes (*theoretically*). Experimentation is up to you; otherwise, you have to accept my data as true. How are going to accomplish this? With probability, statistics, inference and maple syrup (optional). \n",
        "\n",
        "<img src=\"https://images.unsplash.com/photo-1541288097308-7b8e3f58c4c6?ixlib=rb-1.2.1&ixid=eyJhcHBfaWQiOjEyMDd9&auto=format&fit=crop&w=3300&q=80\" width=400>\n",
        "\n"
      ]
    },
    {
      "cell_type": "markdown",
      "metadata": {
        "id": "vCoP8yt-jpNo",
        "colab_type": "text"
      },
      "source": [
        "#### Our first 2-sample t-test (pancake example)\n",
        "1) Null Hypothesis: (boring hypothesis)\n",
        "\n",
        "𝑥¯1==𝑥¯2 \n",
        "\n",
        "Or that the average cooking time between the two burners is the same.\n",
        "\n",
        "2) Alternative Hypothesis: (the opposite of the null)\n",
        "\n",
        "𝑥¯1≠𝑥¯2 \n",
        "\n",
        "𝑥¯1−𝑥¯2≠0 \n",
        "3) Confidence Level: The probability of seing a true result in spite of random variability. (How often do I want to make sure that I'm right.) Typically: 95%, 99%, 99.9%"
      ]
    },
    {
      "cell_type": "code",
      "metadata": {
        "id": "P957_C7-jpNr",
        "colab_type": "code",
        "outputId": "f3ee8028-72f6-4d00-dfc9-8e3fb9abaf41",
        "colab": {
          "base_uri": "https://localhost:8080/",
          "height": 84
        }
      },
      "source": [
        "# Sample 1\n",
        "mu1 = 180 # Sample mean\n",
        "sigma1 = 5 # Standard deviation\n",
        "sample1 = np.random.normal(mu1, sigma1, 1000)\n",
        "print (round(sample1[10], 2))\n",
        "sample1[:10]"
      ],
      "execution_count": 13,
      "outputs": [
        {
          "output_type": "stream",
          "text": [
            "179.89\n"
          ],
          "name": "stdout"
        },
        {
          "output_type": "execute_result",
          "data": {
            "text/plain": [
              "array([188.66924765, 174.90545919, 182.29317766, 180.28854889,\n",
              "       172.80720675, 178.72521642, 174.76829203, 179.80331427,\n",
              "       179.90370835, 176.82965717])"
            ]
          },
          "metadata": {
            "tags": []
          },
          "execution_count": 13
        }
      ]
    },
    {
      "cell_type": "code",
      "metadata": {
        "id": "XZssSX0XjpNu",
        "colab_type": "code",
        "outputId": "7e50a800-1c9d-4897-a168-b8537728fd40",
        "colab": {
          "base_uri": "https://localhost:8080/",
          "height": 67
        }
      },
      "source": [
        "# Sample 2\n",
        "mu2 = 178.5 # sample mean\n",
        "sigma2 = 4.25 # standard deviation\n",
        "sample2 = np.random.normal(mu2, sigma2, 800)\n",
        "sample2[:10]"
      ],
      "execution_count": 15,
      "outputs": [
        {
          "output_type": "execute_result",
          "data": {
            "text/plain": [
              "array([180.57042551, 179.52028894, 177.67336171, 170.29914289,\n",
              "       175.37002179, 184.43064787, 182.10127117, 182.74966219,\n",
              "       183.27939661, 182.60845991])"
            ]
          },
          "metadata": {
            "tags": []
          },
          "execution_count": 15
        }
      ]
    },
    {
      "cell_type": "code",
      "metadata": {
        "id": "WrN846TXjpNy",
        "colab_type": "code",
        "outputId": "224416c2-37e2-4ffb-9ee7-3892f2af6911",
        "colab": {
          "base_uri": "https://localhost:8080/",
          "height": 34
        }
      },
      "source": [
        "# Compare\n",
        "results = ttest_ind(sample1, sample2)\n",
        "results"
      ],
      "execution_count": 16,
      "outputs": [
        {
          "output_type": "execute_result",
          "data": {
            "text/plain": [
              "Ttest_indResult(statistic=6.384783527991927, pvalue=2.1791926096404384e-10)"
            ]
          },
          "metadata": {
            "tags": []
          },
          "execution_count": 16
        }
      ]
    },
    {
      "cell_type": "code",
      "metadata": {
        "id": "nSaoMCfdjpN2",
        "colab_type": "code",
        "outputId": "af5e0b02-804a-4e1a-f70d-60b517620ef8",
        "colab": {
          "base_uri": "https://localhost:8080/",
          "height": 50
        }
      },
      "source": [
        "# What is the p-value? Can get just the pvalue with:\n",
        "print (results.pvalue)\n",
        "\n",
        "# You can also round the pvalue by adding round and the number of decimal places.\n",
        "round(results.pvalue, 12)"
      ],
      "execution_count": 19,
      "outputs": [
        {
          "output_type": "stream",
          "text": [
            "2.1791926096404384e-10\n"
          ],
          "name": "stdout"
        },
        {
          "output_type": "execute_result",
          "data": {
            "text/plain": [
              "2.18e-10"
            ]
          },
          "metadata": {
            "tags": []
          },
          "execution_count": 19
        }
      ]
    },
    {
      "cell_type": "markdown",
      "metadata": {
        "id": "AY2C_EENqG9g",
        "colab_type": "text"
      },
      "source": [
        "P-hackig = Really common in graduate school and acedemic research. When you want to find the lowest possible p-values, you just keep tweaking the numbers until you finally find some significant result. It's all BS because if you do it enough times you will always find it.\n",
        "\n",
        "Some funny comics about p-hacking:\n",
        "\n",
        "![p-hacking](https://external-preview.redd.it/vl78LyXZfQsQi3J_wcNGRgp1g2OVVhc807_NYcihCDM.jpg?auto=webp&s=cb887f187b4e7bf18923635c971ba0b82f26d4de)\n",
        "\n",
        "![Data Threat](https://miro.medium.com/max/1400/0*nK8IFmV5N39sEij5.png)\n"
      ]
    },
    {
      "cell_type": "markdown",
      "metadata": {
        "id": "jutmVKaYjpN4",
        "colab_type": "text"
      },
      "source": [
        "4) T Statistic: A value that falls along a t-distribution.\n",
        "\n",
        "A vertical bar that falls on our t-distribution\n",
        "5) P-value: The p-value that we're interested in is (1-Confidence Level) or in our case: .05\n",
        "\n",
        "The probability of getting this test result (t-statistic) due to random chance.\n",
        "\n",
        "The probability of our null hypothesis being true.\n",
        "\n",
        "6) Conclusions:\n",
        "\n",
        "Due to observing a t-statistic of 8.9 and a resulting p-value of .00000000000000000109, we reject the null hypothesis that the cooking times of these two burners is the same, and suggest the alternative hypothesis, that they are different.\n",
        "\n",
        "(Because our p-value was less than .05, we reject the null hypothesis)."
      ]
    },
    {
      "cell_type": "code",
      "metadata": {
        "id": "W-VOqFrv3h3s",
        "colab_type": "code",
        "colab": {}
      },
      "source": [
        "# An unlikely sample (i.e. one that's in the tails) means that it is highly likely you have a true sig difference"
      ],
      "execution_count": 0,
      "outputs": []
    },
    {
      "cell_type": "markdown",
      "metadata": {
        "colab_type": "text",
        "id": "5BvYLMjadAnu"
      },
      "source": [
        "# Why do we use the t-distribution in hypothesis tests?\n",
        "\n",
        "![t-distribution-low-dof](data:image/png;base64,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)\n",
        "\n",
        "![t-distribution-approximates-normal](https://github.com/ryanallredblog/ryanallredblog.github.io/blob/master/img/t-distribution-approximates-normal.png?raw=true)\n",
        "\n",
        "### Helpful video on why we use the t-distribution\n",
        "\n",
        "<https://www.youtube.com/watch?v=Uv6nGIgZMVw>\n",
        "\n",
        "However, in order to understand it you'll need to understand what a z-score is:\n",
        "\n",
        "A z-score calculates the number of standard deviations an observations lies from the population mean. The problem is that in real-world situations, we don't know what the sample mean is, so we have to turn to using the sample mean to estimate the population mean. Because the sample mean is generated from a sample and used to estimate the population mean with some level of uncertainty, it also has its own distribution a nd spread. This means that for low sample sizes both our estimates of the sample mean and sample population are not very precise, they're kind of spread out. It's this spread that makes the t-distribution wider than the normal distribution for low sample sizes. However, with the larger the sample size, the closer the t-distribution approximates the normal distribution.\n"
      ]
    },
    {
      "cell_type": "markdown",
      "metadata": {
        "colab_type": "text",
        "id": "FMhDKOFND0qY"
      },
      "source": [
        "## Student's T Test\n",
        "\n",
        ">Assuming data come from a Normal distribution, the t test provides a way to test whether the sample mean (that is the mean calculated from the data) is a good estimate of the population mean. \n",
        "\n",
        "The derivation of the t-distribution was first published in 1908 by William Gosset while working for the Guinness Brewery in Dublin. Due to proprietary issues, he had to publish under a pseudonym, and so he used the name Student.\n",
        "\n",
        "The t-distribution is essentially a distribution of means of normaly distributed data. When we use a t-statistic, we are  checking that a mean fails within a certain $\\alpha$ probability of the mean of means."
      ]
    },
    {
      "cell_type": "code",
      "metadata": {
        "colab_type": "code",
        "id": "fQ9rkLJmEbsk",
        "colab": {}
      },
      "source": [
        ""
      ],
      "execution_count": 0,
      "outputs": []
    },
    {
      "cell_type": "code",
      "metadata": {
        "colab_type": "code",
        "id": "RyNKPt_tJk86",
        "colab": {}
      },
      "source": [
        ""
      ],
      "execution_count": 0,
      "outputs": []
    },
    {
      "cell_type": "code",
      "metadata": {
        "colab_type": "code",
        "id": "seQv5unnJvpM",
        "outputId": "8098f1bd-96f1-4249-90cd-6dd998c88157",
        "colab": {
          "base_uri": "https://localhost:8080/",
          "height": 230
        }
      },
      "source": [
        "i = 10\n",
        "for sample in [t_df10, t_df100, t_df1000]:\n",
        "    print(f\"t - distribution with {i} degrees of freedom\")\n",
        "    print(\"---\" * 10)\n",
        "    print(f\"Mean: {sample.mean()}\")\n",
        "    print(f\"Standard Deviation: {sample.std()}\")\n",
        "    print(f\"Variance: {sample.var()}\")\n",
        "    i = i*10"
      ],
      "execution_count": 0,
      "outputs": [
        {
          "output_type": "error",
          "ename": "NameError",
          "evalue": "ignored",
          "traceback": [
            "\u001b[0;31m---------------------------------------------------------------------------\u001b[0m",
            "\u001b[0;31mNameError\u001b[0m                                 Traceback (most recent call last)",
            "\u001b[0;32m<ipython-input-16-e6fa2eea44e1>\u001b[0m in \u001b[0;36m<module>\u001b[0;34m()\u001b[0m\n\u001b[1;32m      1\u001b[0m \u001b[0mi\u001b[0m \u001b[0;34m=\u001b[0m \u001b[0;36m10\u001b[0m\u001b[0;34m\u001b[0m\u001b[0;34m\u001b[0m\u001b[0m\n\u001b[0;32m----> 2\u001b[0;31m \u001b[0;32mfor\u001b[0m \u001b[0msample\u001b[0m \u001b[0;32min\u001b[0m \u001b[0;34m[\u001b[0m\u001b[0mt_df10\u001b[0m\u001b[0;34m,\u001b[0m \u001b[0mt_df100\u001b[0m\u001b[0;34m,\u001b[0m \u001b[0mt_df1000\u001b[0m\u001b[0;34m]\u001b[0m\u001b[0;34m:\u001b[0m\u001b[0;34m\u001b[0m\u001b[0;34m\u001b[0m\u001b[0m\n\u001b[0m\u001b[1;32m      3\u001b[0m     \u001b[0mprint\u001b[0m\u001b[0;34m(\u001b[0m\u001b[0;34mf\"t - distribution with {i} degrees of freedom\"\u001b[0m\u001b[0;34m)\u001b[0m\u001b[0;34m\u001b[0m\u001b[0;34m\u001b[0m\u001b[0m\n\u001b[1;32m      4\u001b[0m     \u001b[0mprint\u001b[0m\u001b[0;34m(\u001b[0m\u001b[0;34m\"---\"\u001b[0m \u001b[0;34m*\u001b[0m \u001b[0;36m10\u001b[0m\u001b[0;34m)\u001b[0m\u001b[0;34m\u001b[0m\u001b[0;34m\u001b[0m\u001b[0m\n\u001b[1;32m      5\u001b[0m     \u001b[0mprint\u001b[0m\u001b[0;34m(\u001b[0m\u001b[0;34mf\"Mean: {sample.mean()}\"\u001b[0m\u001b[0;34m)\u001b[0m\u001b[0;34m\u001b[0m\u001b[0;34m\u001b[0m\u001b[0m\n",
            "\u001b[0;31mNameError\u001b[0m: name 't_df10' is not defined"
          ]
        }
      ]
    },
    {
      "cell_type": "markdown",
      "metadata": {
        "colab_type": "text",
        "id": "FOvEGMysLaE2"
      },
      "source": [
        "Why is it different from normal? To better reflect the tendencies of small data and situations with unknown population standard deviation. In other words, the normal distribution is still the nice pure ideal (thanks to the central limit theorem), but the t-distribution is much more useful in many real-world situations."
      ]
    },
    {
      "cell_type": "markdown",
      "metadata": {
        "colab_type": "text",
        "id": "1yx_QilAEC6o"
      },
      "source": [
        "## Live Lecture - let's perform and interpret a t-test\n",
        "\n",
        "We'll generate our own data, so we can know and alter the \"ground truth\" that the t-test should find. We will learn about p-values and how to interpret \"statistical significance\" based on the output of a hypothesis test. We will also dig a bit deeper into how the test statistic is calculated based on the sample error, and visually what it looks like to have 1 or 2 \"tailed\" t-tests."
      ]
    },
    {
      "cell_type": "markdown",
      "metadata": {
        "id": "KP4pPesBjpOL",
        "colab_type": "text"
      },
      "source": [
        "#### Get and prepare the data"
      ]
    },
    {
      "cell_type": "code",
      "metadata": {
        "colab_type": "code",
        "id": "BuysRPs-Ed0v",
        "colab": {}
      },
      "source": [
        "# Imports\n",
        "import pandas as pd\n",
        "from scipy.stats import ttest_ind"
      ],
      "execution_count": 0,
      "outputs": []
    },
    {
      "cell_type": "code",
      "metadata": {
        "id": "NHSvuEky6x6A",
        "colab_type": "code",
        "colab": {}
      },
      "source": [
        "# Mortgage sample of first time homebuyers with FHA loan in 2018:\n",
        "url = 'https://raw.githubusercontent.com/austinlasseter/2018_fha_homebuyers/master/data/mortgage_sample.csv'"
      ],
      "execution_count": 0,
      "outputs": []
    },
    {
      "cell_type": "markdown",
      "metadata": {
        "id": "HHwPmcwxkUz_",
        "colab_type": "text"
      },
      "source": [
        "\"17 percent of home-buyers in 2018 were single females\"\n",
        "* NAR Report: https://github.com/austinlasseter/2018_fha_homebuyers/blob/master/reports/FHA-Annual-Housing-Report-2019.pdf\n",
        "* Data source: https://www.fhfa.gov/DataTools/Downloads/Pages/Public-Use-Databases.aspx\n",
        "* Data dictionary: https://www.fhfa.gov/DataTools/Downloads/Documents/Enterprise-PUDB/National-File-A/2018_Single_Family_National_File_A.pdf"
      ]
    },
    {
      "cell_type": "code",
      "metadata": {
        "id": "5K1uBoBE6yJx",
        "colab_type": "code",
        "outputId": "243aed8a-d830-4aa0-c5ff-0a7e59b55e12",
        "colab": {
          "base_uri": "https://localhost:8080/",
          "height": 230
        }
      },
      "source": [
        "# Read in the dataset:\n",
        "homes = pd.read_csv(url)\n",
        "homes.head()"
      ],
      "execution_count": 22,
      "outputs": [
        {
          "output_type": "execute_result",
          "data": {
            "text/html": [
              "<div>\n",
              "<style scoped>\n",
              "    .dataframe tbody tr th:only-of-type {\n",
              "        vertical-align: middle;\n",
              "    }\n",
              "\n",
              "    .dataframe tbody tr th {\n",
              "        vertical-align: top;\n",
              "    }\n",
              "\n",
              "    .dataframe thead th {\n",
              "        text-align: right;\n",
              "    }\n",
              "</style>\n",
              "<table border=\"1\" class=\"dataframe\">\n",
              "  <thead>\n",
              "    <tr style=\"text-align: right;\">\n",
              "      <th></th>\n",
              "      <th>record</th>\n",
              "      <th>enterprise</th>\n",
              "      <th>metro</th>\n",
              "      <th>tract_pct_minority</th>\n",
              "      <th>tract_income_ratio</th>\n",
              "      <th>borrower_income_ratio</th>\n",
              "      <th>ltv</th>\n",
              "      <th>loan_purpose</th>\n",
              "      <th>fed_guarantee</th>\n",
              "      <th>borrower_race</th>\n",
              "      <th>borrower_gender</th>\n",
              "      <th>coborrower_race</th>\n",
              "      <th>coborrower gender</th>\n",
              "      <th>units</th>\n",
              "      <th>affordability</th>\n",
              "    </tr>\n",
              "  </thead>\n",
              "  <tbody>\n",
              "    <tr>\n",
              "      <th>0</th>\n",
              "      <td>696120</td>\n",
              "      <td>2</td>\n",
              "      <td>1</td>\n",
              "      <td>3</td>\n",
              "      <td>3</td>\n",
              "      <td>3</td>\n",
              "      <td>4</td>\n",
              "      <td>1</td>\n",
              "      <td>4</td>\n",
              "      <td>6</td>\n",
              "      <td>9</td>\n",
              "      <td>1</td>\n",
              "      <td>5</td>\n",
              "      <td>1</td>\n",
              "      <td>4</td>\n",
              "    </tr>\n",
              "    <tr>\n",
              "      <th>1</th>\n",
              "      <td>1043888</td>\n",
              "      <td>2</td>\n",
              "      <td>1</td>\n",
              "      <td>1</td>\n",
              "      <td>3</td>\n",
              "      <td>3</td>\n",
              "      <td>2</td>\n",
              "      <td>1</td>\n",
              "      <td>4</td>\n",
              "      <td>9</td>\n",
              "      <td>9</td>\n",
              "      <td>1</td>\n",
              "      <td>2</td>\n",
              "      <td>1</td>\n",
              "      <td>4</td>\n",
              "    </tr>\n",
              "    <tr>\n",
              "      <th>2</th>\n",
              "      <td>778619</td>\n",
              "      <td>2</td>\n",
              "      <td>1</td>\n",
              "      <td>2</td>\n",
              "      <td>2</td>\n",
              "      <td>3</td>\n",
              "      <td>4</td>\n",
              "      <td>1</td>\n",
              "      <td>4</td>\n",
              "      <td>5</td>\n",
              "      <td>9</td>\n",
              "      <td>1</td>\n",
              "      <td>5</td>\n",
              "      <td>1</td>\n",
              "      <td>4</td>\n",
              "    </tr>\n",
              "    <tr>\n",
              "      <th>3</th>\n",
              "      <td>85106</td>\n",
              "      <td>2</td>\n",
              "      <td>1</td>\n",
              "      <td>2</td>\n",
              "      <td>1</td>\n",
              "      <td>3</td>\n",
              "      <td>4</td>\n",
              "      <td>1</td>\n",
              "      <td>4</td>\n",
              "      <td>5</td>\n",
              "      <td>5</td>\n",
              "      <td>1</td>\n",
              "      <td>2</td>\n",
              "      <td>1</td>\n",
              "      <td>4</td>\n",
              "    </tr>\n",
              "    <tr>\n",
              "      <th>4</th>\n",
              "      <td>477652</td>\n",
              "      <td>2</td>\n",
              "      <td>1</td>\n",
              "      <td>3</td>\n",
              "      <td>2</td>\n",
              "      <td>3</td>\n",
              "      <td>4</td>\n",
              "      <td>1</td>\n",
              "      <td>4</td>\n",
              "      <td>9</td>\n",
              "      <td>7</td>\n",
              "      <td>1</td>\n",
              "      <td>2</td>\n",
              "      <td>1</td>\n",
              "      <td>4</td>\n",
              "    </tr>\n",
              "  </tbody>\n",
              "</table>\n",
              "</div>"
            ],
            "text/plain": [
              "    record  enterprise  metro  ...  coborrower gender  units  affordability\n",
              "0   696120           2      1  ...                  5      1              4\n",
              "1  1043888           2      1  ...                  2      1              4\n",
              "2   778619           2      1  ...                  5      1              4\n",
              "3    85106           2      1  ...                  2      1              4\n",
              "4   477652           2      1  ...                  2      1              4\n",
              "\n",
              "[5 rows x 15 columns]"
            ]
          },
          "metadata": {
            "tags": []
          },
          "execution_count": 22
        }
      ]
    },
    {
      "cell_type": "code",
      "metadata": {
        "id": "nowJmrf66yHP",
        "colab_type": "code",
        "outputId": "7b3f0e18-8375-4d55-ab7e-e380da2806cc",
        "colab": {
          "base_uri": "https://localhost:8080/",
          "height": 34
        }
      },
      "source": [
        "# Size of the dataset:\n",
        "homes.shape"
      ],
      "execution_count": 23,
      "outputs": [
        {
          "output_type": "execute_result",
          "data": {
            "text/plain": [
              "(10000, 15)"
            ]
          },
          "metadata": {
            "tags": []
          },
          "execution_count": 23
        }
      ]
    },
    {
      "cell_type": "code",
      "metadata": {
        "id": "r47GfK1d6yEz",
        "colab_type": "code",
        "colab": {}
      },
      "source": [
        "# Filter income ratio for any values less than 9:\n",
        "homes = homes[homes['borrower_income_ratio']<9]"
      ],
      "execution_count": 0,
      "outputs": []
    },
    {
      "cell_type": "markdown",
      "metadata": {
        "id": "t5jOBpgMkU0C",
        "colab_type": "text"
      },
      "source": [
        "Borrower Income Ratio    \n",
        "\n",
        "The ratio of the borrower’s (or borrowers’) annual income to\n",
        "the area median family income for the reporting year. \n",
        "\n",
        "1 = >= 0, <=50% (poor)   \n",
        "2 = >50, <=80% (mid)   \n",
        "3 = >80% (wealthy)    \n",
        "9 = Not applicable  "
      ]
    },
    {
      "cell_type": "code",
      "metadata": {
        "id": "o4qWpLv96yBu",
        "colab_type": "code",
        "outputId": "c4a26b99-2e40-4162-aae8-585c0d78d477",
        "colab": {
          "base_uri": "https://localhost:8080/",
          "height": 84
        }
      },
      "source": [
        "# Look at results:\n",
        "homes['borrower_income_ratio'].value_counts().sort_index()"
      ],
      "execution_count": 25,
      "outputs": [
        {
          "output_type": "execute_result",
          "data": {
            "text/plain": [
              "1     694\n",
              "2    1941\n",
              "3    7364\n",
              "Name: borrower_income_ratio, dtype: int64"
            ]
          },
          "metadata": {
            "tags": []
          },
          "execution_count": 25
        }
      ]
    },
    {
      "cell_type": "code",
      "metadata": {
        "id": "ch4POX7O6x27",
        "colab_type": "code",
        "outputId": "be1eff4c-80b7-455c-d2c2-d42fc666e5d4",
        "colab": {
          "base_uri": "https://localhost:8080/",
          "height": 67
        }
      },
      "source": [
        "# Recode this variable as binary using np.where:\n",
        "homes['hi_income'] = np.where(homes['borrower_income_ratio']==3, 1, 0)\n",
        "homes['hi_income'].value_counts().sort_index()"
      ],
      "execution_count": 26,
      "outputs": [
        {
          "output_type": "execute_result",
          "data": {
            "text/plain": [
              "0    2635\n",
              "1    7364\n",
              "Name: hi_income, dtype: int64"
            ]
          },
          "metadata": {
            "tags": []
          },
          "execution_count": 26
        }
      ]
    },
    {
      "cell_type": "code",
      "metadata": {
        "id": "DoyLC8Jc6xyZ",
        "colab_type": "code",
        "outputId": "ee3b3b5f-cb9c-4c21-bfde-112eb4c80af3",
        "colab": {
          "base_uri": "https://localhost:8080/",
          "height": 134
        }
      },
      "source": [
        "# Second variable: loan to value:\n",
        "homes['ltv'].value_counts().sort_index()"
      ],
      "execution_count": 27,
      "outputs": [
        {
          "output_type": "execute_result",
          "data": {
            "text/plain": [
              "1    1713\n",
              "2    4466\n",
              "3     994\n",
              "4    1986\n",
              "5     839\n",
              "9       1\n",
              "Name: ltv, dtype: int64"
            ]
          },
          "metadata": {
            "tags": []
          },
          "execution_count": 27
        }
      ]
    },
    {
      "cell_type": "code",
      "metadata": {
        "id": "brLh_yoQ8E8P",
        "colab_type": "code",
        "colab": {}
      },
      "source": [
        "# Drop the nines again because those are missing values:\n",
        "homes=homes[homes['ltv']<9]"
      ],
      "execution_count": 0,
      "outputs": []
    },
    {
      "cell_type": "code",
      "metadata": {
        "id": "J1f_2CrV8E6J",
        "colab_type": "code",
        "outputId": "6ce9adbc-6cbf-454c-932c-4cfada90d766",
        "colab": {
          "base_uri": "https://localhost:8080/",
          "height": 67
        }
      },
      "source": [
        "# Recode to look at just the lowest and highest ltv using .map:\n",
        "homes['risk'] = homes['ltv'].map({1:0, 5:1})\n",
        "homes['risk'].value_counts().sort_index()"
      ],
      "execution_count": 29,
      "outputs": [
        {
          "output_type": "execute_result",
          "data": {
            "text/plain": [
              "0.0    1713\n",
              "1.0     839\n",
              "Name: risk, dtype: int64"
            ]
          },
          "metadata": {
            "tags": []
          },
          "execution_count": 29
        }
      ]
    },
    {
      "cell_type": "code",
      "metadata": {
        "id": "cvfo5-RS8E12",
        "colab_type": "code",
        "outputId": "79635827-5f54-4ef6-d4c8-1f3fe48188aa",
        "colab": {
          "base_uri": "https://localhost:8080/",
          "height": 134
        }
      },
      "source": [
        "# Crosstab for comparison:\n",
        "compare = pd.crosstab(homes['hi_income'], homes['risk'], normalize='index')\n",
        "compare"
      ],
      "execution_count": 30,
      "outputs": [
        {
          "output_type": "execute_result",
          "data": {
            "text/html": [
              "<div>\n",
              "<style scoped>\n",
              "    .dataframe tbody tr th:only-of-type {\n",
              "        vertical-align: middle;\n",
              "    }\n",
              "\n",
              "    .dataframe tbody tr th {\n",
              "        vertical-align: top;\n",
              "    }\n",
              "\n",
              "    .dataframe thead th {\n",
              "        text-align: right;\n",
              "    }\n",
              "</style>\n",
              "<table border=\"1\" class=\"dataframe\">\n",
              "  <thead>\n",
              "    <tr style=\"text-align: right;\">\n",
              "      <th>risk</th>\n",
              "      <th>0.0</th>\n",
              "      <th>1.0</th>\n",
              "    </tr>\n",
              "    <tr>\n",
              "      <th>hi_income</th>\n",
              "      <th></th>\n",
              "      <th></th>\n",
              "    </tr>\n",
              "  </thead>\n",
              "  <tbody>\n",
              "    <tr>\n",
              "      <th>0</th>\n",
              "      <td>0.580897</td>\n",
              "      <td>0.419103</td>\n",
              "    </tr>\n",
              "    <tr>\n",
              "      <th>1</th>\n",
              "      <td>0.731979</td>\n",
              "      <td>0.268021</td>\n",
              "    </tr>\n",
              "  </tbody>\n",
              "</table>\n",
              "</div>"
            ],
            "text/plain": [
              "risk            0.0       1.0\n",
              "hi_income                    \n",
              "0          0.580897  0.419103\n",
              "1          0.731979  0.268021"
            ]
          },
          "metadata": {
            "tags": []
          },
          "execution_count": 30
        }
      ]
    },
    {
      "cell_type": "code",
      "metadata": {
        "id": "1B-1ZySg8ukU",
        "colab_type": "code",
        "outputId": "4cdcff9d-a703-4527-a292-7d37b0b6f384",
        "colab": {
          "base_uri": "https://localhost:8080/",
          "height": 385
        }
      },
      "source": [
        "# Visualization using a bar chart:\n",
        "compare.plot(kind='bar', figsize=(10,6));\n",
        "\n",
        "# This is just a sample. Need to verify first that this it not just a fluke and \n",
        "#   does in fact represent the population as a whole. "
      ],
      "execution_count": 33,
      "outputs": [
        {
          "output_type": "display_data",
          "data": {
            "image/png": "[encoded data removed]",
            "text/plain": [
              "<Figure size 720x432 with 1 Axes>"
            ]
          },
          "metadata": {
            "tags": [],
            "needs_background": "light"
          }
        }
      ]
    },
    {
      "cell_type": "code",
      "metadata": {
        "id": "3yddsMwQ8uhp",
        "colab_type": "code",
        "colab": {}
      },
      "source": [
        "# State the null hypothesis!\n",
        "# - There is no difference between average loan risk for hi and low income \n",
        "#   borrowers (risk is equal).\n",
        "\n",
        "# State the alternative hypothesis!\n",
        "# - Levels of between the 2 groups will differ."
      ],
      "execution_count": 0,
      "outputs": []
    },
    {
      "cell_type": "code",
      "metadata": {
        "id": "rhZ7pjiH8ub-",
        "colab_type": "code",
        "outputId": "b0ae0f06-edc5-462c-aaeb-923d78fa585d",
        "colab": {
          "base_uri": "https://localhost:8080/",
          "height": 84
        }
      },
      "source": [
        "# Carry out the ttest:\n",
        "# First: What is the average loan risk of high and low income people?\n",
        "homes.groupby('hi_income')['risk'].mean()\n",
        "\n",
        "# Don't actually need to do this, just for learning purposes. The ttest will\n",
        "#   automatically do it for you."
      ],
      "execution_count": 35,
      "outputs": [
        {
          "output_type": "execute_result",
          "data": {
            "text/plain": [
              "hi_income\n",
              "0    0.419103\n",
              "1    0.268021\n",
              "Name: risk, dtype: float64"
            ]
          },
          "metadata": {
            "tags": []
          },
          "execution_count": 35
        }
      ]
    },
    {
      "cell_type": "code",
      "metadata": {
        "id": "1ZSt4u1A8uYH",
        "colab_type": "code",
        "outputId": "a867ab91-e7b3-4eea-aef1-8fa44b5ad781",
        "colab": {
          "base_uri": "https://localhost:8080/",
          "height": 50
        }
      },
      "source": [
        "# Make 2 groups for comparison:\n",
        "high = homes[homes['hi_income']==1]\n",
        "low = homes[homes['hi_income']==0]\n",
        "print(high.shape)\n",
        "print(low.shape)"
      ],
      "execution_count": 36,
      "outputs": [
        {
          "output_type": "stream",
          "text": [
            "(7364, 17)\n",
            "(2634, 17)\n"
          ],
          "name": "stdout"
        }
      ]
    },
    {
      "cell_type": "code",
      "metadata": {
        "id": "j5gu1nNC8ExF",
        "colab_type": "code",
        "outputId": "1f339432-ea68-4282-aa0e-f4090332ebe9",
        "colab": {
          "base_uri": "https://localhost:8080/",
          "height": 50
        }
      },
      "source": [
        "# Check out the means of the 2 groups:\n",
        "print(high['risk'].mean())\n",
        "low['risk'].mean()"
      ],
      "execution_count": 37,
      "outputs": [
        {
          "output_type": "stream",
          "text": [
            "0.26802096985583224\n"
          ],
          "name": "stdout"
        },
        {
          "output_type": "execute_result",
          "data": {
            "text/plain": [
              "0.4191033138401559"
            ]
          },
          "metadata": {
            "tags": []
          },
          "execution_count": 37
        }
      ]
    },
    {
      "cell_type": "code",
      "metadata": {
        "id": "3spFObaS5ppx",
        "colab_type": "code",
        "colab": {
          "base_uri": "https://localhost:8080/",
          "height": 34
        },
        "outputId": "546bf6d5-7b4c-45ca-e65b-b550e44829da"
      },
      "source": [
        "# Final step: Run the ttest:\n",
        "ttest_ind(high['risk'], low['risk'])\n",
        "\n",
        "# You get nan because there is NaN values within the dataset."
      ],
      "execution_count": 38,
      "outputs": [
        {
          "output_type": "execute_result",
          "data": {
            "text/plain": [
              "Ttest_indResult(statistic=nan, pvalue=nan)"
            ]
          },
          "metadata": {
            "tags": []
          },
          "execution_count": 38
        }
      ]
    },
    {
      "cell_type": "code",
      "metadata": {
        "id": "_cX--jYv-ygG",
        "colab_type": "code",
        "outputId": "f2436af5-b9b7-47ec-fed6-162f84bb5849",
        "colab": {
          "base_uri": "https://localhost:8080/",
          "height": 34
        }
      },
      "source": [
        "# Final step: Run the ttest:\n",
        "# Need to add nan_policy='omit' to take out the missing values just for this test:\n",
        "# nan_policy is exclusive to the scipy library.\n",
        "ttest_ind(high['risk'], low['risk'], nan_policy='omit')\n",
        "\n",
        "# You could drop all missing using .dropna too but that will drop it from your\n",
        "#   dataset and you may want to use them later on. So the above is the better \n",
        "#   method to go with.\n",
        "# These results tell us that it is highly likely that we have a True difference.\n",
        "# Meaning that we can say with confidence that low income borrowers have a \n",
        "#   higher risk than high income borrowers. "
      ],
      "execution_count": 39,
      "outputs": [
        {
          "output_type": "execute_result",
          "data": {
            "text/plain": [
              "Ttest_indResult(statistic=-8.063860235763045, pvalue=1.1252180169878018e-15)"
            ]
          },
          "metadata": {
            "tags": []
          },
          "execution_count": 39
        }
      ]
    },
    {
      "cell_type": "markdown",
      "metadata": {
        "id": "domA9p6ujpOO",
        "colab_type": "text"
      },
      "source": [
        "**get the data**  \n",
        "https://archive.ics.uci.edu/ml/machine-learning-databases/voting-records/house-votes-84.data"
      ]
    },
    {
      "cell_type": "code",
      "metadata": {
        "id": "ebkf0Rs4_tcf",
        "colab_type": "code",
        "colab": {}
      },
      "source": [
        "# The house of representatives must be representative data!\n",
        "# This is not a very good sample because the author of this dataset just looked\n",
        "#   at past voting records.\n",
        "# Therefore this is not REALLY a random sample!"
      ],
      "execution_count": 0,
      "outputs": []
    },
    {
      "cell_type": "code",
      "metadata": {
        "id": "lHIlVEF9_-rT",
        "colab_type": "code",
        "outputId": "2a37a482-df83-455a-e562-6dfd8d28cad2",
        "colab": {
          "base_uri": "https://localhost:8080/",
          "height": 202
        }
      },
      "source": [
        "# Get data from .data table, it is an old format but still readable, just have\n",
        "#   to add the headers to it:\n",
        "! wget https://archive.ics.uci.edu/ml/machine-learning-databases/voting-records/house-votes-84.data"
      ],
      "execution_count": 41,
      "outputs": [
        {
          "output_type": "stream",
          "text": [
            "--2020-05-20 21:14:35--  https://archive.ics.uci.edu/ml/machine-learning-databases/voting-records/house-votes-84.data\n",
            "Resolving archive.ics.uci.edu (archive.ics.uci.edu)... 128.195.10.252\n",
            "Connecting to archive.ics.uci.edu (archive.ics.uci.edu)|128.195.10.252|:443... connected.\n",
            "HTTP request sent, awaiting response... 200 OK\n",
            "Length: 18171 (18K) [application/x-httpd-php]\n",
            "Saving to: ‘house-votes-84.data’\n",
            "\n",
            "house-votes-84.data 100%[===================>]  17.75K  --.-KB/s    in 0.07s   \n",
            "\n",
            "2020-05-20 21:14:36 (271 KB/s) - ‘house-votes-84.data’ saved [18171/18171]\n",
            "\n"
          ],
          "name": "stdout"
        }
      ]
    },
    {
      "cell_type": "code",
      "metadata": {
        "id": "O24kMwSx8sbD",
        "colab_type": "code",
        "colab": {
          "base_uri": "https://localhost:8080/",
          "height": 247
        },
        "outputId": "769f3f16-6e3b-409a-ccc0-d108c975a5b3"
      },
      "source": [
        "# Make it into a dataframe:\n",
        "column_headers = ['party','handicapped-infants','water-project',\n",
        "                          'budget','physician-fee-freeze', 'el-salvador-aid',\n",
        "                          'religious-groups','anti-satellite-ban',\n",
        "                          'aid-to-contras','mx-missile','immigration',\n",
        "                          'synfuels', 'education', 'right-to-sue','crime','duty-free',\n",
        "                          'south-africa']\n",
        "\n",
        "\n",
        "house = pd.read_csv('house-votes-84.data', header=None, names=column_headers)\n",
        "house.head()\n"
      ],
      "execution_count": 42,
      "outputs": [
        {
          "output_type": "execute_result",
          "data": {
            "text/html": [
              "<div>\n",
              "<style scoped>\n",
              "    .dataframe tbody tr th:only-of-type {\n",
              "        vertical-align: middle;\n",
              "    }\n",
              "\n",
              "    .dataframe tbody tr th {\n",
              "        vertical-align: top;\n",
              "    }\n",
              "\n",
              "    .dataframe thead th {\n",
              "        text-align: right;\n",
              "    }\n",
              "</style>\n",
              "<table border=\"1\" class=\"dataframe\">\n",
              "  <thead>\n",
              "    <tr style=\"text-align: right;\">\n",
              "      <th></th>\n",
              "      <th>party</th>\n",
              "      <th>handicapped-infants</th>\n",
              "      <th>water-project</th>\n",
              "      <th>budget</th>\n",
              "      <th>physician-fee-freeze</th>\n",
              "      <th>el-salvador-aid</th>\n",
              "      <th>religious-groups</th>\n",
              "      <th>anti-satellite-ban</th>\n",
              "      <th>aid-to-contras</th>\n",
              "      <th>mx-missile</th>\n",
              "      <th>immigration</th>\n",
              "      <th>synfuels</th>\n",
              "      <th>education</th>\n",
              "      <th>right-to-sue</th>\n",
              "      <th>crime</th>\n",
              "      <th>duty-free</th>\n",
              "      <th>south-africa</th>\n",
              "    </tr>\n",
              "  </thead>\n",
              "  <tbody>\n",
              "    <tr>\n",
              "      <th>0</th>\n",
              "      <td>republican</td>\n",
              "      <td>n</td>\n",
              "      <td>y</td>\n",
              "      <td>n</td>\n",
              "      <td>y</td>\n",
              "      <td>y</td>\n",
              "      <td>y</td>\n",
              "      <td>n</td>\n",
              "      <td>n</td>\n",
              "      <td>n</td>\n",
              "      <td>y</td>\n",
              "      <td>?</td>\n",
              "      <td>y</td>\n",
              "      <td>y</td>\n",
              "      <td>y</td>\n",
              "      <td>n</td>\n",
              "      <td>y</td>\n",
              "    </tr>\n",
              "    <tr>\n",
              "      <th>1</th>\n",
              "      <td>republican</td>\n",
              "      <td>n</td>\n",
              "      <td>y</td>\n",
              "      <td>n</td>\n",
              "      <td>y</td>\n",
              "      <td>y</td>\n",
              "      <td>y</td>\n",
              "      <td>n</td>\n",
              "      <td>n</td>\n",
              "      <td>n</td>\n",
              "      <td>n</td>\n",
              "      <td>n</td>\n",
              "      <td>y</td>\n",
              "      <td>y</td>\n",
              "      <td>y</td>\n",
              "      <td>n</td>\n",
              "      <td>?</td>\n",
              "    </tr>\n",
              "    <tr>\n",
              "      <th>2</th>\n",
              "      <td>democrat</td>\n",
              "      <td>?</td>\n",
              "      <td>y</td>\n",
              "      <td>y</td>\n",
              "      <td>?</td>\n",
              "      <td>y</td>\n",
              "      <td>y</td>\n",
              "      <td>n</td>\n",
              "      <td>n</td>\n",
              "      <td>n</td>\n",
              "      <td>n</td>\n",
              "      <td>y</td>\n",
              "      <td>n</td>\n",
              "      <td>y</td>\n",
              "      <td>y</td>\n",
              "      <td>n</td>\n",
              "      <td>n</td>\n",
              "    </tr>\n",
              "    <tr>\n",
              "      <th>3</th>\n",
              "      <td>democrat</td>\n",
              "      <td>n</td>\n",
              "      <td>y</td>\n",
              "      <td>y</td>\n",
              "      <td>n</td>\n",
              "      <td>?</td>\n",
              "      <td>y</td>\n",
              "      <td>n</td>\n",
              "      <td>n</td>\n",
              "      <td>n</td>\n",
              "      <td>n</td>\n",
              "      <td>y</td>\n",
              "      <td>n</td>\n",
              "      <td>y</td>\n",
              "      <td>n</td>\n",
              "      <td>n</td>\n",
              "      <td>y</td>\n",
              "    </tr>\n",
              "    <tr>\n",
              "      <th>4</th>\n",
              "      <td>democrat</td>\n",
              "      <td>y</td>\n",
              "      <td>y</td>\n",
              "      <td>y</td>\n",
              "      <td>n</td>\n",
              "      <td>y</td>\n",
              "      <td>y</td>\n",
              "      <td>n</td>\n",
              "      <td>n</td>\n",
              "      <td>n</td>\n",
              "      <td>n</td>\n",
              "      <td>y</td>\n",
              "      <td>?</td>\n",
              "      <td>y</td>\n",
              "      <td>y</td>\n",
              "      <td>y</td>\n",
              "      <td>y</td>\n",
              "    </tr>\n",
              "  </tbody>\n",
              "</table>\n",
              "</div>"
            ],
            "text/plain": [
              "        party handicapped-infants water-project  ... crime duty-free south-africa\n",
              "0  republican                   n             y  ...     y         n            y\n",
              "1  republican                   n             y  ...     y         n            ?\n",
              "2    democrat                   ?             y  ...     y         n            n\n",
              "3    democrat                   n             y  ...     n         n            y\n",
              "4    democrat                   y             y  ...     y         y            y\n",
              "\n",
              "[5 rows x 17 columns]"
            ]
          },
          "metadata": {
            "tags": []
          },
          "execution_count": 42
        }
      ]
    },
    {
      "cell_type": "code",
      "metadata": {
        "id": "3KScIkdEjpOP",
        "colab_type": "code",
        "outputId": "c181e781-7b8e-455b-fa43-d605603aff3a",
        "colab": {
          "base_uri": "https://localhost:8080/",
          "height": 247
        }
      },
      "source": [
        "# Make it into a dataframe:\n",
        "column_headers = ['party','handicapped-infants','water-project',\n",
        "                          'budget','physician-fee-freeze', 'el-salvador-aid',\n",
        "                          'religious-groups','anti-satellite-ban',\n",
        "                          'aid-to-contras','mx-missile','immigration',\n",
        "                          'synfuels', 'education', 'right-to-sue','crime','duty-free',\n",
        "                          'south-africa']\n",
        "\n",
        "# You can see right away that the missing values were coded with a ?. To remove\n",
        "#   those and set them to NaN values, need to add na_values='?':\n",
        "house = pd.read_csv('house-votes-84.data', header=None, names=column_headers, \n",
        "                    na_values='?')\n",
        "house.head()\n"
      ],
      "execution_count": 43,
      "outputs": [
        {
          "output_type": "execute_result",
          "data": {
            "text/html": [
              "<div>\n",
              "<style scoped>\n",
              "    .dataframe tbody tr th:only-of-type {\n",
              "        vertical-align: middle;\n",
              "    }\n",
              "\n",
              "    .dataframe tbody tr th {\n",
              "        vertical-align: top;\n",
              "    }\n",
              "\n",
              "    .dataframe thead th {\n",
              "        text-align: right;\n",
              "    }\n",
              "</style>\n",
              "<table border=\"1\" class=\"dataframe\">\n",
              "  <thead>\n",
              "    <tr style=\"text-align: right;\">\n",
              "      <th></th>\n",
              "      <th>party</th>\n",
              "      <th>handicapped-infants</th>\n",
              "      <th>water-project</th>\n",
              "      <th>budget</th>\n",
              "      <th>physician-fee-freeze</th>\n",
              "      <th>el-salvador-aid</th>\n",
              "      <th>religious-groups</th>\n",
              "      <th>anti-satellite-ban</th>\n",
              "      <th>aid-to-contras</th>\n",
              "      <th>mx-missile</th>\n",
              "      <th>immigration</th>\n",
              "      <th>synfuels</th>\n",
              "      <th>education</th>\n",
              "      <th>right-to-sue</th>\n",
              "      <th>crime</th>\n",
              "      <th>duty-free</th>\n",
              "      <th>south-africa</th>\n",
              "    </tr>\n",
              "  </thead>\n",
              "  <tbody>\n",
              "    <tr>\n",
              "      <th>0</th>\n",
              "      <td>republican</td>\n",
              "      <td>n</td>\n",
              "      <td>y</td>\n",
              "      <td>n</td>\n",
              "      <td>y</td>\n",
              "      <td>y</td>\n",
              "      <td>y</td>\n",
              "      <td>n</td>\n",
              "      <td>n</td>\n",
              "      <td>n</td>\n",
              "      <td>y</td>\n",
              "      <td>NaN</td>\n",
              "      <td>y</td>\n",
              "      <td>y</td>\n",
              "      <td>y</td>\n",
              "      <td>n</td>\n",
              "      <td>y</td>\n",
              "    </tr>\n",
              "    <tr>\n",
              "      <th>1</th>\n",
              "      <td>republican</td>\n",
              "      <td>n</td>\n",
              "      <td>y</td>\n",
              "      <td>n</td>\n",
              "      <td>y</td>\n",
              "      <td>y</td>\n",
              "      <td>y</td>\n",
              "      <td>n</td>\n",
              "      <td>n</td>\n",
              "      <td>n</td>\n",
              "      <td>n</td>\n",
              "      <td>n</td>\n",
              "      <td>y</td>\n",
              "      <td>y</td>\n",
              "      <td>y</td>\n",
              "      <td>n</td>\n",
              "      <td>NaN</td>\n",
              "    </tr>\n",
              "    <tr>\n",
              "      <th>2</th>\n",
              "      <td>democrat</td>\n",
              "      <td>NaN</td>\n",
              "      <td>y</td>\n",
              "      <td>y</td>\n",
              "      <td>NaN</td>\n",
              "      <td>y</td>\n",
              "      <td>y</td>\n",
              "      <td>n</td>\n",
              "      <td>n</td>\n",
              "      <td>n</td>\n",
              "      <td>n</td>\n",
              "      <td>y</td>\n",
              "      <td>n</td>\n",
              "      <td>y</td>\n",
              "      <td>y</td>\n",
              "      <td>n</td>\n",
              "      <td>n</td>\n",
              "    </tr>\n",
              "    <tr>\n",
              "      <th>3</th>\n",
              "      <td>democrat</td>\n",
              "      <td>n</td>\n",
              "      <td>y</td>\n",
              "      <td>y</td>\n",
              "      <td>n</td>\n",
              "      <td>NaN</td>\n",
              "      <td>y</td>\n",
              "      <td>n</td>\n",
              "      <td>n</td>\n",
              "      <td>n</td>\n",
              "      <td>n</td>\n",
              "      <td>y</td>\n",
              "      <td>n</td>\n",
              "      <td>y</td>\n",
              "      <td>n</td>\n",
              "      <td>n</td>\n",
              "      <td>y</td>\n",
              "    </tr>\n",
              "    <tr>\n",
              "      <th>4</th>\n",
              "      <td>democrat</td>\n",
              "      <td>y</td>\n",
              "      <td>y</td>\n",
              "      <td>y</td>\n",
              "      <td>n</td>\n",
              "      <td>y</td>\n",
              "      <td>y</td>\n",
              "      <td>n</td>\n",
              "      <td>n</td>\n",
              "      <td>n</td>\n",
              "      <td>n</td>\n",
              "      <td>y</td>\n",
              "      <td>NaN</td>\n",
              "      <td>y</td>\n",
              "      <td>y</td>\n",
              "      <td>y</td>\n",
              "      <td>y</td>\n",
              "    </tr>\n",
              "  </tbody>\n",
              "</table>\n",
              "</div>"
            ],
            "text/plain": [
              "        party handicapped-infants water-project  ... crime duty-free south-africa\n",
              "0  republican                   n             y  ...     y         n            y\n",
              "1  republican                   n             y  ...     y         n          NaN\n",
              "2    democrat                 NaN             y  ...     y         n            n\n",
              "3    democrat                   n             y  ...     n         n            y\n",
              "4    democrat                   y             y  ...     y         y            y\n",
              "\n",
              "[5 rows x 17 columns]"
            ]
          },
          "metadata": {
            "tags": []
          },
          "execution_count": 43
        }
      ]
    },
    {
      "cell_type": "code",
      "metadata": {
        "id": "T4EHECpyjpOW",
        "colab_type": "code",
        "outputId": "2f1eee24-1216-40f8-f47b-8dbb7ec7ed5d",
        "colab": {
          "base_uri": "https://localhost:8080/",
          "height": 247
        }
      },
      "source": [
        "# Recode votes as numerical values so you can carry out comparisons:\n",
        "house = house.replace({'y':1, 'n':0})\n",
        "house.head()"
      ],
      "execution_count": 52,
      "outputs": [
        {
          "output_type": "execute_result",
          "data": {
            "text/html": [
              "<div>\n",
              "<style scoped>\n",
              "    .dataframe tbody tr th:only-of-type {\n",
              "        vertical-align: middle;\n",
              "    }\n",
              "\n",
              "    .dataframe tbody tr th {\n",
              "        vertical-align: top;\n",
              "    }\n",
              "\n",
              "    .dataframe thead th {\n",
              "        text-align: right;\n",
              "    }\n",
              "</style>\n",
              "<table border=\"1\" class=\"dataframe\">\n",
              "  <thead>\n",
              "    <tr style=\"text-align: right;\">\n",
              "      <th></th>\n",
              "      <th>party</th>\n",
              "      <th>handicapped-infants</th>\n",
              "      <th>water-project</th>\n",
              "      <th>budget</th>\n",
              "      <th>physician-fee-freeze</th>\n",
              "      <th>el-salvador-aid</th>\n",
              "      <th>religious-groups</th>\n",
              "      <th>anti-satellite-ban</th>\n",
              "      <th>aid-to-contras</th>\n",
              "      <th>mx-missile</th>\n",
              "      <th>immigration</th>\n",
              "      <th>synfuels</th>\n",
              "      <th>education</th>\n",
              "      <th>right-to-sue</th>\n",
              "      <th>crime</th>\n",
              "      <th>duty-free</th>\n",
              "      <th>south-africa</th>\n",
              "    </tr>\n",
              "  </thead>\n",
              "  <tbody>\n",
              "    <tr>\n",
              "      <th>0</th>\n",
              "      <td>republican</td>\n",
              "      <td>0.0</td>\n",
              "      <td>1.0</td>\n",
              "      <td>0.0</td>\n",
              "      <td>1.0</td>\n",
              "      <td>1.0</td>\n",
              "      <td>1.0</td>\n",
              "      <td>0.0</td>\n",
              "      <td>0.0</td>\n",
              "      <td>0.0</td>\n",
              "      <td>1.0</td>\n",
              "      <td>NaN</td>\n",
              "      <td>1.0</td>\n",
              "      <td>1.0</td>\n",
              "      <td>1.0</td>\n",
              "      <td>0.0</td>\n",
              "      <td>1.0</td>\n",
              "    </tr>\n",
              "    <tr>\n",
              "      <th>1</th>\n",
              "      <td>republican</td>\n",
              "      <td>0.0</td>\n",
              "      <td>1.0</td>\n",
              "      <td>0.0</td>\n",
              "      <td>1.0</td>\n",
              "      <td>1.0</td>\n",
              "      <td>1.0</td>\n",
              "      <td>0.0</td>\n",
              "      <td>0.0</td>\n",
              "      <td>0.0</td>\n",
              "      <td>0.0</td>\n",
              "      <td>0.0</td>\n",
              "      <td>1.0</td>\n",
              "      <td>1.0</td>\n",
              "      <td>1.0</td>\n",
              "      <td>0.0</td>\n",
              "      <td>NaN</td>\n",
              "    </tr>\n",
              "    <tr>\n",
              "      <th>2</th>\n",
              "      <td>democrat</td>\n",
              "      <td>NaN</td>\n",
              "      <td>1.0</td>\n",
              "      <td>1.0</td>\n",
              "      <td>NaN</td>\n",
              "      <td>1.0</td>\n",
              "      <td>1.0</td>\n",
              "      <td>0.0</td>\n",
              "      <td>0.0</td>\n",
              "      <td>0.0</td>\n",
              "      <td>0.0</td>\n",
              "      <td>1.0</td>\n",
              "      <td>0.0</td>\n",
              "      <td>1.0</td>\n",
              "      <td>1.0</td>\n",
              "      <td>0.0</td>\n",
              "      <td>0.0</td>\n",
              "    </tr>\n",
              "    <tr>\n",
              "      <th>3</th>\n",
              "      <td>democrat</td>\n",
              "      <td>0.0</td>\n",
              "      <td>1.0</td>\n",
              "      <td>1.0</td>\n",
              "      <td>0.0</td>\n",
              "      <td>NaN</td>\n",
              "      <td>1.0</td>\n",
              "      <td>0.0</td>\n",
              "      <td>0.0</td>\n",
              "      <td>0.0</td>\n",
              "      <td>0.0</td>\n",
              "      <td>1.0</td>\n",
              "      <td>0.0</td>\n",
              "      <td>1.0</td>\n",
              "      <td>0.0</td>\n",
              "      <td>0.0</td>\n",
              "      <td>1.0</td>\n",
              "    </tr>\n",
              "    <tr>\n",
              "      <th>4</th>\n",
              "      <td>democrat</td>\n",
              "      <td>1.0</td>\n",
              "      <td>1.0</td>\n",
              "      <td>1.0</td>\n",
              "      <td>0.0</td>\n",
              "      <td>1.0</td>\n",
              "      <td>1.0</td>\n",
              "      <td>0.0</td>\n",
              "      <td>0.0</td>\n",
              "      <td>0.0</td>\n",
              "      <td>0.0</td>\n",
              "      <td>1.0</td>\n",
              "      <td>NaN</td>\n",
              "      <td>1.0</td>\n",
              "      <td>1.0</td>\n",
              "      <td>1.0</td>\n",
              "      <td>1.0</td>\n",
              "    </tr>\n",
              "  </tbody>\n",
              "</table>\n",
              "</div>"
            ],
            "text/plain": [
              "        party  handicapped-infants  ...  duty-free  south-africa\n",
              "0  republican                  0.0  ...        0.0           1.0\n",
              "1  republican                  0.0  ...        0.0           NaN\n",
              "2    democrat                  NaN  ...        0.0           0.0\n",
              "3    democrat                  0.0  ...        0.0           1.0\n",
              "4    democrat                  1.0  ...        1.0           1.0\n",
              "\n",
              "[5 rows x 17 columns]"
            ]
          },
          "metadata": {
            "tags": []
          },
          "execution_count": 52
        }
      ]
    },
    {
      "cell_type": "code",
      "metadata": {
        "id": "B4oib63KjpOZ",
        "colab_type": "code",
        "outputId": "365b4249-ec7b-4907-fd8b-b5bd03f1efac",
        "colab": {
          "base_uri": "https://localhost:8080/",
          "height": 67
        }
      },
      "source": [
        "# How many from each party?\n",
        "house['party'].value_counts()"
      ],
      "execution_count": 53,
      "outputs": [
        {
          "output_type": "execute_result",
          "data": {
            "text/plain": [
              "democrat      267\n",
              "republican    168\n",
              "Name: party, dtype: int64"
            ]
          },
          "metadata": {
            "tags": []
          },
          "execution_count": 53
        }
      ]
    },
    {
      "cell_type": "code",
      "metadata": {
        "id": "601SpriQjpOc",
        "colab_type": "code",
        "colab": {}
      },
      "source": [
        "# How did Republicans vote?\n",
        "rep = house[house['party']=='republican']"
      ],
      "execution_count": 0,
      "outputs": []
    },
    {
      "cell_type": "code",
      "metadata": {
        "id": "ZccVxcYzjpOf",
        "colab_type": "code",
        "colab": {}
      },
      "source": [
        "# How did Democrats vote?\n",
        "dem = house[house['party']=='democrat']"
      ],
      "execution_count": 0,
      "outputs": []
    },
    {
      "cell_type": "code",
      "metadata": {
        "id": "2xa2j1m7jpOh",
        "colab_type": "code",
        "outputId": "7cdf1ddd-3b82-4e07-ab13-796d9e008564",
        "colab": {
          "base_uri": "https://localhost:8080/",
          "height": 34
        }
      },
      "source": [
        "# The percentage of republicans who voted \"yes\" (1) on the right to sue bill:\n",
        "rep['right-to-sue'].sum()/len(rep)\n",
        "\n",
        "# len() is counting NaN values too!"
      ],
      "execution_count": 56,
      "outputs": [
        {
          "output_type": "execute_result",
          "data": {
            "text/plain": [
              "0.8095238095238095"
            ]
          },
          "metadata": {
            "tags": []
          },
          "execution_count": 56
        }
      ]
    },
    {
      "cell_type": "code",
      "metadata": {
        "id": "0V967HxejpOp",
        "colab_type": "code",
        "colab": {
          "base_uri": "https://localhost:8080/",
          "height": 34
        },
        "outputId": "bad8fa8c-0006-48e5-a932-4f86e41b3772"
      },
      "source": [
        "# Remove NaN values from this column\n",
        "col = rep['right-to-sue']\n",
        "\n",
        "np.isnan(col)\n",
        "\n",
        "right_to_sue_no_nans = col[~np.isnan(col)]\n",
        "\n",
        "# The same column as before, but I've dropped the NaN values\n",
        "right_to_sue_no_nans\n",
        "\n",
        "right_to_sue_no_nans.sum()/len(right_to_sue_no_nans)\n"
      ],
      "execution_count": 57,
      "outputs": [
        {
          "output_type": "execute_result",
          "data": {
            "text/plain": [
              "0.8607594936708861"
            ]
          },
          "metadata": {
            "tags": []
          },
          "execution_count": 57
        }
      ]
    },
    {
      "cell_type": "code",
      "metadata": {
        "id": "XALL0NvZjpOs",
        "colab_type": "code",
        "outputId": "e0f4da74-a531-4468-850a-ec1db5fe38fe",
        "colab": {
          "base_uri": "https://localhost:8080/",
          "height": 50
        }
      },
      "source": [
        "# Average rate of voting 'yes' on the right to sue:\n",
        "print(rep['right-to-sue'].mean())\n",
        "dem['right-to-sue'].mean()"
      ],
      "execution_count": 60,
      "outputs": [
        {
          "output_type": "stream",
          "text": [
            "0.8607594936708861\n"
          ],
          "name": "stdout"
        },
        {
          "output_type": "execute_result",
          "data": {
            "text/plain": [
              "0.2896825396825397"
            ]
          },
          "metadata": {
            "tags": []
          },
          "execution_count": 60
        }
      ]
    },
    {
      "cell_type": "code",
      "metadata": {
        "id": "HIZKWDEOBuXk",
        "colab_type": "code",
        "outputId": "6ceff442-0801-4336-ac74-f6910550d896",
        "colab": {
          "base_uri": "https://localhost:8080/",
          "height": 34
        }
      },
      "source": [
        "# There's a BIG difference in the sample, does this reflect a TRUE difference in \n",
        "#   the population?\n",
        "ttest_ind(rep['right-to-sue'], dem['right-to-sue'], nan_policy='omit')"
      ],
      "execution_count": 61,
      "outputs": [
        {
          "output_type": "execute_result",
          "data": {
            "text/plain": [
              "Ttest_indResult(statistic=13.51064251060933, pvalue=1.2278581709672758e-34)"
            ]
          },
          "metadata": {
            "tags": []
          },
          "execution_count": 61
        }
      ]
    },
    {
      "cell_type": "code",
      "metadata": {
        "id": "xpNtyQC1CDOd",
        "colab_type": "code",
        "colab": {}
      },
      "source": [
        "# We REJECT the null hypothesis.\n",
        "# We ACCEPT the alt hypo because there is a significant difference in the \n",
        "#   population between dems and reps on this issue."
      ],
      "execution_count": 0,
      "outputs": []
    },
    {
      "cell_type": "markdown",
      "metadata": {
        "id": "IKyfm36cjpOu",
        "colab_type": "text"
      },
      "source": [
        "#### water project bill (two-sample t-test)"
      ]
    },
    {
      "cell_type": "markdown",
      "metadata": {
        "id": "tLnA0GJmjpOv",
        "colab_type": "text"
      },
      "source": [
        "1) Null Hypothesis: There is no difference between average voting rates (levels of support) for the water-project bill between democrats and republicans in the house of representatives. (support is equal)\n",
        "\n",
        "𝑥¯1==𝑥¯2 \n",
        "Where  𝑥¯1  is the mean of republican votes and  𝑥¯2  is the mean of democrat votes.\n",
        "\n",
        "2) Alternative Hypothesis:\n",
        "\n",
        "𝑥¯1≠𝑥¯2 \n",
        "Levels of support between the two parties will differ in the population.\n",
        "\n",
        "3) 95% Confidence Level"
      ]
    },
    {
      "cell_type": "code",
      "metadata": {
        "id": "j6oAf9JnjpOx",
        "colab_type": "code",
        "outputId": "622fef16-04f5-46d4-ece2-5b6a2730350f",
        "colab": {
          "base_uri": "https://localhost:8080/",
          "height": 34
        }
      },
      "source": [
        "# What is the mean support of Republicans?\n",
        "rep['water-project'].mean()"
      ],
      "execution_count": 63,
      "outputs": [
        {
          "output_type": "execute_result",
          "data": {
            "text/plain": [
              "0.5067567567567568"
            ]
          },
          "metadata": {
            "tags": []
          },
          "execution_count": 63
        }
      ]
    },
    {
      "cell_type": "code",
      "metadata": {
        "id": "n8wxIc0xjpO5",
        "colab_type": "code",
        "outputId": "0434807e-19bd-4904-e0f6-f8cba5ce49c5",
        "colab": {
          "base_uri": "https://localhost:8080/",
          "height": 34
        }
      },
      "source": [
        "# What is the mean support of Democrats?\n",
        "dem['water-project'].mean()"
      ],
      "execution_count": 64,
      "outputs": [
        {
          "output_type": "execute_result",
          "data": {
            "text/plain": [
              "0.502092050209205"
            ]
          },
          "metadata": {
            "tags": []
          },
          "execution_count": 64
        }
      ]
    },
    {
      "cell_type": "code",
      "metadata": {
        "id": "4-txQuUrjpO-",
        "colab_type": "code",
        "outputId": "63b6c14a-c342-4c2f-80a6-f62d7c8d1450",
        "colab": {
          "base_uri": "https://localhost:8080/",
          "height": 34
        }
      },
      "source": [
        "# Compare with a t-test:\n",
        "ttest_ind(rep['water-project'], dem['water-project'], nan_policy='omit')\n",
        "\n",
        "# This is a Null hypthesis because there is no True difference in the population."
      ],
      "execution_count": 65,
      "outputs": [
        {
          "output_type": "execute_result",
          "data": {
            "text/plain": [
              "Ttest_indResult(statistic=0.08896538137868286, pvalue=0.9291556823993485)"
            ]
          },
          "metadata": {
            "tags": []
          },
          "execution_count": 65
        }
      ]
    },
    {
      "cell_type": "markdown",
      "metadata": {
        "id": "l0p6LFNUjpPS",
        "colab_type": "text"
      },
      "source": [
        "When I have multiple samples (using a 2-sample t-test) I will use the smaller of the two samples to determine my degrees of freedom\n",
        "\n",
        "So in this case, df = 148-1 = 147"
      ]
    },
    {
      "cell_type": "markdown",
      "metadata": {
        "id": "VSRv9mB8jpPT",
        "colab_type": "text"
      },
      "source": [
        "4) T-statistic: .089\n",
        "\n",
        "5) P-value: .929\n",
        "\n",
        "I want to reject the null hypothesis if my p-value is < .05 or if my p-value is less than (1-confidence_level)\n",
        "\n",
        "Conclusion: due to a p-value of .929 I fail to reject the null hypothesis that republican and democrat support for the water-project bill is different.\n",
        "\n",
        "I never say that I \"accept\" the null hypothesis, I just say that I \"fail to reject\""
      ]
    },
    {
      "cell_type": "markdown",
      "metadata": {
        "id": "XW_mMnD_jpPY",
        "colab_type": "text"
      },
      "source": [
        "#### 1-sample T-test example"
      ]
    },
    {
      "cell_type": "markdown",
      "metadata": {
        "id": "870Rn84ijpPZ",
        "colab_type": "text"
      },
      "source": [
        "I'm only using one sample, and my null hypothesis will be different.\n",
        "\n",
        "We're looking at Democrat support of the South-Africa bill\n",
        "\n",
        "1a) Null Hypothesis:\n",
        "\n",
        "𝑥¯1  (average dem support for SA bill) == 1.\n",
        "\n",
        "This says that 100% of democrats support this bill. Full support.\n",
        "\n",
        "1b) Null Hypothesis:\n",
        "\n",
        "𝑥¯1  (average dem support for SA bill) == .5\n",
        "\n",
        "This says that 50% of democrats support this bill. The party is split.\n",
        "\n",
        "1c) Null Hypothesis:\n",
        "\n",
        "𝑥¯1  (average dem support for SA bill) == 0.\n",
        "\n",
        "This says that 0% of democrats support this bill. The party is against the bill.\n",
        "\n",
        "1d) Null Hypothesis:\n",
        "\n",
        "𝑥¯1  (average dem support for SA bill) == .78245\n",
        "\n",
        "This says that 0% of democrats support this bill. The party is against the bill.\n",
        "\n",
        "**With 1-sample t-tests I can frame that I'm asking through my choice of null hypothesis**"
      ]
    },
    {
      "cell_type": "markdown",
      "metadata": {
        "id": "HdHX6OKjjpPZ",
        "colab_type": "text"
      },
      "source": [
        "1) Null Hypothesis:  𝑥¯1  (average dem support for SA bill) == .5\n",
        "\n",
        "This says that 50% of democrats support this bill. The party is split.\n",
        "\n",
        "2) Alternative Hypothesis: Support is not equal to .5 or 50%\n",
        "\n",
        "𝑥¯1  (average dem support for SA bill)  ≠  .5\n",
        "\n",
        "This says nothing about if support is greater than or less than 50%, it's just saying that it's not 50% - it's different, it's something other than 50%.\n",
        "\n",
        "3) Confidence Level: 95%"
      ]
    },
    {
      "cell_type": "code",
      "metadata": {
        "id": "nLbXwEBQjpPb",
        "colab_type": "code",
        "colab": {}
      },
      "source": [
        "# Need to import ttest_1samp = 1 sample for this one since we are only doing\n",
        "#   one group.\n",
        "from scipy.stats import ttest_ind, ttest_1samp"
      ],
      "execution_count": 0,
      "outputs": []
    },
    {
      "cell_type": "code",
      "metadata": {
        "id": "wfFVdTRwjpPd",
        "colab_type": "code",
        "outputId": "649aa55d-0bce-467d-a9fe-93e31d1c3d7c",
        "colab": {
          "base_uri": "https://localhost:8080/",
          "height": 34
        }
      },
      "source": [
        "# Conduct the t-test on only dem group:\n",
        "ttest_1samp(dem['south-africa'], .5, nan_policy='omit')"
      ],
      "execution_count": 67,
      "outputs": [
        {
          "output_type": "execute_result",
          "data": {
            "text/plain": [
              "Ttest_1sampResult(statistic=23.965755112488182, pvalue=1.7513759267849718e-58)"
            ]
          },
          "metadata": {
            "tags": []
          },
          "execution_count": 67
        }
      ]
    },
    {
      "cell_type": "markdown",
      "metadata": {
        "id": "vWe3knLdjpPh",
        "colab_type": "text"
      },
      "source": [
        "Due to a p-value of (basically 0) we reject the null hypothesis that democrat support for the South Africa bill is .5 (split party) and conclude that it is something different.\n"
      ]
    },
    {
      "cell_type": "code",
      "metadata": {
        "id": "RumCFYCBjpPj",
        "colab_type": "code",
        "colab": {
          "base_uri": "https://localhost:8080/",
          "height": 34
        },
        "outputId": "ded682c6-e6e3-4a82-c561-acb2f19f28bb"
      },
      "source": [
        "# What is the average support among Democrats?\n",
        "dem['south-africa'].mean()"
      ],
      "execution_count": 68,
      "outputs": [
        {
          "output_type": "execute_result",
          "data": {
            "text/plain": [
              "0.9351351351351351"
            ]
          },
          "metadata": {
            "tags": []
          },
          "execution_count": 68
        }
      ]
    },
    {
      "cell_type": "code",
      "metadata": {
        "id": "TGzWzzb5jpPs",
        "colab_type": "code",
        "outputId": "c2cdd245-64e1-4de6-e562-be6b72398def",
        "colab": {
          "base_uri": "https://localhost:8080/",
          "height": 34
        }
      },
      "source": [
        "# Is it significantly different from 90%?\n",
        "ttest_1samp(dem['south-africa'], .9, nan_policy='omit')"
      ],
      "execution_count": 69,
      "outputs": [
        {
          "output_type": "execute_result",
          "data": {
            "text/plain": [
              "Ttest_1sampResult(statistic=1.935123083617057, pvalue=0.05450836316336539)"
            ]
          },
          "metadata": {
            "tags": []
          },
          "execution_count": 69
        }
      ]
    },
    {
      "cell_type": "markdown",
      "metadata": {
        "id": "vceoeHNljpPv",
        "colab_type": "text"
      },
      "source": [
        "Fail to reject the null hypothesis:\n",
        "\n",
        "I conclude that that democrat support for the South Africa bill is not significantly different from 90%."
      ]
    },
    {
      "cell_type": "code",
      "metadata": {
        "id": "cj8__O-hjpPw",
        "colab_type": "code",
        "outputId": "086258e1-3dae-49c1-90ee-c487e2d3da5b",
        "colab": {
          "base_uri": "https://localhost:8080/",
          "height": 34
        }
      },
      "source": [
        "# what about 89.9?\n",
        "ttest_1samp(dem['south-africa'], .899, nan_policy='omit')"
      ],
      "execution_count": 0,
      "outputs": [
        {
          "output_type": "execute_result",
          "data": {
            "text/plain": [
              "Ttest_1sampResult(statistic=1.9901996636892347, pvalue=0.048049640325191705)"
            ]
          },
          "metadata": {
            "tags": []
          },
          "execution_count": 91
        }
      ]
    },
    {
      "cell_type": "markdown",
      "metadata": {
        "id": "SZ1RE2BkjpPy",
        "colab_type": "text"
      },
      "source": [
        "Due to a p-value of .048, I reject the null hypothesis that democrat support for this bill is 89.9% and suggest the alternative that it is different from 89.9%"
      ]
    },
    {
      "cell_type": "markdown",
      "metadata": {
        "id": "6AekkZxSjpPz",
        "colab_type": "text"
      },
      "source": [
        "### Wine Example"
      ]
    },
    {
      "cell_type": "code",
      "metadata": {
        "id": "1bbWHsINkU2P",
        "colab_type": "code",
        "colab": {}
      },
      "source": [
        "# Load the data (wines from Italy)\n",
        "from sklearn.datasets import load_wine\n",
        "X = load_wine()"
      ],
      "execution_count": 0,
      "outputs": []
    },
    {
      "cell_type": "code",
      "metadata": {
        "id": "poIUYkavkU2Q",
        "colab_type": "code",
        "colab": {}
      },
      "source": [
        "# Put that into a dataframe\n",
        "import pandas as pd\n",
        "wine=pd.DataFrame(X['data'], columns=X['feature_names'])\n",
        "wine['origin']=X['target']"
      ],
      "execution_count": 0,
      "outputs": []
    },
    {
      "cell_type": "code",
      "metadata": {
        "id": "h7EEwBOXjpQD",
        "colab_type": "code",
        "colab": {
          "base_uri": "https://localhost:8080/",
          "height": 213
        },
        "outputId": "9954c532-8097-4d18-a05f-2110f6e706ac"
      },
      "source": [
        "# Take a look at the dataframe:\n",
        "wine.head()"
      ],
      "execution_count": 73,
      "outputs": [
        {
          "output_type": "execute_result",
          "data": {
            "text/html": [
              "<div>\n",
              "<style scoped>\n",
              "    .dataframe tbody tr th:only-of-type {\n",
              "        vertical-align: middle;\n",
              "    }\n",
              "\n",
              "    .dataframe tbody tr th {\n",
              "        vertical-align: top;\n",
              "    }\n",
              "\n",
              "    .dataframe thead th {\n",
              "        text-align: right;\n",
              "    }\n",
              "</style>\n",
              "<table border=\"1\" class=\"dataframe\">\n",
              "  <thead>\n",
              "    <tr style=\"text-align: right;\">\n",
              "      <th></th>\n",
              "      <th>alcohol</th>\n",
              "      <th>malic_acid</th>\n",
              "      <th>ash</th>\n",
              "      <th>alcalinity_of_ash</th>\n",
              "      <th>magnesium</th>\n",
              "      <th>total_phenols</th>\n",
              "      <th>flavanoids</th>\n",
              "      <th>nonflavanoid_phenols</th>\n",
              "      <th>proanthocyanins</th>\n",
              "      <th>color_intensity</th>\n",
              "      <th>hue</th>\n",
              "      <th>od280/od315_of_diluted_wines</th>\n",
              "      <th>proline</th>\n",
              "      <th>origin</th>\n",
              "    </tr>\n",
              "  </thead>\n",
              "  <tbody>\n",
              "    <tr>\n",
              "      <th>0</th>\n",
              "      <td>14.23</td>\n",
              "      <td>1.71</td>\n",
              "      <td>2.43</td>\n",
              "      <td>15.6</td>\n",
              "      <td>127.0</td>\n",
              "      <td>2.80</td>\n",
              "      <td>3.06</td>\n",
              "      <td>0.28</td>\n",
              "      <td>2.29</td>\n",
              "      <td>5.64</td>\n",
              "      <td>1.04</td>\n",
              "      <td>3.92</td>\n",
              "      <td>1065.0</td>\n",
              "      <td>0</td>\n",
              "    </tr>\n",
              "    <tr>\n",
              "      <th>1</th>\n",
              "      <td>13.20</td>\n",
              "      <td>1.78</td>\n",
              "      <td>2.14</td>\n",
              "      <td>11.2</td>\n",
              "      <td>100.0</td>\n",
              "      <td>2.65</td>\n",
              "      <td>2.76</td>\n",
              "      <td>0.26</td>\n",
              "      <td>1.28</td>\n",
              "      <td>4.38</td>\n",
              "      <td>1.05</td>\n",
              "      <td>3.40</td>\n",
              "      <td>1050.0</td>\n",
              "      <td>0</td>\n",
              "    </tr>\n",
              "    <tr>\n",
              "      <th>2</th>\n",
              "      <td>13.16</td>\n",
              "      <td>2.36</td>\n",
              "      <td>2.67</td>\n",
              "      <td>18.6</td>\n",
              "      <td>101.0</td>\n",
              "      <td>2.80</td>\n",
              "      <td>3.24</td>\n",
              "      <td>0.30</td>\n",
              "      <td>2.81</td>\n",
              "      <td>5.68</td>\n",
              "      <td>1.03</td>\n",
              "      <td>3.17</td>\n",
              "      <td>1185.0</td>\n",
              "      <td>0</td>\n",
              "    </tr>\n",
              "    <tr>\n",
              "      <th>3</th>\n",
              "      <td>14.37</td>\n",
              "      <td>1.95</td>\n",
              "      <td>2.50</td>\n",
              "      <td>16.8</td>\n",
              "      <td>113.0</td>\n",
              "      <td>3.85</td>\n",
              "      <td>3.49</td>\n",
              "      <td>0.24</td>\n",
              "      <td>2.18</td>\n",
              "      <td>7.80</td>\n",
              "      <td>0.86</td>\n",
              "      <td>3.45</td>\n",
              "      <td>1480.0</td>\n",
              "      <td>0</td>\n",
              "    </tr>\n",
              "    <tr>\n",
              "      <th>4</th>\n",
              "      <td>13.24</td>\n",
              "      <td>2.59</td>\n",
              "      <td>2.87</td>\n",
              "      <td>21.0</td>\n",
              "      <td>118.0</td>\n",
              "      <td>2.80</td>\n",
              "      <td>2.69</td>\n",
              "      <td>0.39</td>\n",
              "      <td>1.82</td>\n",
              "      <td>4.32</td>\n",
              "      <td>1.04</td>\n",
              "      <td>2.93</td>\n",
              "      <td>735.0</td>\n",
              "      <td>0</td>\n",
              "    </tr>\n",
              "  </tbody>\n",
              "</table>\n",
              "</div>"
            ],
            "text/plain": [
              "   alcohol  malic_acid   ash  ...  od280/od315_of_diluted_wines  proline  origin\n",
              "0    14.23        1.71  2.43  ...                          3.92   1065.0       0\n",
              "1    13.20        1.78  2.14  ...                          3.40   1050.0       0\n",
              "2    13.16        2.36  2.67  ...                          3.17   1185.0       0\n",
              "3    14.37        1.95  2.50  ...                          3.45   1480.0       0\n",
              "4    13.24        2.59  2.87  ...                          2.93    735.0       0\n",
              "\n",
              "[5 rows x 14 columns]"
            ]
          },
          "metadata": {
            "tags": []
          },
          "execution_count": 73
        }
      ]
    },
    {
      "cell_type": "code",
      "metadata": {
        "id": "Yy6KWZhXkU2T",
        "colab_type": "code",
        "outputId": "db4713dd-cf12-47c1-eca2-7586608db02f",
        "colab": {
          "base_uri": "https://localhost:8080/",
          "height": 265
        }
      },
      "source": [
        "# Examine a column ash for all 3 origin groups:\n",
        "import seaborn as sns\n",
        "sns.kdeplot(wine['ash'], color='crimson');"
      ],
      "execution_count": 74,
      "outputs": [
        {
          "output_type": "display_data",
          "data": {
            "image/png": "[encoded data removed]",
            "text/plain": [
              "<Figure size 432x288 with 1 Axes>"
            ]
          },
          "metadata": {
            "tags": [],
            "needs_background": "light"
          }
        }
      ]
    },
    {
      "cell_type": "code",
      "metadata": {
        "id": "BvRtp4tmkU2U",
        "colab_type": "code",
        "outputId": "b9f5a980-8053-42aa-ce1d-7caf6dd60b24",
        "colab": {
          "base_uri": "https://localhost:8080/",
          "height": 265
        }
      },
      "source": [
        "# Now for each group. Are these groups different or the same?\n",
        "colorlist=['crimson', 'teal', 'gold']\n",
        "for x in [0,1,2]:\n",
        "    sns.kdeplot(wine[wine['origin']==x]['ash'], color=colorlist[x], label=x);"
      ],
      "execution_count": 75,
      "outputs": [
        {
          "output_type": "display_data",
          "data": {
            "image/png": "[encoded data removed]",
            "text/plain": [
              "<Figure size 432x288 with 1 Axes>"
            ]
          },
          "metadata": {
            "tags": [],
            "needs_background": "light"
          }
        }
      ]
    },
    {
      "cell_type": "code",
      "metadata": {
        "id": "dbGm29xvkU2V",
        "colab_type": "code",
        "outputId": "ffee3bdf-e6ce-4419-b14e-4800e755df4f",
        "colab": {
          "base_uri": "https://localhost:8080/",
          "height": 219
        }
      },
      "source": [
        "# Are they different or the same?\n",
        "for x in [0,1,2]:\n",
        "    print(wine[wine['origin']==x]['ash'].mean())\n",
        "    print(wine[wine['origin']==x]['ash'].std())\n",
        "    print('\\n')"
      ],
      "execution_count": 76,
      "outputs": [
        {
          "output_type": "stream",
          "text": [
            "2.455593220338984\n",
            "0.2271659820517139\n",
            "\n",
            "\n",
            "2.244788732394365\n",
            "0.31546726864369473\n",
            "\n",
            "\n",
            "2.4370833333333333\n",
            "0.1846901756805375\n",
            "\n",
            "\n"
          ],
          "name": "stdout"
        }
      ]
    },
    {
      "cell_type": "code",
      "metadata": {
        "id": "yGQKobxjkU2W",
        "colab_type": "code",
        "colab": {}
      },
      "source": [
        "# Create two selections from the larger sample:\n",
        "ash1 = wine[wine['origin']==1]['ash']\n",
        "ash2 = wine[wine['origin']==2]['ash']"
      ],
      "execution_count": 0,
      "outputs": []
    },
    {
      "cell_type": "code",
      "metadata": {
        "id": "a96r71fekU2X",
        "colab_type": "code",
        "colab": {}
      },
      "source": [
        "# Compare samples 0 and 1. do they have the same ash content in the soil?\n",
        "stat, pvalue = ttest_ind(ash1, ash2)"
      ],
      "execution_count": 0,
      "outputs": []
    },
    {
      "cell_type": "code",
      "metadata": {
        "id": "ChbsUcOrkU2Z",
        "colab_type": "code",
        "outputId": "e79cb02b-b0eb-4e31-86e1-458c1b837d53",
        "colab": {
          "base_uri": "https://localhost:8080/",
          "height": 34
        }
      },
      "source": [
        "# Is the pvalue less than 0.05?\n",
        "pvalue <= 0.05"
      ],
      "execution_count": 79,
      "outputs": [
        {
          "output_type": "execute_result",
          "data": {
            "text/plain": [
              "True"
            ]
          },
          "metadata": {
            "tags": []
          },
          "execution_count": 79
        }
      ]
    },
    {
      "cell_type": "markdown",
      "metadata": {
        "id": "ARhv7ACgjpQi",
        "colab_type": "text"
      },
      "source": [
        "#### Alcohol content"
      ]
    },
    {
      "cell_type": "code",
      "metadata": {
        "id": "Xg4-IWtskU2a",
        "colab_type": "code",
        "outputId": "252fa80f-6390-4417-ebe0-fa2551f0047f",
        "colab": {
          "base_uri": "https://localhost:8080/"
        }
      },
      "source": [
        "# compare mean alcohol for two origin groups\n",
        "for group in range(0,2):\n",
        "    sns.kdeplot(wine[wine['origin']==group]['alcohol'], label=group)"
      ],
      "execution_count": 0,
      "outputs": [
        {
          "output_type": "display_data",
          "data": {
            "image/png": "[encoded data removed]",
            "text/plain": [
              "<Figure size 432x288 with 1 Axes>"
            ]
          },
          "metadata": {
            "tags": []
          }
        }
      ]
    },
    {
      "cell_type": "code",
      "metadata": {
        "id": "KR6SHBCBkU2e",
        "colab_type": "code",
        "colab": {}
      },
      "source": [
        "# create the groups\n",
        "group1=wine[wine['origin']==0]['alcohol']\n",
        "group2=wine[wine['origin']==1]['alcohol']"
      ],
      "execution_count": 0,
      "outputs": []
    },
    {
      "cell_type": "code",
      "metadata": {
        "id": "PK6OQHCAkU2h",
        "colab_type": "code",
        "colab": {}
      },
      "source": [
        "# run the t-test and interpret the p-value\n",
        "stat, pvalue = ttest_ind(group1, group2)"
      ],
      "execution_count": 0,
      "outputs": []
    },
    {
      "cell_type": "code",
      "metadata": {
        "id": "wEHXzNDwkU2i",
        "colab_type": "code",
        "outputId": "c685aeba-9930-4992-ca1d-85091763260a",
        "colab": {
          "base_uri": "https://localhost:8080/"
        }
      },
      "source": [
        "# format so it's not in scientific notation\n",
        "print('{:.15f}'.format(pvalue))"
      ],
      "execution_count": 0,
      "outputs": [
        {
          "output_type": "stream",
          "text": [
            "0.000000000000000\n"
          ],
          "name": "stdout"
        }
      ]
    },
    {
      "cell_type": "markdown",
      "metadata": {
        "id": "5kUzbjqMjpQu",
        "colab_type": "text"
      },
      "source": [
        "#### Same analysis, on hue"
      ]
    },
    {
      "cell_type": "code",
      "metadata": {
        "id": "I-KRIfdTkU2j",
        "colab_type": "code",
        "outputId": "b8e6846f-26b8-4c4c-c822-f66b5753fa6f",
        "colab": {
          "base_uri": "https://localhost:8080/"
        }
      },
      "source": [
        "for group in range(0,2):\n",
        "    sns.kdeplot(wine[wine['origin']==group]['hue'], label=group)"
      ],
      "execution_count": 0,
      "outputs": [
        {
          "output_type": "display_data",
          "data": {
            "image/png": "[encoded data removed]",
            "text/plain": [
              "<Figure size 432x288 with 1 Axes>"
            ]
          },
          "metadata": {
            "tags": []
          }
        }
      ]
    },
    {
      "cell_type": "code",
      "metadata": {
        "id": "PLs1WWBikU2k",
        "colab_type": "code",
        "colab": {}
      },
      "source": [
        "# create the groups\n",
        "group1=wine[wine['origin']==0]['hue']\n",
        "group2=wine[wine['origin']==1]['hue']"
      ],
      "execution_count": 0,
      "outputs": []
    },
    {
      "cell_type": "code",
      "metadata": {
        "id": "zsWkri9TkU2l",
        "colab_type": "code",
        "outputId": "c8e90f6e-df45-411b-a912-d8cb071d2a8f",
        "colab": {
          "base_uri": "https://localhost:8080/"
        }
      },
      "source": [
        "# run the t-test\n",
        "stat,pvalue=ttest_ind(group1, group2)\n",
        "print(pvalue<=0.05)"
      ],
      "execution_count": 0,
      "outputs": [
        {
          "output_type": "stream",
          "text": [
            "False\n"
          ],
          "name": "stdout"
        }
      ]
    },
    {
      "cell_type": "markdown",
      "metadata": {
        "colab_type": "text",
        "id": "wiq83guLcuAE"
      },
      "source": [
        "# Resources\n",
        "\n",
        "- https://homepage.divms.uiowa.edu/~mbognar/applets/t.html\n",
        "- https://rpsychologist.com/d3/tdist/\n",
        "- https://gallery.shinyapps.io/tdist/\n",
        "- https://en.wikipedia.org/wiki/Standard_deviation#Sample_standard_deviation_of_metabolic_rate_of_northern_fulmars\n",
        "- https://www.khanacademy.org/math/ap-statistics/two-sample-inference/two-sample-t-test-means/v/two-sample-t-test-for-difference-of-means"
      ]
    }
  ]
}