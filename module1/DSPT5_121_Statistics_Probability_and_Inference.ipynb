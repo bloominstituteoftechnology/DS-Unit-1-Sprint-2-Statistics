{
  "nbformat": 4,
  "nbformat_minor": 0,
  "metadata": {
    "colab": {
      "name": "DSPT5_121_Statistics_Probability_and_Inference.ipynb",
      "provenance": [],
      "include_colab_link": true
    },
    "kernelspec": {
      "display_name": "Python 3",
      "language": "python",
      "name": "python3"
    },
    "language_info": {
      "codemirror_mode": {
        "name": "ipython",
        "version": 3
      },
      "file_extension": ".py",
      "mimetype": "text/x-python",
      "name": "python",
      "nbconvert_exporter": "python",
      "pygments_lexer": "ipython3",
      "version": "3.7.3"
    }
  },
  "cells": [
    {
      "cell_type": "markdown",
      "metadata": {
        "id": "view-in-github",
        "colab_type": "text"
      },
      "source": [
        "<a href=\"https://colab.research.google.com/github/jiobu1/DS-Unit-1-Sprint-2-Statistics/blob/master/module1/DSPT5_121_Statistics_Probability_and_Inference.ipynb\" target=\"_parent\"><img src=\"https://colab.research.google.com/assets/colab-badge.svg\" alt=\"Open In Colab\"/></a>"
      ]
    },
    {
      "cell_type": "markdown",
      "metadata": {
        "colab_type": "text",
        "id": "eJGtmni-DezY"
      },
      "source": [
        "<img align=\"left\" src=\"https://lever-client-logos.s3.amazonaws.com/864372b1-534c-480e-acd5-9711f850815c-1524247202159.png\" width=200>\n",
        "\n",
        "<br></br>\n",
        "<br></br>\n",
        "\n",
        "## *Data Science Unit 1 Sprint 2 Lesson 1*\n",
        "\n",
        "# Statistics, Probability and Inference\n",
        "\n",
        "## Learning Objectives\n",
        "* [Part 1](#p1): Normal Distribution Revisted\n",
        "* [Part 2](#p2): Student's T Test\n",
        "* [Part 3](#p3): Hypothesis Test & Doing it Live"
      ]
    },
    {
      "cell_type": "markdown",
      "metadata": {
        "id": "WWkXMOn3hdwK",
        "colab_type": "text"
      },
      "source": [
        "**Prepare**\n",
        "As we delve into statistics, we'll be using more libraries - in particular the [stats package from SciPy](https://docs.scipy.org/doc/scipy-1.4.1/reference/tutorial/stats.html)"
      ]
    },
    {
      "cell_type": "code",
      "metadata": {
        "id": "oFElkH2Lhs56",
        "colab_type": "code",
        "colab": {
          "base_uri": "https://localhost:8080/",
          "height": 1000
        },
        "outputId": "77702cc8-b212-4b66-cf0d-fec9d12ca780"
      },
      "source": [
        "from scipy import stats\n",
        "dir(stats)"
      ],
      "execution_count": 1,
      "outputs": [
        {
          "output_type": "execute_result",
          "data": {
            "text/plain": [
              "['PearsonRConstantInputWarning',\n",
              " 'PearsonRNearConstantInputWarning',\n",
              " '__all__',\n",
              " '__builtins__',\n",
              " '__cached__',\n",
              " '__doc__',\n",
              " '__file__',\n",
              " '__loader__',\n",
              " '__name__',\n",
              " '__package__',\n",
              " '__path__',\n",
              " '__spec__',\n",
              " '_binned_statistic',\n",
              " '_constants',\n",
              " '_continuous_distns',\n",
              " '_discrete_distns',\n",
              " '_distn_infrastructure',\n",
              " '_distr_params',\n",
              " '_hypotests',\n",
              " '_multivariate',\n",
              " '_rvs_sampling',\n",
              " '_stats',\n",
              " '_stats_mstats_common',\n",
              " '_tukeylambda_stats',\n",
              " 'absolute_import',\n",
              " 'alpha',\n",
              " 'anderson',\n",
              " 'anderson_ksamp',\n",
              " 'anglit',\n",
              " 'ansari',\n",
              " 'arcsine',\n",
              " 'argus',\n",
              " 'bartlett',\n",
              " 'bayes_mvs',\n",
              " 'bernoulli',\n",
              " 'beta',\n",
              " 'betabinom',\n",
              " 'betaprime',\n",
              " 'binned_statistic',\n",
              " 'binned_statistic_2d',\n",
              " 'binned_statistic_dd',\n",
              " 'binom',\n",
              " 'binom_test',\n",
              " 'boltzmann',\n",
              " 'boxcox',\n",
              " 'boxcox_llf',\n",
              " 'boxcox_normmax',\n",
              " 'boxcox_normplot',\n",
              " 'bradford',\n",
              " 'brunnermunzel',\n",
              " 'burr',\n",
              " 'burr12',\n",
              " 'cauchy',\n",
              " 'chi',\n",
              " 'chi2',\n",
              " 'chi2_contingency',\n",
              " 'chisquare',\n",
              " 'circmean',\n",
              " 'circstd',\n",
              " 'circvar',\n",
              " 'combine_pvalues',\n",
              " 'contingency',\n",
              " 'cosine',\n",
              " 'crystalball',\n",
              " 'cumfreq',\n",
              " 'describe',\n",
              " 'dgamma',\n",
              " 'dirichlet',\n",
              " 'distributions',\n",
              " 'division',\n",
              " 'dlaplace',\n",
              " 'dweibull',\n",
              " 'energy_distance',\n",
              " 'entropy',\n",
              " 'epps_singleton_2samp',\n",
              " 'erlang',\n",
              " 'expon',\n",
              " 'exponnorm',\n",
              " 'exponpow',\n",
              " 'exponweib',\n",
              " 'f',\n",
              " 'f_oneway',\n",
              " 'fatiguelife',\n",
              " 'find_repeats',\n",
              " 'fisher_exact',\n",
              " 'fisk',\n",
              " 'fligner',\n",
              " 'foldcauchy',\n",
              " 'foldnorm',\n",
              " 'frechet_l',\n",
              " 'frechet_r',\n",
              " 'friedmanchisquare',\n",
              " 'gamma',\n",
              " 'gausshyper',\n",
              " 'gaussian_kde',\n",
              " 'genexpon',\n",
              " 'genextreme',\n",
              " 'gengamma',\n",
              " 'genhalflogistic',\n",
              " 'geninvgauss',\n",
              " 'genlogistic',\n",
              " 'gennorm',\n",
              " 'genpareto',\n",
              " 'geom',\n",
              " 'gilbrat',\n",
              " 'gmean',\n",
              " 'gompertz',\n",
              " 'gstd',\n",
              " 'gumbel_l',\n",
              " 'gumbel_r',\n",
              " 'halfcauchy',\n",
              " 'halfgennorm',\n",
              " 'halflogistic',\n",
              " 'halfnorm',\n",
              " 'hmean',\n",
              " 'hypergeom',\n",
              " 'hypsecant',\n",
              " 'invgamma',\n",
              " 'invgauss',\n",
              " 'invweibull',\n",
              " 'invwishart',\n",
              " 'iqr',\n",
              " 'itemfreq',\n",
              " 'jarque_bera',\n",
              " 'johnsonsb',\n",
              " 'johnsonsu',\n",
              " 'kappa3',\n",
              " 'kappa4',\n",
              " 'kde',\n",
              " 'kendalltau',\n",
              " 'kruskal',\n",
              " 'ks_2samp',\n",
              " 'ksone',\n",
              " 'kstat',\n",
              " 'kstatvar',\n",
              " 'kstest',\n",
              " 'kstwobign',\n",
              " 'kurtosis',\n",
              " 'kurtosistest',\n",
              " 'laplace',\n",
              " 'levene',\n",
              " 'levy',\n",
              " 'levy_l',\n",
              " 'levy_stable',\n",
              " 'linregress',\n",
              " 'loggamma',\n",
              " 'logistic',\n",
              " 'loglaplace',\n",
              " 'lognorm',\n",
              " 'logser',\n",
              " 'loguniform',\n",
              " 'lomax',\n",
              " 'mannwhitneyu',\n",
              " 'matrix_normal',\n",
              " 'maxwell',\n",
              " 'median_absolute_deviation',\n",
              " 'median_test',\n",
              " 'mielke',\n",
              " 'mode',\n",
              " 'moment',\n",
              " 'mood',\n",
              " 'morestats',\n",
              " 'moyal',\n",
              " 'mstats',\n",
              " 'mstats_basic',\n",
              " 'mstats_extras',\n",
              " 'multinomial',\n",
              " 'multiscale_graphcorr',\n",
              " 'multivariate_normal',\n",
              " 'mvn',\n",
              " 'mvsdist',\n",
              " 'nakagami',\n",
              " 'nbinom',\n",
              " 'ncf',\n",
              " 'nct',\n",
              " 'ncx2',\n",
              " 'norm',\n",
              " 'normaltest',\n",
              " 'norminvgauss',\n",
              " 'obrientransform',\n",
              " 'ortho_group',\n",
              " 'pareto',\n",
              " 'pearson3',\n",
              " 'pearsonr',\n",
              " 'percentileofscore',\n",
              " 'planck',\n",
              " 'pointbiserialr',\n",
              " 'poisson',\n",
              " 'power_divergence',\n",
              " 'powerlaw',\n",
              " 'powerlognorm',\n",
              " 'powernorm',\n",
              " 'ppcc_max',\n",
              " 'ppcc_plot',\n",
              " 'print_function',\n",
              " 'probplot',\n",
              " 'randint',\n",
              " 'random_correlation',\n",
              " 'rankdata',\n",
              " 'ranksums',\n",
              " 'rayleigh',\n",
              " 'rdist',\n",
              " 'recipinvgauss',\n",
              " 'reciprocal',\n",
              " 'relfreq',\n",
              " 'rice',\n",
              " 'rv_continuous',\n",
              " 'rv_discrete',\n",
              " 'rv_histogram',\n",
              " 'rvs_ratio_uniforms',\n",
              " 'scoreatpercentile',\n",
              " 'sem',\n",
              " 'semicircular',\n",
              " 'shapiro',\n",
              " 'siegelslopes',\n",
              " 'sigmaclip',\n",
              " 'skellam',\n",
              " 'skew',\n",
              " 'skewnorm',\n",
              " 'skewtest',\n",
              " 'spearmanr',\n",
              " 'special_ortho_group',\n",
              " 'statlib',\n",
              " 'stats',\n",
              " 't',\n",
              " 'test',\n",
              " 'theilslopes',\n",
              " 'tiecorrect',\n",
              " 'tmax',\n",
              " 'tmean',\n",
              " 'tmin',\n",
              " 'trapz',\n",
              " 'triang',\n",
              " 'trim1',\n",
              " 'trim_mean',\n",
              " 'trimboth',\n",
              " 'truncexpon',\n",
              " 'truncnorm',\n",
              " 'tsem',\n",
              " 'tstd',\n",
              " 'ttest_1samp',\n",
              " 'ttest_ind',\n",
              " 'ttest_ind_from_stats',\n",
              " 'ttest_rel',\n",
              " 'tukeylambda',\n",
              " 'tvar',\n",
              " 'uniform',\n",
              " 'unitary_group',\n",
              " 'variation',\n",
              " 'vonmises',\n",
              " 'vonmises_line',\n",
              " 'wald',\n",
              " 'wasserstein_distance',\n",
              " 'weibull_max',\n",
              " 'weibull_min',\n",
              " 'weightedtau',\n",
              " 'wilcoxon',\n",
              " 'wishart',\n",
              " 'wrapcauchy',\n",
              " 'yeojohnson',\n",
              " 'yeojohnson_llf',\n",
              " 'yeojohnson_normmax',\n",
              " 'yeojohnson_normplot',\n",
              " 'yulesimon',\n",
              " 'zipf',\n",
              " 'zmap',\n",
              " 'zscore']"
            ]
          },
          "metadata": {
            "tags": []
          },
          "execution_count": 1
        }
      ]
    },
    {
      "cell_type": "code",
      "metadata": {
        "id": "bJQUxNW5iAOK",
        "colab_type": "code",
        "colab": {
          "base_uri": "https://localhost:8080/",
          "height": 68
        },
        "outputId": "3e0dab47-4049-4faa-f4bc-38c4d8748966"
      },
      "source": [
        "# As usual, there is a lot of stuff here! There's our friend, the normal distribution\n",
        "norm = stats.norm()\n",
        "print(norm.mean())\n",
        "print(norm.std())\n",
        "print(norm.var())"
      ],
      "execution_count": 2,
      "outputs": [
        {
          "output_type": "stream",
          "text": [
            "0.0\n",
            "1.0\n",
            "1.0\n"
          ],
          "name": "stdout"
        }
      ]
    },
    {
      "cell_type": "code",
      "metadata": {
        "id": "2Zwf3I5BiXDc",
        "colab_type": "code",
        "colab": {
          "base_uri": "https://localhost:8080/",
          "height": 68
        },
        "outputId": "71aee1e3-3186-4098-9bb9-c623c74ea8d0"
      },
      "source": [
        "# Add a new norm - t\n",
        "t1 = stats.t(5) #5 is df 'shape' parameter\n",
        "print(t1.mean())\n",
        "print(t1.std())\n",
        "print(t1.var())"
      ],
      "execution_count": 3,
      "outputs": [
        {
          "output_type": "stream",
          "text": [
            "0.0\n",
            "1.2909944487358056\n",
            "1.6666666666666667\n"
          ],
          "name": "stdout"
        }
      ]
    },
    {
      "cell_type": "code",
      "metadata": {
        "id": "UjkVvVBlirY1",
        "colab_type": "code",
        "colab": {
          "base_uri": "https://localhost:8080/",
          "height": 34
        },
        "outputId": "0b00f215-937b-4b3b-bfc1-d53bdb74ebb8"
      },
      "source": [
        "t1.std()**2 # Square the standard deviation and you get the variance"
      ],
      "execution_count": 4,
      "outputs": [
        {
          "output_type": "execute_result",
          "data": {
            "text/plain": [
              "1.6666666666666665"
            ]
          },
          "metadata": {
            "tags": []
          },
          "execution_count": 4
        }
      ]
    },
    {
      "cell_type": "markdown",
      "metadata": {
        "id": "VYeuFRnIiql9",
        "colab_type": "text"
      },
      "source": [
        "![Picture from Wikipedia](https://upload.wikimedia.org/wikipedia/commons/thumb/4/41/Student_t_pdf.svg/650px-Student_t_pdf.svg.png)\n",
        "\n",
        "\n",
        "The t-distribution is \"normal-ish\" - the larger the parameter(which reflects its degrees of freedom - more input data/features will increase it), the closer to true normal. \n"
      ]
    },
    {
      "cell_type": "code",
      "metadata": {
        "id": "fRKbE4RPkYKi",
        "colab_type": "code",
        "colab": {
          "base_uri": "https://localhost:8080/",
          "height": 68
        },
        "outputId": "f6fba59e-9482-4b66-956a-eaa811bcdfca"
      },
      "source": [
        "t2 = stats.t(30)# Will be closer to normal\n",
        "print(t2.mean())\n",
        "print(t2.std())\n",
        "print(t2.var())"
      ],
      "execution_count": 5,
      "outputs": [
        {
          "output_type": "stream",
          "text": [
            "0.0\n",
            "1.0350983390135313\n",
            "1.0714285714285714\n"
          ],
          "name": "stdout"
        }
      ]
    },
    {
      "cell_type": "markdown",
      "metadata": {
        "id": "YkuLjJ8Tkmbr",
        "colab_type": "text"
      },
      "source": [
        "Why is it different from normal? To better reflect the tendencies of small data and situation with unkown population standard deviation. In other words, the normal distribution is still the nice pure ideal in the limit (thanks to the central limit theorem), but the t-distribution is much more useful in many real-world situations. \n",
        "\n",
        "History sidenote - this is \"Student\".\n",
        "\n",
        "![\"Student\"](https://upload.wikimedia.org/wikipedia/commons/thumb/4/42/William_Sealy_Gosset.jpg/340px-William_Sealy_Gosset.jpg)\n",
        "\n",
        "His real name is William Sealey Gosset, and he published under the pen name \"Student\" because he was not an academic. He was a brewer, working at Guinness and using trial and error to determine the best ways to yield barley. He's also proof that, even 100 years ago, you don't need official credentials to do real data science!\n",
        "\n"
      ]
    },
    {
      "cell_type": "markdown",
      "metadata": {
        "id": "WOXkk77hbeP5",
        "colab_type": "text"
      },
      "source": [
        "## What is Descriptive Statistics?\n",
        "\n",
        "<https://statistics.laerd.com/statistical-guides/descriptive-inferential-statistics.php>"
      ]
    },
    {
      "cell_type": "code",
      "metadata": {
        "id": "aGsGGy4Mb9IG",
        "colab_type": "code",
        "outputId": "e9e7586a-f6b6-46fe-a240-69fb2cec6b94",
        "colab": {
          "base_uri": "https://localhost:8080/",
          "height": 204
        }
      },
      "source": [
        "import pandas as pd\n",
        "df = pd.DataFrame({'a': [1,2,3,4,5], 'b': [2,4,6,8,10]})\n",
        "df.head()"
      ],
      "execution_count": 6,
      "outputs": [
        {
          "output_type": "execute_result",
          "data": {
            "text/html": [
              "<div>\n",
              "<style scoped>\n",
              "    .dataframe tbody tr th:only-of-type {\n",
              "        vertical-align: middle;\n",
              "    }\n",
              "\n",
              "    .dataframe tbody tr th {\n",
              "        vertical-align: top;\n",
              "    }\n",
              "\n",
              "    .dataframe thead th {\n",
              "        text-align: right;\n",
              "    }\n",
              "</style>\n",
              "<table border=\"1\" class=\"dataframe\">\n",
              "  <thead>\n",
              "    <tr style=\"text-align: right;\">\n",
              "      <th></th>\n",
              "      <th>a</th>\n",
              "      <th>b</th>\n",
              "    </tr>\n",
              "  </thead>\n",
              "  <tbody>\n",
              "    <tr>\n",
              "      <th>0</th>\n",
              "      <td>1</td>\n",
              "      <td>2</td>\n",
              "    </tr>\n",
              "    <tr>\n",
              "      <th>1</th>\n",
              "      <td>2</td>\n",
              "      <td>4</td>\n",
              "    </tr>\n",
              "    <tr>\n",
              "      <th>2</th>\n",
              "      <td>3</td>\n",
              "      <td>6</td>\n",
              "    </tr>\n",
              "    <tr>\n",
              "      <th>3</th>\n",
              "      <td>4</td>\n",
              "      <td>8</td>\n",
              "    </tr>\n",
              "    <tr>\n",
              "      <th>4</th>\n",
              "      <td>5</td>\n",
              "      <td>10</td>\n",
              "    </tr>\n",
              "  </tbody>\n",
              "</table>\n",
              "</div>"
            ],
            "text/plain": [
              "   a   b\n",
              "0  1   2\n",
              "1  2   4\n",
              "2  3   6\n",
              "3  4   8\n",
              "4  5  10"
            ]
          },
          "metadata": {
            "tags": []
          },
          "execution_count": 6
        }
      ]
    },
    {
      "cell_type": "code",
      "metadata": {
        "id": "K-73WFB5cI1_",
        "colab_type": "code",
        "colab": {
          "base_uri": "https://localhost:8080/",
          "height": 297
        },
        "outputId": "9fe60451-0018-4707-b9d3-ef7d8a55d4da"
      },
      "source": [
        "# How can we quickly look at some descriptive statistics of the above dataframe?\n",
        "df.describe()"
      ],
      "execution_count": 7,
      "outputs": [
        {
          "output_type": "execute_result",
          "data": {
            "text/html": [
              "<div>\n",
              "<style scoped>\n",
              "    .dataframe tbody tr th:only-of-type {\n",
              "        vertical-align: middle;\n",
              "    }\n",
              "\n",
              "    .dataframe tbody tr th {\n",
              "        vertical-align: top;\n",
              "    }\n",
              "\n",
              "    .dataframe thead th {\n",
              "        text-align: right;\n",
              "    }\n",
              "</style>\n",
              "<table border=\"1\" class=\"dataframe\">\n",
              "  <thead>\n",
              "    <tr style=\"text-align: right;\">\n",
              "      <th></th>\n",
              "      <th>a</th>\n",
              "      <th>b</th>\n",
              "    </tr>\n",
              "  </thead>\n",
              "  <tbody>\n",
              "    <tr>\n",
              "      <th>count</th>\n",
              "      <td>5.000000</td>\n",
              "      <td>5.000000</td>\n",
              "    </tr>\n",
              "    <tr>\n",
              "      <th>mean</th>\n",
              "      <td>3.000000</td>\n",
              "      <td>6.000000</td>\n",
              "    </tr>\n",
              "    <tr>\n",
              "      <th>std</th>\n",
              "      <td>1.581139</td>\n",
              "      <td>3.162278</td>\n",
              "    </tr>\n",
              "    <tr>\n",
              "      <th>min</th>\n",
              "      <td>1.000000</td>\n",
              "      <td>2.000000</td>\n",
              "    </tr>\n",
              "    <tr>\n",
              "      <th>25%</th>\n",
              "      <td>2.000000</td>\n",
              "      <td>4.000000</td>\n",
              "    </tr>\n",
              "    <tr>\n",
              "      <th>50%</th>\n",
              "      <td>3.000000</td>\n",
              "      <td>6.000000</td>\n",
              "    </tr>\n",
              "    <tr>\n",
              "      <th>75%</th>\n",
              "      <td>4.000000</td>\n",
              "      <td>8.000000</td>\n",
              "    </tr>\n",
              "    <tr>\n",
              "      <th>max</th>\n",
              "      <td>5.000000</td>\n",
              "      <td>10.000000</td>\n",
              "    </tr>\n",
              "  </tbody>\n",
              "</table>\n",
              "</div>"
            ],
            "text/plain": [
              "              a          b\n",
              "count  5.000000   5.000000\n",
              "mean   3.000000   6.000000\n",
              "std    1.581139   3.162278\n",
              "min    1.000000   2.000000\n",
              "25%    2.000000   4.000000\n",
              "50%    3.000000   6.000000\n",
              "75%    4.000000   8.000000\n",
              "max    5.000000  10.000000"
            ]
          },
          "metadata": {
            "tags": []
          },
          "execution_count": 7
        }
      ]
    },
    {
      "cell_type": "code",
      "metadata": {
        "id": "b-IBJM9vvbG4",
        "colab_type": "code",
        "colab": {
          "base_uri": "https://localhost:8080/",
          "height": 34
        },
        "outputId": "e8d69f1d-f6dd-4e40-c5b1-d4c68d3d93a3"
      },
      "source": [
        "df['a'].mean()"
      ],
      "execution_count": 8,
      "outputs": [
        {
          "output_type": "execute_result",
          "data": {
            "text/plain": [
              "3.0"
            ]
          },
          "metadata": {
            "tags": []
          },
          "execution_count": 8
        }
      ]
    },
    {
      "cell_type": "markdown",
      "metadata": {
        "id": "wtobOQescQU6",
        "colab_type": "text"
      },
      "source": [
        "## What is Inferential Statistics?\n",
        "\n",
        "<https://slideplayer.com/slide/5130463/16/images/2/Statistical+Inference.jpg>"
      ]
    },
    {
      "cell_type": "markdown",
      "metadata": {
        "id": "zsb1KMUSc2xe",
        "colab_type": "text"
      },
      "source": [
        "## Hypothesis Testing (T-Tests)"
      ]
    },
    {
      "cell_type": "markdown",
      "metadata": {
        "id": "cOnNrJembf5c",
        "colab_type": "text"
      },
      "source": [
        "\n",
        "\n",
        "Ever thought about how long it takes to make a pancake? Have you ever compared the tooking time of a pancake on each eye of your stove? Is the cooking time different between the different eyes? Now, we can run an experiment and collect a sample of 1,000 pancakes on one eye and another 800 pancakes on the other eye. Assumed we used the same pan, batter, and technique on both eyes. Our average cooking times were 180 (5 std) and 178.5 (4.25 std) seconds repsectively. Now, we can tell those numbers are not identicial, but how confident are we that those numbers are practically the same? How do we know the slight difference isn't caused by some external randomness?\n",
        "\n",
        "Yes, today's lesson will help you figure out how long to cook your pancakes (*theoretically*). Experimentation is up to you; otherwise, you have to accept my data as true. How are going to accomplish this? With probability, statistics, inference and maple syrup (optional). \n",
        "\n",
        "<img src=\"https://images.unsplash.com/photo-1541288097308-7b8e3f58c4c6?ixlib=rb-1.2.1&ixid=eyJhcHBfaWQiOjEyMDd9&auto=format&fit=crop&w=3300&q=80\" width=400>\n",
        "\n"
      ]
    },
    {
      "cell_type": "markdown",
      "metadata": {
        "id": "MOkBDGsWbMRc",
        "colab_type": "text"
      },
      "source": [
        "## Normal Distribution Revisited\n",
        "\n",
        "What is the Normal distribution: A probability distribution of a continuous real valued random-variable. The Normal distribution properties make it useful for the *Central Limit Theorm*, because if we assume a variable follows the normal distribution, we can make certain conclusions based on probabilities."
      ]
    },
    {
      "cell_type": "code",
      "metadata": {
        "id": "BYlq8EYKbMRd",
        "colab_type": "code",
        "colab": {}
      },
      "source": [
        "import numpy as np\n",
        "\n",
        "#Standard normal - standardized \n",
        "\n",
        "mu = 0 # mean\n",
        "sigma = 1 # standard deviation\n",
        "\n",
        "sample = np.random.normal(mu, sigma, 1000)"
      ],
      "execution_count": 0,
      "outputs": []
    },
    {
      "cell_type": "code",
      "metadata": {
        "id": "4qfzKhCJiknB",
        "colab_type": "code",
        "colab": {
          "base_uri": "https://localhost:8080/",
          "height": 1000
        },
        "outputId": "056f827a-4b0e-461a-958f-5e9e5903f0c3"
      },
      "source": [
        "sample"
      ],
      "execution_count": 15,
      "outputs": [
        {
          "output_type": "execute_result",
          "data": {
            "text/plain": [
              "array([-8.26720900e-01,  1.37174886e+00,  4.15976099e-02, -7.70966124e-01,\n",
              "       -1.22468079e-01,  7.51618008e-01,  5.82566151e-01, -9.47167651e-01,\n",
              "        1.52236332e+00, -2.69848158e-01,  2.22246436e-01,  2.83693986e-02,\n",
              "        7.71747453e-02,  2.49094176e-03,  1.71719095e+00, -2.30995253e+00,\n",
              "       -1.51063467e+00, -1.09354792e+00, -1.83858373e+00,  1.26810339e+00,\n",
              "       -1.49016731e-01, -1.80477093e+00,  4.64215732e-01, -2.74601352e-01,\n",
              "        2.30482107e-01,  3.87996281e-01, -9.96167267e-02, -4.92617555e-01,\n",
              "        1.47554824e-01,  9.47960074e-02, -6.39458788e-01, -7.88971046e-02,\n",
              "       -1.27526374e+00, -1.93227513e+00, -5.80958290e-01, -8.59247170e-01,\n",
              "        6.34918268e-01,  6.30992892e-01,  7.73399901e-01, -1.21115809e+00,\n",
              "        1.70514791e+00, -4.84204224e-01, -4.36632303e-01,  9.76398632e-01,\n",
              "       -7.85353510e-01, -1.81444787e+00,  1.61305421e+00, -7.06041299e-01,\n",
              "       -6.81189711e-01,  4.13158860e-01, -3.41793628e-01,  1.61949784e+00,\n",
              "        1.10907150e+00,  4.33818403e-01,  1.71694299e-01,  1.56974460e+00,\n",
              "       -1.36115220e+00, -1.11330655e+00,  2.23156829e+00, -1.45336578e+00,\n",
              "        5.86409840e-02, -1.48419386e-01, -1.21436068e+00,  4.59126628e-02,\n",
              "        5.80984025e-01,  6.89815409e-01, -2.35365854e-01, -6.28518002e-01,\n",
              "       -3.57205788e-03, -1.86706083e+00, -6.26007653e-01, -6.67526632e-01,\n",
              "        7.87982562e-01, -1.80312325e-01, -4.96529302e-01,  5.67401873e-01,\n",
              "       -1.97866220e+00, -5.29896732e-01, -2.18792145e-01,  1.66943412e-01,\n",
              "        7.21049393e-01, -6.83740399e-01,  4.79153681e-01,  2.01611037e+00,\n",
              "       -8.05543078e-01, -1.95266045e+00,  8.57138525e-01,  5.67580551e-01,\n",
              "        1.04473826e+00,  3.18909969e-01,  3.68413543e-01,  1.50646589e-01,\n",
              "        5.80329680e-01,  6.72515002e-01,  6.49329415e-01, -3.70314899e-01,\n",
              "        9.92313528e-01,  1.02802624e+00, -1.73695315e+00, -2.49962185e-01,\n",
              "       -2.68982501e-01, -2.66859248e-01, -1.11194069e+00,  7.98856712e-01,\n",
              "        3.49728921e-01,  4.25902731e-02, -2.48053962e-01,  1.72239343e-01,\n",
              "       -6.90120549e-01,  1.13543327e+00,  6.65677687e-01, -9.20825331e-02,\n",
              "        1.47069787e+00,  4.52706834e-01, -4.88256227e-01, -5.59454455e-01,\n",
              "       -5.47481192e-01,  1.18160262e+00,  2.82546839e+00,  6.91241652e-01,\n",
              "        5.38966045e-01,  5.55600414e-01, -6.16354945e-01,  7.55177060e-01,\n",
              "       -1.95070647e-01,  1.35451126e+00, -7.94209797e-01, -1.66465574e-01,\n",
              "       -1.25767017e+00, -3.86892817e-01,  1.76280257e+00, -8.00252906e-01,\n",
              "        9.16724572e-03, -6.72418570e-01, -9.87921018e-01,  7.06515712e-02,\n",
              "        2.27034224e+00,  5.78251989e-02, -6.21158620e-01, -8.22348549e-02,\n",
              "       -9.56441589e-01,  9.06156799e-01, -8.49169787e-01, -2.85505522e-01,\n",
              "        2.84291571e+00,  1.13031805e+00, -2.41535682e-01, -2.94060327e-01,\n",
              "       -5.25697918e-01, -5.44752832e-01,  7.89829179e-01,  2.19501044e+00,\n",
              "       -4.78725970e-01,  1.30373539e+00, -3.61543225e-01,  6.74849967e-01,\n",
              "       -1.97447080e+00,  1.37406616e+00,  1.77829224e-01, -5.99930700e-01,\n",
              "       -1.10179711e+00, -6.48370981e-01, -3.11269177e-01, -5.40404315e-01,\n",
              "       -1.39857454e+00, -1.01500995e+00, -1.47027262e-01,  1.07072471e+00,\n",
              "        4.97550757e-01,  1.17316981e-01,  5.14795953e-01, -8.60877811e-02,\n",
              "        2.57303034e-01,  4.99244122e-01, -9.17533334e-01,  2.93244051e-01,\n",
              "       -2.62018509e-01,  7.61279624e-03,  6.98048914e-01,  3.30497717e-01,\n",
              "        1.02117709e+00,  1.28409479e+00,  3.56797495e-01, -4.00250432e-01,\n",
              "       -1.98649362e+00, -1.40657994e+00, -5.74487428e-01,  5.04779498e-02,\n",
              "       -9.33055822e-02,  9.51571529e-02,  4.50523491e-01, -2.89793380e-01,\n",
              "        8.61339846e-01, -5.50380370e-02,  1.11886307e+00,  9.28680239e-01,\n",
              "       -6.21425643e-01, -3.12085328e-01, -1.28906461e+00,  3.84202302e-01,\n",
              "        7.66922295e-01,  2.15896895e-01, -8.50603988e-01, -1.10177901e-01,\n",
              "       -1.72130773e+00,  5.62803511e-01, -2.88330450e-01, -1.65967164e+00,\n",
              "        1.15793587e+00, -1.08829079e+00, -7.38835825e-01,  7.45193539e-01,\n",
              "        3.43112840e-01,  1.45772521e+00, -9.24027794e-01, -6.87850929e-01,\n",
              "       -1.09539220e-02,  6.88111523e-01,  1.62248258e+00,  4.27134423e-01,\n",
              "        1.60671954e+00, -2.53005864e-02, -8.90300241e-01,  3.13613136e-01,\n",
              "       -1.76291515e-02,  7.98929243e-01, -8.69625370e-01,  2.69091055e-01,\n",
              "       -7.01778282e-01, -1.48712523e+00,  1.31976617e+00,  2.09705438e-01,\n",
              "        1.95380231e+00, -4.58880479e-02, -1.00134797e+00,  1.58266761e+00,\n",
              "        7.20713755e-01, -1.26211534e+00, -7.52174390e-01, -1.53516432e+00,\n",
              "       -4.53178446e-01, -1.88871798e-01,  1.15172404e+00,  8.56002200e-01,\n",
              "       -9.25006262e-01, -9.50839062e-01,  1.28802468e+00, -5.63164926e-01,\n",
              "       -6.83813615e-01, -8.99402947e-01, -6.73849904e-01,  2.03813964e+00,\n",
              "       -2.04718358e-02,  4.48146265e-01,  2.67141908e-01,  4.66404135e-01,\n",
              "       -1.12577297e+00, -5.56671395e-01, -2.24917439e-02,  3.78513165e-01,\n",
              "       -1.30473587e-01,  1.06775869e-01,  1.53806410e+00, -1.02884286e-01,\n",
              "       -2.57070400e+00,  1.73558052e+00,  1.22875694e+00,  7.60593323e-01,\n",
              "        2.65255774e-01,  2.78254920e-01,  4.93926799e-01,  1.53385877e-01,\n",
              "        2.97158231e-01, -8.43267064e-01, -5.20689225e-03,  1.69634224e+00,\n",
              "       -1.70904858e+00,  1.93561516e+00, -1.80830072e+00, -3.12787895e-01,\n",
              "       -3.04202825e-01, -1.88755170e-01,  2.16976489e-01,  3.78682293e-02,\n",
              "        3.82810460e-01,  1.24819327e+00,  6.28349374e-01, -9.46789476e-01,\n",
              "        1.54863245e+00,  1.00593514e-01,  3.06221506e-01, -4.75603590e-01,\n",
              "       -1.02048445e+00, -4.05010283e-01,  7.66713643e-02,  8.04700391e-01,\n",
              "        5.18101709e-01, -3.70063451e-01,  1.73575937e+00, -7.26864464e-01,\n",
              "        6.40975605e-01, -1.09048913e+00,  2.70494171e-02,  1.23187765e+00,\n",
              "        1.17713895e+00,  2.36870372e-01, -6.42504631e-01,  1.15267231e+00,\n",
              "       -1.90149129e+00,  3.92273930e-01, -1.54888596e+00,  6.35568972e-04,\n",
              "        2.07210846e-01,  1.61505372e+00, -5.70272573e-01, -6.19331899e-01,\n",
              "        2.14383414e+00, -7.31498795e-01,  3.24063257e-01,  1.44311807e+00,\n",
              "       -7.15816832e-01, -9.88470101e-02, -1.76110712e+00, -3.20824920e-01,\n",
              "       -1.81939009e+00,  2.98312011e-01,  4.42260732e-01,  3.43750259e-01,\n",
              "       -2.01976946e-01,  8.22898526e-01, -9.59640717e-01, -3.06835766e-01,\n",
              "        6.71284156e-01, -2.27598556e+00, -4.44350109e-01,  1.22613399e+00,\n",
              "       -5.03800163e-01,  3.18050901e-01, -1.14763654e-01,  2.86704386e-01,\n",
              "       -6.03737713e-01, -8.16466356e-01,  6.87132314e-01,  4.83718749e-01,\n",
              "       -2.03469137e+00,  5.62599367e-01, -4.10071725e-01, -2.38163169e-01,\n",
              "        1.51238756e+00,  1.00400261e-01,  1.25287085e+00,  9.83822310e-02,\n",
              "        1.38997907e+00, -1.01595348e+00,  6.46434648e-01, -6.64330910e-01,\n",
              "       -1.55044309e-01,  7.01270470e-01,  1.01182822e+00,  6.21555719e-01,\n",
              "       -1.40316568e+00, -2.13568738e-01, -2.51703767e+00,  8.71046698e-01,\n",
              "       -2.91754114e-01, -2.23697618e-03, -3.41415171e-01,  4.14819525e-01,\n",
              "       -1.35269692e-01, -4.67596075e-01, -7.36986576e-02,  8.92367172e-01,\n",
              "       -1.32736193e+00, -1.30094769e+00, -3.51354396e-01,  2.46830497e+00,\n",
              "       -1.03064881e-01, -3.01925228e-01, -1.14153854e+00, -2.42515361e-01,\n",
              "        3.82597446e-01, -8.73433184e-01,  7.96548553e-01, -5.25984101e-01,\n",
              "       -6.81065570e-01,  9.05058967e-01,  1.82811618e-01, -2.87357542e-01,\n",
              "       -4.55098514e-01,  6.38328487e-01,  6.33578660e-01,  9.96449880e-01,\n",
              "        8.28371121e-01,  1.63694495e+00, -1.28927114e+00,  3.23504668e-01,\n",
              "       -3.40501474e-01, -3.87462786e-01,  6.25240405e-01, -2.33045543e+00,\n",
              "       -8.88802700e-01, -3.96947844e-01, -1.57574257e+00, -7.76473378e-01,\n",
              "       -3.72975192e-02, -1.47856116e+00, -1.16175966e+00,  3.45723749e-01,\n",
              "        9.31819724e-01, -3.80944807e-01,  8.61891042e-01, -8.12456453e-01,\n",
              "       -5.90538005e-01, -1.27874498e-01,  4.11570024e-01, -2.19263391e-01,\n",
              "       -2.08790129e+00, -1.80273709e-01, -1.75769937e-01,  9.12362555e-02,\n",
              "        9.29664456e-02, -1.56723222e+00, -6.12039248e-01,  4.61439740e-01,\n",
              "       -5.74895828e-02, -1.91405873e-01,  1.39968989e+00,  2.52219585e+00,\n",
              "       -2.76724689e-01,  6.59149121e-01, -5.91325870e-02, -3.73323379e-01,\n",
              "       -7.43962927e-02, -3.62714017e-01, -2.99185742e-01, -6.31818167e-01,\n",
              "        3.90787336e-01,  4.79236304e-01,  5.81009103e-01, -3.77902586e-01,\n",
              "        6.08941354e-01, -9.65727592e-01, -4.34858237e-01,  1.22407862e+00,\n",
              "       -1.65100230e+00,  2.22665588e-01, -2.69354276e-01,  6.85822405e-01,\n",
              "        6.76668011e-01, -4.87976730e-01, -7.45272235e-01, -5.20395514e-01,\n",
              "       -7.17476748e-01, -4.37952611e-02, -4.07010750e-02,  8.75920498e-01,\n",
              "        1.26268635e+00,  6.94135719e-01, -6.70143008e-01, -8.42972729e-01,\n",
              "       -6.49136104e-01,  4.74139680e-01,  9.50283883e-02,  3.84483697e-01,\n",
              "       -1.20811508e+00,  4.59890430e-02, -6.20747914e-01,  2.20313391e+00,\n",
              "       -1.57993251e+00, -5.77863684e-01,  4.40886911e-01,  1.00199344e+00,\n",
              "       -1.04640450e-01, -1.35935794e+00,  2.02287067e+00, -1.42876772e+00,\n",
              "       -1.17145752e-01, -4.86731411e-02,  1.14557375e+00,  1.44514529e+00,\n",
              "        1.46431665e+00,  8.24973869e-01,  5.26944927e-01, -2.97539220e-01,\n",
              "       -1.24743063e+00, -1.18108220e-01, -6.79364504e-02,  1.69986022e+00,\n",
              "       -4.09899698e-01, -7.93752147e-01, -4.53328130e-01, -9.44046003e-02,\n",
              "        1.47033489e+00,  7.01366042e-01, -1.16702042e+00, -2.99220675e-01,\n",
              "        1.54382698e+00,  9.30752337e-01,  6.25465338e-01, -1.47197025e+00,\n",
              "       -1.16681007e+00, -3.33918407e-01, -7.15593120e-01,  7.92054902e-01,\n",
              "       -3.55198653e-01, -9.70658438e-01,  1.52062075e+00,  2.01873718e-01,\n",
              "       -1.56083701e+00, -6.62893642e-01, -1.54379902e+00, -4.43853273e-02,\n",
              "       -3.29618189e-01,  6.16893945e-01, -1.09168249e+00, -1.02844586e-02,\n",
              "       -1.57954021e-01, -3.76732215e-01, -2.65405041e-01,  5.66356000e-01,\n",
              "       -2.00914994e+00,  7.37267790e-01,  1.18724617e+00,  1.12202198e-01,\n",
              "        3.67319106e-01,  7.05898367e-01, -1.06453136e+00, -4.15361216e-01,\n",
              "        7.56698167e-01,  2.06813813e-01, -4.06967736e-01,  2.88401082e-01,\n",
              "       -6.73293339e-01,  1.70712995e+00, -1.66634006e+00, -1.30776253e+00,\n",
              "       -4.91445813e-01,  5.72624649e-01, -6.33902865e-02,  1.64383248e+00,\n",
              "        6.61403839e-01, -4.18838183e-01, -1.24571417e-01,  3.81975592e-01,\n",
              "       -2.49836395e-01,  8.67195861e-03,  1.73323270e+00,  1.47708176e+00,\n",
              "        4.66659627e-01, -2.41414353e-01, -1.35538184e-01, -7.53712609e-01,\n",
              "       -1.38118689e-01, -2.45660633e-02,  3.39919269e-01, -1.32701168e+00,\n",
              "        4.69470157e-01,  1.60748980e+00, -4.81646738e-01,  4.25072750e-01,\n",
              "        7.78356902e-01,  5.48627098e-01,  3.79150036e-01, -1.12411704e+00,\n",
              "       -7.70423819e-01,  1.21082551e+00, -8.32039744e-01,  1.16360734e+00,\n",
              "        2.77044786e-01,  1.04957478e+00,  3.57657937e-02,  1.76422004e-01,\n",
              "        2.25729626e-01, -3.37972415e-01, -9.55605508e-01, -1.95127938e-01,\n",
              "       -6.14957322e-01, -1.14392385e+00, -4.29433927e-01,  5.18128169e-01,\n",
              "        1.21151874e+00, -1.55022697e-01, -8.16606312e-01, -1.18192746e+00,\n",
              "        8.83375489e-01, -8.31253786e-01,  3.74696761e-01,  1.09964352e+00,\n",
              "        5.36050360e-01,  3.23540004e-01,  1.19446395e-01,  3.98627204e-01,\n",
              "        5.89849861e-01, -1.38080037e+00,  9.15030073e-01, -4.89547522e-01,\n",
              "       -5.78707076e-01,  2.10169177e+00,  2.42695443e-01, -3.79249538e-01,\n",
              "       -1.11457853e+00, -1.16737730e+00,  1.46117250e+00, -8.60292473e-01,\n",
              "       -7.24227109e-01, -9.41396029e-02, -3.30752221e-01,  1.12703718e+00,\n",
              "       -6.59780602e-01, -1.22052019e+00, -4.75269247e-01,  7.60811236e-01,\n",
              "        8.11010417e-01,  3.37471314e-01, -6.90654711e-01, -1.64250636e+00,\n",
              "       -5.89981069e-01, -1.46251686e+00,  1.43653851e+00, -5.12516538e-01,\n",
              "       -1.23575771e+00,  1.36071055e+00, -9.42478732e-01,  2.52993173e-01,\n",
              "        2.24712191e-02,  1.55385232e+00, -1.71573811e+00, -6.95746059e-01,\n",
              "       -8.10416081e-01, -4.55971597e-01, -3.30278878e-02, -5.10206489e-01,\n",
              "        3.31206389e-01,  1.35045245e+00, -1.28355882e+00, -5.55186361e-01,\n",
              "       -5.96186347e-01,  1.00406412e+00,  8.77290525e-01, -1.06783482e+00,\n",
              "        6.23456069e-01,  1.23547927e+00, -5.89197753e-01, -8.98703458e-01,\n",
              "       -3.40956950e-01, -1.25964892e-01,  4.15332576e-01, -9.80771708e-01,\n",
              "       -1.48360522e+00,  9.54418355e-01,  4.09921047e-01, -8.54208183e-01,\n",
              "       -7.95648941e-01, -5.37877904e-01,  4.52993863e-01,  1.13900878e+00,\n",
              "       -4.18202909e-02,  4.34840879e-01, -1.54407260e+00,  2.67429193e-01,\n",
              "        2.37138612e-01, -9.89058563e-01, -1.27627092e+00, -2.50168386e-02,\n",
              "       -1.28206378e+00,  1.14399493e+00, -9.48849121e-01,  1.32628566e+00,\n",
              "       -6.60645589e-01, -5.68906764e-03, -5.06267169e-01, -6.95482277e-01,\n",
              "       -5.44311574e-01,  4.09261732e-02, -5.96446254e-01, -1.85523027e+00,\n",
              "        1.33719343e+00,  3.94663691e-01, -3.80083234e-02, -8.15362631e-01,\n",
              "       -1.23918077e+00, -5.06363937e-01, -5.40708631e-01, -2.65984047e-01,\n",
              "       -3.89407802e-01, -1.03904615e+00,  8.58158772e-02,  5.33782984e-01,\n",
              "       -1.03021454e+00,  1.49307997e+00, -1.48281102e+00, -1.84710601e+00,\n",
              "       -4.07556262e-01,  1.25975122e+00, -1.60712493e+00, -6.01927596e-01,\n",
              "        1.29748899e+00,  1.60485109e+00,  9.13181218e-01, -7.96519830e-03,\n",
              "       -1.02862785e+00, -6.80876771e-01, -7.94913865e-02, -1.25916250e+00,\n",
              "        8.73048595e-01,  1.60741201e+00,  5.17315978e-01,  1.21438831e+00,\n",
              "       -8.01171383e-01,  3.20306919e-01,  5.21903686e-02, -2.06281833e-01,\n",
              "       -2.27577449e+00, -7.63090290e-01, -8.62951440e-01, -6.12415264e-01,\n",
              "        1.64769629e-01,  1.13956944e+00, -2.47389705e-01, -1.03791073e+00,\n",
              "        1.81900146e+00,  1.72092099e+00,  1.08548208e+00, -1.30980348e+00,\n",
              "       -1.76964042e-01,  5.75094666e-01,  6.37468191e-02,  8.86986597e-01,\n",
              "        2.83819250e-01, -6.32967267e-01,  8.97635505e-01,  6.66530375e-01,\n",
              "        1.02058130e-01, -7.63550806e-01, -1.07609757e+00,  2.47847775e-02,\n",
              "       -8.27328158e-01, -1.36192985e+00, -8.42182017e-01,  5.08228226e-01,\n",
              "        2.16291338e+00,  3.19305461e-01, -1.12244545e-01,  2.07480002e+00,\n",
              "        1.68962360e+00, -8.78079666e-01,  9.24748856e-01, -3.14719834e-01,\n",
              "       -6.30168617e-01,  8.61510498e-01,  8.37780188e-01,  1.32696806e+00,\n",
              "       -1.20344132e+00, -2.50157676e-01, -4.21302044e-01,  1.08374958e+00,\n",
              "        8.15898297e-01, -4.98971934e-01, -1.42041792e-01,  1.54132835e+00,\n",
              "       -7.07296696e-01, -1.08542700e+00,  6.81200490e-02,  3.16120347e-01,\n",
              "       -1.41822063e+00,  9.92613661e-02, -3.36903464e-01,  1.73436080e+00,\n",
              "       -4.96963903e-01,  1.08268029e+00, -1.18586739e+00,  7.37540786e-02,\n",
              "       -2.81926473e-01,  1.38233950e+00,  1.10861071e+00, -3.62358628e-01,\n",
              "        3.56463248e-01,  3.04705326e-01, -1.16479173e+00, -4.14364720e-01,\n",
              "        9.08430884e-01, -7.92619823e-01, -5.54513549e-01,  3.98753626e-01,\n",
              "        2.28226042e-01, -1.56418342e+00, -8.44597435e-01, -1.31233978e+00,\n",
              "        9.01875702e-01,  1.10199025e+00,  1.32152314e+00,  5.53391532e-01,\n",
              "        9.52508438e-01,  9.81541826e-01, -1.05774333e+00,  2.18821779e-01,\n",
              "       -1.06815443e+00, -9.02644289e-01,  6.60643477e-01, -1.39189620e+00,\n",
              "       -8.01352444e-01, -1.00373666e+00, -4.71037295e-01,  8.22027343e-01,\n",
              "       -1.47677575e+00,  1.47823501e+00,  2.25623428e-01, -1.96288284e+00,\n",
              "       -4.70332684e-01, -8.82423418e-01,  8.54514971e-01, -9.02513173e-01,\n",
              "       -1.63675492e+00,  9.04186451e-01, -1.10731072e+00,  1.10636703e+00,\n",
              "       -9.34358523e-01,  8.14073348e-01,  3.40488569e-01, -9.02726441e-02,\n",
              "        3.11855521e-01,  9.99248325e-01, -2.25209377e+00,  4.38025035e-01,\n",
              "        1.49256939e+00, -3.69227195e-01, -3.41800173e+00,  2.05742158e-01,\n",
              "       -4.35091915e-01,  2.03518927e+00, -4.62279290e-01,  6.20965763e-01,\n",
              "        7.47018132e-01, -9.68490393e-01, -1.23220873e+00,  2.53209644e-01,\n",
              "       -2.19105173e+00, -3.74657375e-01, -8.96445085e-01,  1.00958873e+00,\n",
              "        7.95283943e-01,  1.96316684e+00, -3.96316888e-01,  1.60549619e+00,\n",
              "        1.99325279e+00, -2.78917894e-01, -1.68288202e+00,  1.81785245e-01,\n",
              "        6.96979995e-01,  4.15153750e-01, -1.43117329e-01, -3.93832767e-01,\n",
              "        5.67441373e-01,  1.09192058e+00,  8.89999028e-01,  2.34629551e-01,\n",
              "       -7.83460976e-01, -2.08131343e-01, -2.13593925e+00,  1.27016712e+00,\n",
              "        5.74256855e-01,  2.62616043e-02, -1.28166725e+00, -1.36299020e+00,\n",
              "        6.63812787e-01,  7.52272073e-01,  3.30705989e-01,  7.09603337e-01,\n",
              "       -8.06196745e-01,  3.78681892e-01,  5.93141688e-01, -1.22161179e+00,\n",
              "        1.48400702e+00, -4.40046823e-01, -4.58351772e-01, -2.49833602e-01,\n",
              "       -4.78115884e-01,  1.14423795e+00,  5.50227128e-01, -6.77522631e-02,\n",
              "        3.08130354e-01, -3.94941874e-01, -1.42406663e+00,  7.26888307e-01,\n",
              "       -3.57223900e-01,  2.73613287e-01, -9.89424236e-01, -5.03285581e-01,\n",
              "       -1.22329034e+00,  1.65899436e+00, -1.33590085e-01,  3.55578202e-01,\n",
              "       -6.39022103e-01,  2.57821173e-01,  3.49594882e-01,  3.95837009e-02,\n",
              "       -5.67255947e-01,  1.13109302e+00, -1.07147969e+00,  6.86765578e-01,\n",
              "       -5.25578123e-01, -1.15338923e-01,  1.02144012e+00, -2.60964030e-01,\n",
              "        9.28209668e-01, -7.99372446e-01,  2.18803368e-01, -1.55567577e-01,\n",
              "        8.17625939e-01,  3.75138768e-01,  1.78658553e+00,  2.55301445e-01,\n",
              "        2.69904004e-01,  1.03438883e-01, -1.19913075e+00,  1.27049092e+00,\n",
              "       -3.72995476e-01,  2.39833241e-01,  1.16704111e+00, -2.18111519e+00,\n",
              "        1.48999651e-01,  9.11713164e-01,  1.36440449e+00,  1.18746863e+00,\n",
              "       -2.53342674e+00,  1.42869342e+00,  6.89525442e-01,  1.42479201e+00,\n",
              "       -1.61145184e+00,  4.55383629e-01, -3.51636925e-01, -7.10364322e-01,\n",
              "        2.01840364e+00, -4.31731513e-01,  7.10580563e-01,  1.49875135e+00,\n",
              "       -1.09080702e+00, -3.80185521e-01,  1.32065759e+00,  1.63016023e+00,\n",
              "        2.83774490e-01,  2.15081971e-01,  3.19955400e-01,  1.60488412e+00,\n",
              "       -3.55448783e-01,  1.19397545e+00, -7.45589175e-01,  2.62586663e-01,\n",
              "        3.55527763e-01,  3.01669426e-01,  3.94944862e-01,  3.39796185e-02,\n",
              "       -1.78905363e+00, -5.96419815e-01,  3.53720007e-01, -1.20369041e+00,\n",
              "        1.92655069e+00, -2.80255380e-02, -7.61146549e-01,  1.05523402e+00,\n",
              "        9.10168806e-01,  7.35646109e-01, -1.25475104e-01, -5.88596648e-01,\n",
              "        1.31438227e-01,  1.42373070e-01,  2.21407025e-01, -1.62268273e-01,\n",
              "        9.26313670e-01, -9.86065156e-01, -1.29174983e+00, -1.84806769e-03,\n",
              "        6.02888806e-01, -1.52078131e+00,  5.92274364e-01,  4.25435264e-01,\n",
              "       -8.48983703e-02,  7.74665241e-02,  8.82935217e-01, -1.02241063e+00,\n",
              "       -1.63265232e+00, -9.51470740e-01, -1.02266533e-01,  9.77604950e-01,\n",
              "        9.49583421e-01, -1.20018683e+00,  2.44890286e+00, -9.67325714e-01,\n",
              "        6.35315120e-02, -1.67999583e+00,  1.53701857e+00, -7.80447713e-01,\n",
              "       -7.84552067e-02, -5.81671527e-01, -1.20187989e+00, -5.77310267e-01,\n",
              "       -4.07408852e-01,  2.52933092e-01,  3.81984432e-01,  4.23985799e-01])"
            ]
          },
          "metadata": {
            "tags": []
          },
          "execution_count": 15
        }
      ]
    },
    {
      "cell_type": "code",
      "metadata": {
        "id": "uLl-P1EYiUia",
        "colab_type": "code",
        "colab": {
          "base_uri": "https://localhost:8080/",
          "height": 34
        },
        "outputId": "751706a0-b375-42de-e173-5e246aadafc2"
      },
      "source": [
        "min(sample), max(sample)"
      ],
      "execution_count": 14,
      "outputs": [
        {
          "output_type": "execute_result",
          "data": {
            "text/plain": [
              "(-3.418001731235242, 2.842915710923416)"
            ]
          },
          "metadata": {
            "tags": []
          },
          "execution_count": 14
        }
      ]
    },
    {
      "cell_type": "code",
      "metadata": {
        "id": "X3PscBOpi1zr",
        "colab_type": "code",
        "colab": {
          "base_uri": "https://localhost:8080/",
          "height": 1000
        },
        "outputId": "51b4fa2e-f21c-4213-c4eb-ff666673233d"
      },
      "source": [
        "nonstandard_normal = np.random.normal(27, 5, 1000)\n",
        "nonstandard_normal"
      ],
      "execution_count": 17,
      "outputs": [
        {
          "output_type": "execute_result",
          "data": {
            "text/plain": [
              "array([33.34384549, 28.65229354, 30.87785718, 29.53973484, 26.28631664,\n",
              "       20.87369803, 26.94722422, 27.21340979, 28.8190076 , 25.20000479,\n",
              "       25.76462272, 26.95805168, 26.18496392, 25.38363568, 23.52177933,\n",
              "       26.38860729, 35.53031208, 26.64283308, 33.78486807, 22.55016318,\n",
              "       30.20845535, 29.77706425, 23.83132965, 29.10545179, 32.33225475,\n",
              "       30.68697573, 31.9667101 , 13.26093485, 22.11365617, 21.60585047,\n",
              "       29.98089969, 31.81516621, 19.7896205 , 32.37977886, 26.07462645,\n",
              "       32.77485449, 32.19431978, 27.19735986, 29.63849728, 21.22648452,\n",
              "       26.53923568, 34.36060747, 20.51754094, 36.1429433 , 31.39130414,\n",
              "       27.31380156, 32.56848445, 23.74819436, 34.00345827, 22.19350779,\n",
              "       15.99622134, 26.6854465 , 25.65518165, 17.75178165, 26.23666019,\n",
              "       14.64234758, 26.56465384, 28.2806994 , 29.91620313, 34.69358239,\n",
              "       28.93656972, 20.76854978, 22.43646178, 25.31530957, 35.81103606,\n",
              "       23.63932995, 29.47731527, 34.81246727, 16.8380014 , 31.1272287 ,\n",
              "       31.14454778, 18.27973938, 22.02020498, 21.9114975 , 26.58330195,\n",
              "       36.36171876, 30.90605595, 21.83207556, 28.56077861, 24.61725868,\n",
              "       21.2059351 , 32.43534077, 27.65437312, 17.57044969, 27.64353138,\n",
              "       23.12978775, 30.27099459, 25.26020846, 30.4983598 , 26.80663022,\n",
              "       23.49937682, 21.99691541, 29.08105752, 28.84263181, 23.67434456,\n",
              "       33.60135834, 25.40812826, 25.72587196, 22.80241767, 23.46354771,\n",
              "       31.42561297, 35.92458496, 24.94500664, 21.21982616, 21.75363263,\n",
              "       34.5790796 , 28.13790324, 34.91770682, 35.12410175, 23.03615668,\n",
              "       25.22776702, 14.7585066 , 28.20155896, 16.51802902, 19.64939184,\n",
              "       26.85906675, 28.90040555, 32.95910712, 19.72594956, 24.3375093 ,\n",
              "       29.06300032, 29.65326527, 24.32532779, 30.26160184, 34.93642428,\n",
              "       24.81862199, 37.20617853, 19.55468458, 19.49825393, 29.27583634,\n",
              "       29.00683949, 31.25498041, 32.467393  , 28.59105795, 22.16142145,\n",
              "       30.38574105, 21.65867993, 20.20985938, 16.07623404, 26.1891354 ,\n",
              "       32.86257211, 25.13196151, 23.94964278, 27.8398676 , 25.12960216,\n",
              "       27.33490102, 31.65099456, 28.89058327, 28.42108798, 20.99651493,\n",
              "       25.06578464, 20.69391964, 29.31285108, 27.02080286, 21.32290197,\n",
              "       21.97186515, 33.9480983 , 30.82398736, 29.81614027, 25.75572296,\n",
              "       29.94951454, 18.03931493, 20.37063732, 30.1468791 , 27.4186234 ,\n",
              "       23.93204312, 18.75482785, 32.29082974, 31.22340274, 29.79361068,\n",
              "       20.6187418 , 21.4210144 , 23.85768636, 22.33201695, 29.97789377,\n",
              "       25.47774222, 32.3953302 , 29.36987319, 24.08703405, 25.01540895,\n",
              "       14.6857301 , 22.55358458, 34.52590762, 24.80896431, 24.64953943,\n",
              "       25.30428724, 30.08558663, 29.17562937, 27.62865315, 31.71283318,\n",
              "       35.80926368, 27.65591752, 24.23284545, 29.45299005, 27.64008546,\n",
              "       24.07030192, 20.36118378, 17.52705132, 21.07430854, 36.39108874,\n",
              "       22.86065003, 23.93654864, 23.04593752, 24.24419326, 21.97441293,\n",
              "       31.33626135, 23.28404017, 26.06974371, 24.62998291, 25.8942978 ,\n",
              "       17.0501121 , 35.08295617, 18.42610347, 27.79448963, 29.18022501,\n",
              "       34.71343851, 33.38887375, 35.58609652, 23.99680944, 37.27557385,\n",
              "       21.27140379, 25.39297833, 28.87331348, 18.41708832, 36.1272744 ,\n",
              "       23.81625885, 23.89163205, 27.86450992, 29.651793  , 26.09003817,\n",
              "       28.31143064, 25.71370859, 20.86281971, 25.15349549, 25.05348957,\n",
              "       22.50402074, 25.36776194, 31.98952824, 22.01744486, 29.00089273,\n",
              "       26.5737657 , 30.9592565 , 12.61710363, 38.17958041, 33.99375775,\n",
              "       26.8596331 , 22.44224871, 27.57680066, 25.1296486 , 25.48098609,\n",
              "       24.57971294, 25.04241225, 21.20592666, 40.44950648, 29.30213896,\n",
              "       36.55221067, 22.21109948, 27.30830218, 32.58677571, 27.65759149,\n",
              "       27.7002128 , 19.22153833, 21.7681795 , 24.06015868, 26.20061547,\n",
              "       35.34791611, 28.98286307, 27.61767654, 26.56308741, 24.25658433,\n",
              "       20.81358281, 32.19893767, 37.30790203, 18.7124567 , 23.40141198,\n",
              "       24.92267592, 30.85373583, 23.64176063, 36.78673247, 34.30832676,\n",
              "       26.74518342, 29.31368326, 26.30132144, 31.00948562, 25.47997548,\n",
              "       30.02122583, 24.0134714 , 20.60508256, 29.07510813, 28.70464274,\n",
              "       23.86677301, 22.91678926, 28.79633032, 24.70181097, 30.09247468,\n",
              "       26.05952998, 35.12494037, 24.13969754, 24.50413083, 23.28141824,\n",
              "       27.02433972, 30.67259402, 28.148261  , 17.16978188, 21.79518785,\n",
              "       22.81295442, 22.18079087, 27.21418145, 31.04199432, 29.35277896,\n",
              "       25.38994262, 27.01165768, 49.17042994, 26.12202336, 24.75669722,\n",
              "       23.41763531, 28.44229046, 23.58724594, 26.22752911, 28.49263722,\n",
              "       35.02382844, 21.85729558, 27.53658371, 25.15042468, 31.45096738,\n",
              "       31.4985686 , 31.08965547, 23.12439428, 27.62661815, 29.48935409,\n",
              "       32.14860096, 30.63466554, 24.56519712, 17.99854009, 31.60041633,\n",
              "       28.28750999, 27.15849369, 20.76241129, 31.08565633, 22.27786128,\n",
              "       26.30737596, 27.66167437, 21.38725773, 28.8127762 , 35.28381945,\n",
              "       23.23777882, 31.1238118 , 27.5945961 , 23.07437012, 21.22279638,\n",
              "       23.12266225, 22.33520282, 27.30934855, 25.78305578, 11.84881951,\n",
              "       26.33811509, 30.48860791, 20.87024536, 26.33654964, 19.72040513,\n",
              "       29.51153384, 22.07871963, 30.80309668, 35.6251595 , 27.49651094,\n",
              "       22.37966512, 30.86425648, 30.39090123, 29.59258293, 19.57960382,\n",
              "       21.41622607, 32.01047893, 24.75036548, 22.26894281, 31.62320241,\n",
              "       31.63495972, 34.3742623 , 27.79536109, 13.13459413, 20.40555217,\n",
              "       30.76186198, 29.2220772 , 27.96081929, 28.72919496, 23.43566836,\n",
              "       28.69038383, 28.7477633 , 21.22266902, 33.27248522, 29.7882189 ,\n",
              "       26.40461047, 24.28376097, 28.23298147, 28.52282355, 28.02724397,\n",
              "       25.22587242, 39.49334374, 23.44299889, 19.23877423, 25.4665704 ,\n",
              "       27.41700389, 30.41373129, 23.52304985, 29.01595511, 25.06767092,\n",
              "       26.7725207 , 28.62920355, 29.0615683 , 24.94250896, 22.99393883,\n",
              "       30.58282252, 21.80930996, 26.13600039, 33.74638203, 27.7421404 ,\n",
              "       17.55751086, 22.93779269, 22.51726337, 29.57948464, 35.50078135,\n",
              "       20.5012793 , 21.50739755, 25.79781733, 38.01009222, 25.97187168,\n",
              "       20.70392823, 22.53004703, 24.12248051, 25.61606633, 25.62023653,\n",
              "       29.60488048, 26.26846983, 20.43070045, 26.02044238, 30.04765722,\n",
              "       20.7223748 , 26.16207506, 30.25226966, 29.11868703, 29.3993406 ,\n",
              "       29.23591554, 28.81442904, 32.73747787, 28.99781249, 23.1497284 ,\n",
              "       22.65148103, 30.54743652, 18.01882881, 21.24504591, 33.72577178,\n",
              "       23.29440534, 26.34924549, 28.48786438, 17.43255146, 24.26162233,\n",
              "       28.55605457, 32.83270936, 31.27575752, 22.27079428, 22.9031955 ,\n",
              "       25.31686045, 29.25773424, 24.41392519, 29.12823959, 30.80412906,\n",
              "       26.64473865, 23.33136293, 28.77463782, 18.11525751, 23.10125078,\n",
              "       19.60025855, 21.85146454, 24.58343764, 25.46007521, 26.83844552,\n",
              "       25.63182676, 25.10980033, 33.40975769, 22.8140746 , 27.85576731,\n",
              "       26.51664294, 19.64193134, 28.0949736 , 25.51861161, 24.35804975,\n",
              "       28.73375406, 32.54061987, 36.71354867, 30.14870333, 26.63434312,\n",
              "       24.78448542, 24.85083059, 39.24519168, 34.08188471, 27.4948347 ,\n",
              "       28.22603328, 25.73898784, 32.77095383, 24.31943039, 23.09102615,\n",
              "       20.69457315, 33.4055193 , 27.38560093, 23.42902866, 35.67579601,\n",
              "       29.90933374, 29.68226371, 34.07092691, 22.27972832, 37.62173311,\n",
              "       30.68410153, 26.25690868, 26.99350958, 24.37404093, 19.70674779,\n",
              "       24.75632851, 25.32356549, 28.56200781, 27.73686901, 26.3000972 ,\n",
              "       29.39915534, 24.35034876, 22.26574906, 26.512173  , 24.09923266,\n",
              "       19.41762241, 25.79661354, 34.1000683 , 23.92638696, 29.38967494,\n",
              "       28.2258163 , 26.63226199, 28.16685308, 25.47998723, 29.35270514,\n",
              "       27.89496884, 28.36305212, 15.50742227, 15.76890691, 28.97046517,\n",
              "       16.72396495, 20.33807423, 31.2065531 , 20.89214631, 32.02127711,\n",
              "       39.38876502, 28.02939202, 27.68432988, 34.50743737, 31.92633317,\n",
              "       27.72532305, 24.58073536, 23.31135638, 35.26101746, 31.54920816,\n",
              "       30.65198694, 38.04432457, 22.46693985, 20.90621545, 27.2920039 ,\n",
              "       25.7802432 , 30.66363083, 22.9726343 , 25.77190797, 20.26264414,\n",
              "       27.6242668 , 22.1254639 , 26.90351431, 26.08821229, 31.58926193,\n",
              "       29.87051951, 14.3008276 , 25.73528131, 21.73090161, 28.82001857,\n",
              "       35.03663983, 29.2918307 , 26.99831291, 28.9961704 , 28.75063295,\n",
              "       32.86256692, 25.1032987 , 37.52891069, 28.66868846, 19.53898691,\n",
              "       35.30957406, 23.27270311, 20.75953944, 23.38935661, 28.60328274,\n",
              "       34.0839739 , 20.71945064, 24.33077206, 26.82415549, 18.60140285,\n",
              "       21.18500988, 40.21640764, 34.54895981, 17.17777929, 24.97971614,\n",
              "       28.71517053, 27.09411653, 30.52071149, 29.99532642, 21.39847495,\n",
              "       23.83925121, 25.87364403, 22.77970682, 23.5438309 , 26.17016769,\n",
              "       18.82548097, 24.46148024, 32.88855466, 36.50629798, 39.17895091,\n",
              "       22.25979773, 29.99732773, 22.54201278, 31.70990475, 33.39581593,\n",
              "       29.77716512, 20.09612491, 26.64956777, 24.38002632, 32.97472051,\n",
              "       31.9505659 , 28.43256269, 26.27377937, 22.79867992, 27.27418701,\n",
              "       29.1401539 , 32.68317977, 36.35219249, 22.05149678, 25.5893182 ,\n",
              "       36.08073139, 20.43298356, 31.23856793, 17.49693592, 22.00809132,\n",
              "       25.10383445, 34.91265563, 23.40973461, 32.53160159, 28.11056266,\n",
              "       25.0472435 , 22.85375319, 27.78376769, 28.71350317, 28.16056868,\n",
              "       27.86516263, 31.0333143 , 22.17785213, 23.52724175, 27.80873955,\n",
              "       29.77449261, 32.93658312, 22.94907955, 28.85348198, 27.51041367,\n",
              "       30.04276326, 28.77495957, 33.98084706, 28.52774409, 18.82306552,\n",
              "       26.14891834, 29.45385741, 27.82245131, 31.72519756, 31.44919283,\n",
              "       34.97974734, 26.49103961, 27.46241865, 30.52713616, 27.68876734,\n",
              "       26.17301764, 28.1547619 , 22.693729  , 23.75458163, 31.52998043,\n",
              "       24.2879991 , 23.93775149, 26.32672698, 20.41715966, 28.47350545,\n",
              "       23.86375731, 21.29599131, 31.00436499, 29.24112123, 26.36132214,\n",
              "       13.74937779, 29.68114049, 21.674944  , 29.95102735, 27.0375968 ,\n",
              "       23.96784831, 24.92141159, 40.0377231 , 32.11611933, 28.75980154,\n",
              "       33.56501947, 27.73838256, 27.88878304, 28.28882507, 34.49199055,\n",
              "       32.15912531, 24.79340905, 25.56378084, 42.89080421, 26.32884478,\n",
              "       35.58213183, 22.96895392, 26.51949885, 28.68828397, 20.32941895,\n",
              "       27.08004021, 24.26901133, 25.4159703 , 35.39127848, 29.69198911,\n",
              "       23.47882704, 22.44362871, 33.22227459, 26.09369158, 27.63608454,\n",
              "       49.40756261, 35.73340304, 28.58098605, 18.84936626, 32.66410336,\n",
              "       23.80067541, 28.9607851 , 33.41028487, 20.18308088, 30.7433654 ,\n",
              "       26.8514653 , 22.98243413, 33.17648121, 22.95596384, 25.963237  ,\n",
              "       30.14788763, 25.84485009, 30.84487404, 30.66490909, 32.01041247,\n",
              "       23.95270348, 31.96354576, 25.88161085, 28.51222951, 34.22069409,\n",
              "       32.33790603, 32.08652822, 30.18679404, 30.92904429, 29.77339383,\n",
              "       38.24851328, 23.49109721, 28.36793694, 27.15368775, 27.93928357,\n",
              "       22.16308306, 21.66041652, 27.25860384, 30.5432979 , 26.57798843,\n",
              "       37.54240829, 25.42370891, 31.3764153 , 24.85364195, 30.54661993,\n",
              "       30.97365086, 33.90812152, 28.82339684, 33.6349701 , 23.72301075,\n",
              "       17.87783189, 20.33341546, 32.2822002 , 23.69425654, 23.54293265,\n",
              "       34.52449358, 28.78645713, 20.99032   , 38.23588848, 23.56969688,\n",
              "       25.37238798, 25.92796415, 33.25069985, 20.25231714, 36.46611503,\n",
              "       28.32180364, 36.09221764, 32.75687085, 22.35261354, 20.31736177,\n",
              "       20.8677855 , 30.14580869, 28.20438559, 24.12009768, 30.29465154,\n",
              "       24.55728268, 28.7832293 , 36.62429629, 31.60227068, 23.18517646,\n",
              "       27.27885542, 26.53933457, 17.8000477 , 21.70283365, 27.26915351,\n",
              "       34.09114003, 28.61160355, 21.90771622, 22.03464453, 35.08603315,\n",
              "       27.62206687, 32.39365122, 21.74501467, 34.0455466 , 20.94492458,\n",
              "       28.03074191, 23.69625022, 27.52432365, 27.57057253, 34.03956824,\n",
              "       26.01628027, 18.14560334, 20.14386107, 21.03814356, 23.27846489,\n",
              "       32.14513603, 23.76736769, 19.38750803, 28.14708027, 27.13849806,\n",
              "       32.89891897, 34.15228738, 26.49351285, 29.07818835, 27.84476089,\n",
              "       30.23623491, 31.97258384, 26.43687358, 27.3297001 , 26.88951974,\n",
              "       29.04556652, 32.91902415, 23.91604585, 29.90893104, 27.22489728,\n",
              "       25.37445003, 27.04505855, 30.36977703, 30.6515573 , 32.89439942,\n",
              "       27.30981345, 23.39192026, 27.33007464, 27.97421728, 20.03916722,\n",
              "       24.72673005, 32.51617501, 22.48631256, 32.98766233, 24.85573022,\n",
              "       26.0349919 , 30.66684104, 29.72927043, 23.6672125 , 20.69738747,\n",
              "       21.89879293, 36.37707605, 22.6019618 , 28.26904714, 22.2876071 ,\n",
              "       29.27005943, 16.69471312, 30.07852321, 32.67029004, 17.62037801,\n",
              "       31.12168852, 24.09416836, 17.53557629, 28.83029696, 30.17143765,\n",
              "       15.94428465, 26.06792012, 28.41938558, 20.90425065, 21.70335417,\n",
              "       25.39602774, 30.30474537, 32.76117799, 21.7660702 , 27.30823011,\n",
              "       28.96677965, 24.65034327, 22.75173215, 25.139321  , 40.50727418,\n",
              "       27.11604516, 20.32063687, 27.12666702, 20.05281011, 31.32657168,\n",
              "       28.4446334 , 12.21134862, 29.41599145, 25.29987485, 21.80612747,\n",
              "       25.87286969, 37.00956731, 25.7429248 , 33.88943582, 25.9467218 ,\n",
              "       34.13032102, 24.33775497, 28.29567366, 22.10281229, 27.49915773,\n",
              "       30.21391222, 33.44628728, 27.32250936, 29.93536397, 19.63453355,\n",
              "       32.87153112, 19.32635486, 16.77853319, 24.2907668 , 21.05580771,\n",
              "       31.08101045, 16.88988715, 25.36027417, 19.90590631, 22.86919886,\n",
              "       32.56784417, 27.36622777, 32.24612711, 36.19066862, 33.20855025,\n",
              "       20.49112878, 27.25010316, 35.90018571, 24.21378384, 32.17920924,\n",
              "       17.87548657, 31.43092019, 28.5897926 , 25.80143598, 20.70786509,\n",
              "       33.15494779, 30.77047289, 25.07768667, 21.12478122, 29.20535273,\n",
              "       29.49686577, 33.27717553, 26.5426616 , 27.42890091, 32.71990188,\n",
              "       30.28688426, 32.42118309, 20.23328787, 26.52364449, 26.81800072,\n",
              "       27.02242699, 34.68289842, 26.19777593, 22.0301592 , 30.43408333,\n",
              "       23.05975519, 24.9493451 , 24.368121  , 22.25249843, 29.11431301,\n",
              "       31.62924472, 19.55296624, 26.55251144, 25.99522445, 26.07550164,\n",
              "       27.06645139, 24.85280476, 19.65700701, 27.66024396, 22.65995307,\n",
              "       29.04102641, 26.98157568, 25.85093281, 26.13238813, 18.67571722,\n",
              "       23.36598867, 25.74904265, 18.31971253, 28.45760581, 31.116403  ,\n",
              "       19.41112205, 22.65527839, 24.12492521, 32.82637513, 18.90891139])"
            ]
          },
          "metadata": {
            "tags": []
          },
          "execution_count": 17
        }
      ]
    },
    {
      "cell_type": "code",
      "metadata": {
        "id": "4XSxS50KjIRb",
        "colab_type": "code",
        "colab": {
          "base_uri": "https://localhost:8080/",
          "height": 34
        },
        "outputId": "5dc4393e-29d4-4602-c11c-b84b2eae408f"
      },
      "source": [
        "min(nonstandard_normal), max(nonstandard_normal)"
      ],
      "execution_count": 18,
      "outputs": [
        {
          "output_type": "execute_result",
          "data": {
            "text/plain": [
              "(11.848819514350534, 49.40756260540855)"
            ]
          },
          "metadata": {
            "tags": []
          },
          "execution_count": 18
        }
      ]
    },
    {
      "cell_type": "code",
      "metadata": {
        "id": "58Pp9m_OjVgG",
        "colab_type": "code",
        "colab": {
          "base_uri": "https://localhost:8080/",
          "height": 34
        },
        "outputId": "cac14e32-d36b-4b71-9f07-c1827525e49c"
      },
      "source": [
        "nonstandard_normal.mean()"
      ],
      "execution_count": 24,
      "outputs": [
        {
          "output_type": "execute_result",
          "data": {
            "text/plain": [
              "26.971492406296502"
            ]
          },
          "metadata": {
            "tags": []
          },
          "execution_count": 24
        }
      ]
    },
    {
      "cell_type": "code",
      "metadata": {
        "id": "NUZ4DQ3qjah7",
        "colab_type": "code",
        "colab": {
          "base_uri": "https://localhost:8080/",
          "height": 34
        },
        "outputId": "0b4a6bb9-8f9c-4ef0-f2f0-c14d42e9f8d5"
      },
      "source": [
        "nonstandard_normal.std()"
      ],
      "execution_count": 23,
      "outputs": [
        {
          "output_type": "execute_result",
          "data": {
            "text/plain": [
              "5.081485028997497"
            ]
          },
          "metadata": {
            "tags": []
          },
          "execution_count": 23
        }
      ]
    },
    {
      "cell_type": "code",
      "metadata": {
        "id": "r_dbjE7IjM3d",
        "colab_type": "code",
        "colab": {}
      },
      "source": [
        "standardized_normal = ((nonstandard_normal - nonstandard_normal.mean())/ \n",
        "                      nonstandard_normal.std())"
      ],
      "execution_count": 0,
      "outputs": []
    },
    {
      "cell_type": "code",
      "metadata": {
        "id": "AfDNKMi8kCrH",
        "colab_type": "code",
        "colab": {
          "base_uri": "https://localhost:8080/",
          "height": 34
        },
        "outputId": "0f78c113-6be6-4009-fc1a-2cdc99ad95be"
      },
      "source": [
        "standardized_normal.mean() #essentially 0"
      ],
      "execution_count": 30,
      "outputs": [
        {
          "output_type": "execute_result",
          "data": {
            "text/plain": [
              "-2.842170943040401e-16"
            ]
          },
          "metadata": {
            "tags": []
          },
          "execution_count": 30
        }
      ]
    },
    {
      "cell_type": "code",
      "metadata": {
        "id": "eA0hcwHXqxUK",
        "colab_type": "code",
        "colab": {
          "base_uri": "https://localhost:8080/",
          "height": 34
        },
        "outputId": "53284128-9933-4e8a-9d9a-06c42c99ffe8"
      },
      "source": [
        "standardized_normal.std() #close to 1"
      ],
      "execution_count": 31,
      "outputs": [
        {
          "output_type": "execute_result",
          "data": {
            "text/plain": [
              "0.9999999999999999"
            ]
          },
          "metadata": {
            "tags": []
          },
          "execution_count": 31
        }
      ]
    },
    {
      "cell_type": "code",
      "metadata": {
        "id": "f97jXSVVq_nm",
        "colab_type": "code",
        "colab": {}
      },
      "source": [
        ""
      ],
      "execution_count": 0,
      "outputs": []
    },
    {
      "cell_type": "code",
      "metadata": {
        "id": "ULQv9Ba6q7LI",
        "colab_type": "code",
        "colab": {
          "base_uri": "https://localhost:8080/",
          "height": 34
        },
        "outputId": "59f92e31-16fe-4962-d719-8af048ab48ec"
      },
      "source": [
        "np.mean(sample)"
      ],
      "execution_count": 32,
      "outputs": [
        {
          "output_type": "execute_result",
          "data": {
            "text/plain": [
              "-0.00823918926370537"
            ]
          },
          "metadata": {
            "tags": []
          },
          "execution_count": 32
        }
      ]
    },
    {
      "cell_type": "code",
      "metadata": {
        "id": "POU0-SuQbMRh",
        "colab_type": "code",
        "outputId": "f8e9a625-77a7-42e1-df6a-484c4d9e104c",
        "colab": {
          "base_uri": "https://localhost:8080/",
          "height": 34
        }
      },
      "source": [
        "# Verify the mean of our sample\n",
        "abs(mu - np.mean(sample)) < 0.01"
      ],
      "execution_count": 10,
      "outputs": [
        {
          "output_type": "execute_result",
          "data": {
            "text/plain": [
              "True"
            ]
          },
          "metadata": {
            "tags": []
          },
          "execution_count": 10
        }
      ]
    },
    {
      "cell_type": "code",
      "metadata": {
        "id": "CySVFUlfrFCU",
        "colab_type": "code",
        "colab": {
          "base_uri": "https://localhost:8080/",
          "height": 34
        },
        "outputId": "076b138d-4d59-4a7e-f779-42f9b304fef3"
      },
      "source": [
        "mu = 0 # population mean\n",
        "sigma = 1 # standard deviation\n",
        "\n",
        "sample = np.random.normal(mu, sigma, 100000)\n",
        "\n",
        "#Verify the mean of our sample\n",
        "abs(mu - np. mean(sample)) < 0.01"
      ],
      "execution_count": 45,
      "outputs": [
        {
          "output_type": "execute_result",
          "data": {
            "text/plain": [
              "True"
            ]
          },
          "metadata": {
            "tags": []
          },
          "execution_count": 45
        }
      ]
    },
    {
      "cell_type": "code",
      "metadata": {
        "id": "OUugwDXArUdx",
        "colab_type": "code",
        "colab": {
          "base_uri": "https://localhost:8080/",
          "height": 34
        },
        "outputId": "e26d9fc0-4151-4d4f-c70a-f8dc5d22a57f"
      },
      "source": [
        "np.mean(sample)"
      ],
      "execution_count": 46,
      "outputs": [
        {
          "output_type": "execute_result",
          "data": {
            "text/plain": [
              "-0.0017621109038169693"
            ]
          },
          "metadata": {
            "tags": []
          },
          "execution_count": 46
        }
      ]
    },
    {
      "cell_type": "markdown",
      "metadata": {
        "id": "3Uo-7GqPsPCz",
        "colab_type": "text"
      },
      "source": [
        "Null Hypothesis - fail to reject the null or rejec the null hypothesis. Null hypothesis or alternative? Does not mean alternative has been proven. "
      ]
    },
    {
      "cell_type": "code",
      "metadata": {
        "id": "Ur3hGasTbMRl",
        "colab_type": "code",
        "outputId": "cc0cb65f-bc09-435b-9189-4dfe92d06593",
        "colab": {
          "base_uri": "https://localhost:8080/",
          "height": 34
        }
      },
      "source": [
        "# Verify the variance of our sample\n",
        "abs(sigma - np.std(sample, ddof=1)) < 0.01"
      ],
      "execution_count": 47,
      "outputs": [
        {
          "output_type": "execute_result",
          "data": {
            "text/plain": [
              "True"
            ]
          },
          "metadata": {
            "tags": []
          },
          "execution_count": 47
        }
      ]
    },
    {
      "cell_type": "code",
      "metadata": {
        "id": "GbVV3_TsbMRn",
        "colab_type": "code",
        "outputId": "e23d6b8a-c954-4137-9a06-2dbc9295ed18",
        "colab": {
          "base_uri": "https://localhost:8080/",
          "height": 299
        }
      },
      "source": [
        "import seaborn as sns\n",
        "from matplotlib import style\n",
        "\n",
        "style.use('fivethirtyeight')\n",
        "\n",
        "ax = sns.distplot(sample, color='r')\n",
        "ax.axvline(np.percentile(sample,97.5),0)\n",
        "ax.axvline(np.percentile(sample,2.5),0)\n",
        "\n"
      ],
      "execution_count": 48,
      "outputs": [
        {
          "output_type": "execute_result",
          "data": {
            "text/plain": [
              "<matplotlib.lines.Line2D at 0x7fab6e11cc18>"
            ]
          },
          "metadata": {
            "tags": []
          },
          "execution_count": 48
        },
        {
          "output_type": "display_data",
          "data": {
            "image/png": "[encoded data removed]",
            "text/plain": [
              "<Figure size 432x288 with 1 Axes>"
            ]
          },
          "metadata": {
            "tags": []
          }
        }
      ]
    },
    {
      "cell_type": "markdown",
      "metadata": {
        "id": "D3ZwR9tDc-KX",
        "colab_type": "text"
      },
      "source": [
        "![The Normal Distribution](https://upload.wikimedia.org/wikipedia/commons/thumb/a/a9/Empirical_Rule.PNG/350px-Empirical_Rule.png)"
      ]
    },
    {
      "cell_type": "markdown",
      "metadata": {
        "id": "5BvYLMjadAnu",
        "colab_type": "text"
      },
      "source": [
        "# Why do we use the t-distribution in hypothesis tests?\n",
        "\n",
        "![t-distribution-low-dof](https://lambdachops.com/img/t-distribution-low-dof.png)\n",
        "\n",
        "![t-distribution-approximates-normal](https://github.com/ryanallredblog/ryanallredblog.github.io/blob/master/img/t-distribution-approximates-normal.png?raw=true)\n",
        "\n",
        "### Helpful video on why we use the t-distribution\n",
        "\n",
        "<https://www.youtube.com/watch?v=Uv6nGIgZMVw>\n",
        "\n",
        "However, in order to understand it you'll need to understand what a z-score is:\n",
        "\n",
        "A z-score calculates the number of standard deviations an observations lies from the population mean. The problem is that in real-world situations, we don't know what the sample mean is, so we have to turn to using the sample mean to estimate the population mean. Because the sample mean is generated from a sample and used to estimate the population mean with some level of uncertainty, it also has its own distribution a nd spread. This means that for low sample sizes both our estimates of the sample mean and sample population are not very precise, they're kind of spread out. It's this spread that makes the t-distribution wider than the normal distribution for low sample sizes. However, with the larger the sample size, the closer the t-distribution approximates the normal distribution.\n"
      ]
    },
    {
      "cell_type": "markdown",
      "metadata": {
        "colab_type": "text",
        "id": "FMhDKOFND0qY"
      },
      "source": [
        "## Student's T Test\n",
        "\n",
        ">Assuming data come from a Normal distribution, the t test provides a way to test whether the sample mean (that is the mean calculated from the data) is a good estimate of the population mean. \n",
        "\n",
        "The derivation of the t-distribution was first published in 1908 by William Gosset while working for the Guinness Brewery in Dublin. Due to proprietary issues, he had to publish under a pseudonym, and so he used the name Student.\n",
        "\n",
        "The t-distribution is essentially a distribution of means of normaly distributed data. When we use a t-statistic, we are  checking that a mean fails within a certain $\\alpha$ probability of the mean of means."
      ]
    },
    {
      "cell_type": "code",
      "metadata": {
        "colab_type": "code",
        "id": "fQ9rkLJmEbsk",
        "colab": {}
      },
      "source": [
        "t_df10 = np.random.standard_t(df=10, size=10)\n",
        "t_df100 = np.random.standard_t(df=100, size=100)\n",
        "t_df1000 = np.random.standard_t(df=1000, size=1000)"
      ],
      "execution_count": 0,
      "outputs": []
    },
    {
      "cell_type": "code",
      "metadata": {
        "colab_type": "code",
        "id": "RyNKPt_tJk86",
        "outputId": "79b140dd-73b2-4d0b-e084-4707296b9cc8",
        "colab": {
          "base_uri": "https://localhost:8080/",
          "height": 282
        }
      },
      "source": [
        "sns.kdeplot(t_df10, color='r');\n",
        "sns.kdeplot(t_df100, color='y');\n",
        "sns.kdeplot(t_df1000, color='b');"
      ],
      "execution_count": 60,
      "outputs": [
        {
          "output_type": "display_data",
          "data": {
            "image/png": "[encoded data removed]",
            "text/plain": [
              "<Figure size 432x288 with 1 Axes>"
            ]
          },
          "metadata": {
            "tags": []
          }
        }
      ]
    },
    {
      "cell_type": "code",
      "metadata": {
        "colab_type": "code",
        "id": "seQv5unnJvpM",
        "outputId": "0d13bd04-8dfe-4cec-cabd-9789d452b12d",
        "colab": {
          "base_uri": "https://localhost:8080/",
          "height": 272
        }
      },
      "source": [
        "i = 10\n",
        "for sample in [t_df10, t_df100, t_df1000]:\n",
        "    print(f\"t - distribution with {i} degrees of freedom\")\n",
        "    print(\"---\" * 10)\n",
        "    print(f\"Mean: {sample.mean()}\")\n",
        "    print(f\"Standard Deviation: {sample.std()}\")\n",
        "    print(f\"Variance: {sample.var()}\")\n",
        "    i = i*10"
      ],
      "execution_count": 51,
      "outputs": [
        {
          "output_type": "stream",
          "text": [
            "t - distribution with 10 degrees of freedom\n",
            "------------------------------\n",
            "Mean: -0.04779033701469047\n",
            "Standard Deviation: 0.7634753143364983\n",
            "Variance: 0.5828945556012148\n",
            "t - distribution with 100 degrees of freedom\n",
            "------------------------------\n",
            "Mean: -0.02397768009429219\n",
            "Standard Deviation: 1.069772206892458\n",
            "Variance: 1.1444125746395601\n",
            "t - distribution with 1000 degrees of freedom\n",
            "------------------------------\n",
            "Mean: -0.02592864178763256\n",
            "Standard Deviation: 0.9758192671344038\n",
            "Variance: 0.9522232421107248\n"
          ],
          "name": "stdout"
        }
      ]
    },
    {
      "cell_type": "markdown",
      "metadata": {
        "colab_type": "text",
        "id": "FOvEGMysLaE2"
      },
      "source": [
        "Why is it different from normal? To better reflect the tendencies of small data and situations with unknown population standard deviation. In other words, the normal distribution is still the nice pure ideal (thanks to the central limit theorem), but the t-distribution is much more useful in many real-world situations."
      ]
    },
    {
      "cell_type": "markdown",
      "metadata": {
        "colab_type": "text",
        "id": "1yx_QilAEC6o"
      },
      "source": [
        "## Live Lecture - let's perform and interpret a t-test\n",
        "\n",
        "We'll generate our own data, so we can know and alter the \"ground truth\" that the t-test should find. We will learn about p-values and how to interpret \"statistical significance\" based on the output of a hypothesis test. We will also dig a bit deeper into how the test statistic is calculated based on the sample error, and visually what it looks like to have 1 or 2 \"tailed\" t-tests."
      ]
    },
    {
      "cell_type": "code",
      "metadata": {
        "colab_type": "code",
        "id": "BuysRPs-Ed0v",
        "colab": {}
      },
      "source": [
        "# TODO - during class, but please help!\n",
        "from scipy.stats import ttest_ind, ttest_ind_from_stats, ttest_rel"
      ],
      "execution_count": 0,
      "outputs": []
    },
    {
      "cell_type": "code",
      "metadata": {
        "id": "4B2RmUwqwMBc",
        "colab_type": "code",
        "colab": {
          "base_uri": "https://localhost:8080/",
          "height": 1000
        },
        "outputId": "5b058d4a-e680-4b19-ede0-22d4f3ab45e0"
      },
      "source": [
        "import scipy.stats\n",
        "\n",
        "dir (scipy.stats)"
      ],
      "execution_count": 62,
      "outputs": [
        {
          "output_type": "execute_result",
          "data": {
            "text/plain": [
              "['PearsonRConstantInputWarning',\n",
              " 'PearsonRNearConstantInputWarning',\n",
              " '__all__',\n",
              " '__builtins__',\n",
              " '__cached__',\n",
              " '__doc__',\n",
              " '__file__',\n",
              " '__loader__',\n",
              " '__name__',\n",
              " '__package__',\n",
              " '__path__',\n",
              " '__spec__',\n",
              " '_binned_statistic',\n",
              " '_constants',\n",
              " '_continuous_distns',\n",
              " '_discrete_distns',\n",
              " '_distn_infrastructure',\n",
              " '_distr_params',\n",
              " '_hypotests',\n",
              " '_multivariate',\n",
              " '_rvs_sampling',\n",
              " '_stats',\n",
              " '_stats_mstats_common',\n",
              " '_tukeylambda_stats',\n",
              " 'absolute_import',\n",
              " 'alpha',\n",
              " 'anderson',\n",
              " 'anderson_ksamp',\n",
              " 'anglit',\n",
              " 'ansari',\n",
              " 'arcsine',\n",
              " 'argus',\n",
              " 'bartlett',\n",
              " 'bayes_mvs',\n",
              " 'bernoulli',\n",
              " 'beta',\n",
              " 'betabinom',\n",
              " 'betaprime',\n",
              " 'binned_statistic',\n",
              " 'binned_statistic_2d',\n",
              " 'binned_statistic_dd',\n",
              " 'binom',\n",
              " 'binom_test',\n",
              " 'boltzmann',\n",
              " 'boxcox',\n",
              " 'boxcox_llf',\n",
              " 'boxcox_normmax',\n",
              " 'boxcox_normplot',\n",
              " 'bradford',\n",
              " 'brunnermunzel',\n",
              " 'burr',\n",
              " 'burr12',\n",
              " 'cauchy',\n",
              " 'chi',\n",
              " 'chi2',\n",
              " 'chi2_contingency',\n",
              " 'chisquare',\n",
              " 'circmean',\n",
              " 'circstd',\n",
              " 'circvar',\n",
              " 'combine_pvalues',\n",
              " 'contingency',\n",
              " 'cosine',\n",
              " 'crystalball',\n",
              " 'cumfreq',\n",
              " 'describe',\n",
              " 'dgamma',\n",
              " 'dirichlet',\n",
              " 'distributions',\n",
              " 'division',\n",
              " 'dlaplace',\n",
              " 'dweibull',\n",
              " 'energy_distance',\n",
              " 'entropy',\n",
              " 'epps_singleton_2samp',\n",
              " 'erlang',\n",
              " 'expon',\n",
              " 'exponnorm',\n",
              " 'exponpow',\n",
              " 'exponweib',\n",
              " 'f',\n",
              " 'f_oneway',\n",
              " 'fatiguelife',\n",
              " 'find_repeats',\n",
              " 'fisher_exact',\n",
              " 'fisk',\n",
              " 'fligner',\n",
              " 'foldcauchy',\n",
              " 'foldnorm',\n",
              " 'frechet_l',\n",
              " 'frechet_r',\n",
              " 'friedmanchisquare',\n",
              " 'gamma',\n",
              " 'gausshyper',\n",
              " 'gaussian_kde',\n",
              " 'genexpon',\n",
              " 'genextreme',\n",
              " 'gengamma',\n",
              " 'genhalflogistic',\n",
              " 'geninvgauss',\n",
              " 'genlogistic',\n",
              " 'gennorm',\n",
              " 'genpareto',\n",
              " 'geom',\n",
              " 'gilbrat',\n",
              " 'gmean',\n",
              " 'gompertz',\n",
              " 'gstd',\n",
              " 'gumbel_l',\n",
              " 'gumbel_r',\n",
              " 'halfcauchy',\n",
              " 'halfgennorm',\n",
              " 'halflogistic',\n",
              " 'halfnorm',\n",
              " 'hmean',\n",
              " 'hypergeom',\n",
              " 'hypsecant',\n",
              " 'invgamma',\n",
              " 'invgauss',\n",
              " 'invweibull',\n",
              " 'invwishart',\n",
              " 'iqr',\n",
              " 'itemfreq',\n",
              " 'jarque_bera',\n",
              " 'johnsonsb',\n",
              " 'johnsonsu',\n",
              " 'kappa3',\n",
              " 'kappa4',\n",
              " 'kde',\n",
              " 'kendalltau',\n",
              " 'kruskal',\n",
              " 'ks_2samp',\n",
              " 'ksone',\n",
              " 'kstat',\n",
              " 'kstatvar',\n",
              " 'kstest',\n",
              " 'kstwobign',\n",
              " 'kurtosis',\n",
              " 'kurtosistest',\n",
              " 'laplace',\n",
              " 'levene',\n",
              " 'levy',\n",
              " 'levy_l',\n",
              " 'levy_stable',\n",
              " 'linregress',\n",
              " 'loggamma',\n",
              " 'logistic',\n",
              " 'loglaplace',\n",
              " 'lognorm',\n",
              " 'logser',\n",
              " 'loguniform',\n",
              " 'lomax',\n",
              " 'mannwhitneyu',\n",
              " 'matrix_normal',\n",
              " 'maxwell',\n",
              " 'median_absolute_deviation',\n",
              " 'median_test',\n",
              " 'mielke',\n",
              " 'mode',\n",
              " 'moment',\n",
              " 'mood',\n",
              " 'morestats',\n",
              " 'moyal',\n",
              " 'mstats',\n",
              " 'mstats_basic',\n",
              " 'mstats_extras',\n",
              " 'multinomial',\n",
              " 'multiscale_graphcorr',\n",
              " 'multivariate_normal',\n",
              " 'mvn',\n",
              " 'mvsdist',\n",
              " 'nakagami',\n",
              " 'nbinom',\n",
              " 'ncf',\n",
              " 'nct',\n",
              " 'ncx2',\n",
              " 'norm',\n",
              " 'normaltest',\n",
              " 'norminvgauss',\n",
              " 'obrientransform',\n",
              " 'ortho_group',\n",
              " 'pareto',\n",
              " 'pearson3',\n",
              " 'pearsonr',\n",
              " 'percentileofscore',\n",
              " 'planck',\n",
              " 'pointbiserialr',\n",
              " 'poisson',\n",
              " 'power_divergence',\n",
              " 'powerlaw',\n",
              " 'powerlognorm',\n",
              " 'powernorm',\n",
              " 'ppcc_max',\n",
              " 'ppcc_plot',\n",
              " 'print_function',\n",
              " 'probplot',\n",
              " 'randint',\n",
              " 'random_correlation',\n",
              " 'rankdata',\n",
              " 'ranksums',\n",
              " 'rayleigh',\n",
              " 'rdist',\n",
              " 'recipinvgauss',\n",
              " 'reciprocal',\n",
              " 'relfreq',\n",
              " 'rice',\n",
              " 'rv_continuous',\n",
              " 'rv_discrete',\n",
              " 'rv_histogram',\n",
              " 'rvs_ratio_uniforms',\n",
              " 'scoreatpercentile',\n",
              " 'sem',\n",
              " 'semicircular',\n",
              " 'shapiro',\n",
              " 'siegelslopes',\n",
              " 'sigmaclip',\n",
              " 'skellam',\n",
              " 'skew',\n",
              " 'skewnorm',\n",
              " 'skewtest',\n",
              " 'spearmanr',\n",
              " 'special_ortho_group',\n",
              " 'statlib',\n",
              " 'stats',\n",
              " 't',\n",
              " 'test',\n",
              " 'theilslopes',\n",
              " 'tiecorrect',\n",
              " 'tmax',\n",
              " 'tmean',\n",
              " 'tmin',\n",
              " 'trapz',\n",
              " 'triang',\n",
              " 'trim1',\n",
              " 'trim_mean',\n",
              " 'trimboth',\n",
              " 'truncexpon',\n",
              " 'truncnorm',\n",
              " 'tsem',\n",
              " 'tstd',\n",
              " 'ttest_1samp',\n",
              " 'ttest_ind',\n",
              " 'ttest_ind_from_stats',\n",
              " 'ttest_rel',\n",
              " 'tukeylambda',\n",
              " 'tvar',\n",
              " 'uniform',\n",
              " 'unitary_group',\n",
              " 'variation',\n",
              " 'vonmises',\n",
              " 'vonmises_line',\n",
              " 'wald',\n",
              " 'wasserstein_distance',\n",
              " 'weibull_max',\n",
              " 'weibull_min',\n",
              " 'weightedtau',\n",
              " 'wilcoxon',\n",
              " 'wishart',\n",
              " 'wrapcauchy',\n",
              " 'yeojohnson',\n",
              " 'yeojohnson_llf',\n",
              " 'yeojohnson_normmax',\n",
              " 'yeojohnson_normplot',\n",
              " 'yulesimon',\n",
              " 'zipf',\n",
              " 'zmap',\n",
              " 'zscore']"
            ]
          },
          "metadata": {
            "tags": []
          },
          "execution_count": 62
        }
      ]
    },
    {
      "cell_type": "code",
      "metadata": {
        "id": "bCuTPOyFwe3C",
        "colab_type": "code",
        "colab": {
          "base_uri": "https://localhost:8080/",
          "height": 204
        },
        "outputId": "3386e6ce-ec2a-4708-fa36-cbada9936953"
      },
      "source": [
        "#Getting started with the assignment\n",
        "!wget https://archive.ics.uci.edu/ml/machine-learning-databases/voting-records/house-votes-84.data"
      ],
      "execution_count": 64,
      "outputs": [
        {
          "output_type": "stream",
          "text": [
            "--2020-01-28 20:06:38--  https://archive.ics.uci.edu/ml/machine-learning-databases/voting-records/house-votes-84.data\n",
            "Resolving archive.ics.uci.edu (archive.ics.uci.edu)... 128.195.10.252\n",
            "Connecting to archive.ics.uci.edu (archive.ics.uci.edu)|128.195.10.252|:443... connected.\n",
            "HTTP request sent, awaiting response... 200 OK\n",
            "Length: 18171 (18K) [application/x-httpd-php]\n",
            "Saving to: ‘house-votes-84.data’\n",
            "\n",
            "\rhouse-votes-84.data   0%[                    ]       0  --.-KB/s               \rhouse-votes-84.data 100%[===================>]  17.75K  --.-KB/s    in 0.06s   \n",
            "\n",
            "2020-01-28 20:06:38 (285 KB/s) - ‘house-votes-84.data’ saved [18171/18171]\n",
            "\n"
          ],
          "name": "stdout"
        }
      ]
    },
    {
      "cell_type": "code",
      "metadata": {
        "id": "Ztd3Jo2tw3OF",
        "colab_type": "code",
        "colab": {
          "base_uri": "https://localhost:8080/",
          "height": 238
        },
        "outputId": "dd08d94d-7ec2-44c2-9f1c-771404e46979"
      },
      "source": [
        "#Load Data\n",
        "df = pd.read_csv(\"house-votes-84.data\", \n",
        "                 header = None,\n",
        "                 names = ['party', 'handicapped-infants', 'water-project',\n",
        "                          'budget', 'physician-fee-freeze', 'el-salvador-aid',\n",
        "                          'religious-groups', 'anit-satellite-ban', \n",
        "                          'aid-to-contras', 'mx-missile', 'immigration', \n",
        "                          'synfuels', 'education', 'right-to-sue', 'crime', \n",
        "                          'duty-free', 'south-africa'])\n",
        "\n",
        "print(df.shape)\n",
        "df.head()"
      ],
      "execution_count": 66,
      "outputs": [
        {
          "output_type": "stream",
          "text": [
            "(435, 17)\n"
          ],
          "name": "stdout"
        },
        {
          "output_type": "execute_result",
          "data": {
            "text/html": [
              "<div>\n",
              "<style scoped>\n",
              "    .dataframe tbody tr th:only-of-type {\n",
              "        vertical-align: middle;\n",
              "    }\n",
              "\n",
              "    .dataframe tbody tr th {\n",
              "        vertical-align: top;\n",
              "    }\n",
              "\n",
              "    .dataframe thead th {\n",
              "        text-align: right;\n",
              "    }\n",
              "</style>\n",
              "<table border=\"1\" class=\"dataframe\">\n",
              "  <thead>\n",
              "    <tr style=\"text-align: right;\">\n",
              "      <th></th>\n",
              "      <th>party</th>\n",
              "      <th>handicapped-infants</th>\n",
              "      <th>water-project</th>\n",
              "      <th>budget</th>\n",
              "      <th>physician-fee-freeze</th>\n",
              "      <th>el-salvador-aid</th>\n",
              "      <th>religious-groups</th>\n",
              "      <th>anit-satellite-ban</th>\n",
              "      <th>aid-to-contras</th>\n",
              "      <th>mx-missile</th>\n",
              "      <th>immigration</th>\n",
              "      <th>synfuels</th>\n",
              "      <th>education</th>\n",
              "      <th>right-to-sue</th>\n",
              "      <th>crime</th>\n",
              "      <th>duty-free</th>\n",
              "      <th>south-africa</th>\n",
              "    </tr>\n",
              "  </thead>\n",
              "  <tbody>\n",
              "    <tr>\n",
              "      <th>0</th>\n",
              "      <td>republican</td>\n",
              "      <td>n</td>\n",
              "      <td>y</td>\n",
              "      <td>n</td>\n",
              "      <td>y</td>\n",
              "      <td>y</td>\n",
              "      <td>y</td>\n",
              "      <td>n</td>\n",
              "      <td>n</td>\n",
              "      <td>n</td>\n",
              "      <td>y</td>\n",
              "      <td>?</td>\n",
              "      <td>y</td>\n",
              "      <td>y</td>\n",
              "      <td>y</td>\n",
              "      <td>n</td>\n",
              "      <td>y</td>\n",
              "    </tr>\n",
              "    <tr>\n",
              "      <th>1</th>\n",
              "      <td>republican</td>\n",
              "      <td>n</td>\n",
              "      <td>y</td>\n",
              "      <td>n</td>\n",
              "      <td>y</td>\n",
              "      <td>y</td>\n",
              "      <td>y</td>\n",
              "      <td>n</td>\n",
              "      <td>n</td>\n",
              "      <td>n</td>\n",
              "      <td>n</td>\n",
              "      <td>n</td>\n",
              "      <td>y</td>\n",
              "      <td>y</td>\n",
              "      <td>y</td>\n",
              "      <td>n</td>\n",
              "      <td>?</td>\n",
              "    </tr>\n",
              "    <tr>\n",
              "      <th>2</th>\n",
              "      <td>democrat</td>\n",
              "      <td>?</td>\n",
              "      <td>y</td>\n",
              "      <td>y</td>\n",
              "      <td>?</td>\n",
              "      <td>y</td>\n",
              "      <td>y</td>\n",
              "      <td>n</td>\n",
              "      <td>n</td>\n",
              "      <td>n</td>\n",
              "      <td>n</td>\n",
              "      <td>y</td>\n",
              "      <td>n</td>\n",
              "      <td>y</td>\n",
              "      <td>y</td>\n",
              "      <td>n</td>\n",
              "      <td>n</td>\n",
              "    </tr>\n",
              "    <tr>\n",
              "      <th>3</th>\n",
              "      <td>democrat</td>\n",
              "      <td>n</td>\n",
              "      <td>y</td>\n",
              "      <td>y</td>\n",
              "      <td>n</td>\n",
              "      <td>?</td>\n",
              "      <td>y</td>\n",
              "      <td>n</td>\n",
              "      <td>n</td>\n",
              "      <td>n</td>\n",
              "      <td>n</td>\n",
              "      <td>y</td>\n",
              "      <td>n</td>\n",
              "      <td>y</td>\n",
              "      <td>n</td>\n",
              "      <td>n</td>\n",
              "      <td>y</td>\n",
              "    </tr>\n",
              "    <tr>\n",
              "      <th>4</th>\n",
              "      <td>democrat</td>\n",
              "      <td>y</td>\n",
              "      <td>y</td>\n",
              "      <td>y</td>\n",
              "      <td>n</td>\n",
              "      <td>y</td>\n",
              "      <td>y</td>\n",
              "      <td>n</td>\n",
              "      <td>n</td>\n",
              "      <td>n</td>\n",
              "      <td>n</td>\n",
              "      <td>y</td>\n",
              "      <td>?</td>\n",
              "      <td>y</td>\n",
              "      <td>y</td>\n",
              "      <td>y</td>\n",
              "      <td>y</td>\n",
              "    </tr>\n",
              "  </tbody>\n",
              "</table>\n",
              "</div>"
            ],
            "text/plain": [
              "        party handicapped-infants water-project  ... crime duty-free south-africa\n",
              "0  republican                   n             y  ...     y         n            y\n",
              "1  republican                   n             y  ...     y         n            ?\n",
              "2    democrat                   ?             y  ...     y         n            n\n",
              "3    democrat                   n             y  ...     n         n            y\n",
              "4    democrat                   y             y  ...     y         y            y\n",
              "\n",
              "[5 rows x 17 columns]"
            ]
          },
          "metadata": {
            "tags": []
          },
          "execution_count": 66
        }
      ]
    },
    {
      "cell_type": "code",
      "metadata": {
        "id": "z2salnT3x_0Z",
        "colab_type": "code",
        "colab": {
          "base_uri": "https://localhost:8080/",
          "height": 221
        },
        "outputId": "f7a56e2a-3591-4f50-e1e0-9459488a0644"
      },
      "source": [
        "df = df.replace({'?': np.NaN, 'n':0, 'y':1})\n",
        "df.head()"
      ],
      "execution_count": 67,
      "outputs": [
        {
          "output_type": "execute_result",
          "data": {
            "text/html": [
              "<div>\n",
              "<style scoped>\n",
              "    .dataframe tbody tr th:only-of-type {\n",
              "        vertical-align: middle;\n",
              "    }\n",
              "\n",
              "    .dataframe tbody tr th {\n",
              "        vertical-align: top;\n",
              "    }\n",
              "\n",
              "    .dataframe thead th {\n",
              "        text-align: right;\n",
              "    }\n",
              "</style>\n",
              "<table border=\"1\" class=\"dataframe\">\n",
              "  <thead>\n",
              "    <tr style=\"text-align: right;\">\n",
              "      <th></th>\n",
              "      <th>party</th>\n",
              "      <th>handicapped-infants</th>\n",
              "      <th>water-project</th>\n",
              "      <th>budget</th>\n",
              "      <th>physician-fee-freeze</th>\n",
              "      <th>el-salvador-aid</th>\n",
              "      <th>religious-groups</th>\n",
              "      <th>anit-satellite-ban</th>\n",
              "      <th>aid-to-contras</th>\n",
              "      <th>mx-missile</th>\n",
              "      <th>immigration</th>\n",
              "      <th>synfuels</th>\n",
              "      <th>education</th>\n",
              "      <th>right-to-sue</th>\n",
              "      <th>crime</th>\n",
              "      <th>duty-free</th>\n",
              "      <th>south-africa</th>\n",
              "    </tr>\n",
              "  </thead>\n",
              "  <tbody>\n",
              "    <tr>\n",
              "      <th>0</th>\n",
              "      <td>republican</td>\n",
              "      <td>0.0</td>\n",
              "      <td>1.0</td>\n",
              "      <td>0.0</td>\n",
              "      <td>1.0</td>\n",
              "      <td>1.0</td>\n",
              "      <td>1.0</td>\n",
              "      <td>0.0</td>\n",
              "      <td>0.0</td>\n",
              "      <td>0.0</td>\n",
              "      <td>1.0</td>\n",
              "      <td>NaN</td>\n",
              "      <td>1.0</td>\n",
              "      <td>1.0</td>\n",
              "      <td>1.0</td>\n",
              "      <td>0.0</td>\n",
              "      <td>1.0</td>\n",
              "    </tr>\n",
              "    <tr>\n",
              "      <th>1</th>\n",
              "      <td>republican</td>\n",
              "      <td>0.0</td>\n",
              "      <td>1.0</td>\n",
              "      <td>0.0</td>\n",
              "      <td>1.0</td>\n",
              "      <td>1.0</td>\n",
              "      <td>1.0</td>\n",
              "      <td>0.0</td>\n",
              "      <td>0.0</td>\n",
              "      <td>0.0</td>\n",
              "      <td>0.0</td>\n",
              "      <td>0.0</td>\n",
              "      <td>1.0</td>\n",
              "      <td>1.0</td>\n",
              "      <td>1.0</td>\n",
              "      <td>0.0</td>\n",
              "      <td>NaN</td>\n",
              "    </tr>\n",
              "    <tr>\n",
              "      <th>2</th>\n",
              "      <td>democrat</td>\n",
              "      <td>NaN</td>\n",
              "      <td>1.0</td>\n",
              "      <td>1.0</td>\n",
              "      <td>NaN</td>\n",
              "      <td>1.0</td>\n",
              "      <td>1.0</td>\n",
              "      <td>0.0</td>\n",
              "      <td>0.0</td>\n",
              "      <td>0.0</td>\n",
              "      <td>0.0</td>\n",
              "      <td>1.0</td>\n",
              "      <td>0.0</td>\n",
              "      <td>1.0</td>\n",
              "      <td>1.0</td>\n",
              "      <td>0.0</td>\n",
              "      <td>0.0</td>\n",
              "    </tr>\n",
              "    <tr>\n",
              "      <th>3</th>\n",
              "      <td>democrat</td>\n",
              "      <td>0.0</td>\n",
              "      <td>1.0</td>\n",
              "      <td>1.0</td>\n",
              "      <td>0.0</td>\n",
              "      <td>NaN</td>\n",
              "      <td>1.0</td>\n",
              "      <td>0.0</td>\n",
              "      <td>0.0</td>\n",
              "      <td>0.0</td>\n",
              "      <td>0.0</td>\n",
              "      <td>1.0</td>\n",
              "      <td>0.0</td>\n",
              "      <td>1.0</td>\n",
              "      <td>0.0</td>\n",
              "      <td>0.0</td>\n",
              "      <td>1.0</td>\n",
              "    </tr>\n",
              "    <tr>\n",
              "      <th>4</th>\n",
              "      <td>democrat</td>\n",
              "      <td>1.0</td>\n",
              "      <td>1.0</td>\n",
              "      <td>1.0</td>\n",
              "      <td>0.0</td>\n",
              "      <td>1.0</td>\n",
              "      <td>1.0</td>\n",
              "      <td>0.0</td>\n",
              "      <td>0.0</td>\n",
              "      <td>0.0</td>\n",
              "      <td>0.0</td>\n",
              "      <td>1.0</td>\n",
              "      <td>NaN</td>\n",
              "      <td>1.0</td>\n",
              "      <td>1.0</td>\n",
              "      <td>1.0</td>\n",
              "      <td>1.0</td>\n",
              "    </tr>\n",
              "  </tbody>\n",
              "</table>\n",
              "</div>"
            ],
            "text/plain": [
              "        party  handicapped-infants  ...  duty-free  south-africa\n",
              "0  republican                  0.0  ...        0.0           1.0\n",
              "1  republican                  0.0  ...        0.0           NaN\n",
              "2    democrat                  NaN  ...        0.0           0.0\n",
              "3    democrat                  0.0  ...        0.0           1.0\n",
              "4    democrat                  1.0  ...        1.0           1.0\n",
              "\n",
              "[5 rows x 17 columns]"
            ]
          },
          "metadata": {
            "tags": []
          },
          "execution_count": 67
        }
      ]
    },
    {
      "cell_type": "code",
      "metadata": {
        "id": "VQx9ODwWyePr",
        "colab_type": "code",
        "colab": {
          "base_uri": "https://localhost:8080/",
          "height": 323
        },
        "outputId": "da01cd8a-c3e2-4234-d8f9-fa7e3c392027"
      },
      "source": [
        "df.isnull().sum()"
      ],
      "execution_count": 69,
      "outputs": [
        {
          "output_type": "execute_result",
          "data": {
            "text/plain": [
              "party                     0\n",
              "handicapped-infants      12\n",
              "water-project            48\n",
              "budget                   11\n",
              "physician-fee-freeze     11\n",
              "el-salvador-aid          15\n",
              "religious-groups         11\n",
              "anit-satellite-ban       14\n",
              "aid-to-contras           15\n",
              "mx-missile               22\n",
              "immigration               7\n",
              "synfuels                 21\n",
              "education                31\n",
              "right-to-sue             25\n",
              "crime                    17\n",
              "duty-free                28\n",
              "south-africa            104\n",
              "dtype: int64"
            ]
          },
          "metadata": {
            "tags": []
          },
          "execution_count": 69
        }
      ]
    },
    {
      "cell_type": "code",
      "metadata": {
        "id": "zMx-33yJy5mx",
        "colab_type": "code",
        "colab": {
          "base_uri": "https://localhost:8080/",
          "height": 314
        },
        "outputId": "7796b0f2-dd62-4c82-9f23-3aa01262167f"
      },
      "source": [
        "df.describe()"
      ],
      "execution_count": 72,
      "outputs": [
        {
          "output_type": "execute_result",
          "data": {
            "text/html": [
              "<div>\n",
              "<style scoped>\n",
              "    .dataframe tbody tr th:only-of-type {\n",
              "        vertical-align: middle;\n",
              "    }\n",
              "\n",
              "    .dataframe tbody tr th {\n",
              "        vertical-align: top;\n",
              "    }\n",
              "\n",
              "    .dataframe thead th {\n",
              "        text-align: right;\n",
              "    }\n",
              "</style>\n",
              "<table border=\"1\" class=\"dataframe\">\n",
              "  <thead>\n",
              "    <tr style=\"text-align: right;\">\n",
              "      <th></th>\n",
              "      <th>handicapped-infants</th>\n",
              "      <th>water-project</th>\n",
              "      <th>budget</th>\n",
              "      <th>physician-fee-freeze</th>\n",
              "      <th>el-salvador-aid</th>\n",
              "      <th>religious-groups</th>\n",
              "      <th>anit-satellite-ban</th>\n",
              "      <th>aid-to-contras</th>\n",
              "      <th>mx-missile</th>\n",
              "      <th>immigration</th>\n",
              "      <th>synfuels</th>\n",
              "      <th>education</th>\n",
              "      <th>right-to-sue</th>\n",
              "      <th>crime</th>\n",
              "      <th>duty-free</th>\n",
              "      <th>south-africa</th>\n",
              "    </tr>\n",
              "  </thead>\n",
              "  <tbody>\n",
              "    <tr>\n",
              "      <th>count</th>\n",
              "      <td>423.000000</td>\n",
              "      <td>387.000000</td>\n",
              "      <td>424.000000</td>\n",
              "      <td>424.000000</td>\n",
              "      <td>420.000000</td>\n",
              "      <td>424.000000</td>\n",
              "      <td>421.000000</td>\n",
              "      <td>420.00000</td>\n",
              "      <td>413.000000</td>\n",
              "      <td>428.000000</td>\n",
              "      <td>414.000000</td>\n",
              "      <td>404.000000</td>\n",
              "      <td>410.000000</td>\n",
              "      <td>418.000000</td>\n",
              "      <td>407.000000</td>\n",
              "      <td>331.000000</td>\n",
              "    </tr>\n",
              "    <tr>\n",
              "      <th>mean</th>\n",
              "      <td>0.442080</td>\n",
              "      <td>0.503876</td>\n",
              "      <td>0.596698</td>\n",
              "      <td>0.417453</td>\n",
              "      <td>0.504762</td>\n",
              "      <td>0.641509</td>\n",
              "      <td>0.567696</td>\n",
              "      <td>0.57619</td>\n",
              "      <td>0.501211</td>\n",
              "      <td>0.504673</td>\n",
              "      <td>0.362319</td>\n",
              "      <td>0.423267</td>\n",
              "      <td>0.509756</td>\n",
              "      <td>0.593301</td>\n",
              "      <td>0.427518</td>\n",
              "      <td>0.812689</td>\n",
              "    </tr>\n",
              "    <tr>\n",
              "      <th>std</th>\n",
              "      <td>0.497222</td>\n",
              "      <td>0.500632</td>\n",
              "      <td>0.491140</td>\n",
              "      <td>0.493721</td>\n",
              "      <td>0.500574</td>\n",
              "      <td>0.480124</td>\n",
              "      <td>0.495985</td>\n",
              "      <td>0.49475</td>\n",
              "      <td>0.500605</td>\n",
              "      <td>0.500563</td>\n",
              "      <td>0.481252</td>\n",
              "      <td>0.494690</td>\n",
              "      <td>0.500516</td>\n",
              "      <td>0.491806</td>\n",
              "      <td>0.495327</td>\n",
              "      <td>0.390752</td>\n",
              "    </tr>\n",
              "    <tr>\n",
              "      <th>min</th>\n",
              "      <td>0.000000</td>\n",
              "      <td>0.000000</td>\n",
              "      <td>0.000000</td>\n",
              "      <td>0.000000</td>\n",
              "      <td>0.000000</td>\n",
              "      <td>0.000000</td>\n",
              "      <td>0.000000</td>\n",
              "      <td>0.00000</td>\n",
              "      <td>0.000000</td>\n",
              "      <td>0.000000</td>\n",
              "      <td>0.000000</td>\n",
              "      <td>0.000000</td>\n",
              "      <td>0.000000</td>\n",
              "      <td>0.000000</td>\n",
              "      <td>0.000000</td>\n",
              "      <td>0.000000</td>\n",
              "    </tr>\n",
              "    <tr>\n",
              "      <th>25%</th>\n",
              "      <td>0.000000</td>\n",
              "      <td>0.000000</td>\n",
              "      <td>0.000000</td>\n",
              "      <td>0.000000</td>\n",
              "      <td>0.000000</td>\n",
              "      <td>0.000000</td>\n",
              "      <td>0.000000</td>\n",
              "      <td>0.00000</td>\n",
              "      <td>0.000000</td>\n",
              "      <td>0.000000</td>\n",
              "      <td>0.000000</td>\n",
              "      <td>0.000000</td>\n",
              "      <td>0.000000</td>\n",
              "      <td>0.000000</td>\n",
              "      <td>0.000000</td>\n",
              "      <td>1.000000</td>\n",
              "    </tr>\n",
              "    <tr>\n",
              "      <th>50%</th>\n",
              "      <td>0.000000</td>\n",
              "      <td>1.000000</td>\n",
              "      <td>1.000000</td>\n",
              "      <td>0.000000</td>\n",
              "      <td>1.000000</td>\n",
              "      <td>1.000000</td>\n",
              "      <td>1.000000</td>\n",
              "      <td>1.00000</td>\n",
              "      <td>1.000000</td>\n",
              "      <td>1.000000</td>\n",
              "      <td>0.000000</td>\n",
              "      <td>0.000000</td>\n",
              "      <td>1.000000</td>\n",
              "      <td>1.000000</td>\n",
              "      <td>0.000000</td>\n",
              "      <td>1.000000</td>\n",
              "    </tr>\n",
              "    <tr>\n",
              "      <th>75%</th>\n",
              "      <td>1.000000</td>\n",
              "      <td>1.000000</td>\n",
              "      <td>1.000000</td>\n",
              "      <td>1.000000</td>\n",
              "      <td>1.000000</td>\n",
              "      <td>1.000000</td>\n",
              "      <td>1.000000</td>\n",
              "      <td>1.00000</td>\n",
              "      <td>1.000000</td>\n",
              "      <td>1.000000</td>\n",
              "      <td>1.000000</td>\n",
              "      <td>1.000000</td>\n",
              "      <td>1.000000</td>\n",
              "      <td>1.000000</td>\n",
              "      <td>1.000000</td>\n",
              "      <td>1.000000</td>\n",
              "    </tr>\n",
              "    <tr>\n",
              "      <th>max</th>\n",
              "      <td>1.000000</td>\n",
              "      <td>1.000000</td>\n",
              "      <td>1.000000</td>\n",
              "      <td>1.000000</td>\n",
              "      <td>1.000000</td>\n",
              "      <td>1.000000</td>\n",
              "      <td>1.000000</td>\n",
              "      <td>1.00000</td>\n",
              "      <td>1.000000</td>\n",
              "      <td>1.000000</td>\n",
              "      <td>1.000000</td>\n",
              "      <td>1.000000</td>\n",
              "      <td>1.000000</td>\n",
              "      <td>1.000000</td>\n",
              "      <td>1.000000</td>\n",
              "      <td>1.000000</td>\n",
              "    </tr>\n",
              "  </tbody>\n",
              "</table>\n",
              "</div>"
            ],
            "text/plain": [
              "       handicapped-infants  water-project  ...   duty-free  south-africa\n",
              "count           423.000000     387.000000  ...  407.000000    331.000000\n",
              "mean              0.442080       0.503876  ...    0.427518      0.812689\n",
              "std               0.497222       0.500632  ...    0.495327      0.390752\n",
              "min               0.000000       0.000000  ...    0.000000      0.000000\n",
              "25%               0.000000       0.000000  ...    0.000000      1.000000\n",
              "50%               0.000000       1.000000  ...    0.000000      1.000000\n",
              "75%               1.000000       1.000000  ...    1.000000      1.000000\n",
              "max               1.000000       1.000000  ...    1.000000      1.000000\n",
              "\n",
              "[8 rows x 16 columns]"
            ]
          },
          "metadata": {
            "tags": []
          },
          "execution_count": 72
        }
      ]
    },
    {
      "cell_type": "code",
      "metadata": {
        "id": "8ITuROTiyh5z",
        "colab_type": "code",
        "colab": {
          "base_uri": "https://localhost:8080/",
          "height": 238
        },
        "outputId": "4332a49f-5626-4f23-92a2-b155a719cd27"
      },
      "source": [
        "rep = df[df.party=='republican']\n",
        "print(rep.shape)\n",
        "rep.head()"
      ],
      "execution_count": 70,
      "outputs": [
        {
          "output_type": "stream",
          "text": [
            "(168, 17)\n"
          ],
          "name": "stdout"
        },
        {
          "output_type": "execute_result",
          "data": {
            "text/html": [
              "<div>\n",
              "<style scoped>\n",
              "    .dataframe tbody tr th:only-of-type {\n",
              "        vertical-align: middle;\n",
              "    }\n",
              "\n",
              "    .dataframe tbody tr th {\n",
              "        vertical-align: top;\n",
              "    }\n",
              "\n",
              "    .dataframe thead th {\n",
              "        text-align: right;\n",
              "    }\n",
              "</style>\n",
              "<table border=\"1\" class=\"dataframe\">\n",
              "  <thead>\n",
              "    <tr style=\"text-align: right;\">\n",
              "      <th></th>\n",
              "      <th>party</th>\n",
              "      <th>handicapped-infants</th>\n",
              "      <th>water-project</th>\n",
              "      <th>budget</th>\n",
              "      <th>physician-fee-freeze</th>\n",
              "      <th>el-salvador-aid</th>\n",
              "      <th>religious-groups</th>\n",
              "      <th>anit-satellite-ban</th>\n",
              "      <th>aid-to-contras</th>\n",
              "      <th>mx-missile</th>\n",
              "      <th>immigration</th>\n",
              "      <th>synfuels</th>\n",
              "      <th>education</th>\n",
              "      <th>right-to-sue</th>\n",
              "      <th>crime</th>\n",
              "      <th>duty-free</th>\n",
              "      <th>south-africa</th>\n",
              "    </tr>\n",
              "  </thead>\n",
              "  <tbody>\n",
              "    <tr>\n",
              "      <th>0</th>\n",
              "      <td>republican</td>\n",
              "      <td>0.0</td>\n",
              "      <td>1.0</td>\n",
              "      <td>0.0</td>\n",
              "      <td>1.0</td>\n",
              "      <td>1.0</td>\n",
              "      <td>1.0</td>\n",
              "      <td>0.0</td>\n",
              "      <td>0.0</td>\n",
              "      <td>0.0</td>\n",
              "      <td>1.0</td>\n",
              "      <td>NaN</td>\n",
              "      <td>1.0</td>\n",
              "      <td>1.0</td>\n",
              "      <td>1.0</td>\n",
              "      <td>0.0</td>\n",
              "      <td>1.0</td>\n",
              "    </tr>\n",
              "    <tr>\n",
              "      <th>1</th>\n",
              "      <td>republican</td>\n",
              "      <td>0.0</td>\n",
              "      <td>1.0</td>\n",
              "      <td>0.0</td>\n",
              "      <td>1.0</td>\n",
              "      <td>1.0</td>\n",
              "      <td>1.0</td>\n",
              "      <td>0.0</td>\n",
              "      <td>0.0</td>\n",
              "      <td>0.0</td>\n",
              "      <td>0.0</td>\n",
              "      <td>0.0</td>\n",
              "      <td>1.0</td>\n",
              "      <td>1.0</td>\n",
              "      <td>1.0</td>\n",
              "      <td>0.0</td>\n",
              "      <td>NaN</td>\n",
              "    </tr>\n",
              "    <tr>\n",
              "      <th>7</th>\n",
              "      <td>republican</td>\n",
              "      <td>0.0</td>\n",
              "      <td>1.0</td>\n",
              "      <td>0.0</td>\n",
              "      <td>1.0</td>\n",
              "      <td>1.0</td>\n",
              "      <td>1.0</td>\n",
              "      <td>0.0</td>\n",
              "      <td>0.0</td>\n",
              "      <td>0.0</td>\n",
              "      <td>0.0</td>\n",
              "      <td>0.0</td>\n",
              "      <td>0.0</td>\n",
              "      <td>1.0</td>\n",
              "      <td>1.0</td>\n",
              "      <td>NaN</td>\n",
              "      <td>1.0</td>\n",
              "    </tr>\n",
              "    <tr>\n",
              "      <th>8</th>\n",
              "      <td>republican</td>\n",
              "      <td>0.0</td>\n",
              "      <td>1.0</td>\n",
              "      <td>0.0</td>\n",
              "      <td>1.0</td>\n",
              "      <td>1.0</td>\n",
              "      <td>1.0</td>\n",
              "      <td>0.0</td>\n",
              "      <td>0.0</td>\n",
              "      <td>0.0</td>\n",
              "      <td>0.0</td>\n",
              "      <td>0.0</td>\n",
              "      <td>1.0</td>\n",
              "      <td>1.0</td>\n",
              "      <td>1.0</td>\n",
              "      <td>0.0</td>\n",
              "      <td>1.0</td>\n",
              "    </tr>\n",
              "    <tr>\n",
              "      <th>10</th>\n",
              "      <td>republican</td>\n",
              "      <td>0.0</td>\n",
              "      <td>1.0</td>\n",
              "      <td>0.0</td>\n",
              "      <td>1.0</td>\n",
              "      <td>1.0</td>\n",
              "      <td>0.0</td>\n",
              "      <td>0.0</td>\n",
              "      <td>0.0</td>\n",
              "      <td>0.0</td>\n",
              "      <td>0.0</td>\n",
              "      <td>NaN</td>\n",
              "      <td>NaN</td>\n",
              "      <td>1.0</td>\n",
              "      <td>1.0</td>\n",
              "      <td>0.0</td>\n",
              "      <td>0.0</td>\n",
              "    </tr>\n",
              "  </tbody>\n",
              "</table>\n",
              "</div>"
            ],
            "text/plain": [
              "         party  handicapped-infants  ...  duty-free  south-africa\n",
              "0   republican                  0.0  ...        0.0           1.0\n",
              "1   republican                  0.0  ...        0.0           NaN\n",
              "7   republican                  0.0  ...        NaN           1.0\n",
              "8   republican                  0.0  ...        0.0           1.0\n",
              "10  republican                  0.0  ...        0.0           0.0\n",
              "\n",
              "[5 rows x 17 columns]"
            ]
          },
          "metadata": {
            "tags": []
          },
          "execution_count": 70
        }
      ]
    },
    {
      "cell_type": "code",
      "metadata": {
        "id": "ht6_zseozEWA",
        "colab_type": "code",
        "colab": {
          "base_uri": "https://localhost:8080/",
          "height": 314
        },
        "outputId": "14feabd9-ee7e-4411-d007-b4877b33e34a"
      },
      "source": [
        "rep.describe()"
      ],
      "execution_count": 73,
      "outputs": [
        {
          "output_type": "execute_result",
          "data": {
            "text/html": [
              "<div>\n",
              "<style scoped>\n",
              "    .dataframe tbody tr th:only-of-type {\n",
              "        vertical-align: middle;\n",
              "    }\n",
              "\n",
              "    .dataframe tbody tr th {\n",
              "        vertical-align: top;\n",
              "    }\n",
              "\n",
              "    .dataframe thead th {\n",
              "        text-align: right;\n",
              "    }\n",
              "</style>\n",
              "<table border=\"1\" class=\"dataframe\">\n",
              "  <thead>\n",
              "    <tr style=\"text-align: right;\">\n",
              "      <th></th>\n",
              "      <th>handicapped-infants</th>\n",
              "      <th>water-project</th>\n",
              "      <th>budget</th>\n",
              "      <th>physician-fee-freeze</th>\n",
              "      <th>el-salvador-aid</th>\n",
              "      <th>religious-groups</th>\n",
              "      <th>anit-satellite-ban</th>\n",
              "      <th>aid-to-contras</th>\n",
              "      <th>mx-missile</th>\n",
              "      <th>immigration</th>\n",
              "      <th>synfuels</th>\n",
              "      <th>education</th>\n",
              "      <th>right-to-sue</th>\n",
              "      <th>crime</th>\n",
              "      <th>duty-free</th>\n",
              "      <th>south-africa</th>\n",
              "    </tr>\n",
              "  </thead>\n",
              "  <tbody>\n",
              "    <tr>\n",
              "      <th>count</th>\n",
              "      <td>165.000000</td>\n",
              "      <td>148.000000</td>\n",
              "      <td>164.000000</td>\n",
              "      <td>165.000000</td>\n",
              "      <td>165.000000</td>\n",
              "      <td>166.000000</td>\n",
              "      <td>162.000000</td>\n",
              "      <td>157.000000</td>\n",
              "      <td>165.000000</td>\n",
              "      <td>165.000000</td>\n",
              "      <td>159.000000</td>\n",
              "      <td>155.000000</td>\n",
              "      <td>158.000000</td>\n",
              "      <td>161.000000</td>\n",
              "      <td>156.000000</td>\n",
              "      <td>146.000000</td>\n",
              "    </tr>\n",
              "    <tr>\n",
              "      <th>mean</th>\n",
              "      <td>0.187879</td>\n",
              "      <td>0.506757</td>\n",
              "      <td>0.134146</td>\n",
              "      <td>0.987879</td>\n",
              "      <td>0.951515</td>\n",
              "      <td>0.897590</td>\n",
              "      <td>0.240741</td>\n",
              "      <td>0.152866</td>\n",
              "      <td>0.115152</td>\n",
              "      <td>0.557576</td>\n",
              "      <td>0.132075</td>\n",
              "      <td>0.870968</td>\n",
              "      <td>0.860759</td>\n",
              "      <td>0.981366</td>\n",
              "      <td>0.089744</td>\n",
              "      <td>0.657534</td>\n",
              "    </tr>\n",
              "    <tr>\n",
              "      <th>std</th>\n",
              "      <td>0.391804</td>\n",
              "      <td>0.501652</td>\n",
              "      <td>0.341853</td>\n",
              "      <td>0.109760</td>\n",
              "      <td>0.215442</td>\n",
              "      <td>0.304104</td>\n",
              "      <td>0.428859</td>\n",
              "      <td>0.361010</td>\n",
              "      <td>0.320176</td>\n",
              "      <td>0.498186</td>\n",
              "      <td>0.339643</td>\n",
              "      <td>0.336322</td>\n",
              "      <td>0.347298</td>\n",
              "      <td>0.135649</td>\n",
              "      <td>0.286735</td>\n",
              "      <td>0.476168</td>\n",
              "    </tr>\n",
              "    <tr>\n",
              "      <th>min</th>\n",
              "      <td>0.000000</td>\n",
              "      <td>0.000000</td>\n",
              "      <td>0.000000</td>\n",
              "      <td>0.000000</td>\n",
              "      <td>0.000000</td>\n",
              "      <td>0.000000</td>\n",
              "      <td>0.000000</td>\n",
              "      <td>0.000000</td>\n",
              "      <td>0.000000</td>\n",
              "      <td>0.000000</td>\n",
              "      <td>0.000000</td>\n",
              "      <td>0.000000</td>\n",
              "      <td>0.000000</td>\n",
              "      <td>0.000000</td>\n",
              "      <td>0.000000</td>\n",
              "      <td>0.000000</td>\n",
              "    </tr>\n",
              "    <tr>\n",
              "      <th>25%</th>\n",
              "      <td>0.000000</td>\n",
              "      <td>0.000000</td>\n",
              "      <td>0.000000</td>\n",
              "      <td>1.000000</td>\n",
              "      <td>1.000000</td>\n",
              "      <td>1.000000</td>\n",
              "      <td>0.000000</td>\n",
              "      <td>0.000000</td>\n",
              "      <td>0.000000</td>\n",
              "      <td>0.000000</td>\n",
              "      <td>0.000000</td>\n",
              "      <td>1.000000</td>\n",
              "      <td>1.000000</td>\n",
              "      <td>1.000000</td>\n",
              "      <td>0.000000</td>\n",
              "      <td>0.000000</td>\n",
              "    </tr>\n",
              "    <tr>\n",
              "      <th>50%</th>\n",
              "      <td>0.000000</td>\n",
              "      <td>1.000000</td>\n",
              "      <td>0.000000</td>\n",
              "      <td>1.000000</td>\n",
              "      <td>1.000000</td>\n",
              "      <td>1.000000</td>\n",
              "      <td>0.000000</td>\n",
              "      <td>0.000000</td>\n",
              "      <td>0.000000</td>\n",
              "      <td>1.000000</td>\n",
              "      <td>0.000000</td>\n",
              "      <td>1.000000</td>\n",
              "      <td>1.000000</td>\n",
              "      <td>1.000000</td>\n",
              "      <td>0.000000</td>\n",
              "      <td>1.000000</td>\n",
              "    </tr>\n",
              "    <tr>\n",
              "      <th>75%</th>\n",
              "      <td>0.000000</td>\n",
              "      <td>1.000000</td>\n",
              "      <td>0.000000</td>\n",
              "      <td>1.000000</td>\n",
              "      <td>1.000000</td>\n",
              "      <td>1.000000</td>\n",
              "      <td>0.000000</td>\n",
              "      <td>0.000000</td>\n",
              "      <td>0.000000</td>\n",
              "      <td>1.000000</td>\n",
              "      <td>0.000000</td>\n",
              "      <td>1.000000</td>\n",
              "      <td>1.000000</td>\n",
              "      <td>1.000000</td>\n",
              "      <td>0.000000</td>\n",
              "      <td>1.000000</td>\n",
              "    </tr>\n",
              "    <tr>\n",
              "      <th>max</th>\n",
              "      <td>1.000000</td>\n",
              "      <td>1.000000</td>\n",
              "      <td>1.000000</td>\n",
              "      <td>1.000000</td>\n",
              "      <td>1.000000</td>\n",
              "      <td>1.000000</td>\n",
              "      <td>1.000000</td>\n",
              "      <td>1.000000</td>\n",
              "      <td>1.000000</td>\n",
              "      <td>1.000000</td>\n",
              "      <td>1.000000</td>\n",
              "      <td>1.000000</td>\n",
              "      <td>1.000000</td>\n",
              "      <td>1.000000</td>\n",
              "      <td>1.000000</td>\n",
              "      <td>1.000000</td>\n",
              "    </tr>\n",
              "  </tbody>\n",
              "</table>\n",
              "</div>"
            ],
            "text/plain": [
              "       handicapped-infants  water-project  ...   duty-free  south-africa\n",
              "count           165.000000     148.000000  ...  156.000000    146.000000\n",
              "mean              0.187879       0.506757  ...    0.089744      0.657534\n",
              "std               0.391804       0.501652  ...    0.286735      0.476168\n",
              "min               0.000000       0.000000  ...    0.000000      0.000000\n",
              "25%               0.000000       0.000000  ...    0.000000      0.000000\n",
              "50%               0.000000       1.000000  ...    0.000000      1.000000\n",
              "75%               0.000000       1.000000  ...    0.000000      1.000000\n",
              "max               1.000000       1.000000  ...    1.000000      1.000000\n",
              "\n",
              "[8 rows x 16 columns]"
            ]
          },
          "metadata": {
            "tags": []
          },
          "execution_count": 73
        }
      ]
    },
    {
      "cell_type": "code",
      "metadata": {
        "id": "AaPoJsABzQII",
        "colab_type": "code",
        "colab": {}
      },
      "source": [
        "# Exercise - pull outa dem dataframe, investigate\n",
        "# Do more exploration/soak and poke the data, draw plots"
      ],
      "execution_count": 0,
      "outputs": []
    },
    {
      "cell_type": "code",
      "metadata": {
        "id": "R_ui4CIUyvcZ",
        "colab_type": "code",
        "colab": {
          "base_uri": "https://localhost:8080/",
          "height": 238
        },
        "outputId": "9153f308-fbde-48b1-ab7e-218ec466f875"
      },
      "source": [
        "dem = df[df.party=='democrat']\n",
        "print(dem.shape)\n",
        "dem.head()"
      ],
      "execution_count": 71,
      "outputs": [
        {
          "output_type": "stream",
          "text": [
            "(267, 17)\n"
          ],
          "name": "stdout"
        },
        {
          "output_type": "execute_result",
          "data": {
            "text/html": [
              "<div>\n",
              "<style scoped>\n",
              "    .dataframe tbody tr th:only-of-type {\n",
              "        vertical-align: middle;\n",
              "    }\n",
              "\n",
              "    .dataframe tbody tr th {\n",
              "        vertical-align: top;\n",
              "    }\n",
              "\n",
              "    .dataframe thead th {\n",
              "        text-align: right;\n",
              "    }\n",
              "</style>\n",
              "<table border=\"1\" class=\"dataframe\">\n",
              "  <thead>\n",
              "    <tr style=\"text-align: right;\">\n",
              "      <th></th>\n",
              "      <th>party</th>\n",
              "      <th>handicapped-infants</th>\n",
              "      <th>water-project</th>\n",
              "      <th>budget</th>\n",
              "      <th>physician-fee-freeze</th>\n",
              "      <th>el-salvador-aid</th>\n",
              "      <th>religious-groups</th>\n",
              "      <th>anit-satellite-ban</th>\n",
              "      <th>aid-to-contras</th>\n",
              "      <th>mx-missile</th>\n",
              "      <th>immigration</th>\n",
              "      <th>synfuels</th>\n",
              "      <th>education</th>\n",
              "      <th>right-to-sue</th>\n",
              "      <th>crime</th>\n",
              "      <th>duty-free</th>\n",
              "      <th>south-africa</th>\n",
              "    </tr>\n",
              "  </thead>\n",
              "  <tbody>\n",
              "    <tr>\n",
              "      <th>2</th>\n",
              "      <td>democrat</td>\n",
              "      <td>NaN</td>\n",
              "      <td>1.0</td>\n",
              "      <td>1.0</td>\n",
              "      <td>NaN</td>\n",
              "      <td>1.0</td>\n",
              "      <td>1.0</td>\n",
              "      <td>0.0</td>\n",
              "      <td>0.0</td>\n",
              "      <td>0.0</td>\n",
              "      <td>0.0</td>\n",
              "      <td>1.0</td>\n",
              "      <td>0.0</td>\n",
              "      <td>1.0</td>\n",
              "      <td>1.0</td>\n",
              "      <td>0.0</td>\n",
              "      <td>0.0</td>\n",
              "    </tr>\n",
              "    <tr>\n",
              "      <th>3</th>\n",
              "      <td>democrat</td>\n",
              "      <td>0.0</td>\n",
              "      <td>1.0</td>\n",
              "      <td>1.0</td>\n",
              "      <td>0.0</td>\n",
              "      <td>NaN</td>\n",
              "      <td>1.0</td>\n",
              "      <td>0.0</td>\n",
              "      <td>0.0</td>\n",
              "      <td>0.0</td>\n",
              "      <td>0.0</td>\n",
              "      <td>1.0</td>\n",
              "      <td>0.0</td>\n",
              "      <td>1.0</td>\n",
              "      <td>0.0</td>\n",
              "      <td>0.0</td>\n",
              "      <td>1.0</td>\n",
              "    </tr>\n",
              "    <tr>\n",
              "      <th>4</th>\n",
              "      <td>democrat</td>\n",
              "      <td>1.0</td>\n",
              "      <td>1.0</td>\n",
              "      <td>1.0</td>\n",
              "      <td>0.0</td>\n",
              "      <td>1.0</td>\n",
              "      <td>1.0</td>\n",
              "      <td>0.0</td>\n",
              "      <td>0.0</td>\n",
              "      <td>0.0</td>\n",
              "      <td>0.0</td>\n",
              "      <td>1.0</td>\n",
              "      <td>NaN</td>\n",
              "      <td>1.0</td>\n",
              "      <td>1.0</td>\n",
              "      <td>1.0</td>\n",
              "      <td>1.0</td>\n",
              "    </tr>\n",
              "    <tr>\n",
              "      <th>5</th>\n",
              "      <td>democrat</td>\n",
              "      <td>0.0</td>\n",
              "      <td>1.0</td>\n",
              "      <td>1.0</td>\n",
              "      <td>0.0</td>\n",
              "      <td>1.0</td>\n",
              "      <td>1.0</td>\n",
              "      <td>0.0</td>\n",
              "      <td>0.0</td>\n",
              "      <td>0.0</td>\n",
              "      <td>0.0</td>\n",
              "      <td>0.0</td>\n",
              "      <td>0.0</td>\n",
              "      <td>1.0</td>\n",
              "      <td>1.0</td>\n",
              "      <td>1.0</td>\n",
              "      <td>1.0</td>\n",
              "    </tr>\n",
              "    <tr>\n",
              "      <th>6</th>\n",
              "      <td>democrat</td>\n",
              "      <td>0.0</td>\n",
              "      <td>1.0</td>\n",
              "      <td>0.0</td>\n",
              "      <td>1.0</td>\n",
              "      <td>1.0</td>\n",
              "      <td>1.0</td>\n",
              "      <td>0.0</td>\n",
              "      <td>0.0</td>\n",
              "      <td>0.0</td>\n",
              "      <td>0.0</td>\n",
              "      <td>0.0</td>\n",
              "      <td>0.0</td>\n",
              "      <td>NaN</td>\n",
              "      <td>1.0</td>\n",
              "      <td>1.0</td>\n",
              "      <td>1.0</td>\n",
              "    </tr>\n",
              "  </tbody>\n",
              "</table>\n",
              "</div>"
            ],
            "text/plain": [
              "      party  handicapped-infants  water-project  ...  crime  duty-free  south-africa\n",
              "2  democrat                  NaN            1.0  ...    1.0        0.0           0.0\n",
              "3  democrat                  0.0            1.0  ...    0.0        0.0           1.0\n",
              "4  democrat                  1.0            1.0  ...    1.0        1.0           1.0\n",
              "5  democrat                  0.0            1.0  ...    1.0        1.0           1.0\n",
              "6  democrat                  0.0            1.0  ...    1.0        1.0           1.0\n",
              "\n",
              "[5 rows x 17 columns]"
            ]
          },
          "metadata": {
            "tags": []
          },
          "execution_count": 71
        }
      ]
    },
    {
      "cell_type": "code",
      "metadata": {
        "id": "-Xq8JfIpy4qZ",
        "colab_type": "code",
        "colab": {
          "base_uri": "https://localhost:8080/",
          "height": 314
        },
        "outputId": "c955abd3-ffc4-4065-c3b0-15b349e5b5f0"
      },
      "source": [
        "dem.describe()"
      ],
      "execution_count": 74,
      "outputs": [
        {
          "output_type": "execute_result",
          "data": {
            "text/html": [
              "<div>\n",
              "<style scoped>\n",
              "    .dataframe tbody tr th:only-of-type {\n",
              "        vertical-align: middle;\n",
              "    }\n",
              "\n",
              "    .dataframe tbody tr th {\n",
              "        vertical-align: top;\n",
              "    }\n",
              "\n",
              "    .dataframe thead th {\n",
              "        text-align: right;\n",
              "    }\n",
              "</style>\n",
              "<table border=\"1\" class=\"dataframe\">\n",
              "  <thead>\n",
              "    <tr style=\"text-align: right;\">\n",
              "      <th></th>\n",
              "      <th>handicapped-infants</th>\n",
              "      <th>water-project</th>\n",
              "      <th>budget</th>\n",
              "      <th>physician-fee-freeze</th>\n",
              "      <th>el-salvador-aid</th>\n",
              "      <th>religious-groups</th>\n",
              "      <th>anit-satellite-ban</th>\n",
              "      <th>aid-to-contras</th>\n",
              "      <th>mx-missile</th>\n",
              "      <th>immigration</th>\n",
              "      <th>synfuels</th>\n",
              "      <th>education</th>\n",
              "      <th>right-to-sue</th>\n",
              "      <th>crime</th>\n",
              "      <th>duty-free</th>\n",
              "      <th>south-africa</th>\n",
              "    </tr>\n",
              "  </thead>\n",
              "  <tbody>\n",
              "    <tr>\n",
              "      <th>count</th>\n",
              "      <td>258.000000</td>\n",
              "      <td>239.000000</td>\n",
              "      <td>260.000000</td>\n",
              "      <td>259.000000</td>\n",
              "      <td>255.000000</td>\n",
              "      <td>258.000000</td>\n",
              "      <td>259.000000</td>\n",
              "      <td>263.000000</td>\n",
              "      <td>248.000000</td>\n",
              "      <td>263.000000</td>\n",
              "      <td>255.000000</td>\n",
              "      <td>249.000000</td>\n",
              "      <td>252.000000</td>\n",
              "      <td>257.000000</td>\n",
              "      <td>251.000000</td>\n",
              "      <td>185.000000</td>\n",
              "    </tr>\n",
              "    <tr>\n",
              "      <th>mean</th>\n",
              "      <td>0.604651</td>\n",
              "      <td>0.502092</td>\n",
              "      <td>0.888462</td>\n",
              "      <td>0.054054</td>\n",
              "      <td>0.215686</td>\n",
              "      <td>0.476744</td>\n",
              "      <td>0.772201</td>\n",
              "      <td>0.828897</td>\n",
              "      <td>0.758065</td>\n",
              "      <td>0.471483</td>\n",
              "      <td>0.505882</td>\n",
              "      <td>0.144578</td>\n",
              "      <td>0.289683</td>\n",
              "      <td>0.350195</td>\n",
              "      <td>0.637450</td>\n",
              "      <td>0.935135</td>\n",
              "    </tr>\n",
              "    <tr>\n",
              "      <th>std</th>\n",
              "      <td>0.489876</td>\n",
              "      <td>0.501045</td>\n",
              "      <td>0.315405</td>\n",
              "      <td>0.226562</td>\n",
              "      <td>0.412106</td>\n",
              "      <td>0.500430</td>\n",
              "      <td>0.420224</td>\n",
              "      <td>0.377317</td>\n",
              "      <td>0.429121</td>\n",
              "      <td>0.500138</td>\n",
              "      <td>0.500949</td>\n",
              "      <td>0.352383</td>\n",
              "      <td>0.454518</td>\n",
              "      <td>0.477962</td>\n",
              "      <td>0.481697</td>\n",
              "      <td>0.246956</td>\n",
              "    </tr>\n",
              "    <tr>\n",
              "      <th>min</th>\n",
              "      <td>0.000000</td>\n",
              "      <td>0.000000</td>\n",
              "      <td>0.000000</td>\n",
              "      <td>0.000000</td>\n",
              "      <td>0.000000</td>\n",
              "      <td>0.000000</td>\n",
              "      <td>0.000000</td>\n",
              "      <td>0.000000</td>\n",
              "      <td>0.000000</td>\n",
              "      <td>0.000000</td>\n",
              "      <td>0.000000</td>\n",
              "      <td>0.000000</td>\n",
              "      <td>0.000000</td>\n",
              "      <td>0.000000</td>\n",
              "      <td>0.000000</td>\n",
              "      <td>0.000000</td>\n",
              "    </tr>\n",
              "    <tr>\n",
              "      <th>25%</th>\n",
              "      <td>0.000000</td>\n",
              "      <td>0.000000</td>\n",
              "      <td>1.000000</td>\n",
              "      <td>0.000000</td>\n",
              "      <td>0.000000</td>\n",
              "      <td>0.000000</td>\n",
              "      <td>1.000000</td>\n",
              "      <td>1.000000</td>\n",
              "      <td>1.000000</td>\n",
              "      <td>0.000000</td>\n",
              "      <td>0.000000</td>\n",
              "      <td>0.000000</td>\n",
              "      <td>0.000000</td>\n",
              "      <td>0.000000</td>\n",
              "      <td>0.000000</td>\n",
              "      <td>1.000000</td>\n",
              "    </tr>\n",
              "    <tr>\n",
              "      <th>50%</th>\n",
              "      <td>1.000000</td>\n",
              "      <td>1.000000</td>\n",
              "      <td>1.000000</td>\n",
              "      <td>0.000000</td>\n",
              "      <td>0.000000</td>\n",
              "      <td>0.000000</td>\n",
              "      <td>1.000000</td>\n",
              "      <td>1.000000</td>\n",
              "      <td>1.000000</td>\n",
              "      <td>0.000000</td>\n",
              "      <td>1.000000</td>\n",
              "      <td>0.000000</td>\n",
              "      <td>0.000000</td>\n",
              "      <td>0.000000</td>\n",
              "      <td>1.000000</td>\n",
              "      <td>1.000000</td>\n",
              "    </tr>\n",
              "    <tr>\n",
              "      <th>75%</th>\n",
              "      <td>1.000000</td>\n",
              "      <td>1.000000</td>\n",
              "      <td>1.000000</td>\n",
              "      <td>0.000000</td>\n",
              "      <td>0.000000</td>\n",
              "      <td>1.000000</td>\n",
              "      <td>1.000000</td>\n",
              "      <td>1.000000</td>\n",
              "      <td>1.000000</td>\n",
              "      <td>1.000000</td>\n",
              "      <td>1.000000</td>\n",
              "      <td>0.000000</td>\n",
              "      <td>1.000000</td>\n",
              "      <td>1.000000</td>\n",
              "      <td>1.000000</td>\n",
              "      <td>1.000000</td>\n",
              "    </tr>\n",
              "    <tr>\n",
              "      <th>max</th>\n",
              "      <td>1.000000</td>\n",
              "      <td>1.000000</td>\n",
              "      <td>1.000000</td>\n",
              "      <td>1.000000</td>\n",
              "      <td>1.000000</td>\n",
              "      <td>1.000000</td>\n",
              "      <td>1.000000</td>\n",
              "      <td>1.000000</td>\n",
              "      <td>1.000000</td>\n",
              "      <td>1.000000</td>\n",
              "      <td>1.000000</td>\n",
              "      <td>1.000000</td>\n",
              "      <td>1.000000</td>\n",
              "      <td>1.000000</td>\n",
              "      <td>1.000000</td>\n",
              "      <td>1.000000</td>\n",
              "    </tr>\n",
              "  </tbody>\n",
              "</table>\n",
              "</div>"
            ],
            "text/plain": [
              "       handicapped-infants  water-project  ...   duty-free  south-africa\n",
              "count           258.000000     239.000000  ...  251.000000    185.000000\n",
              "mean              0.604651       0.502092  ...    0.637450      0.935135\n",
              "std               0.489876       0.501045  ...    0.481697      0.246956\n",
              "min               0.000000       0.000000  ...    0.000000      0.000000\n",
              "25%               0.000000       0.000000  ...    0.000000      1.000000\n",
              "50%               1.000000       1.000000  ...    1.000000      1.000000\n",
              "75%               1.000000       1.000000  ...    1.000000      1.000000\n",
              "max               1.000000       1.000000  ...    1.000000      1.000000\n",
              "\n",
              "[8 rows x 16 columns]"
            ]
          },
          "metadata": {
            "tags": []
          },
          "execution_count": 74
        }
      ]
    },
    {
      "cell_type": "code",
      "metadata": {
        "id": "S_zcpQXFzecN",
        "colab_type": "code",
        "colab": {
          "base_uri": "https://localhost:8080/",
          "height": 34
        },
        "outputId": "3d4d00cc-7a5c-45e0-dab1-95238ba5f497"
      },
      "source": [
        "#Example 1 sample t-test\n",
        "from scipy.stats import ttest_1samp\n",
        "\n",
        "rep['handicapped-infants'].mean()"
      ],
      "execution_count": 76,
      "outputs": [
        {
          "output_type": "execute_result",
          "data": {
            "text/plain": [
              "0.18787878787878787"
            ]
          },
          "metadata": {
            "tags": []
          },
          "execution_count": 76
        }
      ]
    },
    {
      "cell_type": "code",
      "metadata": {
        "id": "_NvvkdfyzxF0",
        "colab_type": "code",
        "colab": {
          "base_uri": "https://localhost:8080/",
          "height": 34
        },
        "outputId": "4afc596e-115a-4c84-8a4b-916dd231e14a"
      },
      "source": [
        "dem['handicapped-infants'].mean()"
      ],
      "execution_count": 77,
      "outputs": [
        {
          "output_type": "execute_result",
          "data": {
            "text/plain": [
              "0.6046511627906976"
            ]
          },
          "metadata": {
            "tags": []
          },
          "execution_count": 77
        }
      ]
    },
    {
      "cell_type": "code",
      "metadata": {
        "id": "7i6ayggszzvw",
        "colab_type": "code",
        "colab": {
          "base_uri": "https://localhost:8080/",
          "height": 34
        },
        "outputId": "ff238bfb-1c53-4ede-83fd-728d279ae432"
      },
      "source": [
        "#For now, 1-sample hypothesis - republicans support is 0\n",
        "ttest_1samp(rep['handicapped-infants'], 0, nan_policy='omit')"
      ],
      "execution_count": 78,
      "outputs": [
        {
          "output_type": "execute_result",
          "data": {
            "text/plain": [
              "Ttest_1sampResult(statistic=6.159569669016066, pvalue=5.434587970316366e-09)"
            ]
          },
          "metadata": {
            "tags": []
          },
          "execution_count": 78
        }
      ]
    },
    {
      "cell_type": "code",
      "metadata": {
        "id": "ctWpZprc0SoW",
        "colab_type": "code",
        "colab": {
          "base_uri": "https://localhost:8080/",
          "height": 34
        },
        "outputId": "9ccdfce5-f911-40f4-d511-9370d6131f98"
      },
      "source": [
        "#A different null - repulican support is 0.5\n",
        "ttest_1samp(rep['handicapped-infants'], 0.5, nan_policy='omit')"
      ],
      "execution_count": 80,
      "outputs": [
        {
          "output_type": "execute_result",
          "data": {
            "text/plain": [
              "Ttest_1sampResult(statistic=-10.232833482397659, pvalue=2.572179359890009e-19)"
            ]
          },
          "metadata": {
            "tags": []
          },
          "execution_count": 80
        }
      ]
    },
    {
      "cell_type": "code",
      "metadata": {
        "id": "10COWU7J0rrl",
        "colab_type": "code",
        "colab": {
          "base_uri": "https://localhost:8080/",
          "height": 34
        },
        "outputId": "b1e3703d-823e-487b-d562-9a2ba849f55e"
      },
      "source": [
        "#For now, 1-sample hypothesis - republicans support is 1\n",
        "ttest_1samp(rep['physician-fee-freeze'], 1, nan_policy='omit')"
      ],
      "execution_count": 83,
      "outputs": [
        {
          "output_type": "execute_result",
          "data": {
            "text/plain": [
              "Ttest_1sampResult(statistic=-1.4185450076223511, pvalue=0.1579292482594923)"
            ]
          },
          "metadata": {
            "tags": []
          },
          "execution_count": 83
        }
      ]
    },
    {
      "cell_type": "code",
      "metadata": {
        "id": "hFSeRhQO1E7v",
        "colab_type": "code",
        "colab": {}
      },
      "source": [
        "#for the last test, we're much closer to the null - fail to reject"
      ],
      "execution_count": 0,
      "outputs": []
    },
    {
      "cell_type": "code",
      "metadata": {
        "id": "3IbfATJM0Imx",
        "colab_type": "code",
        "colab": {
          "base_uri": "https://localhost:8080/",
          "height": 34
        },
        "outputId": "d4f09d43-86fc-4832-b9b3-c3fb3141c87f"
      },
      "source": [
        "#For now, 1-sample hypothesis - democrat support is 0\n",
        "ttest_1samp(dem['handicapped-infants'], 0, nan_policy='omit')"
      ],
      "execution_count": 79,
      "outputs": [
        {
          "output_type": "execute_result",
          "data": {
            "text/plain": [
              "Ttest_1sampResult(statistic=19.825711173357988, pvalue=1.0391992873567661e-53)"
            ]
          },
          "metadata": {
            "tags": []
          },
          "execution_count": 79
        }
      ]
    },
    {
      "cell_type": "code",
      "metadata": {
        "id": "EPlPmfkH0jt1",
        "colab_type": "code",
        "colab": {
          "base_uri": "https://localhost:8080/",
          "height": 34
        },
        "outputId": "f90b14b8-753a-49cf-c386-28e619dee880"
      },
      "source": [
        "#A different null - democrat support is 0.5\n",
        "ttest_1samp(dem['handicapped-infants'], 0.5, nan_policy='omit')"
      ],
      "execution_count": 81,
      "outputs": [
        {
          "output_type": "execute_result",
          "data": {
            "text/plain": [
              "Ttest_1sampResult(statistic=3.431373087696574, pvalue=0.000699612317167372)"
            ]
          },
          "metadata": {
            "tags": []
          },
          "execution_count": 81
        }
      ]
    },
    {
      "cell_type": "code",
      "metadata": {
        "id": "QrkG51ID07vK",
        "colab_type": "code",
        "colab": {
          "base_uri": "https://localhost:8080/",
          "height": 34
        },
        "outputId": "660feddf-0951-414f-c961-cdcba5118c1d"
      },
      "source": [
        "#For now, 1-sample hypothesis - democrat support is 1\n",
        "ttest_1samp(dem['physician-fee-freeze'], 1, nan_policy='omit')"
      ],
      "execution_count": 84,
      "outputs": [
        {
          "output_type": "execute_result",
          "data": {
            "text/plain": [
              "Ttest_1sampResult(statistic=-67.19374970932937, pvalue=1.7479453896049469e-165)"
            ]
          },
          "metadata": {
            "tags": []
          },
          "execution_count": 84
        }
      ]
    },
    {
      "cell_type": "code",
      "metadata": {
        "id": "hzuy5GL41JK5",
        "colab_type": "code",
        "colab": {
          "base_uri": "https://localhost:8080/",
          "height": 34
        },
        "outputId": "7dc3b94b-c6d7-4acb-dd9e-0034717a1ff6"
      },
      "source": [
        "#And now, like the homework - 2 sample\n",
        "#2 sample compares the means of two samples, null is that they're the same\n",
        "#1 sample compared a mean to a given null (above)\n",
        "\n",
        "ttest_ind(rep['handicapped-infants'], dem['handicapped-infants'],\n",
        "          nan_policy='omit')"
      ],
      "execution_count": 86,
      "outputs": [
        {
          "output_type": "execute_result",
          "data": {
            "text/plain": [
              "Ttest_indResult(statistic=-9.205264294809222, pvalue=1.613440327937243e-18)"
            ]
          },
          "metadata": {
            "tags": []
          },
          "execution_count": 86
        }
      ]
    },
    {
      "cell_type": "markdown",
      "metadata": {
        "colab_type": "text",
        "id": "wiq83guLcuAE"
      },
      "source": [
        "# Resources\n",
        "\n",
        "- https://homepage.divms.uiowa.edu/~mbognar/applets/t.html\n",
        "- https://rpsychologist.com/d3/tdist/\n",
        "- https://gallery.shinyapps.io/tdist/\n",
        "- https://en.wikipedia.org/wiki/Standard_deviation#Sample_standard_deviation_of_metabolic_rate_of_northern_fulmars\n",
        "- https://www.khanacademy.org/math/ap-statistics/two-sample-inference/two-sample-t-test-means/v/two-sample-t-test-for-difference-of-means"
      ]
    }
  ]
}