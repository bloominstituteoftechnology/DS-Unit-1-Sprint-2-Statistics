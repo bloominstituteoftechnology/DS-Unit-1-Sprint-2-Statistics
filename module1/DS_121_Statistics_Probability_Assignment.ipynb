{
  "nbformat": 4,
  "nbformat_minor": 0,
  "metadata": {
    "kernelspec": {
      "display_name": "Python 3",
      "language": "python",
      "name": "python3"
    },
    "language_info": {
      "codemirror_mode": {
        "name": "ipython",
        "version": 3
      },
      "file_extension": ".py",
      "mimetype": "text/x-python",
      "name": "python",
      "nbconvert_exporter": "python",
      "pygments_lexer": "ipython3",
      "version": "3.7.3"
    },
    "colab": {
      "name": "Copy of LS_DS_121_Statistics_Probability_Assignment.ipynb",
      "provenance": [],
      "collapsed_sections": [],
      "include_colab_link": true
    }
  },
  "cells": [
    {
      "cell_type": "markdown",
      "metadata": {
        "id": "view-in-github",
        "colab_type": "text"
      },
      "source": [
        "<a href=\"https://colab.research.google.com/github/karencfisher/DS-Unit-1-Sprint-2-Statistics/blob/master/module1/DS_121_Statistics_Probability_Assignment.ipynb\" target=\"_parent\"><img src=\"https://colab.research.google.com/assets/colab-badge.svg\" alt=\"Open In Colab\"/></a>"
      ]
    },
    {
      "cell_type": "markdown",
      "metadata": {
        "id": "Sa5KWMO1ngPN",
        "colab_type": "text"
      },
      "source": [
        "<img align=\"left\" src=\"https://lever-client-logos.s3.amazonaws.com/864372b1-534c-480e-acd5-9711f850815c-1524247202159.png\" width=200>\n",
        "<br></br>\n",
        "<br></br>\n",
        "\n",
        "## *Data Science Unit 1 Sprint 2 Assignment 1*\n",
        "\n",
        "# Apply the t-test to real data\n",
        "\n",
        "Your assignment is to determine which issues have \"statistically significant\" differences between political parties in this [1980s congressional voting data](https://archive.ics.uci.edu/ml/datasets/Congressional+Voting+Records). The data consists of 435 instances (one for each congressperson), a class (democrat or republican), and 16 binary attributes (yes or no for voting for or against certain issues). Be aware - there are missing values!\n",
        "\n",
        "Your goals:\n",
        "\n",
        "**1. Load and clean the data (or determine the best method to drop observations when running tests)**\n",
        "\n",
        "\n",
        "Note that this data will involve *2 sample* t-tests, because you're comparing averages across two groups (republicans and democrats) rather than a single group against a null hypothesis."
      ]
    },
    {
      "cell_type": "code",
      "metadata": {
        "id": "SFdxiWZ_Gehn",
        "colab_type": "code",
        "colab": {}
      },
      "source": [
        "import pandas as pd\n",
        "import numpy as np\n",
        "import matplotlib.pyplot as plt\n",
        "from scipy.stats import ttest_ind, ttest_1samp"
      ],
      "execution_count": 0,
      "outputs": []
    },
    {
      "cell_type": "code",
      "metadata": {
        "id": "ZKwspo2CngPP",
        "colab_type": "code",
        "outputId": "a4593594-21c2-4208-a3d2-d4cc4b372884",
        "colab": {
          "base_uri": "https://localhost:8080/",
          "height": 462
        }
      },
      "source": [
        "# Load the voting data, converting '?' values to NaN\n",
        "!wget https://archive.ics.uci.edu/ml/machine-learning-databases/voting-records/house-votes-84.data --no-check-certificate\n",
        "column_headers = ['party','handicapped-infants','water-project',\n",
        "                          'budget','physician-fee-freeze', 'el-salvador-aid',\n",
        "                          'religious-groups','anti-satellite-ban',\n",
        "                          'aid-to-contras','mx-missile','immigration',\n",
        "                          'synfuels', 'education', 'right-to-sue','crime','duty-free',\n",
        "                          'south-africa']\n",
        "voting_df = pd.read_csv('house-votes-84.data', header=None, names=column_headers, na_values='?')\n",
        "\n",
        "#Recode 'y'/'n' to 1/0\n",
        "voting_df.replace({'y':1, 'n':0}, inplace=True)\n",
        "\n",
        "voting_df.sample(5)\n"
      ],
      "execution_count": 2,
      "outputs": [
        {
          "output_type": "stream",
          "text": [
            "--2020-04-09 19:00:27--  https://archive.ics.uci.edu/ml/machine-learning-databases/voting-records/house-votes-84.data\n",
            "Resolving archive.ics.uci.edu (archive.ics.uci.edu)... 128.195.10.252\n",
            "Connecting to archive.ics.uci.edu (archive.ics.uci.edu)|128.195.10.252|:443... connected.\n",
            "WARNING: cannot verify archive.ics.uci.edu's certificate, issued by ‘CN=InCommon RSA Server CA,OU=InCommon,O=Internet2,L=Ann Arbor,ST=MI,C=US’:\n",
            "  Issued certificate has expired.\n",
            "HTTP request sent, awaiting response... 200 OK\n",
            "Length: 18171 (18K) [application/x-httpd-php]\n",
            "Saving to: ‘house-votes-84.data.1’\n",
            "\n",
            "\rhouse-votes-84.data   0%[                    ]       0  --.-KB/s               \rhouse-votes-84.data 100%[===================>]  17.75K  --.-KB/s    in 0.06s   \n",
            "\n",
            "2020-04-09 19:00:27 (286 KB/s) - ‘house-votes-84.data.1’ saved [18171/18171]\n",
            "\n"
          ],
          "name": "stdout"
        },
        {
          "output_type": "execute_result",
          "data": {
            "text/html": [
              "<div>\n",
              "<style scoped>\n",
              "    .dataframe tbody tr th:only-of-type {\n",
              "        vertical-align: middle;\n",
              "    }\n",
              "\n",
              "    .dataframe tbody tr th {\n",
              "        vertical-align: top;\n",
              "    }\n",
              "\n",
              "    .dataframe thead th {\n",
              "        text-align: right;\n",
              "    }\n",
              "</style>\n",
              "<table border=\"1\" class=\"dataframe\">\n",
              "  <thead>\n",
              "    <tr style=\"text-align: right;\">\n",
              "      <th></th>\n",
              "      <th>party</th>\n",
              "      <th>handicapped-infants</th>\n",
              "      <th>water-project</th>\n",
              "      <th>budget</th>\n",
              "      <th>physician-fee-freeze</th>\n",
              "      <th>el-salvador-aid</th>\n",
              "      <th>religious-groups</th>\n",
              "      <th>anti-satellite-ban</th>\n",
              "      <th>aid-to-contras</th>\n",
              "      <th>mx-missile</th>\n",
              "      <th>immigration</th>\n",
              "      <th>synfuels</th>\n",
              "      <th>education</th>\n",
              "      <th>right-to-sue</th>\n",
              "      <th>crime</th>\n",
              "      <th>duty-free</th>\n",
              "      <th>south-africa</th>\n",
              "    </tr>\n",
              "  </thead>\n",
              "  <tbody>\n",
              "    <tr>\n",
              "      <th>306</th>\n",
              "      <td>republican</td>\n",
              "      <td>0.0</td>\n",
              "      <td>0.0</td>\n",
              "      <td>0.0</td>\n",
              "      <td>1.0</td>\n",
              "      <td>1.0</td>\n",
              "      <td>1.0</td>\n",
              "      <td>0.0</td>\n",
              "      <td>0.0</td>\n",
              "      <td>0.0</td>\n",
              "      <td>0.0</td>\n",
              "      <td>0.0</td>\n",
              "      <td>1.0</td>\n",
              "      <td>1.0</td>\n",
              "      <td>1.0</td>\n",
              "      <td>0.0</td>\n",
              "      <td>0.0</td>\n",
              "    </tr>\n",
              "    <tr>\n",
              "      <th>111</th>\n",
              "      <td>republican</td>\n",
              "      <td>0.0</td>\n",
              "      <td>NaN</td>\n",
              "      <td>0.0</td>\n",
              "      <td>1.0</td>\n",
              "      <td>1.0</td>\n",
              "      <td>1.0</td>\n",
              "      <td>0.0</td>\n",
              "      <td>0.0</td>\n",
              "      <td>0.0</td>\n",
              "      <td>1.0</td>\n",
              "      <td>0.0</td>\n",
              "      <td>1.0</td>\n",
              "      <td>1.0</td>\n",
              "      <td>1.0</td>\n",
              "      <td>0.0</td>\n",
              "      <td>1.0</td>\n",
              "    </tr>\n",
              "    <tr>\n",
              "      <th>349</th>\n",
              "      <td>republican</td>\n",
              "      <td>0.0</td>\n",
              "      <td>1.0</td>\n",
              "      <td>1.0</td>\n",
              "      <td>1.0</td>\n",
              "      <td>1.0</td>\n",
              "      <td>1.0</td>\n",
              "      <td>1.0</td>\n",
              "      <td>1.0</td>\n",
              "      <td>1.0</td>\n",
              "      <td>0.0</td>\n",
              "      <td>0.0</td>\n",
              "      <td>1.0</td>\n",
              "      <td>1.0</td>\n",
              "      <td>1.0</td>\n",
              "      <td>0.0</td>\n",
              "      <td>1.0</td>\n",
              "    </tr>\n",
              "    <tr>\n",
              "      <th>354</th>\n",
              "      <td>democrat</td>\n",
              "      <td>0.0</td>\n",
              "      <td>1.0</td>\n",
              "      <td>1.0</td>\n",
              "      <td>0.0</td>\n",
              "      <td>0.0</td>\n",
              "      <td>1.0</td>\n",
              "      <td>1.0</td>\n",
              "      <td>1.0</td>\n",
              "      <td>1.0</td>\n",
              "      <td>1.0</td>\n",
              "      <td>0.0</td>\n",
              "      <td>NaN</td>\n",
              "      <td>0.0</td>\n",
              "      <td>0.0</td>\n",
              "      <td>1.0</td>\n",
              "      <td>1.0</td>\n",
              "    </tr>\n",
              "    <tr>\n",
              "      <th>257</th>\n",
              "      <td>republican</td>\n",
              "      <td>0.0</td>\n",
              "      <td>0.0</td>\n",
              "      <td>0.0</td>\n",
              "      <td>1.0</td>\n",
              "      <td>1.0</td>\n",
              "      <td>0.0</td>\n",
              "      <td>0.0</td>\n",
              "      <td>0.0</td>\n",
              "      <td>0.0</td>\n",
              "      <td>0.0</td>\n",
              "      <td>0.0</td>\n",
              "      <td>1.0</td>\n",
              "      <td>0.0</td>\n",
              "      <td>1.0</td>\n",
              "      <td>NaN</td>\n",
              "      <td>1.0</td>\n",
              "    </tr>\n",
              "  </tbody>\n",
              "</table>\n",
              "</div>"
            ],
            "text/plain": [
              "          party  handicapped-infants  ...  duty-free  south-africa\n",
              "306  republican                  0.0  ...        0.0           0.0\n",
              "111  republican                  0.0  ...        0.0           1.0\n",
              "349  republican                  0.0  ...        0.0           1.0\n",
              "354    democrat                  0.0  ...        1.0           1.0\n",
              "257  republican                  0.0  ...        NaN           1.0\n",
              "\n",
              "[5 rows x 17 columns]"
            ]
          },
          "metadata": {
            "tags": []
          },
          "execution_count": 2
        }
      ]
    },
    {
      "cell_type": "markdown",
      "metadata": {
        "id": "8N2WV3Gn_Gfz",
        "colab_type": "text"
      },
      "source": [
        "#Functions to separate and explore data, and run unpaired two sample t-tests\n",
        "(Stretch goal 1)"
      ]
    },
    {
      "cell_type": "code",
      "metadata": {
        "id": "A18d0ghALdSD",
        "colab_type": "code",
        "colab": {}
      },
      "source": [
        "# function break into separate datasets for each group\n",
        "def separateGroups(orig_df, column):\n",
        "  '''\n",
        "      Separate groups into their own respective dataframes\n",
        "\n",
        "      orig_df: original dataset\n",
        "      column: column of the groups\n",
        "      \n",
        "      Creates new dataframes with name '{group_name}_df'\n",
        "      Returns a list of the new dataframes\n",
        "  '''\n",
        "  # get list of unique group names\n",
        "  groups = list(orig_df[column].unique())\n",
        "\n",
        "  # create new dataframes\n",
        "  new_dfs = []\n",
        "  for group in groups:\n",
        "    new_dfname = group + '_df'\n",
        "    func = f'{new_dfname} = orig_df[orig_df[column] == \\'{group}\\']'\n",
        "    exec(func)\n",
        "    exec(f'{new_dfname}.name = \\'{group}\\'')\n",
        "    exec(f'new_dfs.append({new_dfname})')\n",
        "  return new_dfs\n"
      ],
      "execution_count": 0,
      "outputs": []
    },
    {
      "cell_type": "code",
      "metadata": {
        "id": "LnGDNTuSWX1J",
        "colab_type": "code",
        "colab": {}
      },
      "source": [
        "# function to calculate means for each sample in each group and margins\n",
        "def calculateMeans(dataframes):\n",
        "  '''\n",
        "    Calculate means of all samples, in each datframe, and differences.\n",
        "    \n",
        "    dataframes: list of the dataframe names (strings)\n",
        "\n",
        "    Assumes: two dataframes, first column of each is ignored\n",
        "    Returns new dataframe with computations\n",
        "  '''\n",
        "\n",
        "  # Insure there are two dataframes\n",
        "  assert(len(dataframes) == 2)\n",
        "\n",
        "  new_data = {}\n",
        "  for df in dataframes:\n",
        "    columns = list(df.columns)\n",
        "    results = {}\n",
        "    for column in columns[1:]:\n",
        "      column_mean = df[column].mean()\n",
        "      results[column] = column_mean\n",
        "    new_data[df.name] = results\n",
        "  new_df = pd.DataFrame(new_data)\n",
        "\n",
        "  # calculate differences\n",
        "  new_df['difference'] = new_df[dataframes[0].name] - new_df[dataframes[1].name]\n",
        "  new_df.sort_values(by='difference', inplace=True)\n",
        "  new_df.reset_index(inplace=True)\n",
        "  new_df.rename(columns={'index': 'sample'}, inplace=True)\n",
        "  return new_df\n"
      ],
      "execution_count": 0,
      "outputs": []
    },
    {
      "cell_type": "code",
      "metadata": {
        "id": "0YrGeOXY0Rz2",
        "colab_type": "code",
        "colab": {}
      },
      "source": [
        "# Function to run unpaired to sample tests\n",
        "def test2samp(dfs, samples, alpha):\n",
        "  ''' \n",
        "      Runs two unpaired samples t-test between 2 datasets, \n",
        "      comparing shared one or more columns.\n",
        "\n",
        "      dfs: list of datasets to be compared (must be 2)\n",
        "      sample: list of columns to be compared\n",
        "      alpha: alpha level, 1 - CL\n",
        "      returns a table of results\n",
        "  '''\n",
        "\n",
        "  # insure constraint of 2 dataframes\n",
        "  assert(len(dfs) == 2)\n",
        "\n",
        "  results = {}\n",
        "  for sample in samples:\n",
        "    tvalue, pvalue = ttest_ind(dfs[0][sample], dfs[1][sample], nan_policy='omit')\n",
        "    hypothesis_0 = pvalue >= alpha\n",
        "    hypothesis_1 = pvalue < alpha\n",
        "    results[sample] = {'t-value': tvalue, \n",
        "                       'p-value': pvalue,\n",
        "                       'Hyp-0': hypothesis_0,\n",
        "                       'Hyp_a': hypothesis_1}\n",
        "\n",
        "  result_df = pd.DataFrame(results).T\n",
        "  return result_df\n",
        "\n"
      ],
      "execution_count": 0,
      "outputs": []
    },
    {
      "cell_type": "code",
      "metadata": {
        "id": "RXXS7ut2fg_g",
        "colab_type": "code",
        "colab": {}
      },
      "source": [
        "# Function to test all samples, between two dataframes\n",
        "def alltests(dfs, alpha):\n",
        "  '''\n",
        "    Run tests on all samples comparing two dataframes and compile\n",
        "    dfs: list of dataframes (must be 2)\n",
        "    alpha: alpha level\n",
        "  '''\n",
        "  # must be 2 dataframes to compare\n",
        "  assert(len(dfs) == 2)\n",
        "\n",
        "  result_df = test2samp(dfs, column_headers[1:], alpha)\n",
        "  result_df.reset_index(inplace=True)\n",
        "  result_df.rename(columns={'index':'sample'}, inplace=True)\n",
        "  result_df = pd.merge(means_df, result_df, on='sample', how='inner')\n",
        "  result_df.sort_index()\n",
        "  return result_df"
      ],
      "execution_count": 0,
      "outputs": []
    },
    {
      "cell_type": "markdown",
      "metadata": {
        "id": "tr5ePkJP_oNp",
        "colab_type": "text"
      },
      "source": [
        "# Examine data\n",
        "1) Separate republicans and democrats into respective dataframes  \n",
        "2) Calculate proportions and differences, to see which appear strongest cases."
      ]
    },
    {
      "cell_type": "code",
      "metadata": {
        "colab_type": "code",
        "id": "mxJhqdh9tJH0",
        "outputId": "3a40ef08-6b07-430a-e4ff-45f83ee43be3",
        "colab": {
          "base_uri": "https://localhost:8080/",
          "height": 527
        }
      },
      "source": [
        "dframes = separateGroups(voting_df, 'party')\n",
        "means_df = calculateMeans(dframes)\n",
        "means_df"
      ],
      "execution_count": 7,
      "outputs": [
        {
          "output_type": "execute_result",
          "data": {
            "text/html": [
              "<div>\n",
              "<style scoped>\n",
              "    .dataframe tbody tr th:only-of-type {\n",
              "        vertical-align: middle;\n",
              "    }\n",
              "\n",
              "    .dataframe tbody tr th {\n",
              "        vertical-align: top;\n",
              "    }\n",
              "\n",
              "    .dataframe thead th {\n",
              "        text-align: right;\n",
              "    }\n",
              "</style>\n",
              "<table border=\"1\" class=\"dataframe\">\n",
              "  <thead>\n",
              "    <tr style=\"text-align: right;\">\n",
              "      <th></th>\n",
              "      <th>sample</th>\n",
              "      <th>republican</th>\n",
              "      <th>democrat</th>\n",
              "      <th>difference</th>\n",
              "    </tr>\n",
              "  </thead>\n",
              "  <tbody>\n",
              "    <tr>\n",
              "      <th>0</th>\n",
              "      <td>budget</td>\n",
              "      <td>0.134146</td>\n",
              "      <td>0.888462</td>\n",
              "      <td>-0.754315</td>\n",
              "    </tr>\n",
              "    <tr>\n",
              "      <th>1</th>\n",
              "      <td>aid-to-contras</td>\n",
              "      <td>0.152866</td>\n",
              "      <td>0.828897</td>\n",
              "      <td>-0.676031</td>\n",
              "    </tr>\n",
              "    <tr>\n",
              "      <th>2</th>\n",
              "      <td>mx-missile</td>\n",
              "      <td>0.115152</td>\n",
              "      <td>0.758065</td>\n",
              "      <td>-0.642913</td>\n",
              "    </tr>\n",
              "    <tr>\n",
              "      <th>3</th>\n",
              "      <td>duty-free</td>\n",
              "      <td>0.089744</td>\n",
              "      <td>0.637450</td>\n",
              "      <td>-0.547707</td>\n",
              "    </tr>\n",
              "    <tr>\n",
              "      <th>4</th>\n",
              "      <td>anti-satellite-ban</td>\n",
              "      <td>0.240741</td>\n",
              "      <td>0.772201</td>\n",
              "      <td>-0.531460</td>\n",
              "    </tr>\n",
              "    <tr>\n",
              "      <th>5</th>\n",
              "      <td>handicapped-infants</td>\n",
              "      <td>0.187879</td>\n",
              "      <td>0.604651</td>\n",
              "      <td>-0.416772</td>\n",
              "    </tr>\n",
              "    <tr>\n",
              "      <th>6</th>\n",
              "      <td>synfuels</td>\n",
              "      <td>0.132075</td>\n",
              "      <td>0.505882</td>\n",
              "      <td>-0.373807</td>\n",
              "    </tr>\n",
              "    <tr>\n",
              "      <th>7</th>\n",
              "      <td>south-africa</td>\n",
              "      <td>0.657534</td>\n",
              "      <td>0.935135</td>\n",
              "      <td>-0.277601</td>\n",
              "    </tr>\n",
              "    <tr>\n",
              "      <th>8</th>\n",
              "      <td>water-project</td>\n",
              "      <td>0.506757</td>\n",
              "      <td>0.502092</td>\n",
              "      <td>0.004665</td>\n",
              "    </tr>\n",
              "    <tr>\n",
              "      <th>9</th>\n",
              "      <td>immigration</td>\n",
              "      <td>0.557576</td>\n",
              "      <td>0.471483</td>\n",
              "      <td>0.086093</td>\n",
              "    </tr>\n",
              "    <tr>\n",
              "      <th>10</th>\n",
              "      <td>religious-groups</td>\n",
              "      <td>0.897590</td>\n",
              "      <td>0.476744</td>\n",
              "      <td>0.420846</td>\n",
              "    </tr>\n",
              "    <tr>\n",
              "      <th>11</th>\n",
              "      <td>right-to-sue</td>\n",
              "      <td>0.860759</td>\n",
              "      <td>0.289683</td>\n",
              "      <td>0.571077</td>\n",
              "    </tr>\n",
              "    <tr>\n",
              "      <th>12</th>\n",
              "      <td>crime</td>\n",
              "      <td>0.981366</td>\n",
              "      <td>0.350195</td>\n",
              "      <td>0.631172</td>\n",
              "    </tr>\n",
              "    <tr>\n",
              "      <th>13</th>\n",
              "      <td>education</td>\n",
              "      <td>0.870968</td>\n",
              "      <td>0.144578</td>\n",
              "      <td>0.726389</td>\n",
              "    </tr>\n",
              "    <tr>\n",
              "      <th>14</th>\n",
              "      <td>el-salvador-aid</td>\n",
              "      <td>0.951515</td>\n",
              "      <td>0.215686</td>\n",
              "      <td>0.735829</td>\n",
              "    </tr>\n",
              "    <tr>\n",
              "      <th>15</th>\n",
              "      <td>physician-fee-freeze</td>\n",
              "      <td>0.987879</td>\n",
              "      <td>0.054054</td>\n",
              "      <td>0.933825</td>\n",
              "    </tr>\n",
              "  </tbody>\n",
              "</table>\n",
              "</div>"
            ],
            "text/plain": [
              "                  sample  republican  democrat  difference\n",
              "0                 budget    0.134146  0.888462   -0.754315\n",
              "1         aid-to-contras    0.152866  0.828897   -0.676031\n",
              "2             mx-missile    0.115152  0.758065   -0.642913\n",
              "3              duty-free    0.089744  0.637450   -0.547707\n",
              "4     anti-satellite-ban    0.240741  0.772201   -0.531460\n",
              "5    handicapped-infants    0.187879  0.604651   -0.416772\n",
              "6               synfuels    0.132075  0.505882   -0.373807\n",
              "7           south-africa    0.657534  0.935135   -0.277601\n",
              "8          water-project    0.506757  0.502092    0.004665\n",
              "9            immigration    0.557576  0.471483    0.086093\n",
              "10      religious-groups    0.897590  0.476744    0.420846\n",
              "11          right-to-sue    0.860759  0.289683    0.571077\n",
              "12                 crime    0.981366  0.350195    0.631172\n",
              "13             education    0.870968  0.144578    0.726389\n",
              "14       el-salvador-aid    0.951515  0.215686    0.735829\n",
              "15  physician-fee-freeze    0.987879  0.054054    0.933825"
            ]
          },
          "metadata": {
            "tags": []
          },
          "execution_count": 7
        }
      ]
    },
    {
      "cell_type": "markdown",
      "metadata": {
        "id": "vZJekJbN_9Ce",
        "colab_type": "text"
      },
      "source": [
        "The differences are negative when democrats vote yes more than republicans, and positive in reverse. This makes it easy to organize the data.\n",
        "\n",
        "Plotting the differences makes it visual which issues each party has voted more than the other. We will pick a couple of each case to test. Democratic on left, republican on right.)"
      ]
    },
    {
      "cell_type": "code",
      "metadata": {
        "id": "zlxslMJmzOAM",
        "colab_type": "code",
        "outputId": "5d2a3ad8-40f5-4c98-e488-1cd68260b514",
        "colab": {
          "base_uri": "https://localhost:8080/",
          "height": 264
        }
      },
      "source": [
        "plt.barh(means_df['sample'], means_df['difference'])\n",
        "plt.xlim(-1,1);"
      ],
      "execution_count": 8,
      "outputs": [
        {
          "output_type": "display_data",
          "data": {
            "image/png": "[encoded data removed]",
            "text/plain": [
              "<Figure size 432x288 with 1 Axes>"
            ]
          },
          "metadata": {
            "tags": []
          }
        }
      ]
    },
    {
      "cell_type": "markdown",
      "metadata": {
        "id": "QMMVmgJ092o6",
        "colab_type": "text"
      },
      "source": [
        "**2. Using hypothesis testing, find an issue that democrats support more than republicans with p < 0.01**\n",
        "\n",
        "Picking budget and south-africa (democratic extreme end and towards center). Null hypothesis (Hyp-0) is that there is no significant difference. Alternative hypothesis (Hyp-a) is there is.\n",
        "\n",
        "Rejects null hypothesis.\n"
      ]
    },
    {
      "cell_type": "code",
      "metadata": {
        "id": "1PLoD2O9_iGk",
        "colab_type": "code",
        "outputId": "a1ab7076-f56c-4052-e0c9-5523af256d85",
        "colab": {
          "base_uri": "https://localhost:8080/",
          "height": 107
        }
      },
      "source": [
        "# First set (budget, south-africa)\n",
        "issues = ['budget', 'south-africa']\n",
        "result_df = test2samp(dframes, issues, 0.01)\n",
        "result_df"
      ],
      "execution_count": 9,
      "outputs": [
        {
          "output_type": "execute_result",
          "data": {
            "text/html": [
              "<div>\n",
              "<style scoped>\n",
              "    .dataframe tbody tr th:only-of-type {\n",
              "        vertical-align: middle;\n",
              "    }\n",
              "\n",
              "    .dataframe tbody tr th {\n",
              "        vertical-align: top;\n",
              "    }\n",
              "\n",
              "    .dataframe thead th {\n",
              "        text-align: right;\n",
              "    }\n",
              "</style>\n",
              "<table border=\"1\" class=\"dataframe\">\n",
              "  <thead>\n",
              "    <tr style=\"text-align: right;\">\n",
              "      <th></th>\n",
              "      <th>t-value</th>\n",
              "      <th>p-value</th>\n",
              "      <th>Hyp-0</th>\n",
              "      <th>Hyp_a</th>\n",
              "    </tr>\n",
              "  </thead>\n",
              "  <tbody>\n",
              "    <tr>\n",
              "      <th>budget</th>\n",
              "      <td>-23.2128</td>\n",
              "      <td>2.07034e-77</td>\n",
              "      <td>False</td>\n",
              "      <td>True</td>\n",
              "    </tr>\n",
              "    <tr>\n",
              "      <th>south-africa</th>\n",
              "      <td>-6.84945</td>\n",
              "      <td>3.65267e-11</td>\n",
              "      <td>False</td>\n",
              "      <td>True</td>\n",
              "    </tr>\n",
              "  </tbody>\n",
              "</table>\n",
              "</div>"
            ],
            "text/plain": [
              "              t-value      p-value  Hyp-0 Hyp_a\n",
              "budget       -23.2128  2.07034e-77  False  True\n",
              "south-africa -6.84945  3.65267e-11  False  True"
            ]
          },
          "metadata": {
            "tags": []
          },
          "execution_count": 9
        }
      ]
    },
    {
      "cell_type": "markdown",
      "metadata": {
        "id": "DDMUC8U197fg",
        "colab_type": "text"
      },
      "source": [
        "**3. Using hypothesis testing, find an issue that republicans support more than democrats with p < 0.01**\n",
        "\n",
        "Picking physician-fee-freeze and religious-groups (republican extreme end and towards center). Null hypothesis (Hyp-0) is that there is no significant difference. Alternative hypothesis (Hyp-a) is there is.\n",
        "\n",
        "Rejects null hypothesis."
      ]
    },
    {
      "cell_type": "code",
      "metadata": {
        "id": "Gcd3HXtwAOlB",
        "colab_type": "code",
        "outputId": "df3af510-6871-44ec-ecaf-7b79ba41d2d3",
        "colab": {
          "base_uri": "https://localhost:8080/",
          "height": 107
        }
      },
      "source": [
        "# Second set (physician-fee-freeze and religious-groups) alpha=0.05 (99% CL)\n",
        "issues = ['physician-fee-freeze', 'religious-groups']\n",
        "result_df = test2samp(dframes, issues, 0.01)\n",
        "result_df"
      ],
      "execution_count": 10,
      "outputs": [
        {
          "output_type": "execute_result",
          "data": {
            "text/html": [
              "<div>\n",
              "<style scoped>\n",
              "    .dataframe tbody tr th:only-of-type {\n",
              "        vertical-align: middle;\n",
              "    }\n",
              "\n",
              "    .dataframe tbody tr th {\n",
              "        vertical-align: top;\n",
              "    }\n",
              "\n",
              "    .dataframe thead th {\n",
              "        text-align: right;\n",
              "    }\n",
              "</style>\n",
              "<table border=\"1\" class=\"dataframe\">\n",
              "  <thead>\n",
              "    <tr style=\"text-align: right;\">\n",
              "      <th></th>\n",
              "      <th>t-value</th>\n",
              "      <th>p-value</th>\n",
              "      <th>Hyp-0</th>\n",
              "      <th>Hyp_a</th>\n",
              "    </tr>\n",
              "  </thead>\n",
              "  <tbody>\n",
              "    <tr>\n",
              "      <th>physician-fee-freeze</th>\n",
              "      <td>49.3671</td>\n",
              "      <td>1.99426e-177</td>\n",
              "      <td>False</td>\n",
              "      <td>True</td>\n",
              "    </tr>\n",
              "    <tr>\n",
              "      <th>religious-groups</th>\n",
              "      <td>9.73758</td>\n",
              "      <td>2.39367e-20</td>\n",
              "      <td>False</td>\n",
              "      <td>True</td>\n",
              "    </tr>\n",
              "  </tbody>\n",
              "</table>\n",
              "</div>"
            ],
            "text/plain": [
              "                      t-value       p-value  Hyp-0 Hyp_a\n",
              "physician-fee-freeze  49.3671  1.99426e-177  False  True\n",
              "religious-groups      9.73758   2.39367e-20  False  True"
            ]
          },
          "metadata": {
            "tags": []
          },
          "execution_count": 10
        }
      ]
    },
    {
      "cell_type": "markdown",
      "metadata": {
        "id": "MlUQTq28-CqQ",
        "colab_type": "text"
      },
      "source": [
        "**4. Using hypothesis testing, find an issue where the difference between republicans and democrats has p > 0.1 (i.e. there may not be much of a difference)**\n",
        "\n",
        "\n",
        "Picking water-project and immigration (center most for both parties). Null hypothesis (Hyp-0) is that there is no significant difference. Alternative hypothesis (Hyp-a) is there is.\n",
        "\n",
        "Rejects null hypothesis for immigration, but fails to reject null hypothesis for water-project."
      ]
    },
    {
      "cell_type": "code",
      "metadata": {
        "id": "MdwAdsRYAsVP",
        "colab_type": "code",
        "outputId": "e2d681f8-9148-4804-97bc-ada38e3b42a3",
        "colab": {
          "base_uri": "https://localhost:8080/",
          "height": 107
        }
      },
      "source": [
        "# Third set (water-project, immigration) alpha=0.1 (90% CL)\n",
        "issues = ['water-project', 'immigration']\n",
        "result_df = test2samp(dframes, issues, 0.1)\n",
        "result_df"
      ],
      "execution_count": 11,
      "outputs": [
        {
          "output_type": "execute_result",
          "data": {
            "text/html": [
              "<div>\n",
              "<style scoped>\n",
              "    .dataframe tbody tr th:only-of-type {\n",
              "        vertical-align: middle;\n",
              "    }\n",
              "\n",
              "    .dataframe tbody tr th {\n",
              "        vertical-align: top;\n",
              "    }\n",
              "\n",
              "    .dataframe thead th {\n",
              "        text-align: right;\n",
              "    }\n",
              "</style>\n",
              "<table border=\"1\" class=\"dataframe\">\n",
              "  <thead>\n",
              "    <tr style=\"text-align: right;\">\n",
              "      <th></th>\n",
              "      <th>t-value</th>\n",
              "      <th>p-value</th>\n",
              "      <th>Hyp-0</th>\n",
              "      <th>Hyp_a</th>\n",
              "    </tr>\n",
              "  </thead>\n",
              "  <tbody>\n",
              "    <tr>\n",
              "      <th>water-project</th>\n",
              "      <td>0.0889654</td>\n",
              "      <td>0.929156</td>\n",
              "      <td>True</td>\n",
              "      <td>False</td>\n",
              "    </tr>\n",
              "    <tr>\n",
              "      <th>immigration</th>\n",
              "      <td>1.73591</td>\n",
              "      <td>0.0833025</td>\n",
              "      <td>False</td>\n",
              "      <td>True</td>\n",
              "    </tr>\n",
              "  </tbody>\n",
              "</table>\n",
              "</div>"
            ],
            "text/plain": [
              "                 t-value    p-value  Hyp-0  Hyp_a\n",
              "water-project  0.0889654   0.929156   True  False\n",
              "immigration      1.73591  0.0833025  False   True"
            ]
          },
          "metadata": {
            "tags": []
          },
          "execution_count": 11
        }
      ]
    },
    {
      "cell_type": "markdown",
      "metadata": {
        "id": "CbRhPnhMCTWj",
        "colab_type": "text"
      },
      "source": [
        "# We'll run tests on all the data too\n",
        "\n",
        "giving us a complete summary of percentages, differences, and test results, at both alpha levels."
      ]
    },
    {
      "cell_type": "code",
      "metadata": {
        "id": "8RD5TjM67rWQ",
        "colab_type": "code",
        "outputId": "859e13dc-9e94-4d71-9559-0b768abe2120",
        "colab": {
          "base_uri": "https://localhost:8080/",
          "height": 527
        }
      },
      "source": [
        "# Test all for alpha of 0.01 (99% CL), for differences in voting\n",
        "result1_df = alltests(dframes, 0.01)\n",
        "result1_df"
      ],
      "execution_count": 12,
      "outputs": [
        {
          "output_type": "execute_result",
          "data": {
            "text/html": [
              "<div>\n",
              "<style scoped>\n",
              "    .dataframe tbody tr th:only-of-type {\n",
              "        vertical-align: middle;\n",
              "    }\n",
              "\n",
              "    .dataframe tbody tr th {\n",
              "        vertical-align: top;\n",
              "    }\n",
              "\n",
              "    .dataframe thead th {\n",
              "        text-align: right;\n",
              "    }\n",
              "</style>\n",
              "<table border=\"1\" class=\"dataframe\">\n",
              "  <thead>\n",
              "    <tr style=\"text-align: right;\">\n",
              "      <th></th>\n",
              "      <th>sample</th>\n",
              "      <th>republican</th>\n",
              "      <th>democrat</th>\n",
              "      <th>difference</th>\n",
              "      <th>t-value</th>\n",
              "      <th>p-value</th>\n",
              "      <th>Hyp-0</th>\n",
              "      <th>Hyp_a</th>\n",
              "    </tr>\n",
              "  </thead>\n",
              "  <tbody>\n",
              "    <tr>\n",
              "      <th>0</th>\n",
              "      <td>budget</td>\n",
              "      <td>0.134146</td>\n",
              "      <td>0.888462</td>\n",
              "      <td>-0.754315</td>\n",
              "      <td>-23.2128</td>\n",
              "      <td>2.07034e-77</td>\n",
              "      <td>False</td>\n",
              "      <td>True</td>\n",
              "    </tr>\n",
              "    <tr>\n",
              "      <th>1</th>\n",
              "      <td>aid-to-contras</td>\n",
              "      <td>0.152866</td>\n",
              "      <td>0.828897</td>\n",
              "      <td>-0.676031</td>\n",
              "      <td>-18.0521</td>\n",
              "      <td>2.82472e-54</td>\n",
              "      <td>False</td>\n",
              "      <td>True</td>\n",
              "    </tr>\n",
              "    <tr>\n",
              "      <th>2</th>\n",
              "      <td>mx-missile</td>\n",
              "      <td>0.115152</td>\n",
              "      <td>0.758065</td>\n",
              "      <td>-0.642913</td>\n",
              "      <td>-16.4375</td>\n",
              "      <td>5.03079e-47</td>\n",
              "      <td>False</td>\n",
              "      <td>True</td>\n",
              "    </tr>\n",
              "    <tr>\n",
              "      <th>3</th>\n",
              "      <td>duty-free</td>\n",
              "      <td>0.089744</td>\n",
              "      <td>0.637450</td>\n",
              "      <td>-0.547707</td>\n",
              "      <td>-12.8531</td>\n",
              "      <td>5.9977e-32</td>\n",
              "      <td>False</td>\n",
              "      <td>True</td>\n",
              "    </tr>\n",
              "    <tr>\n",
              "      <th>4</th>\n",
              "      <td>anti-satellite-ban</td>\n",
              "      <td>0.240741</td>\n",
              "      <td>0.772201</td>\n",
              "      <td>-0.531460</td>\n",
              "      <td>-12.5262</td>\n",
              "      <td>8.52103e-31</td>\n",
              "      <td>False</td>\n",
              "      <td>True</td>\n",
              "    </tr>\n",
              "    <tr>\n",
              "      <th>5</th>\n",
              "      <td>handicapped-infants</td>\n",
              "      <td>0.187879</td>\n",
              "      <td>0.604651</td>\n",
              "      <td>-0.416772</td>\n",
              "      <td>-9.20526</td>\n",
              "      <td>1.61344e-18</td>\n",
              "      <td>False</td>\n",
              "      <td>True</td>\n",
              "    </tr>\n",
              "    <tr>\n",
              "      <th>6</th>\n",
              "      <td>synfuels</td>\n",
              "      <td>0.132075</td>\n",
              "      <td>0.505882</td>\n",
              "      <td>-0.373807</td>\n",
              "      <td>-8.2936</td>\n",
              "      <td>1.57593e-15</td>\n",
              "      <td>False</td>\n",
              "      <td>True</td>\n",
              "    </tr>\n",
              "    <tr>\n",
              "      <th>7</th>\n",
              "      <td>south-africa</td>\n",
              "      <td>0.657534</td>\n",
              "      <td>0.935135</td>\n",
              "      <td>-0.277601</td>\n",
              "      <td>-6.84945</td>\n",
              "      <td>3.65267e-11</td>\n",
              "      <td>False</td>\n",
              "      <td>True</td>\n",
              "    </tr>\n",
              "    <tr>\n",
              "      <th>8</th>\n",
              "      <td>water-project</td>\n",
              "      <td>0.506757</td>\n",
              "      <td>0.502092</td>\n",
              "      <td>0.004665</td>\n",
              "      <td>0.0889654</td>\n",
              "      <td>0.929156</td>\n",
              "      <td>True</td>\n",
              "      <td>False</td>\n",
              "    </tr>\n",
              "    <tr>\n",
              "      <th>9</th>\n",
              "      <td>immigration</td>\n",
              "      <td>0.557576</td>\n",
              "      <td>0.471483</td>\n",
              "      <td>0.086093</td>\n",
              "      <td>1.73591</td>\n",
              "      <td>0.0833025</td>\n",
              "      <td>True</td>\n",
              "      <td>False</td>\n",
              "    </tr>\n",
              "    <tr>\n",
              "      <th>10</th>\n",
              "      <td>religious-groups</td>\n",
              "      <td>0.897590</td>\n",
              "      <td>0.476744</td>\n",
              "      <td>0.420846</td>\n",
              "      <td>9.73758</td>\n",
              "      <td>2.39367e-20</td>\n",
              "      <td>False</td>\n",
              "      <td>True</td>\n",
              "    </tr>\n",
              "    <tr>\n",
              "      <th>11</th>\n",
              "      <td>right-to-sue</td>\n",
              "      <td>0.860759</td>\n",
              "      <td>0.289683</td>\n",
              "      <td>0.571077</td>\n",
              "      <td>13.5106</td>\n",
              "      <td>1.22786e-34</td>\n",
              "      <td>False</td>\n",
              "      <td>True</td>\n",
              "    </tr>\n",
              "    <tr>\n",
              "      <th>12</th>\n",
              "      <td>crime</td>\n",
              "      <td>0.981366</td>\n",
              "      <td>0.350195</td>\n",
              "      <td>0.631172</td>\n",
              "      <td>16.3421</td>\n",
              "      <td>9.95234e-47</td>\n",
              "      <td>False</td>\n",
              "      <td>True</td>\n",
              "    </tr>\n",
              "    <tr>\n",
              "      <th>13</th>\n",
              "      <td>education</td>\n",
              "      <td>0.870968</td>\n",
              "      <td>0.144578</td>\n",
              "      <td>0.726389</td>\n",
              "      <td>20.5007</td>\n",
              "      <td>1.88342e-64</td>\n",
              "      <td>False</td>\n",
              "      <td>True</td>\n",
              "    </tr>\n",
              "    <tr>\n",
              "      <th>14</th>\n",
              "      <td>el-salvador-aid</td>\n",
              "      <td>0.951515</td>\n",
              "      <td>0.215686</td>\n",
              "      <td>0.735829</td>\n",
              "      <td>21.1367</td>\n",
              "      <td>5.60052e-68</td>\n",
              "      <td>False</td>\n",
              "      <td>True</td>\n",
              "    </tr>\n",
              "    <tr>\n",
              "      <th>15</th>\n",
              "      <td>physician-fee-freeze</td>\n",
              "      <td>0.987879</td>\n",
              "      <td>0.054054</td>\n",
              "      <td>0.933825</td>\n",
              "      <td>49.3671</td>\n",
              "      <td>1.99426e-177</td>\n",
              "      <td>False</td>\n",
              "      <td>True</td>\n",
              "    </tr>\n",
              "  </tbody>\n",
              "</table>\n",
              "</div>"
            ],
            "text/plain": [
              "                  sample  republican  democrat  ...       p-value  Hyp-0  Hyp_a\n",
              "0                 budget    0.134146  0.888462  ...   2.07034e-77  False   True\n",
              "1         aid-to-contras    0.152866  0.828897  ...   2.82472e-54  False   True\n",
              "2             mx-missile    0.115152  0.758065  ...   5.03079e-47  False   True\n",
              "3              duty-free    0.089744  0.637450  ...    5.9977e-32  False   True\n",
              "4     anti-satellite-ban    0.240741  0.772201  ...   8.52103e-31  False   True\n",
              "5    handicapped-infants    0.187879  0.604651  ...   1.61344e-18  False   True\n",
              "6               synfuels    0.132075  0.505882  ...   1.57593e-15  False   True\n",
              "7           south-africa    0.657534  0.935135  ...   3.65267e-11  False   True\n",
              "8          water-project    0.506757  0.502092  ...      0.929156   True  False\n",
              "9            immigration    0.557576  0.471483  ...     0.0833025   True  False\n",
              "10      religious-groups    0.897590  0.476744  ...   2.39367e-20  False   True\n",
              "11          right-to-sue    0.860759  0.289683  ...   1.22786e-34  False   True\n",
              "12                 crime    0.981366  0.350195  ...   9.95234e-47  False   True\n",
              "13             education    0.870968  0.144578  ...   1.88342e-64  False   True\n",
              "14       el-salvador-aid    0.951515  0.215686  ...   5.60052e-68  False   True\n",
              "15  physician-fee-freeze    0.987879  0.054054  ...  1.99426e-177  False   True\n",
              "\n",
              "[16 rows x 8 columns]"
            ]
          },
          "metadata": {
            "tags": []
          },
          "execution_count": 12
        }
      ]
    },
    {
      "cell_type": "code",
      "metadata": {
        "id": "NSOVf6P_FVJU",
        "colab_type": "code",
        "outputId": "f4ef9f22-c5c7-4c15-9892-91eeb65bd4c6",
        "colab": {
          "base_uri": "https://localhost:8080/",
          "height": 527
        }
      },
      "source": [
        "# and on which they agree strongly (p > 0.1)\n",
        "result2_df = alltests(dframes, 0.1)\n",
        "result2_df"
      ],
      "execution_count": 13,
      "outputs": [
        {
          "output_type": "execute_result",
          "data": {
            "text/html": [
              "<div>\n",
              "<style scoped>\n",
              "    .dataframe tbody tr th:only-of-type {\n",
              "        vertical-align: middle;\n",
              "    }\n",
              "\n",
              "    .dataframe tbody tr th {\n",
              "        vertical-align: top;\n",
              "    }\n",
              "\n",
              "    .dataframe thead th {\n",
              "        text-align: right;\n",
              "    }\n",
              "</style>\n",
              "<table border=\"1\" class=\"dataframe\">\n",
              "  <thead>\n",
              "    <tr style=\"text-align: right;\">\n",
              "      <th></th>\n",
              "      <th>sample</th>\n",
              "      <th>republican</th>\n",
              "      <th>democrat</th>\n",
              "      <th>difference</th>\n",
              "      <th>t-value</th>\n",
              "      <th>p-value</th>\n",
              "      <th>Hyp-0</th>\n",
              "      <th>Hyp_a</th>\n",
              "    </tr>\n",
              "  </thead>\n",
              "  <tbody>\n",
              "    <tr>\n",
              "      <th>0</th>\n",
              "      <td>budget</td>\n",
              "      <td>0.134146</td>\n",
              "      <td>0.888462</td>\n",
              "      <td>-0.754315</td>\n",
              "      <td>-23.2128</td>\n",
              "      <td>2.07034e-77</td>\n",
              "      <td>False</td>\n",
              "      <td>True</td>\n",
              "    </tr>\n",
              "    <tr>\n",
              "      <th>1</th>\n",
              "      <td>aid-to-contras</td>\n",
              "      <td>0.152866</td>\n",
              "      <td>0.828897</td>\n",
              "      <td>-0.676031</td>\n",
              "      <td>-18.0521</td>\n",
              "      <td>2.82472e-54</td>\n",
              "      <td>False</td>\n",
              "      <td>True</td>\n",
              "    </tr>\n",
              "    <tr>\n",
              "      <th>2</th>\n",
              "      <td>mx-missile</td>\n",
              "      <td>0.115152</td>\n",
              "      <td>0.758065</td>\n",
              "      <td>-0.642913</td>\n",
              "      <td>-16.4375</td>\n",
              "      <td>5.03079e-47</td>\n",
              "      <td>False</td>\n",
              "      <td>True</td>\n",
              "    </tr>\n",
              "    <tr>\n",
              "      <th>3</th>\n",
              "      <td>duty-free</td>\n",
              "      <td>0.089744</td>\n",
              "      <td>0.637450</td>\n",
              "      <td>-0.547707</td>\n",
              "      <td>-12.8531</td>\n",
              "      <td>5.9977e-32</td>\n",
              "      <td>False</td>\n",
              "      <td>True</td>\n",
              "    </tr>\n",
              "    <tr>\n",
              "      <th>4</th>\n",
              "      <td>anti-satellite-ban</td>\n",
              "      <td>0.240741</td>\n",
              "      <td>0.772201</td>\n",
              "      <td>-0.531460</td>\n",
              "      <td>-12.5262</td>\n",
              "      <td>8.52103e-31</td>\n",
              "      <td>False</td>\n",
              "      <td>True</td>\n",
              "    </tr>\n",
              "    <tr>\n",
              "      <th>5</th>\n",
              "      <td>handicapped-infants</td>\n",
              "      <td>0.187879</td>\n",
              "      <td>0.604651</td>\n",
              "      <td>-0.416772</td>\n",
              "      <td>-9.20526</td>\n",
              "      <td>1.61344e-18</td>\n",
              "      <td>False</td>\n",
              "      <td>True</td>\n",
              "    </tr>\n",
              "    <tr>\n",
              "      <th>6</th>\n",
              "      <td>synfuels</td>\n",
              "      <td>0.132075</td>\n",
              "      <td>0.505882</td>\n",
              "      <td>-0.373807</td>\n",
              "      <td>-8.2936</td>\n",
              "      <td>1.57593e-15</td>\n",
              "      <td>False</td>\n",
              "      <td>True</td>\n",
              "    </tr>\n",
              "    <tr>\n",
              "      <th>7</th>\n",
              "      <td>south-africa</td>\n",
              "      <td>0.657534</td>\n",
              "      <td>0.935135</td>\n",
              "      <td>-0.277601</td>\n",
              "      <td>-6.84945</td>\n",
              "      <td>3.65267e-11</td>\n",
              "      <td>False</td>\n",
              "      <td>True</td>\n",
              "    </tr>\n",
              "    <tr>\n",
              "      <th>8</th>\n",
              "      <td>water-project</td>\n",
              "      <td>0.506757</td>\n",
              "      <td>0.502092</td>\n",
              "      <td>0.004665</td>\n",
              "      <td>0.0889654</td>\n",
              "      <td>0.929156</td>\n",
              "      <td>True</td>\n",
              "      <td>False</td>\n",
              "    </tr>\n",
              "    <tr>\n",
              "      <th>9</th>\n",
              "      <td>immigration</td>\n",
              "      <td>0.557576</td>\n",
              "      <td>0.471483</td>\n",
              "      <td>0.086093</td>\n",
              "      <td>1.73591</td>\n",
              "      <td>0.0833025</td>\n",
              "      <td>False</td>\n",
              "      <td>True</td>\n",
              "    </tr>\n",
              "    <tr>\n",
              "      <th>10</th>\n",
              "      <td>religious-groups</td>\n",
              "      <td>0.897590</td>\n",
              "      <td>0.476744</td>\n",
              "      <td>0.420846</td>\n",
              "      <td>9.73758</td>\n",
              "      <td>2.39367e-20</td>\n",
              "      <td>False</td>\n",
              "      <td>True</td>\n",
              "    </tr>\n",
              "    <tr>\n",
              "      <th>11</th>\n",
              "      <td>right-to-sue</td>\n",
              "      <td>0.860759</td>\n",
              "      <td>0.289683</td>\n",
              "      <td>0.571077</td>\n",
              "      <td>13.5106</td>\n",
              "      <td>1.22786e-34</td>\n",
              "      <td>False</td>\n",
              "      <td>True</td>\n",
              "    </tr>\n",
              "    <tr>\n",
              "      <th>12</th>\n",
              "      <td>crime</td>\n",
              "      <td>0.981366</td>\n",
              "      <td>0.350195</td>\n",
              "      <td>0.631172</td>\n",
              "      <td>16.3421</td>\n",
              "      <td>9.95234e-47</td>\n",
              "      <td>False</td>\n",
              "      <td>True</td>\n",
              "    </tr>\n",
              "    <tr>\n",
              "      <th>13</th>\n",
              "      <td>education</td>\n",
              "      <td>0.870968</td>\n",
              "      <td>0.144578</td>\n",
              "      <td>0.726389</td>\n",
              "      <td>20.5007</td>\n",
              "      <td>1.88342e-64</td>\n",
              "      <td>False</td>\n",
              "      <td>True</td>\n",
              "    </tr>\n",
              "    <tr>\n",
              "      <th>14</th>\n",
              "      <td>el-salvador-aid</td>\n",
              "      <td>0.951515</td>\n",
              "      <td>0.215686</td>\n",
              "      <td>0.735829</td>\n",
              "      <td>21.1367</td>\n",
              "      <td>5.60052e-68</td>\n",
              "      <td>False</td>\n",
              "      <td>True</td>\n",
              "    </tr>\n",
              "    <tr>\n",
              "      <th>15</th>\n",
              "      <td>physician-fee-freeze</td>\n",
              "      <td>0.987879</td>\n",
              "      <td>0.054054</td>\n",
              "      <td>0.933825</td>\n",
              "      <td>49.3671</td>\n",
              "      <td>1.99426e-177</td>\n",
              "      <td>False</td>\n",
              "      <td>True</td>\n",
              "    </tr>\n",
              "  </tbody>\n",
              "</table>\n",
              "</div>"
            ],
            "text/plain": [
              "                  sample  republican  democrat  ...       p-value  Hyp-0  Hyp_a\n",
              "0                 budget    0.134146  0.888462  ...   2.07034e-77  False   True\n",
              "1         aid-to-contras    0.152866  0.828897  ...   2.82472e-54  False   True\n",
              "2             mx-missile    0.115152  0.758065  ...   5.03079e-47  False   True\n",
              "3              duty-free    0.089744  0.637450  ...    5.9977e-32  False   True\n",
              "4     anti-satellite-ban    0.240741  0.772201  ...   8.52103e-31  False   True\n",
              "5    handicapped-infants    0.187879  0.604651  ...   1.61344e-18  False   True\n",
              "6               synfuels    0.132075  0.505882  ...   1.57593e-15  False   True\n",
              "7           south-africa    0.657534  0.935135  ...   3.65267e-11  False   True\n",
              "8          water-project    0.506757  0.502092  ...      0.929156   True  False\n",
              "9            immigration    0.557576  0.471483  ...     0.0833025  False   True\n",
              "10      religious-groups    0.897590  0.476744  ...   2.39367e-20  False   True\n",
              "11          right-to-sue    0.860759  0.289683  ...   1.22786e-34  False   True\n",
              "12                 crime    0.981366  0.350195  ...   9.95234e-47  False   True\n",
              "13             education    0.870968  0.144578  ...   1.88342e-64  False   True\n",
              "14       el-salvador-aid    0.951515  0.215686  ...   5.60052e-68  False   True\n",
              "15  physician-fee-freeze    0.987879  0.054054  ...  1.99426e-177  False   True\n",
              "\n",
              "[16 rows x 8 columns]"
            ]
          },
          "metadata": {
            "tags": []
          },
          "execution_count": 13
        }
      ]
    },
    {
      "cell_type": "markdown",
      "metadata": {
        "id": "Sa_XK7CMCmdv",
        "colab_type": "text"
      },
      "source": [
        "#Summarize all those reports"
      ]
    },
    {
      "cell_type": "code",
      "metadata": {
        "id": "7IbA1H7ZfaZj",
        "colab_type": "code",
        "outputId": "79f2a7fb-4ff1-49cc-a1fa-333b89382657",
        "colab": {
          "base_uri": "https://localhost:8080/",
          "height": 90
        }
      },
      "source": [
        "# summarize results\n",
        "dems_support = list(result1_df[(result1_df['democrat'] > result1_df['republican']) & \\\n",
        "                          (result1_df['p-value'] < 0.01)]['sample'])\n",
        "reps_support = list(result1_df[(result1_df['democrat'] < result1_df['republican']) & \\\n",
        "                          (result1_df['p-value'] < 0.01)]['sample'])\n",
        "agree = list(result2_df[result2_df['p-value'] > 0.1]['sample'])\n",
        "print('Issues democrats support over republicans (p < 0.01):', dems_support)\n",
        "print('Issues republicans support over democrats (p < 0.01):', reps_support)\n",
        "print('Issues they agree on (p > 0.1):', agree)"
      ],
      "execution_count": 14,
      "outputs": [
        {
          "output_type": "stream",
          "text": [
            "Issues democrats support over republicans (p < 0.01): ['budget', 'aid-to-contras', 'mx-missile', 'duty-free', 'anti-satellite-ban', 'handicapped-infants', 'synfuels', 'south-africa']\n",
            "Issues republicans support over democrats (p < 0.01): ['religious-groups', 'right-to-sue', 'crime', 'education', 'el-salvador-aid', 'physician-fee-freeze']\n",
            "Issues they agree on (p > 0.1): ['water-project']\n"
          ],
          "name": "stdout"
        }
      ]
    },
    {
      "cell_type": "markdown",
      "metadata": {
        "id": "wcA_AvvRAqW_",
        "colab_type": "text"
      },
      "source": [
        "## Stretch Goals:\n",
        "\n",
        "1. Refactor your code into functions so it's easy to rerun with arbitrary variables *(Implemented above)*  \n",
        "\n",
        "2. Work on Performing a T-test without using Scipy in order to get \"under the hood\" and learn more thoroughly about this topic.  \n",
        "\n",
        "### Start with a 1-sample t-test\n",
        " - Establish the conditions for your test \n",
        " - [Calculate the T Statistic](https://blog.minitab.com/hs-fs/hubfs/Imported_Blog_Media/701f9c0efa98a38fb397f3c3ec459b66.png?width=247&height=172&name=701f9c0efa98a38fb397f3c3ec459b66.png) (You'll need to omit NaN values from your sample).\n",
        " - Translate that t-statistic into a P-value. You can use a [table](https://www.google.com/search?q=t+statistic+table) or the [University of Iowa Applet](https://homepage.divms.uiowa.edu/~mbognar/applets/t.html)\n",
        "\n",
        "\n",
        " ### Then check your Answers using Scipy!"
      ]
    },
    {
      "cell_type": "code",
      "metadata": {
        "id": "7sr1mwLQH6m0",
        "colab_type": "code",
        "colab": {}
      },
      "source": [
        "def our_1sampletest(dframe, sample, mean_0):\n",
        "  '''\n",
        "    Implement one sample t-test\n",
        "\n",
        "    dframe: dataframe\n",
        "    sample: the column to be tested\n",
        "    mean_0: the expected mean for null hypothesis\n",
        "\n",
        "    Returns t-value\n",
        "  '''\n",
        "\n",
        "  n = len(dframe[sample])\n",
        "  # sample mean\n",
        "  sample_mean = sum(dframe[sample]) / n\n",
        "\n",
        "  # sample standard deviation\n",
        "  sample_std = np.sqrt(sum((dframe[sample] - sample_mean) ** 2) / (n - 1))\n",
        "\n",
        "  # single sample t-test\n",
        "  t_value = (sample_mean - mean_0) / (sample_std / np.sqrt(n))\n",
        "\n",
        "  test_results = pd.Series([sample_mean, sample_std, t_value], \n",
        "                           index=['mean', 'std', 't_value'])\n",
        "  return test_results\n"
      ],
      "execution_count": 0,
      "outputs": []
    },
    {
      "cell_type": "markdown",
      "metadata": {
        "id": "BDS6rDANR9WP",
        "colab_type": "text"
      },
      "source": [
        "What we are testing here will be the abstaining rates for both parties. Are they differ from a probability of 5%, let's say. How delinquent are these guys? The null hypothesis is they will be absent about 5% of the time, with a CL of 95%. Are they better (or worse) then that?"
      ]
    },
    {
      "cell_type": "code",
      "metadata": {
        "id": "8NyBBbVSDxmL",
        "colab_type": "code",
        "outputId": "4870f006-1056-4750-b4b8-7c2ca3e5360b",
        "colab": {
          "base_uri": "https://localhost:8080/",
          "height": 197
        }
      },
      "source": [
        "# We will want all the votes for each party in one column\n",
        "republican_tidy = dframes[0].melt(id_vars='party')\n",
        "democrat_tidy = dframes[1].melt(id_vars='party')\n",
        "\n",
        "# For these tests on want to recode 0 or 1 to zero, and NaNs to 1, so we can test\n",
        "# abstentions\n",
        "republican_tidy.replace({0:0, 1:0}, inplace=True)\n",
        "republican_tidy.fillna(1, inplace=True)\n",
        "\n",
        "democrat_tidy.replace({0:0, 1:0}, inplace=True)\n",
        "democrat_tidy.fillna(1, inplace=True)\n",
        "republican_tidy.sample(5)\n"
      ],
      "execution_count": 16,
      "outputs": [
        {
          "output_type": "execute_result",
          "data": {
            "text/html": [
              "<div>\n",
              "<style scoped>\n",
              "    .dataframe tbody tr th:only-of-type {\n",
              "        vertical-align: middle;\n",
              "    }\n",
              "\n",
              "    .dataframe tbody tr th {\n",
              "        vertical-align: top;\n",
              "    }\n",
              "\n",
              "    .dataframe thead th {\n",
              "        text-align: right;\n",
              "    }\n",
              "</style>\n",
              "<table border=\"1\" class=\"dataframe\">\n",
              "  <thead>\n",
              "    <tr style=\"text-align: right;\">\n",
              "      <th></th>\n",
              "      <th>party</th>\n",
              "      <th>variable</th>\n",
              "      <th>value</th>\n",
              "    </tr>\n",
              "  </thead>\n",
              "  <tbody>\n",
              "    <tr>\n",
              "      <th>2110</th>\n",
              "      <td>republican</td>\n",
              "      <td>right-to-sue</td>\n",
              "      <td>1.0</td>\n",
              "    </tr>\n",
              "    <tr>\n",
              "      <th>2665</th>\n",
              "      <td>republican</td>\n",
              "      <td>south-africa</td>\n",
              "      <td>1.0</td>\n",
              "    </tr>\n",
              "    <tr>\n",
              "      <th>2100</th>\n",
              "      <td>republican</td>\n",
              "      <td>right-to-sue</td>\n",
              "      <td>0.0</td>\n",
              "    </tr>\n",
              "    <tr>\n",
              "      <th>1766</th>\n",
              "      <td>republican</td>\n",
              "      <td>synfuels</td>\n",
              "      <td>0.0</td>\n",
              "    </tr>\n",
              "    <tr>\n",
              "      <th>398</th>\n",
              "      <td>republican</td>\n",
              "      <td>budget</td>\n",
              "      <td>0.0</td>\n",
              "    </tr>\n",
              "  </tbody>\n",
              "</table>\n",
              "</div>"
            ],
            "text/plain": [
              "           party      variable  value\n",
              "2110  republican  right-to-sue    1.0\n",
              "2665  republican  south-africa    1.0\n",
              "2100  republican  right-to-sue    0.0\n",
              "1766  republican      synfuels    0.0\n",
              "398   republican        budget    0.0"
            ]
          },
          "metadata": {
            "tags": []
          },
          "execution_count": 16
        }
      ]
    },
    {
      "cell_type": "code",
      "metadata": {
        "id": "LyvYa9X9OQoY",
        "colab_type": "code",
        "colab": {}
      },
      "source": [
        "# Our test\n",
        "from scipy.stats import t\n",
        "\n",
        "def our_1samp_test(dframe, sample, mean_0, alpha):\n",
        "  test_values = our_1sampletest(dframe, 'value', mean_0)\n",
        "  test_values['df'] = len(dframe[sample]) - 1\n",
        "\n",
        "  # use scipy to get p value from our t statistic\n",
        "  p =  t.cdf(test_values['t_value'], df=test_values['df'])\n",
        "\n",
        "  # determine which tail, if t_value > 0 is right, if < 0 left\n",
        "  p = p if test_values['t_value'] < 0 else 1 - p\n",
        "\n",
        "  # multiply p value by 2 as two tail test\n",
        "  test_values['p_value'] = 2 * p\n",
        "\n",
        "  test_values['hyp_0'] = test_values['p_value'] >= alpha\n",
        "  test_values['hyp_a'] = test_values['p_value'] < alpha\n",
        "  return test_values\n"
      ],
      "execution_count": 0,
      "outputs": []
    },
    {
      "cell_type": "code",
      "metadata": {
        "id": "WPSkjJ-Z7Fm8",
        "colab_type": "code",
        "outputId": "99ec8c75-8e8d-45ec-f5ea-942ad63bdc05",
        "colab": {
          "base_uri": "https://localhost:8080/",
          "height": 158
        }
      },
      "source": [
        "test_values = our_1samp_test(republican_tidy, 'value', 0.05, 0.01)\n",
        "test_values"
      ],
      "execution_count": 18,
      "outputs": [
        {
          "output_type": "execute_result",
          "data": {
            "text/plain": [
              "mean          0.048735\n",
              "std           0.215354\n",
              "t_value      -0.304517\n",
              "df         2687.000000\n",
              "p_value       0.760758\n",
              "hyp_0         1.000000\n",
              "hyp_a         0.000000\n",
              "dtype: float64"
            ]
          },
          "metadata": {
            "tags": []
          },
          "execution_count": 18
        }
      ]
    },
    {
      "cell_type": "code",
      "metadata": {
        "id": "NOs3Y_t4QPxb",
        "colab_type": "code",
        "outputId": "c7ef8a5d-f657-4c70-a639-6c0692ebd8f5",
        "colab": {
          "base_uri": "https://localhost:8080/",
          "height": 34
        }
      },
      "source": [
        "# SCIPY test to compare values\n",
        "ttest_1samp(republican_tidy['value'], 0.05)"
      ],
      "execution_count": 19,
      "outputs": [
        {
          "output_type": "execute_result",
          "data": {
            "text/plain": [
              "Ttest_1sampResult(statistic=-0.3045171372903114, pvalue=0.7607575205691236)"
            ]
          },
          "metadata": {
            "tags": []
          },
          "execution_count": 19
        }
      ]
    },
    {
      "cell_type": "code",
      "metadata": {
        "id": "5gfulc3z8APT",
        "colab_type": "code",
        "outputId": "3be2ab7e-146b-43c1-fa8f-ef39292028aa",
        "colab": {
          "base_uri": "https://localhost:8080/",
          "height": 158
        }
      },
      "source": [
        "test_values = our_1samp_test(democrat_tidy, 'value', 0.05, 0.01)\n",
        "test_values"
      ],
      "execution_count": 20,
      "outputs": [
        {
          "output_type": "execute_result",
          "data": {
            "text/plain": [
              "mean          0.061096\n",
              "std           0.239533\n",
              "t_value       3.027586\n",
              "df         4271.000000\n",
              "p_value       0.002480\n",
              "hyp_0         0.000000\n",
              "hyp_a         1.000000\n",
              "dtype: float64"
            ]
          },
          "metadata": {
            "tags": []
          },
          "execution_count": 20
        }
      ]
    },
    {
      "cell_type": "code",
      "metadata": {
        "id": "l6MZfbAL8IfI",
        "colab_type": "code",
        "outputId": "c2371c8e-a2f4-4910-d539-af18ce3fa5fd",
        "colab": {
          "base_uri": "https://localhost:8080/",
          "height": 34
        }
      },
      "source": [
        "# SCIPY test to compare values\n",
        "ttest_1samp(democrat_tidy['value'], 0.05)"
      ],
      "execution_count": 21,
      "outputs": [
        {
          "output_type": "execute_result",
          "data": {
            "text/plain": [
              "Ttest_1sampResult(statistic=3.0275863792291657, pvalue=0.002479871332732574)"
            ]
          },
          "metadata": {
            "tags": []
          },
          "execution_count": 21
        }
      ]
    },
    {
      "cell_type": "markdown",
      "metadata": {
        "id": "QJyYirKC6Rg-",
        "colab_type": "text"
      },
      "source": [
        "Null hypothesis is not rejected on republicans, but it is on the democrats. The latter abstain on votes significantly more than 5% of the time."
      ]
    },
    {
      "cell_type": "markdown",
      "metadata": {
        "id": "ikvfg-ERDooi",
        "colab_type": "text"
      },
      "source": [
        " ### Then try a 2-sample t-test\n",
        " - Establish the conditions for your test \n",
        " - [Calculate the T Statistic](https://lh3.googleusercontent.com/proxy/rJJ5ZOL9ZDvKOOeBihXoZDgfk7uv1YsRzSQ1Tc10RX-r2HrRpRLVqlE9CWX23csYQXcTniFwlBg3H-qR8MKJPBGnjwndqlhDX3JxoDE5Yg) (You'll need to omit NaN values from your sample).\n",
        " - Translate that t-statistic into a P-value. You can use a [table](https://www.google.com/search?q=t+statistic+table) or the [University of Iowa Applet](https://homepage.divms.uiowa.edu/~mbognar/applets/t.html)\n"
      ]
    },
    {
      "cell_type": "code",
      "metadata": {
        "id": "rfSuogncZeas",
        "colab_type": "code",
        "colab": {}
      },
      "source": [
        "def our_2sampletest(dframe1, dframe2, sample1, sample2):\n",
        "  '''\n",
        "    Implement unpaired two sample t-test\n",
        "\n",
        "    dframe1, dframe2: dataframes to compare\n",
        "    sample1, sample2: the samples to be tested\n",
        "\n",
        "    Returns t-value\n",
        "  '''\n",
        "\n",
        "  n_1 = len(dframe1[sample1])\n",
        "  n_2 = len(dframe2[sample2])\n",
        "\n",
        "  # sample means\n",
        "  sample1_mean = sum(dframe1[sample1]) / n_1\n",
        "  sample2_mean = sum(dframe2[sample2]) / n_2\n",
        "\n",
        "  # sample standard deviation\n",
        "  var_common = (sum((dframe1[sample1] - sample1_mean)**2) + \\\n",
        "                sum((dframe2[sample2] - sample2_mean)**2)) / \\\n",
        "                (n_1 + n_2 - 2)\n",
        "\n",
        "  # unpaired two sample t-test\n",
        "  t_value = (sample1_mean - sample2_mean) / np.sqrt(var_common / n_1 + \\\n",
        "                                                       var_common / n_2)\n",
        "\n",
        "  test_results = pd.Series([sample1_mean, sample2_mean, t_value],\n",
        "                           index = ['mean1', 'mean2', 't_value'])\n",
        "  return test_results"
      ],
      "execution_count": 0,
      "outputs": []
    },
    {
      "cell_type": "markdown",
      "metadata": {
        "id": "ZsghOJFr_JfT",
        "colab_type": "text"
      },
      "source": [
        "How much do their absenteeism differ? Null hypothesis is that they do not differ signicantly. 99% CL."
      ]
    },
    {
      "cell_type": "code",
      "metadata": {
        "id": "gkImRoR6cdTQ",
        "colab_type": "code",
        "colab": {}
      },
      "source": [
        "def our_2samp_test(dframe1, dframe2, sample1, sample2, alpha):\n",
        "\n",
        "  test_values = our_2sampletest(dframe1, dframe2, sample1, sample2)\n",
        "  test_values['df'] = len(dframe1[sample1]) + len(dframe2[sample2]) - 2\n",
        "\n",
        "  # use scipy to get p value from our t statistic\n",
        "  p =  t.cdf(test_values['t_value'], df=test_values['df'])\n",
        "\n",
        "  # determine which tail, if t_value < 0 is left, if > 0 then right\n",
        "  p = p if test_values['t_value'] < 0 else 1 - p\n",
        "\n",
        "  # multiply p by 2 as two tail test\n",
        "  test_values['p_value'] = 2 * p\n",
        "\n",
        "  test_values['hyp_0'] = test_values['p_value'] >= alpha\n",
        "  test_values['hyp_a'] = test_values['p_value'] < alpha\n",
        "  return test_values"
      ],
      "execution_count": 0,
      "outputs": []
    },
    {
      "cell_type": "code",
      "metadata": {
        "id": "wfn582UDSpcO",
        "colab_type": "code",
        "colab": {
          "base_uri": "https://localhost:8080/",
          "height": 158
        },
        "outputId": "398e76f7-d3c5-4568-db3b-769e842b3528"
      },
      "source": [
        "our_2samp_test(republican_tidy, democrat_tidy, 'value', 'value', 0.01)"
      ],
      "execution_count": 26,
      "outputs": [
        {
          "output_type": "execute_result",
          "data": {
            "text/plain": [
              "mean1         0.048735\n",
              "mean2         0.061096\n",
              "t_value      -2.178176\n",
              "df         6958.000000\n",
              "p_value       0.029426\n",
              "hyp_0         1.000000\n",
              "hyp_a         0.000000\n",
              "dtype: float64"
            ]
          },
          "metadata": {
            "tags": []
          },
          "execution_count": 26
        }
      ]
    },
    {
      "cell_type": "code",
      "metadata": {
        "id": "u1DT9XsbGIj1",
        "colab_type": "code",
        "outputId": "437ff547-01c4-4fc9-919c-5db67248c7bd",
        "colab": {
          "base_uri": "https://localhost:8080/",
          "height": 34
        }
      },
      "source": [
        "# SCIPY test to compare values\n",
        "ttest_ind(republican_tidy['value'], democrat_tidy['value'])\n"
      ],
      "execution_count": 27,
      "outputs": [
        {
          "output_type": "execute_result",
          "data": {
            "text/plain": [
              "Ttest_indResult(statistic=-2.178175806985032, pvalue=0.02942641269835807)"
            ]
          },
          "metadata": {
            "tags": []
          },
          "execution_count": 27
        }
      ]
    },
    {
      "cell_type": "markdown",
      "metadata": {
        "id": "bZET_med-6ry",
        "colab_type": "text"
      },
      "source": [
        "Null hypothesis is not rejected. Their rates of abstaining on votes does not differ significantly.\n"
      ]
    }
  ]
}