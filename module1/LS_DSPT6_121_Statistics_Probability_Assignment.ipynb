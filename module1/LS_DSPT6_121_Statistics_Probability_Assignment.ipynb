{
  "nbformat": 4,
  "nbformat_minor": 0,
  "metadata": {
    "kernelspec": {
      "display_name": "Python 3",
      "language": "python",
      "name": "python3"
    },
    "language_info": {
      "codemirror_mode": {
        "name": "ipython",
        "version": 3
      },
      "file_extension": ".py",
      "mimetype": "text/x-python",
      "name": "python",
      "nbconvert_exporter": "python",
      "pygments_lexer": "ipython3",
      "version": "3.7.3"
    },
    "colab": {
      "name": "LS_DSPT6_121_Statistics_Probability_Assignment.ipynb",
      "provenance": [],
      "collapsed_sections": [],
      "include_colab_link": true
    }
  },
  "cells": [
    {
      "cell_type": "markdown",
      "metadata": {
        "id": "view-in-github",
        "colab_type": "text"
      },
      "source": [
        "<a href=\"https://colab.research.google.com/github/vjmiyagi/DS-Unit-1-Sprint-2-Statistics/blob/master/module1/LS_DSPT6_121_Statistics_Probability_Assignment.ipynb\" target=\"_parent\"><img src=\"https://colab.research.google.com/assets/colab-badge.svg\" alt=\"Open In Colab\"/></a>"
      ]
    },
    {
      "cell_type": "markdown",
      "metadata": {
        "id": "Sa5KWMO1ngPN",
        "colab_type": "text"
      },
      "source": [
        "<img align=\"left\" src=\"https://lever-client-logos.s3.amazonaws.com/864372b1-534c-480e-acd5-9711f850815c-1524247202159.png\" width=200>\n",
        "<br></br>\n",
        "<br></br>\n",
        "\n",
        "## *Data Science Unit 1 Sprint 2 Assignment 1*\n",
        "\n",
        "# Apply the t-test to real data\n",
        "\n",
        "Your assignment is to determine which issues have \"statistically significant\" differences between political parties in this [1980s congressional voting data](https://archive.ics.uci.edu/ml/datasets/Congressional+Voting+Records). The data consists of 435 instances (one for each congressperson), a class (democrat or republican), and 16 binary attributes (yes or no for voting for or against certain issues). Be aware - there are missing values!\n",
        "\n",
        "Your goals:\n",
        "\n",
        "1. Load and clean the data (or determine the best method to drop observations when running tests)\n",
        "2. Using hypothesis testing, find an issue that democrats support more than republicans with p < 0.01\n",
        "3. Using hypothesis testing, find an issue that republicans support more than democrats with p < 0.01\n",
        "4. Using hypothesis testing, find an issue where the difference between republicans and democrats has p > 0.1 (i.e. there may not be much of a difference)\n",
        "\n",
        "Note that this data will involve *2 sample* t-tests, because you're comparing averages across two groups (republicans and democrats) rather than a single group against a null hypothesis."
      ]
    },
    {
      "cell_type": "code",
      "metadata": {
        "id": "ZKwspo2CngPP",
        "colab_type": "code",
        "outputId": "459d8b9f-37c7-4f0a-c71d-301690a20e08",
        "colab": {
          "base_uri": "https://localhost:8080/",
          "height": 288
        }
      },
      "source": [
        "### YOUR CODE STARTS HERE\n",
        "\n",
        "# imports\n",
        "import pandas as pd\n",
        "import numpy as np \n",
        "import seaborn as sns\n",
        "import matplotlib.pyplot as plt\n",
        "from scipy.stats import ttest_ind\n",
        "from matplotlib import rc\n",
        "\n",
        "# Get the data\n",
        "\n",
        "# wget\n",
        "! wget https://archive.ics.uci.edu/ml/machine-learning-databases/voting-records/house-votes-84.data --no-check-certificate"
      ],
      "execution_count": 1,
      "outputs": [
        {
          "output_type": "stream",
          "text": [
            "/usr/local/lib/python3.6/dist-packages/statsmodels/tools/_testing.py:19: FutureWarning: pandas.util.testing is deprecated. Use the functions in the public API at pandas.testing instead.\n",
            "  import pandas.util.testing as tm\n"
          ],
          "name": "stderr"
        },
        {
          "output_type": "stream",
          "text": [
            "--2020-04-09 02:11:58--  https://archive.ics.uci.edu/ml/machine-learning-databases/voting-records/house-votes-84.data\n",
            "Resolving archive.ics.uci.edu (archive.ics.uci.edu)... 128.195.10.252\n",
            "Connecting to archive.ics.uci.edu (archive.ics.uci.edu)|128.195.10.252|:443... connected.\n",
            "WARNING: cannot verify archive.ics.uci.edu's certificate, issued by ‘CN=InCommon RSA Server CA,OU=InCommon,O=Internet2,L=Ann Arbor,ST=MI,C=US’:\n",
            "  Issued certificate has expired.\n",
            "HTTP request sent, awaiting response... 200 OK\n",
            "Length: 18171 (18K) [application/x-httpd-php]\n",
            "Saving to: ‘house-votes-84.data’\n",
            "\n",
            "\rhouse-votes-84.data   0%[                    ]       0  --.-KB/s               \rhouse-votes-84.data 100%[===================>]  17.75K  --.-KB/s    in 0.03s   \n",
            "\n",
            "2020-04-09 02:11:58 (634 KB/s) - ‘house-votes-84.data’ saved [18171/18171]\n",
            "\n"
          ],
          "name": "stdout"
        }
      ]
    },
    {
      "cell_type": "code",
      "metadata": {
        "id": "MF46sDii8Zpv",
        "colab_type": "code",
        "outputId": "676ba851-804b-48b0-9c52-8710c242ab89",
        "colab": {
          "base_uri": "https://localhost:8080/",
          "height": 458
        }
      },
      "source": [
        "# Make DataFrame\n",
        "cols = ['party','handicapped-infants','water-project',\n",
        "                          'budget','physician-fee-freeze', 'el-salvador-aid',\n",
        "                          'religious-groups','anti-satellite-ban',\n",
        "                          'aid-to-contras','mx-missile','immigration',\n",
        "                          'synfuels', 'education', 'right-to-sue','crime','duty-free',\n",
        "                          'south-africa']\n",
        "house = pd.read_csv('house-votes-84.data',header=None,\n",
        "                    names=cols,\n",
        "                    na_values='?')\n",
        "house"
      ],
      "execution_count": 2,
      "outputs": [
        {
          "output_type": "execute_result",
          "data": {
            "text/html": [
              "<div>\n",
              "<style scoped>\n",
              "    .dataframe tbody tr th:only-of-type {\n",
              "        vertical-align: middle;\n",
              "    }\n",
              "\n",
              "    .dataframe tbody tr th {\n",
              "        vertical-align: top;\n",
              "    }\n",
              "\n",
              "    .dataframe thead th {\n",
              "        text-align: right;\n",
              "    }\n",
              "</style>\n",
              "<table border=\"1\" class=\"dataframe\">\n",
              "  <thead>\n",
              "    <tr style=\"text-align: right;\">\n",
              "      <th></th>\n",
              "      <th>party</th>\n",
              "      <th>handicapped-infants</th>\n",
              "      <th>water-project</th>\n",
              "      <th>budget</th>\n",
              "      <th>physician-fee-freeze</th>\n",
              "      <th>el-salvador-aid</th>\n",
              "      <th>religious-groups</th>\n",
              "      <th>anti-satellite-ban</th>\n",
              "      <th>aid-to-contras</th>\n",
              "      <th>mx-missile</th>\n",
              "      <th>immigration</th>\n",
              "      <th>synfuels</th>\n",
              "      <th>education</th>\n",
              "      <th>right-to-sue</th>\n",
              "      <th>crime</th>\n",
              "      <th>duty-free</th>\n",
              "      <th>south-africa</th>\n",
              "    </tr>\n",
              "  </thead>\n",
              "  <tbody>\n",
              "    <tr>\n",
              "      <th>0</th>\n",
              "      <td>republican</td>\n",
              "      <td>n</td>\n",
              "      <td>y</td>\n",
              "      <td>n</td>\n",
              "      <td>y</td>\n",
              "      <td>y</td>\n",
              "      <td>y</td>\n",
              "      <td>n</td>\n",
              "      <td>n</td>\n",
              "      <td>n</td>\n",
              "      <td>y</td>\n",
              "      <td>NaN</td>\n",
              "      <td>y</td>\n",
              "      <td>y</td>\n",
              "      <td>y</td>\n",
              "      <td>n</td>\n",
              "      <td>y</td>\n",
              "    </tr>\n",
              "    <tr>\n",
              "      <th>1</th>\n",
              "      <td>republican</td>\n",
              "      <td>n</td>\n",
              "      <td>y</td>\n",
              "      <td>n</td>\n",
              "      <td>y</td>\n",
              "      <td>y</td>\n",
              "      <td>y</td>\n",
              "      <td>n</td>\n",
              "      <td>n</td>\n",
              "      <td>n</td>\n",
              "      <td>n</td>\n",
              "      <td>n</td>\n",
              "      <td>y</td>\n",
              "      <td>y</td>\n",
              "      <td>y</td>\n",
              "      <td>n</td>\n",
              "      <td>NaN</td>\n",
              "    </tr>\n",
              "    <tr>\n",
              "      <th>2</th>\n",
              "      <td>democrat</td>\n",
              "      <td>NaN</td>\n",
              "      <td>y</td>\n",
              "      <td>y</td>\n",
              "      <td>NaN</td>\n",
              "      <td>y</td>\n",
              "      <td>y</td>\n",
              "      <td>n</td>\n",
              "      <td>n</td>\n",
              "      <td>n</td>\n",
              "      <td>n</td>\n",
              "      <td>y</td>\n",
              "      <td>n</td>\n",
              "      <td>y</td>\n",
              "      <td>y</td>\n",
              "      <td>n</td>\n",
              "      <td>n</td>\n",
              "    </tr>\n",
              "    <tr>\n",
              "      <th>3</th>\n",
              "      <td>democrat</td>\n",
              "      <td>n</td>\n",
              "      <td>y</td>\n",
              "      <td>y</td>\n",
              "      <td>n</td>\n",
              "      <td>NaN</td>\n",
              "      <td>y</td>\n",
              "      <td>n</td>\n",
              "      <td>n</td>\n",
              "      <td>n</td>\n",
              "      <td>n</td>\n",
              "      <td>y</td>\n",
              "      <td>n</td>\n",
              "      <td>y</td>\n",
              "      <td>n</td>\n",
              "      <td>n</td>\n",
              "      <td>y</td>\n",
              "    </tr>\n",
              "    <tr>\n",
              "      <th>4</th>\n",
              "      <td>democrat</td>\n",
              "      <td>y</td>\n",
              "      <td>y</td>\n",
              "      <td>y</td>\n",
              "      <td>n</td>\n",
              "      <td>y</td>\n",
              "      <td>y</td>\n",
              "      <td>n</td>\n",
              "      <td>n</td>\n",
              "      <td>n</td>\n",
              "      <td>n</td>\n",
              "      <td>y</td>\n",
              "      <td>NaN</td>\n",
              "      <td>y</td>\n",
              "      <td>y</td>\n",
              "      <td>y</td>\n",
              "      <td>y</td>\n",
              "    </tr>\n",
              "    <tr>\n",
              "      <th>...</th>\n",
              "      <td>...</td>\n",
              "      <td>...</td>\n",
              "      <td>...</td>\n",
              "      <td>...</td>\n",
              "      <td>...</td>\n",
              "      <td>...</td>\n",
              "      <td>...</td>\n",
              "      <td>...</td>\n",
              "      <td>...</td>\n",
              "      <td>...</td>\n",
              "      <td>...</td>\n",
              "      <td>...</td>\n",
              "      <td>...</td>\n",
              "      <td>...</td>\n",
              "      <td>...</td>\n",
              "      <td>...</td>\n",
              "      <td>...</td>\n",
              "    </tr>\n",
              "    <tr>\n",
              "      <th>430</th>\n",
              "      <td>republican</td>\n",
              "      <td>n</td>\n",
              "      <td>n</td>\n",
              "      <td>y</td>\n",
              "      <td>y</td>\n",
              "      <td>y</td>\n",
              "      <td>y</td>\n",
              "      <td>n</td>\n",
              "      <td>n</td>\n",
              "      <td>y</td>\n",
              "      <td>y</td>\n",
              "      <td>n</td>\n",
              "      <td>y</td>\n",
              "      <td>y</td>\n",
              "      <td>y</td>\n",
              "      <td>n</td>\n",
              "      <td>y</td>\n",
              "    </tr>\n",
              "    <tr>\n",
              "      <th>431</th>\n",
              "      <td>democrat</td>\n",
              "      <td>n</td>\n",
              "      <td>n</td>\n",
              "      <td>y</td>\n",
              "      <td>n</td>\n",
              "      <td>n</td>\n",
              "      <td>n</td>\n",
              "      <td>y</td>\n",
              "      <td>y</td>\n",
              "      <td>y</td>\n",
              "      <td>y</td>\n",
              "      <td>n</td>\n",
              "      <td>n</td>\n",
              "      <td>n</td>\n",
              "      <td>n</td>\n",
              "      <td>n</td>\n",
              "      <td>y</td>\n",
              "    </tr>\n",
              "    <tr>\n",
              "      <th>432</th>\n",
              "      <td>republican</td>\n",
              "      <td>n</td>\n",
              "      <td>NaN</td>\n",
              "      <td>n</td>\n",
              "      <td>y</td>\n",
              "      <td>y</td>\n",
              "      <td>y</td>\n",
              "      <td>n</td>\n",
              "      <td>n</td>\n",
              "      <td>n</td>\n",
              "      <td>n</td>\n",
              "      <td>y</td>\n",
              "      <td>y</td>\n",
              "      <td>y</td>\n",
              "      <td>y</td>\n",
              "      <td>n</td>\n",
              "      <td>y</td>\n",
              "    </tr>\n",
              "    <tr>\n",
              "      <th>433</th>\n",
              "      <td>republican</td>\n",
              "      <td>n</td>\n",
              "      <td>n</td>\n",
              "      <td>n</td>\n",
              "      <td>y</td>\n",
              "      <td>y</td>\n",
              "      <td>y</td>\n",
              "      <td>NaN</td>\n",
              "      <td>NaN</td>\n",
              "      <td>NaN</td>\n",
              "      <td>NaN</td>\n",
              "      <td>n</td>\n",
              "      <td>y</td>\n",
              "      <td>y</td>\n",
              "      <td>y</td>\n",
              "      <td>n</td>\n",
              "      <td>y</td>\n",
              "    </tr>\n",
              "    <tr>\n",
              "      <th>434</th>\n",
              "      <td>republican</td>\n",
              "      <td>n</td>\n",
              "      <td>y</td>\n",
              "      <td>n</td>\n",
              "      <td>y</td>\n",
              "      <td>y</td>\n",
              "      <td>y</td>\n",
              "      <td>n</td>\n",
              "      <td>n</td>\n",
              "      <td>n</td>\n",
              "      <td>y</td>\n",
              "      <td>n</td>\n",
              "      <td>y</td>\n",
              "      <td>y</td>\n",
              "      <td>y</td>\n",
              "      <td>NaN</td>\n",
              "      <td>n</td>\n",
              "    </tr>\n",
              "  </tbody>\n",
              "</table>\n",
              "<p>435 rows × 17 columns</p>\n",
              "</div>"
            ],
            "text/plain": [
              "          party handicapped-infants water-project  ... crime duty-free south-africa\n",
              "0    republican                   n             y  ...     y         n            y\n",
              "1    republican                   n             y  ...     y         n          NaN\n",
              "2      democrat                 NaN             y  ...     y         n            n\n",
              "3      democrat                   n             y  ...     n         n            y\n",
              "4      democrat                   y             y  ...     y         y            y\n",
              "..          ...                 ...           ...  ...   ...       ...          ...\n",
              "430  republican                   n             n  ...     y         n            y\n",
              "431    democrat                   n             n  ...     n         n            y\n",
              "432  republican                   n           NaN  ...     y         n            y\n",
              "433  republican                   n             n  ...     y         n            y\n",
              "434  republican                   n             y  ...     y       NaN            n\n",
              "\n",
              "[435 rows x 17 columns]"
            ]
          },
          "metadata": {
            "tags": []
          },
          "execution_count": 2
        }
      ]
    },
    {
      "cell_type": "code",
      "metadata": {
        "id": "Qx5sB6MM8Zsh",
        "colab_type": "code",
        "outputId": "a2c7daaa-2ab1-46ba-e6e9-ec3b8ff2d53a",
        "colab": {
          "base_uri": "https://localhost:8080/",
          "height": 250
        }
      },
      "source": [
        "# Replace n and y with 0 and 1\n",
        "house = house.replace({'y':1, 'n':0})\n",
        "house.head()"
      ],
      "execution_count": 3,
      "outputs": [
        {
          "output_type": "execute_result",
          "data": {
            "text/html": [
              "<div>\n",
              "<style scoped>\n",
              "    .dataframe tbody tr th:only-of-type {\n",
              "        vertical-align: middle;\n",
              "    }\n",
              "\n",
              "    .dataframe tbody tr th {\n",
              "        vertical-align: top;\n",
              "    }\n",
              "\n",
              "    .dataframe thead th {\n",
              "        text-align: right;\n",
              "    }\n",
              "</style>\n",
              "<table border=\"1\" class=\"dataframe\">\n",
              "  <thead>\n",
              "    <tr style=\"text-align: right;\">\n",
              "      <th></th>\n",
              "      <th>party</th>\n",
              "      <th>handicapped-infants</th>\n",
              "      <th>water-project</th>\n",
              "      <th>budget</th>\n",
              "      <th>physician-fee-freeze</th>\n",
              "      <th>el-salvador-aid</th>\n",
              "      <th>religious-groups</th>\n",
              "      <th>anti-satellite-ban</th>\n",
              "      <th>aid-to-contras</th>\n",
              "      <th>mx-missile</th>\n",
              "      <th>immigration</th>\n",
              "      <th>synfuels</th>\n",
              "      <th>education</th>\n",
              "      <th>right-to-sue</th>\n",
              "      <th>crime</th>\n",
              "      <th>duty-free</th>\n",
              "      <th>south-africa</th>\n",
              "    </tr>\n",
              "  </thead>\n",
              "  <tbody>\n",
              "    <tr>\n",
              "      <th>0</th>\n",
              "      <td>republican</td>\n",
              "      <td>0.0</td>\n",
              "      <td>1.0</td>\n",
              "      <td>0.0</td>\n",
              "      <td>1.0</td>\n",
              "      <td>1.0</td>\n",
              "      <td>1.0</td>\n",
              "      <td>0.0</td>\n",
              "      <td>0.0</td>\n",
              "      <td>0.0</td>\n",
              "      <td>1.0</td>\n",
              "      <td>NaN</td>\n",
              "      <td>1.0</td>\n",
              "      <td>1.0</td>\n",
              "      <td>1.0</td>\n",
              "      <td>0.0</td>\n",
              "      <td>1.0</td>\n",
              "    </tr>\n",
              "    <tr>\n",
              "      <th>1</th>\n",
              "      <td>republican</td>\n",
              "      <td>0.0</td>\n",
              "      <td>1.0</td>\n",
              "      <td>0.0</td>\n",
              "      <td>1.0</td>\n",
              "      <td>1.0</td>\n",
              "      <td>1.0</td>\n",
              "      <td>0.0</td>\n",
              "      <td>0.0</td>\n",
              "      <td>0.0</td>\n",
              "      <td>0.0</td>\n",
              "      <td>0.0</td>\n",
              "      <td>1.0</td>\n",
              "      <td>1.0</td>\n",
              "      <td>1.0</td>\n",
              "      <td>0.0</td>\n",
              "      <td>NaN</td>\n",
              "    </tr>\n",
              "    <tr>\n",
              "      <th>2</th>\n",
              "      <td>democrat</td>\n",
              "      <td>NaN</td>\n",
              "      <td>1.0</td>\n",
              "      <td>1.0</td>\n",
              "      <td>NaN</td>\n",
              "      <td>1.0</td>\n",
              "      <td>1.0</td>\n",
              "      <td>0.0</td>\n",
              "      <td>0.0</td>\n",
              "      <td>0.0</td>\n",
              "      <td>0.0</td>\n",
              "      <td>1.0</td>\n",
              "      <td>0.0</td>\n",
              "      <td>1.0</td>\n",
              "      <td>1.0</td>\n",
              "      <td>0.0</td>\n",
              "      <td>0.0</td>\n",
              "    </tr>\n",
              "    <tr>\n",
              "      <th>3</th>\n",
              "      <td>democrat</td>\n",
              "      <td>0.0</td>\n",
              "      <td>1.0</td>\n",
              "      <td>1.0</td>\n",
              "      <td>0.0</td>\n",
              "      <td>NaN</td>\n",
              "      <td>1.0</td>\n",
              "      <td>0.0</td>\n",
              "      <td>0.0</td>\n",
              "      <td>0.0</td>\n",
              "      <td>0.0</td>\n",
              "      <td>1.0</td>\n",
              "      <td>0.0</td>\n",
              "      <td>1.0</td>\n",
              "      <td>0.0</td>\n",
              "      <td>0.0</td>\n",
              "      <td>1.0</td>\n",
              "    </tr>\n",
              "    <tr>\n",
              "      <th>4</th>\n",
              "      <td>democrat</td>\n",
              "      <td>1.0</td>\n",
              "      <td>1.0</td>\n",
              "      <td>1.0</td>\n",
              "      <td>0.0</td>\n",
              "      <td>1.0</td>\n",
              "      <td>1.0</td>\n",
              "      <td>0.0</td>\n",
              "      <td>0.0</td>\n",
              "      <td>0.0</td>\n",
              "      <td>0.0</td>\n",
              "      <td>1.0</td>\n",
              "      <td>NaN</td>\n",
              "      <td>1.0</td>\n",
              "      <td>1.0</td>\n",
              "      <td>1.0</td>\n",
              "      <td>1.0</td>\n",
              "    </tr>\n",
              "  </tbody>\n",
              "</table>\n",
              "</div>"
            ],
            "text/plain": [
              "        party  handicapped-infants  ...  duty-free  south-africa\n",
              "0  republican                  0.0  ...        0.0           1.0\n",
              "1  republican                  0.0  ...        0.0           NaN\n",
              "2    democrat                  NaN  ...        0.0           0.0\n",
              "3    democrat                  0.0  ...        0.0           1.0\n",
              "4    democrat                  1.0  ...        1.0           1.0\n",
              "\n",
              "[5 rows x 17 columns]"
            ]
          },
          "metadata": {
            "tags": []
          },
          "execution_count": 3
        }
      ]
    },
    {
      "cell_type": "code",
      "metadata": {
        "id": "4Q_n9uIV8Zw2",
        "colab_type": "code",
        "outputId": "2ee1daee-1076-4ede-f31d-612aa86e8eb0",
        "colab": {
          "base_uri": "https://localhost:8080/",
          "height": 50
        }
      },
      "source": [
        "# Make two dataframes, one republican, one democrat\n",
        "\n",
        "dem = house[house['party']=='democrat']\n",
        "print('dem',dem.shape)\n",
        "rep = house[house['party']=='republican']\n",
        "print('rep', rep.shape)"
      ],
      "execution_count": 4,
      "outputs": [
        {
          "output_type": "stream",
          "text": [
            "dem (267, 17)\n",
            "rep (168, 17)\n"
          ],
          "name": "stdout"
        }
      ]
    },
    {
      "cell_type": "code",
      "metadata": {
        "id": "Bm_6Bf0Y8Zzn",
        "colab_type": "code",
        "outputId": "c7f145db-3096-441c-dc3d-291dbdf96b81",
        "colab": {
          "base_uri": "https://localhost:8080/",
          "height": 524
        }
      },
      "source": [
        "# Create a dataset that tallies vote count with ttest results\n",
        "\n",
        "cols = ['bill', 'total', 'rep', 'dem','tstat','pvalue']\n",
        "\n",
        "votes = []\n",
        "bills = ['handicapped-infants','water-project','budget',\n",
        "        'physician-fee-freeze','el-salvador-aid','religious-groups',\n",
        "        'anti-satellite-ban','aid-to-contras','mx-missile','immigration',\n",
        "        'synfuels','education','right-to-sue','crime','duty-free',\n",
        "        'south-africa']\n",
        "\n",
        "for x in bills:\n",
        "    r = int(rep[x].sum())\n",
        "    d = int(dem[x].sum())\n",
        "    s = ttest_ind(rep[x], dem[x], nan_policy='omit')\n",
        "\n",
        "    votes.append([x,r+d,r,d,s[0],s[1]])\n",
        "\n",
        "pd.set_option('display.float_format', lambda x: '%.5f' % x)\n",
        "votes = pd.DataFrame(votes, columns=cols)\n",
        "\n",
        "votes.head(16)"
      ],
      "execution_count": 5,
      "outputs": [
        {
          "output_type": "execute_result",
          "data": {
            "text/html": [
              "<div>\n",
              "<style scoped>\n",
              "    .dataframe tbody tr th:only-of-type {\n",
              "        vertical-align: middle;\n",
              "    }\n",
              "\n",
              "    .dataframe tbody tr th {\n",
              "        vertical-align: top;\n",
              "    }\n",
              "\n",
              "    .dataframe thead th {\n",
              "        text-align: right;\n",
              "    }\n",
              "</style>\n",
              "<table border=\"1\" class=\"dataframe\">\n",
              "  <thead>\n",
              "    <tr style=\"text-align: right;\">\n",
              "      <th></th>\n",
              "      <th>bill</th>\n",
              "      <th>total</th>\n",
              "      <th>rep</th>\n",
              "      <th>dem</th>\n",
              "      <th>tstat</th>\n",
              "      <th>pvalue</th>\n",
              "    </tr>\n",
              "  </thead>\n",
              "  <tbody>\n",
              "    <tr>\n",
              "      <th>0</th>\n",
              "      <td>handicapped-infants</td>\n",
              "      <td>187</td>\n",
              "      <td>31</td>\n",
              "      <td>156</td>\n",
              "      <td>-9.20526</td>\n",
              "      <td>0.00000</td>\n",
              "    </tr>\n",
              "    <tr>\n",
              "      <th>1</th>\n",
              "      <td>water-project</td>\n",
              "      <td>195</td>\n",
              "      <td>75</td>\n",
              "      <td>120</td>\n",
              "      <td>0.08897</td>\n",
              "      <td>0.92916</td>\n",
              "    </tr>\n",
              "    <tr>\n",
              "      <th>2</th>\n",
              "      <td>budget</td>\n",
              "      <td>253</td>\n",
              "      <td>22</td>\n",
              "      <td>231</td>\n",
              "      <td>-23.21278</td>\n",
              "      <td>0.00000</td>\n",
              "    </tr>\n",
              "    <tr>\n",
              "      <th>3</th>\n",
              "      <td>physician-fee-freeze</td>\n",
              "      <td>177</td>\n",
              "      <td>163</td>\n",
              "      <td>14</td>\n",
              "      <td>49.36708</td>\n",
              "      <td>0.00000</td>\n",
              "    </tr>\n",
              "    <tr>\n",
              "      <th>4</th>\n",
              "      <td>el-salvador-aid</td>\n",
              "      <td>212</td>\n",
              "      <td>157</td>\n",
              "      <td>55</td>\n",
              "      <td>21.13669</td>\n",
              "      <td>0.00000</td>\n",
              "    </tr>\n",
              "    <tr>\n",
              "      <th>5</th>\n",
              "      <td>religious-groups</td>\n",
              "      <td>272</td>\n",
              "      <td>149</td>\n",
              "      <td>123</td>\n",
              "      <td>9.73758</td>\n",
              "      <td>0.00000</td>\n",
              "    </tr>\n",
              "    <tr>\n",
              "      <th>6</th>\n",
              "      <td>anti-satellite-ban</td>\n",
              "      <td>239</td>\n",
              "      <td>39</td>\n",
              "      <td>200</td>\n",
              "      <td>-12.52619</td>\n",
              "      <td>0.00000</td>\n",
              "    </tr>\n",
              "    <tr>\n",
              "      <th>7</th>\n",
              "      <td>aid-to-contras</td>\n",
              "      <td>242</td>\n",
              "      <td>24</td>\n",
              "      <td>218</td>\n",
              "      <td>-18.05209</td>\n",
              "      <td>0.00000</td>\n",
              "    </tr>\n",
              "    <tr>\n",
              "      <th>8</th>\n",
              "      <td>mx-missile</td>\n",
              "      <td>207</td>\n",
              "      <td>19</td>\n",
              "      <td>188</td>\n",
              "      <td>-16.43750</td>\n",
              "      <td>0.00000</td>\n",
              "    </tr>\n",
              "    <tr>\n",
              "      <th>9</th>\n",
              "      <td>immigration</td>\n",
              "      <td>216</td>\n",
              "      <td>92</td>\n",
              "      <td>124</td>\n",
              "      <td>1.73591</td>\n",
              "      <td>0.08330</td>\n",
              "    </tr>\n",
              "    <tr>\n",
              "      <th>10</th>\n",
              "      <td>synfuels</td>\n",
              "      <td>150</td>\n",
              "      <td>21</td>\n",
              "      <td>129</td>\n",
              "      <td>-8.29360</td>\n",
              "      <td>0.00000</td>\n",
              "    </tr>\n",
              "    <tr>\n",
              "      <th>11</th>\n",
              "      <td>education</td>\n",
              "      <td>171</td>\n",
              "      <td>135</td>\n",
              "      <td>36</td>\n",
              "      <td>20.50069</td>\n",
              "      <td>0.00000</td>\n",
              "    </tr>\n",
              "    <tr>\n",
              "      <th>12</th>\n",
              "      <td>right-to-sue</td>\n",
              "      <td>209</td>\n",
              "      <td>136</td>\n",
              "      <td>73</td>\n",
              "      <td>13.51064</td>\n",
              "      <td>0.00000</td>\n",
              "    </tr>\n",
              "    <tr>\n",
              "      <th>13</th>\n",
              "      <td>crime</td>\n",
              "      <td>248</td>\n",
              "      <td>158</td>\n",
              "      <td>90</td>\n",
              "      <td>16.34209</td>\n",
              "      <td>0.00000</td>\n",
              "    </tr>\n",
              "    <tr>\n",
              "      <th>14</th>\n",
              "      <td>duty-free</td>\n",
              "      <td>174</td>\n",
              "      <td>14</td>\n",
              "      <td>160</td>\n",
              "      <td>-12.85315</td>\n",
              "      <td>0.00000</td>\n",
              "    </tr>\n",
              "    <tr>\n",
              "      <th>15</th>\n",
              "      <td>south-africa</td>\n",
              "      <td>269</td>\n",
              "      <td>96</td>\n",
              "      <td>173</td>\n",
              "      <td>-6.84945</td>\n",
              "      <td>0.00000</td>\n",
              "    </tr>\n",
              "  </tbody>\n",
              "</table>\n",
              "</div>"
            ],
            "text/plain": [
              "                    bill  total  rep  dem     tstat  pvalue\n",
              "0    handicapped-infants    187   31  156  -9.20526 0.00000\n",
              "1          water-project    195   75  120   0.08897 0.92916\n",
              "2                 budget    253   22  231 -23.21278 0.00000\n",
              "3   physician-fee-freeze    177  163   14  49.36708 0.00000\n",
              "4        el-salvador-aid    212  157   55  21.13669 0.00000\n",
              "5       religious-groups    272  149  123   9.73758 0.00000\n",
              "6     anti-satellite-ban    239   39  200 -12.52619 0.00000\n",
              "7         aid-to-contras    242   24  218 -18.05209 0.00000\n",
              "8             mx-missile    207   19  188 -16.43750 0.00000\n",
              "9            immigration    216   92  124   1.73591 0.08330\n",
              "10              synfuels    150   21  129  -8.29360 0.00000\n",
              "11             education    171  135   36  20.50069 0.00000\n",
              "12          right-to-sue    209  136   73  13.51064 0.00000\n",
              "13                 crime    248  158   90  16.34209 0.00000\n",
              "14             duty-free    174   14  160 -12.85315 0.00000\n",
              "15          south-africa    269   96  173  -6.84945 0.00000"
            ]
          },
          "metadata": {
            "tags": []
          },
          "execution_count": 5
        }
      ]
    },
    {
      "cell_type": "markdown",
      "metadata": {
        "id": "v60SjKvBTdoG",
        "colab_type": "text"
      },
      "source": [
        "# Using hypothesis testing, find an issue that democrats support more than republicans with p < 0.01"
      ]
    },
    {
      "cell_type": "code",
      "metadata": {
        "id": "vzReE5cm8Z8P",
        "colab_type": "code",
        "outputId": "fb16b34c-50de-4829-c246-095c24b8b1b8",
        "colab": {
          "base_uri": "https://localhost:8080/",
          "height": 286
        }
      },
      "source": [
        "demsup = votes[(votes['pvalue'] <= 0.01) & (votes['dem'] > votes['rep'])]\n",
        "\n",
        "demsup"
      ],
      "execution_count": 6,
      "outputs": [
        {
          "output_type": "execute_result",
          "data": {
            "text/html": [
              "<div>\n",
              "<style scoped>\n",
              "    .dataframe tbody tr th:only-of-type {\n",
              "        vertical-align: middle;\n",
              "    }\n",
              "\n",
              "    .dataframe tbody tr th {\n",
              "        vertical-align: top;\n",
              "    }\n",
              "\n",
              "    .dataframe thead th {\n",
              "        text-align: right;\n",
              "    }\n",
              "</style>\n",
              "<table border=\"1\" class=\"dataframe\">\n",
              "  <thead>\n",
              "    <tr style=\"text-align: right;\">\n",
              "      <th></th>\n",
              "      <th>bill</th>\n",
              "      <th>total</th>\n",
              "      <th>rep</th>\n",
              "      <th>dem</th>\n",
              "      <th>tstat</th>\n",
              "      <th>pvalue</th>\n",
              "    </tr>\n",
              "  </thead>\n",
              "  <tbody>\n",
              "    <tr>\n",
              "      <th>0</th>\n",
              "      <td>handicapped-infants</td>\n",
              "      <td>187</td>\n",
              "      <td>31</td>\n",
              "      <td>156</td>\n",
              "      <td>-9.20526</td>\n",
              "      <td>0.00000</td>\n",
              "    </tr>\n",
              "    <tr>\n",
              "      <th>2</th>\n",
              "      <td>budget</td>\n",
              "      <td>253</td>\n",
              "      <td>22</td>\n",
              "      <td>231</td>\n",
              "      <td>-23.21278</td>\n",
              "      <td>0.00000</td>\n",
              "    </tr>\n",
              "    <tr>\n",
              "      <th>6</th>\n",
              "      <td>anti-satellite-ban</td>\n",
              "      <td>239</td>\n",
              "      <td>39</td>\n",
              "      <td>200</td>\n",
              "      <td>-12.52619</td>\n",
              "      <td>0.00000</td>\n",
              "    </tr>\n",
              "    <tr>\n",
              "      <th>7</th>\n",
              "      <td>aid-to-contras</td>\n",
              "      <td>242</td>\n",
              "      <td>24</td>\n",
              "      <td>218</td>\n",
              "      <td>-18.05209</td>\n",
              "      <td>0.00000</td>\n",
              "    </tr>\n",
              "    <tr>\n",
              "      <th>8</th>\n",
              "      <td>mx-missile</td>\n",
              "      <td>207</td>\n",
              "      <td>19</td>\n",
              "      <td>188</td>\n",
              "      <td>-16.43750</td>\n",
              "      <td>0.00000</td>\n",
              "    </tr>\n",
              "    <tr>\n",
              "      <th>10</th>\n",
              "      <td>synfuels</td>\n",
              "      <td>150</td>\n",
              "      <td>21</td>\n",
              "      <td>129</td>\n",
              "      <td>-8.29360</td>\n",
              "      <td>0.00000</td>\n",
              "    </tr>\n",
              "    <tr>\n",
              "      <th>14</th>\n",
              "      <td>duty-free</td>\n",
              "      <td>174</td>\n",
              "      <td>14</td>\n",
              "      <td>160</td>\n",
              "      <td>-12.85315</td>\n",
              "      <td>0.00000</td>\n",
              "    </tr>\n",
              "    <tr>\n",
              "      <th>15</th>\n",
              "      <td>south-africa</td>\n",
              "      <td>269</td>\n",
              "      <td>96</td>\n",
              "      <td>173</td>\n",
              "      <td>-6.84945</td>\n",
              "      <td>0.00000</td>\n",
              "    </tr>\n",
              "  </tbody>\n",
              "</table>\n",
              "</div>"
            ],
            "text/plain": [
              "                   bill  total  rep  dem     tstat  pvalue\n",
              "0   handicapped-infants    187   31  156  -9.20526 0.00000\n",
              "2                budget    253   22  231 -23.21278 0.00000\n",
              "6    anti-satellite-ban    239   39  200 -12.52619 0.00000\n",
              "7        aid-to-contras    242   24  218 -18.05209 0.00000\n",
              "8            mx-missile    207   19  188 -16.43750 0.00000\n",
              "10             synfuels    150   21  129  -8.29360 0.00000\n",
              "14            duty-free    174   14  160 -12.85315 0.00000\n",
              "15         south-africa    269   96  173  -6.84945 0.00000"
            ]
          },
          "metadata": {
            "tags": []
          },
          "execution_count": 6
        }
      ]
    },
    {
      "cell_type": "code",
      "metadata": {
        "id": "YphoTbddslc2",
        "colab_type": "code",
        "colab": {}
      },
      "source": [
        "import matplotlib.pyplot as plt\n"
      ],
      "execution_count": 0,
      "outputs": []
    },
    {
      "cell_type": "code",
      "metadata": {
        "id": "lDaKKVPK8aJ_",
        "colab_type": "code",
        "outputId": "ba026349-d1ee-41eb-d412-693e9b524a95",
        "colab": {
          "base_uri": "https://localhost:8080/",
          "height": 413
        }
      },
      "source": [
        "# set figure size\n",
        "f, ax = plt.subplots(figsize=(10,5))\n",
        " \n",
        "# y-axis in bold\n",
        "rc('font', weight='bold')\n",
        " \n",
        "# Values of each group\n",
        "\n",
        "bars1 = demsup['dem']\n",
        "bars2 = demsup['rep']\n",
        " \n",
        "# Heights of bars1 + bars2\n",
        "bars = np.add(bars1, bars2).tolist()\n",
        " \n",
        "# The position of the bars on the x-axis\n",
        "r = [0,1,2,3,4,5,6,7]\n",
        " \n",
        "# Names of group and bar width\n",
        "# df.values.tolist()\n",
        "names = demsup['bill'].tolist()\n",
        "barWidth = 1\n",
        " \n",
        "\n",
        "# Create democrat bar\n",
        "plt.bar(r, bars1, color='b', edgecolor='white', width=barWidth)\n",
        "# Create republican bar\n",
        "plt.bar(r, bars2, bottom=bars1, color='r', edgecolor='white', width=barWidth)\n",
        " \n",
        "# Custom X axis\n",
        "plt.xticks(r, names, fontweight='bold', rotation=45)\n",
        "\n",
        "plt.xlabel(\"bills\")\n",
        "\n",
        " \n",
        "# Show graphic\n",
        "plt.show()\n"
      ],
      "execution_count": 24,
      "outputs": [
        {
          "output_type": "display_data",
          "data": {
            "image/png": "[encoded data removed]",
            "text/plain": [
              "<Figure size 720x360 with 1 Axes>"
            ]
          },
          "metadata": {
            "tags": []
          }
        }
      ]
    },
    {
      "cell_type": "code",
      "metadata": {
        "id": "TlSczeX3sJij",
        "colab_type": "code",
        "colab": {}
      },
      "source": [
        ""
      ],
      "execution_count": 0,
      "outputs": []
    },
    {
      "cell_type": "markdown",
      "metadata": {
        "id": "k2FV1v8KwaJE",
        "colab_type": "text"
      },
      "source": [
        "TO AMEND H.R. 6023, A BILL AMENDING THE TRADE ACT OF 1974 TO RENEW THE AUTHORITY FOR THE OPERATION OF THE GENERALIZED SYSTEM OF PREFERENCES. THE GEPHARDT AMENDMENT REMOVES TAIWAN, HONG KONG, AND SOUTH KOREA FROM THE LIST OF COUNTRIES ELIGIBLE FOR DUTY-FREE TREATMENT UNDER THE GENERAL SYSTEM OF PREFERENCES. (MOTION FAILED).\n",
        "\n"
      ]
    },
    {
      "cell_type": "code",
      "metadata": {
        "id": "ucRwTafQ3P8E",
        "colab_type": "code",
        "colab": {
          "base_uri": "https://localhost:8080/",
          "height": 593
        },
        "outputId": "be7e1ebd-73dd-4dd3-bb59-be68dcee5772"
      },
      "source": [
        "# Taking a closer look at the vote on duty-free\n",
        "# Graph entire house vote\n",
        "\n",
        "\n",
        "sns.kdeplot(house['duty-free'],label='house', \n",
        "            bw='.1', shade=True,color='g');\n",
        "\n",
        "#Graph republican votes\n",
        "sns.kdeplot(house[house['party']=='republican']['duty-free'],\n",
        "            bw='.1', shade=True,\n",
        "            label='rep',color='r');\n",
        "\n",
        "# Graph democrat votes\n",
        "sns.kdeplot(house[house['party']=='democrat']['duty-free'],\n",
        "            bw='.1', shade=True,\n",
        "            label='dem', color = 'b');\n",
        "\n",
        "print(house[house['party']=='republican']['duty-free'].sum())\n",
        "\n",
        "# Create crosstab and bar chart\n",
        "\n",
        "df = pd.crosstab(house['party'],house['duty-free'])\n",
        "df.plot(kind='bar',figsize=(8,4));"
      ],
      "execution_count": 9,
      "outputs": [
        {
          "output_type": "stream",
          "text": [
            "14.0\n"
          ],
          "name": "stdout"
        },
        {
          "output_type": "display_data",
          "data": {
            "image/png": "[encoded data removed]",
            "text/plain": [
              "<Figure size 432x288 with 1 Axes>"
            ]
          },
          "metadata": {
            "tags": []
          }
        },
        {
          "output_type": "display_data",
          "data": {
            "image/png": "[encoded data removed]",
            "text/plain": [
              "<Figure size 576x288 with 1 Axes>"
            ]
          },
          "metadata": {
            "tags": []
          }
        }
      ]
    },
    {
      "cell_type": "markdown",
      "metadata": {
        "id": "fHiLeRNhyLX4",
        "colab_type": "text"
      },
      "source": [
        "# Using hypothesis testing, find an issue that republicans support more than democrats with p < 0.01"
      ]
    },
    {
      "cell_type": "code",
      "metadata": {
        "id": "6XaGvIES8aNA",
        "colab_type": "code",
        "colab": {
          "base_uri": "https://localhost:8080/",
          "height": 226
        },
        "outputId": "fe7c7ebe-6834-4fe8-df10-d3bab55034fd"
      },
      "source": [
        "repsup = votes[(votes['pvalue'] <= 0.01) & (votes['rep'] > votes['dem'])]\n",
        "\n",
        "repsup"
      ],
      "execution_count": 10,
      "outputs": [
        {
          "output_type": "execute_result",
          "data": {
            "text/html": [
              "<div>\n",
              "<style scoped>\n",
              "    .dataframe tbody tr th:only-of-type {\n",
              "        vertical-align: middle;\n",
              "    }\n",
              "\n",
              "    .dataframe tbody tr th {\n",
              "        vertical-align: top;\n",
              "    }\n",
              "\n",
              "    .dataframe thead th {\n",
              "        text-align: right;\n",
              "    }\n",
              "</style>\n",
              "<table border=\"1\" class=\"dataframe\">\n",
              "  <thead>\n",
              "    <tr style=\"text-align: right;\">\n",
              "      <th></th>\n",
              "      <th>bill</th>\n",
              "      <th>total</th>\n",
              "      <th>rep</th>\n",
              "      <th>dem</th>\n",
              "      <th>tstat</th>\n",
              "      <th>pvalue</th>\n",
              "    </tr>\n",
              "  </thead>\n",
              "  <tbody>\n",
              "    <tr>\n",
              "      <th>3</th>\n",
              "      <td>physician-fee-freeze</td>\n",
              "      <td>177</td>\n",
              "      <td>163</td>\n",
              "      <td>14</td>\n",
              "      <td>49.36708</td>\n",
              "      <td>0.00000</td>\n",
              "    </tr>\n",
              "    <tr>\n",
              "      <th>4</th>\n",
              "      <td>el-salvador-aid</td>\n",
              "      <td>212</td>\n",
              "      <td>157</td>\n",
              "      <td>55</td>\n",
              "      <td>21.13669</td>\n",
              "      <td>0.00000</td>\n",
              "    </tr>\n",
              "    <tr>\n",
              "      <th>5</th>\n",
              "      <td>religious-groups</td>\n",
              "      <td>272</td>\n",
              "      <td>149</td>\n",
              "      <td>123</td>\n",
              "      <td>9.73758</td>\n",
              "      <td>0.00000</td>\n",
              "    </tr>\n",
              "    <tr>\n",
              "      <th>11</th>\n",
              "      <td>education</td>\n",
              "      <td>171</td>\n",
              "      <td>135</td>\n",
              "      <td>36</td>\n",
              "      <td>20.50069</td>\n",
              "      <td>0.00000</td>\n",
              "    </tr>\n",
              "    <tr>\n",
              "      <th>12</th>\n",
              "      <td>right-to-sue</td>\n",
              "      <td>209</td>\n",
              "      <td>136</td>\n",
              "      <td>73</td>\n",
              "      <td>13.51064</td>\n",
              "      <td>0.00000</td>\n",
              "    </tr>\n",
              "    <tr>\n",
              "      <th>13</th>\n",
              "      <td>crime</td>\n",
              "      <td>248</td>\n",
              "      <td>158</td>\n",
              "      <td>90</td>\n",
              "      <td>16.34209</td>\n",
              "      <td>0.00000</td>\n",
              "    </tr>\n",
              "  </tbody>\n",
              "</table>\n",
              "</div>"
            ],
            "text/plain": [
              "                    bill  total  rep  dem    tstat  pvalue\n",
              "3   physician-fee-freeze    177  163   14 49.36708 0.00000\n",
              "4        el-salvador-aid    212  157   55 21.13669 0.00000\n",
              "5       religious-groups    272  149  123  9.73758 0.00000\n",
              "11             education    171  135   36 20.50069 0.00000\n",
              "12          right-to-sue    209  136   73 13.51064 0.00000\n",
              "13                 crime    248  158   90 16.34209 0.00000"
            ]
          },
          "metadata": {
            "tags": []
          },
          "execution_count": 10
        }
      ]
    },
    {
      "cell_type": "code",
      "metadata": {
        "id": "-al2b3kO8aPe",
        "colab_type": "code",
        "colab": {
          "base_uri": "https://localhost:8080/",
          "height": 412
        },
        "outputId": "b6e6eca4-1379-4a6b-a837-fdc046110bcd"
      },
      "source": [
        "# set figure size\n",
        "f, ax = plt.subplots(figsize=(10,5))\n",
        " \n",
        "# y-axis in bold\n",
        "rc('font', weight='bold')\n",
        " \n",
        "# Values of each group\n",
        "\n",
        "bars1 = repsup['rep']\n",
        "bars2 = repsup['dem']\n",
        " \n",
        "# Heights of bars1 + bars2\n",
        "bars = np.add(bars1, bars2).tolist()\n",
        " \n",
        "# The position of the bars on the x-axis\n",
        "r = [0,1,2,3,4,5]\n",
        " \n",
        "# Names of group and bar width\n",
        "names = repsup['bill']\n",
        "barWidth = 1\n",
        " \n",
        "\n",
        "# Create democrat bar\n",
        "plt.bar(r, bars1, color='r', edgecolor='white', width=barWidth)\n",
        "# Create republican bar\n",
        "plt.bar(r, bars2, bottom=bars1, color='b', edgecolor='white', width=barWidth)\n",
        " \n",
        "# Custom X axis\n",
        "plt.xticks(r, names, fontweight='bold', rotation=45)\n",
        "plt.xlabel(\"bills\")\n",
        "\n",
        " \n",
        "# Show graphic\n",
        "plt.show()\n"
      ],
      "execution_count": 25,
      "outputs": [
        {
          "output_type": "display_data",
          "data": {
            "image/png": "[encoded data removed]",
            "text/plain": [
              "<Figure size 720x360 with 1 Axes>"
            ]
          },
          "metadata": {
            "tags": []
          }
        }
      ]
    },
    {
      "cell_type": "markdown",
      "metadata": {
        "id": "H0m75cnYycvr",
        "colab_type": "text"
      },
      "source": [
        "TO RECOMMIT H.R. 5394 TO THE COMMITTEE ON WAYS AND MEANS WITH INSTRUCTIONS TO REPORT IT BACK FORTHWITH CONTAINING AN AMENDMENT IN THE NATURE OF A SUBSTITUTE THAT WOULD PLACE A FREEZE ON PHYSICIANS' FEES FOR INPATIENT AND OUTPATIENT MEDICARE SERVICES FOR ONE YEAR, AND WOULD DELAY THE IMPLEMENTATION OF SPENDING INCREASES PROVIDED IN THIS BILL. (MOTION FAILED).\n",
        "\n",
        "The data from the csv does not match the congressional record.\n",
        "\n",
        "![alt text](https://raw.githubusercontent.com/vjmiyagi/vjmiyagi.github.io/master/img/physicianfreeze.png)"
      ]
    },
    {
      "cell_type": "code",
      "metadata": {
        "id": "rfKI7y-SCi-r",
        "colab_type": "code",
        "colab": {
          "base_uri": "https://localhost:8080/",
          "height": 577
        },
        "outputId": "0de55a6c-39a2-451a-d9d4-b9f7dd5d24c0"
      },
      "source": [
        "# Taking a closer look at the vote on physician-fee-freeze\n",
        "# Graph entire house vote\n",
        "\n",
        "fig, ax = plt.subplots()\n",
        "sns.kdeplot(house['physician-fee-freeze'],label='house', \n",
        "            bw='.1', shade=True,color='g', ax=ax);\n",
        "\n",
        "#Graph republican votes\n",
        "sns.kdeplot(house[house['party']=='republican']['physician-fee-freeze'],\n",
        "            bw='.1', shade=True,\n",
        "            label='rep',color='r', ax=ax);\n",
        "\n",
        "# Graph democrat votes\n",
        "sns.kdeplot(house[house['party']=='democrat']['physician-fee-freeze'],\n",
        "            bw='.1', shade=True,\n",
        "            label='dem', color = 'b', ax=ax);\n",
        "\n",
        "plt.xticks([0,1], ['no', 'yes'] );\n",
        "plt.show()\n",
        "\n",
        "# Create crosstab and bar chart\n",
        "\n",
        "df = pd.crosstab(house['party'],house['physician-fee-freeze'])\n",
        "df.plot(kind='bar',figsize=(8,4));"
      ],
      "execution_count": 21,
      "outputs": [
        {
          "output_type": "display_data",
          "data": {
            "image/png": "[encoded data removed]",
            "text/plain": [
              "<Figure size 432x288 with 1 Axes>"
            ]
          },
          "metadata": {
            "tags": []
          }
        },
        {
          "output_type": "display_data",
          "data": {
            "image/png": "[encoded data removed]",
            "text/plain": [
              "<Figure size 576x288 with 1 Axes>"
            ]
          },
          "metadata": {
            "tags": []
          }
        }
      ]
    },
    {
      "cell_type": "markdown",
      "metadata": {
        "id": "4SF-UMmC05c6",
        "colab_type": "text"
      },
      "source": [
        "# Using hypothesis testing, find an issue where the difference between republicans and democrats has p > 0.1"
      ]
    },
    {
      "cell_type": "code",
      "metadata": {
        "id": "zDiwMzRh8aU7",
        "colab_type": "code",
        "colab": {
          "base_uri": "https://localhost:8080/",
          "height": 77
        },
        "outputId": "f6a0723b-77d2-4aa2-ad8c-619064a20229"
      },
      "source": [
        "nodif = votes[(votes['pvalue'] > 0.1)]\n",
        "\n",
        "nodif"
      ],
      "execution_count": 13,
      "outputs": [
        {
          "output_type": "execute_result",
          "data": {
            "text/html": [
              "<div>\n",
              "<style scoped>\n",
              "    .dataframe tbody tr th:only-of-type {\n",
              "        vertical-align: middle;\n",
              "    }\n",
              "\n",
              "    .dataframe tbody tr th {\n",
              "        vertical-align: top;\n",
              "    }\n",
              "\n",
              "    .dataframe thead th {\n",
              "        text-align: right;\n",
              "    }\n",
              "</style>\n",
              "<table border=\"1\" class=\"dataframe\">\n",
              "  <thead>\n",
              "    <tr style=\"text-align: right;\">\n",
              "      <th></th>\n",
              "      <th>bill</th>\n",
              "      <th>total</th>\n",
              "      <th>rep</th>\n",
              "      <th>dem</th>\n",
              "      <th>tstat</th>\n",
              "      <th>pvalue</th>\n",
              "    </tr>\n",
              "  </thead>\n",
              "  <tbody>\n",
              "    <tr>\n",
              "      <th>1</th>\n",
              "      <td>water-project</td>\n",
              "      <td>195</td>\n",
              "      <td>75</td>\n",
              "      <td>120</td>\n",
              "      <td>0.08897</td>\n",
              "      <td>0.92916</td>\n",
              "    </tr>\n",
              "  </tbody>\n",
              "</table>\n",
              "</div>"
            ],
            "text/plain": [
              "            bill  total  rep  dem   tstat  pvalue\n",
              "1  water-project    195   75  120 0.08897 0.92916"
            ]
          },
          "metadata": {
            "tags": []
          },
          "execution_count": 13
        }
      ]
    },
    {
      "cell_type": "code",
      "metadata": {
        "id": "naysg0MQ8aax",
        "colab_type": "code",
        "colab": {
          "base_uri": "https://localhost:8080/",
          "height": 577
        },
        "outputId": "d1382b36-51fa-4d08-938e-a3290f77d0d1"
      },
      "source": [
        "# Taking a closer look at the vote on water-project\n",
        "# Graph entire house vote\n",
        "\n",
        "fig, ax = plt.subplots()\n",
        "sns.kdeplot(house['water-project'],label='house',\n",
        "            bw='.1', shade=True,color='g', ax=ax);\n",
        "\n",
        "#Graph republican votes\n",
        "sns.kdeplot(house[house['party']=='republican']['water-project'],\n",
        "            bw='.1', shade=True,\n",
        "            label='rep',color='r', ax=ax);\n",
        "\n",
        "# Graph democrat votes\n",
        "sns.kdeplot(house[house['party']=='democrat']['water-project'],\n",
        "            bw='.1', shade=True,\n",
        "            label='dem', color = 'b', ax=ax);\n",
        "\n",
        "plt.xticks([0,1], ['no', 'yes'] );\n",
        "plt.show()\n",
        "\n",
        "# Create crosstab and bar chart\n",
        "\n",
        "df = pd.crosstab(house['party'],house['water-project'])\n",
        "df.plot(kind='bar',figsize=(8,4));"
      ],
      "execution_count": 29,
      "outputs": [
        {
          "output_type": "display_data",
          "data": {
            "image/png": "[encoded data removed]",
            "text/plain": [
              "<Figure size 432x288 with 1 Axes>"
            ]
          },
          "metadata": {
            "tags": []
          }
        },
        {
          "output_type": "display_data",
          "data": {
            "image/png": "[encoded data removed]",
            "text/plain": [
              "<Figure size 576x288 with 1 Axes>"
            ]
          },
          "metadata": {
            "tags": []
          }
        }
      ]
    },
    {
      "cell_type": "code",
      "metadata": {
        "id": "SKBIWy0S8ajt",
        "colab_type": "code",
        "colab": {
          "base_uri": "https://localhost:8080/",
          "height": 577
        },
        "outputId": "570d97d7-2023-4f2e-c112-04c7d0387924"
      },
      "source": [
        "# Taking a closer look at the vote on immigration\n",
        "# Because it was the odd duck out\n",
        "# Graph entire house vote\n",
        "\n",
        "fig, ax = plt.subplots()\n",
        "sns.kdeplot(house['immigration'],label='house', \n",
        "            bw='.1', shade=True,color='g', ax=ax);\n",
        "\n",
        "#Graph republican votes\n",
        "sns.kdeplot(house[house['party']=='republican']['immigration'],\n",
        "            bw='.1', shade=True,\n",
        "            label='rep',color='r', ax=ax);\n",
        "\n",
        "# Graph democrat votes\n",
        "sns.kdeplot(house[house['party']=='democrat']['immigration'],\n",
        "            bw='.1', shade=True,\n",
        "            label='dem', color = 'b', ax=ax);\n",
        "\n",
        "plt.xticks([0,1], ['no', 'yes'] );\n",
        "plt.show()\n",
        "\n",
        "# Create crosstab and bar chart\n",
        "\n",
        "df = pd.crosstab(house['party'],house['immigration'])\n",
        "df.plot(kind='bar',figsize=(8,4));"
      ],
      "execution_count": 30,
      "outputs": [
        {
          "output_type": "display_data",
          "data": {
            "image/png": "[encoded data removed]",
            "text/plain": [
              "<Figure size 432x288 with 1 Axes>"
            ]
          },
          "metadata": {
            "tags": []
          }
        },
        {
          "output_type": "display_data",
          "data": {
            "image/png": "[encoded data removed]",
            "text/plain": [
              "<Figure size 576x288 with 1 Axes>"
            ]
          },
          "metadata": {
            "tags": []
          }
        }
      ]
    },
    {
      "cell_type": "markdown",
      "metadata": {
        "id": "wcA_AvvRAqW_",
        "colab_type": "text"
      },
      "source": [
        "## Stretch Goals:\n",
        "\n",
        "1. Refactor your code into functions so it's easy to rerun with arbitrary variables\n",
        "2. Work on Performing a T-test without using Scipy in order to get \"under the hood\" and learn more thoroughly about this topic.\n",
        "### Start with a 1-sample t-test\n",
        " - Establish the conditions for your test \n",
        " - [Calculate the T Statistic](https://blog.minitab.com/hs-fs/hubfs/Imported_Blog_Media/701f9c0efa98a38fb397f3c3ec459b66.png?width=247&height=172&name=701f9c0efa98a38fb397f3c3ec459b66.png) (You'll need to omit NaN values from your sample).\n",
        " - Translate that t-statistic into a P-value. You can use a [table](https://www.google.com/search?q=t+statistic+table) or the [University of Iowa Applet](https://homepage.divms.uiowa.edu/~mbognar/applets/t.html)\n",
        "\n",
        " ### Then try a 2-sample t-test\n",
        " - Establish the conditions for your test \n",
        " - [Calculate the T Statistic](https://lh3.googleusercontent.com/proxy/rJJ5ZOL9ZDvKOOeBihXoZDgfk7uv1YsRzSQ1Tc10RX-r2HrRpRLVqlE9CWX23csYQXcTniFwlBg3H-qR8MKJPBGnjwndqlhDX3JxoDE5Yg) (You'll need to omit NaN values from your sample).\n",
        " - Translate that t-statistic into a P-value. You can use a [table](https://www.google.com/search?q=t+statistic+table) or the [University of Iowa Applet](https://homepage.divms.uiowa.edu/~mbognar/applets/t.html)\n",
        "\n",
        " ### Then check your Answers using Scipy!"
      ]
    },
    {
      "cell_type": "code",
      "metadata": {
        "id": "dPmXOHh1Cfea",
        "colab_type": "code",
        "colab": {}
      },
      "source": [
        ""
      ],
      "execution_count": 0,
      "outputs": []
    }
  ]
}