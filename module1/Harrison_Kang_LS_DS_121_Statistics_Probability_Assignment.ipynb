{
  "nbformat": 4,
  "nbformat_minor": 0,
  "metadata": {
    "kernelspec": {
      "display_name": "Python 3",
      "language": "python",
      "name": "python3"
    },
    "language_info": {
      "codemirror_mode": {
        "name": "ipython",
        "version": 3
      },
      "file_extension": ".py",
      "mimetype": "text/x-python",
      "name": "python",
      "nbconvert_exporter": "python",
      "pygments_lexer": "ipython3",
      "version": "3.7.3"
    },
    "colab": {
      "name": "Harrison Kang - LS_DS_121_Statistics_Probability_Assignment.ipynb",
      "provenance": [],
      "include_colab_link": true
    }
  },
  "cells": [
    {
      "cell_type": "markdown",
      "metadata": {
        "id": "view-in-github",
        "colab_type": "text"
      },
      "source": [
        "<a href=\"https://colab.research.google.com/github/HKang42/DS-Unit-1-Sprint-2-Statistics/blob/master/module1/Harrison_Kang_LS_DS_121_Statistics_Probability_Assignment.ipynb\" target=\"_parent\"><img src=\"https://colab.research.google.com/assets/colab-badge.svg\" alt=\"Open In Colab\"/></a>"
      ]
    },
    {
      "cell_type": "markdown",
      "metadata": {
        "id": "Sa5KWMO1ngPN",
        "colab_type": "text"
      },
      "source": [
        "<img align=\"left\" src=\"https://lever-client-logos.s3.amazonaws.com/864372b1-534c-480e-acd5-9711f850815c-1524247202159.png\" width=200>\n",
        "<br></br>\n",
        "<br></br>\n",
        "\n",
        "## *Data Science Unit 1 Sprint 2 Assignment 1*\n",
        "\n",
        "# Apply the t-test to real data\n",
        "\n",
        "Your assignment is to determine which issues have \"statistically significant\" differences between political parties in this [1980s congressional voting data](https://archive.ics.uci.edu/ml/datasets/Congressional+Voting+Records). The data consists of 435 instances (one for each congressperson), a class (democrat or republican), and 16 binary attributes (yes or no for voting for or against certain issues). Be aware - there are missing values!\n",
        "\n",
        "Your goals:\n",
        "\n",
        "1. Load and clean the data (or determine the best method to drop observations when running tests)\n",
        "2. Using hypothesis testing, find an issue that democrats support more than republicans with p < 0.01\n",
        "3. Using hypothesis testing, find an issue that republicans support more than democrats with p < 0.01\n",
        "4. Using hypothesis testing, find an issue where the difference between republicans and democrats has p > 0.1 (i.e. there may not be much of a difference)\n",
        "\n",
        "Note that this data will involve *2 sample* t-tests, because you're comparing averages across two groups (republicans and democrats) rather than a single group against a null hypothesis.\n",
        "\n",
        "Stretch goals:\n",
        "\n",
        "1. Refactor your code into functions so it's easy to rerun with arbitrary variables\n",
        "2. Apply hypothesis testing to your personal project data (for the purposes of this notebook you can type a summary of the hypothesis you formed and tested)"
      ]
    },
    {
      "cell_type": "markdown",
      "metadata": {
        "id": "y0kb6o9i-s7H",
        "colab_type": "text"
      },
      "source": [
        "**Load and clean the data**"
      ]
    },
    {
      "cell_type": "code",
      "metadata": {
        "id": "ZKwspo2CngPP",
        "colab_type": "code",
        "colab": {}
      },
      "source": [
        "### YOUR CODE STARTS HERE\n",
        "import pandas as pd\n",
        "import numpy as np\n",
        "import scipy.stats as stats"
      ],
      "execution_count": 0,
      "outputs": []
    },
    {
      "cell_type": "code",
      "metadata": {
        "id": "h7SeV4lK-gGu",
        "colab_type": "code",
        "colab": {}
      },
      "source": [
        "# Create column headers\n",
        "\n",
        "# Grab column names from the \"house-votes-84.names\" file hosted in the same directory. Then split based on colons\n",
        "cols = \"Class: handicapped-infants: water-project-cost-sharing: adoption-of-the-budget-resolution: physician-fee-freeze: el-salvador-aid: religious-groups-in-schools: anti-satellite-test-ban: aid-to-nicaraguan-contras: mx-missile: immigration: synfuels-corporation-cutback: education-spending: superfund-right-to-sue: crime: duty-free-exports: export-administration-act-south-africa:\"\n",
        "\n",
        "cols = cols.split(': ')"
      ],
      "execution_count": 0,
      "outputs": []
    },
    {
      "cell_type": "code",
      "metadata": {
        "id": "BjH1iqx_4FKi",
        "colab_type": "code",
        "colab": {}
      },
      "source": [
        "# Get data\n",
        "\n",
        "url = 'https://archive.ics.uci.edu/ml/machine-learning-databases/voting-records/house-votes-84.data'\n",
        "\n",
        "df = pd.read_csv(url, names = cols)\n"
      ],
      "execution_count": 0,
      "outputs": []
    },
    {
      "cell_type": "code",
      "metadata": {
        "id": "FBVHCk6I7JBp",
        "colab_type": "code",
        "colab": {
          "base_uri": "https://localhost:8080/",
          "height": 238
        },
        "outputId": "687743d6-bc11-417a-c7d5-4846f93cc3ad"
      },
      "source": [
        "df.head()"
      ],
      "execution_count": 4,
      "outputs": [
        {
          "output_type": "execute_result",
          "data": {
            "text/html": [
              "<div>\n",
              "<style scoped>\n",
              "    .dataframe tbody tr th:only-of-type {\n",
              "        vertical-align: middle;\n",
              "    }\n",
              "\n",
              "    .dataframe tbody tr th {\n",
              "        vertical-align: top;\n",
              "    }\n",
              "\n",
              "    .dataframe thead th {\n",
              "        text-align: right;\n",
              "    }\n",
              "</style>\n",
              "<table border=\"1\" class=\"dataframe\">\n",
              "  <thead>\n",
              "    <tr style=\"text-align: right;\">\n",
              "      <th></th>\n",
              "      <th>Class</th>\n",
              "      <th>handicapped-infants</th>\n",
              "      <th>water-project-cost-sharing</th>\n",
              "      <th>adoption-of-the-budget-resolution</th>\n",
              "      <th>physician-fee-freeze</th>\n",
              "      <th>el-salvador-aid</th>\n",
              "      <th>religious-groups-in-schools</th>\n",
              "      <th>anti-satellite-test-ban</th>\n",
              "      <th>aid-to-nicaraguan-contras</th>\n",
              "      <th>mx-missile</th>\n",
              "      <th>immigration</th>\n",
              "      <th>synfuels-corporation-cutback</th>\n",
              "      <th>education-spending</th>\n",
              "      <th>superfund-right-to-sue</th>\n",
              "      <th>crime</th>\n",
              "      <th>duty-free-exports</th>\n",
              "      <th>export-administration-act-south-africa:</th>\n",
              "    </tr>\n",
              "  </thead>\n",
              "  <tbody>\n",
              "    <tr>\n",
              "      <th>0</th>\n",
              "      <td>republican</td>\n",
              "      <td>n</td>\n",
              "      <td>y</td>\n",
              "      <td>n</td>\n",
              "      <td>y</td>\n",
              "      <td>y</td>\n",
              "      <td>y</td>\n",
              "      <td>n</td>\n",
              "      <td>n</td>\n",
              "      <td>n</td>\n",
              "      <td>y</td>\n",
              "      <td>?</td>\n",
              "      <td>y</td>\n",
              "      <td>y</td>\n",
              "      <td>y</td>\n",
              "      <td>n</td>\n",
              "      <td>y</td>\n",
              "    </tr>\n",
              "    <tr>\n",
              "      <th>1</th>\n",
              "      <td>republican</td>\n",
              "      <td>n</td>\n",
              "      <td>y</td>\n",
              "      <td>n</td>\n",
              "      <td>y</td>\n",
              "      <td>y</td>\n",
              "      <td>y</td>\n",
              "      <td>n</td>\n",
              "      <td>n</td>\n",
              "      <td>n</td>\n",
              "      <td>n</td>\n",
              "      <td>n</td>\n",
              "      <td>y</td>\n",
              "      <td>y</td>\n",
              "      <td>y</td>\n",
              "      <td>n</td>\n",
              "      <td>?</td>\n",
              "    </tr>\n",
              "    <tr>\n",
              "      <th>2</th>\n",
              "      <td>democrat</td>\n",
              "      <td>?</td>\n",
              "      <td>y</td>\n",
              "      <td>y</td>\n",
              "      <td>?</td>\n",
              "      <td>y</td>\n",
              "      <td>y</td>\n",
              "      <td>n</td>\n",
              "      <td>n</td>\n",
              "      <td>n</td>\n",
              "      <td>n</td>\n",
              "      <td>y</td>\n",
              "      <td>n</td>\n",
              "      <td>y</td>\n",
              "      <td>y</td>\n",
              "      <td>n</td>\n",
              "      <td>n</td>\n",
              "    </tr>\n",
              "    <tr>\n",
              "      <th>3</th>\n",
              "      <td>democrat</td>\n",
              "      <td>n</td>\n",
              "      <td>y</td>\n",
              "      <td>y</td>\n",
              "      <td>n</td>\n",
              "      <td>?</td>\n",
              "      <td>y</td>\n",
              "      <td>n</td>\n",
              "      <td>n</td>\n",
              "      <td>n</td>\n",
              "      <td>n</td>\n",
              "      <td>y</td>\n",
              "      <td>n</td>\n",
              "      <td>y</td>\n",
              "      <td>n</td>\n",
              "      <td>n</td>\n",
              "      <td>y</td>\n",
              "    </tr>\n",
              "    <tr>\n",
              "      <th>4</th>\n",
              "      <td>democrat</td>\n",
              "      <td>y</td>\n",
              "      <td>y</td>\n",
              "      <td>y</td>\n",
              "      <td>n</td>\n",
              "      <td>y</td>\n",
              "      <td>y</td>\n",
              "      <td>n</td>\n",
              "      <td>n</td>\n",
              "      <td>n</td>\n",
              "      <td>n</td>\n",
              "      <td>y</td>\n",
              "      <td>?</td>\n",
              "      <td>y</td>\n",
              "      <td>y</td>\n",
              "      <td>y</td>\n",
              "      <td>y</td>\n",
              "    </tr>\n",
              "  </tbody>\n",
              "</table>\n",
              "</div>"
            ],
            "text/plain": [
              "        Class  ... export-administration-act-south-africa:\n",
              "0  republican  ...                                       y\n",
              "1  republican  ...                                       ?\n",
              "2    democrat  ...                                       n\n",
              "3    democrat  ...                                       y\n",
              "4    democrat  ...                                       y\n",
              "\n",
              "[5 rows x 17 columns]"
            ]
          },
          "metadata": {
            "tags": []
          },
          "execution_count": 4
        }
      ]
    },
    {
      "cell_type": "code",
      "metadata": {
        "id": "Vq4WCVTs8ZSE",
        "colab_type": "code",
        "colab": {
          "base_uri": "https://localhost:8080/",
          "height": 238
        },
        "outputId": "33872237-9775-4475-e42a-6261edd4e40b"
      },
      "source": [
        "# replace string values with numeric ones\n",
        "\n",
        "df = df.replace({\"y\" : 1, \"n\" : 0, \"?\" : np.NaN})\n",
        "\n",
        "df.head()"
      ],
      "execution_count": 5,
      "outputs": [
        {
          "output_type": "execute_result",
          "data": {
            "text/html": [
              "<div>\n",
              "<style scoped>\n",
              "    .dataframe tbody tr th:only-of-type {\n",
              "        vertical-align: middle;\n",
              "    }\n",
              "\n",
              "    .dataframe tbody tr th {\n",
              "        vertical-align: top;\n",
              "    }\n",
              "\n",
              "    .dataframe thead th {\n",
              "        text-align: right;\n",
              "    }\n",
              "</style>\n",
              "<table border=\"1\" class=\"dataframe\">\n",
              "  <thead>\n",
              "    <tr style=\"text-align: right;\">\n",
              "      <th></th>\n",
              "      <th>Class</th>\n",
              "      <th>handicapped-infants</th>\n",
              "      <th>water-project-cost-sharing</th>\n",
              "      <th>adoption-of-the-budget-resolution</th>\n",
              "      <th>physician-fee-freeze</th>\n",
              "      <th>el-salvador-aid</th>\n",
              "      <th>religious-groups-in-schools</th>\n",
              "      <th>anti-satellite-test-ban</th>\n",
              "      <th>aid-to-nicaraguan-contras</th>\n",
              "      <th>mx-missile</th>\n",
              "      <th>immigration</th>\n",
              "      <th>synfuels-corporation-cutback</th>\n",
              "      <th>education-spending</th>\n",
              "      <th>superfund-right-to-sue</th>\n",
              "      <th>crime</th>\n",
              "      <th>duty-free-exports</th>\n",
              "      <th>export-administration-act-south-africa:</th>\n",
              "    </tr>\n",
              "  </thead>\n",
              "  <tbody>\n",
              "    <tr>\n",
              "      <th>0</th>\n",
              "      <td>republican</td>\n",
              "      <td>0.0</td>\n",
              "      <td>1.0</td>\n",
              "      <td>0.0</td>\n",
              "      <td>1.0</td>\n",
              "      <td>1.0</td>\n",
              "      <td>1.0</td>\n",
              "      <td>0.0</td>\n",
              "      <td>0.0</td>\n",
              "      <td>0.0</td>\n",
              "      <td>1.0</td>\n",
              "      <td>NaN</td>\n",
              "      <td>1.0</td>\n",
              "      <td>1.0</td>\n",
              "      <td>1.0</td>\n",
              "      <td>0.0</td>\n",
              "      <td>1.0</td>\n",
              "    </tr>\n",
              "    <tr>\n",
              "      <th>1</th>\n",
              "      <td>republican</td>\n",
              "      <td>0.0</td>\n",
              "      <td>1.0</td>\n",
              "      <td>0.0</td>\n",
              "      <td>1.0</td>\n",
              "      <td>1.0</td>\n",
              "      <td>1.0</td>\n",
              "      <td>0.0</td>\n",
              "      <td>0.0</td>\n",
              "      <td>0.0</td>\n",
              "      <td>0.0</td>\n",
              "      <td>0.0</td>\n",
              "      <td>1.0</td>\n",
              "      <td>1.0</td>\n",
              "      <td>1.0</td>\n",
              "      <td>0.0</td>\n",
              "      <td>NaN</td>\n",
              "    </tr>\n",
              "    <tr>\n",
              "      <th>2</th>\n",
              "      <td>democrat</td>\n",
              "      <td>NaN</td>\n",
              "      <td>1.0</td>\n",
              "      <td>1.0</td>\n",
              "      <td>NaN</td>\n",
              "      <td>1.0</td>\n",
              "      <td>1.0</td>\n",
              "      <td>0.0</td>\n",
              "      <td>0.0</td>\n",
              "      <td>0.0</td>\n",
              "      <td>0.0</td>\n",
              "      <td>1.0</td>\n",
              "      <td>0.0</td>\n",
              "      <td>1.0</td>\n",
              "      <td>1.0</td>\n",
              "      <td>0.0</td>\n",
              "      <td>0.0</td>\n",
              "    </tr>\n",
              "    <tr>\n",
              "      <th>3</th>\n",
              "      <td>democrat</td>\n",
              "      <td>0.0</td>\n",
              "      <td>1.0</td>\n",
              "      <td>1.0</td>\n",
              "      <td>0.0</td>\n",
              "      <td>NaN</td>\n",
              "      <td>1.0</td>\n",
              "      <td>0.0</td>\n",
              "      <td>0.0</td>\n",
              "      <td>0.0</td>\n",
              "      <td>0.0</td>\n",
              "      <td>1.0</td>\n",
              "      <td>0.0</td>\n",
              "      <td>1.0</td>\n",
              "      <td>0.0</td>\n",
              "      <td>0.0</td>\n",
              "      <td>1.0</td>\n",
              "    </tr>\n",
              "    <tr>\n",
              "      <th>4</th>\n",
              "      <td>democrat</td>\n",
              "      <td>1.0</td>\n",
              "      <td>1.0</td>\n",
              "      <td>1.0</td>\n",
              "      <td>0.0</td>\n",
              "      <td>1.0</td>\n",
              "      <td>1.0</td>\n",
              "      <td>0.0</td>\n",
              "      <td>0.0</td>\n",
              "      <td>0.0</td>\n",
              "      <td>0.0</td>\n",
              "      <td>1.0</td>\n",
              "      <td>NaN</td>\n",
              "      <td>1.0</td>\n",
              "      <td>1.0</td>\n",
              "      <td>1.0</td>\n",
              "      <td>1.0</td>\n",
              "    </tr>\n",
              "  </tbody>\n",
              "</table>\n",
              "</div>"
            ],
            "text/plain": [
              "        Class  ...  export-administration-act-south-africa:\n",
              "0  republican  ...                                      1.0\n",
              "1  republican  ...                                      NaN\n",
              "2    democrat  ...                                      0.0\n",
              "3    democrat  ...                                      1.0\n",
              "4    democrat  ...                                      1.0\n",
              "\n",
              "[5 rows x 17 columns]"
            ]
          },
          "metadata": {
            "tags": []
          },
          "execution_count": 5
        }
      ]
    },
    {
      "cell_type": "code",
      "metadata": {
        "id": "0xzGZeCD80g1",
        "colab_type": "code",
        "colab": {}
      },
      "source": [
        "# split the data into democrat and republican\n",
        "\n",
        "dem = df[ df['Class'] == 'democrat']\n",
        "rep = df[ df['Class'] == 'republican']"
      ],
      "execution_count": 0,
      "outputs": []
    },
    {
      "cell_type": "markdown",
      "metadata": {
        "id": "k8fctwCq-1N5",
        "colab_type": "text"
      },
      "source": [
        "**Using hypothesis testing, find an issue that democrats support more than republicans with p < 0.01**"
      ]
    },
    {
      "cell_type": "markdown",
      "metadata": {
        "id": "Ph62AHFnBpDm",
        "colab_type": "text"
      },
      "source": [
        "Null Hypo: Both democrat and republican support for a given issue is the same\n",
        "\n",
        "Alternative Hypo: Their support issues are not the same\n",
        "\n",
        "Confidence Level = 99%   -->   Critical Value = 1%"
      ]
    },
    {
      "cell_type": "markdown",
      "metadata": {
        "id": "hC63VkfoCI6D",
        "colab_type": "text"
      },
      "source": [
        "If p-value < 0.01 , reject the null hypothesis (support is the same)\n",
        "\n",
        "If p-value > 0.01 , fail to reject the null hypothesis (support might not be the same)"
      ]
    },
    {
      "cell_type": "code",
      "metadata": {
        "id": "sef_IVrn-3jN",
        "colab_type": "code",
        "colab": {
          "base_uri": "https://localhost:8080/",
          "height": 51
        },
        "outputId": "03fecf06-d799-4c7e-b20e-652f5c2b2c7c"
      },
      "source": [
        "issue = 'anti-satellite-test-ban'\n",
        "\n",
        "results = stats.ttest_ind(dem[issue], rep[issue], nan_policy='omit')\n",
        "\n",
        "print ('t-value =\\t', results[0])\n",
        "print ('p-value =\\t', results[1])"
      ],
      "execution_count": 7,
      "outputs": [
        {
          "output_type": "stream",
          "text": [
            "t-value =\t 12.526187929077842\n",
            "p-value =\t 8.521033017443867e-31\n"
          ],
          "name": "stdout"
        }
      ]
    },
    {
      "cell_type": "markdown",
      "metadata": {
        "id": "FDHHo2SGEFqE",
        "colab_type": "text"
      },
      "source": [
        "Given a t-value of 12.526 and a p-value of 8.52 e-31 (approximately 0), I reject the null hypothesis that democratic and republican support for the \"anti-satellite-test-ban\" were equal. \n",
        "\n",
        "The large and positive t-value suggest that democrats supported the bill significantly more than republicans."
      ]
    },
    {
      "cell_type": "markdown",
      "metadata": {
        "id": "afa1lCiIFYaX",
        "colab_type": "text"
      },
      "source": [
        "**Using hypothesis testing, find an issue that republicans support more than democrats with p < 0.01**"
      ]
    },
    {
      "cell_type": "code",
      "metadata": {
        "id": "OPPfQE0EFdBy",
        "colab_type": "code",
        "colab": {
          "base_uri": "https://localhost:8080/",
          "height": 51
        },
        "outputId": "2e092508-7a87-42e0-9def-3aa7727c89bf"
      },
      "source": [
        "issue = 'superfund-right-to-sue'\n",
        "\n",
        "results = stats.ttest_ind(dem[issue], rep[issue], nan_policy='omit')\n",
        "\n",
        "print ('t-value =\\t', results[0])\n",
        "print ('p-value =\\t', results[1])"
      ],
      "execution_count": 8,
      "outputs": [
        {
          "output_type": "stream",
          "text": [
            "t-value =\t -13.51064251060933\n",
            "p-value =\t 1.2278581709672758e-34\n"
          ],
          "name": "stdout"
        }
      ]
    },
    {
      "cell_type": "markdown",
      "metadata": {
        "id": "YCeXgUKxF3IA",
        "colab_type": "text"
      },
      "source": [
        "Given a t-value of -13.51 and a p-value of 1.22 e-34 (approximately 0), I reject the null hypothesis that democratic and republican support for the \"superfund-right-to-sue\" were equal. \n",
        "\n",
        "The large and negative t-value suggest that republicans supported the bill significantly more than democrats."
      ]
    },
    {
      "cell_type": "markdown",
      "metadata": {
        "id": "_E35fkXFGKIB",
        "colab_type": "text"
      },
      "source": [
        "**Using hypothesis testing, find an issue where the difference between republicans and democrats has p > 0.1**"
      ]
    },
    {
      "cell_type": "code",
      "metadata": {
        "id": "FFxbtW30GJnm",
        "colab_type": "code",
        "colab": {
          "base_uri": "https://localhost:8080/",
          "height": 51
        },
        "outputId": "c802a86f-cd1a-4d6c-f8fd-3e071eef6fa0"
      },
      "source": [
        "issue = 'water-project-cost-sharing'\n",
        "\n",
        "results = stats.ttest_ind(dem[issue], rep[issue], nan_policy='omit')\n",
        "\n",
        "print ('t-value =\\t', results[0])\n",
        "print ('p-value =\\t', results[1])"
      ],
      "execution_count": 9,
      "outputs": [
        {
          "output_type": "stream",
          "text": [
            "t-value =\t -0.08896538137868286\n",
            "p-value =\t 0.9291556823993485\n"
          ],
          "name": "stdout"
        }
      ]
    },
    {
      "cell_type": "markdown",
      "metadata": {
        "id": "y1Q7n9EZGlzp",
        "colab_type": "text"
      },
      "source": [
        "Given a t-value of -0.0890 and a p-value of 0.929, I fail to reject the null hypothesis that democratic and republican support for the \"water-project-cost-sharing\" were equal. \n",
        "\n",
        "The small t-value and large p-value suggest that there was little difference in how much republicans and democrats supported the issue."
      ]
    },
    {
      "cell_type": "markdown",
      "metadata": {
        "id": "P1P90E-dHQQS",
        "colab_type": "text"
      },
      "source": [
        "**Stretch goals:**\n",
        "\n",
        "**Refactor your code into functions so it's easy to rerun with arbitrary variables**\n",
        "\n",
        "and\n",
        "\n",
        "**Try and write a function that will help you do all of the tests automatically (republican vs. democratic for all issues)** (suggested in class)"
      ]
    },
    {
      "cell_type": "code",
      "metadata": {
        "id": "IesFEoVeCmG2",
        "colab_type": "code",
        "colab": {}
      },
      "source": [
        "# FUNCTION IS HERE\n",
        "\n",
        "\"\"\"\n",
        "Function arguments are: \n",
        "\n",
        "  - Dataframe imported above \n",
        "      - Dataframe with one column for 2 groups and other column(s) for their votes on topics. Votes must be numerical (0 or 1)\n",
        "\n",
        "  - Name of the party column (which group does each observation/person belong to)\n",
        "\n",
        "  - Name of the issue being voted on\n",
        "\n",
        "  - Critical Value\n",
        "      - Critical Value = 1 - Desired Certainty\n",
        "\n",
        "  - Truncate = True/False\n",
        "      - Truncate t-values and p-values if desired.\n",
        "      - default setting is True\n",
        "\n",
        "\n",
        "Function returns a dictionary containing:\n",
        "  - The name of the issue being voted on\n",
        "\n",
        "  - The t-value for that issue\n",
        "      - will be truncated to 3 decimal points by default\n",
        "\n",
        "  - The p-value for that issue\n",
        "      - will be truncated to 3 decimal points by default\n",
        "\n",
        "  - Which group supported the issue more\n",
        "    - if there was no significant difference between votes, it returns \"Same\"\n",
        "\n",
        "\"\"\"\n",
        "import decimal \n",
        "import scipy.stats as stats\n",
        "import pandas as pd\n",
        "\n",
        "def t_tester (df , party_col, issue, certainty, truncate=True):\n",
        "\n",
        "  # get the name of the different groups\n",
        "  party1 = df[party_col].value_counts().index[0]\n",
        "  party2 = df[party_col].value_counts().index[1]\n",
        "\n",
        "  # create separate dataframes for each group\n",
        "  df_party1 = df[ df[party_col] == party1]\n",
        "  df_party2 = df[ df[party_col] == party2]\n",
        "\n",
        "  # Do the T-Test\n",
        "  results = stats.ttest_ind(df_party1[issue], df_party2[issue], nan_policy='omit')\n",
        "  \n",
        "  # Record the results of the T-Test\n",
        "  t_val = results[0]\n",
        "  p_val = results[1]\n",
        "  \n",
        "\n",
        "  # Truncate numbers if desired\n",
        "  if truncate == True:\n",
        "  \n",
        "    #round the t_val\n",
        "    t_val = round(t_val,3)\n",
        "\n",
        "    #round the p_value\n",
        "    p_val = round(p_val, 3)\n",
        "\n",
        "    # cut off zeroes if rounded p_value is 0\n",
        "    if p_val == 0:\n",
        "        p_val = 0\n",
        "\n",
        "  # Check the p-value and t-value to determine if support differed between parties. \n",
        "  # If so, determine which party supported the issue more.\n",
        "  favor = ''\n",
        "\n",
        "  if p_val >= certainty:\n",
        "    favor = 'Same'\n",
        "  \n",
        "  if p_val < certainty:\n",
        "    if t_val > 0:\n",
        "      favor = party1\n",
        "\n",
        "    elif t_val < 0:\n",
        "      favor = party2\n",
        "\n",
        "\n",
        "  results_dict = {'issue' : issue, 't-value' : t_val, \"p-value\" : p_val, \"Support\" : favor}\n",
        "\n",
        "  return results_dict"
      ],
      "execution_count": 0,
      "outputs": []
    },
    {
      "cell_type": "code",
      "metadata": {
        "id": "Jw-PsdFkCqTk",
        "colab_type": "code",
        "colab": {}
      },
      "source": [
        "# Create dataframe to store our results\n",
        "t_test = pd.DataFrame(columns= ['issue', 't-value', 'p-value', 'Support'])\n",
        "\n",
        "# set desired Critical Value\n",
        "certainty = 0.05\n",
        "\n",
        "#Loop through each issue in our dataframe to get results for each one.\n",
        "for issue in df.columns[1:]:\n",
        "  \n",
        "  row = t_tester(df, 'Class', issue , certainty)\n",
        "\n",
        "  t_test = t_test.append(row, ignore_index=True)"
      ],
      "execution_count": 0,
      "outputs": []
    },
    {
      "cell_type": "code",
      "metadata": {
        "id": "k3pd9xYfIs_R",
        "colab_type": "code",
        "colab": {
          "base_uri": "https://localhost:8080/",
          "height": 545
        },
        "outputId": "12744717-b2e7-4795-eda4-6b473c0c94ab"
      },
      "source": [
        "# display results\n",
        "t_test"
      ],
      "execution_count": 12,
      "outputs": [
        {
          "output_type": "execute_result",
          "data": {
            "text/html": [
              "<div>\n",
              "<style scoped>\n",
              "    .dataframe tbody tr th:only-of-type {\n",
              "        vertical-align: middle;\n",
              "    }\n",
              "\n",
              "    .dataframe tbody tr th {\n",
              "        vertical-align: top;\n",
              "    }\n",
              "\n",
              "    .dataframe thead th {\n",
              "        text-align: right;\n",
              "    }\n",
              "</style>\n",
              "<table border=\"1\" class=\"dataframe\">\n",
              "  <thead>\n",
              "    <tr style=\"text-align: right;\">\n",
              "      <th></th>\n",
              "      <th>issue</th>\n",
              "      <th>t-value</th>\n",
              "      <th>p-value</th>\n",
              "      <th>Support</th>\n",
              "    </tr>\n",
              "  </thead>\n",
              "  <tbody>\n",
              "    <tr>\n",
              "      <th>0</th>\n",
              "      <td>handicapped-infants</td>\n",
              "      <td>9.205</td>\n",
              "      <td>0</td>\n",
              "      <td>democrat</td>\n",
              "    </tr>\n",
              "    <tr>\n",
              "      <th>1</th>\n",
              "      <td>water-project-cost-sharing</td>\n",
              "      <td>-0.089</td>\n",
              "      <td>0.929</td>\n",
              "      <td>Same</td>\n",
              "    </tr>\n",
              "    <tr>\n",
              "      <th>2</th>\n",
              "      <td>adoption-of-the-budget-resolution</td>\n",
              "      <td>23.213</td>\n",
              "      <td>0</td>\n",
              "      <td>democrat</td>\n",
              "    </tr>\n",
              "    <tr>\n",
              "      <th>3</th>\n",
              "      <td>physician-fee-freeze</td>\n",
              "      <td>-49.367</td>\n",
              "      <td>0</td>\n",
              "      <td>republican</td>\n",
              "    </tr>\n",
              "    <tr>\n",
              "      <th>4</th>\n",
              "      <td>el-salvador-aid</td>\n",
              "      <td>-21.137</td>\n",
              "      <td>0</td>\n",
              "      <td>republican</td>\n",
              "    </tr>\n",
              "    <tr>\n",
              "      <th>5</th>\n",
              "      <td>religious-groups-in-schools</td>\n",
              "      <td>-9.738</td>\n",
              "      <td>0</td>\n",
              "      <td>republican</td>\n",
              "    </tr>\n",
              "    <tr>\n",
              "      <th>6</th>\n",
              "      <td>anti-satellite-test-ban</td>\n",
              "      <td>12.526</td>\n",
              "      <td>0</td>\n",
              "      <td>democrat</td>\n",
              "    </tr>\n",
              "    <tr>\n",
              "      <th>7</th>\n",
              "      <td>aid-to-nicaraguan-contras</td>\n",
              "      <td>18.052</td>\n",
              "      <td>0</td>\n",
              "      <td>democrat</td>\n",
              "    </tr>\n",
              "    <tr>\n",
              "      <th>8</th>\n",
              "      <td>mx-missile</td>\n",
              "      <td>16.438</td>\n",
              "      <td>0</td>\n",
              "      <td>democrat</td>\n",
              "    </tr>\n",
              "    <tr>\n",
              "      <th>9</th>\n",
              "      <td>immigration</td>\n",
              "      <td>-1.736</td>\n",
              "      <td>0.083</td>\n",
              "      <td>Same</td>\n",
              "    </tr>\n",
              "    <tr>\n",
              "      <th>10</th>\n",
              "      <td>synfuels-corporation-cutback</td>\n",
              "      <td>8.294</td>\n",
              "      <td>0</td>\n",
              "      <td>democrat</td>\n",
              "    </tr>\n",
              "    <tr>\n",
              "      <th>11</th>\n",
              "      <td>education-spending</td>\n",
              "      <td>-20.501</td>\n",
              "      <td>0</td>\n",
              "      <td>republican</td>\n",
              "    </tr>\n",
              "    <tr>\n",
              "      <th>12</th>\n",
              "      <td>superfund-right-to-sue</td>\n",
              "      <td>-13.511</td>\n",
              "      <td>0</td>\n",
              "      <td>republican</td>\n",
              "    </tr>\n",
              "    <tr>\n",
              "      <th>13</th>\n",
              "      <td>crime</td>\n",
              "      <td>-16.342</td>\n",
              "      <td>0</td>\n",
              "      <td>republican</td>\n",
              "    </tr>\n",
              "    <tr>\n",
              "      <th>14</th>\n",
              "      <td>duty-free-exports</td>\n",
              "      <td>12.853</td>\n",
              "      <td>0</td>\n",
              "      <td>democrat</td>\n",
              "    </tr>\n",
              "    <tr>\n",
              "      <th>15</th>\n",
              "      <td>export-administration-act-south-africa:</td>\n",
              "      <td>6.849</td>\n",
              "      <td>0</td>\n",
              "      <td>democrat</td>\n",
              "    </tr>\n",
              "  </tbody>\n",
              "</table>\n",
              "</div>"
            ],
            "text/plain": [
              "                                      issue  t-value p-value     Support\n",
              "0                       handicapped-infants    9.205       0    democrat\n",
              "1                water-project-cost-sharing   -0.089   0.929        Same\n",
              "2         adoption-of-the-budget-resolution   23.213       0    democrat\n",
              "3                      physician-fee-freeze  -49.367       0  republican\n",
              "4                           el-salvador-aid  -21.137       0  republican\n",
              "5               religious-groups-in-schools   -9.738       0  republican\n",
              "6                   anti-satellite-test-ban   12.526       0    democrat\n",
              "7                 aid-to-nicaraguan-contras   18.052       0    democrat\n",
              "8                                mx-missile   16.438       0    democrat\n",
              "9                               immigration   -1.736   0.083        Same\n",
              "10             synfuels-corporation-cutback    8.294       0    democrat\n",
              "11                       education-spending  -20.501       0  republican\n",
              "12                   superfund-right-to-sue  -13.511       0  republican\n",
              "13                                    crime  -16.342       0  republican\n",
              "14                        duty-free-exports   12.853       0    democrat\n",
              "15  export-administration-act-south-africa:    6.849       0    democrat"
            ]
          },
          "metadata": {
            "tags": []
          },
          "execution_count": 12
        }
      ]
    }
  ]
}