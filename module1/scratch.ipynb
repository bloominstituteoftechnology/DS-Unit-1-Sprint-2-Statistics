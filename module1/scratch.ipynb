{
 "cells": [
  {
   "cell_type": "markdown",
   "metadata": {
    "colab_type": "text",
    "id": "view-in-github"
   },
   "source": [
    "<a href=\"https://colab.research.google.com/github/ryanleeallred/DS-Unit-1-Sprint-2-Statistics/blob/master/module1/LS_DS_121_Statistics_Probability_Assignment.ipynb\" target=\"_parent\"><img src=\"https://colab.research.google.com/assets/colab-badge.svg\" alt=\"Open In Colab\"/></a>"
   ]
  },
  {
   "cell_type": "markdown",
   "metadata": {
    "colab_type": "text",
    "id": "Sa5KWMO1ngPN"
   },
   "source": [
    "<img align=\"left\" src=\"https://lever-client-logos.s3.amazonaws.com/864372b1-534c-480e-acd5-9711f850815c-1524247202159.png\" width=200>\n",
    "<br></br>\n",
    "<br></br>\n",
    "\n",
    "## *Data Science Unit 1 Sprint 2 Assignment 1*\n",
    "\n",
    "# Apply the t-test to real data\n",
    "\n",
    "Your assignment is to determine which issues have \"statistically significant\" differences between political parties in this [1980s congressional voting data](https://archive.ics.uci.edu/ml/datasets/Congressional+Voting+Records). The data consists of 435 instances (one for each congressperson), a class (democrat or republican), and 16 binary attributes (yes or no for voting for or against certain issues). Be aware - there are missing values!\n",
    "\n",
    "Your goals:\n",
    "\n",
    "1. Load and clean the data (or determine the best method to drop observations when running tests)\n",
    "2. Using hypothesis testing, find an issue that democrats support more than republicans with p < 0.01\n",
    "3. Using hypothesis testing, find an issue that republicans support more than democrats with p < 0.01\n",
    "4. Using hypothesis testing, find an issue where the difference between republicans and democrats has p > 0.1 (i.e. there may not be much of a difference)\n",
    "\n",
    "Note that this data will involve *2 sample* t-tests, because you're comparing averages across two groups (republicans and democrats) rather than a single group against a null hypothesis."
   ]
  },
  {
   "cell_type": "code",
   "execution_count": 80,
   "metadata": {},
   "outputs": [
    {
     "name": "stdout",
     "output_type": "stream",
     "text": [
      "house-votes-84.data\n",
      "house-votes-84.names\n",
      "LS_DS_121_Statistics_Probability_and_Inference.ipynb\n",
      "LS_DS_121_Statistics_Probability_Assignment.ipynb\n",
      "notes.txt\n",
      "1. Title: 1984 United States Congressional Voting Records Database\n",
      "\n",
      "2. Source Information:\n",
      "    (a) Source:  Congressional Quarterly Almanac, 98th Congress, \n",
      "                 2nd session 1984, Volume XL: Congressional Quarterly Inc. \n",
      "                 Washington, D.C., 1985.\n",
      "    (b) Donor: Jeff Schlimmer (Jeffrey.Schlimmer@a.gp.cs.cmu.edu)\n",
      "    (c) Date: 27 April 1987 \n",
      "\n",
      "3. Past Usage\n",
      "   - Publications\n",
      "     1. Schlimmer, J. C. (1987).  Concept acquisition through \n",
      "        representational adjustment.  Doctoral dissertation, Department of \n",
      "        Information and Computer Science, University of California, Irvine, CA.\n",
      "        -- Results: about 90%-95% accuracy appears to be STAGGER's asymptote\n",
      "     - Predicted attribute: party affiliation (2 classes)\n",
      "\n",
      "4. Relevant Information:\n",
      "      This data set includes votes for each of the U.S. House of\n",
      "      Representatives Congressmen on the 16 key votes identified by the\n",
      "      CQA.  The CQA lists nine different types of votes: voted for, paired\n",
      "      for, and announced for (these three simplified to yea), voted\n",
      "      against, paired against, and announced against (these three\n",
      "      simplified to nay), voted present, voted present to avoid conflict\n",
      "      of interest, and did not vote or otherwise make a position known\n",
      "      (these three simplified to an unknown disposition).\n",
      "\n",
      "5. Number of Instances: 435 (267 democrats, 168 republicans)\n",
      "\n",
      "6. Number of Attributes: 16 + class name = 17 (all Boolean valued)\n",
      "\n",
      "7. Attribute Information:\n",
      "   1. Class Name: 2 (democrat, republican)\n",
      "   2. handicapped-infants: 2 (y,n)\n",
      "   3. water-project-cost-sharing: 2 (y,n)\n",
      "   4. adoption-of-the-budget-resolution: 2 (y,n)\n",
      "   5. physician-fee-freeze: 2 (y,n)\n",
      "   6. el-salvador-aid: 2 (y,n)\n",
      "   7. religious-groups-in-schools: 2 (y,n)\n",
      "   8. anti-satellite-test-ban: 2 (y,n)\n",
      "   9. aid-to-nicaraguan-contras: 2 (y,n)\n",
      "  10. mx-missile: 2 (y,n)\n",
      "  11. immigration: 2 (y,n)\n",
      "  12. synfuels-corporation-cutback: 2 (y,n)\n",
      "  13. education-spending: 2 (y,n)\n",
      "  14. superfund-right-to-sue: 2 (y,n)\n",
      "  15. crime: 2 (y,n)\n",
      "  16. duty-free-exports: 2 (y,n)\n",
      "  17. export-administration-act-south-africa: 2 (y,n)\n",
      "\n",
      "8. Missing Attribute Values: Denoted by \"?\"\n",
      "\n",
      "   NOTE: It is important to recognize that \"?\" in this database does \n",
      "         not mean that the value of the attribute is unknown.  It \n",
      "         means simply, that the value is not \"yea\" or \"nay\" (see \n",
      "         \"Relevant Information\" section above).\n",
      "\n",
      "   Attribute:  #Missing Values:\n",
      "           1:  0\n",
      "           2:  0\n",
      "           3:  12\n",
      "           4:  48\n",
      "           5:  11\n",
      "           6:  11\n",
      "           7:  15\n",
      "           8:  11\n",
      "           9:  14\n",
      "          10:  15\n",
      "          11:  22\n",
      "          12:  7\n",
      "          13:  21\n",
      "          14:  31\n",
      "          15:  25\n",
      "          16:  17\n",
      "          17:  28\n",
      "\n",
      "9. Class Distribution: (2 classes)\n",
      "   1. 45.2 percent are democrat\n",
      "   2. 54.8 percent are republican\n",
      "\n",
      "Class predictiveness and predictability: Pr(C|A=V) and Pr(A=V|C)\n",
      " Attribute 1: (A = handicapped-infants)\n",
      "  0.91;  1.21  (C=democrat; V=y)\n",
      "  0.09;  0.10  (C=republican; V=y)\n",
      "  0.43;  0.38  (C=democrat; V=n)\n",
      "  0.57;  0.41  (C=republican; V=n)\n",
      "  0.75;  0.03  (C=democrat; V=?)\n",
      "  0.25;  0.01  (C=republican; V=?)\n",
      " Attribute 2: (A = water-project-cost-sharing)\n",
      "  0.62;  0.45  (C=democrat; V=y)\n",
      "  0.38;  0.23  (C=republican; V=y)\n",
      "  0.62;  0.45  (C=democrat; V=n)\n",
      "  0.38;  0.23  (C=republican; V=n)\n",
      "  0.58;  0.10  (C=democrat; V=?)\n",
      "  0.42;  0.06  (C=republican; V=?)\n",
      " Attribute 3: (A = adoption-of-the-budget-resolution)\n",
      "  0.91;  0.87  (C=democrat; V=y)\n",
      "  0.09;  0.07  (C=republican; V=y)\n",
      "  0.17;  0.11  (C=democrat; V=n)\n",
      "  0.83;  0.44  (C=republican; V=n)\n"
     ]
    }
   ],
   "source": [
    "!ls\n",
    "!head -n 100 house-votes-84.names"
   ]
  },
  {
   "cell_type": "code",
   "execution_count": 3,
   "metadata": {},
   "outputs": [
    {
     "name": "stdout",
     "output_type": "stream",
     "text": [
      "el-salvador-aid\n"
     ]
    }
   ],
   "source": [
    "x = \"   6. el-salvador-aid: 2 (y,n)\"\n",
    "#pat = re.compile('\\d+.\\s([A-Za-z-]+):)\n",
    "pat = re.compile(r'\\s+\\d+.\\s([A-Za-z-\\s]+):\\s\\d\\s')\n",
    "\n",
    "print(pat.match(x).group(1))\n"
   ]
  },
  {
   "cell_type": "code",
   "execution_count": 34,
   "metadata": {
    "colab": {},
    "colab_type": "code",
    "id": "ZKwspo2CngPP"
   },
   "outputs": [],
   "source": [
    "### YOUR CODE STARTS HERE\n",
    "from scipy import stats\n",
    "import pandas as pd      #probably can do this all without dataframes but im feeling lazy\n",
    "import numpy as np\n",
    "import re\n",
    "#LOAD DATA , CHECK FORMAT.\n",
    "#using https://archive.ics.uci.edu/ml/datasets/Congressional+Voting+Records\n",
    "#per the data description the \"?\" indicates that the member was present and either abstained or used \n",
    "#procedure to avoid voting on the issue therefore we are going to class this result with nays as in \n",
    "# 'not willing to support'\n",
    "# An alternative woud be to simply calculate the ratio of yeas to nays, but i dont think this reflects the \n",
    "# reality of how voting works in practice. an absolute number of yeas is required to pass a bill\n",
    "start = re.compile(\"7.\\sAttribute\")\n",
    "pat = re.compile(r'\\s+\\d+.\\s([A-Za-z-\\s]+):\\s\\d\\s')  #extract column names\n",
    "columns=[]\n",
    "with open('house-votes-84.names', 'r') as f:\n",
    "    line = f.readline()\n",
    "    cnt = 1\n",
    "    while line:\n",
    "        if start.match(line):\n",
    "            line = f.readline()  #read next line and process. until done and break\n",
    "            while pat.match(line):\n",
    "            #    print(pat.match(line).group(1))  #print the match -> add to lis    \n",
    "                line = f.readline()  #read next line and process.\n",
    "                \n",
    "        else:\n",
    "            line = f.readline() #not started, read nextline\n",
    "            cnt += 1\n",
    "##that was fun\n",
    "with open('house-votes-84.names', 'r') as f:\n",
    "    txt = f.read()\n",
    "    columns = pat.findall(txt)                   #this is what we want\n",
    "\n"
   ]
  },
  {
   "cell_type": "raw",
   "metadata": {
    "colab": {},
    "colab_type": "code",
    "id": "dPmXOHh1Cfea"
   },
   "source": [
    "## simplified for my brain..\n",
    "simp = df[['Class Name','handicapped-infants']]\n",
    "print(simp['Class Name'].value_counts())\n",
    "simp =simp.reset_index()\n",
    "simp.rename({'index': 'member'}, axis =1, inplace=True)\n",
    "simp.melt(id_vars=[ 'member', \"Class Name\"], value_name= 'vote') #"
   ]
  },
  {
   "cell_type": "code",
   "execution_count": 213,
   "metadata": {},
   "outputs": [
    {
     "name": "stdout",
     "output_type": "stream",
     "text": [
      "267\n"
     ]
    },
    {
     "data": {
      "text/plain": [
       "vote    int64\n",
       "dtype: object"
      ]
     },
     "execution_count": 213,
     "metadata": {},
     "output_type": "execute_result"
    }
   ],
   "source": [
    "df= pd.read_csv('house-votes-84.data', names=columns)\n",
    "df=df.reset_index()      \n",
    "df.rename({'index': 'voteinstance'}, axis =1, inplace=True)\n",
    "df = df.melt(id_vars=['voteinstance','Class Name'], var_name='issue',value_name='vote')\n",
    "\n",
    "filter = df['issue'] == 'handicapped-infants'\n",
    "df.vote = df['vote'].apply(lambda v : 1 if (v == 'y') else 0)\n",
    "df[filter].groupby(by='Class Name',axis=0).sum()\n",
    "votecounts =  df.groupby(by=['issue','Class Name'],axis=0).sum()  #rename vote to support\n",
    "votecounts.drop(labels='voteinstance', axis=1,inplace=True)\n",
    "\n",
    "tot_voters = df[filter][\"Class Name\"].count()  # Total number voters per issue\n",
    "voters_by_party = df[filter][\"Class Name\"].value_counts()  #number voters per party per issue\n",
    "print(voters_by_party['democrat'])\n",
    "#votecounts['party_percent'] = \n",
    "votecounts.dtypes\n",
    "#.apply(lambda p,v : v / voters_by_party[p])"
   ]
  },
  {
   "cell_type": "markdown",
   "metadata": {
    "colab_type": "text",
    "id": "wcA_AvvRAqW_"
   },
   "source": [
    "## Stretch Goals:\n",
    "\n",
    "1. Refactor your code into functions so it's easy to rerun with arbitrary variables\n",
    "2. Work on Performing a T-test without using Scipy in order to get \"under the hood\" and learn more thoroughly about this topic.\n",
    "### Start with a 1-sample t-test\n",
    " - Establish the conditions for your test \n",
    " - [Calculate the T Statistic](https://blog.minitab.com/hs-fs/hubfs/Imported_Blog_Media/701f9c0efa98a38fb397f3c3ec459b66.png?width=247&height=172&name=701f9c0efa98a38fb397f3c3ec459b66.png) (You'll need to omit NaN values from your sample).\n",
    " - Translate that t-statistic into a P-value. You can use a [table](https://www.google.com/search?q=t+statistic+table) or the [University of Iowa Applet](https://homepage.divms.uiowa.edu/~mbognar/applets/t.html)\n",
    "\n",
    " ### Then try a 2-sample t-test\n",
    " - Establish the conditions for your test \n",
    " - [Calculate the T Statistic](https://lh3.googleusercontent.com/proxy/rJJ5ZOL9ZDvKOOeBihXoZDgfk7uv1YsRzSQ1Tc10RX-r2HrRpRLVqlE9CWX23csYQXcTniFwlBg3H-qR8MKJPBGnjwndqlhDX3JxoDE5Yg) (You'll need to omit NaN values from your sample).\n",
    " - Translate that t-statistic into a P-value. You can use a [table](https://www.google.com/search?q=t+statistic+table) or the [University of Iowa Applet](https://homepage.divms.uiowa.edu/~mbognar/applets/t.html)\n",
    "\n",
    " ### Then check your Answers using Scipy!"
   ]
  },
  {
   "cell_type": "code",
   "execution_count": null,
   "metadata": {},
   "outputs": [],
   "source": [
    "im"
   ]
  },
  {
   "cell_type": "code",
   "execution_count": null,
   "metadata": {},
   "outputs": [],
   "source": [
    "  # RUN TH  TTEST against 2 classes"
   ]
  }
 ],
 "metadata": {
  "colab": {
   "include_colab_link": true,
   "name": "LS_DS_121_Statistics_Probability_Assignment.ipynb",
   "provenance": []
  },
  "kernelspec": {
   "display_name": "Python 3",
   "language": "python",
   "name": "python3"
  },
  "language_info": {
   "codemirror_mode": {
    "name": "ipython",
    "version": 3
   },
   "file_extension": ".py",
   "mimetype": "text/x-python",
   "name": "python",
   "nbconvert_exporter": "python",
   "pygments_lexer": "ipython3",
   "version": "3.7.4"
  }
 },
 "nbformat": 4,
 "nbformat_minor": 1
}
