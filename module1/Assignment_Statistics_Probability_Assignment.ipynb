{
  "nbformat": 4,
  "nbformat_minor": 0,
  "metadata": {
    "kernelspec": {
      "display_name": "Python 3",
      "language": "python",
      "name": "python3"
    },
    "language_info": {
      "codemirror_mode": {
        "name": "ipython",
        "version": 3
      },
      "file_extension": ".py",
      "mimetype": "text/x-python",
      "name": "python",
      "nbconvert_exporter": "python",
      "pygments_lexer": "ipython3",
      "version": "3.7.3"
    },
    "colab": {
      "name": "Assignment - Statistics Probability Assignment",
      "provenance": [],
      "collapsed_sections": [],
      "include_colab_link": true
    }
  },
  "cells": [
    {
      "cell_type": "markdown",
      "metadata": {
        "id": "view-in-github",
        "colab_type": "text"
      },
      "source": [
        "<a href=\"https://colab.research.google.com/github/Struth-Rourke/DS-Unit-1-Sprint-2-Statistics/blob/master/module1/Assignment_Statistics_Probability_Assignment.ipynb\" target=\"_parent\"><img src=\"https://colab.research.google.com/assets/colab-badge.svg\" alt=\"Open In Colab\"/></a>"
      ]
    },
    {
      "cell_type": "markdown",
      "metadata": {
        "id": "Sa5KWMO1ngPN",
        "colab_type": "text"
      },
      "source": [
        "<img align=\"left\" src=\"https://lever-client-logos.s3.amazonaws.com/864372b1-534c-480e-acd5-9711f850815c-1524247202159.png\" width=200>\n",
        "<br></br>\n",
        "<br></br>\n",
        "\n",
        "## *Data Science Unit 1 Sprint 2 Assignment 1*\n",
        "\n",
        "# Apply the t-test to real data\n",
        "\n",
        "Your assignment is to determine which issues have \"statistically significant\" differences between political parties in this [1980s congressional voting data](https://archive.ics.uci.edu/ml/datasets/Congressional+Voting+Records). The data consists of 435 instances (one for each congressperson), a class (democrat or republican), and 16 binary attributes (yes or no for voting for or against certain issues). Be aware - there are missing values!\n",
        "\n",
        "Your goals:\n",
        "\n",
        "1. Load and clean the data (or determine the best method to drop observations when running tests)\n",
        "2. Using hypothesis testing, find an issue that democrats support more than republicans with p < 0.01\n",
        "3. Using hypothesis testing, find an issue that republicans support more than democrats with p < 0.01\n",
        "4. Using hypothesis testing, find an issue where the difference between republicans and democrats has p > 0.1 (i.e. there may not be much of a difference)\n",
        "\n",
        "Note that this data will involve *2 sample* t-tests, because you're comparing averages across two groups (republicans and democrats) rather than a single group against a null hypothesis."
      ]
    },
    {
      "cell_type": "code",
      "metadata": {
        "id": "ZKwspo2CngPP",
        "colab_type": "code",
        "colab": {
          "base_uri": "https://localhost:8080/",
          "height": 204
        },
        "outputId": "0bd5f6a3-b33a-4adf-9037-85613c2df441"
      },
      "source": [
        "### YOUR CODE STARTS HERE\n",
        "\n",
        "!wget https://archive.ics.uci.edu/ml/machine-learning-databases/voting-records/house-votes-84.data"
      ],
      "execution_count": 6,
      "outputs": [
        {
          "output_type": "stream",
          "text": [
            "--2020-03-16 18:51:00--  https://archive.ics.uci.edu/ml/machine-learning-databases/voting-records/house-votes-84.data\n",
            "Resolving archive.ics.uci.edu (archive.ics.uci.edu)... 128.195.10.252\n",
            "Connecting to archive.ics.uci.edu (archive.ics.uci.edu)|128.195.10.252|:443... connected.\n",
            "HTTP request sent, awaiting response... 200 OK\n",
            "Length: 18171 (18K) [application/x-httpd-php]\n",
            "Saving to: ‘house-votes-84.data.1’\n",
            "\n",
            "\rhouse-votes-84.data   0%[                    ]       0  --.-KB/s               \rhouse-votes-84.data 100%[===================>]  17.75K  --.-KB/s    in 0.06s   \n",
            "\n",
            "2020-03-16 18:51:00 (286 KB/s) - ‘house-votes-84.data.1’ saved [18171/18171]\n",
            "\n"
          ],
          "name": "stdout"
        }
      ]
    },
    {
      "cell_type": "code",
      "metadata": {
        "id": "wfYw1a8CqvIq",
        "colab_type": "code",
        "colab": {
          "base_uri": "https://localhost:8080/",
          "height": 360
        },
        "outputId": "78e210cf-1122-4e93-fc25-d6dd0859fa54"
      },
      "source": [
        "import pandas as pd\n",
        "import numpy as np\n",
        "from scipy import stats\n",
        "\n",
        "\n",
        "names = ['party','handicapped-infants','water-project',\n",
        "         'budget','physician-fee-freeze', 'el-salvador-aid',\n",
        "         'religious-groups','anti-satellite-ban',\n",
        "         'aid-to-contras','mx-missile','immigration',\n",
        "         'synfuels', 'education', 'right-to-sue','crime','duty-free','south-africa']\n",
        "\n",
        "df = pd.read_csv('house-votes-84.data', names = names)\n",
        "df = df.replace({'y':1, 'n':0, '?':np.NaN})\n",
        "\n",
        "print(df.shape)\n",
        "print('.....')\n",
        "\n",
        "print(df['party'].value_counts())\n",
        "print('.....')\n",
        "\n",
        "df.head()"
      ],
      "execution_count": 42,
      "outputs": [
        {
          "output_type": "stream",
          "text": [
            "(435, 17)\n",
            ".....\n",
            "democrat      267\n",
            "republican    168\n",
            "Name: party, dtype: int64\n",
            ".....\n"
          ],
          "name": "stdout"
        },
        {
          "output_type": "execute_result",
          "data": {
            "text/html": [
              "<div>\n",
              "<style scoped>\n",
              "    .dataframe tbody tr th:only-of-type {\n",
              "        vertical-align: middle;\n",
              "    }\n",
              "\n",
              "    .dataframe tbody tr th {\n",
              "        vertical-align: top;\n",
              "    }\n",
              "\n",
              "    .dataframe thead th {\n",
              "        text-align: right;\n",
              "    }\n",
              "</style>\n",
              "<table border=\"1\" class=\"dataframe\">\n",
              "  <thead>\n",
              "    <tr style=\"text-align: right;\">\n",
              "      <th></th>\n",
              "      <th>party</th>\n",
              "      <th>handicapped-infants</th>\n",
              "      <th>water-project</th>\n",
              "      <th>budget</th>\n",
              "      <th>physician-fee-freeze</th>\n",
              "      <th>el-salvador-aid</th>\n",
              "      <th>religious-groups</th>\n",
              "      <th>anti-satellite-ban</th>\n",
              "      <th>aid-to-contras</th>\n",
              "      <th>mx-missile</th>\n",
              "      <th>immigration</th>\n",
              "      <th>synfuels</th>\n",
              "      <th>education</th>\n",
              "      <th>right-to-sue</th>\n",
              "      <th>crime</th>\n",
              "      <th>duty-free</th>\n",
              "      <th>south-africa</th>\n",
              "    </tr>\n",
              "  </thead>\n",
              "  <tbody>\n",
              "    <tr>\n",
              "      <th>0</th>\n",
              "      <td>republican</td>\n",
              "      <td>0.0</td>\n",
              "      <td>1.0</td>\n",
              "      <td>0.0</td>\n",
              "      <td>1.0</td>\n",
              "      <td>1.0</td>\n",
              "      <td>1.0</td>\n",
              "      <td>0.0</td>\n",
              "      <td>0.0</td>\n",
              "      <td>0.0</td>\n",
              "      <td>1.0</td>\n",
              "      <td>NaN</td>\n",
              "      <td>1.0</td>\n",
              "      <td>1.0</td>\n",
              "      <td>1.0</td>\n",
              "      <td>0.0</td>\n",
              "      <td>1.0</td>\n",
              "    </tr>\n",
              "    <tr>\n",
              "      <th>1</th>\n",
              "      <td>republican</td>\n",
              "      <td>0.0</td>\n",
              "      <td>1.0</td>\n",
              "      <td>0.0</td>\n",
              "      <td>1.0</td>\n",
              "      <td>1.0</td>\n",
              "      <td>1.0</td>\n",
              "      <td>0.0</td>\n",
              "      <td>0.0</td>\n",
              "      <td>0.0</td>\n",
              "      <td>0.0</td>\n",
              "      <td>0.0</td>\n",
              "      <td>1.0</td>\n",
              "      <td>1.0</td>\n",
              "      <td>1.0</td>\n",
              "      <td>0.0</td>\n",
              "      <td>NaN</td>\n",
              "    </tr>\n",
              "    <tr>\n",
              "      <th>2</th>\n",
              "      <td>democrat</td>\n",
              "      <td>NaN</td>\n",
              "      <td>1.0</td>\n",
              "      <td>1.0</td>\n",
              "      <td>NaN</td>\n",
              "      <td>1.0</td>\n",
              "      <td>1.0</td>\n",
              "      <td>0.0</td>\n",
              "      <td>0.0</td>\n",
              "      <td>0.0</td>\n",
              "      <td>0.0</td>\n",
              "      <td>1.0</td>\n",
              "      <td>0.0</td>\n",
              "      <td>1.0</td>\n",
              "      <td>1.0</td>\n",
              "      <td>0.0</td>\n",
              "      <td>0.0</td>\n",
              "    </tr>\n",
              "    <tr>\n",
              "      <th>3</th>\n",
              "      <td>democrat</td>\n",
              "      <td>0.0</td>\n",
              "      <td>1.0</td>\n",
              "      <td>1.0</td>\n",
              "      <td>0.0</td>\n",
              "      <td>NaN</td>\n",
              "      <td>1.0</td>\n",
              "      <td>0.0</td>\n",
              "      <td>0.0</td>\n",
              "      <td>0.0</td>\n",
              "      <td>0.0</td>\n",
              "      <td>1.0</td>\n",
              "      <td>0.0</td>\n",
              "      <td>1.0</td>\n",
              "      <td>0.0</td>\n",
              "      <td>0.0</td>\n",
              "      <td>1.0</td>\n",
              "    </tr>\n",
              "    <tr>\n",
              "      <th>4</th>\n",
              "      <td>democrat</td>\n",
              "      <td>1.0</td>\n",
              "      <td>1.0</td>\n",
              "      <td>1.0</td>\n",
              "      <td>0.0</td>\n",
              "      <td>1.0</td>\n",
              "      <td>1.0</td>\n",
              "      <td>0.0</td>\n",
              "      <td>0.0</td>\n",
              "      <td>0.0</td>\n",
              "      <td>0.0</td>\n",
              "      <td>1.0</td>\n",
              "      <td>NaN</td>\n",
              "      <td>1.0</td>\n",
              "      <td>1.0</td>\n",
              "      <td>1.0</td>\n",
              "      <td>1.0</td>\n",
              "    </tr>\n",
              "  </tbody>\n",
              "</table>\n",
              "</div>"
            ],
            "text/plain": [
              "        party  handicapped-infants  ...  duty-free  south-africa\n",
              "0  republican                  0.0  ...        0.0           1.0\n",
              "1  republican                  0.0  ...        0.0           NaN\n",
              "2    democrat                  NaN  ...        0.0           0.0\n",
              "3    democrat                  0.0  ...        0.0           1.0\n",
              "4    democrat                  1.0  ...        1.0           1.0\n",
              "\n",
              "[5 rows x 17 columns]"
            ]
          },
          "metadata": {
            "tags": []
          },
          "execution_count": 42
        }
      ]
    },
    {
      "cell_type": "code",
      "metadata": {
        "id": "9QgpPAQMrYQy",
        "colab_type": "code",
        "colab": {}
      },
      "source": [
        "rep = df[df['party'] == 'republican']\n",
        "dem = df[df['party'] == 'democrat']"
      ],
      "execution_count": 0,
      "outputs": []
    },
    {
      "cell_type": "code",
      "metadata": {
        "id": "QwSFOKcqwHyE",
        "colab_type": "code",
        "colab": {
          "base_uri": "https://localhost:8080/",
          "height": 68
        },
        "outputId": "49cd591c-43e9-478b-86f8-1a961f2fb611"
      },
      "source": [
        "### Democrats support MORE than Republicans -- p-value < .01\n",
        "\n",
        "print(stats.ttest_ind(dem['aid-to-contras'], rep['aid-to-contras'], nan_policy = 'omit'))\n",
        "\n",
        "print('Democrats: ' + str(dem['aid-to-contras'].mean()))\n",
        "print('Republicans: ' + str(rep['aid-to-contras'].mean()))"
      ],
      "execution_count": 51,
      "outputs": [
        {
          "output_type": "stream",
          "text": [
            "Ttest_indResult(statistic=18.052093200819733, pvalue=2.82471841372357e-54)\n",
            "Democrats: 0.8288973384030418\n",
            "Republicans: 0.15286624203821655\n"
          ],
          "name": "stdout"
        }
      ]
    },
    {
      "cell_type": "code",
      "metadata": {
        "id": "ADfYTZtBriWc",
        "colab_type": "code",
        "colab": {
          "base_uri": "https://localhost:8080/",
          "height": 68
        },
        "outputId": "10e44e09-b022-4c27-cd00-5499eb04482f"
      },
      "source": [
        "### Republicans support MORE than Democrats -- p-value < .01\n",
        "\n",
        "print(stats.ttest_ind(dem['el-salvador-aid'], rep['el-salvador-aid'], nan_policy = 'omit'))\n",
        "\n",
        "print('Democrats: ' + str(dem['el-salvador-aid'].mean()))\n",
        "print('Republicans: ' + str(rep['el-salvador-aid'].mean()))"
      ],
      "execution_count": 52,
      "outputs": [
        {
          "output_type": "stream",
          "text": [
            "Ttest_indResult(statistic=-21.13669261173219, pvalue=5.600520111729011e-68)\n",
            "Democrats: 0.21568627450980393\n",
            "Republicans: 0.9515151515151515\n"
          ],
          "name": "stdout"
        }
      ]
    },
    {
      "cell_type": "code",
      "metadata": {
        "id": "_fYpXHG0w1q0",
        "colab_type": "code",
        "colab": {
          "base_uri": "https://localhost:8080/",
          "height": 68
        },
        "outputId": "0ff7bd24-cc0d-4f61-d7e9-e73e8e670e5c"
      },
      "source": [
        "### Republicans AND Democrats support -- p-value > .1\n",
        "\n",
        "print(stats.ttest_ind(dem['water-project'], rep['water-project'], nan_policy = 'omit'))\n",
        "\n",
        "print('Democrats: ' + str(dem['water-project'].mean()))\n",
        "print('Republicans: ' + str(rep['water-project'].mean()))"
      ],
      "execution_count": 53,
      "outputs": [
        {
          "output_type": "stream",
          "text": [
            "Ttest_indResult(statistic=-0.08896538137868286, pvalue=0.9291556823993485)\n",
            "Democrats: 0.502092050209205\n",
            "Republicans: 0.5067567567567568\n"
          ],
          "name": "stdout"
        }
      ]
    },
    {
      "cell_type": "markdown",
      "metadata": {
        "id": "iVQiZhFq-rA3",
        "colab_type": "text"
      },
      "source": [
        "## Stretch Goals:\n",
        "\n",
        "1. Refactor your code into functions so it's easy to rerun with arbitrary variables"
      ]
    },
    {
      "cell_type": "code",
      "metadata": {
        "id": "gpAlmMrz-vDx",
        "colab_type": "code",
        "colab": {
          "base_uri": "https://localhost:8080/",
          "height": 68
        },
        "outputId": "8de57845-c603-4070-e033-b760d7113bce"
      },
      "source": [
        "def ind_ttest(x, y):\n",
        "  print(stats.ttest_ind(x, y, nan_policy = 'omit'))\n",
        "  print('Democrats: ' + str(x.mean()))\n",
        "  print('Republicans: ' + str(y.mean()))\n",
        "\n",
        "ind_ttest(dem['crime'], rep['crime'])"
      ],
      "execution_count": 165,
      "outputs": [
        {
          "output_type": "stream",
          "text": [
            "Ttest_indResult(statistic=-16.342085656197696, pvalue=9.952342705606092e-47)\n",
            "Democrats: 0.35019455252918286\n",
            "Republicans: 0.9813664596273292\n"
          ],
          "name": "stdout"
        }
      ]
    },
    {
      "cell_type": "code",
      "metadata": {
        "id": "gjV1-RP4d8d3",
        "colab_type": "code",
        "colab": {}
      },
      "source": [
        "def t_test(x, y):\n",
        "  t_val, p_val = stats.ttest_ind(x,y,nan_policy='omit')\n",
        "  mean_diff = x.mean() - y.mean()\n",
        "  return [t_val, p_val, mean_diff]"
      ],
      "execution_count": 0,
      "outputs": []
    },
    {
      "cell_type": "code",
      "metadata": {
        "id": "_jwS3v8ReunU",
        "colab_type": "code",
        "colab": {
          "base_uri": "https://localhost:8080/",
          "height": 34
        },
        "outputId": "9ee181e8-473e-42ee-8677-74372e92d4e6"
      },
      "source": [
        "t_test(rep['crime'], dem['crime'])"
      ],
      "execution_count": 166,
      "outputs": [
        {
          "output_type": "execute_result",
          "data": {
            "text/plain": [
              "[16.342085656197696, 9.952342705606092e-47, 0.6311719070981463]"
            ]
          },
          "metadata": {
            "tags": []
          },
          "execution_count": 166
        }
      ]
    },
    {
      "cell_type": "code",
      "metadata": {
        "id": "BMjCXny1e4vo",
        "colab_type": "code",
        "colab": {
          "base_uri": "https://localhost:8080/",
          "height": 289
        },
        "outputId": "1f332594-c67e-428e-d9b2-533f977e5dc0"
      },
      "source": [
        "issues = df.columns.tolist()\n",
        "issues.remove('party')\n",
        "issues"
      ],
      "execution_count": 167,
      "outputs": [
        {
          "output_type": "execute_result",
          "data": {
            "text/plain": [
              "['handicapped-infants',\n",
              " 'water-project',\n",
              " 'budget',\n",
              " 'physician-fee-freeze',\n",
              " 'el-salvador-aid',\n",
              " 'religious-groups',\n",
              " 'anti-satellite-ban',\n",
              " 'aid-to-contras',\n",
              " 'mx-missile',\n",
              " 'immigration',\n",
              " 'synfuels',\n",
              " 'education',\n",
              " 'right-to-sue',\n",
              " 'crime',\n",
              " 'duty-free',\n",
              " 'south-africa']"
            ]
          },
          "metadata": {
            "tags": []
          },
          "execution_count": 167
        }
      ]
    },
    {
      "cell_type": "code",
      "metadata": {
        "id": "8HtIlKN3fUis",
        "colab_type": "code",
        "colab": {}
      },
      "source": [
        "stuff = {}\n",
        "for issue in issues:\n",
        "  stuff[issue] = t_test(rep[issue], dem[issue])"
      ],
      "execution_count": 0,
      "outputs": []
    },
    {
      "cell_type": "code",
      "metadata": {
        "id": "SClT9_gvfwU2",
        "colab_type": "code",
        "colab": {
          "base_uri": "https://localhost:8080/",
          "height": 697
        },
        "outputId": "ce5a9fb8-57f9-43c6-e95a-f1cb0251772f"
      },
      "source": [
        "stuff"
      ],
      "execution_count": 168,
      "outputs": [
        {
          "output_type": "execute_result",
          "data": {
            "text/plain": [
              "{'aid-to-contras': [-18.052093200819733,\n",
              "  2.82471841372357e-54,\n",
              "  -0.6760310963648253],\n",
              " 'anti-satellite-ban': [-12.526187929077842,\n",
              "  8.521033017443867e-31,\n",
              "  -0.5314600314600315],\n",
              " 'budget': [-23.21277691701378, 2.0703402795404463e-77, -0.7543151969981238],\n",
              " 'crime': [16.342085656197696, 9.952342705606092e-47, 0.6311719070981463],\n",
              " 'duty-free': [-12.853146132542978,\n",
              "  5.997697174347365e-32,\n",
              "  -0.5477066094595975],\n",
              " 'education': [20.500685724563073, 1.8834203990450192e-64, 0.7263894286824718],\n",
              " 'el-salvador-aid': [21.13669261173219,\n",
              "  5.600520111729011e-68,\n",
              "  0.7358288770053476],\n",
              " 'handicapped-infants': [-9.205264294809222,\n",
              "  1.613440327937243e-18,\n",
              "  -0.41677237491190977],\n",
              " 'immigration': [1.7359117329695164, 0.08330248490425066, 0.08609286784191733],\n",
              " 'mx-missile': [-16.437503268542994,\n",
              "  5.03079265310811e-47,\n",
              "  -0.6429130009775171],\n",
              " 'physician-fee-freeze': [49.36708157301406,\n",
              "  1.994262314074344e-177,\n",
              "  0.9338247338247339],\n",
              " 'religious-groups': [9.737575825219457,\n",
              "  2.3936722520597287e-20,\n",
              "  0.42084617539927144],\n",
              " 'right-to-sue': [13.51064251060933,\n",
              "  1.2278581709672758e-34,\n",
              "  0.5710769539883465],\n",
              " 'south-africa': [-6.849454815841208,\n",
              "  3.652674361672226e-11,\n",
              "  -0.2776008885597927],\n",
              " 'synfuels': [-8.293603989407588,\n",
              "  1.5759322301054064e-15,\n",
              "  -0.37380688124306327],\n",
              " 'water-project': [0.08896538137868286,\n",
              "  0.9291556823993485,\n",
              "  0.0046647065475518]}"
            ]
          },
          "metadata": {
            "tags": []
          },
          "execution_count": 168
        }
      ]
    },
    {
      "cell_type": "markdown",
      "metadata": {
        "id": "wcA_AvvRAqW_",
        "colab_type": "text"
      },
      "source": [
        "2. Work on Performing a T-test without using Scipy in order to get \"under the hood\" and learn more thoroughly about this topic.\n",
        "### Start with a 1-sample t-test\n",
        " - Establish the conditions for your test \n",
        " - [Calculate the T Statistic](https://blog.minitab.com/hs-fs/hubfs/Imported_Blog_Media/701f9c0efa98a38fb397f3c3ec459b66.png?width=247&height=172&name=701f9c0efa98a38fb397f3c3ec459b66.png) (You'll need to omit NaN values from your sample).\n",
        " - Translate that t-statistic into a P-value. You can use a [table](https://www.google.com/search?q=t+statistic+table) or the [University of Iowa Applet](https://homepage.divms.uiowa.edu/~mbognar/applets/t.html)\n",
        "\n",
        " ### Then try a 2-sample t-test\n",
        " - Establish the conditions for your test \n",
        " - [Calculate the T Statistic](https://lh3.googleusercontent.com/proxy/rJJ5ZOL9ZDvKOOeBihXoZDgfk7uv1YsRzSQ1Tc10RX-r2HrRpRLVqlE9CWX23csYQXcTniFwlBg3H-qR8MKJPBGnjwndqlhDX3JxoDE5Yg) (You'll need to omit NaN values from your sample).\n",
        " - Translate that t-statistic into a P-value. You can use a [table](https://www.google.com/search?q=t+statistic+table) or the [University of Iowa Applet](https://homepage.divms.uiowa.edu/~mbognar/applets/t.html)\n",
        "\n",
        " ### Then check your Answers using Scipy!"
      ]
    },
    {
      "cell_type": "code",
      "metadata": {
        "id": "dPmXOHh1Cfea",
        "colab_type": "code",
        "colab": {
          "base_uri": "https://localhost:8080/",
          "height": 51
        },
        "outputId": "28ec500d-63d7-4086-ff21-6787e6b0dc6a"
      },
      "source": [
        "import pandas as pd\n",
        "import numpy as np\n",
        "from scipy import stats\n",
        "\n",
        "## Define two random distributions\n",
        "\n",
        "# Sample size\n",
        "n = 20\n",
        "# A dist -- Gaussian(Normal), mean = 2, variance = 1\n",
        "a = np.random.randn(n) + 2\n",
        "# B dist -- Gaussian(Normal), mean = 0, variance = 1\n",
        "b = np.random.randn(n)\n",
        "\n",
        "\n",
        "print(a.mean())\n",
        "print(b.mean())"
      ],
      "execution_count": 69,
      "outputs": [
        {
          "output_type": "stream",
          "text": [
            "2.1493763929102063\n",
            "-0.0865006132437616\n"
          ],
          "name": "stdout"
        }
      ]
    },
    {
      "cell_type": "code",
      "metadata": {
        "id": "okAedRQV4Gq6",
        "colab_type": "code",
        "colab": {
          "base_uri": "https://localhost:8080/",
          "height": 68
        },
        "outputId": "4587dc0e-df82-443b-ff84-f325f68b58d8"
      },
      "source": [
        "## Calculate Variance and Standard Deviation\n",
        "\n",
        "# Calculate Variance\n",
        "# For unbiased likelihood we have to divide the var by n-1, so we set the degrees of freedom parameter to 1 (ddof = 1)\n",
        "var_a = a.var(ddof = 1)\n",
        "print('Variance of A: ' + str(var_a))\n",
        "\n",
        "var_b = b.var(ddof = 1)\n",
        "print('Variance of B: ' + str(var_b))\n",
        "\n",
        "# Standard Deviation\n",
        "s = np.sqrt((var_a + var_b)/2)\n",
        "print('Standard Deviation between A and B: ' + str(s))"
      ],
      "execution_count": 72,
      "outputs": [
        {
          "output_type": "stream",
          "text": [
            "Variance of A: 0.9229372363589206\n",
            "Variance of B: 1.5642316550004147\n",
            "Standard Deviation between A and B: 1.1151611747544243\n"
          ],
          "name": "stdout"
        }
      ]
    },
    {
      "cell_type": "code",
      "metadata": {
        "id": "FYoXCfeb6HGf",
        "colab_type": "code",
        "colab": {
          "base_uri": "https://localhost:8080/",
          "height": 34
        },
        "outputId": "5357a261-8c4c-4621-d876-98d7913bfb34"
      },
      "source": [
        "## Calculate the T-Test\n",
        "t = (a.mean() - b.mean())/(s * np.sqrt(2/n))\n",
        "t"
      ],
      "execution_count": 74,
      "outputs": [
        {
          "output_type": "execute_result",
          "data": {
            "text/plain": [
              "6.340306735483214"
            ]
          },
          "metadata": {
            "tags": []
          },
          "execution_count": 74
        }
      ]
    },
    {
      "cell_type": "code",
      "metadata": {
        "id": "EUQ_V3B87jXA",
        "colab_type": "code",
        "colab": {
          "base_uri": "https://localhost:8080/",
          "height": 51
        },
        "outputId": "78f36cc3-06e6-4f5b-e2e1-114fdcde994f"
      },
      "source": [
        "## Compare with Critical T Value\n",
        "\n",
        "# Degrees of freedom\n",
        "dof = 2*n - 2\n",
        "\n",
        "# P-value after comparison with the t\n",
        "p = 1 - stats.t.cdf(t, df = dof)\n",
        "\n",
        "# Print t-test and p-value\n",
        "print(\"t = \" + str(t))\n",
        "print(\"p = \" + str(2*p))"
      ],
      "execution_count": 80,
      "outputs": [
        {
          "output_type": "stream",
          "text": [
            "t = 6.340306735483214\n",
            "p = 1.9451488597610478e-07\n"
          ],
          "name": "stdout"
        }
      ]
    },
    {
      "cell_type": "code",
      "metadata": {
        "id": "57BdjGbu_W8J",
        "colab_type": "code",
        "colab": {
          "base_uri": "https://localhost:8080/",
          "height": 51
        },
        "outputId": "36779587-25a3-4505-a815-db0634675eb6"
      },
      "source": [
        "# Checking with scipy to see what values are generated\n",
        "\n",
        "t2, p2 = stats.ttest_ind(a,b)\n",
        "print(\"t = \" + str(t2))\n",
        "print(\"p = \" + str(p2))"
      ],
      "execution_count": 81,
      "outputs": [
        {
          "output_type": "stream",
          "text": [
            "t = 6.340306735483214\n",
            "p = 1.9451488590706386e-07\n"
          ],
          "name": "stdout"
        }
      ]
    }
  ]
}