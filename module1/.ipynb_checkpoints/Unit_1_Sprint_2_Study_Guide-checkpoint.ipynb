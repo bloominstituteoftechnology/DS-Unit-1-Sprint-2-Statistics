{
 "cells": [
  {
   "cell_type": "markdown",
   "metadata": {
    "colab_type": "text",
    "id": "Nd2OOOVXxXS1"
   },
   "source": [
    "This study guide should reinforce and provide practice for all of the concepts you have seen in Unit 1 Sprint 2. There are a mix of written questions and coding exercises, both are equally important to prepare you for the sprint challenge as well as to be able to speak on these topics comfortably in interviews and on the job.\n",
    "\n",
    "If you get stuck or are unsure of something remember the 20 minute rule. If that doesn't help, then research a solution with google and stackoverflow. Only once you have exausted these methods should you turn to your Team Lead - they won't be there on your SC or during an interview. That being said, don't hesitate to ask for help if you truly are stuck.\n",
    "\n",
    "Have fun studying!"
   ]
  },
  {
   "cell_type": "markdown",
   "metadata": {
    "colab_type": "text",
    "id": "fpvInKdXekFi"
   },
   "source": [
    "## Questions"
   ]
  },
  {
   "cell_type": "markdown",
   "metadata": {
    "colab_type": "text",
    "id": "Q6bS8AhBZ86H"
   },
   "source": [
    "When completing this section, try to limit your answers to 2-3 sentences max and use plain english as much as possible. It's very easy to hide incomplete knowledge and undertanding behind fancy or technical words, so imagine you are explaining these things to a non-technical interviewer.\n",
    "\n",
    "1. What is a CSV and how do you load it into a notebook?\n",
    "```\n",
    "CSV stands for 'comma separated values' and is a flat file format or convention used to represent tabular data. \n",
    "Peiop\n",
    "```\n",
    "\n",
    "2. What is a NaN and what will you do with it?\n",
    "```\n",
    "Put your answer here\n",
    "```\n",
    "\n",
    "3. How do you check for datatypes?\n",
    "```\n",
    "Put your answer here\n",
    "```\n",
    "\n",
    "4. What is Crosstabs and what are they used for?\n",
    "```\n",
    "Put your answer here\n",
    "```\n",
    "5. What is the difference between a T-Test and a P-Test?\n",
    "```\n",
    "Put your answer here\n",
    "```"
   ]
  },
  {
   "cell_type": "markdown",
   "metadata": {
    "colab_type": "text",
    "id": "sj5-1Nnkpej6"
   },
   "source": [
    "### what to study. Use this section as a reasearch guide. There is nothing to answer here only keywords to help you seach for things and get you familiar with what to look for when researching. \n"
   ]
  },
  {
   "cell_type": "markdown",
   "metadata": {
    "colab_type": "text",
    "id": "vz6CusBmpDgz"
   },
   "source": [
    "Crosstab\n",
    "```\n",
    "```\n",
    "CSV\n",
    "```\n",
    "```\n",
    "T-Tests\n",
    "```\n",
    "```\n",
    "Datatypes\n",
    "```\n",
    "```\n",
    "Plots\n",
    "```\n",
    "```\n",
    "Analysis and Interpretation\n",
    "```\n"
   ]
  },
  {
   "cell_type": "markdown",
   "metadata": {
    "colab_type": "text",
    "id": "dUQaIwbceohq"
   },
   "source": [
    "## Practice Problems"
   ]
  },
  {
   "cell_type": "markdown",
   "metadata": {
    "colab_type": "text",
    "id": "4jnYgnFjP6eE"
   },
   "source": [
    "Load and validate a data set\n"
   ]
  },
  {
   "cell_type": "code",
   "execution_count": 0,
   "metadata": {
    "colab": {},
    "colab_type": "code",
    "id": "S9hFYrmqQlLA"
   },
   "outputs": [],
   "source": []
  },
  {
   "cell_type": "markdown",
   "metadata": {
    "colab_type": "text",
    "id": "bCbET5ioQlmQ"
   },
   "source": [
    "Check for NaNs\n"
   ]
  },
  {
   "cell_type": "code",
   "execution_count": 0,
   "metadata": {
    "colab": {},
    "colab_type": "code",
    "id": "lwNwPn5nQowi"
   },
   "outputs": [],
   "source": []
  },
  {
   "cell_type": "markdown",
   "metadata": {
    "colab_type": "text",
    "id": "2hq-PhcTQph7"
   },
   "source": [
    "Check for Dtypes"
   ]
  },
  {
   "cell_type": "code",
   "execution_count": 0,
   "metadata": {
    "colab": {},
    "colab_type": "code",
    "id": "ZsWsuYwXRRP3"
   },
   "outputs": [],
   "source": []
  },
  {
   "cell_type": "markdown",
   "metadata": {
    "colab_type": "text",
    "id": "jVqQYLgxld7M"
   },
   "source": [
    "create plots for explanitory visualizations"
   ]
  },
  {
   "cell_type": "code",
   "execution_count": 0,
   "metadata": {
    "colab": {},
    "colab_type": "code",
    "id": "ScovMuwvRdtq"
   },
   "outputs": [],
   "source": []
  },
  {
   "cell_type": "markdown",
   "metadata": {
    "colab_type": "text",
    "id": "uD5cTw9plh9c"
   },
   "source": [
    "Create a crosstab"
   ]
  },
  {
   "cell_type": "code",
   "execution_count": 0,
   "metadata": {
    "colab": {},
    "colab_type": "code",
    "id": "XlazD59ClhXi"
   },
   "outputs": [],
   "source": []
  },
  {
   "cell_type": "markdown",
   "metadata": {
    "colab_type": "text",
    "id": "JyThYBHGlm60"
   },
   "source": [
    "Do Ttests on the data"
   ]
  },
  {
   "cell_type": "code",
   "execution_count": 0,
   "metadata": {
    "colab": {},
    "colab_type": "code",
    "id": "pr_vT8VSmK6J"
   },
   "outputs": [],
   "source": []
  }
 ],
 "metadata": {
  "colab": {
   "collapsed_sections": [],
   "name": "Unit 1 Sprint 2 - Study Guide.ipynb",
   "provenance": []
  },
  "kernelspec": {
   "display_name": "Python 3",
   "language": "python",
   "name": "python3"
  },
  "language_info": {
   "codemirror_mode": {
    "name": "ipython",
    "version": 3
   },
   "file_extension": ".py",
   "mimetype": "text/x-python",
   "name": "python",
   "nbconvert_exporter": "python",
   "pygments_lexer": "ipython3",
   "version": "3.7.4"
  }
 },
 "nbformat": 4,
 "nbformat_minor": 1
}
