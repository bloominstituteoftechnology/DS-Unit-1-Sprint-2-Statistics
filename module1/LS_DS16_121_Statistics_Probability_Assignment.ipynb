{
  "nbformat": 4,
  "nbformat_minor": 0,
  "metadata": {
    "kernelspec": {
      "display_name": "Python 3",
      "language": "python",
      "name": "python3"
    },
    "language_info": {
      "codemirror_mode": {
        "name": "ipython",
        "version": 3
      },
      "file_extension": ".py",
      "mimetype": "text/x-python",
      "name": "python",
      "nbconvert_exporter": "python",
      "pygments_lexer": "ipython3",
      "version": "3.7.3"
    },
    "colab": {
      "name": "LS_DS16_121_Statistics_Probability_Assignment.ipynb",
      "provenance": [],
      "collapsed_sections": [],
      "include_colab_link": true
    }
  },
  "cells": [
    {
      "cell_type": "markdown",
      "metadata": {
        "id": "view-in-github",
        "colab_type": "text"
      },
      "source": [
        "<a href=\"https://colab.research.google.com/github/phuonggtrann/DS-Unit-1-Sprint-2-Statistics/blob/master/module1/LS_DS16_121_Statistics_Probability_Assignment.ipynb\" target=\"_parent\"><img src=\"https://colab.research.google.com/assets/colab-badge.svg\" alt=\"Open In Colab\"/></a>"
      ]
    },
    {
      "cell_type": "markdown",
      "metadata": {
        "id": "Sa5KWMO1ngPN",
        "colab_type": "text"
      },
      "source": [
        "<img align=\"left\" src=\"https://lever-client-logos.s3.amazonaws.com/864372b1-534c-480e-acd5-9711f850815c-1524247202159.png\" width=200>\n",
        "<br></br>\n",
        "<br></br>\n",
        "\n",
        "## *Data Science Unit 1 Sprint 2 Assignment 1*\n",
        "\n",
        "# Apply the t-test to real data\n",
        "\n",
        "Your assignment is to determine which issues have \"statistically significant\" differences between political parties in this [1980s congressional voting data](https://archive.ics.uci.edu/ml/datasets/Congressional+Voting+Records). The data consists of 435 instances (one for each congressperson), a class (democrat or republican), and 16 binary attributes (yes or no for voting for or against certain issues). Be aware - there are missing values!\n",
        "\n",
        "Your goals:\n",
        "\n",
        "1. Load and clean the data (or determine the best method to drop observations when running tests)\n",
        "2. Using hypothesis testing, find an issue that democrats support more than republicans with p < 0.01\n",
        "3. Using hypothesis testing, find an issue that republicans support more than democrats with p < 0.01\n",
        "4. Using hypothesis testing, find an issue where the difference between republicans and democrats has p > 0.1 (i.e. there may not be much of a difference)\n",
        "\n",
        "Note that this data will involve *2 sample* t-tests, because you're comparing averages across two groups (republicans and democrats) rather than a single group against a null hypothesis."
      ]
    },
    {
      "cell_type": "code",
      "metadata": {
        "id": "ZKwspo2CngPP",
        "colab_type": "code",
        "colab": {}
      },
      "source": [
        "# import statement\n",
        "import pandas as pd\n",
        "import numpy as np \n",
        "from scipy import stats\n",
        "import math"
      ],
      "execution_count": 0,
      "outputs": []
    },
    {
      "cell_type": "code",
      "metadata": {
        "id": "3z6d03bd3WYe",
        "colab_type": "code",
        "outputId": "e1431e61-7ee2-4f40-9267-051175c40b65",
        "colab": {
          "base_uri": "https://localhost:8080/",
          "height": 204
        }
      },
      "source": [
        "# 1. Load and clean data\n",
        "!wget https://archive.ics.uci.edu/ml/machine-learning-databases/voting-records/house-votes-84.data\n",
        "column_headers = ['party','handicapped-infants','water-project',\n",
        "                  'budget','physician-fee-freeze', 'el-salvador-aid',\n",
        "                  'religious-groups','anti-satellite-ban',\n",
        "                  'aid-to-contras','mx-missile','immigration',\n",
        "                  'synfuels', 'education', 'right-to-sue','crime','duty-free',\n",
        "                  'south-africa']\n",
        "\n",
        "df = pd.read_csv('house-votes-84.data', names=column_headers)"
      ],
      "execution_count": 0,
      "outputs": [
        {
          "output_type": "stream",
          "text": [
            "--2020-05-11 17:56:35--  https://archive.ics.uci.edu/ml/machine-learning-databases/voting-records/house-votes-84.data\n",
            "Resolving archive.ics.uci.edu (archive.ics.uci.edu)... 128.195.10.252\n",
            "Connecting to archive.ics.uci.edu (archive.ics.uci.edu)|128.195.10.252|:443... connected.\n",
            "HTTP request sent, awaiting response... 200 OK\n",
            "Length: 18171 (18K) [application/x-httpd-php]\n",
            "Saving to: ‘house-votes-84.data.1’\n",
            "\n",
            "house-votes-84.data 100%[===================>]  17.75K  --.-KB/s    in 0.1s    \n",
            "\n",
            "2020-05-11 17:56:36 (132 KB/s) - ‘house-votes-84.data.1’ saved [18171/18171]\n",
            "\n"
          ],
          "name": "stdout"
        }
      ]
    },
    {
      "cell_type": "code",
      "metadata": {
        "id": "8eIzfhjr4XyD",
        "colab_type": "code",
        "outputId": "65ecd3db-a378-46f1-d81b-8aa88fdcf361",
        "colab": {
          "base_uri": "https://localhost:8080/",
          "height": 258
        }
      },
      "source": [
        "# checking\n",
        "df.head()"
      ],
      "execution_count": 0,
      "outputs": [
        {
          "output_type": "execute_result",
          "data": {
            "text/html": [
              "<div>\n",
              "<style scoped>\n",
              "    .dataframe tbody tr th:only-of-type {\n",
              "        vertical-align: middle;\n",
              "    }\n",
              "\n",
              "    .dataframe tbody tr th {\n",
              "        vertical-align: top;\n",
              "    }\n",
              "\n",
              "    .dataframe thead th {\n",
              "        text-align: right;\n",
              "    }\n",
              "</style>\n",
              "<table border=\"1\" class=\"dataframe\">\n",
              "  <thead>\n",
              "    <tr style=\"text-align: right;\">\n",
              "      <th></th>\n",
              "      <th>party</th>\n",
              "      <th>handicapped-infants</th>\n",
              "      <th>water-project</th>\n",
              "      <th>budget</th>\n",
              "      <th>physician-fee-freeze</th>\n",
              "      <th>el-salvador-aid</th>\n",
              "      <th>religious-groups</th>\n",
              "      <th>anti-satellite-ban</th>\n",
              "      <th>aid-to-contras</th>\n",
              "      <th>mx-missile</th>\n",
              "      <th>immigration</th>\n",
              "      <th>synfuels</th>\n",
              "      <th>education</th>\n",
              "      <th>right-to-sue</th>\n",
              "      <th>crime</th>\n",
              "      <th>duty-free</th>\n",
              "      <th>south-africa</th>\n",
              "    </tr>\n",
              "  </thead>\n",
              "  <tbody>\n",
              "    <tr>\n",
              "      <th>0</th>\n",
              "      <td>republican</td>\n",
              "      <td>n</td>\n",
              "      <td>y</td>\n",
              "      <td>n</td>\n",
              "      <td>y</td>\n",
              "      <td>y</td>\n",
              "      <td>y</td>\n",
              "      <td>n</td>\n",
              "      <td>n</td>\n",
              "      <td>n</td>\n",
              "      <td>y</td>\n",
              "      <td>?</td>\n",
              "      <td>y</td>\n",
              "      <td>y</td>\n",
              "      <td>y</td>\n",
              "      <td>n</td>\n",
              "      <td>y</td>\n",
              "    </tr>\n",
              "    <tr>\n",
              "      <th>1</th>\n",
              "      <td>republican</td>\n",
              "      <td>n</td>\n",
              "      <td>y</td>\n",
              "      <td>n</td>\n",
              "      <td>y</td>\n",
              "      <td>y</td>\n",
              "      <td>y</td>\n",
              "      <td>n</td>\n",
              "      <td>n</td>\n",
              "      <td>n</td>\n",
              "      <td>n</td>\n",
              "      <td>n</td>\n",
              "      <td>y</td>\n",
              "      <td>y</td>\n",
              "      <td>y</td>\n",
              "      <td>n</td>\n",
              "      <td>?</td>\n",
              "    </tr>\n",
              "    <tr>\n",
              "      <th>2</th>\n",
              "      <td>democrat</td>\n",
              "      <td>?</td>\n",
              "      <td>y</td>\n",
              "      <td>y</td>\n",
              "      <td>?</td>\n",
              "      <td>y</td>\n",
              "      <td>y</td>\n",
              "      <td>n</td>\n",
              "      <td>n</td>\n",
              "      <td>n</td>\n",
              "      <td>n</td>\n",
              "      <td>y</td>\n",
              "      <td>n</td>\n",
              "      <td>y</td>\n",
              "      <td>y</td>\n",
              "      <td>n</td>\n",
              "      <td>n</td>\n",
              "    </tr>\n",
              "    <tr>\n",
              "      <th>3</th>\n",
              "      <td>democrat</td>\n",
              "      <td>n</td>\n",
              "      <td>y</td>\n",
              "      <td>y</td>\n",
              "      <td>n</td>\n",
              "      <td>?</td>\n",
              "      <td>y</td>\n",
              "      <td>n</td>\n",
              "      <td>n</td>\n",
              "      <td>n</td>\n",
              "      <td>n</td>\n",
              "      <td>y</td>\n",
              "      <td>n</td>\n",
              "      <td>y</td>\n",
              "      <td>n</td>\n",
              "      <td>n</td>\n",
              "      <td>y</td>\n",
              "    </tr>\n",
              "    <tr>\n",
              "      <th>4</th>\n",
              "      <td>democrat</td>\n",
              "      <td>y</td>\n",
              "      <td>y</td>\n",
              "      <td>y</td>\n",
              "      <td>n</td>\n",
              "      <td>y</td>\n",
              "      <td>y</td>\n",
              "      <td>n</td>\n",
              "      <td>n</td>\n",
              "      <td>n</td>\n",
              "      <td>n</td>\n",
              "      <td>y</td>\n",
              "      <td>?</td>\n",
              "      <td>y</td>\n",
              "      <td>y</td>\n",
              "      <td>y</td>\n",
              "      <td>y</td>\n",
              "    </tr>\n",
              "  </tbody>\n",
              "</table>\n",
              "</div>"
            ],
            "text/plain": [
              "        party handicapped-infants water-project  ... crime duty-free south-africa\n",
              "0  republican                   n             y  ...     y         n            y\n",
              "1  republican                   n             y  ...     y         n            ?\n",
              "2    democrat                   ?             y  ...     y         n            n\n",
              "3    democrat                   n             y  ...     n         n            y\n",
              "4    democrat                   y             y  ...     y         y            y\n",
              "\n",
              "[5 rows x 17 columns]"
            ]
          },
          "metadata": {
            "tags": []
          },
          "execution_count": 5
        }
      ]
    },
    {
      "cell_type": "code",
      "metadata": {
        "id": "OOoVSs3t9mFt",
        "colab_type": "code",
        "colab": {}
      },
      "source": [
        "# modifying value\n",
        "df = df.replace({\"y\": 1, \"n\": 0, \"?\": np.NaN})\n",
        "# splitting\n",
        "rep = df[df['party'] == 'republican']\n",
        "dem = df[df['party'] == 'democrat']"
      ],
      "execution_count": 0,
      "outputs": []
    },
    {
      "cell_type": "code",
      "metadata": {
        "id": "pZBpq2PtHF1C",
        "colab_type": "code",
        "colab": {}
      },
      "source": [
        "# Making list of value\n",
        "rep_data = []\n",
        "dem_data = []\n",
        "for a in column_headers[1:]:\n",
        "  rep_data.append(rep[a])\n",
        "  dem_data.append(dem[a])"
      ],
      "execution_count": 0,
      "outputs": []
    },
    {
      "cell_type": "code",
      "metadata": {
        "id": "EpmstM47D9gL",
        "colab_type": "code",
        "colab": {}
      },
      "source": [
        "# to calculate one sample t-test\n",
        "def one_sample(a, b):\n",
        "  return stats.ttest_1samp(a,b,nan_policy='omit')\n",
        "\n",
        "# to calculate 2 sample t-test\n",
        "def two_sample(a, b):\n",
        "  return stats.ttest_ind(a,b,nan_policy='omit')"
      ],
      "execution_count": 0,
      "outputs": []
    },
    {
      "cell_type": "code",
      "metadata": {
        "id": "cyKB5EjyEWVL",
        "colab_type": "code",
        "outputId": "77654402-9a1f-44b4-b5ed-7eebfb81e78e",
        "colab": {
          "base_uri": "https://localhost:8080/",
          "height": 289
        }
      },
      "source": [
        "# Data stat for democrat\n",
        "[one_sample(a, 1) for a in dem_data]\n",
        "\n",
        "# one-sample t-test result in order\n",
        "#['handicapped-infants','water-project',\n",
        "#'budget','physician-fee-freeze', 'el-salvador-aid',\n",
        "#'religious-groups','anti-satellite-ban',\n",
        "#'aid-to-contras','mx-missile','immigration',\n",
        "#'synfuels', 'education', 'right-to-sue','crime','duty-free',\n",
        "#'south-africa'] "
      ],
      "execution_count": 0,
      "outputs": [
        {
          "output_type": "execute_result",
          "data": {
            "text/plain": [
              "[Ttest_1sampResult(statistic=-12.96296499796484, pvalue=6.590394568934029e-30),\n",
              " Ttest_1sampResult(statistic=-15.36283393995609, pvalue=1.8031537722768159e-37),\n",
              " Ttest_1sampResult(statistic=-5.702205846437985, pvalue=3.217258173105712e-08),\n",
              " Ttest_1sampResult(statistic=-67.19374970932937, pvalue=1.7479453896049469e-165),\n",
              " Ttest_1sampResult(statistic=-30.39138633949369, pvalue=1.4023105444477201e-86),\n",
              " Ttest_1sampResult(statistic=-16.7950341092749, pvalue=3.12862805821349e-43),\n",
              " Ttest_1sampResult(statistic=-8.724104538575864, pvalue=3.377871549159516e-16),\n",
              " Ttest_1sampResult(statistic=-7.354085178140069, pvalue=2.464384519854037e-12),\n",
              " Ttest_1sampResult(statistic=-8.87861403790268, pvalue=1.418109388321789e-16),\n",
              " Ttest_1sampResult(statistic=-17.137489559066015, pvalue=1.1309092327824875e-44),\n",
              " Ttest_1sampResult(statistic=-15.750968962442089, pvalue=1.839716417353916e-39),\n",
              " Ttest_1sampResult(statistic=-38.305787204198445, pvalue=3.89658572232871e-106),\n",
              " Ttest_1sampResult(statistic=-24.808582253419022, pvalue=1.7639983932923968e-69),\n",
              " Ttest_1sampResult(statistic=-21.79500452448272, pvalue=2.895364097073912e-60),\n",
              " Ttest_1sampResult(statistic=-11.924240017711822, pvalue=2.9898892568373244e-26),\n",
              " Ttest_1sampResult(statistic=-3.572534923600723, pvalue=0.0004513789099729073)]"
            ]
          },
          "metadata": {
            "tags": []
          },
          "execution_count": 74
        }
      ]
    },
    {
      "cell_type": "markdown",
      "metadata": {
        "id": "9LDFnq67chbF",
        "colab_type": "text"
      },
      "source": [
        "2. Democrat issue in \"south africa\" has more support than republican because the p-value = 0.004 < 0.01. We fail to reject hypothesis \"Democrat can has more support than Republican\""
      ]
    },
    {
      "cell_type": "code",
      "metadata": {
        "id": "Bf5g4WW0cwTB",
        "colab_type": "code",
        "colab": {
          "base_uri": "https://localhost:8080/",
          "height": 51
        },
        "outputId": "3873028c-451f-4a98-d629-a14de80f5ca1"
      },
      "source": [
        "# Checking answer\n",
        "print(\"Republic:\", rep['south-africa'].mean())\n",
        "print(\"Democrat:\", dem['south-africa'].mean())"
      ],
      "execution_count": 95,
      "outputs": [
        {
          "output_type": "stream",
          "text": [
            "Republic: 0.6575342465753424\n",
            "Democrat: 0.9351351351351351\n"
          ],
          "name": "stdout"
        }
      ]
    },
    {
      "cell_type": "code",
      "metadata": {
        "id": "bF6GaUr-J2A4",
        "colab_type": "code",
        "outputId": "ae3ec09f-0be4-4d5f-f3b8-77bcc629057c",
        "colab": {
          "base_uri": "https://localhost:8080/",
          "height": 289
        }
      },
      "source": [
        "# data stat for republican\n",
        "[one_sample(a, 1) for a in rep_data]\n",
        "\n",
        "# one-sample t-test result in order\n",
        "#['handicapped-infants','water-project',\n",
        "#'budget','physician-fee-freeze', 'el-salvador-aid',\n",
        "#'religious-groups','anti-satellite-ban',\n",
        "#'aid-to-contras','mx-missile','immigration',\n",
        "#'synfuels', 'education', 'right-to-sue','crime','duty-free',\n",
        "#'south-africa'] "
      ],
      "execution_count": 0,
      "outputs": [
        {
          "output_type": "execute_result",
          "data": {
            "text/plain": [
              "[Ttest_1sampResult(statistic=-26.625236633811387, pvalue=1.978873197183477e-61),\n",
              " Ttest_1sampResult(statistic=-11.961605243444543, pvalue=1.8656648229239887e-23),\n",
              " Ttest_1sampResult(statistic=-32.43595087385152, pvalue=5.293293090366981e-73),\n",
              " Ttest_1sampResult(statistic=-1.4185450076223511, pvalue=0.1579292482594923),\n",
              " Ttest_1sampResult(statistic=-2.890793645020198, pvalue=0.004363402589282088),\n",
              " Ttest_1sampResult(statistic=-4.338836636208457, pvalue=2.488389920449274e-05),\n",
              " Ttest_1sampResult(statistic=-22.533735393166197, pvalue=1.1791229999687983e-51),\n",
              " Ttest_1sampResult(statistic=-29.402380855978315, pvalue=1.646323339608132e-65),\n",
              " Ttest_1sampResult(statistic=-35.49944402826317, pvalue=6.985438779792963e-79),\n",
              " Ttest_1sampResult(statistic=-11.407472760546423, pvalue=1.4608897556395605e-22),\n",
              " Ttest_1sampResult(statistic=-32.22244115962839, pvalue=2.3835416257429457e-71),\n",
              " Ttest_1sampResult(statistic=-4.776485613378817, pvalue=4.122594240061259e-06),\n",
              " Ttest_1sampResult(statistic=-5.039549466324287, pvalue=1.2709536953404217e-06),\n",
              " Ttest_1sampResult(statistic=-1.7429786813223835, pvalue=0.08325845614278887),\n",
              " Ttest_1sampResult(statistic=-39.650256709671595, pvalue=4.830431832375446e-83),\n",
              " Ttest_1sampResult(statistic=-8.690272339422588, pvalue=7.027169011521171e-15)]"
            ]
          },
          "metadata": {
            "tags": []
          },
          "execution_count": 73
        }
      ]
    },
    {
      "cell_type": "markdown",
      "metadata": {
        "id": "ua5RWR7bbb39",
        "colab_type": "text"
      },
      "source": [
        "3. Republican issue in \"el salvado\" has more support than democrat because the p-value = 0.004 < 0.01. We fail to reject hypothesis \"Republic can has more support than Democrat\""
      ]
    },
    {
      "cell_type": "code",
      "metadata": {
        "id": "qejDmCfXcEnM",
        "colab_type": "code",
        "colab": {
          "base_uri": "https://localhost:8080/",
          "height": 51
        },
        "outputId": "a3bbf5f9-e46d-451f-8ef4-23b9af16d70c"
      },
      "source": [
        "# Checking answer\n",
        "print(\"Republic:\", rep['el-salvador-aid'].mean())\n",
        "print(\"Democrat:\", dem['el-salvador-aid'].mean())"
      ],
      "execution_count": 94,
      "outputs": [
        {
          "output_type": "stream",
          "text": [
            "Republic: 0.9515151515151515\n",
            "Democrat: 0.21568627450980393\n"
          ],
          "name": "stdout"
        }
      ]
    },
    {
      "cell_type": "code",
      "metadata": {
        "id": "zJkdqnC0KF-m",
        "colab_type": "code",
        "outputId": "ed110815-ff2d-4bd1-eae5-2a9fec556065",
        "colab": {
          "base_uri": "https://localhost:8080/",
          "height": 289
        }
      },
      "source": [
        "# 2 sample data \n",
        "[two_sample(dem_data[i], rep_data[i]) for i in range(len(dem_data))]\n",
        "\n",
        "# two sample t-test in order\n",
        "'''['handicapped-infants','water-project',\n",
        "'budget','physician-fee-freeze', 'el-salvador-aid',\n",
        "'religious-groups','anti-satellite-ban',\n",
        "'aid-to-contras','mx-missile','immigration',\n",
        "'synfuels', 'education', 'right-to-sue','crime','duty-free',\n",
        "'south-africa'] '''"
      ],
      "execution_count": 0,
      "outputs": [
        {
          "output_type": "execute_result",
          "data": {
            "text/plain": [
              "[Ttest_indResult(statistic=9.205264294809222, pvalue=1.613440327937243e-18),\n",
              " Ttest_indResult(statistic=-0.08896538137868286, pvalue=0.9291556823993485),\n",
              " Ttest_indResult(statistic=23.21277691701378, pvalue=2.0703402795404463e-77),\n",
              " Ttest_indResult(statistic=-49.36708157301406, pvalue=1.994262314074344e-177),\n",
              " Ttest_indResult(statistic=-21.13669261173219, pvalue=5.600520111729011e-68),\n",
              " Ttest_indResult(statistic=-9.737575825219457, pvalue=2.3936722520597287e-20),\n",
              " Ttest_indResult(statistic=12.526187929077842, pvalue=8.521033017443867e-31),\n",
              " Ttest_indResult(statistic=18.052093200819733, pvalue=2.82471841372357e-54),\n",
              " Ttest_indResult(statistic=16.437503268542994, pvalue=5.03079265310811e-47),\n",
              " Ttest_indResult(statistic=-1.7359117329695164, pvalue=0.08330248490425066),\n",
              " Ttest_indResult(statistic=8.293603989407588, pvalue=1.5759322301054064e-15),\n",
              " Ttest_indResult(statistic=-20.500685724563073, pvalue=1.8834203990450192e-64),\n",
              " Ttest_indResult(statistic=-13.51064251060933, pvalue=1.2278581709672758e-34),\n",
              " Ttest_indResult(statistic=-16.342085656197696, pvalue=9.952342705606092e-47),\n",
              " Ttest_indResult(statistic=12.853146132542978, pvalue=5.997697174347365e-32),\n",
              " Ttest_indResult(statistic=6.849454815841208, pvalue=3.652674361672226e-11)]"
            ]
          },
          "metadata": {
            "tags": []
          },
          "execution_count": 65
        }
      ]
    },
    {
      "cell_type": "markdown",
      "metadata": {
        "id": "Uz7OQLsyMVvd",
        "colab_type": "text"
      },
      "source": [
        "3. Null hypothesis with p-value > 0.1. \n",
        "*Fail to reject Water-project (p-value = 0.9 > 0.1).*\n",
        "Reject everything else becasue their p-value < 0.1"
      ]
    },
    {
      "cell_type": "markdown",
      "metadata": {
        "id": "wcA_AvvRAqW_",
        "colab_type": "text"
      },
      "source": [
        "## Stretch Goals:\n",
        "\n",
        "1. Refactor your code into functions so it's easy to rerun with arbitrary variables\n",
        "2. Work on Performing a T-test without using Scipy in order to get \"under the hood\" and learn more thoroughly about this topic.\n",
        "### Start with a 1-sample t-test\n",
        " - Establish the conditions for your test \n",
        " - [Calculate the T Statistic](https://blog.minitab.com/hs-fs/hubfs/Imported_Blog_Media/701f9c0efa98a38fb397f3c3ec459b66.png?width=247&height=172&name=701f9c0efa98a38fb397f3c3ec459b66.png) (You'll need to omit NaN values from your sample).\n",
        " - Translate that t-statistic into a P-value. You can use a [table](https://www.google.com/search?q=t+statistic+table) or the [University of Iowa Applet](https://homepage.divms.uiowa.edu/~mbognar/applets/t.html)\n",
        "\n",
        " ### Then try a 2-sample t-test\n",
        " - Establish the conditions for your test \n",
        " - [Calculate the T Statistic](https://lh3.googleusercontent.com/proxy/rJJ5ZOL9ZDvKOOeBihXoZDgfk7uv1YsRzSQ1Tc10RX-r2HrRpRLVqlE9CWX23csYQXcTniFwlBg3H-qR8MKJPBGnjwndqlhDX3JxoDE5Yg) (You'll need to omit NaN values from your sample).\n",
        " - Translate that t-statistic into a P-value. You can use a [table](https://www.google.com/search?q=t+statistic+table) or the [University of Iowa Applet](https://homepage.divms.uiowa.edu/~mbognar/applets/t.html)\n",
        "\n",
        " ### Then check your Answers using Scipy!"
      ]
    },
    {
      "cell_type": "code",
      "metadata": {
        "id": "dPmXOHh1Cfea",
        "colab_type": "code",
        "colab": {
          "base_uri": "https://localhost:8080/",
          "height": 68
        },
        "outputId": "3ba1ab1e-441f-419c-cb05-61d40417fbe7"
      },
      "source": [
        "# Dropping na value and check if there's any na value left\n",
        "dem_handicapped_nona = dem['handicapped-infants'].dropna()\n",
        "dem_handicapped_nona.isnull().sum()\n",
        "\n",
        "# Gathering data, hypothesis mean will be 0.5\n",
        "sample_mean = dem_handicapped_nona.mean()\n",
        "sample_std = dem_handicapped_nona.std()\n",
        "sample_count = dem_handicapped_nona.count()\n",
        "\n",
        "# Looking at mean and standard deviation, sample size \n",
        "print(sample_mean, sample_std, sample_count)\n",
        "\n",
        "# Calculating t\n",
        "sample_t = (sample_mean - 0.5) / (sample_std / math.sqrt(sample_count))\n",
        "print(sample_t)\n",
        "\n",
        "# Checking with scipi\n",
        "stats.ttest_1samp(dem_handicapped_nona, 0.5)"
      ],
      "execution_count": 87,
      "outputs": [
        {
          "output_type": "stream",
          "text": [
            "0.6046511627906976 0.489875782733103 258\n",
            "3.4313730876965733\n"
          ],
          "name": "stdout"
        },
        {
          "output_type": "execute_result",
          "data": {
            "text/plain": [
              "Ttest_1sampResult(statistic=3.431373087696574, pvalue=0.0006996123171673836)"
            ]
          },
          "metadata": {
            "tags": []
          },
          "execution_count": 87
        }
      ]
    },
    {
      "cell_type": "code",
      "metadata": {
        "id": "YmocTO69X4KN",
        "colab_type": "code",
        "colab": {
          "base_uri": "https://localhost:8080/",
          "height": 68
        },
        "outputId": "7039ae99-b5b4-487d-fbe2-a6dcfa176aaf"
      },
      "source": [
        "rep_handicapped_nona = rep['handicapped-infants'].dropna()\n",
        "rep_handicapped_nona.isnull().sum()\n",
        "\n",
        "# Gathering data, hypothesis mean will be 0.5\n",
        "sample2_mean = rep_handicapped_nona.mean()\n",
        "sample2_std = rep_handicapped_nona.std()\n",
        "sample2_count = rep_handicapped_nona.count()\n",
        "\n",
        "# Looking at mean and standard deviation, sample size \n",
        "print(sample2_mean, sample2_std, sample2_count)\n",
        "\n",
        "# Calculating t\n",
        "sample_tpair = (sample_mean - sample2_mean) / math.sqrt( ((sample_std**2)/sample_count) + ((sample2_std**2)/sample2_count))\n",
        "print(sample_tpair)\n",
        "\n",
        "# Checking with scipi\n",
        "stats.ttest_ind(dem_handicapped_nona, rep_handicapped_nona)"
      ],
      "execution_count": 90,
      "outputs": [
        {
          "output_type": "stream",
          "text": [
            "0.18787878787878787 0.3918044370924747 165\n",
            "9.662336936353906\n"
          ],
          "name": "stdout"
        },
        {
          "output_type": "execute_result",
          "data": {
            "text/plain": [
              "Ttest_indResult(statistic=9.205264294809222, pvalue=1.613440327936998e-18)"
            ]
          },
          "metadata": {
            "tags": []
          },
          "execution_count": 90
        }
      ]
    }
  ]
}