{
  "nbformat": 4,
  "nbformat_minor": 0,
  "metadata": {
    "colab": {
      "name": "DSPT6U1S2M2_Sampling_Confidence_Intervals_and_Hypothesis_Testing_Assignment_PavneetGhai.ipynb",
      "provenance": [],
      "collapsed_sections": [],
      "include_colab_link": true
    },
    "kernelspec": {
      "name": "python3",
      "display_name": "Python 3"
    }
  },
  "cells": [
    {
      "cell_type": "markdown",
      "metadata": {
        "id": "view-in-github",
        "colab_type": "text"
      },
      "source": [
        "<a href=\"https://colab.research.google.com/github/pavanghai/DS-Unit-1-Sprint-2-Statistics/blob/master/DSPT6U1S2M2_Sampling_Confidence_Intervals_and_Hypothesis_Testing_Assignment_PavneetGhai.ipynb\" target=\"_parent\"><img src=\"https://colab.research.google.com/assets/colab-badge.svg\" alt=\"Open In Colab\"/></a>"
      ]
    },
    {
      "cell_type": "markdown",
      "metadata": {
        "id": "11OzdxWTM7UR",
        "colab_type": "text"
      },
      "source": [
        "## Assignment - Build a confidence interval\n",
        "\n",
        "A confidence interval refers to a neighborhood around some point estimate, the size of which is determined by the desired p-value. For instance, we might say that 52% of Americans prefer tacos to burritos, with a 95% confidence interval of +/- 5%.\n",
        "\n",
        "52% (0.52) is the point estimate, and +/- 5% (the interval $[0.47, 0.57]$) is the confidence interval. \"95% confidence\" means a p-value $\\leq 1 - 0.95 = 0.05$.\n",
        "\n",
        "In this case, the confidence interval includes $0.5$ - which is the natural null hypothesis (that half of Americans prefer tacos and half burritos, thus there is no clear favorite). So in this case, we could use the confidence interval to report that we've failed to reject the null hypothesis.\n",
        "\n",
        "But providing the full analysis with a confidence interval, including a graphical representation of it, can be a helpful and powerful way to tell your story. Done well, it is also more intuitive to a layperson than simply saying \"fail to reject the null hypothesis\" - it shows that in fact the data does *not* give a single clear result (the point estimate) but a whole range of possibilities.\n",
        "\n",
        "How is a confidence interval built, and how should it be interpreted? It does *not* mean that 95% of the data lies in that interval - instead, the frequentist interpretation is \"if we were to repeat this experiment 100 times, we would expect the average result to lie in this interval ~95 times.\"\n",
        "\n",
        "For a 95% confidence interval and a normal(-ish) distribution, you can simply remember that +/-2 standard deviations contains 95% of the probability mass, and so the 95% confidence interval based on a given sample is centered at the mean (point estimate) and has a range of +/- 2 (or technically 1.96) standard deviations.\n",
        "\n",
        "Different distributions/assumptions (90% confidence, 99% confidence) will require different math, but the overall process and interpretation (with a frequentist approach) will be the same.\n",
        "\n",
        "Your assignment - using the data from the prior module ([congressional voting records](https://archive.ics.uci.edu/ml/datasets/Congressional+Voting+Records)):\n",
        "\n",
        "\n",
        "### Confidence Intervals:\n",
        "1. Generate and numerically represent a confidence interval\n",
        "2. Graphically (with a plot) represent the confidence interval\n",
        "3. Interpret the confidence interval - what does it tell you about the data and its distribution?\n",
        "\n",
        "### Chi-squared tests:\n",
        "4. Take a dataset that we have used in the past in class that has **categorical** variables. Pick two of those categorical variables and run a chi-squared tests on that data\n",
        "  - By hand using Numpy\n",
        "  - In a single line using Scipy\n"
      ]
    },
    {
      "cell_type": "code",
      "metadata": {
        "id": "Ckcr4A4FM7cs",
        "colab_type": "code",
        "colab": {}
      },
      "source": [
        "# TODO - your code!\n"
      ],
      "execution_count": 0,
      "outputs": []
    },
    {
      "cell_type": "markdown",
      "metadata": {
        "id": "px8Am4xLyzkr",
        "colab_type": "text"
      },
      "source": [
        "## Importing Library"
      ]
    },
    {
      "cell_type": "code",
      "metadata": {
        "id": "VWLYmZNXzGte",
        "colab_type": "code",
        "outputId": "96db437c-1911-43d8-825b-1117d06a082d",
        "colab": {
          "base_uri": "https://localhost:8080/",
          "height": 51
        }
      },
      "source": [
        "import numpy as np\n",
        "import pandas as pd\n",
        "import scipy.stats as stats\n",
        "import matplotlib.pyplot as plt\n",
        "%matplotlib inline\n",
        "import seaborn as sns"
      ],
      "execution_count": 1,
      "outputs": [
        {
          "output_type": "stream",
          "text": [
            "/usr/local/lib/python3.6/dist-packages/statsmodels/tools/_testing.py:19: FutureWarning: pandas.util.testing is deprecated. Use the functions in the public API at pandas.testing instead.\n",
            "  import pandas.util.testing as tm\n"
          ],
          "name": "stderr"
        }
      ]
    },
    {
      "cell_type": "markdown",
      "metadata": {
        "id": "A5ksOc_uzgnK",
        "colab_type": "text"
      },
      "source": [
        "## Read DataSet, define Dataframe, Cleaning and views"
      ]
    },
    {
      "cell_type": "code",
      "metadata": {
        "id": "BWo71vIwzxCB",
        "colab_type": "code",
        "colab": {}
      },
      "source": [
        "# Removed \"s\" from https:// to avoide certificate expired error\n",
        "dataset_url = (\"http://archive.ics.uci.edu/ml/machine-learning-databases/voting-records/house-votes-84.data\")\n",
        "\n",
        "#dataset is without column headers we need column Headers\n",
        "column_headers = ['party','handicapped-infants','water-project','budget','physician-fee-freeze', 'el-salvador-aid',\n",
        "                          'religious-groups','anti-satellite-ban','aid-to-contras','mx-missile','immigration',\n",
        "                          'synfuels', 'education', 'right-to-sue','crime','duty-free','south-africa']\n",
        "\n",
        "# header=none, made blank header, names=column_headers, changed the blank to as per column_headers variable, na_value, replaced ? with nun value\n",
        "voters_df = pd.read_csv(dataset_url, header=None, names=column_headers, na_values='?') "
      ],
      "execution_count": 0,
      "outputs": []
    },
    {
      "cell_type": "code",
      "metadata": {
        "id": "0lcxaov1ccZ7",
        "colab_type": "code",
        "colab": {}
      },
      "source": [
        "#Replace N with 0 and Y with 1 and Split dataframe into republican and democrat\n",
        "voters_df=voters_df.replace({'y': 1, 'n': 0}) # Replaced 'y' with 1 & 'n' with 0 using Dictionary {key:value}\n",
        "rep_df = voters_df[voters_df['party']=='republican'] # rep_df where party columns values are republican\n",
        "dem_df = voters_df[voters_df['party']=='democrat'] # dem_df where party columns values are democrat"
      ],
      "execution_count": 0,
      "outputs": []
    },
    {
      "cell_type": "markdown",
      "metadata": {
        "id": "GdxWfTkpgNVa",
        "colab_type": "text"
      },
      "source": [
        "## View of Dataframe, Size, Shape, Discription"
      ]
    },
    {
      "cell_type": "code",
      "metadata": {
        "id": "62l75Rzhzwwp",
        "colab_type": "code",
        "outputId": "f0952225-58c3-4ce0-9fd1-8049793c1c6a",
        "colab": {
          "base_uri": "https://localhost:8080/",
          "height": 238
        }
      },
      "source": [
        "print(\"Voters :\",voters_df.shape, 'Republican : ', rep_df.shape, 'Democrat :', dem_df.shape)\n",
        "voters_df.head(5)"
      ],
      "execution_count": 4,
      "outputs": [
        {
          "output_type": "stream",
          "text": [
            "Voters : (435, 17) Republican :  (168, 17) Democrat : (267, 17)\n"
          ],
          "name": "stdout"
        },
        {
          "output_type": "execute_result",
          "data": {
            "text/html": [
              "<div>\n",
              "<style scoped>\n",
              "    .dataframe tbody tr th:only-of-type {\n",
              "        vertical-align: middle;\n",
              "    }\n",
              "\n",
              "    .dataframe tbody tr th {\n",
              "        vertical-align: top;\n",
              "    }\n",
              "\n",
              "    .dataframe thead th {\n",
              "        text-align: right;\n",
              "    }\n",
              "</style>\n",
              "<table border=\"1\" class=\"dataframe\">\n",
              "  <thead>\n",
              "    <tr style=\"text-align: right;\">\n",
              "      <th></th>\n",
              "      <th>party</th>\n",
              "      <th>handicapped-infants</th>\n",
              "      <th>water-project</th>\n",
              "      <th>budget</th>\n",
              "      <th>physician-fee-freeze</th>\n",
              "      <th>el-salvador-aid</th>\n",
              "      <th>religious-groups</th>\n",
              "      <th>anti-satellite-ban</th>\n",
              "      <th>aid-to-contras</th>\n",
              "      <th>mx-missile</th>\n",
              "      <th>immigration</th>\n",
              "      <th>synfuels</th>\n",
              "      <th>education</th>\n",
              "      <th>right-to-sue</th>\n",
              "      <th>crime</th>\n",
              "      <th>duty-free</th>\n",
              "      <th>south-africa</th>\n",
              "    </tr>\n",
              "  </thead>\n",
              "  <tbody>\n",
              "    <tr>\n",
              "      <th>0</th>\n",
              "      <td>republican</td>\n",
              "      <td>0.0</td>\n",
              "      <td>1.0</td>\n",
              "      <td>0.0</td>\n",
              "      <td>1.0</td>\n",
              "      <td>1.0</td>\n",
              "      <td>1.0</td>\n",
              "      <td>0.0</td>\n",
              "      <td>0.0</td>\n",
              "      <td>0.0</td>\n",
              "      <td>1.0</td>\n",
              "      <td>NaN</td>\n",
              "      <td>1.0</td>\n",
              "      <td>1.0</td>\n",
              "      <td>1.0</td>\n",
              "      <td>0.0</td>\n",
              "      <td>1.0</td>\n",
              "    </tr>\n",
              "    <tr>\n",
              "      <th>1</th>\n",
              "      <td>republican</td>\n",
              "      <td>0.0</td>\n",
              "      <td>1.0</td>\n",
              "      <td>0.0</td>\n",
              "      <td>1.0</td>\n",
              "      <td>1.0</td>\n",
              "      <td>1.0</td>\n",
              "      <td>0.0</td>\n",
              "      <td>0.0</td>\n",
              "      <td>0.0</td>\n",
              "      <td>0.0</td>\n",
              "      <td>0.0</td>\n",
              "      <td>1.0</td>\n",
              "      <td>1.0</td>\n",
              "      <td>1.0</td>\n",
              "      <td>0.0</td>\n",
              "      <td>NaN</td>\n",
              "    </tr>\n",
              "    <tr>\n",
              "      <th>2</th>\n",
              "      <td>democrat</td>\n",
              "      <td>NaN</td>\n",
              "      <td>1.0</td>\n",
              "      <td>1.0</td>\n",
              "      <td>NaN</td>\n",
              "      <td>1.0</td>\n",
              "      <td>1.0</td>\n",
              "      <td>0.0</td>\n",
              "      <td>0.0</td>\n",
              "      <td>0.0</td>\n",
              "      <td>0.0</td>\n",
              "      <td>1.0</td>\n",
              "      <td>0.0</td>\n",
              "      <td>1.0</td>\n",
              "      <td>1.0</td>\n",
              "      <td>0.0</td>\n",
              "      <td>0.0</td>\n",
              "    </tr>\n",
              "    <tr>\n",
              "      <th>3</th>\n",
              "      <td>democrat</td>\n",
              "      <td>0.0</td>\n",
              "      <td>1.0</td>\n",
              "      <td>1.0</td>\n",
              "      <td>0.0</td>\n",
              "      <td>NaN</td>\n",
              "      <td>1.0</td>\n",
              "      <td>0.0</td>\n",
              "      <td>0.0</td>\n",
              "      <td>0.0</td>\n",
              "      <td>0.0</td>\n",
              "      <td>1.0</td>\n",
              "      <td>0.0</td>\n",
              "      <td>1.0</td>\n",
              "      <td>0.0</td>\n",
              "      <td>0.0</td>\n",
              "      <td>1.0</td>\n",
              "    </tr>\n",
              "    <tr>\n",
              "      <th>4</th>\n",
              "      <td>democrat</td>\n",
              "      <td>1.0</td>\n",
              "      <td>1.0</td>\n",
              "      <td>1.0</td>\n",
              "      <td>0.0</td>\n",
              "      <td>1.0</td>\n",
              "      <td>1.0</td>\n",
              "      <td>0.0</td>\n",
              "      <td>0.0</td>\n",
              "      <td>0.0</td>\n",
              "      <td>0.0</td>\n",
              "      <td>1.0</td>\n",
              "      <td>NaN</td>\n",
              "      <td>1.0</td>\n",
              "      <td>1.0</td>\n",
              "      <td>1.0</td>\n",
              "      <td>1.0</td>\n",
              "    </tr>\n",
              "  </tbody>\n",
              "</table>\n",
              "</div>"
            ],
            "text/plain": [
              "        party  handicapped-infants  ...  duty-free  south-africa\n",
              "0  republican                  0.0  ...        0.0           1.0\n",
              "1  republican                  0.0  ...        0.0           NaN\n",
              "2    democrat                  NaN  ...        0.0           0.0\n",
              "3    democrat                  0.0  ...        0.0           1.0\n",
              "4    democrat                  1.0  ...        1.0           1.0\n",
              "\n",
              "[5 rows x 17 columns]"
            ]
          },
          "metadata": {
            "tags": []
          },
          "execution_count": 4
        }
      ]
    },
    {
      "cell_type": "markdown",
      "metadata": {
        "id": "GVkU_RM_9gjx",
        "colab_type": "text"
      },
      "source": [
        "##Defining Function to calculate confidence interval"
      ]
    },
    {
      "cell_type": "code",
      "metadata": {
        "id": "NmgA7P1xzwuI",
        "colab_type": "code",
        "colab": {}
      },
      "source": [
        "# Define function for Confidence of intervel \n",
        "# How to write comments in function refer as help?\n",
        "def conf_int(data,confi = 0.95): # confi set to default of 0.95\n",
        "  cal_q=1-((1-confi)/2)\n",
        "  mean = data.mean()\n",
        "  z_critical = stats.norm.ppf(q=cal_q)  # Get the z-critical value* used 0.975 as (0.5/2=0.25)\n",
        "  moe = z_critical * (data.std()/np.sqrt(data.count())) # moe = margin of error\n",
        "\n",
        "  return (mean-moe, mean, mean+moe)\n",
        "\n"
      ],
      "execution_count": 0,
      "outputs": []
    },
    {
      "cell_type": "markdown",
      "metadata": {
        "id": "VfA6OyvoGuOn",
        "colab_type": "text"
      },
      "source": [
        "## workings with dataframe\n",
        "**Confidence Intervals:**   \n",
        "Generate and numerically represent 95% confidence interval on Voters, Republican & Democrat"
      ]
    },
    {
      "cell_type": "code",
      "metadata": {
        "id": "LoNnqiVKzwp1",
        "colab_type": "code",
        "outputId": "31328245-0b94-4036-cfa0-e2c2ef4cadda",
        "colab": {
          "base_uri": "https://localhost:8080/",
          "height": 545
        }
      },
      "source": [
        "#How to combine this in Function? need help!\n",
        "votersci_list = []\n",
        "votersiss_list = []\n",
        "for issue in voters_df.columns[1:]:\n",
        "  tup = [conf_int(voters_df[issue])]\n",
        "  out = list(sum(tup, ())) \n",
        "  votersci_list.append(out)\n",
        "  votersiss_list.append(issue)\n",
        "    \n",
        "votersci_df = pd.DataFrame(votersci_list, columns = ['NegConfInterval','Mean', 'PosConfInterval']) \n",
        "#need new column for issue\n",
        "votersci_df.insert(0, \"Issues\",votersiss_list)\n",
        "votersci_df.head(20)"
      ],
      "execution_count": 6,
      "outputs": [
        {
          "output_type": "execute_result",
          "data": {
            "text/html": [
              "<div>\n",
              "<style scoped>\n",
              "    .dataframe tbody tr th:only-of-type {\n",
              "        vertical-align: middle;\n",
              "    }\n",
              "\n",
              "    .dataframe tbody tr th {\n",
              "        vertical-align: top;\n",
              "    }\n",
              "\n",
              "    .dataframe thead th {\n",
              "        text-align: right;\n",
              "    }\n",
              "</style>\n",
              "<table border=\"1\" class=\"dataframe\">\n",
              "  <thead>\n",
              "    <tr style=\"text-align: right;\">\n",
              "      <th></th>\n",
              "      <th>Issues</th>\n",
              "      <th>NegConfInterval</th>\n",
              "      <th>Mean</th>\n",
              "      <th>PosConfInterval</th>\n",
              "    </tr>\n",
              "  </thead>\n",
              "  <tbody>\n",
              "    <tr>\n",
              "      <th>0</th>\n",
              "      <td>handicapped-infants</td>\n",
              "      <td>0.394697</td>\n",
              "      <td>0.442080</td>\n",
              "      <td>0.489464</td>\n",
              "    </tr>\n",
              "    <tr>\n",
              "      <th>1</th>\n",
              "      <td>water-project</td>\n",
              "      <td>0.453998</td>\n",
              "      <td>0.503876</td>\n",
              "      <td>0.553754</td>\n",
              "    </tr>\n",
              "    <tr>\n",
              "      <th>2</th>\n",
              "      <td>budget</td>\n",
              "      <td>0.549949</td>\n",
              "      <td>0.596698</td>\n",
              "      <td>0.643447</td>\n",
              "    </tr>\n",
              "    <tr>\n",
              "      <th>3</th>\n",
              "      <td>physician-fee-freeze</td>\n",
              "      <td>0.370458</td>\n",
              "      <td>0.417453</td>\n",
              "      <td>0.464447</td>\n",
              "    </tr>\n",
              "    <tr>\n",
              "      <th>4</th>\n",
              "      <td>el-salvador-aid</td>\n",
              "      <td>0.456889</td>\n",
              "      <td>0.504762</td>\n",
              "      <td>0.552635</td>\n",
              "    </tr>\n",
              "    <tr>\n",
              "      <th>5</th>\n",
              "      <td>religious-groups</td>\n",
              "      <td>0.595809</td>\n",
              "      <td>0.641509</td>\n",
              "      <td>0.687210</td>\n",
              "    </tr>\n",
              "    <tr>\n",
              "      <th>6</th>\n",
              "      <td>anti-satellite-ban</td>\n",
              "      <td>0.520318</td>\n",
              "      <td>0.567696</td>\n",
              "      <td>0.615074</td>\n",
              "    </tr>\n",
              "    <tr>\n",
              "      <th>7</th>\n",
              "      <td>aid-to-contras</td>\n",
              "      <td>0.528874</td>\n",
              "      <td>0.576190</td>\n",
              "      <td>0.623507</td>\n",
              "    </tr>\n",
              "    <tr>\n",
              "      <th>8</th>\n",
              "      <td>mx-missile</td>\n",
              "      <td>0.452931</td>\n",
              "      <td>0.501211</td>\n",
              "      <td>0.549491</td>\n",
              "    </tr>\n",
              "    <tr>\n",
              "      <th>9</th>\n",
              "      <td>immigration</td>\n",
              "      <td>0.457250</td>\n",
              "      <td>0.504673</td>\n",
              "      <td>0.552095</td>\n",
              "    </tr>\n",
              "    <tr>\n",
              "      <th>10</th>\n",
              "      <td>synfuels</td>\n",
              "      <td>0.315961</td>\n",
              "      <td>0.362319</td>\n",
              "      <td>0.408676</td>\n",
              "    </tr>\n",
              "    <tr>\n",
              "      <th>11</th>\n",
              "      <td>education</td>\n",
              "      <td>0.375029</td>\n",
              "      <td>0.423267</td>\n",
              "      <td>0.471505</td>\n",
              "    </tr>\n",
              "    <tr>\n",
              "      <th>12</th>\n",
              "      <td>right-to-sue</td>\n",
              "      <td>0.461308</td>\n",
              "      <td>0.509756</td>\n",
              "      <td>0.558204</td>\n",
              "    </tr>\n",
              "    <tr>\n",
              "      <th>13</th>\n",
              "      <td>crime</td>\n",
              "      <td>0.546154</td>\n",
              "      <td>0.593301</td>\n",
              "      <td>0.640448</td>\n",
              "    </tr>\n",
              "    <tr>\n",
              "      <th>14</th>\n",
              "      <td>duty-free</td>\n",
              "      <td>0.379396</td>\n",
              "      <td>0.427518</td>\n",
              "      <td>0.475640</td>\n",
              "    </tr>\n",
              "    <tr>\n",
              "      <th>15</th>\n",
              "      <td>south-africa</td>\n",
              "      <td>0.770593</td>\n",
              "      <td>0.812689</td>\n",
              "      <td>0.854784</td>\n",
              "    </tr>\n",
              "  </tbody>\n",
              "</table>\n",
              "</div>"
            ],
            "text/plain": [
              "                  Issues  NegConfInterval      Mean  PosConfInterval\n",
              "0    handicapped-infants         0.394697  0.442080         0.489464\n",
              "1          water-project         0.453998  0.503876         0.553754\n",
              "2                 budget         0.549949  0.596698         0.643447\n",
              "3   physician-fee-freeze         0.370458  0.417453         0.464447\n",
              "4        el-salvador-aid         0.456889  0.504762         0.552635\n",
              "5       religious-groups         0.595809  0.641509         0.687210\n",
              "6     anti-satellite-ban         0.520318  0.567696         0.615074\n",
              "7         aid-to-contras         0.528874  0.576190         0.623507\n",
              "8             mx-missile         0.452931  0.501211         0.549491\n",
              "9            immigration         0.457250  0.504673         0.552095\n",
              "10              synfuels         0.315961  0.362319         0.408676\n",
              "11             education         0.375029  0.423267         0.471505\n",
              "12          right-to-sue         0.461308  0.509756         0.558204\n",
              "13                 crime         0.546154  0.593301         0.640448\n",
              "14             duty-free         0.379396  0.427518         0.475640\n",
              "15          south-africa         0.770593  0.812689         0.854784"
            ]
          },
          "metadata": {
            "tags": []
          },
          "execution_count": 6
        }
      ]
    },
    {
      "cell_type": "code",
      "metadata": {
        "id": "u_6QgwSfzwlo",
        "colab_type": "code",
        "outputId": "76372c99-7891-445c-a2a5-0ce34517543e",
        "colab": {
          "base_uri": "https://localhost:8080/",
          "height": 545
        }
      },
      "source": [
        "#How to combine this in Function? need help!\n",
        "repci_list = []\n",
        "repiss_list = []\n",
        "for issue in rep_df.columns[1:]:\n",
        "  tup = [conf_int(rep_df[issue])]\n",
        "  out = list(sum(tup, ())) \n",
        "  repci_list.append(out)\n",
        "  repiss_list.append(issue)\n",
        "    \n",
        "repci_df = pd.DataFrame(repci_list, columns = ['NegConfInterval','Mean', 'PosConfInterval']) \n",
        "#need new column for issue\n",
        "repci_df.insert(0, \"Issues\",repiss_list)\n",
        "repci_df.head(20)"
      ],
      "execution_count": 7,
      "outputs": [
        {
          "output_type": "execute_result",
          "data": {
            "text/html": [
              "<div>\n",
              "<style scoped>\n",
              "    .dataframe tbody tr th:only-of-type {\n",
              "        vertical-align: middle;\n",
              "    }\n",
              "\n",
              "    .dataframe tbody tr th {\n",
              "        vertical-align: top;\n",
              "    }\n",
              "\n",
              "    .dataframe thead th {\n",
              "        text-align: right;\n",
              "    }\n",
              "</style>\n",
              "<table border=\"1\" class=\"dataframe\">\n",
              "  <thead>\n",
              "    <tr style=\"text-align: right;\">\n",
              "      <th></th>\n",
              "      <th>Issues</th>\n",
              "      <th>NegConfInterval</th>\n",
              "      <th>Mean</th>\n",
              "      <th>PosConfInterval</th>\n",
              "    </tr>\n",
              "  </thead>\n",
              "  <tbody>\n",
              "    <tr>\n",
              "      <th>0</th>\n",
              "      <td>handicapped-infants</td>\n",
              "      <td>0.128096</td>\n",
              "      <td>0.187879</td>\n",
              "      <td>0.247661</td>\n",
              "    </tr>\n",
              "    <tr>\n",
              "      <th>1</th>\n",
              "      <td>water-project</td>\n",
              "      <td>0.425937</td>\n",
              "      <td>0.506757</td>\n",
              "      <td>0.587577</td>\n",
              "    </tr>\n",
              "    <tr>\n",
              "      <th>2</th>\n",
              "      <td>budget</td>\n",
              "      <td>0.081827</td>\n",
              "      <td>0.134146</td>\n",
              "      <td>0.186466</td>\n",
              "    </tr>\n",
              "    <tr>\n",
              "      <th>3</th>\n",
              "      <td>physician-fee-freeze</td>\n",
              "      <td>0.971131</td>\n",
              "      <td>0.987879</td>\n",
              "      <td>1.004626</td>\n",
              "    </tr>\n",
              "    <tr>\n",
              "      <th>4</th>\n",
              "      <td>el-salvador-aid</td>\n",
              "      <td>0.918642</td>\n",
              "      <td>0.951515</td>\n",
              "      <td>0.984388</td>\n",
              "    </tr>\n",
              "    <tr>\n",
              "      <th>5</th>\n",
              "      <td>religious-groups</td>\n",
              "      <td>0.851329</td>\n",
              "      <td>0.897590</td>\n",
              "      <td>0.943851</td>\n",
              "    </tr>\n",
              "    <tr>\n",
              "      <th>6</th>\n",
              "      <td>anti-satellite-ban</td>\n",
              "      <td>0.174701</td>\n",
              "      <td>0.240741</td>\n",
              "      <td>0.306780</td>\n",
              "    </tr>\n",
              "    <tr>\n",
              "      <th>7</th>\n",
              "      <td>aid-to-contras</td>\n",
              "      <td>0.096396</td>\n",
              "      <td>0.152866</td>\n",
              "      <td>0.209336</td>\n",
              "    </tr>\n",
              "    <tr>\n",
              "      <th>8</th>\n",
              "      <td>mx-missile</td>\n",
              "      <td>0.066298</td>\n",
              "      <td>0.115152</td>\n",
              "      <td>0.164005</td>\n",
              "    </tr>\n",
              "    <tr>\n",
              "      <th>9</th>\n",
              "      <td>immigration</td>\n",
              "      <td>0.481561</td>\n",
              "      <td>0.557576</td>\n",
              "      <td>0.633590</td>\n",
              "    </tr>\n",
              "    <tr>\n",
              "      <th>10</th>\n",
              "      <td>synfuels</td>\n",
              "      <td>0.079283</td>\n",
              "      <td>0.132075</td>\n",
              "      <td>0.184868</td>\n",
              "    </tr>\n",
              "    <tr>\n",
              "      <th>11</th>\n",
              "      <td>education</td>\n",
              "      <td>0.818021</td>\n",
              "      <td>0.870968</td>\n",
              "      <td>0.923914</td>\n",
              "    </tr>\n",
              "    <tr>\n",
              "      <th>12</th>\n",
              "      <td>right-to-sue</td>\n",
              "      <td>0.806607</td>\n",
              "      <td>0.860759</td>\n",
              "      <td>0.914912</td>\n",
              "    </tr>\n",
              "    <tr>\n",
              "      <th>13</th>\n",
              "      <td>crime</td>\n",
              "      <td>0.960413</td>\n",
              "      <td>0.981366</td>\n",
              "      <td>1.002320</td>\n",
              "    </tr>\n",
              "    <tr>\n",
              "      <th>14</th>\n",
              "      <td>duty-free</td>\n",
              "      <td>0.044748</td>\n",
              "      <td>0.089744</td>\n",
              "      <td>0.134739</td>\n",
              "    </tr>\n",
              "    <tr>\n",
              "      <th>15</th>\n",
              "      <td>south-africa</td>\n",
              "      <td>0.580296</td>\n",
              "      <td>0.657534</td>\n",
              "      <td>0.734772</td>\n",
              "    </tr>\n",
              "  </tbody>\n",
              "</table>\n",
              "</div>"
            ],
            "text/plain": [
              "                  Issues  NegConfInterval      Mean  PosConfInterval\n",
              "0    handicapped-infants         0.128096  0.187879         0.247661\n",
              "1          water-project         0.425937  0.506757         0.587577\n",
              "2                 budget         0.081827  0.134146         0.186466\n",
              "3   physician-fee-freeze         0.971131  0.987879         1.004626\n",
              "4        el-salvador-aid         0.918642  0.951515         0.984388\n",
              "5       religious-groups         0.851329  0.897590         0.943851\n",
              "6     anti-satellite-ban         0.174701  0.240741         0.306780\n",
              "7         aid-to-contras         0.096396  0.152866         0.209336\n",
              "8             mx-missile         0.066298  0.115152         0.164005\n",
              "9            immigration         0.481561  0.557576         0.633590\n",
              "10              synfuels         0.079283  0.132075         0.184868\n",
              "11             education         0.818021  0.870968         0.923914\n",
              "12          right-to-sue         0.806607  0.860759         0.914912\n",
              "13                 crime         0.960413  0.981366         1.002320\n",
              "14             duty-free         0.044748  0.089744         0.134739\n",
              "15          south-africa         0.580296  0.657534         0.734772"
            ]
          },
          "metadata": {
            "tags": []
          },
          "execution_count": 7
        }
      ]
    },
    {
      "cell_type": "code",
      "metadata": {
        "id": "TtDoAld1I4lR",
        "colab_type": "code",
        "outputId": "90734ffa-40d8-451b-f3b0-3a25f1a5fa2e",
        "colab": {
          "base_uri": "https://localhost:8080/",
          "height": 545
        }
      },
      "source": [
        "#How to combine this in Function? need help!\n",
        "demci_list = []\n",
        "demiss_list = []\n",
        "for issue in dem_df.columns[1:]:\n",
        "  tup = [conf_int(dem_df[issue])]\n",
        "  out = list(sum(tup, ())) \n",
        "  demci_list.append(out)\n",
        "  demiss_list.append(issue)\n",
        "    \n",
        "demci_df = pd.DataFrame(demci_list, columns = ['NegConfInterval','Mean', 'PosConfInterval']) \n",
        "#need new column for issue\n",
        "demci_df.insert(0, \"Issues\",demiss_list)\n",
        "demci_df.head(20)"
      ],
      "execution_count": 8,
      "outputs": [
        {
          "output_type": "execute_result",
          "data": {
            "text/html": [
              "<div>\n",
              "<style scoped>\n",
              "    .dataframe tbody tr th:only-of-type {\n",
              "        vertical-align: middle;\n",
              "    }\n",
              "\n",
              "    .dataframe tbody tr th {\n",
              "        vertical-align: top;\n",
              "    }\n",
              "\n",
              "    .dataframe thead th {\n",
              "        text-align: right;\n",
              "    }\n",
              "</style>\n",
              "<table border=\"1\" class=\"dataframe\">\n",
              "  <thead>\n",
              "    <tr style=\"text-align: right;\">\n",
              "      <th></th>\n",
              "      <th>Issues</th>\n",
              "      <th>NegConfInterval</th>\n",
              "      <th>Mean</th>\n",
              "      <th>PosConfInterval</th>\n",
              "    </tr>\n",
              "  </thead>\n",
              "  <tbody>\n",
              "    <tr>\n",
              "      <th>0</th>\n",
              "      <td>handicapped-infants</td>\n",
              "      <td>0.544876</td>\n",
              "      <td>0.604651</td>\n",
              "      <td>0.664427</td>\n",
              "    </tr>\n",
              "    <tr>\n",
              "      <th>1</th>\n",
              "      <td>water-project</td>\n",
              "      <td>0.438570</td>\n",
              "      <td>0.502092</td>\n",
              "      <td>0.565614</td>\n",
              "    </tr>\n",
              "    <tr>\n",
              "      <th>2</th>\n",
              "      <td>budget</td>\n",
              "      <td>0.850124</td>\n",
              "      <td>0.888462</td>\n",
              "      <td>0.926800</td>\n",
              "    </tr>\n",
              "    <tr>\n",
              "      <th>3</th>\n",
              "      <td>physician-fee-freeze</td>\n",
              "      <td>0.026462</td>\n",
              "      <td>0.054054</td>\n",
              "      <td>0.081646</td>\n",
              "    </tr>\n",
              "    <tr>\n",
              "      <th>4</th>\n",
              "      <td>el-salvador-aid</td>\n",
              "      <td>0.165105</td>\n",
              "      <td>0.215686</td>\n",
              "      <td>0.266267</td>\n",
              "    </tr>\n",
              "    <tr>\n",
              "      <th>5</th>\n",
              "      <td>religious-groups</td>\n",
              "      <td>0.415681</td>\n",
              "      <td>0.476744</td>\n",
              "      <td>0.537808</td>\n",
              "    </tr>\n",
              "    <tr>\n",
              "      <th>6</th>\n",
              "      <td>anti-satellite-ban</td>\n",
              "      <td>0.721023</td>\n",
              "      <td>0.772201</td>\n",
              "      <td>0.823378</td>\n",
              "    </tr>\n",
              "    <tr>\n",
              "      <th>7</th>\n",
              "      <td>aid-to-contras</td>\n",
              "      <td>0.783296</td>\n",
              "      <td>0.828897</td>\n",
              "      <td>0.874499</td>\n",
              "    </tr>\n",
              "    <tr>\n",
              "      <th>8</th>\n",
              "      <td>mx-missile</td>\n",
              "      <td>0.704657</td>\n",
              "      <td>0.758065</td>\n",
              "      <td>0.811472</td>\n",
              "    </tr>\n",
              "    <tr>\n",
              "      <th>9</th>\n",
              "      <td>immigration</td>\n",
              "      <td>0.411038</td>\n",
              "      <td>0.471483</td>\n",
              "      <td>0.531928</td>\n",
              "    </tr>\n",
              "    <tr>\n",
              "      <th>10</th>\n",
              "      <td>synfuels</td>\n",
              "      <td>0.444397</td>\n",
              "      <td>0.505882</td>\n",
              "      <td>0.567368</td>\n",
              "    </tr>\n",
              "    <tr>\n",
              "      <th>11</th>\n",
              "      <td>education</td>\n",
              "      <td>0.100810</td>\n",
              "      <td>0.144578</td>\n",
              "      <td>0.188347</td>\n",
              "    </tr>\n",
              "    <tr>\n",
              "      <th>12</th>\n",
              "      <td>right-to-sue</td>\n",
              "      <td>0.233565</td>\n",
              "      <td>0.289683</td>\n",
              "      <td>0.345800</td>\n",
              "    </tr>\n",
              "    <tr>\n",
              "      <th>13</th>\n",
              "      <td>crime</td>\n",
              "      <td>0.291759</td>\n",
              "      <td>0.350195</td>\n",
              "      <td>0.408630</td>\n",
              "    </tr>\n",
              "    <tr>\n",
              "      <th>14</th>\n",
              "      <td>duty-free</td>\n",
              "      <td>0.577859</td>\n",
              "      <td>0.637450</td>\n",
              "      <td>0.697042</td>\n",
              "    </tr>\n",
              "    <tr>\n",
              "      <th>15</th>\n",
              "      <td>south-africa</td>\n",
              "      <td>0.899549</td>\n",
              "      <td>0.935135</td>\n",
              "      <td>0.970721</td>\n",
              "    </tr>\n",
              "  </tbody>\n",
              "</table>\n",
              "</div>"
            ],
            "text/plain": [
              "                  Issues  NegConfInterval      Mean  PosConfInterval\n",
              "0    handicapped-infants         0.544876  0.604651         0.664427\n",
              "1          water-project         0.438570  0.502092         0.565614\n",
              "2                 budget         0.850124  0.888462         0.926800\n",
              "3   physician-fee-freeze         0.026462  0.054054         0.081646\n",
              "4        el-salvador-aid         0.165105  0.215686         0.266267\n",
              "5       religious-groups         0.415681  0.476744         0.537808\n",
              "6     anti-satellite-ban         0.721023  0.772201         0.823378\n",
              "7         aid-to-contras         0.783296  0.828897         0.874499\n",
              "8             mx-missile         0.704657  0.758065         0.811472\n",
              "9            immigration         0.411038  0.471483         0.531928\n",
              "10              synfuels         0.444397  0.505882         0.567368\n",
              "11             education         0.100810  0.144578         0.188347\n",
              "12          right-to-sue         0.233565  0.289683         0.345800\n",
              "13                 crime         0.291759  0.350195         0.408630\n",
              "14             duty-free         0.577859  0.637450         0.697042\n",
              "15          south-africa         0.899549  0.935135         0.970721"
            ]
          },
          "metadata": {
            "tags": []
          },
          "execution_count": 8
        }
      ]
    },
    {
      "cell_type": "markdown",
      "metadata": {
        "id": "UEbB_KizSlNG",
        "colab_type": "text"
      },
      "source": [
        "**Confidence Intervals:**  \n",
        "Graphically (with a plot) represent the confidence interval"
      ]
    },
    {
      "cell_type": "code",
      "metadata": {
        "id": "xnqom4-yzv2D",
        "colab_type": "code",
        "outputId": "b9c1d0e5-36b2-4518-e894-acd61411b9ff",
        "colab": {
          "base_uri": "https://localhost:8080/",
          "height": 282
        }
      },
      "source": [
        "sns.kdeplot(voters_df['water-project'])\n",
        "CI = conf_int(voters_df['water-project'])\n",
        "plt.axvline(x=CI[0], color='green')\n",
        "plt.axvline(x=CI[1], color='black')\n",
        "plt.axvline(x=CI[2], color='red')\n",
        "print(CI)"
      ],
      "execution_count": 9,
      "outputs": [
        {
          "output_type": "stream",
          "text": [
            "(0.45399769762637865, 0.5038759689922481, 0.5537542403581175)\n"
          ],
          "name": "stdout"
        },
        {
          "output_type": "display_data",
          "data": {
            "image/png": "[encoded data removed]",
            "text/plain": [
              "<Figure size 432x288 with 1 Axes>"
            ]
          },
          "metadata": {
            "tags": [],
            "needs_background": "light"
          }
        }
      ]
    },
    {
      "cell_type": "code",
      "metadata": {
        "id": "fYcwc0XHVPe9",
        "colab_type": "code",
        "outputId": "963bac77-68f6-45ab-e83a-c55916fc8058",
        "colab": {
          "base_uri": "https://localhost:8080/",
          "height": 389
        }
      },
      "source": [
        "# need Help! unable to wind ways to add mame at the bottom of chart, dont want the index value\n",
        "repci_df.set_index('Issues', inplace=True)\n",
        "repci_df.plot.bar()"
      ],
      "execution_count": 10,
      "outputs": [
        {
          "output_type": "execute_result",
          "data": {
            "text/plain": [
              "<matplotlib.axes._subplots.AxesSubplot at 0x7f87d57b6fd0>"
            ]
          },
          "metadata": {
            "tags": []
          },
          "execution_count": 10
        },
        {
          "output_type": "display_data",
          "data": {
            "image/png": "[encoded data removed]",
            "text/plain": [
              "<Figure size 432x288 with 1 Axes>"
            ]
          },
          "metadata": {
            "tags": [],
            "needs_background": "light"
          }
        }
      ]
    },
    {
      "cell_type": "code",
      "metadata": {
        "id": "BWAy2qteVPY0",
        "colab_type": "code",
        "colab": {}
      },
      "source": [
        ""
      ],
      "execution_count": 0,
      "outputs": []
    },
    {
      "cell_type": "code",
      "metadata": {
        "id": "8zgpn2kAVPUu",
        "colab_type": "code",
        "colab": {}
      },
      "source": [
        ""
      ],
      "execution_count": 0,
      "outputs": []
    },
    {
      "cell_type": "markdown",
      "metadata": {
        "id": "4ohsJhQUmEuS",
        "colab_type": "text"
      },
      "source": [
        "## Stretch goals:\n",
        "\n",
        "1. Write a summary of your findings, mixing prose and math/code/results. *Note* - yes, this is by definition a political topic. It is challenging but important to keep your writing voice *neutral* and stick to the facts of the data. Data science often involves considering controversial issues, so it's important to be sensitive about them (especially if you want to publish).\n",
        "2. Apply the techniques you learned today to your project data or other data of your choice, and write/discuss your findings here.\n",
        "3. Refactor your code so it is elegant, readable, and can be easily run for all issues."
      ]
    },
    {
      "cell_type": "markdown",
      "metadata": {
        "id": "nyJ3ySr7R2k9",
        "colab_type": "text"
      },
      "source": [
        "## Resources\n",
        "\n",
        "- [Interactive visualize the Chi-Squared test](https://homepage.divms.uiowa.edu/~mbognar/applets/chisq.html)\n",
        "- [Calculation of Chi-Squared test statistic](https://en.wikipedia.org/wiki/Pearson%27s_chi-squared_test)\n",
        "- [Visualization of a confidence interval generated by R code](https://commons.wikimedia.org/wiki/File:Confidence-interval.svg)\n",
        "- [Expected value of a squared standard normal](https://math.stackexchange.com/questions/264061/expected-value-calculation-for-squared-normal-distribution) (it's 1 - which is why the expected value of a Chi-Squared with $n$ degrees of freedom is $n$, as it's the sum of $n$ squared standard normals)"
      ]
    },
    {
      "cell_type": "markdown",
      "metadata": {
        "id": "Xi6wSTU8gqLv",
        "colab_type": "text"
      },
      "source": [
        "## Rough Work\n",
        "Ignore this part"
      ]
    },
    {
      "cell_type": "code",
      "metadata": {
        "id": "1TIOBb-ogv6z",
        "colab_type": "code",
        "outputId": "6c3a9b41-cc9c-40b7-bcb1-9e89fd0f4589",
        "colab": {
          "base_uri": "https://localhost:8080/",
          "height": 34
        }
      },
      "source": [
        "rwlist = np.random.binomial(n=1, p=.5, size=20)\n",
        "rwlist"
      ],
      "execution_count": 11,
      "outputs": [
        {
          "output_type": "execute_result",
          "data": {
            "text/plain": [
              "array([0, 1, 1, 0, 0, 1, 1, 0, 1, 0, 1, 1, 0, 1, 1, 1, 1, 0, 1, 0])"
            ]
          },
          "metadata": {
            "tags": []
          },
          "execution_count": 11
        }
      ]
    },
    {
      "cell_type": "code",
      "metadata": {
        "id": "zMy9RJ9LgxIp",
        "colab_type": "code",
        "outputId": "030f3fb7-2774-4f28-b064-a16a366c97b0",
        "colab": {
          "base_uri": "https://localhost:8080/",
          "height": 170
        }
      },
      "source": [
        "rwlist1=pd.Series(rwlist)\n",
        "rwlist1.describe()"
      ],
      "execution_count": 12,
      "outputs": [
        {
          "output_type": "execute_result",
          "data": {
            "text/plain": [
              "count    20.000000\n",
              "mean      0.600000\n",
              "std       0.502625\n",
              "min       0.000000\n",
              "25%       0.000000\n",
              "50%       1.000000\n",
              "75%       1.000000\n",
              "max       1.000000\n",
              "dtype: float64"
            ]
          },
          "metadata": {
            "tags": []
          },
          "execution_count": 12
        }
      ]
    },
    {
      "cell_type": "code",
      "metadata": {
        "id": "XYtGT5FugxGE",
        "colab_type": "code",
        "outputId": "f5e06fb2-8b3e-4f5c-ff88-fd0a38446c5a",
        "colab": {
          "base_uri": "https://localhost:8080/",
          "height": 34
        }
      },
      "source": [
        "rwlc, rwlm, rwls = rwlist1.count(), rwlist1.mean(), rwlist1.std()\n",
        "print(rwlc, rwlm, rwls)"
      ],
      "execution_count": 13,
      "outputs": [
        {
          "output_type": "stream",
          "text": [
            "20 0.6 0.5026246899500346\n"
          ],
          "name": "stdout"
        }
      ]
    },
    {
      "cell_type": "code",
      "metadata": {
        "id": "A7H5xaeO3YpB",
        "colab_type": "code",
        "outputId": "84bbb019-9041-4c2e-c27d-773258ea2175",
        "colab": {
          "base_uri": "https://localhost:8080/",
          "height": 34
        }
      },
      "source": [
        "conf_int(rwlist1, 0.95)"
      ],
      "execution_count": 14,
      "outputs": [
        {
          "output_type": "execute_result",
          "data": {
            "text/plain": [
              "(0.3797190649042395, 0.6, 0.8202809350957605)"
            ]
          },
          "metadata": {
            "tags": []
          },
          "execution_count": 14
        }
      ]
    },
    {
      "cell_type": "code",
      "metadata": {
        "id": "Atsb11SFCR83",
        "colab_type": "code",
        "outputId": "e277ec15-acad-4b39-aa5c-1c91c6558073",
        "colab": {
          "base_uri": "https://localhost:8080/",
          "height": 68
        }
      },
      "source": [
        "print (\"budget :\", conf_int(voters_df['budget']))\n",
        "print (\"water-project :\", conf_int(voters_df['water-project']))\n",
        "print (\"crime :\", conf_int(voters_df['crime']))"
      ],
      "execution_count": 15,
      "outputs": [
        {
          "output_type": "stream",
          "text": [
            "budget : (0.5499493240661233, 0.5966981132075472, 0.6434469023489711)\n",
            "water-project : (0.45399769762637865, 0.5038759689922481, 0.5537542403581175)\n",
            "crime : (0.5461544333005214, 0.5933014354066986, 0.6404484375128757)\n"
          ],
          "name": "stdout"
        }
      ]
    },
    {
      "cell_type": "code",
      "metadata": {
        "id": "s6Fjqg2nCh4G",
        "colab_type": "code",
        "outputId": "0d3331a5-f9e1-4ae2-8407-3f0faf3c6b1c",
        "colab": {
          "base_uri": "https://localhost:8080/",
          "height": 34
        }
      },
      "source": [
        "conf_int(voters_df.education)"
      ],
      "execution_count": 16,
      "outputs": [
        {
          "output_type": "execute_result",
          "data": {
            "text/plain": [
              "(0.37502922395035654, 0.42326732673267325, 0.47150542951498997)"
            ]
          },
          "metadata": {
            "tags": []
          },
          "execution_count": 16
        }
      ]
    },
    {
      "cell_type": "code",
      "metadata": {
        "id": "RnemC6sF3YlQ",
        "colab_type": "code",
        "outputId": "f45c0a22-81a6-4d4a-f0f3-5525ceb2b307",
        "colab": {
          "base_uri": "https://localhost:8080/",
          "height": 282
        }
      },
      "source": [
        "sns.kdeplot(rwlist1)\n",
        "CI = conf_int(rwlist1)\n",
        "plt.axvline(x=CI[0], color='green')\n",
        "plt.axvline(x=CI[1], color='black')\n",
        "plt.axvline(x=CI[2], color='red')\n",
        "print(CI)"
      ],
      "execution_count": 17,
      "outputs": [
        {
          "output_type": "stream",
          "text": [
            "(0.3797190649042395, 0.6, 0.8202809350957605)\n"
          ],
          "name": "stdout"
        },
        {
          "output_type": "display_data",
          "data": {
            "image/png": "[encoded data removed]",
            "text/plain": [
              "<Figure size 432x288 with 1 Axes>"
            ]
          },
          "metadata": {
            "tags": [],
            "needs_background": "light"
          }
        }
      ]
    },
    {
      "cell_type": "code",
      "metadata": {
        "id": "qqjgFXPaUpMW",
        "colab_type": "code",
        "outputId": "5de1b6ab-ba00-423c-a700-2bfd464d3660",
        "colab": {
          "base_uri": "https://localhost:8080/",
          "height": 282
        }
      },
      "source": [
        "sns.distplot(rwlist1)\n",
        "CI = conf_int(rwlist1)\n",
        "plt.axvline(x=CI[0], color='green')\n",
        "plt.axvline(x=CI[1], color='black')\n",
        "plt.axvline(x=CI[2], color='red')\n",
        "print(CI)"
      ],
      "execution_count": 18,
      "outputs": [
        {
          "output_type": "stream",
          "text": [
            "(0.3797190649042395, 0.6, 0.8202809350957605)\n"
          ],
          "name": "stdout"
        },
        {
          "output_type": "display_data",
          "data": {
            "image/png": "[encoded data removed]",
            "text/plain": [
              "<Figure size 432x288 with 1 Axes>"
            ]
          },
          "metadata": {
            "tags": [],
            "needs_background": "light"
          }
        }
      ]
    },
    {
      "cell_type": "code",
      "metadata": {
        "id": "jSmkXBfU3YiA",
        "colab_type": "code",
        "outputId": "e95b5aca-b277-4145-d11f-9e2588ce9153",
        "colab": {
          "base_uri": "https://localhost:8080/",
          "height": 282
        }
      },
      "source": [
        "sns.kdeplot(voters_df['water-project'])\n",
        "CI = conf_int(voters_df['water-project'])\n",
        "plt.axvline(x=CI[0], color='green')\n",
        "plt.axvline(x=CI[1], color='black')\n",
        "plt.axvline(x=CI[2], color='red')\n",
        "print(CI)"
      ],
      "execution_count": 19,
      "outputs": [
        {
          "output_type": "stream",
          "text": [
            "(0.45399769762637865, 0.5038759689922481, 0.5537542403581175)\n"
          ],
          "name": "stdout"
        },
        {
          "output_type": "display_data",
          "data": {
            "image/png": "[encoded data removed]",
            "text/plain": [
              "<Figure size 432x288 with 1 Axes>"
            ]
          },
          "metadata": {
            "tags": [],
            "needs_background": "light"
          }
        }
      ]
    },
    {
      "cell_type": "code",
      "metadata": {
        "id": "G27fLJG7geWZ",
        "colab_type": "code",
        "outputId": "f4026ea2-b141-442f-db43-4841b535df22",
        "colab": {
          "base_uri": "https://localhost:8080/",
          "height": 282
        }
      },
      "source": [
        "sns.kdeplot(voters_df['budget'])\n",
        "CI = conf_int(voters_df['budget'])\n",
        "plt.axvline(x=CI[0], color='green')\n",
        "plt.axvline(x=CI[1], color='black')\n",
        "plt.axvline(x=CI[2], color='red')\n",
        "print(CI)"
      ],
      "execution_count": 20,
      "outputs": [
        {
          "output_type": "stream",
          "text": [
            "(0.5499493240661233, 0.5966981132075472, 0.6434469023489711)\n"
          ],
          "name": "stdout"
        },
        {
          "output_type": "display_data",
          "data": {
            "image/png": "[encoded data removed]",
            "text/plain": [
              "<Figure size 432x288 with 1 Axes>"
            ]
          },
          "metadata": {
            "tags": [],
            "needs_background": "light"
          }
        }
      ]
    },
    {
      "cell_type": "code",
      "metadata": {
        "id": "8fyvhJeWgeIA",
        "colab_type": "code",
        "colab": {}
      },
      "source": [
        ""
      ],
      "execution_count": 0,
      "outputs": []
    },
    {
      "cell_type": "code",
      "metadata": {
        "id": "7dkOme2-gd5x",
        "colab_type": "code",
        "colab": {}
      },
      "source": [
        ""
      ],
      "execution_count": 0,
      "outputs": []
    },
    {
      "cell_type": "code",
      "metadata": {
        "id": "erND0khPgdqZ",
        "colab_type": "code",
        "colab": {}
      },
      "source": [
        ""
      ],
      "execution_count": 0,
      "outputs": []
    },
    {
      "cell_type": "code",
      "metadata": {
        "id": "JD3xaBhj3Ydc",
        "colab_type": "code",
        "outputId": "b7dd5ea7-1db5-4acc-d26d-340c368021cf",
        "colab": {
          "base_uri": "https://localhost:8080/",
          "height": 34
        }
      },
      "source": [
        "o=0.95\n",
        "a=1-((1-o)/2)\n",
        "a"
      ],
      "execution_count": 21,
      "outputs": [
        {
          "output_type": "execute_result",
          "data": {
            "text/plain": [
              "0.975"
            ]
          },
          "metadata": {
            "tags": []
          },
          "execution_count": 21
        }
      ]
    },
    {
      "cell_type": "code",
      "metadata": {
        "id": "F1zEbBksgw_u",
        "colab_type": "code",
        "outputId": "5cf6796b-d8ca-4e2c-9e20-b6b6b03fd623",
        "colab": {
          "base_uri": "https://localhost:8080/",
          "height": 34
        }
      },
      "source": [
        "o=0.95\n",
        "a=1-o\n",
        "a=a/2\n",
        "o+a\n"
      ],
      "execution_count": 22,
      "outputs": [
        {
          "output_type": "execute_result",
          "data": {
            "text/plain": [
              "0.975"
            ]
          },
          "metadata": {
            "tags": []
          },
          "execution_count": 22
        }
      ]
    },
    {
      "cell_type": "code",
      "metadata": {
        "id": "Z80eb7F2gw8l",
        "colab_type": "code",
        "colab": {}
      },
      "source": [
        ""
      ],
      "execution_count": 0,
      "outputs": []
    },
    {
      "cell_type": "code",
      "metadata": {
        "id": "yJS63iwNgw5R",
        "colab_type": "code",
        "colab": {}
      },
      "source": [
        ""
      ],
      "execution_count": 0,
      "outputs": []
    },
    {
      "cell_type": "code",
      "metadata": {
        "id": "WGdZyN4egw2m",
        "colab_type": "code",
        "outputId": "329a7215-8921-4d12-9bf6-5dfcb9448015",
        "colab": {
          "base_uri": "https://localhost:8080/",
          "height": 34
        }
      },
      "source": [
        "z_critical = stats.norm.ppf(q = 0.025)  # Get the z-critical value* used 0.975 as (0.5/2=0.25)\n",
        "margin_of_error = z_critical * (rwls/np.sqrt(rwlc))\n",
        "pci = rwlm + margin_of_error\n",
        "nci = rwlm - margin_of_error\n",
        "print(z_critical, margin_of_error, pci,rwlm, nci)"
      ],
      "execution_count": 23,
      "outputs": [
        {
          "output_type": "stream",
          "text": [
            "-1.9599639845400545 -0.22028093509576052 0.37971906490423946 0.6 0.8202809350957605\n"
          ],
          "name": "stdout"
        }
      ]
    },
    {
      "cell_type": "code",
      "metadata": {
        "id": "Gx8vG20zgwyl",
        "colab_type": "code",
        "outputId": "b6dadaca-e403-458d-f173-71bef9d2830d",
        "colab": {
          "base_uri": "https://localhost:8080/",
          "height": 34
        }
      },
      "source": [
        "z_critical = stats.norm.ppf(q = 0.975)  # Get the z-critical value* used 0.975 as (0.5/2=0.25)\n",
        "margin_of_error = z_critical * (rwls/np.sqrt(rwlc))\n",
        "pci = rwlm + margin_of_error\n",
        "nci = rwlm - margin_of_error\n",
        "print(z_critical, margin_of_error, pci,rwlm, nci)"
      ],
      "execution_count": 24,
      "outputs": [
        {
          "output_type": "stream",
          "text": [
            "1.959963984540054 0.22028093509576047 0.8202809350957605 0.6 0.3797190649042395\n"
          ],
          "name": "stdout"
        }
      ]
    },
    {
      "cell_type": "code",
      "metadata": {
        "id": "Kn56_vF_gwvK",
        "colab_type": "code",
        "colab": {}
      },
      "source": [
        "\n"
      ],
      "execution_count": 0,
      "outputs": []
    },
    {
      "cell_type": "markdown",
      "metadata": {
        "id": "V0x9vGLysWHF",
        "colab_type": "text"
      },
      "source": [
        "https://www.simplypsychology.org/ci-for-the-mean-formula.png?ezimgfmt=rs:316x172/rscb13/ng:webp/ngcb13"
      ]
    },
    {
      "cell_type": "markdown",
      "metadata": {
        "id": "xxpRwRPzsV41",
        "colab_type": "text"
      },
      "source": [
        ""
      ]
    },
    {
      "cell_type": "code",
      "metadata": {
        "id": "yx3ohYZDOihd",
        "colab_type": "code",
        "outputId": "0f5f899c-328b-4cd1-9074-e891c883e7ab",
        "colab": {
          "base_uri": "https://localhost:8080/",
          "height": 49
        }
      },
      "source": [
        "# column_names = [\"a\", \"b\", \"c\"]\n",
        "\n",
        "t_df = pd.DataFrame(columns = ['issues', 'NegConfidence Interval','Mean', 'PosConfidence Interval'])\n",
        "\n",
        "t_df"
      ],
      "execution_count": 25,
      "outputs": [
        {
          "output_type": "execute_result",
          "data": {
            "text/html": [
              "<div>\n",
              "<style scoped>\n",
              "    .dataframe tbody tr th:only-of-type {\n",
              "        vertical-align: middle;\n",
              "    }\n",
              "\n",
              "    .dataframe tbody tr th {\n",
              "        vertical-align: top;\n",
              "    }\n",
              "\n",
              "    .dataframe thead th {\n",
              "        text-align: right;\n",
              "    }\n",
              "</style>\n",
              "<table border=\"1\" class=\"dataframe\">\n",
              "  <thead>\n",
              "    <tr style=\"text-align: right;\">\n",
              "      <th></th>\n",
              "      <th>issues</th>\n",
              "      <th>NegConfidence Interval</th>\n",
              "      <th>Mean</th>\n",
              "      <th>PosConfidence Interval</th>\n",
              "    </tr>\n",
              "  </thead>\n",
              "  <tbody>\n",
              "  </tbody>\n",
              "</table>\n",
              "</div>"
            ],
            "text/plain": [
              "Empty DataFrame\n",
              "Columns: [issues, NegConfidence Interval, Mean, PosConfidence Interval]\n",
              "Index: []"
            ]
          },
          "metadata": {
            "tags": []
          },
          "execution_count": 25
        }
      ]
    },
    {
      "cell_type": "code",
      "metadata": {
        "id": "_uVASw2qO-qS",
        "colab_type": "code",
        "outputId": "dbb742eb-2e9c-49ca-d299-96e546afb8d3",
        "colab": {
          "base_uri": "https://localhost:8080/",
          "height": 119
        }
      },
      "source": [
        "t1_df = voters_df.columns[1:].T\n",
        "t1_df"
      ],
      "execution_count": 26,
      "outputs": [
        {
          "output_type": "execute_result",
          "data": {
            "text/plain": [
              "Index(['handicapped-infants', 'water-project', 'budget',\n",
              "       'physician-fee-freeze', 'el-salvador-aid', 'religious-groups',\n",
              "       'anti-satellite-ban', 'aid-to-contras', 'mx-missile', 'immigration',\n",
              "       'synfuels', 'education', 'right-to-sue', 'crime', 'duty-free',\n",
              "       'south-africa'],\n",
              "      dtype='object')"
            ]
          },
          "metadata": {
            "tags": []
          },
          "execution_count": 26
        }
      ]
    },
    {
      "cell_type": "code",
      "metadata": {
        "id": "6cT4a4YtOVUD",
        "colab_type": "code",
        "outputId": "160e327b-aa75-4cec-84e1-faf4b375b0e7",
        "colab": {
          "base_uri": "https://localhost:8080/",
          "height": 561
        }
      },
      "source": [
        "#Making Dataframe from the values received\n",
        "# votersCI_df = pd.DataFrame(columns = ['issues', 'NegConfidence Interval','Mean', 'PosConfidence Interval'])\n",
        "for issue in voters_df.columns[1:]:\n",
        "  print([issue], pd.DataFrame(conf_int(voters_df[issue])).T)\n",
        "# test_df = pd.DataFrame(conf_int(voters_df['education'])).T\n",
        "# test_df"
      ],
      "execution_count": 27,
      "outputs": [
        {
          "output_type": "stream",
          "text": [
            "['handicapped-infants']           0        1         2\n",
            "0  0.394697  0.44208  0.489464\n",
            "['water-project']           0         1         2\n",
            "0  0.453998  0.503876  0.553754\n",
            "['budget']           0         1         2\n",
            "0  0.549949  0.596698  0.643447\n",
            "['physician-fee-freeze']           0         1         2\n",
            "0  0.370458  0.417453  0.464447\n",
            "['el-salvador-aid']           0         1         2\n",
            "0  0.456889  0.504762  0.552635\n",
            "['religious-groups']           0         1        2\n",
            "0  0.595809  0.641509  0.68721\n",
            "['anti-satellite-ban']           0         1         2\n",
            "0  0.520318  0.567696  0.615074\n",
            "['aid-to-contras']           0        1         2\n",
            "0  0.528874  0.57619  0.623507\n",
            "['mx-missile']           0         1         2\n",
            "0  0.452931  0.501211  0.549491\n",
            "['immigration']          0         1         2\n",
            "0  0.45725  0.504673  0.552095\n",
            "['synfuels']           0         1         2\n",
            "0  0.315961  0.362319  0.408676\n",
            "['education']           0         1         2\n",
            "0  0.375029  0.423267  0.471505\n",
            "['right-to-sue']           0         1         2\n",
            "0  0.461308  0.509756  0.558204\n",
            "['crime']           0         1         2\n",
            "0  0.546154  0.593301  0.640448\n",
            "['duty-free']           0         1        2\n",
            "0  0.379396  0.427518  0.47564\n",
            "['south-africa']           0         1         2\n",
            "0  0.770593  0.812689  0.854784\n"
          ],
          "name": "stdout"
        }
      ]
    },
    {
      "cell_type": "code",
      "metadata": {
        "id": "GRSbK4AWOVRa",
        "colab_type": "code",
        "outputId": "d5c78432-3f0d-4f19-9bdc-1ffbe5c4b00a",
        "colab": {
          "base_uri": "https://localhost:8080/",
          "height": 214
        }
      },
      "source": [
        "#Making Dataframe from the values received\n",
        "votersci_df = []\n",
        "votersiss_list = []\n",
        "for issue in voters_df.columns[1:]:\n",
        "  tup = [conf_int(voters_df[issue])]\n",
        "  out = list(sum(tup, ())) \n",
        "  votersci_df.append(out)\n",
        "  votersiss_list.append(issue)\n",
        "    \n",
        "votersci_df = pd.DataFrame(votersci_df, columns = ['NegConfInterval','Mean', 'PosConfInterval']) \n",
        "#need new column for issue\n",
        "testci_df.insert(0, \"Issues\",votersiss_list)\n",
        "testci_df.head(20)"
      ],
      "execution_count": 28,
      "outputs": [
        {
          "output_type": "error",
          "ename": "NameError",
          "evalue": "ignored",
          "traceback": [
            "\u001b[0;31m---------------------------------------------------------------------------\u001b[0m",
            "\u001b[0;31mNameError\u001b[0m                                 Traceback (most recent call last)",
            "\u001b[0;32m<ipython-input-28-edccbace4f5e>\u001b[0m in \u001b[0;36m<module>\u001b[0;34m()\u001b[0m\n\u001b[1;32m      9\u001b[0m \u001b[0mvotersci_df\u001b[0m \u001b[0;34m=\u001b[0m \u001b[0mpd\u001b[0m\u001b[0;34m.\u001b[0m\u001b[0mDataFrame\u001b[0m\u001b[0;34m(\u001b[0m\u001b[0mvotersci_df\u001b[0m\u001b[0;34m,\u001b[0m \u001b[0mcolumns\u001b[0m \u001b[0;34m=\u001b[0m \u001b[0;34m[\u001b[0m\u001b[0;34m'NegConfInterval'\u001b[0m\u001b[0;34m,\u001b[0m\u001b[0;34m'Mean'\u001b[0m\u001b[0;34m,\u001b[0m \u001b[0;34m'PosConfInterval'\u001b[0m\u001b[0;34m]\u001b[0m\u001b[0;34m)\u001b[0m\u001b[0;34m\u001b[0m\u001b[0;34m\u001b[0m\u001b[0m\n\u001b[1;32m     10\u001b[0m \u001b[0;31m#need new column for issue\u001b[0m\u001b[0;34m\u001b[0m\u001b[0;34m\u001b[0m\u001b[0;34m\u001b[0m\u001b[0m\n\u001b[0;32m---> 11\u001b[0;31m \u001b[0mtestci_df\u001b[0m\u001b[0;34m.\u001b[0m\u001b[0minsert\u001b[0m\u001b[0;34m(\u001b[0m\u001b[0;36m0\u001b[0m\u001b[0;34m,\u001b[0m \u001b[0;34m\"Issues\"\u001b[0m\u001b[0;34m,\u001b[0m\u001b[0mvotersiss_list\u001b[0m\u001b[0;34m)\u001b[0m\u001b[0;34m\u001b[0m\u001b[0;34m\u001b[0m\u001b[0m\n\u001b[0m\u001b[1;32m     12\u001b[0m \u001b[0mtestci_df\u001b[0m\u001b[0;34m.\u001b[0m\u001b[0mhead\u001b[0m\u001b[0;34m(\u001b[0m\u001b[0;36m20\u001b[0m\u001b[0;34m)\u001b[0m\u001b[0;34m\u001b[0m\u001b[0;34m\u001b[0m\u001b[0m\n",
            "\u001b[0;31mNameError\u001b[0m: name 'testci_df' is not defined"
          ]
        }
      ]
    },
    {
      "cell_type": "code",
      "metadata": {
        "id": "RhRgSAQtnRgS",
        "colab_type": "code",
        "colab": {}
      },
      "source": [
        "column_headers [1:]"
      ],
      "execution_count": 0,
      "outputs": []
    },
    {
      "cell_type": "code",
      "metadata": {
        "id": "MqX2AIFDOVHK",
        "colab_type": "code",
        "colab": {}
      },
      "source": [
        ""
      ],
      "execution_count": 0,
      "outputs": []
    },
    {
      "cell_type": "code",
      "metadata": {
        "id": "h-2Bf5nbOVDE",
        "colab_type": "code",
        "colab": {}
      },
      "source": [
        ""
      ],
      "execution_count": 0,
      "outputs": []
    },
    {
      "cell_type": "code",
      "metadata": {
        "id": "Jo705V6ZOVBD",
        "colab_type": "code",
        "colab": {}
      },
      "source": [
        ""
      ],
      "execution_count": 0,
      "outputs": []
    },
    {
      "cell_type": "code",
      "metadata": {
        "id": "PHvP8RFoOU7d",
        "colab_type": "code",
        "colab": {}
      },
      "source": [
        "x= conf_int (rwlist1)\n",
        "print (x)"
      ],
      "execution_count": 0,
      "outputs": []
    },
    {
      "cell_type": "code",
      "metadata": {
        "id": "Jgjk6Mv4OU5n",
        "colab_type": "code",
        "colab": {}
      },
      "source": [
        "# Define function for Confidence of intervel \n",
        "# How to write comments in function refer as help?\n",
        "\n",
        "def conf_int(data,confi = 0.95): # confi set to default of 0.95\n",
        "  cal_q=1-((1-confi)/2)\n",
        "  mean = data.mean()\n",
        "  z_critical = stats.norm.ppf(q=cal_q)  # Get the z-critical value* used 0.975 as (0.5/2=0.25)\n",
        "  moe = z_critical * (data.std()/np.sqrt(data.count())) # moe = margin of error\n",
        "  ncimoe = mean-moe\n",
        "  pcimoe = mean+moe\n",
        "  return (ncimoe, mean, pcimoe)\n",
        "\n",
        "# def forloop ()\n",
        "#   # doing this to run loop to add all as DF\n",
        "#   ci_list = []\n",
        "#   iss_list = []\n",
        "#   for issue in data.columns[1:]:\n",
        "#     tup = [conf_int(data[issue])]\n",
        "#     out = list(sum(tup, ())) \n",
        "#     ci_list.append(out)\n",
        "#     iss_list.append(issue)\n",
        "    \n",
        "#   ci_df = pd.DataFrame(ci_list, columns = ['NegConfInterval','Mean', 'PosConfInterval']) \n",
        "#   #need new column for issue\n",
        "#   ci_df.insert(0, \"Issues\",votersiss_list)\n",
        "  \n",
        "#   return (mean-moe, mean, mean+moe)"
      ],
      "execution_count": 0,
      "outputs": []
    },
    {
      "cell_type": "code",
      "metadata": {
        "id": "jfqrEmO8KxX9",
        "colab_type": "code",
        "colab": {}
      },
      "source": [
        "votersci_df = []\n",
        "votersiss_list = []\n",
        "for issue in voters_df.columns[1:]:\n",
        "  tup = [conf_int(voters_df[issue])]\n",
        "  out = list(sum(tup, ())) \n",
        "  votersci_df.append(out)\n",
        "  votersiss_list.append(issue)\n",
        "    \n",
        "votersci_df = pd.DataFrame(votersci_df, columns = ['NegConfInterval','Mean', 'PosConfInterval']) \n",
        "#need new column for issue\n",
        "votersci_df.insert(0, \"Issues\",votersiss_list)\n",
        "votersci_df.head(20)"
      ],
      "execution_count": 0,
      "outputs": []
    },
    {
      "cell_type": "code",
      "metadata": {
        "id": "bIvyP91OIKlF",
        "colab_type": "code",
        "colab": {}
      },
      "source": [
        "testing = conf_int(voters_df)\n",
        "type(testing)"
      ],
      "execution_count": 0,
      "outputs": []
    },
    {
      "cell_type": "code",
      "metadata": {
        "id": "EHRJpE-gKw5V",
        "colab_type": "code",
        "colab": {}
      },
      "source": [
        ""
      ],
      "execution_count": 0,
      "outputs": []
    },
    {
      "cell_type": "code",
      "metadata": {
        "id": "vdFFcMaVOU3j",
        "colab_type": "code",
        "colab": {}
      },
      "source": [
        "#Making Dataframe from the values received\n",
        "votersci_df = []\n",
        "votersiss_list = []\n",
        "for issue in voters_df.columns[1:]:\n",
        "  tup = [conf_int(voters_df[issue])]\n",
        "  out = list(sum(tup, ())) \n",
        "  votersci_df.append(out)\n",
        "  votersiss_list.append(issue)\n",
        "    \n",
        "votersci_df = pd.DataFrame(votersci_df, columns = ['NegConfInterval','Mean', 'PosConfInterval']) \n",
        "#need new column for issue\n",
        "testci_df.insert(0, \"Issues\",votersiss_list)\n",
        "testci_df.head(20)"
      ],
      "execution_count": 0,
      "outputs": []
    },
    {
      "cell_type": "code",
      "metadata": {
        "id": "AXny6MYWOU1T",
        "colab_type": "code",
        "colab": {}
      },
      "source": [
        "x=[1,2,3,4,5,6,7]\n",
        "y=[50,51,52,48,47,49,46]"
      ],
      "execution_count": 0,
      "outputs": []
    },
    {
      "cell_type": "code",
      "metadata": {
        "id": "0JkxPjaGOUwy",
        "colab_type": "code",
        "colab": {}
      },
      "source": [
        "plt.xlabel('Day')\n",
        "plt.ylabel('Temperature')\n",
        "plt.title('Weather')\n",
        "plt.plot(x,y,color='red', linewidth=2, linestyle='--')"
      ],
      "execution_count": 0,
      "outputs": []
    },
    {
      "cell_type": "code",
      "metadata": {
        "id": "wziiOalLrDgN",
        "colab_type": "code",
        "colab": {}
      },
      "source": [
        "repci_df.head()"
      ],
      "execution_count": 0,
      "outputs": []
    },
    {
      "cell_type": "code",
      "metadata": {
        "id": "ywmF3DgVsBaP",
        "colab_type": "code",
        "colab": {}
      },
      "source": [
        "repci_df.shape"
      ],
      "execution_count": 0,
      "outputs": []
    },
    {
      "cell_type": "code",
      "metadata": {
        "id": "R42c0ivPOUuy",
        "colab_type": "code",
        "colab": {}
      },
      "source": [
        "# xlist= repci_df['Issues']\n",
        "# ylist = repci_df['NegConfInterval', 'Mean',\t'PosConfInterval']\n",
        "repci_df.set_index('Issues', inplace=True)\n",
        "repci_df.plot.bar()"
      ],
      "execution_count": 0,
      "outputs": []
    },
    {
      "cell_type": "code",
      "metadata": {
        "id": "6l3JNo5jOUqC",
        "colab_type": "code",
        "colab": {}
      },
      "source": [
        ""
      ],
      "execution_count": 0,
      "outputs": []
    },
    {
      "cell_type": "code",
      "metadata": {
        "id": "UFfJB8N3OUn-",
        "colab_type": "code",
        "colab": {}
      },
      "source": [
        ""
      ],
      "execution_count": 0,
      "outputs": []
    },
    {
      "cell_type": "code",
      "metadata": {
        "id": "H7WPSYvKOUmT",
        "colab_type": "code",
        "colab": {}
      },
      "source": [
        ""
      ],
      "execution_count": 0,
      "outputs": []
    },
    {
      "cell_type": "code",
      "metadata": {
        "id": "lNF9NhmEOUia",
        "colab_type": "code",
        "colab": {}
      },
      "source": [
        ""
      ],
      "execution_count": 0,
      "outputs": []
    },
    {
      "cell_type": "code",
      "metadata": {
        "id": "R66MEV5jOUd-",
        "colab_type": "code",
        "colab": {}
      },
      "source": [
        ""
      ],
      "execution_count": 0,
      "outputs": []
    },
    {
      "cell_type": "code",
      "metadata": {
        "id": "WN7dlGLPOUcQ",
        "colab_type": "code",
        "colab": {}
      },
      "source": [
        ""
      ],
      "execution_count": 0,
      "outputs": []
    },
    {
      "cell_type": "code",
      "metadata": {
        "id": "5fgm-KoHOUZ3",
        "colab_type": "code",
        "colab": {}
      },
      "source": [
        ""
      ],
      "execution_count": 0,
      "outputs": []
    },
    {
      "cell_type": "code",
      "metadata": {
        "id": "xX3Y4RCZOUVG",
        "colab_type": "code",
        "colab": {}
      },
      "source": [
        ""
      ],
      "execution_count": 0,
      "outputs": []
    }
  ]
}