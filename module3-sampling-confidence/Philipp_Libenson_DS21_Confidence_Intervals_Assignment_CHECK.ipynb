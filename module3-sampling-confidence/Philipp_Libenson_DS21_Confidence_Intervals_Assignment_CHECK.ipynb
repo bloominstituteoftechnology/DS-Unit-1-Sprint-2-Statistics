{
  "nbformat": 4,
  "nbformat_minor": 0,
  "metadata": {
    "colab": {
      "name": "Philipp Libenson DS21 Confidence_Intervals_Assignment_CHECK.ipynb",
      "provenance": [],
      "collapsed_sections": [],
      "include_colab_link": true
    },
    "kernelspec": {
      "name": "python3",
      "display_name": "Python 3"
    }
  },
  "cells": [
    {
      "cell_type": "markdown",
      "metadata": {
        "id": "view-in-github",
        "colab_type": "text"
      },
      "source": [
        "<a href=\"https://colab.research.google.com/github/spasatel13/DS-Unit-1-Sprint-2-Statistics/blob/master/module3-sampling-confidence/Philipp_Libenson_DS21_Confidence_Intervals_Assignment_CHECK.ipynb\" target=\"_parent\"><img src=\"https://colab.research.google.com/assets/colab-badge.svg\" alt=\"Open In Colab\"/></a>"
      ]
    },
    {
      "cell_type": "markdown",
      "metadata": {
        "id": "eI13byJQrZgw"
      },
      "source": [
        "# Lambda School Data Science - Unit 1 Sprint 2 Module 3\n",
        "\n",
        "---\n",
        "\n",
        "## Assignment: Sampling and Confidence Intervals"
      ]
    },
    {
      "cell_type": "markdown",
      "metadata": {
        "id": "yt6t5-QO1dno"
      },
      "source": [
        "### Objectives\n",
        "\n",
        "* Objective 01 - explain the concepts of statistical estimate, precision, and standard error as they apply to inferential statistics\n",
        "* Objective 02 - explain the implications of the central limit theorem in inferential statistics\n",
        "* Objective 03 - explain the purpose of and identify applications for confidence intervals\n",
        "demonstrate how to build a confidence interval around a sample estimate\n",
        "* Objective 04 - visualize a confidence interval in order to communicate the precision of sample estimates"
      ]
    },
    {
      "cell_type": "markdown",
      "metadata": {
        "id": "g_c3L9CeANiJ"
      },
      "source": [
        "## Confidence Intervals\n",
        "\n",
        "Soft drinks like Coke and Pepsi are manufactured to have a standard caffeine content. For example, a 12-oz serving of Coke has 34mg of caffeine, and a 12-oz serving of Pepsi has 37.6mg of caffeine. However, fountain soft drinks are typically mixed in individual restaurant dispensers, so it is more difficult to maintain a standard level of caffeine per serving. In this study, researchers randomly sampled Coke, Diet Coke, Pepsi, and Diet Pepsi at a set of franchise restaurants and measured the caffeine content in 12oz of each soft drink. The data is found in the Soda.xlsx dataset.\n",
        "\n",
        "Because individuals can be sensitive to caffeine – and because the manufacturers are interested in product consistency – we wish to estimate the mean caffeine content in 12oz of Coke served in franchise restaurants using a 95% confidence interval. \n",
        "\n",
        "You can find the Coke data here: 'https://raw.githubusercontent.com/Chelsea-Myers/Lambda-Intro/master/Coke.csv'\n",
        "\n",
        "The first variable is the sample ID and the second variable is the caffeine content in the 12-oz sample measured in mg.\n",
        "\n",
        "Source: A.N. Garand and L.N. Bell (1997). \"Caffeine Content of Fountain and Private-Label Store Brand Carbonated Beverages,\" Journal of the American Dietetic Association, Vol. 97, #2, pp. 179-182.\n"
      ]
    },
    {
      "cell_type": "markdown",
      "metadata": {
        "id": "oaJpAIakUo31"
      },
      "source": [
        "### 1) Load the dataset and print the first few rows.\n",
        "\n",
        "* name your DataFrame `coke_df`\n",
        "* set `skipinitialspace=True`\n",
        "* set `header=0`"
      ]
    },
    {
      "cell_type": "code",
      "metadata": {
        "id": "yXwMJQGrAIbO"
      },
      "source": [
        "# Import your libraries and load the data\n",
        "import pandas as pd\n",
        "import numpy as np\n",
        "### your code here ###\n",
        "url='https://raw.githubusercontent.com/Chelsea-Myers/Lambda-Intro/master/Coke.csv'\n",
        "coke_df = pd.read_csv(url,skipinitialspace=True, header=0 )"
      ],
      "execution_count": 5,
      "outputs": []
    },
    {
      "cell_type": "code",
      "metadata": {
        "id": "pYsFvm1dPygj",
        "outputId": "35d85141-dc8b-4d19-cea5-49a07050fdfa",
        "colab": {
          "base_uri": "https://localhost:8080/",
          "height": 216
        }
      },
      "source": [
        "# Take a look at your data\n",
        "\n",
        "### your code here #\n",
        "print(coke_df.shape)\n",
        "coke_df.head()"
      ],
      "execution_count": 3,
      "outputs": [
        {
          "output_type": "stream",
          "text": [
            "(50, 2)\n"
          ],
          "name": "stdout"
        },
        {
          "output_type": "execute_result",
          "data": {
            "text/html": [
              "<div>\n",
              "<style scoped>\n",
              "    .dataframe tbody tr th:only-of-type {\n",
              "        vertical-align: middle;\n",
              "    }\n",
              "\n",
              "    .dataframe tbody tr th {\n",
              "        vertical-align: top;\n",
              "    }\n",
              "\n",
              "    .dataframe thead th {\n",
              "        text-align: right;\n",
              "    }\n",
              "</style>\n",
              "<table border=\"1\" class=\"dataframe\">\n",
              "  <thead>\n",
              "    <tr style=\"text-align: right;\">\n",
              "      <th></th>\n",
              "      <th>Drink</th>\n",
              "      <th>Caffeine</th>\n",
              "    </tr>\n",
              "  </thead>\n",
              "  <tbody>\n",
              "    <tr>\n",
              "      <th>0</th>\n",
              "      <td>1</td>\n",
              "      <td>47.32</td>\n",
              "    </tr>\n",
              "    <tr>\n",
              "      <th>1</th>\n",
              "      <td>2</td>\n",
              "      <td>43.78</td>\n",
              "    </tr>\n",
              "    <tr>\n",
              "      <th>2</th>\n",
              "      <td>3</td>\n",
              "      <td>48.12</td>\n",
              "    </tr>\n",
              "    <tr>\n",
              "      <th>3</th>\n",
              "      <td>4</td>\n",
              "      <td>43.25</td>\n",
              "    </tr>\n",
              "    <tr>\n",
              "      <th>4</th>\n",
              "      <td>5</td>\n",
              "      <td>46.42</td>\n",
              "    </tr>\n",
              "  </tbody>\n",
              "</table>\n",
              "</div>"
            ],
            "text/plain": [
              "   Drink  Caffeine\n",
              "0      1     47.32\n",
              "1      2     43.78\n",
              "2      3     48.12\n",
              "3      4     43.25\n",
              "4      5     46.42"
            ]
          },
          "metadata": {
            "tags": []
          },
          "execution_count": 3
        }
      ]
    },
    {
      "cell_type": "code",
      "metadata": {
        "id": "igi_7D8S17Gg",
        "outputId": "2ff1f5f0-4650-4f0b-bf22-1ab813391956",
        "colab": {
          "base_uri": "https://localhost:8080/",
          "height": 35
        }
      },
      "source": [
        "# This is an ANSWER CHECK cell.\n",
        "# Don't alter this cell if you want accurate feedback\n",
        "#------------------------------------------------------------------------------#\n",
        "\n",
        "# check if the DataFrame was created\n",
        "assert not coke_df.empty, 'Make sure the df name is accurate and you loaded the correct URL.'\n",
        "# check the shape of the DataFrame\n",
        "assert coke_df.shape == (50, 2), 'Is your data loaded with the correct argument?'\n",
        "print('Correct! Continue to the next question')"
      ],
      "execution_count": 4,
      "outputs": [
        {
          "output_type": "stream",
          "text": [
            "Correct! Continue to the next question\n"
          ],
          "name": "stdout"
        }
      ]
    },
    {
      "cell_type": "markdown",
      "metadata": {
        "id": "wOQ-9E8uYcni"
      },
      "source": [
        "###2) Calculate the mean, standard deviation (SD), standard error (SE) for the caffeine content and n for the sample size. \n",
        "\n",
        "Label your variables as follows:\n",
        "\n",
        "* `mean_caffeine`\n",
        "* `sd_caffeine`\n",
        "* `n_caffeine`\n",
        "* `se_caffeine`"
      ]
    },
    {
      "cell_type": "code",
      "metadata": {
        "id": "m1vuFGxVQo64",
        "outputId": "54d568f2-e68b-4b50-a01b-eeba50268225",
        "colab": {
          "base_uri": "https://localhost:8080/",
          "height": 90
        }
      },
      "source": [
        "### your code here ###\n",
        "mean_caffeine=coke_df['Caffeine'].mean()\n",
        "sd_caffeine=coke_df['Caffeine'].std()\n",
        "n_caffeine=coke_df['Caffeine'].count()\n",
        "se_caffeine=sd_caffeine/np.sqrt(n_caffeine)\n",
        "print(mean_caffeine)\n",
        "print(sd_caffeine)\n",
        "print(n_caffeine)\n",
        "print(se_caffeine)"
      ],
      "execution_count": 7,
      "outputs": [
        {
          "output_type": "stream",
          "text": [
            "37.9402\n",
            "5.243756828216712\n",
            "50\n",
            "0.7415792024250598\n"
          ],
          "name": "stdout"
        }
      ]
    },
    {
      "cell_type": "code",
      "metadata": {
        "id": "5qorI8MB9G0c",
        "outputId": "9c6ccaf1-23e1-47e2-bd5c-5e71db7a7620",
        "colab": {
          "base_uri": "https://localhost:8080/",
          "height": 35
        }
      },
      "source": [
        "# This is an ANSWER CHECK cell.\n",
        "# Don't alter this cell if you want accurate feedback\n",
        "#------------------------------------------------------------------------------#\n",
        "\n",
        "# check statistics calculations\n",
        "assert round(mean_caffeine) == 38, 'Check your mean value'\n",
        "assert round(sd_caffeine) == 5, 'Check your standard deviation value'\n",
        "assert n_caffeine == 50, 'Check the sample number'\n",
        "assert round(se_caffeine, 2) == 0.74, 'Check the standard error value'\n",
        "print('Correct! Continue to the next question')"
      ],
      "execution_count": 8,
      "outputs": [
        {
          "output_type": "stream",
          "text": [
            "Correct! Continue to the next question\n"
          ],
          "name": "stdout"
        }
      ]
    },
    {
      "cell_type": "markdown",
      "metadata": {
        "id": "Eu7eTFgh9Hcd"
      },
      "source": [
        "### Summarize your results from above in a sentence or two. "
      ]
    },
    {
      "cell_type": "markdown",
      "metadata": {
        "id": "y2Rz-8O-YmF9"
      },
      "source": [
        "SHORT ANSWER TEXT HERE \\\n",
        "The sample mean is about 10% higher than the expected population mean."
      ]
    },
    {
      "cell_type": "markdown",
      "metadata": {
        "id": "RySL5E7GEHGf"
      },
      "source": [
        "###3) Find t* for a 95% confidence interval.  \n",
        "\n",
        "Use the starter code below and *fill in the degrees of freedom*. The `t_star` variable has been created for you."
      ]
    },
    {
      "cell_type": "code",
      "metadata": {
        "id": "ti9x37XSQ_yL",
        "outputId": "5cd9c044-674b-4dab-f0f1-a38e68d89092",
        "colab": {
          "base_uri": "https://localhost:8080/",
          "height": 35
        }
      },
      "source": [
        "# Import the stats library\n",
        "from scipy.stats import t\n",
        "\n",
        "#Don't worry too much about where the 0.975 comes from.  It has to do\n",
        "#with wanting to determine the *middle* 95% of the t-distribution\n",
        "#We're going to learn how to calculate a 95% CI this easy way in just a minute.\n",
        "\n",
        "#Hint: Recall that n = 223 for the body temp problem. What was the dof for that problem?\n",
        "\n",
        "### your code here: fill in the degrees of freedom ###\n",
        "\n",
        "t_star = t.ppf(0.975, n_caffeine-1)\n",
        "print('t_star =', t_star)"
      ],
      "execution_count": 27,
      "outputs": [
        {
          "output_type": "stream",
          "text": [
            "t_star = 2.009575234489209\n"
          ],
          "name": "stdout"
        }
      ]
    },
    {
      "cell_type": "code",
      "metadata": {
        "id": "7N34GArqCuhY",
        "outputId": "78f30e8f-948d-4b0c-afca-3648fdc257ec",
        "colab": {
          "base_uri": "https://localhost:8080/",
          "height": 35
        }
      },
      "source": [
        "# This is an ANSWER CHECK cell.\n",
        "# Don't alter this cell if you want accurate feedback\n",
        "#------------------------------------------------------------------------------#\n",
        "\n",
        "# check statistics calculations\n",
        "assert round(t_star) == 2, 'Check the dof you entered!'\n",
        "print('Correct! Continue to the next question')"
      ],
      "execution_count": 11,
      "outputs": [
        {
          "output_type": "stream",
          "text": [
            "Correct! Continue to the next question\n"
          ],
          "name": "stdout"
        }
      ]
    },
    {
      "cell_type": "markdown",
      "metadata": {
        "id": "AddooPk1JBvQ"
      },
      "source": [
        "###4) Calculate the margin of error for a 95% confidence interval for the mean caffeine content in a 12-oz Coke. Name your variable `m_err`.\n",
        "\n"
      ]
    },
    {
      "cell_type": "code",
      "metadata": {
        "id": "IjjYtXodJW-b",
        "outputId": "a60a5524-f70b-427d-a836-049654261037",
        "colab": {
          "base_uri": "https://localhost:8080/",
          "height": 35
        }
      },
      "source": [
        "### your code here ###\n",
        "m_err=t_star*se_caffeine\n",
        "m_err"
      ],
      "execution_count": 13,
      "outputs": [
        {
          "output_type": "execute_result",
          "data": {
            "text/plain": [
              "1.49025919960566"
            ]
          },
          "metadata": {
            "tags": []
          },
          "execution_count": 13
        }
      ]
    },
    {
      "cell_type": "code",
      "metadata": {
        "id": "s0w_f66zDn31",
        "outputId": "0e5ec649-626f-4ec2-ffb7-fa3abfd5d86b",
        "colab": {
          "base_uri": "https://localhost:8080/",
          "height": 35
        }
      },
      "source": [
        "# This is an ANSWER CHECK cell.\n",
        "# Don't alter this cell if you want accurate feedback\n",
        "#------------------------------------------------------------------------------#\n",
        "\n",
        "# check margin of error calculation\n",
        "assert round(m_err, 2) == 1.49, 'Did you multiply m_err by the correct value?'\n",
        "print('Correct! Continue to the next question')"
      ],
      "execution_count": 14,
      "outputs": [
        {
          "output_type": "stream",
          "text": [
            "Correct! Continue to the next question\n"
          ],
          "name": "stdout"
        }
      ]
    },
    {
      "cell_type": "markdown",
      "metadata": {
        "id": "bhiK1zIPEWBd"
      },
      "source": [
        "### State the margin of error answer with the correct units. (example: The margin of error is 5 pounds per bag of cat food)."
      ]
    },
    {
      "cell_type": "markdown",
      "metadata": {
        "id": "ePBmVZU7N2nq"
      },
      "source": [
        "SHORT ANSWER TEXT HERE \\\n",
        "The margin of error is 1.49mg of caffeine per 12-oz serving of Coke."
      ]
    },
    {
      "cell_type": "markdown",
      "metadata": {
        "id": "AtGASqgxYp5t"
      },
      "source": [
        "###5) Calculate a 95% CI for the mean caffeine content in a 12-oz fountain Coke with the CI formula using the summary statistics and t* that you calculated above.\n",
        "\n",
        "Name your variables as follows:\n",
        "\n",
        "* lower confidence level: `lower_CL`\n",
        "* upper confidence level: `upper_CL`"
      ]
    },
    {
      "cell_type": "code",
      "metadata": {
        "id": "JPUE0osGEw0M",
        "outputId": "9570e52e-5b4f-47c1-9643-544a79523ae5",
        "colab": {
          "base_uri": "https://localhost:8080/",
          "height": 35
        }
      },
      "source": [
        "### your code here ###\n",
        "lower_CL=mean_caffeine-m_err\n",
        "upper_CL=mean_caffeine+m_err\n",
        "(lower_CL, upper_CL)"
      ],
      "execution_count": 17,
      "outputs": [
        {
          "output_type": "execute_result",
          "data": {
            "text/plain": [
              "(36.44994080039434, 39.43045919960566)"
            ]
          },
          "metadata": {
            "tags": []
          },
          "execution_count": 17
        }
      ]
    },
    {
      "cell_type": "code",
      "metadata": {
        "id": "yPBvD9x6FMZU",
        "outputId": "cfb92cfe-eee7-48c1-cde6-0bf6ebd8bf4c",
        "colab": {
          "base_uri": "https://localhost:8080/",
          "height": 35
        }
      },
      "source": [
        "# This is an ANSWER CHECK cell.\n",
        "# Don't alter this cell if you want accurate feedback\n",
        "#------------------------------------------------------------------------------#\n",
        "\n",
        "# check confidence level calculations\n",
        "assert round(lower_CL, 2) == 36.45, 'Check your lower CL calculation.'\n",
        "assert round(upper_CL, 2) == 39.43, 'Check your upper CL calculation.'\n",
        "print('Correct! Continue to the next question')"
      ],
      "execution_count": 18,
      "outputs": [
        {
          "output_type": "stream",
          "text": [
            "Correct! Continue to the next question\n"
          ],
          "name": "stdout"
        }
      ]
    },
    {
      "cell_type": "markdown",
      "metadata": {
        "id": "gAKJlaMyEzVz"
      },
      "source": [
        "###6) Calculate a **95% confidence interval** for the mean caffeine content in a 12-oz fountain Coke using the t-interval function in Python. Name your variable `t_int_95`."
      ]
    },
    {
      "cell_type": "code",
      "metadata": {
        "id": "GSo4uKWVFKwQ",
        "outputId": "bcdcd64a-ec05-417c-ef4f-166a1a3788f3",
        "colab": {
          "base_uri": "https://localhost:8080/",
          "height": 35
        }
      },
      "source": [
        "### your code here ###\n",
        "t_int_95=t.interval(alpha = 0.95, df=n_caffeine-1, loc = mean_caffeine, scale = se_caffeine)\n",
        "t_int_95"
      ],
      "execution_count": 21,
      "outputs": [
        {
          "output_type": "execute_result",
          "data": {
            "text/plain": [
              "(36.44994080039434, 39.43045919960566)"
            ]
          },
          "metadata": {
            "tags": []
          },
          "execution_count": 21
        }
      ]
    },
    {
      "cell_type": "code",
      "metadata": {
        "id": "oTCZbc82GgHX",
        "outputId": "3809486c-871b-4898-bcc1-ad0fe520f418",
        "colab": {
          "base_uri": "https://localhost:8080/",
          "height": 35
        }
      },
      "source": [
        "# This is an ANSWER CHECK cell.\n",
        "# Don't alter this cell if you want accurate feedback\n",
        "#------------------------------------------------------------------------------#\n",
        "\n",
        "# check confidence level calculations\n",
        "assert round(t_int_95[0], 2) == 36.45, 'Check your interval calculation.'\n",
        "assert round(t_int_95[1], 2) == 39.43, 'Check your interval calculation.'\n",
        "print('Correct! Continue to the next question')"
      ],
      "execution_count": 20,
      "outputs": [
        {
          "output_type": "stream",
          "text": [
            "Correct! Continue to the next question\n"
          ],
          "name": "stdout"
        }
      ]
    },
    {
      "cell_type": "markdown",
      "metadata": {
        "id": "8oD8lp84YyvU"
      },
      "source": [
        "###7) Compare the two confidence intervals you calculated.  Do they match?  Should they?"
      ]
    },
    {
      "cell_type": "markdown",
      "metadata": {
        "id": "mBMX1NAIFT88"
      },
      "source": [
        "They do match and they should!"
      ]
    },
    {
      "cell_type": "markdown",
      "metadata": {
        "id": "-2ulIAGmYudp"
      },
      "source": [
        "###8) Interpret the meaning of the 95% confidence interval for the mean caffeiene content in a 12-oz fountain Coke. in a sentence or two."
      ]
    },
    {
      "cell_type": "markdown",
      "metadata": {
        "id": "hD5HloatYxoh"
      },
      "source": [
        "**SHORT ANSWER TEXT HERE** \\\n",
        "We can say that we are 95% confident that the true mean of the caffeine level in all 12-oz Coke drinks \\\n",
        "from which the random sample was taken is between 36.45mg and 39.43mg. "
      ]
    },
    {
      "cell_type": "markdown",
      "metadata": {
        "id": "SpqgKQfTYvF0"
      },
      "source": [
        "###9) Using the t-interval Python function, calculate a **90% confidence interval** for the mean caffeine content in a 12-oz Coke. Name your variable `t_int_90` (make sure to use `90` at the end!).\n"
      ]
    },
    {
      "cell_type": "code",
      "metadata": {
        "id": "r1y1LE_dPAi6",
        "outputId": "7c8c9b9b-1624-44ef-ac60-41d75ea82955",
        "colab": {
          "base_uri": "https://localhost:8080/",
          "height": 35
        }
      },
      "source": [
        "### your code here ###\n",
        "t_int_90=t.interval(alpha = 0.90, df=n_caffeine-1, loc = mean_caffeine, scale = se_caffeine)\n",
        "t_int_90"
      ],
      "execution_count": 22,
      "outputs": [
        {
          "output_type": "execute_result",
          "data": {
            "text/plain": [
              "(36.696904726749196, 39.1834952732508)"
            ]
          },
          "metadata": {
            "tags": []
          },
          "execution_count": 22
        }
      ]
    },
    {
      "cell_type": "code",
      "metadata": {
        "id": "HQggp0yKMpXL",
        "outputId": "143ddbfd-ba0d-4887-c9d5-dd073e56f074",
        "colab": {
          "base_uri": "https://localhost:8080/",
          "height": 35
        }
      },
      "source": [
        "# This is an ANSWER CHECK cell.\n",
        "# Don't alter this cell if you want accurate feedback\n",
        "#------------------------------------------------------------------------------#\n",
        "\n",
        "# check confidence level calculations\n",
        "assert round(t_int_90[0], 2) == 36.70, 'Check your interval calculation.'\n",
        "assert round(t_int_90[1], 2) == 39.18, 'Check your interval calculation.'\n",
        "print('Correct! Continue to the next question')"
      ],
      "execution_count": 23,
      "outputs": [
        {
          "output_type": "stream",
          "text": [
            "Correct! Continue to the next question\n"
          ],
          "name": "stdout"
        }
      ]
    },
    {
      "cell_type": "markdown",
      "metadata": {
        "id": "d5UezihtM4d6"
      },
      "source": [
        "### Is this estimate *more accurate* or *more precise* (pick one) than the 95% confidence interval?\n"
      ]
    },
    {
      "cell_type": "markdown",
      "metadata": {
        "id": "7WIQtB0PGJP4"
      },
      "source": [
        "**SHORT ANSWER TEXT HERE** \\\n",
        "This estimate is more precise. "
      ]
    },
    {
      "cell_type": "markdown",
      "metadata": {
        "id": "hQsmY8RnHKJf"
      },
      "source": [
        "###10) Using the t-interval Python function, calculate a **99% confidence interval** for the mean caffeine content in a 12-oz Coke.  Name your variable `t_int_99` (make sure to use `99` at the end!).\n",
        "\n",
        "\n"
      ]
    },
    {
      "cell_type": "code",
      "metadata": {
        "id": "YrKq5pXYPNnK",
        "outputId": "ea8ec562-de02-4458-9798-3d19276d28c7",
        "colab": {
          "base_uri": "https://localhost:8080/",
          "height": 35
        }
      },
      "source": [
        "### your code here ###\n",
        "t_int_99=t.interval(alpha = 0.99, df=n_caffeine-1, loc = mean_caffeine, scale = se_caffeine)\n",
        "t_int_99"
      ],
      "execution_count": 24,
      "outputs": [
        {
          "output_type": "execute_result",
          "data": {
            "text/plain": [
              "(35.95280335285685, 39.92759664714315)"
            ]
          },
          "metadata": {
            "tags": []
          },
          "execution_count": 24
        }
      ]
    },
    {
      "cell_type": "code",
      "metadata": {
        "id": "4mkiLun_M_Af",
        "outputId": "b6793404-0e04-43a2-b84b-fce8a139849c",
        "colab": {
          "base_uri": "https://localhost:8080/",
          "height": 35
        }
      },
      "source": [
        "# This is an ANSWER CHECK cell.\n",
        "# Don't alter this cell if you want accurate feedback\n",
        "#------------------------------------------------------------------------------#\n",
        "\n",
        "# check confidence level calculations\n",
        "assert round(t_int_99[0], 2) == 35.95, 'Check your interval calculation.'\n",
        "assert round(t_int_99[1], 2) == 39.93, 'Check your interval calculation.'\n",
        "print('Correct! Continue to the next question')"
      ],
      "execution_count": 25,
      "outputs": [
        {
          "output_type": "stream",
          "text": [
            "Correct! Continue to the next question\n"
          ],
          "name": "stdout"
        }
      ]
    },
    {
      "cell_type": "markdown",
      "metadata": {
        "id": "j2vFv5eTM_f5"
      },
      "source": [
        "### Is this estimate more *accurate* or more *precise* (pick one) than the 99% confidence interval?"
      ]
    },
    {
      "cell_type": "markdown",
      "metadata": {
        "id": "liduCGIkJAC2"
      },
      "source": [
        "SHORT ANSWER TEXT HERE \\\n",
        "This **is** the 99% confidence interval. \\\n",
        " It is more accurate than the 95% confidence interal. "
      ]
    },
    {
      "cell_type": "markdown",
      "metadata": {
        "id": "9tIHBlM_SyGR"
      },
      "source": [
        "## Stretch goals:\n",
        "\n",
        "###1) The correspondence between confidence intervals and hypothesis tests.\n",
        "\n",
        "Read [this](https://https://blog.minitab.com/blog/adventures-in-statistics-2/understanding-hypothesis-tests-confidence-intervals-and-confidence-levels#:~:text=If%20a%20hypothesis%20test%20produces,corresponding%20confidence%20level%20is%2095%25.&text=If%20the%20confidence%20interval%20does,the%20results%20are%20statistically%20significant.) article about the correspondence between confidence intervals and hypothesis tests.  Feel free to read the whole article, but the relevant part can be found under the heading Why P Values and Confidence Intervals Always Agree About Statistical Significance.\n",
        "\n",
        "Imagine you work for quality control at Coke and are tasked with making sure that the caffeiene content in the fountain beverages served in restaurants is the same as in a 12-oz can of Coke (34mg).  If you believe that the mean caffeiene content in fountain coke is not 34mg, you must re-train the franchise managers to make sure the Coke served has the correct caffeiene level.\n",
        "\n",
        "Based on the confidence interval you calculated in the assignment, do you believe that the mean caffeiene content is statistically significantly different from 34 mg in a 12-oz serving?\n"
      ]
    },
    {
      "cell_type": "markdown",
      "metadata": {
        "id": "4Aa3df-_LgnT"
      },
      "source": [
        "Because 34mg is not in the bounds of the 95% confidence interval, we can reject the null hypothesis that the mean caffeiene content in 12-oz of fountain Coke is equal to 34mg.  Instead, we conclude it is between about 36.4 and 39.4 mg."
      ]
    },
    {
      "cell_type": "markdown",
      "metadata": {
        "id": "Ne4k2kd3LhfV"
      },
      "source": [
        "###2) If we increased the sample size from 50 to 100 but the sample mean and SD remained the same, describe **two** ways the margin of error would change.  Would the margin of error become smaller or larger?"
      ]
    },
    {
      "cell_type": "markdown",
      "metadata": {
        "id": "6lVcoTU6L5Pg"
      },
      "source": [
        "Both t* and n would change.  Therefore"
      ]
    },
    {
      "cell_type": "code",
      "metadata": {
        "id": "PQkk3nu4L4vu",
        "outputId": "c5607746-ded6-497e-d90a-15e90e73448c",
        "colab": {
          "base_uri": "https://localhost:8080/",
          "height": 54
        }
      },
      "source": [
        "new_t_star = t.ppf(0.975,df=99)\n",
        "print(new_t_star,t_star)\n",
        "### your code here ###\n",
        "new_marginOfError=new_t_star*sd_caffeine/np.sqrt(100)\n",
        "print(new_marginOfError, m_err)"
      ],
      "execution_count": 28,
      "outputs": [
        {
          "output_type": "stream",
          "text": [
            "1.9842169515086827 2.009575234489209\n",
            "1.0404751188137005 1.49025919960566\n"
          ],
          "name": "stdout"
        }
      ]
    },
    {
      "cell_type": "markdown",
      "metadata": {
        "id": "5bZ8LyiQXnpO"
      },
      "source": [
        "SHORT ANSWER TEXT HERE \\\n",
        "The margin of error woud decrease because the new_t_star is smaller than the old t_star and because the standard error is inversely proportional to the sqrt on the sample size. \n"
      ]
    }
  ]
}