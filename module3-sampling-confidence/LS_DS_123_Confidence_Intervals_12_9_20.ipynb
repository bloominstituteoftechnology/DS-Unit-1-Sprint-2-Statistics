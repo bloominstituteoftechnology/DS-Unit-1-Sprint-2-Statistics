{
  "nbformat": 4,
  "nbformat_minor": 0,
  "metadata": {
    "colab": {
      "name": "LS_DS_123_Confidence_Intervals_12_9_20.ipynb",
      "provenance": [],
      "collapsed_sections": []
    },
    "kernelspec": {
      "name": "python3",
      "display_name": "Python 3"
    }
  },
  "cells": [
    {
      "cell_type": "markdown",
      "metadata": {
        "id": "838Dmw1kM2LK"
      },
      "source": [
        "# Lambda School Data Science Module 123\n",
        "## Confidence Intervals\n",
        "\n",
        "Objectives: \n",
        "\n",
        "- Student can explain the purpose of confidence intervals and identify applications for their use\n",
        "- Student can explain the implications of the central limit theorem in inferential statistics\n",
        "- Student can demonstrate how to build a confidence interval around a sample estimate\n",
        "- Student can report margin of error and visualize graphically a confidence interval to communicate the precision of sample estimates to a non-technical audience\n",
        "- Student can explain the concepts of statistical estimate, precision, and standard error in regards to inferential statistics\n"
      ]
    },
    {
      "cell_type": "markdown",
      "metadata": {
        "id": "3hi4kQm1XhlO"
      },
      "source": [
        "#What are confidence intervals?  Why make them?\n",
        "\n",
        "In the past two units, we've talked about two different hypothesis tests: the t-test for a population mean(s) and the chi-square test for the relationship between two categorical variables.\n",
        "\n",
        "When we reject the null hypothesis for a one-independent-sample t-test, we say we believe that the population mean is *not* equal to some reference value (recall that the null hypothesis is that the population mean *is* equal to a reference value).  \n",
        "\n",
        "However, rejecting the null hypothesis only gives us a clue to what we think the population mean *is not*.  "
      ]
    },
    {
      "cell_type": "markdown",
      "metadata": {
        "id": "dldAGyVreMyh"
      },
      "source": [
        "\n",
        "**The purpose of a confidence interval for a one-sample t-test is to allow us to draw conclusions about the true value of the population mean.**"
      ]
    },
    {
      "cell_type": "markdown",
      "metadata": {
        "id": "f1eSsOqceQ7U"
      },
      "source": [
        "\n",
        "Note that there are some analygous procedures for confidence intervals for chi-square tests and two-independent-sample t-tests, but we are going to focus on a confidence interval for a single population mean here."
      ]
    },
    {
      "cell_type": "markdown",
      "metadata": {
        "id": "X9guE5l-iO3E"
      },
      "source": [
        "#Informal Confidence Intervals in Daily Life\n",
        "\n",
        "Believe it or not, you already use the concept of a confidence interval all the time in your daily life.\n",
        "\n",
        "\n",
        "*   \"How long will it take the brownies to bake?\"  About 35 - 40 minutes.\n",
        "*   \"How many cookies should I bake for the bake sale?\"  Probably around 2 - 3 dozen.\n",
        "*   \"How many loaves of bread will the bakery sell today?\" Around 90 - 100.\n",
        "\n",
        "The true answer to all of these questions is unknowable ahead of time.  Exactly how long it will take the brownies to bake probably depends on a zillion factors including how well your oven is working, how hot and humid it is, the age of the eggs you use, etc.\n",
        "\n",
        "However, based on personal experience - and perhaps the recipe - we can be very confident that it will take between 35 - 40 minutes for the brownies to be done.  \n",
        "\n",
        "Estimates in the other two scenarios work similarly."
      ]
    },
    {
      "cell_type": "markdown",
      "metadata": {
        "id": "Hntf1OWLlEPA"
      },
      "source": [
        "# The Anatomy of a Confidence Interval\n",
        "\n",
        "Here comes the math part!\n",
        "\n",
        "When we make brownies, we make an informal confidence interval for how long it will take for them to bake based on the recipe and our baking knowledge.\n",
        "\n",
        "**When we make a confidence interval for a population mean, we will use information from our sample and mathematical properties of the t-distribution.**"
      ]
    },
    {
      "cell_type": "markdown",
      "metadata": {
        "id": "J82wyqTElunD"
      },
      "source": [
        "##The formula for a confidence interval for a population mean is \n",
        "\n",
        "###$\\bar{X}$  $\\pm$  $t^* \\frac{s}{\\sqrt{n}}$ \n",
        "\n"
      ]
    },
    {
      "cell_type": "markdown",
      "metadata": {
        "id": "VhV8zLlYtF4M"
      },
      "source": [
        "Where $\\bar{X}$ is the sample mean, s is the sample standard deviation and n is the sample size.\n",
        "\n",
        "Note that $\\frac{s}{\\sqrt{n}}$ is the standard error, which is an estimate of the true standard error of the sample mean.  \n",
        "\n",
        "**Another name for the quantitiy $t^* \\frac{s}{\\sqrt{n}}$ is the margin of error.** \n",
        "\n",
        "Nearly all of the information we need to estimate the population mean using a confidence interval comes from our sample.  The only thing we don't get from the sample is t*.\n",
        "\n",
        "Now is the time to introduce some data."
      ]
    },
    {
      "cell_type": "markdown",
      "metadata": {
        "id": "V5Z3MSNfo3La"
      },
      "source": [
        "# Estimate the mean healthy adult human body temperature.\n",
        "\n",
        "Everyone knows that 98.60 F (37.00 C) is the normal human body temperature.  But is that actually correct, and – come to think of it – how does everyone know that in the first place?\n",
        "\n",
        "A German physician named Carl Reinhold August Wunderlich is generally credited with originating this idea, which was based on – reportedly – more than one million axiliary temperature readings taken from 25,000 subjects and was published in his 1868 book Das Verhalten der Eigenwärme in Krankheiten (which translates to The Behavior of the Self-Warmth in Diseases). But was he correct? History tells that his thermometer was a foot long and took 20 minutes to determine a subject’s temperature. For a measure that is used so often to determine general health, it would be a good idea to use modern instruments to confirm or refute his results.\n",
        "\n",
        "In 1992, three physicians from the University of Maryland School of Medicine set out to do just that, measuring body temperatures for 223 healthy men and women aged 18-40 one to four times a day for three consecutive days using an electronic digital thermometer. The mean body temperature was computed for each individual, and this summary measure is recorded in the Bodytemp.csv dataset. "
      ]
    },
    {
      "cell_type": "markdown",
      "metadata": {
        "id": "jzgOTeBvtl6D"
      },
      "source": [
        "**We wish to estimate the population mean healthy human body temperature.**"
      ]
    },
    {
      "cell_type": "markdown",
      "metadata": {
        "id": "_dDAP94KtvWP"
      },
      "source": [
        "Source: Mackowiak, P. A., Wasserman, S. S., and Levine, M. M.  (1992), \"A Critical Appraisal of 98.6 Degrees F, the Upper Limit of the Normal Body Temperature, and Other Legacies of Carl Reinhold August Wunderlich,\" Journal of the American Medical Association_, 268, 1578-1580.\n"
      ]
    },
    {
      "cell_type": "code",
      "metadata": {
        "id": "fGaZspmft1Jg",
        "colab": {
          "base_uri": "https://localhost:8080/",
          "height": 212
        },
        "outputId": "0d7ae127-c23d-4d5a-f316-555037c21ee8"
      },
      "source": [
        "import pandas as pd\n",
        "import numpy as np\n",
        "\n",
        "\n",
        "data_url = 'https://raw.githubusercontent.com/Chelsea-Myers/Lambda-Intro/master/Bodytemp.csv'\n",
        "\n",
        "df = pd.read_csv(data_url, skipinitialspace=True, header=0)\n",
        "\n",
        "print(df.shape)\n",
        "df.head()\n"
      ],
      "execution_count": null,
      "outputs": [
        {
          "output_type": "stream",
          "text": [
            "(223, 2)\n"
          ],
          "name": "stdout"
        },
        {
          "output_type": "execute_result",
          "data": {
            "text/html": [
              "<div>\n",
              "<style scoped>\n",
              "    .dataframe tbody tr th:only-of-type {\n",
              "        vertical-align: middle;\n",
              "    }\n",
              "\n",
              "    .dataframe tbody tr th {\n",
              "        vertical-align: top;\n",
              "    }\n",
              "\n",
              "    .dataframe thead th {\n",
              "        text-align: right;\n",
              "    }\n",
              "</style>\n",
              "<table border=\"1\" class=\"dataframe\">\n",
              "  <thead>\n",
              "    <tr style=\"text-align: right;\">\n",
              "      <th></th>\n",
              "      <th>ID</th>\n",
              "      <th>Body_temp</th>\n",
              "    </tr>\n",
              "  </thead>\n",
              "  <tbody>\n",
              "    <tr>\n",
              "      <th>0</th>\n",
              "      <td>36</td>\n",
              "      <td>96.7</td>\n",
              "    </tr>\n",
              "    <tr>\n",
              "      <th>1</th>\n",
              "      <td>254</td>\n",
              "      <td>96.9</td>\n",
              "    </tr>\n",
              "    <tr>\n",
              "      <th>2</th>\n",
              "      <td>282</td>\n",
              "      <td>97.0</td>\n",
              "    </tr>\n",
              "    <tr>\n",
              "      <th>3</th>\n",
              "      <td>286</td>\n",
              "      <td>97.0</td>\n",
              "    </tr>\n",
              "    <tr>\n",
              "      <th>4</th>\n",
              "      <td>302</td>\n",
              "      <td>97.0</td>\n",
              "    </tr>\n",
              "  </tbody>\n",
              "</table>\n",
              "</div>"
            ],
            "text/plain": [
              "    ID  Body_temp\n",
              "0   36       96.7\n",
              "1  254       96.9\n",
              "2  282       97.0\n",
              "3  286       97.0\n",
              "4  302       97.0"
            ]
          },
          "metadata": {
            "tags": []
          },
          "execution_count": 1
        }
      ]
    },
    {
      "cell_type": "markdown",
      "metadata": {
        "id": "LD5fogYFumvA"
      },
      "source": [
        "The two variables in the dataset are participant ID and body temperature measured in degrees F."
      ]
    },
    {
      "cell_type": "markdown",
      "metadata": {
        "id": "Iq7trJxEu2On"
      },
      "source": [
        "We can use the mean, sd and row counting functions in Python to calculate and save the sample mean body temp ($\\bar{X}$ for the CI formula), the sample standard deviation (s in the CI formula) and the sample size (n in the formula).\n",
        "\n",
        "$\\bar{X}$  $\\pm$  $t^* \\frac{s}{\\sqrt{n}}$"
      ]
    },
    {
      "cell_type": "code",
      "metadata": {
        "id": "CXbaQDV6uviK",
        "colab": {
          "base_uri": "https://localhost:8080/"
        },
        "outputId": "56caf521-c456-4778-dceb-8e94a1791da1"
      },
      "source": [
        "#Calculate mean\n",
        "\n",
        "mean_bodytemp = df['Body_temp'].mean()\n",
        "\n",
        "print(mean_bodytemp)"
      ],
      "execution_count": null,
      "outputs": [
        {
          "output_type": "stream",
          "text": [
            "98.16502242152464\n"
          ],
          "name": "stdout"
        }
      ]
    },
    {
      "cell_type": "code",
      "metadata": {
        "id": "lBM_l8vovvW9",
        "colab": {
          "base_uri": "https://localhost:8080/"
        },
        "outputId": "ad03d462-849c-414d-a055-139cbf5b5ce7"
      },
      "source": [
        "#Calculate SD\n",
        "\n",
        "sd_bodytemp = df['Body_temp'].std()\n",
        "\n",
        "print(sd_bodytemp)"
      ],
      "execution_count": null,
      "outputs": [
        {
          "output_type": "stream",
          "text": [
            "0.5273047859946364\n"
          ],
          "name": "stdout"
        }
      ]
    },
    {
      "cell_type": "code",
      "metadata": {
        "id": "iDmBJP6JwRCa",
        "colab": {
          "base_uri": "https://localhost:8080/"
        },
        "outputId": "55e945ca-0966-470d-c825-dd76833541d6"
      },
      "source": [
        "#Calculate n\n",
        "\n",
        "n_bodytemp = df['Body_temp'].count()\n",
        "\n",
        "print(n_bodytemp)"
      ],
      "execution_count": null,
      "outputs": [
        {
          "output_type": "stream",
          "text": [
            "223\n"
          ],
          "name": "stdout"
        }
      ]
    },
    {
      "cell_type": "markdown",
      "metadata": {
        "id": "Bw3jaPyUwj14"
      },
      "source": [
        "We can calculate the standard error of the sample mean by dividing the sd of the sample by the square root of the sample size."
      ]
    },
    {
      "cell_type": "code",
      "metadata": {
        "id": "FiCestjGw3ym",
        "colab": {
          "base_uri": "https://localhost:8080/"
        },
        "outputId": "fd719c8b-1a13-4af7-a691-871dd3fd45c7"
      },
      "source": [
        "#Calculate SE\n",
        "\n",
        "se_bodytemp = sd_bodytemp/np.sqrt(n_bodytemp)\n",
        "\n",
        "print(se_bodytemp)"
      ],
      "execution_count": null,
      "outputs": [
        {
          "output_type": "stream",
          "text": [
            "0.035310940220425246\n"
          ],
          "name": "stdout"
        }
      ]
    },
    {
      "cell_type": "markdown",
      "metadata": {
        "id": "pVyP9nnNxSfn"
      },
      "source": [
        "Let's plug these quantities into the CI formula.  We're almost there!\n",
        "\n",
        "###$\\bar{X}$  $\\pm$  $t^* \\frac{s}{\\sqrt{n}}$ \n",
        "\n",
        "\n",
        "98.17 $\\pm$ $t^* \\frac{0.53}{\\sqrt{223}}$ \n",
        "\n",
        "98.17 $\\pm$ $t^* * 0.035$ "
      ]
    },
    {
      "cell_type": "markdown",
      "metadata": {
        "id": "F5wCLNKKygV0"
      },
      "source": [
        "So what is t*?????\n",
        "\n",
        "Let's look carefully at what the CI equation is saying.\n",
        "\n",
        "We are going to use our sample mean as the starting point for estimating the population mean.  That seems like a good idea.\n",
        "\n",
        "Then we are going to add and subtract some number of standard errors from the sample mean to get the range of values that will be our confidence interval.\n",
        "\n",
        "**t* is the number that tells us how many standard errros to add and subtract from the sample mean in the CI formula.**\n",
        "\n",
        "How do we calculate t*?"
      ]
    },
    {
      "cell_type": "markdown",
      "metadata": {
        "id": "IpIREjCjzLXW"
      },
      "source": [
        "#A Brief Digression Into the Central Limit Thoerem"
      ]
    },
    {
      "cell_type": "markdown",
      "metadata": {
        "id": "LsEAjc4rOylm"
      },
      "source": [
        "The Central Limit Theorem (or CLT) tell us that, as long as the sample size is big enough (about 30-40), the distribution of the sample mean is Normal with a mean equal to the population mean and a standard error equal to $\\frac{\\sigma}{\\sqrt{n}}$ .\n",
        "\n",
        "How do we know this?  Take a graduate level statistics class to find out!  Just kidding, but only kind of.  It has to do with limit calculus and is beyond the scope of what we are doing right now.\n",
        "\n",
        "Because we are actually estimating two population parameters (both the population mean and the population standard deviation) we need to amend the CLT statement above a tiny bit.\n",
        "\n",
        "As long as the sample size is big enough (about 40), the distribution of the sample mean has a **t-distribution** with a mean equal to the population mean, a standard error equal to $\\frac{s}{\\sqrt{n}}$, and n-1 degrees of freedom.\n",
        "\n",
        "Let's look at a picture:  By the 68-95-99.7% rule:\n"
      ]
    },
    {
      "cell_type": "markdown",
      "metadata": {
        "id": "CcKENTkl3K78"
      },
      "source": [
        "![alt text](https://raw.githubusercontent.com/Chelsea-Myers/Lambda-Intro/master/T-dist%201.png)\n"
      ]
    },
    {
      "cell_type": "markdown",
      "metadata": {
        "id": "wOMBTcNe4Nx5"
      },
      "source": [
        "In fact, **the CLT tells us to expect 95% of sample means to be within about 2 standard errors of the population mean.** (By the 68-95-99.7% rule)\n",
        "\n",
        "The reason that we say \"about\" 2 is that the exact number of standard errors we need to add and subtract to be 95% confident about the population mean will depend on our sample size in the form of the degrees of freedom (n - 1)."
      ]
    },
    {
      "cell_type": "markdown",
      "metadata": {
        "id": "at_6QBNz46gJ"
      },
      "source": [
        "The CLT allows us to be a little bit more specific about our confidence interval formula.\n",
        "\n",
        "We can now say that:\n",
        "\n",
        "\"We are 95% confident that the true population mean falls between about 2SEs below the sample mean and about 2SEs above the sample mean.\""
      ]
    },
    {
      "cell_type": "markdown",
      "metadata": {
        "id": "DPCLxjL15TxY"
      },
      "source": [
        "**We have to use Python to get the exact value of t* for the CI formula.**"
      ]
    },
    {
      "cell_type": "code",
      "metadata": {
        "id": "vrDJaaQ25hA7",
        "colab": {
          "base_uri": "https://localhost:8080/"
        },
        "outputId": "f2697886-9e0e-4cf6-a2b2-2f172991d7cd"
      },
      "source": [
        "from scipy.stats import t\n",
        "\n",
        "#Don't worry too much about where the 0.975 comes from.  It has to do\n",
        "#with wanting to determine the *middle* 95% of the t-distribution\n",
        "#We're going to learn\n",
        "#how to calculate a 95% CI this easy way in just a minute.\n",
        "\n",
        "#Recall that n = 223 for the body temp problem.\n",
        "t_star = t.ppf(0.975,df=222)\n",
        "\n",
        "print(t_star)"
      ],
      "execution_count": null,
      "outputs": [
        {
          "output_type": "stream",
          "text": [
            "1.9707073953190277\n"
          ],
          "name": "stdout"
        }
      ]
    },
    {
      "cell_type": "markdown",
      "metadata": {
        "id": "cbF7ACCR75CX"
      },
      "source": [
        "#Back to body temperature!\n",
        "\n",
        "We left off in the body temperature example with:\n",
        "\n",
        "A confidence interval of \n",
        "\n",
        "98.17 $\\pm$ $t^* * 0.035$ \n",
        "\n",
        "We know from the CLT that t* should be somewhere around 2 for a 95% confidence interval.\n",
        "\n",
        "And further, using Python, we know that t* for a 95% confidence interval for the body temperature data = 1.97 (quick check - this is very close to 2).\n",
        "\n",
        "98.17 $\\pm$ 1.97 * 0.035\n",
        "\n",
        "The margin of error = 1.97 * 0.035 = 0.07.\n",
        "\n"
      ]
    },
    {
      "cell_type": "code",
      "metadata": {
        "id": "9LeY2Usv80uR",
        "colab": {
          "base_uri": "https://localhost:8080/"
        },
        "outputId": "3f5e29e2-55e2-4475-b386-d53fd1222554"
      },
      "source": [
        "#recall that we calculated mean_bodytem etc. above.\n",
        "\n",
        "#Calculate the lower confidence limit\n",
        "\n",
        "Lower_CL = mean_bodytemp - (t_star * se_bodytemp)\n",
        "\n",
        "print(Lower_CL)\n"
      ],
      "execution_count": null,
      "outputs": [
        {
          "output_type": "stream",
          "text": [
            "98.09543489049658\n"
          ],
          "name": "stdout"
        }
      ]
    },
    {
      "cell_type": "code",
      "metadata": {
        "id": "gkkpkRf09IH3",
        "colab": {
          "base_uri": "https://localhost:8080/"
        },
        "outputId": "f6ce19a2-2658-4690-8985-028818534330"
      },
      "source": [
        "#Calculate the upper confidence limit\n",
        "Upper_CL = mean_bodytemp + (t_star * se_bodytemp)\n",
        "\n",
        "print(Upper_CL)\n"
      ],
      "execution_count": null,
      "outputs": [
        {
          "output_type": "stream",
          "text": [
            "98.2346099525527\n"
          ],
          "name": "stdout"
        }
      ]
    },
    {
      "cell_type": "markdown",
      "metadata": {
        "id": "4M3IaJbp9w9d"
      },
      "source": [
        "In conclusion, we are 95% confident that the population mean healthy human body temperature is between 98.1 and 98.2 degrees F."
      ]
    },
    {
      "cell_type": "markdown",
      "metadata": {
        "id": "9_HLIcFW-J1R"
      },
      "source": [
        "#Want to see how to do this the easy way?"
      ]
    },
    {
      "cell_type": "code",
      "metadata": {
        "id": "ZrIe9Q6G-PRw",
        "colab": {
          "base_uri": "https://localhost:8080/"
        },
        "outputId": "a8bcd87c-1055-4c68-f908-cc4e90f35170"
      },
      "source": [
        "#We can use the t.interval funtion to calculate the CI.\n",
        "#We set the loc parameter equal to the mean and the\n",
        "#scale parameter equal to the SE\n",
        "#Alpha = 0.95 means we want a 95% CI\n",
        "\n",
        "#Calculate your t-interval here.\n",
        "\n",
        "t.interval(alpha=.95, df=n_bodytemp - 1, loc=mean_bodytemp, scale=se_bodytemp)"
      ],
      "execution_count": null,
      "outputs": [
        {
          "output_type": "execute_result",
          "data": {
            "text/plain": [
              "(98.09543489049658, 98.2346099525527)"
            ]
          },
          "metadata": {
            "tags": []
          },
          "execution_count": 25
        }
      ]
    },
    {
      "cell_type": "markdown",
      "metadata": {
        "id": "ddU3CxMF_6bS"
      },
      "source": [
        "Note that we get exactly the same answer as we got working by hand."
      ]
    },
    {
      "cell_type": "markdown",
      "metadata": {
        "id": "O5n-LBjYAFG6"
      },
      "source": [
        "#But I want to be X% confident!\n",
        "\n",
        "Because the confidence level is determined by t* and that's just a number, you can use any confidence level you want.  However, most commonly, we choose to be 90%, 95% or 99% confident.\n",
        "\n",
        "We can tune the confidence level by changing the alpha parameter in the CI funtion."
      ]
    },
    {
      "cell_type": "code",
      "metadata": {
        "id": "dE4rPilLAket",
        "colab": {
          "base_uri": "https://localhost:8080/"
        },
        "outputId": "f9bcd660-ec3a-4fe7-97be-07cd75374490"
      },
      "source": [
        "#90% Confidence Interval\n",
        "\n",
        "t.interval(alpha=.90, df=n_bodytemp - 1, loc=mean_bodytemp, scale=se_bodytemp)"
      ],
      "execution_count": null,
      "outputs": [
        {
          "output_type": "execute_result",
          "data": {
            "text/plain": [
              "(98.106697704594, 98.22334713845528)"
            ]
          },
          "metadata": {
            "tags": []
          },
          "execution_count": 26
        }
      ]
    },
    {
      "cell_type": "code",
      "metadata": {
        "id": "tBx71Kf0UjT3",
        "colab": {
          "base_uri": "https://localhost:8080/"
        },
        "outputId": "f6e5d6ae-42db-45a7-bffa-534f30dfb808"
      },
      "source": [
        "#95% Confidence Interval\n",
        "t.interval(alpha=.95, df=n_bodytemp - 1, loc=mean_bodytemp, scale=se_bodytemp)"
      ],
      "execution_count": null,
      "outputs": [
        {
          "output_type": "execute_result",
          "data": {
            "text/plain": [
              "(98.09543489049658, 98.2346099525527)"
            ]
          },
          "metadata": {
            "tags": []
          },
          "execution_count": 27
        }
      ]
    },
    {
      "cell_type": "code",
      "metadata": {
        "id": "tZO8TYrqBoDx",
        "colab": {
          "base_uri": "https://localhost:8080/"
        },
        "outputId": "cdb34176-d173-4088-f4c3-024dbb07daaa"
      },
      "source": [
        "#99% Confidence Interval\n",
        "t.interval(alpha=.99, df=n_bodytemp - 1, loc=mean_bodytemp, scale=se_bodytemp)"
      ],
      "execution_count": null,
      "outputs": [
        {
          "output_type": "execute_result",
          "data": {
            "text/plain": [
              "(98.0732790800297, 98.25676576301957)"
            ]
          },
          "metadata": {
            "tags": []
          },
          "execution_count": 28
        }
      ]
    },
    {
      "cell_type": "markdown",
      "metadata": {
        "id": "TZSvAjc4AwC2"
      },
      "source": [
        "#But I want to be 100% confident!\n",
        "\n",
        "Let's take a very, very close look at the confidence intervals above.  This is subtle - out in the 100ths place of the decimals.\n",
        "\n",
        "The 90% confidence interval is the *narrowest* - it includes the smallest range of values - and the 99% confidence interval is the *widest* - it includes the widest range of values.\n",
        "\n",
        "Confidence intervals are a trade-off between accuracy and precision.\n",
        "\n",
        "**The more precise you want to be, the less accurate your CI will be.**. I'm okay with being less confident so I can have a narrower confidence interval.\n",
        "\n",
        "**The less precise you are willing to be, the more accurate your estimate can be.**. *** I really want to make sure that the true population mean is in my confidence interval so I'm okay with making the confidence interval less precise (wider).\n",
        "\n",
        "At the point we were 100% confident, our CI would probably be meaningless."
      ]
    },
    {
      "cell_type": "markdown",
      "metadata": {
        "id": "vE-I6Bw_Bx2J"
      },
      "source": [
        "### In terms of brownies:\n",
        "\n",
        "*   We are 90% confident the brownies will be done in 35 - 36 minutes.\n",
        "*   We are 95% confident the brownies will be done in 34 - 37 minutes.\n",
        "*   We are 99% confident the brownies will be done in 33 - 39 minutes.\n",
        "*   We are 100% confident the brownies will be done in 0 - 60 minutes.\n",
        "\n",
        "The 100% confidence interval is true... but not very helpful.\n"
      ]
    },
    {
      "cell_type": "markdown",
      "metadata": {
        "id": "EamZNJhAf-fY"
      },
      "source": [
        "#Common Errors with the Interpretation of Confidence Intervals.\n",
        "\n",
        "**Correct statement:** We are 95% confident that the population mean healthy human body temperature is between 98.10 and 98.23 degrees F.\n",
        "\n",
        "**Incorrect statement:** We are 95% confident that the sample mean healthy human body temperature is between 98.10 and 98.23 degrees F.\n",
        "\n",
        "\n",
        "*   We already *know* the sample mean is in the CI because we use the sample mean to compute the CI.  We want to make a statement about the population mean.\n",
        "\n",
        "\n",
        "**Incorrect statement:** We are 95% confident that the sample mean healthy human body temperature is 98.17 degrees F.\n",
        "\n",
        "*   The CI is a statement about the likelihood of the population mean being in our CI, not being equal to the sample mean.\n",
        "\n",
        "**Incorrect statement:** 95% of samples will have a mean that is between 98.10 and 98.23 degrees F.\n",
        "\n",
        "*   Based on the CLT, we know that 95% of all 95% CIs will contain the true population mean.  However, we don't expect those CIs to be exactly equal to the one we created here."
      ]
    },
    {
      "cell_type": "markdown",
      "metadata": {
        "id": "nrUWwhfCPDCI"
      },
      "source": [
        "## It can help to look at a picture\n",
        "\n",
        "We expect 95% of all 95% CIs to contain the true population mean.  \n",
        "\n",
        "That means, if we took 20 random samples from the same population, they'd all be different, but we'd expect 19/20 to contain the true population mean and only 1/20 not to contain the true population mean.\n",
        "\n",
        "![alt text](https://raw.githubusercontent.com/Chelsea-Myers/Lambda-Intro/master/CI%20image.png)\n"
      ]
    },
    {
      "cell_type": "markdown",
      "metadata": {
        "id": "9tIHBlM_SyGR"
      },
      "source": [
        "#The correspondence between confidence intervals and hypothesis tests.\n",
        "\n",
        "If you believe that a C% confidence interval contains the true population mean, and the mean under the null hypothesis does not appear in the confidence interval, you can reject Ho at the alpha (1 - .C) level.\n",
        "\n",
        "Note: This only works for two-sided confidence intervals paired with two-sided hypothesis tests (the only kind we are discussing in class).\n",
        "\n",
        "We are 95% confident that the population mean healthy human body temperature is between 98.10 and 98.23 degrees F.\n",
        "\n",
        "Therefore, we can conclude that we would reject the null hypothesis that the mean healthy human body temperature is 98.6 degrees F at the alpha = 0.05 level.\n"
      ]
    },
    {
      "cell_type": "markdown",
      "metadata": {
        "id": "7nQBLxuXJ2Y5"
      },
      "source": [
        "#Confidence intervals and sample size\n",
        "\n",
        "If we increased the sample size from 223 to 500 but the sample mean and SD remained the same, describe two ways the margin of error would change. Would the margin of error become smaller or larger?"
      ]
    },
    {
      "cell_type": "code",
      "metadata": {
        "id": "gGXOqDYiKFGq",
        "colab": {
          "base_uri": "https://localhost:8080/"
        },
        "outputId": "6540fdf4-e32a-4bf1-b036-1ac8c7aa3507"
      },
      "source": [
        "from scipy.stats import t\n",
        "\n",
        "#Don't worry too much about where the 0.975 comes from.  It has to do\n",
        "#with wanting to determine the *middle* 95% of the t-distribution\n",
        "#We're going to learn\n",
        "#how to calculate a 95% CI this easy way in just a minute.\n",
        "\n",
        "#Degrees of freedom = n - 1\n",
        "t_star = t.ppf(0.975,df=499)\n",
        "\n",
        "n_bodytemp = 500\n",
        "se_bodytemp = sd_bodytemp/(n_bodytemp**(1/2))\n",
        "\n",
        "mean_bodytemp + (t_star * se_bodytemp)\n",
        "\n",
        "ME = t_star*se_bodytemp\n",
        "print('ME =',ME)\n",
        "\n",
        "old_ME = 1.97*(sd_bodytemp/np.sqrt(222))\n",
        "print('old_ME=', old_ME)\n",
        "\n",
        "print(t_star)"
      ],
      "execution_count": null,
      "outputs": [
        {
          "output_type": "stream",
          "text": [
            "ME = 0.04633182986728856\n",
            "old_ME= 0.0697190486125362\n",
            "1.9647293909876649\n"
          ],
          "name": "stdout"
        }
      ]
    },
    {
      "cell_type": "markdown",
      "metadata": {
        "id": "zOpVW7-LKtLD"
      },
      "source": [
        "The margin of error becomes smaller.  You get a more precise estimate with the same level of confidence."
      ]
    },
    {
      "cell_type": "markdown",
      "metadata": {
        "id": "MitRyVfbF3oy"
      },
      "source": [
        "#Whew!\n",
        "\n",
        "## Let's do one more quick example.\n",
        "\n",
        "Use the Titanic dataset to create a 95% confidence interval for the population mean age of all Western Europeans traveling the US in the early 1900s (assume the Titanic passengers are representative of this population)."
      ]
    },
    {
      "cell_type": "code",
      "metadata": {
        "id": "fp6Ws3j5G2n_",
        "colab": {
          "base_uri": "https://localhost:8080/",
          "height": 221
        },
        "outputId": "500a7777-b616-43bd-976d-ce1193e7bc21"
      },
      "source": [
        "import pandas as pd\n",
        "import numpy as np\n",
        "\n",
        "\n",
        "data_url = 'https://raw.githubusercontent.com/Chelsea-Myers/Lambda-Intro/master/Titanic.csv'\n",
        "\n",
        "df = pd.read_csv(data_url, skipinitialspace=True, header=0)\n",
        "\n",
        "print(df.shape)\n",
        "df.head()"
      ],
      "execution_count": null,
      "outputs": [
        {
          "output_type": "stream",
          "text": [
            "(887, 8)\n"
          ],
          "name": "stdout"
        },
        {
          "output_type": "execute_result",
          "data": {
            "text/html": [
              "<div>\n",
              "<style scoped>\n",
              "    .dataframe tbody tr th:only-of-type {\n",
              "        vertical-align: middle;\n",
              "    }\n",
              "\n",
              "    .dataframe tbody tr th {\n",
              "        vertical-align: top;\n",
              "    }\n",
              "\n",
              "    .dataframe thead th {\n",
              "        text-align: right;\n",
              "    }\n",
              "</style>\n",
              "<table border=\"1\" class=\"dataframe\">\n",
              "  <thead>\n",
              "    <tr style=\"text-align: right;\">\n",
              "      <th></th>\n",
              "      <th>Survived</th>\n",
              "      <th>Pclass</th>\n",
              "      <th>Name</th>\n",
              "      <th>Sex</th>\n",
              "      <th>Age</th>\n",
              "      <th>Siblings/Spouses_Aboard</th>\n",
              "      <th>Parents/Children_Aboard</th>\n",
              "      <th>Fare</th>\n",
              "    </tr>\n",
              "  </thead>\n",
              "  <tbody>\n",
              "    <tr>\n",
              "      <th>0</th>\n",
              "      <td>0</td>\n",
              "      <td>3</td>\n",
              "      <td>Mr. Owen Harris Braund</td>\n",
              "      <td>male</td>\n",
              "      <td>22.0</td>\n",
              "      <td>1</td>\n",
              "      <td>0</td>\n",
              "      <td>7.2500</td>\n",
              "    </tr>\n",
              "    <tr>\n",
              "      <th>1</th>\n",
              "      <td>1</td>\n",
              "      <td>1</td>\n",
              "      <td>Mrs. John Bradley (Florence Briggs Thayer) Cum...</td>\n",
              "      <td>female</td>\n",
              "      <td>38.0</td>\n",
              "      <td>1</td>\n",
              "      <td>0</td>\n",
              "      <td>71.2833</td>\n",
              "    </tr>\n",
              "    <tr>\n",
              "      <th>2</th>\n",
              "      <td>1</td>\n",
              "      <td>3</td>\n",
              "      <td>Miss. Laina Heikkinen</td>\n",
              "      <td>female</td>\n",
              "      <td>26.0</td>\n",
              "      <td>0</td>\n",
              "      <td>0</td>\n",
              "      <td>7.9250</td>\n",
              "    </tr>\n",
              "    <tr>\n",
              "      <th>3</th>\n",
              "      <td>1</td>\n",
              "      <td>1</td>\n",
              "      <td>Mrs. Jacques Heath (Lily May Peel) Futrelle</td>\n",
              "      <td>female</td>\n",
              "      <td>35.0</td>\n",
              "      <td>1</td>\n",
              "      <td>0</td>\n",
              "      <td>53.1000</td>\n",
              "    </tr>\n",
              "    <tr>\n",
              "      <th>4</th>\n",
              "      <td>0</td>\n",
              "      <td>3</td>\n",
              "      <td>Mr. William Henry Allen</td>\n",
              "      <td>male</td>\n",
              "      <td>35.0</td>\n",
              "      <td>0</td>\n",
              "      <td>0</td>\n",
              "      <td>8.0500</td>\n",
              "    </tr>\n",
              "  </tbody>\n",
              "</table>\n",
              "</div>"
            ],
            "text/plain": [
              "   Survived  Pclass  ... Parents/Children_Aboard     Fare\n",
              "0         0       3  ...                       0   7.2500\n",
              "1         1       1  ...                       0  71.2833\n",
              "2         1       3  ...                       0   7.9250\n",
              "3         1       1  ...                       0  53.1000\n",
              "4         0       3  ...                       0   8.0500\n",
              "\n",
              "[5 rows x 8 columns]"
            ]
          },
          "metadata": {
            "tags": []
          },
          "execution_count": 31
        }
      ]
    },
    {
      "cell_type": "code",
      "metadata": {
        "id": "cNpzYbjpfirR"
      },
      "source": [
        "#calculate mean, sd, n, se here."
      ],
      "execution_count": null,
      "outputs": []
    },
    {
      "cell_type": "code",
      "metadata": {
        "id": "iIpBrdXUIx2A"
      },
      "source": [
        "#Calculate t-interval here."
      ],
      "execution_count": null,
      "outputs": []
    },
    {
      "cell_type": "markdown",
      "metadata": {
        "id": "VPejVZDsF84m"
      },
      "source": [
        "CI interval interpretation here."
      ]
    },
    {
      "cell_type": "markdown",
      "metadata": {
        "id": "PphVIEWILUu9"
      },
      "source": [
        "#Statistical Power and Error"
      ]
    },
    {
      "cell_type": "markdown",
      "metadata": {
        "id": "cUXrpeCzLY_1"
      },
      "source": [
        "95% confidence... 0.05 significance level... this is making me think there's a chance we could make the wrong decision with our hypothesis test...\n"
      ]
    },
    {
      "cell_type": "markdown",
      "metadata": {
        "id": "dcCrdSJUMh75"
      },
      "source": [
        "###Yep."
      ]
    },
    {
      "cell_type": "markdown",
      "metadata": {
        "id": "_eA47o8fMjxA"
      },
      "source": [
        "There are four things that can happen when we conduct a hypothesis test:"
      ]
    },
    {
      "cell_type": "markdown",
      "metadata": {
        "id": "X-khWVdkNlit"
      },
      "source": [
        "|          |                   |     Truth    |              |   |\n",
        "|:--------:|:-----------------:|:------------:|--------------|---|\n",
        "|          |                   |  Ho is true  |  Ha is true  |   |\n",
        "| Decision |     Reject Ho     | Type 1 error |    Correct   |   |\n",
        "|          | Fail to reject Ho |    Correct   | Type 2 error |   |"
      ]
    },
    {
      "cell_type": "markdown",
      "metadata": {
        "id": "NteNgontOTDo"
      },
      "source": [
        "A type-1 error occurrs when you reject the null hypothesis but it is really correct.  The chance of making a type 1 error = significance level."
      ]
    },
    {
      "cell_type": "markdown",
      "metadata": {
        "id": "ipD7s3vfOvDy"
      },
      "source": [
        "A type-2 error occurs when you fail the null hypothesis when the alternative hypothesis is really true.  This is hard to calculate because it relies on a lot of assumptions about what's really going on if the alternative hypothesis is really true."
      ]
    },
    {
      "cell_type": "markdown",
      "metadata": {
        "id": "zOBWUkljPFUf"
      },
      "source": [
        "When we suspect we are making a type 2 error, we say we are underpowered to reject the null hypothesis."
      ]
    },
    {
      "cell_type": "markdown",
      "metadata": {
        "id": "vB6liyh6PZdM"
      },
      "source": [
        "Statistical power is the ability to reject the null hypothesis when it is false."
      ]
    },
    {
      "cell_type": "markdown",
      "metadata": {
        "id": "21rbBHd-PmIw"
      },
      "source": [
        "There are several factors that influence statistical power:"
      ]
    },
    {
      "cell_type": "markdown",
      "metadata": {
        "id": "DSZyA_gkPosY"
      },
      "source": [
        "1. Sample size.  Larger sample size = more statistical power\n",
        "2. Alpha (significance) level.  Larger alpha level = more statistical power.  (eg a test with alpha = .1 has more power than a test with alpha = .05)\n",
        "3. Effect size.  The larger the effect size = more statistical power. (Effect size is the diffence between the mean under Ho and the true population mean)"
      ]
    },
    {
      "cell_type": "markdown",
      "metadata": {
        "id": "PNeKv3cSz1tF"
      },
      "source": [
        "#P-hacking\n",
        "\n",
        "aka - the problem of multiple comparisons\n",
        "\n",
        "P-hacking is the practice of doing a bunch of hypothesis tests or creating a bunch of confidence intervals until you find one that is statistically significant.\n",
        "\n",
        "The problem is that - just by chance - we expect to reject the null hypothesis incorrectly (type 1 error) about 5% of the time.  \n",
        "\n",
        "eg: If you do 20 hypothesis tests, you can expect 1 to be statistically significant just by chance.\n",
        "\n",
        "If you do 100 hypothesis tests, you can expect 5 to be statistically significant just by chance.\n",
        "\n",
        "Always lay out your hypotheses before you start working with your data and - if you want to make multiple comparisons - make sure to adjust for that with your significance level.\n",
        "\n",
        "[Bonferroni correction](https://en.wikipedia.org/wiki/Bonferroni_correction)\n",
        "\n",
        "* Tukey\n",
        "* Scheffe\n",
        "\n",
        "\n",
        "p = 1 x 10^(-30)\n",
        "\n",
        "-log(10^-30) = 30\n"
      ]
    }
  ]
}