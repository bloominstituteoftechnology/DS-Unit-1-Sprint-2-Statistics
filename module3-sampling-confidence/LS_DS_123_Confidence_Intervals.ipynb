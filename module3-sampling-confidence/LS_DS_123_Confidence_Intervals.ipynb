{
  "nbformat": 4,
  "nbformat_minor": 0,
  "metadata": {
    "colab": {
      "name": "LS_DS_123_Confidence_Intervals.ipynb",
      "provenance": [],
      "collapsed_sections": []
    },
    "kernelspec": {
      "display_name": "Python 3",
      "language": "python",
      "name": "python3"
    },
    "language_info": {
      "codemirror_mode": {
        "name": "ipython",
        "version": 3
      },
      "file_extension": ".py",
      "mimetype": "text/x-python",
      "name": "python",
      "nbconvert_exporter": "python",
      "pygments_lexer": "ipython3",
      "version": "3.8.8"
    }
  },
  "cells": [
    {
      "cell_type": "markdown",
      "metadata": {
        "id": "838Dmw1kM2LK"
      },
      "source": [
        "## Confidence Intervals\n",
        "\n",
        "Objectives: \n",
        "\n",
        "- Explain the purpose of confidence intervals and identify applications for their use\n",
        "- Explain the implications of the central limit theorem in inferential statistics\n",
        "- Demonstrate how to build a confidence interval around a sample estimate\n",
        "- Report margin of error and visualize graphically a confidence interval to communicate the precision of sample estimates to a non-technical audience\n",
        "- Explain the concepts of statistical estimate, precision, and standard error in regards to inferential statistics\n"
      ]
    },
    {
      "cell_type": "markdown",
      "metadata": {
        "id": "Txf2B6ocxfFv"
      },
      "source": [
        "#Objective - Explain the purpose of confidence intervals and identify applications for their use"
      ]
    },
    {
      "cell_type": "markdown",
      "metadata": {
        "id": "3hi4kQm1XhlO"
      },
      "source": [
        "#What are confidence intervals?  Why make them?\n",
        "\n",
        "In the past two units, we've talked about two different hypothesis tests: the t-test for a population mean(s) and the chi-square test for the relationship between two categorical variables.\n",
        "\n",
        "When we reject the null hypothesis for a one-independent-sample t-test, we say we believe that the population mean is *not* equal to some reference value (recall that the null hypothesis is that the population mean *is* equal to a reference value).  \n",
        "\n",
        "***However, rejecting the null hypothesis only gives us a clue to what we think the population mean is not.***"
      ]
    },
    {
      "cell_type": "markdown",
      "metadata": {
        "id": "dldAGyVreMyh"
      },
      "source": [
        "\n",
        "**The purpose of a confidence interval for a one-sample t-test is to allow us to draw conclusions about the true value of the population mean.**"
      ]
    },
    {
      "cell_type": "markdown",
      "metadata": {
        "id": "f1eSsOqceQ7U"
      },
      "source": [
        "\n",
        "Note that there are some analagous procedures for confidence intervals for chi-square tests and two-independent-sample t-tests, but we are going to focus on a confidence interval for a single population mean here."
      ]
    },
    {
      "cell_type": "markdown",
      "metadata": {
        "id": "X9guE5l-iO3E"
      },
      "source": [
        "#Informal Confidence Intervals in Daily Life\n",
        "\n",
        "Believe it or not, you already use the concept of a confidence interval all the time in your daily life.\n",
        "\n",
        "\n",
        "*   \"How long will it take the brownies to bake?\"  About 35 - 40 minutes.\n",
        "*   \"How many cookies should I bake for the bake sale?\"  Probably around 2 - 3 dozen.\n",
        "*   \"How many loaves of bread will the bakery sell today?\" Around 90 - 100.\n",
        "\n",
        "The true answer to all of these questions is unknowable ahead of time.  Exactly how long it will take the brownies to bake probably depends on a number of factors including how well your oven is working, how hot and humid it is, the age of the eggs you use, etc.\n",
        "\n",
        "However, based on personal experience - and perhaps the recipe - we can be very confident that it will take between 35 - 40 minutes for the brownies to be done.  \n",
        "\n",
        "Estimates in the other two scenarios work similarly."
      ]
    },
    {
      "cell_type": "markdown",
      "metadata": {
        "id": "XZdAeVJlyCw7"
      },
      "source": [
        "#Objective - Demonstrate how to build a confidence interval around a sample estimate"
      ]
    },
    {
      "cell_type": "markdown",
      "metadata": {
        "id": "Hntf1OWLlEPA"
      },
      "source": [
        "# The Anatomy of a Confidence Interval\n",
        "\n",
        "Here comes the math part!\n",
        "\n",
        "When we make brownies, we make an informal confidence interval for how long it will take for them to bake based on the recipe and our baking knowledge.\n",
        "\n",
        "**When we make a confidence interval for a population mean, we will use information from our sample and mathematical properties of the t-distribution.**"
      ]
    },
    {
      "cell_type": "markdown",
      "metadata": {
        "id": "J82wyqTElunD"
      },
      "source": [
        "##The formula for a confidence interval for a population mean is \n",
        "\n",
        "###$\\bar{X}$  $\\pm$  $t^* \\frac{s}{\\sqrt{n}}$ \n",
        "\n"
      ]
    },
    {
      "cell_type": "markdown",
      "metadata": {
        "id": "VhV8zLlYtF4M"
      },
      "source": [
        "Where $\\bar{X}$ is the sample **mean**, s is the sample **standard deviation** and n is the sample **size**.\n",
        "\n",
        "Note that $\\frac{s}{\\sqrt{n}}$ is the **standard error**, which is an estimate of the true standard deviation of the sample mean.  \n",
        "\n",
        "Another name for the quantitiy $t^* \\frac{s}{\\sqrt{n}}$ is the **margin of error**. \n",
        "\n",
        "Nearly all of the information we need to estimate the population mean using a confidence interval comes from our sample.  The only thing we don't get from the sample is ***$t^*$***.\n",
        "\n",
        "Now is the time to introduce some data."
      ]
    },
    {
      "cell_type": "markdown",
      "metadata": {
        "id": "V5Z3MSNfo3La"
      },
      "source": [
        "# Estimate the mean healthy adult human body temperature.\n",
        "\n",
        "Everyone knows that 98.60 F (37.00 C) is the normal human body temperature.  But is that actually correct, and – come to think of it – how does everyone know that in the first place?\n",
        "\n",
        "A German physician named Carl Reinhold August Wunderlich is generally credited with originating this idea, which was based on – reportedly – more than one million axiliary temperature readings taken from 25,000 subjects and was published in his 1868 book Das Verhalten der Eigenwärme in Krankheiten (which translates to The Behavior of the Self-Warmth in Diseases). But was he correct? History tells that his thermometer was a foot long and took 20 minutes to determine a subject’s temperature. For a measure that is used so often to determine general health, it would be a good idea to use modern instruments to confirm or refute his results.\n",
        "\n",
        "In 1992, three physicians from the University of Maryland School of Medicine set out to do just that, measuring body temperatures for 223 healthy men and women aged 18-40 one to four times a day for three consecutive days using an electronic digital thermometer. The mean body temperature was computed for each individual, and this summary measure is recorded in the Bodytemp.csv dataset. "
      ]
    },
    {
      "cell_type": "markdown",
      "metadata": {
        "id": "jzgOTeBvtl6D"
      },
      "source": [
        "**We wish to estimate the population mean healthy human body temperature.**"
      ]
    },
    {
      "cell_type": "markdown",
      "metadata": {
        "id": "_dDAP94KtvWP"
      },
      "source": [
        "Source: Mackowiak, P. A., Wasserman, S. S., and Levine, M. M.  (1992), \"A Critical Appraisal of 98.6 Degrees F, the Upper Limit of the Normal Body Temperature, and Other Legacies of Carl Reinhold August Wunderlich,\" Journal of the American Medical Association_, 268, 1578-1580.\n"
      ]
    },
    {
      "cell_type": "code",
      "metadata": {
        "id": "fGaZspmft1Jg",
        "outputId": "c030ef35-67c4-40ad-a0a5-cb093872f79e",
        "colab": {
          "base_uri": "https://localhost:8080/",
          "height": 221
        }
      },
      "source": [
        "import pandas as pd\n",
        "import numpy as np\n",
        "\n",
        "\n",
        "data_url = 'https://raw.githubusercontent.com/Chelsea-Myers/Lambda-Intro/master/Bodytemp.csv'\n",
        "\n",
        "df = pd.read_csv(data_url, skipinitialspace=True, header=0)\n",
        "\n",
        "print(df.shape)\n",
        "df.head()\n"
      ],
      "execution_count": 1,
      "outputs": [
        {
          "output_type": "stream",
          "name": "stdout",
          "text": [
            "(223, 2)\n"
          ]
        },
        {
          "output_type": "execute_result",
          "data": {
            "text/html": [
              "<div>\n",
              "<style scoped>\n",
              "    .dataframe tbody tr th:only-of-type {\n",
              "        vertical-align: middle;\n",
              "    }\n",
              "\n",
              "    .dataframe tbody tr th {\n",
              "        vertical-align: top;\n",
              "    }\n",
              "\n",
              "    .dataframe thead th {\n",
              "        text-align: right;\n",
              "    }\n",
              "</style>\n",
              "<table border=\"1\" class=\"dataframe\">\n",
              "  <thead>\n",
              "    <tr style=\"text-align: right;\">\n",
              "      <th></th>\n",
              "      <th>ID</th>\n",
              "      <th>Body_temp</th>\n",
              "    </tr>\n",
              "  </thead>\n",
              "  <tbody>\n",
              "    <tr>\n",
              "      <th>0</th>\n",
              "      <td>36</td>\n",
              "      <td>96.7</td>\n",
              "    </tr>\n",
              "    <tr>\n",
              "      <th>1</th>\n",
              "      <td>254</td>\n",
              "      <td>96.9</td>\n",
              "    </tr>\n",
              "    <tr>\n",
              "      <th>2</th>\n",
              "      <td>282</td>\n",
              "      <td>97.0</td>\n",
              "    </tr>\n",
              "    <tr>\n",
              "      <th>3</th>\n",
              "      <td>286</td>\n",
              "      <td>97.0</td>\n",
              "    </tr>\n",
              "    <tr>\n",
              "      <th>4</th>\n",
              "      <td>302</td>\n",
              "      <td>97.0</td>\n",
              "    </tr>\n",
              "  </tbody>\n",
              "</table>\n",
              "</div>"
            ],
            "text/plain": [
              "    ID  Body_temp\n",
              "0   36       96.7\n",
              "1  254       96.9\n",
              "2  282       97.0\n",
              "3  286       97.0\n",
              "4  302       97.0"
            ]
          },
          "metadata": {},
          "execution_count": 1
        }
      ]
    },
    {
      "cell_type": "markdown",
      "metadata": {
        "id": "LD5fogYFumvA"
      },
      "source": [
        "The two variables in the dataset are participant ID and body temperature measured in degrees F."
      ]
    },
    {
      "cell_type": "markdown",
      "metadata": {
        "id": "Iq7trJxEu2On"
      },
      "source": [
        "We can use the mean, sd and row counting functions in Python to calculate and save the sample mean body temp ($\\bar{X}$ for the CI formula), the sample standard deviation (s in the CI formula) and the sample size (n in the formula)."
      ]
    },
    {
      "cell_type": "code",
      "metadata": {
        "id": "CXbaQDV6uviK",
        "outputId": "c6e9fad8-efdc-42d7-d153-3bffd8c17902",
        "colab": {
          "base_uri": "https://localhost:8080/"
        }
      },
      "source": [
        "#Calculate mean\n",
        "\n",
        "mean_body = df['Body_temp'].mean()\n",
        "print(mean_body)"
      ],
      "execution_count": 2,
      "outputs": [
        {
          "output_type": "stream",
          "name": "stdout",
          "text": [
            "98.16502242152464\n"
          ]
        }
      ]
    },
    {
      "cell_type": "code",
      "metadata": {
        "id": "lBM_l8vovvW9",
        "outputId": "f65d8271-e993-4ada-d3fa-0d0f64b25af7",
        "colab": {
          "base_uri": "https://localhost:8080/"
        }
      },
      "source": [
        "#Calculate SD\n",
        "\n",
        "std_body = df['Body_temp'].std()\n",
        "print(std_body)"
      ],
      "execution_count": 3,
      "outputs": [
        {
          "output_type": "stream",
          "name": "stdout",
          "text": [
            "0.5273047859946364\n"
          ]
        }
      ]
    },
    {
      "cell_type": "code",
      "metadata": {
        "id": "iDmBJP6JwRCa",
        "outputId": "300cf01a-2e09-4c7c-b91a-8d065ce7e388",
        "colab": {
          "base_uri": "https://localhost:8080/"
        }
      },
      "source": [
        "#Calculate n\n",
        "\n",
        "n = df.shape[0]\n",
        "print(n)"
      ],
      "execution_count": 5,
      "outputs": [
        {
          "output_type": "stream",
          "name": "stdout",
          "text": [
            "223\n"
          ]
        }
      ]
    },
    {
      "cell_type": "markdown",
      "metadata": {
        "id": "Bw3jaPyUwj14"
      },
      "source": [
        "We can calculate the standard error of the sample mean by dividing the sd of the sample by the square root of the sample size."
      ]
    },
    {
      "cell_type": "code",
      "metadata": {
        "id": "FiCestjGw3ym",
        "outputId": "f6b74e8b-a70f-4231-9756-0c7c36d235b1",
        "colab": {
          "base_uri": "https://localhost:8080/"
        }
      },
      "source": [
        "#Calculate SE\n",
        "\n",
        "sterr_body = std_body / n**0.5\n",
        "print(sterr_body)"
      ],
      "execution_count": 6,
      "outputs": [
        {
          "output_type": "stream",
          "name": "stdout",
          "text": [
            "0.035310940220425246\n"
          ]
        }
      ]
    },
    {
      "cell_type": "markdown",
      "metadata": {
        "id": "pVyP9nnNxSfn"
      },
      "source": [
        "Let's plug these quantities into the CI formula.  We're almost there!\n",
        "\n",
        "###$\\bar{X}$  $\\pm$  $t^* \\frac{s}{\\sqrt{n}}$ \n",
        "\n",
        "98.17 $\\pm$ $t^* \\frac{0.53}{\\sqrt{223}}$\n",
        "\n",
        "98.17 $\\pm$ $t^* * 0.035$ "
      ]
    },
    {
      "cell_type": "markdown",
      "metadata": {
        "id": "F5wCLNKKygV0"
      },
      "source": [
        "So what is t*????? ***The critical score***\n",
        "\n",
        "Let's look carefully at what the CI equation is saying.\n",
        "\n",
        "We are going to use our sample mean as the starting point for estimating the population mean.  That seems like a good idea.\n",
        "\n",
        "Then we are going to add and subtract some number of standard errors from the sample mean to get the range of values that will be our confidence interval.\n",
        "\n",
        "t* is the number that tells us how many **standard errors** to add and subtract from the sample mean in the CI formula.\n",
        "\n",
        "How do we calculate t*?"
      ]
    },
    {
      "cell_type": "markdown",
      "metadata": {
        "id": "nNkRGH2jxocd"
      },
      "source": [
        "# Objective - Explain the implications of the Central Limit Theorem in inferential statistics"
      ]
    },
    {
      "cell_type": "markdown",
      "metadata": {
        "id": "IpIREjCjzLXW"
      },
      "source": [
        "#A Brief Digression Into the Central Limit Thoerem"
      ]
    },
    {
      "cell_type": "markdown",
      "metadata": {
        "id": "LsEAjc4rOylm"
      },
      "source": [
        "The Central Limit Theorem (or CLT) tell us that, as long as the sample size is big enough (about 30-40), the distribution of the sample mean is Normal with a mean equal to the population mean and a standard deviation equal to $\\frac{\\sigma}{\\sqrt{n}}$ .\n",
        "\n",
        "How do we know this?  Take a graduate level statistics class to find out!  Just kidding, but only kind of.  It has to do with limit calculus and is beyond the scope of what we are doing right now.\n",
        "\n",
        "Because we are actually estimating two population parameters (both the population mean and the population standard deviation) we need to amend the CLT statement above a tiny bit.\n",
        "\n",
        "As long as the sample size is big enough (about 40), the distribution of the sample mean has a **t-distribution** with a mean equal to the population mean, a standard deviation equal to $\\frac{s}{\\sqrt{n}}$, and n-1 degrees of freedom.\n",
        "\n",
        "Let's look at a picture:\n"
      ]
    },
    {
      "cell_type": "markdown",
      "metadata": {
        "id": "CcKENTkl3K78"
      },
      "source": [
        "![alt text](https://raw.githubusercontent.com/Chelsea-Myers/Lambda-Intro/master/T-dist%201.png)\n"
      ]
    },
    {
      "cell_type": "markdown",
      "metadata": {
        "id": "wOMBTcNe4Nx5"
      },
      "source": [
        "In fact, **the CLT tells us to expect 95% of sample means to be within about 1.97 standard errors of the population mean.**\n",
        "\n",
        "The reason that we say \"about\" 2 is that the exact number of standard errors we need to add and subtract to be 95% confident about the population mean will depend on our sample size in the form of the degrees of freedom (___________ - 1).  We will talk about DOF later."
      ]
    },
    {
      "cell_type": "markdown",
      "metadata": {
        "id": "at_6QBNz46gJ"
      },
      "source": [
        "The CLT allows us to be a little bit more specific about our confidence interval formula.\n",
        "\n",
        "We can now say that:\n",
        "\n",
        "\"We are 95% confident that the true population mean falls between about 2SEs below the sample mean and about 2SEs above the sample mean.\""
      ]
    },
    {
      "cell_type": "markdown",
      "metadata": {
        "id": "DPCLxjL15TxY"
      },
      "source": [
        "**We have to use Python to get the exact value of t* for the CI formula.**"
      ]
    },
    {
      "cell_type": "code",
      "metadata": {
        "id": "vrDJaaQ25hA7",
        "outputId": "a1a92471-b30b-4464-84f0-ab79855db425",
        "colab": {
          "base_uri": "https://localhost:8080/"
        }
      },
      "source": [
        "from scipy.stats import t\n",
        "\n",
        "#Don't worry too much about where the 0.975 comes from.  It has to do\n",
        "#with wanting to determine the *middle* 95% of the t-distribution\n",
        "#We're going to learn\n",
        "#how to calculate a 95% CI this easy way in just a minute.\n",
        "\n",
        "#Recall that n = 223 for the body temp problem.\n",
        "t_star = t.ppf(0.975,df=223-1)\n",
        "\n",
        "#t_star = (1-t.cdf(0.025, df=223-1)) - (1-t.cdf(-0.025, df=223-1))\n",
        "print(t_star)"
      ],
      "execution_count": 14,
      "outputs": [
        {
          "output_type": "stream",
          "name": "stdout",
          "text": [
            "1.9707073953190277\n"
          ]
        }
      ]
    },
    {
      "cell_type": "markdown",
      "metadata": {
        "id": "cieCHcI2FNLe"
      },
      "source": [
        "![middle .95.png](data:image/png;base64,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)"
      ]
    },
    {
      "cell_type": "markdown",
      "metadata": {
        "id": "cbF7ACCR75CX"
      },
      "source": [
        "#Back to body temperature!\n",
        "\n",
        "We left off in the body temperature example with:\n",
        "\n",
        "A confidence interval of \n",
        "\n",
        "98.17 $\\pm$ $t^* * 0.035$ \n",
        "\n",
        "We know from the CLT that t* should be somewhere around 2 for a 95% confidence interval.\n",
        "\n",
        "And further, using Python, we know that t* for a 95% confidence interval for the body temperature data = 1.97 (quick check - this is very close to 2).\n",
        "\n",
        "98.17 $\\pm$ 1.97 * 0.035\n",
        "\n",
        "The margin of error = 1.97 * 0.035 = 0.07.\n",
        "\n"
      ]
    },
    {
      "cell_type": "code",
      "metadata": {
        "id": "9LeY2Usv80uR",
        "outputId": "b3b5c859-99ce-4261-d902-ca46900f94aa",
        "colab": {
          "base_uri": "https://localhost:8080/"
        }
      },
      "source": [
        "#recall that we calculated mean_bodytem etc. above.\n",
        "\n",
        "#Calculate the lower confidence limit\n",
        "\n",
        "low = mean_body - t_star * sterr_body\n",
        "print(low)"
      ],
      "execution_count": 9,
      "outputs": [
        {
          "output_type": "stream",
          "name": "stdout",
          "text": [
            "98.09543489049658\n"
          ]
        }
      ]
    },
    {
      "cell_type": "code",
      "metadata": {
        "id": "gkkpkRf09IH3",
        "outputId": "dce47776-01f4-4a58-faec-9029edeef048",
        "colab": {
          "base_uri": "https://localhost:8080/"
        }
      },
      "source": [
        "#Calculate the upper confidence limit\n",
        "\n",
        "high = mean_body + t_star * sterr_body\n",
        "print(high)"
      ],
      "execution_count": 10,
      "outputs": [
        {
          "output_type": "stream",
          "name": "stdout",
          "text": [
            "98.2346099525527\n"
          ]
        }
      ]
    },
    {
      "cell_type": "markdown",
      "metadata": {
        "id": "4M3IaJbp9w9d"
      },
      "source": [
        "In conclusion, we are 95% confident that the population mean healthy human body temperature is between 98.09 and 98.23"
      ]
    },
    {
      "cell_type": "markdown",
      "metadata": {
        "id": "9_HLIcFW-J1R"
      },
      "source": [
        "#Want to see how to do this the easy way?"
      ]
    },
    {
      "cell_type": "code",
      "metadata": {
        "id": "ZrIe9Q6G-PRw",
        "outputId": "3949562c-f8b1-438a-db7d-3407356925d9",
        "colab": {
          "base_uri": "https://localhost:8080/"
        }
      },
      "source": [
        "#We can use the t.interval funtion to calculate the CI.\n",
        "#We set the loc parameter equal to the mean and the\n",
        "#scale parameter equal to the SE\n",
        "#Alpha = 0.95 means we want a 95% CI\n",
        "\n",
        "#Calculate your t-interval here.\n",
        "interval = t.interval(alpha=.90, df=n-1, loc=mean_body, scale=sterr_body)\n",
        "print(interval)\n",
        "\n",
        "interval = t.interval(alpha=.95, df=n-1, loc=mean_body, scale=sterr_body)\n",
        "print(interval)\n",
        "\n",
        "interval = t.interval(alpha=.99, df=n-1, loc=mean_body, scale=sterr_body)\n",
        "print(interval)"
      ],
      "execution_count": 23,
      "outputs": [
        {
          "output_type": "stream",
          "name": "stdout",
          "text": [
            "(98.106697704594, 98.22334713845528)\n",
            "(98.09543489049658, 98.2346099525527)\n",
            "(98.0732790800297, 98.25676576301957)\n"
          ]
        }
      ]
    },
    {
      "cell_type": "markdown",
      "metadata": {
        "id": "ddU3CxMF_6bS"
      },
      "source": [
        "Note that we get exactly the same answer as we got working by hand."
      ]
    },
    {
      "cell_type": "markdown",
      "metadata": {
        "id": "IMOpXtYgyMjP"
      },
      "source": [
        "#Objective - Explain the concepts of statistical estimate, precision and standard error in regards to inferential statistics"
      ]
    },
    {
      "cell_type": "markdown",
      "metadata": {
        "id": "O5n-LBjYAFG6"
      },
      "source": [
        "#But I want to be X% confident!\n",
        "\n",
        "Because the confidence level is determined by t* and that's just a number, you can use any confidence level you want.  However, most commonly, we choose to be 90%, 95% or 99% confident.\n",
        "\n",
        "We can tune the confidence level by changing the alpha parameter in the CI funtion."
      ]
    },
    {
      "cell_type": "markdown",
      "metadata": {
        "id": "TZSvAjc4AwC2"
      },
      "source": [
        "#But I want to be 100% confident!\n",
        "\n",
        "Let's take a very, very close look at the confidence intervals above.  This is subtle - out in the 100ths place of the decimals.\n",
        "\n",
        "The 90% confidence interval is the *narrowest* - it includes the smallest range of values - and the 99% confidence interval is the *widest* - it includes the widest range of values.\n",
        "\n",
        "Confidence intervals are a trade-off between accuracy and precision.\n",
        "\n",
        "**The more confident you want to be, the less precise your CI will be.**\n",
        "\n",
        "**The less confident you are willing to be, the more precise your estimate can be.**\n",
        "\n",
        "At the point we were 100% confident, our CI would probably be meaningless."
      ]
    },
    {
      "cell_type": "markdown",
      "metadata": {
        "id": "vE-I6Bw_Bx2J"
      },
      "source": [
        "### In terms of brownies:\n",
        "\n",
        "*   We are 90% confident the brownies will be done in 35 - 36 minutes.\n",
        "*   We are 95% confident the brownies will be done in 34 - 37 minutes.\n",
        "*   We are 99% confident the brownies will be done in 33 - 39 minutes.\n",
        "*   We are 100% confident the brownies will be done in 0 - 60 minutes.\n",
        "\n",
        "The 100% confidence interval is true... but not very helpful.\n"
      ]
    },
    {
      "cell_type": "markdown",
      "metadata": {
        "id": "sdiFNMli0Nr6"
      },
      "source": [
        "###Accuracy vs. precision\n",
        "\n",
        "![image.png](data:image/png;base64,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)"
      ]
    },
    {
      "cell_type": "markdown",
      "metadata": {
        "id": "EamZNJhAf-fY"
      },
      "source": [
        "#Common Errors with the Interpretation of Confidence Intervals.\n",
        "\n",
        "**Correct statement:** We are 95% confident that the population mean healthy human body temperature is between 98.10 and 98.23 degrees F.\n",
        "\n",
        "**Incorrect statement:** We are 95% confident that the sample mean healthy human body temperature is between 98.10 and 98.23 degrees F.\n",
        "\n",
        "\n",
        "*  We know our sample mean, we're looking to infer confidence intervals of the larger population\n",
        "\n",
        "\n",
        "**Incorrect statement:** We are 95% confident that the sample mean healthy human body temperature is 98.17 degrees F.\n",
        "\n",
        "*   Measure the lower and upper limit for the possible population mean\n",
        "\n",
        "**Incorrect statement:** 95% of samples will have a mean that is between 98.10 and 98.23 degrees F.\n",
        "\n",
        "*   ???????? 95% of samples from a population with an actual population mean equal to our observed sample mean will fall between 98.10 and 98.23 (if the sample size is enough to represent its actual distribution)"
      ]
    },
    {
      "cell_type": "markdown",
      "metadata": {
        "id": "PkwaLdy9yAkp"
      },
      "source": [
        "#Objective - Report the margin of error and visualize graphically a confidence interval to communicate the precision of sample estimates to a non-technical audience"
      ]
    },
    {
      "cell_type": "markdown",
      "metadata": {
        "id": "nrUWwhfCPDCI"
      },
      "source": [
        "## It can help to look at a picture\n",
        "\n",
        "We expect 95% of all 95% CIs to contain the true population mean.  \n",
        "\n",
        "That means, if we took 20 random samples from the same population, they'd all be different, but we'd expect 19/20 to contain the true population mean and only 1/20 not to contain the true population mean.\n",
        "\n",
        "![alt text](https://raw.githubusercontent.com/Chelsea-Myers/Lambda-Intro/master/CI%20image.png)\n"
      ]
    },
    {
      "cell_type": "markdown",
      "metadata": {
        "id": "9tIHBlM_SyGR"
      },
      "source": [
        "#The correspondence between confidence intervals and hypothesis tests.\n",
        "\n",
        "If you believe that a C% confidence interval contains the true population mean, and the mean under the null hypothesis does not appear in the confidence interval, you can reject Ho at the alpha (1 - .C) level.\n",
        "\n",
        "Note: This only works for two-sided confidence intervals paired with two-sided hypothesis tests (the only kind we are discussing in class).\n",
        "\n",
        "We are 95% confident that the population mean healthy human body temperature is between 98.10 and 98.23 degrees F.\n",
        "\n",
        "Therefore, we can conclude that we would reject the null hypothesis that the mean healthy human body temperature is 98.6 degrees F at the alpha = 0.05 level.\n"
      ]
    },
    {
      "cell_type": "markdown",
      "metadata": {
        "id": "7nQBLxuXJ2Y5"
      },
      "source": [
        "#Confidence intervals and sample size\n",
        "\n",
        "If we increased the sample size from 223 to 500 but the sample mean and SD remained the same, describe two ways the margin of error would change. Would the margin of error become smaller or larger?"
      ]
    },
    {
      "cell_type": "code",
      "metadata": {
        "id": "gGXOqDYiKFGq",
        "outputId": "4430e1cc-d102-447e-bd86-d6cda6f271cc",
        "colab": {
          "base_uri": "https://localhost:8080/"
        }
      },
      "source": [
        "from scipy.stats import t\n",
        "\n",
        "#New Sample Size\n",
        "# We assumed perfect precision\n",
        "n=500\n",
        "\n",
        "#Larger size => Smaller Margin of Error\n",
        "\n",
        "t_star = t.ppf(0.975,df=n-1)\n",
        "print(\"Critical Value:\", t_star)\n",
        "\n",
        "\n",
        "sterr_body = std_body/(n**(1/2))\n",
        "\n",
        "print(\"Lower:\", mean_body - (t_star * sterr_body))\n",
        "print(\"Upper:\", mean_body + (t_star * sterr_body))\n",
        "\n",
        "ME = t_star*sterr_body\n",
        "print('Margin of Error =', ME)"
      ],
      "execution_count": 28,
      "outputs": [
        {
          "output_type": "stream",
          "name": "stdout",
          "text": [
            "Critical Value: 1.9647293909876649\n",
            "Lower: 98.11869059165736\n",
            "Upper: 98.21135425139192\n",
            "Margin of Error = 0.04633182986728856\n"
          ]
        }
      ]
    },
    {
      "cell_type": "markdown",
      "metadata": {
        "id": "zOpVW7-LKtLD"
      },
      "source": [
        "The margin of error becomes smaller.  You get a more precise estimate with the same level of confidence."
      ]
    },
    {
      "cell_type": "markdown",
      "metadata": {
        "id": "PphVIEWILUu9"
      },
      "source": [
        "#Statistical Power and Error"
      ]
    },
    {
      "cell_type": "markdown",
      "metadata": {
        "id": "cUXrpeCzLY_1"
      },
      "source": [
        "95% confidence... 0.05 significance level... this is making me think there's a chance we could make the wrong decision with our hypothesis test...\n"
      ]
    },
    {
      "cell_type": "markdown",
      "metadata": {
        "id": "dcCrdSJUMh75"
      },
      "source": [
        "###Yep."
      ]
    },
    {
      "cell_type": "markdown",
      "metadata": {
        "id": "_eA47o8fMjxA"
      },
      "source": [
        "There are four things that can happen when we conduct a hypothesis test:"
      ]
    },
    {
      "cell_type": "markdown",
      "metadata": {
        "id": "X-khWVdkNlit"
      },
      "source": [
        "|          |                   |     Truth    |              |   |\n",
        "|:--------:|:-----------------:|:------------:|--------------|---|\n",
        "|          |                   |  Ho is true  |  Ha is true  |   |\n",
        "| Decision |     Reject Ho     | ???????      |    ???????   |   |\n",
        "|          | Fail to reject Ho |    ???????   | ????????     |   |"
      ]
    },
    {
      "cell_type": "markdown",
      "metadata": {
        "id": "NteNgontOTDo"
      },
      "source": [
        "A ________ error occurs when you _______ the null hypothesis but it is really ___________.  The chance of making a type 1 error = __________ level."
      ]
    },
    {
      "cell_type": "markdown",
      "metadata": {
        "id": "ipD7s3vfOvDy"
      },
      "source": [
        "A _______ error occurs when you ________ the null hypothesis when the __________ is really true.  This is hard to calculate because it relies on a lot of assumptions about what's really going on if the alternative hypothesis is really true."
      ]
    },
    {
      "cell_type": "markdown",
      "metadata": {
        "id": "zOBWUkljPFUf"
      },
      "source": [
        "When we suspect we are making a type 2 error, we say we are ____________ to reject the null hypothesis."
      ]
    },
    {
      "cell_type": "markdown",
      "metadata": {
        "id": "vB6liyh6PZdM"
      },
      "source": [
        "Statistical power is the ___________________."
      ]
    },
    {
      "cell_type": "markdown",
      "metadata": {
        "id": "21rbBHd-PmIw"
      },
      "source": [
        "There are several factors that influence statistical power:"
      ]
    },
    {
      "cell_type": "markdown",
      "metadata": {
        "id": "DSZyA_gkPosY"
      },
      "source": [
        "1. Sample size.  ___________ sample size = more statistical power\n",
        "2. Alpha level.  ____________ alpha level = more statistical power\n",
        "3. Effect size.  ____________ = more statistical power"
      ]
    },
    {
      "cell_type": "markdown",
      "metadata": {
        "id": "PNeKv3cSz1tF"
      },
      "source": [
        "#P-hacking\n",
        "\n",
        "aka - the problem of ___________\n",
        "\n",
        "___________ is the practice of doing a bunch of hypothesis tests or creating a bunch of confidence intervals until you find one that is ___________\n",
        "\n",
        "The problem is that - just by chance - we expect to ___________ the null hypothesis ___________ about ___________ of the time.  \n",
        "\n",
        "eg: If you do ___________ hypothesis tests, you can expect ___________ to be statistically significant just by chance.\n",
        "\n",
        "Always lay out your hypotheses before you start working with your data and - if you want to make multiple comparisons - make sure to adjust for that with your significance level.\n"
      ]
    },
    {
      "cell_type": "markdown",
      "metadata": {
        "id": "MitRyVfbF3oy"
      },
      "source": [
        "## Let's do one more quick example.\n",
        "\n",
        "Use the Titanic dataset to create a 95% confidence interval for the population mean age of all Western Europeans traveling the US in the early 1900s (assume the Titanic passengers are representative of this population)."
      ]
    },
    {
      "cell_type": "code",
      "metadata": {
        "colab": {
          "base_uri": "https://localhost:8080/",
          "height": 221
        },
        "id": "fp6Ws3j5G2n_",
        "outputId": "500a7777-b616-43bd-976d-ce1193e7bc21"
      },
      "source": [
        "import pandas as pd\n",
        "import numpy as np\n",
        "\n",
        "\n",
        "data_url = 'https://raw.githubusercontent.com/Chelsea-Myers/Lambda-Intro/master/Titanic.csv'\n",
        "\n",
        "df = pd.read_csv(data_url, skipinitialspace=True, header=0)\n",
        "\n",
        "print(df.shape)\n",
        "df.head()"
      ],
      "execution_count": null,
      "outputs": [
        {
          "name": "stdout",
          "output_type": "stream",
          "text": [
            "(887, 8)\n"
          ]
        },
        {
          "data": {
            "text/html": [
              "<div>\n",
              "<style scoped>\n",
              "    .dataframe tbody tr th:only-of-type {\n",
              "        vertical-align: middle;\n",
              "    }\n",
              "\n",
              "    .dataframe tbody tr th {\n",
              "        vertical-align: top;\n",
              "    }\n",
              "\n",
              "    .dataframe thead th {\n",
              "        text-align: right;\n",
              "    }\n",
              "</style>\n",
              "<table border=\"1\" class=\"dataframe\">\n",
              "  <thead>\n",
              "    <tr style=\"text-align: right;\">\n",
              "      <th></th>\n",
              "      <th>Survived</th>\n",
              "      <th>Pclass</th>\n",
              "      <th>Name</th>\n",
              "      <th>Sex</th>\n",
              "      <th>Age</th>\n",
              "      <th>Siblings/Spouses_Aboard</th>\n",
              "      <th>Parents/Children_Aboard</th>\n",
              "      <th>Fare</th>\n",
              "    </tr>\n",
              "  </thead>\n",
              "  <tbody>\n",
              "    <tr>\n",
              "      <th>0</th>\n",
              "      <td>0</td>\n",
              "      <td>3</td>\n",
              "      <td>Mr. Owen Harris Braund</td>\n",
              "      <td>male</td>\n",
              "      <td>22.0</td>\n",
              "      <td>1</td>\n",
              "      <td>0</td>\n",
              "      <td>7.2500</td>\n",
              "    </tr>\n",
              "    <tr>\n",
              "      <th>1</th>\n",
              "      <td>1</td>\n",
              "      <td>1</td>\n",
              "      <td>Mrs. John Bradley (Florence Briggs Thayer) Cum...</td>\n",
              "      <td>female</td>\n",
              "      <td>38.0</td>\n",
              "      <td>1</td>\n",
              "      <td>0</td>\n",
              "      <td>71.2833</td>\n",
              "    </tr>\n",
              "    <tr>\n",
              "      <th>2</th>\n",
              "      <td>1</td>\n",
              "      <td>3</td>\n",
              "      <td>Miss. Laina Heikkinen</td>\n",
              "      <td>female</td>\n",
              "      <td>26.0</td>\n",
              "      <td>0</td>\n",
              "      <td>0</td>\n",
              "      <td>7.9250</td>\n",
              "    </tr>\n",
              "    <tr>\n",
              "      <th>3</th>\n",
              "      <td>1</td>\n",
              "      <td>1</td>\n",
              "      <td>Mrs. Jacques Heath (Lily May Peel) Futrelle</td>\n",
              "      <td>female</td>\n",
              "      <td>35.0</td>\n",
              "      <td>1</td>\n",
              "      <td>0</td>\n",
              "      <td>53.1000</td>\n",
              "    </tr>\n",
              "    <tr>\n",
              "      <th>4</th>\n",
              "      <td>0</td>\n",
              "      <td>3</td>\n",
              "      <td>Mr. William Henry Allen</td>\n",
              "      <td>male</td>\n",
              "      <td>35.0</td>\n",
              "      <td>0</td>\n",
              "      <td>0</td>\n",
              "      <td>8.0500</td>\n",
              "    </tr>\n",
              "  </tbody>\n",
              "</table>\n",
              "</div>"
            ],
            "text/plain": [
              "   Survived  Pclass  ... Parents/Children_Aboard     Fare\n",
              "0         0       3  ...                       0   7.2500\n",
              "1         1       1  ...                       0  71.2833\n",
              "2         1       3  ...                       0   7.9250\n",
              "3         1       1  ...                       0  53.1000\n",
              "4         0       3  ...                       0   8.0500\n",
              "\n",
              "[5 rows x 8 columns]"
            ]
          },
          "execution_count": 31,
          "metadata": {
            "tags": []
          },
          "output_type": "execute_result"
        }
      ]
    },
    {
      "cell_type": "code",
      "metadata": {
        "id": "cNpzYbjpfirR"
      },
      "source": [
        "#calculate mean, sd, n, se here."
      ],
      "execution_count": null,
      "outputs": []
    },
    {
      "cell_type": "code",
      "metadata": {
        "id": "iIpBrdXUIx2A"
      },
      "source": [
        "#Calculate t-interval here."
      ],
      "execution_count": null,
      "outputs": []
    },
    {
      "cell_type": "markdown",
      "metadata": {
        "id": "VPejVZDsF84m"
      },
      "source": [
        "CI interval interpretation here."
      ]
    },
    {
      "cell_type": "markdown",
      "metadata": {
        "id": "mI5REfejgxDR"
      },
      "source": [
        "## Your Turn"
      ]
    },
    {
      "cell_type": "markdown",
      "metadata": {
        "id": "fi98g6LEgxDR"
      },
      "source": [
        "Calculate the critical value (t*) housing prices in the Ames, Iowa area."
      ]
    },
    {
      "cell_type": "code",
      "metadata": {
        "id": "dtihMDz3gxDR"
      },
      "source": [
        "house = pd.read_csv('https://raw.githubusercontent.com/LambdaSchool/data-science-practice-datasets/main/unit_1/Housing/Ames%20Iowa%20Housing%20Data.csv')"
      ],
      "execution_count": null,
      "outputs": []
    },
    {
      "cell_type": "code",
      "metadata": {
        "id": "8BJgKQPagxDR"
      },
      "source": [
        ""
      ],
      "execution_count": null,
      "outputs": []
    },
    {
      "cell_type": "code",
      "metadata": {
        "scrolled": true,
        "id": "xdKXLCajgxDS"
      },
      "source": [
        ""
      ],
      "execution_count": null,
      "outputs": []
    },
    {
      "cell_type": "code",
      "metadata": {
        "id": "S02Oc09jgxDS"
      },
      "source": [
        ""
      ],
      "execution_count": null,
      "outputs": []
    },
    {
      "cell_type": "markdown",
      "metadata": {
        "id": "xTBFSj0LgxDS"
      },
      "source": [
        "- Calculate your confidence interval for housing sale prices in the Ames, Iowa area at a confidence level of 90%, 95%, and 99%. \n"
      ]
    },
    {
      "cell_type": "code",
      "metadata": {
        "id": "SvBRG9UUgxDS"
      },
      "source": [
        ""
      ],
      "execution_count": null,
      "outputs": []
    },
    {
      "cell_type": "markdown",
      "metadata": {
        "id": "9W_wOe5NgxDS"
      },
      "source": [
        "- What happens to your results if you calculate the confidence interval at 100%?"
      ]
    },
    {
      "cell_type": "code",
      "metadata": {
        "id": "p2TGIBGwgxDS"
      },
      "source": [
        ""
      ],
      "execution_count": null,
      "outputs": []
    }
  ]
}