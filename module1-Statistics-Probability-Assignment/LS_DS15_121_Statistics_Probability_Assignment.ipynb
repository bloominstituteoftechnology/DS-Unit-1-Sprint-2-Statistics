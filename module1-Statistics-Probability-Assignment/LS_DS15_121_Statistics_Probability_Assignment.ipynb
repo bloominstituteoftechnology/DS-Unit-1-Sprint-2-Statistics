{
  "nbformat": 4,
  "nbformat_minor": 0,
  "metadata": {
    "kernelspec": {
      "display_name": "Python 3",
      "language": "python",
      "name": "python3"
    },
    "language_info": {
      "codemirror_mode": {
        "name": "ipython",
        "version": 3
      },
      "file_extension": ".py",
      "mimetype": "text/x-python",
      "name": "python",
      "nbconvert_exporter": "python",
      "pygments_lexer": "ipython3",
      "version": "3.7.3"
    },
    "colab": {
      "name": "Ryan_Koul_LS_DS15_121_Statistics_Probability_Assignment.ipynb",
      "provenance": [],
      "collapsed_sections": [],
      "include_colab_link": true
    }
  },
  "cells": [
    {
      "cell_type": "markdown",
      "metadata": {
        "id": "view-in-github",
        "colab_type": "text"
      },
      "source": [
        "<a href=\"https://colab.research.google.com/github/ryankoul/DS-Unit-1-Sprint-2-Statistics/blob/master/module1-Statistics-Probability-Assignment/LS_DS15_121_Statistics_Probability_Assignment.ipynb\" target=\"_parent\"><img src=\"https://colab.research.google.com/assets/colab-badge.svg\" alt=\"Open In Colab\"/></a>"
      ]
    },
    {
      "cell_type": "markdown",
      "metadata": {
        "id": "Sa5KWMO1ngPN",
        "colab_type": "text"
      },
      "source": [
        "<img align=\"left\" src=\"https://lever-client-logos.s3.amazonaws.com/864372b1-534c-480e-acd5-9711f850815c-1524247202159.png\" width=200>\n",
        "<br></br>\n",
        "<br></br>\n",
        "\n",
        "## *Data Science Unit 1 Sprint 2 Assignment 1*\n",
        "\n",
        "# Apply the t-test to real data\n",
        "\n",
        "Your assignment is to determine which issues have \"statistically significant\" differences between political parties in this [1980s congressional voting data](https://archive.ics.uci.edu/ml/datasets/Congressional+Voting+Records). The data consists of 435 instances (one for each congressperson), a class (democrat or republican), and 16 binary attributes (yes or no for voting for or against certain issues). Be aware - there are missing values!\n",
        "\n",
        "Your goals:\n",
        "\n",
        "1. Load and clean the data (or determine the best method to drop observations when running tests)\n",
        "2. Using hypothesis testing, find an issue that democrats support more than republicans with p < 0.01 (99% confidence level)\n",
        "3. Using hypothesis testing, find an issue that republicans support more than democrats with p < 0.01\n",
        "4. Using hypothesis testing, find an issue where the difference between republicans and democrats has p > 0.1 (90% confidence interval) (i.e. there may not be much of a difference)\n",
        "\n",
        "Note that this data will involve *2 sample* t-tests, because you're comparing averages across two groups (republicans and democrats) rather than a single group against a null hypothesis."
      ]
    },
    {
      "cell_type": "code",
      "metadata": {
        "id": "ZKwspo2CngPP",
        "colab_type": "code",
        "colab": {
          "base_uri": "https://localhost:8080/",
          "height": 208
        },
        "outputId": "e8d10abb-08f7-48e2-93cf-cdf3a5bbd89c"
      },
      "source": [
        "import pandas as pd\n",
        "import numpy as np\n",
        "\n",
        "# Grab file from UCI\n",
        "!wget 'https://archive.ics.uci.edu/ml/machine-learning-databases/voting-records/house-votes-84.data'"
      ],
      "execution_count": 1,
      "outputs": [
        {
          "output_type": "stream",
          "text": [
            "--2020-04-13 22:54:44--  https://archive.ics.uci.edu/ml/machine-learning-databases/voting-records/house-votes-84.data\n",
            "Resolving archive.ics.uci.edu (archive.ics.uci.edu)... 128.195.10.252\n",
            "Connecting to archive.ics.uci.edu (archive.ics.uci.edu)|128.195.10.252|:443... connected.\n",
            "HTTP request sent, awaiting response... 200 OK\n",
            "Length: 18171 (18K) [application/x-httpd-php]\n",
            "Saving to: ‘house-votes-84.data.1’\n",
            "\n",
            "\rhouse-votes-84.data   0%[                    ]       0  --.-KB/s               \rhouse-votes-84.data 100%[===================>]  17.75K  --.-KB/s    in 0.06s   \n",
            "\n",
            "2020-04-13 22:54:44 (285 KB/s) - ‘house-votes-84.data.1’ saved [18171/18171]\n",
            "\n"
          ],
          "name": "stdout"
        }
      ]
    },
    {
      "cell_type": "code",
      "metadata": {
        "id": "ujaX0e2ZPrD9",
        "colab_type": "code",
        "colab": {}
      },
      "source": [
        "# Read in CSV file into DataFrame, manually assign column headers\n",
        "df = pd.read_csv('https://archive.ics.uci.edu/ml/machine-learning-databases/voting-records/house-votes-84.data',\n",
        "                 names=[\n",
        "                        'party','handicapped-infants','water-project',\n",
        "                        'budget','physician-fee-freeze', 'el-salvador-aid',\n",
        "                        'religious-groups','anti-satellite-ban',\n",
        "                        'aid-to-contras','mx-missile','immigration',\n",
        "                        'synfuels', 'education', 'right-to-sue','crime','duty-free',\n",
        "                        'south-africa'\n",
        "                        ]\n",
        "                 )"
      ],
      "execution_count": 0,
      "outputs": []
    },
    {
      "cell_type": "code",
      "metadata": {
        "id": "8mQNvstpP80H",
        "colab_type": "code",
        "colab": {
          "base_uri": "https://localhost:8080/",
          "height": 261
        },
        "outputId": "a58dac48-7f3e-4ddf-bf5d-556f99ee311e"
      },
      "source": [
        "# Convert yes and no to binary, and ? (placeholder value) to np.NaN\n",
        "df = df.replace({'y': 1, 'n': 0, '?': np.NaN})\n",
        "df.head()"
      ],
      "execution_count": 3,
      "outputs": [
        {
          "output_type": "execute_result",
          "data": {
            "text/html": [
              "<div>\n",
              "<style scoped>\n",
              "    .dataframe tbody tr th:only-of-type {\n",
              "        vertical-align: middle;\n",
              "    }\n",
              "\n",
              "    .dataframe tbody tr th {\n",
              "        vertical-align: top;\n",
              "    }\n",
              "\n",
              "    .dataframe thead th {\n",
              "        text-align: right;\n",
              "    }\n",
              "</style>\n",
              "<table border=\"1\" class=\"dataframe\">\n",
              "  <thead>\n",
              "    <tr style=\"text-align: right;\">\n",
              "      <th></th>\n",
              "      <th>party</th>\n",
              "      <th>handicapped-infants</th>\n",
              "      <th>water-project</th>\n",
              "      <th>budget</th>\n",
              "      <th>physician-fee-freeze</th>\n",
              "      <th>el-salvador-aid</th>\n",
              "      <th>religious-groups</th>\n",
              "      <th>anti-satellite-ban</th>\n",
              "      <th>aid-to-contras</th>\n",
              "      <th>mx-missile</th>\n",
              "      <th>immigration</th>\n",
              "      <th>synfuels</th>\n",
              "      <th>education</th>\n",
              "      <th>right-to-sue</th>\n",
              "      <th>crime</th>\n",
              "      <th>duty-free</th>\n",
              "      <th>south-africa</th>\n",
              "    </tr>\n",
              "  </thead>\n",
              "  <tbody>\n",
              "    <tr>\n",
              "      <th>0</th>\n",
              "      <td>republican</td>\n",
              "      <td>0.0</td>\n",
              "      <td>1.0</td>\n",
              "      <td>0.0</td>\n",
              "      <td>1.0</td>\n",
              "      <td>1.0</td>\n",
              "      <td>1.0</td>\n",
              "      <td>0.0</td>\n",
              "      <td>0.0</td>\n",
              "      <td>0.0</td>\n",
              "      <td>1.0</td>\n",
              "      <td>NaN</td>\n",
              "      <td>1.0</td>\n",
              "      <td>1.0</td>\n",
              "      <td>1.0</td>\n",
              "      <td>0.0</td>\n",
              "      <td>1.0</td>\n",
              "    </tr>\n",
              "    <tr>\n",
              "      <th>1</th>\n",
              "      <td>republican</td>\n",
              "      <td>0.0</td>\n",
              "      <td>1.0</td>\n",
              "      <td>0.0</td>\n",
              "      <td>1.0</td>\n",
              "      <td>1.0</td>\n",
              "      <td>1.0</td>\n",
              "      <td>0.0</td>\n",
              "      <td>0.0</td>\n",
              "      <td>0.0</td>\n",
              "      <td>0.0</td>\n",
              "      <td>0.0</td>\n",
              "      <td>1.0</td>\n",
              "      <td>1.0</td>\n",
              "      <td>1.0</td>\n",
              "      <td>0.0</td>\n",
              "      <td>NaN</td>\n",
              "    </tr>\n",
              "    <tr>\n",
              "      <th>2</th>\n",
              "      <td>democrat</td>\n",
              "      <td>NaN</td>\n",
              "      <td>1.0</td>\n",
              "      <td>1.0</td>\n",
              "      <td>NaN</td>\n",
              "      <td>1.0</td>\n",
              "      <td>1.0</td>\n",
              "      <td>0.0</td>\n",
              "      <td>0.0</td>\n",
              "      <td>0.0</td>\n",
              "      <td>0.0</td>\n",
              "      <td>1.0</td>\n",
              "      <td>0.0</td>\n",
              "      <td>1.0</td>\n",
              "      <td>1.0</td>\n",
              "      <td>0.0</td>\n",
              "      <td>0.0</td>\n",
              "    </tr>\n",
              "    <tr>\n",
              "      <th>3</th>\n",
              "      <td>democrat</td>\n",
              "      <td>0.0</td>\n",
              "      <td>1.0</td>\n",
              "      <td>1.0</td>\n",
              "      <td>0.0</td>\n",
              "      <td>NaN</td>\n",
              "      <td>1.0</td>\n",
              "      <td>0.0</td>\n",
              "      <td>0.0</td>\n",
              "      <td>0.0</td>\n",
              "      <td>0.0</td>\n",
              "      <td>1.0</td>\n",
              "      <td>0.0</td>\n",
              "      <td>1.0</td>\n",
              "      <td>0.0</td>\n",
              "      <td>0.0</td>\n",
              "      <td>1.0</td>\n",
              "    </tr>\n",
              "    <tr>\n",
              "      <th>4</th>\n",
              "      <td>democrat</td>\n",
              "      <td>1.0</td>\n",
              "      <td>1.0</td>\n",
              "      <td>1.0</td>\n",
              "      <td>0.0</td>\n",
              "      <td>1.0</td>\n",
              "      <td>1.0</td>\n",
              "      <td>0.0</td>\n",
              "      <td>0.0</td>\n",
              "      <td>0.0</td>\n",
              "      <td>0.0</td>\n",
              "      <td>1.0</td>\n",
              "      <td>NaN</td>\n",
              "      <td>1.0</td>\n",
              "      <td>1.0</td>\n",
              "      <td>1.0</td>\n",
              "      <td>1.0</td>\n",
              "    </tr>\n",
              "  </tbody>\n",
              "</table>\n",
              "</div>"
            ],
            "text/plain": [
              "        party  handicapped-infants  ...  duty-free  south-africa\n",
              "0  republican                  0.0  ...        0.0           1.0\n",
              "1  republican                  0.0  ...        0.0           NaN\n",
              "2    democrat                  NaN  ...        0.0           0.0\n",
              "3    democrat                  0.0  ...        0.0           1.0\n",
              "4    democrat                  1.0  ...        1.0           1.0\n",
              "\n",
              "[5 rows x 17 columns]"
            ]
          },
          "metadata": {
            "tags": []
          },
          "execution_count": 3
        }
      ]
    },
    {
      "cell_type": "code",
      "metadata": {
        "id": "vNSlJ9DJQvcr",
        "colab_type": "code",
        "colab": {
          "base_uri": "https://localhost:8080/",
          "height": 399
        },
        "outputId": "0e7041ef-f0a2-41cb-b8c4-c79f8f744381"
      },
      "source": [
        "# Check counts of Republicans, Democrats, NaNs\n",
        "print(df['party'].value_counts())\n",
        "print()\n",
        "print(df.isnull().sum())"
      ],
      "execution_count": 4,
      "outputs": [
        {
          "output_type": "stream",
          "text": [
            "democrat      267\n",
            "republican    168\n",
            "Name: party, dtype: int64\n",
            "\n",
            "party                     0\n",
            "handicapped-infants      12\n",
            "water-project            48\n",
            "budget                   11\n",
            "physician-fee-freeze     11\n",
            "el-salvador-aid          15\n",
            "religious-groups         11\n",
            "anti-satellite-ban       14\n",
            "aid-to-contras           15\n",
            "mx-missile               22\n",
            "immigration               7\n",
            "synfuels                 21\n",
            "education                31\n",
            "right-to-sue             25\n",
            "crime                    17\n",
            "duty-free                28\n",
            "south-africa            104\n",
            "dtype: int64\n"
          ],
          "name": "stdout"
        }
      ]
    },
    {
      "cell_type": "code",
      "metadata": {
        "id": "b7q4x60XQvzO",
        "colab_type": "code",
        "colab": {
          "base_uri": "https://localhost:8080/",
          "height": 261
        },
        "outputId": "e9b6f7e8-82f5-4052-b30f-74bf63c7ee42"
      },
      "source": [
        "# Dataframe filtering to make two samples\n",
        "dems = df[df['party'] == 'democrat']\n",
        "reps = df[df['party'] == 'republican']\n",
        "\n",
        "reps.head()"
      ],
      "execution_count": 5,
      "outputs": [
        {
          "output_type": "execute_result",
          "data": {
            "text/html": [
              "<div>\n",
              "<style scoped>\n",
              "    .dataframe tbody tr th:only-of-type {\n",
              "        vertical-align: middle;\n",
              "    }\n",
              "\n",
              "    .dataframe tbody tr th {\n",
              "        vertical-align: top;\n",
              "    }\n",
              "\n",
              "    .dataframe thead th {\n",
              "        text-align: right;\n",
              "    }\n",
              "</style>\n",
              "<table border=\"1\" class=\"dataframe\">\n",
              "  <thead>\n",
              "    <tr style=\"text-align: right;\">\n",
              "      <th></th>\n",
              "      <th>party</th>\n",
              "      <th>handicapped-infants</th>\n",
              "      <th>water-project</th>\n",
              "      <th>budget</th>\n",
              "      <th>physician-fee-freeze</th>\n",
              "      <th>el-salvador-aid</th>\n",
              "      <th>religious-groups</th>\n",
              "      <th>anti-satellite-ban</th>\n",
              "      <th>aid-to-contras</th>\n",
              "      <th>mx-missile</th>\n",
              "      <th>immigration</th>\n",
              "      <th>synfuels</th>\n",
              "      <th>education</th>\n",
              "      <th>right-to-sue</th>\n",
              "      <th>crime</th>\n",
              "      <th>duty-free</th>\n",
              "      <th>south-africa</th>\n",
              "    </tr>\n",
              "  </thead>\n",
              "  <tbody>\n",
              "    <tr>\n",
              "      <th>0</th>\n",
              "      <td>republican</td>\n",
              "      <td>0.0</td>\n",
              "      <td>1.0</td>\n",
              "      <td>0.0</td>\n",
              "      <td>1.0</td>\n",
              "      <td>1.0</td>\n",
              "      <td>1.0</td>\n",
              "      <td>0.0</td>\n",
              "      <td>0.0</td>\n",
              "      <td>0.0</td>\n",
              "      <td>1.0</td>\n",
              "      <td>NaN</td>\n",
              "      <td>1.0</td>\n",
              "      <td>1.0</td>\n",
              "      <td>1.0</td>\n",
              "      <td>0.0</td>\n",
              "      <td>1.0</td>\n",
              "    </tr>\n",
              "    <tr>\n",
              "      <th>1</th>\n",
              "      <td>republican</td>\n",
              "      <td>0.0</td>\n",
              "      <td>1.0</td>\n",
              "      <td>0.0</td>\n",
              "      <td>1.0</td>\n",
              "      <td>1.0</td>\n",
              "      <td>1.0</td>\n",
              "      <td>0.0</td>\n",
              "      <td>0.0</td>\n",
              "      <td>0.0</td>\n",
              "      <td>0.0</td>\n",
              "      <td>0.0</td>\n",
              "      <td>1.0</td>\n",
              "      <td>1.0</td>\n",
              "      <td>1.0</td>\n",
              "      <td>0.0</td>\n",
              "      <td>NaN</td>\n",
              "    </tr>\n",
              "    <tr>\n",
              "      <th>7</th>\n",
              "      <td>republican</td>\n",
              "      <td>0.0</td>\n",
              "      <td>1.0</td>\n",
              "      <td>0.0</td>\n",
              "      <td>1.0</td>\n",
              "      <td>1.0</td>\n",
              "      <td>1.0</td>\n",
              "      <td>0.0</td>\n",
              "      <td>0.0</td>\n",
              "      <td>0.0</td>\n",
              "      <td>0.0</td>\n",
              "      <td>0.0</td>\n",
              "      <td>0.0</td>\n",
              "      <td>1.0</td>\n",
              "      <td>1.0</td>\n",
              "      <td>NaN</td>\n",
              "      <td>1.0</td>\n",
              "    </tr>\n",
              "    <tr>\n",
              "      <th>8</th>\n",
              "      <td>republican</td>\n",
              "      <td>0.0</td>\n",
              "      <td>1.0</td>\n",
              "      <td>0.0</td>\n",
              "      <td>1.0</td>\n",
              "      <td>1.0</td>\n",
              "      <td>1.0</td>\n",
              "      <td>0.0</td>\n",
              "      <td>0.0</td>\n",
              "      <td>0.0</td>\n",
              "      <td>0.0</td>\n",
              "      <td>0.0</td>\n",
              "      <td>1.0</td>\n",
              "      <td>1.0</td>\n",
              "      <td>1.0</td>\n",
              "      <td>0.0</td>\n",
              "      <td>1.0</td>\n",
              "    </tr>\n",
              "    <tr>\n",
              "      <th>10</th>\n",
              "      <td>republican</td>\n",
              "      <td>0.0</td>\n",
              "      <td>1.0</td>\n",
              "      <td>0.0</td>\n",
              "      <td>1.0</td>\n",
              "      <td>1.0</td>\n",
              "      <td>0.0</td>\n",
              "      <td>0.0</td>\n",
              "      <td>0.0</td>\n",
              "      <td>0.0</td>\n",
              "      <td>0.0</td>\n",
              "      <td>NaN</td>\n",
              "      <td>NaN</td>\n",
              "      <td>1.0</td>\n",
              "      <td>1.0</td>\n",
              "      <td>0.0</td>\n",
              "      <td>0.0</td>\n",
              "    </tr>\n",
              "  </tbody>\n",
              "</table>\n",
              "</div>"
            ],
            "text/plain": [
              "         party  handicapped-infants  ...  duty-free  south-africa\n",
              "0   republican                  0.0  ...        0.0           1.0\n",
              "1   republican                  0.0  ...        0.0           NaN\n",
              "7   republican                  0.0  ...        NaN           1.0\n",
              "8   republican                  0.0  ...        0.0           1.0\n",
              "10  republican                  0.0  ...        0.0           0.0\n",
              "\n",
              "[5 rows x 17 columns]"
            ]
          },
          "metadata": {
            "tags": []
          },
          "execution_count": 5
        }
      ]
    },
    {
      "cell_type": "markdown",
      "metadata": {
        "id": "mFhpN3bJRSwa",
        "colab_type": "text"
      },
      "source": [
        "### Issue that Democrats support more than Republicans\n",
        "\n",
        "**Variables**\n",
        "\n",
        "$ \\bar{x_1} = $ Sample 1 mean – in this case, Republicans in the US House of Representatives in 1980 who supported the `aid-to-contras` bill.\n",
        "\n",
        "$ \\bar{x_2} = $ Sample 2 mean – in this case, Democrats in the US House of Representatives in 1980 who supported the `aid-to-contras` bill.\n",
        "\n",
        "**T-test procedure**\n",
        "1. Null hypothesis: The percent of sampled Republicans who support the `aid-to-contras` bill == the percent of sampled Democrats who support it.\n",
        "   - $H_0: \\bar{x_1} == \\bar{x_2}$ \n",
        "2. Alternative hypothesis: The percent of sampled Republicans who support the `aid-to-contras` ≠ the percent of sampled Democrats who support it.\n",
        "   - $H_1: \\bar{x_1} \\neq \\bar{x_2}$ \n",
        "3. Confidence Level: 99% (p-value < 0.01)"
      ]
    },
    {
      "cell_type": "code",
      "metadata": {
        "id": "2-kNSH6MUROT",
        "colab_type": "code",
        "colab": {
          "base_uri": "https://localhost:8080/",
          "height": 34
        },
        "outputId": "54bbd9fb-aa96-4842-a264-ad76ba67af7a"
      },
      "source": [
        "# Test\n",
        "from scipy import stats\n",
        "stats.ttest_ind(reps['aid-to-contras'], dems['aid-to-contras'], nan_policy='omit')\n"
      ],
      "execution_count": 9,
      "outputs": [
        {
          "output_type": "execute_result",
          "data": {
            "text/plain": [
              "Ttest_indResult(statistic=-18.052093200819733, pvalue=2.82471841372357e-54)"
            ]
          },
          "metadata": {
            "tags": []
          },
          "execution_count": 9
        }
      ]
    },
    {
      "cell_type": "markdown",
      "metadata": {
        "id": "YRRXipFJYtep",
        "colab_type": "text"
      },
      "source": [
        "### Conclusion:\n",
        "The sign of the t-statistic tells us which sample mean is larger. \n",
        "   - If $ \\bar{x_1} $ > $ \\bar{x_2} $, the t-statistic will be positive, and vice-versa.\n",
        "   - If $ \\bar{x_1} $ > $ \\bar{x_1} $, the t-statistic will be negative, and vice-versa.\n",
        "   \n",
        "![](https://www.statsdirect.co.uk/help/generatedimages/equations/equation167.svg)\n",
        "\n",
        "If Democrats and Republicans supported `aid-to-contras` at the same rate (as we hypothesized), the probability that we'd observe data at least this extreme is < 1%. In fact, the negative sign on the t statistic indicates that Democrats support it more than Republicans.\n",
        "\n",
        "Thus, we reject the null that Democrats support `aid-to-contras` at the same rate as Republicans. "
      ]
    },
    {
      "cell_type": "markdown",
      "metadata": {
        "id": "oJEwqqRsZQf5",
        "colab_type": "text"
      },
      "source": [
        "## Issue that Republicans support more than Democrats\n",
        "**Variables**\n",
        "\n",
        "$ \\bar{x_1} = $ Republicans who supported the 1980 `crime` bill.\n",
        "\n",
        "$ \\bar{x_2} = $ Democrats who supported the 1980 `crime` bill..\n",
        "\n",
        "**T-test procedure**\n",
        "1. Null hypothesis: The percent of sampled Republicans who support the `crime` bill == the percent of sampled Democrats who support it.\n",
        "   - $H_0: \\bar{x_1} == \\bar{x_2}$ \n",
        "2. Alternative hypothesis: The percent of sampled Republicans who support the `crime` ≠ the percent of sampled Democrats who support it.\n",
        "   - $H_1: \\bar{x_1} \\neq \\bar{x_2}$ \n",
        "3. Confidence Level: 99% (p-value < 0.01)"
      ]
    },
    {
      "cell_type": "code",
      "metadata": {
        "id": "ULOMvFfwZcEo",
        "colab_type": "code",
        "colab": {
          "base_uri": "https://localhost:8080/",
          "height": 34
        },
        "outputId": "5c1bca31-0599-47f8-fdd6-7a134d5038a6"
      },
      "source": [
        "# Test\n",
        "stats.ttest_ind(reps['crime'], dems['crime'], nan_policy='omit')"
      ],
      "execution_count": 27,
      "outputs": [
        {
          "output_type": "execute_result",
          "data": {
            "text/plain": [
              "Ttest_indResult(statistic=16.342085656197696, pvalue=9.952342705606092e-47)"
            ]
          },
          "metadata": {
            "tags": []
          },
          "execution_count": 27
        }
      ]
    },
    {
      "cell_type": "markdown",
      "metadata": {
        "id": "8s09-HLaaDpq",
        "colab_type": "text"
      },
      "source": [
        "### Conclusion\n",
        "\n",
        "If Democrats and Republicans supported the 1980 `crime` bill at the same rate (as we hypothesized), the probability that we'd observe data at least this extreme is < 1%. In fact, the positive sign on the t statistic indicates that Republicans support it more than Democrats.\n",
        "\n",
        "Thus, we reject the null that Democrats support `crime` at the same rate as Republicans. "
      ]
    },
    {
      "cell_type": "markdown",
      "metadata": {
        "id": "jvTFdesxaZAw",
        "colab_type": "text"
      },
      "source": [
        "## Issue that Republicans and Democrats Support Roughly the Same\n",
        "\n",
        "**Variables**\n",
        "\n",
        "$ \\bar{x_1} = $ Republicans who supported the 1980 `water-project` bill.\n",
        "\n",
        "$ \\bar{x_2} = $ Democrats who supported the 1980 `water-project` bill..\n",
        "\n",
        "**T-test procedure**\n",
        "1. Null hypothesis: The percent of Republicans who support the `water-project` bill == the percent of Democrats who support it.\n",
        "   - $H_0: \\bar{x_1} == \\bar{x_2}$ \n",
        "2. Alternative hypothesis: The percent of Republicans who support the `water-project` ≠ the percent of Democrats who support it.\n",
        "   - $H_1: \\bar{x_1} \\neq \\bar{x_2}$ \n",
        "3. Confidence Level: 90% (p-value > 0.1)"
      ]
    },
    {
      "cell_type": "code",
      "metadata": {
        "id": "8p-hRpZsadKb",
        "colab_type": "code",
        "colab": {
          "base_uri": "https://localhost:8080/",
          "height": 34
        },
        "outputId": "fb60ccd4-050e-4f2b-a2ff-8181371c8036"
      },
      "source": [
        "# Test\n",
        "stats.ttest_ind(reps['water-project'], dems['water-project'], nan_policy='omit')\n"
      ],
      "execution_count": 10,
      "outputs": [
        {
          "output_type": "execute_result",
          "data": {
            "text/plain": [
              "Ttest_indResult(statistic=0.08896538137868286, pvalue=0.9291556823993485)"
            ]
          },
          "metadata": {
            "tags": []
          },
          "execution_count": 10
        }
      ]
    },
    {
      "cell_type": "markdown",
      "metadata": {
        "id": "lyQ131-jbjaW",
        "colab_type": "text"
      },
      "source": [
        "### Conclusion\n",
        "If Democrats and Republicans supported the 1980 `water-project` bill at the same rate (as we hypothesized), the probability that we'd observe data at least this extreme is 93%. In other words, we can say with only 7% confidence that the true population parameter of Republicans who support `water-project` is different than that of Democrats (and vice-versa).\n",
        "\n",
        "Thus, we fail to reject the null that Democrats support `crime` at the same rate as Republicans. \n"
      ]
    },
    {
      "cell_type": "markdown",
      "metadata": {
        "id": "wcA_AvvRAqW_",
        "colab_type": "text"
      },
      "source": [
        "## Stretch Goals:\n",
        "\n",
        "1. Refactor your code into functions so it's easy to rerun with arbitrary variables\n",
        "2. Work on Performing a T-test without using SciPy in order to get \"under the hood\" and learn more thoroughly about this topic.\n",
        "### Start with a 1-sample t-test\n",
        " - Establish the conditions for your test \n",
        " - [Calculate the T Statistic](https://blog.minitab.com/hs-fs/hubfs/Imported_Blog_Media/701f9c0efa98a38fb397f3c3ec459b66.png?width=247&height=172&name=701f9c0efa98a38fb397f3c3ec459b66.png) (You'll need to omit NaN values from your sample).\n",
        " - Translate that t-statistic into a P-value. You can use a [table](https://www.google.com/search?q=t+statistic+table) or the [University of Iowa Applet](https://homepage.divms.uiowa.edu/~mbognar/applets/t.html)\n",
        "    - Degree of freedom = sample size - 1\n",
        "\n",
        " ### Then try a 2-sample t-test\n",
        " - Establish the conditions for your test \n",
        " - [Calculate the T Statistic](https://lh3.googleusercontent.com/proxy/rJJ5ZOL9ZDvKOOeBihXoZDgfk7uv1YsRzSQ1Tc10RX-r2HrRpRLVqlE9CWX23csYQXcTniFwlBg3H-qR8MKJPBGnjwndqlhDX3JxoDE5Yg) (You'll need to omit NaN values from your sample).\n",
        " - Translate that t-statistic into a P-value. You can use a [table](https://www.google.com/search?q=t+statistic+table) or the [University of Iowa Applet](https://homepage.divms.uiowa.edu/~mbognar/applets/t.html)\n",
        "\n",
        " ### Then check your Answers using Scipy!"
      ]
    },
    {
      "cell_type": "code",
      "metadata": {
        "id": "uu8dikMWuuYi",
        "colab_type": "code",
        "colab": {
          "base_uri": "https://localhost:8080/",
          "height": 52
        },
        "outputId": "833c3444-c132-49a4-c461-4163e5565915"
      },
      "source": [
        "sample1 = dems['physician-fee-freeze']\n",
        "sample2 = reps['physician-fee-freeze']\n",
        "difference = sample1 - sample2\n",
        "np.sqrt(len(difference))\n",
        "\n",
        "# test Aliya's code\n",
        "df3 = df[:]\n",
        "df4 = df[:]\n",
        "\n",
        "df3 = df3.dropna()\n",
        "print(df3.shape)\n",
        "df4.shape"
      ],
      "execution_count": 20,
      "outputs": [
        {
          "output_type": "stream",
          "text": [
            "(232, 17)\n"
          ],
          "name": "stdout"
        },
        {
          "output_type": "execute_result",
          "data": {
            "text/plain": [
              "(435, 17)"
            ]
          },
          "metadata": {
            "tags": []
          },
          "execution_count": 20
        }
      ]
    },
    {
      "cell_type": "markdown",
      "metadata": {
        "id": "dPmXOHh1Cfea",
        "colab_type": "text"
      },
      "source": [
        "# Refactor code into function\n",
        "def one_sample_ttest(df, col, p, x_bar):\n",
        "  \"\"\"Accepts 4 parameters: a dataframe, a column, a population mean, and a sample mean.\n",
        "  Returns t statistic and p value of as a scipy object.\"\"\"\n",
        "  from scipy import stats\n",
        "  return stats.ttest_1samp(df[col], p, x_bar)\n",
        "\n",
        "assert one_sample_ttest(df=reps, col='physician-fee-freeze', p=0.5)"
      ]
    }
  ]
}