{
  "nbformat": 4,
  "nbformat_minor": 0,
  "metadata": {
    "colab": {
      "name": "T-Tests \"Under the Hood\".ipynb",
      "provenance": [],
      "include_colab_link": true
    },
    "kernelspec": {
      "name": "python3",
      "display_name": "Python 3"
    }
  },
  "cells": [
    {
      "cell_type": "markdown",
      "metadata": {
        "id": "view-in-github",
        "colab_type": "text"
      },
      "source": [
        "<a href=\"https://colab.research.google.com/github/qianjing2020/DS-Unit-1-Sprint-2-Statistics/blob/master/T_Tests_%22Under_the_Hood%22.ipynb\" target=\"_parent\"><img src=\"https://colab.research.google.com/assets/colab-badge.svg\" alt=\"Open In Colab\"/></a>"
      ]
    },
    {
      "cell_type": "markdown",
      "metadata": {
        "id": "RYM2mmqD2Yt8",
        "colab_type": "text"
      },
      "source": [
        "# What is the purpose of a T-test (for means)?\n",
        "\n",
        "T-tests seek to determine if the means of two groups are significantly different from one another. \n",
        "\n",
        "A one-sample t-test compares a sample mean against a given value -this value can be a population parameter, but it doesn't necessarily have to be. \n",
        "\n",
        "A two-sample t-test compares the means of two samples. If these two sample means are found to be different this usually implies that there is something innately different about the samples themselves or the populations that they were taken from."
      ]
    },
    {
      "cell_type": "markdown",
      "metadata": {
        "id": "YTZkeLVh75c7",
        "colab_type": "text"
      },
      "source": [
        "## Applications of 1-sample t-tests \n",
        "\n",
        "### Testing the fairness of a coin\n",
        "\n",
        "You think a coin is fair P(heads) = 0.5, but you're worried and want to test this, so you flip the coin a bunch of times to generate a sample, and then you use a t-test to compare your sample mean against your hypothesized probability (.5) to see if the coin is likely to be fair or not.\n",
        "\n",
        "### Testing expectations about crop yields\n",
        "\n",
        "You work for a farmer that grows pumpkins. This farmer expects each row of his field to yield 300 pounds of pumpkins. Due to an early frost, the farmer is worried that his field may not have achieved this level of growth. The farmer decides to weigh the pumpkins from 10 rows chosen at random and then calculates an average weight per row for the 10 rows. You then use a t-test to compare the average yield per row of the 10 row sample to the expected yield of 300 pounds to find out if there has been a significant deviation from the expectation.\n",
        "___\n",
        "\n",
        "Notice that in both of these examples, before we set out, we already had an expected value in mind. We also generated a sample mean from our observed data to compare to the expected value. If our sample mean (observed) is close to the expected value (expected), then we will not be confident that the two values are different. The further they are apart the more confident will will be that there is a significant difference between our sample and our hypothesized expected value."
      ]
    },
    {
      "cell_type": "markdown",
      "metadata": {
        "id": "NJm5kRlz-trW",
        "colab_type": "text"
      },
      "source": [
        "## Applications of 2-sample t-tests\n",
        "\n",
        "### A/B Testing a Website\n",
        "\n",
        "As visitors come to your ecommerce website you randomly serve up two slightly different versions of the same webpage, the only way in which these two pages differ is that one page has a green \"BYU NOW!\" button, and the other page has a blue \"BUY NOW!\" button. You show the green button version to 200 visitors and the blue button version to 180 visitors. Visitors who received the green button version clicked the button .45% of the time. Visitors who received the blue button version of the page clicked the button .5% of the time. The blue button page obviously got a higher percentage of clicks on the button, but is this difference significant enough that we can be confident that the blue button version is of the webpage is enticing people to click more often?\n",
        "\n",
        "### Testing Pizza Delivery Times\n",
        "\n",
        "A Pizza place wants to know if Jim or Sally is faster at delivering pizzas. Without disclosing this plan to Jim or Sally the business randomly assigns deliveries to Jim and Sally and then measures how long it takes for them to make the delivery. The pizza place times 40 deliveries for both Jim and Sally and then calculates the average delivery for each employee. Jim takes 37.4 minutes on average. Sally takes 36.7 minues on average. A two-sample t-test could be employed to find out if there is a significant difference between the sample means of delivery times between the two employees.\n",
        "\n",
        "___\n",
        "\n",
        "In these two examples, notice how no initial expected value is given, we simply want to compare means between two groups (two samples). "
      ]
    },
    {
      "cell_type": "markdown",
      "metadata": {
        "id": "tvGCIvtM2omq",
        "colab_type": "text"
      },
      "source": [
        "# How is a t-statistic generated?\n",
        "\n",
        "Ok, so you can run a t-test with Scipy, and you know how to interpret the results, but what is Scipy doing to actually generate that t-statistic and then translate that t-statistic into a p-value?"
      ]
    },
    {
      "cell_type": "markdown",
      "metadata": {
        "id": "wCOtFMoMLNCK",
        "colab_type": "text"
      },
      "source": [
        "## 1-sample t-statistic\n",
        "\n",
        "The t-statistic for a 1-sample two-sided t-test is calculated according to the following formula:\n",
        "\n",
        "![t statistic equation](https://lambdachops.com/img/t-statistic-equation.png)\n",
        "\n",
        "The t statistic compares the deviation of our sample mean from our hypothesized population mean and compares that deviation to the standard error (spread) of our sample.\n",
        "\n",
        "Lets get a dataset and try and use a confidence interval to indicate where we think the population mean lies with 95% confidence.\n",
        "\n",
        "\n"
      ]
    },
    {
      "cell_type": "code",
      "metadata": {
        "id": "a0pJz9kbNs0l",
        "colab_type": "code",
        "colab": {}
      },
      "source": [
        "import pandas as pd\n",
        "import seaborn as sns\n",
        "import numpy as np\n",
        "from scipy import stats"
      ],
      "execution_count": 0,
      "outputs": []
    },
    {
      "cell_type": "code",
      "metadata": {
        "id": "ikiZHpAnLl0d",
        "colab_type": "code",
        "outputId": "e11e7395-8087-42f9-d2b0-ea65a2eb400d",
        "colab": {
          "base_uri": "https://localhost:8080/",
          "height": 212
        }
      },
      "source": [
        "# Lets use the tips dataset from Seaborn\n",
        "tips = sns.load_dataset(\"tips\")\n",
        "\n",
        "print(tips.shape)\n",
        "tips.head()"
      ],
      "execution_count": 0,
      "outputs": [
        {
          "output_type": "stream",
          "text": [
            "(244, 7)\n"
          ],
          "name": "stdout"
        },
        {
          "output_type": "execute_result",
          "data": {
            "text/html": [
              "<div>\n",
              "<style scoped>\n",
              "    .dataframe tbody tr th:only-of-type {\n",
              "        vertical-align: middle;\n",
              "    }\n",
              "\n",
              "    .dataframe tbody tr th {\n",
              "        vertical-align: top;\n",
              "    }\n",
              "\n",
              "    .dataframe thead th {\n",
              "        text-align: right;\n",
              "    }\n",
              "</style>\n",
              "<table border=\"1\" class=\"dataframe\">\n",
              "  <thead>\n",
              "    <tr style=\"text-align: right;\">\n",
              "      <th></th>\n",
              "      <th>total_bill</th>\n",
              "      <th>tip</th>\n",
              "      <th>sex</th>\n",
              "      <th>smoker</th>\n",
              "      <th>day</th>\n",
              "      <th>time</th>\n",
              "      <th>size</th>\n",
              "    </tr>\n",
              "  </thead>\n",
              "  <tbody>\n",
              "    <tr>\n",
              "      <th>0</th>\n",
              "      <td>16.99</td>\n",
              "      <td>1.01</td>\n",
              "      <td>Female</td>\n",
              "      <td>No</td>\n",
              "      <td>Sun</td>\n",
              "      <td>Dinner</td>\n",
              "      <td>2</td>\n",
              "    </tr>\n",
              "    <tr>\n",
              "      <th>1</th>\n",
              "      <td>10.34</td>\n",
              "      <td>1.66</td>\n",
              "      <td>Male</td>\n",
              "      <td>No</td>\n",
              "      <td>Sun</td>\n",
              "      <td>Dinner</td>\n",
              "      <td>3</td>\n",
              "    </tr>\n",
              "    <tr>\n",
              "      <th>2</th>\n",
              "      <td>21.01</td>\n",
              "      <td>3.50</td>\n",
              "      <td>Male</td>\n",
              "      <td>No</td>\n",
              "      <td>Sun</td>\n",
              "      <td>Dinner</td>\n",
              "      <td>3</td>\n",
              "    </tr>\n",
              "    <tr>\n",
              "      <th>3</th>\n",
              "      <td>23.68</td>\n",
              "      <td>3.31</td>\n",
              "      <td>Male</td>\n",
              "      <td>No</td>\n",
              "      <td>Sun</td>\n",
              "      <td>Dinner</td>\n",
              "      <td>2</td>\n",
              "    </tr>\n",
              "    <tr>\n",
              "      <th>4</th>\n",
              "      <td>24.59</td>\n",
              "      <td>3.61</td>\n",
              "      <td>Female</td>\n",
              "      <td>No</td>\n",
              "      <td>Sun</td>\n",
              "      <td>Dinner</td>\n",
              "      <td>4</td>\n",
              "    </tr>\n",
              "  </tbody>\n",
              "</table>\n",
              "</div>"
            ],
            "text/plain": [
              "   total_bill   tip     sex smoker  day    time  size\n",
              "0       16.99  1.01  Female     No  Sun  Dinner     2\n",
              "1       10.34  1.66    Male     No  Sun  Dinner     3\n",
              "2       21.01  3.50    Male     No  Sun  Dinner     3\n",
              "3       23.68  3.31    Male     No  Sun  Dinner     2\n",
              "4       24.59  3.61  Female     No  Sun  Dinner     4"
            ]
          },
          "metadata": {
            "tags": []
          },
          "execution_count": 58
        }
      ]
    },
    {
      "cell_type": "markdown",
      "metadata": {
        "id": "nsIqzgyBL0co",
        "colab_type": "text"
      },
      "source": [
        "### Lets sample from this dataset and watch how our sample size changes the results of our t-test\n",
        "\n",
        "1) Null Hypothesis: The average total bill at the restaurant is twenty dollars. We are saying that we think the population mean is 20. ($\\mu$)\n",
        "\n",
        "2) Alternative hypothesis: The average total bill at the restaurant is not $20, it is something different than twenty dollars.\n",
        "\n",
        "3) Confidence Level: We will use a 95% confidence level.\n"
      ]
    },
    {
      "cell_type": "code",
      "metadata": {
        "id": "WfhotjWALvL5",
        "colab_type": "code",
        "outputId": "b3b6e9f5-96f7-404b-8b90-9f41147f33ff",
        "colab": {
          "base_uri": "https://localhost:8080/",
          "height": 370
        }
      },
      "source": [
        "# Lets use a random sample size of 20 bills\n",
        "\n",
        "# Sample Size\n",
        "n = 20\n",
        "\n",
        "# We're using a random state here so that we will get the same random\n",
        "# sample every time, that way I can be sure that you're seeing the\n",
        "# same numbers as I am.\n",
        "twenty_bills = tips.sample(n, random_state=42)\n",
        "\n",
        "print(twenty_bills)"
      ],
      "execution_count": 0,
      "outputs": [
        {
          "output_type": "stream",
          "text": [
            "     total_bill   tip     sex smoker   day    time  size\n",
            "24        19.82  3.18    Male     No   Sat  Dinner     2\n",
            "6          8.77  2.00    Male     No   Sun  Dinner     2\n",
            "153       24.55  2.00    Male     No   Sun  Dinner     4\n",
            "211       25.89  5.16    Male    Yes   Sat  Dinner     4\n",
            "198       13.00  2.00  Female    Yes  Thur   Lunch     2\n",
            "176       17.89  2.00    Male    Yes   Sun  Dinner     2\n",
            "192       28.44  2.56    Male    Yes  Thur   Lunch     2\n",
            "124       12.48  2.52  Female     No  Thur   Lunch     2\n",
            "9         14.78  3.23    Male     No   Sun  Dinner     2\n",
            "101       15.38  3.00  Female    Yes   Fri  Dinner     2\n",
            "45        18.29  3.00    Male     No   Sun  Dinner     2\n",
            "233       10.77  1.47    Male     No   Sat  Dinner     2\n",
            "117       10.65  1.50  Female     No  Thur   Lunch     2\n",
            "177       14.48  2.00    Male    Yes   Sun  Dinner     2\n",
            "82        10.07  1.83  Female     No  Thur   Lunch     1\n",
            "146       18.64  1.36  Female     No  Thur   Lunch     3\n",
            "200       18.71  4.00    Male    Yes  Thur   Lunch     3\n",
            "15        21.58  3.92    Male     No   Sun  Dinner     2\n",
            "66        16.45  2.47  Female     No   Sat  Dinner     2\n",
            "142       41.19  5.00    Male     No  Thur   Lunch     5\n"
          ],
          "name": "stdout"
        }
      ]
    },
    {
      "cell_type": "code",
      "metadata": {
        "id": "JGiUfy2EM3Ef",
        "colab_type": "code",
        "colab": {}
      },
      "source": [
        "# Calculate our sample mean:\n",
        "x_bar = twenty_bills['total_bill'].mean()\n",
        "\n",
        "# Our Sample Standard Deviation\n",
        "s = twenty_bills['total_bill'].std()\n",
        "\n",
        "# Our hypothesized population mean\n",
        "mu = 20"
      ],
      "execution_count": 0,
      "outputs": []
    },
    {
      "cell_type": "code",
      "metadata": {
        "id": "boVBX61MNXx6",
        "colab_type": "code",
        "outputId": "ad9c9bc3-77e1-437c-e2e0-7496acf0ce04",
        "colab": {
          "base_uri": "https://localhost:8080/",
          "height": 34
        }
      },
      "source": [
        "# We now have all of the parts that we need to calculate our t-statistic:\n",
        "t = ((x_bar - mu) / (s/np.sqrt(n)))\n",
        "# our p-value calculation below requires a negative t-statistic\n",
        "t = -np.abs(t)\n",
        "print('t-statistic:', t)"
      ],
      "execution_count": 0,
      "outputs": [
        {
          "output_type": "stream",
          "text": [
            "t-statistic: -1.1162793673256122\n"
          ],
          "name": "stdout"
        }
      ]
    },
    {
      "cell_type": "code",
      "metadata": {
        "id": "85qQbrDzOBin",
        "colab_type": "code",
        "outputId": "e23a85b4-fd45-4141-81d8-7d95bd16e894",
        "colab": {
          "base_uri": "https://localhost:8080/",
          "height": 34
        }
      },
      "source": [
        "# How do we go from t-statistic to p-value?\n",
        "# well we are working with a specific t distribution\n",
        "# Our t-distribution has n-1 degrees of freedom = 19 DOF.\n",
        "\n",
        "# Degrees of freedom\n",
        "dof = n-1\n",
        "\n",
        "# P value calculation\n",
        "p_value = 2*(stats.t.cdf(t, dof))\n",
        "print(\"p-value of our test:\", p_value)\n"
      ],
      "execution_count": 0,
      "outputs": [
        {
          "output_type": "stream",
          "text": [
            "p-value of our test: 0.27822147742653014\n"
          ],
          "name": "stdout"
        }
      ]
    },
    {
      "cell_type": "markdown",
      "metadata": {
        "id": "KR4GqFLVRZDy",
        "colab_type": "text"
      },
      "source": [
        "Due to us observing a p-value of .78 we fail to reject the null hypothesis that the average bill at this restaurant is $20."
      ]
    },
    {
      "cell_type": "markdown",
      "metadata": {
        "id": "CCvEW0ed2y8V",
        "colab_type": "text"
      },
      "source": [
        "## How does a t-statistic correspond to a p-value?\n",
        "\n"
      ]
    },
    {
      "cell_type": "markdown",
      "metadata": {
        "id": "DkxsKt2oP521",
        "colab_type": "text"
      },
      "source": [
        "What is stats.t.cdf doing? It's calculating the probability under the curve up until that t statistic on our t-distribution with 19 degrees of freedom. Because this is only calculating the area under the curve on one side of the distribution, we multiply the value by two to get our p-value for a two-sided t-test.\n",
        "\n",
        "![t-stat to p-value](https://lambdachops.com/img/t-stat-to-p-value.png)"
      ]
    },
    {
      "cell_type": "code",
      "metadata": {
        "id": "XKvT9CcGPdez",
        "colab_type": "code",
        "outputId": "57a22280-8c74-456f-afd4-103a46b7ab5c",
        "colab": {
          "base_uri": "https://localhost:8080/",
          "height": 34
        }
      },
      "source": [
        "# Confirm our results using Scipy\n",
        "stats.ttest_1samp(twenty_bills['total_bill'], 20)"
      ],
      "execution_count": 0,
      "outputs": [
        {
          "output_type": "execute_result",
          "data": {
            "text/plain": [
              "Ttest_1sampResult(statistic=-1.1162793673256122, pvalue=0.27822147742653014)"
            ]
          },
          "metadata": {
            "tags": []
          },
          "execution_count": 76
        }
      ]
    },
    {
      "cell_type": "markdown",
      "metadata": {
        "id": "blPK1DMNTk2u",
        "colab_type": "text"
      },
      "source": [
        "## Write our own 1-sample t-test function."
      ]
    },
    {
      "cell_type": "markdown",
      "metadata": {
        "id": "xfOZDM4uSFJh",
        "colab_type": "text"
      },
      "source": [
        "We have everything that we need to roll our own 1-sample t-test function."
      ]
    },
    {
      "cell_type": "code",
      "metadata": {
        "id": "LNJJicRjSIn8",
        "colab_type": "code",
        "outputId": "5a42808e-04ae-431b-ab56-b951167a7730",
        "colab": {
          "base_uri": "https://localhost:8080/",
          "height": 34
        }
      },
      "source": [
        "def one_sample_t_test(sample, mu):\n",
        "  # Calculate important values\n",
        "  sample = np.array(sample)\n",
        "  n = len(sample)\n",
        "  dof = n-1\n",
        "  x_bar = np.mean(sample)\n",
        "  s = np.std(sample, ddof=1)\n",
        "\n",
        "  # Calculate t-statistic\n",
        "  t = ((x_bar - mu) / (s/np.sqrt(n)))\n",
        "  # make sure t statistic is negative\n",
        "  t = -np.abs(t)\n",
        "  \n",
        "  # Calculate p-value\n",
        "  p_value = 2*(stats.t.cdf(t, dof))\n",
        "\n",
        "  return (t, p_value)\n",
        "\n",
        "one_sample_t_test(twenty_bills['total_bill'], 20)"
      ],
      "execution_count": 0,
      "outputs": [
        {
          "output_type": "execute_result",
          "data": {
            "text/plain": [
              "(-1.1162793673256122, 0.27822147742653014)"
            ]
          },
          "metadata": {
            "tags": []
          },
          "execution_count": 78
        }
      ]
    },
    {
      "cell_type": "markdown",
      "metadata": {
        "id": "QGwKxTQtXRHS",
        "colab_type": "text"
      },
      "source": [
        "## Two-sample t-test t-statistic\n",
        "\n",
        "\\begin{align}\n",
        "t = \\frac{(\\bar{x}_{1}-\\bar{x}_{2})}{\\sqrt{\\frac{s_{1}^{2}}{n_{1}}+\\frac{s_{2}^{2}}{n_{2}}}}\n",
        "\\end{align}\n",
        "\n",
        "The two sample t-test works exactly like the 1-sample t-test, only that our t-statistic equation is a little bit more complex, here we're comparing the difference between two sample means each to their combined standard errors. Because both sample means are estiamtes, we have two different standard error equations reflected in the denominator instead of just one.\n",
        "\n"
      ]
    },
    {
      "cell_type": "code",
      "metadata": {
        "id": "vs1Uchz9aL0-",
        "colab_type": "code",
        "colab": {}
      },
      "source": [
        "# Lets generate two new samples to practice with\n",
        "\n",
        "sample1 = tips.sample(20, random_state=1)\n",
        "sample2 = tips.sample(20, random_state=2)"
      ],
      "execution_count": 0,
      "outputs": []
    },
    {
      "cell_type": "code",
      "metadata": {
        "id": "zYbBEZZyaWR_",
        "colab_type": "code",
        "outputId": "eda3d4a0-9310-46e4-d6d3-d3eea39c6c9d",
        "colab": {
          "base_uri": "https://localhost:8080/",
          "height": 370
        }
      },
      "source": [
        "print(sample1)"
      ],
      "execution_count": 0,
      "outputs": [
        {
          "output_type": "stream",
          "text": [
            "     total_bill    tip     sex smoker   day    time  size\n",
            "67         3.07   1.00  Female    Yes   Sat  Dinner     1\n",
            "243       18.78   3.00  Female     No  Thur  Dinner     2\n",
            "206       26.59   3.41    Male    Yes   Sat  Dinner     3\n",
            "122       14.26   2.50    Male     No  Thur   Lunch     2\n",
            "89        21.16   3.00    Male     No  Thur   Lunch     2\n",
            "218        7.74   1.44    Male    Yes   Sat  Dinner     2\n",
            "58        11.24   1.76    Male    Yes   Sat  Dinner     2\n",
            "186       20.90   3.50  Female    Yes   Sun  Dinner     3\n",
            "177       14.48   2.00    Male    Yes   Sun  Dinner     2\n",
            "4         24.59   3.61  Female     No   Sun  Dinner     4\n",
            "220       12.16   2.20    Male    Yes   Fri   Lunch     2\n",
            "226       10.09   2.00  Female    Yes   Fri   Lunch     2\n",
            "116       29.93   5.07    Male     No   Sun  Dinner     4\n",
            "107       25.21   4.29    Male    Yes   Sat  Dinner     2\n",
            "170       50.81  10.00    Male    Yes   Sat  Dinner     3\n",
            "241       22.67   2.00    Male    Yes   Sat  Dinner     2\n",
            "181       23.33   5.65    Male    Yes   Sun  Dinner     2\n",
            "51        10.29   2.60  Female     No   Sun  Dinner     2\n",
            "27        12.69   2.00    Male     No   Sat  Dinner     2\n",
            "240       27.18   2.00  Female    Yes   Sat  Dinner     2\n"
          ],
          "name": "stdout"
        }
      ]
    },
    {
      "cell_type": "code",
      "metadata": {
        "id": "pQrx9EpuaZ9A",
        "colab_type": "code",
        "outputId": "d4aa937c-d0ba-4765-9651-e248a687631b",
        "colab": {
          "base_uri": "https://localhost:8080/",
          "height": 370
        }
      },
      "source": [
        "print(sample2)"
      ],
      "execution_count": 0,
      "outputs": [
        {
          "output_type": "stream",
          "text": [
            "     total_bill   tip     sex smoker   day    time  size\n",
            "85        34.83  5.17  Female     No  Thur   Lunch     4\n",
            "54        25.56  4.34    Male     No   Sun  Dinner     4\n",
            "126        8.52  1.48    Male     No  Thur   Lunch     2\n",
            "93        16.32  4.30  Female    Yes   Fri  Dinner     2\n",
            "113       23.95  2.55    Male     No   Sun  Dinner     2\n",
            "141       34.30  6.70    Male     No  Thur   Lunch     6\n",
            "53         9.94  1.56    Male     No   Sun  Dinner     2\n",
            "65        20.08  3.15    Male     No   Sat  Dinner     3\n",
            "157       25.00  3.75  Female     No   Sun  Dinner     4\n",
            "212       48.33  9.00    Male     No   Sat  Dinner     4\n",
            "10        10.27  1.71    Male     No   Sun  Dinner     2\n",
            "64        17.59  2.64    Male     No   Sat  Dinner     3\n",
            "89        21.16  3.00    Male     No  Thur   Lunch     2\n",
            "71        17.07  3.00  Female     No   Sat  Dinner     3\n",
            "30         9.55  1.45    Male     No   Sat  Dinner     2\n",
            "3         23.68  3.31    Male     No   Sun  Dinner     2\n",
            "163       13.81  2.00    Male     No   Sun  Dinner     2\n",
            "84        15.98  2.03    Male     No  Thur   Lunch     2\n",
            "217       11.59  1.50    Male    Yes   Sat  Dinner     2\n",
            "191       19.81  4.19  Female    Yes  Thur   Lunch     2\n"
          ],
          "name": "stdout"
        }
      ]
    },
    {
      "cell_type": "code",
      "metadata": {
        "id": "B0zIeo_aaCyq",
        "colab_type": "code",
        "outputId": "dab4d04b-86c8-46eb-88fb-0d320b8eb1e1",
        "colab": {
          "base_uri": "https://localhost:8080/",
          "height": 34
        }
      },
      "source": [
        "def two_sample_t_test(sample1, sample2):\n",
        "  # Calculate important values\n",
        "  sample1 = np.array(sample1)\n",
        "  sample2 = np.array(sample2)\n",
        "  n1 = len(sample1)\n",
        "  n2 = len(sample2)\n",
        "  x_bar1 = np.mean(sample1)\n",
        "  x_bar2 = np.mean(sample2)\n",
        "  s1 = np.std(sample1, ddof=1)\n",
        "  s2 = np.std(sample2, ddof=1)\n",
        "\n",
        "  # our degrees of freedom with a two-sample test \n",
        "  # is calculated differently than in a one-sample t-test.\n",
        "  dof = n1 + n2 - 2\n",
        "\n",
        "  # Calculate t-statistic\n",
        "  t = ((x_bar1 - x_bar2) / np.sqrt((s1**2/n1) + (s2**2/n2)))\n",
        "  # make sure t statistic is negative\n",
        "  t = -np.abs(t)\n",
        "  \n",
        "  # Calculate p-value\n",
        "  p_value = 2*(stats.t.cdf(t, dof))\n",
        "\n",
        "  return (t, p_value)\n",
        "\n",
        "two_sample_t_test(sample1['total_bill'], sample2['total_bill'])"
      ],
      "execution_count": 0,
      "outputs": [
        {
          "output_type": "execute_result",
          "data": {
            "text/plain": [
              "(-0.3112323110552906, 0.7573250608337299)"
            ]
          },
          "metadata": {
            "tags": []
          },
          "execution_count": 87
        }
      ]
    },
    {
      "cell_type": "code",
      "metadata": {
        "id": "SMPzvOAjbY4X",
        "colab_type": "code",
        "outputId": "dc31e642-6f80-47b6-edd4-47c925002fbd",
        "colab": {
          "base_uri": "https://localhost:8080/",
          "height": 34
        }
      },
      "source": [
        "# Confirm the result with scipy\n",
        "stats.ttest_ind(sample1['total_bill'], sample2['total_bill'])"
      ],
      "execution_count": 0,
      "outputs": [
        {
          "output_type": "execute_result",
          "data": {
            "text/plain": [
              "Ttest_indResult(statistic=-0.31123231105529053, pvalue=0.7573250608337301)"
            ]
          },
          "metadata": {
            "tags": []
          },
          "execution_count": 88
        }
      ]
    },
    {
      "cell_type": "markdown",
      "metadata": {
        "id": "aHadFKVSbhhg",
        "colab_type": "text"
      },
      "source": [
        "The p-value lookup for a two-sample t-test happens in exactly the same way as it does in a 1-sample t-test, the only difference is that our degrees of freedom is specified differently.\n",
        "\n",
        "degrees of freedom = n1 + n2 - 2\n",
        "\n",
        "![two sample t-stat to p-value](https://lambdachops.com/img/two-sample-t-stat-to-p-value.png)\n",
        "\n",
        "Again we will need to double the p-value as shown in the above image to account for hte fact that we are conducting a two-sided test. This is because the p-value lookup functionality of `stats.t.cdf()` is one-sided.\n",
        "\n",
        "---"
      ]
    },
    {
      "cell_type": "markdown",
      "metadata": {
        "id": "wEhsmUlzajgy",
        "colab_type": "text"
      },
      "source": [
        "# What does the Normal Distribution Represent?"
      ]
    },
    {
      "cell_type": "markdown",
      "metadata": {
        "id": "GZeGZHp4H8uY",
        "colab_type": "text"
      },
      "source": [
        "\n",
        "\n",
        "## The Normal Distribution as a \"Probability Density Function\" (PDF)\n",
        "\n",
        "Both the Normal distribution and the t-distribution are Probability Density Functions or PDFs. This means that the area under the curve represents probability and as such the total area under the curve is equal to 1. If we pick two values along the x-axis, we can use these curves to calculate the probability of seeing a value between those two values. \n",
        "\n",
        "![Normal and Standard Normal Curves](https://calcworkshop.com/wp-content/uploads/standard-normal-distribution-curve.png)\n",
        "\n",
        "The vertical lines within the normal distributions above represent cuttoffs in increments of 1 standard deviation (sigma, $\\sigma$). \n",
        "\n",
        "This means that from 1 standard deviation below the mean to 1 standard deviation above the mean, 68% of the probability is contained within that region. 95% is contained between plus or minus 2 standard deviations from the mean, and 99.7% between plus or minus 3 standard deviations from the mean. Say that my mean is 5 and the standard deviation is 2:\n",
        "\n",
        "$\\mu = 5$\n",
        "\n",
        "$\\sigma = 2$\n",
        "\n",
        "What is the probability of us seeing a value between 3 and 7? -> 64%\n",
        "\n",
        "What is the probability of us seeing a value between 1 and 9? -> 95%\n",
        "\n",
        "What is the probability of us seeing a value between 5 and 7? -> 34%\n",
        "\n",
        "The usefulness of these curves comes from being able to calculate probabilities by picking vertical cutoffs in this manner.\n",
        "\n",
        "\n",
        "\n",
        "\n",
        "\n"
      ]
    },
    {
      "cell_type": "markdown",
      "metadata": {
        "id": "JBnFJ8gLam1D",
        "colab_type": "text"
      },
      "source": [
        "## When working with the normal distribution we sometimes reference datapoints in terms of the number of standard deviations that they lie from the mean. We call this their \"z-score.\"\n",
        "\n",
        "It is very common when dealing with the normal distribution to define data points in terms of the number of standard deviations away from the mean. \n",
        "\n",
        "I have a datapoint of 8. How many standard deviations is that away from the mean? -> 1.5\n",
        "\n",
        "I have a datapoint of 3. How many standard deviations is that value away from the mean? -> -1\n",
        "\n",
        "One more time: a z-score of a given data point is the number of standard deviations that it falls away from the mean.\n",
        "\n",
        "![Relevant Z-Score Equations](https://ncalculators.com/images/formulas/z-score-formula.jpg)\n",
        "\n",
        "A reminder, that when I'm dealing with **population parameters** I use the following notation:\n",
        "\n",
        "Population Mean: $\\mu$\n",
        "\n",
        "Population Standard Deviation: $\\sigma$\n",
        "\n",
        "When I'm dealing with **sample statistics** I use the following notation:\n",
        "\n",
        "Sample Mean: $\\bar{x}$\n",
        "\n",
        "Sample Standard Deviation: $s$"
      ]
    },
    {
      "cell_type": "markdown",
      "metadata": {
        "id": "jzKpnUqa2blz",
        "colab_type": "text"
      },
      "source": [
        "# Why does the T-test use a T-distribution instead of a Normal Distribution?\n",
        "\n",
        "The shape of the t-distribution changes based on the degrees of freedom (n-1) that we're using. In the graphic below we see t distributions with 1, 2, and 5 degrees of freedom in yellow, purple and blue --respectively. The black line is the normal distribution. \n",
        "\n",
        "Notice that as the degrees of freedom increases the t-distribution becomes closer and closer to the normal distribution. With a large number of degrees of freedom the t-distribution becomes negligibly different from the normal distribution.\n",
        "\n",
        "![t and normal distributions](https://upload.wikimedia.org/wikipedia/commons/thumb/4/41/Student_t_pdf.svg/650px-Student_t_pdf.svg.png)\n",
        "\n",
        "In our discussions we have skipped nearly entirely (except for my short explanation above) over a type of hypothesis test called a z-test. This is a test that works nearly identically to t-tests, but uses the normal distribution and z-scores instead of the t-distribution and t-statistics. \n",
        "\n",
        "The same reason why we haven't covered it is the reason why the t distribution has fatter tails, a shorter peak, and approximates the normal distribution as the sample size increases. Here's the explanation:\n",
        "\n",
        "\n",
        "\n",
        "\n",
        "\n",
        "\n",
        "\n",
        "\n",
        "\n",
        "\n"
      ]
    },
    {
      "cell_type": "markdown",
      "metadata": {
        "id": "WgMftLK8cLTu",
        "colab_type": "text"
      },
      "source": [
        "## Lets take a look at the equation for a z-statistic that we would use to do a z-test:\n",
        "\n",
        "![z statistic equation](https://lambdachops.com/img/z-statistic-equation.png)\n",
        "\n",
        "Where:\n",
        "\n",
        "- $\\bar{x}$ is the sample mean\n",
        "- $\\mu$ is the population mean\n",
        "- $\\sigma$ is the population standard deviation\n",
        "- $n$ is the sample size"
      ]
    },
    {
      "cell_type": "markdown",
      "metadata": {
        "id": "OXov4nmZ2sGL",
        "colab_type": "text"
      },
      "source": [
        "# What are the parts of a t-test?\n",
        "1) Null Hypothesis:\n",
        "\n",
        " - For 1-sample: Sample mean is equal to some expected value\n",
        " - For 2-sample: Sample means are equal to each other\n",
        "\n",
        "The null hypothesis is often called the \"ordinary\" or \"boring\" hypothesis. If this hypothesis is correct then there is no difference between what we have hypothesized and what we observed in our sample. \n",
        "\n",
        "The null hypothesis can also be viewed as the statement that any differences between means could be explained away solely by the random variability of the sampling process.\n",
        "\n",
        "2) Alternative Hypothesis: \n",
        "\n",
        "With t-tests for means, the alternative hypothesis is the opposite of the null hypothesis.\n",
        "\n",
        " - For 1-sample: The sample mean is not equal to some expected value.\n",
        " - For 2-sample: The sample means are not equal to each other. \n",
        "\n",
        "The alternative hypothesis can be viewed as the statement that the differences between the two values are so large that it is unlikely that we would have observed data leading to those values simply due to random variability. \n",
        "\n",
        "3) Confidence Level: \n",
        "\n",
        "Before we conduct a hypothesis test we choose a Confidence Level. The confidence level indicates what percentage of the time we want to capture the true parameter. Due to randomness, we can't capture it 100% of the time. In other words, a confidence interval of 95% says that we're willing to allow random variability to cause us to unluckily reach the wrong conclusion 5% of the time or in 1/20 tests --on average. \n",
        "\n",
        "The higher confidence level that we can use and still find a significant result, the better. Common choices of confidence levels are the 95%, 99% and 99.9% levels. The 95% confidence level is commonly used. \n",
        "\n",
        "___\n",
        "** **Run T-test** **\n",
        "___\n",
        "4) T-statistic:\n",
        "\n",
        ">In statistics, the t-statistic is the ratio of the departure of the estimated value of a parameter from its hypothesized value to its standard error. <https://en.wikipedia.org/wiki/T-statistic>\n",
        "\n",
        "5) P-value:\n",
        "\n",
        "The p-value is the probability of observing our sample mean(s) if the null hypothesis is true. \n",
        "\n",
        "A low p-value typically means that our sample means are far apart. Sufficiently far apart for it to be unlikely that this separation is due to random chance or \"bad luck.\"\n",
        "\n",
        "A high p-value indicates the opposite, that our means are likely. close together and differences between the two means cannot be cleanly be attributed attributed to anything other than random variability.\n",
        "\n",
        "6) Conclusion\n",
        "\n",
        "After we run our t-test we write out a formal conclusion where we report our t-statistic, and our p-value and report whether or not we reject or fail to reject the null hypothesis based on whether or not we found a statistically significant result. It is usually good to accompany the technical language here with a more layman's terms explanation of the conclusion as well.\n",
        " \n",
        "If our p-value is less than (1 - confidence_level) then we will **reject** the null hypothesis (and suggest the alternative hypothesis) since it is unlikely that the null hypothesis is true given the data that we have observed.\n",
        "\n",
        "If our p value is greater than (1 - confidence interval) then we will **fail to reject** the null hypothesis. We do not \"accept\" the null hypothesis. T-tests are not difinitive, we are allowing ourselves to come to the wrong conclusion a certain percentage of the time due to randomness. When we fail to reject the null hypothesis, we are acknowledging that perhaps it would still be rejected if more data were gathered. "
      ]
    },
    {
      "cell_type": "markdown",
      "metadata": {
        "id": "HxCzQBkKcH1I",
        "colab_type": "text"
      },
      "source": [
        "## Now lets look at the equation for a t-statistic that we would use to do a t-test:\n",
        "\n",
        "![t statistic equation](https://lambdachops.com/img/t-statistic-equation.png)\n",
        "\n",
        "Where:\n",
        "\n",
        "- $\\bar{x}$ is the sample mean\n",
        "- $\\mu$ is the sample mean\n",
        "- $s$ is the sample standard deviation\n",
        "- $n$ is the sample size\n",
        "\n",
        "WHAT IS THE ONLY DIFFERENCE BETWEEN THE TWO EQUATIONS???\n",
        "\n",
        "The t-statistic uses the **sample** standard deviation but the z-statistic equation uses the **population** standard deviation.\n",
        "\n",
        "Here's the million dollar question: What would you need in order to calculate the population standard deviation? Well... YOU WOULD NEED EVERY DATA POINT IN THE POPULATION! \n",
        "\n",
        "In practice we will almost never have the population standard deviation at our disposal. Due to this, z-tests (for means) are not useful in applied settings. The t-test is what gets used in the real world.\n",
        "\n",
        "*There are some other kinds of z-tests like a z-test --for proportions-- that are still useful, but even so somewhat rare.*"
      ]
    },
    {
      "cell_type": "markdown",
      "metadata": {
        "id": "W5bki_QKb0UD",
        "colab_type": "text"
      },
      "source": [
        "## Why does the t distribution have fatter tails and a shorter peak for small sample sizes?\n",
        "\n",
        "The t-distribution is shorter and has fatter tails because whereas the population standard deviation is just a number gets provided to you out of thin air in textbooks, the **sample** standard deviation is an ESTIMATE. We talked about estimates quite a lot when we talked about confidence intervals. Anytime that we're estimating something that estimate is subject to randomness and variability and as such has its own standard error -it has an implicit distribution with a spread, it's not just a single number. This means that we're not **exactly** sure where the sample standard deviation is, we only have an estimate. \n",
        "\n",
        "The major difference between the t-distribution and the normal distribution is that the t-distribution has to account for the added ambiguity of a **sample** standard deviation **estimate**, hence it is a little bit more spread out. \n",
        "\n",
        "What happens as the sample size increases? As the sample size increases, the estimate of the sample standard deviation becomes more precise and the t-distribution starts to morph into the normal distribution.\n",
        "\n",
        "**In short, we're learning about t-tests and not z-tests because z-tests require the population standard deviation be known. This is not realistic so instead of using the population standard deviation we'll use the next best thing --the sample standard deviation.** \n",
        "\n",
        "**The sample standard deviation is not not simply a value, but an ESTIMATE of a value with its own spread/standard error and hence: z-tests are not practical, and the t-distribution has fatter tails and is a little stubbier until we reach sample sizes that that more sufficiently estimate the sample standard deviation.**"
      ]
    }
  ]
}