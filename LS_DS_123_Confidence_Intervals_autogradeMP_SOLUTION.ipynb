{
  "nbformat": 4,
  "nbformat_minor": 0,
  "metadata": {
    "colab": {
      "name": "LS_DS_123_Confidence_Intervals_autogradeMP_SOLUTION.ipynb",
      "provenance": [],
      "collapsed_sections": [],
      "include_colab_link": true
    },
    "kernelspec": {
      "display_name": "Python 3",
      "language": "python",
      "name": "python3"
    },
    "language_info": {
      "codemirror_mode": {
        "name": "ipython",
        "version": 3
      },
      "file_extension": ".py",
      "mimetype": "text/x-python",
      "name": "python",
      "nbconvert_exporter": "python",
      "pygments_lexer": "ipython3",
      "version": "3.7.4"
    }
  },
  "cells": [
    {
      "cell_type": "markdown",
      "metadata": {
        "id": "view-in-github",
        "colab_type": "text"
      },
      "source": [
        "<a href=\"https://colab.research.google.com/github/johhan27/DS-Unit-1-Sprint-2-Statistics/blob/master/LS_DS_123_Confidence_Intervals_autogradeMP_SOLUTION.ipynb\" target=\"_parent\"><img src=\"https://colab.research.google.com/assets/colab-badge.svg\" alt=\"Open In Colab\"/></a>"
      ]
    },
    {
      "cell_type": "markdown",
      "metadata": {
        "id": "P4rI6iVUC8qi"
      },
      "source": [
        "## Autograded Notebook (Canvas & CodeGrade)\n",
        "\n",
        "This notebook will be automatically graded. It is designed to test your answers and award points for the correct answers. Following the instructions for each Task carefully.\n",
        "\n",
        "### Instructions\n",
        "\n",
        "* **Download this notebook** as you would any other ipynb file\n",
        "* **Upload** to Google Colab or work locally (if you have that set-up)\n",
        "* **Delete `raise NotImplementedError()`**\n",
        "* Write your code in the `# YOUR CODE HERE` space\n",
        "* **Execute** the Test cells that contain `assert` statements - these help you check your work (others contain hidden tests that will be checked when you submit through Canvas)\n",
        "* **Save** your notebook when you are finished\n",
        "* **Download** as a `ipynb` file (if working in Colab)\n",
        "* **Upload** your complete notebook to Canvas (there will be additional instructions in Slack and/or Canvas)"
      ]
    },
    {
      "cell_type": "markdown",
      "metadata": {
        "id": "eI13byJQrZgw"
      },
      "source": [
        "# Lambda School Data Science - Unit 1 Sprint 2 Module 3\n",
        "\n",
        "## Module Project: Sampling and Confidence Intervals\n",
        "\n",
        "### Objectives\n",
        "\n",
        "* Objective 01 - explain the concepts of statistical estimate, precision, and standard error as they apply to inferential statistics\n",
        "* Objective 02 - explain the implications of the central limit theorem in inferential statistics\n",
        "* Objective 03 - explain the purpose of and identify applications for confidence intervals\n",
        "* Objective 04 - demonstrate how to build a confidence interval around a sample estimate\n",
        "* Objective 05 - visualize a confidence interval in order to communicate the precision of sample estimates\n",
        "\n",
        "#### Total notebook points: 8"
      ]
    },
    {
      "cell_type": "markdown",
      "metadata": {
        "id": "g_c3L9CeANiJ"
      },
      "source": [
        "## Introduction\n",
        "\n",
        "### Confidence Intervals\n",
        "\n",
        "Soft drinks like Coke and Pepsi are manufactured to have a standard caffeine content. For example, a 12-oz serving of Coke has 34mg of caffeine, and a 12-oz serving of Pepsi has 37.6mg of caffeine. However, fountain soft drinks are typically mixed in individual restaurant dispensers, so it is more difficult to maintain a standard level of caffeine per serving. \n",
        "\n",
        "In this study, researchers randomly sampled Coke, Diet Coke, Pepsi, and Diet Pepsi at a set of franchise restaurants and measured the caffeine content in 12oz of each soft drink.\n",
        "\n",
        "Because individuals can be sensitive to caffeine – and because the manufacturers are interested in product consistency – **we wish to estimate the mean caffeine content in 12oz of Coke served in franchise restaurants using a 95% confidence interval.** \n",
        "\n",
        "\n",
        "### Data set\n",
        "\n",
        "The data set for Coke is available at the link provided below. The first variable is the sample ID and the second variable is the caffeine content (in mg) in the 12oz sample.\n",
        "\n",
        "*Source: A.N. Garand and L.N. Bell (1997). \"Caffeine Content of Fountain and Private-Label Store Brand Carbonated Beverages,\" Journal of the American Dietetic Association, Vol. 97, #2, pp. 179-182.*"
      ]
    },
    {
      "cell_type": "markdown",
      "metadata": {
        "id": "oaJpAIakUo31"
      },
      "source": [
        "**Task 1** - Load the data\n",
        "\n",
        "Load the dataset using the provided URL\n",
        "\n",
        "* Read in your data as a pandas DataFrame with the variable name `coke_df`\n",
        "* Use the `.head()` method to take a look at the DataFrame"
      ]
    },
    {
      "cell_type": "code",
      "metadata": {
        "deletable": false,
        "id": "yXwMJQGrAIbO",
        "nbgrader": {
          "cell_type": "code",
          "checksum": "39fa2cb7c4f5c5bf61c00a1c1e4c765c",
          "grade": false,
          "grade_id": "cell-fca1a016c0983805",
          "locked": false,
          "schema_version": 3,
          "solution": true,
          "task": false
        },
        "colab": {
          "base_uri": "https://localhost:8080/",
          "height": 201
        },
        "outputId": "a1d6ebe7-9bb5-4a2d-96d6-3c9b3a19e939"
      },
      "source": [
        "# Task 1\n",
        "\n",
        "# Imports\n",
        "import pandas as pd\n",
        "import numpy as np\n",
        "import scipy.stats as stats\n",
        "\n",
        "# URL for the data\n",
        "data_url = 'https://raw.githubusercontent.com/LambdaSchool/data-science-practice-datasets/main/unit_1/Soda/Soda.csv'\n",
        "\n",
        "# YOUR CODE HERE\n",
        "\n",
        "coke_df = pd.read_csv(data_url)\n",
        "\n",
        "# Look at your DataFrame\n",
        "coke_df.tail()"
      ],
      "execution_count": 14,
      "outputs": [
        {
          "output_type": "execute_result",
          "data": {
            "text/html": [
              "<div>\n",
              "<style scoped>\n",
              "    .dataframe tbody tr th:only-of-type {\n",
              "        vertical-align: middle;\n",
              "    }\n",
              "\n",
              "    .dataframe tbody tr th {\n",
              "        vertical-align: top;\n",
              "    }\n",
              "\n",
              "    .dataframe thead th {\n",
              "        text-align: right;\n",
              "    }\n",
              "</style>\n",
              "<table border=\"1\" class=\"dataframe\">\n",
              "  <thead>\n",
              "    <tr style=\"text-align: right;\">\n",
              "      <th></th>\n",
              "      <th>Drink</th>\n",
              "      <th>Caffeine</th>\n",
              "    </tr>\n",
              "  </thead>\n",
              "  <tbody>\n",
              "    <tr>\n",
              "      <th>45</th>\n",
              "      <td>46</td>\n",
              "      <td>32.30</td>\n",
              "    </tr>\n",
              "    <tr>\n",
              "      <th>46</th>\n",
              "      <td>47</td>\n",
              "      <td>29.93</td>\n",
              "    </tr>\n",
              "    <tr>\n",
              "      <th>47</th>\n",
              "      <td>48</td>\n",
              "      <td>28.43</td>\n",
              "    </tr>\n",
              "    <tr>\n",
              "      <th>48</th>\n",
              "      <td>49</td>\n",
              "      <td>35.34</td>\n",
              "    </tr>\n",
              "    <tr>\n",
              "      <th>49</th>\n",
              "      <td>50</td>\n",
              "      <td>30.64</td>\n",
              "    </tr>\n",
              "  </tbody>\n",
              "</table>\n",
              "</div>"
            ],
            "text/plain": [
              "    Drink  Caffeine\n",
              "45     46     32.30\n",
              "46     47     29.93\n",
              "47     48     28.43\n",
              "48     49     35.34\n",
              "49     50     30.64"
            ]
          },
          "metadata": {
            "tags": []
          },
          "execution_count": 14
        }
      ]
    },
    {
      "cell_type": "markdown",
      "metadata": {
        "id": "sw11mT4jC8qu"
      },
      "source": [
        "**Task 1 - Test**"
      ]
    },
    {
      "cell_type": "code",
      "metadata": {
        "deletable": false,
        "editable": false,
        "nbgrader": {
          "cell_type": "code",
          "checksum": "cf81214a607ac74d51a62bc2803b7a59",
          "grade": true,
          "grade_id": "cell-452f06bde3155ced",
          "locked": true,
          "points": 1,
          "schema_version": 3,
          "solution": false,
          "task": false
        },
        "id": "Aa7O7R0GC8qv"
      },
      "source": [
        "# Task 1 Test\n",
        "\n",
        "assert isinstance(coke_df, pd.DataFrame), 'Have you created a DataFrame named `coke_df`?'\n"
      ],
      "execution_count": null,
      "outputs": []
    },
    {
      "cell_type": "markdown",
      "metadata": {
        "id": "wOQ-9E8uYcni"
      },
      "source": [
        "**Task 2** - Descriptive statistics\n",
        "\n",
        "Calculate the following statistical quantities for the `Caffeine` content column. Name your variables as indicated (they need to be an exact match to pass the tests)\n",
        "\n",
        "* mean - `mean_caffeine`\n",
        "* standard deviation - `std_caffeine`\n",
        "* standard error - `se_caffeine`\n",
        "* number of samples - `n_caffeine`\n",
        "\n",
        "Summarize your results in a sentence or two."
      ]
    },
    {
      "cell_type": "code",
      "metadata": {
        "deletable": false,
        "id": "m1vuFGxVQo64",
        "nbgrader": {
          "cell_type": "code",
          "checksum": "3668085b369d536693641a4e4aa1f9a9",
          "grade": false,
          "grade_id": "cell-e81d4e8fe2cef23f",
          "locked": false,
          "schema_version": 3,
          "solution": true,
          "task": false
        }
      },
      "source": [
        "# Task 2\n",
        "\n",
        "# Name your varaibles exactly as specified in the task\n",
        "\n",
        "# YOUR CODE HERE\n",
        "mean_caffeine = coke_df['Caffeine'].mean()\n",
        "std_caffeine = coke_df['Caffeine'].std()\n",
        "se_caffeine = coke_df['Caffeine'].sem()\n",
        "n_caffeine = len(coke_df)\n"
      ],
      "execution_count": null,
      "outputs": []
    },
    {
      "cell_type": "code",
      "metadata": {
        "colab": {
          "base_uri": "https://localhost:8080/"
        },
        "id": "lnJVLCT-HLzZ",
        "outputId": "917f0210-c5e0-448f-f637-eb0f867191fa"
      },
      "source": [
        "print (mean_caffeine, std_caffeine, se_caffeine, n_caffeine)"
      ],
      "execution_count": 9,
      "outputs": [
        {
          "output_type": "stream",
          "text": [
            "37.9402 5.243756828216712 0.7415792024250598 50\n"
          ],
          "name": "stdout"
        }
      ]
    },
    {
      "cell_type": "markdown",
      "metadata": {
        "id": "DDwDzRbKC8qy"
      },
      "source": [
        "**Task 2 - Test**"
      ]
    },
    {
      "cell_type": "code",
      "metadata": {
        "deletable": false,
        "editable": false,
        "nbgrader": {
          "cell_type": "code",
          "checksum": "f0136617a7b3677763650a2cbb30de02",
          "grade": true,
          "grade_id": "cell-735bc35d5a378801",
          "locked": true,
          "points": 1,
          "schema_version": 3,
          "solution": false,
          "task": false
        },
        "id": "xhN2ZuQXC8qy"
      },
      "source": [
        "# Task 2 Test\n",
        "\n",
        "assert n_caffeine == 50, 'Did you correctly calculate the number of samples?'\n"
      ],
      "execution_count": null,
      "outputs": []
    },
    {
      "cell_type": "markdown",
      "metadata": {
        "id": "y2Rz-8O-YmF9"
      },
      "source": [
        "**Task 2** - ANSWER\n",
        "\n",
        "Using the statistics you calculated above, write out your answer in words. Use the following format:\n",
        "\n",
        "*Example: The mean caffeine content is XXmg per 12oz serving with a standard error of XXmg. The sample size is XX.*\n",
        "\n",
        "This task will not be autograded - but it is part of completing the project.\n",
        "\n",
        "YOUR ANSWER"
      ]
    },
    {
      "cell_type": "markdown",
      "metadata": {
        "id": "RySL5E7GEHGf"
      },
      "source": [
        "**Task 3** - Calculate t*\n",
        "\n",
        "For this task you will calculate t* for a 95% confidence interval.\n",
        "\n",
        "* set the variable `deg_free` equal to the degrees of freedom for the `Caffeine` variable\n",
        "* set the variable `t_star` equal to t* using `t.ppf(q, df)` with `q=0.975` and `df = deg_free`\n",
        "\n",
        "Note: Don't worry about where the 0.975 value comes from - it relates to finding the *middle* of the 95% t-distribution. We're going to learn how to calculate the 95% confidence interval an easier way in the next exercise."
      ]
    },
    {
      "cell_type": "code",
      "metadata": {
        "deletable": false,
        "id": "ti9x37XSQ_yL",
        "nbgrader": {
          "cell_type": "code",
          "checksum": "0c1566fe385fd6336d3d59966d668163",
          "grade": false,
          "grade_id": "cell-ab557b231ecefc1d",
          "locked": false,
          "schema_version": 3,
          "solution": true,
          "task": false
        },
        "colab": {
          "base_uri": "https://localhost:8080/"
        },
        "outputId": "a874a6ca-7c47-4371-99e0-c89fa5180330"
      },
      "source": [
        "# Task 3\n",
        "\n",
        "from scipy.stats import t\n",
        "\n",
        "# YOUR CODE HERE\n",
        "\n",
        "deg_free = n_caffeine-1\n",
        "t_star = t.ppf(0.975, deg_free)\n",
        "\n",
        "# View your answer\n",
        "print('t_star =', t_star)"
      ],
      "execution_count": 7,
      "outputs": [
        {
          "output_type": "stream",
          "text": [
            "t_star = 2.009575234489209\n"
          ],
          "name": "stdout"
        }
      ]
    },
    {
      "cell_type": "markdown",
      "metadata": {
        "id": "m83gLBE9C8q1"
      },
      "source": [
        "**Task 3 - Test**"
      ]
    },
    {
      "cell_type": "code",
      "metadata": {
        "deletable": false,
        "editable": false,
        "nbgrader": {
          "cell_type": "code",
          "checksum": "88d7b978c0c98f74141ce91b18028d8f",
          "grade": true,
          "grade_id": "cell-ea70eb8f030c2f57",
          "locked": true,
          "points": 1,
          "schema_version": 3,
          "solution": false,
          "task": false
        },
        "id": "k5X2Dge_C8q2"
      },
      "source": [
        "# Task 3 Test\n",
        "# Hidden tests - you will see the results when you submit to Canvas"
      ],
      "execution_count": null,
      "outputs": []
    },
    {
      "cell_type": "markdown",
      "metadata": {
        "id": "AddooPk1JBvQ"
      },
      "source": [
        "**Task 4** - Margin of error\n",
        "\n",
        "In this task you'll calculate the margin of error for a 95% confidence interval (CI) for the mean caffeine content in a 12-oz Coke.\n",
        "\n",
        "* Assign the margin of error for a 95% CI to the variable `margin_err`\n",
        "\n",
        "Hint: You already have the value for t* for a 95% CI and the standard error"
      ]
    },
    {
      "cell_type": "code",
      "metadata": {
        "deletable": false,
        "id": "IjjYtXodJW-b",
        "nbgrader": {
          "cell_type": "code",
          "checksum": "0ecab63b5b368345a097f5b7cd2a7b9c",
          "grade": false,
          "grade_id": "cell-fe91f19c7d908552",
          "locked": false,
          "schema_version": 3,
          "solution": true,
          "task": false
        },
        "colab": {
          "base_uri": "https://localhost:8080/"
        },
        "outputId": "fa3c1b43-2b70-49f6-a0fc-229e0d55f4d5"
      },
      "source": [
        "# Task 4\n",
        "\n",
        "# YOUR CODE HERE\n",
        "\n",
        "margin_err = t_star*se_caffeine\n",
        " \n",
        "\n",
        "# View your answer\n",
        "print('Margin of error = ', margin_err)"
      ],
      "execution_count": 8,
      "outputs": [
        {
          "output_type": "stream",
          "text": [
            "Margin of error =  1.49025919960566\n"
          ],
          "name": "stdout"
        }
      ]
    },
    {
      "cell_type": "markdown",
      "metadata": {
        "id": "VJPdqIMCC8q4"
      },
      "source": [
        "**Task 4 - Test**"
      ]
    },
    {
      "cell_type": "code",
      "metadata": {
        "deletable": false,
        "editable": false,
        "nbgrader": {
          "cell_type": "code",
          "checksum": "5c96289d4b49fb3a3fca60fd6fc7517b",
          "grade": true,
          "grade_id": "cell-2258dd78f578b1be",
          "locked": true,
          "points": 1,
          "schema_version": 3,
          "solution": false,
          "task": false
        },
        "id": "KOW_itTaC8q4"
      },
      "source": [
        "# Task 4 Test\n",
        "# Hidden tests - you will see the results when you submit to Canvas"
      ],
      "execution_count": null,
      "outputs": []
    },
    {
      "cell_type": "markdown",
      "metadata": {
        "id": "ePBmVZU7N2nq"
      },
      "source": [
        "**Task 4** - ANSWER\n",
        "\n",
        "Using the margin of error you calculated above, write out your answer in words. Use the following format:\n",
        "\n",
        "*Example: The margin of error is XXmg of caffeine per 12oz serving*\n",
        "\n",
        "This task will not be autograded - but it is part of completing the project.\n",
        "\n",
        "YOUR ANSWER\n",
        "\n",
        "***The margin of error is 1.49mg of caffeine per 12oz serving***"
      ]
    },
    {
      "cell_type": "markdown",
      "metadata": {
        "id": "AtGASqgxYp5t"
      },
      "source": [
        "**Task 5** - Calculate a confidence interval\n",
        "\n",
        "For this task, you are going to calculate a 95% CI for the mean caffeine content in a 12-oz fountain Coke with the CI formula using the summary statistics and t* that you calculated above.\n",
        "\n",
        "* Calculate the lower confidence level and assign it to `lower_cl`\n",
        "* Calculate the upper confidence level and assign it to `upper_cl`"
      ]
    },
    {
      "cell_type": "code",
      "metadata": {
        "deletable": false,
        "id": "JPUE0osGEw0M",
        "nbgrader": {
          "cell_type": "code",
          "checksum": "0fa2db14b771419a2f02dceefe78cd48",
          "grade": false,
          "grade_id": "cell-2ee7b7b25af4e5fc",
          "locked": false,
          "schema_version": 3,
          "solution": true,
          "task": false
        },
        "colab": {
          "base_uri": "https://localhost:8080/"
        },
        "outputId": "eb9924e5-5f2f-4c0e-e34f-8baf2b1c940e"
      },
      "source": [
        "# Task 5\n",
        "\n",
        "# YOUR CODE HERE\n",
        "\n",
        "lower_cl = mean_caffeine - margin_err\n",
        "upper_cl = mean_caffeine + margin_err\n",
        "\n",
        "# View your answers\n",
        "print ('Lower confidence limit =', lower_cl)\n",
        "print ('Upper confidence limit =', upper_cl)"
      ],
      "execution_count": 10,
      "outputs": [
        {
          "output_type": "stream",
          "text": [
            "Lower confidence limit = 36.44994080039434\n",
            "Upper confidence limit = 39.43045919960566\n"
          ],
          "name": "stdout"
        }
      ]
    },
    {
      "cell_type": "markdown",
      "metadata": {
        "id": "ncisb8vqC8q6"
      },
      "source": [
        "**Task 5 - Test**"
      ]
    },
    {
      "cell_type": "code",
      "metadata": {
        "deletable": false,
        "editable": false,
        "nbgrader": {
          "cell_type": "code",
          "checksum": "32d290e8e61b347efcab0440ff17e750",
          "grade": true,
          "grade_id": "cell-8ea440c5365e886d",
          "locked": true,
          "points": 1,
          "schema_version": 3,
          "solution": false,
          "task": false
        },
        "id": "RX-38imAC8q7"
      },
      "source": [
        "# Task 5 Test\n",
        "# Hidden tests - you will see the results when you submit to Canvas"
      ],
      "execution_count": null,
      "outputs": []
    },
    {
      "cell_type": "markdown",
      "metadata": {
        "id": "JL7aMvF1C8q8"
      },
      "source": [
        "**Task 5** - ANSWER\n",
        "\n",
        "Write out the confidence interval you just calculated. Use the following format:\n",
        "\n",
        "*Example: The true mean of the caffeine content is between [lower CL, upper CL]*\n",
        "\n",
        "This task will not be autograded - but it is part of completing the project.\n",
        "\n",
        "YOUR ANSWER\n",
        "\n",
        "***The true mean of the caffeine content is between [36.45, 39.43] ***"
      ]
    },
    {
      "cell_type": "markdown",
      "metadata": {
        "id": "gAKJlaMyEzVz"
      },
      "source": [
        "**Task 6** - 95% confidence interval using t-interval\n",
        "\n",
        "As promised in Task 4, we're going to calculate the confidence interval the easy way. We'll use the `t.interval()` function to calculate the 95% confidence interval.\n",
        "\n",
        "* Assign the confidence interval to `t_int_95`\n",
        "* `alpha` should be set equal to the confidence level\n",
        "* `df` is the degrees of freedom\n",
        "* `loc` is the sample mean\n",
        "* `scale` is the standard deviation of the distribution"
      ]
    },
    {
      "cell_type": "code",
      "metadata": {
        "deletable": false,
        "id": "GSo4uKWVFKwQ",
        "nbgrader": {
          "cell_type": "code",
          "checksum": "6986f57ed311466fa56e72c8cdc3932f",
          "grade": false,
          "grade_id": "cell-305db71f92847f07",
          "locked": false,
          "schema_version": 3,
          "solution": true,
          "task": false
        },
        "colab": {
          "base_uri": "https://localhost:8080/"
        },
        "outputId": "762fb520-8f35-4c09-d13f-ca92b67a57fc"
      },
      "source": [
        "# Task 6\n",
        "\n",
        "# YOUR CODE HERE\n",
        "t_int_95 = t.interval(alpha=0.95, df=deg_free, loc=mean_caffeine, scale=se_caffeine)\n",
        "\n",
        "# View your answer\n",
        "print(t_int_95)"
      ],
      "execution_count": 16,
      "outputs": [
        {
          "output_type": "stream",
          "text": [
            "(36.44994080039434, 39.43045919960566)\n"
          ],
          "name": "stdout"
        }
      ]
    },
    {
      "cell_type": "markdown",
      "metadata": {
        "id": "n2rMMsKuC8q-"
      },
      "source": [
        "**Task 6 - Test**"
      ]
    },
    {
      "cell_type": "code",
      "metadata": {
        "deletable": false,
        "editable": false,
        "nbgrader": {
          "cell_type": "code",
          "checksum": "20c9d66c41cf66793dbbce5dacb18fc4",
          "grade": true,
          "grade_id": "cell-752d977ae5d519c5",
          "locked": true,
          "points": 1,
          "schema_version": 3,
          "solution": false,
          "task": false
        },
        "id": "sec2zu8zC8q-"
      },
      "source": [
        "# Task 6 Test\n",
        "\n",
        "# Hidden tests - you will see the results when you submit to Canvas"
      ],
      "execution_count": null,
      "outputs": []
    },
    {
      "cell_type": "markdown",
      "metadata": {
        "id": "6_TIX7h-C8q_"
      },
      "source": [
        "**Task 7** - Compare and interpret confidence intervals\n",
        "\n",
        "(This part is not graded and is practice for writing out your results.)\n",
        "\n",
        "Q1 - In this task, you are going to do your own test. Look at the two confidence intervals you calculated; are they equal? Should they be equal?\n",
        "\n",
        "***Yes, they are equal and should be equal since the difference is doing it manually vs using a library function***\n",
        "\n",
        "Q2 - Interpret the meaning of the 95% confidence interval for the mean caffeine content in the 12oz fountain Coke in a sentence or two.\n",
        "\n",
        "\n",
        "*** We are 95% confident that the mean caffeine content in the 12oz fountain Coke is between 36.45mg and 39.43mg***"
      ]
    },
    {
      "cell_type": "markdown",
      "metadata": {
        "id": "SpqgKQfTYvF0"
      },
      "source": [
        "**Task 8** - 90% confidence interval using t-interval\n",
        "\n",
        "Now that we've calculated a confidence interval at the 95% level, we'll repeat the calculation for a 90% confidence level.\n",
        "\n",
        "* assign the confidence interval to `t_int_90`\n",
        "* `alpha` is the confidence level\n",
        "* `df`, `loc`, `scale` are the same as for the first calculation"
      ]
    },
    {
      "cell_type": "code",
      "metadata": {
        "deletable": false,
        "id": "r1y1LE_dPAi6",
        "nbgrader": {
          "cell_type": "code",
          "checksum": "b7515456ef107982fab94eabdec08de8",
          "grade": false,
          "grade_id": "cell-a3a2e1cbb4072949",
          "locked": false,
          "schema_version": 3,
          "solution": true,
          "task": false
        },
        "colab": {
          "base_uri": "https://localhost:8080/"
        },
        "outputId": "1191966e-2e3c-4ec3-8129-e5a4b2a747a0"
      },
      "source": [
        "# Task 8\n",
        "\n",
        "# YOUR CODE HERE\n",
        "t_int_90 = t.interval(alpha=0.90, df=deg_free, loc=mean_caffeine, scale=se_caffeine)\n",
        "\n",
        "# View your answer\n",
        "print(t_int_90)"
      ],
      "execution_count": 17,
      "outputs": [
        {
          "output_type": "stream",
          "text": [
            "(36.696904726749196, 39.1834952732508)\n"
          ],
          "name": "stdout"
        }
      ]
    },
    {
      "cell_type": "markdown",
      "metadata": {
        "deletable": false,
        "editable": false,
        "nbgrader": {
          "cell_type": "markdown",
          "checksum": "95fe3ae434dad0372ba586ee30595f22",
          "grade": false,
          "grade_id": "cell-dc5dc02f2be6a3ef",
          "locked": true,
          "schema_version": 3,
          "solution": false,
          "task": false
        },
        "id": "IqqchOi2C8rA"
      },
      "source": [
        "**Task 8 - Test**"
      ]
    },
    {
      "cell_type": "code",
      "metadata": {
        "deletable": false,
        "editable": false,
        "id": "7WIQtB0PGJP4",
        "nbgrader": {
          "cell_type": "code",
          "checksum": "d6b7a7c6fc23109bb072a5bac785a844",
          "grade": true,
          "grade_id": "cell-8e36927f603d605f",
          "locked": true,
          "points": 1,
          "schema_version": 3,
          "solution": false,
          "task": false
        }
      },
      "source": [
        "# Task 8 Test\n",
        "\n",
        "# Hidden tests - you will see the results when you submit to Canvas"
      ],
      "execution_count": null,
      "outputs": []
    },
    {
      "cell_type": "markdown",
      "metadata": {
        "deletable": false,
        "editable": false,
        "nbgrader": {
          "cell_type": "markdown",
          "checksum": "a6cef21e89b481f73eb5c75bfd63ff6f",
          "grade": false,
          "grade_id": "cell-51ac39cd8ab2dc54",
          "locked": true,
          "schema_version": 3,
          "solution": false,
          "task": false
        },
        "id": "oKphg9okC8rB"
      },
      "source": [
        "**Task 9** - 99% confidence interval using t-interval\n",
        "\n",
        "And, we'll complete one more confidence interval calculation, this time at the 99% level.\n",
        "\n",
        "* assign the confidence interval to `t_int_99`\n",
        "* `alpha` is the confidence level\n",
        "* `df`, `loc`, `scale` are the same as for the first two calculations"
      ]
    },
    {
      "cell_type": "code",
      "metadata": {
        "deletable": false,
        "id": "hQsmY8RnHKJf",
        "nbgrader": {
          "cell_type": "code",
          "checksum": "1e06c4771ecbe4758e73644dc16ad35f",
          "grade": false,
          "grade_id": "cell-f37ed1827b6fb632",
          "locked": false,
          "schema_version": 3,
          "solution": true,
          "task": false
        },
        "colab": {
          "base_uri": "https://localhost:8080/"
        },
        "outputId": "f3c74dc4-c7cc-4c60-bf1c-5b956a9867ef"
      },
      "source": [
        "# Task 9\n",
        "\n",
        "# YOUR CODE HERE\n",
        "t_int_99 = t.interval(alpha=0.99, df=deg_free, loc=mean_caffeine, scale=se_caffeine)\n",
        "\n",
        "# View your answer\n",
        "print(t_int_99)"
      ],
      "execution_count": 18,
      "outputs": [
        {
          "output_type": "stream",
          "text": [
            "(35.95280335285685, 39.92759664714315)\n"
          ],
          "name": "stdout"
        }
      ]
    },
    {
      "cell_type": "markdown",
      "metadata": {
        "deletable": false,
        "editable": false,
        "nbgrader": {
          "cell_type": "markdown",
          "checksum": "f97d10064cb38f4d8646e1317f33452e",
          "grade": false,
          "grade_id": "cell-e359e9f60e899925",
          "locked": true,
          "schema_version": 3,
          "solution": false,
          "task": false
        },
        "id": "tii9ipbvC8rC"
      },
      "source": [
        "**Task 9 - Test**"
      ]
    },
    {
      "cell_type": "code",
      "metadata": {
        "deletable": false,
        "editable": false,
        "nbgrader": {
          "cell_type": "code",
          "checksum": "4af561bc3778212bf83a32d7a7f17f91",
          "grade": true,
          "grade_id": "cell-baa41a8080ef51cd",
          "locked": true,
          "points": 1,
          "schema_version": 3,
          "solution": false,
          "task": false
        },
        "id": "M4jreTPRC8rC"
      },
      "source": [
        "# Task 9 Test\n",
        "\n",
        "# Hidden tests - you will see the results when you submit to Canvas"
      ],
      "execution_count": null,
      "outputs": []
    },
    {
      "cell_type": "markdown",
      "metadata": {
        "id": "liduCGIkJAC2"
      },
      "source": [
        "**Task 10** - Summarize confidence interval calculations\n",
        "\n",
        "This part is not autograded and is practice for writing out your results!\n",
        "\n",
        "Q1 -  Is the 90% confidence interval more accurate or more precise (pick one) than the 95% confidence interval?\n",
        "\n",
        "*** It is less accurate than the 95% CI since the confidence level is lower (5 out of 100 less)***\n",
        "\n",
        "Q2 -  Is the 99% confidence interval more accurate or more precise (pick one) than the 95% confidence interval?\n",
        "\n",
        "*** It is less precise since the range is wider than the 95% CI ***"
      ]
    },
    {
      "cell_type": "markdown",
      "metadata": {
        "id": "9tIHBlM_SyGR"
      },
      "source": [
        "## Stretch goals:\n",
        "\n",
        "### Stretch Task 1\n",
        "\n",
        "**The correspondence between confidence intervals and hypothesis tests.**\n",
        "\n",
        "Read [this](https://https://blog.minitab.com/blog/adventures-in-statistics-2/understanding-hypothesis-tests-confidence-intervals-and-confidence-levels#:~:text=If%20a%20hypothesis%20test%20produces,corresponding%20confidence%20level%20is%2095%25.&text=If%20the%20confidence%20interval%20does,the%20results%20are%20statistically%20significant.) article about the correspondence between confidence intervals and hypothesis tests.  Feel free to read the whole article, but the relevant part can be found under the heading Why P Values and Confidence Intervals Always Agree About Statistical Significance.\n",
        "\n",
        "Imagine you work for quality control at Coke and are tasked with making sure that the caffeine content in the fountain beverages served in restaurants is the same as in a 12-oz can of Coke (34mg).  If you believe that the mean caffeine content in fountain coke is not 34mg, you must re-train the franchise managers to make sure the Coke served has the correct caffeine level.\n",
        "\n",
        "Based on the confidence interval you calculated in the assignment, do you believe that the mean caffeine content is statistically significantly different from 34 mg in a 12-oz serving?\n",
        "\n",
        "**Answer the question before viewing the solution in the next cell:**\n",
        "\n",
        "*** 34mg is not withing our CI, there is significant statistical difference! We could compliment our experiment by doing a one-sample ttest; and after running our experiment (code below) we can reject the null hypothesis, therefore the mean caffeine content in 12-oz fountain Coke is NOT 34mg but between 36.4mg and 39.4mg***"
      ]
    },
    {
      "cell_type": "code",
      "metadata": {
        "colab": {
          "base_uri": "https://localhost:8080/"
        },
        "id": "X2BGRArYmxc-",
        "outputId": "1d4a65e9-fb18-4750-dcbf-abc378683d50"
      },
      "source": [
        "stats.ttest_1samp(coke_df['Caffeine'], 34)"
      ],
      "execution_count": 20,
      "outputs": [
        {
          "output_type": "execute_result",
          "data": {
            "text/plain": [
              "Ttest_1sampResult(statistic=5.313255802097796, pvalue=2.620466428255138e-06)"
            ]
          },
          "metadata": {
            "tags": []
          },
          "execution_count": 20
        }
      ]
    },
    {
      "cell_type": "markdown",
      "metadata": {
        "id": "4Aa3df-_LgnT"
      },
      "source": [
        "**Stretch Task 1 Solution**\n",
        "\n",
        "Because 34mg is not in the bounds of the 95% confidence interval, we can reject the null hypothesis that the mean caffeine content in 12-oz of fountain Coke is equal to 34mg.  Instead, we conclude it is between about 36.4 and 39.4 mg."
      ]
    },
    {
      "cell_type": "markdown",
      "metadata": {
        "id": "Ne4k2kd3LhfV"
      },
      "source": [
        "### Stretch Task 2\n",
        "\n",
        "If we increased the sample size from 50 to 100 but the sample mean and SD remained the same, describe **two** ways the margin of error would change.  Would the margin of error become smaller or larger?\n",
        "\n",
        "**Answer the question before viewing the solution in the next cell:**\n",
        "\n",
        "*** The smaller the sample the larger de MoE and viceversa ***\n"
      ]
    },
    {
      "cell_type": "markdown",
      "metadata": {
        "id": "6lVcoTU6L5Pg"
      },
      "source": [
        "**Stretch Task 2 Solution**\n",
        "\n",
        "Both t* and n would change."
      ]
    },
    {
      "cell_type": "code",
      "metadata": {
        "id": "PQkk3nu4L4vu",
        "colab": {
          "base_uri": "https://localhost:8080/"
        },
        "outputId": "aa0c4cbb-69ff-4c7f-8e12-12aa0c039146"
      },
      "source": [
        "# Stretch Task 2 Solution - demonstrated in code\n",
        "\n",
        "t_star = t.ppf(0.975,df=99)\n",
        "\n",
        "n_caffeine = 100\n",
        "se_caffeine = std_caffeine/(n_caffeine**(1/2))\n",
        "\n",
        "ME = t_star*se_caffeine\n",
        "print('Margin of error =', margin_err)"
      ],
      "execution_count": 21,
      "outputs": [
        {
          "output_type": "stream",
          "text": [
            "Margin of error = 1.49025919960566\n"
          ],
          "name": "stdout"
        }
      ]
    },
    {
      "cell_type": "markdown",
      "metadata": {
        "id": "5bZ8LyiQXnpO"
      },
      "source": [
        "**Stretch Task 2 Solution**\n",
        "\n",
        "The ME for n = 100 is 1.04 compared to 1.49 when n = 50.  Increasing the sample size decreases the margin of error (thus increasing the precision of the estimate) while maintaining the same level of confidence."
      ]
    }
  ]
}