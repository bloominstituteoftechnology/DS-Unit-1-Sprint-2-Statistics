{
  "nbformat": 4,
  "nbformat_minor": 0,
  "metadata": {
    "colab": {
      "name": "LS_DS_123_Introduction_to_Bayesian_Inference_Assignment.ipynb",
      "provenance": [],
      "include_colab_link": true
    },
    "kernelspec": {
      "name": "python3",
      "display_name": "Python 3"
    }
  },
  "cells": [
    {
      "cell_type": "markdown",
      "metadata": {
        "id": "view-in-github",
        "colab_type": "text"
      },
      "source": [
        "<a href=\"https://colab.research.google.com/github/jasimrashid/DS-Unit-1-Sprint-2-Statistics/blob/master/module2/LS_DS_123_Introduction_to_Bayesian_Inference_Assignment.ipynb\" target=\"_parent\"><img src=\"https://colab.research.google.com/assets/colab-badge.svg\" alt=\"Open In Colab\"/></a>"
      ]
    },
    {
      "cell_type": "markdown",
      "metadata": {
        "id": "H7OLbevlbd_Z",
        "colab_type": "text"
      },
      "source": [
        "# Lambda School Data Science Module 123\n",
        "\n",
        "## Introduction to Bayesian Inference\n",
        "\n",
        "\n"
      ]
    },
    {
      "cell_type": "markdown",
      "metadata": {
        "id": "P-DzzRk5bf0z",
        "colab_type": "text"
      },
      "source": [
        "## Assignment - Code it up!\n",
        "\n",
        "We used pure math to apply Bayes Theorem to drug tests. Now write Python code to reproduce the results! This is purposefully open ended - you'll have to think about how you should represent probabilities and events. You can and should look things up.\n",
        "\n",
        "Specific goals/targets:\n",
        "\n",
        "### 1) Write a function \n",
        "\n",
        "`def prob_drunk_given_positive(prob_drunk_prior, false_positive_rate, true_positive_rate):` \n",
        "\n",
        "You should only truly need these two values in order to apply Bayes Theorem. In this example, imagine that individuals are taking a breathalyzer test with an 8% false positive rate, a 100% true positive rate, and that our prior belief about drunk driving in the population is 1/1000. \n",
        " - What is the probability that a person is drunk after one positive breathalyzer test?\n",
        " - What is the probability that a person is drunk after two positive breathalyzer tests?\n",
        " - How many positive breathalyzer tests are needed in order to have a probability that's greater than 95% that a person is drunk beyond the legal limit?\n",
        "\n",
        "### 2) Explore `scipy.stats.bayes_mvs`  \n",
        "Read its documentation, and experiment with it on data you've tested in other ways earlier this week.\n",
        " - Create a visualization comparing the results of a Bayesian approach to a traditional/frequentist approach. (with a large sample size they should look close to identical, however, take this opportunity to practice visualizing condfidence intervals in general. The following are some potential ways that you could visualize confidence intervals on your graph:\n",
        "  - [Matplotlib Error Bars](https://matplotlib.org/3.1.1/api/_as_gen/matplotlib.pyplot.errorbar.html)\n",
        "  - [Seaborn barplot with error bars](https://seaborn.pydata.org/generated/seaborn.barplot.html)\n",
        "  - [Vertical ines to show bounds of confidence interval](https://www.simplypsychology.org/confidence-interval.jpg)\n",
        "  - [Confidence Intervals on Box Plots](https://matplotlib.org/3.1.1/api/_as_gen/matplotlib.axes.Axes.boxplot.html)\n",
        "\n",
        "### 3) In your own words, summarize the difference between Bayesian and Frequentist statistics\n",
        "\n",
        "If you're unsure where to start, check out [this blog post of Bayes theorem with Python](https://dataconomy.com/2015/02/introduction-to-bayes-theorem-with-python/).\n",
        "\n"
      ]
    },
    {
      "cell_type": "markdown",
      "metadata": {
        "id": "XPLXFb8fZ2fZ",
        "colab_type": "text"
      },
      "source": [
        "**1. Write a Function**"
      ]
    },
    {
      "cell_type": "code",
      "metadata": {
        "id": "xpVhZyUnbf7o",
        "colab_type": "code",
        "colab": {
          "base_uri": "https://localhost:8080/",
          "height": 50
        },
        "outputId": "12e83884-9e95-406b-c951-16556228f05e"
      },
      "source": [
        "false_positive_rate = .08\n",
        "true_positive_rate = 1\n",
        "\n",
        "# After one positive breathanalyzer test\n",
        "prob_drunk_prior=.001\n",
        "def prob_drunk_given_positive(prob_drunk_prior, false_positive_rate, true_positive_rate):\n",
        "  numerator = true_positive_rate*prob_drunk_prior\n",
        "  denominator = true_positive_rate*prob_drunk_prior + false_positive_rate*(1-prob_drunk_prior)\n",
        "  return (numerator/denominator)\n",
        "\n",
        "prob_drunk_prior = prob_drunk_given_positive(prob_drunk_prior, false_positive_rate, true_positive_rate)\n",
        "print(\"Probability person is drunk after one positive breathanalyzer test = \", prob_drunk_prior)\n",
        "\n",
        "# After two positive breathanalyzer tests\n",
        "\n",
        "prob_drunk_prior = prob_drunk_given_positive(prob_drunk_prior, false_positive_rate, true_positive_rate)\n",
        "print(\"Probability person is drunk after two positive breathanalyzer test = \", prob_drunk_prior)\n"
      ],
      "execution_count": 9,
      "outputs": [
        {
          "output_type": "stream",
          "text": [
            "Probability person is drunk after one positive breathanalyzer test =  0.012357884330202669\n",
            "Probability person is drunk after two positive breathanalyzer test =  0.13525210993291495\n"
          ],
          "name": "stdout"
        }
      ]
    },
    {
      "cell_type": "code",
      "metadata": {
        "id": "4i6MUHcXTcJp",
        "colab_type": "code",
        "colab": {
          "base_uri": "https://localhost:8080/",
          "height": 115
        },
        "outputId": "e9412e6d-7abf-48dc-eae0-2c26c7725f86"
      },
      "source": [
        "# How many positive breathalyzer tests are needed in order to have a probability that's greater than 95% that a person is drunk beyond the legal limit?\n",
        "\n",
        "false_positive_rate = .08\n",
        "true_positive_rate = 1\n",
        "prob_drunk_prior=.001\n",
        "\n",
        "number_of_tests = 0\n",
        "\n",
        "while prob_drunk_prior < .95:\n",
        "  prob_drunk_prior = prob_drunk_given_positive(prob_drunk_prior, false_positive_rate, true_positive_rate)\n",
        "  print(\"Probability person is drunk after test #\", number_of_tests+1,\": \", prob_drunk_prior)\n",
        "  number_of_tests += 1\n",
        "\n",
        "print(\"\\nTotal # of tests to get to 95%: \", number_of_tests)\n",
        "\n",
        "\n"
      ],
      "execution_count": 16,
      "outputs": [
        {
          "output_type": "stream",
          "text": [
            "Probability person is drunk after test # 1 :  0.012357884330202669\n",
            "Probability person is drunk after test # 2 :  0.13525210993291495\n",
            "Probability person is drunk after test # 3 :  0.6615996951348605\n",
            "Probability person is drunk after test # 4 :  0.9606895076105054\n",
            "\n",
            "Total # of tests to get to 95%:  4\n"
          ],
          "name": "stdout"
        }
      ]
    },
    {
      "cell_type": "markdown",
      "metadata": {
        "id": "n98USod7Z9rG",
        "colab_type": "text"
      },
      "source": [
        "**2. Explore scipy.stats.bayes_mvs**"
      ]
    },
    {
      "cell_type": "code",
      "metadata": {
        "id": "vE6l32XLZ67b",
        "colab_type": "code",
        "colab": {}
      },
      "source": [
        "import pandas as pd\n",
        "import numpy as np\n",
        "from scipy.stats import t, ttest_1samp\n",
        "from scipy import stats\n",
        "import matplotlib.pyplot as plt\n",
        "import seaborn as sns"
      ],
      "execution_count": 0,
      "outputs": []
    },
    {
      "cell_type": "code",
      "metadata": {
        "id": "u7xXUhSTaa28",
        "colab_type": "code",
        "colab": {
          "base_uri": "https://localhost:8080/",
          "height": 196
        },
        "outputId": "96bdce5f-6cdc-4968-c8f6-c7c185c7bd18"
      },
      "source": [
        "!wget https://archive.ics.uci.edu/ml/machine-learning-databases/voting-records/house-votes-84.data"
      ],
      "execution_count": 18,
      "outputs": [
        {
          "output_type": "stream",
          "text": [
            "--2020-04-15 19:56:08--  https://archive.ics.uci.edu/ml/machine-learning-databases/voting-records/house-votes-84.data\n",
            "Resolving archive.ics.uci.edu (archive.ics.uci.edu)... 128.195.10.252\n",
            "Connecting to archive.ics.uci.edu (archive.ics.uci.edu)|128.195.10.252|:443... connected.\n",
            "HTTP request sent, awaiting response... 200 OK\n",
            "Length: 18171 (18K) [application/x-httpd-php]\n",
            "Saving to: ‘house-votes-84.data’\n",
            "\n",
            "\rhouse-votes-84.data   0%[                    ]       0  --.-KB/s               \rhouse-votes-84.data 100%[===================>]  17.75K  --.-KB/s    in 0.1s    \n",
            "\n",
            "2020-04-15 19:56:09 (135 KB/s) - ‘house-votes-84.data’ saved [18171/18171]\n",
            "\n"
          ],
          "name": "stdout"
        }
      ]
    },
    {
      "cell_type": "code",
      "metadata": {
        "id": "wP66XNtvadbH",
        "colab_type": "code",
        "colab": {
          "base_uri": "https://localhost:8080/",
          "height": 223
        },
        "outputId": "2967d84c-3a1c-4fbe-9f1b-9488691ec32b"
      },
      "source": [
        "column_headers = ['party','handicapped-infants','water-project',\n",
        "                  'budget','physician-fee-freeze', 'el-salvador-aid',\n",
        "                  'religious-groups','anti-satellite-ban',\n",
        "                  'aid-to-contras','mx-missile','immigration',\n",
        "                  'synfuels', 'education', 'right-to-sue','crime','duty-free',\n",
        "                  'south-africa']\n",
        "\n",
        "df=pd.read_csv('house-votes-84.data', names=column_headers)\n",
        "\n",
        "print(df.shape)\n",
        "df.head()"
      ],
      "execution_count": 19,
      "outputs": [
        {
          "output_type": "stream",
          "text": [
            "(435, 17)\n"
          ],
          "name": "stdout"
        },
        {
          "output_type": "execute_result",
          "data": {
            "text/html": [
              "<div>\n",
              "<style scoped>\n",
              "    .dataframe tbody tr th:only-of-type {\n",
              "        vertical-align: middle;\n",
              "    }\n",
              "\n",
              "    .dataframe tbody tr th {\n",
              "        vertical-align: top;\n",
              "    }\n",
              "\n",
              "    .dataframe thead th {\n",
              "        text-align: right;\n",
              "    }\n",
              "</style>\n",
              "<table border=\"1\" class=\"dataframe\">\n",
              "  <thead>\n",
              "    <tr style=\"text-align: right;\">\n",
              "      <th></th>\n",
              "      <th>party</th>\n",
              "      <th>handicapped-infants</th>\n",
              "      <th>water-project</th>\n",
              "      <th>budget</th>\n",
              "      <th>physician-fee-freeze</th>\n",
              "      <th>el-salvador-aid</th>\n",
              "      <th>religious-groups</th>\n",
              "      <th>anti-satellite-ban</th>\n",
              "      <th>aid-to-contras</th>\n",
              "      <th>mx-missile</th>\n",
              "      <th>immigration</th>\n",
              "      <th>synfuels</th>\n",
              "      <th>education</th>\n",
              "      <th>right-to-sue</th>\n",
              "      <th>crime</th>\n",
              "      <th>duty-free</th>\n",
              "      <th>south-africa</th>\n",
              "    </tr>\n",
              "  </thead>\n",
              "  <tbody>\n",
              "    <tr>\n",
              "      <th>0</th>\n",
              "      <td>republican</td>\n",
              "      <td>n</td>\n",
              "      <td>y</td>\n",
              "      <td>n</td>\n",
              "      <td>y</td>\n",
              "      <td>y</td>\n",
              "      <td>y</td>\n",
              "      <td>n</td>\n",
              "      <td>n</td>\n",
              "      <td>n</td>\n",
              "      <td>y</td>\n",
              "      <td>?</td>\n",
              "      <td>y</td>\n",
              "      <td>y</td>\n",
              "      <td>y</td>\n",
              "      <td>n</td>\n",
              "      <td>y</td>\n",
              "    </tr>\n",
              "    <tr>\n",
              "      <th>1</th>\n",
              "      <td>republican</td>\n",
              "      <td>n</td>\n",
              "      <td>y</td>\n",
              "      <td>n</td>\n",
              "      <td>y</td>\n",
              "      <td>y</td>\n",
              "      <td>y</td>\n",
              "      <td>n</td>\n",
              "      <td>n</td>\n",
              "      <td>n</td>\n",
              "      <td>n</td>\n",
              "      <td>n</td>\n",
              "      <td>y</td>\n",
              "      <td>y</td>\n",
              "      <td>y</td>\n",
              "      <td>n</td>\n",
              "      <td>?</td>\n",
              "    </tr>\n",
              "    <tr>\n",
              "      <th>2</th>\n",
              "      <td>democrat</td>\n",
              "      <td>?</td>\n",
              "      <td>y</td>\n",
              "      <td>y</td>\n",
              "      <td>?</td>\n",
              "      <td>y</td>\n",
              "      <td>y</td>\n",
              "      <td>n</td>\n",
              "      <td>n</td>\n",
              "      <td>n</td>\n",
              "      <td>n</td>\n",
              "      <td>y</td>\n",
              "      <td>n</td>\n",
              "      <td>y</td>\n",
              "      <td>y</td>\n",
              "      <td>n</td>\n",
              "      <td>n</td>\n",
              "    </tr>\n",
              "    <tr>\n",
              "      <th>3</th>\n",
              "      <td>democrat</td>\n",
              "      <td>n</td>\n",
              "      <td>y</td>\n",
              "      <td>y</td>\n",
              "      <td>n</td>\n",
              "      <td>?</td>\n",
              "      <td>y</td>\n",
              "      <td>n</td>\n",
              "      <td>n</td>\n",
              "      <td>n</td>\n",
              "      <td>n</td>\n",
              "      <td>y</td>\n",
              "      <td>n</td>\n",
              "      <td>y</td>\n",
              "      <td>n</td>\n",
              "      <td>n</td>\n",
              "      <td>y</td>\n",
              "    </tr>\n",
              "    <tr>\n",
              "      <th>4</th>\n",
              "      <td>democrat</td>\n",
              "      <td>y</td>\n",
              "      <td>y</td>\n",
              "      <td>y</td>\n",
              "      <td>n</td>\n",
              "      <td>y</td>\n",
              "      <td>y</td>\n",
              "      <td>n</td>\n",
              "      <td>n</td>\n",
              "      <td>n</td>\n",
              "      <td>n</td>\n",
              "      <td>y</td>\n",
              "      <td>?</td>\n",
              "      <td>y</td>\n",
              "      <td>y</td>\n",
              "      <td>y</td>\n",
              "      <td>y</td>\n",
              "    </tr>\n",
              "  </tbody>\n",
              "</table>\n",
              "</div>"
            ],
            "text/plain": [
              "        party handicapped-infants water-project  ... crime duty-free south-africa\n",
              "0  republican                   n             y  ...     y         n            y\n",
              "1  republican                   n             y  ...     y         n            ?\n",
              "2    democrat                   ?             y  ...     y         n            n\n",
              "3    democrat                   n             y  ...     n         n            y\n",
              "4    democrat                   y             y  ...     y         y            y\n",
              "\n",
              "[5 rows x 17 columns]"
            ]
          },
          "metadata": {
            "tags": []
          },
          "execution_count": 19
        }
      ]
    },
    {
      "cell_type": "code",
      "metadata": {
        "id": "YLkakgWKahI2",
        "colab_type": "code",
        "colab": {
          "base_uri": "https://localhost:8080/",
          "height": 207
        },
        "outputId": "d2573d8e-b249-40b7-a394-6c667d2884c5"
      },
      "source": [
        "df=df.replace({'y':1,'n':0,'?':np.NaN})\n",
        "df.head()"
      ],
      "execution_count": 20,
      "outputs": [
        {
          "output_type": "execute_result",
          "data": {
            "text/html": [
              "<div>\n",
              "<style scoped>\n",
              "    .dataframe tbody tr th:only-of-type {\n",
              "        vertical-align: middle;\n",
              "    }\n",
              "\n",
              "    .dataframe tbody tr th {\n",
              "        vertical-align: top;\n",
              "    }\n",
              "\n",
              "    .dataframe thead th {\n",
              "        text-align: right;\n",
              "    }\n",
              "</style>\n",
              "<table border=\"1\" class=\"dataframe\">\n",
              "  <thead>\n",
              "    <tr style=\"text-align: right;\">\n",
              "      <th></th>\n",
              "      <th>party</th>\n",
              "      <th>handicapped-infants</th>\n",
              "      <th>water-project</th>\n",
              "      <th>budget</th>\n",
              "      <th>physician-fee-freeze</th>\n",
              "      <th>el-salvador-aid</th>\n",
              "      <th>religious-groups</th>\n",
              "      <th>anti-satellite-ban</th>\n",
              "      <th>aid-to-contras</th>\n",
              "      <th>mx-missile</th>\n",
              "      <th>immigration</th>\n",
              "      <th>synfuels</th>\n",
              "      <th>education</th>\n",
              "      <th>right-to-sue</th>\n",
              "      <th>crime</th>\n",
              "      <th>duty-free</th>\n",
              "      <th>south-africa</th>\n",
              "    </tr>\n",
              "  </thead>\n",
              "  <tbody>\n",
              "    <tr>\n",
              "      <th>0</th>\n",
              "      <td>republican</td>\n",
              "      <td>0.0</td>\n",
              "      <td>1.0</td>\n",
              "      <td>0.0</td>\n",
              "      <td>1.0</td>\n",
              "      <td>1.0</td>\n",
              "      <td>1.0</td>\n",
              "      <td>0.0</td>\n",
              "      <td>0.0</td>\n",
              "      <td>0.0</td>\n",
              "      <td>1.0</td>\n",
              "      <td>NaN</td>\n",
              "      <td>1.0</td>\n",
              "      <td>1.0</td>\n",
              "      <td>1.0</td>\n",
              "      <td>0.0</td>\n",
              "      <td>1.0</td>\n",
              "    </tr>\n",
              "    <tr>\n",
              "      <th>1</th>\n",
              "      <td>republican</td>\n",
              "      <td>0.0</td>\n",
              "      <td>1.0</td>\n",
              "      <td>0.0</td>\n",
              "      <td>1.0</td>\n",
              "      <td>1.0</td>\n",
              "      <td>1.0</td>\n",
              "      <td>0.0</td>\n",
              "      <td>0.0</td>\n",
              "      <td>0.0</td>\n",
              "      <td>0.0</td>\n",
              "      <td>0.0</td>\n",
              "      <td>1.0</td>\n",
              "      <td>1.0</td>\n",
              "      <td>1.0</td>\n",
              "      <td>0.0</td>\n",
              "      <td>NaN</td>\n",
              "    </tr>\n",
              "    <tr>\n",
              "      <th>2</th>\n",
              "      <td>democrat</td>\n",
              "      <td>NaN</td>\n",
              "      <td>1.0</td>\n",
              "      <td>1.0</td>\n",
              "      <td>NaN</td>\n",
              "      <td>1.0</td>\n",
              "      <td>1.0</td>\n",
              "      <td>0.0</td>\n",
              "      <td>0.0</td>\n",
              "      <td>0.0</td>\n",
              "      <td>0.0</td>\n",
              "      <td>1.0</td>\n",
              "      <td>0.0</td>\n",
              "      <td>1.0</td>\n",
              "      <td>1.0</td>\n",
              "      <td>0.0</td>\n",
              "      <td>0.0</td>\n",
              "    </tr>\n",
              "    <tr>\n",
              "      <th>3</th>\n",
              "      <td>democrat</td>\n",
              "      <td>0.0</td>\n",
              "      <td>1.0</td>\n",
              "      <td>1.0</td>\n",
              "      <td>0.0</td>\n",
              "      <td>NaN</td>\n",
              "      <td>1.0</td>\n",
              "      <td>0.0</td>\n",
              "      <td>0.0</td>\n",
              "      <td>0.0</td>\n",
              "      <td>0.0</td>\n",
              "      <td>1.0</td>\n",
              "      <td>0.0</td>\n",
              "      <td>1.0</td>\n",
              "      <td>0.0</td>\n",
              "      <td>0.0</td>\n",
              "      <td>1.0</td>\n",
              "    </tr>\n",
              "    <tr>\n",
              "      <th>4</th>\n",
              "      <td>democrat</td>\n",
              "      <td>1.0</td>\n",
              "      <td>1.0</td>\n",
              "      <td>1.0</td>\n",
              "      <td>0.0</td>\n",
              "      <td>1.0</td>\n",
              "      <td>1.0</td>\n",
              "      <td>0.0</td>\n",
              "      <td>0.0</td>\n",
              "      <td>0.0</td>\n",
              "      <td>0.0</td>\n",
              "      <td>1.0</td>\n",
              "      <td>NaN</td>\n",
              "      <td>1.0</td>\n",
              "      <td>1.0</td>\n",
              "      <td>1.0</td>\n",
              "      <td>1.0</td>\n",
              "    </tr>\n",
              "  </tbody>\n",
              "</table>\n",
              "</div>"
            ],
            "text/plain": [
              "        party  handicapped-infants  ...  duty-free  south-africa\n",
              "0  republican                  0.0  ...        0.0           1.0\n",
              "1  republican                  0.0  ...        0.0           NaN\n",
              "2    democrat                  NaN  ...        0.0           0.0\n",
              "3    democrat                  0.0  ...        0.0           1.0\n",
              "4    democrat                  1.0  ...        1.0           1.0\n",
              "\n",
              "[5 rows x 17 columns]"
            ]
          },
          "metadata": {
            "tags": []
          },
          "execution_count": 20
        }
      ]
    },
    {
      "cell_type": "code",
      "metadata": {
        "id": "R9hH8WxPaoeW",
        "colab_type": "code",
        "colab": {
          "base_uri": "https://localhost:8080/",
          "height": 66
        },
        "outputId": "95bd9ff3-b377-4757-de14-029261c80c8c"
      },
      "source": [
        "dem = df[df['party']=='democrat']\n",
        "rep = df[df['party']=='republican']\n",
        "\n",
        "column_name = 'education'\n",
        "mean_CI, _, _ = stats.bayes_mvs(dem[column_name].dropna())\n",
        "\n",
        "print(\"bayes mvs with alpha = .9: \", mean_CI[1])\n",
        "\n",
        "mean_CI, _, _ = stats.bayes_mvs(dem[column_name].dropna(), .95)\n",
        "print(\"bayes mvs with alpha = .95: \", mean_CI[1])\n",
        "\n",
        "mean_CI, _, _ = stats.bayes_mvs(dem[column_name].dropna(), .99)\n",
        "print(\"bayes mvs with alpha = .99: \", mean_CI[1])"
      ],
      "execution_count": 34,
      "outputs": [
        {
          "output_type": "stream",
          "text": [
            "bayes mvs with alpha = .9:  (0.10770870991038944, 0.1814479165956346)\n",
            "bayes mvs with alpha = .95:  (0.10059494022327561, 0.18856168628274847)\n",
            "bayes mvs with alpha = .99:  (0.08661050929949306, 0.20254611720653104)\n"
          ],
          "name": "stdout"
        }
      ]
    },
    {
      "cell_type": "code",
      "metadata": {
        "id": "LJHcYnHogWfi",
        "colab_type": "code",
        "colab": {
          "base_uri": "https://localhost:8080/",
          "height": 66
        },
        "outputId": "10474389-d1db-4666-e5dc-1daf6b98af93"
      },
      "source": [
        "stats.mvsdist(dem[column_name].dropna())"
      ],
      "execution_count": 35,
      "outputs": [
        {
          "output_type": "execute_result",
          "data": {
            "text/plain": [
              "(<scipy.stats._distn_infrastructure.rv_frozen at 0x7fa37d238710>,\n",
              " <scipy.stats._distn_infrastructure.rv_frozen at 0x7fa37d1c0780>,\n",
              " <scipy.stats._distn_infrastructure.rv_frozen at 0x7fa37d229be0>)"
            ]
          },
          "metadata": {
            "tags": []
          },
          "execution_count": 35
        }
      ]
    },
    {
      "cell_type": "code",
      "metadata": {
        "id": "9bXap4Fkg9zD",
        "colab_type": "code",
        "colab": {
          "base_uri": "https://localhost:8080/",
          "height": 33
        },
        "outputId": "7b66ee95-352f-479b-c1ba-1da5894c2cc5"
      },
      "source": [
        "stats.kstat(dem[column_name])"
      ],
      "execution_count": 37,
      "outputs": [
        {
          "output_type": "execute_result",
          "data": {
            "text/plain": [
              "nan"
            ]
          },
          "metadata": {
            "tags": []
          },
          "execution_count": 37
        }
      ]
    },
    {
      "cell_type": "code",
      "metadata": {
        "id": "IXnJn-VEhYzx",
        "colab_type": "code",
        "colab": {
          "base_uri": "https://localhost:8080/",
          "height": 1000
        },
        "outputId": "abe70214-e985-410d-da3e-119d3be39f76"
      },
      "source": [
        "stats.probplot(dem[column_name], plot=plt)"
      ],
      "execution_count": 40,
      "outputs": [
        {
          "output_type": "execute_result",
          "data": {
            "text/plain": [
              "((array([-2.79528612, -2.49527961, -2.32510771, -2.20368347, -2.10804586,\n",
              "         -2.02851775, -1.96006799, -1.89973233, -1.84561129, -1.79641163,\n",
              "         -1.75121149, -1.70932968, -1.67024799, -1.63356263, -1.59895262,\n",
              "         -1.56615839, -1.53496693, -1.50520118, -1.4767123 , -1.44937394,\n",
              "         -1.42307783, -1.39773052, -1.37325073, -1.34956728, -1.32661752,\n",
              "         -1.30434597, -1.28270326, -1.26164524, -1.2411323 , -1.22112871,\n",
              "         -1.20160217, -1.18252334, -1.1638655 , -1.14560426, -1.12771727,\n",
              "         -1.11018398, -1.0929855 , -1.07610438, -1.05952448, -1.04323083,\n",
              "         -1.02720954, -1.01144766, -0.99593315, -0.98065472, -0.96560185,\n",
              "         -0.95076465, -0.93613386, -0.92170076, -0.90745716, -0.89339533,\n",
              "         -0.87950797, -0.86578819, -0.85222948, -0.83882567, -0.82557088,\n",
              "         -0.81245959, -0.79948649, -0.78664657, -0.77393505, -0.76134738,\n",
              "         -0.7488792 , -0.73652636, -0.72428491, -0.71215104, -0.70012113,\n",
              "         -0.68819169, -0.6763594 , -0.66462106, -0.65297359, -0.64141403,\n",
              "         -0.62993956, -0.61854744, -0.60723503, -0.5959998 , -0.58483931,\n",
              "         -0.57375119, -0.56273317, -0.55178305, -0.54089869, -0.53007804,\n",
              "         -0.5193191 , -0.50861995, -0.4979787 , -0.48739355, -0.47686272,\n",
              "         -0.46638452, -0.45595728, -0.44557938, -0.43524925, -0.42496536,\n",
              "         -0.41472621, -0.40453037, -0.3943764 , -0.38426294, -0.37418863,\n",
              "         -0.36415215, -0.35415223, -0.34418759, -0.33425701, -0.32435929,\n",
              "         -0.31449324, -0.30465771, -0.29485157, -0.2850737 , -0.27532301,\n",
              "         -0.26559842, -0.25589889, -0.24622337, -0.23657085, -0.22694033,\n",
              "         -0.2173308 , -0.2077413 , -0.19817087, -0.18861856, -0.17908342,\n",
              "         -0.16956454, -0.16006101, -0.1505719 , -0.14109633, -0.13163342,\n",
              "         -0.12218228, -0.11274204, -0.10331184, -0.09389081, -0.08447811,\n",
              "         -0.07507289, -0.06567431, -0.05628153, -0.0468937 , -0.03751001,\n",
              "         -0.02812962, -0.01875171, -0.00937544,  0.        ,  0.00937544,\n",
              "          0.01875171,  0.02812962,  0.03751001,  0.0468937 ,  0.05628153,\n",
              "          0.06567431,  0.07507289,  0.08447811,  0.09389081,  0.10331184,\n",
              "          0.11274204,  0.12218228,  0.13163342,  0.14109633,  0.1505719 ,\n",
              "          0.16006101,  0.16956454,  0.17908342,  0.18861856,  0.19817087,\n",
              "          0.2077413 ,  0.2173308 ,  0.22694033,  0.23657085,  0.24622337,\n",
              "          0.25589889,  0.26559842,  0.27532301,  0.2850737 ,  0.29485157,\n",
              "          0.30465771,  0.31449324,  0.32435929,  0.33425701,  0.34418759,\n",
              "          0.35415223,  0.36415215,  0.37418863,  0.38426294,  0.3943764 ,\n",
              "          0.40453037,  0.41472621,  0.42496536,  0.43524925,  0.44557938,\n",
              "          0.45595728,  0.46638452,  0.47686272,  0.48739355,  0.4979787 ,\n",
              "          0.50861995,  0.5193191 ,  0.53007804,  0.54089869,  0.55178305,\n",
              "          0.56273317,  0.57375119,  0.58483931,  0.5959998 ,  0.60723503,\n",
              "          0.61854744,  0.62993956,  0.64141403,  0.65297359,  0.66462106,\n",
              "          0.6763594 ,  0.68819169,  0.70012113,  0.71215104,  0.72428491,\n",
              "          0.73652636,  0.7488792 ,  0.76134738,  0.77393505,  0.78664657,\n",
              "          0.79948649,  0.81245959,  0.82557088,  0.83882567,  0.85222948,\n",
              "          0.86578819,  0.87950797,  0.89339533,  0.90745716,  0.92170076,\n",
              "          0.93613386,  0.95076465,  0.96560185,  0.98065472,  0.99593315,\n",
              "          1.01144766,  1.02720954,  1.04323083,  1.05952448,  1.07610438,\n",
              "          1.0929855 ,  1.11018398,  1.12771727,  1.14560426,  1.1638655 ,\n",
              "          1.18252334,  1.20160217,  1.22112871,  1.2411323 ,  1.26164524,\n",
              "          1.28270326,  1.30434597,  1.32661752,  1.34956728,  1.37325073,\n",
              "          1.39773052,  1.42307783,  1.44937394,  1.4767123 ,  1.50520118,\n",
              "          1.53496693,  1.56615839,  1.59895262,  1.63356263,  1.67024799,\n",
              "          1.70932968,  1.75121149,  1.79641163,  1.84561129,  1.89973233,\n",
              "          1.96006799,  2.02851775,  2.10804586,  2.20368347,  2.32510771,\n",
              "          2.49527961,  2.79528612]),\n",
              "  array([ 0.,  0.,  0.,  0.,  0.,  0.,  0.,  0.,  0.,  0.,  0.,  0.,  0.,\n",
              "          0.,  0.,  0.,  0.,  0.,  0.,  0.,  0.,  0.,  0.,  0.,  0.,  0.,\n",
              "          0.,  0.,  0.,  0.,  0.,  0.,  0.,  0.,  0.,  0.,  0.,  0.,  0.,\n",
              "          0.,  0.,  0.,  0.,  0.,  0.,  0.,  0.,  0.,  0.,  0.,  0.,  0.,\n",
              "          0.,  0.,  0.,  0.,  0.,  0.,  0.,  0.,  0.,  0.,  0.,  0.,  0.,\n",
              "          0.,  0.,  0.,  0.,  0.,  0.,  0.,  0.,  0.,  0.,  0.,  0.,  0.,\n",
              "          0.,  0.,  0.,  0.,  0.,  0.,  0.,  0.,  0.,  0.,  0.,  0.,  0.,\n",
              "          0.,  0.,  0.,  0.,  0.,  0.,  0.,  0.,  0.,  0.,  0.,  0.,  0.,\n",
              "          0.,  0.,  0.,  0.,  0.,  0.,  0.,  0.,  0.,  0.,  0.,  0.,  0.,\n",
              "          0.,  0.,  0.,  0.,  0.,  0.,  0.,  0.,  0.,  0.,  0.,  0.,  0.,\n",
              "          0.,  0.,  0.,  0.,  0.,  0.,  0.,  0.,  0.,  0.,  0.,  0.,  0.,\n",
              "          0.,  0.,  0.,  0.,  0.,  0.,  0.,  0.,  0.,  0.,  0.,  0.,  0.,\n",
              "          0.,  0.,  0.,  0.,  0.,  0.,  0.,  0.,  0.,  0.,  0.,  0.,  0.,\n",
              "          0.,  0.,  0.,  0.,  0.,  0.,  0.,  0.,  0.,  0.,  0.,  0.,  0.,\n",
              "          0.,  0.,  0.,  0.,  0.,  0.,  0.,  0.,  0.,  0.,  0.,  0.,  0.,\n",
              "          0.,  0.,  0.,  0.,  0.,  0.,  0.,  0.,  0.,  0.,  0.,  0.,  0.,\n",
              "          0.,  0.,  0.,  0.,  0.,  1.,  1.,  1.,  1.,  1.,  1.,  1.,  1.,\n",
              "          1.,  1.,  1.,  1.,  1.,  1.,  1.,  1.,  1.,  1.,  1.,  1.,  1.,\n",
              "          1.,  1.,  1.,  1.,  1.,  1.,  1.,  1.,  1.,  1.,  1.,  1.,  1.,\n",
              "          1.,  1., nan, nan, nan, nan, nan, nan, nan, nan, nan, nan, nan,\n",
              "         nan, nan, nan, nan, nan, nan, nan])),\n",
              " (nan, nan, nan))"
            ]
          },
          "metadata": {
            "tags": []
          },
          "execution_count": 40
        },
        {
          "output_type": "display_data",
          "data": {
            "image/png": "[encoded data removed]",
            "text/plain": [
              "<Figure size 432x288 with 1 Axes>"
            ]
          },
          "metadata": {
            "tags": [],
            "needs_background": "light"
          }
        }
      ]
    },
    {
      "cell_type": "code",
      "metadata": {
        "id": "af2Wj08UbrHk",
        "colab_type": "code",
        "colab": {}
      },
      "source": [
        "def confidence_interval(data, confidence=0.95):\n",
        "  \"\"\"\n",
        "  Calculate a confidence interval around a sample mean for given data.\n",
        "  Using t-distribution and two-tailed test, default 95% confidence. \n",
        "  \n",
        "  Arguments:\n",
        "    data - iterable (list or numpy array) of sample observations\n",
        "    confidence - level of confidence for the interval\n",
        "  \n",
        "  Returns:\n",
        "    tuple of (mean, lower bound, upper bound)\n",
        "  \"\"\"\n",
        "  data = np.array(data)\n",
        "  mean = np.mean(data)\n",
        "  n = len(data)\n",
        "  # pass extra parameter (ddof=1) to calculate **sample** standard deviation\n",
        "  s = data.std(ddof=1)\n",
        "  stderr = s / np.sqrt(n)\n",
        "  # Lookup the t-statistic that corresponds to 95% area under the curve\n",
        "  # for my given degrees of freedom: 49\n",
        "  t = stats.t.ppf((1 + confidence) / 2.0, n - 1)\n",
        "  margin_of_error = t*stderr\n",
        "  return (mean - margin_of_error, mean, mean + margin_of_error)\n",
        "  "
      ],
      "execution_count": 0,
      "outputs": []
    },
    {
      "cell_type": "code",
      "metadata": {
        "id": "v3enfEPbbwsR",
        "colab_type": "code",
        "colab": {
          "base_uri": "https://localhost:8080/",
          "height": 33
        },
        "outputId": "e62c5f19-4c31-4814-ced3-69cec268165f"
      },
      "source": [
        "confidence_interval(dem[column_name].dropna())"
      ],
      "execution_count": 28,
      "outputs": [
        {
          "output_type": "execute_result",
          "data": {
            "text/plain": [
              "(0.10059494022327561, 0.14457831325301204, 0.18856168628274847)"
            ]
          },
          "metadata": {
            "tags": []
          },
          "execution_count": 28
        }
      ]
    },
    {
      "cell_type": "code",
      "metadata": {
        "id": "0EyBPv9Hiixz",
        "colab_type": "code",
        "colab": {}
      },
      "source": [
        "import seaborn as sns\n",
        "sns.set(style=\"whitegrid\")\n",
        "tips = sns.load_dataset(\"tips\")\n",
        "\n"
      ],
      "execution_count": 0,
      "outputs": []
    },
    {
      "cell_type": "code",
      "metadata": {
        "id": "FqhuHISOle3Q",
        "colab_type": "code",
        "colab": {}
      },
      "source": [
        "ax = sns.barplot(x=\"party\", y=\"handicapped-infants\", data=df )\n",
        "# plt.errorbar(x=df['party'],y=df['handicapped-infants'],yerr=ci_length)\n",
        "# plt.bar([\"dem\"], mean_CI[0], yerr=mean_CI[0]-mean_CI[1][0])"
      ],
      "execution_count": 0,
      "outputs": []
    },
    {
      "cell_type": "code",
      "metadata": {
        "id": "tz0UCaI0joAZ",
        "colab_type": "code",
        "colab": {}
      },
      "source": [
        "ax = sns.barplot(x=\"party\", y=\"budget\", data=df)"
      ],
      "execution_count": 0,
      "outputs": []
    },
    {
      "cell_type": "code",
      "metadata": {
        "id": "lt8s_seX5_oL",
        "colab_type": "code",
        "colab": {
          "base_uri": "https://localhost:8080/",
          "height": 283
        },
        "outputId": "c25dd4cd-6cf5-4d98-eca3-6fa5d000b728"
      },
      "source": [
        "mean_CI_dem_bayes, _, _ = stats.bayes_mvs(dem[column_name].dropna(),.95)\n",
        "plt.bar([\"dem\"], mean_CI_dem[0], yerr=mean_CI_dem[0]-mean_CI_dem[1][0])\n",
        "mean_CI_rep_bayes, _, _ = stats.bayes_mvs(rep[column_name].dropna(),.95)\n",
        "plt.bar([\"rep\"], mean_CI_rep[0], yerr=mean_CI_rep[0]-mean_CI_rep[1][0])\n",
        "\n",
        "\n",
        "# plt.bar([\"rep\"], mean_rep, yerr=moe_rep)\n",
        "# plt.show()"
      ],
      "execution_count": 88,
      "outputs": [
        {
          "output_type": "execute_result",
          "data": {
            "text/plain": [
              "<BarContainer object of 1 artists>"
            ]
          },
          "metadata": {
            "tags": []
          },
          "execution_count": 88
        },
        {
          "output_type": "display_data",
          "data": {
            "image/png": "[encoded data removed]",
            "text/plain": [
              "<Figure size 432x288 with 1 Axes>"
            ]
          },
          "metadata": {
            "tags": []
          }
        }
      ]
    },
    {
      "cell_type": "code",
      "metadata": {
        "id": "Lq0J1vPA9SXC",
        "colab_type": "code",
        "colab": {
          "base_uri": "https://localhost:8080/",
          "height": 283
        },
        "outputId": "162b09c1-bc52-401d-caf4-97c7f48130f8"
      },
      "source": [
        "lower, mean, upper = confidence_interval(dem[column_name].dropna())\n",
        "plt.bar([\"dem-b\"], mean, yerr=mean-lower)\n",
        "\n",
        "# lower, mean, upper = confidence_interval(rep[column_name].dropna())\n",
        "# plt.bar([\"rep\"], mean, yerr=mean-lower)\n",
        "\n",
        "mean_CI_dem_bayes, _, _ = stats.bayes_mvs(dem[column_name].dropna(),.95)\n",
        "plt.bar([\"dem-f\"], mean_CI_dem[0], yerr=mean_CI_dem[0]-mean_CI_dem[1][0])\n",
        "\n",
        "# mean_CI_rep_bayes, _, _ = stats.bayes_mvs(rep[column_name].dropna(),.95)\n",
        "# plt.bar([\"rep\"], mean_CI_rep[0], yerr=mean_CI_rep[0]-mean_CI_rep[1][0])\n",
        "\n",
        "# print(mean-lower)"
      ],
      "execution_count": 99,
      "outputs": [
        {
          "output_type": "execute_result",
          "data": {
            "text/plain": [
              "<BarContainer object of 1 artists>"
            ]
          },
          "metadata": {
            "tags": []
          },
          "execution_count": 99
        },
        {
          "output_type": "display_data",
          "data": {
            "image/png": "[encoded data removed]",
            "text/plain": [
              "<Figure size 432x288 with 1 Axes>"
            ]
          },
          "metadata": {
            "tags": []
          }
        }
      ]
    },
    {
      "cell_type": "code",
      "metadata": {
        "id": "xB_OCPXZ_TQW",
        "colab_type": "code",
        "colab": {
          "base_uri": "https://localhost:8080/",
          "height": 283
        },
        "outputId": "13693ca1-053a-45a6-9460-5573dc6c9372"
      },
      "source": [
        "lower, mean, upper = confidence_interval(rep[column_name].dropna())\n",
        "plt.bar([\"rep-b\"], mean, yerr=mean-lower)\n",
        "\n",
        "# mean_CI_dem_bayes, _, _ = stats.bayes_mvs(dem[column_name].dropna(),.95)\n",
        "# plt.bar([\"dem-f\"], mean_CI_dem[0], yerr=mean_CI_dem[0]-mean_CI_dem[1][0])\n",
        "\n",
        "mean_CI_rep_bayes, _, _ = stats.bayes_mvs(rep[column_name].dropna(),.95)\n",
        "plt.bar([\"rep-f\"], mean_CI_rep[0], yerr=mean_CI_rep[0]-mean_CI_rep[1][0])"
      ],
      "execution_count": 101,
      "outputs": [
        {
          "output_type": "execute_result",
          "data": {
            "text/plain": [
              "<BarContainer object of 1 artists>"
            ]
          },
          "metadata": {
            "tags": []
          },
          "execution_count": 101
        },
        {
          "output_type": "display_data",
          "data": {
            "image/png": "[encoded data removed]",
            "text/plain": [
              "<Figure size 432x288 with 1 Axes>"
            ]
          },
          "metadata": {
            "tags": []
          }
        }
      ]
    },
    {
      "cell_type": "markdown",
      "metadata": {
        "id": "7pb5R8_iDXpO",
        "colab_type": "text"
      },
      "source": [
        "**Difference between Bayesian and Frequentist statistics**\n",
        "\n",
        "\n",
        "Frequentist statistics provides estimates by emphasizing the frequency or proportion of the data. \n",
        "\n",
        "Bayesian Statistics uses probabilities based on past events in addition to inputs used in frequentist statistics, in order to provide estimates."
      ]
    },
    {
      "cell_type": "code",
      "metadata": {
        "id": "3Q1KEn2A-8tb",
        "colab_type": "code",
        "colab": {}
      },
      "source": [
        ""
      ],
      "execution_count": 0,
      "outputs": []
    },
    {
      "cell_type": "markdown",
      "metadata": {
        "id": "uWgWjp3PQ3Sq",
        "colab_type": "text"
      },
      "source": [
        "## Resources"
      ]
    },
    {
      "cell_type": "markdown",
      "metadata": {
        "id": "QRgHqmYIQ9qn",
        "colab_type": "text"
      },
      "source": [
        "- [Worked example of Bayes rule calculation](https://en.wikipedia.org/wiki/Bayes'_theorem#Examples) (helpful as it fully breaks out the denominator)\n",
        "- [Source code for mvsdist in scipy](https://github.com/scipy/scipy/blob/90534919e139d2a81c24bf08341734ff41a3db12/scipy/stats/morestats.py#L139)"
      ]
    },
    {
      "cell_type": "markdown",
      "metadata": {
        "id": "GP7Jv1XvwtkX",
        "colab_type": "text"
      },
      "source": [
        "## Stretch Goals:\n",
        "\n",
        "- Go back and study the content from Modules 1 & 2 to make sure that you're really comfortable with them.\n",
        "- Apply a Bayesian technique to a problem you previously worked (in an assignment or project work) on from a frequentist (standard) perspective\n",
        "- Check out [PyMC3](https://docs.pymc.io/) (note this goes beyond hypothesis tests into modeling) - read the guides and work through some examples\n",
        "- Take PyMC3 further - see if you can build something with it!"
      ]
    },
    {
      "cell_type": "code",
      "metadata": {
        "id": "iDi0eFr1x-v_",
        "colab_type": "code",
        "colab": {}
      },
      "source": [
        ""
      ],
      "execution_count": 0,
      "outputs": []
    }
  ]
}