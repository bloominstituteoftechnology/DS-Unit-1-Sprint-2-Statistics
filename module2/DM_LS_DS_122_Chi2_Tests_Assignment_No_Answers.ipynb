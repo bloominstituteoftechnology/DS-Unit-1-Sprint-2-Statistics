{
  "nbformat": 4,
  "nbformat_minor": 0,
  "metadata": {
    "colab": {
      "name": "DM_LS_DS_122_Chi2_Tests_Assignment_No_Answers.ipynb",
      "provenance": [],
      "collapsed_sections": [],
      "include_colab_link": true
    },
    "kernelspec": {
      "name": "python3",
      "display_name": "Python 3"
    }
  },
  "cells": [
    {
      "cell_type": "markdown",
      "metadata": {
        "id": "view-in-github",
        "colab_type": "text"
      },
      "source": [
        "<a href=\"https://colab.research.google.com/github/d-melamed/DS-Unit-1-Sprint-2-Statistics/blob/master/module2/DM_LS_DS_122_Chi2_Tests_Assignment_No_Answers.ipynb\" target=\"_parent\"><img src=\"https://colab.research.google.com/assets/colab-badge.svg\" alt=\"Open In Colab\"/></a>"
      ]
    },
    {
      "cell_type": "markdown",
      "metadata": {
        "id": "11OzdxWTM7UR",
        "colab_type": "text"
      },
      "source": [
        "## Assignment - Practice Chi-square Tests\n",
        "\n",
        "###Dataset description:\n",
        "\n",
        "Slasher movies thrill audiences by portraying a lone antagonist (typically male) who attacks innocent victims with extreme violence and without apparent motive. However, this exciting (if gory) subgenre of horror film is criticized by those who view the violence as being used to “punish” female characters who engage in sexual activity during the film. To test this claim, study authors randomly sampled 50 North American slasher films released from 1960 to 2009 and coded the 485 characters appearing in them as being male or female, involved in sexual activity or not, and if they survived the film or not1. The data appears in the Slasher.csv dataset. In this project, we are going to answer a slightly simpler question: Are female characters in slasher films more likely to be \"murdered\" than male characters?\n",
        "\n",
        "Source: A. Welsh (2010). \"On the Perils of Living Dangerously in the Slasher Horror Film: Gender Differences in the Association Between Sexual Activity and Survival,\" Sex Roles, Vol. 62 pp. 762-773\n",
        "\n",
        "You can find the Slasher.csv file here:\n",
        "\n",
        "<https://raw.githubusercontent.com/Chelsea-Myers/Lambda-Intro/master/Slasher.csv>\n",
        "\n"
      ]
    },
    {
      "cell_type": "markdown",
      "metadata": {
        "id": "QnqpG9fOaUy-",
        "colab_type": "text"
      },
      "source": [
        "\n",
        "\n",
        "### 1) Load the Slasher.csv dataset in a new dataframe.\n",
        "\n"
      ]
    },
    {
      "cell_type": "code",
      "metadata": {
        "id": "3UAiqp9VMa1f",
        "colab_type": "code",
        "colab": {}
      },
      "source": [
        "import pandas as pd\n",
        "import numpy as np\n",
        "from scipy.stats import chi2_contingency\n",
        "import matplotlib.pyplot as plt"
      ],
      "execution_count": 2,
      "outputs": []
    },
    {
      "cell_type": "code",
      "metadata": {
        "id": "UQwvrhn7m3Mn",
        "colab_type": "code",
        "colab": {
          "base_uri": "https://localhost:8080/",
          "height": 224
        },
        "outputId": "8369f524-977e-46c3-e103-5ecb2ec02854"
      },
      "source": [
        "# YOUR WORK HERE\n",
        "\n",
        "! wget 'https://raw.githubusercontent.com/Chelsea-Myers/Lambda-Intro/master/Slasher.csv'"
      ],
      "execution_count": 1,
      "outputs": [
        {
          "output_type": "stream",
          "text": [
            "--2020-09-08 19:26:40--  https://raw.githubusercontent.com/Chelsea-Myers/Lambda-Intro/master/Slasher.csv\n",
            "Resolving raw.githubusercontent.com (raw.githubusercontent.com)... 151.101.0.133, 151.101.64.133, 151.101.128.133, ...\n",
            "Connecting to raw.githubusercontent.com (raw.githubusercontent.com)|151.101.0.133|:443... connected.\n",
            "HTTP request sent, awaiting response... 200 OK\n",
            "Length: 5256 (5.1K) [text/plain]\n",
            "Saving to: ‘Slasher.csv’\n",
            "\n",
            "Slasher.csv         100%[===================>]   5.13K  --.-KB/s    in 0s      \n",
            "\n",
            "2020-09-08 19:26:40 (64.9 MB/s) - ‘Slasher.csv’ saved [5256/5256]\n",
            "\n"
          ],
          "name": "stdout"
        }
      ]
    },
    {
      "cell_type": "code",
      "metadata": {
        "id": "P5lkp9i2MYw6",
        "colab_type": "code",
        "colab": {
          "base_uri": "https://localhost:8080/",
          "height": 204
        },
        "outputId": "f963f97c-8de5-4ba9-9520-46d19f172cc7"
      },
      "source": [
        "df = pd.read_csv('/content/Slasher.csv')\n",
        "df.head()"
      ],
      "execution_count": 3,
      "outputs": [
        {
          "output_type": "execute_result",
          "data": {
            "text/html": [
              "<div>\n",
              "<style scoped>\n",
              "    .dataframe tbody tr th:only-of-type {\n",
              "        vertical-align: middle;\n",
              "    }\n",
              "\n",
              "    .dataframe tbody tr th {\n",
              "        vertical-align: top;\n",
              "    }\n",
              "\n",
              "    .dataframe thead th {\n",
              "        text-align: right;\n",
              "    }\n",
              "</style>\n",
              "<table border=\"1\" class=\"dataframe\">\n",
              "  <thead>\n",
              "    <tr style=\"text-align: right;\">\n",
              "      <th></th>\n",
              "      <th>ID</th>\n",
              "      <th>Gender</th>\n",
              "      <th>Activity</th>\n",
              "      <th>Survival</th>\n",
              "    </tr>\n",
              "  </thead>\n",
              "  <tbody>\n",
              "    <tr>\n",
              "      <th>0</th>\n",
              "      <td>1</td>\n",
              "      <td>1</td>\n",
              "      <td>1</td>\n",
              "      <td>1</td>\n",
              "    </tr>\n",
              "    <tr>\n",
              "      <th>1</th>\n",
              "      <td>2</td>\n",
              "      <td>1</td>\n",
              "      <td>1</td>\n",
              "      <td>1</td>\n",
              "    </tr>\n",
              "    <tr>\n",
              "      <th>2</th>\n",
              "      <td>3</td>\n",
              "      <td>1</td>\n",
              "      <td>1</td>\n",
              "      <td>1</td>\n",
              "    </tr>\n",
              "    <tr>\n",
              "      <th>3</th>\n",
              "      <td>4</td>\n",
              "      <td>1</td>\n",
              "      <td>1</td>\n",
              "      <td>1</td>\n",
              "    </tr>\n",
              "    <tr>\n",
              "      <th>4</th>\n",
              "      <td>5</td>\n",
              "      <td>1</td>\n",
              "      <td>1</td>\n",
              "      <td>1</td>\n",
              "    </tr>\n",
              "  </tbody>\n",
              "</table>\n",
              "</div>"
            ],
            "text/plain": [
              "   ID  Gender  Activity  Survival\n",
              "0   1       1         1         1\n",
              "1   2       1         1         1\n",
              "2   3       1         1         1\n",
              "3   4       1         1         1\n",
              "4   5       1         1         1"
            ]
          },
          "metadata": {
            "tags": []
          },
          "execution_count": 3
        }
      ]
    },
    {
      "cell_type": "markdown",
      "metadata": {
        "id": "llP1_XV0ak8C",
        "colab_type": "text"
      },
      "source": [
        "###2) Display the top 5 rows of the dataframe to take a look at the variable names and values."
      ]
    },
    {
      "cell_type": "code",
      "metadata": {
        "colab_type": "code",
        "id": "Ws10E-kqayJZ",
        "colab": {
          "base_uri": "https://localhost:8080/",
          "height": 204
        },
        "outputId": "5f381351-87f6-4fac-cc85-aa8e22004e1a"
      },
      "source": [
        "# YOUR WORK HERE\n",
        "df.head()"
      ],
      "execution_count": 6,
      "outputs": [
        {
          "output_type": "execute_result",
          "data": {
            "text/html": [
              "<div>\n",
              "<style scoped>\n",
              "    .dataframe tbody tr th:only-of-type {\n",
              "        vertical-align: middle;\n",
              "    }\n",
              "\n",
              "    .dataframe tbody tr th {\n",
              "        vertical-align: top;\n",
              "    }\n",
              "\n",
              "    .dataframe thead th {\n",
              "        text-align: right;\n",
              "    }\n",
              "</style>\n",
              "<table border=\"1\" class=\"dataframe\">\n",
              "  <thead>\n",
              "    <tr style=\"text-align: right;\">\n",
              "      <th></th>\n",
              "      <th>ID</th>\n",
              "      <th>Gender</th>\n",
              "      <th>Activity</th>\n",
              "      <th>Survival</th>\n",
              "    </tr>\n",
              "  </thead>\n",
              "  <tbody>\n",
              "    <tr>\n",
              "      <th>0</th>\n",
              "      <td>1</td>\n",
              "      <td>1</td>\n",
              "      <td>1</td>\n",
              "      <td>1</td>\n",
              "    </tr>\n",
              "    <tr>\n",
              "      <th>1</th>\n",
              "      <td>2</td>\n",
              "      <td>1</td>\n",
              "      <td>1</td>\n",
              "      <td>1</td>\n",
              "    </tr>\n",
              "    <tr>\n",
              "      <th>2</th>\n",
              "      <td>3</td>\n",
              "      <td>1</td>\n",
              "      <td>1</td>\n",
              "      <td>1</td>\n",
              "    </tr>\n",
              "    <tr>\n",
              "      <th>3</th>\n",
              "      <td>4</td>\n",
              "      <td>1</td>\n",
              "      <td>1</td>\n",
              "      <td>1</td>\n",
              "    </tr>\n",
              "    <tr>\n",
              "      <th>4</th>\n",
              "      <td>5</td>\n",
              "      <td>1</td>\n",
              "      <td>1</td>\n",
              "      <td>1</td>\n",
              "    </tr>\n",
              "  </tbody>\n",
              "</table>\n",
              "</div>"
            ],
            "text/plain": [
              "   ID  Gender  Activity  Survival\n",
              "0   1       1         1         1\n",
              "1   2       1         1         1\n",
              "2   3       1         1         1\n",
              "3   4       1         1         1\n",
              "4   5       1         1         1"
            ]
          },
          "metadata": {
            "tags": []
          },
          "execution_count": 6
        }
      ]
    },
    {
      "cell_type": "markdown",
      "metadata": {
        "id": "PAHPjE4Ea52w",
        "colab_type": "text"
      },
      "source": [
        "The variable codes are:\n",
        "\n",
        "ID = Character ID\n",
        "\n",
        "Gender = Character gender.  0 = female, 1 = male\n",
        "\n",
        "Activity = Character was portrayed as engaged in sexual activity.  0 = no, 1 = yes\n",
        "\n",
        "Survival = Character survival in the film. 0 = did not survive, 1 = survived"
      ]
    },
    {
      "cell_type": "markdown",
      "metadata": {
        "id": "pabzhfvLbdFZ",
        "colab_type": "text"
      },
      "source": [
        "###3) Calculate the frequency and relative frequency of male and female characters in this set of slasher films.  Describe your results in a sentence or two."
      ]
    },
    {
      "cell_type": "code",
      "metadata": {
        "colab_type": "code",
        "id": "9gIQaRsQbt77",
        "colab": {
          "base_uri": "https://localhost:8080/",
          "height": 142
        },
        "outputId": "bf5b186d-132f-4360-ab91-2d9e71ea47cb"
      },
      "source": [
        "# YOUR WORK HERE\n",
        "\n",
        "gender = pd.crosstab(index=df['Gender'], columns='count')\n",
        "\n",
        "gender"
      ],
      "execution_count": 8,
      "outputs": [
        {
          "output_type": "execute_result",
          "data": {
            "text/html": [
              "<div>\n",
              "<style scoped>\n",
              "    .dataframe tbody tr th:only-of-type {\n",
              "        vertical-align: middle;\n",
              "    }\n",
              "\n",
              "    .dataframe tbody tr th {\n",
              "        vertical-align: top;\n",
              "    }\n",
              "\n",
              "    .dataframe thead th {\n",
              "        text-align: right;\n",
              "    }\n",
              "</style>\n",
              "<table border=\"1\" class=\"dataframe\">\n",
              "  <thead>\n",
              "    <tr style=\"text-align: right;\">\n",
              "      <th>col_0</th>\n",
              "      <th>count</th>\n",
              "    </tr>\n",
              "    <tr>\n",
              "      <th>Gender</th>\n",
              "      <th></th>\n",
              "    </tr>\n",
              "  </thead>\n",
              "  <tbody>\n",
              "    <tr>\n",
              "      <th>0</th>\n",
              "      <td>263</td>\n",
              "    </tr>\n",
              "    <tr>\n",
              "      <th>1</th>\n",
              "      <td>222</td>\n",
              "    </tr>\n",
              "  </tbody>\n",
              "</table>\n",
              "</div>"
            ],
            "text/plain": [
              "col_0   count\n",
              "Gender       \n",
              "0         263\n",
              "1         222"
            ]
          },
          "metadata": {
            "tags": []
          },
          "execution_count": 8
        }
      ]
    },
    {
      "cell_type": "code",
      "metadata": {
        "id": "NZbQm2ZiRDIX",
        "colab_type": "code",
        "colab": {
          "base_uri": "https://localhost:8080/",
          "height": 142
        },
        "outputId": "760052fc-5457-432e-8690-a3bc3bccf063"
      },
      "source": [
        "gender/gender.sum()*100"
      ],
      "execution_count": 9,
      "outputs": [
        {
          "output_type": "execute_result",
          "data": {
            "text/html": [
              "<div>\n",
              "<style scoped>\n",
              "    .dataframe tbody tr th:only-of-type {\n",
              "        vertical-align: middle;\n",
              "    }\n",
              "\n",
              "    .dataframe tbody tr th {\n",
              "        vertical-align: top;\n",
              "    }\n",
              "\n",
              "    .dataframe thead th {\n",
              "        text-align: right;\n",
              "    }\n",
              "</style>\n",
              "<table border=\"1\" class=\"dataframe\">\n",
              "  <thead>\n",
              "    <tr style=\"text-align: right;\">\n",
              "      <th>col_0</th>\n",
              "      <th>count</th>\n",
              "    </tr>\n",
              "    <tr>\n",
              "      <th>Gender</th>\n",
              "      <th></th>\n",
              "    </tr>\n",
              "  </thead>\n",
              "  <tbody>\n",
              "    <tr>\n",
              "      <th>0</th>\n",
              "      <td>54.226804</td>\n",
              "    </tr>\n",
              "    <tr>\n",
              "      <th>1</th>\n",
              "      <td>45.773196</td>\n",
              "    </tr>\n",
              "  </tbody>\n",
              "</table>\n",
              "</div>"
            ],
            "text/plain": [
              "col_0       count\n",
              "Gender           \n",
              "0       54.226804\n",
              "1       45.773196"
            ]
          },
          "metadata": {
            "tags": []
          },
          "execution_count": 9
        }
      ]
    },
    {
      "cell_type": "markdown",
      "metadata": {
        "id": "Q79IYzM7bz4j",
        "colab_type": "text"
      },
      "source": [
        "Describe your results here."
      ]
    },
    {
      "cell_type": "markdown",
      "metadata": {
        "id": "yGdbQAvVRHho",
        "colab_type": "text"
      },
      "source": [
        "***There are slightly more female characters than male characters in the Slasher film data.***"
      ]
    },
    {
      "cell_type": "markdown",
      "metadata": {
        "id": "98XNROkarNAI",
        "colab_type": "text"
      },
      "source": [
        "###4) Calculate the frequency and relative frequency of character survival in this set of slasher films.  Describe your results in a sentence or two."
      ]
    },
    {
      "cell_type": "code",
      "metadata": {
        "id": "r4Fa3TDRRdzK",
        "colab_type": "code",
        "colab": {
          "base_uri": "https://localhost:8080/",
          "height": 142
        },
        "outputId": "e92d96a1-25ab-412f-c582-ddf5743d8f51"
      },
      "source": [
        "survival = pd.crosstab(index=df['Survival'], columns=\"count\")\n",
        "\n",
        "survival"
      ],
      "execution_count": 10,
      "outputs": [
        {
          "output_type": "execute_result",
          "data": {
            "text/html": [
              "<div>\n",
              "<style scoped>\n",
              "    .dataframe tbody tr th:only-of-type {\n",
              "        vertical-align: middle;\n",
              "    }\n",
              "\n",
              "    .dataframe tbody tr th {\n",
              "        vertical-align: top;\n",
              "    }\n",
              "\n",
              "    .dataframe thead th {\n",
              "        text-align: right;\n",
              "    }\n",
              "</style>\n",
              "<table border=\"1\" class=\"dataframe\">\n",
              "  <thead>\n",
              "    <tr style=\"text-align: right;\">\n",
              "      <th>col_0</th>\n",
              "      <th>count</th>\n",
              "    </tr>\n",
              "    <tr>\n",
              "      <th>Survival</th>\n",
              "      <th></th>\n",
              "    </tr>\n",
              "  </thead>\n",
              "  <tbody>\n",
              "    <tr>\n",
              "      <th>0</th>\n",
              "      <td>400</td>\n",
              "    </tr>\n",
              "    <tr>\n",
              "      <th>1</th>\n",
              "      <td>85</td>\n",
              "    </tr>\n",
              "  </tbody>\n",
              "</table>\n",
              "</div>"
            ],
            "text/plain": [
              "col_0     count\n",
              "Survival       \n",
              "0           400\n",
              "1            85"
            ]
          },
          "metadata": {
            "tags": []
          },
          "execution_count": 10
        }
      ]
    },
    {
      "cell_type": "code",
      "metadata": {
        "id": "_G5J2hWwRlP3",
        "colab_type": "code",
        "colab": {
          "base_uri": "https://localhost:8080/",
          "height": 142
        },
        "outputId": "6dc8ae26-cb54-4da9-cc28-e3a5fc7b779e"
      },
      "source": [
        "survival/survival.sum()*100"
      ],
      "execution_count": 12,
      "outputs": [
        {
          "output_type": "execute_result",
          "data": {
            "text/html": [
              "<div>\n",
              "<style scoped>\n",
              "    .dataframe tbody tr th:only-of-type {\n",
              "        vertical-align: middle;\n",
              "    }\n",
              "\n",
              "    .dataframe tbody tr th {\n",
              "        vertical-align: top;\n",
              "    }\n",
              "\n",
              "    .dataframe thead th {\n",
              "        text-align: right;\n",
              "    }\n",
              "</style>\n",
              "<table border=\"1\" class=\"dataframe\">\n",
              "  <thead>\n",
              "    <tr style=\"text-align: right;\">\n",
              "      <th>col_0</th>\n",
              "      <th>count</th>\n",
              "    </tr>\n",
              "    <tr>\n",
              "      <th>Survival</th>\n",
              "      <th></th>\n",
              "    </tr>\n",
              "  </thead>\n",
              "  <tbody>\n",
              "    <tr>\n",
              "      <th>0</th>\n",
              "      <td>82.474227</td>\n",
              "    </tr>\n",
              "    <tr>\n",
              "      <th>1</th>\n",
              "      <td>17.525773</td>\n",
              "    </tr>\n",
              "  </tbody>\n",
              "</table>\n",
              "</div>"
            ],
            "text/plain": [
              "col_0         count\n",
              "Survival           \n",
              "0         82.474227\n",
              "1         17.525773"
            ]
          },
          "metadata": {
            "tags": []
          },
          "execution_count": 12
        }
      ]
    },
    {
      "cell_type": "markdown",
      "metadata": {
        "colab_type": "text",
        "id": "kAypm_UUrRWv"
      },
      "source": [
        "Describe your results here."
      ]
    },
    {
      "cell_type": "markdown",
      "metadata": {
        "id": "uSv66SJWRtLO",
        "colab_type": "text"
      },
      "source": [
        "***Most characters (over 80%) in slasher films end up dying***"
      ]
    },
    {
      "cell_type": "markdown",
      "metadata": {
        "colab_type": "text",
        "id": "0K1kuj8yb5BD"
      },
      "source": [
        "###5) Calculate the joint distribution of character sex and movie survival. Add the table margins.  \n",
        "\n",
        "Hint: If you are working off of the in-class examples, it will be helpful to include character sex as the index variable. \n",
        "\n",
        "Describe your results in a sentence or two."
      ]
    },
    {
      "cell_type": "code",
      "metadata": {
        "colab_type": "code",
        "id": "lBqo9mPJcApw",
        "colab": {
          "base_uri": "https://localhost:8080/",
          "height": 173
        },
        "outputId": "1d6292e7-649e-4e19-8eab-59a270db03a1"
      },
      "source": [
        "# YOUR WORK HERE\n",
        "\n",
        "JD_gender = pd.crosstab(df['Gender'], df['Survival'], margins=True)\n",
        "\n",
        "JD_gender"
      ],
      "execution_count": 21,
      "outputs": [
        {
          "output_type": "execute_result",
          "data": {
            "text/html": [
              "<div>\n",
              "<style scoped>\n",
              "    .dataframe tbody tr th:only-of-type {\n",
              "        vertical-align: middle;\n",
              "    }\n",
              "\n",
              "    .dataframe tbody tr th {\n",
              "        vertical-align: top;\n",
              "    }\n",
              "\n",
              "    .dataframe thead th {\n",
              "        text-align: right;\n",
              "    }\n",
              "</style>\n",
              "<table border=\"1\" class=\"dataframe\">\n",
              "  <thead>\n",
              "    <tr style=\"text-align: right;\">\n",
              "      <th>Survival</th>\n",
              "      <th>0</th>\n",
              "      <th>1</th>\n",
              "      <th>All</th>\n",
              "    </tr>\n",
              "    <tr>\n",
              "      <th>Gender</th>\n",
              "      <th></th>\n",
              "      <th></th>\n",
              "      <th></th>\n",
              "    </tr>\n",
              "  </thead>\n",
              "  <tbody>\n",
              "    <tr>\n",
              "      <th>0</th>\n",
              "      <td>228</td>\n",
              "      <td>35</td>\n",
              "      <td>263</td>\n",
              "    </tr>\n",
              "    <tr>\n",
              "      <th>1</th>\n",
              "      <td>172</td>\n",
              "      <td>50</td>\n",
              "      <td>222</td>\n",
              "    </tr>\n",
              "    <tr>\n",
              "      <th>All</th>\n",
              "      <td>400</td>\n",
              "      <td>85</td>\n",
              "      <td>485</td>\n",
              "    </tr>\n",
              "  </tbody>\n",
              "</table>\n",
              "</div>"
            ],
            "text/plain": [
              "Survival    0   1  All\n",
              "Gender                \n",
              "0         228  35  263\n",
              "1         172  50  222\n",
              "All       400  85  485"
            ]
          },
          "metadata": {
            "tags": []
          },
          "execution_count": 21
        }
      ]
    },
    {
      "cell_type": "markdown",
      "metadata": {
        "colab_type": "text",
        "id": "63H4QMgKcDEp"
      },
      "source": [
        "Describe your results here."
      ]
    },
    {
      "cell_type": "markdown",
      "metadata": {
        "id": "5hQUEKuqT9BW",
        "colab_type": "text"
      },
      "source": [
        "***For the most part, there is a similar distribution between the genders of characters that end up dead. Slighly more males seem to be surviving***"
      ]
    },
    {
      "cell_type": "markdown",
      "metadata": {
        "id": "Dys0EucWrhuA",
        "colab_type": "text"
      },
      "source": [
        "###6) Calculate the distribution of survival conditional on character sex.\n",
        "Hint: If you are working off of the in-class examples, it will be helpful to include character sex as the index variable. \n",
        "\n",
        "Describe your results in a sentence or two."
      ]
    },
    {
      "cell_type": "code",
      "metadata": {
        "colab_type": "code",
        "id": "uhubOhDDrld-",
        "colab": {
          "base_uri": "https://localhost:8080/",
          "height": 173
        },
        "outputId": "bba831e4-8215-4931-98a1-7a7390949f67"
      },
      "source": [
        "# YOUR WORK HERE\n",
        "\n",
        "con_dis = pd.crosstab(df['Gender'], df['Survival'], margins=True, normalize='index')*100\n",
        "con_dis"
      ],
      "execution_count": 24,
      "outputs": [
        {
          "output_type": "execute_result",
          "data": {
            "text/html": [
              "<div>\n",
              "<style scoped>\n",
              "    .dataframe tbody tr th:only-of-type {\n",
              "        vertical-align: middle;\n",
              "    }\n",
              "\n",
              "    .dataframe tbody tr th {\n",
              "        vertical-align: top;\n",
              "    }\n",
              "\n",
              "    .dataframe thead th {\n",
              "        text-align: right;\n",
              "    }\n",
              "</style>\n",
              "<table border=\"1\" class=\"dataframe\">\n",
              "  <thead>\n",
              "    <tr style=\"text-align: right;\">\n",
              "      <th>Survival</th>\n",
              "      <th>0</th>\n",
              "      <th>1</th>\n",
              "    </tr>\n",
              "    <tr>\n",
              "      <th>Gender</th>\n",
              "      <th></th>\n",
              "      <th></th>\n",
              "    </tr>\n",
              "  </thead>\n",
              "  <tbody>\n",
              "    <tr>\n",
              "      <th>0</th>\n",
              "      <td>86.692015</td>\n",
              "      <td>13.307985</td>\n",
              "    </tr>\n",
              "    <tr>\n",
              "      <th>1</th>\n",
              "      <td>77.477477</td>\n",
              "      <td>22.522523</td>\n",
              "    </tr>\n",
              "    <tr>\n",
              "      <th>All</th>\n",
              "      <td>82.474227</td>\n",
              "      <td>17.525773</td>\n",
              "    </tr>\n",
              "  </tbody>\n",
              "</table>\n",
              "</div>"
            ],
            "text/plain": [
              "Survival          0          1\n",
              "Gender                        \n",
              "0         86.692015  13.307985\n",
              "1         77.477477  22.522523\n",
              "All       82.474227  17.525773"
            ]
          },
          "metadata": {
            "tags": []
          },
          "execution_count": 24
        }
      ]
    },
    {
      "cell_type": "markdown",
      "metadata": {
        "colab_type": "text",
        "id": "-Od-bknhrngI"
      },
      "source": [
        "Describe your results here."
      ]
    },
    {
      "cell_type": "markdown",
      "metadata": {
        "id": "MBOJqCd4bTrJ",
        "colab_type": "text"
      },
      "source": [
        "***More males are surviving in slasher films***"
      ]
    },
    {
      "cell_type": "markdown",
      "metadata": {
        "colab_type": "text",
        "id": "ODJU68cMKJ57"
      },
      "source": [
        "###7) Identify the appropriate null and alternative hypotheses to test for a statistically significant relationship between character sex and survival. \n",
        "\n",
        "**Ho:** There is no relationship between character sex and survival in slasher films.\n",
        "\n",
        "**Ha:** There is a relationship between character sex and survival in slasher films."
      ]
    },
    {
      "cell_type": "markdown",
      "metadata": {
        "id": "RXPZZuAi3ccI",
        "colab_type": "text"
      },
      "source": [
        "### 8) Perform the chi-square test above using `stats.chi2_contingency()` and output the p-value.\n"
      ]
    },
    {
      "cell_type": "code",
      "metadata": {
        "id": "Ckcr4A4FM7cs",
        "colab_type": "code",
        "colab": {
          "base_uri": "https://localhost:8080/",
          "height": 34
        },
        "outputId": "8f291b6d-764b-4870-ea91-8c725b417ce7"
      },
      "source": [
        "# YOUR WORK HERE\n",
        "\n",
        "g, p, dof, expected = chi2_contingency(pd.crosstab(df['Gender'], df['Survival']))\n",
        "\n",
        "p"
      ],
      "execution_count": 25,
      "outputs": [
        {
          "output_type": "execute_result",
          "data": {
            "text/plain": [
              "0.011104692591139975"
            ]
          },
          "metadata": {
            "tags": []
          },
          "execution_count": 25
        }
      ]
    },
    {
      "cell_type": "markdown",
      "metadata": {
        "id": "Tf7XPpBP6YqX",
        "colab_type": "text"
      },
      "source": [
        "### 9) Interpret your p-value in 8) at the 0.05 significance level, and summarize your results in a sentence or two."
      ]
    },
    {
      "cell_type": "markdown",
      "metadata": {
        "id": "N5v6Sca8LDmy",
        "colab_type": "text"
      },
      "source": [
        "***We reject the null hypothesis since the p-value is 0.011. There is a relationship between character sex and survival.***\n",
        "\n"
      ]
    },
    {
      "cell_type": "markdown",
      "metadata": {
        "colab_type": "text",
        "id": "6fuCbToDLTO0"
      },
      "source": [
        "### 10) Create a side-by-side bar plot to illuatrate the relationship between character sex and survival in Slasher movies.  Sum up your overall results in a sentence or two."
      ]
    },
    {
      "cell_type": "code",
      "metadata": {
        "id": "Et5DtusY6maX",
        "colab_type": "code",
        "colab": {
          "base_uri": "https://localhost:8080/",
          "height": 298
        },
        "outputId": "d0882988-286f-4a6d-c011-e55bde245e54"
      },
      "source": [
        "# YOUR WORK HERE\n",
        "\n",
        "N = 2\n",
        "\n",
        "Died = (87, 77)\n",
        "Survived = (13, 23)\n",
        "\n",
        "ind = np.arange(N)\n",
        "\n",
        "width = 0.35\n",
        "\n",
        "#create plot\n",
        "fig, ax = plt.subplots()\n",
        "rects1 = ax.bar(ind, Died, width, color='blue')\n",
        "rects2 = ax.bar(ind +width,  Survived, width, color='green')\n",
        "\n",
        "#labels\n",
        "ax.set_ylabel('Percent')\n",
        "ax.set_title('Survival Rate vs. Character Sex')\n",
        "ax.set_xticklabels(('Female', 'Male'))\n",
        "ax.set_xticks(ind + width/2)\n",
        "\n",
        "ax.legend((rects1[0], rects2[0]), ('Did not survive', 'Survived'))"
      ],
      "execution_count": 26,
      "outputs": [
        {
          "output_type": "execute_result",
          "data": {
            "text/plain": [
              "<matplotlib.legend.Legend at 0x7ff5bd43a9e8>"
            ]
          },
          "metadata": {
            "tags": []
          },
          "execution_count": 26
        },
        {
          "output_type": "display_data",
          "data": {
            "image/png": "[encoded data removed]",
            "text/plain": [
              "<Figure size 432x288 with 1 Axes>"
            ]
          },
          "metadata": {
            "tags": [],
            "needs_background": "light"
          }
        }
      ]
    },
    {
      "cell_type": "markdown",
      "metadata": {
        "colab_type": "text",
        "id": "Juj8P8RgLoiZ"
      },
      "source": [
        "***Most character, both males and females, do not surivive in slasher films, however, it seems less females survive compared to males.***"
      ]
    },
    {
      "cell_type": "markdown",
      "metadata": {
        "id": "_dHYNl15O9i7",
        "colab_type": "text"
      },
      "source": [
        "## Stretch Goals:\n",
        "\n",
        "###1. Explore the concept of an odds ratio\n",
        "\n",
        "Another way to quantify the relationship between two categorical variables is by calculating the odds ratio, which is the ratio of the odds of an event happening in one group to the odds of the event happening in another group.\n",
        "\n",
        "[Lots more about the odds ratio](https://en.wikipedia.org/wiki/Odds_ratio).\n",
        "\n",
        "We can use Python to calculate the odds of surviving a slaser movie for female compared to male characters.\n",
        "\n",
        "You can find more information about calculating the odds ratio for a 2x2 table in Python [here](https://www.statsmodels.org/stable/contingency_tables.html).  Scroll down to the section labeled \"A Single 2x2 Table\".\n",
        "\n",
        "Calculate the odds ratio comparing the odds of movie survival in female compared to male characters.  Interpret what this number tells you about the likelihood of male and female characters surviving the film.\n"
      ]
    },
    {
      "cell_type": "code",
      "metadata": {
        "id": "AntnuAkFm-JQ",
        "colab_type": "code",
        "colab": {
          "base_uri": "https://localhost:8080/",
          "height": 190
        },
        "outputId": "be99b0af-ff86-43ed-ebdb-8bf1be98c553"
      },
      "source": [
        "# YOUR WORK HERE\n",
        "import statsmodels.api as sm\n",
        "\n",
        "table = pd.crosstab(df['Gender'], df['Survival'])\n",
        "\n",
        "t22 = sm.stats.Table2x2(table)\n",
        "\n",
        "print(t22.summary())\n",
        "\n"
      ],
      "execution_count": 27,
      "outputs": [
        {
          "output_type": "stream",
          "text": [
            "/usr/local/lib/python3.6/dist-packages/statsmodels/tools/_testing.py:19: FutureWarning: pandas.util.testing is deprecated. Use the functions in the public API at pandas.testing instead.\n",
            "  import pandas.util.testing as tm\n"
          ],
          "name": "stderr"
        },
        {
          "output_type": "stream",
          "text": [
            "               Estimate   SE   LCB   UCB  p-value\n",
            "-------------------------------------------------\n",
            "Odds ratio        1.894       1.177 3.046   0.008\n",
            "Log odds ratio    0.639 0.242 0.163 1.114   0.008\n",
            "Risk ratio        1.119       1.027 1.219   0.010\n",
            "Log risk ratio    0.112 0.044 0.027 0.198   0.010\n",
            "-------------------------------------------------\n"
          ],
          "name": "stdout"
        }
      ]
    },
    {
      "cell_type": "code",
      "metadata": {
        "id": "XMf5FkmkguKK",
        "colab_type": "code",
        "colab": {
          "base_uri": "https://localhost:8080/",
          "height": 136
        },
        "outputId": "39c40fd7-7eb1-4ca4-c885-401b0ace98d1"
      },
      "source": [
        "t22 = sm.stats.Table2x2(table.T)\n",
        "\n",
        "print(t22.summary())"
      ],
      "execution_count": 28,
      "outputs": [
        {
          "output_type": "stream",
          "text": [
            "               Estimate   SE   LCB   UCB  p-value\n",
            "-------------------------------------------------\n",
            "Odds ratio        1.894       1.177 3.046   0.008\n",
            "Log odds ratio    0.639 0.242 0.163 1.114   0.008\n",
            "Risk ratio        1.384       1.059 1.810   0.017\n",
            "Log risk ratio    0.325 0.137 0.057 0.593   0.017\n",
            "-------------------------------------------------\n"
          ],
          "name": "stdout"
        }
      ]
    },
    {
      "cell_type": "markdown",
      "metadata": {
        "id": "UEsP2NukUhyB",
        "colab_type": "text"
      },
      "source": [
        "Sum up your results in a sentence or two."
      ]
    },
    {
      "cell_type": "markdown",
      "metadata": {
        "id": "Bssesu7-iGVD",
        "colab_type": "text"
      },
      "source": [
        "***Character sex is not independent of survival since the odds ratio is greater than 1 (1.894). Female characters are almost twice as likely to die compared to males***"
      ]
    },
    {
      "cell_type": "markdown",
      "metadata": {
        "id": "VfIdkOJAg619",
        "colab_type": "text"
      },
      "source": [
        "***"
      ]
    },
    {
      "cell_type": "markdown",
      "metadata": {
        "id": "a2BrKHq8m8AS",
        "colab_type": "text"
      },
      "source": [
        "\n",
        "### 2. Learn about Simpson's Paradox\n",
        "\n",
        "[Simpson's Paradox](https://en.wikipedia.org/wiki/Simpson%27s_paradox#:~:text=Simpson's%20paradox%2C%20which%20goes%20by,when%20these%20groups%20are%20combined.) occurs when a trend that appears in separate groups disappears or reverses when those groups are combined.  \n",
        "\n",
        "Create a scenario where Hopsital A has a lower overall mortality rate than Hospital B but has a higher mortality rate if cases are separated into two groups: high risk and low risk.\n"
      ]
    },
    {
      "cell_type": "code",
      "metadata": {
        "colab_type": "code",
        "id": "6KjgUutL4rrq",
        "colab": {
          "base_uri": "https://localhost:8080/",
          "height": 111
        },
        "outputId": "d75ca52e-8852-414c-911e-0d1320a21b6f"
      },
      "source": [
        "# YOUR WORK HERE\n",
        "sp = pd.read_csv(\"/content/hospitals.csv\")\n",
        "sp.head()"
      ],
      "execution_count": 32,
      "outputs": [
        {
          "output_type": "execute_result",
          "data": {
            "text/html": [
              "<div>\n",
              "<style scoped>\n",
              "    .dataframe tbody tr th:only-of-type {\n",
              "        vertical-align: middle;\n",
              "    }\n",
              "\n",
              "    .dataframe tbody tr th {\n",
              "        vertical-align: top;\n",
              "    }\n",
              "\n",
              "    .dataframe thead th {\n",
              "        text-align: right;\n",
              "    }\n",
              "</style>\n",
              "<table border=\"1\" class=\"dataframe\">\n",
              "  <thead>\n",
              "    <tr style=\"text-align: right;\">\n",
              "      <th></th>\n",
              "      <th>Hospital</th>\n",
              "      <th>Admissions</th>\n",
              "      <th>Deaths</th>\n",
              "      <th>High Risk</th>\n",
              "      <th>Low Risk</th>\n",
              "    </tr>\n",
              "  </thead>\n",
              "  <tbody>\n",
              "    <tr>\n",
              "      <th>0</th>\n",
              "      <td>A</td>\n",
              "      <td>500</td>\n",
              "      <td>17</td>\n",
              "      <td>8</td>\n",
              "      <td>9</td>\n",
              "    </tr>\n",
              "    <tr>\n",
              "      <th>1</th>\n",
              "      <td>B</td>\n",
              "      <td>500</td>\n",
              "      <td>20</td>\n",
              "      <td>14</td>\n",
              "      <td>6</td>\n",
              "    </tr>\n",
              "  </tbody>\n",
              "</table>\n",
              "</div>"
            ],
            "text/plain": [
              "  Hospital  Admissions  Deaths  High Risk  Low Risk\n",
              "0        A         500      17          8         9\n",
              "1        B         500      20         14         6"
            ]
          },
          "metadata": {
            "tags": []
          },
          "execution_count": 32
        }
      ]
    },
    {
      "cell_type": "markdown",
      "metadata": {
        "colab_type": "text",
        "id": "LufEkMfu4tY8"
      },
      "source": [
        "Sum up your results in a sentence or two."
      ]
    },
    {
      "cell_type": "markdown",
      "metadata": {
        "id": "5j4hcYAtqXZW",
        "colab_type": "text"
      },
      "source": [
        "![image.png](data:image/png;base64,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)"
      ]
    },
    {
      "cell_type": "code",
      "metadata": {
        "id": "cNohz85kqbef",
        "colab_type": "code",
        "colab": {}
      },
      "source": [
        ""
      ],
      "execution_count": null,
      "outputs": []
    }
  ]
}