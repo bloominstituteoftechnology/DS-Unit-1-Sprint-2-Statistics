{
  "nbformat": 4,
  "nbformat_minor": 0,
  "metadata": {
    "colab": {
      "name": "LS_DS_122_Chi2_Tests_Assignment.ipynb",
      "provenance": [],
      "collapsed_sections": [],
      "include_colab_link": true
    },
    "kernelspec": {
      "name": "python3",
      "display_name": "Python 3"
    }
  },
  "cells": [
    {
      "cell_type": "markdown",
      "metadata": {
        "id": "view-in-github",
        "colab_type": "text"
      },
      "source": [
        "<a href=\"https://colab.research.google.com/github/james-caldwell1981/DS-Unit-1-Sprint-2-Statistics/blob/master/module2/LS_DS_122_Chi2_Tests_Assignment.ipynb\" target=\"_parent\"><img src=\"https://colab.research.google.com/assets/colab-badge.svg\" alt=\"Open In Colab\"/></a>"
      ]
    },
    {
      "cell_type": "markdown",
      "metadata": {
        "id": "11OzdxWTM7UR",
        "colab_type": "text"
      },
      "source": [
        "## Assignment - Practice Chi^2 Tests\n",
        "\n",
        "Use the following dataset relating to math scores of students in two different Portugese schools:\n",
        "\n",
        "<https://archive.ics.uci.edu/ml/datasets/Student+Performance>\n",
        "\n",
        "### 1) Load the dataset specifically relating to math scores as a new dataframe.\n",
        "\n",
        "There are two datasets in the `student.zip` file, make sure you use `student-mat.csv`.\n"
      ]
    },
    {
      "cell_type": "code",
      "metadata": {
        "id": "UQwvrhn7m3Mn",
        "colab_type": "code",
        "colab": {}
      },
      "source": [
        "import pandas as pd\n",
        "import numpy as np\n",
        "from scipy import stats\n",
        "from scipy.stats import chisquare\n",
        "from scipy.stats import normaltest"
      ],
      "execution_count": 0,
      "outputs": []
    },
    {
      "cell_type": "code",
      "metadata": {
        "id": "IL8wDY_Yu-EB",
        "colab_type": "code",
        "outputId": "97694e3f-b928-4ae1-f476-47b3b56b03bc",
        "colab": {
          "base_uri": "https://localhost:8080/",
          "height": 212
        }
      },
      "source": [
        "!wget https://archive.ics.uci.edu/ml/machine-learning-databases/00320/student.zip"
      ],
      "execution_count": 2,
      "outputs": [
        {
          "output_type": "stream",
          "text": [
            "--2020-06-10 21:30:23--  https://archive.ics.uci.edu/ml/machine-learning-databases/00320/student.zip\n",
            "Resolving archive.ics.uci.edu (archive.ics.uci.edu)... 128.195.10.252\n",
            "Connecting to archive.ics.uci.edu (archive.ics.uci.edu)|128.195.10.252|:443... connected.\n",
            "HTTP request sent, awaiting response... 200 OK\n",
            "Length: 20478 (20K) [application/x-httpd-php]\n",
            "Saving to: ‘student.zip.1’\n",
            "\n",
            "\rstudent.zip.1         0%[                    ]       0  --.-KB/s               \rstudent.zip.1       100%[===================>]  20.00K  --.-KB/s    in 0.03s   \n",
            "\n",
            "2020-06-10 21:30:23 (651 KB/s) - ‘student.zip.1’ saved [20478/20478]\n",
            "\n"
          ],
          "name": "stdout"
        }
      ]
    },
    {
      "cell_type": "code",
      "metadata": {
        "id": "99F5KMNtvBvp",
        "colab_type": "code",
        "outputId": "399a1c6f-c88d-494e-f665-c67cd5b162e4",
        "colab": {
          "base_uri": "https://localhost:8080/",
          "height": 105
        }
      },
      "source": [
        "!unzip student.zip"
      ],
      "execution_count": 3,
      "outputs": [
        {
          "output_type": "stream",
          "text": [
            "Archive:  student.zip\n",
            "replace student-mat.csv? [y]es, [n]o, [A]ll, [N]one, [r]ename: n\n",
            "replace student-por.csv? [y]es, [n]o, [A]ll, [N]one, [r]ename: n\n",
            "replace student-merge.R? [y]es, [n]o, [A]ll, [N]one, [r]ename: n\n",
            "replace student.txt? [y]es, [n]o, [A]ll, [N]one, [r]ename: N\n"
          ],
          "name": "stdout"
        }
      ]
    },
    {
      "cell_type": "code",
      "metadata": {
        "id": "IAdfGwtPvEi9",
        "colab_type": "code",
        "colab": {}
      },
      "source": [
        "df = pd.read_csv('student-mat.csv', sep=';')"
      ],
      "execution_count": 0,
      "outputs": []
    },
    {
      "cell_type": "code",
      "metadata": {
        "id": "IWXk1Z-jvHBd",
        "colab_type": "code",
        "outputId": "e4dd29f8-e609-4dc1-ee07-050659fcdc50",
        "colab": {
          "base_uri": "https://localhost:8080/",
          "height": 235
        }
      },
      "source": [
        "print(df.shape)\n",
        "df.head()"
      ],
      "execution_count": 7,
      "outputs": [
        {
          "output_type": "stream",
          "text": [
            "(395, 33)\n"
          ],
          "name": "stdout"
        },
        {
          "output_type": "execute_result",
          "data": {
            "text/html": [
              "<div>\n",
              "<style scoped>\n",
              "    .dataframe tbody tr th:only-of-type {\n",
              "        vertical-align: middle;\n",
              "    }\n",
              "\n",
              "    .dataframe tbody tr th {\n",
              "        vertical-align: top;\n",
              "    }\n",
              "\n",
              "    .dataframe thead th {\n",
              "        text-align: right;\n",
              "    }\n",
              "</style>\n",
              "<table border=\"1\" class=\"dataframe\">\n",
              "  <thead>\n",
              "    <tr style=\"text-align: right;\">\n",
              "      <th></th>\n",
              "      <th>school</th>\n",
              "      <th>sex</th>\n",
              "      <th>age</th>\n",
              "      <th>address</th>\n",
              "      <th>famsize</th>\n",
              "      <th>Pstatus</th>\n",
              "      <th>Medu</th>\n",
              "      <th>Fedu</th>\n",
              "      <th>Mjob</th>\n",
              "      <th>Fjob</th>\n",
              "      <th>reason</th>\n",
              "      <th>guardian</th>\n",
              "      <th>traveltime</th>\n",
              "      <th>studytime</th>\n",
              "      <th>failures</th>\n",
              "      <th>schoolsup</th>\n",
              "      <th>famsup</th>\n",
              "      <th>paid</th>\n",
              "      <th>activities</th>\n",
              "      <th>nursery</th>\n",
              "      <th>higher</th>\n",
              "      <th>internet</th>\n",
              "      <th>romantic</th>\n",
              "      <th>famrel</th>\n",
              "      <th>freetime</th>\n",
              "      <th>goout</th>\n",
              "      <th>Dalc</th>\n",
              "      <th>Walc</th>\n",
              "      <th>health</th>\n",
              "      <th>absences</th>\n",
              "      <th>G1</th>\n",
              "      <th>G2</th>\n",
              "      <th>G3</th>\n",
              "    </tr>\n",
              "  </thead>\n",
              "  <tbody>\n",
              "    <tr>\n",
              "      <th>0</th>\n",
              "      <td>GP</td>\n",
              "      <td>F</td>\n",
              "      <td>18</td>\n",
              "      <td>U</td>\n",
              "      <td>GT3</td>\n",
              "      <td>A</td>\n",
              "      <td>4</td>\n",
              "      <td>4</td>\n",
              "      <td>at_home</td>\n",
              "      <td>teacher</td>\n",
              "      <td>course</td>\n",
              "      <td>mother</td>\n",
              "      <td>2</td>\n",
              "      <td>2</td>\n",
              "      <td>0</td>\n",
              "      <td>yes</td>\n",
              "      <td>no</td>\n",
              "      <td>no</td>\n",
              "      <td>no</td>\n",
              "      <td>yes</td>\n",
              "      <td>yes</td>\n",
              "      <td>no</td>\n",
              "      <td>no</td>\n",
              "      <td>4</td>\n",
              "      <td>3</td>\n",
              "      <td>4</td>\n",
              "      <td>1</td>\n",
              "      <td>1</td>\n",
              "      <td>3</td>\n",
              "      <td>6</td>\n",
              "      <td>5</td>\n",
              "      <td>6</td>\n",
              "      <td>6</td>\n",
              "    </tr>\n",
              "    <tr>\n",
              "      <th>1</th>\n",
              "      <td>GP</td>\n",
              "      <td>F</td>\n",
              "      <td>17</td>\n",
              "      <td>U</td>\n",
              "      <td>GT3</td>\n",
              "      <td>T</td>\n",
              "      <td>1</td>\n",
              "      <td>1</td>\n",
              "      <td>at_home</td>\n",
              "      <td>other</td>\n",
              "      <td>course</td>\n",
              "      <td>father</td>\n",
              "      <td>1</td>\n",
              "      <td>2</td>\n",
              "      <td>0</td>\n",
              "      <td>no</td>\n",
              "      <td>yes</td>\n",
              "      <td>no</td>\n",
              "      <td>no</td>\n",
              "      <td>no</td>\n",
              "      <td>yes</td>\n",
              "      <td>yes</td>\n",
              "      <td>no</td>\n",
              "      <td>5</td>\n",
              "      <td>3</td>\n",
              "      <td>3</td>\n",
              "      <td>1</td>\n",
              "      <td>1</td>\n",
              "      <td>3</td>\n",
              "      <td>4</td>\n",
              "      <td>5</td>\n",
              "      <td>5</td>\n",
              "      <td>6</td>\n",
              "    </tr>\n",
              "    <tr>\n",
              "      <th>2</th>\n",
              "      <td>GP</td>\n",
              "      <td>F</td>\n",
              "      <td>15</td>\n",
              "      <td>U</td>\n",
              "      <td>LE3</td>\n",
              "      <td>T</td>\n",
              "      <td>1</td>\n",
              "      <td>1</td>\n",
              "      <td>at_home</td>\n",
              "      <td>other</td>\n",
              "      <td>other</td>\n",
              "      <td>mother</td>\n",
              "      <td>1</td>\n",
              "      <td>2</td>\n",
              "      <td>3</td>\n",
              "      <td>yes</td>\n",
              "      <td>no</td>\n",
              "      <td>yes</td>\n",
              "      <td>no</td>\n",
              "      <td>yes</td>\n",
              "      <td>yes</td>\n",
              "      <td>yes</td>\n",
              "      <td>no</td>\n",
              "      <td>4</td>\n",
              "      <td>3</td>\n",
              "      <td>2</td>\n",
              "      <td>2</td>\n",
              "      <td>3</td>\n",
              "      <td>3</td>\n",
              "      <td>10</td>\n",
              "      <td>7</td>\n",
              "      <td>8</td>\n",
              "      <td>10</td>\n",
              "    </tr>\n",
              "    <tr>\n",
              "      <th>3</th>\n",
              "      <td>GP</td>\n",
              "      <td>F</td>\n",
              "      <td>15</td>\n",
              "      <td>U</td>\n",
              "      <td>GT3</td>\n",
              "      <td>T</td>\n",
              "      <td>4</td>\n",
              "      <td>2</td>\n",
              "      <td>health</td>\n",
              "      <td>services</td>\n",
              "      <td>home</td>\n",
              "      <td>mother</td>\n",
              "      <td>1</td>\n",
              "      <td>3</td>\n",
              "      <td>0</td>\n",
              "      <td>no</td>\n",
              "      <td>yes</td>\n",
              "      <td>yes</td>\n",
              "      <td>yes</td>\n",
              "      <td>yes</td>\n",
              "      <td>yes</td>\n",
              "      <td>yes</td>\n",
              "      <td>yes</td>\n",
              "      <td>3</td>\n",
              "      <td>2</td>\n",
              "      <td>2</td>\n",
              "      <td>1</td>\n",
              "      <td>1</td>\n",
              "      <td>5</td>\n",
              "      <td>2</td>\n",
              "      <td>15</td>\n",
              "      <td>14</td>\n",
              "      <td>15</td>\n",
              "    </tr>\n",
              "    <tr>\n",
              "      <th>4</th>\n",
              "      <td>GP</td>\n",
              "      <td>F</td>\n",
              "      <td>16</td>\n",
              "      <td>U</td>\n",
              "      <td>GT3</td>\n",
              "      <td>T</td>\n",
              "      <td>3</td>\n",
              "      <td>3</td>\n",
              "      <td>other</td>\n",
              "      <td>other</td>\n",
              "      <td>home</td>\n",
              "      <td>father</td>\n",
              "      <td>1</td>\n",
              "      <td>2</td>\n",
              "      <td>0</td>\n",
              "      <td>no</td>\n",
              "      <td>yes</td>\n",
              "      <td>yes</td>\n",
              "      <td>no</td>\n",
              "      <td>yes</td>\n",
              "      <td>yes</td>\n",
              "      <td>no</td>\n",
              "      <td>no</td>\n",
              "      <td>4</td>\n",
              "      <td>3</td>\n",
              "      <td>2</td>\n",
              "      <td>1</td>\n",
              "      <td>2</td>\n",
              "      <td>5</td>\n",
              "      <td>4</td>\n",
              "      <td>6</td>\n",
              "      <td>10</td>\n",
              "      <td>10</td>\n",
              "    </tr>\n",
              "  </tbody>\n",
              "</table>\n",
              "</div>"
            ],
            "text/plain": [
              "  school sex  age address famsize Pstatus  ...  Walc  health absences  G1  G2  G3\n",
              "0     GP   F   18       U     GT3       A  ...     1       3        6   5   6   6\n",
              "1     GP   F   17       U     GT3       T  ...     1       3        4   5   5   6\n",
              "2     GP   F   15       U     LE3       T  ...     3       3       10   7   8  10\n",
              "3     GP   F   15       U     GT3       T  ...     1       5        2  15  14  15\n",
              "4     GP   F   16       U     GT3       T  ...     2       5        4   6  10  10\n",
              "\n",
              "[5 rows x 33 columns]"
            ]
          },
          "metadata": {
            "tags": []
          },
          "execution_count": 7
        }
      ]
    },
    {
      "cell_type": "markdown",
      "metadata": {
        "id": "RXPZZuAi3ccI",
        "colab_type": "text"
      },
      "source": [
        "### 2) Use Chi^2 tests and `stats.chi2_contingency()` to identify:\n",
        " - Two pairs of variables that are dependent (are associated with one another).\n",
        " - Two pairs of variables that are independent (have no significant relationship).\n",
        "\n",
        "Does it make intuitive sense why the variables in these pairs might or might not show a relationship to one another? \n"
      ]
    },
    {
      "cell_type": "code",
      "metadata": {
        "id": "S2-jX3izvJNk",
        "colab_type": "code",
        "outputId": "7dae1780-fc05-459c-bd0a-67c8f23dfb54",
        "colab": {
          "base_uri": "https://localhost:8080/",
          "height": 638
        }
      },
      "source": [
        "df['absences'].value_counts().sort_index()"
      ],
      "execution_count": 8,
      "outputs": [
        {
          "output_type": "execute_result",
          "data": {
            "text/plain": [
              "0     115\n",
              "1       3\n",
              "2      65\n",
              "3       8\n",
              "4      53\n",
              "5       5\n",
              "6      31\n",
              "7       7\n",
              "8      22\n",
              "9       3\n",
              "10     17\n",
              "11      3\n",
              "12     12\n",
              "13      3\n",
              "14     12\n",
              "15      3\n",
              "16      7\n",
              "17      1\n",
              "18      5\n",
              "19      1\n",
              "20      4\n",
              "21      1\n",
              "22      3\n",
              "23      1\n",
              "24      1\n",
              "25      1\n",
              "26      1\n",
              "28      1\n",
              "30      1\n",
              "38      1\n",
              "40      1\n",
              "54      1\n",
              "56      1\n",
              "75      1\n",
              "Name: absences, dtype: int64"
            ]
          },
          "metadata": {
            "tags": []
          },
          "execution_count": 8
        }
      ]
    },
    {
      "cell_type": "code",
      "metadata": {
        "id": "A_VB_75hvjEj",
        "colab_type": "code",
        "outputId": "dbd6f430-03f0-44c9-ca72-2a50962265c5",
        "colab": {
          "base_uri": "https://localhost:8080/",
          "height": 70
        }
      },
      "source": [
        "df['romantic'].value_counts().sort_index()"
      ],
      "execution_count": 9,
      "outputs": [
        {
          "output_type": "execute_result",
          "data": {
            "text/plain": [
              "no     263\n",
              "yes    132\n",
              "Name: romantic, dtype: int64"
            ]
          },
          "metadata": {
            "tags": []
          },
          "execution_count": 9
        }
      ]
    },
    {
      "cell_type": "markdown",
      "metadata": {
        "id": "zKc5yLfuv1gi",
        "colab_type": "text"
      },
      "source": [
        "Null Hypothesis: Students are less likely to be absent when in a romantic relationship.\n",
        "\n",
        "Alternative Hypothesis: Students are not less likely to be absent when in a romantic relationship."
      ]
    },
    {
      "cell_type": "code",
      "metadata": {
        "id": "4GUgWK-Tvmfl",
        "colab_type": "code",
        "outputId": "ce27153a-5fce-4644-fb36-0504d3ce8168",
        "colab": {
          "base_uri": "https://localhost:8080/",
          "height": 167
        }
      },
      "source": [
        "contingency = pd.crosstab(df['romantic'], df['absences'], margins=True)\n",
        "contingency"
      ],
      "execution_count": 10,
      "outputs": [
        {
          "output_type": "execute_result",
          "data": {
            "text/html": [
              "<div>\n",
              "<style scoped>\n",
              "    .dataframe tbody tr th:only-of-type {\n",
              "        vertical-align: middle;\n",
              "    }\n",
              "\n",
              "    .dataframe tbody tr th {\n",
              "        vertical-align: top;\n",
              "    }\n",
              "\n",
              "    .dataframe thead th {\n",
              "        text-align: right;\n",
              "    }\n",
              "</style>\n",
              "<table border=\"1\" class=\"dataframe\">\n",
              "  <thead>\n",
              "    <tr style=\"text-align: right;\">\n",
              "      <th>absences</th>\n",
              "      <th>0</th>\n",
              "      <th>1</th>\n",
              "      <th>2</th>\n",
              "      <th>3</th>\n",
              "      <th>4</th>\n",
              "      <th>5</th>\n",
              "      <th>6</th>\n",
              "      <th>7</th>\n",
              "      <th>8</th>\n",
              "      <th>9</th>\n",
              "      <th>10</th>\n",
              "      <th>11</th>\n",
              "      <th>12</th>\n",
              "      <th>13</th>\n",
              "      <th>14</th>\n",
              "      <th>15</th>\n",
              "      <th>16</th>\n",
              "      <th>17</th>\n",
              "      <th>18</th>\n",
              "      <th>19</th>\n",
              "      <th>20</th>\n",
              "      <th>21</th>\n",
              "      <th>22</th>\n",
              "      <th>23</th>\n",
              "      <th>24</th>\n",
              "      <th>25</th>\n",
              "      <th>26</th>\n",
              "      <th>28</th>\n",
              "      <th>30</th>\n",
              "      <th>38</th>\n",
              "      <th>40</th>\n",
              "      <th>54</th>\n",
              "      <th>56</th>\n",
              "      <th>75</th>\n",
              "      <th>All</th>\n",
              "    </tr>\n",
              "    <tr>\n",
              "      <th>romantic</th>\n",
              "      <th></th>\n",
              "      <th></th>\n",
              "      <th></th>\n",
              "      <th></th>\n",
              "      <th></th>\n",
              "      <th></th>\n",
              "      <th></th>\n",
              "      <th></th>\n",
              "      <th></th>\n",
              "      <th></th>\n",
              "      <th></th>\n",
              "      <th></th>\n",
              "      <th></th>\n",
              "      <th></th>\n",
              "      <th></th>\n",
              "      <th></th>\n",
              "      <th></th>\n",
              "      <th></th>\n",
              "      <th></th>\n",
              "      <th></th>\n",
              "      <th></th>\n",
              "      <th></th>\n",
              "      <th></th>\n",
              "      <th></th>\n",
              "      <th></th>\n",
              "      <th></th>\n",
              "      <th></th>\n",
              "      <th></th>\n",
              "      <th></th>\n",
              "      <th></th>\n",
              "      <th></th>\n",
              "      <th></th>\n",
              "      <th></th>\n",
              "      <th></th>\n",
              "      <th></th>\n",
              "    </tr>\n",
              "  </thead>\n",
              "  <tbody>\n",
              "    <tr>\n",
              "      <th>no</th>\n",
              "      <td>70</td>\n",
              "      <td>3</td>\n",
              "      <td>53</td>\n",
              "      <td>7</td>\n",
              "      <td>41</td>\n",
              "      <td>3</td>\n",
              "      <td>23</td>\n",
              "      <td>2</td>\n",
              "      <td>15</td>\n",
              "      <td>1</td>\n",
              "      <td>10</td>\n",
              "      <td>1</td>\n",
              "      <td>8</td>\n",
              "      <td>2</td>\n",
              "      <td>6</td>\n",
              "      <td>2</td>\n",
              "      <td>4</td>\n",
              "      <td>1</td>\n",
              "      <td>5</td>\n",
              "      <td>1</td>\n",
              "      <td>1</td>\n",
              "      <td>0</td>\n",
              "      <td>1</td>\n",
              "      <td>0</td>\n",
              "      <td>1</td>\n",
              "      <td>0</td>\n",
              "      <td>1</td>\n",
              "      <td>0</td>\n",
              "      <td>0</td>\n",
              "      <td>0</td>\n",
              "      <td>0</td>\n",
              "      <td>1</td>\n",
              "      <td>0</td>\n",
              "      <td>0</td>\n",
              "      <td>263</td>\n",
              "    </tr>\n",
              "    <tr>\n",
              "      <th>yes</th>\n",
              "      <td>45</td>\n",
              "      <td>0</td>\n",
              "      <td>12</td>\n",
              "      <td>1</td>\n",
              "      <td>12</td>\n",
              "      <td>2</td>\n",
              "      <td>8</td>\n",
              "      <td>5</td>\n",
              "      <td>7</td>\n",
              "      <td>2</td>\n",
              "      <td>7</td>\n",
              "      <td>2</td>\n",
              "      <td>4</td>\n",
              "      <td>1</td>\n",
              "      <td>6</td>\n",
              "      <td>1</td>\n",
              "      <td>3</td>\n",
              "      <td>0</td>\n",
              "      <td>0</td>\n",
              "      <td>0</td>\n",
              "      <td>3</td>\n",
              "      <td>1</td>\n",
              "      <td>2</td>\n",
              "      <td>1</td>\n",
              "      <td>0</td>\n",
              "      <td>1</td>\n",
              "      <td>0</td>\n",
              "      <td>1</td>\n",
              "      <td>1</td>\n",
              "      <td>1</td>\n",
              "      <td>1</td>\n",
              "      <td>0</td>\n",
              "      <td>1</td>\n",
              "      <td>1</td>\n",
              "      <td>132</td>\n",
              "    </tr>\n",
              "    <tr>\n",
              "      <th>All</th>\n",
              "      <td>115</td>\n",
              "      <td>3</td>\n",
              "      <td>65</td>\n",
              "      <td>8</td>\n",
              "      <td>53</td>\n",
              "      <td>5</td>\n",
              "      <td>31</td>\n",
              "      <td>7</td>\n",
              "      <td>22</td>\n",
              "      <td>3</td>\n",
              "      <td>17</td>\n",
              "      <td>3</td>\n",
              "      <td>12</td>\n",
              "      <td>3</td>\n",
              "      <td>12</td>\n",
              "      <td>3</td>\n",
              "      <td>7</td>\n",
              "      <td>1</td>\n",
              "      <td>5</td>\n",
              "      <td>1</td>\n",
              "      <td>4</td>\n",
              "      <td>1</td>\n",
              "      <td>3</td>\n",
              "      <td>1</td>\n",
              "      <td>1</td>\n",
              "      <td>1</td>\n",
              "      <td>1</td>\n",
              "      <td>1</td>\n",
              "      <td>1</td>\n",
              "      <td>1</td>\n",
              "      <td>1</td>\n",
              "      <td>1</td>\n",
              "      <td>1</td>\n",
              "      <td>1</td>\n",
              "      <td>395</td>\n",
              "    </tr>\n",
              "  </tbody>\n",
              "</table>\n",
              "</div>"
            ],
            "text/plain": [
              "absences    0  1   2  3   4  5   6  7   8  ...  26  28  30  38  40  54  56  75  All\n",
              "romantic                                   ...                                     \n",
              "no         70  3  53  7  41  3  23  2  15  ...   1   0   0   0   0   1   0   0  263\n",
              "yes        45  0  12  1  12  2   8  5   7  ...   0   1   1   1   1   0   1   1  132\n",
              "All       115  3  65  8  53  5  31  7  22  ...   1   1   1   1   1   1   1   1  395\n",
              "\n",
              "[3 rows x 35 columns]"
            ]
          },
          "metadata": {
            "tags": []
          },
          "execution_count": 10
        }
      ]
    },
    {
      "cell_type": "code",
      "metadata": {
        "id": "Ckcr4A4FM7cs",
        "colab_type": "code",
        "outputId": "c32e0bc8-01a4-42e7-98b6-ccbeabfacbb1",
        "colab": {
          "base_uri": "https://localhost:8080/",
          "height": 550
        }
      },
      "source": [
        "stats.chi2_contingency(contingency)"
      ],
      "execution_count": 11,
      "outputs": [
        {
          "output_type": "execute_result",
          "data": {
            "text/plain": [
              "(52.29576184225294,\n",
              " 0.9205223794426818,\n",
              " 68,\n",
              " array([[7.65696203e+01, 1.99746835e+00, 4.32784810e+01, 5.32658228e+00,\n",
              "         3.52886076e+01, 3.32911392e+00, 2.06405063e+01, 4.66075949e+00,\n",
              "         1.46481013e+01, 1.99746835e+00, 1.13189873e+01, 1.99746835e+00,\n",
              "         7.98987342e+00, 1.99746835e+00, 7.98987342e+00, 1.99746835e+00,\n",
              "         4.66075949e+00, 6.65822785e-01, 3.32911392e+00, 6.65822785e-01,\n",
              "         2.66329114e+00, 6.65822785e-01, 1.99746835e+00, 6.65822785e-01,\n",
              "         6.65822785e-01, 6.65822785e-01, 6.65822785e-01, 6.65822785e-01,\n",
              "         6.65822785e-01, 6.65822785e-01, 6.65822785e-01, 6.65822785e-01,\n",
              "         6.65822785e-01, 6.65822785e-01, 2.63000000e+02],\n",
              "        [3.84303797e+01, 1.00253165e+00, 2.17215190e+01, 2.67341772e+00,\n",
              "         1.77113924e+01, 1.67088608e+00, 1.03594937e+01, 2.33924051e+00,\n",
              "         7.35189873e+00, 1.00253165e+00, 5.68101266e+00, 1.00253165e+00,\n",
              "         4.01012658e+00, 1.00253165e+00, 4.01012658e+00, 1.00253165e+00,\n",
              "         2.33924051e+00, 3.34177215e-01, 1.67088608e+00, 3.34177215e-01,\n",
              "         1.33670886e+00, 3.34177215e-01, 1.00253165e+00, 3.34177215e-01,\n",
              "         3.34177215e-01, 3.34177215e-01, 3.34177215e-01, 3.34177215e-01,\n",
              "         3.34177215e-01, 3.34177215e-01, 3.34177215e-01, 3.34177215e-01,\n",
              "         3.34177215e-01, 3.34177215e-01, 1.32000000e+02],\n",
              "        [1.15000000e+02, 3.00000000e+00, 6.50000000e+01, 8.00000000e+00,\n",
              "         5.30000000e+01, 5.00000000e+00, 3.10000000e+01, 7.00000000e+00,\n",
              "         2.20000000e+01, 3.00000000e+00, 1.70000000e+01, 3.00000000e+00,\n",
              "         1.20000000e+01, 3.00000000e+00, 1.20000000e+01, 3.00000000e+00,\n",
              "         7.00000000e+00, 1.00000000e+00, 5.00000000e+00, 1.00000000e+00,\n",
              "         4.00000000e+00, 1.00000000e+00, 3.00000000e+00, 1.00000000e+00,\n",
              "         1.00000000e+00, 1.00000000e+00, 1.00000000e+00, 1.00000000e+00,\n",
              "         1.00000000e+00, 1.00000000e+00, 1.00000000e+00, 1.00000000e+00,\n",
              "         1.00000000e+00, 1.00000000e+00, 3.95000000e+02]]))"
            ]
          },
          "metadata": {
            "tags": []
          },
          "execution_count": 11
        }
      ]
    },
    {
      "cell_type": "markdown",
      "metadata": {
        "id": "RwFagFg4v_HI",
        "colab_type": "text"
      },
      "source": [
        "Conclusion:\n",
        "\n",
        "I accept the null hypothesis that students are less likely to be absent when in a romantic relationship."
      ]
    },
    {
      "cell_type": "markdown",
      "metadata": {
        "id": "IeWJxmScPtL2",
        "colab_type": "text"
      },
      "source": [
        "Null Hypothesis: Children of parents who live together get better grades than children with separated parents.\n",
        "\n",
        "Alternative Hypothesis: Children of parents who live together do no get better grades than children with separated parents."
      ]
    },
    {
      "cell_type": "code",
      "metadata": {
        "id": "iiFKOK0KwQKx",
        "colab_type": "code",
        "outputId": "221cd61c-9060-4ed2-9209-a49384e0ecde",
        "colab": {
          "base_uri": "https://localhost:8080/",
          "height": 70
        }
      },
      "source": [
        "df['Pstatus'].value_counts().sort_index()"
      ],
      "execution_count": 12,
      "outputs": [
        {
          "output_type": "execute_result",
          "data": {
            "text/plain": [
              "A     41\n",
              "T    354\n",
              "Name: Pstatus, dtype: int64"
            ]
          },
          "metadata": {
            "tags": []
          },
          "execution_count": 12
        }
      ]
    },
    {
      "cell_type": "code",
      "metadata": {
        "id": "TRKdqwfdNxBQ",
        "colab_type": "code",
        "colab": {}
      },
      "source": [
        "df['Pstatus'].replace(to_replace='T', value=1, inplace=True)\n",
        "df['Pstatus'].replace(to_replace='A', value=0, inplace=True)"
      ],
      "execution_count": 0,
      "outputs": []
    },
    {
      "cell_type": "code",
      "metadata": {
        "id": "jK5tTkavwVIp",
        "colab_type": "code",
        "outputId": "3878a37e-eefc-4b20-c541-45714ecc61a4",
        "colab": {
          "base_uri": "https://localhost:8080/",
          "height": 354
        }
      },
      "source": [
        "df['G3'].value_counts().sort_index()"
      ],
      "execution_count": 14,
      "outputs": [
        {
          "output_type": "execute_result",
          "data": {
            "text/plain": [
              "0     38\n",
              "4      1\n",
              "5      7\n",
              "6     15\n",
              "7      9\n",
              "8     32\n",
              "9     28\n",
              "10    56\n",
              "11    47\n",
              "12    31\n",
              "13    31\n",
              "14    27\n",
              "15    33\n",
              "16    16\n",
              "17     6\n",
              "18    12\n",
              "19     5\n",
              "20     1\n",
              "Name: G3, dtype: int64"
            ]
          },
          "metadata": {
            "tags": []
          },
          "execution_count": 14
        }
      ]
    },
    {
      "cell_type": "code",
      "metadata": {
        "id": "Mp2nKMejwXbE",
        "colab_type": "code",
        "colab": {
          "base_uri": "https://localhost:8080/",
          "height": 167
        },
        "outputId": "6cebebaa-5256-406c-d802-65c5db546706"
      },
      "source": [
        "contingency2 = pd.crosstab(df['Pstatus'], df['G3'], margins=True)\n",
        "contingency2"
      ],
      "execution_count": 15,
      "outputs": [
        {
          "output_type": "execute_result",
          "data": {
            "text/html": [
              "<div>\n",
              "<style scoped>\n",
              "    .dataframe tbody tr th:only-of-type {\n",
              "        vertical-align: middle;\n",
              "    }\n",
              "\n",
              "    .dataframe tbody tr th {\n",
              "        vertical-align: top;\n",
              "    }\n",
              "\n",
              "    .dataframe thead th {\n",
              "        text-align: right;\n",
              "    }\n",
              "</style>\n",
              "<table border=\"1\" class=\"dataframe\">\n",
              "  <thead>\n",
              "    <tr style=\"text-align: right;\">\n",
              "      <th>G3</th>\n",
              "      <th>0</th>\n",
              "      <th>4</th>\n",
              "      <th>5</th>\n",
              "      <th>6</th>\n",
              "      <th>7</th>\n",
              "      <th>8</th>\n",
              "      <th>9</th>\n",
              "      <th>10</th>\n",
              "      <th>11</th>\n",
              "      <th>12</th>\n",
              "      <th>13</th>\n",
              "      <th>14</th>\n",
              "      <th>15</th>\n",
              "      <th>16</th>\n",
              "      <th>17</th>\n",
              "      <th>18</th>\n",
              "      <th>19</th>\n",
              "      <th>20</th>\n",
              "      <th>All</th>\n",
              "    </tr>\n",
              "    <tr>\n",
              "      <th>Pstatus</th>\n",
              "      <th></th>\n",
              "      <th></th>\n",
              "      <th></th>\n",
              "      <th></th>\n",
              "      <th></th>\n",
              "      <th></th>\n",
              "      <th></th>\n",
              "      <th></th>\n",
              "      <th></th>\n",
              "      <th></th>\n",
              "      <th></th>\n",
              "      <th></th>\n",
              "      <th></th>\n",
              "      <th></th>\n",
              "      <th></th>\n",
              "      <th></th>\n",
              "      <th></th>\n",
              "      <th></th>\n",
              "      <th></th>\n",
              "    </tr>\n",
              "  </thead>\n",
              "  <tbody>\n",
              "    <tr>\n",
              "      <th>0</th>\n",
              "      <td>2</td>\n",
              "      <td>0</td>\n",
              "      <td>0</td>\n",
              "      <td>3</td>\n",
              "      <td>2</td>\n",
              "      <td>1</td>\n",
              "      <td>3</td>\n",
              "      <td>5</td>\n",
              "      <td>8</td>\n",
              "      <td>3</td>\n",
              "      <td>4</td>\n",
              "      <td>1</td>\n",
              "      <td>3</td>\n",
              "      <td>1</td>\n",
              "      <td>1</td>\n",
              "      <td>2</td>\n",
              "      <td>2</td>\n",
              "      <td>0</td>\n",
              "      <td>41</td>\n",
              "    </tr>\n",
              "    <tr>\n",
              "      <th>1</th>\n",
              "      <td>36</td>\n",
              "      <td>1</td>\n",
              "      <td>7</td>\n",
              "      <td>12</td>\n",
              "      <td>7</td>\n",
              "      <td>31</td>\n",
              "      <td>25</td>\n",
              "      <td>51</td>\n",
              "      <td>39</td>\n",
              "      <td>28</td>\n",
              "      <td>27</td>\n",
              "      <td>26</td>\n",
              "      <td>30</td>\n",
              "      <td>15</td>\n",
              "      <td>5</td>\n",
              "      <td>10</td>\n",
              "      <td>3</td>\n",
              "      <td>1</td>\n",
              "      <td>354</td>\n",
              "    </tr>\n",
              "    <tr>\n",
              "      <th>All</th>\n",
              "      <td>38</td>\n",
              "      <td>1</td>\n",
              "      <td>7</td>\n",
              "      <td>15</td>\n",
              "      <td>9</td>\n",
              "      <td>32</td>\n",
              "      <td>28</td>\n",
              "      <td>56</td>\n",
              "      <td>47</td>\n",
              "      <td>31</td>\n",
              "      <td>31</td>\n",
              "      <td>27</td>\n",
              "      <td>33</td>\n",
              "      <td>16</td>\n",
              "      <td>6</td>\n",
              "      <td>12</td>\n",
              "      <td>5</td>\n",
              "      <td>1</td>\n",
              "      <td>395</td>\n",
              "    </tr>\n",
              "  </tbody>\n",
              "</table>\n",
              "</div>"
            ],
            "text/plain": [
              "G3        0  4  5   6  7   8   9  10  11  ...  13  14  15  16  17  18  19  20  All\n",
              "Pstatus                                   ...                                     \n",
              "0         2  0  0   3  2   1   3   5   8  ...   4   1   3   1   1   2   2   0   41\n",
              "1        36  1  7  12  7  31  25  51  39  ...  27  26  30  15   5  10   3   1  354\n",
              "All      38  1  7  15  9  32  28  56  47  ...  31  27  33  16   6  12   5   1  395\n",
              "\n",
              "[3 rows x 19 columns]"
            ]
          },
          "metadata": {
            "tags": []
          },
          "execution_count": 15
        }
      ]
    },
    {
      "cell_type": "code",
      "metadata": {
        "id": "42wpgz-6NKUG",
        "colab_type": "code",
        "colab": {
          "base_uri": "https://localhost:8080/",
          "height": 336
        },
        "outputId": "cd12c81c-5ac2-44b5-b245-7d21173f3ba1"
      },
      "source": [
        "stats.chi2_contingency(contingency2)"
      ],
      "execution_count": 16,
      "outputs": [
        {
          "output_type": "execute_result",
          "data": {
            "text/plain": [
              "(16.48546554509741,\n",
              " 0.9978146012184588,\n",
              " 36,\n",
              " array([[3.94430380e+00, 1.03797468e-01, 7.26582278e-01, 1.55696203e+00,\n",
              "         9.34177215e-01, 3.32151899e+00, 2.90632911e+00, 5.81265823e+00,\n",
              "         4.87848101e+00, 3.21772152e+00, 3.21772152e+00, 2.80253165e+00,\n",
              "         3.42531646e+00, 1.66075949e+00, 6.22784810e-01, 1.24556962e+00,\n",
              "         5.18987342e-01, 1.03797468e-01, 4.10000000e+01],\n",
              "        [3.40556962e+01, 8.96202532e-01, 6.27341772e+00, 1.34430380e+01,\n",
              "         8.06582278e+00, 2.86784810e+01, 2.50936709e+01, 5.01873418e+01,\n",
              "         4.21215190e+01, 2.77822785e+01, 2.77822785e+01, 2.41974684e+01,\n",
              "         2.95746835e+01, 1.43392405e+01, 5.37721519e+00, 1.07544304e+01,\n",
              "         4.48101266e+00, 8.96202532e-01, 3.54000000e+02],\n",
              "        [3.80000000e+01, 1.00000000e+00, 7.00000000e+00, 1.50000000e+01,\n",
              "         9.00000000e+00, 3.20000000e+01, 2.80000000e+01, 5.60000000e+01,\n",
              "         4.70000000e+01, 3.10000000e+01, 3.10000000e+01, 2.70000000e+01,\n",
              "         3.30000000e+01, 1.60000000e+01, 6.00000000e+00, 1.20000000e+01,\n",
              "         5.00000000e+00, 1.00000000e+00, 3.95000000e+02]]))"
            ]
          },
          "metadata": {
            "tags": []
          },
          "execution_count": 16
        }
      ]
    },
    {
      "cell_type": "markdown",
      "metadata": {
        "id": "dF8oWfhvQPUn",
        "colab_type": "text"
      },
      "source": [
        "Conclusion:\n",
        "Based on a chi^2 value of 16.49 and a p value of 1.00, I reject the Null Hypothesis that children of parents who live together get better grades than children of parents who do not live together."
      ]
    },
    {
      "cell_type": "markdown",
      "metadata": {
        "id": "Tf7XPpBP6YqX",
        "colab_type": "text"
      },
      "source": [
        "### 3) Use NumPy to perform your own chi^2 test \"from scratch\" \n",
        "\n",
        "Pick any of the chi^2 tests that you ran in part 2 and try them on your own. You should get the same results that Scipy got for all four values returned from `chi2_contingency()`"
      ]
    },
    {
      "cell_type": "code",
      "metadata": {
        "id": "Et5DtusY6maX",
        "colab_type": "code",
        "colab": {
          "base_uri": "https://localhost:8080/",
          "height": 70
        },
        "outputId": "a6a77a06-b1a6-4c45-9691-782b5955cbc2"
      },
      "source": [
        "df['Pstatus'].value_counts()"
      ],
      "execution_count": 17,
      "outputs": [
        {
          "output_type": "execute_result",
          "data": {
            "text/plain": [
              "1    354\n",
              "0     41\n",
              "Name: Pstatus, dtype: int64"
            ]
          },
          "metadata": {
            "tags": []
          },
          "execution_count": 17
        }
      ]
    },
    {
      "cell_type": "code",
      "metadata": {
        "id": "727F4tQcSYTg",
        "colab_type": "code",
        "colab": {
          "base_uri": "https://localhost:8080/",
          "height": 354
        },
        "outputId": "9af14ae8-37cd-46d4-e657-0ccce026d40e"
      },
      "source": [
        "df['G3'].value_counts()"
      ],
      "execution_count": 18,
      "outputs": [
        {
          "output_type": "execute_result",
          "data": {
            "text/plain": [
              "10    56\n",
              "11    47\n",
              "0     38\n",
              "15    33\n",
              "8     32\n",
              "13    31\n",
              "12    31\n",
              "9     28\n",
              "14    27\n",
              "16    16\n",
              "6     15\n",
              "18    12\n",
              "7      9\n",
              "5      7\n",
              "17     6\n",
              "19     5\n",
              "4      1\n",
              "20     1\n",
              "Name: G3, dtype: int64"
            ]
          },
          "metadata": {
            "tags": []
          },
          "execution_count": 18
        }
      ]
    },
    {
      "cell_type": "code",
      "metadata": {
        "id": "vknzBYiCSetN",
        "colab_type": "code",
        "colab": {
          "base_uri": "https://localhost:8080/",
          "height": 167
        },
        "outputId": "51c8a718-34e3-4ef6-ee77-0d0bb30a1951"
      },
      "source": [
        "observed = pd.crosstab(df['Pstatus'], df['G3'], margins=True)\n",
        "observed"
      ],
      "execution_count": 19,
      "outputs": [
        {
          "output_type": "execute_result",
          "data": {
            "text/html": [
              "<div>\n",
              "<style scoped>\n",
              "    .dataframe tbody tr th:only-of-type {\n",
              "        vertical-align: middle;\n",
              "    }\n",
              "\n",
              "    .dataframe tbody tr th {\n",
              "        vertical-align: top;\n",
              "    }\n",
              "\n",
              "    .dataframe thead th {\n",
              "        text-align: right;\n",
              "    }\n",
              "</style>\n",
              "<table border=\"1\" class=\"dataframe\">\n",
              "  <thead>\n",
              "    <tr style=\"text-align: right;\">\n",
              "      <th>G3</th>\n",
              "      <th>0</th>\n",
              "      <th>4</th>\n",
              "      <th>5</th>\n",
              "      <th>6</th>\n",
              "      <th>7</th>\n",
              "      <th>8</th>\n",
              "      <th>9</th>\n",
              "      <th>10</th>\n",
              "      <th>11</th>\n",
              "      <th>12</th>\n",
              "      <th>13</th>\n",
              "      <th>14</th>\n",
              "      <th>15</th>\n",
              "      <th>16</th>\n",
              "      <th>17</th>\n",
              "      <th>18</th>\n",
              "      <th>19</th>\n",
              "      <th>20</th>\n",
              "      <th>All</th>\n",
              "    </tr>\n",
              "    <tr>\n",
              "      <th>Pstatus</th>\n",
              "      <th></th>\n",
              "      <th></th>\n",
              "      <th></th>\n",
              "      <th></th>\n",
              "      <th></th>\n",
              "      <th></th>\n",
              "      <th></th>\n",
              "      <th></th>\n",
              "      <th></th>\n",
              "      <th></th>\n",
              "      <th></th>\n",
              "      <th></th>\n",
              "      <th></th>\n",
              "      <th></th>\n",
              "      <th></th>\n",
              "      <th></th>\n",
              "      <th></th>\n",
              "      <th></th>\n",
              "      <th></th>\n",
              "    </tr>\n",
              "  </thead>\n",
              "  <tbody>\n",
              "    <tr>\n",
              "      <th>0</th>\n",
              "      <td>2</td>\n",
              "      <td>0</td>\n",
              "      <td>0</td>\n",
              "      <td>3</td>\n",
              "      <td>2</td>\n",
              "      <td>1</td>\n",
              "      <td>3</td>\n",
              "      <td>5</td>\n",
              "      <td>8</td>\n",
              "      <td>3</td>\n",
              "      <td>4</td>\n",
              "      <td>1</td>\n",
              "      <td>3</td>\n",
              "      <td>1</td>\n",
              "      <td>1</td>\n",
              "      <td>2</td>\n",
              "      <td>2</td>\n",
              "      <td>0</td>\n",
              "      <td>41</td>\n",
              "    </tr>\n",
              "    <tr>\n",
              "      <th>1</th>\n",
              "      <td>36</td>\n",
              "      <td>1</td>\n",
              "      <td>7</td>\n",
              "      <td>12</td>\n",
              "      <td>7</td>\n",
              "      <td>31</td>\n",
              "      <td>25</td>\n",
              "      <td>51</td>\n",
              "      <td>39</td>\n",
              "      <td>28</td>\n",
              "      <td>27</td>\n",
              "      <td>26</td>\n",
              "      <td>30</td>\n",
              "      <td>15</td>\n",
              "      <td>5</td>\n",
              "      <td>10</td>\n",
              "      <td>3</td>\n",
              "      <td>1</td>\n",
              "      <td>354</td>\n",
              "    </tr>\n",
              "    <tr>\n",
              "      <th>All</th>\n",
              "      <td>38</td>\n",
              "      <td>1</td>\n",
              "      <td>7</td>\n",
              "      <td>15</td>\n",
              "      <td>9</td>\n",
              "      <td>32</td>\n",
              "      <td>28</td>\n",
              "      <td>56</td>\n",
              "      <td>47</td>\n",
              "      <td>31</td>\n",
              "      <td>31</td>\n",
              "      <td>27</td>\n",
              "      <td>33</td>\n",
              "      <td>16</td>\n",
              "      <td>6</td>\n",
              "      <td>12</td>\n",
              "      <td>5</td>\n",
              "      <td>1</td>\n",
              "      <td>395</td>\n",
              "    </tr>\n",
              "  </tbody>\n",
              "</table>\n",
              "</div>"
            ],
            "text/plain": [
              "G3        0  4  5   6  7   8   9  10  11  ...  13  14  15  16  17  18  19  20  All\n",
              "Pstatus                                   ...                                     \n",
              "0         2  0  0   3  2   1   3   5   8  ...   4   1   3   1   1   2   2   0   41\n",
              "1        36  1  7  12  7  31  25  51  39  ...  27  26  30  15   5  10   3   1  354\n",
              "All      38  1  7  15  9  32  28  56  47  ...  31  27  33  16   6  12   5   1  395\n",
              "\n",
              "[3 rows x 19 columns]"
            ]
          },
          "metadata": {
            "tags": []
          },
          "execution_count": 19
        }
      ]
    },
    {
      "cell_type": "code",
      "metadata": {
        "id": "7M7JgLVJapIP",
        "colab_type": "code",
        "colab": {
          "base_uri": "https://localhost:8080/",
          "height": 34
        },
        "outputId": "79dc6ab9-27d7-4ad5-a580-804abb21be55"
      },
      "source": [
        "observed['All'].index"
      ],
      "execution_count": 20,
      "outputs": [
        {
          "output_type": "execute_result",
          "data": {
            "text/plain": [
              "Index([0, 1, 'All'], dtype='object', name='Pstatus')"
            ]
          },
          "metadata": {
            "tags": []
          },
          "execution_count": 20
        }
      ]
    },
    {
      "cell_type": "code",
      "metadata": {
        "id": "Nbo1uwVnoiVk",
        "colab_type": "code",
        "colab": {
          "base_uri": "https://localhost:8080/",
          "height": 34
        },
        "outputId": "cc8a5024-73fe-4e42-a46a-48815d7771b8"
      },
      "source": [
        "observed.columns"
      ],
      "execution_count": 21,
      "outputs": [
        {
          "output_type": "execute_result",
          "data": {
            "text/plain": [
              "Index([0, 4, 5, 6, 7, 8, 9, 10, 11, 12, 13, 14, 15, 16, 17, 18, 19, 20, 'All'], dtype='object', name='G3')"
            ]
          },
          "metadata": {
            "tags": []
          },
          "execution_count": 21
        }
      ]
    },
    {
      "cell_type": "code",
      "metadata": {
        "id": "Vs-521DASeq8",
        "colab_type": "code",
        "colab": {
          "base_uri": "https://localhost:8080/",
          "height": 52
        },
        "outputId": "28b4ef42-48b7-45f1-f560-88caa9d9ccc9"
      },
      "source": [
        "'''This is a one line solution to calculating the expected value\n",
        "for a single row/column pair by accesing crosstab margin totals.\n",
        "It is the model I used for developing the following function\n",
        "which calculates the expected values.\n",
        "'''\n",
        "expected_r1_c1 = (observed['All'][0]*observed[0]['All'])/observed['All']['All']\n",
        "\n",
        "print(observed['All'][0],' x ', observed[0]['All'], ' = ', observed['All'][0]*observed[0]['All'])\n",
        "print(observed['All'][0]*observed[0]['All'], ' / ', observed['All']['All'], ' = ', expected_r1_c1)"
      ],
      "execution_count": 33,
      "outputs": [
        {
          "output_type": "stream",
          "text": [
            "41  x  38  =  1558\n",
            "1558  /  395  =  3.9443037974683546\n"
          ],
          "name": "stdout"
        }
      ]
    },
    {
      "cell_type": "code",
      "metadata": {
        "id": "M3zRJpWfd5RF",
        "colab_type": "code",
        "colab": {}
      },
      "source": [
        "'''\n",
        "This function takes a crosstab of observation values and calculates\n",
        "the expected values for a chi^2 statistic. It returns a dataframe\n",
        "with the same header and index information as the source dataframe\n",
        "with each expected value in the corresponding cell from which it's\n",
        "calculation is derived. The original totals used for calculation,\n",
        "including observation size, are also placed in their respective\n",
        "positions in the event verification and/or recalculation is required.\n",
        "'''\n",
        "\n",
        "def chi2_expected(observed):\n",
        "\n",
        "    sample_size = observed['All']['All']\n",
        "    expected_values = pd.DataFrame(columns=observed.columns, index=observed.index)\n",
        "\n",
        "    for i, col in enumerate(observed.columns):\n",
        "        for j, row in enumerate(observed.index):\n",
        "            if row != 'All' and col != 'All':\n",
        "                row_ttl = observed['All'][row]\n",
        "                col_ttl = observed[col]['All']\n",
        "                expected_values[col][row] = row_ttl*col_ttl/sample_size\n",
        "                expected_values[col]['All'] = observed[col]['All']\n",
        "\n",
        "    expected_values['All'] = observed['All']\n",
        "\n",
        "    return expected_values"
      ],
      "execution_count": 0,
      "outputs": []
    },
    {
      "cell_type": "code",
      "metadata": {
        "id": "hJqqEqLabzii",
        "colab_type": "code",
        "colab": {}
      },
      "source": [
        "expected_tab = chi2_expected(observed)"
      ],
      "execution_count": 0,
      "outputs": []
    },
    {
      "cell_type": "code",
      "metadata": {
        "id": "ALDhVKcjbzcX",
        "colab_type": "code",
        "colab": {
          "base_uri": "https://localhost:8080/",
          "height": 167
        },
        "outputId": "2fbb50bd-3b1b-4f6d-d0bd-3a57c80a28ea"
      },
      "source": [
        "expected_tab"
      ],
      "execution_count": 107,
      "outputs": [
        {
          "output_type": "execute_result",
          "data": {
            "text/html": [
              "<div>\n",
              "<style scoped>\n",
              "    .dataframe tbody tr th:only-of-type {\n",
              "        vertical-align: middle;\n",
              "    }\n",
              "\n",
              "    .dataframe tbody tr th {\n",
              "        vertical-align: top;\n",
              "    }\n",
              "\n",
              "    .dataframe thead th {\n",
              "        text-align: right;\n",
              "    }\n",
              "</style>\n",
              "<table border=\"1\" class=\"dataframe\">\n",
              "  <thead>\n",
              "    <tr style=\"text-align: right;\">\n",
              "      <th>G3</th>\n",
              "      <th>0</th>\n",
              "      <th>4</th>\n",
              "      <th>5</th>\n",
              "      <th>6</th>\n",
              "      <th>7</th>\n",
              "      <th>8</th>\n",
              "      <th>9</th>\n",
              "      <th>10</th>\n",
              "      <th>11</th>\n",
              "      <th>12</th>\n",
              "      <th>13</th>\n",
              "      <th>14</th>\n",
              "      <th>15</th>\n",
              "      <th>16</th>\n",
              "      <th>17</th>\n",
              "      <th>18</th>\n",
              "      <th>19</th>\n",
              "      <th>20</th>\n",
              "      <th>All</th>\n",
              "    </tr>\n",
              "    <tr>\n",
              "      <th>Pstatus</th>\n",
              "      <th></th>\n",
              "      <th></th>\n",
              "      <th></th>\n",
              "      <th></th>\n",
              "      <th></th>\n",
              "      <th></th>\n",
              "      <th></th>\n",
              "      <th></th>\n",
              "      <th></th>\n",
              "      <th></th>\n",
              "      <th></th>\n",
              "      <th></th>\n",
              "      <th></th>\n",
              "      <th></th>\n",
              "      <th></th>\n",
              "      <th></th>\n",
              "      <th></th>\n",
              "      <th></th>\n",
              "      <th></th>\n",
              "    </tr>\n",
              "  </thead>\n",
              "  <tbody>\n",
              "    <tr>\n",
              "      <th>0</th>\n",
              "      <td>3.9443</td>\n",
              "      <td>0.103797</td>\n",
              "      <td>0.726582</td>\n",
              "      <td>1.55696</td>\n",
              "      <td>0.934177</td>\n",
              "      <td>3.32152</td>\n",
              "      <td>2.90633</td>\n",
              "      <td>5.81266</td>\n",
              "      <td>4.87848</td>\n",
              "      <td>3.21772</td>\n",
              "      <td>3.21772</td>\n",
              "      <td>2.80253</td>\n",
              "      <td>3.42532</td>\n",
              "      <td>1.66076</td>\n",
              "      <td>0.622785</td>\n",
              "      <td>1.24557</td>\n",
              "      <td>0.518987</td>\n",
              "      <td>0.103797</td>\n",
              "      <td>41</td>\n",
              "    </tr>\n",
              "    <tr>\n",
              "      <th>1</th>\n",
              "      <td>34.0557</td>\n",
              "      <td>0.896203</td>\n",
              "      <td>6.27342</td>\n",
              "      <td>13.443</td>\n",
              "      <td>8.06582</td>\n",
              "      <td>28.6785</td>\n",
              "      <td>25.0937</td>\n",
              "      <td>50.1873</td>\n",
              "      <td>42.1215</td>\n",
              "      <td>27.7823</td>\n",
              "      <td>27.7823</td>\n",
              "      <td>24.1975</td>\n",
              "      <td>29.5747</td>\n",
              "      <td>14.3392</td>\n",
              "      <td>5.37722</td>\n",
              "      <td>10.7544</td>\n",
              "      <td>4.48101</td>\n",
              "      <td>0.896203</td>\n",
              "      <td>354</td>\n",
              "    </tr>\n",
              "    <tr>\n",
              "      <th>All</th>\n",
              "      <td>38</td>\n",
              "      <td>1</td>\n",
              "      <td>7</td>\n",
              "      <td>15</td>\n",
              "      <td>9</td>\n",
              "      <td>32</td>\n",
              "      <td>28</td>\n",
              "      <td>56</td>\n",
              "      <td>47</td>\n",
              "      <td>31</td>\n",
              "      <td>31</td>\n",
              "      <td>27</td>\n",
              "      <td>33</td>\n",
              "      <td>16</td>\n",
              "      <td>6</td>\n",
              "      <td>12</td>\n",
              "      <td>5</td>\n",
              "      <td>1</td>\n",
              "      <td>395</td>\n",
              "    </tr>\n",
              "  </tbody>\n",
              "</table>\n",
              "</div>"
            ],
            "text/plain": [
              "G3             0         4         5        6  ...       18        19        20  All\n",
              "Pstatus                                        ...                                  \n",
              "0         3.9443  0.103797  0.726582  1.55696  ...  1.24557  0.518987  0.103797   41\n",
              "1        34.0557  0.896203   6.27342   13.443  ...  10.7544   4.48101  0.896203  354\n",
              "All           38         1         7       15  ...       12         5         1  395\n",
              "\n",
              "[3 rows x 19 columns]"
            ]
          },
          "metadata": {
            "tags": []
          },
          "execution_count": 107
        }
      ]
    },
    {
      "cell_type": "code",
      "metadata": {
        "id": "LMdfmK79dbbD",
        "colab_type": "code",
        "colab": {
          "base_uri": "https://localhost:8080/",
          "height": 390
        },
        "outputId": "5419c988-7a14-4816-f6b9-80b40f0b9921"
      },
      "source": [
        "((observed - expected_tab)**2 / expected_tab).sum()"
      ],
      "execution_count": 108,
      "outputs": [
        {
          "output_type": "execute_result",
          "data": {
            "text/plain": [
              "G3\n",
              "0      1.069428\n",
              "4      0.115819\n",
              "5      0.810734\n",
              "6      1.492352\n",
              "7      1.356859\n",
              "8      1.810513\n",
              "9      0.003369\n",
              "10     0.126775\n",
              "11     2.228646\n",
              "12     0.016438\n",
              "13     0.212211\n",
              "14     1.293627\n",
              "15     0.058927\n",
              "16     0.293342\n",
              "17     0.254938\n",
              "18     0.509876\n",
              "19     4.715792\n",
              "20     0.115819\n",
              "All    0.000000\n",
              "dtype: float64"
            ]
          },
          "metadata": {
            "tags": []
          },
          "execution_count": 108
        }
      ]
    },
    {
      "cell_type": "code",
      "metadata": {
        "id": "KrYo9RypmLPA",
        "colab_type": "code",
        "colab": {
          "base_uri": "https://localhost:8080/",
          "height": 34
        },
        "outputId": "d7cb505d-5cba-40bf-bf22-146d537104c6"
      },
      "source": [
        "#Here we have the final Chi^2 statistic\n",
        "\n",
        "final_chi2 = ((observed - expected_tab)**2 / expected_tab).sum().sum()\n",
        "\n",
        "final_chi2"
      ],
      "execution_count": 110,
      "outputs": [
        {
          "output_type": "execute_result",
          "data": {
            "text/plain": [
              "16.48546554509741"
            ]
          },
          "metadata": {
            "tags": []
          },
          "execution_count": 110
        }
      ]
    },
    {
      "cell_type": "code",
      "metadata": {
        "id": "fpVmCsu8pX7K",
        "colab_type": "code",
        "colab": {
          "base_uri": "https://localhost:8080/",
          "height": 52
        },
        "outputId": "c90a97b7-a403-49d5-cbf4-81ebcc7f11db"
      },
      "source": [
        "print('Degrees of Freedom: ',expected_tab.shape[1]-1)\n",
        "print('P Value: ', .35507)"
      ],
      "execution_count": 115,
      "outputs": [
        {
          "output_type": "stream",
          "text": [
            "Degrees of Freedom:  18\n",
            "P Value:  0.35507\n"
          ],
          "name": "stdout"
        }
      ]
    },
    {
      "cell_type": "markdown",
      "metadata": {
        "id": "a2BrKHq8m8AS",
        "colab_type": "text"
      },
      "source": [
        "## Stretch goals:\n",
        "\n",
        "### 1. Refactor your code so it is elegant, readable, and holds reusable code in functions."
      ]
    },
    {
      "cell_type": "code",
      "metadata": {
        "id": "ja_GTawstKQk",
        "colab_type": "code",
        "colab": {}
      },
      "source": [
        "'''\n",
        "This function takes a dataframe of observation values and two \n",
        "columns (in their original form) for comparison. It then creates \n",
        "a crosstab for use in calculating the expected values for\n",
        "a chi^2 statistic. It then returns a dataframe with the same \n",
        "header and index information as the original crosstab with each \n",
        "expected value in the corresponding cell from which the corresponding\n",
        "calculation is derived. The original totals used for calculation,\n",
        "including observation size, are placed in their respective\n",
        "positions in the event verification and/or recalculation is required.\n",
        "Finally, it calculates the chi^2 value and returns it.\n",
        "'''\n",
        "\n",
        "def chi2(df, col1, col2):\n",
        "\n",
        "    observed = pd.crosstab(df[col1], df[col2], margins=True)\n",
        "\n",
        "    sample_size = observed['All']['All']\n",
        "    expected_values = pd.DataFrame(columns=observed.columns, index=observed.index)\n",
        "\n",
        "    for i, col in enumerate(observed.columns):\n",
        "        for j, row in enumerate(observed.index):\n",
        "            if row != 'All' and col != 'All':\n",
        "                row_ttl = observed['All'][row]\n",
        "                col_ttl = observed[col]['All']\n",
        "                expected_values[col][row] = row_ttl*col_ttl/sample_size\n",
        "                expected_values[col]['All'] = observed[col]['All']\n",
        "\n",
        "    expected_values['All'] = observed['All']\n",
        "\n",
        "    final_chi2 = ((observed - expected_tab)**2 / expected_tab).sum().sum()\n",
        "\n",
        "    return final_chi2"
      ],
      "execution_count": 0,
      "outputs": []
    },
    {
      "cell_type": "code",
      "metadata": {
        "id": "pMnaoVaOupj4",
        "colab_type": "code",
        "colab": {
          "base_uri": "https://localhost:8080/",
          "height": 34
        },
        "outputId": "88aff6d5-83b7-4835-a7dc-ea48bdbb60d2"
      },
      "source": [
        "print('Chi^2 Statistic: ', chi2(df, 'Pstatus', 'G3'))"
      ],
      "execution_count": 122,
      "outputs": [
        {
          "output_type": "stream",
          "text": [
            "Chi^2 Statistic:  16.48546554509741\n"
          ],
          "name": "stdout"
        }
      ]
    },
    {
      "cell_type": "markdown",
      "metadata": {
        "id": "4ohsJhQUmEuS",
        "colab_type": "text"
      },
      "source": [
        "\n",
        "\n",
        "### 2. Check For Understanding - Study and write your own explanations/definitions for these topics:\n",
        "\n",
        "- What is a sample \"estimate\" in statistics?\n",
        "\n",
        "- What are hypothesis test? How are they useful?\n",
        "\n",
        "- What is a \"null hypothesis?\"\n",
        "\n",
        "- What is a p-value and what does it represent?\n",
        "\n",
        "- What does it mean for something to be \"statistically significant?\"\n",
        "\n",
        "- What is a test statistic and how does it relate to a p-value?\n",
        "\n",
        "- What are \"degrees of freedom\" and how are they calculated in a 1-sample, 2-sample, and chi^2 test for independence?"
      ]
    },
    {
      "cell_type": "markdown",
      "metadata": {
        "id": "nyJ3ySr7R2k9",
        "colab_type": "text"
      },
      "source": [
        "## Resources\n",
        "\n",
        "- [Interactive visualize the Chi-Squared test](https://homepage.divms.uiowa.edu/~mbognar/applets/chisq.html)\n",
        "- [Calculation of Chi-Squared test statistic](https://en.wikipedia.org/wiki/Pearson%27s_chi-squared_test)\n",
        "- [Visualization of a confidence interval generated by R code](https://commons.wikimedia.org/wiki/File:Confidence-interval.svg)\n",
        "- [Expected value of a squared standard normal](https://math.stackexchange.com/questions/264061/expected-value-calculation-for-squared-normal-distribution) (it's 1 - which is why the expected value of a Chi-Squared with $n$ degrees of freedom is $n$, as it's the sum of $n$ squared standard normals)"
      ]
    }
  ]
}