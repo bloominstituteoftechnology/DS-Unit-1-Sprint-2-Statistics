{
  "nbformat": 4,
  "nbformat_minor": 0,
  "metadata": {
    "colab": {
      "name": "Copy of LS_DS_122_Chi2_Tests_Assignment.ipynb",
      "provenance": [],
      "collapsed_sections": [],
      "toc_visible": true,
      "include_colab_link": true
    },
    "kernelspec": {
      "name": "python3",
      "display_name": "Python 3"
    }
  },
  "cells": [
    {
      "cell_type": "markdown",
      "metadata": {
        "id": "view-in-github",
        "colab_type": "text"
      },
      "source": [
        "<a href=\"https://colab.research.google.com/github/HunterAshby/DS-Unit-1-Sprint-2-Statistics/blob/master/module2/LS_DS_122_Chi2_Tests_Assignment.ipynb\" target=\"_parent\"><img src=\"https://colab.research.google.com/assets/colab-badge.svg\" alt=\"Open In Colab\"/></a>"
      ]
    },
    {
      "cell_type": "markdown",
      "metadata": {
        "id": "11OzdxWTM7UR",
        "colab_type": "text"
      },
      "source": [
        "## Assignment - Practice Chi^2 Tests\n",
        "\n",
        "Use the following dataset relating to math scores of students in two different Portugese schools:\n",
        "\n",
        "<https://archive.ics.uci.edu/ml/datasets/Student+Performance>\n",
        "\n",
        "### 1) Load the dataset specifically relating to math scores as a new dataframe.\n",
        "\n",
        "There are two datasets in the `student.zip` file, make sure you use `student-mat.csv`.\n"
      ]
    },
    {
      "cell_type": "code",
      "metadata": {
        "id": "UQwvrhn7m3Mn",
        "colab_type": "code",
        "colab": {}
      },
      "source": [
        "# YOUR WORK HERE\n",
        "import pandas as pd\n",
        "import numpy as np\n",
        "from scipy import stats"
      ],
      "execution_count": 1,
      "outputs": []
    },
    {
      "cell_type": "code",
      "metadata": {
        "id": "a9KjJ4yoChvL",
        "colab_type": "code",
        "colab": {
          "base_uri": "https://localhost:8080/",
          "height": 204
        },
        "outputId": "d9acf31e-032f-4dbe-c8bb-9d72dea70eca"
      },
      "source": [
        "!wget https://archive.ics.uci.edu/ml/machine-learning-databases/00320/student.zip"
      ],
      "execution_count": 2,
      "outputs": [
        {
          "output_type": "stream",
          "text": [
            "--2020-08-11 19:42:02--  https://archive.ics.uci.edu/ml/machine-learning-databases/00320/student.zip\n",
            "Resolving archive.ics.uci.edu (archive.ics.uci.edu)... 128.195.10.252\n",
            "Connecting to archive.ics.uci.edu (archive.ics.uci.edu)|128.195.10.252|:443... connected.\n",
            "HTTP request sent, awaiting response... 200 OK\n",
            "Length: 20478 (20K) [application/x-httpd-php]\n",
            "Saving to: ‘student.zip’\n",
            "\n",
            "student.zip         100%[===================>]  20.00K  --.-KB/s    in 0.07s   \n",
            "\n",
            "2020-08-11 19:42:02 (285 KB/s) - ‘student.zip’ saved [20478/20478]\n",
            "\n"
          ],
          "name": "stdout"
        }
      ]
    },
    {
      "cell_type": "code",
      "metadata": {
        "id": "WtqrmKDRCh23",
        "colab_type": "code",
        "colab": {
          "base_uri": "https://localhost:8080/",
          "height": 68
        },
        "outputId": "98d01495-4fbe-48ac-d6e3-9bbd3d8c7f91"
      },
      "source": [
        "!unzip student.zip"
      ],
      "execution_count": 4,
      "outputs": [
        {
          "output_type": "stream",
          "text": [
            "Archive:  student.zip\n",
            "replace student-mat.csv? [y]es, [n]o, [A]ll, [N]one, [r]ename: [Errno 2] No such file or directory: 'student'\n",
            "/content\n"
          ],
          "name": "stdout"
        }
      ]
    },
    {
      "cell_type": "code",
      "metadata": {
        "id": "Fg8uh-a-C6h_",
        "colab_type": "code",
        "colab": {}
      },
      "source": [
        "df = pd.read_csv('student-mat.csv', sep=';')"
      ],
      "execution_count": 6,
      "outputs": []
    },
    {
      "cell_type": "code",
      "metadata": {
        "id": "48JrTYPfDBIf",
        "colab_type": "code",
        "colab": {
          "base_uri": "https://localhost:8080/",
          "height": 379
        },
        "outputId": "dc89f746-14d8-42cc-9fba-ee9e18dae184"
      },
      "source": [
        "df.head(10)"
      ],
      "execution_count": 8,
      "outputs": [
        {
          "output_type": "execute_result",
          "data": {
            "text/html": [
              "<div>\n",
              "<style scoped>\n",
              "    .dataframe tbody tr th:only-of-type {\n",
              "        vertical-align: middle;\n",
              "    }\n",
              "\n",
              "    .dataframe tbody tr th {\n",
              "        vertical-align: top;\n",
              "    }\n",
              "\n",
              "    .dataframe thead th {\n",
              "        text-align: right;\n",
              "    }\n",
              "</style>\n",
              "<table border=\"1\" class=\"dataframe\">\n",
              "  <thead>\n",
              "    <tr style=\"text-align: right;\">\n",
              "      <th></th>\n",
              "      <th>school</th>\n",
              "      <th>sex</th>\n",
              "      <th>age</th>\n",
              "      <th>address</th>\n",
              "      <th>famsize</th>\n",
              "      <th>Pstatus</th>\n",
              "      <th>Medu</th>\n",
              "      <th>Fedu</th>\n",
              "      <th>Mjob</th>\n",
              "      <th>Fjob</th>\n",
              "      <th>reason</th>\n",
              "      <th>guardian</th>\n",
              "      <th>traveltime</th>\n",
              "      <th>studytime</th>\n",
              "      <th>failures</th>\n",
              "      <th>schoolsup</th>\n",
              "      <th>famsup</th>\n",
              "      <th>paid</th>\n",
              "      <th>activities</th>\n",
              "      <th>nursery</th>\n",
              "      <th>higher</th>\n",
              "      <th>internet</th>\n",
              "      <th>romantic</th>\n",
              "      <th>famrel</th>\n",
              "      <th>freetime</th>\n",
              "      <th>goout</th>\n",
              "      <th>Dalc</th>\n",
              "      <th>Walc</th>\n",
              "      <th>health</th>\n",
              "      <th>absences</th>\n",
              "      <th>G1</th>\n",
              "      <th>G2</th>\n",
              "      <th>G3</th>\n",
              "    </tr>\n",
              "  </thead>\n",
              "  <tbody>\n",
              "    <tr>\n",
              "      <th>0</th>\n",
              "      <td>GP</td>\n",
              "      <td>F</td>\n",
              "      <td>18</td>\n",
              "      <td>U</td>\n",
              "      <td>GT3</td>\n",
              "      <td>A</td>\n",
              "      <td>4</td>\n",
              "      <td>4</td>\n",
              "      <td>at_home</td>\n",
              "      <td>teacher</td>\n",
              "      <td>course</td>\n",
              "      <td>mother</td>\n",
              "      <td>2</td>\n",
              "      <td>2</td>\n",
              "      <td>0</td>\n",
              "      <td>yes</td>\n",
              "      <td>no</td>\n",
              "      <td>no</td>\n",
              "      <td>no</td>\n",
              "      <td>yes</td>\n",
              "      <td>yes</td>\n",
              "      <td>no</td>\n",
              "      <td>no</td>\n",
              "      <td>4</td>\n",
              "      <td>3</td>\n",
              "      <td>4</td>\n",
              "      <td>1</td>\n",
              "      <td>1</td>\n",
              "      <td>3</td>\n",
              "      <td>6</td>\n",
              "      <td>5</td>\n",
              "      <td>6</td>\n",
              "      <td>6</td>\n",
              "    </tr>\n",
              "    <tr>\n",
              "      <th>1</th>\n",
              "      <td>GP</td>\n",
              "      <td>F</td>\n",
              "      <td>17</td>\n",
              "      <td>U</td>\n",
              "      <td>GT3</td>\n",
              "      <td>T</td>\n",
              "      <td>1</td>\n",
              "      <td>1</td>\n",
              "      <td>at_home</td>\n",
              "      <td>other</td>\n",
              "      <td>course</td>\n",
              "      <td>father</td>\n",
              "      <td>1</td>\n",
              "      <td>2</td>\n",
              "      <td>0</td>\n",
              "      <td>no</td>\n",
              "      <td>yes</td>\n",
              "      <td>no</td>\n",
              "      <td>no</td>\n",
              "      <td>no</td>\n",
              "      <td>yes</td>\n",
              "      <td>yes</td>\n",
              "      <td>no</td>\n",
              "      <td>5</td>\n",
              "      <td>3</td>\n",
              "      <td>3</td>\n",
              "      <td>1</td>\n",
              "      <td>1</td>\n",
              "      <td>3</td>\n",
              "      <td>4</td>\n",
              "      <td>5</td>\n",
              "      <td>5</td>\n",
              "      <td>6</td>\n",
              "    </tr>\n",
              "    <tr>\n",
              "      <th>2</th>\n",
              "      <td>GP</td>\n",
              "      <td>F</td>\n",
              "      <td>15</td>\n",
              "      <td>U</td>\n",
              "      <td>LE3</td>\n",
              "      <td>T</td>\n",
              "      <td>1</td>\n",
              "      <td>1</td>\n",
              "      <td>at_home</td>\n",
              "      <td>other</td>\n",
              "      <td>other</td>\n",
              "      <td>mother</td>\n",
              "      <td>1</td>\n",
              "      <td>2</td>\n",
              "      <td>3</td>\n",
              "      <td>yes</td>\n",
              "      <td>no</td>\n",
              "      <td>yes</td>\n",
              "      <td>no</td>\n",
              "      <td>yes</td>\n",
              "      <td>yes</td>\n",
              "      <td>yes</td>\n",
              "      <td>no</td>\n",
              "      <td>4</td>\n",
              "      <td>3</td>\n",
              "      <td>2</td>\n",
              "      <td>2</td>\n",
              "      <td>3</td>\n",
              "      <td>3</td>\n",
              "      <td>10</td>\n",
              "      <td>7</td>\n",
              "      <td>8</td>\n",
              "      <td>10</td>\n",
              "    </tr>\n",
              "    <tr>\n",
              "      <th>3</th>\n",
              "      <td>GP</td>\n",
              "      <td>F</td>\n",
              "      <td>15</td>\n",
              "      <td>U</td>\n",
              "      <td>GT3</td>\n",
              "      <td>T</td>\n",
              "      <td>4</td>\n",
              "      <td>2</td>\n",
              "      <td>health</td>\n",
              "      <td>services</td>\n",
              "      <td>home</td>\n",
              "      <td>mother</td>\n",
              "      <td>1</td>\n",
              "      <td>3</td>\n",
              "      <td>0</td>\n",
              "      <td>no</td>\n",
              "      <td>yes</td>\n",
              "      <td>yes</td>\n",
              "      <td>yes</td>\n",
              "      <td>yes</td>\n",
              "      <td>yes</td>\n",
              "      <td>yes</td>\n",
              "      <td>yes</td>\n",
              "      <td>3</td>\n",
              "      <td>2</td>\n",
              "      <td>2</td>\n",
              "      <td>1</td>\n",
              "      <td>1</td>\n",
              "      <td>5</td>\n",
              "      <td>2</td>\n",
              "      <td>15</td>\n",
              "      <td>14</td>\n",
              "      <td>15</td>\n",
              "    </tr>\n",
              "    <tr>\n",
              "      <th>4</th>\n",
              "      <td>GP</td>\n",
              "      <td>F</td>\n",
              "      <td>16</td>\n",
              "      <td>U</td>\n",
              "      <td>GT3</td>\n",
              "      <td>T</td>\n",
              "      <td>3</td>\n",
              "      <td>3</td>\n",
              "      <td>other</td>\n",
              "      <td>other</td>\n",
              "      <td>home</td>\n",
              "      <td>father</td>\n",
              "      <td>1</td>\n",
              "      <td>2</td>\n",
              "      <td>0</td>\n",
              "      <td>no</td>\n",
              "      <td>yes</td>\n",
              "      <td>yes</td>\n",
              "      <td>no</td>\n",
              "      <td>yes</td>\n",
              "      <td>yes</td>\n",
              "      <td>no</td>\n",
              "      <td>no</td>\n",
              "      <td>4</td>\n",
              "      <td>3</td>\n",
              "      <td>2</td>\n",
              "      <td>1</td>\n",
              "      <td>2</td>\n",
              "      <td>5</td>\n",
              "      <td>4</td>\n",
              "      <td>6</td>\n",
              "      <td>10</td>\n",
              "      <td>10</td>\n",
              "    </tr>\n",
              "    <tr>\n",
              "      <th>5</th>\n",
              "      <td>GP</td>\n",
              "      <td>M</td>\n",
              "      <td>16</td>\n",
              "      <td>U</td>\n",
              "      <td>LE3</td>\n",
              "      <td>T</td>\n",
              "      <td>4</td>\n",
              "      <td>3</td>\n",
              "      <td>services</td>\n",
              "      <td>other</td>\n",
              "      <td>reputation</td>\n",
              "      <td>mother</td>\n",
              "      <td>1</td>\n",
              "      <td>2</td>\n",
              "      <td>0</td>\n",
              "      <td>no</td>\n",
              "      <td>yes</td>\n",
              "      <td>yes</td>\n",
              "      <td>yes</td>\n",
              "      <td>yes</td>\n",
              "      <td>yes</td>\n",
              "      <td>yes</td>\n",
              "      <td>no</td>\n",
              "      <td>5</td>\n",
              "      <td>4</td>\n",
              "      <td>2</td>\n",
              "      <td>1</td>\n",
              "      <td>2</td>\n",
              "      <td>5</td>\n",
              "      <td>10</td>\n",
              "      <td>15</td>\n",
              "      <td>15</td>\n",
              "      <td>15</td>\n",
              "    </tr>\n",
              "    <tr>\n",
              "      <th>6</th>\n",
              "      <td>GP</td>\n",
              "      <td>M</td>\n",
              "      <td>16</td>\n",
              "      <td>U</td>\n",
              "      <td>LE3</td>\n",
              "      <td>T</td>\n",
              "      <td>2</td>\n",
              "      <td>2</td>\n",
              "      <td>other</td>\n",
              "      <td>other</td>\n",
              "      <td>home</td>\n",
              "      <td>mother</td>\n",
              "      <td>1</td>\n",
              "      <td>2</td>\n",
              "      <td>0</td>\n",
              "      <td>no</td>\n",
              "      <td>no</td>\n",
              "      <td>no</td>\n",
              "      <td>no</td>\n",
              "      <td>yes</td>\n",
              "      <td>yes</td>\n",
              "      <td>yes</td>\n",
              "      <td>no</td>\n",
              "      <td>4</td>\n",
              "      <td>4</td>\n",
              "      <td>4</td>\n",
              "      <td>1</td>\n",
              "      <td>1</td>\n",
              "      <td>3</td>\n",
              "      <td>0</td>\n",
              "      <td>12</td>\n",
              "      <td>12</td>\n",
              "      <td>11</td>\n",
              "    </tr>\n",
              "    <tr>\n",
              "      <th>7</th>\n",
              "      <td>GP</td>\n",
              "      <td>F</td>\n",
              "      <td>17</td>\n",
              "      <td>U</td>\n",
              "      <td>GT3</td>\n",
              "      <td>A</td>\n",
              "      <td>4</td>\n",
              "      <td>4</td>\n",
              "      <td>other</td>\n",
              "      <td>teacher</td>\n",
              "      <td>home</td>\n",
              "      <td>mother</td>\n",
              "      <td>2</td>\n",
              "      <td>2</td>\n",
              "      <td>0</td>\n",
              "      <td>yes</td>\n",
              "      <td>yes</td>\n",
              "      <td>no</td>\n",
              "      <td>no</td>\n",
              "      <td>yes</td>\n",
              "      <td>yes</td>\n",
              "      <td>no</td>\n",
              "      <td>no</td>\n",
              "      <td>4</td>\n",
              "      <td>1</td>\n",
              "      <td>4</td>\n",
              "      <td>1</td>\n",
              "      <td>1</td>\n",
              "      <td>1</td>\n",
              "      <td>6</td>\n",
              "      <td>6</td>\n",
              "      <td>5</td>\n",
              "      <td>6</td>\n",
              "    </tr>\n",
              "    <tr>\n",
              "      <th>8</th>\n",
              "      <td>GP</td>\n",
              "      <td>M</td>\n",
              "      <td>15</td>\n",
              "      <td>U</td>\n",
              "      <td>LE3</td>\n",
              "      <td>A</td>\n",
              "      <td>3</td>\n",
              "      <td>2</td>\n",
              "      <td>services</td>\n",
              "      <td>other</td>\n",
              "      <td>home</td>\n",
              "      <td>mother</td>\n",
              "      <td>1</td>\n",
              "      <td>2</td>\n",
              "      <td>0</td>\n",
              "      <td>no</td>\n",
              "      <td>yes</td>\n",
              "      <td>yes</td>\n",
              "      <td>no</td>\n",
              "      <td>yes</td>\n",
              "      <td>yes</td>\n",
              "      <td>yes</td>\n",
              "      <td>no</td>\n",
              "      <td>4</td>\n",
              "      <td>2</td>\n",
              "      <td>2</td>\n",
              "      <td>1</td>\n",
              "      <td>1</td>\n",
              "      <td>1</td>\n",
              "      <td>0</td>\n",
              "      <td>16</td>\n",
              "      <td>18</td>\n",
              "      <td>19</td>\n",
              "    </tr>\n",
              "    <tr>\n",
              "      <th>9</th>\n",
              "      <td>GP</td>\n",
              "      <td>M</td>\n",
              "      <td>15</td>\n",
              "      <td>U</td>\n",
              "      <td>GT3</td>\n",
              "      <td>T</td>\n",
              "      <td>3</td>\n",
              "      <td>4</td>\n",
              "      <td>other</td>\n",
              "      <td>other</td>\n",
              "      <td>home</td>\n",
              "      <td>mother</td>\n",
              "      <td>1</td>\n",
              "      <td>2</td>\n",
              "      <td>0</td>\n",
              "      <td>no</td>\n",
              "      <td>yes</td>\n",
              "      <td>yes</td>\n",
              "      <td>yes</td>\n",
              "      <td>yes</td>\n",
              "      <td>yes</td>\n",
              "      <td>yes</td>\n",
              "      <td>no</td>\n",
              "      <td>5</td>\n",
              "      <td>5</td>\n",
              "      <td>1</td>\n",
              "      <td>1</td>\n",
              "      <td>1</td>\n",
              "      <td>5</td>\n",
              "      <td>0</td>\n",
              "      <td>14</td>\n",
              "      <td>15</td>\n",
              "      <td>15</td>\n",
              "    </tr>\n",
              "  </tbody>\n",
              "</table>\n",
              "</div>"
            ],
            "text/plain": [
              "  school sex  age address famsize Pstatus  ...  Walc  health absences  G1  G2  G3\n",
              "0     GP   F   18       U     GT3       A  ...     1       3        6   5   6   6\n",
              "1     GP   F   17       U     GT3       T  ...     1       3        4   5   5   6\n",
              "2     GP   F   15       U     LE3       T  ...     3       3       10   7   8  10\n",
              "3     GP   F   15       U     GT3       T  ...     1       5        2  15  14  15\n",
              "4     GP   F   16       U     GT3       T  ...     2       5        4   6  10  10\n",
              "5     GP   M   16       U     LE3       T  ...     2       5       10  15  15  15\n",
              "6     GP   M   16       U     LE3       T  ...     1       3        0  12  12  11\n",
              "7     GP   F   17       U     GT3       A  ...     1       1        6   6   5   6\n",
              "8     GP   M   15       U     LE3       A  ...     1       1        0  16  18  19\n",
              "9     GP   M   15       U     GT3       T  ...     1       5        0  14  15  15\n",
              "\n",
              "[10 rows x 33 columns]"
            ]
          },
          "metadata": {
            "tags": []
          },
          "execution_count": 8
        }
      ]
    },
    {
      "cell_type": "markdown",
      "metadata": {
        "id": "RXPZZuAi3ccI",
        "colab_type": "text"
      },
      "source": [
        "### 2) Use Chi^2 tests and `stats.chi2_contingency()` to identify:\n",
        " - Two pairs of variables that are dependent (are associated with one another).\n",
        " - Two pairs of variables that are independent (have no significant relationship).\n",
        "\n",
        "Does it make intuitive sense why the variables in these pairs might or might not show a relationship to one another? \n"
      ]
    },
    {
      "cell_type": "code",
      "metadata": {
        "id": "83_kWP1BErG3",
        "colab_type": "code",
        "colab": {}
      },
      "source": [
        "#runs a chi2 test on two columns and outputs the results in a readable format\n",
        "def chi2_with_output(column1,column2):\n",
        "  contingency = pd.crosstab(column1, column2)\n",
        "  chi2, p_value, dof, expected = stats.chi2_contingency(contingency)\n",
        "  if p_value < .05:\n",
        "    print('The variables ' + column1.name + ' and ' + column2.name + ' are dependent')\n",
        "  elif p_value > .05:\n",
        "    print('The variables ' + column1.name + ' and ' + column2.name + ' are independent')\n",
        "  print(\"chi2:\", chi2)\n",
        "  print(\"p value:\", p_value)\n",
        "  print(\"dof:\", dof)\n",
        "  print(\"expected_frequencies: \\n\", expected)"
      ],
      "execution_count": 56,
      "outputs": []
    },
    {
      "cell_type": "code",
      "metadata": {
        "id": "Ckcr4A4FM7cs",
        "colab_type": "code",
        "colab": {
          "base_uri": "https://localhost:8080/",
          "height": 136
        },
        "outputId": "44922120-b2d6-43c7-9176-7ffe0907d062"
      },
      "source": [
        "# YOUR WORK HERE\n",
        "#Family Support and Study time are dependent\n",
        "chi2_with_output(df['famsup'], df['studytime'])"
      ],
      "execution_count": 57,
      "outputs": [
        {
          "output_type": "stream",
          "text": [
            "The variables famsup and studytime are dependent\n",
            "chi2: 10.604697392630197\n",
            "p value: 0.014067236846179306\n",
            "dof: 3\n",
            "expected_frequencies: \n",
            " [[ 40.67088608  76.69367089  25.17721519  10.45822785]\n",
            " [ 64.32911392 121.30632911  39.82278481  16.54177215]]\n"
          ],
          "name": "stdout"
        }
      ]
    },
    {
      "cell_type": "code",
      "metadata": {
        "id": "UXZ6UdujEI_a",
        "colab_type": "code",
        "colab": {
          "base_uri": "https://localhost:8080/",
          "height": 1000
        },
        "outputId": "fdfc25a2-18b5-4864-8765-1d08a8344370"
      },
      "source": [
        "chi2_with_output(df['absences'], df['age'])"
      ],
      "execution_count": 46,
      "outputs": [
        {
          "output_type": "stream",
          "text": [
            "The variables absences and age are dependent\n",
            "chi2: 337.9798974613335\n",
            "p value: 5.494894762063509e-06\n",
            "dof: 231\n",
            "expected_frequencies: \n",
            " [[2.38734177e+01 3.02784810e+01 2.85316456e+01 2.38734177e+01\n",
            "  6.98734177e+00 8.73417722e-01 2.91139241e-01 2.91139241e-01]\n",
            " [6.22784810e-01 7.89873418e-01 7.44303797e-01 6.22784810e-01\n",
            "  1.82278481e-01 2.27848101e-02 7.59493671e-03 7.59493671e-03]\n",
            " [1.34936709e+01 1.71139241e+01 1.61265823e+01 1.34936709e+01\n",
            "  3.94936709e+00 4.93670886e-01 1.64556962e-01 1.64556962e-01]\n",
            " [1.66075949e+00 2.10632911e+00 1.98481013e+00 1.66075949e+00\n",
            "  4.86075949e-01 6.07594937e-02 2.02531646e-02 2.02531646e-02]\n",
            " [1.10025316e+01 1.39544304e+01 1.31493671e+01 1.10025316e+01\n",
            "  3.22025316e+00 4.02531646e-01 1.34177215e-01 1.34177215e-01]\n",
            " [1.03797468e+00 1.31645570e+00 1.24050633e+00 1.03797468e+00\n",
            "  3.03797468e-01 3.79746835e-02 1.26582278e-02 1.26582278e-02]\n",
            " [6.43544304e+00 8.16202532e+00 7.69113924e+00 6.43544304e+00\n",
            "  1.88354430e+00 2.35443038e-01 7.84810127e-02 7.84810127e-02]\n",
            " [1.45316456e+00 1.84303797e+00 1.73670886e+00 1.45316456e+00\n",
            "  4.25316456e-01 5.31645570e-02 1.77215190e-02 1.77215190e-02]\n",
            " [4.56708861e+00 5.79240506e+00 5.45822785e+00 4.56708861e+00\n",
            "  1.33670886e+00 1.67088608e-01 5.56962025e-02 5.56962025e-02]\n",
            " [6.22784810e-01 7.89873418e-01 7.44303797e-01 6.22784810e-01\n",
            "  1.82278481e-01 2.27848101e-02 7.59493671e-03 7.59493671e-03]\n",
            " [3.52911392e+00 4.47594937e+00 4.21772152e+00 3.52911392e+00\n",
            "  1.03291139e+00 1.29113924e-01 4.30379747e-02 4.30379747e-02]\n",
            " [6.22784810e-01 7.89873418e-01 7.44303797e-01 6.22784810e-01\n",
            "  1.82278481e-01 2.27848101e-02 7.59493671e-03 7.59493671e-03]\n",
            " [2.49113924e+00 3.15949367e+00 2.97721519e+00 2.49113924e+00\n",
            "  7.29113924e-01 9.11392405e-02 3.03797468e-02 3.03797468e-02]\n",
            " [6.22784810e-01 7.89873418e-01 7.44303797e-01 6.22784810e-01\n",
            "  1.82278481e-01 2.27848101e-02 7.59493671e-03 7.59493671e-03]\n",
            " [2.49113924e+00 3.15949367e+00 2.97721519e+00 2.49113924e+00\n",
            "  7.29113924e-01 9.11392405e-02 3.03797468e-02 3.03797468e-02]\n",
            " [6.22784810e-01 7.89873418e-01 7.44303797e-01 6.22784810e-01\n",
            "  1.82278481e-01 2.27848101e-02 7.59493671e-03 7.59493671e-03]\n",
            " [1.45316456e+00 1.84303797e+00 1.73670886e+00 1.45316456e+00\n",
            "  4.25316456e-01 5.31645570e-02 1.77215190e-02 1.77215190e-02]\n",
            " [2.07594937e-01 2.63291139e-01 2.48101266e-01 2.07594937e-01\n",
            "  6.07594937e-02 7.59493671e-03 2.53164557e-03 2.53164557e-03]\n",
            " [1.03797468e+00 1.31645570e+00 1.24050633e+00 1.03797468e+00\n",
            "  3.03797468e-01 3.79746835e-02 1.26582278e-02 1.26582278e-02]\n",
            " [2.07594937e-01 2.63291139e-01 2.48101266e-01 2.07594937e-01\n",
            "  6.07594937e-02 7.59493671e-03 2.53164557e-03 2.53164557e-03]\n",
            " [8.30379747e-01 1.05316456e+00 9.92405063e-01 8.30379747e-01\n",
            "  2.43037975e-01 3.03797468e-02 1.01265823e-02 1.01265823e-02]\n",
            " [2.07594937e-01 2.63291139e-01 2.48101266e-01 2.07594937e-01\n",
            "  6.07594937e-02 7.59493671e-03 2.53164557e-03 2.53164557e-03]\n",
            " [6.22784810e-01 7.89873418e-01 7.44303797e-01 6.22784810e-01\n",
            "  1.82278481e-01 2.27848101e-02 7.59493671e-03 7.59493671e-03]\n",
            " [2.07594937e-01 2.63291139e-01 2.48101266e-01 2.07594937e-01\n",
            "  6.07594937e-02 7.59493671e-03 2.53164557e-03 2.53164557e-03]\n",
            " [2.07594937e-01 2.63291139e-01 2.48101266e-01 2.07594937e-01\n",
            "  6.07594937e-02 7.59493671e-03 2.53164557e-03 2.53164557e-03]\n",
            " [2.07594937e-01 2.63291139e-01 2.48101266e-01 2.07594937e-01\n",
            "  6.07594937e-02 7.59493671e-03 2.53164557e-03 2.53164557e-03]\n",
            " [2.07594937e-01 2.63291139e-01 2.48101266e-01 2.07594937e-01\n",
            "  6.07594937e-02 7.59493671e-03 2.53164557e-03 2.53164557e-03]\n",
            " [2.07594937e-01 2.63291139e-01 2.48101266e-01 2.07594937e-01\n",
            "  6.07594937e-02 7.59493671e-03 2.53164557e-03 2.53164557e-03]\n",
            " [2.07594937e-01 2.63291139e-01 2.48101266e-01 2.07594937e-01\n",
            "  6.07594937e-02 7.59493671e-03 2.53164557e-03 2.53164557e-03]\n",
            " [2.07594937e-01 2.63291139e-01 2.48101266e-01 2.07594937e-01\n",
            "  6.07594937e-02 7.59493671e-03 2.53164557e-03 2.53164557e-03]\n",
            " [2.07594937e-01 2.63291139e-01 2.48101266e-01 2.07594937e-01\n",
            "  6.07594937e-02 7.59493671e-03 2.53164557e-03 2.53164557e-03]\n",
            " [2.07594937e-01 2.63291139e-01 2.48101266e-01 2.07594937e-01\n",
            "  6.07594937e-02 7.59493671e-03 2.53164557e-03 2.53164557e-03]\n",
            " [2.07594937e-01 2.63291139e-01 2.48101266e-01 2.07594937e-01\n",
            "  6.07594937e-02 7.59493671e-03 2.53164557e-03 2.53164557e-03]\n",
            " [2.07594937e-01 2.63291139e-01 2.48101266e-01 2.07594937e-01\n",
            "  6.07594937e-02 7.59493671e-03 2.53164557e-03 2.53164557e-03]]\n"
          ],
          "name": "stdout"
        }
      ]
    },
    {
      "cell_type": "code",
      "metadata": {
        "id": "-PPrs5ZLEJGi",
        "colab_type": "code",
        "colab": {
          "base_uri": "https://localhost:8080/",
          "height": 170
        },
        "outputId": "78d6868d-46db-413e-9703-4149e7d5abfc"
      },
      "source": [
        "chi2_with_output(df['traveltime'], df['freetime'])"
      ],
      "execution_count": 47,
      "outputs": [
        {
          "output_type": "stream",
          "text": [
            "The variables traveltime and freetime are independent\n",
            "chi2: 11.46774269441963\n",
            "p value: 0.4893142424435174\n",
            "dof: 12\n",
            "expected_frequencies: \n",
            " [[ 12.36202532  41.64050633 102.14936709  74.82278481  26.02531646]\n",
            " [  5.14683544  17.33670886  42.52911392  31.15189873  10.83544304]\n",
            " [  1.10632911   3.72658228   9.14177215   6.69620253   2.32911392]\n",
            " [  0.38481013   1.29620253   3.17974684   2.32911392   0.81012658]]\n"
          ],
          "name": "stdout"
        }
      ]
    },
    {
      "cell_type": "code",
      "metadata": {
        "id": "CC1rBwZmEJSg",
        "colab_type": "code",
        "colab": {
          "base_uri": "https://localhost:8080/",
          "height": 170
        },
        "outputId": "e37dd602-8121-43c5-e6bf-867e1567f73f"
      },
      "source": [
        "chi2_with_output(df['failures'], df['health'])"
      ],
      "execution_count": 48,
      "outputs": [
        {
          "output_type": "stream",
          "text": [
            "The variables failures and health are independent\n",
            "chi2: 8.224511251466813\n",
            "p value: 0.7673486513090713\n",
            "dof: 12\n",
            "expected_frequencies: \n",
            " [[ 37.12405063  35.5443038   71.87848101  52.13164557 115.32151899]\n",
            " [  5.94936709   5.69620253  11.51898734   8.35443038  18.48101266]\n",
            " [  2.02278481   1.93670886   3.9164557    2.84050633   6.2835443 ]\n",
            " [  1.90379747   1.82278481   3.68607595   2.67341772   5.91392405]]\n"
          ],
          "name": "stdout"
        }
      ]
    },
    {
      "cell_type": "markdown",
      "metadata": {
        "id": "Tf7XPpBP6YqX",
        "colab_type": "text"
      },
      "source": [
        "### 3) Use NumPy to perform your own chi^2 test \"from scratch\" \n",
        "\n",
        "Pick any of the chi^2 tests that you ran in part 2 and try them on your own. You should get the same results that Scipy got for all four values returned from `chi2_contingency()`"
      ]
    },
    {
      "cell_type": "code",
      "metadata": {
        "id": "Et5DtusY6maX",
        "colab_type": "code",
        "colab": {
          "base_uri": "https://localhost:8080/",
          "height": 173
        },
        "outputId": "cbf598d9-123e-4f52-d9d5-dc4e7fd5bcbf"
      },
      "source": [
        "# YOUR WORK HERE\n",
        "contingency_with_margins = pd.crosstab(df['famsup'], df['studytime'], margins=True)\n",
        "contingency_with_margins"
      ],
      "execution_count": 51,
      "outputs": [
        {
          "output_type": "execute_result",
          "data": {
            "text/html": [
              "<div>\n",
              "<style scoped>\n",
              "    .dataframe tbody tr th:only-of-type {\n",
              "        vertical-align: middle;\n",
              "    }\n",
              "\n",
              "    .dataframe tbody tr th {\n",
              "        vertical-align: top;\n",
              "    }\n",
              "\n",
              "    .dataframe thead th {\n",
              "        text-align: right;\n",
              "    }\n",
              "</style>\n",
              "<table border=\"1\" class=\"dataframe\">\n",
              "  <thead>\n",
              "    <tr style=\"text-align: right;\">\n",
              "      <th>studytime</th>\n",
              "      <th>1</th>\n",
              "      <th>2</th>\n",
              "      <th>3</th>\n",
              "      <th>4</th>\n",
              "      <th>All</th>\n",
              "    </tr>\n",
              "    <tr>\n",
              "      <th>famsup</th>\n",
              "      <th></th>\n",
              "      <th></th>\n",
              "      <th></th>\n",
              "      <th></th>\n",
              "      <th></th>\n",
              "    </tr>\n",
              "  </thead>\n",
              "  <tbody>\n",
              "    <tr>\n",
              "      <th>no</th>\n",
              "      <td>54</td>\n",
              "      <td>70</td>\n",
              "      <td>22</td>\n",
              "      <td>7</td>\n",
              "      <td>153</td>\n",
              "    </tr>\n",
              "    <tr>\n",
              "      <th>yes</th>\n",
              "      <td>51</td>\n",
              "      <td>128</td>\n",
              "      <td>43</td>\n",
              "      <td>20</td>\n",
              "      <td>242</td>\n",
              "    </tr>\n",
              "    <tr>\n",
              "      <th>All</th>\n",
              "      <td>105</td>\n",
              "      <td>198</td>\n",
              "      <td>65</td>\n",
              "      <td>27</td>\n",
              "      <td>395</td>\n",
              "    </tr>\n",
              "  </tbody>\n",
              "</table>\n",
              "</div>"
            ],
            "text/plain": [
              "studytime    1    2   3   4  All\n",
              "famsup                          \n",
              "no          54   70  22   7  153\n",
              "yes         51  128  43  20  242\n",
              "All        105  198  65  27  395"
            ]
          },
          "metadata": {
            "tags": []
          },
          "execution_count": 51
        }
      ]
    },
    {
      "cell_type": "code",
      "metadata": {
        "id": "GfdX-vG8JlbR",
        "colab_type": "code",
        "colab": {
          "base_uri": "https://localhost:8080/",
          "height": 68
        },
        "outputId": "a0c73a72-f3e4-4b09-9b04-605f3e5ff941"
      },
      "source": [
        "row_total = df['famsup'].value_counts().sort_index().values\n",
        "print(row_total)\n",
        "column_total = df['studytime'].value_counts().sort_index().values\n",
        "print(column_total)\n",
        "sample = df.shape[0]\n",
        "print(sample)"
      ],
      "execution_count": 62,
      "outputs": [
        {
          "output_type": "stream",
          "text": [
            "[153 242]\n",
            "[105 198  65  27]\n",
            "395\n"
          ],
          "name": "stdout"
        }
      ]
    },
    {
      "cell_type": "code",
      "metadata": {
        "id": "p0QBCxcYJld3",
        "colab_type": "code",
        "colab": {
          "base_uri": "https://localhost:8080/",
          "height": 51
        },
        "outputId": "aaa294e4-be57-445a-d8fe-59633f70ab41"
      },
      "source": [
        "expected = np.array([[0.0,0.0,0.0,0.0],\n",
        "                     [0.0,0.0,0.0,0.0],])\n",
        "for row_index, row in enumerate(row_total):\n",
        "  for column_index, col in enumerate(column_total):\n",
        "    expected_value = row * col / sample\n",
        "    expected[row_index][column_index] = expected_value\n",
        "expected"
      ],
      "execution_count": 63,
      "outputs": [
        {
          "output_type": "execute_result",
          "data": {
            "text/plain": [
              "array([[ 40.67088608,  76.69367089,  25.17721519,  10.45822785],\n",
              "       [ 64.32911392, 121.30632911,  39.82278481,  16.54177215]])"
            ]
          },
          "metadata": {
            "tags": []
          },
          "execution_count": 63
        }
      ]
    },
    {
      "cell_type": "code",
      "metadata": {
        "id": "P6ooRMKcJlgX",
        "colab_type": "code",
        "colab": {
          "base_uri": "https://localhost:8080/",
          "height": 51
        },
        "outputId": "7e215142-02d9-4c26-9e20-06d8ef211b68"
      },
      "source": [
        "observed = pd.crosstab(df['famsup'], df['studytime']).values\n",
        "observed"
      ],
      "execution_count": 64,
      "outputs": [
        {
          "output_type": "execute_result",
          "data": {
            "text/plain": [
              "array([[ 54,  70,  22,   7],\n",
              "       [ 51, 128,  43,  20]])"
            ]
          },
          "metadata": {
            "tags": []
          },
          "execution_count": 64
        }
      ]
    },
    {
      "cell_type": "code",
      "metadata": {
        "id": "hJuSP-dwJli3",
        "colab_type": "code",
        "colab": {
          "base_uri": "https://localhost:8080/",
          "height": 34
        },
        "outputId": "06b20feb-acb3-4081-963f-612425d25e3b"
      },
      "source": [
        "chi2 = ((observed - expected)**2 / expected).sum()\n",
        "chi2"
      ],
      "execution_count": 68,
      "outputs": [
        {
          "output_type": "execute_result",
          "data": {
            "text/plain": [
              "10.604697392630197"
            ]
          },
          "metadata": {
            "tags": []
          },
          "execution_count": 68
        }
      ]
    },
    {
      "cell_type": "code",
      "metadata": {
        "id": "WT6yZNwNJllJ",
        "colab_type": "code",
        "colab": {}
      },
      "source": [
        "#DOF  = (4-1)*(2-1) == 3\n",
        "#p_value = 0.1407"
      ],
      "execution_count": null,
      "outputs": []
    },
    {
      "cell_type": "markdown",
      "metadata": {
        "id": "a2BrKHq8m8AS",
        "colab_type": "text"
      },
      "source": [
        "## Stretch goals:\n",
        "\n",
        "### 1. Refactor your code so it is elegant, readable, and holds reusable code in functions."
      ]
    },
    {
      "cell_type": "code",
      "metadata": {
        "id": "AntnuAkFm-JQ",
        "colab_type": "code",
        "colab": {}
      },
      "source": [
        "# YOUR WORK HERE\n",
        "def chi2_with_output(column1,column2):\n",
        "  contingency = pd.crosstab(column1, column2)\n",
        "  chi2, p_value, dof, expected = stats.chi2_contingency(contingency)\n",
        "  if p_value < .05:\n",
        "    print('The variables ' + column1.name + ' and ' + column2.name + ' are dependent')\n",
        "  elif p_value > .05:\n",
        "    print('The variables ' + column1.name + ' and ' + column2.name + ' are independent')\n",
        "  print(\"chi2:\", chi2)\n",
        "  print(\"p value:\", p_value)\n",
        "  print(\"dof:\", dof)\n",
        "  print(\"expected_frequencies: \\n\", expected)"
      ],
      "execution_count": null,
      "outputs": []
    },
    {
      "cell_type": "markdown",
      "metadata": {
        "id": "4ohsJhQUmEuS",
        "colab_type": "text"
      },
      "source": [
        "\n",
        "\n",
        "### 2. Check For Understanding - Study and write your own explanations/definitions for these topics:\n",
        "\n",
        "- What is a sample \"estimate\" in statistics?\n",
        "\n",
        "- What are hypothesis test? How are they useful?\n",
        "\n",
        "- What is a \"null hypothesis?\"\n",
        "\n",
        "- What is a p-value and what does it represent?\n",
        "\n",
        "- What does it mean for something to be \"statistically significant?\"\n",
        "\n",
        "- What is a test statistic and how does it relate to a p-value?\n",
        "\n",
        "- What are \"degrees of freedom\" and how are they calculated in a 1-sample, 2-sample, and chi^2 test for independence?"
      ]
    },
    {
      "cell_type": "markdown",
      "metadata": {
        "id": "nyJ3ySr7R2k9",
        "colab_type": "text"
      },
      "source": [
        "## Resources\n",
        "\n",
        "- [Interactive visualize the Chi-Squared test](https://homepage.divms.uiowa.edu/~mbognar/applets/chisq.html)\n",
        "- [Calculation of Chi-Squared test statistic](https://en.wikipedia.org/wiki/Pearson%27s_chi-squared_test)\n",
        "- [Visualization of a confidence interval generated by R code](https://commons.wikimedia.org/wiki/File:Confidence-interval.svg)\n",
        "- [Expected value of a squared standard normal](https://math.stackexchange.com/questions/264061/expected-value-calculation-for-squared-normal-distribution) (it's 1 - which is why the expected value of a Chi-Squared with $n$ degrees of freedom is $n$, as it's the sum of $n$ squared standard normals)"
      ]
    }
  ]
}