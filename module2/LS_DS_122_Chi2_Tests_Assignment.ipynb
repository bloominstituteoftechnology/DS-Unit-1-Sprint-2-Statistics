{
  "nbformat": 4,
  "nbformat_minor": 0,
  "metadata": {
    "colab": {
      "name": "Copy of LS_DS_122_Chi2_Tests_Assignment.ipynb",
      "provenance": [],
      "collapsed_sections": [],
      "include_colab_link": true
    },
    "kernelspec": {
      "name": "python3",
      "display_name": "Python 3"
    }
  },
  "cells": [
    {
      "cell_type": "markdown",
      "metadata": {
        "id": "view-in-github",
        "colab_type": "text"
      },
      "source": [
        "<a href=\"https://colab.research.google.com/github/JonRivera/DS-Unit-1-Sprint-2-Statistics/blob/master/module2/LS_DS_122_Chi2_Tests_Assignment.ipynb\" target=\"_parent\"><img src=\"https://colab.research.google.com/assets/colab-badge.svg\" alt=\"Open In Colab\"/></a>"
      ]
    },
    {
      "cell_type": "markdown",
      "metadata": {
        "id": "11OzdxWTM7UR",
        "colab_type": "text"
      },
      "source": [
        "## Assignment - Practice Chi^2 Tests\n",
        "\n",
        "Use the following dataset relating to math scores of students in two different Portugese schools:\n",
        "\n",
        "<https://archive.ics.uci.edu/ml/datasets/Student+Performance>\n",
        "\n",
        "### 1) Load the dataset specifically relating to math scores as a new dataframe.\n",
        "\n",
        "There are two datasets in the `student.zip` file, make sure you use `student-mat.csv`.\n"
      ]
    },
    {
      "cell_type": "code",
      "metadata": {
        "id": "UQwvrhn7m3Mn",
        "colab_type": "code",
        "outputId": "7aa1c1c3-fb1d-4b1b-dfdb-d46214633f58",
        "colab": {
          "base_uri": "https://localhost:8080/",
          "height": 198
        }
      },
      "source": [
        "# YOUR WORK HERE\n",
        "import numpy as np\n",
        "from scipy import stats\n",
        "import pandas as pd\n",
        "from scipy.stats import chisquare\n",
        "\n",
        "!wget https://archive.ics.uci.edu/ml/machine-learning-databases/00320/student.zip"
      ],
      "execution_count": 0,
      "outputs": [
        {
          "output_type": "stream",
          "text": [
            "--2020-06-09 20:52:47--  https://archive.ics.uci.edu/ml/machine-learning-databases/00320/student.zip\n",
            "Resolving archive.ics.uci.edu (archive.ics.uci.edu)... 128.195.10.252\n",
            "Connecting to archive.ics.uci.edu (archive.ics.uci.edu)|128.195.10.252|:443... connected.\n",
            "HTTP request sent, awaiting response... 200 OK\n",
            "Length: 20478 (20K) [application/x-httpd-php]\n",
            "Saving to: ‘student.zip.1’\n",
            "\n",
            "student.zip.1       100%[===================>]  20.00K  --.-KB/s    in 0.1s    \n",
            "\n",
            "2020-06-09 20:52:48 (146 KB/s) - ‘student.zip.1’ saved [20478/20478]\n",
            "\n"
          ],
          "name": "stdout"
        }
      ]
    },
    {
      "cell_type": "code",
      "metadata": {
        "id": "k-nRuwxTXRIJ",
        "colab_type": "code",
        "outputId": "9c782540-0d57-4511-bd59-b7f804127aad",
        "colab": {
          "base_uri": "https://localhost:8080/",
          "height": 165
        }
      },
      "source": [
        "!unzip student.zip\n"
      ],
      "execution_count": 0,
      "outputs": [
        {
          "output_type": "stream",
          "text": [
            "Archive:  student.zip\n",
            "replace student-mat.csv? [y]es, [n]o, [A]ll, [N]one, [r]ename: y\n",
            "  inflating: student-mat.csv         \n",
            "replace student-por.csv? [y]es, [n]o, [A]ll, [N]one, [r]ename: y\n",
            "  inflating: student-por.csv         \n",
            "replace student-merge.R? [y]es, [n]o, [A]ll, [N]one, [r]ename: y\n",
            "  inflating: student-merge.R         \n",
            "replace student.txt? [y]es, [n]o, [A]ll, [N]one, [r]ename: y\n",
            "  inflating: student.txt             \n"
          ],
          "name": "stdout"
        }
      ]
    },
    {
      "cell_type": "code",
      "metadata": {
        "id": "cg17OxKjXTaP",
        "colab_type": "code",
        "outputId": "a715ac3c-e0ba-443d-87b1-e4754eefb023",
        "colab": {
          "base_uri": "https://localhost:8080/",
          "height": 189
        }
      },
      "source": [
        "df = pd.read_csv('student-mat.csv', sep=';')\n",
        "df.head()"
      ],
      "execution_count": 0,
      "outputs": [
        {
          "output_type": "execute_result",
          "data": {
            "text/html": [
              "<div>\n",
              "<style scoped>\n",
              "    .dataframe tbody tr th:only-of-type {\n",
              "        vertical-align: middle;\n",
              "    }\n",
              "\n",
              "    .dataframe tbody tr th {\n",
              "        vertical-align: top;\n",
              "    }\n",
              "\n",
              "    .dataframe thead th {\n",
              "        text-align: right;\n",
              "    }\n",
              "</style>\n",
              "<table border=\"1\" class=\"dataframe\">\n",
              "  <thead>\n",
              "    <tr style=\"text-align: right;\">\n",
              "      <th></th>\n",
              "      <th>school</th>\n",
              "      <th>sex</th>\n",
              "      <th>age</th>\n",
              "      <th>address</th>\n",
              "      <th>famsize</th>\n",
              "      <th>Pstatus</th>\n",
              "      <th>Medu</th>\n",
              "      <th>Fedu</th>\n",
              "      <th>Mjob</th>\n",
              "      <th>Fjob</th>\n",
              "      <th>reason</th>\n",
              "      <th>guardian</th>\n",
              "      <th>traveltime</th>\n",
              "      <th>studytime</th>\n",
              "      <th>failures</th>\n",
              "      <th>schoolsup</th>\n",
              "      <th>famsup</th>\n",
              "      <th>paid</th>\n",
              "      <th>activities</th>\n",
              "      <th>nursery</th>\n",
              "      <th>higher</th>\n",
              "      <th>internet</th>\n",
              "      <th>romantic</th>\n",
              "      <th>famrel</th>\n",
              "      <th>freetime</th>\n",
              "      <th>goout</th>\n",
              "      <th>Dalc</th>\n",
              "      <th>Walc</th>\n",
              "      <th>health</th>\n",
              "      <th>absences</th>\n",
              "      <th>G1</th>\n",
              "      <th>G2</th>\n",
              "      <th>G3</th>\n",
              "    </tr>\n",
              "  </thead>\n",
              "  <tbody>\n",
              "    <tr>\n",
              "      <th>0</th>\n",
              "      <td>GP</td>\n",
              "      <td>F</td>\n",
              "      <td>18</td>\n",
              "      <td>U</td>\n",
              "      <td>GT3</td>\n",
              "      <td>A</td>\n",
              "      <td>4</td>\n",
              "      <td>4</td>\n",
              "      <td>at_home</td>\n",
              "      <td>teacher</td>\n",
              "      <td>course</td>\n",
              "      <td>mother</td>\n",
              "      <td>2</td>\n",
              "      <td>2</td>\n",
              "      <td>0</td>\n",
              "      <td>yes</td>\n",
              "      <td>no</td>\n",
              "      <td>no</td>\n",
              "      <td>no</td>\n",
              "      <td>yes</td>\n",
              "      <td>yes</td>\n",
              "      <td>no</td>\n",
              "      <td>no</td>\n",
              "      <td>4</td>\n",
              "      <td>3</td>\n",
              "      <td>4</td>\n",
              "      <td>1</td>\n",
              "      <td>1</td>\n",
              "      <td>3</td>\n",
              "      <td>6</td>\n",
              "      <td>5</td>\n",
              "      <td>6</td>\n",
              "      <td>6</td>\n",
              "    </tr>\n",
              "    <tr>\n",
              "      <th>1</th>\n",
              "      <td>GP</td>\n",
              "      <td>F</td>\n",
              "      <td>17</td>\n",
              "      <td>U</td>\n",
              "      <td>GT3</td>\n",
              "      <td>T</td>\n",
              "      <td>1</td>\n",
              "      <td>1</td>\n",
              "      <td>at_home</td>\n",
              "      <td>other</td>\n",
              "      <td>course</td>\n",
              "      <td>father</td>\n",
              "      <td>1</td>\n",
              "      <td>2</td>\n",
              "      <td>0</td>\n",
              "      <td>no</td>\n",
              "      <td>yes</td>\n",
              "      <td>no</td>\n",
              "      <td>no</td>\n",
              "      <td>no</td>\n",
              "      <td>yes</td>\n",
              "      <td>yes</td>\n",
              "      <td>no</td>\n",
              "      <td>5</td>\n",
              "      <td>3</td>\n",
              "      <td>3</td>\n",
              "      <td>1</td>\n",
              "      <td>1</td>\n",
              "      <td>3</td>\n",
              "      <td>4</td>\n",
              "      <td>5</td>\n",
              "      <td>5</td>\n",
              "      <td>6</td>\n",
              "    </tr>\n",
              "    <tr>\n",
              "      <th>2</th>\n",
              "      <td>GP</td>\n",
              "      <td>F</td>\n",
              "      <td>15</td>\n",
              "      <td>U</td>\n",
              "      <td>LE3</td>\n",
              "      <td>T</td>\n",
              "      <td>1</td>\n",
              "      <td>1</td>\n",
              "      <td>at_home</td>\n",
              "      <td>other</td>\n",
              "      <td>other</td>\n",
              "      <td>mother</td>\n",
              "      <td>1</td>\n",
              "      <td>2</td>\n",
              "      <td>3</td>\n",
              "      <td>yes</td>\n",
              "      <td>no</td>\n",
              "      <td>yes</td>\n",
              "      <td>no</td>\n",
              "      <td>yes</td>\n",
              "      <td>yes</td>\n",
              "      <td>yes</td>\n",
              "      <td>no</td>\n",
              "      <td>4</td>\n",
              "      <td>3</td>\n",
              "      <td>2</td>\n",
              "      <td>2</td>\n",
              "      <td>3</td>\n",
              "      <td>3</td>\n",
              "      <td>10</td>\n",
              "      <td>7</td>\n",
              "      <td>8</td>\n",
              "      <td>10</td>\n",
              "    </tr>\n",
              "    <tr>\n",
              "      <th>3</th>\n",
              "      <td>GP</td>\n",
              "      <td>F</td>\n",
              "      <td>15</td>\n",
              "      <td>U</td>\n",
              "      <td>GT3</td>\n",
              "      <td>T</td>\n",
              "      <td>4</td>\n",
              "      <td>2</td>\n",
              "      <td>health</td>\n",
              "      <td>services</td>\n",
              "      <td>home</td>\n",
              "      <td>mother</td>\n",
              "      <td>1</td>\n",
              "      <td>3</td>\n",
              "      <td>0</td>\n",
              "      <td>no</td>\n",
              "      <td>yes</td>\n",
              "      <td>yes</td>\n",
              "      <td>yes</td>\n",
              "      <td>yes</td>\n",
              "      <td>yes</td>\n",
              "      <td>yes</td>\n",
              "      <td>yes</td>\n",
              "      <td>3</td>\n",
              "      <td>2</td>\n",
              "      <td>2</td>\n",
              "      <td>1</td>\n",
              "      <td>1</td>\n",
              "      <td>5</td>\n",
              "      <td>2</td>\n",
              "      <td>15</td>\n",
              "      <td>14</td>\n",
              "      <td>15</td>\n",
              "    </tr>\n",
              "    <tr>\n",
              "      <th>4</th>\n",
              "      <td>GP</td>\n",
              "      <td>F</td>\n",
              "      <td>16</td>\n",
              "      <td>U</td>\n",
              "      <td>GT3</td>\n",
              "      <td>T</td>\n",
              "      <td>3</td>\n",
              "      <td>3</td>\n",
              "      <td>other</td>\n",
              "      <td>other</td>\n",
              "      <td>home</td>\n",
              "      <td>father</td>\n",
              "      <td>1</td>\n",
              "      <td>2</td>\n",
              "      <td>0</td>\n",
              "      <td>no</td>\n",
              "      <td>yes</td>\n",
              "      <td>yes</td>\n",
              "      <td>no</td>\n",
              "      <td>yes</td>\n",
              "      <td>yes</td>\n",
              "      <td>no</td>\n",
              "      <td>no</td>\n",
              "      <td>4</td>\n",
              "      <td>3</td>\n",
              "      <td>2</td>\n",
              "      <td>1</td>\n",
              "      <td>2</td>\n",
              "      <td>5</td>\n",
              "      <td>4</td>\n",
              "      <td>6</td>\n",
              "      <td>10</td>\n",
              "      <td>10</td>\n",
              "    </tr>\n",
              "  </tbody>\n",
              "</table>\n",
              "</div>"
            ],
            "text/plain": [
              "  school sex  age address famsize Pstatus  ...  Walc  health absences  G1  G2  G3\n",
              "0     GP   F   18       U     GT3       A  ...     1       3        6   5   6   6\n",
              "1     GP   F   17       U     GT3       T  ...     1       3        4   5   5   6\n",
              "2     GP   F   15       U     LE3       T  ...     3       3       10   7   8  10\n",
              "3     GP   F   15       U     GT3       T  ...     1       5        2  15  14  15\n",
              "4     GP   F   16       U     GT3       T  ...     2       5        4   6  10  10\n",
              "\n",
              "[5 rows x 33 columns]"
            ]
          },
          "metadata": {
            "tags": []
          },
          "execution_count": 3
        }
      ]
    },
    {
      "cell_type": "markdown",
      "metadata": {
        "id": "RXPZZuAi3ccI",
        "colab_type": "text"
      },
      "source": [
        "### 2) Use Chi^2 tests and `stats.chi2_contingency()` to identify:\n",
        " - Two pairs of variables that are dependent (are associated with one another).\n",
        " - Two pairs of variables that are independent (have no significant relationship).\n",
        "\n",
        "Does it make intuitive sense why the variables in these pairs might or might not show a relationship to one another? \n"
      ]
    },
    {
      "cell_type": "code",
      "metadata": {
        "id": "yVBk1716bJFP",
        "colab_type": "code",
        "colab": {}
      },
      "source": [
        ""
      ],
      "execution_count": 0,
      "outputs": []
    },
    {
      "cell_type": "code",
      "metadata": {
        "id": "Ckcr4A4FM7cs",
        "colab_type": "code",
        "outputId": "787bd346-8204-44cc-d42f-23aca8ea2b9a",
        "colab": {
          "base_uri": "https://localhost:8080/",
          "height": 231
        }
      },
      "source": [
        "# YOUR WORK HERE\n",
        "#pairs of variables are possibly dependent\n",
        "contingency1 = pd.crosstab(df['studytime'], df['freetime'])\n",
        "contingency2 = pd.crosstab(df['traveltime'],df['absences'])\n",
        "\n",
        "print(contingency1,contingency2)"
      ],
      "execution_count": 0,
      "outputs": [
        {
          "output_type": "stream",
          "text": [
            "freetime    1   2   3   4   5\n",
            "studytime                    \n",
            "1           2  19  35  29  20\n",
            "2          11  28  82  61  16\n",
            "3           3  11  29  21   1\n",
            "4           3   6  11   4   3 absences    0   1   2   3   4   5   6   7   ...  26  28  30  38  40  54  56  75\n",
            "traveltime                                  ...                                \n",
            "1           74   2  40   5  37   4  16   5  ...   0   1   0   0   1   1   1   0\n",
            "2           32   1  20   2  13   1  10   1  ...   1   0   1   1   0   0   0   1\n",
            "3            6   0   4   1   3   0   3   1  ...   0   0   0   0   0   0   0   0\n",
            "4            3   0   1   0   0   0   2   0  ...   0   0   0   0   0   0   0   0\n",
            "\n",
            "[4 rows x 34 columns]\n"
          ],
          "name": "stdout"
        }
      ]
    },
    {
      "cell_type": "markdown",
      "metadata": {
        "id": "u_qy5lcZixZ3",
        "colab_type": "text"
      },
      "source": [
        "Null Hypothesis: Study time and free time variables are independent.\n",
        "Alternative: The two variables are dependent and there is a relationship associated between them."
      ]
    },
    {
      "cell_type": "code",
      "metadata": {
        "id": "65M1yWARdnhF",
        "colab_type": "code",
        "outputId": "d8a8ea03-0d65-45a7-a9f7-faf3f6d8cce3",
        "colab": {
          "base_uri": "https://localhost:8080/",
          "height": 132
        }
      },
      "source": [
        "chi2, p_value, dof, expected = stats.chi2_contingency(contingency1)\n",
        "print(\"chi2 statistic\", chi2)\n",
        "print(\"p value\", p_value)\n",
        "print(\"degrees of freedom\",dof)\n",
        "print(\"expected frequencies table\", expected)"
      ],
      "execution_count": 0,
      "outputs": [
        {
          "output_type": "stream",
          "text": [
            "chi2 statistic 23.53045426913059\n",
            "p value 0.023545617681757027\n",
            "degrees of freedom 12\n",
            "expected frequencies table [[ 5.05063291 17.01265823 41.73417722 30.56962025 10.63291139]\n",
            " [ 9.52405063 32.08101266 78.69873418 57.64556962 20.05063291]\n",
            " [ 3.12658228 10.53164557 25.83544304 18.92405063  6.58227848]\n",
            " [ 1.29873418  4.37468354 10.73164557  7.86075949  2.73417722]]\n"
          ],
          "name": "stdout"
        }
      ]
    },
    {
      "cell_type": "markdown",
      "metadata": {
        "id": "_0ToIrt2d4Zr",
        "colab_type": "text"
      },
      "source": [
        "Conclusion:  Given the p value of 0.023 study time , this suggest the variables are not independednt and instead might be depenedent. \n",
        "\n",
        "Intuition: Initially, I my gut feeling was that study time and free time are correlated. If a student studies more, logically, he might have less time available for free time."
      ]
    },
    {
      "cell_type": "markdown",
      "metadata": {
        "id": "OHxSVJ8uiWWz",
        "colab_type": "text"
      },
      "source": [
        "Null Hypothesis: Absences and Travel time variables are  independent.\n",
        "Alternative: The two variables are dependednt and there is a relationship associated between them.\n"
      ]
    },
    {
      "cell_type": "code",
      "metadata": {
        "id": "D9jT5PqShQnH",
        "colab_type": "code",
        "outputId": "ae208de4-a077-4128-c830-eb76a6b8d2d3",
        "colab": {
          "base_uri": "https://localhost:8080/",
          "height": 660
        }
      },
      "source": [
        "chi2, p_value, dof, expected = stats.chi2_contingency(contingency2)\n",
        "print(\"chi2 statistic\", chi2)\n",
        "print(\"p value\", p_value)\n",
        "print(\"degrees of freedom\",dof)\n",
        "print(\"expected frequencies table\", expected)"
      ],
      "execution_count": 0,
      "outputs": [
        {
          "output_type": "stream",
          "text": [
            "chi2 statistic 61.11558335253091\n",
            "p value 0.9990069240658936\n",
            "degrees of freedom 99\n",
            "expected frequencies table [[7.48227848e+01 1.95189873e+00 4.22911392e+01 5.20506329e+00\n",
            "  3.44835443e+01 3.25316456e+00 2.01696203e+01 4.55443038e+00\n",
            "  1.43139241e+01 1.95189873e+00 1.10607595e+01 1.95189873e+00\n",
            "  7.80759494e+00 1.95189873e+00 7.80759494e+00 1.95189873e+00\n",
            "  4.55443038e+00 6.50632911e-01 3.25316456e+00 6.50632911e-01\n",
            "  2.60253165e+00 6.50632911e-01 1.95189873e+00 6.50632911e-01\n",
            "  6.50632911e-01 6.50632911e-01 6.50632911e-01 6.50632911e-01\n",
            "  6.50632911e-01 6.50632911e-01 6.50632911e-01 6.50632911e-01\n",
            "  6.50632911e-01 6.50632911e-01]\n",
            " [3.11518987e+01 8.12658228e-01 1.76075949e+01 2.16708861e+00\n",
            "  1.43569620e+01 1.35443038e+00 8.39746835e+00 1.89620253e+00\n",
            "  5.95949367e+00 8.12658228e-01 4.60506329e+00 8.12658228e-01\n",
            "  3.25063291e+00 8.12658228e-01 3.25063291e+00 8.12658228e-01\n",
            "  1.89620253e+00 2.70886076e-01 1.35443038e+00 2.70886076e-01\n",
            "  1.08354430e+00 2.70886076e-01 8.12658228e-01 2.70886076e-01\n",
            "  2.70886076e-01 2.70886076e-01 2.70886076e-01 2.70886076e-01\n",
            "  2.70886076e-01 2.70886076e-01 2.70886076e-01 2.70886076e-01\n",
            "  2.70886076e-01 2.70886076e-01]\n",
            " [6.69620253e+00 1.74683544e-01 3.78481013e+00 4.65822785e-01\n",
            "  3.08607595e+00 2.91139241e-01 1.80506329e+00 4.07594937e-01\n",
            "  1.28101266e+00 1.74683544e-01 9.89873418e-01 1.74683544e-01\n",
            "  6.98734177e-01 1.74683544e-01 6.98734177e-01 1.74683544e-01\n",
            "  4.07594937e-01 5.82278481e-02 2.91139241e-01 5.82278481e-02\n",
            "  2.32911392e-01 5.82278481e-02 1.74683544e-01 5.82278481e-02\n",
            "  5.82278481e-02 5.82278481e-02 5.82278481e-02 5.82278481e-02\n",
            "  5.82278481e-02 5.82278481e-02 5.82278481e-02 5.82278481e-02\n",
            "  5.82278481e-02 5.82278481e-02]\n",
            " [2.32911392e+00 6.07594937e-02 1.31645570e+00 1.62025316e-01\n",
            "  1.07341772e+00 1.01265823e-01 6.27848101e-01 1.41772152e-01\n",
            "  4.45569620e-01 6.07594937e-02 3.44303797e-01 6.07594937e-02\n",
            "  2.43037975e-01 6.07594937e-02 2.43037975e-01 6.07594937e-02\n",
            "  1.41772152e-01 2.02531646e-02 1.01265823e-01 2.02531646e-02\n",
            "  8.10126582e-02 2.02531646e-02 6.07594937e-02 2.02531646e-02\n",
            "  2.02531646e-02 2.02531646e-02 2.02531646e-02 2.02531646e-02\n",
            "  2.02531646e-02 2.02531646e-02 2.02531646e-02 2.02531646e-02\n",
            "  2.02531646e-02 2.02531646e-02]]\n"
          ],
          "name": "stdout"
        }
      ]
    },
    {
      "cell_type": "markdown",
      "metadata": {
        "id": "RyWr_caWhmXb",
        "colab_type": "text"
      },
      "source": [
        "Conclusion: Given a p vaue of .99 there is evidence to suggest that travel time and absences might be independent.\n",
        "\n",
        "Intution: its not necessarily clear how travel time might affect absences. It really depends on wheather a student has reliable transportation, wake up time and other factors as well might come to play."
      ]
    },
    {
      "cell_type": "code",
      "metadata": {
        "id": "s27yf9wid2iB",
        "colab_type": "code",
        "colab": {}
      },
      "source": [
        "chi2, p_value, dof, expected = stats.chi2_contingency(contingency2)\n",
        "print(\"chi2 statistic\", chi2)\n",
        "print(\"p value\", p_value)\n",
        "print(\"degrees of freedom\",dof)\n",
        "print(\"expected frequencies table\", expected)"
      ],
      "execution_count": 0,
      "outputs": []
    },
    {
      "cell_type": "code",
      "metadata": {
        "id": "X0mxWdnTch1D",
        "colab_type": "code",
        "colab": {}
      },
      "source": [
        "#pairs of variables that are possibly independent\n",
        "contingency3 = pd.crosstab(df['Fedu'],df['failures'])\n",
        "contingency4 = pd.crosstab(df['Medu'],df['failures'])"
      ],
      "execution_count": 0,
      "outputs": []
    },
    {
      "cell_type": "code",
      "metadata": {
        "id": "-ZUPGfMYdb7d",
        "colab_type": "code",
        "outputId": "4d3cb56f-70ad-4b6e-8894-d265adc316b6",
        "colab": {
          "base_uri": "https://localhost:8080/",
          "height": 231
        }
      },
      "source": [
        "print(contingency3,contingency4)"
      ],
      "execution_count": 0,
      "outputs": [
        {
          "output_type": "stream",
          "text": [
            "failures   0   1  2   3\n",
            "Fedu                   \n",
            "0          2   0  0   0\n",
            "1         51  16  3  12\n",
            "2         88  17  7   3\n",
            "3         85  10  4   1\n",
            "4         86   7  3   0 failures    0   1  2  3\n",
            "Medu                   \n",
            "0           2   0  0  1\n",
            "1          35  15  2  7\n",
            "2          81  14  5  3\n",
            "3          73  14  7  5\n",
            "4         121   7  3  0\n"
          ],
          "name": "stdout"
        }
      ]
    },
    {
      "cell_type": "code",
      "metadata": {
        "id": "pgjt3wtCkWpo",
        "colab_type": "code",
        "colab": {}
      },
      "source": [
        "from google.colab import drive\n",
        "drive.mount('/content/drive')"
      ],
      "execution_count": 0,
      "outputs": []
    },
    {
      "cell_type": "markdown",
      "metadata": {
        "id": "D-Ln59TCkW3O",
        "colab_type": "text"
      },
      "source": [
        "Null Hypothesis: Father education and failures variables are independent. Alternative: The two variables are dependent and there is a relationship associated between them.\n"
      ]
    },
    {
      "cell_type": "code",
      "metadata": {
        "id": "_JBTcjn2kP_c",
        "colab_type": "code",
        "outputId": "756d7412-870e-4860-9a01-c8accbe9ff70",
        "colab": {
          "base_uri": "https://localhost:8080/",
          "height": 148
        }
      },
      "source": [
        "chi2, p_value, dof, expected = stats.chi2_contingency(contingency3)\n",
        "print(\"chi2 statistic\", chi2)\n",
        "print(\"p value\", p_value)\n",
        "print(\"degrees of freedom\",dof)\n",
        "print(\"expected frequencies table\", expected)"
      ],
      "execution_count": 0,
      "outputs": [
        {
          "output_type": "stream",
          "text": [
            "chi2 statistic 42.277686186072714\n",
            "p value 2.990535490026923e-05\n",
            "degrees of freedom 12\n",
            "expected frequencies table [[1.57974684e+00 2.53164557e-01 8.60759494e-02 8.10126582e-02]\n",
            " [6.47696203e+01 1.03797468e+01 3.52911392e+00 3.32151899e+00]\n",
            " [9.08354430e+01 1.45569620e+01 4.94936709e+00 4.65822785e+00]\n",
            " [7.89873418e+01 1.26582278e+01 4.30379747e+00 4.05063291e+00]\n",
            " [7.58278481e+01 1.21518987e+01 4.13164557e+00 3.88860759e+00]]\n"
          ],
          "name": "stdout"
        }
      ]
    },
    {
      "cell_type": "markdown",
      "metadata": {
        "id": "nWZuziVXk4AA",
        "colab_type": "text"
      },
      "source": [
        "Conclusion: Given a p value of 2.990535490026923e-05 and statistic of 42.27, I reject the null hypothesis father education and failures are independent. Instead, I suggest fathers education might be dependent to a students failure.\n",
        "\n",
        "Intuition: It makes sense in general for at least on parent(father) to contribute to students education lack of failure. Might have to do with better habbits/goals motivated by parent."
      ]
    },
    {
      "cell_type": "markdown",
      "metadata": {
        "id": "-LR5iK-8l_qb",
        "colab_type": "text"
      },
      "source": [
        "Null Hypothesis: Mother education and failures variables are independent. Alternative: The two variables are dependent and there is a relationship associated between them."
      ]
    },
    {
      "cell_type": "code",
      "metadata": {
        "id": "VCOXceOhmHIl",
        "colab_type": "code",
        "outputId": "d1fa9860-bcb5-490b-a107-abc57a76acd7",
        "colab": {
          "base_uri": "https://localhost:8080/",
          "height": 148
        }
      },
      "source": [
        "chi2, p_value, dof, expected = stats.chi2_contingency(contingency4)\n",
        "print(\"chi2 statistic\", chi2)\n",
        "print(\"p value\", p_value)\n",
        "print(\"degrees of freedom\",dof)\n",
        "print(\"expected frequencies table\", expected)"
      ],
      "execution_count": 0,
      "outputs": [
        {
          "output_type": "stream",
          "text": [
            "chi2 statistic 44.45276808268604\n",
            "p value 1.2783690573466937e-05\n",
            "degrees of freedom 12\n",
            "expected frequencies table [[  2.36962025   0.37974684   0.12911392   0.12151899]\n",
            " [ 46.60253165   7.46835443   2.53924051   2.38987342]\n",
            " [ 81.35696203  13.03797468   4.43291139   4.1721519 ]\n",
            " [ 78.19746835  12.53164557   4.26075949   4.01012658]\n",
            " [103.47341772  16.58227848   5.63797468   5.30632911]]\n"
          ],
          "name": "stdout"
        }
      ]
    },
    {
      "cell_type": "markdown",
      "metadata": {
        "id": "3Z66FENFmPRy",
        "colab_type": "text"
      },
      "source": [
        "Conclusion: Given a p value of 1.2783690573466937e-05 and statistic of 44.45, I reject the null hypothesis mother education and failures are independent. Instead, I suggest mothers education might be dependent to a students failure.\n",
        "\n",
        "Intuition: It makes sense in general for at least on parent to contribute to students education lack of failure. Might have to do with better habbits/goals motivated by parent."
      ]
    },
    {
      "cell_type": "markdown",
      "metadata": {
        "id": "Tf7XPpBP6YqX",
        "colab_type": "text"
      },
      "source": [
        "### 3) Use NumPy to perform your own chi^2 test \"from scratch\" \n",
        "\n",
        "Pick any of the chi^2 tests that you ran in part 2 and try them on your own. You should get the same results that Scipy got for all four values returned from `chi2_contingency()`"
      ]
    },
    {
      "cell_type": "code",
      "metadata": {
        "id": "Et5DtusY6maX",
        "colab_type": "code",
        "colab": {}
      },
      "source": [
        "# YOUR WORK HERE\n",
        "# Using NumPy to perform Chi^2 from scratch\n"
      ],
      "execution_count": 0,
      "outputs": []
    },
    {
      "cell_type": "code",
      "metadata": {
        "id": "VsOCWJC1ovuj",
        "colab_type": "code",
        "outputId": "cbcc5001-ee51-47b4-9178-8775767867f6",
        "colab": {
          "base_uri": "https://localhost:8080/",
          "height": 99
        }
      },
      "source": [
        "df['traveltime'].value_counts()"
      ],
      "execution_count": 0,
      "outputs": [
        {
          "output_type": "execute_result",
          "data": {
            "text/plain": [
              "1    257\n",
              "2    107\n",
              "3     23\n",
              "4      8\n",
              "Name: traveltime, dtype: int64"
            ]
          },
          "metadata": {
            "tags": []
          },
          "execution_count": 4
        }
      ]
    },
    {
      "cell_type": "code",
      "metadata": {
        "id": "gNmTDQpIo23a",
        "colab_type": "code",
        "outputId": "6aa08ec7-b593-4c65-b018-0ff27a212283",
        "colab": {
          "base_uri": "https://localhost:8080/",
          "height": 594
        }
      },
      "source": [
        "df['absences'].value_counts()"
      ],
      "execution_count": 0,
      "outputs": [
        {
          "output_type": "execute_result",
          "data": {
            "text/plain": [
              "0     115\n",
              "2      65\n",
              "4      53\n",
              "6      31\n",
              "8      22\n",
              "10     17\n",
              "14     12\n",
              "12     12\n",
              "3       8\n",
              "7       7\n",
              "16      7\n",
              "18      5\n",
              "5       5\n",
              "20      4\n",
              "22      3\n",
              "13      3\n",
              "1       3\n",
              "9       3\n",
              "11      3\n",
              "15      3\n",
              "23      1\n",
              "24      1\n",
              "21      1\n",
              "25      1\n",
              "56      1\n",
              "26      1\n",
              "28      1\n",
              "30      1\n",
              "17      1\n",
              "38      1\n",
              "40      1\n",
              "54      1\n",
              "19      1\n",
              "75      1\n",
              "Name: absences, dtype: int64"
            ]
          },
          "metadata": {
            "tags": []
          },
          "execution_count": 5
        }
      ]
    },
    {
      "cell_type": "code",
      "metadata": {
        "id": "JAa1PK5hpAqY",
        "colab_type": "code",
        "colab": {}
      },
      "source": [
        "observed = pd.crosstab(df['traveltime'],df['absences'])"
      ],
      "execution_count": 0,
      "outputs": []
    },
    {
      "cell_type": "code",
      "metadata": {
        "id": "P-hDjIXBpLKb",
        "colab_type": "code",
        "outputId": "84f2239b-b2d9-4b27-c248-2c195078d6b2",
        "colab": {
          "base_uri": "https://localhost:8080/",
          "height": 217
        }
      },
      "source": [
        "observed_with_margins = pd.crosstab(df['traveltime'], df['absences'], margins=True)\n",
        "observed_with_margins"
      ],
      "execution_count": 0,
      "outputs": [
        {
          "output_type": "execute_result",
          "data": {
            "text/html": [
              "<div>\n",
              "<style scoped>\n",
              "    .dataframe tbody tr th:only-of-type {\n",
              "        vertical-align: middle;\n",
              "    }\n",
              "\n",
              "    .dataframe tbody tr th {\n",
              "        vertical-align: top;\n",
              "    }\n",
              "\n",
              "    .dataframe thead th {\n",
              "        text-align: right;\n",
              "    }\n",
              "</style>\n",
              "<table border=\"1\" class=\"dataframe\">\n",
              "  <thead>\n",
              "    <tr style=\"text-align: right;\">\n",
              "      <th>absences</th>\n",
              "      <th>0</th>\n",
              "      <th>1</th>\n",
              "      <th>2</th>\n",
              "      <th>3</th>\n",
              "      <th>4</th>\n",
              "      <th>5</th>\n",
              "      <th>6</th>\n",
              "      <th>7</th>\n",
              "      <th>8</th>\n",
              "      <th>9</th>\n",
              "      <th>10</th>\n",
              "      <th>11</th>\n",
              "      <th>12</th>\n",
              "      <th>13</th>\n",
              "      <th>14</th>\n",
              "      <th>15</th>\n",
              "      <th>16</th>\n",
              "      <th>17</th>\n",
              "      <th>18</th>\n",
              "      <th>19</th>\n",
              "      <th>20</th>\n",
              "      <th>21</th>\n",
              "      <th>22</th>\n",
              "      <th>23</th>\n",
              "      <th>24</th>\n",
              "      <th>25</th>\n",
              "      <th>26</th>\n",
              "      <th>28</th>\n",
              "      <th>30</th>\n",
              "      <th>38</th>\n",
              "      <th>40</th>\n",
              "      <th>54</th>\n",
              "      <th>56</th>\n",
              "      <th>75</th>\n",
              "      <th>All</th>\n",
              "    </tr>\n",
              "    <tr>\n",
              "      <th>traveltime</th>\n",
              "      <th></th>\n",
              "      <th></th>\n",
              "      <th></th>\n",
              "      <th></th>\n",
              "      <th></th>\n",
              "      <th></th>\n",
              "      <th></th>\n",
              "      <th></th>\n",
              "      <th></th>\n",
              "      <th></th>\n",
              "      <th></th>\n",
              "      <th></th>\n",
              "      <th></th>\n",
              "      <th></th>\n",
              "      <th></th>\n",
              "      <th></th>\n",
              "      <th></th>\n",
              "      <th></th>\n",
              "      <th></th>\n",
              "      <th></th>\n",
              "      <th></th>\n",
              "      <th></th>\n",
              "      <th></th>\n",
              "      <th></th>\n",
              "      <th></th>\n",
              "      <th></th>\n",
              "      <th></th>\n",
              "      <th></th>\n",
              "      <th></th>\n",
              "      <th></th>\n",
              "      <th></th>\n",
              "      <th></th>\n",
              "      <th></th>\n",
              "      <th></th>\n",
              "      <th></th>\n",
              "    </tr>\n",
              "  </thead>\n",
              "  <tbody>\n",
              "    <tr>\n",
              "      <th>1</th>\n",
              "      <td>74</td>\n",
              "      <td>2</td>\n",
              "      <td>40</td>\n",
              "      <td>5</td>\n",
              "      <td>37</td>\n",
              "      <td>4</td>\n",
              "      <td>16</td>\n",
              "      <td>5</td>\n",
              "      <td>13</td>\n",
              "      <td>3</td>\n",
              "      <td>12</td>\n",
              "      <td>3</td>\n",
              "      <td>9</td>\n",
              "      <td>2</td>\n",
              "      <td>8</td>\n",
              "      <td>3</td>\n",
              "      <td>6</td>\n",
              "      <td>1</td>\n",
              "      <td>4</td>\n",
              "      <td>1</td>\n",
              "      <td>2</td>\n",
              "      <td>1</td>\n",
              "      <td>1</td>\n",
              "      <td>1</td>\n",
              "      <td>0</td>\n",
              "      <td>0</td>\n",
              "      <td>0</td>\n",
              "      <td>1</td>\n",
              "      <td>0</td>\n",
              "      <td>0</td>\n",
              "      <td>1</td>\n",
              "      <td>1</td>\n",
              "      <td>1</td>\n",
              "      <td>0</td>\n",
              "      <td>257</td>\n",
              "    </tr>\n",
              "    <tr>\n",
              "      <th>2</th>\n",
              "      <td>32</td>\n",
              "      <td>1</td>\n",
              "      <td>20</td>\n",
              "      <td>2</td>\n",
              "      <td>13</td>\n",
              "      <td>1</td>\n",
              "      <td>10</td>\n",
              "      <td>1</td>\n",
              "      <td>6</td>\n",
              "      <td>0</td>\n",
              "      <td>4</td>\n",
              "      <td>0</td>\n",
              "      <td>3</td>\n",
              "      <td>1</td>\n",
              "      <td>3</td>\n",
              "      <td>0</td>\n",
              "      <td>1</td>\n",
              "      <td>0</td>\n",
              "      <td>1</td>\n",
              "      <td>0</td>\n",
              "      <td>0</td>\n",
              "      <td>0</td>\n",
              "      <td>2</td>\n",
              "      <td>0</td>\n",
              "      <td>1</td>\n",
              "      <td>1</td>\n",
              "      <td>1</td>\n",
              "      <td>0</td>\n",
              "      <td>1</td>\n",
              "      <td>1</td>\n",
              "      <td>0</td>\n",
              "      <td>0</td>\n",
              "      <td>0</td>\n",
              "      <td>1</td>\n",
              "      <td>107</td>\n",
              "    </tr>\n",
              "    <tr>\n",
              "      <th>3</th>\n",
              "      <td>6</td>\n",
              "      <td>0</td>\n",
              "      <td>4</td>\n",
              "      <td>1</td>\n",
              "      <td>3</td>\n",
              "      <td>0</td>\n",
              "      <td>3</td>\n",
              "      <td>1</td>\n",
              "      <td>2</td>\n",
              "      <td>0</td>\n",
              "      <td>1</td>\n",
              "      <td>0</td>\n",
              "      <td>0</td>\n",
              "      <td>0</td>\n",
              "      <td>0</td>\n",
              "      <td>0</td>\n",
              "      <td>0</td>\n",
              "      <td>0</td>\n",
              "      <td>0</td>\n",
              "      <td>0</td>\n",
              "      <td>2</td>\n",
              "      <td>0</td>\n",
              "      <td>0</td>\n",
              "      <td>0</td>\n",
              "      <td>0</td>\n",
              "      <td>0</td>\n",
              "      <td>0</td>\n",
              "      <td>0</td>\n",
              "      <td>0</td>\n",
              "      <td>0</td>\n",
              "      <td>0</td>\n",
              "      <td>0</td>\n",
              "      <td>0</td>\n",
              "      <td>0</td>\n",
              "      <td>23</td>\n",
              "    </tr>\n",
              "    <tr>\n",
              "      <th>4</th>\n",
              "      <td>3</td>\n",
              "      <td>0</td>\n",
              "      <td>1</td>\n",
              "      <td>0</td>\n",
              "      <td>0</td>\n",
              "      <td>0</td>\n",
              "      <td>2</td>\n",
              "      <td>0</td>\n",
              "      <td>1</td>\n",
              "      <td>0</td>\n",
              "      <td>0</td>\n",
              "      <td>0</td>\n",
              "      <td>0</td>\n",
              "      <td>0</td>\n",
              "      <td>1</td>\n",
              "      <td>0</td>\n",
              "      <td>0</td>\n",
              "      <td>0</td>\n",
              "      <td>0</td>\n",
              "      <td>0</td>\n",
              "      <td>0</td>\n",
              "      <td>0</td>\n",
              "      <td>0</td>\n",
              "      <td>0</td>\n",
              "      <td>0</td>\n",
              "      <td>0</td>\n",
              "      <td>0</td>\n",
              "      <td>0</td>\n",
              "      <td>0</td>\n",
              "      <td>0</td>\n",
              "      <td>0</td>\n",
              "      <td>0</td>\n",
              "      <td>0</td>\n",
              "      <td>0</td>\n",
              "      <td>8</td>\n",
              "    </tr>\n",
              "    <tr>\n",
              "      <th>All</th>\n",
              "      <td>115</td>\n",
              "      <td>3</td>\n",
              "      <td>65</td>\n",
              "      <td>8</td>\n",
              "      <td>53</td>\n",
              "      <td>5</td>\n",
              "      <td>31</td>\n",
              "      <td>7</td>\n",
              "      <td>22</td>\n",
              "      <td>3</td>\n",
              "      <td>17</td>\n",
              "      <td>3</td>\n",
              "      <td>12</td>\n",
              "      <td>3</td>\n",
              "      <td>12</td>\n",
              "      <td>3</td>\n",
              "      <td>7</td>\n",
              "      <td>1</td>\n",
              "      <td>5</td>\n",
              "      <td>1</td>\n",
              "      <td>4</td>\n",
              "      <td>1</td>\n",
              "      <td>3</td>\n",
              "      <td>1</td>\n",
              "      <td>1</td>\n",
              "      <td>1</td>\n",
              "      <td>1</td>\n",
              "      <td>1</td>\n",
              "      <td>1</td>\n",
              "      <td>1</td>\n",
              "      <td>1</td>\n",
              "      <td>1</td>\n",
              "      <td>1</td>\n",
              "      <td>1</td>\n",
              "      <td>395</td>\n",
              "    </tr>\n",
              "  </tbody>\n",
              "</table>\n",
              "</div>"
            ],
            "text/plain": [
              "absences      0  1   2  3   4  5   6  7  ...  28  30  38  40  54  56  75  All\n",
              "traveltime                               ...                                 \n",
              "1            74  2  40  5  37  4  16  5  ...   1   0   0   1   1   1   0  257\n",
              "2            32  1  20  2  13  1  10  1  ...   0   1   1   0   0   0   1  107\n",
              "3             6  0   4  1   3  0   3  1  ...   0   0   0   0   0   0   0   23\n",
              "4             3  0   1  0   0  0   2  0  ...   0   0   0   0   0   0   0    8\n",
              "All         115  3  65  8  53  5  31  7  ...   1   1   1   1   1   1   1  395\n",
              "\n",
              "[5 rows x 35 columns]"
            ]
          },
          "metadata": {
            "tags": []
          },
          "execution_count": 7
        }
      ]
    },
    {
      "cell_type": "code",
      "metadata": {
        "id": "7_DKUClwq_HF",
        "colab_type": "code",
        "outputId": "e5c36932-ddd6-4a69-fa60-1a6696c0882c",
        "colab": {
          "base_uri": "https://localhost:8080/",
          "height": 214
        }
      },
      "source": [
        "#Making an expeted value table corresponding to observed values\n",
        "observed = observed.values\n",
        "observed"
      ],
      "execution_count": 0,
      "outputs": [
        {
          "output_type": "execute_result",
          "data": {
            "text/plain": [
              "array([[74,  2, 40,  5, 37,  4, 16,  5, 13,  3, 12,  3,  9,  2,  8,  3,\n",
              "         6,  1,  4,  1,  2,  1,  1,  1,  0,  0,  0,  1,  0,  0,  1,  1,\n",
              "         1,  0],\n",
              "       [32,  1, 20,  2, 13,  1, 10,  1,  6,  0,  4,  0,  3,  1,  3,  0,\n",
              "         1,  0,  1,  0,  0,  0,  2,  0,  1,  1,  1,  0,  1,  1,  0,  0,\n",
              "         0,  1],\n",
              "       [ 6,  0,  4,  1,  3,  0,  3,  1,  2,  0,  1,  0,  0,  0,  0,  0,\n",
              "         0,  0,  0,  0,  2,  0,  0,  0,  0,  0,  0,  0,  0,  0,  0,  0,\n",
              "         0,  0],\n",
              "       [ 3,  0,  1,  0,  0,  0,  2,  0,  1,  0,  0,  0,  0,  0,  1,  0,\n",
              "         0,  0,  0,  0,  0,  0,  0,  0,  0,  0,  0,  0,  0,  0,  0,  0,\n",
              "         0,  0]])"
            ]
          },
          "metadata": {
            "tags": []
          },
          "execution_count": 8
        }
      ]
    },
    {
      "cell_type": "code",
      "metadata": {
        "id": "NhcsK2I4poGr",
        "colab_type": "code",
        "outputId": "44e0d8c1-a49b-4d61-e51f-2e5f0125e6de",
        "colab": {
          "base_uri": "https://localhost:8080/",
          "height": 66
        }
      },
      "source": [
        "#Expected Value Calculation\n",
        "#First obtain all row totals\n",
        "row_totals = df['traveltime'].value_counts().sort_index().values\n",
        "#column totals\n",
        "col_totals = df['absences'].value_counts().sort_index().values\n",
        "print(row_totals)\n",
        "print(col_totals)"
      ],
      "execution_count": 0,
      "outputs": [
        {
          "output_type": "stream",
          "text": [
            "[257 107  23   8]\n",
            "[115   3  65   8  53   5  31   7  22   3  17   3  12   3  12   3   7   1\n",
            "   5   1   4   1   3   1   1   1   1   1   1   1   1   1   1   1]\n"
          ],
          "name": "stdout"
        }
      ]
    },
    {
      "cell_type": "code",
      "metadata": {
        "id": "MjoOa0o6zB3a",
        "colab_type": "code",
        "colab": {}
      },
      "source": [
        "#sample size = # of rows\n",
        "sample_size = df.shape[0]"
      ],
      "execution_count": 0,
      "outputs": []
    },
    {
      "cell_type": "code",
      "metadata": {
        "id": "28i9kp3RzNme",
        "colab_type": "code",
        "outputId": "9f6b56d0-a25d-4a1a-cbd4-9da4214e4875",
        "colab": {
          "base_uri": "https://localhost:8080/",
          "height": 627
        }
      },
      "source": [
        "expected = []\n",
        "total = 395\n",
        "for i in range(len(row_totals)):\n",
        "  expected_row = []\n",
        "  for column in col_totals:\n",
        "    expected_val = column * row_totals[i]/total\n",
        "    expected_row.append(expected_val)\n",
        "  expected.append(expected_row)\n",
        "expected = np.array(expected)\n",
        "\n",
        "\n",
        "print(expected.shape)\n",
        "print(expected)"
      ],
      "execution_count": 0,
      "outputs": [
        {
          "output_type": "stream",
          "text": [
            "(4, 34)\n",
            "[[7.48227848e+01 1.95189873e+00 4.22911392e+01 5.20506329e+00\n",
            "  3.44835443e+01 3.25316456e+00 2.01696203e+01 4.55443038e+00\n",
            "  1.43139241e+01 1.95189873e+00 1.10607595e+01 1.95189873e+00\n",
            "  7.80759494e+00 1.95189873e+00 7.80759494e+00 1.95189873e+00\n",
            "  4.55443038e+00 6.50632911e-01 3.25316456e+00 6.50632911e-01\n",
            "  2.60253165e+00 6.50632911e-01 1.95189873e+00 6.50632911e-01\n",
            "  6.50632911e-01 6.50632911e-01 6.50632911e-01 6.50632911e-01\n",
            "  6.50632911e-01 6.50632911e-01 6.50632911e-01 6.50632911e-01\n",
            "  6.50632911e-01 6.50632911e-01]\n",
            " [3.11518987e+01 8.12658228e-01 1.76075949e+01 2.16708861e+00\n",
            "  1.43569620e+01 1.35443038e+00 8.39746835e+00 1.89620253e+00\n",
            "  5.95949367e+00 8.12658228e-01 4.60506329e+00 8.12658228e-01\n",
            "  3.25063291e+00 8.12658228e-01 3.25063291e+00 8.12658228e-01\n",
            "  1.89620253e+00 2.70886076e-01 1.35443038e+00 2.70886076e-01\n",
            "  1.08354430e+00 2.70886076e-01 8.12658228e-01 2.70886076e-01\n",
            "  2.70886076e-01 2.70886076e-01 2.70886076e-01 2.70886076e-01\n",
            "  2.70886076e-01 2.70886076e-01 2.70886076e-01 2.70886076e-01\n",
            "  2.70886076e-01 2.70886076e-01]\n",
            " [6.69620253e+00 1.74683544e-01 3.78481013e+00 4.65822785e-01\n",
            "  3.08607595e+00 2.91139241e-01 1.80506329e+00 4.07594937e-01\n",
            "  1.28101266e+00 1.74683544e-01 9.89873418e-01 1.74683544e-01\n",
            "  6.98734177e-01 1.74683544e-01 6.98734177e-01 1.74683544e-01\n",
            "  4.07594937e-01 5.82278481e-02 2.91139241e-01 5.82278481e-02\n",
            "  2.32911392e-01 5.82278481e-02 1.74683544e-01 5.82278481e-02\n",
            "  5.82278481e-02 5.82278481e-02 5.82278481e-02 5.82278481e-02\n",
            "  5.82278481e-02 5.82278481e-02 5.82278481e-02 5.82278481e-02\n",
            "  5.82278481e-02 5.82278481e-02]\n",
            " [2.32911392e+00 6.07594937e-02 1.31645570e+00 1.62025316e-01\n",
            "  1.07341772e+00 1.01265823e-01 6.27848101e-01 1.41772152e-01\n",
            "  4.45569620e-01 6.07594937e-02 3.44303797e-01 6.07594937e-02\n",
            "  2.43037975e-01 6.07594937e-02 2.43037975e-01 6.07594937e-02\n",
            "  1.41772152e-01 2.02531646e-02 1.01265823e-01 2.02531646e-02\n",
            "  8.10126582e-02 2.02531646e-02 6.07594937e-02 2.02531646e-02\n",
            "  2.02531646e-02 2.02531646e-02 2.02531646e-02 2.02531646e-02\n",
            "  2.02531646e-02 2.02531646e-02 2.02531646e-02 2.02531646e-02\n",
            "  2.02531646e-02 2.02531646e-02]]\n"
          ],
          "name": "stdout"
        }
      ]
    },
    {
      "cell_type": "code",
      "metadata": {
        "id": "pREd-DiN3SOe",
        "colab_type": "code",
        "outputId": "def4ab07-6924-4546-d7ce-adce458edd21",
        "colab": {
          "base_uri": "https://localhost:8080/",
          "height": 148
        }
      },
      "source": [
        "print(observed)"
      ],
      "execution_count": 0,
      "outputs": [
        {
          "output_type": "stream",
          "text": [
            "[[74  2 40  5 37  4 16  5 13  3 12  3  9  2  8  3  6  1  4  1  2  1  1  1\n",
            "   0  0  0  1  0  0  1  1  1  0]\n",
            " [32  1 20  2 13  1 10  1  6  0  4  0  3  1  3  0  1  0  1  0  0  0  2  0\n",
            "   1  1  1  0  1  1  0  0  0  1]\n",
            " [ 6  0  4  1  3  0  3  1  2  0  1  0  0  0  0  0  0  0  0  0  2  0  0  0\n",
            "   0  0  0  0  0  0  0  0  0  0]\n",
            " [ 3  0  1  0  0  0  2  0  1  0  0  0  0  0  1  0  0  0  0  0  0  0  0  0\n",
            "   0  0  0  0  0  0  0  0  0  0]]\n"
          ],
          "name": "stdout"
        }
      ]
    },
    {
      "cell_type": "code",
      "metadata": {
        "id": "tm-sE9vL3dLX",
        "colab_type": "code",
        "outputId": "990012df-1dd9-47ed-d12d-3f583f667a58",
        "colab": {
          "base_uri": "https://localhost:8080/",
          "height": 33
        }
      },
      "source": [
        "#compute chi^2 static\n",
        "((observed - expected)**2/expected).sum()"
      ],
      "execution_count": 0,
      "outputs": [
        {
          "output_type": "execute_result",
          "data": {
            "text/plain": [
              "61.11558335253091"
            ]
          },
          "metadata": {
            "tags": []
          },
          "execution_count": 13
        }
      ]
    },
    {
      "cell_type": "code",
      "metadata": {
        "id": "wEWLFvuP-UWA",
        "colab_type": "code",
        "outputId": "ded60689-dda5-48fa-8e6d-ca5bfe796d6a",
        "colab": {
          "base_uri": "https://localhost:8080/",
          "height": 33
        }
      },
      "source": [
        "observed.shape"
      ],
      "execution_count": 0,
      "outputs": [
        {
          "output_type": "execute_result",
          "data": {
            "text/plain": [
              "(4, 34)"
            ]
          },
          "metadata": {
            "tags": []
          },
          "execution_count": 20
        }
      ]
    },
    {
      "cell_type": "code",
      "metadata": {
        "id": "j6a97COv6YJm",
        "colab_type": "code",
        "outputId": "3e03372c-44f4-4534-cd7d-611d0d02e3c0",
        "colab": {
          "base_uri": "https://localhost:8080/",
          "height": 33
        }
      },
      "source": [
        "#degrees of freedom\n",
        "#2-sample (test for independence), DOF = (# rows_crosstab-1)*(# cols_crosstab-1)\n",
        "\n",
        "dof = (4-1)*(34-1)\n",
        "print(dof)"
      ],
      "execution_count": 0,
      "outputs": [
        {
          "output_type": "stream",
          "text": [
            "99\n"
          ],
          "name": "stdout"
        }
      ]
    },
    {
      "cell_type": "code",
      "metadata": {
        "id": "1YE4VoWE35BX",
        "colab_type": "code",
        "outputId": "fc0940a7-33cf-4d1c-db55-78eeac497eb6",
        "colab": {
          "base_uri": "https://localhost:8080/",
          "height": 660
        }
      },
      "source": [
        "#verify chi static w/ scipy\n",
        "#SciPy confirms calculated value of 61.115\n",
        "contingency2 = pd.crosstab(df['traveltime'],df['absences'])\n",
        "chi2, p_value, dof, expected = stats.chi2_contingency(contingency2)\n",
        "chi2, p_value, dof, expected = stats.chi2_contingency(contingency2)\n",
        "print(\"chi2 statistic\", chi2)\n",
        "print(\"p value\", p_value)\n",
        "print(\"degrees of freedom\",dof)\n",
        "print(\"expected frequencies table\", expected)\n"
      ],
      "execution_count": 0,
      "outputs": [
        {
          "output_type": "stream",
          "text": [
            "chi2 statistic 61.11558335253091\n",
            "p value 0.9990069240658936\n",
            "degrees of freedom 99\n",
            "expected frequencies table [[7.48227848e+01 1.95189873e+00 4.22911392e+01 5.20506329e+00\n",
            "  3.44835443e+01 3.25316456e+00 2.01696203e+01 4.55443038e+00\n",
            "  1.43139241e+01 1.95189873e+00 1.10607595e+01 1.95189873e+00\n",
            "  7.80759494e+00 1.95189873e+00 7.80759494e+00 1.95189873e+00\n",
            "  4.55443038e+00 6.50632911e-01 3.25316456e+00 6.50632911e-01\n",
            "  2.60253165e+00 6.50632911e-01 1.95189873e+00 6.50632911e-01\n",
            "  6.50632911e-01 6.50632911e-01 6.50632911e-01 6.50632911e-01\n",
            "  6.50632911e-01 6.50632911e-01 6.50632911e-01 6.50632911e-01\n",
            "  6.50632911e-01 6.50632911e-01]\n",
            " [3.11518987e+01 8.12658228e-01 1.76075949e+01 2.16708861e+00\n",
            "  1.43569620e+01 1.35443038e+00 8.39746835e+00 1.89620253e+00\n",
            "  5.95949367e+00 8.12658228e-01 4.60506329e+00 8.12658228e-01\n",
            "  3.25063291e+00 8.12658228e-01 3.25063291e+00 8.12658228e-01\n",
            "  1.89620253e+00 2.70886076e-01 1.35443038e+00 2.70886076e-01\n",
            "  1.08354430e+00 2.70886076e-01 8.12658228e-01 2.70886076e-01\n",
            "  2.70886076e-01 2.70886076e-01 2.70886076e-01 2.70886076e-01\n",
            "  2.70886076e-01 2.70886076e-01 2.70886076e-01 2.70886076e-01\n",
            "  2.70886076e-01 2.70886076e-01]\n",
            " [6.69620253e+00 1.74683544e-01 3.78481013e+00 4.65822785e-01\n",
            "  3.08607595e+00 2.91139241e-01 1.80506329e+00 4.07594937e-01\n",
            "  1.28101266e+00 1.74683544e-01 9.89873418e-01 1.74683544e-01\n",
            "  6.98734177e-01 1.74683544e-01 6.98734177e-01 1.74683544e-01\n",
            "  4.07594937e-01 5.82278481e-02 2.91139241e-01 5.82278481e-02\n",
            "  2.32911392e-01 5.82278481e-02 1.74683544e-01 5.82278481e-02\n",
            "  5.82278481e-02 5.82278481e-02 5.82278481e-02 5.82278481e-02\n",
            "  5.82278481e-02 5.82278481e-02 5.82278481e-02 5.82278481e-02\n",
            "  5.82278481e-02 5.82278481e-02]\n",
            " [2.32911392e+00 6.07594937e-02 1.31645570e+00 1.62025316e-01\n",
            "  1.07341772e+00 1.01265823e-01 6.27848101e-01 1.41772152e-01\n",
            "  4.45569620e-01 6.07594937e-02 3.44303797e-01 6.07594937e-02\n",
            "  2.43037975e-01 6.07594937e-02 2.43037975e-01 6.07594937e-02\n",
            "  1.41772152e-01 2.02531646e-02 1.01265823e-01 2.02531646e-02\n",
            "  8.10126582e-02 2.02531646e-02 6.07594937e-02 2.02531646e-02\n",
            "  2.02531646e-02 2.02531646e-02 2.02531646e-02 2.02531646e-02\n",
            "  2.02531646e-02 2.02531646e-02 2.02531646e-02 2.02531646e-02\n",
            "  2.02531646e-02 2.02531646e-02]]\n"
          ],
          "name": "stdout"
        }
      ]
    },
    {
      "cell_type": "code",
      "metadata": {
        "id": "Xyg-VPzK-rnT",
        "colab_type": "code",
        "colab": {}
      },
      "source": [
        "#using https://homepage.divms.uiowa.edu/~mbognar/applets/chisq.html compute p value\n",
        "#right tail probability is(p-value) is .999\n"
      ],
      "execution_count": 0,
      "outputs": []
    },
    {
      "cell_type": "markdown",
      "metadata": {
        "id": "a2BrKHq8m8AS",
        "colab_type": "text"
      },
      "source": [
        "## Stretch goals:\n",
        "\n",
        "### 1. Refactor your code so it is elegant, readable, and holds reusable code in functions."
      ]
    },
    {
      "cell_type": "code",
      "metadata": {
        "id": "AntnuAkFm-JQ",
        "colab_type": "code",
        "outputId": "a5bbc86c-628b-46d0-97c0-08de68d391c2",
        "colab": {
          "base_uri": "https://localhost:8080/",
          "height": 33
        }
      },
      "source": [
        "# YOUR WORK HERE\n"
      ],
      "execution_count": 0,
      "outputs": [
        {
          "output_type": "execute_result",
          "data": {
            "text/plain": [
              "(4, 34)"
            ]
          },
          "metadata": {
            "tags": []
          },
          "execution_count": 19
        }
      ]
    },
    {
      "cell_type": "markdown",
      "metadata": {
        "id": "4ohsJhQUmEuS",
        "colab_type": "text"
      },
      "source": [
        "\n",
        "\n",
        "### 2. Check For Understanding - Study and write your own explanations/definitions for these topics:\n",
        "\n",
        "- What is a sample \"estimate\" in statistics?\n",
        "\n",
        "- What are hypothesis test? How are they useful?\n",
        "\n",
        "- What is a \"null hypothesis?\"\n",
        "\n",
        "- What is a p-value and what does it represent?\n",
        "\n",
        "- What does it mean for something to be \"statistically significant?\"\n",
        "\n",
        "- What is a test statistic and how does it relate to a p-value?\n",
        "\n",
        "- What are \"degrees of freedom\" and how are they calculated in a 1-sample, 2-sample, and chi^2 test for independence?"
      ]
    },
    {
      "cell_type": "markdown",
      "metadata": {
        "id": "nyJ3ySr7R2k9",
        "colab_type": "text"
      },
      "source": [
        "## Resources\n",
        "\n",
        "- [Interactive visualize the Chi-Squared test](https://homepage.divms.uiowa.edu/~mbognar/applets/chisq.html)\n",
        "- [Calculation of Chi-Squared test statistic](https://en.wikipedia.org/wiki/Pearson%27s_chi-squared_test)\n",
        "- [Visualization of a confidence interval generated by R code](https://commons.wikimedia.org/wiki/File:Confidence-interval.svg)\n",
        "- [Expected value of a squared standard normal](https://math.stackexchange.com/questions/264061/expected-value-calculation-for-squared-normal-distribution) (it's 1 - which is why the expected value of a Chi-Squared with $n$ degrees of freedom is $n$, as it's the sum of $n$ squared standard normals)"
      ]
    }
  ]
}