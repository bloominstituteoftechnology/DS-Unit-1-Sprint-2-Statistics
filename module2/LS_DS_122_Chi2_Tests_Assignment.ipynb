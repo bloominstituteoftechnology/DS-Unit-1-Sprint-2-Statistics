{
  "nbformat": 4,
  "nbformat_minor": 0,
  "metadata": {
    "colab": {
      "name": "LS_DS_122_Chi2_Tests_Assignment.ipynb",
      "provenance": [],
      "collapsed_sections": [],
      "include_colab_link": true
    },
    "kernelspec": {
      "name": "python3",
      "display_name": "Python 3"
    }
  },
  "cells": [
    {
      "cell_type": "markdown",
      "metadata": {
        "id": "view-in-github",
        "colab_type": "text"
      },
      "source": [
        "<a href=\"https://colab.research.google.com/github/Tristan-Brown1096/DS-Unit-1-Sprint-2-Statistics/blob/master/module2/LS_DS_122_Chi2_Tests_Assignment.ipynb\" target=\"_parent\"><img src=\"https://colab.research.google.com/assets/colab-badge.svg\" alt=\"Open In Colab\"/></a>"
      ]
    },
    {
      "cell_type": "markdown",
      "metadata": {
        "id": "11OzdxWTM7UR",
        "colab_type": "text"
      },
      "source": [
        "## Assignment - Practice Chi^2 Tests\n",
        "\n",
        "Use the following dataset relating to math scores of students in two different Portugese schools:\n",
        "\n",
        "<https://archive.ics.uci.edu/ml/datasets/Student+Performance>\n",
        "\n",
        "### 1) Load the dataset specifically relating to math scores as a new dataframe.\n",
        "\n",
        "There are two datasets in the `student.zip` file, make sure you use `student-mat.csv`.\n"
      ]
    },
    {
      "cell_type": "code",
      "metadata": {
        "id": "UQwvrhn7m3Mn",
        "colab_type": "code",
        "colab": {
          "base_uri": "https://localhost:8080/",
          "height": 496
        },
        "outputId": "67cc92b5-a609-4899-a862-525774fdd42b"
      },
      "source": [
        "# YOUR WORK HERE\n",
        "#importing important libraries\n",
        "import pandas as pd\n",
        "import numpy as np\n",
        "from scipy import stats\n",
        "\n",
        "#obtaining dataset\n",
        "!wget https://archive.ics.uci.edu/ml/machine-learning-databases/00320/student.zip\n",
        "!unzip student.zip\n",
        "\n",
        "#creating dataframe\n",
        "df = pd.read_csv('student-mat.csv', sep=';')\n",
        "df.head()"
      ],
      "execution_count": 1,
      "outputs": [
        {
          "output_type": "stream",
          "text": [
            "--2020-07-14 18:45:43--  https://archive.ics.uci.edu/ml/machine-learning-databases/00320/student.zip\n",
            "Resolving archive.ics.uci.edu (archive.ics.uci.edu)... 128.195.10.252\n",
            "Connecting to archive.ics.uci.edu (archive.ics.uci.edu)|128.195.10.252|:443... connected.\n",
            "HTTP request sent, awaiting response... 200 OK\n",
            "Length: 20478 (20K) [application/x-httpd-php]\n",
            "Saving to: ‘student.zip’\n",
            "\n",
            "student.zip         100%[===================>]  20.00K  --.-KB/s    in 0.1s    \n",
            "\n",
            "2020-07-14 18:45:44 (145 KB/s) - ‘student.zip’ saved [20478/20478]\n",
            "\n",
            "Archive:  student.zip\n",
            "  inflating: student-mat.csv         \n",
            "  inflating: student-por.csv         \n",
            "  inflating: student-merge.R         \n",
            "  inflating: student.txt             \n"
          ],
          "name": "stdout"
        },
        {
          "output_type": "execute_result",
          "data": {
            "text/html": [
              "<div>\n",
              "<style scoped>\n",
              "    .dataframe tbody tr th:only-of-type {\n",
              "        vertical-align: middle;\n",
              "    }\n",
              "\n",
              "    .dataframe tbody tr th {\n",
              "        vertical-align: top;\n",
              "    }\n",
              "\n",
              "    .dataframe thead th {\n",
              "        text-align: right;\n",
              "    }\n",
              "</style>\n",
              "<table border=\"1\" class=\"dataframe\">\n",
              "  <thead>\n",
              "    <tr style=\"text-align: right;\">\n",
              "      <th></th>\n",
              "      <th>school</th>\n",
              "      <th>sex</th>\n",
              "      <th>age</th>\n",
              "      <th>address</th>\n",
              "      <th>famsize</th>\n",
              "      <th>Pstatus</th>\n",
              "      <th>Medu</th>\n",
              "      <th>Fedu</th>\n",
              "      <th>Mjob</th>\n",
              "      <th>Fjob</th>\n",
              "      <th>reason</th>\n",
              "      <th>guardian</th>\n",
              "      <th>traveltime</th>\n",
              "      <th>studytime</th>\n",
              "      <th>failures</th>\n",
              "      <th>schoolsup</th>\n",
              "      <th>famsup</th>\n",
              "      <th>paid</th>\n",
              "      <th>activities</th>\n",
              "      <th>nursery</th>\n",
              "      <th>higher</th>\n",
              "      <th>internet</th>\n",
              "      <th>romantic</th>\n",
              "      <th>famrel</th>\n",
              "      <th>freetime</th>\n",
              "      <th>goout</th>\n",
              "      <th>Dalc</th>\n",
              "      <th>Walc</th>\n",
              "      <th>health</th>\n",
              "      <th>absences</th>\n",
              "      <th>G1</th>\n",
              "      <th>G2</th>\n",
              "      <th>G3</th>\n",
              "    </tr>\n",
              "  </thead>\n",
              "  <tbody>\n",
              "    <tr>\n",
              "      <th>0</th>\n",
              "      <td>GP</td>\n",
              "      <td>F</td>\n",
              "      <td>18</td>\n",
              "      <td>U</td>\n",
              "      <td>GT3</td>\n",
              "      <td>A</td>\n",
              "      <td>4</td>\n",
              "      <td>4</td>\n",
              "      <td>at_home</td>\n",
              "      <td>teacher</td>\n",
              "      <td>course</td>\n",
              "      <td>mother</td>\n",
              "      <td>2</td>\n",
              "      <td>2</td>\n",
              "      <td>0</td>\n",
              "      <td>yes</td>\n",
              "      <td>no</td>\n",
              "      <td>no</td>\n",
              "      <td>no</td>\n",
              "      <td>yes</td>\n",
              "      <td>yes</td>\n",
              "      <td>no</td>\n",
              "      <td>no</td>\n",
              "      <td>4</td>\n",
              "      <td>3</td>\n",
              "      <td>4</td>\n",
              "      <td>1</td>\n",
              "      <td>1</td>\n",
              "      <td>3</td>\n",
              "      <td>6</td>\n",
              "      <td>5</td>\n",
              "      <td>6</td>\n",
              "      <td>6</td>\n",
              "    </tr>\n",
              "    <tr>\n",
              "      <th>1</th>\n",
              "      <td>GP</td>\n",
              "      <td>F</td>\n",
              "      <td>17</td>\n",
              "      <td>U</td>\n",
              "      <td>GT3</td>\n",
              "      <td>T</td>\n",
              "      <td>1</td>\n",
              "      <td>1</td>\n",
              "      <td>at_home</td>\n",
              "      <td>other</td>\n",
              "      <td>course</td>\n",
              "      <td>father</td>\n",
              "      <td>1</td>\n",
              "      <td>2</td>\n",
              "      <td>0</td>\n",
              "      <td>no</td>\n",
              "      <td>yes</td>\n",
              "      <td>no</td>\n",
              "      <td>no</td>\n",
              "      <td>no</td>\n",
              "      <td>yes</td>\n",
              "      <td>yes</td>\n",
              "      <td>no</td>\n",
              "      <td>5</td>\n",
              "      <td>3</td>\n",
              "      <td>3</td>\n",
              "      <td>1</td>\n",
              "      <td>1</td>\n",
              "      <td>3</td>\n",
              "      <td>4</td>\n",
              "      <td>5</td>\n",
              "      <td>5</td>\n",
              "      <td>6</td>\n",
              "    </tr>\n",
              "    <tr>\n",
              "      <th>2</th>\n",
              "      <td>GP</td>\n",
              "      <td>F</td>\n",
              "      <td>15</td>\n",
              "      <td>U</td>\n",
              "      <td>LE3</td>\n",
              "      <td>T</td>\n",
              "      <td>1</td>\n",
              "      <td>1</td>\n",
              "      <td>at_home</td>\n",
              "      <td>other</td>\n",
              "      <td>other</td>\n",
              "      <td>mother</td>\n",
              "      <td>1</td>\n",
              "      <td>2</td>\n",
              "      <td>3</td>\n",
              "      <td>yes</td>\n",
              "      <td>no</td>\n",
              "      <td>yes</td>\n",
              "      <td>no</td>\n",
              "      <td>yes</td>\n",
              "      <td>yes</td>\n",
              "      <td>yes</td>\n",
              "      <td>no</td>\n",
              "      <td>4</td>\n",
              "      <td>3</td>\n",
              "      <td>2</td>\n",
              "      <td>2</td>\n",
              "      <td>3</td>\n",
              "      <td>3</td>\n",
              "      <td>10</td>\n",
              "      <td>7</td>\n",
              "      <td>8</td>\n",
              "      <td>10</td>\n",
              "    </tr>\n",
              "    <tr>\n",
              "      <th>3</th>\n",
              "      <td>GP</td>\n",
              "      <td>F</td>\n",
              "      <td>15</td>\n",
              "      <td>U</td>\n",
              "      <td>GT3</td>\n",
              "      <td>T</td>\n",
              "      <td>4</td>\n",
              "      <td>2</td>\n",
              "      <td>health</td>\n",
              "      <td>services</td>\n",
              "      <td>home</td>\n",
              "      <td>mother</td>\n",
              "      <td>1</td>\n",
              "      <td>3</td>\n",
              "      <td>0</td>\n",
              "      <td>no</td>\n",
              "      <td>yes</td>\n",
              "      <td>yes</td>\n",
              "      <td>yes</td>\n",
              "      <td>yes</td>\n",
              "      <td>yes</td>\n",
              "      <td>yes</td>\n",
              "      <td>yes</td>\n",
              "      <td>3</td>\n",
              "      <td>2</td>\n",
              "      <td>2</td>\n",
              "      <td>1</td>\n",
              "      <td>1</td>\n",
              "      <td>5</td>\n",
              "      <td>2</td>\n",
              "      <td>15</td>\n",
              "      <td>14</td>\n",
              "      <td>15</td>\n",
              "    </tr>\n",
              "    <tr>\n",
              "      <th>4</th>\n",
              "      <td>GP</td>\n",
              "      <td>F</td>\n",
              "      <td>16</td>\n",
              "      <td>U</td>\n",
              "      <td>GT3</td>\n",
              "      <td>T</td>\n",
              "      <td>3</td>\n",
              "      <td>3</td>\n",
              "      <td>other</td>\n",
              "      <td>other</td>\n",
              "      <td>home</td>\n",
              "      <td>father</td>\n",
              "      <td>1</td>\n",
              "      <td>2</td>\n",
              "      <td>0</td>\n",
              "      <td>no</td>\n",
              "      <td>yes</td>\n",
              "      <td>yes</td>\n",
              "      <td>no</td>\n",
              "      <td>yes</td>\n",
              "      <td>yes</td>\n",
              "      <td>no</td>\n",
              "      <td>no</td>\n",
              "      <td>4</td>\n",
              "      <td>3</td>\n",
              "      <td>2</td>\n",
              "      <td>1</td>\n",
              "      <td>2</td>\n",
              "      <td>5</td>\n",
              "      <td>4</td>\n",
              "      <td>6</td>\n",
              "      <td>10</td>\n",
              "      <td>10</td>\n",
              "    </tr>\n",
              "  </tbody>\n",
              "</table>\n",
              "</div>"
            ],
            "text/plain": [
              "  school sex  age address famsize Pstatus  ...  Walc  health absences  G1  G2  G3\n",
              "0     GP   F   18       U     GT3       A  ...     1       3        6   5   6   6\n",
              "1     GP   F   17       U     GT3       T  ...     1       3        4   5   5   6\n",
              "2     GP   F   15       U     LE3       T  ...     3       3       10   7   8  10\n",
              "3     GP   F   15       U     GT3       T  ...     1       5        2  15  14  15\n",
              "4     GP   F   16       U     GT3       T  ...     2       5        4   6  10  10\n",
              "\n",
              "[5 rows x 33 columns]"
            ]
          },
          "metadata": {
            "tags": []
          },
          "execution_count": 1
        }
      ]
    },
    {
      "cell_type": "markdown",
      "metadata": {
        "id": "RXPZZuAi3ccI",
        "colab_type": "text"
      },
      "source": [
        "### 2) Use Chi^2 tests and `stats.chi2_contingency()` to identify:\n",
        " - Two pairs of variables that are dependent (are associated with one another).\n",
        " - Two pairs of variables that are independent (have no significant relationship).\n",
        "\n",
        "Does it make intuitive sense why the variables in these pairs might or might not show a relationship to one another? \n"
      ]
    },
    {
      "cell_type": "code",
      "metadata": {
        "id": "Ckcr4A4FM7cs",
        "colab_type": "code",
        "colab": {}
      },
      "source": [
        "# YOUR WORK HERE\n",
        "#creating contingency tables\n",
        "contingency_1 = pd.crosstab(df['romantic'], df['nursery'])\n",
        "contingency_2 = pd.crosstab(df['traveltime'], df['reason'])\n",
        "contingency_3 = pd.crosstab(df['freetime'], df['goout'])\n",
        "contingency_4 = pd.crosstab(df['address'], df['internet'])"
      ],
      "execution_count": 12,
      "outputs": []
    },
    {
      "cell_type": "markdown",
      "metadata": {
        "id": "DW5Bl2Ftql1Q",
        "colab_type": "text"
      },
      "source": [
        "## $X^2$ Test 1\n",
        "\n",
        "1) Null Hypothesis:\n",
        "\n",
        "Having a romantic relationship and attending nursery school are independent of each other\n",
        "\n",
        "2) Alternative Hypothesis:\n",
        "\n",
        "Having a romantic relationship and attending nursery school have a dependent relationship\n",
        "\n",
        "3) Confidence Level: 95%"
      ]
    },
    {
      "cell_type": "code",
      "metadata": {
        "id": "UEGi8n7zrdUc",
        "colab_type": "code",
        "colab": {
          "base_uri": "https://localhost:8080/",
          "height": 142
        },
        "outputId": "6a082b5b-93e0-4625-9fde-4beee93b195e"
      },
      "source": [
        "#printing 1st contingency table\n",
        "contingency_1"
      ],
      "execution_count": 13,
      "outputs": [
        {
          "output_type": "execute_result",
          "data": {
            "text/html": [
              "<div>\n",
              "<style scoped>\n",
              "    .dataframe tbody tr th:only-of-type {\n",
              "        vertical-align: middle;\n",
              "    }\n",
              "\n",
              "    .dataframe tbody tr th {\n",
              "        vertical-align: top;\n",
              "    }\n",
              "\n",
              "    .dataframe thead th {\n",
              "        text-align: right;\n",
              "    }\n",
              "</style>\n",
              "<table border=\"1\" class=\"dataframe\">\n",
              "  <thead>\n",
              "    <tr style=\"text-align: right;\">\n",
              "      <th>nursery</th>\n",
              "      <th>no</th>\n",
              "      <th>yes</th>\n",
              "    </tr>\n",
              "    <tr>\n",
              "      <th>romantic</th>\n",
              "      <th></th>\n",
              "      <th></th>\n",
              "    </tr>\n",
              "  </thead>\n",
              "  <tbody>\n",
              "    <tr>\n",
              "      <th>no</th>\n",
              "      <td>56</td>\n",
              "      <td>207</td>\n",
              "    </tr>\n",
              "    <tr>\n",
              "      <th>yes</th>\n",
              "      <td>25</td>\n",
              "      <td>107</td>\n",
              "    </tr>\n",
              "  </tbody>\n",
              "</table>\n",
              "</div>"
            ],
            "text/plain": [
              "nursery   no  yes\n",
              "romantic         \n",
              "no        56  207\n",
              "yes       25  107"
            ]
          },
          "metadata": {
            "tags": []
          },
          "execution_count": 13
        }
      ]
    },
    {
      "cell_type": "code",
      "metadata": {
        "id": "E77jebcwrEAB",
        "colab_type": "code",
        "colab": {
          "base_uri": "https://localhost:8080/",
          "height": 119
        },
        "outputId": "6d0d9e66-480d-4bfe-f953-9dcb4bb0e7f8"
      },
      "source": [
        "#performing 1st chi^2 test\n",
        "chi2_1, p1, dof1, ex1 = stats.chi2_contingency(contingency_1)\n",
        "print(\"chi2 statistic:\", chi2_1)\n",
        "print(\"p value:\", p1)\n",
        "print(\"degrees of freedom:\",dof1)\n",
        "print(\"expected frequencies table:\\n\", ex1)"
      ],
      "execution_count": 14,
      "outputs": [
        {
          "output_type": "stream",
          "text": [
            "chi2 statistic: 0.1716861929173629\n",
            "p value: 0.6786175620713879\n",
            "degrees of freedom: 1\n",
            "expected frequencies table:\n",
            " [[ 53.93164557 209.06835443]\n",
            " [ 27.06835443 104.93164557]]\n"
          ],
          "name": "stdout"
        }
      ]
    },
    {
      "cell_type": "markdown",
      "metadata": {
        "id": "h6qbQvLSrOP9",
        "colab_type": "text"
      },
      "source": [
        "4) Based on a $X^2$ statistic of 0.17 and a p-value of 0.68, we fail to reject the null hypothesis that the variables are independent"
      ]
    },
    {
      "cell_type": "markdown",
      "metadata": {
        "id": "KCiVSNJMrP76",
        "colab_type": "text"
      },
      "source": [
        "## $X^2$ Test 2\n",
        "\n",
        "1) Null Hypothesis:\n",
        "\n",
        "Travel time and reason for attending the school are independent of each other\n",
        "\n",
        "2) Alternative Hypothesis:\n",
        "\n",
        "Travel time and reason for attending the school have a dependent relationship\n",
        "\n",
        "3) Confidence Level: 95%"
      ]
    },
    {
      "cell_type": "code",
      "metadata": {
        "id": "0VAbe-tgs226",
        "colab_type": "code",
        "colab": {
          "base_uri": "https://localhost:8080/",
          "height": 204
        },
        "outputId": "6f8aae58-bb13-4105-dc3d-7ee3e1c643a4"
      },
      "source": [
        "#printing 2nd contingency table\n",
        "contingency_2"
      ],
      "execution_count": 15,
      "outputs": [
        {
          "output_type": "execute_result",
          "data": {
            "text/html": [
              "<div>\n",
              "<style scoped>\n",
              "    .dataframe tbody tr th:only-of-type {\n",
              "        vertical-align: middle;\n",
              "    }\n",
              "\n",
              "    .dataframe tbody tr th {\n",
              "        vertical-align: top;\n",
              "    }\n",
              "\n",
              "    .dataframe thead th {\n",
              "        text-align: right;\n",
              "    }\n",
              "</style>\n",
              "<table border=\"1\" class=\"dataframe\">\n",
              "  <thead>\n",
              "    <tr style=\"text-align: right;\">\n",
              "      <th>reason</th>\n",
              "      <th>course</th>\n",
              "      <th>home</th>\n",
              "      <th>other</th>\n",
              "      <th>reputation</th>\n",
              "    </tr>\n",
              "    <tr>\n",
              "      <th>traveltime</th>\n",
              "      <th></th>\n",
              "      <th></th>\n",
              "      <th></th>\n",
              "      <th></th>\n",
              "    </tr>\n",
              "  </thead>\n",
              "  <tbody>\n",
              "    <tr>\n",
              "      <th>1</th>\n",
              "      <td>90</td>\n",
              "      <td>77</td>\n",
              "      <td>23</td>\n",
              "      <td>67</td>\n",
              "    </tr>\n",
              "    <tr>\n",
              "      <th>2</th>\n",
              "      <td>37</td>\n",
              "      <td>27</td>\n",
              "      <td>10</td>\n",
              "      <td>33</td>\n",
              "    </tr>\n",
              "    <tr>\n",
              "      <th>3</th>\n",
              "      <td>12</td>\n",
              "      <td>3</td>\n",
              "      <td>3</td>\n",
              "      <td>5</td>\n",
              "    </tr>\n",
              "    <tr>\n",
              "      <th>4</th>\n",
              "      <td>6</td>\n",
              "      <td>2</td>\n",
              "      <td>0</td>\n",
              "      <td>0</td>\n",
              "    </tr>\n",
              "  </tbody>\n",
              "</table>\n",
              "</div>"
            ],
            "text/plain": [
              "reason      course  home  other  reputation\n",
              "traveltime                                 \n",
              "1               90    77     23          67\n",
              "2               37    27     10          33\n",
              "3               12     3      3           5\n",
              "4                6     2      0           0"
            ]
          },
          "metadata": {
            "tags": []
          },
          "execution_count": 15
        }
      ]
    },
    {
      "cell_type": "code",
      "metadata": {
        "id": "YxrZpCuSrQWl",
        "colab_type": "code",
        "colab": {
          "base_uri": "https://localhost:8080/",
          "height": 153
        },
        "outputId": "5d98344e-0adc-4040-97f0-cb7f5a69fdd9"
      },
      "source": [
        "#performing 2nd chi^2 test\n",
        "chi2_2, p2, dof2, ex2 = stats.chi2_contingency(contingency_2)\n",
        "print(\"chi2 statistic:\", chi2_2)\n",
        "print(\"p value:\", p2)\n",
        "print(\"degrees of freedom:\",dof2)\n",
        "print(\"expected frequencies table:\\n\", ex2)"
      ],
      "execution_count": 16,
      "outputs": [
        {
          "output_type": "stream",
          "text": [
            "chi2 statistic: 11.765560860595862\n",
            "p value: 0.22685085821004924\n",
            "degrees of freedom: 9\n",
            "expected frequencies table:\n",
            " [[94.34177215 70.91898734 23.42278481 68.3164557 ]\n",
            " [39.27848101 29.52658228  9.75189873 28.44303797]\n",
            " [ 8.44303797  6.34683544  2.09620253  6.11392405]\n",
            " [ 2.93670886  2.20759494  0.72911392  2.12658228]]\n"
          ],
          "name": "stdout"
        }
      ]
    },
    {
      "cell_type": "markdown",
      "metadata": {
        "id": "0r5htH--sSTj",
        "colab_type": "text"
      },
      "source": [
        "Based on a $X^2$ statistic of 11.77 and a p-value of 0.23, we fail to reject the null hypothesis that the variables are independent."
      ]
    },
    {
      "cell_type": "markdown",
      "metadata": {
        "id": "IZXU5dNQsSQv",
        "colab_type": "text"
      },
      "source": [
        "## $X^2$ Test 3\n",
        "\n",
        "1) Null Hypothesis:\n",
        "\n",
        "The amount of free time a student has and the frequency at which they go out with friends are independent of each other\n",
        "\n",
        "2) Alternative Hypothesis:\n",
        "\n",
        "The amount of free time a student has and the frequency at which they go out with friends have a dependent relationship\n",
        "\n",
        "3) Confidence Level: 95%"
      ]
    },
    {
      "cell_type": "code",
      "metadata": {
        "id": "pQbmPujTs6LM",
        "colab_type": "code",
        "colab": {
          "base_uri": "https://localhost:8080/",
          "height": 235
        },
        "outputId": "457970ff-bddd-4470-9141-fb04f6d84b62"
      },
      "source": [
        "#printing 3rd contingency table\n",
        "contingency_3"
      ],
      "execution_count": 17,
      "outputs": [
        {
          "output_type": "execute_result",
          "data": {
            "text/html": [
              "<div>\n",
              "<style scoped>\n",
              "    .dataframe tbody tr th:only-of-type {\n",
              "        vertical-align: middle;\n",
              "    }\n",
              "\n",
              "    .dataframe tbody tr th {\n",
              "        vertical-align: top;\n",
              "    }\n",
              "\n",
              "    .dataframe thead th {\n",
              "        text-align: right;\n",
              "    }\n",
              "</style>\n",
              "<table border=\"1\" class=\"dataframe\">\n",
              "  <thead>\n",
              "    <tr style=\"text-align: right;\">\n",
              "      <th>goout</th>\n",
              "      <th>1</th>\n",
              "      <th>2</th>\n",
              "      <th>3</th>\n",
              "      <th>4</th>\n",
              "      <th>5</th>\n",
              "    </tr>\n",
              "    <tr>\n",
              "      <th>freetime</th>\n",
              "      <th></th>\n",
              "      <th></th>\n",
              "      <th></th>\n",
              "      <th></th>\n",
              "      <th></th>\n",
              "    </tr>\n",
              "  </thead>\n",
              "  <tbody>\n",
              "    <tr>\n",
              "      <th>1</th>\n",
              "      <td>4</td>\n",
              "      <td>8</td>\n",
              "      <td>5</td>\n",
              "      <td>1</td>\n",
              "      <td>1</td>\n",
              "    </tr>\n",
              "    <tr>\n",
              "      <th>2</th>\n",
              "      <td>5</td>\n",
              "      <td>27</td>\n",
              "      <td>17</td>\n",
              "      <td>11</td>\n",
              "      <td>4</td>\n",
              "    </tr>\n",
              "    <tr>\n",
              "      <th>3</th>\n",
              "      <td>5</td>\n",
              "      <td>41</td>\n",
              "      <td>70</td>\n",
              "      <td>26</td>\n",
              "      <td>15</td>\n",
              "    </tr>\n",
              "    <tr>\n",
              "      <th>4</th>\n",
              "      <td>5</td>\n",
              "      <td>18</td>\n",
              "      <td>34</td>\n",
              "      <td>41</td>\n",
              "      <td>17</td>\n",
              "    </tr>\n",
              "    <tr>\n",
              "      <th>5</th>\n",
              "      <td>4</td>\n",
              "      <td>9</td>\n",
              "      <td>4</td>\n",
              "      <td>7</td>\n",
              "      <td>16</td>\n",
              "    </tr>\n",
              "  </tbody>\n",
              "</table>\n",
              "</div>"
            ],
            "text/plain": [
              "goout     1   2   3   4   5\n",
              "freetime                   \n",
              "1         4   8   5   1   1\n",
              "2         5  27  17  11   4\n",
              "3         5  41  70  26  15\n",
              "4         5  18  34  41  17\n",
              "5         4   9   4   7  16"
            ]
          },
          "metadata": {
            "tags": []
          },
          "execution_count": 17
        }
      ]
    },
    {
      "cell_type": "code",
      "metadata": {
        "id": "8t14TnTAsTuN",
        "colab_type": "code",
        "colab": {
          "base_uri": "https://localhost:8080/",
          "height": 170
        },
        "outputId": "21354b76-d53e-414e-b40a-525b67e348d0"
      },
      "source": [
        "#performing 3rd chi^2 test\n",
        "chi2_3, p3, dof3, ex3 = stats.chi2_contingency(contingency_3)\n",
        "print(\"chi2 statistic:\", chi2_3)\n",
        "print(\"p value:\", p3)\n",
        "print(\"degrees of freedom:\",dof3)\n",
        "print(\"expected frequencies table:\\n\", ex3)"
      ],
      "execution_count": 10,
      "outputs": [
        {
          "output_type": "stream",
          "text": [
            "chi2 statistic: 80.87785174188721\n",
            "p value: 1.155517403684047e-10\n",
            "degrees of freedom: 16\n",
            "expected frequencies table:\n",
            " [[ 1.10632911  4.95443038  6.25316456  4.13670886  2.54936709]\n",
            " [ 3.72658228 16.68860759 21.06329114 13.93417722  8.58734177]\n",
            " [ 9.14177215 40.93924051 51.67088608 34.18227848 21.06582278]\n",
            " [ 6.69620253 29.98734177 37.84810127 25.03797468 15.43037975]\n",
            " [ 2.32911392 10.43037975 13.16455696  8.70886076  5.36708861]]\n"
          ],
          "name": "stdout"
        }
      ]
    },
    {
      "cell_type": "markdown",
      "metadata": {
        "id": "d4Rvl8Bqsa8r",
        "colab_type": "text"
      },
      "source": [
        "Based on a $X^2$ statistic of 80.88 and a p-value of 0.0000000001, we reject the null hypothesis that the amount of free time a student has and the frequency at which they go out with friends are independent."
      ]
    },
    {
      "cell_type": "markdown",
      "metadata": {
        "id": "7Iae14MdsbQP",
        "colab_type": "text"
      },
      "source": [
        "## $X^2$ Test 4\n",
        "\n",
        "1) Null Hypothesis:\n",
        "\n",
        "Internet access and home address type are independent of each other\n",
        "\n",
        "2) Alternative Hypothesis:\n",
        "\n",
        "Internet access and home address type have a dependent relationship\n",
        "\n",
        "3) Confidence Level: 95%"
      ]
    },
    {
      "cell_type": "code",
      "metadata": {
        "id": "6mdFzyLAs8mn",
        "colab_type": "code",
        "colab": {
          "base_uri": "https://localhost:8080/",
          "height": 142
        },
        "outputId": "dff46457-37f9-4fdf-ef66-3fc154d00536"
      },
      "source": [
        "#printing 4th contingency table\n",
        "contingency_4"
      ],
      "execution_count": 18,
      "outputs": [
        {
          "output_type": "execute_result",
          "data": {
            "text/html": [
              "<div>\n",
              "<style scoped>\n",
              "    .dataframe tbody tr th:only-of-type {\n",
              "        vertical-align: middle;\n",
              "    }\n",
              "\n",
              "    .dataframe tbody tr th {\n",
              "        vertical-align: top;\n",
              "    }\n",
              "\n",
              "    .dataframe thead th {\n",
              "        text-align: right;\n",
              "    }\n",
              "</style>\n",
              "<table border=\"1\" class=\"dataframe\">\n",
              "  <thead>\n",
              "    <tr style=\"text-align: right;\">\n",
              "      <th>internet</th>\n",
              "      <th>no</th>\n",
              "      <th>yes</th>\n",
              "    </tr>\n",
              "    <tr>\n",
              "      <th>address</th>\n",
              "      <th></th>\n",
              "      <th></th>\n",
              "    </tr>\n",
              "  </thead>\n",
              "  <tbody>\n",
              "    <tr>\n",
              "      <th>R</th>\n",
              "      <td>28</td>\n",
              "      <td>60</td>\n",
              "    </tr>\n",
              "    <tr>\n",
              "      <th>U</th>\n",
              "      <td>38</td>\n",
              "      <td>269</td>\n",
              "    </tr>\n",
              "  </tbody>\n",
              "</table>\n",
              "</div>"
            ],
            "text/plain": [
              "internet  no  yes\n",
              "address          \n",
              "R         28   60\n",
              "U         38  269"
            ]
          },
          "metadata": {
            "tags": []
          },
          "execution_count": 18
        }
      ]
    },
    {
      "cell_type": "code",
      "metadata": {
        "id": "VJOhf0cEsbif",
        "colab_type": "code",
        "colab": {
          "base_uri": "https://localhost:8080/",
          "height": 119
        },
        "outputId": "e95827f0-8221-4620-e315-3e34f67f56fc"
      },
      "source": [
        "#performing 4th chi^2 test\n",
        "chi2_4, p4, dof4, ex4 = stats.chi2_contingency(contingency_4)\n",
        "print(\"chi2 statistic:\", chi2_4)\n",
        "print(\"p value:\", p4)\n",
        "print(\"degrees of freedom:\",dof4)\n",
        "print(\"expected frequencies table:\\n\", ex4)"
      ],
      "execution_count": 29,
      "outputs": [
        {
          "output_type": "stream",
          "text": [
            "chi2 statistic: 17.202541580860636\n",
            "p value: 3.3598654758469596e-05\n",
            "degrees of freedom: 1\n",
            "expected frequencies table:\n",
            " [[ 14.70379747  73.29620253]\n",
            " [ 51.29620253 255.70379747]]\n"
          ],
          "name": "stdout"
        }
      ]
    },
    {
      "cell_type": "markdown",
      "metadata": {
        "id": "s8W8g9uEsiFz",
        "colab_type": "text"
      },
      "source": [
        "Based on a $X^2$ statistic of 17.20 and a p-value of 0.00003, we can reject the null hypothesis that internet access and home address type are independent."
      ]
    },
    {
      "cell_type": "markdown",
      "metadata": {
        "id": "Tf7XPpBP6YqX",
        "colab_type": "text"
      },
      "source": [
        "### 3) Use NumPy to perform your own chi^2 test \"from scratch\" \n",
        "\n",
        "Pick any of the chi^2 tests that you ran in part 2 and try them on your own. You should get the same results that Scipy got for all four values returned from `chi2_contingency()`"
      ]
    },
    {
      "cell_type": "code",
      "metadata": {
        "id": "Et5DtusY6maX",
        "colab_type": "code",
        "colab": {
          "base_uri": "https://localhost:8080/",
          "height": 173
        },
        "outputId": "5dfbe656-5cfa-4827-8f98-e1a55e1615c1"
      },
      "source": [
        "# YOUR WORK HERE\n",
        "pd.crosstab(df['address'], df['internet'], margins=True)"
      ],
      "execution_count": 30,
      "outputs": [
        {
          "output_type": "execute_result",
          "data": {
            "text/html": [
              "<div>\n",
              "<style scoped>\n",
              "    .dataframe tbody tr th:only-of-type {\n",
              "        vertical-align: middle;\n",
              "    }\n",
              "\n",
              "    .dataframe tbody tr th {\n",
              "        vertical-align: top;\n",
              "    }\n",
              "\n",
              "    .dataframe thead th {\n",
              "        text-align: right;\n",
              "    }\n",
              "</style>\n",
              "<table border=\"1\" class=\"dataframe\">\n",
              "  <thead>\n",
              "    <tr style=\"text-align: right;\">\n",
              "      <th>internet</th>\n",
              "      <th>no</th>\n",
              "      <th>yes</th>\n",
              "      <th>All</th>\n",
              "    </tr>\n",
              "    <tr>\n",
              "      <th>address</th>\n",
              "      <th></th>\n",
              "      <th></th>\n",
              "      <th></th>\n",
              "    </tr>\n",
              "  </thead>\n",
              "  <tbody>\n",
              "    <tr>\n",
              "      <th>R</th>\n",
              "      <td>28</td>\n",
              "      <td>60</td>\n",
              "      <td>88</td>\n",
              "    </tr>\n",
              "    <tr>\n",
              "      <th>U</th>\n",
              "      <td>38</td>\n",
              "      <td>269</td>\n",
              "      <td>307</td>\n",
              "    </tr>\n",
              "    <tr>\n",
              "      <th>All</th>\n",
              "      <td>66</td>\n",
              "      <td>329</td>\n",
              "      <td>395</td>\n",
              "    </tr>\n",
              "  </tbody>\n",
              "</table>\n",
              "</div>"
            ],
            "text/plain": [
              "internet  no  yes  All\n",
              "address               \n",
              "R         28   60   88\n",
              "U         38  269  307\n",
              "All       66  329  395"
            ]
          },
          "metadata": {
            "tags": []
          },
          "execution_count": 30
        }
      ]
    },
    {
      "cell_type": "code",
      "metadata": {
        "id": "CVwr-S8NzXC6",
        "colab_type": "code",
        "colab": {
          "base_uri": "https://localhost:8080/",
          "height": 142
        },
        "outputId": "b8a447a6-e213-4635-d135-f6b642dcc2f4"
      },
      "source": [
        "observed = contingency_4\n",
        "observed"
      ],
      "execution_count": 31,
      "outputs": [
        {
          "output_type": "execute_result",
          "data": {
            "text/html": [
              "<div>\n",
              "<style scoped>\n",
              "    .dataframe tbody tr th:only-of-type {\n",
              "        vertical-align: middle;\n",
              "    }\n",
              "\n",
              "    .dataframe tbody tr th {\n",
              "        vertical-align: top;\n",
              "    }\n",
              "\n",
              "    .dataframe thead th {\n",
              "        text-align: right;\n",
              "    }\n",
              "</style>\n",
              "<table border=\"1\" class=\"dataframe\">\n",
              "  <thead>\n",
              "    <tr style=\"text-align: right;\">\n",
              "      <th>internet</th>\n",
              "      <th>no</th>\n",
              "      <th>yes</th>\n",
              "    </tr>\n",
              "    <tr>\n",
              "      <th>address</th>\n",
              "      <th></th>\n",
              "      <th></th>\n",
              "    </tr>\n",
              "  </thead>\n",
              "  <tbody>\n",
              "    <tr>\n",
              "      <th>R</th>\n",
              "      <td>28</td>\n",
              "      <td>60</td>\n",
              "    </tr>\n",
              "    <tr>\n",
              "      <th>U</th>\n",
              "      <td>38</td>\n",
              "      <td>269</td>\n",
              "    </tr>\n",
              "  </tbody>\n",
              "</table>\n",
              "</div>"
            ],
            "text/plain": [
              "internet  no  yes\n",
              "address          \n",
              "R         28   60\n",
              "U         38  269"
            ]
          },
          "metadata": {
            "tags": []
          },
          "execution_count": 31
        }
      ]
    },
    {
      "cell_type": "code",
      "metadata": {
        "id": "HimUNqKLzJa7",
        "colab_type": "code",
        "colab": {
          "base_uri": "https://localhost:8080/",
          "height": 34
        },
        "outputId": "2a74000a-eb5b-4861-dfa0-1e33e7587fca"
      },
      "source": [
        "row_totals = df['internet'].value_counts().sort_index().values\n",
        "row_totals"
      ],
      "execution_count": 37,
      "outputs": [
        {
          "output_type": "execute_result",
          "data": {
            "text/plain": [
              "array([ 66, 329])"
            ]
          },
          "metadata": {
            "tags": []
          },
          "execution_count": 37
        }
      ]
    },
    {
      "cell_type": "code",
      "metadata": {
        "id": "N5l11MGMyfZB",
        "colab_type": "code",
        "colab": {
          "base_uri": "https://localhost:8080/",
          "height": 34
        },
        "outputId": "9d6e4b9a-8d98-44d8-c415-db0d797dba1c"
      },
      "source": [
        "col_totals = df['address'].value_counts().sort_index().values\n",
        "col_totals"
      ],
      "execution_count": 38,
      "outputs": [
        {
          "output_type": "execute_result",
          "data": {
            "text/plain": [
              "array([ 88, 307])"
            ]
          },
          "metadata": {
            "tags": []
          },
          "execution_count": 38
        }
      ]
    },
    {
      "cell_type": "code",
      "metadata": {
        "id": "RFqVEshw3Syx",
        "colab_type": "code",
        "colab": {
          "base_uri": "https://localhost:8080/",
          "height": 34
        },
        "outputId": "77812fb2-08f9-45ee-ef4b-9224deed2f52"
      },
      "source": [
        "sample_size = df.shape[0]\n",
        "sample_size"
      ],
      "execution_count": 56,
      "outputs": [
        {
          "output_type": "execute_result",
          "data": {
            "text/plain": [
              "395"
            ]
          },
          "metadata": {
            "tags": []
          },
          "execution_count": 56
        }
      ]
    },
    {
      "cell_type": "code",
      "metadata": {
        "id": "szeqQ_wlyrhJ",
        "colab_type": "code",
        "colab": {
          "base_uri": "https://localhost:8080/",
          "height": 51
        },
        "outputId": "cb77f5b4-469f-4f5e-df8a-fc92ff6ecb9c"
      },
      "source": [
        "expected = np.array([[0.0,0.0],\n",
        "                     [0.0,0.0]])\n",
        "\n",
        "for row_position, col in enumerate(col_totals):\n",
        "  for column_position, row in enumerate(row_totals):\n",
        "    expected_value = (row*col) / sample_size\n",
        "    expected[row_position][column_position] = expected_value\n",
        "\n",
        "expected"
      ],
      "execution_count": 44,
      "outputs": [
        {
          "output_type": "execute_result",
          "data": {
            "text/plain": [
              "array([[ 14.70379747,  73.29620253],\n",
              "       [ 51.29620253, 255.70379747]])"
            ]
          },
          "metadata": {
            "tags": []
          },
          "execution_count": 44
        }
      ]
    },
    {
      "cell_type": "code",
      "metadata": {
        "id": "0Ilf6LLSyvmV",
        "colab_type": "code",
        "colab": {
          "base_uri": "https://localhost:8080/",
          "height": 34
        },
        "outputId": "be3f9126-43fc-47ea-bb5c-175d6f260996"
      },
      "source": [
        "chi2 = (((abs(observed - expected) - 0.5) ** 2) / expected).sum().sum()\n",
        "chi2"
      ],
      "execution_count": 62,
      "outputs": [
        {
          "output_type": "execute_result",
          "data": {
            "text/plain": [
              "17.202541580860636"
            ]
          },
          "metadata": {
            "tags": []
          },
          "execution_count": 62
        }
      ]
    },
    {
      "cell_type": "code",
      "metadata": {
        "id": "DmrX3sDH0EKk",
        "colab_type": "code",
        "colab": {
          "base_uri": "https://localhost:8080/",
          "height": 119
        },
        "outputId": "eb96930d-f0ef-4954-8a28-502df79445c2"
      },
      "source": [
        "chi2_4, p4, dof4, ex4 = stats.chi2_contingency(contingency_4)\n",
        "print(\"chi2 statistic:\", chi2_4)\n",
        "print(\"p value:\", p4)\n",
        "print(\"degrees of freedom:\",dof4)\n",
        "print(\"expected frequencies table:\\n\", ex4)"
      ],
      "execution_count": 41,
      "outputs": [
        {
          "output_type": "stream",
          "text": [
            "chi2 statistic: 17.202541580860636\n",
            "p value: 3.3598654758469596e-05\n",
            "degrees of freedom: 1\n",
            "expected frequencies table:\n",
            " [[ 14.70379747  73.29620253]\n",
            " [ 51.29620253 255.70379747]]\n"
          ],
          "name": "stdout"
        }
      ]
    },
    {
      "cell_type": "markdown",
      "metadata": {
        "id": "a2BrKHq8m8AS",
        "colab_type": "text"
      },
      "source": [
        "## Stretch goals:\n",
        "\n",
        "### 1. Refactor your code so it is elegant, readable, and holds reusable code in functions."
      ]
    },
    {
      "cell_type": "code",
      "metadata": {
        "id": "AntnuAkFm-JQ",
        "colab_type": "code",
        "colab": {}
      },
      "source": [
        "# YOUR WORK HERE\n",
        "def chi_2_calc(a1, a2, d):\n",
        "  obs = pd.crosstab(a1, a2)\n",
        "  rt = a2.value_counts().sort_index().values\n",
        "  ct = a1.value_counts().sort_index().values\n",
        "  ss = d.shape[0]\n",
        "  exp = np.ndarray([a1.value_counts().shape[0], a2.value_counts().shape[0]], dtype=float)\n",
        "  for rp, col in enumerate(ct):\n",
        "    for cp, row in enumerate(rt):\n",
        "      ev = (row*col) / sample_size\n",
        "      exp[rp][cp] = ev\n",
        "  if exp.shape == (2,2):\n",
        "    return (((abs(obs - exp) - 0.5) ** 2) / exp).sum().sum()\n",
        "  else:\n",
        "    return ((((obs - exp)) ** 2) / exp).sum().sum()"
      ],
      "execution_count": 116,
      "outputs": []
    },
    {
      "cell_type": "code",
      "metadata": {
        "id": "kOQfTGpN-i1_",
        "colab_type": "code",
        "colab": {
          "base_uri": "https://localhost:8080/",
          "height": 34
        },
        "outputId": "2f6dc3a0-aaac-48be-edbd-6610e7475dff"
      },
      "source": [
        "chi_2_calc(df['freetime'], df['goout'], df)"
      ],
      "execution_count": 117,
      "outputs": [
        {
          "output_type": "execute_result",
          "data": {
            "text/plain": [
              "80.8778517418872"
            ]
          },
          "metadata": {
            "tags": []
          },
          "execution_count": 117
        }
      ]
    },
    {
      "cell_type": "code",
      "metadata": {
        "id": "ja61nSAVIHUN",
        "colab_type": "code",
        "colab": {
          "base_uri": "https://localhost:8080/",
          "height": 153
        },
        "outputId": "7e3175ea-723a-42d6-c36d-620db0283b80"
      },
      "source": [
        "stats.chi2_contingency(contingency_3)"
      ],
      "execution_count": 114,
      "outputs": [
        {
          "output_type": "execute_result",
          "data": {
            "text/plain": [
              "(80.87785174188721,\n",
              " 1.155517403684047e-10,\n",
              " 16,\n",
              " array([[ 1.10632911,  4.95443038,  6.25316456,  4.13670886,  2.54936709],\n",
              "        [ 3.72658228, 16.68860759, 21.06329114, 13.93417722,  8.58734177],\n",
              "        [ 9.14177215, 40.93924051, 51.67088608, 34.18227848, 21.06582278],\n",
              "        [ 6.69620253, 29.98734177, 37.84810127, 25.03797468, 15.43037975],\n",
              "        [ 2.32911392, 10.43037975, 13.16455696,  8.70886076,  5.36708861]]))"
            ]
          },
          "metadata": {
            "tags": []
          },
          "execution_count": 114
        }
      ]
    },
    {
      "cell_type": "markdown",
      "metadata": {
        "id": "4ohsJhQUmEuS",
        "colab_type": "text"
      },
      "source": [
        "\n",
        "\n",
        "### 2. Check For Understanding - Study and write your own explanations/definitions for these topics:\n",
        "\n",
        "- What is a sample \"estimate\" in statistics?\n",
        "\n",
        "A sample \"estimate\" is the sample mean, which is used to attempt to estimate the population mean.\n",
        "\n",
        "- What are hypothesis test? How are they useful?\n",
        "\n",
        "A hypothesis test is used to test various hypotheses to attempt to reject the null hypothesis and have confidence in the alternative.\n",
        "\n",
        "- What is a \"null hypothesis?\"\n",
        "\n",
        "The null hypothesis is the default assumption of the experiment.\n",
        "\n",
        "- What is a p-value and what does it represent?\n",
        "\n",
        "The p-value is the likelihood that the null hypothesis is non-rejectable.\n",
        "\n",
        "- What does it mean for something to be \"statistically significant?\"\n",
        "\n",
        "A finding is statistically significant when the likelihood of the alternative hypothesis is true is 95% or greater, represented by a p-value of 0.05.\n",
        "\n",
        "- What is a test statistic and how does it relate to a p-value?\n",
        "\n",
        "A test statistic is the number resulting from a hypothesis test. These values correspond to a specific p-value based on a table depending on the particular hypothesis test.\n",
        "\n",
        "- What are \"degrees of freedom\" and how are they calculated in a 1-sample, 2-sample, and chi^2 test for independence?\n",
        "\n",
        "Degrees of freedom refers to the number of values that can vary freely in a set of information. For a 1 or 2 sample t-test, the degrees of freedom is equal to the sample size-1. For a $X^2$ test for independence, the degrees of freedom is equal to the number of rows-1 times the number of columns-1."
      ]
    },
    {
      "cell_type": "markdown",
      "metadata": {
        "id": "nyJ3ySr7R2k9",
        "colab_type": "text"
      },
      "source": [
        "## Resources\n",
        "\n",
        "- [Interactive visualize the Chi-Squared test](https://homepage.divms.uiowa.edu/~mbognar/applets/chisq.html)\n",
        "- [Calculation of Chi-Squared test statistic](https://en.wikipedia.org/wiki/Pearson%27s_chi-squared_test)\n",
        "- [Visualization of a confidence interval generated by R code](https://commons.wikimedia.org/wiki/File:Confidence-interval.svg)\n",
        "- [Expected value of a squared standard normal](https://math.stackexchange.com/questions/264061/expected-value-calculation-for-squared-normal-distribution) (it's 1 - which is why the expected value of a Chi-Squared with $n$ degrees of freedom is $n$, as it's the sum of $n$ squared standard normals)"
      ]
    }
  ]
}