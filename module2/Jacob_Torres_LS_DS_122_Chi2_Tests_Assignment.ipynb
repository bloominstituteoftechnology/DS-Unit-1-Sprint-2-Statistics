{
  "nbformat": 4,
  "nbformat_minor": 0,
  "metadata": {
    "colab": {
      "name": "Jacob_Torres_LS_DS_122_Chi2_Tests_Assignment.ipynb",
      "provenance": [],
      "collapsed_sections": [],
      "include_colab_link": true
    },
    "kernelspec": {
      "name": "python3",
      "display_name": "Python 3"
    }
  },
  "cells": [
    {
      "cell_type": "markdown",
      "metadata": {
        "id": "view-in-github",
        "colab_type": "text"
      },
      "source": [
        "<a href=\"https://colab.research.google.com/github/jacob-torres/DS-Unit-1-Sprint-2-Statistics/blob/master/module2/Jacob_Torres_LS_DS_122_Chi2_Tests_Assignment.ipynb\" target=\"_parent\"><img src=\"https://colab.research.google.com/assets/colab-badge.svg\" alt=\"Open In Colab\"/></a>"
      ]
    },
    {
      "cell_type": "markdown",
      "metadata": {
        "id": "11OzdxWTM7UR"
      },
      "source": [
        "## Assignment - Practice Chi-square Tests\n",
        "\n",
        "###Dataset description:\n",
        "\n",
        "Slasher movies thrill audiences by portraying a lone antagonist (typically male) who attacks innocent victims with extreme violence and without apparent motive. However, this exciting (if gory) subgenre of horror film is criticized by those who view the violence as being used to “punish” female characters who engage in sexual activity during the film. To test this claim, study authors randomly sampled 50 North American slasher films released from 1960 to 2009 and coded the 485 characters appearing in them as being male or female, involved in sexual activity or not, and if they survived the film or not1. The data appears in the Slasher.csv dataset. In this project, we are going to answer a slightly simpler question: Are female characters in slasher films more likely to be \"murdered\" than male characters?\n",
        "\n",
        "Source: A. Welsh (2010). \"On the Perils of Living Dangerously in the Slasher Horror Film: Gender Differences in the Association Between Sexual Activity and Survival,\" Sex Roles, Vol. 62 pp. 762-773\n",
        "\n",
        "You can find the Slasher.csv file here:\n",
        "\n",
        "<https://raw.githubusercontent.com/Chelsea-Myers/Lambda-Intro/master/Slasher.csv>\n",
        "\n"
      ]
    },
    {
      "cell_type": "markdown",
      "metadata": {
        "id": "QnqpG9fOaUy-"
      },
      "source": [
        "\n",
        "\n",
        "### 1) Load the Slasher.csv dataset in a new dataframe.\n",
        "\n"
      ]
    },
    {
      "cell_type": "code",
      "metadata": {
        "id": "UQwvrhn7m3Mn"
      },
      "source": [
        "# Import notebook libraries\n",
        "%matplotlib inline\n",
        "import pandas as pd\n",
        "import numpy as np\n",
        "import matplotlib.pyplot as plt\n",
        "import seaborn as sns\n",
        "from scipy.stats import chi2_contingency"
      ],
      "execution_count": null,
      "outputs": []
    },
    {
      "cell_type": "code",
      "metadata": {
        "id": "PfE3Sjuxipfg",
        "outputId": "98004027-904a-4531-a40b-6d6d3b86629e",
        "colab": {
          "base_uri": "https://localhost:8080/",
          "height": 35
        }
      },
      "source": [
        "slasher_url = 'https://raw.githubusercontent.com/Chelsea-Myers/Lambda-Intro/master/Slasher.csv'\n",
        "slasher = pd.read_csv(slasher_url, index_col=0)\n",
        "print(slasher.shape)"
      ],
      "execution_count": null,
      "outputs": [
        {
          "output_type": "stream",
          "text": [
            "(485, 3)\n"
          ],
          "name": "stdout"
        }
      ]
    },
    {
      "cell_type": "markdown",
      "metadata": {
        "id": "llP1_XV0ak8C"
      },
      "source": [
        "###2) Display the top 5 rows of the dataframe to take a look at the variable names and values."
      ]
    },
    {
      "cell_type": "code",
      "metadata": {
        "id": "Ws10E-kqayJZ",
        "outputId": "731f4254-d303-42ed-a8f3-f530a0c31d91",
        "colab": {
          "base_uri": "https://localhost:8080/",
          "height": 233
        }
      },
      "source": [
        "slasher.head()"
      ],
      "execution_count": null,
      "outputs": [
        {
          "output_type": "execute_result",
          "data": {
            "text/html": [
              "<div>\n",
              "<style scoped>\n",
              "    .dataframe tbody tr th:only-of-type {\n",
              "        vertical-align: middle;\n",
              "    }\n",
              "\n",
              "    .dataframe tbody tr th {\n",
              "        vertical-align: top;\n",
              "    }\n",
              "\n",
              "    .dataframe thead th {\n",
              "        text-align: right;\n",
              "    }\n",
              "</style>\n",
              "<table border=\"1\" class=\"dataframe\">\n",
              "  <thead>\n",
              "    <tr style=\"text-align: right;\">\n",
              "      <th></th>\n",
              "      <th>Gender</th>\n",
              "      <th>Activity</th>\n",
              "      <th>Survival</th>\n",
              "    </tr>\n",
              "    <tr>\n",
              "      <th>ID</th>\n",
              "      <th></th>\n",
              "      <th></th>\n",
              "      <th></th>\n",
              "    </tr>\n",
              "  </thead>\n",
              "  <tbody>\n",
              "    <tr>\n",
              "      <th>1</th>\n",
              "      <td>1</td>\n",
              "      <td>1</td>\n",
              "      <td>1</td>\n",
              "    </tr>\n",
              "    <tr>\n",
              "      <th>2</th>\n",
              "      <td>1</td>\n",
              "      <td>1</td>\n",
              "      <td>1</td>\n",
              "    </tr>\n",
              "    <tr>\n",
              "      <th>3</th>\n",
              "      <td>1</td>\n",
              "      <td>1</td>\n",
              "      <td>1</td>\n",
              "    </tr>\n",
              "    <tr>\n",
              "      <th>4</th>\n",
              "      <td>1</td>\n",
              "      <td>1</td>\n",
              "      <td>1</td>\n",
              "    </tr>\n",
              "    <tr>\n",
              "      <th>5</th>\n",
              "      <td>1</td>\n",
              "      <td>1</td>\n",
              "      <td>1</td>\n",
              "    </tr>\n",
              "  </tbody>\n",
              "</table>\n",
              "</div>"
            ],
            "text/plain": [
              "    Gender  Activity  Survival\n",
              "ID                            \n",
              "1        1         1         1\n",
              "2        1         1         1\n",
              "3        1         1         1\n",
              "4        1         1         1\n",
              "5        1         1         1"
            ]
          },
          "metadata": {
            "tags": []
          },
          "execution_count": 16
        }
      ]
    },
    {
      "cell_type": "markdown",
      "metadata": {
        "id": "PAHPjE4Ea52w"
      },
      "source": [
        "The variable codes are:\n",
        "\n",
        "ID = Character ID\n",
        "\n",
        "Gender = Character gender.  0 = female, 1 = male\n",
        "\n",
        "Activity = Character was portrayed as engaged in sexual activity.  0 = no, 1 = yes\n",
        "\n",
        "Survival = Character survival in the film. 0 = did not survive, 1 = survived"
      ]
    },
    {
      "cell_type": "markdown",
      "metadata": {
        "id": "pabzhfvLbdFZ"
      },
      "source": [
        "###3) Calculate the frequency and relative frequency of male and female characters in this set of slasher films.  Describe your results in a sentence or two."
      ]
    },
    {
      "cell_type": "code",
      "metadata": {
        "id": "9gIQaRsQbt77",
        "outputId": "c649f116-48ea-426f-b494-83a2207b6825",
        "colab": {
          "base_uri": "https://localhost:8080/",
          "height": 69
        }
      },
      "source": [
        "# Frequency of genders\n",
        "slasher['Gender'].value_counts(dropna=False)"
      ],
      "execution_count": null,
      "outputs": [
        {
          "output_type": "execute_result",
          "data": {
            "text/plain": [
              "0    263\n",
              "1    222\n",
              "Name: Gender, dtype: int64"
            ]
          },
          "metadata": {
            "tags": []
          },
          "execution_count": 17
        }
      ]
    },
    {
      "cell_type": "code",
      "metadata": {
        "id": "Pie1d_2TrtNi",
        "outputId": "9e89af9d-7a0c-48c9-f306-b97f2d482fe5",
        "colab": {
          "base_uri": "https://localhost:8080/",
          "height": 141
        }
      },
      "source": [
        "# Relative frequency of genders\n",
        "gender_dist = pd.crosstab(index=slasher['Gender'], columns='Frequency')\n",
        "(gender_dist / gender_dist.sum()) * 100"
      ],
      "execution_count": null,
      "outputs": [
        {
          "output_type": "execute_result",
          "data": {
            "text/html": [
              "<div>\n",
              "<style scoped>\n",
              "    .dataframe tbody tr th:only-of-type {\n",
              "        vertical-align: middle;\n",
              "    }\n",
              "\n",
              "    .dataframe tbody tr th {\n",
              "        vertical-align: top;\n",
              "    }\n",
              "\n",
              "    .dataframe thead th {\n",
              "        text-align: right;\n",
              "    }\n",
              "</style>\n",
              "<table border=\"1\" class=\"dataframe\">\n",
              "  <thead>\n",
              "    <tr style=\"text-align: right;\">\n",
              "      <th>col_0</th>\n",
              "      <th>Frequency</th>\n",
              "    </tr>\n",
              "    <tr>\n",
              "      <th>Gender</th>\n",
              "      <th></th>\n",
              "    </tr>\n",
              "  </thead>\n",
              "  <tbody>\n",
              "    <tr>\n",
              "      <th>0</th>\n",
              "      <td>54.226804</td>\n",
              "    </tr>\n",
              "    <tr>\n",
              "      <th>1</th>\n",
              "      <td>45.773196</td>\n",
              "    </tr>\n",
              "  </tbody>\n",
              "</table>\n",
              "</div>"
            ],
            "text/plain": [
              "col_0   Frequency\n",
              "Gender           \n",
              "0       54.226804\n",
              "1       45.773196"
            ]
          },
          "metadata": {
            "tags": []
          },
          "execution_count": 18
        }
      ]
    },
    {
      "cell_type": "markdown",
      "metadata": {
        "id": "Q79IYzM7bz4j"
      },
      "source": [
        "The results show that there are slightly more female than male characters in this dataset."
      ]
    },
    {
      "cell_type": "markdown",
      "metadata": {
        "id": "98XNROkarNAI"
      },
      "source": [
        "###4) Calculate the frequency and relative frequency of character survival in this set of slasher films.  Describe your results in a sentence or two."
      ]
    },
    {
      "cell_type": "code",
      "metadata": {
        "id": "kbJ11HrcrPnn",
        "outputId": "f9612c21-6060-40b0-f4ec-dbf917f081ae",
        "colab": {
          "base_uri": "https://localhost:8080/",
          "height": 141
        }
      },
      "source": [
        "# Frequency of character survival\n",
        "survival_dist = pd.crosstab(index=slasher['Survival'], columns='Frequency')\n",
        "survival_dist"
      ],
      "execution_count": null,
      "outputs": [
        {
          "output_type": "execute_result",
          "data": {
            "text/html": [
              "<div>\n",
              "<style scoped>\n",
              "    .dataframe tbody tr th:only-of-type {\n",
              "        vertical-align: middle;\n",
              "    }\n",
              "\n",
              "    .dataframe tbody tr th {\n",
              "        vertical-align: top;\n",
              "    }\n",
              "\n",
              "    .dataframe thead th {\n",
              "        text-align: right;\n",
              "    }\n",
              "</style>\n",
              "<table border=\"1\" class=\"dataframe\">\n",
              "  <thead>\n",
              "    <tr style=\"text-align: right;\">\n",
              "      <th>col_0</th>\n",
              "      <th>Frequency</th>\n",
              "    </tr>\n",
              "    <tr>\n",
              "      <th>Survival</th>\n",
              "      <th></th>\n",
              "    </tr>\n",
              "  </thead>\n",
              "  <tbody>\n",
              "    <tr>\n",
              "      <th>0</th>\n",
              "      <td>400</td>\n",
              "    </tr>\n",
              "    <tr>\n",
              "      <th>1</th>\n",
              "      <td>85</td>\n",
              "    </tr>\n",
              "  </tbody>\n",
              "</table>\n",
              "</div>"
            ],
            "text/plain": [
              "col_0     Frequency\n",
              "Survival           \n",
              "0               400\n",
              "1                85"
            ]
          },
          "metadata": {
            "tags": []
          },
          "execution_count": 19
        }
      ]
    },
    {
      "cell_type": "code",
      "metadata": {
        "id": "80h0BhGSzNLs",
        "outputId": "c87a6f6e-2fe5-487d-d053-ffe0d675fa34",
        "colab": {
          "base_uri": "https://localhost:8080/",
          "height": 141
        }
      },
      "source": [
        "# Relative frequency of character survival\n",
        "(survival_dist / survival_dist.sum()) * 100"
      ],
      "execution_count": null,
      "outputs": [
        {
          "output_type": "execute_result",
          "data": {
            "text/html": [
              "<div>\n",
              "<style scoped>\n",
              "    .dataframe tbody tr th:only-of-type {\n",
              "        vertical-align: middle;\n",
              "    }\n",
              "\n",
              "    .dataframe tbody tr th {\n",
              "        vertical-align: top;\n",
              "    }\n",
              "\n",
              "    .dataframe thead th {\n",
              "        text-align: right;\n",
              "    }\n",
              "</style>\n",
              "<table border=\"1\" class=\"dataframe\">\n",
              "  <thead>\n",
              "    <tr style=\"text-align: right;\">\n",
              "      <th>col_0</th>\n",
              "      <th>Frequency</th>\n",
              "    </tr>\n",
              "    <tr>\n",
              "      <th>Survival</th>\n",
              "      <th></th>\n",
              "    </tr>\n",
              "  </thead>\n",
              "  <tbody>\n",
              "    <tr>\n",
              "      <th>0</th>\n",
              "      <td>82.474227</td>\n",
              "    </tr>\n",
              "    <tr>\n",
              "      <th>1</th>\n",
              "      <td>17.525773</td>\n",
              "    </tr>\n",
              "  </tbody>\n",
              "</table>\n",
              "</div>"
            ],
            "text/plain": [
              "col_0     Frequency\n",
              "Survival           \n",
              "0         82.474227\n",
              "1         17.525773"
            ]
          },
          "metadata": {
            "tags": []
          },
          "execution_count": 20
        }
      ]
    },
    {
      "cell_type": "markdown",
      "metadata": {
        "id": "kAypm_UUrRWv"
      },
      "source": [
        "The results show that an overwhelming percentage of the characters in the dataset did not survive (roughly 82%.)"
      ]
    },
    {
      "cell_type": "markdown",
      "metadata": {
        "id": "0K1kuj8yb5BD"
      },
      "source": [
        "###5) Calculate the joint distribution of character sex and movie survival. Add the table margins.  \n",
        "\n",
        "Hint: If you are working off of the in-class examples, it will be helpful to include character sex as the index variable. \n",
        "\n",
        "Describe your results in a sentence or two."
      ]
    },
    {
      "cell_type": "code",
      "metadata": {
        "id": "lBqo9mPJcApw",
        "outputId": "ea054913-5f75-4606-8cc4-0ee5b3f78e28",
        "colab": {
          "base_uri": "https://localhost:8080/",
          "height": 171
        }
      },
      "source": [
        "# Show the joint frequencies of character gender and survival\n",
        "joint_dist = pd.crosstab(index=slasher['Gender'], columns=slasher['Survival'], margins=True)\n",
        "joint_dist"
      ],
      "execution_count": null,
      "outputs": [
        {
          "output_type": "execute_result",
          "data": {
            "text/html": [
              "<div>\n",
              "<style scoped>\n",
              "    .dataframe tbody tr th:only-of-type {\n",
              "        vertical-align: middle;\n",
              "    }\n",
              "\n",
              "    .dataframe tbody tr th {\n",
              "        vertical-align: top;\n",
              "    }\n",
              "\n",
              "    .dataframe thead th {\n",
              "        text-align: right;\n",
              "    }\n",
              "</style>\n",
              "<table border=\"1\" class=\"dataframe\">\n",
              "  <thead>\n",
              "    <tr style=\"text-align: right;\">\n",
              "      <th>Survival</th>\n",
              "      <th>0</th>\n",
              "      <th>1</th>\n",
              "      <th>All</th>\n",
              "    </tr>\n",
              "    <tr>\n",
              "      <th>Gender</th>\n",
              "      <th></th>\n",
              "      <th></th>\n",
              "      <th></th>\n",
              "    </tr>\n",
              "  </thead>\n",
              "  <tbody>\n",
              "    <tr>\n",
              "      <th>0</th>\n",
              "      <td>228</td>\n",
              "      <td>35</td>\n",
              "      <td>263</td>\n",
              "    </tr>\n",
              "    <tr>\n",
              "      <th>1</th>\n",
              "      <td>172</td>\n",
              "      <td>50</td>\n",
              "      <td>222</td>\n",
              "    </tr>\n",
              "    <tr>\n",
              "      <th>All</th>\n",
              "      <td>400</td>\n",
              "      <td>85</td>\n",
              "      <td>485</td>\n",
              "    </tr>\n",
              "  </tbody>\n",
              "</table>\n",
              "</div>"
            ],
            "text/plain": [
              "Survival    0   1  All\n",
              "Gender                \n",
              "0         228  35  263\n",
              "1         172  50  222\n",
              "All       400  85  485"
            ]
          },
          "metadata": {
            "tags": []
          },
          "execution_count": 21
        }
      ]
    },
    {
      "cell_type": "code",
      "metadata": {
        "id": "nzItjOGk4Rty",
        "outputId": "be5a1c3c-c3e6-4c37-c64b-1204899c8896",
        "colab": {
          "base_uri": "https://localhost:8080/",
          "height": 141
        }
      },
      "source": [
        "# Normalize the variable frequencies\n",
        "(pd.crosstab(index=slasher['Gender'], columns=slasher['Survival'], normalize='index')) * 100"
      ],
      "execution_count": null,
      "outputs": [
        {
          "output_type": "execute_result",
          "data": {
            "text/html": [
              "<div>\n",
              "<style scoped>\n",
              "    .dataframe tbody tr th:only-of-type {\n",
              "        vertical-align: middle;\n",
              "    }\n",
              "\n",
              "    .dataframe tbody tr th {\n",
              "        vertical-align: top;\n",
              "    }\n",
              "\n",
              "    .dataframe thead th {\n",
              "        text-align: right;\n",
              "    }\n",
              "</style>\n",
              "<table border=\"1\" class=\"dataframe\">\n",
              "  <thead>\n",
              "    <tr style=\"text-align: right;\">\n",
              "      <th>Survival</th>\n",
              "      <th>0</th>\n",
              "      <th>1</th>\n",
              "    </tr>\n",
              "    <tr>\n",
              "      <th>Gender</th>\n",
              "      <th></th>\n",
              "      <th></th>\n",
              "    </tr>\n",
              "  </thead>\n",
              "  <tbody>\n",
              "    <tr>\n",
              "      <th>0</th>\n",
              "      <td>86.692015</td>\n",
              "      <td>13.307985</td>\n",
              "    </tr>\n",
              "    <tr>\n",
              "      <th>1</th>\n",
              "      <td>77.477477</td>\n",
              "      <td>22.522523</td>\n",
              "    </tr>\n",
              "  </tbody>\n",
              "</table>\n",
              "</div>"
            ],
            "text/plain": [
              "Survival          0          1\n",
              "Gender                        \n",
              "0         86.692015  13.307985\n",
              "1         77.477477  22.522523"
            ]
          },
          "metadata": {
            "tags": []
          },
          "execution_count": 22
        }
      ]
    },
    {
      "cell_type": "markdown",
      "metadata": {
        "id": "63H4QMgKcDEp"
      },
      "source": [
        "The results suggest that around 9% less female characters survived than male characters."
      ]
    },
    {
      "cell_type": "markdown",
      "metadata": {
        "id": "Dys0EucWrhuA"
      },
      "source": [
        "###6) Calculate the distribution of survival conditional on character sex.\n",
        "Hint: If you are working off of the in-class examples, it will be helpful to include character sex as the index variable. \n",
        "\n",
        "Describe your results in a sentence or two."
      ]
    },
    {
      "cell_type": "code",
      "metadata": {
        "id": "uhubOhDDrld-",
        "outputId": "665ec377-621c-4046-9106-f4688fe51e19",
        "colab": {
          "base_uri": "https://localhost:8080/",
          "height": 87
        }
      },
      "source": [
        "slasher.groupby('Gender')['Survival'].count()"
      ],
      "execution_count": null,
      "outputs": [
        {
          "output_type": "execute_result",
          "data": {
            "text/plain": [
              "Gender\n",
              "0    263\n",
              "1    222\n",
              "Name: Survival, dtype: int64"
            ]
          },
          "metadata": {
            "tags": []
          },
          "execution_count": 23
        }
      ]
    },
    {
      "cell_type": "markdown",
      "metadata": {
        "id": "-Od-bknhrngI"
      },
      "source": [
        "Describe your results here."
      ]
    },
    {
      "cell_type": "markdown",
      "metadata": {
        "id": "ODJU68cMKJ57"
      },
      "source": [
        "###7) Identify the appropriate null and alternative hypotheses to test for a statistically significant relationship between character sex and survival. \n",
        "\n",
        "**Ho:** There is no relationship between character gender and survival.\n",
        "\n",
        "**Ha:** There is a relationship between character gender and survival."
      ]
    },
    {
      "cell_type": "markdown",
      "metadata": {
        "id": "RXPZZuAi3ccI"
      },
      "source": [
        "### 8) Perform the chi-square test above using `stats.chi2_contingency()` and output the p-value.\n"
      ]
    },
    {
      "cell_type": "code",
      "metadata": {
        "id": "mBkYwXYmhf9j",
        "outputId": "8c3e7c61-e4d6-4a65-96f0-c910ddfffd33",
        "colab": {
          "base_uri": "https://localhost:8080/",
          "height": 35
        }
      },
      "source": [
        "# Run chi-squared test on the joint distribution table\n",
        "g, p, dof, expected = chi2_contingency(joint_dist)\n",
        "print(p)"
      ],
      "execution_count": null,
      "outputs": [
        {
          "output_type": "stream",
          "text": [
            "0.13215171811370865\n"
          ],
          "name": "stdout"
        }
      ]
    },
    {
      "cell_type": "markdown",
      "metadata": {
        "id": "Tf7XPpBP6YqX"
      },
      "source": [
        "### 9) Interpret your p-value in 8) at the 0.05 significance level, and summarize your results in a sentence or two."
      ]
    },
    {
      "cell_type": "markdown",
      "metadata": {
        "id": "N5v6Sca8LDmy"
      },
      "source": [
        "The pvalue = 0.13, which is greather than the significance level of 0.05. This means that I will not reject the null (there is not a relationship between character gender and survival in slasher movies.)"
      ]
    },
    {
      "cell_type": "markdown",
      "metadata": {
        "id": "6fuCbToDLTO0"
      },
      "source": [
        "### 10) Create a side-by-side bar plot to illuatrate the relationship between character sex and survival in Slasher movies.  Sum up your overall results in a sentence or two."
      ]
    },
    {
      "cell_type": "code",
      "metadata": {
        "id": "Ak2QRHzmMKCw",
        "outputId": "44ac1e69-4456-4e9a-aec1-e1dcc077aa1d",
        "colab": {
          "base_uri": "https://localhost:8080/",
          "height": 531
        }
      },
      "source": [
        "# Axis variables\n",
        "x1 = np.array([87, 77])\n",
        "x2 = np.array([13, 23])\n",
        "y = np.arange(110, step=10)\n",
        "x_labels = ['Female', 'Male']\n",
        "y_labels = ['0%', '10%', '20%', '30%', '40%', '50%',\n",
        "  '60%', '70%', '80%', '90%', '100%']\n",
        "\n",
        "\n",
        "# Create the plots\n",
        "plt.style.use('seaborn-bright')\n",
        "fig, (ax1, ax2) = plt.subplots(1, 2, sharey=True, figsize=(12, 8))\n",
        "\n",
        "# Set up y-axis\n",
        "ax1.set_ylim(0, 100)\n",
        "ax1.set_ylabel(\"Percentage\")\n",
        "ax1.set_yticklabels(y_labels)\n",
        "\n",
        "# Set bar heights and colors\n",
        "died_plot = sns.barplot(x1, color='c', palette='vlag', ax=ax1)\n",
        "ax1.set_title(\"Characters who Died in Slasher Films\")\n",
        "ax1.set_xlabel(\"Sex\")\n",
        "ax1.set_xticklabels(x_labels)\n",
        "\n",
        "survived_plot = sns.barplot(x2, color='y', palette='vlag', ax=ax2)\n",
        "ax2.set_title(\"Characters who Survived in Slasher Films\")\n",
        "ax2.set_xlabel(\"Sex\")\n",
        "ax2.set_xticklabels(x_labels)"
      ],
      "execution_count": 29,
      "outputs": [
        {
          "output_type": "execute_result",
          "data": {
            "text/plain": [
              "[Text(0, 0, 'Female'), Text(0, 0, 'Male')]"
            ]
          },
          "metadata": {
            "tags": []
          },
          "execution_count": 29
        },
        {
          "output_type": "display_data",
          "data": {
            "image/png": "[encoded data removed]",
            "text/plain": [
              "<Figure size 864x576 with 2 Axes>"
            ]
          },
          "metadata": {
            "tags": [],
            "needs_background": "light"
          }
        }
      ]
    },
    {
      "cell_type": "markdown",
      "metadata": {
        "id": "Juj8P8RgLoiZ"
      },
      "source": [
        "The female and male survival rates appear to mirror each other. The bar charts suggest that the female survival rate is slightly lower than that of the males. Likewise, the female death rate appears to be slightly higher. However, the trend of very high deaths and very low survival is strong in both charts. The difference between the two genders in terms of survival could even be attributed to the fact that there are slightly more female characters in the dataset than male characters, though this isn't necessarily true either.\n",
        "\n",
        "In short: the results are inconclusive around the relationship between character gender and survival."
      ]
    },
    {
      "cell_type": "markdown",
      "metadata": {
        "id": "_dHYNl15O9i7"
      },
      "source": [
        "## Stretch Goals:\n",
        "\n",
        "###1. Explore the concept of an odds ratio\n",
        "\n",
        "Another way to quantify the relationship between two categorical variables is by calculating the odds ration, which is the ratio of the odds of an event happening in one group to the odds of the event happening in another group.\n",
        "\n",
        "[Lots more about the odds ratio](https://en.wikipedia.org/wiki/Odds_ratio).\n",
        "\n",
        "We can use Python to calculate the odds of surviving a slaser movie for female compared to male characters.\n",
        "\n",
        "You can find more information about calculating the odds ratio for a 2x2 table in Python [here](https://www.statsmodels.org/stable/contingency_tables.html).  Scroll down to the section labeled \"A Single 2x2 Table\".\n",
        "\n",
        "Calculate the odds ratio comparing the odds of movie survival in female compared to male characters.  Interpret what this number tells you about the likelihood of male and female characters surviving the film.\n"
      ]
    },
    {
      "cell_type": "code",
      "metadata": {
        "id": "AntnuAkFm-JQ"
      },
      "source": [
        "# YOUR WORK HERE"
      ],
      "execution_count": null,
      "outputs": []
    },
    {
      "cell_type": "markdown",
      "metadata": {
        "id": "UEsP2NukUhyB"
      },
      "source": [
        "Sum up your results in a sentence or two."
      ]
    },
    {
      "cell_type": "markdown",
      "metadata": {
        "id": "a2BrKHq8m8AS"
      },
      "source": [
        "\n",
        "### 2. Learn about Simpson's Paradox\n",
        "\n",
        "[Simpson's Paradox](https://en.wikipedia.org/wiki/Simpson%27s_paradox#:~:text=Simpson's%20paradox%2C%20which%20goes%20by,when%20these%20groups%20are%20combined.) occurs when a trend that appears in separate groups disappears or reverses when those groups are combined.  \n",
        "\n",
        "Create a scenario where Hopsital A has a lower overall mortality rate than Hospital B but has a higher mortality rate if cases are separated into two groups: high risk and low risk.\n"
      ]
    },
    {
      "cell_type": "code",
      "metadata": {
        "id": "6KjgUutL4rrq"
      },
      "source": [
        "# YOUR WORK HERE"
      ],
      "execution_count": null,
      "outputs": []
    },
    {
      "cell_type": "markdown",
      "metadata": {
        "id": "LufEkMfu4tY8"
      },
      "source": [
        "Sum up your results in a sentence or two."
      ]
    }
  ]
}