{
  "nbformat": 4,
  "nbformat_minor": 0,
  "metadata": {
    "kernelspec": {
      "display_name": "Python 3",
      "language": "python",
      "name": "python3"
    },
    "language_info": {
      "codemirror_mode": {
        "name": "ipython",
        "version": 3
      },
      "file_extension": ".py",
      "mimetype": "text/x-python",
      "name": "python",
      "nbconvert_exporter": "python",
      "pygments_lexer": "ipython3",
      "version": "3.7.3"
    },
    "colab": {
      "name": "LS_DS14_121_Statistics_Probability_Assignment.ipynb",
      "provenance": [],
      "include_colab_link": true
    }
  },
  "cells": [
    {
      "cell_type": "markdown",
      "metadata": {
        "id": "view-in-github",
        "colab_type": "text"
      },
      "source": [
        "<a href=\"https://colab.research.google.com/github/vjmiyagi/DS-Unit-1-Sprint-2-Statistics/blob/master/module2/LS_DS14_121_Statistics_Probability_Assignment.ipynb\" target=\"_parent\"><img src=\"https://colab.research.google.com/assets/colab-badge.svg\" alt=\"Open In Colab\"/></a>"
      ]
    },
    {
      "cell_type": "markdown",
      "metadata": {
        "id": "Sa5KWMO1ngPN",
        "colab_type": "text"
      },
      "source": [
        "<img align=\"left\" src=\"https://lever-client-logos.s3.amazonaws.com/864372b1-534c-480e-acd5-9711f850815c-1524247202159.png\" width=200>\n",
        "<br></br>\n",
        "<br></br>\n",
        "\n",
        "## *Data Science Unit 1 Sprint 2 Assignment 1*\n",
        "\n",
        "# Apply the t-test to real data\n",
        "\n",
        "Your assignment is to determine which issues have \"statistically significant\" differences between political parties in this [1980s congressional voting data](https://archive.ics.uci.edu/ml/datasets/Congressional+Voting+Records). The data consists of 435 instances (one for each congressperson), a class (democrat or republican), and 16 binary attributes (yes or no for voting for or against certain issues). Be aware - there are missing values!\n",
        "\n",
        "Your goals:\n",
        "\n",
        "1. Load and clean the data (or determine the best method to drop observations when running tests)\n",
        "2. Using hypothesis testing, find an issue that democrats support more than republicans with p < 0.01\n",
        "3. Using hypothesis testing, find an issue that republicans support more than democrats with p < 0.01\n",
        "4. Using hypothesis testing, find an issue where the difference between republicans and democrats has p > 0.1 (i.e. there may not be much of a difference)\n",
        "\n",
        "Note that this data will involve *2 sample* t-tests, because you're comparing averages across two groups (republicans and democrats) rather than a single group against a null hypothesis."
      ]
    },
    {
      "cell_type": "code",
      "metadata": {
        "id": "ZKwspo2CngPP",
        "colab_type": "code",
        "colab": {
          "base_uri": "https://localhost:8080/",
          "height": 204
        },
        "outputId": "cd568dce-1457-4eb0-e793-d7460346c119"
      },
      "source": [
        "### YOUR CODE STARTS HERE\n",
        "\n",
        "# Import\n",
        "\n",
        "import pandas as pd\n",
        "\n",
        "import numpy as np\n",
        "\n",
        "from scipy import stats\n",
        "\n",
        "\n",
        "\n",
        "# Grab the file from UCI\n",
        "!wget https://archive.ics.uci.edu/ml/machine-learning-databases/voting-records/house-votes-84.data"
      ],
      "execution_count": 136,
      "outputs": [
        {
          "output_type": "stream",
          "text": [
            "--2020-03-17 05:59:37--  https://archive.ics.uci.edu/ml/machine-learning-databases/voting-records/house-votes-84.data\n",
            "Resolving archive.ics.uci.edu (archive.ics.uci.edu)... 128.195.10.252\n",
            "Connecting to archive.ics.uci.edu (archive.ics.uci.edu)|128.195.10.252|:443... connected.\n",
            "HTTP request sent, awaiting response... 200 OK\n",
            "Length: 18171 (18K) [application/x-httpd-php]\n",
            "Saving to: ‘house-votes-84.data.4’\n",
            "\n",
            "\rhouse-votes-84.data   0%[                    ]       0  --.-KB/s               \rhouse-votes-84.data 100%[===================>]  17.75K  --.-KB/s    in 0.1s    \n",
            "\n",
            "2020-03-17 05:59:38 (134 KB/s) - ‘house-votes-84.data.4’ saved [18171/18171]\n",
            "\n"
          ],
          "name": "stdout"
        }
      ]
    },
    {
      "cell_type": "code",
      "metadata": {
        "id": "zFLuI337EIje",
        "colab_type": "code",
        "colab": {
          "base_uri": "https://localhost:8080/",
          "height": 187
        },
        "outputId": "aa141de5-4453-4525-ac4e-32bd88a2360d"
      },
      "source": [
        "df=pd.read_csv('house-votes-84.data',names=['party','handicapped-infants',\n",
        "                                            'water-project','budget',\n",
        "                                            'physician-fee-freeze',\n",
        "                                            'el-salvador-aid',\n",
        "                                            'religious-groups',\n",
        "                                            'anti-satellite-ban',\n",
        "                                            'aid-to-contras','mx-missile',\n",
        "                                            'immigration','synfuels',\n",
        "                                            'education','right-to-sue','crime',\n",
        "                                            'duty-free','south-africa'])\n",
        "print(df.shape), df.head()"
      ],
      "execution_count": 137,
      "outputs": [
        {
          "output_type": "stream",
          "text": [
            "(435, 17)\n"
          ],
          "name": "stdout"
        },
        {
          "output_type": "execute_result",
          "data": {
            "text/plain": [
              "(None,\n",
              "         party handicapped-infants water-project  ... crime duty-free south-africa\n",
              " 0  republican                   n             y  ...     y         n            y\n",
              " 1  republican                   n             y  ...     y         n            ?\n",
              " 2    democrat                   ?             y  ...     y         n            n\n",
              " 3    democrat                   n             y  ...     n         n            y\n",
              " 4    democrat                   y             y  ...     y         y            y\n",
              " \n",
              " [5 rows x 17 columns])"
            ]
          },
          "metadata": {
            "tags": []
          },
          "execution_count": 137
        }
      ]
    },
    {
      "cell_type": "code",
      "metadata": {
        "id": "9epsFVDqGwhe",
        "colab_type": "code",
        "colab": {
          "base_uri": "https://localhost:8080/",
          "height": 68
        },
        "outputId": "e03c4de4-3a55-419b-de81-600c52b457b8"
      },
      "source": [
        "# Take a look at party column\n",
        "\n",
        "df['party'].value_counts()"
      ],
      "execution_count": 138,
      "outputs": [
        {
          "output_type": "execute_result",
          "data": {
            "text/plain": [
              "democrat      267\n",
              "republican    168\n",
              "Name: party, dtype: int64"
            ]
          },
          "metadata": {
            "tags": []
          },
          "execution_count": 138
        }
      ]
    },
    {
      "cell_type": "code",
      "metadata": {
        "id": "IphXTWrtGxBf",
        "colab_type": "code",
        "colab": {
          "base_uri": "https://localhost:8080/",
          "height": 221
        },
        "outputId": "88d254cf-af23-4934-b307-e333940cd9b0"
      },
      "source": [
        "df = df.replace({'y':1, 'n':0,'?':np.NaN})\n",
        "\n",
        "df.head()"
      ],
      "execution_count": 139,
      "outputs": [
        {
          "output_type": "execute_result",
          "data": {
            "text/html": [
              "<div>\n",
              "<style scoped>\n",
              "    .dataframe tbody tr th:only-of-type {\n",
              "        vertical-align: middle;\n",
              "    }\n",
              "\n",
              "    .dataframe tbody tr th {\n",
              "        vertical-align: top;\n",
              "    }\n",
              "\n",
              "    .dataframe thead th {\n",
              "        text-align: right;\n",
              "    }\n",
              "</style>\n",
              "<table border=\"1\" class=\"dataframe\">\n",
              "  <thead>\n",
              "    <tr style=\"text-align: right;\">\n",
              "      <th></th>\n",
              "      <th>party</th>\n",
              "      <th>handicapped-infants</th>\n",
              "      <th>water-project</th>\n",
              "      <th>budget</th>\n",
              "      <th>physician-fee-freeze</th>\n",
              "      <th>el-salvador-aid</th>\n",
              "      <th>religious-groups</th>\n",
              "      <th>anti-satellite-ban</th>\n",
              "      <th>aid-to-contras</th>\n",
              "      <th>mx-missile</th>\n",
              "      <th>immigration</th>\n",
              "      <th>synfuels</th>\n",
              "      <th>education</th>\n",
              "      <th>right-to-sue</th>\n",
              "      <th>crime</th>\n",
              "      <th>duty-free</th>\n",
              "      <th>south-africa</th>\n",
              "    </tr>\n",
              "  </thead>\n",
              "  <tbody>\n",
              "    <tr>\n",
              "      <th>0</th>\n",
              "      <td>republican</td>\n",
              "      <td>0.00000</td>\n",
              "      <td>1.00000</td>\n",
              "      <td>0.00000</td>\n",
              "      <td>1.00000</td>\n",
              "      <td>1.00000</td>\n",
              "      <td>1.00000</td>\n",
              "      <td>0.00000</td>\n",
              "      <td>0.00000</td>\n",
              "      <td>0.00000</td>\n",
              "      <td>1.00000</td>\n",
              "      <td>nan</td>\n",
              "      <td>1.00000</td>\n",
              "      <td>1.00000</td>\n",
              "      <td>1.00000</td>\n",
              "      <td>0.00000</td>\n",
              "      <td>1.00000</td>\n",
              "    </tr>\n",
              "    <tr>\n",
              "      <th>1</th>\n",
              "      <td>republican</td>\n",
              "      <td>0.00000</td>\n",
              "      <td>1.00000</td>\n",
              "      <td>0.00000</td>\n",
              "      <td>1.00000</td>\n",
              "      <td>1.00000</td>\n",
              "      <td>1.00000</td>\n",
              "      <td>0.00000</td>\n",
              "      <td>0.00000</td>\n",
              "      <td>0.00000</td>\n",
              "      <td>0.00000</td>\n",
              "      <td>0.00000</td>\n",
              "      <td>1.00000</td>\n",
              "      <td>1.00000</td>\n",
              "      <td>1.00000</td>\n",
              "      <td>0.00000</td>\n",
              "      <td>nan</td>\n",
              "    </tr>\n",
              "    <tr>\n",
              "      <th>2</th>\n",
              "      <td>democrat</td>\n",
              "      <td>nan</td>\n",
              "      <td>1.00000</td>\n",
              "      <td>1.00000</td>\n",
              "      <td>nan</td>\n",
              "      <td>1.00000</td>\n",
              "      <td>1.00000</td>\n",
              "      <td>0.00000</td>\n",
              "      <td>0.00000</td>\n",
              "      <td>0.00000</td>\n",
              "      <td>0.00000</td>\n",
              "      <td>1.00000</td>\n",
              "      <td>0.00000</td>\n",
              "      <td>1.00000</td>\n",
              "      <td>1.00000</td>\n",
              "      <td>0.00000</td>\n",
              "      <td>0.00000</td>\n",
              "    </tr>\n",
              "    <tr>\n",
              "      <th>3</th>\n",
              "      <td>democrat</td>\n",
              "      <td>0.00000</td>\n",
              "      <td>1.00000</td>\n",
              "      <td>1.00000</td>\n",
              "      <td>0.00000</td>\n",
              "      <td>nan</td>\n",
              "      <td>1.00000</td>\n",
              "      <td>0.00000</td>\n",
              "      <td>0.00000</td>\n",
              "      <td>0.00000</td>\n",
              "      <td>0.00000</td>\n",
              "      <td>1.00000</td>\n",
              "      <td>0.00000</td>\n",
              "      <td>1.00000</td>\n",
              "      <td>0.00000</td>\n",
              "      <td>0.00000</td>\n",
              "      <td>1.00000</td>\n",
              "    </tr>\n",
              "    <tr>\n",
              "      <th>4</th>\n",
              "      <td>democrat</td>\n",
              "      <td>1.00000</td>\n",
              "      <td>1.00000</td>\n",
              "      <td>1.00000</td>\n",
              "      <td>0.00000</td>\n",
              "      <td>1.00000</td>\n",
              "      <td>1.00000</td>\n",
              "      <td>0.00000</td>\n",
              "      <td>0.00000</td>\n",
              "      <td>0.00000</td>\n",
              "      <td>0.00000</td>\n",
              "      <td>1.00000</td>\n",
              "      <td>nan</td>\n",
              "      <td>1.00000</td>\n",
              "      <td>1.00000</td>\n",
              "      <td>1.00000</td>\n",
              "      <td>1.00000</td>\n",
              "    </tr>\n",
              "  </tbody>\n",
              "</table>\n",
              "</div>"
            ],
            "text/plain": [
              "        party  handicapped-infants  ...  duty-free  south-africa\n",
              "0  republican              0.00000  ...    0.00000       1.00000\n",
              "1  republican              0.00000  ...    0.00000           nan\n",
              "2    democrat                  nan  ...    0.00000       0.00000\n",
              "3    democrat              0.00000  ...    0.00000       1.00000\n",
              "4    democrat              1.00000  ...    1.00000       1.00000\n",
              "\n",
              "[5 rows x 17 columns]"
            ]
          },
          "metadata": {
            "tags": []
          },
          "execution_count": 139
        }
      ]
    },
    {
      "cell_type": "markdown",
      "metadata": {
        "id": "OoG--WYDGxQX",
        "colab_type": "text"
      },
      "source": [
        "## Using hypothesis testing, find an issue that democrats support more than republicans with p < 0.01\n",
        "\n"
      ]
    },
    {
      "cell_type": "code",
      "metadata": {
        "id": "ZFN83tQQGxfo",
        "colab_type": "code",
        "colab": {}
      },
      "source": [
        "# Split the dataset into republicans and democrats\n",
        "\n",
        "# rep = df[df['party']=='republican']\n",
        "# dem = df[df['party']=='democrat']\n",
        "\n",
        "rep = df[df['party']=='republican']\n",
        "dem = df[df['party']=='democrat']\n"
      ],
      "execution_count": 0,
      "outputs": []
    },
    {
      "cell_type": "code",
      "metadata": {
        "id": "0rvJFH0KM2ZO",
        "colab_type": "code",
        "colab": {
          "base_uri": "https://localhost:8080/",
          "height": 323
        },
        "outputId": "a59c2106-6c6a-45bf-cb1d-7913429066de"
      },
      "source": [
        "print(rep.head())\n",
        "print(rep.shape)\n",
        "\n",
        "print(dem.head())\n",
        "dem.shape\n"
      ],
      "execution_count": 13,
      "outputs": [
        {
          "output_type": "stream",
          "text": [
            "         party  handicapped-infants  ...  duty-free  south-africa\n",
            "0   republican                  0.0  ...        0.0           1.0\n",
            "1   republican                  0.0  ...        0.0           NaN\n",
            "7   republican                  0.0  ...        NaN           1.0\n",
            "8   republican                  0.0  ...        0.0           1.0\n",
            "10  republican                  0.0  ...        0.0           0.0\n",
            "\n",
            "[5 rows x 17 columns]\n",
            "(168, 17)\n",
            "      party  handicapped-infants  water-project  ...  crime  duty-free  south-africa\n",
            "2  democrat                  NaN            1.0  ...    1.0        0.0           0.0\n",
            "3  democrat                  0.0            1.0  ...    0.0        0.0           1.0\n",
            "4  democrat                  1.0            1.0  ...    1.0        1.0           1.0\n",
            "5  democrat                  0.0            1.0  ...    1.0        1.0           1.0\n",
            "6  democrat                  0.0            1.0  ...    1.0        1.0           1.0\n",
            "\n",
            "[5 rows x 17 columns]\n"
          ],
          "name": "stdout"
        },
        {
          "output_type": "execute_result",
          "data": {
            "text/plain": [
              "(267, 17)"
            ]
          },
          "metadata": {
            "tags": []
          },
          "execution_count": 13
        }
      ]
    },
    {
      "cell_type": "markdown",
      "metadata": {
        "id": "VqLgQhjhgj6R",
        "colab_type": "text"
      },
      "source": [
        "# Using hypothesis testing, find an issue that democrats support more than republicans with p < 0.01\n",
        "# Using hypothesis testing, find an issue that republicans support more than democrats with p < 0.01\n",
        "## Using hypothesis testing, find an issue where the difference between republicans and democrats has p > 0.1 (i.e. there may not be much of a difference)"
      ]
    },
    {
      "cell_type": "code",
      "metadata": {
        "id": "tLkza4MqXkRg",
        "colab_type": "code",
        "colab": {
          "base_uri": "https://localhost:8080/",
          "height": 833
        },
        "outputId": "12078e4c-0c17-4d0a-ca2d-80a3873df6d2"
      },
      "source": [
        "pd.options.display.float_format = '{:,}'.format\n",
        "\n",
        "bills =['handicapped-infants','water-project','budget',\n",
        "        'physician-fee-freeze','el-salvador-aid','religious-groups',\n",
        "        'anti-satellite-ban','aid-to-contras','mx-missile','immigration',\n",
        "        'synfuels','education','right-to-sue','crime','duty-free',\n",
        "        'south-africa']\n",
        "\n",
        "for x in bills:\n",
        "  print(x,'Rep: ', int(rep[x].sum()),'    ','Dem:  ', int(dem[x].sum()))\n",
        "\n",
        "  print(stats.ttest_ind(rep[x], dem[x], nan_policy='omit'))\n",
        "  print()\n",
        "\n"
      ],
      "execution_count": 141,
      "outputs": [
        {
          "output_type": "stream",
          "text": [
            "handicapped-infants Rep:  31      Dem:   156\n",
            "Ttest_indResult(statistic=-9.205264294809222, pvalue=1.613440327937243e-18)\n",
            "\n",
            "water-project Rep:  75      Dem:   120\n",
            "Ttest_indResult(statistic=0.08896538137868286, pvalue=0.9291556823993485)\n",
            "\n",
            "budget Rep:  22      Dem:   231\n",
            "Ttest_indResult(statistic=-23.21277691701378, pvalue=2.0703402795404463e-77)\n",
            "\n",
            "physician-fee-freeze Rep:  163      Dem:   14\n",
            "Ttest_indResult(statistic=49.36708157301406, pvalue=1.994262314074344e-177)\n",
            "\n",
            "el-salvador-aid Rep:  157      Dem:   55\n",
            "Ttest_indResult(statistic=21.13669261173219, pvalue=5.600520111729011e-68)\n",
            "\n",
            "religious-groups Rep:  149      Dem:   123\n",
            "Ttest_indResult(statistic=9.737575825219457, pvalue=2.3936722520597287e-20)\n",
            "\n",
            "anti-satellite-ban Rep:  39      Dem:   200\n",
            "Ttest_indResult(statistic=-12.526187929077842, pvalue=8.521033017443867e-31)\n",
            "\n",
            "aid-to-contras Rep:  24      Dem:   218\n",
            "Ttest_indResult(statistic=-18.052093200819733, pvalue=2.82471841372357e-54)\n",
            "\n",
            "mx-missile Rep:  19      Dem:   188\n",
            "Ttest_indResult(statistic=-16.437503268542994, pvalue=5.03079265310811e-47)\n",
            "\n",
            "immigration Rep:  92      Dem:   124\n",
            "Ttest_indResult(statistic=1.7359117329695164, pvalue=0.08330248490425066)\n",
            "\n",
            "synfuels Rep:  21      Dem:   129\n",
            "Ttest_indResult(statistic=-8.293603989407588, pvalue=1.5759322301054064e-15)\n",
            "\n",
            "education Rep:  135      Dem:   36\n",
            "Ttest_indResult(statistic=20.500685724563073, pvalue=1.8834203990450192e-64)\n",
            "\n",
            "right-to-sue Rep:  136      Dem:   73\n",
            "Ttest_indResult(statistic=13.51064251060933, pvalue=1.2278581709672758e-34)\n",
            "\n",
            "crime Rep:  158      Dem:   90\n",
            "Ttest_indResult(statistic=16.342085656197696, pvalue=9.952342705606092e-47)\n",
            "\n",
            "duty-free Rep:  14      Dem:   160\n",
            "Ttest_indResult(statistic=-12.853146132542978, pvalue=5.997697174347365e-32)\n",
            "\n",
            "south-africa Rep:  96      Dem:   173\n",
            "Ttest_indResult(statistic=-6.849454815841208, pvalue=3.652674361672226e-11)\n",
            "\n"
          ],
          "name": "stdout"
        }
      ]
    },
    {
      "cell_type": "code",
      "metadata": {
        "id": "L3vmbiL--mgj",
        "colab_type": "code",
        "colab": {
          "base_uri": "https://localhost:8080/",
          "height": 255
        },
        "outputId": "d6349c05-e69c-49ef-ec75-6b1fed6259eb"
      },
      "source": [
        "column_names = [\"bill\", \"rep\", \"dem\"]\n",
        "df_vote_counts = pd.DataFrame(columns = column_names)\n",
        "print(df)"
      ],
      "execution_count": 142,
      "outputs": [
        {
          "output_type": "stream",
          "text": [
            "          party  handicapped-infants  ...  duty-free  south-africa\n",
            "0    republican                  0.0  ...        0.0           1.0\n",
            "1    republican                  0.0  ...        0.0           nan\n",
            "2      democrat                  nan  ...        0.0           0.0\n",
            "3      democrat                  0.0  ...        0.0           1.0\n",
            "4      democrat                  1.0  ...        1.0           1.0\n",
            "..          ...                  ...  ...        ...           ...\n",
            "430  republican                  0.0  ...        0.0           1.0\n",
            "431    democrat                  0.0  ...        0.0           1.0\n",
            "432  republican                  0.0  ...        0.0           1.0\n",
            "433  republican                  0.0  ...        0.0           1.0\n",
            "434  republican                  0.0  ...        nan           0.0\n",
            "\n",
            "[435 rows x 17 columns]\n"
          ],
          "name": "stdout"
        }
      ]
    },
    {
      "cell_type": "code",
      "metadata": {
        "id": "gmLiDU_t-mjh",
        "colab_type": "code",
        "colab": {
          "base_uri": "https://localhost:8080/",
          "height": 221
        },
        "outputId": "77e7ceb9-5ebe-495b-c5e1-854359f704c1"
      },
      "source": [
        "cols1 = ['bill', 'rep', 'dem', 'tstat', 'pvalue']\n",
        "\n",
        "lst1 = []\n",
        "\n",
        "\n",
        "bills =['handicapped-infants','water-project','budget',\n",
        "        'physician-fee-freeze','el-salvador-aid','religious-groups',\n",
        "        'anti-satellite-ban','aid-to-contras','mx-missile','immigration',\n",
        "        'synfuels','education','right-to-sue','crime','duty-free',\n",
        "        'south-africa']\n",
        "\n",
        "for x in bills:\n",
        "  r = int(rep[x].sum())\n",
        "  d = int(dem[x].sum())\n",
        "  s = stats.ttest_ind(rep[x], dem[x], nan_policy='omit')\n",
        " \n",
        "\n",
        "  lst1.append([x,r,d, s[0], s[1]])\n",
        "\n",
        "\n",
        "pd.set_option('display.float_format', lambda x: '%.5f' % x)\n",
        "df_vc = pd.DataFrame(lst1, columns=cols1)\n",
        "\n",
        "print()\n",
        "\n",
        "df_vc.head()"
      ],
      "execution_count": 143,
      "outputs": [
        {
          "output_type": "stream",
          "text": [
            "\n"
          ],
          "name": "stdout"
        },
        {
          "output_type": "execute_result",
          "data": {
            "text/html": [
              "<div>\n",
              "<style scoped>\n",
              "    .dataframe tbody tr th:only-of-type {\n",
              "        vertical-align: middle;\n",
              "    }\n",
              "\n",
              "    .dataframe tbody tr th {\n",
              "        vertical-align: top;\n",
              "    }\n",
              "\n",
              "    .dataframe thead th {\n",
              "        text-align: right;\n",
              "    }\n",
              "</style>\n",
              "<table border=\"1\" class=\"dataframe\">\n",
              "  <thead>\n",
              "    <tr style=\"text-align: right;\">\n",
              "      <th></th>\n",
              "      <th>bill</th>\n",
              "      <th>rep</th>\n",
              "      <th>dem</th>\n",
              "      <th>tstat</th>\n",
              "      <th>pvalue</th>\n",
              "    </tr>\n",
              "  </thead>\n",
              "  <tbody>\n",
              "    <tr>\n",
              "      <th>0</th>\n",
              "      <td>handicapped-infants</td>\n",
              "      <td>31</td>\n",
              "      <td>156</td>\n",
              "      <td>-9.20526</td>\n",
              "      <td>0.00000</td>\n",
              "    </tr>\n",
              "    <tr>\n",
              "      <th>1</th>\n",
              "      <td>water-project</td>\n",
              "      <td>75</td>\n",
              "      <td>120</td>\n",
              "      <td>0.08897</td>\n",
              "      <td>0.92916</td>\n",
              "    </tr>\n",
              "    <tr>\n",
              "      <th>2</th>\n",
              "      <td>budget</td>\n",
              "      <td>22</td>\n",
              "      <td>231</td>\n",
              "      <td>-23.21278</td>\n",
              "      <td>0.00000</td>\n",
              "    </tr>\n",
              "    <tr>\n",
              "      <th>3</th>\n",
              "      <td>physician-fee-freeze</td>\n",
              "      <td>163</td>\n",
              "      <td>14</td>\n",
              "      <td>49.36708</td>\n",
              "      <td>0.00000</td>\n",
              "    </tr>\n",
              "    <tr>\n",
              "      <th>4</th>\n",
              "      <td>el-salvador-aid</td>\n",
              "      <td>157</td>\n",
              "      <td>55</td>\n",
              "      <td>21.13669</td>\n",
              "      <td>0.00000</td>\n",
              "    </tr>\n",
              "  </tbody>\n",
              "</table>\n",
              "</div>"
            ],
            "text/plain": [
              "                   bill  rep  dem     tstat  pvalue\n",
              "0   handicapped-infants   31  156  -9.20526 0.00000\n",
              "1         water-project   75  120   0.08897 0.92916\n",
              "2                budget   22  231 -23.21278 0.00000\n",
              "3  physician-fee-freeze  163   14  49.36708 0.00000\n",
              "4       el-salvador-aid  157   55  21.13669 0.00000"
            ]
          },
          "metadata": {
            "tags": []
          },
          "execution_count": 143
        }
      ]
    },
    {
      "cell_type": "code",
      "metadata": {
        "id": "WnvTSkTuGa99",
        "colab_type": "code",
        "colab": {
          "base_uri": "https://localhost:8080/",
          "height": 314
        },
        "outputId": "1471f6ea-6724-4aaa-fdd4-cfc81cae9e32"
      },
      "source": [
        "satisfies_pval = df_vc[(df_vc['pvalue'] <= 0.01) & (df_vc['dem'] > df_vc['rep'])]\n",
        "\n",
        "print(\"Using hypothesis testing, find an issue that democrats support more than republicans with p < 0.01\")\n",
        "satisfies_pval.head(16)"
      ],
      "execution_count": 153,
      "outputs": [
        {
          "output_type": "stream",
          "text": [
            "Using hypothesis testing, find an issue that democrats support more than republicans with p < 0.01\n"
          ],
          "name": "stdout"
        },
        {
          "output_type": "execute_result",
          "data": {
            "text/html": [
              "<div>\n",
              "<style scoped>\n",
              "    .dataframe tbody tr th:only-of-type {\n",
              "        vertical-align: middle;\n",
              "    }\n",
              "\n",
              "    .dataframe tbody tr th {\n",
              "        vertical-align: top;\n",
              "    }\n",
              "\n",
              "    .dataframe thead th {\n",
              "        text-align: right;\n",
              "    }\n",
              "</style>\n",
              "<table border=\"1\" class=\"dataframe\">\n",
              "  <thead>\n",
              "    <tr style=\"text-align: right;\">\n",
              "      <th></th>\n",
              "      <th>bill</th>\n",
              "      <th>rep</th>\n",
              "      <th>dem</th>\n",
              "      <th>tstat</th>\n",
              "      <th>pvalue</th>\n",
              "    </tr>\n",
              "  </thead>\n",
              "  <tbody>\n",
              "    <tr>\n",
              "      <th>0</th>\n",
              "      <td>handicapped-infants</td>\n",
              "      <td>31</td>\n",
              "      <td>156</td>\n",
              "      <td>-9.20526</td>\n",
              "      <td>0.00000</td>\n",
              "    </tr>\n",
              "    <tr>\n",
              "      <th>2</th>\n",
              "      <td>budget</td>\n",
              "      <td>22</td>\n",
              "      <td>231</td>\n",
              "      <td>-23.21278</td>\n",
              "      <td>0.00000</td>\n",
              "    </tr>\n",
              "    <tr>\n",
              "      <th>6</th>\n",
              "      <td>anti-satellite-ban</td>\n",
              "      <td>39</td>\n",
              "      <td>200</td>\n",
              "      <td>-12.52619</td>\n",
              "      <td>0.00000</td>\n",
              "    </tr>\n",
              "    <tr>\n",
              "      <th>7</th>\n",
              "      <td>aid-to-contras</td>\n",
              "      <td>24</td>\n",
              "      <td>218</td>\n",
              "      <td>-18.05209</td>\n",
              "      <td>0.00000</td>\n",
              "    </tr>\n",
              "    <tr>\n",
              "      <th>8</th>\n",
              "      <td>mx-missile</td>\n",
              "      <td>19</td>\n",
              "      <td>188</td>\n",
              "      <td>-16.43750</td>\n",
              "      <td>0.00000</td>\n",
              "    </tr>\n",
              "    <tr>\n",
              "      <th>10</th>\n",
              "      <td>synfuels</td>\n",
              "      <td>21</td>\n",
              "      <td>129</td>\n",
              "      <td>-8.29360</td>\n",
              "      <td>0.00000</td>\n",
              "    </tr>\n",
              "    <tr>\n",
              "      <th>14</th>\n",
              "      <td>duty-free</td>\n",
              "      <td>14</td>\n",
              "      <td>160</td>\n",
              "      <td>-12.85315</td>\n",
              "      <td>0.00000</td>\n",
              "    </tr>\n",
              "    <tr>\n",
              "      <th>15</th>\n",
              "      <td>south-africa</td>\n",
              "      <td>96</td>\n",
              "      <td>173</td>\n",
              "      <td>-6.84945</td>\n",
              "      <td>0.00000</td>\n",
              "    </tr>\n",
              "  </tbody>\n",
              "</table>\n",
              "</div>"
            ],
            "text/plain": [
              "                   bill  rep  dem     tstat  pvalue\n",
              "0   handicapped-infants   31  156  -9.20526 0.00000\n",
              "2                budget   22  231 -23.21278 0.00000\n",
              "6    anti-satellite-ban   39  200 -12.52619 0.00000\n",
              "7        aid-to-contras   24  218 -18.05209 0.00000\n",
              "8            mx-missile   19  188 -16.43750 0.00000\n",
              "10             synfuels   21  129  -8.29360 0.00000\n",
              "14            duty-free   14  160 -12.85315 0.00000\n",
              "15         south-africa   96  173  -6.84945 0.00000"
            ]
          },
          "metadata": {
            "tags": []
          },
          "execution_count": 153
        }
      ]
    },
    {
      "cell_type": "code",
      "metadata": {
        "id": "-XpCciNkboQ5",
        "colab_type": "code",
        "colab": {
          "base_uri": "https://localhost:8080/",
          "height": 252
        },
        "outputId": "f56f5524-dadf-4c0f-8824-55b95dda9feb"
      },
      "source": [
        "satisfies_pval = df_vc[(df_vc['pvalue'] <= 0.01) & (df_vc['rep'] > df_vc['dem'])]\n",
        "\n",
        "print(\"Using hypothesis testing, find an issue that republicans support more than democrats with p < 0.01\")\n",
        "satisfies_pval.head(16)"
      ],
      "execution_count": 152,
      "outputs": [
        {
          "output_type": "stream",
          "text": [
            "Using hypothesis testing, find an issue that republicans support more than democrats with p < 0.01\n"
          ],
          "name": "stdout"
        },
        {
          "output_type": "execute_result",
          "data": {
            "text/html": [
              "<div>\n",
              "<style scoped>\n",
              "    .dataframe tbody tr th:only-of-type {\n",
              "        vertical-align: middle;\n",
              "    }\n",
              "\n",
              "    .dataframe tbody tr th {\n",
              "        vertical-align: top;\n",
              "    }\n",
              "\n",
              "    .dataframe thead th {\n",
              "        text-align: right;\n",
              "    }\n",
              "</style>\n",
              "<table border=\"1\" class=\"dataframe\">\n",
              "  <thead>\n",
              "    <tr style=\"text-align: right;\">\n",
              "      <th></th>\n",
              "      <th>bill</th>\n",
              "      <th>rep</th>\n",
              "      <th>dem</th>\n",
              "      <th>tstat</th>\n",
              "      <th>pvalue</th>\n",
              "    </tr>\n",
              "  </thead>\n",
              "  <tbody>\n",
              "    <tr>\n",
              "      <th>3</th>\n",
              "      <td>physician-fee-freeze</td>\n",
              "      <td>163</td>\n",
              "      <td>14</td>\n",
              "      <td>49.36708</td>\n",
              "      <td>0.00000</td>\n",
              "    </tr>\n",
              "    <tr>\n",
              "      <th>4</th>\n",
              "      <td>el-salvador-aid</td>\n",
              "      <td>157</td>\n",
              "      <td>55</td>\n",
              "      <td>21.13669</td>\n",
              "      <td>0.00000</td>\n",
              "    </tr>\n",
              "    <tr>\n",
              "      <th>5</th>\n",
              "      <td>religious-groups</td>\n",
              "      <td>149</td>\n",
              "      <td>123</td>\n",
              "      <td>9.73758</td>\n",
              "      <td>0.00000</td>\n",
              "    </tr>\n",
              "    <tr>\n",
              "      <th>11</th>\n",
              "      <td>education</td>\n",
              "      <td>135</td>\n",
              "      <td>36</td>\n",
              "      <td>20.50069</td>\n",
              "      <td>0.00000</td>\n",
              "    </tr>\n",
              "    <tr>\n",
              "      <th>12</th>\n",
              "      <td>right-to-sue</td>\n",
              "      <td>136</td>\n",
              "      <td>73</td>\n",
              "      <td>13.51064</td>\n",
              "      <td>0.00000</td>\n",
              "    </tr>\n",
              "    <tr>\n",
              "      <th>13</th>\n",
              "      <td>crime</td>\n",
              "      <td>158</td>\n",
              "      <td>90</td>\n",
              "      <td>16.34209</td>\n",
              "      <td>0.00000</td>\n",
              "    </tr>\n",
              "  </tbody>\n",
              "</table>\n",
              "</div>"
            ],
            "text/plain": [
              "                    bill  rep  dem    tstat  pvalue\n",
              "3   physician-fee-freeze  163   14 49.36708 0.00000\n",
              "4        el-salvador-aid  157   55 21.13669 0.00000\n",
              "5       religious-groups  149  123  9.73758 0.00000\n",
              "11             education  135   36 20.50069 0.00000\n",
              "12          right-to-sue  136   73 13.51064 0.00000\n",
              "13                 crime  158   90 16.34209 0.00000"
            ]
          },
          "metadata": {
            "tags": []
          },
          "execution_count": 152
        }
      ]
    },
    {
      "cell_type": "code",
      "metadata": {
        "id": "PZfF80nkboXq",
        "colab_type": "code",
        "colab": {
          "base_uri": "https://localhost:8080/",
          "height": 114
        },
        "outputId": "c01b9a16-12f6-4bc8-a2d6-f6feff5d7eb5"
      },
      "source": [
        "satisfies_pval = df_vc[(df_vc['pvalue'] >= 0.1)]\n",
        "\n",
        "print(\"Using hypothesis testing,\")\n",
        "print(\"find an issue where the difference between reps and dems that has p > 0.1\")\n",
        "satisfies_pval.head(16)"
      ],
      "execution_count": 155,
      "outputs": [
        {
          "output_type": "stream",
          "text": [
            "Using hypothesis testing,\n",
            "find an issue where the difference between reps and dems that has p > 0.1\n"
          ],
          "name": "stdout"
        },
        {
          "output_type": "execute_result",
          "data": {
            "text/html": [
              "<div>\n",
              "<style scoped>\n",
              "    .dataframe tbody tr th:only-of-type {\n",
              "        vertical-align: middle;\n",
              "    }\n",
              "\n",
              "    .dataframe tbody tr th {\n",
              "        vertical-align: top;\n",
              "    }\n",
              "\n",
              "    .dataframe thead th {\n",
              "        text-align: right;\n",
              "    }\n",
              "</style>\n",
              "<table border=\"1\" class=\"dataframe\">\n",
              "  <thead>\n",
              "    <tr style=\"text-align: right;\">\n",
              "      <th></th>\n",
              "      <th>bill</th>\n",
              "      <th>rep</th>\n",
              "      <th>dem</th>\n",
              "      <th>tstat</th>\n",
              "      <th>pvalue</th>\n",
              "    </tr>\n",
              "  </thead>\n",
              "  <tbody>\n",
              "    <tr>\n",
              "      <th>1</th>\n",
              "      <td>water-project</td>\n",
              "      <td>75</td>\n",
              "      <td>120</td>\n",
              "      <td>0.08897</td>\n",
              "      <td>0.92916</td>\n",
              "    </tr>\n",
              "  </tbody>\n",
              "</table>\n",
              "</div>"
            ],
            "text/plain": [
              "            bill  rep  dem   tstat  pvalue\n",
              "1  water-project   75  120 0.08897 0.92916"
            ]
          },
          "metadata": {
            "tags": []
          },
          "execution_count": 155
        }
      ]
    },
    {
      "cell_type": "code",
      "metadata": {
        "id": "bmqPy0btYP_Y",
        "colab_type": "code",
        "colab": {}
      },
      "source": [
        ""
      ],
      "execution_count": 0,
      "outputs": []
    },
    {
      "cell_type": "code",
      "metadata": {
        "id": "_3UwpmPkYQL5",
        "colab_type": "code",
        "colab": {}
      },
      "source": [
        ""
      ],
      "execution_count": 0,
      "outputs": []
    },
    {
      "cell_type": "code",
      "metadata": {
        "id": "z3HoEyb_YQed",
        "colab_type": "code",
        "colab": {}
      },
      "source": [
        ""
      ],
      "execution_count": 0,
      "outputs": []
    },
    {
      "cell_type": "code",
      "metadata": {
        "id": "hdGYwJ8eYQyg",
        "colab_type": "code",
        "colab": {}
      },
      "source": [
        ""
      ],
      "execution_count": 0,
      "outputs": []
    },
    {
      "cell_type": "code",
      "metadata": {
        "id": "glFFKtGHYQ1s",
        "colab_type": "code",
        "colab": {}
      },
      "source": [
        ""
      ],
      "execution_count": 0,
      "outputs": []
    },
    {
      "cell_type": "code",
      "metadata": {
        "id": "_wF4e4EkYQ4y",
        "colab_type": "code",
        "colab": {}
      },
      "source": [
        ""
      ],
      "execution_count": 0,
      "outputs": []
    },
    {
      "cell_type": "code",
      "metadata": {
        "id": "Lun8FPFeS1AC",
        "colab_type": "code",
        "colab": {}
      },
      "source": [
        ""
      ],
      "execution_count": 0,
      "outputs": []
    },
    {
      "cell_type": "markdown",
      "metadata": {
        "id": "wcA_AvvRAqW_",
        "colab_type": "text"
      },
      "source": [
        "## Stretch Goals:\n",
        "\n",
        "1. Refactor your code into functions so it's easy to rerun with arbitrary variables\n",
        "2. Work on Performing a T-test without using Scipy in order to get \"under the hood\" and learn more thoroughly about this topic.\n",
        "### Start with a 1-sample t-test\n",
        " - Establish the conditions for your test \n",
        " - [Calculate the T Statistic](https://blog.minitab.com/hs-fs/hubfs/Imported_Blog_Media/701f9c0efa98a38fb397f3c3ec459b66.png?width=247&height=172&name=701f9c0efa98a38fb397f3c3ec459b66.png) (You'll need to omit NaN values from your sample).\n",
        " - Translate that t-statistic into a P-value. You can use a [table](https://www.google.com/search?q=t+statistic+table) or the [University of Iowa Applet](https://homepage.divms.uiowa.edu/~mbognar/applets/t.html)\n",
        "\n",
        " ### Then try a 2-sample t-test\n",
        " - Establish the conditions for your test \n",
        " - [Calculate the T Statistic](https://lh3.googleusercontent.com/proxy/rJJ5ZOL9ZDvKOOeBihXoZDgfk7uv1YsRzSQ1Tc10RX-r2HrRpRLVqlE9CWX23csYQXcTniFwlBg3H-qR8MKJPBGnjwndqlhDX3JxoDE5Yg) (You'll need to omit NaN values from your sample).\n",
        " - Translate that t-statistic into a P-value. You can use a [table](https://www.google.com/search?q=t+statistic+table) or the [University of Iowa Applet](https://homepage.divms.uiowa.edu/~mbognar/applets/t.html)\n",
        "\n",
        " ### Then check your Answers using Scipy!"
      ]
    },
    {
      "cell_type": "code",
      "metadata": {
        "id": "dPmXOHh1Cfea",
        "colab_type": "code",
        "colab": {}
      },
      "source": [
        ""
      ],
      "execution_count": 0,
      "outputs": []
    }
  ]
}