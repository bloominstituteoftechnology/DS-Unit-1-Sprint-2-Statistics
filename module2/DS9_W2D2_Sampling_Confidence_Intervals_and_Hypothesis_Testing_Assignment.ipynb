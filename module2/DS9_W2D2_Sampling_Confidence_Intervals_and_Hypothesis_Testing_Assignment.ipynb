{
  "nbformat": 4,
  "nbformat_minor": 0,
  "metadata": {
    "colab": {
      "name": "DS9_W2D2_Sampling_Confidence_Intervals_and_Hypothesis_Testing_Assignment.ipynb",
      "provenance": [],
      "collapsed_sections": [
        "8lrmez317ddb",
        "OGr4v6n2Rsr4",
        "hWbfywMhRpl-",
        "c9BVdTwXS9at"
      ],
      "include_colab_link": true
    },
    "kernelspec": {
      "name": "python3",
      "display_name": "Python 3"
    }
  },
  "cells": [
    {
      "cell_type": "markdown",
      "metadata": {
        "id": "view-in-github",
        "colab_type": "text"
      },
      "source": [
        "<a href=\"https://colab.research.google.com/github/IshGish/DS-Unit-1-Sprint-2-Statistics/blob/master/module2/DS9_W2D2_Sampling_Confidence_Intervals_and_Hypothesis_Testing_Assignment.ipynb\" target=\"_parent\"><img src=\"https://colab.research.google.com/assets/colab-badge.svg\" alt=\"Open In Colab\"/></a>"
      ]
    },
    {
      "cell_type": "markdown",
      "metadata": {
        "id": "11OzdxWTM7UR",
        "colab_type": "text"
      },
      "source": [
        "## Assignment - Build a confidence interval\n",
        "\n",
        "A confidence interval refers to a neighborhood around some point estimate, the size of which is determined by the desired p-value. For instance, we might say that 52% of Americans prefer tacos to burritos, with a 95% confidence interval of +/- 5%.\n",
        "\n",
        "52% (0.52) is the point estimate, and +/- 5% (the interval $[0.47, 0.57]$) is the confidence interval. \"95% confidence\" means a p-value $\\leq 1 - 0.95 = 0.05$.\n",
        "\n",
        "In this case, the confidence interval includes $0.5$ - which is the natural null hypothesis (that half of Americans prefer tacos and half burritos, thus there is no clear favorite). So in this case, we could use the confidence interval to report that we've failed to reject the null hypothesis.\n",
        "\n",
        "But providing the full analysis with a confidence interval, including a graphical representation of it, can be a helpful and powerful way to tell your story. Done well, it is also more intuitive to a layperson than simply saying \"fail to reject the null hypothesis\" - it shows that in fact the data does *not* give a single clear result (the point estimate) but a whole range of possibilities.\n",
        "\n",
        "How is a confidence interval built, and how should it be interpreted? It does *not* mean that 95% of the data lies in that interval - instead, the frequentist interpretation is \"if we were to repeat this experiment 100 times, we would expect the average result to lie in this interval ~95 times.\"\n",
        "\n",
        "For a 95% confidence interval and a normal(-ish) distribution, you can simply remember that +/-2 standard deviations contains 95% of the probability mass, and so the 95% confidence interval based on a given sample is centered at the mean (point estimate) and has a range of +/- 2 (or technically 1.96) standard deviations.\n",
        "\n",
        "Different distributions/assumptions (90% confidence, 99% confidence) will require different math, but the overall process and interpretation (with a frequentist approach) will be the same.\n",
        "\n",
        "Your assignment - using the data from the prior module ([congressional voting records](https://archive.ics.uci.edu/ml/datasets/Congressional+Voting+Records)):\n"
      ]
    },
    {
      "cell_type": "markdown",
      "metadata": {
        "id": "8lrmez317ddb",
        "colab_type": "text"
      },
      "source": [
        "### Confidence Intervals:"
      ]
    },
    {
      "cell_type": "code",
      "metadata": {
        "id": "tvT417nK7_wp",
        "colab_type": "code",
        "colab": {}
      },
      "source": [
        "import pandas as pd\n",
        "import numpy as np\n",
        "from scipy.stats import sem, t, ttest_1samp, ttest_ind\n",
        "from scipy import mean\n",
        "import matplotlib.pyplot as plt\n",
        "\n",
        "df = pd.read_csv('https://archive.ics.uci.edu/ml/machine-learning-databases/voting-records/house-votes-84.data'\n",
        "                 ,header= None\n",
        "                 ,names = ['party','handicapped-infants','water-project','budget',\n",
        "                          'physician-fee-freeze', 'el-salvador-aid',\n",
        "                          'religious-groups','anti-satellite-ban',\n",
        "                          'aid-to-contras','mx-missile','immigration','synfuels',\n",
        "                          'education', 'right-to-sue','crime','duty-free',\n",
        "                          'south-africa'\n",
        "                          ])\n",
        "# Data Cleaning\n",
        "df = df.replace({'?': np.NaN\n",
        "                ,'y': 1\n",
        "                ,'n': 0\n",
        "                })\n",
        "\n",
        "rep = df[df['party'] == 'republican']\n",
        "dem = df[df['party'] == 'democrat']"
      ],
      "execution_count": 0,
      "outputs": []
    },
    {
      "cell_type": "code",
      "metadata": {
        "id": "_kKhkAscKnp7",
        "colab_type": "code",
        "colab": {}
      },
      "source": [
        "# Functions\n",
        "def confidence_interval(df_c, confidence):\n",
        "    # I know this could be a lot better because this breaks as soon as anything\n",
        "    # that's not a dataframe column is passed but I don't think we're up to the\n",
        "    # point we can catch errors and I'm not reusing most of this code.\n",
        "    \n",
        "    array = df_c.dropna().to_numpy()\n",
        "    CI = t.interval(confidence\n",
        "                   ,len(array) - 1\n",
        "                   ,loc = mean(array)\n",
        "                   ,scale = sem(array)\n",
        "                   )\n",
        "    \n",
        "    # For later reference:\n",
        "    # CI = t.interval(Confidence you want to have\n",
        "    #     Degrees of Freedom (length of the array minus one)\n",
        "    #     loc = Mean of the Array\n",
        "    #     scale = Standard Error of the Mean of the Array\n",
        "    return mean(array), CI[0], CI[1]\n"
      ],
      "execution_count": 0,
      "outputs": []
    },
    {
      "cell_type": "markdown",
      "metadata": {
        "id": "OGr4v6n2Rsr4",
        "colab_type": "text"
      },
      "source": [
        "### 1. Generate and numerically represent a confidence interval"
      ]
    },
    {
      "cell_type": "code",
      "metadata": {
        "id": "Ckcr4A4FM7cs",
        "colab_type": "code",
        "colab": {
          "base_uri": "https://localhost:8080/",
          "height": 72
        },
        "outputId": "12a0e57d-183b-4b8b-d107-f3f96937dd13"
      },
      "source": [
        "CI = confidence_interval(dem['el-salvador-aid'], 0.95)\n",
        "print(\"95% Confidence Interval: \", CI[1], CI[2])\n",
        "\n",
        "print(\"my number\", CI[1] + abs(CI[1] - CI[2]) / 2)\n",
        "print(\"the mean\", CI[0])"
      ],
      "execution_count": 375,
      "outputs": [
        {
          "output_type": "stream",
          "text": [
            "95% Confidence Interval:  0.1648631139997972 0.26650943501981067\n",
            "my number 0.21568627450980393\n",
            "the mean 0.21568627450980393\n"
          ],
          "name": "stdout"
        }
      ]
    },
    {
      "cell_type": "markdown",
      "metadata": {
        "id": "hWbfywMhRpl-",
        "colab_type": "text"
      },
      "source": [
        "### 2. Graphically (with a plot) represent the confidence interval"
      ]
    },
    {
      "cell_type": "code",
      "metadata": {
        "id": "iZsQczum7iY7",
        "colab_type": "code",
        "colab": {
          "base_uri": "https://localhost:8080/",
          "height": 283
        },
        "outputId": "81e9dae5-8921-4259-ef8e-0a23b1953382"
      },
      "source": [
        "import seaborn as sns\n",
        "\n",
        "array = df['el-salvador-aid'].dropna().to_numpy()\n",
        "CI = confidence_interval(dem['el-salvador-aid'], 0.95)\n",
        "\n",
        "sns.kdeplot(array)\n",
        "plt.axvline(x = CI[1], color = 'red')\n",
        "plt.axvline(x = CI[2], color = 'red')\n",
        "plt.axvline(x = CI[0], color = 'k')\n",
        "\n",
        "plt.show()\n"
      ],
      "execution_count": 377,
      "outputs": [
        {
          "output_type": "display_data",
          "data": {
            "image/png": "[encoded data removed]",
            "text/plain": [
              "<Figure size 432x288 with 1 Axes>"
            ]
          },
          "metadata": {
            "tags": []
          }
        }
      ]
    },
    {
      "cell_type": "markdown",
      "metadata": {
        "id": "c9BVdTwXS9at",
        "colab_type": "text"
      },
      "source": [
        "### 3. Interpret the confidence interval - what does it tell you about the data and its distribution?"
      ]
    },
    {
      "cell_type": "code",
      "metadata": {
        "id": "3wBH43GL7jSp",
        "colab_type": "code",
        "colab": {}
      },
      "source": [
        "# Our sample's mean should be a reflection of the population's mean,\n",
        "# plus our minus a margin of error based on our level of confidence;\n",
        "# The Confidence Interval"
      ],
      "execution_count": 0,
      "outputs": []
    },
    {
      "cell_type": "markdown",
      "metadata": {
        "id": "W3zcRT39Xczb",
        "colab_type": "text"
      },
      "source": [
        "## Chi-squared tests:"
      ]
    },
    {
      "cell_type": "markdown",
      "metadata": {
        "id": "Bc_-BvXE7dfy",
        "colab_type": "text"
      },
      "source": [
        "### 4. Take a dataset that we have used in the past in class that has **categorical** variables. Pick two of those categorical variables and run a chi-squared tests on that data"
      ]
    },
    {
      "cell_type": "code",
      "metadata": {
        "id": "Nip9CwPVZNyQ",
        "colab_type": "code",
        "colab": {
          "base_uri": "https://localhost:8080/",
          "height": 206
        },
        "outputId": "06f0c47e-9528-4e47-f20d-fae1ee0635a4"
      },
      "source": [
        "from scipy.stats import chisquare\n",
        "\n",
        "df = pd.read_csv('https://archive.ics.uci.edu/ml/machine-learning-databases/iris/iris.data'\n",
        "                ,header= None\n",
        "                ,names = ['sepal length', 'sepal width', \n",
        "                          'petal length', 'petal width', \n",
        "                          'class']\n",
        "                )\n",
        "# Data Cleaning - None needed\n",
        "\n",
        "# Measurements in cm\n",
        "df.head()"
      ],
      "execution_count": 461,
      "outputs": [
        {
          "output_type": "execute_result",
          "data": {
            "text/html": [
              "<div>\n",
              "<style scoped>\n",
              "    .dataframe tbody tr th:only-of-type {\n",
              "        vertical-align: middle;\n",
              "    }\n",
              "\n",
              "    .dataframe tbody tr th {\n",
              "        vertical-align: top;\n",
              "    }\n",
              "\n",
              "    .dataframe thead th {\n",
              "        text-align: right;\n",
              "    }\n",
              "</style>\n",
              "<table border=\"1\" class=\"dataframe\">\n",
              "  <thead>\n",
              "    <tr style=\"text-align: right;\">\n",
              "      <th></th>\n",
              "      <th>sepal length</th>\n",
              "      <th>sepal width</th>\n",
              "      <th>petal length</th>\n",
              "      <th>petal width</th>\n",
              "      <th>class</th>\n",
              "    </tr>\n",
              "  </thead>\n",
              "  <tbody>\n",
              "    <tr>\n",
              "      <th>0</th>\n",
              "      <td>5.1</td>\n",
              "      <td>3.5</td>\n",
              "      <td>1.4</td>\n",
              "      <td>0.2</td>\n",
              "      <td>Iris-setosa</td>\n",
              "    </tr>\n",
              "    <tr>\n",
              "      <th>1</th>\n",
              "      <td>4.9</td>\n",
              "      <td>3.0</td>\n",
              "      <td>1.4</td>\n",
              "      <td>0.2</td>\n",
              "      <td>Iris-setosa</td>\n",
              "    </tr>\n",
              "    <tr>\n",
              "      <th>2</th>\n",
              "      <td>4.7</td>\n",
              "      <td>3.2</td>\n",
              "      <td>1.3</td>\n",
              "      <td>0.2</td>\n",
              "      <td>Iris-setosa</td>\n",
              "    </tr>\n",
              "    <tr>\n",
              "      <th>3</th>\n",
              "      <td>4.6</td>\n",
              "      <td>3.1</td>\n",
              "      <td>1.5</td>\n",
              "      <td>0.2</td>\n",
              "      <td>Iris-setosa</td>\n",
              "    </tr>\n",
              "    <tr>\n",
              "      <th>4</th>\n",
              "      <td>5.0</td>\n",
              "      <td>3.6</td>\n",
              "      <td>1.4</td>\n",
              "      <td>0.2</td>\n",
              "      <td>Iris-setosa</td>\n",
              "    </tr>\n",
              "  </tbody>\n",
              "</table>\n",
              "</div>"
            ],
            "text/plain": [
              "   sepal length  sepal width  petal length  petal width        class\n",
              "0           5.1          3.5           1.4          0.2  Iris-setosa\n",
              "1           4.9          3.0           1.4          0.2  Iris-setosa\n",
              "2           4.7          3.2           1.3          0.2  Iris-setosa\n",
              "3           4.6          3.1           1.5          0.2  Iris-setosa\n",
              "4           5.0          3.6           1.4          0.2  Iris-setosa"
            ]
          },
          "metadata": {
            "tags": []
          },
          "execution_count": 461
        }
      ]
    },
    {
      "cell_type": "markdown",
      "metadata": {
        "id": "SHKPIKgGKMYB",
        "colab_type": "text"
      },
      "source": [
        "####   - By hand using Numpy\n",
        "\n",
        "Failed"
      ]
    },
    {
      "cell_type": "code",
      "metadata": {
        "id": "zhgmo0cWmB-p",
        "colab_type": "code",
        "colab": {
          "base_uri": "https://localhost:8080/",
          "height": 72
        },
        "outputId": "20a3e305-4162-4b2b-9ee3-88ee4a190fcb"
      },
      "source": [
        "df['sepal length'].unique()"
      ],
      "execution_count": 445,
      "outputs": [
        {
          "output_type": "execute_result",
          "data": {
            "text/plain": [
              "array([5.1, 4.9, 4.7, 4.6, 5. , 5.4, 4.4, 4.8, 4.3, 5.8, 5.7, 5.2, 5.5,\n",
              "       4.5, 5.3, 7. , 6.4, 6.9, 6.5, 6.3, 6.6, 5.9, 6. , 6.1, 5.6, 6.7,\n",
              "       6.2, 6.8, 7.1, 7.6, 7.3, 7.2, 7.7, 7.4, 7.9])"
            ]
          },
          "metadata": {
            "tags": []
          },
          "execution_count": 445
        }
      ]
    },
    {
      "cell_type": "code",
      "metadata": {
        "id": "ejy5_8tb7w3n",
        "colab_type": "code",
        "colab": {
          "base_uri": "https://localhost:8080/",
          "height": 206
        },
        "outputId": "e1b01525-d78e-4eb0-ed70-c96a35376fb7"
      },
      "source": [
        "bins = [4.0\n",
        "       ,4.4\n",
        "       ,4.9\n",
        "       ,5.4\n",
        "       ,5.9\n",
        "       ,6.4\n",
        "       ,6.9\n",
        "       ,7\n",
        "       ]\n",
        "\n",
        "bin_labels = ['4.0 - 4.4'\n",
        "             ,'4.5 - 4.9'\n",
        "             ,'5.0 - 5.4'\n",
        "             ,'5.5 - 5.9'\n",
        "             ,'6.0 - 6.4'\n",
        "             ,'6.5 - 6.9'\n",
        "             ,'7.0+'\n",
        "             ]\n",
        "\n",
        "df['sepal length bins'] = pd.cut(df['sepal length'], bins, labels = bin_labels)\n",
        "df['sepal length bins'].value_counts()\n",
        "\n",
        "table = pd.crosstab(df['class'], df['sepal length bins'], margins=True)\n",
        "table"
      ],
      "execution_count": 462,
      "outputs": [
        {
          "output_type": "execute_result",
          "data": {
            "text/html": [
              "<div>\n",
              "<style scoped>\n",
              "    .dataframe tbody tr th:only-of-type {\n",
              "        vertical-align: middle;\n",
              "    }\n",
              "\n",
              "    .dataframe tbody tr th {\n",
              "        vertical-align: top;\n",
              "    }\n",
              "\n",
              "    .dataframe thead th {\n",
              "        text-align: right;\n",
              "    }\n",
              "</style>\n",
              "<table border=\"1\" class=\"dataframe\">\n",
              "  <thead>\n",
              "    <tr style=\"text-align: right;\">\n",
              "      <th>sepal length bins</th>\n",
              "      <th>4.0 - 4.4</th>\n",
              "      <th>4.5 - 4.9</th>\n",
              "      <th>5.0 - 5.4</th>\n",
              "      <th>5.5 - 5.9</th>\n",
              "      <th>6.0 - 6.4</th>\n",
              "      <th>6.5 - 6.9</th>\n",
              "      <th>7.0+</th>\n",
              "      <th>All</th>\n",
              "    </tr>\n",
              "    <tr>\n",
              "      <th>class</th>\n",
              "      <th></th>\n",
              "      <th></th>\n",
              "      <th></th>\n",
              "      <th></th>\n",
              "      <th></th>\n",
              "      <th></th>\n",
              "      <th></th>\n",
              "      <th></th>\n",
              "    </tr>\n",
              "  </thead>\n",
              "  <tbody>\n",
              "    <tr>\n",
              "      <th>Iris-setosa</th>\n",
              "      <td>4</td>\n",
              "      <td>16</td>\n",
              "      <td>25</td>\n",
              "      <td>5</td>\n",
              "      <td>0</td>\n",
              "      <td>0</td>\n",
              "      <td>0</td>\n",
              "      <td>50</td>\n",
              "    </tr>\n",
              "    <tr>\n",
              "      <th>Iris-versicolor</th>\n",
              "      <td>0</td>\n",
              "      <td>1</td>\n",
              "      <td>5</td>\n",
              "      <td>20</td>\n",
              "      <td>15</td>\n",
              "      <td>8</td>\n",
              "      <td>1</td>\n",
              "      <td>50</td>\n",
              "    </tr>\n",
              "    <tr>\n",
              "      <th>Iris-virginica</th>\n",
              "      <td>0</td>\n",
              "      <td>1</td>\n",
              "      <td>0</td>\n",
              "      <td>6</td>\n",
              "      <td>17</td>\n",
              "      <td>14</td>\n",
              "      <td>0</td>\n",
              "      <td>38</td>\n",
              "    </tr>\n",
              "    <tr>\n",
              "      <th>All</th>\n",
              "      <td>30</td>\n",
              "      <td>18</td>\n",
              "      <td>4</td>\n",
              "      <td>31</td>\n",
              "      <td>22</td>\n",
              "      <td>1</td>\n",
              "      <td>32</td>\n",
              "      <td>138</td>\n",
              "    </tr>\n",
              "  </tbody>\n",
              "</table>\n",
              "</div>"
            ],
            "text/plain": [
              "sepal length bins  4.0 - 4.4  4.5 - 4.9  5.0 - 5.4  ...  6.5 - 6.9  7.0+  All\n",
              "class                                               ...                      \n",
              "Iris-setosa                4         16         25  ...          0     0   50\n",
              "Iris-versicolor            0          1          5  ...          8     1   50\n",
              "Iris-virginica             0          1          0  ...         14     0   38\n",
              "All                       30         18          4  ...          1    32  138\n",
              "\n",
              "[4 rows x 8 columns]"
            ]
          },
          "metadata": {
            "tags": []
          },
          "execution_count": 462
        }
      ]
    },
    {
      "cell_type": "code",
      "metadata": {
        "id": "4eY13TXovGxo",
        "colab_type": "code",
        "colab": {
          "base_uri": "https://localhost:8080/",
          "height": 72
        },
        "outputId": "24951018-deb9-42b8-9a5e-79073b15c89c"
      },
      "source": [
        "Iris_setosa_count     = table.iloc[0][:7].values\n",
        "Iris_versicolor_count = table.iloc[1][:7].values\n",
        "Iris_virginica_count  = table.iloc[2][:7].values\n",
        "\n",
        "print(''\n",
        "     ,Iris_setosa_count\n",
        "     ,'\\n'\n",
        "     ,Iris_versicolor_count\n",
        "     ,'\\n'\n",
        "     ,Iris_virginica_count\n",
        "     )"
      ],
      "execution_count": 463,
      "outputs": [
        {
          "output_type": "stream",
          "text": [
            " [ 4 16 25  5  0  0  0] \n",
            " [ 0  1  5 20 15  8  1] \n",
            " [ 0  1  0  6 17 14  0]\n"
          ],
          "name": "stdout"
        }
      ]
    },
    {
      "cell_type": "code",
      "metadata": {
        "id": "Tg5gkwDhyHa0",
        "colab_type": "code",
        "colab": {
          "base_uri": "https://localhost:8080/",
          "height": 352
        },
        "outputId": "38c86a6b-71df-45cc-bc33-b42f62dbd7a3"
      },
      "source": [
        "import matplotlib.pyplot as plt\n",
        "import seaborn as sns\n",
        "\n",
        "#Plots the bar chart\n",
        "fig = plt.figure(figsize=(10, 5))\n",
        "sns.set(font_scale=1.8)\n",
        "\n",
        "p1 = plt.bar(bin_labels, Iris_setosa_count, -0.3, color='#ca33ffb3', align='edge')\n",
        "p2 = plt.bar(bin_labels, Iris_versicolor_count, 0.3, color='#8033ffb3', align='center')\n",
        "p3 = plt.bar(bin_labels, Iris_virginica_count, 0.3, color='#ff333cb3', align='edge')\n",
        "\n",
        "plt.legend((p2[0], p1[0], p3[0]), ('Iris-setosa', 'Iris-versicolor', 'Iris-virginica'))\n",
        "\n",
        "plt.xlabel('Sepal length bins')\n",
        "plt.xticks(fontsize=10)\n",
        "plt.ylabel('Counts')\n",
        "plt.yticks(fontsize=10)\n",
        "\n",
        "plt.show()"
      ],
      "execution_count": 464,
      "outputs": [
        {
          "output_type": "display_data",
          "data": {
            "image/png": "[encoded data removed]",
            "text/plain": [
              "<Figure size 720x360 with 1 Axes>"
            ]
          },
          "metadata": {
            "tags": []
          }
        }
      ]
    },
    {
      "cell_type": "code",
      "metadata": {
        "id": "63G6UJHd5kDN",
        "colab_type": "code",
        "colab": {
          "base_uri": "https://localhost:8080/",
          "height": 72
        },
        "outputId": "56d67617-42cb-4884-bd16-e1d87304aacb"
      },
      "source": [
        "row_sums = table.iloc[:3, 7].values\n",
        "col_sums = table.iloc[3, :7].values\n",
        "total    = table.loc['All','All']\n",
        "\n",
        "print(row_sums)\n",
        "print(col_sums)\n",
        "print(total)"
      ],
      "execution_count": 465,
      "outputs": [
        {
          "output_type": "stream",
          "text": [
            "[50 50 38]\n",
            "[30 18  4 31 22  1 32]\n",
            "138\n"
          ],
          "name": "stdout"
        }
      ]
    },
    {
      "cell_type": "code",
      "metadata": {
        "id": "i-eq6Wah5dR2",
        "colab_type": "code",
        "colab": {
          "base_uri": "https://localhost:8080/",
          "height": 146
        },
        "outputId": "542de871-48be-47e8-f779-75e3ea060842"
      },
      "source": [
        "# I've spent too much time on this already so I copied this over, but\n",
        "# I have no idea what this is even meant to be doing, it's damn hard to read.\n",
        "# I tried to make it more legible but it didn't really help.\n",
        "\n",
        "expected = []\n",
        "for number in range(len(row_sums)):\n",
        "  expected_row = []\n",
        "  for column in col_sums:\n",
        "    expected_val = column * row_sums[number] / total\n",
        "    expected_row.append(expected_val)\n",
        "  expected.append(expected_row)\n",
        "\n",
        "expected = np.array(expected)\n",
        "print(expected.shape)  \n",
        "print(expected)\n",
        "\n",
        "# There's also something seriously wrong with this output."
      ],
      "execution_count": 496,
      "outputs": [
        {
          "output_type": "stream",
          "text": [
            "(3, 7)\n",
            "[[10.86956522  6.52173913  1.44927536 11.23188406  7.97101449  0.36231884\n",
            "  11.5942029 ]\n",
            " [10.86956522  6.52173913  1.44927536 11.23188406  7.97101449  0.36231884\n",
            "  11.5942029 ]\n",
            " [ 8.26086957  4.95652174  1.10144928  8.53623188  6.05797101  0.27536232\n",
            "   8.8115942 ]]\n"
          ],
          "name": "stdout"
        }
      ]
    },
    {
      "cell_type": "code",
      "metadata": {
        "id": "LLpgUj7A5dUN",
        "colab_type": "code",
        "colab": {
          "base_uri": "https://localhost:8080/",
          "height": 90
        },
        "outputId": "49de6825-9f8e-4c86-ed2b-38b5d58cbc78"
      },
      "source": [
        "observed = pd.crosstab(df['class'], df['sepal length bins']).values\n",
        "print(observed.shape)\n",
        "observed"
      ],
      "execution_count": 495,
      "outputs": [
        {
          "output_type": "stream",
          "text": [
            "(3, 7)\n"
          ],
          "name": "stdout"
        },
        {
          "output_type": "execute_result",
          "data": {
            "text/plain": [
              "array([[ 4, 16, 25,  5,  0,  0,  0],\n",
              "       [ 0,  1,  5, 20, 15,  8,  1],\n",
              "       [ 0,  1,  0,  6, 17, 14,  0]])"
            ]
          },
          "metadata": {
            "tags": []
          },
          "execution_count": 495
        }
      ]
    },
    {
      "cell_type": "code",
      "metadata": {
        "id": "FzQzf3HT5dLl",
        "colab_type": "code",
        "colab": {}
      },
      "source": [
        "chi_squared = ((observed - expected)**2/(expected)).sum() \n",
        "# Where the hell did they get 'p_value' ?\n",
        "dof = (len(row_sums)-1) * (len(col_sums)-1)\n"
      ],
      "execution_count": 0,
      "outputs": []
    },
    {
      "cell_type": "code",
      "metadata": {
        "id": "fi8FWGUiJnDN",
        "colab_type": "code",
        "colab": {
          "base_uri": "https://localhost:8080/",
          "height": 201
        },
        "outputId": "bef289d4-1f29-4b5b-9122-a2bf08614f02"
      },
      "source": [
        "print(f\"Chi-Squared: {chi_squared}\")\n",
        "print(f\"P-value: {p_value}\")\n",
        "print(f\"Degrees of Freedom: {dof}\") \n",
        "print(\"Expected: \\n\", np.array(expected))"
      ],
      "execution_count": 490,
      "outputs": [
        {
          "output_type": "stream",
          "text": [
            "Chi-Squared: 109.85155348047537\n",
            "P-value: 6.402579461512185e-18\n",
            "Degrees of Freedom: 12\n",
            "Expected: \n",
            " [[10.86956522  6.52173913  1.44927536 11.23188406  7.97101449  0.36231884\n",
            "  11.5942029 ]\n",
            " [10.86956522  6.52173913  1.44927536 11.23188406  7.97101449  0.36231884\n",
            "  11.5942029 ]\n",
            " [ 8.26086957  4.95652174  1.10144928  8.53623188  6.05797101  0.27536232\n",
            "   8.8115942 ]]\n"
          ],
          "name": "stdout"
        }
      ]
    },
    {
      "cell_type": "markdown",
      "metadata": {
        "id": "h8S93HGKJ6mU",
        "colab_type": "text"
      },
      "source": [
        "####   - In a single line using Scipy"
      ]
    },
    {
      "cell_type": "code",
      "metadata": {
        "id": "tOVaWkOa70nC",
        "colab_type": "code",
        "colab": {}
      },
      "source": [
        "# The code I wrote initially. I don't know how I'm supposed to get\n",
        "# all four of those values from this seeing as it only outputs two values,\n",
        "# but this is the best I could find at first. I think I'm really getting behind.\n",
        "# chisq, pvalue = chi(df.drop(['sepal length bins', 'class'], axis=1)); print(chisq, '\\n', pvalue)\n",
        "\n",
        "\n",
        "chi_squared, p_value, dof, expected = stats.chi2_contingency(pd.crosstab(df['class']\n",
        "                                                                        ,df['sepal length bins']).values)\n"
      ],
      "execution_count": 0,
      "outputs": []
    },
    {
      "cell_type": "code",
      "metadata": {
        "id": "zKSi7-MODfII",
        "colab_type": "code",
        "colab": {
          "base_uri": "https://localhost:8080/",
          "height": 201
        },
        "outputId": "b4e0da90-7b5c-4082-bd4e-4bc32ac1c790"
      },
      "source": [
        "print(f\"Chi-Squared: {chi_squared}\")\n",
        "print(f\"P-value: {p_value}\")\n",
        "print(f\"Degrees of Freedom: {dof}\") \n",
        "print(\"Expected: \\n\", np.array(expected))"
      ],
      "execution_count": 493,
      "outputs": [
        {
          "output_type": "stream",
          "text": [
            "Chi-Squared: 109.85155348047537\n",
            "P-value: 6.402579461512185e-18\n",
            "Degrees of Freedom: 12\n",
            "Expected: \n",
            " [[ 1.44927536  6.52173913 10.86956522 11.23188406 11.5942029   7.97101449\n",
            "   0.36231884]\n",
            " [ 1.44927536  6.52173913 10.86956522 11.23188406 11.5942029   7.97101449\n",
            "   0.36231884]\n",
            " [ 1.10144928  4.95652174  8.26086957  8.53623188  8.8115942   6.05797101\n",
            "   0.27536232]]\n"
          ],
          "name": "stdout"
        }
      ]
    },
    {
      "cell_type": "markdown",
      "metadata": {
        "id": "dGWX6Gb1Mxd4",
        "colab_type": "text"
      },
      "source": [
        "# Conclusion\n",
        "\n",
        "I'm not sure how, but there's some kind of issue in the code used in the lecture for doing the expected values, as it outputs a copy of the first line it passes, but I can't find any reason for it. Additionally, I can't get that to confirm what scipy gets for expected values at all. I've spent maybe 6 hours working on this thing in total and I'm at my limit. I haven't got a clue what the hell is going on in this lesson."
      ]
    },
    {
      "cell_type": "markdown",
      "metadata": {
        "id": "4ohsJhQUmEuS",
        "colab_type": "text"
      },
      "source": [
        "## Stretch goals:\n",
        "\n",
        "1. Write a summary of your findings, mixing prose and math/code/results. *Note* - yes, this is by definition a political topic. It is challenging but important to keep your writing voice *neutral* and stick to the facts of the data. Data science often involves considering controversial issues, so it's important to be sensitive about them (especially if you want to publish).\n",
        "2. Apply the techniques you learned today to your project data or other data of your choice, and write/discuss your findings here.\n",
        "3. Refactor your code so it is elegant, readable, and can be easily run for all issues."
      ]
    },
    {
      "cell_type": "markdown",
      "metadata": {
        "id": "nyJ3ySr7R2k9",
        "colab_type": "text"
      },
      "source": [
        "## Resources\n",
        "\n",
        "- [Interactive visualize the Chi-Squared test](https://homepage.divms.uiowa.edu/~mbognar/applets/chisq.html)\n",
        "- [Calculation of Chi-Squared test statistic](https://en.wikipedia.org/wiki/Pearson%27s_chi-squared_test)\n",
        "- [Visualization of a confidence interval generated by R code](https://commons.wikimedia.org/wiki/File:Confidence-interval.svg)\n",
        "- [Expected value of a squared standard normal](https://math.stackexchange.com/questions/264061/expected-value-calculation-for-squared-normal-distribution) (it's 1 - which is why the expected value of a Chi-Squared with $n$ degrees of freedom is $n$, as it's the sum of $n$ squared standard normals)"
      ]
    }
  ]
}