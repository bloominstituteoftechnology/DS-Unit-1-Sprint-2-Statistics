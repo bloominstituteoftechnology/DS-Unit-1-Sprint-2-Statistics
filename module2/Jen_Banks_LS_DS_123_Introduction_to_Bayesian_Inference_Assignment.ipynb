{
  "nbformat": 4,
  "nbformat_minor": 0,
  "metadata": {
    "colab": {
      "name": "Jen_Banks_LS_DS_123_Introduction_to_Bayesian_Inference_Assignment.ipynb",
      "provenance": [],
      "include_colab_link": true
    },
    "kernelspec": {
      "name": "python3",
      "display_name": "Python 3"
    }
  },
  "cells": [
    {
      "cell_type": "markdown",
      "metadata": {
        "id": "view-in-github",
        "colab_type": "text"
      },
      "source": [
        "<a href=\"https://colab.research.google.com/github/JenBanks8585/DS-Unit-1-Sprint-2-Statistics/blob/master/module2/Jen_Banks_LS_DS_123_Introduction_to_Bayesian_Inference_Assignment.ipynb\" target=\"_parent\"><img src=\"https://colab.research.google.com/assets/colab-badge.svg\" alt=\"Open In Colab\"/></a>"
      ]
    },
    {
      "cell_type": "markdown",
      "metadata": {
        "id": "H7OLbevlbd_Z",
        "colab_type": "text"
      },
      "source": [
        "# Lambda School Data Science Module 123\n",
        "\n",
        "## Introduction to Bayesian Inference\n",
        "\n",
        "\n"
      ]
    },
    {
      "cell_type": "markdown",
      "metadata": {
        "id": "P-DzzRk5bf0z",
        "colab_type": "text"
      },
      "source": [
        "## Assignment - Code it up!\n",
        "\n",
        "We used pure math to apply Bayes Theorem to drug tests. Now write Python code to reproduce the results! This is purposefully open ended - you'll have to think about how you should represent probabilities and events. You can and should look things up.\n",
        "\n",
        "Specific goals/targets:\n",
        "\n",
        "### 1) Write a function \n",
        "\n",
        "`def prob_drunk_given_positive(prob_drunk_prior, false_positive_rate):` \n",
        "\n",
        "You should only truly need these two values in order to apply Bayes Theorem. In this example, imagine that individuals are taking a breathalyzer test with an 8% false positive rate, a 100% true positive rate, and that our prior belief about drunk driving in the population is 1/1000. \n",
        " - What is the probability that a person is drunk after one positive breathalyzer test?\n",
        " - What is the probability that a person is drunk after two positive breathalyzer tests?\n",
        " - How many positive breathalyzer tests are needed in order to have a probability that's greater than 95% that a person is drunk beyond the legal limit?\n",
        "\n",
        "### 2) Explore `scipy.stats.bayes_mvs`  \n",
        "Read its documentation, and experiment with it on data you've tested in other ways earlier this week.\n",
        " - Create a visualization comparing the results of a Bayesian approach to a traditional/frequentist approach. (with a large sample size they should look close to identical, however, take this opportunity to practice visualizing condfidence intervals in general. The following are some potential ways that you could visualize confidence intervals on your graph:\n",
        "  - [Matplotlib Error Bars](https://matplotlib.org/3.1.1/api/_as_gen/matplotlib.pyplot.errorbar.html)\n",
        "  - [Seaborn barplot with error bars](https://seaborn.pydata.org/generated/seaborn.barplot.html)\n",
        "  - [Vertical ines to show bounds of confidence interval](https://www.simplypsychology.org/confidence-interval.jpg)\n",
        "  - [Confidence Intervals on Box Plots](https://matplotlib.org/3.1.1/api/_as_gen/matplotlib.axes.Axes.boxplot.html)\n",
        "\n",
        "### 3) In your own words, summarize the difference between Bayesian and Frequentist statistics\n",
        "\n",
        "If you're unsure where to start, check out [this blog post of Bayes theorem with Python](https://dataconomy.com/2015/02/introduction-to-bayes-theorem-with-python/).\n",
        "\n"
      ]
    },
    {
      "cell_type": "markdown",
      "metadata": {
        "id": "pjNoKT_DRILL",
        "colab_type": "text"
      },
      "source": [
        "##1) Write a function"
      ]
    },
    {
      "cell_type": "code",
      "metadata": {
        "id": "xpVhZyUnbf7o",
        "colab_type": "code",
        "colab": {}
      },
      "source": [
        "import numpy as np\n",
        "import scipy.stats as stat\n",
        "import matplotlib.pyplot as plt\n",
        "import pandas as pd\n",
        "import scipy.stats as st\n",
        "from scipy.stats import ttest_ind,ttest_1samp,chi2,chi2_contingency\n",
        "\n"
      ],
      "execution_count": 0,
      "outputs": []
    },
    {
      "cell_type": "markdown",
      "metadata": {
        "id": "wbc_OIis9kFW",
        "colab_type": "text"
      },
      "source": [
        "A. Function Based on Lecture"
      ]
    },
    {
      "cell_type": "code",
      "metadata": {
        "id": "SPUerHal-rnC",
        "colab_type": "code",
        "colab": {
          "base_uri": "https://localhost:8080/",
          "height": 35
        },
        "outputId": "476ae04d-0ff7-4258-9c1e-ce7e9b2240b1"
      },
      "source": [
        "# By hand computation\n",
        "\n",
        "user_prob= 1/1000\n",
        "nonuser_prob= 1-user_prob\n",
        "\n",
        "neg_given_user= 0.08\n",
        "pos_given_user= 1\n",
        "\n",
        "prob_user_pos= (pos_given_user*user_prob)/((pos_given_user*user_prob)+(neg_given_user*nonuser_prob))\n",
        "prob_user_pos"
      ],
      "execution_count": 92,
      "outputs": [
        {
          "output_type": "execute_result",
          "data": {
            "text/plain": [
              "0.012357884330202669"
            ]
          },
          "metadata": {
            "tags": []
          },
          "execution_count": 92
        }
      ]
    },
    {
      "cell_type": "code",
      "metadata": {
        "id": "HCYSMgfs7fA4",
        "colab_type": "code",
        "colab": {}
      },
      "source": [
        "# Function Based on Lecture.( I just made this to satisfy the requirement)\n",
        "# I am still in teh process of working out the validity of the concept.\n",
        "\n",
        "def bayes_lec(user_prob, neg_given_user, pos_given_user, n):\n",
        "    posterior_list= []\n",
        "    for test in range(n):\n",
        "      nonuser_prob= 1-user_prob\n",
        "      user_prob=(pos_given_user*user_prob)/((pos_given_user*user_prob)+(neg_given_user*nonuser_prob))\n",
        "      if user_prob>=0.95:\n",
        "        print('Reaches approx 95% at n =', len(posterior_list))\n",
        "        print(' ')\n",
        "        break\n",
        "      posterior_list.append(user_prob)\n",
        "    return posterior_list\n",
        "      "
      ],
      "execution_count": 0,
      "outputs": []
    },
    {
      "cell_type": "code",
      "metadata": {
        "id": "FztVBsIl8-m8",
        "colab_type": "code",
        "colab": {
          "base_uri": "https://localhost:8080/",
          "height": 72
        },
        "outputId": "165bc9cf-c677-4352-b7ef-50647a8db1fb"
      },
      "source": [
        "# Running the probability results for the first 6 tests, \n",
        "# but will only populate the first 3 results because the 4th one\n",
        "#  surpasses the 95% threshold\n",
        "\n",
        "bayes_lec(0.001, 0.08,1, 6)"
      ],
      "execution_count": 95,
      "outputs": [
        {
          "output_type": "stream",
          "text": [
            "Reaches approx 95% at n = 3\n",
            " \n"
          ],
          "name": "stdout"
        },
        {
          "output_type": "execute_result",
          "data": {
            "text/plain": [
              "[0.012357884330202669, 0.13525210993291495, 0.6615996951348605]"
            ]
          },
          "metadata": {
            "tags": []
          },
          "execution_count": 95
        }
      ]
    },
    {
      "cell_type": "markdown",
      "metadata": {
        "id": "E5ETXQ319rX6",
        "colab_type": "text"
      },
      "source": [
        "B. Function Based on how I find the concept valid"
      ]
    },
    {
      "cell_type": "code",
      "metadata": {
        "id": "y5y1Jepz-mFo",
        "colab_type": "code",
        "colab": {
          "base_uri": "https://localhost:8080/",
          "height": 35
        },
        "outputId": "56ee1abb-f772-492b-c6b3-b00b593fedeb"
      },
      "source": [
        "# By hand computation\n",
        "\n",
        "user_prob= 1/1000\n",
        "nonuser_prob= 1-user_prob\n",
        "\n",
        "neg_given_user= 0.08\n",
        "pos_given_user= 1-neg_given_user\n",
        "\n",
        "prob_user_pos= (pos_given_user*user_prob)/((pos_given_user*user_prob)+(neg_given_user*nonuser_prob))\n",
        "prob_user_pos"
      ],
      "execution_count": 91,
      "outputs": [
        {
          "output_type": "execute_result",
          "data": {
            "text/plain": [
              "0.011380504700643244"
            ]
          },
          "metadata": {
            "tags": []
          },
          "execution_count": 91
        }
      ]
    },
    {
      "cell_type": "code",
      "metadata": {
        "id": "DbjJPKgj_sG8",
        "colab_type": "code",
        "colab": {}
      },
      "source": [
        "# Creating a function that will determine the number of times a test should be \n",
        "# conducted to get at least 95% probability that he is a user given that he tested positive\n",
        "\n",
        "def bayes(user_prob, neg_given_user, n):\n",
        "  posterior_list = []\n",
        "  for i in range(n):\n",
        "    pos_given_user= 1-neg_given_user\n",
        "    nonuser_prob= 1-user_prob\n",
        "    user_prob=(pos_given_user*user_prob)/((pos_given_user*user_prob)+(neg_given_user*nonuser_prob))    \n",
        "    if user_prob>=0.95:\n",
        "      print('Reaches approx 95% at n =', len(posterior_list))\n",
        "      print(' ')\n",
        "      break\n",
        "    posterior_list.append(user_prob)\n",
        "  return posterior_list"
      ],
      "execution_count": 0,
      "outputs": []
    },
    {
      "cell_type": "markdown",
      "metadata": {
        "id": "Pp5iCXpKU9Fh",
        "colab_type": "text"
      },
      "source": [
        "1.What is the probability that a person is drunk after one positive breathalyzer test?"
      ]
    },
    {
      "cell_type": "code",
      "metadata": {
        "id": "g4x4V6ybAA7c",
        "colab_type": "code",
        "outputId": "96c07a38-353c-4722-a2ef-740a388b33eb",
        "colab": {
          "base_uri": "https://localhost:8080/",
          "height": 35
        }
      },
      "source": [
        "# Result after 1 breathalyzer test\n",
        "bayes(0.001, 0.08, 1)"
      ],
      "execution_count": 81,
      "outputs": [
        {
          "output_type": "execute_result",
          "data": {
            "text/plain": [
              "[0.011380504700643244]"
            ]
          },
          "metadata": {
            "tags": []
          },
          "execution_count": 81
        }
      ]
    },
    {
      "cell_type": "markdown",
      "metadata": {
        "id": "_ymAgBjLVpvM",
        "colab_type": "text"
      },
      "source": [
        "2.What is the probability that a person is drunk after two positive breathalyzer tests?"
      ]
    },
    {
      "cell_type": "code",
      "metadata": {
        "id": "ZYnHPTtcVN-H",
        "colab_type": "code",
        "outputId": "d41b76fe-4a3b-4f2e-894f-2c360161636b",
        "colab": {
          "base_uri": "https://localhost:8080/",
          "height": 35
        }
      },
      "source": [
        "# Result after 2 breathalyzer test2\n",
        "bayes(0.001, 0.08, 2)"
      ],
      "execution_count": 82,
      "outputs": [
        {
          "output_type": "execute_result",
          "data": {
            "text/plain": [
              "[0.011380504700643244, 0.11690607734806628]"
            ]
          },
          "metadata": {
            "tags": []
          },
          "execution_count": 82
        }
      ]
    },
    {
      "cell_type": "code",
      "metadata": {
        "id": "HKZOZSgRVSWY",
        "colab_type": "code",
        "outputId": "28d4b24b-5528-4238-8f3f-380388f01b2a",
        "colab": {
          "base_uri": "https://localhost:8080/",
          "height": 126
        }
      },
      "source": [
        "# Given an arbitrary 100 tests, function will break when 95% is reached.\n",
        "bayes(0.001, 0.08, 100)"
      ],
      "execution_count": 83,
      "outputs": [
        {
          "output_type": "stream",
          "text": [
            "Reaches approx 95% at n = 4\n",
            " \n"
          ],
          "name": "stdout"
        },
        {
          "output_type": "execute_result",
          "data": {
            "text/plain": [
              "[0.011380504700643244,\n",
              " 0.11690607734806628,\n",
              " 0.6035517634803313,\n",
              " 0.9459680554381814]"
            ]
          },
          "metadata": {
            "tags": []
          },
          "execution_count": 83
        }
      ]
    },
    {
      "cell_type": "markdown",
      "metadata": {
        "id": "qq85EFUZbtoJ",
        "colab_type": "text"
      },
      "source": [
        "Plotting the values for specific parameters"
      ]
    },
    {
      "cell_type": "code",
      "metadata": {
        "id": "4d4npUXaWSjR",
        "colab_type": "code",
        "outputId": "69e35a71-e675-49d6-a8d8-cd79ccc126be",
        "colab": {
          "base_uri": "https://localhost:8080/",
          "height": 404
        }
      },
      "source": [
        "# Given values, can be changed \n",
        "#  prior probability = 0.001\n",
        "#  false positive = 0.2\n",
        "#  number of tests= 15\n",
        "\n",
        "def bayes2(user_prob, neg_given_user, n):\n",
        "  posterior_list = []\n",
        "  for i in range(n):\n",
        "    pos_given_user= 1-neg_given_user\n",
        "    nonuser_prob= 1-user_prob\n",
        "    user_prob=(pos_given_user*user_prob)/((pos_given_user*user_prob)+(neg_given_user*nonuser_prob))\n",
        "             \n",
        "    posterior_list.append(user_prob)\n",
        "\n",
        "  return posterior_list\n",
        "\n",
        "vals=list(bayes2(0.001,0.2,15))\n",
        "\n",
        "plt.figure(figsize=(10,6))\n",
        "\n",
        "plt.plot(vals,)\n",
        "plt.plot(vals, 'ks')\n",
        "\n",
        "plt.xlabel('Number of Tests')\n",
        "plt.ylabel('Probability that he is Drunk')\n",
        "plt.title('Probability of a Person is Drunk Given that he Tested Positive ')\n",
        "\n",
        "plt.hlines(xmin=-1, xmax= 20, y=0.95, color='r', label ='95%')     # 95% marker\n",
        "\n",
        "plt.show();"
      ],
      "execution_count": 6,
      "outputs": [
        {
          "output_type": "display_data",
          "data": {
            "image/png": "[encoded data removed]",
            "text/plain": [
              "<Figure size 720x432 with 1 Axes>"
            ]
          },
          "metadata": {
            "tags": []
          }
        }
      ]
    },
    {
      "cell_type": "markdown",
      "metadata": {
        "id": "2EPiESKMQ-Z9",
        "colab_type": "text"
      },
      "source": [
        "##2) Explore scipy.stats.bayes_mvs"
      ]
    },
    {
      "cell_type": "code",
      "metadata": {
        "id": "KqDLdis-Q_BD",
        "colab_type": "code",
        "colab": {}
      },
      "source": [
        "# Preparing column headers for dataframe\n",
        "\n",
        "column_headers= ['party',\n",
        "                   'handicapped-infants', 'water-project-cost-sharing',\n",
        "                   'adoption-of-the-budget-resolution',\n",
        "                   'physician-fee-freeze',\n",
        "                   'el-salvador-aid',\n",
        "                   'religious-groups-in-schools',\n",
        "                   'anti-satellite-test-ban',\n",
        "                   'aid-to-nicaraguan-contras',\n",
        "                   'mx-missile',\n",
        "                   'immigration',\n",
        "                   'synfuels-corporation-cutback',\n",
        "                   'education-spending',\n",
        "                   'superfund-right-to-sue',\n",
        "                   'crime','duty-free-exports',\n",
        "                   'export-administration-act-south-africa']"
      ],
      "execution_count": 0,
      "outputs": []
    },
    {
      "cell_type": "code",
      "metadata": {
        "id": "T87frtWFRQyQ",
        "colab_type": "code",
        "colab": {
          "base_uri": "https://localhost:8080/",
          "height": 35
        },
        "outputId": "53d6c6bb-44d4-4e30-9eb3-cb57dc7fbdbe"
      },
      "source": [
        "#Reading data\n",
        "\n",
        "df_vot=pd.read_csv('https://archive.ics.uci.edu/ml/machine-learning-databases/voting-records/house-votes-84.data', header=None, names= column_headers, na_values= '?')\n",
        "print(df_vot.shape)\n"
      ],
      "execution_count": 8,
      "outputs": [
        {
          "output_type": "stream",
          "text": [
            "(435, 17)\n"
          ],
          "name": "stdout"
        }
      ]
    },
    {
      "cell_type": "code",
      "metadata": {
        "id": "fIi5WoFbRaaM",
        "colab_type": "code",
        "colab": {
          "base_uri": "https://localhost:8080/",
          "height": 35
        },
        "outputId": "8c225026-e80c-4244-8691-26d546c59f0e"
      },
      "source": [
        "#recode data as numeric\n",
        "\n",
        "df_vot=df_vot.replace({'y':1, 'n':0})\n",
        "print(df_vot.shape)\n"
      ],
      "execution_count": 10,
      "outputs": [
        {
          "output_type": "stream",
          "text": [
            "(435, 17)\n"
          ],
          "name": "stdout"
        }
      ]
    },
    {
      "cell_type": "code",
      "metadata": {
        "id": "YwNjxu1gRaXa",
        "colab_type": "code",
        "colab": {
          "base_uri": "https://localhost:8080/",
          "height": 145
        },
        "outputId": "d5c1853b-9e04-48fe-8945-c6596c6626e8"
      },
      "source": [
        "#Creating a new dataframe for republicans\n",
        "#Also checking a particular republican attribute(crime)\n",
        "\n",
        "rep=df_vot[df_vot['party']=='republican'].dropna()\n",
        "print(len(rep))\n",
        "rep['anti-satellite-test-ban'].head()"
      ],
      "execution_count": 11,
      "outputs": [
        {
          "output_type": "stream",
          "text": [
            "108\n"
          ],
          "name": "stdout"
        },
        {
          "output_type": "execute_result",
          "data": {
            "text/plain": [
              "8     0.0\n",
              "28    1.0\n",
              "30    0.0\n",
              "33    0.0\n",
              "35    0.0\n",
              "Name: anti-satellite-test-ban, dtype: float64"
            ]
          },
          "metadata": {
            "tags": []
          },
          "execution_count": 11
        }
      ]
    },
    {
      "cell_type": "code",
      "metadata": {
        "id": "6DS67w5ARaU8",
        "colab_type": "code",
        "colab": {}
      },
      "source": [
        "# Defining the function that will calculate\n",
        "#   a. standard error \n",
        "#   b. margin of error\n",
        "#   c. confindence interval\n",
        "\n",
        "def confidence_interval(data, confidence =0.95):\n",
        "  data_array= np.array(data)                          # converting data to array\n",
        "  mean= np.mean(data)                                 # mean/x_bar\n",
        "  n=len(data)                                         # number count \n",
        "  stderr= np.std(data_array,ddof=1)/np.sqrt(n)        # standadr error\n",
        "  moe=stderr*st.t.ppf(((1+confidence)/2),n-1)         # margin of error\n",
        "  return( mean, mean - moe, mean + moe)               # mean, lower bound, upper bound"
      ],
      "execution_count": 0,
      "outputs": []
    },
    {
      "cell_type": "code",
      "metadata": {
        "id": "IMYzymv8RaOG",
        "colab_type": "code",
        "colab": {
          "base_uri": "https://localhost:8080/",
          "height": 35
        },
        "outputId": "673f8a10-3119-4019-e288-c9b5407b85dc"
      },
      "source": [
        "#generating the mean, lower and upper bounds\n",
        "CI=confidence_interval(rep['anti-satellite-test-ban'])\n",
        "CI"
      ],
      "execution_count": 13,
      "outputs": [
        {
          "output_type": "execute_result",
          "data": {
            "text/plain": [
              "(0.26851851851851855, 0.18358393802160433, 0.35345309901543276)"
            ]
          },
          "metadata": {
            "tags": []
          },
          "execution_count": 13
        }
      ]
    },
    {
      "cell_type": "code",
      "metadata": {
        "id": "V8BJ6R1dRaKV",
        "colab_type": "code",
        "colab": {
          "base_uri": "https://localhost:8080/",
          "height": 281
        },
        "outputId": "b2c2b788-a0d5-42ff-8f36-669d7bfe5b5e"
      },
      "source": [
        "#Plotting using sns kernel density\n",
        "#Values based on function\n",
        "\n",
        "import seaborn as sns\n",
        "\n",
        "def plot_confidence_interval(data, confidence= 0.95):\n",
        "  sns.kdeplot(rep['anti-satellite-test-ban'], shade=True)\n",
        "  plt.axvline(x=CI[1], color='red')\n",
        "  plt.axvline(x=CI[2], color='red')\n",
        "  plt.axvline(x=CI[0], color='k')\n",
        "\n",
        "  plt.title('Republicans on Anti-Satellite-Test-Ban')\n",
        "  plt.show()\n",
        "\n",
        "plot_confidence_interval(rep['anti-satellite-test-ban'], confidence=0.95)"
      ],
      "execution_count": 14,
      "outputs": [
        {
          "output_type": "display_data",
          "data": {
            "image/png": "[encoded data removed]",
            "text/plain": [
              "<Figure size 432x288 with 1 Axes>"
            ]
          },
          "metadata": {
            "tags": []
          }
        }
      ]
    },
    {
      "cell_type": "code",
      "metadata": {
        "id": "qrTrtC8QTK_Q",
        "colab_type": "code",
        "colab": {
          "base_uri": "https://localhost:8080/",
          "height": 35
        },
        "outputId": "78a4c14d-8f18-48f1-bba6-4347d7f5e691"
      },
      "source": [
        "# Computing mean and Confidence interval using stats.bayes_mvs\n",
        "\n",
        "mean_confidence_interval= st.bayes_mvs(rep['anti-satellite-test-ban'], alpha=0.95)[0][1]\n",
        "mean_confidence_interval"
      ],
      "execution_count": 15,
      "outputs": [
        {
          "output_type": "execute_result",
          "data": {
            "text/plain": [
              "(0.18358393802160433, 0.35345309901543276)"
            ]
          },
          "metadata": {
            "tags": []
          },
          "execution_count": 15
        }
      ]
    },
    {
      "cell_type": "code",
      "metadata": {
        "id": "jB5mMFyzT2EN",
        "colab_type": "code",
        "colab": {
          "base_uri": "https://localhost:8080/",
          "height": 35
        },
        "outputId": "68e0ab50-01cd-4a69-944b-0ca8da6407f0"
      },
      "source": [
        "# Compare the value above in comparison to the one computed with a function\n",
        "CI=confidence_interval(rep['anti-satellite-test-ban'])\n",
        "CI"
      ],
      "execution_count": 16,
      "outputs": [
        {
          "output_type": "execute_result",
          "data": {
            "text/plain": [
              "(0.26851851851851855, 0.18358393802160433, 0.35345309901543276)"
            ]
          },
          "metadata": {
            "tags": []
          },
          "execution_count": 16
        }
      ]
    },
    {
      "cell_type": "code",
      "metadata": {
        "id": "d9DkVAkGl9Ye",
        "colab_type": "code",
        "colab": {
          "base_uri": "https://localhost:8080/",
          "height": 281
        },
        "outputId": "6f34082b-d26f-47f0-fa0a-c28042cbdd43"
      },
      "source": [
        "#Plotting both set of values:\n",
        "def plot_confidence_interval(data, confidence= 0.95):\n",
        "  \n",
        "  sns.kdeplot(rep['anti-satellite-test-ban'], shade=True)\n",
        "  plt.axvline(x=CI[1], color='red')\n",
        "  plt.axvline(x=CI[2], color='red')\n",
        "  plt.axvline(x=CI[0], color='k')\n",
        "  plt.axvline(x=mean_confidence_interval[0],color='green')     #Bayes lower bound\n",
        "  plt.axvline(x=mean_confidence_interval[1],color='green')     #Bayes upper bound\n",
        "\n",
        "  plt.title('Republicans on Anti-Satellite-Test-Ban')\n",
        "  plt.show()\n",
        "\n",
        "plot_confidence_interval(rep['anti-satellite-test-ban'], confidence=0.95)\n",
        "\n",
        "#Can really zoom it out because my values(CIs) are exactly the same as displayed."
      ],
      "execution_count": 17,
      "outputs": [
        {
          "output_type": "display_data",
          "data": {
            "image/png": "[encoded data removed]",
            "text/plain": [
              "<Figure size 432x288 with 1 Axes>"
            ]
          },
          "metadata": {
            "tags": []
          }
        }
      ]
    },
    {
      "cell_type": "markdown",
      "metadata": {
        "id": "twi19n-8UViV",
        "colab_type": "text"
      },
      "source": [
        "##3) In your own words, summarize the difference between Bayesian and Frequentist statistics"
      ]
    },
    {
      "cell_type": "markdown",
      "metadata": {
        "id": "zVhUk0fkaJWg",
        "colab_type": "text"
      },
      "source": [
        "The frequentist statistics is based on the concept of likehood.  This works well with a big sample size because you can get more information that way.  On Bayesian method, prior knowledge is considered in the computation. This works well for multiple number of testing as opposed to higher number of sample size. "
      ]
    },
    {
      "cell_type": "code",
      "metadata": {
        "id": "1AhSNyj2UYMF",
        "colab_type": "code",
        "colab": {}
      },
      "source": [
        ""
      ],
      "execution_count": 0,
      "outputs": []
    },
    {
      "cell_type": "markdown",
      "metadata": {
        "id": "uWgWjp3PQ3Sq",
        "colab_type": "text"
      },
      "source": [
        "## Resources"
      ]
    },
    {
      "cell_type": "markdown",
      "metadata": {
        "id": "QRgHqmYIQ9qn",
        "colab_type": "text"
      },
      "source": [
        "- [Worked example of Bayes rule calculation](https://en.wikipedia.org/wiki/Bayes'_theorem#Examples) (helpful as it fully breaks out the denominator)\n",
        "- [Source code for mvsdist in scipy](https://github.com/scipy/scipy/blob/90534919e139d2a81c24bf08341734ff41a3db12/scipy/stats/morestats.py#L139)"
      ]
    },
    {
      "cell_type": "markdown",
      "metadata": {
        "id": "GP7Jv1XvwtkX",
        "colab_type": "text"
      },
      "source": [
        "## Stretch Goals:\n",
        "\n",
        "- Go back and study the content from Modules 1 & 2 to make sure that you're really comfortable with them.\n",
        "- Apply a Bayesian technique to a problem you previously worked (in an assignment or project work) on from a frequentist (standard) perspective\n",
        "- Check out [PyMC3](https://docs.pymc.io/) (note this goes beyond hypothesis tests into modeling) - read the guides and work through some examples\n",
        "- Take PyMC3 further - see if you can build something with it!"
      ]
    },
    {
      "cell_type": "markdown",
      "metadata": {
        "id": "QsCXAeGfey6J",
        "colab_type": "text"
      },
      "source": [
        "Apply a Bayesian technique to a problem you previously worked (in an assignment or project work) on from a frequentist (standard) perspective"
      ]
    },
    {
      "cell_type": "code",
      "metadata": {
        "id": "2WZX8dK5sQaC",
        "colab_type": "code",
        "colab": {}
      },
      "source": [
        "#assigning column headers\n",
        "\n",
        "column_headers1= ['sepal length in cm','sepal width in cm', 'petal length in cm', 'petal width in cm', 'class']"
      ],
      "execution_count": 0,
      "outputs": []
    },
    {
      "cell_type": "code",
      "metadata": {
        "id": "Zx7TUV3AfFj9",
        "colab_type": "code",
        "outputId": "71365f07-8915-43dc-90dd-bc0c6d2f5f3a",
        "colab": {
          "base_uri": "https://localhost:8080/",
          "height": 198
        }
      },
      "source": [
        "# Using the Iris data\n",
        "\n",
        "df1=pd.read_csv('https://archive.ics.uci.edu/ml/machine-learning-databases/iris/iris.data', header= None, names= column_headers1)\n",
        "df1.head()"
      ],
      "execution_count": 19,
      "outputs": [
        {
          "output_type": "execute_result",
          "data": {
            "text/html": [
              "<div>\n",
              "<style scoped>\n",
              "    .dataframe tbody tr th:only-of-type {\n",
              "        vertical-align: middle;\n",
              "    }\n",
              "\n",
              "    .dataframe tbody tr th {\n",
              "        vertical-align: top;\n",
              "    }\n",
              "\n",
              "    .dataframe thead th {\n",
              "        text-align: right;\n",
              "    }\n",
              "</style>\n",
              "<table border=\"1\" class=\"dataframe\">\n",
              "  <thead>\n",
              "    <tr style=\"text-align: right;\">\n",
              "      <th></th>\n",
              "      <th>sepal length in cm</th>\n",
              "      <th>sepal width in cm</th>\n",
              "      <th>petal length in cm</th>\n",
              "      <th>petal width in cm</th>\n",
              "      <th>class</th>\n",
              "    </tr>\n",
              "  </thead>\n",
              "  <tbody>\n",
              "    <tr>\n",
              "      <th>0</th>\n",
              "      <td>5.1</td>\n",
              "      <td>3.5</td>\n",
              "      <td>1.4</td>\n",
              "      <td>0.2</td>\n",
              "      <td>Iris-setosa</td>\n",
              "    </tr>\n",
              "    <tr>\n",
              "      <th>1</th>\n",
              "      <td>4.9</td>\n",
              "      <td>3.0</td>\n",
              "      <td>1.4</td>\n",
              "      <td>0.2</td>\n",
              "      <td>Iris-setosa</td>\n",
              "    </tr>\n",
              "    <tr>\n",
              "      <th>2</th>\n",
              "      <td>4.7</td>\n",
              "      <td>3.2</td>\n",
              "      <td>1.3</td>\n",
              "      <td>0.2</td>\n",
              "      <td>Iris-setosa</td>\n",
              "    </tr>\n",
              "    <tr>\n",
              "      <th>3</th>\n",
              "      <td>4.6</td>\n",
              "      <td>3.1</td>\n",
              "      <td>1.5</td>\n",
              "      <td>0.2</td>\n",
              "      <td>Iris-setosa</td>\n",
              "    </tr>\n",
              "    <tr>\n",
              "      <th>4</th>\n",
              "      <td>5.0</td>\n",
              "      <td>3.6</td>\n",
              "      <td>1.4</td>\n",
              "      <td>0.2</td>\n",
              "      <td>Iris-setosa</td>\n",
              "    </tr>\n",
              "  </tbody>\n",
              "</table>\n",
              "</div>"
            ],
            "text/plain": [
              "   sepal length in cm  sepal width in cm  ...  petal width in cm        class\n",
              "0                 5.1                3.5  ...                0.2  Iris-setosa\n",
              "1                 4.9                3.0  ...                0.2  Iris-setosa\n",
              "2                 4.7                3.2  ...                0.2  Iris-setosa\n",
              "3                 4.6                3.1  ...                0.2  Iris-setosa\n",
              "4                 5.0                3.6  ...                0.2  Iris-setosa\n",
              "\n",
              "[5 rows x 5 columns]"
            ]
          },
          "metadata": {
            "tags": []
          },
          "execution_count": 19
        }
      ]
    },
    {
      "cell_type": "code",
      "metadata": {
        "id": "T7jh8-ktt8Ze",
        "colab_type": "code",
        "colab": {
          "base_uri": "https://localhost:8080/",
          "height": 90
        },
        "outputId": "f684873d-baf6-4ea8-980d-67f29282934e"
      },
      "source": [
        "df1['class'].value_counts()"
      ],
      "execution_count": 20,
      "outputs": [
        {
          "output_type": "execute_result",
          "data": {
            "text/plain": [
              "Iris-setosa        50\n",
              "Iris-versicolor    50\n",
              "Iris-virginica     50\n",
              "Name: class, dtype: int64"
            ]
          },
          "metadata": {
            "tags": []
          },
          "execution_count": 20
        }
      ]
    },
    {
      "cell_type": "code",
      "metadata": {
        "id": "u6XiaYmLuO_F",
        "colab_type": "code",
        "colab": {
          "base_uri": "https://localhost:8080/",
          "height": 138
        },
        "outputId": "c4c844ed-5bb3-4a05-ed92-8ea1a6850935"
      },
      "source": [
        "#Grabbing data for iris-setosa only\n",
        "\n",
        "setosa=df1[df1['class']=='Iris-setosa']\n",
        "setosa.head(3)"
      ],
      "execution_count": 21,
      "outputs": [
        {
          "output_type": "execute_result",
          "data": {
            "text/html": [
              "<div>\n",
              "<style scoped>\n",
              "    .dataframe tbody tr th:only-of-type {\n",
              "        vertical-align: middle;\n",
              "    }\n",
              "\n",
              "    .dataframe tbody tr th {\n",
              "        vertical-align: top;\n",
              "    }\n",
              "\n",
              "    .dataframe thead th {\n",
              "        text-align: right;\n",
              "    }\n",
              "</style>\n",
              "<table border=\"1\" class=\"dataframe\">\n",
              "  <thead>\n",
              "    <tr style=\"text-align: right;\">\n",
              "      <th></th>\n",
              "      <th>sepal length in cm</th>\n",
              "      <th>sepal width in cm</th>\n",
              "      <th>petal length in cm</th>\n",
              "      <th>petal width in cm</th>\n",
              "      <th>class</th>\n",
              "    </tr>\n",
              "  </thead>\n",
              "  <tbody>\n",
              "    <tr>\n",
              "      <th>0</th>\n",
              "      <td>5.1</td>\n",
              "      <td>3.5</td>\n",
              "      <td>1.4</td>\n",
              "      <td>0.2</td>\n",
              "      <td>Iris-setosa</td>\n",
              "    </tr>\n",
              "    <tr>\n",
              "      <th>1</th>\n",
              "      <td>4.9</td>\n",
              "      <td>3.0</td>\n",
              "      <td>1.4</td>\n",
              "      <td>0.2</td>\n",
              "      <td>Iris-setosa</td>\n",
              "    </tr>\n",
              "    <tr>\n",
              "      <th>2</th>\n",
              "      <td>4.7</td>\n",
              "      <td>3.2</td>\n",
              "      <td>1.3</td>\n",
              "      <td>0.2</td>\n",
              "      <td>Iris-setosa</td>\n",
              "    </tr>\n",
              "  </tbody>\n",
              "</table>\n",
              "</div>"
            ],
            "text/plain": [
              "   sepal length in cm  sepal width in cm  ...  petal width in cm        class\n",
              "0                 5.1                3.5  ...                0.2  Iris-setosa\n",
              "1                 4.9                3.0  ...                0.2  Iris-setosa\n",
              "2                 4.7                3.2  ...                0.2  Iris-setosa\n",
              "\n",
              "[3 rows x 5 columns]"
            ]
          },
          "metadata": {
            "tags": []
          },
          "execution_count": 21
        }
      ]
    },
    {
      "cell_type": "code",
      "metadata": {
        "id": "LuQGiJ8Tt3Tf",
        "colab_type": "code",
        "colab": {}
      },
      "source": [
        "#Re-using same function to determine, mean, lower and upper bounds \n",
        "\n",
        "def confidence_interval_setosa(data, confidence =0.95):\n",
        "  data_array= np.array(data)                          # converting data to array\n",
        "  mean= np.mean(data)                                 # mean/x_bar\n",
        "  n=len(data)                                         # number count \n",
        "  stderr= np.std(data_array,ddof=1)/np.sqrt(n)        # standadr error\n",
        "  moe=stderr*st.t.ppf(((1+confidence)/2),n-1)         # margin of error\n",
        "  return( mean, mean - moe, mean + moe)               # mean, lower bound, upper bound"
      ],
      "execution_count": 0,
      "outputs": []
    },
    {
      "cell_type": "code",
      "metadata": {
        "id": "H2jCqyUGvZba",
        "colab_type": "code",
        "colab": {
          "base_uri": "https://localhost:8080/",
          "height": 35
        },
        "outputId": "7d949230-b00a-4125-d38b-0f434340be14"
      },
      "source": [
        "#Computing CI using function/Frequentist method\n",
        "\n",
        "CI_setosa=confidence_interval(setosa['sepal length in cm'])\n",
        "CI_setosa"
      ],
      "execution_count": 41,
      "outputs": [
        {
          "output_type": "execute_result",
          "data": {
            "text/plain": [
              "(5.005999999999999, 4.905823539430868, 5.106176460569131)"
            ]
          },
          "metadata": {
            "tags": []
          },
          "execution_count": 41
        }
      ]
    },
    {
      "cell_type": "code",
      "metadata": {
        "id": "pCQWuKzhwRSI",
        "colab_type": "code",
        "colab": {
          "base_uri": "https://localhost:8080/",
          "height": 35
        },
        "outputId": "21bcadfc-a45b-4df6-d8a2-1d2df513b6c7"
      },
      "source": [
        "#Using Bayes to find CI\n",
        "\n",
        "setosa_confidence_interval= st.bayes_mvs(setosa['sepal length in cm'], alpha=0.95)[0][1]\n",
        "setosa_confidence_interval"
      ],
      "execution_count": 24,
      "outputs": [
        {
          "output_type": "execute_result",
          "data": {
            "text/plain": [
              "(4.905823539430869, 5.106176460569132)"
            ]
          },
          "metadata": {
            "tags": []
          },
          "execution_count": 24
        }
      ]
    },
    {
      "cell_type": "code",
      "metadata": {
        "id": "s9VyUwIMghIq",
        "colab_type": "code",
        "outputId": "4fd0d7bf-6203-4649-e312-60d5f362b33e",
        "colab": {
          "base_uri": "https://localhost:8080/",
          "height": 281
        }
      },
      "source": [
        "#Plotting both CIs computed by two methods but difference is very negligible\n",
        "\n",
        "def plot_confidence_interval(data, confidence= 0.95):\n",
        "  \n",
        "  sns.kdeplot(setosa['sepal length in cm'], shade=True)\n",
        "  plt.axvline(x=CI_setosa[1], color='red')\n",
        "  plt.axvline(x=CI_setosa[2], color='red')\n",
        "  plt.axvline(x=CI_setosa[0], color='k')\n",
        "  plt.axvline(x=setosa_confidence_interval[0],color='green')     #Bayes lower bound\n",
        "  plt.axvline(x=setosa_confidence_interval[1],color='green')     #Bayes upper bound\n",
        "\n",
        "  plt.title('Setoso Sepal Length')\n",
        "  plt.show()\n",
        "\n",
        "plot_confidence_interval(setosa['sepal length in cm'], confidence=0.95)"
      ],
      "execution_count": 25,
      "outputs": [
        {
          "output_type": "display_data",
          "data": {
            "image/png": "[encoded data removed]",
            "text/plain": [
              "<Figure size 432x288 with 1 Axes>"
            ]
          },
          "metadata": {
            "tags": []
          }
        }
      ]
    },
    {
      "cell_type": "markdown",
      "metadata": {
        "id": "6jZrk6mCyfgg",
        "colab_type": "text"
      },
      "source": [
        "## Using Chi Square Contingency test to check for independence of two attributes"
      ]
    },
    {
      "cell_type": "code",
      "metadata": {
        "id": "ygMFdh6IypbL",
        "colab_type": "code",
        "colab": {
          "base_uri": "https://localhost:8080/",
          "height": 54
        },
        "outputId": "4a4d10c0-ea75-497e-8b1f-4186957191fc"
      },
      "source": [
        "#Checking width range, to prepare for categorizing it\n",
        "print(setosa['sepal width in cm'].min(), setosa['sepal width in cm'].max())\n",
        "(setosa['sepal width in cm'].max()- setosa['sepal width in cm'].min())/5"
      ],
      "execution_count": 26,
      "outputs": [
        {
          "output_type": "stream",
          "text": [
            "2.3 4.4\n"
          ],
          "name": "stdout"
        },
        {
          "output_type": "execute_result",
          "data": {
            "text/plain": [
              "0.4200000000000001"
            ]
          },
          "metadata": {
            "tags": []
          },
          "execution_count": 26
        }
      ]
    },
    {
      "cell_type": "code",
      "metadata": {
        "id": "OUTfeDjMyxNA",
        "colab_type": "code",
        "colab": {
          "base_uri": "https://localhost:8080/",
          "height": 54
        },
        "outputId": "c90a670c-d228-4585-b7bf-8d350c6171e6"
      },
      "source": [
        "print(setosa['sepal length in cm'].min(), setosa['sepal length in cm'].max())\n",
        "(setosa['sepal length in cm'].max() - setosa['sepal length in cm'].min())/5"
      ],
      "execution_count": 27,
      "outputs": [
        {
          "output_type": "stream",
          "text": [
            "4.3 5.8\n"
          ],
          "name": "stdout"
        },
        {
          "output_type": "execute_result",
          "data": {
            "text/plain": [
              "0.3"
            ]
          },
          "metadata": {
            "tags": []
          },
          "execution_count": 27
        }
      ]
    },
    {
      "cell_type": "code",
      "metadata": {
        "id": "vt5dk1-q7HP1",
        "colab_type": "code",
        "colab": {
          "base_uri": "https://localhost:8080/",
          "height": 126
        },
        "outputId": "aae696a4-2c8c-4138-b86a-af57b91c4f1e"
      },
      "source": [
        "#Categorizing Width\n",
        "cut_point_width=(2, 2.5, 3 , 3.5 , 4 , 4.5)\n",
        "width_labels= ['2-2.5', '2.5-3', '3-3.5', '3.5-4', '4+']\n",
        "setosa['width_categories']= pd.cut(setosa['sepal width in cm'],cut_point_width, labels=width_labels)\n"
      ],
      "execution_count": 28,
      "outputs": [
        {
          "output_type": "stream",
          "text": [
            "/usr/local/lib/python3.6/dist-packages/ipykernel_launcher.py:3: SettingWithCopyWarning: \n",
            "A value is trying to be set on a copy of a slice from a DataFrame.\n",
            "Try using .loc[row_indexer,col_indexer] = value instead\n",
            "\n",
            "See the caveats in the documentation: http://pandas.pydata.org/pandas-docs/stable/user_guide/indexing.html#returning-a-view-versus-a-copy\n",
            "  This is separate from the ipykernel package so we can avoid doing imports until\n"
          ],
          "name": "stderr"
        }
      ]
    },
    {
      "cell_type": "code",
      "metadata": {
        "id": "8I1CQJ6v8koJ",
        "colab_type": "code",
        "colab": {
          "base_uri": "https://localhost:8080/",
          "height": 126
        },
        "outputId": "db5ca2eb-232d-464a-cc4d-9ce39305ff15"
      },
      "source": [
        "#Categorizing length\n",
        "cut_point_length=(4.3, 4.6, 4.9 , 5.2 , 5.5 , 5.8)\n",
        "length_labels= ['4.3-4.6', '4.6-4.9', '4.9-5.2', '5.2-5.5', '5.5+']\n",
        "setosa['length_categories']= pd.cut(setosa['sepal length in cm'],cut_point_length, labels=length_labels)\n"
      ],
      "execution_count": 30,
      "outputs": [
        {
          "output_type": "stream",
          "text": [
            "/usr/local/lib/python3.6/dist-packages/ipykernel_launcher.py:3: SettingWithCopyWarning: \n",
            "A value is trying to be set on a copy of a slice from a DataFrame.\n",
            "Try using .loc[row_indexer,col_indexer] = value instead\n",
            "\n",
            "See the caveats in the documentation: http://pandas.pydata.org/pandas-docs/stable/user_guide/indexing.html#returning-a-view-versus-a-copy\n",
            "  This is separate from the ipykernel package so we can avoid doing imports until\n"
          ],
          "name": "stderr"
        }
      ]
    },
    {
      "cell_type": "code",
      "metadata": {
        "id": "kedLGkwC9cCY",
        "colab_type": "code",
        "colab": {
          "base_uri": "https://localhost:8080/",
          "height": 258
        },
        "outputId": "bfbc2ecc-bc3c-4f91-8c17-98f7edc2b36b"
      },
      "source": [
        "#Creating a crosstab with margins\n",
        "Width_Length_setoso_crosstab= pd.crosstab(setosa['width_categories'], setosa['length_categories'], margins = True)\n",
        "Width_Length_setoso_crosstab"
      ],
      "execution_count": 31,
      "outputs": [
        {
          "output_type": "execute_result",
          "data": {
            "text/html": [
              "<div>\n",
              "<style scoped>\n",
              "    .dataframe tbody tr th:only-of-type {\n",
              "        vertical-align: middle;\n",
              "    }\n",
              "\n",
              "    .dataframe tbody tr th {\n",
              "        vertical-align: top;\n",
              "    }\n",
              "\n",
              "    .dataframe thead th {\n",
              "        text-align: right;\n",
              "    }\n",
              "</style>\n",
              "<table border=\"1\" class=\"dataframe\">\n",
              "  <thead>\n",
              "    <tr style=\"text-align: right;\">\n",
              "      <th>length_categories</th>\n",
              "      <th>4.3-4.6</th>\n",
              "      <th>4.6-4.9</th>\n",
              "      <th>4.9-5.2</th>\n",
              "      <th>5.2-5.5</th>\n",
              "      <th>5.5+</th>\n",
              "      <th>All</th>\n",
              "    </tr>\n",
              "    <tr>\n",
              "      <th>width_categories</th>\n",
              "      <th></th>\n",
              "      <th></th>\n",
              "      <th></th>\n",
              "      <th></th>\n",
              "      <th></th>\n",
              "      <th></th>\n",
              "    </tr>\n",
              "  </thead>\n",
              "  <tbody>\n",
              "    <tr>\n",
              "      <th>2-2.5</th>\n",
              "      <td>1</td>\n",
              "      <td>0</td>\n",
              "      <td>0</td>\n",
              "      <td>0</td>\n",
              "      <td>0</td>\n",
              "      <td>1</td>\n",
              "    </tr>\n",
              "    <tr>\n",
              "      <th>2.5-3</th>\n",
              "      <td>2</td>\n",
              "      <td>3</td>\n",
              "      <td>1</td>\n",
              "      <td>0</td>\n",
              "      <td>0</td>\n",
              "      <td>6</td>\n",
              "    </tr>\n",
              "    <tr>\n",
              "      <th>3-3.5</th>\n",
              "      <td>4</td>\n",
              "      <td>8</td>\n",
              "      <td>12</td>\n",
              "      <td>3</td>\n",
              "      <td>0</td>\n",
              "      <td>27</td>\n",
              "    </tr>\n",
              "    <tr>\n",
              "      <th>3.5-4</th>\n",
              "      <td>1</td>\n",
              "      <td>0</td>\n",
              "      <td>5</td>\n",
              "      <td>4</td>\n",
              "      <td>2</td>\n",
              "      <td>12</td>\n",
              "    </tr>\n",
              "    <tr>\n",
              "      <th>4+</th>\n",
              "      <td>0</td>\n",
              "      <td>0</td>\n",
              "      <td>1</td>\n",
              "      <td>1</td>\n",
              "      <td>1</td>\n",
              "      <td>3</td>\n",
              "    </tr>\n",
              "    <tr>\n",
              "      <th>All</th>\n",
              "      <td>8</td>\n",
              "      <td>11</td>\n",
              "      <td>19</td>\n",
              "      <td>8</td>\n",
              "      <td>3</td>\n",
              "      <td>49</td>\n",
              "    </tr>\n",
              "  </tbody>\n",
              "</table>\n",
              "</div>"
            ],
            "text/plain": [
              "length_categories  4.3-4.6  4.6-4.9  4.9-5.2  5.2-5.5  5.5+  All\n",
              "width_categories                                                \n",
              "2-2.5                    1        0        0        0     0    1\n",
              "2.5-3                    2        3        1        0     0    6\n",
              "3-3.5                    4        8       12        3     0   27\n",
              "3.5-4                    1        0        5        4     2   12\n",
              "4+                       0        0        1        1     1    3\n",
              "All                      8       11       19        8     3   49"
            ]
          },
          "metadata": {
            "tags": []
          },
          "execution_count": 31
        }
      ]
    },
    {
      "cell_type": "code",
      "metadata": {
        "id": "RV9kiPAf96OJ",
        "colab_type": "code",
        "colab": {
          "base_uri": "https://localhost:8080/",
          "height": 228
        },
        "outputId": "5f807013-8444-45cf-9e97-abd3ef606e3f"
      },
      "source": [
        "#Creating a crosstab without margins\n",
        "Width_Length_setoso_crosstab1= pd.crosstab(setosa['width_categories'], setosa['length_categories'])\n",
        "Width_Length_setoso_crosstab1"
      ],
      "execution_count": 32,
      "outputs": [
        {
          "output_type": "execute_result",
          "data": {
            "text/html": [
              "<div>\n",
              "<style scoped>\n",
              "    .dataframe tbody tr th:only-of-type {\n",
              "        vertical-align: middle;\n",
              "    }\n",
              "\n",
              "    .dataframe tbody tr th {\n",
              "        vertical-align: top;\n",
              "    }\n",
              "\n",
              "    .dataframe thead th {\n",
              "        text-align: right;\n",
              "    }\n",
              "</style>\n",
              "<table border=\"1\" class=\"dataframe\">\n",
              "  <thead>\n",
              "    <tr style=\"text-align: right;\">\n",
              "      <th>length_categories</th>\n",
              "      <th>4.3-4.6</th>\n",
              "      <th>4.6-4.9</th>\n",
              "      <th>4.9-5.2</th>\n",
              "      <th>5.2-5.5</th>\n",
              "      <th>5.5+</th>\n",
              "    </tr>\n",
              "    <tr>\n",
              "      <th>width_categories</th>\n",
              "      <th></th>\n",
              "      <th></th>\n",
              "      <th></th>\n",
              "      <th></th>\n",
              "      <th></th>\n",
              "    </tr>\n",
              "  </thead>\n",
              "  <tbody>\n",
              "    <tr>\n",
              "      <th>2-2.5</th>\n",
              "      <td>1</td>\n",
              "      <td>0</td>\n",
              "      <td>0</td>\n",
              "      <td>0</td>\n",
              "      <td>0</td>\n",
              "    </tr>\n",
              "    <tr>\n",
              "      <th>2.5-3</th>\n",
              "      <td>2</td>\n",
              "      <td>3</td>\n",
              "      <td>1</td>\n",
              "      <td>0</td>\n",
              "      <td>0</td>\n",
              "    </tr>\n",
              "    <tr>\n",
              "      <th>3-3.5</th>\n",
              "      <td>4</td>\n",
              "      <td>8</td>\n",
              "      <td>12</td>\n",
              "      <td>3</td>\n",
              "      <td>0</td>\n",
              "    </tr>\n",
              "    <tr>\n",
              "      <th>3.5-4</th>\n",
              "      <td>1</td>\n",
              "      <td>0</td>\n",
              "      <td>5</td>\n",
              "      <td>4</td>\n",
              "      <td>2</td>\n",
              "    </tr>\n",
              "    <tr>\n",
              "      <th>4+</th>\n",
              "      <td>0</td>\n",
              "      <td>0</td>\n",
              "      <td>1</td>\n",
              "      <td>1</td>\n",
              "      <td>1</td>\n",
              "    </tr>\n",
              "  </tbody>\n",
              "</table>\n",
              "</div>"
            ],
            "text/plain": [
              "length_categories  4.3-4.6  4.6-4.9  4.9-5.2  5.2-5.5  5.5+\n",
              "width_categories                                           \n",
              "2-2.5                    1        0        0        0     0\n",
              "2.5-3                    2        3        1        0     0\n",
              "3-3.5                    4        8       12        3     0\n",
              "3.5-4                    1        0        5        4     2\n",
              "4+                       0        0        1        1     1"
            ]
          },
          "metadata": {
            "tags": []
          },
          "execution_count": 32
        }
      ]
    },
    {
      "cell_type": "code",
      "metadata": {
        "id": "WyxRi9eo-F1d",
        "colab_type": "code",
        "colab": {
          "base_uri": "https://localhost:8080/",
          "height": 108
        },
        "outputId": "97000e72-db04-47fe-9ab7-dafc63ef2069"
      },
      "source": [
        "width_2count= Width_Length_setoso_crosstab.iloc[0][0:5].values\n",
        "width_25count= Width_Length_setoso_crosstab.iloc[1][0:5].values\n",
        "width_3count= Width_Length_setoso_crosstab.iloc[2][0:5].values\n",
        "width_35count= Width_Length_setoso_crosstab.iloc[3][0:5].values\n",
        "width_4count= Width_Length_setoso_crosstab.iloc[4][0:5].values\n",
        "print(width_2count)\n",
        "print(width_25count)\n",
        "print(width_3count)\n",
        "print(width_35count)\n",
        "print(width_4count)"
      ],
      "execution_count": 33,
      "outputs": [
        {
          "output_type": "stream",
          "text": [
            "[1 0 0 0 0]\n",
            "[2 3 1 0 0]\n",
            "[ 4  8 12  3  0]\n",
            "[1 0 5 4 2]\n",
            "[0 0 1 1 1]\n"
          ],
          "name": "stdout"
        }
      ]
    },
    {
      "cell_type": "code",
      "metadata": {
        "id": "e-TWG6Wu_f3L",
        "colab_type": "code",
        "colab": {
          "base_uri": "https://localhost:8080/",
          "height": 476
        },
        "outputId": "0c61cc84-44bc-437c-c7e0-ed8fbd082686"
      },
      "source": [
        "#Plotting bar charts for indices\n",
        "\n",
        "plt.figure(figsize=(10,7))\n",
        "\n",
        "p1= plt.bar(length_labels, width_2count, 0.35, color='r')\n",
        "p2= plt.bar(length_labels, width_25count, 0.35, color='g', bottom = width_2count)\n",
        "p3= plt.bar(length_labels, width_3count, 0.35, color='y',bottom = width_2count+ width_25count)\n",
        "p4= plt.bar(length_labels, width_35count, 0.35, color='b',bottom = width_2count + width_25count + width_3count)\n",
        "p5= plt.bar(length_labels, width_4count, 0.35, color='k',bottom = width_2count + width_25count + width_3count + width_35count)\n",
        "\n",
        "plt.title( 'Setosa Length Vs Width')\n",
        "plt.xlabel('length ')\n",
        "plt.ylabel('width')"
      ],
      "execution_count": 34,
      "outputs": [
        {
          "output_type": "execute_result",
          "data": {
            "text/plain": [
              "Text(0, 0.5, 'width')"
            ]
          },
          "metadata": {
            "tags": []
          },
          "execution_count": 34
        },
        {
          "output_type": "display_data",
          "data": {
            "image/png": "[encoded data removed]",
            "text/plain": [
              "<Figure size 720x504 with 1 Axes>"
            ]
          },
          "metadata": {
            "tags": []
          }
        }
      ]
    },
    {
      "cell_type": "code",
      "metadata": {
        "id": "K3vrbWWmBIgG",
        "colab_type": "code",
        "colab": {
          "base_uri": "https://localhost:8080/",
          "height": 72
        },
        "outputId": "e09ec56a-6d80-4f7e-ec58-f76bd49aa747"
      },
      "source": [
        "#Grabbing row sums, column sums, total  \n",
        "row_sum= Width_Length_setoso_crosstab.iloc[0:5,5].values\n",
        "column_sum= Width_Length_setoso_crosstab.iloc[5,0:5].values\n",
        "total= Width_Length_setoso_crosstab.loc['All','All' ]\n",
        "\n",
        "print(row_sum)\n",
        "print(column_sum)\n",
        "print (total)"
      ],
      "execution_count": 35,
      "outputs": [
        {
          "output_type": "stream",
          "text": [
            "[ 1  6 27 12  3]\n",
            "[ 8 11 19  8  3]\n",
            "49\n"
          ],
          "name": "stdout"
        }
      ]
    },
    {
      "cell_type": "code",
      "metadata": {
        "id": "allP0YmMiTZC",
        "colab_type": "code",
        "outputId": "49788ab7-3a35-494c-c204-6e897d3fed39",
        "colab": {
          "base_uri": "https://localhost:8080/",
          "height": 163
        }
      },
      "source": [
        "#Creating an expected value table\n",
        "\n",
        "expected=[]\n",
        "for i in range(len(row_sum)):\n",
        "  expected_row=[]\n",
        "  for column in column_sum:\n",
        "    expected_val=column*row_sum[i]/total\n",
        "    expected_row.append(expected_val)\n",
        "  expected.append(expected_row)\n",
        "\n",
        "expected=np.array(expected)\n",
        "\n",
        "print(expected.shape)\n",
        "print('  ')\n",
        "print('Expected Values')\n",
        "print(expected)\n",
        "\n"
      ],
      "execution_count": 36,
      "outputs": [
        {
          "output_type": "stream",
          "text": [
            "(5, 5)\n",
            "  \n",
            "Expected Values\n",
            "[[ 0.16326531  0.2244898   0.3877551   0.16326531  0.06122449]\n",
            " [ 0.97959184  1.34693878  2.32653061  0.97959184  0.36734694]\n",
            " [ 4.40816327  6.06122449 10.46938776  4.40816327  1.65306122]\n",
            " [ 1.95918367  2.69387755  4.65306122  1.95918367  0.73469388]\n",
            " [ 0.48979592  0.67346939  1.16326531  0.48979592  0.18367347]]\n"
          ],
          "name": "stdout"
        }
      ]
    },
    {
      "cell_type": "code",
      "metadata": {
        "id": "bERcQo53yhhS",
        "colab_type": "code",
        "colab": {
          "base_uri": "https://localhost:8080/",
          "height": 108
        },
        "outputId": "c8ba71ac-987f-46be-9876-65c5d069f9d7"
      },
      "source": [
        "#Converting dataframe to array values for observed data\n",
        "\n",
        "observed= Width_Length_setoso_crosstab1.values\n",
        "observed"
      ],
      "execution_count": 37,
      "outputs": [
        {
          "output_type": "execute_result",
          "data": {
            "text/plain": [
              "array([[ 1,  0,  0,  0,  0],\n",
              "       [ 2,  3,  1,  0,  0],\n",
              "       [ 4,  8, 12,  3,  0],\n",
              "       [ 1,  0,  5,  4,  2],\n",
              "       [ 0,  0,  1,  1,  1]])"
            ]
          },
          "metadata": {
            "tags": []
          },
          "execution_count": 37
        }
      ]
    },
    {
      "cell_type": "code",
      "metadata": {
        "id": "VvJD5YRByheY",
        "colab_type": "code",
        "colab": {
          "base_uri": "https://localhost:8080/",
          "height": 35
        },
        "outputId": "4fbd7c43-b6af-4c94-d712-6565fbadad4a"
      },
      "source": [
        "# Using numpy array broadcasting to calculate Chi- squared statistic\n",
        "chi_squared_stat= ((observed - expected)**2/(expected)).sum()\n",
        "chi_squared_stat"
      ],
      "execution_count": 38,
      "outputs": [
        {
          "output_type": "execute_result",
          "data": {
            "text/plain": [
              "26.144675925925927"
            ]
          },
          "metadata": {
            "tags": []
          },
          "execution_count": 38
        }
      ]
    },
    {
      "cell_type": "code",
      "metadata": {
        "id": "jsk-jIqlyhbM",
        "colab_type": "code",
        "colab": {
          "base_uri": "https://localhost:8080/",
          "height": 35
        },
        "outputId": "24605cf7-02a3-466a-8c29-03c14d561bf0"
      },
      "source": [
        "#Degrees of Freedom\n",
        "dof= (len(row_sum)-1)*(len(column_sum)-1)\n",
        "dof"
      ],
      "execution_count": 39,
      "outputs": [
        {
          "output_type": "execute_result",
          "data": {
            "text/plain": [
              "16"
            ]
          },
          "metadata": {
            "tags": []
          },
          "execution_count": 39
        }
      ]
    },
    {
      "cell_type": "code",
      "metadata": {
        "id": "K8xfFBjsyhYq",
        "colab_type": "code",
        "colab": {
          "base_uri": "https://localhost:8080/",
          "height": 163
        },
        "outputId": "44642667-2d16-4292-9c51-5105c621ba8a"
      },
      "source": [
        "#Running a chi squared test\n",
        "\n",
        "chi2_contingency(observed)"
      ],
      "execution_count": 40,
      "outputs": [
        {
          "output_type": "execute_result",
          "data": {
            "text/plain": [
              "(26.144675925925927,\n",
              " 0.05202624063790944,\n",
              " 16,\n",
              " array([[ 0.16326531,  0.2244898 ,  0.3877551 ,  0.16326531,  0.06122449],\n",
              "        [ 0.97959184,  1.34693878,  2.32653061,  0.97959184,  0.36734694],\n",
              "        [ 4.40816327,  6.06122449, 10.46938776,  4.40816327,  1.65306122],\n",
              "        [ 1.95918367,  2.69387755,  4.65306122,  1.95918367,  0.73469388],\n",
              "        [ 0.48979592,  0.67346939,  1.16326531,  0.48979592,  0.18367347]]))"
            ]
          },
          "metadata": {
            "tags": []
          },
          "execution_count": 40
        }
      ]
    },
    {
      "cell_type": "markdown",
      "metadata": {
        "id": "rsGTHFMlSEFm",
        "colab_type": "text"
      },
      "source": [
        "Since p> 0.05, then I fail to reject the null hypothesis that the two attributes sepal width and length are independent from each other."
      ]
    },
    {
      "cell_type": "markdown",
      "metadata": {
        "id": "DPTQqbCn-J9G",
        "colab_type": "text"
      },
      "source": [
        "##Exploring Pymc3"
      ]
    },
    {
      "cell_type": "code",
      "metadata": {
        "id": "znilyHe7yhVM",
        "colab_type": "code",
        "colab": {
          "base_uri": "https://localhost:8080/",
          "height": 417
        },
        "outputId": "2f153a71-8ae8-455b-cf56-c4bf4d862127"
      },
      "source": [
        "import pymc3 as pm\n",
        "!pip install arviz\n",
        "\n",
        "y = 4+np.random.randn(100,1)\n",
        "n= 500\n",
        "\n",
        "with pm.Model()as model:\n",
        "  mean=pm.Normal('mu', mu= 0, sd=20)\n",
        "  likelihood=pm.Normal('y', mu = mean, sd= 1, observed = y)\n",
        "  trace= pm.sample(n)"
      ],
      "execution_count": 73,
      "outputs": [
        {
          "output_type": "stream",
          "text": [
            "Requirement already satisfied: arviz in /usr/local/lib/python3.6/dist-packages (0.6.1)\n",
            "Requirement already satisfied: scipy>=0.19 in /usr/local/lib/python3.6/dist-packages (from arviz) (1.4.1)\n",
            "Requirement already satisfied: xarray>=0.11 in /usr/local/lib/python3.6/dist-packages (from arviz) (0.14.1)\n",
            "Requirement already satisfied: numpy>=1.12 in /usr/local/lib/python3.6/dist-packages (from arviz) (1.17.5)\n",
            "Requirement already satisfied: pandas>=0.23 in /usr/local/lib/python3.6/dist-packages (from arviz) (0.25.3)\n",
            "Requirement already satisfied: packaging in /usr/local/lib/python3.6/dist-packages (from arviz) (20.1)\n",
            "Requirement already satisfied: matplotlib>=3.0 in /usr/local/lib/python3.6/dist-packages (from arviz) (3.1.2)\n",
            "Requirement already satisfied: netcdf4 in /usr/local/lib/python3.6/dist-packages (from arviz) (1.5.3)\n",
            "Requirement already satisfied: pytz>=2017.2 in /usr/local/lib/python3.6/dist-packages (from pandas>=0.23->arviz) (2018.9)\n",
            "Requirement already satisfied: python-dateutil>=2.6.1 in /usr/local/lib/python3.6/dist-packages (from pandas>=0.23->arviz) (2.6.1)\n",
            "Requirement already satisfied: six in /usr/local/lib/python3.6/dist-packages (from packaging->arviz) (1.12.0)\n",
            "Requirement already satisfied: pyparsing>=2.0.2 in /usr/local/lib/python3.6/dist-packages (from packaging->arviz) (2.4.6)\n",
            "Requirement already satisfied: cycler>=0.10 in /usr/local/lib/python3.6/dist-packages (from matplotlib>=3.0->arviz) (0.10.0)\n",
            "Requirement already satisfied: kiwisolver>=1.0.1 in /usr/local/lib/python3.6/dist-packages (from matplotlib>=3.0->arviz) (1.1.0)\n",
            "Requirement already satisfied: cftime in /usr/local/lib/python3.6/dist-packages (from netcdf4->arviz) (1.0.4.2)\n",
            "Requirement already satisfied: setuptools in /usr/local/lib/python3.6/dist-packages (from kiwisolver>=1.0.1->matplotlib>=3.0->arviz) (45.1.0)\n"
          ],
          "name": "stdout"
        },
        {
          "output_type": "stream",
          "text": [
            "Auto-assigning NUTS sampler...\n",
            "Initializing NUTS using jitter+adapt_diag...\n",
            "Sequential sampling (2 chains in 1 job)\n",
            "NUTS: [mu]\n",
            "100%|██████████| 1000/1000 [00:00<00:00, 1667.28it/s]\n",
            "100%|██████████| 1000/1000 [00:00<00:00, 1701.82it/s]\n"
          ],
          "name": "stderr"
        }
      ]
    },
    {
      "cell_type": "code",
      "metadata": {
        "id": "qpL-jvDtltJI",
        "colab_type": "code",
        "colab": {}
      },
      "source": [
        ""
      ],
      "execution_count": 0,
      "outputs": []
    }
  ]
}