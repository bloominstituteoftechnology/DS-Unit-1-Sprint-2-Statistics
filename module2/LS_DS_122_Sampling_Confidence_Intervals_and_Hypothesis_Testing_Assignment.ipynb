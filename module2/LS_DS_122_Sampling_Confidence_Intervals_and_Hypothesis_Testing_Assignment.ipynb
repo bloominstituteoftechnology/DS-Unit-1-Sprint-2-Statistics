{
  "nbformat": 4,
  "nbformat_minor": 0,
  "metadata": {
    "colab": {
      "name": "Copy of LS_DS_122_Sampling_Confidence_Intervals_and_Hypothesis_Testing_Assignment.ipynb",
      "provenance": [],
      "collapsed_sections": [],
      "include_colab_link": true
    },
    "kernelspec": {
      "name": "python3",
      "display_name": "Python 3"
    }
  },
  "cells": [
    {
      "cell_type": "markdown",
      "metadata": {
        "id": "view-in-github",
        "colab_type": "text"
      },
      "source": [
        "<a href=\"https://colab.research.google.com/github/repoocsov/DS-Unit-1-Sprint-2-Statistics/blob/master/module2/LS_DS_122_Sampling_Confidence_Intervals_and_Hypothesis_Testing_Assignment.ipynb\" target=\"_parent\"><img src=\"https://colab.research.google.com/assets/colab-badge.svg\" alt=\"Open In Colab\"/></a>"
      ]
    },
    {
      "cell_type": "markdown",
      "metadata": {
        "id": "11OzdxWTM7UR",
        "colab_type": "text"
      },
      "source": [
        "## Assignment - Build a confidence interval\n",
        "\n",
        "A confidence interval refers to a neighborhood around some point estimate, the size of which is determined by the desired p-value. For instance, we might say that 52% of Americans prefer tacos to burritos, with a 95% confidence interval of +/- 5%.\n",
        "\n",
        "52% (0.52) is the point estimate, and +/- 5% (the interval $[0.47, 0.57]$) is the confidence interval. \"95% confidence\" means a p-value $\\leq 1 - 0.95 = 0.05$.\n",
        "\n",
        "In this case, the confidence interval includes $0.5$ - which is the natural null hypothesis (that half of Americans prefer tacos and half burritos, thus there is no clear favorite). So in this case, we could use the confidence interval to report that we've failed to reject the null hypothesis.\n",
        "\n",
        "But providing the full analysis with a confidence interval, including a graphical representation of it, can be a helpful and powerful way to tell your story. Done well, it is also more intuitive to a layperson than simply saying \"fail to reject the null hypothesis\" - it shows that in fact the data does *not* give a single clear result (the point estimate) but a whole range of possibilities.\n",
        "\n",
        "How is a confidence interval built, and how should it be interpreted? It does *not* mean that 95% of the data lies in that interval - instead, the frequentist interpretation is \"if we were to repeat this experiment 100 times, we would expect the average result to lie in this interval ~95 times.\"\n",
        "\n",
        "For a 95% confidence interval and a normal(-ish) distribution, you can simply remember that +/-2 standard deviations contains 95% of the probability mass, and so the 95% confidence interval based on a given sample is centered at the mean (point estimate) and has a range of +/- 2 (or technically 1.96) standard deviations.\n",
        "\n",
        "Different distributions/assumptions (90% confidence, 99% confidence) will require different math, but the overall process and interpretation (with a frequentist approach) will be the same.\n",
        "\n",
        "Your assignment - using the data from the prior module ([congressional voting records](https://archive.ics.uci.edu/ml/datasets/Congressional+Voting+Records)):\n",
        "\n",
        "\n",
        "### Confidence Intervals:\n",
        "1. Generate and numerically represent a confidence interval\n",
        "2. Graphically (with a plot) represent the confidence interval\n",
        "3. Interpret the confidence interval - what does it tell you about the data and its distribution?\n",
        "\n",
        "### Chi-squared tests:\n",
        "4. Take a dataset that we have used in the past in class that has **categorical** variables. Pick two of those categorical variables and run a chi-squared tests on that data\n",
        "  - By hand using Numpy\n",
        "  - In a single line using Scipy\n"
      ]
    },
    {
      "cell_type": "code",
      "metadata": {
        "id": "Ckcr4A4FM7cs",
        "colab_type": "code",
        "colab": {
          "base_uri": "https://localhost:8080/",
          "height": 197
        },
        "outputId": "f547cf7c-e82a-492a-ed1b-9873330c8164"
      },
      "source": [
        "# GOING OVER CHI SQUARED TESTS TOMORROW MORE. WILL REVISIT THIS. SUBMITTING FOR NOW ANYWAY.\n",
        "# Importing dataframe\n",
        "import pandas as pd\n",
        "df = pd.read_csv('https://archive.ics.uci.edu/ml/machine-learning-databases/voting-records/house-votes-84.data', header=None, na_values='?')\n",
        "df.head()"
      ],
      "execution_count": 12,
      "outputs": [
        {
          "output_type": "execute_result",
          "data": {
            "text/html": [
              "<div>\n",
              "<style scoped>\n",
              "    .dataframe tbody tr th:only-of-type {\n",
              "        vertical-align: middle;\n",
              "    }\n",
              "\n",
              "    .dataframe tbody tr th {\n",
              "        vertical-align: top;\n",
              "    }\n",
              "\n",
              "    .dataframe thead th {\n",
              "        text-align: right;\n",
              "    }\n",
              "</style>\n",
              "<table border=\"1\" class=\"dataframe\">\n",
              "  <thead>\n",
              "    <tr style=\"text-align: right;\">\n",
              "      <th></th>\n",
              "      <th>0</th>\n",
              "      <th>1</th>\n",
              "      <th>2</th>\n",
              "      <th>3</th>\n",
              "      <th>4</th>\n",
              "      <th>5</th>\n",
              "      <th>6</th>\n",
              "      <th>7</th>\n",
              "      <th>8</th>\n",
              "      <th>9</th>\n",
              "      <th>10</th>\n",
              "      <th>11</th>\n",
              "      <th>12</th>\n",
              "      <th>13</th>\n",
              "      <th>14</th>\n",
              "      <th>15</th>\n",
              "      <th>16</th>\n",
              "    </tr>\n",
              "  </thead>\n",
              "  <tbody>\n",
              "    <tr>\n",
              "      <th>0</th>\n",
              "      <td>republican</td>\n",
              "      <td>n</td>\n",
              "      <td>y</td>\n",
              "      <td>n</td>\n",
              "      <td>y</td>\n",
              "      <td>y</td>\n",
              "      <td>y</td>\n",
              "      <td>n</td>\n",
              "      <td>n</td>\n",
              "      <td>n</td>\n",
              "      <td>y</td>\n",
              "      <td>NaN</td>\n",
              "      <td>y</td>\n",
              "      <td>y</td>\n",
              "      <td>y</td>\n",
              "      <td>n</td>\n",
              "      <td>y</td>\n",
              "    </tr>\n",
              "    <tr>\n",
              "      <th>1</th>\n",
              "      <td>republican</td>\n",
              "      <td>n</td>\n",
              "      <td>y</td>\n",
              "      <td>n</td>\n",
              "      <td>y</td>\n",
              "      <td>y</td>\n",
              "      <td>y</td>\n",
              "      <td>n</td>\n",
              "      <td>n</td>\n",
              "      <td>n</td>\n",
              "      <td>n</td>\n",
              "      <td>n</td>\n",
              "      <td>y</td>\n",
              "      <td>y</td>\n",
              "      <td>y</td>\n",
              "      <td>n</td>\n",
              "      <td>NaN</td>\n",
              "    </tr>\n",
              "    <tr>\n",
              "      <th>2</th>\n",
              "      <td>democrat</td>\n",
              "      <td>NaN</td>\n",
              "      <td>y</td>\n",
              "      <td>y</td>\n",
              "      <td>NaN</td>\n",
              "      <td>y</td>\n",
              "      <td>y</td>\n",
              "      <td>n</td>\n",
              "      <td>n</td>\n",
              "      <td>n</td>\n",
              "      <td>n</td>\n",
              "      <td>y</td>\n",
              "      <td>n</td>\n",
              "      <td>y</td>\n",
              "      <td>y</td>\n",
              "      <td>n</td>\n",
              "      <td>n</td>\n",
              "    </tr>\n",
              "    <tr>\n",
              "      <th>3</th>\n",
              "      <td>democrat</td>\n",
              "      <td>n</td>\n",
              "      <td>y</td>\n",
              "      <td>y</td>\n",
              "      <td>n</td>\n",
              "      <td>NaN</td>\n",
              "      <td>y</td>\n",
              "      <td>n</td>\n",
              "      <td>n</td>\n",
              "      <td>n</td>\n",
              "      <td>n</td>\n",
              "      <td>y</td>\n",
              "      <td>n</td>\n",
              "      <td>y</td>\n",
              "      <td>n</td>\n",
              "      <td>n</td>\n",
              "      <td>y</td>\n",
              "    </tr>\n",
              "    <tr>\n",
              "      <th>4</th>\n",
              "      <td>democrat</td>\n",
              "      <td>y</td>\n",
              "      <td>y</td>\n",
              "      <td>y</td>\n",
              "      <td>n</td>\n",
              "      <td>y</td>\n",
              "      <td>y</td>\n",
              "      <td>n</td>\n",
              "      <td>n</td>\n",
              "      <td>n</td>\n",
              "      <td>n</td>\n",
              "      <td>y</td>\n",
              "      <td>NaN</td>\n",
              "      <td>y</td>\n",
              "      <td>y</td>\n",
              "      <td>y</td>\n",
              "      <td>y</td>\n",
              "    </tr>\n",
              "  </tbody>\n",
              "</table>\n",
              "</div>"
            ],
            "text/plain": [
              "           0    1  2  3    4    5  6  7  8  9  10   11   12 13 14 15   16\n",
              "0  republican    n  y  n    y    y  y  n  n  n  y  NaN    y  y  y  n    y\n",
              "1  republican    n  y  n    y    y  y  n  n  n  n    n    y  y  y  n  NaN\n",
              "2    democrat  NaN  y  y  NaN    y  y  n  n  n  n    y    n  y  y  n    n\n",
              "3    democrat    n  y  y    n  NaN  y  n  n  n  n    y    n  y  n  n    y\n",
              "4    democrat    y  y  y    n    y  y  n  n  n  n    y  NaN  y  y  y    y"
            ]
          },
          "metadata": {
            "tags": []
          },
          "execution_count": 12
        }
      ]
    },
    {
      "cell_type": "code",
      "metadata": {
        "id": "N7Vaxh143cjx",
        "colab_type": "code",
        "colab": {
          "base_uri": "https://localhost:8080/",
          "height": 664
        },
        "outputId": "c6ba1d23-07a8-4763-923a-96d9fcd6f767"
      },
      "source": [
        "# Fixing headers, converting strings into a numeric format, and seperating democrats and republicans into two seperate dataframes\n",
        "import numpy as np\n",
        "\n",
        "# Designating headers\n",
        "headers = ['party', 'handicapped-infants', 'water-project', \n",
        "'budget', 'physician-fee-freeze', 'el-salvador-aid', 'religious-groups', \n",
        "'anti-satellite-ban', 'aid-to-contras', 'mx-missile', 'immigration', \n",
        "'synfuels', 'education', 'right-to-sue', 'crime', 'duty-free', \n",
        "'south-africa']\n",
        "df.columns = headers\n",
        "\n",
        "# Converting to numeric format\n",
        "df = df.replace({'n': 0, 'y': 1})\n",
        "df.head()\n",
        "\n",
        "# Creating two seperate dataframes\n",
        "condition = df['party'] == 'republican'\n",
        "republicans = df[condition]\n",
        "republicans.head(20)\n",
        "\n",
        "condition = df['party'] == 'democrat'\n",
        "democrats = df[condition]\n",
        "democrats.head(20)\n",
        "\n",
        "# 267 dems\n",
        "# 168 repubs"
      ],
      "execution_count": 13,
      "outputs": [
        {
          "output_type": "execute_result",
          "data": {
            "text/html": [
              "<div>\n",
              "<style scoped>\n",
              "    .dataframe tbody tr th:only-of-type {\n",
              "        vertical-align: middle;\n",
              "    }\n",
              "\n",
              "    .dataframe tbody tr th {\n",
              "        vertical-align: top;\n",
              "    }\n",
              "\n",
              "    .dataframe thead th {\n",
              "        text-align: right;\n",
              "    }\n",
              "</style>\n",
              "<table border=\"1\" class=\"dataframe\">\n",
              "  <thead>\n",
              "    <tr style=\"text-align: right;\">\n",
              "      <th></th>\n",
              "      <th>party</th>\n",
              "      <th>handicapped-infants</th>\n",
              "      <th>water-project</th>\n",
              "      <th>budget</th>\n",
              "      <th>physician-fee-freeze</th>\n",
              "      <th>el-salvador-aid</th>\n",
              "      <th>religious-groups</th>\n",
              "      <th>anti-satellite-ban</th>\n",
              "      <th>aid-to-contras</th>\n",
              "      <th>mx-missile</th>\n",
              "      <th>immigration</th>\n",
              "      <th>synfuels</th>\n",
              "      <th>education</th>\n",
              "      <th>right-to-sue</th>\n",
              "      <th>crime</th>\n",
              "      <th>duty-free</th>\n",
              "      <th>south-africa</th>\n",
              "    </tr>\n",
              "  </thead>\n",
              "  <tbody>\n",
              "    <tr>\n",
              "      <th>2</th>\n",
              "      <td>democrat</td>\n",
              "      <td>NaN</td>\n",
              "      <td>1.0</td>\n",
              "      <td>1.0</td>\n",
              "      <td>NaN</td>\n",
              "      <td>1.0</td>\n",
              "      <td>1.0</td>\n",
              "      <td>0.0</td>\n",
              "      <td>0.0</td>\n",
              "      <td>0.0</td>\n",
              "      <td>0.0</td>\n",
              "      <td>1.0</td>\n",
              "      <td>0.0</td>\n",
              "      <td>1.0</td>\n",
              "      <td>1.0</td>\n",
              "      <td>0.0</td>\n",
              "      <td>0.0</td>\n",
              "    </tr>\n",
              "    <tr>\n",
              "      <th>3</th>\n",
              "      <td>democrat</td>\n",
              "      <td>0.0</td>\n",
              "      <td>1.0</td>\n",
              "      <td>1.0</td>\n",
              "      <td>0.0</td>\n",
              "      <td>NaN</td>\n",
              "      <td>1.0</td>\n",
              "      <td>0.0</td>\n",
              "      <td>0.0</td>\n",
              "      <td>0.0</td>\n",
              "      <td>0.0</td>\n",
              "      <td>1.0</td>\n",
              "      <td>0.0</td>\n",
              "      <td>1.0</td>\n",
              "      <td>0.0</td>\n",
              "      <td>0.0</td>\n",
              "      <td>1.0</td>\n",
              "    </tr>\n",
              "    <tr>\n",
              "      <th>4</th>\n",
              "      <td>democrat</td>\n",
              "      <td>1.0</td>\n",
              "      <td>1.0</td>\n",
              "      <td>1.0</td>\n",
              "      <td>0.0</td>\n",
              "      <td>1.0</td>\n",
              "      <td>1.0</td>\n",
              "      <td>0.0</td>\n",
              "      <td>0.0</td>\n",
              "      <td>0.0</td>\n",
              "      <td>0.0</td>\n",
              "      <td>1.0</td>\n",
              "      <td>NaN</td>\n",
              "      <td>1.0</td>\n",
              "      <td>1.0</td>\n",
              "      <td>1.0</td>\n",
              "      <td>1.0</td>\n",
              "    </tr>\n",
              "    <tr>\n",
              "      <th>5</th>\n",
              "      <td>democrat</td>\n",
              "      <td>0.0</td>\n",
              "      <td>1.0</td>\n",
              "      <td>1.0</td>\n",
              "      <td>0.0</td>\n",
              "      <td>1.0</td>\n",
              "      <td>1.0</td>\n",
              "      <td>0.0</td>\n",
              "      <td>0.0</td>\n",
              "      <td>0.0</td>\n",
              "      <td>0.0</td>\n",
              "      <td>0.0</td>\n",
              "      <td>0.0</td>\n",
              "      <td>1.0</td>\n",
              "      <td>1.0</td>\n",
              "      <td>1.0</td>\n",
              "      <td>1.0</td>\n",
              "    </tr>\n",
              "    <tr>\n",
              "      <th>6</th>\n",
              "      <td>democrat</td>\n",
              "      <td>0.0</td>\n",
              "      <td>1.0</td>\n",
              "      <td>0.0</td>\n",
              "      <td>1.0</td>\n",
              "      <td>1.0</td>\n",
              "      <td>1.0</td>\n",
              "      <td>0.0</td>\n",
              "      <td>0.0</td>\n",
              "      <td>0.0</td>\n",
              "      <td>0.0</td>\n",
              "      <td>0.0</td>\n",
              "      <td>0.0</td>\n",
              "      <td>NaN</td>\n",
              "      <td>1.0</td>\n",
              "      <td>1.0</td>\n",
              "      <td>1.0</td>\n",
              "    </tr>\n",
              "    <tr>\n",
              "      <th>9</th>\n",
              "      <td>democrat</td>\n",
              "      <td>1.0</td>\n",
              "      <td>1.0</td>\n",
              "      <td>1.0</td>\n",
              "      <td>0.0</td>\n",
              "      <td>0.0</td>\n",
              "      <td>0.0</td>\n",
              "      <td>1.0</td>\n",
              "      <td>1.0</td>\n",
              "      <td>1.0</td>\n",
              "      <td>0.0</td>\n",
              "      <td>0.0</td>\n",
              "      <td>0.0</td>\n",
              "      <td>0.0</td>\n",
              "      <td>0.0</td>\n",
              "      <td>NaN</td>\n",
              "      <td>NaN</td>\n",
              "    </tr>\n",
              "    <tr>\n",
              "      <th>12</th>\n",
              "      <td>democrat</td>\n",
              "      <td>0.0</td>\n",
              "      <td>1.0</td>\n",
              "      <td>1.0</td>\n",
              "      <td>0.0</td>\n",
              "      <td>0.0</td>\n",
              "      <td>0.0</td>\n",
              "      <td>1.0</td>\n",
              "      <td>1.0</td>\n",
              "      <td>1.0</td>\n",
              "      <td>0.0</td>\n",
              "      <td>0.0</td>\n",
              "      <td>0.0</td>\n",
              "      <td>1.0</td>\n",
              "      <td>0.0</td>\n",
              "      <td>NaN</td>\n",
              "      <td>NaN</td>\n",
              "    </tr>\n",
              "    <tr>\n",
              "      <th>13</th>\n",
              "      <td>democrat</td>\n",
              "      <td>1.0</td>\n",
              "      <td>1.0</td>\n",
              "      <td>1.0</td>\n",
              "      <td>0.0</td>\n",
              "      <td>0.0</td>\n",
              "      <td>1.0</td>\n",
              "      <td>1.0</td>\n",
              "      <td>1.0</td>\n",
              "      <td>NaN</td>\n",
              "      <td>1.0</td>\n",
              "      <td>1.0</td>\n",
              "      <td>NaN</td>\n",
              "      <td>0.0</td>\n",
              "      <td>0.0</td>\n",
              "      <td>1.0</td>\n",
              "      <td>NaN</td>\n",
              "    </tr>\n",
              "    <tr>\n",
              "      <th>16</th>\n",
              "      <td>democrat</td>\n",
              "      <td>1.0</td>\n",
              "      <td>0.0</td>\n",
              "      <td>1.0</td>\n",
              "      <td>0.0</td>\n",
              "      <td>0.0</td>\n",
              "      <td>1.0</td>\n",
              "      <td>0.0</td>\n",
              "      <td>1.0</td>\n",
              "      <td>NaN</td>\n",
              "      <td>1.0</td>\n",
              "      <td>1.0</td>\n",
              "      <td>1.0</td>\n",
              "      <td>NaN</td>\n",
              "      <td>0.0</td>\n",
              "      <td>0.0</td>\n",
              "      <td>1.0</td>\n",
              "    </tr>\n",
              "    <tr>\n",
              "      <th>17</th>\n",
              "      <td>democrat</td>\n",
              "      <td>1.0</td>\n",
              "      <td>NaN</td>\n",
              "      <td>1.0</td>\n",
              "      <td>0.0</td>\n",
              "      <td>0.0</td>\n",
              "      <td>0.0</td>\n",
              "      <td>1.0</td>\n",
              "      <td>1.0</td>\n",
              "      <td>1.0</td>\n",
              "      <td>0.0</td>\n",
              "      <td>0.0</td>\n",
              "      <td>0.0</td>\n",
              "      <td>1.0</td>\n",
              "      <td>0.0</td>\n",
              "      <td>1.0</td>\n",
              "      <td>1.0</td>\n",
              "    </tr>\n",
              "    <tr>\n",
              "      <th>19</th>\n",
              "      <td>democrat</td>\n",
              "      <td>1.0</td>\n",
              "      <td>1.0</td>\n",
              "      <td>1.0</td>\n",
              "      <td>0.0</td>\n",
              "      <td>0.0</td>\n",
              "      <td>0.0</td>\n",
              "      <td>1.0</td>\n",
              "      <td>1.0</td>\n",
              "      <td>1.0</td>\n",
              "      <td>0.0</td>\n",
              "      <td>1.0</td>\n",
              "      <td>0.0</td>\n",
              "      <td>0.0</td>\n",
              "      <td>0.0</td>\n",
              "      <td>1.0</td>\n",
              "      <td>1.0</td>\n",
              "    </tr>\n",
              "    <tr>\n",
              "      <th>20</th>\n",
              "      <td>democrat</td>\n",
              "      <td>1.0</td>\n",
              "      <td>1.0</td>\n",
              "      <td>1.0</td>\n",
              "      <td>0.0</td>\n",
              "      <td>0.0</td>\n",
              "      <td>NaN</td>\n",
              "      <td>1.0</td>\n",
              "      <td>1.0</td>\n",
              "      <td>0.0</td>\n",
              "      <td>0.0</td>\n",
              "      <td>1.0</td>\n",
              "      <td>0.0</td>\n",
              "      <td>0.0</td>\n",
              "      <td>0.0</td>\n",
              "      <td>1.0</td>\n",
              "      <td>1.0</td>\n",
              "    </tr>\n",
              "    <tr>\n",
              "      <th>21</th>\n",
              "      <td>democrat</td>\n",
              "      <td>1.0</td>\n",
              "      <td>1.0</td>\n",
              "      <td>1.0</td>\n",
              "      <td>0.0</td>\n",
              "      <td>0.0</td>\n",
              "      <td>0.0</td>\n",
              "      <td>1.0</td>\n",
              "      <td>1.0</td>\n",
              "      <td>1.0</td>\n",
              "      <td>0.0</td>\n",
              "      <td>0.0</td>\n",
              "      <td>0.0</td>\n",
              "      <td>NaN</td>\n",
              "      <td>NaN</td>\n",
              "      <td>1.0</td>\n",
              "      <td>1.0</td>\n",
              "    </tr>\n",
              "    <tr>\n",
              "      <th>22</th>\n",
              "      <td>democrat</td>\n",
              "      <td>1.0</td>\n",
              "      <td>NaN</td>\n",
              "      <td>1.0</td>\n",
              "      <td>0.0</td>\n",
              "      <td>0.0</td>\n",
              "      <td>0.0</td>\n",
              "      <td>1.0</td>\n",
              "      <td>1.0</td>\n",
              "      <td>1.0</td>\n",
              "      <td>0.0</td>\n",
              "      <td>0.0</td>\n",
              "      <td>NaN</td>\n",
              "      <td>0.0</td>\n",
              "      <td>0.0</td>\n",
              "      <td>1.0</td>\n",
              "      <td>1.0</td>\n",
              "    </tr>\n",
              "    <tr>\n",
              "      <th>23</th>\n",
              "      <td>democrat</td>\n",
              "      <td>1.0</td>\n",
              "      <td>1.0</td>\n",
              "      <td>1.0</td>\n",
              "      <td>0.0</td>\n",
              "      <td>0.0</td>\n",
              "      <td>0.0</td>\n",
              "      <td>1.0</td>\n",
              "      <td>1.0</td>\n",
              "      <td>1.0</td>\n",
              "      <td>0.0</td>\n",
              "      <td>0.0</td>\n",
              "      <td>0.0</td>\n",
              "      <td>0.0</td>\n",
              "      <td>0.0</td>\n",
              "      <td>1.0</td>\n",
              "      <td>1.0</td>\n",
              "    </tr>\n",
              "    <tr>\n",
              "      <th>24</th>\n",
              "      <td>democrat</td>\n",
              "      <td>1.0</td>\n",
              "      <td>0.0</td>\n",
              "      <td>1.0</td>\n",
              "      <td>0.0</td>\n",
              "      <td>0.0</td>\n",
              "      <td>0.0</td>\n",
              "      <td>1.0</td>\n",
              "      <td>1.0</td>\n",
              "      <td>1.0</td>\n",
              "      <td>0.0</td>\n",
              "      <td>0.0</td>\n",
              "      <td>0.0</td>\n",
              "      <td>0.0</td>\n",
              "      <td>0.0</td>\n",
              "      <td>1.0</td>\n",
              "      <td>NaN</td>\n",
              "    </tr>\n",
              "    <tr>\n",
              "      <th>25</th>\n",
              "      <td>democrat</td>\n",
              "      <td>1.0</td>\n",
              "      <td>0.0</td>\n",
              "      <td>1.0</td>\n",
              "      <td>0.0</td>\n",
              "      <td>0.0</td>\n",
              "      <td>0.0</td>\n",
              "      <td>1.0</td>\n",
              "      <td>1.0</td>\n",
              "      <td>1.0</td>\n",
              "      <td>1.0</td>\n",
              "      <td>0.0</td>\n",
              "      <td>0.0</td>\n",
              "      <td>0.0</td>\n",
              "      <td>0.0</td>\n",
              "      <td>1.0</td>\n",
              "      <td>1.0</td>\n",
              "    </tr>\n",
              "    <tr>\n",
              "      <th>26</th>\n",
              "      <td>democrat</td>\n",
              "      <td>1.0</td>\n",
              "      <td>0.0</td>\n",
              "      <td>1.0</td>\n",
              "      <td>0.0</td>\n",
              "      <td>0.0</td>\n",
              "      <td>0.0</td>\n",
              "      <td>1.0</td>\n",
              "      <td>1.0</td>\n",
              "      <td>1.0</td>\n",
              "      <td>0.0</td>\n",
              "      <td>1.0</td>\n",
              "      <td>0.0</td>\n",
              "      <td>0.0</td>\n",
              "      <td>0.0</td>\n",
              "      <td>1.0</td>\n",
              "      <td>1.0</td>\n",
              "    </tr>\n",
              "    <tr>\n",
              "      <th>27</th>\n",
              "      <td>democrat</td>\n",
              "      <td>1.0</td>\n",
              "      <td>1.0</td>\n",
              "      <td>1.0</td>\n",
              "      <td>0.0</td>\n",
              "      <td>0.0</td>\n",
              "      <td>0.0</td>\n",
              "      <td>1.0</td>\n",
              "      <td>1.0</td>\n",
              "      <td>1.0</td>\n",
              "      <td>0.0</td>\n",
              "      <td>1.0</td>\n",
              "      <td>0.0</td>\n",
              "      <td>0.0</td>\n",
              "      <td>0.0</td>\n",
              "      <td>1.0</td>\n",
              "      <td>1.0</td>\n",
              "    </tr>\n",
              "    <tr>\n",
              "      <th>29</th>\n",
              "      <td>democrat</td>\n",
              "      <td>1.0</td>\n",
              "      <td>1.0</td>\n",
              "      <td>1.0</td>\n",
              "      <td>0.0</td>\n",
              "      <td>0.0</td>\n",
              "      <td>0.0</td>\n",
              "      <td>1.0</td>\n",
              "      <td>1.0</td>\n",
              "      <td>1.0</td>\n",
              "      <td>0.0</td>\n",
              "      <td>1.0</td>\n",
              "      <td>0.0</td>\n",
              "      <td>0.0</td>\n",
              "      <td>0.0</td>\n",
              "      <td>1.0</td>\n",
              "      <td>1.0</td>\n",
              "    </tr>\n",
              "  </tbody>\n",
              "</table>\n",
              "</div>"
            ],
            "text/plain": [
              "       party  handicapped-infants  ...  duty-free  south-africa\n",
              "2   democrat                  NaN  ...        0.0           0.0\n",
              "3   democrat                  0.0  ...        0.0           1.0\n",
              "4   democrat                  1.0  ...        1.0           1.0\n",
              "5   democrat                  0.0  ...        1.0           1.0\n",
              "6   democrat                  0.0  ...        1.0           1.0\n",
              "9   democrat                  1.0  ...        NaN           NaN\n",
              "12  democrat                  0.0  ...        NaN           NaN\n",
              "13  democrat                  1.0  ...        1.0           NaN\n",
              "16  democrat                  1.0  ...        0.0           1.0\n",
              "17  democrat                  1.0  ...        1.0           1.0\n",
              "19  democrat                  1.0  ...        1.0           1.0\n",
              "20  democrat                  1.0  ...        1.0           1.0\n",
              "21  democrat                  1.0  ...        1.0           1.0\n",
              "22  democrat                  1.0  ...        1.0           1.0\n",
              "23  democrat                  1.0  ...        1.0           1.0\n",
              "24  democrat                  1.0  ...        1.0           NaN\n",
              "25  democrat                  1.0  ...        1.0           1.0\n",
              "26  democrat                  1.0  ...        1.0           1.0\n",
              "27  democrat                  1.0  ...        1.0           1.0\n",
              "29  democrat                  1.0  ...        1.0           1.0\n",
              "\n",
              "[20 rows x 17 columns]"
            ]
          },
          "metadata": {
            "tags": []
          },
          "execution_count": 13
        }
      ]
    },
    {
      "cell_type": "markdown",
      "metadata": {
        "id": "i5QEa7S92mJO",
        "colab_type": "text"
      },
      "source": [
        "##**Creating a confidence interval**\n",
        "\n",
        "*The following was incorrectly creating a confidence interval. Instead I simulated more samples. keeping for posterity."
      ]
    },
    {
      "cell_type": "code",
      "metadata": {
        "id": "yokUPoO63UFK",
        "colab_type": "code",
        "colab": {}
      },
      "source": [
        "import scipy.stats as stats\n",
        "\n",
        "# Define a function to take in a dataset and return the confidence interval based on a 95% confidence level\n",
        "def confidence_interval(data, confidence=0.95):\n",
        "\n",
        "  # Convert the data into a numpy array and save to the data variable\n",
        "  data = np.array(data)\n",
        "\n",
        "  # calculate the mean of this array and save it to mean\n",
        "  mean = np.mean(data)\n",
        "\n",
        "  # Saves the length (number of instances) of the data to the variable n\n",
        "  n = len(data)\n",
        "\n",
        "  # Calculates the standard devation of our data where the ddof is n-1. Saves this to the variable s\n",
        "  s = np.std(data, ddof=1)\n",
        "\n",
        "  # Calculates the standard error and saves this to stderr (Measure of spread)\n",
        "  stderr = s / np.sqrt(n)\n",
        "\n",
        "  # Calculates the distance from the mean (upper and lower bounds) our margins of error will be\n",
        "  margin_of_error = stderr * stats.t.ppf((1 + confidence) / 2.0, n - 1)\n",
        "\n",
        "  # returns the mean, upper, and lower bounds for the margin of error\n",
        "  return (mean, mean - margin_of_error, mean + margin_of_error)"
      ],
      "execution_count": 0,
      "outputs": []
    },
    {
      "cell_type": "code",
      "metadata": {
        "id": "JDjCsQQg6ZHz",
        "colab_type": "code",
        "colab": {
          "base_uri": "https://localhost:8080/",
          "height": 34
        },
        "outputId": "653ef584-16c2-4c78-d90b-9f244fd0d348"
      },
      "source": [
        "\"\"\"Example confidence interval for the republicans budget bill voting data\"\"\"\n",
        "\n",
        "# First need to create a new dataframe without nans\n",
        "rep_budget_no_nans = republicans['budget'].dropna(axis=0)\n",
        "\n",
        "# Pass in our dataframe and the confidence level\n",
        "rep_budget_ci = confidence_interval(rep_budget_no_nans, confidence=0.95)\n",
        "rep_budget_ci"
      ],
      "execution_count": 21,
      "outputs": [
        {
          "output_type": "execute_result",
          "data": {
            "text/plain": [
              "(0.13414634146341464, 0.08143520131697565, 0.18685748160985363)"
            ]
          },
          "metadata": {
            "tags": []
          },
          "execution_count": 21
        }
      ]
    },
    {
      "cell_type": "markdown",
      "metadata": {
        "id": "JeS5gyds8xrE",
        "colab_type": "text"
      },
      "source": [
        "# **Confidence interval for republican['budget'] given 95%**\n",
        "\n",
        "\n",
        "\n",
        "With the central limit theorem we know that given another sample, 95% of the time the mean vote of this sample will fall between .081435 (lower bound, 2.5%) and .186857 (upper bound, 97.5%)."
      ]
    },
    {
      "cell_type": "code",
      "metadata": {
        "id": "kVCrHkLV_l1B",
        "colab_type": "code",
        "colab": {
          "base_uri": "https://localhost:8080/",
          "height": 34
        },
        "outputId": "0a058251-74d4-47b1-e98c-29cea9eb904a"
      },
      "source": [
        "# Simulate more sample datasets\n",
        "\n",
        "# Where n is the range of outcomes, p is expected mean, and size is rep_budget_no_nans length\n",
        "rep_budget_simulation = np.random.binomial(n=1, p=.13414634146341464, size=164)\n",
        "\n",
        "confidence_interval(rep_budget_simulation)"
      ],
      "execution_count": 53,
      "outputs": [
        {
          "output_type": "execute_result",
          "data": {
            "text/plain": [
              "(0.13414634146341464, 0.08143520131697565, 0.18685748160985363)"
            ]
          },
          "metadata": {
            "tags": []
          },
          "execution_count": 53
        }
      ]
    },
    {
      "cell_type": "code",
      "metadata": {
        "id": "2Woc0ey2DZnt",
        "colab_type": "code",
        "colab": {
          "base_uri": "https://localhost:8080/",
          "height": 54
        },
        "outputId": "39b40b00-5d6b-424c-eddc-912244e5bf64"
      },
      "source": [
        "# Simulating more sample republican house voting data on the budget bill and saving these means to an array\n",
        "\n",
        "# As the number of samples increases the more normal the distribution becomes and the narrower (confidence increases) our confidence interval becomes\n",
        "rep_budget_means = []\n",
        "for x in range(0,500):\n",
        "  rep_budget_simulation = np.random.binomial(n=1, p=.13414634146341464, size=164)\n",
        "  rep_budget_means.append(rep_budget_simulation.mean())\n",
        "\n",
        "print(rep_budget_means)"
      ],
      "execution_count": 54,
      "outputs": [
        {
          "output_type": "stream",
          "text": [
            "[0.12804878048780488, 0.12195121951219512, 0.12195121951219512, 0.10975609756097561, 0.13414634146341464, 0.14634146341463414, 0.1524390243902439, 0.12195121951219512, 0.12804878048780488, 0.12804878048780488, 0.0975609756097561, 0.11585365853658537, 0.13414634146341464, 0.12195121951219512, 0.0975609756097561, 0.1524390243902439, 0.17073170731707318, 0.16463414634146342, 0.12195121951219512, 0.12195121951219512, 0.20121951219512196, 0.10975609756097561, 0.10975609756097561, 0.10365853658536585, 0.14634146341463414, 0.12195121951219512, 0.12804878048780488, 0.09146341463414634, 0.12195121951219512, 0.14634146341463414, 0.18902439024390244, 0.1524390243902439, 0.11585365853658537, 0.12804878048780488, 0.12195121951219512, 0.10975609756097561, 0.16463414634146342, 0.11585365853658537, 0.10365853658536585, 0.12195121951219512, 0.12195121951219512, 0.1402439024390244, 0.10365853658536585, 0.1524390243902439, 0.17073170731707318, 0.12804878048780488, 0.17073170731707318, 0.15853658536585366, 0.09146341463414634, 0.12195121951219512, 0.17073170731707318, 0.12804878048780488, 0.11585365853658537, 0.13414634146341464, 0.14634146341463414, 0.1524390243902439, 0.12195121951219512, 0.1524390243902439, 0.09146341463414634, 0.12804878048780488, 0.13414634146341464, 0.12195121951219512, 0.12804878048780488, 0.13414634146341464, 0.13414634146341464, 0.11585365853658537, 0.1524390243902439, 0.14634146341463414, 0.1402439024390244, 0.12804878048780488, 0.1402439024390244, 0.10975609756097561, 0.11585365853658537, 0.12195121951219512, 0.18292682926829268, 0.12804878048780488, 0.10975609756097561, 0.14634146341463414, 0.1524390243902439, 0.17682926829268292, 0.12195121951219512, 0.10975609756097561, 0.11585365853658537, 0.12195121951219512, 0.12804878048780488, 0.13414634146341464, 0.17073170731707318, 0.11585365853658537, 0.12195121951219512, 0.12195121951219512, 0.1524390243902439, 0.14634146341463414, 0.14634146341463414, 0.12195121951219512, 0.0975609756097561, 0.1524390243902439, 0.16463414634146342, 0.10365853658536585, 0.12804878048780488, 0.1524390243902439, 0.0975609756097561, 0.18292682926829268, 0.15853658536585366, 0.17073170731707318, 0.11585365853658537, 0.11585365853658537, 0.0975609756097561, 0.11585365853658537, 0.16463414634146342, 0.11585365853658537, 0.10365853658536585, 0.10975609756097561, 0.14634146341463414, 0.1402439024390244, 0.1402439024390244, 0.1402439024390244, 0.18292682926829268, 0.12195121951219512, 0.13414634146341464, 0.13414634146341464, 0.11585365853658537, 0.12195121951219512, 0.11585365853658537, 0.10365853658536585, 0.12804878048780488, 0.12804878048780488, 0.1402439024390244, 0.11585365853658537, 0.12195121951219512, 0.11585365853658537, 0.1524390243902439, 0.0975609756097561, 0.10975609756097561, 0.16463414634146342, 0.16463414634146342, 0.12804878048780488, 0.14634146341463414, 0.13414634146341464, 0.15853658536585366, 0.1402439024390244, 0.12195121951219512, 0.16463414634146342, 0.12804878048780488, 0.20121951219512196, 0.10365853658536585, 0.12195121951219512, 0.11585365853658537, 0.10975609756097561, 0.12804878048780488, 0.1524390243902439, 0.14634146341463414, 0.14634146341463414, 0.13414634146341464, 0.12195121951219512, 0.10365853658536585, 0.17682926829268292, 0.10365853658536585, 0.1402439024390244, 0.0975609756097561, 0.13414634146341464, 0.10975609756097561, 0.15853658536585366, 0.18292682926829268, 0.12804878048780488, 0.10975609756097561, 0.15853658536585366, 0.12195121951219512, 0.11585365853658537, 0.1402439024390244, 0.1402439024390244, 0.12804878048780488, 0.12195121951219512, 0.1402439024390244, 0.13414634146341464, 0.12195121951219512, 0.09146341463414634, 0.10365853658536585, 0.1402439024390244, 0.1524390243902439, 0.12195121951219512, 0.11585365853658537, 0.1524390243902439, 0.10975609756097561, 0.10365853658536585, 0.14634146341463414, 0.13414634146341464, 0.06707317073170732, 0.15853658536585366, 0.0975609756097561, 0.18292682926829268, 0.15853658536585366, 0.17682926829268292, 0.16463414634146342, 0.1524390243902439, 0.11585365853658537, 0.11585365853658537, 0.12804878048780488, 0.10365853658536585, 0.1524390243902439, 0.12804878048780488, 0.16463414634146342, 0.12804878048780488, 0.18292682926829268, 0.0975609756097561, 0.1524390243902439, 0.08536585365853659, 0.0975609756097561, 0.1524390243902439, 0.15853658536585366, 0.15853658536585366, 0.0975609756097561, 0.20121951219512196, 0.0975609756097561, 0.10365853658536585, 0.13414634146341464, 0.14634146341463414, 0.09146341463414634, 0.18292682926829268, 0.09146341463414634, 0.0975609756097561, 0.14634146341463414, 0.12804878048780488, 0.12804878048780488, 0.14634146341463414, 0.1402439024390244, 0.16463414634146342, 0.13414634146341464, 0.08536585365853659, 0.07926829268292683, 0.11585365853658537, 0.1524390243902439, 0.14634146341463414, 0.11585365853658537, 0.1402439024390244, 0.15853658536585366, 0.13414634146341464, 0.14634146341463414, 0.12804878048780488, 0.12804878048780488, 0.14634146341463414, 0.1402439024390244, 0.12195121951219512, 0.09146341463414634, 0.10975609756097561, 0.11585365853658537, 0.13414634146341464, 0.13414634146341464, 0.15853658536585366, 0.15853658536585366, 0.0975609756097561, 0.12195121951219512, 0.14634146341463414, 0.11585365853658537, 0.15853658536585366, 0.21951219512195122, 0.14634146341463414, 0.09146341463414634, 0.1524390243902439, 0.1524390243902439, 0.17073170731707318, 0.14634146341463414, 0.12804878048780488, 0.12195121951219512, 0.10975609756097561, 0.10975609756097561, 0.14634146341463414, 0.15853658536585366, 0.15853658536585366, 0.14634146341463414, 0.10975609756097561, 0.13414634146341464, 0.1402439024390244, 0.12804878048780488, 0.10365853658536585, 0.08536585365853659, 0.12195121951219512, 0.1402439024390244, 0.14634146341463414, 0.12804878048780488, 0.07926829268292683, 0.1951219512195122, 0.10365853658536585, 0.14634146341463414, 0.12195121951219512, 0.17682926829268292, 0.16463414634146342, 0.10975609756097561, 0.07926829268292683, 0.12195121951219512, 0.13414634146341464, 0.15853658536585366, 0.10365853658536585, 0.14634146341463414, 0.12195121951219512, 0.11585365853658537, 0.13414634146341464, 0.13414634146341464, 0.10365853658536585, 0.1524390243902439, 0.17073170731707318, 0.1524390243902439, 0.15853658536585366, 0.07926829268292683, 0.11585365853658537, 0.08536585365853659, 0.13414634146341464, 0.13414634146341464, 0.12195121951219512, 0.15853658536585366, 0.15853658536585366, 0.16463414634146342, 0.13414634146341464, 0.1524390243902439, 0.16463414634146342, 0.17073170731707318, 0.11585365853658537, 0.18292682926829268, 0.15853658536585366, 0.17682926829268292, 0.13414634146341464, 0.1402439024390244, 0.1524390243902439, 0.11585365853658537, 0.12195121951219512, 0.13414634146341464, 0.14634146341463414, 0.12804878048780488, 0.1402439024390244, 0.1402439024390244, 0.08536585365853659, 0.1402439024390244, 0.14634146341463414, 0.0975609756097561, 0.1402439024390244, 0.11585365853658537, 0.1524390243902439, 0.09146341463414634, 0.14634146341463414, 0.12195121951219512, 0.13414634146341464, 0.21341463414634146, 0.1524390243902439, 0.1402439024390244, 0.12804878048780488, 0.12195121951219512, 0.1402439024390244, 0.12195121951219512, 0.11585365853658537, 0.1524390243902439, 0.12804878048780488, 0.11585365853658537, 0.12195121951219512, 0.13414634146341464, 0.12804878048780488, 0.13414634146341464, 0.09146341463414634, 0.15853658536585366, 0.13414634146341464, 0.11585365853658537, 0.13414634146341464, 0.12804878048780488, 0.12804878048780488, 0.12804878048780488, 0.12804878048780488, 0.0975609756097561, 0.12195121951219512, 0.10365853658536585, 0.12195121951219512, 0.09146341463414634, 0.11585365853658537, 0.07926829268292683, 0.14634146341463414, 0.07317073170731707, 0.15853658536585366, 0.1524390243902439, 0.13414634146341464, 0.10975609756097561, 0.1524390243902439, 0.12804878048780488, 0.1951219512195122, 0.1524390243902439, 0.15853658536585366, 0.12804878048780488, 0.12804878048780488, 0.17073170731707318, 0.16463414634146342, 0.12804878048780488, 0.17682926829268292, 0.16463414634146342, 0.1402439024390244, 0.1951219512195122, 0.13414634146341464, 0.10975609756097561, 0.10975609756097561, 0.08536585365853659, 0.10365853658536585, 0.1951219512195122, 0.1402439024390244, 0.13414634146341464, 0.18292682926829268, 0.12804878048780488, 0.10975609756097561, 0.1524390243902439, 0.14634146341463414, 0.14634146341463414, 0.13414634146341464, 0.12804878048780488, 0.13414634146341464, 0.18292682926829268, 0.14634146341463414, 0.12195121951219512, 0.14634146341463414, 0.12804878048780488, 0.1402439024390244, 0.13414634146341464, 0.17073170731707318, 0.12804878048780488, 0.13414634146341464, 0.15853658536585366, 0.16463414634146342, 0.1951219512195122, 0.12195121951219512, 0.0975609756097561, 0.16463414634146342, 0.14634146341463414, 0.15853658536585366, 0.12804878048780488, 0.10975609756097561, 0.1524390243902439, 0.11585365853658537, 0.11585365853658537, 0.18292682926829268, 0.12804878048780488, 0.17073170731707318, 0.12195121951219512, 0.16463414634146342, 0.13414634146341464, 0.09146341463414634, 0.0975609756097561, 0.12195121951219512, 0.15853658536585366, 0.12195121951219512, 0.15853658536585366, 0.11585365853658537, 0.1402439024390244, 0.12195121951219512, 0.11585365853658537, 0.10975609756097561, 0.11585365853658537, 0.18902439024390244, 0.10365853658536585, 0.11585365853658537, 0.18292682926829268, 0.13414634146341464, 0.14634146341463414, 0.16463414634146342, 0.12804878048780488, 0.18902439024390244, 0.1402439024390244, 0.13414634146341464, 0.1402439024390244, 0.1402439024390244, 0.1402439024390244, 0.10975609756097561, 0.16463414634146342, 0.09146341463414634, 0.16463414634146342, 0.0975609756097561, 0.10975609756097561, 0.10975609756097561, 0.10365853658536585, 0.18902439024390244, 0.09146341463414634, 0.14634146341463414, 0.12804878048780488, 0.16463414634146342, 0.10975609756097561, 0.10975609756097561, 0.10975609756097561, 0.1524390243902439, 0.09146341463414634, 0.12804878048780488, 0.12195121951219512, 0.10365853658536585, 0.10975609756097561, 0.12804878048780488, 0.1524390243902439, 0.11585365853658537, 0.12804878048780488, 0.12195121951219512, 0.1524390243902439, 0.15853658536585366, 0.13414634146341464, 0.15853658536585366, 0.14634146341463414, 0.11585365853658537, 0.12804878048780488, 0.13414634146341464, 0.1951219512195122, 0.14634146341463414]\n"
          ],
          "name": "stdout"
        }
      ]
    },
    {
      "cell_type": "code",
      "metadata": {
        "id": "FeEwD_y-Ad-n",
        "colab_type": "code",
        "colab": {
          "base_uri": "https://localhost:8080/",
          "height": 286
        },
        "outputId": "9d7afed9-bf68-406f-d23c-277e48777841"
      },
      "source": [
        "# Graphic representation of our confidence interval\n",
        "import seaborn as sns\n",
        "import matplotlib.pyplot as plt\n",
        "\n",
        "sns.distplot(rep_budget_means)\n",
        "CI = confidence_interval(rep_budget_means)\n",
        "plt.axvline(x=CI[1], color='red')\n",
        "plt.axvline(x=CI[2], color='red')\n",
        "plt.axvline(x=CI[0], color='k');\n",
        "print(CI)\n",
        "\n",
        "# This is not the correct confidence interval, instead this shows the distribution of 500 more simulated instances of republicans voting on the budget bill\n",
        "# See below for the confidence interval on the only sample we have (no additional simulations)"
      ],
      "execution_count": 56,
      "outputs": [
        {
          "output_type": "stream",
          "text": [
            "(0.1336951219512195, 0.1314449237948323, 0.13594532010760668)\n"
          ],
          "name": "stdout"
        },
        {
          "output_type": "display_data",
          "data": {
            "image/png": "[encoded data removed]",
            "text/plain": [
              "<Figure size 432x288 with 1 Axes>"
            ]
          },
          "metadata": {
            "tags": []
          }
        }
      ]
    },
    {
      "cell_type": "markdown",
      "metadata": {
        "id": "EKUVj5nCTDQc",
        "colab_type": "text"
      },
      "source": [
        "#**The Correct confidence interval**"
      ]
    },
    {
      "cell_type": "code",
      "metadata": {
        "id": "oYYmZ3DbTBoQ",
        "colab_type": "code",
        "colab": {
          "base_uri": "https://localhost:8080/",
          "height": 34
        },
        "outputId": "9c4cc253-dc7f-4d8b-cd0d-558dc81c7153"
      },
      "source": [
        "rep_budget_ci"
      ],
      "execution_count": 83,
      "outputs": [
        {
          "output_type": "execute_result",
          "data": {
            "text/plain": [
              "(0.13414634146341464, 0.08143520131697565, 0.18685748160985363)"
            ]
          },
          "metadata": {
            "tags": []
          },
          "execution_count": 83
        }
      ]
    },
    {
      "cell_type": "code",
      "metadata": {
        "id": "WgZ_gtDvTSPh",
        "colab_type": "code",
        "colab": {
          "base_uri": "https://localhost:8080/",
          "height": 296
        },
        "outputId": "cf9d9a4e-58a0-40d8-dd36-389b5d475095"
      },
      "source": [
        "sns.distplot(rep_budget_no_nans)\n",
        "CI = confidence_interval(rep_budget_no_nans)\n",
        "plt.axvline(x=CI[1], color='red')\n",
        "plt.axvline(x=CI[2], color='red')\n",
        "plt.axvline(x=CI[0], color='k');\n",
        "print(CI)"
      ],
      "execution_count": 85,
      "outputs": [
        {
          "output_type": "stream",
          "text": [
            "(0.13414634146341464, 0.08143520131697565, 0.18685748160985363)\n"
          ],
          "name": "stdout"
        },
        {
          "output_type": "display_data",
          "data": {
            "image/png": "[encoded data removed]",
            "text/plain": [
              "<Figure size 432x288 with 1 Axes>"
            ]
          },
          "metadata": {
            "tags": []
          }
        }
      ]
    },
    {
      "cell_type": "markdown",
      "metadata": {
        "id": "z3C0yGV3FxsI",
        "colab_type": "text"
      },
      "source": [
        "##**Conclusions:**\n",
        "With 95% confidence, the population parameter lies between 0.08143520131697565, 0.18685748160985363.\n",
        "\n"
      ]
    },
    {
      "cell_type": "markdown",
      "metadata": {
        "id": "32BKmlPyIBAi",
        "colab_type": "text"
      },
      "source": [
        "#**Part 2: Chi-squared tests**"
      ]
    },
    {
      "cell_type": "code",
      "metadata": {
        "id": "WwdkmCVWIJ0i",
        "colab_type": "code",
        "colab": {
          "base_uri": "https://localhost:8080/",
          "height": 124
        },
        "outputId": "0103f5b7-8e77-465a-8eba-94283d024577"
      },
      "source": [
        "# let's reload and clean our dataset, but this time ignoring ?'s as they can be considered catagorical data\n",
        "\n",
        "df = pd.read_csv('https://archive.ics.uci.edu/ml/machine-learning-databases/voting-records/house-votes-84.data', header=None)\n",
        "df.head()\n",
        "\n",
        "# Designating headers\n",
        "headers = ['party', 'handicapped-infants', 'water-project', \n",
        "'budget', 'physician-fee-freeze', 'el-salvador-aid', 'religious-groups', \n",
        "'anti-satellite-ban', 'aid-to-contras', 'mx-missile', 'immigration', \n",
        "'synfuels', 'education', 'right-to-sue', 'crime', 'duty-free', \n",
        "'south-africa']\n",
        "df.columns = headers\n",
        "\n",
        "# Converting to numeric format\n",
        "df = df.replace({'n': 0, 'y': 2, '?': 1})\n",
        "df.head()\n",
        "\n",
        "# Creating two seperate dataframes\n",
        "condition = df['party'] == 'republican'\n",
        "republicans = df[condition]\n",
        "republicans.head(2)\n",
        "\n",
        "condition = df['party'] == 'democrat'\n",
        "democrats = df[condition]\n",
        "democrats.head(2)"
      ],
      "execution_count": 106,
      "outputs": [
        {
          "output_type": "execute_result",
          "data": {
            "text/html": [
              "<div>\n",
              "<style scoped>\n",
              "    .dataframe tbody tr th:only-of-type {\n",
              "        vertical-align: middle;\n",
              "    }\n",
              "\n",
              "    .dataframe tbody tr th {\n",
              "        vertical-align: top;\n",
              "    }\n",
              "\n",
              "    .dataframe thead th {\n",
              "        text-align: right;\n",
              "    }\n",
              "</style>\n",
              "<table border=\"1\" class=\"dataframe\">\n",
              "  <thead>\n",
              "    <tr style=\"text-align: right;\">\n",
              "      <th></th>\n",
              "      <th>party</th>\n",
              "      <th>handicapped-infants</th>\n",
              "      <th>water-project</th>\n",
              "      <th>budget</th>\n",
              "      <th>physician-fee-freeze</th>\n",
              "      <th>el-salvador-aid</th>\n",
              "      <th>religious-groups</th>\n",
              "      <th>anti-satellite-ban</th>\n",
              "      <th>aid-to-contras</th>\n",
              "      <th>mx-missile</th>\n",
              "      <th>immigration</th>\n",
              "      <th>synfuels</th>\n",
              "      <th>education</th>\n",
              "      <th>right-to-sue</th>\n",
              "      <th>crime</th>\n",
              "      <th>duty-free</th>\n",
              "      <th>south-africa</th>\n",
              "    </tr>\n",
              "  </thead>\n",
              "  <tbody>\n",
              "    <tr>\n",
              "      <th>2</th>\n",
              "      <td>democrat</td>\n",
              "      <td>1</td>\n",
              "      <td>2</td>\n",
              "      <td>2</td>\n",
              "      <td>1</td>\n",
              "      <td>2</td>\n",
              "      <td>2</td>\n",
              "      <td>0</td>\n",
              "      <td>0</td>\n",
              "      <td>0</td>\n",
              "      <td>0</td>\n",
              "      <td>2</td>\n",
              "      <td>0</td>\n",
              "      <td>2</td>\n",
              "      <td>2</td>\n",
              "      <td>0</td>\n",
              "      <td>0</td>\n",
              "    </tr>\n",
              "    <tr>\n",
              "      <th>3</th>\n",
              "      <td>democrat</td>\n",
              "      <td>0</td>\n",
              "      <td>2</td>\n",
              "      <td>2</td>\n",
              "      <td>0</td>\n",
              "      <td>1</td>\n",
              "      <td>2</td>\n",
              "      <td>0</td>\n",
              "      <td>0</td>\n",
              "      <td>0</td>\n",
              "      <td>0</td>\n",
              "      <td>2</td>\n",
              "      <td>0</td>\n",
              "      <td>2</td>\n",
              "      <td>0</td>\n",
              "      <td>0</td>\n",
              "      <td>2</td>\n",
              "    </tr>\n",
              "  </tbody>\n",
              "</table>\n",
              "</div>"
            ],
            "text/plain": [
              "      party  handicapped-infants  water-project  ...  crime  duty-free  south-africa\n",
              "2  democrat                    1              2  ...      2          0             0\n",
              "3  democrat                    0              2  ...      0          0             2\n",
              "\n",
              "[2 rows x 17 columns]"
            ]
          },
          "metadata": {
            "tags": []
          },
          "execution_count": 106
        }
      ]
    },
    {
      "cell_type": "code",
      "metadata": {
        "id": "H05KWv-oJGDH",
        "colab_type": "code",
        "colab": {
          "base_uri": "https://localhost:8080/",
          "height": 141
        },
        "outputId": "b3091168-39f9-4faa-d442-24653ca7f9f1"
      },
      "source": [
        "# drop the party column\n",
        "#democrats = democrats.drop('party', axis=1)\n",
        "#republicans = republicans.drop('party', axis=1)\n",
        "\n",
        "# First convert dataframes into numpy arrays\n",
        "republican_np_array = republicans.values\n",
        "republican_np_array = np.array(republican_np_array)\n",
        "republican_np_array\n",
        "\n",
        "democrat_np_array = democrats.values\n",
        "democrat_np_array = np.array(democrat_np_array)\n",
        "democrat_np_array"
      ],
      "execution_count": 112,
      "outputs": [
        {
          "output_type": "execute_result",
          "data": {
            "text/plain": [
              "array([[1, 2, 2, ..., 2, 0, 0],\n",
              "       [0, 2, 2, ..., 0, 0, 2],\n",
              "       [2, 2, 2, ..., 2, 2, 2],\n",
              "       ...,\n",
              "       [1, 1, 1, ..., 0, 2, 2],\n",
              "       [2, 0, 2, ..., 1, 2, 2],\n",
              "       [0, 0, 2, ..., 0, 0, 2]])"
            ]
          },
          "metadata": {
            "tags": []
          },
          "execution_count": 112
        }
      ]
    },
    {
      "cell_type": "code",
      "metadata": {
        "id": "MJFv8t6HKlVD",
        "colab_type": "code",
        "colab": {
          "base_uri": "https://localhost:8080/",
          "height": 318
        },
        "outputId": "e85c5d13-d6c5-47bf-e345-8d8c1781e70a"
      },
      "source": [
        "print('REPUBLICAN')\n",
        "contingency_table = republican_np_array\n",
        "\n",
        "chi_2_stat, p_value, dof, expected = stats.chi2_contingency(contingency_table)\n",
        "chi_2_stat, p_value, dof, expected"
      ],
      "execution_count": 114,
      "outputs": [
        {
          "output_type": "stream",
          "text": [
            "REPUBLICAN\n"
          ],
          "name": "stdout"
        },
        {
          "output_type": "execute_result",
          "data": {
            "text/plain": [
              "(2129.4649913040503,\n",
              " 0.9999999884528987,\n",
              " 2505,\n",
              " array([[0.44217687, 1.15646259, 0.32653061, ..., 2.19727891, 0.27210884,\n",
              "         1.45578231],\n",
              "        [0.349087  , 0.91299678, 0.25778733, ..., 1.73469388, 0.21482277,\n",
              "         1.14930183],\n",
              "        [0.349087  , 0.91299678, 0.25778733, ..., 1.73469388, 0.21482277,\n",
              "         1.14930183],\n",
              "        ...,\n",
              "        [0.39563194, 1.03472968, 0.29215897, ..., 1.96598639, 0.24346581,\n",
              "         1.30254207],\n",
              "        [0.4189044 , 1.09559613, 0.30934479, ..., 2.08163265, 0.25778733,\n",
              "         1.37916219],\n",
              "        [0.39563194, 1.03472968, 0.29215897, ..., 1.96598639, 0.24346581,\n",
              "         1.30254207]]))"
            ]
          },
          "metadata": {
            "tags": []
          },
          "execution_count": 114
        }
      ]
    },
    {
      "cell_type": "code",
      "metadata": {
        "id": "TQ2Nl5EzaOiw",
        "colab_type": "code",
        "colab": {
          "base_uri": "https://localhost:8080/",
          "height": 318
        },
        "outputId": "85c60d97-9dd5-41b6-8230-96e2adf9cd36"
      },
      "source": [
        "print('DEMOCRAT')\n",
        "contingency_table = democrat_np_array\n",
        "\n",
        "chi_2_stat, p_value, dof, expected = stats.chi2_contingency(contingency_table)\n",
        "chi_2_stat, p_value, dof, expected"
      ],
      "execution_count": 115,
      "outputs": [
        {
          "output_type": "stream",
          "text": [
            "DEMOCRAT\n"
          ],
          "name": "stdout"
        },
        {
          "output_type": "execute_result",
          "data": {
            "text/plain": [
              "(3646.1051377210856,\n",
              " 0.9999623167928648,\n",
              " 3990,\n",
              " array([[1.15649628, 0.9655483 , 1.68970952, ..., 0.68453051, 1.21053817,\n",
              "         1.54199505],\n",
              "        [0.93965323, 0.78450799, 1.37288899, ..., 0.55618104, 0.98356226,\n",
              "         1.25287098],\n",
              "        [1.51790137, 1.26728214, 2.21774375, ..., 0.8984463 , 1.58883134,\n",
              "         2.0238685 ],\n",
              "        ...,\n",
              "        [1.2287773 , 1.02589507, 1.79531637, ..., 0.72731367, 1.2861968 ,\n",
              "         1.63836974],\n",
              "        [1.44562036, 1.20693537, 2.11213691, ..., 0.85566314, 1.51317271,\n",
              "         1.92749381],\n",
              "        [0.86737221, 0.72416122, 1.26728214, ..., 0.51339788, 0.90790363,\n",
              "         1.15649628]]))"
            ]
          },
          "metadata": {
            "tags": []
          },
          "execution_count": 115
        }
      ]
    },
    {
      "cell_type": "markdown",
      "metadata": {
        "id": "4ohsJhQUmEuS",
        "colab_type": "text"
      },
      "source": [
        "## Stretch goals:\n",
        "\n",
        "1. Write a summary of your findings, mixing prose and math/code/results. *Note* - yes, this is by definition a political topic. It is challenging but important to keep your writing voice *neutral* and stick to the facts of the data. Data science often involves considering controversial issues, so it's important to be sensitive about them (especially if you want to publish).\n",
        "2. Apply the techniques you learned today to your project data or other data of your choice, and write/discuss your findings here.\n",
        "3. Refactor your code so it is elegant, readable, and can be easily run for all issues."
      ]
    },
    {
      "cell_type": "markdown",
      "metadata": {
        "id": "nyJ3ySr7R2k9",
        "colab_type": "text"
      },
      "source": [
        "## Resources\n",
        "\n",
        "- [Interactive visualize the Chi-Squared test](https://homepage.divms.uiowa.edu/~mbognar/applets/chisq.html)\n",
        "- [Calculation of Chi-Squared test statistic](https://en.wikipedia.org/wiki/Pearson%27s_chi-squared_test)\n",
        "- [Visualization of a confidence interval generated by R code](https://commons.wikimedia.org/wiki/File:Confidence-interval.svg)\n",
        "- [Expected value of a squared standard normal](https://math.stackexchange.com/questions/264061/expected-value-calculation-for-squared-normal-distribution) (it's 1 - which is why the expected value of a Chi-Squared with $n$ degrees of freedom is $n$, as it's the sum of $n$ squared standard normals)"
      ]
    }
  ]
}