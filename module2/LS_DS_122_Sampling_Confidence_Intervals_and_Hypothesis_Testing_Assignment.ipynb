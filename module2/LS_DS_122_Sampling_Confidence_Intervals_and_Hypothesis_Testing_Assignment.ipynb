{
  "nbformat": 4,
  "nbformat_minor": 0,
  "metadata": {
    "colab": {
      "name": "LS_DS_122_Sampling_Confidence_Intervals_and_Hypothesis_Testing_Assignment.ipynb",
      "provenance": [],
      "collapsed_sections": [],
      "include_colab_link": true
    },
    "kernelspec": {
      "name": "python3",
      "display_name": "Python 3"
    }
  },
  "cells": [
    {
      "cell_type": "markdown",
      "metadata": {
        "id": "view-in-github",
        "colab_type": "text"
      },
      "source": [
        "<a href=\"https://colab.research.google.com/github/alex-pakalniskis/DS-Unit-1-Sprint-2-Statistics/blob/master/module2/LS_DS_122_Sampling_Confidence_Intervals_and_Hypothesis_Testing_Assignment.ipynb\" target=\"_parent\"><img src=\"https://colab.research.google.com/assets/colab-badge.svg\" alt=\"Open In Colab\"/></a>"
      ]
    },
    {
      "cell_type": "markdown",
      "metadata": {
        "id": "11OzdxWTM7UR",
        "colab_type": "text"
      },
      "source": [
        "## Assignment - Build a confidence interval\n",
        "\n",
        "A confidence interval refers to a neighborhood around some point estimate, the size of which is determined by the desired p-value. For instance, we might say that 52% of Americans prefer tacos to burritos, with a 95% confidence interval of +/- 5%.\n",
        "\n",
        "52% (0.52) is the point estimate, and +/- 5% (the interval $[0.47, 0.57]$) is the confidence interval. \"95% confidence\" means a p-value $\\leq 1 - 0.95 = 0.05$.\n",
        "\n",
        "In this case, the confidence interval includes $0.5$ - which is the natural null hypothesis (that half of Americans prefer tacos and half burritos, thus there is no clear favorite). So in this case, we could use the confidence interval to report that we've failed to reject the null hypothesis.\n",
        "\n",
        "But providing the full analysis with a confidence interval, including a graphical representation of it, can be a helpful and powerful way to tell your story. Done well, it is also more intuitive to a layperson than simply saying \"fail to reject the null hypothesis\" - it shows that in fact the data does *not* give a single clear result (the point estimate) but a whole range of possibilities.\n",
        "\n",
        "How is a confidence interval built, and how should it be interpreted? It does *not* mean that 95% of the data lies in that interval - instead, the frequentist interpretation is \"if we were to repeat this experiment 100 times, we would expect the average result to lie in this interval ~95 times.\"\n",
        "\n",
        "For a 95% confidence interval and a normal(-ish) distribution, you can simply remember that +/-2 standard deviations contains 95% of the probability mass, and so the 95% confidence interval based on a given sample is centered at the mean (point estimate) and has a range of +/- 2 (or technically 1.96) standard deviations.\n",
        "\n",
        "Different distributions/assumptions (90% confidence, 99% confidence) will require different math, but the overall process and interpretation (with a frequentist approach) will be the same.\n",
        "\n",
        "Your assignment - using the data from the prior module ([congressional voting records](https://archive.ics.uci.edu/ml/datasets/Congressional+Voting+Records)):\n",
        "\n",
        "\n",
        "### Confidence Intervals:\n",
        "1. Generate and numerically represent a confidence interval\n"
      ]
    },
    {
      "cell_type": "code",
      "metadata": {
        "id": "Ckcr4A4FM7cs",
        "colab_type": "code",
        "colab": {}
      },
      "source": [
        "# TODO - your code!"
      ],
      "execution_count": 0,
      "outputs": []
    },
    {
      "cell_type": "markdown",
      "metadata": {
        "id": "Fa34w894Bsx9",
        "colab_type": "text"
      },
      "source": [
        "### Import libraries for assignment"
      ]
    },
    {
      "cell_type": "code",
      "metadata": {
        "id": "OBrbYSHtBim5",
        "colab_type": "code",
        "colab": {}
      },
      "source": [
        "import pandas as pd\n",
        "\n",
        "from scipy import stats\n",
        "\n",
        "import numpy as np\n",
        "\n",
        "import matplotlib.pyplot as plt\n",
        "\n",
        "import seaborn as sns"
      ],
      "execution_count": 0,
      "outputs": []
    },
    {
      "cell_type": "markdown",
      "metadata": {
        "id": "S_Z0s2gVBv4m",
        "colab_type": "text"
      },
      "source": [
        "### Load data with pandas `read_csv` function. \n",
        "Data are from UCI Machine Learning Data Repository"
      ]
    },
    {
      "cell_type": "code",
      "metadata": {
        "id": "ZUEYjQrGBiuG",
        "colab_type": "code",
        "colab": {
          "base_uri": "https://localhost:8080/",
          "height": 233
        },
        "outputId": "410c8921-3bf4-45b0-edfd-56ab92e016b7"
      },
      "source": [
        "data_url = \"https://archive.ics.uci.edu/ml/machine-learning-databases/voting-records/house-votes-84.data\"\n",
        "\n",
        "data_headers = ['party','handicapped-infants','water-project',\n",
        "                          'budget','physician-fee-freeze', 'el-salvador-aid',\n",
        "                          'religious-groups','anti-satellite-ban',\n",
        "                          'aid-to-contras','mx-missile','immigration',\n",
        "                          'synfuels', 'education', 'right-to-sue','crime','duty-free',\n",
        "                          'south-africa']\n",
        "\n",
        "df = pd.read_csv(data_url, names=data_headers)\n",
        "\n",
        "df.head()"
      ],
      "execution_count": 2,
      "outputs": [
        {
          "output_type": "execute_result",
          "data": {
            "text/html": [
              "<div>\n",
              "<style scoped>\n",
              "    .dataframe tbody tr th:only-of-type {\n",
              "        vertical-align: middle;\n",
              "    }\n",
              "\n",
              "    .dataframe tbody tr th {\n",
              "        vertical-align: top;\n",
              "    }\n",
              "\n",
              "    .dataframe thead th {\n",
              "        text-align: right;\n",
              "    }\n",
              "</style>\n",
              "<table border=\"1\" class=\"dataframe\">\n",
              "  <thead>\n",
              "    <tr style=\"text-align: right;\">\n",
              "      <th></th>\n",
              "      <th>party</th>\n",
              "      <th>handicapped-infants</th>\n",
              "      <th>water-project</th>\n",
              "      <th>budget</th>\n",
              "      <th>physician-fee-freeze</th>\n",
              "      <th>el-salvador-aid</th>\n",
              "      <th>religious-groups</th>\n",
              "      <th>anti-satellite-ban</th>\n",
              "      <th>aid-to-contras</th>\n",
              "      <th>mx-missile</th>\n",
              "      <th>immigration</th>\n",
              "      <th>synfuels</th>\n",
              "      <th>education</th>\n",
              "      <th>right-to-sue</th>\n",
              "      <th>crime</th>\n",
              "      <th>duty-free</th>\n",
              "      <th>south-africa</th>\n",
              "    </tr>\n",
              "  </thead>\n",
              "  <tbody>\n",
              "    <tr>\n",
              "      <th>0</th>\n",
              "      <td>republican</td>\n",
              "      <td>n</td>\n",
              "      <td>y</td>\n",
              "      <td>n</td>\n",
              "      <td>y</td>\n",
              "      <td>y</td>\n",
              "      <td>y</td>\n",
              "      <td>n</td>\n",
              "      <td>n</td>\n",
              "      <td>n</td>\n",
              "      <td>y</td>\n",
              "      <td>?</td>\n",
              "      <td>y</td>\n",
              "      <td>y</td>\n",
              "      <td>y</td>\n",
              "      <td>n</td>\n",
              "      <td>y</td>\n",
              "    </tr>\n",
              "    <tr>\n",
              "      <th>1</th>\n",
              "      <td>republican</td>\n",
              "      <td>n</td>\n",
              "      <td>y</td>\n",
              "      <td>n</td>\n",
              "      <td>y</td>\n",
              "      <td>y</td>\n",
              "      <td>y</td>\n",
              "      <td>n</td>\n",
              "      <td>n</td>\n",
              "      <td>n</td>\n",
              "      <td>n</td>\n",
              "      <td>n</td>\n",
              "      <td>y</td>\n",
              "      <td>y</td>\n",
              "      <td>y</td>\n",
              "      <td>n</td>\n",
              "      <td>?</td>\n",
              "    </tr>\n",
              "    <tr>\n",
              "      <th>2</th>\n",
              "      <td>democrat</td>\n",
              "      <td>?</td>\n",
              "      <td>y</td>\n",
              "      <td>y</td>\n",
              "      <td>?</td>\n",
              "      <td>y</td>\n",
              "      <td>y</td>\n",
              "      <td>n</td>\n",
              "      <td>n</td>\n",
              "      <td>n</td>\n",
              "      <td>n</td>\n",
              "      <td>y</td>\n",
              "      <td>n</td>\n",
              "      <td>y</td>\n",
              "      <td>y</td>\n",
              "      <td>n</td>\n",
              "      <td>n</td>\n",
              "    </tr>\n",
              "    <tr>\n",
              "      <th>3</th>\n",
              "      <td>democrat</td>\n",
              "      <td>n</td>\n",
              "      <td>y</td>\n",
              "      <td>y</td>\n",
              "      <td>n</td>\n",
              "      <td>?</td>\n",
              "      <td>y</td>\n",
              "      <td>n</td>\n",
              "      <td>n</td>\n",
              "      <td>n</td>\n",
              "      <td>n</td>\n",
              "      <td>y</td>\n",
              "      <td>n</td>\n",
              "      <td>y</td>\n",
              "      <td>n</td>\n",
              "      <td>n</td>\n",
              "      <td>y</td>\n",
              "    </tr>\n",
              "    <tr>\n",
              "      <th>4</th>\n",
              "      <td>democrat</td>\n",
              "      <td>y</td>\n",
              "      <td>y</td>\n",
              "      <td>y</td>\n",
              "      <td>n</td>\n",
              "      <td>y</td>\n",
              "      <td>y</td>\n",
              "      <td>n</td>\n",
              "      <td>n</td>\n",
              "      <td>n</td>\n",
              "      <td>n</td>\n",
              "      <td>y</td>\n",
              "      <td>?</td>\n",
              "      <td>y</td>\n",
              "      <td>y</td>\n",
              "      <td>y</td>\n",
              "      <td>y</td>\n",
              "    </tr>\n",
              "  </tbody>\n",
              "</table>\n",
              "</div>"
            ],
            "text/plain": [
              "        party handicapped-infants water-project  ... crime duty-free south-africa\n",
              "0  republican                   n             y  ...     y         n            y\n",
              "1  republican                   n             y  ...     y         n            ?\n",
              "2    democrat                   ?             y  ...     y         n            n\n",
              "3    democrat                   n             y  ...     n         n            y\n",
              "4    democrat                   y             y  ...     y         y            y\n",
              "\n",
              "[5 rows x 17 columns]"
            ]
          },
          "metadata": {
            "tags": []
          },
          "execution_count": 2
        }
      ]
    },
    {
      "cell_type": "markdown",
      "metadata": {
        "id": "8y2Hvt6XCIYP",
        "colab_type": "text"
      },
      "source": [
        "### Convert \"y\", \"n\", and \"?\" to 1, 0, and np.NaN, respectively"
      ]
    },
    {
      "cell_type": "code",
      "metadata": {
        "id": "P1oQir12Biyj",
        "colab_type": "code",
        "colab": {
          "base_uri": "https://localhost:8080/",
          "height": 233
        },
        "outputId": "24e1e65e-417b-43f2-d809-7073ae0bc7cb"
      },
      "source": [
        "df = df.replace({\"y\":1,\"n\":0,\"?\":np.NaN})\n",
        "\n",
        "df.head()"
      ],
      "execution_count": 3,
      "outputs": [
        {
          "output_type": "execute_result",
          "data": {
            "text/html": [
              "<div>\n",
              "<style scoped>\n",
              "    .dataframe tbody tr th:only-of-type {\n",
              "        vertical-align: middle;\n",
              "    }\n",
              "\n",
              "    .dataframe tbody tr th {\n",
              "        vertical-align: top;\n",
              "    }\n",
              "\n",
              "    .dataframe thead th {\n",
              "        text-align: right;\n",
              "    }\n",
              "</style>\n",
              "<table border=\"1\" class=\"dataframe\">\n",
              "  <thead>\n",
              "    <tr style=\"text-align: right;\">\n",
              "      <th></th>\n",
              "      <th>party</th>\n",
              "      <th>handicapped-infants</th>\n",
              "      <th>water-project</th>\n",
              "      <th>budget</th>\n",
              "      <th>physician-fee-freeze</th>\n",
              "      <th>el-salvador-aid</th>\n",
              "      <th>religious-groups</th>\n",
              "      <th>anti-satellite-ban</th>\n",
              "      <th>aid-to-contras</th>\n",
              "      <th>mx-missile</th>\n",
              "      <th>immigration</th>\n",
              "      <th>synfuels</th>\n",
              "      <th>education</th>\n",
              "      <th>right-to-sue</th>\n",
              "      <th>crime</th>\n",
              "      <th>duty-free</th>\n",
              "      <th>south-africa</th>\n",
              "    </tr>\n",
              "  </thead>\n",
              "  <tbody>\n",
              "    <tr>\n",
              "      <th>0</th>\n",
              "      <td>republican</td>\n",
              "      <td>0.0</td>\n",
              "      <td>1.0</td>\n",
              "      <td>0.0</td>\n",
              "      <td>1.0</td>\n",
              "      <td>1.0</td>\n",
              "      <td>1.0</td>\n",
              "      <td>0.0</td>\n",
              "      <td>0.0</td>\n",
              "      <td>0.0</td>\n",
              "      <td>1.0</td>\n",
              "      <td>NaN</td>\n",
              "      <td>1.0</td>\n",
              "      <td>1.0</td>\n",
              "      <td>1.0</td>\n",
              "      <td>0.0</td>\n",
              "      <td>1.0</td>\n",
              "    </tr>\n",
              "    <tr>\n",
              "      <th>1</th>\n",
              "      <td>republican</td>\n",
              "      <td>0.0</td>\n",
              "      <td>1.0</td>\n",
              "      <td>0.0</td>\n",
              "      <td>1.0</td>\n",
              "      <td>1.0</td>\n",
              "      <td>1.0</td>\n",
              "      <td>0.0</td>\n",
              "      <td>0.0</td>\n",
              "      <td>0.0</td>\n",
              "      <td>0.0</td>\n",
              "      <td>0.0</td>\n",
              "      <td>1.0</td>\n",
              "      <td>1.0</td>\n",
              "      <td>1.0</td>\n",
              "      <td>0.0</td>\n",
              "      <td>NaN</td>\n",
              "    </tr>\n",
              "    <tr>\n",
              "      <th>2</th>\n",
              "      <td>democrat</td>\n",
              "      <td>NaN</td>\n",
              "      <td>1.0</td>\n",
              "      <td>1.0</td>\n",
              "      <td>NaN</td>\n",
              "      <td>1.0</td>\n",
              "      <td>1.0</td>\n",
              "      <td>0.0</td>\n",
              "      <td>0.0</td>\n",
              "      <td>0.0</td>\n",
              "      <td>0.0</td>\n",
              "      <td>1.0</td>\n",
              "      <td>0.0</td>\n",
              "      <td>1.0</td>\n",
              "      <td>1.0</td>\n",
              "      <td>0.0</td>\n",
              "      <td>0.0</td>\n",
              "    </tr>\n",
              "    <tr>\n",
              "      <th>3</th>\n",
              "      <td>democrat</td>\n",
              "      <td>0.0</td>\n",
              "      <td>1.0</td>\n",
              "      <td>1.0</td>\n",
              "      <td>0.0</td>\n",
              "      <td>NaN</td>\n",
              "      <td>1.0</td>\n",
              "      <td>0.0</td>\n",
              "      <td>0.0</td>\n",
              "      <td>0.0</td>\n",
              "      <td>0.0</td>\n",
              "      <td>1.0</td>\n",
              "      <td>0.0</td>\n",
              "      <td>1.0</td>\n",
              "      <td>0.0</td>\n",
              "      <td>0.0</td>\n",
              "      <td>1.0</td>\n",
              "    </tr>\n",
              "    <tr>\n",
              "      <th>4</th>\n",
              "      <td>democrat</td>\n",
              "      <td>1.0</td>\n",
              "      <td>1.0</td>\n",
              "      <td>1.0</td>\n",
              "      <td>0.0</td>\n",
              "      <td>1.0</td>\n",
              "      <td>1.0</td>\n",
              "      <td>0.0</td>\n",
              "      <td>0.0</td>\n",
              "      <td>0.0</td>\n",
              "      <td>0.0</td>\n",
              "      <td>1.0</td>\n",
              "      <td>NaN</td>\n",
              "      <td>1.0</td>\n",
              "      <td>1.0</td>\n",
              "      <td>1.0</td>\n",
              "      <td>1.0</td>\n",
              "    </tr>\n",
              "  </tbody>\n",
              "</table>\n",
              "</div>"
            ],
            "text/plain": [
              "        party  handicapped-infants  ...  duty-free  south-africa\n",
              "0  republican                  0.0  ...        0.0           1.0\n",
              "1  republican                  0.0  ...        0.0           NaN\n",
              "2    democrat                  NaN  ...        0.0           0.0\n",
              "3    democrat                  0.0  ...        0.0           1.0\n",
              "4    democrat                  1.0  ...        1.0           1.0\n",
              "\n",
              "[5 rows x 17 columns]"
            ]
          },
          "metadata": {
            "tags": []
          },
          "execution_count": 3
        }
      ]
    },
    {
      "cell_type": "code",
      "metadata": {
        "id": "mp0FHGWyFhpM",
        "colab_type": "code",
        "colab": {}
      },
      "source": [
        "republicans = df[df[\"party\"] == \"republican\"]\n",
        "\n",
        "democrats = df[df[\"party\"] == \"democrat\"]"
      ],
      "execution_count": 0,
      "outputs": []
    },
    {
      "cell_type": "markdown",
      "metadata": {
        "id": "DMuv20VICwJT",
        "colab_type": "text"
      },
      "source": [
        "### Define some functions to process the data"
      ]
    },
    {
      "cell_type": "code",
      "metadata": {
        "id": "Ho8Pe2XzCAzO",
        "colab_type": "code",
        "colab": {}
      },
      "source": [
        "def mean_moe(sample, confidence=0.95):\n",
        "  \"\"\"\n",
        "  Calculate a sample mean and margin of error for given data.\n",
        "  Using t-distribution and two-tailed test, default 95% confidence. \n",
        "  \n",
        "  Arguments:\n",
        "    sample - iterable (list or numpy array) of sample observations\n",
        "    confidence - level of confidence for the interval\n",
        "  \n",
        "  Returns:\n",
        "    tuple of (mean, margin_of_error)\n",
        "  \"\"\"\n",
        "  # Broadcast to array\n",
        "  sample = np.array(sample)\n",
        "  # Remove NaN values\n",
        "  sample = sample[~np.isnan(sample)]\n",
        "  # Calculate sample mean\n",
        "  mean = np.mean(sample)\n",
        "  # Calculate sample size\n",
        "  n = len(sample)\n",
        "  # Calculate standard error\n",
        "  stderr = np.std(sample, ddof=1) / np.sqrt(n)\n",
        "  # Look up the t-statistic that contains 95% of possible sample means within its bounds\n",
        "  t = stats.t.ppf((1 + confidence) / 2.0, n-1)\n",
        "  # Margin of error \n",
        "  margin_of_error = t * stderr\n",
        "  return mean, margin_of_error\n",
        "\n",
        "def confidence_interval(sample, confidence=0.95):\n",
        "  \"\"\"\n",
        "  Calculate a confidence interval around a sample mean for given data.\n",
        "  Using t-distribution and two-tailed test, default 95% confidence. \n",
        "  \n",
        "  Arguments:\n",
        "    sample - iterable (list or numpy array) of sample observations\n",
        "    confidence - level of confidence for the interval\n",
        "  \n",
        "  Returns:\n",
        "    tuple of (lower bound, mean, upper bound)\n",
        "  \"\"\"\n",
        "  # Broadcast to NumPy array\n",
        "  sample = np.array(sample)\n",
        "  # Remove NaN values\n",
        "  sample = sample[~np.isnan(sample)]\n",
        "  # Sample mean\n",
        "  mean = np.mean(sample)\n",
        "  # Sample size\n",
        "  n = len(sample)\n",
        "  # Standard error\n",
        "  stderr = np.std(sample, ddof=1) / np.sqrt(n)\n",
        "  # T-statistic that contains 95% of possible sample means within its bounds\n",
        "  t = stats.t.ppf((1 + confidence) / 2.0, n-1)\n",
        "  # Margin of error \n",
        "  margin_of_error = t * stderr\n",
        "  return mean - margin_of_error, mean, mean + margin_of_error"
      ],
      "execution_count": 0,
      "outputs": []
    },
    {
      "cell_type": "code",
      "metadata": {
        "id": "ZRqbZREUYtuI",
        "colab_type": "code",
        "colab": {
          "base_uri": "https://localhost:8080/",
          "height": 54
        },
        "outputId": "454f93b9-7b42-4950-a990-7e2f6e46eab5"
      },
      "source": [
        "#republican population mean\n",
        "print(republicans[\"immigration\"].mean())\n",
        "\n",
        "#democrat population mean\n",
        "print(democrats[\"immigration\"].mean())"
      ],
      "execution_count": 70,
      "outputs": [
        {
          "output_type": "stream",
          "text": [
            "0.5575757575757576\n",
            "0.4714828897338403\n"
          ],
          "name": "stdout"
        }
      ]
    },
    {
      "cell_type": "code",
      "metadata": {
        "id": "SxahZRImbtIt",
        "colab_type": "code",
        "colab": {}
      },
      "source": [
        "republicans_sample = republicans[\"immigration\"].sample(int(len(republicans)*0.25))\n",
        "\n",
        "democrats_sample = democrats[\"immigration\"].sample(int(len(democrats)*0.25))\n"
      ],
      "execution_count": 0,
      "outputs": []
    },
    {
      "cell_type": "code",
      "metadata": {
        "id": "ltsaRzhjIOxo",
        "colab_type": "code",
        "colab": {
          "base_uri": "https://localhost:8080/",
          "height": 35
        },
        "outputId": "13d4a230-fb5e-4fb0-e60d-36d847fd9640"
      },
      "source": [
        "confidence_interval(republicans_sample)"
      ],
      "execution_count": 86,
      "outputs": [
        {
          "output_type": "execute_result",
          "data": {
            "text/plain": [
              "(0.40238815443940157, 0.5609756097560976, 0.7195630650727937)"
            ]
          },
          "metadata": {
            "tags": []
          },
          "execution_count": 86
        }
      ]
    },
    {
      "cell_type": "code",
      "metadata": {
        "id": "Juq_zd4LIO4i",
        "colab_type": "code",
        "colab": {
          "base_uri": "https://localhost:8080/",
          "height": 35
        },
        "outputId": "1f6d15af-e96e-4dd4-b5be-3b51239cb1a2"
      },
      "source": [
        "confidence_interval(democrats_sample)"
      ],
      "execution_count": 87,
      "outputs": [
        {
          "output_type": "execute_result",
          "data": {
            "text/plain": [
              "(0.36746436593740384, 0.49230769230769234, 0.6171510186779808)"
            ]
          },
          "metadata": {
            "tags": []
          },
          "execution_count": 87
        }
      ]
    },
    {
      "cell_type": "markdown",
      "metadata": {
        "id": "ydfLQuvlAyQu",
        "colab_type": "text"
      },
      "source": [
        "2. Graphically (with a plot) represent the confidence interval\n"
      ]
    },
    {
      "cell_type": "code",
      "metadata": {
        "id": "u4dtzQgFAz2v",
        "colab_type": "code",
        "colab": {
          "base_uri": "https://localhost:8080/",
          "height": 281
        },
        "outputId": "21a12c41-be85-411a-8db9-70d56df79150"
      },
      "source": [
        "republicans_sample.plot.density(color=\"red\")\n",
        "plt.title(\"Republican Immigration Bill Voting Sample\")\n",
        "plt.axvline(x=confidence_interval(republicans_sample)[0], color='gray')\n",
        "plt.axvline(x=confidence_interval(republicans_sample)[1], color='black')\n",
        "plt.axvline(x=confidence_interval(republicans_sample)[2], color='gray');\n",
        "\n",
        "plt.show()"
      ],
      "execution_count": 88,
      "outputs": [
        {
          "output_type": "display_data",
          "data": {
            "image/png": "[encoded data removed]",
            "text/plain": [
              "<Figure size 432x288 with 1 Axes>"
            ]
          },
          "metadata": {
            "tags": []
          }
        }
      ]
    },
    {
      "cell_type": "code",
      "metadata": {
        "id": "D6_4tJdqQueF",
        "colab_type": "code",
        "colab": {
          "base_uri": "https://localhost:8080/",
          "height": 281
        },
        "outputId": "60495a36-ce37-45ce-f584-81acc7d1c4bc"
      },
      "source": [
        "democrats_sample.plot.density(color=\"blue\")\n",
        "plt.title(\"Democrat Immigration Bill Voting Sample\")\n",
        "plt.axvline(x=confidence_interval(democrats_sample)[0], color='gray')\n",
        "plt.axvline(x=confidence_interval(democrats_sample)[1], color='black')\n",
        "plt.axvline(x=confidence_interval(democrats_sample)[2], color='gray');\n",
        "\n",
        "plt.show()"
      ],
      "execution_count": 89,
      "outputs": [
        {
          "output_type": "display_data",
          "data": {
            "image/png": "[encoded data removed]",
            "text/plain": [
              "<Figure size 432x288 with 1 Axes>"
            ]
          },
          "metadata": {
            "tags": []
          }
        }
      ]
    },
    {
      "cell_type": "markdown",
      "metadata": {
        "id": "COZtdjplA0KW",
        "colab_type": "text"
      },
      "source": [
        "3. Interpret the confidence interval - what does it tell you about the data and its distribution?\n",
        "\n",
        "\n"
      ]
    },
    {
      "cell_type": "markdown",
      "metadata": {
        "id": "OhOhfQ8wSrMt",
        "colab_type": "text"
      },
      "source": [
        "The confidence interval is used to frame the significance of sample statistics such as t-tests for hypothesis testing. It is an estimate of a population parameter, i.e. the mean.\n",
        "\n",
        "Confidence intervals are used to communicate the precision with which we are estimating said population parameter.\n",
        "\n",
        "Given the sample we have taken, this is where the mean (population parameter) is."
      ]
    },
    {
      "cell_type": "markdown",
      "metadata": {
        "id": "wCbzVEcxA3iK",
        "colab_type": "text"
      },
      "source": [
        "### Chi-squared tests:\n",
        "4. Take a dataset that we have used in the past in class that has **categorical** variables. Pick two of those categorical variables and run a chi-squared tests on that data\n",
        "- By hand using Numpy\n",
        "\n",
        "**Null hypothesis**: Forest fire month and forest fire day of week are independent.\n",
        "\n",
        "**Alternative hypothesis**: Forest fire month and forest fire day of week are not independent.\n",
        "\n",
        "**Confidence interval**: 95%\n",
        "  "
      ]
    },
    {
      "cell_type": "code",
      "metadata": {
        "id": "uLWrAlUBA-dh",
        "colab_type": "code",
        "colab": {
          "base_uri": "https://localhost:8080/",
          "height": 407
        },
        "outputId": "343f7216-8947-4d85-99e9-3f3d0452f3f9"
      },
      "source": [
        "fires_df = pd.read_csv(\"https://archive.ics.uci.edu/ml/machine-learning-databases/forest-fires/forestfires.csv\")\n",
        "\n",
        "fires_df"
      ],
      "execution_count": 48,
      "outputs": [
        {
          "output_type": "execute_result",
          "data": {
            "text/html": [
              "<div>\n",
              "<style scoped>\n",
              "    .dataframe tbody tr th:only-of-type {\n",
              "        vertical-align: middle;\n",
              "    }\n",
              "\n",
              "    .dataframe tbody tr th {\n",
              "        vertical-align: top;\n",
              "    }\n",
              "\n",
              "    .dataframe thead th {\n",
              "        text-align: right;\n",
              "    }\n",
              "</style>\n",
              "<table border=\"1\" class=\"dataframe\">\n",
              "  <thead>\n",
              "    <tr style=\"text-align: right;\">\n",
              "      <th></th>\n",
              "      <th>X</th>\n",
              "      <th>Y</th>\n",
              "      <th>month</th>\n",
              "      <th>day</th>\n",
              "      <th>FFMC</th>\n",
              "      <th>DMC</th>\n",
              "      <th>DC</th>\n",
              "      <th>ISI</th>\n",
              "      <th>temp</th>\n",
              "      <th>RH</th>\n",
              "      <th>wind</th>\n",
              "      <th>rain</th>\n",
              "      <th>area</th>\n",
              "    </tr>\n",
              "  </thead>\n",
              "  <tbody>\n",
              "    <tr>\n",
              "      <th>0</th>\n",
              "      <td>7</td>\n",
              "      <td>5</td>\n",
              "      <td>mar</td>\n",
              "      <td>fri</td>\n",
              "      <td>86.2</td>\n",
              "      <td>26.2</td>\n",
              "      <td>94.3</td>\n",
              "      <td>5.1</td>\n",
              "      <td>8.2</td>\n",
              "      <td>51</td>\n",
              "      <td>6.7</td>\n",
              "      <td>0.0</td>\n",
              "      <td>0.00</td>\n",
              "    </tr>\n",
              "    <tr>\n",
              "      <th>1</th>\n",
              "      <td>7</td>\n",
              "      <td>4</td>\n",
              "      <td>oct</td>\n",
              "      <td>tue</td>\n",
              "      <td>90.6</td>\n",
              "      <td>35.4</td>\n",
              "      <td>669.1</td>\n",
              "      <td>6.7</td>\n",
              "      <td>18.0</td>\n",
              "      <td>33</td>\n",
              "      <td>0.9</td>\n",
              "      <td>0.0</td>\n",
              "      <td>0.00</td>\n",
              "    </tr>\n",
              "    <tr>\n",
              "      <th>2</th>\n",
              "      <td>7</td>\n",
              "      <td>4</td>\n",
              "      <td>oct</td>\n",
              "      <td>sat</td>\n",
              "      <td>90.6</td>\n",
              "      <td>43.7</td>\n",
              "      <td>686.9</td>\n",
              "      <td>6.7</td>\n",
              "      <td>14.6</td>\n",
              "      <td>33</td>\n",
              "      <td>1.3</td>\n",
              "      <td>0.0</td>\n",
              "      <td>0.00</td>\n",
              "    </tr>\n",
              "    <tr>\n",
              "      <th>3</th>\n",
              "      <td>8</td>\n",
              "      <td>6</td>\n",
              "      <td>mar</td>\n",
              "      <td>fri</td>\n",
              "      <td>91.7</td>\n",
              "      <td>33.3</td>\n",
              "      <td>77.5</td>\n",
              "      <td>9.0</td>\n",
              "      <td>8.3</td>\n",
              "      <td>97</td>\n",
              "      <td>4.0</td>\n",
              "      <td>0.2</td>\n",
              "      <td>0.00</td>\n",
              "    </tr>\n",
              "    <tr>\n",
              "      <th>4</th>\n",
              "      <td>8</td>\n",
              "      <td>6</td>\n",
              "      <td>mar</td>\n",
              "      <td>sun</td>\n",
              "      <td>89.3</td>\n",
              "      <td>51.3</td>\n",
              "      <td>102.2</td>\n",
              "      <td>9.6</td>\n",
              "      <td>11.4</td>\n",
              "      <td>99</td>\n",
              "      <td>1.8</td>\n",
              "      <td>0.0</td>\n",
              "      <td>0.00</td>\n",
              "    </tr>\n",
              "    <tr>\n",
              "      <th>...</th>\n",
              "      <td>...</td>\n",
              "      <td>...</td>\n",
              "      <td>...</td>\n",
              "      <td>...</td>\n",
              "      <td>...</td>\n",
              "      <td>...</td>\n",
              "      <td>...</td>\n",
              "      <td>...</td>\n",
              "      <td>...</td>\n",
              "      <td>...</td>\n",
              "      <td>...</td>\n",
              "      <td>...</td>\n",
              "      <td>...</td>\n",
              "    </tr>\n",
              "    <tr>\n",
              "      <th>512</th>\n",
              "      <td>4</td>\n",
              "      <td>3</td>\n",
              "      <td>aug</td>\n",
              "      <td>sun</td>\n",
              "      <td>81.6</td>\n",
              "      <td>56.7</td>\n",
              "      <td>665.6</td>\n",
              "      <td>1.9</td>\n",
              "      <td>27.8</td>\n",
              "      <td>32</td>\n",
              "      <td>2.7</td>\n",
              "      <td>0.0</td>\n",
              "      <td>6.44</td>\n",
              "    </tr>\n",
              "    <tr>\n",
              "      <th>513</th>\n",
              "      <td>2</td>\n",
              "      <td>4</td>\n",
              "      <td>aug</td>\n",
              "      <td>sun</td>\n",
              "      <td>81.6</td>\n",
              "      <td>56.7</td>\n",
              "      <td>665.6</td>\n",
              "      <td>1.9</td>\n",
              "      <td>21.9</td>\n",
              "      <td>71</td>\n",
              "      <td>5.8</td>\n",
              "      <td>0.0</td>\n",
              "      <td>54.29</td>\n",
              "    </tr>\n",
              "    <tr>\n",
              "      <th>514</th>\n",
              "      <td>7</td>\n",
              "      <td>4</td>\n",
              "      <td>aug</td>\n",
              "      <td>sun</td>\n",
              "      <td>81.6</td>\n",
              "      <td>56.7</td>\n",
              "      <td>665.6</td>\n",
              "      <td>1.9</td>\n",
              "      <td>21.2</td>\n",
              "      <td>70</td>\n",
              "      <td>6.7</td>\n",
              "      <td>0.0</td>\n",
              "      <td>11.16</td>\n",
              "    </tr>\n",
              "    <tr>\n",
              "      <th>515</th>\n",
              "      <td>1</td>\n",
              "      <td>4</td>\n",
              "      <td>aug</td>\n",
              "      <td>sat</td>\n",
              "      <td>94.4</td>\n",
              "      <td>146.0</td>\n",
              "      <td>614.7</td>\n",
              "      <td>11.3</td>\n",
              "      <td>25.6</td>\n",
              "      <td>42</td>\n",
              "      <td>4.0</td>\n",
              "      <td>0.0</td>\n",
              "      <td>0.00</td>\n",
              "    </tr>\n",
              "    <tr>\n",
              "      <th>516</th>\n",
              "      <td>6</td>\n",
              "      <td>3</td>\n",
              "      <td>nov</td>\n",
              "      <td>tue</td>\n",
              "      <td>79.5</td>\n",
              "      <td>3.0</td>\n",
              "      <td>106.7</td>\n",
              "      <td>1.1</td>\n",
              "      <td>11.8</td>\n",
              "      <td>31</td>\n",
              "      <td>4.5</td>\n",
              "      <td>0.0</td>\n",
              "      <td>0.00</td>\n",
              "    </tr>\n",
              "  </tbody>\n",
              "</table>\n",
              "<p>517 rows × 13 columns</p>\n",
              "</div>"
            ],
            "text/plain": [
              "     X  Y month  day  FFMC    DMC     DC   ISI  temp  RH  wind  rain   area\n",
              "0    7  5   mar  fri  86.2   26.2   94.3   5.1   8.2  51   6.7   0.0   0.00\n",
              "1    7  4   oct  tue  90.6   35.4  669.1   6.7  18.0  33   0.9   0.0   0.00\n",
              "2    7  4   oct  sat  90.6   43.7  686.9   6.7  14.6  33   1.3   0.0   0.00\n",
              "3    8  6   mar  fri  91.7   33.3   77.5   9.0   8.3  97   4.0   0.2   0.00\n",
              "4    8  6   mar  sun  89.3   51.3  102.2   9.6  11.4  99   1.8   0.0   0.00\n",
              "..  .. ..   ...  ...   ...    ...    ...   ...   ...  ..   ...   ...    ...\n",
              "512  4  3   aug  sun  81.6   56.7  665.6   1.9  27.8  32   2.7   0.0   6.44\n",
              "513  2  4   aug  sun  81.6   56.7  665.6   1.9  21.9  71   5.8   0.0  54.29\n",
              "514  7  4   aug  sun  81.6   56.7  665.6   1.9  21.2  70   6.7   0.0  11.16\n",
              "515  1  4   aug  sat  94.4  146.0  614.7  11.3  25.6  42   4.0   0.0   0.00\n",
              "516  6  3   nov  tue  79.5    3.0  106.7   1.1  11.8  31   4.5   0.0   0.00\n",
              "\n",
              "[517 rows x 13 columns]"
            ]
          },
          "metadata": {
            "tags": []
          },
          "execution_count": 48
        }
      ]
    },
    {
      "cell_type": "code",
      "metadata": {
        "id": "2fx_3A9GXygc",
        "colab_type": "code",
        "colab": {
          "base_uri": "https://localhost:8080/",
          "height": 468
        },
        "outputId": "12cf0814-c830-4744-862f-7683f232b92d"
      },
      "source": [
        "fires_contingency_table = pd.crosstab(fires_df[\"month\"], fires_df[\"day\"], margins=True)\n",
        "\n",
        "fires_contingency_table"
      ],
      "execution_count": 102,
      "outputs": [
        {
          "output_type": "execute_result",
          "data": {
            "text/html": [
              "<div>\n",
              "<style scoped>\n",
              "    .dataframe tbody tr th:only-of-type {\n",
              "        vertical-align: middle;\n",
              "    }\n",
              "\n",
              "    .dataframe tbody tr th {\n",
              "        vertical-align: top;\n",
              "    }\n",
              "\n",
              "    .dataframe thead th {\n",
              "        text-align: right;\n",
              "    }\n",
              "</style>\n",
              "<table border=\"1\" class=\"dataframe\">\n",
              "  <thead>\n",
              "    <tr style=\"text-align: right;\">\n",
              "      <th>day</th>\n",
              "      <th>fri</th>\n",
              "      <th>mon</th>\n",
              "      <th>sat</th>\n",
              "      <th>sun</th>\n",
              "      <th>thu</th>\n",
              "      <th>tue</th>\n",
              "      <th>wed</th>\n",
              "      <th>All</th>\n",
              "    </tr>\n",
              "    <tr>\n",
              "      <th>month</th>\n",
              "      <th></th>\n",
              "      <th></th>\n",
              "      <th></th>\n",
              "      <th></th>\n",
              "      <th></th>\n",
              "      <th></th>\n",
              "      <th></th>\n",
              "      <th></th>\n",
              "    </tr>\n",
              "  </thead>\n",
              "  <tbody>\n",
              "    <tr>\n",
              "      <th>apr</th>\n",
              "      <td>1</td>\n",
              "      <td>1</td>\n",
              "      <td>1</td>\n",
              "      <td>3</td>\n",
              "      <td>2</td>\n",
              "      <td>0</td>\n",
              "      <td>1</td>\n",
              "      <td>9</td>\n",
              "    </tr>\n",
              "    <tr>\n",
              "      <th>aug</th>\n",
              "      <td>21</td>\n",
              "      <td>15</td>\n",
              "      <td>29</td>\n",
              "      <td>40</td>\n",
              "      <td>26</td>\n",
              "      <td>28</td>\n",
              "      <td>25</td>\n",
              "      <td>184</td>\n",
              "    </tr>\n",
              "    <tr>\n",
              "      <th>dec</th>\n",
              "      <td>1</td>\n",
              "      <td>4</td>\n",
              "      <td>0</td>\n",
              "      <td>1</td>\n",
              "      <td>1</td>\n",
              "      <td>1</td>\n",
              "      <td>1</td>\n",
              "      <td>9</td>\n",
              "    </tr>\n",
              "    <tr>\n",
              "      <th>feb</th>\n",
              "      <td>5</td>\n",
              "      <td>3</td>\n",
              "      <td>4</td>\n",
              "      <td>4</td>\n",
              "      <td>1</td>\n",
              "      <td>2</td>\n",
              "      <td>1</td>\n",
              "      <td>20</td>\n",
              "    </tr>\n",
              "    <tr>\n",
              "      <th>jan</th>\n",
              "      <td>0</td>\n",
              "      <td>0</td>\n",
              "      <td>1</td>\n",
              "      <td>1</td>\n",
              "      <td>0</td>\n",
              "      <td>0</td>\n",
              "      <td>0</td>\n",
              "      <td>2</td>\n",
              "    </tr>\n",
              "    <tr>\n",
              "      <th>jul</th>\n",
              "      <td>3</td>\n",
              "      <td>4</td>\n",
              "      <td>8</td>\n",
              "      <td>5</td>\n",
              "      <td>3</td>\n",
              "      <td>6</td>\n",
              "      <td>3</td>\n",
              "      <td>32</td>\n",
              "    </tr>\n",
              "    <tr>\n",
              "      <th>jun</th>\n",
              "      <td>3</td>\n",
              "      <td>3</td>\n",
              "      <td>2</td>\n",
              "      <td>4</td>\n",
              "      <td>2</td>\n",
              "      <td>0</td>\n",
              "      <td>3</td>\n",
              "      <td>17</td>\n",
              "    </tr>\n",
              "    <tr>\n",
              "      <th>mar</th>\n",
              "      <td>11</td>\n",
              "      <td>12</td>\n",
              "      <td>10</td>\n",
              "      <td>7</td>\n",
              "      <td>5</td>\n",
              "      <td>5</td>\n",
              "      <td>4</td>\n",
              "      <td>54</td>\n",
              "    </tr>\n",
              "    <tr>\n",
              "      <th>may</th>\n",
              "      <td>1</td>\n",
              "      <td>0</td>\n",
              "      <td>1</td>\n",
              "      <td>0</td>\n",
              "      <td>0</td>\n",
              "      <td>0</td>\n",
              "      <td>0</td>\n",
              "      <td>2</td>\n",
              "    </tr>\n",
              "    <tr>\n",
              "      <th>nov</th>\n",
              "      <td>0</td>\n",
              "      <td>0</td>\n",
              "      <td>0</td>\n",
              "      <td>0</td>\n",
              "      <td>0</td>\n",
              "      <td>1</td>\n",
              "      <td>0</td>\n",
              "      <td>1</td>\n",
              "    </tr>\n",
              "    <tr>\n",
              "      <th>oct</th>\n",
              "      <td>1</td>\n",
              "      <td>4</td>\n",
              "      <td>3</td>\n",
              "      <td>3</td>\n",
              "      <td>0</td>\n",
              "      <td>2</td>\n",
              "      <td>2</td>\n",
              "      <td>15</td>\n",
              "    </tr>\n",
              "    <tr>\n",
              "      <th>sep</th>\n",
              "      <td>38</td>\n",
              "      <td>28</td>\n",
              "      <td>25</td>\n",
              "      <td>27</td>\n",
              "      <td>21</td>\n",
              "      <td>19</td>\n",
              "      <td>14</td>\n",
              "      <td>172</td>\n",
              "    </tr>\n",
              "    <tr>\n",
              "      <th>All</th>\n",
              "      <td>85</td>\n",
              "      <td>74</td>\n",
              "      <td>84</td>\n",
              "      <td>95</td>\n",
              "      <td>61</td>\n",
              "      <td>64</td>\n",
              "      <td>54</td>\n",
              "      <td>517</td>\n",
              "    </tr>\n",
              "  </tbody>\n",
              "</table>\n",
              "</div>"
            ],
            "text/plain": [
              "day    fri  mon  sat  sun  thu  tue  wed  All\n",
              "month                                        \n",
              "apr      1    1    1    3    2    0    1    9\n",
              "aug     21   15   29   40   26   28   25  184\n",
              "dec      1    4    0    1    1    1    1    9\n",
              "feb      5    3    4    4    1    2    1   20\n",
              "jan      0    0    1    1    0    0    0    2\n",
              "jul      3    4    8    5    3    6    3   32\n",
              "jun      3    3    2    4    2    0    3   17\n",
              "mar     11   12   10    7    5    5    4   54\n",
              "may      1    0    1    0    0    0    0    2\n",
              "nov      0    0    0    0    0    1    0    1\n",
              "oct      1    4    3    3    0    2    2   15\n",
              "sep     38   28   25   27   21   19   14  172\n",
              "All     85   74   84   95   61   64   54  517"
            ]
          },
          "metadata": {
            "tags": []
          },
          "execution_count": 102
        }
      ]
    },
    {
      "cell_type": "code",
      "metadata": {
        "id": "pP_lWeroXyei",
        "colab_type": "code",
        "colab": {
          "base_uri": "https://localhost:8080/",
          "height": 35
        },
        "outputId": "aa2f8970-4f26-4b6f-e9d5-88b638e1b240"
      },
      "source": [
        "fires_row_sums = fires_contingency_table.iloc[0:-1,-1].values\n",
        "\n",
        "fires_row_sums"
      ],
      "execution_count": 106,
      "outputs": [
        {
          "output_type": "execute_result",
          "data": {
            "text/plain": [
              "array([  9, 184,   9,  20,   2,  32,  17,  54,   2,   1,  15, 172])"
            ]
          },
          "metadata": {
            "tags": []
          },
          "execution_count": 106
        }
      ]
    },
    {
      "cell_type": "code",
      "metadata": {
        "id": "b63NTXZZhIEO",
        "colab_type": "code",
        "colab": {
          "base_uri": "https://localhost:8080/",
          "height": 35
        },
        "outputId": "fc129aaa-1c73-452f-a844-8c2a07aefe45"
      },
      "source": [
        "fires_col_sums = fires_contingency_table.iloc[-1, 0:-1].values\n",
        "\n",
        "fires_col_sums"
      ],
      "execution_count": 107,
      "outputs": [
        {
          "output_type": "execute_result",
          "data": {
            "text/plain": [
              "array([85, 74, 84, 95, 61, 64, 54])"
            ]
          },
          "metadata": {
            "tags": []
          },
          "execution_count": 107
        }
      ]
    },
    {
      "cell_type": "code",
      "metadata": {
        "id": "dxyAmuieeBFX",
        "colab_type": "code",
        "colab": {
          "base_uri": "https://localhost:8080/",
          "height": 35
        },
        "outputId": "079fb9fa-f190-4e3d-a6c3-6c7498a0d788"
      },
      "source": [
        "total_total = fires_df.shape[0]\n",
        "\n",
        "total_total"
      ],
      "execution_count": 108,
      "outputs": [
        {
          "output_type": "execute_result",
          "data": {
            "text/plain": [
              "517"
            ]
          },
          "metadata": {
            "tags": []
          },
          "execution_count": 108
        }
      ]
    },
    {
      "cell_type": "code",
      "metadata": {
        "id": "q2u6Cf0KeBJ6",
        "colab_type": "code",
        "colab": {
          "base_uri": "https://localhost:8080/",
          "height": 472
        },
        "outputId": "7f2dc7bb-6f17-4fc7-8745-85677088fcf8"
      },
      "source": [
        "expected = []\n",
        "for i in range(len(fires_row_sums)):\n",
        "  expected_row = []\n",
        "  for column in fires_col_sums:\n",
        "    expected_val = column * fires_row_sums[i]/total_total\n",
        "    expected_row.append(expected_val)\n",
        "  expected.append(expected_row)\n",
        "\n",
        "expected = np.array(expected)\n",
        "print(expected.shape)\n",
        "print(expected)"
      ],
      "execution_count": 110,
      "outputs": [
        {
          "output_type": "stream",
          "text": [
            "(12, 7)\n",
            "[[ 1.47969052  1.28820116  1.4622824   1.65377176  1.06189555  1.11411992\n",
            "   0.94003868]\n",
            " [30.25145068 26.33655706 29.89555126 33.81044487 21.7098646  22.77756286\n",
            "  19.21856867]\n",
            " [ 1.47969052  1.28820116  1.4622824   1.65377176  1.06189555  1.11411992\n",
            "   0.94003868]\n",
            " [ 3.28820116  2.86266925  3.24951644  3.67504836  2.35976789  2.47582205\n",
            "   2.08897485]\n",
            " [ 0.32882012  0.28626692  0.32495164  0.36750484  0.23597679  0.24758221\n",
            "   0.20889749]\n",
            " [ 5.26112186  4.58027079  5.19922631  5.88007737  3.77562863  3.96131528\n",
            "   3.34235977]\n",
            " [ 2.79497099  2.43326886  2.76208897  3.1237911   2.00580271  2.10444874\n",
            "   1.77562863]\n",
            " [ 8.87814313  7.72920696  8.77369439  9.92263056  6.37137331  6.68471954\n",
            "   5.64023211]\n",
            " [ 0.32882012  0.28626692  0.32495164  0.36750484  0.23597679  0.24758221\n",
            "   0.20889749]\n",
            " [ 0.16441006  0.14313346  0.16247582  0.18375242  0.11798839  0.1237911\n",
            "   0.10444874]\n",
            " [ 2.46615087  2.14700193  2.43713733  2.75628627  1.76982592  1.85686654\n",
            "   1.56673114]\n",
            " [28.27852998 24.61895551 27.94584139 31.60541586 20.29400387 21.29206963\n",
            "  17.96518375]]\n"
          ],
          "name": "stdout"
        }
      ]
    },
    {
      "cell_type": "code",
      "metadata": {
        "id": "zeW4ZPtSh8Q8",
        "colab_type": "code",
        "colab": {
          "base_uri": "https://localhost:8080/",
          "height": 235
        },
        "outputId": "f3a44c05-cbe3-468e-d74f-960823621b29"
      },
      "source": [
        "# Get a crosstab without the margins:\n",
        "observed = pd.crosstab(fires_df[\"month\"], fires_df[\"day\"]).values\n",
        "\n",
        "observed"
      ],
      "execution_count": 111,
      "outputs": [
        {
          "output_type": "execute_result",
          "data": {
            "text/plain": [
              "array([[ 1,  1,  1,  3,  2,  0,  1],\n",
              "       [21, 15, 29, 40, 26, 28, 25],\n",
              "       [ 1,  4,  0,  1,  1,  1,  1],\n",
              "       [ 5,  3,  4,  4,  1,  2,  1],\n",
              "       [ 0,  0,  1,  1,  0,  0,  0],\n",
              "       [ 3,  4,  8,  5,  3,  6,  3],\n",
              "       [ 3,  3,  2,  4,  2,  0,  3],\n",
              "       [11, 12, 10,  7,  5,  5,  4],\n",
              "       [ 1,  0,  1,  0,  0,  0,  0],\n",
              "       [ 0,  0,  0,  0,  0,  1,  0],\n",
              "       [ 1,  4,  3,  3,  0,  2,  2],\n",
              "       [38, 28, 25, 27, 21, 19, 14]])"
            ]
          },
          "metadata": {
            "tags": []
          },
          "execution_count": 111
        }
      ]
    },
    {
      "cell_type": "code",
      "metadata": {
        "id": "V-h7AZ7Wh8Yn",
        "colab_type": "code",
        "colab": {
          "base_uri": "https://localhost:8080/",
          "height": 35
        },
        "outputId": "eba8470f-c6ba-491b-da74-af27d23e370a"
      },
      "source": [
        "chi_squared = ((observed - expected)**2 / expected).sum()\n",
        "\n",
        "print(chi_squared)"
      ],
      "execution_count": 112,
      "outputs": [
        {
          "output_type": "stream",
          "text": [
            "64.2383177767438\n"
          ],
          "name": "stdout"
        }
      ]
    },
    {
      "cell_type": "markdown",
      "metadata": {
        "id": "VHFFVpN2A-us",
        "colab_type": "text"
      },
      "source": [
        "  - In a single line using Scipy"
      ]
    },
    {
      "cell_type": "code",
      "metadata": {
        "id": "zLnURm3ZA_XL",
        "colab_type": "code",
        "colab": {
          "base_uri": "https://localhost:8080/",
          "height": 508
        },
        "outputId": "69724ce8-d855-4b2c-feaa-6b45bd91ab44"
      },
      "source": [
        "chi2_stat, p_value, dof, expected = stats.chi2_contingency(observed)\n",
        "\n",
        "print(\"chi2_stat:\", chi2_stat)\n",
        "\n",
        "print(\"p_value:\",p_value)\n",
        "\n",
        "print(\"dof:\",dof)\n",
        "\n",
        "print(\"expected:\",expected)"
      ],
      "execution_count": 113,
      "outputs": [
        {
          "output_type": "stream",
          "text": [
            "chi2_stat: 64.2383177767438\n",
            "p_value: 0.5384475410453669\n",
            "dof: 66\n",
            "expected: [[ 1.47969052  1.28820116  1.4622824   1.65377176  1.06189555  1.11411992\n",
            "   0.94003868]\n",
            " [30.25145068 26.33655706 29.89555126 33.81044487 21.7098646  22.77756286\n",
            "  19.21856867]\n",
            " [ 1.47969052  1.28820116  1.4622824   1.65377176  1.06189555  1.11411992\n",
            "   0.94003868]\n",
            " [ 3.28820116  2.86266925  3.24951644  3.67504836  2.35976789  2.47582205\n",
            "   2.08897485]\n",
            " [ 0.32882012  0.28626692  0.32495164  0.36750484  0.23597679  0.24758221\n",
            "   0.20889749]\n",
            " [ 5.26112186  4.58027079  5.19922631  5.88007737  3.77562863  3.96131528\n",
            "   3.34235977]\n",
            " [ 2.79497099  2.43326886  2.76208897  3.1237911   2.00580271  2.10444874\n",
            "   1.77562863]\n",
            " [ 8.87814313  7.72920696  8.77369439  9.92263056  6.37137331  6.68471954\n",
            "   5.64023211]\n",
            " [ 0.32882012  0.28626692  0.32495164  0.36750484  0.23597679  0.24758221\n",
            "   0.20889749]\n",
            " [ 0.16441006  0.14313346  0.16247582  0.18375242  0.11798839  0.1237911\n",
            "   0.10444874]\n",
            " [ 2.46615087  2.14700193  2.43713733  2.75628627  1.76982592  1.85686654\n",
            "   1.56673114]\n",
            " [28.27852998 24.61895551 27.94584139 31.60541586 20.29400387 21.29206963\n",
            "  17.96518375]]\n"
          ],
          "name": "stdout"
        }
      ]
    },
    {
      "cell_type": "markdown",
      "metadata": {
        "id": "FloYSRmkj1J_",
        "colab_type": "text"
      },
      "source": [
        "**Conclusions**: \n",
        "\n",
        "Given a $\\chi^2$ statistic of 64.24, a $\\text{p value}$ of 0.5384, 66 degrees of freedom, and a confidence interval of 95%, I fail to reject the null hypothesis that forest fire month and forest fire day of week are independent."
      ]
    },
    {
      "cell_type": "markdown",
      "metadata": {
        "id": "4ohsJhQUmEuS",
        "colab_type": "text"
      },
      "source": [
        "## Stretch goals:\n",
        "\n",
        "1. Write a summary of your findings, mixing prose and math/code/results. *Note* - yes, this is by definition a political topic. It is challenging but important to keep your writing voice *neutral* and stick to the facts of the data. Data science often involves considering controversial issues, so it's important to be sensitive about them (especially if you want to publish).\n",
        "\n",
        "\n",
        "\n",
        "\n",
        "\n",
        "\n",
        "\n",
        "\n",
        "2. Apply the techniques you learned today to your project data or other data of your choice, and write/discuss your findings here.\n"
      ]
    },
    {
      "cell_type": "code",
      "metadata": {
        "id": "SwBNFd-TBTij",
        "colab_type": "code",
        "colab": {}
      },
      "source": [
        ""
      ],
      "execution_count": 0,
      "outputs": []
    },
    {
      "cell_type": "markdown",
      "metadata": {
        "id": "In8XI3ofBT4c",
        "colab_type": "text"
      },
      "source": [
        "3. Refactor your code so it is elegant, readable, and can be easily run for all issues."
      ]
    },
    {
      "cell_type": "code",
      "metadata": {
        "id": "yNEe3_R9BUhV",
        "colab_type": "code",
        "colab": {
          "base_uri": "https://localhost:8080/",
          "height": 308
        },
        "outputId": "61ff141e-18e3-45c6-a89e-551b96e92510"
      },
      "source": [
        "issues = df.drop([\"party\"], axis=1).columns.tolist()\n",
        "issues"
      ],
      "execution_count": 114,
      "outputs": [
        {
          "output_type": "execute_result",
          "data": {
            "text/plain": [
              "['handicapped-infants',\n",
              " 'water-project',\n",
              " 'budget',\n",
              " 'physician-fee-freeze',\n",
              " 'el-salvador-aid',\n",
              " 'religious-groups',\n",
              " 'anti-satellite-ban',\n",
              " 'aid-to-contras',\n",
              " 'mx-missile',\n",
              " 'immigration',\n",
              " 'synfuels',\n",
              " 'education',\n",
              " 'right-to-sue',\n",
              " 'crime',\n",
              " 'duty-free',\n",
              " 'south-africa']"
            ]
          },
          "metadata": {
            "tags": []
          },
          "execution_count": 114
        }
      ]
    },
    {
      "cell_type": "code",
      "metadata": {
        "id": "rD1aSzv2kscx",
        "colab_type": "code",
        "colab": {}
      },
      "source": [
        "def sample_confidence_intervals(pandas_series, sample_size, confidence=0.95):\n",
        "  # Sample the input Series\n",
        "  sample = pandas_series.sample(int(sample_size))\n",
        "# Broadcast to NumPy array\n",
        "  sample = np.array(sample)\n",
        "  # Remove NaN values\n",
        "  sample = sample[~np.isnan(sample)]\n",
        "  # Sample mean\n",
        "  mean = np.mean(sample)\n",
        "  # Sample size\n",
        "  n = len(sample)\n",
        "  # Standard error\n",
        "  stderr = np.std(sample, ddof=1) / np.sqrt(n)\n",
        "  # T-statistic that contains 95% of possible sample means within its bounds\n",
        "  t = stats.t.ppf((1 + confidence) / 2.0, n-1)\n",
        "  # Margin of error \n",
        "  margin_of_error = t * stderr\n",
        "  return mean, margin_of_error"
      ],
      "execution_count": 0,
      "outputs": []
    },
    {
      "cell_type": "code",
      "metadata": {
        "id": "6LmSKZ2yksh3",
        "colab_type": "code",
        "colab": {
          "base_uri": "https://localhost:8080/",
          "height": 528
        },
        "outputId": "f322e74c-df2b-451e-c9cc-5c1cb04f50c2"
      },
      "source": [
        "republicans_CI = []\n",
        "\n",
        "for i in range(len(issues)):\n",
        "  \n",
        "  republicans_CI.append(sample_confidence_intervals(republicans[issues[i]], \n",
        "                                    \n",
        "                                                    len(republicans)*0.25))\n",
        "\n",
        "republicans_confidence_intervals_df = pd.DataFrame(republicans_CI, \n",
        "                                                    \n",
        "                                                   columns=[\"Mean\",\n",
        "                                                             \n",
        "                                                            \"Margin of Error\"])\n",
        "  \n",
        "republicans_confidence_intervals_df[\"issue\"] = pd.Series(issues)\n",
        "\n",
        "republicans_confidence_intervals_df[\"party\"] = \"Republican\"\n",
        "\n",
        "  \n",
        "republicans_confidence_intervals_df"
      ],
      "execution_count": 145,
      "outputs": [
        {
          "output_type": "execute_result",
          "data": {
            "text/html": [
              "<div>\n",
              "<style scoped>\n",
              "    .dataframe tbody tr th:only-of-type {\n",
              "        vertical-align: middle;\n",
              "    }\n",
              "\n",
              "    .dataframe tbody tr th {\n",
              "        vertical-align: top;\n",
              "    }\n",
              "\n",
              "    .dataframe thead th {\n",
              "        text-align: right;\n",
              "    }\n",
              "</style>\n",
              "<table border=\"1\" class=\"dataframe\">\n",
              "  <thead>\n",
              "    <tr style=\"text-align: right;\">\n",
              "      <th></th>\n",
              "      <th>Mean</th>\n",
              "      <th>Margin of Error</th>\n",
              "      <th>issue</th>\n",
              "      <th>party</th>\n",
              "    </tr>\n",
              "  </thead>\n",
              "  <tbody>\n",
              "    <tr>\n",
              "      <th>0</th>\n",
              "      <td>0.097561</td>\n",
              "      <td>0.094820</td>\n",
              "      <td>handicapped-infants</td>\n",
              "      <td>Republican</td>\n",
              "    </tr>\n",
              "    <tr>\n",
              "      <th>1</th>\n",
              "      <td>0.550000</td>\n",
              "      <td>0.161133</td>\n",
              "      <td>water-project</td>\n",
              "      <td>Republican</td>\n",
              "    </tr>\n",
              "    <tr>\n",
              "      <th>2</th>\n",
              "      <td>0.200000</td>\n",
              "      <td>0.129556</td>\n",
              "      <td>budget</td>\n",
              "      <td>Republican</td>\n",
              "    </tr>\n",
              "    <tr>\n",
              "      <th>3</th>\n",
              "      <td>1.000000</td>\n",
              "      <td>0.000000</td>\n",
              "      <td>physician-fee-freeze</td>\n",
              "      <td>Republican</td>\n",
              "    </tr>\n",
              "    <tr>\n",
              "      <th>4</th>\n",
              "      <td>0.902439</td>\n",
              "      <td>0.094820</td>\n",
              "      <td>el-salvador-aid</td>\n",
              "      <td>Republican</td>\n",
              "    </tr>\n",
              "    <tr>\n",
              "      <th>5</th>\n",
              "      <td>0.926829</td>\n",
              "      <td>0.083219</td>\n",
              "      <td>religious-groups</td>\n",
              "      <td>Republican</td>\n",
              "    </tr>\n",
              "    <tr>\n",
              "      <th>6</th>\n",
              "      <td>0.150000</td>\n",
              "      <td>0.115652</td>\n",
              "      <td>anti-satellite-ban</td>\n",
              "      <td>Republican</td>\n",
              "    </tr>\n",
              "    <tr>\n",
              "      <th>7</th>\n",
              "      <td>0.250000</td>\n",
              "      <td>0.140248</td>\n",
              "      <td>aid-to-contras</td>\n",
              "      <td>Republican</td>\n",
              "    </tr>\n",
              "    <tr>\n",
              "      <th>8</th>\n",
              "      <td>0.146341</td>\n",
              "      <td>0.112948</td>\n",
              "      <td>mx-missile</td>\n",
              "      <td>Republican</td>\n",
              "    </tr>\n",
              "    <tr>\n",
              "      <th>9</th>\n",
              "      <td>0.536585</td>\n",
              "      <td>0.159352</td>\n",
              "      <td>immigration</td>\n",
              "      <td>Republican</td>\n",
              "    </tr>\n",
              "    <tr>\n",
              "      <th>10</th>\n",
              "      <td>0.078947</td>\n",
              "      <td>0.089824</td>\n",
              "      <td>synfuels</td>\n",
              "      <td>Republican</td>\n",
              "    </tr>\n",
              "    <tr>\n",
              "      <th>11</th>\n",
              "      <td>0.837838</td>\n",
              "      <td>0.124592</td>\n",
              "      <td>education</td>\n",
              "      <td>Republican</td>\n",
              "    </tr>\n",
              "    <tr>\n",
              "      <th>12</th>\n",
              "      <td>0.850000</td>\n",
              "      <td>0.115652</td>\n",
              "      <td>right-to-sue</td>\n",
              "      <td>Republican</td>\n",
              "    </tr>\n",
              "    <tr>\n",
              "      <th>13</th>\n",
              "      <td>1.000000</td>\n",
              "      <td>0.000000</td>\n",
              "      <td>crime</td>\n",
              "      <td>Republican</td>\n",
              "    </tr>\n",
              "    <tr>\n",
              "      <th>14</th>\n",
              "      <td>0.085714</td>\n",
              "      <td>0.097567</td>\n",
              "      <td>duty-free</td>\n",
              "      <td>Republican</td>\n",
              "    </tr>\n",
              "    <tr>\n",
              "      <th>15</th>\n",
              "      <td>0.657895</td>\n",
              "      <td>0.158029</td>\n",
              "      <td>south-africa</td>\n",
              "      <td>Republican</td>\n",
              "    </tr>\n",
              "  </tbody>\n",
              "</table>\n",
              "</div>"
            ],
            "text/plain": [
              "        Mean  Margin of Error                 issue       party\n",
              "0   0.097561         0.094820   handicapped-infants  Republican\n",
              "1   0.550000         0.161133         water-project  Republican\n",
              "2   0.200000         0.129556                budget  Republican\n",
              "3   1.000000         0.000000  physician-fee-freeze  Republican\n",
              "4   0.902439         0.094820       el-salvador-aid  Republican\n",
              "5   0.926829         0.083219      religious-groups  Republican\n",
              "6   0.150000         0.115652    anti-satellite-ban  Republican\n",
              "7   0.250000         0.140248        aid-to-contras  Republican\n",
              "8   0.146341         0.112948            mx-missile  Republican\n",
              "9   0.536585         0.159352           immigration  Republican\n",
              "10  0.078947         0.089824              synfuels  Republican\n",
              "11  0.837838         0.124592             education  Republican\n",
              "12  0.850000         0.115652          right-to-sue  Republican\n",
              "13  1.000000         0.000000                 crime  Republican\n",
              "14  0.085714         0.097567             duty-free  Republican\n",
              "15  0.657895         0.158029          south-africa  Republican"
            ]
          },
          "metadata": {
            "tags": []
          },
          "execution_count": 145
        }
      ]
    },
    {
      "cell_type": "code",
      "metadata": {
        "id": "GtOOWMgQmQUs",
        "colab_type": "code",
        "colab": {
          "base_uri": "https://localhost:8080/",
          "height": 528
        },
        "outputId": "e709a6f1-475d-481f-ceca-486b42ad5eef"
      },
      "source": [
        "democrats_CI = []\n",
        "\n",
        "for i in range(len(issues)):\n",
        "  \n",
        "  democrats_CI.append(sample_confidence_intervals(democrats[issues[i]], \n",
        "                                    \n",
        "                                                    len(democrats)*0.25))\n",
        "\n",
        "democrats_confidence_intervals_df = pd.DataFrame(democrats_CI, \n",
        "                                                    \n",
        "                                                 columns=[\"Mean\",\n",
        "                                                             \n",
        "                                                          \"Margin of Error\"])\n",
        "  \n",
        "democrats_confidence_intervals_df[\"issue\"] = pd.Series(issues)\n",
        "\n",
        "democrats_confidence_intervals_df[\"party\"] = \"Democrat\"\n",
        "\n",
        "democrats_confidence_intervals_df"
      ],
      "execution_count": 146,
      "outputs": [
        {
          "output_type": "execute_result",
          "data": {
            "text/html": [
              "<div>\n",
              "<style scoped>\n",
              "    .dataframe tbody tr th:only-of-type {\n",
              "        vertical-align: middle;\n",
              "    }\n",
              "\n",
              "    .dataframe tbody tr th {\n",
              "        vertical-align: top;\n",
              "    }\n",
              "\n",
              "    .dataframe thead th {\n",
              "        text-align: right;\n",
              "    }\n",
              "</style>\n",
              "<table border=\"1\" class=\"dataframe\">\n",
              "  <thead>\n",
              "    <tr style=\"text-align: right;\">\n",
              "      <th></th>\n",
              "      <th>Mean</th>\n",
              "      <th>Margin of Error</th>\n",
              "      <th>issue</th>\n",
              "      <th>party</th>\n",
              "    </tr>\n",
              "  </thead>\n",
              "  <tbody>\n",
              "    <tr>\n",
              "      <th>0</th>\n",
              "      <td>0.557377</td>\n",
              "      <td>0.128266</td>\n",
              "      <td>handicapped-infants</td>\n",
              "      <td>Democrat</td>\n",
              "    </tr>\n",
              "    <tr>\n",
              "      <th>1</th>\n",
              "      <td>0.590164</td>\n",
              "      <td>0.127002</td>\n",
              "      <td>water-project</td>\n",
              "      <td>Democrat</td>\n",
              "    </tr>\n",
              "    <tr>\n",
              "      <th>2</th>\n",
              "      <td>0.892308</td>\n",
              "      <td>0.077410</td>\n",
              "      <td>budget</td>\n",
              "      <td>Democrat</td>\n",
              "    </tr>\n",
              "    <tr>\n",
              "      <th>3</th>\n",
              "      <td>0.062500</td>\n",
              "      <td>0.060943</td>\n",
              "      <td>physician-fee-freeze</td>\n",
              "      <td>Democrat</td>\n",
              "    </tr>\n",
              "    <tr>\n",
              "      <th>4</th>\n",
              "      <td>0.218750</td>\n",
              "      <td>0.104080</td>\n",
              "      <td>el-salvador-aid</td>\n",
              "      <td>Democrat</td>\n",
              "    </tr>\n",
              "    <tr>\n",
              "      <th>5</th>\n",
              "      <td>0.446154</td>\n",
              "      <td>0.124132</td>\n",
              "      <td>religious-groups</td>\n",
              "      <td>Democrat</td>\n",
              "    </tr>\n",
              "    <tr>\n",
              "      <th>6</th>\n",
              "      <td>0.723077</td>\n",
              "      <td>0.111743</td>\n",
              "      <td>anti-satellite-ban</td>\n",
              "      <td>Democrat</td>\n",
              "    </tr>\n",
              "    <tr>\n",
              "      <th>7</th>\n",
              "      <td>0.781250</td>\n",
              "      <td>0.104080</td>\n",
              "      <td>aid-to-contras</td>\n",
              "      <td>Democrat</td>\n",
              "    </tr>\n",
              "    <tr>\n",
              "      <th>8</th>\n",
              "      <td>0.825397</td>\n",
              "      <td>0.096376</td>\n",
              "      <td>mx-missile</td>\n",
              "      <td>Democrat</td>\n",
              "    </tr>\n",
              "    <tr>\n",
              "      <th>9</th>\n",
              "      <td>0.500000</td>\n",
              "      <td>0.125884</td>\n",
              "      <td>immigration</td>\n",
              "      <td>Democrat</td>\n",
              "    </tr>\n",
              "    <tr>\n",
              "      <th>10</th>\n",
              "      <td>0.453125</td>\n",
              "      <td>0.125329</td>\n",
              "      <td>synfuels</td>\n",
              "      <td>Democrat</td>\n",
              "    </tr>\n",
              "    <tr>\n",
              "      <th>11</th>\n",
              "      <td>0.131148</td>\n",
              "      <td>0.087171</td>\n",
              "      <td>education</td>\n",
              "      <td>Democrat</td>\n",
              "    </tr>\n",
              "    <tr>\n",
              "      <th>12</th>\n",
              "      <td>0.349206</td>\n",
              "      <td>0.121025</td>\n",
              "      <td>right-to-sue</td>\n",
              "      <td>Democrat</td>\n",
              "    </tr>\n",
              "    <tr>\n",
              "      <th>13</th>\n",
              "      <td>0.390625</td>\n",
              "      <td>0.122835</td>\n",
              "      <td>crime</td>\n",
              "      <td>Democrat</td>\n",
              "    </tr>\n",
              "    <tr>\n",
              "      <th>14</th>\n",
              "      <td>0.593220</td>\n",
              "      <td>0.129115</td>\n",
              "      <td>duty-free</td>\n",
              "      <td>Democrat</td>\n",
              "    </tr>\n",
              "    <tr>\n",
              "      <th>15</th>\n",
              "      <td>0.937500</td>\n",
              "      <td>0.071031</td>\n",
              "      <td>south-africa</td>\n",
              "      <td>Democrat</td>\n",
              "    </tr>\n",
              "  </tbody>\n",
              "</table>\n",
              "</div>"
            ],
            "text/plain": [
              "        Mean  Margin of Error                 issue     party\n",
              "0   0.557377         0.128266   handicapped-infants  Democrat\n",
              "1   0.590164         0.127002         water-project  Democrat\n",
              "2   0.892308         0.077410                budget  Democrat\n",
              "3   0.062500         0.060943  physician-fee-freeze  Democrat\n",
              "4   0.218750         0.104080       el-salvador-aid  Democrat\n",
              "5   0.446154         0.124132      religious-groups  Democrat\n",
              "6   0.723077         0.111743    anti-satellite-ban  Democrat\n",
              "7   0.781250         0.104080        aid-to-contras  Democrat\n",
              "8   0.825397         0.096376            mx-missile  Democrat\n",
              "9   0.500000         0.125884           immigration  Democrat\n",
              "10  0.453125         0.125329              synfuels  Democrat\n",
              "11  0.131148         0.087171             education  Democrat\n",
              "12  0.349206         0.121025          right-to-sue  Democrat\n",
              "13  0.390625         0.122835                 crime  Democrat\n",
              "14  0.593220         0.129115             duty-free  Democrat\n",
              "15  0.937500         0.071031          south-africa  Democrat"
            ]
          },
          "metadata": {
            "tags": []
          },
          "execution_count": 146
        }
      ]
    },
    {
      "cell_type": "code",
      "metadata": {
        "id": "awRCm3zEpuE3",
        "colab_type": "code",
        "colab": {
          "base_uri": "https://localhost:8080/",
          "height": 432
        },
        "outputId": "cdb9a881-bdad-428d-c547-bfcafa86815a"
      },
      "source": [
        "fig, ax = plt.subplots(figsize=(10,5))\n",
        "\n",
        "ax.bar(republicans_confidence_intervals_df.index, republicans_confidence_intervals_df[\"Mean\"],\n",
        "       yerr=republicans_confidence_intervals_df[\"Margin of Error\"],\n",
        "       align='center',\n",
        "       alpha=0.5,\n",
        "       ecolor='black',\n",
        "       capsize=10, facecolor=\"red\")\n",
        "\n",
        "plt.xticks(rotation=75)\n",
        "ax.set_xticks(df_confidence_intervals.index)\n",
        "ax.set_xticklabels(df_confidence_intervals[\"issue\"].tolist())\n",
        "\n",
        "plt.title(\"Sample Means of Congressional Republican Voting in 1984\", size=\"xx-large\")\n",
        "plt.show()"
      ],
      "execution_count": 177,
      "outputs": [
        {
          "output_type": "display_data",
          "data": {
            "image/png": "[encoded data removed]",
            "text/plain": [
              "<Figure size 720x360 with 1 Axes>"
            ]
          },
          "metadata": {
            "tags": []
          }
        }
      ]
    },
    {
      "cell_type": "code",
      "metadata": {
        "id": "K9suK-L7qnwp",
        "colab_type": "code",
        "colab": {
          "base_uri": "https://localhost:8080/",
          "height": 432
        },
        "outputId": "afbedf72-3122-4d50-c297-d8796223b8ee"
      },
      "source": [
        "fig, ax = plt.subplots(figsize=(10,5))\n",
        "\n",
        "ax.bar(democrats_confidence_intervals_df.index, democrats_confidence_intervals_df[\"Mean\"],\n",
        "       yerr=democrats_confidence_intervals_df[\"Margin of Error\"],\n",
        "       align='center',\n",
        "       alpha=0.5,\n",
        "       ecolor='black',\n",
        "       capsize=10, facecolor=\"blue\")\n",
        "\n",
        "plt.xticks(rotation=75)\n",
        "ax.set_xticks(df_confidence_intervals.index)\n",
        "ax.set_xticklabels(df_confidence_intervals[\"issue\"].tolist())\n",
        "\n",
        "plt.title(\"Sample Means of Congressional Democrat Voting in 1984\", size=\"xx-large\")\n",
        "plt.show()"
      ],
      "execution_count": 179,
      "outputs": [
        {
          "output_type": "display_data",
          "data": {
            "image/png": "[encoded data removed]",
            "text/plain": [
              "<Figure size 720x360 with 1 Axes>"
            ]
          },
          "metadata": {
            "tags": []
          }
        }
      ]
    },
    {
      "cell_type": "markdown",
      "metadata": {
        "id": "nyJ3ySr7R2k9",
        "colab_type": "text"
      },
      "source": [
        "## Resources\n",
        "\n",
        "- [Interactive visualize the Chi-Squared test](https://homepage.divms.uiowa.edu/~mbognar/applets/chisq.html)\n",
        "- [Calculation of Chi-Squared test statistic](https://en.wikipedia.org/wiki/Pearson%27s_chi-squared_test)\n",
        "- [Visualization of a confidence interval generated by R code](https://commons.wikimedia.org/wiki/File:Confidence-interval.svg)\n",
        "- [Expected value of a squared standard normal](https://math.stackexchange.com/questions/264061/expected-value-calculation-for-squared-normal-distribution) (it's 1 - which is why the expected value of a Chi-Squared with $n$ degrees of freedom is $n$, as it's the sum of $n$ squared standard normals)"
      ]
    }
  ]
}