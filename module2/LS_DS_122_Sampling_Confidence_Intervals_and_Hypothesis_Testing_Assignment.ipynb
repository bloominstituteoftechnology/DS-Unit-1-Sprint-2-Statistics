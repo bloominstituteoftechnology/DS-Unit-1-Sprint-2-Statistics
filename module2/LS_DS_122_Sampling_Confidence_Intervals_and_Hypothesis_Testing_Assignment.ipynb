{
  "nbformat": 4,
  "nbformat_minor": 0,
  "metadata": {
    "colab": {
      "name": "LS_DS_122_Sampling_Confidence_Intervals_and_Hypothesis_Testing_Assignment.ipynb",
      "provenance": [],
      "collapsed_sections": []
    },
    "kernelspec": {
      "name": "python3",
      "display_name": "Python 3"
    },
    "accelerator": "GPU"
  },
  "cells": [
    {
      "cell_type": "markdown",
      "metadata": {
        "id": "11OzdxWTM7UR",
        "colab_type": "text"
      },
      "source": [
        "## Assignment - Build a confidence interval\n",
        "\n",
        "A confidence interval refers to a neighborhood around some point estimate, the size of which is determined by the desired p-value. For instance, we might say that 52% of Americans prefer tacos to burritos, with a 95% confidence interval of +/- 5%.\n",
        "\n",
        "52% (0.52) is the point estimate, and +/- 5% (the interval $[0.47, 0.57]$) is the confidence interval. \"95% confidence\" means a p-value $\\leq 1 - 0.95 = 0.05$.\n",
        "\n",
        "In this case, the confidence interval includes $0.5$ - which is the natural null hypothesis (that half of Americans prefer tacos and half burritos, thus there is no clear favorite). So in this case, we could use the confidence interval to report that we've failed to reject the null hypothesis.\n",
        "\n",
        "But providing the full analysis with a confidence interval, including a graphical representation of it, can be a helpful and powerful way to tell your story. Done well, it is also more intuitive to a layperson than simply saying \"fail to reject the null hypothesis\" - it shows that in fact the data does *not* give a single clear result (the point estimate) but a whole range of possibilities.\n",
        "\n",
        "How is a confidence interval built, and how should it be interpreted? It does *not* mean that 95% of the data lies in that interval - instead, the frequentist interpretation is \"if we were to repeat this experiment 100 times, we would expect the average result to lie in this interval ~95 times.\"\n",
        "\n",
        "For a 95% confidence interval and a normal(-ish) distribution, you can simply remember that +/-2 standard deviations contains 95% of the probability mass, and so the 95% confidence interval based on a given sample is centered at the mean (point estimate) and has a range of +/- 2 (or technically 1.96) standard deviations.\n",
        "\n",
        "Different distributions/assumptions (90% confidence, 99% confidence) will require different math, but the overall process and interpretation (with a frequentist approach) will be the same.\n",
        "\n",
        "Your assignment - using the data from the prior module ([congressional voting records](https://archive.ics.uci.edu/ml/datasets/Congressional+Voting+Records)):\n",
        "\n",
        "\n",
        "### Confidence Intervals:"
      ]
    },
    {
      "cell_type": "code",
      "metadata": {
        "id": "USBvJqa-vpME",
        "colab_type": "code",
        "colab": {}
      },
      "source": [
        "import pandas as pd\n",
        "import numpy as np\n",
        "from scipy import stats"
      ],
      "execution_count": 0,
      "outputs": []
    },
    {
      "cell_type": "code",
      "metadata": {
        "id": "Ckcr4A4FM7cs",
        "colab_type": "code",
        "colab": {}
      },
      "source": [
        "!wget https://archive.ics.uci.edu/ml/machine-learning-databases/voting-records/house-votes-84.data"
      ],
      "execution_count": 0,
      "outputs": []
    },
    {
      "cell_type": "code",
      "metadata": {
        "id": "r3FNXjDlvh6M",
        "colab_type": "code",
        "colab": {}
      },
      "source": [
        "votes = pd.read_csv('house-votes-84.data', \n",
        "                 header=None,\n",
        "                 names=['party','handicapped-infants','water-project',\n",
        "                          'budget','physician-fee-freeze', 'el-salvador-aid',\n",
        "                          'religious-groups','anti-satellite-ban',\n",
        "                          'aid-to-contras','mx-missile','immigration',\n",
        "                          'synfuels', 'education', 'right-to-sue','crime','duty-free',\n",
        "                          'south-africa'])\n",
        "votes = votes.replace({'?':np.NaN, 'n':0, 'y':1})\n",
        "democrat = votes[votes['party'] == 'democrat']\n",
        "republican = votes[votes['party'] == 'republican']"
      ],
      "execution_count": 0,
      "outputs": []
    },
    {
      "cell_type": "markdown",
      "metadata": {
        "id": "fWm5U4ME0fv0",
        "colab_type": "text"
      },
      "source": [
        "**1. Generate and numerically represent a confidence interval**\n",
        "\n",
        "Confidence interval = the bounds of statistical significance for the t-test\n",
        "\n",
        "Confidence interval = sample mean +/- margin of error\n",
        "\n",
        "Margin of error = t-statistic (threshold?) * (standard deviation / square root of n)\n"
      ]
    },
    {
      "cell_type": "code",
      "metadata": {
        "id": "psRWMyR80Kv0",
        "colab_type": "code",
        "colab": {}
      },
      "source": [
        "# FILL MISSING VALUES (IS THIS METHODOLOGY CORRECT?)\n",
        "republican = republican.fillna(0.5)"
      ],
      "execution_count": 0,
      "outputs": []
    },
    {
      "cell_type": "code",
      "metadata": {
        "id": "S3j4Wxgovmwi",
        "colab_type": "code",
        "colab": {}
      },
      "source": [
        "mean = np.mean(republican['education'])"
      ],
      "execution_count": 0,
      "outputs": []
    },
    {
      "cell_type": "code",
      "metadata": {
        "id": "3iPbMBMq2_Oz",
        "colab_type": "code",
        "colab": {}
      },
      "source": [
        "s = np.std(republican['education'], ddof=1)"
      ],
      "execution_count": 0,
      "outputs": []
    },
    {
      "cell_type": "code",
      "metadata": {
        "id": "i7ZafX7X33WS",
        "colab_type": "code",
        "colab": {}
      },
      "source": [
        "n = len(republican['education'])"
      ],
      "execution_count": 0,
      "outputs": []
    },
    {
      "cell_type": "code",
      "metadata": {
        "id": "uWE_w71CEWXo",
        "colab_type": "code",
        "colab": {}
      },
      "source": [
        "se = s / np.sqrt(n)"
      ],
      "execution_count": 0,
      "outputs": []
    },
    {
      "cell_type": "code",
      "metadata": {
        "id": "VftyQ0D737_v",
        "colab_type": "code",
        "colab": {}
      },
      "source": [
        "t = stats.t.ppf(1.95 / 2.0, n-1)"
      ],
      "execution_count": 0,
      "outputs": []
    },
    {
      "cell_type": "code",
      "metadata": {
        "id": "yG-aSSGVEHrL",
        "colab_type": "code",
        "colab": {}
      },
      "source": [
        "moe = t * se"
      ],
      "execution_count": 0,
      "outputs": []
    },
    {
      "cell_type": "code",
      "metadata": {
        "id": "KVgXVqqDBVHp",
        "colab_type": "code",
        "outputId": "020ab589-29fd-42c1-ac8b-363b36983f6d",
        "colab": {
          "base_uri": "https://localhost:8080/",
          "height": 69
        }
      },
      "source": [
        "print('Mean:', mean)\n",
        "print('Lower Bound:', mean - moe)\n",
        "print('Upper Bound:', mean + moe)"
      ],
      "execution_count": 11,
      "outputs": [
        {
          "output_type": "stream",
          "text": [
            "Mean: 0.8422619047619048\n",
            "Lower Bound: 0.7907902004041876\n",
            "Upper Bound: 0.893733609119622\n"
          ],
          "name": "stdout"
        }
      ]
    },
    {
      "cell_type": "code",
      "metadata": {
        "id": "ZkLtHsINErks",
        "colab_type": "code",
        "colab": {}
      },
      "source": [
        "def confidence_interval(data, confidence=0.95):\n",
        "  \"\"\"\n",
        "  Calculate a confidence interval around a sample mean for given data.\n",
        "  Using t-distribution and two-tailed test, default 95% confidence. \n",
        "  \n",
        "  Arguments:\n",
        "    data - iterable (list or numpy array) of sample observations\n",
        "    confidence - level of confidence for the interval\n",
        "  \n",
        "  Returns:\n",
        "    tuple of (mean, lower bound, upper bound)\n",
        "  \"\"\"\n",
        "#  data = np.array(data)\n",
        "  mean = np.mean(data)\n",
        "  n = len(data)\n",
        "  stderr = (np.std(data, ddof=1) / np.sqrt(n))\n",
        "  t = stats.t.ppf((1 + confidence) / 2.0, n - 1)\n",
        "  moe = stderr * t\n",
        "  return (mean, mean - moe, mean + moe)"
      ],
      "execution_count": 0,
      "outputs": []
    },
    {
      "cell_type": "code",
      "metadata": {
        "id": "eLa5PP_wEwA-",
        "colab_type": "code",
        "outputId": "316b543b-bbcf-42ae-8c80-1be58aaba5cc",
        "colab": {
          "base_uri": "https://localhost:8080/",
          "height": 34
        }
      },
      "source": [
        "confidence_interval(republican['education'])"
      ],
      "execution_count": 13,
      "outputs": [
        {
          "output_type": "execute_result",
          "data": {
            "text/plain": [
              "(0.8422619047619048, 0.7907902004041876, 0.893733609119622)"
            ]
          },
          "metadata": {
            "tags": []
          },
          "execution_count": 13
        }
      ]
    },
    {
      "cell_type": "markdown",
      "metadata": {
        "id": "DdYuWzuS0UGI",
        "colab_type": "text"
      },
      "source": [
        "**2. Graphically (with a plot) represent the confidence interval**"
      ]
    },
    {
      "cell_type": "code",
      "metadata": {
        "id": "thCY-cw0yqso",
        "colab_type": "code",
        "outputId": "7853f958-339e-449e-e307-5fe7e500f87b",
        "colab": {
          "base_uri": "https://localhost:8080/",
          "height": 265
        }
      },
      "source": [
        "import seaborn as sns\n",
        "import matplotlib.pyplot as plt\n",
        "\n",
        "plot_data = republican['education']\n",
        "\n",
        "#sns.distplot(plot_data, kde=False, bins=3)\n",
        "sns.kdeplot(plot_data.values, bw=0.15)\n",
        "ci = confidence_interval(plot_data)\n",
        "plt.axvline(x=ci[1], color='red')\n",
        "plt.axvline(x=ci[2], color='red')\n",
        "plt.axvline(x=ci[0], color='k');"
      ],
      "execution_count": 14,
      "outputs": [
        {
          "output_type": "display_data",
          "data": {
            "image/png": "[encoded data removed]",
            "text/plain": [
              "<Figure size 432x288 with 1 Axes>"
            ]
          },
          "metadata": {
            "tags": []
          }
        }
      ]
    },
    {
      "cell_type": "markdown",
      "metadata": {
        "id": "ntfBGW0R0Xr6",
        "colab_type": "text"
      },
      "source": [
        "**3. Interpret the confidence interval - what does it tell you about the data and its distribution?**\n",
        "\n",
        "We can say with 95% confidence that the average republican vote on 'education' within the larger population would be between 0.82 and 0.92, with the mean being 0.87."
      ]
    },
    {
      "cell_type": "markdown",
      "metadata": {
        "id": "RPablVbEu7J0",
        "colab_type": "text"
      },
      "source": [
        "### Chi-squared tests:\n",
        "\n",
        "**4. Take a dataset that we have used in the past in class that has *categorical* variables. Pick two of those categorical variables and run a chi-squared tests on that data**"
      ]
    },
    {
      "cell_type": "markdown",
      "metadata": {
        "id": "CEUJmqkg0flu",
        "colab_type": "text"
      },
      "source": [
        "**Chi-squared interpretation**\n",
        "\n",
        "A test using categorical (binned) variables.\n",
        "\n",
        "Null hypothesis = True. Meaning there is not a statistically significant difference between the observed and expected categories/variables. Observed - Expected = 0.\n",
        "\n",
        "The test statistic is a value under the chi-squared distribution...?"
      ]
    },
    {
      "cell_type": "code",
      "metadata": {
        "id": "AzWtlVsh4t5z",
        "colab_type": "code",
        "colab": {}
      },
      "source": [
        "from scipy.stats.distributions import chi2"
      ],
      "execution_count": 0,
      "outputs": []
    },
    {
      "cell_type": "code",
      "metadata": {
        "id": "t2nFmkZDRulV",
        "colab_type": "code",
        "colab": {}
      },
      "source": [
        "# USING LOAN STATS DATA\n",
        "!wget https://resources.lendingclub.com/LoanStats_2018Q4.csv.zip\n",
        "!unzip LoanStats_2018Q4.csv.zip"
      ],
      "execution_count": 0,
      "outputs": []
    },
    {
      "cell_type": "code",
      "metadata": {
        "id": "DiP4TiJvHDrR",
        "colab_type": "code",
        "colab": {}
      },
      "source": [
        "df = pd.read_csv('LoanStats_2018Q4.csv', header=1, skipfooter=2, \n",
        "                 engine='python')"
      ],
      "execution_count": 0,
      "outputs": []
    },
    {
      "cell_type": "markdown",
      "metadata": {
        "id": "lxK9FgtGRowb",
        "colab_type": "text"
      },
      "source": [
        "**- By hand using Numpy**"
      ]
    },
    {
      "cell_type": "code",
      "metadata": {
        "id": "rAgWYNF8Rgkv",
        "colab_type": "code",
        "outputId": "4572eddf-fdee-4ea9-cf8a-3830ffe7304c",
        "colab": {
          "base_uri": "https://localhost:8080/",
          "height": 489
        }
      },
      "source": [
        "# GENERATE CROSSTAB WITH MARGINS\n",
        "crosstab = pd.crosstab(df['purpose'], df['grade'], margins=True)\n",
        "crosstab"
      ],
      "execution_count": 18,
      "outputs": [
        {
          "output_type": "execute_result",
          "data": {
            "text/html": [
              "<div>\n",
              "<style scoped>\n",
              "    .dataframe tbody tr th:only-of-type {\n",
              "        vertical-align: middle;\n",
              "    }\n",
              "\n",
              "    .dataframe tbody tr th {\n",
              "        vertical-align: top;\n",
              "    }\n",
              "\n",
              "    .dataframe thead th {\n",
              "        text-align: right;\n",
              "    }\n",
              "</style>\n",
              "<table border=\"1\" class=\"dataframe\">\n",
              "  <thead>\n",
              "    <tr style=\"text-align: right;\">\n",
              "      <th>grade</th>\n",
              "      <th>A</th>\n",
              "      <th>B</th>\n",
              "      <th>C</th>\n",
              "      <th>D</th>\n",
              "      <th>E</th>\n",
              "      <th>F</th>\n",
              "      <th>G</th>\n",
              "      <th>All</th>\n",
              "    </tr>\n",
              "    <tr>\n",
              "      <th>purpose</th>\n",
              "      <th></th>\n",
              "      <th></th>\n",
              "      <th></th>\n",
              "      <th></th>\n",
              "      <th></th>\n",
              "      <th></th>\n",
              "      <th></th>\n",
              "      <th></th>\n",
              "    </tr>\n",
              "  </thead>\n",
              "  <tbody>\n",
              "    <tr>\n",
              "      <th>car</th>\n",
              "      <td>275</td>\n",
              "      <td>284</td>\n",
              "      <td>231</td>\n",
              "      <td>175</td>\n",
              "      <td>62</td>\n",
              "      <td>8</td>\n",
              "      <td>2</td>\n",
              "      <td>1037</td>\n",
              "    </tr>\n",
              "    <tr>\n",
              "      <th>credit_card</th>\n",
              "      <td>14177</td>\n",
              "      <td>10192</td>\n",
              "      <td>6989</td>\n",
              "      <td>2849</td>\n",
              "      <td>715</td>\n",
              "      <td>31</td>\n",
              "      <td>8</td>\n",
              "      <td>34961</td>\n",
              "    </tr>\n",
              "    <tr>\n",
              "      <th>debt_consolidation</th>\n",
              "      <td>18888</td>\n",
              "      <td>19907</td>\n",
              "      <td>18187</td>\n",
              "      <td>10039</td>\n",
              "      <td>3362</td>\n",
              "      <td>184</td>\n",
              "      <td>36</td>\n",
              "      <td>70603</td>\n",
              "    </tr>\n",
              "    <tr>\n",
              "      <th>home_improvement</th>\n",
              "      <td>2021</td>\n",
              "      <td>2046</td>\n",
              "      <td>1844</td>\n",
              "      <td>1166</td>\n",
              "      <td>402</td>\n",
              "      <td>30</td>\n",
              "      <td>3</td>\n",
              "      <td>7512</td>\n",
              "    </tr>\n",
              "    <tr>\n",
              "      <th>house</th>\n",
              "      <td>128</td>\n",
              "      <td>202</td>\n",
              "      <td>218</td>\n",
              "      <td>180</td>\n",
              "      <td>81</td>\n",
              "      <td>7</td>\n",
              "      <td>7</td>\n",
              "      <td>823</td>\n",
              "    </tr>\n",
              "    <tr>\n",
              "      <th>major_purchase</th>\n",
              "      <td>516</td>\n",
              "      <td>599</td>\n",
              "      <td>582</td>\n",
              "      <td>399</td>\n",
              "      <td>183</td>\n",
              "      <td>18</td>\n",
              "      <td>6</td>\n",
              "      <td>2303</td>\n",
              "    </tr>\n",
              "    <tr>\n",
              "      <th>medical</th>\n",
              "      <td>314</td>\n",
              "      <td>345</td>\n",
              "      <td>412</td>\n",
              "      <td>297</td>\n",
              "      <td>123</td>\n",
              "      <td>8</td>\n",
              "      <td>0</td>\n",
              "      <td>1499</td>\n",
              "    </tr>\n",
              "    <tr>\n",
              "      <th>moving</th>\n",
              "      <td>124</td>\n",
              "      <td>156</td>\n",
              "      <td>179</td>\n",
              "      <td>132</td>\n",
              "      <td>57</td>\n",
              "      <td>6</td>\n",
              "      <td>2</td>\n",
              "      <td>656</td>\n",
              "    </tr>\n",
              "    <tr>\n",
              "      <th>other</th>\n",
              "      <td>1173</td>\n",
              "      <td>1674</td>\n",
              "      <td>1853</td>\n",
              "      <td>1469</td>\n",
              "      <td>808</td>\n",
              "      <td>84</td>\n",
              "      <td>33</td>\n",
              "      <td>7094</td>\n",
              "    </tr>\n",
              "    <tr>\n",
              "      <th>renewable_energy</th>\n",
              "      <td>14</td>\n",
              "      <td>30</td>\n",
              "      <td>13</td>\n",
              "      <td>9</td>\n",
              "      <td>4</td>\n",
              "      <td>1</td>\n",
              "      <td>0</td>\n",
              "      <td>71</td>\n",
              "    </tr>\n",
              "    <tr>\n",
              "      <th>small_business</th>\n",
              "      <td>227</td>\n",
              "      <td>239</td>\n",
              "      <td>290</td>\n",
              "      <td>202</td>\n",
              "      <td>82</td>\n",
              "      <td>8</td>\n",
              "      <td>3</td>\n",
              "      <td>1051</td>\n",
              "    </tr>\n",
              "    <tr>\n",
              "      <th>vacation</th>\n",
              "      <td>154</td>\n",
              "      <td>187</td>\n",
              "      <td>220</td>\n",
              "      <td>155</td>\n",
              "      <td>83</td>\n",
              "      <td>2</td>\n",
              "      <td>1</td>\n",
              "      <td>802</td>\n",
              "    </tr>\n",
              "    <tr>\n",
              "      <th>All</th>\n",
              "      <td>38011</td>\n",
              "      <td>35861</td>\n",
              "      <td>31018</td>\n",
              "      <td>17072</td>\n",
              "      <td>5962</td>\n",
              "      <td>387</td>\n",
              "      <td>101</td>\n",
              "      <td>128412</td>\n",
              "    </tr>\n",
              "  </tbody>\n",
              "</table>\n",
              "</div>"
            ],
            "text/plain": [
              "grade                   A      B      C      D     E    F    G     All\n",
              "purpose                                                               \n",
              "car                   275    284    231    175    62    8    2    1037\n",
              "credit_card         14177  10192   6989   2849   715   31    8   34961\n",
              "debt_consolidation  18888  19907  18187  10039  3362  184   36   70603\n",
              "home_improvement     2021   2046   1844   1166   402   30    3    7512\n",
              "house                 128    202    218    180    81    7    7     823\n",
              "major_purchase        516    599    582    399   183   18    6    2303\n",
              "medical               314    345    412    297   123    8    0    1499\n",
              "moving                124    156    179    132    57    6    2     656\n",
              "other                1173   1674   1853   1469   808   84   33    7094\n",
              "renewable_energy       14     30     13      9     4    1    0      71\n",
              "small_business        227    239    290    202    82    8    3    1051\n",
              "vacation              154    187    220    155    83    2    1     802\n",
              "All                 38011  35861  31018  17072  5962  387  101  128412"
            ]
          },
          "metadata": {
            "tags": []
          },
          "execution_count": 18
        }
      ]
    },
    {
      "cell_type": "code",
      "metadata": {
        "id": "b1bZkakEIgeJ",
        "colab_type": "code",
        "colab": {}
      },
      "source": [
        "# CALCULATE ROW/COLUMN SUMS\n",
        "row_sums = crosstab.iloc[:-1,-1].values\n",
        "col_sums = crosstab.iloc[-1,:-1].values\n",
        "total = crosstab.iloc[-1,-1]"
      ],
      "execution_count": 0,
      "outputs": []
    },
    {
      "cell_type": "code",
      "metadata": {
        "id": "tHvDwRkzrZTP",
        "colab_type": "code",
        "outputId": "3789f837-3a50-44f4-a4d7-9b1bcd4815f5",
        "colab": {
          "base_uri": "https://localhost:8080/",
          "height": 34
        }
      },
      "source": [
        "# NESTED FOR LOOP TO GET 2D LIST/ARRAY OF EXPECTED RESULTS\n",
        "expected = []\n",
        "for i in range(len(row_sums)):\n",
        "  expected_row = []\n",
        "  for column in col_sums:\n",
        "    expected_val = column*row_sums[i]/total\n",
        "    expected_row.append(expected_val)\n",
        "  expected.append(expected_row)\n",
        "\n",
        "expected = np.array(expected)\n",
        "expected.shape"
      ],
      "execution_count": 20,
      "outputs": [
        {
          "output_type": "execute_result",
          "data": {
            "text/plain": [
              "(12, 7)"
            ]
          },
          "metadata": {
            "tags": []
          },
          "execution_count": 20
        }
      ]
    },
    {
      "cell_type": "code",
      "metadata": {
        "id": "VF8Ng1nRtViB",
        "colab_type": "code",
        "outputId": "e4dea1a3-e16d-4baa-b392-38bb3fe35c05",
        "colab": {
          "base_uri": "https://localhost:8080/",
          "height": 34
        }
      },
      "source": [
        "# CROSSTAB OF OBSERVED RESULTS\n",
        "observed = pd.crosstab(df['purpose'], df['grade'])\n",
        "observed.shape"
      ],
      "execution_count": 21,
      "outputs": [
        {
          "output_type": "execute_result",
          "data": {
            "text/plain": [
              "(12, 7)"
            ]
          },
          "metadata": {
            "tags": []
          },
          "execution_count": 21
        }
      ]
    },
    {
      "cell_type": "code",
      "metadata": {
        "id": "uWHqowaJt0t8",
        "colab_type": "code",
        "outputId": "ddd7ebb6-ddca-4f76-9fa6-572cb5982bea",
        "colab": {
          "base_uri": "https://localhost:8080/",
          "height": 173
        }
      },
      "source": [
        "# NEED TO FIGURE OUT HOW TO INTERPRET THESE VALUES\n",
        "chi_sq = ((observed - expected)**2 / (expected)).sum()\n",
        "print('Chi-Squared:', chi_sq)"
      ],
      "execution_count": 22,
      "outputs": [
        {
          "output_type": "stream",
          "text": [
            "Chi-Squared: grade\n",
            "A    2253.412891\n",
            "B     114.473931\n",
            "C     361.866114\n",
            "D    1267.194171\n",
            "E    1463.099858\n",
            "F     296.850718\n",
            "G     242.063363\n",
            "dtype: float64\n"
          ],
          "name": "stdout"
        }
      ]
    },
    {
      "cell_type": "code",
      "metadata": {
        "id": "znJ-VLzTutSo",
        "colab_type": "code",
        "outputId": "17f23eaf-612f-4a87-88df-79b53ec42c13",
        "colab": {
          "base_uri": "https://localhost:8080/",
          "height": 34
        }
      },
      "source": [
        "# DEGREES OF FREEDOM: # rows - 1 * # columns - 1\n",
        "dof = (len(row_sums)-1) * (len(col_sums)-1)\n",
        "print('Degrees of Freedom: ', dof)"
      ],
      "execution_count": 23,
      "outputs": [
        {
          "output_type": "stream",
          "text": [
            "Degrees of Freedom:  66\n"
          ],
          "name": "stdout"
        }
      ]
    },
    {
      "cell_type": "code",
      "metadata": {
        "id": "ZCt8YKCCvI6Q",
        "colab_type": "code",
        "outputId": "1b26c2f8-1834-4a64-bb63-303e31e6b901",
        "colab": {
          "base_uri": "https://localhost:8080/",
          "height": 52
        }
      },
      "source": [
        "chi_p_value = chi2.sf(chi_sq, dof)\n",
        "print('P-Value (Chi Squared):', chi_p_value)"
      ],
      "execution_count": 24,
      "outputs": [
        {
          "output_type": "stream",
          "text": [
            "P-Value (Chi Squared): [0.00000000e+000 2.01813181e-004 2.11877140e-042 1.23765877e-221\n",
            " 3.52318113e-262 5.15503211e-031 6.32211478e-022]\n"
          ],
          "name": "stdout"
        }
      ]
    },
    {
      "cell_type": "markdown",
      "metadata": {
        "id": "C0RxFsJVRgtN",
        "colab_type": "text"
      },
      "source": [
        "**- In a single line using Scipy**"
      ]
    },
    {
      "cell_type": "code",
      "metadata": {
        "id": "4P1I8J4NRqNk",
        "colab_type": "code",
        "outputId": "3a8f1341-1165-4e95-88d6-dc1ac509e32a",
        "colab": {
          "base_uri": "https://localhost:8080/",
          "height": 69
        }
      },
      "source": [
        "chi_squared, p_value, dof, expected = stats.chi2_contingency(observed)\n",
        "\n",
        "print('Chi-Squared:', chi_squared)\n",
        "print('P-value:', p_value)\n",
        "print('Degrees of Freedom:', dof) \n",
        "# print('Expected:', np.array(expected))"
      ],
      "execution_count": 25,
      "outputs": [
        {
          "output_type": "stream",
          "text": [
            "Chi-Squared: 5998.961045955249\n",
            "P-value: 0.0\n",
            "Degrees of Freedom: 66\n"
          ],
          "name": "stdout"
        }
      ]
    },
    {
      "cell_type": "markdown",
      "metadata": {
        "id": "4ohsJhQUmEuS",
        "colab_type": "text"
      },
      "source": [
        "## Stretch goals:\n",
        "\n",
        "1. Write a summary of your findings, mixing prose and math/code/results. *Note* - yes, this is by definition a political topic. It is challenging but important to keep your writing voice *neutral* and stick to the facts of the data. Data science often involves considering controversial issues, so it's important to be sensitive about them (especially if you want to publish).\n",
        "2. Apply the techniques you learned today to your project data or other data of your choice, and write/discuss your findings here.\n",
        "3. Refactor your code so it is elegant, readable, and can be easily run for all issues."
      ]
    },
    {
      "cell_type": "markdown",
      "metadata": {
        "id": "nyJ3ySr7R2k9",
        "colab_type": "text"
      },
      "source": [
        "## Resources\n",
        "\n",
        "- [Interactive visualize the Chi-Squared test](https://homepage.divms.uiowa.edu/~mbognar/applets/chisq.html)\n",
        "- [Calculation of Chi-Squared test statistic](https://en.wikipedia.org/wiki/Pearson%27s_chi-squared_test)\n",
        "- [Visualization of a confidence interval generated by R code](https://commons.wikimedia.org/wiki/File:Confidence-interval.svg)\n",
        "- [Expected value of a squared standard normal](https://math.stackexchange.com/questions/264061/expected-value-calculation-for-squared-normal-distribution) (it's 1 - which is why the expected value of a Chi-Squared with $n$ degrees of freedom is $n$, as it's the sum of $n$ squared standard normals)"
      ]
    }
  ]
}