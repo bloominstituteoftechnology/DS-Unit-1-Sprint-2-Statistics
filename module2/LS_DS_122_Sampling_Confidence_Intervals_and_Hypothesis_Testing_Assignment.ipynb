{
  "nbformat": 4,
  "nbformat_minor": 0,
  "metadata": {
    "colab": {
      "name": "module2/LS_DS_122_Sampling_Confidence_Intervals_and_Hypothesis_Testing_Assignment.ipynb",
      "provenance": [],
      "collapsed_sections": [],
      "include_colab_link": true
    },
    "kernelspec": {
      "name": "python3",
      "display_name": "Python 3"
    }
  },
  "cells": [
    {
      "cell_type": "markdown",
      "metadata": {
        "id": "view-in-github",
        "colab_type": "text"
      },
      "source": [
        "<a href=\"https://colab.research.google.com/github/mljarman/DS-Unit-1-Sprint-2-Statistics/blob/master/module2/LS_DS_122_Sampling_Confidence_Intervals_and_Hypothesis_Testing_Assignment.ipynb\" target=\"_parent\"><img src=\"https://colab.research.google.com/assets/colab-badge.svg\" alt=\"Open In Colab\"/></a>"
      ]
    },
    {
      "cell_type": "markdown",
      "metadata": {
        "id": "11OzdxWTM7UR",
        "colab_type": "text"
      },
      "source": [
        "## Assignment - Build a confidence interval\n",
        "\n",
        "A confidence interval refers to a neighborhood around some point estimate, the size of which is determined by the desired p-value. For instance, we might say that 52% of Americans prefer tacos to burritos, with a 95% confidence interval of +/- 5%.\n",
        "\n",
        "52% (0.52) is the point estimate, and +/- 5% (the interval $[0.47, 0.57]$) is the confidence interval. \"95% confidence\" means a p-value $\\leq 1 - 0.95 = 0.05$.\n",
        "\n",
        "In this case, the confidence interval includes $0.5$ - which is the natural null hypothesis (that half of Americans prefer tacos and half burritos, thus there is no clear favorite). So in this case, we could use the confidence interval to report that we've failed to reject the null hypothesis.\n",
        "\n",
        "But providing the full analysis with a confidence interval, including a graphical representation of it, can be a helpful and powerful way to tell your story. Done well, it is also more intuitive to a layperson than simply saying \"fail to reject the null hypothesis\" - it shows that in fact the data does *not* give a single clear result (the point estimate) but a whole range of possibilities.\n",
        "\n",
        "How is a confidence interval built, and how should it be interpreted? It does *not* mean that 95% of the data lies in that interval - instead, the frequentist interpretation is \"if we were to repeat this experiment 100 times, we would expect the average result to lie in this interval ~95 times.\"\n",
        "\n",
        "For a 95% confidence interval and a normal(-ish) distribution, you can simply remember that +/-2 standard deviations contains 95% of the probability mass, and so the 95% confidence interval based on a given sample is centered at the mean (point estimate) and has a range of +/- 2 (or technically 1.96) standard deviations.\n",
        "\n",
        "Different distributions/assumptions (90% confidence, 99% confidence) will require different math, but the overall process and interpretation (with a frequentist approach) will be the same.\n",
        "\n",
        "Your assignment - using the data from the prior module ([congressional voting records](https://archive.ics.uci.edu/ml/datasets/Congressional+Voting+Records)):\n",
        "\n",
        "\n",
        "### Confidence Intervals:\n",
        "1. Generate and numerically represent a confidence interval\n",
        "2. Graphically (with a plot) represent the confidence interval\n",
        "3. Interpret the confidence interval - what does it tell you about the data and its distribution?\n",
        "\n",
        "### Chi-squared tests:\n",
        "4. Take a dataset that we have used in the past in class that has **categorical** variables. Pick two of those categorical variables and run a chi-squared tests on that data\n",
        "  - By hand using Numpy\n",
        "  - In a single line using Scipy\n"
      ]
    },
    {
      "cell_type": "markdown",
      "metadata": {
        "id": "NcZPd719GPtG",
        "colab_type": "text"
      },
      "source": [
        "#Part 1: Confidence Intervals"
      ]
    },
    {
      "cell_type": "code",
      "metadata": {
        "id": "NxUqwhEE1x62",
        "colab_type": "code",
        "outputId": "52049562-a01c-4f91-816f-d51a085da1f1",
        "colab": {
          "base_uri": "https://localhost:8080/",
          "height": 224
        }
      },
      "source": [
        "# import the voting dataset:\n",
        "!wget https://archive.ics.uci.edu/ml/machine-learning-databases/voting-records/house-votes-84.data"
      ],
      "execution_count": 43,
      "outputs": [
        {
          "output_type": "stream",
          "text": [
            "--2019-10-09 15:24:22--  https://archive.ics.uci.edu/ml/machine-learning-databases/voting-records/house-votes-84.data\n",
            "Resolving archive.ics.uci.edu (archive.ics.uci.edu)... 128.195.10.252\n",
            "Connecting to archive.ics.uci.edu (archive.ics.uci.edu)|128.195.10.252|:443... connected.\n",
            "HTTP request sent, awaiting response... 200 OK\n",
            "Length: 18171 (18K) [application/x-httpd-php]\n",
            "Saving to: ‘house-votes-84.data.1’\n",
            "\n",
            "\rhouse-votes-84.data   0%[                    ]       0  --.-KB/s               \rhouse-votes-84.data 100%[===================>]  17.75K  --.-KB/s    in 0.06s   \n",
            "\n",
            "2019-10-09 15:24:22 (285 KB/s) - ‘house-votes-84.data.1’ saved [18171/18171]\n",
            "\n"
          ],
          "name": "stdout"
        }
      ]
    },
    {
      "cell_type": "code",
      "metadata": {
        "id": "CwVVV1WMGmGo",
        "colab_type": "code",
        "outputId": "34a3d3ed-e5b5-4394-8781-798263f5e263",
        "colab": {
          "base_uri": "https://localhost:8080/",
          "height": 182
        }
      },
      "source": [
        "df = pd.read_csv('house-votes-84.data', \n",
        "                 header=None,\n",
        "                 names=['party','handicapped-infants','water-project',\n",
        "                          'budget','physician-fee-freeze', 'el-salvador-aid',\n",
        "                          'religious-groups','anti-satellite-ban',\n",
        "                          'aid-to-contras','mx-missile','immigration',\n",
        "                          'synfuels', 'education', 'right-to-sue','crime','duty-free',\n",
        "                          'south-africa'])\n",
        "print(df.shape)\n",
        "df.head(2)"
      ],
      "execution_count": 120,
      "outputs": [
        {
          "output_type": "stream",
          "text": [
            "(435, 17)\n"
          ],
          "name": "stdout"
        },
        {
          "output_type": "execute_result",
          "data": {
            "text/html": [
              "<div>\n",
              "<style scoped>\n",
              "    .dataframe tbody tr th:only-of-type {\n",
              "        vertical-align: middle;\n",
              "    }\n",
              "\n",
              "    .dataframe tbody tr th {\n",
              "        vertical-align: top;\n",
              "    }\n",
              "\n",
              "    .dataframe thead th {\n",
              "        text-align: right;\n",
              "    }\n",
              "</style>\n",
              "<table border=\"1\" class=\"dataframe\">\n",
              "  <thead>\n",
              "    <tr style=\"text-align: right;\">\n",
              "      <th></th>\n",
              "      <th>party</th>\n",
              "      <th>handicapped-infants</th>\n",
              "      <th>water-project</th>\n",
              "      <th>budget</th>\n",
              "      <th>physician-fee-freeze</th>\n",
              "      <th>el-salvador-aid</th>\n",
              "      <th>religious-groups</th>\n",
              "      <th>anti-satellite-ban</th>\n",
              "      <th>aid-to-contras</th>\n",
              "      <th>mx-missile</th>\n",
              "      <th>immigration</th>\n",
              "      <th>synfuels</th>\n",
              "      <th>education</th>\n",
              "      <th>right-to-sue</th>\n",
              "      <th>crime</th>\n",
              "      <th>duty-free</th>\n",
              "      <th>south-africa</th>\n",
              "    </tr>\n",
              "  </thead>\n",
              "  <tbody>\n",
              "    <tr>\n",
              "      <th>0</th>\n",
              "      <td>republican</td>\n",
              "      <td>n</td>\n",
              "      <td>y</td>\n",
              "      <td>n</td>\n",
              "      <td>y</td>\n",
              "      <td>y</td>\n",
              "      <td>y</td>\n",
              "      <td>n</td>\n",
              "      <td>n</td>\n",
              "      <td>n</td>\n",
              "      <td>y</td>\n",
              "      <td>?</td>\n",
              "      <td>y</td>\n",
              "      <td>y</td>\n",
              "      <td>y</td>\n",
              "      <td>n</td>\n",
              "      <td>y</td>\n",
              "    </tr>\n",
              "    <tr>\n",
              "      <th>1</th>\n",
              "      <td>republican</td>\n",
              "      <td>n</td>\n",
              "      <td>y</td>\n",
              "      <td>n</td>\n",
              "      <td>y</td>\n",
              "      <td>y</td>\n",
              "      <td>y</td>\n",
              "      <td>n</td>\n",
              "      <td>n</td>\n",
              "      <td>n</td>\n",
              "      <td>n</td>\n",
              "      <td>n</td>\n",
              "      <td>y</td>\n",
              "      <td>y</td>\n",
              "      <td>y</td>\n",
              "      <td>n</td>\n",
              "      <td>?</td>\n",
              "    </tr>\n",
              "  </tbody>\n",
              "</table>\n",
              "</div>"
            ],
            "text/plain": [
              "        party handicapped-infants water-project  ... crime duty-free south-africa\n",
              "0  republican                   n             y  ...     y         n            y\n",
              "1  republican                   n             y  ...     y         n            ?\n",
              "\n",
              "[2 rows x 17 columns]"
            ]
          },
          "metadata": {
            "tags": []
          },
          "execution_count": 120
        }
      ]
    },
    {
      "cell_type": "code",
      "metadata": {
        "id": "-swJEStyGqdi",
        "colab_type": "code",
        "colab": {}
      },
      "source": [
        "# changing y's and n's to 1's and 0's and ?'s to NaNs':\n",
        "df=df.replace({'?' : np.NaN, 'n':0, 'y':1})"
      ],
      "execution_count": 0,
      "outputs": []
    },
    {
      "cell_type": "code",
      "metadata": {
        "id": "oU4Iz9YS2KHF",
        "colab_type": "code",
        "outputId": "2450574d-08f5-4cee-e914-7098b002317a",
        "colab": {
          "base_uri": "https://localhost:8080/",
          "height": 323
        }
      },
      "source": [
        "df.isnull().sum()"
      ],
      "execution_count": 122,
      "outputs": [
        {
          "output_type": "execute_result",
          "data": {
            "text/plain": [
              "party                     0\n",
              "handicapped-infants      12\n",
              "water-project            48\n",
              "budget                   11\n",
              "physician-fee-freeze     11\n",
              "el-salvador-aid          15\n",
              "religious-groups         11\n",
              "anti-satellite-ban       14\n",
              "aid-to-contras           15\n",
              "mx-missile               22\n",
              "immigration               7\n",
              "synfuels                 21\n",
              "education                31\n",
              "right-to-sue             25\n",
              "crime                    17\n",
              "duty-free                28\n",
              "south-africa            104\n",
              "dtype: int64"
            ]
          },
          "metadata": {
            "tags": []
          },
          "execution_count": 122
        }
      ]
    },
    {
      "cell_type": "code",
      "metadata": {
        "id": "iBkKw7gN5cAk",
        "colab_type": "code",
        "outputId": "affb6220-69aa-48bf-880a-b95f17088d94",
        "colab": {
          "base_uri": "https://localhost:8080/",
          "height": 51
        }
      },
      "source": [
        "df1= df.dropna(subset = ['crime', 'immigration'])\n",
        "print(df1['crime'].isnull().sum())\n",
        "df1['immigration'].isnull().sum()"
      ],
      "execution_count": 123,
      "outputs": [
        {
          "output_type": "stream",
          "text": [
            "0\n"
          ],
          "name": "stdout"
        },
        {
          "output_type": "execute_result",
          "data": {
            "text/plain": [
              "0"
            ]
          },
          "metadata": {
            "tags": []
          },
          "execution_count": 123
        }
      ]
    },
    {
      "cell_type": "markdown",
      "metadata": {
        "id": "1szPBgy9It6p",
        "colab_type": "text"
      },
      "source": [
        "##Numerical Representation"
      ]
    },
    {
      "cell_type": "code",
      "metadata": {
        "id": "6rhVlvhdI0bP",
        "colab_type": "code",
        "colab": {}
      },
      "source": [
        "from scipy import stats\n",
        "\n",
        "def confidence_interval(data, confidence=0.95):\n",
        "  \"\"\"\n",
        "  Calculate a confidence interval around a sample mean for given data.\n",
        "  Using t-distribution and two-tailed test, default 95% confidence. \n",
        "  \n",
        "  Arguments:\n",
        "    data - iterable (list or numpy array) of sample observations\n",
        "    confidence - level of confidence for the interval\n",
        "  \n",
        "  Returns:\n",
        "    tuple of (mean, lower bound, upper bound)\n",
        "  \"\"\"\n",
        "  data = np.array(data)\n",
        "  mean = np.mean(data)\n",
        "  n = len(data)\n",
        "  stderr = stats.sem(data)\n",
        "  margin = stderr * stats.t.ppf((1 + confidence) / 2.0, n - 1)\n",
        "  return (mean, mean - margin, mean + margin)"
      ],
      "execution_count": 0,
      "outputs": []
    },
    {
      "cell_type": "code",
      "metadata": {
        "id": "Qvs4dpxAKM7e",
        "colab_type": "code",
        "colab": {}
      },
      "source": [
        "# looking at the crime bill:\n",
        "crime_data = df1['crime']"
      ],
      "execution_count": 0,
      "outputs": []
    },
    {
      "cell_type": "code",
      "metadata": {
        "id": "exQPhohndCzA",
        "colab_type": "code",
        "outputId": "e44f6278-2730-4347-b90d-ab7fcc0ca7ea",
        "colab": {
          "base_uri": "https://localhost:8080/",
          "height": 34
        }
      },
      "source": [
        "confidence_interval(crime_data, confidence=.95)"
      ],
      "execution_count": 89,
      "outputs": [
        {
          "output_type": "execute_result",
          "data": {
            "text/plain": [
              "(0.5956416464891041, 0.5481132795036653, 0.643170013474543)"
            ]
          },
          "metadata": {
            "tags": []
          },
          "execution_count": 89
        }
      ]
    },
    {
      "cell_type": "markdown",
      "metadata": {
        "id": "-vWOeql1dfbh",
        "colab_type": "text"
      },
      "source": [
        "If we were to repeat this process, we are 95% sure we would expect the crime legislation to pass 55-64% of the time. \n",
        "\n",
        "\n",
        "\n",
        "\n"
      ]
    },
    {
      "cell_type": "code",
      "metadata": {
        "id": "KS0VQoCI9zcK",
        "colab_type": "code",
        "colab": {}
      },
      "source": [
        "# looking at the immigration bill:\n",
        "imm_data = df1['immigration']"
      ],
      "execution_count": 0,
      "outputs": []
    },
    {
      "cell_type": "code",
      "metadata": {
        "id": "lQpjxCkY95WB",
        "colab_type": "code",
        "outputId": "7e2336fa-7385-4386-ea9d-bdd8b1e8b436",
        "colab": {
          "base_uri": "https://localhost:8080/",
          "height": 34
        }
      },
      "source": [
        "confidence_interval(imm_data, confidence=.95)"
      ],
      "execution_count": 52,
      "outputs": [
        {
          "output_type": "execute_result",
          "data": {
            "text/plain": [
              "(0.5084745762711864, 0.4600590374032899, 0.5568901151390829)"
            ]
          },
          "metadata": {
            "tags": []
          },
          "execution_count": 52
        }
      ]
    },
    {
      "cell_type": "markdown",
      "metadata": {
        "id": "gnD7vmfQ-PN7",
        "colab_type": "text"
      },
      "source": [
        "If we were to repeat this process, we are 95% sure we would expect the immigration bill to pass 46-56% of the time."
      ]
    },
    {
      "cell_type": "markdown",
      "metadata": {
        "id": "0PW82LVUlav-",
        "colab_type": "text"
      },
      "source": [
        "## Graphical Representation"
      ]
    },
    {
      "cell_type": "code",
      "metadata": {
        "id": "Vc4O01i6laIJ",
        "colab_type": "code",
        "outputId": "1f16dab3-c014-4daf-e56d-ba9b553da8f5",
        "colab": {
          "base_uri": "https://localhost:8080/",
          "height": 301
        }
      },
      "source": [
        "import seaborn as sns\n",
        "fig.patch.set(facecolor='white')\n",
        "sns.distplot(crime_data)\n",
        "CI = confidence_interval(crime_data)\n",
        "plt.axvline(x=CI[1], color='red')\n",
        "plt.axvline(x=CI[2], color='red')\n",
        "plt.axvline(x=CI[0], color='k')\n",
        "plt.xlim(0, 1)\n",
        "plt.title('Crime Legislation Vote');"
      ],
      "execution_count": 116,
      "outputs": [
        {
          "output_type": "display_data",
          "data": {
            "image/png": "[encoded data removed]",
            "text/plain": [
              "<Figure size 432x288 with 1 Axes>"
            ]
          },
          "metadata": {
            "tags": []
          }
        }
      ]
    },
    {
      "cell_type": "code",
      "metadata": {
        "id": "O7zx21-c-wS1",
        "colab_type": "code",
        "outputId": "4c91fb63-654c-4dff-ff82-2c7bd82812a9",
        "colab": {
          "base_uri": "https://localhost:8080/",
          "height": 301
        }
      },
      "source": [
        "fig.patch.set(facecolor='white')\n",
        "sns.distplot(imm_data)\n",
        "CI = confidence_interval(imm_data)\n",
        "plt.axvline(x=CI[1], color='red')\n",
        "plt.axvline(x=CI[2], color='red')\n",
        "plt.axvline(x=CI[0], color='k')\n",
        "plt.xlim(0, 1)\n",
        "plt.title('Immigration Legislation Vote');"
      ],
      "execution_count": 124,
      "outputs": [
        {
          "output_type": "display_data",
          "data": {
            "image/png": "[encoded data removed]",
            "text/plain": [
              "<Figure size 432x288 with 1 Axes>"
            ]
          },
          "metadata": {
            "tags": []
          }
        }
      ]
    },
    {
      "cell_type": "markdown",
      "metadata": {
        "id": "sH22LjR_1zBh",
        "colab_type": "text"
      },
      "source": [
        "#Part 2: Chi-squared tests\n"
      ]
    },
    {
      "cell_type": "markdown",
      "metadata": {
        "id": "Agox0u4C8yAJ",
        "colab_type": "text"
      },
      "source": [
        "## Numpy Attempt\n"
      ]
    },
    {
      "cell_type": "code",
      "metadata": {
        "id": "yfdv-ZZT1V_g",
        "colab_type": "code",
        "colab": {}
      },
      "source": [
        "import pandas as pd\n",
        "import numpy as np"
      ],
      "execution_count": 0,
      "outputs": []
    },
    {
      "cell_type": "code",
      "metadata": {
        "id": "3E0411uR1dNG",
        "colab_type": "code",
        "colab": {}
      },
      "source": [
        "# import the heart disease dataset previously used:\n",
        "heart_url = 'https://archive.ics.uci.edu/ml/machine-learning-databases/heart-disease/processed.cleveland.data'\n",
        "df = pd.read_csv(heart_url)"
      ],
      "execution_count": 0,
      "outputs": []
    },
    {
      "cell_type": "code",
      "metadata": {
        "id": "Ckcr4A4FM7cs",
        "colab_type": "code",
        "outputId": "56123312-b4ae-42ea-f0a0-251487f45227",
        "colab": {
          "base_uri": "https://localhost:8080/",
          "height": 182
        }
      },
      "source": [
        "# needed to add in column headers:\n",
        "header_columns = ['#3 (age)' , '#4 (sex)' , '#9 (cp)' , '#10 (trestbps)' , \n",
        "                  '#12 (chol)' , '#16 (fbs)' , '#19 (restecg)' , '#32 (thalach)' ,\n",
        "                  '#38 (exang)' , '#40 (oldpeak)' , '#41 (slope)' , '#44 (ca)' ,\n",
        "                  '#51 (thal)' , '#58 (num) (the predicted attribute)']\n",
        "df = pd.read_csv(heart_url, names=header_columns)\n",
        "df.head(2)"
      ],
      "execution_count": 57,
      "outputs": [
        {
          "output_type": "execute_result",
          "data": {
            "text/html": [
              "<div>\n",
              "<style scoped>\n",
              "    .dataframe tbody tr th:only-of-type {\n",
              "        vertical-align: middle;\n",
              "    }\n",
              "\n",
              "    .dataframe tbody tr th {\n",
              "        vertical-align: top;\n",
              "    }\n",
              "\n",
              "    .dataframe thead th {\n",
              "        text-align: right;\n",
              "    }\n",
              "</style>\n",
              "<table border=\"1\" class=\"dataframe\">\n",
              "  <thead>\n",
              "    <tr style=\"text-align: right;\">\n",
              "      <th></th>\n",
              "      <th>#3 (age)</th>\n",
              "      <th>#4 (sex)</th>\n",
              "      <th>#9 (cp)</th>\n",
              "      <th>#10 (trestbps)</th>\n",
              "      <th>#12 (chol)</th>\n",
              "      <th>#16 (fbs)</th>\n",
              "      <th>#19 (restecg)</th>\n",
              "      <th>#32 (thalach)</th>\n",
              "      <th>#38 (exang)</th>\n",
              "      <th>#40 (oldpeak)</th>\n",
              "      <th>#41 (slope)</th>\n",
              "      <th>#44 (ca)</th>\n",
              "      <th>#51 (thal)</th>\n",
              "      <th>#58 (num) (the predicted attribute)</th>\n",
              "    </tr>\n",
              "  </thead>\n",
              "  <tbody>\n",
              "    <tr>\n",
              "      <th>0</th>\n",
              "      <td>63.0</td>\n",
              "      <td>1.0</td>\n",
              "      <td>1.0</td>\n",
              "      <td>145.0</td>\n",
              "      <td>233.0</td>\n",
              "      <td>1.0</td>\n",
              "      <td>2.0</td>\n",
              "      <td>150.0</td>\n",
              "      <td>0.0</td>\n",
              "      <td>2.3</td>\n",
              "      <td>3.0</td>\n",
              "      <td>0.0</td>\n",
              "      <td>6.0</td>\n",
              "      <td>0</td>\n",
              "    </tr>\n",
              "    <tr>\n",
              "      <th>1</th>\n",
              "      <td>67.0</td>\n",
              "      <td>1.0</td>\n",
              "      <td>4.0</td>\n",
              "      <td>160.0</td>\n",
              "      <td>286.0</td>\n",
              "      <td>0.0</td>\n",
              "      <td>2.0</td>\n",
              "      <td>108.0</td>\n",
              "      <td>1.0</td>\n",
              "      <td>1.5</td>\n",
              "      <td>2.0</td>\n",
              "      <td>3.0</td>\n",
              "      <td>3.0</td>\n",
              "      <td>2</td>\n",
              "    </tr>\n",
              "  </tbody>\n",
              "</table>\n",
              "</div>"
            ],
            "text/plain": [
              "   #3 (age)  #4 (sex)  ...  #51 (thal)  #58 (num) (the predicted attribute)\n",
              "0      63.0       1.0  ...         6.0                                    0\n",
              "1      67.0       1.0  ...         3.0                                    2\n",
              "\n",
              "[2 rows x 14 columns]"
            ]
          },
          "metadata": {
            "tags": []
          },
          "execution_count": 57
        }
      ]
    },
    {
      "cell_type": "code",
      "metadata": {
        "id": "EnrPlDP41kE7",
        "colab_type": "code",
        "outputId": "3f086adf-b938-4654-d802-3cfb434ebf40",
        "colab": {
          "base_uri": "https://localhost:8080/",
          "height": 272
        }
      },
      "source": [
        "# check for missing values:\n",
        "df.isnull().sum()"
      ],
      "execution_count": 58,
      "outputs": [
        {
          "output_type": "execute_result",
          "data": {
            "text/plain": [
              "#3 (age)                               0\n",
              "#4 (sex)                               0\n",
              "#9 (cp)                                0\n",
              "#10 (trestbps)                         0\n",
              "#12 (chol)                             0\n",
              "#16 (fbs)                              0\n",
              "#19 (restecg)                          0\n",
              "#32 (thalach)                          0\n",
              "#38 (exang)                            0\n",
              "#40 (oldpeak)                          0\n",
              "#41 (slope)                            0\n",
              "#44 (ca)                               0\n",
              "#51 (thal)                             0\n",
              "#58 (num) (the predicted attribute)    0\n",
              "dtype: int64"
            ]
          },
          "metadata": {
            "tags": []
          },
          "execution_count": 58
        }
      ]
    },
    {
      "cell_type": "code",
      "metadata": {
        "id": "jWkx4mxM61_L",
        "colab_type": "code",
        "outputId": "7d644a33-e4a0-43d2-c48f-97152ed1038d",
        "colab": {
          "base_uri": "https://localhost:8080/",
          "height": 34
        }
      },
      "source": [
        "df['#12 (chol)'].value_counts().sum()"
      ],
      "execution_count": 59,
      "outputs": [
        {
          "output_type": "execute_result",
          "data": {
            "text/plain": [
              "303"
            ]
          },
          "metadata": {
            "tags": []
          },
          "execution_count": 59
        }
      ]
    },
    {
      "cell_type": "code",
      "metadata": {
        "id": "UbFwzjCz1r4H",
        "colab_type": "code",
        "outputId": "e7d57d06-b449-4486-dce4-99cf97cc7688",
        "colab": {
          "base_uri": "https://localhost:8080/",
          "height": 216
        }
      },
      "source": [
        "# null hypothesis of Chi-squared test is that the 2 variables are independent of\n",
        "# each other. \n",
        "\n",
        "# in this case I am going to test the relationship between sex and cholesterol level.\n",
        "\n",
        "# per webmd there are 3 categories of cholesterol so will bin the values \n",
        "# from the dataset.\n",
        "bins = ['less than 200 (desirable)', '200-239 (borderline high)', '240 + (high)']\n",
        "cut_points = [0, 200, 239, 600]\n",
        "df['binned_chol'] = pd.cut(df['#12 (chol)'], cut_points, labels = bins)\n",
        "df.head(2)"
      ],
      "execution_count": 60,
      "outputs": [
        {
          "output_type": "execute_result",
          "data": {
            "text/html": [
              "<div>\n",
              "<style scoped>\n",
              "    .dataframe tbody tr th:only-of-type {\n",
              "        vertical-align: middle;\n",
              "    }\n",
              "\n",
              "    .dataframe tbody tr th {\n",
              "        vertical-align: top;\n",
              "    }\n",
              "\n",
              "    .dataframe thead th {\n",
              "        text-align: right;\n",
              "    }\n",
              "</style>\n",
              "<table border=\"1\" class=\"dataframe\">\n",
              "  <thead>\n",
              "    <tr style=\"text-align: right;\">\n",
              "      <th></th>\n",
              "      <th>#3 (age)</th>\n",
              "      <th>#4 (sex)</th>\n",
              "      <th>#9 (cp)</th>\n",
              "      <th>#10 (trestbps)</th>\n",
              "      <th>#12 (chol)</th>\n",
              "      <th>#16 (fbs)</th>\n",
              "      <th>#19 (restecg)</th>\n",
              "      <th>#32 (thalach)</th>\n",
              "      <th>#38 (exang)</th>\n",
              "      <th>#40 (oldpeak)</th>\n",
              "      <th>#41 (slope)</th>\n",
              "      <th>#44 (ca)</th>\n",
              "      <th>#51 (thal)</th>\n",
              "      <th>#58 (num) (the predicted attribute)</th>\n",
              "      <th>binned_chol</th>\n",
              "    </tr>\n",
              "  </thead>\n",
              "  <tbody>\n",
              "    <tr>\n",
              "      <th>0</th>\n",
              "      <td>63.0</td>\n",
              "      <td>1.0</td>\n",
              "      <td>1.0</td>\n",
              "      <td>145.0</td>\n",
              "      <td>233.0</td>\n",
              "      <td>1.0</td>\n",
              "      <td>2.0</td>\n",
              "      <td>150.0</td>\n",
              "      <td>0.0</td>\n",
              "      <td>2.3</td>\n",
              "      <td>3.0</td>\n",
              "      <td>0.0</td>\n",
              "      <td>6.0</td>\n",
              "      <td>0</td>\n",
              "      <td>200-239 (borderline high)</td>\n",
              "    </tr>\n",
              "    <tr>\n",
              "      <th>1</th>\n",
              "      <td>67.0</td>\n",
              "      <td>1.0</td>\n",
              "      <td>4.0</td>\n",
              "      <td>160.0</td>\n",
              "      <td>286.0</td>\n",
              "      <td>0.0</td>\n",
              "      <td>2.0</td>\n",
              "      <td>108.0</td>\n",
              "      <td>1.0</td>\n",
              "      <td>1.5</td>\n",
              "      <td>2.0</td>\n",
              "      <td>3.0</td>\n",
              "      <td>3.0</td>\n",
              "      <td>2</td>\n",
              "      <td>240 + (high)</td>\n",
              "    </tr>\n",
              "  </tbody>\n",
              "</table>\n",
              "</div>"
            ],
            "text/plain": [
              "   #3 (age)  ...                binned_chol\n",
              "0      63.0  ...  200-239 (borderline high)\n",
              "1      67.0  ...               240 + (high)\n",
              "\n",
              "[2 rows x 15 columns]"
            ]
          },
          "metadata": {
            "tags": []
          },
          "execution_count": 60
        }
      ]
    },
    {
      "cell_type": "code",
      "metadata": {
        "id": "Knzretak6WtK",
        "colab_type": "code",
        "outputId": "a018f906-bbc9-49f5-d3ed-48110712c849",
        "colab": {
          "base_uri": "https://localhost:8080/",
          "height": 85
        }
      },
      "source": [
        "# value count to verify crosstab numbers are correct:\n",
        "df['binned_chol'].value_counts()\n",
        "\n",
        "# confirmed that there were 303 values in the cholesterol column (1 is header)\n",
        "# 303 values were binned so no entries were missed."
      ],
      "execution_count": 61,
      "outputs": [
        {
          "output_type": "execute_result",
          "data": {
            "text/plain": [
              "240 + (high)                 156\n",
              "200-239 (borderline high)     97\n",
              "less than 200 (desirable)     50\n",
              "Name: binned_chol, dtype: int64"
            ]
          },
          "metadata": {
            "tags": []
          },
          "execution_count": 61
        }
      ]
    },
    {
      "cell_type": "code",
      "metadata": {
        "id": "nULk1byb6FYf",
        "colab_type": "code",
        "outputId": "c0119a25-0ebb-4256-c2db-2b9002da7c09",
        "colab": {
          "base_uri": "https://localhost:8080/",
          "height": 173
        }
      },
      "source": [
        "# create a crosstab of those variables:\n",
        "crosstab_totals = pd.crosstab(df['#4 (sex)'], df['binned_chol'], margins = True)\n",
        "crosstab_totals"
      ],
      "execution_count": 62,
      "outputs": [
        {
          "output_type": "execute_result",
          "data": {
            "text/html": [
              "<div>\n",
              "<style scoped>\n",
              "    .dataframe tbody tr th:only-of-type {\n",
              "        vertical-align: middle;\n",
              "    }\n",
              "\n",
              "    .dataframe tbody tr th {\n",
              "        vertical-align: top;\n",
              "    }\n",
              "\n",
              "    .dataframe thead th {\n",
              "        text-align: right;\n",
              "    }\n",
              "</style>\n",
              "<table border=\"1\" class=\"dataframe\">\n",
              "  <thead>\n",
              "    <tr style=\"text-align: right;\">\n",
              "      <th>binned_chol</th>\n",
              "      <th>less than 200 (desirable)</th>\n",
              "      <th>200-239 (borderline high)</th>\n",
              "      <th>240 + (high)</th>\n",
              "      <th>All</th>\n",
              "    </tr>\n",
              "    <tr>\n",
              "      <th>#4 (sex)</th>\n",
              "      <th></th>\n",
              "      <th></th>\n",
              "      <th></th>\n",
              "      <th></th>\n",
              "    </tr>\n",
              "  </thead>\n",
              "  <tbody>\n",
              "    <tr>\n",
              "      <th>0.0</th>\n",
              "      <td>14</td>\n",
              "      <td>24</td>\n",
              "      <td>59</td>\n",
              "      <td>97</td>\n",
              "    </tr>\n",
              "    <tr>\n",
              "      <th>1.0</th>\n",
              "      <td>36</td>\n",
              "      <td>73</td>\n",
              "      <td>97</td>\n",
              "      <td>206</td>\n",
              "    </tr>\n",
              "    <tr>\n",
              "      <th>All</th>\n",
              "      <td>156</td>\n",
              "      <td>50</td>\n",
              "      <td>97</td>\n",
              "      <td>303</td>\n",
              "    </tr>\n",
              "  </tbody>\n",
              "</table>\n",
              "</div>"
            ],
            "text/plain": [
              "binned_chol  less than 200 (desirable)  ...  All\n",
              "#4 (sex)                                ...     \n",
              "0.0                                 14  ...   97\n",
              "1.0                                 36  ...  206\n",
              "All                                156  ...  303\n",
              "\n",
              "[3 rows x 4 columns]"
            ]
          },
          "metadata": {
            "tags": []
          },
          "execution_count": 62
        }
      ]
    },
    {
      "cell_type": "code",
      "metadata": {
        "id": "zqKo7dqm6VkZ",
        "colab_type": "code",
        "outputId": "7fefd4d0-4d25-4b57-fc4f-abd4e3ecd507",
        "colab": {
          "base_uri": "https://localhost:8080/",
          "height": 142
        }
      },
      "source": [
        "crosstab = pd.crosstab(df['#4 (sex)'], df['binned_chol'])\n",
        "crosstab"
      ],
      "execution_count": 63,
      "outputs": [
        {
          "output_type": "execute_result",
          "data": {
            "text/html": [
              "<div>\n",
              "<style scoped>\n",
              "    .dataframe tbody tr th:only-of-type {\n",
              "        vertical-align: middle;\n",
              "    }\n",
              "\n",
              "    .dataframe tbody tr th {\n",
              "        vertical-align: top;\n",
              "    }\n",
              "\n",
              "    .dataframe thead th {\n",
              "        text-align: right;\n",
              "    }\n",
              "</style>\n",
              "<table border=\"1\" class=\"dataframe\">\n",
              "  <thead>\n",
              "    <tr style=\"text-align: right;\">\n",
              "      <th>binned_chol</th>\n",
              "      <th>less than 200 (desirable)</th>\n",
              "      <th>200-239 (borderline high)</th>\n",
              "      <th>240 + (high)</th>\n",
              "    </tr>\n",
              "    <tr>\n",
              "      <th>#4 (sex)</th>\n",
              "      <th></th>\n",
              "      <th></th>\n",
              "      <th></th>\n",
              "    </tr>\n",
              "  </thead>\n",
              "  <tbody>\n",
              "    <tr>\n",
              "      <th>0.0</th>\n",
              "      <td>14</td>\n",
              "      <td>24</td>\n",
              "      <td>59</td>\n",
              "    </tr>\n",
              "    <tr>\n",
              "      <th>1.0</th>\n",
              "      <td>36</td>\n",
              "      <td>73</td>\n",
              "      <td>97</td>\n",
              "    </tr>\n",
              "  </tbody>\n",
              "</table>\n",
              "</div>"
            ],
            "text/plain": [
              "binned_chol  less than 200 (desirable)  200-239 (borderline high)  240 + (high)\n",
              "#4 (sex)                                                                       \n",
              "0.0                                 14                         24            59\n",
              "1.0                                 36                         73            97"
            ]
          },
          "metadata": {
            "tags": []
          },
          "execution_count": 63
        }
      ]
    },
    {
      "cell_type": "code",
      "metadata": {
        "id": "xDNR1-C28G8m",
        "colab_type": "code",
        "outputId": "022d1f2e-8c52-4595-9131-e9d79bea3eca",
        "colab": {
          "base_uri": "https://localhost:8080/",
          "height": 34
        }
      },
      "source": [
        "# male count (reflected as 1 on dataset)\n",
        "#used later to plot\n",
        "male_count = crosstab.iloc[1].values\n",
        "male_count"
      ],
      "execution_count": 64,
      "outputs": [
        {
          "output_type": "execute_result",
          "data": {
            "text/plain": [
              "array([36, 73, 97])"
            ]
          },
          "metadata": {
            "tags": []
          },
          "execution_count": 64
        }
      ]
    },
    {
      "cell_type": "code",
      "metadata": {
        "id": "SvZHroQH8kin",
        "colab_type": "code",
        "outputId": "906f335f-d69e-4b6a-f8ed-6c821de72d12",
        "colab": {
          "base_uri": "https://localhost:8080/",
          "height": 34
        }
      },
      "source": [
        "# female count (relected as 0 on dataset)\n",
        "#used later to plot\n",
        "female_count = crosstab.iloc[0].values\n",
        "female_count"
      ],
      "execution_count": 65,
      "outputs": [
        {
          "output_type": "execute_result",
          "data": {
            "text/plain": [
              "array([14, 24, 59])"
            ]
          },
          "metadata": {
            "tags": []
          },
          "execution_count": 65
        }
      ]
    },
    {
      "cell_type": "code",
      "metadata": {
        "id": "_rXAZupf82CA",
        "colab_type": "code",
        "outputId": "2345d52c-b9dc-4546-dc7a-6b2438b7bf42",
        "colab": {
          "base_uri": "https://localhost:8080/",
          "height": 51
        }
      },
      "source": [
        "#Expected Value Calculation:\n",
        "row_sums = crosstab_totals.iloc[0:2, 3].values\n",
        "print(row_sums)\n",
        "column_sums = crosstab_totals.iloc[2, 0:3].values\n",
        "print(column_sums)\n",
        " "
      ],
      "execution_count": 66,
      "outputs": [
        {
          "output_type": "stream",
          "text": [
            "[ 97 206]\n",
            "[156  50  97]\n"
          ],
          "name": "stdout"
        }
      ]
    },
    {
      "cell_type": "code",
      "metadata": {
        "id": "JuquVEI9_bu3",
        "colab_type": "code",
        "outputId": "f2642c2e-c1a8-45e8-d664-0d50e7cfac63",
        "colab": {
          "base_uri": "https://localhost:8080/",
          "height": 34
        }
      },
      "source": [
        "total = crosstab_totals.loc['All', 'All']\n",
        "total"
      ],
      "execution_count": 67,
      "outputs": [
        {
          "output_type": "execute_result",
          "data": {
            "text/plain": [
              "303"
            ]
          },
          "metadata": {
            "tags": []
          },
          "execution_count": 67
        }
      ]
    },
    {
      "cell_type": "code",
      "metadata": {
        "id": "JAtasISP_sAC",
        "colab_type": "code",
        "outputId": "36b4a28a-ab83-447f-a570-f4ed23934b17",
        "colab": {
          "base_uri": "https://localhost:8080/",
          "height": 68
        }
      },
      "source": [
        "expected = []\n",
        "for i in range(len(row_sums)):\n",
        "  expected_row = []\n",
        "  for column in column_sums:\n",
        "    expected_val = column*row_sums[i]/total\n",
        "    expected_row.append(expected_val)\n",
        "  expected.append(expected_row)\n",
        "  \n",
        "expected = np.array(expected)\n",
        "print(expected.shape)\n",
        "print(expected)"
      ],
      "execution_count": 68,
      "outputs": [
        {
          "output_type": "stream",
          "text": [
            "(2, 3)\n",
            "[[ 49.94059406  16.00660066  31.05280528]\n",
            " [106.05940594  33.99339934  65.94719472]]\n"
          ],
          "name": "stdout"
        }
      ]
    },
    {
      "cell_type": "code",
      "metadata": {
        "id": "Th3XnbNOAVJR",
        "colab_type": "code",
        "outputId": "7d5f42e8-acfd-4f64-a668-a565210f02b8",
        "colab": {
          "base_uri": "https://localhost:8080/",
          "height": 68
        }
      },
      "source": [
        "# the data in the table:\n",
        "observed = pd.crosstab(df['#4 (sex)'], df['binned_chol']).values\n",
        "print(observed.shape)\n",
        "print(observed)"
      ],
      "execution_count": 69,
      "outputs": [
        {
          "output_type": "stream",
          "text": [
            "(2, 3)\n",
            "[[14 24 59]\n",
            " [36 73 97]]\n"
          ],
          "name": "stdout"
        }
      ]
    },
    {
      "cell_type": "code",
      "metadata": {
        "id": "gjH4Bzb7A2Gz",
        "colab_type": "code",
        "outputId": "1013c85f-5912-4054-8e73-a23d05612953",
        "colab": {
          "base_uri": "https://localhost:8080/",
          "height": 34
        }
      },
      "source": [
        "# calculate chi-squared value:\n",
        "chi_squared = ((observed - expected)**2/(expected)).sum()\n",
        "print('Chi-Squared:', chi_squared)"
      ],
      "execution_count": 70,
      "outputs": [
        {
          "output_type": "stream",
          "text": [
            "Chi-Squared: 160.66924282369595\n"
          ],
          "name": "stdout"
        }
      ]
    },
    {
      "cell_type": "code",
      "metadata": {
        "id": "jtG3UjzsBf1v",
        "colab_type": "code",
        "outputId": "5d65b6b5-7e11-4e64-9176-4aedbcc9bd55",
        "colab": {
          "base_uri": "https://localhost:8080/",
          "height": 34
        }
      },
      "source": [
        "# degrees of freedom of chi-squared test:\n",
        "# adding this in for notes: degrees of freedom = (num_rows -1)(num_columns-1)\n",
        "\n",
        "dof = (len(row_sums)-1)*(len(column_sums)-1)\n",
        "print('Degrees of Freedom:', dof)"
      ],
      "execution_count": 71,
      "outputs": [
        {
          "output_type": "stream",
          "text": [
            "Degrees of Freedom: 2\n"
          ],
          "name": "stdout"
        }
      ]
    },
    {
      "cell_type": "markdown",
      "metadata": {
        "id": "l-y2vhI0B7nQ",
        "colab_type": "text"
      },
      "source": [
        "## Scipy Attempt"
      ]
    },
    {
      "cell_type": "code",
      "metadata": {
        "id": "V_3KmQmgChyE",
        "colab_type": "code",
        "colab": {}
      },
      "source": [
        "from scipy import stats"
      ],
      "execution_count": 0,
      "outputs": []
    },
    {
      "cell_type": "code",
      "metadata": {
        "id": "9DwD-2IaCAtS",
        "colab_type": "code",
        "outputId": "7e4fadb2-549a-4647-b6b0-5cd145519b7c",
        "colab": {
          "base_uri": "https://localhost:8080/",
          "height": 119
        }
      },
      "source": [
        "chi_squared, p_value, dof, expected = stats.chi2_contingency(observed)\n",
        "print('Chi-Squared:' , chi_squared)\n",
        "print('P-Value:', p_value)\n",
        "print('Degrees of Freedom:', dof)\n",
        "print('Expected: \\n', np.array(expected))"
      ],
      "execution_count": 73,
      "outputs": [
        {
          "output_type": "stream",
          "text": [
            "Chi-Squared: 5.1433697873685045\n",
            "P-Value: 0.07640669974292433\n",
            "Degrees of Freedom: 2\n",
            "Expected: \n",
            " [[ 16.00660066  31.05280528  49.94059406]\n",
            " [ 33.99339934  65.94719472 106.05940594]]\n"
          ],
          "name": "stdout"
        }
      ]
    },
    {
      "cell_type": "markdown",
      "metadata": {
        "id": "AL54-I0WEyFx",
        "colab_type": "text"
      },
      "source": [
        "## Null hypothesis is that cholesterol level is independent of sex.\n",
        "\n",
        "###Due to the p-value being .07, we reject the null hypothesis that cholesterol level and sex are independent of each other and conclude there is an association between the two.\n"
      ]
    },
    {
      "cell_type": "code",
      "metadata": {
        "id": "6a9LkcWuC8_P",
        "colab_type": "code",
        "colab": {}
      },
      "source": [
        "# Plot results:\n",
        "import matplotlib.pyplot as plt\n",
        "import seaborn as sns\n"
      ],
      "execution_count": 0,
      "outputs": []
    },
    {
      "cell_type": "code",
      "metadata": {
        "id": "LA_ey1GyDNop",
        "colab_type": "code",
        "outputId": "65a937fd-3935-45c3-c7e2-c8cd4eb21d2d",
        "colab": {
          "base_uri": "https://localhost:8080/",
          "height": 291
        }
      },
      "source": [
        "sns.set(font_scale=1)\n",
        "fig.patch.set(facecolor='white')\n",
        "categories = ['less than 200 (desirable)', '200-239 (borderline high)', '240 + (high)']\n",
        "p1 = plt.bar(categories, male_count, .25, color='green')\n",
        "p2 = plt.bar(categories, female_count, .25, color = 'blue')\n",
        "plt.legend((p2[1], p1[1]), ('Female', 'Male'))\n",
        "plt.xlabel('Cholesterol Level')\n",
        "plt.ylabel('Count')\n",
        "plt.show()\n"
      ],
      "execution_count": 110,
      "outputs": [
        {
          "output_type": "display_data",
          "data": {
            "image/png": "[encoded data removed]",
            "text/plain": [
              "<Figure size 432x288 with 1 Axes>"
            ]
          },
          "metadata": {
            "tags": []
          }
        }
      ]
    },
    {
      "cell_type": "code",
      "metadata": {
        "id": "t2DgkCVmEkNh",
        "colab_type": "code",
        "colab": {}
      },
      "source": [
        ""
      ],
      "execution_count": 0,
      "outputs": []
    },
    {
      "cell_type": "markdown",
      "metadata": {
        "id": "4ohsJhQUmEuS",
        "colab_type": "text"
      },
      "source": [
        "## Stretch goals:\n",
        "\n",
        "1. Write a summary of your findings, mixing prose and math/code/results. *Note* - yes, this is by definition a political topic. It is challenging but important to keep your writing voice *neutral* and stick to the facts of the data. Data science often involves considering controversial issues, so it's important to be sensitive about them (especially if you want to publish).\n",
        "2. Apply the techniques you learned today to your project data or other data of your choice, and write/discuss your findings here.\n",
        "3. Refactor your code so it is elegant, readable, and can be easily run for all issues."
      ]
    },
    {
      "cell_type": "markdown",
      "metadata": {
        "id": "nyJ3ySr7R2k9",
        "colab_type": "text"
      },
      "source": [
        "## Resources\n",
        "\n",
        "- [Interactive visualize the Chi-Squared test](https://homepage.divms.uiowa.edu/~mbognar/applets/chisq.html)\n",
        "- [Calculation of Chi-Squared test statistic](https://en.wikipedia.org/wiki/Pearson%27s_chi-squared_test)\n",
        "- [Visualization of a confidence interval generated by R code](https://commons.wikimedia.org/wiki/File:Confidence-interval.svg)\n",
        "- [Expected value of a squared standard normal](https://math.stackexchange.com/questions/264061/expected-value-calculation-for-squared-normal-distribution) (it's 1 - which is why the expected value of a Chi-Squared with $n$ degrees of freedom is $n$, as it's the sum of $n$ squared standard normals)"
      ]
    }
  ]
}