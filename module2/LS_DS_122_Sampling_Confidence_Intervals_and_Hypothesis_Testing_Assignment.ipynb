{
  "nbformat": 4,
  "nbformat_minor": 0,
  "metadata": {
    "colab": {
      "name": "LS_DS_122_Sampling_Confidence_Intervals_and_Hypothesis_Testing_Assignment.ipynb",
      "provenance": [],
      "collapsed_sections": [],
      "include_colab_link": true
    },
    "kernelspec": {
      "name": "python3",
      "display_name": "Python 3"
    }
  },
  "cells": [
    {
      "cell_type": "markdown",
      "metadata": {
        "id": "view-in-github",
        "colab_type": "text"
      },
      "source": [
        "<a href=\"https://colab.research.google.com/github/vjmiyagi/DS-Unit-1-Sprint-2-Statistics/blob/master/module2/LS_DS_122_Sampling_Confidence_Intervals_and_Hypothesis_Testing_Assignment.ipynb\" target=\"_parent\"><img src=\"https://colab.research.google.com/assets/colab-badge.svg\" alt=\"Open In Colab\"/></a>"
      ]
    },
    {
      "cell_type": "markdown",
      "metadata": {
        "id": "11OzdxWTM7UR",
        "colab_type": "text"
      },
      "source": [
        "## Assignment - Build a confidence interval\n",
        "\n",
        "A confidence interval refers to a neighborhood around some point estimate, the size of which is determined by the desired p-value. For instance, we might say that 52% of Americans prefer tacos to burritos, with a 95% confidence interval of +/- 5%.\n",
        "\n",
        "52% (0.52) is the point estimate, and +/- 5% (the interval $[0.47, 0.57]$) is the confidence interval. \"95% confidence\" means a p-value $\\leq 1 - 0.95 = 0.05$.\n",
        "\n",
        "In this case, the confidence interval includes $0.5$ - which is the natural null hypothesis (that half of Americans prefer tacos and half burritos, thus there is no clear favorite). So in this case, we could use the confidence interval to report that we've failed to reject the null hypothesis.\n",
        "\n",
        "But providing the full analysis with a confidence interval, including a graphical representation of it, can be a helpful and powerful way to tell your story. Done well, it is also more intuitive to a layperson than simply saying \"fail to reject the null hypothesis\" - it shows that in fact the data does *not* give a single clear result (the point estimate) but a whole range of possibilities.\n",
        "\n",
        "How is a confidence interval built, and how should it be interpreted? It does *not* mean that 95% of the data lies in that interval - instead, the frequentist interpretation is \"if we were to repeat this experiment 100 times, we would expect the average result to lie in this interval ~95 times.\"\n",
        "\n",
        "For a 95% confidence interval and a normal(-ish) distribution, you can simply remember that +/-2 standard deviations contains 95% of the probability mass, and so the 95% confidence interval based on a given sample is centered at the mean (point estimate) and has a range of +/- 2 (or technically 1.96) standard deviations.\n",
        "\n",
        "Different distributions/assumptions (90% confidence, 99% confidence) will require different math, but the overall process and interpretation (with a frequentist approach) will be the same.\n",
        "\n",
        "Your assignment - using the data from the prior module ([congressional voting records](https://archive.ics.uci.edu/ml/datasets/Congressional+Voting+Records)):\n",
        "\n",
        "\n",
        "### Confidence Intervals:\n",
        "1. Generate and numerically represent a confidence interval\n",
        "2. Graphically (with a plot) represent the confidence interval\n",
        "3. Interpret the confidence interval - what does it tell you about the data and its distribution?\n",
        "\n",
        "### Chi-squared tests:\n",
        "4. Take a dataset that we have used in the past in class that has **categorical** variables. Pick two of those categorical variables and run a chi-squared tests on that data\n",
        "  - By hand using Numpy\n",
        "  - In a single line using Scipy\n"
      ]
    },
    {
      "cell_type": "markdown",
      "metadata": {
        "id": "mSPQMJarknkY",
        "colab_type": "text"
      },
      "source": [
        "import seaborn as sns\n",
        "\n",
        "sns.kdeplot(immigration)\n",
        "plt.axvline(x=CI_immigration[0], color='red')\n",
        "plt.axvline(x=CI_immigration[1], color='red')\n",
        "plt.axvline(x=mean, color='k');"
      ]
    },
    {
      "cell_type": "code",
      "metadata": {
        "id": "Ckcr4A4FM7cs",
        "colab_type": "code",
        "outputId": "19067f95-d210-452c-ec44-d4acb2a7cfab",
        "colab": {
          "base_uri": "https://localhost:8080/",
          "height": 224
        }
      },
      "source": [
        "# Import Libraries\n",
        "\n",
        "import pandas as pd\n",
        "import numpy as np\n",
        "from scipy import stats as st\n",
        "import matplotlib.pyplot as plt\n",
        "import seaborn as sns\n",
        "\n",
        "# Grab the file from UCI\n",
        "!wget https://archive.ics.uci.edu/ml/machine-learning-databases/voting-records/house-votes-84.data"
      ],
      "execution_count": 1,
      "outputs": [
        {
          "output_type": "stream",
          "text": [
            "--2020-03-20 09:50:20--  https://archive.ics.uci.edu/ml/machine-learning-databases/voting-records/house-votes-84.data\n",
            "Resolving archive.ics.uci.edu (archive.ics.uci.edu)... 128.195.10.252\n",
            "Connecting to archive.ics.uci.edu (archive.ics.uci.edu)|128.195.10.252|:443... connected.\n",
            "HTTP request sent, awaiting response... 200 OK\n",
            "Length: 18171 (18K) [application/x-httpd-php]\n",
            "Saving to: ‘house-votes-84.data’\n",
            "\n",
            "house-votes-84.data 100%[===================>]  17.75K  --.-KB/s    in 0.07s   \n",
            "\n",
            "2020-03-20 09:50:26 (266 KB/s) - ‘house-votes-84.data’ saved [18171/18171]\n",
            "\n"
          ],
          "name": "stdout"
        }
      ]
    },
    {
      "cell_type": "code",
      "metadata": {
        "id": "RbNt6qpPcZEX",
        "colab_type": "code",
        "outputId": "dd0d2f71-ff2a-4644-81b7-dd59d067fdd7",
        "colab": {
          "base_uri": "https://localhost:8080/",
          "height": 187
        }
      },
      "source": [
        "# Load data into df\n",
        "\n",
        "df=pd.read_csv('house-votes-84.data',names=['party','handicapped-infants',\n",
        "                                            'water-project','budget',\n",
        "                                            'physician-fee-freeze',\n",
        "                                            'el-salvador-aid',\n",
        "                                            'religious-groups',\n",
        "                                            'anti-satellite-ban',\n",
        "                                            'aid-to-contras','mx-missile',\n",
        "                                            'immigration','synfuels',\n",
        "                                            'education','right-to-sue','crime',\n",
        "                                            'duty-free','south-africa'])\n",
        "print(df.shape), df.head()"
      ],
      "execution_count": 2,
      "outputs": [
        {
          "output_type": "stream",
          "text": [
            "(435, 17)\n"
          ],
          "name": "stdout"
        },
        {
          "output_type": "execute_result",
          "data": {
            "text/plain": [
              "(None,\n",
              "         party handicapped-infants water-project  ... crime duty-free south-africa\n",
              " 0  republican                   n             y  ...     y         n            y\n",
              " 1  republican                   n             y  ...     y         n            ?\n",
              " 2    democrat                   ?             y  ...     y         n            n\n",
              " 3    democrat                   n             y  ...     n         n            y\n",
              " 4    democrat                   y             y  ...     y         y            y\n",
              " \n",
              " [5 rows x 17 columns])"
            ]
          },
          "metadata": {
            "tags": []
          },
          "execution_count": 2
        }
      ]
    },
    {
      "cell_type": "code",
      "metadata": {
        "id": "S70BE7Fsw_n2",
        "colab_type": "code",
        "outputId": "7e32f8a9-7c15-4a6d-f16d-1d47ef6a4fab",
        "colab": {
          "base_uri": "https://localhost:8080/",
          "height": 34
        }
      },
      "source": [
        "# Work with 0 in place of NaN values\n",
        "df = df.replace({'y':1, 'n':0,'?':0})\n",
        "\n",
        "df.head()\n",
        "df.shape"
      ],
      "execution_count": 3,
      "outputs": [
        {
          "output_type": "execute_result",
          "data": {
            "text/plain": [
              "(435, 17)"
            ]
          },
          "metadata": {
            "tags": []
          },
          "execution_count": 3
        }
      ]
    },
    {
      "cell_type": "code",
      "metadata": {
        "id": "dTr4hGZiw_tl",
        "colab_type": "code",
        "colab": {}
      },
      "source": [
        "# Break out the republicans and democrats into dataframes\n",
        "# Essentially working with 3 dataframes\n",
        "# Entire House, Just Dems and Just Reps\n",
        "house = df\n",
        "rep = df[df['party'] =='republican']\n",
        "dem = df[df['party'] =='democrat']"
      ],
      "execution_count": 0,
      "outputs": []
    },
    {
      "cell_type": "code",
      "metadata": {
        "id": "LhSWbl7bxA8B",
        "colab_type": "code",
        "outputId": "18118e8e-7e52-4cd4-9d01-2fbdf17e847f",
        "colab": {
          "base_uri": "https://localhost:8080/",
          "height": 530
        }
      },
      "source": [
        "print(house.head())\n",
        "print(dem.head())\n",
        "rep.head()\n"
      ],
      "execution_count": 5,
      "outputs": [
        {
          "output_type": "stream",
          "text": [
            "        party  handicapped-infants  ...  duty-free  south-africa\n",
            "0  republican                    0  ...          0             1\n",
            "1  republican                    0  ...          0             0\n",
            "2    democrat                    0  ...          0             0\n",
            "3    democrat                    0  ...          0             1\n",
            "4    democrat                    1  ...          1             1\n",
            "\n",
            "[5 rows x 17 columns]\n",
            "      party  handicapped-infants  water-project  ...  crime  duty-free  south-africa\n",
            "2  democrat                    0              1  ...      1          0             0\n",
            "3  democrat                    0              1  ...      0          0             1\n",
            "4  democrat                    1              1  ...      1          1             1\n",
            "5  democrat                    0              1  ...      1          1             1\n",
            "6  democrat                    0              1  ...      1          1             1\n",
            "\n",
            "[5 rows x 17 columns]\n"
          ],
          "name": "stdout"
        },
        {
          "output_type": "execute_result",
          "data": {
            "text/html": [
              "<div>\n",
              "<style scoped>\n",
              "    .dataframe tbody tr th:only-of-type {\n",
              "        vertical-align: middle;\n",
              "    }\n",
              "\n",
              "    .dataframe tbody tr th {\n",
              "        vertical-align: top;\n",
              "    }\n",
              "\n",
              "    .dataframe thead th {\n",
              "        text-align: right;\n",
              "    }\n",
              "</style>\n",
              "<table border=\"1\" class=\"dataframe\">\n",
              "  <thead>\n",
              "    <tr style=\"text-align: right;\">\n",
              "      <th></th>\n",
              "      <th>party</th>\n",
              "      <th>handicapped-infants</th>\n",
              "      <th>water-project</th>\n",
              "      <th>budget</th>\n",
              "      <th>physician-fee-freeze</th>\n",
              "      <th>el-salvador-aid</th>\n",
              "      <th>religious-groups</th>\n",
              "      <th>anti-satellite-ban</th>\n",
              "      <th>aid-to-contras</th>\n",
              "      <th>mx-missile</th>\n",
              "      <th>immigration</th>\n",
              "      <th>synfuels</th>\n",
              "      <th>education</th>\n",
              "      <th>right-to-sue</th>\n",
              "      <th>crime</th>\n",
              "      <th>duty-free</th>\n",
              "      <th>south-africa</th>\n",
              "    </tr>\n",
              "  </thead>\n",
              "  <tbody>\n",
              "    <tr>\n",
              "      <th>0</th>\n",
              "      <td>republican</td>\n",
              "      <td>0</td>\n",
              "      <td>1</td>\n",
              "      <td>0</td>\n",
              "      <td>1</td>\n",
              "      <td>1</td>\n",
              "      <td>1</td>\n",
              "      <td>0</td>\n",
              "      <td>0</td>\n",
              "      <td>0</td>\n",
              "      <td>1</td>\n",
              "      <td>0</td>\n",
              "      <td>1</td>\n",
              "      <td>1</td>\n",
              "      <td>1</td>\n",
              "      <td>0</td>\n",
              "      <td>1</td>\n",
              "    </tr>\n",
              "    <tr>\n",
              "      <th>1</th>\n",
              "      <td>republican</td>\n",
              "      <td>0</td>\n",
              "      <td>1</td>\n",
              "      <td>0</td>\n",
              "      <td>1</td>\n",
              "      <td>1</td>\n",
              "      <td>1</td>\n",
              "      <td>0</td>\n",
              "      <td>0</td>\n",
              "      <td>0</td>\n",
              "      <td>0</td>\n",
              "      <td>0</td>\n",
              "      <td>1</td>\n",
              "      <td>1</td>\n",
              "      <td>1</td>\n",
              "      <td>0</td>\n",
              "      <td>0</td>\n",
              "    </tr>\n",
              "    <tr>\n",
              "      <th>7</th>\n",
              "      <td>republican</td>\n",
              "      <td>0</td>\n",
              "      <td>1</td>\n",
              "      <td>0</td>\n",
              "      <td>1</td>\n",
              "      <td>1</td>\n",
              "      <td>1</td>\n",
              "      <td>0</td>\n",
              "      <td>0</td>\n",
              "      <td>0</td>\n",
              "      <td>0</td>\n",
              "      <td>0</td>\n",
              "      <td>0</td>\n",
              "      <td>1</td>\n",
              "      <td>1</td>\n",
              "      <td>0</td>\n",
              "      <td>1</td>\n",
              "    </tr>\n",
              "    <tr>\n",
              "      <th>8</th>\n",
              "      <td>republican</td>\n",
              "      <td>0</td>\n",
              "      <td>1</td>\n",
              "      <td>0</td>\n",
              "      <td>1</td>\n",
              "      <td>1</td>\n",
              "      <td>1</td>\n",
              "      <td>0</td>\n",
              "      <td>0</td>\n",
              "      <td>0</td>\n",
              "      <td>0</td>\n",
              "      <td>0</td>\n",
              "      <td>1</td>\n",
              "      <td>1</td>\n",
              "      <td>1</td>\n",
              "      <td>0</td>\n",
              "      <td>1</td>\n",
              "    </tr>\n",
              "    <tr>\n",
              "      <th>10</th>\n",
              "      <td>republican</td>\n",
              "      <td>0</td>\n",
              "      <td>1</td>\n",
              "      <td>0</td>\n",
              "      <td>1</td>\n",
              "      <td>1</td>\n",
              "      <td>0</td>\n",
              "      <td>0</td>\n",
              "      <td>0</td>\n",
              "      <td>0</td>\n",
              "      <td>0</td>\n",
              "      <td>0</td>\n",
              "      <td>0</td>\n",
              "      <td>1</td>\n",
              "      <td>1</td>\n",
              "      <td>0</td>\n",
              "      <td>0</td>\n",
              "    </tr>\n",
              "  </tbody>\n",
              "</table>\n",
              "</div>"
            ],
            "text/plain": [
              "         party  handicapped-infants  ...  duty-free  south-africa\n",
              "0   republican                    0  ...          0             1\n",
              "1   republican                    0  ...          0             0\n",
              "7   republican                    0  ...          0             1\n",
              "8   republican                    0  ...          0             1\n",
              "10  republican                    0  ...          0             0\n",
              "\n",
              "[5 rows x 17 columns]"
            ]
          },
          "metadata": {
            "tags": []
          },
          "execution_count": 5
        }
      ]
    },
    {
      "cell_type": "markdown",
      "metadata": {
        "id": "UXgH0zofc_nO",
        "colab_type": "text"
      },
      "source": [
        "# GLOSSARY\n",
        "\n",
        "panda as pd\\\n",
        "numpy as np\\\n",
        "scipy stats as st\\\n",
        "matplotlib.pyplot as plt\\\n",
        "\n",
        "df = dataframe\\\n",
        "house = dataframe of entire house of representatives\\\n",
        "dem = members of the house that are democrat\\\n",
        "rep = members of the house that are republican\n",
        "ci = confidence interval\n",
        "c = confidence\n",
        "m = mean\n",
        "n = number of observations\n",
        "se = standard error\n",
        "\n",
        "\n"
      ]
    },
    {
      "cell_type": "markdown",
      "metadata": {
        "id": "DOn7ndCUd8eU",
        "colab_type": "text"
      },
      "source": [
        "# Generate and numerically represent a confidence interval"
      ]
    },
    {
      "cell_type": "code",
      "metadata": {
        "id": "s3Op5ApacZHP",
        "colab_type": "code",
        "colab": {}
      },
      "source": [
        "# Define function to calculate confidence interval\n",
        "# GLOSSARY: ci = confidence interval, c = confidence\n",
        "# m = mean, n = number of obersavtions\n",
        "# se = standard error\n",
        "# intvl = interval\n",
        "\n",
        "def ci(df, c=0.95):\n",
        "    df = np.array(df)\n",
        "    m = np.nanmean(df)\n",
        "    n = len(df)\n",
        "    s = df.std(ddof=1)\n",
        "    se = st.sem(df, nan_policy='omit')\n",
        "    t = st.t.ppf ((1 + c)/2, n-1)\n",
        "    moe = t*se\n",
        "    intvl = se * st.t.ppf((1+c)/2.0,n-1)\n",
        "    return (m-intvl, m, m+intvl)\n"
      ],
      "execution_count": 0,
      "outputs": []
    },
    {
      "cell_type": "code",
      "metadata": {
        "id": "n7omy7eqcZNZ",
        "colab_type": "code",
        "outputId": "4090f3b1-2218-4c56-ced3-1e28778f569f",
        "colab": {
          "base_uri": "https://localhost:8080/",
          "height": 34
        }
      },
      "source": [
        "df = house\n",
        "bill = 'budget'\n",
        "ci(df[bill])"
      ],
      "execution_count": 7,
      "outputs": [
        {
          "output_type": "execute_result",
          "data": {
            "text/plain": [
              "(0.5350695851280178, 0.5816091954022988, 0.6281488056765798)"
            ]
          },
          "metadata": {
            "tags": []
          },
          "execution_count": 7
        }
      ]
    },
    {
      "cell_type": "code",
      "metadata": {
        "id": "wI0PzAFDcZS7",
        "colab_type": "code",
        "outputId": "5822008e-afaa-4f50-fd3e-accc992c2520",
        "colab": {
          "base_uri": "https://localhost:8080/",
          "height": 496
        }
      },
      "source": [
        "# For loop to run through tables\n",
        "\n",
        "t = [['House', house],['Dems', dem], ['Reps', rep]]\n",
        "for x in t:\n",
        "    print(x[0])\n",
        "    print(x[1].head())"
      ],
      "execution_count": 8,
      "outputs": [
        {
          "output_type": "stream",
          "text": [
            "House\n",
            "        party  handicapped-infants  ...  duty-free  south-africa\n",
            "0  republican                    0  ...          0             1\n",
            "1  republican                    0  ...          0             0\n",
            "2    democrat                    0  ...          0             0\n",
            "3    democrat                    0  ...          0             1\n",
            "4    democrat                    1  ...          1             1\n",
            "\n",
            "[5 rows x 17 columns]\n",
            "Dems\n",
            "      party  handicapped-infants  water-project  ...  crime  duty-free  south-africa\n",
            "2  democrat                    0              1  ...      1          0             0\n",
            "3  democrat                    0              1  ...      0          0             1\n",
            "4  democrat                    1              1  ...      1          1             1\n",
            "5  democrat                    0              1  ...      1          1             1\n",
            "6  democrat                    0              1  ...      1          1             1\n",
            "\n",
            "[5 rows x 17 columns]\n",
            "Reps\n",
            "         party  handicapped-infants  ...  duty-free  south-africa\n",
            "0   republican                    0  ...          0             1\n",
            "1   republican                    0  ...          0             0\n",
            "7   republican                    0  ...          0             1\n",
            "8   republican                    0  ...          0             1\n",
            "10  republican                    0  ...          0             0\n",
            "\n",
            "[5 rows x 17 columns]\n"
          ],
          "name": "stdout"
        }
      ]
    },
    {
      "cell_type": "code",
      "metadata": {
        "id": "sjHIAwXycZWF",
        "colab_type": "code",
        "colab": {}
      },
      "source": [
        "# Display the confidence intervals for all three dataframes\n",
        "# Define as a function\n",
        "\n",
        "def prt_ci(bill):\n",
        "    print(\"Confidence Intervals:\")\n",
        "    for x in t:\n",
        "        df=x[1]\n",
        "        \n",
        "        print()\n",
        "        print(x[0], ci(df[bill]))\n",
        "        print(\"Votes \",df[bill].sum(), \"mean = \", df[bill].mean())\n",
        "        print()"
      ],
      "execution_count": 0,
      "outputs": []
    },
    {
      "cell_type": "code",
      "metadata": {
        "id": "YQ-EBIBTWFuT",
        "colab_type": "code",
        "outputId": "c89f55c8-8fdb-4a75-9b49-5051c3712b6a",
        "colab": {
          "base_uri": "https://localhost:8080/",
          "height": 238
        }
      },
      "source": [
        "prt_ci(bill)"
      ],
      "execution_count": 10,
      "outputs": [
        {
          "output_type": "stream",
          "text": [
            "Confidence Intervals:\n",
            "\n",
            "House (0.5350695851280178, 0.5816091954022988, 0.6281488056765798)\n",
            "Votes  253 mean =  0.5816091954022988\n",
            "\n",
            "\n",
            "Dems (0.8239366017405851, 0.8651685393258427, 0.9064004769111003)\n",
            "Votes  231 mean =  0.8651685393258427\n",
            "\n",
            "\n",
            "Reps (0.07941444662385228, 0.13095238095238096, 0.18249031528090964)\n",
            "Votes  22 mean =  0.13095238095238096\n",
            "\n"
          ],
          "name": "stdout"
        }
      ]
    },
    {
      "cell_type": "markdown",
      "metadata": {
        "id": "0cwS0HmIDZo7",
        "colab_type": "text"
      },
      "source": [
        "## Graphically (with a plot) represent the confidence interval"
      ]
    },
    {
      "cell_type": "code",
      "metadata": {
        "id": "q1Wn1Lt9cZbz",
        "colab_type": "code",
        "colab": {}
      },
      "source": [
        "bill = 'budget'\n",
        "\n",
        "# Define function to plot graphs \n",
        "\n",
        "def ci_graph(bill):\n",
        "\n",
        "    txt = \"Considering the House bill on \" + str(bill)\n",
        "    txt = txt.center(55)\n",
        "    \n",
        "    print()\n",
        "    \n",
        "    \n",
        "    for x in t:\n",
        "        \n",
        "        txt = x[0]\n",
        "        df = x[1]\n",
        "\n",
        "        txt = \"Total \" + txt  + \" vote was \" + str(df[bill].sum())\n",
        "        txt = txt.center(55)\n",
        "        print(txt)\n",
        "        print()\n",
        "        a = df[bill].to_numpy()\n",
        "\n",
        "        low, m, high = ci(df[bill])\n",
        "        df[bill].plot.density()\n",
        "\n",
        "        class color:\n",
        "            PURPLE = '\\033[95m'\n",
        "            CYAN = '\\033[96m'\n",
        "            DARKCYAN = '\\033[36m'\n",
        "            BLUE = '\\033[94m'\n",
        "            GREEN = '\\033[92m'\n",
        "            YELLOW = '\\033[93m'\n",
        "            RED = '\\033[91m'\n",
        "            BOLD = '\\033[1m'\n",
        "            UNDERLINE = '\\033[4m'\n",
        "            END = '\\033[0m'\n",
        "\n",
        "        low, m, high = ci(house[bill])\n",
        "        plt.axvline(x=low, color='red')\n",
        "        plt.axvline(x=m, color='green')\n",
        "        plt.axvline(x=high, color='red')        \n",
        "        plt.show()\n"
      ],
      "execution_count": 0,
      "outputs": []
    },
    {
      "cell_type": "markdown",
      "metadata": {
        "id": "YQzOmjUTOa3X",
        "colab_type": "text"
      },
      "source": [
        "LIST OF BILLS:\\\n",
        "'water-project', 'budget', 'physician-fee-freeze', 'el-salvador-aid', \n",
        "'religious-groups', 'anti-satellite-ban', 'aid-to-contras', 'mx-missile', 'immigration', 'synfuels', 'education', 'right-to-sue',  'crime', 'duty-free', 'south-africa'"
      ]
    },
    {
      "cell_type": "code",
      "metadata": {
        "id": "QSxqp6l1cZej",
        "colab_type": "code",
        "outputId": "6e551710-669b-454b-e59f-7d30ec69b438",
        "colab": {
          "base_uri": "https://localhost:8080/",
          "height": 880
        }
      },
      "source": [
        "# Looking first at the budget bill -- Dems supported more than Reps\n",
        "\n",
        "bill = 'budget'\n",
        "ci_graph(bill)"
      ],
      "execution_count": 12,
      "outputs": [
        {
          "output_type": "stream",
          "text": [
            "\n",
            "                Total House vote was 253               \n",
            "\n"
          ],
          "name": "stdout"
        },
        {
          "output_type": "display_data",
          "data": {
            "image/png": "[encoded data removed]",
            "text/plain": [
              "<Figure size 432x288 with 1 Axes>"
            ]
          },
          "metadata": {
            "tags": []
          }
        },
        {
          "output_type": "stream",
          "text": [
            "                Total Dems vote was 231                \n",
            "\n"
          ],
          "name": "stdout"
        },
        {
          "output_type": "display_data",
          "data": {
            "image/png": "[encoded data removed]",
            "text/plain": [
              "<Figure size 432x288 with 1 Axes>"
            ]
          },
          "metadata": {
            "tags": []
          }
        },
        {
          "output_type": "stream",
          "text": [
            "                 Total Reps vote was 22                \n",
            "\n"
          ],
          "name": "stdout"
        },
        {
          "output_type": "display_data",
          "data": {
            "image/png": "[encoded data removed]",
            "text/plain": [
              "<Figure size 432x288 with 1 Axes>"
            ]
          },
          "metadata": {
            "tags": []
          }
        }
      ]
    },
    {
      "cell_type": "code",
      "metadata": {
        "id": "ztDRI2oNcZhj",
        "colab_type": "code",
        "outputId": "d0d4d0c5-ba2c-4514-ce50-897449bb095f",
        "colab": {
          "base_uri": "https://localhost:8080/",
          "height": 880
        }
      },
      "source": [
        "# Looking first at the budget bill -- Dems supported more than Reps\n",
        "\n",
        "bill = 'physician-fee-freeze'\n",
        "ci_graph(bill)"
      ],
      "execution_count": 13,
      "outputs": [
        {
          "output_type": "stream",
          "text": [
            "\n",
            "                Total House vote was 177               \n",
            "\n"
          ],
          "name": "stdout"
        },
        {
          "output_type": "display_data",
          "data": {
            "image/png": "[encoded data removed]",
            "text/plain": [
              "<Figure size 432x288 with 1 Axes>"
            ]
          },
          "metadata": {
            "tags": []
          }
        },
        {
          "output_type": "stream",
          "text": [
            "                 Total Dems vote was 14                \n",
            "\n"
          ],
          "name": "stdout"
        },
        {
          "output_type": "display_data",
          "data": {
            "image/png": "[encoded data removed]",
            "text/plain": [
              "<Figure size 432x288 with 1 Axes>"
            ]
          },
          "metadata": {
            "tags": []
          }
        },
        {
          "output_type": "stream",
          "text": [
            "                Total Reps vote was 163                \n",
            "\n"
          ],
          "name": "stdout"
        },
        {
          "output_type": "display_data",
          "data": {
            "image/png": "[encoded data removed]",
            "text/plain": [
              "<Figure size 432x288 with 1 Axes>"
            ]
          },
          "metadata": {
            "tags": []
          }
        }
      ]
    },
    {
      "cell_type": "code",
      "metadata": {
        "id": "Rq_DfzZFcZZP",
        "colab_type": "code",
        "colab": {}
      },
      "source": [
        ""
      ],
      "execution_count": 0,
      "outputs": []
    },
    {
      "cell_type": "markdown",
      "metadata": {
        "id": "h8kXGYdymuqB",
        "colab_type": "text"
      },
      "source": [
        "## Chi-squared tests:\n",
        "Take a dataset that we have used in the past in class that has categorical variables. Pick two of those categorical variables and run a chi-squared tests on that data\n",
        "By hand using Numpy\n",
        "In a single line using Scipy"
      ]
    },
    {
      "cell_type": "code",
      "metadata": {
        "id": "ggyQYmrJm8Ho",
        "colab_type": "code",
        "colab": {
          "base_uri": "https://localhost:8080/",
          "height": 102
        },
        "outputId": "6cce383d-9939-4ab9-f6d2-3815911602b1"
      },
      "source": [
        "# Establish observed (obs) frequencies using crosstab\n",
        "df = house\n",
        "bill = 'education'\n",
        "obs = pd.crosstab(df['party'], df[bill], margins=True)\n",
        "\n",
        "print(obs)"
      ],
      "execution_count": 26,
      "outputs": [
        {
          "output_type": "stream",
          "text": [
            "education     0    1  All\n",
            "party                    \n",
            "democrat    231   36  267\n",
            "republican   33  135  168\n",
            "All         264  171  435\n"
          ],
          "name": "stdout"
        }
      ]
    },
    {
      "cell_type": "code",
      "metadata": {
        "id": "zwJ6xbhXib4U",
        "colab_type": "code",
        "outputId": "2f1de315-ffcc-42ee-c759-d6aba26033c7",
        "colab": {
          "base_uri": "https://localhost:8080/",
          "height": 51
        }
      },
      "source": [
        "# ZACK\n",
        "observed = pd.crosstab(df['party'], df['education'])\n",
        "\n",
        "observed = observed.values\n",
        "\n",
        "observed"
      ],
      "execution_count": 17,
      "outputs": [
        {
          "output_type": "execute_result",
          "data": {
            "text/plain": [
              "array([[231,  36],\n",
              "       [ 33, 135]])"
            ]
          },
          "metadata": {
            "tags": []
          },
          "execution_count": 17
        }
      ]
    },
    {
      "cell_type": "code",
      "metadata": {
        "id": "UHpJupzOm8Pw",
        "colab_type": "code",
        "colab": {
          "base_uri": "https://localhost:8080/",
          "height": 68
        },
        "outputId": "dc6ca993-5025-4b00-a623-3480d42c97a1"
      },
      "source": [
        "# Get variables to compute chi square\n",
        "\n",
        "# obs = np.np.array(obs)\n",
        "obs\n",
        "dem_n = obs[0,0]\n",
        "dem_y = obs[0,1]\n",
        "dem_t = obs[0,2]\n",
        "rep_n = obs[1,0]\n",
        "rep_y = obs[1,1]\n",
        "rep_t = obs[1,2]\n",
        "all_n = obs[2,0]\n",
        "all_y = obs[2,1]\n",
        "all_t = obs[2,2]\n",
        "\n",
        "print(dem_n, dem_y, dem_t)\n",
        "print(rep_n, rep_y, rep_t)\n",
        "print(all_n, all_y, all_t)"
      ],
      "execution_count": 46,
      "outputs": [
        {
          "output_type": "stream",
          "text": [
            "231 36 267\n",
            "33 135 168\n",
            "264 171 435\n"
          ],
          "name": "stdout"
        }
      ]
    },
    {
      "cell_type": "code",
      "metadata": {
        "id": "AOYmAVAum8Tx",
        "colab_type": "code",
        "colab": {
          "base_uri": "https://localhost:8080/",
          "height": 51
        },
        "outputId": "3be9e29a-2a48-4d52-feb0-f1845eb6ed85"
      },
      "source": [
        "# Compute expected variables\n",
        "\n",
        "dem_n_e = (dem_t * all_n)/all_t\n",
        "dem_y_e = (dem_t * all_y)/all_t\n",
        "rep_n_e = (rep_t * all_n)/all_t\n",
        "rep_y_e = (rep_t * all_y)/all_t\n",
        "print(dem_n_e, dem_y_e)\n",
        "print(rep_n_e, rep_y_e)\n"
      ],
      "execution_count": 53,
      "outputs": [
        {
          "output_type": "stream",
          "text": [
            "162.04137931034484 104.95862068965518\n",
            "101.95862068965518 66.04137931034482\n"
          ],
          "name": "stdout"
        }
      ]
    },
    {
      "cell_type": "code",
      "metadata": {
        "id": "trKnRsvLm8aU",
        "colab_type": "code",
        "colab": {
          "base_uri": "https://localhost:8080/",
          "height": 34
        },
        "outputId": "afd013cf-9b37-4073-85d8-1c64adab87ac"
      },
      "source": [
        "chi_sq = (((dem_n - dem_n_e)**2)/dem_n_e) + (((dem_y - dem_y_e)**2)/dem_y_e) +\\\n",
        "         (((rep_n - rep_n_e)**2)/rep_n_e) + (((rep_y - rep_y_e)**2)/rep_y_e)\n",
        "\n",
        "print(chi_sq)"
      ],
      "execution_count": 70,
      "outputs": [
        {
          "output_type": "stream",
          "text": [
            "193.29664795767508\n"
          ],
          "name": "stdout"
        }
      ]
    },
    {
      "cell_type": "markdown",
      "metadata": {
        "id": "ddSsbkiQYVfZ",
        "colab_type": "text"
      },
      "source": [
        ""
      ]
    },
    {
      "cell_type": "code",
      "metadata": {
        "id": "tEryrPVtm8f8",
        "colab_type": "code",
        "colab": {
          "base_uri": "https://localhost:8080/",
          "height": 119
        },
        "outputId": "559ae437-e2fd-4f20-a3ef-ea7b27977be5"
      },
      "source": [
        "#chi squared using scipy \n",
        "\n",
        "st.chi2_contingency(obs)"
      ],
      "execution_count": 59,
      "outputs": [
        {
          "output_type": "execute_result",
          "data": {
            "text/plain": [
              "(193.29664795767508,\n",
              " 1.0371247640978589e-40,\n",
              " 4,\n",
              " array([[162.04137931, 104.95862069, 267.        ],\n",
              "        [101.95862069,  66.04137931, 168.        ],\n",
              "        [264.        , 171.        , 435.        ]]))"
            ]
          },
          "metadata": {
            "tags": []
          },
          "execution_count": 59
        }
      ]
    },
    {
      "cell_type": "code",
      "metadata": {
        "id": "cg0oeQwJm8pr",
        "colab_type": "code",
        "colab": {}
      },
      "source": [
        ""
      ],
      "execution_count": 0,
      "outputs": []
    },
    {
      "cell_type": "markdown",
      "metadata": {
        "id": "4ohsJhQUmEuS",
        "colab_type": "text"
      },
      "source": [
        "## Stretch goals:\n",
        "\n",
        "1. Write a summary of your findings, mixing prose and math/code/results. *Note* - yes, this is by definition a political topic. It is challenging but important to keep your writing voice *neutral* and stick to the facts of the data. Data science often involves considering controversial issues, so it's important to be sensitive about them (especially if you want to publish).\n",
        "2. Apply the techniques you learned today to your project data or other data of your choice, and write/discuss your findings here.\n",
        "3. Refactor your code so it is elegant, readable, and can be easily run for all issues."
      ]
    },
    {
      "cell_type": "markdown",
      "metadata": {
        "id": "nyJ3ySr7R2k9",
        "colab_type": "text"
      },
      "source": [
        "## Resources\n",
        "\n",
        "- [Interactive visualize the Chi-Squared test](https://homepage.divms.uiowa.edu/~mbognar/applets/chisq.html)\n",
        "- [Calculation of Chi-Squared test statistic](https://en.wikipedia.org/wiki/Pearson%27s_chi-squared_test)\n",
        "- [Visualization of a confidence interval generated by R code](https://commons.wikimedia.org/wiki/File:Confidence-interval.svg)\n",
        "- [Expected value of a squared standard normal](https://math.stackexchange.com/questions/264061/expected-value-calculation-for-squared-normal-distribution) (it's 1 - which is why the expected value of a Chi-Squared with $n$ degrees of freedom is $n$, as it's the sum of $n$ squared standard normals)"
      ]
    }
  ]
}