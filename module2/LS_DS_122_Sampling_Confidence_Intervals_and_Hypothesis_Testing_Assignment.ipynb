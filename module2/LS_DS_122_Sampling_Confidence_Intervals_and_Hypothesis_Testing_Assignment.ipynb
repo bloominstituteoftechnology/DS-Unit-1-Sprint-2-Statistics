{
  "nbformat": 4,
  "nbformat_minor": 0,
  "metadata": {
    "colab": {
      "name": "Copy of LS_DS_122_Sampling_Confidence_Intervals_and_Hypothesis_Testing_Assignment.ipynb",
      "provenance": [],
      "collapsed_sections": [],
      "include_colab_link": true
    },
    "kernelspec": {
      "name": "python3",
      "display_name": "Python 3"
    }
  },
  "cells": [
    {
      "cell_type": "markdown",
      "metadata": {
        "id": "view-in-github",
        "colab_type": "text"
      },
      "source": [
        "<a href=\"https://colab.research.google.com/github/danielbrioli/DS-Unit-1-Sprint-2-Statistics/blob/master/module2/LS_DS_122_Sampling_Confidence_Intervals_and_Hypothesis_Testing_Assignment.ipynb\" target=\"_parent\"><img src=\"https://colab.research.google.com/assets/colab-badge.svg\" alt=\"Open In Colab\"/></a>"
      ]
    },
    {
      "cell_type": "markdown",
      "metadata": {
        "id": "11OzdxWTM7UR",
        "colab_type": "text"
      },
      "source": [
        "## Assignment - Build a confidence interval\n",
        "\n",
        "A confidence interval refers to a neighborhood around some point estimate, the size of which is determined by the desired p-value. For instance, we might say that 52% of Americans prefer tacos to burritos, with a 95% confidence interval of +/- 5%.\n",
        "\n",
        "52% (0.52) is the point estimate, and +/- 5% (the interval $[0.47, 0.57]$) is the confidence interval. \"95% confidence\" means a p-value $\\leq 1 - 0.95 = 0.05$.\n",
        "\n",
        "In this case, the confidence interval includes $0.5$ - which is the natural null hypothesis (that half of Americans prefer tacos and half burritos, thus there is no clear favorite). So in this case, we could use the confidence interval to report that we've failed to reject the null hypothesis.\n",
        "\n",
        "But providing the full analysis with a confidence interval, including a graphical representation of it, can be a helpful and powerful way to tell your story. Done well, it is also more intuitive to a layperson than simply saying \"fail to reject the null hypothesis\" - it shows that in fact the data does *not* give a single clear result (the point estimate) but a whole range of possibilities.\n",
        "\n",
        "How is a confidence interval built, and how should it be interpreted? It does *not* mean that 95% of the data lies in that interval - instead, the frequentist interpretation is \"if we were to repeat this experiment 100 times, we would expect the average result to lie in this interval ~95 times.\"\n",
        "\n",
        "For a 95% confidence interval and a normal(-ish) distribution, you can simply remember that +/-2 standard deviations contains 95% of the probability mass, and so the 95% confidence interval based on a given sample is centered at the mean (point estimate) and has a range of +/- 2 (or technically 1.96) standard deviations.\n",
        "\n",
        "Different distributions/assumptions (90% confidence, 99% confidence) will require different math, but the overall process and interpretation (with a frequentist approach) will be the same.\n",
        "\n",
        "Your assignment - using the data from the prior module ([congressional voting records](https://archive.ics.uci.edu/ml/datasets/Congressional+Voting+Records)):\n",
        "\n",
        "\n",
        "### Confidence Intervals:\n",
        "1. Generate and numerically represent a confidence interval\n",
        "2. Graphically (with a plot) represent the confidence interval\n",
        "3. Interpret the confidence interval - what does it tell you about the data and its distribution?\n",
        "\n",
        "### Chi-squared tests:\n",
        "4. Take a dataset that we have used in the past in class that has **categorical** variables. Pick two of those categorical variables and run a chi-squared tests on that data\n",
        "  - By hand using Numpy\n",
        "  - In a single line using Scipy\n"
      ]
    },
    {
      "cell_type": "code",
      "metadata": {
        "id": "eFWtSb1xCfDn",
        "colab_type": "code",
        "colab": {}
      },
      "source": [
        "import numpy as np\n",
        "import pandas as pd\n",
        "import seaborn as sns\n",
        "import matplotlib.pyplot as plt\n",
        "from scipy import stats"
      ],
      "execution_count": 0,
      "outputs": []
    },
    {
      "cell_type": "code",
      "metadata": {
        "id": "Ckcr4A4FM7cs",
        "colab_type": "code",
        "outputId": "fec658de-b99a-4153-b9cb-ceb7afcbe9eb",
        "colab": {
          "base_uri": "https://localhost:8080/",
          "height": 51
        }
      },
      "source": [
        "# Generate and numerically represent a confidence interval\n",
        "\n",
        "coins = np.random.binomial(n=1, p=.5, size=50)\n",
        "print(coins)"
      ],
      "execution_count": 0,
      "outputs": [
        {
          "output_type": "stream",
          "text": [
            "[0 1 1 1 0 1 1 0 0 0 0 1 1 0 1 0 1 1 0 1 0 0 0 1 1 1 0 0 0 1 0 0 0 0 1 1 1\n",
            " 1 0 0 0 0 1 0 1 1 0 0 1 1]\n"
          ],
          "name": "stdout"
        }
      ]
    },
    {
      "cell_type": "code",
      "metadata": {
        "id": "4iBGvgXgEnO2",
        "colab_type": "code",
        "outputId": "f738680c-563f-4940-c598-f3a89605bf2d",
        "colab": {
          "base_uri": "https://localhost:8080/",
          "height": 34
        }
      },
      "source": [
        "def mean_moe(num_set, conf=0.95):\n",
        "  num_set = np.array(num_set)\n",
        "  mean = np.mean(num_set)\n",
        "  num_len = len(num_set)\n",
        "  stderr = np.std(num_set, ddof=1) / np.sqrt(num_len)\n",
        "  t_stat = stats.t.ppf((1 + conf) / 2.0, num_len - 1)\n",
        "  margin_of_error = t_stat * stderr\n",
        "  return mean, margin_of_error\n",
        "\n",
        "print(mean_moe(coins))"
      ],
      "execution_count": 0,
      "outputs": [
        {
          "output_type": "stream",
          "text": [
            "(0.48, 0.1434262093373269)\n"
          ],
          "name": "stdout"
        }
      ]
    },
    {
      "cell_type": "code",
      "metadata": {
        "id": "AaQ7CeoBEoGK",
        "colab_type": "code",
        "outputId": "7375ddcf-7e68-40ab-d850-cfcda6bd0c83",
        "colab": {
          "base_uri": "https://localhost:8080/",
          "height": 68
        }
      },
      "source": [
        "def confidence_interval(num_set, conf=0.95):\n",
        "  sample = np.array(num_set)\n",
        "  mean, moe = mean_moe(num_set, conf)\n",
        "  return mean - moe, mean, mean + moe\n",
        "\n",
        "print(\"  LB: \" + str(confidence_interval(coins)[0]))\n",
        "print(\"MEAN: \" + str(confidence_interval(coins)[1]))\n",
        "print(\"  UB: \" + str(confidence_interval(coins)[2]))"
      ],
      "execution_count": 0,
      "outputs": [
        {
          "output_type": "stream",
          "text": [
            "  LB: 0.3365737906626731\n",
            "MEAN: 0.48\n",
            "  UB: 0.6234262093373268\n"
          ],
          "name": "stdout"
        }
      ]
    },
    {
      "cell_type": "code",
      "metadata": {
        "id": "z4L8ZC-DB__j",
        "colab_type": "code",
        "outputId": "1d94d126-6d77-46a3-e978-2885a7780ddc",
        "colab": {
          "base_uri": "https://localhost:8080/",
          "height": 221
        }
      },
      "source": [
        "# Graphically (with a plot) represent the confidence interval\n",
        "\n",
        "coins_df = pd.DataFrame({'coins': coins})\n",
        "\n",
        "print(coins_df.head())\n",
        "print(coins_df.tail())"
      ],
      "execution_count": 0,
      "outputs": [
        {
          "output_type": "stream",
          "text": [
            "   coins\n",
            "0      0\n",
            "1      1\n",
            "2      1\n",
            "3      1\n",
            "4      0\n",
            "    coins\n",
            "45      1\n",
            "46      0\n",
            "47      0\n",
            "48      1\n",
            "49      1\n"
          ],
          "name": "stdout"
        }
      ]
    },
    {
      "cell_type": "code",
      "metadata": {
        "id": "UEjUF8MQHdpZ",
        "colab_type": "code",
        "outputId": "d6f203a2-c76d-4aae-ed00-5e03d9e5c3b1",
        "colab": {
          "base_uri": "https://localhost:8080/",
          "height": 281
        }
      },
      "source": [
        "ci_data = confidence_interval(coins)\n",
        "\n",
        "coins_df.plot.density()\n",
        "plt.title(\"Confidence Interval and Distribution of Coins\")\n",
        "plt.axvline(x=ci_data[0], color='red')\n",
        "plt.axvline(x=ci_data[1], color='green')\n",
        "plt.axvline(x=ci_data[2], color='red');\n",
        "plt.show()"
      ],
      "execution_count": 0,
      "outputs": [
        {
          "output_type": "display_data",
          "data": {
            "image/png": "[encoded data removed]",
            "text/plain": [
              "<Figure size 432x288 with 1 Axes>"
            ]
          },
          "metadata": {
            "tags": []
          }
        }
      ]
    },
    {
      "cell_type": "code",
      "metadata": {
        "id": "CQEinbZ2CFPY",
        "colab_type": "code",
        "colab": {}
      },
      "source": [
        "# Interpret the confidence interval - what does it tell you about the data and\n",
        "# its distribution?\n",
        "\n",
        "# This confidence interval as plotted tells me that of the set of coin flips\n",
        "# generated at the start of this notebook:\n",
        "#\n",
        "# The mean hovers around .5 (depends on the RNG)\n",
        "#\n",
        "# If the assumption about the population of all coin flips is that the mean is\n",
        "# 0.5, then our coinfidence intervals overlap with that value and we would use\n",
        "# this information to support a null hypothesis of all coin flips averaging out\n",
        "# at 0.5. With a confidence of 95% we except 95% of confidence intervals to\n",
        "# cover the population mean of 0.5 i.e. the null hypothesis."
      ],
      "execution_count": 0,
      "outputs": []
    },
    {
      "cell_type": "code",
      "metadata": {
        "id": "vtKNalBcCKr_",
        "colab_type": "code",
        "outputId": "5dc810ad-b878-409b-9190-16b950c938be",
        "colab": {
          "base_uri": "https://localhost:8080/",
          "height": 1000
        }
      },
      "source": [
        "# Take a dataset that we have used in the past in class that has categorical variables. Pick two of the categorical variables and run chi-sq tests on that data\n",
        "# 1) by hand using numpy\n",
        "# 2) in a single line using scipy\n",
        "\n",
        "column_headers = ['name', 'landmass', 'zone', 'area', 'population', 'language', \n",
        "                  'religion', 'bars', 'stripes', 'colours', 'red', 'green', \n",
        "                  'blue', 'gold', 'white', 'black', 'orange', 'mainhue', \n",
        "                  'circles', 'crosses', 'saltires', 'quarters', 'sunstars', \n",
        "                  'crescent', 'triangle', 'icon', 'animate', 'text', 'topleft', \n",
        "                  'botright']\n",
        "\n",
        "flags = pd.read_csv(\"https://archive.ics.uci.edu/ml/machine-learning-databases/flags/flag.data\", names=column_headers)\n",
        "\n",
        "print(\"#=========================== flags.shape\")\n",
        "print(flags.shape)\n",
        "print(\"#=========================== flags.head(10)\")\n",
        "print(flags.head(10))\n",
        "print(\"#=========================== flags.tail(10)\")\n",
        "print(flags.tail(10))\n",
        "print(\"#=========================== flags.isnull().sum().sort_values()\")\n",
        "print(flags.isnull().sum().sort_values())\n",
        "print(\"#=========================== flags.describe()\")\n",
        "print(flags.describe())"
      ],
      "execution_count": 0,
      "outputs": [
        {
          "output_type": "stream",
          "text": [
            "#=========================== flags.shape\n",
            "(194, 30)\n",
            "#=========================== flags.head(10)\n",
            "              name  landmass  zone  area  ...  animate  text  topleft  botright\n",
            "0      Afghanistan         5     1   648  ...        0     0    black     green\n",
            "1          Albania         3     1    29  ...        1     0      red       red\n",
            "2          Algeria         4     1  2388  ...        0     0    green     white\n",
            "3   American-Samoa         6     3     0  ...        1     0     blue       red\n",
            "4          Andorra         3     1     0  ...        0     0     blue       red\n",
            "5           Angola         4     2  1247  ...        0     0      red     black\n",
            "6         Anguilla         1     4     0  ...        1     0    white      blue\n",
            "7  Antigua-Barbuda         1     4     0  ...        0     0    black       red\n",
            "8        Argentina         2     3  2777  ...        0     0     blue      blue\n",
            "9        Argentine         2     3  2777  ...        0     0     blue      blue\n",
            "\n",
            "[10 rows x 30 columns]\n",
            "#=========================== flags.tail(10)\n",
            "              name  landmass  zone   area  ...  animate  text  topleft  botright\n",
            "184           USSR         5     1  22402  ...        0     0      red       red\n",
            "185        Vanuatu         6     2     15  ...        1     0    black     green\n",
            "186   Vatican-City         3     1      0  ...        0     0     gold     white\n",
            "187      Venezuela         2     4    912  ...        1     0     gold       red\n",
            "188        Vietnam         5     1    333  ...        0     0      red       red\n",
            "189  Western-Samoa         6     3      3  ...        0     0     blue       red\n",
            "190     Yugoslavia         3     1    256  ...        0     0     blue       red\n",
            "191          Zaire         4     2    905  ...        1     0    green     green\n",
            "192         Zambia         4     2    753  ...        1     0    green     brown\n",
            "193       Zimbabwe         4     2    391  ...        1     0    green     green\n",
            "\n",
            "[10 rows x 30 columns]\n",
            "#=========================== flags.isnull().sum().sort_values()\n",
            "name          0\n",
            "text          0\n",
            "animate       0\n",
            "icon          0\n",
            "triangle      0\n",
            "crescent      0\n",
            "sunstars      0\n",
            "quarters      0\n",
            "saltires      0\n",
            "crosses       0\n",
            "circles       0\n",
            "mainhue       0\n",
            "orange        0\n",
            "black         0\n",
            "white         0\n",
            "gold          0\n",
            "blue          0\n",
            "green         0\n",
            "red           0\n",
            "colours       0\n",
            "stripes       0\n",
            "bars          0\n",
            "religion      0\n",
            "language      0\n",
            "population    0\n",
            "area          0\n",
            "zone          0\n",
            "landmass      0\n",
            "topleft       0\n",
            "botright      0\n",
            "dtype: int64\n",
            "#=========================== flags.describe()\n",
            "         landmass        zone          area  ...        icon     animate        text\n",
            "count  194.000000  194.000000    194.000000  ...  194.000000  194.000000  194.000000\n",
            "mean     3.572165    2.211340    700.046392  ...    0.252577    0.201031    0.082474\n",
            "std      1.553018    1.308274   2170.927932  ...    0.435615    0.401808    0.275798\n",
            "min      1.000000    1.000000      0.000000  ...    0.000000    0.000000    0.000000\n",
            "25%      3.000000    1.000000      9.000000  ...    0.000000    0.000000    0.000000\n",
            "50%      4.000000    2.000000    111.000000  ...    0.000000    0.000000    0.000000\n",
            "75%      5.000000    4.000000    471.250000  ...    0.750000    0.000000    0.000000\n",
            "max      6.000000    4.000000  22402.000000  ...    1.000000    1.000000    1.000000\n",
            "\n",
            "[8 rows x 26 columns]\n"
          ],
          "name": "stdout"
        }
      ]
    },
    {
      "cell_type": "code",
      "metadata": {
        "id": "wGXW1aTxQuaT",
        "colab_type": "code",
        "outputId": "8126e999-2cdf-42c7-d0c5-0f36873c903d",
        "colab": {
          "base_uri": "https://localhost:8080/",
          "height": 527
        }
      },
      "source": [
        "print(flags.describe(exclude='number'))\n",
        "print(flags['religion'].describe()) # 7. religion: 0=Catholic, 1=Other Christian, 2=Muslim, 3=Buddhist, 4=Hindu, 5=Ethnic, 6=Marxist, 7=Others\n",
        "# LOL WHAT IS MARXIST RELIGION, WE HAVE TO GO DEEPER.\n",
        "mr_df = flags[flags['religion'] == 6]\n",
        "print(mr_df['name'])\n",
        "# Ahh, yes, the well-known marxist religion named \"catholicism\" of cuba.\n",
        "# I believe there are errors in some of the classification in this database.\n",
        "# Specifically w.r.t. cold-war era cultural propaganda.\n",
        "# I will still use it, but... yikes. It's 15 out of 194. 7-8%ish? of the set."
      ],
      "execution_count": 0,
      "outputs": [
        {
          "output_type": "stream",
          "text": [
            "            name mainhue topleft botright\n",
            "count        194     194     194      194\n",
            "unique       194       8       7        8\n",
            "top     Portugal     red     red      red\n",
            "freq           1      71      56       69\n",
            "count    194.000000\n",
            "mean       2.190722\n",
            "std        2.061167\n",
            "min        0.000000\n",
            "25%        1.000000\n",
            "50%        1.000000\n",
            "75%        4.000000\n",
            "max        7.000000\n",
            "Name: religion, dtype: float64\n",
            "1             Albania\n",
            "26           Bulgaria\n",
            "37              China\n",
            "43               Cuba\n",
            "45     Czechoslovakia\n",
            "64        Germany-DDR\n",
            "79            Hungary\n",
            "96               Laos\n",
            "115          Mongolia\n",
            "128       North-Korea\n",
            "138            Poland\n",
            "142           Romania\n",
            "184              USSR\n",
            "188           Vietnam\n",
            "190        Yugoslavia\n",
            "Name: name, dtype: object\n"
          ],
          "name": "stdout"
        }
      ]
    },
    {
      "cell_type": "code",
      "metadata": {
        "id": "HnAthDhEVG4Q",
        "colab_type": "code",
        "outputId": "46bfd05e-3988-4edc-e5e1-c98d5d61c6ad",
        "colab": {
          "base_uri": "https://localhost:8080/",
          "height": 289
        }
      },
      "source": [
        "cut_points = [-1, 0, 1, 2, 3, 4, 5, 6, 7]\n",
        "label_names = ['Catholic', 'Other Christian', 'Muslim', 'Buddhist', 'Hindu', 'Ethnic', 'Marxist', 'Others']\n",
        "flags['religion_categories'] = pd.cut(flags['religion'], cut_points, labels=label_names)\n",
        "\n",
        "print(flags.head())\n",
        "print(flags.tail())"
      ],
      "execution_count": 0,
      "outputs": [
        {
          "output_type": "stream",
          "text": [
            "             name  landmass  zone  ...  topleft  botright  religion_categories\n",
            "0     Afghanistan         5     1  ...    black     green               Muslim\n",
            "1         Albania         3     1  ...      red       red              Marxist\n",
            "2         Algeria         4     1  ...    green     white               Muslim\n",
            "3  American-Samoa         6     3  ...     blue       red      Other Christian\n",
            "4         Andorra         3     1  ...     blue       red             Catholic\n",
            "\n",
            "[5 rows x 31 columns]\n",
            "              name  landmass  zone  ...  topleft  botright  religion_categories\n",
            "189  Western-Samoa         6     3  ...     blue       red      Other Christian\n",
            "190     Yugoslavia         3     1  ...     blue       red              Marxist\n",
            "191          Zaire         4     2  ...    green     green               Ethnic\n",
            "192         Zambia         4     2  ...    green     brown               Ethnic\n",
            "193       Zimbabwe         4     2  ...    green     green               Ethnic\n",
            "\n",
            "[5 rows x 31 columns]\n"
          ],
          "name": "stdout"
        }
      ]
    },
    {
      "cell_type": "code",
      "metadata": {
        "id": "MpKJD4eWWNBD",
        "colab_type": "code",
        "outputId": "71295d49-1b85-4e4d-86e6-683d86c0c17b",
        "colab": {
          "base_uri": "https://localhost:8080/",
          "height": 714
        }
      },
      "source": [
        "print(flags.isnull().sum().sort_values()) # had some issues generating NaNs, checking to make sure it's correct\n",
        "print(flags['religion'].describe())"
      ],
      "execution_count": 0,
      "outputs": [
        {
          "output_type": "stream",
          "text": [
            "name                   0\n",
            "topleft                0\n",
            "text                   0\n",
            "animate                0\n",
            "icon                   0\n",
            "triangle               0\n",
            "crescent               0\n",
            "sunstars               0\n",
            "quarters               0\n",
            "saltires               0\n",
            "crosses                0\n",
            "circles                0\n",
            "mainhue                0\n",
            "orange                 0\n",
            "botright               0\n",
            "black                  0\n",
            "gold                   0\n",
            "blue                   0\n",
            "green                  0\n",
            "red                    0\n",
            "colours                0\n",
            "stripes                0\n",
            "bars                   0\n",
            "religion               0\n",
            "language               0\n",
            "population             0\n",
            "area                   0\n",
            "zone                   0\n",
            "landmass               0\n",
            "white                  0\n",
            "religion_categories    0\n",
            "dtype: int64\n",
            "count    194.000000\n",
            "mean       2.190722\n",
            "std        2.061167\n",
            "min        0.000000\n",
            "25%        1.000000\n",
            "50%        1.000000\n",
            "75%        4.000000\n",
            "max        7.000000\n",
            "Name: religion, dtype: float64\n"
          ],
          "name": "stdout"
        }
      ]
    },
    {
      "cell_type": "code",
      "metadata": {
        "id": "xLwm4ugfakzo",
        "colab_type": "code",
        "outputId": "c0f4f042-06a5-4ef6-bce2-7e05d1390284",
        "colab": {
          "base_uri": "https://localhost:8080/",
          "height": 359
        }
      },
      "source": [
        "# this will be used for the scipy version below\n",
        "contingency_table = pd.crosstab(flags['mainhue'], flags['religion_categories'], margins=True)\n",
        "\n",
        "contingency_table"
      ],
      "execution_count": 0,
      "outputs": [
        {
          "output_type": "execute_result",
          "data": {
            "text/html": [
              "<div>\n",
              "<style scoped>\n",
              "    .dataframe tbody tr th:only-of-type {\n",
              "        vertical-align: middle;\n",
              "    }\n",
              "\n",
              "    .dataframe tbody tr th {\n",
              "        vertical-align: top;\n",
              "    }\n",
              "\n",
              "    .dataframe thead th {\n",
              "        text-align: right;\n",
              "    }\n",
              "</style>\n",
              "<table border=\"1\" class=\"dataframe\">\n",
              "  <thead>\n",
              "    <tr style=\"text-align: right;\">\n",
              "      <th>religion_categories</th>\n",
              "      <th>Catholic</th>\n",
              "      <th>Other Christian</th>\n",
              "      <th>Muslim</th>\n",
              "      <th>Buddhist</th>\n",
              "      <th>Hindu</th>\n",
              "      <th>Ethnic</th>\n",
              "      <th>Marxist</th>\n",
              "      <th>Others</th>\n",
              "      <th>All</th>\n",
              "    </tr>\n",
              "    <tr>\n",
              "      <th>mainhue</th>\n",
              "      <th></th>\n",
              "      <th></th>\n",
              "      <th></th>\n",
              "      <th></th>\n",
              "      <th></th>\n",
              "      <th></th>\n",
              "      <th></th>\n",
              "      <th></th>\n",
              "      <th></th>\n",
              "    </tr>\n",
              "  </thead>\n",
              "  <tbody>\n",
              "    <tr>\n",
              "      <th>black</th>\n",
              "      <td>1</td>\n",
              "      <td>1</td>\n",
              "      <td>2</td>\n",
              "      <td>0</td>\n",
              "      <td>0</td>\n",
              "      <td>1</td>\n",
              "      <td>0</td>\n",
              "      <td>0</td>\n",
              "      <td>5</td>\n",
              "    </tr>\n",
              "    <tr>\n",
              "      <th>blue</th>\n",
              "      <td>9</td>\n",
              "      <td>24</td>\n",
              "      <td>2</td>\n",
              "      <td>1</td>\n",
              "      <td>0</td>\n",
              "      <td>2</td>\n",
              "      <td>2</td>\n",
              "      <td>0</td>\n",
              "      <td>40</td>\n",
              "    </tr>\n",
              "    <tr>\n",
              "      <th>brown</th>\n",
              "      <td>0</td>\n",
              "      <td>0</td>\n",
              "      <td>1</td>\n",
              "      <td>0</td>\n",
              "      <td>1</td>\n",
              "      <td>0</td>\n",
              "      <td>0</td>\n",
              "      <td>0</td>\n",
              "      <td>2</td>\n",
              "    </tr>\n",
              "    <tr>\n",
              "      <th>gold</th>\n",
              "      <td>6</td>\n",
              "      <td>3</td>\n",
              "      <td>3</td>\n",
              "      <td>1</td>\n",
              "      <td>0</td>\n",
              "      <td>5</td>\n",
              "      <td>1</td>\n",
              "      <td>0</td>\n",
              "      <td>19</td>\n",
              "    </tr>\n",
              "    <tr>\n",
              "      <th>green</th>\n",
              "      <td>3</td>\n",
              "      <td>6</td>\n",
              "      <td>12</td>\n",
              "      <td>0</td>\n",
              "      <td>1</td>\n",
              "      <td>8</td>\n",
              "      <td>0</td>\n",
              "      <td>1</td>\n",
              "      <td>31</td>\n",
              "    </tr>\n",
              "    <tr>\n",
              "      <th>orange</th>\n",
              "      <td>0</td>\n",
              "      <td>1</td>\n",
              "      <td>1</td>\n",
              "      <td>1</td>\n",
              "      <td>1</td>\n",
              "      <td>0</td>\n",
              "      <td>0</td>\n",
              "      <td>0</td>\n",
              "      <td>4</td>\n",
              "    </tr>\n",
              "    <tr>\n",
              "      <th>red</th>\n",
              "      <td>15</td>\n",
              "      <td>16</td>\n",
              "      <td>15</td>\n",
              "      <td>4</td>\n",
              "      <td>1</td>\n",
              "      <td>10</td>\n",
              "      <td>10</td>\n",
              "      <td>0</td>\n",
              "      <td>71</td>\n",
              "    </tr>\n",
              "    <tr>\n",
              "      <th>white</th>\n",
              "      <td>6</td>\n",
              "      <td>9</td>\n",
              "      <td>0</td>\n",
              "      <td>1</td>\n",
              "      <td>0</td>\n",
              "      <td>1</td>\n",
              "      <td>2</td>\n",
              "      <td>3</td>\n",
              "      <td>22</td>\n",
              "    </tr>\n",
              "    <tr>\n",
              "      <th>All</th>\n",
              "      <td>40</td>\n",
              "      <td>60</td>\n",
              "      <td>36</td>\n",
              "      <td>8</td>\n",
              "      <td>4</td>\n",
              "      <td>27</td>\n",
              "      <td>15</td>\n",
              "      <td>4</td>\n",
              "      <td>194</td>\n",
              "    </tr>\n",
              "  </tbody>\n",
              "</table>\n",
              "</div>"
            ],
            "text/plain": [
              "religion_categories  Catholic  Other Christian  Muslim  ...  Marxist  Others  All\n",
              "mainhue                                                 ...                      \n",
              "black                       1                1       2  ...        0       0    5\n",
              "blue                        9               24       2  ...        2       0   40\n",
              "brown                       0                0       1  ...        0       0    2\n",
              "gold                        6                3       3  ...        1       0   19\n",
              "green                       3                6      12  ...        0       1   31\n",
              "orange                      0                1       1  ...        0       0    4\n",
              "red                        15               16      15  ...       10       0   71\n",
              "white                       6                9       0  ...        2       3   22\n",
              "All                        40               60      36  ...       15       4  194\n",
              "\n",
              "[9 rows x 9 columns]"
            ]
          },
          "metadata": {
            "tags": []
          },
          "execution_count": 59
        }
      ]
    },
    {
      "cell_type": "code",
      "metadata": {
        "id": "3z8unf91Lj9p",
        "colab_type": "code",
        "outputId": "a278aa2d-3c88-4309-9348-a30e57d9c6db",
        "colab": {
          "base_uri": "https://localhost:8080/",
          "height": 51
        }
      },
      "source": [
        "# by hand using numpy\n",
        "\n",
        "row_sums = contingency_table.iloc[0:8, 8].values\n",
        "col_sums = contingency_table.iloc[8, 0:8].values\n",
        "\n",
        "print(row_sums)\n",
        "print(col_sums)"
      ],
      "execution_count": 0,
      "outputs": [
        {
          "output_type": "stream",
          "text": [
            "[ 5 40  2 19 31  4 71 22]\n",
            "[40 60 36  8  4 27 15  4]\n"
          ],
          "name": "stdout"
        }
      ]
    },
    {
      "cell_type": "code",
      "metadata": {
        "id": "xk9-opvzgwJj",
        "colab_type": "code",
        "colab": {}
      },
      "source": [
        "total = flags.shape[0]"
      ],
      "execution_count": 0,
      "outputs": []
    },
    {
      "cell_type": "code",
      "metadata": {
        "id": "26DXn7uJf9dL",
        "colab_type": "code",
        "outputId": "6fecb4ab-4a86-4c2e-84af-4720988f663e",
        "colab": {
          "base_uri": "https://localhost:8080/",
          "height": 306
        }
      },
      "source": [
        "expected = []\n",
        "for i in range(len(row_sums)):\n",
        "  expected_row = []\n",
        "  for column in col_sums:\n",
        "    expected_val = column*row_sums[i]/total\n",
        "    expected_row.append(expected_val)\n",
        "  expected.append(expected_row)\n",
        "\n",
        "expected = np.array(expected)\n",
        "print(expected.shape)  \n",
        "print(expected)"
      ],
      "execution_count": 0,
      "outputs": [
        {
          "output_type": "stream",
          "text": [
            "(8, 8)\n",
            "[[ 1.03092784  1.54639175  0.92783505  0.20618557  0.10309278  0.69587629\n",
            "   0.38659794  0.10309278]\n",
            " [ 8.24742268 12.37113402  7.42268041  1.64948454  0.82474227  5.56701031\n",
            "   3.09278351  0.82474227]\n",
            " [ 0.41237113  0.6185567   0.37113402  0.08247423  0.04123711  0.27835052\n",
            "   0.15463918  0.04123711]\n",
            " [ 3.91752577  5.87628866  3.5257732   0.78350515  0.39175258  2.6443299\n",
            "   1.46907216  0.39175258]\n",
            " [ 6.39175258  9.58762887  5.75257732  1.27835052  0.63917526  4.31443299\n",
            "   2.39690722  0.63917526]\n",
            " [ 0.82474227  1.2371134   0.74226804  0.16494845  0.08247423  0.55670103\n",
            "   0.30927835  0.08247423]\n",
            " [14.63917526 21.95876289 13.17525773  2.92783505  1.46391753  9.8814433\n",
            "   5.48969072  1.46391753]\n",
            " [ 4.53608247  6.80412371  4.08247423  0.90721649  0.45360825  3.06185567\n",
            "   1.70103093  0.45360825]]\n"
          ],
          "name": "stdout"
        }
      ]
    },
    {
      "cell_type": "code",
      "metadata": {
        "id": "lWhOALwMhQre",
        "colab_type": "code",
        "outputId": "be0cc297-e4c4-4e87-8a7c-d1515bf0fda5",
        "colab": {
          "base_uri": "https://localhost:8080/",
          "height": 170
        }
      },
      "source": [
        "observed = pd.crosstab(flags['mainhue'], flags['religion_categories']).values\n",
        "print(observed.shape)\n",
        "observed"
      ],
      "execution_count": 0,
      "outputs": [
        {
          "output_type": "stream",
          "text": [
            "(8, 8)\n"
          ],
          "name": "stdout"
        },
        {
          "output_type": "execute_result",
          "data": {
            "text/plain": [
              "array([[ 1,  1,  2,  0,  0,  1,  0,  0],\n",
              "       [ 9, 24,  2,  1,  0,  2,  2,  0],\n",
              "       [ 0,  0,  1,  0,  1,  0,  0,  0],\n",
              "       [ 6,  3,  3,  1,  0,  5,  1,  0],\n",
              "       [ 3,  6, 12,  0,  1,  8,  0,  1],\n",
              "       [ 0,  1,  1,  1,  1,  0,  0,  0],\n",
              "       [15, 16, 15,  4,  1, 10, 10,  0],\n",
              "       [ 6,  9,  0,  1,  0,  1,  2,  3]])"
            ]
          },
          "metadata": {
            "tags": []
          },
          "execution_count": 63
        }
      ]
    },
    {
      "cell_type": "code",
      "metadata": {
        "id": "Xy1AEaejhz0p",
        "colab_type": "code",
        "outputId": "762ddfbe-c059-4aa3-ce1f-5c6c11b53635",
        "colab": {
          "base_uri": "https://localhost:8080/",
          "height": 34
        }
      },
      "source": [
        "chi_squared = ((observed - expected)**2/(expected)).sum() \n",
        "print(\"x^2: \" + str(chi_squared))"
      ],
      "execution_count": 0,
      "outputs": [
        {
          "output_type": "stream",
          "text": [
            "x^2: 115.08500594392557\n"
          ],
          "name": "stdout"
        }
      ]
    },
    {
      "cell_type": "code",
      "metadata": {
        "id": "vq3FDavcMxMl",
        "colab_type": "code",
        "outputId": "fa921d29-8013-4f4d-a110-09b9e609fbf8",
        "colab": {
          "base_uri": "https://localhost:8080/",
          "height": 476
        }
      },
      "source": [
        "# in a single line using scipy\n",
        "\n",
        "# this also uses the contingency_table created above\n",
        "\n",
        "print(stats.chi2_contingency(contingency_table))"
      ],
      "execution_count": 0,
      "outputs": [
        {
          "output_type": "stream",
          "text": [
            "(115.08500594392558, 9.416544389084367e-05, 64, array([[1.03092784e+00, 1.54639175e+00, 9.27835052e-01, 2.06185567e-01,\n",
            "        1.03092784e-01, 6.95876289e-01, 3.86597938e-01, 1.03092784e-01,\n",
            "        5.00000000e+00],\n",
            "       [8.24742268e+00, 1.23711340e+01, 7.42268041e+00, 1.64948454e+00,\n",
            "        8.24742268e-01, 5.56701031e+00, 3.09278351e+00, 8.24742268e-01,\n",
            "        4.00000000e+01],\n",
            "       [4.12371134e-01, 6.18556701e-01, 3.71134021e-01, 8.24742268e-02,\n",
            "        4.12371134e-02, 2.78350515e-01, 1.54639175e-01, 4.12371134e-02,\n",
            "        2.00000000e+00],\n",
            "       [3.91752577e+00, 5.87628866e+00, 3.52577320e+00, 7.83505155e-01,\n",
            "        3.91752577e-01, 2.64432990e+00, 1.46907216e+00, 3.91752577e-01,\n",
            "        1.90000000e+01],\n",
            "       [6.39175258e+00, 9.58762887e+00, 5.75257732e+00, 1.27835052e+00,\n",
            "        6.39175258e-01, 4.31443299e+00, 2.39690722e+00, 6.39175258e-01,\n",
            "        3.10000000e+01],\n",
            "       [8.24742268e-01, 1.23711340e+00, 7.42268041e-01, 1.64948454e-01,\n",
            "        8.24742268e-02, 5.56701031e-01, 3.09278351e-01, 8.24742268e-02,\n",
            "        4.00000000e+00],\n",
            "       [1.46391753e+01, 2.19587629e+01, 1.31752577e+01, 2.92783505e+00,\n",
            "        1.46391753e+00, 9.88144330e+00, 5.48969072e+00, 1.46391753e+00,\n",
            "        7.10000000e+01],\n",
            "       [4.53608247e+00, 6.80412371e+00, 4.08247423e+00, 9.07216495e-01,\n",
            "        4.53608247e-01, 3.06185567e+00, 1.70103093e+00, 4.53608247e-01,\n",
            "        2.20000000e+01],\n",
            "       [4.00000000e+01, 6.00000000e+01, 3.60000000e+01, 8.00000000e+00,\n",
            "        4.00000000e+00, 2.70000000e+01, 1.50000000e+01, 4.00000000e+00,\n",
            "        1.94000000e+02]]))\n"
          ],
          "name": "stdout"
        }
      ]
    },
    {
      "cell_type": "markdown",
      "metadata": {
        "id": "4ohsJhQUmEuS",
        "colab_type": "text"
      },
      "source": [
        "## Stretch goals:\n",
        "\n",
        "1. Write a summary of your findings, mixing prose and math/code/results. *Note* - yes, this is by definition a political topic. It is challenging but important to keep your writing voice *neutral* and stick to the facts of the data. Data science often involves considering controversial issues, so it's important to be sensitive about them (especially if you want to publish).\n",
        "2. Apply the techniques you learned today to your project data or other data of your choice, and write/discuss your findings here.\n",
        "3. Refactor your code so it is elegant, readable, and can be easily run for all issues."
      ]
    },
    {
      "cell_type": "markdown",
      "metadata": {
        "id": "nyJ3ySr7R2k9",
        "colab_type": "text"
      },
      "source": [
        "## Resources\n",
        "\n",
        "- [Interactive visualize the Chi-Squared test](https://homepage.divms.uiowa.edu/~mbognar/applets/chisq.html)\n",
        "- [Calculation of Chi-Squared test statistic](https://en.wikipedia.org/wiki/Pearson%27s_chi-squared_test)\n",
        "- [Visualization of a confidence interval generated by R code](https://commons.wikimedia.org/wiki/File:Confidence-interval.svg)\n",
        "- [Expected value of a squared standard normal](https://math.stackexchange.com/questions/264061/expected-value-calculation-for-squared-normal-distribution) (it's 1 - which is why the expected value of a Chi-Squared with $n$ degrees of freedom is $n$, as it's the sum of $n$ squared standard normals)"
      ]
    }
  ]
}