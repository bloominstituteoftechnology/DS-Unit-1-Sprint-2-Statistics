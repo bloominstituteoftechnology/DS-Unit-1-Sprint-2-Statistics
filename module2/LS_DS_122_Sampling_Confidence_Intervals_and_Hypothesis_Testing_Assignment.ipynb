{
  "nbformat": 4,
  "nbformat_minor": 0,
  "metadata": {
    "colab": {
      "name": "LS_DS_122_Sampling_Confidence_Intervals_and_Hypothesis_Testing_Assignment.ipynb",
      "provenance": [],
      "collapsed_sections": [],
      "toc_visible": true,
      "include_colab_link": true
    },
    "kernelspec": {
      "name": "python3",
      "display_name": "Python 3"
    }
  },
  "cells": [
    {
      "cell_type": "markdown",
      "metadata": {
        "id": "view-in-github",
        "colab_type": "text"
      },
      "source": [
        "<a href=\"https://colab.research.google.com/github/jmmiddour/DS-Unit-1-Sprint-2-Statistics/blob/master/module2/LS_DS_122_Sampling_Confidence_Intervals_and_Hypothesis_Testing_Assignment.ipynb\" target=\"_parent\"><img src=\"https://colab.research.google.com/assets/colab-badge.svg\" alt=\"Open In Colab\"/></a>"
      ]
    },
    {
      "cell_type": "markdown",
      "metadata": {
        "id": "11OzdxWTM7UR",
        "colab_type": "text"
      },
      "source": [
        "## Assignment - Build a confidence interval\n",
        "\n",
        "A confidence interval refers to a neighborhood around some point estimate, the size of which is determined by the desired p-value. For instance, we might say that 52% of Americans prefer tacos to burritos, with a 95% confidence interval of +/- 5%.\n",
        "\n",
        "52% (0.52) is the point estimate, and +/- 5% (the interval $[0.47, 0.57]$) is the confidence interval. \"95% confidence\" means a p-value $\\leq 1 - 0.95 = 0.05$.\n",
        "\n",
        "In this case, the confidence interval includes $0.5$ - which is the natural null hypothesis (that half of Americans prefer tacos and half burritos, thus there is no clear favorite). So in this case, we could use the confidence interval to report that we've failed to reject the null hypothesis.\n",
        "\n",
        "But providing the full analysis with a confidence interval, including a graphical representation of it, can be a helpful and powerful way to tell your story. Done well, it is also more intuitive to a layperson than simply saying \"fail to reject the null hypothesis\" - it shows that in fact the data does *not* give a single clear result (the point estimate) but a whole range of possibilities.\n",
        "\n",
        "How is a confidence interval built, and how should it be interpreted? It does *not* mean that 95% of the data lies in that interval - instead, the frequentist interpretation is \"if we were to repeat this experiment 100 times, we would expect the average result to lie in this interval ~95 times.\"\n",
        "\n",
        "For a 95% confidence interval and a normal(-ish) distribution, you can simply remember that +/-2 standard deviations contains 95% of the probability mass, and so the 95% confidence interval based on a given sample is centered at the mean (point estimate) and has a range of +/- 2 (or technically 1.96) standard deviations.\n",
        "\n",
        "Different distributions/assumptions (90% confidence, 99% confidence) will require different math, but the overall process and interpretation (with a frequentist approach) will be the same.\n",
        "\n",
        "Your assignment - using the data from the prior module ([congressional voting records](https://archive.ics.uci.edu/ml/datasets/Congressional+Voting+Records)):\n",
        "\n",
        "\n",
        "### Confidence Intervals:\n",
        "1. Generate and numerically represent a confidence interval\n",
        "2. Graphically (with a plot) represent the confidence interval\n",
        "3. Interpret the confidence interval - what does it tell you about the data and its distribution?\n",
        "\n",
        "### Chi-squared tests:\n",
        "4. Take a dataset that we have used in the past in class that has **categorical** variables. Pick two of those categorical variables and run a chi-squared tests on that data\n",
        "  - By hand using Numpy\n",
        "  - In a single line using Scipy\n"
      ]
    },
    {
      "cell_type": "markdown",
      "metadata": {
        "id": "_UT3ZdfaXb3O",
        "colab_type": "text"
      },
      "source": [
        "### Confidence Intervals:"
      ]
    },
    {
      "cell_type": "code",
      "metadata": {
        "id": "Ckcr4A4FM7cs",
        "colab_type": "code",
        "colab": {
          "base_uri": "https://localhost:8080/",
          "height": 70
        },
        "outputId": "4a315cf6-c6e2-45d6-bdce-315ce38c2e0b"
      },
      "source": [
        "# Import my libraries:\n",
        "import numpy as np\n",
        "import pandas as pd\n",
        "import matplotlib.pyplot as plt\n",
        "import seaborn as sns\n",
        "from scipy.stats import ttest_1samp, ttest_ind, chisquare, t\n",
        "import scipy.stats as stats"
      ],
      "execution_count": 1,
      "outputs": [
        {
          "output_type": "stream",
          "text": [
            "/usr/local/lib/python3.6/dist-packages/statsmodels/tools/_testing.py:19: FutureWarning: pandas.util.testing is deprecated. Use the functions in the public API at pandas.testing instead.\n",
            "  import pandas.util.testing as tm\n"
          ],
          "name": "stderr"
        }
      ]
    },
    {
      "cell_type": "code",
      "metadata": {
        "id": "c5kzK1D8FjF3",
        "colab_type": "code",
        "outputId": "68771770-8efc-455e-e4d5-0efe159b6b07",
        "colab": {
          "base_uri": "https://localhost:8080/",
          "height": 202
        }
      },
      "source": [
        "# Get the dataset:\n",
        "!wget https://archive.ics.uci.edu/ml/machine-learning-databases/voting-records/house-votes-84.data"
      ],
      "execution_count": 2,
      "outputs": [
        {
          "output_type": "stream",
          "text": [
            "--2020-05-26 02:29:03--  https://archive.ics.uci.edu/ml/machine-learning-databases/voting-records/house-votes-84.data\n",
            "Resolving archive.ics.uci.edu (archive.ics.uci.edu)... 128.195.10.252\n",
            "Connecting to archive.ics.uci.edu (archive.ics.uci.edu)|128.195.10.252|:443... connected.\n",
            "HTTP request sent, awaiting response... 200 OK\n",
            "Length: 18171 (18K) [application/x-httpd-php]\n",
            "Saving to: ‘house-votes-84.data.1’\n",
            "\n",
            "\rhouse-votes-84.data   0%[                    ]       0  --.-KB/s               \rhouse-votes-84.data 100%[===================>]  17.75K  --.-KB/s    in 0.06s   \n",
            "\n",
            "2020-05-26 02:29:03 (286 KB/s) - ‘house-votes-84.data.1’ saved [18171/18171]\n",
            "\n"
          ],
          "name": "stdout"
        }
      ]
    },
    {
      "cell_type": "code",
      "metadata": {
        "id": "__al97ddGLQK",
        "colab_type": "code",
        "outputId": "d25520db-68f0-4fa5-8fee-1b8e02e9346e",
        "colab": {
          "base_uri": "https://localhost:8080/",
          "height": 247
        }
      },
      "source": [
        "# Make it into a dataframe:\n",
        "column_headers = ['Party','Handicapped-Infants','Water-Project',\n",
        "                          'Budget','Physician-Fee-Freeze', 'El-Salvador-Aid',\n",
        "                          'Religious-Groups','Anti-Satellite-Ban',\n",
        "                          'Aid-to-Contras','Mx-Missile','Immigration',\n",
        "                          'Synfuels', 'Education', 'Right-to-Sue','Crime','Duty-Free',\n",
        "                          'South-Africa']\n",
        "\n",
        "# You can see right away that the missing values were coded with a ?. To remove\n",
        "#   those and set them to NaN values, need to add na_values='?':\n",
        "house = pd.read_csv('house-votes-84.data', header=None, names=column_headers, \n",
        "                    na_values='?')\n",
        "house.head()\n"
      ],
      "execution_count": 3,
      "outputs": [
        {
          "output_type": "execute_result",
          "data": {
            "text/html": [
              "<div>\n",
              "<style scoped>\n",
              "    .dataframe tbody tr th:only-of-type {\n",
              "        vertical-align: middle;\n",
              "    }\n",
              "\n",
              "    .dataframe tbody tr th {\n",
              "        vertical-align: top;\n",
              "    }\n",
              "\n",
              "    .dataframe thead th {\n",
              "        text-align: right;\n",
              "    }\n",
              "</style>\n",
              "<table border=\"1\" class=\"dataframe\">\n",
              "  <thead>\n",
              "    <tr style=\"text-align: right;\">\n",
              "      <th></th>\n",
              "      <th>Party</th>\n",
              "      <th>Handicapped-Infants</th>\n",
              "      <th>Water-Project</th>\n",
              "      <th>Budget</th>\n",
              "      <th>Physician-Fee-Freeze</th>\n",
              "      <th>El-Salvador-Aid</th>\n",
              "      <th>Religious-Groups</th>\n",
              "      <th>Anti-Satellite-Ban</th>\n",
              "      <th>Aid-to-Contras</th>\n",
              "      <th>Mx-Missile</th>\n",
              "      <th>Immigration</th>\n",
              "      <th>Synfuels</th>\n",
              "      <th>Education</th>\n",
              "      <th>Right-to-Sue</th>\n",
              "      <th>Crime</th>\n",
              "      <th>Duty-Free</th>\n",
              "      <th>South-Africa</th>\n",
              "    </tr>\n",
              "  </thead>\n",
              "  <tbody>\n",
              "    <tr>\n",
              "      <th>0</th>\n",
              "      <td>republican</td>\n",
              "      <td>n</td>\n",
              "      <td>y</td>\n",
              "      <td>n</td>\n",
              "      <td>y</td>\n",
              "      <td>y</td>\n",
              "      <td>y</td>\n",
              "      <td>n</td>\n",
              "      <td>n</td>\n",
              "      <td>n</td>\n",
              "      <td>y</td>\n",
              "      <td>NaN</td>\n",
              "      <td>y</td>\n",
              "      <td>y</td>\n",
              "      <td>y</td>\n",
              "      <td>n</td>\n",
              "      <td>y</td>\n",
              "    </tr>\n",
              "    <tr>\n",
              "      <th>1</th>\n",
              "      <td>republican</td>\n",
              "      <td>n</td>\n",
              "      <td>y</td>\n",
              "      <td>n</td>\n",
              "      <td>y</td>\n",
              "      <td>y</td>\n",
              "      <td>y</td>\n",
              "      <td>n</td>\n",
              "      <td>n</td>\n",
              "      <td>n</td>\n",
              "      <td>n</td>\n",
              "      <td>n</td>\n",
              "      <td>y</td>\n",
              "      <td>y</td>\n",
              "      <td>y</td>\n",
              "      <td>n</td>\n",
              "      <td>NaN</td>\n",
              "    </tr>\n",
              "    <tr>\n",
              "      <th>2</th>\n",
              "      <td>democrat</td>\n",
              "      <td>NaN</td>\n",
              "      <td>y</td>\n",
              "      <td>y</td>\n",
              "      <td>NaN</td>\n",
              "      <td>y</td>\n",
              "      <td>y</td>\n",
              "      <td>n</td>\n",
              "      <td>n</td>\n",
              "      <td>n</td>\n",
              "      <td>n</td>\n",
              "      <td>y</td>\n",
              "      <td>n</td>\n",
              "      <td>y</td>\n",
              "      <td>y</td>\n",
              "      <td>n</td>\n",
              "      <td>n</td>\n",
              "    </tr>\n",
              "    <tr>\n",
              "      <th>3</th>\n",
              "      <td>democrat</td>\n",
              "      <td>n</td>\n",
              "      <td>y</td>\n",
              "      <td>y</td>\n",
              "      <td>n</td>\n",
              "      <td>NaN</td>\n",
              "      <td>y</td>\n",
              "      <td>n</td>\n",
              "      <td>n</td>\n",
              "      <td>n</td>\n",
              "      <td>n</td>\n",
              "      <td>y</td>\n",
              "      <td>n</td>\n",
              "      <td>y</td>\n",
              "      <td>n</td>\n",
              "      <td>n</td>\n",
              "      <td>y</td>\n",
              "    </tr>\n",
              "    <tr>\n",
              "      <th>4</th>\n",
              "      <td>democrat</td>\n",
              "      <td>y</td>\n",
              "      <td>y</td>\n",
              "      <td>y</td>\n",
              "      <td>n</td>\n",
              "      <td>y</td>\n",
              "      <td>y</td>\n",
              "      <td>n</td>\n",
              "      <td>n</td>\n",
              "      <td>n</td>\n",
              "      <td>n</td>\n",
              "      <td>y</td>\n",
              "      <td>NaN</td>\n",
              "      <td>y</td>\n",
              "      <td>y</td>\n",
              "      <td>y</td>\n",
              "      <td>y</td>\n",
              "    </tr>\n",
              "  </tbody>\n",
              "</table>\n",
              "</div>"
            ],
            "text/plain": [
              "        Party Handicapped-Infants Water-Project  ... Crime Duty-Free South-Africa\n",
              "0  republican                   n             y  ...     y         n            y\n",
              "1  republican                   n             y  ...     y         n          NaN\n",
              "2    democrat                 NaN             y  ...     y         n            n\n",
              "3    democrat                   n             y  ...     n         n            y\n",
              "4    democrat                   y             y  ...     y         y            y\n",
              "\n",
              "[5 rows x 17 columns]"
            ]
          },
          "metadata": {
            "tags": []
          },
          "execution_count": 3
        }
      ]
    },
    {
      "cell_type": "code",
      "metadata": {
        "id": "k85hmU1ujYXY",
        "colab_type": "code",
        "outputId": "22be9815-8f7d-485f-a724-17a605a2694f",
        "colab": {
          "base_uri": "https://localhost:8080/",
          "height": 247
        }
      },
      "source": [
        "# Recode votes as numerical values:\n",
        "house = house.replace({'y': 1, 'n': 0})\n",
        "\n",
        "# Check my work by looking at the first 5 row:\n",
        "house.head()"
      ],
      "execution_count": 4,
      "outputs": [
        {
          "output_type": "execute_result",
          "data": {
            "text/html": [
              "<div>\n",
              "<style scoped>\n",
              "    .dataframe tbody tr th:only-of-type {\n",
              "        vertical-align: middle;\n",
              "    }\n",
              "\n",
              "    .dataframe tbody tr th {\n",
              "        vertical-align: top;\n",
              "    }\n",
              "\n",
              "    .dataframe thead th {\n",
              "        text-align: right;\n",
              "    }\n",
              "</style>\n",
              "<table border=\"1\" class=\"dataframe\">\n",
              "  <thead>\n",
              "    <tr style=\"text-align: right;\">\n",
              "      <th></th>\n",
              "      <th>Party</th>\n",
              "      <th>Handicapped-Infants</th>\n",
              "      <th>Water-Project</th>\n",
              "      <th>Budget</th>\n",
              "      <th>Physician-Fee-Freeze</th>\n",
              "      <th>El-Salvador-Aid</th>\n",
              "      <th>Religious-Groups</th>\n",
              "      <th>Anti-Satellite-Ban</th>\n",
              "      <th>Aid-to-Contras</th>\n",
              "      <th>Mx-Missile</th>\n",
              "      <th>Immigration</th>\n",
              "      <th>Synfuels</th>\n",
              "      <th>Education</th>\n",
              "      <th>Right-to-Sue</th>\n",
              "      <th>Crime</th>\n",
              "      <th>Duty-Free</th>\n",
              "      <th>South-Africa</th>\n",
              "    </tr>\n",
              "  </thead>\n",
              "  <tbody>\n",
              "    <tr>\n",
              "      <th>0</th>\n",
              "      <td>republican</td>\n",
              "      <td>0.0</td>\n",
              "      <td>1.0</td>\n",
              "      <td>0.0</td>\n",
              "      <td>1.0</td>\n",
              "      <td>1.0</td>\n",
              "      <td>1.0</td>\n",
              "      <td>0.0</td>\n",
              "      <td>0.0</td>\n",
              "      <td>0.0</td>\n",
              "      <td>1.0</td>\n",
              "      <td>NaN</td>\n",
              "      <td>1.0</td>\n",
              "      <td>1.0</td>\n",
              "      <td>1.0</td>\n",
              "      <td>0.0</td>\n",
              "      <td>1.0</td>\n",
              "    </tr>\n",
              "    <tr>\n",
              "      <th>1</th>\n",
              "      <td>republican</td>\n",
              "      <td>0.0</td>\n",
              "      <td>1.0</td>\n",
              "      <td>0.0</td>\n",
              "      <td>1.0</td>\n",
              "      <td>1.0</td>\n",
              "      <td>1.0</td>\n",
              "      <td>0.0</td>\n",
              "      <td>0.0</td>\n",
              "      <td>0.0</td>\n",
              "      <td>0.0</td>\n",
              "      <td>0.0</td>\n",
              "      <td>1.0</td>\n",
              "      <td>1.0</td>\n",
              "      <td>1.0</td>\n",
              "      <td>0.0</td>\n",
              "      <td>NaN</td>\n",
              "    </tr>\n",
              "    <tr>\n",
              "      <th>2</th>\n",
              "      <td>democrat</td>\n",
              "      <td>NaN</td>\n",
              "      <td>1.0</td>\n",
              "      <td>1.0</td>\n",
              "      <td>NaN</td>\n",
              "      <td>1.0</td>\n",
              "      <td>1.0</td>\n",
              "      <td>0.0</td>\n",
              "      <td>0.0</td>\n",
              "      <td>0.0</td>\n",
              "      <td>0.0</td>\n",
              "      <td>1.0</td>\n",
              "      <td>0.0</td>\n",
              "      <td>1.0</td>\n",
              "      <td>1.0</td>\n",
              "      <td>0.0</td>\n",
              "      <td>0.0</td>\n",
              "    </tr>\n",
              "    <tr>\n",
              "      <th>3</th>\n",
              "      <td>democrat</td>\n",
              "      <td>0.0</td>\n",
              "      <td>1.0</td>\n",
              "      <td>1.0</td>\n",
              "      <td>0.0</td>\n",
              "      <td>NaN</td>\n",
              "      <td>1.0</td>\n",
              "      <td>0.0</td>\n",
              "      <td>0.0</td>\n",
              "      <td>0.0</td>\n",
              "      <td>0.0</td>\n",
              "      <td>1.0</td>\n",
              "      <td>0.0</td>\n",
              "      <td>1.0</td>\n",
              "      <td>0.0</td>\n",
              "      <td>0.0</td>\n",
              "      <td>1.0</td>\n",
              "    </tr>\n",
              "    <tr>\n",
              "      <th>4</th>\n",
              "      <td>democrat</td>\n",
              "      <td>1.0</td>\n",
              "      <td>1.0</td>\n",
              "      <td>1.0</td>\n",
              "      <td>0.0</td>\n",
              "      <td>1.0</td>\n",
              "      <td>1.0</td>\n",
              "      <td>0.0</td>\n",
              "      <td>0.0</td>\n",
              "      <td>0.0</td>\n",
              "      <td>0.0</td>\n",
              "      <td>1.0</td>\n",
              "      <td>NaN</td>\n",
              "      <td>1.0</td>\n",
              "      <td>1.0</td>\n",
              "      <td>1.0</td>\n",
              "      <td>1.0</td>\n",
              "    </tr>\n",
              "  </tbody>\n",
              "</table>\n",
              "</div>"
            ],
            "text/plain": [
              "        Party  Handicapped-Infants  ...  Duty-Free  South-Africa\n",
              "0  republican                  0.0  ...        0.0           1.0\n",
              "1  republican                  0.0  ...        0.0           NaN\n",
              "2    democrat                  NaN  ...        0.0           0.0\n",
              "3    democrat                  0.0  ...        0.0           1.0\n",
              "4    democrat                  1.0  ...        1.0           1.0\n",
              "\n",
              "[5 rows x 17 columns]"
            ]
          },
          "metadata": {
            "tags": []
          },
          "execution_count": 4
        }
      ]
    },
    {
      "cell_type": "code",
      "metadata": {
        "id": "xf1tb9WGkBIh",
        "colab_type": "code",
        "outputId": "5c199c2d-9ec2-4600-8461-c9879c5e57c5",
        "colab": {
          "base_uri": "https://localhost:8080/",
          "height": 67
        }
      },
      "source": [
        "# Check value counts on Party:\n",
        "house['Party'].value_counts()"
      ],
      "execution_count": 5,
      "outputs": [
        {
          "output_type": "execute_result",
          "data": {
            "text/plain": [
              "democrat      267\n",
              "republican    168\n",
              "Name: Party, dtype: int64"
            ]
          },
          "metadata": {
            "tags": []
          },
          "execution_count": 5
        }
      ]
    },
    {
      "cell_type": "code",
      "metadata": {
        "id": "5ih7v4XLkUAA",
        "colab_type": "code",
        "outputId": "0a14ee65-a089-4f1d-9670-81e5e783b778",
        "colab": {
          "base_uri": "https://localhost:8080/",
          "height": 319
        }
      },
      "source": [
        "# Remove NaN values:\n",
        "house = house.dropna()\n",
        "\n",
        "# Check my work:\n",
        "house.isnull().sum()"
      ],
      "execution_count": 6,
      "outputs": [
        {
          "output_type": "execute_result",
          "data": {
            "text/plain": [
              "Party                   0\n",
              "Handicapped-Infants     0\n",
              "Water-Project           0\n",
              "Budget                  0\n",
              "Physician-Fee-Freeze    0\n",
              "El-Salvador-Aid         0\n",
              "Religious-Groups        0\n",
              "Anti-Satellite-Ban      0\n",
              "Aid-to-Contras          0\n",
              "Mx-Missile              0\n",
              "Immigration             0\n",
              "Synfuels                0\n",
              "Education               0\n",
              "Right-to-Sue            0\n",
              "Crime                   0\n",
              "Duty-Free               0\n",
              "South-Africa            0\n",
              "dtype: int64"
            ]
          },
          "metadata": {
            "tags": []
          },
          "execution_count": 6
        }
      ]
    },
    {
      "cell_type": "code",
      "metadata": {
        "id": "AP3hV6XBkUCc",
        "colab_type": "code",
        "outputId": "8a01a956-9782-486a-8e7d-ab1bb8b52c39",
        "colab": {
          "base_uri": "https://localhost:8080/",
          "height": 219
        }
      },
      "source": [
        "# Subset Democrat votes:\n",
        "dem = house[house['Party'] == 'democrat']\n",
        "\n",
        "# Subset Republican votes:\n",
        "rep = house[house['Party'] == 'republican']\n",
        "\n",
        "# Check my work:\n",
        "print (dem.sample(3))\n",
        "print (rep.sample(3))"
      ],
      "execution_count": 7,
      "outputs": [
        {
          "output_type": "stream",
          "text": [
            "        Party  Handicapped-Infants  ...  Duty-Free  South-Africa\n",
            "320  democrat                  0.0  ...        0.0           1.0\n",
            "139  democrat                  1.0  ...        1.0           1.0\n",
            "90   democrat                  1.0  ...        1.0           1.0\n",
            "\n",
            "[3 rows x 17 columns]\n",
            "          Party  Handicapped-Infants  ...  Duty-Free  South-Africa\n",
            "345  republican                  0.0  ...        1.0           1.0\n",
            "253  republican                  0.0  ...        0.0           1.0\n",
            "379  republican                  0.0  ...        0.0           1.0\n",
            "\n",
            "[3 rows x 17 columns]\n"
          ],
          "name": "stdout"
        }
      ]
    },
    {
      "cell_type": "markdown",
      "metadata": {
        "id": "4wpDf86QXh1A",
        "colab_type": "text"
      },
      "source": [
        "#### Part 1:\n",
        "Generate and numerically represent a confidence interval."
      ]
    },
    {
      "cell_type": "code",
      "metadata": {
        "id": "hWnpHkyQkT8f",
        "colab_type": "code",
        "colab": {
          "base_uri": "https://localhost:8080/",
          "height": 185
        },
        "outputId": "a6d4aae1-6954-4285-f99b-e23b24ff9099"
      },
      "source": [
        "# Value counts and means of votes on Aid-to-Contras:\n",
        "print (dem['Aid-to-Contras'].value_counts())\n",
        "print (rep['Aid-to-Contras'].value_counts())\n",
        "print ('')\n",
        "print ('Average of yes votes on Aid-to-Contras:')\n",
        "print ('Dems:', dem['Aid-to-Contras'].mean())\n",
        "print ('Reps', rep['Aid-to-Contras'].mean())"
      ],
      "execution_count": 8,
      "outputs": [
        {
          "output_type": "stream",
          "text": [
            "1.0    103\n",
            "0.0     21\n",
            "Name: Aid-to-Contras, dtype: int64\n",
            "0.0    92\n",
            "1.0    16\n",
            "Name: Aid-to-Contras, dtype: int64\n",
            "\n",
            "Average of yes votes on Aid-to-Contras:\n",
            "Dems: 0.8306451612903226\n",
            "Reps 0.14814814814814814\n"
          ],
          "name": "stdout"
        }
      ]
    },
    {
      "cell_type": "code",
      "metadata": {
        "id": "AnCdZ9W7kT5I",
        "colab_type": "code",
        "colab": {
          "base_uri": "https://localhost:8080/",
          "height": 34
        },
        "outputId": "82825471-1ba0-491b-eccc-f9b346f40e52"
      },
      "source": [
        "# Run ttest on Aid-to-Contras:\n",
        "ttest_ind(dem['Aid-to-Contras'], rep['Aid-to-Contras'])"
      ],
      "execution_count": 9,
      "outputs": [
        {
          "output_type": "execute_result",
          "data": {
            "text/plain": [
              "Ttest_indResult(statistic=14.107516419917083, pvalue=5.607962900152492e-33)"
            ]
          },
          "metadata": {
            "tags": []
          },
          "execution_count": 9
        }
      ]
    },
    {
      "cell_type": "markdown",
      "metadata": {
        "id": "HQWhFV1_qA-0",
        "colab_type": "text"
      },
      "source": [
        "- Based on a t-value of 14.107516419917083 and a p-value of ~0.00:\n",
        "  - I reject the Null Hypothesis and suggest the Alternate Hypothesis because there is a significant difference in the population between Democrats and Republicans on this bill."
      ]
    },
    {
      "cell_type": "code",
      "metadata": {
        "id": "j8m_E_WPq8cd",
        "colab_type": "code",
        "colab": {}
      },
      "source": [
        "# Create a function to calculate my confidence interval:\n",
        "def confidence_interval(data, confidence=0.95):\n",
        "    # Convert the data to an array.\n",
        "    data = np.array(data)\n",
        "    # The mean of the data.\n",
        "    mean = np.mean(data)\n",
        "    # Lenth of the sample data.\n",
        "    n = len(data)\n",
        "    # Standard Diviation error.\n",
        "    stderr = np.std(data, ddof=1)/np.sqrt(n)\n",
        "    # Margin of Error:\n",
        "    moe = stderr * stats.t.ppf((1 + confidence) / 2.0, n - 1) \n",
        "    # Returns the Mean, Lower Bound, Upper Bound.\n",
        "    return (mean, mean - moe, mean + moe)"
      ],
      "execution_count": 0,
      "outputs": []
    },
    {
      "cell_type": "code",
      "metadata": {
        "id": "4qfQ381k1gZm",
        "colab_type": "code",
        "outputId": "3a2a2a8f-0afc-40b5-9653-aa3e3c1fd095",
        "colab": {
          "base_uri": "https://localhost:8080/",
          "height": 168
        }
      },
      "source": [
        "# Look at the mean, lower bounds, and upper bounds seperately:\n",
        "mean, lower, upper = confidence_interval(dem['Aid-to-Contras'])\n",
        "print ('Democrats')\n",
        "print ('Mean: ', mean)\n",
        "print ('Lower Bounds: ', lower)\n",
        "print ('Upper Bounds: ', upper)\n",
        "print ('')\n",
        "mean, lower, upper = confidence_interval(rep['Aid-to-Contras'])\n",
        "print ('Republicans')\n",
        "print ('Mean: ', mean)\n",
        "print ('Lower Bounds: ', lower)\n",
        "print ('Upper Bounds: ', upper)"
      ],
      "execution_count": 11,
      "outputs": [
        {
          "output_type": "stream",
          "text": [
            "Democrats\n",
            "Mean:  0.8306451612903226\n",
            "Lower Bounds:  0.7637035637475735\n",
            "Upper Bounds:  0.8975867588330717\n",
            "\n",
            "Republicans\n",
            "Mean:  0.14814814814814814\n",
            "Lower Bounds:  0.08006715123831286\n",
            "Upper Bounds:  0.2162291450579834\n"
          ],
          "name": "stdout"
        }
      ]
    },
    {
      "cell_type": "code",
      "metadata": {
        "id": "2NizeUf2C-jM",
        "colab_type": "code",
        "colab": {
          "base_uri": "https://localhost:8080/",
          "height": 101
        },
        "outputId": "827ff78d-228f-4ebb-b56e-a52912ea16d9"
      },
      "source": [
        "# Find the margin of error:\n",
        "print ('Democrats:')\n",
        "print ('MOE: ', 0.8975867588330717 - 0.8306451612903226)\n",
        "print ('')\n",
        "print ('Republicans:')\n",
        "print ('MOE: ', 0.2162291450579834 - 0.14814814814814814)"
      ],
      "execution_count": 12,
      "outputs": [
        {
          "output_type": "stream",
          "text": [
            "Democrats:\n",
            "MOE:  0.06694159754274909\n",
            "\n",
            "Republicans:\n",
            "MOE:  0.06808099690983527\n"
          ],
          "name": "stdout"
        }
      ]
    },
    {
      "cell_type": "markdown",
      "metadata": {
        "id": "XGvY5oRAXqOC",
        "colab_type": "text"
      },
      "source": [
        "#### Part 2:\n",
        "Graphically (with a plot) represent the confidence interval."
      ]
    },
    {
      "cell_type": "code",
      "metadata": {
        "id": "atK8aZwQsvO5",
        "colab_type": "code",
        "colab": {
          "base_uri": "https://localhost:8080/",
          "height": 532
        },
        "outputId": "6f9239cd-2ad1-4906-a599-4552166e0909"
      },
      "source": [
        "# Plot my confidence interval for both the Democrat and Republican votes:\n",
        "# Create an empty figure:\n",
        "fig = []\n",
        "fig, (ax1, ax2) = plt.subplots(1, 2, sharey=True, figsize=(14, 8), facecolor='white')\n",
        "dem_aid = dem['Aid-to-Contras']\n",
        "rep_aid = rep['Aid-to-Contras']\n",
        "# Plot using a KDE plot:\n",
        "sns.kdeplot(dem_aid, ax=ax1)\n",
        "sns.kdeplot(rep_aid, ax=ax2)\n",
        "# Create a variable for my confidence intervals:\n",
        "CI1 = confidence_interval(dem['Aid-to-Contras'])\n",
        "CI2 = confidence_interval(rep['Aid-to-Contras'])\n",
        "# Plot my lower bounds:\n",
        "ax1.axvline(x=CI1[1], color='blue')\n",
        "ax2.axvline(x=CI2[1], color='blue')\n",
        "# Plot my sample means:\n",
        "ax1.axvline(x=CI1[0], color='black')\n",
        "ax2.axvline(x=CI2[0], color='black')\n",
        "# Plot my upper bounds:\n",
        "ax1.axvline(x=CI1[2], color='red')\n",
        "ax2.axvline(x=CI2[2], color='red')\n",
        "# Add titles to my plots:\n",
        "ax1.set_title('Democrat no(0)/yes(1) votes on Aid to Contras bill.\\nTested at a 95% confidence interval\\nwith a plus/minus ~6.7% MOE.',\n",
        "              fontsize=14)\n",
        "ax2.set_title('Republican no(0)/yes(1) votes on Aid to Contras bill.\\nTested at a 95% confidence interval\\nwith a plus/minus ~6.8% MOE.',\n",
        "              fontsize=14);"
      ],
      "execution_count": 13,
      "outputs": [
        {
          "output_type": "display_data",
          "data": {
            "image/png": "[encoded data removed]",
            "text/plain": [
              "<Figure size 1008x576 with 2 Axes>"
            ]
          },
          "metadata": {
            "tags": []
          }
        }
      ]
    },
    {
      "cell_type": "code",
      "metadata": {
        "id": "MDsVkf_oq8L_",
        "colab_type": "code",
        "colab": {
          "base_uri": "https://localhost:8080/",
          "height": 532
        },
        "outputId": "a2fb3bcc-d06d-4655-f408-df329b4363c4"
      },
      "source": [
        "# Plot using a histogram:\n",
        "# Create an empty figure:\n",
        "fig = []\n",
        "fig, (ax1, ax2) = plt.subplots(1, 2, sharey=True, figsize=(14, 8), facecolor='white')\n",
        "# Plot using a histogram:\n",
        "dem_aid.hist (bins=25, ax=ax1)\n",
        "rep_aid.hist (bins=25, ax=ax2)\n",
        "# Create a variable for my confidence intervals:\n",
        "CI1 = confidence_interval(dem['Aid-to-Contras'])\n",
        "CI2 = confidence_interval(rep['Aid-to-Contras'])\n",
        "# Plot my lower bounds:\n",
        "ax1.axvline(x=CI1[1], color='blue')\n",
        "ax2.axvline(x=CI2[1], color='blue')\n",
        "# Plot my sample means:\n",
        "ax1.axvline(x=CI1[0], color='black')\n",
        "ax2.axvline(x=CI2[0], color='black')\n",
        "# Plot my upper bounds:\n",
        "ax1.axvline(x=CI1[2], color='red')\n",
        "ax2.axvline(x=CI2[2], color='red')\n",
        "# Add titles to my plots:\n",
        "ax1.set_title('Democrat no(0)/yes(1) votes on Aid to Contras bill.\\nTested at a 95% confidence interval\\nwith a plus/minus ~6.7% MOE.',\n",
        "              fontsize=14)\n",
        "ax2.set_title('Republican no(0)/yes(1) votes on Aid to Contras bill.\\nTested at a 95% confidence interval\\nwith a plus/minus ~6.8% MOE.',\n",
        "              fontsize=14);"
      ],
      "execution_count": 14,
      "outputs": [
        {
          "output_type": "display_data",
          "data": {
            "image/png": "[encoded data removed]",
            "text/plain": [
              "<Figure size 1008x576 with 2 Axes>"
            ]
          },
          "metadata": {
            "tags": []
          }
        }
      ]
    },
    {
      "cell_type": "markdown",
      "metadata": {
        "id": "lU-NxLvcXvT7",
        "colab_type": "text"
      },
      "source": [
        "#### Part 3: \n",
        "Interpret the confidence interval - what does it tell you about the data and its distribution?"
      ]
    },
    {
      "cell_type": "markdown",
      "metadata": {
        "id": "duVoK4fCom6J",
        "colab_type": "text"
      },
      "source": [
        "- My findings of a yes vote on the Aid to Contras bill by Democrats and Republicans, based on a 95% confidence interval :\n",
        "  \n",
        "  - The probability that Democrats would vote yes on the Aid to Contras bill is 0.8306451612903226 (~ 83%) with a margin of error plus or minus 0.06694159754274909 (~ 6.7%). This tells me that it is very likely that the Democrats as a whole would vote yes on this bill.\n",
        "\n",
        "  - The probability that Republicans would vote yes on the Aid to Contras bill is 0.14814814814814814 (~ 14.8%) with a margin of error plus or minus 0.06808099690983527 (~ 6.8%). This tells me that it is very unlikely that the Republicans as a whole would vote yes on this bill."
      ]
    },
    {
      "cell_type": "markdown",
      "metadata": {
        "id": "-zA-WIntX5ft",
        "colab_type": "text"
      },
      "source": [
        "### Chi-squared tests:"
      ]
    },
    {
      "cell_type": "markdown",
      "metadata": {
        "id": "R0dc8eFAYs5V",
        "colab_type": "text"
      },
      "source": [
        "#### Part 4:\n",
        "Take a dataset that we have used in the past in class that has categorical variables. Pick two of those categorical variables and run a chi-squared tests on that data."
      ]
    },
    {
      "cell_type": "code",
      "metadata": {
        "id": "-k6VIStRq8GC",
        "colab_type": "code",
        "colab": {
          "base_uri": "https://localhost:8080/",
          "height": 398
        },
        "outputId": "f82fcb0c-e9a4-49f1-da60-27ae419636c7"
      },
      "source": [
        "# Read in the \"Adult\" dataset and replace \" ?\" with NaN:\n",
        "adult = pd.read_csv('https://raw.githubusercontent.com/ryanleeallred/datasets/master/adult.csv', na_values = ' ?')\n",
        "\n",
        "# Get the size and first 5 rows of the dataset:\n",
        "print (adult.shape)\n",
        "adult.head()"
      ],
      "execution_count": 15,
      "outputs": [
        {
          "output_type": "stream",
          "text": [
            "(32561, 15)\n"
          ],
          "name": "stdout"
        },
        {
          "output_type": "execute_result",
          "data": {
            "text/html": [
              "<div>\n",
              "<style scoped>\n",
              "    .dataframe tbody tr th:only-of-type {\n",
              "        vertical-align: middle;\n",
              "    }\n",
              "\n",
              "    .dataframe tbody tr th {\n",
              "        vertical-align: top;\n",
              "    }\n",
              "\n",
              "    .dataframe thead th {\n",
              "        text-align: right;\n",
              "    }\n",
              "</style>\n",
              "<table border=\"1\" class=\"dataframe\">\n",
              "  <thead>\n",
              "    <tr style=\"text-align: right;\">\n",
              "      <th></th>\n",
              "      <th>age</th>\n",
              "      <th>workclass</th>\n",
              "      <th>fnlwgt</th>\n",
              "      <th>education</th>\n",
              "      <th>education-num</th>\n",
              "      <th>marital-status</th>\n",
              "      <th>occupation</th>\n",
              "      <th>relationship</th>\n",
              "      <th>race</th>\n",
              "      <th>sex</th>\n",
              "      <th>capital-gain</th>\n",
              "      <th>capital-loss</th>\n",
              "      <th>hours-per-week</th>\n",
              "      <th>country</th>\n",
              "      <th>salary</th>\n",
              "    </tr>\n",
              "  </thead>\n",
              "  <tbody>\n",
              "    <tr>\n",
              "      <th>0</th>\n",
              "      <td>39</td>\n",
              "      <td>State-gov</td>\n",
              "      <td>77516</td>\n",
              "      <td>Bachelors</td>\n",
              "      <td>13</td>\n",
              "      <td>Never-married</td>\n",
              "      <td>Adm-clerical</td>\n",
              "      <td>Not-in-family</td>\n",
              "      <td>White</td>\n",
              "      <td>Male</td>\n",
              "      <td>2174</td>\n",
              "      <td>0</td>\n",
              "      <td>40</td>\n",
              "      <td>United-States</td>\n",
              "      <td>&lt;=50K</td>\n",
              "    </tr>\n",
              "    <tr>\n",
              "      <th>1</th>\n",
              "      <td>50</td>\n",
              "      <td>Self-emp-not-inc</td>\n",
              "      <td>83311</td>\n",
              "      <td>Bachelors</td>\n",
              "      <td>13</td>\n",
              "      <td>Married-civ-spouse</td>\n",
              "      <td>Exec-managerial</td>\n",
              "      <td>Husband</td>\n",
              "      <td>White</td>\n",
              "      <td>Male</td>\n",
              "      <td>0</td>\n",
              "      <td>0</td>\n",
              "      <td>13</td>\n",
              "      <td>United-States</td>\n",
              "      <td>&lt;=50K</td>\n",
              "    </tr>\n",
              "    <tr>\n",
              "      <th>2</th>\n",
              "      <td>38</td>\n",
              "      <td>Private</td>\n",
              "      <td>215646</td>\n",
              "      <td>HS-grad</td>\n",
              "      <td>9</td>\n",
              "      <td>Divorced</td>\n",
              "      <td>Handlers-cleaners</td>\n",
              "      <td>Not-in-family</td>\n",
              "      <td>White</td>\n",
              "      <td>Male</td>\n",
              "      <td>0</td>\n",
              "      <td>0</td>\n",
              "      <td>40</td>\n",
              "      <td>United-States</td>\n",
              "      <td>&lt;=50K</td>\n",
              "    </tr>\n",
              "    <tr>\n",
              "      <th>3</th>\n",
              "      <td>53</td>\n",
              "      <td>Private</td>\n",
              "      <td>234721</td>\n",
              "      <td>11th</td>\n",
              "      <td>7</td>\n",
              "      <td>Married-civ-spouse</td>\n",
              "      <td>Handlers-cleaners</td>\n",
              "      <td>Husband</td>\n",
              "      <td>Black</td>\n",
              "      <td>Male</td>\n",
              "      <td>0</td>\n",
              "      <td>0</td>\n",
              "      <td>40</td>\n",
              "      <td>United-States</td>\n",
              "      <td>&lt;=50K</td>\n",
              "    </tr>\n",
              "    <tr>\n",
              "      <th>4</th>\n",
              "      <td>28</td>\n",
              "      <td>Private</td>\n",
              "      <td>338409</td>\n",
              "      <td>Bachelors</td>\n",
              "      <td>13</td>\n",
              "      <td>Married-civ-spouse</td>\n",
              "      <td>Prof-specialty</td>\n",
              "      <td>Wife</td>\n",
              "      <td>Black</td>\n",
              "      <td>Female</td>\n",
              "      <td>0</td>\n",
              "      <td>0</td>\n",
              "      <td>40</td>\n",
              "      <td>Cuba</td>\n",
              "      <td>&lt;=50K</td>\n",
              "    </tr>\n",
              "  </tbody>\n",
              "</table>\n",
              "</div>"
            ],
            "text/plain": [
              "   age          workclass  fnlwgt  ... hours-per-week         country  salary\n",
              "0   39          State-gov   77516  ...             40   United-States   <=50K\n",
              "1   50   Self-emp-not-inc   83311  ...             13   United-States   <=50K\n",
              "2   38            Private  215646  ...             40   United-States   <=50K\n",
              "3   53            Private  234721  ...             40   United-States   <=50K\n",
              "4   28            Private  338409  ...             40            Cuba   <=50K\n",
              "\n",
              "[5 rows x 15 columns]"
            ]
          },
          "metadata": {
            "tags": []
          },
          "execution_count": 15
        }
      ]
    },
    {
      "cell_type": "code",
      "metadata": {
        "id": "Ntg1X5oDsB9a",
        "colab_type": "code",
        "colab": {
          "base_uri": "https://localhost:8080/",
          "height": 164
        },
        "outputId": "fcbecdea-6e03-4ed2-fb33-e57015f118fb"
      },
      "source": [
        "# Find the categorical varibles\n",
        "adult.describe(exclude='number')"
      ],
      "execution_count": 16,
      "outputs": [
        {
          "output_type": "execute_result",
          "data": {
            "text/html": [
              "<div>\n",
              "<style scoped>\n",
              "    .dataframe tbody tr th:only-of-type {\n",
              "        vertical-align: middle;\n",
              "    }\n",
              "\n",
              "    .dataframe tbody tr th {\n",
              "        vertical-align: top;\n",
              "    }\n",
              "\n",
              "    .dataframe thead th {\n",
              "        text-align: right;\n",
              "    }\n",
              "</style>\n",
              "<table border=\"1\" class=\"dataframe\">\n",
              "  <thead>\n",
              "    <tr style=\"text-align: right;\">\n",
              "      <th></th>\n",
              "      <th>workclass</th>\n",
              "      <th>education</th>\n",
              "      <th>marital-status</th>\n",
              "      <th>occupation</th>\n",
              "      <th>relationship</th>\n",
              "      <th>race</th>\n",
              "      <th>sex</th>\n",
              "      <th>country</th>\n",
              "      <th>salary</th>\n",
              "    </tr>\n",
              "  </thead>\n",
              "  <tbody>\n",
              "    <tr>\n",
              "      <th>count</th>\n",
              "      <td>30725</td>\n",
              "      <td>32561</td>\n",
              "      <td>32561</td>\n",
              "      <td>30718</td>\n",
              "      <td>32561</td>\n",
              "      <td>32561</td>\n",
              "      <td>32561</td>\n",
              "      <td>31978</td>\n",
              "      <td>32561</td>\n",
              "    </tr>\n",
              "    <tr>\n",
              "      <th>unique</th>\n",
              "      <td>8</td>\n",
              "      <td>16</td>\n",
              "      <td>7</td>\n",
              "      <td>14</td>\n",
              "      <td>6</td>\n",
              "      <td>5</td>\n",
              "      <td>2</td>\n",
              "      <td>41</td>\n",
              "      <td>2</td>\n",
              "    </tr>\n",
              "    <tr>\n",
              "      <th>top</th>\n",
              "      <td>Private</td>\n",
              "      <td>HS-grad</td>\n",
              "      <td>Married-civ-spouse</td>\n",
              "      <td>Prof-specialty</td>\n",
              "      <td>Husband</td>\n",
              "      <td>White</td>\n",
              "      <td>Male</td>\n",
              "      <td>United-States</td>\n",
              "      <td>&lt;=50K</td>\n",
              "    </tr>\n",
              "    <tr>\n",
              "      <th>freq</th>\n",
              "      <td>22696</td>\n",
              "      <td>10501</td>\n",
              "      <td>14976</td>\n",
              "      <td>4140</td>\n",
              "      <td>13193</td>\n",
              "      <td>27816</td>\n",
              "      <td>21790</td>\n",
              "      <td>29170</td>\n",
              "      <td>24720</td>\n",
              "    </tr>\n",
              "  </tbody>\n",
              "</table>\n",
              "</div>"
            ],
            "text/plain": [
              "       workclass education       marital-status  ...    sex         country  salary\n",
              "count      30725     32561                32561  ...  32561           31978   32561\n",
              "unique         8        16                    7  ...      2              41       2\n",
              "top      Private   HS-grad   Married-civ-spouse  ...   Male   United-States   <=50K\n",
              "freq       22696     10501                14976  ...  21790           29170   24720\n",
              "\n",
              "[4 rows x 9 columns]"
            ]
          },
          "metadata": {
            "tags": []
          },
          "execution_count": 16
        }
      ]
    },
    {
      "cell_type": "markdown",
      "metadata": {
        "id": "p3Y_DlQmY7uZ",
        "colab_type": "text"
      },
      "source": [
        "##### By hand using Numpy:\n",
        "\n",
        "I want to know if there is a relationship between the workclass and sex/gender of person in this sample dataset.\n",
        "  \n",
        "  - If there is a relationship, I will say that the variables are \"dependent\".\n",
        "\n",
        "  - If there is no relationship, I will say that the variables are \"independent\".\n",
        "  "
      ]
    },
    {
      "cell_type": "code",
      "metadata": {
        "id": "gXVq0_I7tyRF",
        "colab_type": "code",
        "colab": {
          "base_uri": "https://localhost:8080/",
          "height": 339
        },
        "outputId": "91e64023-e2aa-40b7-e6c1-fcdb75808d29"
      },
      "source": [
        "# Create a contingency table using crosstab to compare workclass and sex with \n",
        "#   column and row totals:\n",
        "obs_freq = pd.crosstab(adult['workclass'], adult['sex'], margins=True)\n",
        "obs_freq"
      ],
      "execution_count": 26,
      "outputs": [
        {
          "output_type": "execute_result",
          "data": {
            "text/html": [
              "<div>\n",
              "<style scoped>\n",
              "    .dataframe tbody tr th:only-of-type {\n",
              "        vertical-align: middle;\n",
              "    }\n",
              "\n",
              "    .dataframe tbody tr th {\n",
              "        vertical-align: top;\n",
              "    }\n",
              "\n",
              "    .dataframe thead th {\n",
              "        text-align: right;\n",
              "    }\n",
              "</style>\n",
              "<table border=\"1\" class=\"dataframe\">\n",
              "  <thead>\n",
              "    <tr style=\"text-align: right;\">\n",
              "      <th>sex</th>\n",
              "      <th>Female</th>\n",
              "      <th>Male</th>\n",
              "      <th>All</th>\n",
              "    </tr>\n",
              "    <tr>\n",
              "      <th>workclass</th>\n",
              "      <th></th>\n",
              "      <th></th>\n",
              "      <th></th>\n",
              "    </tr>\n",
              "  </thead>\n",
              "  <tbody>\n",
              "    <tr>\n",
              "      <th>Federal-gov</th>\n",
              "      <td>315</td>\n",
              "      <td>645</td>\n",
              "      <td>960</td>\n",
              "    </tr>\n",
              "    <tr>\n",
              "      <th>Local-gov</th>\n",
              "      <td>835</td>\n",
              "      <td>1258</td>\n",
              "      <td>2093</td>\n",
              "    </tr>\n",
              "    <tr>\n",
              "      <th>Never-worked</th>\n",
              "      <td>2</td>\n",
              "      <td>5</td>\n",
              "      <td>7</td>\n",
              "    </tr>\n",
              "    <tr>\n",
              "      <th>Private</th>\n",
              "      <td>7752</td>\n",
              "      <td>14944</td>\n",
              "      <td>22696</td>\n",
              "    </tr>\n",
              "    <tr>\n",
              "      <th>Self-emp-inc</th>\n",
              "      <td>135</td>\n",
              "      <td>981</td>\n",
              "      <td>1116</td>\n",
              "    </tr>\n",
              "    <tr>\n",
              "      <th>Self-emp-not-inc</th>\n",
              "      <td>399</td>\n",
              "      <td>2142</td>\n",
              "      <td>2541</td>\n",
              "    </tr>\n",
              "    <tr>\n",
              "      <th>State-gov</th>\n",
              "      <td>489</td>\n",
              "      <td>809</td>\n",
              "      <td>1298</td>\n",
              "    </tr>\n",
              "    <tr>\n",
              "      <th>Without-pay</th>\n",
              "      <td>5</td>\n",
              "      <td>9</td>\n",
              "      <td>14</td>\n",
              "    </tr>\n",
              "    <tr>\n",
              "      <th>All</th>\n",
              "      <td>9932</td>\n",
              "      <td>20793</td>\n",
              "      <td>30725</td>\n",
              "    </tr>\n",
              "  </tbody>\n",
              "</table>\n",
              "</div>"
            ],
            "text/plain": [
              "sex                 Female   Male    All\n",
              "workclass                               \n",
              " Federal-gov           315    645    960\n",
              " Local-gov             835   1258   2093\n",
              " Never-worked            2      5      7\n",
              " Private              7752  14944  22696\n",
              " Self-emp-inc          135    981   1116\n",
              " Self-emp-not-inc      399   2142   2541\n",
              " State-gov             489    809   1298\n",
              " Without-pay             5      9     14\n",
              "All                   9932  20793  30725"
            ]
          },
          "metadata": {
            "tags": []
          },
          "execution_count": 26
        }
      ]
    },
    {
      "cell_type": "code",
      "metadata": {
        "id": "JV7IRhJjsX6Z",
        "colab_type": "code",
        "colab": {
          "base_uri": "https://localhost:8080/",
          "height": 151
        },
        "outputId": "c2b792e4-41d4-4b26-9d9a-61d058ff18b3"
      },
      "source": [
        "# Create a contingency table:\n",
        "observed = pd.crosstab(adult['workclass'], adult['sex'])\n",
        "\n",
        "# Need to make it a np.array:\n",
        "observed = observed.values\n",
        "observed"
      ],
      "execution_count": 27,
      "outputs": [
        {
          "output_type": "execute_result",
          "data": {
            "text/plain": [
              "array([[  315,   645],\n",
              "       [  835,  1258],\n",
              "       [    2,     5],\n",
              "       [ 7752, 14944],\n",
              "       [  135,   981],\n",
              "       [  399,  2142],\n",
              "       [  489,   809],\n",
              "       [    5,     9]])"
            ]
          },
          "metadata": {
            "tags": []
          },
          "execution_count": 27
        }
      ]
    },
    {
      "cell_type": "code",
      "metadata": {
        "id": "0hTZr8a6vEkk",
        "colab_type": "code",
        "colab": {
          "base_uri": "https://localhost:8080/",
          "height": 34
        },
        "outputId": "7001caef-f313-4ce0-d1dc-db1d04e90f3e"
      },
      "source": [
        "# Create an expected value table of row totals as a np.array:\n",
        "row_sums = obs_freq.iloc[0:8, 2:].values\n",
        "\n",
        "# Reshape to a 1-d array:\n",
        "row_sums = row_sums.T[0]\n",
        "row_sums"
      ],
      "execution_count": 29,
      "outputs": [
        {
          "output_type": "execute_result",
          "data": {
            "text/plain": [
              "array([  960,  2093,     7, 22696,  1116,  2541,  1298,    14])"
            ]
          },
          "metadata": {
            "tags": []
          },
          "execution_count": 29
        }
      ]
    },
    {
      "cell_type": "code",
      "metadata": {
        "id": "1E7U7XMTvEfd",
        "colab_type": "code",
        "colab": {
          "base_uri": "https://localhost:8080/",
          "height": 34
        },
        "outputId": "406c408a-11a4-4cf8-d2f4-c356608a47ac"
      },
      "source": [
        "# Create an expected value table of column totals as a np.array:\n",
        "col_sums = obs_freq.iloc[8:, 0:2].values\n",
        "\n",
        "# Reshape to a 1-d array:\n",
        "col_sums = col_sums[0]\n",
        "col_sums"
      ],
      "execution_count": 31,
      "outputs": [
        {
          "output_type": "execute_result",
          "data": {
            "text/plain": [
              "array([ 9932, 20793])"
            ]
          },
          "metadata": {
            "tags": []
          },
          "execution_count": 31
        }
      ]
    },
    {
      "cell_type": "code",
      "metadata": {
        "id": "dZTT2ccyvEbU",
        "colab_type": "code",
        "colab": {
          "base_uri": "https://localhost:8080/",
          "height": 34
        },
        "outputId": "b387c11b-e28e-4f1d-e296-1173c5ddda81"
      },
      "source": [
        "# Create a np.array for the total observations of the sample size:\n",
        "samp_sum = adult.shape[0]\n",
        "samp_sum"
      ],
      "execution_count": 32,
      "outputs": [
        {
          "output_type": "execute_result",
          "data": {
            "text/plain": [
              "32561"
            ]
          },
          "metadata": {
            "tags": []
          },
          "execution_count": 32
        }
      ]
    },
    {
      "cell_type": "code",
      "metadata": {
        "id": "bJn-_38qvEP6",
        "colab_type": "code",
        "colab": {
          "base_uri": "https://localhost:8080/",
          "height": 168
        },
        "outputId": "f4c3f5bf-0a06-49db-8028-6b959a4850c1"
      },
      "source": [
        "# Create a for loop to get the expected values if the Null Hypothesis were true:\n",
        "# Create an empty list for the data:\n",
        "expected = []\n",
        "# Create my for loop:\n",
        "for i in range(len(row_sums)):\n",
        "  expected_row = []\n",
        "  for column in col_sums:\n",
        "    expected_val = row_sums[i]*column/samp_sum \n",
        "    expected_row.append(expected_val)\n",
        "  expected.append(expected_row)\n",
        "\n",
        "# Make into a np.array:\n",
        "expected = np.array(expected)\n",
        "print (expected.shape)\n",
        "print (expected)"
      ],
      "execution_count": 34,
      "outputs": [
        {
          "output_type": "stream",
          "text": [
            "(8, 2)\n",
            "[[2.92826387e+02 6.13042597e+02]\n",
            " [6.38422530e+02 1.33656058e+03]\n",
            " [2.13519241e+00 4.47010227e+00]\n",
            " [6.92290384e+03 1.44933487e+04]\n",
            " [3.40410675e+02 7.12662019e+02]\n",
            " [7.75074844e+02 1.62264712e+03]\n",
            " [3.95925678e+02 8.28884678e+02]\n",
            " [4.27038482e+00 8.94020454e+00]]\n"
          ],
          "name": "stdout"
        }
      ]
    },
    {
      "cell_type": "code",
      "metadata": {
        "id": "ljzjo_xb5aIK",
        "colab_type": "code",
        "colab": {
          "base_uri": "https://localhost:8080/",
          "height": 34
        },
        "outputId": "934a7625-0076-4fbb-d753-efc8ff3c71f1"
      },
      "source": [
        "# Calculate the degrees of freedom (rows - 1) * (cols - 1):\n",
        "dof = 7 * 1\n",
        "dof"
      ],
      "execution_count": 35,
      "outputs": [
        {
          "output_type": "execute_result",
          "data": {
            "text/plain": [
              "7"
            ]
          },
          "metadata": {
            "tags": []
          },
          "execution_count": 35
        }
      ]
    },
    {
      "cell_type": "code",
      "metadata": {
        "id": "IpqXquuD6Vf7",
        "colab_type": "code",
        "colab": {
          "base_uri": "https://localhost:8080/",
          "height": 34
        },
        "outputId": "688b2b2b-7816-4b9f-f772-448ad68186d0"
      },
      "source": [
        "# Calculate the chi^2 statistic:\n",
        "chi2 = ((observed-expected)**2 / expected).sum()\n",
        "chi2"
      ],
      "execution_count": 38,
      "outputs": [
        {
          "output_type": "execute_result",
          "data": {
            "text/plain": [
              "778.0389114565598"
            ]
          },
          "metadata": {
            "tags": []
          },
          "execution_count": 38
        }
      ]
    },
    {
      "cell_type": "markdown",
      "metadata": {
        "id": "EwJIicTlbxwP",
        "colab_type": "text"
      },
      "source": [
        "##### In a single line using Scipy:"
      ]
    },
    {
      "cell_type": "code",
      "metadata": {
        "id": "pkUSOyxG7ksz",
        "colab_type": "code",
        "colab": {
          "base_uri": "https://localhost:8080/",
          "height": 219
        },
        "outputId": "b5440fbd-0507-464f-84c0-6d1b2d741e7c"
      },
      "source": [
        "# Check my work by using chi^2 contingency from scipy:\n",
        "chi2, p_value, dof, expected = stats.chi2_contingency(observed)\n",
        "\n",
        "# Print all of these to check my work:\n",
        "print ('chi2 value: ', chi2)\n",
        "print ('P-Value: ', p_value)\n",
        "print ('DOF: ', dof)\n",
        "print ('Expected Values:')\n",
        "print (expected)"
      ],
      "execution_count": 39,
      "outputs": [
        {
          "output_type": "stream",
          "text": [
            "chi2 value:  636.4799145064011\n",
            "P-Value:  3.379617448830285e-133\n",
            "DOF:  7\n",
            "Expected Values:\n",
            "[[3.10324491e+02 6.49675509e+02]\n",
            " [6.76572042e+02 1.41642796e+03]\n",
            " [2.26278275e+00 4.73721725e+00]\n",
            " [7.33658819e+03 1.53594118e+04]\n",
            " [3.60752221e+02 7.55247779e+02]\n",
            " [8.21390138e+02 1.71960986e+03]\n",
            " [4.19584573e+02 8.78415427e+02]\n",
            " [4.52556550e+00 9.47443450e+00]]\n"
          ],
          "name": "stdout"
        }
      ]
    },
    {
      "cell_type": "markdown",
      "metadata": {
        "id": "4ohsJhQUmEuS",
        "colab_type": "text"
      },
      "source": [
        "## Stretch goals:\n",
        "\n",
        "1. Write a summary of your findings, mixing prose and math/code/results. *Note* - yes, this is by definition a political topic. It is challenging but important to keep your writing voice *neutral* and stick to the facts of the data. Data science often involves considering controversial issues, so it's important to be sensitive about them (especially if you want to publish).\n",
        "2. Apply the techniques you learned today to your project data or other data of your choice, and write/discuss your findings here.\n",
        "3. Refactor your code so it is elegant, readable, and can be easily run for all issues."
      ]
    },
    {
      "cell_type": "markdown",
      "metadata": {
        "id": "SqNl_Bs4Xis3",
        "colab_type": "text"
      },
      "source": [
        "#### Part 1:\n",
        "\n",
        "Write a summary of your findings, mixing prose and math/code/results. Note - yes, this is by definition a political topic. It is challenging but important to keep your writing voice neutral and stick to the facts of the data. Data science often involves considering controversial issues, so it's important to be sensitive about them (especially if you want to publish)."
      ]
    },
    {
      "cell_type": "markdown",
      "metadata": {
        "id": "VSmpnFRj5CGc",
        "colab_type": "text"
      },
      "source": [
        "##### My Reuslts:\n",
        "\n",
        "I was curious as to what the yes votes were compared to the no votes on the Aid to Contras bill in 1984. I wanted to see what the difference was between the way the Democrats voted vs how the Republicans voted. I also wanted to see, based on this being just a sample, what how confident I could be that one or the other would vote yes on the bill.\n",
        "\n",
        "First I had to get the data from the UCI website and laod it into my Colab notebook. I had to also add the headers of the columns as per the UCI website. Then it was time to clean my data. \n",
        "\n",
        "In order to make my data usable for the testing I planned on using, I remapped the \"?\" entries with NaN values. Next I had to remove thoses NaN values in order to run my hypothesis testing. I also had to subset out the dataset to seperate the Democrat and Republican votes. I needed to change the y's to 1's and n's to 0's to give me binary values because I could not run my tests with strings.\n",
        "\n",
        "The hypothesis testing that I used included:\n",
        "  - Getting the count of the frequency of how many times each party voted on this particular bill.\n",
        "  - I got the mean (average) of yes and no votes for each party to get a good idea of who voted yes more times. The mean is calculated by taking the sum of the yes votes and dividing that by the total of all votes for that party.\n",
        "  - I ran a t-test to determine if the Null Hypothesis held up according to the p-value. My findings are:\n",
        "    - Based on a t-value of 14.107516419917083 and a p-value of ~0.00:\n",
        "    - I reject the Null Hypothesis and suggest the Alternate Hypothesis because there is a significant difference in the population between Democrats and Republicans on this bill.\n",
        "  - I then ran a Confidence Interval test to find out if I could be at least 95% confident that the democrats as a whole would vote mostly yes on this bill, had this been random sample data. My findings are:\n",
        "    - Based on a 95% confidence interval:\n",
        "    - The probability that Democrats would vote yes on the Aid to Contras bill is 0.8306451612903226 (~ 83%) with a margin of error plus or minus 0.06694159754274909 (~ 6.7%). This tells me that it is very likely that the Democrats as a whole would vote yes on this bill.\n",
        "    - The probability that Republicans would vote yes on the Aid to Contras bill is 0.14814814814814814 (~ 14.8%) with a margin of error plus or minus 0.06808099690983527 (~ 6.8%). This tells me that it is very unlikely that the Republicans as a whole would vote yes on this bill.\n",
        "  - The final hypothesis test I ran was the margin of error (MOE) to determine how much room there would be for error in my predictions of how the population as a whole would vote. In order to determing the MOE, I had to substract the mean from the upper limit.\n",
        "\n",
        "After I ran all of my hypothesis testing, I created two visualization to better view my findings:\n",
        "\n",
        "This first one was using a KDE plot within a subplot so I could create a visual comparison of the different ways that each party voted, side by side. I also included the lower limit, mean, and upper limit for each party based on my confidence interval.\n",
        "\n",
        "![Subploted KDE](data:image/png;base64,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)\n",
        "\n",
        "The second one show the differences using a bar chart within a subplot. I included the lower limit, mean, and upper limit for each party based on my confidence interval.\n",
        "\n",
        "![Subploted Bar Chart](data:image/png;base64,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)\n",
        "\n",
        "In conclusion, based on my findings, I strongly believe the Democrats as a whole would be very likely to vote yes on this bill."
      ]
    },
    {
      "cell_type": "markdown",
      "metadata": {
        "id": "6yZi3CXYXigw",
        "colab_type": "text"
      },
      "source": [
        "#### Part 2:\n",
        "\n",
        "Apply the techniques you learned today to your project data or other data of your choice, and write/discuss your findings here."
      ]
    },
    {
      "cell_type": "code",
      "metadata": {
        "id": "cxAZAaPXDNhv",
        "colab_type": "code",
        "colab": {}
      },
      "source": [
        ""
      ],
      "execution_count": 0,
      "outputs": []
    },
    {
      "cell_type": "markdown",
      "metadata": {
        "id": "jEOKt8DMXiVK",
        "colab_type": "text"
      },
      "source": [
        "#### Part 3:\n",
        "\n",
        "Refactor your code so it is elegant, readable, and can be easily run for all issues."
      ]
    },
    {
      "cell_type": "markdown",
      "metadata": {
        "id": "nyJ3ySr7R2k9",
        "colab_type": "text"
      },
      "source": [
        "## Resources\n",
        "\n",
        "- [Interactive visualize the Chi-Squared test](https://homepage.divms.uiowa.edu/~mbognar/applets/chisq.html)\n",
        "- [Calculation of Chi-Squared test statistic](https://en.wikipedia.org/wiki/Pearson%27s_chi-squared_test)\n",
        "- [Visualization of a confidence interval generated by R code](https://commons.wikimedia.org/wiki/File:Confidence-interval.svg)\n",
        "- [Expected value of a squared standard normal](https://math.stackexchange.com/questions/264061/expected-value-calculation-for-squared-normal-distribution) (it's 1 - which is why the expected value of a Chi-Squared with $n$ degrees of freedom is $n$, as it's the sum of $n$ squared standard normals)"
      ]
    }
  ]
}