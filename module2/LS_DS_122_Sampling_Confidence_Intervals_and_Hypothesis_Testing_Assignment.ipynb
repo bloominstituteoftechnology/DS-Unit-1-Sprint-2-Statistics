{
  "nbformat": 4,
  "nbformat_minor": 0,
  "metadata": {
    "colab": {
      "name": "LS_DS_122_Sampling_Confidence_Intervals_and_Hypothesis_Testing_Assignment.ipynb",
      "provenance": [],
      "collapsed_sections": []
    },
    "kernelspec": {
      "name": "python3",
      "display_name": "Python 3"
    }
  },
  "cells": [
    {
      "cell_type": "markdown",
      "metadata": {
        "id": "11OzdxWTM7UR",
        "colab_type": "text"
      },
      "source": [
        "## Assignment - Build a confidence interval\n",
        "\n",
        "A confidence interval refers to a neighborhood around some point estimate, the size of which is determined by the desired p-value. For instance, we might say that 52% of Americans prefer tacos to burritos, with a 95% confidence interval of +/- 5%.\n",
        "\n",
        "52% (0.52) is the point estimate, and +/- 5% (the interval $[0.47, 0.57]$) is the confidence interval. \"95% confidence\" means a p-value $\\leq 1 - 0.95 = 0.05$.\n",
        "\n",
        "In this case, the confidence interval includes $0.5$ - which is the natural null hypothesis (that half of Americans prefer tacos and half burritos, thus there is no clear favorite). So in this case, we could use the confidence interval to report that we've failed to reject the null hypothesis.\n",
        "\n",
        "But providing the full analysis with a confidence interval, including a graphical representation of it, can be a helpful and powerful way to tell your story. Done well, it is also more intuitive to a layperson than simply saying \"fail to reject the null hypothesis\" - it shows that in fact the data does *not* give a single clear result (the point estimate) but a whole range of possibilities.\n",
        "\n",
        "How is a confidence interval built, and how should it be interpreted? It does *not* mean that 95% of the data lies in that interval - instead, the frequentist interpretation is \"if we were to repeat this experiment 100 times, we would expect the average result to lie in this interval ~95 times.\"\n",
        "\n",
        "For a 95% confidence interval and a normal(-ish) distribution, you can simply remember that +/-2 standard deviations contains 95% of the probability mass, and so the 95% confidence interval based on a given sample is centered at the mean (point estimate) and has a range of +/- 2 (or technically 1.96) standard deviations.\n",
        "\n",
        "Different distributions/assumptions (90% confidence, 99% confidence) will require different math, but the overall process and interpretation (with a frequentist approach) will be the same.\n",
        "\n",
        "Your assignment - using the data from the prior module ([congressional voting records](https://archive.ics.uci.edu/ml/datasets/Congressional+Voting+Records)):\n",
        "\n",
        "\n",
        "### Confidence Intervals:\n",
        "1. Generate and numerically represent a confidence interval\n",
        "2. Graphically (with a plot) represent the confidence interval\n",
        "3. Interpret the confidence interval - what does it tell you about the data and its distribution?\n",
        "\n",
        "### Chi-squared tests:\n",
        "4. Take a dataset that we have used in the past in class that has **categorical** variables. Pick two of those categorical variables and run a chi-squared tests on that data\n",
        "  - By hand using Numpy\n",
        "  - In a single line using Scipy\n"
      ]
    },
    {
      "cell_type": "code",
      "metadata": {
        "id": "Ckcr4A4FM7cs",
        "colab_type": "code",
        "colab": {}
      },
      "source": [
        "# Imports\n",
        "from statistics import *\n",
        "import pandas as pd\n",
        "import numpy as np\n",
        "from scipy.stats import t, ttest_1samp, chi2_contingency\n",
        "import matplotlib.pyplot as plt\n",
        "import seaborn as sns"
      ],
      "execution_count": 0,
      "outputs": []
    },
    {
      "cell_type": "code",
      "metadata": {
        "id": "xvEjszgS0KYa",
        "colab_type": "code",
        "colab": {}
      },
      "source": [
        "# Specify the columns for the UCI dataset\n",
        "cols = [\n",
        "    'party',\n",
        "    'handicapped-infants',\n",
        "    'water-project',\n",
        "    'budget',\n",
        "    'physician-fee-freeze',\n",
        "    'el-salvador-aid',\n",
        "    'religious-groups',\n",
        "    'anti-satellite-ban',\n",
        "    'aid-to-contras',\n",
        "    'mx-missile',\n",
        "    'immigration',\n",
        "    'synfuels',\n",
        "    'education',\n",
        "    'right-to-sue',\n",
        "    'crime',\n",
        "    'duty-free',\n",
        "    'south-africa',\n",
        "    ]\n",
        "\n",
        "\n",
        "# Assign the url string to a variable\n",
        "url = 'https://archive.ics.uci.edu/ml/machine-learning-databases/voting-records/house-votes-84.data'\n",
        "\n",
        "# Fetch the csv data assuming no header row in the data\"\n",
        "#   1. assign the column names specified above\n",
        "#   2. replace '?' with NaN values\n",
        "df_house = pd.read_csv(url, header=None, names=cols, na_values='?')\n",
        "\n",
        "# Translate 'y' and 'n' votes to numeric '1' and'0'\n",
        "df_house = df_house.replace({'y': 1, 'n': 0})\n"
      ],
      "execution_count": 0,
      "outputs": []
    },
    {
      "cell_type": "code",
      "metadata": {
        "id": "VortYe8rwwZN",
        "colab_type": "code",
        "colab": {
          "base_uri": "https://localhost:8080/",
          "height": 289
        },
        "outputId": "05fd33eb-10fa-4370-8fed-bd938f20d942"
      },
      "source": [
        "# Calculate the mean vote for each issue across the house\n",
        "dct_vote_means = {}\n",
        "for i in range(1, len(cols)):\n",
        "  # Grab the vote data into a series\n",
        "  seris_tmp = df_house[cols[i]]\n",
        "\n",
        "  # Remove nas from the series\n",
        "  seris_tmp = seris_tmp.dropna()\n",
        "\n",
        "  # Assign the \"mean\" vote to a dict for use downstream\n",
        "  dct_vote_means[cols[i]] = seris_tmp.mean()\n",
        "\n",
        "dct_vote_means"
      ],
      "execution_count": 84,
      "outputs": [
        {
          "output_type": "execute_result",
          "data": {
            "text/plain": [
              "{'aid-to-contras': 0.5761904761904761,\n",
              " 'anti-satellite-ban': 0.5676959619952494,\n",
              " 'budget': 0.5966981132075472,\n",
              " 'crime': 0.5933014354066986,\n",
              " 'duty-free': 0.4275184275184275,\n",
              " 'education': 0.42326732673267325,\n",
              " 'el-salvador-aid': 0.5047619047619047,\n",
              " 'handicapped-infants': 0.44208037825059104,\n",
              " 'immigration': 0.5046728971962616,\n",
              " 'mx-missile': 0.5012106537530266,\n",
              " 'physician-fee-freeze': 0.41745283018867924,\n",
              " 'religious-groups': 0.6415094339622641,\n",
              " 'right-to-sue': 0.5097560975609756,\n",
              " 'south-africa': 0.8126888217522659,\n",
              " 'synfuels': 0.36231884057971014,\n",
              " 'water-project': 0.5038759689922481}"
            ]
          },
          "metadata": {
            "tags": []
          },
          "execution_count": 84
        }
      ]
    },
    {
      "cell_type": "code",
      "metadata": {
        "id": "Y-xMmQkokHBH",
        "colab_type": "code",
        "colab": {}
      },
      "source": [
        "# Set up some \"constants\"\n",
        "num_samples     = 10\n",
        "num_sample_size = 20"
      ],
      "execution_count": 0,
      "outputs": []
    },
    {
      "cell_type": "code",
      "metadata": {
        "id": "76NTnWNU2gSt",
        "colab_type": "code",
        "colab": {}
      },
      "source": [
        "# sample_me returns a list of means of house vote samples for use downstream\n",
        "#    issue: the issue being voted on\n",
        "#    num: number of samples to be taken\n",
        "#    size: sample size (# of votes in sample)\n",
        "def sample_me(issue, num, size):\n",
        "  # Set up working variables\n",
        "  rt_list = [] # return a list of means\n",
        "\n",
        "  # Generate a series of the issue's votes\n",
        "  srs_tmp = df_house[issue]\n",
        "  # Drop nas from the series votes\n",
        "  srs_tmp = srs_tmp.dropna()\n",
        "\n",
        "  # Number of votes on this issue\n",
        "  tot_vts = len(srs_tmp)\n",
        "\n",
        "  # Iterate to create 'num' sample means\n",
        "  for i in range(1, num+1):\n",
        "    # Randomly select a sample of 'size'\n",
        "    smpl_iter = srs_tmp.sample(n=size)\n",
        "\n",
        "    # Generate the mean of the sample\n",
        "    tmp_mean = smpl_iter.mean()\n",
        "\n",
        "    # Add the mean to our return list\n",
        "    rt_list.append(tmp_mean)\n",
        "  \n",
        "  # Return the temp series and list of sample means\n",
        "  return {\"means\": rt_list, \"series\": srs_tmp}\n",
        "   "
      ],
      "execution_count": 0,
      "outputs": []
    },
    {
      "cell_type": "code",
      "metadata": {
        "id": "84aSlICW-I9I",
        "colab_type": "code",
        "colab": {}
      },
      "source": [
        "# gen_conf_intvls generates a confidence interval for a house issue generating 'num_samples' samples each with a sample size of 'num_sample_size'\n",
        "def gen_conf_intvls(issue):\n",
        "  # Generate 10 samples of 20 votes of issue 'issue'\n",
        "  rslts_sample = sample_me(issue, num_samples, num_sample_size)\n",
        "\n",
        "  tmp_means = rslts_sample[\"means\"]\n",
        "  # Determine the sample size\n",
        "  n = len(tmp_means)\n",
        "\n",
        "  # Determine the 'degrees of freedom'\n",
        "  dof = n - 1\n",
        "\n",
        "  # Calculate the mean of the sample means\n",
        "  sample_mean = mean(tmp_means)\n",
        "\n",
        "  # Calculate the standard deviation of the sample means\n",
        "  sample_std = np.std(tmp_means, ddof=1)\n",
        "\n",
        "  # Calclate the standard error of the sample means\n",
        "  sample_std_err = sample_std/(n**.5)\n",
        "\n",
        "  # Generate the confidence interval\n",
        "  conf_int = t.interval(.95, dof, loc=sample_mean, scale=sample_std_err)\n",
        "\n",
        "  # Return output\n",
        "  return {\"lower\": conf_int[0], \"mean\": sample_mean, \"upper\": conf_int[1], \"list_means\": tmp_means}\n"
      ],
      "execution_count": 0,
      "outputs": []
    },
    {
      "cell_type": "code",
      "metadata": {
        "id": "KbCwbIpYCygH",
        "colab_type": "code",
        "colab": {}
      },
      "source": [
        "# Iterate through our issues\n",
        "lst_datfrm = []     # list of issue confidence intervals\n",
        "\n",
        "for i in range(1, len(cols)):\n",
        "  # Generate the confidence interval \n",
        "  tmp_rslts = gen_conf_intvls(cols[i])\n",
        "\n",
        "  # Construct a dataframe row for use downstream\n",
        "\n",
        "  # Start with adding the issue, CI lower bound, mean, and CI upper bound\n",
        "  tmp_row = [cols[i], tmp_rslts[\"lower\"], tmp_rslts[\"mean\"], tmp_rslts[\"upper\"]]\n",
        "\n",
        "  # Then add the sample means\n",
        "  for i in range(0, len(tmp_rslts[\"list_means\"])):\n",
        "    tmp_row.append(tmp_rslts[\"list_means\"][i])\n",
        "\n",
        "  # Append to a working list of rows which will (ultimately) make up our dataframe\n",
        "  lst_datfrm.append(tmp_row) \n"
      ],
      "execution_count": 0,
      "outputs": []
    },
    {
      "cell_type": "code",
      "metadata": {
        "id": "g11T14MNbsoe",
        "colab_type": "code",
        "colab": {}
      },
      "source": [
        "# Create a dataframe of confidence interval results\n",
        "\n",
        "# Construct a list of column names\n",
        "df_cols = ['Issue', 'LowerBound', 'Mean', 'UpperBound']\n",
        "for i in range(1, num_samples+1):\n",
        "  df_cols.append(int(i))\n",
        "\n",
        "# Create a dataframe that includes the confidence interval, mean, and sample means for each issue\n",
        "df_issue_CIs = pd.DataFrame(lst_datfrm, columns=df_cols)"
      ],
      "execution_count": 0,
      "outputs": []
    },
    {
      "cell_type": "code",
      "metadata": {
        "id": "pOGqapl9pMzI",
        "colab_type": "code",
        "colab": {
          "base_uri": "https://localhost:8080/",
          "height": 545
        },
        "outputId": "d72ad981-b5c7-4601-d4aa-ee511027e316"
      },
      "source": [
        "df_issue_CIs"
      ],
      "execution_count": 90,
      "outputs": [
        {
          "output_type": "execute_result",
          "data": {
            "text/html": [
              "<div>\n",
              "<style scoped>\n",
              "    .dataframe tbody tr th:only-of-type {\n",
              "        vertical-align: middle;\n",
              "    }\n",
              "\n",
              "    .dataframe tbody tr th {\n",
              "        vertical-align: top;\n",
              "    }\n",
              "\n",
              "    .dataframe thead th {\n",
              "        text-align: right;\n",
              "    }\n",
              "</style>\n",
              "<table border=\"1\" class=\"dataframe\">\n",
              "  <thead>\n",
              "    <tr style=\"text-align: right;\">\n",
              "      <th></th>\n",
              "      <th>Issue</th>\n",
              "      <th>LowerBound</th>\n",
              "      <th>Mean</th>\n",
              "      <th>UpperBound</th>\n",
              "      <th>1</th>\n",
              "      <th>2</th>\n",
              "      <th>3</th>\n",
              "      <th>4</th>\n",
              "      <th>5</th>\n",
              "      <th>6</th>\n",
              "      <th>7</th>\n",
              "      <th>8</th>\n",
              "      <th>9</th>\n",
              "      <th>10</th>\n",
              "    </tr>\n",
              "  </thead>\n",
              "  <tbody>\n",
              "    <tr>\n",
              "      <th>0</th>\n",
              "      <td>handicapped-infants</td>\n",
              "      <td>0.380906</td>\n",
              "      <td>0.445</td>\n",
              "      <td>0.509094</td>\n",
              "      <td>0.45</td>\n",
              "      <td>0.45</td>\n",
              "      <td>0.40</td>\n",
              "      <td>0.35</td>\n",
              "      <td>0.60</td>\n",
              "      <td>0.40</td>\n",
              "      <td>0.55</td>\n",
              "      <td>0.30</td>\n",
              "      <td>0.45</td>\n",
              "      <td>0.50</td>\n",
              "    </tr>\n",
              "    <tr>\n",
              "      <th>1</th>\n",
              "      <td>water-project</td>\n",
              "      <td>0.406121</td>\n",
              "      <td>0.500</td>\n",
              "      <td>0.593879</td>\n",
              "      <td>0.70</td>\n",
              "      <td>0.65</td>\n",
              "      <td>0.60</td>\n",
              "      <td>0.50</td>\n",
              "      <td>0.45</td>\n",
              "      <td>0.45</td>\n",
              "      <td>0.35</td>\n",
              "      <td>0.60</td>\n",
              "      <td>0.35</td>\n",
              "      <td>0.35</td>\n",
              "    </tr>\n",
              "    <tr>\n",
              "      <th>2</th>\n",
              "      <td>budget</td>\n",
              "      <td>0.571018</td>\n",
              "      <td>0.625</td>\n",
              "      <td>0.678982</td>\n",
              "      <td>0.55</td>\n",
              "      <td>0.55</td>\n",
              "      <td>0.60</td>\n",
              "      <td>0.55</td>\n",
              "      <td>0.75</td>\n",
              "      <td>0.70</td>\n",
              "      <td>0.70</td>\n",
              "      <td>0.65</td>\n",
              "      <td>0.65</td>\n",
              "      <td>0.55</td>\n",
              "    </tr>\n",
              "    <tr>\n",
              "      <th>3</th>\n",
              "      <td>physician-fee-freeze</td>\n",
              "      <td>0.284321</td>\n",
              "      <td>0.380</td>\n",
              "      <td>0.475679</td>\n",
              "      <td>0.30</td>\n",
              "      <td>0.35</td>\n",
              "      <td>0.55</td>\n",
              "      <td>0.30</td>\n",
              "      <td>0.45</td>\n",
              "      <td>0.45</td>\n",
              "      <td>0.60</td>\n",
              "      <td>0.35</td>\n",
              "      <td>0.30</td>\n",
              "      <td>0.15</td>\n",
              "    </tr>\n",
              "    <tr>\n",
              "      <th>4</th>\n",
              "      <td>el-salvador-aid</td>\n",
              "      <td>0.377774</td>\n",
              "      <td>0.475</td>\n",
              "      <td>0.572226</td>\n",
              "      <td>0.45</td>\n",
              "      <td>0.50</td>\n",
              "      <td>0.50</td>\n",
              "      <td>0.70</td>\n",
              "      <td>0.65</td>\n",
              "      <td>0.35</td>\n",
              "      <td>0.30</td>\n",
              "      <td>0.45</td>\n",
              "      <td>0.55</td>\n",
              "      <td>0.30</td>\n",
              "    </tr>\n",
              "    <tr>\n",
              "      <th>5</th>\n",
              "      <td>religious-groups</td>\n",
              "      <td>0.546035</td>\n",
              "      <td>0.645</td>\n",
              "      <td>0.743965</td>\n",
              "      <td>0.55</td>\n",
              "      <td>0.80</td>\n",
              "      <td>0.70</td>\n",
              "      <td>0.40</td>\n",
              "      <td>0.80</td>\n",
              "      <td>0.65</td>\n",
              "      <td>0.75</td>\n",
              "      <td>0.70</td>\n",
              "      <td>0.45</td>\n",
              "      <td>0.65</td>\n",
              "    </tr>\n",
              "    <tr>\n",
              "      <th>6</th>\n",
              "      <td>anti-satellite-ban</td>\n",
              "      <td>0.458068</td>\n",
              "      <td>0.530</td>\n",
              "      <td>0.601932</td>\n",
              "      <td>0.45</td>\n",
              "      <td>0.70</td>\n",
              "      <td>0.40</td>\n",
              "      <td>0.55</td>\n",
              "      <td>0.60</td>\n",
              "      <td>0.45</td>\n",
              "      <td>0.40</td>\n",
              "      <td>0.60</td>\n",
              "      <td>0.55</td>\n",
              "      <td>0.60</td>\n",
              "    </tr>\n",
              "    <tr>\n",
              "      <th>7</th>\n",
              "      <td>aid-to-contras</td>\n",
              "      <td>0.475819</td>\n",
              "      <td>0.570</td>\n",
              "      <td>0.664181</td>\n",
              "      <td>0.80</td>\n",
              "      <td>0.45</td>\n",
              "      <td>0.65</td>\n",
              "      <td>0.45</td>\n",
              "      <td>0.40</td>\n",
              "      <td>0.50</td>\n",
              "      <td>0.75</td>\n",
              "      <td>0.55</td>\n",
              "      <td>0.55</td>\n",
              "      <td>0.60</td>\n",
              "    </tr>\n",
              "    <tr>\n",
              "      <th>8</th>\n",
              "      <td>mx-missile</td>\n",
              "      <td>0.449125</td>\n",
              "      <td>0.525</td>\n",
              "      <td>0.600875</td>\n",
              "      <td>0.45</td>\n",
              "      <td>0.50</td>\n",
              "      <td>0.50</td>\n",
              "      <td>0.60</td>\n",
              "      <td>0.55</td>\n",
              "      <td>0.40</td>\n",
              "      <td>0.40</td>\n",
              "      <td>0.50</td>\n",
              "      <td>0.60</td>\n",
              "      <td>0.75</td>\n",
              "    </tr>\n",
              "    <tr>\n",
              "      <th>9</th>\n",
              "      <td>immigration</td>\n",
              "      <td>0.423350</td>\n",
              "      <td>0.505</td>\n",
              "      <td>0.586650</td>\n",
              "      <td>0.50</td>\n",
              "      <td>0.60</td>\n",
              "      <td>0.40</td>\n",
              "      <td>0.45</td>\n",
              "      <td>0.70</td>\n",
              "      <td>0.60</td>\n",
              "      <td>0.50</td>\n",
              "      <td>0.45</td>\n",
              "      <td>0.55</td>\n",
              "      <td>0.30</td>\n",
              "    </tr>\n",
              "    <tr>\n",
              "      <th>10</th>\n",
              "      <td>synfuels</td>\n",
              "      <td>0.295358</td>\n",
              "      <td>0.380</td>\n",
              "      <td>0.464642</td>\n",
              "      <td>0.50</td>\n",
              "      <td>0.25</td>\n",
              "      <td>0.30</td>\n",
              "      <td>0.40</td>\n",
              "      <td>0.60</td>\n",
              "      <td>0.25</td>\n",
              "      <td>0.40</td>\n",
              "      <td>0.25</td>\n",
              "      <td>0.45</td>\n",
              "      <td>0.40</td>\n",
              "    </tr>\n",
              "    <tr>\n",
              "      <th>11</th>\n",
              "      <td>education</td>\n",
              "      <td>0.331275</td>\n",
              "      <td>0.410</td>\n",
              "      <td>0.488725</td>\n",
              "      <td>0.20</td>\n",
              "      <td>0.30</td>\n",
              "      <td>0.45</td>\n",
              "      <td>0.50</td>\n",
              "      <td>0.40</td>\n",
              "      <td>0.45</td>\n",
              "      <td>0.55</td>\n",
              "      <td>0.30</td>\n",
              "      <td>0.45</td>\n",
              "      <td>0.50</td>\n",
              "    </tr>\n",
              "    <tr>\n",
              "      <th>12</th>\n",
              "      <td>right-to-sue</td>\n",
              "      <td>0.465694</td>\n",
              "      <td>0.550</td>\n",
              "      <td>0.634306</td>\n",
              "      <td>0.50</td>\n",
              "      <td>0.60</td>\n",
              "      <td>0.45</td>\n",
              "      <td>0.75</td>\n",
              "      <td>0.40</td>\n",
              "      <td>0.60</td>\n",
              "      <td>0.55</td>\n",
              "      <td>0.70</td>\n",
              "      <td>0.55</td>\n",
              "      <td>0.40</td>\n",
              "    </tr>\n",
              "    <tr>\n",
              "      <th>13</th>\n",
              "      <td>crime</td>\n",
              "      <td>0.532312</td>\n",
              "      <td>0.615</td>\n",
              "      <td>0.697688</td>\n",
              "      <td>0.35</td>\n",
              "      <td>0.65</td>\n",
              "      <td>0.65</td>\n",
              "      <td>0.80</td>\n",
              "      <td>0.65</td>\n",
              "      <td>0.60</td>\n",
              "      <td>0.55</td>\n",
              "      <td>0.70</td>\n",
              "      <td>0.60</td>\n",
              "      <td>0.60</td>\n",
              "    </tr>\n",
              "    <tr>\n",
              "      <th>14</th>\n",
              "      <td>duty-free</td>\n",
              "      <td>0.363365</td>\n",
              "      <td>0.435</td>\n",
              "      <td>0.506635</td>\n",
              "      <td>0.55</td>\n",
              "      <td>0.50</td>\n",
              "      <td>0.50</td>\n",
              "      <td>0.30</td>\n",
              "      <td>0.35</td>\n",
              "      <td>0.35</td>\n",
              "      <td>0.55</td>\n",
              "      <td>0.50</td>\n",
              "      <td>0.45</td>\n",
              "      <td>0.30</td>\n",
              "    </tr>\n",
              "    <tr>\n",
              "      <th>15</th>\n",
              "      <td>south-africa</td>\n",
              "      <td>0.730906</td>\n",
              "      <td>0.795</td>\n",
              "      <td>0.859094</td>\n",
              "      <td>0.80</td>\n",
              "      <td>0.85</td>\n",
              "      <td>0.80</td>\n",
              "      <td>0.80</td>\n",
              "      <td>0.90</td>\n",
              "      <td>0.80</td>\n",
              "      <td>0.80</td>\n",
              "      <td>0.90</td>\n",
              "      <td>0.70</td>\n",
              "      <td>0.60</td>\n",
              "    </tr>\n",
              "  </tbody>\n",
              "</table>\n",
              "</div>"
            ],
            "text/plain": [
              "                   Issue  LowerBound   Mean  UpperBound  ...     7     8     9    10\n",
              "0    handicapped-infants    0.380906  0.445    0.509094  ...  0.55  0.30  0.45  0.50\n",
              "1          water-project    0.406121  0.500    0.593879  ...  0.35  0.60  0.35  0.35\n",
              "2                 budget    0.571018  0.625    0.678982  ...  0.70  0.65  0.65  0.55\n",
              "3   physician-fee-freeze    0.284321  0.380    0.475679  ...  0.60  0.35  0.30  0.15\n",
              "4        el-salvador-aid    0.377774  0.475    0.572226  ...  0.30  0.45  0.55  0.30\n",
              "5       religious-groups    0.546035  0.645    0.743965  ...  0.75  0.70  0.45  0.65\n",
              "6     anti-satellite-ban    0.458068  0.530    0.601932  ...  0.40  0.60  0.55  0.60\n",
              "7         aid-to-contras    0.475819  0.570    0.664181  ...  0.75  0.55  0.55  0.60\n",
              "8             mx-missile    0.449125  0.525    0.600875  ...  0.40  0.50  0.60  0.75\n",
              "9            immigration    0.423350  0.505    0.586650  ...  0.50  0.45  0.55  0.30\n",
              "10              synfuels    0.295358  0.380    0.464642  ...  0.40  0.25  0.45  0.40\n",
              "11             education    0.331275  0.410    0.488725  ...  0.55  0.30  0.45  0.50\n",
              "12          right-to-sue    0.465694  0.550    0.634306  ...  0.55  0.70  0.55  0.40\n",
              "13                 crime    0.532312  0.615    0.697688  ...  0.55  0.70  0.60  0.60\n",
              "14             duty-free    0.363365  0.435    0.506635  ...  0.55  0.50  0.45  0.30\n",
              "15          south-africa    0.730906  0.795    0.859094  ...  0.80  0.90  0.70  0.60\n",
              "\n",
              "[16 rows x 14 columns]"
            ]
          },
          "metadata": {
            "tags": []
          },
          "execution_count": 90
        }
      ]
    },
    {
      "cell_type": "code",
      "metadata": {
        "id": "73uR6LVfnYIR",
        "colab_type": "code",
        "colab": {
          "base_uri": "https://localhost:8080/",
          "height": 1000
        },
        "outputId": "0b8076df-59e9-4faf-97a7-04946eaf3235"
      },
      "source": [
        "# Iterate through each issue and output its confidence interval and plot\n",
        "for idx, row in df_issue_CIs.iterrows():\n",
        "  print(f'\\nIssue - {row[\"Issue\"]}: Confidence Interval:\\n{row[\"LowerBound\"]} => Mean: {row[\"Mean\"]} => {row[\"UpperBound\"]}\\n')\n",
        "\n",
        "  # Grab the sample means so we can generate a plot\n",
        "  lst_smp_means = []\n",
        "  for i in range(1, num_samples+1):\n",
        "    lst_smp_means.append(row[int(i)])\n",
        "\n",
        "  # Declare a plot object and configure\n",
        "  sns.kdeplot(lst_smp_means)\n",
        "  plt.axvline(x=row[\"LowerBound\"], color='red')\n",
        "  plt.axvline(x=row[\"UpperBound\"], color='red')\n",
        "  plt.axvline(x=row[\"Mean\"], color='k')\n",
        "  plt.show();\n",
        "\n",
        "  # Conduct a 1 sample t-test of the sample means to the known vote\n",
        "  t_rslt = ttest_1samp(lst_smp_means, dct_vote_means[row[\"Issue\"]])\n",
        "\n",
        "  print(f'\\nCompared to the actual vote ({dct_vote_means[row[\"Issue\"]]}) the random samples t-test results in:\\nt Statistic: {t_rslt.statistic} p-value: {t_rslt.pvalue}\\n')\n",
        "\n",
        "  print(\"-----\")\n"
      ],
      "execution_count": 91,
      "outputs": [
        {
          "output_type": "stream",
          "text": [
            "\n",
            "Issue - handicapped-infants: Confidence Interval:\n",
            "0.3809055470556719 => Mean: 0.445 => 0.5090944529443281\n",
            "\n"
          ],
          "name": "stdout"
        },
        {
          "output_type": "display_data",
          "data": {
            "image/png": "[encoded data removed]",
            "text/plain": [
              "<Figure size 432x288 with 1 Axes>"
            ]
          },
          "metadata": {
            "tags": []
          }
        },
        {
          "output_type": "stream",
          "text": [
            "\n",
            "Compared to the actual vote (0.44208037825059104) the random samples t-test results in:\n",
            "t Statistic: 0.10304547350855162 p-value: 0.9201864359962277\n",
            "\n",
            "-----\n",
            "\n",
            "Issue - water-project: Confidence Interval:\n",
            "0.406121234830012 => Mean: 0.5 => 0.5938787651699879\n",
            "\n"
          ],
          "name": "stdout"
        },
        {
          "output_type": "display_data",
          "data": {
            "image/png": "[encoded data removed]",
            "text/plain": [
              "<Figure size 432x288 with 1 Axes>"
            ]
          },
          "metadata": {
            "tags": []
          }
        },
        {
          "output_type": "stream",
          "text": [
            "\n",
            "Compared to the actual vote (0.5038759689922481) the random samples t-test results in:\n",
            "t Statistic: -0.09339759638401166 p-value: 0.9276338289213801\n",
            "\n",
            "-----\n",
            "\n",
            "Issue - budget: Confidence Interval:\n",
            "0.5710180642114426 => Mean: 0.625 => 0.6789819357885574\n",
            "\n"
          ],
          "name": "stdout"
        },
        {
          "output_type": "display_data",
          "data": {
            "image/png": "[encoded data removed]",
            "text/plain": [
              "<Figure size 432x288 with 1 Axes>"
            ]
          },
          "metadata": {
            "tags": []
          }
        },
        {
          "output_type": "stream",
          "text": [
            "\n",
            "Compared to the actual vote (0.5966981132075472) the random samples t-test results in:\n",
            "t Statistic: 1.186013709797397 p-value: 0.2659827337505736\n",
            "\n",
            "-----\n",
            "\n",
            "Issue - physician-fee-freeze: Confidence Interval:\n",
            "0.2843214781062588 => Mean: 0.38 => 0.4756785218937412\n",
            "\n"
          ],
          "name": "stdout"
        },
        {
          "output_type": "display_data",
          "data": {
            "image/png": "[encoded data removed]",
            "text/plain": [
              "<Figure size 432x288 with 1 Axes>"
            ]
          },
          "metadata": {
            "tags": []
          }
        },
        {
          "output_type": "stream",
          "text": [
            "\n",
            "Compared to the actual vote (0.41745283018867924) the random samples t-test results in:\n",
            "t Statistic: -0.8855089564441212 p-value: 0.3989230669746888\n",
            "\n",
            "-----\n",
            "\n",
            "Issue - el-salvador-aid: Confidence Interval:\n",
            "0.3777740161867245 => Mean: 0.475 => 0.5722259838132754\n",
            "\n"
          ],
          "name": "stdout"
        },
        {
          "output_type": "display_data",
          "data": {
            "image/png": "[encoded data removed]",
            "text/plain": [
              "<Figure size 432x288 with 1 Axes>"
            ]
          },
          "metadata": {
            "tags": []
          }
        },
        {
          "output_type": "stream",
          "text": [
            "\n",
            "Compared to the actual vote (0.5047619047619047) the random samples t-test results in:\n",
            "t Statistic: -0.6924702985084655 p-value: 0.5061143814000997\n",
            "\n",
            "-----\n",
            "\n",
            "Issue - religious-groups: Confidence Interval:\n",
            "0.5460351126389331 => Mean: 0.645 => 0.7439648873610669\n",
            "\n"
          ],
          "name": "stdout"
        },
        {
          "output_type": "display_data",
          "data": {
            "image/png": "[encoded data removed]",
            "text/plain": [
              "<Figure size 432x288 with 1 Axes>"
            ]
          },
          "metadata": {
            "tags": []
          }
        },
        {
          "output_type": "stream",
          "text": [
            "\n",
            "Compared to the actual vote (0.6415094339622641) the random samples t-test results in:\n",
            "t Statistic: 0.07978798516160743 p-value: 0.9381518595022809\n",
            "\n",
            "-----\n",
            "\n",
            "Issue - anti-satellite-ban: Confidence Interval:\n",
            "0.4580679867565079 => Mean: 0.53 => 0.6019320132434922\n",
            "\n"
          ],
          "name": "stdout"
        },
        {
          "output_type": "display_data",
          "data": {
            "image/png": "[encoded data removed]",
            "text/plain": [
              "<Figure size 432x288 with 1 Axes>"
            ]
          },
          "metadata": {
            "tags": []
          }
        },
        {
          "output_type": "stream",
          "text": [
            "\n",
            "Compared to the actual vote (0.5676959619952494) the random samples t-test results in:\n",
            "t Statistic: -1.1854831609579692 p-value: 0.2661819935735086\n",
            "\n",
            "-----\n",
            "\n",
            "Issue - aid-to-contras: Confidence Interval:\n",
            "0.4758188869774661 => Mean: 0.5700000000000001 => 0.664181113022534\n",
            "\n"
          ],
          "name": "stdout"
        },
        {
          "output_type": "display_data",
          "data": {
            "image/png": "[encoded data removed]",
            "text/plain": [
              "<Figure size 432x288 with 1 Axes>"
            ]
          },
          "metadata": {
            "tags": []
          }
        },
        {
          "output_type": "stream",
          "text": [
            "\n",
            "Compared to the actual vote (0.5761904761904761) the random samples t-test results in:\n",
            "t Statistic: -0.14869042853329253 p-value: 0.8850762159219074\n",
            "\n",
            "-----\n",
            "\n",
            "Issue - mx-missile: Confidence Interval:\n",
            "0.4491249421248463 => Mean: 0.525 => 0.6008750578751537\n",
            "\n"
          ],
          "name": "stdout"
        },
        {
          "output_type": "display_data",
          "data": {
            "image/png": "[encoded data removed]",
            "text/plain": [
              "<Figure size 432x288 with 1 Axes>"
            ]
          },
          "metadata": {
            "tags": []
          }
        },
        {
          "output_type": "stream",
          "text": [
            "\n",
            "Compared to the actual vote (0.5012106537530266) the random samples t-test results in:\n",
            "t Statistic: 0.709261271313493 p-value: 0.49612407984810936\n",
            "\n",
            "-----\n",
            "\n",
            "Issue - immigration: Confidence Interval:\n",
            "0.4233496698555182 => Mean: 0.505 => 0.5866503301444818\n",
            "\n"
          ],
          "name": "stdout"
        },
        {
          "output_type": "display_data",
          "data": {
            "image/png": "[encoded data removed]",
            "text/plain": [
              "<Figure size 432x288 with 1 Axes>"
            ]
          },
          "metadata": {
            "tags": []
          }
        },
        {
          "output_type": "stream",
          "text": [
            "\n",
            "Compared to the actual vote (0.5046728971962616) the random samples t-test results in:\n",
            "t Statistic: 0.00906252245545194 p-value: 0.9929669568160551\n",
            "\n",
            "-----\n",
            "\n",
            "Issue - synfuels: Confidence Interval:\n",
            "0.2953578294198659 => Mean: 0.38 => 0.46464217058013413\n",
            "\n"
          ],
          "name": "stdout"
        },
        {
          "output_type": "display_data",
          "data": {
            "image/png": "[encoded data removed]",
            "text/plain": [
              "<Figure size 432x288 with 1 Axes>"
            ]
          },
          "metadata": {
            "tags": []
          }
        },
        {
          "output_type": "stream",
          "text": [
            "\n",
            "Compared to the actual vote (0.36231884057971014) the random samples t-test results in:\n",
            "t Statistic: 0.47254886251182293 p-value: 0.6477839382197113\n",
            "\n",
            "-----\n",
            "\n",
            "Issue - education: Confidence Interval:\n",
            "0.3312746194988554 => Mean: 0.41000000000000003 => 0.48872538050114467\n",
            "\n"
          ],
          "name": "stdout"
        },
        {
          "output_type": "display_data",
          "data": {
            "image/png": "[encoded data removed]",
            "text/plain": [
              "<Figure size 432x288 with 1 Axes>"
            ]
          },
          "metadata": {
            "tags": []
          }
        },
        {
          "output_type": "stream",
          "text": [
            "\n",
            "Compared to the actual vote (0.42326732673267325) the random samples t-test results in:\n",
            "t Statistic: -0.38123382837515 p-value: 0.7118736241592123\n",
            "\n",
            "-----\n",
            "\n",
            "Issue - right-to-sue: Confidence Interval:\n",
            "0.4656943801387182 => Mean: 0.55 => 0.6343056198612819\n",
            "\n"
          ],
          "name": "stdout"
        },
        {
          "output_type": "display_data",
          "data": {
            "image/png": "[encoded data removed]",
            "text/plain": [
              "<Figure size 432x288 with 1 Axes>"
            ]
          },
          "metadata": {
            "tags": []
          }
        },
        {
          "output_type": "stream",
          "text": [
            "\n",
            "Compared to the actual vote (0.5097560975609756) the random samples t-test results in:\n",
            "t Statistic: 1.0798572184023385 p-value: 0.30829289432415996\n",
            "\n",
            "-----\n",
            "\n",
            "Issue - crime: Confidence Interval:\n",
            "0.5323117002613577 => Mean: 0.615 => 0.6976882997386423\n",
            "\n"
          ],
          "name": "stdout"
        },
        {
          "output_type": "display_data",
          "data": {
            "image/png": "[encoded data removed]",
            "text/plain": [
              "<Figure size 432x288 with 1 Axes>"
            ]
          },
          "metadata": {
            "tags": []
          }
        },
        {
          "output_type": "stream",
          "text": [
            "\n",
            "Compared to the actual vote (0.5933014354066986) the random samples t-test results in:\n",
            "t Statistic: 0.5936216305218814 p-value: 0.5673829620847435\n",
            "\n",
            "-----\n",
            "\n",
            "Issue - duty-free: Confidence Interval:\n",
            "0.3633650231798686 => Mean: 0.435 => 0.5066349768201314\n",
            "\n"
          ],
          "name": "stdout"
        },
        {
          "output_type": "display_data",
          "data": {
            "image/png": "[encoded data removed]",
            "text/plain": [
              "<Figure size 432x288 with 1 Axes>"
            ]
          },
          "metadata": {
            "tags": []
          }
        },
        {
          "output_type": "stream",
          "text": [
            "\n",
            "Compared to the actual vote (0.4275184275184275) the random samples t-test results in:\n",
            "t Statistic: 0.23626018362860332 p-value: 0.81851996321792\n",
            "\n",
            "-----\n",
            "\n",
            "Issue - south-africa: Confidence Interval:\n",
            "0.7309055470556719 => Mean: 0.795 => 0.8590944529443282\n",
            "\n"
          ],
          "name": "stdout"
        },
        {
          "output_type": "display_data",
          "data": {
            "image/png": "[encoded data removed]",
            "text/plain": [
              "<Figure size 432x288 with 1 Axes>"
            ]
          },
          "metadata": {
            "tags": []
          }
        },
        {
          "output_type": "stream",
          "text": [
            "\n",
            "Compared to the actual vote (0.8126888217522659) the random samples t-test results in:\n",
            "t Statistic: -0.6243113559623231 p-value: 0.5479202151554983\n",
            "\n",
            "-----\n"
          ],
          "name": "stdout"
        }
      ]
    },
    {
      "cell_type": "code",
      "metadata": {
        "id": "-Q5Db2UrqCkL",
        "colab_type": "code",
        "colab": {
          "base_uri": "https://localhost:8080/",
          "height": 419
        },
        "outputId": "564da60e-5c4b-4985-b91f-58734b7b1617"
      },
      "source": [
        "# Categorical Data\n",
        "# Read in the Titanic Dataset\n",
        "df_titanic = pd.read_csv(\"https://web.stanford.edu/class/archive/cs/cs109/cs109.1166/stuff/titanic.csv\")\n",
        "\n",
        "df_titanic"
      ],
      "execution_count": 92,
      "outputs": [
        {
          "output_type": "execute_result",
          "data": {
            "text/html": [
              "<div>\n",
              "<style scoped>\n",
              "    .dataframe tbody tr th:only-of-type {\n",
              "        vertical-align: middle;\n",
              "    }\n",
              "\n",
              "    .dataframe tbody tr th {\n",
              "        vertical-align: top;\n",
              "    }\n",
              "\n",
              "    .dataframe thead th {\n",
              "        text-align: right;\n",
              "    }\n",
              "</style>\n",
              "<table border=\"1\" class=\"dataframe\">\n",
              "  <thead>\n",
              "    <tr style=\"text-align: right;\">\n",
              "      <th></th>\n",
              "      <th>Survived</th>\n",
              "      <th>Pclass</th>\n",
              "      <th>Name</th>\n",
              "      <th>Sex</th>\n",
              "      <th>Age</th>\n",
              "      <th>Siblings/Spouses Aboard</th>\n",
              "      <th>Parents/Children Aboard</th>\n",
              "      <th>Fare</th>\n",
              "    </tr>\n",
              "  </thead>\n",
              "  <tbody>\n",
              "    <tr>\n",
              "      <th>0</th>\n",
              "      <td>0</td>\n",
              "      <td>3</td>\n",
              "      <td>Mr. Owen Harris Braund</td>\n",
              "      <td>male</td>\n",
              "      <td>22.0</td>\n",
              "      <td>1</td>\n",
              "      <td>0</td>\n",
              "      <td>7.2500</td>\n",
              "    </tr>\n",
              "    <tr>\n",
              "      <th>1</th>\n",
              "      <td>1</td>\n",
              "      <td>1</td>\n",
              "      <td>Mrs. John Bradley (Florence Briggs Thayer) Cum...</td>\n",
              "      <td>female</td>\n",
              "      <td>38.0</td>\n",
              "      <td>1</td>\n",
              "      <td>0</td>\n",
              "      <td>71.2833</td>\n",
              "    </tr>\n",
              "    <tr>\n",
              "      <th>2</th>\n",
              "      <td>1</td>\n",
              "      <td>3</td>\n",
              "      <td>Miss. Laina Heikkinen</td>\n",
              "      <td>female</td>\n",
              "      <td>26.0</td>\n",
              "      <td>0</td>\n",
              "      <td>0</td>\n",
              "      <td>7.9250</td>\n",
              "    </tr>\n",
              "    <tr>\n",
              "      <th>3</th>\n",
              "      <td>1</td>\n",
              "      <td>1</td>\n",
              "      <td>Mrs. Jacques Heath (Lily May Peel) Futrelle</td>\n",
              "      <td>female</td>\n",
              "      <td>35.0</td>\n",
              "      <td>1</td>\n",
              "      <td>0</td>\n",
              "      <td>53.1000</td>\n",
              "    </tr>\n",
              "    <tr>\n",
              "      <th>4</th>\n",
              "      <td>0</td>\n",
              "      <td>3</td>\n",
              "      <td>Mr. William Henry Allen</td>\n",
              "      <td>male</td>\n",
              "      <td>35.0</td>\n",
              "      <td>0</td>\n",
              "      <td>0</td>\n",
              "      <td>8.0500</td>\n",
              "    </tr>\n",
              "    <tr>\n",
              "      <th>...</th>\n",
              "      <td>...</td>\n",
              "      <td>...</td>\n",
              "      <td>...</td>\n",
              "      <td>...</td>\n",
              "      <td>...</td>\n",
              "      <td>...</td>\n",
              "      <td>...</td>\n",
              "      <td>...</td>\n",
              "    </tr>\n",
              "    <tr>\n",
              "      <th>882</th>\n",
              "      <td>0</td>\n",
              "      <td>2</td>\n",
              "      <td>Rev. Juozas Montvila</td>\n",
              "      <td>male</td>\n",
              "      <td>27.0</td>\n",
              "      <td>0</td>\n",
              "      <td>0</td>\n",
              "      <td>13.0000</td>\n",
              "    </tr>\n",
              "    <tr>\n",
              "      <th>883</th>\n",
              "      <td>1</td>\n",
              "      <td>1</td>\n",
              "      <td>Miss. Margaret Edith Graham</td>\n",
              "      <td>female</td>\n",
              "      <td>19.0</td>\n",
              "      <td>0</td>\n",
              "      <td>0</td>\n",
              "      <td>30.0000</td>\n",
              "    </tr>\n",
              "    <tr>\n",
              "      <th>884</th>\n",
              "      <td>0</td>\n",
              "      <td>3</td>\n",
              "      <td>Miss. Catherine Helen Johnston</td>\n",
              "      <td>female</td>\n",
              "      <td>7.0</td>\n",
              "      <td>1</td>\n",
              "      <td>2</td>\n",
              "      <td>23.4500</td>\n",
              "    </tr>\n",
              "    <tr>\n",
              "      <th>885</th>\n",
              "      <td>1</td>\n",
              "      <td>1</td>\n",
              "      <td>Mr. Karl Howell Behr</td>\n",
              "      <td>male</td>\n",
              "      <td>26.0</td>\n",
              "      <td>0</td>\n",
              "      <td>0</td>\n",
              "      <td>30.0000</td>\n",
              "    </tr>\n",
              "    <tr>\n",
              "      <th>886</th>\n",
              "      <td>0</td>\n",
              "      <td>3</td>\n",
              "      <td>Mr. Patrick Dooley</td>\n",
              "      <td>male</td>\n",
              "      <td>32.0</td>\n",
              "      <td>0</td>\n",
              "      <td>0</td>\n",
              "      <td>7.7500</td>\n",
              "    </tr>\n",
              "  </tbody>\n",
              "</table>\n",
              "<p>887 rows × 8 columns</p>\n",
              "</div>"
            ],
            "text/plain": [
              "     Survived  Pclass  ... Parents/Children Aboard     Fare\n",
              "0           0       3  ...                       0   7.2500\n",
              "1           1       1  ...                       0  71.2833\n",
              "2           1       3  ...                       0   7.9250\n",
              "3           1       1  ...                       0  53.1000\n",
              "4           0       3  ...                       0   8.0500\n",
              "..        ...     ...  ...                     ...      ...\n",
              "882         0       2  ...                       0  13.0000\n",
              "883         1       1  ...                       0  30.0000\n",
              "884         0       3  ...                       2  23.4500\n",
              "885         1       1  ...                       0  30.0000\n",
              "886         0       3  ...                       0   7.7500\n",
              "\n",
              "[887 rows x 8 columns]"
            ]
          },
          "metadata": {
            "tags": []
          },
          "execution_count": 92
        }
      ]
    },
    {
      "cell_type": "code",
      "metadata": {
        "id": "yX1i8P5QyLLW",
        "colab_type": "code",
        "colab": {
          "base_uri": "https://localhost:8080/",
          "height": 173
        },
        "outputId": "2ceb1130-0b04-4fdb-8405-0a65fbe93ff9"
      },
      "source": [
        "# Create a crosstab dataframe of the Sex and Pclass attributes\n",
        "df_xtab = pd.crosstab(df_titanic['Sex'], df_titanic['Pclass'], values=df_titanic['Survived'], aggfunc=sum, margins=True)\n",
        "df_xtab"
      ],
      "execution_count": 93,
      "outputs": [
        {
          "output_type": "execute_result",
          "data": {
            "text/html": [
              "<div>\n",
              "<style scoped>\n",
              "    .dataframe tbody tr th:only-of-type {\n",
              "        vertical-align: middle;\n",
              "    }\n",
              "\n",
              "    .dataframe tbody tr th {\n",
              "        vertical-align: top;\n",
              "    }\n",
              "\n",
              "    .dataframe thead th {\n",
              "        text-align: right;\n",
              "    }\n",
              "</style>\n",
              "<table border=\"1\" class=\"dataframe\">\n",
              "  <thead>\n",
              "    <tr style=\"text-align: right;\">\n",
              "      <th>Pclass</th>\n",
              "      <th>1</th>\n",
              "      <th>2</th>\n",
              "      <th>3</th>\n",
              "      <th>All</th>\n",
              "    </tr>\n",
              "    <tr>\n",
              "      <th>Sex</th>\n",
              "      <th></th>\n",
              "      <th></th>\n",
              "      <th></th>\n",
              "      <th></th>\n",
              "    </tr>\n",
              "  </thead>\n",
              "  <tbody>\n",
              "    <tr>\n",
              "      <th>female</th>\n",
              "      <td>91</td>\n",
              "      <td>70</td>\n",
              "      <td>72</td>\n",
              "      <td>233</td>\n",
              "    </tr>\n",
              "    <tr>\n",
              "      <th>male</th>\n",
              "      <td>45</td>\n",
              "      <td>17</td>\n",
              "      <td>47</td>\n",
              "      <td>109</td>\n",
              "    </tr>\n",
              "    <tr>\n",
              "      <th>All</th>\n",
              "      <td>136</td>\n",
              "      <td>87</td>\n",
              "      <td>119</td>\n",
              "      <td>342</td>\n",
              "    </tr>\n",
              "  </tbody>\n",
              "</table>\n",
              "</div>"
            ],
            "text/plain": [
              "Pclass    1   2    3  All\n",
              "Sex                      \n",
              "female   91  70   72  233\n",
              "male     45  17   47  109\n",
              "All     136  87  119  342"
            ]
          },
          "metadata": {
            "tags": []
          },
          "execution_count": 93
        }
      ]
    },
    {
      "cell_type": "code",
      "metadata": {
        "id": "664TVM3-5N-Z",
        "colab_type": "code",
        "colab": {
          "base_uri": "https://localhost:8080/",
          "height": 51
        },
        "outputId": "73ac748e-3950-4950-ae33-1805b8142a17"
      },
      "source": [
        "# Grab the dimensions of 'df_xtab'\n",
        "xtb_rws = df_xtab.shape[0]\n",
        "xtb_cls = df_xtab.shape[1]\n",
        "idx_rws = xtb_rws-1           # row index for the margin/total cell\n",
        "idx_cls = xtb_cls-1           # col index for the margin/total cell\n",
        "\n",
        "# Save the total number of survivors in a variable\n",
        "tot_lived = df_xtab.iloc[idx_rws, idx_cls]\n",
        "\n",
        "# Generate the expected values associated with df_xtab data\n",
        "\n",
        "# Iterate through the df_xtab dataframe and calculate expected values\n",
        "\n",
        "# Declare a list to hold expected values\n",
        "vals_xptd = [] \n",
        "for r in range(0, xtb_rws-1):\n",
        "  # Create a list to hold a 'row' of expected values\n",
        "  tmp_row = []\n",
        "\n",
        "  # Loop through dataframe columns\n",
        "  for c in range(0, xtb_cls-1):\n",
        "    # Expected Value = (Current Column Total Value / Current Row Total Value) / Grand Total\n",
        "    t_ex_val = (df_xtab.iloc[idx_rws, c] * df_xtab.iloc[r, idx_cls]) / tot_lived\n",
        "\n",
        "    # Add the calculated expected value to the temp list\n",
        "    tmp_row.append(t_ex_val)\n",
        "\n",
        "  # Completed a row iteration - add the new row of expected values to a temp list\n",
        "  vals_xptd.append(tmp_row)\n",
        "\n",
        "vals_xptd"
      ],
      "execution_count": 94,
      "outputs": [
        {
          "output_type": "execute_result",
          "data": {
            "text/plain": [
              "[[92.65497076023392, 59.271929824561404, 81.07309941520468],\n",
              " [43.345029239766085, 27.728070175438596, 37.92690058479532]]"
            ]
          },
          "metadata": {
            "tags": []
          },
          "execution_count": 94
        }
      ]
    },
    {
      "cell_type": "code",
      "metadata": {
        "id": "R7JVAiiKBQSZ",
        "colab_type": "code",
        "colab": {
          "base_uri": "https://localhost:8080/",
          "height": 68
        },
        "outputId": "9a275b78-2e23-41e0-958b-8cbe4fa35f29"
      },
      "source": [
        "# Generate a dataframe of expected values based on 'vals_xptd' \n",
        "df_exp_vals = pd.DataFrame(vals_xptd, index=['female', 'male'], columns=['PClass1', 'PClass2', 'PClass3'])\n",
        "\n",
        "# Calculate the Chi Square Value\n",
        "val_chi_sq = 0 # Initial sum value of 0\n",
        "\n",
        "# Iterate through each row of expected values\n",
        "for r in range(0, idx_rws):\n",
        "  # Iterate through each column of expected values\n",
        "  for c in range(0, idx_cls):\n",
        "    val_chi_sq = val_chi_sq + ((df_xtab.iloc[r, c] - df_exp_vals.iloc[r, c])**2) / df_exp_vals.iloc[r, c]\n",
        "\n",
        "# Have calcuated the Chi Square Value\n",
        "print(f'Chi Square Value: {\"{0:.2f}\".format(val_chi_sq)}')\n",
        "print(f'Degrees of Freedom: {(idx_rws-1)*(idx_cls-1)}')\n",
        "print(f'From \"Statistics in a Nutshell\" Appendix D the upper tail critical value (2 dof @ .05) is: 5.991')"
      ],
      "execution_count": 95,
      "outputs": [
        {
          "output_type": "stream",
          "text": [
            "Chi Square Value: 9.37\n",
            "Degrees of Freedom: 2\n",
            "From \"Statistics in a Nutshell\" Appendix D the upper tail critical value (2 dof @ .05) is: 5.991\n"
          ],
          "name": "stdout"
        }
      ]
    },
    {
      "cell_type": "markdown",
      "metadata": {
        "id": "IVpR7c2dHf3h",
        "colab_type": "text"
      },
      "source": [
        "### Discussion\n",
        "\n",
        "* We're comparing two attributes of the Titanic dataset: 'Sex' & 'Class'\n",
        "* Our Null Hypothesis => *'Sex' & 'Calls' attributes are independent drivers for survival*\n",
        "* Our Calcluated Chi Square Value is: **9.37**\n",
        "* For our data the Degrees of Freedom is: **2**\n",
        "* The upper critical Chi Square value for 2 degrees of freedom: **5.991**\n",
        "\n",
        "### Assessment\n",
        "\n",
        "As our Chi Square Value (**9.37**) is above the critical value (**5.991**) for 2 degrees of freedom, we reject the null hyplothesis that the two variables are independent in terms of inferring survival"
      ]
    },
    {
      "cell_type": "code",
      "metadata": {
        "id": "36aLdBZmUVgE",
        "colab_type": "code",
        "colab": {
          "base_uri": "https://localhost:8080/",
          "height": 179
        },
        "outputId": "ac84cc57-4d52-4e0e-b00c-cd138fae5906"
      },
      "source": [
        "# Generate the Chi Square value via Scipy\n",
        "\n",
        "# Extract the observed values \n",
        "list_obs = []\n",
        "\n",
        "# Iterate through the crosstab dataframe\n",
        "for i in range(0, idx_rws):\n",
        "  tmp_lst = list(df_xtab.iloc[i])\n",
        "  del tmp_lst[-1]    # Remove the last element which is a total value\n",
        "\n",
        "  # Add the row to the list of observations\n",
        "  list_obs.append(tmp_lst)\n",
        "\n",
        "chi_sq, p_val, dof, exp_vals = chi2_contingency(list_obs)\n",
        "df_tmp = pd.DataFrame(exp_vals, )\n",
        "\n",
        "print(f'Chi Square Value: {\"{0:.2f}\".format(chi_sq)}')\n",
        "print(f'p-value: {\"{0:.2f}\".format(p_val)}')\n",
        "print(f'Degrees of Freedom: {dof}\\n')\n",
        "df_tmp"
      ],
      "execution_count": 96,
      "outputs": [
        {
          "output_type": "stream",
          "text": [
            "Chi Square Value: 9.37\n",
            "p-value: 0.01\n",
            "Degrees of Freedom: 2\n",
            "\n"
          ],
          "name": "stdout"
        },
        {
          "output_type": "execute_result",
          "data": {
            "text/html": [
              "<div>\n",
              "<style scoped>\n",
              "    .dataframe tbody tr th:only-of-type {\n",
              "        vertical-align: middle;\n",
              "    }\n",
              "\n",
              "    .dataframe tbody tr th {\n",
              "        vertical-align: top;\n",
              "    }\n",
              "\n",
              "    .dataframe thead th {\n",
              "        text-align: right;\n",
              "    }\n",
              "</style>\n",
              "<table border=\"1\" class=\"dataframe\">\n",
              "  <thead>\n",
              "    <tr style=\"text-align: right;\">\n",
              "      <th></th>\n",
              "      <th>0</th>\n",
              "      <th>1</th>\n",
              "      <th>2</th>\n",
              "    </tr>\n",
              "  </thead>\n",
              "  <tbody>\n",
              "    <tr>\n",
              "      <th>0</th>\n",
              "      <td>92.654971</td>\n",
              "      <td>59.27193</td>\n",
              "      <td>81.073099</td>\n",
              "    </tr>\n",
              "    <tr>\n",
              "      <th>1</th>\n",
              "      <td>43.345029</td>\n",
              "      <td>27.72807</td>\n",
              "      <td>37.926901</td>\n",
              "    </tr>\n",
              "  </tbody>\n",
              "</table>\n",
              "</div>"
            ],
            "text/plain": [
              "           0         1          2\n",
              "0  92.654971  59.27193  81.073099\n",
              "1  43.345029  27.72807  37.926901"
            ]
          },
          "metadata": {
            "tags": []
          },
          "execution_count": 96
        }
      ]
    },
    {
      "cell_type": "markdown",
      "metadata": {
        "id": "4ohsJhQUmEuS",
        "colab_type": "text"
      },
      "source": [
        "## Stretch goals:\n",
        "\n",
        "1. Write a summary of your findings, mixing prose and math/code/results. *Note* - yes, this is by definition a political topic. It is challenging but important to keep your writing voice *neutral* and stick to the facts of the data. Data science often involves considering controversial issues, so it's important to be sensitive about them (especially if you want to publish).\n",
        "2. Apply the techniques you learned today to your project data or other data of your choice, and write/discuss your findings here.\n",
        "3. Refactor your code so it is elegant, readable, and can be easily run for all issues."
      ]
    },
    {
      "cell_type": "markdown",
      "metadata": {
        "id": "nyJ3ySr7R2k9",
        "colab_type": "text"
      },
      "source": [
        "## Resources\n",
        "\n",
        "- [Interactive visualize the Chi-Squared test](https://homepage.divms.uiowa.edu/~mbognar/applets/chisq.html)\n",
        "- [Calculation of Chi-Squared test statistic](https://en.wikipedia.org/wiki/Pearson%27s_chi-squared_test)\n",
        "- [Visualization of a confidence interval generated by R code](https://commons.wikimedia.org/wiki/File:Confidence-interval.svg)\n",
        "- [Expected value of a squared standard normal](https://math.stackexchange.com/questions/264061/expected-value-calculation-for-squared-normal-distribution) (it's 1 - which is why the expected value of a Chi-Squared with $n$ degrees of freedom is $n$, as it's the sum of $n$ squared standard normals)"
      ]
    }
  ]
}
