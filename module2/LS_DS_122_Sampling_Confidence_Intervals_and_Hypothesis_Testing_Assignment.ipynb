{
  "nbformat": 4,
  "nbformat_minor": 0,
  "metadata": {
    "colab": {
      "name": "Copy of LS_DS_122_Sampling_Confidence_Intervals_and_Hypothesis_Testing_Assignment.ipynb",
      "provenance": [],
      "collapsed_sections": [],
      "include_colab_link": true
    },
    "kernelspec": {
      "name": "python3",
      "display_name": "Python 3"
    }
  },
  "cells": [
    {
      "cell_type": "markdown",
      "metadata": {
        "id": "view-in-github",
        "colab_type": "text"
      },
      "source": [
        "<a href=\"https://colab.research.google.com/github/karencfisher/DS-Unit-1-Sprint-2-Statistics/blob/master/module2/LS_DS_122_Sampling_Confidence_Intervals_and_Hypothesis_Testing_Assignment.ipynb\" target=\"_parent\"><img src=\"https://colab.research.google.com/assets/colab-badge.svg\" alt=\"Open In Colab\"/></a>"
      ]
    },
    {
      "cell_type": "markdown",
      "metadata": {
        "id": "11OzdxWTM7UR",
        "colab_type": "text"
      },
      "source": [
        "## Assignment - Build a confidence interval\n",
        "\n",
        "A confidence interval refers to a neighborhood around some point estimate, the size of which is determined by the desired p-value. For instance, we might say that 52% of Americans prefer tacos to burritos, with a 95% confidence interval of +/- 5%.\n",
        "\n",
        "52% (0.52) is the point estimate, and +/- 5% (the interval $[0.47, 0.57]$) is the confidence interval. \"95% confidence\" means a p-value $\\leq 1 - 0.95 = 0.05$.\n",
        "\n",
        "In this case, the confidence interval includes $0.5$ - which is the natural null hypothesis (that half of Americans prefer tacos and half burritos, thus there is no clear favorite). So in this case, we could use the confidence interval to report that we've failed to reject the null hypothesis.\n",
        "\n",
        "But providing the full analysis with a confidence interval, including a graphical representation of it, can be a helpful and powerful way to tell your story. Done well, it is also more intuitive to a layperson than simply saying \"fail to reject the null hypothesis\" - it shows that in fact the data does *not* give a single clear result (the point estimate) but a whole range of possibilities.\n",
        "\n",
        "How is a confidence interval built, and how should it be interpreted? It does *not* mean that 95% of the data lies in that interval - instead, the frequentist interpretation is \"if we were to repeat this experiment 100 times, we would expect the average result to lie in this interval ~95 times.\"\n",
        "\n",
        "For a 95% confidence interval and a normal(-ish) distribution, you can simply remember that +/-2 standard deviations contains 95% of the probability mass, and so the 95% confidence interval based on a given sample is centered at the mean (point estimate) and has a range of +/- 2 (or technically 1.96) standard deviations.\n",
        "\n",
        "Different distributions/assumptions (90% confidence, 99% confidence) will require different math, but the overall process and interpretation (with a frequentist approach) will be the same.\n",
        "\n",
        "Your assignment - using the data from the prior module ([congressional voting records](https://archive.ics.uci.edu/ml/datasets/Congressional+Voting+Records)):\n",
        "\n",
        "\n",
        "### Confidence Intervals:\n",
        "1. Generate and numerically represent a confidence interval\n",
        "2. Graphically (with a plot) represent the confidence interval\n",
        "3. Interpret the confidence interval - what does it tell you about the data and its distribution?\n",
        "\n",
        "\n"
      ]
    },
    {
      "cell_type": "code",
      "metadata": {
        "id": "Ckcr4A4FM7cs",
        "colab_type": "code",
        "outputId": "c054792c-a7dd-4bcd-bf65-dca672ea93c2",
        "colab": {
          "base_uri": "https://localhost:8080/",
          "height": 71
        }
      },
      "source": [
        "import pandas as pd\n",
        "import numpy as np\n",
        "import seaborn as sns\n",
        "import matplotlib.pyplot as plt\n",
        "from scipy.stats import t, chi2_contingency, chi2"
      ],
      "execution_count": 1,
      "outputs": [
        {
          "output_type": "stream",
          "text": [
            "/usr/local/lib/python3.6/dist-packages/statsmodels/tools/_testing.py:19: FutureWarning: pandas.util.testing is deprecated. Use the functions in the public API at pandas.testing instead.\n",
            "  import pandas.util.testing as tm\n"
          ],
          "name": "stderr"
        }
      ]
    },
    {
      "cell_type": "code",
      "metadata": {
        "id": "Oy8nH46qJhqs",
        "colab_type": "code",
        "outputId": "9939f322-608b-428d-8df1-03d1db1229e7",
        "colab": {
          "base_uri": "https://localhost:8080/",
          "height": 204
        }
      },
      "source": [
        "!wget https://archive.ics.uci.edu/ml/machine-learning-databases/voting-records/house-votes-84.data --no-check-certificate\n"
      ],
      "execution_count": 2,
      "outputs": [
        {
          "output_type": "stream",
          "text": [
            "--2020-04-11 16:22:42--  https://archive.ics.uci.edu/ml/machine-learning-databases/voting-records/house-votes-84.data\n",
            "Resolving archive.ics.uci.edu (archive.ics.uci.edu)... 128.195.10.252\n",
            "Connecting to archive.ics.uci.edu (archive.ics.uci.edu)|128.195.10.252|:443... connected.\n",
            "HTTP request sent, awaiting response... 200 OK\n",
            "Length: 18171 (18K) [application/x-httpd-php]\n",
            "Saving to: ‘house-votes-84.data’\n",
            "\n",
            "house-votes-84.data 100%[===================>]  17.75K  --.-KB/s    in 0.1s    \n",
            "\n",
            "2020-04-11 16:22:43 (135 KB/s) - ‘house-votes-84.data’ saved [18171/18171]\n",
            "\n"
          ],
          "name": "stdout"
        }
      ]
    },
    {
      "cell_type": "code",
      "metadata": {
        "id": "44xiBwRgKs50",
        "colab_type": "code",
        "outputId": "1ee33d74-e1e6-4f4c-ebf6-cc5f87dee0c8",
        "colab": {
          "base_uri": "https://localhost:8080/",
          "height": 258
        }
      },
      "source": [
        "column_headers = ['party','handicapped-infants','water-project',\n",
        "                          'budget','physician-fee-freeze', 'el-salvador-aid',\n",
        "                          'religious-groups','anti-satellite-ban',\n",
        "                          'aid-to-contras','mx-missile','immigration',\n",
        "                          'synfuels', 'education', 'right-to-sue','crime','duty-free',\n",
        "                          'south-africa']\n",
        "votes_df = pd.read_csv('house-votes-84.data', na_values='?', header=None, names=column_headers)\n",
        "votes_df.replace({'n':0, 'y':1}, inplace=True)\n",
        "votes_df.head()"
      ],
      "execution_count": 3,
      "outputs": [
        {
          "output_type": "execute_result",
          "data": {
            "text/html": [
              "<div>\n",
              "<style scoped>\n",
              "    .dataframe tbody tr th:only-of-type {\n",
              "        vertical-align: middle;\n",
              "    }\n",
              "\n",
              "    .dataframe tbody tr th {\n",
              "        vertical-align: top;\n",
              "    }\n",
              "\n",
              "    .dataframe thead th {\n",
              "        text-align: right;\n",
              "    }\n",
              "</style>\n",
              "<table border=\"1\" class=\"dataframe\">\n",
              "  <thead>\n",
              "    <tr style=\"text-align: right;\">\n",
              "      <th></th>\n",
              "      <th>party</th>\n",
              "      <th>handicapped-infants</th>\n",
              "      <th>water-project</th>\n",
              "      <th>budget</th>\n",
              "      <th>physician-fee-freeze</th>\n",
              "      <th>el-salvador-aid</th>\n",
              "      <th>religious-groups</th>\n",
              "      <th>anti-satellite-ban</th>\n",
              "      <th>aid-to-contras</th>\n",
              "      <th>mx-missile</th>\n",
              "      <th>immigration</th>\n",
              "      <th>synfuels</th>\n",
              "      <th>education</th>\n",
              "      <th>right-to-sue</th>\n",
              "      <th>crime</th>\n",
              "      <th>duty-free</th>\n",
              "      <th>south-africa</th>\n",
              "    </tr>\n",
              "  </thead>\n",
              "  <tbody>\n",
              "    <tr>\n",
              "      <th>0</th>\n",
              "      <td>republican</td>\n",
              "      <td>0.0</td>\n",
              "      <td>1.0</td>\n",
              "      <td>0.0</td>\n",
              "      <td>1.0</td>\n",
              "      <td>1.0</td>\n",
              "      <td>1.0</td>\n",
              "      <td>0.0</td>\n",
              "      <td>0.0</td>\n",
              "      <td>0.0</td>\n",
              "      <td>1.0</td>\n",
              "      <td>NaN</td>\n",
              "      <td>1.0</td>\n",
              "      <td>1.0</td>\n",
              "      <td>1.0</td>\n",
              "      <td>0.0</td>\n",
              "      <td>1.0</td>\n",
              "    </tr>\n",
              "    <tr>\n",
              "      <th>1</th>\n",
              "      <td>republican</td>\n",
              "      <td>0.0</td>\n",
              "      <td>1.0</td>\n",
              "      <td>0.0</td>\n",
              "      <td>1.0</td>\n",
              "      <td>1.0</td>\n",
              "      <td>1.0</td>\n",
              "      <td>0.0</td>\n",
              "      <td>0.0</td>\n",
              "      <td>0.0</td>\n",
              "      <td>0.0</td>\n",
              "      <td>0.0</td>\n",
              "      <td>1.0</td>\n",
              "      <td>1.0</td>\n",
              "      <td>1.0</td>\n",
              "      <td>0.0</td>\n",
              "      <td>NaN</td>\n",
              "    </tr>\n",
              "    <tr>\n",
              "      <th>2</th>\n",
              "      <td>democrat</td>\n",
              "      <td>NaN</td>\n",
              "      <td>1.0</td>\n",
              "      <td>1.0</td>\n",
              "      <td>NaN</td>\n",
              "      <td>1.0</td>\n",
              "      <td>1.0</td>\n",
              "      <td>0.0</td>\n",
              "      <td>0.0</td>\n",
              "      <td>0.0</td>\n",
              "      <td>0.0</td>\n",
              "      <td>1.0</td>\n",
              "      <td>0.0</td>\n",
              "      <td>1.0</td>\n",
              "      <td>1.0</td>\n",
              "      <td>0.0</td>\n",
              "      <td>0.0</td>\n",
              "    </tr>\n",
              "    <tr>\n",
              "      <th>3</th>\n",
              "      <td>democrat</td>\n",
              "      <td>0.0</td>\n",
              "      <td>1.0</td>\n",
              "      <td>1.0</td>\n",
              "      <td>0.0</td>\n",
              "      <td>NaN</td>\n",
              "      <td>1.0</td>\n",
              "      <td>0.0</td>\n",
              "      <td>0.0</td>\n",
              "      <td>0.0</td>\n",
              "      <td>0.0</td>\n",
              "      <td>1.0</td>\n",
              "      <td>0.0</td>\n",
              "      <td>1.0</td>\n",
              "      <td>0.0</td>\n",
              "      <td>0.0</td>\n",
              "      <td>1.0</td>\n",
              "    </tr>\n",
              "    <tr>\n",
              "      <th>4</th>\n",
              "      <td>democrat</td>\n",
              "      <td>1.0</td>\n",
              "      <td>1.0</td>\n",
              "      <td>1.0</td>\n",
              "      <td>0.0</td>\n",
              "      <td>1.0</td>\n",
              "      <td>1.0</td>\n",
              "      <td>0.0</td>\n",
              "      <td>0.0</td>\n",
              "      <td>0.0</td>\n",
              "      <td>0.0</td>\n",
              "      <td>1.0</td>\n",
              "      <td>NaN</td>\n",
              "      <td>1.0</td>\n",
              "      <td>1.0</td>\n",
              "      <td>1.0</td>\n",
              "      <td>1.0</td>\n",
              "    </tr>\n",
              "  </tbody>\n",
              "</table>\n",
              "</div>"
            ],
            "text/plain": [
              "        party  handicapped-infants  ...  duty-free  south-africa\n",
              "0  republican                  0.0  ...        0.0           1.0\n",
              "1  republican                  0.0  ...        0.0           NaN\n",
              "2    democrat                  NaN  ...        0.0           0.0\n",
              "3    democrat                  0.0  ...        0.0           1.0\n",
              "4    democrat                  1.0  ...        1.0           1.0\n",
              "\n",
              "[5 rows x 17 columns]"
            ]
          },
          "metadata": {
            "tags": []
          },
          "execution_count": 3
        }
      ]
    },
    {
      "cell_type": "markdown",
      "metadata": {
        "id": "dVHaSyu-d6Yc",
        "colab_type": "text"
      },
      "source": [
        "We will treat the congressional votes as if they were samples of how the population would vote as a whole on the issues, regardless the political parties. In other words, as if it were a poll on each issue, with a sample size of up to 535 (but dropping abstentions which might be 'don't know' answers).\n",
        "\n",
        "Considering a vote on an issue as a sample proportion (rather than mean) to approximate the population proportion, as we are looking at binomial data (1 or 0, yes or no). I know this differs from class in the method of calculating standard deviation of error I will use.\n",
        "\n",
        "Instead of sample mean, then, we will calculate sample proportion:\n",
        "\n",
        "\\begin{equation*}\n",
        "\\hat{p}=\\frac{c}n \n",
        "\\end{equation*}\n",
        "\n",
        "Where c is the number of 'yes' votes. Thus far it is the same result as calculating the sample mean. However, we  will calculate the sample standard error a different way (as sample proportion rather than mean).\n",
        "\n",
        "\\begin{equation*}\n",
        "SE = \\sqrt{\\frac{\\hat{p}(1-\\hat{p})}n}\n",
        "\\end{equation*}\n",
        "\n",
        "And from that, we arrive at the confidence interval in the usual way.\n",
        "\n",
        "\n",
        "\\begin{equation*}\n",
        "CI(a,b)=\\hat{p}\\pm{t\\_{stat}\\times SE}\n",
        "\\end{equation*}\n",
        "\n",
        "**Observations**\n",
        "\n",
        "As partisan and contentious as some of these issues may have been, the actual margins of the total size of the votes for any of them is surprisingly small. For example, while the budget is often a highly partisan and divided issue between republicans and democrats, the vote only passed by about 9.6% of the whole congress. Given the 95% confidence level, and a margin of error of about 3.92%, were this a representative sample (which is what represntative government is supposed to be), it still may have been passed by the population as a whole by possibly as little as approximately a 5.7% margin."
      ]
    },
    {
      "cell_type": "code",
      "metadata": {
        "id": "UjsikCXQpwbv",
        "colab_type": "code",
        "colab": {}
      },
      "source": [
        "def proportion_CI(data, conf_level):\n",
        "  '''\n",
        "  Calculate sample proportion statistics.\n",
        "\n",
        "  data: the smaple data\n",
        "  returns series with statistics for the sample\n",
        "  '''\n",
        "\n",
        "  # Basic counts\n",
        "  n = data.shape[0]\n",
        "  counts = data.value_counts()\n",
        "  yes = counts[1.0]\n",
        "  no = counts[0.0]\n",
        "\n",
        "  # sample proportion and standard error\n",
        "  p_hat = sum(data) / n\n",
        "  SE = np.sqrt(p_hat * (1 - p_hat) / n)\n",
        "\n",
        "  # margin of error and confidence limits\n",
        "  t_stat = t.ppf((1 + conf_level) / 2, n-1)\n",
        "  ME = t_stat * SE\n",
        "  upper_conf = p_hat + ME\n",
        "  lower_conf = p_hat - ME \n",
        "\n",
        "  # package it all up nicely\n",
        "  stats = [n, yes, no, p_hat, SE, conf_level, ME, upper_conf, lower_conf]\n",
        "  results = pd.Series(stats, index=['count', 'yays', 'nays', 'sample proportion', \n",
        "                                    'standard err', 'confidence', 'MOE', \n",
        "                                    'upper_conf', 'lower_conf'])\n",
        "  return results"
      ],
      "execution_count": 0,
      "outputs": []
    },
    {
      "cell_type": "code",
      "metadata": {
        "id": "ng3WBXrmJhMk",
        "colab_type": "code",
        "colab": {}
      },
      "source": [
        "def plotIntervals(data, data_stats):\n",
        "  '''\n",
        "  Plot sample data and confidence intervals\n",
        "\n",
        "  data: the sample data\n",
        "  data_stats: statistics from proportion_CI()\n",
        "  cl: confidence level (e.g., 95 if 95%)\n",
        "  '''\n",
        "\n",
        "  sns.kdeplot(data)\n",
        "  plt.axvline(x=data_stats['lower_conf'], color='red')\n",
        "  plt.axvline(x=data_stats['sample proportion'])\n",
        "  plt.axvline(x=data_stats['upper_conf'], color='red')\n",
        "  moe = data_stats['MOE'] * 100\n",
        "  conf = int(data_stats['confidence'] * 100)\n",
        "  plt.title(f'{conf}% Confidence, MOE = {round(moe, 3)}%')\n",
        "  plt.xlim(-.1, 1.1)\n",
        "  plt.show()"
      ],
      "execution_count": 0,
      "outputs": []
    },
    {
      "cell_type": "markdown",
      "metadata": {
        "id": "oWkesKCClvsP",
        "colab_type": "text"
      },
      "source": [
        "We'll try one though that seems uncontroversial first in terms of the two parties."
      ]
    },
    {
      "cell_type": "code",
      "metadata": {
        "id": "OolmFb0RJhUs",
        "colab_type": "code",
        "outputId": "529b1f68-5cc0-42c8-b6ff-4183f4b107c4",
        "colab": {
          "base_uri": "https://localhost:8080/",
          "height": 451
        }
      },
      "source": [
        "# On each filter, I also chain .dropna to drop any missing data so as to\n",
        "# not pose problems for my functions.\n",
        "water_votes = votes_df['water-project'].dropna()\n",
        "water_stats = proportion_CI(water_votes, 0.95)\n",
        "print(water_stats)\n",
        "plotIntervals(water_votes, water_stats)\n"
      ],
      "execution_count": 40,
      "outputs": [
        {
          "output_type": "stream",
          "text": [
            "count                387.000000\n",
            "yays                 195.000000\n",
            "nays                 192.000000\n",
            "sample proportion      0.503876\n",
            "standard err           0.025416\n",
            "confidence             0.950000\n",
            "MOE                    0.049970\n",
            "upper_conf             0.553846\n",
            "lower_conf             0.453905\n",
            "dtype: float64\n"
          ],
          "name": "stdout"
        },
        {
          "output_type": "display_data",
          "data": {
            "image/png": "[encoded data removed]",
            "text/plain": [
              "<Figure size 432x288 with 1 Axes>"
            ]
          },
          "metadata": {
            "tags": [],
            "needs_background": "light"
          }
        }
      ]
    },
    {
      "cell_type": "markdown",
      "metadata": {
        "id": "TrBqgM265MZm",
        "colab_type": "text"
      },
      "source": [
        "We'll try the budget (more controversial)."
      ]
    },
    {
      "cell_type": "code",
      "metadata": {
        "id": "kbwZEBFbJgps",
        "colab_type": "code",
        "outputId": "9065b47a-605c-4451-cecc-77f961ac10f7",
        "colab": {
          "base_uri": "https://localhost:8080/",
          "height": 451
        }
      },
      "source": [
        "budget_votes = votes_df['budget'].dropna()\n",
        "budget_stats = proportion_CI(budget_votes, 0.95)\n",
        "print(budget_stats)\n",
        "plotIntervals(budget_votes, budget_stats)"
      ],
      "execution_count": 41,
      "outputs": [
        {
          "output_type": "stream",
          "text": [
            "count                424.000000\n",
            "yays                 253.000000\n",
            "nays                 171.000000\n",
            "sample proportion      0.596698\n",
            "standard err           0.023824\n",
            "confidence             0.950000\n",
            "MOE                    0.046828\n",
            "upper_conf             0.643526\n",
            "lower_conf             0.549870\n",
            "dtype: float64\n"
          ],
          "name": "stdout"
        },
        {
          "output_type": "display_data",
          "data": {
            "image/png": "[encoded data removed]",
            "text/plain": [
              "<Figure size 432x288 with 1 Axes>"
            ]
          },
          "metadata": {
            "tags": [],
            "needs_background": "light"
          }
        }
      ]
    },
    {
      "cell_type": "markdown",
      "metadata": {
        "id": "D5dRh3oQ1WG1",
        "colab_type": "text"
      },
      "source": [
        "And by political parties"
      ]
    },
    {
      "cell_type": "code",
      "metadata": {
        "id": "6ISuYibDoIE5",
        "colab_type": "code",
        "outputId": "902d0b13-f4b9-4f79-9005-beeb413d51cc",
        "colab": {
          "base_uri": "https://localhost:8080/",
          "height": 936
        }
      },
      "source": [
        "budget_rep = votes_df[votes_df['party'] == 'republican']['budget'].dropna()\n",
        "budget_dem = votes_df[votes_df['party'] == 'democrat']['budget'].dropna()\n",
        "budget_rep_stats = proportion_CI(budget_rep, 0.95)\n",
        "budget_dem_stats = proportion_CI(budget_dem, 0.95)\n",
        "print(\"Republican votes:\\n\", budget_rep_stats)\n",
        "plotIntervals(budget_rep, budget_rep_stats)\n",
        "print(\"\\nDemocratic votes:\\n\", budget_dem_stats)\n",
        "plotIntervals(budget_dem, budget_dem_stats)"
      ],
      "execution_count": 42,
      "outputs": [
        {
          "output_type": "stream",
          "text": [
            "Republican votes:\n",
            " count                164.000000\n",
            "yays                  22.000000\n",
            "nays                 142.000000\n",
            "sample proportion      0.134146\n",
            "standard err           0.026613\n",
            "confidence             0.950000\n",
            "MOE                    0.052550\n",
            "upper_conf             0.186697\n",
            "lower_conf             0.081596\n",
            "dtype: float64\n"
          ],
          "name": "stdout"
        },
        {
          "output_type": "display_data",
          "data": {
            "image/png": "[encoded data removed]",
            "text/plain": [
              "<Figure size 432x288 with 1 Axes>"
            ]
          },
          "metadata": {
            "tags": [],
            "needs_background": "light"
          }
        },
        {
          "output_type": "stream",
          "text": [
            "\n",
            "Democratic votes:\n",
            " count                260.000000\n",
            "yays                 231.000000\n",
            "nays                  29.000000\n",
            "sample proportion      0.888462\n",
            "standard err           0.019523\n",
            "confidence             0.950000\n",
            "MOE                    0.038444\n",
            "upper_conf             0.926905\n",
            "lower_conf             0.850018\n",
            "dtype: float64\n"
          ],
          "name": "stdout"
        },
        {
          "output_type": "display_data",
          "data": {
            "image/png": "[encoded data removed]",
            "text/plain": [
              "<Figure size 432x288 with 1 Axes>"
            ]
          },
          "metadata": {
            "tags": [],
            "needs_background": "light"
          }
        }
      ]
    },
    {
      "cell_type": "markdown",
      "metadata": {
        "id": "X-KbvaVZMUMP",
        "colab_type": "text"
      },
      "source": [
        "### Chi-squared tests:\n",
        "4. Take a dataset that we have used in the past in class that has **categorical** variables. Pick two of those categorical variables and run a chi-squared tests on that data\n",
        "  - By hand using Numpy\n",
        "  - In a single line using Scipy"
      ]
    },
    {
      "cell_type": "markdown",
      "metadata": {
        "id": "VTFUpU24CSH6",
        "colab_type": "text"
      },
      "source": [
        "Write function for Chi Square without Scipy.\n",
        "\n",
        "\\begin{equation*}\n",
        "\\chi^2=\\sum\\frac{(x_{observed}- x_{expected})^2}{x_{expected}}\n",
        "\\end{equation*}\n",
        "\n",
        "And compare our results with the Scipy chi-square function.\n",
        "\n"
      ]
    },
    {
      "cell_type": "code",
      "metadata": {
        "id": "_uRrqoYxEJIF",
        "colab_type": "code",
        "colab": {}
      },
      "source": [
        "def our_chi2(cross_data):\n",
        "  '''\n",
        "  Calculate chi-square given a crosstab of two categorical values.\n",
        "\n",
        "  Input:\n",
        "  cross_data: Pandas crosstab (w/out margins)\n",
        "\n",
        "  Output:\n",
        "  chi-square statistic\n",
        "  '''\n",
        "\n",
        "  # get the row and column sums\n",
        "  row_sums = np.array(cross_data.sum(axis=1))\n",
        "  col_sums = np.array(cross_data.sum(axis=0))\n",
        "  total = sum(row_sums)\n",
        "\n",
        "  # construct expected values table\n",
        "  expected = []\n",
        "  for i in row_sums:\n",
        "    row_expected = []\n",
        "    for j in col_sums:\n",
        "      row_expected.append((i * j) / total)\n",
        "    expected.append(row_expected)\n",
        "\n",
        "  # Convert cross_data and expected into one dimensional np arrays\n",
        "  expected = np.array(expected).flatten()\n",
        "  observed = np.array(cross_data).flatten()\n",
        "\n",
        "  # Calculate Chi_squared\n",
        "  chi_square = sum((observed - expected) ** 2 / expected)\n",
        "\n",
        "  # And p-value (which does use scipy.stats.chi2)\n",
        "  dof = (cross_data.shape[0] - 1) * (cross_data.shape[1] - 1)\n",
        "  p_value = chi2.pdf(chi_square, dof)\n",
        "\n",
        "  return chi_square, p_value\n",
        "  "
      ],
      "execution_count": 0,
      "outputs": []
    },
    {
      "cell_type": "code",
      "metadata": {
        "id": "hRQoRN75FSIL",
        "colab_type": "code",
        "colab": {}
      },
      "source": [
        "def compareTests(crossdata):\n",
        "  '''\n",
        "  Compare results between our function and Scipy's\n",
        "\n",
        "  Input:\n",
        "  crossdata: the crosstab table constructed by Pandas, w/o margins\n",
        "\n",
        "  Output:\n",
        "  results of both our function, and Scipy's\n",
        "  '''\n",
        "\n",
        "  our_result = our_chi2(crossdata)\n",
        "  print('Our chi-square statistic: %f p-value %f'  % (our_result[0], our_result[1]))\n",
        "\n",
        "  result = chi2_contingency(crossdata)\n",
        "  print(\"Their chi-square statistic: %f p-value: %f\" % (result[0], result[1]))  "
      ],
      "execution_count": 0,
      "outputs": []
    },
    {
      "cell_type": "markdown",
      "metadata": {
        "id": "5Uj2CFY6mJmf",
        "colab_type": "text"
      },
      "source": [
        "Let us revisit the Ames real estate database. We can explore, for example, if neighborhood and house styles are dependent variables (which could reflect matters such as zoning regulations as well as economics), and if sales condition influences the ultimate sale price (which we will categorize).\n",
        "\n",
        "Null hypothesis = the paired variables are independent, and apparent correlations are just a product of chance.\n",
        "\n",
        "Alternative hypothesis = variables are dependent, rather than correlations being just by chance.\n",
        "\n",
        "In both cases, the null hypothesis is rejected. Neighborhood and house style are supported to be related, and sales condition appears to have an effect on sale price ranges."
      ]
    },
    {
      "cell_type": "code",
      "metadata": {
        "id": "LcA8rcwn5h7z",
        "colab_type": "code",
        "outputId": "7c89b8f3-6345-4304-ad2e-2d2d3256cd39",
        "colab": {
          "base_uri": "https://localhost:8080/",
          "height": 204
        }
      },
      "source": [
        "# load and filter data to just features we are interested in.\n",
        "\n",
        "url = 'https://raw.githubusercontent.com/ryanleeallred/datasets/master/Ames%20Housing%20Data/train.csv'\n",
        "Ames_df = pd. read_csv(url)\n",
        "Ames_df = Ames_df[['Neighborhood', 'HouseStyle', 'SaleCondition', 'SalePrice']]\n",
        "Ames_df.head()"
      ],
      "execution_count": 45,
      "outputs": [
        {
          "output_type": "execute_result",
          "data": {
            "text/html": [
              "<div>\n",
              "<style scoped>\n",
              "    .dataframe tbody tr th:only-of-type {\n",
              "        vertical-align: middle;\n",
              "    }\n",
              "\n",
              "    .dataframe tbody tr th {\n",
              "        vertical-align: top;\n",
              "    }\n",
              "\n",
              "    .dataframe thead th {\n",
              "        text-align: right;\n",
              "    }\n",
              "</style>\n",
              "<table border=\"1\" class=\"dataframe\">\n",
              "  <thead>\n",
              "    <tr style=\"text-align: right;\">\n",
              "      <th></th>\n",
              "      <th>Neighborhood</th>\n",
              "      <th>HouseStyle</th>\n",
              "      <th>SaleCondition</th>\n",
              "      <th>SalePrice</th>\n",
              "    </tr>\n",
              "  </thead>\n",
              "  <tbody>\n",
              "    <tr>\n",
              "      <th>0</th>\n",
              "      <td>CollgCr</td>\n",
              "      <td>2Story</td>\n",
              "      <td>Normal</td>\n",
              "      <td>208500</td>\n",
              "    </tr>\n",
              "    <tr>\n",
              "      <th>1</th>\n",
              "      <td>Veenker</td>\n",
              "      <td>1Story</td>\n",
              "      <td>Normal</td>\n",
              "      <td>181500</td>\n",
              "    </tr>\n",
              "    <tr>\n",
              "      <th>2</th>\n",
              "      <td>CollgCr</td>\n",
              "      <td>2Story</td>\n",
              "      <td>Normal</td>\n",
              "      <td>223500</td>\n",
              "    </tr>\n",
              "    <tr>\n",
              "      <th>3</th>\n",
              "      <td>Crawfor</td>\n",
              "      <td>2Story</td>\n",
              "      <td>Abnorml</td>\n",
              "      <td>140000</td>\n",
              "    </tr>\n",
              "    <tr>\n",
              "      <th>4</th>\n",
              "      <td>NoRidge</td>\n",
              "      <td>2Story</td>\n",
              "      <td>Normal</td>\n",
              "      <td>250000</td>\n",
              "    </tr>\n",
              "  </tbody>\n",
              "</table>\n",
              "</div>"
            ],
            "text/plain": [
              "  Neighborhood HouseStyle SaleCondition  SalePrice\n",
              "0      CollgCr     2Story        Normal     208500\n",
              "1      Veenker     1Story        Normal     181500\n",
              "2      CollgCr     2Story        Normal     223500\n",
              "3      Crawfor     2Story       Abnorml     140000\n",
              "4      NoRidge     2Story        Normal     250000"
            ]
          },
          "metadata": {
            "tags": []
          },
          "execution_count": 45
        }
      ]
    },
    {
      "cell_type": "code",
      "metadata": {
        "id": "ZQjMEvow8Kmb",
        "colab_type": "code",
        "outputId": "96a491af-ab3c-4aa3-86d0-76af586b46d8",
        "colab": {
          "base_uri": "https://localhost:8080/",
          "height": 204
        }
      },
      "source": [
        "# add categorical values for price, loosely based on the quartiles, and\n",
        "# centering 'midrange' on the median price ($163,000).\n",
        "\n",
        "price_bins = [34000, 80000, 140000, 180000, 220000, 800000]\n",
        "price_labels = ['low', 'medium-low', 'midrange', 'medium-high', 'high']\n",
        "Ames_df['priceRange'] = pd.cut(Ames_df['SalePrice'], bins=price_bins, labels=price_labels)\n",
        "Ames_df.sample(5)"
      ],
      "execution_count": 46,
      "outputs": [
        {
          "output_type": "execute_result",
          "data": {
            "text/html": [
              "<div>\n",
              "<style scoped>\n",
              "    .dataframe tbody tr th:only-of-type {\n",
              "        vertical-align: middle;\n",
              "    }\n",
              "\n",
              "    .dataframe tbody tr th {\n",
              "        vertical-align: top;\n",
              "    }\n",
              "\n",
              "    .dataframe thead th {\n",
              "        text-align: right;\n",
              "    }\n",
              "</style>\n",
              "<table border=\"1\" class=\"dataframe\">\n",
              "  <thead>\n",
              "    <tr style=\"text-align: right;\">\n",
              "      <th></th>\n",
              "      <th>Neighborhood</th>\n",
              "      <th>HouseStyle</th>\n",
              "      <th>SaleCondition</th>\n",
              "      <th>SalePrice</th>\n",
              "      <th>priceRange</th>\n",
              "    </tr>\n",
              "  </thead>\n",
              "  <tbody>\n",
              "    <tr>\n",
              "      <th>813</th>\n",
              "      <td>NAmes</td>\n",
              "      <td>1Story</td>\n",
              "      <td>Normal</td>\n",
              "      <td>157900</td>\n",
              "      <td>midrange</td>\n",
              "    </tr>\n",
              "    <tr>\n",
              "      <th>40</th>\n",
              "      <td>NAmes</td>\n",
              "      <td>1Story</td>\n",
              "      <td>Abnorml</td>\n",
              "      <td>160000</td>\n",
              "      <td>midrange</td>\n",
              "    </tr>\n",
              "    <tr>\n",
              "      <th>989</th>\n",
              "      <td>Somerst</td>\n",
              "      <td>2Story</td>\n",
              "      <td>Partial</td>\n",
              "      <td>197000</td>\n",
              "      <td>medium-high</td>\n",
              "    </tr>\n",
              "    <tr>\n",
              "      <th>1147</th>\n",
              "      <td>Crawfor</td>\n",
              "      <td>2Story</td>\n",
              "      <td>Normal</td>\n",
              "      <td>174500</td>\n",
              "      <td>midrange</td>\n",
              "    </tr>\n",
              "    <tr>\n",
              "      <th>1306</th>\n",
              "      <td>NridgHt</td>\n",
              "      <td>1Story</td>\n",
              "      <td>Partial</td>\n",
              "      <td>202500</td>\n",
              "      <td>medium-high</td>\n",
              "    </tr>\n",
              "  </tbody>\n",
              "</table>\n",
              "</div>"
            ],
            "text/plain": [
              "     Neighborhood HouseStyle SaleCondition  SalePrice   priceRange\n",
              "813         NAmes     1Story        Normal     157900     midrange\n",
              "40          NAmes     1Story       Abnorml     160000     midrange\n",
              "989       Somerst     2Story       Partial     197000  medium-high\n",
              "1147      Crawfor     2Story        Normal     174500     midrange\n",
              "1306      NridgHt     1Story       Partial     202500  medium-high"
            ]
          },
          "metadata": {
            "tags": []
          },
          "execution_count": 46
        }
      ]
    },
    {
      "cell_type": "code",
      "metadata": {
        "id": "Iz7HWW_F5h0d",
        "colab_type": "code",
        "outputId": "23980655-595b-4f00-e915-c4dab416fd3e",
        "colab": {
          "base_uri": "https://localhost:8080/",
          "height": 348
        }
      },
      "source": [
        "# first crosstab, house style and neighborhood.\n",
        "\n",
        "style_neighbor = pd.crosstab(Ames_df['HouseStyle'], Ames_df['Neighborhood'])\n",
        "style_neighbor"
      ],
      "execution_count": 47,
      "outputs": [
        {
          "output_type": "execute_result",
          "data": {
            "text/html": [
              "<div>\n",
              "<style scoped>\n",
              "    .dataframe tbody tr th:only-of-type {\n",
              "        vertical-align: middle;\n",
              "    }\n",
              "\n",
              "    .dataframe tbody tr th {\n",
              "        vertical-align: top;\n",
              "    }\n",
              "\n",
              "    .dataframe thead th {\n",
              "        text-align: right;\n",
              "    }\n",
              "</style>\n",
              "<table border=\"1\" class=\"dataframe\">\n",
              "  <thead>\n",
              "    <tr style=\"text-align: right;\">\n",
              "      <th>Neighborhood</th>\n",
              "      <th>Blmngtn</th>\n",
              "      <th>Blueste</th>\n",
              "      <th>BrDale</th>\n",
              "      <th>BrkSide</th>\n",
              "      <th>ClearCr</th>\n",
              "      <th>CollgCr</th>\n",
              "      <th>Crawfor</th>\n",
              "      <th>Edwards</th>\n",
              "      <th>Gilbert</th>\n",
              "      <th>IDOTRR</th>\n",
              "      <th>MeadowV</th>\n",
              "      <th>Mitchel</th>\n",
              "      <th>NAmes</th>\n",
              "      <th>NPkVill</th>\n",
              "      <th>NWAmes</th>\n",
              "      <th>NoRidge</th>\n",
              "      <th>NridgHt</th>\n",
              "      <th>OldTown</th>\n",
              "      <th>SWISU</th>\n",
              "      <th>Sawyer</th>\n",
              "      <th>SawyerW</th>\n",
              "      <th>Somerst</th>\n",
              "      <th>StoneBr</th>\n",
              "      <th>Timber</th>\n",
              "      <th>Veenker</th>\n",
              "    </tr>\n",
              "    <tr>\n",
              "      <th>HouseStyle</th>\n",
              "      <th></th>\n",
              "      <th></th>\n",
              "      <th></th>\n",
              "      <th></th>\n",
              "      <th></th>\n",
              "      <th></th>\n",
              "      <th></th>\n",
              "      <th></th>\n",
              "      <th></th>\n",
              "      <th></th>\n",
              "      <th></th>\n",
              "      <th></th>\n",
              "      <th></th>\n",
              "      <th></th>\n",
              "      <th></th>\n",
              "      <th></th>\n",
              "      <th></th>\n",
              "      <th></th>\n",
              "      <th></th>\n",
              "      <th></th>\n",
              "      <th></th>\n",
              "      <th></th>\n",
              "      <th></th>\n",
              "      <th></th>\n",
              "      <th></th>\n",
              "    </tr>\n",
              "  </thead>\n",
              "  <tbody>\n",
              "    <tr>\n",
              "      <th>1.5Fin</th>\n",
              "      <td>0</td>\n",
              "      <td>0</td>\n",
              "      <td>0</td>\n",
              "      <td>25</td>\n",
              "      <td>6</td>\n",
              "      <td>0</td>\n",
              "      <td>9</td>\n",
              "      <td>22</td>\n",
              "      <td>1</td>\n",
              "      <td>16</td>\n",
              "      <td>0</td>\n",
              "      <td>4</td>\n",
              "      <td>15</td>\n",
              "      <td>0</td>\n",
              "      <td>1</td>\n",
              "      <td>2</td>\n",
              "      <td>0</td>\n",
              "      <td>33</td>\n",
              "      <td>12</td>\n",
              "      <td>5</td>\n",
              "      <td>1</td>\n",
              "      <td>0</td>\n",
              "      <td>0</td>\n",
              "      <td>2</td>\n",
              "      <td>0</td>\n",
              "    </tr>\n",
              "    <tr>\n",
              "      <th>1.5Unf</th>\n",
              "      <td>0</td>\n",
              "      <td>0</td>\n",
              "      <td>0</td>\n",
              "      <td>6</td>\n",
              "      <td>0</td>\n",
              "      <td>0</td>\n",
              "      <td>1</td>\n",
              "      <td>0</td>\n",
              "      <td>0</td>\n",
              "      <td>2</td>\n",
              "      <td>0</td>\n",
              "      <td>0</td>\n",
              "      <td>2</td>\n",
              "      <td>0</td>\n",
              "      <td>0</td>\n",
              "      <td>0</td>\n",
              "      <td>0</td>\n",
              "      <td>2</td>\n",
              "      <td>0</td>\n",
              "      <td>0</td>\n",
              "      <td>1</td>\n",
              "      <td>0</td>\n",
              "      <td>0</td>\n",
              "      <td>0</td>\n",
              "      <td>0</td>\n",
              "    </tr>\n",
              "    <tr>\n",
              "      <th>1Story</th>\n",
              "      <td>17</td>\n",
              "      <td>0</td>\n",
              "      <td>0</td>\n",
              "      <td>20</td>\n",
              "      <td>11</td>\n",
              "      <td>91</td>\n",
              "      <td>19</td>\n",
              "      <td>53</td>\n",
              "      <td>11</td>\n",
              "      <td>13</td>\n",
              "      <td>2</td>\n",
              "      <td>32</td>\n",
              "      <td>159</td>\n",
              "      <td>4</td>\n",
              "      <td>35</td>\n",
              "      <td>6</td>\n",
              "      <td>51</td>\n",
              "      <td>33</td>\n",
              "      <td>2</td>\n",
              "      <td>53</td>\n",
              "      <td>28</td>\n",
              "      <td>37</td>\n",
              "      <td>18</td>\n",
              "      <td>23</td>\n",
              "      <td>8</td>\n",
              "    </tr>\n",
              "    <tr>\n",
              "      <th>2.5Fin</th>\n",
              "      <td>0</td>\n",
              "      <td>0</td>\n",
              "      <td>0</td>\n",
              "      <td>0</td>\n",
              "      <td>0</td>\n",
              "      <td>0</td>\n",
              "      <td>1</td>\n",
              "      <td>0</td>\n",
              "      <td>0</td>\n",
              "      <td>0</td>\n",
              "      <td>0</td>\n",
              "      <td>0</td>\n",
              "      <td>0</td>\n",
              "      <td>0</td>\n",
              "      <td>0</td>\n",
              "      <td>0</td>\n",
              "      <td>0</td>\n",
              "      <td>3</td>\n",
              "      <td>4</td>\n",
              "      <td>0</td>\n",
              "      <td>0</td>\n",
              "      <td>0</td>\n",
              "      <td>0</td>\n",
              "      <td>0</td>\n",
              "      <td>0</td>\n",
              "    </tr>\n",
              "    <tr>\n",
              "      <th>2.5Unf</th>\n",
              "      <td>0</td>\n",
              "      <td>0</td>\n",
              "      <td>0</td>\n",
              "      <td>1</td>\n",
              "      <td>0</td>\n",
              "      <td>0</td>\n",
              "      <td>1</td>\n",
              "      <td>0</td>\n",
              "      <td>0</td>\n",
              "      <td>1</td>\n",
              "      <td>0</td>\n",
              "      <td>0</td>\n",
              "      <td>0</td>\n",
              "      <td>0</td>\n",
              "      <td>0</td>\n",
              "      <td>0</td>\n",
              "      <td>0</td>\n",
              "      <td>8</td>\n",
              "      <td>0</td>\n",
              "      <td>0</td>\n",
              "      <td>0</td>\n",
              "      <td>0</td>\n",
              "      <td>0</td>\n",
              "      <td>0</td>\n",
              "      <td>0</td>\n",
              "    </tr>\n",
              "    <tr>\n",
              "      <th>2Story</th>\n",
              "      <td>0</td>\n",
              "      <td>2</td>\n",
              "      <td>16</td>\n",
              "      <td>6</td>\n",
              "      <td>8</td>\n",
              "      <td>53</td>\n",
              "      <td>20</td>\n",
              "      <td>14</td>\n",
              "      <td>60</td>\n",
              "      <td>5</td>\n",
              "      <td>8</td>\n",
              "      <td>3</td>\n",
              "      <td>22</td>\n",
              "      <td>5</td>\n",
              "      <td>29</td>\n",
              "      <td>33</td>\n",
              "      <td>26</td>\n",
              "      <td>32</td>\n",
              "      <td>7</td>\n",
              "      <td>5</td>\n",
              "      <td>25</td>\n",
              "      <td>49</td>\n",
              "      <td>7</td>\n",
              "      <td>9</td>\n",
              "      <td>1</td>\n",
              "    </tr>\n",
              "    <tr>\n",
              "      <th>SFoyer</th>\n",
              "      <td>0</td>\n",
              "      <td>0</td>\n",
              "      <td>0</td>\n",
              "      <td>0</td>\n",
              "      <td>0</td>\n",
              "      <td>3</td>\n",
              "      <td>0</td>\n",
              "      <td>5</td>\n",
              "      <td>0</td>\n",
              "      <td>0</td>\n",
              "      <td>6</td>\n",
              "      <td>5</td>\n",
              "      <td>6</td>\n",
              "      <td>0</td>\n",
              "      <td>1</td>\n",
              "      <td>0</td>\n",
              "      <td>0</td>\n",
              "      <td>2</td>\n",
              "      <td>0</td>\n",
              "      <td>6</td>\n",
              "      <td>3</td>\n",
              "      <td>0</td>\n",
              "      <td>0</td>\n",
              "      <td>0</td>\n",
              "      <td>0</td>\n",
              "    </tr>\n",
              "    <tr>\n",
              "      <th>SLvl</th>\n",
              "      <td>0</td>\n",
              "      <td>0</td>\n",
              "      <td>0</td>\n",
              "      <td>0</td>\n",
              "      <td>3</td>\n",
              "      <td>3</td>\n",
              "      <td>0</td>\n",
              "      <td>6</td>\n",
              "      <td>7</td>\n",
              "      <td>0</td>\n",
              "      <td>1</td>\n",
              "      <td>5</td>\n",
              "      <td>21</td>\n",
              "      <td>0</td>\n",
              "      <td>7</td>\n",
              "      <td>0</td>\n",
              "      <td>0</td>\n",
              "      <td>0</td>\n",
              "      <td>0</td>\n",
              "      <td>5</td>\n",
              "      <td>1</td>\n",
              "      <td>0</td>\n",
              "      <td>0</td>\n",
              "      <td>4</td>\n",
              "      <td>2</td>\n",
              "    </tr>\n",
              "  </tbody>\n",
              "</table>\n",
              "</div>"
            ],
            "text/plain": [
              "Neighborhood  Blmngtn  Blueste  BrDale  ...  StoneBr  Timber  Veenker\n",
              "HouseStyle                              ...                          \n",
              "1.5Fin              0        0       0  ...        0       2        0\n",
              "1.5Unf              0        0       0  ...        0       0        0\n",
              "1Story             17        0       0  ...       18      23        8\n",
              "2.5Fin              0        0       0  ...        0       0        0\n",
              "2.5Unf              0        0       0  ...        0       0        0\n",
              "2Story              0        2      16  ...        7       9        1\n",
              "SFoyer              0        0       0  ...        0       0        0\n",
              "SLvl                0        0       0  ...        0       4        2\n",
              "\n",
              "[8 rows x 25 columns]"
            ]
          },
          "metadata": {
            "tags": []
          },
          "execution_count": 47
        }
      ]
    },
    {
      "cell_type": "code",
      "metadata": {
        "id": "4DJAOUyZdcSN",
        "colab_type": "code",
        "outputId": "e9930fe0-4287-446c-aa10-d684dfd2a629",
        "colab": {
          "base_uri": "https://localhost:8080/",
          "height": 51
        }
      },
      "source": [
        "compareTests(style_neighbor)"
      ],
      "execution_count": 48,
      "outputs": [
        {
          "output_type": "stream",
          "text": [
            "Our chi-square statistic: 1047.260852 p-value 0.000000\n",
            "Their chi-square statistic: 1047.260852 p-value: 0.000000\n"
          ],
          "name": "stdout"
        }
      ]
    },
    {
      "cell_type": "code",
      "metadata": {
        "id": "-soa52CnAFzf",
        "colab_type": "code",
        "outputId": "e34e5be8-a5f1-4989-82da-7bc1b76f7d3b",
        "colab": {
          "base_uri": "https://localhost:8080/",
          "height": 266
        }
      },
      "source": [
        "# Second crosstab, Sale Condition and price range\n",
        "\n",
        "condition_price = pd.crosstab(Ames_df['SaleCondition'], Ames_df['priceRange'])\n",
        "condition_price"
      ],
      "execution_count": 0,
      "outputs": [
        {
          "output_type": "execute_result",
          "data": {
            "text/html": [
              "<div>\n",
              "<style scoped>\n",
              "    .dataframe tbody tr th:only-of-type {\n",
              "        vertical-align: middle;\n",
              "    }\n",
              "\n",
              "    .dataframe tbody tr th {\n",
              "        vertical-align: top;\n",
              "    }\n",
              "\n",
              "    .dataframe thead th {\n",
              "        text-align: right;\n",
              "    }\n",
              "</style>\n",
              "<table border=\"1\" class=\"dataframe\">\n",
              "  <thead>\n",
              "    <tr style=\"text-align: right;\">\n",
              "      <th>priceRange</th>\n",
              "      <th>low</th>\n",
              "      <th>medium-low</th>\n",
              "      <th>midrange</th>\n",
              "      <th>medium-high</th>\n",
              "      <th>high</th>\n",
              "    </tr>\n",
              "    <tr>\n",
              "      <th>SaleCondition</th>\n",
              "      <th></th>\n",
              "      <th></th>\n",
              "      <th></th>\n",
              "      <th></th>\n",
              "      <th></th>\n",
              "    </tr>\n",
              "  </thead>\n",
              "  <tbody>\n",
              "    <tr>\n",
              "      <th>Abnorml</th>\n",
              "      <td>8</td>\n",
              "      <td>52</td>\n",
              "      <td>21</td>\n",
              "      <td>10</td>\n",
              "      <td>10</td>\n",
              "    </tr>\n",
              "    <tr>\n",
              "      <th>AdjLand</th>\n",
              "      <td>0</td>\n",
              "      <td>4</td>\n",
              "      <td>0</td>\n",
              "      <td>0</td>\n",
              "      <td>0</td>\n",
              "    </tr>\n",
              "    <tr>\n",
              "      <th>Alloca</th>\n",
              "      <td>1</td>\n",
              "      <td>4</td>\n",
              "      <td>3</td>\n",
              "      <td>2</td>\n",
              "      <td>2</td>\n",
              "    </tr>\n",
              "    <tr>\n",
              "      <th>Family</th>\n",
              "      <td>0</td>\n",
              "      <td>10</td>\n",
              "      <td>6</td>\n",
              "      <td>1</td>\n",
              "      <td>3</td>\n",
              "    </tr>\n",
              "    <tr>\n",
              "      <th>Normal</th>\n",
              "      <td>30</td>\n",
              "      <td>397</td>\n",
              "      <td>335</td>\n",
              "      <td>194</td>\n",
              "      <td>242</td>\n",
              "    </tr>\n",
              "    <tr>\n",
              "      <th>Partial</th>\n",
              "      <td>0</td>\n",
              "      <td>3</td>\n",
              "      <td>22</td>\n",
              "      <td>22</td>\n",
              "      <td>78</td>\n",
              "    </tr>\n",
              "  </tbody>\n",
              "</table>\n",
              "</div>"
            ],
            "text/plain": [
              "priceRange     low  medium-low  midrange  medium-high  high\n",
              "SaleCondition                                              \n",
              "Abnorml          8          52        21           10    10\n",
              "AdjLand          0           4         0            0     0\n",
              "Alloca           1           4         3            2     2\n",
              "Family           0          10         6            1     3\n",
              "Normal          30         397       335          194   242\n",
              "Partial          0           3        22           22    78"
            ]
          },
          "metadata": {
            "tags": []
          },
          "execution_count": 15
        }
      ]
    },
    {
      "cell_type": "code",
      "metadata": {
        "id": "C1U8LZDx5hwe",
        "colab_type": "code",
        "outputId": "ef3782dd-f1b6-4c36-b4d4-5e3b50d5cddc",
        "colab": {
          "base_uri": "https://localhost:8080/",
          "height": 51
        }
      },
      "source": [
        "compareTests(condition_price)"
      ],
      "execution_count": 0,
      "outputs": [
        {
          "output_type": "stream",
          "text": [
            "Our chi-square statistic: 179.872601 p-value 0.000000\n",
            "Their chi-square statistic: 179.872601 p-value: 0.000000\n"
          ],
          "name": "stdout"
        }
      ]
    },
    {
      "cell_type": "markdown",
      "metadata": {
        "id": "4ohsJhQUmEuS",
        "colab_type": "text"
      },
      "source": [
        "## Stretch goals:\n",
        "\n",
        "1. Write a summary of your findings, mixing prose and math/code/results. *Note* - yes, this is by definition a political topic. It is challenging but important to keep your writing voice *neutral* and stick to the facts of the data. Data science often involves considering controversial issues, so it's important to be sensitive about them (especially if you want to publish). *Done above*\n",
        "2. Apply the techniques you learned today to your project data or other data of your choice, and write/discuss your findings here. *Below*\n",
        "3. Refactor your code so it is elegant, readable, and can be easily run for all issues. *Also done above.*"
      ]
    },
    {
      "cell_type": "markdown",
      "metadata": {
        "id": "uLwNnGukcnEn",
        "colab_type": "text"
      },
      "source": [
        "I'll be using a newer UFO sightings dataset I recently scraped from the NUFORC website. It covers from 1970 to February of this year. It does not have geolocation data (not that it is relevant here anyway), but I'll feature engineer additional categorical variables to look at. Some examples are reiterating my previous project, with new data, which I feel could be appropriate for chi-square testing.\n",
        "\n",
        "I really am hoping to find some cases that will fail to reject the null hypothesis (that apparent correlation between them is just random noise). That would further test my function (though my results match the Scipy function). But none of these seem independent."
      ]
    },
    {
      "cell_type": "code",
      "metadata": {
        "id": "enZujrNUzwSV",
        "colab_type": "code",
        "outputId": "f7fdbf65-5356-4430-f6cb-d0a969ebe820",
        "colab": {
          "base_uri": "https://localhost:8080/",
          "height": 204
        }
      },
      "source": [
        "ufo_url = 'https://raw.githubusercontent.com/karencfisher/ufosightings/master/newufo.csv'\n",
        "ufo_df = pd.read_csv(ufo_url)\n",
        "ufo_df.head()\n"
      ],
      "execution_count": 0,
      "outputs": [
        {
          "output_type": "execute_result",
          "data": {
            "text/html": [
              "<div>\n",
              "<style scoped>\n",
              "    .dataframe tbody tr th:only-of-type {\n",
              "        vertical-align: middle;\n",
              "    }\n",
              "\n",
              "    .dataframe tbody tr th {\n",
              "        vertical-align: top;\n",
              "    }\n",
              "\n",
              "    .dataframe thead th {\n",
              "        text-align: right;\n",
              "    }\n",
              "</style>\n",
              "<table border=\"1\" class=\"dataframe\">\n",
              "  <thead>\n",
              "    <tr style=\"text-align: right;\">\n",
              "      <th></th>\n",
              "      <th>datetime</th>\n",
              "      <th>City</th>\n",
              "      <th>State</th>\n",
              "      <th>Shape</th>\n",
              "      <th>Duration</th>\n",
              "      <th>Summary</th>\n",
              "      <th>Posted</th>\n",
              "    </tr>\n",
              "  </thead>\n",
              "  <tbody>\n",
              "    <tr>\n",
              "      <th>0</th>\n",
              "      <td>2020-02-03 20:00:00</td>\n",
              "      <td>Eastaboga</td>\n",
              "      <td>AL</td>\n",
              "      <td>Unknown</td>\n",
              "      <td>0 days 00:03:00.000000000</td>\n",
              "      <td>Well this has been happening several nights fo...</td>\n",
              "      <td>2/7/20</td>\n",
              "    </tr>\n",
              "    <tr>\n",
              "      <th>1</th>\n",
              "      <td>2020-02-02 19:00:00</td>\n",
              "      <td>Chelsea</td>\n",
              "      <td>AL</td>\n",
              "      <td>Oval</td>\n",
              "      <td>0 days 00:30:00.000000000</td>\n",
              "      <td>Coming in from work we could see a white light...</td>\n",
              "      <td>2/7/20</td>\n",
              "    </tr>\n",
              "    <tr>\n",
              "      <th>2</th>\n",
              "      <td>2020-02-02 07:30:00</td>\n",
              "      <td>Hueytown</td>\n",
              "      <td>AL</td>\n",
              "      <td>Other</td>\n",
              "      <td>0 days 00:03:00.000000000</td>\n",
              "      <td>Very seriously concerning what I'm seeing righ...</td>\n",
              "      <td>2/7/20</td>\n",
              "    </tr>\n",
              "    <tr>\n",
              "      <th>3</th>\n",
              "      <td>2020-02-01 07:00:00</td>\n",
              "      <td>Southside</td>\n",
              "      <td>AL</td>\n",
              "      <td>Light</td>\n",
              "      <td>0 days 00:25:00.000000000</td>\n",
              "      <td>Distant unmoving bright light in sky west of o...</td>\n",
              "      <td>2/7/20</td>\n",
              "    </tr>\n",
              "    <tr>\n",
              "      <th>4</th>\n",
              "      <td>2020-01-08 18:00:00</td>\n",
              "      <td>Littleville</td>\n",
              "      <td>AL</td>\n",
              "      <td>Light</td>\n",
              "      <td>0 days 00:00:40.000000000</td>\n",
              "      <td>Two lights floated above the police department...</td>\n",
              "      <td>2/7/20</td>\n",
              "    </tr>\n",
              "  </tbody>\n",
              "</table>\n",
              "</div>"
            ],
            "text/plain": [
              "              datetime  ...  Posted\n",
              "0  2020-02-03 20:00:00  ...  2/7/20\n",
              "1  2020-02-02 19:00:00  ...  2/7/20\n",
              "2  2020-02-02 07:30:00  ...  2/7/20\n",
              "3  2020-02-01 07:00:00  ...  2/7/20\n",
              "4  2020-01-08 18:00:00  ...  2/7/20\n",
              "\n",
              "[5 rows x 7 columns]"
            ]
          },
          "metadata": {
            "tags": []
          },
          "execution_count": 17
        }
      ]
    },
    {
      "cell_type": "markdown",
      "metadata": {
        "id": "abhlRAs7dzGL",
        "colab_type": "text"
      },
      "source": [
        "Create some new categorical variables."
      ]
    },
    {
      "cell_type": "code",
      "metadata": {
        "id": "16ce-5hLWPMV",
        "colab_type": "code",
        "colab": {}
      },
      "source": [
        "# Need to convert date and time columns to proper formats\n",
        "ufo_df['datetime'] = pd.to_datetime(ufo_df['datetime'])\n",
        "ufo_df['Duration'] = pd.to_timedelta(ufo_df['Duration'])"
      ],
      "execution_count": 0,
      "outputs": []
    },
    {
      "cell_type": "code",
      "metadata": {
        "id": "wXwq26omYtbd",
        "colab_type": "code",
        "outputId": "639fc772-d2ae-494c-b40d-4039fc42bed2",
        "colab": {
          "base_uri": "https://localhost:8080/",
          "height": 359
        }
      },
      "source": [
        "ufo_df['year'] = ufo_df['datetime'].dt.year\n",
        "decade_bins = [1970, 1979, 1989, 1999, 2009, 2020]\n",
        "decade_labels = ['1970-79', '1980-89', '1990-99', '2000-09', '2010-2019']\n",
        "ufo_df['decade'] = pd.cut(ufo_df['datetime'].dt.year, bins=decade_bins, labels=decade_labels)\n",
        "ufo_df[['datetime', 'year','decade']].sample(10)"
      ],
      "execution_count": 0,
      "outputs": [
        {
          "output_type": "execute_result",
          "data": {
            "text/html": [
              "<div>\n",
              "<style scoped>\n",
              "    .dataframe tbody tr th:only-of-type {\n",
              "        vertical-align: middle;\n",
              "    }\n",
              "\n",
              "    .dataframe tbody tr th {\n",
              "        vertical-align: top;\n",
              "    }\n",
              "\n",
              "    .dataframe thead th {\n",
              "        text-align: right;\n",
              "    }\n",
              "</style>\n",
              "<table border=\"1\" class=\"dataframe\">\n",
              "  <thead>\n",
              "    <tr style=\"text-align: right;\">\n",
              "      <th></th>\n",
              "      <th>datetime</th>\n",
              "      <th>year</th>\n",
              "      <th>decade</th>\n",
              "    </tr>\n",
              "  </thead>\n",
              "  <tbody>\n",
              "    <tr>\n",
              "      <th>38056</th>\n",
              "      <td>2012-06-22 01:20:00</td>\n",
              "      <td>2012</td>\n",
              "      <td>2010-2019</td>\n",
              "    </tr>\n",
              "    <tr>\n",
              "      <th>8823</th>\n",
              "      <td>2012-07-04 22:00:00</td>\n",
              "      <td>2012</td>\n",
              "      <td>2010-2019</td>\n",
              "    </tr>\n",
              "    <tr>\n",
              "      <th>25002</th>\n",
              "      <td>2011-08-27 20:30:00</td>\n",
              "      <td>2011</td>\n",
              "      <td>2010-2019</td>\n",
              "    </tr>\n",
              "    <tr>\n",
              "      <th>56591</th>\n",
              "      <td>2009-11-22 18:00:00</td>\n",
              "      <td>2009</td>\n",
              "      <td>2000-09</td>\n",
              "    </tr>\n",
              "    <tr>\n",
              "      <th>44865</th>\n",
              "      <td>2014-09-01 20:00:00</td>\n",
              "      <td>2014</td>\n",
              "      <td>2010-2019</td>\n",
              "    </tr>\n",
              "    <tr>\n",
              "      <th>15445</th>\n",
              "      <td>2012-09-02 13:00:00</td>\n",
              "      <td>2012</td>\n",
              "      <td>2010-2019</td>\n",
              "    </tr>\n",
              "    <tr>\n",
              "      <th>60589</th>\n",
              "      <td>2006-10-24 20:50:00</td>\n",
              "      <td>2006</td>\n",
              "      <td>2000-09</td>\n",
              "    </tr>\n",
              "    <tr>\n",
              "      <th>53158</th>\n",
              "      <td>2015-09-22 22:55:00</td>\n",
              "      <td>2015</td>\n",
              "      <td>2010-2019</td>\n",
              "    </tr>\n",
              "    <tr>\n",
              "      <th>27376</th>\n",
              "      <td>2019-12-27 22:30:00</td>\n",
              "      <td>2019</td>\n",
              "      <td>2010-2019</td>\n",
              "    </tr>\n",
              "    <tr>\n",
              "      <th>25289</th>\n",
              "      <td>2010-06-15 02:30:00</td>\n",
              "      <td>2010</td>\n",
              "      <td>2010-2019</td>\n",
              "    </tr>\n",
              "  </tbody>\n",
              "</table>\n",
              "</div>"
            ],
            "text/plain": [
              "                 datetime  year     decade\n",
              "38056 2012-06-22 01:20:00  2012  2010-2019\n",
              "8823  2012-07-04 22:00:00  2012  2010-2019\n",
              "25002 2011-08-27 20:30:00  2011  2010-2019\n",
              "56591 2009-11-22 18:00:00  2009    2000-09\n",
              "44865 2014-09-01 20:00:00  2014  2010-2019\n",
              "15445 2012-09-02 13:00:00  2012  2010-2019\n",
              "60589 2006-10-24 20:50:00  2006    2000-09\n",
              "53158 2015-09-22 22:55:00  2015  2010-2019\n",
              "27376 2019-12-27 22:30:00  2019  2010-2019\n",
              "25289 2010-06-15 02:30:00  2010  2010-2019"
            ]
          },
          "metadata": {
            "tags": []
          },
          "execution_count": 19
        }
      ]
    },
    {
      "cell_type": "code",
      "metadata": {
        "id": "xBaTeeHLXgBb",
        "colab_type": "code",
        "outputId": "552853e4-4b92-487f-c33b-55ea7308ab80",
        "colab": {
          "base_uri": "https://localhost:8080/",
          "height": 204
        }
      },
      "source": [
        "seasons = {12: 'winter', 1: 'winter', 2: 'winter',\n",
        "           3: 'spring', 4: 'spring', 5: 'spring',\n",
        "           6: 'summer', 7: 'summer', 8: 'summer',\n",
        "           9: 'fall', 10: 'fall', 11: 'fall'}\n",
        "ufo_df['season'] = ufo_df['datetime'].dt.month.apply(lambda x: seasons[x])\n",
        "ufo_df[['datetime', 'season']].sample(5)"
      ],
      "execution_count": 0,
      "outputs": [
        {
          "output_type": "execute_result",
          "data": {
            "text/html": [
              "<div>\n",
              "<style scoped>\n",
              "    .dataframe tbody tr th:only-of-type {\n",
              "        vertical-align: middle;\n",
              "    }\n",
              "\n",
              "    .dataframe tbody tr th {\n",
              "        vertical-align: top;\n",
              "    }\n",
              "\n",
              "    .dataframe thead th {\n",
              "        text-align: right;\n",
              "    }\n",
              "</style>\n",
              "<table border=\"1\" class=\"dataframe\">\n",
              "  <thead>\n",
              "    <tr style=\"text-align: right;\">\n",
              "      <th></th>\n",
              "      <th>datetime</th>\n",
              "      <th>season</th>\n",
              "    </tr>\n",
              "  </thead>\n",
              "  <tbody>\n",
              "    <tr>\n",
              "      <th>20200</th>\n",
              "      <td>2008-06-20 01:00:00</td>\n",
              "      <td>summer</td>\n",
              "    </tr>\n",
              "    <tr>\n",
              "      <th>45753</th>\n",
              "      <td>2011-08-30 22:16:00</td>\n",
              "      <td>summer</td>\n",
              "    </tr>\n",
              "    <tr>\n",
              "      <th>9220</th>\n",
              "      <td>2011-11-21 02:19:00</td>\n",
              "      <td>fall</td>\n",
              "    </tr>\n",
              "    <tr>\n",
              "      <th>22530</th>\n",
              "      <td>1998-09-15 19:00:00</td>\n",
              "      <td>fall</td>\n",
              "    </tr>\n",
              "    <tr>\n",
              "      <th>1163</th>\n",
              "      <td>2020-01-30 22:00:00</td>\n",
              "      <td>winter</td>\n",
              "    </tr>\n",
              "  </tbody>\n",
              "</table>\n",
              "</div>"
            ],
            "text/plain": [
              "                 datetime  season\n",
              "20200 2008-06-20 01:00:00  summer\n",
              "45753 2011-08-30 22:16:00  summer\n",
              "9220  2011-11-21 02:19:00    fall\n",
              "22530 1998-09-15 19:00:00    fall\n",
              "1163  2020-01-30 22:00:00  winter"
            ]
          },
          "metadata": {
            "tags": []
          },
          "execution_count": 20
        }
      ]
    },
    {
      "cell_type": "code",
      "metadata": {
        "id": "PL-o60EYYOg6",
        "colab_type": "code",
        "outputId": "e80179b5-902d-4998-b13b-cd61848bbae6",
        "colab": {
          "base_uri": "https://localhost:8080/",
          "height": 204
        }
      },
      "source": [
        "days_of_week = ['Monday', 'Tuesday', 'Wednesday', 'Thursday', 'Friday', 'Saturday', 'Sunday']\n",
        "ufo_df['weekday'] = ufo_df['datetime'].apply(lambda x: days_of_week[x.weekday()])\n",
        "ufo_df[['datetime', 'weekday']].sample(5)"
      ],
      "execution_count": 0,
      "outputs": [
        {
          "output_type": "execute_result",
          "data": {
            "text/html": [
              "<div>\n",
              "<style scoped>\n",
              "    .dataframe tbody tr th:only-of-type {\n",
              "        vertical-align: middle;\n",
              "    }\n",
              "\n",
              "    .dataframe tbody tr th {\n",
              "        vertical-align: top;\n",
              "    }\n",
              "\n",
              "    .dataframe thead th {\n",
              "        text-align: right;\n",
              "    }\n",
              "</style>\n",
              "<table border=\"1\" class=\"dataframe\">\n",
              "  <thead>\n",
              "    <tr style=\"text-align: right;\">\n",
              "      <th></th>\n",
              "      <th>datetime</th>\n",
              "      <th>weekday</th>\n",
              "    </tr>\n",
              "  </thead>\n",
              "  <tbody>\n",
              "    <tr>\n",
              "      <th>36305</th>\n",
              "      <td>2012-11-07 22:30:00</td>\n",
              "      <td>Wednesday</td>\n",
              "    </tr>\n",
              "    <tr>\n",
              "      <th>67307</th>\n",
              "      <td>2016-07-09 21:00:00</td>\n",
              "      <td>Saturday</td>\n",
              "    </tr>\n",
              "    <tr>\n",
              "      <th>66742</th>\n",
              "      <td>2019-09-03 22:00:00</td>\n",
              "      <td>Tuesday</td>\n",
              "    </tr>\n",
              "    <tr>\n",
              "      <th>65725</th>\n",
              "      <td>2014-04-16 10:30:00</td>\n",
              "      <td>Wednesday</td>\n",
              "    </tr>\n",
              "    <tr>\n",
              "      <th>62277</th>\n",
              "      <td>2011-07-29 01:45:00</td>\n",
              "      <td>Friday</td>\n",
              "    </tr>\n",
              "  </tbody>\n",
              "</table>\n",
              "</div>"
            ],
            "text/plain": [
              "                 datetime    weekday\n",
              "36305 2012-11-07 22:30:00  Wednesday\n",
              "67307 2016-07-09 21:00:00   Saturday\n",
              "66742 2019-09-03 22:00:00    Tuesday\n",
              "65725 2014-04-16 10:30:00  Wednesday\n",
              "62277 2011-07-29 01:45:00     Friday"
            ]
          },
          "metadata": {
            "tags": []
          },
          "execution_count": 21
        }
      ]
    },
    {
      "cell_type": "code",
      "metadata": {
        "id": "4KYBHfWrYeXp",
        "colab_type": "code",
        "outputId": "647b35ba-0f16-4821-fa8a-ea3d7ee596a7",
        "colab": {
          "base_uri": "https://localhost:8080/",
          "height": 204
        }
      },
      "source": [
        "timeofday_bins = [0, 4, 8, 12, 16, 20, 24]\n",
        "timeofday_labels = ['Midnight - 4AM', '4AM - 8AM', '8AM - Noon', 'Noon - 4PM', '4PM - 8PM', '8PM - Midnight']\n",
        "ufo_df['timeofday'] = pd.cut(ufo_df['datetime'].dt.hour, bins=timeofday_bins, labels=timeofday_labels)\n",
        "ufo_df[['datetime', 'timeofday']].head()"
      ],
      "execution_count": 0,
      "outputs": [
        {
          "output_type": "execute_result",
          "data": {
            "text/html": [
              "<div>\n",
              "<style scoped>\n",
              "    .dataframe tbody tr th:only-of-type {\n",
              "        vertical-align: middle;\n",
              "    }\n",
              "\n",
              "    .dataframe tbody tr th {\n",
              "        vertical-align: top;\n",
              "    }\n",
              "\n",
              "    .dataframe thead th {\n",
              "        text-align: right;\n",
              "    }\n",
              "</style>\n",
              "<table border=\"1\" class=\"dataframe\">\n",
              "  <thead>\n",
              "    <tr style=\"text-align: right;\">\n",
              "      <th></th>\n",
              "      <th>datetime</th>\n",
              "      <th>timeofday</th>\n",
              "    </tr>\n",
              "  </thead>\n",
              "  <tbody>\n",
              "    <tr>\n",
              "      <th>0</th>\n",
              "      <td>2020-02-03 20:00:00</td>\n",
              "      <td>4PM - 8PM</td>\n",
              "    </tr>\n",
              "    <tr>\n",
              "      <th>1</th>\n",
              "      <td>2020-02-02 19:00:00</td>\n",
              "      <td>4PM - 8PM</td>\n",
              "    </tr>\n",
              "    <tr>\n",
              "      <th>2</th>\n",
              "      <td>2020-02-02 07:30:00</td>\n",
              "      <td>4AM - 8AM</td>\n",
              "    </tr>\n",
              "    <tr>\n",
              "      <th>3</th>\n",
              "      <td>2020-02-01 07:00:00</td>\n",
              "      <td>4AM - 8AM</td>\n",
              "    </tr>\n",
              "    <tr>\n",
              "      <th>4</th>\n",
              "      <td>2020-01-08 18:00:00</td>\n",
              "      <td>4PM - 8PM</td>\n",
              "    </tr>\n",
              "  </tbody>\n",
              "</table>\n",
              "</div>"
            ],
            "text/plain": [
              "             datetime  timeofday\n",
              "0 2020-02-03 20:00:00  4PM - 8PM\n",
              "1 2020-02-02 19:00:00  4PM - 8PM\n",
              "2 2020-02-02 07:30:00  4AM - 8AM\n",
              "3 2020-02-01 07:00:00  4AM - 8AM\n",
              "4 2020-01-08 18:00:00  4PM - 8PM"
            ]
          },
          "metadata": {
            "tags": []
          },
          "execution_count": 22
        }
      ]
    },
    {
      "cell_type": "markdown",
      "metadata": {
        "id": "TH4npITYd56x",
        "colab_type": "text"
      },
      "source": [
        "Do shapes of the objects seen change from decade to decade?"
      ]
    },
    {
      "cell_type": "code",
      "metadata": {
        "id": "9m8TuzeIZ9NT",
        "colab_type": "code",
        "outputId": "1f65b019-7e30-483f-d4f0-de46a90f6dd1",
        "colab": {
          "base_uri": "https://localhost:8080/",
          "height": 340
        }
      },
      "source": [
        "decades_shapes = pd.crosstab(ufo_df['decade'], ufo_df['Shape'])\n",
        "decades_shapes"
      ],
      "execution_count": 0,
      "outputs": [
        {
          "output_type": "execute_result",
          "data": {
            "text/html": [
              "<div>\n",
              "<style scoped>\n",
              "    .dataframe tbody tr th:only-of-type {\n",
              "        vertical-align: middle;\n",
              "    }\n",
              "\n",
              "    .dataframe tbody tr th {\n",
              "        vertical-align: top;\n",
              "    }\n",
              "\n",
              "    .dataframe thead th {\n",
              "        text-align: right;\n",
              "    }\n",
              "</style>\n",
              "<table border=\"1\" class=\"dataframe\">\n",
              "  <thead>\n",
              "    <tr style=\"text-align: right;\">\n",
              "      <th>Shape</th>\n",
              "      <th>Changing</th>\n",
              "      <th>Chevron</th>\n",
              "      <th>Cigar</th>\n",
              "      <th>Circle</th>\n",
              "      <th>Cone</th>\n",
              "      <th>Cross</th>\n",
              "      <th>Cylinder</th>\n",
              "      <th>Diamond</th>\n",
              "      <th>Disk</th>\n",
              "      <th>Egg</th>\n",
              "      <th>Fireball</th>\n",
              "      <th>Flash</th>\n",
              "      <th>Formation</th>\n",
              "      <th>Light</th>\n",
              "      <th>Other</th>\n",
              "      <th>Oval</th>\n",
              "      <th>Rectangle</th>\n",
              "      <th>Sphere</th>\n",
              "      <th>Teardrop</th>\n",
              "      <th>Triangle</th>\n",
              "      <th>Unknown</th>\n",
              "    </tr>\n",
              "    <tr>\n",
              "      <th>decade</th>\n",
              "      <th></th>\n",
              "      <th></th>\n",
              "      <th></th>\n",
              "      <th></th>\n",
              "      <th></th>\n",
              "      <th></th>\n",
              "      <th></th>\n",
              "      <th></th>\n",
              "      <th></th>\n",
              "      <th></th>\n",
              "      <th></th>\n",
              "      <th></th>\n",
              "      <th></th>\n",
              "      <th></th>\n",
              "      <th></th>\n",
              "      <th></th>\n",
              "      <th></th>\n",
              "      <th></th>\n",
              "      <th></th>\n",
              "      <th></th>\n",
              "      <th></th>\n",
              "    </tr>\n",
              "  </thead>\n",
              "  <tbody>\n",
              "    <tr>\n",
              "      <th>1970-79</th>\n",
              "      <td>7</td>\n",
              "      <td>8</td>\n",
              "      <td>67</td>\n",
              "      <td>125</td>\n",
              "      <td>5</td>\n",
              "      <td>2</td>\n",
              "      <td>21</td>\n",
              "      <td>7</td>\n",
              "      <td>236</td>\n",
              "      <td>11</td>\n",
              "      <td>28</td>\n",
              "      <td>4</td>\n",
              "      <td>14</td>\n",
              "      <td>112</td>\n",
              "      <td>62</td>\n",
              "      <td>73</td>\n",
              "      <td>21</td>\n",
              "      <td>65</td>\n",
              "      <td>3</td>\n",
              "      <td>94</td>\n",
              "      <td>68</td>\n",
              "    </tr>\n",
              "    <tr>\n",
              "      <th>1980-89</th>\n",
              "      <td>15</td>\n",
              "      <td>17</td>\n",
              "      <td>37</td>\n",
              "      <td>80</td>\n",
              "      <td>1</td>\n",
              "      <td>2</td>\n",
              "      <td>23</td>\n",
              "      <td>14</td>\n",
              "      <td>125</td>\n",
              "      <td>9</td>\n",
              "      <td>20</td>\n",
              "      <td>4</td>\n",
              "      <td>18</td>\n",
              "      <td>109</td>\n",
              "      <td>76</td>\n",
              "      <td>51</td>\n",
              "      <td>39</td>\n",
              "      <td>80</td>\n",
              "      <td>2</td>\n",
              "      <td>116</td>\n",
              "      <td>63</td>\n",
              "    </tr>\n",
              "    <tr>\n",
              "      <th>1990-99</th>\n",
              "      <td>33</td>\n",
              "      <td>21</td>\n",
              "      <td>40</td>\n",
              "      <td>130</td>\n",
              "      <td>3</td>\n",
              "      <td>0</td>\n",
              "      <td>23</td>\n",
              "      <td>15</td>\n",
              "      <td>138</td>\n",
              "      <td>18</td>\n",
              "      <td>63</td>\n",
              "      <td>12</td>\n",
              "      <td>30</td>\n",
              "      <td>191</td>\n",
              "      <td>126</td>\n",
              "      <td>70</td>\n",
              "      <td>35</td>\n",
              "      <td>104</td>\n",
              "      <td>14</td>\n",
              "      <td>280</td>\n",
              "      <td>100</td>\n",
              "    </tr>\n",
              "    <tr>\n",
              "      <th>2000-09</th>\n",
              "      <td>432</td>\n",
              "      <td>187</td>\n",
              "      <td>477</td>\n",
              "      <td>1465</td>\n",
              "      <td>74</td>\n",
              "      <td>41</td>\n",
              "      <td>268</td>\n",
              "      <td>228</td>\n",
              "      <td>961</td>\n",
              "      <td>146</td>\n",
              "      <td>839</td>\n",
              "      <td>266</td>\n",
              "      <td>508</td>\n",
              "      <td>3589</td>\n",
              "      <td>1159</td>\n",
              "      <td>824</td>\n",
              "      <td>334</td>\n",
              "      <td>1034</td>\n",
              "      <td>182</td>\n",
              "      <td>1726</td>\n",
              "      <td>1334</td>\n",
              "    </tr>\n",
              "    <tr>\n",
              "      <th>2010-2019</th>\n",
              "      <td>1252</td>\n",
              "      <td>610</td>\n",
              "      <td>1045</td>\n",
              "      <td>6626</td>\n",
              "      <td>200</td>\n",
              "      <td>195</td>\n",
              "      <td>809</td>\n",
              "      <td>786</td>\n",
              "      <td>1948</td>\n",
              "      <td>360</td>\n",
              "      <td>5258</td>\n",
              "      <td>1050</td>\n",
              "      <td>1987</td>\n",
              "      <td>11583</td>\n",
              "      <td>3313</td>\n",
              "      <td>2209</td>\n",
              "      <td>954</td>\n",
              "      <td>3870</td>\n",
              "      <td>449</td>\n",
              "      <td>4636</td>\n",
              "      <td>3591</td>\n",
              "    </tr>\n",
              "  </tbody>\n",
              "</table>\n",
              "</div>"
            ],
            "text/plain": [
              "Shape      Changing  Chevron  Cigar  ...  Teardrop  Triangle  Unknown\n",
              "decade                               ...                             \n",
              "1970-79           7        8     67  ...         3        94       68\n",
              "1980-89          15       17     37  ...         2       116       63\n",
              "1990-99          33       21     40  ...        14       280      100\n",
              "2000-09         432      187    477  ...       182      1726     1334\n",
              "2010-2019      1252      610   1045  ...       449      4636     3591\n",
              "\n",
              "[5 rows x 21 columns]"
            ]
          },
          "metadata": {
            "tags": []
          },
          "execution_count": 23
        }
      ]
    },
    {
      "cell_type": "code",
      "metadata": {
        "id": "ecyj4mJIa8M_",
        "colab_type": "code",
        "outputId": "00ff17eb-f860-4cc7-dd32-00fdbee80c12",
        "colab": {
          "base_uri": "https://localhost:8080/",
          "height": 51
        }
      },
      "source": [
        "compareTests(decades_shapes)"
      ],
      "execution_count": 0,
      "outputs": [
        {
          "output_type": "stream",
          "text": [
            "Our chi-square statistic: 2556.682960 p-value 0.000000\n",
            "Their chi-square statistic: 2556.682960 p-value: 0.000000\n"
          ],
          "name": "stdout"
        }
      ]
    },
    {
      "cell_type": "code",
      "metadata": {
        "id": "Z5OCY4xtbXs0",
        "colab_type": "code",
        "outputId": "0b1da822-a4c9-4729-8c23-77ad0e34500b",
        "colab": {
          "base_uri": "https://localhost:8080/",
          "height": 266
        }
      },
      "source": [
        "tod_dow = pd.crosstab(ufo_df['timeofday'], ufo_df['weekday'])\n",
        "tod_dow"
      ],
      "execution_count": 0,
      "outputs": [
        {
          "output_type": "execute_result",
          "data": {
            "text/html": [
              "<div>\n",
              "<style scoped>\n",
              "    .dataframe tbody tr th:only-of-type {\n",
              "        vertical-align: middle;\n",
              "    }\n",
              "\n",
              "    .dataframe tbody tr th {\n",
              "        vertical-align: top;\n",
              "    }\n",
              "\n",
              "    .dataframe thead th {\n",
              "        text-align: right;\n",
              "    }\n",
              "</style>\n",
              "<table border=\"1\" class=\"dataframe\">\n",
              "  <thead>\n",
              "    <tr style=\"text-align: right;\">\n",
              "      <th>weekday</th>\n",
              "      <th>Friday</th>\n",
              "      <th>Monday</th>\n",
              "      <th>Saturday</th>\n",
              "      <th>Sunday</th>\n",
              "      <th>Thursday</th>\n",
              "      <th>Tuesday</th>\n",
              "      <th>Wednesday</th>\n",
              "    </tr>\n",
              "    <tr>\n",
              "      <th>timeofday</th>\n",
              "      <th></th>\n",
              "      <th></th>\n",
              "      <th></th>\n",
              "      <th></th>\n",
              "      <th></th>\n",
              "      <th></th>\n",
              "      <th></th>\n",
              "    </tr>\n",
              "  </thead>\n",
              "  <tbody>\n",
              "    <tr>\n",
              "      <th>Midnight - 4AM</th>\n",
              "      <td>1005</td>\n",
              "      <td>921</td>\n",
              "      <td>1225</td>\n",
              "      <td>1185</td>\n",
              "      <td>949</td>\n",
              "      <td>975</td>\n",
              "      <td>960</td>\n",
              "    </tr>\n",
              "    <tr>\n",
              "      <th>4AM - 8AM</th>\n",
              "      <td>731</td>\n",
              "      <td>625</td>\n",
              "      <td>654</td>\n",
              "      <td>528</td>\n",
              "      <td>718</td>\n",
              "      <td>694</td>\n",
              "      <td>723</td>\n",
              "    </tr>\n",
              "    <tr>\n",
              "      <th>8AM - Noon</th>\n",
              "      <td>612</td>\n",
              "      <td>512</td>\n",
              "      <td>779</td>\n",
              "      <td>631</td>\n",
              "      <td>535</td>\n",
              "      <td>520</td>\n",
              "      <td>536</td>\n",
              "    </tr>\n",
              "    <tr>\n",
              "      <th>Noon - 4PM</th>\n",
              "      <td>593</td>\n",
              "      <td>578</td>\n",
              "      <td>769</td>\n",
              "      <td>774</td>\n",
              "      <td>582</td>\n",
              "      <td>557</td>\n",
              "      <td>566</td>\n",
              "    </tr>\n",
              "    <tr>\n",
              "      <th>4PM - 8PM</th>\n",
              "      <td>2843</td>\n",
              "      <td>2510</td>\n",
              "      <td>3727</td>\n",
              "      <td>2803</td>\n",
              "      <td>2770</td>\n",
              "      <td>2594</td>\n",
              "      <td>2709</td>\n",
              "    </tr>\n",
              "    <tr>\n",
              "      <th>8PM - Midnight</th>\n",
              "      <td>4267</td>\n",
              "      <td>3204</td>\n",
              "      <td>5767</td>\n",
              "      <td>3691</td>\n",
              "      <td>3673</td>\n",
              "      <td>3409</td>\n",
              "      <td>3711</td>\n",
              "    </tr>\n",
              "  </tbody>\n",
              "</table>\n",
              "</div>"
            ],
            "text/plain": [
              "weekday         Friday  Monday  Saturday  Sunday  Thursday  Tuesday  Wednesday\n",
              "timeofday                                                                     \n",
              "Midnight - 4AM    1005     921      1225    1185       949      975        960\n",
              "4AM - 8AM          731     625       654     528       718      694        723\n",
              "8AM - Noon         612     512       779     631       535      520        536\n",
              "Noon - 4PM         593     578       769     774       582      557        566\n",
              "4PM - 8PM         2843    2510      3727    2803      2770     2594       2709\n",
              "8PM - Midnight    4267    3204      5767    3691      3673     3409       3711"
            ]
          },
          "metadata": {
            "tags": []
          },
          "execution_count": 25
        }
      ]
    },
    {
      "cell_type": "code",
      "metadata": {
        "id": "g6JzsqMpcCiP",
        "colab_type": "code",
        "outputId": "68a39537-919c-4b06-da3a-da10acd0ba7c",
        "colab": {
          "base_uri": "https://localhost:8080/",
          "height": 51
        }
      },
      "source": [
        "compareTests(tod_dow)"
      ],
      "execution_count": 0,
      "outputs": [
        {
          "output_type": "stream",
          "text": [
            "Our chi-square statistic: 339.957276 p-value 0.000000\n",
            "Their chi-square statistic: 339.957276 p-value: 0.000000\n"
          ],
          "name": "stdout"
        }
      ]
    },
    {
      "cell_type": "code",
      "metadata": {
        "id": "zO-8w4izeqFD",
        "colab_type": "code",
        "outputId": "66a81087-0231-4767-c666-7d8db80d77de",
        "colab": {
          "base_uri": "https://localhost:8080/",
          "height": 204
        }
      },
      "source": [
        "seasons_tod = pd.crosstab(ufo_df['season'], ufo_df['timeofday'])\n",
        "seasons_tod"
      ],
      "execution_count": 0,
      "outputs": [
        {
          "output_type": "execute_result",
          "data": {
            "text/html": [
              "<div>\n",
              "<style scoped>\n",
              "    .dataframe tbody tr th:only-of-type {\n",
              "        vertical-align: middle;\n",
              "    }\n",
              "\n",
              "    .dataframe tbody tr th {\n",
              "        vertical-align: top;\n",
              "    }\n",
              "\n",
              "    .dataframe thead th {\n",
              "        text-align: right;\n",
              "    }\n",
              "</style>\n",
              "<table border=\"1\" class=\"dataframe\">\n",
              "  <thead>\n",
              "    <tr style=\"text-align: right;\">\n",
              "      <th>timeofday</th>\n",
              "      <th>Midnight - 4AM</th>\n",
              "      <th>4AM - 8AM</th>\n",
              "      <th>8AM - Noon</th>\n",
              "      <th>Noon - 4PM</th>\n",
              "      <th>4PM - 8PM</th>\n",
              "      <th>8PM - Midnight</th>\n",
              "    </tr>\n",
              "    <tr>\n",
              "      <th>season</th>\n",
              "      <th></th>\n",
              "      <th></th>\n",
              "      <th></th>\n",
              "      <th></th>\n",
              "      <th></th>\n",
              "      <th></th>\n",
              "    </tr>\n",
              "  </thead>\n",
              "  <tbody>\n",
              "    <tr>\n",
              "      <th>fall</th>\n",
              "      <td>1858</td>\n",
              "      <td>1700</td>\n",
              "      <td>1036</td>\n",
              "      <td>1238</td>\n",
              "      <td>7531</td>\n",
              "      <td>6077</td>\n",
              "    </tr>\n",
              "    <tr>\n",
              "      <th>spring</th>\n",
              "      <td>1418</td>\n",
              "      <td>750</td>\n",
              "      <td>942</td>\n",
              "      <td>925</td>\n",
              "      <td>3079</td>\n",
              "      <td>6013</td>\n",
              "    </tr>\n",
              "    <tr>\n",
              "      <th>summer</th>\n",
              "      <td>2619</td>\n",
              "      <td>792</td>\n",
              "      <td>1393</td>\n",
              "      <td>1311</td>\n",
              "      <td>3327</td>\n",
              "      <td>12040</td>\n",
              "    </tr>\n",
              "    <tr>\n",
              "      <th>winter</th>\n",
              "      <td>1325</td>\n",
              "      <td>1431</td>\n",
              "      <td>754</td>\n",
              "      <td>945</td>\n",
              "      <td>6019</td>\n",
              "      <td>3592</td>\n",
              "    </tr>\n",
              "  </tbody>\n",
              "</table>\n",
              "</div>"
            ],
            "text/plain": [
              "timeofday  Midnight - 4AM  4AM - 8AM  ...  4PM - 8PM  8PM - Midnight\n",
              "season                                ...                           \n",
              "fall                 1858       1700  ...       7531            6077\n",
              "spring               1418        750  ...       3079            6013\n",
              "summer               2619        792  ...       3327           12040\n",
              "winter               1325       1431  ...       6019            3592\n",
              "\n",
              "[4 rows x 6 columns]"
            ]
          },
          "metadata": {
            "tags": []
          },
          "execution_count": 27
        }
      ]
    },
    {
      "cell_type": "code",
      "metadata": {
        "id": "t5FWqD0Kfb3N",
        "colab_type": "code",
        "outputId": "12001b01-3ed6-44ee-9d90-dba50a6eaee6",
        "colab": {
          "base_uri": "https://localhost:8080/",
          "height": 51
        }
      },
      "source": [
        "compareTests(seasons_tod)"
      ],
      "execution_count": 0,
      "outputs": [
        {
          "output_type": "stream",
          "text": [
            "Our chi-square statistic: 6395.836531 p-value 0.000000\n",
            "Their chi-square statistic: 6395.836531 p-value: 0.000000\n"
          ],
          "name": "stdout"
        }
      ]
    },
    {
      "cell_type": "markdown",
      "metadata": {
        "id": "nyJ3ySr7R2k9",
        "colab_type": "text"
      },
      "source": [
        "## Resources\n",
        "\n",
        "- [Interactive visualize the Chi-Squared test](https://homepage.divms.uiowa.edu/~mbognar/applets/chisq.html)\n",
        "- [Calculation of Chi-Squared test statistic](https://en.wikipedia.org/wiki/Pearson%27s_chi-squared_test)\n",
        "- [Visualization of a confidence interval generated by R code](https://commons.wikimedia.org/wiki/File:Confidence-interval.svg)\n",
        "- [Expected value of a squared standard normal](https://math.stackexchange.com/questions/264061/expected-value-calculation-for-squared-normal-distribution) (it's 1 - which is why the expected value of a Chi-Squared with $n$ degrees of freedom is $n$, as it's the sum of $n$ squared standard normals)"
      ]
    }
  ]
}