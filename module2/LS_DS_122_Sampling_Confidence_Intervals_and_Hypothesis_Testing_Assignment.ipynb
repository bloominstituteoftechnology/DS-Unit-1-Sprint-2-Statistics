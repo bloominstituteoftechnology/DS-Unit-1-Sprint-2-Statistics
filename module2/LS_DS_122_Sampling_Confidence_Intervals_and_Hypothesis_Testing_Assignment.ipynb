{
  "nbformat": 4,
  "nbformat_minor": 0,
  "metadata": {
    "colab": {
      "name": "LS_DS_122_Sampling_Confidence_Intervals_and_Hypothesis_Testing_Assignment.ipynb",
      "provenance": [],
      "collapsed_sections": []
    },
    "kernelspec": {
      "name": "python3",
      "display_name": "Python 3"
    }
  },
  "cells": [
    {
      "cell_type": "markdown",
      "metadata": {
        "id": "11OzdxWTM7UR",
        "colab_type": "text"
      },
      "source": [
        "## Assignment - Build a confidence interval\n",
        "\n",
        "A confidence interval refers to a neighborhood around some point estimate, the size of which is determined by the desired p-value. For instance, we might say that 52% of Americans prefer tacos to burritos, with a 95% confidence interval of +/- 5%.\n",
        "\n",
        "52% (0.52) is the point estimate, and +/- 5% (the interval $[0.47, 0.57]$) is the confidence interval. \"95% confidence\" means a p-value $\\leq 1 - 0.95 = 0.05$.\n",
        "\n",
        "In this case, the confidence interval includes $0.5$ - which is the natural null hypothesis (that half of Americans prefer tacos and half burritos, thus there is no clear favorite). So in this case, we could use the confidence interval to report that we've failed to reject the null hypothesis.\n",
        "\n",
        "But providing the full analysis with a confidence interval, including a graphical representation of it, can be a helpful and powerful way to tell your story. Done well, it is also more intuitive to a layperson than simply saying \"fail to reject the null hypothesis\" - it shows that in fact the data does *not* give a single clear result (the point estimate) but a whole range of possibilities.\n",
        "\n",
        "How is a confidence interval built, and how should it be interpreted? It does *not* mean that 95% of the data lies in that interval - instead, the frequentist interpretation is \"if we were to repeat this experiment 100 times, we would expect the average result to lie in this interval ~95 times.\"\n",
        "\n",
        "For a 95% confidence interval and a normal(-ish) distribution, you can simply remember that +/-2 standard deviations contains 95% of the probability mass, and so the 95% confidence interval based on a given sample is centered at the mean (point estimate) and has a range of +/- 2 (or technically 1.96) standard deviations.\n",
        "\n",
        "Different distributions/assumptions (90% confidence, 99% confidence) will require different math, but the overall process and interpretation (with a frequentist approach) will be the same.\n",
        "\n",
        "Your assignment - using the data from the prior module ([congressional voting records](https://archive.ics.uci.edu/ml/datasets/Congressional+Voting+Records)):\n",
        "\n",
        "\n",
        "### Confidence Intervals:\n",
        "1. Generate and numerically represent a confidence interval\n",
        "2. Graphically (with a plot) represent the confidence interval\n",
        "3. Interpret the confidence interval - what does it tell you about the data and its distribution?\n",
        "\n",
        "### Chi-squared tests:\n",
        "4. Take a dataset that we have used in the past in class that has **categorical** variables. Pick two of those categorical variables and run a chi-squared tests on that data\n",
        "  - By hand using Numpy\n",
        "  - In a single line using Scipy\n"
      ]
    },
    {
      "cell_type": "code",
      "metadata": {
        "id": "Ckcr4A4FM7cs",
        "colab_type": "code",
        "colab": {}
      },
      "source": [
        "# Re-download data and format like last time:\n",
        "\n",
        "import pandas as pd\n",
        "import numpy as np\n",
        "import matplotlib.pyplot as plt\n",
        "from scipy.stats import chisquare\n",
        "import scipy.stats as stats\n",
        "\n",
        "url = 'https://archive.ics.uci.edu/ml/machine-learning-databases/voting-records/house-votes-84.data'\n",
        "\n",
        "header_titles = ['party',\n",
        "                 'handicapped-infants',\n",
        "                 'water-project-cost-sharing',\n",
        "                 'adoption-of-the-budget-resolution',\n",
        "                 'physician-fee-freeze',\n",
        "                 'el-salvador-aid',\n",
        "                 'religious-groups-in-schools',\n",
        "                 'anti-satellite-test-ban',\n",
        "                 'aid-to-nicaraguan-contras',\n",
        "                 'mx-missile',\n",
        "                 'immigration',\n",
        "                 'synfuels-corporation-cutback',\n",
        "                 'education-spending',\n",
        "                 'superfund-right-to-sue',\n",
        "                 'crime',\n",
        "                 'duty-free-exports',\n",
        "                 'export-administration-act-south-africa']\n",
        "\n",
        "df = pd.read_csv(url, names=header_titles, na_values='?')\n",
        "df = df.replace({'y':1, 'n':0})\n",
        "rep = df[df['party']=='republican']\n",
        "dem = df[df['party'] =='democrat']"
      ],
      "execution_count": 0,
      "outputs": []
    },
    {
      "cell_type": "code",
      "metadata": {
        "id": "tREs2-MW_WhT",
        "colab_type": "code",
        "colab": {
          "base_uri": "https://localhost:8080/",
          "height": 1000
        },
        "outputId": "a5be91fa-7633-44a6-9ffc-4c477b144f6a"
      },
      "source": [
        "# Create function to calculate confidence interval\n",
        "\n",
        "def confidence_interval(data, confidence=0.95):\n",
        "  data = np.array(data.dropna()) # Make sure to drop NaN values!\n",
        "  mean = np.mean(data)\n",
        "  n = len(data)\n",
        "  s = np.std(data, ddof=1)\n",
        "  stderr = s / np.sqrt(n)\n",
        "  margin_of_error = stderr * stats.t.ppf((1 + confidence) / 2.0, n - 1)\n",
        "  return (mean, margin_of_error)\n",
        "\n",
        "for header in header_titles[1:]:\n",
        "    print(header + \":\")\n",
        "    mean_value, margin_of_error = confidence_interval(rep[header])\n",
        "    print(\"Republican support: \" \n",
        "          + str(round(mean_value *100, 1)) \n",
        "          + \"%  ± \" \n",
        "          + str(round(margin_of_error * 100, 2))\n",
        "          + \"%\"\n",
        "          )\n",
        "    mean_value, margin_of_error = confidence_interval(dem[header])\n",
        "    print(\"Democrat support: \" \n",
        "          + str(round(mean_value *100, 1)) \n",
        "          + \"% ± \" \n",
        "          + str(round(margin_of_error * 100, 2))\n",
        "          + \"%\"\n",
        "          )\n",
        "    print(\"\")"
      ],
      "execution_count": 152,
      "outputs": [
        {
          "output_type": "stream",
          "text": [
            "handicapped-infants:\n",
            "Republican support: 18.8%  ± 6.02%\n",
            "Democrat support: 60.5% ± 6.01%\n",
            "\n",
            "water-project-cost-sharing:\n",
            "Republican support: 50.7%  ± 8.15%\n",
            "Democrat support: 50.2% ± 6.38%\n",
            "\n",
            "adoption-of-the-budget-resolution:\n",
            "Republican support: 13.4%  ± 5.27%\n",
            "Democrat support: 88.8% ± 3.85%\n",
            "\n",
            "physician-fee-freeze:\n",
            "Republican support: 98.8%  ± 1.69%\n",
            "Democrat support: 5.4% ± 2.77%\n",
            "\n",
            "el-salvador-aid:\n",
            "Republican support: 95.2%  ± 3.31%\n",
            "Democrat support: 21.6% ± 5.08%\n",
            "\n",
            "religious-groups-in-schools:\n",
            "Republican support: 89.8%  ± 4.66%\n",
            "Democrat support: 47.7% ± 6.14%\n",
            "\n",
            "anti-satellite-test-ban:\n",
            "Republican support: 24.1%  ± 6.65%\n",
            "Democrat support: 77.2% ± 5.14%\n",
            "\n",
            "aid-to-nicaraguan-contras:\n",
            "Republican support: 15.3%  ± 5.69%\n",
            "Democrat support: 82.9% ± 4.58%\n",
            "\n",
            "mx-missile:\n",
            "Republican support: 11.5%  ± 4.92%\n",
            "Democrat support: 75.8% ± 5.37%\n",
            "\n",
            "immigration:\n",
            "Republican support: 55.8%  ± 7.66%\n",
            "Democrat support: 47.1% ± 6.07%\n",
            "\n",
            "synfuels-corporation-cutback:\n",
            "Republican support: 13.2%  ± 5.32%\n",
            "Democrat support: 50.6% ± 6.18%\n",
            "\n",
            "education-spending:\n",
            "Republican support: 87.1%  ± 5.34%\n",
            "Democrat support: 14.5% ± 4.4%\n",
            "\n",
            "superfund-right-to-sue:\n",
            "Republican support: 86.1%  ± 5.46%\n",
            "Democrat support: 29.0% ± 5.64%\n",
            "\n",
            "crime:\n",
            "Republican support: 98.1%  ± 2.11%\n",
            "Democrat support: 35.0% ± 5.87%\n",
            "\n",
            "duty-free-exports:\n",
            "Republican support: 9.0%  ± 4.53%\n",
            "Democrat support: 63.7% ± 5.99%\n",
            "\n",
            "export-administration-act-south-africa:\n",
            "Republican support: 65.8%  ± 7.79%\n",
            "Democrat support: 93.5% ± 3.58%\n",
            "\n"
          ],
          "name": "stdout"
        }
      ]
    },
    {
      "cell_type": "code",
      "metadata": {
        "id": "4tPooEoSE0My",
        "colab_type": "code",
        "colab": {
          "base_uri": "https://localhost:8080/",
          "height": 281
        },
        "outputId": "f3f10325-2d98-4b6a-daba-98497cd5f33a"
      },
      "source": [
        "# Try to graphically show some of this information. \n",
        "# Trying to do something like this: \n",
        "# https://matplotlib.org/3.1.1/gallery/lines_bars_and_markers/barchart.html#sphx-glr-gallery-lines-bars-and-markers-barchart-py\n",
        "\n",
        "\n",
        "labels = header_titles[1:3]  # Only doing the first few lables so we can fit them in a graph.\n",
        "rep_means = []\n",
        "rep_error = []\n",
        "dem_means = []\n",
        "dem_error = []\n",
        "\n",
        "for header in labels:\n",
        "    x, y = confidence_interval(rep[header])\n",
        "    rep_means.append(x*100)\n",
        "    rep_error.append(y*100)\n",
        "    x, y = confidence_interval(dem[header])\n",
        "    dem_means.append(x*100)\n",
        "    dem_error.append(y*100)\n",
        "\n",
        "x = np.arange(len(labels))  # the label locations\n",
        "width = 0.35  # the width of the bars\n",
        "fig, ax = plt.subplots()\n",
        "rects1 = ax.bar(x - width/2, rep_means, width, yerr=rep_error, label='Republicans', color='tomato')\n",
        "rects2 = ax.bar(x + width/2, dem_means, width, yerr=dem_error, label='Democrats', color='cornflowerblue')\n",
        "\n",
        "ax.set_ylabel('Percent votes in favor')\n",
        "ax.set_title('Percentage In Favor of Resolution Per Party')\n",
        "ax.set_xticks(x)\n",
        "ax.set_xticklabels(labels)\n",
        "ax.legend();"
      ],
      "execution_count": 153,
      "outputs": [
        {
          "output_type": "display_data",
          "data": {
            "image/png": "[encoded data removed]",
            "text/plain": [
              "<Figure size 432x288 with 1 Axes>"
            ]
          },
          "metadata": {
            "tags": []
          }
        }
      ]
    },
    {
      "cell_type": "code",
      "metadata": {
        "id": "CSrxH0elN-lU",
        "colab_type": "code",
        "colab": {
          "base_uri": "https://localhost:8080/",
          "height": 195
        },
        "outputId": "eb5de9f7-5a13-4812-8a8f-9014b14e6ed2"
      },
      "source": [
        "# Do chi test on poker data:\n",
        "\n",
        "poker_training_data = 'https://archive.ics.uci.edu/ml/machine-learning-databases/poker/poker-hand-training-true.data'\n",
        "\n",
        "column_headers = [\"Suit of card 1\", \"Rank of card 1\", \"Suit of card 2\", \n",
        "                  \"Rank of card 2\", \"Suit of card 3\", \"Rank of card 3\",\n",
        "                  \"Suit of card 4\", \"Rank of card 4\", \"Suit of card 5\",\n",
        "                  \"Rank of card 5\", \"Poker Hand\"]\n",
        "\n",
        "df = pd.read_csv(poker_training_data, names=column_headers)\n",
        "df.head()"
      ],
      "execution_count": 154,
      "outputs": [
        {
          "output_type": "execute_result",
          "data": {
            "text/html": [
              "<div>\n",
              "<style scoped>\n",
              "    .dataframe tbody tr th:only-of-type {\n",
              "        vertical-align: middle;\n",
              "    }\n",
              "\n",
              "    .dataframe tbody tr th {\n",
              "        vertical-align: top;\n",
              "    }\n",
              "\n",
              "    .dataframe thead th {\n",
              "        text-align: right;\n",
              "    }\n",
              "</style>\n",
              "<table border=\"1\" class=\"dataframe\">\n",
              "  <thead>\n",
              "    <tr style=\"text-align: right;\">\n",
              "      <th></th>\n",
              "      <th>Suit of card 1</th>\n",
              "      <th>Rank of card 1</th>\n",
              "      <th>Suit of card 2</th>\n",
              "      <th>Rank of card 2</th>\n",
              "      <th>Suit of card 3</th>\n",
              "      <th>Rank of card 3</th>\n",
              "      <th>Suit of card 4</th>\n",
              "      <th>Rank of card 4</th>\n",
              "      <th>Suit of card 5</th>\n",
              "      <th>Rank of card 5</th>\n",
              "      <th>Poker Hand</th>\n",
              "    </tr>\n",
              "  </thead>\n",
              "  <tbody>\n",
              "    <tr>\n",
              "      <th>0</th>\n",
              "      <td>1</td>\n",
              "      <td>10</td>\n",
              "      <td>1</td>\n",
              "      <td>11</td>\n",
              "      <td>1</td>\n",
              "      <td>13</td>\n",
              "      <td>1</td>\n",
              "      <td>12</td>\n",
              "      <td>1</td>\n",
              "      <td>1</td>\n",
              "      <td>9</td>\n",
              "    </tr>\n",
              "    <tr>\n",
              "      <th>1</th>\n",
              "      <td>2</td>\n",
              "      <td>11</td>\n",
              "      <td>2</td>\n",
              "      <td>13</td>\n",
              "      <td>2</td>\n",
              "      <td>10</td>\n",
              "      <td>2</td>\n",
              "      <td>12</td>\n",
              "      <td>2</td>\n",
              "      <td>1</td>\n",
              "      <td>9</td>\n",
              "    </tr>\n",
              "    <tr>\n",
              "      <th>2</th>\n",
              "      <td>3</td>\n",
              "      <td>12</td>\n",
              "      <td>3</td>\n",
              "      <td>11</td>\n",
              "      <td>3</td>\n",
              "      <td>13</td>\n",
              "      <td>3</td>\n",
              "      <td>10</td>\n",
              "      <td>3</td>\n",
              "      <td>1</td>\n",
              "      <td>9</td>\n",
              "    </tr>\n",
              "    <tr>\n",
              "      <th>3</th>\n",
              "      <td>4</td>\n",
              "      <td>10</td>\n",
              "      <td>4</td>\n",
              "      <td>11</td>\n",
              "      <td>4</td>\n",
              "      <td>1</td>\n",
              "      <td>4</td>\n",
              "      <td>13</td>\n",
              "      <td>4</td>\n",
              "      <td>12</td>\n",
              "      <td>9</td>\n",
              "    </tr>\n",
              "    <tr>\n",
              "      <th>4</th>\n",
              "      <td>4</td>\n",
              "      <td>1</td>\n",
              "      <td>4</td>\n",
              "      <td>13</td>\n",
              "      <td>4</td>\n",
              "      <td>12</td>\n",
              "      <td>4</td>\n",
              "      <td>11</td>\n",
              "      <td>4</td>\n",
              "      <td>10</td>\n",
              "      <td>9</td>\n",
              "    </tr>\n",
              "  </tbody>\n",
              "</table>\n",
              "</div>"
            ],
            "text/plain": [
              "   Suit of card 1  Rank of card 1  ...  Rank of card 5  Poker Hand\n",
              "0               1              10  ...               1           9\n",
              "1               2              11  ...               1           9\n",
              "2               3              12  ...               1           9\n",
              "3               4              10  ...              12           9\n",
              "4               4               1  ...              10           9\n",
              "\n",
              "[5 rows x 11 columns]"
            ]
          },
          "metadata": {
            "tags": []
          },
          "execution_count": 154
        }
      ]
    },
    {
      "cell_type": "code",
      "metadata": {
        "id": "3NqN-ulPOvu1",
        "colab_type": "code",
        "colab": {
          "base_uri": "https://localhost:8080/",
          "height": 195
        },
        "outputId": "c00dc7ab-e283-4ee0-ae5c-e1b0d66cbc42"
      },
      "source": [
        "# Get crosstab data:\n",
        "\n",
        "table = pd.crosstab(df['Suit of card 1'],df['Rank of card 1'])\n",
        "table"
      ],
      "execution_count": 155,
      "outputs": [
        {
          "output_type": "execute_result",
          "data": {
            "text/html": [
              "<div>\n",
              "<style scoped>\n",
              "    .dataframe tbody tr th:only-of-type {\n",
              "        vertical-align: middle;\n",
              "    }\n",
              "\n",
              "    .dataframe tbody tr th {\n",
              "        vertical-align: top;\n",
              "    }\n",
              "\n",
              "    .dataframe thead th {\n",
              "        text-align: right;\n",
              "    }\n",
              "</style>\n",
              "<table border=\"1\" class=\"dataframe\">\n",
              "  <thead>\n",
              "    <tr style=\"text-align: right;\">\n",
              "      <th>Rank of card 1</th>\n",
              "      <th>1</th>\n",
              "      <th>2</th>\n",
              "      <th>3</th>\n",
              "      <th>4</th>\n",
              "      <th>5</th>\n",
              "      <th>6</th>\n",
              "      <th>7</th>\n",
              "      <th>8</th>\n",
              "      <th>9</th>\n",
              "      <th>10</th>\n",
              "      <th>11</th>\n",
              "      <th>12</th>\n",
              "      <th>13</th>\n",
              "    </tr>\n",
              "    <tr>\n",
              "      <th>Suit of card 1</th>\n",
              "      <th></th>\n",
              "      <th></th>\n",
              "      <th></th>\n",
              "      <th></th>\n",
              "      <th></th>\n",
              "      <th></th>\n",
              "      <th></th>\n",
              "      <th></th>\n",
              "      <th></th>\n",
              "      <th></th>\n",
              "      <th></th>\n",
              "      <th></th>\n",
              "      <th></th>\n",
              "    </tr>\n",
              "  </thead>\n",
              "  <tbody>\n",
              "    <tr>\n",
              "      <th>1</th>\n",
              "      <td>455</td>\n",
              "      <td>474</td>\n",
              "      <td>474</td>\n",
              "      <td>460</td>\n",
              "      <td>466</td>\n",
              "      <td>455</td>\n",
              "      <td>476</td>\n",
              "      <td>524</td>\n",
              "      <td>462</td>\n",
              "      <td>479</td>\n",
              "      <td>488</td>\n",
              "      <td>464</td>\n",
              "      <td>473</td>\n",
              "    </tr>\n",
              "    <tr>\n",
              "      <th>2</th>\n",
              "      <td>505</td>\n",
              "      <td>477</td>\n",
              "      <td>460</td>\n",
              "      <td>449</td>\n",
              "      <td>495</td>\n",
              "      <td>462</td>\n",
              "      <td>509</td>\n",
              "      <td>488</td>\n",
              "      <td>521</td>\n",
              "      <td>448</td>\n",
              "      <td>511</td>\n",
              "      <td>491</td>\n",
              "      <td>482</td>\n",
              "    </tr>\n",
              "    <tr>\n",
              "      <th>3</th>\n",
              "      <td>493</td>\n",
              "      <td>503</td>\n",
              "      <td>467</td>\n",
              "      <td>514</td>\n",
              "      <td>482</td>\n",
              "      <td>457</td>\n",
              "      <td>470</td>\n",
              "      <td>464</td>\n",
              "      <td>473</td>\n",
              "      <td>484</td>\n",
              "      <td>478</td>\n",
              "      <td>475</td>\n",
              "      <td>490</td>\n",
              "    </tr>\n",
              "    <tr>\n",
              "      <th>4</th>\n",
              "      <td>529</td>\n",
              "      <td>487</td>\n",
              "      <td>481</td>\n",
              "      <td>496</td>\n",
              "      <td>449</td>\n",
              "      <td>486</td>\n",
              "      <td>506</td>\n",
              "      <td>472</td>\n",
              "      <td>511</td>\n",
              "      <td>466</td>\n",
              "      <td>449</td>\n",
              "      <td>510</td>\n",
              "      <td>470</td>\n",
              "    </tr>\n",
              "  </tbody>\n",
              "</table>\n",
              "</div>"
            ],
            "text/plain": [
              "Rank of card 1   1    2    3    4    5    6    7    8    9    10   11   12   13\n",
              "Suit of card 1                                                                 \n",
              "1               455  474  474  460  466  455  476  524  462  479  488  464  473\n",
              "2               505  477  460  449  495  462  509  488  521  448  511  491  482\n",
              "3               493  503  467  514  482  457  470  464  473  484  478  475  490\n",
              "4               529  487  481  496  449  486  506  472  511  466  449  510  470"
            ]
          },
          "metadata": {
            "tags": []
          },
          "execution_count": 155
        }
      ]
    },
    {
      "cell_type": "code",
      "metadata": {
        "id": "DeuTldQ3PWHj",
        "colab_type": "code",
        "colab": {
          "base_uri": "https://localhost:8080/",
          "height": 84
        },
        "outputId": "f16a82d6-4761-4fa1-fa55-c72d78294467"
      },
      "source": [
        "table = np.array(table)\n",
        "print(table)"
      ],
      "execution_count": 156,
      "outputs": [
        {
          "output_type": "stream",
          "text": [
            "[[455 474 474 460 466 455 476 524 462 479 488 464 473]\n",
            " [505 477 460 449 495 462 509 488 521 448 511 491 482]\n",
            " [493 503 467 514 482 457 470 464 473 484 478 475 490]\n",
            " [529 487 481 496 449 486 506 472 511 466 449 510 470]]\n"
          ],
          "name": "stdout"
        }
      ]
    },
    {
      "cell_type": "code",
      "metadata": {
        "id": "xW70y6dEUHva",
        "colab_type": "code",
        "colab": {}
      },
      "source": [
        "# Having problems figuring out how to calculate this equation by hand..."
      ],
      "execution_count": 0,
      "outputs": []
    },
    {
      "cell_type": "code",
      "metadata": {
        "id": "qSG8JOGTPl7Q",
        "colab_type": "code",
        "colab": {
          "base_uri": "https://localhost:8080/",
          "height": 50
        },
        "outputId": "fcc8e46f-5383-4d6d-a92d-f6ea8108c6af"
      },
      "source": [
        "# Calculate with scipy.stats:\n",
        "chi_2_stat, p_value, dof, expected = stats.chi2_contingency(table)\n",
        "print(\"Chi^2 Statistic: \" + str(chi_2_stat))\n",
        "print(\"p value: \" + str(p_value))"
      ],
      "execution_count": 157,
      "outputs": [
        {
          "output_type": "stream",
          "text": [
            "Chi^2 Statistic: 34.988809163056914\n",
            "p value: 0.5165315608157963\n"
          ],
          "name": "stdout"
        }
      ]
    },
    {
      "cell_type": "markdown",
      "metadata": {
        "id": "4ohsJhQUmEuS",
        "colab_type": "text"
      },
      "source": [
        "## Stretch goals:\n",
        "\n",
        "1. Write a summary of your findings, mixing prose and math/code/results. *Note* - yes, this is by definition a political topic. It is challenging but important to keep your writing voice *neutral* and stick to the facts of the data. Data science often involves considering controversial issues, so it's important to be sensitive about them (especially if you want to publish).\n",
        "2. Apply the techniques you learned today to your project data or other data of your choice, and write/discuss your findings here.\n",
        "3. Refactor your code so it is elegant, readable, and can be easily run for all issues."
      ]
    },
    {
      "cell_type": "markdown",
      "metadata": {
        "id": "nyJ3ySr7R2k9",
        "colab_type": "text"
      },
      "source": [
        "## Resources\n",
        "\n",
        "- [Interactive visualize the Chi-Squared test](https://homepage.divms.uiowa.edu/~mbognar/applets/chisq.html)\n",
        "- [Calculation of Chi-Squared test statistic](https://en.wikipedia.org/wiki/Pearson%27s_chi-squared_test)\n",
        "- [Visualization of a confidence interval generated by R code](https://commons.wikimedia.org/wiki/File:Confidence-interval.svg)\n",
        "- [Expected value of a squared standard normal](https://math.stackexchange.com/questions/264061/expected-value-calculation-for-squared-normal-distribution) (it's 1 - which is why the expected value of a Chi-Squared with $n$ degrees of freedom is $n$, as it's the sum of $n$ squared standard normals)"
      ]
    }
  ]
}