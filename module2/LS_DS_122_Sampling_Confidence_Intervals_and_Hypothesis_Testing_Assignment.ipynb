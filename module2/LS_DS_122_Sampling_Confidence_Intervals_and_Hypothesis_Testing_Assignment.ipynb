{
  "nbformat": 4,
  "nbformat_minor": 0,
  "metadata": {
    "colab": {
      "name": "LS_DS_122_Sampling_Confidence_Intervals_and_Hypothesis_Testing_Assignment.ipynb",
      "provenance": [],
      "collapsed_sections": [],
      "include_colab_link": true
    },
    "kernelspec": {
      "name": "python3",
      "display_name": "Python 3"
    }
  },
  "cells": [
    {
      "cell_type": "markdown",
      "metadata": {
        "id": "view-in-github",
        "colab_type": "text"
      },
      "source": [
        "<a href=\"https://colab.research.google.com/github/dgansen/DS-Unit-1-Sprint-2-Statistics/blob/master/module2/LS_DS_122_Sampling_Confidence_Intervals_and_Hypothesis_Testing_Assignment.ipynb\" target=\"_parent\"><img src=\"https://colab.research.google.com/assets/colab-badge.svg\" alt=\"Open In Colab\"/></a>"
      ]
    },
    {
      "cell_type": "markdown",
      "metadata": {
        "id": "11OzdxWTM7UR",
        "colab_type": "text"
      },
      "source": [
        "## Assignment - Build a confidence interval\n",
        "\n",
        "A confidence interval refers to a neighborhood around some point estimate, the size of which is determined by the desired p-value. For instance, we might say that 52% of Americans prefer tacos to burritos, with a 95% confidence interval of +/- 5%.\n",
        "\n",
        "52% (0.52) is the point estimate, and +/- 5% (the interval $[0.47, 0.57]$) is the confidence interval. \"95% confidence\" means a p-value $\\leq 1 - 0.95 = 0.05$.\n",
        "\n",
        "In this case, the confidence interval includes $0.5$ - which is the natural null hypothesis (that half of Americans prefer tacos and half burritos, thus there is no clear favorite). So in this case, we could use the confidence interval to report that we've failed to reject the null hypothesis.\n",
        "\n",
        "But providing the full analysis with a confidence interval, including a graphical representation of it, can be a helpful and powerful way to tell your story. Done well, it is also more intuitive to a layperson than simply saying \"fail to reject the null hypothesis\" - it shows that in fact the data does *not* give a single clear result (the point estimate) but a whole range of possibilities.\n",
        "\n",
        "How is a confidence interval built, and how should it be interpreted? It does *not* mean that 95% of the data lies in that interval - instead, the frequentist interpretation is \"if we were to repeat this experiment 100 times, we would expect the average result to lie in this interval ~95 times.\"\n",
        "\n",
        "For a 95% confidence interval and a normal(-ish) distribution, you can simply remember that +/-2 standard deviations contains 95% of the probability mass, and so the 95% confidence interval based on a given sample is centered at the mean (point estimate) and has a range of +/- 2 (or technically 1.96) standard deviations.\n",
        "\n",
        "Different distributions/assumptions (90% confidence, 99% confidence) will require different math, but the overall process and interpretation (with a frequentist approach) will be the same.\n",
        "\n",
        "Your assignment - using the data from the prior module ([congressional voting records](https://archive.ics.uci.edu/ml/datasets/Congressional+Voting+Records)):\n",
        "\n",
        "\n",
        "### Confidence Intervals:\n",
        "1. Generate and numerically represent a confidence interval\n",
        "2. Graphically (with a plot) represent the confidence interval\n",
        "3. Interpret the confidence interval - what does it tell you about the data and its distribution?\n",
        "\n",
        "### Chi-squared tests:\n",
        "4. Take a dataset that we have used in the past in class that has **categorical** variables. Pick two of those categorical variables and run a chi-squared tests on that data\n",
        "  - By hand using Numpy\n",
        "  - In a single line using Scipy\n"
      ]
    },
    {
      "cell_type": "code",
      "metadata": {
        "colab_type": "code",
        "id": "hg08DG57iiwR",
        "colab": {}
      },
      "source": [
        "import numpy as np\n",
        "from scipy import stats\n",
        "import pandas as pd"
      ],
      "execution_count": 0,
      "outputs": []
    },
    {
      "cell_type": "code",
      "metadata": {
        "id": "WyrLFf-Njgqv",
        "colab_type": "code",
        "outputId": "03495883-5f3f-4353-9f9b-6b2977565115",
        "colab": {
          "base_uri": "https://localhost:8080/",
          "height": 275
        }
      },
      "source": [
        "#CONFIDENCE INTERVALS -- 1\n",
        "#grab data, select NaNs\n",
        "url = 'https://archive.ics.uci.edu/ml/machine-learning-databases/voting-records/house-votes-84.data'\n",
        "cols = ['party','handicapped-infants','water-project-cost-sharing',\n",
        "        'adoption-of-the-budget-resolution','physician-fee-freeze',\n",
        "        'el-salvador-aid','religious-groups-in-schools','anti-satellite-test-ban',\n",
        "        'aid-to-nicaraguan-contras','mx-missile','immigration',\n",
        "        'synfuels-corporation-cutback','education-spending',\n",
        "        'superfund-right-to-sue','crime','duty-free-exports','export-administration-act-south-africa']\n",
        "df = pd.read_csv(url,names=cols,na_values='?')\n",
        "df.head()"
      ],
      "execution_count": 49,
      "outputs": [
        {
          "output_type": "execute_result",
          "data": {
            "text/html": [
              "<div>\n",
              "<style scoped>\n",
              "    .dataframe tbody tr th:only-of-type {\n",
              "        vertical-align: middle;\n",
              "    }\n",
              "\n",
              "    .dataframe tbody tr th {\n",
              "        vertical-align: top;\n",
              "    }\n",
              "\n",
              "    .dataframe thead th {\n",
              "        text-align: right;\n",
              "    }\n",
              "</style>\n",
              "<table border=\"1\" class=\"dataframe\">\n",
              "  <thead>\n",
              "    <tr style=\"text-align: right;\">\n",
              "      <th></th>\n",
              "      <th>party</th>\n",
              "      <th>handicapped-infants</th>\n",
              "      <th>water-project-cost-sharing</th>\n",
              "      <th>adoption-of-the-budget-resolution</th>\n",
              "      <th>physician-fee-freeze</th>\n",
              "      <th>el-salvador-aid</th>\n",
              "      <th>religious-groups-in-schools</th>\n",
              "      <th>anti-satellite-test-ban</th>\n",
              "      <th>aid-to-nicaraguan-contras</th>\n",
              "      <th>mx-missile</th>\n",
              "      <th>immigration</th>\n",
              "      <th>synfuels-corporation-cutback</th>\n",
              "      <th>education-spending</th>\n",
              "      <th>superfund-right-to-sue</th>\n",
              "      <th>crime</th>\n",
              "      <th>duty-free-exports</th>\n",
              "      <th>export-administration-act-south-africa</th>\n",
              "    </tr>\n",
              "  </thead>\n",
              "  <tbody>\n",
              "    <tr>\n",
              "      <th>0</th>\n",
              "      <td>republican</td>\n",
              "      <td>n</td>\n",
              "      <td>y</td>\n",
              "      <td>n</td>\n",
              "      <td>y</td>\n",
              "      <td>y</td>\n",
              "      <td>y</td>\n",
              "      <td>n</td>\n",
              "      <td>n</td>\n",
              "      <td>n</td>\n",
              "      <td>y</td>\n",
              "      <td>NaN</td>\n",
              "      <td>y</td>\n",
              "      <td>y</td>\n",
              "      <td>y</td>\n",
              "      <td>n</td>\n",
              "      <td>y</td>\n",
              "    </tr>\n",
              "    <tr>\n",
              "      <th>1</th>\n",
              "      <td>republican</td>\n",
              "      <td>n</td>\n",
              "      <td>y</td>\n",
              "      <td>n</td>\n",
              "      <td>y</td>\n",
              "      <td>y</td>\n",
              "      <td>y</td>\n",
              "      <td>n</td>\n",
              "      <td>n</td>\n",
              "      <td>n</td>\n",
              "      <td>n</td>\n",
              "      <td>n</td>\n",
              "      <td>y</td>\n",
              "      <td>y</td>\n",
              "      <td>y</td>\n",
              "      <td>n</td>\n",
              "      <td>NaN</td>\n",
              "    </tr>\n",
              "    <tr>\n",
              "      <th>2</th>\n",
              "      <td>democrat</td>\n",
              "      <td>NaN</td>\n",
              "      <td>y</td>\n",
              "      <td>y</td>\n",
              "      <td>NaN</td>\n",
              "      <td>y</td>\n",
              "      <td>y</td>\n",
              "      <td>n</td>\n",
              "      <td>n</td>\n",
              "      <td>n</td>\n",
              "      <td>n</td>\n",
              "      <td>y</td>\n",
              "      <td>n</td>\n",
              "      <td>y</td>\n",
              "      <td>y</td>\n",
              "      <td>n</td>\n",
              "      <td>n</td>\n",
              "    </tr>\n",
              "    <tr>\n",
              "      <th>3</th>\n",
              "      <td>democrat</td>\n",
              "      <td>n</td>\n",
              "      <td>y</td>\n",
              "      <td>y</td>\n",
              "      <td>n</td>\n",
              "      <td>NaN</td>\n",
              "      <td>y</td>\n",
              "      <td>n</td>\n",
              "      <td>n</td>\n",
              "      <td>n</td>\n",
              "      <td>n</td>\n",
              "      <td>y</td>\n",
              "      <td>n</td>\n",
              "      <td>y</td>\n",
              "      <td>n</td>\n",
              "      <td>n</td>\n",
              "      <td>y</td>\n",
              "    </tr>\n",
              "    <tr>\n",
              "      <th>4</th>\n",
              "      <td>democrat</td>\n",
              "      <td>y</td>\n",
              "      <td>y</td>\n",
              "      <td>y</td>\n",
              "      <td>n</td>\n",
              "      <td>y</td>\n",
              "      <td>y</td>\n",
              "      <td>n</td>\n",
              "      <td>n</td>\n",
              "      <td>n</td>\n",
              "      <td>n</td>\n",
              "      <td>y</td>\n",
              "      <td>NaN</td>\n",
              "      <td>y</td>\n",
              "      <td>y</td>\n",
              "      <td>y</td>\n",
              "      <td>y</td>\n",
              "    </tr>\n",
              "  </tbody>\n",
              "</table>\n",
              "</div>"
            ],
            "text/plain": [
              "        party  ... export-administration-act-south-africa\n",
              "0  republican  ...                                      y\n",
              "1  republican  ...                                    NaN\n",
              "2    democrat  ...                                      n\n",
              "3    democrat  ...                                      y\n",
              "4    democrat  ...                                      y\n",
              "\n",
              "[5 rows x 17 columns]"
            ]
          },
          "metadata": {
            "tags": []
          },
          "execution_count": 49
        }
      ]
    },
    {
      "cell_type": "code",
      "metadata": {
        "id": "fsULwgR9hNjK",
        "colab_type": "code",
        "colab": {
          "base_uri": "https://localhost:8080/",
          "height": 187
        },
        "outputId": "a208bc4e-624e-4516-e614-19625a1b22ba"
      },
      "source": [
        "#Make function remapping values where \"yes\" is one, anything else is 0\n",
        "def quant_yes_vote(votes):\n",
        "  votes = np.array(votes)\n",
        "  ret_arr = []\n",
        "  for vote in votes:\n",
        "    if vote=='y':\n",
        "      ret_arr.append(True)\n",
        "    else:\n",
        "      ret_arr.append(False)\n",
        "  return ret_arr\n",
        "\n",
        "yes_votes = df[cols[1:]].apply(quant_yes_vote)\n",
        "print(yes_votes.head())\n",
        "yes_votes.sum().values"
      ],
      "execution_count": 56,
      "outputs": [
        {
          "output_type": "stream",
          "text": [
            "   handicapped-infants  ...  export-administration-act-south-africa\n",
            "0                False  ...                                    True\n",
            "1                False  ...                                   False\n",
            "2                False  ...                                   False\n",
            "3                False  ...                                    True\n",
            "4                 True  ...                                    True\n",
            "\n",
            "[5 rows x 16 columns]\n"
          ],
          "name": "stdout"
        },
        {
          "output_type": "execute_result",
          "data": {
            "text/plain": [
              "array([187, 195, 253, 177, 212, 272, 239, 242, 207, 216, 150, 171, 209,\n",
              "       248, 174, 269])"
            ]
          },
          "metadata": {
            "tags": []
          },
          "execution_count": 56
        }
      ]
    },
    {
      "cell_type": "code",
      "metadata": {
        "id": "Iwrf6G-J9HtK",
        "colab_type": "code",
        "colab": {
          "base_uri": "https://localhost:8080/",
          "height": 68
        },
        "outputId": "938a4eb2-df05-435d-f64a-aac570098465"
      },
      "source": [
        "#Numerically show a confidence interval\n",
        "def confidence_interval(data, confidence=0.95):\n",
        "  \"\"\"\n",
        "  Calculate a confidence interval around a sample mean for given data.\n",
        "  Using t-distribution and two-tailed test, default 95% confidence. \n",
        "  \n",
        "  Arguments:\n",
        "    data - iterable (list or numpy array) of sample observations\n",
        "    confidence - level of confidence for the interval\n",
        "  \n",
        "  Returns:\n",
        "    tuple of (mean, lower bound, upper bound)\n",
        "  \"\"\"\n",
        "  data = np.array(data)\n",
        "  mean = np.mean(data)\n",
        "  n = len(data)\n",
        "  stderr = stats.sem(data)\n",
        "  interval = stderr * stats.t.ppf((1 + confidence) / 2.0, n - 1)\n",
        "  return (mean, mean - interval, mean + interval)\n",
        "\n",
        "mean, low, high = confidence_interval(yes_votes.sum().values)\n",
        "print('Mean', mean)\n",
        "print('Lower Bound',low)\n",
        "print('Upper Bound',high)"
      ],
      "execution_count": 55,
      "outputs": [
        {
          "output_type": "stream",
          "text": [
            "Mean 213.8125\n",
            "Lower Bound 194.08438405324046\n",
            "Upper Bound 233.54061594675954\n"
          ],
          "name": "stdout"
        }
      ]
    },
    {
      "cell_type": "code",
      "metadata": {
        "id": "7jBrMh4iMg6w",
        "colab_type": "code",
        "colab": {
          "base_uri": "https://localhost:8080/",
          "height": 265
        },
        "outputId": "52c51288-e44e-4b72-9d11-a88fa35f8db1"
      },
      "source": [
        "#CONFIDENCE INTERVAL -- 2\n",
        "#Graphically show a confidence interval\n",
        "import matplotlib.pyplot as plt\n",
        "\n",
        "yeas = yes_votes.sum().values\n",
        "plt.hist(yeas, bins=16)\n",
        "plt.axvline(mean,color='red')\n",
        "plt.axvline(low,color='yellow')\n",
        "plt.axvline(high,color='yellow')\n",
        "plt.xlim(0,435)\n",
        "plt.show()"
      ],
      "execution_count": 70,
      "outputs": [
        {
          "output_type": "display_data",
          "data": {
            "image/png": "[encoded data removed]",
            "text/plain": [
              "<Figure size 432x288 with 1 Axes>"
            ]
          },
          "metadata": {
            "tags": [],
            "needs_background": "light"
          }
        }
      ]
    },
    {
      "cell_type": "code",
      "metadata": {
        "id": "utsGUBCNQZuK",
        "colab_type": "code",
        "colab": {}
      },
      "source": [
        "#CONFIDENCE INTERVAL -- 3\n",
        "#Interpretation"
      ],
      "execution_count": 0,
      "outputs": []
    },
    {
      "cell_type": "markdown",
      "metadata": {
        "id": "kKrj0OR1QlQx",
        "colab_type": "text"
      },
      "source": [
        "Since the values presented to the analysis were a tally of yes votes given to each presented bill in the House of Representatives, the interval provides a range of expected yes's another bill in the House might get in 1984. This is based on a sample size of only 16, so the range is quite wide.\n",
        "\n",
        "This could be used as a rough estimate, when applied to other years and compared to the margin needed for majority, to how willing the House is to pass something over time. If the range is completely above the votes needed, it could be said that the House is taking action, or that it is prone to stalemate if the range is completely below the line"
      ]
    },
    {
      "cell_type": "code",
      "metadata": {
        "id": "id5qgj6fij4L",
        "colab_type": "code",
        "colab": {
          "base_uri": "https://localhost:8080/",
          "height": 224
        },
        "outputId": "20dc6b96-ee8f-4a14-ef70-f108d81a193b"
      },
      "source": [
        "#CHI SQUARE TEST\n",
        "#import data\n",
        "url = 'http://archive.ics.uci.edu/ml/machine-learning-databases/trains/trains-transformed.data'\n",
        "cols = ['Number_of_cars','Number_of_different_loads',\n",
        "        'CAR2_num_wheels','CAR2_length','CAR2_shape',\n",
        "        'CAR2_num_loads','CAR2_load_shape',\n",
        "        'CAR3_num_wheels','CAR3_length','CAR3_shape',\n",
        "        'CAR3_num_loads','CAR3_load_shape',\n",
        "        'CAR4_num_wheels','CAR4_length','CAR4_shape',\n",
        "        'CAR4_num_loads','CAR4_load_shape',\n",
        "        'CAR5_num_wheels','CAR5_length','CAR5_shape',\n",
        "        'CAR5_num_loads','CAR5_load_shape','Rectangle_next_to_rectangle',\n",
        "        'Rectangle_next_to_triangle','Rectangle_next_to_hexagon',\n",
        "        'Rectangle_next_to_circle','Triangle_next_to_triangle',\n",
        "        'Triangle_next_to_hexagon','Triangle_next_to_circle',\n",
        "        'Hexagon_next_to_hexagon','Hexagon_next_to_circle',\n",
        "        'Circle_next_to_circle','dir']\n",
        "        \n",
        "df = pd.read_csv(url,names=cols,delim_whitespace=True)\n",
        "df.head()"
      ],
      "execution_count": 90,
      "outputs": [
        {
          "output_type": "execute_result",
          "data": {
            "text/html": [
              "<div>\n",
              "<style scoped>\n",
              "    .dataframe tbody tr th:only-of-type {\n",
              "        vertical-align: middle;\n",
              "    }\n",
              "\n",
              "    .dataframe tbody tr th {\n",
              "        vertical-align: top;\n",
              "    }\n",
              "\n",
              "    .dataframe thead th {\n",
              "        text-align: right;\n",
              "    }\n",
              "</style>\n",
              "<table border=\"1\" class=\"dataframe\">\n",
              "  <thead>\n",
              "    <tr style=\"text-align: right;\">\n",
              "      <th></th>\n",
              "      <th>Number_of_cars</th>\n",
              "      <th>Number_of_different_loads</th>\n",
              "      <th>CAR2_num_wheels</th>\n",
              "      <th>CAR2_length</th>\n",
              "      <th>CAR2_shape</th>\n",
              "      <th>CAR2_num_loads</th>\n",
              "      <th>CAR2_load_shape</th>\n",
              "      <th>CAR3_num_wheels</th>\n",
              "      <th>CAR3_length</th>\n",
              "      <th>CAR3_shape</th>\n",
              "      <th>CAR3_num_loads</th>\n",
              "      <th>CAR3_load_shape</th>\n",
              "      <th>CAR4_num_wheels</th>\n",
              "      <th>CAR4_length</th>\n",
              "      <th>CAR4_shape</th>\n",
              "      <th>CAR4_num_loads</th>\n",
              "      <th>CAR4_load_shape</th>\n",
              "      <th>CAR5_num_wheels</th>\n",
              "      <th>CAR5_length</th>\n",
              "      <th>CAR5_shape</th>\n",
              "      <th>CAR5_num_loads</th>\n",
              "      <th>CAR5_load_shape</th>\n",
              "      <th>Rectangle_next_to_rectangle</th>\n",
              "      <th>Rectangle_next_to_triangle</th>\n",
              "      <th>Rectangle_next_to_hexagon</th>\n",
              "      <th>Rectangle_next_to_circle</th>\n",
              "      <th>Triangle_next_to_triangle</th>\n",
              "      <th>Triangle_next_to_hexagon</th>\n",
              "      <th>Triangle_next_to_circle</th>\n",
              "      <th>Hexagon_next_to_hexagon</th>\n",
              "      <th>Hexagon_next_to_circle</th>\n",
              "      <th>Circle_next_to_circle</th>\n",
              "      <th>dir</th>\n",
              "    </tr>\n",
              "  </thead>\n",
              "  <tbody>\n",
              "    <tr>\n",
              "      <th>0</th>\n",
              "      <td>5</td>\n",
              "      <td>4</td>\n",
              "      <td>2</td>\n",
              "      <td>long</td>\n",
              "      <td>openrect</td>\n",
              "      <td>3</td>\n",
              "      <td>rectanglod</td>\n",
              "      <td>2</td>\n",
              "      <td>short</td>\n",
              "      <td>slopetop</td>\n",
              "      <td>1</td>\n",
              "      <td>trianglod</td>\n",
              "      <td>3</td>\n",
              "      <td>long</td>\n",
              "      <td>openrect</td>\n",
              "      <td>1</td>\n",
              "      <td>hexagonlod</td>\n",
              "      <td>2</td>\n",
              "      <td>short</td>\n",
              "      <td>openrect</td>\n",
              "      <td>1</td>\n",
              "      <td>circlelod</td>\n",
              "      <td>0</td>\n",
              "      <td>1</td>\n",
              "      <td>0</td>\n",
              "      <td>0</td>\n",
              "      <td>0</td>\n",
              "      <td>1</td>\n",
              "      <td>0</td>\n",
              "      <td>0</td>\n",
              "      <td>1</td>\n",
              "      <td>0</td>\n",
              "      <td>east</td>\n",
              "    </tr>\n",
              "    <tr>\n",
              "      <th>1</th>\n",
              "      <td>4</td>\n",
              "      <td>3</td>\n",
              "      <td>2</td>\n",
              "      <td>short</td>\n",
              "      <td>ushaped</td>\n",
              "      <td>1</td>\n",
              "      <td>trianglod</td>\n",
              "      <td>2</td>\n",
              "      <td>short</td>\n",
              "      <td>opentrap</td>\n",
              "      <td>1</td>\n",
              "      <td>rectanglod</td>\n",
              "      <td>2</td>\n",
              "      <td>short</td>\n",
              "      <td>closedrect</td>\n",
              "      <td>2</td>\n",
              "      <td>circlelod</td>\n",
              "      <td>-</td>\n",
              "      <td>-</td>\n",
              "      <td>-</td>\n",
              "      <td>-</td>\n",
              "      <td>-</td>\n",
              "      <td>0</td>\n",
              "      <td>1</td>\n",
              "      <td>0</td>\n",
              "      <td>1</td>\n",
              "      <td>0</td>\n",
              "      <td>0</td>\n",
              "      <td>0</td>\n",
              "      <td>0</td>\n",
              "      <td>0</td>\n",
              "      <td>0</td>\n",
              "      <td>east</td>\n",
              "    </tr>\n",
              "    <tr>\n",
              "      <th>2</th>\n",
              "      <td>4</td>\n",
              "      <td>2</td>\n",
              "      <td>2</td>\n",
              "      <td>short</td>\n",
              "      <td>openrect</td>\n",
              "      <td>1</td>\n",
              "      <td>circlelod</td>\n",
              "      <td>2</td>\n",
              "      <td>short</td>\n",
              "      <td>hexagon</td>\n",
              "      <td>1</td>\n",
              "      <td>trianglod</td>\n",
              "      <td>3</td>\n",
              "      <td>long</td>\n",
              "      <td>closedrect</td>\n",
              "      <td>1</td>\n",
              "      <td>trianglod</td>\n",
              "      <td>-</td>\n",
              "      <td>-</td>\n",
              "      <td>-</td>\n",
              "      <td>-</td>\n",
              "      <td>-</td>\n",
              "      <td>0</td>\n",
              "      <td>0</td>\n",
              "      <td>0</td>\n",
              "      <td>0</td>\n",
              "      <td>1</td>\n",
              "      <td>0</td>\n",
              "      <td>1</td>\n",
              "      <td>0</td>\n",
              "      <td>0</td>\n",
              "      <td>0</td>\n",
              "      <td>east</td>\n",
              "    </tr>\n",
              "    <tr>\n",
              "      <th>3</th>\n",
              "      <td>5</td>\n",
              "      <td>2</td>\n",
              "      <td>2</td>\n",
              "      <td>short</td>\n",
              "      <td>opentrap</td>\n",
              "      <td>1</td>\n",
              "      <td>trianglod</td>\n",
              "      <td>2</td>\n",
              "      <td>short</td>\n",
              "      <td>dblopnrect</td>\n",
              "      <td>1</td>\n",
              "      <td>trianglod</td>\n",
              "      <td>2</td>\n",
              "      <td>short</td>\n",
              "      <td>ellipse</td>\n",
              "      <td>1</td>\n",
              "      <td>rectanglod</td>\n",
              "      <td>2</td>\n",
              "      <td>short</td>\n",
              "      <td>openrect</td>\n",
              "      <td>1</td>\n",
              "      <td>rectanglod</td>\n",
              "      <td>1</td>\n",
              "      <td>1</td>\n",
              "      <td>0</td>\n",
              "      <td>0</td>\n",
              "      <td>1</td>\n",
              "      <td>0</td>\n",
              "      <td>0</td>\n",
              "      <td>0</td>\n",
              "      <td>0</td>\n",
              "      <td>0</td>\n",
              "      <td>east</td>\n",
              "    </tr>\n",
              "    <tr>\n",
              "      <th>4</th>\n",
              "      <td>4</td>\n",
              "      <td>3</td>\n",
              "      <td>2</td>\n",
              "      <td>short</td>\n",
              "      <td>dblopnrect</td>\n",
              "      <td>1</td>\n",
              "      <td>trianglod</td>\n",
              "      <td>3</td>\n",
              "      <td>long</td>\n",
              "      <td>closedrect</td>\n",
              "      <td>1</td>\n",
              "      <td>rectanglod</td>\n",
              "      <td>2</td>\n",
              "      <td>short</td>\n",
              "      <td>closedrect</td>\n",
              "      <td>1</td>\n",
              "      <td>circlelod</td>\n",
              "      <td>-</td>\n",
              "      <td>-</td>\n",
              "      <td>-</td>\n",
              "      <td>-</td>\n",
              "      <td>-</td>\n",
              "      <td>0</td>\n",
              "      <td>1</td>\n",
              "      <td>0</td>\n",
              "      <td>1</td>\n",
              "      <td>0</td>\n",
              "      <td>0</td>\n",
              "      <td>0</td>\n",
              "      <td>0</td>\n",
              "      <td>0</td>\n",
              "      <td>0</td>\n",
              "      <td>east</td>\n",
              "    </tr>\n",
              "  </tbody>\n",
              "</table>\n",
              "</div>"
            ],
            "text/plain": [
              "   Number_of_cars  Number_of_different_loads  ...  Circle_next_to_circle   dir\n",
              "0               5                          4  ...                      0  east\n",
              "1               4                          3  ...                      0  east\n",
              "2               4                          2  ...                      0  east\n",
              "3               5                          2  ...                      0  east\n",
              "4               4                          3  ...                      0  east\n",
              "\n",
              "[5 rows x 33 columns]"
            ]
          },
          "metadata": {
            "tags": []
          },
          "execution_count": 90
        }
      ]
    },
    {
      "cell_type": "markdown",
      "metadata": {
        "id": "f37oGxSVlUYU",
        "colab_type": "text"
      },
      "source": [
        "Pick 2 Categorical Variables and run $\\chi^2$ test by hand"
      ]
    },
    {
      "cell_type": "code",
      "metadata": {
        "id": "AH2GrKkHd0tf",
        "colab_type": "code",
        "colab": {
          "base_uri": "https://localhost:8080/",
          "height": 173
        },
        "outputId": "1a6ef632-1b05-4765-d9b9-9df86e632ac9"
      },
      "source": [
        "#Grab observed data\n",
        "observed = pd.crosstab(df['dir'],df['Number_of_different_loads'], margins=True)\n",
        "observed"
      ],
      "execution_count": 101,
      "outputs": [
        {
          "output_type": "execute_result",
          "data": {
            "text/html": [
              "<div>\n",
              "<style scoped>\n",
              "    .dataframe tbody tr th:only-of-type {\n",
              "        vertical-align: middle;\n",
              "    }\n",
              "\n",
              "    .dataframe tbody tr th {\n",
              "        vertical-align: top;\n",
              "    }\n",
              "\n",
              "    .dataframe thead th {\n",
              "        text-align: right;\n",
              "    }\n",
              "</style>\n",
              "<table border=\"1\" class=\"dataframe\">\n",
              "  <thead>\n",
              "    <tr style=\"text-align: right;\">\n",
              "      <th>Number_of_different_loads</th>\n",
              "      <th>1</th>\n",
              "      <th>2</th>\n",
              "      <th>3</th>\n",
              "      <th>4</th>\n",
              "      <th>All</th>\n",
              "    </tr>\n",
              "    <tr>\n",
              "      <th>dir</th>\n",
              "      <th></th>\n",
              "      <th></th>\n",
              "      <th></th>\n",
              "      <th></th>\n",
              "      <th></th>\n",
              "    </tr>\n",
              "  </thead>\n",
              "  <tbody>\n",
              "    <tr>\n",
              "      <th>east</th>\n",
              "      <td>0</td>\n",
              "      <td>2</td>\n",
              "      <td>2</td>\n",
              "      <td>1</td>\n",
              "      <td>5</td>\n",
              "    </tr>\n",
              "    <tr>\n",
              "      <th>west</th>\n",
              "      <td>1</td>\n",
              "      <td>4</td>\n",
              "      <td>0</td>\n",
              "      <td>0</td>\n",
              "      <td>5</td>\n",
              "    </tr>\n",
              "    <tr>\n",
              "      <th>All</th>\n",
              "      <td>1</td>\n",
              "      <td>6</td>\n",
              "      <td>2</td>\n",
              "      <td>1</td>\n",
              "      <td>10</td>\n",
              "    </tr>\n",
              "  </tbody>\n",
              "</table>\n",
              "</div>"
            ],
            "text/plain": [
              "Number_of_different_loads  1  2  3  4  All\n",
              "dir                                       \n",
              "east                       0  2  2  1    5\n",
              "west                       1  4  0  0    5\n",
              "All                        1  6  2  1   10"
            ]
          },
          "metadata": {
            "tags": []
          },
          "execution_count": 101
        }
      ]
    },
    {
      "cell_type": "code",
      "metadata": {
        "id": "k6wJQkTcmZJL",
        "colab_type": "code",
        "colab": {
          "base_uri": "https://localhost:8080/",
          "height": 34
        },
        "outputId": "748972b0-a4b8-474a-a6f7-810f7923f89a"
      },
      "source": [
        "#Grab totals\n",
        "N = observed['All']['All']\n",
        "row_total = observed['All'][0:2].values\n",
        "col_total = observed.iloc[2,:4].values\n",
        "\n",
        "#Trim margins\n",
        "just_observed = np.array(observed.iloc[:-1,:-1])\n",
        "#Return array will be summed to provide chi2 score\n",
        "ret_arr = []\n",
        "#Expected array will be used for Scipy equation further below\n",
        "exp_arr = np.empty([2,4])\n",
        "for i, ob_row in enumerate(just_observed):\n",
        "  for j, ob_val in enumerate(ob_row):\n",
        "    #Calculate expected (from formula)\n",
        "    expected = row_total[i] * col_total[j] / N\n",
        "    exp_arr[i,j] = expected\n",
        "    #Apply Chi2 individual equation\n",
        "    retval = (ob_val - expected)**2 / expected\n",
        "    ret_arr.append(retval)\n",
        "\n",
        "chi2 = sum(ret_arr)\n",
        "chi2"
      ],
      "execution_count": 144,
      "outputs": [
        {
          "output_type": "execute_result",
          "data": {
            "text/plain": [
              "4.666666666666666"
            ]
          },
          "metadata": {
            "tags": []
          },
          "execution_count": 144
        }
      ]
    },
    {
      "cell_type": "code",
      "metadata": {
        "id": "UopcRiLDyyFa",
        "colab_type": "code",
        "colab": {
          "base_uri": "https://localhost:8080/",
          "height": 119
        },
        "outputId": "1cfb4b0f-d6b3-4f4a-d95d-4ae0fda2d97a"
      },
      "source": [
        "#Use Scipy to find chi2 score\n",
        "chi2, p_value, dof, expected = stats.chi2_contingency(observed)\n",
        "\n",
        "print(\"chi2 statistic\", chi2)\n",
        "print(\"p value\", p_value)\n",
        "print(\"degrees of freedom\",dof)\n",
        "print(\"expected frequencies table\", expected)"
      ],
      "execution_count": 146,
      "outputs": [
        {
          "output_type": "stream",
          "text": [
            "chi2 statistic 4.666666666666666\n",
            "p value 0.7925363299535328\n",
            "degrees of freedom 8\n",
            "expected frequencies table [[ 0.5  3.   1.   0.5  5. ]\n",
            " [ 0.5  3.   1.   0.5  5. ]\n",
            " [ 1.   6.   2.   1.  10. ]]\n"
          ],
          "name": "stdout"
        }
      ]
    },
    {
      "cell_type": "markdown",
      "metadata": {
        "id": "lAt6VcXB8QGp",
        "colab_type": "text"
      },
      "source": [
        "Null hypothesis: There is no relationship between the number of different loads on a train and the direction it was traveling in the given dataset.\n",
        "\n",
        "Alternative hypothesis: (p<0.05) There is a statistical relation between the given variables, as evidenced by a high $\\chi^2$ score and corresponding low p-value\n",
        "\n",
        "**Result**\n",
        "We cannot reject the null hypothesis, as indicated by the high p-value"
      ]
    },
    {
      "cell_type": "markdown",
      "metadata": {
        "id": "4ohsJhQUmEuS",
        "colab_type": "text"
      },
      "source": [
        "## Stretch goals:\n",
        "\n",
        "1. Write a summary of your findings, mixing prose and math/code/results. *Note* - yes, this is by definition a political topic. It is challenging but important to keep your writing voice *neutral* and stick to the facts of the data. Data science often involves considering controversial issues, so it's important to be sensitive about them (especially if you want to publish).\n",
        "2. Apply the techniques you learned today to your project data or other data of your choice, and write/discuss your findings here.\n",
        "3. Refactor your code so it is elegant, readable, and can be easily run for all issues."
      ]
    },
    {
      "cell_type": "markdown",
      "metadata": {
        "id": "nyJ3ySr7R2k9",
        "colab_type": "text"
      },
      "source": [
        "## Resources\n",
        "\n",
        "- [Interactive visualize the Chi-Squared test](https://homepage.divms.uiowa.edu/~mbognar/applets/chisq.html)\n",
        "- [Calculation of Chi-Squared test statistic](https://en.wikipedia.org/wiki/Pearson%27s_chi-squared_test)\n",
        "- [Visualization of a confidence interval generated by R code](https://commons.wikimedia.org/wiki/File:Confidence-interval.svg)\n",
        "- [Expected value of a squared standard normal](https://math.stackexchange.com/questions/264061/expected-value-calculation-for-squared-normal-distribution) (it's 1 - which is why the expected value of a Chi-Squared with $n$ degrees of freedom is $n$, as it's the sum of $n$ squared standard normals)"
      ]
    }
  ]
}