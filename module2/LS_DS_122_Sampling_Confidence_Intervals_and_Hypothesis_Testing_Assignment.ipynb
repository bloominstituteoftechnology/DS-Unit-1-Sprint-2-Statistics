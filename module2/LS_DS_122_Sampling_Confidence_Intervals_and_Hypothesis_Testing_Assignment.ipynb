{
  "nbformat": 4,
  "nbformat_minor": 0,
  "metadata": {
    "colab": {
      "name": "Dec10LS_DS_122_Sampling_Confidence_Intervals_and_Hypothesis_Testing_Assignment.ipynb",
      "provenance": [],
      "collapsed_sections": [],
      "include_colab_link": true
    },
    "kernelspec": {
      "name": "python3",
      "display_name": "Python 3"
    }
  },
  "cells": [
    {
      "cell_type": "markdown",
      "metadata": {
        "id": "view-in-github",
        "colab_type": "text"
      },
      "source": [
        "<a href=\"https://colab.research.google.com/github/jose-marquez89/DS-Unit-1-Sprint-2-Statistics/blob/master/module2/LS_DS_122_Sampling_Confidence_Intervals_and_Hypothesis_Testing_Assignment.ipynb\" target=\"_parent\"><img src=\"https://colab.research.google.com/assets/colab-badge.svg\" alt=\"Open In Colab\"/></a>"
      ]
    },
    {
      "cell_type": "markdown",
      "metadata": {
        "id": "11OzdxWTM7UR",
        "colab_type": "text"
      },
      "source": [
        "## Assignment - Build a confidence interval\n",
        "\n",
        "A confidence interval refers to a neighborhood around some point estimate, the size of which is determined by the desired p-value. For instance, we might say that 52% of Americans prefer tacos to burritos, with a 95% confidence interval of +/- 5%.\n",
        "\n",
        "52% (0.52) is the point estimate, and +/- 5% (the interval $[0.47, 0.57]$) is the confidence interval. \"95% confidence\" means a p-value $\\leq 1 - 0.95 = 0.05$.\n",
        "\n",
        "In this case, the confidence interval includes $0.5$ - which is the natural null hypothesis (that half of Americans prefer tacos and half burritos, thus there is no clear favorite). So in this case, we could use the confidence interval to report that we've failed to reject the null hypothesis.\n",
        "\n",
        "But providing the full analysis with a confidence interval, including a graphical representation of it, can be a helpful and powerful way to tell your story. Done well, it is also more intuitive to a layperson than simply saying \"fail to reject the null hypothesis\" - it shows that in fact the data does *not* give a single clear result (the point estimate) but a whole range of possibilities.\n",
        "\n",
        "How is a confidence interval built, and how should it be interpreted? It does *not* mean that 95% of the data lies in that interval - instead, the frequentist interpretation is \"if we were to repeat this experiment 100 times, we would expect the average result to lie in this interval ~95 times.\"\n",
        "\n",
        "For a 95% confidence interval and a normal(-ish) distribution, you can simply remember that +/-2 standard deviations contains 95% of the probability mass, and so the 95% confidence interval based on a given sample is centered at the mean (point estimate) and has a range of +/- 2 (or technically 1.96) standard deviations.\n",
        "\n",
        "Different distributions/assumptions (90% confidence, 99% confidence) will require different math, but the overall process and interpretation (with a frequentist approach) will be the same.\n",
        "\n",
        "Your assignment - using the data from the prior module ([congressional voting records](https://archive.ics.uci.edu/ml/datasets/Congressional+Voting+Records)):\n",
        "\n",
        "\n",
        "### Confidence Intervals:\n",
        "1. Generate and numerically represent a confidence interval\n",
        "2. Graphically (with a plot) represent the confidence interval\n",
        "3. Interpret the confidence interval - what does it tell you about the data and its distribution?\n",
        "\n",
        "### Chi-squared tests:\n",
        "4. Take a dataset that we have used in the past in class that has **categorical** variables. Pick two of those categorical variables and run a chi-squared tests on that data\n",
        "  - By hand using Numpy\n",
        "  - In a single line using Scipy\n"
      ]
    },
    {
      "cell_type": "code",
      "metadata": {
        "id": "O1XKEVPqm3KC",
        "colab_type": "code",
        "colab": {}
      },
      "source": [
        "import pandas as pd\n",
        "import numpy as np\n",
        "import matplotlib.pyplot as plt\n",
        "import seaborn as sns\n",
        "from scipy import stats"
      ],
      "execution_count": 0,
      "outputs": []
    },
    {
      "cell_type": "code",
      "metadata": {
        "id": "Ckcr4A4FM7cs",
        "colab_type": "code",
        "outputId": "bf925d5b-0884-4b66-ce82-04e2a59046d8",
        "colab": {
          "base_uri": "https://localhost:8080/",
          "height": 204
        }
      },
      "source": [
        "# get data\n",
        "!wget https://archive.ics.uci.edu/ml/machine-learning-databases/voting-records/house-votes-84.data"
      ],
      "execution_count": 97,
      "outputs": [
        {
          "output_type": "stream",
          "text": [
            "--2019-12-11 00:25:28--  https://archive.ics.uci.edu/ml/machine-learning-databases/voting-records/house-votes-84.data\n",
            "Resolving archive.ics.uci.edu (archive.ics.uci.edu)... 128.195.10.252\n",
            "Connecting to archive.ics.uci.edu (archive.ics.uci.edu)|128.195.10.252|:443... connected.\n",
            "HTTP request sent, awaiting response... 200 OK\n",
            "Length: 18171 (18K) [application/x-httpd-php]\n",
            "Saving to: ‘house-votes-84.data.1’\n",
            "\n",
            "house-votes-84.data 100%[===================>]  17.75K  --.-KB/s    in 0.1s    \n",
            "\n",
            "2019-12-11 00:25:28 (138 KB/s) - ‘house-votes-84.data.1’ saved [18171/18171]\n",
            "\n"
          ],
          "name": "stdout"
        }
      ]
    },
    {
      "cell_type": "code",
      "metadata": {
        "id": "jCI_ACMDmN91",
        "colab_type": "code",
        "outputId": "faf42464-65be-46ef-d464-309bc2925c4d",
        "colab": {
          "base_uri": "https://localhost:8080/",
          "height": 255
        }
      },
      "source": [
        "# load data\n",
        "df = pd.read_csv('house-votes-84.data', \n",
        "                 header=None,\n",
        "                 names=['party', 'handicapped-infants', 'water-project',\n",
        "                        'budget', 'physician-fee-freeze', 'el-salvador-aid',\n",
        "                        'religious-groups', 'anti-satellite-ban', \n",
        "                        'aid-to-contras', 'mx-missile', 'immigration',\n",
        "                        'synfuels', 'education', 'right-to-sue', 'crime', 'duty-free',\n",
        "                        'south-africa'])\n",
        "print(df.shape)\n",
        "df.head()"
      ],
      "execution_count": 98,
      "outputs": [
        {
          "output_type": "stream",
          "text": [
            "(435, 17)\n"
          ],
          "name": "stdout"
        },
        {
          "output_type": "execute_result",
          "data": {
            "text/html": [
              "<div>\n",
              "<style scoped>\n",
              "    .dataframe tbody tr th:only-of-type {\n",
              "        vertical-align: middle;\n",
              "    }\n",
              "\n",
              "    .dataframe tbody tr th {\n",
              "        vertical-align: top;\n",
              "    }\n",
              "\n",
              "    .dataframe thead th {\n",
              "        text-align: right;\n",
              "    }\n",
              "</style>\n",
              "<table border=\"1\" class=\"dataframe\">\n",
              "  <thead>\n",
              "    <tr style=\"text-align: right;\">\n",
              "      <th></th>\n",
              "      <th>party</th>\n",
              "      <th>handicapped-infants</th>\n",
              "      <th>water-project</th>\n",
              "      <th>budget</th>\n",
              "      <th>physician-fee-freeze</th>\n",
              "      <th>el-salvador-aid</th>\n",
              "      <th>religious-groups</th>\n",
              "      <th>anti-satellite-ban</th>\n",
              "      <th>aid-to-contras</th>\n",
              "      <th>mx-missile</th>\n",
              "      <th>immigration</th>\n",
              "      <th>synfuels</th>\n",
              "      <th>education</th>\n",
              "      <th>right-to-sue</th>\n",
              "      <th>crime</th>\n",
              "      <th>duty-free</th>\n",
              "      <th>south-africa</th>\n",
              "    </tr>\n",
              "  </thead>\n",
              "  <tbody>\n",
              "    <tr>\n",
              "      <th>0</th>\n",
              "      <td>republican</td>\n",
              "      <td>n</td>\n",
              "      <td>y</td>\n",
              "      <td>n</td>\n",
              "      <td>y</td>\n",
              "      <td>y</td>\n",
              "      <td>y</td>\n",
              "      <td>n</td>\n",
              "      <td>n</td>\n",
              "      <td>n</td>\n",
              "      <td>y</td>\n",
              "      <td>?</td>\n",
              "      <td>y</td>\n",
              "      <td>y</td>\n",
              "      <td>y</td>\n",
              "      <td>n</td>\n",
              "      <td>y</td>\n",
              "    </tr>\n",
              "    <tr>\n",
              "      <th>1</th>\n",
              "      <td>republican</td>\n",
              "      <td>n</td>\n",
              "      <td>y</td>\n",
              "      <td>n</td>\n",
              "      <td>y</td>\n",
              "      <td>y</td>\n",
              "      <td>y</td>\n",
              "      <td>n</td>\n",
              "      <td>n</td>\n",
              "      <td>n</td>\n",
              "      <td>n</td>\n",
              "      <td>n</td>\n",
              "      <td>y</td>\n",
              "      <td>y</td>\n",
              "      <td>y</td>\n",
              "      <td>n</td>\n",
              "      <td>?</td>\n",
              "    </tr>\n",
              "    <tr>\n",
              "      <th>2</th>\n",
              "      <td>democrat</td>\n",
              "      <td>?</td>\n",
              "      <td>y</td>\n",
              "      <td>y</td>\n",
              "      <td>?</td>\n",
              "      <td>y</td>\n",
              "      <td>y</td>\n",
              "      <td>n</td>\n",
              "      <td>n</td>\n",
              "      <td>n</td>\n",
              "      <td>n</td>\n",
              "      <td>y</td>\n",
              "      <td>n</td>\n",
              "      <td>y</td>\n",
              "      <td>y</td>\n",
              "      <td>n</td>\n",
              "      <td>n</td>\n",
              "    </tr>\n",
              "    <tr>\n",
              "      <th>3</th>\n",
              "      <td>democrat</td>\n",
              "      <td>n</td>\n",
              "      <td>y</td>\n",
              "      <td>y</td>\n",
              "      <td>n</td>\n",
              "      <td>?</td>\n",
              "      <td>y</td>\n",
              "      <td>n</td>\n",
              "      <td>n</td>\n",
              "      <td>n</td>\n",
              "      <td>n</td>\n",
              "      <td>y</td>\n",
              "      <td>n</td>\n",
              "      <td>y</td>\n",
              "      <td>n</td>\n",
              "      <td>n</td>\n",
              "      <td>y</td>\n",
              "    </tr>\n",
              "    <tr>\n",
              "      <th>4</th>\n",
              "      <td>democrat</td>\n",
              "      <td>y</td>\n",
              "      <td>y</td>\n",
              "      <td>y</td>\n",
              "      <td>n</td>\n",
              "      <td>y</td>\n",
              "      <td>y</td>\n",
              "      <td>n</td>\n",
              "      <td>n</td>\n",
              "      <td>n</td>\n",
              "      <td>n</td>\n",
              "      <td>y</td>\n",
              "      <td>?</td>\n",
              "      <td>y</td>\n",
              "      <td>y</td>\n",
              "      <td>y</td>\n",
              "      <td>y</td>\n",
              "    </tr>\n",
              "  </tbody>\n",
              "</table>\n",
              "</div>"
            ],
            "text/plain": [
              "        party handicapped-infants water-project  ... crime duty-free south-africa\n",
              "0  republican                   n             y  ...     y         n            y\n",
              "1  republican                   n             y  ...     y         n            ?\n",
              "2    democrat                   ?             y  ...     y         n            n\n",
              "3    democrat                   n             y  ...     n         n            y\n",
              "4    democrat                   y             y  ...     y         y            y\n",
              "\n",
              "[5 rows x 17 columns]"
            ]
          },
          "metadata": {
            "tags": []
          },
          "execution_count": 98
        }
      ]
    },
    {
      "cell_type": "code",
      "metadata": {
        "id": "twQr-OKVnL_A",
        "colab_type": "code",
        "outputId": "9585df3d-621f-4fb3-a9bd-81666d1c7f27",
        "colab": {
          "base_uri": "https://localhost:8080/",
          "height": 238
        }
      },
      "source": [
        "# Replace question marks and yes/no values\n",
        "df = df.replace({'?':np.NaN, 'n': 0, 'y':1})\n",
        "\n",
        "df.head()"
      ],
      "execution_count": 99,
      "outputs": [
        {
          "output_type": "execute_result",
          "data": {
            "text/html": [
              "<div>\n",
              "<style scoped>\n",
              "    .dataframe tbody tr th:only-of-type {\n",
              "        vertical-align: middle;\n",
              "    }\n",
              "\n",
              "    .dataframe tbody tr th {\n",
              "        vertical-align: top;\n",
              "    }\n",
              "\n",
              "    .dataframe thead th {\n",
              "        text-align: right;\n",
              "    }\n",
              "</style>\n",
              "<table border=\"1\" class=\"dataframe\">\n",
              "  <thead>\n",
              "    <tr style=\"text-align: right;\">\n",
              "      <th></th>\n",
              "      <th>party</th>\n",
              "      <th>handicapped-infants</th>\n",
              "      <th>water-project</th>\n",
              "      <th>budget</th>\n",
              "      <th>physician-fee-freeze</th>\n",
              "      <th>el-salvador-aid</th>\n",
              "      <th>religious-groups</th>\n",
              "      <th>anti-satellite-ban</th>\n",
              "      <th>aid-to-contras</th>\n",
              "      <th>mx-missile</th>\n",
              "      <th>immigration</th>\n",
              "      <th>synfuels</th>\n",
              "      <th>education</th>\n",
              "      <th>right-to-sue</th>\n",
              "      <th>crime</th>\n",
              "      <th>duty-free</th>\n",
              "      <th>south-africa</th>\n",
              "    </tr>\n",
              "  </thead>\n",
              "  <tbody>\n",
              "    <tr>\n",
              "      <th>0</th>\n",
              "      <td>republican</td>\n",
              "      <td>0.0</td>\n",
              "      <td>1.0</td>\n",
              "      <td>0.0</td>\n",
              "      <td>1.0</td>\n",
              "      <td>1.0</td>\n",
              "      <td>1.0</td>\n",
              "      <td>0.0</td>\n",
              "      <td>0.0</td>\n",
              "      <td>0.0</td>\n",
              "      <td>1.0</td>\n",
              "      <td>NaN</td>\n",
              "      <td>1.0</td>\n",
              "      <td>1.0</td>\n",
              "      <td>1.0</td>\n",
              "      <td>0.0</td>\n",
              "      <td>1.0</td>\n",
              "    </tr>\n",
              "    <tr>\n",
              "      <th>1</th>\n",
              "      <td>republican</td>\n",
              "      <td>0.0</td>\n",
              "      <td>1.0</td>\n",
              "      <td>0.0</td>\n",
              "      <td>1.0</td>\n",
              "      <td>1.0</td>\n",
              "      <td>1.0</td>\n",
              "      <td>0.0</td>\n",
              "      <td>0.0</td>\n",
              "      <td>0.0</td>\n",
              "      <td>0.0</td>\n",
              "      <td>0.0</td>\n",
              "      <td>1.0</td>\n",
              "      <td>1.0</td>\n",
              "      <td>1.0</td>\n",
              "      <td>0.0</td>\n",
              "      <td>NaN</td>\n",
              "    </tr>\n",
              "    <tr>\n",
              "      <th>2</th>\n",
              "      <td>democrat</td>\n",
              "      <td>NaN</td>\n",
              "      <td>1.0</td>\n",
              "      <td>1.0</td>\n",
              "      <td>NaN</td>\n",
              "      <td>1.0</td>\n",
              "      <td>1.0</td>\n",
              "      <td>0.0</td>\n",
              "      <td>0.0</td>\n",
              "      <td>0.0</td>\n",
              "      <td>0.0</td>\n",
              "      <td>1.0</td>\n",
              "      <td>0.0</td>\n",
              "      <td>1.0</td>\n",
              "      <td>1.0</td>\n",
              "      <td>0.0</td>\n",
              "      <td>0.0</td>\n",
              "    </tr>\n",
              "    <tr>\n",
              "      <th>3</th>\n",
              "      <td>democrat</td>\n",
              "      <td>0.0</td>\n",
              "      <td>1.0</td>\n",
              "      <td>1.0</td>\n",
              "      <td>0.0</td>\n",
              "      <td>NaN</td>\n",
              "      <td>1.0</td>\n",
              "      <td>0.0</td>\n",
              "      <td>0.0</td>\n",
              "      <td>0.0</td>\n",
              "      <td>0.0</td>\n",
              "      <td>1.0</td>\n",
              "      <td>0.0</td>\n",
              "      <td>1.0</td>\n",
              "      <td>0.0</td>\n",
              "      <td>0.0</td>\n",
              "      <td>1.0</td>\n",
              "    </tr>\n",
              "    <tr>\n",
              "      <th>4</th>\n",
              "      <td>democrat</td>\n",
              "      <td>1.0</td>\n",
              "      <td>1.0</td>\n",
              "      <td>1.0</td>\n",
              "      <td>0.0</td>\n",
              "      <td>1.0</td>\n",
              "      <td>1.0</td>\n",
              "      <td>0.0</td>\n",
              "      <td>0.0</td>\n",
              "      <td>0.0</td>\n",
              "      <td>0.0</td>\n",
              "      <td>1.0</td>\n",
              "      <td>NaN</td>\n",
              "      <td>1.0</td>\n",
              "      <td>1.0</td>\n",
              "      <td>1.0</td>\n",
              "      <td>1.0</td>\n",
              "    </tr>\n",
              "  </tbody>\n",
              "</table>\n",
              "</div>"
            ],
            "text/plain": [
              "        party  handicapped-infants  ...  duty-free  south-africa\n",
              "0  republican                  0.0  ...        0.0           1.0\n",
              "1  republican                  0.0  ...        0.0           NaN\n",
              "2    democrat                  NaN  ...        0.0           0.0\n",
              "3    democrat                  0.0  ...        0.0           1.0\n",
              "4    democrat                  1.0  ...        1.0           1.0\n",
              "\n",
              "[5 rows x 17 columns]"
            ]
          },
          "metadata": {
            "tags": []
          },
          "execution_count": 99
        }
      ]
    },
    {
      "cell_type": "code",
      "metadata": {
        "id": "K34W2EAJnoxN",
        "colab_type": "code",
        "outputId": "8a83b48a-7067-42b8-faf7-409049bf68d0",
        "colab": {
          "base_uri": "https://localhost:8080/",
          "height": 51
        }
      },
      "source": [
        "# separate the data into democrat and republican\n",
        "\n",
        "# republicans\n",
        "rep = df[df['party'] == \"republican\"]\n",
        "print(f\"Rep: {rep.shape}\")\n",
        "\n",
        "# democrats\n",
        "dem = df[df['party'] == 'democrat']\n",
        "print(f\"Dem: {dem.shape}\")"
      ],
      "execution_count": 100,
      "outputs": [
        {
          "output_type": "stream",
          "text": [
            "Rep: (168, 17)\n",
            "Dem: (267, 17)\n"
          ],
          "name": "stdout"
        }
      ]
    },
    {
      "cell_type": "code",
      "metadata": {
        "id": "Scfc1VQVomT3",
        "colab_type": "code",
        "colab": {
          "base_uri": "https://localhost:8080/",
          "height": 119
        },
        "outputId": "9c82fb1c-6e0a-48a6-c532-a154c5b4f767"
      },
      "source": [
        "# clean this column for the example (especially graphic)\n",
        "dem['anti-satellite-ban'] = dem['anti-satellite-ban'].fillna(method='bfill')"
      ],
      "execution_count": 101,
      "outputs": [
        {
          "output_type": "stream",
          "text": [
            "/usr/local/lib/python3.6/dist-packages/ipykernel_launcher.py:1: SettingWithCopyWarning: \n",
            "A value is trying to be set on a copy of a slice from a DataFrame.\n",
            "Try using .loc[row_indexer,col_indexer] = value instead\n",
            "\n",
            "See the caveats in the documentation: http://pandas.pydata.org/pandas-docs/stable/user_guide/indexing.html#returning-a-view-versus-a-copy\n",
            "  \"\"\"Entry point for launching an IPython kernel.\n"
          ],
          "name": "stderr"
        }
      ]
    },
    {
      "cell_type": "code",
      "metadata": {
        "id": "tBWyhroPmzSY",
        "colab_type": "code",
        "outputId": "da495a50-7ebe-43bc-885b-b50005d603c2",
        "colab": {
          "base_uri": "https://localhost:8080/",
          "height": 34
        }
      },
      "source": [
        "# generate and numerically represent a confidence interval\n",
        "\n",
        "def confidence_interval(data, confidence=0.95):\n",
        "  mean = np.mean(data)\n",
        "  n = len(data)\n",
        "  sterr = (np.std(data, ddof=1) / np.sqrt(n))\n",
        "  moe = sterr * stats.t.ppf((1 + confidence) / 2.0, n - 1)\n",
        "  return (mean, mean - moe, mean + moe)\n",
        "\n",
        "mean, low, high = confidence_interval(dem['anti-satellite-ban'])\n",
        "\n",
        "# rounding for readability\n",
        "roundLow = round(low, 2)\n",
        "roundHigh = round(high, 2)\n",
        "\n",
        "print(\"Confidence Interval: [%s-%s]\" % (roundLow, roundHigh))"
      ],
      "execution_count": 102,
      "outputs": [
        {
          "output_type": "stream",
          "text": [
            "Confidence Interval: [0.72-0.83]\n"
          ],
          "name": "stdout"
        }
      ]
    },
    {
      "cell_type": "code",
      "metadata": {
        "id": "YaJsYZ1CXMUf",
        "colab_type": "code",
        "colab": {
          "base_uri": "https://localhost:8080/",
          "height": 34
        },
        "outputId": "43fedc01-52c6-44e8-e45d-0893cf14f12f"
      },
      "source": [
        "dem['anti-satellite-ban'].isnull().sum()"
      ],
      "execution_count": 113,
      "outputs": [
        {
          "output_type": "execute_result",
          "data": {
            "text/plain": [
              "0"
            ]
          },
          "metadata": {
            "tags": []
          },
          "execution_count": 113
        }
      ]
    },
    {
      "cell_type": "code",
      "metadata": {
        "id": "Dvze9vq18nEp",
        "colab_type": "code",
        "outputId": "79df5860-d7f1-4029-f8e9-7b02127919ec",
        "colab": {
          "base_uri": "https://localhost:8080/",
          "height": 265
        }
      },
      "source": [
        "# graphically represent the confidence interval\n",
        "sns.kdeplot(dem['anti-satellite-ban'])\n",
        "plt.axvline(x=low, color='red')\n",
        "plt.axvline(x=high, color='red')\n",
        "plt.axvline(x=mean, color='k');\n"
      ],
      "execution_count": 112,
      "outputs": [
        {
          "output_type": "display_data",
          "data": {
            "image/png": "[encoded data removed]",
            "text/plain": [
              "<Figure size 432x288 with 1 Axes>"
            ]
          },
          "metadata": {
            "tags": []
          }
        }
      ]
    },
    {
      "cell_type": "code",
      "metadata": {
        "id": "E7Nt5hJcEfsz",
        "colab_type": "code",
        "outputId": "b8675b2c-b961-4bd1-f5de-2d0dd8e29dcd",
        "colab": {
          "base_uri": "https://localhost:8080/",
          "height": 350
        }
      },
      "source": [
        "sns.kdeplot(dem['immigration'])"
      ],
      "execution_count": 108,
      "outputs": [
        {
          "output_type": "stream",
          "text": [
            "/usr/local/lib/python3.6/dist-packages/statsmodels/nonparametric/kde.py:447: RuntimeWarning: invalid value encountered in greater\n",
            "  X = X[np.logical_and(X > clip[0], X < clip[1])] # won't work for two columns.\n",
            "/usr/local/lib/python3.6/dist-packages/statsmodels/nonparametric/kde.py:447: RuntimeWarning: invalid value encountered in less\n",
            "  X = X[np.logical_and(X > clip[0], X < clip[1])] # won't work for two columns.\n"
          ],
          "name": "stderr"
        },
        {
          "output_type": "execute_result",
          "data": {
            "text/plain": [
              "<matplotlib.axes._subplots.AxesSubplot at 0x7f5e4f4088d0>"
            ]
          },
          "metadata": {
            "tags": []
          },
          "execution_count": 108
        },
        {
          "output_type": "display_data",
          "data": {
            "image/png": "[encoded data removed]",
            "text/plain": [
              "<Figure size 432x288 with 1 Axes>"
            ]
          },
          "metadata": {
            "tags": []
          }
        }
      ]
    },
    {
      "cell_type": "code",
      "metadata": {
        "id": "hH4VLqS1E-np",
        "colab_type": "code",
        "outputId": "75309745-ee5b-4751-b630-916469c9aa45",
        "colab": {
          "base_uri": "https://localhost:8080/",
          "height": 204
        }
      },
      "source": [
        "# get adult data set\n",
        "url = 'https://archive.ics.uci.edu/ml/machine-learning-databases/adult/adult.data'\n",
        "adf = pd.read_csv(url, names=['age', 'workclass', 'fnlwgt', 'education', \n",
        "                              'education-num', 'marital-status', 'occupation',\n",
        "                              'relationship', 'race', 'sex', 'capital-gain',\n",
        "                              'capital-loss', 'hours-per-week', 'country', 'salary'])\n",
        "adf.head()"
      ],
      "execution_count": 0,
      "outputs": [
        {
          "output_type": "execute_result",
          "data": {
            "text/html": [
              "<div>\n",
              "<style scoped>\n",
              "    .dataframe tbody tr th:only-of-type {\n",
              "        vertical-align: middle;\n",
              "    }\n",
              "\n",
              "    .dataframe tbody tr th {\n",
              "        vertical-align: top;\n",
              "    }\n",
              "\n",
              "    .dataframe thead th {\n",
              "        text-align: right;\n",
              "    }\n",
              "</style>\n",
              "<table border=\"1\" class=\"dataframe\">\n",
              "  <thead>\n",
              "    <tr style=\"text-align: right;\">\n",
              "      <th></th>\n",
              "      <th>age</th>\n",
              "      <th>workclass</th>\n",
              "      <th>fnlwgt</th>\n",
              "      <th>education</th>\n",
              "      <th>education-num</th>\n",
              "      <th>marital-status</th>\n",
              "      <th>occupation</th>\n",
              "      <th>relationship</th>\n",
              "      <th>race</th>\n",
              "      <th>sex</th>\n",
              "      <th>capital-gain</th>\n",
              "      <th>capital-loss</th>\n",
              "      <th>hours-per-week</th>\n",
              "      <th>country</th>\n",
              "      <th>salary</th>\n",
              "    </tr>\n",
              "  </thead>\n",
              "  <tbody>\n",
              "    <tr>\n",
              "      <th>0</th>\n",
              "      <td>39</td>\n",
              "      <td>State-gov</td>\n",
              "      <td>77516</td>\n",
              "      <td>Bachelors</td>\n",
              "      <td>13</td>\n",
              "      <td>Never-married</td>\n",
              "      <td>Adm-clerical</td>\n",
              "      <td>Not-in-family</td>\n",
              "      <td>White</td>\n",
              "      <td>Male</td>\n",
              "      <td>2174</td>\n",
              "      <td>0</td>\n",
              "      <td>40</td>\n",
              "      <td>United-States</td>\n",
              "      <td>&lt;=50K</td>\n",
              "    </tr>\n",
              "    <tr>\n",
              "      <th>1</th>\n",
              "      <td>50</td>\n",
              "      <td>Self-emp-not-inc</td>\n",
              "      <td>83311</td>\n",
              "      <td>Bachelors</td>\n",
              "      <td>13</td>\n",
              "      <td>Married-civ-spouse</td>\n",
              "      <td>Exec-managerial</td>\n",
              "      <td>Husband</td>\n",
              "      <td>White</td>\n",
              "      <td>Male</td>\n",
              "      <td>0</td>\n",
              "      <td>0</td>\n",
              "      <td>13</td>\n",
              "      <td>United-States</td>\n",
              "      <td>&lt;=50K</td>\n",
              "    </tr>\n",
              "    <tr>\n",
              "      <th>2</th>\n",
              "      <td>38</td>\n",
              "      <td>Private</td>\n",
              "      <td>215646</td>\n",
              "      <td>HS-grad</td>\n",
              "      <td>9</td>\n",
              "      <td>Divorced</td>\n",
              "      <td>Handlers-cleaners</td>\n",
              "      <td>Not-in-family</td>\n",
              "      <td>White</td>\n",
              "      <td>Male</td>\n",
              "      <td>0</td>\n",
              "      <td>0</td>\n",
              "      <td>40</td>\n",
              "      <td>United-States</td>\n",
              "      <td>&lt;=50K</td>\n",
              "    </tr>\n",
              "    <tr>\n",
              "      <th>3</th>\n",
              "      <td>53</td>\n",
              "      <td>Private</td>\n",
              "      <td>234721</td>\n",
              "      <td>11th</td>\n",
              "      <td>7</td>\n",
              "      <td>Married-civ-spouse</td>\n",
              "      <td>Handlers-cleaners</td>\n",
              "      <td>Husband</td>\n",
              "      <td>Black</td>\n",
              "      <td>Male</td>\n",
              "      <td>0</td>\n",
              "      <td>0</td>\n",
              "      <td>40</td>\n",
              "      <td>United-States</td>\n",
              "      <td>&lt;=50K</td>\n",
              "    </tr>\n",
              "    <tr>\n",
              "      <th>4</th>\n",
              "      <td>28</td>\n",
              "      <td>Private</td>\n",
              "      <td>338409</td>\n",
              "      <td>Bachelors</td>\n",
              "      <td>13</td>\n",
              "      <td>Married-civ-spouse</td>\n",
              "      <td>Prof-specialty</td>\n",
              "      <td>Wife</td>\n",
              "      <td>Black</td>\n",
              "      <td>Female</td>\n",
              "      <td>0</td>\n",
              "      <td>0</td>\n",
              "      <td>40</td>\n",
              "      <td>Cuba</td>\n",
              "      <td>&lt;=50K</td>\n",
              "    </tr>\n",
              "  </tbody>\n",
              "</table>\n",
              "</div>"
            ],
            "text/plain": [
              "   age          workclass  fnlwgt  ... hours-per-week         country  salary\n",
              "0   39          State-gov   77516  ...             40   United-States   <=50K\n",
              "1   50   Self-emp-not-inc   83311  ...             13   United-States   <=50K\n",
              "2   38            Private  215646  ...             40   United-States   <=50K\n",
              "3   53            Private  234721  ...             40   United-States   <=50K\n",
              "4   28            Private  338409  ...             40            Cuba   <=50K\n",
              "\n",
              "[5 rows x 15 columns]"
            ]
          },
          "metadata": {
            "tags": []
          },
          "execution_count": 85
        }
      ]
    },
    {
      "cell_type": "code",
      "metadata": {
        "id": "2SUSLaoAMeZw",
        "colab_type": "code",
        "outputId": "6bdaffdd-18e0-4d85-bf44-e4e3d8a65360",
        "colab": {
          "base_uri": "https://localhost:8080/",
          "height": 266
        }
      },
      "source": [
        "# crosstab\n",
        "crosstab = pd.crosstab(adf['race'], adf['education'], margins=True)\n",
        "\n",
        "crosstab"
      ],
      "execution_count": 123,
      "outputs": [
        {
          "output_type": "execute_result",
          "data": {
            "text/html": [
              "<div>\n",
              "<style scoped>\n",
              "    .dataframe tbody tr th:only-of-type {\n",
              "        vertical-align: middle;\n",
              "    }\n",
              "\n",
              "    .dataframe tbody tr th {\n",
              "        vertical-align: top;\n",
              "    }\n",
              "\n",
              "    .dataframe thead th {\n",
              "        text-align: right;\n",
              "    }\n",
              "</style>\n",
              "<table border=\"1\" class=\"dataframe\">\n",
              "  <thead>\n",
              "    <tr style=\"text-align: right;\">\n",
              "      <th>education</th>\n",
              "      <th>10th</th>\n",
              "      <th>11th</th>\n",
              "      <th>12th</th>\n",
              "      <th>1st-4th</th>\n",
              "      <th>5th-6th</th>\n",
              "      <th>7th-8th</th>\n",
              "      <th>9th</th>\n",
              "      <th>Assoc-acdm</th>\n",
              "      <th>Assoc-voc</th>\n",
              "      <th>Bachelors</th>\n",
              "      <th>Doctorate</th>\n",
              "      <th>HS-grad</th>\n",
              "      <th>Masters</th>\n",
              "      <th>Preschool</th>\n",
              "      <th>Prof-school</th>\n",
              "      <th>Some-college</th>\n",
              "      <th>All</th>\n",
              "    </tr>\n",
              "    <tr>\n",
              "      <th>race</th>\n",
              "      <th></th>\n",
              "      <th></th>\n",
              "      <th></th>\n",
              "      <th></th>\n",
              "      <th></th>\n",
              "      <th></th>\n",
              "      <th></th>\n",
              "      <th></th>\n",
              "      <th></th>\n",
              "      <th></th>\n",
              "      <th></th>\n",
              "      <th></th>\n",
              "      <th></th>\n",
              "      <th></th>\n",
              "      <th></th>\n",
              "      <th></th>\n",
              "      <th></th>\n",
              "    </tr>\n",
              "  </thead>\n",
              "  <tbody>\n",
              "    <tr>\n",
              "      <th>Amer-Indian-Eskimo</th>\n",
              "      <td>16</td>\n",
              "      <td>14</td>\n",
              "      <td>5</td>\n",
              "      <td>4</td>\n",
              "      <td>2</td>\n",
              "      <td>9</td>\n",
              "      <td>5</td>\n",
              "      <td>8</td>\n",
              "      <td>19</td>\n",
              "      <td>21</td>\n",
              "      <td>3</td>\n",
              "      <td>119</td>\n",
              "      <td>5</td>\n",
              "      <td>0</td>\n",
              "      <td>2</td>\n",
              "      <td>79</td>\n",
              "      <td>311</td>\n",
              "    </tr>\n",
              "    <tr>\n",
              "      <th>Asian-Pac-Islander</th>\n",
              "      <td>13</td>\n",
              "      <td>21</td>\n",
              "      <td>9</td>\n",
              "      <td>5</td>\n",
              "      <td>18</td>\n",
              "      <td>11</td>\n",
              "      <td>9</td>\n",
              "      <td>29</td>\n",
              "      <td>38</td>\n",
              "      <td>289</td>\n",
              "      <td>28</td>\n",
              "      <td>226</td>\n",
              "      <td>88</td>\n",
              "      <td>6</td>\n",
              "      <td>41</td>\n",
              "      <td>208</td>\n",
              "      <td>1039</td>\n",
              "    </tr>\n",
              "    <tr>\n",
              "      <th>Black</th>\n",
              "      <td>133</td>\n",
              "      <td>153</td>\n",
              "      <td>70</td>\n",
              "      <td>16</td>\n",
              "      <td>21</td>\n",
              "      <td>56</td>\n",
              "      <td>89</td>\n",
              "      <td>107</td>\n",
              "      <td>112</td>\n",
              "      <td>330</td>\n",
              "      <td>11</td>\n",
              "      <td>1174</td>\n",
              "      <td>86</td>\n",
              "      <td>5</td>\n",
              "      <td>15</td>\n",
              "      <td>746</td>\n",
              "      <td>3124</td>\n",
              "    </tr>\n",
              "    <tr>\n",
              "      <th>Other</th>\n",
              "      <td>9</td>\n",
              "      <td>10</td>\n",
              "      <td>14</td>\n",
              "      <td>9</td>\n",
              "      <td>13</td>\n",
              "      <td>17</td>\n",
              "      <td>8</td>\n",
              "      <td>8</td>\n",
              "      <td>6</td>\n",
              "      <td>33</td>\n",
              "      <td>2</td>\n",
              "      <td>78</td>\n",
              "      <td>7</td>\n",
              "      <td>2</td>\n",
              "      <td>4</td>\n",
              "      <td>51</td>\n",
              "      <td>271</td>\n",
              "    </tr>\n",
              "    <tr>\n",
              "      <th>White</th>\n",
              "      <td>762</td>\n",
              "      <td>977</td>\n",
              "      <td>335</td>\n",
              "      <td>134</td>\n",
              "      <td>279</td>\n",
              "      <td>553</td>\n",
              "      <td>403</td>\n",
              "      <td>915</td>\n",
              "      <td>1207</td>\n",
              "      <td>4682</td>\n",
              "      <td>369</td>\n",
              "      <td>8904</td>\n",
              "      <td>1537</td>\n",
              "      <td>38</td>\n",
              "      <td>514</td>\n",
              "      <td>6207</td>\n",
              "      <td>27816</td>\n",
              "    </tr>\n",
              "    <tr>\n",
              "      <th>All</th>\n",
              "      <td>933</td>\n",
              "      <td>1175</td>\n",
              "      <td>433</td>\n",
              "      <td>168</td>\n",
              "      <td>333</td>\n",
              "      <td>646</td>\n",
              "      <td>514</td>\n",
              "      <td>1067</td>\n",
              "      <td>1382</td>\n",
              "      <td>5355</td>\n",
              "      <td>413</td>\n",
              "      <td>10501</td>\n",
              "      <td>1723</td>\n",
              "      <td>51</td>\n",
              "      <td>576</td>\n",
              "      <td>7291</td>\n",
              "      <td>32561</td>\n",
              "    </tr>\n",
              "  </tbody>\n",
              "</table>\n",
              "</div>"
            ],
            "text/plain": [
              "education             10th   11th   12th  ...   Prof-school   Some-college    All\n",
              "race                                      ...                                    \n",
              " Amer-Indian-Eskimo     16     14      5  ...             2             79    311\n",
              " Asian-Pac-Islander     13     21      9  ...            41            208   1039\n",
              " Black                 133    153     70  ...            15            746   3124\n",
              " Other                   9     10     14  ...             4             51    271\n",
              " White                 762    977    335  ...           514           6207  27816\n",
              "All                    933   1175    433  ...           576           7291  32561\n",
              "\n",
              "[6 rows x 17 columns]"
            ]
          },
          "metadata": {
            "tags": []
          },
          "execution_count": 123
        }
      ]
    },
    {
      "cell_type": "code",
      "metadata": {
        "id": "cys4YWcpLZ1O",
        "colab_type": "code",
        "colab": {
          "base_uri": "https://localhost:8080/",
          "height": 252
        },
        "outputId": "c13ea9df-069e-4d3c-ab70-b1437b04e38c"
      },
      "source": [
        "# observed table\n",
        "observed = pd.crosstab(adf['race'], adf['education'])\n",
        "print(observed.shape)\n",
        "observed"
      ],
      "execution_count": 133,
      "outputs": [
        {
          "output_type": "stream",
          "text": [
            "(5, 16)\n"
          ],
          "name": "stdout"
        },
        {
          "output_type": "execute_result",
          "data": {
            "text/html": [
              "<div>\n",
              "<style scoped>\n",
              "    .dataframe tbody tr th:only-of-type {\n",
              "        vertical-align: middle;\n",
              "    }\n",
              "\n",
              "    .dataframe tbody tr th {\n",
              "        vertical-align: top;\n",
              "    }\n",
              "\n",
              "    .dataframe thead th {\n",
              "        text-align: right;\n",
              "    }\n",
              "</style>\n",
              "<table border=\"1\" class=\"dataframe\">\n",
              "  <thead>\n",
              "    <tr style=\"text-align: right;\">\n",
              "      <th>education</th>\n",
              "      <th>10th</th>\n",
              "      <th>11th</th>\n",
              "      <th>12th</th>\n",
              "      <th>1st-4th</th>\n",
              "      <th>5th-6th</th>\n",
              "      <th>7th-8th</th>\n",
              "      <th>9th</th>\n",
              "      <th>Assoc-acdm</th>\n",
              "      <th>Assoc-voc</th>\n",
              "      <th>Bachelors</th>\n",
              "      <th>Doctorate</th>\n",
              "      <th>HS-grad</th>\n",
              "      <th>Masters</th>\n",
              "      <th>Preschool</th>\n",
              "      <th>Prof-school</th>\n",
              "      <th>Some-college</th>\n",
              "    </tr>\n",
              "    <tr>\n",
              "      <th>race</th>\n",
              "      <th></th>\n",
              "      <th></th>\n",
              "      <th></th>\n",
              "      <th></th>\n",
              "      <th></th>\n",
              "      <th></th>\n",
              "      <th></th>\n",
              "      <th></th>\n",
              "      <th></th>\n",
              "      <th></th>\n",
              "      <th></th>\n",
              "      <th></th>\n",
              "      <th></th>\n",
              "      <th></th>\n",
              "      <th></th>\n",
              "      <th></th>\n",
              "    </tr>\n",
              "  </thead>\n",
              "  <tbody>\n",
              "    <tr>\n",
              "      <th>Amer-Indian-Eskimo</th>\n",
              "      <td>16</td>\n",
              "      <td>14</td>\n",
              "      <td>5</td>\n",
              "      <td>4</td>\n",
              "      <td>2</td>\n",
              "      <td>9</td>\n",
              "      <td>5</td>\n",
              "      <td>8</td>\n",
              "      <td>19</td>\n",
              "      <td>21</td>\n",
              "      <td>3</td>\n",
              "      <td>119</td>\n",
              "      <td>5</td>\n",
              "      <td>0</td>\n",
              "      <td>2</td>\n",
              "      <td>79</td>\n",
              "    </tr>\n",
              "    <tr>\n",
              "      <th>Asian-Pac-Islander</th>\n",
              "      <td>13</td>\n",
              "      <td>21</td>\n",
              "      <td>9</td>\n",
              "      <td>5</td>\n",
              "      <td>18</td>\n",
              "      <td>11</td>\n",
              "      <td>9</td>\n",
              "      <td>29</td>\n",
              "      <td>38</td>\n",
              "      <td>289</td>\n",
              "      <td>28</td>\n",
              "      <td>226</td>\n",
              "      <td>88</td>\n",
              "      <td>6</td>\n",
              "      <td>41</td>\n",
              "      <td>208</td>\n",
              "    </tr>\n",
              "    <tr>\n",
              "      <th>Black</th>\n",
              "      <td>133</td>\n",
              "      <td>153</td>\n",
              "      <td>70</td>\n",
              "      <td>16</td>\n",
              "      <td>21</td>\n",
              "      <td>56</td>\n",
              "      <td>89</td>\n",
              "      <td>107</td>\n",
              "      <td>112</td>\n",
              "      <td>330</td>\n",
              "      <td>11</td>\n",
              "      <td>1174</td>\n",
              "      <td>86</td>\n",
              "      <td>5</td>\n",
              "      <td>15</td>\n",
              "      <td>746</td>\n",
              "    </tr>\n",
              "    <tr>\n",
              "      <th>Other</th>\n",
              "      <td>9</td>\n",
              "      <td>10</td>\n",
              "      <td>14</td>\n",
              "      <td>9</td>\n",
              "      <td>13</td>\n",
              "      <td>17</td>\n",
              "      <td>8</td>\n",
              "      <td>8</td>\n",
              "      <td>6</td>\n",
              "      <td>33</td>\n",
              "      <td>2</td>\n",
              "      <td>78</td>\n",
              "      <td>7</td>\n",
              "      <td>2</td>\n",
              "      <td>4</td>\n",
              "      <td>51</td>\n",
              "    </tr>\n",
              "    <tr>\n",
              "      <th>White</th>\n",
              "      <td>762</td>\n",
              "      <td>977</td>\n",
              "      <td>335</td>\n",
              "      <td>134</td>\n",
              "      <td>279</td>\n",
              "      <td>553</td>\n",
              "      <td>403</td>\n",
              "      <td>915</td>\n",
              "      <td>1207</td>\n",
              "      <td>4682</td>\n",
              "      <td>369</td>\n",
              "      <td>8904</td>\n",
              "      <td>1537</td>\n",
              "      <td>38</td>\n",
              "      <td>514</td>\n",
              "      <td>6207</td>\n",
              "    </tr>\n",
              "  </tbody>\n",
              "</table>\n",
              "</div>"
            ],
            "text/plain": [
              "education             10th   11th  ...   Prof-school   Some-college\n",
              "race                               ...                             \n",
              " Amer-Indian-Eskimo     16     14  ...             2             79\n",
              " Asian-Pac-Islander     13     21  ...            41            208\n",
              " Black                 133    153  ...            15            746\n",
              " Other                   9     10  ...             4             51\n",
              " White                 762    977  ...           514           6207\n",
              "\n",
              "[5 rows x 16 columns]"
            ]
          },
          "metadata": {
            "tags": []
          },
          "execution_count": 133
        }
      ]
    },
    {
      "cell_type": "code",
      "metadata": {
        "id": "KQXw1pYXlKiA",
        "colab_type": "code",
        "colab": {
          "base_uri": "https://localhost:8080/",
          "height": 374
        },
        "outputId": "62091268-04b6-456a-9051-e9e3cb252938"
      },
      "source": [
        "# expected table\n",
        "\n",
        "# get sums of rows and columns\n",
        "row_sums = crosstab.iloc[0:5, 16].values\n",
        "col_sums = crosstab.iloc[5, 0:16].values\n",
        "\n",
        "# get sample size\n",
        "total = crosstab.loc['All', 'All']\n",
        "\n",
        "# calculate table of expected values\n",
        "expected = []\n",
        "\n",
        "for i in range(len(row_sums)):\n",
        "  expected_row = []\n",
        "  for column in col_sums:\n",
        "    expected_val = column * row_sums[i]/total\n",
        "    expected_row.append(expected_val)\n",
        "  expected.append(expected_row)\n",
        "\n",
        "expected = np.array(expected)\n",
        "\n",
        "print(expected.shape)\n",
        "expected"
      ],
      "execution_count": 132,
      "outputs": [
        {
          "output_type": "stream",
          "text": [
            "(5, 16)\n"
          ],
          "name": "stdout"
        },
        {
          "output_type": "execute_result",
          "data": {
            "text/plain": [
              "array([[8.91136636e+00, 1.12227819e+01, 4.13571451e+00, 1.60461902e+00,\n",
              "        3.18058413e+00, 6.17014219e+00, 4.90937011e+00, 1.01912411e+01,\n",
              "        1.31999017e+01, 5.11472314e+01, 3.94468843e+00, 1.00298240e+02,\n",
              "        1.64568963e+01, 4.87116489e-01, 5.50155094e+00, 6.96385553e+01],\n",
              "       [2.97714137e+01, 3.74934738e+01, 1.38167440e+01, 5.36076902e+00,\n",
              "        1.06258100e+01, 2.06134332e+01, 1.64014004e+01, 3.40472651e+01,\n",
              "        4.40987070e+01, 1.70874512e+02, 1.31785572e+01, 3.35079973e+02,\n",
              "        5.49797918e+01, 1.62737631e+00, 1.83797795e+01, 2.32650994e+02],\n",
              "       [8.95148183e+01, 1.12733024e+02, 4.15433187e+01, 1.61184239e+01,\n",
              "        3.19490188e+01, 6.19791775e+01, 4.93147016e+01, 1.02371180e+02,\n",
              "        1.32593225e+02, 5.13774761e+02, 3.96244587e+01, 1.00749744e+03,\n",
              "        1.65309788e+02, 4.89309296e+00, 5.52631676e+01, 6.99520408e+02],\n",
              "       [7.76520991e+00, 9.77933724e+00, 3.60378981e+00, 1.39823715e+00,\n",
              "        2.77150579e+00, 5.37655477e+00, 4.27793987e+00, 8.88047050e+00,\n",
              "        1.15021652e+01, 4.45688093e+01, 3.43733301e+00, 8.73981450e+01,\n",
              "        1.43402537e+01, 4.24464851e-01, 4.79395596e+00, 6.06818280e+01],\n",
              "       [7.97037192e+02, 1.00377138e+03, 3.69900433e+02, 1.43517951e+02,\n",
              "        2.84473081e+02, 5.51860692e+02, 4.39096588e+02, 9.11509843e+02,\n",
              "        1.18060600e+03, 4.57463469e+03, 3.52814963e+02, 8.97072621e+03,\n",
              "        1.47191327e+03, 4.35679494e+01, 4.92061546e+02, 6.22850822e+03]])"
            ]
          },
          "metadata": {
            "tags": []
          },
          "execution_count": 132
        }
      ]
    },
    {
      "cell_type": "code",
      "metadata": {
        "id": "nGZmTEv00jf-",
        "colab_type": "code",
        "colab": {
          "base_uri": "https://localhost:8080/",
          "height": 204
        },
        "outputId": "7f2a5065-402f-40ef-c943-7b4701f392dd"
      },
      "source": [
        "# make observed an array\n",
        "observed = observed.values\n",
        "print(observed.shape)\n",
        "observed"
      ],
      "execution_count": 136,
      "outputs": [
        {
          "output_type": "stream",
          "text": [
            "(5, 16)\n"
          ],
          "name": "stdout"
        },
        {
          "output_type": "execute_result",
          "data": {
            "text/plain": [
              "array([[  16,   14,    5,    4,    2,    9,    5,    8,   19,   21,    3,\n",
              "         119,    5,    0,    2,   79],\n",
              "       [  13,   21,    9,    5,   18,   11,    9,   29,   38,  289,   28,\n",
              "         226,   88,    6,   41,  208],\n",
              "       [ 133,  153,   70,   16,   21,   56,   89,  107,  112,  330,   11,\n",
              "        1174,   86,    5,   15,  746],\n",
              "       [   9,   10,   14,    9,   13,   17,    8,    8,    6,   33,    2,\n",
              "          78,    7,    2,    4,   51],\n",
              "       [ 762,  977,  335,  134,  279,  553,  403,  915, 1207, 4682,  369,\n",
              "        8904, 1537,   38,  514, 6207]])"
            ]
          },
          "metadata": {
            "tags": []
          },
          "execution_count": 136
        }
      ]
    },
    {
      "cell_type": "code",
      "metadata": {
        "id": "EcO10bPozSpy",
        "colab_type": "code",
        "colab": {
          "base_uri": "https://localhost:8080/",
          "height": 34
        },
        "outputId": "eb311fc7-0537-460d-f44a-663924de4132"
      },
      "source": [
        "# numpy \"by hand\"\n",
        "chi_squared = ((observed - expected)**2/(expected)).sum()\n",
        "print(f\"Chi-Squared with numpy: {chi_squared}\")"
      ],
      "execution_count": 137,
      "outputs": [
        {
          "output_type": "stream",
          "text": [
            "Chi-Squared with numpy: 730.6712962254585\n"
          ],
          "name": "stdout"
        }
      ]
    },
    {
      "cell_type": "code",
      "metadata": {
        "id": "DSKaX3RlKMqM",
        "colab_type": "code",
        "colab": {
          "base_uri": "https://localhost:8080/",
          "height": 425
        },
        "outputId": "3d8f4056-d601-44da-8b7a-7aa00da7c464"
      },
      "source": [
        "# scipy chi squared test\n",
        "scipy_chi, p_value, dof, expected = stats.chi2_contingency(observed)\n",
        "\n",
        "\n",
        "print(f\"Chi-Squared: {chi_squared}\")\n",
        "print(f\"P-value: {p_value}\")\n",
        "print(f\"Degrees of Freedom: {dof}\") \n",
        "print(\"Expected: \\n\", np.array(expected))"
      ],
      "execution_count": 139,
      "outputs": [
        {
          "output_type": "stream",
          "text": [
            "Chi-Squared: 730.6712962254585\n",
            "P-value: 5.547319569858429e-116\n",
            "Degrees of Freedom: 60\n",
            "Expected: \n",
            " [[8.91136636e+00 1.12227819e+01 4.13571451e+00 1.60461902e+00\n",
            "  3.18058413e+00 6.17014219e+00 4.90937011e+00 1.01912411e+01\n",
            "  1.31999017e+01 5.11472314e+01 3.94468843e+00 1.00298240e+02\n",
            "  1.64568963e+01 4.87116489e-01 5.50155094e+00 6.96385553e+01]\n",
            " [2.97714137e+01 3.74934738e+01 1.38167440e+01 5.36076902e+00\n",
            "  1.06258100e+01 2.06134332e+01 1.64014004e+01 3.40472651e+01\n",
            "  4.40987070e+01 1.70874512e+02 1.31785572e+01 3.35079973e+02\n",
            "  5.49797918e+01 1.62737631e+00 1.83797795e+01 2.32650994e+02]\n",
            " [8.95148183e+01 1.12733024e+02 4.15433187e+01 1.61184239e+01\n",
            "  3.19490188e+01 6.19791775e+01 4.93147016e+01 1.02371180e+02\n",
            "  1.32593225e+02 5.13774761e+02 3.96244587e+01 1.00749744e+03\n",
            "  1.65309788e+02 4.89309296e+00 5.52631676e+01 6.99520408e+02]\n",
            " [7.76520991e+00 9.77933724e+00 3.60378981e+00 1.39823715e+00\n",
            "  2.77150579e+00 5.37655477e+00 4.27793987e+00 8.88047050e+00\n",
            "  1.15021652e+01 4.45688093e+01 3.43733301e+00 8.73981450e+01\n",
            "  1.43402537e+01 4.24464851e-01 4.79395596e+00 6.06818280e+01]\n",
            " [7.97037192e+02 1.00377138e+03 3.69900433e+02 1.43517951e+02\n",
            "  2.84473081e+02 5.51860692e+02 4.39096588e+02 9.11509843e+02\n",
            "  1.18060600e+03 4.57463469e+03 3.52814963e+02 8.97072621e+03\n",
            "  1.47191327e+03 4.35679494e+01 4.92061546e+02 6.22850822e+03]]\n"
          ],
          "name": "stdout"
        }
      ]
    },
    {
      "cell_type": "markdown",
      "metadata": {
        "id": "1vcJ7YCKCO5E",
        "colab_type": "text"
      },
      "source": [
        ""
      ]
    },
    {
      "cell_type": "markdown",
      "metadata": {
        "id": "4ohsJhQUmEuS",
        "colab_type": "text"
      },
      "source": [
        "## Stretch goals:\n",
        "\n",
        "1. Write a summary of your findings, mixing prose and math/code/results. *Note* - yes, this is by definition a political topic. It is challenging but important to keep your writing voice *neutral* and stick to the facts of the data. Data science often involves considering controversial issues, so it's important to be sensitive about them (especially if you want to publish).\n",
        "2. Apply the techniques you learned today to your project data or other data of your choice, and write/discuss your findings here.\n",
        "3. Refactor your code so it is elegant, readable, and can be easily run for all issues."
      ]
    },
    {
      "cell_type": "markdown",
      "metadata": {
        "id": "nyJ3ySr7R2k9",
        "colab_type": "text"
      },
      "source": [
        "## Resources\n",
        "\n",
        "- [Interactive visualize the Chi-Squared test](https://homepage.divms.uiowa.edu/~mbognar/applets/chisq.html)\n",
        "- [Calculation of Chi-Squared test statistic](https://en.wikipedia.org/wiki/Pearson%27s_chi-squared_test)\n",
        "- [Visualization of a confidence interval generated by R code](https://commons.wikimedia.org/wiki/File:Confidence-interval.svg)\n",
        "- [Expected value of a squared standard normal](https://math.stackexchange.com/questions/264061/expected-value-calculation-for-squared-normal-distribution) (it's 1 - which is why the expected value of a Chi-Squared with $n$ degrees of freedom is $n$, as it's the sum of $n$ squared standard normals)"
      ]
    }
  ]
}