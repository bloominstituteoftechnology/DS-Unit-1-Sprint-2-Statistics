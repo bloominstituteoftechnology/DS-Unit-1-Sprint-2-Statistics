{
  "nbformat": 4,
  "nbformat_minor": 0,
  "metadata": {
    "colab": {
      "name": "LS_DS_122_Sampling_Confidence_Intervals_and_Hypothesis_Testing_Assignment.ipynb",
      "provenance": [],
      "collapsed_sections": []
    },
    "kernelspec": {
      "name": "python3",
      "display_name": "Python 3"
    }
  },
  "cells": [
    {
      "cell_type": "markdown",
      "metadata": {
        "id": "11OzdxWTM7UR",
        "colab_type": "text"
      },
      "source": [
        "## Assignment - Build a confidence interval\n",
        "\n",
        "A confidence interval refers to a neighborhood around some point estimate, the size of which is determined by the desired p-value. For instance, we might say that 52% of Americans prefer tacos to burritos, with a 95% confidence interval of +/- 5%.\n",
        "\n",
        "52% (0.52) is the point estimate, and +/- 5% (the interval $[0.47, 0.57]$) is the confidence interval. \"95% confidence\" means a p-value $\\leq 1 - 0.95 = 0.05$.\n",
        "\n",
        "In this case, the confidence interval includes $0.5$ - which is the natural null hypothesis (that half of Americans prefer tacos and half burritos, thus there is no clear favorite). So in this case, we could use the confidence interval to report that we've failed to reject the null hypothesis.\n",
        "\n",
        "But providing the full analysis with a confidence interval, including a graphical representation of it, can be a helpful and powerful way to tell your story. Done well, it is also more intuitive to a layperson than simply saying \"fail to reject the null hypothesis\" - it shows that in fact the data does *not* give a single clear result (the point estimate) but a whole range of possibilities.\n",
        "\n",
        "How is a confidence interval built, and how should it be interpreted? It does *not* mean that 95% of the data lies in that interval - instead, the frequentist interpretation is \"if we were to repeat this experiment 100 times, we would expect the average result to lie in this interval ~95 times.\"\n",
        "\n",
        "For a 95% confidence interval and a normal(-ish) distribution, you can simply remember that +/-2 standard deviations contains 95% of the probability mass, and so the 95% confidence interval based on a given sample is centered at the mean (point estimate) and has a range of +/- 2 (or technically 1.96) standard deviations.\n",
        "\n",
        "Different distributions/assumptions (90% confidence, 99% confidence) will require different math, but the overall process and interpretation (with a frequentist approach) will be the same.\n",
        "\n",
        "Your assignment - using the data from the prior module ([congressional voting records](https://archive.ics.uci.edu/ml/datasets/Congressional+Voting+Records)):\n",
        "\n",
        "\n",
        "### Confidence Intervals:\n",
        "1. Generate and numerically represent a confidence interval\n",
        "2. Graphically (with a plot) represent the confidence interval\n",
        "3. Interpret the confidence interval - what does it tell you about the data and its distribution?\n",
        "\n",
        "### Chi-squared tests:\n",
        "4. Take a dataset that we have used in the past in class that has **categorical** variables. Pick two of those categorical variables and run a chi-squared tests on that data\n",
        "  - By hand using Numpy\n",
        "  - In a single line using Scipy\n"
      ]
    },
    {
      "cell_type": "code",
      "metadata": {
        "id": "Ckcr4A4FM7cs",
        "colab_type": "code",
        "colab": {}
      },
      "source": [
        "# Imports\n",
        "from statistics import *\n",
        "import pandas as pd\n",
        "import numpy as np\n",
        "from scipy.stats import t, ttest_ind"
      ],
      "execution_count": 0,
      "outputs": []
    },
    {
      "cell_type": "code",
      "metadata": {
        "id": "xvEjszgS0KYa",
        "colab_type": "code",
        "colab": {}
      },
      "source": [
        "# Specify the columns for the UCI dataset\n",
        "cols = [\n",
        "    'party',\n",
        "    'handicapped-infants',\n",
        "    'water-project',\n",
        "    'budget',\n",
        "    'physician-fee-freeze',\n",
        "    'el-salvador-aid',\n",
        "    'religious-groups',\n",
        "    'anti-satellite-ban',\n",
        "    'aid-to-contras',\n",
        "    'mx-missile',\n",
        "    'immigration',\n",
        "    'synfuels',\n",
        "    'education',\n",
        "    'right-to-sue',\n",
        "    'crime',\n",
        "    'duty-free',\n",
        "    'south-africa',\n",
        "    ]\n",
        "\n",
        "\n",
        "# Assign the url string to a variable\n",
        "url = 'https://archive.ics.uci.edu/ml/machine-learning-databases/voting-records/house-votes-84.data'\n",
        "\n",
        "# Fetch the csv data assuming no header row in the data\"\n",
        "#   1. assign the column names specified above\n",
        "#   2. replace '?' with NaN values\n",
        "df_house = pd.read_csv(url, header=None, names=cols, na_values='?')\n",
        "\n",
        "# Translate 'y' and 'n' votes to numeric '1' and'0'\n",
        "df_house = df_house.replace({'y': 1, 'n': 0})\n"
      ],
      "execution_count": 0,
      "outputs": []
    },
    {
      "cell_type": "code",
      "metadata": {
        "id": "76NTnWNU2gSt",
        "colab_type": "code",
        "colab": {}
      },
      "source": [
        "# sample_me returns a list of means of house vote samples for use downstream\n",
        "#    issue: the issue being voted on\n",
        "#    num: number of samples to be taken\n",
        "#    size: sample size (# of votes in sample)\n",
        "def sample_me(issue, num, size):\n",
        "  # Set up working variables\n",
        "  rt_list = [] # return a list of means\n",
        "\n",
        "  # Generate a series of the issue's votes\n",
        "  srs_tmp = df_house[issue]\n",
        "  # Drop nas from the series votes\n",
        "  srs_tmp = srs_tmp.dropna()\n",
        "\n",
        "  # Number of votes on this issue\n",
        "  tot_vts = len(srs_tmp)\n",
        "\n",
        "  # Iterate to create 'num' sample means\n",
        "  for i in range(1, num):\n",
        "    # Randomly select a sample of 'size'\n",
        "    smpl_iter = srs_tmp.sample(n=size)\n",
        "\n",
        "    # Generate the mean of the sample\n",
        "    tmp_mean = smpl_iter.mean()\n",
        "\n",
        "    # Add the mean to our return list\n",
        "    rt_list.append(tmp_mean)\n",
        "  \n",
        "  # Return the temp series and list of sample means\n",
        "  return {\"means\": rt_list, \"series\": srs_tmp}\n",
        "   "
      ],
      "execution_count": 0,
      "outputs": []
    },
    {
      "cell_type": "code",
      "metadata": {
        "id": "84aSlICW-I9I",
        "colab_type": "code",
        "colab": {}
      },
      "source": [
        "def gen_conf_intvls(issue):\n",
        "  # Generate 10 samples of 20 votes of issue 'issue'\n",
        "  rslts_sample = sample_me(issue, 10, 20)\n",
        "\n",
        "  tmp_means = rslts_sample[\"means\"]\n",
        "  # Determine the sample size\n",
        "  n = len(tmp_means)\n",
        "\n",
        "  # Determine the 'degrees of freedom'\n",
        "  dof = n - 1\n",
        "\n",
        "  # Calculate the mean of the sample means\n",
        "  sample_mean = mean(tmp_means)\n",
        "\n",
        "  # Calculate the standard deviation of the sample means\n",
        "  sample_std = np.std(tmp_means, ddof=1)\n",
        "\n",
        "  # Calclate the standard error of the sample means\n",
        "  sample_std_err = sample_std/(n**.5)\n",
        "\n",
        "  # Generate the confidence interval\n",
        "  conf_int = t.interval(.95, dof, loc=sample_mean, scale=sample_std_err)\n",
        "\n",
        "  # Return output\n",
        "  return {\"lower\": conf_int[0], \"mean\": sample_mean, \"upper\": conf_int[1], \"list_means\": tmp_means}\n"
      ],
      "execution_count": 0,
      "outputs": []
    },
    {
      "cell_type": "code",
      "metadata": {
        "id": "KbCwbIpYCygH",
        "colab_type": "code",
        "colab": {}
      },
      "source": [
        "# Iterate through our issues\n",
        "lst_datfrm = []     # list of issue confidence intervals\n",
        "\n",
        "for i in range(1, len(cols)):\n",
        "  # Generate the confidence interval \n",
        "  tmp_rslts = gen_conf_intvls(cols[i])\n",
        "\n",
        "  # Construct a dataframe row for use downstream\n",
        "\n",
        "  # Start with adding the issue, CI lower bound, mean, and CI upper bound\n",
        "  tmp_row = [cols[i], tmp_rslts[\"lower\"], tmp_rslts[\"mean\"], tmp_rslts[\"upper\"]]\n",
        "\n",
        "  # Then add the sample means\n",
        "  for i in range(0, len(tmp_rslts[\"list_means\"])):\n",
        "    tmp_row.append(tmp_rslts[\"list_means\"][i])\n",
        "\n",
        "  # Append to a working list of rows which will (ultimately) make up our dataframe\n",
        "  lst_datfrm.append(tmp_row)\n"
      ],
      "execution_count": 0,
      "outputs": []
    },
    {
      "cell_type": "code",
      "metadata": {
        "id": "g11T14MNbsoe",
        "colab_type": "code",
        "colab": {}
      },
      "source": [
        "# Create a dataframe of confidence interval results\n",
        "df_cols = ['Issue', 'LowerBound', 'Mean', 'UpperBound']\n",
        "for i in range(1, 20):\n",
        "  df_cols.append(i)\n",
        "\n",
        "df_issue_CIs = pd.DataFrame(lst_datfrm, columns=df_cols)\n",
        "df_issue_CIs"
      ],
      "execution_count": 0,
      "outputs": []
    },
    {
      "cell_type": "markdown",
      "metadata": {
        "id": "4ohsJhQUmEuS",
        "colab_type": "text"
      },
      "source": [
        "## Stretch goals:\n",
        "\n",
        "1. Write a summary of your findings, mixing prose and math/code/results. *Note* - yes, this is by definition a political topic. It is challenging but important to keep your writing voice *neutral* and stick to the facts of the data. Data science often involves considering controversial issues, so it's important to be sensitive about them (especially if you want to publish).\n",
        "2. Apply the techniques you learned today to your project data or other data of your choice, and write/discuss your findings here.\n",
        "3. Refactor your code so it is elegant, readable, and can be easily run for all issues."
      ]
    },
    {
      "cell_type": "markdown",
      "metadata": {
        "id": "nyJ3ySr7R2k9",
        "colab_type": "text"
      },
      "source": [
        "## Resources\n",
        "\n",
        "- [Interactive visualize the Chi-Squared test](https://homepage.divms.uiowa.edu/~mbognar/applets/chisq.html)\n",
        "- [Calculation of Chi-Squared test statistic](https://en.wikipedia.org/wiki/Pearson%27s_chi-squared_test)\n",
        "- [Visualization of a confidence interval generated by R code](https://commons.wikimedia.org/wiki/File:Confidence-interval.svg)\n",
        "- [Expected value of a squared standard normal](https://math.stackexchange.com/questions/264061/expected-value-calculation-for-squared-normal-distribution) (it's 1 - which is why the expected value of a Chi-Squared with $n$ degrees of freedom is $n$, as it's the sum of $n$ squared standard normals)"
      ]
    }
  ]
}
