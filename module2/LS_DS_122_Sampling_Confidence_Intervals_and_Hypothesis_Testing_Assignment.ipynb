{
  "nbformat": 4,
  "nbformat_minor": 0,
  "metadata": {
    "colab": {
      "name": "LS_DS_122_Sampling_Confidence_Intervals_and_Hypothesis_Testing_Assignment.ipynb",
      "provenance": [],
      "collapsed_sections": [],
      "include_colab_link": true
    },
    "kernelspec": {
      "name": "python3",
      "display_name": "Python 3"
    }
  },
  "cells": [
    {
      "cell_type": "markdown",
      "metadata": {
        "id": "view-in-github",
        "colab_type": "text"
      },
      "source": [
        "<a href=\"https://colab.research.google.com/github/Lilchoto3/DS-Unit-1-Sprint-2-Statistics/blob/master/module2/LS_DS_122_Sampling_Confidence_Intervals_and_Hypothesis_Testing_Assignment.ipynb\" target=\"_parent\"><img src=\"https://colab.research.google.com/assets/colab-badge.svg\" alt=\"Open In Colab\"/></a>"
      ]
    },
    {
      "cell_type": "markdown",
      "metadata": {
        "id": "11OzdxWTM7UR",
        "colab_type": "text"
      },
      "source": [
        "## Assignment - Build a confidence interval\n",
        "\n",
        "A confidence interval refers to a neighborhood around some point estimate, the size of which is determined by the desired p-value. For instance, we might say that 52% of Americans prefer tacos to burritos, with a 95% confidence interval of +/- 5%.\n",
        "\n",
        "52% (0.52) is the point estimate, and +/- 5% (the interval $[0.47, 0.57]$) is the confidence interval. \"95% confidence\" means a p-value $\\leq 1 - 0.95 = 0.05$.\n",
        "\n",
        "In this case, the confidence interval includes $0.5$ - which is the natural null hypothesis (that half of Americans prefer tacos and half burritos, thus there is no clear favorite). So in this case, we could use the confidence interval to report that we've failed to reject the null hypothesis.\n",
        "\n",
        "But providing the full analysis with a confidence interval, including a graphical representation of it, can be a helpful and powerful way to tell your story. Done well, it is also more intuitive to a layperson than simply saying \"fail to reject the null hypothesis\" - it shows that in fact the data does *not* give a single clear result (the point estimate) but a whole range of possibilities.\n",
        "\n",
        "How is a confidence interval built, and how should it be interpreted? It does *not* mean that 95% of the data lies in that interval - instead, the frequentist interpretation is \"if we were to repeat this experiment 100 times, we would expect the average result to lie in this interval ~95 times.\"\n",
        "\n",
        "For a 95% confidence interval and a normal(-ish) distribution, you can simply remember that +/-2 standard deviations contains 95% of the probability mass, and so the 95% confidence interval based on a given sample is centered at the mean (point estimate) and has a range of +/- 2 (or technically 1.96) standard deviations.\n",
        "\n",
        "Different distributions/assumptions (90% confidence, 99% confidence) will require different math, but the overall process and interpretation (with a frequentist approach) will be the same.\n",
        "\n",
        "Your assignment - using the data from the prior module ([congressional voting records](https://archive.ics.uci.edu/ml/datasets/Congressional+Voting+Records)):\n",
        "\n",
        "\n",
        "### Confidence Intervals:\n",
        "1. Generate and numerically represent a confidence interval\n",
        "2. Graphically (with a plot) represent the confidence interval\n",
        "3. Interpret the confidence interval - what does it tell you about the data and its distribution?\n",
        "\n",
        "### Chi-squared tests:\n",
        "4. Take a dataset that we have used in the past in class that has **categorical** variables. Pick two of those categorical variables and run a chi-squared tests on that data\n",
        "  - By hand using Numpy\n",
        "  - In a single line using Scipy\n"
      ]
    },
    {
      "cell_type": "code",
      "metadata": {
        "id": "Ckcr4A4FM7cs",
        "colab_type": "code",
        "outputId": "9e7f7fa5-3b3b-440f-9ea5-679c9af52f64",
        "colab": {
          "base_uri": "https://localhost:8080/",
          "height": 251
        }
      },
      "source": [
        "# Import everything and get it set up \n",
        "\n",
        "import pandas as pd\n",
        "from scipy import stats\n",
        "import matplotlib.pyplot as plt\n",
        "import numpy as np\n",
        "\n",
        "columns=['party','handicapped-infants','water-project',\n",
        "         'budget','physician-fee-freeze', 'el-salvador-aid',\n",
        "         'religious-groups','anti-satellite-ban',\n",
        "         'aid-to-contras','mx-missile','immigration',\n",
        "         'synfuels', 'education', 'right-to-sue','crime','duty-free',\n",
        "         'south-africa']\n",
        "\n",
        "# Import data and set column headers\n",
        "df = pd.read_csv('https://archive.ics.uci.edu/ml/machine-learning-databases/voting-records/house-votes-84.data', names=columns)\n",
        "\n",
        "df.head()"
      ],
      "execution_count": 0,
      "outputs": [
        {
          "output_type": "execute_result",
          "data": {
            "text/html": [
              "<div>\n",
              "<style scoped>\n",
              "    .dataframe tbody tr th:only-of-type {\n",
              "        vertical-align: middle;\n",
              "    }\n",
              "\n",
              "    .dataframe tbody tr th {\n",
              "        vertical-align: top;\n",
              "    }\n",
              "\n",
              "    .dataframe thead th {\n",
              "        text-align: right;\n",
              "    }\n",
              "</style>\n",
              "<table border=\"1\" class=\"dataframe\">\n",
              "  <thead>\n",
              "    <tr style=\"text-align: right;\">\n",
              "      <th></th>\n",
              "      <th>party</th>\n",
              "      <th>handicapped-infants</th>\n",
              "      <th>water-project</th>\n",
              "      <th>budget</th>\n",
              "      <th>physician-fee-freeze</th>\n",
              "      <th>el-salvador-aid</th>\n",
              "      <th>religious-groups</th>\n",
              "      <th>anti-satellite-ban</th>\n",
              "      <th>aid-to-contras</th>\n",
              "      <th>mx-missile</th>\n",
              "      <th>immigration</th>\n",
              "      <th>synfuels</th>\n",
              "      <th>education</th>\n",
              "      <th>right-to-sue</th>\n",
              "      <th>crime</th>\n",
              "      <th>duty-free</th>\n",
              "      <th>south-africa</th>\n",
              "    </tr>\n",
              "  </thead>\n",
              "  <tbody>\n",
              "    <tr>\n",
              "      <th>0</th>\n",
              "      <td>republican</td>\n",
              "      <td>n</td>\n",
              "      <td>y</td>\n",
              "      <td>n</td>\n",
              "      <td>y</td>\n",
              "      <td>y</td>\n",
              "      <td>y</td>\n",
              "      <td>n</td>\n",
              "      <td>n</td>\n",
              "      <td>n</td>\n",
              "      <td>y</td>\n",
              "      <td>?</td>\n",
              "      <td>y</td>\n",
              "      <td>y</td>\n",
              "      <td>y</td>\n",
              "      <td>n</td>\n",
              "      <td>y</td>\n",
              "    </tr>\n",
              "    <tr>\n",
              "      <th>1</th>\n",
              "      <td>republican</td>\n",
              "      <td>n</td>\n",
              "      <td>y</td>\n",
              "      <td>n</td>\n",
              "      <td>y</td>\n",
              "      <td>y</td>\n",
              "      <td>y</td>\n",
              "      <td>n</td>\n",
              "      <td>n</td>\n",
              "      <td>n</td>\n",
              "      <td>n</td>\n",
              "      <td>n</td>\n",
              "      <td>y</td>\n",
              "      <td>y</td>\n",
              "      <td>y</td>\n",
              "      <td>n</td>\n",
              "      <td>?</td>\n",
              "    </tr>\n",
              "    <tr>\n",
              "      <th>2</th>\n",
              "      <td>democrat</td>\n",
              "      <td>?</td>\n",
              "      <td>y</td>\n",
              "      <td>y</td>\n",
              "      <td>?</td>\n",
              "      <td>y</td>\n",
              "      <td>y</td>\n",
              "      <td>n</td>\n",
              "      <td>n</td>\n",
              "      <td>n</td>\n",
              "      <td>n</td>\n",
              "      <td>y</td>\n",
              "      <td>n</td>\n",
              "      <td>y</td>\n",
              "      <td>y</td>\n",
              "      <td>n</td>\n",
              "      <td>n</td>\n",
              "    </tr>\n",
              "    <tr>\n",
              "      <th>3</th>\n",
              "      <td>democrat</td>\n",
              "      <td>n</td>\n",
              "      <td>y</td>\n",
              "      <td>y</td>\n",
              "      <td>n</td>\n",
              "      <td>?</td>\n",
              "      <td>y</td>\n",
              "      <td>n</td>\n",
              "      <td>n</td>\n",
              "      <td>n</td>\n",
              "      <td>n</td>\n",
              "      <td>y</td>\n",
              "      <td>n</td>\n",
              "      <td>y</td>\n",
              "      <td>n</td>\n",
              "      <td>n</td>\n",
              "      <td>y</td>\n",
              "    </tr>\n",
              "    <tr>\n",
              "      <th>4</th>\n",
              "      <td>democrat</td>\n",
              "      <td>y</td>\n",
              "      <td>y</td>\n",
              "      <td>y</td>\n",
              "      <td>n</td>\n",
              "      <td>y</td>\n",
              "      <td>y</td>\n",
              "      <td>n</td>\n",
              "      <td>n</td>\n",
              "      <td>n</td>\n",
              "      <td>n</td>\n",
              "      <td>y</td>\n",
              "      <td>?</td>\n",
              "      <td>y</td>\n",
              "      <td>y</td>\n",
              "      <td>y</td>\n",
              "      <td>y</td>\n",
              "    </tr>\n",
              "  </tbody>\n",
              "</table>\n",
              "</div>"
            ],
            "text/plain": [
              "        party handicapped-infants water-project  ... crime duty-free south-africa\n",
              "0  republican                   n             y  ...     y         n            y\n",
              "1  republican                   n             y  ...     y         n            ?\n",
              "2    democrat                   ?             y  ...     y         n            n\n",
              "3    democrat                   n             y  ...     n         n            y\n",
              "4    democrat                   y             y  ...     y         y            y\n",
              "\n",
              "[5 rows x 17 columns]"
            ]
          },
          "metadata": {
            "tags": []
          },
          "execution_count": 5
        }
      ]
    },
    {
      "cell_type": "code",
      "metadata": {
        "id": "kdMAoSRLQaPp",
        "colab_type": "code",
        "outputId": "d29fc8f1-9f8c-4836-ec81-9f36cf53fd35",
        "colab": {
          "base_uri": "https://localhost:8080/",
          "height": 251
        }
      },
      "source": [
        "# Clean up data to be used for statistical purposes\n",
        "df = df.replace({'y':1,'n':0,'?':np.NaN})\n",
        "\n",
        "df.head()"
      ],
      "execution_count": 0,
      "outputs": [
        {
          "output_type": "execute_result",
          "data": {
            "text/html": [
              "<div>\n",
              "<style scoped>\n",
              "    .dataframe tbody tr th:only-of-type {\n",
              "        vertical-align: middle;\n",
              "    }\n",
              "\n",
              "    .dataframe tbody tr th {\n",
              "        vertical-align: top;\n",
              "    }\n",
              "\n",
              "    .dataframe thead th {\n",
              "        text-align: right;\n",
              "    }\n",
              "</style>\n",
              "<table border=\"1\" class=\"dataframe\">\n",
              "  <thead>\n",
              "    <tr style=\"text-align: right;\">\n",
              "      <th></th>\n",
              "      <th>party</th>\n",
              "      <th>handicapped-infants</th>\n",
              "      <th>water-project</th>\n",
              "      <th>budget</th>\n",
              "      <th>physician-fee-freeze</th>\n",
              "      <th>el-salvador-aid</th>\n",
              "      <th>religious-groups</th>\n",
              "      <th>anti-satellite-ban</th>\n",
              "      <th>aid-to-contras</th>\n",
              "      <th>mx-missile</th>\n",
              "      <th>immigration</th>\n",
              "      <th>synfuels</th>\n",
              "      <th>education</th>\n",
              "      <th>right-to-sue</th>\n",
              "      <th>crime</th>\n",
              "      <th>duty-free</th>\n",
              "      <th>south-africa</th>\n",
              "    </tr>\n",
              "  </thead>\n",
              "  <tbody>\n",
              "    <tr>\n",
              "      <th>0</th>\n",
              "      <td>republican</td>\n",
              "      <td>0.0</td>\n",
              "      <td>1.0</td>\n",
              "      <td>0.0</td>\n",
              "      <td>1.0</td>\n",
              "      <td>1.0</td>\n",
              "      <td>1.0</td>\n",
              "      <td>0.0</td>\n",
              "      <td>0.0</td>\n",
              "      <td>0.0</td>\n",
              "      <td>1.0</td>\n",
              "      <td>NaN</td>\n",
              "      <td>1.0</td>\n",
              "      <td>1.0</td>\n",
              "      <td>1.0</td>\n",
              "      <td>0.0</td>\n",
              "      <td>1.0</td>\n",
              "    </tr>\n",
              "    <tr>\n",
              "      <th>1</th>\n",
              "      <td>republican</td>\n",
              "      <td>0.0</td>\n",
              "      <td>1.0</td>\n",
              "      <td>0.0</td>\n",
              "      <td>1.0</td>\n",
              "      <td>1.0</td>\n",
              "      <td>1.0</td>\n",
              "      <td>0.0</td>\n",
              "      <td>0.0</td>\n",
              "      <td>0.0</td>\n",
              "      <td>0.0</td>\n",
              "      <td>0.0</td>\n",
              "      <td>1.0</td>\n",
              "      <td>1.0</td>\n",
              "      <td>1.0</td>\n",
              "      <td>0.0</td>\n",
              "      <td>NaN</td>\n",
              "    </tr>\n",
              "    <tr>\n",
              "      <th>2</th>\n",
              "      <td>democrat</td>\n",
              "      <td>NaN</td>\n",
              "      <td>1.0</td>\n",
              "      <td>1.0</td>\n",
              "      <td>NaN</td>\n",
              "      <td>1.0</td>\n",
              "      <td>1.0</td>\n",
              "      <td>0.0</td>\n",
              "      <td>0.0</td>\n",
              "      <td>0.0</td>\n",
              "      <td>0.0</td>\n",
              "      <td>1.0</td>\n",
              "      <td>0.0</td>\n",
              "      <td>1.0</td>\n",
              "      <td>1.0</td>\n",
              "      <td>0.0</td>\n",
              "      <td>0.0</td>\n",
              "    </tr>\n",
              "    <tr>\n",
              "      <th>3</th>\n",
              "      <td>democrat</td>\n",
              "      <td>0.0</td>\n",
              "      <td>1.0</td>\n",
              "      <td>1.0</td>\n",
              "      <td>0.0</td>\n",
              "      <td>NaN</td>\n",
              "      <td>1.0</td>\n",
              "      <td>0.0</td>\n",
              "      <td>0.0</td>\n",
              "      <td>0.0</td>\n",
              "      <td>0.0</td>\n",
              "      <td>1.0</td>\n",
              "      <td>0.0</td>\n",
              "      <td>1.0</td>\n",
              "      <td>0.0</td>\n",
              "      <td>0.0</td>\n",
              "      <td>1.0</td>\n",
              "    </tr>\n",
              "    <tr>\n",
              "      <th>4</th>\n",
              "      <td>democrat</td>\n",
              "      <td>1.0</td>\n",
              "      <td>1.0</td>\n",
              "      <td>1.0</td>\n",
              "      <td>0.0</td>\n",
              "      <td>1.0</td>\n",
              "      <td>1.0</td>\n",
              "      <td>0.0</td>\n",
              "      <td>0.0</td>\n",
              "      <td>0.0</td>\n",
              "      <td>0.0</td>\n",
              "      <td>1.0</td>\n",
              "      <td>NaN</td>\n",
              "      <td>1.0</td>\n",
              "      <td>1.0</td>\n",
              "      <td>1.0</td>\n",
              "      <td>1.0</td>\n",
              "    </tr>\n",
              "  </tbody>\n",
              "</table>\n",
              "</div>"
            ],
            "text/plain": [
              "        party  handicapped-infants  ...  duty-free  south-africa\n",
              "0  republican                  0.0  ...        0.0           1.0\n",
              "1  republican                  0.0  ...        0.0           NaN\n",
              "2    democrat                  NaN  ...        0.0           0.0\n",
              "3    democrat                  0.0  ...        0.0           1.0\n",
              "4    democrat                  1.0  ...        1.0           1.0\n",
              "\n",
              "[5 rows x 17 columns]"
            ]
          },
          "metadata": {
            "tags": []
          },
          "execution_count": 6
        }
      ]
    },
    {
      "cell_type": "code",
      "metadata": {
        "id": "HOHsqQCxIqmL",
        "colab_type": "code",
        "colab": {}
      },
      "source": [
        "# Confidence interval function\n",
        "def conf_interval(sample, confidence=0.95):\n",
        "  \"\"\"\n",
        "  Arguments:\n",
        "    sample - list or numpy array of sample observations\n",
        "    confidence - level of confidence (default 0.95)\n",
        "\n",
        "  Returns:\n",
        "    tuple of (mean, margin of error)\n",
        "  \"\"\"\n",
        "  # Make the sample into a numpy array\n",
        "  sample = np.array(sample)\n",
        "\n",
        "  # Remove any NaN values from the array\n",
        "  # Since we're dealing with votes, NaNs are abstain votes, aka, non-votes, which aren't needed\n",
        "  sample = sample[~np.isnan(sample)]\n",
        "\n",
        "  # Find mean of sample\n",
        "  mean = np.mean(sample)\n",
        "\n",
        "  # Get sample size\n",
        "  n = len(sample)\n",
        "\n",
        "  # Get standard deviation for sample data\n",
        "  stddev = np.std(sample, ddof=1)/np.sqrt(n)\n",
        "\n",
        "  # Get the T-stat that contains the confidence level of possible sample means\n",
        "  t = stats.t.ppf((1+confidence)/2.0,n - 1)\n",
        "\n",
        "  # Calculate margin of error\n",
        "  moe = t * stddev\n",
        "\n",
        "  low_bound = mean - moe\n",
        "  high_bound = mean + moe\n",
        "\n",
        "  return low_bound, mean, high_bound"
      ],
      "execution_count": 0,
      "outputs": []
    },
    {
      "cell_type": "code",
      "metadata": {
        "id": "H8DFbFD_P8Xe",
        "colab_type": "code",
        "outputId": "be1c3d16-d818-4a36-f8f3-c6a51f296172",
        "colab": {
          "base_uri": "https://localhost:8080/",
          "height": 34
        }
      },
      "source": [
        "# Calculate a confidence interval for a column\n",
        "\n",
        "# I'm going to do the education bill as an example\n",
        "\n",
        "# How big is my list of voters?\n",
        "df['education'].shape"
      ],
      "execution_count": 0,
      "outputs": [
        {
          "output_type": "execute_result",
          "data": {
            "text/plain": [
              "(435,)"
            ]
          },
          "metadata": {
            "tags": []
          },
          "execution_count": 17
        }
      ]
    },
    {
      "cell_type": "code",
      "metadata": {
        "id": "jEtX3aEzY4Pq",
        "colab_type": "code",
        "outputId": "fb1e2629-94d1-4fc4-e646-7e76c896ddef",
        "colab": {
          "base_uri": "https://localhost:8080/",
          "height": 70
        }
      },
      "source": [
        "# Okay, lets grab a sample of it and then get the confidence interval\n",
        "\n",
        "sample1 = df['education'].sample(50)\n",
        "\n",
        "low, mean, high = conf_interval(sample1, confidence=0.95)\n",
        "print(\"lower bound:\",low)\n",
        "print(\"mean:\",mean)\n",
        "print(\"higher bound:\", high)"
      ],
      "execution_count": 0,
      "outputs": [
        {
          "output_type": "stream",
          "text": [
            "lower bound: 0.20482534544770928\n",
            "mean: 0.34782608695652173\n",
            "higher bound: 0.4908268284653342\n"
          ],
          "name": "stdout"
        }
      ]
    },
    {
      "cell_type": "code",
      "metadata": {
        "id": "CFaB_ZU_UBOQ",
        "colab_type": "code",
        "outputId": "e138758c-3c6a-4ff0-bce7-2aba86f5d8f0",
        "colab": {
          "base_uri": "https://localhost:8080/",
          "height": 281
        }
      },
      "source": [
        "sample1.plot.density()\n",
        "plt.title('Education Bill Voting Distribution')\n",
        "plt.axvline(low, color='red')\n",
        "plt.axvline(mean,color='black')\n",
        "plt.axvline(high,color='red')\n",
        "plt.show()"
      ],
      "execution_count": 0,
      "outputs": [
        {
          "output_type": "display_data",
          "data": {
            "image/png": "[encoded data removed]",
            "text/plain": [
              "<Figure size 432x288 with 1 Axes>"
            ]
          },
          "metadata": {
            "tags": []
          }
        }
      ]
    },
    {
      "cell_type": "markdown",
      "metadata": {
        "id": "vCAi5nPsVker",
        "colab_type": "text"
      },
      "source": [
        "**Explanation:**\n",
        "\n",
        "According to the data, there is a 95% confidence that a sample mean will fall within the range of .204 to .491.\n",
        "\n",
        "\n",
        "This means that it is 95% likely that, if a new sample were to be gathered, that anywhere from 20.4% to 49.1% of congressmen would vote in favor of the 'education' bill."
      ]
    },
    {
      "cell_type": "code",
      "metadata": {
        "id": "NijpPrFeShQR",
        "colab_type": "code",
        "outputId": "56dd7cb2-1076-4339-9455-a5118553edc4",
        "colab": {
          "base_uri": "https://localhost:8080/",
          "height": 70
        }
      },
      "source": [
        "# I want to test this with a few more sets of data\n",
        "\n",
        "# Next, I'll find a 99% confident interval for democrats who voted on the 'crime' bill\n",
        "\n",
        "sample2 = df[df['party']=='democrat']\n",
        "\n",
        "sample2 = sample2['crime']\n",
        "\n",
        "low, mean, high = conf_interval(sample2, confidence=0.99)\n",
        "print(\"lower bound:\",low)\n",
        "print(\"mean:\",mean)\n",
        "print(\"higher bound:\", high)"
      ],
      "execution_count": 0,
      "outputs": [
        {
          "output_type": "stream",
          "text": [
            "lower bound: 0.2728210577210167\n",
            "mean: 0.35019455252918286\n",
            "higher bound: 0.427568047337349\n"
          ],
          "name": "stdout"
        }
      ]
    },
    {
      "cell_type": "code",
      "metadata": {
        "id": "oqNfmj2Mbmec",
        "colab_type": "code",
        "outputId": "fff1b5d4-a3f6-4c64-b145-e095001257f2",
        "colab": {
          "base_uri": "https://localhost:8080/",
          "height": 281
        }
      },
      "source": [
        "sample2.plot.density()\n",
        "plt.title('Democrat Crime Bill Voting Distribution')\n",
        "plt.axvline(low, color='red')\n",
        "plt.axvline(mean,color='black')\n",
        "plt.axvline(high,color='red')\n",
        "plt.show()"
      ],
      "execution_count": 0,
      "outputs": [
        {
          "output_type": "display_data",
          "data": {
            "image/png": "[encoded data removed]",
            "text/plain": [
              "<Figure size 432x288 with 1 Axes>"
            ]
          },
          "metadata": {
            "tags": []
          }
        }
      ]
    },
    {
      "cell_type": "markdown",
      "metadata": {
        "id": "T8hOFdXicviD",
        "colab_type": "text"
      },
      "source": [
        "**Explanation:**\n",
        "\n",
        "According to this data, there is a 99% chance that a sample mean of a different sample set of this data would fall within the range of .273 to .428.\n",
        "\n",
        "This means that, if given another sample set, the mean for Democrats voting on the 'crime' bill would be anywhere from 27.3% to 42.8% in favor of the 'crime' bill."
      ]
    },
    {
      "cell_type": "code",
      "metadata": {
        "id": "27hMFw9seLqE",
        "colab_type": "code",
        "colab": {
          "base_uri": "https://localhost:8080/",
          "height": 197
        },
        "outputId": "be61c3de-2a23-40a3-8f83-de4b79bbd4ec"
      },
      "source": [
        "# Chi-Squared test\n",
        "\n",
        "# In order to get chi-squared values from a data set, I'm going to be using the poker UCI dataset I used in sprint 1\n",
        "\n",
        "# The data doesn't come with column names, so I built some myself\n",
        "column_names = [\"suit1\", \"rank1\", \"suit2\", \"rank2\", \"suit3\", \"rank3\", \"suit4\", \"rank4\", \"suit5\", \"rank5\", \"class\"]\n",
        "\n",
        "df2 = pd.read_csv(\"https://archive.ics.uci.edu/ml/machine-learning-databases/poker/poker-hand-training-true.data\", names=column_names)\n",
        "\n",
        "# I'm also going to change the way it's displayed, turn numbers into the strings they're supposed to represent.\n",
        "suit_map = {1:'heart',2:'spade',3:'diamond',4:'club'}\n",
        "rank_map = {1:'ace',2:'two',3:'three',4:'four',5:'five',6:'six',7:'seven',8:'eight',9:'nine',10:'ten',11:'jack',12:'queen',13:'king'}\n",
        "class_map = {0:'nothing',1:'one pair',2:'two pairs',3:'three of a kind',4:'straight',5:'flush',6:'full house',7:'four of a kind',8:'straight flush',9:'royal flush'}\n",
        "\n",
        "df2[['suit1','suit2','suit3','suit4','suit5']] = df2[['suit1','suit2','suit3','suit4','suit5']].replace(suit_map)\n",
        "df2[['rank1','rank2','rank3','rank4','rank5']] = df2[['rank1','rank2','rank3','rank4','rank5']].replace(rank_map)\n",
        "df2['class'] = df2['class'].replace(class_map)\n",
        "\n",
        "df2.head()"
      ],
      "execution_count": 34,
      "outputs": [
        {
          "output_type": "execute_result",
          "data": {
            "text/html": [
              "<div>\n",
              "<style scoped>\n",
              "    .dataframe tbody tr th:only-of-type {\n",
              "        vertical-align: middle;\n",
              "    }\n",
              "\n",
              "    .dataframe tbody tr th {\n",
              "        vertical-align: top;\n",
              "    }\n",
              "\n",
              "    .dataframe thead th {\n",
              "        text-align: right;\n",
              "    }\n",
              "</style>\n",
              "<table border=\"1\" class=\"dataframe\">\n",
              "  <thead>\n",
              "    <tr style=\"text-align: right;\">\n",
              "      <th></th>\n",
              "      <th>suit1</th>\n",
              "      <th>rank1</th>\n",
              "      <th>suit2</th>\n",
              "      <th>rank2</th>\n",
              "      <th>suit3</th>\n",
              "      <th>rank3</th>\n",
              "      <th>suit4</th>\n",
              "      <th>rank4</th>\n",
              "      <th>suit5</th>\n",
              "      <th>rank5</th>\n",
              "      <th>class</th>\n",
              "    </tr>\n",
              "  </thead>\n",
              "  <tbody>\n",
              "    <tr>\n",
              "      <th>0</th>\n",
              "      <td>heart</td>\n",
              "      <td>ten</td>\n",
              "      <td>heart</td>\n",
              "      <td>jack</td>\n",
              "      <td>heart</td>\n",
              "      <td>king</td>\n",
              "      <td>heart</td>\n",
              "      <td>queen</td>\n",
              "      <td>heart</td>\n",
              "      <td>ace</td>\n",
              "      <td>royal flush</td>\n",
              "    </tr>\n",
              "    <tr>\n",
              "      <th>1</th>\n",
              "      <td>spade</td>\n",
              "      <td>jack</td>\n",
              "      <td>spade</td>\n",
              "      <td>king</td>\n",
              "      <td>spade</td>\n",
              "      <td>ten</td>\n",
              "      <td>spade</td>\n",
              "      <td>queen</td>\n",
              "      <td>spade</td>\n",
              "      <td>ace</td>\n",
              "      <td>royal flush</td>\n",
              "    </tr>\n",
              "    <tr>\n",
              "      <th>2</th>\n",
              "      <td>diamond</td>\n",
              "      <td>queen</td>\n",
              "      <td>diamond</td>\n",
              "      <td>jack</td>\n",
              "      <td>diamond</td>\n",
              "      <td>king</td>\n",
              "      <td>diamond</td>\n",
              "      <td>ten</td>\n",
              "      <td>diamond</td>\n",
              "      <td>ace</td>\n",
              "      <td>royal flush</td>\n",
              "    </tr>\n",
              "    <tr>\n",
              "      <th>3</th>\n",
              "      <td>club</td>\n",
              "      <td>ten</td>\n",
              "      <td>club</td>\n",
              "      <td>jack</td>\n",
              "      <td>club</td>\n",
              "      <td>ace</td>\n",
              "      <td>club</td>\n",
              "      <td>king</td>\n",
              "      <td>club</td>\n",
              "      <td>queen</td>\n",
              "      <td>royal flush</td>\n",
              "    </tr>\n",
              "    <tr>\n",
              "      <th>4</th>\n",
              "      <td>club</td>\n",
              "      <td>ace</td>\n",
              "      <td>club</td>\n",
              "      <td>king</td>\n",
              "      <td>club</td>\n",
              "      <td>queen</td>\n",
              "      <td>club</td>\n",
              "      <td>jack</td>\n",
              "      <td>club</td>\n",
              "      <td>ten</td>\n",
              "      <td>royal flush</td>\n",
              "    </tr>\n",
              "  </tbody>\n",
              "</table>\n",
              "</div>"
            ],
            "text/plain": [
              "     suit1  rank1    suit2 rank2  ...  rank4    suit5  rank5        class\n",
              "0    heart    ten    heart  jack  ...  queen    heart    ace  royal flush\n",
              "1    spade   jack    spade  king  ...  queen    spade    ace  royal flush\n",
              "2  diamond  queen  diamond  jack  ...    ten  diamond    ace  royal flush\n",
              "3     club    ten     club  jack  ...   king     club  queen  royal flush\n",
              "4     club    ace     club  king  ...   jack     club    ten  royal flush\n",
              "\n",
              "[5 rows x 11 columns]"
            ]
          },
          "metadata": {
            "tags": []
          },
          "execution_count": 34
        }
      ]
    },
    {
      "cell_type": "code",
      "metadata": {
        "id": "i4DnXmKGjm-Z",
        "colab_type": "code",
        "colab": {
          "base_uri": "https://localhost:8080/",
          "height": 197
        },
        "outputId": "45db357f-0854-42ed-8eb0-cd071ba00ef4"
      },
      "source": [
        "# Create the contingency table\n",
        "cont_table = pd.DataFrame(pd.crosstab(df2['suit1'], df2['rank1'], margins=True).values)\n",
        "cont_table.columns = ['ace','two','three','four','five','six','seven','eight','nine','ten','jack','queen','king','total']\n",
        "cont_table.index = ['heart','spade','diamond','club','total']\n",
        "\n",
        "cont_table"
      ],
      "execution_count": 37,
      "outputs": [
        {
          "output_type": "execute_result",
          "data": {
            "text/html": [
              "<div>\n",
              "<style scoped>\n",
              "    .dataframe tbody tr th:only-of-type {\n",
              "        vertical-align: middle;\n",
              "    }\n",
              "\n",
              "    .dataframe tbody tr th {\n",
              "        vertical-align: top;\n",
              "    }\n",
              "\n",
              "    .dataframe thead th {\n",
              "        text-align: right;\n",
              "    }\n",
              "</style>\n",
              "<table border=\"1\" class=\"dataframe\">\n",
              "  <thead>\n",
              "    <tr style=\"text-align: right;\">\n",
              "      <th></th>\n",
              "      <th>ace</th>\n",
              "      <th>two</th>\n",
              "      <th>three</th>\n",
              "      <th>four</th>\n",
              "      <th>five</th>\n",
              "      <th>six</th>\n",
              "      <th>seven</th>\n",
              "      <th>eight</th>\n",
              "      <th>nine</th>\n",
              "      <th>ten</th>\n",
              "      <th>jack</th>\n",
              "      <th>queen</th>\n",
              "      <th>king</th>\n",
              "      <th>total</th>\n",
              "    </tr>\n",
              "  </thead>\n",
              "  <tbody>\n",
              "    <tr>\n",
              "      <th>heart</th>\n",
              "      <td>529</td>\n",
              "      <td>472</td>\n",
              "      <td>449</td>\n",
              "      <td>496</td>\n",
              "      <td>449</td>\n",
              "      <td>470</td>\n",
              "      <td>511</td>\n",
              "      <td>510</td>\n",
              "      <td>506</td>\n",
              "      <td>486</td>\n",
              "      <td>466</td>\n",
              "      <td>481</td>\n",
              "      <td>487</td>\n",
              "      <td>6312</td>\n",
              "    </tr>\n",
              "    <tr>\n",
              "      <th>spade</th>\n",
              "      <td>493</td>\n",
              "      <td>464</td>\n",
              "      <td>482</td>\n",
              "      <td>514</td>\n",
              "      <td>478</td>\n",
              "      <td>490</td>\n",
              "      <td>473</td>\n",
              "      <td>475</td>\n",
              "      <td>470</td>\n",
              "      <td>457</td>\n",
              "      <td>484</td>\n",
              "      <td>467</td>\n",
              "      <td>503</td>\n",
              "      <td>6250</td>\n",
              "    </tr>\n",
              "    <tr>\n",
              "      <th>diamond</th>\n",
              "      <td>455</td>\n",
              "      <td>524</td>\n",
              "      <td>466</td>\n",
              "      <td>460</td>\n",
              "      <td>488</td>\n",
              "      <td>473</td>\n",
              "      <td>462</td>\n",
              "      <td>464</td>\n",
              "      <td>476</td>\n",
              "      <td>455</td>\n",
              "      <td>479</td>\n",
              "      <td>474</td>\n",
              "      <td>474</td>\n",
              "      <td>6150</td>\n",
              "    </tr>\n",
              "    <tr>\n",
              "      <th>club</th>\n",
              "      <td>505</td>\n",
              "      <td>488</td>\n",
              "      <td>495</td>\n",
              "      <td>449</td>\n",
              "      <td>511</td>\n",
              "      <td>482</td>\n",
              "      <td>521</td>\n",
              "      <td>491</td>\n",
              "      <td>509</td>\n",
              "      <td>462</td>\n",
              "      <td>448</td>\n",
              "      <td>460</td>\n",
              "      <td>477</td>\n",
              "      <td>6298</td>\n",
              "    </tr>\n",
              "    <tr>\n",
              "      <th>total</th>\n",
              "      <td>1982</td>\n",
              "      <td>1948</td>\n",
              "      <td>1892</td>\n",
              "      <td>1919</td>\n",
              "      <td>1926</td>\n",
              "      <td>1915</td>\n",
              "      <td>1967</td>\n",
              "      <td>1940</td>\n",
              "      <td>1961</td>\n",
              "      <td>1860</td>\n",
              "      <td>1877</td>\n",
              "      <td>1882</td>\n",
              "      <td>1941</td>\n",
              "      <td>25010</td>\n",
              "    </tr>\n",
              "  </tbody>\n",
              "</table>\n",
              "</div>"
            ],
            "text/plain": [
              "          ace   two  three  four  five  ...   ten  jack  queen  king  total\n",
              "heart     529   472    449   496   449  ...   486   466    481   487   6312\n",
              "spade     493   464    482   514   478  ...   457   484    467   503   6250\n",
              "diamond   455   524    466   460   488  ...   455   479    474   474   6150\n",
              "club      505   488    495   449   511  ...   462   448    460   477   6298\n",
              "total    1982  1948   1892  1919  1926  ...  1860  1877   1882  1941  25010\n",
              "\n",
              "[5 rows x 14 columns]"
            ]
          },
          "metadata": {
            "tags": []
          },
          "execution_count": 37
        }
      ]
    },
    {
      "cell_type": "code",
      "metadata": {
        "id": "SJxSyXIam7ry",
        "colab_type": "code",
        "colab": {
          "base_uri": "https://localhost:8080/",
          "height": 354
        },
        "outputId": "1281005f-095a-4dac-b983-1387791db4c0"
      },
      "source": [
        "# Grab the sums for each row\n",
        "suit_sums = cont_table.iloc[0:4,13]\n",
        "rank_sums = cont_table.iloc[4,0:13]\n",
        "\n",
        "print(suit_sums)\n",
        "print(rank_sums)"
      ],
      "execution_count": 38,
      "outputs": [
        {
          "output_type": "stream",
          "text": [
            "heart      6312\n",
            "spade      6250\n",
            "diamond    6150\n",
            "club       6298\n",
            "Name: total, dtype: int64\n",
            "ace      1982\n",
            "two      1948\n",
            "three    1892\n",
            "four     1919\n",
            "five     1926\n",
            "six      1915\n",
            "seven    1967\n",
            "eight    1940\n",
            "nine     1961\n",
            "ten      1860\n",
            "jack     1877\n",
            "queen    1882\n",
            "king     1941\n",
            "Name: total, dtype: int64\n"
          ],
          "name": "stdout"
        }
      ]
    },
    {
      "cell_type": "code",
      "metadata": {
        "id": "_43Vv8EAncEc",
        "colab_type": "code",
        "colab": {
          "base_uri": "https://localhost:8080/",
          "height": 34
        },
        "outputId": "9b6aa572-5e9c-4d4b-963b-fb74719695ae"
      },
      "source": [
        "# Get the number of entries\n",
        "entries_total = df2.shape[0]\n",
        "entries_total"
      ],
      "execution_count": 39,
      "outputs": [
        {
          "output_type": "execute_result",
          "data": {
            "text/plain": [
              "25010"
            ]
          },
          "metadata": {
            "tags": []
          },
          "execution_count": 39
        }
      ]
    },
    {
      "cell_type": "code",
      "metadata": {
        "id": "B1ImV9y3n1oB",
        "colab_type": "code",
        "colab": {
          "base_uri": "https://localhost:8080/",
          "height": 205
        },
        "outputId": "ec4c427f-1f72-4a91-9f7c-b70191818d0f"
      },
      "source": [
        "# Here is where I will calculate the chi-squared data by hand.\n",
        "\n",
        "# Get chi-squared expected data\n",
        "expected = []\n",
        "for i in range(len(suit_sums)):\n",
        "  expected_row = []\n",
        "  for col in rank_sums:\n",
        "    expected_val = col * suit_sums[i]/entries_total\n",
        "    expected_row.append(expected_val)\n",
        "  expected.append(expected_row)\n",
        "\n",
        "expected = pd.DataFrame(expected)\n",
        "print(expected.shape)\n",
        "expected"
      ],
      "execution_count": 40,
      "outputs": [
        {
          "output_type": "stream",
          "text": [
            "(4, 13)\n"
          ],
          "name": "stdout"
        },
        {
          "output_type": "execute_result",
          "data": {
            "text/html": [
              "<div>\n",
              "<style scoped>\n",
              "    .dataframe tbody tr th:only-of-type {\n",
              "        vertical-align: middle;\n",
              "    }\n",
              "\n",
              "    .dataframe tbody tr th {\n",
              "        vertical-align: top;\n",
              "    }\n",
              "\n",
              "    .dataframe thead th {\n",
              "        text-align: right;\n",
              "    }\n",
              "</style>\n",
              "<table border=\"1\" class=\"dataframe\">\n",
              "  <thead>\n",
              "    <tr style=\"text-align: right;\">\n",
              "      <th></th>\n",
              "      <th>0</th>\n",
              "      <th>1</th>\n",
              "      <th>2</th>\n",
              "      <th>3</th>\n",
              "      <th>4</th>\n",
              "      <th>5</th>\n",
              "      <th>6</th>\n",
              "      <th>7</th>\n",
              "      <th>8</th>\n",
              "      <th>9</th>\n",
              "      <th>10</th>\n",
              "      <th>11</th>\n",
              "      <th>12</th>\n",
              "    </tr>\n",
              "  </thead>\n",
              "  <tbody>\n",
              "    <tr>\n",
              "      <th>0</th>\n",
              "      <td>500.215274</td>\n",
              "      <td>491.634386</td>\n",
              "      <td>477.501160</td>\n",
              "      <td>484.315394</td>\n",
              "      <td>486.082047</td>\n",
              "      <td>483.305878</td>\n",
              "      <td>496.429588</td>\n",
              "      <td>489.615354</td>\n",
              "      <td>494.915314</td>\n",
              "      <td>469.425030</td>\n",
              "      <td>473.715474</td>\n",
              "      <td>474.977369</td>\n",
              "      <td>489.867733</td>\n",
              "    </tr>\n",
              "    <tr>\n",
              "      <th>1</th>\n",
              "      <td>495.301879</td>\n",
              "      <td>486.805278</td>\n",
              "      <td>472.810876</td>\n",
              "      <td>479.558177</td>\n",
              "      <td>481.307477</td>\n",
              "      <td>478.558577</td>\n",
              "      <td>491.553379</td>\n",
              "      <td>484.806078</td>\n",
              "      <td>490.053978</td>\n",
              "      <td>464.814074</td>\n",
              "      <td>469.062375</td>\n",
              "      <td>470.311875</td>\n",
              "      <td>485.055978</td>\n",
              "    </tr>\n",
              "    <tr>\n",
              "      <th>2</th>\n",
              "      <td>487.377049</td>\n",
              "      <td>479.016393</td>\n",
              "      <td>465.245902</td>\n",
              "      <td>471.885246</td>\n",
              "      <td>473.606557</td>\n",
              "      <td>470.901639</td>\n",
              "      <td>483.688525</td>\n",
              "      <td>477.049180</td>\n",
              "      <td>482.213115</td>\n",
              "      <td>457.377049</td>\n",
              "      <td>461.557377</td>\n",
              "      <td>462.786885</td>\n",
              "      <td>477.295082</td>\n",
              "    </tr>\n",
              "    <tr>\n",
              "      <th>3</th>\n",
              "      <td>499.105798</td>\n",
              "      <td>490.543942</td>\n",
              "      <td>476.442063</td>\n",
              "      <td>483.241184</td>\n",
              "      <td>485.003918</td>\n",
              "      <td>482.233906</td>\n",
              "      <td>495.328509</td>\n",
              "      <td>488.529388</td>\n",
              "      <td>493.817593</td>\n",
              "      <td>468.383846</td>\n",
              "      <td>472.664774</td>\n",
              "      <td>473.923870</td>\n",
              "      <td>488.781208</td>\n",
              "    </tr>\n",
              "  </tbody>\n",
              "</table>\n",
              "</div>"
            ],
            "text/plain": [
              "           0           1           2   ...          10          11          12\n",
              "0  500.215274  491.634386  477.501160  ...  473.715474  474.977369  489.867733\n",
              "1  495.301879  486.805278  472.810876  ...  469.062375  470.311875  485.055978\n",
              "2  487.377049  479.016393  465.245902  ...  461.557377  462.786885  477.295082\n",
              "3  499.105798  490.543942  476.442063  ...  472.664774  473.923870  488.781208\n",
              "\n",
              "[4 rows x 13 columns]"
            ]
          },
          "metadata": {
            "tags": []
          },
          "execution_count": 40
        }
      ]
    },
    {
      "cell_type": "code",
      "metadata": {
        "id": "GnWJabmwqMgV",
        "colab_type": "code",
        "colab": {
          "base_uri": "https://localhost:8080/",
          "height": 185
        },
        "outputId": "092be942-3b45-4d88-e35f-8a917ab0c09a"
      },
      "source": [
        "# Create a crosstab of the same data without the margins\n",
        "observed = pd.DataFrame(pd.crosstab(df2['suit1'], df2['rank1']).values)\n",
        "print(observed.shape)\n",
        "observed"
      ],
      "execution_count": 41,
      "outputs": [
        {
          "output_type": "stream",
          "text": [
            "(4, 13)\n"
          ],
          "name": "stdout"
        },
        {
          "output_type": "execute_result",
          "data": {
            "text/html": [
              "<div>\n",
              "<style scoped>\n",
              "    .dataframe tbody tr th:only-of-type {\n",
              "        vertical-align: middle;\n",
              "    }\n",
              "\n",
              "    .dataframe tbody tr th {\n",
              "        vertical-align: top;\n",
              "    }\n",
              "\n",
              "    .dataframe thead th {\n",
              "        text-align: right;\n",
              "    }\n",
              "</style>\n",
              "<table border=\"1\" class=\"dataframe\">\n",
              "  <thead>\n",
              "    <tr style=\"text-align: right;\">\n",
              "      <th></th>\n",
              "      <th>0</th>\n",
              "      <th>1</th>\n",
              "      <th>2</th>\n",
              "      <th>3</th>\n",
              "      <th>4</th>\n",
              "      <th>5</th>\n",
              "      <th>6</th>\n",
              "      <th>7</th>\n",
              "      <th>8</th>\n",
              "      <th>9</th>\n",
              "      <th>10</th>\n",
              "      <th>11</th>\n",
              "      <th>12</th>\n",
              "    </tr>\n",
              "  </thead>\n",
              "  <tbody>\n",
              "    <tr>\n",
              "      <th>0</th>\n",
              "      <td>529</td>\n",
              "      <td>472</td>\n",
              "      <td>449</td>\n",
              "      <td>496</td>\n",
              "      <td>449</td>\n",
              "      <td>470</td>\n",
              "      <td>511</td>\n",
              "      <td>510</td>\n",
              "      <td>506</td>\n",
              "      <td>486</td>\n",
              "      <td>466</td>\n",
              "      <td>481</td>\n",
              "      <td>487</td>\n",
              "    </tr>\n",
              "    <tr>\n",
              "      <th>1</th>\n",
              "      <td>493</td>\n",
              "      <td>464</td>\n",
              "      <td>482</td>\n",
              "      <td>514</td>\n",
              "      <td>478</td>\n",
              "      <td>490</td>\n",
              "      <td>473</td>\n",
              "      <td>475</td>\n",
              "      <td>470</td>\n",
              "      <td>457</td>\n",
              "      <td>484</td>\n",
              "      <td>467</td>\n",
              "      <td>503</td>\n",
              "    </tr>\n",
              "    <tr>\n",
              "      <th>2</th>\n",
              "      <td>455</td>\n",
              "      <td>524</td>\n",
              "      <td>466</td>\n",
              "      <td>460</td>\n",
              "      <td>488</td>\n",
              "      <td>473</td>\n",
              "      <td>462</td>\n",
              "      <td>464</td>\n",
              "      <td>476</td>\n",
              "      <td>455</td>\n",
              "      <td>479</td>\n",
              "      <td>474</td>\n",
              "      <td>474</td>\n",
              "    </tr>\n",
              "    <tr>\n",
              "      <th>3</th>\n",
              "      <td>505</td>\n",
              "      <td>488</td>\n",
              "      <td>495</td>\n",
              "      <td>449</td>\n",
              "      <td>511</td>\n",
              "      <td>482</td>\n",
              "      <td>521</td>\n",
              "      <td>491</td>\n",
              "      <td>509</td>\n",
              "      <td>462</td>\n",
              "      <td>448</td>\n",
              "      <td>460</td>\n",
              "      <td>477</td>\n",
              "    </tr>\n",
              "  </tbody>\n",
              "</table>\n",
              "</div>"
            ],
            "text/plain": [
              "     0    1    2    3    4    5    6    7    8    9   10   11   12\n",
              "0  529  472  449  496  449  470  511  510  506  486  466  481  487\n",
              "1  493  464  482  514  478  490  473  475  470  457  484  467  503\n",
              "2  455  524  466  460  488  473  462  464  476  455  479  474  474\n",
              "3  505  488  495  449  511  482  521  491  509  462  448  460  477"
            ]
          },
          "metadata": {
            "tags": []
          },
          "execution_count": 41
        }
      ]
    },
    {
      "cell_type": "code",
      "metadata": {
        "id": "HZykYLEoqgDB",
        "colab_type": "code",
        "colab": {
          "base_uri": "https://localhost:8080/",
          "height": 283
        },
        "outputId": "9640ed82-3ede-4eef-efcb-1891545d9776"
      },
      "source": [
        "# Use array broadcasting to chi-square the observed and expected tables\n",
        "chi_squared = ((observed - expected)**2/(expected)).sum()\n",
        "print(f\"Chi-Squared:\\n{chi_squared}\")"
      ],
      "execution_count": 43,
      "outputs": [
        {
          "output_type": "stream",
          "text": [
            "Chi-Squared:\n",
            "0     3.887560\n",
            "1     6.090019\n",
            "2     2.603847\n",
            "3     5.481101\n",
            "4     4.682446\n",
            "5     0.649330\n",
            "6     3.430925\n",
            "7     1.416481\n",
            "8     1.615750\n",
            "9     0.815974\n",
            "10    2.547600\n",
            "11    0.780459\n",
            "12    0.987317\n",
            "dtype: float64\n"
          ],
          "name": "stdout"
        }
      ]
    },
    {
      "cell_type": "code",
      "metadata": {
        "id": "pHCbrVfrr5Xk",
        "colab_type": "code",
        "colab": {
          "base_uri": "https://localhost:8080/",
          "height": 241
        },
        "outputId": "8030e3df-8e88-419f-f4fe-d62c27ba6a56"
      },
      "source": [
        "# now to do it all in one line with scipy\n",
        "chi_squared, p_value, dof, expected = stats.chi2_contingency(observed)\n",
        "expected = pd.DataFrame(expected)\n",
        "print(f'Chi-Squared: {chi_squared}\\nP-value: {p_value}\\nDegrees of Freedom: {dof}')\n",
        "expected"
      ],
      "execution_count": 44,
      "outputs": [
        {
          "output_type": "stream",
          "text": [
            "Chi-Squared: 34.988809163056914\n",
            "P-value: 0.5165315608157963\n",
            "Degrees of Freedom: 36\n"
          ],
          "name": "stdout"
        },
        {
          "output_type": "execute_result",
          "data": {
            "text/html": [
              "<div>\n",
              "<style scoped>\n",
              "    .dataframe tbody tr th:only-of-type {\n",
              "        vertical-align: middle;\n",
              "    }\n",
              "\n",
              "    .dataframe tbody tr th {\n",
              "        vertical-align: top;\n",
              "    }\n",
              "\n",
              "    .dataframe thead th {\n",
              "        text-align: right;\n",
              "    }\n",
              "</style>\n",
              "<table border=\"1\" class=\"dataframe\">\n",
              "  <thead>\n",
              "    <tr style=\"text-align: right;\">\n",
              "      <th></th>\n",
              "      <th>0</th>\n",
              "      <th>1</th>\n",
              "      <th>2</th>\n",
              "      <th>3</th>\n",
              "      <th>4</th>\n",
              "      <th>5</th>\n",
              "      <th>6</th>\n",
              "      <th>7</th>\n",
              "      <th>8</th>\n",
              "      <th>9</th>\n",
              "      <th>10</th>\n",
              "      <th>11</th>\n",
              "      <th>12</th>\n",
              "    </tr>\n",
              "  </thead>\n",
              "  <tbody>\n",
              "    <tr>\n",
              "      <th>0</th>\n",
              "      <td>500.215274</td>\n",
              "      <td>491.634386</td>\n",
              "      <td>477.501160</td>\n",
              "      <td>484.315394</td>\n",
              "      <td>486.082047</td>\n",
              "      <td>483.305878</td>\n",
              "      <td>496.429588</td>\n",
              "      <td>489.615354</td>\n",
              "      <td>494.915314</td>\n",
              "      <td>469.425030</td>\n",
              "      <td>473.715474</td>\n",
              "      <td>474.977369</td>\n",
              "      <td>489.867733</td>\n",
              "    </tr>\n",
              "    <tr>\n",
              "      <th>1</th>\n",
              "      <td>495.301879</td>\n",
              "      <td>486.805278</td>\n",
              "      <td>472.810876</td>\n",
              "      <td>479.558177</td>\n",
              "      <td>481.307477</td>\n",
              "      <td>478.558577</td>\n",
              "      <td>491.553379</td>\n",
              "      <td>484.806078</td>\n",
              "      <td>490.053978</td>\n",
              "      <td>464.814074</td>\n",
              "      <td>469.062375</td>\n",
              "      <td>470.311875</td>\n",
              "      <td>485.055978</td>\n",
              "    </tr>\n",
              "    <tr>\n",
              "      <th>2</th>\n",
              "      <td>487.377049</td>\n",
              "      <td>479.016393</td>\n",
              "      <td>465.245902</td>\n",
              "      <td>471.885246</td>\n",
              "      <td>473.606557</td>\n",
              "      <td>470.901639</td>\n",
              "      <td>483.688525</td>\n",
              "      <td>477.049180</td>\n",
              "      <td>482.213115</td>\n",
              "      <td>457.377049</td>\n",
              "      <td>461.557377</td>\n",
              "      <td>462.786885</td>\n",
              "      <td>477.295082</td>\n",
              "    </tr>\n",
              "    <tr>\n",
              "      <th>3</th>\n",
              "      <td>499.105798</td>\n",
              "      <td>490.543942</td>\n",
              "      <td>476.442063</td>\n",
              "      <td>483.241184</td>\n",
              "      <td>485.003918</td>\n",
              "      <td>482.233906</td>\n",
              "      <td>495.328509</td>\n",
              "      <td>488.529388</td>\n",
              "      <td>493.817593</td>\n",
              "      <td>468.383846</td>\n",
              "      <td>472.664774</td>\n",
              "      <td>473.923870</td>\n",
              "      <td>488.781208</td>\n",
              "    </tr>\n",
              "  </tbody>\n",
              "</table>\n",
              "</div>"
            ],
            "text/plain": [
              "           0           1           2   ...          10          11          12\n",
              "0  500.215274  491.634386  477.501160  ...  473.715474  474.977369  489.867733\n",
              "1  495.301879  486.805278  472.810876  ...  469.062375  470.311875  485.055978\n",
              "2  487.377049  479.016393  465.245902  ...  461.557377  462.786885  477.295082\n",
              "3  499.105798  490.543942  476.442063  ...  472.664774  473.923870  488.781208\n",
              "\n",
              "[4 rows x 13 columns]"
            ]
          },
          "metadata": {
            "tags": []
          },
          "execution_count": 44
        }
      ]
    },
    {
      "cell_type": "markdown",
      "metadata": {
        "id": "4ohsJhQUmEuS",
        "colab_type": "text"
      },
      "source": [
        "## Stretch goals:\n",
        "\n",
        "1. Write a summary of your findings, mixing prose and math/code/results. *Note* - yes, this is by definition a political topic. It is challenging but important to keep your writing voice *neutral* and stick to the facts of the data. Data science often involves considering controversial issues, so it's important to be sensitive about them (especially if you want to publish).\n",
        "2. Apply the techniques you learned today to your project data or other data of your choice, and write/discuss your findings here.\n",
        "3. Refactor your code so it is elegant, readable, and can be easily run for all issues."
      ]
    },
    {
      "cell_type": "markdown",
      "metadata": {
        "id": "nyJ3ySr7R2k9",
        "colab_type": "text"
      },
      "source": [
        "## Resources\n",
        "\n",
        "- [Interactive visualize the Chi-Squared test](https://homepage.divms.uiowa.edu/~mbognar/applets/chisq.html)\n",
        "- [Calculation of Chi-Squared test statistic](https://en.wikipedia.org/wiki/Pearson%27s_chi-squared_test)\n",
        "- [Visualization of a confidence interval generated by R code](https://commons.wikimedia.org/wiki/File:Confidence-interval.svg)\n",
        "- [Expected value of a squared standard normal](https://math.stackexchange.com/questions/264061/expected-value-calculation-for-squared-normal-distribution) (it's 1 - which is why the expected value of a Chi-Squared with $n$ degrees of freedom is $n$, as it's the sum of $n$ squared standard normals)"
      ]
    }
  ]
}