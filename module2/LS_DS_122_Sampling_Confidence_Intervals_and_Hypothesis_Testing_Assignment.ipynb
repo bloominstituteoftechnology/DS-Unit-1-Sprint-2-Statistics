{
  "nbformat": 4,
  "nbformat_minor": 0,
  "metadata": {
    "colab": {
      "name": "FRESHSTARTLS_DS_122_Sampling_Confidence_Intervals_and_Hypothesis_Testing_Assignment.ipynb",
      "provenance": [],
      "collapsed_sections": [],
      "include_colab_link": true
    },
    "kernelspec": {
      "name": "python3",
      "display_name": "Python 3"
    }
  },
  "cells": [
    {
      "cell_type": "markdown",
      "metadata": {
        "id": "view-in-github",
        "colab_type": "text"
      },
      "source": [
        "<a href=\"https://colab.research.google.com/github/vjmiyagi/DS-Unit-1-Sprint-2-Statistics/blob/master/module2/LS_DS_122_Sampling_Confidence_Intervals_and_Hypothesis_Testing_Assignment.ipynb\" target=\"_parent\"><img src=\"https://colab.research.google.com/assets/colab-badge.svg\" alt=\"Open In Colab\"/></a>"
      ]
    },
    {
      "cell_type": "markdown",
      "metadata": {
        "id": "11OzdxWTM7UR",
        "colab_type": "text"
      },
      "source": [
        "## Assignment - Build a confidence interval\n",
        "\n",
        "A confidence interval refers to a neighborhood around some point estimate, the size of which is determined by the desired p-value. For instance, we might say that 52% of Americans prefer tacos to burritos, with a 95% confidence interval of +/- 5%.\n",
        "\n",
        "52% (0.52) is the point estimate, and +/- 5% (the interval $[0.47, 0.57]$) is the confidence interval. \"95% confidence\" means a p-value $\\leq 1 - 0.95 = 0.05$.\n",
        "\n",
        "In this case, the confidence interval includes $0.5$ - which is the natural null hypothesis (that half of Americans prefer tacos and half burritos, thus there is no clear favorite). So in this case, we could use the confidence interval to report that we've failed to reject the null hypothesis.\n",
        "\n",
        "But providing the full analysis with a confidence interval, including a graphical representation of it, can be a helpful and powerful way to tell your story. Done well, it is also more intuitive to a layperson than simply saying \"fail to reject the null hypothesis\" - it shows that in fact the data does *not* give a single clear result (the point estimate) but a whole range of possibilities.\n",
        "\n",
        "How is a confidence interval built, and how should it be interpreted? It does *not* mean that 95% of the data lies in that interval - instead, the frequentist interpretation is \"if we were to repeat this experiment 100 times, we would expect the average result to lie in this interval ~95 times.\"\n",
        "\n",
        "For a 95% confidence interval and a normal(-ish) distribution, you can simply remember that +/-2 standard deviations contains 95% of the probability mass, and so the 95% confidence interval based on a given sample is centered at the mean (point estimate) and has a range of +/- 2 (or technically 1.96) standard deviations.\n",
        "\n",
        "Different distributions/assumptions (90% confidence, 99% confidence) will require different math, but the overall process and interpretation (with a frequentist approach) will be the same.\n",
        "\n",
        "Your assignment - using the data from the prior module ([congressional voting records](https://archive.ics.uci.edu/ml/datasets/Congressional+Voting+Records)):\n",
        "\n",
        "\n",
        "### Confidence Intervals:\n",
        "1. Generate and numerically represent a confidence interval\n",
        "2. Graphically (with a plot) represent the confidence interval\n",
        "3. Interpret the confidence interval - what does it tell you about the data and its distribution?\n",
        "\n",
        "### Chi-squared tests:\n",
        "4. Take a dataset that we have used in the past in class that has **categorical** variables. Pick two of those categorical variables and run a chi-squared tests on that data\n",
        "  - By hand using Numpy\n",
        "  - In a single line using Scipy\n"
      ]
    },
    {
      "cell_type": "code",
      "metadata": {
        "id": "Ckcr4A4FM7cs",
        "colab_type": "code",
        "colab": {
          "base_uri": "https://localhost:8080/",
          "height": 204
        },
        "outputId": "d33bcf65-fbf2-498e-ee83-e58056654f4c"
      },
      "source": [
        "# Import Libraries\n",
        "\n",
        "import pandas as pd\n",
        "import numpy as np\n",
        "from scipy import stats as st\n",
        "import matplotlib.pyplot as plt\n",
        "\n",
        "# Grab the file from UCI\n",
        "!wget https://archive.ics.uci.edu/ml/machine-learning-databases/voting-records/house-votes-84.data"
      ],
      "execution_count": 10,
      "outputs": [
        {
          "output_type": "stream",
          "text": [
            "--2020-03-19 12:40:12--  https://archive.ics.uci.edu/ml/machine-learning-databases/voting-records/house-votes-84.data\n",
            "Resolving archive.ics.uci.edu (archive.ics.uci.edu)... 128.195.10.252\n",
            "Connecting to archive.ics.uci.edu (archive.ics.uci.edu)|128.195.10.252|:443... connected.\n",
            "HTTP request sent, awaiting response... 200 OK\n",
            "Length: 18171 (18K) [application/x-httpd-php]\n",
            "Saving to: ‘house-votes-84.data.1’\n",
            "\n",
            "house-votes-84.data 100%[===================>]  17.75K  --.-KB/s    in 0.06s   \n",
            "\n",
            "2020-03-19 12:40:13 (284 KB/s) - ‘house-votes-84.data.1’ saved [18171/18171]\n",
            "\n"
          ],
          "name": "stdout"
        }
      ]
    },
    {
      "cell_type": "code",
      "metadata": {
        "id": "RbNt6qpPcZEX",
        "colab_type": "code",
        "colab": {
          "base_uri": "https://localhost:8080/",
          "height": 187
        },
        "outputId": "8947f7b1-7a6b-4dc8-9df1-03a7400702cb"
      },
      "source": [
        "# Load data into df\n",
        "\n",
        "df=pd.read_csv('house-votes-84.data',names=['party','handicapped-infants',\n",
        "                                            'water-project','budget',\n",
        "                                            'physician-fee-freeze',\n",
        "                                            'el-salvador-aid',\n",
        "                                            'religious-groups',\n",
        "                                            'anti-satellite-ban',\n",
        "                                            'aid-to-contras','mx-missile',\n",
        "                                            'immigration','synfuels',\n",
        "                                            'education','right-to-sue','crime',\n",
        "                                            'duty-free','south-africa'])\n",
        "print(df.shape), df.head()"
      ],
      "execution_count": 11,
      "outputs": [
        {
          "output_type": "stream",
          "text": [
            "(435, 17)\n"
          ],
          "name": "stdout"
        },
        {
          "output_type": "execute_result",
          "data": {
            "text/plain": [
              "(None,\n",
              "         party handicapped-infants water-project  ... crime duty-free south-africa\n",
              " 0  republican                   n             y  ...     y         n            y\n",
              " 1  republican                   n             y  ...     y         n            ?\n",
              " 2    democrat                   ?             y  ...     y         n            n\n",
              " 3    democrat                   n             y  ...     n         n            y\n",
              " 4    democrat                   y             y  ...     y         y            y\n",
              " \n",
              " [5 rows x 17 columns])"
            ]
          },
          "metadata": {
            "tags": []
          },
          "execution_count": 11
        }
      ]
    },
    {
      "cell_type": "code",
      "metadata": {
        "id": "S70BE7Fsw_n2",
        "colab_type": "code",
        "colab": {
          "base_uri": "https://localhost:8080/",
          "height": 34
        },
        "outputId": "4cc104e6-455d-4ad0-911a-c594bc2f4b5f"
      },
      "source": [
        "# Work with 0 in place of NaN values\n",
        "df = df.replace({'y':1, 'n':0,'?':0})\n",
        "\n",
        "df.head()\n",
        "df.shape"
      ],
      "execution_count": 14,
      "outputs": [
        {
          "output_type": "execute_result",
          "data": {
            "text/plain": [
              "(435, 17)"
            ]
          },
          "metadata": {
            "tags": []
          },
          "execution_count": 14
        }
      ]
    },
    {
      "cell_type": "code",
      "metadata": {
        "id": "dTr4hGZiw_tl",
        "colab_type": "code",
        "colab": {}
      },
      "source": [
        "# Break out the republicans and democrats into dataframes\n",
        "# Essentially working with 3 dataframes\n",
        "# Entire House, Just Dems and Just Reps\n",
        "house = df\n",
        "rep = df[df['party'] =='republican']\n",
        "dem = df[df['party'] =='democrat']"
      ],
      "execution_count": 0,
      "outputs": []
    },
    {
      "cell_type": "code",
      "metadata": {
        "id": "LhSWbl7bxA8B",
        "colab_type": "code",
        "colab": {
          "base_uri": "https://localhost:8080/",
          "height": 530
        },
        "outputId": "cf40e1c7-a6ff-4a19-8a5a-332f4fedf668"
      },
      "source": [
        "print(house.head())\n",
        "print(dem.head())\n",
        "rep.head()\n"
      ],
      "execution_count": 36,
      "outputs": [
        {
          "output_type": "stream",
          "text": [
            "        party  handicapped-infants  ...  duty-free  south-africa\n",
            "0  republican                    0  ...          0             1\n",
            "1  republican                    0  ...          0             0\n",
            "2    democrat                    0  ...          0             0\n",
            "3    democrat                    0  ...          0             1\n",
            "4    democrat                    1  ...          1             1\n",
            "\n",
            "[5 rows x 17 columns]\n",
            "      party  handicapped-infants  water-project  ...  crime  duty-free  south-africa\n",
            "2  democrat                    0              1  ...      1          0             0\n",
            "3  democrat                    0              1  ...      0          0             1\n",
            "4  democrat                    1              1  ...      1          1             1\n",
            "5  democrat                    0              1  ...      1          1             1\n",
            "6  democrat                    0              1  ...      1          1             1\n",
            "\n",
            "[5 rows x 17 columns]\n"
          ],
          "name": "stdout"
        },
        {
          "output_type": "execute_result",
          "data": {
            "text/html": [
              "<div>\n",
              "<style scoped>\n",
              "    .dataframe tbody tr th:only-of-type {\n",
              "        vertical-align: middle;\n",
              "    }\n",
              "\n",
              "    .dataframe tbody tr th {\n",
              "        vertical-align: top;\n",
              "    }\n",
              "\n",
              "    .dataframe thead th {\n",
              "        text-align: right;\n",
              "    }\n",
              "</style>\n",
              "<table border=\"1\" class=\"dataframe\">\n",
              "  <thead>\n",
              "    <tr style=\"text-align: right;\">\n",
              "      <th></th>\n",
              "      <th>party</th>\n",
              "      <th>handicapped-infants</th>\n",
              "      <th>water-project</th>\n",
              "      <th>budget</th>\n",
              "      <th>physician-fee-freeze</th>\n",
              "      <th>el-salvador-aid</th>\n",
              "      <th>religious-groups</th>\n",
              "      <th>anti-satellite-ban</th>\n",
              "      <th>aid-to-contras</th>\n",
              "      <th>mx-missile</th>\n",
              "      <th>immigration</th>\n",
              "      <th>synfuels</th>\n",
              "      <th>education</th>\n",
              "      <th>right-to-sue</th>\n",
              "      <th>crime</th>\n",
              "      <th>duty-free</th>\n",
              "      <th>south-africa</th>\n",
              "    </tr>\n",
              "  </thead>\n",
              "  <tbody>\n",
              "    <tr>\n",
              "      <th>0</th>\n",
              "      <td>republican</td>\n",
              "      <td>0</td>\n",
              "      <td>1</td>\n",
              "      <td>0</td>\n",
              "      <td>1</td>\n",
              "      <td>1</td>\n",
              "      <td>1</td>\n",
              "      <td>0</td>\n",
              "      <td>0</td>\n",
              "      <td>0</td>\n",
              "      <td>1</td>\n",
              "      <td>0</td>\n",
              "      <td>1</td>\n",
              "      <td>1</td>\n",
              "      <td>1</td>\n",
              "      <td>0</td>\n",
              "      <td>1</td>\n",
              "    </tr>\n",
              "    <tr>\n",
              "      <th>1</th>\n",
              "      <td>republican</td>\n",
              "      <td>0</td>\n",
              "      <td>1</td>\n",
              "      <td>0</td>\n",
              "      <td>1</td>\n",
              "      <td>1</td>\n",
              "      <td>1</td>\n",
              "      <td>0</td>\n",
              "      <td>0</td>\n",
              "      <td>0</td>\n",
              "      <td>0</td>\n",
              "      <td>0</td>\n",
              "      <td>1</td>\n",
              "      <td>1</td>\n",
              "      <td>1</td>\n",
              "      <td>0</td>\n",
              "      <td>0</td>\n",
              "    </tr>\n",
              "    <tr>\n",
              "      <th>7</th>\n",
              "      <td>republican</td>\n",
              "      <td>0</td>\n",
              "      <td>1</td>\n",
              "      <td>0</td>\n",
              "      <td>1</td>\n",
              "      <td>1</td>\n",
              "      <td>1</td>\n",
              "      <td>0</td>\n",
              "      <td>0</td>\n",
              "      <td>0</td>\n",
              "      <td>0</td>\n",
              "      <td>0</td>\n",
              "      <td>0</td>\n",
              "      <td>1</td>\n",
              "      <td>1</td>\n",
              "      <td>0</td>\n",
              "      <td>1</td>\n",
              "    </tr>\n",
              "    <tr>\n",
              "      <th>8</th>\n",
              "      <td>republican</td>\n",
              "      <td>0</td>\n",
              "      <td>1</td>\n",
              "      <td>0</td>\n",
              "      <td>1</td>\n",
              "      <td>1</td>\n",
              "      <td>1</td>\n",
              "      <td>0</td>\n",
              "      <td>0</td>\n",
              "      <td>0</td>\n",
              "      <td>0</td>\n",
              "      <td>0</td>\n",
              "      <td>1</td>\n",
              "      <td>1</td>\n",
              "      <td>1</td>\n",
              "      <td>0</td>\n",
              "      <td>1</td>\n",
              "    </tr>\n",
              "    <tr>\n",
              "      <th>10</th>\n",
              "      <td>republican</td>\n",
              "      <td>0</td>\n",
              "      <td>1</td>\n",
              "      <td>0</td>\n",
              "      <td>1</td>\n",
              "      <td>1</td>\n",
              "      <td>0</td>\n",
              "      <td>0</td>\n",
              "      <td>0</td>\n",
              "      <td>0</td>\n",
              "      <td>0</td>\n",
              "      <td>0</td>\n",
              "      <td>0</td>\n",
              "      <td>1</td>\n",
              "      <td>1</td>\n",
              "      <td>0</td>\n",
              "      <td>0</td>\n",
              "    </tr>\n",
              "  </tbody>\n",
              "</table>\n",
              "</div>"
            ],
            "text/plain": [
              "         party  handicapped-infants  ...  duty-free  south-africa\n",
              "0   republican                    0  ...          0             1\n",
              "1   republican                    0  ...          0             0\n",
              "7   republican                    0  ...          0             1\n",
              "8   republican                    0  ...          0             1\n",
              "10  republican                    0  ...          0             0\n",
              "\n",
              "[5 rows x 17 columns]"
            ]
          },
          "metadata": {
            "tags": []
          },
          "execution_count": 36
        }
      ]
    },
    {
      "cell_type": "markdown",
      "metadata": {
        "id": "UXgH0zofc_nO",
        "colab_type": "text"
      },
      "source": [
        "# GLOSSARY\n",
        "\n",
        "panda as pd\\\n",
        "numpy as np\\\n",
        "scipy stats as st\\\n",
        "matplotlib.pyplot as plt\\\n",
        "\n",
        "df = dataframe\\\n",
        "house = dataframe of entire house of representatives\\\n",
        "dem = members of the house that are democrat\\\n",
        "rep = members of the house that are republican\n",
        "ci = confidence interval\n",
        "c = confidence\n",
        "m = mean\n",
        "n = number of observations\n",
        "se = standard error\n",
        "\n",
        "\n"
      ]
    },
    {
      "cell_type": "markdown",
      "metadata": {
        "id": "DOn7ndCUd8eU",
        "colab_type": "text"
      },
      "source": [
        "# Generate and numerically represent a confidence interval"
      ]
    },
    {
      "cell_type": "code",
      "metadata": {
        "id": "s3Op5ApacZHP",
        "colab_type": "code",
        "colab": {}
      },
      "source": [
        "# Define function to calculate confidence interval\n",
        "# GLOSSARY: ci = confidence interval, c = confidence\n",
        "# m = mean, n = number of obersavtions\n",
        "# se = standard error\n",
        "# intvl = interval\n",
        "\n",
        "def ci(df, c=0.95):\n",
        "    m = np.mean(df)\n",
        "    n = len(df)\n",
        "    se = st.sem(df)\n",
        "    intvl = se * st.t.ppf((1+c)/2.0,n-1)\n",
        "    return (m-1, m, m+1)\n"
      ],
      "execution_count": 0,
      "outputs": []
    },
    {
      "cell_type": "code",
      "metadata": {
        "id": "n7omy7eqcZNZ",
        "colab_type": "code",
        "colab": {
          "base_uri": "https://localhost:8080/",
          "height": 34
        },
        "outputId": "a02dc83a-296e-4873-9c6b-e3e40fd32dad"
      },
      "source": [
        "df = house\n",
        "bill = 'budget'\n",
        "ci(df[bill])"
      ],
      "execution_count": 139,
      "outputs": [
        {
          "output_type": "execute_result",
          "data": {
            "text/plain": [
              "(-0.41839080459770117, 0.5816091954022988, 1.5816091954022988)"
            ]
          },
          "metadata": {
            "tags": []
          },
          "execution_count": 139
        }
      ]
    },
    {
      "cell_type": "code",
      "metadata": {
        "id": "wI0PzAFDcZS7",
        "colab_type": "code",
        "colab": {
          "base_uri": "https://localhost:8080/",
          "height": 476
        },
        "outputId": "bc9f9c26-6c83-4959-cc77-44e2e4239d4e"
      },
      "source": [
        "# For loop to run through tables\n",
        "\n",
        "t = [['House', house],['Dems', dem], ['Reps', rep]]\n",
        "for x in t:\n",
        "    print(x[0])\n",
        "    print(x[1].head())"
      ],
      "execution_count": 140,
      "outputs": [
        {
          "output_type": "stream",
          "text": [
            "House\n",
            "        party  handicapped-infants  ...  duty-free  south-africa\n",
            "0  republican                    0  ...          0             1\n",
            "1  republican                    0  ...          0             0\n",
            "2    democrat                    0  ...          0             0\n",
            "3    democrat                    0  ...          0             1\n",
            "4    democrat                    1  ...          1             1\n",
            "\n",
            "[5 rows x 17 columns]\n",
            "Dems\n",
            "      party  handicapped-infants  water-project  ...  crime  duty-free  south-africa\n",
            "2  democrat                    0              1  ...      1          0             0\n",
            "3  democrat                    0              1  ...      0          0             1\n",
            "4  democrat                    1              1  ...      1          1             1\n",
            "5  democrat                    0              1  ...      1          1             1\n",
            "6  democrat                    0              1  ...      1          1             1\n",
            "\n",
            "[5 rows x 17 columns]\n",
            "Reps\n",
            "         party  handicapped-infants  ...  duty-free  south-africa\n",
            "0   republican                    0  ...          0             1\n",
            "1   republican                    0  ...          0             0\n",
            "7   republican                    0  ...          0             1\n",
            "8   republican                    0  ...          0             1\n",
            "10  republican                    0  ...          0             0\n",
            "\n",
            "[5 rows x 17 columns]\n"
          ],
          "name": "stdout"
        }
      ]
    },
    {
      "cell_type": "code",
      "metadata": {
        "id": "sjHIAwXycZWF",
        "colab_type": "code",
        "colab": {
          "base_uri": "https://localhost:8080/",
          "height": 187
        },
        "outputId": "7e079b03-ed3a-429f-f037-d558e519c642"
      },
      "source": [
        "# Display the confidence intervals for all three dataframes\n",
        "print(\"Confidence Intervals:\")\n",
        "for x in t:\n",
        "    df=x[1]\n",
        "    \n",
        "    print()\n",
        "    print(x[0], ci(df[bill]))\n",
        "    print()"
      ],
      "execution_count": 216,
      "outputs": [
        {
          "output_type": "stream",
          "text": [
            "Confidence Intervals:\n",
            "\n",
            "House (-0.5931034482758621, 0.4068965517241379, 1.4068965517241379)\n",
            "\n",
            "\n",
            "Dems (-0.947565543071161, 0.052434456928838954, 1.0524344569288389)\n",
            "\n",
            "\n",
            "Reps (-0.029761904761904767, 0.9702380952380952, 1.9702380952380953)\n",
            "\n"
          ],
          "name": "stdout"
        }
      ]
    },
    {
      "cell_type": "markdown",
      "metadata": {
        "id": "0cwS0HmIDZo7",
        "colab_type": "text"
      },
      "source": [
        "## Graphically (with a plot) represent the confidence interval"
      ]
    },
    {
      "cell_type": "code",
      "metadata": {
        "id": "q1Wn1Lt9cZbz",
        "colab_type": "code",
        "colab": {}
      },
      "source": [
        "bill = 'budget'\n",
        "\n",
        "# Define function to plot graphs \n",
        "\n",
        "def ci_graph(bill):\n",
        "\n",
        "    txt = \"Considering the House bill on \" + str(bill)\n",
        "    txt = txt.center(55)\n",
        "    txt2= \"The total vote was \" + str(house[bill].sum())\n",
        "    txt2= txt2.center(55)\n",
        "    print(txt)\n",
        "    print()\n",
        "    print(txt2)\n",
        "    \n",
        "    for x in t:\n",
        "        txt = \"The total\"\n",
        "        df = x[1]\n",
        "        a = df[bill].to_numpy()\n",
        "\n",
        "        low, m, high = ci(df[bill])\n",
        "        df[bill].plot.density()\n",
        "\n",
        "        class color:\n",
        "            PURPLE = '\\033[95m'\n",
        "            CYAN = '\\033[96m'\n",
        "            DARKCYAN = '\\033[36m'\n",
        "            BLUE = '\\033[94m'\n",
        "            GREEN = '\\033[92m'\n",
        "            YELLOW = '\\033[93m'\n",
        "            RED = '\\033[91m'\n",
        "            BOLD = '\\033[1m'\n",
        "            UNDERLINE = '\\033[4m'\n",
        "            END = '\\033[0m'\n",
        "\n",
        "        low, m, high = ci(house[bill])\n",
        "        plt.axvline(x=low, color='red')\n",
        "        plt.axvline(x=m, color='green')\n",
        "        plt.axvline(x=high, color='red')        \n",
        "        plt.show()\n"
      ],
      "execution_count": 0,
      "outputs": []
    },
    {
      "cell_type": "markdown",
      "metadata": {
        "id": "YQzOmjUTOa3X",
        "colab_type": "text"
      },
      "source": [
        "LIST OF BILLS:\\\n",
        "'water-project', 'budget', 'physician-fee-freeze', 'el-salvador-aid', \n",
        "'religious-groups', 'anti-satellite-ban', 'aid-to-contras', 'mx-missile', 'immigration', 'synfuels', 'education', 'right-to-sue',  'crime', 'duty-free', 'south-africa'"
      ]
    },
    {
      "cell_type": "code",
      "metadata": {
        "id": "hwrceaxOOCLi",
        "colab_type": "code",
        "colab": {
          "base_uri": "https://localhost:8080/",
          "height": 34
        },
        "outputId": "be9b3b9d-de31-4ea4-9113-9af5ebaa8262"
      },
      "source": [
        "house['budget'].sum()"
      ],
      "execution_count": 194,
      "outputs": [
        {
          "output_type": "execute_result",
          "data": {
            "text/plain": [
              "253"
            ]
          },
          "metadata": {
            "tags": []
          },
          "execution_count": 194
        }
      ]
    },
    {
      "cell_type": "code",
      "metadata": {
        "id": "QSxqp6l1cZej",
        "colab_type": "code",
        "colab": {
          "base_uri": "https://localhost:8080/",
          "height": 1000
        },
        "outputId": "3fdc3747-6087-4a51-a7f7-8a256cb4748c"
      },
      "source": [
        "# Looking first at the budget bill -- Dems supported more than Reps\n",
        "\n",
        "bill = 'budget'\n",
        "ci_graph(bill)"
      ],
      "execution_count": 219,
      "outputs": [
        {
          "output_type": "stream",
          "text": [
            "          Considering the House bill on budget         \n",
            "\n",
            "                 The total vote was 253                \n",
            "['House',           party  handicapped-infants  ...  duty-free  south-africa\n",
            "0    republican                    0  ...          0             1\n",
            "1    republican                    0  ...          0             0\n",
            "2      democrat                    0  ...          0             0\n",
            "3      democrat                    0  ...          0             1\n",
            "4      democrat                    1  ...          1             1\n",
            "..          ...                  ...  ...        ...           ...\n",
            "430  republican                    0  ...          0             1\n",
            "431    democrat                    0  ...          0             1\n",
            "432  republican                    0  ...          0             1\n",
            "433  republican                    0  ...          0             1\n",
            "434  republican                    0  ...          0             0\n",
            "\n",
            "[435 rows x 17 columns]]\n"
          ],
          "name": "stdout"
        },
        {
          "output_type": "display_data",
          "data": {
            "image/png": "[encoded data removed]",
            "text/plain": [
              "<Figure size 432x288 with 1 Axes>"
            ]
          },
          "metadata": {
            "tags": []
          }
        },
        {
          "output_type": "stream",
          "text": [
            "['Dems',         party  handicapped-infants  ...  duty-free  south-africa\n",
            "2    democrat                    0  ...          0             0\n",
            "3    democrat                    0  ...          0             1\n",
            "4    democrat                    1  ...          1             1\n",
            "5    democrat                    0  ...          1             1\n",
            "6    democrat                    0  ...          1             1\n",
            "..        ...                  ...  ...        ...           ...\n",
            "425  democrat                    0  ...          1             0\n",
            "426  democrat                    1  ...          1             1\n",
            "428  democrat                    0  ...          1             1\n",
            "429  democrat                    1  ...          1             1\n",
            "431  democrat                    0  ...          0             1\n",
            "\n",
            "[267 rows x 17 columns]]\n"
          ],
          "name": "stdout"
        },
        {
          "output_type": "display_data",
          "data": {
            "image/png": "[encoded data removed]",
            "text/plain": [
              "<Figure size 432x288 with 1 Axes>"
            ]
          },
          "metadata": {
            "tags": []
          }
        },
        {
          "output_type": "stream",
          "text": [
            "['Reps',           party  handicapped-infants  ...  duty-free  south-africa\n",
            "0    republican                    0  ...          0             1\n",
            "1    republican                    0  ...          0             0\n",
            "7    republican                    0  ...          0             1\n",
            "8    republican                    0  ...          0             1\n",
            "10   republican                    0  ...          0             0\n",
            "..          ...                  ...  ...        ...           ...\n",
            "427  republican                    0  ...          0             1\n",
            "430  republican                    0  ...          0             1\n",
            "432  republican                    0  ...          0             1\n",
            "433  republican                    0  ...          0             1\n",
            "434  republican                    0  ...          0             0\n",
            "\n",
            "[168 rows x 17 columns]]\n"
          ],
          "name": "stdout"
        },
        {
          "output_type": "display_data",
          "data": {
            "image/png": "[encoded data removed]",
            "text/plain": [
              "<Figure size 432x288 with 1 Axes>"
            ]
          },
          "metadata": {
            "tags": []
          }
        }
      ]
    },
    {
      "cell_type": "code",
      "metadata": {
        "id": "ztDRI2oNcZhj",
        "colab_type": "code",
        "colab": {
          "base_uri": "https://localhost:8080/",
          "height": 1000
        },
        "outputId": "00393473-bec6-4ce1-f100-6c7ab03de3b6"
      },
      "source": [
        "# Looking first at the budget bill -- Dems supported more than Reps\n",
        "\n",
        "bill = 'physician-fee-freeze'\n",
        "ci_graph(bill)"
      ],
      "execution_count": 214,
      "outputs": [
        {
          "output_type": "stream",
          "text": [
            "   Considering the House bill on physician-fee-freeze  \n",
            "\n",
            "                 The total vote was 177                \n",
            "['House',           party  handicapped-infants  ...  duty-free  south-africa\n",
            "0    republican                    0  ...          0             1\n",
            "1    republican                    0  ...          0             0\n",
            "2      democrat                    0  ...          0             0\n",
            "3      democrat                    0  ...          0             1\n",
            "4      democrat                    1  ...          1             1\n",
            "..          ...                  ...  ...        ...           ...\n",
            "430  republican                    0  ...          0             1\n",
            "431    democrat                    0  ...          0             1\n",
            "432  republican                    0  ...          0             1\n",
            "433  republican                    0  ...          0             1\n",
            "434  republican                    0  ...          0             0\n",
            "\n",
            "[435 rows x 17 columns]]\n"
          ],
          "name": "stdout"
        },
        {
          "output_type": "display_data",
          "data": {
            "image/png": "[encoded data removed]",
            "text/plain": [
              "<Figure size 432x288 with 1 Axes>"
            ]
          },
          "metadata": {
            "tags": []
          }
        },
        {
          "output_type": "stream",
          "text": [
            "['Dems',         party  handicapped-infants  ...  duty-free  south-africa\n",
            "2    democrat                    0  ...          0             0\n",
            "3    democrat                    0  ...          0             1\n",
            "4    democrat                    1  ...          1             1\n",
            "5    democrat                    0  ...          1             1\n",
            "6    democrat                    0  ...          1             1\n",
            "..        ...                  ...  ...        ...           ...\n",
            "425  democrat                    0  ...          1             0\n",
            "426  democrat                    1  ...          1             1\n",
            "428  democrat                    0  ...          1             1\n",
            "429  democrat                    1  ...          1             1\n",
            "431  democrat                    0  ...          0             1\n",
            "\n",
            "[267 rows x 17 columns]]\n"
          ],
          "name": "stdout"
        },
        {
          "output_type": "display_data",
          "data": {
            "image/png": "[encoded data removed]",
            "text/plain": [
              "<Figure size 432x288 with 1 Axes>"
            ]
          },
          "metadata": {
            "tags": []
          }
        },
        {
          "output_type": "stream",
          "text": [
            "['Reps',           party  handicapped-infants  ...  duty-free  south-africa\n",
            "0    republican                    0  ...          0             1\n",
            "1    republican                    0  ...          0             0\n",
            "7    republican                    0  ...          0             1\n",
            "8    republican                    0  ...          0             1\n",
            "10   republican                    0  ...          0             0\n",
            "..          ...                  ...  ...        ...           ...\n",
            "427  republican                    0  ...          0             1\n",
            "430  republican                    0  ...          0             1\n",
            "432  republican                    0  ...          0             1\n",
            "433  republican                    0  ...          0             1\n",
            "434  republican                    0  ...          0             0\n",
            "\n",
            "[168 rows x 17 columns]]\n"
          ],
          "name": "stdout"
        },
        {
          "output_type": "display_data",
          "data": {
            "image/png": "[encoded data removed]",
            "text/plain": [
              "<Figure size 432x288 with 1 Axes>"
            ]
          },
          "metadata": {
            "tags": []
          }
        }
      ]
    },
    {
      "cell_type": "code",
      "metadata": {
        "id": "ikrwrXBTcZnB",
        "colab_type": "code",
        "colab": {}
      },
      "source": [
        ""
      ],
      "execution_count": 0,
      "outputs": []
    },
    {
      "cell_type": "code",
      "metadata": {
        "id": "DMC3GgE-cZpx",
        "colab_type": "code",
        "colab": {}
      },
      "source": [
        ""
      ],
      "execution_count": 0,
      "outputs": []
    },
    {
      "cell_type": "code",
      "metadata": {
        "id": "LIOvf8kvcZs1",
        "colab_type": "code",
        "colab": {}
      },
      "source": [
        ""
      ],
      "execution_count": 0,
      "outputs": []
    },
    {
      "cell_type": "code",
      "metadata": {
        "id": "aomw812ecZv7",
        "colab_type": "code",
        "colab": {}
      },
      "source": [
        ""
      ],
      "execution_count": 0,
      "outputs": []
    },
    {
      "cell_type": "code",
      "metadata": {
        "id": "gxRFwVTwcZy9",
        "colab_type": "code",
        "colab": {}
      },
      "source": [
        ""
      ],
      "execution_count": 0,
      "outputs": []
    },
    {
      "cell_type": "code",
      "metadata": {
        "id": "oftBPXplcZ4a",
        "colab_type": "code",
        "colab": {}
      },
      "source": [
        ""
      ],
      "execution_count": 0,
      "outputs": []
    },
    {
      "cell_type": "code",
      "metadata": {
        "id": "n3M4qtbIcZ7U",
        "colab_type": "code",
        "colab": {}
      },
      "source": [
        ""
      ],
      "execution_count": 0,
      "outputs": []
    },
    {
      "cell_type": "code",
      "metadata": {
        "id": "6cc8Li17cZ-O",
        "colab_type": "code",
        "colab": {}
      },
      "source": [
        ""
      ],
      "execution_count": 0,
      "outputs": []
    },
    {
      "cell_type": "code",
      "metadata": {
        "id": "F8wyuz-scZ2v",
        "colab_type": "code",
        "colab": {}
      },
      "source": [
        ""
      ],
      "execution_count": 0,
      "outputs": []
    },
    {
      "cell_type": "code",
      "metadata": {
        "id": "Rq_DfzZFcZZP",
        "colab_type": "code",
        "colab": {}
      },
      "source": [
        ""
      ],
      "execution_count": 0,
      "outputs": []
    },
    {
      "cell_type": "markdown",
      "metadata": {
        "id": "4ohsJhQUmEuS",
        "colab_type": "text"
      },
      "source": [
        "## Stretch goals:\n",
        "\n",
        "1. Write a summary of your findings, mixing prose and math/code/results. *Note* - yes, this is by definition a political topic. It is challenging but important to keep your writing voice *neutral* and stick to the facts of the data. Data science often involves considering controversial issues, so it's important to be sensitive about them (especially if you want to publish).\n",
        "2. Apply the techniques you learned today to your project data or other data of your choice, and write/discuss your findings here.\n",
        "3. Refactor your code so it is elegant, readable, and can be easily run for all issues."
      ]
    },
    {
      "cell_type": "code",
      "metadata": {
        "id": "rJLELEsecV89",
        "colab_type": "code",
        "colab": {}
      },
      "source": [
        ""
      ],
      "execution_count": 0,
      "outputs": []
    },
    {
      "cell_type": "code",
      "metadata": {
        "id": "8xP9WqFncWA7",
        "colab_type": "code",
        "colab": {}
      },
      "source": [
        ""
      ],
      "execution_count": 0,
      "outputs": []
    },
    {
      "cell_type": "code",
      "metadata": {
        "id": "lZNH9MJYcWFB",
        "colab_type": "code",
        "colab": {}
      },
      "source": [
        ""
      ],
      "execution_count": 0,
      "outputs": []
    },
    {
      "cell_type": "code",
      "metadata": {
        "id": "wbrrFMc5cWIV",
        "colab_type": "code",
        "colab": {}
      },
      "source": [
        ""
      ],
      "execution_count": 0,
      "outputs": []
    },
    {
      "cell_type": "code",
      "metadata": {
        "id": "sogHiTFRcWLa",
        "colab_type": "code",
        "colab": {}
      },
      "source": [
        ""
      ],
      "execution_count": 0,
      "outputs": []
    },
    {
      "cell_type": "code",
      "metadata": {
        "id": "mQhe47q3cWQn",
        "colab_type": "code",
        "colab": {}
      },
      "source": [
        ""
      ],
      "execution_count": 0,
      "outputs": []
    },
    {
      "cell_type": "code",
      "metadata": {
        "id": "mzWOkbZpcWTx",
        "colab_type": "code",
        "colab": {}
      },
      "source": [
        ""
      ],
      "execution_count": 0,
      "outputs": []
    },
    {
      "cell_type": "code",
      "metadata": {
        "id": "Ul6X5j6EcWXH",
        "colab_type": "code",
        "colab": {}
      },
      "source": [
        ""
      ],
      "execution_count": 0,
      "outputs": []
    },
    {
      "cell_type": "code",
      "metadata": {
        "id": "iGPSAB0hcWag",
        "colab_type": "code",
        "colab": {}
      },
      "source": [
        ""
      ],
      "execution_count": 0,
      "outputs": []
    },
    {
      "cell_type": "code",
      "metadata": {
        "id": "dfZHWYt4cWOq",
        "colab_type": "code",
        "colab": {}
      },
      "source": [
        ""
      ],
      "execution_count": 0,
      "outputs": []
    },
    {
      "cell_type": "markdown",
      "metadata": {
        "id": "nyJ3ySr7R2k9",
        "colab_type": "text"
      },
      "source": [
        "## Resources\n",
        "\n",
        "- [Interactive visualize the Chi-Squared test](https://homepage.divms.uiowa.edu/~mbognar/applets/chisq.html)\n",
        "- [Calculation of Chi-Squared test statistic](https://en.wikipedia.org/wiki/Pearson%27s_chi-squared_test)\n",
        "- [Visualization of a confidence interval generated by R code](https://commons.wikimedia.org/wiki/File:Confidence-interval.svg)\n",
        "- [Expected value of a squared standard normal](https://math.stackexchange.com/questions/264061/expected-value-calculation-for-squared-normal-distribution) (it's 1 - which is why the expected value of a Chi-Squared with $n$ degrees of freedom is $n$, as it's the sum of $n$ squared standard normals)"
      ]
    }
  ]
}