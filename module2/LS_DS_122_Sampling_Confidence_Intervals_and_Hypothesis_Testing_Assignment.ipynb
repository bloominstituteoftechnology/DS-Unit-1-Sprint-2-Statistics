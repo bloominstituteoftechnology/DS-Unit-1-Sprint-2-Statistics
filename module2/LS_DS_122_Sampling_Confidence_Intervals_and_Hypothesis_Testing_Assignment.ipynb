{
  "nbformat": 4,
  "nbformat_minor": 0,
  "metadata": {
    "colab": {
      "name": "LS_DS_122_Sampling_Confidence_Intervals_and_Hypothesis_Testing_Assignment.ipynb",
      "provenance": [],
      "collapsed_sections": []
    },
    "kernelspec": {
      "name": "python3",
      "display_name": "Python 3"
    }
  },
  "cells": [
    {
      "cell_type": "markdown",
      "metadata": {
        "id": "11OzdxWTM7UR",
        "colab_type": "text"
      },
      "source": [
        "## Assignment - Build a confidence interval\n",
        "\n",
        "A confidence interval refers to a neighborhood around some point estimate, the size of which is determined by the desired p-value. For instance, we might say that 52% of Americans prefer tacos to burritos, with a 95% confidence interval of +/- 5%.\n",
        "\n",
        "52% (0.52) is the point estimate, and +/- 5% (the interval $[0.47, 0.57]$) is the confidence interval. \"95% confidence\" means a p-value $\\leq 1 - 0.95 = 0.05$.\n",
        "\n",
        "In this case, the confidence interval includes $0.5$ - which is the natural null hypothesis (that half of Americans prefer tacos and half burritos, thus there is no clear favorite). So in this case, we could use the confidence interval to report that we've failed to reject the null hypothesis.\n",
        "\n",
        "But providing the full analysis with a confidence interval, including a graphical representation of it, can be a helpful and powerful way to tell your story. Done well, it is also more intuitive to a layperson than simply saying \"fail to reject the null hypothesis\" - it shows that in fact the data does *not* give a single clear result (the point estimate) but a whole range of possibilities.\n",
        "\n",
        "How is a confidence interval built, and how should it be interpreted? It does *not* mean that 95% of the data lies in that interval - instead, the frequentist interpretation is \"if we were to repeat this experiment 100 times, we would expect the average result to lie in this interval ~95 times.\"\n",
        "\n",
        "For a 95% confidence interval and a normal(-ish) distribution, you can simply remember that +/-2 standard deviations contains 95% of the probability mass, and so the 95% confidence interval based on a given sample is centered at the mean (point estimate) and has a range of +/- 2 (or technically 1.96) standard deviations.\n",
        "\n",
        "Different distributions/assumptions (90% confidence, 99% confidence) will require different math, but the overall process and interpretation (with a frequentist approach) will be the same.\n",
        "\n",
        "Your assignment - using the data from the prior module ([congressional voting records](https://archive.ics.uci.edu/ml/datasets/Congressional+Voting+Records)):\n",
        "\n",
        "\n",
        "### Confidence Intervals:\n",
        "1. Generate and numerically represent a confidence interval\n",
        "2. Graphically (with a plot) represent the confidence interval\n",
        "3. Interpret the confidence interval - what does it tell you about the data and its distribution?\n",
        "\n",
        "### Chi-squared tests:\n",
        "4. Take a dataset that we have used in the past in class that has **categorical** variables. Pick two of those categorical variables and run a chi-squared tests on that data\n",
        "  - By hand using Numpy\n",
        "  - In a single line using Scipy\n"
      ]
    },
    {
      "cell_type": "code",
      "metadata": {
        "id": "Ckcr4A4FM7cs",
        "colab_type": "code",
        "colab": {
          "base_uri": "https://localhost:8080/",
          "height": 70
        },
        "outputId": "1b34e4d2-4513-4ce8-dff7-b57696f8099a"
      },
      "source": [
        "# TODO - your code!\n",
        "\n",
        "# import libraries\n",
        "import numpy as np\n",
        "import pandas as pd\n",
        "import matplotlib.pyplot as plt\n",
        "import seaborn as sns\n",
        "import scipy.stats as stats"
      ],
      "execution_count": 1,
      "outputs": [
        {
          "output_type": "stream",
          "text": [
            "/usr/local/lib/python3.6/dist-packages/statsmodels/tools/_testing.py:19: FutureWarning: pandas.util.testing is deprecated. Use the functions in the public API at pandas.testing instead.\n",
            "  import pandas.util.testing as tm\n"
          ],
          "name": "stderr"
        }
      ]
    },
    {
      "cell_type": "code",
      "metadata": {
        "id": "uyHaxJEQYr2x",
        "colab_type": "code",
        "colab": {
          "base_uri": "https://localhost:8080/",
          "height": 177
        },
        "outputId": "513b1997-c0b9-431d-a3a7-952b28e4f189"
      },
      "source": [
        "# reading in data\n",
        "\n",
        "url = 'https://archive.ics.uci.edu/ml/machine-learning-databases/voting-records/house-votes-84.data'\n",
        "\n",
        "# read in column names.\n",
        "column_names = [\n",
        "'party',\n",
        "'handicapped-infants',\n",
        "'water-project-cost-sharing',\n",
        "'adoption-of-the-budget-resolution',\n",
        "'physician-fee-freeze',\n",
        "'el-salvador-aid',\n",
        "'religious-groups-in-schools',\n",
        "'anti-satellite-test-ban',\n",
        "'aid-to-nicaraguan-contras',\n",
        "'mx-missile',\n",
        "'immigration',\n",
        "'synfuels-corporation-cutback',\n",
        "'education-spending',\n",
        "'superfund-right-to-sue',\n",
        "'crime',\n",
        "'duty-free-exports',\n",
        "'export-administration-act-south-africa',\n",
        "]\n",
        " \n",
        "# read data in with correct format\n",
        "voting_record = pd.read_csv(url, header=None, names=column_names, na_values='?')\n",
        "\n",
        "# check data\n",
        "voting_record.head(2)"
      ],
      "execution_count": 5,
      "outputs": [
        {
          "output_type": "execute_result",
          "data": {
            "text/html": [
              "<div>\n",
              "<style scoped>\n",
              "    .dataframe tbody tr th:only-of-type {\n",
              "        vertical-align: middle;\n",
              "    }\n",
              "\n",
              "    .dataframe tbody tr th {\n",
              "        vertical-align: top;\n",
              "    }\n",
              "\n",
              "    .dataframe thead th {\n",
              "        text-align: right;\n",
              "    }\n",
              "</style>\n",
              "<table border=\"1\" class=\"dataframe\">\n",
              "  <thead>\n",
              "    <tr style=\"text-align: right;\">\n",
              "      <th></th>\n",
              "      <th>party</th>\n",
              "      <th>handicapped-infants</th>\n",
              "      <th>water-project-cost-sharing</th>\n",
              "      <th>adoption-of-the-budget-resolution</th>\n",
              "      <th>physician-fee-freeze</th>\n",
              "      <th>el-salvador-aid</th>\n",
              "      <th>religious-groups-in-schools</th>\n",
              "      <th>anti-satellite-test-ban</th>\n",
              "      <th>aid-to-nicaraguan-contras</th>\n",
              "      <th>mx-missile</th>\n",
              "      <th>immigration</th>\n",
              "      <th>synfuels-corporation-cutback</th>\n",
              "      <th>education-spending</th>\n",
              "      <th>superfund-right-to-sue</th>\n",
              "      <th>crime</th>\n",
              "      <th>duty-free-exports</th>\n",
              "      <th>export-administration-act-south-africa</th>\n",
              "    </tr>\n",
              "  </thead>\n",
              "  <tbody>\n",
              "    <tr>\n",
              "      <th>0</th>\n",
              "      <td>republican</td>\n",
              "      <td>n</td>\n",
              "      <td>y</td>\n",
              "      <td>n</td>\n",
              "      <td>y</td>\n",
              "      <td>y</td>\n",
              "      <td>y</td>\n",
              "      <td>n</td>\n",
              "      <td>n</td>\n",
              "      <td>n</td>\n",
              "      <td>y</td>\n",
              "      <td>NaN</td>\n",
              "      <td>y</td>\n",
              "      <td>y</td>\n",
              "      <td>y</td>\n",
              "      <td>n</td>\n",
              "      <td>y</td>\n",
              "    </tr>\n",
              "    <tr>\n",
              "      <th>1</th>\n",
              "      <td>republican</td>\n",
              "      <td>n</td>\n",
              "      <td>y</td>\n",
              "      <td>n</td>\n",
              "      <td>y</td>\n",
              "      <td>y</td>\n",
              "      <td>y</td>\n",
              "      <td>n</td>\n",
              "      <td>n</td>\n",
              "      <td>n</td>\n",
              "      <td>n</td>\n",
              "      <td>n</td>\n",
              "      <td>y</td>\n",
              "      <td>y</td>\n",
              "      <td>y</td>\n",
              "      <td>n</td>\n",
              "      <td>NaN</td>\n",
              "    </tr>\n",
              "  </tbody>\n",
              "</table>\n",
              "</div>"
            ],
            "text/plain": [
              "        party  ... export-administration-act-south-africa\n",
              "0  republican  ...                                      y\n",
              "1  republican  ...                                    NaN\n",
              "\n",
              "[2 rows x 17 columns]"
            ]
          },
          "metadata": {
            "tags": []
          },
          "execution_count": 5
        }
      ]
    },
    {
      "cell_type": "code",
      "metadata": {
        "id": "_Rd0U3wZdKnk",
        "colab_type": "code",
        "colab": {
          "base_uri": "https://localhost:8080/",
          "height": 177
        },
        "outputId": "568a6031-cc51-43d3-86f2-75cebef2cece"
      },
      "source": [
        "# convert values to numeric.\n",
        "voting_record = voting_record.replace({'y':1,'n':0})\n",
        "\n",
        "# check conversion\n",
        "voting_record.sample(2)"
      ],
      "execution_count": 62,
      "outputs": [
        {
          "output_type": "execute_result",
          "data": {
            "text/html": [
              "<div>\n",
              "<style scoped>\n",
              "    .dataframe tbody tr th:only-of-type {\n",
              "        vertical-align: middle;\n",
              "    }\n",
              "\n",
              "    .dataframe tbody tr th {\n",
              "        vertical-align: top;\n",
              "    }\n",
              "\n",
              "    .dataframe thead th {\n",
              "        text-align: right;\n",
              "    }\n",
              "</style>\n",
              "<table border=\"1\" class=\"dataframe\">\n",
              "  <thead>\n",
              "    <tr style=\"text-align: right;\">\n",
              "      <th></th>\n",
              "      <th>party</th>\n",
              "      <th>handicapped-infants</th>\n",
              "      <th>water-project-cost-sharing</th>\n",
              "      <th>adoption-of-the-budget-resolution</th>\n",
              "      <th>physician-fee-freeze</th>\n",
              "      <th>el-salvador-aid</th>\n",
              "      <th>religious-groups-in-schools</th>\n",
              "      <th>anti-satellite-test-ban</th>\n",
              "      <th>aid-to-nicaraguan-contras</th>\n",
              "      <th>mx-missile</th>\n",
              "      <th>immigration</th>\n",
              "      <th>synfuels-corporation-cutback</th>\n",
              "      <th>education-spending</th>\n",
              "      <th>superfund-right-to-sue</th>\n",
              "      <th>crime</th>\n",
              "      <th>duty-free-exports</th>\n",
              "      <th>export-administration-act-south-africa</th>\n",
              "    </tr>\n",
              "  </thead>\n",
              "  <tbody>\n",
              "    <tr>\n",
              "      <th>105</th>\n",
              "      <td>democrat</td>\n",
              "      <td>1.0</td>\n",
              "      <td>1.0</td>\n",
              "      <td>1.0</td>\n",
              "      <td>0.0</td>\n",
              "      <td>0.0</td>\n",
              "      <td>0.0</td>\n",
              "      <td>0.0</td>\n",
              "      <td>1.0</td>\n",
              "      <td>1.0</td>\n",
              "      <td>0.0</td>\n",
              "      <td>1.0</td>\n",
              "      <td>0.0</td>\n",
              "      <td>0.0</td>\n",
              "      <td>0.0</td>\n",
              "      <td>1.0</td>\n",
              "      <td>1.0</td>\n",
              "    </tr>\n",
              "    <tr>\n",
              "      <th>178</th>\n",
              "      <td>democrat</td>\n",
              "      <td>NaN</td>\n",
              "      <td>0.0</td>\n",
              "      <td>1.0</td>\n",
              "      <td>0.0</td>\n",
              "      <td>0.0</td>\n",
              "      <td>0.0</td>\n",
              "      <td>1.0</td>\n",
              "      <td>1.0</td>\n",
              "      <td>1.0</td>\n",
              "      <td>1.0</td>\n",
              "      <td>1.0</td>\n",
              "      <td>NaN</td>\n",
              "      <td>0.0</td>\n",
              "      <td>0.0</td>\n",
              "      <td>1.0</td>\n",
              "      <td>NaN</td>\n",
              "    </tr>\n",
              "  </tbody>\n",
              "</table>\n",
              "</div>"
            ],
            "text/plain": [
              "        party  ...  export-administration-act-south-africa\n",
              "105  democrat  ...                                     1.0\n",
              "178  democrat  ...                                     NaN\n",
              "\n",
              "[2 rows x 17 columns]"
            ]
          },
          "metadata": {
            "tags": []
          },
          "execution_count": 62
        }
      ]
    },
    {
      "cell_type": "markdown",
      "metadata": {
        "id": "1i37STmO1KCR",
        "colab_type": "text"
      },
      "source": [
        "\n",
        "\n",
        "---\n",
        "I thought it made sense to check the voting of one party. after further assesment of the data the graph turned out odd. scrapped the idea and used the entire data set.\n"
      ]
    },
    {
      "cell_type": "code",
      "metadata": {
        "id": "1_GygM9OYrud",
        "colab_type": "code",
        "colab": {
          "base_uri": "https://localhost:8080/",
          "height": 34
        },
        "outputId": "a4e18662-fff3-4dc5-ee06-314e990eeaaa"
      },
      "source": [
        "rep = voting_record[voting_record['party']=='republican']\n",
        "\n",
        "rep.shape"
      ],
      "execution_count": 18,
      "outputs": [
        {
          "output_type": "execute_result",
          "data": {
            "text/plain": [
              "(168, 17)"
            ]
          },
          "metadata": {
            "tags": []
          },
          "execution_count": 18
        }
      ]
    },
    {
      "cell_type": "code",
      "metadata": {
        "id": "cArPgh3cYrre",
        "colab_type": "code",
        "colab": {
          "base_uri": "https://localhost:8080/",
          "height": 34
        },
        "outputId": "14da7aab-98a7-4e02-cd11-b9c163a70721"
      },
      "source": [
        "dem = voting_record[voting_record['party']=='democrat']\n",
        "\n",
        "dem.shape"
      ],
      "execution_count": 19,
      "outputs": [
        {
          "output_type": "execute_result",
          "data": {
            "text/plain": [
              "(267, 17)"
            ]
          },
          "metadata": {
            "tags": []
          },
          "execution_count": 19
        }
      ]
    },
    {
      "cell_type": "code",
      "metadata": {
        "id": "kzPzibqvYrob",
        "colab_type": "code",
        "colab": {
          "base_uri": "https://localhost:8080/",
          "height": 34
        },
        "outputId": "38c019c8-3f36-482a-e282-299a3c72e4bc"
      },
      "source": [
        "rep['handicapped-infants'].isnull().sum()"
      ],
      "execution_count": 24,
      "outputs": [
        {
          "output_type": "execute_result",
          "data": {
            "text/plain": [
              "3"
            ]
          },
          "metadata": {
            "tags": []
          },
          "execution_count": 24
        }
      ]
    },
    {
      "cell_type": "markdown",
      "metadata": {
        "id": "i1Gr0K4NSqHg",
        "colab_type": "text"
      },
      "source": [
        "\n",
        "\n",
        "---\n",
        "\n"
      ]
    },
    {
      "cell_type": "code",
      "metadata": {
        "id": "OJcqM2ire596",
        "colab_type": "code",
        "colab": {}
      },
      "source": [
        "no_nan_hand = voting_record['handicapped-infants'].dropna(axis=0)"
      ],
      "execution_count": 0,
      "outputs": []
    },
    {
      "cell_type": "code",
      "metadata": {
        "id": "ypVPVIm1eLx6",
        "colab_type": "code",
        "colab": {
          "base_uri": "https://localhost:8080/",
          "height": 67
        },
        "outputId": "ee4da773-755f-4c31-9615-a494fdd73a2e"
      },
      "source": [
        "rep_hand.value_counts(dropna=False)"
      ],
      "execution_count": 63,
      "outputs": [
        {
          "output_type": "execute_result",
          "data": {
            "text/plain": [
              "0.0    134\n",
              "1.0     31\n",
              "Name: handicapped-infants, dtype: int64"
            ]
          },
          "metadata": {
            "tags": []
          },
          "execution_count": 63
        }
      ]
    },
    {
      "cell_type": "code",
      "metadata": {
        "id": "UzpJJytNYr0E",
        "colab_type": "code",
        "colab": {}
      },
      "source": [
        "# creat a function to generate confidence interval\n",
        "def confidence_interval(data, confidence=0.95):\n",
        "    '''\n",
        "    Calculate a confidence interval around a sample mean for given data. \n",
        "    using t-distribution and two tailed test, default 95% confidence.\n",
        "\n",
        "    argument:\n",
        "    data - iterable (list or np.array) of sample observations\n",
        "    confidence - level of confidence for the interval.\n",
        "\n",
        "    returns: \n",
        "    tuple of (mean, lower bound, upperbond)\n",
        "    '''\n",
        "    data = np.array(data)\n",
        "    mean =np.mean(data)\n",
        "    n = len(data)\n",
        "    stderr = np.std(data, ddof=1)/np.sqrt(n)\n",
        "    moe = stderr * stats.t.ppf((1 + confidence) / 2.0, n - 1)\n",
        "    return (mean, mean - moe, mean + moe)"
      ],
      "execution_count": 0,
      "outputs": []
    },
    {
      "cell_type": "code",
      "metadata": {
        "id": "1d9uGeDqYrxT",
        "colab_type": "code",
        "colab": {}
      },
      "source": [
        "conf_int = stats.t.interval(0.95\n",
        "                            # sample size(len of sample shape[0]),\n",
        "                            #mean of sample,\n",
        "                            #std error of  mean (stats.sem(df)) \n",
        "                            )    "
      ],
      "execution_count": 0,
      "outputs": []
    },
    {
      "cell_type": "code",
      "metadata": {
        "id": "B_lYf552Yrln",
        "colab_type": "code",
        "colab": {
          "base_uri": "https://localhost:8080/",
          "height": 50
        },
        "outputId": "9f61b05c-460a-4719-e6c5-d3e0ea2a0ec9"
      },
      "source": [
        "conf_int = stats.t.interval(.95, #alpha\n",
        "                            voting_record.shape[0], #sample size\n",
        "                            loc = no_nan_hand.mean(), #mean\n",
        "                            scale = stats.sem(no_nan_hand), # std err\n",
        "                            )\n",
        "print(no_nan_hand.mean())\n",
        "conf_int"
      ],
      "execution_count": 176,
      "outputs": [
        {
          "output_type": "stream",
          "text": [
            "0.44208037825059104\n"
          ],
          "name": "stdout"
        },
        {
          "output_type": "execute_result",
          "data": {
            "text/plain": [
              "(0.3945645472126659, 0.4895962092885162)"
            ]
          },
          "metadata": {
            "tags": []
          },
          "execution_count": 176
        }
      ]
    },
    {
      "cell_type": "code",
      "metadata": {
        "id": "mBJXFiodzU6-",
        "colab_type": "code",
        "colab": {
          "base_uri": "https://localhost:8080/",
          "height": 34
        },
        "outputId": "bff60e5d-fc46-4274-a904-bc772ea36bde"
      },
      "source": [
        "CI = confidence_interval(no_nan_hand)\n",
        "CI"
      ],
      "execution_count": 177,
      "outputs": [
        {
          "output_type": "execute_result",
          "data": {
            "text/plain": [
              "(0.44208037825059104, 0.39456046308364673, 0.48960029341753536)"
            ]
          },
          "metadata": {
            "tags": []
          },
          "execution_count": 177
        }
      ]
    },
    {
      "cell_type": "code",
      "metadata": {
        "id": "lpXjx9c5Yrix",
        "colab_type": "code",
        "colab": {
          "base_uri": "https://localhost:8080/",
          "height": 265
        },
        "outputId": "d0acea23-12cd-41b0-9339-0782261d0b57"
      },
      "source": [
        "sns.kdeplot(no_nan_hand)\n",
        "CI = confidence_interval(no_nan_hand)\n",
        "\n",
        "colors =['blue', 'red', 'red']\n",
        "for i in range(0,3):\n",
        "    plt.axvline(x=CI[i], color=colors[i])"
      ],
      "execution_count": 189,
      "outputs": [
        {
          "output_type": "display_data",
          "data": {
            "image/png": "[encoded data removed]",
            "text/plain": [
              "<Figure size 432x288 with 1 Axes>"
            ]
          },
          "metadata": {
            "tags": [],
            "needs_background": "light"
          }
        }
      ]
    },
    {
      "cell_type": "markdown",
      "metadata": {
        "id": "PAMa5ARZLp3m",
        "colab_type": "text"
      },
      "source": [
        "the confidence level is telling us that if we sampled all members of the house of representative an infinite number of times, we would expect the average votes to support handicapped infants to lie within [0.395, 0.490] 95% of the time."
      ]
    },
    {
      "cell_type": "markdown",
      "metadata": {
        "id": "pc1p9vd41AsG",
        "colab_type": "text"
      },
      "source": [
        "\n",
        "\n",
        "---\n",
        "\n"
      ]
    },
    {
      "cell_type": "code",
      "metadata": {
        "id": "hL9h_xDUT59P",
        "colab_type": "code",
        "colab": {}
      },
      "source": [
        "# read in data set\n",
        "df = pd.read_csv('https://raw.githubusercontent.com/ryanleeallred/datasets/master/adult.csv', na_values=\" ?\")"
      ],
      "execution_count": 0,
      "outputs": []
    },
    {
      "cell_type": "code",
      "metadata": {
        "id": "0F7_bBDMT55x",
        "colab_type": "code",
        "colab": {
          "base_uri": "https://localhost:8080/",
          "height": 166
        },
        "outputId": "76d3983e-8596-4700-fbe8-59955a92db5e"
      },
      "source": [
        "# look at cat columns.\n",
        "df.describe(exclude='number')"
      ],
      "execution_count": 191,
      "outputs": [
        {
          "output_type": "execute_result",
          "data": {
            "text/html": [
              "<div>\n",
              "<style scoped>\n",
              "    .dataframe tbody tr th:only-of-type {\n",
              "        vertical-align: middle;\n",
              "    }\n",
              "\n",
              "    .dataframe tbody tr th {\n",
              "        vertical-align: top;\n",
              "    }\n",
              "\n",
              "    .dataframe thead th {\n",
              "        text-align: right;\n",
              "    }\n",
              "</style>\n",
              "<table border=\"1\" class=\"dataframe\">\n",
              "  <thead>\n",
              "    <tr style=\"text-align: right;\">\n",
              "      <th></th>\n",
              "      <th>workclass</th>\n",
              "      <th>education</th>\n",
              "      <th>marital-status</th>\n",
              "      <th>occupation</th>\n",
              "      <th>relationship</th>\n",
              "      <th>race</th>\n",
              "      <th>sex</th>\n",
              "      <th>country</th>\n",
              "      <th>salary</th>\n",
              "    </tr>\n",
              "  </thead>\n",
              "  <tbody>\n",
              "    <tr>\n",
              "      <th>count</th>\n",
              "      <td>30725</td>\n",
              "      <td>32561</td>\n",
              "      <td>32561</td>\n",
              "      <td>30718</td>\n",
              "      <td>32561</td>\n",
              "      <td>32561</td>\n",
              "      <td>32561</td>\n",
              "      <td>31978</td>\n",
              "      <td>32561</td>\n",
              "    </tr>\n",
              "    <tr>\n",
              "      <th>unique</th>\n",
              "      <td>8</td>\n",
              "      <td>16</td>\n",
              "      <td>7</td>\n",
              "      <td>14</td>\n",
              "      <td>6</td>\n",
              "      <td>5</td>\n",
              "      <td>2</td>\n",
              "      <td>41</td>\n",
              "      <td>2</td>\n",
              "    </tr>\n",
              "    <tr>\n",
              "      <th>top</th>\n",
              "      <td>Private</td>\n",
              "      <td>HS-grad</td>\n",
              "      <td>Married-civ-spouse</td>\n",
              "      <td>Prof-specialty</td>\n",
              "      <td>Husband</td>\n",
              "      <td>White</td>\n",
              "      <td>Male</td>\n",
              "      <td>United-States</td>\n",
              "      <td>&lt;=50K</td>\n",
              "    </tr>\n",
              "    <tr>\n",
              "      <th>freq</th>\n",
              "      <td>22696</td>\n",
              "      <td>10501</td>\n",
              "      <td>14976</td>\n",
              "      <td>4140</td>\n",
              "      <td>13193</td>\n",
              "      <td>27816</td>\n",
              "      <td>21790</td>\n",
              "      <td>29170</td>\n",
              "      <td>24720</td>\n",
              "    </tr>\n",
              "  </tbody>\n",
              "</table>\n",
              "</div>"
            ],
            "text/plain": [
              "       workclass education       marital-status  ...    sex         country  salary\n",
              "count      30725     32561                32561  ...  32561           31978   32561\n",
              "unique         8        16                    7  ...      2              41       2\n",
              "top      Private   HS-grad   Married-civ-spouse  ...   Male   United-States   <=50K\n",
              "freq       22696     10501                14976  ...  21790           29170   24720\n",
              "\n",
              "[4 rows x 9 columns]"
            ]
          },
          "metadata": {
            "tags": []
          },
          "execution_count": 191
        }
      ]
    },
    {
      "cell_type": "code",
      "metadata": {
        "id": "xDcSLje3T54J",
        "colab_type": "code",
        "colab": {
          "base_uri": "https://localhost:8080/",
          "height": 134
        },
        "outputId": "6b3c8c0b-68e3-41ee-f74d-8eb314bf9333"
      },
      "source": [
        " # checking values \n",
        "print(df['race'].value_counts())\n",
        "df['race'].isnull().sum"
      ],
      "execution_count": 263,
      "outputs": [
        {
          "output_type": "stream",
          "text": [
            " White                 27816\n",
            " Black                  3124\n",
            " Asian-Pac-Islander     1039\n",
            " Amer-Indian-Eskimo      311\n",
            " Other                   271\n",
            "Name: race, dtype: int64\n"
          ],
          "name": "stdout"
        },
        {
          "output_type": "execute_result",
          "data": {
            "text/plain": [
              "0"
            ]
          },
          "metadata": {
            "tags": []
          },
          "execution_count": 263
        }
      ]
    },
    {
      "cell_type": "code",
      "metadata": {
        "id": "kFAp8OjTT50X",
        "colab_type": "code",
        "colab": {
          "base_uri": "https://localhost:8080/",
          "height": 319
        },
        "outputId": "d8d9ff0e-ed9c-43db-bedd-d5ab5a024836"
      },
      "source": [
        " # checking values\n",
        "print(df['education'].value_counts())\n",
        "df['education'].isnull().sum()"
      ],
      "execution_count": 265,
      "outputs": [
        {
          "output_type": "stream",
          "text": [
            " HS-grad         10501\n",
            " Some-college     7291\n",
            " Bachelors        5355\n",
            " Masters          1723\n",
            " Assoc-voc        1382\n",
            " 11th             1175\n",
            " Assoc-acdm       1067\n",
            " 10th              933\n",
            " 7th-8th           646\n",
            " Prof-school       576\n",
            " 9th               514\n",
            " 12th              433\n",
            " Doctorate         413\n",
            " 5th-6th           333\n",
            " 1st-4th           168\n",
            " Preschool          51\n",
            "Name: education, dtype: int64\n"
          ],
          "name": "stdout"
        },
        {
          "output_type": "execute_result",
          "data": {
            "text/plain": [
              "0"
            ]
          },
          "metadata": {
            "tags": []
          },
          "execution_count": 265
        }
      ]
    },
    {
      "cell_type": "code",
      "metadata": {
        "id": "zTIFuoRTT5xw",
        "colab_type": "code",
        "colab": {
          "base_uri": "https://localhost:8080/",
          "height": 185
        },
        "outputId": "b31168d4-4e44-4604-9038-52c4dfa0c04e"
      },
      "source": [
        "# creating observed variable \n",
        "\n",
        "observed = pd.crosstab(df['race'], df['education'])\n",
        "observed = np.array(observed)\n",
        "observed"
      ],
      "execution_count": 251,
      "outputs": [
        {
          "output_type": "execute_result",
          "data": {
            "text/plain": [
              "array([[  16,   14,    5,    4,    2,    9,    5,    8,   19,   21,    3,\n",
              "         119,    5,    0,    2,   79],\n",
              "       [  13,   21,    9,    5,   18,   11,    9,   29,   38,  289,   28,\n",
              "         226,   88,    6,   41,  208],\n",
              "       [ 133,  153,   70,   16,   21,   56,   89,  107,  112,  330,   11,\n",
              "        1174,   86,    5,   15,  746],\n",
              "       [   9,   10,   14,    9,   13,   17,    8,    8,    6,   33,    2,\n",
              "          78,    7,    2,    4,   51],\n",
              "       [ 762,  977,  335,  134,  279,  553,  403,  915, 1207, 4682,  369,\n",
              "        8904, 1537,   38,  514, 6207]])"
            ]
          },
          "metadata": {
            "tags": []
          },
          "execution_count": 251
        }
      ]
    },
    {
      "cell_type": "code",
      "metadata": {
        "id": "5eXtuZcIZv9M",
        "colab_type": "code",
        "colab": {
          "base_uri": "https://localhost:8080/",
          "height": 254
        },
        "outputId": "a0575018-4507-4ee0-bb52-0c397fe2c23a"
      },
      "source": [
        "# creating crosstab with total for chi equation\n",
        "contingency_table_sum = pd.crosstab(df['race'], df['education'], margins=True)\n",
        "contingency_table_sum"
      ],
      "execution_count": 237,
      "outputs": [
        {
          "output_type": "execute_result",
          "data": {
            "text/html": [
              "<div>\n",
              "<style scoped>\n",
              "    .dataframe tbody tr th:only-of-type {\n",
              "        vertical-align: middle;\n",
              "    }\n",
              "\n",
              "    .dataframe tbody tr th {\n",
              "        vertical-align: top;\n",
              "    }\n",
              "\n",
              "    .dataframe thead th {\n",
              "        text-align: right;\n",
              "    }\n",
              "</style>\n",
              "<table border=\"1\" class=\"dataframe\">\n",
              "  <thead>\n",
              "    <tr style=\"text-align: right;\">\n",
              "      <th>education</th>\n",
              "      <th>10th</th>\n",
              "      <th>11th</th>\n",
              "      <th>12th</th>\n",
              "      <th>1st-4th</th>\n",
              "      <th>5th-6th</th>\n",
              "      <th>7th-8th</th>\n",
              "      <th>9th</th>\n",
              "      <th>Assoc-acdm</th>\n",
              "      <th>Assoc-voc</th>\n",
              "      <th>Bachelors</th>\n",
              "      <th>Doctorate</th>\n",
              "      <th>HS-grad</th>\n",
              "      <th>Masters</th>\n",
              "      <th>Preschool</th>\n",
              "      <th>Prof-school</th>\n",
              "      <th>Some-college</th>\n",
              "      <th>All</th>\n",
              "    </tr>\n",
              "    <tr>\n",
              "      <th>race</th>\n",
              "      <th></th>\n",
              "      <th></th>\n",
              "      <th></th>\n",
              "      <th></th>\n",
              "      <th></th>\n",
              "      <th></th>\n",
              "      <th></th>\n",
              "      <th></th>\n",
              "      <th></th>\n",
              "      <th></th>\n",
              "      <th></th>\n",
              "      <th></th>\n",
              "      <th></th>\n",
              "      <th></th>\n",
              "      <th></th>\n",
              "      <th></th>\n",
              "      <th></th>\n",
              "    </tr>\n",
              "  </thead>\n",
              "  <tbody>\n",
              "    <tr>\n",
              "      <th>Amer-Indian-Eskimo</th>\n",
              "      <td>16</td>\n",
              "      <td>14</td>\n",
              "      <td>5</td>\n",
              "      <td>4</td>\n",
              "      <td>2</td>\n",
              "      <td>9</td>\n",
              "      <td>5</td>\n",
              "      <td>8</td>\n",
              "      <td>19</td>\n",
              "      <td>21</td>\n",
              "      <td>3</td>\n",
              "      <td>119</td>\n",
              "      <td>5</td>\n",
              "      <td>0</td>\n",
              "      <td>2</td>\n",
              "      <td>79</td>\n",
              "      <td>311</td>\n",
              "    </tr>\n",
              "    <tr>\n",
              "      <th>Asian-Pac-Islander</th>\n",
              "      <td>13</td>\n",
              "      <td>21</td>\n",
              "      <td>9</td>\n",
              "      <td>5</td>\n",
              "      <td>18</td>\n",
              "      <td>11</td>\n",
              "      <td>9</td>\n",
              "      <td>29</td>\n",
              "      <td>38</td>\n",
              "      <td>289</td>\n",
              "      <td>28</td>\n",
              "      <td>226</td>\n",
              "      <td>88</td>\n",
              "      <td>6</td>\n",
              "      <td>41</td>\n",
              "      <td>208</td>\n",
              "      <td>1039</td>\n",
              "    </tr>\n",
              "    <tr>\n",
              "      <th>Black</th>\n",
              "      <td>133</td>\n",
              "      <td>153</td>\n",
              "      <td>70</td>\n",
              "      <td>16</td>\n",
              "      <td>21</td>\n",
              "      <td>56</td>\n",
              "      <td>89</td>\n",
              "      <td>107</td>\n",
              "      <td>112</td>\n",
              "      <td>330</td>\n",
              "      <td>11</td>\n",
              "      <td>1174</td>\n",
              "      <td>86</td>\n",
              "      <td>5</td>\n",
              "      <td>15</td>\n",
              "      <td>746</td>\n",
              "      <td>3124</td>\n",
              "    </tr>\n",
              "    <tr>\n",
              "      <th>Other</th>\n",
              "      <td>9</td>\n",
              "      <td>10</td>\n",
              "      <td>14</td>\n",
              "      <td>9</td>\n",
              "      <td>13</td>\n",
              "      <td>17</td>\n",
              "      <td>8</td>\n",
              "      <td>8</td>\n",
              "      <td>6</td>\n",
              "      <td>33</td>\n",
              "      <td>2</td>\n",
              "      <td>78</td>\n",
              "      <td>7</td>\n",
              "      <td>2</td>\n",
              "      <td>4</td>\n",
              "      <td>51</td>\n",
              "      <td>271</td>\n",
              "    </tr>\n",
              "    <tr>\n",
              "      <th>White</th>\n",
              "      <td>762</td>\n",
              "      <td>977</td>\n",
              "      <td>335</td>\n",
              "      <td>134</td>\n",
              "      <td>279</td>\n",
              "      <td>553</td>\n",
              "      <td>403</td>\n",
              "      <td>915</td>\n",
              "      <td>1207</td>\n",
              "      <td>4682</td>\n",
              "      <td>369</td>\n",
              "      <td>8904</td>\n",
              "      <td>1537</td>\n",
              "      <td>38</td>\n",
              "      <td>514</td>\n",
              "      <td>6207</td>\n",
              "      <td>27816</td>\n",
              "    </tr>\n",
              "    <tr>\n",
              "      <th>All</th>\n",
              "      <td>933</td>\n",
              "      <td>1175</td>\n",
              "      <td>433</td>\n",
              "      <td>168</td>\n",
              "      <td>333</td>\n",
              "      <td>646</td>\n",
              "      <td>514</td>\n",
              "      <td>1067</td>\n",
              "      <td>1382</td>\n",
              "      <td>5355</td>\n",
              "      <td>413</td>\n",
              "      <td>10501</td>\n",
              "      <td>1723</td>\n",
              "      <td>51</td>\n",
              "      <td>576</td>\n",
              "      <td>7291</td>\n",
              "      <td>32561</td>\n",
              "    </tr>\n",
              "  </tbody>\n",
              "</table>\n",
              "</div>"
            ],
            "text/plain": [
              "education             10th   11th   12th  ...   Prof-school   Some-college    All\n",
              "race                                      ...                                    \n",
              " Amer-Indian-Eskimo     16     14      5  ...             2             79    311\n",
              " Asian-Pac-Islander     13     21      9  ...            41            208   1039\n",
              " Black                 133    153     70  ...            15            746   3124\n",
              " Other                   9     10     14  ...             4             51    271\n",
              " White                 762    977    335  ...           514           6207  27816\n",
              "All                    933   1175    433  ...           576           7291  32561\n",
              "\n",
              "[6 rows x 17 columns]"
            ]
          },
          "metadata": {
            "tags": []
          },
          "execution_count": 237
        }
      ]
    },
    {
      "cell_type": "code",
      "metadata": {
        "id": "9yDQD9y6T5u_",
        "colab_type": "code",
        "colab": {
          "base_uri": "https://localhost:8080/",
          "height": 134
        },
        "outputId": "a56176d2-a940-4c6a-98f3-453ef03efdfb"
      },
      "source": [
        "#setting row sums\n",
        "row_sum = contingency_table_sum.iloc[0:5,16]\n",
        "row_sum"
      ],
      "execution_count": 258,
      "outputs": [
        {
          "output_type": "execute_result",
          "data": {
            "text/plain": [
              "race\n",
              " Amer-Indian-Eskimo      311\n",
              " Asian-Pac-Islander     1039\n",
              " Black                  3124\n",
              " Other                   271\n",
              " White                 27816\n",
              "Name: All, dtype: int64"
            ]
          },
          "metadata": {
            "tags": []
          },
          "execution_count": 258
        }
      ]
    },
    {
      "cell_type": "code",
      "metadata": {
        "id": "WwoDD4tKT5s0",
        "colab_type": "code",
        "colab": {
          "base_uri": "https://localhost:8080/",
          "height": 319
        },
        "outputId": "dd42ea8b-8bde-4f9e-ac51-b41e90f56fd9"
      },
      "source": [
        "#setting column sums\n",
        "col_sum = contingency_table_sum.iloc[5,0:16]\n",
        "col_sum"
      ],
      "execution_count": 239,
      "outputs": [
        {
          "output_type": "execute_result",
          "data": {
            "text/plain": [
              "education\n",
              " 10th              933\n",
              " 11th             1175\n",
              " 12th              433\n",
              " 1st-4th           168\n",
              " 5th-6th           333\n",
              " 7th-8th           646\n",
              " 9th               514\n",
              " Assoc-acdm       1067\n",
              " Assoc-voc        1382\n",
              " Bachelors        5355\n",
              " Doctorate         413\n",
              " HS-grad         10501\n",
              " Masters          1723\n",
              " Preschool          51\n",
              " Prof-school       576\n",
              " Some-college     7291\n",
              "Name: All, dtype: int64"
            ]
          },
          "metadata": {
            "tags": []
          },
          "execution_count": 239
        }
      ]
    },
    {
      "cell_type": "code",
      "metadata": {
        "id": "2wcSSprVYD5b",
        "colab_type": "code",
        "colab": {
          "base_uri": "https://localhost:8080/",
          "height": 34
        },
        "outputId": "7d74bcc9-3b68-4930-b9f6-9bd229b2f7db"
      },
      "source": [
        "# setting total \n",
        "total = contingency_table.iloc[5,16]\n",
        "total"
      ],
      "execution_count": 240,
      "outputs": [
        {
          "output_type": "execute_result",
          "data": {
            "text/plain": [
              "32561"
            ]
          },
          "metadata": {
            "tags": []
          },
          "execution_count": 240
        }
      ]
    },
    {
      "cell_type": "code",
      "metadata": {
        "id": "ACBUSRdvT5pr",
        "colab_type": "code",
        "colab": {
          "base_uri": "https://localhost:8080/",
          "height": 403
        },
        "outputId": "55370c3c-6057-4429-afc3-affd1e7a7378"
      },
      "source": [
        "# creating the 'expected' variable. \n",
        "'''\n",
        "1) crating the empty list for expected values\n",
        "2) for the element in the range of the row sum (the number of rows)\n",
        "3) creating an expected row list b/c its a numpy array [[]]\n",
        "for the column in the col_sums\n",
        "were going to multiply the column by the row sum[i] and divide it by the total\n",
        " - then add it to epected val to the expected row. \n",
        " - then were going to add the expected row to the expected list.  \n",
        "'''\n",
        "\n",
        "expected = []\n",
        "for i in range(len(row_sum)):\n",
        "    expected_row = []\n",
        "    for column in col_sum:\n",
        "        expected_val = column*row_sum[i]/total\n",
        "        expected_row.append(expected_val)\n",
        "    expected.append(expected_row)\n",
        "\n",
        "expected = np.array(expected)\n",
        "print(expected)\n",
        "print('\\n')\n",
        "print(expected.shape)"
      ],
      "execution_count": 261,
      "outputs": [
        {
          "output_type": "stream",
          "text": [
            "[[8.91136636e+00 1.12227819e+01 4.13571451e+00 1.60461902e+00\n",
            "  3.18058413e+00 6.17014219e+00 4.90937011e+00 1.01912411e+01\n",
            "  1.31999017e+01 5.11472314e+01 3.94468843e+00 1.00298240e+02\n",
            "  1.64568963e+01 4.87116489e-01 5.50155094e+00 6.96385553e+01]\n",
            " [2.97714137e+01 3.74934738e+01 1.38167440e+01 5.36076902e+00\n",
            "  1.06258100e+01 2.06134332e+01 1.64014004e+01 3.40472651e+01\n",
            "  4.40987070e+01 1.70874512e+02 1.31785572e+01 3.35079973e+02\n",
            "  5.49797918e+01 1.62737631e+00 1.83797795e+01 2.32650994e+02]\n",
            " [8.95148183e+01 1.12733024e+02 4.15433187e+01 1.61184239e+01\n",
            "  3.19490188e+01 6.19791775e+01 4.93147016e+01 1.02371180e+02\n",
            "  1.32593225e+02 5.13774761e+02 3.96244587e+01 1.00749744e+03\n",
            "  1.65309788e+02 4.89309296e+00 5.52631676e+01 6.99520408e+02]\n",
            " [7.76520991e+00 9.77933724e+00 3.60378981e+00 1.39823715e+00\n",
            "  2.77150579e+00 5.37655477e+00 4.27793987e+00 8.88047050e+00\n",
            "  1.15021652e+01 4.45688093e+01 3.43733301e+00 8.73981450e+01\n",
            "  1.43402537e+01 4.24464851e-01 4.79395596e+00 6.06818280e+01]\n",
            " [7.97037192e+02 1.00377138e+03 3.69900433e+02 1.43517951e+02\n",
            "  2.84473081e+02 5.51860692e+02 4.39096588e+02 9.11509843e+02\n",
            "  1.18060600e+03 4.57463469e+03 3.52814963e+02 8.97072621e+03\n",
            "  1.47191327e+03 4.35679494e+01 4.92061546e+02 6.22850822e+03]]\n",
            "\n",
            "\n",
            "(5, 16)\n"
          ],
          "name": "stdout"
        }
      ]
    },
    {
      "cell_type": "code",
      "metadata": {
        "id": "JqCbRr7_bLuK",
        "colab_type": "code",
        "colab": {
          "base_uri": "https://localhost:8080/",
          "height": 34
        },
        "outputId": "cae280d6-f864-4344-f3a3-607fb292af8a"
      },
      "source": [
        "observed_array.shape"
      ],
      "execution_count": 245,
      "outputs": [
        {
          "output_type": "execute_result",
          "data": {
            "text/plain": [
              "(5, 16)"
            ]
          },
          "metadata": {
            "tags": []
          },
          "execution_count": 245
        }
      ]
    },
    {
      "cell_type": "code",
      "metadata": {
        "id": "k5DxP9LIT5n2",
        "colab_type": "code",
        "colab": {
          "base_uri": "https://localhost:8080/",
          "height": 34
        },
        "outputId": "73af6959-c6b3-4d8e-a7e1-5beb4e9e827c"
      },
      "source": [
        "#calcualte the chi with the observed and expected\n",
        "chi_squared = ((observed - expected)**2/(expected)).sum()\n",
        "\n",
        "chi_squared"
      ],
      "execution_count": 260,
      "outputs": [
        {
          "output_type": "execute_result",
          "data": {
            "text/plain": [
              "730.6712962254585"
            ]
          },
          "metadata": {
            "tags": []
          },
          "execution_count": 260
        }
      ]
    },
    {
      "cell_type": "code",
      "metadata": {
        "id": "T7bpWEJudOP-",
        "colab_type": "code",
        "colab": {
          "base_uri": "https://localhost:8080/",
          "height": 34
        },
        "outputId": "9bc00535-834a-450e-82c5-e707955dcce5"
      },
      "source": [
        "# find the degrees of freedom \n",
        "dof = (len(row_sum) - 1)*(len(col_sum) - 1)\n",
        "dof"
      ],
      "execution_count": 262,
      "outputs": [
        {
          "output_type": "execute_result",
          "data": {
            "text/plain": [
              "60"
            ]
          },
          "metadata": {
            "tags": []
          },
          "execution_count": 262
        }
      ]
    },
    {
      "cell_type": "code",
      "metadata": {
        "id": "dfaKxpIeT5kb",
        "colab_type": "code",
        "colab": {
          "base_uri": "https://localhost:8080/",
          "height": 739
        },
        "outputId": "5a2b04ef-9e13-4934-c83e-a92602eeeccc"
      },
      "source": [
        "# one line chi squared with numpy.\n",
        "chi_squared2, p_value, dof, expectect = stats.chi2_contingency(observed)\n",
        "expectect\n",
        "\n",
        "print(f'chi-squared: {chi_squared2}')\n",
        "print('\\n')\n",
        "print(f'pvlaue: {p_value}')\n",
        "print('\\n')\n",
        "print(f'Degrees of freedom: {dof}')\n",
        "print('\\n')\n",
        "print('Expexted: \\n', (np.array(expectect)))\n",
        "print('\\n')\n",
        "print('Observed: \\n', (observed))"
      ],
      "execution_count": 257,
      "outputs": [
        {
          "output_type": "stream",
          "text": [
            "chi-squared: 730.6712962254585\n",
            "\n",
            "\n",
            "pvlaue: 5.547319569858429e-116\n",
            "\n",
            "\n",
            "Degrees of freedom: 60\n",
            "\n",
            "\n",
            "Expexted: \n",
            " [[8.91136636e+00 1.12227819e+01 4.13571451e+00 1.60461902e+00\n",
            "  3.18058413e+00 6.17014219e+00 4.90937011e+00 1.01912411e+01\n",
            "  1.31999017e+01 5.11472314e+01 3.94468843e+00 1.00298240e+02\n",
            "  1.64568963e+01 4.87116489e-01 5.50155094e+00 6.96385553e+01]\n",
            " [2.97714137e+01 3.74934738e+01 1.38167440e+01 5.36076902e+00\n",
            "  1.06258100e+01 2.06134332e+01 1.64014004e+01 3.40472651e+01\n",
            "  4.40987070e+01 1.70874512e+02 1.31785572e+01 3.35079973e+02\n",
            "  5.49797918e+01 1.62737631e+00 1.83797795e+01 2.32650994e+02]\n",
            " [8.95148183e+01 1.12733024e+02 4.15433187e+01 1.61184239e+01\n",
            "  3.19490188e+01 6.19791775e+01 4.93147016e+01 1.02371180e+02\n",
            "  1.32593225e+02 5.13774761e+02 3.96244587e+01 1.00749744e+03\n",
            "  1.65309788e+02 4.89309296e+00 5.52631676e+01 6.99520408e+02]\n",
            " [7.76520991e+00 9.77933724e+00 3.60378981e+00 1.39823715e+00\n",
            "  2.77150579e+00 5.37655477e+00 4.27793987e+00 8.88047050e+00\n",
            "  1.15021652e+01 4.45688093e+01 3.43733301e+00 8.73981450e+01\n",
            "  1.43402537e+01 4.24464851e-01 4.79395596e+00 6.06818280e+01]\n",
            " [7.97037192e+02 1.00377138e+03 3.69900433e+02 1.43517951e+02\n",
            "  2.84473081e+02 5.51860692e+02 4.39096588e+02 9.11509843e+02\n",
            "  1.18060600e+03 4.57463469e+03 3.52814963e+02 8.97072621e+03\n",
            "  1.47191327e+03 4.35679494e+01 4.92061546e+02 6.22850822e+03]]\n",
            "\n",
            "\n",
            "Observed: \n",
            " [[  16   14    5    4    2    9    5    8   19   21    3  119    5    0\n",
            "     2   79]\n",
            " [  13   21    9    5   18   11    9   29   38  289   28  226   88    6\n",
            "    41  208]\n",
            " [ 133  153   70   16   21   56   89  107  112  330   11 1174   86    5\n",
            "    15  746]\n",
            " [   9   10   14    9   13   17    8    8    6   33    2   78    7    2\n",
            "     4   51]\n",
            " [ 762  977  335  134  279  553  403  915 1207 4682  369 8904 1537   38\n",
            "   514 6207]]\n"
          ],
          "name": "stdout"
        }
      ]
    },
    {
      "cell_type": "markdown",
      "metadata": {
        "id": "pU2yOzjEVPX_",
        "colab_type": "text"
      },
      "source": [
        "\n",
        "\n",
        "---\n",
        "\n"
      ]
    },
    {
      "cell_type": "markdown",
      "metadata": {
        "id": "QJtKlYOecjoL",
        "colab_type": "text"
      },
      "source": [
        "# Did a chi squared with the voting records."
      ]
    },
    {
      "cell_type": "code",
      "metadata": {
        "id": "dQ1P-i-B4HiQ",
        "colab_type": "code",
        "colab": {
          "base_uri": "https://localhost:8080/",
          "height": 319
        },
        "outputId": "12d0978d-ab71-4534-8096-c4231b66d760"
      },
      "source": [
        "voting_record.isnull().sum()"
      ],
      "execution_count": 91,
      "outputs": [
        {
          "output_type": "execute_result",
          "data": {
            "text/plain": [
              "party                                       0\n",
              "handicapped-infants                        12\n",
              "water-project-cost-sharing                 48\n",
              "adoption-of-the-budget-resolution          11\n",
              "physician-fee-freeze                       11\n",
              "el-salvador-aid                            15\n",
              "religious-groups-in-schools                11\n",
              "anti-satellite-test-ban                    14\n",
              "aid-to-nicaraguan-contras                  15\n",
              "mx-missile                                 22\n",
              "immigration                                 7\n",
              "synfuels-corporation-cutback               21\n",
              "education-spending                         31\n",
              "superfund-right-to-sue                     25\n",
              "crime                                      17\n",
              "duty-free-exports                          28\n",
              "export-administration-act-south-africa    104\n",
              "dtype: int64"
            ]
          },
          "metadata": {
            "tags": []
          },
          "execution_count": 91
        }
      ]
    },
    {
      "cell_type": "code",
      "metadata": {
        "id": "u0vb-s8pYrf3",
        "colab_type": "code",
        "colab": {
          "base_uri": "https://localhost:8080/",
          "height": 136
        },
        "outputId": "fe2c0c00-d11d-4712-980d-a6fa0687acc7"
      },
      "source": [
        "observed2 = pd.crosstab(voting_record['party'],\n",
        "            voting_record['adoption-of-the-budget-resolution'])\n",
        "observed2"
      ],
      "execution_count": 269,
      "outputs": [
        {
          "output_type": "execute_result",
          "data": {
            "text/html": [
              "<div>\n",
              "<style scoped>\n",
              "    .dataframe tbody tr th:only-of-type {\n",
              "        vertical-align: middle;\n",
              "    }\n",
              "\n",
              "    .dataframe tbody tr th {\n",
              "        vertical-align: top;\n",
              "    }\n",
              "\n",
              "    .dataframe thead th {\n",
              "        text-align: right;\n",
              "    }\n",
              "</style>\n",
              "<table border=\"1\" class=\"dataframe\">\n",
              "  <thead>\n",
              "    <tr style=\"text-align: right;\">\n",
              "      <th>adoption-of-the-budget-resolution</th>\n",
              "      <th>0.0</th>\n",
              "      <th>1.0</th>\n",
              "    </tr>\n",
              "    <tr>\n",
              "      <th>party</th>\n",
              "      <th></th>\n",
              "      <th></th>\n",
              "    </tr>\n",
              "  </thead>\n",
              "  <tbody>\n",
              "    <tr>\n",
              "      <th>democrat</th>\n",
              "      <td>29</td>\n",
              "      <td>231</td>\n",
              "    </tr>\n",
              "    <tr>\n",
              "      <th>republican</th>\n",
              "      <td>142</td>\n",
              "      <td>22</td>\n",
              "    </tr>\n",
              "  </tbody>\n",
              "</table>\n",
              "</div>"
            ],
            "text/plain": [
              "adoption-of-the-budget-resolution  0.0  1.0\n",
              "party                                      \n",
              "democrat                            29  231\n",
              "republican                         142   22"
            ]
          },
          "metadata": {
            "tags": []
          },
          "execution_count": 269
        }
      ]
    },
    {
      "cell_type": "code",
      "metadata": {
        "id": "5TNyVMlFz_8a",
        "colab_type": "code",
        "colab": {
          "base_uri": "https://localhost:8080/",
          "height": 166
        },
        "outputId": "33f599d7-832c-4053-c6cb-35c47bc13fe0"
      },
      "source": [
        "#cross tab for party vs adoption of the budget resolution\n",
        "contingency_table2 = pd.crosstab(voting_record['party'],\n",
        "                                voting_record['adoption-of-the-budget-resolution'], margins=True)\n",
        "contingency_table2"
      ],
      "execution_count": 123,
      "outputs": [
        {
          "output_type": "execute_result",
          "data": {
            "text/html": [
              "<div>\n",
              "<style scoped>\n",
              "    .dataframe tbody tr th:only-of-type {\n",
              "        vertical-align: middle;\n",
              "    }\n",
              "\n",
              "    .dataframe tbody tr th {\n",
              "        vertical-align: top;\n",
              "    }\n",
              "\n",
              "    .dataframe thead th {\n",
              "        text-align: right;\n",
              "    }\n",
              "</style>\n",
              "<table border=\"1\" class=\"dataframe\">\n",
              "  <thead>\n",
              "    <tr style=\"text-align: right;\">\n",
              "      <th>adoption-of-the-budget-resolution</th>\n",
              "      <th>0.0</th>\n",
              "      <th>1.0</th>\n",
              "      <th>All</th>\n",
              "    </tr>\n",
              "    <tr>\n",
              "      <th>party</th>\n",
              "      <th></th>\n",
              "      <th></th>\n",
              "      <th></th>\n",
              "    </tr>\n",
              "  </thead>\n",
              "  <tbody>\n",
              "    <tr>\n",
              "      <th>democrat</th>\n",
              "      <td>29</td>\n",
              "      <td>231</td>\n",
              "      <td>260</td>\n",
              "    </tr>\n",
              "    <tr>\n",
              "      <th>republican</th>\n",
              "      <td>142</td>\n",
              "      <td>22</td>\n",
              "      <td>164</td>\n",
              "    </tr>\n",
              "    <tr>\n",
              "      <th>All</th>\n",
              "      <td>171</td>\n",
              "      <td>253</td>\n",
              "      <td>424</td>\n",
              "    </tr>\n",
              "  </tbody>\n",
              "</table>\n",
              "</div>"
            ],
            "text/plain": [
              "adoption-of-the-budget-resolution  0.0  1.0  All\n",
              "party                                           \n",
              "democrat                            29  231  260\n",
              "republican                         142   22  164\n",
              "All                                171  253  424"
            ]
          },
          "metadata": {
            "tags": []
          },
          "execution_count": 123
        }
      ]
    },
    {
      "cell_type": "code",
      "metadata": {
        "id": "bT8C2Fr31UYl",
        "colab_type": "code",
        "colab": {
          "base_uri": "https://localhost:8080/",
          "height": 67
        },
        "outputId": "5d7768f3-1e07-4d9c-e46e-1cc8ee43cd9f"
      },
      "source": [
        "dem_count = contingency_table2.iloc[0][:].values\n",
        "print(dem_count)\n",
        "rep_count = contingency_table2.iloc[1][:].values\n",
        "print(rep_count)\n",
        "total = contingency_table2.iloc[2][2]\n",
        "print(total)"
      ],
      "execution_count": 131,
      "outputs": [
        {
          "output_type": "stream",
          "text": [
            "[ 29 231 260]\n",
            "[142  22 164]\n",
            "424\n"
          ],
          "name": "stdout"
        }
      ]
    },
    {
      "cell_type": "code",
      "metadata": {
        "id": "QpdR9SmU1UTp",
        "colab_type": "code",
        "colab": {
          "base_uri": "https://localhost:8080/",
          "height": 50
        },
        "outputId": "81059b4e-5b41-47a4-bd78-2914908e958d"
      },
      "source": [
        "row_sum2 = contingency_table2.iloc[0:2,2]\n",
        "col_sum2 = contingency_table2.iloc[2,0:2]\n",
        "\n",
        "print(np.array(row_sum2))\n",
        "print(np.array(col_sum2))"
      ],
      "execution_count": 142,
      "outputs": [
        {
          "output_type": "stream",
          "text": [
            "[260 164]\n",
            "[171 253]\n"
          ],
          "name": "stdout"
        }
      ]
    },
    {
      "cell_type": "code",
      "metadata": {
        "id": "2wnlog0f1UJ_",
        "colab_type": "code",
        "colab": {
          "base_uri": "https://localhost:8080/",
          "height": 50
        },
        "outputId": "7446f0f7-a5e7-4f89-f991-1d95ec79f22d"
      },
      "source": [
        "expected = []\n",
        "for i in range(len(row_sum)):\n",
        "    expected_row = []\n",
        "    for column in col_sum:\n",
        "        expected_val = column*row_sum[i]/total\n",
        "        expected_row.append(expected_val)\n",
        "    expected.append(expected_row)\n",
        "\n",
        "expected = np.array(expected)\n",
        "print(expected)"
      ],
      "execution_count": 156,
      "outputs": [
        {
          "output_type": "stream",
          "text": [
            "[[104.85849057 155.14150943]\n",
            " [ 66.14150943  97.85849057]]\n"
          ],
          "name": "stdout"
        }
      ]
    },
    {
      "cell_type": "code",
      "metadata": {
        "id": "TatbPln26VT5",
        "colab_type": "code",
        "colab": {
          "base_uri": "https://localhost:8080/",
          "height": 50
        },
        "outputId": "945eb9dd-092a-4c91-a990-4fc7546ae11f"
      },
      "source": [
        "observed2 = np.array(observed2)\n",
        "observed2"
      ],
      "execution_count": 270,
      "outputs": [
        {
          "output_type": "execute_result",
          "data": {
            "text/plain": [
              "array([[ 29, 231],\n",
              "       [142,  22]])"
            ]
          },
          "metadata": {
            "tags": []
          },
          "execution_count": 270
        }
      ]
    },
    {
      "cell_type": "code",
      "metadata": {
        "id": "ZnH5tMzN6VQN",
        "colab_type": "code",
        "colab": {
          "base_uri": "https://localhost:8080/",
          "height": 50
        },
        "outputId": "ebce7a44-5a4f-48c8-deb1-cdcc93d9ab1c"
      },
      "source": [
        "expected"
      ],
      "execution_count": 154,
      "outputs": [
        {
          "output_type": "execute_result",
          "data": {
            "text/plain": [
              "array([[104.85849057, 155.14150943],\n",
              "       [ 66.14150943,  97.85849057]])"
            ]
          },
          "metadata": {
            "tags": []
          },
          "execution_count": 154
        }
      ]
    },
    {
      "cell_type": "code",
      "metadata": {
        "id": "Bnj74PzF1UG-",
        "colab_type": "code",
        "colab": {
          "base_uri": "https://localhost:8080/",
          "height": 34
        },
        "outputId": "2586d605-dcc3-4154-a438-9c274a3382e3"
      },
      "source": [
        "chi_squared = ((observed - expected)**2/(expected)).sum()\n",
        "chi_squared\n"
      ],
      "execution_count": 174,
      "outputs": [
        {
          "output_type": "execute_result",
          "data": {
            "text/plain": [
              "237.778255192867"
            ]
          },
          "metadata": {
            "tags": []
          },
          "execution_count": 174
        }
      ]
    },
    {
      "cell_type": "markdown",
      "metadata": {
        "id": "fAnOe_s51ERR",
        "colab_type": "text"
      },
      "source": [
        "\n",
        "\n",
        "---\n",
        "\n"
      ]
    },
    {
      "cell_type": "code",
      "metadata": {
        "id": "1BjM52jEYrdT",
        "colab_type": "code",
        "colab": {
          "base_uri": "https://localhost:8080/",
          "height": 739
        },
        "outputId": "4d19acae-8cd3-4b69-9432-e46e4214601b"
      },
      "source": [
        "chi_squared, p_value, dof, expectect2 = stats.chi2_contingency(observed2)\n",
        "expectect\n",
        "\n",
        "print(f'chi-squared: {chi_squared}')\n",
        "print('\\n')\n",
        "print(f'pvlaue: {p_value}')\n",
        "print('\\n')\n",
        "print(f'Degrees of freedom: {dof}')\n",
        "print('\\n')\n",
        "print('Expexted: \\n', (np.array(expectect)))\n",
        "print('\\n')\n",
        "print('Observed: \\n', (observed))"
      ],
      "execution_count": 271,
      "outputs": [
        {
          "output_type": "stream",
          "text": [
            "chi-squared: 234.65408769323486\n",
            "\n",
            "\n",
            "pvlaue: 5.759792112623893e-53\n",
            "\n",
            "\n",
            "Degrees of freedom: 1\n",
            "\n",
            "\n",
            "Expexted: \n",
            " [[8.91136636e+00 1.12227819e+01 4.13571451e+00 1.60461902e+00\n",
            "  3.18058413e+00 6.17014219e+00 4.90937011e+00 1.01912411e+01\n",
            "  1.31999017e+01 5.11472314e+01 3.94468843e+00 1.00298240e+02\n",
            "  1.64568963e+01 4.87116489e-01 5.50155094e+00 6.96385553e+01]\n",
            " [2.97714137e+01 3.74934738e+01 1.38167440e+01 5.36076902e+00\n",
            "  1.06258100e+01 2.06134332e+01 1.64014004e+01 3.40472651e+01\n",
            "  4.40987070e+01 1.70874512e+02 1.31785572e+01 3.35079973e+02\n",
            "  5.49797918e+01 1.62737631e+00 1.83797795e+01 2.32650994e+02]\n",
            " [8.95148183e+01 1.12733024e+02 4.15433187e+01 1.61184239e+01\n",
            "  3.19490188e+01 6.19791775e+01 4.93147016e+01 1.02371180e+02\n",
            "  1.32593225e+02 5.13774761e+02 3.96244587e+01 1.00749744e+03\n",
            "  1.65309788e+02 4.89309296e+00 5.52631676e+01 6.99520408e+02]\n",
            " [7.76520991e+00 9.77933724e+00 3.60378981e+00 1.39823715e+00\n",
            "  2.77150579e+00 5.37655477e+00 4.27793987e+00 8.88047050e+00\n",
            "  1.15021652e+01 4.45688093e+01 3.43733301e+00 8.73981450e+01\n",
            "  1.43402537e+01 4.24464851e-01 4.79395596e+00 6.06818280e+01]\n",
            " [7.97037192e+02 1.00377138e+03 3.69900433e+02 1.43517951e+02\n",
            "  2.84473081e+02 5.51860692e+02 4.39096588e+02 9.11509843e+02\n",
            "  1.18060600e+03 4.57463469e+03 3.52814963e+02 8.97072621e+03\n",
            "  1.47191327e+03 4.35679494e+01 4.92061546e+02 6.22850822e+03]]\n",
            "\n",
            "\n",
            "Observed: \n",
            " [[  16   14    5    4    2    9    5    8   19   21    3  119    5    0\n",
            "     2   79]\n",
            " [  13   21    9    5   18   11    9   29   38  289   28  226   88    6\n",
            "    41  208]\n",
            " [ 133  153   70   16   21   56   89  107  112  330   11 1174   86    5\n",
            "    15  746]\n",
            " [   9   10   14    9   13   17    8    8    6   33    2   78    7    2\n",
            "     4   51]\n",
            " [ 762  977  335  134  279  553  403  915 1207 4682  369 8904 1537   38\n",
            "   514 6207]]\n"
          ],
          "name": "stdout"
        }
      ]
    },
    {
      "cell_type": "markdown",
      "metadata": {
        "id": "LCx5mcpyyMlb",
        "colab_type": "text"
      },
      "source": [
        "Based on a pvalue of 5.759792112623893e-53, that is every close to zero, i regect my null hypothesis that party affiliation and voting stance on adoption of the budget resolution are independed. i conclude that there is an association between party and their voting stance."
      ]
    },
    {
      "cell_type": "markdown",
      "metadata": {
        "id": "4ohsJhQUmEuS",
        "colab_type": "text"
      },
      "source": [
        "# Stretch goals:\n",
        "\n",
        "1. Write a summary of your findings, mixing prose and math/code/results. *Note* - yes, this is by definition a political topic. It is challenging but important to keep your writing voice *neutral* and stick to the facts of the data. Data science often involves considering controversial issues, so it's important to be sensitive about them (especially if you want to publish).\n",
        "2. Apply the techniques you learned today to your project data or other data of your choice, and write/discuss your findings here.\n",
        "3. Refactor your code so it is elegant, readable, and can be easily run for all issues."
      ]
    },
    {
      "cell_type": "markdown",
      "metadata": {
        "id": "nyJ3ySr7R2k9",
        "colab_type": "text"
      },
      "source": [
        "## Resources\n",
        "\n",
        "- [Interactive visualize the Chi-Squared test](https://homepage.divms.uiowa.edu/~mbognar/applets/chisq.html)\n",
        "- [Calculation of Chi-Squared test statistic](https://en.wikipedia.org/wiki/Pearson%27s_chi-squared_test)\n",
        "- [Visualization of a confidence interval generated by R code](https://commons.wikimedia.org/wiki/File:Confidence-interval.svg)\n",
        "- [Expected value of a squared standard normal](https://math.stackexchange.com/questions/264061/expected-value-calculation-for-squared-normal-distribution) (it's 1 - which is why the expected value of a Chi-Squared with $n$ degrees of freedom is $n$, as it's the sum of $n$ squared standard normals)"
      ]
    }
  ]
}