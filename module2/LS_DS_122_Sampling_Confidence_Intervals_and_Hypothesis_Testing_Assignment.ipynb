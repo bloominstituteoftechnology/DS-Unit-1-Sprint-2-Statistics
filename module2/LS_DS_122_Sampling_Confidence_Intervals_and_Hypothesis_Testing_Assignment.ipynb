{
  "nbformat": 4,
  "nbformat_minor": 0,
  "metadata": {
    "colab": {
      "name": "LS_DS_122_Sampling_Confidence_Intervals_and_Hypothesis_Testing_Assignment.ipynb",
      "provenance": [],
      "collapsed_sections": [],
      "include_colab_link": true
    },
    "kernelspec": {
      "name": "python3",
      "display_name": "Python 3"
    }
  },
  "cells": [
    {
      "cell_type": "markdown",
      "metadata": {
        "id": "view-in-github",
        "colab_type": "text"
      },
      "source": [
        "<a href=\"https://colab.research.google.com/github/jasimrashid/DS-Unit-1-Sprint-2-Statistics/blob/master/module2/LS_DS_122_Sampling_Confidence_Intervals_and_Hypothesis_Testing_Assignment.ipynb\" target=\"_parent\"><img src=\"https://colab.research.google.com/assets/colab-badge.svg\" alt=\"Open In Colab\"/></a>"
      ]
    },
    {
      "cell_type": "markdown",
      "metadata": {
        "id": "11OzdxWTM7UR",
        "colab_type": "text"
      },
      "source": [
        "## Assignment - Build a confidence interval\n",
        "\n",
        "A confidence interval refers to a neighborhood around some point estimate, the size of which is determined by the desired p-value. For instance, we might say that 52% of Americans prefer tacos to burritos, with a 95% confidence interval of +/- 5%.\n",
        "\n",
        "52% (0.52) is the point estimate, and +/- 5% (the interval $[0.47, 0.57]$) is the confidence interval. \"95% confidence\" means a p-value $\\leq 1 - 0.95 = 0.05$.\n",
        "\n",
        "In this case, the confidence interval includes $0.5$ - which is the natural null hypothesis (that half of Americans prefer tacos and half burritos, thus there is no clear favorite). So in this case, we could use the confidence interval to report that we've failed to reject the null hypothesis.\n",
        "\n",
        "But providing the full analysis with a confidence interval, including a graphical representation of it, can be a helpful and powerful way to tell your story. Done well, it is also more intuitive to a layperson than simply saying \"fail to reject the null hypothesis\" - it shows that in fact the data does *not* give a single clear result (the point estimate) but a whole range of possibilities.\n",
        "\n",
        "How is a confidence interval built, and how should it be interpreted? It does *not* mean that 95% of the data lies in that interval - instead, the frequentist interpretation is \"if we were to repeat this experiment 100 times, we would expect the average result to lie in this interval ~95 times.\"\n",
        "\n",
        "For a 95% confidence interval and a normal(-ish) distribution, you can simply remember that +/-2 standard deviations contains 95% of the probability mass, and so the 95% confidence interval based on a given sample is centered at the mean (point estimate) and has a range of +/- 2 (or technically 1.96) standard deviations.\n",
        "\n",
        "Different distributions/assumptions (90% confidence, 99% confidence) will require different math, but the overall process and interpretation (with a frequentist approach) will be the same.\n",
        "\n",
        "Your assignment - using the data from the prior module ([congressional voting records](https://archive.ics.uci.edu/ml/datasets/Congressional+Voting+Records)):\n",
        "\n",
        "\n",
        "### Confidence Intervals:\n",
        "1. Generate and numerically represent a confidence interval\n",
        "2. Graphically (with a plot) represent the confidence interval\n",
        "3. Interpret the confidence interval - what does it tell you about the data and its distribution?\n",
        "\n",
        "### Chi-squared tests:\n",
        "4. Take a dataset that we have used in the past in class that has **categorical** variables. Pick two of those categorical variables and run a chi-squared tests on that data\n",
        "  - By hand using Numpy\n",
        "  - In a single line using Scipy\n"
      ]
    },
    {
      "cell_type": "code",
      "metadata": {
        "id": "Ckcr4A4FM7cs",
        "colab_type": "code",
        "outputId": "0c5cc5ec-3acd-48ca-f822-3057bd72cdb6",
        "colab": {
          "base_uri": "https://localhost:8080/",
          "height": 50
        }
      },
      "source": [
        "import pandas as pd\n",
        "import numpy as np\n",
        "from scipy.stats import t, ttest_1samp\n",
        "import matplotlib.pyplot as plt\n",
        "import seaborn as sns\n"
      ],
      "execution_count": 36,
      "outputs": [
        {
          "output_type": "stream",
          "text": [
            "/usr/local/lib/python3.6/dist-packages/statsmodels/tools/_testing.py:19: FutureWarning: pandas.util.testing is deprecated. Use the functions in the public API at pandas.testing instead.\n",
            "  import pandas.util.testing as tm\n"
          ],
          "name": "stderr"
        }
      ]
    },
    {
      "cell_type": "code",
      "metadata": {
        "id": "lbMf446NIGM2",
        "colab_type": "code",
        "outputId": "98432b15-8ad0-4583-c187-27b417616dd5",
        "colab": {
          "base_uri": "https://localhost:8080/",
          "height": 196
        }
      },
      "source": [
        "!wget https://archive.ics.uci.edu/ml/machine-learning-databases/voting-records/house-votes-84.data"
      ],
      "execution_count": 37,
      "outputs": [
        {
          "output_type": "stream",
          "text": [
            "--2020-04-15 00:03:28--  https://archive.ics.uci.edu/ml/machine-learning-databases/voting-records/house-votes-84.data\n",
            "Resolving archive.ics.uci.edu (archive.ics.uci.edu)... 128.195.10.252\n",
            "Connecting to archive.ics.uci.edu (archive.ics.uci.edu)|128.195.10.252|:443... connected.\n",
            "HTTP request sent, awaiting response... 200 OK\n",
            "Length: 18171 (18K) [application/x-httpd-php]\n",
            "Saving to: ‘house-votes-84.data’\n",
            "\n",
            "\rhouse-votes-84.data   0%[                    ]       0  --.-KB/s               \rhouse-votes-84.data 100%[===================>]  17.75K  --.-KB/s    in 0.03s   \n",
            "\n",
            "2020-04-15 00:03:28 (630 KB/s) - ‘house-votes-84.data’ saved [18171/18171]\n",
            "\n"
          ],
          "name": "stdout"
        }
      ]
    },
    {
      "cell_type": "code",
      "metadata": {
        "id": "GLCI1CurIw6D",
        "colab_type": "code",
        "outputId": "dcc24ea7-442e-4faf-afdb-53123f7603ad",
        "colab": {
          "base_uri": "https://localhost:8080/",
          "height": 223
        }
      },
      "source": [
        "column_headers = ['party','handicapped-infants','water-project',\n",
        "                  'budget','physician-fee-freeze', 'el-salvador-aid',\n",
        "                  'religious-groups','anti-satellite-ban',\n",
        "                  'aid-to-contras','mx-missile','immigration',\n",
        "                  'synfuels', 'education', 'right-to-sue','crime','duty-free',\n",
        "                  'south-africa']\n",
        "\n",
        "df=pd.read_csv('house-votes-84.data', names=column_headers)\n",
        "\n",
        "print(df.shape)\n",
        "df.head()"
      ],
      "execution_count": 38,
      "outputs": [
        {
          "output_type": "stream",
          "text": [
            "(435, 17)\n"
          ],
          "name": "stdout"
        },
        {
          "output_type": "execute_result",
          "data": {
            "text/html": [
              "<div>\n",
              "<style scoped>\n",
              "    .dataframe tbody tr th:only-of-type {\n",
              "        vertical-align: middle;\n",
              "    }\n",
              "\n",
              "    .dataframe tbody tr th {\n",
              "        vertical-align: top;\n",
              "    }\n",
              "\n",
              "    .dataframe thead th {\n",
              "        text-align: right;\n",
              "    }\n",
              "</style>\n",
              "<table border=\"1\" class=\"dataframe\">\n",
              "  <thead>\n",
              "    <tr style=\"text-align: right;\">\n",
              "      <th></th>\n",
              "      <th>party</th>\n",
              "      <th>handicapped-infants</th>\n",
              "      <th>water-project</th>\n",
              "      <th>budget</th>\n",
              "      <th>physician-fee-freeze</th>\n",
              "      <th>el-salvador-aid</th>\n",
              "      <th>religious-groups</th>\n",
              "      <th>anti-satellite-ban</th>\n",
              "      <th>aid-to-contras</th>\n",
              "      <th>mx-missile</th>\n",
              "      <th>immigration</th>\n",
              "      <th>synfuels</th>\n",
              "      <th>education</th>\n",
              "      <th>right-to-sue</th>\n",
              "      <th>crime</th>\n",
              "      <th>duty-free</th>\n",
              "      <th>south-africa</th>\n",
              "    </tr>\n",
              "  </thead>\n",
              "  <tbody>\n",
              "    <tr>\n",
              "      <th>0</th>\n",
              "      <td>republican</td>\n",
              "      <td>n</td>\n",
              "      <td>y</td>\n",
              "      <td>n</td>\n",
              "      <td>y</td>\n",
              "      <td>y</td>\n",
              "      <td>y</td>\n",
              "      <td>n</td>\n",
              "      <td>n</td>\n",
              "      <td>n</td>\n",
              "      <td>y</td>\n",
              "      <td>?</td>\n",
              "      <td>y</td>\n",
              "      <td>y</td>\n",
              "      <td>y</td>\n",
              "      <td>n</td>\n",
              "      <td>y</td>\n",
              "    </tr>\n",
              "    <tr>\n",
              "      <th>1</th>\n",
              "      <td>republican</td>\n",
              "      <td>n</td>\n",
              "      <td>y</td>\n",
              "      <td>n</td>\n",
              "      <td>y</td>\n",
              "      <td>y</td>\n",
              "      <td>y</td>\n",
              "      <td>n</td>\n",
              "      <td>n</td>\n",
              "      <td>n</td>\n",
              "      <td>n</td>\n",
              "      <td>n</td>\n",
              "      <td>y</td>\n",
              "      <td>y</td>\n",
              "      <td>y</td>\n",
              "      <td>n</td>\n",
              "      <td>?</td>\n",
              "    </tr>\n",
              "    <tr>\n",
              "      <th>2</th>\n",
              "      <td>democrat</td>\n",
              "      <td>?</td>\n",
              "      <td>y</td>\n",
              "      <td>y</td>\n",
              "      <td>?</td>\n",
              "      <td>y</td>\n",
              "      <td>y</td>\n",
              "      <td>n</td>\n",
              "      <td>n</td>\n",
              "      <td>n</td>\n",
              "      <td>n</td>\n",
              "      <td>y</td>\n",
              "      <td>n</td>\n",
              "      <td>y</td>\n",
              "      <td>y</td>\n",
              "      <td>n</td>\n",
              "      <td>n</td>\n",
              "    </tr>\n",
              "    <tr>\n",
              "      <th>3</th>\n",
              "      <td>democrat</td>\n",
              "      <td>n</td>\n",
              "      <td>y</td>\n",
              "      <td>y</td>\n",
              "      <td>n</td>\n",
              "      <td>?</td>\n",
              "      <td>y</td>\n",
              "      <td>n</td>\n",
              "      <td>n</td>\n",
              "      <td>n</td>\n",
              "      <td>n</td>\n",
              "      <td>y</td>\n",
              "      <td>n</td>\n",
              "      <td>y</td>\n",
              "      <td>n</td>\n",
              "      <td>n</td>\n",
              "      <td>y</td>\n",
              "    </tr>\n",
              "    <tr>\n",
              "      <th>4</th>\n",
              "      <td>democrat</td>\n",
              "      <td>y</td>\n",
              "      <td>y</td>\n",
              "      <td>y</td>\n",
              "      <td>n</td>\n",
              "      <td>y</td>\n",
              "      <td>y</td>\n",
              "      <td>n</td>\n",
              "      <td>n</td>\n",
              "      <td>n</td>\n",
              "      <td>n</td>\n",
              "      <td>y</td>\n",
              "      <td>?</td>\n",
              "      <td>y</td>\n",
              "      <td>y</td>\n",
              "      <td>y</td>\n",
              "      <td>y</td>\n",
              "    </tr>\n",
              "  </tbody>\n",
              "</table>\n",
              "</div>"
            ],
            "text/plain": [
              "        party handicapped-infants water-project  ... crime duty-free south-africa\n",
              "0  republican                   n             y  ...     y         n            y\n",
              "1  republican                   n             y  ...     y         n            ?\n",
              "2    democrat                   ?             y  ...     y         n            n\n",
              "3    democrat                   n             y  ...     n         n            y\n",
              "4    democrat                   y             y  ...     y         y            y\n",
              "\n",
              "[5 rows x 17 columns]"
            ]
          },
          "metadata": {
            "tags": []
          },
          "execution_count": 38
        }
      ]
    },
    {
      "cell_type": "code",
      "metadata": {
        "id": "HwjUb2XtI3LP",
        "colab_type": "code",
        "outputId": "99fdaa9a-7cd6-4c84-8cc8-84270d049884",
        "colab": {
          "base_uri": "https://localhost:8080/",
          "height": 207
        }
      },
      "source": [
        "df=df.replace({'y':1,'n':0,'?':np.NaN})\n",
        "df.head()"
      ],
      "execution_count": 39,
      "outputs": [
        {
          "output_type": "execute_result",
          "data": {
            "text/html": [
              "<div>\n",
              "<style scoped>\n",
              "    .dataframe tbody tr th:only-of-type {\n",
              "        vertical-align: middle;\n",
              "    }\n",
              "\n",
              "    .dataframe tbody tr th {\n",
              "        vertical-align: top;\n",
              "    }\n",
              "\n",
              "    .dataframe thead th {\n",
              "        text-align: right;\n",
              "    }\n",
              "</style>\n",
              "<table border=\"1\" class=\"dataframe\">\n",
              "  <thead>\n",
              "    <tr style=\"text-align: right;\">\n",
              "      <th></th>\n",
              "      <th>party</th>\n",
              "      <th>handicapped-infants</th>\n",
              "      <th>water-project</th>\n",
              "      <th>budget</th>\n",
              "      <th>physician-fee-freeze</th>\n",
              "      <th>el-salvador-aid</th>\n",
              "      <th>religious-groups</th>\n",
              "      <th>anti-satellite-ban</th>\n",
              "      <th>aid-to-contras</th>\n",
              "      <th>mx-missile</th>\n",
              "      <th>immigration</th>\n",
              "      <th>synfuels</th>\n",
              "      <th>education</th>\n",
              "      <th>right-to-sue</th>\n",
              "      <th>crime</th>\n",
              "      <th>duty-free</th>\n",
              "      <th>south-africa</th>\n",
              "    </tr>\n",
              "  </thead>\n",
              "  <tbody>\n",
              "    <tr>\n",
              "      <th>0</th>\n",
              "      <td>republican</td>\n",
              "      <td>0.0</td>\n",
              "      <td>1.0</td>\n",
              "      <td>0.0</td>\n",
              "      <td>1.0</td>\n",
              "      <td>1.0</td>\n",
              "      <td>1.0</td>\n",
              "      <td>0.0</td>\n",
              "      <td>0.0</td>\n",
              "      <td>0.0</td>\n",
              "      <td>1.0</td>\n",
              "      <td>NaN</td>\n",
              "      <td>1.0</td>\n",
              "      <td>1.0</td>\n",
              "      <td>1.0</td>\n",
              "      <td>0.0</td>\n",
              "      <td>1.0</td>\n",
              "    </tr>\n",
              "    <tr>\n",
              "      <th>1</th>\n",
              "      <td>republican</td>\n",
              "      <td>0.0</td>\n",
              "      <td>1.0</td>\n",
              "      <td>0.0</td>\n",
              "      <td>1.0</td>\n",
              "      <td>1.0</td>\n",
              "      <td>1.0</td>\n",
              "      <td>0.0</td>\n",
              "      <td>0.0</td>\n",
              "      <td>0.0</td>\n",
              "      <td>0.0</td>\n",
              "      <td>0.0</td>\n",
              "      <td>1.0</td>\n",
              "      <td>1.0</td>\n",
              "      <td>1.0</td>\n",
              "      <td>0.0</td>\n",
              "      <td>NaN</td>\n",
              "    </tr>\n",
              "    <tr>\n",
              "      <th>2</th>\n",
              "      <td>democrat</td>\n",
              "      <td>NaN</td>\n",
              "      <td>1.0</td>\n",
              "      <td>1.0</td>\n",
              "      <td>NaN</td>\n",
              "      <td>1.0</td>\n",
              "      <td>1.0</td>\n",
              "      <td>0.0</td>\n",
              "      <td>0.0</td>\n",
              "      <td>0.0</td>\n",
              "      <td>0.0</td>\n",
              "      <td>1.0</td>\n",
              "      <td>0.0</td>\n",
              "      <td>1.0</td>\n",
              "      <td>1.0</td>\n",
              "      <td>0.0</td>\n",
              "      <td>0.0</td>\n",
              "    </tr>\n",
              "    <tr>\n",
              "      <th>3</th>\n",
              "      <td>democrat</td>\n",
              "      <td>0.0</td>\n",
              "      <td>1.0</td>\n",
              "      <td>1.0</td>\n",
              "      <td>0.0</td>\n",
              "      <td>NaN</td>\n",
              "      <td>1.0</td>\n",
              "      <td>0.0</td>\n",
              "      <td>0.0</td>\n",
              "      <td>0.0</td>\n",
              "      <td>0.0</td>\n",
              "      <td>1.0</td>\n",
              "      <td>0.0</td>\n",
              "      <td>1.0</td>\n",
              "      <td>0.0</td>\n",
              "      <td>0.0</td>\n",
              "      <td>1.0</td>\n",
              "    </tr>\n",
              "    <tr>\n",
              "      <th>4</th>\n",
              "      <td>democrat</td>\n",
              "      <td>1.0</td>\n",
              "      <td>1.0</td>\n",
              "      <td>1.0</td>\n",
              "      <td>0.0</td>\n",
              "      <td>1.0</td>\n",
              "      <td>1.0</td>\n",
              "      <td>0.0</td>\n",
              "      <td>0.0</td>\n",
              "      <td>0.0</td>\n",
              "      <td>0.0</td>\n",
              "      <td>1.0</td>\n",
              "      <td>NaN</td>\n",
              "      <td>1.0</td>\n",
              "      <td>1.0</td>\n",
              "      <td>1.0</td>\n",
              "      <td>1.0</td>\n",
              "    </tr>\n",
              "  </tbody>\n",
              "</table>\n",
              "</div>"
            ],
            "text/plain": [
              "        party  handicapped-infants  ...  duty-free  south-africa\n",
              "0  republican                  0.0  ...        0.0           1.0\n",
              "1  republican                  0.0  ...        0.0           NaN\n",
              "2    democrat                  NaN  ...        0.0           0.0\n",
              "3    democrat                  0.0  ...        0.0           1.0\n",
              "4    democrat                  1.0  ...        1.0           1.0\n",
              "\n",
              "[5 rows x 17 columns]"
            ]
          },
          "metadata": {
            "tags": []
          },
          "execution_count": 39
        }
      ]
    },
    {
      "cell_type": "code",
      "metadata": {
        "id": "vHz3VWocI5br",
        "colab_type": "code",
        "colab": {}
      },
      "source": [
        "dem = df[df['party']=='democrat']\n",
        "rep = df[df['party']=='republican']"
      ],
      "execution_count": 0,
      "outputs": []
    },
    {
      "cell_type": "markdown",
      "metadata": {
        "id": "ZcnGweFxJ5ER",
        "colab_type": "text"
      },
      "source": [
        "1. Generate and numerically represent a confidence interval\n",
        "2. Graphically (with a plot) represent the confidence interval\n",
        "3. Interpret the confidence interval - what does it tell you about the data and its distribution?"
      ]
    },
    {
      "cell_type": "code",
      "metadata": {
        "id": "HSPtI5mjJXmD",
        "colab_type": "code",
        "colab": {}
      },
      "source": [
        "x = dem['physician-fee-freeze']\n",
        "\n",
        "def conf_interval(x):\n",
        "  n=len(x)\n",
        "\n",
        "  dof = n-1\n",
        "  mean = np.mean(x)\n",
        "  sample_std = np.std(x, ddof=1)\n",
        "  std_err = sample_std/n**.5\n",
        "  CI = t.interval(.95, dof, loc=mean, scale=std_err)\n",
        "  return CI, mean, std_err"
      ],
      "execution_count": 0,
      "outputs": []
    },
    {
      "cell_type": "code",
      "metadata": {
        "id": "f7KitWj6KqPU",
        "colab_type": "code",
        "colab": {}
      },
      "source": [
        "# n #267\n",
        "# mean #0.05405405405405406\n",
        "# std_err #0.013865377375546896\n",
        "# print(\"95% CI: \", CI)"
      ],
      "execution_count": 0,
      "outputs": []
    },
    {
      "cell_type": "code",
      "metadata": {
        "id": "3QGcRkPLQGlf",
        "colab_type": "code",
        "outputId": "ce89a6b0-19d9-426c-9765-918b74073586",
        "colab": {
          "base_uri": "https://localhost:8080/",
          "height": 50
        }
      },
      "source": [
        "column_name = 'education'\n",
        "x = dem[column_name].dropna()\n",
        "CI, mean_dem, std_err = conf_interval(x)\n",
        "lower = CI[0]\n",
        "upper = CI[1]\n",
        "moe_dem = mean_dem - lower\n",
        "print(\"CI of democrats' position on\", column_name, \": \", CI)\n",
        "\n",
        "x = rep[column_name].dropna()\n",
        "CI, mean_rep, std_err = conf_interval(x)\n",
        "lower = CI[0]\n",
        "upper = CI[1]\n",
        "moe_rep = mean_rep - lower\n",
        "print(\"CI of republicans' position on\", column_name, \": \", CI)\n",
        "\n",
        "# print(plt.errorbar([\"dem\"], mean_dem, yerr=moe_dem, fmt='o')\n",
        "# plt.errorbar([\"rep\"], mean_rep, yerr=moe_rep, fmt='o')\n"
      ],
      "execution_count": 42,
      "outputs": [
        {
          "output_type": "stream",
          "text": [
            "CI of democrats' position on education :  (0.1005949402232755, 0.18856168628274858)\n",
            "CI of republicans' position on education :  (0.8176017935029392, 0.9243336903680286)\n"
          ],
          "name": "stdout"
        }
      ]
    },
    {
      "cell_type": "code",
      "metadata": {
        "id": "GeCpM0oKZavY",
        "colab_type": "code",
        "outputId": "26b668d9-0003-44ed-ad82-f32c38c4e778",
        "colab": {
          "base_uri": "https://localhost:8080/",
          "height": 281
        }
      },
      "source": [
        "\n",
        "plt.errorbar([\"dem\"], mean_dem, yerr=moe_dem, fmt='o')\n",
        "plt.errorbar([\"rep\"], mean_rep, yerr=moe_rep, fmt='o')\n"
      ],
      "execution_count": 43,
      "outputs": [
        {
          "output_type": "execute_result",
          "data": {
            "text/plain": [
              "<ErrorbarContainer object of 3 artists>"
            ]
          },
          "metadata": {
            "tags": []
          },
          "execution_count": 43
        },
        {
          "output_type": "display_data",
          "data": {
            "image/png": "[encoded data removed]",
            "text/plain": [
              "<Figure size 432x288 with 1 Axes>"
            ]
          },
          "metadata": {
            "tags": [],
            "needs_background": "light"
          }
        }
      ]
    },
    {
      "cell_type": "code",
      "metadata": {
        "id": "n2bgjTNhWAlC",
        "colab_type": "code",
        "outputId": "899e170c-a600-489e-d89d-2db9b2f89f31",
        "colab": {
          "base_uri": "https://localhost:8080/",
          "height": 265
        }
      },
      "source": [
        "plt.bar(0, mean_dem, yerr=moe_dem)\n",
        "plt.bar(1, mean_rep, yerr=moe_rep)\n",
        "plt.show()"
      ],
      "execution_count": 44,
      "outputs": [
        {
          "output_type": "display_data",
          "data": {
            "image/png": "[encoded data removed]",
            "text/plain": [
              "<Figure size 432x288 with 1 Axes>"
            ]
          },
          "metadata": {
            "tags": [],
            "needs_background": "light"
          }
        }
      ]
    },
    {
      "cell_type": "markdown",
      "metadata": {
        "id": "pzVqK0WudN45",
        "colab_type": "text"
      },
      "source": [
        "**Interpreting the confidence interval**\n",
        "\n",
        "There is a 95% chance that 0.1005949402232755, 0.18856168628274858) captures the mean position of democrats position on physician fee freezes.\n",
        "\n",
        "There is a 95% chance that (0.8176017935029392, 0.9243336903680286) captures the mean position of republican position on physician fee freezes.  \n",
        "\n"
      ]
    },
    {
      "cell_type": "code",
      "metadata": {
        "id": "TQDsO6UoJOeu",
        "colab_type": "code",
        "colab": {}
      },
      "source": [
        ""
      ],
      "execution_count": 0,
      "outputs": []
    },
    {
      "cell_type": "markdown",
      "metadata": {
        "id": "afTNF1p6e3Wg",
        "colab_type": "text"
      },
      "source": [
        "Take a dataset that we have used in the past in class that has categorical variables. Pick two of those categorical variables and run a chi-squared tests on that data:\n"
      ]
    },
    {
      "cell_type": "markdown",
      "metadata": {
        "id": "uH4KiA8JJL-Y",
        "colab_type": "text"
      },
      "source": [
        "**By hand using Numpy**"
      ]
    },
    {
      "cell_type": "code",
      "metadata": {
        "id": "-C7-z_kzexFQ",
        "colab_type": "code",
        "outputId": "bad67a18-e879-41e3-d98c-210f7b237983",
        "colab": {
          "base_uri": "https://localhost:8080/",
          "height": 207
        }
      },
      "source": [
        "import pandas as pd\n",
        "column_headers = ['age', 'workclass', 'fnlwgt', 'education', 'education-num', \n",
        "                 'marital-status', 'occupation', 'relationship', 'race', 'sex', \n",
        "                 'capital-gain',  'capital-loss', 'hours-per-week', \n",
        "                 'native-country', 'income']\n",
        "\n",
        "adult_dataset = 'https://raw.githubusercontent.com/ryanleeallred/datasets/master/adult_original.data'\n",
        "\n",
        "df = pd.read_csv(adult_dataset, names=column_headers)\n",
        "print(df.shape)\n",
        "df.head(5)"
      ],
      "execution_count": 3,
      "outputs": [
        {
          "output_type": "stream",
          "text": [
            "(32561, 15)\n"
          ],
          "name": "stdout"
        },
        {
          "output_type": "execute_result",
          "data": {
            "text/html": [
              "<div>\n",
              "<style scoped>\n",
              "    .dataframe tbody tr th:only-of-type {\n",
              "        vertical-align: middle;\n",
              "    }\n",
              "\n",
              "    .dataframe tbody tr th {\n",
              "        vertical-align: top;\n",
              "    }\n",
              "\n",
              "    .dataframe thead th {\n",
              "        text-align: right;\n",
              "    }\n",
              "</style>\n",
              "<table border=\"1\" class=\"dataframe\">\n",
              "  <thead>\n",
              "    <tr style=\"text-align: right;\">\n",
              "      <th></th>\n",
              "      <th>age</th>\n",
              "      <th>workclass</th>\n",
              "      <th>fnlwgt</th>\n",
              "      <th>education</th>\n",
              "      <th>education-num</th>\n",
              "      <th>marital-status</th>\n",
              "      <th>occupation</th>\n",
              "      <th>relationship</th>\n",
              "      <th>race</th>\n",
              "      <th>sex</th>\n",
              "      <th>capital-gain</th>\n",
              "      <th>capital-loss</th>\n",
              "      <th>hours-per-week</th>\n",
              "      <th>native-country</th>\n",
              "      <th>income</th>\n",
              "    </tr>\n",
              "  </thead>\n",
              "  <tbody>\n",
              "    <tr>\n",
              "      <th>0</th>\n",
              "      <td>39</td>\n",
              "      <td>State-gov</td>\n",
              "      <td>77516</td>\n",
              "      <td>Bachelors</td>\n",
              "      <td>13</td>\n",
              "      <td>Never-married</td>\n",
              "      <td>Adm-clerical</td>\n",
              "      <td>Not-in-family</td>\n",
              "      <td>White</td>\n",
              "      <td>Male</td>\n",
              "      <td>2174</td>\n",
              "      <td>0</td>\n",
              "      <td>40</td>\n",
              "      <td>United-States</td>\n",
              "      <td>&lt;=50K</td>\n",
              "    </tr>\n",
              "    <tr>\n",
              "      <th>1</th>\n",
              "      <td>50</td>\n",
              "      <td>Self-emp-not-inc</td>\n",
              "      <td>83311</td>\n",
              "      <td>Bachelors</td>\n",
              "      <td>13</td>\n",
              "      <td>Married-civ-spouse</td>\n",
              "      <td>Exec-managerial</td>\n",
              "      <td>Husband</td>\n",
              "      <td>White</td>\n",
              "      <td>Male</td>\n",
              "      <td>0</td>\n",
              "      <td>0</td>\n",
              "      <td>13</td>\n",
              "      <td>United-States</td>\n",
              "      <td>&lt;=50K</td>\n",
              "    </tr>\n",
              "    <tr>\n",
              "      <th>2</th>\n",
              "      <td>38</td>\n",
              "      <td>Private</td>\n",
              "      <td>215646</td>\n",
              "      <td>HS-grad</td>\n",
              "      <td>9</td>\n",
              "      <td>Divorced</td>\n",
              "      <td>Handlers-cleaners</td>\n",
              "      <td>Not-in-family</td>\n",
              "      <td>White</td>\n",
              "      <td>Male</td>\n",
              "      <td>0</td>\n",
              "      <td>0</td>\n",
              "      <td>40</td>\n",
              "      <td>United-States</td>\n",
              "      <td>&lt;=50K</td>\n",
              "    </tr>\n",
              "    <tr>\n",
              "      <th>3</th>\n",
              "      <td>53</td>\n",
              "      <td>Private</td>\n",
              "      <td>234721</td>\n",
              "      <td>11th</td>\n",
              "      <td>7</td>\n",
              "      <td>Married-civ-spouse</td>\n",
              "      <td>Handlers-cleaners</td>\n",
              "      <td>Husband</td>\n",
              "      <td>Black</td>\n",
              "      <td>Male</td>\n",
              "      <td>0</td>\n",
              "      <td>0</td>\n",
              "      <td>40</td>\n",
              "      <td>United-States</td>\n",
              "      <td>&lt;=50K</td>\n",
              "    </tr>\n",
              "    <tr>\n",
              "      <th>4</th>\n",
              "      <td>28</td>\n",
              "      <td>Private</td>\n",
              "      <td>338409</td>\n",
              "      <td>Bachelors</td>\n",
              "      <td>13</td>\n",
              "      <td>Married-civ-spouse</td>\n",
              "      <td>Prof-specialty</td>\n",
              "      <td>Wife</td>\n",
              "      <td>Black</td>\n",
              "      <td>Female</td>\n",
              "      <td>0</td>\n",
              "      <td>0</td>\n",
              "      <td>40</td>\n",
              "      <td>Cuba</td>\n",
              "      <td>&lt;=50K</td>\n",
              "    </tr>\n",
              "  </tbody>\n",
              "</table>\n",
              "</div>"
            ],
            "text/plain": [
              "   age          workclass  fnlwgt  ... hours-per-week  native-country  income\n",
              "0   39          State-gov   77516  ...             40   United-States   <=50K\n",
              "1   50   Self-emp-not-inc   83311  ...             13   United-States   <=50K\n",
              "2   38            Private  215646  ...             40   United-States   <=50K\n",
              "3   53            Private  234721  ...             40   United-States   <=50K\n",
              "4   28            Private  338409  ...             40            Cuba   <=50K\n",
              "\n",
              "[5 rows x 15 columns]"
            ]
          },
          "metadata": {
            "tags": []
          },
          "execution_count": 3
        }
      ]
    },
    {
      "cell_type": "code",
      "metadata": {
        "id": "iX3ggzCV50vy",
        "colab_type": "code",
        "colab": {
          "base_uri": "https://localhost:8080/",
          "height": 293
        },
        "outputId": "67f699a6-e112-477c-e4cd-459d5a33214b"
      },
      "source": [
        "df['education-num'].value_counts().sort_index()"
      ],
      "execution_count": 6,
      "outputs": [
        {
          "output_type": "execute_result",
          "data": {
            "text/plain": [
              "1        51\n",
              "2       168\n",
              "3       333\n",
              "4       646\n",
              "5       514\n",
              "6       933\n",
              "7      1175\n",
              "8       433\n",
              "9     10501\n",
              "10     7291\n",
              "11     1382\n",
              "12     1067\n",
              "13     5355\n",
              "14     1723\n",
              "15      576\n",
              "16      413\n",
              "Name: education-num, dtype: int64"
            ]
          },
          "metadata": {
            "tags": []
          },
          "execution_count": 6
        }
      ]
    },
    {
      "cell_type": "code",
      "metadata": {
        "id": "CduYSALD6db7",
        "colab_type": "code",
        "colab": {}
      },
      "source": [
        "df['workclass'].value_counts().sort_index()"
      ],
      "execution_count": 0,
      "outputs": []
    },
    {
      "cell_type": "code",
      "metadata": {
        "id": "xtPEXt2w7Rit",
        "colab_type": "code",
        "colab": {}
      },
      "source": [
        "import numpy as np\n",
        "def clean_emp_title(title):\n",
        "  if isinstance(title, str):\n",
        "    if title.strip().title() == '?':\n",
        "      return np.NaN\n",
        "    else:\n",
        "      return title.strip().title()\n",
        "  else: \n",
        "    return \"Unknown\"\n",
        "\n",
        "df['workclass'] = df['workclass'].apply(clean_emp_title)"
      ],
      "execution_count": 0,
      "outputs": []
    },
    {
      "cell_type": "code",
      "metadata": {
        "id": "O9U8VPtF7csP",
        "colab_type": "code",
        "colab": {
          "base_uri": "https://localhost:8080/",
          "height": 163
        },
        "outputId": "26ad667e-d383-4e98-bbda-52aacfad6d46"
      },
      "source": [
        "df['workclass'].value_counts().sort_index()"
      ],
      "execution_count": 16,
      "outputs": [
        {
          "output_type": "execute_result",
          "data": {
            "text/plain": [
              "Federal-Gov           960\n",
              "Local-Gov            2093\n",
              "Never-Worked            7\n",
              "Private             22696\n",
              "Self-Emp-Inc         1116\n",
              "Self-Emp-Not-Inc     2541\n",
              "State-Gov            1298\n",
              "Without-Pay            14\n",
              "Name: workclass, dtype: int64"
            ]
          },
          "metadata": {
            "tags": []
          },
          "execution_count": 16
        }
      ]
    },
    {
      "cell_type": "code",
      "metadata": {
        "id": "9diECAL3ILgB",
        "colab_type": "code",
        "colab": {}
      },
      "source": [
        "observed = pd.crosstab(df['education-num'],df['workclass'])"
      ],
      "execution_count": 0,
      "outputs": []
    },
    {
      "cell_type": "code",
      "metadata": {
        "id": "nas-2h9J8MEB",
        "colab_type": "code",
        "colab": {
          "base_uri": "https://localhost:8080/",
          "height": 565
        },
        "outputId": "e9048c1f-39e3-4d43-f0c4-c4c6b34228a8"
      },
      "source": [
        "observed_margins = pd.crosstab(df['education-num'],df['workclass'], margins=True)\n",
        "observed_margins"
      ],
      "execution_count": 19,
      "outputs": [
        {
          "output_type": "execute_result",
          "data": {
            "text/html": [
              "<div>\n",
              "<style scoped>\n",
              "    .dataframe tbody tr th:only-of-type {\n",
              "        vertical-align: middle;\n",
              "    }\n",
              "\n",
              "    .dataframe tbody tr th {\n",
              "        vertical-align: top;\n",
              "    }\n",
              "\n",
              "    .dataframe thead th {\n",
              "        text-align: right;\n",
              "    }\n",
              "</style>\n",
              "<table border=\"1\" class=\"dataframe\">\n",
              "  <thead>\n",
              "    <tr style=\"text-align: right;\">\n",
              "      <th>workclass</th>\n",
              "      <th>Federal-Gov</th>\n",
              "      <th>Local-Gov</th>\n",
              "      <th>Never-Worked</th>\n",
              "      <th>Private</th>\n",
              "      <th>Self-Emp-Inc</th>\n",
              "      <th>Self-Emp-Not-Inc</th>\n",
              "      <th>State-Gov</th>\n",
              "      <th>Without-Pay</th>\n",
              "      <th>All</th>\n",
              "    </tr>\n",
              "    <tr>\n",
              "      <th>education-num</th>\n",
              "      <th></th>\n",
              "      <th></th>\n",
              "      <th></th>\n",
              "      <th></th>\n",
              "      <th></th>\n",
              "      <th></th>\n",
              "      <th></th>\n",
              "      <th></th>\n",
              "      <th></th>\n",
              "    </tr>\n",
              "  </thead>\n",
              "  <tbody>\n",
              "    <tr>\n",
              "      <th>1</th>\n",
              "      <td>0</td>\n",
              "      <td>4</td>\n",
              "      <td>0</td>\n",
              "      <td>41</td>\n",
              "      <td>0</td>\n",
              "      <td>0</td>\n",
              "      <td>1</td>\n",
              "      <td>0</td>\n",
              "      <td>46</td>\n",
              "    </tr>\n",
              "    <tr>\n",
              "      <th>2</th>\n",
              "      <td>0</td>\n",
              "      <td>4</td>\n",
              "      <td>0</td>\n",
              "      <td>136</td>\n",
              "      <td>2</td>\n",
              "      <td>13</td>\n",
              "      <td>1</td>\n",
              "      <td>0</td>\n",
              "      <td>156</td>\n",
              "    </tr>\n",
              "    <tr>\n",
              "      <th>3</th>\n",
              "      <td>1</td>\n",
              "      <td>9</td>\n",
              "      <td>0</td>\n",
              "      <td>266</td>\n",
              "      <td>4</td>\n",
              "      <td>19</td>\n",
              "      <td>4</td>\n",
              "      <td>0</td>\n",
              "      <td>303</td>\n",
              "    </tr>\n",
              "    <tr>\n",
              "      <th>4</th>\n",
              "      <td>2</td>\n",
              "      <td>28</td>\n",
              "      <td>1</td>\n",
              "      <td>424</td>\n",
              "      <td>14</td>\n",
              "      <td>94</td>\n",
              "      <td>10</td>\n",
              "      <td>1</td>\n",
              "      <td>574</td>\n",
              "    </tr>\n",
              "    <tr>\n",
              "      <th>5</th>\n",
              "      <td>3</td>\n",
              "      <td>23</td>\n",
              "      <td>0</td>\n",
              "      <td>387</td>\n",
              "      <td>10</td>\n",
              "      <td>34</td>\n",
              "      <td>6</td>\n",
              "      <td>0</td>\n",
              "      <td>463</td>\n",
              "    </tr>\n",
              "    <tr>\n",
              "      <th>6</th>\n",
              "      <td>6</td>\n",
              "      <td>31</td>\n",
              "      <td>2</td>\n",
              "      <td>695</td>\n",
              "      <td>19</td>\n",
              "      <td>67</td>\n",
              "      <td>13</td>\n",
              "      <td>0</td>\n",
              "      <td>833</td>\n",
              "    </tr>\n",
              "    <tr>\n",
              "      <th>7</th>\n",
              "      <td>9</td>\n",
              "      <td>36</td>\n",
              "      <td>1</td>\n",
              "      <td>923</td>\n",
              "      <td>14</td>\n",
              "      <td>60</td>\n",
              "      <td>14</td>\n",
              "      <td>0</td>\n",
              "      <td>1057</td>\n",
              "    </tr>\n",
              "    <tr>\n",
              "      <th>8</th>\n",
              "      <td>5</td>\n",
              "      <td>19</td>\n",
              "      <td>0</td>\n",
              "      <td>333</td>\n",
              "      <td>7</td>\n",
              "      <td>19</td>\n",
              "      <td>10</td>\n",
              "      <td>0</td>\n",
              "      <td>393</td>\n",
              "    </tr>\n",
              "    <tr>\n",
              "      <th>9</th>\n",
              "      <td>263</td>\n",
              "      <td>503</td>\n",
              "      <td>1</td>\n",
              "      <td>7780</td>\n",
              "      <td>279</td>\n",
              "      <td>866</td>\n",
              "      <td>268</td>\n",
              "      <td>9</td>\n",
              "      <td>9969</td>\n",
              "    </tr>\n",
              "    <tr>\n",
              "      <th>10</th>\n",
              "      <td>254</td>\n",
              "      <td>387</td>\n",
              "      <td>2</td>\n",
              "      <td>5094</td>\n",
              "      <td>226</td>\n",
              "      <td>486</td>\n",
              "      <td>325</td>\n",
              "      <td>3</td>\n",
              "      <td>6777</td>\n",
              "    </tr>\n",
              "    <tr>\n",
              "      <th>11</th>\n",
              "      <td>38</td>\n",
              "      <td>86</td>\n",
              "      <td>0</td>\n",
              "      <td>1005</td>\n",
              "      <td>38</td>\n",
              "      <td>108</td>\n",
              "      <td>46</td>\n",
              "      <td>0</td>\n",
              "      <td>1321</td>\n",
              "    </tr>\n",
              "    <tr>\n",
              "      <th>12</th>\n",
              "      <td>55</td>\n",
              "      <td>88</td>\n",
              "      <td>0</td>\n",
              "      <td>729</td>\n",
              "      <td>35</td>\n",
              "      <td>71</td>\n",
              "      <td>41</td>\n",
              "      <td>1</td>\n",
              "      <td>1020</td>\n",
              "    </tr>\n",
              "    <tr>\n",
              "      <th>13</th>\n",
              "      <td>212</td>\n",
              "      <td>477</td>\n",
              "      <td>0</td>\n",
              "      <td>3551</td>\n",
              "      <td>273</td>\n",
              "      <td>399</td>\n",
              "      <td>270</td>\n",
              "      <td>0</td>\n",
              "      <td>5182</td>\n",
              "    </tr>\n",
              "    <tr>\n",
              "      <th>14</th>\n",
              "      <td>67</td>\n",
              "      <td>342</td>\n",
              "      <td>0</td>\n",
              "      <td>894</td>\n",
              "      <td>79</td>\n",
              "      <td>124</td>\n",
              "      <td>169</td>\n",
              "      <td>0</td>\n",
              "      <td>1675</td>\n",
              "    </tr>\n",
              "    <tr>\n",
              "      <th>15</th>\n",
              "      <td>29</td>\n",
              "      <td>29</td>\n",
              "      <td>0</td>\n",
              "      <td>257</td>\n",
              "      <td>81</td>\n",
              "      <td>131</td>\n",
              "      <td>31</td>\n",
              "      <td>0</td>\n",
              "      <td>558</td>\n",
              "    </tr>\n",
              "    <tr>\n",
              "      <th>16</th>\n",
              "      <td>16</td>\n",
              "      <td>27</td>\n",
              "      <td>0</td>\n",
              "      <td>181</td>\n",
              "      <td>35</td>\n",
              "      <td>50</td>\n",
              "      <td>89</td>\n",
              "      <td>0</td>\n",
              "      <td>398</td>\n",
              "    </tr>\n",
              "    <tr>\n",
              "      <th>All</th>\n",
              "      <td>960</td>\n",
              "      <td>2093</td>\n",
              "      <td>7</td>\n",
              "      <td>22696</td>\n",
              "      <td>1116</td>\n",
              "      <td>2541</td>\n",
              "      <td>1298</td>\n",
              "      <td>14</td>\n",
              "      <td>30725</td>\n",
              "    </tr>\n",
              "  </tbody>\n",
              "</table>\n",
              "</div>"
            ],
            "text/plain": [
              "workclass      Federal-Gov  Local-Gov  ...  Without-Pay    All\n",
              "education-num                          ...                    \n",
              "1                        0          4  ...            0     46\n",
              "2                        0          4  ...            0    156\n",
              "3                        1          9  ...            0    303\n",
              "4                        2         28  ...            1    574\n",
              "5                        3         23  ...            0    463\n",
              "6                        6         31  ...            0    833\n",
              "7                        9         36  ...            0   1057\n",
              "8                        5         19  ...            0    393\n",
              "9                      263        503  ...            9   9969\n",
              "10                     254        387  ...            3   6777\n",
              "11                      38         86  ...            0   1321\n",
              "12                      55         88  ...            1   1020\n",
              "13                     212        477  ...            0   5182\n",
              "14                      67        342  ...            0   1675\n",
              "15                      29         29  ...            0    558\n",
              "16                      16         27  ...            0    398\n",
              "All                    960       2093  ...           14  30725\n",
              "\n",
              "[17 rows x 9 columns]"
            ]
          },
          "metadata": {
            "tags": []
          },
          "execution_count": 19
        }
      ]
    },
    {
      "cell_type": "code",
      "metadata": {
        "id": "qowrp0bm-uMr",
        "colab_type": "code",
        "colab": {}
      },
      "source": [
        "row_sums = observed_margins.iloc[0:16, 8:].values\n",
        "row_sums = row_sums.T[0]"
      ],
      "execution_count": 0,
      "outputs": []
    },
    {
      "cell_type": "code",
      "metadata": {
        "id": "6u_Ostl9GsvN",
        "colab_type": "code",
        "colab": {
          "base_uri": "https://localhost:8080/",
          "height": 33
        },
        "outputId": "8253c0bd-a811-44ed-e739-8d697872f406"
      },
      "source": [
        "col_sums = observed_margins.iloc[16:, 0:8].values\n",
        "col_sums = col_sums[0]\n",
        "\n",
        "col_sums"
      ],
      "execution_count": 26,
      "outputs": [
        {
          "output_type": "execute_result",
          "data": {
            "text/plain": [
              "array([  960,  2093,     7, 22696,  1116,  2541,  1298,    14])"
            ]
          },
          "metadata": {
            "tags": []
          },
          "execution_count": 26
        }
      ]
    },
    {
      "cell_type": "code",
      "metadata": {
        "id": "E2Yt8B7IHq-B",
        "colab_type": "code",
        "colab": {
          "base_uri": "https://localhost:8080/",
          "height": 33
        },
        "outputId": "77952dad-43bb-422e-ee06-9f0d8cd24d86"
      },
      "source": [
        "total_total = df.shape[0]\n",
        "\n",
        "total_total"
      ],
      "execution_count": 28,
      "outputs": [
        {
          "output_type": "execute_result",
          "data": {
            "text/plain": [
              "32561"
            ]
          },
          "metadata": {
            "tags": []
          },
          "execution_count": 28
        }
      ]
    },
    {
      "cell_type": "code",
      "metadata": {
        "id": "32qBeebwHzc1",
        "colab_type": "code",
        "colab": {
          "base_uri": "https://localhost:8080/",
          "height": 553
        },
        "outputId": "e35d5e47-cba5-4615-e2e1-fe008dd3a334"
      },
      "source": [
        "expected = []\n",
        "for i in range(len(row_sums)):\n",
        "  expected_row = []\n",
        "  for column in col_sums:\n",
        "    expected_val = column*row_sums[i]/total_total\n",
        "    expected_row.append(expected_val)\n",
        "  expected.append(expected_row)\n",
        "\n",
        "expected = np.array(expected)\n",
        "print(expected.shape)  \n",
        "print(expected)"
      ],
      "execution_count": 29,
      "outputs": [
        {
          "output_type": "stream",
          "text": [
            "(16, 8)\n",
            "[[1.35622370e+00 2.95685022e+00 9.88913117e-03 3.20633887e+01\n",
            "  1.57661005e+00 3.58975461e+00 1.83372747e+00 1.97782623e-02]\n",
            " [4.59936734e+00 1.00275790e+01 3.35370535e-02 1.08736710e+02\n",
            "  5.34676453e+00 1.21739504e+01 6.21872793e+00 6.70741071e-02]\n",
            " [8.93338657e+00 1.94766438e+01 6.51392770e-02 2.11200147e+02\n",
            "  1.03850619e+01 2.36455576e+01 1.20786831e+01 1.30278554e-01]\n",
            " [1.69233132e+01 3.68963484e+01 1.23399159e-01 4.00095329e+02\n",
            "  1.96733516e+01 4.47938945e+01 2.28817297e+01 2.46798317e-01]\n",
            " [1.36506864e+01 2.97613403e+01 9.95362550e-02 3.22724978e+02\n",
            "  1.58689229e+01 3.61316606e+01 1.84568656e+01 1.99072510e-01]\n",
            " [2.45594423e+01 5.35447007e+01 1.79079267e-01 5.80626148e+02\n",
            "  2.85503516e+01 6.50057738e+01 3.32064126e+01 3.58158533e-01]\n",
            " [3.11636620e+01 6.79432757e+01 2.27235036e-01 7.36760910e+02\n",
            "  3.62277571e+01 8.24863180e+01 4.21358681e+01 4.54470072e-01]\n",
            " [1.15868677e+01 2.52617856e+01 8.44875772e-02 2.73932864e+02\n",
            "  1.34697337e+01 3.06689905e+01 1.56664107e+01 1.68975154e-01]\n",
            " [2.93917263e+02 6.40800866e+02 2.14314671e+00 6.94869396e+03\n",
            "  3.41678818e+02 7.77962255e+02 3.97400633e+02 4.28629342e+00]\n",
            " [1.99807131e+02 4.35621173e+02 1.45692700e+00 4.72377359e+03\n",
            "  2.32275790e+02 5.28864500e+02 2.70155892e+02 2.91385400e+00]\n",
            " [3.89472068e+01 8.49130248e+01 2.83990049e-01 9.20776880e+02\n",
            "  4.52761279e+01 1.03088388e+02 5.26598692e+01 5.67980099e-01]\n",
            " [3.00727865e+01 6.55649397e+01 2.19280735e-01 7.10970793e+02\n",
            "  3.49596143e+01 7.95989067e+01 4.06609134e+01 4.38561469e-01]\n",
            " [1.52781548e+02 3.33095605e+02 1.11403212e+00 3.61201044e+03\n",
            "  1.77608550e+02 4.04393661e+02 2.06573385e+02 2.22806425e+00]\n",
            " [4.93842327e+01 1.07667916e+02 3.60093363e-01 1.16752557e+03\n",
            "  5.74091705e+01 1.30713891e+02 6.67715979e+01 7.20186726e-01]\n",
            " [1.64515832e+01 3.58678788e+01 1.19959461e-01 3.88942846e+02\n",
            "  1.91249654e+01 4.35452842e+01 2.22439114e+01 2.39918921e-01]\n",
            " [1.17342833e+01 2.55831823e+01 8.55624827e-02 2.77418015e+02\n",
            "  1.36411044e+01 3.10591812e+01 1.58657289e+01 1.71124965e-01]]\n"
          ],
          "name": "stdout"
        }
      ]
    },
    {
      "cell_type": "code",
      "metadata": {
        "id": "PWhsYzQ9H7rr",
        "colab_type": "code",
        "colab": {
          "base_uri": "https://localhost:8080/",
          "height": 33
        },
        "outputId": "0e5665f6-a2d2-4125-e1f4-74a9696afe5f"
      },
      "source": [
        "chi2 = ((observed-expected)**2 / expected).sum().sum()\n",
        "\n",
        "chi2"
      ],
      "execution_count": 34,
      "outputs": [
        {
          "output_type": "execute_result",
          "data": {
            "text/plain": [
              "2485.3681272509275"
            ]
          },
          "metadata": {
            "tags": []
          },
          "execution_count": 34
        }
      ]
    },
    {
      "cell_type": "markdown",
      "metadata": {
        "id": "wY5rVi3tJQ6G",
        "colab_type": "text"
      },
      "source": [
        "**In a single line using Scipy**"
      ]
    },
    {
      "cell_type": "code",
      "metadata": {
        "id": "J7QKUuq3JP_m",
        "colab_type": "code",
        "colab": {
          "base_uri": "https://localhost:8080/",
          "height": 586
        },
        "outputId": "20a2df43-b79d-443b-9322-9070b6896678"
      },
      "source": [
        "from scipy import stats\n",
        "chi2, p_value, dof, expected = stats.chi2_contingency(observed)\n",
        "\n",
        "print(\"chi2 statistic\", chi2)\n",
        "print(\"p value\", p_value)\n",
        "print(\"degrees of freedom\",dof)\n",
        "print(\"expected frequencies table\", expected)"
      ],
      "execution_count": 47,
      "outputs": [
        {
          "output_type": "stream",
          "text": [
            "chi2 statistic 2247.538854811734\n",
            "p value 0.0\n",
            "degrees of freedom 105\n",
            "expected frequencies table [[1.43726607e+00 3.13353946e+00 1.04800651e-02 3.39793653e+01\n",
            "  1.67082181e+00 3.80426363e+00 1.94330350e+00 2.09601302e-02]\n",
            " [4.87420667e+00 1.06267860e+01 3.55410903e-02 1.15234369e+02\n",
            "  5.66626526e+00 1.29014158e+01 6.59033360e+00 7.10821806e-02]\n",
            " [9.46720911e+00 2.06404882e+01 6.90317331e-02 2.23820602e+02\n",
            "  1.10056306e+01 2.50585191e+01 1.28004557e+01 1.38063466e-01]\n",
            " [1.79345810e+01 3.91011229e+01 1.30772986e-01 4.24003385e+02\n",
            "  2.08489504e+01 4.74705940e+01 2.42490480e+01 2.61545972e-01]\n",
            " [1.44663954e+01 3.15397559e+01 1.05484133e-01 3.42009699e+02\n",
            "  1.68171847e+01 3.82907404e+01 1.95597722e+01 2.10968267e-01]\n",
            " [2.60270138e+01 5.67443124e+01 1.89780309e-01 6.15321985e+02\n",
            "  3.02564036e+01 6.88902522e+01 3.51906916e+01 3.79560618e-01]\n",
            " [3.30258747e+01 7.20032872e+01 2.40813670e-01 7.80786721e+02\n",
            "  3.83925793e+01 8.74153621e+01 4.46537347e+01 4.81627339e-01]\n",
            " [1.22792514e+01 2.67713263e+01 8.95362083e-02 2.90301969e+02\n",
            "  1.42746298e+01 3.25016436e+01 1.66025712e+01 1.79072417e-01]\n",
            " [3.11480553e+02 6.79092498e+02 2.27121237e+00 7.36391941e+03\n",
            "  3.62096143e+02 8.24450090e+02 4.21147665e+02 4.54242474e+00]\n",
            " [2.11746786e+02 4.61652107e+02 1.54398698e+00 5.00604693e+03\n",
            "  2.46155639e+02 5.60467274e+02 2.86299300e+02 3.08797396e+00]\n",
            " [4.12745321e+01 8.99870789e+01 3.00960130e-01 9.75798731e+02\n",
            "  4.79816436e+01 1.09248527e+02 5.58066070e+01 6.01920260e-01]\n",
            " [3.18698129e+01 6.94828316e+01 2.32384052e-01 7.53455492e+02\n",
            "  3.70486574e+01 8.43554109e+01 4.30906428e+01 4.64768104e-01]\n",
            " [1.61911147e+02 3.53000033e+02 1.18060212e+00 3.82784937e+03\n",
            "  1.88221709e+02 4.28558568e+02 2.18917364e+02 2.36120423e+00]\n",
            " [5.23352319e+01 1.14101709e+02 3.81611066e-01 1.23729211e+03\n",
            "  6.08397071e+01 1.38524817e+02 7.07615948e+01 7.63222132e-01]\n",
            " [1.74346623e+01 3.80111961e+01 1.27127746e-01 4.12184475e+02\n",
            "  2.02677950e+01 4.61473718e+01 2.35731164e+01 2.54255492e-01]\n",
            " [1.24354760e+01 2.71119284e+01 9.06753458e-02 2.93995378e+02\n",
            "  1.44562408e+01 3.29151505e+01 1.68137998e+01 1.81350692e-01]]\n"
          ],
          "name": "stdout"
        }
      ]
    },
    {
      "cell_type": "markdown",
      "metadata": {
        "id": "4ohsJhQUmEuS",
        "colab_type": "text"
      },
      "source": [
        "## Stretch goals:\n",
        "\n",
        "1. Write a summary of your findings, mixing prose and math/code/results. *Note* - yes, this is by definition a political topic. It is challenging but important to keep your writing voice *neutral* and stick to the facts of the data. Data science often involves considering controversial issues, so it's important to be sensitive about them (especially if you want to publish).\n",
        "2. Apply the techniques you learned today to your project data or other data of your choice, and write/discuss your findings here.\n",
        "3. Refactor your code so it is elegant, readable, and can be easily run for all issues."
      ]
    },
    {
      "cell_type": "markdown",
      "metadata": {
        "id": "nyJ3ySr7R2k9",
        "colab_type": "text"
      },
      "source": [
        "## Resources\n",
        "\n",
        "- [Interactive visualize the Chi-Squared test](https://homepage.divms.uiowa.edu/~mbognar/applets/chisq.html)\n",
        "- [Calculation of Chi-Squared test statistic](https://en.wikipedia.org/wiki/Pearson%27s_chi-squared_test)\n",
        "- [Visualization of a confidence interval generated by R code](https://commons.wikimedia.org/wiki/File:Confidence-interval.svg)\n",
        "- [Expected value of a squared standard normal](https://math.stackexchange.com/questions/264061/expected-value-calculation-for-squared-normal-distribution) (it's 1 - which is why the expected value of a Chi-Squared with $n$ degrees of freedom is $n$, as it's the sum of $n$ squared standard normals)"
      ]
    }
  ]
}