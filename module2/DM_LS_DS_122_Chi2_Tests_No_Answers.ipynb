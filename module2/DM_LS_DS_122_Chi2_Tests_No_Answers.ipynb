{
  "nbformat": 4,
  "nbformat_minor": 0,
  "metadata": {
    "colab": {
      "name": "DM_LS_DS_122_Chi2_Tests_No_Answers.ipynb",
      "provenance": [],
      "collapsed_sections": [],
      "include_colab_link": true
    },
    "kernelspec": {
      "name": "python3",
      "display_name": "Python 3"
    }
  },
  "cells": [
    {
      "cell_type": "markdown",
      "metadata": {
        "id": "view-in-github",
        "colab_type": "text"
      },
      "source": [
        "<a href=\"https://colab.research.google.com/github/d-melamed/DS-Unit-1-Sprint-2-Statistics/blob/master/module2/DM_LS_DS_122_Chi2_Tests_No_Answers.ipynb\" target=\"_parent\"><img src=\"https://colab.research.google.com/assets/colab-badge.svg\" alt=\"Open In Colab\"/></a>"
      ]
    },
    {
      "cell_type": "markdown",
      "metadata": {
        "id": "838Dmw1kM2LK",
        "colab_type": "text"
      },
      "source": [
        "# Lambda School Data Science Module 122\n",
        "## Hypothesis Testing - Chi-Square Tests"
      ]
    },
    {
      "cell_type": "markdown",
      "metadata": {
        "id": "dbcPKIo5M6Ny",
        "colab_type": "text"
      },
      "source": [
        "## Prepare \n",
        "In the last lecture, we learned about the t-test, which allows you to weigh evidence for or against the claim that mean of a population is equal to a reference value (the null hypothesis).\n",
        "\n",
        "T-tests are often the appropriate statistical test when you are working with a a quantitative, continuous variable.\n",
        "\n",
        "However, there are lots of other kinds of data and many other methods of data analysis.  For example, we might like to examine the relationship between two categorical variables.  In that case, we'd like to use a chi-square test.  \"Chi-square\" refers to a particular statistical distribution in the way that the t-test is called the t-test because it depends on the t-distribution.\n",
        "\n",
        "The chi-square test works - in general - by comparing the counts that actually appear in a two-way table to the counts we would expect to see if the two variables were not related to each other at all.\n",
        "\n",
        "[More about the Chi-square test](https://https://en.wikipedia.org/wiki/Chi-squared_test).\n"
      ]
    },
    {
      "cell_type": "markdown",
      "metadata": {
        "id": "gFR3uySzIuHW",
        "colab_type": "text"
      },
      "source": [
        "## Titanic Example\n",
        "\n",
        "In the early hours of April 15, 1912, the unsinkable ship RMS Titanic sank when it struck an iceberg, killing more than half of the passengers and crew aboard. \n",
        "\n",
        "The Titanic.csv dataset contains demographic information for 889 of those passengers as well as a record of whether or not each passenger survived. \n",
        "\n",
        "Our goal is to determine if there is a relationship between ticket class and passenger survival on the Titanic.\n",
        "\n"
      ]
    },
    {
      "cell_type": "markdown",
      "metadata": {
        "id": "Bq3kUBwiSdTC",
        "colab_type": "text"
      },
      "source": [
        "A chi-square test *always* tests the null hypothesis that there is *no* relationship between two variables vs. the alternative hypothesis that there *is* some relationship between the two variables.\n"
      ]
    },
    {
      "cell_type": "markdown",
      "metadata": {
        "id": "MqZXv4PwStTl",
        "colab_type": "text"
      },
      "source": [
        "Therefore, in this exmaple\n",
        "\n",
        "**Ho:** There is no relationship between passenger ticket class and survival on the Titanic.\n",
        "\n",
        "**Ha:** There is a relationship between passenger ticket class and survival on the Titanic."
      ]
    },
    {
      "cell_type": "code",
      "metadata": {
        "id": "H9MfqTT3Lgqm",
        "colab_type": "code",
        "colab": {
          "base_uri": "https://localhost:8080/",
          "height": 340
        },
        "outputId": "866d3b1b-d8da-4b2f-b57e-f4a1e6560e39"
      },
      "source": [
        "import pandas as pd\n",
        "import numpy as np\n",
        "\n",
        "\n",
        "data_url = 'https://raw.githubusercontent.com/Chelsea-Myers/Lambda-Intro/master/Titanic.csv'\n",
        "\n",
        "df = pd.read_csv(data_url, skipinitialspace=True, header=0)\n",
        "\n",
        "print(df.shape)\n",
        "df.head()"
      ],
      "execution_count": 1,
      "outputs": [
        {
          "output_type": "stream",
          "text": [
            "(887, 8)\n"
          ],
          "name": "stdout"
        },
        {
          "output_type": "execute_result",
          "data": {
            "text/html": [
              "<div>\n",
              "<style scoped>\n",
              "    .dataframe tbody tr th:only-of-type {\n",
              "        vertical-align: middle;\n",
              "    }\n",
              "\n",
              "    .dataframe tbody tr th {\n",
              "        vertical-align: top;\n",
              "    }\n",
              "\n",
              "    .dataframe thead th {\n",
              "        text-align: right;\n",
              "    }\n",
              "</style>\n",
              "<table border=\"1\" class=\"dataframe\">\n",
              "  <thead>\n",
              "    <tr style=\"text-align: right;\">\n",
              "      <th></th>\n",
              "      <th>Survived</th>\n",
              "      <th>Pclass</th>\n",
              "      <th>Name</th>\n",
              "      <th>Sex</th>\n",
              "      <th>Age</th>\n",
              "      <th>Siblings/Spouses_Aboard</th>\n",
              "      <th>Parents/Children_Aboard</th>\n",
              "      <th>Fare</th>\n",
              "    </tr>\n",
              "  </thead>\n",
              "  <tbody>\n",
              "    <tr>\n",
              "      <th>0</th>\n",
              "      <td>0</td>\n",
              "      <td>3</td>\n",
              "      <td>Mr. Owen Harris Braund</td>\n",
              "      <td>male</td>\n",
              "      <td>22.0</td>\n",
              "      <td>1</td>\n",
              "      <td>0</td>\n",
              "      <td>7.2500</td>\n",
              "    </tr>\n",
              "    <tr>\n",
              "      <th>1</th>\n",
              "      <td>1</td>\n",
              "      <td>1</td>\n",
              "      <td>Mrs. John Bradley (Florence Briggs Thayer) Cum...</td>\n",
              "      <td>female</td>\n",
              "      <td>38.0</td>\n",
              "      <td>1</td>\n",
              "      <td>0</td>\n",
              "      <td>71.2833</td>\n",
              "    </tr>\n",
              "    <tr>\n",
              "      <th>2</th>\n",
              "      <td>1</td>\n",
              "      <td>3</td>\n",
              "      <td>Miss. Laina Heikkinen</td>\n",
              "      <td>female</td>\n",
              "      <td>26.0</td>\n",
              "      <td>0</td>\n",
              "      <td>0</td>\n",
              "      <td>7.9250</td>\n",
              "    </tr>\n",
              "    <tr>\n",
              "      <th>3</th>\n",
              "      <td>1</td>\n",
              "      <td>1</td>\n",
              "      <td>Mrs. Jacques Heath (Lily May Peel) Futrelle</td>\n",
              "      <td>female</td>\n",
              "      <td>35.0</td>\n",
              "      <td>1</td>\n",
              "      <td>0</td>\n",
              "      <td>53.1000</td>\n",
              "    </tr>\n",
              "    <tr>\n",
              "      <th>4</th>\n",
              "      <td>0</td>\n",
              "      <td>3</td>\n",
              "      <td>Mr. William Henry Allen</td>\n",
              "      <td>male</td>\n",
              "      <td>35.0</td>\n",
              "      <td>0</td>\n",
              "      <td>0</td>\n",
              "      <td>8.0500</td>\n",
              "    </tr>\n",
              "  </tbody>\n",
              "</table>\n",
              "</div>"
            ],
            "text/plain": [
              "   Survived  Pclass  ... Parents/Children_Aboard     Fare\n",
              "0         0       3  ...                       0   7.2500\n",
              "1         1       1  ...                       0  71.2833\n",
              "2         1       3  ...                       0   7.9250\n",
              "3         1       1  ...                       0  53.1000\n",
              "4         0       3  ...                       0   8.0500\n",
              "\n",
              "[5 rows x 8 columns]"
            ]
          },
          "metadata": {
            "tags": []
          },
          "execution_count": 1
        }
      ]
    },
    {
      "cell_type": "markdown",
      "metadata": {
        "id": "6PYW6S2ENbt5",
        "colab_type": "text"
      },
      "source": [
        "Survived = 0 means the passenger did not survive and\n",
        " \n",
        "Surivived = 1 means the passenger did survive.\n",
        "\n",
        "Pclass = 1, 2, 3 indicates the passenger had a 1st, 2nd or 3rd class ticket, respectively."
      ]
    },
    {
      "cell_type": "markdown",
      "metadata": {
        "id": "pjxovVDJNqD4",
        "colab_type": "text"
      },
      "source": [
        "To start, let's look at the freqeuncy and relative frequency of surival on the Titanic."
      ]
    },
    {
      "cell_type": "code",
      "metadata": {
        "id": "-OmuXo0QOh0U",
        "colab_type": "code",
        "colab": {
          "base_uri": "https://localhost:8080/",
          "height": 142
        },
        "outputId": "e4f5d936-fe43-4a8a-e849-109ac20fa058"
      },
      "source": [
        "#Frequency of survival\n",
        "\n",
        "survival = pd.crosstab(index=df['Survived'], columns='count')\n",
        "\n",
        "survival"
      ],
      "execution_count": 3,
      "outputs": [
        {
          "output_type": "execute_result",
          "data": {
            "text/html": [
              "<div>\n",
              "<style scoped>\n",
              "    .dataframe tbody tr th:only-of-type {\n",
              "        vertical-align: middle;\n",
              "    }\n",
              "\n",
              "    .dataframe tbody tr th {\n",
              "        vertical-align: top;\n",
              "    }\n",
              "\n",
              "    .dataframe thead th {\n",
              "        text-align: right;\n",
              "    }\n",
              "</style>\n",
              "<table border=\"1\" class=\"dataframe\">\n",
              "  <thead>\n",
              "    <tr style=\"text-align: right;\">\n",
              "      <th>col_0</th>\n",
              "      <th>count</th>\n",
              "    </tr>\n",
              "    <tr>\n",
              "      <th>Survived</th>\n",
              "      <th></th>\n",
              "    </tr>\n",
              "  </thead>\n",
              "  <tbody>\n",
              "    <tr>\n",
              "      <th>0</th>\n",
              "      <td>545</td>\n",
              "    </tr>\n",
              "    <tr>\n",
              "      <th>1</th>\n",
              "      <td>342</td>\n",
              "    </tr>\n",
              "  </tbody>\n",
              "</table>\n",
              "</div>"
            ],
            "text/plain": [
              "col_0     count\n",
              "Survived       \n",
              "0           545\n",
              "1           342"
            ]
          },
          "metadata": {
            "tags": []
          },
          "execution_count": 3
        }
      ]
    },
    {
      "cell_type": "code",
      "metadata": {
        "id": "0GJ82NyuPU0a",
        "colab_type": "code",
        "colab": {
          "base_uri": "https://localhost:8080/",
          "height": 142
        },
        "outputId": "0a047ac7-262b-4ebf-8551-a4ed8eae51a8"
      },
      "source": [
        "#Relative frequency of survival.  Multiply by 100 to convert from\n",
        "#proportions to percents\n",
        "\n",
        "survival/survival.sum()*100\n"
      ],
      "execution_count": 5,
      "outputs": [
        {
          "output_type": "execute_result",
          "data": {
            "text/html": [
              "<div>\n",
              "<style scoped>\n",
              "    .dataframe tbody tr th:only-of-type {\n",
              "        vertical-align: middle;\n",
              "    }\n",
              "\n",
              "    .dataframe tbody tr th {\n",
              "        vertical-align: top;\n",
              "    }\n",
              "\n",
              "    .dataframe thead th {\n",
              "        text-align: right;\n",
              "    }\n",
              "</style>\n",
              "<table border=\"1\" class=\"dataframe\">\n",
              "  <thead>\n",
              "    <tr style=\"text-align: right;\">\n",
              "      <th>col_0</th>\n",
              "      <th>count</th>\n",
              "    </tr>\n",
              "    <tr>\n",
              "      <th>Survived</th>\n",
              "      <th></th>\n",
              "    </tr>\n",
              "  </thead>\n",
              "  <tbody>\n",
              "    <tr>\n",
              "      <th>0</th>\n",
              "      <td>61.443067</td>\n",
              "    </tr>\n",
              "    <tr>\n",
              "      <th>1</th>\n",
              "      <td>38.556933</td>\n",
              "    </tr>\n",
              "  </tbody>\n",
              "</table>\n",
              "</div>"
            ],
            "text/plain": [
              "col_0         count\n",
              "Survived           \n",
              "0         61.443067\n",
              "1         38.556933"
            ]
          },
          "metadata": {
            "tags": []
          },
          "execution_count": 5
        }
      ]
    },
    {
      "cell_type": "markdown",
      "metadata": {
        "id": "VKynT9-TPdff",
        "colab_type": "text"
      },
      "source": [
        "Survival results here:   \n"
      ]
    },
    {
      "cell_type": "markdown",
      "metadata": {
        "id": "FTsevjpdPiDm",
        "colab_type": "text"
      },
      "source": [
        "Now let's look at the frequency and relative frequency of ticket class.\n"
      ]
    },
    {
      "cell_type": "code",
      "metadata": {
        "id": "G5wpvh-vPtJG",
        "colab_type": "code",
        "colab": {
          "base_uri": "https://localhost:8080/",
          "height": 173
        },
        "outputId": "cb52479b-2c92-4c00-f10a-b9eea2d24f20"
      },
      "source": [
        "#Frequency and relative frequency of ticket class.\n",
        "\n",
        "ticket_class = pd.crosstab(index=df['Pclass'], columns='count')\n",
        "\n",
        "ticket_class"
      ],
      "execution_count": 6,
      "outputs": [
        {
          "output_type": "execute_result",
          "data": {
            "text/html": [
              "<div>\n",
              "<style scoped>\n",
              "    .dataframe tbody tr th:only-of-type {\n",
              "        vertical-align: middle;\n",
              "    }\n",
              "\n",
              "    .dataframe tbody tr th {\n",
              "        vertical-align: top;\n",
              "    }\n",
              "\n",
              "    .dataframe thead th {\n",
              "        text-align: right;\n",
              "    }\n",
              "</style>\n",
              "<table border=\"1\" class=\"dataframe\">\n",
              "  <thead>\n",
              "    <tr style=\"text-align: right;\">\n",
              "      <th>col_0</th>\n",
              "      <th>count</th>\n",
              "    </tr>\n",
              "    <tr>\n",
              "      <th>Pclass</th>\n",
              "      <th></th>\n",
              "    </tr>\n",
              "  </thead>\n",
              "  <tbody>\n",
              "    <tr>\n",
              "      <th>1</th>\n",
              "      <td>216</td>\n",
              "    </tr>\n",
              "    <tr>\n",
              "      <th>2</th>\n",
              "      <td>184</td>\n",
              "    </tr>\n",
              "    <tr>\n",
              "      <th>3</th>\n",
              "      <td>487</td>\n",
              "    </tr>\n",
              "  </tbody>\n",
              "</table>\n",
              "</div>"
            ],
            "text/plain": [
              "col_0   count\n",
              "Pclass       \n",
              "1         216\n",
              "2         184\n",
              "3         487"
            ]
          },
          "metadata": {
            "tags": []
          },
          "execution_count": 6
        }
      ]
    },
    {
      "cell_type": "code",
      "metadata": {
        "id": "6HXq-_bqP1yA",
        "colab_type": "code",
        "colab": {
          "base_uri": "https://localhost:8080/",
          "height": 173
        },
        "outputId": "f8058a5c-ee3a-4c2b-cd85-a063006eab31"
      },
      "source": [
        "ticket_class/ticket_class.sum()*100"
      ],
      "execution_count": 7,
      "outputs": [
        {
          "output_type": "execute_result",
          "data": {
            "text/html": [
              "<div>\n",
              "<style scoped>\n",
              "    .dataframe tbody tr th:only-of-type {\n",
              "        vertical-align: middle;\n",
              "    }\n",
              "\n",
              "    .dataframe tbody tr th {\n",
              "        vertical-align: top;\n",
              "    }\n",
              "\n",
              "    .dataframe thead th {\n",
              "        text-align: right;\n",
              "    }\n",
              "</style>\n",
              "<table border=\"1\" class=\"dataframe\">\n",
              "  <thead>\n",
              "    <tr style=\"text-align: right;\">\n",
              "      <th>col_0</th>\n",
              "      <th>count</th>\n",
              "    </tr>\n",
              "    <tr>\n",
              "      <th>Pclass</th>\n",
              "      <th></th>\n",
              "    </tr>\n",
              "  </thead>\n",
              "  <tbody>\n",
              "    <tr>\n",
              "      <th>1</th>\n",
              "      <td>24.351747</td>\n",
              "    </tr>\n",
              "    <tr>\n",
              "      <th>2</th>\n",
              "      <td>20.744081</td>\n",
              "    </tr>\n",
              "    <tr>\n",
              "      <th>3</th>\n",
              "      <td>54.904171</td>\n",
              "    </tr>\n",
              "  </tbody>\n",
              "</table>\n",
              "</div>"
            ],
            "text/plain": [
              "col_0       count\n",
              "Pclass           \n",
              "1       24.351747\n",
              "2       20.744081\n",
              "3       54.904171"
            ]
          },
          "metadata": {
            "tags": []
          },
          "execution_count": 7
        }
      ]
    },
    {
      "cell_type": "markdown",
      "metadata": {
        "id": "CXLE0CZwP96L",
        "colab_type": "text"
      },
      "source": [
        "Passenger class results here: "
      ]
    },
    {
      "cell_type": "markdown",
      "metadata": {
        "id": "O6i9Mmh0QGvo",
        "colab_type": "text"
      },
      "source": [
        "Now let's look at the joint distribution of survival by passenger class.  That means we want to see how many people fall into each combination of the two categories."
      ]
    },
    {
      "cell_type": "code",
      "metadata": {
        "id": "tlBel8j9M6tB",
        "colab_type": "code",
        "colab": {
          "base_uri": "https://localhost:8080/",
          "height": 173
        },
        "outputId": "6f676e1e-df43-4c67-df21-d1876d09c699"
      },
      "source": [
        "#Joint distribution\n",
        "\n",
        "jd = pd.crosstab(df['Pclass'], df['Survived'])\n",
        "\n",
        "jd"
      ],
      "execution_count": 9,
      "outputs": [
        {
          "output_type": "execute_result",
          "data": {
            "text/html": [
              "<div>\n",
              "<style scoped>\n",
              "    .dataframe tbody tr th:only-of-type {\n",
              "        vertical-align: middle;\n",
              "    }\n",
              "\n",
              "    .dataframe tbody tr th {\n",
              "        vertical-align: top;\n",
              "    }\n",
              "\n",
              "    .dataframe thead th {\n",
              "        text-align: right;\n",
              "    }\n",
              "</style>\n",
              "<table border=\"1\" class=\"dataframe\">\n",
              "  <thead>\n",
              "    <tr style=\"text-align: right;\">\n",
              "      <th>Survived</th>\n",
              "      <th>0</th>\n",
              "      <th>1</th>\n",
              "    </tr>\n",
              "    <tr>\n",
              "      <th>Pclass</th>\n",
              "      <th></th>\n",
              "      <th></th>\n",
              "    </tr>\n",
              "  </thead>\n",
              "  <tbody>\n",
              "    <tr>\n",
              "      <th>1</th>\n",
              "      <td>80</td>\n",
              "      <td>136</td>\n",
              "    </tr>\n",
              "    <tr>\n",
              "      <th>2</th>\n",
              "      <td>97</td>\n",
              "      <td>87</td>\n",
              "    </tr>\n",
              "    <tr>\n",
              "      <th>3</th>\n",
              "      <td>368</td>\n",
              "      <td>119</td>\n",
              "    </tr>\n",
              "  </tbody>\n",
              "</table>\n",
              "</div>"
            ],
            "text/plain": [
              "Survived    0    1\n",
              "Pclass            \n",
              "1          80  136\n",
              "2          97   87\n",
              "3         368  119"
            ]
          },
          "metadata": {
            "tags": []
          },
          "execution_count": 9
        }
      ]
    },
    {
      "cell_type": "markdown",
      "metadata": {
        "id": "FJqraSFAS4eE",
        "colab_type": "text"
      },
      "source": [
        "So... is there a relationship between ticket class and survival?  "
      ]
    },
    {
      "cell_type": "markdown",
      "metadata": {
        "id": "ognwwnHyTOn3",
        "colab_type": "text"
      },
      "source": [
        "Let's begin by including the marginal distribution of each variable.  We actually calculated those before, but we can add them to the \"margins\" of the two-way table (hence the name marginal distribution) so we can remember how many people survived overall and how many people were in each ticket class overall."
      ]
    },
    {
      "cell_type": "code",
      "metadata": {
        "colab_type": "code",
        "id": "lRnahAiao1X5",
        "colab": {
          "base_uri": "https://localhost:8080/",
          "height": 204
        },
        "outputId": "87ee70e7-9401-4e9d-e60a-2edd62ca1877"
      },
      "source": [
        "# Joint distribution with margins\n",
        "\n",
        "pd.crosstab(df['Pclass'], df['Survived'], margins=True)"
      ],
      "execution_count": 10,
      "outputs": [
        {
          "output_type": "execute_result",
          "data": {
            "text/html": [
              "<div>\n",
              "<style scoped>\n",
              "    .dataframe tbody tr th:only-of-type {\n",
              "        vertical-align: middle;\n",
              "    }\n",
              "\n",
              "    .dataframe tbody tr th {\n",
              "        vertical-align: top;\n",
              "    }\n",
              "\n",
              "    .dataframe thead th {\n",
              "        text-align: right;\n",
              "    }\n",
              "</style>\n",
              "<table border=\"1\" class=\"dataframe\">\n",
              "  <thead>\n",
              "    <tr style=\"text-align: right;\">\n",
              "      <th>Survived</th>\n",
              "      <th>0</th>\n",
              "      <th>1</th>\n",
              "      <th>All</th>\n",
              "    </tr>\n",
              "    <tr>\n",
              "      <th>Pclass</th>\n",
              "      <th></th>\n",
              "      <th></th>\n",
              "      <th></th>\n",
              "    </tr>\n",
              "  </thead>\n",
              "  <tbody>\n",
              "    <tr>\n",
              "      <th>1</th>\n",
              "      <td>80</td>\n",
              "      <td>136</td>\n",
              "      <td>216</td>\n",
              "    </tr>\n",
              "    <tr>\n",
              "      <th>2</th>\n",
              "      <td>97</td>\n",
              "      <td>87</td>\n",
              "      <td>184</td>\n",
              "    </tr>\n",
              "    <tr>\n",
              "      <th>3</th>\n",
              "      <td>368</td>\n",
              "      <td>119</td>\n",
              "      <td>487</td>\n",
              "    </tr>\n",
              "    <tr>\n",
              "      <th>All</th>\n",
              "      <td>545</td>\n",
              "      <td>342</td>\n",
              "      <td>887</td>\n",
              "    </tr>\n",
              "  </tbody>\n",
              "</table>\n",
              "</div>"
            ],
            "text/plain": [
              "Survived    0    1  All\n",
              "Pclass                 \n",
              "1          80  136  216\n",
              "2          97   87  184\n",
              "3         368  119  487\n",
              "All       545  342  887"
            ]
          },
          "metadata": {
            "tags": []
          },
          "execution_count": 10
        }
      ]
    },
    {
      "cell_type": "markdown",
      "metadata": {
        "id": "mUVwexDOo5Nm",
        "colab_type": "text"
      },
      "source": [
        "But what we really want to know is \"Of people in each ticket class, what proportion survived?\"  We can compare those proportions and see if they are the same or different.\n",
        "\n",
        "We use \"normalize = index\" to tell Python that we want to compute the proportion of individuals who did and did not survive by the row variable (what Python calls the index variable).  \n",
        "\n",
        "In statistical terminology, we call this the conditional distribution.  We are computing the distribution of survival *conditional* on what passenger class they were in."
      ]
    },
    {
      "cell_type": "code",
      "metadata": {
        "id": "uut5TSEAocmx",
        "colab_type": "code",
        "colab": {}
      },
      "source": [
        "#Conditional distribution of survival by passenger class\n",
        "\n",
        "con_dis = pd.crosstab(df['Pclass'], df['Survived'], margins=True, normalize=\"index\")*100"
      ],
      "execution_count": 14,
      "outputs": []
    },
    {
      "cell_type": "markdown",
      "metadata": {
        "id": "eTuzvCsVU-GC",
        "colab_type": "text"
      },
      "source": [
        "We observe:"
      ]
    },
    {
      "cell_type": "markdown",
      "metadata": {
        "id": "SSjO9J7ZV7kY",
        "colab_type": "text"
      },
      "source": [
        "But because we haven't actually computed a statistical test, we don't know for sure if there is strong evidence that there is a relationship between ticket class and survival.  That's where the Chi-Square test comes in."
      ]
    },
    {
      "cell_type": "markdown",
      "metadata": {
        "id": "YZwjlEvEWOv6",
        "colab_type": "text"
      },
      "source": [
        "As a refresher:\n",
        "\n",
        "**Ho:** There is no relationship between passenger ticket class and survival on the Titanic.\n",
        "\n",
        "**Ha:** There is a relationship between passenger ticket class and survival on the Titanic."
      ]
    },
    {
      "cell_type": "markdown",
      "metadata": {
        "id": "Y1Pt_aECZEti",
        "colab_type": "text"
      },
      "source": [
        "Just like in the t-test examples, if the p-value is less than the significance level, we will reject the null hypothesis.  If the p-value is greater than the significance level, we will fail to reject."
      ]
    },
    {
      "cell_type": "markdown",
      "metadata": {
        "id": "6H6ki7rYZOj1",
        "colab_type": "text"
      },
      "source": [
        "We import the chi-square function (chi2_contingency) from scipy.stats.  \n",
        "\n",
        "**Take a very close look at the entry in the contingency table function**. It is the *table* we created above, not just the two variables of interest.\n",
        "\n",
        "The chi2_contingency function has a lot of output, but we are most interested in the p-value, which we are calling p below.  "
      ]
    },
    {
      "cell_type": "code",
      "metadata": {
        "id": "eNwb4YNSWJqe",
        "colab_type": "code",
        "colab": {
          "base_uri": "https://localhost:8080/",
          "height": 34
        },
        "outputId": "784ce530-fb4b-410b-8b99-c2cca3a2ce17"
      },
      "source": [
        "from scipy.stats import chi2_contingency\n",
        "\n",
        "#Chi-square test\n",
        "\n",
        "g, p, dof, expected = chi2_contingency(pd.crosstab(df['Pclass'], df['Survived']))\n",
        "\n",
        "p"
      ],
      "execution_count": 19,
      "outputs": [
        {
          "output_type": "execute_result",
          "data": {
            "text/plain": [
              "1.0496962042983216e-22"
            ]
          },
          "metadata": {
            "tags": []
          },
          "execution_count": 19
        }
      ]
    },
    {
      "cell_type": "markdown",
      "metadata": {
        "id": "_E7z5tdGZ2uC",
        "colab_type": "text"
      },
      "source": [
        "P-value = 0.0000...105"
      ]
    },
    {
      "cell_type": "markdown",
      "metadata": {
        "id": "7Pq1ef1CaJra",
        "colab_type": "text"
      },
      "source": [
        "So... we definitely think that passenger ticket class is dependent on the survival rate."
      ]
    },
    {
      "cell_type": "markdown",
      "metadata": {
        "id": "HMH1-hIVaWxc",
        "colab_type": "text"
      },
      "source": [
        "Let's make a nice visualization - a side by side bar plot - to illustrate this relationship.\n",
        "\n"
      ]
    },
    {
      "cell_type": "markdown",
      "metadata": {
        "id": "4Y9nzI3vbDCU",
        "colab_type": "text"
      },
      "source": [
        "First, let's take a look at our conditional distribution of survival by passenger class again."
      ]
    },
    {
      "cell_type": "markdown",
      "metadata": {
        "id": "IpgY1QZPbLia",
        "colab_type": "text"
      },
      "source": [
        "We'd like to create a bar plot where we compare the percent of surivors in each passenger class.\n",
        "\n",
        "We're going to start by creating two vectors: one for the percent of individuals who survived and one for the percent of individuals who didn't survive and plotting those with the help of some graphing parameters that are going to make everything line up nicely.\n",
        "\n",
        "[More info about barplots](https://https://matplotlib.org/examples/api/barchart_demo.html)."
      ]
    },
    {
      "cell_type": "code",
      "metadata": {
        "id": "steEWv1kbHmG",
        "colab_type": "code",
        "colab": {
          "base_uri": "https://localhost:8080/",
          "height": 298
        },
        "outputId": "b727c64b-c6d3-4cf3-921f-e3a12f1716bb"
      },
      "source": [
        "#Copy code for conditional distribution of survival by passenger class here:\n",
        "import matplotlib.pyplot as plt\n",
        "\n",
        "N = 3\n",
        "\n",
        "Died = (37, 53, 76)\n",
        "Survived = (63, 47, 24)\n",
        "\n",
        "ind = np.arange(N)\n",
        "\n",
        "width = 0.35\n",
        "\n",
        "#create plot\n",
        "fig, ax = plt.subplots()\n",
        "rects1 = ax.bar(ind, Died, width, color='blue')\n",
        "rects2 = ax.bar(ind +width,  Survived, width, color='green')\n",
        "\n",
        "#labels\n",
        "ax.set_ylabel('Percent')\n",
        "ax.set_title('Survival Rate vs. Ticket Class')\n",
        "ax.set_xticklabels(('1st class', '2nd class', '3rd class'))\n",
        "ax.set_xticks(ind + width/2)\n",
        "\n",
        "ax.legend((rects1[0], rects2[0]), ('Did not survive', 'Survived'))"
      ],
      "execution_count": 29,
      "outputs": [
        {
          "output_type": "execute_result",
          "data": {
            "text/plain": [
              "<matplotlib.legend.Legend at 0x7f046e26ea58>"
            ]
          },
          "metadata": {
            "tags": []
          },
          "execution_count": 29
        },
        {
          "output_type": "display_data",
          "data": {
            "image/png": "[encoded data removed]",
            "text/plain": [
              "<Figure size 432x288 with 1 Axes>"
            ]
          },
          "metadata": {
            "tags": [],
            "needs_background": "light"
          }
        }
      ]
    },
    {
      "cell_type": "markdown",
      "metadata": {
        "id": "u5RpoaR_d2R_",
        "colab_type": "text"
      },
      "source": [
        "We can see by our lovely graph and chi-square test that:"
      ]
    },
    {
      "cell_type": "markdown",
      "metadata": {
        "id": "Lwpb3CmveWud",
        "colab_type": "text"
      },
      "source": [
        "\n",
        "\n",
        "---\n",
        "\n"
      ]
    },
    {
      "cell_type": "markdown",
      "metadata": {
        "id": "tS3aRmPiebpq",
        "colab_type": "text"
      },
      "source": [
        "Now let's look at passenger sex and survival?  Were women and children really the first ones in the lifeboats?\n",
        "\n",
        "Note that here both child and adult males are considered male and child and adult females are considered female in the data so we really can't conclude anything about children from this analysis.\n"
      ]
    },
    {
      "cell_type": "markdown",
      "metadata": {
        "id": "H2bG1Kuee1NY",
        "colab_type": "text"
      },
      "source": [
        "First, is a chi-square test appropriate for these data?"
      ]
    },
    {
      "cell_type": "markdown",
      "metadata": {
        "id": "6KvffzmrBSkf",
        "colab_type": "text"
      },
      "source": [
        "Answer: "
      ]
    },
    {
      "cell_type": "markdown",
      "metadata": {
        "id": "GL8Z9zRke7qz",
        "colab_type": "text"
      },
      "source": [
        "What is the distribution of passenger sex on the Titanic?"
      ]
    },
    {
      "cell_type": "code",
      "metadata": {
        "id": "KrBQVQHHfC6d",
        "colab_type": "code",
        "colab": {
          "base_uri": "https://localhost:8080/",
          "height": 142
        },
        "outputId": "bec14f14-cd5e-4a8e-a5c4-52e9ddf9eaca"
      },
      "source": [
        "#Relative frequency of gender\n",
        "\n",
        "Gender = pd.crosstab(index=df['Sex'], columns=\"count\")\n",
        "\n",
        "Gender\n",
        "\n",
        "#Relative frequency of gender\n",
        "\n",
        "Gender = pd.crosstab(index=df['Sex'], columns=\"count\", normalize=True)*100\n",
        "Gender"
      ],
      "execution_count": 33,
      "outputs": [
        {
          "output_type": "execute_result",
          "data": {
            "text/html": [
              "<div>\n",
              "<style scoped>\n",
              "    .dataframe tbody tr th:only-of-type {\n",
              "        vertical-align: middle;\n",
              "    }\n",
              "\n",
              "    .dataframe tbody tr th {\n",
              "        vertical-align: top;\n",
              "    }\n",
              "\n",
              "    .dataframe thead th {\n",
              "        text-align: right;\n",
              "    }\n",
              "</style>\n",
              "<table border=\"1\" class=\"dataframe\">\n",
              "  <thead>\n",
              "    <tr style=\"text-align: right;\">\n",
              "      <th>col_0</th>\n",
              "      <th>count</th>\n",
              "    </tr>\n",
              "    <tr>\n",
              "      <th>Sex</th>\n",
              "      <th></th>\n",
              "    </tr>\n",
              "  </thead>\n",
              "  <tbody>\n",
              "    <tr>\n",
              "      <th>female</th>\n",
              "      <td>35.400225</td>\n",
              "    </tr>\n",
              "    <tr>\n",
              "      <th>male</th>\n",
              "      <td>64.599775</td>\n",
              "    </tr>\n",
              "  </tbody>\n",
              "</table>\n",
              "</div>"
            ],
            "text/plain": [
              "col_0       count\n",
              "Sex              \n",
              "female  35.400225\n",
              "male    64.599775"
            ]
          },
          "metadata": {
            "tags": []
          },
          "execution_count": 33
        }
      ]
    },
    {
      "cell_type": "markdown",
      "metadata": {
        "id": "RyD2aTmaBdxB",
        "colab_type": "text"
      },
      "source": [
        "Passengers on the Titanic were..."
      ]
    },
    {
      "cell_type": "markdown",
      "metadata": {
        "id": "xaufLlDyfDi5",
        "colab_type": "text"
      },
      "source": [
        "Refresh your memory by calculating the distribution of passenger survival."
      ]
    },
    {
      "cell_type": "code",
      "metadata": {
        "id": "6GXC4hGefIlF",
        "colab_type": "code",
        "colab": {
          "base_uri": "https://localhost:8080/",
          "height": 142
        },
        "outputId": "c9a30148-cfb1-4d8e-9da7-ae9b6994304e"
      },
      "source": [
        "#Frequency of survival\n",
        "survival\n",
        "\n",
        "#Relative frequency of survival\n",
        "survival/survival.sum()*100\n"
      ],
      "execution_count": 37,
      "outputs": [
        {
          "output_type": "execute_result",
          "data": {
            "text/html": [
              "<div>\n",
              "<style scoped>\n",
              "    .dataframe tbody tr th:only-of-type {\n",
              "        vertical-align: middle;\n",
              "    }\n",
              "\n",
              "    .dataframe tbody tr th {\n",
              "        vertical-align: top;\n",
              "    }\n",
              "\n",
              "    .dataframe thead th {\n",
              "        text-align: right;\n",
              "    }\n",
              "</style>\n",
              "<table border=\"1\" class=\"dataframe\">\n",
              "  <thead>\n",
              "    <tr style=\"text-align: right;\">\n",
              "      <th>col_0</th>\n",
              "      <th>count</th>\n",
              "    </tr>\n",
              "    <tr>\n",
              "      <th>Survived</th>\n",
              "      <th></th>\n",
              "    </tr>\n",
              "  </thead>\n",
              "  <tbody>\n",
              "    <tr>\n",
              "      <th>0</th>\n",
              "      <td>61.443067</td>\n",
              "    </tr>\n",
              "    <tr>\n",
              "      <th>1</th>\n",
              "      <td>38.556933</td>\n",
              "    </tr>\n",
              "  </tbody>\n",
              "</table>\n",
              "</div>"
            ],
            "text/plain": [
              "col_0         count\n",
              "Survived           \n",
              "0         61.443067\n",
              "1         38.556933"
            ]
          },
          "metadata": {
            "tags": []
          },
          "execution_count": 37
        }
      ]
    },
    {
      "cell_type": "markdown",
      "metadata": {
        "id": "9YWuLRR6CTJX",
        "colab_type": "text"
      },
      "source": [
        "Survival results: "
      ]
    },
    {
      "cell_type": "markdown",
      "metadata": {
        "id": "wzfhaJP6fI73",
        "colab_type": "text"
      },
      "source": [
        "Calculate the joint distribution of passenger sex and survival.  Add on the margins.  Can you draw any initial conclusions about the relationship between passenger sex and survival?"
      ]
    },
    {
      "cell_type": "code",
      "metadata": {
        "id": "EnfVAURhfbTP",
        "colab_type": "code",
        "colab": {
          "base_uri": "https://localhost:8080/",
          "height": 173
        },
        "outputId": "7d67a209-0ac4-4cbc-e318-bc9088e6308a"
      },
      "source": [
        "#Joint distribution and joint distribution adding margins.\n",
        "\n",
        "pd.crosstab(df['Sex'], df['Survived'], margins=True)\n"
      ],
      "execution_count": 38,
      "outputs": [
        {
          "output_type": "execute_result",
          "data": {
            "text/html": [
              "<div>\n",
              "<style scoped>\n",
              "    .dataframe tbody tr th:only-of-type {\n",
              "        vertical-align: middle;\n",
              "    }\n",
              "\n",
              "    .dataframe tbody tr th {\n",
              "        vertical-align: top;\n",
              "    }\n",
              "\n",
              "    .dataframe thead th {\n",
              "        text-align: right;\n",
              "    }\n",
              "</style>\n",
              "<table border=\"1\" class=\"dataframe\">\n",
              "  <thead>\n",
              "    <tr style=\"text-align: right;\">\n",
              "      <th>Survived</th>\n",
              "      <th>0</th>\n",
              "      <th>1</th>\n",
              "      <th>All</th>\n",
              "    </tr>\n",
              "    <tr>\n",
              "      <th>Sex</th>\n",
              "      <th></th>\n",
              "      <th></th>\n",
              "      <th></th>\n",
              "    </tr>\n",
              "  </thead>\n",
              "  <tbody>\n",
              "    <tr>\n",
              "      <th>female</th>\n",
              "      <td>81</td>\n",
              "      <td>233</td>\n",
              "      <td>314</td>\n",
              "    </tr>\n",
              "    <tr>\n",
              "      <th>male</th>\n",
              "      <td>464</td>\n",
              "      <td>109</td>\n",
              "      <td>573</td>\n",
              "    </tr>\n",
              "    <tr>\n",
              "      <th>All</th>\n",
              "      <td>545</td>\n",
              "      <td>342</td>\n",
              "      <td>887</td>\n",
              "    </tr>\n",
              "  </tbody>\n",
              "</table>\n",
              "</div>"
            ],
            "text/plain": [
              "Survived    0    1  All\n",
              "Sex                    \n",
              "female     81  233  314\n",
              "male      464  109  573\n",
              "All       545  342  887"
            ]
          },
          "metadata": {
            "tags": []
          },
          "execution_count": 38
        }
      ]
    },
    {
      "cell_type": "markdown",
      "metadata": {
        "id": "2roTfH3jCkWW",
        "colab_type": "text"
      },
      "source": [
        "Results: "
      ]
    },
    {
      "cell_type": "markdown",
      "metadata": {
        "id": "9etbacRBfbwI",
        "colab_type": "text"
      },
      "source": [
        "Calculate the distribution of survival conditional on passenger sex.  What does this tell you?"
      ]
    },
    {
      "cell_type": "code",
      "metadata": {
        "id": "F_Jol17Jfkth",
        "colab_type": "code",
        "colab": {
          "base_uri": "https://localhost:8080/",
          "height": 142
        },
        "outputId": "b6ea6915-f7d6-4b79-94db-ee7c6c1c2869"
      },
      "source": [
        "#Conditional distribution of survival by passenger sex\n",
        "\n",
        "con_dis_sex = pd.crosstab(df['Sex'], df['Survived'], margins=True, normalize=\"index\")*100\n",
        "\n",
        "con_dis_sex\n",
        "\n",
        "pd.crosstab(df['Sex'], df['Survived'], normalize=\"index\")*100"
      ],
      "execution_count": 41,
      "outputs": [
        {
          "output_type": "execute_result",
          "data": {
            "text/html": [
              "<div>\n",
              "<style scoped>\n",
              "    .dataframe tbody tr th:only-of-type {\n",
              "        vertical-align: middle;\n",
              "    }\n",
              "\n",
              "    .dataframe tbody tr th {\n",
              "        vertical-align: top;\n",
              "    }\n",
              "\n",
              "    .dataframe thead th {\n",
              "        text-align: right;\n",
              "    }\n",
              "</style>\n",
              "<table border=\"1\" class=\"dataframe\">\n",
              "  <thead>\n",
              "    <tr style=\"text-align: right;\">\n",
              "      <th>Survived</th>\n",
              "      <th>0</th>\n",
              "      <th>1</th>\n",
              "    </tr>\n",
              "    <tr>\n",
              "      <th>Sex</th>\n",
              "      <th></th>\n",
              "      <th></th>\n",
              "    </tr>\n",
              "  </thead>\n",
              "  <tbody>\n",
              "    <tr>\n",
              "      <th>female</th>\n",
              "      <td>25.796178</td>\n",
              "      <td>74.203822</td>\n",
              "    </tr>\n",
              "    <tr>\n",
              "      <th>male</th>\n",
              "      <td>80.977312</td>\n",
              "      <td>19.022688</td>\n",
              "    </tr>\n",
              "  </tbody>\n",
              "</table>\n",
              "</div>"
            ],
            "text/plain": [
              "Survived          0          1\n",
              "Sex                           \n",
              "female    25.796178  74.203822\n",
              "male      80.977312  19.022688"
            ]
          },
          "metadata": {
            "tags": []
          },
          "execution_count": 41
        }
      ]
    },
    {
      "cell_type": "markdown",
      "metadata": {
        "id": "V1Tl2SjMC7a4",
        "colab_type": "text"
      },
      "source": [
        "Results: "
      ]
    },
    {
      "cell_type": "markdown",
      "metadata": {
        "id": "kSt1t2Nsfk8-",
        "colab_type": "text"
      },
      "source": [
        "Now we need to conduct the chi-square test.  What are our hypotheses?\n",
        "\n",
        "**Ho:** There is no relationship between passsenger sex and survival\n",
        "\n",
        "**Ha:** There is a relationship between passenger sex and survival"
      ]
    },
    {
      "cell_type": "code",
      "metadata": {
        "id": "6gyJiazOfyzy",
        "colab_type": "code",
        "colab": {
          "base_uri": "https://localhost:8080/",
          "height": 34
        },
        "outputId": "0068a664-0d14-47ca-cf99-3e4c39a80a2d"
      },
      "source": [
        "#chi-square test\n",
        "g, p, dof, expected = chi2_contingency(pd.crosstab(df['Sex'], df['Survived']))\n",
        "\n",
        "p"
      ],
      "execution_count": 42,
      "outputs": [
        {
          "output_type": "execute_result",
          "data": {
            "text/plain": [
              "3.847574039733745e-58"
            ]
          },
          "metadata": {
            "tags": []
          },
          "execution_count": 42
        }
      ]
    },
    {
      "cell_type": "markdown",
      "metadata": {
        "id": "ysZ9YgYWfz4x",
        "colab_type": "text"
      },
      "source": [
        "What is the p-value?  What do we conclude (at the 0.05 significance level) about the relationship between passenger sex and survival?"
      ]
    },
    {
      "cell_type": "markdown",
      "metadata": {
        "id": "tpYhnUxgDapA",
        "colab_type": "text"
      },
      "source": [
        "**Results: We reject Ho ==> there is a relationship between passenger sex and survival, with a p-value of 0.000....385.**"
      ]
    },
    {
      "cell_type": "markdown",
      "metadata": {
        "id": "VKLtwyJTf722",
        "colab_type": "text"
      },
      "source": [
        "Create a side-by-side bar plot illustrating the relationship of passenger sex and survival.  "
      ]
    },
    {
      "cell_type": "code",
      "metadata": {
        "id": "g4kHOpWRgY-N",
        "colab_type": "code",
        "colab": {
          "base_uri": "https://localhost:8080/",
          "height": 281
        },
        "outputId": "df390dad-a892-4ed2-e5e7-5b455fc8802e"
      },
      "source": [
        "#Need this for graphing purposes - it's the number of sexes (male and female)\n",
        "\n",
        "N = 2\n",
        "\n",
        "\n",
        "Died = (26, 81)## Fill in here ## # Percent that died in each sex\n",
        "Survived = (74, 19)## Fill in here ## #Percent that survived in each ticket class\n",
        "\n",
        "#This is more graphical stuff\n",
        "ind = np.arange(N)  # the x locations for the groups\n",
        "width = 0.35       # the width of the bars\n",
        "\n",
        "#Create the plot\n",
        "fig, ax = plt.subplots()\n",
        "rects1 = ax.bar(ind, Died, width, color='r') #bars for died\n",
        "rects2 = ax.bar(ind + width, Survived, width, color='g') #bars for survived\n",
        "\n",
        "# add some text for labels, title and axes ticks\n",
        "ax.set_ylabel('Percent')\n",
        "ax.set_title('Survival Rate vs. Passenger Sex')\n",
        "ax.set_xticklabels(('Female', 'Male'))\n",
        "ax.set_xticks(ind + width/2)\n",
        "\n",
        "ax.legend((rects1[0], rects2[0]), ('Did not survive', 'Survived'));"
      ],
      "execution_count": 48,
      "outputs": [
        {
          "output_type": "display_data",
          "data": {
            "image/png": "[encoded data removed]",
            "text/plain": [
              "<Figure size 432x288 with 1 Axes>"
            ]
          },
          "metadata": {
            "tags": [],
            "needs_background": "light"
          }
        }
      ]
    },
    {
      "cell_type": "markdown",
      "metadata": {
        "id": "W901a8WOgbka",
        "colab_type": "text"
      },
      "source": [
        "Explain your results to someone who is interested in Titanic history but knows little about statistics."
      ]
    },
    {
      "cell_type": "markdown",
      "metadata": {
        "id": "xsrv2DwYEvyo",
        "colab_type": "text"
      },
      "source": [
        ""
      ]
    }
  ]
}