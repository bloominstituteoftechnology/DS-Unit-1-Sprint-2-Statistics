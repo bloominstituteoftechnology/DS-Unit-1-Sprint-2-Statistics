{
  "nbformat": 4,
  "nbformat_minor": 0,
  "metadata": {
    "colab": {
      "name": "LS_DS_122_Sampling_Confidence_Intervals_and_Hypothesis_Testing_Assignment_ALEX_KAISER.ipynb",
      "provenance": [],
      "collapsed_sections": [],
      "include_colab_link": true
    },
    "kernelspec": {
      "name": "python3",
      "display_name": "Python 3"
    }
  },
  "cells": [
    {
      "cell_type": "markdown",
      "metadata": {
        "id": "view-in-github",
        "colab_type": "text"
      },
      "source": [
        "<a href=\"https://colab.research.google.com/github/Lord-Kanzler/DS-Unit-1-Sprint-2-Statistics/blob/master/module2/LS_DS_122_Sampling_Confidence_Intervals_and_Hypothesis_Testing_Assignment_ALEX_KAISER.ipynb\" target=\"_parent\"><img src=\"https://colab.research.google.com/assets/colab-badge.svg\" alt=\"Open In Colab\"/></a>"
      ]
    },
    {
      "cell_type": "markdown",
      "metadata": {
        "id": "11OzdxWTM7UR",
        "colab_type": "text"
      },
      "source": [
        "## Assignment - Build a confidence interval\n",
        "\n",
        "A confidence interval refers to a neighborhood around some point estimate, the size of which is determined by the desired p-value. For instance, we might say that 52% of Americans prefer tacos to burritos, with a 95% confidence interval of +/- 5%.\n",
        "\n",
        "52% (0.52) is the point estimate, and +/- 5% (the interval $[0.47, 0.57]$) is the confidence interval. \"95% confidence\" means a p-value $\\leq 1 - 0.95 = 0.05$.\n",
        "\n",
        "In this case, the confidence interval includes $0.5$ - which is the natural null hypothesis (that half of Americans prefer tacos and half burritos, thus there is no clear favorite). So in this case, we could use the confidence interval to report that we've failed to reject the null hypothesis.\n",
        "\n",
        "But providing the full analysis with a confidence interval, including a graphical representation of it, can be a helpful and powerful way to tell your story. Done well, it is also more intuitive to a layperson than simply saying \"fail to reject the null hypothesis\" - it shows that in fact the data does *not* give a single clear result (the point estimate) but a whole range of possibilities.\n",
        "\n",
        "How is a confidence interval built, and how should it be interpreted? It does *not* mean that 95% of the data lies in that interval - instead, the frequentist interpretation is \"if we were to repeat this experiment 100 times, we would expect the average result to lie in this interval ~95 times.\"\n",
        "\n",
        "For a 95% confidence interval and a normal(-ish) distribution, you can simply remember that +/-2 standard deviations contains 95% of the probability mass, and so the 95% confidence interval based on a given sample is centered at the mean (point estimate) and has a range of +/- 2 (or technically 1.96) standard deviations.\n",
        "\n",
        "Different distributions/assumptions (90% confidence, 99% confidence) will require different math, but the overall process and interpretation (with a frequentist approach) will be the same.\n",
        "\n",
        "Your assignment - using the data from the prior module ([congressional voting records](https://archive.ics.uci.edu/ml/datasets/Congressional+Voting+Records)):\n",
        "\n",
        "\n",
        "### Confidence Intervals:\n",
        "1. Generate and numerically represent a confidence interval\n",
        "2. Graphically (with a plot) represent the confidence interval\n",
        "3. Interpret the confidence interval - what does it tell you about the data and its distribution?\n",
        "\n",
        "### Chi-squared tests:\n",
        "4. Take a dataset that we have used in the past in class that has **categorical** variables. Pick two of those categorical variables and run a chi-squared tests on that data\n",
        "  - By hand using Numpy\n",
        "  - In a single line using Scipy\n"
      ]
    },
    {
      "cell_type": "code",
      "metadata": {
        "id": "Ckcr4A4FM7cs",
        "colab_type": "code",
        "colab": {}
      },
      "source": [
        "# TODO - your code!\n",
        "import pandas as pd\n",
        "import numpy as np\n",
        "from scipy import stats\n",
        "from scipy.stats import t, ttest_1samp\n",
        "import matplotlib.pyplot as plt\n",
        "import seaborn as sns"
      ],
      "execution_count": 0,
      "outputs": []
    },
    {
      "cell_type": "code",
      "metadata": {
        "id": "THKPu9o9Bz9V",
        "colab_type": "code",
        "colab": {
          "base_uri": "https://localhost:8080/",
          "height": 445
        },
        "outputId": "64f35fde-6eda-4536-c690-262bc4400e63"
      },
      "source": [
        "#Loading Data and cleaning\n",
        "\n",
        "!wget https://archive.ics.uci.edu/ml/machine-learning-databases/voting-records/house-votes-84.data\n",
        "\n",
        "df = pd.read_csv('house-votes-84.data', names=['party','handicapped-infants','water-project',\n",
        "                          'budget','physician-fee-freeze', 'el-salvador-aid',\n",
        "                          'religious-groups','anti-satellite-ban',\n",
        "                          'aid-to-contras','mx-missile','immigration',\n",
        "                          'synfuels', 'education', 'right-to-sue','crime','duty-free',\n",
        "                          'south-africa'], na_values=\"?\")\n",
        "\n",
        "df.head()\n"
      ],
      "execution_count": 69,
      "outputs": [
        {
          "output_type": "stream",
          "text": [
            "--2020-02-18 21:40:18--  https://archive.ics.uci.edu/ml/machine-learning-databases/voting-records/house-votes-84.data\n",
            "Resolving archive.ics.uci.edu (archive.ics.uci.edu)... 128.195.10.252\n",
            "Connecting to archive.ics.uci.edu (archive.ics.uci.edu)|128.195.10.252|:443... connected.\n",
            "HTTP request sent, awaiting response... 200 OK\n",
            "Length: 18171 (18K) [application/x-httpd-php]\n",
            "Saving to: ‘house-votes-84.data.5’\n",
            "\n",
            "\rhouse-votes-84.data   0%[                    ]       0  --.-KB/s               \rhouse-votes-84.data 100%[===================>]  17.75K  --.-KB/s    in 0.03s   \n",
            "\n",
            "2020-02-18 21:40:18 (629 KB/s) - ‘house-votes-84.data.5’ saved [18171/18171]\n",
            "\n"
          ],
          "name": "stdout"
        },
        {
          "output_type": "execute_result",
          "data": {
            "text/html": [
              "<div>\n",
              "<style scoped>\n",
              "    .dataframe tbody tr th:only-of-type {\n",
              "        vertical-align: middle;\n",
              "    }\n",
              "\n",
              "    .dataframe tbody tr th {\n",
              "        vertical-align: top;\n",
              "    }\n",
              "\n",
              "    .dataframe thead th {\n",
              "        text-align: right;\n",
              "    }\n",
              "</style>\n",
              "<table border=\"1\" class=\"dataframe\">\n",
              "  <thead>\n",
              "    <tr style=\"text-align: right;\">\n",
              "      <th></th>\n",
              "      <th>party</th>\n",
              "      <th>handicapped-infants</th>\n",
              "      <th>water-project</th>\n",
              "      <th>budget</th>\n",
              "      <th>physician-fee-freeze</th>\n",
              "      <th>el-salvador-aid</th>\n",
              "      <th>religious-groups</th>\n",
              "      <th>anti-satellite-ban</th>\n",
              "      <th>aid-to-contras</th>\n",
              "      <th>mx-missile</th>\n",
              "      <th>immigration</th>\n",
              "      <th>synfuels</th>\n",
              "      <th>education</th>\n",
              "      <th>right-to-sue</th>\n",
              "      <th>crime</th>\n",
              "      <th>duty-free</th>\n",
              "      <th>south-africa</th>\n",
              "    </tr>\n",
              "  </thead>\n",
              "  <tbody>\n",
              "    <tr>\n",
              "      <th>0</th>\n",
              "      <td>republican</td>\n",
              "      <td>n</td>\n",
              "      <td>y</td>\n",
              "      <td>n</td>\n",
              "      <td>y</td>\n",
              "      <td>y</td>\n",
              "      <td>y</td>\n",
              "      <td>n</td>\n",
              "      <td>n</td>\n",
              "      <td>n</td>\n",
              "      <td>y</td>\n",
              "      <td>NaN</td>\n",
              "      <td>y</td>\n",
              "      <td>y</td>\n",
              "      <td>y</td>\n",
              "      <td>n</td>\n",
              "      <td>y</td>\n",
              "    </tr>\n",
              "    <tr>\n",
              "      <th>1</th>\n",
              "      <td>republican</td>\n",
              "      <td>n</td>\n",
              "      <td>y</td>\n",
              "      <td>n</td>\n",
              "      <td>y</td>\n",
              "      <td>y</td>\n",
              "      <td>y</td>\n",
              "      <td>n</td>\n",
              "      <td>n</td>\n",
              "      <td>n</td>\n",
              "      <td>n</td>\n",
              "      <td>n</td>\n",
              "      <td>y</td>\n",
              "      <td>y</td>\n",
              "      <td>y</td>\n",
              "      <td>n</td>\n",
              "      <td>NaN</td>\n",
              "    </tr>\n",
              "    <tr>\n",
              "      <th>2</th>\n",
              "      <td>democrat</td>\n",
              "      <td>NaN</td>\n",
              "      <td>y</td>\n",
              "      <td>y</td>\n",
              "      <td>NaN</td>\n",
              "      <td>y</td>\n",
              "      <td>y</td>\n",
              "      <td>n</td>\n",
              "      <td>n</td>\n",
              "      <td>n</td>\n",
              "      <td>n</td>\n",
              "      <td>y</td>\n",
              "      <td>n</td>\n",
              "      <td>y</td>\n",
              "      <td>y</td>\n",
              "      <td>n</td>\n",
              "      <td>n</td>\n",
              "    </tr>\n",
              "    <tr>\n",
              "      <th>3</th>\n",
              "      <td>democrat</td>\n",
              "      <td>n</td>\n",
              "      <td>y</td>\n",
              "      <td>y</td>\n",
              "      <td>n</td>\n",
              "      <td>NaN</td>\n",
              "      <td>y</td>\n",
              "      <td>n</td>\n",
              "      <td>n</td>\n",
              "      <td>n</td>\n",
              "      <td>n</td>\n",
              "      <td>y</td>\n",
              "      <td>n</td>\n",
              "      <td>y</td>\n",
              "      <td>n</td>\n",
              "      <td>n</td>\n",
              "      <td>y</td>\n",
              "    </tr>\n",
              "    <tr>\n",
              "      <th>4</th>\n",
              "      <td>democrat</td>\n",
              "      <td>y</td>\n",
              "      <td>y</td>\n",
              "      <td>y</td>\n",
              "      <td>n</td>\n",
              "      <td>y</td>\n",
              "      <td>y</td>\n",
              "      <td>n</td>\n",
              "      <td>n</td>\n",
              "      <td>n</td>\n",
              "      <td>n</td>\n",
              "      <td>y</td>\n",
              "      <td>NaN</td>\n",
              "      <td>y</td>\n",
              "      <td>y</td>\n",
              "      <td>y</td>\n",
              "      <td>y</td>\n",
              "    </tr>\n",
              "  </tbody>\n",
              "</table>\n",
              "</div>"
            ],
            "text/plain": [
              "        party handicapped-infants water-project  ... crime duty-free south-africa\n",
              "0  republican                   n             y  ...     y         n            y\n",
              "1  republican                   n             y  ...     y         n          NaN\n",
              "2    democrat                 NaN             y  ...     y         n            n\n",
              "3    democrat                   n             y  ...     n         n            y\n",
              "4    democrat                   y             y  ...     y         y            y\n",
              "\n",
              "[5 rows x 17 columns]"
            ]
          },
          "metadata": {
            "tags": []
          },
          "execution_count": 69
        }
      ]
    },
    {
      "cell_type": "code",
      "metadata": {
        "id": "_1xxTAg1B6cQ",
        "colab_type": "code",
        "colab": {
          "base_uri": "https://localhost:8080/",
          "height": 323
        },
        "outputId": "22d37881-343e-4278-f59a-5a58aa5ca2f5"
      },
      "source": [
        "df.dtypes"
      ],
      "execution_count": 70,
      "outputs": [
        {
          "output_type": "execute_result",
          "data": {
            "text/plain": [
              "party                   object\n",
              "handicapped-infants     object\n",
              "water-project           object\n",
              "budget                  object\n",
              "physician-fee-freeze    object\n",
              "el-salvador-aid         object\n",
              "religious-groups        object\n",
              "anti-satellite-ban      object\n",
              "aid-to-contras          object\n",
              "mx-missile              object\n",
              "immigration             object\n",
              "synfuels                object\n",
              "education               object\n",
              "right-to-sue            object\n",
              "crime                   object\n",
              "duty-free               object\n",
              "south-africa            object\n",
              "dtype: object"
            ]
          },
          "metadata": {
            "tags": []
          },
          "execution_count": 70
        }
      ]
    },
    {
      "cell_type": "code",
      "metadata": {
        "id": "koa9GgsUCERC",
        "colab_type": "code",
        "colab": {
          "base_uri": "https://localhost:8080/",
          "height": 227
        },
        "outputId": "d1fb4147-758b-40d6-dbd5-de9c35bb04c2"
      },
      "source": [
        "df.describe()"
      ],
      "execution_count": 71,
      "outputs": [
        {
          "output_type": "execute_result",
          "data": {
            "text/html": [
              "<div>\n",
              "<style scoped>\n",
              "    .dataframe tbody tr th:only-of-type {\n",
              "        vertical-align: middle;\n",
              "    }\n",
              "\n",
              "    .dataframe tbody tr th {\n",
              "        vertical-align: top;\n",
              "    }\n",
              "\n",
              "    .dataframe thead th {\n",
              "        text-align: right;\n",
              "    }\n",
              "</style>\n",
              "<table border=\"1\" class=\"dataframe\">\n",
              "  <thead>\n",
              "    <tr style=\"text-align: right;\">\n",
              "      <th></th>\n",
              "      <th>party</th>\n",
              "      <th>handicapped-infants</th>\n",
              "      <th>water-project</th>\n",
              "      <th>budget</th>\n",
              "      <th>physician-fee-freeze</th>\n",
              "      <th>el-salvador-aid</th>\n",
              "      <th>religious-groups</th>\n",
              "      <th>anti-satellite-ban</th>\n",
              "      <th>aid-to-contras</th>\n",
              "      <th>mx-missile</th>\n",
              "      <th>immigration</th>\n",
              "      <th>synfuels</th>\n",
              "      <th>education</th>\n",
              "      <th>right-to-sue</th>\n",
              "      <th>crime</th>\n",
              "      <th>duty-free</th>\n",
              "      <th>south-africa</th>\n",
              "    </tr>\n",
              "  </thead>\n",
              "  <tbody>\n",
              "    <tr>\n",
              "      <th>count</th>\n",
              "      <td>435</td>\n",
              "      <td>423</td>\n",
              "      <td>387</td>\n",
              "      <td>424</td>\n",
              "      <td>424</td>\n",
              "      <td>420</td>\n",
              "      <td>424</td>\n",
              "      <td>421</td>\n",
              "      <td>420</td>\n",
              "      <td>413</td>\n",
              "      <td>428</td>\n",
              "      <td>414</td>\n",
              "      <td>404</td>\n",
              "      <td>410</td>\n",
              "      <td>418</td>\n",
              "      <td>407</td>\n",
              "      <td>331</td>\n",
              "    </tr>\n",
              "    <tr>\n",
              "      <th>unique</th>\n",
              "      <td>2</td>\n",
              "      <td>2</td>\n",
              "      <td>2</td>\n",
              "      <td>2</td>\n",
              "      <td>2</td>\n",
              "      <td>2</td>\n",
              "      <td>2</td>\n",
              "      <td>2</td>\n",
              "      <td>2</td>\n",
              "      <td>2</td>\n",
              "      <td>2</td>\n",
              "      <td>2</td>\n",
              "      <td>2</td>\n",
              "      <td>2</td>\n",
              "      <td>2</td>\n",
              "      <td>2</td>\n",
              "      <td>2</td>\n",
              "    </tr>\n",
              "    <tr>\n",
              "      <th>top</th>\n",
              "      <td>democrat</td>\n",
              "      <td>n</td>\n",
              "      <td>y</td>\n",
              "      <td>y</td>\n",
              "      <td>n</td>\n",
              "      <td>y</td>\n",
              "      <td>y</td>\n",
              "      <td>y</td>\n",
              "      <td>y</td>\n",
              "      <td>y</td>\n",
              "      <td>y</td>\n",
              "      <td>n</td>\n",
              "      <td>n</td>\n",
              "      <td>y</td>\n",
              "      <td>y</td>\n",
              "      <td>n</td>\n",
              "      <td>y</td>\n",
              "    </tr>\n",
              "    <tr>\n",
              "      <th>freq</th>\n",
              "      <td>267</td>\n",
              "      <td>236</td>\n",
              "      <td>195</td>\n",
              "      <td>253</td>\n",
              "      <td>247</td>\n",
              "      <td>212</td>\n",
              "      <td>272</td>\n",
              "      <td>239</td>\n",
              "      <td>242</td>\n",
              "      <td>207</td>\n",
              "      <td>216</td>\n",
              "      <td>264</td>\n",
              "      <td>233</td>\n",
              "      <td>209</td>\n",
              "      <td>248</td>\n",
              "      <td>233</td>\n",
              "      <td>269</td>\n",
              "    </tr>\n",
              "  </tbody>\n",
              "</table>\n",
              "</div>"
            ],
            "text/plain": [
              "           party handicapped-infants water-project  ... crime duty-free south-africa\n",
              "count        435                 423           387  ...   418       407          331\n",
              "unique         2                   2             2  ...     2         2            2\n",
              "top     democrat                   n             y  ...     y         n            y\n",
              "freq         267                 236           195  ...   248       233          269\n",
              "\n",
              "[4 rows x 17 columns]"
            ]
          },
          "metadata": {
            "tags": []
          },
          "execution_count": 71
        }
      ]
    },
    {
      "cell_type": "code",
      "metadata": {
        "id": "FjlGxh-_ER3N",
        "colab_type": "code",
        "colab": {
          "base_uri": "https://localhost:8080/",
          "height": 227
        },
        "outputId": "74a44399-e7c4-48a5-dfb8-d77151972a01"
      },
      "source": [
        "df.describe(exclude='number')"
      ],
      "execution_count": 51,
      "outputs": [
        {
          "output_type": "execute_result",
          "data": {
            "text/html": [
              "<div>\n",
              "<style scoped>\n",
              "    .dataframe tbody tr th:only-of-type {\n",
              "        vertical-align: middle;\n",
              "    }\n",
              "\n",
              "    .dataframe tbody tr th {\n",
              "        vertical-align: top;\n",
              "    }\n",
              "\n",
              "    .dataframe thead th {\n",
              "        text-align: right;\n",
              "    }\n",
              "</style>\n",
              "<table border=\"1\" class=\"dataframe\">\n",
              "  <thead>\n",
              "    <tr style=\"text-align: right;\">\n",
              "      <th></th>\n",
              "      <th>party</th>\n",
              "      <th>handicapped-infants</th>\n",
              "      <th>water-project</th>\n",
              "      <th>budget</th>\n",
              "      <th>physician-fee-freeze</th>\n",
              "      <th>el-salvador-aid</th>\n",
              "      <th>religious-groups</th>\n",
              "      <th>anti-satellite-ban</th>\n",
              "      <th>aid-to-contras</th>\n",
              "      <th>mx-missile</th>\n",
              "      <th>immigration</th>\n",
              "      <th>synfuels</th>\n",
              "      <th>education</th>\n",
              "      <th>right-to-sue</th>\n",
              "      <th>crime</th>\n",
              "      <th>duty-free</th>\n",
              "      <th>south-africa</th>\n",
              "    </tr>\n",
              "  </thead>\n",
              "  <tbody>\n",
              "    <tr>\n",
              "      <th>count</th>\n",
              "      <td>435</td>\n",
              "      <td>423</td>\n",
              "      <td>387</td>\n",
              "      <td>424</td>\n",
              "      <td>424</td>\n",
              "      <td>420</td>\n",
              "      <td>424</td>\n",
              "      <td>421</td>\n",
              "      <td>420</td>\n",
              "      <td>413</td>\n",
              "      <td>428</td>\n",
              "      <td>414</td>\n",
              "      <td>404</td>\n",
              "      <td>410</td>\n",
              "      <td>418</td>\n",
              "      <td>407</td>\n",
              "      <td>331</td>\n",
              "    </tr>\n",
              "    <tr>\n",
              "      <th>unique</th>\n",
              "      <td>2</td>\n",
              "      <td>2</td>\n",
              "      <td>2</td>\n",
              "      <td>2</td>\n",
              "      <td>2</td>\n",
              "      <td>2</td>\n",
              "      <td>2</td>\n",
              "      <td>2</td>\n",
              "      <td>2</td>\n",
              "      <td>2</td>\n",
              "      <td>2</td>\n",
              "      <td>2</td>\n",
              "      <td>2</td>\n",
              "      <td>2</td>\n",
              "      <td>2</td>\n",
              "      <td>2</td>\n",
              "      <td>2</td>\n",
              "    </tr>\n",
              "    <tr>\n",
              "      <th>top</th>\n",
              "      <td>democrat</td>\n",
              "      <td>n</td>\n",
              "      <td>y</td>\n",
              "      <td>y</td>\n",
              "      <td>n</td>\n",
              "      <td>y</td>\n",
              "      <td>y</td>\n",
              "      <td>y</td>\n",
              "      <td>y</td>\n",
              "      <td>y</td>\n",
              "      <td>y</td>\n",
              "      <td>n</td>\n",
              "      <td>n</td>\n",
              "      <td>y</td>\n",
              "      <td>y</td>\n",
              "      <td>n</td>\n",
              "      <td>y</td>\n",
              "    </tr>\n",
              "    <tr>\n",
              "      <th>freq</th>\n",
              "      <td>267</td>\n",
              "      <td>236</td>\n",
              "      <td>195</td>\n",
              "      <td>253</td>\n",
              "      <td>247</td>\n",
              "      <td>212</td>\n",
              "      <td>272</td>\n",
              "      <td>239</td>\n",
              "      <td>242</td>\n",
              "      <td>207</td>\n",
              "      <td>216</td>\n",
              "      <td>264</td>\n",
              "      <td>233</td>\n",
              "      <td>209</td>\n",
              "      <td>248</td>\n",
              "      <td>233</td>\n",
              "      <td>269</td>\n",
              "    </tr>\n",
              "  </tbody>\n",
              "</table>\n",
              "</div>"
            ],
            "text/plain": [
              "           party handicapped-infants water-project  ... crime duty-free south-africa\n",
              "count        435                 423           387  ...   418       407          331\n",
              "unique         2                   2             2  ...     2         2            2\n",
              "top     democrat                   n             y  ...     y         n            y\n",
              "freq         267                 236           195  ...   248       233          269\n",
              "\n",
              "[4 rows x 17 columns]"
            ]
          },
          "metadata": {
            "tags": []
          },
          "execution_count": 51
        }
      ]
    },
    {
      "cell_type": "code",
      "metadata": {
        "id": "Dz8SIrJIKOzj",
        "colab_type": "code",
        "colab": {
          "base_uri": "https://localhost:8080/",
          "height": 258
        },
        "outputId": "78ed6550-1e0b-4139-cd30-2455aefbfd4f"
      },
      "source": [
        "# replacing y = 1, n = 0\n",
        "df = df.replace({\"y\": 1, \"n\": 0})\n",
        "dem.head()"
      ],
      "execution_count": 72,
      "outputs": [
        {
          "output_type": "execute_result",
          "data": {
            "text/html": [
              "<div>\n",
              "<style scoped>\n",
              "    .dataframe tbody tr th:only-of-type {\n",
              "        vertical-align: middle;\n",
              "    }\n",
              "\n",
              "    .dataframe tbody tr th {\n",
              "        vertical-align: top;\n",
              "    }\n",
              "\n",
              "    .dataframe thead th {\n",
              "        text-align: right;\n",
              "    }\n",
              "</style>\n",
              "<table border=\"1\" class=\"dataframe\">\n",
              "  <thead>\n",
              "    <tr style=\"text-align: right;\">\n",
              "      <th></th>\n",
              "      <th>party</th>\n",
              "      <th>handicapped-infants</th>\n",
              "      <th>water-project</th>\n",
              "      <th>budget</th>\n",
              "      <th>physician-fee-freeze</th>\n",
              "      <th>el-salvador-aid</th>\n",
              "      <th>religious-groups</th>\n",
              "      <th>anti-satellite-ban</th>\n",
              "      <th>aid-to-contras</th>\n",
              "      <th>mx-missile</th>\n",
              "      <th>immigration</th>\n",
              "      <th>synfuels</th>\n",
              "      <th>education</th>\n",
              "      <th>right-to-sue</th>\n",
              "      <th>crime</th>\n",
              "      <th>duty-free</th>\n",
              "      <th>south-africa</th>\n",
              "    </tr>\n",
              "  </thead>\n",
              "  <tbody>\n",
              "    <tr>\n",
              "      <th>2</th>\n",
              "      <td>democrat</td>\n",
              "      <td>NaN</td>\n",
              "      <td>1.0</td>\n",
              "      <td>1.0</td>\n",
              "      <td>NaN</td>\n",
              "      <td>1.0</td>\n",
              "      <td>1.0</td>\n",
              "      <td>0.0</td>\n",
              "      <td>0.0</td>\n",
              "      <td>0.0</td>\n",
              "      <td>0.0</td>\n",
              "      <td>1.0</td>\n",
              "      <td>0.0</td>\n",
              "      <td>1.0</td>\n",
              "      <td>1.0</td>\n",
              "      <td>0.0</td>\n",
              "      <td>0.0</td>\n",
              "    </tr>\n",
              "    <tr>\n",
              "      <th>3</th>\n",
              "      <td>democrat</td>\n",
              "      <td>0.0</td>\n",
              "      <td>1.0</td>\n",
              "      <td>1.0</td>\n",
              "      <td>0.0</td>\n",
              "      <td>NaN</td>\n",
              "      <td>1.0</td>\n",
              "      <td>0.0</td>\n",
              "      <td>0.0</td>\n",
              "      <td>0.0</td>\n",
              "      <td>0.0</td>\n",
              "      <td>1.0</td>\n",
              "      <td>0.0</td>\n",
              "      <td>1.0</td>\n",
              "      <td>0.0</td>\n",
              "      <td>0.0</td>\n",
              "      <td>1.0</td>\n",
              "    </tr>\n",
              "    <tr>\n",
              "      <th>4</th>\n",
              "      <td>democrat</td>\n",
              "      <td>1.0</td>\n",
              "      <td>1.0</td>\n",
              "      <td>1.0</td>\n",
              "      <td>0.0</td>\n",
              "      <td>1.0</td>\n",
              "      <td>1.0</td>\n",
              "      <td>0.0</td>\n",
              "      <td>0.0</td>\n",
              "      <td>0.0</td>\n",
              "      <td>0.0</td>\n",
              "      <td>1.0</td>\n",
              "      <td>NaN</td>\n",
              "      <td>1.0</td>\n",
              "      <td>1.0</td>\n",
              "      <td>1.0</td>\n",
              "      <td>1.0</td>\n",
              "    </tr>\n",
              "    <tr>\n",
              "      <th>5</th>\n",
              "      <td>democrat</td>\n",
              "      <td>0.0</td>\n",
              "      <td>1.0</td>\n",
              "      <td>1.0</td>\n",
              "      <td>0.0</td>\n",
              "      <td>1.0</td>\n",
              "      <td>1.0</td>\n",
              "      <td>0.0</td>\n",
              "      <td>0.0</td>\n",
              "      <td>0.0</td>\n",
              "      <td>0.0</td>\n",
              "      <td>0.0</td>\n",
              "      <td>0.0</td>\n",
              "      <td>1.0</td>\n",
              "      <td>1.0</td>\n",
              "      <td>1.0</td>\n",
              "      <td>1.0</td>\n",
              "    </tr>\n",
              "    <tr>\n",
              "      <th>6</th>\n",
              "      <td>democrat</td>\n",
              "      <td>0.0</td>\n",
              "      <td>1.0</td>\n",
              "      <td>0.0</td>\n",
              "      <td>1.0</td>\n",
              "      <td>1.0</td>\n",
              "      <td>1.0</td>\n",
              "      <td>0.0</td>\n",
              "      <td>0.0</td>\n",
              "      <td>0.0</td>\n",
              "      <td>0.0</td>\n",
              "      <td>0.0</td>\n",
              "      <td>0.0</td>\n",
              "      <td>NaN</td>\n",
              "      <td>1.0</td>\n",
              "      <td>1.0</td>\n",
              "      <td>1.0</td>\n",
              "    </tr>\n",
              "  </tbody>\n",
              "</table>\n",
              "</div>"
            ],
            "text/plain": [
              "      party  handicapped-infants  water-project  ...  crime  duty-free  south-africa\n",
              "2  democrat                  NaN            1.0  ...    1.0        0.0           0.0\n",
              "3  democrat                  0.0            1.0  ...    0.0        0.0           1.0\n",
              "4  democrat                  1.0            1.0  ...    1.0        1.0           1.0\n",
              "5  democrat                  0.0            1.0  ...    1.0        1.0           1.0\n",
              "6  democrat                  0.0            1.0  ...    1.0        1.0           1.0\n",
              "\n",
              "[5 rows x 17 columns]"
            ]
          },
          "metadata": {
            "tags": []
          },
          "execution_count": 72
        }
      ]
    },
    {
      "cell_type": "code",
      "metadata": {
        "id": "LiGcZ6EmH-DT",
        "colab_type": "code",
        "colab": {
          "base_uri": "https://localhost:8080/",
          "height": 258
        },
        "outputId": "110b73b3-9099-41d2-faf8-d7e7bbfc9757"
      },
      "source": [
        "dem = df[df['party']=='democrat']\n",
        "rep = df[df['party']=='republican']\n",
        "dem.head()"
      ],
      "execution_count": 73,
      "outputs": [
        {
          "output_type": "execute_result",
          "data": {
            "text/html": [
              "<div>\n",
              "<style scoped>\n",
              "    .dataframe tbody tr th:only-of-type {\n",
              "        vertical-align: middle;\n",
              "    }\n",
              "\n",
              "    .dataframe tbody tr th {\n",
              "        vertical-align: top;\n",
              "    }\n",
              "\n",
              "    .dataframe thead th {\n",
              "        text-align: right;\n",
              "    }\n",
              "</style>\n",
              "<table border=\"1\" class=\"dataframe\">\n",
              "  <thead>\n",
              "    <tr style=\"text-align: right;\">\n",
              "      <th></th>\n",
              "      <th>party</th>\n",
              "      <th>handicapped-infants</th>\n",
              "      <th>water-project</th>\n",
              "      <th>budget</th>\n",
              "      <th>physician-fee-freeze</th>\n",
              "      <th>el-salvador-aid</th>\n",
              "      <th>religious-groups</th>\n",
              "      <th>anti-satellite-ban</th>\n",
              "      <th>aid-to-contras</th>\n",
              "      <th>mx-missile</th>\n",
              "      <th>immigration</th>\n",
              "      <th>synfuels</th>\n",
              "      <th>education</th>\n",
              "      <th>right-to-sue</th>\n",
              "      <th>crime</th>\n",
              "      <th>duty-free</th>\n",
              "      <th>south-africa</th>\n",
              "    </tr>\n",
              "  </thead>\n",
              "  <tbody>\n",
              "    <tr>\n",
              "      <th>2</th>\n",
              "      <td>democrat</td>\n",
              "      <td>NaN</td>\n",
              "      <td>1.0</td>\n",
              "      <td>1.0</td>\n",
              "      <td>NaN</td>\n",
              "      <td>1.0</td>\n",
              "      <td>1.0</td>\n",
              "      <td>0.0</td>\n",
              "      <td>0.0</td>\n",
              "      <td>0.0</td>\n",
              "      <td>0.0</td>\n",
              "      <td>1.0</td>\n",
              "      <td>0.0</td>\n",
              "      <td>1.0</td>\n",
              "      <td>1.0</td>\n",
              "      <td>0.0</td>\n",
              "      <td>0.0</td>\n",
              "    </tr>\n",
              "    <tr>\n",
              "      <th>3</th>\n",
              "      <td>democrat</td>\n",
              "      <td>0.0</td>\n",
              "      <td>1.0</td>\n",
              "      <td>1.0</td>\n",
              "      <td>0.0</td>\n",
              "      <td>NaN</td>\n",
              "      <td>1.0</td>\n",
              "      <td>0.0</td>\n",
              "      <td>0.0</td>\n",
              "      <td>0.0</td>\n",
              "      <td>0.0</td>\n",
              "      <td>1.0</td>\n",
              "      <td>0.0</td>\n",
              "      <td>1.0</td>\n",
              "      <td>0.0</td>\n",
              "      <td>0.0</td>\n",
              "      <td>1.0</td>\n",
              "    </tr>\n",
              "    <tr>\n",
              "      <th>4</th>\n",
              "      <td>democrat</td>\n",
              "      <td>1.0</td>\n",
              "      <td>1.0</td>\n",
              "      <td>1.0</td>\n",
              "      <td>0.0</td>\n",
              "      <td>1.0</td>\n",
              "      <td>1.0</td>\n",
              "      <td>0.0</td>\n",
              "      <td>0.0</td>\n",
              "      <td>0.0</td>\n",
              "      <td>0.0</td>\n",
              "      <td>1.0</td>\n",
              "      <td>NaN</td>\n",
              "      <td>1.0</td>\n",
              "      <td>1.0</td>\n",
              "      <td>1.0</td>\n",
              "      <td>1.0</td>\n",
              "    </tr>\n",
              "    <tr>\n",
              "      <th>5</th>\n",
              "      <td>democrat</td>\n",
              "      <td>0.0</td>\n",
              "      <td>1.0</td>\n",
              "      <td>1.0</td>\n",
              "      <td>0.0</td>\n",
              "      <td>1.0</td>\n",
              "      <td>1.0</td>\n",
              "      <td>0.0</td>\n",
              "      <td>0.0</td>\n",
              "      <td>0.0</td>\n",
              "      <td>0.0</td>\n",
              "      <td>0.0</td>\n",
              "      <td>0.0</td>\n",
              "      <td>1.0</td>\n",
              "      <td>1.0</td>\n",
              "      <td>1.0</td>\n",
              "      <td>1.0</td>\n",
              "    </tr>\n",
              "    <tr>\n",
              "      <th>6</th>\n",
              "      <td>democrat</td>\n",
              "      <td>0.0</td>\n",
              "      <td>1.0</td>\n",
              "      <td>0.0</td>\n",
              "      <td>1.0</td>\n",
              "      <td>1.0</td>\n",
              "      <td>1.0</td>\n",
              "      <td>0.0</td>\n",
              "      <td>0.0</td>\n",
              "      <td>0.0</td>\n",
              "      <td>0.0</td>\n",
              "      <td>0.0</td>\n",
              "      <td>0.0</td>\n",
              "      <td>NaN</td>\n",
              "      <td>1.0</td>\n",
              "      <td>1.0</td>\n",
              "      <td>1.0</td>\n",
              "    </tr>\n",
              "  </tbody>\n",
              "</table>\n",
              "</div>"
            ],
            "text/plain": [
              "      party  handicapped-infants  water-project  ...  crime  duty-free  south-africa\n",
              "2  democrat                  NaN            1.0  ...    1.0        0.0           0.0\n",
              "3  democrat                  0.0            1.0  ...    0.0        0.0           1.0\n",
              "4  democrat                  1.0            1.0  ...    1.0        1.0           1.0\n",
              "5  democrat                  0.0            1.0  ...    1.0        1.0           1.0\n",
              "6  democrat                  0.0            1.0  ...    1.0        1.0           1.0\n",
              "\n",
              "[5 rows x 17 columns]"
            ]
          },
          "metadata": {
            "tags": []
          },
          "execution_count": 73
        }
      ]
    },
    {
      "cell_type": "code",
      "metadata": {
        "id": "6PRPt2rzIOAs",
        "colab_type": "code",
        "colab": {
          "base_uri": "https://localhost:8080/",
          "height": 68
        },
        "outputId": "f487aa12-8bf8-42af-d347-a12411e4f802"
      },
      "source": [
        "dem['budget'].value_counts()"
      ],
      "execution_count": 74,
      "outputs": [
        {
          "output_type": "execute_result",
          "data": {
            "text/plain": [
              "1.0    231\n",
              "0.0     29\n",
              "Name: budget, dtype: int64"
            ]
          },
          "metadata": {
            "tags": []
          },
          "execution_count": 74
        }
      ]
    },
    {
      "cell_type": "code",
      "metadata": {
        "id": "t-PhOfg4Lny4",
        "colab_type": "code",
        "colab": {
          "base_uri": "https://localhost:8080/",
          "height": 34
        },
        "outputId": "8b3638bd-1091-42a2-dfb1-02edc7f86f2c"
      },
      "source": [
        "# checking for NaN\n",
        "dem['budget'].isnull().sum()"
      ],
      "execution_count": 75,
      "outputs": [
        {
          "output_type": "execute_result",
          "data": {
            "text/plain": [
              "7"
            ]
          },
          "metadata": {
            "tags": []
          },
          "execution_count": 75
        }
      ]
    },
    {
      "cell_type": "code",
      "metadata": {
        "id": "oJnMNnUIL0HX",
        "colab_type": "code",
        "colab": {
          "base_uri": "https://localhost:8080/",
          "height": 34
        },
        "outputId": "d84caa6d-5f00-4593-f963-a4eee7a89415"
      },
      "source": [
        "dem_no_nan['budget'] = dem['budget'].dropna()\n",
        "dem_no_nan['budget'].isnull().sum()"
      ],
      "execution_count": 77,
      "outputs": [
        {
          "output_type": "execute_result",
          "data": {
            "text/plain": [
              "0"
            ]
          },
          "metadata": {
            "tags": []
          },
          "execution_count": 77
        }
      ]
    },
    {
      "cell_type": "code",
      "metadata": {
        "id": "Fp7j3IqOIXiL",
        "colab_type": "code",
        "colab": {}
      },
      "source": [
        "# retyping function from lecture\n",
        "def confidence_interval(sample, confidence=0.95):\n",
        "  \"\"\"\n",
        "  Calculate a confidence interval around a sample mean for given data.\n",
        "  Using t-distribution and two-tailed test, default 95% confidence. \n",
        "  \n",
        "  Arguments:\n",
        "    data - iterable (list or numpy array) of sample observations\n",
        "    confidence - level of confidence for the interval\n",
        "  \n",
        "  Returns:\n",
        "    tuple of (mean, lower bound, upper bound)\n",
        "  \"\"\"\n",
        "  sample = np.array(sample)\n",
        "  mean = np.mean(sample)\n",
        "  n = len(sample)\n",
        "  stderr = np.std(sample, ddof=1) / np.sqrt(n)\n",
        "  t = stats.t.ppf((1 + confidence) / 2.0, n - 1)\n",
        "  margin_of_error = t * stderr\n",
        "  return mean - margin_of_error, mean, mean + margin_of_error"
      ],
      "execution_count": 0,
      "outputs": []
    },
    {
      "cell_type": "code",
      "metadata": {
        "id": "Bm3W-nHcI1q_",
        "colab_type": "code",
        "colab": {
          "base_uri": "https://localhost:8080/",
          "height": 68
        },
        "outputId": "3b8abb48-f7f2-4b2e-cd05-fb433d98b234"
      },
      "source": [
        "# determining Confidence Interval\n",
        "lower_bound, mean, upper_bound = confidence_interval(dem_no_nan['budget'])\n",
        "print(\"lower bound:\", lower_bound)\n",
        "print(\"mean\", mean)\n",
        "print(\"upper bound:\", upper_bound)"
      ],
      "execution_count": 79,
      "outputs": [
        {
          "output_type": "stream",
          "text": [
            "lower bound: 0.8499435153340716\n",
            "mean 0.8884615384615384\n",
            "upper bound: 0.9269795615890052\n"
          ],
          "name": "stdout"
        }
      ]
    },
    {
      "cell_type": "code",
      "metadata": {
        "id": "0feuslaxOp-2",
        "colab_type": "code",
        "colab": {
          "base_uri": "https://localhost:8080/",
          "height": 281
        },
        "outputId": "384039a6-6b6b-4b2f-f973-2014e3dd258f"
      },
      "source": [
        "#plotting CI\n",
        "CI = confidence_interval(dem_no_nan['budget'])\n",
        "\n",
        "dem_no_nan['budget'].plot.density()\n",
        "plt.title(\"Democrat Budget Vote Distribution\")\n",
        "plt.axvline(x=CI[0], color='red')\n",
        "plt.axvline(x=CI[1], color='black')\n",
        "plt.axvline(x=CI[2], color='red');\n",
        "plt.show()"
      ],
      "execution_count": 80,
      "outputs": [
        {
          "output_type": "display_data",
          "data": {
            "image/png": "[encoded data removed]",
            "text/plain": [
              "<Figure size 432x288 with 1 Axes>"
            ]
          },
          "metadata": {
            "tags": []
          }
        }
      ]
    },
    {
      "cell_type": "markdown",
      "metadata": {
        "id": "waaeXc9BQPU8",
        "colab_type": "text"
      },
      "source": [
        "**Conclusion**\n",
        "\n",
        "I am 95% certain that the sample mean of the Democrate Budget Votes (mean = 0.889) will be within the confidence interval from lower bound: 0.8499435153340716 and upper bound: 0.9269795615890052.\n",
        "\n",
        "Given that the mean i 0.889, I would also conclude that the majority of votes from the democrates appear to be in favour of the budget bill.\n"
      ]
    },
    {
      "cell_type": "markdown",
      "metadata": {
        "id": "tekrPSnaaL7Q",
        "colab_type": "text"
      },
      "source": [
        "CI definition: A 95% level of confidence means that 95% of the confidence intervals calculated from these random samples will contain the true population mean.\n",
        "\n",
        "**As such my interpretation of the CI is consistant with it's definition**"
      ]
    },
    {
      "cell_type": "markdown",
      "metadata": {
        "id": "jsY_UY8PTkD6",
        "colab_type": "text"
      },
      "source": [
        "**Chi-squared tests**"
      ]
    },
    {
      "cell_type": "code",
      "metadata": {
        "id": "uUNC1bxHQ7qW",
        "colab_type": "code",
        "colab": {}
      },
      "source": [
        "import pandas as pd\n",
        "import numpy as np\n",
        "from scipy import stats\n",
        "from scipy.stats import t, ttest_1samp\n",
        "import matplotlib.pyplot as plt\n",
        "import seaborn as sns"
      ],
      "execution_count": 0,
      "outputs": []
    },
    {
      "cell_type": "code",
      "metadata": {
        "id": "Sr9F--UYRwSe",
        "colab_type": "code",
        "colab": {
          "base_uri": "https://localhost:8080/",
          "height": 445
        },
        "outputId": "0815b51f-df86-486a-9572-4e4254bf5cff"
      },
      "source": [
        "#Loading Data and cleaning\n",
        "\n",
        "!wget https://archive.ics.uci.edu/ml/machine-learning-databases/voting-records/house-votes-84.data\n",
        "\n",
        "df = pd.read_csv('house-votes-84.data', names=['party','handicapped-infants','water-project',\n",
        "                          'budget','physician-fee-freeze', 'el-salvador-aid',\n",
        "                          'religious-groups','anti-satellite-ban',\n",
        "                          'aid-to-contras','mx-missile','immigration',\n",
        "                          'synfuels', 'education', 'right-to-sue','crime','duty-free',\n",
        "                          'south-africa'], na_values=\"?\")\n",
        "\n",
        "df.head()\n"
      ],
      "execution_count": 83,
      "outputs": [
        {
          "output_type": "stream",
          "text": [
            "--2020-02-18 22:01:03--  https://archive.ics.uci.edu/ml/machine-learning-databases/voting-records/house-votes-84.data\n",
            "Resolving archive.ics.uci.edu (archive.ics.uci.edu)... 128.195.10.252\n",
            "Connecting to archive.ics.uci.edu (archive.ics.uci.edu)|128.195.10.252|:443... connected.\n",
            "HTTP request sent, awaiting response... 200 OK\n",
            "Length: 18171 (18K) [application/x-httpd-php]\n",
            "Saving to: ‘house-votes-84.data.6’\n",
            "\n",
            "\rhouse-votes-84.data   0%[                    ]       0  --.-KB/s               \rhouse-votes-84.data 100%[===================>]  17.75K  --.-KB/s    in 0.03s   \n",
            "\n",
            "2020-02-18 22:01:03 (625 KB/s) - ‘house-votes-84.data.6’ saved [18171/18171]\n",
            "\n"
          ],
          "name": "stdout"
        },
        {
          "output_type": "execute_result",
          "data": {
            "text/html": [
              "<div>\n",
              "<style scoped>\n",
              "    .dataframe tbody tr th:only-of-type {\n",
              "        vertical-align: middle;\n",
              "    }\n",
              "\n",
              "    .dataframe tbody tr th {\n",
              "        vertical-align: top;\n",
              "    }\n",
              "\n",
              "    .dataframe thead th {\n",
              "        text-align: right;\n",
              "    }\n",
              "</style>\n",
              "<table border=\"1\" class=\"dataframe\">\n",
              "  <thead>\n",
              "    <tr style=\"text-align: right;\">\n",
              "      <th></th>\n",
              "      <th>party</th>\n",
              "      <th>handicapped-infants</th>\n",
              "      <th>water-project</th>\n",
              "      <th>budget</th>\n",
              "      <th>physician-fee-freeze</th>\n",
              "      <th>el-salvador-aid</th>\n",
              "      <th>religious-groups</th>\n",
              "      <th>anti-satellite-ban</th>\n",
              "      <th>aid-to-contras</th>\n",
              "      <th>mx-missile</th>\n",
              "      <th>immigration</th>\n",
              "      <th>synfuels</th>\n",
              "      <th>education</th>\n",
              "      <th>right-to-sue</th>\n",
              "      <th>crime</th>\n",
              "      <th>duty-free</th>\n",
              "      <th>south-africa</th>\n",
              "    </tr>\n",
              "  </thead>\n",
              "  <tbody>\n",
              "    <tr>\n",
              "      <th>0</th>\n",
              "      <td>republican</td>\n",
              "      <td>n</td>\n",
              "      <td>y</td>\n",
              "      <td>n</td>\n",
              "      <td>y</td>\n",
              "      <td>y</td>\n",
              "      <td>y</td>\n",
              "      <td>n</td>\n",
              "      <td>n</td>\n",
              "      <td>n</td>\n",
              "      <td>y</td>\n",
              "      <td>NaN</td>\n",
              "      <td>y</td>\n",
              "      <td>y</td>\n",
              "      <td>y</td>\n",
              "      <td>n</td>\n",
              "      <td>y</td>\n",
              "    </tr>\n",
              "    <tr>\n",
              "      <th>1</th>\n",
              "      <td>republican</td>\n",
              "      <td>n</td>\n",
              "      <td>y</td>\n",
              "      <td>n</td>\n",
              "      <td>y</td>\n",
              "      <td>y</td>\n",
              "      <td>y</td>\n",
              "      <td>n</td>\n",
              "      <td>n</td>\n",
              "      <td>n</td>\n",
              "      <td>n</td>\n",
              "      <td>n</td>\n",
              "      <td>y</td>\n",
              "      <td>y</td>\n",
              "      <td>y</td>\n",
              "      <td>n</td>\n",
              "      <td>NaN</td>\n",
              "    </tr>\n",
              "    <tr>\n",
              "      <th>2</th>\n",
              "      <td>democrat</td>\n",
              "      <td>NaN</td>\n",
              "      <td>y</td>\n",
              "      <td>y</td>\n",
              "      <td>NaN</td>\n",
              "      <td>y</td>\n",
              "      <td>y</td>\n",
              "      <td>n</td>\n",
              "      <td>n</td>\n",
              "      <td>n</td>\n",
              "      <td>n</td>\n",
              "      <td>y</td>\n",
              "      <td>n</td>\n",
              "      <td>y</td>\n",
              "      <td>y</td>\n",
              "      <td>n</td>\n",
              "      <td>n</td>\n",
              "    </tr>\n",
              "    <tr>\n",
              "      <th>3</th>\n",
              "      <td>democrat</td>\n",
              "      <td>n</td>\n",
              "      <td>y</td>\n",
              "      <td>y</td>\n",
              "      <td>n</td>\n",
              "      <td>NaN</td>\n",
              "      <td>y</td>\n",
              "      <td>n</td>\n",
              "      <td>n</td>\n",
              "      <td>n</td>\n",
              "      <td>n</td>\n",
              "      <td>y</td>\n",
              "      <td>n</td>\n",
              "      <td>y</td>\n",
              "      <td>n</td>\n",
              "      <td>n</td>\n",
              "      <td>y</td>\n",
              "    </tr>\n",
              "    <tr>\n",
              "      <th>4</th>\n",
              "      <td>democrat</td>\n",
              "      <td>y</td>\n",
              "      <td>y</td>\n",
              "      <td>y</td>\n",
              "      <td>n</td>\n",
              "      <td>y</td>\n",
              "      <td>y</td>\n",
              "      <td>n</td>\n",
              "      <td>n</td>\n",
              "      <td>n</td>\n",
              "      <td>n</td>\n",
              "      <td>y</td>\n",
              "      <td>NaN</td>\n",
              "      <td>y</td>\n",
              "      <td>y</td>\n",
              "      <td>y</td>\n",
              "      <td>y</td>\n",
              "    </tr>\n",
              "  </tbody>\n",
              "</table>\n",
              "</div>"
            ],
            "text/plain": [
              "        party handicapped-infants water-project  ... crime duty-free south-africa\n",
              "0  republican                   n             y  ...     y         n            y\n",
              "1  republican                   n             y  ...     y         n          NaN\n",
              "2    democrat                 NaN             y  ...     y         n            n\n",
              "3    democrat                   n             y  ...     n         n            y\n",
              "4    democrat                   y             y  ...     y         y            y\n",
              "\n",
              "[5 rows x 17 columns]"
            ]
          },
          "metadata": {
            "tags": []
          },
          "execution_count": 83
        }
      ]
    },
    {
      "cell_type": "code",
      "metadata": {
        "id": "74n5l7ltVRTj",
        "colab_type": "code",
        "colab": {
          "base_uri": "https://localhost:8080/",
          "height": 227
        },
        "outputId": "9585e62e-0ee5-4bb9-943b-51a45e0e7cf0"
      },
      "source": [
        "df.describe()"
      ],
      "execution_count": 84,
      "outputs": [
        {
          "output_type": "execute_result",
          "data": {
            "text/html": [
              "<div>\n",
              "<style scoped>\n",
              "    .dataframe tbody tr th:only-of-type {\n",
              "        vertical-align: middle;\n",
              "    }\n",
              "\n",
              "    .dataframe tbody tr th {\n",
              "        vertical-align: top;\n",
              "    }\n",
              "\n",
              "    .dataframe thead th {\n",
              "        text-align: right;\n",
              "    }\n",
              "</style>\n",
              "<table border=\"1\" class=\"dataframe\">\n",
              "  <thead>\n",
              "    <tr style=\"text-align: right;\">\n",
              "      <th></th>\n",
              "      <th>party</th>\n",
              "      <th>handicapped-infants</th>\n",
              "      <th>water-project</th>\n",
              "      <th>budget</th>\n",
              "      <th>physician-fee-freeze</th>\n",
              "      <th>el-salvador-aid</th>\n",
              "      <th>religious-groups</th>\n",
              "      <th>anti-satellite-ban</th>\n",
              "      <th>aid-to-contras</th>\n",
              "      <th>mx-missile</th>\n",
              "      <th>immigration</th>\n",
              "      <th>synfuels</th>\n",
              "      <th>education</th>\n",
              "      <th>right-to-sue</th>\n",
              "      <th>crime</th>\n",
              "      <th>duty-free</th>\n",
              "      <th>south-africa</th>\n",
              "    </tr>\n",
              "  </thead>\n",
              "  <tbody>\n",
              "    <tr>\n",
              "      <th>count</th>\n",
              "      <td>435</td>\n",
              "      <td>423</td>\n",
              "      <td>387</td>\n",
              "      <td>424</td>\n",
              "      <td>424</td>\n",
              "      <td>420</td>\n",
              "      <td>424</td>\n",
              "      <td>421</td>\n",
              "      <td>420</td>\n",
              "      <td>413</td>\n",
              "      <td>428</td>\n",
              "      <td>414</td>\n",
              "      <td>404</td>\n",
              "      <td>410</td>\n",
              "      <td>418</td>\n",
              "      <td>407</td>\n",
              "      <td>331</td>\n",
              "    </tr>\n",
              "    <tr>\n",
              "      <th>unique</th>\n",
              "      <td>2</td>\n",
              "      <td>2</td>\n",
              "      <td>2</td>\n",
              "      <td>2</td>\n",
              "      <td>2</td>\n",
              "      <td>2</td>\n",
              "      <td>2</td>\n",
              "      <td>2</td>\n",
              "      <td>2</td>\n",
              "      <td>2</td>\n",
              "      <td>2</td>\n",
              "      <td>2</td>\n",
              "      <td>2</td>\n",
              "      <td>2</td>\n",
              "      <td>2</td>\n",
              "      <td>2</td>\n",
              "      <td>2</td>\n",
              "    </tr>\n",
              "    <tr>\n",
              "      <th>top</th>\n",
              "      <td>democrat</td>\n",
              "      <td>n</td>\n",
              "      <td>y</td>\n",
              "      <td>y</td>\n",
              "      <td>n</td>\n",
              "      <td>y</td>\n",
              "      <td>y</td>\n",
              "      <td>y</td>\n",
              "      <td>y</td>\n",
              "      <td>y</td>\n",
              "      <td>y</td>\n",
              "      <td>n</td>\n",
              "      <td>n</td>\n",
              "      <td>y</td>\n",
              "      <td>y</td>\n",
              "      <td>n</td>\n",
              "      <td>y</td>\n",
              "    </tr>\n",
              "    <tr>\n",
              "      <th>freq</th>\n",
              "      <td>267</td>\n",
              "      <td>236</td>\n",
              "      <td>195</td>\n",
              "      <td>253</td>\n",
              "      <td>247</td>\n",
              "      <td>212</td>\n",
              "      <td>272</td>\n",
              "      <td>239</td>\n",
              "      <td>242</td>\n",
              "      <td>207</td>\n",
              "      <td>216</td>\n",
              "      <td>264</td>\n",
              "      <td>233</td>\n",
              "      <td>209</td>\n",
              "      <td>248</td>\n",
              "      <td>233</td>\n",
              "      <td>269</td>\n",
              "    </tr>\n",
              "  </tbody>\n",
              "</table>\n",
              "</div>"
            ],
            "text/plain": [
              "           party handicapped-infants water-project  ... crime duty-free south-africa\n",
              "count        435                 423           387  ...   418       407          331\n",
              "unique         2                   2             2  ...     2         2            2\n",
              "top     democrat                   n             y  ...     y         n            y\n",
              "freq         267                 236           195  ...   248       233          269\n",
              "\n",
              "[4 rows x 17 columns]"
            ]
          },
          "metadata": {
            "tags": []
          },
          "execution_count": 84
        }
      ]
    },
    {
      "cell_type": "code",
      "metadata": {
        "id": "K4Le-cVsVTS1",
        "colab_type": "code",
        "colab": {
          "base_uri": "https://localhost:8080/",
          "height": 227
        },
        "outputId": "921fa9c8-ab8a-4322-8975-e1050f956cf5"
      },
      "source": [
        "df.describe(exclude='number')"
      ],
      "execution_count": 85,
      "outputs": [
        {
          "output_type": "execute_result",
          "data": {
            "text/html": [
              "<div>\n",
              "<style scoped>\n",
              "    .dataframe tbody tr th:only-of-type {\n",
              "        vertical-align: middle;\n",
              "    }\n",
              "\n",
              "    .dataframe tbody tr th {\n",
              "        vertical-align: top;\n",
              "    }\n",
              "\n",
              "    .dataframe thead th {\n",
              "        text-align: right;\n",
              "    }\n",
              "</style>\n",
              "<table border=\"1\" class=\"dataframe\">\n",
              "  <thead>\n",
              "    <tr style=\"text-align: right;\">\n",
              "      <th></th>\n",
              "      <th>party</th>\n",
              "      <th>handicapped-infants</th>\n",
              "      <th>water-project</th>\n",
              "      <th>budget</th>\n",
              "      <th>physician-fee-freeze</th>\n",
              "      <th>el-salvador-aid</th>\n",
              "      <th>religious-groups</th>\n",
              "      <th>anti-satellite-ban</th>\n",
              "      <th>aid-to-contras</th>\n",
              "      <th>mx-missile</th>\n",
              "      <th>immigration</th>\n",
              "      <th>synfuels</th>\n",
              "      <th>education</th>\n",
              "      <th>right-to-sue</th>\n",
              "      <th>crime</th>\n",
              "      <th>duty-free</th>\n",
              "      <th>south-africa</th>\n",
              "    </tr>\n",
              "  </thead>\n",
              "  <tbody>\n",
              "    <tr>\n",
              "      <th>count</th>\n",
              "      <td>435</td>\n",
              "      <td>423</td>\n",
              "      <td>387</td>\n",
              "      <td>424</td>\n",
              "      <td>424</td>\n",
              "      <td>420</td>\n",
              "      <td>424</td>\n",
              "      <td>421</td>\n",
              "      <td>420</td>\n",
              "      <td>413</td>\n",
              "      <td>428</td>\n",
              "      <td>414</td>\n",
              "      <td>404</td>\n",
              "      <td>410</td>\n",
              "      <td>418</td>\n",
              "      <td>407</td>\n",
              "      <td>331</td>\n",
              "    </tr>\n",
              "    <tr>\n",
              "      <th>unique</th>\n",
              "      <td>2</td>\n",
              "      <td>2</td>\n",
              "      <td>2</td>\n",
              "      <td>2</td>\n",
              "      <td>2</td>\n",
              "      <td>2</td>\n",
              "      <td>2</td>\n",
              "      <td>2</td>\n",
              "      <td>2</td>\n",
              "      <td>2</td>\n",
              "      <td>2</td>\n",
              "      <td>2</td>\n",
              "      <td>2</td>\n",
              "      <td>2</td>\n",
              "      <td>2</td>\n",
              "      <td>2</td>\n",
              "      <td>2</td>\n",
              "    </tr>\n",
              "    <tr>\n",
              "      <th>top</th>\n",
              "      <td>democrat</td>\n",
              "      <td>n</td>\n",
              "      <td>y</td>\n",
              "      <td>y</td>\n",
              "      <td>n</td>\n",
              "      <td>y</td>\n",
              "      <td>y</td>\n",
              "      <td>y</td>\n",
              "      <td>y</td>\n",
              "      <td>y</td>\n",
              "      <td>y</td>\n",
              "      <td>n</td>\n",
              "      <td>n</td>\n",
              "      <td>y</td>\n",
              "      <td>y</td>\n",
              "      <td>n</td>\n",
              "      <td>y</td>\n",
              "    </tr>\n",
              "    <tr>\n",
              "      <th>freq</th>\n",
              "      <td>267</td>\n",
              "      <td>236</td>\n",
              "      <td>195</td>\n",
              "      <td>253</td>\n",
              "      <td>247</td>\n",
              "      <td>212</td>\n",
              "      <td>272</td>\n",
              "      <td>239</td>\n",
              "      <td>242</td>\n",
              "      <td>207</td>\n",
              "      <td>216</td>\n",
              "      <td>264</td>\n",
              "      <td>233</td>\n",
              "      <td>209</td>\n",
              "      <td>248</td>\n",
              "      <td>233</td>\n",
              "      <td>269</td>\n",
              "    </tr>\n",
              "  </tbody>\n",
              "</table>\n",
              "</div>"
            ],
            "text/plain": [
              "           party handicapped-infants water-project  ... crime duty-free south-africa\n",
              "count        435                 423           387  ...   418       407          331\n",
              "unique         2                   2             2  ...     2         2            2\n",
              "top     democrat                   n             y  ...     y         n            y\n",
              "freq         267                 236           195  ...   248       233          269\n",
              "\n",
              "[4 rows x 17 columns]"
            ]
          },
          "metadata": {
            "tags": []
          },
          "execution_count": 85
        }
      ]
    },
    {
      "cell_type": "markdown",
      "metadata": {
        "id": "2gxxXFiUcxmK",
        "colab_type": "text"
      },
      "source": [
        "Null Hypothesis: party and budget vote outcome are indipendant.\n",
        "\n",
        "Alternative Hypothesis: party and budget vote outcome are dependent.\n",
        "\n",
        "Confidence Level: 95%"
      ]
    },
    {
      "cell_type": "code",
      "metadata": {
        "id": "foYuQR0EVcmt",
        "colab_type": "code",
        "colab": {
          "base_uri": "https://localhost:8080/",
          "height": 68
        },
        "outputId": "17921544-b526-492c-d66e-bb1cf28cdc51"
      },
      "source": [
        "# running chi2 on \"party and budget\" by hand\n",
        "df['party'].value_counts()"
      ],
      "execution_count": 87,
      "outputs": [
        {
          "output_type": "execute_result",
          "data": {
            "text/plain": [
              "democrat      267\n",
              "republican    168\n",
              "Name: party, dtype: int64"
            ]
          },
          "metadata": {
            "tags": []
          },
          "execution_count": 87
        }
      ]
    },
    {
      "cell_type": "code",
      "metadata": {
        "id": "ttMyKQ0tVvBj",
        "colab_type": "code",
        "colab": {
          "base_uri": "https://localhost:8080/",
          "height": 68
        },
        "outputId": "b3add6f1-a1c1-460b-8bfd-aa043920d3cf"
      },
      "source": [
        "df['budget'].value_counts()"
      ],
      "execution_count": 88,
      "outputs": [
        {
          "output_type": "execute_result",
          "data": {
            "text/plain": [
              "y    253\n",
              "n    171\n",
              "Name: budget, dtype: int64"
            ]
          },
          "metadata": {
            "tags": []
          },
          "execution_count": 88
        }
      ]
    },
    {
      "cell_type": "code",
      "metadata": {
        "id": "QlShefvnWtPO",
        "colab_type": "code",
        "colab": {
          "base_uri": "https://localhost:8080/",
          "height": 173
        },
        "outputId": "43b9ec89-16e3-4620-a9d1-e84b8344cb1e"
      },
      "source": [
        "#calculating expected values\n",
        "contingency_table = pd.crosstab(df['party'], df['budget'], margins=True)\n",
        "contingency_table"
      ],
      "execution_count": 90,
      "outputs": [
        {
          "output_type": "execute_result",
          "data": {
            "text/html": [
              "<div>\n",
              "<style scoped>\n",
              "    .dataframe tbody tr th:only-of-type {\n",
              "        vertical-align: middle;\n",
              "    }\n",
              "\n",
              "    .dataframe tbody tr th {\n",
              "        vertical-align: top;\n",
              "    }\n",
              "\n",
              "    .dataframe thead th {\n",
              "        text-align: right;\n",
              "    }\n",
              "</style>\n",
              "<table border=\"1\" class=\"dataframe\">\n",
              "  <thead>\n",
              "    <tr style=\"text-align: right;\">\n",
              "      <th>budget</th>\n",
              "      <th>n</th>\n",
              "      <th>y</th>\n",
              "      <th>All</th>\n",
              "    </tr>\n",
              "    <tr>\n",
              "      <th>party</th>\n",
              "      <th></th>\n",
              "      <th></th>\n",
              "      <th></th>\n",
              "    </tr>\n",
              "  </thead>\n",
              "  <tbody>\n",
              "    <tr>\n",
              "      <th>democrat</th>\n",
              "      <td>29</td>\n",
              "      <td>231</td>\n",
              "      <td>260</td>\n",
              "    </tr>\n",
              "    <tr>\n",
              "      <th>republican</th>\n",
              "      <td>142</td>\n",
              "      <td>22</td>\n",
              "      <td>164</td>\n",
              "    </tr>\n",
              "    <tr>\n",
              "      <th>All</th>\n",
              "      <td>171</td>\n",
              "      <td>253</td>\n",
              "      <td>424</td>\n",
              "    </tr>\n",
              "  </tbody>\n",
              "</table>\n",
              "</div>"
            ],
            "text/plain": [
              "budget        n    y  All\n",
              "party                    \n",
              "democrat     29  231  260\n",
              "republican  142   22  164\n",
              "All         171  253  424"
            ]
          },
          "metadata": {
            "tags": []
          },
          "execution_count": 90
        }
      ]
    },
    {
      "cell_type": "code",
      "metadata": {
        "id": "eQdbESC5Xzxg",
        "colab_type": "code",
        "colab": {
          "base_uri": "https://localhost:8080/",
          "height": 51
        },
        "outputId": "5894451d-ca9b-4c99-f111-fe5703d88bf6"
      },
      "source": [
        "row_sums = contingency_table.iloc[0:2, 2].values\n",
        "col_sums = contingency_table.iloc[2, 0:2].values\n",
        "\n",
        "print(row_sums)\n",
        "print(col_sums)"
      ],
      "execution_count": 92,
      "outputs": [
        {
          "output_type": "stream",
          "text": [
            "[260 164]\n",
            "[171 253]\n"
          ],
          "name": "stdout"
        }
      ]
    },
    {
      "cell_type": "code",
      "metadata": {
        "id": "PFJP8itcYJgP",
        "colab_type": "code",
        "colab": {}
      },
      "source": [
        "total_total = df.shape[0]"
      ],
      "execution_count": 0,
      "outputs": []
    },
    {
      "cell_type": "code",
      "metadata": {
        "id": "JTRUOR-dYOAh",
        "colab_type": "code",
        "colab": {
          "base_uri": "https://localhost:8080/",
          "height": 68
        },
        "outputId": "40ab331f-12b5-48e0-e51f-a02acd622c3c"
      },
      "source": [
        "expected = []\n",
        "for i in range(len(row_sums)):\n",
        "  expected_row = []\n",
        "  for column in col_sums:\n",
        "    expected_val = column*row_sums[i]/total_total\n",
        "    expected_row.append(expected_val)\n",
        "  expected.append(expected_row)\n",
        "\n",
        "expected = np.array(expected)\n",
        "print(expected.shape)  \n",
        "print(expected)"
      ],
      "execution_count": 95,
      "outputs": [
        {
          "output_type": "stream",
          "text": [
            "(2, 2)\n",
            "[[102.20689655 151.2183908 ]\n",
            " [ 64.46896552  95.38390805]]\n"
          ],
          "name": "stdout"
        }
      ]
    },
    {
      "cell_type": "code",
      "metadata": {
        "id": "wgmIo4szYbUM",
        "colab_type": "code",
        "colab": {
          "base_uri": "https://localhost:8080/",
          "height": 68
        },
        "outputId": "8025a113-986e-4d42-a812-d98b3658e9a9"
      },
      "source": [
        "# crosstab without margins\n",
        "observed = pd.crosstab(df['party'], df['budget']).values\n",
        "print(observed.shape)\n",
        "observed"
      ],
      "execution_count": 96,
      "outputs": [
        {
          "output_type": "stream",
          "text": [
            "(2, 2)\n"
          ],
          "name": "stdout"
        },
        {
          "output_type": "execute_result",
          "data": {
            "text/plain": [
              "array([[ 29, 231],\n",
              "       [142,  22]])"
            ]
          },
          "metadata": {
            "tags": []
          },
          "execution_count": 96
        }
      ]
    },
    {
      "cell_type": "code",
      "metadata": {
        "id": "sTj6jJaoYy8O",
        "colab_type": "code",
        "colab": {
          "base_uri": "https://localhost:8080/",
          "height": 34
        },
        "outputId": "06360f8a-2be2-488f-88fd-fdc8279ed82b"
      },
      "source": [
        "# Chi-Squared\n",
        "chi_squared = ((observed - expected)**2/(expected)).sum() \n",
        "print(f\"Chi-Squared: {chi_squared}\")"
      ],
      "execution_count": 97,
      "outputs": [
        {
          "output_type": "stream",
          "text": [
            "Chi-Squared: 244.22519160090147\n"
          ],
          "name": "stdout"
        }
      ]
    },
    {
      "cell_type": "code",
      "metadata": {
        "id": "sqS-piUWcFGH",
        "colab_type": "code",
        "colab": {
          "base_uri": "https://localhost:8080/",
          "height": 119
        },
        "outputId": "49ead522-ea94-40d9-f02c-3f56fda3c457"
      },
      "source": [
        "# running chi2 on \"party and budget\" using stats\n",
        "chi_squared, p_value, dof, expected = stats.chi2_contingency(observed)\n",
        "\n",
        "print(f\"Chi-Squared: {chi_squared}\")\n",
        "print(f\"P-value: {p_value}\")\n",
        "print(f\"Degrees of Freedom: {dof}\") \n",
        "print(\"Expected: \\n\", np.array(expected))"
      ],
      "execution_count": 100,
      "outputs": [
        {
          "output_type": "stream",
          "text": [
            "Chi-Squared: 234.65408769323486\n",
            "P-value: 5.759792112623893e-53\n",
            "Degrees of Freedom: 1\n",
            "Expected: \n",
            " [[104.85849057 155.14150943]\n",
            " [ 66.14150943  97.85849057]]\n"
          ],
          "name": "stdout"
        }
      ]
    },
    {
      "cell_type": "markdown",
      "metadata": {
        "id": "srcbsQmgeuXs",
        "colab_type": "text"
      },
      "source": [
        "**Conclusion:**\n",
        "\n",
        "Based on a chi^2 statistic of ~234.66 and a p-value of $5.759792112623893e-53$, I reject the null hypothesis that my party and budget vote outcomes are indipendant. \n",
        "\n",
        "There seems to be party specific cast of votes."
      ]
    },
    {
      "cell_type": "markdown",
      "metadata": {
        "id": "4ohsJhQUmEuS",
        "colab_type": "text"
      },
      "source": [
        "## Stretch goals:\n",
        "\n",
        "1. Write a summary of your findings, mixing prose and math/code/results. *Note* - yes, this is by definition a political topic. It is challenging but important to keep your writing voice *neutral* and stick to the facts of the data. Data science often involves considering controversial issues, so it's important to be sensitive about them (especially if you want to publish).\n",
        "2. Apply the techniques you learned today to your project data or other data of your choice, and write/discuss your findings here.\n",
        "3. Refactor your code so it is elegant, readable, and can be easily run for all issues."
      ]
    },
    {
      "cell_type": "markdown",
      "metadata": {
        "id": "jsbXGMilf7ua",
        "colab_type": "text"
      },
      "source": [
        "**Summary of finding**\n",
        "\n",
        "\n",
        "The calculated mean and CI for democratic vote outcomes on the budget bill was:\n",
        "\n",
        "lower bound: 0.8499435153340716\n",
        "\n",
        "mean 0.8884615384615384\n",
        "\n",
        "upper bound: 0.9269795615890052\n",
        "\n",
        "\n",
        "The vote destribution can be observed in the figure below.\n",
        "\n",
        "![image.png](data:image/png;base64,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)\n",
        "\n",
        "Performing a chi-2 test for indipendance, in order to assess if budget votes were cast along party lines or if there was a \"party specific preference\" yielded the vollowing result:\n",
        "\n",
        "Chi-Squared: 234.65408769323486\n",
        "\n",
        "P-value: 5.759792112623893e-53\n",
        "\n",
        "Degrees of Freedom: 1\n",
        "\n",
        "Expected: \n",
        "\n",
        " [[104.85849057 155.14150943]\n",
        "\n",
        " [ 66.14150943  97.85849057]]\n",
        "\n",
        "\n",
        "\n",
        "Hypothesis:\n",
        "\n",
        "Null Hypothesis: party and budget vote outcome are indipendant.\n",
        "\n",
        "Alternative Hypothesis: party and budget vote outcome are dependent.\n",
        "\n",
        "Confidence Level: 95%\n",
        "\n",
        "\n",
        "\n",
        "**Conclusion:**\n",
        "\n",
        "Based on a chi^2 statistic of ~234.66 and a p-value of $5.759792112623893e-53$, I reject the null hypothesis that the party and budget vote outcomes are indipendant. \n",
        "\n",
        "There seems to be party specific cast of votes.\n",
        "\n",
        "**Implications**\n",
        "\n",
        "\n",
        "Yes there seems to be a party specific trend of votes on the budget bill. But is it surprising?\n",
        "\n",
        "Historical outcomes suggest not. Republicans historically advocated in favour of small governments and low budgets, while democrats traditionally advocated in favour of increased social and health services. "
      ]
    },
    {
      "cell_type": "markdown",
      "metadata": {
        "id": "Umnf3SSMmd1J",
        "colab_type": "text"
      },
      "source": [
        "**Applying techiques to data**"
      ]
    },
    {
      "cell_type": "code",
      "metadata": {
        "id": "Q9T0GxlXknI_",
        "colab_type": "code",
        "colab": {
          "base_uri": "https://localhost:8080/",
          "height": 1000
        },
        "outputId": "23176e66-c0ad-4aaa-c22a-117224d33e6f"
      },
      "source": [
        "# using tuna data set from yesterdays stretch goal\n",
        "\n",
        "df = pd.read_csv('https://raw.githubusercontent.com/Lord-Kanzler/DS-Unit-1-Sprint-2-Statistics/master/module1/Tuna.csv')\n",
        "df.head(50)"
      ],
      "execution_count": 101,
      "outputs": [
        {
          "output_type": "execute_result",
          "data": {
            "text/html": [
              "<div>\n",
              "<style scoped>\n",
              "    .dataframe tbody tr th:only-of-type {\n",
              "        vertical-align: middle;\n",
              "    }\n",
              "\n",
              "    .dataframe tbody tr th {\n",
              "        vertical-align: top;\n",
              "    }\n",
              "\n",
              "    .dataframe thead th {\n",
              "        text-align: right;\n",
              "    }\n",
              "</style>\n",
              "<table border=\"1\" class=\"dataframe\">\n",
              "  <thead>\n",
              "    <tr style=\"text-align: right;\">\n",
              "      <th></th>\n",
              "      <th>Tuna</th>\n",
              "      <th>Mercury</th>\n",
              "    </tr>\n",
              "  </thead>\n",
              "  <tbody>\n",
              "    <tr>\n",
              "      <th>0</th>\n",
              "      <td>albacore</td>\n",
              "      <td>0.0000</td>\n",
              "    </tr>\n",
              "    <tr>\n",
              "      <th>1</th>\n",
              "      <td>albacore</td>\n",
              "      <td>0.4100</td>\n",
              "    </tr>\n",
              "    <tr>\n",
              "      <th>2</th>\n",
              "      <td>albacore</td>\n",
              "      <td>0.8200</td>\n",
              "    </tr>\n",
              "    <tr>\n",
              "      <th>3</th>\n",
              "      <td>albacore</td>\n",
              "      <td>0.3200</td>\n",
              "    </tr>\n",
              "    <tr>\n",
              "      <th>4</th>\n",
              "      <td>albacore</td>\n",
              "      <td>0.0360</td>\n",
              "    </tr>\n",
              "    <tr>\n",
              "      <th>5</th>\n",
              "      <td>albacore</td>\n",
              "      <td>0.2800</td>\n",
              "    </tr>\n",
              "    <tr>\n",
              "      <th>6</th>\n",
              "      <td>albacore</td>\n",
              "      <td>0.2900</td>\n",
              "    </tr>\n",
              "    <tr>\n",
              "      <th>7</th>\n",
              "      <td>albacore</td>\n",
              "      <td>0.3400</td>\n",
              "    </tr>\n",
              "    <tr>\n",
              "      <th>8</th>\n",
              "      <td>albacore</td>\n",
              "      <td>0.3600</td>\n",
              "    </tr>\n",
              "    <tr>\n",
              "      <th>9</th>\n",
              "      <td>albacore</td>\n",
              "      <td>0.4200</td>\n",
              "    </tr>\n",
              "    <tr>\n",
              "      <th>10</th>\n",
              "      <td>albacore</td>\n",
              "      <td>0.5100</td>\n",
              "    </tr>\n",
              "    <tr>\n",
              "      <th>11</th>\n",
              "      <td>albacore</td>\n",
              "      <td>0.4800</td>\n",
              "    </tr>\n",
              "    <tr>\n",
              "      <th>12</th>\n",
              "      <td>albacore</td>\n",
              "      <td>0.4010</td>\n",
              "    </tr>\n",
              "    <tr>\n",
              "      <th>13</th>\n",
              "      <td>albacore</td>\n",
              "      <td>0.3000</td>\n",
              "    </tr>\n",
              "    <tr>\n",
              "      <th>14</th>\n",
              "      <td>albacore</td>\n",
              "      <td>0.3000</td>\n",
              "    </tr>\n",
              "    <tr>\n",
              "      <th>15</th>\n",
              "      <td>albacore</td>\n",
              "      <td>0.3700</td>\n",
              "    </tr>\n",
              "    <tr>\n",
              "      <th>16</th>\n",
              "      <td>albacore</td>\n",
              "      <td>0.3240</td>\n",
              "    </tr>\n",
              "    <tr>\n",
              "      <th>17</th>\n",
              "      <td>albacore</td>\n",
              "      <td>0.5690</td>\n",
              "    </tr>\n",
              "    <tr>\n",
              "      <th>18</th>\n",
              "      <td>albacore</td>\n",
              "      <td>0.3850</td>\n",
              "    </tr>\n",
              "    <tr>\n",
              "      <th>19</th>\n",
              "      <td>albacore</td>\n",
              "      <td>0.2700</td>\n",
              "    </tr>\n",
              "    <tr>\n",
              "      <th>20</th>\n",
              "      <td>albacore</td>\n",
              "      <td>0.3760</td>\n",
              "    </tr>\n",
              "    <tr>\n",
              "      <th>21</th>\n",
              "      <td>albacore</td>\n",
              "      <td>0.3500</td>\n",
              "    </tr>\n",
              "    <tr>\n",
              "      <th>22</th>\n",
              "      <td>albacore</td>\n",
              "      <td>0.3000</td>\n",
              "    </tr>\n",
              "    <tr>\n",
              "      <th>23</th>\n",
              "      <td>albacore</td>\n",
              "      <td>0.3240</td>\n",
              "    </tr>\n",
              "    <tr>\n",
              "      <th>24</th>\n",
              "      <td>albacore</td>\n",
              "      <td>0.3700</td>\n",
              "    </tr>\n",
              "    <tr>\n",
              "      <th>25</th>\n",
              "      <td>albacore</td>\n",
              "      <td>0.5690</td>\n",
              "    </tr>\n",
              "    <tr>\n",
              "      <th>26</th>\n",
              "      <td>albacore</td>\n",
              "      <td>0.3500</td>\n",
              "    </tr>\n",
              "    <tr>\n",
              "      <th>27</th>\n",
              "      <td>albacore</td>\n",
              "      <td>0.3500</td>\n",
              "    </tr>\n",
              "    <tr>\n",
              "      <th>28</th>\n",
              "      <td>albacore</td>\n",
              "      <td>0.3850</td>\n",
              "    </tr>\n",
              "    <tr>\n",
              "      <th>29</th>\n",
              "      <td>albacore</td>\n",
              "      <td>0.3850</td>\n",
              "    </tr>\n",
              "    <tr>\n",
              "      <th>30</th>\n",
              "      <td>albacore</td>\n",
              "      <td>0.2700</td>\n",
              "    </tr>\n",
              "    <tr>\n",
              "      <th>31</th>\n",
              "      <td>albacore</td>\n",
              "      <td>0.3760</td>\n",
              "    </tr>\n",
              "    <tr>\n",
              "      <th>32</th>\n",
              "      <td>albacore</td>\n",
              "      <td>0.3760</td>\n",
              "    </tr>\n",
              "    <tr>\n",
              "      <th>33</th>\n",
              "      <td>albacore</td>\n",
              "      <td>0.2700</td>\n",
              "    </tr>\n",
              "    <tr>\n",
              "      <th>34</th>\n",
              "      <td>albacore</td>\n",
              "      <td>0.3000</td>\n",
              "    </tr>\n",
              "    <tr>\n",
              "      <th>35</th>\n",
              "      <td>albacore</td>\n",
              "      <td>0.2720</td>\n",
              "    </tr>\n",
              "    <tr>\n",
              "      <th>36</th>\n",
              "      <td>albacore</td>\n",
              "      <td>0.3970</td>\n",
              "    </tr>\n",
              "    <tr>\n",
              "      <th>37</th>\n",
              "      <td>albacore</td>\n",
              "      <td>0.4750</td>\n",
              "    </tr>\n",
              "    <tr>\n",
              "      <th>38</th>\n",
              "      <td>albacore</td>\n",
              "      <td>0.3900</td>\n",
              "    </tr>\n",
              "    <tr>\n",
              "      <th>39</th>\n",
              "      <td>albacore</td>\n",
              "      <td>0.5500</td>\n",
              "    </tr>\n",
              "    <tr>\n",
              "      <th>40</th>\n",
              "      <td>albacore</td>\n",
              "      <td>0.0409</td>\n",
              "    </tr>\n",
              "    <tr>\n",
              "      <th>41</th>\n",
              "      <td>albacore</td>\n",
              "      <td>0.3210</td>\n",
              "    </tr>\n",
              "    <tr>\n",
              "      <th>42</th>\n",
              "      <td>albacore</td>\n",
              "      <td>0.3960</td>\n",
              "    </tr>\n",
              "    <tr>\n",
              "      <th>43</th>\n",
              "      <td>yellowfin</td>\n",
              "      <td>0.0000</td>\n",
              "    </tr>\n",
              "    <tr>\n",
              "      <th>44</th>\n",
              "      <td>yellowfin</td>\n",
              "      <td>0.0000</td>\n",
              "    </tr>\n",
              "    <tr>\n",
              "      <th>45</th>\n",
              "      <td>yellowfin</td>\n",
              "      <td>0.0600</td>\n",
              "    </tr>\n",
              "    <tr>\n",
              "      <th>46</th>\n",
              "      <td>yellowfin</td>\n",
              "      <td>0.0900</td>\n",
              "    </tr>\n",
              "    <tr>\n",
              "      <th>47</th>\n",
              "      <td>yellowfin</td>\n",
              "      <td>0.1700</td>\n",
              "    </tr>\n",
              "    <tr>\n",
              "      <th>48</th>\n",
              "      <td>yellowfin</td>\n",
              "      <td>0.2100</td>\n",
              "    </tr>\n",
              "    <tr>\n",
              "      <th>49</th>\n",
              "      <td>yellowfin</td>\n",
              "      <td>0.2100</td>\n",
              "    </tr>\n",
              "  </tbody>\n",
              "</table>\n",
              "</div>"
            ],
            "text/plain": [
              "         Tuna  Mercury\n",
              "0   albacore    0.0000\n",
              "1   albacore    0.4100\n",
              "2   albacore    0.8200\n",
              "3   albacore    0.3200\n",
              "4   albacore    0.0360\n",
              "5   albacore    0.2800\n",
              "6   albacore    0.2900\n",
              "7   albacore    0.3400\n",
              "8   albacore    0.3600\n",
              "9   albacore    0.4200\n",
              "10  albacore    0.5100\n",
              "11  albacore    0.4800\n",
              "12  albacore    0.4010\n",
              "13  albacore    0.3000\n",
              "14  albacore    0.3000\n",
              "15  albacore    0.3700\n",
              "16  albacore    0.3240\n",
              "17  albacore    0.5690\n",
              "18  albacore    0.3850\n",
              "19  albacore    0.2700\n",
              "20  albacore    0.3760\n",
              "21  albacore    0.3500\n",
              "22  albacore    0.3000\n",
              "23  albacore    0.3240\n",
              "24  albacore    0.3700\n",
              "25  albacore    0.5690\n",
              "26  albacore    0.3500\n",
              "27  albacore    0.3500\n",
              "28  albacore    0.3850\n",
              "29  albacore    0.3850\n",
              "30  albacore    0.2700\n",
              "31  albacore    0.3760\n",
              "32  albacore    0.3760\n",
              "33  albacore    0.2700\n",
              "34  albacore    0.3000\n",
              "35  albacore    0.2720\n",
              "36  albacore    0.3970\n",
              "37  albacore    0.4750\n",
              "38  albacore    0.3900\n",
              "39  albacore    0.5500\n",
              "40  albacore    0.0409\n",
              "41  albacore    0.3210\n",
              "42  albacore    0.3960\n",
              "43  yellowfin   0.0000\n",
              "44  yellowfin   0.0000\n",
              "45  yellowfin   0.0600\n",
              "46  yellowfin   0.0900\n",
              "47  yellowfin   0.1700\n",
              "48  yellowfin   0.2100\n",
              "49  yellowfin   0.2100"
            ]
          },
          "metadata": {
            "tags": []
          },
          "execution_count": 101
        }
      ]
    },
    {
      "cell_type": "code",
      "metadata": {
        "id": "-bfJbM2Rm81U",
        "colab_type": "code",
        "colab": {
          "base_uri": "https://localhost:8080/",
          "height": 204
        },
        "outputId": "c7c37f53-42ea-40ba-bdf8-e59f06381005"
      },
      "source": [
        "# converting \"mercury\" to categorical\n",
        "label_names = ['0-9', '10-19', '20-29', '30-39', '40-49', '50+']\n",
        "df['Mercury_categories'] = pd.cut(df['Mercury'], 4)\n",
        "\n",
        "df.head()"
      ],
      "execution_count": 105,
      "outputs": [
        {
          "output_type": "execute_result",
          "data": {
            "text/html": [
              "<div>\n",
              "<style scoped>\n",
              "    .dataframe tbody tr th:only-of-type {\n",
              "        vertical-align: middle;\n",
              "    }\n",
              "\n",
              "    .dataframe tbody tr th {\n",
              "        vertical-align: top;\n",
              "    }\n",
              "\n",
              "    .dataframe thead th {\n",
              "        text-align: right;\n",
              "    }\n",
              "</style>\n",
              "<table border=\"1\" class=\"dataframe\">\n",
              "  <thead>\n",
              "    <tr style=\"text-align: right;\">\n",
              "      <th></th>\n",
              "      <th>Tuna</th>\n",
              "      <th>Mercury</th>\n",
              "      <th>Mercury_categories</th>\n",
              "    </tr>\n",
              "  </thead>\n",
              "  <tbody>\n",
              "    <tr>\n",
              "      <th>0</th>\n",
              "      <td>albacore</td>\n",
              "      <td>0.000</td>\n",
              "      <td>(-0.00148, 0.37]</td>\n",
              "    </tr>\n",
              "    <tr>\n",
              "      <th>1</th>\n",
              "      <td>albacore</td>\n",
              "      <td>0.410</td>\n",
              "      <td>(0.37, 0.739]</td>\n",
              "    </tr>\n",
              "    <tr>\n",
              "      <th>2</th>\n",
              "      <td>albacore</td>\n",
              "      <td>0.820</td>\n",
              "      <td>(0.739, 1.109]</td>\n",
              "    </tr>\n",
              "    <tr>\n",
              "      <th>3</th>\n",
              "      <td>albacore</td>\n",
              "      <td>0.320</td>\n",
              "      <td>(-0.00148, 0.37]</td>\n",
              "    </tr>\n",
              "    <tr>\n",
              "      <th>4</th>\n",
              "      <td>albacore</td>\n",
              "      <td>0.036</td>\n",
              "      <td>(-0.00148, 0.37]</td>\n",
              "    </tr>\n",
              "  </tbody>\n",
              "</table>\n",
              "</div>"
            ],
            "text/plain": [
              "        Tuna  Mercury Mercury_categories\n",
              "0  albacore     0.000   (-0.00148, 0.37]\n",
              "1  albacore     0.410      (0.37, 0.739]\n",
              "2  albacore     0.820     (0.739, 1.109]\n",
              "3  albacore     0.320   (-0.00148, 0.37]\n",
              "4  albacore     0.036   (-0.00148, 0.37]"
            ]
          },
          "metadata": {
            "tags": []
          },
          "execution_count": 105
        }
      ]
    },
    {
      "cell_type": "code",
      "metadata": {
        "id": "2IS3SJMQoLWy",
        "colab_type": "code",
        "colab": {
          "base_uri": "https://localhost:8080/",
          "height": 359
        },
        "outputId": "32a05681-1462-4293-d374-2dd15175124b"
      },
      "source": [
        "albacore = df[df['Tuna']=='albacore ']\n",
        "\n",
        "albacore.head(10)"
      ],
      "execution_count": 106,
      "outputs": [
        {
          "output_type": "execute_result",
          "data": {
            "text/html": [
              "<div>\n",
              "<style scoped>\n",
              "    .dataframe tbody tr th:only-of-type {\n",
              "        vertical-align: middle;\n",
              "    }\n",
              "\n",
              "    .dataframe tbody tr th {\n",
              "        vertical-align: top;\n",
              "    }\n",
              "\n",
              "    .dataframe thead th {\n",
              "        text-align: right;\n",
              "    }\n",
              "</style>\n",
              "<table border=\"1\" class=\"dataframe\">\n",
              "  <thead>\n",
              "    <tr style=\"text-align: right;\">\n",
              "      <th></th>\n",
              "      <th>Tuna</th>\n",
              "      <th>Mercury</th>\n",
              "      <th>Mercury_categories</th>\n",
              "    </tr>\n",
              "  </thead>\n",
              "  <tbody>\n",
              "    <tr>\n",
              "      <th>0</th>\n",
              "      <td>albacore</td>\n",
              "      <td>0.000</td>\n",
              "      <td>(-0.00148, 0.37]</td>\n",
              "    </tr>\n",
              "    <tr>\n",
              "      <th>1</th>\n",
              "      <td>albacore</td>\n",
              "      <td>0.410</td>\n",
              "      <td>(0.37, 0.739]</td>\n",
              "    </tr>\n",
              "    <tr>\n",
              "      <th>2</th>\n",
              "      <td>albacore</td>\n",
              "      <td>0.820</td>\n",
              "      <td>(0.739, 1.109]</td>\n",
              "    </tr>\n",
              "    <tr>\n",
              "      <th>3</th>\n",
              "      <td>albacore</td>\n",
              "      <td>0.320</td>\n",
              "      <td>(-0.00148, 0.37]</td>\n",
              "    </tr>\n",
              "    <tr>\n",
              "      <th>4</th>\n",
              "      <td>albacore</td>\n",
              "      <td>0.036</td>\n",
              "      <td>(-0.00148, 0.37]</td>\n",
              "    </tr>\n",
              "    <tr>\n",
              "      <th>5</th>\n",
              "      <td>albacore</td>\n",
              "      <td>0.280</td>\n",
              "      <td>(-0.00148, 0.37]</td>\n",
              "    </tr>\n",
              "    <tr>\n",
              "      <th>6</th>\n",
              "      <td>albacore</td>\n",
              "      <td>0.290</td>\n",
              "      <td>(-0.00148, 0.37]</td>\n",
              "    </tr>\n",
              "    <tr>\n",
              "      <th>7</th>\n",
              "      <td>albacore</td>\n",
              "      <td>0.340</td>\n",
              "      <td>(-0.00148, 0.37]</td>\n",
              "    </tr>\n",
              "    <tr>\n",
              "      <th>8</th>\n",
              "      <td>albacore</td>\n",
              "      <td>0.360</td>\n",
              "      <td>(-0.00148, 0.37]</td>\n",
              "    </tr>\n",
              "    <tr>\n",
              "      <th>9</th>\n",
              "      <td>albacore</td>\n",
              "      <td>0.420</td>\n",
              "      <td>(0.37, 0.739]</td>\n",
              "    </tr>\n",
              "  </tbody>\n",
              "</table>\n",
              "</div>"
            ],
            "text/plain": [
              "        Tuna  Mercury Mercury_categories\n",
              "0  albacore     0.000   (-0.00148, 0.37]\n",
              "1  albacore     0.410      (0.37, 0.739]\n",
              "2  albacore     0.820     (0.739, 1.109]\n",
              "3  albacore     0.320   (-0.00148, 0.37]\n",
              "4  albacore     0.036   (-0.00148, 0.37]\n",
              "5  albacore     0.280   (-0.00148, 0.37]\n",
              "6  albacore     0.290   (-0.00148, 0.37]\n",
              "7  albacore     0.340   (-0.00148, 0.37]\n",
              "8  albacore     0.360   (-0.00148, 0.37]\n",
              "9  albacore     0.420      (0.37, 0.739]"
            ]
          },
          "metadata": {
            "tags": []
          },
          "execution_count": 106
        }
      ]
    },
    {
      "cell_type": "code",
      "metadata": {
        "id": "HQSCDuN3oN-d",
        "colab_type": "code",
        "colab": {
          "base_uri": "https://localhost:8080/",
          "height": 359
        },
        "outputId": "1a373414-e11d-42c9-f420-c2b9618a71a0"
      },
      "source": [
        "#Cleaning data\n",
        "yellowfin = df[df['Tuna']=='yellowfin']\n",
        "\n",
        "yellowfin.head(10)"
      ],
      "execution_count": 107,
      "outputs": [
        {
          "output_type": "execute_result",
          "data": {
            "text/html": [
              "<div>\n",
              "<style scoped>\n",
              "    .dataframe tbody tr th:only-of-type {\n",
              "        vertical-align: middle;\n",
              "    }\n",
              "\n",
              "    .dataframe tbody tr th {\n",
              "        vertical-align: top;\n",
              "    }\n",
              "\n",
              "    .dataframe thead th {\n",
              "        text-align: right;\n",
              "    }\n",
              "</style>\n",
              "<table border=\"1\" class=\"dataframe\">\n",
              "  <thead>\n",
              "    <tr style=\"text-align: right;\">\n",
              "      <th></th>\n",
              "      <th>Tuna</th>\n",
              "      <th>Mercury</th>\n",
              "      <th>Mercury_categories</th>\n",
              "    </tr>\n",
              "  </thead>\n",
              "  <tbody>\n",
              "    <tr>\n",
              "      <th>43</th>\n",
              "      <td>yellowfin</td>\n",
              "      <td>0.00</td>\n",
              "      <td>(-0.00148, 0.37]</td>\n",
              "    </tr>\n",
              "    <tr>\n",
              "      <th>44</th>\n",
              "      <td>yellowfin</td>\n",
              "      <td>0.00</td>\n",
              "      <td>(-0.00148, 0.37]</td>\n",
              "    </tr>\n",
              "    <tr>\n",
              "      <th>45</th>\n",
              "      <td>yellowfin</td>\n",
              "      <td>0.06</td>\n",
              "      <td>(-0.00148, 0.37]</td>\n",
              "    </tr>\n",
              "    <tr>\n",
              "      <th>46</th>\n",
              "      <td>yellowfin</td>\n",
              "      <td>0.09</td>\n",
              "      <td>(-0.00148, 0.37]</td>\n",
              "    </tr>\n",
              "    <tr>\n",
              "      <th>47</th>\n",
              "      <td>yellowfin</td>\n",
              "      <td>0.17</td>\n",
              "      <td>(-0.00148, 0.37]</td>\n",
              "    </tr>\n",
              "    <tr>\n",
              "      <th>48</th>\n",
              "      <td>yellowfin</td>\n",
              "      <td>0.21</td>\n",
              "      <td>(-0.00148, 0.37]</td>\n",
              "    </tr>\n",
              "    <tr>\n",
              "      <th>49</th>\n",
              "      <td>yellowfin</td>\n",
              "      <td>0.21</td>\n",
              "      <td>(-0.00148, 0.37]</td>\n",
              "    </tr>\n",
              "    <tr>\n",
              "      <th>50</th>\n",
              "      <td>yellowfin</td>\n",
              "      <td>0.22</td>\n",
              "      <td>(-0.00148, 0.37]</td>\n",
              "    </tr>\n",
              "    <tr>\n",
              "      <th>51</th>\n",
              "      <td>yellowfin</td>\n",
              "      <td>0.23</td>\n",
              "      <td>(-0.00148, 0.37]</td>\n",
              "    </tr>\n",
              "    <tr>\n",
              "      <th>52</th>\n",
              "      <td>yellowfin</td>\n",
              "      <td>0.24</td>\n",
              "      <td>(-0.00148, 0.37]</td>\n",
              "    </tr>\n",
              "  </tbody>\n",
              "</table>\n",
              "</div>"
            ],
            "text/plain": [
              "         Tuna  Mercury Mercury_categories\n",
              "43  yellowfin     0.00   (-0.00148, 0.37]\n",
              "44  yellowfin     0.00   (-0.00148, 0.37]\n",
              "45  yellowfin     0.06   (-0.00148, 0.37]\n",
              "46  yellowfin     0.09   (-0.00148, 0.37]\n",
              "47  yellowfin     0.17   (-0.00148, 0.37]\n",
              "48  yellowfin     0.21   (-0.00148, 0.37]\n",
              "49  yellowfin     0.21   (-0.00148, 0.37]\n",
              "50  yellowfin     0.22   (-0.00148, 0.37]\n",
              "51  yellowfin     0.23   (-0.00148, 0.37]\n",
              "52  yellowfin     0.24   (-0.00148, 0.37]"
            ]
          },
          "metadata": {
            "tags": []
          },
          "execution_count": 107
        }
      ]
    },
    {
      "cell_type": "code",
      "metadata": {
        "id": "P-Wfd45ooVEt",
        "colab_type": "code",
        "colab": {}
      },
      "source": [
        "# function from lecture\n",
        "def confidence_interval(sample, confidence=0.95):\n",
        "  \"\"\"\n",
        "  Calculate a confidence interval around a sample mean for given data.\n",
        "  Using t-distribution and two-tailed test, default 95% confidence. \n",
        "  \n",
        "  Arguments:\n",
        "    data - iterable (list or numpy array) of sample observations\n",
        "    confidence - level of confidence for the interval\n",
        "  \n",
        "  Returns:\n",
        "    tuple of (mean, lower bound, upper bound)\n",
        "  \"\"\"\n",
        "  sample = np.array(sample)\n",
        "  mean = np.mean(sample)\n",
        "  n = len(sample)\n",
        "  stderr = np.std(sample, ddof=1) / np.sqrt(n)\n",
        "  t = stats.t.ppf((1 + confidence) / 2.0, n - 1)\n",
        "  margin_of_error = t * stderr\n",
        "  return mean - margin_of_error, mean, mean + margin_of_error"
      ],
      "execution_count": 0,
      "outputs": []
    },
    {
      "cell_type": "code",
      "metadata": {
        "id": "XzeObR55ois6",
        "colab_type": "code",
        "colab": {
          "base_uri": "https://localhost:8080/",
          "height": 68
        },
        "outputId": "e95df7a8-c2ec-4782-dd6d-07e13ee6a454"
      },
      "source": [
        "# determining Confidence Interval for albacore['Mercury']\n",
        "lower_bound, mean, upper_bound = confidence_interval(albacore['Mercury'])\n",
        "print(\"lower bound:\", lower_bound)\n",
        "print(\"mean\", mean)\n",
        "print(\"upper bound:\", upper_bound)"
      ],
      "execution_count": 109,
      "outputs": [
        {
          "output_type": "stream",
          "text": [
            "lower bound: 0.3151596084747521\n",
            "mean 0.35762558139534883\n",
            "upper bound: 0.40009155431594556\n"
          ],
          "name": "stdout"
        }
      ]
    },
    {
      "cell_type": "code",
      "metadata": {
        "id": "yDGp7WQ1owPF",
        "colab_type": "code",
        "colab": {
          "base_uri": "https://localhost:8080/",
          "height": 281
        },
        "outputId": "804e3d89-1f10-464e-d0fd-a818634e0c4e"
      },
      "source": [
        "#plotting CI for albacore['Mercury']\n",
        "\n",
        "CI = confidence_interval(albacore['Mercury'])\n",
        "\n",
        "albacore['Mercury'].plot.density()\n",
        "plt.title(\"Albacore Mercury level destribution\")\n",
        "plt.axvline(x=CI[0], color='red')\n",
        "plt.axvline(x=CI[1], color='black')\n",
        "plt.axvline(x=CI[2], color='red');\n",
        "plt.show()"
      ],
      "execution_count": 110,
      "outputs": [
        {
          "output_type": "display_data",
          "data": {
            "image/png": "[encoded data removed]",
            "text/plain": [
              "<Figure size 432x288 with 1 Axes>"
            ]
          },
          "metadata": {
            "tags": []
          }
        }
      ]
    },
    {
      "cell_type": "code",
      "metadata": {
        "id": "w1LaF2l3pvk5",
        "colab_type": "code",
        "colab": {
          "base_uri": "https://localhost:8080/",
          "height": 68
        },
        "outputId": "0ab9482f-f6e0-4d56-8c78-525fde74669b"
      },
      "source": [
        "# determining Confidence Interval for yellowfin['Mercury']\n",
        "lower_bound, mean, upper_bound = confidence_interval(yellowfin['Mercury'])\n",
        "print(\"lower bound:\", lower_bound)\n",
        "print(\"mean\", mean)\n",
        "print(\"upper bound:\", upper_bound)"
      ],
      "execution_count": 112,
      "outputs": [
        {
          "output_type": "stream",
          "text": [
            "lower bound: 0.3244938132674734\n",
            "mean 0.3544398051948052\n",
            "upper bound: 0.38438579712213705\n"
          ],
          "name": "stdout"
        }
      ]
    },
    {
      "cell_type": "code",
      "metadata": {
        "id": "4SGzb7FGp7W2",
        "colab_type": "code",
        "colab": {
          "base_uri": "https://localhost:8080/",
          "height": 281
        },
        "outputId": "5104f0ad-bbf3-4811-ed81-af4a628efce1"
      },
      "source": [
        "#plotting CI for yellowfin['Mercury']\n",
        "\n",
        "CI = confidence_interval(yellowfin['Mercury'])\n",
        "\n",
        "yellowfin['Mercury'].plot.density()\n",
        "plt.title(\"Yellowfin Mercury level destribution\")\n",
        "plt.axvline(x=CI[0], color='red')\n",
        "plt.axvline(x=CI[1], color='black')\n",
        "plt.axvline(x=CI[2], color='red');\n",
        "plt.show()"
      ],
      "execution_count": 122,
      "outputs": [
        {
          "output_type": "display_data",
          "data": {
            "image/png": "[encoded data removed]",
            "text/plain": [
              "<Figure size 432x288 with 1 Axes>"
            ]
          },
          "metadata": {
            "tags": []
          }
        }
      ]
    },
    {
      "cell_type": "code",
      "metadata": {
        "id": "-7E_CR38qTZl",
        "colab_type": "code",
        "colab": {
          "base_uri": "https://localhost:8080/",
          "height": 173
        },
        "outputId": "02fb40ad-804c-4cb6-c8e3-3f0094a18d0f"
      },
      "source": [
        "df.describe(exclude='number')"
      ],
      "execution_count": 114,
      "outputs": [
        {
          "output_type": "execute_result",
          "data": {
            "text/html": [
              "<div>\n",
              "<style scoped>\n",
              "    .dataframe tbody tr th:only-of-type {\n",
              "        vertical-align: middle;\n",
              "    }\n",
              "\n",
              "    .dataframe tbody tr th {\n",
              "        vertical-align: top;\n",
              "    }\n",
              "\n",
              "    .dataframe thead th {\n",
              "        text-align: right;\n",
              "    }\n",
              "</style>\n",
              "<table border=\"1\" class=\"dataframe\">\n",
              "  <thead>\n",
              "    <tr style=\"text-align: right;\">\n",
              "      <th></th>\n",
              "      <th>Tuna</th>\n",
              "      <th>Mercury_categories</th>\n",
              "    </tr>\n",
              "  </thead>\n",
              "  <tbody>\n",
              "    <tr>\n",
              "      <th>count</th>\n",
              "      <td>274</td>\n",
              "      <td>274</td>\n",
              "    </tr>\n",
              "    <tr>\n",
              "      <th>unique</th>\n",
              "      <td>2</td>\n",
              "      <td>4</td>\n",
              "    </tr>\n",
              "    <tr>\n",
              "      <th>top</th>\n",
              "      <td>yellowfin</td>\n",
              "      <td>(-0.00148, 0.37]</td>\n",
              "    </tr>\n",
              "    <tr>\n",
              "      <th>freq</th>\n",
              "      <td>231</td>\n",
              "      <td>160</td>\n",
              "    </tr>\n",
              "  </tbody>\n",
              "</table>\n",
              "</div>"
            ],
            "text/plain": [
              "             Tuna Mercury_categories\n",
              "count         274                274\n",
              "unique          2                  4\n",
              "top     yellowfin   (-0.00148, 0.37]\n",
              "freq          231                160"
            ]
          },
          "metadata": {
            "tags": []
          },
          "execution_count": 114
        }
      ]
    },
    {
      "cell_type": "code",
      "metadata": {
        "id": "pI_gK8yWqgYG",
        "colab_type": "code",
        "colab": {
          "base_uri": "https://localhost:8080/",
          "height": 173
        },
        "outputId": "17ad618b-0541-489b-e64b-22e8879a0879"
      },
      "source": [
        "#Chi-2 test of indipendance for 'Tuna' and 'Mercury_categories'\n",
        "contingency_table = pd.crosstab(df['Tuna'], df['Mercury_categories'], margins=True)\n",
        "\n",
        "contingency_table"
      ],
      "execution_count": 115,
      "outputs": [
        {
          "output_type": "execute_result",
          "data": {
            "text/html": [
              "<div>\n",
              "<style scoped>\n",
              "    .dataframe tbody tr th:only-of-type {\n",
              "        vertical-align: middle;\n",
              "    }\n",
              "\n",
              "    .dataframe tbody tr th {\n",
              "        vertical-align: top;\n",
              "    }\n",
              "\n",
              "    .dataframe thead th {\n",
              "        text-align: right;\n",
              "    }\n",
              "</style>\n",
              "<table border=\"1\" class=\"dataframe\">\n",
              "  <thead>\n",
              "    <tr style=\"text-align: right;\">\n",
              "      <th>Mercury_categories</th>\n",
              "      <th>(-0.00148, 0.37]</th>\n",
              "      <th>(0.37, 0.739]</th>\n",
              "      <th>(0.739, 1.109]</th>\n",
              "      <th>(1.109, 1.478]</th>\n",
              "      <th>All</th>\n",
              "    </tr>\n",
              "    <tr>\n",
              "      <th>Tuna</th>\n",
              "      <th></th>\n",
              "      <th></th>\n",
              "      <th></th>\n",
              "      <th></th>\n",
              "      <th></th>\n",
              "    </tr>\n",
              "  </thead>\n",
              "  <tbody>\n",
              "    <tr>\n",
              "      <th>albacore</th>\n",
              "      <td>22</td>\n",
              "      <td>20</td>\n",
              "      <td>1</td>\n",
              "      <td>0</td>\n",
              "      <td>43</td>\n",
              "    </tr>\n",
              "    <tr>\n",
              "      <th>yellowfin</th>\n",
              "      <td>138</td>\n",
              "      <td>78</td>\n",
              "      <td>12</td>\n",
              "      <td>3</td>\n",
              "      <td>231</td>\n",
              "    </tr>\n",
              "    <tr>\n",
              "      <th>All</th>\n",
              "      <td>160</td>\n",
              "      <td>98</td>\n",
              "      <td>13</td>\n",
              "      <td>3</td>\n",
              "      <td>274</td>\n",
              "    </tr>\n",
              "  </tbody>\n",
              "</table>\n",
              "</div>"
            ],
            "text/plain": [
              "Mercury_categories  (-0.00148, 0.37]  (0.37, 0.739]  ...  (1.109, 1.478]  All\n",
              "Tuna                                                 ...                     \n",
              "albacore                          22             20  ...               0   43\n",
              "yellowfin                        138             78  ...               3  231\n",
              "All                              160             98  ...               3  274\n",
              "\n",
              "[3 rows x 5 columns]"
            ]
          },
          "metadata": {
            "tags": []
          },
          "execution_count": 115
        }
      ]
    },
    {
      "cell_type": "markdown",
      "metadata": {
        "id": "uTlZPomtrK9F",
        "colab_type": "text"
      },
      "source": [
        "\n",
        "Hypothesis:\n",
        "\n",
        "Null Hypothesis: Tuna kind and mercury levels are indipendant.\n",
        "\n",
        "Alternative Hypothesis: Tuna kind and mercury levels are dependent.\n",
        "\n",
        "Confidence Level: 95%"
      ]
    },
    {
      "cell_type": "code",
      "metadata": {
        "id": "vMpu6uceq5od",
        "colab_type": "code",
        "colab": {
          "base_uri": "https://localhost:8080/",
          "height": 51
        },
        "outputId": "75c8b97a-b7dd-4549-88cb-3525dc0cbe64"
      },
      "source": [
        "# expected values\n",
        "row_sums = contingency_table.iloc[0:2, 4].values\n",
        "col_sums = contingency_table.iloc[2, 0:4].values\n",
        "\n",
        "print(row_sums)\n",
        "print(col_sums)"
      ],
      "execution_count": 116,
      "outputs": [
        {
          "output_type": "stream",
          "text": [
            "[ 43 231]\n",
            "[160  98  13   3]\n"
          ],
          "name": "stdout"
        }
      ]
    },
    {
      "cell_type": "code",
      "metadata": {
        "id": "oy7Ym7g5r72o",
        "colab_type": "code",
        "colab": {}
      },
      "source": [
        "total_total = df.shape[0]"
      ],
      "execution_count": 0,
      "outputs": []
    },
    {
      "cell_type": "code",
      "metadata": {
        "id": "HVRlRmphr92_",
        "colab_type": "code",
        "colab": {
          "base_uri": "https://localhost:8080/",
          "height": 68
        },
        "outputId": "98010d6f-5f31-4115-cf59-76ac69bbd900"
      },
      "source": [
        "expected = []\n",
        "for i in range(len(row_sums)):\n",
        "  expected_row = []\n",
        "  for column in col_sums:\n",
        "    expected_val = column*row_sums[i]/total_total\n",
        "    expected_row.append(expected_val)\n",
        "  expected.append(expected_row)\n",
        "\n",
        "expected = np.array(expected)\n",
        "print(expected.shape)  \n",
        "print(expected)"
      ],
      "execution_count": 118,
      "outputs": [
        {
          "output_type": "stream",
          "text": [
            "(2, 4)\n",
            "[[ 25.10948905  15.37956204   2.04014599   0.47080292]\n",
            " [134.89051095  82.62043796  10.95985401   2.52919708]]\n"
          ],
          "name": "stdout"
        }
      ]
    },
    {
      "cell_type": "code",
      "metadata": {
        "id": "pMDBC8LksDYs",
        "colab_type": "code",
        "colab": {
          "base_uri": "https://localhost:8080/",
          "height": 68
        },
        "outputId": "5504c2bf-d85d-46f6-b8e5-83f80daadc7d"
      },
      "source": [
        "# Get a crosstab without the margins:\n",
        "\n",
        "observed = pd.crosstab(df['Tuna'], df['Mercury_categories']).values\n",
        "print(observed.shape)\n",
        "observed"
      ],
      "execution_count": 119,
      "outputs": [
        {
          "output_type": "stream",
          "text": [
            "(2, 4)\n"
          ],
          "name": "stdout"
        },
        {
          "output_type": "execute_result",
          "data": {
            "text/plain": [
              "array([[ 22,  20,   1,   0],\n",
              "       [138,  78,  12,   3]])"
            ]
          },
          "metadata": {
            "tags": []
          },
          "execution_count": 119
        }
      ]
    },
    {
      "cell_type": "code",
      "metadata": {
        "id": "g4JXKtI5sMxO",
        "colab_type": "code",
        "colab": {
          "base_uri": "https://localhost:8080/",
          "height": 34
        },
        "outputId": "1d6161ee-cdad-4aa5-e766-9c24f837e853"
      },
      "source": [
        "# calculating chi-2\n",
        "# Array broadcasting will work with numpy arrays but not python lists\n",
        "chi_squared = ((observed - expected)**2/(expected)).sum() \n",
        "print(f\"Chi-Squared: {chi_squared}\")"
      ],
      "execution_count": 120,
      "outputs": [
        {
          "output_type": "stream",
          "text": [
            "Chi-Squared: 3.2907107605256627\n"
          ],
          "name": "stdout"
        }
      ]
    },
    {
      "cell_type": "code",
      "metadata": {
        "id": "sdnI4TzLsSLO",
        "colab_type": "code",
        "colab": {
          "base_uri": "https://localhost:8080/",
          "height": 119
        },
        "outputId": "7a2a1495-6fda-4dbd-df78-c0a6ef941025"
      },
      "source": [
        "# alternatively using stats\n",
        "chi_squared, p_value, dof, expected = stats.chi2_contingency(observed)\n",
        "\n",
        "print(f\"Chi-Squared: {chi_squared}\")\n",
        "print(f\"P-value: {p_value}\")\n",
        "print(f\"Degrees of Freedom: {dof}\") \n",
        "print(\"Expected: \\n\", np.array(expected))"
      ],
      "execution_count": 121,
      "outputs": [
        {
          "output_type": "stream",
          "text": [
            "Chi-Squared: 3.2907107605256627\n",
            "P-value: 0.3489376279554397\n",
            "Degrees of Freedom: 3\n",
            "Expected: \n",
            " [[ 25.10948905  15.37956204   2.04014599   0.47080292]\n",
            " [134.89051095  82.62043796  10.95985401   2.52919708]]\n"
          ],
          "name": "stdout"
        }
      ]
    },
    {
      "cell_type": "markdown",
      "metadata": {
        "id": "4xRUyVoFso64",
        "colab_type": "text"
      },
      "source": [
        "**Conclusion:**\n",
        "\n",
        "Based on a chi^2 statistic of 3.2907107605256627 and a p-value of $0.3489376279554397$, I fail to reject the null hypothesis that the kinds of tuna and mercury levels outcomes are indipendant. \n",
        "\n",
        "There seems to be no difference in mercury levels among the kinds of tuna.\n",
        "\n"
      ]
    },
    {
      "cell_type": "markdown",
      "metadata": {
        "id": "nyJ3ySr7R2k9",
        "colab_type": "text"
      },
      "source": [
        "## Resources\n",
        "\n",
        "- [Interactive visualize the Chi-Squared test](https://homepage.divms.uiowa.edu/~mbognar/applets/chisq.html)\n",
        "- [Calculation of Chi-Squared test statistic](https://en.wikipedia.org/wiki/Pearson%27s_chi-squared_test)\n",
        "- [Visualization of a confidence interval generated by R code](https://commons.wikimedia.org/wiki/File:Confidence-interval.svg)\n",
        "- [Expected value of a squared standard normal](https://math.stackexchange.com/questions/264061/expected-value-calculation-for-squared-normal-distribution) (it's 1 - which is why the expected value of a Chi-Squared with $n$ degrees of freedom is $n$, as it's the sum of $n$ squared standard normals)"
      ]
    }
  ]
}