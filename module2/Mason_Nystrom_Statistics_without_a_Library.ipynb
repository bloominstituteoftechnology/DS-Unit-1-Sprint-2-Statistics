{
  "nbformat": 4,
  "nbformat_minor": 0,
  "metadata": {
    "colab": {
      "name": "Mason Nystrom Statistics without a Library.ipynb",
      "provenance": [],
      "include_colab_link": true
    },
    "kernelspec": {
      "name": "python3",
      "display_name": "Python 3"
    }
  },
  "cells": [
    {
      "cell_type": "markdown",
      "metadata": {
        "id": "view-in-github",
        "colab_type": "text"
      },
      "source": [
        "<a href=\"https://colab.research.google.com/github/masonnystrom/DS-Unit-1-Sprint-2-Statistics/blob/master/module2/Mason_Nystrom_Statistics_without_a_Library.ipynb\" target=\"_parent\"><img src=\"https://colab.research.google.com/assets/colab-badge.svg\" alt=\"Open In Colab\"/></a>"
      ]
    },
    {
      "cell_type": "markdown",
      "metadata": {
        "id": "hc3lrohe8Q9-",
        "colab_type": "text"
      },
      "source": [
        "Build Your Own Statistics Library\n",
        "Without importing anything (including  scipy, math, statistics, numpy, etc.), complete the empty functions to return the following:\n",
        "\n",
        "- Square root\n",
        "- Variance (population not sample - see stretch goals)\n",
        "- Standard deviation (again, population not sample)\n",
        "- Z-Score"
      ]
    },
    {
      "cell_type": "code",
      "metadata": {
        "id": "ziGj-9ZjDrK5",
        "colab_type": "code",
        "colab": {}
      },
      "source": [
        "num_list = []"
      ],
      "execution_count": 0,
      "outputs": []
    },
    {
      "cell_type": "code",
      "metadata": {
        "id": "woYxuWQ3DumI",
        "colab_type": "code",
        "colab": {}
      },
      "source": [
        "test_list = [9, 2, 5, 4, 12, 7, 8, 11]"
      ],
      "execution_count": 0,
      "outputs": []
    },
    {
      "cell_type": "code",
      "metadata": {
        "id": "PUPbLaa2ENUL",
        "colab_type": "code",
        "colab": {}
      },
      "source": [
        "test_list2 = [10, 5, 9, 11, 4, 11, 4]"
      ],
      "execution_count": 0,
      "outputs": []
    },
    {
      "cell_type": "code",
      "metadata": {
        "id": "LILLbL3JDzI3",
        "colab_type": "code",
        "colab": {}
      },
      "source": [
        "def mean(list):\n",
        "   return sum(list) / len(list)"
      ],
      "execution_count": 0,
      "outputs": []
    },
    {
      "cell_type": "code",
      "metadata": {
        "id": "vuMPNj8VEWYK",
        "colab_type": "code",
        "colab": {
          "base_uri": "https://localhost:8080/",
          "height": 34
        },
        "outputId": "a1e34f7d-4d00-4d58-d9e9-8c2a89a42379"
      },
      "source": [
        "#test\n",
        "testmean1 = mean(test_list)\n",
        "testmean1"
      ],
      "execution_count": 26,
      "outputs": [
        {
          "output_type": "execute_result",
          "data": {
            "text/plain": [
              "7.25"
            ]
          },
          "metadata": {
            "tags": []
          },
          "execution_count": 26
        }
      ]
    },
    {
      "cell_type": "code",
      "metadata": {
        "id": "jB6nDKQFESyr",
        "colab_type": "code",
        "colab": {
          "base_uri": "https://localhost:8080/",
          "height": 34
        },
        "outputId": "a945fce2-dc26-41bf-d443-2d62b0fa17d1"
      },
      "source": [
        "# test\n",
        "testmean2 = mean(test_list2)\n",
        "testmean2"
      ],
      "execution_count": 27,
      "outputs": [
        {
          "output_type": "execute_result",
          "data": {
            "text/plain": [
              "7.714285714285714"
            ]
          },
          "metadata": {
            "tags": []
          },
          "execution_count": 27
        }
      ]
    },
    {
      "cell_type": "code",
      "metadata": {
        "id": "rAXKUKy78P7L",
        "colab_type": "code",
        "colab": {}
      },
      "source": [
        "def sqroot(num):\n",
        "  return num **2"
      ],
      "execution_count": 0,
      "outputs": []
    },
    {
      "cell_type": "code",
      "metadata": {
        "id": "3__t15tW9wrX",
        "colab_type": "code",
        "colab": {}
      },
      "source": [
        "def var(mean1, mean2):\n",
        "  return (mean1 - mean2)**2"
      ],
      "execution_count": 0,
      "outputs": []
    },
    {
      "cell_type": "code",
      "metadata": {
        "id": "Hg0mhYGmFOGM",
        "colab_type": "code",
        "colab": {
          "base_uri": "https://localhost:8080/",
          "height": 34
        },
        "outputId": "98430540-dad3-4301-b368-5a91991c6849"
      },
      "source": [
        "# test\n",
        "testvar = var(testmean1, testmean2)\n",
        "testvar"
      ],
      "execution_count": 30,
      "outputs": [
        {
          "output_type": "execute_result",
          "data": {
            "text/plain": [
              "0.21556122448979603"
            ]
          },
          "metadata": {
            "tags": []
          },
          "execution_count": 30
        }
      ]
    },
    {
      "cell_type": "code",
      "metadata": {
        "id": "1orSVaSe9wzz",
        "colab_type": "code",
        "colab": {}
      },
      "source": [
        "def standard_deviation (variance):\n",
        "  return sqroot(variance)"
      ],
      "execution_count": 0,
      "outputs": []
    },
    {
      "cell_type": "code",
      "metadata": {
        "id": "3enj3j8QFuBz",
        "colab_type": "code",
        "colab": {
          "base_uri": "https://localhost:8080/",
          "height": 34
        },
        "outputId": "684cf90d-1633-48cc-d42d-7f0bcba85de7"
      },
      "source": [
        "#test \n",
        "standard_deviation(testvar)"
      ],
      "execution_count": 37,
      "outputs": [
        {
          "output_type": "execute_result",
          "data": {
            "text/plain": [
              "0.04646664150354024"
            ]
          },
          "metadata": {
            "tags": []
          },
          "execution_count": 37
        }
      ]
    },
    {
      "cell_type": "code",
      "metadata": {
        "id": "t1Mh8B5G9w-9",
        "colab_type": "code",
        "colab": {}
      },
      "source": [
        "def zscore(samplemean, popmean , standard_deviation):\n",
        "  return (samplemean - popmean) / standard_deviation"
      ],
      "execution_count": 0,
      "outputs": []
    },
    {
      "cell_type": "code",
      "metadata": {
        "id": "QXlts2e-H_1E",
        "colab_type": "code",
        "colab": {
          "base_uri": "https://localhost:8080/",
          "height": 34
        },
        "outputId": "654ead35-6240-48fa-c674-a266e08fc551"
      },
      "source": [
        "# test \n",
        "zscore(7.25,7.71, 0.0464)"
      ],
      "execution_count": 33,
      "outputs": [
        {
          "output_type": "execute_result",
          "data": {
            "text/plain": [
              "-9.913793103448276"
            ]
          },
          "metadata": {
            "tags": []
          },
          "execution_count": 33
        }
      ]
    },
    {
      "cell_type": "code",
      "metadata": {
        "id": "dyrP3zEtJ5eK",
        "colab_type": "code",
        "colab": {}
      },
      "source": [
        "# cannot figure out how to return everything in one function\n",
        "def stats(list1, list2):\n",
        "    return mean(list1)\n",
        "    return mean(list2)\n",
        "    return var(mean(list1), mean(list2))\n",
        "    return zscore(mean(list1), mean(list2), standard_deviation(var))"
      ],
      "execution_count": 0,
      "outputs": []
    },
    {
      "cell_type": "code",
      "metadata": {
        "id": "hPFv1Mw2LOIA",
        "colab_type": "code",
        "colab": {
          "base_uri": "https://localhost:8080/",
          "height": 34
        },
        "outputId": "7fd2cc3e-b535-4aea-82ea-880deb0686c8"
      },
      "source": [
        "# test\n",
        "stats(test_list, test_list2)"
      ],
      "execution_count": 50,
      "outputs": [
        {
          "output_type": "execute_result",
          "data": {
            "text/plain": [
              "7.25"
            ]
          },
          "metadata": {
            "tags": []
          },
          "execution_count": 50
        }
      ]
    },
    {
      "cell_type": "markdown",
      "metadata": {
        "id": "LJXRk-oz9GPL",
        "colab_type": "text"
      },
      "source": [
        "Stretch goals:\n",
        "\n",
        "Complete a function for outliers with a z-score above a threshold argument\n",
        "Add documentation to your functions that can be accessed by calling help(function_name) (note - the repl.it terminal will require you to manually stop the execution after doing this, BUT it should display the docs).\n"
      ]
    },
    {
      "cell_type": "code",
      "metadata": {
        "id": "pc_fBgSL9OZh",
        "colab_type": "code",
        "colab": {}
      },
      "source": [
        "#Example input:\n",
        "help(sqrt)"
      ],
      "execution_count": 0,
      "outputs": []
    },
    {
      "cell_type": "code",
      "metadata": {
        "id": "fZ7hqEtD9Yok",
        "colab_type": "code",
        "colab": {}
      },
      "source": [
        "#Example output:\n",
        "Help on function sqrt in module __main__:"
      ],
      "execution_count": 0,
      "outputs": []
    },
    {
      "cell_type": "code",
      "metadata": {
        "id": "iGW52B039mZS",
        "colab_type": "code",
        "colab": {
          "base_uri": "https://localhost:8080/",
          "height": 85
        },
        "outputId": "cc4a5757-f7ae-4479-a326-1b315a58836a"
      },
      "source": [
        "#your turn\n",
        "help(standard_deviation)"
      ],
      "execution_count": 35,
      "outputs": [
        {
          "output_type": "stream",
          "text": [
            "Help on function standard_deviation in module __main__:\n",
            "\n",
            "standard_deviation(variance)\n",
            "\n"
          ],
          "name": "stdout"
        }
      ]
    },
    {
      "cell_type": "markdown",
      "metadata": {
        "id": "rnrqLbKw9eSz",
        "colab_type": "text"
      },
      "source": [
        "Resources:\n",
        "The built-in functions of Python can be used without importing anything (https://docs.python.org/3/library/functions.html)\n",
        "Why we use n-1 for samples and n for populations: https://en.wikipedia.org/wiki/Bessel%27s_correction"
      ]
    }
  ]
}