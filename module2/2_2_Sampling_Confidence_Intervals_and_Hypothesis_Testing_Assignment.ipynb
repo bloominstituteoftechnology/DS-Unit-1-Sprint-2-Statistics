{
  "nbformat": 4,
  "nbformat_minor": 0,
  "metadata": {
    "colab": {
      "name": "2-2_Sampling_Confidence_Intervals_and_Hypothesis_Testing_Assignment.ipynb",
      "provenance": [],
      "collapsed_sections": [],
      "include_colab_link": true
    },
    "kernelspec": {
      "name": "python3",
      "display_name": "Python 3"
    }
  },
  "cells": [
    {
      "cell_type": "markdown",
      "metadata": {
        "id": "view-in-github",
        "colab_type": "text"
      },
      "source": [
        "<a href=\"https://colab.research.google.com/github/rselent/DS-Unit-1-Sprint-2-Statistics/blob/master/module2/2_2_Sampling_Confidence_Intervals_and_Hypothesis_Testing_Assignment.ipynb\" target=\"_parent\"><img src=\"https://colab.research.google.com/assets/colab-badge.svg\" alt=\"Open In Colab\"/></a>"
      ]
    },
    {
      "cell_type": "markdown",
      "metadata": {
        "id": "11OzdxWTM7UR",
        "colab_type": "text"
      },
      "source": [
        "## Assignment - Build a confidence interval\n",
        "\n",
        "A confidence interval refers to a neighborhood around some point estimate, the size of which is determined by the desired p-value. For instance, we might say that 52% of Americans prefer tacos to burritos, with a 95% confidence interval of +/- 5%.\n",
        "\n",
        "52% (0.52) is the point estimate, and +/- 5% (the interval $[0.47, 0.57]$) is the confidence interval. \"95% confidence\" means a p-value $\\leq 1 - 0.95 = 0.05$.\n",
        "\n",
        "In this case, the confidence interval includes $0.5$ - which is the natural null hypothesis (that half of Americans prefer tacos and half burritos, thus there is no clear favorite). So in this case, we could use the confidence interval to report that we've failed to reject the null hypothesis.\n",
        "\n",
        "But providing the full analysis with a confidence interval, including a graphical representation of it, can be a helpful and powerful way to tell your story. Done well, it is also more intuitive to a layperson than simply saying \"fail to reject the null hypothesis\" - it shows that in fact the data does *not* give a single clear result (the point estimate) but a whole range of possibilities.\n",
        "\n",
        "How is a confidence interval built, and how should it be interpreted? It does *not* mean that 95% of the data lies in that interval - instead, the frequentist interpretation is \"if we were to repeat this experiment 100 times, we would expect the average result to lie in this interval ~95 times.\"\n",
        "\n",
        "For a 95% confidence interval and a normal(-ish) distribution, you can simply remember that +/-2 standard deviations contains 95% of the probability mass, and so the 95% confidence interval based on a given sample is centered at the mean (point estimate) and has a range of +/- 2 (or technically 1.96) standard deviations.\n",
        "\n",
        "Different distributions/assumptions (90% confidence, 99% confidence) will require different math, but the overall process and interpretation (with a frequentist approach) will be the same.\n",
        "\n",
        "Your assignment - using the data from the prior module ([congressional voting records](https://archive.ics.uci.edu/ml/datasets/Congressional+Voting+Records)):\n",
        "\n",
        "\n",
        "### Confidence Intervals:\n",
        "1. Generate and numerically represent a confidence interval\n",
        "2. Graphically (with a plot) represent the confidence interval\n",
        "3. Interpret the confidence interval - what does it tell you about the data and its distribution?\n",
        "\n",
        "### Chi-squared tests:\n",
        "4. Take a dataset that we have used in the past in class that has **categorical** variables. Pick two of those categorical variables and run a chi-squared tests on that data\n",
        "  - By hand using Numpy\n",
        "  - In a single line using Scipy\n"
      ]
    },
    {
      "cell_type": "code",
      "metadata": {
        "id": "Ckcr4A4FM7cs",
        "colab_type": "code",
        "colab": {
          "base_uri": "https://localhost:8080/",
          "height": 1000
        },
        "outputId": "f1c5b914-f917-42e0-8405-cc041835e7cd"
      },
      "source": [
        "### YOUR CODE STARTS HERE\n",
        "\n",
        "from scipy.stats import ttest_ind, ttest_ind_from_stats, ttest_rel, chisquare\n",
        "from scipy import stats\n",
        "import matplotlib.pyplot as plt\n",
        "import seaborn as sns\n",
        "import pandas as pd\n",
        "import numpy as np\n",
        "import scipy as sp\n",
        "\n",
        "# Generate list for df headers and df itself\n",
        "columnHeaders =['party','handicapped-infants','water-project',\n",
        "                'budget','physician-fee-freeze', 'el-salvador-aid',\n",
        "                'religious-groups','anti-satellite-ban','aid-to-contras',\n",
        "                'mx-missile','immigration','synfuels', 'education', \n",
        "                'right-to-sue','crime','duty-free','south-africa']\n",
        "\n",
        "df = pd.read_csv( 'https://archive.ics.uci.edu/ml/machine-learning-databases/voting-records/house-votes-84.data', \n",
        "                 header = None,\n",
        "                 names = columnHeaders)\n",
        "\n",
        "# Assignment / DF-specific variables -- split the dataset by party, then\n",
        "# non-destructively replace str values with values that are more math-friendly\n",
        "rep = df[ df.party == 'republican']\n",
        "dem = df[ df.party == 'democrat']\n",
        "rep1 = rep.replace({ 'y': 1, 'n': 0, '?': np.nan})\n",
        "dem1 = dem.replace({ 'y': 1, 'n': 0, '?': np.nan})\n",
        "\n",
        "# So, now that most of the big, important vars that we'll initially need are \n",
        "# defined, we can get down to making some Confidence Intervals\n",
        "def confInt(data, confidence = 0.95):\n",
        "    data = np.array( data)\n",
        "    mean = np.mean( data)\n",
        "    x = len( data)\n",
        "    stdError = np.std( data, ddof = 1) / np.sqrt(x)\n",
        "    errorMargin = stdError * stats.t.ppf(( 1 + confidence) / 2.0, x - 1 )\n",
        "    return( \"{:.2f}%, {:.2f}%, {:.2f}%\".format( (mean - errorMargin)*100, \n",
        "                                               (mean)*100, \n",
        "                                               (mean + errorMargin)*100 ),\n",
        "           ## Moved the KDEplot into the return() output (from preceding it) \n",
        "           ## in an effort to plot the graph immediately after the above \n",
        "           ## text output. \n",
        "           ## Unsuccessful in that so far, but because I added plt.figure()\n",
        "           ## I'm now able to plot more than one graph at a time.\n",
        "           ## Still getting verbose output\n",
        "           plt.figure(),\n",
        "           sns.kdeplot( data),\n",
        "           plt.axvline( x =( mean - errorMargin), color = 'red'),\n",
        "           plt.axvline( x =( mean + errorMargin), color = 'red'),\n",
        "           plt.axvline( x =( mean), color = 'k') );\n",
        "\n",
        "# Unnecessary, but fun for me:\n",
        "# Prompt for user input/choice, then show corresponding data by calling confInt.\n",
        "# if asked for incompatible or nonexistent data (e.g., 'arf'), responds with 0\n",
        "def confIntQuest():\n",
        "    while 1:\n",
        "        party = input( \"\\nWhich party's record would you like to examine? \" )\n",
        "        bill  = input( \"And which bill would you like to inspect? \" )\n",
        "        \n",
        "        if party == \"democrat\":\n",
        "            print( confInt( dem1[ bill].dropna()) );\n",
        "        elif party == \"republican\":\n",
        "            print( confInt( rep1[ bill].dropna()) );\n",
        "        else:\n",
        "            return(0);\n",
        "\n",
        "confIntQuest()"
      ],
      "execution_count": 41,
      "outputs": [
        {
          "output_type": "stream",
          "text": [
            "\n",
            "Which party's record would you like to examine? democrat\n",
            "And which bill would you like to inspect? crime\n",
            "('29.15%, 35.02%, 40.89%', <Figure size 432x288 with 1 Axes>, <matplotlib.axes._subplots.AxesSubplot object at 0x7ff1746f0630>, <matplotlib.lines.Line2D object at 0x7ff17791de10>, <matplotlib.lines.Line2D object at 0x7ff17791d1d0>, <matplotlib.lines.Line2D object at 0x7ff1749e4f98>)\n",
            "\n",
            "Which party's record would you like to examine? republican\n",
            "And which bill would you like to inspect? crime\n",
            "('96.03%, 98.14%, 100.25%', <Figure size 432x288 with 1 Axes>, <matplotlib.axes._subplots.AxesSubplot object at 0x7ff1749e4fd0>, <matplotlib.lines.Line2D object at 0x7ff177501668>, <matplotlib.lines.Line2D object at 0x7ff177576828>, <matplotlib.lines.Line2D object at 0x7ff177576160>)\n",
            "\n",
            "Which party's record would you like to examine? democrat\n",
            "And which bill would you like to inspect? immigration\n",
            "('41.08%, 47.15%, 53.22%', <Figure size 432x288 with 1 Axes>, <matplotlib.axes._subplots.AxesSubplot object at 0x7ff17295e400>, <matplotlib.lines.Line2D object at 0x7ff172cba048>, <matplotlib.lines.Line2D object at 0x7ff172ac68d0>, <matplotlib.lines.Line2D object at 0x7ff172ac65c0>)\n",
            "\n",
            "Which party's record would you like to examine? republican\n",
            "And which bill would you like to inspect? immigration\n",
            "('48.10%, 55.76%, 63.42%', <Figure size 432x288 with 1 Axes>, <matplotlib.axes._subplots.AxesSubplot object at 0x7ff174bb4198>, <matplotlib.lines.Line2D object at 0x7ff172969278>, <matplotlib.lines.Line2D object at 0x7ff174a6de10>, <matplotlib.lines.Line2D object at 0x7ff174a6dd68>)\n",
            "\n",
            "Which party's record would you like to examine? arf\n",
            "And which bill would you like to inspect? arf\n"
          ],
          "name": "stdout"
        },
        {
          "output_type": "execute_result",
          "data": {
            "text/plain": [
              "0"
            ]
          },
          "metadata": {
            "tags": []
          },
          "execution_count": 41
        },
        {
          "output_type": "display_data",
          "data": {
            "image/png": "[encoded data removed]",
            "text/plain": [
              "<Figure size 432x288 with 1 Axes>"
            ]
          },
          "metadata": {
            "tags": []
          }
        },
        {
          "output_type": "display_data",
          "data": {
            "image/png": "[encoded data removed]",
            "text/plain": [
              "<Figure size 432x288 with 1 Axes>"
            ]
          },
          "metadata": {
            "tags": []
          }
        },
        {
          "output_type": "display_data",
          "data": {
            "image/png": "[encoded data removed]",
            "text/plain": [
              "<Figure size 432x288 with 1 Axes>"
            ]
          },
          "metadata": {
            "tags": []
          }
        },
        {
          "output_type": "display_data",
          "data": {
            "image/png": "[encoded data removed]",
            "text/plain": [
              "<Figure size 432x288 with 1 Axes>"
            ]
          },
          "metadata": {
            "tags": []
          }
        }
      ]
    },
    {
      "cell_type": "markdown",
      "metadata": {
        "id": "iZCeTXftkUoZ",
        "colab_type": "text"
      },
      "source": [
        "\n",
        "\n",
        "3.   Interpret the confidence interval - what does it tell you about the data and its distribution?\n",
        "\n",
        "    *   Generally speaking, a confidence interval is used to aid in determining the probability of something being true in a sample vis-a-vis the greater population that it represents. However, given the nature of the data that we need to work with for this Assignment, that's not really possible, unless we *assume* that Congressional representatives *actually **and accurately** represent their districts* and the wishes therein. Most would probably argue that hasn't been true since the 1950s at best, or maybe even since the 19th century.\n",
        "    *   Another assumption that might have to be made -- depending on how one interprets the data, its results, and its purpose -- is that we're existing in some sort of Groundhog Day-esque existence, where the same day (or in this case, the same year) and the same votes are happening in perpetuity. \n",
        "\n",
        "That being said, in short, the confidence intervals tell me that this specific data is perhaps just too limited in scope, slightly too polarizing (as politics tend to be), and/or slightly too specific to be of any real value in making any sort of real-world prediction.\n"
      ]
    },
    {
      "cell_type": "code",
      "metadata": {
        "id": "BdMmyctO2lB4",
        "colab_type": "code",
        "colab": {
          "base_uri": "https://localhost:8080/",
          "height": 1000
        },
        "outputId": "341fc877-6096-4581-edfd-14f79ce842d2"
      },
      "source": [
        "### CHI^2 by hand (*shudder*)\n",
        "\n",
        "firesDataUrl = \"http://archive.ics.uci.edu/ml/machine-learning-databases/forest-fires/forestfires.csv\"\n",
        "fires = pd.read_csv( firesDataUrl)\n",
        "\n",
        "# Establish categorical variables\n",
        "rainBands = [0, .01, 0.3, 0.4, 0.8, 2, 500]\n",
        "labelNames = ['<0.1mm/m2', '0.1-0.2', '0.2-0.4', '0.4-0.8', '0.8-4', '4+']\n",
        "fires['rainfall-per-month'] = pd.cut(fires['rain'], rainBands, labels=labelNames,\n",
        "                                     include_lowest = True)\n",
        "fires[ 'month'] = fires['month'].str.title()\n",
        "print( fires[ 'rain'].value_counts(), \"\\n----------\\n\" )\n",
        "\n",
        "conTable = pd.crosstab( fires[ 'month'], fires[ 'rainfall-per-month'], \n",
        "                       margins = True )\n",
        "conObserve = pd.crosstab( fires[ 'month'], fires[ 'rainfall-per-month'] )\n",
        "\n",
        "print( conTable, \"\\n----------\\n\")\n",
        "\n",
        "# Maybe I should've picked a dataset that wouldn't have necessitated a 12x6 matrix...\n",
        "April = conTable.iloc[0][0:6].values\n",
        "August = conTable.iloc[1][0:6].values\n",
        "Dec = conTable.iloc[2][0:6].values\n",
        "Feb = conTable.iloc[3][0:6].values\n",
        "Jan = conTable.iloc[4][0:6].values\n",
        "July = conTable.iloc[5][0:6].values\n",
        "June = conTable.iloc[6][0:6].values\n",
        "March = conTable.iloc[7][0:6].values\n",
        "May = conTable.iloc[8][0:6].values\n",
        "Nov = conTable.iloc[9][0:6].values\n",
        "Oct = conTable.iloc[10][0:6].values\n",
        "Sept = conTable.iloc[11][0:6].values\n",
        "\n",
        "rowSums = conTable.iloc[0:11, 6].values\n",
        "colSums = conTable.iloc[11, 0:6].values\n",
        "\n",
        "print( rowSums, \"\\n\", colSums, \"\\n\", df.shape[0], \"\\n----------\\n\")\n",
        "\n",
        "expectation = []\n",
        "for i in range( len( rowSums) ):\n",
        "  expectedRow = []\n",
        "  for column in colSums:\n",
        "    expectedVal = column * rowSums[i] / fires.shape[0]\n",
        "    expectedRow.append( expectedVal)\n",
        "  expectation.append(expectedRow)\n",
        "  \n",
        "expectation = np.array( expectation)\n",
        "\n",
        "print(expectation.shape)  \n",
        "print( expectation, \"\\n----------\\n\")\n",
        "\n",
        "\n",
        "conObserve = pd.crosstab( fires[ 'month'], fires[ 'rainfall-per-month']).values\n",
        "print( conObserve.shape)\n",
        "conObserve"
      ],
      "execution_count": 151,
      "outputs": [
        {
          "output_type": "stream",
          "text": [
            "0.0    509\n",
            "0.8      2\n",
            "0.2      2\n",
            "0.4      1\n",
            "6.4      1\n",
            "1.4      1\n",
            "1.0      1\n",
            "Name: rain, dtype: int64 \n",
            "----------\n",
            "\n",
            "rainfall-per-month  <0.1mm/m2  0.1-0.2  0.2-0.4  0.4-0.8  0.8-4  4+  All\n",
            "month                                                                   \n",
            "Apr                         9        0        0        0      0   0    9\n",
            "Aug                       178        0        1        2      2   1  184\n",
            "Dec                         9        0        0        0      0   0    9\n",
            "Feb                        20        0        0        0      0   0   20\n",
            "Jan                         2        0        0        0      0   0    2\n",
            "Jul                        31        1        0        0      0   0   32\n",
            "Jun                        17        0        0        0      0   0   17\n",
            "Mar                        53        1        0        0      0   0   54\n",
            "May                         2        0        0        0      0   0    2\n",
            "Nov                         1        0        0        0      0   0    1\n",
            "Oct                        15        0        0        0      0   0   15\n",
            "Sep                       172        0        0        0      0   0  172\n",
            "All                       509        2        1        2      2   1  517 \n",
            "----------\n",
            "\n",
            "[  9 184   9  20   2  32  17  54   2   1  15] \n",
            " [172   0   0   0   0   0] \n",
            " 435 \n",
            "----------\n",
            "\n",
            "(11, 6)\n",
            "[[ 2.99419729  0.          0.          0.          0.          0.        ]\n",
            " [61.21470019  0.          0.          0.          0.          0.        ]\n",
            " [ 2.99419729  0.          0.          0.          0.          0.        ]\n",
            " [ 6.65377176  0.          0.          0.          0.          0.        ]\n",
            " [ 0.66537718  0.          0.          0.          0.          0.        ]\n",
            " [10.64603482  0.          0.          0.          0.          0.        ]\n",
            " [ 5.655706    0.          0.          0.          0.          0.        ]\n",
            " [17.96518375  0.          0.          0.          0.          0.        ]\n",
            " [ 0.66537718  0.          0.          0.          0.          0.        ]\n",
            " [ 0.33268859  0.          0.          0.          0.          0.        ]\n",
            " [ 4.99032882  0.          0.          0.          0.          0.        ]] \n",
            "----------\n",
            "\n",
            "(12, 6)\n"
          ],
          "name": "stdout"
        },
        {
          "output_type": "execute_result",
          "data": {
            "text/plain": [
              "array([[  9,   0,   0,   0,   0,   0],\n",
              "       [178,   0,   1,   2,   2,   1],\n",
              "       [  9,   0,   0,   0,   0,   0],\n",
              "       [ 20,   0,   0,   0,   0,   0],\n",
              "       [  2,   0,   0,   0,   0,   0],\n",
              "       [ 31,   1,   0,   0,   0,   0],\n",
              "       [ 17,   0,   0,   0,   0,   0],\n",
              "       [ 53,   1,   0,   0,   0,   0],\n",
              "       [  2,   0,   0,   0,   0,   0],\n",
              "       [  1,   0,   0,   0,   0,   0],\n",
              "       [ 15,   0,   0,   0,   0,   0],\n",
              "       [172,   0,   0,   0,   0,   0]])"
            ]
          },
          "metadata": {
            "tags": []
          },
          "execution_count": 151
        }
      ]
    },
    {
      "cell_type": "code",
      "metadata": {
        "id": "8mVy-Zdfedho",
        "colab_type": "code",
        "colab": {
          "base_uri": "https://localhost:8080/",
          "height": 493
        },
        "outputId": "1315460f-154c-44ec-fde8-55bf2d47a699"
      },
      "source": [
        "### AND now for the Scipy way! \n",
        "### (I pronounce it 'Skippy', because it's faster and more fun..)\n",
        "\n",
        "chiSquared, pVal, depthOfWilliamWallace, expectation = stats.chi2_contingency(conObserve)\n",
        "\n",
        "print( f\"Chi-Squared: {chiSquared}\" )\n",
        "print( f\"P-value: {pVal}\" )\n",
        "print( f\"Degrees of Freedom: {depthOfWilliamWallace}\" ) \n",
        "print( \"Expected: \\n\", np.array( expectation) )"
      ],
      "execution_count": 152,
      "outputs": [
        {
          "output_type": "stream",
          "text": [
            "Chi-Squared: 21.847398942623755\n",
            "P-value: 0.9999819192203677\n",
            "Degrees of Freedom: 55\n",
            "Expected: \n",
            " [[8.86073501e+00 3.48162476e-02 1.74081238e-02 3.48162476e-02\n",
            "  3.48162476e-02 1.74081238e-02]\n",
            " [1.81152805e+02 7.11798839e-01 3.55899420e-01 7.11798839e-01\n",
            "  7.11798839e-01 3.55899420e-01]\n",
            " [8.86073501e+00 3.48162476e-02 1.74081238e-02 3.48162476e-02\n",
            "  3.48162476e-02 1.74081238e-02]\n",
            " [1.96905222e+01 7.73694391e-02 3.86847195e-02 7.73694391e-02\n",
            "  7.73694391e-02 3.86847195e-02]\n",
            " [1.96905222e+00 7.73694391e-03 3.86847195e-03 7.73694391e-03\n",
            "  7.73694391e-03 3.86847195e-03]\n",
            " [3.15048356e+01 1.23791103e-01 6.18955513e-02 1.23791103e-01\n",
            "  1.23791103e-01 6.18955513e-02]\n",
            " [1.67369439e+01 6.57640232e-02 3.28820116e-02 6.57640232e-02\n",
            "  6.57640232e-02 3.28820116e-02]\n",
            " [5.31644101e+01 2.08897485e-01 1.04448743e-01 2.08897485e-01\n",
            "  2.08897485e-01 1.04448743e-01]\n",
            " [1.96905222e+00 7.73694391e-03 3.86847195e-03 7.73694391e-03\n",
            "  7.73694391e-03 3.86847195e-03]\n",
            " [9.84526112e-01 3.86847195e-03 1.93423598e-03 3.86847195e-03\n",
            "  3.86847195e-03 1.93423598e-03]\n",
            " [1.47678917e+01 5.80270793e-02 2.90135397e-02 5.80270793e-02\n",
            "  5.80270793e-02 2.90135397e-02]\n",
            " [1.69338491e+02 6.65377176e-01 3.32688588e-01 6.65377176e-01\n",
            "  6.65377176e-01 3.32688588e-01]]\n"
          ],
          "name": "stdout"
        }
      ]
    },
    {
      "cell_type": "markdown",
      "metadata": {
        "id": "RCSTAswxgbrR",
        "colab_type": "text"
      },
      "source": [
        ""
      ]
    },
    {
      "cell_type": "markdown",
      "metadata": {
        "id": "4ohsJhQUmEuS",
        "colab_type": "text"
      },
      "source": [
        "## Stretch goals:\n",
        "\n",
        "1. Write a summary of your findings, mixing prose and math/code/results. *Note* - yes, this is by definition a political topic. It is challenging but important to keep your writing voice *neutral* and stick to the facts of the data. Data science often involves considering controversial issues, so it's important to be sensitive about them (especially if you want to publish).\n",
        "2. Apply the techniques you learned today to your project data or other data of your choice, and write/discuss your findings here.\n",
        "3. Refactor your code so it is elegant, readable, and can be easily run for all issues."
      ]
    },
    {
      "cell_type": "markdown",
      "metadata": {
        "id": "nyJ3ySr7R2k9",
        "colab_type": "text"
      },
      "source": [
        "## Resources\n",
        "\n",
        "- [Interactive visualize the Chi-Squared test](https://homepage.divms.uiowa.edu/~mbognar/applets/chisq.html)\n",
        "- [Calculation of Chi-Squared test statistic](https://en.wikipedia.org/wiki/Pearson%27s_chi-squared_test)\n",
        "- [Visualization of a confidence interval generated by R code](https://commons.wikimedia.org/wiki/File:Confidence-interval.svg)\n",
        "- [Expected value of a squared standard normal](https://math.stackexchange.com/questions/264061/expected-value-calculation-for-squared-normal-distribution) (it's 1 - which is why the expected value of a Chi-Squared with $n$ degrees of freedom is $n$, as it's the sum of $n$ squared standard normals)"
      ]
    }
  ]
}