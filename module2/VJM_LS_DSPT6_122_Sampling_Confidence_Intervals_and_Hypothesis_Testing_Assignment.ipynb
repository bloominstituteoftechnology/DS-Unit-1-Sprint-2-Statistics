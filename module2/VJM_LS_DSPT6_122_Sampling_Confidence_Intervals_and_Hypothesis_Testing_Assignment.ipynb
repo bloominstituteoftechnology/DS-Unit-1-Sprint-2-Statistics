{
  "nbformat": 4,
  "nbformat_minor": 0,
  "metadata": {
    "colab": {
      "name": "VJM_LS_DSPT6_122_Sampling_Confidence_Intervals_and_Hypothesis_Testing_Assignment.ipynb",
      "provenance": [],
      "collapsed_sections": [],
      "include_colab_link": true
    },
    "kernelspec": {
      "name": "python3",
      "display_name": "Python 3"
    }
  },
  "cells": [
    {
      "cell_type": "markdown",
      "metadata": {
        "id": "view-in-github",
        "colab_type": "text"
      },
      "source": [
        "<a href=\"https://colab.research.google.com/github/vjmiyagi/DS-Unit-1-Sprint-2-Statistics/blob/master/module2/VJM_LS_DSPT6_122_Sampling_Confidence_Intervals_and_Hypothesis_Testing_Assignment.ipynb\" target=\"_parent\"><img src=\"https://colab.research.google.com/assets/colab-badge.svg\" alt=\"Open In Colab\"/></a>"
      ]
    },
    {
      "cell_type": "markdown",
      "metadata": {
        "id": "11OzdxWTM7UR",
        "colab_type": "text"
      },
      "source": [
        "## Assignment - Build a confidence interval\n",
        "\n",
        "A confidence interval refers to a neighborhood around some point estimate, the size of which is determined by the desired p-value. For instance, we might say that 52% of Americans prefer tacos to burritos, with a 95% confidence interval of +/- 5%.\n",
        "\n",
        "52% (0.52) is the point estimate, and +/- 5% (the interval $[0.47, 0.57]$) is the confidence interval. \"95% confidence\" means a p-value $\\leq 1 - 0.95 = 0.05$.\n",
        "\n",
        "In this case, the confidence interval includes $0.5$ - which is the natural null hypothesis (that half of Americans prefer tacos and half burritos, thus there is no clear favorite). So in this case, we could use the confidence interval to report that we've failed to reject the null hypothesis.\n",
        "\n",
        "But providing the full analysis with a confidence interval, including a graphical representation of it, can be a helpful and powerful way to tell your story. Done well, it is also more intuitive to a layperson than simply saying \"fail to reject the null hypothesis\" - it shows that in fact the data does *not* give a single clear result (the point estimate) but a whole range of possibilities.\n",
        "\n",
        "How is a confidence interval built, and how should it be interpreted? It does *not* mean that 95% of the data lies in that interval - instead, the frequentist interpretation is \"if we were to repeat this experiment 100 times, we would expect the average result to lie in this interval ~95 times.\"\n",
        "\n",
        "For a 95% confidence interval and a normal(-ish) distribution, you can simply remember that +/-2 standard deviations contains 95% of the probability mass, and so the 95% confidence interval based on a given sample is centered at the mean (point estimate) and has a range of +/- 2 (or technically 1.96) standard deviations.\n",
        "\n",
        "Different distributions/assumptions (90% confidence, 99% confidence) will require different math, but the overall process and interpretation (with a frequentist approach) will be the same.\n",
        "\n",
        "Your assignment - using the data from the prior module ([congressional voting records](https://archive.ics.uci.edu/ml/datasets/Congressional+Voting+Records)):\n",
        "\n",
        "\n",
        "### Confidence Intervals:\n",
        "1. Generate and numerically represent a confidence interval\n",
        "2. Graphically (with a plot) represent the confidence interval\n",
        "3. Interpret the confidence interval - what does it tell you about the data and its distribution?\n",
        "\n",
        "### Chi-squared tests:\n",
        "4. Take a dataset that we have used in the past in class that has **categorical** variables. Pick two of those categorical variables and run a chi-squared tests on that data\n",
        "  - By hand using Numpy\n",
        "  - In a single line using Scipy\n"
      ]
    },
    {
      "cell_type": "code",
      "metadata": {
        "id": "sqaQtJrT7dro",
        "colab_type": "code",
        "colab": {},
        "cellView": "form"
      },
      "source": [
        "#@title This cell contains imports\n",
        "# imports\n",
        "import pandas as pd\n",
        "import numpy as np \n",
        "import seaborn as sns\n",
        "import matplotlib.pyplot as plt\n",
        "import scipy.stats as stats\n",
        "from matplotlib import rc"
      ],
      "execution_count": 0,
      "outputs": []
    },
    {
      "cell_type": "code",
      "metadata": {
        "id": "Wfx6PJws7dyF",
        "colab_type": "code",
        "colab": {},
        "cellView": "form"
      },
      "source": [
        "#@title This cell gets data with bang command\n",
        "# Get the data\n",
        "\n",
        "# wget\n",
        "! wget https://archive.ics.uci.edu/ml/machine-learning-databases/voting-records/house-votes-84.data --no-check-certificate"
      ],
      "execution_count": 0,
      "outputs": []
    },
    {
      "cell_type": "code",
      "metadata": {
        "id": "f3UWC_9z7d0W",
        "colab_type": "code",
        "colab": {},
        "cellView": "form"
      },
      "source": [
        "#@title This cell makes the dataframe and prints head\n",
        "# Make DataFrame\n",
        "cols = ['party','handicapped-infants','water-project',\n",
        "                          'budget','physician-fee-freeze', 'el-salvador-aid',\n",
        "                          'religious-groups','anti-satellite-ban',\n",
        "                          'aid-to-contras','mx-missile','immigration',\n",
        "                          'synfuels', 'education', 'right-to-sue','crime','duty-free',\n",
        "                          'south-africa']\n",
        "house_df = pd.read_csv('house-votes-84.data',header=None,\n",
        "                    names=cols)\n",
        "house_df.head()"
      ],
      "execution_count": 0,
      "outputs": []
    },
    {
      "cell_type": "code",
      "metadata": {
        "id": "rWyVHQ48SswI",
        "colab_type": "code",
        "colab": {},
        "cellView": "form"
      },
      "source": [
        "#@title This cell cleans data using NaN for ?\n",
        "house_df = house_df.replace({'y':1, 'n':0, '?':np.NaN})\n",
        "house_df.head()"
      ],
      "execution_count": 0,
      "outputs": []
    },
    {
      "cell_type": "code",
      "metadata": {
        "id": "7slZ3YLWSs4c",
        "colab_type": "code",
        "colab": {},
        "cellView": "form"
      },
      "source": [
        "#@title This cell makes two dataframes for the two parties\n",
        "dem_df = house_df[house_df['party']=='democrat']\n",
        "print('dem',dem_df.shape)\n",
        "rep_df = house_df[house_df['party']=='republican']\n",
        "print('rep',rep_df.shape)"
      ],
      "execution_count": 0,
      "outputs": []
    },
    {
      "cell_type": "code",
      "metadata": {
        "id": "Zez672QKSs1Z",
        "colab_type": "code",
        "colab": {},
        "cellView": "form"
      },
      "source": [
        "#@title This cell defines function to compute confidence interval \n",
        "\n",
        "def conf_int(df, confidence=0.95):\n",
        "    df = np.array(df)\n",
        "    mean = np.nanmean(df)\n",
        "    n = len(df)\n",
        "    stderr = np.nanstd(df, ddof=1)/np.sqrt(n)\n",
        "    moe = stderr * stats.t.ppf((1 + confidence)/ 2.0, n-1)\n",
        "    if mean >=0.475  and mean <= 0.525:\n",
        "        str = 'fail to reject'\n",
        "    else:\n",
        "        str = 'reject'\n",
        "    return(round(mean,4), round(mean-moe,4), round(mean+moe,4),str)"
      ],
      "execution_count": 0,
      "outputs": []
    },
    {
      "cell_type": "code",
      "metadata": {
        "id": "CcQXfwi2Ss9v",
        "colab_type": "code",
        "colab": {},
        "cellView": "form"
      },
      "source": [
        "#@title Use this cell to select a bill to analyze.\n",
        "bill = \"handicapped-infants\" #@param [\"handicapped-infants\", \"water-project\", \"budget\", \"physician-fee-freeze\", \"el-salvador-aid\", \"religious-groups\", \"anti-satellite-ban\", \"aid-to-contras\", \"mx-missile\", \"immigration\", \"synfuels\", \"education\", \"right-to-sue\", \"crime\", \"duty-free\", \"south-africa\"]\n",
        "\n",
        "bill.title()"
      ],
      "execution_count": 0,
      "outputs": []
    },
    {
      "cell_type": "code",
      "metadata": {
        "id": "AVjFVlBSStdS",
        "colab_type": "code",
        "colab": {},
        "cellView": "form"
      },
      "source": [
        "#@title This cell calls the  function to compute confidence interval \n",
        "\n",
        "CI_dem = conf_int(dem_df[bill])\n",
        "CI_rep = conf_int(rep_df[bill])\n",
        "\n",
        "print('Regarding the house vote for',bill.title())\n",
        "print('with', house_df[bill].sum(), 'votes,',\n",
        "      'looking at just Democrats:')\n",
        "print('with a mean of',CI_dem[0],'and using a 95% confidence level')\n",
        "print('we',CI_dem[3],'the null hypothesis')\n",
        "print()\n",
        "print('When we look at the Republicans', 'the mean is', CI_rep[0])\n",
        "print('so we',CI_rep[3],'the null hypothesis.')"
      ],
      "execution_count": 0,
      "outputs": []
    },
    {
      "cell_type": "code",
      "metadata": {
        "id": "zoUWZN-2Ssy9",
        "colab_type": "code",
        "colab": {},
        "cellView": "form"
      },
      "source": [
        "#@title This cell draws a graph of votes on the selected bill\n",
        "fig, ax = plt.subplots()\n",
        "\n",
        "\n",
        "\n",
        "sns.kdeplot(house_df[bill],\n",
        "            bw='.1', shade=True,\n",
        "            label='house', color = 'g', ax=ax);\n",
        "\n",
        "sns.kdeplot(dem_df[bill],\n",
        "            bw='.1', shade=True,\n",
        "            label='dem', color = 'b', ax=ax);\n",
        "sns.kdeplot(rep_df[bill],\n",
        "            bw='.1', shade=True,\n",
        "            label='rep', color = 'r', ax=ax);\n",
        "\n",
        "plt.xticks([0,1], ['no', 'yes'] );\n",
        "plt.axvline(x=CI_dem[1], color='b')\n",
        "plt.axvline(x=CI_dem[2], color='b')\n",
        "plt.axvline(x=CI_dem[0],color='c')\n",
        "plt.axvline(x=CI_rep[1], color='r')\n",
        "plt.axvline(x=CI_rep[2], color='r')\n",
        "plt.axvline(x=CI_rep[0], label='rep mean',color='m')\n",
        "graphtitle=(bill.title()+' House votes '+str(int(house_df[bill].sum())))\n",
        "graphsubtitle=('Republicans : ' + str(int(rep_df[bill].sum()))+ \n",
        "               '                          ' +\n",
        "               'Democrats : ' + str(int(dem_df[bill].sum())))\n",
        "plt.title(graphsubtitle)\n",
        "plt.suptitle(graphtitle)\n",
        "\n",
        "plt.legend\n",
        "\n",
        "plt.show()"
      ],
      "execution_count": 0,
      "outputs": []
    },
    {
      "cell_type": "code",
      "metadata": {
        "id": "zC5T7GaTSst6",
        "colab_type": "code",
        "colab": {},
        "cellView": "form"
      },
      "source": [
        "#@title This Cell computes Chi square test using Numpy\n",
        "\n",
        "\n",
        "odf = pd.crosstab(house_df['party'], house_df[bill], margins=True)\n",
        "\n",
        "# Set Observed Values\n",
        "Oa=odf.iloc[0,0]\n",
        "Ob=odf.iloc[0,1]\n",
        "Oc=odf.iloc[1,0]\n",
        "Od=odf.iloc[1,1]\n",
        "# Set Expected Values\n",
        "Ea = (odf.iloc[0,2] * odf.iloc[2,0])/odf.iloc[2,2]\n",
        "Eb = (odf.iloc[0,2] * odf.iloc[2,1])/odf.iloc[2,2]\n",
        "Ec = (odf.iloc[1,2] * odf.iloc[2,0])/odf.iloc[2,2]\n",
        "Ed = (odf.iloc[1,2] * odf.iloc[2,1])/odf.iloc[2,2]\n",
        "\n",
        "ChiSq = ((Oa-Ea)**2/Ea)+((Ob-Eb)**2/Eb)+((Oc-Ec)**2/Ec)+((Od-Ed)**2/Ed)\n",
        "print('Chi square =', ChiSq)\n"
      ],
      "execution_count": 0,
      "outputs": []
    },
    {
      "cell_type": "code",
      "metadata": {
        "id": "we2SnsV47e10",
        "colab_type": "code",
        "colab": {},
        "cellView": "form"
      },
      "source": [
        "#@title This Cell computes Chi square test In a single line using Scipy\n",
        "\n",
        "stats.chi2_contingency(odf)"
      ],
      "execution_count": 0,
      "outputs": []
    },
    {
      "cell_type": "markdown",
      "metadata": {
        "id": "4ohsJhQUmEuS",
        "colab_type": "text"
      },
      "source": [
        "## Stretch goals:\n",
        "\n",
        "1. Write a summary of your findings, mixing prose and math/code/results. *Note* - yes, this is by definition a political topic. It is challenging but important to keep your writing voice *neutral* and stick to the facts of the data. Data science often involves considering controversial issues, so it's important to be sensitive about them (especially if you want to publish).\n",
        "2. Apply the techniques you learned today to your project data or other data of your choice, and write/discuss your findings here.\n",
        "3. Refactor your code so it is elegant, readable, and can be easily run for all issues."
      ]
    },
    {
      "cell_type": "markdown",
      "metadata": {
        "id": "nyJ3ySr7R2k9",
        "colab_type": "text"
      },
      "source": [
        "## Resources\n",
        "\n",
        "- [Interactive visualize the Chi-Squared test](https://homepage.divms.uiowa.edu/~mbognar/applets/chisq.html)\n",
        "- [Calculation of Chi-Squared test statistic](https://en.wikipedia.org/wiki/Pearson%27s_chi-squared_test)\n",
        "- [Visualization of a confidence interval generated by R code](https://commons.wikimedia.org/wiki/File:Confidence-interval.svg)\n",
        "- [Expected value of a squared standard normal](https://math.stackexchange.com/questions/264061/expected-value-calculation-for-squared-normal-distribution) (it's 1 - which is why the expected value of a Chi-Squared with $n$ degrees of freedom is $n$, as it's the sum of $n$ squared standard normals)"
      ]
    }
  ]
}