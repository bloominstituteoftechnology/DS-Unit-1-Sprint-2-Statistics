{
 "cells": [
  {
   "cell_type": "markdown",
   "metadata": {
    "colab_type": "text",
    "id": "11OzdxWTM7UR"
   },
   "source": [
    "## Assignment - Build a confidence interval\n",
    "\n",
    "A confidence interval refers to a neighborhood around some point estimate, the size of which is determined by the desired p-value. For instance, we might say that 52% of Americans prefer tacos to burritos, with a 95% confidence interval of +/- 5%.\n",
    "\n",
    "52% (0.52) is the point estimate, and +/- 5% (the interval $[0.47, 0.57]$) is the confidence interval. \"95% confidence\" means a p-value $\\leq 1 - 0.95 = 0.05$.\n",
    "\n",
    "In this case, the confidence interval includes $0.5$ - which is the natural null hypothesis (that half of Americans prefer tacos and half burritos, thus there is no clear favorite). So in this case, we could use the confidence interval to report that we've failed to reject the null hypothesis.\n",
    "\n",
    "But providing the full analysis with a confidence interval, including a graphical representation of it, can be a helpful and powerful way to tell your story. Done well, it is also more intuitive to a layperson than simply saying \"fail to reject the null hypothesis\" - it shows that in fact the data does *not* give a single clear result (the point estimate) but a whole range of possibilities.\n",
    "\n",
    "How is a confidence interval built, and how should it be interpreted? It does *not* mean that 95% of the data lies in that interval - instead, the frequentist interpretation is \"if we were to repeat this experiment 100 times, we would expect the average result to lie in this interval ~95 times.\"\n",
    "\n",
    "For a 95% confidence interval and a normal(-ish) distribution, you can simply remember that +/-2 standard deviations contains 95% of the probability mass, and so the 95% confidence interval based on a given sample is centered at the mean (point estimate) and has a range of +/- 2 (or technically 1.96) standard deviations.\n",
    "\n",
    "Different distributions/assumptions (90% confidence, 99% confidence) will require different math, but the overall process and interpretation (with a frequentist approach) will be the same.\n",
    "\n",
    "Your assignment - using the data from the prior module ([congressional voting records](https://archive.ics.uci.edu/ml/datasets/Congressional+Voting+Records)):\n",
    "\n",
    "\n",
    "### Confidence Intervals:\n",
    "1. Generate and numerically represent a confidence interval\n",
    "2. Graphically (with a plot) represent the confidence interval\n",
    "3. Interpret the confidence interval - what does it tell you about the data and its distribution?\n",
    "\n",
    "### Chi-squared tests:\n",
    "4. Take a dataset that we have used in the past in class that has **categorical** variables. Pick two of those categorical variables and run a chi-squared tests on that data\n",
    "  - By hand using Numpy\n",
    "  - In a single line using Scipy\n"
   ]
  },
  {
   "cell_type": "code",
   "execution_count": 17,
   "metadata": {
    "colab": {},
    "colab_type": "code",
    "id": "Ckcr4A4FM7cs"
   },
   "outputs": [
    {
     "data": {
      "text/plain": [
       "435"
      ]
     },
     "execution_count": 17,
     "metadata": {},
     "output_type": "execute_result"
    }
   ],
   "source": [
    "# TODO - your code!\n",
    "#1. Generate and numerically represent a confidence interval\n",
    "#need sample mean, and std\n",
    "#we are going to look at the frequecy of non-voting. if the \n"
   ]
  },
  {
   "cell_type": "code",
   "execution_count": 94,
   "metadata": {},
   "outputs": [
    {
     "name": "stdout",
     "output_type": "stream",
     "text": [
      "handicapped-infants                       0.184524\n",
      "water-project-cost-sharing                0.446429\n",
      "adoption-of-the-budget-resolution         0.130952\n",
      "physician-fee-freeze                      0.970238\n",
      "el-salvador-aid                           0.934524\n",
      "religious-groups-in-schools               0.886905\n",
      "anti-satellite-test-ban                   0.232143\n",
      "aid-to-nicaraguan-contras                 0.142857\n",
      "mx-missile                                0.113095\n",
      "immigration                               0.547619\n",
      "synfuels-corporation-cutback              0.125000\n",
      "education-spending                        0.803571\n",
      "superfund-right-to-sue                    0.809524\n",
      "crime                                     0.940476\n",
      "duty-free-exports                         0.083333\n",
      "export-administration-act-south-africa    0.571429\n",
      "dtype: float64\n",
      "0.904329563030822\n",
      "0.9404761904761905\n",
      "0.9766228179215589\n"
     ]
    }
   ],
   "source": [
    "### resuse from \n",
    "from scipy import stats\n",
    "import pandas as pd      #probably can do this all without dataframes but im feeling lazy\n",
    "import numpy as np\n",
    "import re\n",
    "    \n",
    "start = re.compile(\"7.\\sAttribute\")\n",
    "pat = re.compile(r'\\s+\\d+.\\s([A-Za-z-\\s]+):\\s\\d\\s')  #extract column names\n",
    "columns=[]\n",
    "with open('house-votes-84.names', 'r') as f:\n",
    "    line = f.readline()\n",
    "    cnt = 1\n",
    "    while line:\n",
    "        if start.match(line):\n",
    "            line = f.readline()  #read next line and process. until done and break\n",
    "            while pat.match(line):\n",
    "                line = f.readline()  #read next line and process.\n",
    "                \n",
    "        else:\n",
    "            line = f.readline() #not started, read nextline\n",
    "            cnt += 1\n",
    "\n",
    "with open('house-votes-84.names', 'r') as f:\n",
    "    txt = f.read()\n",
    "    columns = pat.findall(txt)                   #this is what we want\n",
    "df= pd.read_csv('house-votes-84.data', names=columns)\n",
    "df = df.replace({\"y\": 1, \"n\": 0 ,\"?\": 0})\n",
    "\n",
    "def confidence_interval(data, confidence=0.95):            #stolen from rallred. \n",
    "  \"\"\"\n",
    "  Calculate a confidence interval around a sample mean for given data.\n",
    "  Using t-distribution and two-tailed test, default 95% confidence. \n",
    "  \n",
    "  Arguments:\n",
    "    data - iterable (list or numpy array) of sample observations\n",
    "    confidence - level of confidence for the interval\n",
    "  \n",
    "  Returns:\n",
    "    tuple of (mean, lower bound, upper bound)\n",
    "  \"\"\"\n",
    "  data = np.array(data)\n",
    "  x_bar = np.mean(data)\n",
    "  n = len(data)\n",
    "  s = np.std(data, ddof=1)\n",
    "  std_err = s / np.sqrt(n)\n",
    "  t = stats.t.ppf((1 + confidence) / 2.0, n - 1)\n",
    "  margin_of_error = t*std_err\n",
    "  lower_bound = x_bar - margin_of_error\n",
    "  upper_bound = x_bar + margin_of_error\n",
    "  return (lower_bound, x_bar, upper_bound)\n",
    "\n",
    "print(df[df['Class Name'] == 'republican'].mean())  #have a look at the means\n",
    "\n",
    "rep = df[df['Class Name'] == 'republican']\n",
    "\n",
    "lb, xb, ub = confidence_interval(rep['crime'], 0.95)\n",
    "print(lb)\n",
    "print(xb)\n",
    "print(ub)\n",
    "\n",
    "\n",
    "#bs_marg =  pd.crosstab(df['Class Name'], df['issue'], margins=all)\n",
    "#bs_marg.shape\n",
    "#row_sums= obs_marg.iloc[0:2, 0:17].values\n",
    "#row_sums= obs_marg.iloc[0:2, 0:17].values"
   ]
  },
  {
   "cell_type": "code",
   "execution_count": 103,
   "metadata": {
    "scrolled": true
   },
   "outputs": [
    {
     "name": "stdout",
     "output_type": "stream",
     "text": [
      "count    168.000000\n",
      "mean       0.940476\n",
      "std        0.237310\n",
      "min        0.000000\n",
      "25%        1.000000\n",
      "50%        1.000000\n",
      "75%        1.000000\n",
      "max        1.000000\n",
      "Name: crime, dtype: float64\n"
     ]
    },
    {
     "data": {
      "image/png": "[encoded data removed]",
      "text/plain": [
       "<Figure size 432x288 with 1 Axes>"
      ]
     },
     "metadata": {
      "needs_background": "light"
     },
     "output_type": "display_data"
    }
   ],
   "source": [
    "#2. Graphically (with a plot) represent the confidence interval\n",
    "import matplotlib.pyplot as plt\n",
    "#rep.plot.density()\n",
    "print(rep.crime.describe())\n",
    "rep.crime.plot.density()\n",
    "plt.axvline(x=lb, color= 'blue')\n",
    "plt.axvline(x=ub, color='red')\n",
    "plt.axvline(x=xb, color = 'green')\n",
    "plt.show()\n"
   ]
  },
  {
   "cell_type": "code",
   "execution_count": null,
   "metadata": {},
   "outputs": [],
   "source": [
    "#3. Interpret the confidence interval - what does it tell you about the data and its distribution?\n",
    "\n",
    "# since there are only 2 possible values, 1 or 0 \n",
    "# the sample mean .is .94 very close to 1. the std is also pretty small, leading to a narrow confidence interval. \n",
    "# this implies that the population mean is very highly likely to be within this interval. its not centered on \n",
    "# the mean because there are only 0, 1 values in the sample. "
   ]
  },
  {
   "cell_type": "markdown",
   "metadata": {},
   "source": [
    "### Chi-squared tests:\n",
    "4. Take a dataset that we have used in the past in class that has **categorical** variables. Pick two of those categorical variables and run a chi-squared tests on that data\n",
    "  - By hand using Numpy\n",
    "  - In a single line using Scipy\n"
   ]
  },
  {
   "cell_type": "code",
   "execution_count": 149,
   "metadata": {
    "scrolled": true
   },
   "outputs": [
    {
     "name": "stdout",
     "output_type": "stream",
     "text": [
      "(4, 3)\n",
      "[[403.33333333 403.33333333 403.33333333]\n",
      " [128.         128.         128.        ]\n",
      " [ 23.          23.          23.        ]\n",
      " [ 21.66666667  21.66666667  21.66666667]]\n",
      "53.28202539802095\n",
      " chi2 statistic 53.28202539802095\n",
      "\n",
      " p-value 1.0294402753134833e-09\n",
      "\n",
      " degrees of freedom 6\n",
      "\n",
      " expected frequencies table: \n",
      " [[403.33333333 403.33333333 403.33333333]\n",
      " [128.         128.         128.        ]\n",
      " [ 23.          23.          23.        ]\n",
      " [ 21.66666667  21.66666667  21.66666667]]\n"
     ]
    }
   ],
   "source": [
    "from scipy.stats import chisquare  # One-way chi square test\n",
    "# we are\n",
    "cars = pd.read_csv(\"https://archive.ics.uci.edu/ml/machine-learning-databases/car/car.data\", header=None)\n",
    "ch = [   'price',\n",
    "   'maint_cost',\n",
    "   'doors',\n",
    "   'persons',\n",
    "   'lug_boot',\n",
    "   'safety',\n",
    "   'class']\n",
    "cars.columns =ch\n",
    "cars = cars.replace(to_replace={'vgood': '5-vgood', 'good': '4-good','acc': '3-acc','unacc': '2-uncacc'})\n",
    "cars = cars.replace(to_replace={'vhigh': '5-vhigh', 'high': '4-high','med': '3-med','small': '2-small','low': '1-low'})\n",
    "\n",
    "\n",
    "observed = pd.crosstab(cars['class'], cars['lug_boot'])\n",
    "\n",
    "obs_margins = pd.crosstab(cars['class'], cars['lug_boot'], margins =True)\n",
    "row_sums = obs_margins.iloc[0:4, 3:4].values\n",
    "row_sums = row_sums.T[0]\n",
    "col_sums = obs_margins.iloc[4:5, 0:3].values\n",
    "col_sums = col_sums[0]\n",
    "grand_total= cars.shape[0]\n",
    "\n",
    "##calculate exp\n",
    "expected = []\n",
    "for i in range(len(row_sums)):\n",
    "  expected_row = []\n",
    "  for column in col_sums:\n",
    "    expected_val = column*row_sums[i]/grand_total\n",
    "    expected_row.append(expected_val)\n",
    "  expected.append(expected_row)\n",
    "\n",
    "expected = np.array(expected)\n",
    "print(expected.shape)  \n",
    "print(expected)\n",
    "\n",
    "chi2 = ((observed - expected)**2 / expected).sum().sum()\n",
    "print(chi2)\n",
    "\n",
    "observed.shape  \n",
    "dof = 6\n",
    "p_val= 0.05\n",
    "## lets see if this is 'right'\n",
    "chi2, p_val , dof, expected = stats.chi2_contingency(observed)\n",
    "print(\" chi2 statistic\", chi2)\n",
    "print(\"\\n p-value\", p_val)\n",
    "print(\"\\n degrees of freedom\",dof)\n",
    "print(\"\\n expected frequencies table: \\n\", expected)"
   ]
  },
  {
   "cell_type": "markdown",
   "metadata": {
    "colab_type": "text",
    "id": "4ohsJhQUmEuS"
   },
   "source": [
    "## Stretch goals:\n",
    "\n",
    "1. Write a summary of your findings, mixing prose and math/code/results. *Note* - yes, this is by definition a political topic. It is challenging but important to keep your writing voice *neutral* and stick to the facts of the data. Data science often involves considering controversial issues, so it's important to be sensitive about them (especially if you want to publish).\n",
    "2. Apply the techniques you learned today to your project data or other data of your choice, and write/discuss your findings here.\n",
    "3. Refactor your code so it is elegant, readable, and can be easily run for all issues."
   ]
  },
  {
   "cell_type": "markdown",
   "metadata": {
    "colab_type": "text",
    "id": "nyJ3ySr7R2k9"
   },
   "source": [
    "## Resources\n",
    "\n",
    "- [Interactive visualize the Chi-Squared test](https://homepage.divms.uiowa.edu/~mbognar/applets/chisq.html)\n",
    "- [Calculation of Chi-Squared test statistic](https://en.wikipedia.org/wiki/Pearson%27s_chi-squared_test)\n",
    "- [Visualization of a confidence interval generated by R code](https://commons.wikimedia.org/wiki/File:Confidence-interval.svg)\n",
    "- [Expected value of a squared standard normal](https://math.stackexchange.com/questions/264061/expected-value-calculation-for-squared-normal-distribution) (it's 1 - which is why the expected value of a Chi-Squared with $n$ degrees of freedom is $n$, as it's the sum of $n$ squared standard normals)"
   ]
  }
 ],
 "metadata": {
  "colab": {
   "collapsed_sections": [],
   "name": "LS_DS_122_Sampling_Confidence_Intervals_and_Hypothesis_Testing_Assignment.ipynb",
   "provenance": []
  },
  "kernelspec": {
   "display_name": "Python 3",
   "language": "python",
   "name": "python3"
  },
  "language_info": {
   "codemirror_mode": {
    "name": "ipython",
    "version": 3
   },
   "file_extension": ".py",
   "mimetype": "text/x-python",
   "name": "python",
   "nbconvert_exporter": "python",
   "pygments_lexer": "ipython3",
   "version": "3.7.4"
  }
 },
 "nbformat": 4,
 "nbformat_minor": 1
}
