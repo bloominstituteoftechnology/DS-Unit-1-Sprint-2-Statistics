{
  "nbformat": 4,
  "nbformat_minor": 0,
  "metadata": {
    "colab": {
      "name": "Copy of LS_DS_122_Sampling_Confidence_Intervals_and_Hypothesis_Testing.ipynb",
      "provenance": [],
      "collapsed_sections": [],
      "include_colab_link": true
    },
    "kernelspec": {
      "display_name": "Python 3",
      "language": "python",
      "name": "python3"
    },
    "language_info": {
      "codemirror_mode": {
        "name": "ipython",
        "version": 3
      },
      "file_extension": ".py",
      "mimetype": "text/x-python",
      "name": "python",
      "nbconvert_exporter": "python",
      "pygments_lexer": "ipython3",
      "version": "3.7.3"
    }
  },
  "cells": [
    {
      "cell_type": "markdown",
      "metadata": {
        "id": "view-in-github",
        "colab_type": "text"
      },
      "source": [
        "<a href=\"https://colab.research.google.com/github/ndow33/DS-Unit-1-Sprint-2-Statistics/blob/master/module2/LS_DS_122_Sampling_Confidence_Intervals_and_Hypothesis_Testing.ipynb\" target=\"_parent\"><img src=\"https://colab.research.google.com/assets/colab-badge.svg\" alt=\"Open In Colab\"/></a>"
      ]
    },
    {
      "cell_type": "markdown",
      "metadata": {
        "colab_type": "text",
        "id": "838Dmw1kM2LK"
      },
      "source": [
        "# Lambda School Data Science Module 122\n",
        "## Sampling, Confidence Intervals, and Hypothesis Testing"
      ]
    },
    {
      "cell_type": "markdown",
      "metadata": {
        "id": "_LYM0CE7bBs2",
        "colab_type": "text"
      },
      "source": [
        "## Recap: t-tests"
      ]
    },
    {
      "cell_type": "code",
      "metadata": {
        "id": "aNm22SJMbBs3",
        "colab_type": "code",
        "colab": {}
      },
      "source": [
        "# imports"
      ],
      "execution_count": 0,
      "outputs": []
    },
    {
      "cell_type": "code",
      "metadata": {
        "id": "VS4CtVWZbBs8",
        "colab_type": "code",
        "colab": {}
      },
      "source": [
        "url='https://raw.githubusercontent.com/ryanleeallred/datasets/master/adult.csv'"
      ],
      "execution_count": 0,
      "outputs": []
    },
    {
      "cell_type": "code",
      "metadata": {
        "id": "6oJBD1FlbBtA",
        "colab_type": "code",
        "colab": {}
      },
      "source": [
        "# Remove null values as these will throw off the ttest\n"
      ],
      "execution_count": 0,
      "outputs": []
    },
    {
      "cell_type": "code",
      "metadata": {
        "id": "lfOqQyn4bBtD",
        "colab_type": "code",
        "colab": {}
      },
      "source": [
        "# salary values\n"
      ],
      "execution_count": 0,
      "outputs": []
    },
    {
      "cell_type": "code",
      "metadata": {
        "id": "cTxouLoDbBtH",
        "colab_type": "code",
        "colab": {}
      },
      "source": [
        "## what is the average age?\n"
      ],
      "execution_count": 0,
      "outputs": []
    },
    {
      "cell_type": "code",
      "metadata": {
        "id": "eU5PmIpebBtL",
        "colab_type": "code",
        "colab": {}
      },
      "source": [
        "# restrict to high earners\n"
      ],
      "execution_count": 0,
      "outputs": []
    },
    {
      "cell_type": "code",
      "metadata": {
        "id": "JdAJxsh6bBtP",
        "colab_type": "code",
        "colab": {}
      },
      "source": [
        "# is age continuous?\n"
      ],
      "execution_count": 0,
      "outputs": []
    },
    {
      "cell_type": "code",
      "metadata": {
        "id": "OTtJ_2xDbBtS",
        "colab_type": "code",
        "colab": {}
      },
      "source": [
        "# is the average age of high earners above the population average? yes.\n"
      ],
      "execution_count": 0,
      "outputs": []
    },
    {
      "cell_type": "code",
      "metadata": {
        "id": "4WvEC2L4bBtV",
        "colab_type": "code",
        "colab": {}
      },
      "source": [
        "# is there a sig difference between the age of high and low earners? yes.\n"
      ],
      "execution_count": 0,
      "outputs": []
    },
    {
      "cell_type": "code",
      "metadata": {
        "id": "lzy2jt-ZbBtb",
        "colab_type": "code",
        "colab": {}
      },
      "source": [
        "# subset male and female low earners\n",
        "\n",
        "\n",
        "# note the trailing space."
      ],
      "execution_count": 0,
      "outputs": []
    },
    {
      "cell_type": "code",
      "metadata": {
        "id": "IlAe1ucZbBtg",
        "colab_type": "code",
        "colab": {}
      },
      "source": [
        "# is there a sig difference between the male and female low earners? yes.\n"
      ],
      "execution_count": 0,
      "outputs": []
    },
    {
      "cell_type": "markdown",
      "metadata": {
        "colab_type": "text",
        "id": "dbcPKIo5M6Ny"
      },
      "source": [
        "## Prepare - examine other available hypothesis tests\n",
        "\n",
        "If you had to pick a single hypothesis test in your toolbox, t-test would probably be the best choice - but the good news is you don't have to pick just one! Here's some of the others to be aware of:"
      ]
    },
    {
      "cell_type": "code",
      "metadata": {
        "id": "2BhRNne2bBtj",
        "colab_type": "code",
        "colab": {}
      },
      "source": [
        "# consider a crosstab. Are men and women equally distributed by salary?\n"
      ],
      "execution_count": 0,
      "outputs": []
    },
    {
      "cell_type": "code",
      "metadata": {
        "id": "pJ8fgs6-bBtm",
        "colab_type": "code",
        "colab": {}
      },
      "source": [
        "# can we test that?\n"
      ],
      "execution_count": 0,
      "outputs": []
    },
    {
      "cell_type": "code",
      "metadata": {
        "colab_type": "code",
        "id": "tlBel8j9M6tB",
        "colab": {}
      },
      "source": [
        " # One-way chi square test\n",
        "\n",
        "# Chi square can take any crosstab/table and test the independence of rows/cols\n",
        "# The null hypothesis is that the rows/cols are independent -> low chi square\n",
        "# The alternative is that there is a dependence -> high chi square\n",
        "# Be aware! Chi square does *not* tell you direction/causation\n"
      ],
      "execution_count": 0,
      "outputs": []
    },
    {
      "cell_type": "code",
      "metadata": {
        "id": "y_MvBbL9bBtr",
        "colab_type": "code",
        "colab": {}
      },
      "source": [
        ""
      ],
      "execution_count": 0,
      "outputs": []
    },
    {
      "cell_type": "code",
      "metadata": {
        "id": "ULTC72VqbBtu",
        "colab_type": "code",
        "colab": {}
      },
      "source": [
        "# Is a distribution normal? This is a poisson distribution\n"
      ],
      "execution_count": 0,
      "outputs": []
    },
    {
      "cell_type": "code",
      "metadata": {
        "id": "xtfA5EVvbBtw",
        "colab_type": "code",
        "colab": {}
      },
      "source": [
        "# Is it normal?\n"
      ],
      "execution_count": 0,
      "outputs": []
    },
    {
      "cell_type": "code",
      "metadata": {
        "id": "jvW-DM3KbBtz",
        "colab_type": "code",
        "colab": {}
      },
      "source": [
        "# mean, std dev, number of obs\n",
        "\n",
        "\n",
        "\n",
        "# Pretty clearly  normal"
      ],
      "execution_count": 0,
      "outputs": []
    },
    {
      "cell_type": "code",
      "metadata": {
        "id": "87HHeBF9bBt2",
        "colab_type": "code",
        "colab": {}
      },
      "source": [
        "# display that!\n"
      ],
      "execution_count": 0,
      "outputs": []
    },
    {
      "cell_type": "code",
      "metadata": {
        "id": "zfqzaRNObBt5",
        "colab_type": "code",
        "colab": {}
      },
      "source": [
        "# Poisson models arrival times and is related to the binomial (coinflip)\n",
        "\n",
        "\n",
        "# Pretty clearly not normal"
      ],
      "execution_count": 0,
      "outputs": []
    },
    {
      "cell_type": "code",
      "metadata": {
        "id": "_FIu2v_DbBt9",
        "colab_type": "code",
        "colab": {}
      },
      "source": [
        "# display that!\n"
      ],
      "execution_count": 0,
      "outputs": []
    },
    {
      "cell_type": "markdown",
      "metadata": {
        "colab_type": "text",
        "id": "7pT3IP36Rh0b"
      },
      "source": [
        "And there's many more! `scipy.stats` is fairly comprehensive, though there are even more available if you delve into the extended world of statistics packages. As tests get increasingly obscure and specialized, the importance of knowing them by heart becomes small - but being able to look them up and figure them out when they *are* relevant is still important."
      ]
    },
    {
      "cell_type": "markdown",
      "metadata": {
        "colab_type": "text",
        "id": "bvvPV-RJN2vA"
      },
      "source": [
        "## Central Limit Theorem\n",
        "\n"
      ]
    },
    {
      "cell_type": "code",
      "metadata": {
        "id": "z5aN4nk6bBuB",
        "colab_type": "code",
        "colab": {}
      },
      "source": [
        "# Flip a coin.\n"
      ],
      "execution_count": 0,
      "outputs": []
    },
    {
      "cell_type": "code",
      "metadata": {
        "id": "p04nMJrybBuD",
        "colab_type": "code",
        "colab": {}
      },
      "source": [
        "# Let me flip a coin twelve times.\n"
      ],
      "execution_count": 0,
      "outputs": []
    },
    {
      "cell_type": "code",
      "metadata": {
        "id": "85TUsf5rbBuG",
        "colab_type": "code",
        "colab": {}
      },
      "source": [
        "# show that.\n"
      ],
      "execution_count": 0,
      "outputs": []
    },
    {
      "cell_type": "code",
      "metadata": {
        "id": "lx9RqodJbBuI",
        "colab_type": "code",
        "colab": {}
      },
      "source": [
        "# what is the mean of this sample of coinflips?\n"
      ],
      "execution_count": 0,
      "outputs": []
    },
    {
      "cell_type": "code",
      "metadata": {
        "id": "4VNk30bBbBuL",
        "colab_type": "code",
        "colab": {}
      },
      "source": [
        "# what if I do it again?\n"
      ],
      "execution_count": 0,
      "outputs": []
    },
    {
      "cell_type": "code",
      "metadata": {
        "id": "Tgu8DPfFbBuN",
        "colab_type": "code",
        "colab": {}
      },
      "source": [
        "# and the mean?\n"
      ],
      "execution_count": 0,
      "outputs": []
    },
    {
      "cell_type": "code",
      "metadata": {
        "id": "4oordHc4bBuQ",
        "colab_type": "code",
        "colab": {}
      },
      "source": [
        "# why are these means different? shouldn't it be the same at .5 for a fair coin?\n"
      ],
      "execution_count": 0,
      "outputs": []
    },
    {
      "cell_type": "markdown",
      "metadata": {
        "id": "DjOnNYB0bBuT",
        "colab_type": "text"
      },
      "source": [
        "**each of these 'samples' is an estimate of the distribution.** . \n",
        "https://www.youtube.com/watch?v=Kq7e6cj2nDw"
      ]
    },
    {
      "cell_type": "code",
      "metadata": {
        "colab_type": "code",
        "id": "FBLoOF8qOJeJ",
        "colab": {}
      },
      "source": [
        "# take 3000 samples of size 12, and make a list of their means.\n",
        "\n"
      ],
      "execution_count": 0,
      "outputs": []
    },
    {
      "cell_type": "code",
      "metadata": {
        "id": "G6bOlsMVbBuZ",
        "colab_type": "code",
        "colab": {}
      },
      "source": [
        "# look at the first 10 means.\n"
      ],
      "execution_count": 0,
      "outputs": []
    },
    {
      "cell_type": "code",
      "metadata": {
        "colab_type": "code",
        "id": "rfeA06evOT2K",
        "colab": {}
      },
      "source": [
        "# make a df of one sample\n"
      ],
      "execution_count": 0,
      "outputs": []
    },
    {
      "cell_type": "code",
      "metadata": {
        "colab_type": "code",
        "id": "GlMSNFX6OmBV",
        "colab": {}
      },
      "source": [
        "# this df is clearly a binomial distribution (one and zero are the only options)\n"
      ],
      "execution_count": 0,
      "outputs": []
    },
    {
      "cell_type": "code",
      "metadata": {
        "colab_type": "code",
        "id": "Jie4ypgLOs5M",
        "colab": {}
      },
      "source": [
        "# now plot all 3000 sample means\n"
      ],
      "execution_count": 0,
      "outputs": []
    },
    {
      "cell_type": "code",
      "metadata": {
        "id": "ByTpi7HIbBui",
        "colab_type": "code",
        "colab": {}
      },
      "source": [
        "# is this a normal distribution?\n"
      ],
      "execution_count": 0,
      "outputs": []
    },
    {
      "cell_type": "markdown",
      "metadata": {
        "colab_type": "text",
        "id": "LsEAjc4rOylm"
      },
      "source": [
        "What does the Central Limit Theorem State? That no matter the initial distribution of the population, the distribution of sample means taken will approximate a normal distribution as $n \\rightarrow \\infty$.\n",
        "\n",
        "This has very important implications for hypothesis testing and is precisely the reason why the t-distribution begins to approximate the normal distribution as our sample size increases. "
      ]
    },
    {
      "cell_type": "code",
      "metadata": {
        "id": "si9hONxXbBul",
        "colab_type": "code",
        "colab": {}
      },
      "source": [
        "# let's pretend each sample included 100 coin flips, not just 12.\n",
        "\n",
        "# the higher my sample size, the closer I get to .5!\n"
      ],
      "execution_count": 0,
      "outputs": []
    },
    {
      "cell_type": "code",
      "metadata": {
        "id": "v9NDWcQ_bBuo",
        "colab_type": "code",
        "colab": {}
      },
      "source": [
        "# when I plot, it gets a little taller and a little narrower!\n"
      ],
      "execution_count": 0,
      "outputs": []
    },
    {
      "cell_type": "markdown",
      "metadata": {
        "id": "LG41BoalbBuq",
        "colab_type": "text"
      },
      "source": [
        "This outcome is what we call the Central Limit Theorem. No matter the distribution of my underlying data, the distribution of the estimates will be distributed normally."
      ]
    },
    {
      "cell_type": "code",
      "metadata": {
        "colab_type": "code",
        "id": "F15l-J788ApQ",
        "colab": {}
      },
      "source": [
        "# Compare sets of small and large samples\n"
      ],
      "execution_count": 0,
      "outputs": []
    },
    {
      "cell_type": "code",
      "metadata": {
        "colab_type": "code",
        "id": "JdES8jXz8kAG",
        "colab": {}
      },
      "source": [
        "# Plot that for comparison: it gets taller, narrower, and more normal.\n"
      ],
      "execution_count": 0,
      "outputs": []
    },
    {
      "cell_type": "markdown",
      "metadata": {
        "colab_type": "text",
        "id": "EYqo5vZZSFUr"
      },
      "source": [
        "## Confidence Interval"
      ]
    },
    {
      "cell_type": "markdown",
      "metadata": {
        "id": "8mG7GhKWbBux",
        "colab_type": "text"
      },
      "source": [
        "![source](https://www.mathsisfun.com/data/images/ci95.gif)"
      ]
    },
    {
      "cell_type": "markdown",
      "metadata": {
        "id": "-PSLs87obBuy",
        "colab_type": "text"
      },
      "source": [
        "With 95% confidence, the population mean is within these bounds. This is the [margin of error](https://www.monmouth.edu/polling-institute/reports/monmouthpoll_ia_111219/) we often seen in political polls."
      ]
    },
    {
      "cell_type": "markdown",
      "metadata": {
        "id": "YZ0iQOKUbBuz",
        "colab_type": "text"
      },
      "source": [
        "Between the upper and lower bounds we can find 95% of the sample means."
      ]
    },
    {
      "cell_type": "markdown",
      "metadata": {
        "colab_type": "text",
        "id": "nfdQf8QYUUmw"
      },
      "source": [
        "<img src=\"https://github.com/ryanallredblog/ryanallredblog.github.io/blob/master/img/Confidence_Interval.png?raw=true\" width=400>"
      ]
    },
    {
      "cell_type": "markdown",
      "metadata": {
        "id": "qLVK71fxbBu1",
        "colab_type": "text"
      },
      "source": [
        "s = standard deviation of the sample  \n",
        "n = sample size  \n",
        "t = test statistic  \n",
        "X = sample mean\n",
        "  \n",
        "As sample size goes up, the standard error (i.e., the spread of our error) gets tighter."
      ]
    },
    {
      "cell_type": "code",
      "metadata": {
        "id": "c11lDTcAbBu1",
        "colab_type": "code",
        "colab": {}
      },
      "source": [
        "# bring in the stats module (for the t-statistic)\n"
      ],
      "execution_count": 0,
      "outputs": []
    },
    {
      "cell_type": "code",
      "metadata": {
        "colab_type": "code",
        "id": "tBx71Kf0UjT3",
        "colab": {}
      },
      "source": [
        "\n",
        "    \"\"\"\n",
        "    Calculate a confidence interval around a sample mean for given data.\n",
        "    Using t-distribution and two-tailed test, default 95% confidence. \n",
        "\n",
        "    Arguments:\n",
        "    data - iterable (list or numpy array) of sample observations\n",
        "    confidence - level of confidence for the interval\n",
        "\n",
        "    Returns:\n",
        "    tuple of (mean, lower bound, upper bound)\n",
        "    \"\"\"\n",
        "    "
      ],
      "execution_count": 0,
      "outputs": []
    },
    {
      "cell_type": "code",
      "metadata": {
        "id": "p3xO9k2xbBu6",
        "colab_type": "code",
        "colab": {}
      },
      "source": [
        "# what's the conf interval for a sample of 500 coin flips?\n",
        "\n",
        "\n",
        "# mean, upper bound, lower bound."
      ],
      "execution_count": 0,
      "outputs": []
    },
    {
      "cell_type": "code",
      "metadata": {
        "id": "ipiRAh3SbBu_",
        "colab_type": "code",
        "colab": {}
      },
      "source": [
        "# try this again. It should capture the mean 95% of the time.\n"
      ],
      "execution_count": 0,
      "outputs": []
    },
    {
      "cell_type": "markdown",
      "metadata": {
        "id": "LjCWvUUtbBvB",
        "colab_type": "text"
      },
      "source": [
        "We want the t-statistic that corresponds to the probability cut off for a given t distribution  (a distribution with a certain 'degrees of freedom').  \n",
        "`stats.t.ppf` is just looking up the corresponding t-statistic."
      ]
    },
    {
      "cell_type": "markdown",
      "metadata": {
        "id": "AWpwTn9XbBvC",
        "colab_type": "text"
      },
      "source": [
        "**Degrees of freedom**  \n",
        "degrees of freedom equals the number of \"observations\" minus the number of required relations among the observations (e.g., the number of parameter estimates). For a 1-sample t-test, one degree of freedom is spent estimating the mean, and the remaining n - 1 degrees of freedom estimate variability.\n",
        "https://blog.minitab.com/blog/statistics-and-quality-data-analysis/what-are-degrees-of-freedom-in-statistics"
      ]
    },
    {
      "cell_type": "markdown",
      "metadata": {
        "id": "pF5qtskbbBvD",
        "colab_type": "text"
      },
      "source": [
        "**Looking at stats.t.ppf**"
      ]
    },
    {
      "cell_type": "code",
      "metadata": {
        "id": "ghfStmFYbBvE",
        "colab_type": "code",
        "colab": {}
      },
      "source": [
        "# stats.t.ppf(# probability cutoff, # degrees of freedom)\n",
        "\n",
        "# 95% confidence level -> .025\n",
        "\n",
        "# 1 - confidence_level == .05 / 2 -> .025\n",
        "\n"
      ],
      "execution_count": 0,
      "outputs": []
    },
    {
      "cell_type": "markdown",
      "metadata": {
        "colab_type": "text",
        "id": "C4rtc8luVUAK"
      },
      "source": [
        "## Graphically Represent a Confidence Interval"
      ]
    },
    {
      "cell_type": "code",
      "metadata": {
        "id": "3ss6zdcibBvI",
        "colab_type": "code",
        "colab": {}
      },
      "source": [
        "import matplotlib.pyplot as plt\n",
        "import seaborn as sns"
      ],
      "execution_count": 0,
      "outputs": []
    },
    {
      "cell_type": "code",
      "metadata": {
        "colab_type": "code",
        "id": "pz6F9_3_VmKr",
        "colab": {}
      },
      "source": [
        "# fake data - one samle of 42 coin flips\n",
        "\n",
        "# kernel density estimate\n"
      ],
      "execution_count": 0,
      "outputs": []
    },
    {
      "cell_type": "code",
      "metadata": {
        "id": "nDjm6XrlbBvM",
        "colab_type": "code",
        "colab": {}
      },
      "source": [
        "# fake data - 50 samples of 12 coin flips\n"
      ],
      "execution_count": 0,
      "outputs": []
    },
    {
      "cell_type": "markdown",
      "metadata": {
        "colab_type": "text",
        "id": "_oy0uoBGeoEb"
      },
      "source": [
        "## Relationship between Confidence Intervals and T-tests\n",
        "\n",
        "Confidence Interval == Bounds of statistical significance for our t-test\n",
        "\n",
        "A sample mean that falls inside of our confidence interval will \"FAIL TO REJECT\" our null hypothesis\n",
        "\n",
        "A sample mean that falls outside of our confidence interval will \"REJECT\" our null hypothesis"
      ]
    },
    {
      "cell_type": "code",
      "metadata": {
        "colab_type": "code",
        "id": "izIyVavzfCXS",
        "colab": {}
      },
      "source": [
        ""
      ],
      "execution_count": 0,
      "outputs": []
    },
    {
      "cell_type": "markdown",
      "metadata": {
        "id": "l_L8rQQjbBvT",
        "colab_type": "text"
      },
      "source": [
        "**Note that scipy has a built-in function to calculate the confidence interval**   \n",
        "t.interval"
      ]
    },
    {
      "cell_type": "code",
      "metadata": {
        "colab_type": "code",
        "id": "Y7HwdMwDfL1N",
        "colab": {}
      },
      "source": [
        ""
      ],
      "execution_count": 0,
      "outputs": []
    },
    {
      "cell_type": "markdown",
      "metadata": {
        "id": "ICjb8xvgbBvV",
        "colab_type": "text"
      },
      "source": [
        "**Rebuild the earlier function**\n",
        "but using `t.interval` instead."
      ]
    },
    {
      "cell_type": "code",
      "metadata": {
        "colab_type": "code",
        "id": "nQDo-ZXlfOvR",
        "colab": {}
      },
      "source": [
        "# Sample Size\n",
        "\n",
        "# Degrees of Freedom\n",
        "\n",
        "# The Mean of Means:\n",
        "\n",
        "# Sample Standard Deviation\n",
        "\n",
        "# Standard Error\n"
      ],
      "execution_count": 0,
      "outputs": []
    },
    {
      "cell_type": "code",
      "metadata": {
        "colab_type": "code",
        "id": "PiaALHSNfWou",
        "colab": {}
      },
      "source": [
        "'''You can roll your own CI calculation pretty easily. \n",
        "The only thing that's a little bit challenging \n",
        "is understanding the t stat lookup'''\n",
        "\n",
        "# 95% confidence interval"
      ],
      "execution_count": 0,
      "outputs": []
    },
    {
      "cell_type": "markdown",
      "metadata": {
        "colab_type": "text",
        "id": "EamZNJhAf-fY"
      },
      "source": [
        "A null hypothesis that's just inside of our confidence interval == fail to reject\n",
        "\n"
      ]
    },
    {
      "cell_type": "code",
      "metadata": {
        "colab_type": "code",
        "id": "cNpzYbjpfirR",
        "colab": {}
      },
      "source": [
        "# pick a value for my null hypothesis and check the p-value\n"
      ],
      "execution_count": 0,
      "outputs": []
    },
    {
      "cell_type": "code",
      "metadata": {
        "colab_type": "code",
        "id": "N4SUjj82gKlv",
        "colab": {}
      },
      "source": [
        "# what if I pick a null hypothesis that's just outside of our confidence interval? \n"
      ],
      "execution_count": 0,
      "outputs": []
    },
    {
      "cell_type": "code",
      "metadata": {
        "id": "TLn_FjJJbBve",
        "colab_type": "code",
        "colab": {}
      },
      "source": [
        "# I would only see this 5% of the time, so it's unlikely and I reject the null hypothesis.\n",
        "# A comparison of what we EXPECT and what we OBSERVE."
      ],
      "execution_count": 0,
      "outputs": []
    },
    {
      "cell_type": "markdown",
      "metadata": {
        "colab_type": "text",
        "id": "pTIzrkKdUaLl"
      },
      "source": [
        "## Chi Squared Test $\\chi^{2}$"
      ]
    },
    {
      "cell_type": "markdown",
      "metadata": {
        "id": "li5BRpYPbBvg",
        "colab_type": "text"
      },
      "source": [
        "A test for dependence of categorical variables. (ie, are they correlated?)"
      ]
    },
    {
      "cell_type": "code",
      "metadata": {
        "colab_type": "code",
        "id": "DDsovHUyUj3v",
        "colab": {}
      },
      "source": [
        "# read back in the earlier data.\n"
      ],
      "execution_count": 0,
      "outputs": []
    },
    {
      "cell_type": "code",
      "metadata": {
        "id": "W21C12WbbBvk",
        "colab_type": "code",
        "colab": {}
      },
      "source": [
        "# just the numeric columns\n"
      ],
      "execution_count": 0,
      "outputs": []
    },
    {
      "cell_type": "code",
      "metadata": {
        "id": "sCO4olc0bBvm",
        "colab_type": "code",
        "colab": {}
      },
      "source": [
        "# just the non-numeric columns (ie, categorical)\n"
      ],
      "execution_count": 0,
      "outputs": []
    },
    {
      "cell_type": "code",
      "metadata": {
        "id": "uwmrZRBAbBvo",
        "colab_type": "code",
        "colab": {}
      },
      "source": [
        "# create some binned categories \n"
      ],
      "execution_count": 0,
      "outputs": []
    },
    {
      "cell_type": "code",
      "metadata": {
        "id": "qsjdgX8-bBvr",
        "colab_type": "code",
        "colab": {}
      },
      "source": [
        "# sex\n"
      ],
      "execution_count": 0,
      "outputs": []
    },
    {
      "cell_type": "code",
      "metadata": {
        "id": "VPkeRijJbBvt",
        "colab_type": "code",
        "colab": {}
      },
      "source": [
        "# binned category\n"
      ],
      "execution_count": 0,
      "outputs": []
    },
    {
      "cell_type": "code",
      "metadata": {
        "id": "fD7S52l5bBvv",
        "colab_type": "code",
        "colab": {}
      },
      "source": [
        ""
      ],
      "execution_count": 0,
      "outputs": []
    },
    {
      "cell_type": "code",
      "metadata": {
        "id": "-XluN9b5bBvy",
        "colab_type": "code",
        "colab": {}
      },
      "source": [
        ""
      ],
      "execution_count": 0,
      "outputs": []
    },
    {
      "cell_type": "code",
      "metadata": {
        "id": "YkolhshqbBv0",
        "colab_type": "code",
        "colab": {}
      },
      "source": [
        "# create a set of female counts\n"
      ],
      "execution_count": 0,
      "outputs": []
    },
    {
      "cell_type": "code",
      "metadata": {
        "id": "pWZXVjc7bBv1",
        "colab_type": "code",
        "colab": {}
      },
      "source": [
        "# create a set of male counts\n"
      ],
      "execution_count": 0,
      "outputs": []
    },
    {
      "cell_type": "code",
      "metadata": {
        "id": "JoBiSOgCbBv3",
        "colab_type": "code",
        "colab": {}
      },
      "source": [
        "#Plots the bar chart\n"
      ],
      "execution_count": 0,
      "outputs": []
    },
    {
      "cell_type": "markdown",
      "metadata": {
        "id": "wUXQqxmDbBv5",
        "colab_type": "text"
      },
      "source": [
        "## Expected Value Calculation\n",
        "\\begin{align}\n",
        "expected_{i,j} =\\frac{(row_{i} \\text{total})(column_{j} \\text{total}) }{(\\text{total observations})}  \n",
        "\\end{align}"
      ]
    },
    {
      "cell_type": "code",
      "metadata": {
        "id": "re7l_ss0bBv5",
        "colab_type": "code",
        "colab": {}
      },
      "source": [
        ""
      ],
      "execution_count": 0,
      "outputs": []
    },
    {
      "cell_type": "markdown",
      "metadata": {
        "id": "3QYy9bSabBv7",
        "colab_type": "text"
      },
      "source": [
        "## Chi-Squared Statistic with Numpy\n",
        "\n",
        "\\begin{align}\n",
        "\\chi^2 = \\sum \\frac{(observed_{i}-expected_{i})^2}{(expected_{i})}\n",
        "\\end{align}\n",
        "\n",
        "For the $observed$ values we will just use a version of our contingency table without the margins as a numpy array. In this way, if our observed values array and our expected values array are the same shape, then we can subtract them and divide them directly which makes the calculations a lot cleaner. No for loops!"
      ]
    },
    {
      "cell_type": "code",
      "metadata": {
        "id": "Ei4-NBWObBv8",
        "colab_type": "code",
        "colab": {}
      },
      "source": [
        "# Array broadcasting will work with numpy arrays but not python lists\n"
      ],
      "execution_count": 0,
      "outputs": []
    },
    {
      "cell_type": "code",
      "metadata": {
        "id": "j81Cq6NqbBv9",
        "colab_type": "code",
        "colab": {}
      },
      "source": [
        "# Degrees of Freedom of a Chi-squared test\n",
        "\n",
        "#degrees_of_freedom = (num_rows - 1)(num_columns - 1)\n",
        "\n",
        "\n",
        "# Calculate Degrees of Freedom\n"
      ],
      "execution_count": 0,
      "outputs": []
    },
    {
      "cell_type": "markdown",
      "metadata": {
        "colab_type": "text",
        "id": "7Igz-XHcVbW3"
      },
      "source": [
        "## Run a $\\chi^{2}$ Test using Scipy"
      ]
    },
    {
      "cell_type": "markdown",
      "metadata": {
        "id": "rFGRKiukbBv_",
        "colab_type": "text"
      },
      "source": [
        "Null Hypothesis: Hours worked per week bins is **independent** of sex. \n",
        "\n",
        "Due to a p-value of 0, we REJECT the null hypothesis that hours worked per week and sex are independent, and conclude that there is an association between hours worked per week and sex."
      ]
    },
    {
      "cell_type": "markdown",
      "metadata": {
        "id": "hPxx9PAXbBwA",
        "colab_type": "text"
      },
      "source": [
        "### Another example"
      ]
    },
    {
      "cell_type": "code",
      "metadata": {
        "id": "HVVjr4JYbBwA",
        "colab_type": "code",
        "colab": {}
      },
      "source": [
        "# sex and salary"
      ],
      "execution_count": 0,
      "outputs": []
    },
    {
      "cell_type": "code",
      "metadata": {
        "id": "H5i39yGVbBwC",
        "colab_type": "code",
        "colab": {}
      },
      "source": [
        "# chi square test"
      ],
      "execution_count": 0,
      "outputs": []
    },
    {
      "cell_type": "code",
      "metadata": {
        "id": "YjOsHgYRbBwD",
        "colab_type": "code",
        "colab": {}
      },
      "source": [
        "# age and salary"
      ],
      "execution_count": 0,
      "outputs": []
    },
    {
      "cell_type": "code",
      "metadata": {
        "id": "4y_OIdkybBwF",
        "colab_type": "code",
        "colab": {}
      },
      "source": [
        "# crosstab"
      ],
      "execution_count": 0,
      "outputs": []
    },
    {
      "cell_type": "code",
      "metadata": {
        "id": "McdJGUSwbBwI",
        "colab_type": "code",
        "colab": {}
      },
      "source": [
        "# chi square test"
      ],
      "execution_count": 0,
      "outputs": []
    },
    {
      "cell_type": "code",
      "metadata": {
        "id": "hYnN8iqObBwM",
        "colab_type": "code",
        "colab": {}
      },
      "source": [
        ""
      ],
      "execution_count": 0,
      "outputs": []
    }
  ]
}