{
  "nbformat": 4,
  "nbformat_minor": 0,
  "metadata": {
    "colab": {
      "name": "LS_DS12_122A_Sampling_Confidence_Intervals_and_Hypothesis_Testing_Assignment.ipynb",
      "provenance": [],
      "collapsed_sections": [],
      "include_colab_link": true
    },
    "kernelspec": {
      "name": "python3",
      "display_name": "Python 3"
    }
  },
  "cells": [
    {
      "cell_type": "markdown",
      "metadata": {
        "id": "view-in-github",
        "colab_type": "text"
      },
      "source": [
        "<a href=\"https://colab.research.google.com/github/jacobpad/DS-Unit-1-Sprint-2-Statistics/blob/master/module2/LS_DS12_122A_Sampling_Confidence_Intervals_and_Hypothesis_Testing_Assignment.ipynb\" target=\"_parent\"><img src=\"https://colab.research.google.com/assets/colab-badge.svg\" alt=\"Open In Colab\"/></a>"
      ]
    },
    {
      "cell_type": "markdown",
      "metadata": {
        "id": "11OzdxWTM7UR",
        "colab_type": "text"
      },
      "source": [
        "## Assignment - Build a confidence interval\n",
        "\n",
        "A confidence interval refers to a neighborhood around some point estimate, the size of which is determined by the desired p-value. For instance, we might say that 52% of Americans prefer tacos to burritos, with a 95% confidence interval of +/- 5%.\n",
        "\n",
        "52% (0.52) is the point estimate, and +/- 5% (the interval $[0.47, 0.57]$) is the confidence interval. \"95% confidence\" means a p-value $\\leq 1 - 0.95 = 0.05$.\n",
        "\n",
        "In this case, the confidence interval includes $0.5$ - which is the natural null hypothesis (that half of Americans prefer tacos and half burritos, thus there is no clear favorite). So in this case, we could use the confidence interval to report that we've failed to reject the null hypothesis.\n",
        "\n",
        "But providing the full analysis with a confidence interval, including a graphical representation of it, can be a helpful and powerful way to tell your story. Done well, it is also more intuitive to a layperson than simply saying \"fail to reject the null hypothesis\" - it shows that in fact the data does *not* give a single clear result (the point estimate) but a whole range of possibilities.\n",
        "\n",
        "How is a confidence interval built, and how should it be interpreted? It does *not* mean that 95% of the data lies in that interval - instead, the frequentist interpretation is \"if we were to repeat this experiment 100 times, we would expect the average result to lie in this interval ~95 times.\"\n",
        "\n",
        "For a 95% confidence interval and a normal(-ish) distribution, you can simply ***remember that +/-2 standard deviations contains 95%*** of the probability mass, and so the 95% confidence interval based on a given sample is centered at the mean (point estimate) and has a range of +/- 2 (or technically 1.96) standard deviations.\n",
        "\n",
        "Different distributions/assumptions (90% confidence, 99% confidence) will require different math, but the overall process and interpretation (with a frequentist approach) will be the same.\n",
        "\n",
        "Your assignment - using the data from the prior module ([congressional voting records](https://archive.ics.uci.edu/ml/datasets/Congressional+Voting+Records)):\n",
        "\n",
        "\n",
        "### Confidence Intervals:\n",
        "1. Generate and numerically represent a confidence interval\n",
        "2. Graphically (with a plot) represent the confidence interval\n",
        "3. Interpret the confidence interval - what does it tell you about the data and its distribution?\n",
        "\n",
        "### Chi-squared tests:\n",
        "4. Take a dataset that we have used in the past in class that has **categorical** variables. Pick two of those categorical variables and run a chi-squared tests on that data\n",
        "  - By hand using Numpy\n",
        "  - In a single line using Scipy\n"
      ]
    },
    {
      "cell_type": "code",
      "metadata": {
        "id": "Ckcr4A4FM7cs",
        "colab_type": "code",
        "outputId": "4e38139b-175c-46e3-e31f-07b26d91b869",
        "colab": {
          "base_uri": "https://localhost:8080/",
          "height": 530
        }
      },
      "source": [
        "# TODO - your code!\n",
        "\n",
        "# imports\n",
        "import pandas as pd\n",
        "import matplotlib.pyplot as plt\n",
        "import numpy as np\n",
        "import seaborn as sns\n",
        "import scipy.stats as stats\n",
        "# lets start by importing with !wget\n",
        "!wget 'https://archive.ics.uci.edu/ml/machine-learning-databases/voting-records/house-votes-84.data'\n",
        "\n",
        "column_headers = ['party', 'handicapped-infants', 'water-project', \n",
        "'budget', 'physician-fee-freeze', 'el-salvador-aid', 'religious-groups', \n",
        "'anti-satellite-ban', 'aid-to-contras', 'mx-missile', 'immigration', \n",
        "'synfuels', 'education', 'right-to-sue', 'crime', 'duty-free', \n",
        "'south-africa']\n",
        "\n",
        "# turn it into a df and fix it up really quick\n",
        "df = pd.read_csv('house-votes-84.data', header=None, names=column_headers, na_values='?')\n",
        "\n",
        "# make em numeric (y:1, n:0)\n",
        "df = df.replace({'y':1, 'n':0})\n",
        "\n",
        "# split em into parties\n",
        "rep = df[df['party'] == 'republican']\n",
        "dem = df[df['party'] == 'democrat']\n",
        "\n",
        "# now lets look\n",
        "print(rep.head(2))\n",
        "print(dem.head(2))\n",
        "print(df.head(4))"
      ],
      "execution_count": 0,
      "outputs": [
        {
          "output_type": "stream",
          "text": [
            "--2020-01-22 06:25:24--  https://archive.ics.uci.edu/ml/machine-learning-databases/voting-records/house-votes-84.data\n",
            "Resolving archive.ics.uci.edu (archive.ics.uci.edu)... 128.195.10.252\n",
            "Connecting to archive.ics.uci.edu (archive.ics.uci.edu)|128.195.10.252|:443... connected.\n",
            "HTTP request sent, awaiting response... 200 OK\n",
            "Length: 18171 (18K) [application/x-httpd-php]\n",
            "Saving to: ‘house-votes-84.data.14’\n",
            "\n",
            "house-votes-84.data 100%[===================>]  17.75K  --.-KB/s    in 0.1s    \n",
            "\n",
            "2020-01-22 06:25:24 (137 KB/s) - ‘house-votes-84.data.14’ saved [18171/18171]\n",
            "\n",
            "        party  handicapped-infants  ...  duty-free  south-africa\n",
            "0  republican                  0.0  ...        0.0           1.0\n",
            "1  republican                  0.0  ...        0.0           NaN\n",
            "\n",
            "[2 rows x 17 columns]\n",
            "      party  handicapped-infants  water-project  ...  crime  duty-free  south-africa\n",
            "2  democrat                  NaN            1.0  ...    1.0        0.0           0.0\n",
            "3  democrat                  0.0            1.0  ...    0.0        0.0           1.0\n",
            "\n",
            "[2 rows x 17 columns]\n",
            "        party  handicapped-infants  ...  duty-free  south-africa\n",
            "0  republican                  0.0  ...        0.0           1.0\n",
            "1  republican                  0.0  ...        0.0           NaN\n",
            "2    democrat                  NaN  ...        0.0           0.0\n",
            "3    democrat                  0.0  ...        0.0           1.0\n",
            "\n",
            "[4 rows x 17 columns]\n"
          ],
          "name": "stdout"
        }
      ]
    },
    {
      "cell_type": "markdown",
      "metadata": {
        "id": "S_nB5wfM6hxo",
        "colab_type": "text"
      },
      "source": [
        "# Generate and numerically represent a confidence interval"
      ]
    },
    {
      "cell_type": "code",
      "metadata": {
        "id": "PMv-wlHSSDvt",
        "colab_type": "code",
        "colab": {}
      },
      "source": [
        "# def confidence_interval(data, confidence = .95):\n",
        "#   omit_nan = data[~np.isnan(data)]\n",
        "#   data = np.array(omit_nan)\n",
        "#   mean = np.mean(data)\n",
        "#   n = len(data)\n",
        "#   s = np.std(data, ddof=1)\n",
        "#   stderr = s / np.sqrt(n)\n",
        "#   margin_of_error = stderr * stats.t.ppf((1 + confidence) / 2, n-1)\n",
        "#   return(mean, mean - margin_of_error, mean + margin_of_error)"
      ],
      "execution_count": 0,
      "outputs": []
    },
    {
      "cell_type": "code",
      "metadata": {
        "id": "jyQEw-8h6Y4U",
        "colab_type": "code",
        "colab": {}
      },
      "source": [
        "def confidence_interval(data, confidence=0.95):\n",
        "  mean = np.mean(data)\n",
        "  n = len(data)\n",
        "  s = np.std(data, ddof=1)\n",
        "  stderr = s / np.sqrt(n)\n",
        "  margin_of_error = stderr * stats.t.ppf((1 + confidence) / 2.0, n - 1)\n",
        "  return (mean, mean - margin_of_error, mean + margin_of_error)\n"
      ],
      "execution_count": 0,
      "outputs": []
    },
    {
      "cell_type": "code",
      "metadata": {
        "id": "gdcTARln6pMG",
        "colab_type": "code",
        "outputId": "a1bbd9eb-aa42-459b-8eb0-8e9d0b0c79da",
        "colab": {
          "base_uri": "https://localhost:8080/",
          "height": 34
        }
      },
      "source": [
        "confidence_interval_budget = confidence_interval(dem['budget'])\n",
        "print(confidence_interval_budget)"
      ],
      "execution_count": 0,
      "outputs": [
        {
          "output_type": "stream",
          "text": [
            "(0.8884615384615384, 0.8504564817145479, 0.9264665952085289)\n"
          ],
          "name": "stdout"
        }
      ]
    },
    {
      "cell_type": "code",
      "metadata": {
        "id": "DR1agGrx66-i",
        "colab_type": "code",
        "outputId": "12a52821-c6b5-4e75-c5b2-f51bcaf230f4",
        "colab": {
          "base_uri": "https://localhost:8080/",
          "height": 34
        }
      },
      "source": [
        "confidence_interval_budget[2]-confidence_interval_budget[1]"
      ],
      "execution_count": 0,
      "outputs": [
        {
          "output_type": "execute_result",
          "data": {
            "text/plain": [
              "0.07601011349398101"
            ]
          },
          "metadata": {
            "tags": []
          },
          "execution_count": 5
        }
      ]
    },
    {
      "cell_type": "code",
      "metadata": {
        "id": "z_uJurZp7DV_",
        "colab_type": "code",
        "outputId": "f139fb33-99f2-4db5-eaf6-5a4156a243d5",
        "colab": {
          "base_uri": "https://localhost:8080/",
          "height": 298
        }
      },
      "source": [
        "#Graph is assuming a sample of a population\n",
        "import matplotlib.pyplot as plt\n",
        "fig, ax = plt.subplots()\n",
        "ax.bar(x=0, height=confidence_interval_budget[0], yerr=confidence_interval_budget[2]-confidence_interval_budget[1]);\n",
        "ax.set_title(\"Percent of democrats that voted yes on the budget bill\")"
      ],
      "execution_count": 0,
      "outputs": [
        {
          "output_type": "execute_result",
          "data": {
            "text/plain": [
              "Text(0.5, 1.0, 'Percent of democrats that voted yes on the budget bill')"
            ]
          },
          "metadata": {
            "tags": []
          },
          "execution_count": 6
        },
        {
          "output_type": "display_data",
          "data": {
            "image/png": "[encoded data removed]",
            "text/plain": [
              "<Figure size 432x288 with 1 Axes>"
            ]
          },
          "metadata": {
            "tags": []
          }
        }
      ]
    },
    {
      "cell_type": "code",
      "metadata": {
        "id": "8n_xMWOIgIpd",
        "colab_type": "code",
        "outputId": "ac66b7ee-3b4c-45ec-981b-08e311922916",
        "colab": {
          "base_uri": "https://localhost:8080/",
          "height": 52
        }
      },
      "source": [
        "print('Mean ............... Lower .............. Upper')\n",
        "water_project_ci = confidence_interval(df['water-project'])\n",
        "water_project_ci"
      ],
      "execution_count": 0,
      "outputs": [
        {
          "output_type": "stream",
          "text": [
            "Mean ............... Lower .............. Upper\n"
          ],
          "name": "stdout"
        },
        {
          "output_type": "execute_result",
          "data": {
            "text/plain": [
              "(0.5038759689922481, 0.45669845349141763, 0.5510534844930786)"
            ]
          },
          "metadata": {
            "tags": []
          },
          "execution_count": 8
        }
      ]
    },
    {
      "cell_type": "markdown",
      "metadata": {
        "id": "P9M-dxDo6oJ0",
        "colab_type": "text"
      },
      "source": [
        "# Graphically (with a plot) represent the confidence interval"
      ]
    },
    {
      "cell_type": "code",
      "metadata": {
        "id": "5XQuLIcEBSY4",
        "colab_type": "code",
        "outputId": "4c9a8cd7-10f7-4de5-cd01-84c690099040",
        "colab": {
          "base_uri": "https://localhost:8080/",
          "height": 265
        }
      },
      "source": [
        "sns.distplot(water_project_ci)\n",
        "ci = confidence_interval(df['water-project'])\n",
        "plt.axvline(x=ci[1], color='red')\n",
        "plt.axvline(x=ci[2], color='red')\n",
        "plt.axvline(x=ci[0], color='green');"
      ],
      "execution_count": 0,
      "outputs": [
        {
          "output_type": "display_data",
          "data": {
            "image/png": "[encoded data removed]",
            "text/plain": [
              "<Figure size 432x288 with 1 Axes>"
            ]
          },
          "metadata": {
            "tags": []
          }
        }
      ]
    },
    {
      "cell_type": "markdown",
      "metadata": {
        "id": "dQy5AsM46vMI",
        "colab_type": "text"
      },
      "source": [
        "# Interpret the confidence interval - what does it tell you about the data and its distribution?"
      ]
    },
    {
      "cell_type": "code",
      "metadata": {
        "id": "gkHsj0CVBTBB",
        "colab_type": "code",
        "colab": {}
      },
      "source": [
        ""
      ],
      "execution_count": 0,
      "outputs": []
    },
    {
      "cell_type": "markdown",
      "metadata": {
        "id": "5__yZqQW63AO",
        "colab_type": "text"
      },
      "source": [
        "# Chi-squared tests:\n",
        "Take a dataset that we have used in the past in class that has categorical variables. Pick two of those categorical variables and run a chi-squared tests on that data\n",
        "By hand using Numpy\n",
        "In a single line using Scipy"
      ]
    },
    {
      "cell_type": "code",
      "metadata": {
        "id": "1R3wQVVaBTYD",
        "colab_type": "code",
        "colab": {}
      },
      "source": [
        ""
      ],
      "execution_count": 0,
      "outputs": []
    },
    {
      "cell_type": "markdown",
      "metadata": {
        "id": "4ohsJhQUmEuS",
        "colab_type": "text"
      },
      "source": [
        "# Stretch goals:\n",
        "\n"
      ]
    },
    {
      "cell_type": "markdown",
      "metadata": {
        "id": "ov0N_oj57KUB",
        "colab_type": "text"
      },
      "source": [
        "1. Write a summary of your findings, mixing prose and math/code/results. *Note* - yes, this is by definition a political topic. It is challenging but important to keep your writing voice *neutral* and stick to the facts of the data. Data science often involves considering controversial issues, so it's important to be sensitive about them (especially if you want to publish).\n",
        "2. Apply the techniques you learned today to your project data or other data of your choice, and write/discuss your findings here.\n",
        "3. Refactor your code so it is elegant, readable, and can be easily run for all issues."
      ]
    },
    {
      "cell_type": "markdown",
      "metadata": {
        "id": "nyJ3ySr7R2k9",
        "colab_type": "text"
      },
      "source": [
        "## Resources\n",
        "\n",
        "- [Interactive visualize the Chi-Squared test](https://homepage.divms.uiowa.edu/~mbognar/applets/chisq.html)\n",
        "- [Calculation of Chi-Squared test statistic](https://en.wikipedia.org/wiki/Pearson%27s_chi-squared_test)\n",
        "- [Visualization of a confidence interval generated by R code](https://commons.wikimedia.org/wiki/File:Confidence-interval.svg)\n",
        "- [Expected value of a squared standard normal](https://math.stackexchange.com/questions/264061/expected-value-calculation-for-squared-normal-distribution) (it's 1 - which is why the expected value of a Chi-Squared with $n$ degrees of freedom is $n$, as it's the sum of $n$ squared standard normals)"
      ]
    }
  ]
}