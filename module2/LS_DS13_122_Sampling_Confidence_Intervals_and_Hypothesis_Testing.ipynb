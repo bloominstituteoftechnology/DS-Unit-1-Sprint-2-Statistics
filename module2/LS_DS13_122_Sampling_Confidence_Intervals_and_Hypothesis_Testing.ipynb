{
  "nbformat": 4,
  "nbformat_minor": 0,
  "metadata": {
    "colab": {
      "name": "updated_LS_DS13_122_Sampling_Confidence_Intervals_and_Hypothesis_Testing.ipynb",
      "provenance": [],
      "collapsed_sections": [],
      "include_colab_link": true
    },
    "kernelspec": {
      "name": "python3",
      "display_name": "Python 3"
    }
  },
  "cells": [
    {
      "cell_type": "markdown",
      "metadata": {
        "id": "view-in-github",
        "colab_type": "text"
      },
      "source": [
        "<a href=\"https://colab.research.google.com/github/alex-pakalniskis/DS-Unit-1-Sprint-2-Statistics/blob/master/module2/LS_DS13_122_Sampling_Confidence_Intervals_and_Hypothesis_Testing.ipynb\" target=\"_parent\"><img src=\"https://colab.research.google.com/assets/colab-badge.svg\" alt=\"Open In Colab\"/></a>"
      ]
    },
    {
      "cell_type": "markdown",
      "metadata": {
        "id": "838Dmw1kM2LK",
        "colab_type": "text"
      },
      "source": [
        "# Lambda School Data Science Module 122\n",
        "## Sampling, Confidence Intervals, and Hypothesis Testing"
      ]
    },
    {
      "cell_type": "markdown",
      "metadata": {
        "id": "dbcPKIo5M6Ny",
        "colab_type": "text"
      },
      "source": [
        "## Prepare - examine other available hypothesis tests\n",
        "\n",
        "If you had to pick a single hypothesis test in your toolbox, t-test would probably be the best choice - but the good news is you don't have to pick just one! Here's some of the others to be aware of:"
      ]
    },
    {
      "cell_type": "code",
      "metadata": {
        "id": "tlBel8j9M6tB",
        "colab_type": "code",
        "outputId": "811623c9-885a-42e3-c3f7-159ced2ce330",
        "colab": {
          "base_uri": "https://localhost:8080/",
          "height": 215
        }
      },
      "source": [
        "import numpy as np\n",
        "from scipy import stats  # One-way chi square test\n",
        "\n",
        "# Chi square can take any crosstab/table and test the independence of rows/cols\n",
        "# The null hypothesis is that the rows/cols are independent -> low chi square\n",
        "# The alternative is that there is a dependence -> high chi square\n",
        "# Be aware! Chi square does *not* tell you direction/causation\n",
        "\n",
        "ind_obs = np.array([[1, 1], [2, 2]]).T\n",
        "print(ind_obs)\n",
        "print(chisquare(ind_obs, axis=None))\n",
        "\n",
        "dep_obs = np.array([[16, 18, 16, 14, 12, 12], [32, 24, 16, 28, 20, 24]]).T\n",
        "print(dep_obs)\n",
        "print(stats.chisquare(dep_obs, axis=None))"
      ],
      "execution_count": 0,
      "outputs": [
        {
          "output_type": "stream",
          "text": [
            "[[1 2]\n",
            " [1 2]]\n",
            "Power_divergenceResult(statistic=0.6666666666666666, pvalue=0.8810148425137847)\n",
            "[[16 32]\n",
            " [18 24]\n",
            " [16 16]\n",
            " [14 28]\n",
            " [12 20]\n",
            " [12 24]]\n",
            "Power_divergenceResult(statistic=23.31034482758621, pvalue=0.015975692534127565)\n"
          ],
          "name": "stdout"
        }
      ]
    },
    {
      "cell_type": "code",
      "metadata": {
        "id": "nN0BdNiDPxbk",
        "colab_type": "code",
        "outputId": "36426de9-d1b9-4790-ae20-9d5eb578a77a",
        "colab": {
          "base_uri": "https://localhost:8080/",
          "height": 35
        }
      },
      "source": [
        "# Distribution tests:\n",
        "# We often assume that something is normal, but it can be important to *check*\n",
        "\n",
        "# For example, later on with predictive modeling, a typical assumption is that\n",
        "# residuals (prediction errors) are normal - checking is a good diagnostic\n",
        "\n",
        "# Poisson models arrival times and is related to the binomial (coinflip)\n",
        "sample = np.random.poisson(5, 1000)\n",
        "print(stats.normaltest(sample))  # Pretty clearly not normal"
      ],
      "execution_count": 0,
      "outputs": [
        {
          "output_type": "stream",
          "text": [
            "NormaltestResult(statistic=38.69323106073592, pvalue=3.961609200867749e-09)\n"
          ],
          "name": "stdout"
        }
      ]
    },
    {
      "cell_type": "code",
      "metadata": {
        "id": "P5t0WhkDReFO",
        "colab_type": "code",
        "outputId": "7d6438bf-8042-4297-a8f7-cef083d22444",
        "colab": {
          "base_uri": "https://localhost:8080/",
          "height": 53
        }
      },
      "source": [
        "# Kruskal-Wallis H-test - compare the median rank between 2+ groups\n",
        "# Can be applied to ranking decisions/outcomes/recommendations\n",
        "# The underlying math comes from chi-square distribution, and is best for n>5\n",
        "\n",
        "x1 = [1, 3, 5, 7, 9]\n",
        "y1 = [2, 4, 6, 8, 10]\n",
        "print(kruskal(x1, y1))  # x1 is a little better, but not \"significantly\" so\n",
        "\n",
        "x2 = [1, 1, 1]\n",
        "y2 = [2, 2, 2]\n",
        "z = [2, 2]  # Hey, a third group, and of different size!\n",
        "print(stats.kruskal(x2, y2, z))  # x clearly dominates"
      ],
      "execution_count": 0,
      "outputs": [
        {
          "output_type": "stream",
          "text": [
            "KruskalResult(statistic=0.2727272727272734, pvalue=0.6015081344405895)\n",
            "KruskalResult(statistic=7.0, pvalue=0.0301973834223185)\n"
          ],
          "name": "stdout"
        }
      ]
    },
    {
      "cell_type": "markdown",
      "metadata": {
        "id": "7pT3IP36Rh0b",
        "colab_type": "text"
      },
      "source": [
        "And there's many more! `scipy.stats` is fairly comprehensive, though there are even more available if you delve into the extended world of statistics packages. As tests get increasingly obscure and specialized, the importance of knowing them by heart becomes small - but being able to look them up and figure them out when they *are* relevant is still important."
      ]
    },
    {
      "cell_type": "markdown",
      "metadata": {
        "id": "fJt-uroDEyuK",
        "colab_type": "text"
      },
      "source": [
        "## $\\chi^{2}$ Test for 1 categorical variable. (Pearson's $\\chi^{2}$ test)\n",
        "\n",
        "| Roll:     |  1  |  2  |  3  |  4  |  5  |  6  |\n",
        "|-----------|-----|-----|-----|-----|-----|-----|\n",
        "| Observed: |  27 | 13  |  10 | 15  | 30  |  32 |\n",
        "| Expected: |   |   |   |   |   |   |\n",
        "\n",
        "Null Hypothesis: The distribution of observed frequencies is equal to the distribution of expected frequencies. The die is fair.\n",
        "\n",
        "Alternative Hypothesis: The distribution of observed frequencies is not equal to the distribution of expected frequencies - they are different. The die is unfair."
      ]
    },
    {
      "cell_type": "code",
      "metadata": {
        "id": "dfAkRpNJGmug",
        "colab_type": "code",
        "colab": {
          "base_uri": "https://localhost:8080/",
          "height": 35
        },
        "outputId": "0e2663c8-e97f-4634-e956-a67021c7ffcc"
      },
      "source": [
        "import numpy as np\n",
        "\n",
        "\n",
        "rolls = np.array([27,13,10,15,30,32])\n",
        "\n",
        "average = rolls.sum()/len(rolls)\n",
        "\n",
        "# I can't use the middle value to ask questions about an entire distribution\n",
        "# mean\n",
        "average"
      ],
      "execution_count": 1,
      "outputs": [
        {
          "output_type": "execute_result",
          "data": {
            "text/plain": [
              "21.166666666666668"
            ]
          },
          "metadata": {
            "tags": []
          },
          "execution_count": 1
        }
      ]
    },
    {
      "cell_type": "markdown",
      "metadata": {
        "id": "1XjkONo2aBxd",
        "colab_type": "text"
      },
      "source": [
        "An expected frequency is: $\\frac{\\text{total observations}}{\\text{# of categories}}$\n",
        "\n",
        "\n",
        "\n",
        "\n",
        "\n",
        "___\n",
        "\n",
        "\n",
        "\n",
        "\n",
        " $\\frac{\\text{(observed - expected)}^2}{ \\text{expected}}$"
      ]
    },
    {
      "cell_type": "code",
      "metadata": {
        "id": "WfIoQ6y1TfuU",
        "colab_type": "code",
        "colab": {
          "base_uri": "https://localhost:8080/",
          "height": 35
        },
        "outputId": "7ee15212-8e17-4a96-f934-2d01bb760b77"
      },
      "source": [
        "observed = rolls\n",
        "observed"
      ],
      "execution_count": 4,
      "outputs": [
        {
          "output_type": "execute_result",
          "data": {
            "text/plain": [
              "array([27, 13, 10, 15, 30, 32])"
            ]
          },
          "metadata": {
            "tags": []
          },
          "execution_count": 4
        }
      ]
    },
    {
      "cell_type": "code",
      "metadata": {
        "id": "GBD3_xRJSxhk",
        "colab_type": "code",
        "colab": {
          "base_uri": "https://localhost:8080/",
          "height": 35
        },
        "outputId": "40ed49c8-2ae7-4291-b945-6c2e45d2a4f6"
      },
      "source": [
        "# expected frequency of each side of the die\n",
        "# each side has the same expected frequency with a fair die\n",
        "expected_frequencies = rolls.sum() / 6\n",
        "\n",
        "expected_frequencies"
      ],
      "execution_count": 2,
      "outputs": [
        {
          "output_type": "execute_result",
          "data": {
            "text/plain": [
              "21.166666666666668"
            ]
          },
          "metadata": {
            "tags": []
          },
          "execution_count": 2
        }
      ]
    },
    {
      "cell_type": "code",
      "metadata": {
        "id": "chLGKjGfSxci",
        "colab_type": "code",
        "colab": {
          "base_uri": "https://localhost:8080/",
          "height": 126
        },
        "outputId": "2d8b25c6-91f0-433a-8e21-90db4720db73"
      },
      "source": [
        "expected = [expected_frequencies,expected_frequencies,expected_frequencies,expected_frequencies,expected_frequencies,expected_frequencies]\n",
        "\n",
        "expected"
      ],
      "execution_count": 3,
      "outputs": [
        {
          "output_type": "execute_result",
          "data": {
            "text/plain": [
              "[21.166666666666668,\n",
              " 21.166666666666668,\n",
              " 21.166666666666668,\n",
              " 21.166666666666668,\n",
              " 21.166666666666668,\n",
              " 21.166666666666668]"
            ]
          },
          "metadata": {
            "tags": []
          },
          "execution_count": 3
        }
      ]
    },
    {
      "cell_type": "code",
      "metadata": {
        "id": "b1WSQjmuSxZ8",
        "colab_type": "code",
        "colab": {
          "base_uri": "https://localhost:8080/",
          "height": 35
        },
        "outputId": "13b3f418-cc8c-4187-b20f-2f8826154166"
      },
      "source": [
        "# For my first cell\n",
        "\n",
        "(27 - 21.166666666666668)**2 / 21.166666666666668"
      ],
      "execution_count": 6,
      "outputs": [
        {
          "output_type": "execute_result",
          "data": {
            "text/plain": [
              "1.6076115485564297"
            ]
          },
          "metadata": {
            "tags": []
          },
          "execution_count": 6
        }
      ]
    },
    {
      "cell_type": "code",
      "metadata": {
        "id": "Z4zEcBnCSxWs",
        "colab_type": "code",
        "colab": {
          "base_uri": "https://localhost:8080/",
          "height": 35
        },
        "outputId": "604bf055-3dc5-4f9b-f6d9-09f15a0c146f"
      },
      "source": [
        "# Numpy is amazing\n",
        "\n",
        "a = [1,2,3]\n",
        "\n",
        "b = [4,5,6]\n",
        "\n",
        "a + b"
      ],
      "execution_count": 7,
      "outputs": [
        {
          "output_type": "execute_result",
          "data": {
            "text/plain": [
              "[1, 2, 3, 4, 5, 6]"
            ]
          },
          "metadata": {
            "tags": []
          },
          "execution_count": 7
        }
      ]
    },
    {
      "cell_type": "code",
      "metadata": {
        "id": "W8qIBHoGUyKT",
        "colab_type": "code",
        "colab": {
          "base_uri": "https://localhost:8080/",
          "height": 35
        },
        "outputId": "94a8f248-78de-48a1-8daa-7cfe6d8796e5"
      },
      "source": [
        "# Array broadcasting\n",
        "# do the math elementwise\n",
        "# cell by cell\n",
        "\n",
        "a = np.array(a)\n",
        "b = np.array(b)\n",
        "\n",
        "a + b"
      ],
      "execution_count": 8,
      "outputs": [
        {
          "output_type": "execute_result",
          "data": {
            "text/plain": [
              "array([5, 7, 9])"
            ]
          },
          "metadata": {
            "tags": []
          },
          "execution_count": 8
        }
      ]
    },
    {
      "cell_type": "markdown",
      "metadata": {
        "id": "h7xUYIHZWh1f",
        "colab_type": "text"
      },
      "source": [
        "# Use array broadcasting to calculate my $\\chi^2$ statistic\n"
      ]
    },
    {
      "cell_type": "code",
      "metadata": {
        "id": "smvEicM2VhQa",
        "colab_type": "code",
        "colab": {
          "base_uri": "https://localhost:8080/",
          "height": 35
        },
        "outputId": "335de194-e526-4409-bd9d-2954707d7664"
      },
      "source": [
        "\n",
        "chi_squared = ((observed - expected)**2 / expected).sum()\n",
        "\n",
        "chi_squared"
      ],
      "execution_count": 9,
      "outputs": [
        {
          "output_type": "execute_result",
          "data": {
            "text/plain": [
              "21.67716535433071"
            ]
          },
          "metadata": {
            "tags": []
          },
          "execution_count": 9
        }
      ]
    },
    {
      "cell_type": "code",
      "metadata": {
        "id": "RenSRLGYXd9F",
        "colab_type": "code",
        "colab": {
          "base_uri": "https://localhost:8080/",
          "height": 35
        },
        "outputId": "56565c45-9897-47d6-a6ce-25e2a7c6b469"
      },
      "source": [
        "pvalue = 0.0006\n",
        "\n",
        "pvalue"
      ],
      "execution_count": 11,
      "outputs": [
        {
          "output_type": "execute_result",
          "data": {
            "text/plain": [
              "0.0006"
            ]
          },
          "metadata": {
            "tags": []
          },
          "execution_count": 11
        }
      ]
    },
    {
      "cell_type": "markdown",
      "metadata": {
        "id": "LLtTEIjFV9QD",
        "colab_type": "text"
      },
      "source": [
        "How do we go from test statistic to p-value?\n",
        "\n",
        "Degrees of freedom: number of categories - 1\n",
        "* for our die rolls: ${DOF} = 6 - 1 = 5$\n",
        "\n",
        "Confidence level: 95%\n",
        "\n",
        "**Conclusion**: \n",
        "\n",
        "Based on a $\\chi^2$ statistic of 21.677 abd a ${pvalue}$ of 0.0006, I reject the null hypothesis that my observed distribution comes from a die with similar frequencies to my expected distributions. The die that is being used is likely to be unfair."
      ]
    },
    {
      "cell_type": "code",
      "metadata": {
        "id": "TlBQSCsgWVVP",
        "colab_type": "code",
        "colab": {
          "base_uri": "https://localhost:8080/",
          "height": 35
        },
        "outputId": "b44a3a96-70b4-44fb-acaa-b425cb99c764"
      },
      "source": [
        "from scipy import stats\n",
        "\n",
        "stats.chisquare(observed, expected)"
      ],
      "execution_count": 13,
      "outputs": [
        {
          "output_type": "execute_result",
          "data": {
            "text/plain": [
              "Power_divergenceResult(statistic=21.67716535433071, pvalue=0.0006029877129094496)"
            ]
          },
          "metadata": {
            "tags": []
          },
          "execution_count": 13
        }
      ]
    },
    {
      "cell_type": "markdown",
      "metadata": {
        "id": "7Igz-XHcVbW3",
        "colab_type": "text"
      },
      "source": [
        "## $\\chi^{2}$ Test for independence (2 variables)\n",
        "\n",
        "<https://en.wikipedia.org/wiki/Chi-squared_test>\n",
        "\n",
        "**Null hypothesis**: Two variables are independent\n",
        "\n",
        "**Alternative hypothesis**: Two variables are dependent\n",
        "\n",
        "**Confidence level**: $95\\%$"
      ]
    },
    {
      "cell_type": "code",
      "metadata": {
        "id": "_h13TSqQOO79",
        "colab_type": "code",
        "colab": {
          "base_uri": "https://localhost:8080/",
          "height": 635
        },
        "outputId": "1ea0d553-423a-4331-8869-4eedc03e6036"
      },
      "source": [
        "import pandas as pd\n",
        "\n",
        "df = pd.read_csv(\"https://raw.githubusercontent.com/ryanleeallred/datasets/master/adult.csv\")\n",
        "\n",
        "df"
      ],
      "execution_count": 14,
      "outputs": [
        {
          "output_type": "execute_result",
          "data": {
            "text/html": [
              "<div>\n",
              "<style scoped>\n",
              "    .dataframe tbody tr th:only-of-type {\n",
              "        vertical-align: middle;\n",
              "    }\n",
              "\n",
              "    .dataframe tbody tr th {\n",
              "        vertical-align: top;\n",
              "    }\n",
              "\n",
              "    .dataframe thead th {\n",
              "        text-align: right;\n",
              "    }\n",
              "</style>\n",
              "<table border=\"1\" class=\"dataframe\">\n",
              "  <thead>\n",
              "    <tr style=\"text-align: right;\">\n",
              "      <th></th>\n",
              "      <th>age</th>\n",
              "      <th>workclass</th>\n",
              "      <th>fnlwgt</th>\n",
              "      <th>education</th>\n",
              "      <th>education-num</th>\n",
              "      <th>marital-status</th>\n",
              "      <th>occupation</th>\n",
              "      <th>relationship</th>\n",
              "      <th>race</th>\n",
              "      <th>sex</th>\n",
              "      <th>capital-gain</th>\n",
              "      <th>capital-loss</th>\n",
              "      <th>hours-per-week</th>\n",
              "      <th>country</th>\n",
              "      <th>salary</th>\n",
              "    </tr>\n",
              "  </thead>\n",
              "  <tbody>\n",
              "    <tr>\n",
              "      <th>0</th>\n",
              "      <td>39</td>\n",
              "      <td>State-gov</td>\n",
              "      <td>77516</td>\n",
              "      <td>Bachelors</td>\n",
              "      <td>13</td>\n",
              "      <td>Never-married</td>\n",
              "      <td>Adm-clerical</td>\n",
              "      <td>Not-in-family</td>\n",
              "      <td>White</td>\n",
              "      <td>Male</td>\n",
              "      <td>2174</td>\n",
              "      <td>0</td>\n",
              "      <td>40</td>\n",
              "      <td>United-States</td>\n",
              "      <td>&lt;=50K</td>\n",
              "    </tr>\n",
              "    <tr>\n",
              "      <th>1</th>\n",
              "      <td>50</td>\n",
              "      <td>Self-emp-not-inc</td>\n",
              "      <td>83311</td>\n",
              "      <td>Bachelors</td>\n",
              "      <td>13</td>\n",
              "      <td>Married-civ-spouse</td>\n",
              "      <td>Exec-managerial</td>\n",
              "      <td>Husband</td>\n",
              "      <td>White</td>\n",
              "      <td>Male</td>\n",
              "      <td>0</td>\n",
              "      <td>0</td>\n",
              "      <td>13</td>\n",
              "      <td>United-States</td>\n",
              "      <td>&lt;=50K</td>\n",
              "    </tr>\n",
              "    <tr>\n",
              "      <th>2</th>\n",
              "      <td>38</td>\n",
              "      <td>Private</td>\n",
              "      <td>215646</td>\n",
              "      <td>HS-grad</td>\n",
              "      <td>9</td>\n",
              "      <td>Divorced</td>\n",
              "      <td>Handlers-cleaners</td>\n",
              "      <td>Not-in-family</td>\n",
              "      <td>White</td>\n",
              "      <td>Male</td>\n",
              "      <td>0</td>\n",
              "      <td>0</td>\n",
              "      <td>40</td>\n",
              "      <td>United-States</td>\n",
              "      <td>&lt;=50K</td>\n",
              "    </tr>\n",
              "    <tr>\n",
              "      <th>3</th>\n",
              "      <td>53</td>\n",
              "      <td>Private</td>\n",
              "      <td>234721</td>\n",
              "      <td>11th</td>\n",
              "      <td>7</td>\n",
              "      <td>Married-civ-spouse</td>\n",
              "      <td>Handlers-cleaners</td>\n",
              "      <td>Husband</td>\n",
              "      <td>Black</td>\n",
              "      <td>Male</td>\n",
              "      <td>0</td>\n",
              "      <td>0</td>\n",
              "      <td>40</td>\n",
              "      <td>United-States</td>\n",
              "      <td>&lt;=50K</td>\n",
              "    </tr>\n",
              "    <tr>\n",
              "      <th>4</th>\n",
              "      <td>28</td>\n",
              "      <td>Private</td>\n",
              "      <td>338409</td>\n",
              "      <td>Bachelors</td>\n",
              "      <td>13</td>\n",
              "      <td>Married-civ-spouse</td>\n",
              "      <td>Prof-specialty</td>\n",
              "      <td>Wife</td>\n",
              "      <td>Black</td>\n",
              "      <td>Female</td>\n",
              "      <td>0</td>\n",
              "      <td>0</td>\n",
              "      <td>40</td>\n",
              "      <td>Cuba</td>\n",
              "      <td>&lt;=50K</td>\n",
              "    </tr>\n",
              "    <tr>\n",
              "      <th>...</th>\n",
              "      <td>...</td>\n",
              "      <td>...</td>\n",
              "      <td>...</td>\n",
              "      <td>...</td>\n",
              "      <td>...</td>\n",
              "      <td>...</td>\n",
              "      <td>...</td>\n",
              "      <td>...</td>\n",
              "      <td>...</td>\n",
              "      <td>...</td>\n",
              "      <td>...</td>\n",
              "      <td>...</td>\n",
              "      <td>...</td>\n",
              "      <td>...</td>\n",
              "      <td>...</td>\n",
              "    </tr>\n",
              "    <tr>\n",
              "      <th>32556</th>\n",
              "      <td>27</td>\n",
              "      <td>Private</td>\n",
              "      <td>257302</td>\n",
              "      <td>Assoc-acdm</td>\n",
              "      <td>12</td>\n",
              "      <td>Married-civ-spouse</td>\n",
              "      <td>Tech-support</td>\n",
              "      <td>Wife</td>\n",
              "      <td>White</td>\n",
              "      <td>Female</td>\n",
              "      <td>0</td>\n",
              "      <td>0</td>\n",
              "      <td>38</td>\n",
              "      <td>United-States</td>\n",
              "      <td>&lt;=50K</td>\n",
              "    </tr>\n",
              "    <tr>\n",
              "      <th>32557</th>\n",
              "      <td>40</td>\n",
              "      <td>Private</td>\n",
              "      <td>154374</td>\n",
              "      <td>HS-grad</td>\n",
              "      <td>9</td>\n",
              "      <td>Married-civ-spouse</td>\n",
              "      <td>Machine-op-inspct</td>\n",
              "      <td>Husband</td>\n",
              "      <td>White</td>\n",
              "      <td>Male</td>\n",
              "      <td>0</td>\n",
              "      <td>0</td>\n",
              "      <td>40</td>\n",
              "      <td>United-States</td>\n",
              "      <td>&gt;50K</td>\n",
              "    </tr>\n",
              "    <tr>\n",
              "      <th>32558</th>\n",
              "      <td>58</td>\n",
              "      <td>Private</td>\n",
              "      <td>151910</td>\n",
              "      <td>HS-grad</td>\n",
              "      <td>9</td>\n",
              "      <td>Widowed</td>\n",
              "      <td>Adm-clerical</td>\n",
              "      <td>Unmarried</td>\n",
              "      <td>White</td>\n",
              "      <td>Female</td>\n",
              "      <td>0</td>\n",
              "      <td>0</td>\n",
              "      <td>40</td>\n",
              "      <td>United-States</td>\n",
              "      <td>&lt;=50K</td>\n",
              "    </tr>\n",
              "    <tr>\n",
              "      <th>32559</th>\n",
              "      <td>22</td>\n",
              "      <td>Private</td>\n",
              "      <td>201490</td>\n",
              "      <td>HS-grad</td>\n",
              "      <td>9</td>\n",
              "      <td>Never-married</td>\n",
              "      <td>Adm-clerical</td>\n",
              "      <td>Own-child</td>\n",
              "      <td>White</td>\n",
              "      <td>Male</td>\n",
              "      <td>0</td>\n",
              "      <td>0</td>\n",
              "      <td>20</td>\n",
              "      <td>United-States</td>\n",
              "      <td>&lt;=50K</td>\n",
              "    </tr>\n",
              "    <tr>\n",
              "      <th>32560</th>\n",
              "      <td>52</td>\n",
              "      <td>Self-emp-inc</td>\n",
              "      <td>287927</td>\n",
              "      <td>HS-grad</td>\n",
              "      <td>9</td>\n",
              "      <td>Married-civ-spouse</td>\n",
              "      <td>Exec-managerial</td>\n",
              "      <td>Wife</td>\n",
              "      <td>White</td>\n",
              "      <td>Female</td>\n",
              "      <td>15024</td>\n",
              "      <td>0</td>\n",
              "      <td>40</td>\n",
              "      <td>United-States</td>\n",
              "      <td>&gt;50K</td>\n",
              "    </tr>\n",
              "  </tbody>\n",
              "</table>\n",
              "<p>32561 rows × 15 columns</p>\n",
              "</div>"
            ],
            "text/plain": [
              "       age          workclass  fnlwgt  ... hours-per-week         country  salary\n",
              "0       39          State-gov   77516  ...             40   United-States   <=50K\n",
              "1       50   Self-emp-not-inc   83311  ...             13   United-States   <=50K\n",
              "2       38            Private  215646  ...             40   United-States   <=50K\n",
              "3       53            Private  234721  ...             40   United-States   <=50K\n",
              "4       28            Private  338409  ...             40            Cuba   <=50K\n",
              "...    ...                ...     ...  ...            ...             ...     ...\n",
              "32556   27            Private  257302  ...             38   United-States   <=50K\n",
              "32557   40            Private  154374  ...             40   United-States    >50K\n",
              "32558   58            Private  151910  ...             40   United-States   <=50K\n",
              "32559   22            Private  201490  ...             20   United-States   <=50K\n",
              "32560   52       Self-emp-inc  287927  ...             40   United-States    >50K\n",
              "\n",
              "[32561 rows x 15 columns]"
            ]
          },
          "metadata": {
            "tags": []
          },
          "execution_count": 14
        }
      ]
    },
    {
      "cell_type": "code",
      "metadata": {
        "id": "-Oxl_ub3bbaw",
        "colab_type": "code",
        "colab": {
          "base_uri": "https://localhost:8080/",
          "height": 168
        },
        "outputId": "09fed8bf-e26e-41c8-bc19-2616ff1811cc"
      },
      "source": [
        "df.describe(exclude=\"number\")"
      ],
      "execution_count": 15,
      "outputs": [
        {
          "output_type": "execute_result",
          "data": {
            "text/html": [
              "<div>\n",
              "<style scoped>\n",
              "    .dataframe tbody tr th:only-of-type {\n",
              "        vertical-align: middle;\n",
              "    }\n",
              "\n",
              "    .dataframe tbody tr th {\n",
              "        vertical-align: top;\n",
              "    }\n",
              "\n",
              "    .dataframe thead th {\n",
              "        text-align: right;\n",
              "    }\n",
              "</style>\n",
              "<table border=\"1\" class=\"dataframe\">\n",
              "  <thead>\n",
              "    <tr style=\"text-align: right;\">\n",
              "      <th></th>\n",
              "      <th>workclass</th>\n",
              "      <th>education</th>\n",
              "      <th>marital-status</th>\n",
              "      <th>occupation</th>\n",
              "      <th>relationship</th>\n",
              "      <th>race</th>\n",
              "      <th>sex</th>\n",
              "      <th>country</th>\n",
              "      <th>salary</th>\n",
              "    </tr>\n",
              "  </thead>\n",
              "  <tbody>\n",
              "    <tr>\n",
              "      <th>count</th>\n",
              "      <td>32561</td>\n",
              "      <td>32561</td>\n",
              "      <td>32561</td>\n",
              "      <td>32561</td>\n",
              "      <td>32561</td>\n",
              "      <td>32561</td>\n",
              "      <td>32561</td>\n",
              "      <td>32561</td>\n",
              "      <td>32561</td>\n",
              "    </tr>\n",
              "    <tr>\n",
              "      <th>unique</th>\n",
              "      <td>9</td>\n",
              "      <td>16</td>\n",
              "      <td>7</td>\n",
              "      <td>15</td>\n",
              "      <td>6</td>\n",
              "      <td>5</td>\n",
              "      <td>2</td>\n",
              "      <td>42</td>\n",
              "      <td>2</td>\n",
              "    </tr>\n",
              "    <tr>\n",
              "      <th>top</th>\n",
              "      <td>Private</td>\n",
              "      <td>HS-grad</td>\n",
              "      <td>Married-civ-spouse</td>\n",
              "      <td>Prof-specialty</td>\n",
              "      <td>Husband</td>\n",
              "      <td>White</td>\n",
              "      <td>Male</td>\n",
              "      <td>United-States</td>\n",
              "      <td>&lt;=50K</td>\n",
              "    </tr>\n",
              "    <tr>\n",
              "      <th>freq</th>\n",
              "      <td>22696</td>\n",
              "      <td>10501</td>\n",
              "      <td>14976</td>\n",
              "      <td>4140</td>\n",
              "      <td>13193</td>\n",
              "      <td>27816</td>\n",
              "      <td>21790</td>\n",
              "      <td>29170</td>\n",
              "      <td>24720</td>\n",
              "    </tr>\n",
              "  </tbody>\n",
              "</table>\n",
              "</div>"
            ],
            "text/plain": [
              "       workclass education       marital-status  ...    sex         country  salary\n",
              "count      32561     32561                32561  ...  32561           32561   32561\n",
              "unique         9        16                    7  ...      2              42       2\n",
              "top      Private   HS-grad   Married-civ-spouse  ...   Male   United-States   <=50K\n",
              "freq       22696     10501                14976  ...  21790           29170   24720\n",
              "\n",
              "[4 rows x 9 columns]"
            ]
          },
          "metadata": {
            "tags": []
          },
          "execution_count": 15
        }
      ]
    },
    {
      "cell_type": "code",
      "metadata": {
        "id": "Xs8HMkTqbbib",
        "colab_type": "code",
        "colab": {
          "base_uri": "https://localhost:8080/",
          "height": 635
        },
        "outputId": "f526f01d-ae55-4a0d-a3c3-741b5b8210ff"
      },
      "source": [
        "cut_points = [0,9,19,29,39,49,1000]\n",
        "\n",
        "label_names = [\"0-9\",\"10-19\", \"20-29\",\"30-39\",\"40-49\",\"50+\"]\n",
        "\n",
        "\n",
        "df[\"hours_per_week_categories\"] = pd.cut(df[\"hours-per-week\"], cut_points, label_names)\n",
        "\n",
        "df"
      ],
      "execution_count": 16,
      "outputs": [
        {
          "output_type": "execute_result",
          "data": {
            "text/html": [
              "<div>\n",
              "<style scoped>\n",
              "    .dataframe tbody tr th:only-of-type {\n",
              "        vertical-align: middle;\n",
              "    }\n",
              "\n",
              "    .dataframe tbody tr th {\n",
              "        vertical-align: top;\n",
              "    }\n",
              "\n",
              "    .dataframe thead th {\n",
              "        text-align: right;\n",
              "    }\n",
              "</style>\n",
              "<table border=\"1\" class=\"dataframe\">\n",
              "  <thead>\n",
              "    <tr style=\"text-align: right;\">\n",
              "      <th></th>\n",
              "      <th>age</th>\n",
              "      <th>workclass</th>\n",
              "      <th>fnlwgt</th>\n",
              "      <th>education</th>\n",
              "      <th>education-num</th>\n",
              "      <th>marital-status</th>\n",
              "      <th>occupation</th>\n",
              "      <th>relationship</th>\n",
              "      <th>race</th>\n",
              "      <th>sex</th>\n",
              "      <th>capital-gain</th>\n",
              "      <th>capital-loss</th>\n",
              "      <th>hours-per-week</th>\n",
              "      <th>country</th>\n",
              "      <th>salary</th>\n",
              "      <th>hours_per_week_categories</th>\n",
              "    </tr>\n",
              "  </thead>\n",
              "  <tbody>\n",
              "    <tr>\n",
              "      <th>0</th>\n",
              "      <td>39</td>\n",
              "      <td>State-gov</td>\n",
              "      <td>77516</td>\n",
              "      <td>Bachelors</td>\n",
              "      <td>13</td>\n",
              "      <td>Never-married</td>\n",
              "      <td>Adm-clerical</td>\n",
              "      <td>Not-in-family</td>\n",
              "      <td>White</td>\n",
              "      <td>Male</td>\n",
              "      <td>2174</td>\n",
              "      <td>0</td>\n",
              "      <td>40</td>\n",
              "      <td>United-States</td>\n",
              "      <td>&lt;=50K</td>\n",
              "      <td>(39, 49]</td>\n",
              "    </tr>\n",
              "    <tr>\n",
              "      <th>1</th>\n",
              "      <td>50</td>\n",
              "      <td>Self-emp-not-inc</td>\n",
              "      <td>83311</td>\n",
              "      <td>Bachelors</td>\n",
              "      <td>13</td>\n",
              "      <td>Married-civ-spouse</td>\n",
              "      <td>Exec-managerial</td>\n",
              "      <td>Husband</td>\n",
              "      <td>White</td>\n",
              "      <td>Male</td>\n",
              "      <td>0</td>\n",
              "      <td>0</td>\n",
              "      <td>13</td>\n",
              "      <td>United-States</td>\n",
              "      <td>&lt;=50K</td>\n",
              "      <td>(9, 19]</td>\n",
              "    </tr>\n",
              "    <tr>\n",
              "      <th>2</th>\n",
              "      <td>38</td>\n",
              "      <td>Private</td>\n",
              "      <td>215646</td>\n",
              "      <td>HS-grad</td>\n",
              "      <td>9</td>\n",
              "      <td>Divorced</td>\n",
              "      <td>Handlers-cleaners</td>\n",
              "      <td>Not-in-family</td>\n",
              "      <td>White</td>\n",
              "      <td>Male</td>\n",
              "      <td>0</td>\n",
              "      <td>0</td>\n",
              "      <td>40</td>\n",
              "      <td>United-States</td>\n",
              "      <td>&lt;=50K</td>\n",
              "      <td>(39, 49]</td>\n",
              "    </tr>\n",
              "    <tr>\n",
              "      <th>3</th>\n",
              "      <td>53</td>\n",
              "      <td>Private</td>\n",
              "      <td>234721</td>\n",
              "      <td>11th</td>\n",
              "      <td>7</td>\n",
              "      <td>Married-civ-spouse</td>\n",
              "      <td>Handlers-cleaners</td>\n",
              "      <td>Husband</td>\n",
              "      <td>Black</td>\n",
              "      <td>Male</td>\n",
              "      <td>0</td>\n",
              "      <td>0</td>\n",
              "      <td>40</td>\n",
              "      <td>United-States</td>\n",
              "      <td>&lt;=50K</td>\n",
              "      <td>(39, 49]</td>\n",
              "    </tr>\n",
              "    <tr>\n",
              "      <th>4</th>\n",
              "      <td>28</td>\n",
              "      <td>Private</td>\n",
              "      <td>338409</td>\n",
              "      <td>Bachelors</td>\n",
              "      <td>13</td>\n",
              "      <td>Married-civ-spouse</td>\n",
              "      <td>Prof-specialty</td>\n",
              "      <td>Wife</td>\n",
              "      <td>Black</td>\n",
              "      <td>Female</td>\n",
              "      <td>0</td>\n",
              "      <td>0</td>\n",
              "      <td>40</td>\n",
              "      <td>Cuba</td>\n",
              "      <td>&lt;=50K</td>\n",
              "      <td>(39, 49]</td>\n",
              "    </tr>\n",
              "    <tr>\n",
              "      <th>...</th>\n",
              "      <td>...</td>\n",
              "      <td>...</td>\n",
              "      <td>...</td>\n",
              "      <td>...</td>\n",
              "      <td>...</td>\n",
              "      <td>...</td>\n",
              "      <td>...</td>\n",
              "      <td>...</td>\n",
              "      <td>...</td>\n",
              "      <td>...</td>\n",
              "      <td>...</td>\n",
              "      <td>...</td>\n",
              "      <td>...</td>\n",
              "      <td>...</td>\n",
              "      <td>...</td>\n",
              "      <td>...</td>\n",
              "    </tr>\n",
              "    <tr>\n",
              "      <th>32556</th>\n",
              "      <td>27</td>\n",
              "      <td>Private</td>\n",
              "      <td>257302</td>\n",
              "      <td>Assoc-acdm</td>\n",
              "      <td>12</td>\n",
              "      <td>Married-civ-spouse</td>\n",
              "      <td>Tech-support</td>\n",
              "      <td>Wife</td>\n",
              "      <td>White</td>\n",
              "      <td>Female</td>\n",
              "      <td>0</td>\n",
              "      <td>0</td>\n",
              "      <td>38</td>\n",
              "      <td>United-States</td>\n",
              "      <td>&lt;=50K</td>\n",
              "      <td>(29, 39]</td>\n",
              "    </tr>\n",
              "    <tr>\n",
              "      <th>32557</th>\n",
              "      <td>40</td>\n",
              "      <td>Private</td>\n",
              "      <td>154374</td>\n",
              "      <td>HS-grad</td>\n",
              "      <td>9</td>\n",
              "      <td>Married-civ-spouse</td>\n",
              "      <td>Machine-op-inspct</td>\n",
              "      <td>Husband</td>\n",
              "      <td>White</td>\n",
              "      <td>Male</td>\n",
              "      <td>0</td>\n",
              "      <td>0</td>\n",
              "      <td>40</td>\n",
              "      <td>United-States</td>\n",
              "      <td>&gt;50K</td>\n",
              "      <td>(39, 49]</td>\n",
              "    </tr>\n",
              "    <tr>\n",
              "      <th>32558</th>\n",
              "      <td>58</td>\n",
              "      <td>Private</td>\n",
              "      <td>151910</td>\n",
              "      <td>HS-grad</td>\n",
              "      <td>9</td>\n",
              "      <td>Widowed</td>\n",
              "      <td>Adm-clerical</td>\n",
              "      <td>Unmarried</td>\n",
              "      <td>White</td>\n",
              "      <td>Female</td>\n",
              "      <td>0</td>\n",
              "      <td>0</td>\n",
              "      <td>40</td>\n",
              "      <td>United-States</td>\n",
              "      <td>&lt;=50K</td>\n",
              "      <td>(39, 49]</td>\n",
              "    </tr>\n",
              "    <tr>\n",
              "      <th>32559</th>\n",
              "      <td>22</td>\n",
              "      <td>Private</td>\n",
              "      <td>201490</td>\n",
              "      <td>HS-grad</td>\n",
              "      <td>9</td>\n",
              "      <td>Never-married</td>\n",
              "      <td>Adm-clerical</td>\n",
              "      <td>Own-child</td>\n",
              "      <td>White</td>\n",
              "      <td>Male</td>\n",
              "      <td>0</td>\n",
              "      <td>0</td>\n",
              "      <td>20</td>\n",
              "      <td>United-States</td>\n",
              "      <td>&lt;=50K</td>\n",
              "      <td>(19, 29]</td>\n",
              "    </tr>\n",
              "    <tr>\n",
              "      <th>32560</th>\n",
              "      <td>52</td>\n",
              "      <td>Self-emp-inc</td>\n",
              "      <td>287927</td>\n",
              "      <td>HS-grad</td>\n",
              "      <td>9</td>\n",
              "      <td>Married-civ-spouse</td>\n",
              "      <td>Exec-managerial</td>\n",
              "      <td>Wife</td>\n",
              "      <td>White</td>\n",
              "      <td>Female</td>\n",
              "      <td>15024</td>\n",
              "      <td>0</td>\n",
              "      <td>40</td>\n",
              "      <td>United-States</td>\n",
              "      <td>&gt;50K</td>\n",
              "      <td>(39, 49]</td>\n",
              "    </tr>\n",
              "  </tbody>\n",
              "</table>\n",
              "<p>32561 rows × 16 columns</p>\n",
              "</div>"
            ],
            "text/plain": [
              "       age          workclass  ...  salary hours_per_week_categories\n",
              "0       39          State-gov  ...   <=50K                  (39, 49]\n",
              "1       50   Self-emp-not-inc  ...   <=50K                   (9, 19]\n",
              "2       38            Private  ...   <=50K                  (39, 49]\n",
              "3       53            Private  ...   <=50K                  (39, 49]\n",
              "4       28            Private  ...   <=50K                  (39, 49]\n",
              "...    ...                ...  ...     ...                       ...\n",
              "32556   27            Private  ...   <=50K                  (29, 39]\n",
              "32557   40            Private  ...    >50K                  (39, 49]\n",
              "32558   58            Private  ...   <=50K                  (39, 49]\n",
              "32559   22            Private  ...   <=50K                  (19, 29]\n",
              "32560   52       Self-emp-inc  ...    >50K                  (39, 49]\n",
              "\n",
              "[32561 rows x 16 columns]"
            ]
          },
          "metadata": {
            "tags": []
          },
          "execution_count": 16
        }
      ]
    },
    {
      "cell_type": "code",
      "metadata": {
        "id": "NhkKVwEVbxUN",
        "colab_type": "code",
        "colab": {
          "base_uri": "https://localhost:8080/",
          "height": 168
        },
        "outputId": "532b3ac4-9e16-4776-cd46-9c0acf838484"
      },
      "source": [
        "contingency_table = pd.crosstab(df[\"sex\"], df[\"hours_per_week_categories\"], margins=True)\n",
        "\n",
        "contingency_table"
      ],
      "execution_count": 17,
      "outputs": [
        {
          "output_type": "execute_result",
          "data": {
            "text/html": [
              "<div>\n",
              "<style scoped>\n",
              "    .dataframe tbody tr th:only-of-type {\n",
              "        vertical-align: middle;\n",
              "    }\n",
              "\n",
              "    .dataframe tbody tr th {\n",
              "        vertical-align: top;\n",
              "    }\n",
              "\n",
              "    .dataframe thead th {\n",
              "        text-align: right;\n",
              "    }\n",
              "</style>\n",
              "<table border=\"1\" class=\"dataframe\">\n",
              "  <thead>\n",
              "    <tr style=\"text-align: right;\">\n",
              "      <th>hours_per_week_categories</th>\n",
              "      <th>(0, 9]</th>\n",
              "      <th>(9, 19]</th>\n",
              "      <th>(19, 29]</th>\n",
              "      <th>(29, 39]</th>\n",
              "      <th>(39, 49]</th>\n",
              "      <th>(49, 1000]</th>\n",
              "      <th>All</th>\n",
              "    </tr>\n",
              "    <tr>\n",
              "      <th>sex</th>\n",
              "      <th></th>\n",
              "      <th></th>\n",
              "      <th></th>\n",
              "      <th></th>\n",
              "      <th></th>\n",
              "      <th></th>\n",
              "      <th></th>\n",
              "    </tr>\n",
              "  </thead>\n",
              "  <tbody>\n",
              "    <tr>\n",
              "      <th>Female</th>\n",
              "      <td>235</td>\n",
              "      <td>671</td>\n",
              "      <td>1287</td>\n",
              "      <td>1914</td>\n",
              "      <td>5636</td>\n",
              "      <td>1028</td>\n",
              "      <td>10771</td>\n",
              "    </tr>\n",
              "    <tr>\n",
              "      <th>Male</th>\n",
              "      <td>223</td>\n",
              "      <td>575</td>\n",
              "      <td>1105</td>\n",
              "      <td>1753</td>\n",
              "      <td>12700</td>\n",
              "      <td>5434</td>\n",
              "      <td>21790</td>\n",
              "    </tr>\n",
              "    <tr>\n",
              "      <th>All</th>\n",
              "      <td>458</td>\n",
              "      <td>1246</td>\n",
              "      <td>2392</td>\n",
              "      <td>3667</td>\n",
              "      <td>18336</td>\n",
              "      <td>6462</td>\n",
              "      <td>32561</td>\n",
              "    </tr>\n",
              "  </tbody>\n",
              "</table>\n",
              "</div>"
            ],
            "text/plain": [
              "hours_per_week_categories  (0, 9]  (9, 19]  ...  (49, 1000]    All\n",
              "sex                                         ...                   \n",
              " Female                       235      671  ...        1028  10771\n",
              " Male                         223      575  ...        5434  21790\n",
              "All                           458     1246  ...        6462  32561\n",
              "\n",
              "[3 rows x 7 columns]"
            ]
          },
          "metadata": {
            "tags": []
          },
          "execution_count": 17
        }
      ]
    },
    {
      "cell_type": "markdown",
      "metadata": {
        "id": "9n3wyH1Vcouv",
        "colab_type": "text"
      },
      "source": [
        "## Expected Value Calc\n",
        "\n"
      ]
    },
    {
      "cell_type": "code",
      "metadata": {
        "id": "R3EFdZMmbxQ_",
        "colab_type": "code",
        "colab": {}
      },
      "source": [
        "row_sums = contingency_table.iloc[0:2,6].values\n",
        "\n",
        "col_sums = contingency_table.iloc[2,0:6].values"
      ],
      "execution_count": 0,
      "outputs": []
    },
    {
      "cell_type": "code",
      "metadata": {
        "id": "l5i86RlSbbU9",
        "colab_type": "code",
        "colab": {}
      },
      "source": [
        "total_total = df.shape[0]"
      ],
      "execution_count": 0,
      "outputs": []
    },
    {
      "cell_type": "code",
      "metadata": {
        "id": "lgm8xQb-dFbs",
        "colab_type": "code",
        "colab": {
          "base_uri": "https://localhost:8080/",
          "height": 108
        },
        "outputId": "39a321e8-1c90-4416-e789-e42949d1e1c0"
      },
      "source": [
        "expected = []\n",
        "for i in range(len(row_sums)):\n",
        "  expected_row = []\n",
        "  for column in col_sums:\n",
        "    expected_val = column * row_sums[i]/total_total\n",
        "    expected_row.append(expected_val)\n",
        "  expected.append(expected_row)\n",
        "\n",
        "expected = np.array(expected)\n",
        "print(expected.shape)\n",
        "print(expected)"
      ],
      "execution_count": 20,
      "outputs": [
        {
          "output_type": "stream",
          "text": [
            "(2, 6)\n",
            "[[  151.50388502   412.16995793   791.26046497  1213.02346365\n",
            "   6065.44811277  2137.59411566]\n",
            " [  306.49611498   833.83004207  1600.73953503  2453.97653635\n",
            "  12270.55188723  4324.40588434]]\n"
          ],
          "name": "stdout"
        }
      ]
    },
    {
      "cell_type": "code",
      "metadata": {
        "id": "vvITLKlfdFYL",
        "colab_type": "code",
        "colab": {}
      },
      "source": [
        "# Get a crosstab without the margins:\n",
        "\n",
        "observed = pd.crosstab(df[\"sex\"], df[\"hours_per_week_categories\"]).values"
      ],
      "execution_count": 0,
      "outputs": []
    },
    {
      "cell_type": "code",
      "metadata": {
        "id": "xImQ8QpUdFVM",
        "colab_type": "code",
        "colab": {
          "base_uri": "https://localhost:8080/",
          "height": 35
        },
        "outputId": "200368bf-4a11-47d7-c254-07bc4ca931e0"
      },
      "source": [
        "chi_squared = ((observed - expected)**2 / expected).sum()\n",
        "\n",
        "print(chi_squared)"
      ],
      "execution_count": 22,
      "outputs": [
        {
          "output_type": "stream",
          "text": [
            "2287.190943926107\n"
          ],
          "name": "stdout"
        }
      ]
    },
    {
      "cell_type": "markdown",
      "metadata": {
        "id": "gDbiXy7LeK5S",
        "colab_type": "text"
      },
      "source": [
        "In a $\\chi^2$ test for independence, Degrees of Freedom is calculated slightly differently:\n",
        "\n",
        "$\\frac{\\text{(# rows of my contingency table - 1)}}{\\text{(# columns of my contingency table - 1)}}$\n",
        "\n",
        "or\n",
        "\n",
        "$\\frac{\\text{(# of categories of variable_1 - 1)}}{\\text{(# of categories of variable_2 - 1)}}$\n",
        "\n",
        "\n",
        "DOF: (2-1)*(6-1) = (1*5) = 5"
      ]
    },
    {
      "cell_type": "code",
      "metadata": {
        "id": "FPM6BxjgdFRY",
        "colab_type": "code",
        "colab": {
          "base_uri": "https://localhost:8080/",
          "height": 145
        },
        "outputId": "806236a3-d53e-40a2-b3ae-81ac1a661427"
      },
      "source": [
        "chi2_stat, p_value, dof, expected = stats.chi2_contingency(observed)\n",
        "\n",
        "print(\"chi2_stat:\", chi2_stat)\n",
        "\n",
        "print(\"p_value:\",p_value)\n",
        "\n",
        "print(\"dof:\",dof)\n",
        "\n",
        "print(\"expected:\",expected)"
      ],
      "execution_count": 25,
      "outputs": [
        {
          "output_type": "stream",
          "text": [
            "chi2_stat: 2287.190943926107\n",
            "p_value: 0.0\n",
            "dof: 5\n",
            "expected: [[  151.50388502   412.16995793   791.26046497  1213.02346365\n",
            "   6065.44811277  2137.59411566]\n",
            " [  306.49611498   833.83004207  1600.73953503  2453.97653635\n",
            "  12270.55188723  4324.40588434]]\n"
          ],
          "name": "stdout"
        }
      ]
    },
    {
      "cell_type": "markdown",
      "metadata": {
        "id": "bvvPV-RJN2vA",
        "colab_type": "text"
      },
      "source": [
        "## Central Limit Theorem\n",
        "\n"
      ]
    },
    {
      "cell_type": "code",
      "metadata": {
        "id": "FBLoOF8qOJeJ",
        "colab_type": "code",
        "outputId": "255edb3c-3e90-4e3b-b6f7-b73cc5bd9b4c",
        "colab": {
          "base_uri": "https://localhost:8080/",
          "height": 74
        }
      },
      "source": [
        "import numpy as np\n",
        "import matplotlib.pyplot as plt\n",
        "import pandas as pd\n",
        "\n",
        "sample_means = []\n",
        "for x in range(0,3000):\n",
        "  coinflips = np.random.binomial(n=1, p=.5, size=12)\n",
        "  one_sample = coinflips\n",
        "  sample_means.append(coinflips.mean())\n",
        "\n",
        "print(len(sample_means))\n",
        "print(sample_means)"
      ],
      "execution_count": 26,
      "outputs": [
        {
          "output_type": "stream",
          "text": [
            "3000\n",
            "[0.75, 0.4166666666666667, 0.4166666666666667, 0.75, 0.5833333333333334, 0.75, 0.5, 0.16666666666666666, 0.4166666666666667, 0.3333333333333333, 0.3333333333333333, 0.5833333333333334, 0.5833333333333334, 0.5, 0.4166666666666667, 0.8333333333333334, 0.6666666666666666, 0.4166666666666667, 0.25, 0.5833333333333334, 0.5833333333333334, 0.4166666666666667, 0.3333333333333333, 0.25, 0.16666666666666666, 0.4166666666666667, 0.3333333333333333, 0.5, 0.4166666666666667, 0.5833333333333334, 0.4166666666666667, 0.5833333333333334, 0.6666666666666666, 0.4166666666666667, 0.4166666666666667, 0.4166666666666667, 0.5833333333333334, 0.5833333333333334, 0.3333333333333333, 0.4166666666666667, 0.3333333333333333, 0.5833333333333334, 0.5, 0.3333333333333333, 0.5, 0.4166666666666667, 0.75, 0.4166666666666667, 0.3333333333333333, 0.5833333333333334, 0.5833333333333334, 0.5, 0.16666666666666666, 0.5833333333333334, 0.5833333333333334, 0.5833333333333334, 0.5833333333333334, 0.5833333333333334, 0.6666666666666666, 0.5833333333333334, 0.6666666666666666, 0.5, 0.4166666666666667, 0.16666666666666666, 0.5833333333333334, 0.3333333333333333, 0.75, 0.4166666666666667, 0.3333333333333333, 0.25, 0.5, 0.5833333333333334, 0.4166666666666667, 0.3333333333333333, 0.4166666666666667, 0.5833333333333334, 0.4166666666666667, 0.5, 0.4166666666666667, 0.5, 0.75, 0.5833333333333334, 0.6666666666666666, 0.5, 0.3333333333333333, 0.4166666666666667, 0.3333333333333333, 0.25, 0.5833333333333334, 0.5833333333333334, 0.5833333333333334, 0.5, 0.3333333333333333, 0.4166666666666667, 0.6666666666666666, 0.5833333333333334, 0.6666666666666666, 0.5833333333333334, 0.75, 0.5833333333333334, 0.3333333333333333, 0.5, 0.4166666666666667, 0.3333333333333333, 0.75, 0.3333333333333333, 0.5, 0.5, 0.4166666666666667, 0.5833333333333334, 0.25, 0.4166666666666667, 0.5833333333333334, 0.6666666666666666, 0.6666666666666666, 0.25, 0.5833333333333334, 0.4166666666666667, 0.5, 0.4166666666666667, 0.5, 0.4166666666666667, 0.5, 0.6666666666666666, 0.5833333333333334, 0.5, 0.3333333333333333, 0.6666666666666666, 0.4166666666666667, 0.6666666666666666, 0.25, 0.5833333333333334, 0.5, 0.6666666666666666, 0.5, 0.5, 0.5, 0.5833333333333334, 0.4166666666666667, 0.4166666666666667, 0.5, 0.6666666666666666, 0.5, 0.4166666666666667, 0.5, 0.5, 0.5, 0.4166666666666667, 0.6666666666666666, 0.4166666666666667, 0.4166666666666667, 0.3333333333333333, 0.3333333333333333, 0.75, 0.5833333333333334, 0.5833333333333334, 0.6666666666666666, 0.4166666666666667, 0.4166666666666667, 0.8333333333333334, 0.5833333333333334, 0.5833333333333334, 0.5, 0.5, 0.5833333333333334, 0.5833333333333334, 0.5833333333333334, 0.4166666666666667, 0.5833333333333334, 0.5, 0.5833333333333334, 0.16666666666666666, 0.75, 0.6666666666666666, 0.4166666666666667, 0.5, 0.4166666666666667, 0.3333333333333333, 0.4166666666666667, 0.5, 0.6666666666666666, 0.3333333333333333, 0.5833333333333334, 0.4166666666666667, 0.75, 0.3333333333333333, 0.5833333333333334, 0.08333333333333333, 0.5, 0.5, 0.5, 0.4166666666666667, 0.5, 0.4166666666666667, 0.75, 0.6666666666666666, 0.6666666666666666, 0.5833333333333334, 0.4166666666666667, 0.25, 0.5, 0.5, 0.3333333333333333, 0.5, 0.4166666666666667, 0.4166666666666667, 0.5833333333333334, 0.4166666666666667, 0.3333333333333333, 0.4166666666666667, 0.4166666666666667, 0.4166666666666667, 0.5, 0.3333333333333333, 0.4166666666666667, 0.4166666666666667, 0.25, 0.5, 0.5833333333333334, 0.4166666666666667, 0.3333333333333333, 0.5, 0.3333333333333333, 0.5833333333333334, 0.5, 0.6666666666666666, 0.3333333333333333, 0.25, 0.75, 0.5, 0.5833333333333334, 0.25, 0.16666666666666666, 0.5, 0.4166666666666667, 0.4166666666666667, 0.6666666666666666, 0.3333333333333333, 0.6666666666666666, 0.6666666666666666, 0.5833333333333334, 0.4166666666666667, 0.5, 0.25, 0.4166666666666667, 0.5833333333333334, 0.3333333333333333, 0.6666666666666666, 0.5833333333333334, 0.4166666666666667, 0.5, 0.6666666666666666, 0.5833333333333334, 0.4166666666666667, 0.4166666666666667, 0.5, 0.3333333333333333, 0.6666666666666666, 0.6666666666666666, 0.8333333333333334, 0.3333333333333333, 0.5, 0.25, 0.5833333333333334, 0.3333333333333333, 0.6666666666666666, 0.5, 0.5833333333333334, 0.3333333333333333, 0.3333333333333333, 0.5833333333333334, 0.3333333333333333, 0.6666666666666666, 0.5833333333333334, 0.25, 0.3333333333333333, 0.5, 0.5833333333333334, 0.5, 0.3333333333333333, 0.5833333333333334, 0.4166666666666667, 0.5, 0.16666666666666666, 0.3333333333333333, 0.4166666666666667, 0.16666666666666666, 0.5833333333333334, 0.6666666666666666, 0.5833333333333334, 0.6666666666666666, 0.3333333333333333, 0.4166666666666667, 0.75, 0.6666666666666666, 0.5, 0.3333333333333333, 0.4166666666666667, 0.4166666666666667, 0.4166666666666667, 0.5833333333333334, 0.5, 0.5, 0.4166666666666667, 0.5, 0.4166666666666667, 0.4166666666666667, 0.4166666666666667, 0.5833333333333334, 0.3333333333333333, 0.75, 0.5, 0.4166666666666667, 0.5, 0.6666666666666666, 0.3333333333333333, 0.3333333333333333, 0.3333333333333333, 0.6666666666666666, 0.5, 0.3333333333333333, 0.3333333333333333, 0.5, 0.4166666666666667, 0.5, 0.6666666666666666, 0.5, 0.5, 0.4166666666666667, 0.5833333333333334, 0.3333333333333333, 0.5, 0.5833333333333334, 0.4166666666666667, 0.6666666666666666, 0.4166666666666667, 0.6666666666666666, 0.4166666666666667, 0.4166666666666667, 0.25, 0.5, 0.6666666666666666, 0.3333333333333333, 0.5833333333333334, 0.5, 0.6666666666666666, 0.4166666666666667, 0.3333333333333333, 0.25, 0.5833333333333334, 0.5833333333333334, 0.6666666666666666, 0.5, 0.25, 0.6666666666666666, 0.9166666666666666, 0.5833333333333334, 0.5833333333333334, 0.6666666666666666, 0.5833333333333334, 0.5, 0.16666666666666666, 0.3333333333333333, 0.3333333333333333, 0.5, 0.4166666666666667, 0.5833333333333334, 0.5, 0.25, 0.5, 0.4166666666666667, 0.5, 0.4166666666666667, 0.4166666666666667, 0.4166666666666667, 0.5833333333333334, 0.4166666666666667, 0.5, 0.5, 0.5833333333333334, 0.4166666666666667, 0.5, 0.5, 0.4166666666666667, 0.5, 0.5833333333333334, 0.8333333333333334, 0.5833333333333334, 0.5, 0.3333333333333333, 0.5, 0.3333333333333333, 0.5833333333333334, 0.5833333333333334, 0.4166666666666667, 0.5833333333333334, 0.25, 0.5, 0.3333333333333333, 0.16666666666666666, 0.9166666666666666, 0.3333333333333333, 0.6666666666666666, 0.5, 0.4166666666666667, 0.3333333333333333, 0.5, 0.5, 0.5, 0.75, 0.5833333333333334, 0.6666666666666666, 0.75, 0.5, 0.5833333333333334, 0.8333333333333334, 0.4166666666666667, 0.5833333333333334, 0.5, 0.5833333333333334, 0.3333333333333333, 0.6666666666666666, 0.4166666666666667, 0.4166666666666667, 0.5833333333333334, 0.4166666666666667, 0.3333333333333333, 0.6666666666666666, 0.4166666666666667, 0.5833333333333334, 0.4166666666666667, 0.3333333333333333, 0.4166666666666667, 0.3333333333333333, 0.6666666666666666, 0.3333333333333333, 0.6666666666666666, 0.5, 0.5833333333333334, 0.5833333333333334, 0.25, 0.5, 0.4166666666666667, 0.3333333333333333, 0.75, 0.25, 0.5, 0.5, 0.5, 0.3333333333333333, 0.5833333333333334, 0.4166666666666667, 0.5833333333333334, 0.5833333333333334, 0.4166666666666667, 0.5833333333333334, 0.5, 0.16666666666666666, 0.5, 0.3333333333333333, 0.3333333333333333, 0.4166666666666667, 0.25, 0.5, 0.5833333333333334, 0.5833333333333334, 0.5833333333333334, 0.75, 0.6666666666666666, 0.6666666666666666, 0.5833333333333334, 0.5, 0.5, 0.25, 0.5, 0.4166666666666667, 0.5, 0.5833333333333334, 0.6666666666666666, 0.3333333333333333, 0.5833333333333334, 0.5, 0.3333333333333333, 0.5833333333333334, 0.6666666666666666, 0.5833333333333334, 0.6666666666666666, 0.5, 0.3333333333333333, 0.25, 0.5833333333333334, 0.5, 0.75, 0.4166666666666667, 0.5833333333333334, 0.5, 0.5833333333333334, 0.5, 0.4166666666666667, 0.3333333333333333, 0.3333333333333333, 0.3333333333333333, 0.75, 0.25, 0.4166666666666667, 0.4166666666666667, 0.5833333333333334, 0.8333333333333334, 0.25, 0.6666666666666666, 0.5, 0.5833333333333334, 0.4166666666666667, 0.3333333333333333, 0.25, 0.3333333333333333, 0.5, 0.3333333333333333, 0.5833333333333334, 0.5, 0.5833333333333334, 0.3333333333333333, 0.5, 0.5833333333333334, 0.4166666666666667, 0.75, 0.25, 0.3333333333333333, 0.5, 0.4166666666666667, 0.6666666666666666, 0.5833333333333334, 0.6666666666666666, 0.5833333333333334, 0.4166666666666667, 0.75, 0.6666666666666666, 0.5, 0.3333333333333333, 0.4166666666666667, 0.5, 0.4166666666666667, 0.75, 0.4166666666666667, 0.4166666666666667, 0.4166666666666667, 0.3333333333333333, 0.75, 0.5833333333333334, 0.6666666666666666, 0.4166666666666667, 0.4166666666666667, 0.4166666666666667, 0.5, 0.3333333333333333, 0.3333333333333333, 0.9166666666666666, 0.5833333333333334, 0.5, 0.8333333333333334, 0.4166666666666667, 0.25, 0.6666666666666666, 0.5833333333333334, 0.4166666666666667, 0.4166666666666667, 0.3333333333333333, 0.3333333333333333, 0.6666666666666666, 0.5833333333333334, 0.4166666666666667, 0.5833333333333334, 0.25, 0.4166666666666667, 0.4166666666666667, 0.4166666666666667, 0.3333333333333333, 0.4166666666666667, 0.5833333333333334, 0.6666666666666666, 0.5833333333333334, 0.4166666666666667, 0.5833333333333334, 0.3333333333333333, 0.3333333333333333, 0.5833333333333334, 0.5, 0.4166666666666667, 0.3333333333333333, 0.5833333333333334, 0.4166666666666667, 0.5833333333333334, 0.6666666666666666, 0.5, 0.3333333333333333, 0.5, 0.4166666666666667, 0.3333333333333333, 0.75, 0.4166666666666667, 0.3333333333333333, 0.16666666666666666, 0.4166666666666667, 0.5833333333333334, 0.5833333333333334, 0.5, 0.5, 0.5, 0.75, 0.25, 0.5833333333333334, 0.16666666666666666, 0.5833333333333334, 0.5, 0.5833333333333334, 0.4166666666666667, 0.5833333333333334, 0.5833333333333334, 0.4166666666666667, 0.6666666666666666, 0.3333333333333333, 0.75, 0.5, 0.25, 0.4166666666666667, 0.4166666666666667, 0.5, 0.6666666666666666, 0.5833333333333334, 0.4166666666666667, 0.5, 0.6666666666666666, 0.5833333333333334, 0.3333333333333333, 0.4166666666666667, 0.4166666666666667, 0.5, 0.6666666666666666, 0.5833333333333334, 0.6666666666666666, 0.4166666666666667, 0.4166666666666667, 0.25, 0.3333333333333333, 0.4166666666666667, 0.3333333333333333, 0.4166666666666667, 0.25, 0.5833333333333334, 0.5, 0.3333333333333333, 0.5, 0.3333333333333333, 0.5833333333333334, 0.6666666666666666, 0.4166666666666667, 0.4166666666666667, 0.3333333333333333, 0.5833333333333334, 0.4166666666666667, 0.75, 0.3333333333333333, 0.4166666666666667, 0.5833333333333334, 0.5, 0.75, 0.6666666666666666, 0.5833333333333334, 0.6666666666666666, 0.4166666666666667, 0.4166666666666667, 0.6666666666666666, 0.25, 0.6666666666666666, 0.3333333333333333, 0.8333333333333334, 0.75, 0.5, 0.3333333333333333, 0.5833333333333334, 0.5, 0.5, 0.4166666666666667, 0.5833333333333334, 0.6666666666666666, 0.6666666666666666, 0.5833333333333334, 0.5, 0.6666666666666666, 0.5, 0.75, 0.5833333333333334, 0.4166666666666667, 0.5833333333333334, 0.5833333333333334, 0.4166666666666667, 0.6666666666666666, 0.25, 0.16666666666666666, 0.5, 0.6666666666666666, 0.3333333333333333, 0.4166666666666667, 0.4166666666666667, 0.3333333333333333, 0.5833333333333334, 0.5, 0.6666666666666666, 0.25, 0.3333333333333333, 0.8333333333333334, 0.5833333333333334, 0.5, 0.5, 0.3333333333333333, 0.4166666666666667, 0.5, 0.5833333333333334, 0.75, 0.4166666666666667, 0.5833333333333334, 0.6666666666666666, 0.5, 0.5833333333333334, 0.8333333333333334, 0.4166666666666667, 0.4166666666666667, 0.6666666666666666, 0.6666666666666666, 0.75, 0.5, 0.3333333333333333, 0.5833333333333334, 0.5833333333333334, 0.5, 0.5, 0.16666666666666666, 0.25, 0.5, 0.3333333333333333, 0.3333333333333333, 0.4166666666666667, 0.4166666666666667, 0.3333333333333333, 0.5833333333333334, 0.75, 0.4166666666666667, 0.6666666666666666, 0.4166666666666667, 0.3333333333333333, 0.4166666666666667, 0.4166666666666667, 0.5, 0.3333333333333333, 0.5, 0.4166666666666667, 0.5, 0.5, 0.5, 0.5, 0.4166666666666667, 0.5833333333333334, 0.5, 0.5, 0.6666666666666666, 0.6666666666666666, 0.6666666666666666, 0.5833333333333334, 0.3333333333333333, 0.5833333333333334, 0.5833333333333334, 0.75, 0.5, 0.3333333333333333, 0.4166666666666667, 0.6666666666666666, 0.5, 0.6666666666666666, 0.4166666666666667, 0.5, 0.5, 0.5833333333333334, 0.3333333333333333, 0.3333333333333333, 0.6666666666666666, 0.5, 0.3333333333333333, 0.5, 0.8333333333333334, 0.25, 0.4166666666666667, 0.25, 0.5833333333333334, 0.5, 0.5833333333333334, 0.6666666666666666, 0.4166666666666667, 0.5, 0.3333333333333333, 0.5, 0.4166666666666667, 0.4166666666666667, 0.4166666666666667, 0.4166666666666667, 0.5, 0.5833333333333334, 0.4166666666666667, 0.5, 0.4166666666666667, 0.5, 0.75, 0.5, 0.5, 0.5, 0.75, 0.5833333333333334, 0.5, 0.5, 0.75, 0.5, 0.5, 0.5833333333333334, 0.8333333333333334, 0.6666666666666666, 0.5, 0.4166666666666667, 0.6666666666666666, 0.5833333333333334, 0.6666666666666666, 0.5833333333333334, 0.5833333333333334, 0.5, 0.25, 0.5833333333333334, 0.4166666666666667, 0.6666666666666666, 0.5, 0.5833333333333334, 0.9166666666666666, 0.4166666666666667, 0.5833333333333334, 0.3333333333333333, 0.4166666666666667, 0.6666666666666666, 0.5, 0.5833333333333334, 0.3333333333333333, 0.4166666666666667, 0.16666666666666666, 0.5, 0.5833333333333334, 0.6666666666666666, 0.3333333333333333, 0.6666666666666666, 0.4166666666666667, 0.5, 0.6666666666666666, 0.6666666666666666, 0.5833333333333334, 0.4166666666666667, 0.6666666666666666, 0.5, 0.5833333333333334, 0.5, 0.3333333333333333, 0.5, 0.25, 0.5833333333333334, 0.5833333333333334, 0.3333333333333333, 0.5, 0.5, 0.3333333333333333, 0.5, 0.5, 0.6666666666666666, 0.5, 0.5833333333333334, 0.5833333333333334, 0.3333333333333333, 0.25, 0.5, 0.3333333333333333, 0.6666666666666666, 0.5, 0.5, 0.5, 0.4166666666666667, 0.6666666666666666, 0.16666666666666666, 0.4166666666666667, 0.5, 0.5833333333333334, 0.25, 0.4166666666666667, 0.4166666666666667, 0.3333333333333333, 0.4166666666666667, 0.4166666666666667, 0.25, 0.4166666666666667, 0.5833333333333334, 0.5833333333333334, 0.3333333333333333, 0.5, 0.25, 0.4166666666666667, 0.75, 0.5, 0.5, 0.3333333333333333, 0.5, 0.6666666666666666, 0.4166666666666667, 0.5, 0.5, 0.3333333333333333, 0.25, 0.5833333333333334, 0.5, 0.5833333333333334, 0.5, 0.5833333333333334, 0.5, 0.5833333333333334, 0.5, 0.75, 0.4166666666666667, 0.3333333333333333, 0.5833333333333334, 0.5833333333333334, 0.5833333333333334, 0.6666666666666666, 0.16666666666666666, 0.6666666666666666, 0.4166666666666667, 0.5833333333333334, 0.5833333333333334, 0.5, 0.6666666666666666, 0.75, 0.5, 0.5, 0.5833333333333334, 0.4166666666666667, 0.5, 0.5, 0.4166666666666667, 0.4166666666666667, 0.3333333333333333, 0.25, 0.4166666666666667, 0.16666666666666666, 0.5, 0.16666666666666666, 0.25, 0.4166666666666667, 0.6666666666666666, 0.5, 0.4166666666666667, 0.5, 0.5833333333333334, 0.5, 0.3333333333333333, 0.3333333333333333, 0.8333333333333334, 0.5, 0.4166666666666667, 0.4166666666666667, 0.4166666666666667, 0.5, 0.5, 0.3333333333333333, 0.5, 0.25, 0.4166666666666667, 0.5, 0.5, 0.5833333333333334, 0.25, 0.5833333333333334, 0.4166666666666667, 0.3333333333333333, 0.5, 0.5, 0.3333333333333333, 0.5, 0.5, 0.4166666666666667, 0.3333333333333333, 0.3333333333333333, 0.3333333333333333, 0.5, 0.3333333333333333, 0.5, 0.25, 0.4166666666666667, 0.5833333333333334, 0.5833333333333334, 0.6666666666666666, 0.5833333333333334, 0.5, 0.5833333333333334, 0.4166666666666667, 0.3333333333333333, 0.5, 0.6666666666666666, 0.5833333333333334, 0.5, 0.5833333333333334, 0.6666666666666666, 0.5, 0.5, 0.5833333333333334, 0.5, 0.3333333333333333, 0.5833333333333334, 0.4166666666666667, 0.3333333333333333, 0.5833333333333334, 0.5, 0.5, 0.3333333333333333, 0.5, 0.5, 0.75, 0.6666666666666666, 0.5, 0.5, 0.6666666666666666, 0.6666666666666666, 0.5, 0.5, 0.5833333333333334, 0.75, 0.5, 0.3333333333333333, 0.6666666666666666, 0.5, 0.5833333333333334, 0.9166666666666666, 0.5, 0.5833333333333334, 0.6666666666666666, 0.6666666666666666, 0.3333333333333333, 0.4166666666666667, 0.5, 0.75, 0.3333333333333333, 0.5833333333333334, 0.5, 0.6666666666666666, 0.5833333333333334, 0.6666666666666666, 0.3333333333333333, 0.5833333333333334, 0.6666666666666666, 0.6666666666666666, 0.5833333333333334, 0.75, 0.4166666666666667, 0.25, 0.6666666666666666, 0.6666666666666666, 0.5, 0.5833333333333334, 0.6666666666666666, 0.5, 0.5833333333333334, 0.4166666666666667, 0.5, 0.3333333333333333, 0.5, 0.75, 0.4166666666666667, 0.6666666666666666, 0.3333333333333333, 0.5, 0.4166666666666667, 0.5833333333333334, 0.25, 0.75, 0.3333333333333333, 0.08333333333333333, 0.6666666666666666, 0.75, 0.4166666666666667, 0.5, 0.25, 0.6666666666666666, 0.4166666666666667, 0.4166666666666667, 0.4166666666666667, 0.5833333333333334, 0.5, 0.5, 0.5, 0.5, 0.6666666666666666, 0.25, 0.3333333333333333, 0.5833333333333334, 0.4166666666666667, 0.5833333333333334, 0.16666666666666666, 0.4166666666666667, 0.5833333333333334, 0.75, 0.4166666666666667, 0.6666666666666666, 0.5833333333333334, 0.25, 0.4166666666666667, 0.5, 0.5, 0.3333333333333333, 0.5, 0.5833333333333334, 0.4166666666666667, 0.4166666666666667, 0.75, 0.5, 0.5833333333333334, 0.5, 0.6666666666666666, 0.5833333333333334, 0.4166666666666667, 0.5, 0.5, 0.5833333333333334, 0.5, 0.6666666666666666, 0.5, 0.6666666666666666, 0.5, 0.4166666666666667, 0.5833333333333334, 0.5833333333333334, 0.3333333333333333, 0.4166666666666667, 0.25, 0.3333333333333333, 0.6666666666666666, 0.5, 0.5833333333333334, 0.5, 0.6666666666666666, 0.5, 0.25, 0.6666666666666666, 0.5833333333333334, 0.3333333333333333, 0.4166666666666667, 0.4166666666666667, 0.6666666666666666, 0.6666666666666666, 0.4166666666666667, 0.16666666666666666, 0.5833333333333334, 0.16666666666666666, 0.4166666666666667, 0.5, 0.5, 0.5, 0.5, 0.3333333333333333, 0.5833333333333334, 0.25, 0.6666666666666666, 0.6666666666666666, 0.75, 0.5, 0.6666666666666666, 0.5, 0.4166666666666667, 0.4166666666666667, 0.5, 0.6666666666666666, 0.5, 0.4166666666666667, 0.4166666666666667, 0.4166666666666667, 0.4166666666666667, 0.5833333333333334, 0.5, 0.4166666666666667, 0.75, 0.5, 0.5833333333333334, 0.5, 0.25, 0.3333333333333333, 0.25, 0.5833333333333334, 0.5833333333333334, 0.4166666666666667, 0.5833333333333334, 0.5833333333333334, 0.3333333333333333, 0.3333333333333333, 0.4166666666666667, 0.25, 0.4166666666666667, 0.5833333333333334, 0.8333333333333334, 0.5, 0.5, 0.5, 0.6666666666666666, 0.3333333333333333, 0.5833333333333334, 0.6666666666666666, 0.4166666666666667, 0.4166666666666667, 0.5, 0.4166666666666667, 0.5833333333333334, 0.75, 0.4166666666666667, 0.5, 0.5833333333333334, 0.5, 0.4166666666666667, 0.5833333333333334, 0.5, 0.25, 0.75, 0.25, 0.5833333333333334, 0.5833333333333334, 0.5833333333333334, 0.4166666666666667, 0.5, 0.4166666666666667, 0.5833333333333334, 0.25, 0.75, 0.5, 0.4166666666666667, 0.4166666666666667, 0.9166666666666666, 0.5, 0.6666666666666666, 0.6666666666666666, 0.4166666666666667, 0.5, 0.25, 0.5, 0.5833333333333334, 0.6666666666666666, 0.5, 0.5833333333333334, 0.3333333333333333, 0.5, 0.5, 0.4166666666666667, 0.5833333333333334, 0.5, 0.5, 0.4166666666666667, 0.5, 0.4166666666666667, 0.75, 0.4166666666666667, 0.0, 0.4166666666666667, 0.5, 0.6666666666666666, 0.4166666666666667, 0.5833333333333334, 0.4166666666666667, 0.5, 0.5833333333333334, 0.16666666666666666, 0.8333333333333334, 0.5, 0.5, 0.3333333333333333, 0.5, 0.3333333333333333, 0.4166666666666667, 0.5833333333333334, 0.75, 0.4166666666666667, 0.25, 0.3333333333333333, 0.3333333333333333, 0.5, 0.6666666666666666, 0.6666666666666666, 0.5, 0.6666666666666666, 0.6666666666666666, 0.5, 0.3333333333333333, 0.5833333333333334, 0.4166666666666667, 0.4166666666666667, 0.8333333333333334, 0.3333333333333333, 0.5, 0.3333333333333333, 0.4166666666666667, 0.6666666666666666, 0.3333333333333333, 0.4166666666666667, 0.75, 0.5833333333333334, 0.6666666666666666, 0.4166666666666667, 0.6666666666666666, 0.6666666666666666, 0.5, 0.5833333333333334, 0.6666666666666666, 0.75, 0.5833333333333334, 0.5, 0.5833333333333334, 0.5, 0.4166666666666667, 0.5833333333333334, 0.3333333333333333, 0.4166666666666667, 0.5833333333333334, 0.5, 0.5833333333333334, 0.6666666666666666, 0.25, 0.5, 0.5833333333333334, 0.5, 0.5833333333333334, 0.5, 0.6666666666666666, 0.5, 0.5, 0.5833333333333334, 0.5, 0.4166666666666667, 0.4166666666666667, 0.5, 0.3333333333333333, 0.3333333333333333, 0.6666666666666666, 0.5833333333333334, 0.6666666666666666, 0.3333333333333333, 0.5833333333333334, 0.5, 0.5, 0.3333333333333333, 0.5833333333333334, 0.75, 0.5, 0.5833333333333334, 0.4166666666666667, 0.6666666666666666, 0.3333333333333333, 0.5, 0.5833333333333334, 0.4166666666666667, 0.6666666666666666, 0.5833333333333334, 0.4166666666666667, 0.3333333333333333, 0.5, 0.25, 0.5, 0.5, 0.4166666666666667, 1.0, 0.5833333333333334, 0.5, 0.6666666666666666, 0.25, 0.5833333333333334, 0.5833333333333334, 0.25, 0.5, 0.4166666666666667, 0.5, 0.5, 0.5, 0.5833333333333334, 0.5, 0.4166666666666667, 0.5833333333333334, 0.5, 0.5833333333333334, 0.5, 0.4166666666666667, 0.8333333333333334, 0.5, 0.5, 0.5, 0.5, 0.75, 0.5, 0.25, 0.4166666666666667, 0.5833333333333334, 0.5833333333333334, 0.5, 0.5, 0.75, 0.5833333333333334, 0.6666666666666666, 0.6666666666666666, 0.5833333333333334, 0.5, 0.5833333333333334, 0.16666666666666666, 0.5, 0.08333333333333333, 0.4166666666666667, 0.16666666666666666, 0.3333333333333333, 0.3333333333333333, 0.5, 0.5, 0.5, 0.6666666666666666, 0.5, 0.3333333333333333, 0.5, 0.4166666666666667, 0.3333333333333333, 0.3333333333333333, 0.25, 0.6666666666666666, 0.3333333333333333, 0.8333333333333334, 0.3333333333333333, 0.5833333333333334, 0.5, 0.4166666666666667, 0.4166666666666667, 0.8333333333333334, 0.75, 0.3333333333333333, 0.4166666666666667, 0.5833333333333334, 0.5833333333333334, 0.5833333333333334, 0.75, 0.5833333333333334, 0.5, 0.4166666666666667, 0.4166666666666667, 0.3333333333333333, 0.5, 0.5, 0.5833333333333334, 0.4166666666666667, 0.3333333333333333, 0.4166666666666667, 0.6666666666666666, 0.25, 0.5833333333333334, 0.75, 0.3333333333333333, 0.25, 0.25, 0.3333333333333333, 0.25, 0.3333333333333333, 0.3333333333333333, 0.3333333333333333, 0.5, 0.4166666666666667, 0.8333333333333334, 0.6666666666666666, 0.5833333333333334, 0.5, 0.4166666666666667, 0.5, 0.4166666666666667, 0.5, 0.5, 0.5833333333333334, 0.75, 0.5833333333333334, 0.75, 0.5833333333333334, 0.6666666666666666, 0.6666666666666666, 0.25, 0.4166666666666667, 0.4166666666666667, 0.5833333333333334, 0.6666666666666666, 0.3333333333333333, 0.4166666666666667, 0.4166666666666667, 0.5833333333333334, 0.5, 0.4166666666666667, 0.5, 0.5, 0.3333333333333333, 0.4166666666666667, 0.6666666666666666, 0.6666666666666666, 0.4166666666666667, 0.5833333333333334, 0.5833333333333334, 0.4166666666666667, 0.75, 0.5, 0.3333333333333333, 0.5, 0.4166666666666667, 0.3333333333333333, 0.4166666666666667, 0.5833333333333334, 0.4166666666666667, 0.5, 0.75, 0.5, 0.3333333333333333, 0.5, 0.16666666666666666, 0.5, 0.25, 0.5833333333333334, 0.6666666666666666, 0.4166666666666667, 0.5, 0.75, 0.6666666666666666, 0.6666666666666666, 0.5, 0.5833333333333334, 1.0, 0.4166666666666667, 0.4166666666666667, 0.4166666666666667, 0.4166666666666667, 0.4166666666666667, 0.5833333333333334, 0.3333333333333333, 0.5833333333333334, 0.3333333333333333, 0.4166666666666667, 0.3333333333333333, 0.4166666666666667, 0.5833333333333334, 0.6666666666666666, 0.4166666666666667, 0.25, 0.3333333333333333, 0.6666666666666666, 0.5, 0.25, 0.6666666666666666, 0.4166666666666667, 0.4166666666666667, 0.5833333333333334, 0.3333333333333333, 0.5, 0.5833333333333334, 0.5, 0.4166666666666667, 0.5, 0.5833333333333334, 0.4166666666666667, 0.5, 0.5833333333333334, 0.5, 0.5, 0.5833333333333334, 0.25, 0.75, 0.3333333333333333, 0.4166666666666667, 0.5, 0.75, 0.8333333333333334, 0.4166666666666667, 0.5, 0.6666666666666666, 0.3333333333333333, 0.4166666666666667, 0.5833333333333334, 0.3333333333333333, 0.4166666666666667, 0.25, 0.4166666666666667, 0.6666666666666666, 0.5, 0.75, 0.4166666666666667, 0.5, 0.5833333333333334, 0.3333333333333333, 0.4166666666666667, 0.5, 0.5833333333333334, 0.25, 0.5833333333333334, 0.5, 0.5833333333333334, 0.4166666666666667, 0.08333333333333333, 0.75, 0.5, 0.5, 0.5833333333333334, 0.5, 0.4166666666666667, 0.75, 0.3333333333333333, 0.5833333333333334, 0.6666666666666666, 0.4166666666666667, 0.6666666666666666, 0.5833333333333334, 0.5, 0.5833333333333334, 0.3333333333333333, 0.6666666666666666, 0.4166666666666667, 0.5, 0.5833333333333334, 0.5833333333333334, 0.4166666666666667, 0.5833333333333334, 0.5833333333333334, 0.3333333333333333, 0.4166666666666667, 0.3333333333333333, 0.75, 0.5, 0.5833333333333334, 0.6666666666666666, 0.4166666666666667, 0.3333333333333333, 0.6666666666666666, 0.3333333333333333, 0.3333333333333333, 0.6666666666666666, 0.4166666666666667, 0.5833333333333334, 0.4166666666666667, 0.5, 0.4166666666666667, 0.4166666666666667, 0.5, 0.5, 0.4166666666666667, 0.25, 0.5, 0.75, 0.5, 0.5833333333333334, 0.25, 0.3333333333333333, 0.6666666666666666, 0.5833333333333334, 0.6666666666666666, 0.4166666666666667, 0.5, 0.6666666666666666, 0.25, 0.5, 0.6666666666666666, 0.4166666666666667, 0.4166666666666667, 0.5833333333333334, 0.5, 0.5, 0.5833333333333334, 0.5, 0.6666666666666666, 0.5833333333333334, 0.3333333333333333, 0.5833333333333334, 0.75, 0.5, 0.5, 0.5833333333333334, 0.4166666666666667, 0.4166666666666667, 0.4166666666666667, 0.5833333333333334, 0.5, 0.6666666666666666, 0.6666666666666666, 0.16666666666666666, 0.4166666666666667, 0.4166666666666667, 0.6666666666666666, 0.5833333333333334, 0.5, 0.25, 0.5, 0.5833333333333334, 0.3333333333333333, 0.5833333333333334, 0.3333333333333333, 0.4166666666666667, 0.6666666666666666, 0.5, 0.25, 0.25, 0.5833333333333334, 0.5, 0.5, 0.75, 0.4166666666666667, 0.5833333333333334, 0.5833333333333334, 0.4166666666666667, 0.5, 0.5, 0.3333333333333333, 0.5833333333333334, 0.5, 0.4166666666666667, 0.25, 0.6666666666666666, 0.6666666666666666, 0.5, 0.4166666666666667, 0.5833333333333334, 0.4166666666666667, 0.3333333333333333, 0.6666666666666666, 0.5, 0.6666666666666666, 0.3333333333333333, 0.3333333333333333, 0.5833333333333334, 0.5, 0.25, 0.5, 0.4166666666666667, 0.75, 0.3333333333333333, 0.25, 0.6666666666666666, 0.5, 0.5833333333333334, 0.4166666666666667, 0.5833333333333334, 0.08333333333333333, 0.5833333333333334, 0.75, 0.75, 0.5833333333333334, 0.4166666666666667, 0.6666666666666666, 0.4166666666666667, 0.3333333333333333, 0.4166666666666667, 0.5833333333333334, 0.4166666666666667, 0.5, 0.5833333333333334, 0.6666666666666666, 0.4166666666666667, 0.3333333333333333, 0.4166666666666667, 0.5, 0.6666666666666666, 0.5833333333333334, 0.5, 0.5, 0.3333333333333333, 0.3333333333333333, 0.6666666666666666, 0.5833333333333334, 0.5833333333333334, 0.6666666666666666, 0.4166666666666667, 0.75, 0.3333333333333333, 0.5, 0.3333333333333333, 0.5, 0.5, 0.5, 0.4166666666666667, 0.5, 0.4166666666666667, 0.3333333333333333, 0.5833333333333334, 0.4166666666666667, 0.4166666666666667, 0.6666666666666666, 0.6666666666666666, 0.25, 0.4166666666666667, 0.5833333333333334, 0.4166666666666667, 0.4166666666666667, 0.5833333333333334, 0.5, 0.5, 0.5, 0.5, 0.75, 0.5, 0.5833333333333334, 0.3333333333333333, 0.5, 0.4166666666666667, 0.5, 0.16666666666666666, 0.25, 0.5833333333333334, 0.4166666666666667, 0.4166666666666667, 0.5833333333333334, 0.5, 0.5, 0.4166666666666667, 0.5, 0.4166666666666667, 0.3333333333333333, 0.4166666666666667, 0.4166666666666667, 0.3333333333333333, 0.4166666666666667, 0.3333333333333333, 0.5, 0.4166666666666667, 0.6666666666666666, 0.5, 0.5, 0.5, 0.5833333333333334, 0.3333333333333333, 0.5, 0.3333333333333333, 0.3333333333333333, 0.75, 0.5833333333333334, 0.5, 0.5, 0.6666666666666666, 0.6666666666666666, 0.5833333333333334, 0.5, 0.5833333333333334, 0.5, 0.4166666666666667, 0.5, 0.6666666666666666, 0.5833333333333334, 0.5, 0.8333333333333334, 0.9166666666666666, 0.75, 0.5833333333333334, 0.5, 0.5, 0.75, 0.4166666666666667, 0.5, 0.5, 0.3333333333333333, 0.5833333333333334, 0.75, 0.5, 0.5, 0.5, 0.8333333333333334, 0.5833333333333334, 0.5833333333333334, 0.3333333333333333, 0.5833333333333334, 0.4166666666666667, 0.5833333333333334, 0.25, 0.3333333333333333, 0.75, 0.5, 0.3333333333333333, 0.75, 0.5, 0.5833333333333334, 0.5833333333333334, 0.4166666666666667, 0.5833333333333334, 0.5, 0.5833333333333334, 0.5833333333333334, 0.75, 0.75, 0.3333333333333333, 0.3333333333333333, 0.5833333333333334, 0.5, 0.4166666666666667, 0.5, 0.3333333333333333, 0.25, 0.5833333333333334, 0.3333333333333333, 0.5, 0.75, 0.5833333333333334, 0.75, 0.6666666666666666, 0.3333333333333333, 0.5833333333333334, 0.4166666666666667, 0.5, 0.6666666666666666, 0.4166666666666667, 0.5, 0.5833333333333334, 0.5833333333333334, 0.5, 0.6666666666666666, 0.4166666666666667, 0.3333333333333333, 0.6666666666666666, 0.5833333333333334, 0.5, 0.5, 0.6666666666666666, 0.3333333333333333, 0.5, 0.5833333333333334, 0.3333333333333333, 0.5, 0.75, 0.3333333333333333, 0.3333333333333333, 0.3333333333333333, 0.5, 0.6666666666666666, 0.5833333333333334, 0.5833333333333334, 0.6666666666666666, 0.5833333333333334, 0.3333333333333333, 0.4166666666666667, 0.5, 0.25, 0.5833333333333334, 0.5833333333333334, 0.5, 0.5833333333333334, 0.5, 0.4166666666666667, 0.5, 0.16666666666666666, 0.6666666666666666, 0.3333333333333333, 0.4166666666666667, 0.5833333333333334, 0.4166666666666667, 0.8333333333333334, 0.25, 0.4166666666666667, 0.75, 0.5833333333333334, 0.75, 0.4166666666666667, 0.5833333333333334, 0.4166666666666667, 0.4166666666666667, 0.5, 0.5, 0.25, 0.5, 0.6666666666666666, 0.4166666666666667, 0.6666666666666666, 0.3333333333333333, 0.3333333333333333, 0.9166666666666666, 0.5833333333333334, 0.5833333333333334, 0.5, 0.75, 0.4166666666666667, 0.5, 0.5, 0.5833333333333334, 0.5833333333333334, 0.3333333333333333, 0.6666666666666666, 0.5833333333333334, 0.3333333333333333, 0.5, 0.5, 0.5, 0.5, 0.4166666666666667, 0.3333333333333333, 0.6666666666666666, 0.5833333333333334, 0.5833333333333334, 0.5833333333333334, 0.4166666666666667, 0.3333333333333333, 0.5, 0.5833333333333334, 0.6666666666666666, 0.4166666666666667, 0.5, 0.4166666666666667, 0.6666666666666666, 0.4166666666666667, 0.5833333333333334, 0.3333333333333333, 0.4166666666666667, 0.6666666666666666, 0.4166666666666667, 0.4166666666666667, 0.3333333333333333, 0.4166666666666667, 0.25, 0.8333333333333334, 0.6666666666666666, 0.4166666666666667, 0.5833333333333334, 0.5, 0.3333333333333333, 0.75, 0.4166666666666667, 0.5, 0.4166666666666667, 0.6666666666666666, 0.5833333333333334, 0.16666666666666666, 0.5, 0.16666666666666666, 0.4166666666666667, 0.3333333333333333, 0.5833333333333334, 0.4166666666666667, 0.4166666666666667, 0.5, 0.3333333333333333, 0.5, 0.5, 0.5833333333333334, 0.4166666666666667, 0.4166666666666667, 0.5833333333333334, 0.5833333333333334, 0.6666666666666666, 0.6666666666666666, 0.5, 0.5, 0.4166666666666667, 0.4166666666666667, 0.5833333333333334, 0.5, 0.5, 0.6666666666666666, 0.6666666666666666, 0.5, 0.4166666666666667, 0.8333333333333334, 0.6666666666666666, 0.75, 0.25, 0.25, 0.5833333333333334, 0.5833333333333334, 0.5, 0.3333333333333333, 0.5, 0.4166666666666667, 0.5, 0.25, 0.5833333333333334, 0.5833333333333334, 0.4166666666666667, 0.5, 0.5, 0.4166666666666667, 0.5, 0.3333333333333333, 0.16666666666666666, 0.4166666666666667, 0.6666666666666666, 0.6666666666666666, 0.5833333333333334, 0.5833333333333334, 0.3333333333333333, 0.5, 0.5, 0.5, 0.6666666666666666, 0.6666666666666666, 0.8333333333333334, 0.25, 0.6666666666666666, 0.3333333333333333, 0.5, 0.8333333333333334, 0.5, 0.5, 0.6666666666666666, 0.75, 0.08333333333333333, 0.5833333333333334, 0.4166666666666667, 0.5, 0.3333333333333333, 0.6666666666666666, 0.5, 0.5, 0.5, 0.75, 0.5833333333333334, 0.6666666666666666, 0.16666666666666666, 0.5833333333333334, 0.3333333333333333, 0.5, 0.6666666666666666, 0.5833333333333334, 0.5, 0.5, 0.3333333333333333, 0.25, 0.4166666666666667, 0.5833333333333334, 0.6666666666666666, 0.25, 0.4166666666666667, 0.6666666666666666, 0.5833333333333334, 0.5833333333333334, 0.4166666666666667, 0.4166666666666667, 0.4166666666666667, 0.3333333333333333, 0.8333333333333334, 0.6666666666666666, 0.4166666666666667, 0.5, 0.75, 0.6666666666666666, 0.5, 0.4166666666666667, 0.4166666666666667, 0.5, 0.5, 0.5, 0.6666666666666666, 0.4166666666666667, 0.4166666666666667, 0.4166666666666667, 0.5, 0.5833333333333334, 0.4166666666666667, 0.4166666666666667, 0.3333333333333333, 0.6666666666666666, 0.4166666666666667, 0.5833333333333334, 0.6666666666666666, 0.6666666666666666, 0.4166666666666667, 0.4166666666666667, 0.5, 0.5833333333333334, 0.5, 0.6666666666666666, 0.5833333333333334, 0.16666666666666666, 0.5, 0.5, 0.5, 0.5, 0.4166666666666667, 0.4166666666666667, 0.5, 0.5, 0.4166666666666667, 0.4166666666666667, 0.4166666666666667, 0.3333333333333333, 0.5, 0.75, 0.3333333333333333, 0.6666666666666666, 0.3333333333333333, 0.4166666666666667, 0.3333333333333333, 0.5, 0.5833333333333334, 0.75, 0.4166666666666667, 0.6666666666666666, 0.3333333333333333, 0.5, 0.4166666666666667, 0.5833333333333334, 0.5, 0.5833333333333334, 0.5, 0.4166666666666667, 0.5833333333333334, 0.6666666666666666, 0.5, 0.4166666666666667, 0.3333333333333333, 0.4166666666666667, 0.5833333333333334, 0.4166666666666667, 0.25, 0.3333333333333333, 0.4166666666666667, 0.4166666666666667, 0.5833333333333334, 0.5833333333333334, 0.3333333333333333, 0.75, 0.25, 0.5, 0.5, 0.3333333333333333, 0.5, 0.5833333333333334, 0.4166666666666667, 0.5833333333333334, 0.4166666666666667, 0.5, 0.5, 0.25, 0.5, 0.4166666666666667, 0.5, 0.6666666666666666, 0.4166666666666667, 0.75, 0.8333333333333334, 0.6666666666666666, 0.3333333333333333, 0.4166666666666667, 0.5, 0.5, 0.5833333333333334, 0.4166666666666667, 0.5833333333333334, 0.16666666666666666, 0.8333333333333334, 0.6666666666666666, 0.5, 0.5, 0.5, 0.5, 0.75, 0.5833333333333334, 0.4166666666666667, 0.5, 0.5833333333333334, 0.25, 0.3333333333333333, 0.3333333333333333, 0.5833333333333334, 0.5833333333333334, 0.5, 0.5, 0.4166666666666667, 0.5833333333333334, 0.5, 0.5, 0.4166666666666667, 0.5833333333333334, 0.16666666666666666, 0.75, 0.5, 0.5, 0.4166666666666667, 0.5833333333333334, 0.5833333333333334, 0.4166666666666667, 0.75, 0.16666666666666666, 0.4166666666666667, 0.5833333333333334, 0.75, 0.4166666666666667, 0.5, 0.25, 0.25, 0.75, 0.8333333333333334, 0.3333333333333333, 0.6666666666666666, 0.3333333333333333, 0.5, 0.5833333333333334, 0.6666666666666666, 0.5, 0.6666666666666666, 0.5, 0.4166666666666667, 0.5, 0.4166666666666667, 0.25, 0.16666666666666666, 0.5833333333333334, 0.4166666666666667, 0.4166666666666667, 0.75, 0.6666666666666666, 0.4166666666666667, 0.5, 0.3333333333333333, 0.5833333333333334, 0.5833333333333334, 0.4166666666666667, 0.25, 0.5, 0.5, 0.5833333333333334, 0.16666666666666666, 0.4166666666666667, 0.75, 0.6666666666666666, 0.5833333333333334, 0.4166666666666667, 0.5, 0.3333333333333333, 0.6666666666666666, 0.16666666666666666, 0.5, 0.4166666666666667, 0.4166666666666667, 0.4166666666666667, 0.3333333333333333, 0.5, 0.5833333333333334, 0.6666666666666666, 0.75, 0.6666666666666666, 0.5, 0.6666666666666666, 0.3333333333333333, 0.4166666666666667, 0.5, 0.4166666666666667, 0.4166666666666667, 0.75, 0.5, 0.5, 0.3333333333333333, 0.3333333333333333, 0.5833333333333334, 0.5833333333333334, 0.5, 0.5833333333333334, 0.5, 0.5, 0.25, 0.4166666666666667, 0.5833333333333334, 0.75, 0.6666666666666666, 0.3333333333333333, 0.5833333333333334, 0.6666666666666666, 0.3333333333333333, 0.25, 0.5, 0.4166666666666667, 0.4166666666666667, 0.25, 0.6666666666666666, 0.3333333333333333, 0.5, 0.4166666666666667, 0.5, 0.3333333333333333, 0.5833333333333334, 0.75, 0.3333333333333333, 0.75, 0.25, 0.5833333333333334, 0.3333333333333333, 0.6666666666666666, 0.4166666666666667, 0.25, 0.5833333333333334, 0.6666666666666666, 0.6666666666666666, 0.3333333333333333, 0.5, 0.4166666666666667, 0.4166666666666667, 0.5833333333333334, 0.5, 0.4166666666666667, 0.5, 0.4166666666666667, 0.16666666666666666, 0.4166666666666667, 0.25, 0.75, 0.4166666666666667, 0.75, 0.6666666666666666, 0.4166666666666667, 0.4166666666666667, 0.75, 0.5833333333333334, 0.5833333333333334, 0.5833333333333334, 0.16666666666666666, 0.5833333333333334, 0.08333333333333333, 0.16666666666666666, 0.25, 0.3333333333333333, 0.6666666666666666, 0.5, 0.5833333333333334, 0.5833333333333334, 0.6666666666666666, 0.3333333333333333, 0.5833333333333334, 0.3333333333333333, 0.4166666666666667, 0.25, 0.25, 0.5, 0.5833333333333334, 0.6666666666666666, 0.4166666666666667, 0.3333333333333333, 0.5, 0.6666666666666666, 0.6666666666666666, 0.4166666666666667, 0.25, 0.6666666666666666, 0.3333333333333333, 0.5, 0.5833333333333334, 0.5833333333333334, 0.5833333333333334, 0.3333333333333333, 0.75, 0.5, 0.6666666666666666, 0.25, 0.5833333333333334, 0.4166666666666667, 0.3333333333333333, 0.5, 0.3333333333333333, 0.25, 0.4166666666666667, 0.5, 0.5833333333333334, 0.5, 0.9166666666666666, 0.3333333333333333, 0.16666666666666666, 0.6666666666666666, 0.75, 0.5, 0.75, 0.16666666666666666, 0.5833333333333334, 0.3333333333333333, 0.5833333333333334, 0.6666666666666666, 0.5, 0.5, 0.5833333333333334, 0.5833333333333334, 0.5833333333333334, 0.6666666666666666, 0.08333333333333333, 0.4166666666666667, 0.5833333333333334, 0.5, 0.5, 0.6666666666666666, 0.3333333333333333, 0.6666666666666666, 0.25, 0.3333333333333333, 0.8333333333333334, 0.5833333333333334, 0.5, 0.5, 0.6666666666666666, 0.25, 0.5833333333333334, 0.5833333333333334, 0.5, 0.4166666666666667, 0.25, 0.4166666666666667, 0.75, 0.75, 0.75, 0.5, 0.3333333333333333, 0.4166666666666667, 0.4166666666666667, 0.5, 0.3333333333333333, 0.5, 0.4166666666666667, 0.5833333333333334, 0.5, 0.75, 0.5833333333333334, 0.5833333333333334, 0.75, 0.3333333333333333, 0.5833333333333334, 0.4166666666666667, 0.5, 0.5833333333333334, 0.25, 0.25, 0.25, 0.5833333333333334, 0.3333333333333333, 0.5833333333333334, 0.5, 0.5833333333333334, 0.75, 0.6666666666666666, 0.6666666666666666, 0.5833333333333334, 0.5, 0.5833333333333334, 0.5833333333333334, 0.75, 0.5833333333333334, 0.5833333333333334, 0.25, 0.5, 0.4166666666666667, 0.5, 0.6666666666666666, 0.4166666666666667, 0.25, 0.5833333333333334, 0.5, 0.5833333333333334, 0.6666666666666666, 0.4166666666666667, 0.6666666666666666, 0.75, 0.5833333333333334, 0.6666666666666666, 0.5, 0.5833333333333334, 0.6666666666666666, 0.5, 0.4166666666666667, 0.6666666666666666, 0.4166666666666667, 0.5833333333333334, 0.25, 0.5833333333333334, 0.4166666666666667, 0.3333333333333333, 0.8333333333333334, 0.6666666666666666, 0.4166666666666667, 0.4166666666666667, 0.6666666666666666, 0.3333333333333333, 0.5833333333333334, 0.5833333333333334, 0.6666666666666666, 0.4166666666666667, 0.25, 0.6666666666666666, 0.6666666666666666, 0.5, 0.6666666666666666, 0.4166666666666667, 0.8333333333333334, 0.4166666666666667, 0.5833333333333334, 0.5833333333333334, 0.4166666666666667, 0.3333333333333333, 0.25, 0.6666666666666666, 0.4166666666666667, 0.25, 0.5833333333333334, 0.75, 0.4166666666666667, 0.5833333333333334, 0.25, 0.3333333333333333, 0.5833333333333334, 0.3333333333333333, 0.5833333333333334, 0.5833333333333334, 0.3333333333333333, 0.3333333333333333, 0.5, 0.5833333333333334, 0.3333333333333333, 0.5, 0.4166666666666667, 0.5, 0.5, 0.4166666666666667, 0.3333333333333333, 0.5833333333333334, 0.6666666666666666, 0.9166666666666666, 0.6666666666666666, 0.5, 0.4166666666666667, 0.5833333333333334, 0.3333333333333333, 0.5833333333333334, 0.5, 0.3333333333333333, 0.5833333333333334, 0.3333333333333333, 0.25, 0.08333333333333333, 0.75, 0.3333333333333333, 0.4166666666666667, 0.16666666666666666, 0.4166666666666667, 0.3333333333333333, 0.75, 0.5, 0.5, 0.5, 0.3333333333333333, 0.5833333333333334, 0.25, 0.5, 0.5833333333333334, 0.5, 0.9166666666666666, 0.6666666666666666, 0.5833333333333334, 0.75, 0.6666666666666666, 0.4166666666666667, 0.5, 0.6666666666666666, 0.5833333333333334, 0.6666666666666666, 0.3333333333333333, 0.5, 0.3333333333333333, 0.5833333333333334, 0.4166666666666667, 0.3333333333333333, 0.4166666666666667, 0.4166666666666667, 0.75, 0.3333333333333333, 0.5, 0.25, 0.6666666666666666, 0.3333333333333333, 0.9166666666666666, 0.6666666666666666, 0.5, 0.16666666666666666, 0.6666666666666666, 0.5833333333333334, 0.9166666666666666, 0.4166666666666667, 0.5833333333333334, 0.5833333333333334, 0.5833333333333334, 0.3333333333333333, 0.25, 0.25, 0.6666666666666666, 0.6666666666666666, 0.75, 0.8333333333333334, 0.4166666666666667, 0.6666666666666666, 0.5, 0.5, 0.5, 0.5833333333333334, 0.5, 0.3333333333333333, 0.25, 0.3333333333333333, 0.3333333333333333, 0.4166666666666667, 0.4166666666666667, 0.5, 0.5833333333333334, 0.5833333333333334, 0.4166666666666667, 0.5, 0.5833333333333334, 0.5833333333333334, 0.4166666666666667, 0.4166666666666667, 0.6666666666666666, 0.4166666666666667, 0.75, 0.6666666666666666, 0.3333333333333333, 0.5, 0.5833333333333334, 0.5833333333333334, 0.5, 0.5, 0.5833333333333334, 0.5833333333333334, 0.5, 0.16666666666666666, 0.6666666666666666, 0.5, 0.25, 0.6666666666666666, 0.3333333333333333, 0.5833333333333334, 0.6666666666666666, 0.5833333333333334, 0.75, 0.3333333333333333, 0.4166666666666667, 0.6666666666666666, 0.5833333333333334, 0.5, 0.5, 0.6666666666666666, 0.5833333333333334, 0.5, 0.4166666666666667, 0.5833333333333334, 0.5833333333333334, 0.5833333333333334, 0.4166666666666667, 0.3333333333333333, 0.75, 0.4166666666666667, 0.5, 0.5833333333333334, 0.5, 0.5, 0.4166666666666667, 0.3333333333333333, 0.5, 0.5833333333333334, 0.6666666666666666, 0.5, 0.5, 0.6666666666666666, 0.6666666666666666, 0.6666666666666666, 0.4166666666666667, 0.5, 0.5, 0.3333333333333333, 0.5833333333333334, 0.5, 0.75, 0.08333333333333333, 0.5, 0.5, 0.5, 0.4166666666666667, 0.5, 0.5, 0.4166666666666667, 0.3333333333333333, 0.5, 0.6666666666666666, 0.6666666666666666, 0.75, 0.3333333333333333, 0.5, 0.3333333333333333, 0.5833333333333334, 0.6666666666666666, 0.3333333333333333, 0.6666666666666666, 0.4166666666666667, 0.4166666666666667, 0.5, 0.4166666666666667, 0.3333333333333333, 0.6666666666666666, 0.5, 0.8333333333333334, 0.75, 0.3333333333333333, 0.5833333333333334, 0.5, 0.5, 0.5, 0.3333333333333333, 0.5, 0.5833333333333334, 0.5, 0.5, 0.4166666666666667, 0.3333333333333333, 0.6666666666666666, 0.4166666666666667, 0.5, 0.5, 0.3333333333333333, 0.75, 0.3333333333333333, 0.5833333333333334, 0.5, 0.3333333333333333, 0.5833333333333334, 0.6666666666666666, 0.75, 0.3333333333333333, 0.3333333333333333, 0.4166666666666667, 0.5, 0.5833333333333334, 0.3333333333333333, 0.5833333333333334, 0.25, 0.4166666666666667, 0.5, 0.3333333333333333, 0.6666666666666666, 0.4166666666666667, 0.5, 0.5833333333333334, 0.5833333333333334, 0.16666666666666666, 0.75, 0.3333333333333333, 0.5833333333333334, 0.3333333333333333, 0.5833333333333334, 0.5833333333333334, 0.5, 0.3333333333333333, 0.3333333333333333, 0.6666666666666666, 0.4166666666666667, 0.5, 0.5833333333333334, 0.5833333333333334, 0.6666666666666666, 0.3333333333333333, 0.75, 0.3333333333333333, 0.4166666666666667, 0.25, 0.6666666666666666, 0.4166666666666667, 0.5833333333333334, 0.3333333333333333, 0.4166666666666667, 0.6666666666666666, 0.16666666666666666, 0.5833333333333334, 0.25, 0.3333333333333333, 0.5, 0.6666666666666666, 0.4166666666666667, 0.6666666666666666, 0.4166666666666667, 0.4166666666666667, 0.5833333333333334, 0.4166666666666667, 0.5833333333333334, 0.6666666666666666, 0.25, 0.6666666666666666, 0.5, 0.4166666666666667, 0.75, 0.4166666666666667, 0.5, 0.4166666666666667, 0.6666666666666666, 0.5, 0.5833333333333334, 0.5, 0.9166666666666666, 0.5833333333333334, 0.5, 0.4166666666666667, 0.08333333333333333, 0.75, 0.6666666666666666, 0.5833333333333334, 0.5833333333333334, 0.5, 0.4166666666666667, 0.25, 0.3333333333333333, 0.5833333333333334, 0.6666666666666666, 0.5833333333333334, 0.25, 0.3333333333333333, 0.4166666666666667, 0.6666666666666666, 0.4166666666666667, 0.6666666666666666, 0.5833333333333334, 0.6666666666666666, 0.6666666666666666, 0.6666666666666666, 0.5, 0.3333333333333333, 0.6666666666666666, 0.4166666666666667, 0.6666666666666666, 0.5, 0.4166666666666667, 0.4166666666666667, 0.25, 0.5, 0.5833333333333334, 0.6666666666666666, 0.5833333333333334, 0.5833333333333334, 0.5, 0.5833333333333334, 0.5, 0.75, 0.25, 0.4166666666666667, 0.6666666666666666, 0.3333333333333333, 0.25, 0.4166666666666667, 0.5, 0.5833333333333334, 0.5833333333333334, 0.5, 0.4166666666666667, 0.5833333333333334, 0.4166666666666667, 0.4166666666666667, 0.5833333333333334, 0.4166666666666667, 0.5, 0.3333333333333333, 0.6666666666666666, 0.25, 0.6666666666666666, 0.5, 0.5833333333333334, 0.75, 0.5833333333333334, 0.4166666666666667, 0.5833333333333334, 0.5833333333333334, 0.75, 0.25, 0.3333333333333333, 0.3333333333333333, 0.3333333333333333, 0.5833333333333334, 0.6666666666666666, 0.5833333333333334, 0.75, 0.5833333333333334, 0.5, 0.25, 0.6666666666666666, 0.6666666666666666, 0.4166666666666667, 0.75, 0.25, 0.16666666666666666, 0.5, 0.5, 0.5, 0.5, 0.4166666666666667, 0.6666666666666666, 0.16666666666666666, 0.4166666666666667, 0.3333333333333333, 0.4166666666666667, 0.3333333333333333, 0.3333333333333333, 0.25, 0.5833333333333334, 0.4166666666666667]\n"
          ],
          "name": "stdout"
        }
      ]
    },
    {
      "cell_type": "code",
      "metadata": {
        "id": "rfeA06evOT2K",
        "colab_type": "code",
        "outputId": "127bc9c1-1be2-40fc-d540-f25a4e7d3898",
        "colab": {
          "base_uri": "https://localhost:8080/",
          "height": 198
        }
      },
      "source": [
        "df = pd.DataFrame({'single_sample': one_sample})\n",
        "df.head()"
      ],
      "execution_count": 27,
      "outputs": [
        {
          "output_type": "execute_result",
          "data": {
            "text/html": [
              "<div>\n",
              "<style scoped>\n",
              "    .dataframe tbody tr th:only-of-type {\n",
              "        vertical-align: middle;\n",
              "    }\n",
              "\n",
              "    .dataframe tbody tr th {\n",
              "        vertical-align: top;\n",
              "    }\n",
              "\n",
              "    .dataframe thead th {\n",
              "        text-align: right;\n",
              "    }\n",
              "</style>\n",
              "<table border=\"1\" class=\"dataframe\">\n",
              "  <thead>\n",
              "    <tr style=\"text-align: right;\">\n",
              "      <th></th>\n",
              "      <th>single_sample</th>\n",
              "    </tr>\n",
              "  </thead>\n",
              "  <tbody>\n",
              "    <tr>\n",
              "      <th>0</th>\n",
              "      <td>1</td>\n",
              "    </tr>\n",
              "    <tr>\n",
              "      <th>1</th>\n",
              "      <td>0</td>\n",
              "    </tr>\n",
              "    <tr>\n",
              "      <th>2</th>\n",
              "      <td>0</td>\n",
              "    </tr>\n",
              "    <tr>\n",
              "      <th>3</th>\n",
              "      <td>1</td>\n",
              "    </tr>\n",
              "    <tr>\n",
              "      <th>4</th>\n",
              "      <td>1</td>\n",
              "    </tr>\n",
              "  </tbody>\n",
              "</table>\n",
              "</div>"
            ],
            "text/plain": [
              "   single_sample\n",
              "0              1\n",
              "1              0\n",
              "2              0\n",
              "3              1\n",
              "4              1"
            ]
          },
          "metadata": {
            "tags": []
          },
          "execution_count": 27
        }
      ]
    },
    {
      "cell_type": "code",
      "metadata": {
        "id": "GlMSNFX6OmBV",
        "colab_type": "code",
        "outputId": "748141e1-b0e8-44a8-ee15-12dca179feb7",
        "colab": {
          "base_uri": "https://localhost:8080/",
          "height": 265
        }
      },
      "source": [
        "df.single_sample.hist();"
      ],
      "execution_count": 28,
      "outputs": [
        {
          "output_type": "display_data",
          "data": {
            "image/png": "[encoded data removed]",
            "text/plain": [
              "<Figure size 432x288 with 1 Axes>"
            ]
          },
          "metadata": {
            "tags": []
          }
        }
      ]
    },
    {
      "cell_type": "code",
      "metadata": {
        "id": "Jie4ypgLOs5M",
        "colab_type": "code",
        "outputId": "a58c1ab8-4308-48fc-86d4-69a60a5cb927",
        "colab": {
          "base_uri": "https://localhost:8080/",
          "height": 296
        }
      },
      "source": [
        "ax = plt.hist(sample_means, bins=13)\n",
        "plt.title('Distribution of 3000 sample means \\n (of 12 coinflips each)');"
      ],
      "execution_count": 30,
      "outputs": [
        {
          "output_type": "display_data",
          "data": {
            "image/png": "[encoded data removed]",
            "text/plain": [
              "<Figure size 432x288 with 1 Axes>"
            ]
          },
          "metadata": {
            "tags": []
          }
        }
      ]
    },
    {
      "cell_type": "markdown",
      "metadata": {
        "id": "LsEAjc4rOylm",
        "colab_type": "text"
      },
      "source": [
        "What does the Central Limit Theorem State? That no matter the initial distribution of the population, the distribution of sample means taken will approximate a normal distribution as $n \\rightarrow \\infty$.\n",
        "\n",
        "This has very important implications for hypothesis testing and is precisely the reason why the t-distribution begins to approximate the normal distribution as our sample size increases. "
      ]
    },
    {
      "cell_type": "code",
      "metadata": {
        "id": "F15l-J788ApQ",
        "colab_type": "code",
        "outputId": "c171e5a4-dce0-4dc3-a530-72046a615be6",
        "colab": {
          "base_uri": "https://localhost:8080/",
          "height": 74
        }
      },
      "source": [
        "sample_means_small = []\n",
        "sample_means_large = []\n",
        "for x in range(0,3000):\n",
        "  coinflips_small = np.random.binomial(n=1, p=.5, size=20)\n",
        "  coinflips_large = np.random.binomial(n=1, p=.5, size=100)\n",
        "  one_small_sample = coinflips_small\n",
        "  one_small_large = coinflips_large\n",
        "  sample_means_small.append(coinflips_small.mean())\n",
        "  sample_means_large.append(coinflips_large.mean())\n",
        "\n",
        "print(len(sample_means_small))\n",
        "print(sample_means_small)"
      ],
      "execution_count": 31,
      "outputs": [
        {
          "output_type": "stream",
          "text": [
            "3000\n",
            "[0.45, 0.55, 0.5, 0.6, 0.7, 0.35, 0.4, 0.6, 0.6, 0.6, 0.35, 0.45, 0.6, 0.35, 0.25, 0.6, 0.3, 0.5, 0.75, 0.35, 0.5, 0.55, 0.55, 0.55, 0.5, 0.55, 0.45, 0.4, 0.5, 0.6, 0.6, 0.55, 0.55, 0.4, 0.2, 0.6, 0.75, 0.5, 0.45, 0.4, 0.55, 0.65, 0.35, 0.45, 0.6, 0.35, 0.55, 0.5, 0.6, 0.65, 0.45, 0.5, 0.3, 0.45, 0.3, 0.6, 0.65, 0.5, 0.5, 0.5, 0.5, 0.4, 0.6, 0.45, 0.45, 0.55, 0.5, 0.4, 0.35, 0.45, 0.4, 0.6, 0.25, 0.5, 0.7, 0.55, 0.5, 0.45, 0.5, 0.5, 0.55, 0.4, 0.7, 0.6, 0.45, 0.7, 0.35, 0.6, 0.6, 0.6, 0.55, 0.65, 0.45, 0.55, 0.4, 0.65, 0.5, 0.7, 0.6, 0.45, 0.45, 0.45, 0.6, 0.7, 0.45, 0.45, 0.55, 0.45, 0.35, 0.6, 0.6, 0.4, 0.6, 0.5, 0.45, 0.3, 0.45, 0.3, 0.5, 0.5, 0.5, 0.4, 0.6, 0.5, 0.5, 0.4, 0.45, 0.55, 0.6, 0.4, 0.4, 0.55, 0.5, 0.6, 0.5, 0.6, 0.3, 0.55, 0.6, 0.65, 0.4, 0.6, 0.45, 0.45, 0.35, 0.4, 0.3, 0.35, 0.5, 0.45, 0.35, 0.6, 0.5, 0.45, 0.5, 0.4, 0.45, 0.25, 0.65, 0.45, 0.5, 0.6, 0.6, 0.4, 0.5, 0.45, 0.35, 0.4, 0.6, 0.45, 0.6, 0.55, 0.5, 0.65, 0.7, 0.5, 0.75, 0.55, 0.45, 0.3, 0.4, 0.6, 0.4, 0.6, 0.65, 0.6, 0.3, 0.35, 0.55, 0.5, 0.55, 0.6, 0.45, 0.5, 0.4, 0.55, 0.6, 0.45, 0.4, 0.6, 0.55, 0.35, 0.7, 0.5, 0.5, 0.35, 0.35, 0.7, 0.5, 0.4, 0.6, 0.6, 0.45, 0.4, 0.45, 0.5, 0.45, 0.45, 0.45, 0.45, 0.3, 0.4, 0.6, 0.6, 0.55, 0.45, 0.55, 0.5, 0.45, 0.45, 0.6, 0.6, 0.65, 0.3, 0.45, 0.5, 0.5, 0.55, 0.5, 0.4, 0.65, 0.55, 0.6, 0.4, 0.5, 0.55, 0.5, 0.45, 0.4, 0.5, 0.45, 0.45, 0.4, 0.45, 0.45, 0.45, 0.6, 0.5, 0.5, 0.5, 0.6, 0.75, 0.5, 0.55, 0.45, 0.55, 0.55, 0.55, 0.45, 0.55, 0.45, 0.4, 0.65, 0.6, 0.7, 0.5, 0.4, 0.55, 0.55, 0.6, 0.45, 0.5, 0.5, 0.45, 0.45, 0.6, 0.4, 0.5, 0.65, 0.55, 0.45, 0.4, 0.45, 0.5, 0.7, 0.7, 0.7, 0.45, 0.7, 0.6, 0.55, 0.55, 0.45, 0.55, 0.45, 0.45, 0.5, 0.5, 0.65, 0.6, 0.45, 0.45, 0.6, 0.35, 0.45, 0.5, 0.45, 0.55, 0.5, 0.5, 0.55, 0.6, 0.4, 0.6, 0.7, 0.75, 0.45, 0.6, 0.4, 0.3, 0.5, 0.35, 0.5, 0.75, 0.55, 0.35, 0.5, 0.35, 0.25, 0.55, 0.5, 0.55, 0.55, 0.55, 0.4, 0.5, 0.65, 0.5, 0.5, 0.45, 0.65, 0.5, 0.55, 0.35, 0.55, 0.4, 0.4, 0.55, 0.45, 0.4, 0.35, 0.5, 0.5, 0.35, 0.5, 0.6, 0.45, 0.35, 0.55, 0.4, 0.3, 0.5, 0.5, 0.5, 0.45, 0.6, 0.55, 0.7, 0.5, 0.4, 0.5, 0.55, 0.65, 0.45, 0.6, 0.5, 0.65, 0.5, 0.4, 0.5, 0.25, 0.7, 0.4, 0.65, 0.55, 0.45, 0.65, 0.45, 0.4, 0.45, 0.65, 0.5, 0.6, 0.45, 0.55, 0.7, 0.6, 0.5, 0.75, 0.35, 0.4, 0.45, 0.4, 0.7, 0.5, 0.6, 0.5, 0.6, 0.5, 0.4, 0.65, 0.45, 0.4, 0.4, 0.6, 0.6, 0.4, 0.45, 0.55, 0.3, 0.5, 0.65, 0.35, 0.4, 0.5, 0.5, 0.4, 0.7, 0.75, 0.5, 0.35, 0.7, 0.5, 0.5, 0.7, 0.7, 0.6, 0.6, 0.45, 0.7, 0.4, 0.7, 0.4, 0.35, 0.5, 0.55, 0.6, 0.55, 0.55, 0.5, 0.45, 0.4, 0.4, 0.5, 0.45, 0.5, 0.5, 0.7, 0.4, 0.55, 0.55, 0.55, 0.7, 0.45, 0.5, 0.55, 0.6, 0.5, 0.5, 0.6, 0.75, 0.3, 0.45, 0.7, 0.2, 0.3, 0.6, 0.5, 0.8, 0.3, 0.55, 0.35, 0.6, 0.75, 0.4, 0.7, 0.45, 0.6, 0.3, 0.55, 0.5, 0.55, 0.4, 0.45, 0.45, 0.6, 0.45, 0.4, 0.6, 0.6, 0.45, 0.6, 0.65, 0.4, 0.6, 0.55, 0.6, 0.55, 0.45, 0.6, 0.4, 0.35, 0.4, 0.65, 0.7, 0.55, 0.45, 0.65, 0.45, 0.6, 0.5, 0.45, 0.55, 0.7, 0.75, 0.45, 0.45, 0.45, 0.5, 0.75, 0.55, 0.5, 0.4, 0.55, 0.45, 0.4, 0.35, 0.65, 0.3, 0.5, 0.3, 0.45, 0.6, 0.45, 0.6, 0.3, 0.6, 0.55, 0.45, 0.45, 0.5, 0.55, 0.65, 0.5, 0.55, 0.4, 0.4, 0.7, 0.4, 0.45, 0.5, 0.4, 0.5, 0.4, 0.55, 0.65, 0.6, 0.25, 0.6, 0.45, 0.6, 0.6, 0.4, 0.7, 0.65, 0.7, 0.4, 0.45, 0.45, 0.4, 0.55, 0.5, 0.55, 0.65, 0.3, 0.45, 0.45, 0.4, 0.55, 0.6, 0.4, 0.55, 0.6, 0.35, 0.65, 0.5, 0.35, 0.75, 0.65, 0.45, 0.35, 0.6, 0.45, 0.35, 0.45, 0.5, 0.3, 0.7, 0.45, 0.45, 0.7, 0.4, 0.7, 0.4, 0.45, 0.5, 0.5, 0.65, 0.45, 0.45, 0.55, 0.5, 0.55, 0.45, 0.55, 0.45, 0.65, 0.4, 0.55, 0.4, 0.4, 0.5, 0.35, 0.55, 0.4, 0.4, 0.65, 0.65, 0.55, 0.4, 0.5, 0.75, 0.5, 0.45, 0.5, 0.4, 0.6, 0.4, 0.65, 0.5, 0.35, 0.65, 0.45, 0.3, 0.5, 0.35, 0.6, 0.45, 0.55, 0.5, 0.3, 0.6, 0.45, 0.5, 0.4, 0.35, 0.45, 0.3, 0.3, 0.55, 0.55, 0.75, 0.45, 0.6, 0.35, 0.55, 0.6, 0.25, 0.4, 0.6, 0.25, 0.6, 0.6, 0.45, 0.75, 0.65, 0.5, 0.45, 0.3, 0.5, 0.45, 0.4, 0.45, 0.5, 0.55, 0.45, 0.35, 0.55, 0.65, 0.4, 0.55, 0.3, 0.4, 0.45, 0.55, 0.45, 0.45, 0.5, 0.45, 0.65, 0.6, 0.5, 0.5, 0.55, 0.35, 0.35, 0.6, 0.5, 0.5, 0.5, 0.65, 0.5, 0.45, 0.45, 0.4, 0.5, 0.55, 0.5, 0.5, 0.25, 0.5, 0.55, 0.4, 0.4, 0.35, 0.5, 0.45, 0.5, 0.55, 0.35, 0.4, 0.45, 0.35, 0.35, 0.55, 0.5, 0.5, 0.6, 0.5, 0.65, 0.55, 0.45, 0.4, 0.55, 0.4, 0.45, 0.65, 0.5, 0.55, 0.5, 0.55, 0.35, 0.45, 0.45, 0.45, 0.45, 0.6, 0.75, 0.5, 0.55, 0.55, 0.6, 0.55, 0.5, 0.65, 0.4, 0.6, 0.45, 0.45, 0.55, 0.5, 0.5, 0.5, 0.4, 0.6, 0.6, 0.6, 0.65, 0.5, 0.5, 0.7, 0.55, 0.55, 0.45, 0.35, 0.5, 0.6, 0.55, 0.65, 0.35, 0.45, 0.4, 0.35, 0.4, 0.45, 0.5, 0.4, 0.6, 0.25, 0.35, 0.45, 0.65, 0.35, 0.55, 0.5, 0.45, 0.35, 0.45, 0.45, 0.4, 0.45, 0.55, 0.55, 0.6, 0.7, 0.45, 0.65, 0.4, 0.4, 0.35, 0.75, 0.6, 0.45, 0.25, 0.6, 0.55, 0.5, 0.5, 0.6, 0.4, 0.4, 0.7, 0.15, 0.4, 0.45, 0.5, 0.6, 0.6, 0.2, 0.5, 0.55, 0.55, 0.55, 0.6, 0.55, 0.5, 0.55, 0.55, 0.55, 0.7, 0.5, 0.75, 0.4, 0.5, 0.45, 0.5, 0.6, 0.45, 0.3, 0.4, 0.45, 0.65, 0.4, 0.55, 0.65, 0.5, 0.6, 0.45, 0.6, 0.6, 0.4, 0.55, 0.55, 0.8, 0.45, 0.45, 0.75, 0.45, 0.35, 0.3, 0.45, 0.35, 0.25, 0.55, 0.5, 0.3, 0.5, 0.35, 0.45, 0.45, 0.4, 0.55, 0.4, 0.45, 0.5, 0.3, 0.3, 0.4, 0.65, 0.45, 0.5, 0.35, 0.4, 0.6, 0.45, 0.6, 0.65, 0.35, 0.6, 0.35, 0.5, 0.55, 0.4, 0.4, 0.4, 0.65, 0.45, 0.4, 0.5, 0.45, 0.3, 0.45, 0.7, 0.4, 0.35, 0.6, 0.5, 0.55, 0.65, 0.35, 0.65, 0.5, 0.55, 0.4, 0.5, 0.4, 0.45, 0.5, 0.35, 0.55, 0.35, 0.5, 0.4, 0.45, 0.6, 0.45, 0.4, 0.6, 0.45, 0.5, 0.5, 0.5, 0.4, 0.5, 0.35, 0.65, 0.55, 0.75, 0.4, 0.55, 0.8, 0.55, 0.4, 0.65, 0.5, 0.4, 0.7, 0.3, 0.6, 0.45, 0.6, 0.55, 0.45, 0.55, 0.65, 0.45, 0.35, 0.55, 0.4, 0.5, 0.45, 0.5, 0.6, 0.65, 0.45, 0.6, 0.5, 0.55, 0.6, 0.4, 0.5, 0.15, 0.5, 0.55, 0.4, 0.2, 0.65, 0.3, 0.35, 0.5, 0.65, 0.65, 0.55, 0.65, 0.55, 0.5, 0.4, 0.5, 0.45, 0.5, 0.4, 0.5, 0.65, 0.45, 0.45, 0.55, 0.55, 0.35, 0.5, 0.6, 0.55, 0.5, 0.6, 0.5, 0.6, 0.65, 0.5, 0.65, 0.7, 0.45, 0.35, 0.5, 0.5, 0.65, 0.5, 0.45, 0.5, 0.6, 0.6, 0.6, 0.5, 0.4, 0.55, 0.45, 0.45, 0.6, 0.4, 0.65, 0.5, 0.35, 0.55, 0.5, 0.45, 0.6, 0.3, 0.5, 0.6, 0.55, 0.55, 0.5, 0.55, 0.6, 0.5, 0.4, 0.55, 0.3, 0.35, 0.5, 0.35, 0.5, 0.4, 0.5, 0.35, 0.5, 0.5, 0.45, 0.6, 0.65, 0.55, 0.6, 0.25, 0.65, 0.45, 0.4, 0.5, 0.4, 0.45, 0.45, 0.5, 0.55, 0.4, 0.65, 0.45, 0.55, 0.65, 0.4, 0.6, 0.4, 0.7, 0.75, 0.45, 0.3, 0.55, 0.35, 0.3, 0.65, 0.45, 0.6, 0.45, 0.5, 0.5, 0.45, 0.5, 0.45, 0.65, 0.5, 0.55, 0.55, 0.5, 0.45, 0.35, 0.55, 0.55, 0.5, 0.45, 0.45, 0.45, 0.5, 0.7, 0.65, 0.55, 0.35, 0.55, 0.4, 0.6, 0.55, 0.4, 0.6, 0.6, 0.55, 0.4, 0.35, 0.5, 0.65, 0.4, 0.4, 0.6, 0.65, 0.45, 0.65, 0.5, 0.5, 0.5, 0.55, 0.65, 0.45, 0.6, 0.35, 0.45, 0.5, 0.4, 0.35, 0.5, 0.45, 0.45, 0.4, 0.45, 0.4, 0.25, 0.5, 0.55, 0.45, 0.6, 0.35, 0.5, 0.4, 0.45, 0.45, 0.55, 0.7, 0.65, 0.3, 0.45, 0.45, 0.35, 0.55, 0.4, 0.85, 0.35, 0.5, 0.55, 0.35, 0.5, 0.45, 0.5, 0.35, 0.4, 0.35, 0.45, 0.55, 0.55, 0.55, 0.4, 0.5, 0.4, 0.35, 0.5, 0.55, 0.4, 0.35, 0.6, 0.5, 0.5, 0.35, 0.45, 0.45, 0.6, 0.6, 0.55, 0.65, 0.5, 0.45, 0.55, 0.4, 0.85, 0.55, 0.55, 0.5, 0.5, 0.4, 0.6, 0.6, 0.4, 0.5, 0.7, 0.55, 0.5, 0.4, 0.4, 0.75, 0.7, 0.6, 0.6, 0.45, 0.65, 0.45, 0.45, 0.35, 0.55, 0.55, 0.35, 0.65, 0.45, 0.3, 0.6, 0.55, 0.65, 0.5, 0.5, 0.5, 0.6, 0.35, 0.25, 0.45, 0.6, 0.35, 0.4, 0.4, 0.4, 0.45, 0.4, 0.45, 0.45, 0.5, 0.45, 0.6, 0.6, 0.5, 0.3, 0.6, 0.4, 0.25, 0.6, 0.55, 0.55, 0.5, 0.55, 0.4, 0.7, 0.55, 0.45, 0.55, 0.6, 0.35, 0.65, 0.45, 0.55, 0.55, 0.5, 0.5, 0.55, 0.3, 0.7, 0.55, 0.7, 0.45, 0.45, 0.65, 0.35, 0.6, 0.45, 0.6, 0.45, 0.35, 0.5, 0.5, 0.3, 0.6, 0.35, 0.4, 0.5, 0.5, 0.75, 0.6, 0.2, 0.3, 0.5, 0.5, 0.55, 0.5, 0.5, 0.5, 0.45, 0.7, 0.4, 0.35, 0.6, 0.45, 0.6, 0.6, 0.4, 0.45, 0.55, 0.6, 0.35, 0.55, 0.3, 0.3, 0.6, 0.6, 0.4, 0.6, 0.5, 0.5, 0.45, 0.4, 0.55, 0.4, 0.25, 0.3, 0.45, 0.35, 0.4, 0.65, 0.4, 0.5, 0.75, 0.7, 0.75, 0.65, 0.4, 0.4, 0.5, 0.45, 0.45, 0.4, 0.6, 0.35, 0.5, 0.45, 0.4, 0.6, 0.4, 0.5, 0.5, 0.3, 0.5, 0.65, 0.5, 0.55, 0.35, 0.7, 0.55, 0.4, 0.4, 0.8, 0.5, 0.4, 0.55, 0.6, 0.45, 0.55, 0.35, 0.45, 0.7, 0.65, 0.7, 0.35, 0.45, 0.3, 0.6, 0.45, 0.45, 0.5, 0.55, 0.5, 0.5, 0.35, 0.45, 0.4, 0.45, 0.4, 0.35, 0.25, 0.5, 0.45, 0.4, 0.45, 0.5, 0.4, 0.4, 0.6, 0.7, 0.45, 0.5, 0.45, 0.65, 0.35, 0.4, 0.4, 0.3, 0.4, 0.7, 0.5, 0.6, 0.8, 0.65, 0.55, 0.5, 0.7, 0.55, 0.3, 0.5, 0.35, 0.55, 0.4, 0.45, 0.6, 0.6, 0.5, 0.5, 0.55, 0.5, 0.5, 0.5, 0.5, 0.45, 0.75, 0.5, 0.55, 0.75, 0.45, 0.65, 0.6, 0.5, 0.45, 0.6, 0.3, 0.5, 0.45, 0.45, 0.35, 0.55, 0.35, 0.55, 0.5, 0.35, 0.6, 0.4, 0.4, 0.5, 0.4, 0.55, 0.55, 0.35, 0.4, 0.3, 0.4, 0.45, 0.4, 0.7, 0.5, 0.5, 0.7, 0.35, 0.55, 0.6, 0.7, 0.45, 0.5, 0.5, 0.6, 0.55, 0.6, 0.75, 0.55, 0.45, 0.6, 0.65, 0.5, 0.5, 0.55, 0.6, 0.45, 0.35, 0.7, 0.7, 0.4, 0.5, 0.55, 0.4, 0.35, 0.5, 0.6, 0.55, 0.4, 0.5, 0.3, 0.4, 0.65, 0.45, 0.5, 0.65, 0.5, 0.65, 0.6, 0.4, 0.5, 0.35, 0.55, 0.4, 0.4, 0.35, 0.4, 0.45, 0.4, 0.4, 0.5, 0.35, 0.55, 0.45, 0.7, 0.55, 0.4, 0.35, 0.5, 0.4, 0.35, 0.65, 0.55, 0.55, 0.55, 0.4, 0.55, 0.75, 0.55, 0.6, 0.35, 0.4, 0.4, 0.3, 0.55, 0.5, 0.5, 0.6, 0.55, 0.45, 0.5, 0.55, 0.6, 0.55, 0.65, 0.6, 0.45, 0.55, 0.65, 0.6, 0.65, 0.35, 0.45, 0.45, 0.65, 0.65, 0.3, 0.4, 0.7, 0.6, 0.55, 0.5, 0.65, 0.5, 0.65, 0.45, 0.5, 0.6, 0.35, 0.5, 0.8, 0.3, 0.4, 0.45, 0.5, 0.5, 0.35, 0.4, 0.3, 0.35, 0.5, 0.3, 0.65, 0.55, 0.4, 0.4, 0.45, 0.4, 0.5, 0.6, 0.45, 0.45, 0.6, 0.6, 0.6, 0.5, 0.45, 0.5, 0.5, 0.55, 0.5, 0.4, 0.65, 0.5, 0.45, 0.45, 0.45, 0.55, 0.55, 0.5, 0.6, 0.6, 0.55, 0.45, 0.4, 0.6, 0.65, 0.6, 0.6, 0.6, 0.6, 0.65, 0.6, 0.7, 0.55, 0.65, 0.5, 0.7, 0.6, 0.3, 0.65, 0.5, 0.4, 0.65, 0.6, 0.45, 0.65, 0.35, 0.45, 0.4, 0.5, 0.3, 0.5, 0.5, 0.25, 0.3, 0.7, 0.35, 0.5, 0.6, 0.5, 0.5, 0.55, 0.5, 0.35, 0.65, 0.6, 0.6, 0.5, 0.5, 0.6, 0.35, 0.6, 0.7, 0.55, 0.6, 0.5, 0.4, 0.5, 0.45, 0.65, 0.6, 0.55, 0.65, 0.45, 0.5, 0.4, 0.5, 0.55, 0.5, 0.5, 0.45, 0.7, 0.55, 0.5, 0.55, 0.55, 0.4, 0.45, 0.65, 0.4, 0.6, 0.4, 0.55, 0.6, 0.5, 0.55, 0.7, 0.4, 0.5, 0.5, 0.25, 0.55, 0.55, 0.5, 0.45, 0.35, 0.35, 0.5, 0.45, 0.45, 0.55, 0.4, 0.3, 0.6, 0.3, 0.45, 0.6, 0.5, 0.6, 0.6, 0.45, 0.8, 0.65, 0.45, 0.6, 0.5, 0.55, 0.65, 0.6, 0.45, 0.5, 0.55, 0.55, 0.55, 0.45, 0.3, 0.4, 0.65, 0.6, 0.45, 0.55, 0.6, 0.65, 0.45, 0.75, 0.6, 0.55, 0.7, 0.35, 0.45, 0.55, 0.55, 0.35, 0.5, 0.3, 0.65, 0.65, 0.5, 0.5, 0.65, 0.7, 0.5, 0.5, 0.4, 0.6, 0.75, 0.3, 0.55, 0.45, 0.6, 0.5, 0.45, 0.5, 0.5, 0.55, 0.55, 0.6, 0.45, 0.45, 0.5, 0.45, 0.6, 0.65, 0.4, 0.4, 0.55, 0.35, 0.45, 0.55, 0.5, 0.45, 0.6, 0.3, 0.6, 0.55, 0.45, 0.3, 0.65, 0.35, 0.5, 0.55, 0.65, 0.55, 0.3, 0.5, 0.4, 0.45, 0.5, 0.55, 0.45, 0.35, 0.6, 0.55, 0.65, 0.55, 0.55, 0.55, 0.55, 0.5, 0.45, 0.6, 0.55, 0.45, 0.55, 0.5, 0.25, 0.7, 0.5, 0.45, 0.45, 0.55, 0.55, 0.55, 0.6, 0.5, 0.5, 0.65, 0.3, 0.7, 0.55, 0.6, 0.65, 0.45, 0.55, 0.45, 0.35, 0.35, 0.4, 0.5, 0.5, 0.45, 0.45, 0.6, 0.6, 0.65, 0.4, 0.65, 0.65, 0.4, 0.6, 0.5, 0.45, 0.3, 0.45, 0.5, 0.2, 0.6, 0.3, 0.5, 0.5, 0.4, 0.7, 0.55, 0.5, 0.55, 0.5, 0.4, 0.55, 0.6, 0.35, 0.6, 0.6, 0.5, 0.55, 0.6, 0.4, 0.45, 0.55, 0.55, 0.6, 0.65, 0.75, 0.5, 0.55, 0.6, 0.45, 0.4, 0.45, 0.35, 0.5, 0.5, 0.5, 0.65, 0.55, 0.45, 0.4, 0.2, 0.6, 0.2, 0.5, 0.4, 0.65, 0.4, 0.4, 0.5, 0.4, 0.7, 0.4, 0.6, 0.6, 0.45, 0.55, 0.45, 0.45, 0.7, 0.4, 0.6, 0.55, 0.4, 0.6, 0.55, 0.55, 0.4, 0.45, 0.5, 0.35, 0.35, 0.35, 0.45, 0.6, 0.45, 0.4, 0.35, 0.55, 0.5, 0.45, 0.45, 0.65, 0.3, 0.5, 0.65, 0.55, 0.55, 0.4, 0.55, 0.4, 0.35, 0.4, 0.45, 0.55, 0.8, 0.55, 0.4, 0.65, 0.65, 0.5, 0.4, 0.4, 0.55, 0.35, 0.65, 0.45, 0.55, 0.65, 0.4, 0.45, 0.5, 0.45, 0.4, 0.55, 0.4, 0.25, 0.5, 0.4, 0.35, 0.4, 0.5, 0.5, 0.55, 0.6, 0.7, 0.5, 0.45, 0.35, 0.6, 0.4, 0.45, 0.65, 0.15, 0.55, 0.45, 0.55, 0.55, 0.55, 0.65, 0.6, 0.55, 0.6, 0.6, 0.6, 0.35, 0.7, 0.7, 0.5, 0.65, 0.65, 0.6, 0.65, 0.7, 0.45, 0.6, 0.4, 0.4, 0.5, 0.5, 0.55, 0.5, 0.55, 0.55, 0.3, 0.5, 0.45, 0.3, 0.5, 0.35, 0.25, 0.5, 0.5, 0.65, 0.6, 0.5, 0.65, 0.3, 0.55, 0.45, 0.4, 0.5, 0.45, 0.45, 0.5, 0.4, 0.35, 0.55, 0.4, 0.55, 0.6, 0.55, 0.35, 0.35, 0.45, 0.35, 0.4, 0.5, 0.35, 0.6, 0.5, 0.55, 0.55, 0.55, 0.5, 0.2, 0.3, 0.55, 0.6, 0.7, 0.7, 0.55, 0.5, 0.55, 0.4, 0.55, 0.5, 0.7, 0.6, 0.6, 0.5, 0.2, 0.55, 0.75, 0.8, 0.6, 0.7, 0.55, 0.6, 0.75, 0.5, 0.5, 0.45, 0.5, 0.6, 0.45, 0.5, 0.65, 0.45, 0.55, 0.5, 0.6, 0.65, 0.55, 0.65, 0.4, 0.3, 0.55, 0.4, 0.4, 0.65, 0.5, 0.45, 0.55, 0.5, 0.4, 0.45, 0.35, 0.4, 0.5, 0.6, 0.25, 0.5, 0.55, 0.6, 0.55, 0.65, 0.35, 0.35, 0.55, 0.5, 0.6, 0.6, 0.45, 0.5, 0.6, 0.5, 0.45, 0.65, 0.45, 0.6, 0.4, 0.25, 0.6, 0.5, 0.55, 0.35, 0.6, 0.55, 0.55, 0.55, 0.45, 0.55, 0.55, 0.45, 0.4, 0.55, 0.45, 0.45, 0.6, 0.5, 0.35, 0.45, 0.45, 0.5, 0.5, 0.5, 0.4, 0.3, 0.4, 0.8, 0.6, 0.7, 0.65, 0.5, 0.45, 0.45, 0.55, 0.4, 0.45, 0.35, 0.3, 0.5, 0.55, 0.25, 0.55, 0.45, 0.5, 0.6, 0.45, 0.3, 0.45, 0.6, 0.65, 0.5, 0.35, 0.45, 0.45, 0.55, 0.45, 0.25, 0.55, 0.45, 0.3, 0.4, 0.5, 0.3, 0.35, 0.5, 0.35, 0.45, 0.6, 0.5, 0.45, 0.65, 0.35, 0.45, 0.4, 0.25, 0.6, 0.3, 0.5, 0.4, 0.3, 0.55, 0.6, 0.45, 0.25, 0.35, 0.5, 0.55, 0.5, 0.6, 0.45, 0.55, 0.55, 0.5, 0.6, 0.7, 0.35, 0.6, 0.65, 0.4, 0.7, 0.55, 0.5, 0.35, 0.4, 0.75, 0.4, 0.35, 0.45, 0.4, 0.45, 0.5, 0.45, 0.6, 0.35, 0.55, 0.35, 0.25, 0.4, 0.8, 0.45, 0.65, 0.5, 0.5, 0.7, 0.4, 0.45, 0.55, 0.4, 0.5, 0.55, 0.45, 0.35, 0.55, 0.6, 0.45, 0.5, 0.4, 0.55, 0.7, 0.5, 0.45, 0.3, 0.5, 0.45, 0.45, 0.45, 0.5, 0.4, 0.6, 0.6, 0.55, 0.6, 0.45, 0.5, 0.7, 0.5, 0.55, 0.6, 0.65, 0.7, 0.45, 0.5, 0.55, 0.55, 0.5, 0.5, 0.65, 0.45, 0.4, 0.6, 0.6, 0.45, 0.5, 0.5, 0.3, 0.3, 0.5, 0.5, 0.45, 0.65, 0.55, 0.65, 0.5, 0.45, 0.45, 0.5, 0.65, 0.55, 0.55, 0.7, 0.45, 0.65, 0.55, 0.35, 0.45, 0.65, 0.5, 0.55, 0.5, 0.5, 0.45, 0.45, 0.35, 0.75, 0.55, 0.45, 0.3, 0.45, 0.3, 0.7, 0.45, 0.45, 0.4, 0.75, 0.4, 0.5, 0.45, 0.6, 0.4, 0.55, 0.4, 0.5, 0.4, 0.45, 0.5, 0.5, 0.55, 0.55, 0.75, 0.6, 0.5, 0.6, 0.6, 0.35, 0.3, 0.5, 0.65, 0.3, 0.55, 0.5, 0.65, 0.65, 0.55, 0.55, 0.55, 0.4, 0.65, 0.45, 0.35, 0.7, 0.55, 0.4, 0.65, 0.55, 0.5, 0.4, 0.7, 0.7, 0.4, 0.6, 0.65, 0.6, 0.55, 0.6, 0.6, 0.35, 0.55, 0.5, 0.5, 0.5, 0.65, 0.25, 0.5, 0.35, 0.6, 0.4, 0.55, 0.45, 0.4, 0.45, 0.8, 0.5, 0.65, 0.5, 0.55, 0.55, 0.5, 0.65, 0.35, 0.55, 0.5, 0.35, 0.75, 0.5, 0.4, 0.65, 0.35, 0.7, 0.5, 0.75, 0.45, 0.4, 0.5, 0.55, 0.4, 0.55, 0.5, 0.6, 0.55, 0.65, 0.4, 0.55, 0.4, 0.6, 0.4, 0.4, 0.55, 0.45, 0.55, 0.4, 0.55, 0.45, 0.5, 0.45, 0.55, 0.4, 0.6, 0.45, 0.55, 0.6, 0.7, 0.45, 0.65, 0.3, 0.45, 0.4, 0.45, 0.4, 0.3, 0.4, 0.45, 0.6, 0.6, 0.55, 0.45, 0.4, 0.65, 0.6, 0.4, 0.55, 0.55, 0.45, 0.65, 0.5, 0.7, 0.5, 0.4, 0.6, 0.6, 0.4, 0.7, 0.55, 0.4, 0.5, 0.65, 0.5, 0.45, 0.5, 0.5, 0.55, 0.55, 0.5, 0.5, 0.7, 0.7, 0.55, 0.35, 0.5, 0.45, 0.35, 0.4, 0.45, 0.45, 0.55, 0.6, 0.4, 0.55, 0.7, 0.6, 0.5, 0.45, 0.45, 0.5, 0.6, 0.5, 0.3, 0.7, 0.5, 0.4, 0.4, 0.25, 0.35, 0.65, 0.55, 0.5, 0.65, 0.45, 0.45, 0.55, 0.7, 0.4, 0.55, 0.4, 0.4, 0.4, 0.5, 0.45, 0.6, 0.25, 0.5, 0.55, 0.5, 0.6, 0.55, 0.6, 0.4, 0.5, 0.35, 0.65, 0.65, 0.55, 0.55, 0.55, 0.65, 0.4, 0.55, 0.65, 0.7, 0.65, 0.6, 0.45, 0.6, 0.5, 0.5, 0.55, 0.55, 0.5, 0.55, 0.7, 0.35, 0.5, 0.65, 0.55, 0.55, 0.4, 0.7, 0.3, 0.45, 0.55, 0.65, 0.5, 0.45, 0.7, 0.4, 0.55, 0.65, 0.55, 0.5, 0.55, 0.35, 0.5, 0.5, 0.5, 0.55, 0.55, 0.55, 0.4, 0.4, 0.4, 0.4, 0.5, 0.45, 0.45, 0.5, 0.65, 0.4, 0.5, 0.4, 0.7, 0.5, 0.4, 0.5, 0.5, 0.55, 0.5, 0.7, 0.55, 0.45, 0.45, 0.55, 0.55, 0.45, 0.55, 0.6, 0.55, 0.5, 0.45, 0.5, 0.55, 0.7, 0.6, 0.45, 0.5, 0.45, 0.25, 0.4, 0.75, 0.5, 0.55, 0.7, 0.45, 0.6, 0.4, 0.45, 0.45, 0.35, 0.65, 0.4, 0.35, 0.5, 0.7, 0.35, 0.35, 0.7, 0.6, 0.6, 0.5, 0.45, 0.35, 0.65, 0.4, 0.4, 0.7, 0.65, 0.4, 0.7, 0.25, 0.55, 0.35, 0.7, 0.5, 0.6, 0.3, 0.45, 0.55, 0.7, 0.45, 0.5, 0.35, 0.35, 0.4, 0.4, 0.45, 0.55, 0.55, 0.55, 0.6, 0.55, 0.6, 0.5, 0.4, 0.4, 0.55, 0.35, 0.5, 0.6, 0.4, 0.45, 0.6, 0.55, 0.55, 0.25, 0.4, 0.6, 0.45, 0.45, 0.55, 0.5, 0.45, 0.6, 0.45, 0.7, 0.5, 0.55, 0.65, 0.65, 0.6, 0.4, 0.45, 0.5, 0.45, 0.55, 0.45, 0.65, 0.3, 0.7, 0.45, 0.6, 0.6, 0.45, 0.4, 0.4, 0.35, 0.4, 0.65, 0.4, 0.4, 0.55, 0.55, 0.4, 0.45, 0.4, 0.5, 0.55, 0.6, 0.4, 0.55, 0.45, 0.55, 0.35, 0.45, 0.7, 0.5, 0.55, 0.35, 0.65, 0.5, 0.5, 0.45, 0.35, 0.35, 0.2, 0.4, 0.6, 0.6, 0.5, 0.45, 0.65, 0.55, 0.6, 0.45, 0.45, 0.6, 0.55, 0.55, 0.55, 0.5, 0.55, 0.4, 0.65, 0.6, 0.5, 0.45, 0.5, 0.45, 0.45, 0.3, 0.45, 0.7, 0.45, 0.3, 0.3, 0.65, 0.35, 0.4, 0.45, 0.4, 0.55, 0.5, 0.6, 0.4, 0.6, 0.35, 0.45, 0.55, 0.65, 0.6, 0.6, 0.35, 0.4, 0.65, 0.55, 0.55, 0.6, 0.5, 0.5, 0.35, 0.55, 0.45, 0.5, 0.3, 0.45, 0.55, 0.25, 0.45, 0.5, 0.5, 0.45, 0.45, 0.35, 0.45, 0.25, 0.6, 0.55, 0.45, 0.4, 0.6, 0.3, 0.45, 0.6, 0.4, 0.55, 0.5, 0.5, 0.45, 0.55, 0.6, 0.55, 0.55, 0.4, 0.55, 0.5, 0.35, 0.65, 0.65, 0.5, 0.5, 0.5, 0.5, 0.5, 0.7, 0.55, 0.55, 0.65, 0.35, 0.3, 0.65, 0.7, 0.55, 0.6, 0.45, 0.55, 0.7, 0.5, 0.55, 0.45, 0.55, 0.35, 0.45, 0.55, 0.55, 0.5, 0.45, 0.25, 0.35, 0.55, 0.4, 0.6, 0.4, 0.4, 0.4, 0.5, 0.4, 0.85, 0.4, 0.4, 0.35, 0.4, 0.5, 0.65, 0.6, 0.6, 0.7]\n"
          ],
          "name": "stdout"
        }
      ]
    },
    {
      "cell_type": "code",
      "metadata": {
        "colab_type": "code",
        "outputId": "f14eb41f-8a9d-4265-ea62-76349e6962da",
        "id": "JdES8jXz8kAG",
        "colab": {
          "base_uri": "https://localhost:8080/",
          "height": 265
        }
      },
      "source": [
        "import matplotlib.pyplot as plt\n",
        "import seaborn as sns\n",
        "fix, ax = plt.subplots()\n",
        "for sample in [sample_means_small, sample_means_large]:\n",
        "  sns.distplot(sample)"
      ],
      "execution_count": 32,
      "outputs": [
        {
          "output_type": "display_data",
          "data": {
            "image/png": "[encoded data removed]",
            "text/plain": [
              "<Figure size 432x288 with 1 Axes>"
            ]
          },
          "metadata": {
            "tags": []
          }
        }
      ]
    },
    {
      "cell_type": "markdown",
      "metadata": {
        "id": "voO70IZAkjgt",
        "colab_type": "text"
      },
      "source": [
        "The standard error describes how precisely I'm estimating this population parameter with this sample statistic. "
      ]
    },
    {
      "cell_type": "markdown",
      "metadata": {
        "id": "EYqo5vZZSFUr",
        "colab_type": "text"
      },
      "source": [
        "## Standard Error of the Mean\n",
        "\n",
        "What does it mean to \"estimate\" the Population mean?"
      ]
    },
    {
      "cell_type": "code",
      "metadata": {
        "id": "puGXH6vbSIE4",
        "colab_type": "code",
        "colab": {}
      },
      "source": [
        ""
      ],
      "execution_count": 0,
      "outputs": []
    },
    {
      "cell_type": "markdown",
      "metadata": {
        "id": "nfdQf8QYUUmw",
        "colab_type": "text"
      },
      "source": [
        "## Build and Interpret a Confidence Interval\n",
        "\n",
        "<img src=\"https://github.com/ryanallredblog/ryanallredblog.github.io/blob/master/img/Confidence_Interval.png?raw=true\" width=400>"
      ]
    },
    {
      "cell_type": "code",
      "metadata": {
        "id": "tBx71Kf0UjT3",
        "colab_type": "code",
        "colab": {}
      },
      "source": [
        "def mean_moe(sample, confidence=0.95):\n",
        "  \"\"\"\n",
        "  Calculate a confidence interval around a sample mean for given data.\n",
        "  Using t-distribution and two-tailed test, default 95% confidence. \n",
        "  \n",
        "  Arguments:\n",
        "    sample - iterable (list or numpy array) of sample observations\n",
        "    confidence - level of confidence for the interval\n",
        "  \n",
        "  Returns:\n",
        "    tuple of (mean, lower bound, upper bound)\n",
        "  \"\"\"\n",
        "  # NumPy arrays are your friend\n",
        "  sample = np.array(sample)\n",
        "  # What is my estimate -- the mean\n",
        "  mean = np.mean(sample)\n",
        "  # Sample size\n",
        "  n = len(sample)\n",
        "  # Standard error\n",
        "  #stderr = stats.sem(sample)\n",
        "  # I want sample standard deviation\n",
        "  stderr = np.std(sample, ddof=1) / np.sqrt(n)\n",
        "  # Look up the t-statistic that contains 95% of possible sample means within its bounds\n",
        "  t = stats.t.ppf((1 + confidence) / 2.0, n-1)\n",
        "  # Margin of error \n",
        "  margin_of_error = t * stderr\n",
        "  return mean, margin_of_error\n",
        "\n",
        "def confidence_interval(sample, confidence=0.95):\n",
        "  \"\"\"\n",
        "  Calculate a confidence interval around a sample mean for given data.\n",
        "  Using t-distribution and two-tailed test, default 95% confidence. \n",
        "  \n",
        "  Arguments:\n",
        "    sample - iterable (list or numpy array) of sample observations\n",
        "    confidence - level of confidence for the interval\n",
        "  \n",
        "  Returns:\n",
        "    tuple of (mean, lower bound, upper bound)\n",
        "  \"\"\"\n",
        "  # NumPy arrays are your friend\n",
        "  sample = np.array(sample)\n",
        "  # What is my estimate -- the mean\n",
        "  mean = np.mean(sample)\n",
        "  # Sample size\n",
        "  n = len(sample)\n",
        "  # Standard error\n",
        "  #stderr = stats.sem(sample)\n",
        "  # I want sample standard deviation\n",
        "  stderr = np.std(sample, ddof=1) / np.sqrt(n)\n",
        "  # Look up the t-statistic that contains 95% of possible sample means within its bounds\n",
        "  t = stats.t.ppf((1 + confidence) / 2.0, n-1)\n",
        "  # Margin of error \n",
        "  margin_of_error = t * stderr\n",
        "  return mean - margin_of_error, mean, mean + margin_of_error\n",
        "  "
      ],
      "execution_count": 0,
      "outputs": []
    },
    {
      "cell_type": "code",
      "metadata": {
        "id": "Pkls0AQJmetS",
        "colab_type": "code",
        "colab": {}
      },
      "source": [
        "coinflips = np.random.binomial(n=1, p=.5, size=200)"
      ],
      "execution_count": 0,
      "outputs": []
    },
    {
      "cell_type": "code",
      "metadata": {
        "id": "LCe6p5z2pRwp",
        "colab_type": "code",
        "colab": {
          "base_uri": "https://localhost:8080/",
          "height": 35
        },
        "outputId": "0ee6b758-5dbe-4055-b68f-73dc252bdabd"
      },
      "source": [
        "mean_moe(coinflips)"
      ],
      "execution_count": 59,
      "outputs": [
        {
          "output_type": "execute_result",
          "data": {
            "text/plain": [
              "(0.465, 0.06972269562117082)"
            ]
          },
          "metadata": {
            "tags": []
          },
          "execution_count": 59
        }
      ]
    },
    {
      "cell_type": "code",
      "metadata": {
        "id": "k62oe4QTmk4L",
        "colab_type": "code",
        "colab": {
          "base_uri": "https://localhost:8080/",
          "height": 35
        },
        "outputId": "9e4b2fa1-1157-470e-d608-a0e739ebaff7"
      },
      "source": [
        "confidence_interval(coinflips)"
      ],
      "execution_count": 60,
      "outputs": [
        {
          "output_type": "execute_result",
          "data": {
            "text/plain": [
              "(0.3952773043788292, 0.465, 0.5347226956211708)"
            ]
          },
          "metadata": {
            "tags": []
          },
          "execution_count": 60
        }
      ]
    },
    {
      "cell_type": "markdown",
      "metadata": {
        "id": "C4rtc8luVUAK",
        "colab_type": "text"
      },
      "source": [
        "## Graphically Represent a Confidence Interval"
      ]
    },
    {
      "cell_type": "code",
      "metadata": {
        "id": "pz6F9_3_VmKr",
        "colab_type": "code",
        "colab": {
          "base_uri": "https://localhost:8080/",
          "height": 198
        },
        "outputId": "c187b781-6152-487f-f08b-b2138f9c87eb"
      },
      "source": [
        "df = pd.DataFrame({\"coinflips\":coinflips})\n",
        "\n",
        "df.head()"
      ],
      "execution_count": 61,
      "outputs": [
        {
          "output_type": "execute_result",
          "data": {
            "text/html": [
              "<div>\n",
              "<style scoped>\n",
              "    .dataframe tbody tr th:only-of-type {\n",
              "        vertical-align: middle;\n",
              "    }\n",
              "\n",
              "    .dataframe tbody tr th {\n",
              "        vertical-align: top;\n",
              "    }\n",
              "\n",
              "    .dataframe thead th {\n",
              "        text-align: right;\n",
              "    }\n",
              "</style>\n",
              "<table border=\"1\" class=\"dataframe\">\n",
              "  <thead>\n",
              "    <tr style=\"text-align: right;\">\n",
              "      <th></th>\n",
              "      <th>coinflips</th>\n",
              "    </tr>\n",
              "  </thead>\n",
              "  <tbody>\n",
              "    <tr>\n",
              "      <th>0</th>\n",
              "      <td>1</td>\n",
              "    </tr>\n",
              "    <tr>\n",
              "      <th>1</th>\n",
              "      <td>0</td>\n",
              "    </tr>\n",
              "    <tr>\n",
              "      <th>2</th>\n",
              "      <td>1</td>\n",
              "    </tr>\n",
              "    <tr>\n",
              "      <th>3</th>\n",
              "      <td>1</td>\n",
              "    </tr>\n",
              "    <tr>\n",
              "      <th>4</th>\n",
              "      <td>0</td>\n",
              "    </tr>\n",
              "  </tbody>\n",
              "</table>\n",
              "</div>"
            ],
            "text/plain": [
              "   coinflips\n",
              "0          1\n",
              "1          0\n",
              "2          1\n",
              "3          1\n",
              "4          0"
            ]
          },
          "metadata": {
            "tags": []
          },
          "execution_count": 61
        }
      ]
    },
    {
      "cell_type": "code",
      "metadata": {
        "id": "YsEXXfsAq9Xc",
        "colab_type": "code",
        "colab": {
          "base_uri": "https://localhost:8080/",
          "height": 281
        },
        "outputId": "0a353bf9-f3bc-40c4-9253-b6603d6245d3"
      },
      "source": [
        "CI = confidence_interval(coinflips)\n",
        "\n",
        "df.plot.density()\n",
        "plt.title(\"conflips distribution\")\n",
        "\n",
        "plt.axvline(x=CI[0], color=\"red\")\n",
        "plt.axvline(x=CI[1], color=\"black\")\n",
        "plt.axvline(x=CI[2], color=\"red\")\n",
        "\n",
        "plt.show()"
      ],
      "execution_count": 62,
      "outputs": [
        {
          "output_type": "display_data",
          "data": {
            "image/png": "[encoded data removed]",
            "text/plain": [
              "<Figure size 432x288 with 1 Axes>"
            ]
          },
          "metadata": {
            "tags": []
          }
        }
      ]
    },
    {
      "cell_type": "markdown",
      "metadata": {
        "id": "7RyWLMQCsB1O",
        "colab_type": "text"
      },
      "source": [
        "## Other way to plot confidence intervals:\n",
        "\n",
        "* matplotlib errorbars - requires a mean and a margin of error\n",
        "* bar charts with error bars (plt.bar: xerr, yerr)\n",
        "* seaborn regression plot (regplot)"
      ]
    },
    {
      "cell_type": "code",
      "metadata": {
        "id": "G9vkSTgnq9ST",
        "colab_type": "code",
        "colab": {}
      },
      "source": [
        ""
      ],
      "execution_count": 0,
      "outputs": []
    },
    {
      "cell_type": "markdown",
      "metadata": {
        "id": "_oy0uoBGeoEb",
        "colab_type": "text"
      },
      "source": [
        "## Relationship between Confidence Intervals and T-tests\n",
        "\n",
        "Confidence Interval == Bounds of statistical significance for our t-test\n",
        "\n",
        "A sample mean that falls inside of our confidence interval will \"FAIL TO REJECT\" our null hypothesis\n",
        "\n",
        "A sample mean that falls outside of our confidence interval will \"REJECT\" our null hypothesis"
      ]
    },
    {
      "cell_type": "code",
      "metadata": {
        "id": "izIyVavzfCXS",
        "colab_type": "code",
        "colab": {}
      },
      "source": [
        "from scipy.stats import t, ttest_1samp"
      ],
      "execution_count": 0,
      "outputs": []
    },
    {
      "cell_type": "code",
      "metadata": {
        "id": "Y7HwdMwDfL1N",
        "colab_type": "code",
        "outputId": "43309626-838a-4d17-8507-038e7a0f6b74",
        "colab": {
          "base_uri": "https://localhost:8080/",
          "height": 55
        }
      },
      "source": [
        "import numpy as np\n",
        "\n",
        "coinflip_means = []\n",
        "for x in range(0,100):\n",
        "  coinflips = np.random.binomial(n=1, p=.5, size=30)\n",
        "  coinflip_means.append(coinflips.mean())\n",
        "\n",
        "print(coinflip_means)"
      ],
      "execution_count": 0,
      "outputs": [
        {
          "output_type": "stream",
          "text": [
            "[0.7333333333333333, 0.43333333333333335, 0.5, 0.43333333333333335, 0.5, 0.5, 0.5333333333333333, 0.5, 0.4, 0.43333333333333335, 0.3333333333333333, 0.5333333333333333, 0.5333333333333333, 0.4666666666666667, 0.5, 0.6, 0.6333333333333333, 0.5, 0.3333333333333333, 0.43333333333333335, 0.4666666666666667, 0.43333333333333335, 0.4666666666666667, 0.5333333333333333, 0.43333333333333335, 0.7, 0.7, 0.5333333333333333, 0.5, 0.6666666666666666, 0.43333333333333335, 0.43333333333333335, 0.4, 0.5666666666666667, 0.5333333333333333, 0.6333333333333333, 0.4666666666666667, 0.5333333333333333, 0.36666666666666664, 0.4666666666666667, 0.4, 0.6333333333333333, 0.5666666666666667, 0.5666666666666667, 0.7333333333333333, 0.4, 0.4666666666666667, 0.6, 0.5333333333333333, 0.6333333333333333, 0.4666666666666667, 0.5333333333333333, 0.43333333333333335, 0.5, 0.36666666666666664, 0.4, 0.5666666666666667, 0.5, 0.36666666666666664, 0.5666666666666667, 0.7, 0.43333333333333335, 0.36666666666666664, 0.5666666666666667, 0.5, 0.5333333333333333, 0.5333333333333333, 0.4, 0.36666666666666664, 0.6, 0.6, 0.43333333333333335, 0.3333333333333333, 0.5333333333333333, 0.4666666666666667, 0.3333333333333333, 0.6333333333333333, 0.43333333333333335, 0.43333333333333335, 0.5666666666666667, 0.5666666666666667, 0.5, 0.4666666666666667, 0.5, 0.5333333333333333, 0.43333333333333335, 0.5666666666666667, 0.4, 0.5, 0.4, 0.43333333333333335, 0.5666666666666667, 0.5666666666666667, 0.5, 0.43333333333333335, 0.5666666666666667, 0.5666666666666667, 0.4666666666666667, 0.5, 0.43333333333333335]\n"
          ],
          "name": "stdout"
        }
      ]
    },
    {
      "cell_type": "code",
      "metadata": {
        "id": "nQDo-ZXlfOvR",
        "colab_type": "code",
        "outputId": "c2e8386e-a0c4-49a4-f2ca-447fa92463f9",
        "colab": {
          "base_uri": "https://localhost:8080/",
          "height": 35
        }
      },
      "source": [
        "# Sample Size\n",
        "n = len(coinflip_means)\n",
        "# Degrees of Freedom\n",
        "dof = n-1\n",
        "# The Mean of Means:\n",
        "mean = np.mean(coinflip_means)\n",
        "# Sample Standard Deviation\n",
        "sample_std = np.std(coinflip_means, ddof=1)\n",
        "# Standard Error\n",
        "std_err = sample_std/n**.5\n",
        "\n",
        "CI = t.interval(.95, dof, loc=mean, scale=std_err)\n",
        "print(\"95% Confidence Interval: \", CI)"
      ],
      "execution_count": 0,
      "outputs": [
        {
          "output_type": "stream",
          "text": [
            "95% Confidence Interval:  (0.48189276007256693, 0.5181072399274331)\n"
          ],
          "name": "stdout"
        }
      ]
    },
    {
      "cell_type": "code",
      "metadata": {
        "id": "PiaALHSNfWou",
        "colab_type": "code",
        "outputId": "612dbe6c-be4e-4cbb-9aeb-81309fb54529",
        "colab": {
          "base_uri": "https://localhost:8080/",
          "height": 52
        }
      },
      "source": [
        "'''You can roll your own CI calculation pretty easily. \n",
        "The only thing that's a little bit challenging \n",
        "is understanding the t stat lookup'''\n",
        "\n",
        "# 95% confidence interval\n",
        "t_stat = t.ppf(.975, dof)\n",
        "print(\"t Statistic:\", t_stat)\n",
        "\n",
        "CI = (mean-(t_stat*std_err), mean+(t_stat*std_err))\n",
        "print(\"Confidence Interval\", CI)"
      ],
      "execution_count": 0,
      "outputs": [
        {
          "output_type": "stream",
          "text": [
            "t Statistic: 1.9842169515086827\n",
            "Confidence Interval (0.48189276007256693, 0.5181072399274331)\n"
          ],
          "name": "stdout"
        }
      ]
    },
    {
      "cell_type": "markdown",
      "metadata": {
        "id": "EamZNJhAf-fY",
        "colab_type": "text"
      },
      "source": [
        "A null hypothesis that's just inside of our confidence interval == fail to reject\n",
        "\n"
      ]
    },
    {
      "cell_type": "code",
      "metadata": {
        "id": "cNpzYbjpfirR",
        "colab_type": "code",
        "outputId": "ec1072cb-5130-43c8-c026-df6728f521e8",
        "colab": {
          "base_uri": "https://localhost:8080/",
          "height": 35
        }
      },
      "source": [
        "ttest_1samp(coinflip_means, .49)"
      ],
      "execution_count": 0,
      "outputs": [
        {
          "output_type": "execute_result",
          "data": {
            "text/plain": [
              "Ttest_1sampResult(statistic=1.0958141381351718, pvalue=0.2758187277462794)"
            ]
          },
          "metadata": {
            "tags": []
          },
          "execution_count": 28
        }
      ]
    },
    {
      "cell_type": "markdown",
      "metadata": {
        "id": "hO34mbL9gHn1",
        "colab_type": "text"
      },
      "source": [
        "A null hypothesis that's just outside of our confidence interval == reject\n",
        "\n"
      ]
    },
    {
      "cell_type": "code",
      "metadata": {
        "id": "N4SUjj82gKlv",
        "colab_type": "code",
        "outputId": "8acaad7f-e23a-4c7a-a6aa-dc5c6a19b337",
        "colab": {
          "base_uri": "https://localhost:8080/",
          "height": 35
        }
      },
      "source": [
        "ttest_1samp(coinflip_means, .4818927)"
      ],
      "execution_count": 0,
      "outputs": [
        {
          "output_type": "execute_result",
          "data": {
            "text/plain": [
              "Ttest_1sampResult(statistic=1.9842235343454973, pvalue=0.04999925456754134)"
            ]
          },
          "metadata": {
            "tags": []
          },
          "execution_count": 31
        }
      ]
    },
    {
      "cell_type": "code",
      "metadata": {
        "id": "DDsovHUyUj3v",
        "colab_type": "code",
        "colab": {}
      },
      "source": [
        ""
      ],
      "execution_count": 0,
      "outputs": []
    },
    {
      "cell_type": "code",
      "metadata": {
        "id": "X52Nwt7AVlvk",
        "colab_type": "code",
        "colab": {}
      },
      "source": [
        ""
      ],
      "execution_count": 0,
      "outputs": []
    }
  ]
}