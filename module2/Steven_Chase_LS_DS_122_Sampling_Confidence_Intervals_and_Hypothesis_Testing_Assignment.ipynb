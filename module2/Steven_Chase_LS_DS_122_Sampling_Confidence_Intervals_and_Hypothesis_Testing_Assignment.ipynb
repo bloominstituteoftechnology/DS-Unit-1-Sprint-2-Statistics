{
  "nbformat": 4,
  "nbformat_minor": 0,
  "metadata": {
    "colab": {
      "name": "Steven_Chase_LS_DS_122_Sampling_Confidence_Intervals_and_Hypothesis_Testing_Assignment.ipynb",
      "provenance": [],
      "collapsed_sections": [
        "Ms5rHXbFcAwd"
      ],
      "include_colab_link": true
    },
    "kernelspec": {
      "name": "python3",
      "display_name": "Python 3"
    }
  },
  "cells": [
    {
      "cell_type": "markdown",
      "metadata": {
        "id": "view-in-github",
        "colab_type": "text"
      },
      "source": [
        "<a href=\"https://colab.research.google.com/github/schase15/DS-Unit-1-Sprint-2-Statistics/blob/master/module2/Steven_Chase_LS_DS_122_Sampling_Confidence_Intervals_and_Hypothesis_Testing_Assignment.ipynb\" target=\"_parent\"><img src=\"https://colab.research.google.com/assets/colab-badge.svg\" alt=\"Open In Colab\"/></a>"
      ]
    },
    {
      "cell_type": "markdown",
      "metadata": {
        "id": "11OzdxWTM7UR",
        "colab_type": "text"
      },
      "source": [
        "## Assignment - Build a confidence interval\n",
        "\n",
        "A confidence interval refers to a neighborhood around some point estimate, the size of which is determined by the desired p-value. For instance, we might say that 52% of Americans prefer tacos to burritos, with a 95% confidence interval of +/- 5%.\n",
        "\n",
        "52% (0.52) is the point estimate, and +/- 5% (the interval $[0.47, 0.57]$) is the confidence interval. \"95% confidence\" means a p-value $\\leq 1 - 0.95 = 0.05$.\n",
        "\n",
        "In this case, the confidence interval includes $0.5$ - which is the natural null hypothesis (that half of Americans prefer tacos and half burritos, thus there is no clear favorite). So in this case, we could use the confidence interval to report that we've failed to reject the null hypothesis.\n",
        "\n",
        "But providing the full analysis with a confidence interval, including a graphical representation of it, can be a helpful and powerful way to tell your story. Done well, it is also more intuitive to a layperson than simply saying \"fail to reject the null hypothesis\" - it shows that in fact the data does *not* give a single clear result (the point estimate) but a whole range of possibilities.\n",
        "\n",
        "How is a confidence interval built, and how should it be interpreted? It does *not* mean that 95% of the data lies in that interval - instead, the frequentist interpretation is \"if we were to repeat this experiment 100 times, we would expect the average result to lie in this interval ~95 times.\"\n",
        "\n",
        "For a 95% confidence interval and a normal(-ish) distribution, you can simply remember that +/-2 standard deviations contains 95% of the probability mass, and so the 95% confidence interval based on a given sample is centered at the mean (point estimate) and has a range of +/- 2 (or technically 1.96) standard deviations.\n",
        "\n",
        "Different distributions/assumptions (90% confidence, 99% confidence) will require different math, but the overall process and interpretation (with a frequentist approach) will be the same.\n",
        "\n",
        "Your assignment - using the data from the prior module ([congressional voting records](https://archive.ics.uci.edu/ml/datasets/Congressional+Voting+Records)):\n",
        "\n",
        "\n",
        "### Confidence Intervals:\n",
        "1. Generate and numerically represent a confidence interval\n",
        "2. Graphically (with a plot) represent the confidence interval\n",
        "3. Interpret the confidence interval - what does it tell you about the data and its distribution?\n",
        "\n",
        "### Chi-squared tests:\n",
        "4. Take a dataset that we have used in the past in class that has **categorical** variables. Pick two of those categorical variables and run a chi-squared tests on that data\n",
        "  - By hand using Numpy\n",
        "  - In a single line using Scipy\n"
      ]
    },
    {
      "cell_type": "markdown",
      "metadata": {
        "id": "Ms5rHXbFcAwd",
        "colab_type": "text"
      },
      "source": [
        "### Part 1"
      ]
    },
    {
      "cell_type": "code",
      "metadata": {
        "id": "Ckcr4A4FM7cs",
        "colab_type": "code",
        "colab": {}
      },
      "source": [
        "import pandas as pd\n",
        "import numpy as np\n",
        "import matplotlib.pyplot as plt\n",
        "from scipy import stats"
      ],
      "execution_count": 0,
      "outputs": []
    },
    {
      "cell_type": "code",
      "metadata": {
        "id": "PuzshvzjMoXa",
        "colab_type": "code",
        "outputId": "81ca68fd-070b-4558-f5f8-0d8be887bb74",
        "colab": {
          "base_uri": "https://localhost:8080/",
          "height": 232
        }
      },
      "source": [
        "!wget https://archive.ics.uci.edu/ml/machine-learning-databases/voting-records/house-votes-84.data"
      ],
      "execution_count": 85,
      "outputs": [
        {
          "output_type": "stream",
          "text": [
            "--2020-03-17 23:03:43--  https://archive.ics.uci.edu/ml/machine-learning-databases/voting-records/house-votes-84.data\n",
            "Resolving archive.ics.uci.edu (archive.ics.uci.edu)... 128.195.10.252\n",
            "Connecting to archive.ics.uci.edu (archive.ics.uci.edu)|128.195.10.252|:443... connected.\n",
            "HTTP request sent, awaiting response... 200 OK\n",
            "Length: 18171 (18K) [application/x-httpd-php]\n",
            "Saving to: ‘house-votes-84.data.1’\n",
            "\n",
            "\rhouse-votes-84.data   0%[                    ]       0  --.-KB/s               \rhouse-votes-84.data 100%[===================>]  17.75K  --.-KB/s    in 0.03s   \n",
            "\n",
            "2020-03-17 23:03:43 (611 KB/s) - ‘house-votes-84.data.1’ saved [18171/18171]\n",
            "\n"
          ],
          "name": "stdout"
        }
      ]
    },
    {
      "cell_type": "code",
      "metadata": {
        "id": "iCswstT5Moi7",
        "colab_type": "code",
        "colab": {}
      },
      "source": [
        "# Import data\n",
        "\n",
        "df = pd.read_csv('house-votes-84.data', names= ['party','handicapped-infants','water-project',\n",
        "                          'budget','physician-fee-freeze', 'el-salvador-aid',\n",
        "                          'religious-groups','anti-satellite-ban',\n",
        "                          'aid-to-contras','mx-missile','immigration',\n",
        "                          'synfuels', 'education', 'right-to-sue','crime','duty-free',\n",
        "                          'south-africa'])\n",
        "\n",
        "# Encode and replace to clean data\n",
        "\n",
        "df = df.replace({'n':0, 'y': 1, '?': np.NaN})\n",
        "\n",
        "# Drop np.NaN values, to use confidence interval function later on\n",
        "df = df.dropna()\n",
        "\n",
        "# Split dataset into Democrat and Republican\n",
        "\n",
        "dem= df[df['party'] == 'democrat']\n",
        "rep= df[df['party'] == 'republican']"
      ],
      "execution_count": 0,
      "outputs": []
    },
    {
      "cell_type": "code",
      "metadata": {
        "id": "My2tMnpHRq7I",
        "colab_type": "code",
        "outputId": "125b789f-829c-4207-e3ce-58154286b4e1",
        "colab": {
          "base_uri": "https://localhost:8080/",
          "height": 336
        }
      },
      "source": [
        "dem.isnull().sum()"
      ],
      "execution_count": 87,
      "outputs": [
        {
          "output_type": "execute_result",
          "data": {
            "text/plain": [
              "party                   0\n",
              "handicapped-infants     0\n",
              "water-project           0\n",
              "budget                  0\n",
              "physician-fee-freeze    0\n",
              "el-salvador-aid         0\n",
              "religious-groups        0\n",
              "anti-satellite-ban      0\n",
              "aid-to-contras          0\n",
              "mx-missile              0\n",
              "immigration             0\n",
              "synfuels                0\n",
              "education               0\n",
              "right-to-sue            0\n",
              "crime                   0\n",
              "duty-free               0\n",
              "south-africa            0\n",
              "dtype: int64"
            ]
          },
          "metadata": {
            "tags": []
          },
          "execution_count": 87
        }
      ]
    },
    {
      "cell_type": "code",
      "metadata": {
        "id": "Z2ey62clMolY",
        "colab_type": "code",
        "colab": {}
      },
      "source": [
        "def confidence_interval(data, confidence_level = 0.95):\n",
        "\n",
        "# Variables\n",
        "  data = np.array(data)\n",
        "  mean = np.mean(data)\n",
        "  n = len(data)\n",
        "  s = data.std(ddof= 1)\n",
        "\n",
        "# Standard error\n",
        "  std_error = s / np.sqrt(n)\n",
        "\n",
        "# t-stat\n",
        "  t = stats.t.ppf((1 + confidence_level) / 2.0, n-1)\n",
        "\n",
        "# Margin of error\n",
        "  margin_of_error = t*std_error\n",
        "\n",
        "  return (mean, margin_of_error, mean - margin_of_error, mean + margin_of_error)"
      ],
      "execution_count": 0,
      "outputs": []
    },
    {
      "cell_type": "code",
      "metadata": {
        "id": "zNFM3UZjMosw",
        "colab_type": "code",
        "outputId": "878e3ad3-3780-4110-c401-f2c0cfefd60e",
        "colab": {
          "base_uri": "https://localhost:8080/",
          "height": 87
        }
      },
      "source": [
        "mean, margin_of_error, lower, upper = confidence_interval(dem['budget'])\n",
        "\n",
        "print(\"Mean is:\", mean)\n",
        "print(\"Margin of error is:\", margin_of_error)\n",
        "print(\"Lower bound is:\", lower)\n",
        "print(\"Upper bound is:\", upper)"
      ],
      "execution_count": 89,
      "outputs": [
        {
          "output_type": "stream",
          "text": [
            "Mean is: 0.8548387096774194\n",
            "Margin of error is: 0.06287195977800639\n",
            "Lower bound is: 0.791966749899413\n",
            "Upper bound is: 0.9177106694554258\n"
          ],
          "name": "stdout"
        }
      ]
    },
    {
      "cell_type": "markdown",
      "metadata": {
        "id": "4AOkme7mUTC_",
        "colab_type": "text"
      },
      "source": [
        "The probability that a democrat voted for the budget bill is 0.855 plus or minus 0.063."
      ]
    },
    {
      "cell_type": "code",
      "metadata": {
        "id": "sRes7fCjZNx_",
        "colab_type": "code",
        "colab": {}
      },
      "source": [
        "CI_dem_budget = confidence_interval(df['budget'])"
      ],
      "execution_count": 0,
      "outputs": []
    },
    {
      "cell_type": "code",
      "metadata": {
        "id": "m0X8XfBfMoyD",
        "colab_type": "code",
        "outputId": "6df313a1-0d7f-4144-fc6f-9e81d5f52d5c",
        "colab": {
          "base_uri": "https://localhost:8080/",
          "height": 281
        }
      },
      "source": [
        "# Graphically\n",
        "\n",
        "dem['budget'].plot.density()\n",
        "plt.title(\"Democrat's support for the budget bill, 95% confidence level\")\n",
        "plt.axvline(x=mean, color= 'black')\n",
        "plt.axvline(x=upper, color= 'red')\n",
        "plt.axvline(x=lower, color= 'red')\n",
        "\n",
        "\n",
        "plt.show()"
      ],
      "execution_count": 91,
      "outputs": [
        {
          "output_type": "display_data",
          "data": {
            "image/png": "[encoded data removed]",
            "text/plain": [
              "<Figure size 432x288 with 1 Axes>"
            ]
          },
          "metadata": {
            "tags": []
          }
        }
      ]
    },
    {
      "cell_type": "code",
      "metadata": {
        "id": "ntX9uTeHyCc4",
        "colab_type": "code",
        "colab": {}
      },
      "source": [
        "def graph_CI (data, title):\n",
        "  data.plot.density()\n",
        "  plt.title(title)\n",
        "  plt.axvline(x=mean, color= 'black')\n",
        "  plt.axvline(x=upper, color= 'red')\n",
        "  plt.axvline(x=lower, color= 'red')\n",
        " \n",
        "  return(plt.show())\n"
      ],
      "execution_count": 0,
      "outputs": []
    },
    {
      "cell_type": "code",
      "metadata": {
        "id": "8SDk3Entz30v",
        "colab_type": "code",
        "colab": {}
      },
      "source": [
        "# Look at the Republican's confidence interval for the same bill"
      ],
      "execution_count": 0,
      "outputs": []
    },
    {
      "cell_type": "code",
      "metadata": {
        "id": "yDo8kP-ozrkO",
        "colab_type": "code",
        "colab": {}
      },
      "source": [
        "mean, margin_of_error, lower, upper = confidence_interval(rep['budget'])"
      ],
      "execution_count": 0,
      "outputs": []
    },
    {
      "cell_type": "code",
      "metadata": {
        "id": "pqfWZ4dBzejB",
        "colab_type": "code",
        "colab": {
          "base_uri": "https://localhost:8080/",
          "height": 281
        },
        "outputId": "668867d3-bcd1-493c-9d57-8bd1ccd07e35"
      },
      "source": [
        "graph_CI(rep['budget'], \"Republican's support for the budget bill, 95% confidence level\")"
      ],
      "execution_count": 122,
      "outputs": [
        {
          "output_type": "display_data",
          "data": {
            "image/png": "[encoded data removed]",
            "text/plain": [
              "<Figure size 432x288 with 1 Axes>"
            ]
          },
          "metadata": {
            "tags": []
          }
        }
      ]
    },
    {
      "cell_type": "markdown",
      "metadata": {
        "colab_type": "text",
        "id": "WcZPyQS0cLny"
      },
      "source": [
        "We are 95% certain that the population mean falls within the two red bars on this graph. That is, inside of the range of our sample mean plus and minus the standard error. "
      ]
    },
    {
      "cell_type": "markdown",
      "metadata": {
        "id": "wMDTQMEIc2nN",
        "colab_type": "text"
      },
      "source": [
        "# Part 2"
      ]
    },
    {
      "cell_type": "code",
      "metadata": {
        "id": "TufhWt1tc6ou",
        "colab_type": "code",
        "colab": {}
      },
      "source": [
        "# Using the same dataset as above\n",
        "# Is there a relationship between what party they were and how they voted on the budget bill "
      ],
      "execution_count": 0,
      "outputs": []
    },
    {
      "cell_type": "markdown",
      "metadata": {
        "id": "ZlEegPVhdjxZ",
        "colab_type": "text"
      },
      "source": [
        "Null Hypothesis: The two variables are independent, there is no relationship between them.\n",
        "\n",
        "Alternative: The two variables are dependent, there is a relationship between them.\n",
        "\n",
        "Confidence Level: 95%"
      ]
    },
    {
      "cell_type": "code",
      "metadata": {
        "id": "AsX3e_dRdkmb",
        "colab_type": "code",
        "outputId": "b9b0b754-2b6a-4f63-8fc1-88f456734575",
        "colab": {
          "base_uri": "https://localhost:8080/",
          "height": 52
        }
      },
      "source": [
        "observed = pd.crosstab(df['party'], df['budget'])\n",
        "observed = observed.values\n",
        "observed"
      ],
      "execution_count": 93,
      "outputs": [
        {
          "output_type": "execute_result",
          "data": {
            "text/plain": [
              "array([[ 18, 106],\n",
              "       [ 91,  17]])"
            ]
          },
          "metadata": {
            "tags": []
          },
          "execution_count": 93
        }
      ]
    },
    {
      "cell_type": "code",
      "metadata": {
        "id": "WQZDmMcDrpvg",
        "colab_type": "code",
        "colab": {}
      },
      "source": [
        "# Calculate chi^2 by hand using numpy"
      ],
      "execution_count": 0,
      "outputs": []
    },
    {
      "cell_type": "code",
      "metadata": {
        "id": "MWsn3Ckzi2RG",
        "colab_type": "code",
        "outputId": "56954bf6-ca57-4d7c-9686-6e0baeb589d2",
        "colab": {
          "base_uri": "https://localhost:8080/",
          "height": 167
        }
      },
      "source": [
        "observed_freq = pd.crosstab(df['party'], df['budget'], margins= True)\n",
        "observed_freq"
      ],
      "execution_count": 105,
      "outputs": [
        {
          "output_type": "execute_result",
          "data": {
            "text/html": [
              "<div>\n",
              "<style scoped>\n",
              "    .dataframe tbody tr th:only-of-type {\n",
              "        vertical-align: middle;\n",
              "    }\n",
              "\n",
              "    .dataframe tbody tr th {\n",
              "        vertical-align: top;\n",
              "    }\n",
              "\n",
              "    .dataframe thead th {\n",
              "        text-align: right;\n",
              "    }\n",
              "</style>\n",
              "<table border=\"1\" class=\"dataframe\">\n",
              "  <thead>\n",
              "    <tr style=\"text-align: right;\">\n",
              "      <th>budget</th>\n",
              "      <th>0.0</th>\n",
              "      <th>1.0</th>\n",
              "      <th>All</th>\n",
              "    </tr>\n",
              "    <tr>\n",
              "      <th>party</th>\n",
              "      <th></th>\n",
              "      <th></th>\n",
              "      <th></th>\n",
              "    </tr>\n",
              "  </thead>\n",
              "  <tbody>\n",
              "    <tr>\n",
              "      <th>democrat</th>\n",
              "      <td>18</td>\n",
              "      <td>106</td>\n",
              "      <td>124</td>\n",
              "    </tr>\n",
              "    <tr>\n",
              "      <th>republican</th>\n",
              "      <td>91</td>\n",
              "      <td>17</td>\n",
              "      <td>108</td>\n",
              "    </tr>\n",
              "    <tr>\n",
              "      <th>All</th>\n",
              "      <td>109</td>\n",
              "      <td>123</td>\n",
              "      <td>232</td>\n",
              "    </tr>\n",
              "  </tbody>\n",
              "</table>\n",
              "</div>"
            ],
            "text/plain": [
              "budget      0.0  1.0  All\n",
              "party                    \n",
              "democrat     18  106  124\n",
              "republican   91   17  108\n",
              "All         109  123  232"
            ]
          },
          "metadata": {
            "tags": []
          },
          "execution_count": 105
        }
      ]
    },
    {
      "cell_type": "markdown",
      "metadata": {
        "colab_type": "text",
        "id": "9VqRxJ2urJUe"
      },
      "source": [
        ""
      ]
    },
    {
      "cell_type": "code",
      "metadata": {
        "id": "xFDuDJBahMFi",
        "colab_type": "code",
        "outputId": "ca673eac-ae9e-4955-fde7-69721a3158ab",
        "colab": {
          "base_uri": "https://localhost:8080/",
          "height": 34
        }
      },
      "source": [
        "row_totals = observed_freq.iloc[0:2, 2: ].values\n",
        "row_totals = row_totals.T[0]\n",
        "row_totals"
      ],
      "execution_count": 108,
      "outputs": [
        {
          "output_type": "execute_result",
          "data": {
            "text/plain": [
              "array([124, 108])"
            ]
          },
          "metadata": {
            "tags": []
          },
          "execution_count": 108
        }
      ]
    },
    {
      "cell_type": "code",
      "metadata": {
        "id": "DfCBAYhVj020",
        "colab_type": "code",
        "outputId": "28882136-2454-453f-9dfe-af39d0f5fc76",
        "colab": {
          "base_uri": "https://localhost:8080/",
          "height": 34
        }
      },
      "source": [
        "col_totals = observed_freq.iloc[2:, 0:2].values\n",
        "col_totals = col_totals[0]\n",
        "col_totals"
      ],
      "execution_count": 109,
      "outputs": [
        {
          "output_type": "execute_result",
          "data": {
            "text/plain": [
              "array([109, 123])"
            ]
          },
          "metadata": {
            "tags": []
          },
          "execution_count": 109
        }
      ]
    },
    {
      "cell_type": "code",
      "metadata": {
        "id": "TE5x_3Y8kTiR",
        "colab_type": "code",
        "outputId": "effa8d86-0850-40fe-fc84-96e914d32285",
        "colab": {
          "base_uri": "https://localhost:8080/",
          "height": 34
        }
      },
      "source": [
        "sample_size = df.shape[0]\n",
        "sample_size"
      ],
      "execution_count": 110,
      "outputs": [
        {
          "output_type": "execute_result",
          "data": {
            "text/plain": [
              "232"
            ]
          },
          "metadata": {
            "tags": []
          },
          "execution_count": 110
        }
      ]
    },
    {
      "cell_type": "code",
      "metadata": {
        "colab_type": "code",
        "outputId": "4d8477b8-9659-44c3-91ab-0bbbce3e8790",
        "id": "4v1PIAIWl746",
        "colab": {
          "base_uri": "https://localhost:8080/",
          "height": 70
        }
      },
      "source": [
        "expected = []\n",
        "for i in range(len(row_totals)):\n",
        "  expected_row = []\n",
        "  for column in col_totals:\n",
        "    expected_val = column*row_totals[i]/sample_size\n",
        "    expected_row.append(expected_val)\n",
        "  expected.append(expected_row)\n",
        "\n",
        "expected = np.array(expected)\n",
        "print(expected.shape)  \n",
        "print(expected)"
      ],
      "execution_count": 111,
      "outputs": [
        {
          "output_type": "stream",
          "text": [
            "(2, 2)\n",
            "[[58.25862069 65.74137931]\n",
            " [50.74137931 57.25862069]]\n"
          ],
          "name": "stdout"
        }
      ]
    },
    {
      "cell_type": "code",
      "metadata": {
        "id": "xNKYm410mSaw",
        "colab_type": "code",
        "outputId": "81db2b3b-7119-41a2-c234-aa05189fa61e",
        "colab": {
          "base_uri": "https://localhost:8080/",
          "height": 34
        }
      },
      "source": [
        "chi2 = ((observed - expected)**2 / expected).sum()\n",
        "chi2"
      ],
      "execution_count": 112,
      "outputs": [
        {
          "output_type": "execute_result",
          "data": {
            "text/plain": [
              "112.72096220353872"
            ]
          },
          "metadata": {
            "tags": []
          },
          "execution_count": 112
        }
      ]
    },
    {
      "cell_type": "code",
      "metadata": {
        "id": "InjWgdAuoRvp",
        "colab_type": "code",
        "outputId": "faefbc5c-ecc8-43f7-8c29-17645c2b5f7b",
        "colab": {
          "base_uri": "https://localhost:8080/",
          "height": 105
        }
      },
      "source": [
        "# Calculate chi^2 using scipy\n",
        "\n",
        "from scipy import stats\n",
        "final = stats.chi2_contingency(observed)\n",
        "final"
      ],
      "execution_count": 113,
      "outputs": [
        {
          "output_type": "execute_result",
          "data": {
            "text/plain": [
              "(109.93842817715279,\n",
              " 1.0108219074853654e-25,\n",
              " 1,\n",
              " array([[58.25862069, 65.74137931],\n",
              "        [50.74137931, 57.25862069]]))"
            ]
          },
          "metadata": {
            "tags": []
          },
          "execution_count": 113
        }
      ]
    },
    {
      "cell_type": "markdown",
      "metadata": {
        "id": "aDDsF_dGr1mA",
        "colab_type": "text"
      },
      "source": [
        "The chi^2 value I calculated by hand and the value I got from scipy are slightly different. I think it is because of rounding errors introduced when working by hand with the formulas. Scipy is more precise. "
      ]
    },
    {
      "cell_type": "markdown",
      "metadata": {
        "id": "XH-HpScas10c",
        "colab_type": "text"
      },
      "source": [
        "Conclusion: Based on the chi^2 value of 109.93842817715279 and a p-value of 1.0108219074853654e-25, we reject the null hypothesis that there is not relationship between the party the voter belongs to and how they voted on the budget bill. This suggests that there is a relationship betweeen the two."
      ]
    },
    {
      "cell_type": "markdown",
      "metadata": {
        "id": "4ohsJhQUmEuS",
        "colab_type": "text"
      },
      "source": [
        "## Stretch Goals\n",
        "\n",
        "1. Write a summary of your findings, mixing prose and math/code/results. *Note* - yes, this is by definition a political topic. It is challenging but important to keep your writing voice *neutral* and stick to the facts of the data. Data science often involves considering controversial issues, so it's important to be sensitive about them (especially if you want to publish).\n",
        "2. Apply the techniques you learned today to your project data or other data of your choice, and write/discuss your findings here.\n",
        "3. Refactor your code so it is elegant, readable, and can be easily run for all issues."
      ]
    },
    {
      "cell_type": "markdown",
      "metadata": {
        "id": "T1ZmjMPg0ZEq",
        "colab_type": "text"
      },
      "source": [
        "**Write up on data/ graphs from above**\n",
        "\n",
        "By examining the results of how the Republican party and how the Democratic party voted on the budget bill, we can confidently conclude two things. First, that there is a relationship between party line and vote. And second, that the Democratic party voted in favor of the budget bill more than the Republican party did.\n",
        "\n",
        "First, we can examine the relationship between party allegiance and how the member voted on the budget bill by using a chi squared test to determine the independence of the two variables. Doing so returns an infintesimally small chance of the two being independent (a p-value of 1.0108219074853654e-25 which corresponds to essentially 0% chance). Having concluded with 99% confidence that the two variables, party and vote, are dependent, we can look at how each party voted.\n",
        "\n",
        "Looking at the 95% confidence interval graphs of how each party voted on the budget bill, we can confidently say that the Democratic party voted more in favor of the budget bill than the Republican party did. We are 95% certain that the population mean falls within the two red bars on the graph for each party. "
      ]
    },
    {
      "cell_type": "markdown",
      "metadata": {
        "id": "nyJ3ySr7R2k9",
        "colab_type": "text"
      },
      "source": [
        "## Resources\n",
        "\n",
        "- [Interactive visualize the Chi-Squared test](https://homepage.divms.uiowa.edu/~mbognar/applets/chisq.html)\n",
        "- [Calculation of Chi-Squared test statistic](https://en.wikipedia.org/wiki/Pearson%27s_chi-squared_test)\n",
        "- [Visualization of a confidence interval generated by R code](https://commons.wikimedia.org/wiki/File:Confidence-interval.svg)\n",
        "- [Expected value of a squared standard normal](https://math.stackexchange.com/questions/264061/expected-value-calculation-for-squared-normal-distribution) (it's 1 - which is why the expected value of a Chi-Squared with $n$ degrees of freedom is $n$, as it's the sum of $n$ squared standard normals)"
      ]
    }
  ]
}