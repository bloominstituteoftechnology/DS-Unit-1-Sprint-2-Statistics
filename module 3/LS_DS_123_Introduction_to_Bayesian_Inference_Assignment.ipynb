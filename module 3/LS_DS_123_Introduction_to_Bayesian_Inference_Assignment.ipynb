{
  "nbformat": 4,
  "nbformat_minor": 0,
  "metadata": {
    "colab": {
      "name": "LS_DS_123_Introduction_to_Bayesian_Inference_Assignment.ipynb",
      "provenance": [],
      "include_colab_link": true
    },
    "kernelspec": {
      "name": "python3",
      "display_name": "Python 3"
    }
  },
  "cells": [
    {
      "cell_type": "markdown",
      "metadata": {
        "id": "view-in-github",
        "colab_type": "text"
      },
      "source": [
        "<a href=\"https://colab.research.google.com/github/noah40povis/DS-Unit-1-Sprint-2-Statistics/blob/master/module%203/LS_DS_123_Introduction_to_Bayesian_Inference_Assignment.ipynb\" target=\"_parent\"><img src=\"https://colab.research.google.com/assets/colab-badge.svg\" alt=\"Open In Colab\"/></a>"
      ]
    },
    {
      "cell_type": "markdown",
      "metadata": {
        "id": "H7OLbevlbd_Z",
        "colab_type": "text"
      },
      "source": [
        "# Lambda School Data Science Module 123\n",
        "\n",
        "## Introduction to Bayesian Inference\n",
        "\n",
        "\n"
      ]
    },
    {
      "cell_type": "markdown",
      "metadata": {
        "id": "P-DzzRk5bf0z",
        "colab_type": "text"
      },
      "source": [
        "## Assignment - Code it up!\n",
        "\n",
        "We used pure math to apply Bayes Theorem to drug tests. Now write Python code to reproduce the results! This is purposefully open ended - you'll have to think about how you should represent probabilities and events. You can and should look things up.\n",
        "\n",
        "Specific goals/targets:\n",
        "\n",
        "### 1) Write a function \n",
        "\n",
        "`def prob_drunk_given_positive(prob_drunk_prior, false_positive_rate, true_positive_rate):` \n",
        "\n",
        "You should only truly need these two values in order to apply Bayes Theorem. In this example, imagine that individuals are taking a breathalyzer test with an 8% false positive rate, a 100% true positive rate, and that our prior belief about drunk driving in the population is 1/1000. \n",
        " - What is the probability that a person is drunk after one positive breathalyzer test?\n",
        " - What is the probability that a person is drunk after two positive breathalyzer tests?\n",
        " - How many positive breathalyzer tests are needed in order to have a probability that's greater than 95% that a person is drunk beyond the legal limit?\n",
        "\n",
        "### 2) Explore `scipy.stats.bayes_mvs`  \n",
        "Read its documentation, and experiment with it on data you've tested in other ways earlier this week.\n",
        " - Create a visualization comparing the results of a Bayesian approach to a traditional/frequentist approach. (with a large sample size they should look close to identical, however, take this opportunity to practice visualizing condfidence intervals in general. The following are some potential ways that you could visualize confidence intervals on your graph:\n",
        "  - [Matplotlib Error Bars](https://matplotlib.org/3.1.1/api/_as_gen/matplotlib.pyplot.errorbar.html)\n",
        "  - [Seaborn barplot with error bars](https://seaborn.pydata.org/generated/seaborn.barplot.html)\n",
        "  - [Vertical ines to show bounds of confidence interval](https://www.simplypsychology.org/confidence-interval.jpg)\n",
        "  - [Confidence Intervals on Box Plots](https://matplotlib.org/3.1.1/api/_as_gen/matplotlib.axes.Axes.boxplot.html)\n",
        "\n",
        "### 3) In your own words, summarize the difference between Bayesian and Frequentist statistics\n",
        "\n",
        "If you're unsure where to start, check out [this blog post of Bayes theorem with Python](https://dataconomy.com/2015/02/introduction-to-bayes-theorem-with-python/).\n",
        "\n"
      ]
    },
    {
      "cell_type": "code",
      "metadata": {
        "id": "QrIS_SYpd3Dh",
        "colab_type": "code",
        "colab": {}
      },
      "source": [
        "import pandas as pd \n",
        "from scipy import stats\n",
        "import scipy\n",
        "import numpy as np"
      ],
      "execution_count": 0,
      "outputs": []
    },
    {
      "cell_type": "code",
      "metadata": {
        "id": "xpVhZyUnbf7o",
        "colab_type": "code",
        "colab": {}
      },
      "source": [
        "def prob_drunk_given_positive(prob_drunk_prior, false_positive_rate, true_positive_rate):\n",
        "  numerator = true_positive_rate * prob_drunk_prior \n",
        "  denominator = (true_positive_rate * prob_drunk_prior) + false_positive_rate*(1-prob_drunk_prior)\n",
        "  posterior_probability = numerator / denominator \n",
        "  \n",
        "  if posterior_probability > .95:\n",
        "    return \"Given a p-value of 1- \", posterior_probability, \" we reject the null hypothesis that this individual is sober.\"\n",
        "  else:\n",
        "    return \"Given a p-value of 1-\", posterior_probability, \" we fail to reject the null hypothesis that this individual is sober.\"\n"
      ],
      "execution_count": 0,
      "outputs": []
    },
    {
      "cell_type": "code",
      "metadata": {
        "id": "uFk3ZppyVXiW",
        "colab_type": "code",
        "colab": {
          "base_uri": "https://localhost:8080/",
          "height": 69
        },
        "outputId": "f42707af-1783-4706-d122-f22b648ecdd6"
      },
      "source": [
        "prob_drunk_given_positive(.001, .08, 1)"
      ],
      "execution_count": 5,
      "outputs": [
        {
          "output_type": "execute_result",
          "data": {
            "text/plain": [
              "('Given a p-value of 1-',\n",
              " 0.012357884330202669,\n",
              " ' we fail to reject the null hypothesis that this individual is sober.')"
            ]
          },
          "metadata": {
            "tags": []
          },
          "execution_count": 5
        }
      ]
    },
    {
      "cell_type": "code",
      "metadata": {
        "id": "YPB22kU8Wtdp",
        "colab_type": "code",
        "colab": {
          "base_uri": "https://localhost:8080/",
          "height": 34
        },
        "outputId": "def0b9a2-4bc5-4cd5-adf2-87fe5cd61203"
      },
      "source": [
        ".001 +  0.012357884330202669"
      ],
      "execution_count": 6,
      "outputs": [
        {
          "output_type": "execute_result",
          "data": {
            "text/plain": [
              "0.013357884330202668"
            ]
          },
          "metadata": {
            "tags": []
          },
          "execution_count": 6
        }
      ]
    },
    {
      "cell_type": "code",
      "metadata": {
        "id": "wsUZCaMXXocM",
        "colab_type": "code",
        "colab": {
          "base_uri": "https://localhost:8080/",
          "height": 69
        },
        "outputId": "ec29b9ff-915c-43d8-aed5-9d9e162cad0c"
      },
      "source": [
        "prob_drunk_given_positive(0.013357884330202668, .08,1)"
      ],
      "execution_count": 8,
      "outputs": [
        {
          "output_type": "execute_result",
          "data": {
            "text/plain": [
              "('Given a p-value of 1-',\n",
              " 0.14473932566889247,\n",
              " ' we fail to reject the null hypothesis that this individual is sober.')"
            ]
          },
          "metadata": {
            "tags": []
          },
          "execution_count": 8
        }
      ]
    },
    {
      "cell_type": "code",
      "metadata": {
        "id": "W--g12YmYgAy",
        "colab_type": "code",
        "colab": {
          "base_uri": "https://localhost:8080/",
          "height": 69
        },
        "outputId": "6d787366-19d8-4f47-c74e-ab2d2b717225"
      },
      "source": [
        "prob_drunk_given_positive(0.013357884330202668+0.14473932566889247, .08, 1)"
      ],
      "execution_count": 7,
      "outputs": [
        {
          "output_type": "execute_result",
          "data": {
            "text/plain": [
              "('Given a p-value of 1-',\n",
              " 0.701253526148492,\n",
              " ' we fail to reject the null hypothesis that this individual is sober.')"
            ]
          },
          "metadata": {
            "tags": []
          },
          "execution_count": 7
        }
      ]
    },
    {
      "cell_type": "code",
      "metadata": {
        "id": "B_WwkRquYwD5",
        "colab_type": "code",
        "colab": {
          "base_uri": "https://localhost:8080/",
          "height": 69
        },
        "outputId": "c6361afb-661e-4dd1-dc92-01adf6b8995f"
      },
      "source": [
        "prob_drunk_given_positive(0.013357884330202668+0.14473932566889247+0.701253526148492, .08, 1)"
      ],
      "execution_count": 9,
      "outputs": [
        {
          "output_type": "execute_result",
          "data": {
            "text/plain": [
              "('Given a p-value of 1- ',\n",
              " 0.9870756874494572,\n",
              " ' we reject the null hypothesis that this individual is sober.')"
            ]
          },
          "metadata": {
            "tags": []
          },
          "execution_count": 9
        }
      ]
    },
    {
      "cell_type": "markdown",
      "metadata": {
        "id": "wLHOI_wubzGP",
        "colab_type": "text"
      },
      "source": [
        "**Answers to problem 1** "
      ]
    },
    {
      "cell_type": "markdown",
      "metadata": {
        "id": "4-bBnys3aAo1",
        "colab_type": "text"
      },
      "source": [
        "1. The probability of someone being drunk after one test is 1.2% or .012\n",
        "\n",
        "2. 14.47% or .1447 \n",
        "\n",
        "3. 4"
      ]
    },
    {
      "cell_type": "markdown",
      "metadata": {
        "id": "Ot46Ihozb4Pm",
        "colab_type": "text"
      },
      "source": [
        "**2**\n"
      ]
    },
    {
      "cell_type": "code",
      "metadata": {
        "id": "VQUTpNBub7pP",
        "colab_type": "code",
        "colab": {}
      },
      "source": [
        "help(scipy.stats.bayes_mvs)"
      ],
      "execution_count": 0,
      "outputs": []
    },
    {
      "cell_type": "code",
      "metadata": {
        "id": "wr0WWPWbgty5",
        "colab_type": "code",
        "colab": {}
      },
      "source": [
        "column_names = ['Clump Thickness' , 'Uniformity of Cell Size ', 'Uniformity of Cell Shape', 'Marginal Adhesion ', 'Single Epithelial Cell Size',\n",
        "                'Bare Nuclei', 'Bland Chromatin','Normal Nucleoli', 'Mitoses','Class']           \n",
        "\n",
        "\n",
        "df3 = pd.read_csv('/content/breast-cancer-wisconsin.data', names= column_names)"
      ],
      "execution_count": 0,
      "outputs": []
    },
    {
      "cell_type": "code",
      "metadata": {
        "id": "N9go0Ykmy1mR",
        "colab_type": "code",
        "colab": {
          "base_uri": "https://localhost:8080/",
          "height": 208
        },
        "outputId": "ae1549c1-a84b-4524-ce0d-7a0eea440099"
      },
      "source": [
        "df3.dtypes"
      ],
      "execution_count": 18,
      "outputs": [
        {
          "output_type": "execute_result",
          "data": {
            "text/plain": [
              "Clump Thickness                 int64\n",
              "Uniformity of Cell Size         int64\n",
              "Uniformity of Cell Shape        int64\n",
              "Marginal Adhesion               int64\n",
              "Single Epithelial Cell Size     int64\n",
              "Bare Nuclei                    object\n",
              "Bland Chromatin                 int64\n",
              "Normal Nucleoli                 int64\n",
              "Mitoses                         int64\n",
              "Class                           int64\n",
              "dtype: object"
            ]
          },
          "metadata": {
            "tags": []
          },
          "execution_count": 18
        }
      ]
    },
    {
      "cell_type": "code",
      "metadata": {
        "id": "0ofxNArehSvs",
        "colab_type": "code",
        "colab": {}
      },
      "source": [
        "observed = pd.crosstab(df3['Clump Thickness'], df3['Uniformity of Cell Shape'], margins=True)\n",
        "\n",
        "observed"
      ],
      "execution_count": 0,
      "outputs": []
    },
    {
      "cell_type": "code",
      "metadata": {
        "id": "PIcYDfbwgtr_",
        "colab_type": "code",
        "colab": {}
      },
      "source": [
        "chi2, p_value, dof, expected = stats.chi2_contingency(observed)\n",
        "\n",
        "print(\" chi2 statistic\", chi2)\n",
        "print(\"\\n p-value\", p_value)\n",
        "print(\"\\n degrees of freedom\",dof)\n",
        "print(\"\\n expected frequencies table: \\n\", expected)\n"
      ],
      "execution_count": 0,
      "outputs": []
    },
    {
      "cell_type": "code",
      "metadata": {
        "id": "hV6XmUFgha6x",
        "colab_type": "code",
        "colab": {
          "base_uri": "https://localhost:8080/",
          "height": 69
        },
        "outputId": "90930524-410b-4680-ee61-04ff2d694cb4"
      },
      "source": [
        "scipy.stats.bayes_mvs(observed, alpha=.95)"
      ],
      "execution_count": 14,
      "outputs": [
        {
          "output_type": "execute_result",
          "data": {
            "text/plain": [
              "(Mean(statistic=23.107438016528924, minmax=(9.737352533261346, 36.477523499796504)),\n",
              " Variance(statistic=5611.166129710044, minmax=(4349.9868699152075, 7230.517647713296)),\n",
              " Std_dev(statistic=74.74918452723905, minmax=(65.95443025237356, 85.03245055690972)))"
            ]
          },
          "metadata": {
            "tags": []
          },
          "execution_count": 14
        }
      ]
    },
    {
      "cell_type": "code",
      "metadata": {
        "id": "8fOIPln5nnAN",
        "colab_type": "code",
        "colab": {}
      },
      "source": [
        "def confidence_interval(data, confidence=0.95):\n",
        "  data = np.array(data)\n",
        "  x_bar = np.mean(data)\n",
        "  n = len(data)\n",
        "  s = data.std(ddof=1)\n",
        "  stderr= s / np.sqrt(n)\n",
        "  t = stats.t.ppf((1+confidence) / 2.0, n-1)\n",
        "  margin_of_error = t * stderr\n",
        "  lower_bound = x_bar - margin_of_error\n",
        "  upper_bound = x_bar + margin_of_error\n",
        "  return (lower_bound, upper_bound, x_bar)"
      ],
      "execution_count": 0,
      "outputs": []
    },
    {
      "cell_type": "code",
      "metadata": {
        "id": "6x1qVa2Snrkr",
        "colab_type": "code",
        "colab": {
          "base_uri": "https://localhost:8080/",
          "height": 34
        },
        "outputId": "6719279f-d2fd-49c1-cef6-5a42d8c052a7"
      },
      "source": [
        "confidence_interval(observed)"
      ],
      "execution_count": 16,
      "outputs": [
        {
          "output_type": "execute_result",
          "data": {
            "text/plain": [
              "(-26.795125150025278, 73.01000118308312, 23.107438016528924)"
            ]
          },
          "metadata": {
            "tags": []
          },
          "execution_count": 16
        }
      ]
    },
    {
      "cell_type": "code",
      "metadata": {
        "id": "Gzy2GfnSiEBS",
        "colab_type": "code",
        "colab": {
          "base_uri": "https://localhost:8080/",
          "height": 265
        },
        "outputId": "0a724116-e6ce-45b6-9194-f13101d4da9f"
      },
      "source": [
        "\n",
        "import matplotlib.pyplot as plt\n",
        "\n",
        "plt.bar(0, height=23.107438016528924, yerr=(36.477523499796504-23.107438016528924))\n",
        "plt.bar(1, height=26.795125150025278, yerr=(73.01000118308312-26.795125150025278))\n",
        "plt.show()"
      ],
      "execution_count": 17,
      "outputs": [
        {
          "output_type": "display_data",
          "data": {
            "image/png": "[encoded data removed]",
            "text/plain": [
              "<Figure size 432x288 with 1 Axes>"
            ]
          },
          "metadata": {
            "tags": [],
            "needs_background": "light"
          }
        }
      ]
    },
    {
      "cell_type": "code",
      "metadata": {
        "id": "TacMzVvbnlZo",
        "colab_type": "code",
        "colab": {}
      },
      "source": [
        ""
      ],
      "execution_count": 0,
      "outputs": []
    },
    {
      "cell_type": "markdown",
      "metadata": {
        "id": "FSENKB3jqstV",
        "colab_type": "text"
      },
      "source": [
        "**####3**\n"
      ]
    },
    {
      "cell_type": "markdown",
      "metadata": {
        "id": "-Wg9WGKPqvqq",
        "colab_type": "text"
      },
      "source": [
        "The difference between bayensian statistics and frequentist statistics is that bayensian statistics can work well with smaller data sizes because it takes in the probability of certain conditional probabilities beforehand whereas frequentist stat can only rely on the sample size it has and the proper randomization of that sample size. "
      ]
    },
    {
      "cell_type": "markdown",
      "metadata": {
        "id": "uWgWjp3PQ3Sq",
        "colab_type": "text"
      },
      "source": [
        "## Resources"
      ]
    },
    {
      "cell_type": "markdown",
      "metadata": {
        "id": "QRgHqmYIQ9qn",
        "colab_type": "text"
      },
      "source": [
        "- [Worked example of Bayes rule calculation](https://en.wikipedia.org/wiki/Bayes'_theorem#Examples) (helpful as it fully breaks out the denominator)\n",
        "- [Source code for mvsdist in scipy](https://github.com/scipy/scipy/blob/90534919e139d2a81c24bf08341734ff41a3db12/scipy/stats/morestats.py#L139)"
      ]
    },
    {
      "cell_type": "markdown",
      "metadata": {
        "id": "GP7Jv1XvwtkX",
        "colab_type": "text"
      },
      "source": [
        "## Stretch Goals:\n",
        "\n",
        "- Go back and study the content from Modules 1 & 2 to make sure that you're really comfortable with them.\n",
        "- Apply a Bayesian technique to a problem you previously worked (in an assignment or project work) on from a frequentist (standard) perspective\n",
        "- Check out [PyMC3](https://docs.pymc.io/) (note this goes beyond hypothesis tests into modeling) - read the guides and work through some examples\n",
        "- Take PyMC3 further - see if you can build something with it!"
      ]
    },
    {
      "cell_type": "code",
      "metadata": {
        "id": "iDi0eFr1x-v_",
        "colab_type": "code",
        "colab": {}
      },
      "source": [
        ""
      ],
      "execution_count": 0,
      "outputs": []
    }
  ]
}