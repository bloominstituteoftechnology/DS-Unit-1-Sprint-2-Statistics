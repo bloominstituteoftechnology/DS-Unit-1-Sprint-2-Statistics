{
  "nbformat": 4,
  "nbformat_minor": 0,
  "metadata": {
    "colab": {
      "name": "Copy of DS_Unit_1_Sprint_Challenge_2_Statistics.ipynb",
      "provenance": [],
      "collapsed_sections": [],
      "include_colab_link": true
    },
    "kernelspec": {
      "name": "python3",
      "display_name": "Python 3"
    }
  },
  "cells": [
    {
      "cell_type": "markdown",
      "metadata": {
        "id": "view-in-github",
        "colab_type": "text"
      },
      "source": [
        "<a href=\"https://colab.research.google.com/github/CodyByre/DS-Unit-1-Sprint-2-Statistics/blob/master/Copy_of_DS_Unit_1_Sprint_Challenge_2_Statistics.ipynb\" target=\"_parent\"><img src=\"https://colab.research.google.com/assets/colab-badge.svg\" alt=\"Open In Colab\"/></a>"
      ]
    },
    {
      "cell_type": "markdown",
      "metadata": {
        "id": "NooAiTdnafkz",
        "colab_type": "text"
      },
      "source": [
        "# Data Science Unit 1 Sprint Challenge 2\n",
        "\n",
        "## Exploring Data, Testing Hypotheses\n",
        "\n",
        "In this sprint challenge you will look at a dataset of people being approved or rejected for credit.\n",
        "\n",
        "https://archive.ics.uci.edu/ml/datasets/Credit+Approval\n",
        "\n",
        "Data Set Information: This file concerns credit card applications. All attribute names and values have been changed to meaningless symbols to protect confidentiality of the data. This dataset is interesting because there is a good mix of attributes -- continuous, nominal with small numbers of values, and nominal with larger numbers of values. There are also a few missing values.\n",
        "\n",
        "Attribute Information:\n",
        "- A1: b, a.\n",
        "- A2: continuous.\n",
        "- A3: continuous.\n",
        "- A4: u, y, l, t.\n",
        "- A5: g, p, gg.\n",
        "- A6: c, d, cc, i, j, k, m, r, q, w, x, e, aa, ff.\n",
        "- A7: v, h, bb, j, n, z, dd, ff, o.\n",
        "- A8: continuous.\n",
        "- A9: t, f.\n",
        "- A10: t, f.\n",
        "- A11: continuous.\n",
        "- A12: t, f.\n",
        "- A13: g, p, s.\n",
        "- A14: continuous.\n",
        "- A15: continuous.\n",
        "- A16: +,- (class attribute)\n",
        "\n",
        "Yes, most of that doesn't mean anything. A16 is a variable that indicates whether or not a person's request for credit has been approved or denied. This is a good candidate for a y variable since we might want to use the other features to predict this one. The remaining variables have been obfuscated for privacy - a challenge you may have to deal with in your data science career.\n",
        "\n",
        "Sprint challenges are evaluated based on satisfactory completion of each part. It is suggested you work through it in order, getting each aspect reasonably working, before trying to deeply explore, iterate, or refine any given step. Once you get to the end, if you want to go back and improve things, go for it!"
      ]
    },
    {
      "cell_type": "markdown",
      "metadata": {
        "id": "5wch6ksCbJtZ",
        "colab_type": "text"
      },
      "source": [
        "## Part 1 - Load and validate the data\n",
        "\n",
        "- Load the data as a `pandas` data frame.\n",
        "- Validate that it has the appropriate number of observations (you can check the raw file, and also read the dataset description from UCI).\n",
        "- UCI says there should be missing data - check, and if necessary change the data so pandas recognizes it as na\n",
        "- Make sure that the loaded features are of the types described above (continuous values should be treated as float), and correct as necessary\n",
        "\n",
        "This is review, but skills that you'll use at the start of any data exploration. Further, you may have to do some investigation to figure out which file to load from - that is part of the puzzle."
      ]
    },
    {
      "cell_type": "code",
      "metadata": {
        "id": "Q79xDLckzibS",
        "colab_type": "code",
        "outputId": "ca97e076-28b5-450f-d3b9-56beaeaadb1e",
        "colab": {
          "base_uri": "https://localhost:8080/",
          "height": 236
        }
      },
      "source": [
        "!wget https://archive.ics.uci.edu/ml/machine-learning-databases/credit-screening/crx.data"
      ],
      "execution_count": 105,
      "outputs": [
        {
          "output_type": "stream",
          "text": [
            "--2020-06-01 03:51:46--  https://archive.ics.uci.edu/ml/machine-learning-databases/credit-screening/crx.data\n",
            "Resolving archive.ics.uci.edu (archive.ics.uci.edu)... 128.195.10.252\n",
            "Connecting to archive.ics.uci.edu (archive.ics.uci.edu)|128.195.10.252|:443... connected.\n",
            "HTTP request sent, awaiting response... 200 OK\n",
            "Length: 32218 (31K) [application/x-httpd-php]\n",
            "Saving to: ‘crx.data.1’\n",
            "\n",
            "crx.data.1          100%[===================>]  31.46K  --.-KB/s    in 0.06s   \n",
            "\n",
            "2020-06-01 03:51:46 (487 KB/s) - ‘crx.data.1’ saved [32218/32218]\n",
            "\n"
          ],
          "name": "stdout"
        }
      ]
    },
    {
      "cell_type": "code",
      "metadata": {
        "id": "VKIvAOj4bniV",
        "colab_type": "code",
        "colab": {}
      },
      "source": [
        "import pandas as pd\n",
        "import numpy as np\n",
        "import scipy.stats as stats\n",
        "\n",
        "# might need\n",
        "#from sklearn.model_selection import train_test_split \n",
        "#from sklearn.ensemble import RandomForestClassifier \n",
        "#from sklearn import metrics\n",
        "#import pickle"
      ],
      "execution_count": 0,
      "outputs": []
    },
    {
      "cell_type": "code",
      "metadata": {
        "id": "cXeC4-ZzuuME",
        "colab_type": "code",
        "colab": {}
      },
      "source": [
        "col_head = ['A1','A2','A3','A4','A5','A6','A7','A8','A9','A10','A11','A12','A13','A14','A15','A16']"
      ],
      "execution_count": 0,
      "outputs": []
    },
    {
      "cell_type": "code",
      "metadata": {
        "id": "t_iZbtZabAc8",
        "colab_type": "code",
        "outputId": "575f51dc-ad4e-4c89-e445-ddcf3984f349",
        "colab": {
          "base_uri": "https://localhost:8080/",
          "height": 216
        }
      },
      "source": [
        "ca = pd.read_csv('crx.data', header=None, names=col_head, na_values='?')\n",
        "print(ca.shape)\n",
        "ca.head()"
      ],
      "execution_count": 108,
      "outputs": [
        {
          "output_type": "stream",
          "text": [
            "(690, 16)\n"
          ],
          "name": "stdout"
        },
        {
          "output_type": "execute_result",
          "data": {
            "text/html": [
              "<div>\n",
              "<style scoped>\n",
              "    .dataframe tbody tr th:only-of-type {\n",
              "        vertical-align: middle;\n",
              "    }\n",
              "\n",
              "    .dataframe tbody tr th {\n",
              "        vertical-align: top;\n",
              "    }\n",
              "\n",
              "    .dataframe thead th {\n",
              "        text-align: right;\n",
              "    }\n",
              "</style>\n",
              "<table border=\"1\" class=\"dataframe\">\n",
              "  <thead>\n",
              "    <tr style=\"text-align: right;\">\n",
              "      <th></th>\n",
              "      <th>A1</th>\n",
              "      <th>A2</th>\n",
              "      <th>A3</th>\n",
              "      <th>A4</th>\n",
              "      <th>A5</th>\n",
              "      <th>A6</th>\n",
              "      <th>A7</th>\n",
              "      <th>A8</th>\n",
              "      <th>A9</th>\n",
              "      <th>A10</th>\n",
              "      <th>A11</th>\n",
              "      <th>A12</th>\n",
              "      <th>A13</th>\n",
              "      <th>A14</th>\n",
              "      <th>A15</th>\n",
              "      <th>A16</th>\n",
              "    </tr>\n",
              "  </thead>\n",
              "  <tbody>\n",
              "    <tr>\n",
              "      <th>0</th>\n",
              "      <td>b</td>\n",
              "      <td>30.83</td>\n",
              "      <td>0.000</td>\n",
              "      <td>u</td>\n",
              "      <td>g</td>\n",
              "      <td>w</td>\n",
              "      <td>v</td>\n",
              "      <td>1.25</td>\n",
              "      <td>t</td>\n",
              "      <td>t</td>\n",
              "      <td>1</td>\n",
              "      <td>f</td>\n",
              "      <td>g</td>\n",
              "      <td>202.0</td>\n",
              "      <td>0</td>\n",
              "      <td>+</td>\n",
              "    </tr>\n",
              "    <tr>\n",
              "      <th>1</th>\n",
              "      <td>a</td>\n",
              "      <td>58.67</td>\n",
              "      <td>4.460</td>\n",
              "      <td>u</td>\n",
              "      <td>g</td>\n",
              "      <td>q</td>\n",
              "      <td>h</td>\n",
              "      <td>3.04</td>\n",
              "      <td>t</td>\n",
              "      <td>t</td>\n",
              "      <td>6</td>\n",
              "      <td>f</td>\n",
              "      <td>g</td>\n",
              "      <td>43.0</td>\n",
              "      <td>560</td>\n",
              "      <td>+</td>\n",
              "    </tr>\n",
              "    <tr>\n",
              "      <th>2</th>\n",
              "      <td>a</td>\n",
              "      <td>24.50</td>\n",
              "      <td>0.500</td>\n",
              "      <td>u</td>\n",
              "      <td>g</td>\n",
              "      <td>q</td>\n",
              "      <td>h</td>\n",
              "      <td>1.50</td>\n",
              "      <td>t</td>\n",
              "      <td>f</td>\n",
              "      <td>0</td>\n",
              "      <td>f</td>\n",
              "      <td>g</td>\n",
              "      <td>280.0</td>\n",
              "      <td>824</td>\n",
              "      <td>+</td>\n",
              "    </tr>\n",
              "    <tr>\n",
              "      <th>3</th>\n",
              "      <td>b</td>\n",
              "      <td>27.83</td>\n",
              "      <td>1.540</td>\n",
              "      <td>u</td>\n",
              "      <td>g</td>\n",
              "      <td>w</td>\n",
              "      <td>v</td>\n",
              "      <td>3.75</td>\n",
              "      <td>t</td>\n",
              "      <td>t</td>\n",
              "      <td>5</td>\n",
              "      <td>t</td>\n",
              "      <td>g</td>\n",
              "      <td>100.0</td>\n",
              "      <td>3</td>\n",
              "      <td>+</td>\n",
              "    </tr>\n",
              "    <tr>\n",
              "      <th>4</th>\n",
              "      <td>b</td>\n",
              "      <td>20.17</td>\n",
              "      <td>5.625</td>\n",
              "      <td>u</td>\n",
              "      <td>g</td>\n",
              "      <td>w</td>\n",
              "      <td>v</td>\n",
              "      <td>1.71</td>\n",
              "      <td>t</td>\n",
              "      <td>f</td>\n",
              "      <td>0</td>\n",
              "      <td>f</td>\n",
              "      <td>s</td>\n",
              "      <td>120.0</td>\n",
              "      <td>0</td>\n",
              "      <td>+</td>\n",
              "    </tr>\n",
              "  </tbody>\n",
              "</table>\n",
              "</div>"
            ],
            "text/plain": [
              "  A1     A2     A3 A4 A5 A6 A7    A8 A9 A10  A11 A12 A13    A14  A15 A16\n",
              "0  b  30.83  0.000  u  g  w  v  1.25  t   t    1   f   g  202.0    0   +\n",
              "1  a  58.67  4.460  u  g  q  h  3.04  t   t    6   f   g   43.0  560   +\n",
              "2  a  24.50  0.500  u  g  q  h  1.50  t   f    0   f   g  280.0  824   +\n",
              "3  b  27.83  1.540  u  g  w  v  3.75  t   t    5   t   g  100.0    3   +\n",
              "4  b  20.17  5.625  u  g  w  v  1.71  t   f    0   f   s  120.0    0   +"
            ]
          },
          "metadata": {
            "tags": []
          },
          "execution_count": 108
        }
      ]
    },
    {
      "cell_type": "code",
      "metadata": {
        "id": "CbQIJE2WbAgF",
        "colab_type": "code",
        "colab": {}
      },
      "source": [
        "#Appropraite shape"
      ],
      "execution_count": 0,
      "outputs": []
    },
    {
      "cell_type": "code",
      "metadata": {
        "id": "CZHgT0q9bAu5",
        "colab_type": "code",
        "outputId": "629c184c-4cc9-4e1f-f665-81a0a7bbde56",
        "colab": {
          "base_uri": "https://localhost:8080/",
          "height": 325
        }
      },
      "source": [
        "ca.isnull().sum()"
      ],
      "execution_count": 110,
      "outputs": [
        {
          "output_type": "execute_result",
          "data": {
            "text/plain": [
              "A1     12\n",
              "A2     12\n",
              "A3      0\n",
              "A4      6\n",
              "A5      6\n",
              "A6      9\n",
              "A7      9\n",
              "A8      0\n",
              "A9      0\n",
              "A10     0\n",
              "A11     0\n",
              "A12     0\n",
              "A13     0\n",
              "A14    13\n",
              "A15     0\n",
              "A16     0\n",
              "dtype: int64"
            ]
          },
          "metadata": {
            "tags": []
          },
          "execution_count": 110
        }
      ]
    },
    {
      "cell_type": "code",
      "metadata": {
        "id": "kErpdLXMbAxr",
        "colab_type": "code",
        "colab": {}
      },
      "source": [
        "#Missing values changed from '?' and found. Trouble removing. Will use nan_policy='omit'"
      ],
      "execution_count": 0,
      "outputs": []
    },
    {
      "cell_type": "code",
      "metadata": {
        "id": "i3QMHD0piCAh",
        "colab_type": "code",
        "outputId": "1c8f4012-f843-4cb0-af8d-b21d67ccb432",
        "colab": {
          "base_uri": "https://localhost:8080/",
          "height": 325
        }
      },
      "source": [
        "ca.dtypes"
      ],
      "execution_count": 112,
      "outputs": [
        {
          "output_type": "execute_result",
          "data": {
            "text/plain": [
              "A1      object\n",
              "A2     float64\n",
              "A3     float64\n",
              "A4      object\n",
              "A5      object\n",
              "A6      object\n",
              "A7      object\n",
              "A8     float64\n",
              "A9      object\n",
              "A10     object\n",
              "A11      int64\n",
              "A12     object\n",
              "A13     object\n",
              "A14    float64\n",
              "A15      int64\n",
              "A16     object\n",
              "dtype: object"
            ]
          },
          "metadata": {
            "tags": []
          },
          "execution_count": 112
        }
      ]
    },
    {
      "cell_type": "code",
      "metadata": {
        "id": "a0Q4X0zxiCF_",
        "colab_type": "code",
        "outputId": "55fdbb03-a6b4-4a02-fb5a-4ea6f44a797c",
        "colab": {
          "base_uri": "https://localhost:8080/",
          "height": 325
        }
      },
      "source": [
        "print(ca.head().T)"
      ],
      "execution_count": 113,
      "outputs": [
        {
          "output_type": "stream",
          "text": [
            "         0      1     2      3      4\n",
            "A1       b      a     a      b      b\n",
            "A2   30.83  58.67  24.5  27.83  20.17\n",
            "A3       0   4.46   0.5   1.54  5.625\n",
            "A4       u      u     u      u      u\n",
            "A5       g      g     g      g      g\n",
            "A6       w      q     q      w      w\n",
            "A7       v      h     h      v      v\n",
            "A8    1.25   3.04   1.5   3.75   1.71\n",
            "A9       t      t     t      t      t\n",
            "A10      t      t     f      t      f\n",
            "A11      1      6     0      5      0\n",
            "A12      f      f     f      t      f\n",
            "A13      g      g     g      g      s\n",
            "A14    202     43   280    100    120\n",
            "A15      0    560   824      3      0\n",
            "A16      +      +     +      +      +\n"
          ],
          "name": "stdout"
        }
      ]
    },
    {
      "cell_type": "code",
      "metadata": {
        "id": "GXWFarfemXpM",
        "colab_type": "code",
        "outputId": "b7970a1b-0123-4e08-9e55-910e765f2992",
        "colab": {
          "base_uri": "https://localhost:8080/",
          "height": 235
        }
      },
      "source": [
        "ca['A2']"
      ],
      "execution_count": 114,
      "outputs": [
        {
          "output_type": "execute_result",
          "data": {
            "text/plain": [
              "0      30.83\n",
              "1      58.67\n",
              "2      24.50\n",
              "3      27.83\n",
              "4      20.17\n",
              "       ...  \n",
              "685    21.08\n",
              "686    22.67\n",
              "687    25.25\n",
              "688    17.92\n",
              "689    35.00\n",
              "Name: A2, Length: 690, dtype: float64"
            ]
          },
          "metadata": {
            "tags": []
          },
          "execution_count": 114
        }
      ]
    },
    {
      "cell_type": "code",
      "metadata": {
        "id": "ouWpyHLrtOlT",
        "colab_type": "code",
        "outputId": "9bd88b31-74a6-4572-e20a-aab46542324b",
        "colab": {
          "base_uri": "https://localhost:8080/",
          "height": 235
        }
      },
      "source": [
        "pd.to_numeric(ca['A2'])"
      ],
      "execution_count": 115,
      "outputs": [
        {
          "output_type": "execute_result",
          "data": {
            "text/plain": [
              "0      30.83\n",
              "1      58.67\n",
              "2      24.50\n",
              "3      27.83\n",
              "4      20.17\n",
              "       ...  \n",
              "685    21.08\n",
              "686    22.67\n",
              "687    25.25\n",
              "688    17.92\n",
              "689    35.00\n",
              "Name: A2, Length: 690, dtype: float64"
            ]
          },
          "metadata": {
            "tags": []
          },
          "execution_count": 115
        }
      ]
    },
    {
      "cell_type": "code",
      "metadata": {
        "id": "TLEq8-1RtY0c",
        "colab_type": "code",
        "outputId": "e3492d70-b734-4210-8e0a-8d6855c4a69e",
        "colab": {
          "base_uri": "https://localhost:8080/",
          "height": 235
        }
      },
      "source": [
        "pd.to_numeric(ca['A14'], downcast='integer')\n",
        "#won't seem to convert to int. won't affect math\n"
      ],
      "execution_count": 116,
      "outputs": [
        {
          "output_type": "execute_result",
          "data": {
            "text/plain": [
              "0      202.0\n",
              "1       43.0\n",
              "2      280.0\n",
              "3      100.0\n",
              "4      120.0\n",
              "       ...  \n",
              "685    260.0\n",
              "686    200.0\n",
              "687    200.0\n",
              "688    280.0\n",
              "689      0.0\n",
              "Name: A14, Length: 690, dtype: float64"
            ]
          },
          "metadata": {
            "tags": []
          },
          "execution_count": 116
        }
      ]
    },
    {
      "cell_type": "code",
      "metadata": {
        "id": "D2xl84s8iCI8",
        "colab_type": "code",
        "colab": {}
      },
      "source": [
        "#Tried this and failed, so did above method.\n",
        "#ca[1]= ca[1].astype(float) \n",
        "#ca[13]= ca[13].astype(int) \n",
        "\n",
        "#correct = ca.dtypes \n",
        "#print('Wrong Types/n', wrong, '\\n')\n",
        "#print('Correct Types/n', correct, '\\n')\n",
        "\n"
      ],
      "execution_count": 0,
      "outputs": []
    },
    {
      "cell_type": "code",
      "metadata": {
        "id": "QAtq3lT-iCNc",
        "colab_type": "code",
        "outputId": "c45ce76e-fb35-47d9-c399-944199fab602",
        "colab": {
          "base_uri": "https://localhost:8080/",
          "height": 197
        }
      },
      "source": [
        "ca2 = ca.replace({'+':1,'-':0})\n",
        "ca2.head()"
      ],
      "execution_count": 118,
      "outputs": [
        {
          "output_type": "execute_result",
          "data": {
            "text/html": [
              "<div>\n",
              "<style scoped>\n",
              "    .dataframe tbody tr th:only-of-type {\n",
              "        vertical-align: middle;\n",
              "    }\n",
              "\n",
              "    .dataframe tbody tr th {\n",
              "        vertical-align: top;\n",
              "    }\n",
              "\n",
              "    .dataframe thead th {\n",
              "        text-align: right;\n",
              "    }\n",
              "</style>\n",
              "<table border=\"1\" class=\"dataframe\">\n",
              "  <thead>\n",
              "    <tr style=\"text-align: right;\">\n",
              "      <th></th>\n",
              "      <th>A1</th>\n",
              "      <th>A2</th>\n",
              "      <th>A3</th>\n",
              "      <th>A4</th>\n",
              "      <th>A5</th>\n",
              "      <th>A6</th>\n",
              "      <th>A7</th>\n",
              "      <th>A8</th>\n",
              "      <th>A9</th>\n",
              "      <th>A10</th>\n",
              "      <th>A11</th>\n",
              "      <th>A12</th>\n",
              "      <th>A13</th>\n",
              "      <th>A14</th>\n",
              "      <th>A15</th>\n",
              "      <th>A16</th>\n",
              "    </tr>\n",
              "  </thead>\n",
              "  <tbody>\n",
              "    <tr>\n",
              "      <th>0</th>\n",
              "      <td>b</td>\n",
              "      <td>30.83</td>\n",
              "      <td>0.000</td>\n",
              "      <td>u</td>\n",
              "      <td>g</td>\n",
              "      <td>w</td>\n",
              "      <td>v</td>\n",
              "      <td>1.25</td>\n",
              "      <td>t</td>\n",
              "      <td>t</td>\n",
              "      <td>1</td>\n",
              "      <td>f</td>\n",
              "      <td>g</td>\n",
              "      <td>202.0</td>\n",
              "      <td>0</td>\n",
              "      <td>1</td>\n",
              "    </tr>\n",
              "    <tr>\n",
              "      <th>1</th>\n",
              "      <td>a</td>\n",
              "      <td>58.67</td>\n",
              "      <td>4.460</td>\n",
              "      <td>u</td>\n",
              "      <td>g</td>\n",
              "      <td>q</td>\n",
              "      <td>h</td>\n",
              "      <td>3.04</td>\n",
              "      <td>t</td>\n",
              "      <td>t</td>\n",
              "      <td>6</td>\n",
              "      <td>f</td>\n",
              "      <td>g</td>\n",
              "      <td>43.0</td>\n",
              "      <td>560</td>\n",
              "      <td>1</td>\n",
              "    </tr>\n",
              "    <tr>\n",
              "      <th>2</th>\n",
              "      <td>a</td>\n",
              "      <td>24.50</td>\n",
              "      <td>0.500</td>\n",
              "      <td>u</td>\n",
              "      <td>g</td>\n",
              "      <td>q</td>\n",
              "      <td>h</td>\n",
              "      <td>1.50</td>\n",
              "      <td>t</td>\n",
              "      <td>f</td>\n",
              "      <td>0</td>\n",
              "      <td>f</td>\n",
              "      <td>g</td>\n",
              "      <td>280.0</td>\n",
              "      <td>824</td>\n",
              "      <td>1</td>\n",
              "    </tr>\n",
              "    <tr>\n",
              "      <th>3</th>\n",
              "      <td>b</td>\n",
              "      <td>27.83</td>\n",
              "      <td>1.540</td>\n",
              "      <td>u</td>\n",
              "      <td>g</td>\n",
              "      <td>w</td>\n",
              "      <td>v</td>\n",
              "      <td>3.75</td>\n",
              "      <td>t</td>\n",
              "      <td>t</td>\n",
              "      <td>5</td>\n",
              "      <td>t</td>\n",
              "      <td>g</td>\n",
              "      <td>100.0</td>\n",
              "      <td>3</td>\n",
              "      <td>1</td>\n",
              "    </tr>\n",
              "    <tr>\n",
              "      <th>4</th>\n",
              "      <td>b</td>\n",
              "      <td>20.17</td>\n",
              "      <td>5.625</td>\n",
              "      <td>u</td>\n",
              "      <td>g</td>\n",
              "      <td>w</td>\n",
              "      <td>v</td>\n",
              "      <td>1.71</td>\n",
              "      <td>t</td>\n",
              "      <td>f</td>\n",
              "      <td>0</td>\n",
              "      <td>f</td>\n",
              "      <td>s</td>\n",
              "      <td>120.0</td>\n",
              "      <td>0</td>\n",
              "      <td>1</td>\n",
              "    </tr>\n",
              "  </tbody>\n",
              "</table>\n",
              "</div>"
            ],
            "text/plain": [
              "  A1     A2     A3 A4 A5 A6 A7    A8 A9 A10  A11 A12 A13    A14  A15  A16\n",
              "0  b  30.83  0.000  u  g  w  v  1.25  t   t    1   f   g  202.0    0    1\n",
              "1  a  58.67  4.460  u  g  q  h  3.04  t   t    6   f   g   43.0  560    1\n",
              "2  a  24.50  0.500  u  g  q  h  1.50  t   f    0   f   g  280.0  824    1\n",
              "3  b  27.83  1.540  u  g  w  v  3.75  t   t    5   t   g  100.0    3    1\n",
              "4  b  20.17  5.625  u  g  w  v  1.71  t   f    0   f   s  120.0    0    1"
            ]
          },
          "metadata": {
            "tags": []
          },
          "execution_count": 118
        }
      ]
    },
    {
      "cell_type": "code",
      "metadata": {
        "id": "EY-bfYZbiCDy",
        "colab_type": "code",
        "outputId": "77def6e4-2a59-48ec-b2e8-1903a96072f7",
        "colab": {
          "base_uri": "https://localhost:8080/",
          "height": 235
        }
      },
      "source": [
        "pd.to_numeric(ca2['A16'])"
      ],
      "execution_count": 119,
      "outputs": [
        {
          "output_type": "execute_result",
          "data": {
            "text/plain": [
              "0      1\n",
              "1      1\n",
              "2      1\n",
              "3      1\n",
              "4      1\n",
              "      ..\n",
              "685    0\n",
              "686    0\n",
              "687    0\n",
              "688    0\n",
              "689    0\n",
              "Name: A16, Length: 690, dtype: int64"
            ]
          },
          "metadata": {
            "tags": []
          },
          "execution_count": 119
        }
      ]
    },
    {
      "cell_type": "code",
      "metadata": {
        "id": "X66u1_aUbAbD",
        "colab_type": "code",
        "colab": {}
      },
      "source": [
        ""
      ],
      "execution_count": 0,
      "outputs": []
    },
    {
      "cell_type": "markdown",
      "metadata": {
        "id": "G7rLytbrO38L",
        "colab_type": "text"
      },
      "source": [
        "## Part 2 - Exploring data, Testing hypotheses\n",
        "\n",
        "The only thing we really know about this data is that A16 is the class label. Besides that, we have 6 continuous (float) features and 9 categorical features.\n",
        "\n",
        "Explore the data: you can use whatever approach (tables, utility functions, visualizations) to get an impression of the distributions and relationships of the variables. In general, your goal is to understand how the features are different when grouped by the two class labels (`+` and `-`).\n",
        "\n",
        "For the 6 continuous features, how are they different when split between the two class labels? Choose two features to run t-tests (again split by class label) - specifically, select one feature that is *extremely* different between the classes, and another feature that is notably less different (though perhaps still \"statistically significantly\" different). You may have to explore more than two features to do this.\n",
        "\n",
        "For the categorical features, explore by creating \"cross tabs\" (aka [contingency tables](https://en.wikipedia.org/wiki/Contingency_table)) between them and the class label, and apply the Chi-squared test to them. [pandas.crosstab](http://pandas.pydata.org/pandas-docs/stable/reference/api/pandas.crosstab.html) can create contingency tables, and [scipy.stats.chi2_contingency](https://docs.scipy.org/doc/scipy/reference/generated/scipy.stats.chi2_contingency.html) can calculate the Chi-squared statistic for them.\n",
        "\n",
        "There are 9 categorical features - as with the t-test, try to find one where the Chi-squared test returns an extreme result (rejecting the null that the data are independent), and one where it is less extreme.\n",
        "\n",
        "**NOTE** - \"less extreme\" just means smaller test statistic/larger p-value. Even the least extreme differences may be strongly statistically significant.\n",
        "\n",
        "Your *main* goal is the hypothesis tests, so don't spend too much time on the exploration/visualization piece. That is just a means to an end - use simple visualizations, such as boxplots or a scatter matrix (both built in to pandas), to get a feel for the overall distribution of the variables.\n",
        "\n",
        "This is challenging, so manage your time and aim for a baseline of at least running two t-tests and two Chi-squared tests before polishing. And don't forget to answer the questions in part 3, even if your results in this part aren't what you want them to be."
      ]
    },
    {
      "cell_type": "code",
      "metadata": {
        "id": "_nqcgc0yzm68",
        "colab_type": "code",
        "colab": {}
      },
      "source": [
        "import seaborn as sns"
      ],
      "execution_count": 0,
      "outputs": []
    },
    {
      "cell_type": "code",
      "metadata": {
        "id": "k4iDUDvGvZDx",
        "colab_type": "code",
        "outputId": "88020717-e20f-4767-9993-77cae309d000",
        "colab": {
          "base_uri": "https://localhost:8080/",
          "height": 770
        }
      },
      "source": [
        "sns.pairplot(ca2)"
      ],
      "execution_count": 121,
      "outputs": [
        {
          "output_type": "execute_result",
          "data": {
            "text/plain": [
              "<seaborn.axisgrid.PairGrid at 0x7f29744df080>"
            ]
          },
          "metadata": {
            "tags": []
          },
          "execution_count": 121
        },
        {
          "output_type": "display_data",
          "data": {
            "image/png": "[encoded data removed]",
            "text/plain": [
              "<Figure size 1260x1260 with 56 Axes>"
            ]
          },
          "metadata": {
            "tags": [],
            "needs_background": "light"
          }
        }
      ]
    },
    {
      "cell_type": "code",
      "metadata": {
        "id": "WNFSaP1h14pY",
        "colab_type": "code",
        "outputId": "153db982-b198-45dc-d75b-bcd125ec7b4f",
        "colab": {
          "base_uri": "https://localhost:8080/",
          "height": 72
        }
      },
      "source": [
        "ca2['A16'].value_counts()"
      ],
      "execution_count": 122,
      "outputs": [
        {
          "output_type": "execute_result",
          "data": {
            "text/plain": [
              "0    383\n",
              "1    307\n",
              "Name: A16, dtype: int64"
            ]
          },
          "metadata": {
            "tags": []
          },
          "execution_count": 122
        }
      ]
    },
    {
      "cell_type": "code",
      "metadata": {
        "id": "cWRURwPfvZZe",
        "colab_type": "code",
        "colab": {}
      },
      "source": [
        "approved = ca2[ca2['A16']==1]\n",
        "denied = ca2[ca2['A16']==0]\n",
        "\n"
      ],
      "execution_count": 0,
      "outputs": []
    },
    {
      "cell_type": "code",
      "metadata": {
        "id": "ljvpPLKP2whx",
        "colab_type": "code",
        "outputId": "03a4137b-0b08-4801-b16f-f76061351373",
        "colab": {
          "base_uri": "https://localhost:8080/",
          "height": 257
        }
      },
      "source": [
        "approved.corr()"
      ],
      "execution_count": 124,
      "outputs": [
        {
          "output_type": "execute_result",
          "data": {
            "text/html": [
              "<div>\n",
              "<style scoped>\n",
              "    .dataframe tbody tr th:only-of-type {\n",
              "        vertical-align: middle;\n",
              "    }\n",
              "\n",
              "    .dataframe tbody tr th {\n",
              "        vertical-align: top;\n",
              "    }\n",
              "\n",
              "    .dataframe thead th {\n",
              "        text-align: right;\n",
              "    }\n",
              "</style>\n",
              "<table border=\"1\" class=\"dataframe\">\n",
              "  <thead>\n",
              "    <tr style=\"text-align: right;\">\n",
              "      <th></th>\n",
              "      <th>A2</th>\n",
              "      <th>A3</th>\n",
              "      <th>A8</th>\n",
              "      <th>A11</th>\n",
              "      <th>A14</th>\n",
              "      <th>A15</th>\n",
              "      <th>A16</th>\n",
              "    </tr>\n",
              "  </thead>\n",
              "  <tbody>\n",
              "    <tr>\n",
              "      <th>A2</th>\n",
              "      <td>1.000000</td>\n",
              "      <td>0.242018</td>\n",
              "      <td>0.448193</td>\n",
              "      <td>0.188323</td>\n",
              "      <td>-0.126338</td>\n",
              "      <td>-0.011596</td>\n",
              "      <td>NaN</td>\n",
              "    </tr>\n",
              "    <tr>\n",
              "      <th>A3</th>\n",
              "      <td>0.242018</td>\n",
              "      <td>1.000000</td>\n",
              "      <td>0.379640</td>\n",
              "      <td>0.270734</td>\n",
              "      <td>-0.328795</td>\n",
              "      <td>0.110576</td>\n",
              "      <td>NaN</td>\n",
              "    </tr>\n",
              "    <tr>\n",
              "      <th>A8</th>\n",
              "      <td>0.448193</td>\n",
              "      <td>0.379640</td>\n",
              "      <td>1.000000</td>\n",
              "      <td>0.268358</td>\n",
              "      <td>-0.184369</td>\n",
              "      <td>-0.001367</td>\n",
              "      <td>NaN</td>\n",
              "    </tr>\n",
              "    <tr>\n",
              "      <th>A11</th>\n",
              "      <td>0.188323</td>\n",
              "      <td>0.270734</td>\n",
              "      <td>0.268358</td>\n",
              "      <td>1.000000</td>\n",
              "      <td>-0.121698</td>\n",
              "      <td>-0.009422</td>\n",
              "      <td>NaN</td>\n",
              "    </tr>\n",
              "    <tr>\n",
              "      <th>A14</th>\n",
              "      <td>-0.126338</td>\n",
              "      <td>-0.328795</td>\n",
              "      <td>-0.184369</td>\n",
              "      <td>-0.121698</td>\n",
              "      <td>1.000000</td>\n",
              "      <td>0.136104</td>\n",
              "      <td>NaN</td>\n",
              "    </tr>\n",
              "    <tr>\n",
              "      <th>A15</th>\n",
              "      <td>-0.011596</td>\n",
              "      <td>0.110576</td>\n",
              "      <td>-0.001367</td>\n",
              "      <td>-0.009422</td>\n",
              "      <td>0.136104</td>\n",
              "      <td>1.000000</td>\n",
              "      <td>NaN</td>\n",
              "    </tr>\n",
              "    <tr>\n",
              "      <th>A16</th>\n",
              "      <td>NaN</td>\n",
              "      <td>NaN</td>\n",
              "      <td>NaN</td>\n",
              "      <td>NaN</td>\n",
              "      <td>NaN</td>\n",
              "      <td>NaN</td>\n",
              "      <td>NaN</td>\n",
              "    </tr>\n",
              "  </tbody>\n",
              "</table>\n",
              "</div>"
            ],
            "text/plain": [
              "           A2        A3        A8       A11       A14       A15  A16\n",
              "A2   1.000000  0.242018  0.448193  0.188323 -0.126338 -0.011596  NaN\n",
              "A3   0.242018  1.000000  0.379640  0.270734 -0.328795  0.110576  NaN\n",
              "A8   0.448193  0.379640  1.000000  0.268358 -0.184369 -0.001367  NaN\n",
              "A11  0.188323  0.270734  0.268358  1.000000 -0.121698 -0.009422  NaN\n",
              "A14 -0.126338 -0.328795 -0.184369 -0.121698  1.000000  0.136104  NaN\n",
              "A15 -0.011596  0.110576 -0.001367 -0.009422  0.136104  1.000000  NaN\n",
              "A16       NaN       NaN       NaN       NaN       NaN       NaN  NaN"
            ]
          },
          "metadata": {
            "tags": []
          },
          "execution_count": 124
        }
      ]
    },
    {
      "cell_type": "code",
      "metadata": {
        "id": "_O7LbgPk2woz",
        "colab_type": "code",
        "outputId": "e7689d47-3987-4fdf-d3e5-22f5ae7c525a",
        "colab": {
          "base_uri": "https://localhost:8080/",
          "height": 257
        }
      },
      "source": [
        "denied.corr()"
      ],
      "execution_count": 125,
      "outputs": [
        {
          "output_type": "execute_result",
          "data": {
            "text/html": [
              "<div>\n",
              "<style scoped>\n",
              "    .dataframe tbody tr th:only-of-type {\n",
              "        vertical-align: middle;\n",
              "    }\n",
              "\n",
              "    .dataframe tbody tr th {\n",
              "        vertical-align: top;\n",
              "    }\n",
              "\n",
              "    .dataframe thead th {\n",
              "        text-align: right;\n",
              "    }\n",
              "</style>\n",
              "<table border=\"1\" class=\"dataframe\">\n",
              "  <thead>\n",
              "    <tr style=\"text-align: right;\">\n",
              "      <th></th>\n",
              "      <th>A2</th>\n",
              "      <th>A3</th>\n",
              "      <th>A8</th>\n",
              "      <th>A11</th>\n",
              "      <th>A14</th>\n",
              "      <th>A15</th>\n",
              "      <th>A16</th>\n",
              "    </tr>\n",
              "  </thead>\n",
              "  <tbody>\n",
              "    <tr>\n",
              "      <th>A2</th>\n",
              "      <td>1.000000</td>\n",
              "      <td>0.095026</td>\n",
              "      <td>0.247226</td>\n",
              "      <td>0.014088</td>\n",
              "      <td>-0.014918</td>\n",
              "      <td>-0.033869</td>\n",
              "      <td>NaN</td>\n",
              "    </tr>\n",
              "    <tr>\n",
              "      <th>A3</th>\n",
              "      <td>0.095026</td>\n",
              "      <td>1.000000</td>\n",
              "      <td>0.013675</td>\n",
              "      <td>0.082698</td>\n",
              "      <td>-0.105275</td>\n",
              "      <td>0.120923</td>\n",
              "      <td>NaN</td>\n",
              "    </tr>\n",
              "    <tr>\n",
              "      <th>A8</th>\n",
              "      <td>0.247226</td>\n",
              "      <td>0.013675</td>\n",
              "      <td>1.000000</td>\n",
              "      <td>0.003884</td>\n",
              "      <td>0.142298</td>\n",
              "      <td>-0.092774</td>\n",
              "      <td>NaN</td>\n",
              "    </tr>\n",
              "    <tr>\n",
              "      <th>A11</th>\n",
              "      <td>0.014088</td>\n",
              "      <td>0.082698</td>\n",
              "      <td>0.003884</td>\n",
              "      <td>1.000000</td>\n",
              "      <td>-0.059991</td>\n",
              "      <td>0.010720</td>\n",
              "      <td>NaN</td>\n",
              "    </tr>\n",
              "    <tr>\n",
              "      <th>A14</th>\n",
              "      <td>-0.014918</td>\n",
              "      <td>-0.105275</td>\n",
              "      <td>0.142298</td>\n",
              "      <td>-0.059991</td>\n",
              "      <td>1.000000</td>\n",
              "      <td>0.022729</td>\n",
              "      <td>NaN</td>\n",
              "    </tr>\n",
              "    <tr>\n",
              "      <th>A15</th>\n",
              "      <td>-0.033869</td>\n",
              "      <td>0.120923</td>\n",
              "      <td>-0.092774</td>\n",
              "      <td>0.010720</td>\n",
              "      <td>0.022729</td>\n",
              "      <td>1.000000</td>\n",
              "      <td>NaN</td>\n",
              "    </tr>\n",
              "    <tr>\n",
              "      <th>A16</th>\n",
              "      <td>NaN</td>\n",
              "      <td>NaN</td>\n",
              "      <td>NaN</td>\n",
              "      <td>NaN</td>\n",
              "      <td>NaN</td>\n",
              "      <td>NaN</td>\n",
              "      <td>NaN</td>\n",
              "    </tr>\n",
              "  </tbody>\n",
              "</table>\n",
              "</div>"
            ],
            "text/plain": [
              "           A2        A3        A8       A11       A14       A15  A16\n",
              "A2   1.000000  0.095026  0.247226  0.014088 -0.014918 -0.033869  NaN\n",
              "A3   0.095026  1.000000  0.013675  0.082698 -0.105275  0.120923  NaN\n",
              "A8   0.247226  0.013675  1.000000  0.003884  0.142298 -0.092774  NaN\n",
              "A11  0.014088  0.082698  0.003884  1.000000 -0.059991  0.010720  NaN\n",
              "A14 -0.014918 -0.105275  0.142298 -0.059991  1.000000  0.022729  NaN\n",
              "A15 -0.033869  0.120923 -0.092774  0.010720  0.022729  1.000000  NaN\n",
              "A16       NaN       NaN       NaN       NaN       NaN       NaN  NaN"
            ]
          },
          "metadata": {
            "tags": []
          },
          "execution_count": 125
        }
      ]
    },
    {
      "cell_type": "markdown",
      "metadata": {
        "id": "4P_BJZWH3NoZ",
        "colab_type": "text"
      },
      "source": [
        "For the 6 continuous features, how are they different when split between the two class labels? Choose two features to run t-tests (again split by class label) - specifically, select one feature that is extremely different between the classes, and another feature that is notably less different (though perhaps still \"statistically significantly\" different). You may have to explore more than two features to do this.\n"
      ]
    },
    {
      "cell_type": "code",
      "metadata": {
        "id": "222_eKpX4Elj",
        "colab_type": "code",
        "colab": {}
      },
      "source": [
        "from scipy.stats import ttest_ind, ttest_ind_from_stats, ttest_rel, chisquare, normaltest"
      ],
      "execution_count": 0,
      "outputs": []
    },
    {
      "cell_type": "code",
      "metadata": {
        "id": "AV5MESl23LXs",
        "colab_type": "code",
        "outputId": "6c428135-0d91-4c06-d55f-ae33f89335c2",
        "colab": {
          "base_uri": "https://localhost:8080/",
          "height": 35
        }
      },
      "source": [
        "#very different\n",
        "ttest_ind(approved['A8'], denied['A8'])"
      ],
      "execution_count": 127,
      "outputs": [
        {
          "output_type": "execute_result",
          "data": {
            "text/plain": [
              "Ttest_indResult(statistic=8.935819983773698, pvalue=3.6710537401601785e-18)"
            ]
          },
          "metadata": {
            "tags": []
          },
          "execution_count": 127
        }
      ]
    },
    {
      "cell_type": "code",
      "metadata": {
        "id": "KqiTDFnx3Lcb",
        "colab_type": "code",
        "outputId": "dfa86c63-5bdd-4b4f-e655-a74ec36b2a0e",
        "colab": {
          "base_uri": "https://localhost:8080/",
          "height": 35
        }
      },
      "source": [
        "#less different\n",
        "ttest_ind(approved['A15'], denied['A15'])"
      ],
      "execution_count": 128,
      "outputs": [
        {
          "output_type": "execute_result",
          "data": {
            "text/plain": [
              "Ttest_indResult(statistic=4.680216020964486, pvalue=3.4520256956287944e-06)"
            ]
          },
          "metadata": {
            "tags": []
          },
          "execution_count": 128
        }
      ]
    },
    {
      "cell_type": "markdown",
      "metadata": {
        "id": "G5JQWYts5SY7",
        "colab_type": "text"
      },
      "source": [
        "For the categorical features, explore by creating \"cross tabs\" (aka contingency tables) between them and the class label, and apply the Chi-squared test to them. pandas.crosstab can create contingency tables, and scipy.stats.chi2_contingency can calculate the Chi-squared statistic for them.\n",
        "\n",
        "There are 9 categorical features - as with the t-test, try to find one where the Chi-squared test returns an extreme result (rejecting the null that the data are independent), and one where it is less extreme.\n",
        "\n",
        "NOTE - \"less extreme\" just means smaller test statistic/larger p-value. Even the least extreme differences may be strongly statistically significant.\n",
        "\n",
        "Your main goal is the hypothesis tests, so don't spend too much time on the exploration/visualization piece. That is just a means to an end - use simple visualizations, such as boxplots or a scatter matrix (both built in to pandas), to get a feel for the overall distribution of the variables.\n",
        "\n",
        "This is challenging, so manage your time and aim for a baseline of at least running two t-tests and two Chi-squared tests before polishing. And don't forget to answer the questions in part 3, even if your results in this part aren't what you want them to be.\n"
      ]
    },
    {
      "cell_type": "code",
      "metadata": {
        "id": "6BGzGRHh3LnS",
        "colab_type": "code",
        "outputId": "576ee0c3-9d5b-4a28-fdd8-2a82f1cdd37c",
        "colab": {
          "base_uri": "https://localhost:8080/",
          "height": 325
        }
      },
      "source": [
        "ca2.dtypes"
      ],
      "execution_count": 129,
      "outputs": [
        {
          "output_type": "execute_result",
          "data": {
            "text/plain": [
              "A1      object\n",
              "A2     float64\n",
              "A3     float64\n",
              "A4      object\n",
              "A5      object\n",
              "A6      object\n",
              "A7      object\n",
              "A8     float64\n",
              "A9      object\n",
              "A10     object\n",
              "A11      int64\n",
              "A12     object\n",
              "A13     object\n",
              "A14    float64\n",
              "A15      int64\n",
              "A16      int64\n",
              "dtype: object"
            ]
          },
          "metadata": {
            "tags": []
          },
          "execution_count": 129
        }
      ]
    },
    {
      "cell_type": "code",
      "metadata": {
        "id": "G9f_NX0X3LlM",
        "colab_type": "code",
        "outputId": "e57c8799-cfb5-41d0-df50-0249cb20598c",
        "colab": {
          "base_uri": "https://localhost:8080/",
          "height": 456
        }
      },
      "source": [
        "xtab = pd.crosstab(index= ca2['A16'], columns= [ca2['A1'],ca2['A4'],ca2['A5'],\n",
        "                                                ca2['A6'],ca2['A7'],ca2['A9'],\n",
        "                                                ca2['A10'],ca2['A12'],ca2['A13']], margins=True)\n",
        "xtab"
      ],
      "execution_count": 130,
      "outputs": [
        {
          "output_type": "execute_result",
          "data": {
            "text/html": [
              "<div>\n",
              "<style scoped>\n",
              "    .dataframe tbody tr th:only-of-type {\n",
              "        vertical-align: middle;\n",
              "    }\n",
              "\n",
              "    .dataframe tbody tr th {\n",
              "        vertical-align: top;\n",
              "    }\n",
              "\n",
              "    .dataframe thead tr th {\n",
              "        text-align: left;\n",
              "    }\n",
              "\n",
              "    .dataframe thead tr:last-of-type th {\n",
              "        text-align: right;\n",
              "    }\n",
              "</style>\n",
              "<table border=\"1\" class=\"dataframe\">\n",
              "  <thead>\n",
              "    <tr>\n",
              "      <th>A1</th>\n",
              "      <th colspan=\"40\" halign=\"left\">a</th>\n",
              "      <th>...</th>\n",
              "      <th colspan=\"39\" halign=\"left\">b</th>\n",
              "      <th>All</th>\n",
              "    </tr>\n",
              "    <tr>\n",
              "      <th>A4</th>\n",
              "      <th>l</th>\n",
              "      <th colspan=\"39\" halign=\"left\">u</th>\n",
              "      <th>...</th>\n",
              "      <th colspan=\"39\" halign=\"left\">y</th>\n",
              "      <th></th>\n",
              "    </tr>\n",
              "    <tr>\n",
              "      <th>A5</th>\n",
              "      <th>gg</th>\n",
              "      <th colspan=\"39\" halign=\"left\">g</th>\n",
              "      <th>...</th>\n",
              "      <th colspan=\"39\" halign=\"left\">p</th>\n",
              "      <th></th>\n",
              "    </tr>\n",
              "    <tr>\n",
              "      <th>A6</th>\n",
              "      <th>cc</th>\n",
              "      <th colspan=\"9\" halign=\"left\">aa</th>\n",
              "      <th colspan=\"10\" halign=\"left\">c</th>\n",
              "      <th colspan=\"5\" halign=\"left\">cc</th>\n",
              "      <th colspan=\"3\" halign=\"left\">d</th>\n",
              "      <th colspan=\"4\" halign=\"left\">e</th>\n",
              "      <th colspan=\"8\" halign=\"left\">ff</th>\n",
              "      <th>...</th>\n",
              "      <th colspan=\"4\" halign=\"left\">ff</th>\n",
              "      <th colspan=\"7\" halign=\"left\">i</th>\n",
              "      <th>j</th>\n",
              "      <th colspan=\"9\" halign=\"left\">k</th>\n",
              "      <th colspan=\"6\" halign=\"left\">m</th>\n",
              "      <th>q</th>\n",
              "      <th>r</th>\n",
              "      <th colspan=\"7\" halign=\"left\">w</th>\n",
              "      <th colspan=\"3\" halign=\"left\">x</th>\n",
              "      <th></th>\n",
              "    </tr>\n",
              "    <tr>\n",
              "      <th>A7</th>\n",
              "      <th>ff</th>\n",
              "      <th colspan=\"2\" halign=\"left\">h</th>\n",
              "      <th colspan=\"7\" halign=\"left\">v</th>\n",
              "      <th>bb</th>\n",
              "      <th colspan=\"3\" halign=\"left\">h</th>\n",
              "      <th colspan=\"6\" halign=\"left\">v</th>\n",
              "      <th colspan=\"2\" halign=\"left\">h</th>\n",
              "      <th colspan=\"3\" halign=\"left\">v</th>\n",
              "      <th colspan=\"3\" halign=\"left\">v</th>\n",
              "      <th>bb</th>\n",
              "      <th>dd</th>\n",
              "      <th>v</th>\n",
              "      <th>z</th>\n",
              "      <th colspan=\"8\" halign=\"left\">ff</th>\n",
              "      <th>...</th>\n",
              "      <th colspan=\"4\" halign=\"left\">ff</th>\n",
              "      <th colspan=\"3\" halign=\"left\">bb</th>\n",
              "      <th colspan=\"3\" halign=\"left\">h</th>\n",
              "      <th>v</th>\n",
              "      <th>v</th>\n",
              "      <th>ff</th>\n",
              "      <th colspan=\"3\" halign=\"left\">h</th>\n",
              "      <th colspan=\"5\" halign=\"left\">v</th>\n",
              "      <th colspan=\"2\" halign=\"left\">bb</th>\n",
              "      <th colspan=\"4\" halign=\"left\">v</th>\n",
              "      <th>h</th>\n",
              "      <th>n</th>\n",
              "      <th>h</th>\n",
              "      <th colspan=\"6\" halign=\"left\">v</th>\n",
              "      <th colspan=\"2\" halign=\"left\">h</th>\n",
              "      <th>v</th>\n",
              "      <th></th>\n",
              "    </tr>\n",
              "    <tr>\n",
              "      <th>A9</th>\n",
              "      <th>f</th>\n",
              "      <th>f</th>\n",
              "      <th>t</th>\n",
              "      <th colspan=\"3\" halign=\"left\">f</th>\n",
              "      <th colspan=\"4\" halign=\"left\">t</th>\n",
              "      <th>t</th>\n",
              "      <th colspan=\"3\" halign=\"left\">t</th>\n",
              "      <th colspan=\"3\" halign=\"left\">f</th>\n",
              "      <th colspan=\"3\" halign=\"left\">t</th>\n",
              "      <th colspan=\"2\" halign=\"left\">t</th>\n",
              "      <th>f</th>\n",
              "      <th colspan=\"2\" halign=\"left\">t</th>\n",
              "      <th colspan=\"2\" halign=\"left\">f</th>\n",
              "      <th>t</th>\n",
              "      <th>t</th>\n",
              "      <th>t</th>\n",
              "      <th>t</th>\n",
              "      <th>t</th>\n",
              "      <th colspan=\"5\" halign=\"left\">f</th>\n",
              "      <th colspan=\"3\" halign=\"left\">t</th>\n",
              "      <th>...</th>\n",
              "      <th colspan=\"3\" halign=\"left\">f</th>\n",
              "      <th>t</th>\n",
              "      <th colspan=\"2\" halign=\"left\">f</th>\n",
              "      <th>t</th>\n",
              "      <th colspan=\"2\" halign=\"left\">f</th>\n",
              "      <th>t</th>\n",
              "      <th>f</th>\n",
              "      <th>f</th>\n",
              "      <th>f</th>\n",
              "      <th>f</th>\n",
              "      <th colspan=\"2\" halign=\"left\">t</th>\n",
              "      <th colspan=\"3\" halign=\"left\">f</th>\n",
              "      <th colspan=\"2\" halign=\"left\">t</th>\n",
              "      <th>f</th>\n",
              "      <th>t</th>\n",
              "      <th colspan=\"4\" halign=\"left\">f</th>\n",
              "      <th>f</th>\n",
              "      <th>f</th>\n",
              "      <th>t</th>\n",
              "      <th colspan=\"3\" halign=\"left\">f</th>\n",
              "      <th colspan=\"3\" halign=\"left\">t</th>\n",
              "      <th>f</th>\n",
              "      <th>t</th>\n",
              "      <th>t</th>\n",
              "      <th></th>\n",
              "    </tr>\n",
              "    <tr>\n",
              "      <th>A10</th>\n",
              "      <th>f</th>\n",
              "      <th>f</th>\n",
              "      <th>f</th>\n",
              "      <th colspan=\"2\" halign=\"left\">f</th>\n",
              "      <th>t</th>\n",
              "      <th colspan=\"2\" halign=\"left\">f</th>\n",
              "      <th colspan=\"2\" halign=\"left\">t</th>\n",
              "      <th>t</th>\n",
              "      <th colspan=\"2\" halign=\"left\">f</th>\n",
              "      <th>t</th>\n",
              "      <th colspan=\"2\" halign=\"left\">f</th>\n",
              "      <th>t</th>\n",
              "      <th>f</th>\n",
              "      <th colspan=\"2\" halign=\"left\">t</th>\n",
              "      <th colspan=\"2\" halign=\"left\">t</th>\n",
              "      <th>f</th>\n",
              "      <th colspan=\"2\" halign=\"left\">f</th>\n",
              "      <th colspan=\"2\" halign=\"left\">f</th>\n",
              "      <th>f</th>\n",
              "      <th>t</th>\n",
              "      <th>t</th>\n",
              "      <th>f</th>\n",
              "      <th>t</th>\n",
              "      <th colspan=\"3\" halign=\"left\">f</th>\n",
              "      <th colspan=\"2\" halign=\"left\">t</th>\n",
              "      <th>f</th>\n",
              "      <th colspan=\"2\" halign=\"left\">t</th>\n",
              "      <th>...</th>\n",
              "      <th colspan=\"2\" halign=\"left\">f</th>\n",
              "      <th>t</th>\n",
              "      <th>f</th>\n",
              "      <th colspan=\"2\" halign=\"left\">f</th>\n",
              "      <th>t</th>\n",
              "      <th colspan=\"2\" halign=\"left\">f</th>\n",
              "      <th>t</th>\n",
              "      <th>f</th>\n",
              "      <th>f</th>\n",
              "      <th>f</th>\n",
              "      <th>f</th>\n",
              "      <th colspan=\"2\" halign=\"left\">f</th>\n",
              "      <th colspan=\"2\" halign=\"left\">f</th>\n",
              "      <th>t</th>\n",
              "      <th colspan=\"2\" halign=\"left\">t</th>\n",
              "      <th>f</th>\n",
              "      <th>t</th>\n",
              "      <th colspan=\"4\" halign=\"left\">f</th>\n",
              "      <th>t</th>\n",
              "      <th>f</th>\n",
              "      <th>f</th>\n",
              "      <th colspan=\"3\" halign=\"left\">f</th>\n",
              "      <th>f</th>\n",
              "      <th colspan=\"2\" halign=\"left\">t</th>\n",
              "      <th>f</th>\n",
              "      <th>f</th>\n",
              "      <th>t</th>\n",
              "      <th></th>\n",
              "    </tr>\n",
              "    <tr>\n",
              "      <th>A12</th>\n",
              "      <th>t</th>\n",
              "      <th>f</th>\n",
              "      <th>f</th>\n",
              "      <th>f</th>\n",
              "      <th>t</th>\n",
              "      <th>t</th>\n",
              "      <th>f</th>\n",
              "      <th>t</th>\n",
              "      <th>f</th>\n",
              "      <th>t</th>\n",
              "      <th>t</th>\n",
              "      <th>f</th>\n",
              "      <th>t</th>\n",
              "      <th>f</th>\n",
              "      <th>f</th>\n",
              "      <th>t</th>\n",
              "      <th>t</th>\n",
              "      <th>f</th>\n",
              "      <th>f</th>\n",
              "      <th>t</th>\n",
              "      <th>f</th>\n",
              "      <th>t</th>\n",
              "      <th>f</th>\n",
              "      <th>f</th>\n",
              "      <th>t</th>\n",
              "      <th>f</th>\n",
              "      <th>t</th>\n",
              "      <th>t</th>\n",
              "      <th>f</th>\n",
              "      <th>t</th>\n",
              "      <th>t</th>\n",
              "      <th>f</th>\n",
              "      <th colspan=\"2\" halign=\"left\">f</th>\n",
              "      <th>t</th>\n",
              "      <th>f</th>\n",
              "      <th>t</th>\n",
              "      <th>f</th>\n",
              "      <th>f</th>\n",
              "      <th>t</th>\n",
              "      <th>...</th>\n",
              "      <th>f</th>\n",
              "      <th>t</th>\n",
              "      <th>f</th>\n",
              "      <th>t</th>\n",
              "      <th>f</th>\n",
              "      <th>t</th>\n",
              "      <th>t</th>\n",
              "      <th>f</th>\n",
              "      <th>t</th>\n",
              "      <th>t</th>\n",
              "      <th>t</th>\n",
              "      <th>f</th>\n",
              "      <th>f</th>\n",
              "      <th>t</th>\n",
              "      <th>f</th>\n",
              "      <th>t</th>\n",
              "      <th colspan=\"2\" halign=\"left\">f</th>\n",
              "      <th>t</th>\n",
              "      <th>f</th>\n",
              "      <th>t</th>\n",
              "      <th>t</th>\n",
              "      <th>t</th>\n",
              "      <th colspan=\"2\" halign=\"left\">f</th>\n",
              "      <th colspan=\"2\" halign=\"left\">t</th>\n",
              "      <th>t</th>\n",
              "      <th>t</th>\n",
              "      <th>t</th>\n",
              "      <th colspan=\"2\" halign=\"left\">f</th>\n",
              "      <th>t</th>\n",
              "      <th>t</th>\n",
              "      <th>f</th>\n",
              "      <th>t</th>\n",
              "      <th>f</th>\n",
              "      <th>t</th>\n",
              "      <th>t</th>\n",
              "      <th></th>\n",
              "    </tr>\n",
              "    <tr>\n",
              "      <th>A13</th>\n",
              "      <th>s</th>\n",
              "      <th>g</th>\n",
              "      <th>g</th>\n",
              "      <th>g</th>\n",
              "      <th>g</th>\n",
              "      <th>g</th>\n",
              "      <th>g</th>\n",
              "      <th>g</th>\n",
              "      <th>g</th>\n",
              "      <th>g</th>\n",
              "      <th>g</th>\n",
              "      <th>g</th>\n",
              "      <th>g</th>\n",
              "      <th>g</th>\n",
              "      <th>g</th>\n",
              "      <th>g</th>\n",
              "      <th>g</th>\n",
              "      <th>g</th>\n",
              "      <th>g</th>\n",
              "      <th>g</th>\n",
              "      <th>g</th>\n",
              "      <th>g</th>\n",
              "      <th>g</th>\n",
              "      <th>g</th>\n",
              "      <th>g</th>\n",
              "      <th>g</th>\n",
              "      <th>g</th>\n",
              "      <th>g</th>\n",
              "      <th>g</th>\n",
              "      <th>g</th>\n",
              "      <th>g</th>\n",
              "      <th>g</th>\n",
              "      <th>g</th>\n",
              "      <th>s</th>\n",
              "      <th>s</th>\n",
              "      <th>g</th>\n",
              "      <th>g</th>\n",
              "      <th>g</th>\n",
              "      <th>g</th>\n",
              "      <th>g</th>\n",
              "      <th>...</th>\n",
              "      <th>g</th>\n",
              "      <th>g</th>\n",
              "      <th>g</th>\n",
              "      <th>g</th>\n",
              "      <th>g</th>\n",
              "      <th>g</th>\n",
              "      <th>g</th>\n",
              "      <th>g</th>\n",
              "      <th>s</th>\n",
              "      <th>g</th>\n",
              "      <th>g</th>\n",
              "      <th>g</th>\n",
              "      <th>g</th>\n",
              "      <th>g</th>\n",
              "      <th>g</th>\n",
              "      <th>g</th>\n",
              "      <th>g</th>\n",
              "      <th>s</th>\n",
              "      <th>g</th>\n",
              "      <th>g</th>\n",
              "      <th>g</th>\n",
              "      <th>s</th>\n",
              "      <th>g</th>\n",
              "      <th>g</th>\n",
              "      <th>s</th>\n",
              "      <th>g</th>\n",
              "      <th>s</th>\n",
              "      <th>g</th>\n",
              "      <th>g</th>\n",
              "      <th>g</th>\n",
              "      <th>g</th>\n",
              "      <th>s</th>\n",
              "      <th>g</th>\n",
              "      <th>g</th>\n",
              "      <th>g</th>\n",
              "      <th>g</th>\n",
              "      <th>g</th>\n",
              "      <th>g</th>\n",
              "      <th>g</th>\n",
              "      <th></th>\n",
              "    </tr>\n",
              "    <tr>\n",
              "      <th>A16</th>\n",
              "      <th></th>\n",
              "      <th></th>\n",
              "      <th></th>\n",
              "      <th></th>\n",
              "      <th></th>\n",
              "      <th></th>\n",
              "      <th></th>\n",
              "      <th></th>\n",
              "      <th></th>\n",
              "      <th></th>\n",
              "      <th></th>\n",
              "      <th></th>\n",
              "      <th></th>\n",
              "      <th></th>\n",
              "      <th></th>\n",
              "      <th></th>\n",
              "      <th></th>\n",
              "      <th></th>\n",
              "      <th></th>\n",
              "      <th></th>\n",
              "      <th></th>\n",
              "      <th></th>\n",
              "      <th></th>\n",
              "      <th></th>\n",
              "      <th></th>\n",
              "      <th></th>\n",
              "      <th></th>\n",
              "      <th></th>\n",
              "      <th></th>\n",
              "      <th></th>\n",
              "      <th></th>\n",
              "      <th></th>\n",
              "      <th></th>\n",
              "      <th></th>\n",
              "      <th></th>\n",
              "      <th></th>\n",
              "      <th></th>\n",
              "      <th></th>\n",
              "      <th></th>\n",
              "      <th></th>\n",
              "      <th></th>\n",
              "      <th></th>\n",
              "      <th></th>\n",
              "      <th></th>\n",
              "      <th></th>\n",
              "      <th></th>\n",
              "      <th></th>\n",
              "      <th></th>\n",
              "      <th></th>\n",
              "      <th></th>\n",
              "      <th></th>\n",
              "      <th></th>\n",
              "      <th></th>\n",
              "      <th></th>\n",
              "      <th></th>\n",
              "      <th></th>\n",
              "      <th></th>\n",
              "      <th></th>\n",
              "      <th></th>\n",
              "      <th></th>\n",
              "      <th></th>\n",
              "      <th></th>\n",
              "      <th></th>\n",
              "      <th></th>\n",
              "      <th></th>\n",
              "      <th></th>\n",
              "      <th></th>\n",
              "      <th></th>\n",
              "      <th></th>\n",
              "      <th></th>\n",
              "      <th></th>\n",
              "      <th></th>\n",
              "      <th></th>\n",
              "      <th></th>\n",
              "      <th></th>\n",
              "      <th></th>\n",
              "      <th></th>\n",
              "      <th></th>\n",
              "      <th></th>\n",
              "      <th></th>\n",
              "      <th></th>\n",
              "    </tr>\n",
              "  </thead>\n",
              "  <tbody>\n",
              "    <tr>\n",
              "      <th>0</th>\n",
              "      <td>0</td>\n",
              "      <td>1</td>\n",
              "      <td>1</td>\n",
              "      <td>4</td>\n",
              "      <td>1</td>\n",
              "      <td>2</td>\n",
              "      <td>0</td>\n",
              "      <td>0</td>\n",
              "      <td>0</td>\n",
              "      <td>0</td>\n",
              "      <td>0</td>\n",
              "      <td>0</td>\n",
              "      <td>1</td>\n",
              "      <td>0</td>\n",
              "      <td>6</td>\n",
              "      <td>1</td>\n",
              "      <td>3</td>\n",
              "      <td>0</td>\n",
              "      <td>0</td>\n",
              "      <td>1</td>\n",
              "      <td>0</td>\n",
              "      <td>0</td>\n",
              "      <td>0</td>\n",
              "      <td>0</td>\n",
              "      <td>1</td>\n",
              "      <td>2</td>\n",
              "      <td>2</td>\n",
              "      <td>1</td>\n",
              "      <td>0</td>\n",
              "      <td>0</td>\n",
              "      <td>0</td>\n",
              "      <td>0</td>\n",
              "      <td>5</td>\n",
              "      <td>1</td>\n",
              "      <td>1</td>\n",
              "      <td>5</td>\n",
              "      <td>2</td>\n",
              "      <td>1</td>\n",
              "      <td>0</td>\n",
              "      <td>0</td>\n",
              "      <td>...</td>\n",
              "      <td>4</td>\n",
              "      <td>1</td>\n",
              "      <td>3</td>\n",
              "      <td>1</td>\n",
              "      <td>1</td>\n",
              "      <td>2</td>\n",
              "      <td>1</td>\n",
              "      <td>1</td>\n",
              "      <td>1</td>\n",
              "      <td>1</td>\n",
              "      <td>2</td>\n",
              "      <td>1</td>\n",
              "      <td>1</td>\n",
              "      <td>1</td>\n",
              "      <td>0</td>\n",
              "      <td>1</td>\n",
              "      <td>5</td>\n",
              "      <td>1</td>\n",
              "      <td>1</td>\n",
              "      <td>1</td>\n",
              "      <td>0</td>\n",
              "      <td>0</td>\n",
              "      <td>0</td>\n",
              "      <td>2</td>\n",
              "      <td>1</td>\n",
              "      <td>2</td>\n",
              "      <td>1</td>\n",
              "      <td>1</td>\n",
              "      <td>1</td>\n",
              "      <td>0</td>\n",
              "      <td>1</td>\n",
              "      <td>2</td>\n",
              "      <td>2</td>\n",
              "      <td>0</td>\n",
              "      <td>0</td>\n",
              "      <td>1</td>\n",
              "      <td>1</td>\n",
              "      <td>1</td>\n",
              "      <td>0</td>\n",
              "      <td>371</td>\n",
              "    </tr>\n",
              "    <tr>\n",
              "      <th>1</th>\n",
              "      <td>1</td>\n",
              "      <td>0</td>\n",
              "      <td>0</td>\n",
              "      <td>0</td>\n",
              "      <td>0</td>\n",
              "      <td>0</td>\n",
              "      <td>3</td>\n",
              "      <td>1</td>\n",
              "      <td>4</td>\n",
              "      <td>2</td>\n",
              "      <td>1</td>\n",
              "      <td>1</td>\n",
              "      <td>1</td>\n",
              "      <td>2</td>\n",
              "      <td>0</td>\n",
              "      <td>0</td>\n",
              "      <td>0</td>\n",
              "      <td>1</td>\n",
              "      <td>4</td>\n",
              "      <td>4</td>\n",
              "      <td>2</td>\n",
              "      <td>3</td>\n",
              "      <td>1</td>\n",
              "      <td>2</td>\n",
              "      <td>0</td>\n",
              "      <td>0</td>\n",
              "      <td>0</td>\n",
              "      <td>0</td>\n",
              "      <td>1</td>\n",
              "      <td>1</td>\n",
              "      <td>1</td>\n",
              "      <td>1</td>\n",
              "      <td>0</td>\n",
              "      <td>0</td>\n",
              "      <td>0</td>\n",
              "      <td>0</td>\n",
              "      <td>0</td>\n",
              "      <td>0</td>\n",
              "      <td>1</td>\n",
              "      <td>1</td>\n",
              "      <td>...</td>\n",
              "      <td>0</td>\n",
              "      <td>0</td>\n",
              "      <td>0</td>\n",
              "      <td>0</td>\n",
              "      <td>0</td>\n",
              "      <td>0</td>\n",
              "      <td>1</td>\n",
              "      <td>0</td>\n",
              "      <td>0</td>\n",
              "      <td>0</td>\n",
              "      <td>0</td>\n",
              "      <td>0</td>\n",
              "      <td>0</td>\n",
              "      <td>0</td>\n",
              "      <td>1</td>\n",
              "      <td>0</td>\n",
              "      <td>0</td>\n",
              "      <td>0</td>\n",
              "      <td>0</td>\n",
              "      <td>1</td>\n",
              "      <td>1</td>\n",
              "      <td>1</td>\n",
              "      <td>1</td>\n",
              "      <td>0</td>\n",
              "      <td>0</td>\n",
              "      <td>0</td>\n",
              "      <td>0</td>\n",
              "      <td>0</td>\n",
              "      <td>0</td>\n",
              "      <td>1</td>\n",
              "      <td>0</td>\n",
              "      <td>0</td>\n",
              "      <td>0</td>\n",
              "      <td>3</td>\n",
              "      <td>2</td>\n",
              "      <td>2</td>\n",
              "      <td>0</td>\n",
              "      <td>0</td>\n",
              "      <td>2</td>\n",
              "      <td>300</td>\n",
              "    </tr>\n",
              "    <tr>\n",
              "      <th>All</th>\n",
              "      <td>1</td>\n",
              "      <td>1</td>\n",
              "      <td>1</td>\n",
              "      <td>4</td>\n",
              "      <td>1</td>\n",
              "      <td>2</td>\n",
              "      <td>3</td>\n",
              "      <td>1</td>\n",
              "      <td>4</td>\n",
              "      <td>2</td>\n",
              "      <td>1</td>\n",
              "      <td>1</td>\n",
              "      <td>2</td>\n",
              "      <td>2</td>\n",
              "      <td>6</td>\n",
              "      <td>1</td>\n",
              "      <td>3</td>\n",
              "      <td>1</td>\n",
              "      <td>4</td>\n",
              "      <td>5</td>\n",
              "      <td>2</td>\n",
              "      <td>3</td>\n",
              "      <td>1</td>\n",
              "      <td>2</td>\n",
              "      <td>1</td>\n",
              "      <td>2</td>\n",
              "      <td>2</td>\n",
              "      <td>1</td>\n",
              "      <td>1</td>\n",
              "      <td>1</td>\n",
              "      <td>1</td>\n",
              "      <td>1</td>\n",
              "      <td>5</td>\n",
              "      <td>1</td>\n",
              "      <td>1</td>\n",
              "      <td>5</td>\n",
              "      <td>2</td>\n",
              "      <td>1</td>\n",
              "      <td>1</td>\n",
              "      <td>1</td>\n",
              "      <td>...</td>\n",
              "      <td>4</td>\n",
              "      <td>1</td>\n",
              "      <td>3</td>\n",
              "      <td>1</td>\n",
              "      <td>1</td>\n",
              "      <td>2</td>\n",
              "      <td>2</td>\n",
              "      <td>1</td>\n",
              "      <td>1</td>\n",
              "      <td>1</td>\n",
              "      <td>2</td>\n",
              "      <td>1</td>\n",
              "      <td>1</td>\n",
              "      <td>1</td>\n",
              "      <td>1</td>\n",
              "      <td>1</td>\n",
              "      <td>5</td>\n",
              "      <td>1</td>\n",
              "      <td>1</td>\n",
              "      <td>2</td>\n",
              "      <td>1</td>\n",
              "      <td>1</td>\n",
              "      <td>1</td>\n",
              "      <td>2</td>\n",
              "      <td>1</td>\n",
              "      <td>2</td>\n",
              "      <td>1</td>\n",
              "      <td>1</td>\n",
              "      <td>1</td>\n",
              "      <td>1</td>\n",
              "      <td>1</td>\n",
              "      <td>2</td>\n",
              "      <td>2</td>\n",
              "      <td>3</td>\n",
              "      <td>2</td>\n",
              "      <td>3</td>\n",
              "      <td>1</td>\n",
              "      <td>1</td>\n",
              "      <td>2</td>\n",
              "      <td>671</td>\n",
              "    </tr>\n",
              "  </tbody>\n",
              "</table>\n",
              "<p>3 rows × 354 columns</p>\n",
              "</div>"
            ],
            "text/plain": [
              "A1   a                                   ...  b                                All\n",
              "A4   l  u                                ...  y                                   \n",
              "A5  gg  g                                ...  p                                   \n",
              "A6  cc aa                          c     ...  r  w                    x           \n",
              "A7  ff  h     v                   bb  h  ...  n  h  v                 h     v     \n",
              "A9   f  f  t  f        t           t  t  ...  f  t  f        t        f  t  t     \n",
              "A10  f  f  f  f     t  f     t     t  f  ...  f  f  f        f  t     f  f  t     \n",
              "A12  t  f  f  f  t  t  f  t  f  t  t  f  ...  t  t  f     t  t  f  t  f  t  t     \n",
              "A13  s  g  g  g  g  g  g  g  g  g  g  g  ...  g  g  g  s  g  g  g  g  g  g  g     \n",
              "A16                                      ...                                      \n",
              "0    0  1  1  4  1  2  0  0  0  0  0  0  ...  1  0  1  2  2  0  0  1  1  1  0  371\n",
              "1    1  0  0  0  0  0  3  1  4  2  1  1  ...  0  1  0  0  0  3  2  2  0  0  2  300\n",
              "All  1  1  1  4  1  2  3  1  4  2  1  1  ...  1  1  1  2  2  3  2  3  1  1  2  671\n",
              "\n",
              "[3 rows x 354 columns]"
            ]
          },
          "metadata": {
            "tags": []
          },
          "execution_count": 130
        }
      ]
    },
    {
      "cell_type": "code",
      "metadata": {
        "id": "Jdg-S87A3BOt",
        "colab_type": "code",
        "colab": {}
      },
      "source": [
        "columns= [ca2['A1'],ca2['A4'],ca2['A5'],ca2['A6'],ca2['A7'],ca2['A9'],ca2['A10'],\n",
        "          ca2['A12'],ca2['A13']]\n",
        "xtab_list = [pd.crosstab(ca2['A16'], x) for x in columns]\n"
      ],
      "execution_count": 0,
      "outputs": []
    },
    {
      "cell_type": "code",
      "metadata": {
        "id": "-y1l5a7J3BU0",
        "colab_type": "code",
        "colab": {}
      },
      "source": [
        "columns= [ca2['A1'],ca2['A4'],ca2['A5'],ca2['A6'],ca2['A7'],ca2['A9'],ca2['A10'],\n",
        "          ca2['A12'],ca2['A13']]"
      ],
      "execution_count": 0,
      "outputs": []
    },
    {
      "cell_type": "code",
      "metadata": {
        "id": "gJ1h2YcN3BNS",
        "colab_type": "code",
        "outputId": "b40732d9-208e-40de-8a04-978d92b51530",
        "colab": {
          "base_uri": "https://localhost:8080/",
          "height": 524
        }
      },
      "source": [
        "xtab_list"
      ],
      "execution_count": 133,
      "outputs": [
        {
          "output_type": "execute_result",
          "data": {
            "text/plain": [
              "[A1     a    b\n",
              " A16          \n",
              " 0    112  262\n",
              " 1     98  206, A4   l    u    y\n",
              " A16             \n",
              " 0    0  263  118\n",
              " 1    2  256   45, A5     g  gg    p\n",
              " A16              \n",
              " 0    263   0  118\n",
              " 1    256   2   45, A6   aa   c  cc   d   e  ff   i  j   k   m   q  r   w   x\n",
              " A16                                                      \n",
              " 0    35  75  12  23  11  46  45  7  37  22  27  1  31   6\n",
              " 1    19  62  29   7  14   7  14  3  14  16  51  2  33  32, A7   bb  dd  ff   h  j  n  o    v  z\n",
              " A16                                 \n",
              " 0    34   4  49  51  5  2  1  230  2\n",
              " 1    25   2   8  87  3  2  1  169  6, A9     f    t\n",
              " A16          \n",
              " 0    306   77\n",
              " 1     23  284, A10    f    t\n",
              " A16          \n",
              " 0    297   86\n",
              " 1     98  209, A12    f    t\n",
              " A16          \n",
              " 0    213  170\n",
              " 1    161  146, A13    g  p   s\n",
              " A16            \n",
              " 0    338  3  42\n",
              " 1    287  5  15]"
            ]
          },
          "metadata": {
            "tags": []
          },
          "execution_count": 133
        }
      ]
    },
    {
      "cell_type": "code",
      "metadata": {
        "id": "v_t5nx1o3BLW",
        "colab_type": "code",
        "colab": {}
      },
      "source": [
        "#for crosstab in xtab_list:\n"
      ],
      "execution_count": 0,
      "outputs": []
    },
    {
      "cell_type": "code",
      "metadata": {
        "id": "25YzHQe1BXd6",
        "colab_type": "code",
        "colab": {
          "base_uri": "https://localhost:8080/",
          "height": 35
        },
        "outputId": "212ef160-47be-4b90-de74-8bbef3a1eee1"
      },
      "source": [
        "chisquare(xtab, axis=None)"
      ],
      "execution_count": 134,
      "outputs": [
        {
          "output_type": "execute_result",
          "data": {
            "text/plain": [
              "Power_divergenceResult(statistic=267154.21460506704, pvalue=0.0)"
            ]
          },
          "metadata": {
            "tags": []
          },
          "execution_count": 134
        }
      ]
    },
    {
      "cell_type": "code",
      "metadata": {
        "id": "U7PKTxH-BXhS",
        "colab_type": "code",
        "colab": {}
      },
      "source": [
        "xtab2 = pd.crosstab(ca2['A16'], ca2['A1'])"
      ],
      "execution_count": 0,
      "outputs": []
    },
    {
      "cell_type": "code",
      "metadata": {
        "id": "lw_J6VSJBXbf",
        "colab_type": "code",
        "colab": {
          "base_uri": "https://localhost:8080/",
          "height": 35
        },
        "outputId": "4ba4c1d1-6f65-404a-b177-bfcf5a2b9ee8"
      },
      "source": [
        "chisquare(xtab2, axis=None) #less extreme"
      ],
      "execution_count": 136,
      "outputs": [
        {
          "output_type": "execute_result",
          "data": {
            "text/plain": [
              "Power_divergenceResult(statistic=108.00589970501476, pvalue=2.9474557158762434e-23)"
            ]
          },
          "metadata": {
            "tags": []
          },
          "execution_count": 136
        }
      ]
    },
    {
      "cell_type": "code",
      "metadata": {
        "id": "gLhd4ZyGCSkN",
        "colab_type": "code",
        "colab": {}
      },
      "source": [
        "xtab3 = pd.crosstab(ca2['A16'], ca2['A13'])"
      ],
      "execution_count": 0,
      "outputs": []
    },
    {
      "cell_type": "code",
      "metadata": {
        "id": "OCm_4ZVuCa85",
        "colab_type": "code",
        "colab": {
          "base_uri": "https://localhost:8080/",
          "height": 35
        },
        "outputId": "0ab79afa-00b6-45b4-9c4d-98b28fa1df82"
      },
      "source": [
        "chisquare(xtab3, axis=None) #extreme"
      ],
      "execution_count": 140,
      "outputs": [
        {
          "output_type": "execute_result",
          "data": {
            "text/plain": [
              "Power_divergenceResult(statistic=1037.2695652173913, pvalue=5.124924990548949e-222)"
            ]
          },
          "metadata": {
            "tags": []
          },
          "execution_count": 140
        }
      ]
    },
    {
      "cell_type": "code",
      "metadata": {
        "id": "AjjE6ClsCbAD",
        "colab_type": "code",
        "colab": {}
      },
      "source": [
        ""
      ],
      "execution_count": 0,
      "outputs": []
    },
    {
      "cell_type": "code",
      "metadata": {
        "id": "vOVqToJyCbEN",
        "colab_type": "code",
        "colab": {}
      },
      "source": [
        ""
      ],
      "execution_count": 0,
      "outputs": []
    },
    {
      "cell_type": "code",
      "metadata": {
        "id": "FktnsY9cCbH7",
        "colab_type": "code",
        "colab": {}
      },
      "source": [
        ""
      ],
      "execution_count": 0,
      "outputs": []
    },
    {
      "cell_type": "code",
      "metadata": {
        "id": "kZwHrWO-CSmf",
        "colab_type": "code",
        "colab": {}
      },
      "source": [
        ""
      ],
      "execution_count": 0,
      "outputs": []
    },
    {
      "cell_type": "code",
      "metadata": {
        "id": "ZIittRaoCShr",
        "colab_type": "code",
        "colab": {}
      },
      "source": [
        ""
      ],
      "execution_count": 0,
      "outputs": []
    },
    {
      "cell_type": "markdown",
      "metadata": {
        "id": "ZM8JckA2bgnp",
        "colab_type": "text"
      },
      "source": [
        "## Part 3 - Analysis and Interpretation\n",
        "\n",
        "Now that you've looked at the data, answer the following questions:\n",
        "\n",
        "- Interpret and explain the two t-tests you ran - what do they tell you about the relationships between the continuous features you selected and the class labels?\n",
        "- Interpret and explain the two Chi-squared tests you ran - what do they tell you about the relationships between the categorical features you selected and the class labels?\n",
        "- What was the most challenging part of this sprint challenge?\n",
        "\n",
        "Answer with text, but feel free to intersperse example code/results or refer to it from earlier."
      ]
    },
    {
      "cell_type": "markdown",
      "metadata": {
        "id": "LIozLDNG2Uhu",
        "colab_type": "text"
      },
      "source": [
        "*Your words here!*"
      ]
    },
    {
      "cell_type": "markdown",
      "metadata": {
        "id": "pvs3_-sNWQv0",
        "colab_type": "text"
      },
      "source": [
        "## Part 4 - Bayesian vs Frequentist Statistics\n",
        "\n",
        "Using a minimum of 2-3 sentences, give an explanation of Bayesian and Frequentist statistics, and then compare and contrast these two approaches to statistical inference.\n",
        "\n"
      ]
    },
    {
      "cell_type": "markdown",
      "metadata": {
        "id": "h1oK1UaDWrI-",
        "colab_type": "text"
      },
      "source": [
        "Bayesian statistics uses prior data before beginning. This can be based on logic, common sense, or actual data. The prior is then updated to improve results as you go.\n",
        "\n",
        "Frequentist starts with a fresh clean slate and then comes to conclusions based on samples and data alone. Since there is no prior to begin with, there is no prior to update.\n",
        "\n",
        "Bayesian is more logical to me because there is a knowledge base to take advantage of so we might as well use it."
      ]
    },
    {
      "cell_type": "markdown",
      "metadata": {
        "id": "XOequK5xpVz7",
        "colab_type": "text"
      },
      "source": [
        "# Stretch Goals: \n",
        "Do these to get a 3. These are not required in order to pass the Sprint Challenge.\n",
        "\n",
        "## Part 1: \n",
        "\n",
        "Make sure that all of your dataframe columns have the appropriate data types. *Hint:* If a column has the datatype of \"object\" even though it's made up of float or integer values, you can coerce it to act as a numeric column by using the `pd.to_numeric()` function. In order to get a 3 on this section make sure that your data exploration is particularly well commented, easy to follow, and thorough.\n",
        "\n",
        "## Part 2:\n",
        "\n",
        "Write functions that can calculate t-tests and chi^2 tests on all of the appropriate column combinations from the dataset. (Remember that certain tests require certain variable types.)\n",
        "\n",
        "## Part 3: \n",
        "\n",
        "Calculate and report confidence intervals on your most important mean estimates (choose at least two). Make some kind of a graphic or visualization to help us see visually how precise these estimates are.\n",
        "\n",
        "## Part 4:\n",
        "\n",
        "Give an extra awesome explanation of Bayesian vs Frequentist Statistics. Maybe use code or visualizations, or any other means necessary to show an above average grasp of these high level concepts."
      ]
    },
    {
      "cell_type": "code",
      "metadata": {
        "id": "NT37grnxqa05",
        "colab_type": "code",
        "colab": {}
      },
      "source": [
        "# You can work the stretch goals down here or back up in their regular sections\n",
        "# just make sure that they are labeled so that we can easily differentiate\n",
        "# your main work from the stretch goals."
      ],
      "execution_count": 0,
      "outputs": []
    }
  ]
}