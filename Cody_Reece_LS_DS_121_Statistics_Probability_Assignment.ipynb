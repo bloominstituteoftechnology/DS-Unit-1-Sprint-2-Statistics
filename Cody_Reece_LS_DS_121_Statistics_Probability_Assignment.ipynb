{
  "nbformat": 4,
  "nbformat_minor": 0,
  "metadata": {
    "kernelspec": {
      "display_name": "Python 3",
      "language": "python",
      "name": "python3"
    },
    "language_info": {
      "codemirror_mode": {
        "name": "ipython",
        "version": 3
      },
      "file_extension": ".py",
      "mimetype": "text/x-python",
      "name": "python",
      "nbconvert_exporter": "python",
      "pygments_lexer": "ipython3",
      "version": "3.7.3"
    },
    "colab": {
      "name": "Cody_Reece_LS_DS_121_Statistics_Probability_Assignment.ipynb",
      "provenance": [],
      "collapsed_sections": [],
      "include_colab_link": true
    }
  },
  "cells": [
    {
      "cell_type": "markdown",
      "metadata": {
        "id": "view-in-github",
        "colab_type": "text"
      },
      "source": [
        "<a href=\"https://colab.research.google.com/github/Reece323/DS-Unit-1-Sprint-2-Statistics/blob/master/Cody_Reece_LS_DS_121_Statistics_Probability_Assignment.ipynb\" target=\"_parent\"><img src=\"https://colab.research.google.com/assets/colab-badge.svg\" alt=\"Open In Colab\"/></a>"
      ]
    },
    {
      "cell_type": "markdown",
      "metadata": {
        "id": "Sa5KWMO1ngPN",
        "colab_type": "text"
      },
      "source": [
        "<img align=\"left\" src=\"https://lever-client-logos.s3.amazonaws.com/864372b1-534c-480e-acd5-9711f850815c-1524247202159.png\" width=200>\n",
        "<br></br>\n",
        "<br></br>\n",
        "\n",
        "## *Data Science Unit 1 Sprint 2 Assignment 1*\n",
        "\n",
        "# Apply the t-test to real data\n",
        "\n",
        "Your assignment is to determine which issues have \"statistically significant\" differences between political parties in this [1980s congressional voting data](https://archive.ics.uci.edu/ml/datasets/Congressional+Voting+Records). The data consists of 435 instances (one for each congressperson), a class (democrat or republican), and 16 binary attributes (yes or no for voting for or against certain issues). Be aware - there are missing values!\n",
        "\n",
        "Your goals:\n",
        "\n",
        "1. Load and clean the data (or determine the best method to drop observations when running tests)\n",
        "2. Using hypothesis testing, find an issue that democrats support more than republicans with p < 0.01\n",
        "3. Using hypothesis testing, find an issue that republicans support more than democrats with p < 0.01\n",
        "4. Using hypothesis testing, find an issue where the difference between republicans and democrats has p > 0.1 (i.e. there may not be much of a difference)\n",
        "\n",
        "Note that this data will involve *2 sample* t-tests, because you're comparing averages across two groups (republicans and democrats) rather than a single group against a null hypothesis."
      ]
    },
    {
      "cell_type": "code",
      "metadata": {
        "id": "ZKwspo2CngPP",
        "colab_type": "code",
        "outputId": "beef88dd-1f63-44a9-d884-fec4ba6477ca",
        "colab": {
          "base_uri": "https://localhost:8080/",
          "height": 370
        }
      },
      "source": [
        "import pandas as pd\n",
        "import statistics as stats\n",
        "from scipy.stats import ttest_ind, ttest_ind_from_stats, ttest_rel\n",
        "url = 'https://archive.ics.uci.edu/ml/machine-learning-databases/voting-records/house-votes-84.data'\n",
        "column_headers = ['party','handicapped-infants','water-project',\n",
        "                          'budget','physician-fee-freeze', 'el-salvador-aid',\n",
        "                          'religious-groups','anti-satellite-ban',\n",
        "                          'aid-to-contras','mx-missile','immigration',\n",
        "                          'synfuels', 'education', 'right-to-sue','crime','duty-free',\n",
        "                          'south-africa']\n",
        "house = pd.read_csv(url, header=None, names= column_headers, na_values='?')\n",
        "house= house.replace({'y':1, 'n':0})\n",
        "house.head()\n",
        "rep= house[house['party']=='republican']\n",
        "dem= house[house['party']=='democrat']\n",
        "a,b,c,d,e,f,g,h,j,k,l,m,n,o,p,q = 'handicapped-infants','water-project','budget','physician-fee-freeze', 'el-salvador-aid','religious-groups','anti-satellite-ban','aid-to-contras','mx-missile','immigration','synfuels', 'education', 'right-to-sue','crime','duty-free','south-africa'\n",
        "print(house.party.value_counts())\n",
        "print(ttest_ind(rep[a], dem[a], nan_policy='omit'))\n",
        "print(ttest_ind(rep[b], dem[b], nan_policy='omit'))\n",
        "print(ttest_ind(rep[c], dem[c], nan_policy='omit'))\n",
        "print(ttest_ind(rep[d], dem[d], nan_policy='omit'))\n",
        "print(ttest_ind(rep[e], dem[e], nan_policy='omit'))\n",
        "print(ttest_ind(rep[f], dem[f], nan_policy='omit'))\n",
        "print(ttest_ind(rep[g], dem[g], nan_policy='omit'))\n",
        "print(ttest_ind(rep[h], dem[h], nan_policy='omit'))\n",
        "print(ttest_ind(rep[j], dem[j], nan_policy='omit'))\n",
        "print(ttest_ind(rep[k], dem[k], nan_policy='omit'))\n",
        "print(ttest_ind(rep[l], dem[l], nan_policy='omit'))\n",
        "print(ttest_ind(rep[m], dem[m], nan_policy='omit'))\n",
        "print(ttest_ind(rep[n], dem[n], nan_policy='omit'))\n",
        "print(ttest_ind(rep[o], dem[o], nan_policy='omit'))\n",
        "print(ttest_ind(rep[p], dem[p], nan_policy='omit'))\n",
        "print(ttest_ind(rep[q], dem[q], nan_policy='omit'))\n",
        "# Using hypothesis testing, find an issue that republicans support more than democrats with p <  0.01\n",
        "'''physician-fee-freeze..[d]\n",
        "Ttest_indResult(statistic=49.36708157301406, pvalue=1.994262314074344e-177)'''\n",
        "#Using hypothesis testing, find an issue that democrats support more than republicans with p < 0.01\n",
        "'''Budget...[c]\n",
        "Ttest_indResult(statistic=-23.21277691701378, pvalue=2.0703402795404463e-77)'''\n",
        "#Using hypothesis testing, find an issue where the difference between republicans and democrats has p > 0.1 (i.e. there may not be much of a difference)\n",
        "'''Water Project..[b]\n",
        "Ttest_indResult(statistic=0.08896538137868286, pvalue=0.9291556823993485)\n",
        "Immigration...[k]\n",
        "Ttest_indResult(statistic=1.7359117329695164, pvalue=0.08330248490425066)'''"
      ],
      "execution_count": 0,
      "outputs": [
        {
          "output_type": "stream",
          "text": [
            "democrat      267\n",
            "republican    168\n",
            "Name: party, dtype: int64\n",
            "Ttest_indResult(statistic=-9.205264294809222, pvalue=1.613440327937243e-18)\n",
            "Ttest_indResult(statistic=0.08896538137868286, pvalue=0.9291556823993485)\n",
            "Ttest_indResult(statistic=-23.21277691701378, pvalue=2.0703402795404463e-77)\n",
            "Ttest_indResult(statistic=49.36708157301406, pvalue=1.994262314074344e-177)\n",
            "Ttest_indResult(statistic=21.13669261173219, pvalue=5.600520111729011e-68)\n",
            "Ttest_indResult(statistic=9.737575825219457, pvalue=2.3936722520597287e-20)\n",
            "Ttest_indResult(statistic=-12.526187929077842, pvalue=8.521033017443867e-31)\n",
            "Ttest_indResult(statistic=-18.052093200819733, pvalue=2.82471841372357e-54)\n",
            "Ttest_indResult(statistic=-16.437503268542994, pvalue=5.03079265310811e-47)\n",
            "Ttest_indResult(statistic=1.7359117329695164, pvalue=0.08330248490425066)\n",
            "Ttest_indResult(statistic=-8.293603989407588, pvalue=1.5759322301054064e-15)\n",
            "Ttest_indResult(statistic=20.500685724563073, pvalue=1.8834203990450192e-64)\n",
            "Ttest_indResult(statistic=13.51064251060933, pvalue=1.2278581709672758e-34)\n",
            "Ttest_indResult(statistic=16.342085656197696, pvalue=9.952342705606092e-47)\n",
            "Ttest_indResult(statistic=-12.853146132542978, pvalue=5.997697174347365e-32)\n",
            "Ttest_indResult(statistic=-6.849454815841208, pvalue=3.652674361672226e-11)\n"
          ],
          "name": "stdout"
        },
        {
          "output_type": "execute_result",
          "data": {
            "text/plain": [
              "'Water Project..[b]\\nTtest_indResult(statistic=0.08896538137868286, pvalue=0.9291556823993485)\\nImmigration...[k]\\nTtest_indResult(statistic=1.7359117329695164, pvalue=0.08330248490425066)'"
            ]
          },
          "metadata": {
            "tags": []
          },
          "execution_count": 107
        }
      ]
    },
    {
      "cell_type": "markdown",
      "metadata": {
        "id": "wcA_AvvRAqW_",
        "colab_type": "text"
      },
      "source": [
        "## Stretch Goals:\n",
        "\n",
        "1. Refactor your code into functions so it's easy to rerun with arbitrary variables\n",
        "2. Work on Performing a T-test without using Scipy in order to get \"under the hood\" and learn more thoroughly about this topic.\n",
        "### Start with a 1-sample t-test\n",
        " - Establish the conditions for your test \n",
        " - [Calculate the T Statistic](https://blog.minitab.com/hs-fs/hubfs/Imported_Blog_Media/701f9c0efa98a38fb397f3c3ec459b66.png?width=247&height=172&name=701f9c0efa98a38fb397f3c3ec459b66.png) (You'll need to omit NaN values from your sample).\n",
        " - Translate that t-statistic into a P-value. You can use a [table](https://www.google.com/search?q=t+statistic+table) or the [University of Iowa Applet](https://homepage.divms.uiowa.edu/~mbognar/applets/t.html)\n",
        "\n",
        " ### Then try a 2-sample t-test\n",
        " - Establish the conditions for your test \n",
        " - [Calculate the T Statistic](https://lh3.googleusercontent.com/proxy/rJJ5ZOL9ZDvKOOeBihXoZDgfk7uv1YsRzSQ1Tc10RX-r2HrRpRLVqlE9CWX23csYQXcTniFwlBg3H-qR8MKJPBGnjwndqlhDX3JxoDE5Yg) (You'll need to omit NaN values from your sample).\n",
        " - Translate that t-statistic into a P-value. You can use a [table](https://www.google.com/search?q=t+statistic+table) or the [University of Iowa Applet](https://homepage.divms.uiowa.edu/~mbognar/applets/t.html)\n",
        "\n",
        " ### Then check your Answers using Scipy!"
      ]
    },
    {
      "cell_type": "code",
      "metadata": {
        "id": "dPmXOHh1Cfea",
        "colab_type": "code",
        "colab": {}
      },
      "source": [
        ""
      ],
      "execution_count": 0,
      "outputs": []
    }
  ]
}