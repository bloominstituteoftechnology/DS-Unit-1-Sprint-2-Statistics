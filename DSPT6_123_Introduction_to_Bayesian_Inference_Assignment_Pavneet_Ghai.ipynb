{
  "nbformat": 4,
  "nbformat_minor": 0,
  "metadata": {
    "colab": {
      "name": "DSPT6_123_Introduction_to_Bayesian_Inference_Assignment_Pavneet_Ghai.ipynb",
      "provenance": [],
      "include_colab_link": true
    },
    "kernelspec": {
      "name": "python3",
      "display_name": "Python 3"
    }
  },
  "cells": [
    {
      "cell_type": "markdown",
      "metadata": {
        "id": "view-in-github",
        "colab_type": "text"
      },
      "source": [
        "<a href=\"https://colab.research.google.com/github/pavanghai/DS-Unit-1-Sprint-2-Statistics/blob/master/DSPT6_123_Introduction_to_Bayesian_Inference_Assignment_Pavneet_Ghai.ipynb\" target=\"_parent\"><img src=\"https://colab.research.google.com/assets/colab-badge.svg\" alt=\"Open In Colab\"/></a>"
      ]
    },
    {
      "cell_type": "markdown",
      "metadata": {
        "id": "H7OLbevlbd_Z",
        "colab_type": "text"
      },
      "source": [
        "# Lambda School Data Science Module 123\n",
        "\n",
        "## Introduction to Bayesian Inference\n",
        "\n",
        "\n"
      ]
    },
    {
      "cell_type": "markdown",
      "metadata": {
        "id": "P-DzzRk5bf0z",
        "colab_type": "text"
      },
      "source": [
        "## Assignment - Code it up!\n",
        "\n",
        "We used pure math to apply Bayes Theorem to drug tests. Now write Python code to reproduce the results! This is purposefully open ended - you'll have to think about how you should represent probabilities and events. You can and should look things up.\n",
        "\n",
        "Specific goals/targets:\n",
        "\n",
        "### 1) Write a function \n",
        "\n",
        "`def prob_drunk_given_positive(prob_drunk_prior, false_positive_rate, true_positive_rate):` \n",
        "\n",
        "You should only truly need these two values in order to apply Bayes Theorem. In this example, imagine that individuals are taking a breathalyzer test with an 8% false positive rate, a 100% true positive rate, and that our prior belief about drunk driving in the population is 1/1000. \n",
        " - What is the probability that a person is drunk after one positive breathalyzer test?\n",
        " - What is the probability that a person is drunk after two positive breathalyzer tests?\n",
        " - How many positive breathalyzer tests are needed in order to have a probability that's greater than 95% that a person is drunk beyond the legal limit?\n",
        "\n",
        "### 2) Explore `scipy.stats.bayes_mvs`  \n",
        "Read its documentation, and experiment with it on data you've tested in other ways earlier this week.\n",
        " - Create a visualization comparing the results of a Bayesian approach to a traditional/frequentist approach. (with a large sample size they should look close to identical, however, take this opportunity to practice visualizing condfidence intervals in general. The following are some potential ways that you could visualize confidence intervals on your graph:\n",
        "  - [Matplotlib Error Bars](https://matplotlib.org/3.1.1/api/_as_gen/matplotlib.pyplot.errorbar.html)\n",
        "  - [Seaborn barplot with error bars](https://seaborn.pydata.org/generated/seaborn.barplot.html)\n",
        "  - [Vertical ines to show bounds of confidence interval](https://www.simplypsychology.org/confidence-interval.jpg)\n",
        "  - [Confidence Intervals on Box Plots](https://matplotlib.org/3.1.1/api/_as_gen/matplotlib.axes.Axes.boxplot.html)\n",
        "\n",
        "### 3) In your own words, summarize the difference between Bayesian and Frequentist statistics\n",
        "\n",
        "If you're unsure where to start, check out [this blog post of Bayes theorem with Python](https://dataconomy.com/2015/02/introduction-to-bayes-theorem-with-python/).\n",
        "\n"
      ]
    },
    {
      "cell_type": "code",
      "metadata": {
        "id": "xpVhZyUnbf7o",
        "colab_type": "code",
        "colab": {}
      },
      "source": [
        "# TODO - code!"
      ],
      "execution_count": 0,
      "outputs": []
    },
    {
      "cell_type": "markdown",
      "metadata": {
        "id": "ZJ_ndyH4bwCk",
        "colab_type": "text"
      },
      "source": [
        "## 1) Write a function"
      ]
    },
    {
      "cell_type": "code",
      "metadata": {
        "id": "T_WmQcTRb4br",
        "colab_type": "code",
        "colab": {}
      },
      "source": [
        "def prob_drunk_given_positive(prob_drunk_prior = 1/1000,false_positive_rate = 1, true_positive_rate = 0.08, number_of_tests = 1):\n",
        "    posterior_probability=prob_drunk_prior\n",
        "    for test in range(0, number_of_tests):\n",
        "        P_user = posterior_probability # prior belief\n",
        "        P_non_user = 1 - P_user  # complement of the prior belief\n",
        "        P_pos_given_user = false_positive_rate # this is the true positive rate\n",
        "        P_pos_given_non_user = true_positive_rate # this is the false positive rate\n",
        "        posterior_probability = (P_pos_given_user*P_user)/((P_pos_given_user*P_user) + (P_pos_given_non_user*P_non_user))\n",
        "    return posterior_probability"
      ],
      "execution_count": 0,
      "outputs": []
    },
    {
      "cell_type": "code",
      "metadata": {
        "id": "ML0Cag40sjew",
        "colab_type": "code",
        "colab": {
          "base_uri": "https://localhost:8080/",
          "height": 34
        },
        "outputId": "c3adb4be-544b-439f-dc06-1d93ab260f2b"
      },
      "source": [
        "print(\"Probability after one positive breathalyzer test is: \", prob_drunk_given_positive())"
      ],
      "execution_count": 18,
      "outputs": [
        {
          "output_type": "stream",
          "text": [
            "Probability after one positive breathalyzer test is:  0.012357884330202669\n"
          ],
          "name": "stdout"
        }
      ]
    },
    {
      "cell_type": "code",
      "metadata": {
        "id": "mQFXjJr7sjRN",
        "colab_type": "code",
        "colab": {
          "base_uri": "https://localhost:8080/",
          "height": 34
        },
        "outputId": "ad47b87b-4726-43c0-d5a5-0b718e950625"
      },
      "source": [
        "print(\"Probability after two positive breathalyzer test is: \", prob_drunk_given_positive(number_of_tests = 2))"
      ],
      "execution_count": 20,
      "outputs": [
        {
          "output_type": "stream",
          "text": [
            "Probability after two positive breathalyzer test is:  0.13525210993291495\n"
          ],
          "name": "stdout"
        }
      ]
    },
    {
      "cell_type": "code",
      "metadata": {
        "id": "XfLjsrD3tYvX",
        "colab_type": "code",
        "colab": {
          "base_uri": "https://localhost:8080/",
          "height": 34
        },
        "outputId": "25491ad9-96cf-40bf-c6d8-456ebf008fa7"
      },
      "source": [
        "print(\"After four test, probability is greater than 95% : \", prob_drunk_given_positive(number_of_tests = 4))"
      ],
      "execution_count": 21,
      "outputs": [
        {
          "output_type": "stream",
          "text": [
            "After four test, probability is greater than 95% :  0.9606895076105054\n"
          ],
          "name": "stdout"
        }
      ]
    },
    {
      "cell_type": "markdown",
      "metadata": {
        "id": "OEC5MmB8wORN",
        "colab_type": "text"
      },
      "source": [
        "## 2. Explore scipy.stats.bayes_mvs"
      ]
    },
    {
      "cell_type": "code",
      "metadata": {
        "id": "QBVpTM7qwH5W",
        "colab_type": "code",
        "colab": {}
      },
      "source": [
        "import numpy as np\n",
        "import pandas as pd\n",
        "import scipy.stats as stats\n",
        "import matplotlib.pyplot as plt\n",
        "%matplotlib inline\n",
        "import seaborn as sns"
      ],
      "execution_count": 0,
      "outputs": []
    },
    {
      "cell_type": "code",
      "metadata": {
        "id": "UunP0D9CwHvh",
        "colab_type": "code",
        "colab": {}
      },
      "source": [
        "# Removed \"s\" from https:// to avoide certificate expired error\n",
        "dataset_url = (\"http://archive.ics.uci.edu/ml/machine-learning-databases/voting-records/house-votes-84.data\")\n",
        "\n",
        "#dataset is without column headers we need column Headers\n",
        "column_headers = ['party','handicapped-infants','water-project','budget','physician-fee-freeze', 'el-salvador-aid',\n",
        "                          'religious-groups','anti-satellite-ban','aid-to-contras','mx-missile','immigration',\n",
        "                          'synfuels', 'education', 'right-to-sue','crime','duty-free','south-africa']\n",
        "\n",
        "# header=none, made blank header, names=column_headers, changed the blank to as per column_headers variable, na_value, replaced ? with nun value\n",
        "voters_df = pd.read_csv(dataset_url, header=None, names=column_headers, na_values='?') "
      ],
      "execution_count": 0,
      "outputs": []
    },
    {
      "cell_type": "code",
      "metadata": {
        "id": "WzaoEcwuwHhj",
        "colab_type": "code",
        "colab": {}
      },
      "source": [
        "#Replace N with 0 and Y with 1 and Split dataframe into republican and democrat\n",
        "voters_df=voters_df.replace({'y': 1, 'n': 0}) # Replaced 'y' with 1 & 'n' with 0 using Dictionary {key:value}\n",
        "rep_df = voters_df[voters_df['party']=='republican'] # rep_df where party columns values are republican\n",
        "dem_df = voters_df[voters_df['party']=='democrat'] # dem_df where party columns values are democrat"
      ],
      "execution_count": 0,
      "outputs": []
    },
    {
      "cell_type": "code",
      "metadata": {
        "id": "xzhzTt7exZ5p",
        "colab_type": "code",
        "colab": {
          "base_uri": "https://localhost:8080/",
          "height": 238
        },
        "outputId": "7346b680-ca84-41b4-fa2d-cfb22ea6a5ba"
      },
      "source": [
        "print(\"Voters :\",voters_df.shape, 'Republican : ', rep_df.shape, 'Democrat :', dem_df.shape)\n",
        "voters_df.head(5)"
      ],
      "execution_count": 41,
      "outputs": [
        {
          "output_type": "stream",
          "text": [
            "Voters : (435, 17) Republican :  (168, 17) Democrat : (267, 17)\n"
          ],
          "name": "stdout"
        },
        {
          "output_type": "execute_result",
          "data": {
            "text/html": [
              "<div>\n",
              "<style scoped>\n",
              "    .dataframe tbody tr th:only-of-type {\n",
              "        vertical-align: middle;\n",
              "    }\n",
              "\n",
              "    .dataframe tbody tr th {\n",
              "        vertical-align: top;\n",
              "    }\n",
              "\n",
              "    .dataframe thead th {\n",
              "        text-align: right;\n",
              "    }\n",
              "</style>\n",
              "<table border=\"1\" class=\"dataframe\">\n",
              "  <thead>\n",
              "    <tr style=\"text-align: right;\">\n",
              "      <th></th>\n",
              "      <th>party</th>\n",
              "      <th>handicapped-infants</th>\n",
              "      <th>water-project</th>\n",
              "      <th>budget</th>\n",
              "      <th>physician-fee-freeze</th>\n",
              "      <th>el-salvador-aid</th>\n",
              "      <th>religious-groups</th>\n",
              "      <th>anti-satellite-ban</th>\n",
              "      <th>aid-to-contras</th>\n",
              "      <th>mx-missile</th>\n",
              "      <th>immigration</th>\n",
              "      <th>synfuels</th>\n",
              "      <th>education</th>\n",
              "      <th>right-to-sue</th>\n",
              "      <th>crime</th>\n",
              "      <th>duty-free</th>\n",
              "      <th>south-africa</th>\n",
              "    </tr>\n",
              "  </thead>\n",
              "  <tbody>\n",
              "    <tr>\n",
              "      <th>0</th>\n",
              "      <td>republican</td>\n",
              "      <td>0.0</td>\n",
              "      <td>1.0</td>\n",
              "      <td>0.0</td>\n",
              "      <td>1.0</td>\n",
              "      <td>1.0</td>\n",
              "      <td>1.0</td>\n",
              "      <td>0.0</td>\n",
              "      <td>0.0</td>\n",
              "      <td>0.0</td>\n",
              "      <td>1.0</td>\n",
              "      <td>NaN</td>\n",
              "      <td>1.0</td>\n",
              "      <td>1.0</td>\n",
              "      <td>1.0</td>\n",
              "      <td>0.0</td>\n",
              "      <td>1.0</td>\n",
              "    </tr>\n",
              "    <tr>\n",
              "      <th>1</th>\n",
              "      <td>republican</td>\n",
              "      <td>0.0</td>\n",
              "      <td>1.0</td>\n",
              "      <td>0.0</td>\n",
              "      <td>1.0</td>\n",
              "      <td>1.0</td>\n",
              "      <td>1.0</td>\n",
              "      <td>0.0</td>\n",
              "      <td>0.0</td>\n",
              "      <td>0.0</td>\n",
              "      <td>0.0</td>\n",
              "      <td>0.0</td>\n",
              "      <td>1.0</td>\n",
              "      <td>1.0</td>\n",
              "      <td>1.0</td>\n",
              "      <td>0.0</td>\n",
              "      <td>NaN</td>\n",
              "    </tr>\n",
              "    <tr>\n",
              "      <th>2</th>\n",
              "      <td>democrat</td>\n",
              "      <td>NaN</td>\n",
              "      <td>1.0</td>\n",
              "      <td>1.0</td>\n",
              "      <td>NaN</td>\n",
              "      <td>1.0</td>\n",
              "      <td>1.0</td>\n",
              "      <td>0.0</td>\n",
              "      <td>0.0</td>\n",
              "      <td>0.0</td>\n",
              "      <td>0.0</td>\n",
              "      <td>1.0</td>\n",
              "      <td>0.0</td>\n",
              "      <td>1.0</td>\n",
              "      <td>1.0</td>\n",
              "      <td>0.0</td>\n",
              "      <td>0.0</td>\n",
              "    </tr>\n",
              "    <tr>\n",
              "      <th>3</th>\n",
              "      <td>democrat</td>\n",
              "      <td>0.0</td>\n",
              "      <td>1.0</td>\n",
              "      <td>1.0</td>\n",
              "      <td>0.0</td>\n",
              "      <td>NaN</td>\n",
              "      <td>1.0</td>\n",
              "      <td>0.0</td>\n",
              "      <td>0.0</td>\n",
              "      <td>0.0</td>\n",
              "      <td>0.0</td>\n",
              "      <td>1.0</td>\n",
              "      <td>0.0</td>\n",
              "      <td>1.0</td>\n",
              "      <td>0.0</td>\n",
              "      <td>0.0</td>\n",
              "      <td>1.0</td>\n",
              "    </tr>\n",
              "    <tr>\n",
              "      <th>4</th>\n",
              "      <td>democrat</td>\n",
              "      <td>1.0</td>\n",
              "      <td>1.0</td>\n",
              "      <td>1.0</td>\n",
              "      <td>0.0</td>\n",
              "      <td>1.0</td>\n",
              "      <td>1.0</td>\n",
              "      <td>0.0</td>\n",
              "      <td>0.0</td>\n",
              "      <td>0.0</td>\n",
              "      <td>0.0</td>\n",
              "      <td>1.0</td>\n",
              "      <td>NaN</td>\n",
              "      <td>1.0</td>\n",
              "      <td>1.0</td>\n",
              "      <td>1.0</td>\n",
              "      <td>1.0</td>\n",
              "    </tr>\n",
              "  </tbody>\n",
              "</table>\n",
              "</div>"
            ],
            "text/plain": [
              "        party  handicapped-infants  ...  duty-free  south-africa\n",
              "0  republican                  0.0  ...        0.0           1.0\n",
              "1  republican                  0.0  ...        0.0           NaN\n",
              "2    democrat                  NaN  ...        0.0           0.0\n",
              "3    democrat                  0.0  ...        0.0           1.0\n",
              "4    democrat                  1.0  ...        1.0           1.0\n",
              "\n",
              "[5 rows x 17 columns]"
            ]
          },
          "metadata": {
            "tags": []
          },
          "execution_count": 41
        }
      ]
    },
    {
      "cell_type": "code",
      "metadata": {
        "id": "sQOt1hn8xZ2T",
        "colab_type": "code",
        "colab": {}
      },
      "source": [
        "# Define function for Confidence of intervel \n",
        "# How to write comments in function refer as help?\n",
        "def conf_int(data,confi = 0.95): # confi set to default of 0.95\n",
        "  cal_q=1-((1-confi)/2)\n",
        "  mean = data.mean()\n",
        "  z_critical = stats.norm.ppf(q=cal_q)  # Get the z-critical value* used 0.975 as (0.5/2=0.25)\n",
        "  moe = z_critical * (data.std()/np.sqrt(data.count())) # moe = margin of error\n",
        "  return (mean-moe, mean, mean+moe)"
      ],
      "execution_count": 0,
      "outputs": []
    },
    {
      "cell_type": "code",
      "metadata": {
        "id": "jYVJGO3NxZw6",
        "colab_type": "code",
        "colab": {
          "base_uri": "https://localhost:8080/",
          "height": 142
        },
        "outputId": "25b84446-832f-4350-9701-333ce756d911"
      },
      "source": [
        "#How to combine this in Function? need help!\n",
        "votersci_list = []\n",
        "votersiss_list = []\n",
        "for issue in voters_df.columns[1:]:\n",
        "  tup = [conf_int(voters_df[issue])]\n",
        "  out = list(sum(tup, ())) \n",
        "  votersci_list.append(out)\n",
        "  votersiss_list.append(issue)\n",
        "    \n",
        "votersci_df = pd.DataFrame(votersci_list, columns = ['NegConfInterval','Mean', 'PosConfInterval']) \n",
        "#need new column for issue\n",
        "votersci_df.insert(0, \"Issues\",votersiss_list)\n",
        "votersci_df.head(3)"
      ],
      "execution_count": 44,
      "outputs": [
        {
          "output_type": "execute_result",
          "data": {
            "text/html": [
              "<div>\n",
              "<style scoped>\n",
              "    .dataframe tbody tr th:only-of-type {\n",
              "        vertical-align: middle;\n",
              "    }\n",
              "\n",
              "    .dataframe tbody tr th {\n",
              "        vertical-align: top;\n",
              "    }\n",
              "\n",
              "    .dataframe thead th {\n",
              "        text-align: right;\n",
              "    }\n",
              "</style>\n",
              "<table border=\"1\" class=\"dataframe\">\n",
              "  <thead>\n",
              "    <tr style=\"text-align: right;\">\n",
              "      <th></th>\n",
              "      <th>Issues</th>\n",
              "      <th>NegConfInterval</th>\n",
              "      <th>Mean</th>\n",
              "      <th>PosConfInterval</th>\n",
              "    </tr>\n",
              "  </thead>\n",
              "  <tbody>\n",
              "    <tr>\n",
              "      <th>0</th>\n",
              "      <td>handicapped-infants</td>\n",
              "      <td>0.394697</td>\n",
              "      <td>0.442080</td>\n",
              "      <td>0.489464</td>\n",
              "    </tr>\n",
              "    <tr>\n",
              "      <th>1</th>\n",
              "      <td>water-project</td>\n",
              "      <td>0.453998</td>\n",
              "      <td>0.503876</td>\n",
              "      <td>0.553754</td>\n",
              "    </tr>\n",
              "    <tr>\n",
              "      <th>2</th>\n",
              "      <td>budget</td>\n",
              "      <td>0.549949</td>\n",
              "      <td>0.596698</td>\n",
              "      <td>0.643447</td>\n",
              "    </tr>\n",
              "  </tbody>\n",
              "</table>\n",
              "</div>"
            ],
            "text/plain": [
              "                Issues  NegConfInterval      Mean  PosConfInterval\n",
              "0  handicapped-infants         0.394697  0.442080         0.489464\n",
              "1        water-project         0.453998  0.503876         0.553754\n",
              "2               budget         0.549949  0.596698         0.643447"
            ]
          },
          "metadata": {
            "tags": []
          },
          "execution_count": 44
        }
      ]
    },
    {
      "cell_type": "code",
      "metadata": {
        "id": "pNd15bZ6xZhn",
        "colab_type": "code",
        "colab": {
          "base_uri": "https://localhost:8080/",
          "height": 333
        },
        "outputId": "28c7cf4f-1fa0-471b-deff-642d844faeaa"
      },
      "source": [
        "sns.kdeplot(voters_df['budget'])\n",
        "CI = conf_int(voters_df['budget'])\n",
        "plt.axvline(x=CI[0], color='green')\n",
        "plt.axvline(x=CI[1], color='black')\n",
        "plt.axvline(x=CI[2], color='red')\n",
        "\n",
        "new_df = voters_df['budget'].dropna()\n",
        "conf_bayes=stats.bayes_mvs(new_df, alpha=.95)[0][1] # alpha is the confidence level for this equation\n",
        "print (conf_bayes[0], \" :Neg Margin of Error\" , conf_bayes[1], \" :Pos Margin of Error\" )\n",
        "\n",
        "print(CI)\n",
        "# print(\"Neg Margin of Error: \", CI(0), \"Mean: \", CI(1), \"Pos Margin of Error: \", CI(3) ) # need to work out ?\n",
        "\n",
        "print(\"\\nBoth the approach gave almost similar results! with 95% confidence interval on either side of this\")"
      ],
      "execution_count": 68,
      "outputs": [
        {
          "output_type": "stream",
          "text": [
            "0.5498151808536169  :Neg Margin of Error 0.6435810455614774  :Pos Margin of Error\n",
            "(0.5499493240661233, 0.5966981132075472, 0.6434469023489711)\n",
            "\n",
            "Both the approach gave similar results! with 95% confidence interval on either side of this\n"
          ],
          "name": "stdout"
        },
        {
          "output_type": "display_data",
          "data": {
            "image/png": "[encoded data removed]",
            "text/plain": [
              "<Figure size 432x288 with 1 Axes>"
            ]
          },
          "metadata": {
            "tags": [],
            "needs_background": "light"
          }
        }
      ]
    },
    {
      "cell_type": "code",
      "metadata": {
        "id": "vcINxuir0p60",
        "colab_type": "code",
        "colab": {
          "base_uri": "https://localhost:8080/",
          "height": 333
        },
        "outputId": "da10196f-6dfb-45d0-8133-34d7a31fc089"
      },
      "source": [
        "sns.kdeplot(voters_df['handicapped-infants'])\n",
        "CI = conf_int(voters_df['handicapped-infants'])\n",
        "plt.axvline(x=CI[0], color='green')\n",
        "plt.axvline(x=CI[1], color='black')\n",
        "plt.axvline(x=CI[2], color='red')\n",
        "\n",
        "new_df1 = voters_df['handicapped-infants'].dropna()\n",
        "conf_bayes=stats.bayes_mvs(new_df1, alpha=.95)[0][1] # alpha is the confidence level for this equation\n",
        "print (conf_bayes[0], \" :Neg Margin of Error\" , conf_bayes[1], \" :Pos Margin of Error\" )\n",
        "\n",
        "print(CI)\n",
        "# print(\"Neg Margin of Error: \", CI(0), \"Mean: \", CI(1), \"Pos Margin of Error: \", CI(3) ) # need to work out ?\n",
        "\n",
        "print(\"\\nBoth the approach gave almost similar results! with 95% confidence interval on either side of this\")"
      ],
      "execution_count": 69,
      "outputs": [
        {
          "output_type": "stream",
          "text": [
            "0.39456046308364673  :Neg Margin of Error 0.48960029341753536  :Pos Margin of Error\n",
            "(0.3946967510322151, 0.44208037825059104, 0.489464005468967)\n",
            "\n",
            "Both the approach gave similar results! with 95% confidence interval on either side of this\n"
          ],
          "name": "stdout"
        },
        {
          "output_type": "display_data",
          "data": {
            "image/png": "[encoded data removed]",
            "text/plain": [
              "<Figure size 432x288 with 1 Axes>"
            ]
          },
          "metadata": {
            "tags": [],
            "needs_background": "light"
          }
        }
      ]
    },
    {
      "cell_type": "code",
      "metadata": {
        "id": "rnbpzHeS0p4L",
        "colab_type": "code",
        "colab": {}
      },
      "source": [
        "new_df = voters_df['budget'].dropna()\n",
        "new_df\n",
        "conf_bayes=stats.bayes_mvs(new_df, alpha=.95)[0][1] # alpha is the confidence level for this equation\n",
        "conf_bayes"
      ],
      "execution_count": 0,
      "outputs": []
    },
    {
      "cell_type": "code",
      "metadata": {
        "id": "xep-kwME0p02",
        "colab_type": "code",
        "colab": {}
      },
      "source": [
        ""
      ],
      "execution_count": 0,
      "outputs": []
    },
    {
      "cell_type": "code",
      "metadata": {
        "id": "p0qWl2LR0pnl",
        "colab_type": "code",
        "colab": {}
      },
      "source": [
        ""
      ],
      "execution_count": 0,
      "outputs": []
    },
    {
      "cell_type": "markdown",
      "metadata": {
        "id": "uWgWjp3PQ3Sq",
        "colab_type": "text"
      },
      "source": [
        "## Resources"
      ]
    },
    {
      "cell_type": "markdown",
      "metadata": {
        "id": "QRgHqmYIQ9qn",
        "colab_type": "text"
      },
      "source": [
        "- [Worked example of Bayes rule calculation](https://en.wikipedia.org/wiki/Bayes'_theorem#Examples) (helpful as it fully breaks out the denominator)\n",
        "- [Source code for mvsdist in scipy](https://github.com/scipy/scipy/blob/90534919e139d2a81c24bf08341734ff41a3db12/scipy/stats/morestats.py#L139)"
      ]
    },
    {
      "cell_type": "markdown",
      "metadata": {
        "id": "GP7Jv1XvwtkX",
        "colab_type": "text"
      },
      "source": [
        "## Stretch Goals:\n",
        "\n",
        "- Go back and study the content from Modules 1 & 2 to make sure that you're really comfortable with them.\n",
        "- Apply a Bayesian technique to a problem you previously worked (in an assignment or project work) on from a frequentist (standard) perspective\n",
        "- Check out [PyMC3](https://docs.pymc.io/) (note this goes beyond hypothesis tests into modeling) - read the guides and work through some examples\n",
        "- Take PyMC3 further - see if you can build something with it!"
      ]
    },
    {
      "cell_type": "code",
      "metadata": {
        "id": "iDi0eFr1x-v_",
        "colab_type": "code",
        "colab": {}
      },
      "source": [
        ""
      ],
      "execution_count": 0,
      "outputs": []
    },
    {
      "cell_type": "code",
      "metadata": {
        "id": "qNCVIePRbzsK",
        "colab_type": "code",
        "colab": {}
      },
      "source": [
        ""
      ],
      "execution_count": 0,
      "outputs": []
    },
    {
      "cell_type": "markdown",
      "metadata": {
        "id": "Fb6knR3hb1dw",
        "colab_type": "text"
      },
      "source": [
        "## Rough Work"
      ]
    },
    {
      "cell_type": "code",
      "metadata": {
        "id": "FdYY36b0b4HD",
        "colab_type": "code",
        "colab": {
          "base_uri": "https://localhost:8080/",
          "height": 34
        },
        "outputId": "1d727105-73df-44ba-9ee9-69d1ae71475f"
      },
      "source": [
        "# Available Facts\n",
        "users = 1 # this is the true positive rate\n",
        "nonusers = 0.08  # this is the false positive rate\n",
        "# belived Fact\n",
        "b_users =  1/1000  # prior belief\n",
        "b_nonusers = 1- b_users  # complement of the prior belief\n",
        "# on 1 positive test\n",
        "totaluser = users * b_users\n",
        "marginal = totaluser + (nonusers * b_nonusers)\n",
        "posterior = totaluser / marginal\n",
        "print (posterior)\n"
      ],
      "execution_count": 5,
      "outputs": [
        {
          "output_type": "stream",
          "text": [
            "0.012357884330202669\n"
          ],
          "name": "stdout"
        }
      ]
    },
    {
      "cell_type": "code",
      "metadata": {
        "id": "cl-C8ednqD30",
        "colab_type": "code",
        "colab": {
          "base_uri": "https://localhost:8080/",
          "height": 34
        },
        "outputId": "16808de3-b7aa-4c35-f9e0-894e3771f515"
      },
      "source": [
        "prob_drunk_given_positive(1/1000,1,.08)"
      ],
      "execution_count": 14,
      "outputs": [
        {
          "output_type": "execute_result",
          "data": {
            "text/plain": [
              "0.012357884330202669"
            ]
          },
          "metadata": {
            "tags": []
          },
          "execution_count": 14
        }
      ]
    },
    {
      "cell_type": "code",
      "metadata": {
        "id": "0qmgIScBqDug",
        "colab_type": "code",
        "colab": {
          "base_uri": "https://localhost:8080/",
          "height": 34
        },
        "outputId": "9d27abd9-7225-4ef3-9f6f-caec7772373e"
      },
      "source": [
        "a = (prob_drunk_given_positive(1/1000,1,.08)*4)\n",
        "print(a)"
      ],
      "execution_count": 70,
      "outputs": [
        {
          "output_type": "stream",
          "text": [
            "0.049431537320810674\n"
          ],
          "name": "stdout"
        }
      ]
    },
    {
      "cell_type": "code",
      "metadata": {
        "id": "vR74XvqYqDi4",
        "colab_type": "code",
        "colab": {}
      },
      "source": [
        ""
      ],
      "execution_count": 0,
      "outputs": []
    }
  ]
}