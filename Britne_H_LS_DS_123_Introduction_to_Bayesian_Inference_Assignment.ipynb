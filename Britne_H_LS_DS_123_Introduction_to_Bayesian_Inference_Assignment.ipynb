{
  "nbformat": 4,
  "nbformat_minor": 0,
  "metadata": {
    "colab": {
      "name": "Britne_H - LS_DS_123_Introduction_to_Bayesian_Inference_Assignment.ipynb",
      "provenance": [],
      "include_colab_link": true
    },
    "kernelspec": {
      "name": "python3",
      "display_name": "Python 3"
    }
  },
  "cells": [
    {
      "cell_type": "markdown",
      "metadata": {
        "id": "view-in-github",
        "colab_type": "text"
      },
      "source": [
        "<a href=\"https://colab.research.google.com/github/britneh/DS-Unit-1-Sprint-2-Statistics/blob/master/Britne_H_LS_DS_123_Introduction_to_Bayesian_Inference_Assignment.ipynb\" target=\"_parent\"><img src=\"https://colab.research.google.com/assets/colab-badge.svg\" alt=\"Open In Colab\"/></a>"
      ]
    },
    {
      "cell_type": "markdown",
      "metadata": {
        "id": "H7OLbevlbd_Z",
        "colab_type": "text"
      },
      "source": [
        "# Lambda School Data Science Module 123\n",
        "\n",
        "## Introduction to Bayesian Inference\n",
        "\n",
        "\n"
      ]
    },
    {
      "cell_type": "markdown",
      "metadata": {
        "id": "r_Wa6rGnWOzL",
        "colab_type": "text"
      },
      "source": [
        ""
      ]
    },
    {
      "cell_type": "markdown",
      "metadata": {
        "id": "P-DzzRk5bf0z",
        "colab_type": "text"
      },
      "source": [
        "## Assignment - Code it up!\n",
        "\n",
        "We used pure math to apply Bayes Theorem to drug tests. Now write Python code to reproduce the results! This is purposefully open ended - you'll have to think about how you should represent probabilities and events. You can and should look things up.\n",
        "\n",
        "Specific goals/targets:\n",
        "\n",
        "### 1) Write a function \n",
        "\n",
        "`def prob_drunk_given_positive(prob_drunk_prior, false_positive_rate, true_positive_rate):` \n",
        "\n",
        "You should only truly need these two values in order to apply Bayes Theorem. In this example, imagine that individuals are taking a breathalyzer test with an 8% false positive rate, a 100% true positive rate, and that our prior belief about drunk driving in the population is 1/1000. \n",
        " - What is the probability that a person is drunk after one positive breathalyzer test?\n",
        " - What is the probability that a person is drunk after two positive breathalyzer tests?\n",
        " - How many positive breathalyzer tests are needed in order to have a probability that's greater than 95% that a person is drunk beyond the legal limit?\n",
        "\n",
        "### 2) Explore `scipy.stats.bayes_mvs`  \n",
        "Read its documentation, and experiment with it on data you've tested in other ways earlier this week.\n",
        " - Create a visualization comparing the results of a Bayesian approach to a traditional/frequentist approach. (with a large sample size they should look close to identical, however, take this opportunity to practice visualizing condfidence intervals in general. The following are some potential ways that you could visualize confidence intervals on your graph:\n",
        "  - [Matplotlib Error Bars](https://matplotlib.org/3.1.1/api/_as_gen/matplotlib.pyplot.errorbar.html)\n",
        "  - [Seaborn barplot with error bars](https://seaborn.pydata.org/generated/seaborn.barplot.html)\n",
        "  - [Vertical ines to show bounds of confidence interval](https://www.simplypsychology.org/confidence-interval.jpg)\n",
        "  - [Confidence Intervals on Box Plots](https://matplotlib.org/3.1.1/api/_as_gen/matplotlib.axes.Axes.boxplot.html)\n",
        "\n",
        "### 3) In your own words, summarize the difference between Bayesian and Frequentist statistics\n",
        "\n",
        "If you're unsure where to start, check out [this blog post of Bayes theorem with Python](https://dataconomy.com/2015/02/introduction-to-bayes-theorem-with-python/).\n",
        "\n"
      ]
    },
    {
      "cell_type": "code",
      "metadata": {
        "id": "xOXQcvUBaQ2M",
        "colab_type": "code",
        "colab": {}
      },
      "source": [
        "import pandas as pd\n",
        "import numpy as np\n",
        "import matplotlib.pyplot as plt\n",
        "from scipy import stats"
      ],
      "execution_count": 0,
      "outputs": []
    },
    {
      "cell_type": "code",
      "metadata": {
        "id": "PEAelLeaWRHI",
        "colab_type": "code",
        "colab": {}
      },
      "source": [
        "def prob_drunk_given_positive(prob_drunk_prior, false_positive_rate, true_positive_rate):\n",
        "  numerator = true_positive_rate*prob_drunk_prior\n",
        "  denominator = (true_positive_rate * prob_drunk_prior) + (false_positive_rate * (1-prob_drunk_prior))\n",
        "  return numerator/denominator"
      ],
      "execution_count": 0,
      "outputs": []
    },
    {
      "cell_type": "code",
      "metadata": {
        "id": "xPeplYPlajjT",
        "colab_type": "code",
        "colab": {
          "base_uri": "https://localhost:8080/",
          "height": 34
        },
        "outputId": "d94707ba-2f17-4105-a2c0-7c8aa64d89a3"
      },
      "source": [
        "prob_drunk_given_positive(.001, .08, 1)\n"
      ],
      "execution_count": 18,
      "outputs": [
        {
          "output_type": "execute_result",
          "data": {
            "text/plain": [
              "0.012357884330202669"
            ]
          },
          "metadata": {
            "tags": []
          },
          "execution_count": 18
        }
      ]
    },
    {
      "cell_type": "code",
      "metadata": {
        "id": "xpVhZyUnbf7o",
        "colab_type": "code",
        "colab": {
          "base_uri": "https://localhost:8080/",
          "height": 34
        },
        "outputId": "a6de468c-1e44-411c-93e7-226a60090d62"
      },
      "source": [
        "prob_drunk_given_positive(0.012357884330202669, .08, 1)\n"
      ],
      "execution_count": 19,
      "outputs": [
        {
          "output_type": "execute_result",
          "data": {
            "text/plain": [
              "0.13525210993291495"
            ]
          },
          "metadata": {
            "tags": []
          },
          "execution_count": 19
        }
      ]
    },
    {
      "cell_type": "code",
      "metadata": {
        "id": "aQidoso-i_xb",
        "colab_type": "code",
        "colab": {
          "base_uri": "https://localhost:8080/",
          "height": 34
        },
        "outputId": "4b2265c9-5242-4e4f-eab6-e9ceb9433f73"
      },
      "source": [
        "prob_drunk_given_positive(0.13525210993291495, .08, 1)"
      ],
      "execution_count": 20,
      "outputs": [
        {
          "output_type": "execute_result",
          "data": {
            "text/plain": [
              "0.6615996951348605"
            ]
          },
          "metadata": {
            "tags": []
          },
          "execution_count": 20
        }
      ]
    },
    {
      "cell_type": "code",
      "metadata": {
        "id": "uMOMDQyTjK21",
        "colab_type": "code",
        "colab": {
          "base_uri": "https://localhost:8080/",
          "height": 34
        },
        "outputId": "e01b7f0d-7f78-4391-d0fe-2179e4144a6e"
      },
      "source": [
        "prob_drunk_given_positive(0.6615996951348605, .08, 1)"
      ],
      "execution_count": 21,
      "outputs": [
        {
          "output_type": "execute_result",
          "data": {
            "text/plain": [
              "0.9606895076105054"
            ]
          },
          "metadata": {
            "tags": []
          },
          "execution_count": 21
        }
      ]
    },
    {
      "cell_type": "markdown",
      "metadata": {
        "id": "zc8VQ0o6lSwk",
        "colab_type": "text"
      },
      "source": [
        ""
      ]
    },
    {
      "cell_type": "code",
      "metadata": {
        "id": "bxaUHc5apKtH",
        "colab_type": "code",
        "colab": {
          "resources": {
            "http://localhost:8080/nbextensions/google.colab/files.js": {
              "data": "Ly8gQ29weXJpZ2h0IDIwMTcgR29vZ2xlIExMQwovLwovLyBMaWNlbnNlZCB1bmRlciB0aGUgQXBhY2hlIExpY2Vuc2UsIFZlcnNpb24gMi4wICh0aGUgIkxpY2Vuc2UiKTsKLy8geW91IG1heSBub3QgdXNlIHRoaXMgZmlsZSBleGNlcHQgaW4gY29tcGxpYW5jZSB3aXRoIHRoZSBMaWNlbnNlLgovLyBZb3UgbWF5IG9idGFpbiBhIGNvcHkgb2YgdGhlIExpY2Vuc2UgYXQKLy8KLy8gICAgICBodHRwOi8vd3d3LmFwYWNoZS5vcmcvbGljZW5zZXMvTElDRU5TRS0yLjAKLy8KLy8gVW5sZXNzIHJlcXVpcmVkIGJ5IGFwcGxpY2FibGUgbGF3IG9yIGFncmVlZCB0byBpbiB3cml0aW5nLCBzb2Z0d2FyZQovLyBkaXN0cmlidXRlZCB1bmRlciB0aGUgTGljZW5zZSBpcyBkaXN0cmlidXRlZCBvbiBhbiAiQVMgSVMiIEJBU0lTLAovLyBXSVRIT1VUIFdBUlJBTlRJRVMgT1IgQ09ORElUSU9OUyBPRiBBTlkgS0lORCwgZWl0aGVyIGV4cHJlc3Mgb3IgaW1wbGllZC4KLy8gU2VlIHRoZSBMaWNlbnNlIGZvciB0aGUgc3BlY2lmaWMgbGFuZ3VhZ2UgZ292ZXJuaW5nIHBlcm1pc3Npb25zIGFuZAovLyBsaW1pdGF0aW9ucyB1bmRlciB0aGUgTGljZW5zZS4KCi8qKgogKiBAZmlsZW92ZXJ2aWV3IEhlbHBlcnMgZm9yIGdvb2dsZS5jb2xhYiBQeXRob24gbW9kdWxlLgogKi8KKGZ1bmN0aW9uKHNjb3BlKSB7CmZ1bmN0aW9uIHNwYW4odGV4dCwgc3R5bGVBdHRyaWJ1dGVzID0ge30pIHsKICBjb25zdCBlbGVtZW50ID0gZG9jdW1lbnQuY3JlYXRlRWxlbWVudCgnc3BhbicpOwogIGVsZW1lbnQudGV4dENvbnRlbnQgPSB0ZXh0OwogIGZvciAoY29uc3Qga2V5IG9mIE9iamVjdC5rZXlzKHN0eWxlQXR0cmlidXRlcykpIHsKICAgIGVsZW1lbnQuc3R5bGVba2V5XSA9IHN0eWxlQXR0cmlidXRlc1trZXldOwogIH0KICByZXR1cm4gZWxlbWVudDsKfQoKLy8gTWF4IG51bWJlciBvZiBieXRlcyB3aGljaCB3aWxsIGJlIHVwbG9hZGVkIGF0IGEgdGltZS4KY29uc3QgTUFYX1BBWUxPQURfU0laRSA9IDEwMCAqIDEwMjQ7Ci8vIE1heCBhbW91bnQgb2YgdGltZSB0byBibG9jayB3YWl0aW5nIGZvciB0aGUgdXNlci4KY29uc3QgRklMRV9DSEFOR0VfVElNRU9VVF9NUyA9IDMwICogMTAwMDsKCmZ1bmN0aW9uIF91cGxvYWRGaWxlcyhpbnB1dElkLCBvdXRwdXRJZCkgewogIGNvbnN0IHN0ZXBzID0gdXBsb2FkRmlsZXNTdGVwKGlucHV0SWQsIG91dHB1dElkKTsKICBjb25zdCBvdXRwdXRFbGVtZW50ID0gZG9jdW1lbnQuZ2V0RWxlbWVudEJ5SWQob3V0cHV0SWQpOwogIC8vIENhY2hlIHN0ZXBzIG9uIHRoZSBvdXRwdXRFbGVtZW50IHRvIG1ha2UgaXQgYXZhaWxhYmxlIGZvciB0aGUgbmV4dCBjYWxsCiAgLy8gdG8gdXBsb2FkRmlsZXNDb250aW51ZSBmcm9tIFB5dGhvbi4KICBvdXRwdXRFbGVtZW50LnN0ZXBzID0gc3RlcHM7CgogIHJldHVybiBfdXBsb2FkRmlsZXNDb250aW51ZShvdXRwdXRJZCk7Cn0KCi8vIFRoaXMgaXMgcm91Z2hseSBhbiBhc3luYyBnZW5lcmF0b3IgKG5vdCBzdXBwb3J0ZWQgaW4gdGhlIGJyb3dzZXIgeWV0KSwKLy8gd2hlcmUgdGhlcmUgYXJlIG11bHRpcGxlIGFzeW5jaHJvbm91cyBzdGVwcyBhbmQgdGhlIFB5dGhvbiBzaWRlIGlzIGdvaW5nCi8vIHRvIHBvbGwgZm9yIGNvbXBsZXRpb24gb2YgZWFjaCBzdGVwLgovLyBUaGlzIHVzZXMgYSBQcm9taXNlIHRvIGJsb2NrIHRoZSBweXRob24gc2lkZSBvbiBjb21wbGV0aW9uIG9mIGVhY2ggc3RlcCwKLy8gdGhlbiBwYXNzZXMgdGhlIHJlc3VsdCBvZiB0aGUgcHJldmlvdXMgc3RlcCBhcyB0aGUgaW5wdXQgdG8gdGhlIG5leHQgc3RlcC4KZnVuY3Rpb24gX3VwbG9hZEZpbGVzQ29udGludWUob3V0cHV0SWQpIHsKICBjb25zdCBvdXRwdXRFbGVtZW50ID0gZG9jdW1lbnQuZ2V0RWxlbWVudEJ5SWQob3V0cHV0SWQpOwogIGNvbnN0IHN0ZXBzID0gb3V0cHV0RWxlbWVudC5zdGVwczsKCiAgY29uc3QgbmV4dCA9IHN0ZXBzLm5leHQob3V0cHV0RWxlbWVudC5sYXN0UHJvbWlzZVZhbHVlKTsKICByZXR1cm4gUHJvbWlzZS5yZXNvbHZlKG5leHQudmFsdWUucHJvbWlzZSkudGhlbigodmFsdWUpID0+IHsKICAgIC8vIENhY2hlIHRoZSBsYXN0IHByb21pc2UgdmFsdWUgdG8gbWFrZSBpdCBhdmFpbGFibGUgdG8gdGhlIG5leHQKICAgIC8vIHN0ZXAgb2YgdGhlIGdlbmVyYXRvci4KICAgIG91dHB1dEVsZW1lbnQubGFzdFByb21pc2VWYWx1ZSA9IHZhbHVlOwogICAgcmV0dXJuIG5leHQudmFsdWUucmVzcG9uc2U7CiAgfSk7Cn0KCi8qKgogKiBHZW5lcmF0b3IgZnVuY3Rpb24gd2hpY2ggaXMgY2FsbGVkIGJldHdlZW4gZWFjaCBhc3luYyBzdGVwIG9mIHRoZSB1cGxvYWQKICogcHJvY2Vzcy4KICogQHBhcmFtIHtzdHJpbmd9IGlucHV0SWQgRWxlbWVudCBJRCBvZiB0aGUgaW5wdXQgZmlsZSBwaWNrZXIgZWxlbWVudC4KICogQHBhcmFtIHtzdHJpbmd9IG91dHB1dElkIEVsZW1lbnQgSUQgb2YgdGhlIG91dHB1dCBkaXNwbGF5LgogKiBAcmV0dXJuIHshSXRlcmFibGU8IU9iamVjdD59IEl0ZXJhYmxlIG9mIG5leHQgc3RlcHMuCiAqLwpmdW5jdGlvbiogdXBsb2FkRmlsZXNTdGVwKGlucHV0SWQsIG91dHB1dElkKSB7CiAgY29uc3QgaW5wdXRFbGVtZW50ID0gZG9jdW1lbnQuZ2V0RWxlbWVudEJ5SWQoaW5wdXRJZCk7CiAgaW5wdXRFbGVtZW50LmRpc2FibGVkID0gZmFsc2U7CgogIGNvbnN0IG91dHB1dEVsZW1lbnQgPSBkb2N1bWVudC5nZXRFbGVtZW50QnlJZChvdXRwdXRJZCk7CiAgb3V0cHV0RWxlbWVudC5pbm5lckhUTUwgPSAnJzsKCiAgY29uc3QgcGlja2VkUHJvbWlzZSA9IG5ldyBQcm9taXNlKChyZXNvbHZlKSA9PiB7CiAgICBpbnB1dEVsZW1lbnQuYWRkRXZlbnRMaXN0ZW5lcignY2hhbmdlJywgKGUpID0+IHsKICAgICAgcmVzb2x2ZShlLnRhcmdldC5maWxlcyk7CiAgICB9KTsKICB9KTsKCiAgY29uc3QgY2FuY2VsID0gZG9jdW1lbnQuY3JlYXRlRWxlbWVudCgnYnV0dG9uJyk7CiAgaW5wdXRFbGVtZW50LnBhcmVudEVsZW1lbnQuYXBwZW5kQ2hpbGQoY2FuY2VsKTsKICBjYW5jZWwudGV4dENvbnRlbnQgPSAnQ2FuY2VsIHVwbG9hZCc7CiAgY29uc3QgY2FuY2VsUHJvbWlzZSA9IG5ldyBQcm9taXNlKChyZXNvbHZlKSA9PiB7CiAgICBjYW5jZWwub25jbGljayA9ICgpID0+IHsKICAgICAgcmVzb2x2ZShudWxsKTsKICAgIH07CiAgfSk7CgogIC8vIENhbmNlbCB1cGxvYWQgaWYgdXNlciBoYXNuJ3QgcGlja2VkIGFueXRoaW5nIGluIHRpbWVvdXQuCiAgY29uc3QgdGltZW91dFByb21pc2UgPSBuZXcgUHJvbWlzZSgocmVzb2x2ZSkgPT4gewogICAgc2V0VGltZW91dCgoKSA9PiB7CiAgICAgIHJlc29sdmUobnVsbCk7CiAgICB9LCBGSUxFX0NIQU5HRV9USU1FT1VUX01TKTsKICB9KTsKCiAgLy8gV2FpdCBmb3IgdGhlIHVzZXIgdG8gcGljayB0aGUgZmlsZXMuCiAgY29uc3QgZmlsZXMgPSB5aWVsZCB7CiAgICBwcm9taXNlOiBQcm9taXNlLnJhY2UoW3BpY2tlZFByb21pc2UsIHRpbWVvdXRQcm9taXNlLCBjYW5jZWxQcm9taXNlXSksCiAgICByZXNwb25zZTogewogICAgICBhY3Rpb246ICdzdGFydGluZycsCiAgICB9CiAgfTsKCiAgaWYgKCFmaWxlcykgewogICAgcmV0dXJuIHsKICAgICAgcmVzcG9uc2U6IHsKICAgICAgICBhY3Rpb246ICdjb21wbGV0ZScsCiAgICAgIH0KICAgIH07CiAgfQoKICBjYW5jZWwucmVtb3ZlKCk7CgogIC8vIERpc2FibGUgdGhlIGlucHV0IGVsZW1lbnQgc2luY2UgZnVydGhlciBwaWNrcyBhcmUgbm90IGFsbG93ZWQuCiAgaW5wdXRFbGVtZW50LmRpc2FibGVkID0gdHJ1ZTsKCiAgZm9yIChjb25zdCBmaWxlIG9mIGZpbGVzKSB7CiAgICBjb25zdCBsaSA9IGRvY3VtZW50LmNyZWF0ZUVsZW1lbnQoJ2xpJyk7CiAgICBsaS5hcHBlbmQoc3BhbihmaWxlLm5hbWUsIHtmb250V2VpZ2h0OiAnYm9sZCd9KSk7CiAgICBsaS5hcHBlbmQoc3BhbigKICAgICAgICBgKCR7ZmlsZS50eXBlIHx8ICduL2EnfSkgLSAke2ZpbGUuc2l6ZX0gYnl0ZXMsIGAgKwogICAgICAgIGBsYXN0IG1vZGlmaWVkOiAkewogICAgICAgICAgICBmaWxlLmxhc3RNb2RpZmllZERhdGUgPyBmaWxlLmxhc3RNb2RpZmllZERhdGUudG9Mb2NhbGVEYXRlU3RyaW5nKCkgOgogICAgICAgICAgICAgICAgICAgICAgICAgICAgICAgICAgICAnbi9hJ30gLSBgKSk7CiAgICBjb25zdCBwZXJjZW50ID0gc3BhbignMCUgZG9uZScpOwogICAgbGkuYXBwZW5kQ2hpbGQocGVyY2VudCk7CgogICAgb3V0cHV0RWxlbWVudC5hcHBlbmRDaGlsZChsaSk7CgogICAgY29uc3QgZmlsZURhdGFQcm9taXNlID0gbmV3IFByb21pc2UoKHJlc29sdmUpID0+IHsKICAgICAgY29uc3QgcmVhZGVyID0gbmV3IEZpbGVSZWFkZXIoKTsKICAgICAgcmVhZGVyLm9ubG9hZCA9IChlKSA9PiB7CiAgICAgICAgcmVzb2x2ZShlLnRhcmdldC5yZXN1bHQpOwogICAgICB9OwogICAgICByZWFkZXIucmVhZEFzQXJyYXlCdWZmZXIoZmlsZSk7CiAgICB9KTsKICAgIC8vIFdhaXQgZm9yIHRoZSBkYXRhIHRvIGJlIHJlYWR5LgogICAgbGV0IGZpbGVEYXRhID0geWllbGQgewogICAgICBwcm9taXNlOiBmaWxlRGF0YVByb21pc2UsCiAgICAgIHJlc3BvbnNlOiB7CiAgICAgICAgYWN0aW9uOiAnY29udGludWUnLAogICAgICB9CiAgICB9OwoKICAgIC8vIFVzZSBhIGNodW5rZWQgc2VuZGluZyB0byBhdm9pZCBtZXNzYWdlIHNpemUgbGltaXRzLiBTZWUgYi82MjExNTY2MC4KICAgIGxldCBwb3NpdGlvbiA9IDA7CiAgICB3aGlsZSAocG9zaXRpb24gPCBmaWxlRGF0YS5ieXRlTGVuZ3RoKSB7CiAgICAgIGNvbnN0IGxlbmd0aCA9IE1hdGgubWluKGZpbGVEYXRhLmJ5dGVMZW5ndGggLSBwb3NpdGlvbiwgTUFYX1BBWUxPQURfU0laRSk7CiAgICAgIGNvbnN0IGNodW5rID0gbmV3IFVpbnQ4QXJyYXkoZmlsZURhdGEsIHBvc2l0aW9uLCBsZW5ndGgpOwogICAgICBwb3NpdGlvbiArPSBsZW5ndGg7CgogICAgICBjb25zdCBiYXNlNjQgPSBidG9hKFN0cmluZy5mcm9tQ2hhckNvZGUuYXBwbHkobnVsbCwgY2h1bmspKTsKICAgICAgeWllbGQgewogICAgICAgIHJlc3BvbnNlOiB7CiAgICAgICAgICBhY3Rpb246ICdhcHBlbmQnLAogICAgICAgICAgZmlsZTogZmlsZS5uYW1lLAogICAgICAgICAgZGF0YTogYmFzZTY0LAogICAgICAgIH0sCiAgICAgIH07CiAgICAgIHBlcmNlbnQudGV4dENvbnRlbnQgPQogICAgICAgICAgYCR7TWF0aC5yb3VuZCgocG9zaXRpb24gLyBmaWxlRGF0YS5ieXRlTGVuZ3RoKSAqIDEwMCl9JSBkb25lYDsKICAgIH0KICB9CgogIC8vIEFsbCBkb25lLgogIHlpZWxkIHsKICAgIHJlc3BvbnNlOiB7CiAgICAgIGFjdGlvbjogJ2NvbXBsZXRlJywKICAgIH0KICB9Owp9CgpzY29wZS5nb29nbGUgPSBzY29wZS5nb29nbGUgfHwge307CnNjb3BlLmdvb2dsZS5jb2xhYiA9IHNjb3BlLmdvb2dsZS5jb2xhYiB8fCB7fTsKc2NvcGUuZ29vZ2xlLmNvbGFiLl9maWxlcyA9IHsKICBfdXBsb2FkRmlsZXMsCiAgX3VwbG9hZEZpbGVzQ29udGludWUsCn07Cn0pKHNlbGYpOwo=",
              "ok": true,
              "headers": [
                [
                  "content-type",
                  "application/javascript"
                ]
              ],
              "status": 200,
              "status_text": ""
            }
          },
          "base_uri": "https://localhost:8080/",
          "height": 112
        },
        "outputId": "84ef0784-1774-4578-da39-bbbe5eeaddf2"
      },
      "source": [
        "from google.colab import files\n",
        "files.upload()"
      ],
      "execution_count": 23,
      "outputs": [
        {
          "output_type": "display_data",
          "data": {
            "text/html": [
              "\n",
              "     <input type=\"file\" id=\"files-01c2c2cb-69bb-4ace-8612-cc9a8eadac05\" name=\"files[]\" multiple disabled />\n",
              "     <output id=\"result-01c2c2cb-69bb-4ace-8612-cc9a8eadac05\">\n",
              "      Upload widget is only available when the cell has been executed in the\n",
              "      current browser session. Please rerun this cell to enable.\n",
              "      </output>\n",
              "      <script src=\"/nbextensions/google.colab/files.js\"></script> "
            ],
            "text/plain": [
              "<IPython.core.display.HTML object>"
            ]
          },
          "metadata": {
            "tags": []
          }
        },
        {
          "output_type": "stream",
          "text": [
            "Saving house-votes-84.data to house-votes-84.data\n"
          ],
          "name": "stdout"
        },
        {
          "output_type": "execute_result",
          "data": {
            "text/plain": [
              "{'house-votes-84.data': b'republican,n,y,n,y,y,y,n,n,n,y,?,y,y,y,n,y\\nrepublican,n,y,n,y,y,y,n,n,n,n,n,y,y,y,n,?\\ndemocrat,?,y,y,?,y,y,n,n,n,n,y,n,y,y,n,n\\ndemocrat,n,y,y,n,?,y,n,n,n,n,y,n,y,n,n,y\\ndemocrat,y,y,y,n,y,y,n,n,n,n,y,?,y,y,y,y\\ndemocrat,n,y,y,n,y,y,n,n,n,n,n,n,y,y,y,y\\ndemocrat,n,y,n,y,y,y,n,n,n,n,n,n,?,y,y,y\\nrepublican,n,y,n,y,y,y,n,n,n,n,n,n,y,y,?,y\\nrepublican,n,y,n,y,y,y,n,n,n,n,n,y,y,y,n,y\\ndemocrat,y,y,y,n,n,n,y,y,y,n,n,n,n,n,?,?\\nrepublican,n,y,n,y,y,n,n,n,n,n,?,?,y,y,n,n\\nrepublican,n,y,n,y,y,y,n,n,n,n,y,?,y,y,?,?\\ndemocrat,n,y,y,n,n,n,y,y,y,n,n,n,y,n,?,?\\ndemocrat,y,y,y,n,n,y,y,y,?,y,y,?,n,n,y,?\\nrepublican,n,y,n,y,y,y,n,n,n,n,n,y,?,?,n,?\\nrepublican,n,y,n,y,y,y,n,n,n,y,n,y,y,?,n,?\\ndemocrat,y,n,y,n,n,y,n,y,?,y,y,y,?,n,n,y\\ndemocrat,y,?,y,n,n,n,y,y,y,n,n,n,y,n,y,y\\nrepublican,n,y,n,y,y,y,n,n,n,n,n,?,y,y,n,n\\ndemocrat,y,y,y,n,n,n,y,y,y,n,y,n,n,n,y,y\\ndemocrat,y,y,y,n,n,?,y,y,n,n,y,n,n,n,y,y\\ndemocrat,y,y,y,n,n,n,y,y,y,n,n,n,?,?,y,y\\ndemocrat,y,?,y,n,n,n,y,y,y,n,n,?,n,n,y,y\\ndemocrat,y,y,y,n,n,n,y,y,y,n,n,n,n,n,y,y\\ndemocrat,y,n,y,n,n,n,y,y,y,n,n,n,n,n,y,?\\ndemocrat,y,n,y,n,n,n,y,y,y,y,n,n,n,n,y,y\\ndemocrat,y,n,y,n,n,n,y,y,y,n,y,n,n,n,y,y\\ndemocrat,y,y,y,n,n,n,y,y,y,n,y,n,n,n,y,y\\nrepublican,y,n,n,y,y,n,y,y,y,n,n,y,y,y,n,y\\ndemocrat,y,y,y,n,n,n,y,y,y,n,y,n,n,n,y,y\\nrepublican,n,y,n,y,y,y,n,n,n,n,n,y,y,y,n,n\\ndemocrat,y,y,y,n,n,n,y,y,y,n,y,n,n,n,y,?\\ndemocrat,y,y,y,n,n,n,y,y,y,y,n,n,y,n,y,y\\nrepublican,n,y,n,y,y,y,n,n,n,n,n,y,y,y,n,y\\ndemocrat,y,y,y,n,n,n,y,y,y,n,n,n,n,n,y,y\\nrepublican,n,y,n,y,y,y,n,n,n,n,n,y,y,y,n,n\\nrepublican,y,?,n,y,y,y,n,n,n,y,n,y,?,y,n,y\\nrepublican,y,y,n,y,y,y,n,n,n,n,n,n,y,y,n,y\\nrepublican,n,y,n,y,y,y,n,n,n,y,n,y,y,y,n,n\\ndemocrat,y,n,y,n,n,n,y,y,y,y,y,n,y,n,y,y\\ndemocrat,y,y,y,n,n,n,y,y,y,n,?,n,n,n,n,?\\ndemocrat,y,y,y,n,n,n,y,y,y,n,n,n,n,n,y,?\\ndemocrat,y,n,y,n,n,n,y,y,y,n,n,n,n,n,n,y\\ndemocrat,y,n,y,n,n,n,y,y,y,n,n,n,n,n,y,y\\ndemocrat,y,y,y,n,n,n,y,y,y,n,y,n,n,n,n,?\\ndemocrat,y,y,y,n,n,n,y,y,?,n,y,n,n,n,y,?\\ndemocrat,y,y,y,n,n,n,y,y,y,n,n,n,n,n,n,y\\ndemocrat,y,n,y,n,n,n,y,y,?,n,n,n,n,n,n,?\\ndemocrat,y,y,y,n,n,n,y,y,n,n,n,n,n,y,n,y\\nrepublican,n,?,n,y,y,y,n,n,n,n,n,y,y,y,n,n\\ndemocrat,y,y,y,n,n,n,y,y,y,n,y,n,n,n,y,y\\nrepublican,n,y,n,y,y,y,n,?,n,n,n,y,y,y,n,y\\ndemocrat,y,y,y,n,n,n,y,y,y,n,n,n,n,n,?,?\\nrepublican,y,y,n,y,y,y,n,n,n,y,n,y,y,y,n,n\\ndemocrat,y,y,y,n,n,y,?,y,n,n,y,y,n,y,n,?\\nrepublican,n,y,n,y,y,y,n,n,n,y,y,y,y,y,n,n\\nrepublican,n,y,n,y,y,y,n,n,n,y,y,y,y,y,n,y\\nrepublican,n,y,n,y,y,y,n,n,n,y,n,y,y,y,n,y\\nrepublican,n,y,n,y,y,y,n,n,n,y,n,y,y,y,n,y\\nrepublican,n,y,n,y,y,y,n,n,n,y,n,y,y,y,n,?\\ndemocrat,y,y,y,n,n,?,y,y,y,y,n,n,n,n,y,?\\nrepublican,n,y,n,y,y,y,n,n,n,n,n,y,y,y,n,n\\ndemocrat,y,y,y,n,n,n,y,y,y,n,n,n,n,n,n,?\\ndemocrat,y,y,y,n,n,n,y,y,y,n,y,n,n,n,n,y\\ndemocrat,y,y,y,n,n,n,y,y,y,n,y,?,n,n,n,y\\nrepublican,y,y,n,y,y,y,y,n,n,n,n,y,y,y,n,y\\nrepublican,n,y,n,y,y,y,y,n,n,n,y,y,y,y,n,y\\nrepublican,n,y,n,y,y,y,n,n,n,y,n,y,y,y,n,n\\ndemocrat,y,?,y,n,n,n,y,y,y,n,n,n,y,n,y,y\\ndemocrat,y,y,y,n,n,n,y,y,y,n,n,n,n,n,y,y\\ndemocrat,y,n,y,n,n,n,y,y,y,n,n,n,y,n,y,?\\nrepublican,y,y,y,y,n,n,y,y,y,y,y,n,n,y,n,y\\ndemocrat,y,y,y,n,n,n,y,y,y,n,y,n,n,n,y,?\\nrepublican,y,n,y,y,y,n,y,n,y,y,n,n,y,y,n,y\\ndemocrat,y,n,y,n,n,y,y,y,y,y,y,n,n,y,y,y\\ndemocrat,n,y,y,y,y,y,n,n,n,y,y,n,y,y,n,n\\ndemocrat,n,y,y,n,y,y,n,n,n,y,y,y,y,y,n,?\\ndemocrat,n,y,y,y,y,y,n,y,y,y,y,y,y,y,n,y\\ndemocrat,y,y,y,n,y,y,n,n,n,y,y,n,y,y,n,y\\nrepublican,n,n,n,y,y,n,n,n,n,y,n,y,y,y,n,n\\ndemocrat,y,n,y,n,n,y,y,y,y,y,n,y,n,y,n,?\\ndemocrat,y,n,y,n,n,n,y,y,?,y,y,y,n,y,n,y\\nrepublican,n,n,n,y,y,y,n,n,n,y,n,y,y,y,n,y\\nrepublican,n,n,n,y,y,y,n,n,n,n,n,y,y,y,n,n\\nrepublican,n,?,n,y,y,y,n,n,n,y,n,y,y,y,n,n\\ndemocrat,n,n,y,n,y,y,n,n,n,y,y,y,y,y,n,y\\nrepublican,n,n,n,y,y,y,n,n,n,y,n,y,y,y,n,n\\nrepublican,n,n,n,y,y,y,n,n,n,n,n,y,y,y,n,n\\ndemocrat,n,y,y,n,y,y,y,n,y,y,y,n,y,y,n,y\\nrepublican,n,n,n,y,y,y,n,n,n,y,n,?,y,y,n,?\\ndemocrat,y,n,y,n,n,n,y,y,y,y,n,n,n,n,y,y\\ndemocrat,y,n,y,n,n,n,y,y,y,y,y,n,n,n,y,y\\ndemocrat,y,y,y,n,n,n,y,y,n,y,y,n,n,?,y,y\\ndemocrat,y,n,y,n,n,n,y,n,y,y,y,n,n,n,y,y\\ndemocrat,y,n,y,n,y,y,n,n,n,n,n,n,n,n,n,y\\ndemocrat,y,n,y,n,y,y,n,?,?,n,y,?,?,?,y,y\\ndemocrat,n,n,?,n,y,y,n,n,n,n,y,y,y,y,n,y\\ndemocrat,y,n,n,n,y,y,y,n,n,y,y,n,n,y,n,y\\ndemocrat,y,y,y,n,n,y,y,y,y,y,n,n,n,n,n,y\\nrepublican,n,n,n,y,y,y,n,n,n,y,?,y,y,y,n,n\\ndemocrat,y,n,n,n,y,y,n,n,n,n,y,y,n,y,n,y\\ndemocrat,y,n,y,n,y,y,y,n,n,n,y,n,n,y,n,y\\ndemocrat,y,n,y,n,y,y,y,n,?,n,y,n,y,y,y,?\\ndemocrat,y,n,n,n,y,y,?,n,?,n,n,n,n,y,?,n\\ndemocrat,?,?,?,?,n,y,y,y,y,y,?,n,y,y,n,?\\ndemocrat,y,y,y,n,n,n,n,y,y,n,y,n,n,n,y,y\\nrepublican,n,y,n,y,y,y,n,n,n,n,n,y,y,y,n,y\\nrepublican,n,?,?,?,?,?,?,?,?,?,?,?,?,y,?,?\\ndemocrat,y,?,y,n,n,n,y,y,y,n,n,n,n,n,y,?\\ndemocrat,y,?,y,n,n,n,y,y,y,n,n,n,n,n,y,?\\ndemocrat,n,n,y,n,n,n,y,y,y,y,n,n,n,n,y,y\\nrepublican,n,?,n,y,y,y,n,n,n,y,n,y,y,y,n,y\\ndemocrat,n,?,y,n,n,y,y,y,n,y,n,n,n,n,y,?\\nrepublican,n,?,n,y,y,y,n,n,n,y,n,y,y,y,n,n\\ndemocrat,y,?,y,n,n,n,y,y,y,n,n,n,n,n,y,?\\ndemocrat,n,?,y,n,?,?,y,y,y,y,?,?,n,n,y,y\\ndemocrat,y,n,y,n,n,n,y,y,y,n,y,n,n,n,y,y\\nrepublican,y,y,y,y,y,n,y,n,n,n,n,y,y,y,n,y\\ndemocrat,n,y,y,n,n,n,n,y,y,y,y,n,n,n,y,y\\nrepublican,n,n,n,y,y,y,n,n,n,n,n,y,y,y,n,n\\nrepublican,n,?,?,y,y,y,n,n,n,y,n,y,y,y,?,y\\nrepublican,n,?,n,y,y,y,n,n,n,y,n,y,y,y,n,y\\nrepublican,n,n,n,y,y,y,n,n,n,y,n,y,n,y,n,y\\nrepublican,y,?,n,y,y,y,n,y,n,n,n,y,y,y,n,y\\ndemocrat,n,?,y,n,n,n,y,y,y,n,n,n,n,n,y,y\\nrepublican,n,?,n,y,y,y,n,n,n,y,n,y,y,y,n,y\\nrepublican,n,?,n,y,y,y,n,n,n,n,n,y,y,y,n,n\\ndemocrat,n,?,y,n,n,n,y,y,y,y,y,n,n,y,y,y\\ndemocrat,n,?,y,n,n,y,n,y,n,y,y,n,n,n,y,y\\ndemocrat,?,?,y,n,n,n,y,y,?,n,?,?,?,?,?,?\\ndemocrat,y,?,y,n,?,?,y,y,y,n,n,n,n,n,y,?\\ndemocrat,n,n,y,n,n,y,n,y,y,y,n,n,n,y,n,y\\nrepublican,n,n,n,y,y,y,n,n,n,y,n,y,y,y,n,?\\nrepublican,n,n,n,y,y,y,n,n,n,y,n,y,y,y,n,y\\nrepublican,n,n,n,y,y,y,n,n,n,n,n,y,y,y,n,?\\nrepublican,n,n,n,y,y,y,n,n,n,y,n,y,y,y,n,n\\nrepublican,n,y,n,y,y,y,n,n,n,y,y,y,y,n,n,y\\ndemocrat,n,?,y,n,n,y,y,y,y,y,n,n,n,y,y,y\\ndemocrat,n,n,y,n,n,y,y,y,y,y,n,n,n,y,n,y\\ndemocrat,y,n,y,n,n,y,y,y,y,n,n,n,n,n,y,y\\nrepublican,n,n,n,y,n,n,y,y,y,y,n,n,y,y,n,y\\nrepublican,n,n,n,y,y,y,y,y,y,y,n,y,y,y,?,y\\nrepublican,n,n,n,y,y,y,y,y,y,y,n,y,y,y,n,y\\ndemocrat,?,y,n,n,n,n,y,y,y,y,y,n,n,y,y,y\\ndemocrat,n,?,n,n,n,y,y,y,y,y,n,n,n,y,n,?\\ndemocrat,n,n,y,n,n,y,y,y,y,y,n,n,n,y,?,y\\nrepublican,n,y,n,y,y,y,n,n,n,n,n,y,y,y,n,y\\ndemocrat,n,n,n,n,n,n,y,y,y,y,n,y,y,y,y,y\\nrepublican,n,y,n,y,y,y,n,n,n,y,y,y,y,y,n,y\\ndemocrat,n,n,y,n,n,n,y,y,y,y,n,n,y,n,y,y\\nrepublican,y,y,n,y,y,y,n,n,n,y,n,y,y,y,n,y\\ndemocrat,y,y,?,y,y,y,n,n,y,n,y,?,y,y,n,n\\ndemocrat,n,y,y,n,n,y,n,y,y,y,y,n,y,n,y,y\\ndemocrat,n,n,y,n,n,y,y,y,y,y,y,n,y,y,n,y\\nrepublican,n,y,n,y,y,y,n,n,n,n,n,y,y,y,n,n\\nrepublican,y,y,n,y,y,y,n,?,n,n,y,y,y,y,n,n\\nrepublican,y,y,n,y,y,y,y,n,n,n,n,y,y,y,n,n\\ndemocrat,n,y,y,n,n,y,n,y,y,n,y,n,?,?,?,?\\nrepublican,n,y,n,y,y,y,n,n,n,y,n,y,y,y,n,n\\ndemocrat,n,y,y,n,?,y,y,y,y,y,y,n,n,?,n,?\\ndemocrat,n,y,n,n,y,y,n,n,n,n,n,y,y,y,y,y\\ndemocrat,n,n,n,n,y,y,y,n,n,n,n,y,y,y,n,y\\ndemocrat,n,y,y,n,y,y,y,n,n,n,y,y,y,y,n,y\\nrepublican,n,y,n,y,y,y,y,n,n,n,n,y,y,y,n,y\\ndemocrat,y,y,n,n,y,y,n,n,n,y,y,y,y,y,n,?\\ndemocrat,n,y,y,n,n,y,y,y,y,y,y,n,y,n,y,?\\nrepublican,y,n,y,y,y,y,y,y,n,y,n,y,n,y,y,y\\nrepublican,y,n,y,y,y,y,y,y,n,y,y,y,n,y,y,y\\ndemocrat,n,n,y,y,y,y,n,n,y,n,n,n,y,y,y,?\\ndemocrat,y,n,y,n,n,n,y,y,y,y,y,n,n,y,n,y\\ndemocrat,y,n,y,n,n,n,?,y,y,?,n,n,n,n,y,?\\nrepublican,n,?,n,y,y,y,n,n,n,y,n,y,y,y,n,y\\ndemocrat,n,y,y,n,n,n,y,y,y,y,n,n,?,n,y,y\\ndemocrat,n,n,n,n,y,y,n,n,n,y,y,y,y,y,n,y\\ndemocrat,y,?,y,n,n,n,y,y,y,n,n,n,n,n,y,?\\ndemocrat,n,y,y,n,n,n,y,y,y,y,n,n,n,n,y,y\\nrepublican,n,n,y,y,n,n,y,y,y,y,n,n,n,y,y,y\\ndemocrat,n,n,y,n,n,n,y,y,y,y,y,?,n,n,y,y\\ndemocrat,?,n,y,n,n,n,y,y,y,y,y,?,n,n,y,?\\ndemocrat,y,n,y,n,n,n,y,y,y,y,n,n,n,n,y,y\\ndemocrat,?,?,y,n,n,n,y,y,y,?,?,n,n,n,?,?\\ndemocrat,n,n,y,n,n,n,y,y,y,y,y,n,n,n,y,y\\ndemocrat,y,?,y,n,n,n,y,y,y,n,n,n,n,n,y,y\\ndemocrat,?,?,?,?,?,?,?,?,y,?,?,?,?,?,?,?\\ndemocrat,n,n,y,n,n,n,y,y,y,y,y,n,n,n,y,y\\ndemocrat,y,n,y,n,n,n,y,y,y,y,n,?,n,n,y,y\\ndemocrat,n,y,y,n,n,n,y,y,y,y,y,n,n,n,y,y\\ndemocrat,y,n,y,n,n,n,y,y,y,n,n,n,n,n,y,?\\nrepublican,y,?,n,y,y,y,y,y,n,n,n,y,?,y,?,?\\ndemocrat,y,n,y,n,n,n,y,y,y,n,n,n,n,n,y,y\\nrepublican,n,?,n,y,y,y,n,n,n,n,n,y,y,y,n,?\\nrepublican,n,y,n,y,y,y,n,?,n,y,n,y,y,y,n,?\\ndemocrat,n,n,n,n,n,y,y,y,y,n,y,n,n,y,y,y\\ndemocrat,n,n,y,n,n,n,y,y,y,n,n,n,n,n,y,y\\ndemocrat,n,n,y,n,n,y,y,?,y,y,y,n,n,n,y,y\\nrepublican,n,n,n,y,y,y,n,n,n,n,n,y,y,y,n,?\\ndemocrat,n,n,y,n,n,y,y,y,y,n,y,y,n,y,y,?\\nrepublican,n,?,y,y,y,y,n,n,n,y,n,n,n,y,n,y\\ndemocrat,n,n,y,n,n,n,y,y,y,y,y,n,?,n,y,?\\ndemocrat,y,y,n,n,n,n,y,y,?,n,y,n,n,n,y,?\\ndemocrat,n,n,y,n,n,n,y,y,y,n,n,n,n,y,y,y\\ndemocrat,y,y,y,n,n,n,y,y,y,n,n,n,n,n,y,y\\ndemocrat,y,n,y,n,n,y,y,y,y,y,y,n,n,n,y,y\\ndemocrat,y,n,y,n,n,n,y,y,y,y,n,n,n,n,y,y\\nrepublican,n,n,y,y,y,y,y,n,n,n,n,y,y,y,n,y\\ndemocrat,n,n,y,n,n,y,y,y,y,y,n,y,n,n,n,y\\nrepublican,n,n,n,y,y,y,n,n,n,y,n,y,n,y,n,y\\nrepublican,y,?,n,y,y,y,y,n,n,y,n,y,y,y,n,y\\ndemocrat,n,n,y,n,n,n,y,y,y,n,n,?,n,n,y,y\\ndemocrat,y,y,y,n,n,n,y,y,y,y,y,n,n,n,n,y\\ndemocrat,n,n,y,n,n,y,y,y,y,n,n,n,n,n,y,y\\nrepublican,n,y,n,y,y,y,n,n,n,y,n,y,y,y,n,y\\ndemocrat,n,n,y,n,n,n,y,y,y,n,y,n,n,n,y,y\\ndemocrat,n,y,y,n,n,y,n,y,y,n,y,n,y,n,y,y\\nrepublican,y,y,n,y,y,y,n,n,n,y,n,y,y,y,n,y\\ndemocrat,n,y,y,y,y,y,n,n,n,y,y,y,y,y,y,?\\ndemocrat,y,y,y,n,y,y,n,n,?,y,n,n,n,y,y,?\\nrepublican,n,y,n,y,y,y,n,n,n,y,n,y,y,y,n,n\\ndemocrat,y,?,y,n,n,n,y,y,y,n,?,n,n,n,y,?\\ndemocrat,n,y,y,n,n,n,n,y,y,n,y,n,n,y,y,y\\ndemocrat,n,n,y,n,n,n,y,y,y,n,n,n,n,n,y,?\\ndemocrat,n,y,y,n,y,y,n,n,n,n,y,n,n,n,y,?\\ndemocrat,y,n,y,n,n,n,y,y,y,n,y,n,n,n,y,?\\nrepublican,n,n,n,y,y,n,n,n,n,n,n,y,y,y,n,y\\nrepublican,n,y,n,y,y,y,n,n,n,y,n,?,y,y,n,n\\nrepublican,n,?,n,y,y,y,n,n,n,n,n,y,y,y,n,y\\ndemocrat,n,n,y,n,n,y,y,y,y,n,y,n,n,y,y,y\\ndemocrat,y,n,y,n,n,n,y,y,y,n,n,n,n,n,?,y\\nrepublican,n,y,n,y,y,y,n,n,n,n,n,y,y,?,n,y\\nrepublican,n,y,y,y,y,y,y,n,y,y,n,y,y,y,n,y\\nrepublican,n,y,n,y,y,y,n,n,n,n,n,y,y,y,n,y\\nrepublican,n,y,n,y,y,y,n,n,y,y,n,y,y,y,n,y\\ndemocrat,n,y,y,n,n,n,y,y,n,n,y,n,n,n,y,?\\nrepublican,n,y,n,y,y,y,n,n,n,y,n,y,y,y,n,y\\ndemocrat,n,n,y,n,n,y,y,y,y,y,n,y,n,y,y,?\\nrepublican,n,n,n,y,y,y,n,n,n,y,n,y,n,y,n,y\\ndemocrat,n,n,y,n,n,n,y,y,y,n,n,n,n,n,y,y\\ndemocrat,y,n,y,n,n,y,y,y,n,n,n,y,y,n,n,y\\ndemocrat,y,y,y,n,n,n,y,y,?,y,n,n,n,n,y,?\\nrepublican,n,n,n,y,y,y,y,n,n,y,n,n,n,y,y,y\\nrepublican,n,n,n,y,n,y,y,?,y,n,n,y,y,y,n,y\\ndemocrat,y,n,y,n,n,n,y,y,y,y,y,n,n,y,y,y\\nrepublican,n,n,n,n,y,y,y,n,n,n,n,?,n,y,y,y\\ndemocrat,n,y,y,n,n,n,y,y,?,y,n,n,y,n,y,y\\ndemocrat,y,n,y,n,n,n,n,y,y,y,n,n,n,n,y,y\\ndemocrat,y,n,y,n,n,n,y,y,y,y,y,n,n,n,y,y\\ndemocrat,n,n,y,n,y,n,y,y,y,n,n,n,n,y,?,y\\nrepublican,n,y,n,y,y,y,?,n,n,n,n,?,y,y,n,n\\nrepublican,?,?,?,?,?,?,?,?,?,?,?,?,?,?,?,?\\ndemocrat,y,n,y,n,n,n,y,y,?,n,y,n,n,n,y,y\\nrepublican,n,y,n,y,y,y,n,n,n,n,n,y,y,y,n,n\\nrepublican,n,y,n,y,y,y,n,n,n,n,n,y,y,y,n,n\\ndemocrat,y,y,y,n,n,y,y,y,y,n,n,n,n,n,y,y\\nrepublican,n,y,n,y,y,y,n,n,n,n,n,y,y,y,n,y\\ndemocrat,y,n,y,n,n,n,y,y,y,y,n,n,n,n,n,y\\ndemocrat,y,n,y,n,n,n,y,y,y,y,n,n,n,y,y,y\\nrepublican,n,n,n,y,y,n,n,n,n,n,n,y,n,y,n,n\\nrepublican,n,n,n,y,y,n,n,n,n,n,n,y,n,y,?,y\\ndemocrat,n,n,y,n,n,n,y,y,y,n,y,n,n,n,y,y\\ndemocrat,y,n,y,n,n,n,y,y,y,n,n,n,n,n,n,y\\ndemocrat,y,n,y,n,n,n,y,y,y,y,n,n,n,n,n,y\\ndemocrat,y,n,y,n,n,?,y,y,y,n,?,?,n,?,?,?\\ndemocrat,y,n,y,n,n,n,y,y,y,y,n,n,?,n,y,y\\ndemocrat,y,n,y,n,n,n,y,y,y,n,n,n,n,n,y,?\\ndemocrat,y,n,y,n,n,n,y,y,y,n,n,n,n,n,y,?\\ndemocrat,y,n,y,n,n,n,y,y,y,y,n,n,n,n,n,y\\nrepublican,n,n,n,y,y,y,n,n,n,y,n,y,n,y,n,y\\nrepublican,y,n,n,n,n,n,y,y,y,y,n,n,n,y,n,y\\ndemocrat,y,n,y,n,n,n,y,y,y,n,n,n,n,n,y,?\\ndemocrat,y,n,y,n,n,n,y,y,y,n,n,n,n,n,n,y\\ndemocrat,y,y,y,n,n,n,y,y,y,n,n,n,n,n,y,y\\ndemocrat,n,y,y,n,n,y,y,y,y,n,?,n,n,n,n,y\\ndemocrat,y,n,y,n,n,n,y,y,y,y,n,n,n,n,y,?\\nrepublican,n,n,n,y,y,n,y,y,n,y,n,y,y,y,?,y\\nrepublican,y,n,n,y,y,n,y,n,n,y,n,n,n,y,y,y\\ndemocrat,n,n,y,n,y,y,n,n,n,n,?,n,y,y,n,n\\nrepublican,n,n,n,y,y,y,n,n,n,n,n,y,y,y,y,n\\nrepublican,n,n,y,y,y,y,y,y,n,y,n,n,n,y,n,y\\nrepublican,n,n,n,y,y,y,n,n,n,n,n,y,y,y,n,y\\nrepublican,n,n,n,y,y,y,n,n,n,y,n,y,y,y,n,n\\ndemocrat,n,n,y,n,n,n,y,y,y,y,n,n,n,y,n,y\\nrepublican,y,n,y,y,y,y,y,y,n,n,n,n,n,y,n,?\\nrepublican,y,n,n,y,y,y,n,n,n,y,n,?,y,y,n,n\\nrepublican,n,n,n,y,y,y,n,n,n,n,n,y,y,y,n,y\\ndemocrat,n,n,y,n,n,y,y,y,y,y,y,n,n,n,?,y\\ndemocrat,n,n,y,n,n,y,y,y,y,y,y,n,n,n,y,y\\ndemocrat,n,n,y,n,n,y,?,y,?,y,y,y,n,y,y,?\\ndemocrat,y,y,y,?,n,y,y,y,y,n,y,n,y,n,?,y\\ndemocrat,y,y,y,n,y,y,n,y,n,y,y,n,y,y,y,y\\ndemocrat,y,y,y,n,y,y,n,y,n,y,y,n,y,y,n,?\\ndemocrat,y,n,y,n,?,y,?,y,y,y,n,n,y,y,n,y\\ndemocrat,y,n,y,n,n,y,y,y,y,y,n,?,n,y,n,y\\ndemocrat,y,n,y,n,n,y,y,y,n,y,y,n,y,y,y,y\\ndemocrat,y,y,y,n,n,y,y,y,y,y,y,n,y,y,y,y\\ndemocrat,n,y,y,n,n,y,y,y,n,y,y,n,y,y,n,?\\nrepublican,n,y,n,y,y,y,?,?,n,y,n,y,?,?,?,?\\nrepublican,n,n,y,y,y,y,n,n,n,y,n,y,y,y,y,y\\ndemocrat,y,y,y,n,n,y,y,y,y,y,n,n,?,n,y,?\\ndemocrat,n,y,n,n,n,n,y,y,y,y,y,n,n,n,y,y\\ndemocrat,n,y,y,n,n,y,y,y,y,y,n,n,y,y,y,y\\nrepublican,n,n,n,y,y,n,y,y,y,y,n,y,y,y,n,y\\ndemocrat,n,n,?,n,n,y,y,y,y,n,n,n,n,n,y,y\\nrepublican,n,n,n,y,y,y,y,n,n,y,n,y,y,y,n,y\\nrepublican,n,n,n,y,y,y,n,n,n,n,n,y,y,y,n,n\\nrepublican,n,y,n,y,y,y,n,n,n,y,n,y,y,y,n,?\\nrepublican,n,n,n,y,y,y,n,n,n,y,n,y,y,y,n,n\\nrepublican,n,n,n,y,y,y,n,n,n,n,n,y,y,y,n,n\\ndemocrat,y,n,y,n,n,y,y,y,y,n,n,n,n,y,n,?\\nrepublican,n,n,n,y,y,y,n,n,n,y,n,y,y,y,n,n\\ndemocrat,y,n,n,n,n,y,y,y,y,y,n,n,n,y,y,y\\nrepublican,n,n,n,y,y,y,n,n,n,y,n,y,y,y,y,n\\ndemocrat,n,n,y,n,n,y,y,y,y,y,n,n,y,n,n,y\\ndemocrat,y,y,y,n,n,n,y,y,y,y,n,n,n,n,y,y\\nrepublican,n,y,y,y,y,y,n,n,n,y,n,y,y,y,n,y\\nrepublican,n,y,n,y,y,y,y,y,n,n,y,y,y,y,y,y\\nrepublican,n,y,y,y,y,y,y,?,n,n,n,n,?,?,y,?\\ndemocrat,n,n,n,n,n,y,n,y,y,n,y,y,y,y,y,n\\ndemocrat,y,n,n,n,n,n,y,y,y,y,n,n,n,n,y,y\\ndemocrat,n,n,y,n,n,n,y,y,y,n,n,n,n,n,y,?\\ndemocrat,y,n,y,n,n,n,y,y,y,n,n,n,n,n,y,?\\ndemocrat,n,y,y,n,n,y,n,y,y,y,n,n,y,y,n,y\\ndemocrat,y,y,y,n,n,n,y,y,y,y,n,n,y,n,n,y\\ndemocrat,y,y,y,n,?,y,n,?,n,n,y,n,y,y,n,?\\ndemocrat,y,y,y,n,y,y,n,y,?,y,n,n,y,y,n,?\\nrepublican,n,y,n,y,y,y,n,n,n,n,y,y,y,y,n,n\\ndemocrat,n,y,n,n,y,y,n,n,?,n,n,y,y,y,n,y\\ndemocrat,y,y,n,y,n,n,y,y,y,n,y,n,n,y,n,y\\nrepublican,n,y,n,y,y,y,n,n,n,n,n,y,y,y,n,y\\ndemocrat,y,y,y,n,n,n,y,y,y,n,y,n,n,n,n,y\\ndemocrat,y,?,y,n,n,y,y,y,y,y,n,n,n,n,y,?\\nrepublican,n,y,n,y,y,y,n,n,n,y,n,y,y,y,n,n\\ndemocrat,y,?,y,n,n,n,y,y,y,n,n,n,n,n,y,?\\ndemocrat,y,n,y,n,n,n,y,y,y,n,y,n,n,n,y,?\\ndemocrat,n,n,y,n,n,n,y,y,y,n,n,n,n,n,y,y\\ndemocrat,n,y,y,n,n,y,y,y,?,n,y,y,n,n,y,y\\nrepublican,n,n,n,y,y,y,n,n,n,y,y,y,y,y,n,?\\ndemocrat,n,n,y,n,n,y,y,y,n,n,y,n,n,y,?,y\\ndemocrat,y,n,y,n,n,n,y,y,y,n,n,n,n,n,y,y\\ndemocrat,y,n,y,n,n,n,y,y,y,y,n,n,n,y,y,y\\nrepublican,y,n,n,y,y,y,n,n,n,n,y,y,y,y,n,n\\nrepublican,n,n,n,y,y,y,n,n,n,y,y,y,n,y,n,y\\ndemocrat,n,?,y,?,n,y,y,y,y,y,y,n,?,?,y,y\\ndemocrat,n,y,y,n,y,?,y,n,n,y,y,n,y,n,y,y\\nrepublican,n,n,n,y,y,n,y,n,y,y,n,n,n,y,n,y\\ndemocrat,n,n,y,n,n,n,y,y,y,y,y,n,n,n,y,y\\nrepublican,n,n,n,y,y,y,y,n,n,y,n,y,n,y,y,y\\nrepublican,n,n,n,y,y,y,n,n,n,y,n,y,y,y,n,y\\nrepublican,y,n,n,y,y,y,n,n,n,y,n,y,y,y,n,n\\ndemocrat,y,n,y,n,n,n,y,y,y,y,n,y,n,n,y,?\\nrepublican,n,y,y,y,y,y,y,y,y,n,n,y,y,y,n,y\\ndemocrat,n,y,n,n,n,y,y,n,y,n,y,n,n,n,y,y\\nrepublican,n,n,y,y,y,y,y,y,y,y,n,y,y,y,y,y\\ndemocrat,n,y,n,y,n,y,y,y,y,n,y,n,y,n,y,?\\nrepublican,n,n,y,y,y,y,y,n,n,y,y,y,y,y,n,y\\ndemocrat,n,y,y,n,n,y,y,y,y,y,n,?,n,n,y,y\\nrepublican,y,n,y,y,n,n,n,y,y,y,n,n,n,y,y,y\\nrepublican,n,n,n,y,y,y,n,n,n,n,n,y,y,y,n,n\\nrepublican,n,n,n,y,y,y,n,n,n,n,n,y,y,y,n,n\\ndemocrat,y,y,y,n,n,y,y,y,y,y,y,y,y,y,n,?\\nrepublican,n,n,n,y,y,y,n,n,n,y,?,y,y,y,n,y\\ndemocrat,y,n,y,n,n,y,y,y,y,y,n,n,y,n,n,y\\ndemocrat,y,n,y,n,y,y,y,n,y,y,n,n,y,y,n,?\\ndemocrat,y,y,y,n,n,y,y,y,y,y,y,y,y,n,n,y\\nrepublican,y,y,n,y,y,y,n,n,n,y,y,n,y,n,n,n\\nrepublican,y,y,n,y,y,y,n,n,n,n,y,n,y,y,n,y\\ndemocrat,n,y,n,n,y,y,n,n,n,y,y,n,y,y,n,n\\ndemocrat,y,n,y,n,n,n,y,y,n,y,y,n,n,n,n,?\\ndemocrat,y,y,y,n,y,y,y,y,n,y,y,n,n,n,y,?\\ndemocrat,n,y,y,n,n,y,y,y,n,y,n,n,n,n,y,y\\nrepublican,n,y,n,y,y,y,n,n,n,n,n,n,y,y,n,y\\ndemocrat,y,y,y,n,?,y,y,y,n,y,?,?,n,n,y,y\\ndemocrat,y,y,y,n,?,n,y,y,y,y,n,n,n,n,y,?\\ndemocrat,n,y,y,y,y,y,n,n,n,n,y,y,?,y,n,n\\ndemocrat,n,y,y,?,y,y,n,y,n,y,?,n,y,y,?,y\\nrepublican,n,y,n,y,y,y,n,n,n,n,n,y,y,y,n,y\\ndemocrat,n,y,n,y,y,y,n,n,n,n,y,y,n,y,n,n\\ndemocrat,y,?,y,n,n,n,y,y,y,n,y,n,n,n,y,y\\nrepublican,n,y,n,y,y,y,?,?,n,n,?,?,y,?,?,?\\nrepublican,n,n,n,y,y,y,n,n,n,n,n,y,y,y,n,y\\nrepublican,n,n,n,y,y,y,n,n,n,n,n,y,y,y,n,y\\ndemocrat,y,y,y,n,n,y,?,y,y,n,y,n,y,n,y,y\\ndemocrat,y,y,y,n,y,y,y,y,y,y,y,n,y,y,n,?\\ndemocrat,y,y,n,y,y,y,n,n,n,n,y,n,y,y,n,?\\ndemocrat,y,y,y,n,y,y,n,y,y,y,y,n,n,n,n,y\\ndemocrat,y,y,y,y,y,y,n,n,n,n,y,y,y,y,n,y\\ndemocrat,y,y,n,n,y,y,n,n,n,n,y,y,y,y,y,n\\ndemocrat,n,?,y,n,y,y,n,y,n,n,y,n,n,n,n,?\\ndemocrat,y,y,y,n,y,y,n,y,y,n,y,n,n,y,n,?\\ndemocrat,n,y,y,y,y,y,n,n,n,n,n,y,y,y,n,?\\ndemocrat,y,n,y,n,n,n,y,y,y,?,y,n,n,n,y,?\\ndemocrat,?,?,n,n,?,y,?,n,n,n,y,y,n,y,n,?\\ndemocrat,y,y,n,n,n,n,n,y,y,n,y,n,n,n,y,n\\nrepublican,y,y,n,y,y,y,n,n,n,n,y,y,y,y,n,y\\nrepublican,?,?,?,?,n,y,n,y,y,n,n,y,y,n,n,?\\ndemocrat,y,y,?,?,?,y,n,n,n,n,y,n,y,n,n,y\\ndemocrat,y,y,y,?,n,n,n,y,n,n,y,?,n,n,y,y\\ndemocrat,y,y,y,n,y,y,n,y,n,n,y,n,y,n,y,y\\ndemocrat,y,y,n,n,y,?,n,n,n,n,y,n,y,y,n,y\\ndemocrat,n,y,y,n,y,y,n,y,n,n,n,n,n,n,n,y\\nrepublican,n,y,n,y,?,y,n,n,n,y,n,y,y,y,n,n\\nrepublican,n,y,n,y,y,y,n,?,n,n,?,?,?,y,n,?\\nrepublican,n,y,n,y,y,y,n,n,n,y,y,y,y,y,n,n\\nrepublican,?,n,y,y,n,y,y,y,y,y,n,y,n,y,n,y\\nrepublican,n,y,n,y,y,y,n,n,n,y,n,y,?,y,n,n\\nrepublican,y,y,n,y,y,y,n,n,n,y,n,y,y,y,n,y\\nrepublican,n,n,n,y,y,y,n,n,n,n,n,y,y,y,n,y\\ndemocrat,y,n,y,n,y,y,n,n,y,y,n,n,y,y,n,y\\ndemocrat,n,n,n,y,y,y,n,n,n,n,y,y,y,y,n,n\\ndemocrat,y,n,y,n,n,y,y,y,y,n,n,y,?,y,y,y\\nrepublican,n,n,n,y,y,y,n,n,n,n,n,y,y,y,n,n\\nrepublican,n,n,n,y,y,y,n,n,n,n,y,y,y,y,n,y\\ndemocrat,y,n,y,n,n,y,y,y,y,y,y,n,n,n,n,y\\nrepublican,n,n,n,y,y,y,n,n,n,y,n,y,y,y,n,y\\nrepublican,y,y,y,y,y,y,y,y,n,y,?,?,?,y,n,y\\ndemocrat,y,y,y,n,n,n,y,y,y,n,n,n,n,n,n,y\\ndemocrat,n,y,y,n,n,y,y,y,?,y,n,n,n,n,n,y\\nrepublican,y,y,n,y,y,y,n,n,n,y,n,n,y,y,n,y\\ndemocrat,y,y,y,n,n,n,y,y,y,y,y,n,y,n,n,y\\ndemocrat,y,y,y,n,n,n,y,y,n,y,n,n,n,n,n,y\\ndemocrat,y,y,y,n,n,n,y,y,y,n,n,n,n,n,n,y\\nrepublican,y,y,y,y,y,y,y,y,n,y,n,n,y,y,n,y\\ndemocrat,n,y,y,n,y,y,y,y,n,n,y,n,y,n,y,y\\ndemocrat,n,n,y,n,n,y,y,y,y,n,y,n,n,n,y,y\\ndemocrat,n,y,y,n,n,y,y,y,y,n,y,n,n,y,y,y\\ndemocrat,n,y,y,n,n,?,y,y,y,y,y,n,?,y,y,y\\ndemocrat,n,n,y,n,n,n,y,y,n,y,y,n,n,n,y,?\\ndemocrat,y,n,y,n,n,n,y,y,y,y,n,n,n,n,y,y\\nrepublican,n,n,n,y,y,y,y,y,n,y,n,y,y,y,n,y\\ndemocrat,?,?,?,n,n,n,y,y,y,y,n,n,y,n,y,y\\ndemocrat,y,n,y,n,?,n,y,y,y,y,n,y,n,?,y,y\\nrepublican,n,n,y,y,y,y,n,n,y,y,n,y,y,y,n,y\\ndemocrat,n,n,y,n,n,n,y,y,y,y,n,n,n,n,n,y\\nrepublican,n,?,n,y,y,y,n,n,n,n,y,y,y,y,n,y\\nrepublican,n,n,n,y,y,y,?,?,?,?,n,y,y,y,n,y\\nrepublican,n,y,n,y,y,y,n,n,n,y,n,y,y,y,?,n\\n'}"
            ]
          },
          "metadata": {
            "tags": []
          },
          "execution_count": 23
        }
      ]
    },
    {
      "cell_type": "code",
      "metadata": {
        "id": "wJgFowg2pN-I",
        "colab_type": "code",
        "colab": {
          "base_uri": "https://localhost:8080/",
          "height": 219
        },
        "outputId": "307e44c9-7ccb-482c-9258-3dcd7998fc4e"
      },
      "source": [
        "column_headers = ['party','handicapped-infants','water-project',\n",
        "                  'budget','physician-fee-freeze', 'el-salvador-aid',\n",
        "                  'religious-groups','anti-satellite-ban',\n",
        "                  'aid-to-contras','mx-missile','immigration',\n",
        "                  'synfuels', 'education', 'right-to-sue','crime','duty-free',\n",
        "                  'south-africa']\n",
        "df = pd.read_csv('house-votes-84.data',names = column_headers)\n",
        "df.head()"
      ],
      "execution_count": 24,
      "outputs": [
        {
          "output_type": "execute_result",
          "data": {
            "text/html": [
              "<div>\n",
              "<style scoped>\n",
              "    .dataframe tbody tr th:only-of-type {\n",
              "        vertical-align: middle;\n",
              "    }\n",
              "\n",
              "    .dataframe tbody tr th {\n",
              "        vertical-align: top;\n",
              "    }\n",
              "\n",
              "    .dataframe thead th {\n",
              "        text-align: right;\n",
              "    }\n",
              "</style>\n",
              "<table border=\"1\" class=\"dataframe\">\n",
              "  <thead>\n",
              "    <tr style=\"text-align: right;\">\n",
              "      <th></th>\n",
              "      <th>party</th>\n",
              "      <th>handicapped-infants</th>\n",
              "      <th>water-project</th>\n",
              "      <th>budget</th>\n",
              "      <th>physician-fee-freeze</th>\n",
              "      <th>el-salvador-aid</th>\n",
              "      <th>religious-groups</th>\n",
              "      <th>anti-satellite-ban</th>\n",
              "      <th>aid-to-contras</th>\n",
              "      <th>mx-missile</th>\n",
              "      <th>immigration</th>\n",
              "      <th>synfuels</th>\n",
              "      <th>education</th>\n",
              "      <th>right-to-sue</th>\n",
              "      <th>crime</th>\n",
              "      <th>duty-free</th>\n",
              "      <th>south-africa</th>\n",
              "    </tr>\n",
              "  </thead>\n",
              "  <tbody>\n",
              "    <tr>\n",
              "      <th>0</th>\n",
              "      <td>republican</td>\n",
              "      <td>n</td>\n",
              "      <td>y</td>\n",
              "      <td>n</td>\n",
              "      <td>y</td>\n",
              "      <td>y</td>\n",
              "      <td>y</td>\n",
              "      <td>n</td>\n",
              "      <td>n</td>\n",
              "      <td>n</td>\n",
              "      <td>y</td>\n",
              "      <td>?</td>\n",
              "      <td>y</td>\n",
              "      <td>y</td>\n",
              "      <td>y</td>\n",
              "      <td>n</td>\n",
              "      <td>y</td>\n",
              "    </tr>\n",
              "    <tr>\n",
              "      <th>1</th>\n",
              "      <td>republican</td>\n",
              "      <td>n</td>\n",
              "      <td>y</td>\n",
              "      <td>n</td>\n",
              "      <td>y</td>\n",
              "      <td>y</td>\n",
              "      <td>y</td>\n",
              "      <td>n</td>\n",
              "      <td>n</td>\n",
              "      <td>n</td>\n",
              "      <td>n</td>\n",
              "      <td>n</td>\n",
              "      <td>y</td>\n",
              "      <td>y</td>\n",
              "      <td>y</td>\n",
              "      <td>n</td>\n",
              "      <td>?</td>\n",
              "    </tr>\n",
              "    <tr>\n",
              "      <th>2</th>\n",
              "      <td>democrat</td>\n",
              "      <td>?</td>\n",
              "      <td>y</td>\n",
              "      <td>y</td>\n",
              "      <td>?</td>\n",
              "      <td>y</td>\n",
              "      <td>y</td>\n",
              "      <td>n</td>\n",
              "      <td>n</td>\n",
              "      <td>n</td>\n",
              "      <td>n</td>\n",
              "      <td>y</td>\n",
              "      <td>n</td>\n",
              "      <td>y</td>\n",
              "      <td>y</td>\n",
              "      <td>n</td>\n",
              "      <td>n</td>\n",
              "    </tr>\n",
              "    <tr>\n",
              "      <th>3</th>\n",
              "      <td>democrat</td>\n",
              "      <td>n</td>\n",
              "      <td>y</td>\n",
              "      <td>y</td>\n",
              "      <td>n</td>\n",
              "      <td>?</td>\n",
              "      <td>y</td>\n",
              "      <td>n</td>\n",
              "      <td>n</td>\n",
              "      <td>n</td>\n",
              "      <td>n</td>\n",
              "      <td>y</td>\n",
              "      <td>n</td>\n",
              "      <td>y</td>\n",
              "      <td>n</td>\n",
              "      <td>n</td>\n",
              "      <td>y</td>\n",
              "    </tr>\n",
              "    <tr>\n",
              "      <th>4</th>\n",
              "      <td>democrat</td>\n",
              "      <td>y</td>\n",
              "      <td>y</td>\n",
              "      <td>y</td>\n",
              "      <td>n</td>\n",
              "      <td>y</td>\n",
              "      <td>y</td>\n",
              "      <td>n</td>\n",
              "      <td>n</td>\n",
              "      <td>n</td>\n",
              "      <td>n</td>\n",
              "      <td>y</td>\n",
              "      <td>?</td>\n",
              "      <td>y</td>\n",
              "      <td>y</td>\n",
              "      <td>y</td>\n",
              "      <td>y</td>\n",
              "    </tr>\n",
              "  </tbody>\n",
              "</table>\n",
              "</div>"
            ],
            "text/plain": [
              "        party handicapped-infants water-project  ... crime duty-free south-africa\n",
              "0  republican                   n             y  ...     y         n            y\n",
              "1  republican                   n             y  ...     y         n            ?\n",
              "2    democrat                   ?             y  ...     y         n            n\n",
              "3    democrat                   n             y  ...     n         n            y\n",
              "4    democrat                   y             y  ...     y         y            y\n",
              "\n",
              "[5 rows x 17 columns]"
            ]
          },
          "metadata": {
            "tags": []
          },
          "execution_count": 24
        }
      ]
    },
    {
      "cell_type": "code",
      "metadata": {
        "id": "zk-O9C_8pTMQ",
        "colab_type": "code",
        "colab": {
          "base_uri": "https://localhost:8080/",
          "height": 219
        },
        "outputId": "f8f3c2fc-2d1f-45e6-8ed2-3968e5885658"
      },
      "source": [
        "df = df.replace({'y': 1, 'n': 0, '?': np.NaN})\n",
        "df = df.dropna()\n",
        "df.head()\n"
      ],
      "execution_count": 27,
      "outputs": [
        {
          "output_type": "execute_result",
          "data": {
            "text/html": [
              "<div>\n",
              "<style scoped>\n",
              "    .dataframe tbody tr th:only-of-type {\n",
              "        vertical-align: middle;\n",
              "    }\n",
              "\n",
              "    .dataframe tbody tr th {\n",
              "        vertical-align: top;\n",
              "    }\n",
              "\n",
              "    .dataframe thead th {\n",
              "        text-align: right;\n",
              "    }\n",
              "</style>\n",
              "<table border=\"1\" class=\"dataframe\">\n",
              "  <thead>\n",
              "    <tr style=\"text-align: right;\">\n",
              "      <th></th>\n",
              "      <th>party</th>\n",
              "      <th>handicapped-infants</th>\n",
              "      <th>water-project</th>\n",
              "      <th>budget</th>\n",
              "      <th>physician-fee-freeze</th>\n",
              "      <th>el-salvador-aid</th>\n",
              "      <th>religious-groups</th>\n",
              "      <th>anti-satellite-ban</th>\n",
              "      <th>aid-to-contras</th>\n",
              "      <th>mx-missile</th>\n",
              "      <th>immigration</th>\n",
              "      <th>synfuels</th>\n",
              "      <th>education</th>\n",
              "      <th>right-to-sue</th>\n",
              "      <th>crime</th>\n",
              "      <th>duty-free</th>\n",
              "      <th>south-africa</th>\n",
              "    </tr>\n",
              "  </thead>\n",
              "  <tbody>\n",
              "    <tr>\n",
              "      <th>5</th>\n",
              "      <td>democrat</td>\n",
              "      <td>0.0</td>\n",
              "      <td>1.0</td>\n",
              "      <td>1.0</td>\n",
              "      <td>0.0</td>\n",
              "      <td>1.0</td>\n",
              "      <td>1.0</td>\n",
              "      <td>0.0</td>\n",
              "      <td>0.0</td>\n",
              "      <td>0.0</td>\n",
              "      <td>0.0</td>\n",
              "      <td>0.0</td>\n",
              "      <td>0.0</td>\n",
              "      <td>1.0</td>\n",
              "      <td>1.0</td>\n",
              "      <td>1.0</td>\n",
              "      <td>1.0</td>\n",
              "    </tr>\n",
              "    <tr>\n",
              "      <th>8</th>\n",
              "      <td>republican</td>\n",
              "      <td>0.0</td>\n",
              "      <td>1.0</td>\n",
              "      <td>0.0</td>\n",
              "      <td>1.0</td>\n",
              "      <td>1.0</td>\n",
              "      <td>1.0</td>\n",
              "      <td>0.0</td>\n",
              "      <td>0.0</td>\n",
              "      <td>0.0</td>\n",
              "      <td>0.0</td>\n",
              "      <td>0.0</td>\n",
              "      <td>1.0</td>\n",
              "      <td>1.0</td>\n",
              "      <td>1.0</td>\n",
              "      <td>0.0</td>\n",
              "      <td>1.0</td>\n",
              "    </tr>\n",
              "    <tr>\n",
              "      <th>19</th>\n",
              "      <td>democrat</td>\n",
              "      <td>1.0</td>\n",
              "      <td>1.0</td>\n",
              "      <td>1.0</td>\n",
              "      <td>0.0</td>\n",
              "      <td>0.0</td>\n",
              "      <td>0.0</td>\n",
              "      <td>1.0</td>\n",
              "      <td>1.0</td>\n",
              "      <td>1.0</td>\n",
              "      <td>0.0</td>\n",
              "      <td>1.0</td>\n",
              "      <td>0.0</td>\n",
              "      <td>0.0</td>\n",
              "      <td>0.0</td>\n",
              "      <td>1.0</td>\n",
              "      <td>1.0</td>\n",
              "    </tr>\n",
              "    <tr>\n",
              "      <th>23</th>\n",
              "      <td>democrat</td>\n",
              "      <td>1.0</td>\n",
              "      <td>1.0</td>\n",
              "      <td>1.0</td>\n",
              "      <td>0.0</td>\n",
              "      <td>0.0</td>\n",
              "      <td>0.0</td>\n",
              "      <td>1.0</td>\n",
              "      <td>1.0</td>\n",
              "      <td>1.0</td>\n",
              "      <td>0.0</td>\n",
              "      <td>0.0</td>\n",
              "      <td>0.0</td>\n",
              "      <td>0.0</td>\n",
              "      <td>0.0</td>\n",
              "      <td>1.0</td>\n",
              "      <td>1.0</td>\n",
              "    </tr>\n",
              "    <tr>\n",
              "      <th>25</th>\n",
              "      <td>democrat</td>\n",
              "      <td>1.0</td>\n",
              "      <td>0.0</td>\n",
              "      <td>1.0</td>\n",
              "      <td>0.0</td>\n",
              "      <td>0.0</td>\n",
              "      <td>0.0</td>\n",
              "      <td>1.0</td>\n",
              "      <td>1.0</td>\n",
              "      <td>1.0</td>\n",
              "      <td>1.0</td>\n",
              "      <td>0.0</td>\n",
              "      <td>0.0</td>\n",
              "      <td>0.0</td>\n",
              "      <td>0.0</td>\n",
              "      <td>1.0</td>\n",
              "      <td>1.0</td>\n",
              "    </tr>\n",
              "  </tbody>\n",
              "</table>\n",
              "</div>"
            ],
            "text/plain": [
              "         party  handicapped-infants  ...  duty-free  south-africa\n",
              "5     democrat                  0.0  ...        1.0           1.0\n",
              "8   republican                  0.0  ...        0.0           1.0\n",
              "19    democrat                  1.0  ...        1.0           1.0\n",
              "23    democrat                  1.0  ...        1.0           1.0\n",
              "25    democrat                  1.0  ...        1.0           1.0\n",
              "\n",
              "[5 rows x 17 columns]"
            ]
          },
          "metadata": {
            "tags": []
          },
          "execution_count": 27
        }
      ]
    },
    {
      "cell_type": "code",
      "metadata": {
        "id": "m_pgfWbDphLw",
        "colab_type": "code",
        "colab": {
          "base_uri": "https://localhost:8080/",
          "height": 219
        },
        "outputId": "66b8cb91-4f9c-494f-c752-c48148a4479e"
      },
      "source": [
        "dem = df[df['party']=='democrat']\n",
        "rep = df[df['party']=='republican']\n",
        "dem.head()"
      ],
      "execution_count": 29,
      "outputs": [
        {
          "output_type": "execute_result",
          "data": {
            "text/html": [
              "<div>\n",
              "<style scoped>\n",
              "    .dataframe tbody tr th:only-of-type {\n",
              "        vertical-align: middle;\n",
              "    }\n",
              "\n",
              "    .dataframe tbody tr th {\n",
              "        vertical-align: top;\n",
              "    }\n",
              "\n",
              "    .dataframe thead th {\n",
              "        text-align: right;\n",
              "    }\n",
              "</style>\n",
              "<table border=\"1\" class=\"dataframe\">\n",
              "  <thead>\n",
              "    <tr style=\"text-align: right;\">\n",
              "      <th></th>\n",
              "      <th>party</th>\n",
              "      <th>handicapped-infants</th>\n",
              "      <th>water-project</th>\n",
              "      <th>budget</th>\n",
              "      <th>physician-fee-freeze</th>\n",
              "      <th>el-salvador-aid</th>\n",
              "      <th>religious-groups</th>\n",
              "      <th>anti-satellite-ban</th>\n",
              "      <th>aid-to-contras</th>\n",
              "      <th>mx-missile</th>\n",
              "      <th>immigration</th>\n",
              "      <th>synfuels</th>\n",
              "      <th>education</th>\n",
              "      <th>right-to-sue</th>\n",
              "      <th>crime</th>\n",
              "      <th>duty-free</th>\n",
              "      <th>south-africa</th>\n",
              "    </tr>\n",
              "  </thead>\n",
              "  <tbody>\n",
              "    <tr>\n",
              "      <th>5</th>\n",
              "      <td>democrat</td>\n",
              "      <td>0.0</td>\n",
              "      <td>1.0</td>\n",
              "      <td>1.0</td>\n",
              "      <td>0.0</td>\n",
              "      <td>1.0</td>\n",
              "      <td>1.0</td>\n",
              "      <td>0.0</td>\n",
              "      <td>0.0</td>\n",
              "      <td>0.0</td>\n",
              "      <td>0.0</td>\n",
              "      <td>0.0</td>\n",
              "      <td>0.0</td>\n",
              "      <td>1.0</td>\n",
              "      <td>1.0</td>\n",
              "      <td>1.0</td>\n",
              "      <td>1.0</td>\n",
              "    </tr>\n",
              "    <tr>\n",
              "      <th>19</th>\n",
              "      <td>democrat</td>\n",
              "      <td>1.0</td>\n",
              "      <td>1.0</td>\n",
              "      <td>1.0</td>\n",
              "      <td>0.0</td>\n",
              "      <td>0.0</td>\n",
              "      <td>0.0</td>\n",
              "      <td>1.0</td>\n",
              "      <td>1.0</td>\n",
              "      <td>1.0</td>\n",
              "      <td>0.0</td>\n",
              "      <td>1.0</td>\n",
              "      <td>0.0</td>\n",
              "      <td>0.0</td>\n",
              "      <td>0.0</td>\n",
              "      <td>1.0</td>\n",
              "      <td>1.0</td>\n",
              "    </tr>\n",
              "    <tr>\n",
              "      <th>23</th>\n",
              "      <td>democrat</td>\n",
              "      <td>1.0</td>\n",
              "      <td>1.0</td>\n",
              "      <td>1.0</td>\n",
              "      <td>0.0</td>\n",
              "      <td>0.0</td>\n",
              "      <td>0.0</td>\n",
              "      <td>1.0</td>\n",
              "      <td>1.0</td>\n",
              "      <td>1.0</td>\n",
              "      <td>0.0</td>\n",
              "      <td>0.0</td>\n",
              "      <td>0.0</td>\n",
              "      <td>0.0</td>\n",
              "      <td>0.0</td>\n",
              "      <td>1.0</td>\n",
              "      <td>1.0</td>\n",
              "    </tr>\n",
              "    <tr>\n",
              "      <th>25</th>\n",
              "      <td>democrat</td>\n",
              "      <td>1.0</td>\n",
              "      <td>0.0</td>\n",
              "      <td>1.0</td>\n",
              "      <td>0.0</td>\n",
              "      <td>0.0</td>\n",
              "      <td>0.0</td>\n",
              "      <td>1.0</td>\n",
              "      <td>1.0</td>\n",
              "      <td>1.0</td>\n",
              "      <td>1.0</td>\n",
              "      <td>0.0</td>\n",
              "      <td>0.0</td>\n",
              "      <td>0.0</td>\n",
              "      <td>0.0</td>\n",
              "      <td>1.0</td>\n",
              "      <td>1.0</td>\n",
              "    </tr>\n",
              "    <tr>\n",
              "      <th>26</th>\n",
              "      <td>democrat</td>\n",
              "      <td>1.0</td>\n",
              "      <td>0.0</td>\n",
              "      <td>1.0</td>\n",
              "      <td>0.0</td>\n",
              "      <td>0.0</td>\n",
              "      <td>0.0</td>\n",
              "      <td>1.0</td>\n",
              "      <td>1.0</td>\n",
              "      <td>1.0</td>\n",
              "      <td>0.0</td>\n",
              "      <td>1.0</td>\n",
              "      <td>0.0</td>\n",
              "      <td>0.0</td>\n",
              "      <td>0.0</td>\n",
              "      <td>1.0</td>\n",
              "      <td>1.0</td>\n",
              "    </tr>\n",
              "  </tbody>\n",
              "</table>\n",
              "</div>"
            ],
            "text/plain": [
              "       party  handicapped-infants  ...  duty-free  south-africa\n",
              "5   democrat                  0.0  ...        1.0           1.0\n",
              "19  democrat                  1.0  ...        1.0           1.0\n",
              "23  democrat                  1.0  ...        1.0           1.0\n",
              "25  democrat                  1.0  ...        1.0           1.0\n",
              "26  democrat                  1.0  ...        1.0           1.0\n",
              "\n",
              "[5 rows x 17 columns]"
            ]
          },
          "metadata": {
            "tags": []
          },
          "execution_count": 29
        }
      ]
    },
    {
      "cell_type": "code",
      "metadata": {
        "id": "7zbFLEUdpoo-",
        "colab_type": "code",
        "colab": {
          "base_uri": "https://localhost:8080/",
          "height": 121
        },
        "outputId": "80cc587b-dff6-4e73-9ab1-0b24ddf71641"
      },
      "source": [
        "data = dem['synfuels']\n",
        "data\n",
        "data.head()"
      ],
      "execution_count": 30,
      "outputs": [
        {
          "output_type": "execute_result",
          "data": {
            "text/plain": [
              "5     0.0\n",
              "19    1.0\n",
              "23    0.0\n",
              "25    0.0\n",
              "26    1.0\n",
              "Name: synfuels, dtype: float64"
            ]
          },
          "metadata": {
            "tags": []
          },
          "execution_count": 30
        }
      ]
    },
    {
      "cell_type": "code",
      "metadata": {
        "id": "ikQx4ODclSM_",
        "colab_type": "code",
        "colab": {}
      },
      "source": [
        "scipy.stats.bayes_mvs"
      ],
      "execution_count": 0,
      "outputs": []
    },
    {
      "cell_type": "code",
      "metadata": {
        "id": "XFYJv7N2logY",
        "colab_type": "code",
        "colab": {
          "base_uri": "https://localhost:8080/",
          "height": 121
        },
        "outputId": "c0f7004b-d651-497d-c9ce-d9b5c07f51e0"
      },
      "source": [
        "data = dem['synfuels']\n",
        "data\n",
        "data.head()"
      ],
      "execution_count": 32,
      "outputs": [
        {
          "output_type": "execute_result",
          "data": {
            "text/plain": [
              "5     0.0\n",
              "19    1.0\n",
              "23    0.0\n",
              "25    0.0\n",
              "26    1.0\n",
              "Name: synfuels, dtype: float64"
            ]
          },
          "metadata": {
            "tags": []
          },
          "execution_count": 32
        }
      ]
    },
    {
      "cell_type": "code",
      "metadata": {
        "id": "gj7wK92XqXRm",
        "colab_type": "code",
        "colab": {}
      },
      "source": [
        "def confidence_interval(data, confidence = .95):\n",
        "  sample = np.array(data)\n",
        "  s=np.std(sample, ddof =1)\n",
        "  n = len(sample)\n",
        "  standard_error = s/np.sqrt(n)\n",
        "  t = stats.t.ppf((1+confidence)/2, n-1)\n",
        "  margin_of_error = t*standard_error\n",
        "  x_bar = np.mean(sample)\n",
        "  lower_bound = x_bar - margin_of_error\n",
        "  upper_bound = x_bar + margin_of_error\n",
        "  return(lower_bound, x_bar, upper_bound)"
      ],
      "execution_count": 0,
      "outputs": []
    },
    {
      "cell_type": "code",
      "metadata": {
        "id": "FW6XkNaYqZiL",
        "colab_type": "code",
        "colab": {
          "base_uri": "https://localhost:8080/",
          "height": 69
        },
        "outputId": "a5c41859-346e-464e-a958-bc77b1a470f4"
      },
      "source": [
        "confidence_interval(data, confidence =.95)\n",
        "lower, mean, upper = confidence_interval(data)\n",
        "\n",
        "print(lower)\n",
        "print(mean)\n",
        "print(upper)"
      ],
      "execution_count": 35,
      "outputs": [
        {
          "output_type": "stream",
          "text": [
            "0.41883613678222775\n",
            "0.5080645161290323\n",
            "0.5972928954758367\n"
          ],
          "name": "stdout"
        }
      ]
    },
    {
      "cell_type": "code",
      "metadata": {
        "id": "PuZHI1FOqkL-",
        "colab_type": "code",
        "colab": {
          "base_uri": "https://localhost:8080/",
          "height": 265
        },
        "outputId": "5905c5ac-5a4f-452d-a086-cb21011c3dd1"
      },
      "source": [
        "data.plot.density();\n",
        "plt.axvline(x=lower, color='red')\n",
        "plt.axvline(x=mean, color='black')\n",
        "plt.axvline(x=upper, color='red')\n",
        "plt.show()"
      ],
      "execution_count": 36,
      "outputs": [
        {
          "output_type": "display_data",
          "data": {
            "image/png": "[encoded data removed]",
            "text/plain": [
              "<Figure size 432x288 with 1 Axes>"
            ]
          },
          "metadata": {
            "tags": [],
            "needs_background": "light"
          }
        }
      ]
    },
    {
      "cell_type": "code",
      "metadata": {
        "id": "UrwYPXZhq7Wf",
        "colab_type": "code",
        "colab": {
          "base_uri": "https://localhost:8080/",
          "height": 34
        },
        "outputId": "d3fccfeb-c72c-43d3-a190-f7a98c7c6b0c"
      },
      "source": [
        "mean, var, std = stats.bayes_mvs(data)\n",
        "mean"
      ],
      "execution_count": 38,
      "outputs": [
        {
          "output_type": "execute_result",
          "data": {
            "text/plain": [
              "Mean(statistic=0.5080645161290323, minmax=(0.4333557404260405, 0.582773291832024))"
            ]
          },
          "metadata": {
            "tags": []
          },
          "execution_count": 38
        }
      ]
    },
    {
      "cell_type": "code",
      "metadata": {
        "id": "seIEeJs6rVY8",
        "colab_type": "code",
        "colab": {}
      },
      "source": [
        " n_samples = 100000\n",
        "data = stats.norm.rvs(size=n_samples)\n",
        "res_mean, res_var, res_std = stats.bayes_mvs(data, alpha=0.95)"
      ],
      "execution_count": 0,
      "outputs": []
    },
    {
      "cell_type": "code",
      "metadata": {
        "id": "cenilqPoreOp",
        "colab_type": "code",
        "colab": {
          "base_uri": "https://localhost:8080/",
          "height": 269
        },
        "outputId": "be457132-a8e6-40fa-8a69-5e184ce4186a"
      },
      "source": [
        "fig = plt.figure()\n",
        "ax = fig.add_subplot(111)\n",
        "ax.hist(data, bins=100, density=True, label='Histogram of data')\n",
        "ax.vlines(res_mean.statistic, 0, 0.5, colors='r', label='Estimated mean')\n",
        "ax.axvspan(res_mean.minmax[0],res_mean.minmax[1], facecolor='r',alpha=0.2, \n",
        "           label=r'Estimated mean (95% limits)')\n",
        "ax.vlines(res_std.statistic, 0, 0.5, colors='g', label='Estimated scale')\n",
        "ax.axvspan(res_std.minmax[0],res_std.minmax[1], facecolor='g', alpha=0.2,\n",
        "           label=r'Estimated scale (95% limits)')\n",
        "\n",
        "ax.legend(fontsize=10)\n",
        "ax.set_xlim([-4, 4])\n",
        "ax.set_ylim([0, 0.5])\n",
        "plt.show()"
      ],
      "execution_count": 55,
      "outputs": [
        {
          "output_type": "display_data",
          "data": {
            "image/png": "[encoded data removed]",
            "text/plain": [
              "<Figure size 432x288 with 1 Axes>"
            ]
          },
          "metadata": {
            "tags": [],
            "needs_background": "light"
          }
        }
      ]
    },
    {
      "cell_type": "markdown",
      "metadata": {
        "id": "e95n9RciA4En",
        "colab_type": "text"
      },
      "source": [
        "In Bayesian statistics, the data is fixed but in frequentist the data is infinite.  For the parameters, the opposite is true.  Bayesian operates on a prior understanding of the data that is being represented. Frequentist approaches testing with no prior bias."
      ]
    },
    {
      "cell_type": "markdown",
      "metadata": {
        "id": "GP7Jv1XvwtkX",
        "colab_type": "text"
      },
      "source": [
        "## Stretch Goals:\n",
        "\n",
        "- Go back and study the content from Modules 1 & 2 to make sure that you're really comfortable with them.\n",
        "- Apply a Bayesian technique to a problem you previously worked (in an assignment or project work) on from a frequentist (standard) perspective\n",
        "- Check out [PyMC3](https://docs.pymc.io/) (note this goes beyond hypothesis tests into modeling) - read the guides and work through some examples\n",
        "- Take PyMC3 further - see if you can build something with it!"
      ]
    },
    {
      "cell_type": "markdown",
      "metadata": {
        "id": "uWgWjp3PQ3Sq",
        "colab_type": "text"
      },
      "source": [
        "## Resources"
      ]
    },
    {
      "cell_type": "code",
      "metadata": {
        "id": "iDi0eFr1x-v_",
        "colab_type": "code",
        "colab": {}
      },
      "source": [
        ""
      ],
      "execution_count": 0,
      "outputs": []
    },
    {
      "cell_type": "markdown",
      "metadata": {
        "id": "QRgHqmYIQ9qn",
        "colab_type": "text"
      },
      "source": [
        "- [Worked example of Bayes rule calculation](https://en.wikipedia.org/wiki/Bayes'_theorem#Examples) (helpful as it fully breaks out the denominator)\n",
        "- [Source code for mvsdist in scipy](https://github.com/scipy/scipy/blob/90534919e139d2a81c24bf08341734ff41a3db12/scipy/stats/morestats.py#L139)"
      ]
    }
  ]
}