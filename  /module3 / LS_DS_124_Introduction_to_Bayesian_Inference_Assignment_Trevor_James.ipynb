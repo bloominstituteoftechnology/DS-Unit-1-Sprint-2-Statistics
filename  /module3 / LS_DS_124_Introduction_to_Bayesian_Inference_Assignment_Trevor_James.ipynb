{
  "nbformat": 4,
  "nbformat_minor": 0,
  "metadata": {
    "colab": {
      "name": "LS_DS_124_Introduction_to_Bayesian_Inference_Assignment_Trevor_James.ipynb",
      "provenance": [],
      "collapsed_sections": [],
      "include_colab_link": true
    },
    "kernelspec": {
      "name": "python3",
      "display_name": "Python 3"
    }
  },
  "cells": [
    {
      "cell_type": "markdown",
      "metadata": {
        "id": "view-in-github",
        "colab_type": "text"
      },
      "source": [
        "<a href=\"https://colab.research.google.com/github/trevorwjames/DS-Unit-1-Sprint-2-Statistics/blob/master/%20/module3%20/%20LS_DS_124_Introduction_to_Bayesian_Inference_Assignment_Trevor_James.ipynb\" target=\"_parent\"><img src=\"https://colab.research.google.com/assets/colab-badge.svg\" alt=\"Open In Colab\"/></a>"
      ]
    },
    {
      "cell_type": "markdown",
      "metadata": {
        "id": "H7OLbevlbd_Z",
        "colab_type": "text"
      },
      "source": [
        "# Lambda School Data Science Module 124\n",
        "\n",
        "## Introduction to Bayesian Inference\n",
        "\n",
        "\n"
      ]
    },
    {
      "cell_type": "markdown",
      "metadata": {
        "id": "P-DzzRk5bf0z",
        "colab_type": "text"
      },
      "source": [
        "## Assignment - Code it up!\n",
        "\n",
        "We used pure math to apply Bayes Theorem to drug tests. Now write Python code to reproduce the results! This is purposefully open ended - you'll have to think about how you should represent probabilities and events. You can and should look things up.\n",
        "\n",
        "Specific goals/targets:\n",
        "\n",
        "### 1) Write a function \n",
        "\n",
        "`def prob_drunk_given_positive(prob_drunk_prior, false_positive_rate, true_positive_rate):` \n",
        "\n",
        "You should only truly need these three values in order to apply Bayes Theorem. In this example, imagine that individuals are taking a breathalyzer test with an 8% false positive rate, a 100% true positive rate, and that our prior belief about drunk driving in the population is 1/1000. \n",
        " - What is the probability that a person is drunk after one positive breathalyzer test?\n",
        " - What is the probability that a person is drunk after two positive breathalyzer tests?\n",
        " - How many positive breathalyzer tests are needed in order to have a probability that's greater than 95% that a person is drunk beyond the legal limit?\n"
      ]
    },
    {
      "cell_type": "code",
      "metadata": {
        "id": "xpVhZyUnbf7o",
        "colab_type": "code",
        "colab": {}
      },
      "source": [
        "# function for the probability that the person taking the breathalizer test is actually drunk\n",
        "\n",
        "def prob_drunk_given_positive(prob_drunk_prior, false_positive_rate, true_positive_rate):\n",
        "  prob_non_drunk = 1-prob_drunk_prior\n",
        "  \n",
        "  numerator = true_positive_rate * prob_drunk_prior\n",
        "  denominator = true_positive_rate * prob_drunk_prior + false_positive_rate * prob_non_drunk\n",
        "  return numerator / denominator "
      ],
      "execution_count": 0,
      "outputs": []
    },
    {
      "cell_type": "code",
      "metadata": {
        "id": "Or1M6qMw1E4U",
        "colab_type": "code",
        "colab": {
          "base_uri": "https://localhost:8080/",
          "height": 34
        },
        "outputId": "a99a1949-a361-4228-f03a-402a51970c54"
      },
      "source": [
        "prob_drunk_given_positive(.001, .08, 1)"
      ],
      "execution_count": 9,
      "outputs": [
        {
          "output_type": "execute_result",
          "data": {
            "text/plain": [
              "0.012357884330202669"
            ]
          },
          "metadata": {
            "tags": []
          },
          "execution_count": 9
        }
      ]
    },
    {
      "cell_type": "markdown",
      "metadata": {
        "id": "HqAASnR72_c0",
        "colab_type": "text"
      },
      "source": [
        "The probability that a person is drunk after their first breathalizer test is \n",
        "1.2%"
      ]
    },
    {
      "cell_type": "code",
      "metadata": {
        "id": "v4WefWip7JbB",
        "colab_type": "code",
        "colab": {
          "base_uri": "https://localhost:8080/",
          "height": 34
        },
        "outputId": "ca4444b7-7532-4b9d-a237-fc75a267f0df"
      },
      "source": [
        "prob_drunk_given_positive(.0123, .08, 1)"
      ],
      "execution_count": 13,
      "outputs": [
        {
          "output_type": "execute_result",
          "data": {
            "text/plain": [
              "0.13469709579920275"
            ]
          },
          "metadata": {
            "tags": []
          },
          "execution_count": 13
        }
      ]
    },
    {
      "cell_type": "markdown",
      "metadata": {
        "id": "lbO-4FlY7QL-",
        "colab_type": "text"
      },
      "source": [
        "The probability that the person is drunk after their first breathalizer test is 13.5%, we need to keep testing\n",
        "\n"
      ]
    },
    {
      "cell_type": "code",
      "metadata": {
        "id": "ZCadrKNL7ZGM",
        "colab_type": "code",
        "colab": {
          "base_uri": "https://localhost:8080/",
          "height": 34
        },
        "outputId": "40dd1331-0a9d-4298-ab08-a17f6df91299"
      },
      "source": [
        "prob_drunk_given_positive(.134, .08, 1)"
      ],
      "execution_count": 14,
      "outputs": [
        {
          "output_type": "execute_result",
          "data": {
            "text/plain": [
              "0.6591892955529319"
            ]
          },
          "metadata": {
            "tags": []
          },
          "execution_count": 14
        }
      ]
    },
    {
      "cell_type": "code",
      "metadata": {
        "id": "VBVxwZPR7di-",
        "colab_type": "code",
        "colab": {
          "base_uri": "https://localhost:8080/",
          "height": 34
        },
        "outputId": "e1b06f60-86ec-480a-cfeb-9043d9c73f38"
      },
      "source": [
        "prob_drunk_given_positive(.659, .08, 1)"
      ],
      "execution_count": 16,
      "outputs": [
        {
          "output_type": "execute_result",
          "data": {
            "text/plain": [
              "0.960249460861456"
            ]
          },
          "metadata": {
            "tags": []
          },
          "execution_count": 16
        }
      ]
    },
    {
      "cell_type": "markdown",
      "metadata": {
        "id": "0QOrqvXm7pLR",
        "colab_type": "text"
      },
      "source": [
        "after our fourth test we can now be 96% certain that the breathalizer test will give us a true result. \n"
      ]
    },
    {
      "cell_type": "code",
      "metadata": {
        "id": "VIOWvik72eCH",
        "colab_type": "code",
        "colab": {
          "base_uri": "https://localhost:8080/",
          "height": 130
        },
        "outputId": "2eb001f2-5493-438c-c1a0-de8ce53af2fe"
      },
      "source": [
        "for ci in prob_drunk_given_positive(ci, .08, 1):\n",
        "  prob_drunk_given_positive(.001, .08, 1) = ci"
      ],
      "execution_count": 12,
      "outputs": [
        {
          "output_type": "error",
          "ename": "SyntaxError",
          "evalue": "ignored",
          "traceback": [
            "\u001b[0;36m  File \u001b[0;32m\"<ipython-input-12-6efca5e50b83>\"\u001b[0;36m, line \u001b[0;32m2\u001b[0m\n\u001b[0;31m    prob_drunk_given_positive(.001, .08, 1) = ci\u001b[0m\n\u001b[0m    ^\u001b[0m\n\u001b[0;31mSyntaxError\u001b[0m\u001b[0;31m:\u001b[0m can't assign to function call\n"
          ]
        }
      ]
    },
    {
      "cell_type": "code",
      "metadata": {
        "id": "ShOXcCFu8lX9",
        "colab_type": "code",
        "colab": {
          "base_uri": "https://localhost:8080/",
          "height": 232
        },
        "outputId": "d336a439-a144-4057-d763-4391753f7810"
      },
      "source": [
        "for ci in "
      ],
      "execution_count": 21,
      "outputs": [
        {
          "output_type": "error",
          "ename": "TypeError",
          "evalue": "ignored",
          "traceback": [
            "\u001b[0;31m---------------------------------------------------------------------------\u001b[0m",
            "\u001b[0;31mTypeError\u001b[0m                                 Traceback (most recent call last)",
            "\u001b[0;32m<ipython-input-21-3d910ecdade5>\u001b[0m in \u001b[0;36m<module>\u001b[0;34m()\u001b[0m\n\u001b[0;32m----> 1\u001b[0;31m \u001b[0;32mfor\u001b[0m \u001b[0mci\u001b[0m \u001b[0;32min\u001b[0m \u001b[0mprob_drunk_given_positive\u001b[0m\u001b[0;34m(\u001b[0m\u001b[0;34m)\u001b[0m\u001b[0;34m:\u001b[0m\u001b[0;34m\u001b[0m\u001b[0;34m\u001b[0m\u001b[0m\n\u001b[0m\u001b[1;32m      2\u001b[0m   \u001b[0mprob_drunk_given_positive\u001b[0m\u001b[0;34m(\u001b[0m\u001b[0mci\u001b[0m\u001b[0;34m,\u001b[0m \u001b[0;36m.08\u001b[0m\u001b[0;34m,\u001b[0m \u001b[0;36m1\u001b[0m\u001b[0;34m)\u001b[0m\u001b[0;34m\u001b[0m\u001b[0;34m\u001b[0m\u001b[0m\n\u001b[1;32m      3\u001b[0m   \u001b[0mci\u001b[0m \u001b[0;34m=\u001b[0m \u001b[0mprob_drunk_given_positive\u001b[0m\u001b[0;34m(\u001b[0m\u001b[0;36m.001\u001b[0m\u001b[0;34m,\u001b[0m \u001b[0;36m.08\u001b[0m\u001b[0;34m,\u001b[0m \u001b[0;36m1\u001b[0m\u001b[0;34m)\u001b[0m\u001b[0;34m\u001b[0m\u001b[0;34m\u001b[0m\u001b[0m\n\u001b[1;32m      4\u001b[0m   \u001b[0;32mif\u001b[0m \u001b[0mci\u001b[0m \u001b[0;34m>=\u001b[0m \u001b[0;36m.95\u001b[0m\u001b[0;34m:\u001b[0m\u001b[0;34m\u001b[0m\u001b[0;34m\u001b[0m\u001b[0m\n\u001b[1;32m      5\u001b[0m     \u001b[0;32mbreak\u001b[0m\u001b[0;34m\u001b[0m\u001b[0;34m\u001b[0m\u001b[0m\n",
            "\u001b[0;31mTypeError\u001b[0m: prob_drunk_given_positive() missing 3 required positional arguments: 'prob_drunk_prior', 'false_positive_rate', and 'true_positive_rate'"
          ]
        }
      ]
    },
    {
      "cell_type": "markdown",
      "metadata": {
        "id": "nhOAsLjvCSLF",
        "colab_type": "text"
      },
      "source": [
        "### 2) In your own words, summarize the difference between Bayesian and Frequentist statistics\n",
        "\n",
        "If you're unsure where to start, check out [this blog post of Bayes theorem with Python](https://dataconomy.com/2015/02/introduction-to-bayes-theorem-with-python/)."
      ]
    },
    {
      "cell_type": "markdown",
      "metadata": {
        "id": "AADlIVfgDztY",
        "colab_type": "text"
      },
      "source": [
        "In basic terms Bayesian Statistics uses current bias in order to calculate the proabability of something being true. We need a stat of the way the world currently works in order to figure probability of an outcome. Here the key is to decrease the degrees of freedom as well as have an accurate starting statistic. \n",
        "\n",
        "Frequentist Statistics uses Null Hypothesis in order to understand how the world works. We are looking for sample sizes that can compare back to the population. Here an increased sample size is the key to getting better stats. "
      ]
    },
    {
      "cell_type": "markdown",
      "metadata": {
        "id": "AeAGBxWjCTv3",
        "colab_type": "text"
      },
      "source": [
        "### 3) Use the following Template to help come up with ideas for your Build Sprint Project: \n",
        "\n"
      ]
    },
    {
      "cell_type": "markdown",
      "metadata": {
        "id": "YgIaBr__C5Q2",
        "colab_type": "text"
      },
      "source": [
        "---\n",
        "\n",
        "## Idea 1:"
      ]
    },
    {
      "cell_type": "markdown",
      "metadata": {
        "id": "MwR6hTB1CiLR",
        "colab_type": "text"
      },
      "source": [
        "### You\n",
        "What do you care about?\n",
        "\n",
        "What do you know about?\n",
        "\n",
        "What decisions do you face?\n",
        "\n",
        "\n"
      ]
    },
    {
      "cell_type": "markdown",
      "metadata": {
        "id": "d5owPwlSClm2",
        "colab_type": "text"
      },
      "source": [
        "I care about the environment, I took some classes in high school as well as originally looking to major in environmental science. We face a major decision as a world to look into way to better treat the environment or learn to implement tech to better coincide with the planet."
      ]
    },
    {
      "cell_type": "markdown",
      "metadata": {
        "id": "lorLHSkzClzC",
        "colab_type": "text"
      },
      "source": [
        "### Seven templates\n",
        "Training Kit (https://learn.lambdaschool.com/ds/module/recedjanlbpqxic2r) explains the seven templates from Priceonomics.\n",
        "\n",
        "Can you apply the templates to your topics?\n",
        "\n",
        "**Geographic Variation:**\n",
        "\n",
        "**Trend related to the news:**\n",
        "\n",
        "**Who does that?:**\n",
        "\n",
        "**Answering a question people care about:**\n",
        "\n",
        "**Valuable to businesses:**\n",
        "\n",
        "**What's the most popular?:**\n",
        "\n",
        "**Cost/Money rankings:**"
      ]
    },
    {
      "cell_type": "markdown",
      "metadata": {
        "id": "cjxeN9D7Cygt",
        "colab_type": "text"
      },
      "source": [
        "Geographic variation: Different areas have difference concerns when it comes to the environment they interact with. Arizona worries about hotter summers, polution regarding trying to stay cool, and clean water. Where I grew up in the northeast there are concerns with winters vs sumemrs affecting the natural habitat. I have a love for winter sports that would be affected with lighter winters\n",
        "\n",
        "Trend Related to news: Huge politcal topic currently. How are candidates leveraging it in their policital discussion during campaigning. How could it affect the weather and how it is reported. Are weather people biased at different times of year. \n",
        "\n",
        "Who does that?: Where in the country people are interested in climate change, what countries are more green thinking than others. are there states where people believe climate change is a \"belief\" rather than science. \n",
        "\n",
        "Answering a question people will care about: How will this affect me? everyday people care about the environment although most are selfish with what they CAN do or how it will really affect them\n",
        "\n",
        "Valuable to a Business: Environmental concerns can be hugely impactful to a busienss when it comes to how the business is seen around the world. Also creating less waste can save money and time. \n",
        "\n",
        "Whats the most popular?: What is the most popular way to \"go green\". What is the most popular way they believe they are contributing to the environment. \n",
        "\n",
        "Cost/Money Rankings: Breaking down the cost or the savings involved with working against climate change. What is it cost affective to buy a electric car? What does it look like to have solar on your house financially?\n",
        "\n"
      ]
    },
    {
      "cell_type": "markdown",
      "metadata": {
        "id": "3OXCCIT6C_p0",
        "colab_type": "text"
      },
      "source": [
        "### Misconceptions\n",
        "\n",
        "What misconceptions do people have about your topic?\n",
        "\n",
        "The fact that our current president does believe in climate change. That one persons efforts will not make a difference. That we will either create tech to save us, or that we wont be able to do anything about it. "
      ]
    },
    {
      "cell_type": "markdown",
      "metadata": {
        "id": "3tNrndE9DD3-",
        "colab_type": "text"
      },
      "source": [
        "### Examples\n",
        "\n",
        "What data storytelling example inspires you?\n",
        "\n",
        "Could you do a new hypothesis, for the same question?\n",
        "\n",
        "Could you do a new question, for the same topic?\n",
        "\n",
        "Could you do a new topic, with the same \"style\"?"
      ]
    },
    {
      "cell_type": "markdown",
      "metadata": {
        "id": "-5NsWQy5DKoR",
        "colab_type": "text"
      },
      "source": [
        "Liv Johnsons story here inspires me. If I could find a way to see the financial cost of solar, as well as the current cost of electricity for americans it could be cool to compare the availability to solar energy to how much it were to cost the average american\n"
      ]
    },
    {
      "cell_type": "markdown",
      "metadata": {
        "id": "9rPtMFB6DN7B",
        "colab_type": "text"
      },
      "source": [
        "###Data\n",
        "\n",
        "Where could you search for data about your topic?"
      ]
    },
    {
      "cell_type": "markdown",
      "metadata": {
        "id": "s9hqjOlhDTDa",
        "colab_type": "text"
      },
      "source": [
        "Solar Panel Data on Priceonomics:https://priceonomics.com/the-most-solar-places-in-america/\n",
        "\n",
        "National Survey on Energy and Environment: https://datasetsearch.research.google.com/search?query=environment&docid=O%2FegCJJNWFhQIJm0AAAAAA%3D%3D\n",
        "\n",
        "Survey of Public attitudes and behaviours toward the environment: https://datasetsearch.research.google.com/search?query=environment&docid=MPSnArJVOOTGAqeuAAAAAA%3D%3D\n",
        "\n",
        "Climate Change: Earth surface temperature Data: https://datasetsearch.research.google.com/search?query=Climate%20Change&docid=r32LBb1oqrQepe0eAAAAAA%3D%3D"
      ]
    },
    {
      "cell_type": "markdown",
      "metadata": {
        "colab_type": "text",
        "id": "ld5MOaFaDVSK"
      },
      "source": [
        "---\n",
        "\n",
        "## Idea 2:"
      ]
    },
    {
      "cell_type": "markdown",
      "metadata": {
        "colab_type": "text",
        "id": "znhTWIlUDVSM"
      },
      "source": [
        "### You\n",
        "What do you care about?\n",
        "\n",
        "What do you know about?\n",
        "\n",
        "What decisions do you face?\n",
        "\n"
      ]
    },
    {
      "cell_type": "markdown",
      "metadata": {
        "colab_type": "text",
        "id": "3Gln5mYeDVSM"
      },
      "source": [
        "I care about health and fitness, I majored in exercise and movement science becasue I have a belief that people should have the ability to control their health through simple principles. In our world we face a decision to take personal responsibility for the health of ourselves rather than relying on a healthcare system that is put in place to be extremely reactive rather than teaching its citizens how to stay healthy. "
      ]
    },
    {
      "cell_type": "markdown",
      "metadata": {
        "colab_type": "text",
        "id": "W-njBredDVSN"
      },
      "source": [
        "### Seven templates\n",
        "Training Kit (https://learn.lambdaschool.com/ds/module/recedjanlbpqxic2r) explains the seven templates from Priceonomics.\n",
        "\n",
        "Can you apply the templates to your topics?\n",
        "\n",
        "**Geographic Variation:**\n",
        "\n",
        "**Trend related to the news:**\n",
        "\n",
        "**Who does that?:**\n",
        "\n",
        "**Answering a question people care about:**\n",
        "\n",
        "**Valuable to businesses:**\n",
        "\n",
        "**What's the most popular?:**\n",
        "\n",
        "**Cost/Money rankings:**"
      ]
    },
    {
      "cell_type": "markdown",
      "metadata": {
        "colab_type": "text",
        "id": "pkOqHHL3DVSN"
      },
      "source": [
        "Geographic Variation: How do the ideas of health and fitness differ in regions around the world? What are certain areas doing to combat this global problem vs other areas?\n",
        "\n",
        "Trend Related to news: Whom are the most suceptible population to contracting the Coronavirus and experiencing hardship or possible death? How do people with metabolic syndrome put pressure on our healthcare system? How does that affect the poliical climate?\n",
        "\n",
        "Who Does that?: How has the world of health anf fitness changed over the past 100 years? the past 10 years? How has the advent of social media challenged what people belive when it comes to fitness or health?\n",
        "\n",
        "Answering questions people care about: The basic idea of what is true and what is not? How are people suppose to access help in regard to Health and fitness. \n",
        "\n",
        "Valuable to Business: Healthcare businesses - how can they change their policies to better serve the people. How can businesses leverage a healthier workforce in order to save money on healthcare, more productive, or less sick days? So many things here\n",
        "\n",
        "What's Most popular: Right now the comparison of health and fitness to deaths from coronavirus, or even reportin symptoms of COVID.\n",
        "\n",
        "Cost/Money rankings: A huge that comes to mind when thinking about health and fitness and finances are the market for products and ability to forsee what is popular, where should you invest in health and fitness, etc. \n"
      ]
    },
    {
      "cell_type": "markdown",
      "metadata": {
        "colab_type": "text",
        "id": "njLQ3hLuDVSO"
      },
      "source": [
        "### Misconceptions\n",
        "\n",
        "What misconceptions do people have about your topic?"
      ]
    },
    {
      "cell_type": "markdown",
      "metadata": {
        "colab_type": "text",
        "id": "IzrUvaKeDVSO"
      },
      "source": [
        "- Eating healthy is expensive\n",
        "- Going to a gym is expensive\n",
        "- Cardio exercise keeps you the most healthy \n",
        "- It is not as important as people think"
      ]
    },
    {
      "cell_type": "markdown",
      "metadata": {
        "colab_type": "text",
        "id": "L0X6X5WaDVSP"
      },
      "source": [
        "### Examples\n",
        "\n",
        "What data storytelling example inspires you?\n",
        "\n",
        "Could you do a new hypothesis, for the same question?\n",
        "\n",
        "Could you do a new question, for the same topic?\n",
        "\n",
        "Could you do a new topic, with the same \"style\"?"
      ]
    },
    {
      "cell_type": "markdown",
      "metadata": {
        "colab_type": "text",
        "id": "fDdHExa0DVSP"
      },
      "source": [
        ""
      ]
    },
    {
      "cell_type": "markdown",
      "metadata": {
        "colab_type": "text",
        "id": "CxgSpiwYDVSQ"
      },
      "source": [
        "###Data\n",
        "\n",
        "Where could you search for data about your topic?\n",
        "\n",
        "Seeing some good results on this topic on kaggle, google seems tough to find actual data sets. \n",
        "\n",
        "Health examination survey : https://www.kaggle.com/cdc/national-health-and-nutrition-examination-survey?select=questionnaire.csv\n"
      ]
    },
    {
      "cell_type": "markdown",
      "metadata": {
        "id": "uWgWjp3PQ3Sq",
        "colab_type": "text"
      },
      "source": [
        "## Resources"
      ]
    },
    {
      "cell_type": "markdown",
      "metadata": {
        "id": "QRgHqmYIQ9qn",
        "colab_type": "text"
      },
      "source": [
        "- [Worked example of Bayes rule calculation](https://en.wikipedia.org/wiki/Bayes'_theorem#Examples) (helpful as it fully breaks out the denominator)\n",
        "- [Source code for mvsdist in scipy](https://github.com/scipy/scipy/blob/90534919e139d2a81c24bf08341734ff41a3db12/scipy/stats/morestats.py#L139)"
      ]
    },
    {
      "cell_type": "markdown",
      "metadata": {
        "id": "GP7Jv1XvwtkX",
        "colab_type": "text"
      },
      "source": [
        "## Stretch Goals:\n",
        "\n",
        "- Go back and study the content from Modules 1 & 2 & 3 to make sure that you're really comfortable with them.\n",
        "- Apply a Bayesian technique to a problem you previously worked (in an assignment or project work) on from a frequentist (standard) perspective\n",
        "- Check out [PyMC3](https://docs.pymc.io/) (note this goes beyond hypothesis tests into modeling) - read the guides and work through some examples\n",
        "- Take PyMC3 further - see if you can build something with it!"
      ]
    }
  ]
}