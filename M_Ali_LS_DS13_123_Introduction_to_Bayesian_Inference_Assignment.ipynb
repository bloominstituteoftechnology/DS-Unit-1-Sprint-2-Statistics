{
  "nbformat": 4,
  "nbformat_minor": 0,
  "metadata": {
    "colab": {
      "name": "M Ali LS_DS13_123_Introduction_to_Bayesian_Inference_Assignment.ipynb",
      "provenance": [],
      "include_colab_link": true
    },
    "kernelspec": {
      "name": "python3",
      "display_name": "Python 3"
    }
  },
  "cells": [
    {
      "cell_type": "markdown",
      "metadata": {
        "id": "view-in-github",
        "colab_type": "text"
      },
      "source": [
        "<a href=\"https://colab.research.google.com/github/maiali13/DS-Unit-1-Sprint-2-Statistics/blob/master/M_Ali_LS_DS13_123_Introduction_to_Bayesian_Inference_Assignment.ipynb\" target=\"_parent\"><img src=\"https://colab.research.google.com/assets/colab-badge.svg\" alt=\"Open In Colab\"/></a>"
      ]
    },
    {
      "cell_type": "markdown",
      "metadata": {
        "id": "H7OLbevlbd_Z",
        "colab_type": "text"
      },
      "source": [
        "# Lambda School Data Science Module 123\n",
        "\n",
        "## Introduction to Bayesian Inference\n",
        "\n",
        "\n"
      ]
    },
    {
      "cell_type": "markdown",
      "metadata": {
        "id": "P-DzzRk5bf0z",
        "colab_type": "text"
      },
      "source": [
        "## Assignment - Code it up!\n",
        "\n",
        "We used pure math to apply Bayes Theorem to drug tests. Now write Python code to reproduce the results! This is purposefully open ended - you'll have to think about how you should represent probabilities and events. You can and should look things up.\n",
        "\n",
        "Specific goals/targets:\n",
        "\n",
        "### 1) Write a function \n",
        "\n",
        "`def prob_drunk_given_positive(prob_drunk_prior, false_positive_rate, need 1 more value):` \n",
        "\n",
        "You should only truly need these two values in order to apply Bayes Theorem. In this example, imagine that individuals are taking a breathalyzer test with an 8% false positive rate, a 100% true positive rate, and that our prior belief about drunk driving in the population is 1/1000. \n",
        " - What is the probability that a person is drunk after one positive breathalyzer test?\n",
        " - What is the probability that a person is drunk after two positive breathalyzer tests?\n",
        " - How many positive breathalyzer tests are needed in order to have a probability that's greater than 95% that a person is drunk beyond the legal limit?\n",
        "\n",
        "\n",
        "\n",
        "\n"
      ]
    },
    {
      "cell_type": "code",
      "metadata": {
        "id": "Z4owY1uOoewd",
        "colab_type": "code",
        "colab": {}
      },
      "source": [
        "import pandas as pd\n",
        "import numpy as np\n",
        "from scipy import stats\n",
        "import seaborn as sns\n",
        "import matplotlib.pyplot as plt"
      ],
      "execution_count": 0,
      "outputs": []
    },
    {
      "cell_type": "code",
      "metadata": {
        "id": "ixtB85xIjRRs",
        "colab_type": "code",
        "colab": {}
      },
      "source": [
        "# True Positive 100%\n",
        "p_pos_user = 1\n",
        "# Prior Probability\n",
        "p_user = 1/1000\n",
        "# False Positive 8%\n",
        "p_pos_non_user = .08\n",
        "# Complement of prior\n",
        "p_non_user = 1 - p_user"
      ],
      "execution_count": 0,
      "outputs": []
    },
    {
      "cell_type": "code",
      "metadata": {
        "id": "3WY48EqMjRUN",
        "colab_type": "code",
        "outputId": "3f8dcf4b-ffb3-4585-86f1-59014d4c17ae",
        "colab": {
          "base_uri": "https://localhost:8080/",
          "height": 34
        }
      },
      "source": [
        "#What is the probability that a person is drunk after one positive breathalyzer test?\n",
        "\n",
        "numerator = p_pos_user*p_user\n",
        "denominator = (p_pos_user)*(p_user) + (p_pos_non_user)*(p_non_user)\n",
        "\n",
        "# aka posterior probability\n",
        "posterior1 = numerator / denominator\n",
        "\n",
        "posterior1"
      ],
      "execution_count": 0,
      "outputs": [
        {
          "output_type": "execute_result",
          "data": {
            "text/plain": [
              "0.012357884330202669"
            ]
          },
          "metadata": {
            "tags": []
          },
          "execution_count": 28
        }
      ]
    },
    {
      "cell_type": "code",
      "metadata": {
        "id": "9BNug_7Vjv3E",
        "colab_type": "code",
        "outputId": "312f5979-dfb4-4d7b-8e34-b872a0642132",
        "colab": {
          "base_uri": "https://localhost:8080/",
          "height": 34
        }
      },
      "source": [
        "#What is the probability that a person is drunk after two positive breathalyzer tests?\n",
        "# True Positive Rate: 100%\n",
        "p_pos_user = 1\n",
        "# Prior Probability -> the posterior prob. from the first test\n",
        "p_user = posterior1\n",
        "# False Positive Rate: 8%\n",
        "p_pos_non_user = .08\n",
        "# Complement of prior\n",
        "p_non_user = 1 - p_user\n",
        "\n",
        "numerator = p_pos_user*p_user\n",
        "denominator = (p_pos_user)*(p_user) + (p_pos_non_user)*(p_non_user)\n",
        "\n",
        "# second posterior probability\n",
        "posterior2 = numerator / denominator\n",
        "\n",
        "posterior2"
      ],
      "execution_count": 0,
      "outputs": [
        {
          "output_type": "execute_result",
          "data": {
            "text/plain": [
              "0.13525210993291495"
            ]
          },
          "metadata": {
            "tags": []
          },
          "execution_count": 29
        }
      ]
    },
    {
      "cell_type": "code",
      "metadata": {
        "id": "8RpMcgqFta4Y",
        "colab_type": "code",
        "outputId": "0d583d73-f1ea-4e97-bb7e-5133e0834a41",
        "colab": {
          "base_uri": "https://localhost:8080/",
          "height": 34
        }
      },
      "source": [
        "# prob_drunk_given_positive(1/1000,.08,1.0)\n",
        "def bayes_rule(p_user, p_pos_non_user, p_pos_user):\n",
        "  p_non_user = 1 - p_user\n",
        "\n",
        "  numerator = p_pos_user*p_user\n",
        "  denominator = (p_pos_user)*(p_user) + (p_pos_non_user)*(p_non_user)\n",
        "\n",
        "  return (numerator / denominator)\n",
        "\n",
        "bayes_rule(1/1000, .08, 1)"
      ],
      "execution_count": 0,
      "outputs": [
        {
          "output_type": "execute_result",
          "data": {
            "text/plain": [
              "0.012357884330202669"
            ]
          },
          "metadata": {
            "tags": []
          },
          "execution_count": 30
        }
      ]
    },
    {
      "cell_type": "code",
      "metadata": {
        "id": "B2gLTin-tbAk",
        "colab_type": "code",
        "outputId": "f4c1b159-8730-4272-d8ae-b8146a73fb99",
        "colab": {
          "base_uri": "https://localhost:8080/",
          "height": 207
        }
      },
      "source": [
        "#How many positive breathalyzer tests are needed in order to have a probability that's greater than 95% that a person is drunk beyond the legal limit?\n",
        "prior = 1/1000\n",
        "p_drunk_post = []\n",
        "for drug_test in range(0,11):\n",
        "  prior = bayes_rule(prior,.08,1.0)\n",
        "  p_drunk_post.append(prior)\n",
        "\n",
        "p_drunk_post\n",
        "#4 tests!"
      ],
      "execution_count": 0,
      "outputs": [
        {
          "output_type": "execute_result",
          "data": {
            "text/plain": [
              "[0.012357884330202669,\n",
              " 0.13525210993291495,\n",
              " 0.6615996951348605,\n",
              " 0.9606895076105054,\n",
              " 0.9967371577896734,\n",
              " 0.9997381867081508,\n",
              " 0.9999790498904363,\n",
              " 0.9999983239589307,\n",
              " 0.9999998659165077,\n",
              " 0.9999999892733192,\n",
              " 0.9999999991418655]"
            ]
          },
          "metadata": {
            "tags": []
          },
          "execution_count": 34
        }
      ]
    },
    {
      "cell_type": "code",
      "metadata": {
        "id": "BdzqyB2ntbCq",
        "colab_type": "code",
        "outputId": "d7e9b6e8-de7a-4107-bfc8-41cc27275976",
        "colab": {
          "base_uri": "https://localhost:8080/",
          "height": 327
        }
      },
      "source": [
        "plt.plot(p_drunk_post)\n",
        "plt.title('Plot showing probability of certainty of illegally \\n high intoxication vs number of breathalyzers taken')\n",
        "plt.xlabel('number of consecutive breathalyzer tests taken')\n",
        "plt.ylabel('probability of intoxication above the legal limit')"
      ],
      "execution_count": 0,
      "outputs": [
        {
          "output_type": "execute_result",
          "data": {
            "text/plain": [
              "Text(0, 0.5, 'probability of intoxication above the legal limit')"
            ]
          },
          "metadata": {
            "tags": []
          },
          "execution_count": 38
        },
        {
          "output_type": "display_data",
          "data": {
            "image/png": "[encoded data removed]",
            "text/plain": [
              "<Figure size 432x288 with 1 Axes>"
            ]
          },
          "metadata": {
            "tags": []
          }
        }
      ]
    },
    {
      "cell_type": "markdown",
      "metadata": {
        "id": "amYcanJOtaG3",
        "colab_type": "text"
      },
      "source": [
        "\n",
        "### 2) Explore `scipy.stats.bayes_mvs`  \n",
        "Read its documentation, and experiment with it on data you've tested in other ways earlier this week.\n",
        " - Create a visualization comparing the results of a Bayesian approach to a traditional/frequentist approach. (with a large sample size they should look close to identical, however, take this opportunity to practice visualizing condfidence intervals in general. The following are some potential ways that you could visualize confidence intervals on your graph:\n",
        "  - [Matplotlib Error Bars](https://matplotlib.org/3.1.1/api/_as_gen/matplotlib.pyplot.errorbar.html)\n",
        "  - [Seaborn barplot with error bars](https://seaborn.pydata.org/generated/seaborn.barplot.html)\n",
        "  - [Vertical ines to show bounds of confidence interval](https://www.simplypsychology.org/confidence-interval.jpg)\n",
        "  - [Confidence Intervals on Box Plots](https://matplotlib.org/3.1.1/api/_as_gen/matplotlib.axes.Axes.boxplot.html)"
      ]
    },
    {
      "cell_type": "code",
      "metadata": {
        "id": "koRb2CY0Dzmo",
        "colab_type": "code",
        "colab": {}
      },
      "source": [
        "#?stats.bayes_mvs()"
      ],
      "execution_count": 0,
      "outputs": []
    },
    {
      "cell_type": "code",
      "metadata": {
        "id": "xpVhZyUnbf7o",
        "colab_type": "code",
        "outputId": "b76d143d-a544-4d5c-d904-0ed2059904aa",
        "colab": {
          "base_uri": "https://localhost:8080/",
          "height": 34
        }
      },
      "source": [
        "oinflips = np.random.binomial(n=1, p=.05, size=1000000)\n",
        "coinflips"
      ],
      "execution_count": 0,
      "outputs": [
        {
          "output_type": "execute_result",
          "data": {
            "text/plain": [
              "array([0, 0, 0, ..., 0, 0, 0])"
            ]
          },
          "metadata": {
            "tags": []
          },
          "execution_count": 39
        }
      ]
    },
    {
      "cell_type": "code",
      "metadata": {
        "id": "X6k1-sbxtjgx",
        "colab_type": "code",
        "outputId": "7b7c8f77-664d-4e35-d286-dfca0a0d4a6c",
        "colab": {
          "base_uri": "https://localhost:8080/",
          "height": 34
        }
      },
      "source": [
        "np.mean(coinflips)"
      ],
      "execution_count": 0,
      "outputs": [
        {
          "output_type": "execute_result",
          "data": {
            "text/plain": [
              "0.050199"
            ]
          },
          "metadata": {
            "tags": []
          },
          "execution_count": 40
        }
      ]
    },
    {
      "cell_type": "code",
      "metadata": {
        "id": "9Q31QOsbtjjC",
        "colab_type": "code",
        "outputId": "ed82da8d-3c13-47e4-fcaa-d6a2e6099f90",
        "colab": {
          "base_uri": "https://localhost:8080/",
          "height": 34
        }
      },
      "source": [
        "#frequentist CI of our 1m coinflips\n",
        "def confidence_interval(data, confidence=.95):\n",
        "  n = len(data)\n",
        "  mean = sum(data)/n\n",
        "  data = np.array(data)\n",
        "  stderr = stats.sem(data)\n",
        "  interval = stderr * stats.t.ppf((1 + confidence) / 2.0, n-1)\n",
        "  return (mean-interval, mean, mean+interval)\n",
        "\n",
        "ci_coins = confidence_interval(coinflips)\n",
        "print(ci_coins)"
      ],
      "execution_count": 0,
      "outputs": [
        {
          "output_type": "stream",
          "text": [
            "(0.04977103063933846, 0.050199, 0.05062696936066154)\n"
          ],
          "name": "stdout"
        }
      ]
    },
    {
      "cell_type": "code",
      "metadata": {
        "id": "kxJDNNZPDG7x",
        "colab_type": "code",
        "outputId": "b37f754f-ecb0-4458-b23c-257e90b3b080",
        "colab": {
          "base_uri": "https://localhost:8080/",
          "height": 51
        }
      },
      "source": [
        "#beysian CI for our 1m coinflips\n",
        "CI, _, _ = stats.bayes_mvs(coinflips, alpha=.95)\n",
        "bs_coins = pd.DataFrame(CI).T\n",
        "print(bs_coins)"
      ],
      "execution_count": 0,
      "outputs": [
        {
          "output_type": "stream",
          "text": [
            "          0                                             1\n",
            "0  0.050199  (0.049771031371322445, 0.050626968628677556)\n"
          ],
          "name": "stdout"
        }
      ]
    },
    {
      "cell_type": "code",
      "metadata": {
        "id": "-4T7BsQhtjll",
        "colab_type": "code",
        "outputId": "53b9fdc7-7343-40d2-be4b-9046fb03e734",
        "colab": {
          "base_uri": "https://localhost:8080/",
          "height": 282
        }
      },
      "source": [
        "plt.plot(ci_coins)\n",
        "#Frequentist CI visual"
      ],
      "execution_count": 0,
      "outputs": [
        {
          "output_type": "execute_result",
          "data": {
            "text/plain": [
              "[<matplotlib.lines.Line2D at 0x7efea78bd9b0>]"
            ]
          },
          "metadata": {
            "tags": []
          },
          "execution_count": 119
        },
        {
          "output_type": "display_data",
          "data": {
            "image/png": "[encoded data removed]",
            "text/plain": [
              "<Figure size 432x288 with 1 Axes>"
            ]
          },
          "metadata": {
            "tags": []
          }
        }
      ]
    },
    {
      "cell_type": "code",
      "metadata": {
        "id": "GeTYRfT2FfUr",
        "colab_type": "code",
        "outputId": "217404f6-c637-4c2f-f860-9eda3f50b290",
        "colab": {
          "base_uri": "https://localhost:8080/",
          "height": 282
        }
      },
      "source": [
        "plt.plot(bs_coins.iloc[0,1])\n",
        "#Bayesian CI visual"
      ],
      "execution_count": 0,
      "outputs": [
        {
          "output_type": "execute_result",
          "data": {
            "text/plain": [
              "[<matplotlib.lines.Line2D at 0x7efea797c588>]"
            ]
          },
          "metadata": {
            "tags": []
          },
          "execution_count": 115
        },
        {
          "output_type": "display_data",
          "data": {
            "image/png": "[encoded data removed]",
            "text/plain": [
              "<Figure size 432x288 with 1 Axes>"
            ]
          },
          "metadata": {
            "tags": []
          }
        }
      ]
    },
    {
      "cell_type": "code",
      "metadata": {
        "id": "zfG-AXpnCTF0",
        "colab_type": "code",
        "colab": {}
      },
      "source": [
        "#both CI are the same, as predicted due to large sample size"
      ],
      "execution_count": 0,
      "outputs": []
    },
    {
      "cell_type": "markdown",
      "metadata": {
        "id": "7RoTZdnetj5v",
        "colab_type": "text"
      },
      "source": [
        "### 3) In your own words, summarize the difference between Bayesian and Frequentist statistics\n",
        "\n",
        "If you're unsure where to start, check out [this blog post of Bayes theorem with Python](https://dataconomy.com/2015/02/introduction-to-bayes-theorem-with-python/)."
      ]
    },
    {
      "cell_type": "markdown",
      "metadata": {
        "id": "nEXQNiIWtzSS",
        "colab_type": "text"
      },
      "source": [
        "Bayseian and Frequentist statistical methods approach data from different philosophical viewpoints. Frequentists are highly dependent on sampling. They consider the true value of the data as an unknown, and attempt to capture it somwhere within the interval. The process is to figure out if the frequency of the true value is rare enough (<.05) to declare the null hypothesis false. However, a Beysian approaches the data from almost the opposite mindset, by trying to find the distribution of the parameter (not fixed) and then report the 95% most likeley outocmes of the parameter's distribution. This means that the initial sample quality is of significantly less importance. "
      ]
    },
    {
      "cell_type": "markdown",
      "metadata": {
        "id": "uWgWjp3PQ3Sq",
        "colab_type": "text"
      },
      "source": [
        "## Resources"
      ]
    },
    {
      "cell_type": "markdown",
      "metadata": {
        "id": "QRgHqmYIQ9qn",
        "colab_type": "text"
      },
      "source": [
        "- [Worked example of Bayes rule calculation](https://en.wikipedia.org/wiki/Bayes'_theorem#Examples) (helpful as it fully breaks out the denominator)\n",
        "- [Source code for mvsdist in scipy](https://github.com/scipy/scipy/blob/90534919e139d2a81c24bf08341734ff41a3db12/scipy/stats/morestats.py#L139)"
      ]
    },
    {
      "cell_type": "markdown",
      "metadata": {
        "id": "GP7Jv1XvwtkX",
        "colab_type": "text"
      },
      "source": [
        "## Stretch Goals:\n",
        "\n",
        "**- Go back and study the content from Modules 1 & 2 to make sure that you're really comfortable with them.**\n",
        "**- Apply a Bayesian technique to a problem you previously worked (in an assignment or project work) on from a frequentist (standard) perspective**\n",
        "**- Check out [PyMC3](https://docs.pymc.io/) (note this goes beyond hypothesis tests into modeling) - read the guides and work through some examples**\n",
        "- Take PyMC3 further - see if you can build something with it!"
      ]
    },
    {
      "cell_type": "code",
      "metadata": {
        "id": "iDi0eFr1x-v_",
        "colab_type": "code",
        "colab": {}
      },
      "source": [
        ""
      ],
      "execution_count": 0,
      "outputs": []
    }
  ]
}