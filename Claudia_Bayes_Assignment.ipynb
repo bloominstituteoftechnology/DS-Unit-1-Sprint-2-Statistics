{
  "nbformat": 4,
  "nbformat_minor": 0,
  "metadata": {
    "colab": {
      "name": "Claudia:Bayes Assignment",
      "provenance": [],
      "collapsed_sections": [],
      "include_colab_link": true
    },
    "kernelspec": {
      "name": "python3",
      "display_name": "Python 3"
    }
  },
  "cells": [
    {
      "cell_type": "markdown",
      "metadata": {
        "id": "view-in-github",
        "colab_type": "text"
      },
      "source": [
        "<a href=\"https://colab.research.google.com/github/claudiasofiaC/DS-Unit-1-Sprint-2-Statistics/blob/master/Claudia_Bayes_Assignment.ipynb\" target=\"_parent\"><img src=\"https://colab.research.google.com/assets/colab-badge.svg\" alt=\"Open In Colab\"/></a>"
      ]
    },
    {
      "cell_type": "markdown",
      "metadata": {
        "id": "H7OLbevlbd_Z",
        "colab_type": "text"
      },
      "source": [
        "# Lambda School Data Science Module 123\n",
        "\n",
        "## Introduction to Bayesian Inference\n",
        "\n",
        "\n"
      ]
    },
    {
      "cell_type": "markdown",
      "metadata": {
        "id": "P-DzzRk5bf0z",
        "colab_type": "text"
      },
      "source": [
        "## Assignment - Code it up!\n",
        "\n",
        "We used pure math to apply Bayes Theorem to drug tests. Now write Python code to reproduce the results! This is purposefully open ended - you'll have to think about how you should represent probabilities and events. You can and should look things up.\n",
        "\n",
        "Specific goals/targets:\n",
        "\n",
        "### 1) Write a function \n",
        "\n",
        "`def prob_drunk_given_positive(prob_drunk_prior, false_positive_rate):` \n",
        "\n",
        "You should only truly need these two values in order to apply Bayes Theorem. In this example, imagine that individuals are taking a breathalyzer test with an 8% false positive rate, a 100% true positive rate, and that our prior belief about drunk driving in the population is 1/1000. \n",
        " - What is the probability that a person is drunk after one positive breathalyzer test?\n",
        " - What is the probability that a person is drunk after two positive breathalyzer tests?\n",
        " - How many positive breathalyzer tests are needed in order to have a probability that's greater than 95% that a person is drunk beyond the legal limit?\n",
        "\n",
        "### 2) Explore `scipy.stats.bayes_mvs`  \n",
        "Read its documentation, and experiment with it on data you've tested in other ways earlier this week.\n",
        " - Create a visualization comparing the results of a Bayesian approach to a traditional/frequentist approach. (with a large sample size they should look close to identical, however, take this opportunity to practice visualizing condfidence intervals in general. The following are some potential ways that you could visualize confidence intervals on your graph:\n",
        "  - [Matplotlib Error Bars](https://matplotlib.org/3.1.1/api/_as_gen/matplotlib.pyplot.errorbar.html)\n",
        "  - [Seaborn barplot with error bars](https://seaborn.pydata.org/generated/seaborn.barplot.html)\n",
        "  - [Vertical ines to show bounds of confidence interval](https://www.simplypsychology.org/confidence-interval.jpg)\n",
        "  - [Confidence Intervals on Box Plots](https://matplotlib.org/3.1.1/api/_as_gen/matplotlib.axes.Axes.boxplot.html)\n",
        "\n",
        "### 3) In your own words, summarize the difference between Bayesian and Frequentist statistics\n",
        "\n",
        "If you're unsure where to start, check out [this blog post of Bayes theorem with Python](https://dataconomy.com/2015/02/introduction-to-bayes-theorem-with-python/).\n",
        "\n"
      ]
    },
    {
      "cell_type": "code",
      "metadata": {
        "id": "xpVhZyUnbf7o",
        "colab_type": "code",
        "colab": {}
      },
      "source": [
        "# TODO - code!\n",
        "import matplotlib.pyplot as plt\n",
        "from scipy import stats\n",
        "import numpy as np\n",
        "import seaborn as sns"
      ],
      "execution_count": 0,
      "outputs": []
    },
    {
      "cell_type": "markdown",
      "metadata": {
        "id": "OUnT3ov2m7T1",
        "colab_type": "text"
      },
      "source": [
        "###given: \n",
        "###prior: 1/1000 ppl on the road at the time are intoxicated beyond the legal limit\n",
        "###false positive rate: 8%\n"
      ]
    },
    {
      "cell_type": "code",
      "metadata": {
        "id": "WHjtMS_jhu9g",
        "colab_type": "code",
        "colab": {}
      },
      "source": [
        "#function for drunks\n",
        "\n",
        "prior = .001\n",
        "false_pos_rate = .08\n"
      ],
      "execution_count": 0,
      "outputs": []
    },
    {
      "cell_type": "code",
      "metadata": {
        "id": "MlnRDMcxhvFL",
        "colab_type": "code",
        "colab": {}
      },
      "source": [
        "probabilities = []\n",
        "probabilities.append(prior)"
      ],
      "execution_count": 0,
      "outputs": []
    },
    {
      "cell_type": "code",
      "metadata": {
        "id": "OC1YDVa4hvTk",
        "colab_type": "code",
        "colab": {
          "base_uri": "https://localhost:8080/",
          "height": 54
        },
        "outputId": "aecc567e-cf58-4d8d-e5bf-51569a22081d"
      },
      "source": [
        "def bayes(prior, false_pos_rate):\n",
        "  return (1 - false_pos_rate) * prior / ((1 - false_pos_rate) * prior + false_pos_rate)\n",
        "\n",
        "for test in range(0,7):\n",
        "  prior = bayes(prior, false_pos_rate)\n",
        "  probabilities.append(prior)\n",
        "\n",
        "print(probabilities)    "
      ],
      "execution_count": 4,
      "outputs": [
        {
          "output_type": "stream",
          "text": [
            "[0.001, 0.011369253583786456, 0.11562841530054645, 0.5707651170427359, 0.8677913016512908, 0.908922000544251, 0.9126836056874148, 0.9130121737279698]\n"
          ],
          "name": "stdout"
        }
      ]
    },
    {
      "cell_type": "code",
      "metadata": {
        "id": "5vXcuoSZhvSH",
        "colab_type": "code",
        "colab": {
          "base_uri": "https://localhost:8080/",
          "height": 362
        },
        "outputId": "7996e39f-3b52-42dd-cddb-82e744489f1e"
      },
      "source": [
        "\n",
        "\n",
        "plt.plot(probabilities, color='pink', linewidth=5)\n",
        "\n",
        "plt.title('''Prob of Intoxication by number of \n",
        "consecutive positive breath tests''', color='pink', fontsize=16)\n",
        "\n",
        "plt.xticks([0,1,2,3,4,5,6], ['Prior Prob', 'After 1st Test', \n",
        "                             'After 2nd Test', 'After 3rd Test',\n",
        "                             'After 4th Test', 'After 5th Test',\n",
        "                             'After 6th Test'], rotation='vertical', color='orange')\n",
        "plt.yticks(color='orange')\n",
        "plt.ylabel('Prob of Intoxication', color='orange')\n",
        "plt.show()"
      ],
      "execution_count": 5,
      "outputs": [
        {
          "output_type": "display_data",
          "data": {
            "image/png": "[encoded data removed]",
            "text/plain": [
              "<Figure size 432x288 with 1 Axes>"
            ]
          },
          "metadata": {
            "tags": []
          }
        }
      ]
    },
    {
      "cell_type": "code",
      "metadata": {
        "id": "aNfD6a8ahvQL",
        "colab_type": "code",
        "colab": {
          "base_uri": "https://localhost:8080/",
          "height": 68
        },
        "outputId": "d570567b-cbc4-4f6a-ae1b-6891112a5e1c"
      },
      "source": [
        "\n",
        "\n",
        "#random coinflips\n",
        "\n",
        "np.random.seed(seed=68)\n",
        "\n",
        "coin_flips = np.random.binomial(n=1, p=.5, size=100)\n",
        "print(coin_flips)"
      ],
      "execution_count": 6,
      "outputs": [
        {
          "output_type": "stream",
          "text": [
            "[0 0 1 0 1 0 1 0 1 1 1 1 1 1 1 1 1 1 0 0 0 0 1 1 0 0 1 1 1 0 1 1 1 1 0 1 1\n",
            " 1 0 1 0 0 0 0 0 1 1 0 1 1 1 0 0 1 0 0 1 1 1 0 1 1 0 1 0 1 0 0 0 1 1 1 0 1\n",
            " 0 0 1 0 1 1 1 0 0 0 1 0 1 0 1 0 1 0 1 1 1 1 0 1 1 0]\n"
          ],
          "name": "stdout"
        }
      ]
    },
    {
      "cell_type": "code",
      "metadata": {
        "id": "XOzwxVXuBMZ7",
        "colab_type": "code",
        "colab": {
          "base_uri": "https://localhost:8080/",
          "height": 34
        },
        "outputId": "d2f271c4-efff-46e1-9166-8c87b9e69160"
      },
      "source": [
        "\n",
        "coin_flips.dtype"
      ],
      "execution_count": 7,
      "outputs": [
        {
          "output_type": "execute_result",
          "data": {
            "text/plain": [
              "dtype('int64')"
            ]
          },
          "metadata": {
            "tags": []
          },
          "execution_count": 7
        }
      ]
    },
    {
      "cell_type": "code",
      "metadata": {
        "id": "d5llQ32WhvNu",
        "colab_type": "code",
        "colab": {
          "base_uri": "https://localhost:8080/",
          "height": 34
        },
        "outputId": "c187b376-479f-49c6-f211-af55d64c9f28"
      },
      "source": [
        "def con_interval(data, confidence=.95):\n",
        "  n = len(data)\n",
        "  mean = sum(data)/n\n",
        "  data = np.array(data)\n",
        "  stderr = stats.sem(data)\n",
        "  interval = stderr * stats.t.ppf((1 + confidence) / 2.0, n-1)\n",
        "  return (mean, mean-interval, mean+interval, interval)\n",
        "\n",
        "freakwentist_con_interval = con_interval(coin_flips)\n",
        "freakwentist_con_interval\n"
      ],
      "execution_count": 8,
      "outputs": [
        {
          "output_type": "execute_result",
          "data": {
            "text/plain": [
              "(0.57, 0.47127134651887564, 0.6687286534811243, 0.0987286534811243)"
            ]
          },
          "metadata": {
            "tags": []
          },
          "execution_count": 8
        }
      ]
    },
    {
      "cell_type": "code",
      "metadata": {
        "id": "3BxhqqeWhvMT",
        "colab_type": "code",
        "colab": {
          "base_uri": "https://localhost:8080/",
          "height": 51
        },
        "outputId": "4b3468cb-05e9-4ae4-99ad-4f0672b70a06"
      },
      "source": [
        "bayes_con_interval, _, _ = stats.bayes_mvs(coin_flips, alpha=.95)\n",
        "margin_of_error = bayes_con_interval[0] - bayes_con_interval[1][0]\n",
        "\n",
        "print('Margin of Error: ', margin_of_error)\n",
        "print(bayes_con_interval)"
      ],
      "execution_count": 13,
      "outputs": [
        {
          "output_type": "stream",
          "text": [
            "Margin of Error:  0.0987286534811243\n",
            "Mean(statistic=0.57, minmax=(0.47127134651887564, 0.6687286534811243))\n"
          ],
          "name": "stdout"
        }
      ]
    },
    {
      "cell_type": "code",
      "metadata": {
        "id": "1izgfoLjhvDy",
        "colab_type": "code",
        "colab": {}
      },
      "source": [
        "#plot this bad boi\n",
        "#uuuuuuuugggghhhhhhhhhhhh"
      ],
      "execution_count": 0,
      "outputs": []
    },
    {
      "cell_type": "code",
      "metadata": {
        "id": "x3WlHAi38aAI",
        "colab_type": "code",
        "colab": {
          "base_uri": "https://localhost:8080/",
          "height": 282
        },
        "outputId": "6eb44cf7-5e3b-494c-c49d-ae622983f314"
      },
      "source": [
        "plt.errorbar(x=0, y=freakwentist_con_interval[0], yerr=freakwentist_con_interval[3], marker='x', color='lime')\n",
        "plt.errorbar(x=1, y=bayes_con_interval[0], yerr=margin_of_error, marker='x', color='fuchsia')\n",
        "plt.title('Freaks and Geeks')\n",
        "\n",
        "plt.show()\n"
      ],
      "execution_count": 30,
      "outputs": [
        {
          "output_type": "display_data",
          "data": {
            "image/png": "[encoded data removed]",
            "text/plain": [
              "<Figure size 432x288 with 1 Axes>"
            ]
          },
          "metadata": {
            "tags": []
          }
        }
      ]
    },
    {
      "cell_type": "code",
      "metadata": {
        "id": "CgVMMzDn8aKI",
        "colab_type": "code",
        "colab": {
          "base_uri": "https://localhost:8080/",
          "height": 282
        },
        "outputId": "146608f0-3b7c-4a35-a658-8e1ad3d60c80"
      },
      "source": [
        "#great... I mean, I like making graphs so theres that. \n",
        "\n",
        "plt.style.use('ggplot')\n",
        "fig, ax = plt.subplots()\n",
        "means = [freakwentist_con_interval[0], bayes_con_interval[0]]\n",
        "errors = [freakwentist_con_interval[3], margin_of_error]\n",
        "x_pos = [0,1]\n",
        "tick_labels = ['Freakwentist', 'Bae-sian']\n",
        "\n",
        "ax.bar(x=[0,1], height=means, yerr=errors, error_kw=dict(lw=5, capsize=4, capthick=3)\n",
        ", color='pink')\n",
        "ax.set_xticks(x_pos)\n",
        "ax.set_title('Freaks and Baes')\n",
        "ax.set_xticklabels(tick_labels);\n"
      ],
      "execution_count": 27,
      "outputs": [
        {
          "output_type": "display_data",
          "data": {
            "image/png": "[encoded data removed]",
            "text/plain": [
              "<Figure size 432x288 with 1 Axes>"
            ]
          },
          "metadata": {
            "tags": []
          }
        }
      ]
    },
    {
      "cell_type": "markdown",
      "metadata": {
        "id": "GdkfcZNLhU5a",
        "colab_type": "text"
      },
      "source": [
        "##3) Bayesians allow an update in the information with a prior.\n",
        "\n",
        "##A Frequentist will focus on the data.\n",
        "\n",
        "##I don't think there is much to say beyond that without it turning into mush."
      ]
    },
    {
      "cell_type": "markdown",
      "metadata": {
        "id": "uWgWjp3PQ3Sq",
        "colab_type": "text"
      },
      "source": [
        "## Resources"
      ]
    },
    {
      "cell_type": "markdown",
      "metadata": {
        "id": "QRgHqmYIQ9qn",
        "colab_type": "text"
      },
      "source": [
        "- [Worked example of Bayes rule calculation](https://en.wikipedia.org/wiki/Bayes'_theorem#Examples) (helpful as it fully breaks out the denominator)\n",
        "- [Source code for mvsdist in scipy](https://github.com/scipy/scipy/blob/90534919e139d2a81c24bf08341734ff41a3db12/scipy/stats/morestats.py#L139)"
      ]
    },
    {
      "cell_type": "markdown",
      "metadata": {
        "id": "GP7Jv1XvwtkX",
        "colab_type": "text"
      },
      "source": [
        "## Stretch Goals:\n",
        "\n",
        "- Go back and study the content from Modules 1 & 2 to make sure that you're really comfortable with them.\n",
        "- Apply a Bayesian technique to a problem you previously worked (in an assignment or project work) on from a frequentist (standard) perspective\n",
        "- Check out [PyMC3](https://docs.pymc.io/) (note this goes beyond hypothesis tests into modeling) - read the guides and work through some examples\n",
        "- Take PyMC3 further - see if you can build something with it!"
      ]
    },
    {
      "cell_type": "code",
      "metadata": {
        "id": "iDi0eFr1x-v_",
        "colab_type": "code",
        "colab": {}
      },
      "source": [
        ""
      ],
      "execution_count": 0,
      "outputs": []
    }
  ]
}