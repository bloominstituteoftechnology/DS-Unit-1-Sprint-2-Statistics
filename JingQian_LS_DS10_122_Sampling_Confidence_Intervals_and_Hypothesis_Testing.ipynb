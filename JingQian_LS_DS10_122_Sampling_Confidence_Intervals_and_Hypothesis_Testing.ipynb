{
  "nbformat": 4,
  "nbformat_minor": 0,
  "metadata": {
    "colab": {
      "name": "JingQian_LS_DS10_122_Sampling_Confidence_Intervals_and_Hypothesis_Testing.ipynb",
      "provenance": [],
      "collapsed_sections": [],
      "include_colab_link": true
    },
    "kernelspec": {
      "name": "python3",
      "display_name": "Python 3"
    }
  },
  "cells": [
    {
      "cell_type": "markdown",
      "metadata": {
        "id": "view-in-github",
        "colab_type": "text"
      },
      "source": [
        "<a href=\"https://colab.research.google.com/github/qianjing2020/DS-Unit-1-Sprint-2-Statistics/blob/master/JingQian_LS_DS10_122_Sampling_Confidence_Intervals_and_Hypothesis_Testing.ipynb\" target=\"_parent\"><img src=\"https://colab.research.google.com/assets/colab-badge.svg\" alt=\"Open In Colab\"/></a>"
      ]
    },
    {
      "cell_type": "markdown",
      "metadata": {
        "id": "838Dmw1kM2LK",
        "colab_type": "text"
      },
      "source": [
        "# Lambda School Data Science Module 122\n",
        "## Sampling, Confidence Intervals, and Hypothesis Testing"
      ]
    },
    {
      "cell_type": "markdown",
      "metadata": {
        "id": "dbcPKIo5M6Ny",
        "colab_type": "text"
      },
      "source": [
        "## Prepare - examine other available hypothesis tests\n",
        "\n",
        "If you had to pick a single hypothesis test in your toolbox, t-test would probably be the best choice - but the good news is you don't have to pick just one! Here's some of the others to be aware of:"
      ]
    },
    {
      "cell_type": "code",
      "metadata": {
        "id": "tlBel8j9M6tB",
        "colab_type": "code",
        "outputId": "0a1c4ef1-3ff2-4f59-faf1-79945f43b797",
        "colab": {
          "base_uri": "https://localhost:8080/",
          "height": 311
        }
      },
      "source": [
        "import numpy as np\n",
        "from scipy.stats import chisquare  # One-way chi square test\n",
        "from scipy import stats\n",
        "import matplotlib.pyplot as plt\n",
        "#Calculate a one-way chi square test.\n",
        "#The chi square test tests the null hypothesis that the categorical data has the given frequencies.\n",
        "# http://onlinestatbook.com/2/chi_square/one-way.html\n",
        "ind_obs = np.array([[6,6,6,6,6,6], [8,5,9,2,7,5]]).T \n",
        "## column 1 is outcome, column 2 is expected, or reverse order is also fine\n",
        "# null hypothesis is  test other deviations between expected and observed frequencies.\n",
        "print(ind_obs)\n",
        "print(chisquare(ind_obs, axis=None))\n",
        "print('The null hypotheis that the outcome meet the expectation cannot be rejected')\n",
        "\n",
        "dep_obs = np.array([[16, 18, 16, 14, 12, 12], [32, 24, 16, 28, 20, 24]]).T\n",
        "print(dep_obs)\n",
        "print(chisquare(dep_obs, axis=None))\n",
        "print('The null hypothesis that the observed scores deviates significantly from the expected scores can be rejected.')"
      ],
      "execution_count": 56,
      "outputs": [
        {
          "output_type": "stream",
          "text": [
            "[[6 8]\n",
            " [6 5]\n",
            " [6 9]\n",
            " [6 2]\n",
            " [6 7]\n",
            " [6 5]]\n",
            "Power_divergenceResult(statistic=5.333333333333334, pvalue=0.9139552815097934)\n",
            "The null hypotheis that the outcome meet the expectation cannot be rejected\n",
            "[[16 32]\n",
            " [18 24]\n",
            " [16 16]\n",
            " [14 28]\n",
            " [12 20]\n",
            " [12 24]]\n",
            "Power_divergenceResult(statistic=23.31034482758621, pvalue=0.015975692534127565)\n",
            "The null hypothesis that the observed scores deviates significantly from the expected scores can be rejected.\n"
          ],
          "name": "stdout"
        }
      ]
    },
    {
      "cell_type": "code",
      "metadata": {
        "id": "2aMgkeC536Pz",
        "colab_type": "code",
        "colab": {}
      },
      "source": [
        "# Chi square can take any crosstab/table and test the independence of rows/cols\n",
        "# The null hypothesis is that the rows/cols are independent -> low chi square\n",
        "# The alternative is that there is a dependence -> high chi square\n",
        "# Be aware! Chi square does *not* tell you direction/causation"
      ],
      "execution_count": 0,
      "outputs": []
    },
    {
      "cell_type": "code",
      "metadata": {
        "id": "nN0BdNiDPxbk",
        "colab_type": "code",
        "outputId": "89c1a1cc-9cad-4fa5-c0d4-7f7dd9382a17",
        "colab": {
          "base_uri": "https://localhost:8080/",
          "height": 302
        }
      },
      "source": [
        "# Distribution tests:\n",
        "# We often assume that something is normal, but it can be important to *check*\n",
        "# For example, later on with predictive modeling, a typical assumption is that\n",
        "# residuals (prediction errors) are normal - checking is a good diagnostic\n",
        "\n",
        "# Poisson models arrival times and is related to the binomial (coinflip)\n",
        "# .poisson(lamda, k) : for events with an expected separation lambda, \n",
        "# the Poisson distribution f(lambda,k) describes the probability of k events \n",
        "# occurring within the observed interval lambda.\n",
        "x = np.random.poisson(5, 1000) \n",
        "plt.hist(x, bins=10)\n",
        "k2, p = stats.normaltest(x) #This function tests the null hypothesis that a sample comes from a normal distribution.\n",
        "alpha = 1e-3\n",
        "if p < alpha:  # null hypothesis: x comes from a normal distribution\n",
        "  print(\"The null hypothesis can be rejected\")\n",
        "else:\n",
        "  print(\"The null hypothesis cannot be rejected\")\n"
      ],
      "execution_count": 10,
      "outputs": [
        {
          "output_type": "stream",
          "text": [
            "NormaltestResult(statistic=44.46326896541671, pvalue=2.212706545037662e-10)\n",
            "The null hypothesis can be rejected\n"
          ],
          "name": "stdout"
        },
        {
          "output_type": "display_data",
          "data": {
            "image/png": "[encoded data removed]",
            "text/plain": [
              "<Figure size 432x288 with 1 Axes>"
            ]
          },
          "metadata": {
            "tags": []
          }
        }
      ]
    },
    {
      "cell_type": "code",
      "metadata": {
        "id": "P5t0WhkDReFO",
        "colab_type": "code",
        "outputId": "dd93f567-277f-4304-e1ac-2f2b5455396f",
        "colab": {
          "base_uri": "https://localhost:8080/",
          "height": 54
        }
      },
      "source": [
        "#  The Kruskal-Wallis H-test tests the null hypothesis that the population median\n",
        "#  of all of the groups are equal. It is a non-parametric version of ANOVA. \n",
        "#  The test works on 2 or more independent samples, which may have different \n",
        "#  sizes. \n",
        "# Note that rejecting the null hypothesis does not indicate which of \n",
        "#  the groups differs. Post-hoc comparisons between groups are required to \n",
        "#  determine which groups are different.\n",
        "# Can be applied to ranking decisions/outcomes/recommendations\n",
        "# The underlying math comes from chi-square distribution, and is best for n>5\n",
        "\n",
        "x = [1, 3, 5, 7, 9]\n",
        "y = [2, 4, 6, 8, 10]\n",
        "print(stats.kruskal(x, y))  \n",
        "# conclusion: cannot reject H0 that x and y's population median are equal\n",
        "\n",
        "x = [1, 1]\n",
        "y = [2, 2, 2, 2]\n",
        "z = [3, 3, 3, 3, 3, 3 ,3]  # Hey, a third group, and of different size!\n",
        "print(stats.kruskal(x, y, z))  # x clearly dominates\n",
        "# conclusion: there are difference in x,y,z population median, further test needed"
      ],
      "execution_count": 14,
      "outputs": [
        {
          "output_type": "stream",
          "text": [
            "KruskalResult(statistic=0.2727272727272734, pvalue=0.6015081344405895)\n",
            "KruskalResult(statistic=12.000000000000005, pvalue=0.0024787521766663516)\n"
          ],
          "name": "stdout"
        }
      ]
    },
    {
      "cell_type": "markdown",
      "metadata": {
        "id": "7pT3IP36Rh0b",
        "colab_type": "text"
      },
      "source": [
        "And there's many more! `scipy.stats` is fairly comprehensive, though there are even more available if you delve into the extended world of statistics packages. As tests get increasingly obscure and specialized, the importance of knowing them by heart becomes small - but being able to look them up and figure them out when they *are* relevant is still important."
      ]
    },
    {
      "cell_type": "markdown",
      "metadata": {
        "id": "uMEDZf3aXtTX",
        "colab_type": "text"
      },
      "source": [
        "## Degrees of Freedom\n",
        "\n",
        "<https://blog.minitab.com/blog/statistics-and-quality-data-analysis/what-are-degrees-of-freedom-in-statistics>"
      ]
    },
    {
      "cell_type": "markdown",
      "metadata": {
        "id": "3JqroCQYQqhy",
        "colab_type": "text"
      },
      "source": [
        "## T-test Assumptions\n",
        "\n",
        "In the t-test comparing the means of two independent samples, the following assumptions should be met:\n",
        "\n",
        "1.   The means of the two populations being compared should follow normal distributions. Under weak assumptions, this follows in large samples from the central limit theorem, even when the distribution of observations in each group is non-normal.\n",
        "2.   If using Student's original definition of the t-test, the two populations being compared should have the same variance (testable using F-test, Levene's test, Bartlett's test, or the Brown–Forsythe test; or assessable graphically using a Q–Q plot). If the sample sizes in the two groups being compared are equal, Student's original t-test is highly robust to the presence of unequal variances. Welch's t-test is insensitive to equality of the variances regardless of whether the sample sizes are similar.\n",
        "3.   The data used to carry out the test should be sampled independently from the two populations being compared. This is in general not testable from the data, but if the data are known to be dependently sampled (that is, if they were sampled in clusters), then the classical t-tests discussed here may give misleading results.\n",
        "\n"
      ]
    },
    {
      "cell_type": "code",
      "metadata": {
        "id": "sqy2hEFRZnvI",
        "colab_type": "code",
        "colab": {}
      },
      "source": [
        "from scipy.stats import ttest_ind\n",
        "\n",
        "?ttest_ind"
      ],
      "execution_count": 0,
      "outputs": []
    },
    {
      "cell_type": "markdown",
      "metadata": {
        "id": "bvvPV-RJN2vA",
        "colab_type": "text"
      },
      "source": [
        "## Central Limit Theorem\n",
        "\n"
      ]
    },
    {
      "cell_type": "code",
      "metadata": {
        "id": "haF95-XxYVq9",
        "colab_type": "code",
        "colab": {}
      },
      "source": [
        "import numpy as np\n",
        "import matplotlib.pyplot as plt\n",
        "import pandas as pd"
      ],
      "execution_count": 0,
      "outputs": []
    },
    {
      "cell_type": "code",
      "metadata": {
        "id": "XGuz2wSMYWuK",
        "colab_type": "code",
        "outputId": "c2ea410e-ea23-487e-b19d-7547be6a4ec6",
        "colab": {
          "base_uri": "https://localhost:8080/",
          "height": 35
        }
      },
      "source": [
        "# Let me flip a coin 12 times\n",
        "# binomial input: n trials and p probability of success where n an integer >= 0 \n",
        "# and p is in the interval [0,1], size is the number of the trials\n",
        "coinflips = np.random.binomial(n=1, p=.5, size=12)\n",
        "coinflips"
      ],
      "execution_count": 17,
      "outputs": [
        {
          "output_type": "execute_result",
          "data": {
            "text/plain": [
              "array([0, 0, 0, 0, 1, 0, 1, 0, 1, 0, 0, 1])"
            ]
          },
          "metadata": {
            "tags": []
          },
          "execution_count": 17
        }
      ]
    },
    {
      "cell_type": "code",
      "metadata": {
        "id": "_iQSaMIJYdBb",
        "colab_type": "code",
        "outputId": "8b4ebe85-858c-4086-decd-fdd1a73c961c",
        "colab": {
          "base_uri": "https://localhost:8080/",
          "height": 35
        }
      },
      "source": [
        "# What is the mean of this sample of coinflips?\n",
        "coinflips.mean()"
      ],
      "execution_count": 18,
      "outputs": [
        {
          "output_type": "execute_result",
          "data": {
            "text/plain": [
              "0.3333333333333333"
            ]
          },
          "metadata": {
            "tags": []
          },
          "execution_count": 18
        }
      ]
    },
    {
      "cell_type": "code",
      "metadata": {
        "id": "7QtY3pn7YmsG",
        "colab_type": "code",
        "outputId": "4b03f292-397d-4421-c970-0b132cc2c2b8",
        "colab": {
          "base_uri": "https://localhost:8080/",
          "height": 35
        }
      },
      "source": [
        "coinflips = np.random.binomial(n=1, p=.5, size=12)\n",
        "coinflips"
      ],
      "execution_count": 19,
      "outputs": [
        {
          "output_type": "execute_result",
          "data": {
            "text/plain": [
              "array([1, 1, 0, 1, 1, 0, 1, 1, 1, 0, 1, 0])"
            ]
          },
          "metadata": {
            "tags": []
          },
          "execution_count": 19
        }
      ]
    },
    {
      "cell_type": "code",
      "metadata": {
        "id": "YGfw92XtYoOP",
        "colab_type": "code",
        "outputId": "d871aff5-b981-4a27-f1e1-6725d9f9cfd0",
        "colab": {
          "base_uri": "https://localhost:8080/",
          "height": 35
        }
      },
      "source": [
        "coinflips.mean()"
      ],
      "execution_count": 20,
      "outputs": [
        {
          "output_type": "execute_result",
          "data": {
            "text/plain": [
              "0.6666666666666666"
            ]
          },
          "metadata": {
            "tags": []
          },
          "execution_count": 20
        }
      ]
    },
    {
      "cell_type": "code",
      "metadata": {
        "id": "s_qTrpFPYsyF",
        "colab_type": "code",
        "colab": {
          "base_uri": "https://localhost:8080/",
          "height": 54
        },
        "outputId": "a20aed13-aeb0-45c7-872d-6653266a79f9"
      },
      "source": [
        "# Why are these values different? Shouldn't the mean be at .5 for a fair coin?\n",
        "print(np.random.binomial(n=1, p=.5, size=10000).mean())\n",
        "print(np.random.binomial(n=1, p=.5, size=10000).mean())"
      ],
      "execution_count": 25,
      "outputs": [
        {
          "output_type": "stream",
          "text": [
            "0.5074\n",
            "0.5018\n"
          ],
          "name": "stdout"
        }
      ]
    },
    {
      "cell_type": "markdown",
      "metadata": {
        "id": "46wUeMO_emWu",
        "colab_type": "text"
      },
      "source": [
        "## Estimates have their own distribution\n",
        "\n",
        "No matter the distribution of our raw data, our estimates will always be distributed normally - This is the main outcome of the Central Limit Theorem. \n",
        "\n",
        "In order to really see the distribution of our sample mean estimate, we are going to estimate the mean repeatedly and then use all of those different estimates to make a histogram."
      ]
    },
    {
      "cell_type": "code",
      "metadata": {
        "id": "FBLoOF8qOJeJ",
        "colab_type": "code",
        "outputId": "ab6ca2d7-13d2-4a17-9760-ca937297b5f5",
        "colab": {
          "base_uri": "https://localhost:8080/",
          "height": 74
        }
      },
      "source": [
        "sample_means = []\n",
        "for x in range(0,3000):\n",
        "  coinflips = np.random.binomial(n=1, p=.5, size=8)\n",
        "  one_sample = coinflips\n",
        "  sample_means.append(coinflips.mean())\n",
        "\n",
        "print(len(sample_means))\n",
        "print(sample_means)"
      ],
      "execution_count": 34,
      "outputs": [
        {
          "output_type": "stream",
          "text": [
            "3000\n",
            "[0.375, 0.5, 0.125, 0.625, 0.625, 0.5, 0.375, 0.75, 0.625, 0.375, 0.625, 0.5, 0.625, 0.5, 0.5, 0.5, 0.875, 0.375, 0.5, 0.5, 0.5, 0.625, 0.375, 0.375, 0.5, 0.375, 0.625, 0.75, 0.5, 0.5, 0.375, 0.875, 0.625, 0.375, 0.5, 0.75, 0.75, 0.25, 0.5, 0.0, 0.5, 0.625, 0.125, 0.75, 0.5, 0.375, 0.625, 0.5, 0.625, 0.25, 0.25, 0.25, 0.375, 0.375, 0.25, 0.625, 0.25, 0.75, 0.5, 0.5, 0.5, 0.5, 0.25, 0.25, 0.625, 0.375, 0.625, 0.375, 0.625, 0.625, 0.5, 0.25, 0.625, 0.625, 0.125, 0.5, 0.375, 0.5, 0.375, 0.75, 0.5, 0.5, 0.75, 0.5, 0.5, 0.625, 0.5, 0.375, 0.375, 0.5, 0.5, 0.375, 0.5, 0.625, 0.5, 0.25, 0.5, 0.625, 0.625, 0.5, 0.5, 0.75, 0.25, 0.5, 0.625, 0.5, 0.625, 0.75, 0.375, 0.375, 0.375, 0.75, 0.75, 0.625, 0.625, 0.25, 0.625, 0.5, 0.5, 0.625, 0.875, 0.25, 0.125, 0.375, 0.75, 0.625, 0.625, 0.25, 0.5, 0.625, 0.625, 0.625, 0.75, 0.5, 0.75, 0.75, 0.625, 0.5, 0.5, 0.625, 0.625, 0.625, 0.375, 0.5, 0.5, 0.375, 0.125, 0.625, 0.25, 0.125, 0.5, 0.5, 0.375, 0.375, 0.25, 0.625, 0.375, 0.625, 0.5, 0.5, 0.625, 0.375, 0.5, 0.5, 0.5, 0.625, 0.375, 0.75, 0.375, 0.5, 0.375, 0.375, 0.5, 0.5, 0.625, 0.5, 0.75, 0.75, 0.375, 0.625, 0.625, 0.5, 0.5, 0.625, 0.875, 0.25, 0.375, 0.75, 0.375, 0.375, 0.25, 0.375, 0.625, 0.75, 0.625, 0.5, 0.625, 0.625, 0.25, 0.5, 0.5, 0.25, 0.625, 0.5, 0.5, 0.375, 0.625, 0.125, 0.5, 0.125, 0.25, 0.375, 0.125, 0.5, 0.625, 0.25, 0.625, 0.375, 0.375, 0.5, 0.375, 0.5, 0.5, 0.5, 0.625, 0.5, 0.5, 0.625, 0.375, 0.5, 0.5, 0.625, 0.5, 0.625, 0.5, 0.625, 0.5, 0.625, 0.375, 0.5, 0.375, 0.375, 0.5, 0.625, 0.375, 0.375, 0.5, 0.25, 0.625, 0.75, 0.875, 0.75, 0.75, 0.625, 0.625, 0.375, 0.75, 0.375, 0.625, 0.375, 0.625, 0.625, 0.25, 0.125, 0.125, 0.5, 0.625, 0.5, 0.5, 0.375, 0.625, 0.5, 0.375, 0.25, 0.5, 0.375, 0.375, 0.375, 0.75, 0.75, 0.5, 0.75, 0.375, 0.625, 0.25, 0.25, 0.75, 0.0, 0.375, 0.625, 0.625, 0.375, 0.125, 0.375, 0.625, 0.75, 0.25, 0.375, 0.375, 0.5, 0.625, 0.5, 0.5, 0.125, 0.25, 0.5, 0.5, 0.75, 0.375, 0.375, 0.625, 0.125, 0.75, 0.375, 0.5, 0.25, 0.125, 0.5, 0.375, 0.25, 0.5, 0.375, 0.25, 0.375, 0.375, 0.625, 0.5, 0.375, 0.625, 0.375, 0.25, 0.375, 0.625, 0.5, 0.5, 0.625, 0.5, 0.375, 0.625, 0.875, 0.375, 0.375, 0.375, 0.375, 0.125, 0.125, 0.625, 0.75, 0.375, 0.25, 0.375, 0.75, 0.5, 0.375, 0.75, 0.375, 0.375, 0.5, 0.625, 1.0, 0.5, 0.625, 0.75, 0.5, 0.75, 0.375, 0.375, 0.5, 0.75, 0.625, 0.375, 0.375, 0.5, 0.375, 1.0, 0.75, 0.625, 0.625, 0.375, 0.25, 0.5, 0.375, 0.5, 0.5, 0.875, 0.5, 0.75, 0.625, 0.625, 0.5, 0.5, 0.375, 0.5, 0.75, 0.25, 0.375, 0.5, 0.25, 0.375, 0.625, 0.25, 0.25, 0.75, 0.0, 0.625, 0.625, 0.25, 0.75, 0.5, 0.5, 0.5, 0.5, 0.75, 0.75, 0.375, 0.5, 0.25, 0.375, 0.375, 0.375, 0.5, 0.625, 0.5, 0.875, 0.625, 0.625, 0.875, 0.75, 0.625, 0.625, 0.125, 0.875, 0.375, 0.625, 0.875, 0.625, 0.5, 0.125, 0.375, 0.625, 0.375, 0.5, 0.625, 0.5, 0.25, 0.375, 0.75, 0.25, 0.5, 0.625, 0.5, 0.75, 0.375, 0.25, 0.5, 0.25, 0.5, 0.125, 0.0, 0.375, 0.625, 0.25, 0.5, 0.375, 0.75, 0.5, 0.375, 0.875, 0.5, 0.25, 0.625, 0.625, 0.625, 0.375, 0.375, 0.375, 0.5, 0.5, 0.75, 0.375, 0.5, 0.375, 0.5, 0.75, 0.5, 0.75, 0.625, 0.625, 0.375, 0.25, 0.375, 0.75, 0.625, 0.5, 0.375, 0.625, 0.75, 0.375, 0.625, 0.5, 0.625, 0.375, 0.375, 0.375, 0.5, 0.25, 0.25, 0.625, 0.375, 0.625, 0.25, 0.25, 0.25, 0.75, 0.75, 0.5, 0.375, 0.625, 0.375, 0.375, 0.25, 0.5, 0.625, 0.625, 0.5, 0.5, 0.5, 0.625, 0.5, 0.25, 0.375, 0.5, 0.375, 0.625, 0.375, 0.375, 0.375, 0.5, 0.5, 0.375, 0.25, 0.25, 0.375, 0.375, 0.25, 0.625, 0.375, 0.625, 0.5, 0.25, 0.625, 0.5, 0.5, 0.375, 0.375, 0.125, 0.5, 0.75, 0.75, 0.25, 0.625, 0.5, 0.5, 0.625, 0.75, 0.75, 0.5, 0.75, 0.375, 0.5, 0.625, 0.5, 0.625, 0.25, 0.625, 0.5, 0.625, 0.25, 0.0, 0.75, 0.75, 0.5, 0.5, 0.625, 0.625, 0.5, 0.125, 0.5, 0.5, 0.5, 0.375, 0.25, 0.5, 0.625, 0.625, 0.375, 0.625, 0.25, 0.625, 0.5, 0.5, 0.375, 0.625, 0.5, 0.625, 0.375, 0.5, 0.375, 0.375, 0.625, 0.625, 0.375, 0.375, 0.625, 0.5, 0.375, 0.625, 0.125, 0.375, 0.875, 0.5, 0.375, 0.625, 0.375, 0.5, 0.25, 0.625, 0.625, 0.875, 0.375, 0.375, 0.5, 0.125, 0.75, 0.5, 0.5, 0.375, 0.375, 0.25, 0.5, 0.5, 0.5, 0.375, 0.75, 0.75, 0.875, 0.5, 0.375, 0.625, 0.75, 0.625, 0.125, 0.5, 0.5, 0.25, 0.5, 0.625, 0.5, 0.5, 0.5, 0.375, 0.5, 0.625, 0.5, 0.625, 0.375, 0.25, 0.25, 0.625, 0.625, 0.375, 0.5, 0.5, 0.625, 0.625, 0.625, 0.5, 0.375, 0.375, 0.625, 0.75, 0.125, 0.25, 0.375, 0.625, 0.625, 0.625, 0.5, 0.625, 0.375, 0.5, 0.375, 0.125, 0.25, 0.25, 0.625, 0.375, 0.625, 0.5, 0.5, 0.25, 0.75, 0.625, 0.625, 0.375, 0.375, 0.75, 0.5, 0.75, 0.75, 0.375, 0.5, 0.25, 0.5, 0.625, 0.25, 0.5, 0.5, 0.5, 0.5, 0.625, 0.5, 0.375, 0.5, 0.25, 0.375, 0.75, 0.5, 0.625, 0.5, 0.25, 0.625, 0.5, 0.625, 0.5, 0.875, 0.5, 0.625, 0.25, 0.625, 0.5, 0.25, 0.25, 0.625, 0.5, 0.625, 0.375, 0.75, 0.625, 0.625, 0.375, 0.5, 0.5, 0.25, 0.25, 0.25, 0.375, 0.5, 0.5, 0.875, 0.375, 0.5, 0.75, 0.25, 0.625, 0.5, 0.625, 0.375, 0.625, 0.625, 0.375, 0.5, 0.375, 0.625, 0.5, 0.625, 0.625, 0.375, 0.625, 0.5, 0.375, 0.5, 0.5, 0.75, 0.375, 0.75, 0.625, 0.625, 0.5, 0.75, 0.5, 0.875, 0.75, 0.625, 0.375, 0.625, 0.875, 0.375, 0.25, 0.75, 0.625, 0.5, 0.5, 0.625, 0.625, 0.5, 0.5, 0.625, 0.75, 0.75, 0.875, 0.625, 0.375, 0.5, 0.25, 0.5, 0.625, 0.125, 0.625, 0.5, 0.625, 0.625, 0.375, 0.375, 0.625, 0.375, 0.625, 0.375, 0.5, 0.25, 0.375, 0.25, 0.625, 0.5, 0.5, 0.75, 0.625, 0.75, 0.375, 0.75, 0.375, 0.75, 0.625, 0.5, 0.625, 0.5, 0.625, 0.25, 0.625, 0.875, 0.875, 0.625, 0.75, 0.375, 0.625, 0.375, 0.625, 0.625, 0.375, 0.75, 0.375, 0.25, 0.375, 0.375, 0.375, 0.375, 0.625, 0.5, 0.5, 0.5, 0.75, 0.625, 0.625, 0.25, 0.375, 0.625, 0.375, 0.5, 0.5, 0.5, 0.25, 0.875, 0.75, 0.375, 0.125, 0.375, 0.375, 0.5, 0.5, 0.5, 0.5, 0.375, 0.5, 0.5, 0.375, 0.5, 0.25, 0.625, 0.625, 0.375, 0.75, 0.125, 0.5, 0.5, 0.5, 0.5, 0.625, 0.625, 0.75, 0.125, 0.5, 0.75, 0.625, 0.375, 0.5, 0.5, 0.75, 0.5, 0.5, 0.25, 0.125, 0.625, 0.625, 0.25, 0.375, 0.5, 0.625, 0.25, 0.25, 0.875, 0.5, 0.5, 0.375, 0.375, 0.625, 0.5, 0.875, 0.125, 0.75, 0.5, 0.375, 0.625, 0.625, 0.5, 0.625, 0.5, 0.75, 0.5, 0.5, 0.375, 0.625, 0.75, 0.75, 0.25, 0.25, 0.625, 0.375, 0.375, 0.875, 0.75, 0.25, 0.625, 0.375, 0.5, 0.25, 0.375, 0.25, 0.375, 0.75, 0.375, 0.5, 0.625, 0.625, 0.625, 0.5, 0.625, 0.25, 0.25, 0.625, 0.25, 0.875, 0.5, 0.5, 0.25, 0.625, 0.625, 0.5, 0.625, 0.625, 0.5, 0.625, 0.875, 0.75, 0.625, 0.5, 0.625, 0.5, 0.625, 0.25, 0.5, 0.75, 0.625, 0.75, 0.5, 0.375, 0.375, 0.375, 0.625, 0.625, 0.5, 0.625, 0.5, 0.625, 0.625, 0.5, 0.125, 0.375, 0.5, 0.5, 0.5, 0.625, 0.25, 0.5, 0.75, 0.5, 0.25, 0.5, 0.125, 0.5, 0.5, 0.25, 0.125, 0.5, 0.625, 0.5, 0.375, 0.625, 0.625, 0.875, 0.625, 0.75, 0.625, 0.625, 0.5, 0.625, 0.875, 0.5, 0.75, 0.5, 0.5, 0.375, 0.375, 0.375, 0.5, 0.5, 0.75, 0.625, 0.25, 0.625, 0.375, 0.625, 0.625, 0.25, 0.625, 0.75, 0.25, 0.5, 0.375, 0.5, 0.375, 0.375, 0.75, 0.625, 0.75, 0.5, 0.625, 0.625, 0.5, 0.625, 0.5, 0.5, 0.5, 0.5, 0.625, 0.5, 0.375, 0.625, 0.375, 0.625, 0.375, 0.5, 0.25, 0.5, 0.25, 0.5, 0.25, 0.375, 0.375, 0.625, 0.5, 0.625, 0.625, 0.5, 0.5, 0.625, 0.625, 0.625, 0.375, 0.5, 0.5, 0.375, 0.5, 0.5, 0.625, 0.25, 0.5, 0.5, 0.375, 0.5, 0.875, 0.625, 0.375, 0.625, 0.625, 0.75, 0.875, 0.375, 0.875, 0.625, 0.75, 0.375, 0.5, 0.75, 0.375, 0.5, 0.625, 0.375, 0.375, 0.375, 0.5, 0.5, 0.75, 0.5, 0.5, 0.375, 0.375, 0.5, 0.5, 0.75, 0.25, 0.375, 1.0, 0.625, 0.25, 0.625, 0.375, 0.5, 0.125, 0.5, 0.5, 0.375, 0.5, 0.5, 0.5, 0.625, 0.5, 0.625, 0.375, 0.375, 0.5, 0.75, 0.75, 0.625, 0.875, 0.375, 0.375, 0.375, 0.125, 0.625, 0.5, 0.125, 0.75, 0.25, 0.625, 0.5, 0.375, 0.375, 0.625, 0.5, 0.5, 0.75, 0.0, 0.625, 0.375, 0.375, 0.25, 0.375, 0.375, 0.625, 0.375, 0.25, 0.5, 0.5, 0.625, 0.625, 0.5, 0.5, 0.5, 0.25, 0.625, 0.625, 0.5, 0.625, 0.25, 0.875, 0.375, 0.5, 0.25, 0.5, 0.625, 0.625, 0.625, 0.5, 1.0, 0.625, 0.375, 0.5, 0.625, 0.625, 0.75, 0.25, 0.625, 0.5, 0.25, 0.5, 0.625, 0.625, 0.75, 0.5, 0.5, 0.5, 0.5, 0.5, 0.375, 0.5, 0.375, 0.625, 0.625, 0.375, 0.625, 0.375, 0.625, 0.75, 0.25, 0.625, 0.375, 0.75, 0.75, 0.125, 0.25, 0.625, 0.375, 0.25, 0.5, 0.25, 0.625, 0.625, 0.375, 0.25, 0.25, 0.625, 0.5, 0.375, 0.5, 0.625, 0.375, 0.75, 0.5, 0.625, 1.0, 0.375, 0.875, 0.375, 0.75, 0.25, 0.5, 0.5, 0.375, 0.25, 0.5, 0.5, 0.25, 0.5, 0.625, 0.375, 0.5, 0.5, 0.5, 0.5, 0.375, 0.375, 0.625, 0.5, 0.25, 0.5, 0.25, 0.5, 0.25, 0.375, 0.375, 0.5, 0.75, 0.375, 0.375, 0.25, 0.25, 0.75, 0.5, 0.5, 0.5, 0.125, 0.375, 0.5, 0.75, 0.5, 0.625, 0.5, 0.5, 0.625, 0.5, 0.5, 0.5, 0.375, 0.625, 0.5, 0.625, 0.625, 1.0, 0.375, 0.375, 0.375, 0.5, 0.625, 0.25, 0.375, 0.375, 0.375, 0.5, 0.5, 0.875, 0.625, 0.5, 0.5, 0.25, 0.625, 0.25, 0.25, 0.5, 0.125, 0.625, 0.5, 0.25, 0.625, 0.625, 0.25, 0.375, 0.375, 0.5, 0.5, 0.375, 0.375, 0.625, 0.5, 0.5, 0.25, 0.375, 0.5, 0.375, 0.125, 0.375, 0.375, 0.625, 0.5, 0.375, 0.25, 0.375, 0.375, 0.375, 0.625, 0.5, 0.5, 0.375, 0.5, 0.25, 0.375, 0.75, 0.625, 0.625, 0.625, 0.5, 0.625, 0.625, 0.625, 0.25, 0.25, 0.75, 0.625, 0.375, 0.625, 0.875, 0.625, 0.375, 0.25, 0.75, 0.25, 0.75, 0.625, 0.5, 0.375, 0.5, 0.625, 0.5, 0.5, 0.625, 0.5, 0.75, 0.5, 0.5, 0.75, 0.625, 0.5, 0.375, 0.5, 0.25, 0.625, 0.375, 0.0, 0.75, 0.375, 0.25, 0.5, 0.5, 0.625, 0.375, 0.625, 0.75, 0.375, 0.375, 0.25, 0.25, 0.75, 0.5, 0.75, 0.25, 0.5, 0.375, 0.375, 0.375, 0.375, 0.5, 0.75, 0.625, 0.25, 0.5, 0.5, 0.5, 0.375, 0.625, 0.625, 0.625, 0.625, 0.5, 0.5, 0.5, 0.375, 0.5, 0.5, 0.25, 0.75, 0.375, 0.5, 0.625, 0.125, 0.5, 0.5, 0.375, 0.625, 0.375, 0.25, 0.125, 0.375, 0.625, 1.0, 0.625, 0.625, 0.0, 0.375, 0.5, 0.75, 0.375, 0.5, 0.25, 0.125, 0.625, 0.75, 0.375, 0.25, 0.75, 0.625, 0.625, 0.25, 0.375, 0.625, 0.375, 0.375, 0.625, 0.25, 0.375, 0.5, 0.25, 0.75, 0.5, 0.5, 0.625, 0.625, 0.5, 0.25, 0.75, 0.5, 0.625, 0.5, 0.25, 0.75, 0.5, 0.25, 0.75, 0.625, 0.25, 0.75, 0.375, 0.625, 0.5, 0.625, 0.5, 0.375, 0.75, 0.5, 0.375, 0.375, 0.5, 0.625, 0.625, 0.25, 0.625, 0.75, 0.375, 0.625, 0.5, 0.75, 0.5, 0.875, 0.375, 0.625, 0.625, 0.625, 0.125, 0.5, 0.5, 0.5, 0.25, 0.25, 0.375, 0.5, 0.375, 0.625, 0.25, 0.75, 0.5, 0.625, 0.625, 0.5, 0.5, 0.625, 0.625, 0.25, 0.5, 0.625, 0.375, 0.625, 0.125, 0.625, 0.375, 0.625, 0.25, 0.75, 0.75, 0.5, 0.375, 0.625, 0.5, 0.5, 0.625, 0.375, 0.25, 0.5, 0.5, 0.625, 0.5, 0.625, 0.625, 0.75, 0.625, 0.5, 0.5, 1.0, 0.5, 0.375, 0.625, 0.875, 0.125, 0.25, 0.5, 0.375, 0.25, 0.5, 0.625, 0.5, 0.5, 0.5, 0.375, 0.5, 0.125, 0.25, 0.375, 0.375, 0.75, 0.375, 0.625, 0.75, 0.75, 1.0, 0.5, 0.625, 0.375, 0.375, 0.625, 0.625, 0.25, 0.75, 0.625, 0.25, 0.625, 0.625, 0.5, 0.375, 0.5, 0.625, 0.5, 0.625, 0.375, 0.375, 0.5, 0.375, 0.625, 0.375, 0.375, 0.25, 0.5, 0.5, 0.5, 0.75, 0.375, 0.75, 0.875, 0.25, 0.5, 0.25, 0.625, 0.25, 0.375, 0.75, 0.25, 0.5, 0.25, 0.375, 0.5, 0.375, 0.5, 0.5, 0.75, 0.375, 0.625, 0.375, 0.375, 0.375, 0.25, 0.75, 0.5, 0.375, 0.375, 0.875, 0.625, 0.625, 0.25, 0.375, 0.625, 0.5, 0.5, 0.25, 0.125, 0.125, 0.625, 0.625, 0.5, 0.25, 0.5, 0.25, 0.625, 0.25, 0.5, 0.375, 0.5, 0.625, 0.75, 0.125, 0.5, 0.25, 0.5, 0.25, 0.625, 0.625, 0.5, 0.5, 0.375, 0.625, 0.5, 0.25, 0.875, 0.625, 0.75, 0.625, 0.625, 0.5, 0.25, 0.375, 0.625, 0.625, 0.5, 0.375, 0.375, 0.625, 0.25, 0.625, 0.5, 0.625, 0.625, 0.875, 0.25, 0.375, 0.625, 0.375, 0.625, 0.5, 0.25, 0.25, 0.25, 0.25, 0.75, 0.75, 0.875, 0.375, 0.375, 0.375, 0.625, 0.375, 0.5, 0.5, 0.5, 0.25, 0.5, 0.5, 0.375, 0.25, 0.5, 0.5, 0.875, 0.5, 0.5, 0.375, 0.625, 0.375, 0.75, 0.75, 0.5, 0.625, 0.375, 0.375, 0.5, 0.375, 0.625, 0.5, 0.25, 0.5, 0.5, 0.75, 0.875, 0.625, 0.25, 0.375, 0.375, 0.625, 0.75, 0.5, 0.25, 0.375, 0.5, 0.625, 0.5, 0.25, 0.5, 0.625, 0.25, 0.5, 0.5, 0.625, 0.625, 0.375, 0.875, 0.625, 0.375, 0.25, 0.625, 0.625, 0.5, 0.75, 0.625, 0.5, 0.375, 0.5, 0.5, 0.5, 0.375, 0.625, 0.75, 0.625, 0.5, 0.5, 0.75, 0.5, 0.375, 0.375, 0.5, 0.125, 0.25, 0.5, 0.375, 0.5, 0.375, 0.375, 0.5, 0.75, 0.75, 0.625, 0.5, 0.5, 0.375, 0.625, 0.125, 0.5, 0.625, 0.25, 0.375, 0.875, 0.5, 0.625, 0.5, 0.75, 0.75, 0.375, 0.625, 0.625, 0.5, 0.5, 0.5, 0.625, 0.25, 0.625, 0.75, 0.625, 0.5, 0.375, 0.625, 0.375, 0.75, 0.75, 0.25, 0.5, 0.625, 0.25, 0.875, 0.75, 0.625, 0.375, 0.375, 0.625, 0.5, 0.5, 0.5, 0.875, 0.25, 0.625, 0.5, 0.5, 0.375, 0.625, 0.5, 0.875, 0.625, 0.625, 0.75, 0.125, 0.75, 0.25, 0.75, 0.25, 0.625, 0.5, 0.25, 0.5, 0.375, 0.5, 0.25, 0.75, 0.5, 0.625, 0.375, 0.625, 0.375, 0.625, 0.625, 0.5, 0.625, 0.5, 0.375, 0.5, 0.375, 0.375, 0.5, 0.375, 0.5, 0.5, 0.375, 0.625, 0.25, 0.125, 0.875, 0.5, 0.625, 0.625, 0.125, 0.5, 0.875, 0.5, 0.375, 0.5, 0.75, 0.375, 0.625, 0.375, 0.375, 0.25, 0.75, 0.75, 0.5, 0.375, 0.75, 0.5, 0.5, 0.5, 0.375, 0.125, 0.625, 0.5, 0.5, 0.375, 0.375, 0.75, 0.5, 0.625, 0.625, 0.375, 0.75, 0.375, 0.5, 0.25, 0.625, 0.5, 0.5, 0.375, 0.375, 0.75, 1.0, 0.5, 0.375, 0.625, 0.375, 0.5, 0.5, 0.375, 0.25, 0.5, 0.5, 0.625, 0.5, 0.375, 0.75, 0.5, 0.75, 0.625, 0.25, 0.5, 0.5, 0.625, 0.375, 0.5, 0.5, 0.625, 0.875, 0.375, 0.625, 0.5, 0.5, 0.5, 0.375, 0.25, 0.375, 0.375, 0.375, 0.375, 0.625, 0.625, 0.125, 0.375, 0.375, 0.625, 0.5, 0.5, 0.25, 0.5, 0.625, 0.25, 0.625, 0.5, 0.625, 0.375, 0.375, 0.5, 0.625, 0.5, 0.375, 0.625, 0.75, 0.625, 0.625, 0.5, 0.5, 0.625, 0.25, 0.5, 0.75, 0.625, 0.75, 0.75, 0.25, 0.5, 0.625, 0.5, 0.5, 0.5, 0.75, 0.375, 0.375, 0.5, 0.75, 0.5, 0.25, 0.375, 1.0, 0.875, 0.375, 0.75, 0.625, 0.125, 0.25, 0.625, 0.5, 0.5, 0.375, 0.75, 0.875, 0.5, 0.625, 0.375, 0.625, 0.25, 0.5, 0.5, 0.625, 0.5, 0.625, 0.5, 0.375, 0.75, 0.625, 0.625, 0.375, 0.5, 0.5, 0.5, 0.375, 0.375, 0.5, 0.25, 0.375, 0.5, 0.5, 0.625, 0.75, 0.375, 0.625, 0.375, 0.5, 0.25, 0.5, 0.625, 0.5, 0.125, 0.25, 0.25, 0.625, 0.375, 0.625, 0.625, 0.25, 0.25, 0.25, 0.375, 0.5, 0.625, 0.625, 0.5, 0.75, 0.5, 0.875, 0.625, 0.5, 0.375, 0.5, 0.75, 0.625, 0.875, 0.5, 0.375, 0.75, 0.75, 0.5, 0.625, 0.75, 0.625, 0.625, 0.625, 0.625, 0.5, 0.75, 0.625, 0.5, 0.375, 0.375, 0.5, 0.5, 0.25, 0.375, 0.5, 0.5, 0.125, 0.25, 0.5, 0.625, 0.375, 0.625, 0.375, 0.25, 0.5, 0.375, 0.75, 0.875, 0.5, 0.375, 0.375, 0.625, 0.5, 0.375, 0.25, 0.625, 0.375, 0.375, 0.125, 0.625, 0.75, 0.5, 0.25, 0.75, 0.5, 0.375, 0.625, 0.625, 0.5, 0.625, 0.625, 0.5, 0.75, 0.375, 0.625, 0.875, 0.5, 0.625, 0.5, 0.625, 0.75, 0.625, 0.875, 0.5, 0.75, 0.5, 0.5, 0.625, 0.125, 0.75, 0.375, 0.625, 0.375, 0.75, 0.75, 0.375, 0.375, 0.375, 0.625, 0.375, 0.25, 0.75, 0.375, 0.375, 0.625, 0.375, 0.375, 0.25, 0.75, 0.625, 0.625, 0.5, 0.25, 0.5, 0.5, 0.375, 0.5, 0.5, 0.5, 0.125, 0.75, 0.5, 0.875, 0.5, 0.5, 0.625, 0.5, 0.625, 0.75, 0.375, 0.75, 0.625, 0.5, 0.625, 0.375, 0.625, 0.75, 0.625, 0.75, 0.375, 0.75, 0.375, 0.375, 0.5, 0.75, 0.5, 0.5, 0.5, 0.5, 0.375, 0.625, 0.625, 0.375, 0.375, 0.875, 0.375, 0.5, 0.625, 0.375, 0.5, 0.5, 0.5, 0.375, 0.5, 0.25, 0.375, 0.625, 0.375, 0.5, 0.625, 0.75, 0.625, 0.5, 0.625, 0.25, 0.5, 0.375, 0.5, 0.375, 0.625, 0.625, 0.625, 0.75, 0.25, 0.375, 0.375, 0.375, 0.75, 0.375, 0.625, 0.625, 0.625, 0.75, 0.25, 0.75, 0.625, 0.375, 0.125, 0.375, 0.25, 0.75, 0.625, 0.25, 0.25, 0.5, 0.25, 0.375, 0.375, 0.25, 0.5, 0.5, 0.375, 0.375, 0.625, 0.875, 0.5, 0.0, 0.5, 0.625, 0.625, 0.125, 0.5, 0.375, 0.625, 0.625, 0.375, 0.375, 0.5, 0.125, 0.5, 0.625, 0.25, 0.375, 0.625, 0.625, 0.75, 0.5, 0.625, 0.625, 0.5, 0.875, 0.75, 0.5, 0.625, 0.625, 0.625, 0.375, 0.375, 0.25, 0.25, 0.625, 0.5, 0.375, 0.5, 0.0, 0.5, 0.375, 0.375, 0.625, 0.875, 0.125, 0.375, 0.375, 0.5, 0.625, 0.5, 0.5, 0.5, 0.375, 0.375, 0.375, 0.375, 0.5, 0.5, 0.375, 0.75, 0.5, 0.25, 0.75, 0.625, 0.5, 0.625, 0.25, 0.375, 0.625, 0.75, 0.5, 0.375, 0.5, 0.25, 0.25, 0.375, 0.375, 0.625, 0.375, 0.5, 0.625, 0.875, 0.875, 0.25, 0.25, 0.625, 0.625, 0.375, 0.5, 0.25, 0.75, 0.375, 0.625, 0.625, 0.5, 0.625, 0.75, 0.375, 0.5, 0.375, 0.375, 0.5, 0.25, 0.5, 0.25, 0.5, 0.5, 0.375, 0.375, 0.375, 0.5, 0.625, 0.5, 0.625, 0.5, 0.25, 0.75, 0.5, 0.625, 0.375, 0.5, 0.5, 0.625, 0.625, 0.75, 0.375, 0.5, 0.75, 0.5, 0.375, 0.25, 0.25, 0.5, 0.25, 0.625, 0.625, 0.875, 0.25, 0.875, 0.75, 0.5, 0.5, 0.5, 0.875, 0.375, 0.5, 0.625, 0.5, 0.625, 0.625, 0.375, 0.875, 0.5, 0.5, 0.25, 0.375, 0.625, 0.25, 0.25, 0.5, 0.5, 0.625, 0.5, 0.875, 0.375, 0.5, 0.5, 0.625, 0.5, 0.5, 0.125, 0.375, 0.5, 0.5, 0.375, 0.5, 0.625, 0.625, 0.375, 0.5, 0.25, 0.5, 0.5, 0.875, 0.75, 0.375, 0.25, 0.375, 0.75, 0.375, 0.5, 0.625, 0.625, 0.625, 0.0, 0.5, 0.5, 0.5, 0.75, 0.5, 0.625, 0.625, 0.5, 0.375, 0.5, 0.25, 0.625, 0.625, 0.625, 0.375, 0.25, 0.375, 0.625, 0.375, 0.625, 0.5, 0.75, 0.625, 0.375, 0.125, 0.5, 0.25, 0.375, 0.375, 0.25, 0.5, 0.375, 0.5, 0.25, 0.5, 0.5, 0.75, 0.375, 0.5, 0.75, 0.75, 0.5, 0.75, 0.5, 0.5, 0.5, 0.375, 0.125, 0.625, 0.5, 0.375, 0.75, 0.625, 0.75, 0.375, 0.5, 0.25, 0.375, 0.625, 0.75, 0.25, 0.375, 0.625, 0.5, 0.5, 0.375, 0.625, 0.5, 0.625, 0.5, 0.375, 0.5, 0.5, 0.625, 0.5, 0.625, 0.75, 0.125, 0.75, 0.375, 0.375, 0.625, 0.625, 0.25, 0.625, 0.75, 0.625, 0.5, 0.375, 0.75, 0.5, 0.25, 0.25, 0.5, 0.125, 0.5, 0.25, 0.5, 1.0, 0.25, 0.5, 0.5, 0.25, 0.375, 0.25, 0.375, 0.375, 0.25, 0.5, 0.75, 0.25, 0.625, 0.625, 0.75, 0.625, 0.625, 0.375, 0.625, 0.625, 0.625, 0.125, 0.75, 0.75, 0.375, 0.75, 0.25, 0.375, 0.5, 0.25, 0.375, 0.5, 0.375, 0.625, 0.75, 0.875, 0.875, 0.625, 0.5, 0.375, 0.375, 0.5, 0.5, 0.375, 0.5, 0.375, 0.625, 0.375, 0.625, 0.375, 0.5, 0.75, 0.625, 0.75, 0.5, 0.625, 0.625, 0.75, 0.875, 0.625, 0.25, 0.625, 0.625, 0.25, 0.25, 0.375, 0.625, 0.25, 0.625, 0.75, 0.25, 0.625, 0.375, 0.5, 0.75, 0.5, 0.25, 0.75, 0.375, 0.625, 0.375, 0.5, 0.375, 0.375, 0.5, 0.625, 0.125, 0.625, 0.25, 0.5, 0.375, 0.125, 0.5, 0.5, 0.5, 0.25, 0.75, 0.25, 0.875, 0.375, 0.5, 0.625, 0.25, 0.625, 0.5, 0.5, 0.5, 0.5, 0.875, 0.5, 0.625, 0.5, 0.375, 0.625, 0.375, 0.375, 0.5, 0.75, 0.625, 0.5, 0.625, 0.5, 0.5, 0.625, 0.375, 0.375, 0.5, 0.625, 0.25, 0.75, 0.5, 0.625, 0.5, 0.625, 0.375, 0.625, 0.375, 0.5, 0.875, 0.375, 0.75, 0.375, 0.625, 0.625, 0.625, 0.875, 0.625, 0.25, 0.5, 0.5, 0.375, 0.125, 0.5, 0.875, 0.25, 0.625, 0.5, 0.375, 0.5, 0.25, 0.625, 0.5, 0.5, 0.5, 0.25, 0.25, 0.25, 0.5, 0.625, 0.25, 0.625, 0.625, 0.375, 0.5, 0.5, 0.25, 0.625, 0.25, 0.5, 0.5, 0.375, 0.5, 0.625, 0.5, 0.375, 0.625, 0.625, 0.75, 0.25, 0.75, 0.5, 0.375, 1.0, 0.375, 0.625, 0.625, 0.375, 0.5, 0.375, 0.5, 0.25, 0.375, 0.5, 0.25, 0.5, 0.25, 0.625, 0.625, 0.375, 0.375, 0.375, 0.125, 0.5, 0.625, 0.5, 0.5, 0.75, 0.75, 0.0, 0.375, 0.375, 0.25, 0.375, 0.125, 0.5, 0.375, 0.5, 0.375, 0.25, 0.75, 0.25, 0.625, 0.375, 0.75, 0.375, 0.625, 0.375, 0.375, 0.5, 0.625, 0.5, 0.375, 0.375, 0.625, 0.5, 0.25, 0.5, 0.625, 0.625, 0.5, 0.625, 0.375, 0.125, 0.5, 0.5, 0.625, 0.625, 0.625, 0.5, 0.625, 0.75, 0.625, 0.375, 0.5, 0.5, 0.625, 0.375, 0.375, 0.5, 0.625, 0.5, 0.375, 0.5, 0.375, 0.75, 0.5, 0.375, 0.75, 0.25, 0.625, 0.5, 0.375, 0.5, 0.375, 0.625, 0.25, 0.5, 0.375, 0.375, 0.75, 0.5, 0.375, 0.375, 0.375, 0.5, 0.5, 0.25, 0.5, 0.25, 0.75, 0.5, 0.25, 0.375, 0.75, 0.5, 0.5, 0.5, 0.125, 0.75, 0.75, 0.375, 0.375, 0.5, 0.5, 0.25, 0.5, 0.25, 0.625, 0.25, 0.75, 0.75, 0.25, 0.375, 1.0, 0.625, 0.625, 0.75, 0.5, 0.5, 0.5, 0.25, 0.5, 0.5, 0.375, 0.5, 0.5, 0.5, 0.125, 0.625, 0.75, 0.75, 0.375]\n"
          ],
          "name": "stdout"
        }
      ]
    },
    {
      "cell_type": "code",
      "metadata": {
        "id": "rfeA06evOT2K",
        "colab_type": "code",
        "outputId": "1d25e0f9-a2c2-4edd-f091-f4e5bdd87c0f",
        "colab": {
          "base_uri": "https://localhost:8080/",
          "height": 206
        }
      },
      "source": [
        "df = pd.DataFrame({'single_sample': one_sample})\n",
        "df.head()"
      ],
      "execution_count": 37,
      "outputs": [
        {
          "output_type": "execute_result",
          "data": {
            "text/html": [
              "<div>\n",
              "<style scoped>\n",
              "    .dataframe tbody tr th:only-of-type {\n",
              "        vertical-align: middle;\n",
              "    }\n",
              "\n",
              "    .dataframe tbody tr th {\n",
              "        vertical-align: top;\n",
              "    }\n",
              "\n",
              "    .dataframe thead th {\n",
              "        text-align: right;\n",
              "    }\n",
              "</style>\n",
              "<table border=\"1\" class=\"dataframe\">\n",
              "  <thead>\n",
              "    <tr style=\"text-align: right;\">\n",
              "      <th></th>\n",
              "      <th>single_sample</th>\n",
              "    </tr>\n",
              "  </thead>\n",
              "  <tbody>\n",
              "    <tr>\n",
              "      <th>0</th>\n",
              "      <td>0</td>\n",
              "    </tr>\n",
              "    <tr>\n",
              "      <th>1</th>\n",
              "      <td>0</td>\n",
              "    </tr>\n",
              "    <tr>\n",
              "      <th>2</th>\n",
              "      <td>1</td>\n",
              "    </tr>\n",
              "    <tr>\n",
              "      <th>3</th>\n",
              "      <td>0</td>\n",
              "    </tr>\n",
              "    <tr>\n",
              "      <th>4</th>\n",
              "      <td>1</td>\n",
              "    </tr>\n",
              "  </tbody>\n",
              "</table>\n",
              "</div>"
            ],
            "text/plain": [
              "   single_sample\n",
              "0              0\n",
              "1              0\n",
              "2              1\n",
              "3              0\n",
              "4              1"
            ]
          },
          "metadata": {
            "tags": []
          },
          "execution_count": 37
        }
      ]
    },
    {
      "cell_type": "code",
      "metadata": {
        "id": "GlMSNFX6OmBV",
        "colab_type": "code",
        "outputId": "cf356663-1617-4f9b-981b-25cbfac3cbc4",
        "colab": {
          "base_uri": "https://localhost:8080/",
          "height": 281
        }
      },
      "source": [
        "df.single_sample.hist();\n",
        "plt.title('Distribution of 1 sample of 100 coinflips');"
      ],
      "execution_count": 38,
      "outputs": [
        {
          "output_type": "display_data",
          "data": {
            "image/png": "[encoded data removed]",
            "text/plain": [
              "<Figure size 432x288 with 1 Axes>"
            ]
          },
          "metadata": {
            "tags": []
          }
        }
      ]
    },
    {
      "cell_type": "code",
      "metadata": {
        "id": "Jie4ypgLOs5M",
        "colab_type": "code",
        "outputId": "0a3eef10-c937-44b6-ec65-ef38ae79a101",
        "colab": {
          "base_uri": "https://localhost:8080/",
          "height": 296
        }
      },
      "source": [
        "ax = plt.hist(sample_means, bins=10)\n",
        "plt.title('Distribution of 3000 sample means \\n (of 8 coinflips each)');"
      ],
      "execution_count": 40,
      "outputs": [
        {
          "output_type": "display_data",
          "data": {
            "image/png": "[encoded data removed]",
            "text/plain": [
              "<Figure size 432x288 with 1 Axes>"
            ]
          },
          "metadata": {
            "tags": []
          }
        }
      ]
    },
    {
      "cell_type": "markdown",
      "metadata": {
        "id": "LsEAjc4rOylm",
        "colab_type": "text"
      },
      "source": [
        "What does the Central Limit Theorem State? That no matter the initial distribution of the population, the distribution of sample means taken will approximate a normal distribution as $n \\rightarrow \\infty$.\n",
        "\n",
        "This has very important implications for hypothesis testing and is precisely the reason why the t-distribution begins to approximate the normal distribution as our sample size increases. "
      ]
    },
    {
      "cell_type": "code",
      "metadata": {
        "id": "F15l-J788ApQ",
        "colab_type": "code",
        "outputId": "5abc3723-f226-4940-b5a6-b9e08b1cd875",
        "colab": {
          "base_uri": "https://localhost:8080/",
          "height": 74
        }
      },
      "source": [
        "sample_means_small = []\n",
        "sample_means_large = []\n",
        "for x in range(0,3000):\n",
        "  coinflips_small = np.random.binomial(n=1, p=.5, size=20)\n",
        "  coinflips_large = np.random.binomial(n=1, p=.5, size=100)\n",
        "  one_small_sample = coinflips_small\n",
        "  one_large_sample = coinflips_large\n",
        "  sample_means_small.append(coinflips_small.mean())\n",
        "  sample_means_large.append(coinflips_large.mean())\n",
        "\n",
        "print(len(sample_means_small))\n",
        "print(sample_means_small)"
      ],
      "execution_count": 41,
      "outputs": [
        {
          "output_type": "stream",
          "text": [
            "3000\n",
            "[0.4, 0.35, 0.45, 0.75, 0.7, 0.55, 0.4, 0.75, 0.55, 0.55, 0.6, 0.6, 0.35, 0.55, 0.3, 0.5, 0.6, 0.6, 0.5, 0.45, 0.6, 0.6, 0.5, 0.4, 0.35, 0.5, 0.55, 0.5, 0.4, 0.45, 0.6, 0.7, 0.3, 0.65, 0.55, 0.55, 0.55, 0.6, 0.65, 0.4, 0.45, 0.5, 0.45, 0.4, 0.65, 0.5, 0.55, 0.5, 0.45, 0.4, 0.6, 0.65, 0.5, 0.55, 0.45, 0.7, 0.6, 0.4, 0.55, 0.45, 0.45, 0.4, 0.5, 0.45, 0.65, 0.55, 0.3, 0.55, 0.5, 0.3, 0.3, 0.65, 0.4, 0.5, 0.5, 0.6, 0.45, 0.75, 0.45, 0.35, 0.65, 0.5, 0.3, 0.6, 0.8, 0.65, 0.4, 0.65, 0.5, 0.65, 0.45, 0.35, 0.6, 0.55, 0.8, 0.45, 0.4, 0.4, 0.35, 0.55, 0.55, 0.7, 0.45, 0.5, 0.6, 0.55, 0.5, 0.5, 0.35, 0.5, 0.4, 0.5, 0.5, 0.4, 0.45, 0.6, 0.4, 0.6, 0.4, 0.45, 0.45, 0.4, 0.55, 0.6, 0.45, 0.5, 0.45, 0.3, 0.35, 0.7, 0.45, 0.6, 0.55, 0.55, 0.5, 0.25, 0.4, 0.4, 0.65, 0.5, 0.5, 0.3, 0.7, 0.55, 0.5, 0.7, 0.55, 0.6, 0.5, 0.55, 0.6, 0.5, 0.45, 0.5, 0.4, 0.45, 0.6, 0.65, 0.5, 0.6, 0.7, 0.6, 0.4, 0.5, 0.6, 0.65, 0.55, 0.5, 0.45, 0.55, 0.35, 0.6, 0.4, 0.45, 0.55, 0.45, 0.45, 0.5, 0.2, 0.4, 0.55, 0.6, 0.45, 0.55, 0.6, 0.5, 0.35, 0.3, 0.65, 0.75, 0.55, 0.75, 0.35, 0.35, 0.6, 0.55, 0.45, 0.65, 0.3, 0.55, 0.55, 0.45, 0.5, 0.55, 0.45, 0.4, 0.4, 0.6, 0.5, 0.6, 0.5, 0.65, 0.5, 0.55, 0.4, 0.6, 0.45, 0.55, 0.45, 0.6, 0.3, 0.55, 0.4, 0.3, 0.55, 0.65, 0.4, 0.5, 0.4, 0.5, 0.35, 0.3, 0.45, 0.65, 0.55, 0.5, 0.6, 0.35, 0.35, 0.6, 0.35, 0.4, 0.6, 0.35, 0.45, 0.4, 0.45, 0.4, 0.5, 0.25, 0.25, 0.35, 0.65, 0.6, 0.4, 0.35, 0.55, 0.3, 0.4, 0.5, 0.55, 0.6, 0.4, 0.45, 0.25, 0.65, 0.6, 0.4, 0.5, 0.4, 0.55, 0.5, 0.5, 0.5, 0.5, 0.55, 0.45, 0.45, 0.4, 0.65, 0.55, 0.6, 0.55, 0.35, 0.7, 0.35, 0.45, 0.4, 0.5, 0.55, 0.5, 0.45, 0.6, 0.5, 0.65, 0.45, 0.3, 0.45, 0.35, 0.65, 0.45, 0.35, 0.5, 0.7, 0.55, 0.45, 0.35, 0.45, 0.55, 0.35, 0.55, 0.5, 0.65, 0.45, 0.7, 0.55, 0.5, 0.4, 0.45, 0.45, 0.4, 0.5, 0.55, 0.7, 0.45, 0.55, 0.5, 0.45, 0.7, 0.5, 0.55, 0.45, 0.5, 0.55, 0.5, 0.55, 0.4, 0.5, 0.5, 0.4, 0.55, 0.35, 0.6, 0.7, 0.55, 0.6, 0.65, 0.65, 0.6, 0.3, 0.4, 0.55, 0.5, 0.65, 0.6, 0.35, 0.35, 0.5, 0.55, 0.65, 0.6, 0.7, 0.15, 0.4, 0.5, 0.35, 0.55, 0.7, 0.3, 0.3, 0.6, 0.45, 0.3, 0.55, 0.6, 0.55, 0.45, 0.6, 0.55, 0.35, 0.35, 0.3, 0.55, 0.55, 0.4, 0.55, 0.4, 0.45, 0.6, 0.3, 0.4, 0.5, 0.45, 0.45, 0.4, 0.5, 0.35, 0.5, 0.6, 0.55, 0.6, 0.55, 0.5, 0.6, 0.45, 0.5, 0.25, 0.7, 0.4, 0.45, 0.3, 0.65, 0.6, 0.45, 0.45, 0.35, 0.45, 0.35, 0.5, 0.6, 0.7, 0.6, 0.5, 0.45, 0.2, 0.45, 0.35, 0.6, 0.55, 0.55, 0.4, 0.5, 0.6, 0.6, 0.55, 0.55, 0.55, 0.45, 0.45, 0.65, 0.5, 0.5, 0.35, 0.65, 0.55, 0.35, 0.45, 0.7, 0.6, 0.35, 0.55, 0.65, 0.65, 0.4, 0.45, 0.4, 0.45, 0.65, 0.4, 0.65, 0.4, 0.4, 0.65, 0.55, 0.6, 0.4, 0.6, 0.45, 0.55, 0.35, 0.3, 0.55, 0.35, 0.5, 0.5, 0.5, 0.55, 0.45, 0.35, 0.45, 0.5, 0.55, 0.55, 0.45, 0.65, 0.65, 0.35, 0.4, 0.55, 0.45, 0.5, 0.55, 0.35, 0.55, 0.45, 0.35, 0.55, 0.45, 0.6, 0.4, 0.6, 0.75, 0.45, 0.55, 0.55, 0.5, 0.65, 0.25, 0.55, 0.5, 0.45, 0.6, 0.65, 0.65, 0.55, 0.6, 0.5, 0.55, 0.65, 0.45, 0.45, 0.6, 0.5, 0.3, 0.6, 0.25, 0.4, 0.55, 0.45, 0.65, 0.5, 0.5, 0.6, 0.4, 0.3, 0.4, 0.45, 0.55, 0.25, 0.55, 0.55, 0.4, 0.55, 0.55, 0.65, 0.4, 0.6, 0.55, 0.6, 0.3, 0.6, 0.35, 0.4, 0.4, 0.4, 0.55, 0.45, 0.6, 0.45, 0.4, 0.5, 0.3, 0.45, 0.4, 0.25, 0.5, 0.5, 0.5, 0.6, 0.4, 0.45, 0.35, 0.5, 0.55, 0.5, 0.6, 0.3, 0.7, 0.6, 0.45, 0.5, 0.65, 0.5, 0.55, 0.35, 0.5, 0.5, 0.65, 0.45, 0.6, 0.6, 0.85, 0.35, 0.55, 0.45, 0.4, 0.55, 0.35, 0.55, 0.5, 0.45, 0.4, 0.55, 0.45, 0.6, 0.5, 0.35, 0.65, 0.5, 0.65, 0.65, 0.3, 0.4, 0.5, 0.6, 0.45, 0.5, 0.45, 0.55, 0.55, 0.55, 0.55, 0.55, 0.7, 0.6, 0.55, 0.4, 0.4, 0.55, 0.7, 0.5, 0.4, 0.6, 0.35, 0.45, 0.6, 0.55, 0.35, 0.6, 0.35, 0.45, 0.35, 0.4, 0.3, 0.4, 0.55, 0.55, 0.55, 0.4, 0.65, 0.65, 0.55, 0.5, 0.45, 0.75, 0.5, 0.55, 0.25, 0.45, 0.45, 0.45, 0.35, 0.4, 0.5, 0.45, 0.45, 0.55, 0.6, 0.5, 0.45, 0.4, 0.35, 0.4, 0.45, 0.6, 0.3, 0.7, 0.4, 0.6, 0.5, 0.6, 0.25, 0.5, 0.5, 0.5, 0.55, 0.45, 0.7, 0.6, 0.4, 0.6, 0.6, 0.55, 0.65, 0.5, 0.6, 0.5, 0.65, 0.75, 0.7, 0.7, 0.4, 0.65, 0.5, 0.45, 0.65, 0.5, 0.5, 0.7, 0.4, 0.6, 0.5, 0.3, 0.5, 0.65, 0.65, 0.45, 0.5, 0.65, 0.3, 0.4, 0.55, 0.4, 0.4, 0.7, 0.55, 0.5, 0.45, 0.35, 0.6, 0.45, 0.45, 0.65, 0.5, 0.45, 0.4, 0.55, 0.4, 0.35, 0.4, 0.45, 0.6, 0.4, 0.45, 0.45, 0.3, 0.55, 0.55, 0.45, 0.45, 0.45, 0.35, 0.45, 0.6, 0.55, 0.5, 0.35, 0.7, 0.65, 0.4, 0.5, 0.6, 0.75, 0.45, 0.75, 0.4, 0.35, 0.45, 0.3, 0.45, 0.6, 0.35, 0.4, 0.55, 0.6, 0.55, 0.4, 0.4, 0.3, 0.6, 0.6, 0.4, 0.45, 0.45, 0.55, 0.5, 0.6, 0.4, 0.65, 0.3, 0.55, 0.45, 0.6, 0.65, 0.3, 0.35, 0.45, 0.55, 0.65, 0.4, 0.35, 0.65, 0.45, 0.35, 0.65, 0.5, 0.6, 0.45, 0.5, 0.45, 0.55, 0.65, 0.45, 0.45, 0.65, 0.65, 0.6, 0.45, 0.5, 0.7, 0.6, 0.3, 0.35, 0.55, 0.45, 0.45, 0.6, 0.4, 0.35, 0.5, 0.5, 0.6, 0.45, 0.45, 0.5, 0.45, 0.35, 0.65, 0.5, 0.5, 0.4, 0.35, 0.45, 0.45, 0.5, 0.5, 0.4, 0.4, 0.45, 0.5, 0.75, 0.45, 0.55, 0.6, 0.45, 0.4, 0.6, 0.65, 0.45, 0.6, 0.45, 0.6, 0.75, 0.6, 0.7, 0.7, 0.35, 0.7, 0.5, 0.5, 0.6, 0.6, 0.65, 0.7, 0.65, 0.4, 0.55, 0.4, 0.6, 0.35, 0.55, 0.45, 0.65, 0.35, 0.55, 0.55, 0.7, 0.4, 0.6, 0.4, 0.6, 0.35, 0.55, 0.5, 0.5, 0.55, 0.5, 0.5, 0.55, 0.55, 0.35, 0.55, 0.4, 0.5, 0.5, 0.55, 0.5, 0.45, 0.45, 0.6, 0.55, 0.4, 0.55, 0.65, 0.35, 0.5, 0.35, 0.4, 0.7, 0.65, 0.65, 0.5, 0.6, 0.55, 0.35, 0.35, 0.5, 0.55, 0.3, 0.5, 0.45, 0.4, 0.45, 0.65, 0.45, 0.7, 0.65, 0.5, 0.5, 0.7, 0.35, 0.45, 0.4, 0.6, 0.4, 0.55, 0.65, 0.5, 0.55, 0.65, 0.5, 0.4, 0.6, 0.35, 0.55, 0.45, 0.35, 0.25, 0.5, 0.5, 0.55, 0.65, 0.55, 0.65, 0.5, 0.45, 0.65, 0.55, 0.45, 0.65, 0.35, 0.55, 0.55, 0.6, 0.55, 0.55, 0.45, 0.55, 0.55, 0.6, 0.5, 0.65, 0.45, 0.45, 0.7, 0.5, 0.55, 0.4, 0.55, 0.35, 0.55, 0.65, 0.4, 0.75, 0.3, 0.6, 0.5, 0.55, 0.7, 0.2, 0.55, 0.65, 0.7, 0.5, 0.55, 0.4, 0.45, 0.6, 0.65, 0.45, 0.6, 0.5, 0.35, 0.35, 0.6, 0.5, 0.45, 0.65, 0.65, 0.65, 0.45, 0.4, 0.4, 0.45, 0.3, 0.65, 0.4, 0.45, 0.5, 0.5, 0.4, 0.35, 0.6, 0.55, 0.55, 0.55, 0.55, 0.45, 0.4, 0.45, 0.35, 0.6, 0.55, 0.5, 0.5, 0.65, 0.45, 0.2, 0.45, 0.5, 0.65, 0.5, 0.6, 0.3, 0.6, 0.5, 0.5, 0.6, 0.55, 0.7, 0.5, 0.45, 0.35, 0.45, 0.5, 0.45, 0.75, 0.3, 0.55, 0.45, 0.45, 0.55, 0.6, 0.5, 0.35, 0.55, 0.5, 0.55, 0.5, 0.55, 0.55, 0.55, 0.7, 0.7, 0.6, 0.4, 0.5, 0.55, 0.5, 0.35, 0.4, 0.45, 0.2, 0.6, 0.45, 0.8, 0.5, 0.5, 0.5, 0.25, 0.55, 0.6, 0.55, 0.4, 0.45, 0.45, 0.55, 0.45, 0.65, 0.45, 0.55, 0.55, 0.45, 0.75, 0.55, 0.45, 0.65, 0.35, 0.55, 0.4, 0.35, 0.5, 0.65, 0.55, 0.55, 0.65, 0.35, 0.45, 0.5, 0.5, 0.65, 0.55, 0.7, 0.45, 0.55, 0.45, 0.65, 0.35, 0.55, 0.65, 0.35, 0.5, 0.4, 0.55, 0.4, 0.6, 0.6, 0.6, 0.35, 0.5, 0.45, 0.5, 0.3, 0.55, 0.65, 0.45, 0.55, 0.65, 0.4, 0.4, 0.55, 0.55, 0.5, 0.6, 0.4, 0.45, 0.45, 0.5, 0.4, 0.6, 0.5, 0.45, 0.55, 0.5, 0.55, 0.5, 0.45, 0.6, 0.55, 0.35, 0.5, 0.5, 0.4, 0.5, 0.4, 0.45, 0.45, 0.5, 0.6, 0.6, 0.55, 0.5, 0.5, 0.6, 0.6, 0.45, 0.4, 0.45, 0.4, 0.45, 0.6, 0.6, 0.55, 0.5, 0.4, 0.5, 0.6, 0.5, 0.45, 0.65, 0.5, 0.45, 0.45, 0.5, 0.6, 0.4, 0.55, 0.4, 0.65, 0.3, 0.8, 0.65, 0.4, 0.35, 0.4, 0.6, 0.4, 0.55, 0.55, 0.55, 0.7, 0.65, 0.45, 0.35, 0.4, 0.5, 0.4, 0.5, 0.4, 0.5, 0.3, 0.3, 0.65, 0.65, 0.5, 0.5, 0.5, 0.55, 0.6, 0.55, 0.55, 0.7, 0.75, 0.55, 0.45, 0.4, 0.55, 0.45, 0.6, 0.45, 0.45, 0.4, 0.55, 0.55, 0.25, 0.5, 0.45, 0.6, 0.45, 0.35, 0.7, 0.4, 0.55, 0.45, 0.5, 0.45, 0.5, 0.55, 0.4, 0.5, 0.55, 0.4, 0.45, 0.35, 0.4, 0.4, 0.65, 0.5, 0.4, 0.55, 0.5, 0.4, 0.5, 0.7, 0.55, 0.5, 0.45, 0.55, 0.6, 0.5, 0.5, 0.45, 0.3, 0.35, 0.45, 0.5, 0.55, 0.7, 0.6, 0.4, 0.55, 0.4, 0.6, 0.45, 0.65, 0.5, 0.55, 0.45, 0.7, 0.4, 0.5, 0.55, 0.35, 0.65, 0.6, 0.55, 0.55, 0.35, 0.55, 0.5, 0.5, 0.25, 0.6, 0.4, 0.45, 0.65, 0.55, 0.5, 0.55, 0.6, 0.55, 0.5, 0.5, 0.7, 0.45, 0.65, 0.55, 0.6, 0.6, 0.45, 0.6, 0.3, 0.55, 0.6, 0.65, 0.45, 0.65, 0.6, 0.4, 0.4, 0.6, 0.5, 0.55, 0.5, 0.7, 0.55, 0.4, 0.45, 0.7, 0.6, 0.55, 0.65, 0.45, 0.4, 0.5, 0.65, 0.75, 0.4, 0.65, 0.5, 0.55, 0.35, 0.55, 0.55, 0.7, 0.6, 0.5, 0.6, 0.5, 0.45, 0.3, 0.55, 0.6, 0.6, 0.45, 0.5, 0.4, 0.45, 0.35, 0.55, 0.5, 0.55, 0.65, 0.3, 0.55, 0.5, 0.75, 0.25, 0.55, 0.45, 0.5, 0.6, 0.5, 0.5, 0.5, 0.6, 0.55, 0.4, 0.65, 0.4, 0.45, 0.55, 0.35, 0.6, 0.7, 0.4, 0.4, 0.45, 0.4, 0.55, 0.45, 0.4, 0.45, 0.45, 0.5, 0.45, 0.7, 0.3, 0.45, 0.4, 0.65, 0.55, 0.5, 0.45, 0.5, 0.6, 0.35, 0.6, 0.4, 0.4, 0.45, 0.45, 0.45, 0.35, 0.4, 0.5, 0.55, 0.3, 0.6, 0.6, 0.25, 0.35, 0.55, 0.6, 0.65, 0.7, 0.6, 0.3, 0.6, 0.5, 0.65, 0.45, 0.45, 0.45, 0.35, 0.45, 0.45, 0.6, 0.6, 0.35, 0.6, 0.55, 0.45, 0.5, 0.35, 0.6, 0.5, 0.4, 0.5, 0.6, 0.4, 0.5, 0.4, 0.5, 0.45, 0.45, 0.4, 0.6, 0.45, 0.4, 0.4, 0.3, 0.55, 0.6, 0.6, 0.55, 0.5, 0.55, 0.3, 0.65, 0.65, 0.5, 0.35, 0.35, 0.5, 0.55, 0.5, 0.55, 0.45, 0.75, 0.45, 0.65, 0.65, 0.6, 0.45, 0.45, 0.4, 0.6, 0.45, 0.5, 0.45, 0.35, 0.5, 0.55, 0.6, 0.65, 0.5, 0.5, 0.4, 0.4, 0.5, 0.5, 0.5, 0.35, 0.5, 0.55, 0.5, 0.6, 0.55, 0.75, 0.55, 0.5, 0.5, 0.25, 0.55, 0.6, 0.5, 0.4, 0.6, 0.65, 0.55, 0.35, 0.6, 0.45, 0.55, 0.4, 0.4, 0.7, 0.6, 0.65, 0.3, 0.55, 0.65, 0.6, 0.55, 0.55, 0.6, 0.35, 0.5, 0.3, 0.55, 0.35, 0.5, 0.35, 0.45, 0.55, 0.45, 0.65, 0.5, 0.45, 0.2, 0.45, 0.7, 0.55, 0.55, 0.45, 0.3, 0.55, 0.45, 0.4, 0.4, 0.6, 0.4, 0.65, 0.6, 0.45, 0.5, 0.4, 0.6, 0.65, 0.55, 0.35, 0.6, 0.3, 0.65, 0.55, 0.5, 0.6, 0.5, 0.4, 0.45, 0.45, 0.45, 0.55, 0.55, 0.55, 0.75, 0.55, 0.45, 0.6, 0.45, 0.25, 0.3, 0.65, 0.5, 0.55, 0.45, 0.45, 0.45, 0.45, 0.45, 0.5, 0.35, 0.5, 0.65, 0.45, 0.3, 0.65, 0.7, 0.55, 0.4, 0.55, 0.6, 0.3, 0.45, 0.6, 0.7, 0.45, 0.6, 0.55, 0.55, 0.45, 0.6, 0.6, 0.6, 0.6, 0.5, 0.3, 0.2, 0.45, 0.4, 0.5, 0.5, 0.35, 0.6, 0.35, 0.6, 0.6, 0.45, 0.75, 0.5, 0.55, 0.35, 0.4, 0.45, 0.55, 0.4, 0.45, 0.55, 0.4, 0.35, 0.45, 0.65, 0.45, 0.55, 0.5, 0.5, 0.45, 0.5, 0.45, 0.7, 0.7, 0.55, 0.45, 0.5, 0.55, 0.5, 0.45, 0.45, 0.5, 0.6, 0.5, 0.45, 0.55, 0.65, 0.55, 0.5, 0.4, 0.45, 0.45, 0.5, 0.55, 0.45, 0.5, 0.55, 0.65, 0.45, 0.55, 0.55, 0.55, 0.3, 0.45, 0.4, 0.6, 0.3, 0.55, 0.55, 0.3, 0.45, 0.5, 0.45, 0.5, 0.6, 0.55, 0.5, 0.55, 0.55, 0.55, 0.45, 0.55, 0.55, 0.45, 0.35, 0.6, 0.5, 0.65, 0.55, 0.5, 0.35, 0.55, 0.4, 0.35, 0.6, 0.4, 0.45, 0.5, 0.55, 0.6, 0.4, 0.5, 0.65, 0.75, 0.65, 0.6, 0.8, 0.55, 0.5, 0.5, 0.4, 0.4, 0.5, 0.25, 0.5, 0.7, 0.3, 0.55, 0.5, 0.55, 0.45, 0.5, 0.5, 0.5, 0.55, 0.6, 0.4, 0.35, 0.45, 0.35, 0.45, 0.65, 0.45, 0.5, 0.65, 0.4, 0.55, 0.45, 0.5, 0.75, 0.6, 0.55, 0.5, 0.35, 0.45, 0.3, 0.5, 0.4, 0.5, 0.7, 0.4, 0.55, 0.45, 0.35, 0.5, 0.6, 0.55, 0.45, 0.6, 0.4, 0.55, 0.45, 0.5, 0.55, 0.45, 0.25, 0.35, 0.2, 0.6, 0.5, 0.45, 0.5, 0.75, 0.5, 0.65, 0.5, 0.35, 0.35, 0.5, 0.5, 0.45, 0.6, 0.35, 0.45, 0.35, 0.65, 0.5, 0.3, 0.45, 0.65, 0.5, 0.5, 0.6, 0.35, 0.4, 0.7, 0.45, 0.6, 0.65, 0.6, 0.45, 0.65, 0.65, 0.55, 0.45, 0.6, 0.5, 0.45, 0.75, 0.35, 0.45, 0.5, 0.35, 0.65, 0.45, 0.25, 0.35, 0.65, 0.5, 0.45, 0.5, 0.3, 0.45, 0.5, 0.45, 0.4, 0.6, 0.4, 0.25, 0.35, 0.65, 0.45, 0.55, 0.5, 0.6, 0.5, 0.55, 0.55, 0.45, 0.45, 0.4, 0.5, 0.5, 0.5, 0.65, 0.45, 0.4, 0.45, 0.4, 0.5, 0.55, 0.35, 0.7, 0.55, 0.5, 0.35, 0.75, 0.7, 0.35, 0.65, 0.6, 0.6, 0.5, 0.45, 0.55, 0.45, 0.6, 0.6, 0.45, 0.45, 0.45, 0.7, 0.4, 0.75, 0.25, 0.55, 0.4, 0.25, 0.5, 0.5, 0.5, 0.35, 0.55, 0.5, 0.25, 0.4, 0.6, 0.45, 0.45, 0.4, 0.45, 0.5, 0.55, 0.55, 0.55, 0.55, 0.65, 0.3, 0.5, 0.45, 0.5, 0.5, 0.75, 0.45, 0.7, 0.25, 0.75, 0.65, 0.35, 0.4, 0.4, 0.65, 0.55, 0.3, 0.4, 0.5, 0.4, 0.55, 0.45, 0.45, 0.35, 0.35, 0.35, 0.7, 0.35, 0.4, 0.35, 0.6, 0.6, 0.5, 0.45, 0.35, 0.6, 0.55, 0.65, 0.55, 0.6, 0.5, 0.4, 0.5, 0.65, 0.4, 0.45, 0.45, 0.6, 0.45, 0.5, 0.55, 0.65, 0.4, 0.5, 0.35, 0.55, 0.65, 0.65, 0.4, 0.4, 0.5, 0.3, 0.55, 0.55, 0.45, 0.65, 0.45, 0.55, 0.25, 0.4, 0.4, 0.55, 0.75, 0.65, 0.3, 0.3, 0.45, 0.45, 0.45, 0.55, 0.5, 0.45, 0.55, 0.5, 0.3, 0.7, 0.55, 0.3, 0.65, 0.2, 0.5, 0.55, 0.35, 0.35, 0.6, 0.6, 0.55, 0.3, 0.4, 0.45, 0.4, 0.7, 0.4, 0.5, 0.35, 0.6, 0.8, 0.4, 0.45, 0.65, 0.45, 0.45, 0.45, 0.55, 0.4, 0.7, 0.6, 0.5, 0.65, 0.45, 0.45, 0.5, 0.35, 0.35, 0.45, 0.5, 0.45, 0.55, 0.45, 0.45, 0.5, 0.35, 0.45, 0.45, 0.5, 0.5, 0.5, 0.65, 0.65, 0.45, 0.4, 0.4, 0.5, 0.6, 0.3, 0.4, 0.35, 0.45, 0.5, 0.4, 0.6, 0.5, 0.5, 0.45, 0.5, 0.6, 0.45, 0.35, 0.45, 0.45, 0.55, 0.4, 0.45, 0.4, 0.5, 0.45, 0.6, 0.5, 0.6, 0.45, 0.35, 0.6, 0.5, 0.4, 0.55, 0.6, 0.45, 0.3, 0.5, 0.5, 0.45, 0.3, 0.55, 0.5, 0.5, 0.5, 0.55, 0.55, 0.4, 0.4, 0.4, 0.55, 0.4, 0.5, 0.65, 0.5, 0.7, 0.65, 0.5, 0.45, 0.35, 0.4, 0.6, 0.55, 0.35, 0.45, 0.2, 0.45, 0.5, 0.35, 0.7, 0.45, 0.6, 0.65, 0.5, 0.4, 0.65, 0.45, 0.65, 0.35, 0.55, 0.55, 0.55, 0.4, 0.65, 0.35, 0.35, 0.55, 0.45, 0.5, 0.45, 0.45, 0.5, 0.35, 0.5, 0.5, 0.55, 0.5, 0.4, 0.4, 0.45, 0.55, 0.6, 0.4, 0.35, 0.6, 0.55, 0.45, 0.45, 0.6, 0.45, 0.45, 0.6, 0.65, 0.45, 0.5, 0.65, 0.55, 0.5, 0.45, 0.3, 0.6, 0.5, 0.6, 0.45, 0.45, 0.45, 0.5, 0.4, 0.25, 0.65, 0.5, 0.45, 0.6, 0.45, 0.3, 0.7, 0.45, 0.5, 0.45, 0.4, 0.6, 0.5, 0.65, 0.45, 0.45, 0.6, 0.7, 0.5, 0.55, 0.4, 0.55, 0.35, 0.35, 0.55, 0.4, 0.45, 0.55, 0.6, 0.5, 0.3, 0.5, 0.45, 0.35, 0.35, 0.35, 0.65, 0.5, 0.7, 0.45, 0.7, 0.55, 0.65, 0.35, 0.65, 0.5, 0.6, 0.65, 0.6, 0.6, 0.4, 0.5, 0.7, 0.6, 0.55, 0.6, 0.6, 0.55, 0.35, 0.6, 0.4, 0.5, 0.5, 0.35, 0.3, 0.5, 0.65, 0.6, 0.6, 0.7, 0.5, 0.3, 0.4, 0.75, 0.6, 0.6, 0.5, 0.55, 0.35, 0.55, 0.6, 0.5, 0.5, 0.4, 0.55, 0.5, 0.5, 0.45, 0.6, 0.5, 0.45, 0.35, 0.5, 0.5, 0.75, 0.55, 0.35, 0.4, 0.45, 0.55, 0.55, 0.7, 0.55, 0.5, 0.55, 0.6, 0.7, 0.65, 0.15, 0.6, 0.55, 0.4, 0.65, 0.7, 0.4, 0.4, 0.4, 0.7, 0.6, 0.55, 0.5, 0.45, 0.35, 0.4, 0.7, 0.45, 0.5, 0.7, 0.5, 0.45, 0.3, 0.35, 0.6, 0.7, 0.3, 0.5, 0.4, 0.45, 0.45, 0.4, 0.5, 0.45, 0.35, 0.75, 0.4, 0.55, 0.5, 0.35, 0.45, 0.6, 0.45, 0.5, 0.35, 0.45, 0.3, 0.6, 0.5, 0.5, 0.5, 0.4, 0.6, 0.4, 0.6, 0.55, 0.5, 0.4, 0.45, 0.65, 0.65, 0.5, 0.5, 0.5, 0.5, 0.4, 0.55, 0.75, 0.65, 0.55, 0.4, 0.55, 0.5, 0.25, 0.5, 0.65, 0.45, 0.25, 0.4, 0.55, 0.4, 0.6, 0.45, 0.55, 0.5, 0.55, 0.8, 0.45, 0.5, 0.25, 0.5, 0.6, 0.45, 0.45, 0.45, 0.65, 0.5, 0.55, 0.6, 0.45, 0.45, 0.4, 0.3, 0.7, 0.4, 0.55, 0.45, 0.35, 0.6, 0.35, 0.4, 0.45, 0.6, 0.7, 0.55, 0.45, 0.5, 0.55, 0.3, 0.45, 0.35, 0.75, 0.45, 0.55, 0.35, 0.65, 0.45, 0.55, 0.6, 0.5, 0.5, 0.7, 0.55, 0.4, 0.4, 0.4, 0.65, 0.5, 0.3, 0.5, 0.6, 0.7, 0.55, 0.55, 0.35, 0.5, 0.4, 0.55, 0.45, 0.35, 0.45, 0.4, 0.6, 0.6, 0.3, 0.55, 0.6, 0.45, 0.75, 0.45, 0.35, 0.6, 0.55, 0.35, 0.65, 0.45, 0.5, 0.65, 0.5, 0.4, 0.5, 0.35, 0.5, 0.6, 0.6, 0.45, 0.45, 0.6, 0.55, 0.55, 0.55, 0.5, 0.6, 0.45, 0.5, 0.65, 0.5, 0.65, 0.3, 0.45, 0.6, 0.65, 0.55, 0.5, 0.5, 0.45, 0.65, 0.5, 0.35, 0.55, 0.45, 0.75, 0.45, 0.45, 0.3, 0.4, 0.5, 0.4, 0.55, 0.65, 0.75, 0.6, 0.4, 0.6, 0.5, 0.5, 0.55, 0.5, 0.5, 0.45, 0.6, 0.45, 0.55, 0.55, 0.45, 0.7, 0.55, 0.55, 0.5, 0.65, 0.75, 0.55, 0.5, 0.35, 0.7, 0.65, 0.7, 0.4, 0.3, 0.45, 0.65, 0.5, 0.3, 0.45, 0.6, 0.4, 0.6, 0.45, 0.45, 0.45, 0.35, 0.35, 0.55, 0.5, 0.55, 0.25, 0.45, 0.6, 0.5, 0.45, 0.55, 0.5, 0.7, 0.45, 0.35, 0.55, 0.45, 0.45, 0.6, 0.65, 0.4, 0.5, 0.65, 0.6, 0.45, 0.55, 0.65, 0.4, 0.55, 0.4, 0.2, 0.65, 0.15, 0.55, 0.45, 0.65, 0.55, 0.45, 0.5, 0.6, 0.4, 0.6, 0.5, 0.5, 0.5, 0.65, 0.7, 0.45, 0.5, 0.45, 0.5, 0.7, 0.65, 0.55, 0.5, 0.45, 0.55, 0.55, 0.35, 0.5, 0.35, 0.55, 0.55, 0.6, 0.6, 0.45, 0.35, 0.45, 0.6, 0.4, 0.35, 0.5, 0.4, 0.45, 0.5, 0.25, 0.4, 0.45, 0.3, 0.45, 0.6, 0.45, 0.4, 0.35, 0.4, 0.45, 0.4, 0.4, 0.45, 0.55, 0.3, 0.4, 0.3, 0.5, 0.45, 0.45, 0.4, 0.5, 0.7, 0.45, 0.4, 0.4, 0.55, 0.6, 0.65, 0.45, 0.55, 0.65, 0.35, 0.7, 0.5, 0.6, 0.55, 0.65, 0.65, 0.35, 0.65, 0.45, 0.5, 0.7, 0.5, 0.65, 0.65, 0.55, 0.45, 0.55, 0.75, 0.4, 0.6, 0.5, 0.45, 0.3, 0.3, 0.65, 0.45, 0.3, 0.7, 0.45, 0.6, 0.5, 0.5, 0.6, 0.5, 0.8, 0.45, 0.65, 0.6, 0.7, 0.5, 0.5, 0.55, 0.45, 0.55, 0.55, 0.5, 0.4, 0.5, 0.45, 0.35, 0.55, 0.45, 0.3, 0.65, 0.55, 0.35, 0.5, 0.5, 0.6, 0.6, 0.55, 0.4, 0.45, 0.5, 0.4, 0.65, 0.5, 0.6, 0.7, 0.65, 0.5, 0.5, 0.55, 0.55, 0.55, 0.65, 0.6, 0.5, 0.45, 0.7, 0.5, 0.6, 0.65, 0.65, 0.45, 0.65, 0.55, 0.45, 0.5, 0.65, 0.35, 0.5, 0.5, 0.65, 0.6, 0.45, 0.35, 0.6, 0.65, 0.45, 0.7, 0.45, 0.55, 0.75, 0.45, 0.55, 0.6, 0.65, 0.4, 0.55, 0.45, 0.6, 0.35, 0.5, 0.6, 0.55, 0.6, 0.45, 0.35, 0.6, 0.55, 0.65, 0.55, 0.65, 0.65, 0.6, 0.85, 0.65, 0.4, 0.6, 0.5, 0.4, 0.4, 0.5, 0.55, 0.45, 0.45, 0.65, 0.5, 0.5, 0.7, 0.4, 0.35, 0.6, 0.45, 0.4, 0.55, 0.6, 0.6, 0.5, 0.65, 0.55, 0.6, 0.65, 0.5, 0.6, 0.6, 0.5, 0.6, 0.5, 0.35, 0.4, 0.45, 0.25, 0.6, 0.45, 0.55, 0.55, 0.5, 0.4, 0.75, 0.65, 0.45, 0.6, 0.5, 0.7, 0.5, 0.5, 0.45, 0.5, 0.55, 0.6, 0.35, 0.45, 0.6, 0.7, 0.65, 0.5, 0.45, 0.5, 0.7, 0.5, 0.65, 0.35, 0.65, 0.4, 0.45, 0.5, 0.55, 0.4, 0.6, 0.5, 0.25, 0.55, 0.75, 0.5, 0.35, 0.6, 0.5, 0.45, 0.5, 0.5, 0.55, 0.4, 0.5, 0.7, 0.65, 0.45, 0.5, 0.45, 0.45, 0.45, 0.45, 0.6, 0.5, 0.7, 0.4, 0.45, 0.5, 0.4, 0.6, 0.45, 0.5, 0.45, 0.65, 0.45, 0.55, 0.55, 0.45, 0.45, 0.55, 0.5, 0.55, 0.45, 0.25, 0.6, 0.45, 0.6, 0.3, 0.6, 0.35, 0.65, 0.55, 0.3, 0.5, 0.5, 0.5, 0.4, 0.45, 0.45, 0.55, 0.5, 0.55, 0.3, 0.5, 0.4, 0.55, 0.6, 0.55, 0.55, 0.45, 0.45, 0.55, 0.4, 0.65, 0.45, 0.4, 0.5, 0.35, 0.65, 0.7, 0.4, 0.5, 0.55, 0.4, 0.75, 0.5, 0.5, 0.35, 0.5, 0.4, 0.55, 0.35, 0.7, 0.6, 0.55, 0.4, 0.7]\n"
          ],
          "name": "stdout"
        }
      ]
    },
    {
      "cell_type": "code",
      "metadata": {
        "colab_type": "code",
        "outputId": "9900ed3a-7de1-4ad1-ce6f-a0b891a2051b",
        "id": "JdES8jXz8kAG",
        "colab": {
          "base_uri": "https://localhost:8080/",
          "height": 265
        }
      },
      "source": [
        "import matplotlib.pyplot as plt\n",
        "import seaborn as sns\n",
        "fix, ax = plt.subplots()\n",
        "for sample in [sample_means_small, sample_means_large]:\n",
        "  sns.distplot(sample)"
      ],
      "execution_count": 42,
      "outputs": [
        {
          "output_type": "display_data",
          "data": {
            "image/png": "[encoded data removed]",
            "text/plain": [
              "<Figure size 432x288 with 1 Axes>"
            ]
          },
          "metadata": {
            "tags": []
          }
        }
      ]
    },
    {
      "cell_type": "markdown",
      "metadata": {
        "id": "EYqo5vZZSFUr",
        "colab_type": "text"
      },
      "source": [
        "## Standard Error of the Mean\n",
        "\n",
        "What does it mean to \"estimate\" the Population mean?"
      ]
    },
    {
      "cell_type": "markdown",
      "metadata": {
        "id": "nfdQf8QYUUmw",
        "colab_type": "text"
      },
      "source": [
        "### Build and Interpret a Confidence Interval\n",
        "\n",
        "<img src=\"https://github.com/ryanallredblog/ryanallredblog.github.io/blob/master/img/Confidence_Interval.png?raw=true\" width=300>"
      ]
    },
    {
      "cell_type": "code",
      "metadata": {
        "id": "tBx71Kf0UjT3",
        "colab_type": "code",
        "colab": {}
      },
      "source": [
        "def confidence_interval(data, confidence=0.95):\n",
        "  \"\"\"\n",
        "  Calculate the confidence interval of a sample mean.\n",
        "  Using t-distribution and two-tailed test, default 95% confidence. \n",
        "  Arguments:\n",
        "    data - iterable (list or numpy array) of sample observations\n",
        "    confidence - level of confidence for the interval\n",
        "  Returns:\n",
        "    tuple of (mean, lower bound, upper bound)\n",
        "  \"\"\"\n",
        "  data = np.array(data)\n",
        "  mean = np.mean(data)\n",
        "  n = len(data)\n",
        "  stderr = np.std(data, ddof=1)/np.sqrt(n) \n",
        "  # ddof: Delta Degrees of Freedom. The divisor used in calculations is \n",
        "  # N - ddof, where N represents the number of elements. By default ddof is zero\n",
        "  t_stats = stats.t.ppf((1 + confidence) / 2.0, n - 1) #??? more explain on this ppf function\n",
        "  moe = stderr * t_stats #margin of error\n",
        "  return (mean - moe, mean, mean + moe)"
      ],
      "execution_count": 0,
      "outputs": []
    },
    {
      "cell_type": "code",
      "metadata": {
        "id": "sdLZQJcIwfPJ",
        "colab_type": "code",
        "colab": {}
      },
      "source": [
        "# 95% confidence level\n",
        "(1 + .95) / 2.0\n",
        "1.95 / 2.0\n",
        "= 97.5\n",
        "\n",
        "# We want the t-statistic that corresponds to that probability cut off for a \n",
        "# given t distribution (a distribution with a certain degrees of freedom)\n",
        "# stats.t.ppf is just looking up the corresponding t statistic"
      ],
      "execution_count": 0,
      "outputs": []
    },
    {
      "cell_type": "markdown",
      "metadata": {
        "id": "C4rtc8luVUAK",
        "colab_type": "text"
      },
      "source": [
        "## Graphically Represent a Confidence Interval"
      ]
    },
    {
      "cell_type": "code",
      "metadata": {
        "id": "pz6F9_3_VmKr",
        "colab_type": "code",
        "outputId": "e44fca72-5b9f-4794-c02e-df04474fbd3a",
        "colab": {
          "base_uri": "https://localhost:8080/",
          "height": 109
        }
      },
      "source": [
        "coinflips_100 = np.random.binomial(n=1, p=.5, size=100)\n",
        "coinflips_100"
      ],
      "execution_count": 49,
      "outputs": [
        {
          "output_type": "execute_result",
          "data": {
            "text/plain": [
              "array([1, 0, 0, 0, 1, 0, 1, 0, 0, 1, 1, 0, 0, 0, 0, 1, 0, 1, 0, 0, 0, 1,\n",
              "       1, 0, 1, 0, 1, 1, 1, 0, 0, 0, 1, 0, 1, 0, 0, 0, 0, 1, 1, 1, 1, 1,\n",
              "       0, 1, 1, 1, 1, 0, 1, 0, 0, 1, 1, 0, 0, 1, 1, 0, 1, 0, 1, 1, 1, 1,\n",
              "       1, 1, 0, 1, 0, 1, 0, 0, 1, 0, 1, 0, 1, 1, 1, 1, 0, 1, 1, 1, 1, 0,\n",
              "       1, 0, 1, 1, 0, 1, 1, 1, 0, 1, 0, 1])"
            ]
          },
          "metadata": {
            "tags": []
          },
          "execution_count": 49
        }
      ]
    },
    {
      "cell_type": "code",
      "metadata": {
        "id": "a2j2OrEByePB",
        "colab_type": "code",
        "outputId": "93cb27a7-d213-4e72-b7e3-dcded239de5c",
        "colab": {
          "base_uri": "https://localhost:8080/",
          "height": 35
        }
      },
      "source": [
        "confidence_interval(coinflips_100)"
      ],
      "execution_count": 57,
      "outputs": [
        {
          "output_type": "execute_result",
          "data": {
            "text/plain": [
              "(0.46100986648567294, 0.56, 0.6589901335143271)"
            ]
          },
          "metadata": {
            "tags": []
          },
          "execution_count": 57
        }
      ]
    },
    {
      "cell_type": "code",
      "metadata": {
        "id": "ckvyK652zxSK",
        "colab_type": "code",
        "outputId": "d322e3e3-fbac-4fab-d6c5-4a05afce1fe8",
        "colab": {
          "base_uri": "https://localhost:8080/",
          "height": 265
        }
      },
      "source": [
        "import seaborn as sns\n",
        "\n",
        "coinflips_42 = np.random.binomial(n=1, p=.5, size=42)\n",
        "sns.kdeplot(coinflips_42)\n",
        "CI = confidence_interval(coinflips_42)\n",
        "plt.axvline(x=CI[0], color='red')\n",
        "plt.axvline(x=CI[2], color='red')\n",
        "plt.axvline(x=CI[1], color='k');"
      ],
      "execution_count": 59,
      "outputs": [
        {
          "output_type": "display_data",
          "data": {
            "image/png": "[encoded data removed]",
            "text/plain": [
              "<Figure size 432x288 with 1 Axes>"
            ]
          },
          "metadata": {
            "tags": []
          }
        }
      ]
    },
    {
      "cell_type": "markdown",
      "metadata": {
        "id": "Mu4cJ5iu0nBf",
        "colab_type": "text"
      },
      "source": [
        "### Matplotlib Error Bars can also be userful for visualizing confidence intervals: \n",
        "\n",
        "<https://matplotlib.org/3.1.1/api/_as_gen/matplotlib.pyplot.errorbar.html>"
      ]
    },
    {
      "cell_type": "code",
      "metadata": {
        "id": "dlhH2YPolABd",
        "colab_type": "code",
        "colab": {}
      },
      "source": [
        "??? errorbar just plots mean and std, how can this visualize confidence intervals?"
      ],
      "execution_count": 0,
      "outputs": []
    },
    {
      "cell_type": "markdown",
      "metadata": {
        "id": "_oy0uoBGeoEb",
        "colab_type": "text"
      },
      "source": [
        "## Relationship between Confidence Intervals and T-tests\n",
        "\n",
        "Confidence Interval == Bounds of statistical significance for our t-test\n",
        "\n",
        "A sample mean that falls inside of our confidence interval will \"FAIL TO REJECT\" our null hypothesis\n",
        "\n",
        "A sample mean that falls outside of our confidence interval will \"REJECT\" our null hypothesis"
      ]
    },
    {
      "cell_type": "code",
      "metadata": {
        "id": "izIyVavzfCXS",
        "colab_type": "code",
        "colab": {}
      },
      "source": [
        "from scipy.stats import t, ttest_1samp"
      ],
      "execution_count": 0,
      "outputs": []
    },
    {
      "cell_type": "code",
      "metadata": {
        "id": "Y7HwdMwDfL1N",
        "colab_type": "code",
        "outputId": "7ed93657-623a-4570-e0a2-b7c5cb27e862",
        "colab": {
          "base_uri": "https://localhost:8080/",
          "height": 55
        }
      },
      "source": [
        "import numpy as np\n",
        "coinflip_means = []\n",
        "for x in range(0,100):\n",
        "  coinflips = np.random.binomial(n=1, p=.5, size=30)\n",
        "  coinflip_means.append(coinflips.mean())\n",
        "print(coinflip_means)"
      ],
      "execution_count": 61,
      "outputs": [
        {
          "output_type": "stream",
          "text": [
            "[0.4666666666666667, 0.5666666666666667, 0.43333333333333335, 0.5333333333333333, 0.5, 0.5333333333333333, 0.43333333333333335, 0.4, 0.5666666666666667, 0.5, 0.5333333333333333, 0.43333333333333335, 0.5666666666666667, 0.4666666666666667, 0.6, 0.43333333333333335, 0.6333333333333333, 0.5333333333333333, 0.5333333333333333, 0.6, 0.6666666666666666, 0.5, 0.6, 0.4666666666666667, 0.43333333333333335, 0.36666666666666664, 0.6, 0.5333333333333333, 0.5333333333333333, 0.4, 0.5, 0.5333333333333333, 0.43333333333333335, 0.43333333333333335, 0.4666666666666667, 0.6, 0.5, 0.5333333333333333, 0.5, 0.4, 0.5, 0.6, 0.5, 0.43333333333333335, 0.5, 0.5, 0.6333333333333333, 0.5, 0.5666666666666667, 0.5, 0.5, 0.6666666666666666, 0.4666666666666667, 0.43333333333333335, 0.3333333333333333, 0.5, 0.4, 0.5, 0.6333333333333333, 0.36666666666666664, 0.6333333333333333, 0.5333333333333333, 0.5, 0.43333333333333335, 0.4666666666666667, 0.5, 0.5333333333333333, 0.5333333333333333, 0.4666666666666667, 0.43333333333333335, 0.4666666666666667, 0.43333333333333335, 0.6666666666666666, 0.43333333333333335, 0.5666666666666667, 0.3333333333333333, 0.4666666666666667, 0.6333333333333333, 0.5666666666666667, 0.43333333333333335, 0.5333333333333333, 0.43333333333333335, 0.4666666666666667, 0.43333333333333335, 0.5333333333333333, 0.2, 0.43333333333333335, 0.5666666666666667, 0.5333333333333333, 0.4, 0.5333333333333333, 0.4666666666666667, 0.5, 0.4, 0.7333333333333333, 0.5, 0.3333333333333333, 0.4666666666666667, 0.6, 0.6666666666666666]\n"
          ],
          "name": "stdout"
        }
      ]
    },
    {
      "cell_type": "code",
      "metadata": {
        "id": "nQDo-ZXlfOvR",
        "colab_type": "code",
        "outputId": "8a7910dd-5ef2-4607-dd92-3b4ee4fad3ee",
        "colab": {
          "base_uri": "https://localhost:8080/",
          "height": 35
        }
      },
      "source": [
        "'''You can roll your own CI calculation pretty easily. \n",
        "The only thing that's a little bit challenging \n",
        "is understanding the t stat lookup'''\n",
        "n = len(coinflip_means) # Sample Size\n",
        "dof = n-1 # Degrees of Freedom\n",
        "mean = np.mean(coinflip_means) # The Mean of Means\n",
        "sample_std = np.std(coinflip_means, ddof=1) # Sample Standard Deviation\n",
        "std_err = sample_std/n**.5 # Standard Error\n",
        "\n",
        "CI = stats.t.interval(.95, dof, loc=mean, scale=std_err) \n",
        "# t.interval returns confidence interval with equal areas around the location \n",
        "# parameter, default is 0 (median), scale is the parameter to be multiplied \n",
        "# by t-statistic\n",
        "print(\"95% Confidence Interval: \", CI)\n",
        "?stats.t.interval()"
      ],
      "execution_count": 76,
      "outputs": [
        {
          "output_type": "stream",
          "text": [
            "95% Confidence Interval:  (0.4836156590062005, 0.5177176743271331)\n"
          ],
          "name": "stdout"
        }
      ]
    },
    {
      "cell_type": "code",
      "metadata": {
        "id": "PiaALHSNfWou",
        "colab_type": "code",
        "outputId": "e2383a2f-5b4b-4dab-a0de-d170a50192eb",
        "colab": {
          "base_uri": "https://localhost:8080/",
          "height": 54
        }
      },
      "source": [
        "# another way to calculate CI\n",
        "# 95% confidence interval\n",
        "t_stat = stats.t.ppf(.975, dof)\n",
        "print(\"t Statistic:\", t_stat)\n",
        "\n",
        "CI = (mean-(t_stat*std_err), mean+(t_stat*std_err))\n",
        "print(\"Confidence Interval\", CI)"
      ],
      "execution_count": 77,
      "outputs": [
        {
          "output_type": "stream",
          "text": [
            "t Statistic: 1.9842169515086827\n",
            "Confidence Interval (0.4836156590062005, 0.5177176743271331)\n"
          ],
          "name": "stdout"
        }
      ]
    },
    {
      "cell_type": "code",
      "metadata": {
        "id": "cNpzYbjpfirR",
        "colab_type": "code",
        "outputId": "9850da7c-5c24-4db1-913c-44a4f7ee584e",
        "colab": {
          "base_uri": "https://localhost:8080/",
          "height": 35
        }
      },
      "source": [
        "# A null hypothesis that's just inside of our confidence interval == fail to reject\n",
        "stats.ttest_1samp(coinflip_means, .484)"
      ],
      "execution_count": 73,
      "outputs": [
        {
          "output_type": "execute_result",
          "data": {
            "text/plain": [
              "Ttest_1sampResult(statistic=1.9394913886421072, pvalue=0.055287878351726216)"
            ]
          },
          "metadata": {
            "tags": []
          },
          "execution_count": 73
        }
      ]
    },
    {
      "cell_type": "code",
      "metadata": {
        "id": "N4SUjj82gKlv",
        "colab_type": "code",
        "outputId": "20a942a4-508e-48d8-c97f-b52f9528bd09",
        "colab": {
          "base_uri": "https://localhost:8080/",
          "height": 35
        }
      },
      "source": [
        "# A null hypothesis that's just outside of our confidence interval == reject\n",
        "stats.ttest_1samp(coinflip_means, .479)"
      ],
      "execution_count": 74,
      "outputs": [
        {
          "output_type": "execute_result",
          "data": {
            "text/plain": [
              "Ttest_1sampResult(statistic=2.5213388052347345, pvalue=0.013286919911221289)"
            ]
          },
          "metadata": {
            "tags": []
          },
          "execution_count": 74
        }
      ]
    },
    {
      "cell_type": "markdown",
      "metadata": {
        "id": "7Igz-XHcVbW3",
        "colab_type": "text"
      },
      "source": [
        "## Run a $\\chi^{2}$ Test using Scipy"
      ]
    },
    {
      "cell_type": "code",
      "metadata": {
        "id": "X52Nwt7AVlvk",
        "colab_type": "code",
        "outputId": "395ae0ba-7fe8-4bea-f461-1438dd13e328",
        "colab": {
          "base_uri": "https://localhost:8080/",
          "height": 366
        }
      },
      "source": [
        "df = pd.read_csv('https://raw.githubusercontent.com/ryanleeallred/datasets/master/adult.csv', na_values=\" ?\")\n",
        "print(df.shape)\n",
        "df.head()"
      ],
      "execution_count": 78,
      "outputs": [
        {
          "output_type": "stream",
          "text": [
            "(32561, 15)\n"
          ],
          "name": "stdout"
        },
        {
          "output_type": "execute_result",
          "data": {
            "text/html": [
              "<div>\n",
              "<style scoped>\n",
              "    .dataframe tbody tr th:only-of-type {\n",
              "        vertical-align: middle;\n",
              "    }\n",
              "\n",
              "    .dataframe tbody tr th {\n",
              "        vertical-align: top;\n",
              "    }\n",
              "\n",
              "    .dataframe thead th {\n",
              "        text-align: right;\n",
              "    }\n",
              "</style>\n",
              "<table border=\"1\" class=\"dataframe\">\n",
              "  <thead>\n",
              "    <tr style=\"text-align: right;\">\n",
              "      <th></th>\n",
              "      <th>age</th>\n",
              "      <th>workclass</th>\n",
              "      <th>fnlwgt</th>\n",
              "      <th>education</th>\n",
              "      <th>education-num</th>\n",
              "      <th>marital-status</th>\n",
              "      <th>occupation</th>\n",
              "      <th>relationship</th>\n",
              "      <th>race</th>\n",
              "      <th>sex</th>\n",
              "      <th>capital-gain</th>\n",
              "      <th>capital-loss</th>\n",
              "      <th>hours-per-week</th>\n",
              "      <th>country</th>\n",
              "      <th>salary</th>\n",
              "    </tr>\n",
              "  </thead>\n",
              "  <tbody>\n",
              "    <tr>\n",
              "      <th>0</th>\n",
              "      <td>39</td>\n",
              "      <td>State-gov</td>\n",
              "      <td>77516</td>\n",
              "      <td>Bachelors</td>\n",
              "      <td>13</td>\n",
              "      <td>Never-married</td>\n",
              "      <td>Adm-clerical</td>\n",
              "      <td>Not-in-family</td>\n",
              "      <td>White</td>\n",
              "      <td>Male</td>\n",
              "      <td>2174</td>\n",
              "      <td>0</td>\n",
              "      <td>40</td>\n",
              "      <td>United-States</td>\n",
              "      <td>&lt;=50K</td>\n",
              "    </tr>\n",
              "    <tr>\n",
              "      <th>1</th>\n",
              "      <td>50</td>\n",
              "      <td>Self-emp-not-inc</td>\n",
              "      <td>83311</td>\n",
              "      <td>Bachelors</td>\n",
              "      <td>13</td>\n",
              "      <td>Married-civ-spouse</td>\n",
              "      <td>Exec-managerial</td>\n",
              "      <td>Husband</td>\n",
              "      <td>White</td>\n",
              "      <td>Male</td>\n",
              "      <td>0</td>\n",
              "      <td>0</td>\n",
              "      <td>13</td>\n",
              "      <td>United-States</td>\n",
              "      <td>&lt;=50K</td>\n",
              "    </tr>\n",
              "    <tr>\n",
              "      <th>2</th>\n",
              "      <td>38</td>\n",
              "      <td>Private</td>\n",
              "      <td>215646</td>\n",
              "      <td>HS-grad</td>\n",
              "      <td>9</td>\n",
              "      <td>Divorced</td>\n",
              "      <td>Handlers-cleaners</td>\n",
              "      <td>Not-in-family</td>\n",
              "      <td>White</td>\n",
              "      <td>Male</td>\n",
              "      <td>0</td>\n",
              "      <td>0</td>\n",
              "      <td>40</td>\n",
              "      <td>United-States</td>\n",
              "      <td>&lt;=50K</td>\n",
              "    </tr>\n",
              "    <tr>\n",
              "      <th>3</th>\n",
              "      <td>53</td>\n",
              "      <td>Private</td>\n",
              "      <td>234721</td>\n",
              "      <td>11th</td>\n",
              "      <td>7</td>\n",
              "      <td>Married-civ-spouse</td>\n",
              "      <td>Handlers-cleaners</td>\n",
              "      <td>Husband</td>\n",
              "      <td>Black</td>\n",
              "      <td>Male</td>\n",
              "      <td>0</td>\n",
              "      <td>0</td>\n",
              "      <td>40</td>\n",
              "      <td>United-States</td>\n",
              "      <td>&lt;=50K</td>\n",
              "    </tr>\n",
              "    <tr>\n",
              "      <th>4</th>\n",
              "      <td>28</td>\n",
              "      <td>Private</td>\n",
              "      <td>338409</td>\n",
              "      <td>Bachelors</td>\n",
              "      <td>13</td>\n",
              "      <td>Married-civ-spouse</td>\n",
              "      <td>Prof-specialty</td>\n",
              "      <td>Wife</td>\n",
              "      <td>Black</td>\n",
              "      <td>Female</td>\n",
              "      <td>0</td>\n",
              "      <td>0</td>\n",
              "      <td>40</td>\n",
              "      <td>Cuba</td>\n",
              "      <td>&lt;=50K</td>\n",
              "    </tr>\n",
              "  </tbody>\n",
              "</table>\n",
              "</div>"
            ],
            "text/plain": [
              "   age          workclass  fnlwgt  ... hours-per-week         country  salary\n",
              "0   39          State-gov   77516  ...             40   United-States   <=50K\n",
              "1   50   Self-emp-not-inc   83311  ...             13   United-States   <=50K\n",
              "2   38            Private  215646  ...             40   United-States   <=50K\n",
              "3   53            Private  234721  ...             40   United-States   <=50K\n",
              "4   28            Private  338409  ...             40            Cuba   <=50K\n",
              "\n",
              "[5 rows x 15 columns]"
            ]
          },
          "metadata": {
            "tags": []
          },
          "execution_count": 78
        }
      ]
    },
    {
      "cell_type": "code",
      "metadata": {
        "id": "g35T_Cyv3scM",
        "colab_type": "code",
        "outputId": "7b97f536-1b07-4121-cf98-ecbdf5596cbc",
        "colab": {
          "base_uri": "https://localhost:8080/",
          "height": 300
        }
      },
      "source": [
        "df.describe()"
      ],
      "execution_count": 79,
      "outputs": [
        {
          "output_type": "execute_result",
          "data": {
            "text/html": [
              "<div>\n",
              "<style scoped>\n",
              "    .dataframe tbody tr th:only-of-type {\n",
              "        vertical-align: middle;\n",
              "    }\n",
              "\n",
              "    .dataframe tbody tr th {\n",
              "        vertical-align: top;\n",
              "    }\n",
              "\n",
              "    .dataframe thead th {\n",
              "        text-align: right;\n",
              "    }\n",
              "</style>\n",
              "<table border=\"1\" class=\"dataframe\">\n",
              "  <thead>\n",
              "    <tr style=\"text-align: right;\">\n",
              "      <th></th>\n",
              "      <th>age</th>\n",
              "      <th>fnlwgt</th>\n",
              "      <th>education-num</th>\n",
              "      <th>capital-gain</th>\n",
              "      <th>capital-loss</th>\n",
              "      <th>hours-per-week</th>\n",
              "    </tr>\n",
              "  </thead>\n",
              "  <tbody>\n",
              "    <tr>\n",
              "      <th>count</th>\n",
              "      <td>32561.000000</td>\n",
              "      <td>3.256100e+04</td>\n",
              "      <td>32561.000000</td>\n",
              "      <td>32561.000000</td>\n",
              "      <td>32561.000000</td>\n",
              "      <td>32561.000000</td>\n",
              "    </tr>\n",
              "    <tr>\n",
              "      <th>mean</th>\n",
              "      <td>38.581647</td>\n",
              "      <td>1.897784e+05</td>\n",
              "      <td>10.080679</td>\n",
              "      <td>1077.648844</td>\n",
              "      <td>87.303830</td>\n",
              "      <td>40.437456</td>\n",
              "    </tr>\n",
              "    <tr>\n",
              "      <th>std</th>\n",
              "      <td>13.640433</td>\n",
              "      <td>1.055500e+05</td>\n",
              "      <td>2.572720</td>\n",
              "      <td>7385.292085</td>\n",
              "      <td>402.960219</td>\n",
              "      <td>12.347429</td>\n",
              "    </tr>\n",
              "    <tr>\n",
              "      <th>min</th>\n",
              "      <td>17.000000</td>\n",
              "      <td>1.228500e+04</td>\n",
              "      <td>1.000000</td>\n",
              "      <td>0.000000</td>\n",
              "      <td>0.000000</td>\n",
              "      <td>1.000000</td>\n",
              "    </tr>\n",
              "    <tr>\n",
              "      <th>25%</th>\n",
              "      <td>28.000000</td>\n",
              "      <td>1.178270e+05</td>\n",
              "      <td>9.000000</td>\n",
              "      <td>0.000000</td>\n",
              "      <td>0.000000</td>\n",
              "      <td>40.000000</td>\n",
              "    </tr>\n",
              "    <tr>\n",
              "      <th>50%</th>\n",
              "      <td>37.000000</td>\n",
              "      <td>1.783560e+05</td>\n",
              "      <td>10.000000</td>\n",
              "      <td>0.000000</td>\n",
              "      <td>0.000000</td>\n",
              "      <td>40.000000</td>\n",
              "    </tr>\n",
              "    <tr>\n",
              "      <th>75%</th>\n",
              "      <td>48.000000</td>\n",
              "      <td>2.370510e+05</td>\n",
              "      <td>12.000000</td>\n",
              "      <td>0.000000</td>\n",
              "      <td>0.000000</td>\n",
              "      <td>45.000000</td>\n",
              "    </tr>\n",
              "    <tr>\n",
              "      <th>max</th>\n",
              "      <td>90.000000</td>\n",
              "      <td>1.484705e+06</td>\n",
              "      <td>16.000000</td>\n",
              "      <td>99999.000000</td>\n",
              "      <td>4356.000000</td>\n",
              "      <td>99.000000</td>\n",
              "    </tr>\n",
              "  </tbody>\n",
              "</table>\n",
              "</div>"
            ],
            "text/plain": [
              "                age        fnlwgt  ...  capital-loss  hours-per-week\n",
              "count  32561.000000  3.256100e+04  ...  32561.000000    32561.000000\n",
              "mean      38.581647  1.897784e+05  ...     87.303830       40.437456\n",
              "std       13.640433  1.055500e+05  ...    402.960219       12.347429\n",
              "min       17.000000  1.228500e+04  ...      0.000000        1.000000\n",
              "25%       28.000000  1.178270e+05  ...      0.000000       40.000000\n",
              "50%       37.000000  1.783560e+05  ...      0.000000       40.000000\n",
              "75%       48.000000  2.370510e+05  ...      0.000000       45.000000\n",
              "max       90.000000  1.484705e+06  ...   4356.000000       99.000000\n",
              "\n",
              "[8 rows x 6 columns]"
            ]
          },
          "metadata": {
            "tags": []
          },
          "execution_count": 79
        }
      ]
    },
    {
      "cell_type": "code",
      "metadata": {
        "id": "K_00c4de3uJx",
        "colab_type": "code",
        "outputId": "0cbea7fc-b927-4c83-f800-1f6a25f36a08",
        "colab": {
          "base_uri": "https://localhost:8080/",
          "height": 175
        }
      },
      "source": [
        "df.describe(exclude='number')"
      ],
      "execution_count": 80,
      "outputs": [
        {
          "output_type": "execute_result",
          "data": {
            "text/html": [
              "<div>\n",
              "<style scoped>\n",
              "    .dataframe tbody tr th:only-of-type {\n",
              "        vertical-align: middle;\n",
              "    }\n",
              "\n",
              "    .dataframe tbody tr th {\n",
              "        vertical-align: top;\n",
              "    }\n",
              "\n",
              "    .dataframe thead th {\n",
              "        text-align: right;\n",
              "    }\n",
              "</style>\n",
              "<table border=\"1\" class=\"dataframe\">\n",
              "  <thead>\n",
              "    <tr style=\"text-align: right;\">\n",
              "      <th></th>\n",
              "      <th>workclass</th>\n",
              "      <th>education</th>\n",
              "      <th>marital-status</th>\n",
              "      <th>occupation</th>\n",
              "      <th>relationship</th>\n",
              "      <th>race</th>\n",
              "      <th>sex</th>\n",
              "      <th>country</th>\n",
              "      <th>salary</th>\n",
              "    </tr>\n",
              "  </thead>\n",
              "  <tbody>\n",
              "    <tr>\n",
              "      <th>count</th>\n",
              "      <td>30725</td>\n",
              "      <td>32561</td>\n",
              "      <td>32561</td>\n",
              "      <td>30718</td>\n",
              "      <td>32561</td>\n",
              "      <td>32561</td>\n",
              "      <td>32561</td>\n",
              "      <td>31978</td>\n",
              "      <td>32561</td>\n",
              "    </tr>\n",
              "    <tr>\n",
              "      <th>unique</th>\n",
              "      <td>8</td>\n",
              "      <td>16</td>\n",
              "      <td>7</td>\n",
              "      <td>14</td>\n",
              "      <td>6</td>\n",
              "      <td>5</td>\n",
              "      <td>2</td>\n",
              "      <td>41</td>\n",
              "      <td>2</td>\n",
              "    </tr>\n",
              "    <tr>\n",
              "      <th>top</th>\n",
              "      <td>Private</td>\n",
              "      <td>HS-grad</td>\n",
              "      <td>Married-civ-spouse</td>\n",
              "      <td>Prof-specialty</td>\n",
              "      <td>Husband</td>\n",
              "      <td>White</td>\n",
              "      <td>Male</td>\n",
              "      <td>United-States</td>\n",
              "      <td>&lt;=50K</td>\n",
              "    </tr>\n",
              "    <tr>\n",
              "      <th>freq</th>\n",
              "      <td>22696</td>\n",
              "      <td>10501</td>\n",
              "      <td>14976</td>\n",
              "      <td>4140</td>\n",
              "      <td>13193</td>\n",
              "      <td>27816</td>\n",
              "      <td>21790</td>\n",
              "      <td>29170</td>\n",
              "      <td>24720</td>\n",
              "    </tr>\n",
              "  </tbody>\n",
              "</table>\n",
              "</div>"
            ],
            "text/plain": [
              "       workclass education       marital-status  ...    sex         country  salary\n",
              "count      30725     32561                32561  ...  32561           31978   32561\n",
              "unique         8        16                    7  ...      2              41       2\n",
              "top      Private   HS-grad   Married-civ-spouse  ...   Male   United-States   <=50K\n",
              "freq       22696     10501                14976  ...  21790           29170   24720\n",
              "\n",
              "[4 rows x 9 columns]"
            ]
          },
          "metadata": {
            "tags": []
          },
          "execution_count": 80
        }
      ]
    },
    {
      "cell_type": "code",
      "metadata": {
        "id": "QKQlwnEx3v9h",
        "colab_type": "code",
        "outputId": "c85bd55d-53c1-4a8a-fead-1a98fb56c5a1",
        "colab": {
          "base_uri": "https://localhost:8080/",
          "height": 348
        }
      },
      "source": [
        "# I NEED CATEGORICAL VARIABLES TO DO A CHI^2 TEST\n",
        "cut_points = [0, 9, 19, 29, 39, 49, 1000]\n",
        "label_names = ['0-9', '10-19', '20-29', '30-39', '40-49', '50+']\n",
        "df['hours_per_week_categories'] = pd.cut(df['hours-per-week'], cut_points, labels=label_names)\n",
        "\n",
        "df.head()"
      ],
      "execution_count": 82,
      "outputs": [
        {
          "output_type": "execute_result",
          "data": {
            "text/html": [
              "<div>\n",
              "<style scoped>\n",
              "    .dataframe tbody tr th:only-of-type {\n",
              "        vertical-align: middle;\n",
              "    }\n",
              "\n",
              "    .dataframe tbody tr th {\n",
              "        vertical-align: top;\n",
              "    }\n",
              "\n",
              "    .dataframe thead th {\n",
              "        text-align: right;\n",
              "    }\n",
              "</style>\n",
              "<table border=\"1\" class=\"dataframe\">\n",
              "  <thead>\n",
              "    <tr style=\"text-align: right;\">\n",
              "      <th></th>\n",
              "      <th>age</th>\n",
              "      <th>workclass</th>\n",
              "      <th>fnlwgt</th>\n",
              "      <th>education</th>\n",
              "      <th>education-num</th>\n",
              "      <th>marital-status</th>\n",
              "      <th>occupation</th>\n",
              "      <th>relationship</th>\n",
              "      <th>race</th>\n",
              "      <th>sex</th>\n",
              "      <th>capital-gain</th>\n",
              "      <th>capital-loss</th>\n",
              "      <th>hours-per-week</th>\n",
              "      <th>country</th>\n",
              "      <th>salary</th>\n",
              "      <th>hours_per_week_categories</th>\n",
              "    </tr>\n",
              "  </thead>\n",
              "  <tbody>\n",
              "    <tr>\n",
              "      <th>0</th>\n",
              "      <td>39</td>\n",
              "      <td>State-gov</td>\n",
              "      <td>77516</td>\n",
              "      <td>Bachelors</td>\n",
              "      <td>13</td>\n",
              "      <td>Never-married</td>\n",
              "      <td>Adm-clerical</td>\n",
              "      <td>Not-in-family</td>\n",
              "      <td>White</td>\n",
              "      <td>Male</td>\n",
              "      <td>2174</td>\n",
              "      <td>0</td>\n",
              "      <td>40</td>\n",
              "      <td>United-States</td>\n",
              "      <td>&lt;=50K</td>\n",
              "      <td>40-49</td>\n",
              "    </tr>\n",
              "    <tr>\n",
              "      <th>1</th>\n",
              "      <td>50</td>\n",
              "      <td>Self-emp-not-inc</td>\n",
              "      <td>83311</td>\n",
              "      <td>Bachelors</td>\n",
              "      <td>13</td>\n",
              "      <td>Married-civ-spouse</td>\n",
              "      <td>Exec-managerial</td>\n",
              "      <td>Husband</td>\n",
              "      <td>White</td>\n",
              "      <td>Male</td>\n",
              "      <td>0</td>\n",
              "      <td>0</td>\n",
              "      <td>13</td>\n",
              "      <td>United-States</td>\n",
              "      <td>&lt;=50K</td>\n",
              "      <td>10-19</td>\n",
              "    </tr>\n",
              "    <tr>\n",
              "      <th>2</th>\n",
              "      <td>38</td>\n",
              "      <td>Private</td>\n",
              "      <td>215646</td>\n",
              "      <td>HS-grad</td>\n",
              "      <td>9</td>\n",
              "      <td>Divorced</td>\n",
              "      <td>Handlers-cleaners</td>\n",
              "      <td>Not-in-family</td>\n",
              "      <td>White</td>\n",
              "      <td>Male</td>\n",
              "      <td>0</td>\n",
              "      <td>0</td>\n",
              "      <td>40</td>\n",
              "      <td>United-States</td>\n",
              "      <td>&lt;=50K</td>\n",
              "      <td>40-49</td>\n",
              "    </tr>\n",
              "    <tr>\n",
              "      <th>3</th>\n",
              "      <td>53</td>\n",
              "      <td>Private</td>\n",
              "      <td>234721</td>\n",
              "      <td>11th</td>\n",
              "      <td>7</td>\n",
              "      <td>Married-civ-spouse</td>\n",
              "      <td>Handlers-cleaners</td>\n",
              "      <td>Husband</td>\n",
              "      <td>Black</td>\n",
              "      <td>Male</td>\n",
              "      <td>0</td>\n",
              "      <td>0</td>\n",
              "      <td>40</td>\n",
              "      <td>United-States</td>\n",
              "      <td>&lt;=50K</td>\n",
              "      <td>40-49</td>\n",
              "    </tr>\n",
              "    <tr>\n",
              "      <th>4</th>\n",
              "      <td>28</td>\n",
              "      <td>Private</td>\n",
              "      <td>338409</td>\n",
              "      <td>Bachelors</td>\n",
              "      <td>13</td>\n",
              "      <td>Married-civ-spouse</td>\n",
              "      <td>Prof-specialty</td>\n",
              "      <td>Wife</td>\n",
              "      <td>Black</td>\n",
              "      <td>Female</td>\n",
              "      <td>0</td>\n",
              "      <td>0</td>\n",
              "      <td>40</td>\n",
              "      <td>Cuba</td>\n",
              "      <td>&lt;=50K</td>\n",
              "      <td>40-49</td>\n",
              "    </tr>\n",
              "  </tbody>\n",
              "</table>\n",
              "</div>"
            ],
            "text/plain": [
              "   age          workclass  ...  salary hours_per_week_categories\n",
              "0   39          State-gov  ...   <=50K                     40-49\n",
              "1   50   Self-emp-not-inc  ...   <=50K                     10-19\n",
              "2   38            Private  ...   <=50K                     40-49\n",
              "3   53            Private  ...   <=50K                     40-49\n",
              "4   28            Private  ...   <=50K                     40-49\n",
              "\n",
              "[5 rows x 16 columns]"
            ]
          },
          "metadata": {
            "tags": []
          },
          "execution_count": 82
        }
      ]
    },
    {
      "cell_type": "code",
      "metadata": {
        "id": "I7bviDCO3y3f",
        "colab_type": "code",
        "outputId": "9bf96c41-907a-4589-e997-f520fabf2f95",
        "colab": {
          "base_uri": "https://localhost:8080/",
          "height": 72
        }
      },
      "source": [
        "df['sex'].value_counts()"
      ],
      "execution_count": 83,
      "outputs": [
        {
          "output_type": "execute_result",
          "data": {
            "text/plain": [
              " Male      21790\n",
              " Female    10771\n",
              "Name: sex, dtype: int64"
            ]
          },
          "metadata": {
            "tags": []
          },
          "execution_count": 83
        }
      ]
    },
    {
      "cell_type": "code",
      "metadata": {
        "id": "nUl9s1Ql4WMj",
        "colab_type": "code",
        "outputId": "da4bf85b-0b27-4da6-fce4-fcc70e01154c",
        "colab": {
          "base_uri": "https://localhost:8080/",
          "height": 146
        }
      },
      "source": [
        "df['hours_per_week_categories'].value_counts()"
      ],
      "execution_count": 84,
      "outputs": [
        {
          "output_type": "execute_result",
          "data": {
            "text/plain": [
              "40-49    18336\n",
              "50+       6462\n",
              "30-39     3667\n",
              "20-29     2392\n",
              "10-19     1246\n",
              "0-9        458\n",
              "Name: hours_per_week_categories, dtype: int64"
            ]
          },
          "metadata": {
            "tags": []
          },
          "execution_count": 84
        }
      ]
    },
    {
      "cell_type": "code",
      "metadata": {
        "id": "CwVjnvFe8uwj",
        "colab_type": "code",
        "outputId": "3d30b51b-df8b-4e54-a591-48d560a28ca4",
        "colab": {
          "base_uri": "https://localhost:8080/",
          "height": 143
        }
      },
      "source": [
        "observed = pd.crosstab(df['sex'], df['hours_per_week_categories'])\n",
        "\n",
        "observed"
      ],
      "execution_count": 85,
      "outputs": [
        {
          "output_type": "execute_result",
          "data": {
            "text/html": [
              "<div>\n",
              "<style scoped>\n",
              "    .dataframe tbody tr th:only-of-type {\n",
              "        vertical-align: middle;\n",
              "    }\n",
              "\n",
              "    .dataframe tbody tr th {\n",
              "        vertical-align: top;\n",
              "    }\n",
              "\n",
              "    .dataframe thead th {\n",
              "        text-align: right;\n",
              "    }\n",
              "</style>\n",
              "<table border=\"1\" class=\"dataframe\">\n",
              "  <thead>\n",
              "    <tr style=\"text-align: right;\">\n",
              "      <th>hours_per_week_categories</th>\n",
              "      <th>0-9</th>\n",
              "      <th>10-19</th>\n",
              "      <th>20-29</th>\n",
              "      <th>30-39</th>\n",
              "      <th>40-49</th>\n",
              "      <th>50+</th>\n",
              "    </tr>\n",
              "    <tr>\n",
              "      <th>sex</th>\n",
              "      <th></th>\n",
              "      <th></th>\n",
              "      <th></th>\n",
              "      <th></th>\n",
              "      <th></th>\n",
              "      <th></th>\n",
              "    </tr>\n",
              "  </thead>\n",
              "  <tbody>\n",
              "    <tr>\n",
              "      <th>Female</th>\n",
              "      <td>235</td>\n",
              "      <td>671</td>\n",
              "      <td>1287</td>\n",
              "      <td>1914</td>\n",
              "      <td>5636</td>\n",
              "      <td>1028</td>\n",
              "    </tr>\n",
              "    <tr>\n",
              "      <th>Male</th>\n",
              "      <td>223</td>\n",
              "      <td>575</td>\n",
              "      <td>1105</td>\n",
              "      <td>1753</td>\n",
              "      <td>12700</td>\n",
              "      <td>5434</td>\n",
              "    </tr>\n",
              "  </tbody>\n",
              "</table>\n",
              "</div>"
            ],
            "text/plain": [
              "hours_per_week_categories  0-9  10-19  20-29  30-39  40-49   50+\n",
              "sex                                                             \n",
              " Female                    235    671   1287   1914   5636  1028\n",
              " Male                      223    575   1105   1753  12700  5434"
            ]
          },
          "metadata": {
            "tags": []
          },
          "execution_count": 85
        }
      ]
    },
    {
      "cell_type": "code",
      "metadata": {
        "id": "SBR8_mq54l5x",
        "colab_type": "code",
        "outputId": "b262c7dc-2b6c-474f-ef3b-1347462aded9",
        "colab": {
          "base_uri": "https://localhost:8080/",
          "height": 164
        }
      },
      "source": [
        "chi_squared, p_value, dof, expected = stats.chi2_contingency(observed)\n",
        "# it tests if these two variables were independent, H0= they are independent, or\n",
        "# there is no gender influence on the hour per week worked\n",
        "print(f\"Chi-Squared: {chi_squared}\")\n",
        "print(f\"P-value: {p_value}\")\n",
        "print(f\"Degrees of Freedom: {dof}\") \n",
        "print(\"Expected: \\n\", np.array(expected))"
      ],
      "execution_count": 86,
      "outputs": [
        {
          "output_type": "stream",
          "text": [
            "Chi-Squared: 2287.190943926107\n",
            "P-value: 0.0\n",
            "Degrees of Freedom: 5\n",
            "Expected: \n",
            " [[  151.50388502   412.16995793   791.26046497  1213.02346365\n",
            "   6065.44811277  2137.59411566]\n",
            " [  306.49611498   833.83004207  1600.73953503  2453.97653635\n",
            "  12270.55188723  4324.40588434]]\n"
          ],
          "name": "stdout"
        }
      ]
    },
    {
      "cell_type": "markdown",
      "metadata": {
        "id": "pTIzrkKdUaLl",
        "colab_type": "text"
      },
      "source": [
        "## Run a $\\chi^{2}$ Test \"by hand\" (Using Numpy)\n",
        "\n"
      ]
    },
    {
      "cell_type": "code",
      "metadata": {
        "id": "sKEcGGwGWBbC",
        "colab_type": "code",
        "outputId": "ba933d18-9824-4b37-ede4-cf93193f1a5a",
        "colab": {
          "base_uri": "https://localhost:8080/",
          "height": 175
        }
      },
      "source": [
        "# We'll view the contingency table (crosstab) with margins. \n",
        "# We will use the margins to calculate the table of expected values\n",
        "# The table of expected values holds the values that we would expect if\n",
        "# the null hypothesis (independence) were true.\n",
        "# Here independence means there is no gender influence on the hour per week worked\n",
        "contingency_table = pd.crosstab(df['sex'], df['hours_per_week_categories'], margins=True)\n",
        "contingency_table"
      ],
      "execution_count": 88,
      "outputs": [
        {
          "output_type": "execute_result",
          "data": {
            "text/html": [
              "<div>\n",
              "<style scoped>\n",
              "    .dataframe tbody tr th:only-of-type {\n",
              "        vertical-align: middle;\n",
              "    }\n",
              "\n",
              "    .dataframe tbody tr th {\n",
              "        vertical-align: top;\n",
              "    }\n",
              "\n",
              "    .dataframe thead th {\n",
              "        text-align: right;\n",
              "    }\n",
              "</style>\n",
              "<table border=\"1\" class=\"dataframe\">\n",
              "  <thead>\n",
              "    <tr style=\"text-align: right;\">\n",
              "      <th>hours_per_week_categories</th>\n",
              "      <th>0-9</th>\n",
              "      <th>10-19</th>\n",
              "      <th>20-29</th>\n",
              "      <th>30-39</th>\n",
              "      <th>40-49</th>\n",
              "      <th>50+</th>\n",
              "      <th>All</th>\n",
              "    </tr>\n",
              "    <tr>\n",
              "      <th>sex</th>\n",
              "      <th></th>\n",
              "      <th></th>\n",
              "      <th></th>\n",
              "      <th></th>\n",
              "      <th></th>\n",
              "      <th></th>\n",
              "      <th></th>\n",
              "    </tr>\n",
              "  </thead>\n",
              "  <tbody>\n",
              "    <tr>\n",
              "      <th>Female</th>\n",
              "      <td>235</td>\n",
              "      <td>671</td>\n",
              "      <td>1287</td>\n",
              "      <td>1914</td>\n",
              "      <td>5636</td>\n",
              "      <td>1028</td>\n",
              "      <td>10771</td>\n",
              "    </tr>\n",
              "    <tr>\n",
              "      <th>Male</th>\n",
              "      <td>223</td>\n",
              "      <td>575</td>\n",
              "      <td>1105</td>\n",
              "      <td>1753</td>\n",
              "      <td>12700</td>\n",
              "      <td>5434</td>\n",
              "      <td>21790</td>\n",
              "    </tr>\n",
              "    <tr>\n",
              "      <th>All</th>\n",
              "      <td>458</td>\n",
              "      <td>1246</td>\n",
              "      <td>2392</td>\n",
              "      <td>3667</td>\n",
              "      <td>18336</td>\n",
              "      <td>6462</td>\n",
              "      <td>32561</td>\n",
              "    </tr>\n",
              "  </tbody>\n",
              "</table>\n",
              "</div>"
            ],
            "text/plain": [
              "hours_per_week_categories  0-9  10-19  20-29  30-39  40-49   50+    All\n",
              "sex                                                                    \n",
              " Female                    235    671   1287   1914   5636  1028  10771\n",
              " Male                      223    575   1105   1753  12700  5434  21790\n",
              "All                        458   1246   2392   3667  18336  6462  32561"
            ]
          },
          "metadata": {
            "tags": []
          },
          "execution_count": 88
        }
      ]
    },
    {
      "cell_type": "code",
      "metadata": {
        "id": "kps0s9-pWDdw",
        "colab_type": "code",
        "outputId": "a150cbdb-46b1-44c5-d7c7-64dc9d24e4f2",
        "colab": {
          "base_uri": "https://localhost:8080/",
          "height": 35
        }
      },
      "source": [
        "# Grab the crosstab cells that correspond to the females\n",
        "femalecount = contingency_table.iloc[0][0:6].values\n",
        "femalecount"
      ],
      "execution_count": 89,
      "outputs": [
        {
          "output_type": "execute_result",
          "data": {
            "text/plain": [
              "array([ 235,  671, 1287, 1914, 5636, 1028])"
            ]
          },
          "metadata": {
            "tags": []
          },
          "execution_count": 89
        }
      ]
    },
    {
      "cell_type": "code",
      "metadata": {
        "id": "z_zHL3G9WE_k",
        "colab_type": "code",
        "outputId": "9c9f001d-b114-4cab-d6a5-9a1953e59e72",
        "colab": {
          "base_uri": "https://localhost:8080/",
          "height": 35
        }
      },
      "source": [
        "# Grab the crosstab cells that correspond to the males\n",
        "malecount = contingency_table.iloc[1][0:6].values\n",
        "malecount"
      ],
      "execution_count": 90,
      "outputs": [
        {
          "output_type": "execute_result",
          "data": {
            "text/plain": [
              "array([  223,   575,  1105,  1753, 12700,  5434])"
            ]
          },
          "metadata": {
            "tags": []
          },
          "execution_count": 90
        }
      ]
    },
    {
      "cell_type": "code",
      "metadata": {
        "id": "DDsovHUyUj3v",
        "colab_type": "code",
        "outputId": "6e07104d-010b-45d7-ed2d-ad0f71c171f5",
        "colab": {
          "base_uri": "https://localhost:8080/",
          "height": 355
        }
      },
      "source": [
        "import matplotlib.pyplot as plt\n",
        "import seaborn as sns\n",
        "\n",
        "# In this bar chart we can eyeball the dependence between these two variables\n",
        "# If these two variables were independent, we would expect the proportions of \n",
        "# red and blue to be consistent throughout the bars. This is not what we see.\n",
        "fig = plt.figure(figsize=(10, 5))\n",
        "sns.set(font_scale=1.8)\n",
        "categories = [\"0-9\",\"10-19\",\"20-29\",\"30-39\",\"40-49\",\"50+\"]\n",
        "p1 = plt.bar(categories, malecount, width=0.55, color='#d62728')\n",
        "p2 = plt.bar(categories, femalecount, width=0.55, bottom=malecount)\n",
        "plt.legend((p2[0], p1[0]), ('Female', 'Male'))\n",
        "plt.xlabel('Hours per Week Worked')\n",
        "plt.ylabel('Count')\n",
        "plt.show()"
      ],
      "execution_count": 92,
      "outputs": [
        {
          "output_type": "display_data",
          "data": {
            "image/png": "[encoded data removed]",
            "text/plain": [
              "<Figure size 720x360 with 1 Axes>"
            ]
          },
          "metadata": {
            "tags": []
          }
        }
      ]
    },
    {
      "cell_type": "markdown",
      "metadata": {
        "id": "m6W-61lJXLfZ",
        "colab_type": "text"
      },
      "source": [
        "## Expected Value Calculation\n",
        "\\begin{align}\n",
        "expected_{i,j} =\\frac{(row_{i} \\text{total})(column_{j} \\text{total}) }{(\\text{total observations})}  \n",
        "\\end{align}"
      ]
    },
    {
      "cell_type": "code",
      "metadata": {
        "id": "I8KVuqpcV7dv",
        "colab_type": "code",
        "outputId": "9944e857-f92f-478c-ff31-6c77b4685ad7",
        "colab": {
          "base_uri": "https://localhost:8080/",
          "height": 54
        }
      },
      "source": [
        "# Calculate row and column totals to use in the expected value calculations\n",
        "row_sums = contingency_table.iloc[0:2, 6].values\n",
        "col_sums = contingency_table.iloc[2, 0:6].values\n",
        "\n",
        "print(row_sums)\n",
        "print(col_sums)"
      ],
      "execution_count": 93,
      "outputs": [
        {
          "output_type": "stream",
          "text": [
            "[10771 21790]\n",
            "[  458  1246  2392  3667 18336  6462]\n"
          ],
          "name": "stdout"
        }
      ]
    },
    {
      "cell_type": "code",
      "metadata": {
        "id": "NcmjWaMTXRgo",
        "colab_type": "code",
        "outputId": "75e2f583-8ce3-499b-d007-62eb45106af2",
        "colab": {
          "base_uri": "https://localhost:8080/",
          "height": 35
        }
      },
      "source": [
        "# We can pull the sample size from the crosstab \n",
        "total = contingency_table.loc['All','All']\n",
        "total"
      ],
      "execution_count": 94,
      "outputs": [
        {
          "output_type": "execute_result",
          "data": {
            "text/plain": [
              "32561"
            ]
          },
          "metadata": {
            "tags": []
          },
          "execution_count": 94
        }
      ]
    },
    {
      "cell_type": "code",
      "metadata": {
        "id": "D8qRInDhXUei",
        "colab_type": "code",
        "outputId": "40d23a15-4dc5-4154-cc64-60ba16fbc31c",
        "colab": {
          "base_uri": "https://localhost:8080/",
          "height": 35
        }
      },
      "source": [
        "# Or just grab it from the dataframe:\n",
        "df.shape[0]"
      ],
      "execution_count": 95,
      "outputs": [
        {
          "output_type": "execute_result",
          "data": {
            "text/plain": [
              "32561"
            ]
          },
          "metadata": {
            "tags": []
          },
          "execution_count": 95
        }
      ]
    },
    {
      "cell_type": "code",
      "metadata": {
        "id": "r72UUfyJXc3K",
        "colab_type": "code",
        "outputId": "5d4da655-4f93-46a2-ead8-7ddc30e7a32e",
        "colab": {
          "base_uri": "https://localhost:8080/",
          "height": 109
        }
      },
      "source": [
        "# Now we have everything that we need to calculate our table of expected values\n",
        "\n",
        "expected = []\n",
        "for i in range(len(row_sums)):\n",
        "  expected_row = []\n",
        "  for column in col_sums:\n",
        "    expected_val = column*row_sums[i]/total\n",
        "    expected_row.append(expected_val)\n",
        "  expected.append(expected_row)\n",
        "  \n",
        "expected = np.array(expected)\n",
        "\n",
        "# The shape of our table should match our contingency table\n",
        "print(expected.shape)  \n",
        "# The expected table here should match the table reported by scipy, or else\n",
        "# we have made a mistake.\n",
        "print(expected)"
      ],
      "execution_count": 96,
      "outputs": [
        {
          "output_type": "stream",
          "text": [
            "(2, 6)\n",
            "[[  151.50388502   412.16995793   791.26046497  1213.02346365\n",
            "   6065.44811277  2137.59411566]\n",
            " [  306.49611498   833.83004207  1600.73953503  2453.97653635\n",
            "  12270.55188723  4324.40588434]]\n"
          ],
          "name": "stdout"
        }
      ]
    },
    {
      "cell_type": "code",
      "metadata": {
        "id": "schGcj4sX3mp",
        "colab_type": "code",
        "outputId": "6406ac61-a60e-4f2a-f3ac-7476a7612d30",
        "colab": {
          "base_uri": "https://localhost:8080/",
          "height": 72
        }
      },
      "source": [
        "# our observed table comes from the contingency table (crosstab) \n",
        "# without the margins\n",
        "\n",
        "observed = pd.crosstab(df['sex'], df['hours_per_week_categories']).values\n",
        "print(observed.shape)\n",
        "observed\n",
        "\n",
        "# This table should have the same shape as the expected table."
      ],
      "execution_count": 97,
      "outputs": [
        {
          "output_type": "stream",
          "text": [
            "(2, 6)\n"
          ],
          "name": "stdout"
        },
        {
          "output_type": "execute_result",
          "data": {
            "text/plain": [
              "array([[  235,   671,  1287,  1914,  5636,  1028],\n",
              "       [  223,   575,  1105,  1753, 12700,  5434]])"
            ]
          },
          "metadata": {
            "tags": []
          },
          "execution_count": 97
        }
      ]
    },
    {
      "cell_type": "markdown",
      "metadata": {
        "id": "rWUgroY4YIMW",
        "colab_type": "text"
      },
      "source": [
        "## Chi-Squared Statistic with Numpy\n",
        "\n",
        "\\begin{align}\n",
        "\\chi^2 = \\sum \\frac{(observed_{i}-expected_{i})^2}{(expected_{i})}\n",
        "\\end{align}\n",
        "\n",
        "For the $observed$ values we will just use a version of our contingency table without the margins as a numpy array. In this way, if our observed values array and our expected values array are the same shape, then we can subtract them and divide them directly which makes the calculations a lot cleaner. No for loops!"
      ]
    },
    {
      "cell_type": "code",
      "metadata": {
        "id": "CdGBxj4LYB6H",
        "colab_type": "code",
        "outputId": "12ef6144-b49f-4fb7-855f-aa685409779b",
        "colab": {
          "base_uri": "https://localhost:8080/",
          "height": 35
        }
      },
      "source": [
        "# numpy array broadcasting allows us to write code that looks a lot like the \n",
        "# equation above.\n",
        "\n",
        "# Array broadcasting will work with numpy arrays but not python lists\n",
        "chi_squared = ((observed - expected)**2/(expected)).sum() \n",
        "print(f\"Chi-Squared: {chi_squared}\")\n",
        "# Our chi^2 statistic should match what was caculated by scipy -it does. "
      ],
      "execution_count": 99,
      "outputs": [
        {
          "output_type": "stream",
          "text": [
            "Chi-Squared: 2287.190943926107\n"
          ],
          "name": "stdout"
        }
      ]
    },
    {
      "cell_type": "code",
      "metadata": {
        "id": "S0iiCNFbYXBJ",
        "colab_type": "code",
        "outputId": "921aa19d-be48-499e-dbdf-32c5c91a199c",
        "colab": {
          "base_uri": "https://localhost:8080/",
          "height": 35
        }
      },
      "source": [
        "# Degrees of Freedom of a Chi-squared test\n",
        "#degrees_of_freedom = (num_rows - 1)(num_columns - 1)\n",
        "# Calculate Degrees of Freedom\n",
        "dof = (len(row_sums)-1)*(len(col_sums)-1)\n",
        "print(f\"Degrees of Freedom: {dof}\")"
      ],
      "execution_count": 100,
      "outputs": [
        {
          "output_type": "stream",
          "text": [
            "Degrees of Freedom: 5\n"
          ],
          "name": "stdout"
        }
      ]
    },
    {
      "cell_type": "markdown",
      "metadata": {
        "id": "3nC31DiQYp7Y",
        "colab_type": "text"
      },
      "source": [
        "We can use tables or a function to translate our chi^2 statistic to a p-value. Because this chi^2 statistic is giant, we kind of already know that the p-value will be very close to zero.\n",
        "\n",
        "\n",
        "For a contingency table with 5 degrees of freedom any p-value greater than 11.07 will be significant and we will reject the null hypothesis of independence.\n",
        "\n",
        "[Chi^2 Table](https://www.google.com/search?q=chi%5E2+table&rlz=1C5CHFA_enUS829US829&sxsrf=ACYBGNTNNVHlurLvNnKaf-q7YeMNgk5WEg:1572987940240&source=lnms&tbm=isch&sa=X&ved=0ahUKEwiBx6fb_NPlAhVQvJ4KHY8sDksQ_AUIEigB&biw=1333&bih=758#imgrc=XUssqKatril4ZM:)\n",
        "\n"
      ]
    },
    {
      "cell_type": "code",
      "metadata": {
        "id": "Iblqb2akZeMq",
        "colab_type": "code",
        "outputId": "44c14c9b-7679-4043-b337-79709330452d",
        "colab": {
          "base_uri": "https://localhost:8080/",
          "height": 35
        }
      },
      "source": [
        "from scipy.stats.distributions import chi2\n",
        "\n",
        "print(\"P-value from chi^2 statistic:\", chi2.sf(chi_squared, 5))"
      ],
      "execution_count": 101,
      "outputs": [
        {
          "output_type": "stream",
          "text": [
            "P-value from chi^2 statistic: 0.0\n"
          ],
          "name": "stdout"
        }
      ]
    }
  ]
}