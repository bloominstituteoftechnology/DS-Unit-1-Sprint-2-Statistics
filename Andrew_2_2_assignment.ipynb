{
  "nbformat": 4,
  "nbformat_minor": 0,
  "metadata": {
    "colab": {
      "name": "Andrew_2_2_assignment",
      "provenance": [],
      "collapsed_sections": [],
      "include_colab_link": true
    },
    "kernelspec": {
      "name": "python3",
      "display_name": "Python 3"
    }
  },
  "cells": [
    {
      "cell_type": "markdown",
      "metadata": {
        "id": "view-in-github",
        "colab_type": "text"
      },
      "source": [
        "<a href=\"https://colab.research.google.com/github/andrewhslr419/DS-Unit-1-Sprint-2-Statistics/blob/master/Andrew_2_2_assignment.ipynb\" target=\"_parent\"><img src=\"https://colab.research.google.com/assets/colab-badge.svg\" alt=\"Open In Colab\"/></a>"
      ]
    },
    {
      "cell_type": "markdown",
      "metadata": {
        "id": "11OzdxWTM7UR",
        "colab_type": "text"
      },
      "source": [
        "## Assignment - Build a confidence interval\n",
        "\n",
        "A confidence interval refers to a neighborhood around some point estimate, the size of which is determined by the desired p-value. For instance, we might say that 52% of Americans prefer tacos to burritos, with a 95% confidence interval of +/- 5%.\n",
        "\n",
        "52% (0.52) is the point estimate, and +/- 5% (the interval $[0.47, 0.57]$) is the confidence interval. \"95% confidence\" means a p-value $\\leq 1 - 0.95 = 0.05$.\n",
        "\n",
        "In this case, the confidence interval includes $0.5$ - which is the natural null hypothesis (that half of Americans prefer tacos and half burritos, thus there is no clear favorite). So in this case, we could use the confidence interval to report that we've failed to reject the null hypothesis.\n",
        "\n",
        "But providing the full analysis with a confidence interval, including a graphical representation of it, can be a helpful and powerful way to tell your story. Done well, it is also more intuitive to a layperson than simply saying \"fail to reject the null hypothesis\" - it shows that in fact the data does *not* give a single clear result (the point estimate) but a whole range of possibilities.\n",
        "\n",
        "How is a confidence interval built, and how should it be interpreted? It does *not* mean that 95% of the data lies in that interval - instead, the frequentist interpretation is \"if we were to repeat this experiment 100 times, we would expect the average result to lie in this interval ~95 times.\"\n",
        "\n",
        "For a 95% confidence interval and a normal(-ish) distribution, you can simply remember that +/-2 standard deviations contains 95% of the probability mass, and so the 95% confidence interval based on a given sample is centered at the mean (point estimate) and has a range of +/- 2 (or technically 1.96) standard deviations.\n",
        "\n",
        "Different distributions/assumptions (90% confidence, 99% confidence) will require different math, but the overall process and interpretation (with a frequentist approach) will be the same.\n",
        "\n",
        "Your assignment - using the data from the prior module ([congressional voting records](https://archive.ics.uci.edu/ml/datasets/Congressional+Voting+Records)):\n",
        "\n",
        "\n",
        "### Confidence Intervals:\n",
        "1. Generate and numerically represent a confidence interval\n",
        "2. Graphically (with a plot) represent the confidence interval\n",
        "3. Interpret the confidence interval - what does it tell you about the data and its distribution?\n",
        "\n",
        "### Chi-squared tests:\n",
        "4. Take a dataset that we have used in the past in class that has **categorical** variables. Pick two of those categorical variables and run a chi-squared tests on that data\n",
        "  - By hand using Numpy\n",
        "  - In a single line using Scipy\n"
      ]
    },
    {
      "cell_type": "code",
      "metadata": {
        "id": "Ckcr4A4FM7cs",
        "colab_type": "code",
        "colab": {}
      },
      "source": [
        "import pandas as pd\n",
        "import numpy as np\n",
        "import seaborn as sns\n",
        "from scipy.stats import ttest_1samp\n",
        "from matplotlib import style\n",
        "from scipy.stats import ttest_ind\n",
        "import matplotlib.pyplot as plt"
      ],
      "execution_count": 0,
      "outputs": []
    },
    {
      "cell_type": "code",
      "metadata": {
        "id": "DvLnGeyWpcmH",
        "colab_type": "code",
        "outputId": "b4e66dcc-30cc-4a15-d0e7-2aea84eeb5f1",
        "colab": {
          "base_uri": "https://localhost:8080/",
          "height": 196
        }
      },
      "source": [
        "!wget https://archive.ics.uci.edu/ml/machine-learning-databases/voting-records/house-votes-84.data"
      ],
      "execution_count": 3,
      "outputs": [
        {
          "output_type": "stream",
          "text": [
            "--2019-12-11 21:14:16--  https://archive.ics.uci.edu/ml/machine-learning-databases/voting-records/house-votes-84.data\n",
            "Resolving archive.ics.uci.edu (archive.ics.uci.edu)... 128.195.10.252\n",
            "Connecting to archive.ics.uci.edu (archive.ics.uci.edu)|128.195.10.252|:443... connected.\n",
            "HTTP request sent, awaiting response... 200 OK\n",
            "Length: 18171 (18K) [application/x-httpd-php]\n",
            "Saving to: ‘house-votes-84.data’\n",
            "\n",
            "house-votes-84.data 100%[===================>]  17.75K  --.-KB/s    in 0.06s   \n",
            "\n",
            "2019-12-11 21:14:16 (287 KB/s) - ‘house-votes-84.data’ saved [18171/18171]\n",
            "\n"
          ],
          "name": "stdout"
        }
      ]
    },
    {
      "cell_type": "code",
      "metadata": {
        "id": "wMl5MFHMp2dV",
        "colab_type": "code",
        "outputId": "d2da5d5a-0eba-4df0-be04-5090dcbcaf29",
        "colab": {
          "base_uri": "https://localhost:8080/",
          "height": 207
        }
      },
      "source": [
        "column_headers = ['party','handicapped-infants','water-project',\n",
        "                          'budget','physician-fee-freeze', 'el-salvador-aid',\n",
        "                          'religious-groups','anti-satellite-ban',\n",
        "                          'aid-to-contras','mx-missile','immigration',\n",
        "                          'synfuels', 'education', 'right-to-sue','crime','duty-free',\n",
        "                          'south-africa']\n",
        "\n",
        "df = pd.read_csv('house-votes-84.data', \n",
        "                 header=None, \n",
        "                 names=column_headers,\n",
        "                 na_values=\"?\")\n",
        "\n",
        "df.head()"
      ],
      "execution_count": 4,
      "outputs": [
        {
          "output_type": "execute_result",
          "data": {
            "text/html": [
              "<div>\n",
              "<style scoped>\n",
              "    .dataframe tbody tr th:only-of-type {\n",
              "        vertical-align: middle;\n",
              "    }\n",
              "\n",
              "    .dataframe tbody tr th {\n",
              "        vertical-align: top;\n",
              "    }\n",
              "\n",
              "    .dataframe thead th {\n",
              "        text-align: right;\n",
              "    }\n",
              "</style>\n",
              "<table border=\"1\" class=\"dataframe\">\n",
              "  <thead>\n",
              "    <tr style=\"text-align: right;\">\n",
              "      <th></th>\n",
              "      <th>party</th>\n",
              "      <th>handicapped-infants</th>\n",
              "      <th>water-project</th>\n",
              "      <th>budget</th>\n",
              "      <th>physician-fee-freeze</th>\n",
              "      <th>el-salvador-aid</th>\n",
              "      <th>religious-groups</th>\n",
              "      <th>anti-satellite-ban</th>\n",
              "      <th>aid-to-contras</th>\n",
              "      <th>mx-missile</th>\n",
              "      <th>immigration</th>\n",
              "      <th>synfuels</th>\n",
              "      <th>education</th>\n",
              "      <th>right-to-sue</th>\n",
              "      <th>crime</th>\n",
              "      <th>duty-free</th>\n",
              "      <th>south-africa</th>\n",
              "    </tr>\n",
              "  </thead>\n",
              "  <tbody>\n",
              "    <tr>\n",
              "      <th>0</th>\n",
              "      <td>republican</td>\n",
              "      <td>n</td>\n",
              "      <td>y</td>\n",
              "      <td>n</td>\n",
              "      <td>y</td>\n",
              "      <td>y</td>\n",
              "      <td>y</td>\n",
              "      <td>n</td>\n",
              "      <td>n</td>\n",
              "      <td>n</td>\n",
              "      <td>y</td>\n",
              "      <td>NaN</td>\n",
              "      <td>y</td>\n",
              "      <td>y</td>\n",
              "      <td>y</td>\n",
              "      <td>n</td>\n",
              "      <td>y</td>\n",
              "    </tr>\n",
              "    <tr>\n",
              "      <th>1</th>\n",
              "      <td>republican</td>\n",
              "      <td>n</td>\n",
              "      <td>y</td>\n",
              "      <td>n</td>\n",
              "      <td>y</td>\n",
              "      <td>y</td>\n",
              "      <td>y</td>\n",
              "      <td>n</td>\n",
              "      <td>n</td>\n",
              "      <td>n</td>\n",
              "      <td>n</td>\n",
              "      <td>n</td>\n",
              "      <td>y</td>\n",
              "      <td>y</td>\n",
              "      <td>y</td>\n",
              "      <td>n</td>\n",
              "      <td>NaN</td>\n",
              "    </tr>\n",
              "    <tr>\n",
              "      <th>2</th>\n",
              "      <td>democrat</td>\n",
              "      <td>NaN</td>\n",
              "      <td>y</td>\n",
              "      <td>y</td>\n",
              "      <td>NaN</td>\n",
              "      <td>y</td>\n",
              "      <td>y</td>\n",
              "      <td>n</td>\n",
              "      <td>n</td>\n",
              "      <td>n</td>\n",
              "      <td>n</td>\n",
              "      <td>y</td>\n",
              "      <td>n</td>\n",
              "      <td>y</td>\n",
              "      <td>y</td>\n",
              "      <td>n</td>\n",
              "      <td>n</td>\n",
              "    </tr>\n",
              "    <tr>\n",
              "      <th>3</th>\n",
              "      <td>democrat</td>\n",
              "      <td>n</td>\n",
              "      <td>y</td>\n",
              "      <td>y</td>\n",
              "      <td>n</td>\n",
              "      <td>NaN</td>\n",
              "      <td>y</td>\n",
              "      <td>n</td>\n",
              "      <td>n</td>\n",
              "      <td>n</td>\n",
              "      <td>n</td>\n",
              "      <td>y</td>\n",
              "      <td>n</td>\n",
              "      <td>y</td>\n",
              "      <td>n</td>\n",
              "      <td>n</td>\n",
              "      <td>y</td>\n",
              "    </tr>\n",
              "    <tr>\n",
              "      <th>4</th>\n",
              "      <td>democrat</td>\n",
              "      <td>y</td>\n",
              "      <td>y</td>\n",
              "      <td>y</td>\n",
              "      <td>n</td>\n",
              "      <td>y</td>\n",
              "      <td>y</td>\n",
              "      <td>n</td>\n",
              "      <td>n</td>\n",
              "      <td>n</td>\n",
              "      <td>n</td>\n",
              "      <td>y</td>\n",
              "      <td>NaN</td>\n",
              "      <td>y</td>\n",
              "      <td>y</td>\n",
              "      <td>y</td>\n",
              "      <td>y</td>\n",
              "    </tr>\n",
              "  </tbody>\n",
              "</table>\n",
              "</div>"
            ],
            "text/plain": [
              "        party handicapped-infants water-project  ... crime duty-free south-africa\n",
              "0  republican                   n             y  ...     y         n            y\n",
              "1  republican                   n             y  ...     y         n          NaN\n",
              "2    democrat                 NaN             y  ...     y         n            n\n",
              "3    democrat                   n             y  ...     n         n            y\n",
              "4    democrat                   y             y  ...     y         y            y\n",
              "\n",
              "[5 rows x 17 columns]"
            ]
          },
          "metadata": {
            "tags": []
          },
          "execution_count": 4
        }
      ]
    },
    {
      "cell_type": "code",
      "metadata": {
        "id": "ahas5lyC_pLp",
        "colab_type": "code",
        "outputId": "beec59d7-0b1c-48dc-d16e-917fef1e61c6",
        "colab": {
          "base_uri": "https://localhost:8080/",
          "height": 207
        }
      },
      "source": [
        "df = df.replace({'y': 1, 'n': 0})\n",
        "df.head()"
      ],
      "execution_count": 5,
      "outputs": [
        {
          "output_type": "execute_result",
          "data": {
            "text/html": [
              "<div>\n",
              "<style scoped>\n",
              "    .dataframe tbody tr th:only-of-type {\n",
              "        vertical-align: middle;\n",
              "    }\n",
              "\n",
              "    .dataframe tbody tr th {\n",
              "        vertical-align: top;\n",
              "    }\n",
              "\n",
              "    .dataframe thead th {\n",
              "        text-align: right;\n",
              "    }\n",
              "</style>\n",
              "<table border=\"1\" class=\"dataframe\">\n",
              "  <thead>\n",
              "    <tr style=\"text-align: right;\">\n",
              "      <th></th>\n",
              "      <th>party</th>\n",
              "      <th>handicapped-infants</th>\n",
              "      <th>water-project</th>\n",
              "      <th>budget</th>\n",
              "      <th>physician-fee-freeze</th>\n",
              "      <th>el-salvador-aid</th>\n",
              "      <th>religious-groups</th>\n",
              "      <th>anti-satellite-ban</th>\n",
              "      <th>aid-to-contras</th>\n",
              "      <th>mx-missile</th>\n",
              "      <th>immigration</th>\n",
              "      <th>synfuels</th>\n",
              "      <th>education</th>\n",
              "      <th>right-to-sue</th>\n",
              "      <th>crime</th>\n",
              "      <th>duty-free</th>\n",
              "      <th>south-africa</th>\n",
              "    </tr>\n",
              "  </thead>\n",
              "  <tbody>\n",
              "    <tr>\n",
              "      <th>0</th>\n",
              "      <td>republican</td>\n",
              "      <td>0.0</td>\n",
              "      <td>1.0</td>\n",
              "      <td>0.0</td>\n",
              "      <td>1.0</td>\n",
              "      <td>1.0</td>\n",
              "      <td>1.0</td>\n",
              "      <td>0.0</td>\n",
              "      <td>0.0</td>\n",
              "      <td>0.0</td>\n",
              "      <td>1.0</td>\n",
              "      <td>NaN</td>\n",
              "      <td>1.0</td>\n",
              "      <td>1.0</td>\n",
              "      <td>1.0</td>\n",
              "      <td>0.0</td>\n",
              "      <td>1.0</td>\n",
              "    </tr>\n",
              "    <tr>\n",
              "      <th>1</th>\n",
              "      <td>republican</td>\n",
              "      <td>0.0</td>\n",
              "      <td>1.0</td>\n",
              "      <td>0.0</td>\n",
              "      <td>1.0</td>\n",
              "      <td>1.0</td>\n",
              "      <td>1.0</td>\n",
              "      <td>0.0</td>\n",
              "      <td>0.0</td>\n",
              "      <td>0.0</td>\n",
              "      <td>0.0</td>\n",
              "      <td>0.0</td>\n",
              "      <td>1.0</td>\n",
              "      <td>1.0</td>\n",
              "      <td>1.0</td>\n",
              "      <td>0.0</td>\n",
              "      <td>NaN</td>\n",
              "    </tr>\n",
              "    <tr>\n",
              "      <th>2</th>\n",
              "      <td>democrat</td>\n",
              "      <td>NaN</td>\n",
              "      <td>1.0</td>\n",
              "      <td>1.0</td>\n",
              "      <td>NaN</td>\n",
              "      <td>1.0</td>\n",
              "      <td>1.0</td>\n",
              "      <td>0.0</td>\n",
              "      <td>0.0</td>\n",
              "      <td>0.0</td>\n",
              "      <td>0.0</td>\n",
              "      <td>1.0</td>\n",
              "      <td>0.0</td>\n",
              "      <td>1.0</td>\n",
              "      <td>1.0</td>\n",
              "      <td>0.0</td>\n",
              "      <td>0.0</td>\n",
              "    </tr>\n",
              "    <tr>\n",
              "      <th>3</th>\n",
              "      <td>democrat</td>\n",
              "      <td>0.0</td>\n",
              "      <td>1.0</td>\n",
              "      <td>1.0</td>\n",
              "      <td>0.0</td>\n",
              "      <td>NaN</td>\n",
              "      <td>1.0</td>\n",
              "      <td>0.0</td>\n",
              "      <td>0.0</td>\n",
              "      <td>0.0</td>\n",
              "      <td>0.0</td>\n",
              "      <td>1.0</td>\n",
              "      <td>0.0</td>\n",
              "      <td>1.0</td>\n",
              "      <td>0.0</td>\n",
              "      <td>0.0</td>\n",
              "      <td>1.0</td>\n",
              "    </tr>\n",
              "    <tr>\n",
              "      <th>4</th>\n",
              "      <td>democrat</td>\n",
              "      <td>1.0</td>\n",
              "      <td>1.0</td>\n",
              "      <td>1.0</td>\n",
              "      <td>0.0</td>\n",
              "      <td>1.0</td>\n",
              "      <td>1.0</td>\n",
              "      <td>0.0</td>\n",
              "      <td>0.0</td>\n",
              "      <td>0.0</td>\n",
              "      <td>0.0</td>\n",
              "      <td>1.0</td>\n",
              "      <td>NaN</td>\n",
              "      <td>1.0</td>\n",
              "      <td>1.0</td>\n",
              "      <td>1.0</td>\n",
              "      <td>1.0</td>\n",
              "    </tr>\n",
              "  </tbody>\n",
              "</table>\n",
              "</div>"
            ],
            "text/plain": [
              "        party  handicapped-infants  ...  duty-free  south-africa\n",
              "0  republican                  0.0  ...        0.0           1.0\n",
              "1  republican                  0.0  ...        0.0           NaN\n",
              "2    democrat                  NaN  ...        0.0           0.0\n",
              "3    democrat                  0.0  ...        0.0           1.0\n",
              "4    democrat                  1.0  ...        1.0           1.0\n",
              "\n",
              "[5 rows x 17 columns]"
            ]
          },
          "metadata": {
            "tags": []
          },
          "execution_count": 5
        }
      ]
    },
    {
      "cell_type": "code",
      "metadata": {
        "id": "mGEmDC2_p0OK",
        "colab_type": "code",
        "colab": {}
      },
      "source": [
        "from scipy import stats\n",
        "def confidence_interval(data, confidence=0.95):\n",
        "  data = np.array(df['budget'])\n",
        "  mean = np.mean(df['budget'])\n",
        "  n = len(data)\n",
        "  stderr = np.std(df['budget'], ddof=1)/np.sqrt(n)\n",
        "  moe = stderr * stats.t.ppf((1 + confidence) / 2.0, n - 1)\n",
        "  return (mean - moe, mean, mean + moe)"
      ],
      "execution_count": 0,
      "outputs": []
    },
    {
      "cell_type": "code",
      "metadata": {
        "id": "omuSHT4c93y6",
        "colab_type": "code",
        "colab": {
          "base_uri": "https://localhost:8080/",
          "height": 342
        },
        "outputId": "3f736f75-90b8-4e2c-99f1-7ca8a84fd902"
      },
      "source": [
        "sample_means_small = ['budget']\n",
        "sample_means_large = ['budget']\n",
        "for x in range(0,10):\n",
        "  print(len(sample_means_small))\n",
        "  print(sample_means_small)"
      ],
      "execution_count": 7,
      "outputs": [
        {
          "output_type": "stream",
          "text": [
            "1\n",
            "['budget']\n",
            "1\n",
            "['budget']\n",
            "1\n",
            "['budget']\n",
            "1\n",
            "['budget']\n",
            "1\n",
            "['budget']\n",
            "1\n",
            "['budget']\n",
            "1\n",
            "['budget']\n",
            "1\n",
            "['budget']\n",
            "1\n",
            "['budget']\n",
            "1\n",
            "['budget']\n"
          ],
          "name": "stdout"
        }
      ]
    },
    {
      "cell_type": "code",
      "metadata": {
        "id": "26B5ydsyLmNY",
        "colab_type": "code",
        "colab": {}
      },
      "source": [
        "from scipy import stats\n",
        "\n",
        "def confidence_interval(data, confidence=0.95):\n",
        "  data = np.array(data)\n",
        "  mean = np.mean(data)\n",
        "  n = len(data)\n",
        "  stderr = (np.std(data, ddof=1) / np.sqrt(n))\n",
        "  t = stats.t.ppf((1 + confidence) / 2.0, n - 1)\n",
        "  moe = stderr * t\n",
        "  return (mean, mean - moe, mean + moe)"
      ],
      "execution_count": 0,
      "outputs": []
    },
    {
      "cell_type": "code",
      "metadata": {
        "id": "6_MknV1ZPcBy",
        "colab_type": "code",
        "colab": {
          "base_uri": "https://localhost:8080/",
          "height": 33
        },
        "outputId": "b79bc0e1-87f4-4ffd-9b38-659d7a245a0d"
      },
      "source": [
        "confidence_interval(df['budget'])\n",
        "# '''at a confidence interval of 95% we can expect a +-0.55 margin of error'''"
      ],
      "execution_count": 12,
      "outputs": [
        {
          "output_type": "execute_result",
          "data": {
            "text/plain": [
              "(nan, nan, nan)"
            ]
          },
          "metadata": {
            "tags": []
          },
          "execution_count": 12
        }
      ]
    },
    {
      "cell_type": "code",
      "metadata": {
        "id": "pHyq4OHEWIo8",
        "colab_type": "code",
        "colab": {
          "base_uri": "https://localhost:8080/",
          "height": 281
        },
        "outputId": "eaf0a0ab-eba7-4224-8a15-0ea46052de18"
      },
      "source": [
        "df['budget'].hist()"
      ],
      "execution_count": 24,
      "outputs": [
        {
          "output_type": "execute_result",
          "data": {
            "text/plain": [
              "<matplotlib.axes._subplots.AxesSubplot at 0x7ff4e41194e0>"
            ]
          },
          "metadata": {
            "tags": []
          },
          "execution_count": 24
        },
        {
          "output_type": "display_data",
          "data": {
            "image/png": "[encoded data removed]",
            "text/plain": [
              "<Figure size 432x288 with 1 Axes>"
            ]
          },
          "metadata": {
            "tags": []
          }
        }
      ]
    },
    {
      "cell_type": "code",
      "metadata": {
        "id": "cmt6w3KdTvU4",
        "colab_type": "code",
        "colab": {}
      },
      "source": [
        "import seaborn as sns\n",
        "\n",
        "sns.distplot('budget')\n",
        "# CI = confidence_interval('data')\n",
        "# plt.axvline(x=CI[1], color='red')\n",
        "# plt.axvline(x=CI[2], color='red')\n",
        "# plt.axvline(x=CI[0], color='k');"
      ],
      "execution_count": 0,
      "outputs": []
    },
    {
      "cell_type": "code",
      "metadata": {
        "id": "RaupcHAbYh_o",
        "colab_type": "code",
        "colab": {}
      },
      "source": [
        "ax = plt.hist(sample_means_small, bins=100)"
      ],
      "execution_count": 0,
      "outputs": []
    },
    {
      "cell_type": "code",
      "metadata": {
        "id": "xadzAk5pjNcv",
        "colab_type": "code",
        "colab": {}
      },
      "source": [
        "df = pd.read_csv('house-votes-84.data', na_values=\" ?\")\n",
        "column_headers = ['party','handicapped-infants','water-project',\n",
        "                          'budget','physician-fee-freeze', 'el-salvador-aid',\n",
        "                          'religious-groups','anti-satellite-ban',\n",
        "                          'aid-to-contras','mx-missile','immigration',\n",
        "                          'synfuels', 'education', 'right-to-sue','crime','duty-free',\n",
        "                          'south-africa']\n",
        "'''Null Hypthosis, the bills Crime and Budget are interrelated'''\n",
        "\n",
        "df = pd.read_csv('house-votes-84.data', \n",
        "                 header=None, \n",
        "                 names=column_headers,\n",
        "                 na_values=\"?\")\n",
        "df = df.replace({'y': 1, 'n': 0})\n",
        "df.head()"
      ],
      "execution_count": 0,
      "outputs": []
    },
    {
      "cell_type": "code",
      "metadata": {
        "id": "PGH7F01ikY8U",
        "colab_type": "code",
        "colab": {}
      },
      "source": [
        "df.describe(exclude='number')"
      ],
      "execution_count": 0,
      "outputs": []
    },
    {
      "cell_type": "code",
      "metadata": {
        "id": "QQGR6TaglIpF",
        "colab_type": "code",
        "colab": {}
      },
      "source": [
        "cut_points = [0, 9, 19, 29, 39, 49, 1000]\n",
        "label_names = ['0-9', '10-19', '20-29', '30-39', '40-49', '50+']\n",
        "df['budget'] = pd.cut(df['budget'], cut_points, labels=label_names)\n",
        "\n",
        "df.head()"
      ],
      "execution_count": 0,
      "outputs": []
    },
    {
      "cell_type": "code",
      "metadata": {
        "id": "8BwPj8qa72By",
        "colab_type": "code",
        "colab": {
          "base_uri": "https://localhost:8080/",
          "height": 1000
        },
        "outputId": "0733705f-df14-479f-91d9-b69c03b5447a"
      },
      "source": [
        "pd.plotting.scatter_matrix(df, alpha=0.2)"
      ],
      "execution_count": 15,
      "outputs": [
        {
          "output_type": "execute_result",
          "data": {
            "text/plain": [
              "array([[<matplotlib.axes._subplots.AxesSubplot object at 0x7ff4ea665e80>,\n",
              "        <matplotlib.axes._subplots.AxesSubplot object at 0x7ff4ea5f8a58>,\n",
              "        <matplotlib.axes._subplots.AxesSubplot object at 0x7ff4ea5b1048>,\n",
              "        <matplotlib.axes._subplots.AxesSubplot object at 0x7ff4ea5605f8>,\n",
              "        <matplotlib.axes._subplots.AxesSubplot object at 0x7ff4ea512ba8>,\n",
              "        <matplotlib.axes._subplots.AxesSubplot object at 0x7ff4ea550198>,\n",
              "        <matplotlib.axes._subplots.AxesSubplot object at 0x7ff4ea4ff748>,\n",
              "        <matplotlib.axes._subplots.AxesSubplot object at 0x7ff4ea4b2d30>,\n",
              "        <matplotlib.axes._subplots.AxesSubplot object at 0x7ff4ea4b2d68>,\n",
              "        <matplotlib.axes._subplots.AxesSubplot object at 0x7ff4ea421898>,\n",
              "        <matplotlib.axes._subplots.AxesSubplot object at 0x7ff4ea3d2e48>,\n",
              "        <matplotlib.axes._subplots.AxesSubplot object at 0x7ff4ea40e438>,\n",
              "        <matplotlib.axes._subplots.AxesSubplot object at 0x7ff4ea3c19e8>,\n",
              "        <matplotlib.axes._subplots.AxesSubplot object at 0x7ff4ea372f98>,\n",
              "        <matplotlib.axes._subplots.AxesSubplot object at 0x7ff4ea32f588>,\n",
              "        <matplotlib.axes._subplots.AxesSubplot object at 0x7ff4ea2e1b38>],\n",
              "       [<matplotlib.axes._subplots.AxesSubplot object at 0x7ff4ea29e128>,\n",
              "        <matplotlib.axes._subplots.AxesSubplot object at 0x7ff4ea2d06d8>,\n",
              "        <matplotlib.axes._subplots.AxesSubplot object at 0x7ff4ea281c88>,\n",
              "        <matplotlib.axes._subplots.AxesSubplot object at 0x7ff4ea23f278>,\n",
              "        <matplotlib.axes._subplots.AxesSubplot object at 0x7ff4ea1ee828>,\n",
              "        <matplotlib.axes._subplots.AxesSubplot object at 0x7ff4ea1a3dd8>,\n",
              "        <matplotlib.axes._subplots.AxesSubplot object at 0x7ff4ea15e3c8>,\n",
              "        <matplotlib.axes._subplots.AxesSubplot object at 0x7ff4ea18d978>,\n",
              "        <matplotlib.axes._subplots.AxesSubplot object at 0x7ff4ea142f28>,\n",
              "        <matplotlib.axes._subplots.AxesSubplot object at 0x7ff4ea0fd518>,\n",
              "        <matplotlib.axes._subplots.AxesSubplot object at 0x7ff4ea0aeac8>,\n",
              "        <matplotlib.axes._subplots.AxesSubplot object at 0x7ff4ea06f0b8>,\n",
              "        <matplotlib.axes._subplots.AxesSubplot object at 0x7ff4ea01f668>,\n",
              "        <matplotlib.axes._subplots.AxesSubplot object at 0x7ff4ea04ec18>,\n",
              "        <matplotlib.axes._subplots.AxesSubplot object at 0x7ff4ea00d208>,\n",
              "        <matplotlib.axes._subplots.AxesSubplot object at 0x7ff4e9fbe7b8>],\n",
              "       [<matplotlib.axes._subplots.AxesSubplot object at 0x7ff4e9f6ed68>,\n",
              "        <matplotlib.axes._subplots.AxesSubplot object at 0x7ff4e9f2d358>,\n",
              "        <matplotlib.axes._subplots.AxesSubplot object at 0x7ff4e9edc908>,\n",
              "        <matplotlib.axes._subplots.AxesSubplot object at 0x7ff4e9f10eb8>,\n",
              "        <matplotlib.axes._subplots.AxesSubplot object at 0x7ff4e9ece4a8>,\n",
              "        <matplotlib.axes._subplots.AxesSubplot object at 0x7ff4e9e7da58>,\n",
              "        <matplotlib.axes._subplots.AxesSubplot object at 0x7ff4e9e3c048>,\n",
              "        <matplotlib.axes._subplots.AxesSubplot object at 0x7ff4e9dec5f8>,\n",
              "        <matplotlib.axes._subplots.AxesSubplot object at 0x7ff4e9d9cba8>,\n",
              "        <matplotlib.axes._subplots.AxesSubplot object at 0x7ff4e9d5d198>,\n",
              "        <matplotlib.axes._subplots.AxesSubplot object at 0x7ff4e9d8c748>,\n",
              "        <matplotlib.axes._subplots.AxesSubplot object at 0x7ff4e9d3ecf8>,\n",
              "        <matplotlib.axes._subplots.AxesSubplot object at 0x7ff4e9cfc2e8>,\n",
              "        <matplotlib.axes._subplots.AxesSubplot object at 0x7ff4e9cac898>,\n",
              "        <matplotlib.axes._subplots.AxesSubplot object at 0x7ff4e9c5de48>,\n",
              "        <matplotlib.axes._subplots.AxesSubplot object at 0x7ff4e9c1c438>],\n",
              "       [<matplotlib.axes._subplots.AxesSubplot object at 0x7ff4e9c4b9e8>,\n",
              "        <matplotlib.axes._subplots.AxesSubplot object at 0x7ff4e9bfdf98>,\n",
              "        <matplotlib.axes._subplots.AxesSubplot object at 0x7ff4e9bbb588>,\n",
              "        <matplotlib.axes._subplots.AxesSubplot object at 0x7ff4e9b6cb38>,\n",
              "        <matplotlib.axes._subplots.AxesSubplot object at 0x7ff4e9b2a128>,\n",
              "        <matplotlib.axes._subplots.AxesSubplot object at 0x7ff4e9adb6d8>,\n",
              "        <matplotlib.axes._subplots.AxesSubplot object at 0x7ff4e9b0fc88>,\n",
              "        <matplotlib.axes._subplots.AxesSubplot object at 0x7ff4e9acb278>,\n",
              "        <matplotlib.axes._subplots.AxesSubplot object at 0x7ff4e9a7b828>,\n",
              "        <matplotlib.axes._subplots.AxesSubplot object at 0x7ff4e9a2fdd8>,\n",
              "        <matplotlib.axes._subplots.AxesSubplot object at 0x7ff4e99ea3c8>,\n",
              "        <matplotlib.axes._subplots.AxesSubplot object at 0x7ff4e999b978>,\n",
              "        <matplotlib.axes._subplots.AxesSubplot object at 0x7ff4e99cef28>,\n",
              "        <matplotlib.axes._subplots.AxesSubplot object at 0x7ff4e9989518>,\n",
              "        <matplotlib.axes._subplots.AxesSubplot object at 0x7ff4e993dac8>,\n",
              "        <matplotlib.axes._subplots.AxesSubplot object at 0x7ff4e98fa0b8>],\n",
              "       [<matplotlib.axes._subplots.AxesSubplot object at 0x7ff4e98ab668>,\n",
              "        <matplotlib.axes._subplots.AxesSubplot object at 0x7ff4e985dc18>,\n",
              "        <matplotlib.axes._subplots.AxesSubplot object at 0x7ff4e981a208>,\n",
              "        <matplotlib.axes._subplots.AxesSubplot object at 0x7ff4e984a7b8>,\n",
              "        <matplotlib.axes._subplots.AxesSubplot object at 0x7ff4e97fcd68>,\n",
              "        <matplotlib.axes._subplots.AxesSubplot object at 0x7ff4e97b9358>,\n",
              "        <matplotlib.axes._subplots.AxesSubplot object at 0x7ff4e9768908>,\n",
              "        <matplotlib.axes._subplots.AxesSubplot object at 0x7ff4e971eeb8>,\n",
              "        <matplotlib.axes._subplots.AxesSubplot object at 0x7ff4e96d94a8>,\n",
              "        <matplotlib.axes._subplots.AxesSubplot object at 0x7ff4e970ba58>,\n",
              "        <matplotlib.axes._subplots.AxesSubplot object at 0x7ff4e96ca048>,\n",
              "        <matplotlib.axes._subplots.AxesSubplot object at 0x7ff4e96775f8>,\n",
              "        <matplotlib.axes._subplots.AxesSubplot object at 0x7ff4e962aba8>,\n",
              "        <matplotlib.axes._subplots.AxesSubplot object at 0x7ff4e95ea198>,\n",
              "        <matplotlib.axes._subplots.AxesSubplot object at 0x7ff4e9598748>,\n",
              "        <matplotlib.axes._subplots.AxesSubplot object at 0x7ff4e95cacf8>],\n",
              "       [<matplotlib.axes._subplots.AxesSubplot object at 0x7ff4e958a2e8>,\n",
              "        <matplotlib.axes._subplots.AxesSubplot object at 0x7ff4e9539898>,\n",
              "        <matplotlib.axes._subplots.AxesSubplot object at 0x7ff4e94ebe48>,\n",
              "        <matplotlib.axes._subplots.AxesSubplot object at 0x7ff4e94aa438>,\n",
              "        <matplotlib.axes._subplots.AxesSubplot object at 0x7ff4e945a9e8>,\n",
              "        <matplotlib.axes._subplots.AxesSubplot object at 0x7ff4e948df98>,\n",
              "        <matplotlib.axes._subplots.AxesSubplot object at 0x7ff4e9448588>,\n",
              "        <matplotlib.axes._subplots.AxesSubplot object at 0x7ff4e93f9b38>,\n",
              "        <matplotlib.axes._subplots.AxesSubplot object at 0x7ff4e93b7128>,\n",
              "        <matplotlib.axes._subplots.AxesSubplot object at 0x7ff4e93696d8>,\n",
              "        <matplotlib.axes._subplots.AxesSubplot object at 0x7ff4e931ac88>,\n",
              "        <matplotlib.axes._subplots.AxesSubplot object at 0x7ff4e92d7278>,\n",
              "        <matplotlib.axes._subplots.AxesSubplot object at 0x7ff4e9308828>,\n",
              "        <matplotlib.axes._subplots.AxesSubplot object at 0x7ff4e92bbdd8>,\n",
              "        <matplotlib.axes._subplots.AxesSubplot object at 0x7ff4e92773c8>,\n",
              "        <matplotlib.axes._subplots.AxesSubplot object at 0x7ff4e9228978>],\n",
              "       [<matplotlib.axes._subplots.AxesSubplot object at 0x7ff4e91daf28>,\n",
              "        <matplotlib.axes._subplots.AxesSubplot object at 0x7ff4e9197518>,\n",
              "        <matplotlib.axes._subplots.AxesSubplot object at 0x7ff4e91c8ac8>,\n",
              "        <matplotlib.axes._subplots.AxesSubplot object at 0x7ff4e91870b8>,\n",
              "        <matplotlib.axes._subplots.AxesSubplot object at 0x7ff4e9138668>,\n",
              "        <matplotlib.axes._subplots.AxesSubplot object at 0x7ff4e90e9c18>,\n",
              "        <matplotlib.axes._subplots.AxesSubplot object at 0x7ff4e90a7208>,\n",
              "        <matplotlib.axes._subplots.AxesSubplot object at 0x7ff4e90577b8>,\n",
              "        <matplotlib.axes._subplots.AxesSubplot object at 0x7ff4e9089d68>,\n",
              "        <matplotlib.axes._subplots.AxesSubplot object at 0x7ff4e9046358>,\n",
              "        <matplotlib.axes._subplots.AxesSubplot object at 0x7ff4e8ff6908>,\n",
              "        <matplotlib.axes._subplots.AxesSubplot object at 0x7ff4e8fabeb8>,\n",
              "        <matplotlib.axes._subplots.AxesSubplot object at 0x7ff4e8f684a8>,\n",
              "        <matplotlib.axes._subplots.AxesSubplot object at 0x7ff4e8f17a58>,\n",
              "        <matplotlib.axes._subplots.AxesSubplot object at 0x7ff4e8ed7048>,\n",
              "        <matplotlib.axes._subplots.AxesSubplot object at 0x7ff4e8f075f8>],\n",
              "       [<matplotlib.axes._subplots.AxesSubplot object at 0x7ff4e8eb4ba8>,\n",
              "        <matplotlib.axes._subplots.AxesSubplot object at 0x7ff4e8e77198>,\n",
              "        <matplotlib.axes._subplots.AxesSubplot object at 0x7ff4e8e27748>,\n",
              "        <matplotlib.axes._subplots.AxesSubplot object at 0x7ff4e8dd7cf8>,\n",
              "        <matplotlib.axes._subplots.AxesSubplot object at 0x7ff4e8d972e8>,\n",
              "        <matplotlib.axes._subplots.AxesSubplot object at 0x7ff4e8dc5898>,\n",
              "        <matplotlib.axes._subplots.AxesSubplot object at 0x7ff4e8d77e48>,\n",
              "        <matplotlib.axes._subplots.AxesSubplot object at 0x7ff4e8d34438>,\n",
              "        <matplotlib.axes._subplots.AxesSubplot object at 0x7ff4e8ce59e8>,\n",
              "        <matplotlib.axes._subplots.AxesSubplot object at 0x7ff4e8c99f98>,\n",
              "        <matplotlib.axes._subplots.AxesSubplot object at 0x7ff4e8c56588>,\n",
              "        <matplotlib.axes._subplots.AxesSubplot object at 0x7ff4e8c88b38>,\n",
              "        <matplotlib.axes._subplots.AxesSubplot object at 0x7ff4e8c44128>,\n",
              "        <matplotlib.axes._subplots.AxesSubplot object at 0x7ff4e8bf76d8>,\n",
              "        <matplotlib.axes._subplots.AxesSubplot object at 0x7ff4e8ba7c88>,\n",
              "        <matplotlib.axes._subplots.AxesSubplot object at 0x7ff4e8b64278>],\n",
              "       [<matplotlib.axes._subplots.AxesSubplot object at 0x7ff4e8b15828>,\n",
              "        <matplotlib.axes._subplots.AxesSubplot object at 0x7ff4e8b47dd8>,\n",
              "        <matplotlib.axes._subplots.AxesSubplot object at 0x7ff4e8b053c8>,\n",
              "        <matplotlib.axes._subplots.AxesSubplot object at 0x7ff4e8ab5978>,\n",
              "        <matplotlib.axes._subplots.AxesSubplot object at 0x7ff4e8a69f28>,\n",
              "        <matplotlib.axes._subplots.AxesSubplot object at 0x7ff4e8a23518>,\n",
              "        <matplotlib.axes._subplots.AxesSubplot object at 0x7ff4e89d7ac8>,\n",
              "        <matplotlib.axes._subplots.AxesSubplot object at 0x7ff4e89950b8>,\n",
              "        <matplotlib.axes._subplots.AxesSubplot object at 0x7ff4e89c5668>,\n",
              "        <matplotlib.axes._subplots.AxesSubplot object at 0x7ff4e8977c18>,\n",
              "        <matplotlib.axes._subplots.AxesSubplot object at 0x7ff4e8934208>,\n",
              "        <matplotlib.axes._subplots.AxesSubplot object at 0x7ff4e88e37b8>,\n",
              "        <matplotlib.axes._subplots.AxesSubplot object at 0x7ff4e8895d68>,\n",
              "        <matplotlib.axes._subplots.AxesSubplot object at 0x7ff4e8852358>,\n",
              "        <matplotlib.axes._subplots.AxesSubplot object at 0x7ff4e8882908>,\n",
              "        <matplotlib.axes._subplots.AxesSubplot object at 0x7ff4e8837eb8>],\n",
              "       [<matplotlib.axes._subplots.AxesSubplot object at 0x7ff4e87f34a8>,\n",
              "        <matplotlib.axes._subplots.AxesSubplot object at 0x7ff4e87a4a58>,\n",
              "        <matplotlib.axes._subplots.AxesSubplot object at 0x7ff4e8764048>,\n",
              "        <matplotlib.axes._subplots.AxesSubplot object at 0x7ff4e87125f8>,\n",
              "        <matplotlib.axes._subplots.AxesSubplot object at 0x7ff4e8744ba8>,\n",
              "        <matplotlib.axes._subplots.AxesSubplot object at 0x7ff4e8706198>,\n",
              "        <matplotlib.axes._subplots.AxesSubplot object at 0x7ff4e86b4748>,\n",
              "        <matplotlib.axes._subplots.AxesSubplot object at 0x7ff4e8667cf8>,\n",
              "        <matplotlib.axes._subplots.AxesSubplot object at 0x7ff4e86232e8>,\n",
              "        <matplotlib.axes._subplots.AxesSubplot object at 0x7ff4e85d4898>,\n",
              "        <matplotlib.axes._subplots.AxesSubplot object at 0x7ff4e8607e48>,\n",
              "        <matplotlib.axes._subplots.AxesSubplot object at 0x7ff4e85c3438>,\n",
              "        <matplotlib.axes._subplots.AxesSubplot object at 0x7ff4e85759e8>,\n",
              "        <matplotlib.axes._subplots.AxesSubplot object at 0x7ff4e8527f98>,\n",
              "        <matplotlib.axes._subplots.AxesSubplot object at 0x7ff4e84e3588>,\n",
              "        <matplotlib.axes._subplots.AxesSubplot object at 0x7ff4e8494b38>],\n",
              "       [<matplotlib.axes._subplots.AxesSubplot object at 0x7ff4e8453128>,\n",
              "        <matplotlib.axes._subplots.AxesSubplot object at 0x7ff4e84846d8>,\n",
              "        <matplotlib.axes._subplots.AxesSubplot object at 0x7ff4e8434c88>,\n",
              "        <matplotlib.axes._subplots.AxesSubplot object at 0x7ff4e83f5278>,\n",
              "        <matplotlib.axes._subplots.AxesSubplot object at 0x7ff4e83a3828>,\n",
              "        <matplotlib.axes._subplots.AxesSubplot object at 0x7ff4e8354dd8>,\n",
              "        <matplotlib.axes._subplots.AxesSubplot object at 0x7ff4e83143c8>,\n",
              "        <matplotlib.axes._subplots.AxesSubplot object at 0x7ff4e8342978>,\n",
              "        <matplotlib.axes._subplots.AxesSubplot object at 0x7ff4e82f6f28>,\n",
              "        <matplotlib.axes._subplots.AxesSubplot object at 0x7ff4e82b3518>,\n",
              "        <matplotlib.axes._subplots.AxesSubplot object at 0x7ff4e8264ac8>,\n",
              "        <matplotlib.axes._subplots.AxesSubplot object at 0x7ff4e82210b8>,\n",
              "        <matplotlib.axes._subplots.AxesSubplot object at 0x7ff4e81d5668>,\n",
              "        <matplotlib.axes._subplots.AxesSubplot object at 0x7ff4e8205c18>,\n",
              "        <matplotlib.axes._subplots.AxesSubplot object at 0x7ff4e81c2208>,\n",
              "        <matplotlib.axes._subplots.AxesSubplot object at 0x7ff4e81737b8>],\n",
              "       [<matplotlib.axes._subplots.AxesSubplot object at 0x7ff4e8125d68>,\n",
              "        <matplotlib.axes._subplots.AxesSubplot object at 0x7ff4e80e3358>,\n",
              "        <matplotlib.axes._subplots.AxesSubplot object at 0x7ff4e8092908>,\n",
              "        <matplotlib.axes._subplots.AxesSubplot object at 0x7ff4e80c5eb8>,\n",
              "        <matplotlib.axes._subplots.AxesSubplot object at 0x7ff4e80834a8>,\n",
              "        <matplotlib.axes._subplots.AxesSubplot object at 0x7ff4e8032a58>,\n",
              "        <matplotlib.axes._subplots.AxesSubplot object at 0x7ff4e7ff3048>,\n",
              "        <matplotlib.axes._subplots.AxesSubplot object at 0x7ff4e7fa15f8>,\n",
              "        <matplotlib.axes._subplots.AxesSubplot object at 0x7ff4e7f51ba8>,\n",
              "        <matplotlib.axes._subplots.AxesSubplot object at 0x7ff4e7f12198>,\n",
              "        <matplotlib.axes._subplots.AxesSubplot object at 0x7ff4e7f41748>,\n",
              "        <matplotlib.axes._subplots.AxesSubplot object at 0x7ff4e7ef3cf8>,\n",
              "        <matplotlib.axes._subplots.AxesSubplot object at 0x7ff4e7eb02e8>,\n",
              "        <matplotlib.axes._subplots.AxesSubplot object at 0x7ff4e7e61898>,\n",
              "        <matplotlib.axes._subplots.AxesSubplot object at 0x7ff4e7e14e48>,\n",
              "        <matplotlib.axes._subplots.AxesSubplot object at 0x7ff4e7e50438>],\n",
              "       [<matplotlib.axes._subplots.AxesSubplot object at 0x7ff4e7e019e8>,\n",
              "        <matplotlib.axes._subplots.AxesSubplot object at 0x7ff4e7db5f98>,\n",
              "        <matplotlib.axes._subplots.AxesSubplot object at 0x7ff4e7d71588>,\n",
              "        <matplotlib.axes._subplots.AxesSubplot object at 0x7ff4e7d23b38>,\n",
              "        <matplotlib.axes._subplots.AxesSubplot object at 0x7ff4e7ce1128>,\n",
              "        <matplotlib.axes._subplots.AxesSubplot object at 0x7ff4e7c926d8>,\n",
              "        <matplotlib.axes._subplots.AxesSubplot object at 0x7ff4e7cc2c88>,\n",
              "        <matplotlib.axes._subplots.AxesSubplot object at 0x7ff4e7c82278>,\n",
              "        <matplotlib.axes._subplots.AxesSubplot object at 0x7ff4e7c31828>,\n",
              "        <matplotlib.axes._subplots.AxesSubplot object at 0x7ff4e7be4dd8>,\n",
              "        <matplotlib.axes._subplots.AxesSubplot object at 0x7ff4e7ba13c8>,\n",
              "        <matplotlib.axes._subplots.AxesSubplot object at 0x7ff4e7b51978>,\n",
              "        <matplotlib.axes._subplots.AxesSubplot object at 0x7ff4e7b85f28>,\n",
              "        <matplotlib.axes._subplots.AxesSubplot object at 0x7ff4e7b3f518>,\n",
              "        <matplotlib.axes._subplots.AxesSubplot object at 0x7ff4e7af3ac8>,\n",
              "        <matplotlib.axes._subplots.AxesSubplot object at 0x7ff4e7ab00b8>],\n",
              "       [<matplotlib.axes._subplots.AxesSubplot object at 0x7ff4e7a5f668>,\n",
              "        <matplotlib.axes._subplots.AxesSubplot object at 0x7ff4e7a12c18>,\n",
              "        <matplotlib.axes._subplots.AxesSubplot object at 0x7ff4e7a4e208>,\n",
              "        <matplotlib.axes._subplots.AxesSubplot object at 0x7ff4e79ff7b8>,\n",
              "        <matplotlib.axes._subplots.AxesSubplot object at 0x7ff4e79b2d68>,\n",
              "        <matplotlib.axes._subplots.AxesSubplot object at 0x7ff4e796f358>,\n",
              "        <matplotlib.axes._subplots.AxesSubplot object at 0x7ff4e7920908>,\n",
              "        <matplotlib.axes._subplots.AxesSubplot object at 0x7ff4e78d5eb8>,\n",
              "        <matplotlib.axes._subplots.AxesSubplot object at 0x7ff4e79104a8>,\n",
              "        <matplotlib.axes._subplots.AxesSubplot object at 0x7ff4e78c1a58>,\n",
              "        <matplotlib.axes._subplots.AxesSubplot object at 0x7ff4e7880048>,\n",
              "        <matplotlib.axes._subplots.AxesSubplot object at 0x7ff4e782f5f8>,\n",
              "        <matplotlib.axes._subplots.AxesSubplot object at 0x7ff4e77e1ba8>,\n",
              "        <matplotlib.axes._subplots.AxesSubplot object at 0x7ff4e779f198>,\n",
              "        <matplotlib.axes._subplots.AxesSubplot object at 0x7ff4e77ce748>,\n",
              "        <matplotlib.axes._subplots.AxesSubplot object at 0x7ff4e7781cf8>],\n",
              "       [<matplotlib.axes._subplots.AxesSubplot object at 0x7ff4e773e2e8>,\n",
              "        <matplotlib.axes._subplots.AxesSubplot object at 0x7ff4e76f0898>,\n",
              "        <matplotlib.axes._subplots.AxesSubplot object at 0x7ff4e76a4e48>,\n",
              "        <matplotlib.axes._subplots.AxesSubplot object at 0x7ff4e765e438>,\n",
              "        <matplotlib.axes._subplots.AxesSubplot object at 0x7ff4e76119e8>,\n",
              "        <matplotlib.axes._subplots.AxesSubplot object at 0x7ff4e7642f98>,\n",
              "        <matplotlib.axes._subplots.AxesSubplot object at 0x7ff4e75fd588>,\n",
              "        <matplotlib.axes._subplots.AxesSubplot object at 0x7ff4e75aeb38>,\n",
              "        <matplotlib.axes._subplots.AxesSubplot object at 0x7ff4e756d128>,\n",
              "        <matplotlib.axes._subplots.AxesSubplot object at 0x7ff4e751f6d8>,\n",
              "        <matplotlib.axes._subplots.AxesSubplot object at 0x7ff4e74d2c88>,\n",
              "        <matplotlib.axes._subplots.AxesSubplot object at 0x7ff4e750f278>,\n",
              "        <matplotlib.axes._subplots.AxesSubplot object at 0x7ff4e74bf828>,\n",
              "        <matplotlib.axes._subplots.AxesSubplot object at 0x7ff4e7473dd8>,\n",
              "        <matplotlib.axes._subplots.AxesSubplot object at 0x7ff4e74313c8>,\n",
              "        <matplotlib.axes._subplots.AxesSubplot object at 0x7ff4e73e0978>],\n",
              "       [<matplotlib.axes._subplots.AxesSubplot object at 0x7ff4e7393f28>,\n",
              "        <matplotlib.axes._subplots.AxesSubplot object at 0x7ff4e73d0518>,\n",
              "        <matplotlib.axes._subplots.AxesSubplot object at 0x7ff4e7381ac8>,\n",
              "        <matplotlib.axes._subplots.AxesSubplot object at 0x7ff4e73400b8>,\n",
              "        <matplotlib.axes._subplots.AxesSubplot object at 0x7ff4e72ef668>,\n",
              "        <matplotlib.axes._subplots.AxesSubplot object at 0x7ff4e72a1c18>,\n",
              "        <matplotlib.axes._subplots.AxesSubplot object at 0x7ff4e725e208>,\n",
              "        <matplotlib.axes._subplots.AxesSubplot object at 0x7ff4e728e7b8>,\n",
              "        <matplotlib.axes._subplots.AxesSubplot object at 0x7ff4e7241d68>,\n",
              "        <matplotlib.axes._subplots.AxesSubplot object at 0x7ff4e71ff358>,\n",
              "        <matplotlib.axes._subplots.AxesSubplot object at 0x7ff4e71af908>,\n",
              "        <matplotlib.axes._subplots.AxesSubplot object at 0x7ff4e7162eb8>,\n",
              "        <matplotlib.axes._subplots.AxesSubplot object at 0x7ff4e71204a8>,\n",
              "        <matplotlib.axes._subplots.AxesSubplot object at 0x7ff4e714fa58>,\n",
              "        <matplotlib.axes._subplots.AxesSubplot object at 0x7ff4e710f048>,\n",
              "        <matplotlib.axes._subplots.AxesSubplot object at 0x7ff4e70bf5f8>]],\n",
              "      dtype=object)"
            ]
          },
          "metadata": {
            "tags": []
          },
          "execution_count": 15
        },
        {
          "output_type": "display_data",
          "data": {
            "image/png": "[encoded data removed]",
            "text/plain": [
              "<Figure size 432x288 with 256 Axes>"
            ]
          },
          "metadata": {
            "tags": []
          }
        }
      ]
    },
    {
      "cell_type": "code",
      "metadata": {
        "id": "2dRKdDY-_Gdb",
        "colab_type": "code",
        "outputId": "37a46526-a960-4274-b467-e1677ed34a47",
        "colab": {
          "base_uri": "https://localhost:8080/",
          "height": 191
        }
      },
      "source": [
        "def budget_crime(df):\n",
        "  cut_points = [0,9,19,29,39,49,1000]\n",
        "  label_names = [\"0-9\",\"10-19\",\"20-29\",\"30-39\",\"40-49\",\"50+\"]\n",
        "  df[\"budget\"] = pd.cut(df[\"crime\"],\n",
        "                                           cut_points,labels=label_names)\n",
        "  return df\n",
        "\n",
        "data = (df)\n",
        "crime_by_budget = data[['budget', 'crime']]\n",
        "crime_by_budget.head()"
      ],
      "execution_count": 16,
      "outputs": [
        {
          "output_type": "execute_result",
          "data": {
            "text/html": [
              "<div>\n",
              "<style scoped>\n",
              "    .dataframe tbody tr th:only-of-type {\n",
              "        vertical-align: middle;\n",
              "    }\n",
              "\n",
              "    .dataframe tbody tr th {\n",
              "        vertical-align: top;\n",
              "    }\n",
              "\n",
              "    .dataframe thead th {\n",
              "        text-align: right;\n",
              "    }\n",
              "</style>\n",
              "<table border=\"1\" class=\"dataframe\">\n",
              "  <thead>\n",
              "    <tr style=\"text-align: right;\">\n",
              "      <th></th>\n",
              "      <th>budget</th>\n",
              "      <th>crime</th>\n",
              "    </tr>\n",
              "  </thead>\n",
              "  <tbody>\n",
              "    <tr>\n",
              "      <th>0</th>\n",
              "      <td>0.0</td>\n",
              "      <td>1.0</td>\n",
              "    </tr>\n",
              "    <tr>\n",
              "      <th>1</th>\n",
              "      <td>0.0</td>\n",
              "      <td>1.0</td>\n",
              "    </tr>\n",
              "    <tr>\n",
              "      <th>2</th>\n",
              "      <td>1.0</td>\n",
              "      <td>1.0</td>\n",
              "    </tr>\n",
              "    <tr>\n",
              "      <th>3</th>\n",
              "      <td>1.0</td>\n",
              "      <td>0.0</td>\n",
              "    </tr>\n",
              "    <tr>\n",
              "      <th>4</th>\n",
              "      <td>1.0</td>\n",
              "      <td>1.0</td>\n",
              "    </tr>\n",
              "  </tbody>\n",
              "</table>\n",
              "</div>"
            ],
            "text/plain": [
              "   budget  crime\n",
              "0     0.0    1.0\n",
              "1     0.0    1.0\n",
              "2     1.0    1.0\n",
              "3     1.0    0.0\n",
              "4     1.0    1.0"
            ]
          },
          "metadata": {
            "tags": []
          },
          "execution_count": 16
        }
      ]
    },
    {
      "cell_type": "code",
      "metadata": {
        "id": "E_DHX-ba_ohJ",
        "colab_type": "code",
        "outputId": "3c41643d-fcf2-48ef-b1d7-5ceddfd4dd29",
        "colab": {
          "base_uri": "https://localhost:8080/",
          "height": 66
        }
      },
      "source": [
        "crime_by_budget['crime'].value_counts()"
      ],
      "execution_count": 17,
      "outputs": [
        {
          "output_type": "execute_result",
          "data": {
            "text/plain": [
              "1.0    248\n",
              "0.0    170\n",
              "Name: crime, dtype: int64"
            ]
          },
          "metadata": {
            "tags": []
          },
          "execution_count": 17
        }
      ]
    },
    {
      "cell_type": "code",
      "metadata": {
        "id": "q4a3nJr4_136",
        "colab_type": "code",
        "outputId": "15d31895-9bc2-4f54-bc93-739293337628",
        "colab": {
          "base_uri": "https://localhost:8080/",
          "height": 66
        }
      },
      "source": [
        "crime_by_budget['budget'].value_counts()"
      ],
      "execution_count": 18,
      "outputs": [
        {
          "output_type": "execute_result",
          "data": {
            "text/plain": [
              "1.0    253\n",
              "0.0    171\n",
              "Name: budget, dtype: int64"
            ]
          },
          "metadata": {
            "tags": []
          },
          "execution_count": 18
        }
      ]
    },
    {
      "cell_type": "code",
      "metadata": {
        "id": "bkS44vIq_7po",
        "colab_type": "code",
        "outputId": "64a6c1cf-27af-4607-b563-c7bde6044490",
        "colab": {
          "base_uri": "https://localhost:8080/",
          "height": 162
        }
      },
      "source": [
        "'''Contingency Table'''\n",
        "contingency_table = pd.crosstab(\n",
        "    crime_by_budget['crime'],\n",
        "    crime_by_budget['budget'],\n",
        "    margins = True)\n",
        "\n",
        "contingency_table"
      ],
      "execution_count": 19,
      "outputs": [
        {
          "output_type": "execute_result",
          "data": {
            "text/html": [
              "<div>\n",
              "<style scoped>\n",
              "    .dataframe tbody tr th:only-of-type {\n",
              "        vertical-align: middle;\n",
              "    }\n",
              "\n",
              "    .dataframe tbody tr th {\n",
              "        vertical-align: top;\n",
              "    }\n",
              "\n",
              "    .dataframe thead th {\n",
              "        text-align: right;\n",
              "    }\n",
              "</style>\n",
              "<table border=\"1\" class=\"dataframe\">\n",
              "  <thead>\n",
              "    <tr style=\"text-align: right;\">\n",
              "      <th>budget</th>\n",
              "      <th>0.0</th>\n",
              "      <th>1.0</th>\n",
              "      <th>All</th>\n",
              "    </tr>\n",
              "    <tr>\n",
              "      <th>crime</th>\n",
              "      <th></th>\n",
              "      <th></th>\n",
              "      <th></th>\n",
              "    </tr>\n",
              "  </thead>\n",
              "  <tbody>\n",
              "    <tr>\n",
              "      <th>0.0</th>\n",
              "      <td>8</td>\n",
              "      <td>158</td>\n",
              "      <td>166</td>\n",
              "    </tr>\n",
              "    <tr>\n",
              "      <th>1.0</th>\n",
              "      <td>158</td>\n",
              "      <td>85</td>\n",
              "      <td>243</td>\n",
              "    </tr>\n",
              "    <tr>\n",
              "      <th>All</th>\n",
              "      <td>166</td>\n",
              "      <td>243</td>\n",
              "      <td>409</td>\n",
              "    </tr>\n",
              "  </tbody>\n",
              "</table>\n",
              "</div>"
            ],
            "text/plain": [
              "budget  0.0  1.0  All\n",
              "crime                \n",
              "0.0       8  158  166\n",
              "1.0     158   85  243\n",
              "All     166  243  409"
            ]
          },
          "metadata": {
            "tags": []
          },
          "execution_count": 19
        }
      ]
    },
    {
      "cell_type": "code",
      "metadata": {
        "id": "sK3NjmWdBSLH",
        "colab_type": "code",
        "outputId": "aa66fe90-f536-453e-eac6-500718bca509",
        "colab": {
          "base_uri": "https://localhost:8080/",
          "height": 131
        }
      },
      "source": [
        "chi_squared, p_value, dof, expected = stats.chi2_contingency(contingency_table)\n",
        "\n",
        "print(f\"Chi-Squared: {chi_squared}\")\n",
        "print(f\"P-value: {p_value}\")\n",
        "print(f\"Degrees of Freedom: {dof}\") \n",
        "print(\"Expected: \\n\", np.array(expected))"
      ],
      "execution_count": 20,
      "outputs": [
        {
          "output_type": "stream",
          "text": [
            "Chi-Squared: 148.22963292716582\n",
            "P-value: 4.8760684435232275e-31\n",
            "Degrees of Freedom: 4\n",
            "Expected: \n",
            " [[ 67.37408313  98.62591687 166.        ]\n",
            " [ 98.62591687 144.37408313 243.        ]\n",
            " [166.         243.         409.        ]]\n"
          ],
          "name": "stdout"
        }
      ]
    },
    {
      "cell_type": "code",
      "metadata": {
        "id": "9Vu3SfDlC7k7",
        "colab_type": "code",
        "outputId": "4a5a9b10-836d-4b75-92c2-a4ca76236f21",
        "colab": {
          "base_uri": "https://localhost:8080/",
          "height": 33
        }
      },
      "source": [
        "p_value = stats.chi2.sf(chi_squared, dof)\n",
        "print(f\"P-value: {p_value}\")"
      ],
      "execution_count": 21,
      "outputs": [
        {
          "output_type": "stream",
          "text": [
            "P-value: 4.8760684435232275e-31\n"
          ],
          "name": "stdout"
        }
      ]
    },
    {
      "cell_type": "code",
      "metadata": {
        "id": "WMP-CYe_Du0T",
        "colab_type": "code",
        "colab": {}
      },
      "source": [
        "Given a p-value of 4.9^-31 I failed to reject the null hypothosis."
      ],
      "execution_count": 0,
      "outputs": []
    },
    {
      "cell_type": "markdown",
      "metadata": {
        "id": "4ohsJhQUmEuS",
        "colab_type": "text"
      },
      "source": [
        "## Stretch goals:\n",
        "\n",
        "1. Write a summary of your findings, mixing prose and math/code/results. *Note* - yes, this is by definition a political topic. It is challenging but important to keep your writing voice *neutral* and stick to the facts of the data. Data science often involves considering controversial issues, so it's important to be sensitive about them (especially if you want to publish).\n",
        "2. Apply the techniques you learned today to your project data or other data of your choice, and write/discuss your findings here.\n",
        "3. Refactor your code so it is elegant, readable, and can be easily run for all issues."
      ]
    },
    {
      "cell_type": "markdown",
      "metadata": {
        "id": "nyJ3ySr7R2k9",
        "colab_type": "text"
      },
      "source": [
        "## Resources\n",
        "\n",
        "- [Interactive visualize the Chi-Squared test](https://homepage.divms.uiowa.edu/~mbognar/applets/chisq.html)\n",
        "- [Calculation of Chi-Squared test statistic](https://en.wikipedia.org/wiki/Pearson%27s_chi-squared_test)\n",
        "- [Visualization of a confidence interval generated by R code](https://commons.wikimedia.org/wiki/File:Confidence-interval.svg)\n",
        "- [Expected value of a squared standard normal](https://math.stackexchange.com/questions/264061/expected-value-calculation-for-squared-normal-distribution) (it's 1 - which is why the expected value of a Chi-Squared with $n$ degrees of freedom is $n$, as it's the sum of $n$ squared standard normals)"
      ]
    }
  ]
}