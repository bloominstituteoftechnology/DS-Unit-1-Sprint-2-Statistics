{
 "cells": [
  {
   "cell_type": "markdown",
   "id": "d36817b6",
   "metadata": {
    "deletable": false,
    "editable": false,
    "nbgrader": {
     "cell_type": "markdown",
     "checksum": "c0522dcce6a20ae4add6f69c2e7e6ef0",
     "grade": false,
     "grade_id": "cell-b0b49f9f926867f8",
     "locked": true,
     "schema_version": 3,
     "solution": false,
     "task": false
    }
   },
   "source": [
    "## Autograded Notebook (Canvas & CodeGrade)\n",
    "\n",
    "This notebook will be automatically graded. It is designed to test your answers and award points for the correct answers. Following the instructions for each Task carefully.\n",
    "\n",
    "### Instructions\n",
    "\n",
    "* **Download this notebook** as you would any other ipynb file\n",
    "* **Upload** to Google Colab or work locally (if you have that set-up)\n",
    "* **Delete `raise NotImplementedError()`**\n",
    "* Write your code in the `# YOUR CODE HERE` space\n",
    "* **Execute** the Test cells that contain `assert` statements - these help you check your work (others contain hidden tests that will be checked when you submit through Canvas)\n",
    "* **Save** your notebook when you are finished\n",
    "* **Download** as a `ipynb` file (if working in Colab)\n",
    "* **Upload** your complete notebook to Canvas (there will be additional instructions in Slack and/or Canvas)"
   ]
  },
  {
   "cell_type": "markdown",
   "id": "0be47fcc",
   "metadata": {
    "deletable": false,
    "editable": false,
    "id": "838Dmw1kM2LK",
    "nbgrader": {
     "cell_type": "markdown",
     "checksum": "8ae9418aac3d807ac1e024a458406319",
     "grade": false,
     "grade_id": "cell-850fe73663fc4035",
     "locked": true,
     "schema_version": 3,
     "solution": false,
     "task": false
    }
   },
   "source": [
    "# Unit 1 Sprint 2 Module 1\n",
    "\n",
    "## Hypothesis Testing and Confidence Intervals\n",
    "\n",
    "### Objectives\n",
    "\n",
    "* Explain the purpose of a t-test and identify applications\n",
    "* Use a t-test for independence to test for a statistically significant association between two categorical variables\n",
    "* Use a t-test p-value to draw the correct conclusions about the null and alternative hypothesis\n",
    "* Demonstrate how to build a confidence interval around a sample estimate\n",
    "\n",
    "#### Total notebook points: 15"
   ]
  },
  {
   "cell_type": "markdown",
   "id": "99baa709",
   "metadata": {
    "deletable": false,
    "editable": false,
    "id": "XvoOHjnMR42h",
    "nbgrader": {
     "cell_type": "markdown",
     "checksum": "8c02956842522279917992dbbad84209",
     "grade": false,
     "grade_id": "cell-d7f9eaf9af7312af",
     "locked": true,
     "schema_version": 3,
     "solution": false,
     "task": false
    }
   },
   "source": [
    "### Introduction\n",
    "\n",
    "Mosquito nets have traditionally been an important tool to prevent mosquito bites in parts of the world where malaria is endemic. However, it may not be practical for an army that is on the move to set up and carry mosquito nets each night and day. Impregnating soldiers’ uniforms with insect repellent solves the mobility problem but also has drawbacks. First, the insect repellent quickly becomes ineffective with repeated washing and ironing and must be frequently reapplied. Second, in hot and humid climates the insect repellent can be absorbed through the skin, and the long-term effects of this exposure are unknown. One compromise is to have soldiers apply patches treated with insect repellent to their clothing. These patches would last longer because they would not be washed or ironed and would not expose the entire body to the insect repellent.\n",
    "\n",
    "### Dataset Description\n",
    "\n",
    "The `Mosquito.xlsx` dataset contains data recorded in an experiment conducted on male soldiers in the Indian Army who were stationed in the Tezpur/Solmara garrison in Northeast India. Thirty soldiers were randomly selected to receive one of three types of mosquito single repellent patch. After giving informed consent, the study participants affixed the patches at predetermined points on their uniforms and research assistants (who were blinded to the type of repellent used) counted the number of times a mosquito landed on each individual in an hour. \n",
    "\n",
    "Medical officers with the Indian Army have recorded data on mosquito bites and related illness for many years and can say with authority that the mean number of mosquito touches for soldiers not wearing any mosquito repellent is 8.2 per hour. **We wish to determine if wearing a single repellent patch changes the mean number of mosquito touches for soldiers compared to not wearing any mosquito repellent.**\n",
    "\n",
    "*Adapted from: A. Bhatnagar and V.K. Mehta (2007). \"Efficacy of Deltamethrin and Cyfluthrin Impregnated Cloth Over Uniform Against Mosquito Bites,\" Medical Journal Armed Forces India, Vol. 63, pp. 120-122.*"
   ]
  },
  {
   "cell_type": "markdown",
   "id": "00a91ed3",
   "metadata": {
    "id": "GDZhZik3FQmx"
   },
   "source": [
    "**Task 1** - Load the data\n",
    "\n",
    "Let's load the data! The URL has been provided as well as the imports for pandas and numpy.\n",
    "\n",
    "* load your CSV file into a DataFrame named `df_mosquito`"
   ]
  },
  {
   "cell_type": "code",
   "execution_count": null,
   "id": "c9e33b2f",
   "metadata": {
    "colab": {
     "base_uri": "https://localhost:8080/",
     "height": 204
    },
    "deletable": false,
    "id": "-5ubUxGnTn6k",
    "nbgrader": {
     "cell_type": "code",
     "checksum": "a79cf5edca9e94a4824036e800f7a3e3",
     "grade": false,
     "grade_id": "cell-dae3789e00dd9b29",
     "locked": false,
     "schema_version": 3,
     "solution": true,
     "task": false
    },
    "outputId": "1a595008-3bb7-430d-c0ed-1889ba49e124"
   },
   "outputs": [],
   "source": [
    "# Task 1\n",
    "import pandas as pd\n",
    "import numpy as np\n",
    "\n",
    "# URL for the dataset\n",
    "data_url = 'https://raw.githubusercontent.com/bloominstituteoftechnology/data-science-practice-datasets/main/unit_1/Mosquito/Mosquito.csv'\n",
    "\n",
    "# YOUR CODE HERE\n",
    "raise NotImplementedError()\n",
    "\n",
    "# Print out your DataFrame\n",
    "df_mosquito.head()"
   ]
  },
  {
   "cell_type": "markdown",
   "id": "c717f3b7",
   "metadata": {
    "id": "1RY9e-T_FQmz"
   },
   "source": [
    "**Task 1 Test**"
   ]
  },
  {
   "cell_type": "code",
   "execution_count": null,
   "id": "88358833",
   "metadata": {
    "deletable": false,
    "editable": false,
    "id": "AOQZ8K_6FQmz",
    "nbgrader": {
     "cell_type": "code",
     "checksum": "f554f6a993c5e6159020716a3c7a13da",
     "grade": true,
     "grade_id": "cell-a347d8dd7572e6d4",
     "locked": true,
     "points": 1,
     "schema_version": 3,
     "solution": false,
     "task": false
    }
   },
   "outputs": [],
   "source": [
    "# Task 1 - Test\n",
    "\n",
    "assert isinstance(df_mosquito, pd.DataFrame), 'Have you created a DataFrame named `df_mosquito`?'\n",
    "assert len(df_mosquito) == 90\n"
   ]
  },
  {
   "cell_type": "markdown",
   "id": "8d173936",
   "metadata": {
    "id": "9cEe4HiqFQm0"
   },
   "source": [
    "**Task 2** - Calculate the mean\n",
    "\n",
    "* Calculate the mean number of mosquito touches in the sample. Assign your answer to the variable `mosquito_touch_mean`."
   ]
  },
  {
   "cell_type": "code",
   "execution_count": null,
   "id": "013eb9b3",
   "metadata": {
    "deletable": false,
    "id": "27r_eZsrFQm0",
    "nbgrader": {
     "cell_type": "code",
     "checksum": "4d113283ed2cdf039a1455d22e8e9207",
     "grade": false,
     "grade_id": "cell-22ced5cd2cae6230",
     "locked": false,
     "schema_version": 3,
     "solution": true,
     "task": false
    }
   },
   "outputs": [],
   "source": [
    "# Task 2\n",
    "\n",
    "# YOUR CODE HERE\n",
    "raise NotImplementedError()"
   ]
  },
  {
   "cell_type": "markdown",
   "id": "31a8a97f",
   "metadata": {
    "id": "ZSnEfbUbFQm0"
   },
   "source": [
    "**Task 2 Test**"
   ]
  },
  {
   "cell_type": "code",
   "execution_count": null,
   "id": "2041964a",
   "metadata": {
    "deletable": false,
    "editable": false,
    "id": "JcRrAtPEFQm0",
    "nbgrader": {
     "cell_type": "code",
     "checksum": "8bea9ae9e6958ffeead2d66e89babaf0",
     "grade": true,
     "grade_id": "cell-3970fbb1a3eaefb5",
     "locked": true,
     "points": 1,
     "schema_version": 3,
     "solution": false,
     "task": false
    }
   },
   "outputs": [],
   "source": [
    "# Task 2 - Test\n",
    "# Hidden tests - you will see the results when you submit to Canvas"
   ]
  },
  {
   "cell_type": "markdown",
   "id": "442de71c",
   "metadata": {
    "id": "VwfMz7VAFQm1"
   },
   "source": [
    "**Task 3** - Calculate the standard deviation\n",
    "\n",
    "* Calculate the standard deviation of the number of mosquito touches in the sample. Assign your answer to `mosquito_touch_std`."
   ]
  },
  {
   "cell_type": "code",
   "execution_count": null,
   "id": "6e97da90",
   "metadata": {
    "deletable": false,
    "id": "zTCFeDauFQm1",
    "nbgrader": {
     "cell_type": "code",
     "checksum": "b965071216ba36fb9ade446d69244ff3",
     "grade": false,
     "grade_id": "cell-9c4fe58a9fe2d7aa",
     "locked": false,
     "schema_version": 3,
     "solution": true,
     "task": false
    }
   },
   "outputs": [],
   "source": [
    "# Task 3\n",
    "\n",
    "# YOUR CODE HERE\n",
    "raise NotImplementedError()"
   ]
  },
  {
   "cell_type": "markdown",
   "id": "43777220",
   "metadata": {
    "id": "7YboOb58FQm1"
   },
   "source": [
    "**Task 3 Test**"
   ]
  },
  {
   "cell_type": "code",
   "execution_count": null,
   "id": "353947fe",
   "metadata": {
    "deletable": false,
    "editable": false,
    "id": "qjWEPFj7FQm1",
    "nbgrader": {
     "cell_type": "code",
     "checksum": "30bf26cced1f6b808e0532055f033799",
     "grade": true,
     "grade_id": "cell-4939c4289c39b4e3",
     "locked": true,
     "points": 1,
     "schema_version": 3,
     "solution": false,
     "task": false
    }
   },
   "outputs": [],
   "source": [
    "# Task 3 - Test\n",
    "# Hidden tests - you will see the results when you submit to Canvas"
   ]
  },
  {
   "cell_type": "markdown",
   "id": "634e6618",
   "metadata": {
    "id": "jPmpfULFFQmz"
   },
   "source": [
    "**Task 4 -** Statistical hypotheses\n",
    "\n",
    "From the list of choices below, select the null and alternative hypotheses using the experiment information described above.  Specify your answer in the next code block using `Answer = `.  For example, if the correct answer is choice B, you'll type `Answer = 'B'`.\n",
    "\n",
    "A: $H_0: \\mu = 8$ vs. $H_a: \\mu = 8$\n",
    "\n",
    "B: $H_0: \\mu \\neq 8.2$ vs. $H_a: \\mu = 8$\n",
    "\n",
    "C: $H_0: \\mu \\neq 8.2$ vs. $H_a: \\mu = 8.2$ \n",
    "\n",
    "D: $H_0: \\mu =8.2$ vs. $H_a: \\mu \\neq 8.2$ "
   ]
  },
  {
   "cell_type": "code",
   "execution_count": null,
   "id": "d4581a1b",
   "metadata": {
    "deletable": false,
    "id": "AhGVMf2tK2LF",
    "nbgrader": {
     "cell_type": "code",
     "checksum": "06c7e97d50b75b54924a09d17e82d495",
     "grade": false,
     "grade_id": "cell-5ab063cfe94f3929",
     "locked": false,
     "schema_version": 3,
     "solution": true,
     "task": false
    }
   },
   "outputs": [],
   "source": [
    "# Task 4\n",
    "\n",
    "# YOUR CODE HERE\n",
    "raise NotImplementedError()\n"
   ]
  },
  {
   "cell_type": "markdown",
   "id": "def25ea2",
   "metadata": {
    "id": "kbd9KuumLBxO"
   },
   "source": [
    "**Task 4 Test**"
   ]
  },
  {
   "cell_type": "code",
   "execution_count": null,
   "id": "358d99ea",
   "metadata": {
    "deletable": false,
    "editable": false,
    "nbgrader": {
     "cell_type": "code",
     "checksum": "724a4e64b91e739831d60360689acf9d",
     "grade": true,
     "grade_id": "cell-085e920bd147cbab",
     "locked": true,
     "points": 1,
     "schema_version": 3,
     "solution": false,
     "task": false
    }
   },
   "outputs": [],
   "source": [
    "# Task 4 - Test\n",
    "# Hidden tests - you will see the results when you submit to Canvas"
   ]
  },
  {
   "cell_type": "markdown",
   "id": "f98b9a8d",
   "metadata": {
    "id": "grU76-AUFQm1"
   },
   "source": [
    "**Task 5** - One-sample t-test\n",
    "\n",
    "* Conduct a 1-sample t-test to test your hypotheses. Assign your t-test result to the variable `mosquito_pval`. **This should be a single value**.\n",
    "\n",
    "*Hint: The `stats.ttest_1samp()` function returns two values; assign the results of the t-test to `_, mosquito_pval`.*"
   ]
  },
  {
   "cell_type": "code",
   "execution_count": null,
   "id": "51a9e13d",
   "metadata": {
    "deletable": false,
    "id": "-wTk5Y1hFQm1",
    "nbgrader": {
     "cell_type": "code",
     "checksum": "25e7202a6ae1680c595093a5087476be",
     "grade": false,
     "grade_id": "cell-44b3f2a39081c5df",
     "locked": false,
     "schema_version": 3,
     "solution": true,
     "task": false
    }
   },
   "outputs": [],
   "source": [
    "# Task 5\n",
    "\n",
    "# Use the 'ttest_1samp' from the stats package\n",
    "from scipy import stats\n",
    "\n",
    "# YOUR CODE HERE\n",
    "raise NotImplementedError()"
   ]
  },
  {
   "cell_type": "markdown",
   "id": "45cacd2a",
   "metadata": {
    "id": "MaBqJCZcFQm2"
   },
   "source": [
    "**Task 5 Test**"
   ]
  },
  {
   "cell_type": "code",
   "execution_count": null,
   "id": "59da1760",
   "metadata": {
    "deletable": false,
    "editable": false,
    "id": "Mz-vEAVbFQm2",
    "nbgrader": {
     "cell_type": "code",
     "checksum": "45c898a9757574de9cd38e2ae37012db",
     "grade": true,
     "grade_id": "cell-3be2eb1f16e366e6",
     "locked": true,
     "points": 1,
     "schema_version": 3,
     "solution": false,
     "task": false
    }
   },
   "outputs": [],
   "source": [
    "# Task 5 - Tests\n",
    "# Hidden tests - you will see the results when you submit to Canvas"
   ]
  },
  {
   "cell_type": "markdown",
   "id": "ff2bb6b6",
   "metadata": {
    "id": "EcHLBuBVFQm2"
   },
   "source": [
    "**Task 6**\n",
    "\n",
    "Select the correct conclusion at the 0.05 significance level from the list of choices below. Specify your answer in the next code block using `Answer = `.  For example, if the correct answer is choice B, you'll type `Answer = 'B'`.\n",
    "\n",
    "A: We reject the null hypothesis at the 0.05 significance level and can conclude that a single repellant patch reduces the mean number of mosquito touches.\n",
    "\n",
    "B: We fail to reject the null hypothesis at the 0.05 significance level and can conclude that a single repellant patch reduces the mean number of mosquito touches.\n",
    "\n",
    "C: We fail to reject the null hypothesis at the 0.05 significance level and can conclude that a single repellant patch does not change the mean number of mosquito touches.\n",
    "\n",
    "D: We reject the null hypothesis at the 0.05 significance level and conclude that a single repellant patch does not increase the mean number of mosquito touches.\n"
   ]
  },
  {
   "cell_type": "code",
   "execution_count": null,
   "id": "499664f7",
   "metadata": {
    "deletable": false,
    "id": "2VqMVLj0MjZu",
    "nbgrader": {
     "cell_type": "code",
     "checksum": "fee35d38a664491e0b999d701e3701d2",
     "grade": false,
     "grade_id": "cell-4d35984ef163c5e1",
     "locked": false,
     "schema_version": 3,
     "solution": true,
     "task": false
    }
   },
   "outputs": [],
   "source": [
    "# Task 6\n",
    "\n",
    "# YOUR CODE HERE\n",
    "raise NotImplementedError()\n"
   ]
  },
  {
   "cell_type": "markdown",
   "id": "d429ad61",
   "metadata": {
    "id": "kn461ny8MjZ7"
   },
   "source": [
    "**Task 6 Test**"
   ]
  },
  {
   "cell_type": "code",
   "execution_count": null,
   "id": "0002c409",
   "metadata": {
    "deletable": false,
    "editable": false,
    "nbgrader": {
     "cell_type": "code",
     "checksum": "ad35703935e3b0e2f96dd48d25a770f9",
     "grade": true,
     "grade_id": "cell-2f182809a44a91f5",
     "locked": true,
     "points": 1,
     "schema_version": 3,
     "solution": false,
     "task": false
    }
   },
   "outputs": [],
   "source": [
    "# Task 6 - Test\n",
    "# Hidden tests - you will see the results when you submit to Canvas"
   ]
  },
  {
   "cell_type": "markdown",
   "id": "dc267ec5",
   "metadata": {
    "deletable": false,
    "editable": false,
    "id": "RySL5E7GEHGf",
    "nbgrader": {
     "cell_type": "markdown",
     "checksum": "daad642bb585216ea19c098313597fb7",
     "grade": false,
     "grade_id": "cell-6952a8ebafd0181d",
     "locked": true,
     "schema_version": 3,
     "solution": false,
     "task": false
    }
   },
   "source": [
    "**Task 7** - Calculate t*\n",
    "\n",
    "For this task you will calculate t* for a 95% confidence interval.\n",
    "\n",
    "* set the variable `deg_free` equal to the degrees of freedom for the `df_moquito` variable\n",
    "* set the variable `t_star` equal to t* using `t.ppf(q, df)` with `q=0.975` and `df = deg_free`\n",
    "\n",
    "Note: Don't worry about where the 0.975 value comes from - it relates to finding the *middle* of the 95% t-distribution. We're going to learn how to calculate the 95% confidence interval an easier way in the next exercise."
   ]
  },
  {
   "cell_type": "code",
   "execution_count": null,
   "id": "abd5d487",
   "metadata": {
    "colab": {
     "base_uri": "https://localhost:8080/",
     "height": 34
    },
    "deletable": false,
    "id": "ti9x37XSQ_yL",
    "nbgrader": {
     "cell_type": "code",
     "checksum": "b08d9536e9b60c927f898f00b93ca9dd",
     "grade": false,
     "grade_id": "cell-ab557b231ecefc1d",
     "locked": false,
     "schema_version": 3,
     "solution": true,
     "task": false
    },
    "outputId": "e13e76d4-c05c-449e-cd23-94a6098ea24f"
   },
   "outputs": [],
   "source": [
    "# Task 7\n",
    "\n",
    "from scipy.stats import t\n",
    "\n",
    "# YOUR CODE HERE\n",
    "raise NotImplementedError()\n",
    "\n",
    "# View your answer\n",
    "print('t_star =', t_star)"
   ]
  },
  {
   "cell_type": "markdown",
   "id": "fe7e9953",
   "metadata": {
    "id": "R3JcXISZWWK0"
   },
   "source": [
    "**Task 7 - Test**"
   ]
  },
  {
   "cell_type": "code",
   "execution_count": null,
   "id": "001c927a",
   "metadata": {
    "deletable": false,
    "editable": false,
    "id": "xAxHIgQdWWK0",
    "nbgrader": {
     "cell_type": "code",
     "checksum": "6f802bf71a5c31f48c58553c3d15c8c2",
     "grade": true,
     "grade_id": "cell-ea70eb8f030c2f57",
     "locked": true,
     "points": 1,
     "schema_version": 3,
     "solution": false,
     "task": false
    }
   },
   "outputs": [],
   "source": [
    "# Task 7 Test\n",
    "# Hidden tests - you will see the results when you submit to Canvas"
   ]
  },
  {
   "cell_type": "markdown",
   "id": "9f473fdc",
   "metadata": {
    "id": "AddooPk1JBvQ"
   },
   "source": [
    "**Task 8** - Margin of error\n",
    "\n",
    "In this task you'll calculate the margin of error for a 95% confidence interval (CI) for the mean number of mosquito touches.\n",
    "\n",
    "* Assign the margin of error for a 95% CI to the variable `margin_err`\n",
    "\n",
    "Hint: You already have the value for t* for a 95% CI and the standard error"
   ]
  },
  {
   "cell_type": "code",
   "execution_count": null,
   "id": "34b902ad",
   "metadata": {
    "colab": {
     "base_uri": "https://localhost:8080/",
     "height": 34
    },
    "deletable": false,
    "id": "IjjYtXodJW-b",
    "nbgrader": {
     "cell_type": "code",
     "checksum": "c87df787063907867c40926b4ce6d55a",
     "grade": false,
     "grade_id": "cell-fe91f19c7d908552",
     "locked": false,
     "schema_version": 3,
     "solution": true,
     "task": false
    },
    "outputId": "d926c0a2-32e5-4da3-d909-fa276115fc73"
   },
   "outputs": [],
   "source": [
    "# Task 8\n",
    "\n",
    "# YOUR CODE HERE\n",
    "raise NotImplementedError()\n",
    "\n",
    "# View your answer\n",
    "print('Margin of error = ', margin_err)"
   ]
  },
  {
   "cell_type": "markdown",
   "id": "575fa967",
   "metadata": {
    "id": "Q5j-gZGFWWK0"
   },
   "source": [
    "**Task 8 - Test**"
   ]
  },
  {
   "cell_type": "code",
   "execution_count": null,
   "id": "d92e4204",
   "metadata": {
    "deletable": false,
    "editable": false,
    "id": "8FBGOirjWWK0",
    "nbgrader": {
     "cell_type": "code",
     "checksum": "145519d2ffe739dbfb7feeb376167586",
     "grade": true,
     "grade_id": "cell-2258dd78f578b1be",
     "locked": true,
     "points": 1,
     "schema_version": 3,
     "solution": false,
     "task": false
    }
   },
   "outputs": [],
   "source": [
    "# Task 8 Test\n",
    "# Hidden tests - you will see the results when you submit to Canvas"
   ]
  },
  {
   "cell_type": "markdown",
   "id": "e837404b",
   "metadata": {
    "id": "AtGASqgxYp5t"
   },
   "source": [
    "**Task 9** - Calculate a confidence interval\n",
    "\n",
    "For this task, you are going to calculate a 95% CI for the number of mosquito touches with the CI formula using the summary statistics and t* that you calculated above.\n",
    "\n",
    "* Calculate the lower confidence level and assign it to `lower_cl`\n",
    "* Calculate the upper confidence level and assign it to `upper_cl`"
   ]
  },
  {
   "cell_type": "code",
   "execution_count": null,
   "id": "edcbaeaa",
   "metadata": {
    "colab": {
     "base_uri": "https://localhost:8080/",
     "height": 51
    },
    "deletable": false,
    "id": "JPUE0osGEw0M",
    "nbgrader": {
     "cell_type": "code",
     "checksum": "4c6eb65dfef01522bab05c61cd2a8c2b",
     "grade": false,
     "grade_id": "cell-2ee7b7b25af4e5fc",
     "locked": false,
     "schema_version": 3,
     "solution": true,
     "task": false
    },
    "outputId": "49ede524-1a89-400d-c404-1141a7b9faea"
   },
   "outputs": [],
   "source": [
    "# Task 9\n",
    "\n",
    "# YOUR CODE HERE\n",
    "raise NotImplementedError()\n",
    "\n",
    "# View your answers\n",
    "print ('Lower confidence limit =', lower_cl)\n",
    "print ('Upper confidence limit =', upper_cl)"
   ]
  },
  {
   "cell_type": "markdown",
   "id": "d519602c",
   "metadata": {
    "id": "K6sx4862WWK2"
   },
   "source": [
    "**Task 9 - Test**"
   ]
  },
  {
   "cell_type": "code",
   "execution_count": null,
   "id": "a46f2656",
   "metadata": {
    "deletable": false,
    "editable": false,
    "id": "yhvJ-oCnWWK2",
    "nbgrader": {
     "cell_type": "code",
     "checksum": "11a183934efa764f005fb9a54a6a6bc9",
     "grade": true,
     "grade_id": "cell-8ea440c5365e886d",
     "locked": true,
     "points": 1,
     "schema_version": 3,
     "solution": false,
     "task": false
    }
   },
   "outputs": [],
   "source": [
    "# Task 9 Test\n",
    "# Hidden tests - you will see the results when you submit to Canvas"
   ]
  },
  {
   "cell_type": "markdown",
   "id": "ece17753",
   "metadata": {
    "id": "ENcdv9_4WWK2"
   },
   "source": [
    "**Task 9** - ANSWER\n",
    "\n",
    "Write out the confidence interval you just calculated. Use the following format:\n",
    "\n",
    "*Example: We are 95% confident that the true mean of the mosquito touches is between [lower CL, upper CL]*\n",
    "\n",
    "This task will not be autograded - but it is part of completing the project.\n",
    "\n",
    "YOUR ANSWER"
   ]
  },
  {
   "cell_type": "markdown",
   "id": "9963566c",
   "metadata": {
    "id": "gAKJlaMyEzVz"
   },
   "source": [
    "**Task 10** - 95% confidence interval using t-interval\n",
    "\n",
    "As promised in Task 4, we're going to calculate the confidence interval the easy way. We'll use the `t.interval()` function to calculate the 95% confidence interval.\n",
    "\n",
    "* Assign the confidence interval to `t_int_95`\n",
    "* `confidence` should be set equal to the confidence level\n",
    "* `df` is the degrees of freedom\n",
    "* `loc` is the sample mean\n",
    "* `scale` is the standard error of the distribution"
   ]
  },
  {
   "cell_type": "code",
   "execution_count": null,
   "id": "ea813621",
   "metadata": {
    "colab": {
     "base_uri": "https://localhost:8080/",
     "height": 34
    },
    "deletable": false,
    "id": "GSo4uKWVFKwQ",
    "nbgrader": {
     "cell_type": "code",
     "checksum": "eca4a4202dda807f8746075ddf33a105",
     "grade": false,
     "grade_id": "cell-305db71f92847f07",
     "locked": false,
     "schema_version": 3,
     "solution": true,
     "task": false
    },
    "outputId": "325da6d4-cdf2-4223-b0a6-bbc2b97a9684"
   },
   "outputs": [],
   "source": [
    "# Task 10\n",
    "\n",
    "# YOUR CODE HERE\n",
    "raise NotImplementedError()\n",
    "\n",
    "# View your answer\n",
    "print(t_int_95)"
   ]
  },
  {
   "cell_type": "markdown",
   "id": "c98d3024",
   "metadata": {
    "id": "GAA1UyYAWWK2"
   },
   "source": [
    "**Task 10 - Test**"
   ]
  },
  {
   "cell_type": "code",
   "execution_count": null,
   "id": "5fddf03b",
   "metadata": {
    "deletable": false,
    "editable": false,
    "id": "D1L2kNVBWWK3",
    "nbgrader": {
     "cell_type": "code",
     "checksum": "a8644ceb00dcd9f987563b714ac7d571",
     "grade": true,
     "grade_id": "cell-752d977ae5d519c5",
     "locked": true,
     "points": 1,
     "schema_version": 3,
     "solution": false,
     "task": false
    }
   },
   "outputs": [],
   "source": [
    "# Task 10 Test\n",
    "\n",
    "# Hidden tests - you will see the results when you submit to Canvas"
   ]
  },
  {
   "cell_type": "code",
   "execution_count": null,
   "id": "4ccd39b4",
   "metadata": {},
   "outputs": [],
   "source": []
  },
  {
   "cell_type": "markdown",
   "id": "411899ee",
   "metadata": {
    "deletable": false,
    "editable": false,
    "id": "FGnFRSjRqG9s",
    "nbgrader": {
     "cell_type": "markdown",
     "checksum": "ad8a1d13c0f9b95cd0f2d8035ec27376",
     "grade": false,
     "grade_id": "cell-63ba9f9efdc2301d",
     "locked": true,
     "schema_version": 3,
     "solution": false,
     "task": false
    }
   },
   "source": [
    "## Use the following information to complete Tasks 11-15\n",
    "\n",
    "### Introduction\n",
    "\n",
    "More than 14,000 people finished the 2020 Disney Marathon held on January 12. The results by age and gender group are included in the `Disney.csv dataset`. \n",
    "\n",
    "**We wish to determine if the mean finishing time for male and female marathon runners is the same or if there is a difference in the mean finishing time between male and female marathon runners.**\n",
    "\n",
    "\n",
    "[Source: Track Shack. 2020 Disney Marathon Race Results](https://www.trackshackresults.com/disneysports/results/wdw/wdw20/mar_results.php)"
   ]
  },
  {
   "cell_type": "markdown",
   "id": "00aef906",
   "metadata": {
    "id": "FKI1CcBFFQm2"
   },
   "source": [
    "**Task 11** - Load the next dataset\n",
    "\n",
    "Let's load the data! The URL has been provided.\n",
    "\n",
    "* load your CSV file into a DataFrame named `df_disney`"
   ]
  },
  {
   "cell_type": "code",
   "execution_count": null,
   "id": "3b42f5e2",
   "metadata": {
    "deletable": false,
    "id": "KIpOQrHytz2P",
    "nbgrader": {
     "cell_type": "code",
     "checksum": "6651ca18d093b560a1ce528e0f6ccfa4",
     "grade": false,
     "grade_id": "cell-2b389fa658a51cd2",
     "locked": false,
     "schema_version": 3,
     "solution": true,
     "task": false
    }
   },
   "outputs": [],
   "source": [
    "# Task 11\n",
    "import pandas as pd\n",
    "# URL for Disney marathon dataset\n",
    "data_url2 = 'https://raw.githubusercontent.com/bloominstituteoftechnology/data-science-practice-datasets/main/unit_1/Disney_Marathon/Disney.csv'\n",
    "\n",
    "# YOUR CODE HERE\n",
    "raise NotImplementedError()"
   ]
  },
  {
   "cell_type": "markdown",
   "id": "e69b6d6f",
   "metadata": {
    "id": "Qiwzz_nfFQm3"
   },
   "source": [
    "**Task 11 Test**"
   ]
  },
  {
   "cell_type": "code",
   "execution_count": null,
   "id": "bfed9ab9",
   "metadata": {
    "deletable": false,
    "editable": false,
    "id": "uV3GQJqKFQm3",
    "nbgrader": {
     "cell_type": "code",
     "checksum": "1e11aa618954c71a8ecbaa9068dc293e",
     "grade": true,
     "grade_id": "cell-c1f16b75c543e0d1",
     "locked": true,
     "points": 1,
     "schema_version": 3,
     "solution": false,
     "task": false
    }
   },
   "outputs": [],
   "source": [
    "# Task 11 - Test\n",
    "\n",
    "assert isinstance(df_disney, pd.DataFrame), 'Have you created a DataFrame named `df_disney`?'\n",
    "assert len(df_disney) == 14106\n"
   ]
  },
  {
   "cell_type": "markdown",
   "id": "451d8c3e",
   "metadata": {
    "id": "RvxaZUrbNXvY"
   },
   "source": [
    "**Task 12 -** Statistical hypotheses\n",
    "\n",
    "From the list of choices below, select the null and alternative hypotheses using the experiment information described above.  Let $\\mu_1$ be the mean finishing time for all male runners and $\\mu_2$ be the mean finishing time for all female runners.\n",
    "\n",
    "Specify your answer in the next code block using `Answer = `.  For example, if the correct answer is choice B, you'll type `Answer = 'B'`.\n",
    "\n",
    "A: $H_0: \\mu_1 \\neq \\mu_2$ vs. $H_a: \\mu_1 = \\mu_2$\n",
    "\n",
    "B: $H_0: \\mu_1 = \\mu_2$ vs. $H_a: \\mu_1 \\neq \\mu_2$\n",
    "\n",
    "C: $H_0: \\mu_1 > \\mu_2$ vs. $H_a: \\mu_1 < \\mu_2$ \n",
    "\n",
    "D: $H_0: \\mu_1 <  \\mu_2$ vs. $H_a: \\mu_1 > \\mu_2$ "
   ]
  },
  {
   "cell_type": "code",
   "execution_count": null,
   "id": "7938e569",
   "metadata": {
    "deletable": false,
    "id": "9SnqedsaNXvb",
    "nbgrader": {
     "cell_type": "code",
     "checksum": "8b55ebb058634c2ca444ea75f70b8a0f",
     "grade": false,
     "grade_id": "cell-de36ef90faad17d8",
     "locked": false,
     "schema_version": 3,
     "solution": true,
     "task": false
    }
   },
   "outputs": [],
   "source": [
    "# Task 12\n",
    "\n",
    "# YOUR CODE HERE\n",
    "raise NotImplementedError()\n"
   ]
  },
  {
   "cell_type": "markdown",
   "id": "2142b352",
   "metadata": {
    "id": "jGLHnEkjNXvb"
   },
   "source": [
    "**Task 12 Test**"
   ]
  },
  {
   "cell_type": "code",
   "execution_count": null,
   "id": "9f09d885",
   "metadata": {
    "deletable": false,
    "editable": false,
    "nbgrader": {
     "cell_type": "code",
     "checksum": "2465957f46e718b4937e9f60c4e774c4",
     "grade": true,
     "grade_id": "cell-492e80f1f416b2c9",
     "locked": true,
     "points": 1,
     "schema_version": 3,
     "solution": false,
     "task": false
    }
   },
   "outputs": [],
   "source": [
    "# Task 12 - Test\n",
    "# Hidden tests - you will see the results when you submit to Canvas"
   ]
  },
  {
   "cell_type": "markdown",
   "id": "9398b546",
   "metadata": {
    "id": "z8iVyfsxFQm3"
   },
   "source": [
    "**Task 13** - Create new series from a DataFrame\n",
    "\n",
    "Create **Series** (a pandas DataFrame column is a Series):\n",
    "\n",
    "* one containing finishing times for male participants (`male_finish`)\n",
    "* one containing finishing times for female participants (`female_finish`)\n",
    "\n",
    "*Hint: Check the size of your resulting Series - it should have only one column!*"
   ]
  },
  {
   "cell_type": "code",
   "execution_count": null,
   "id": "4de6bdaa",
   "metadata": {
    "deletable": false,
    "id": "jKzFL1O4FQm3",
    "nbgrader": {
     "cell_type": "code",
     "checksum": "840a7f161be5dbbe02d60b71d38d40ec",
     "grade": false,
     "grade_id": "cell-4290d3dd2f668a25",
     "locked": false,
     "schema_version": 3,
     "solution": true,
     "task": false
    }
   },
   "outputs": [],
   "source": [
    "# Task 13\n",
    "\n",
    "# YOUR CODE HERE\n",
    "raise NotImplementedError()"
   ]
  },
  {
   "cell_type": "markdown",
   "id": "955f0f6e",
   "metadata": {
    "id": "jR0BQZDOFQm4"
   },
   "source": [
    "**Task 13 Test**"
   ]
  },
  {
   "cell_type": "code",
   "execution_count": null,
   "id": "d80a008c",
   "metadata": {
    "deletable": false,
    "editable": false,
    "id": "HX6vIdPVFQm4",
    "nbgrader": {
     "cell_type": "code",
     "checksum": "e157750b6b1971bf4af4fe8e598ed2af",
     "grade": true,
     "grade_id": "cell-5384320ccd7f5048",
     "locked": true,
     "points": 1,
     "schema_version": 3,
     "solution": false,
     "task": false
    }
   },
   "outputs": [],
   "source": [
    "# Task 13 - Test\n",
    "# Visible testing - use this to check your results!\n",
    "assert male_finish.shape == (6577,), 'Make sure you selected M and only have a single column.'\n",
    "assert female_finish.shape == (7529,), 'Make sure you selected F and only have a single column'\n",
    "\n",
    "# NO hidden tests"
   ]
  },
  {
   "cell_type": "markdown",
   "id": "04d3ea98",
   "metadata": {
    "id": "H4WjCOrLFQm6"
   },
   "source": [
    "**Task 14** - Conduct a 2-sample t-test\n",
    "\n",
    "Conduct a 2-sample t-test to test your hypotheses:\n",
    "\n",
    "* Assign the t-statistic to a variable called `disney_tval`\n",
    "* Assign the p-value to a variable called `disney_pval`\n",
    "\n",
    "**Note:** The function returns two values and you can assign them with one line (example):\n",
    "\n",
    "`variable1, variable2` = `some.function(arguments)`"
   ]
  },
  {
   "cell_type": "code",
   "execution_count": null,
   "id": "59c82aec",
   "metadata": {
    "deletable": false,
    "id": "8jfpPCjWFQm6",
    "nbgrader": {
     "cell_type": "code",
     "checksum": "9108a1760ffc347774291203d1e75c76",
     "grade": false,
     "grade_id": "cell-d391e7e149994d87",
     "locked": false,
     "schema_version": 3,
     "solution": true,
     "task": false
    }
   },
   "outputs": [],
   "source": [
    "# Task 14\n",
    "\n",
    "# YOUR CODE HERE\n",
    "raise NotImplementedError()"
   ]
  },
  {
   "cell_type": "markdown",
   "id": "688f52d0",
   "metadata": {
    "id": "JDESTg77FQm6"
   },
   "source": [
    "**Task 14 Test**"
   ]
  },
  {
   "cell_type": "code",
   "execution_count": null,
   "id": "5ad892f1",
   "metadata": {
    "deletable": false,
    "editable": false,
    "id": "bgKW-YmNFQm6",
    "nbgrader": {
     "cell_type": "code",
     "checksum": "a56b4bc92315dea957acd13d8857e6d4",
     "grade": true,
     "grade_id": "cell-35a1e3947ac6388a",
     "locked": true,
     "points": 1,
     "schema_version": 3,
     "solution": false,
     "task": false
    }
   },
   "outputs": [],
   "source": [
    "# Task 14 - Test\n",
    "# Hidden tests - you will see the results when you submit to Canvas"
   ]
  },
  {
   "cell_type": "markdown",
   "id": "bdd58f68",
   "metadata": {
    "id": "nusDTdXxOyUB"
   },
   "source": [
    "**Task 15**\n",
    "\n",
    "Select the correct conclusion at the 0.05 significance level from the list of choices below. Specify your answer in the next code block using `Answer = `.  For example, if the correct answer is choice B, you'll type `Answer = 'B'`.\n",
    "\n",
    "A: We reject the null hypothesis at the 0.05 significance level and conclude the mean finishing time for male and female marathon runners is different.\n",
    "\n",
    "B: We fail to reject the null hypothesis at the 0.05 significance level and conclude the mean finishing time for male and female marathon runners is different.\n",
    "\n",
    "C: We reject the null hypothesis at the 0.05 significance level and conclude the mean finishing time for male and female marathon runners is the same.\n",
    "\n",
    "D: We fail to reject the null hypothesis at the 0.05 significance level and conclude the mean finishing time for male and female marathon runners is the same.\n"
   ]
  },
  {
   "cell_type": "code",
   "execution_count": null,
   "id": "c9e205a3",
   "metadata": {
    "deletable": false,
    "id": "d5n9MhFFOyUN",
    "nbgrader": {
     "cell_type": "code",
     "checksum": "9c9ea647b4d57c857af1fe31b1c1753f",
     "grade": false,
     "grade_id": "cell-66e19643f07fb7af",
     "locked": false,
     "schema_version": 3,
     "solution": true,
     "task": false
    }
   },
   "outputs": [],
   "source": [
    "# Task 15\n",
    "\n",
    "# YOUR CODE HERE\n",
    "raise NotImplementedError()\n"
   ]
  },
  {
   "cell_type": "markdown",
   "id": "1fc40e1a",
   "metadata": {
    "id": "DWAMbt2VOyUN"
   },
   "source": [
    "**Task 15 Test**"
   ]
  },
  {
   "cell_type": "code",
   "execution_count": null,
   "id": "6c5e86fb",
   "metadata": {
    "deletable": false,
    "editable": false,
    "nbgrader": {
     "cell_type": "code",
     "checksum": "fc2a93c6b6ecaffb10aa8c6467b8d347",
     "grade": true,
     "grade_id": "cell-d166fbea62c826e8",
     "locked": true,
     "points": 1,
     "schema_version": 3,
     "solution": false,
     "task": false
    }
   },
   "outputs": [],
   "source": [
    "# Task 15 - Test\n",
    "# Hidden tests - you will see the results when you submit to Canvas"
   ]
  },
  {
   "cell_type": "code",
   "execution_count": null,
   "id": "7d4f81b3",
   "metadata": {},
   "outputs": [],
   "source": []
  }
 ],
 "metadata": {
  "kernelspec": {
   "display_name": "Python 3",
   "language": "python",
   "name": "python3"
  },
  "language_info": {
   "codemirror_mode": {
    "name": "ipython",
    "version": 3
   },
   "file_extension": ".py",
   "mimetype": "text/x-python",
   "name": "python",
   "nbconvert_exporter": "python",
   "pygments_lexer": "ipython3",
   "version": "3.8.8"
  }
 },
 "nbformat": 4,
 "nbformat_minor": 5
}
